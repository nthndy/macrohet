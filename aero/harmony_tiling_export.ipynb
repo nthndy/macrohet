{
 "cells": [
  {
   "cell_type": "markdown",
   "id": "d75a8321",
   "metadata": {},
   "source": [
    "# Exporting image volumes from Harmony\n",
    "\n",
    "This notebook is designed to take the raw export from the Harmony software and tile the individual images together into a mosaic, both across time and the z-axis, and export that as a multichannel .TIFF image for movie creation in FIJI or _Napari_. \n",
    "\n"
   ]
  },
  {
   "cell_type": "code",
   "execution_count": null,
   "id": "969fff73",
   "metadata": {},
   "outputs": [],
   "source": [
    "!pip install octopuslite"
   ]
  },
  {
   "cell_type": "code",
   "execution_count": 1,
   "id": "0b23a6ef",
   "metadata": {},
   "outputs": [],
   "source": [
    "from octopuslite import tile"
   ]
  },
  {
   "cell_type": "markdown",
   "id": "c6f5ee5d",
   "metadata": {},
   "source": [
    "### Find images\n",
    "\n",
    "The images will be in the folder labelled `Images`. Please input the path to these images below."
   ]
  },
  {
   "cell_type": "code",
   "execution_count": null,
   "id": "60602fde",
   "metadata": {},
   "outputs": [],
   "source": [
    "image_directory = '/mnt/DATA/sandbox/pierre_live_cell_data/outputs/Replication_IPSDM_GFP/Images/'"
   ]
  },
  {
   "cell_type": "markdown",
   "id": "66bfc27c",
   "metadata": {},
   "source": [
    "### Loading metadata\n",
    "\n",
    "The metadata file should match the filepattern `Index.idx.xml`. Please input the path to this metadata file below."
   ]
  },
  {
   "cell_type": "code",
   "execution_count": null,
   "id": "b40b11ec",
   "metadata": {},
   "outputs": [],
   "source": [
    "metadata_file_path = '/mnt/DATA/sandbox/pierre_live_cell_data/outputs/Replication_IPSDM_GFP/Index.idx.xml'"
   ]
  },
  {
   "cell_type": "markdown",
   "id": "2b79c936",
   "metadata": {},
   "source": [
    "# Now run the mosaic compilation"
   ]
  },
  {
   "cell_type": "code",
   "execution_count": null,
   "id": "80c1db24",
   "metadata": {
    "scrolled": true
   },
   "outputs": [
    {
     "name": "stdout",
     "output_type": "stream",
     "text": [
      "138402 image files found\n",
      "Reading metadata XML file...\n"
     ]
    },
    {
     "data": {
      "application/vnd.jupyter.widget-view+json": {
       "model_id": "b183f090829a44539c7e2e23b18227d3",
       "version_major": 2,
       "version_minor": 0
      },
      "text/plain": [
       "Extracting HarmonyV5 metadata:   0%|          | 0/113400 [00:00<?, ?it/s]"
      ]
     },
     "metadata": {},
     "output_type": "display_data"
    },
    {
     "name": "stdout",
     "output_type": "stream",
     "text": [
      "Extracting metadata complete!\n",
      "Position index and (row,column): 0 (3, 4)\n",
      "Position index and (row,column): 1 (4, 3)\n",
      "Position index and (row,column): 2 (4, 9)\n",
      "Position index and (row,column): 3 (3, 7)\n",
      "Position index and (row,column): 4 (5, 4)\n",
      "Position index and (row,column): 5 (4, 6)\n",
      "Position index and (row,column): 6 (3, 10)\n",
      "Position index and (row,column): 7 (5, 7)\n",
      "Position index and (row,column): 8 (6, 5)\n",
      "Position index and (row,column): 9 (6, 8)\n",
      "Position index and (row,column): 10 (4, 5)\n",
      "Position index and (row,column): 11 (3, 3)\n",
      "Position index and (row,column): 12 (3, 9)\n",
      "Position index and (row,column): 13 (5, 6)\n",
      "Position index and (row,column): 14 (4, 8)\n",
      "Position index and (row,column): 15 (3, 6)\n",
      "Position index and (row,column): 16 (5, 9)\n",
      "Position index and (row,column): 17 (6, 4)\n",
      "Position index and (row,column): 18 (6, 7)\n",
      "Position index and (row,column): 19 (4, 7)\n",
      "Position index and (row,column): 20 (3, 5)\n",
      "Position index and (row,column): 21 (4, 4)\n",
      "Position index and (row,column): 22 (4, 10)\n",
      "Position index and (row,column): 23 (3, 8)\n",
      "Position index and (row,column): 24 (5, 5)\n",
      "Position index and (row,column): 25 (5, 8)\n",
      "Position index and (row,column): 26 (6, 6)\n",
      "Position index and (row,column): 27 (6, 9)\n",
      "Enter the row number you want:\n",
      "3\n",
      "Enter the column number you want:\n",
      "4\n",
      "Enter the output directory, or enter for Desktop output\n",
      "/home/dayn/Desktop/test_output_final\n"
     ]
    },
    {
     "data": {
      "application/vnd.jupyter.widget-view+json": {
       "model_id": "440ed1520f9447df8e0258def6b29e24",
       "version_major": 2,
       "version_minor": 0
      },
      "text/plain": [
       "Timepoint progress:   0%|          | 0/75 [00:00<?, ?it/s]"
      ]
     },
     "metadata": {},
     "output_type": "display_data"
    },
    {
     "data": {
      "application/vnd.jupyter.widget-view+json": {
       "model_id": "",
       "version_major": 2,
       "version_minor": 0
      },
      "text/plain": [
       "Channel progress:   0%|          | 0/2 [00:00<?, ?it/s]"
      ]
     },
     "metadata": {},
     "output_type": "display_data"
    },
    {
     "data": {
      "application/vnd.jupyter.widget-view+json": {
       "model_id": "",
       "version_major": 2,
       "version_minor": 0
      },
      "text/plain": [
       "Z-slice progress:   0%|          | 0/3 [00:00<?, ?it/s]"
      ]
     },
     "metadata": {},
     "output_type": "display_data"
    },
    {
     "name": "stderr",
     "output_type": "stream",
     "text": [
      "/home/dayn/analysis/octopuslite-reader/octopuslite/tile.py:308: SettingWithCopyWarning: \n",
      "A value is trying to be set on a copy of a slice from a DataFrame.\n",
      "Try using .loc[row_indexer,col_indexer] = value instead\n",
      "\n",
      "See the caveats in the documentation: https://pandas.pydata.org/pandas-docs/stable/user_guide/indexing.html#returning-a-view-versus-a-copy\n",
      "  coords['PositionXPix'] = (coords['PositionX'].astype(float))/(coords['ImageResolutionX']).astype(float)\n",
      "/home/dayn/analysis/octopuslite-reader/octopuslite/tile.py:309: SettingWithCopyWarning: \n",
      "A value is trying to be set on a copy of a slice from a DataFrame.\n",
      "Try using .loc[row_indexer,col_indexer] = value instead\n",
      "\n",
      "See the caveats in the documentation: https://pandas.pydata.org/pandas-docs/stable/user_guide/indexing.html#returning-a-view-versus-a-copy\n",
      "  coords['PositionYPix'] = (coords['PositionY'].astype(float))/(coords['ImageResolutionY']).astype(float)\n",
      "/home/dayn/analysis/octopuslite-reader/octopuslite/tile.py:338: ShapelyDeprecationWarning: Setting custom attributes on geometry objects is deprecated, and will raise an AttributeError in Shapely 2.0\n",
      "  tile_shifted_shapely.fuse_info = {'file':file,\n",
      "/home/dayn/analysis/octopuslite-reader/octopuslite/tile.py:342: ShapelyDeprecationWarning: Setting custom attributes on geometry objects is deprecated, and will raise an AttributeError in Shapely 2.0\n",
      "  chunk_shapely.fuse_info = {'chunk_boundary': chunk_boundary}\n",
      "/home/dayn/analysis/octopuslite-reader/octopuslite/tile.py:73: UserWarning: /home/dayn/Desktop/test_output_final/image_t000000_c0001_z0001.tiff is a low contrast image\n",
      "  imsave(output_path, frame)\n",
      "/home/dayn/analysis/octopuslite-reader/octopuslite/tile.py:308: SettingWithCopyWarning: \n",
      "A value is trying to be set on a copy of a slice from a DataFrame.\n",
      "Try using .loc[row_indexer,col_indexer] = value instead\n",
      "\n",
      "See the caveats in the documentation: https://pandas.pydata.org/pandas-docs/stable/user_guide/indexing.html#returning-a-view-versus-a-copy\n",
      "  coords['PositionXPix'] = (coords['PositionX'].astype(float))/(coords['ImageResolutionX']).astype(float)\n",
      "/home/dayn/analysis/octopuslite-reader/octopuslite/tile.py:309: SettingWithCopyWarning: \n",
      "A value is trying to be set on a copy of a slice from a DataFrame.\n",
      "Try using .loc[row_indexer,col_indexer] = value instead\n",
      "\n",
      "See the caveats in the documentation: https://pandas.pydata.org/pandas-docs/stable/user_guide/indexing.html#returning-a-view-versus-a-copy\n",
      "  coords['PositionYPix'] = (coords['PositionY'].astype(float))/(coords['ImageResolutionY']).astype(float)\n",
      "/home/dayn/analysis/octopuslite-reader/octopuslite/tile.py:338: ShapelyDeprecationWarning: Setting custom attributes on geometry objects is deprecated, and will raise an AttributeError in Shapely 2.0\n",
      "  tile_shifted_shapely.fuse_info = {'file':file,\n",
      "/home/dayn/analysis/octopuslite-reader/octopuslite/tile.py:342: ShapelyDeprecationWarning: Setting custom attributes on geometry objects is deprecated, and will raise an AttributeError in Shapely 2.0\n",
      "  chunk_shapely.fuse_info = {'chunk_boundary': chunk_boundary}\n",
      "/home/dayn/analysis/octopuslite-reader/octopuslite/tile.py:73: UserWarning: /home/dayn/Desktop/test_output_final/image_t000000_c0001_z0002.tiff is a low contrast image\n",
      "  imsave(output_path, frame)\n",
      "/home/dayn/analysis/octopuslite-reader/octopuslite/tile.py:308: SettingWithCopyWarning: \n",
      "A value is trying to be set on a copy of a slice from a DataFrame.\n",
      "Try using .loc[row_indexer,col_indexer] = value instead\n",
      "\n",
      "See the caveats in the documentation: https://pandas.pydata.org/pandas-docs/stable/user_guide/indexing.html#returning-a-view-versus-a-copy\n",
      "  coords['PositionXPix'] = (coords['PositionX'].astype(float))/(coords['ImageResolutionX']).astype(float)\n",
      "/home/dayn/analysis/octopuslite-reader/octopuslite/tile.py:309: SettingWithCopyWarning: \n",
      "A value is trying to be set on a copy of a slice from a DataFrame.\n",
      "Try using .loc[row_indexer,col_indexer] = value instead\n",
      "\n",
      "See the caveats in the documentation: https://pandas.pydata.org/pandas-docs/stable/user_guide/indexing.html#returning-a-view-versus-a-copy\n",
      "  coords['PositionYPix'] = (coords['PositionY'].astype(float))/(coords['ImageResolutionY']).astype(float)\n",
      "/home/dayn/analysis/octopuslite-reader/octopuslite/tile.py:338: ShapelyDeprecationWarning: Setting custom attributes on geometry objects is deprecated, and will raise an AttributeError in Shapely 2.0\n",
      "  tile_shifted_shapely.fuse_info = {'file':file,\n",
      "/home/dayn/analysis/octopuslite-reader/octopuslite/tile.py:342: ShapelyDeprecationWarning: Setting custom attributes on geometry objects is deprecated, and will raise an AttributeError in Shapely 2.0\n",
      "  chunk_shapely.fuse_info = {'chunk_boundary': chunk_boundary}\n",
      "/home/dayn/analysis/octopuslite-reader/octopuslite/tile.py:73: UserWarning: /home/dayn/Desktop/test_output_final/image_t000000_c0001_z0003.tiff is a low contrast image\n",
      "  imsave(output_path, frame)\n"
     ]
    },
    {
     "data": {
      "application/vnd.jupyter.widget-view+json": {
       "model_id": "",
       "version_major": 2,
       "version_minor": 0
      },
      "text/plain": [
       "Z-slice progress:   0%|          | 0/3 [00:00<?, ?it/s]"
      ]
     },
     "metadata": {},
     "output_type": "display_data"
    },
    {
     "name": "stderr",
     "output_type": "stream",
     "text": [
      "/home/dayn/analysis/octopuslite-reader/octopuslite/tile.py:308: SettingWithCopyWarning: \n",
      "A value is trying to be set on a copy of a slice from a DataFrame.\n",
      "Try using .loc[row_indexer,col_indexer] = value instead\n",
      "\n",
      "See the caveats in the documentation: https://pandas.pydata.org/pandas-docs/stable/user_guide/indexing.html#returning-a-view-versus-a-copy\n",
      "  coords['PositionXPix'] = (coords['PositionX'].astype(float))/(coords['ImageResolutionX']).astype(float)\n",
      "/home/dayn/analysis/octopuslite-reader/octopuslite/tile.py:309: SettingWithCopyWarning: \n",
      "A value is trying to be set on a copy of a slice from a DataFrame.\n",
      "Try using .loc[row_indexer,col_indexer] = value instead\n",
      "\n",
      "See the caveats in the documentation: https://pandas.pydata.org/pandas-docs/stable/user_guide/indexing.html#returning-a-view-versus-a-copy\n",
      "  coords['PositionYPix'] = (coords['PositionY'].astype(float))/(coords['ImageResolutionY']).astype(float)\n",
      "/home/dayn/analysis/octopuslite-reader/octopuslite/tile.py:338: ShapelyDeprecationWarning: Setting custom attributes on geometry objects is deprecated, and will raise an AttributeError in Shapely 2.0\n",
      "  tile_shifted_shapely.fuse_info = {'file':file,\n",
      "/home/dayn/analysis/octopuslite-reader/octopuslite/tile.py:342: ShapelyDeprecationWarning: Setting custom attributes on geometry objects is deprecated, and will raise an AttributeError in Shapely 2.0\n",
      "  chunk_shapely.fuse_info = {'chunk_boundary': chunk_boundary}\n",
      "/home/dayn/analysis/octopuslite-reader/octopuslite/tile.py:73: UserWarning: /home/dayn/Desktop/test_output_final/image_t000000_c0002_z0001.tiff is a low contrast image\n",
      "  imsave(output_path, frame)\n",
      "/home/dayn/analysis/octopuslite-reader/octopuslite/tile.py:308: SettingWithCopyWarning: \n",
      "A value is trying to be set on a copy of a slice from a DataFrame.\n",
      "Try using .loc[row_indexer,col_indexer] = value instead\n",
      "\n",
      "See the caveats in the documentation: https://pandas.pydata.org/pandas-docs/stable/user_guide/indexing.html#returning-a-view-versus-a-copy\n",
      "  coords['PositionXPix'] = (coords['PositionX'].astype(float))/(coords['ImageResolutionX']).astype(float)\n",
      "/home/dayn/analysis/octopuslite-reader/octopuslite/tile.py:309: SettingWithCopyWarning: \n",
      "A value is trying to be set on a copy of a slice from a DataFrame.\n",
      "Try using .loc[row_indexer,col_indexer] = value instead\n",
      "\n",
      "See the caveats in the documentation: https://pandas.pydata.org/pandas-docs/stable/user_guide/indexing.html#returning-a-view-versus-a-copy\n",
      "  coords['PositionYPix'] = (coords['PositionY'].astype(float))/(coords['ImageResolutionY']).astype(float)\n",
      "/home/dayn/analysis/octopuslite-reader/octopuslite/tile.py:338: ShapelyDeprecationWarning: Setting custom attributes on geometry objects is deprecated, and will raise an AttributeError in Shapely 2.0\n",
      "  tile_shifted_shapely.fuse_info = {'file':file,\n",
      "/home/dayn/analysis/octopuslite-reader/octopuslite/tile.py:342: ShapelyDeprecationWarning: Setting custom attributes on geometry objects is deprecated, and will raise an AttributeError in Shapely 2.0\n",
      "  chunk_shapely.fuse_info = {'chunk_boundary': chunk_boundary}\n",
      "/home/dayn/analysis/octopuslite-reader/octopuslite/tile.py:73: UserWarning: /home/dayn/Desktop/test_output_final/image_t000000_c0002_z0002.tiff is a low contrast image\n",
      "  imsave(output_path, frame)\n",
      "/home/dayn/analysis/octopuslite-reader/octopuslite/tile.py:308: SettingWithCopyWarning: \n",
      "A value is trying to be set on a copy of a slice from a DataFrame.\n",
      "Try using .loc[row_indexer,col_indexer] = value instead\n",
      "\n",
      "See the caveats in the documentation: https://pandas.pydata.org/pandas-docs/stable/user_guide/indexing.html#returning-a-view-versus-a-copy\n",
      "  coords['PositionXPix'] = (coords['PositionX'].astype(float))/(coords['ImageResolutionX']).astype(float)\n",
      "/home/dayn/analysis/octopuslite-reader/octopuslite/tile.py:309: SettingWithCopyWarning: \n",
      "A value is trying to be set on a copy of a slice from a DataFrame.\n",
      "Try using .loc[row_indexer,col_indexer] = value instead\n",
      "\n",
      "See the caveats in the documentation: https://pandas.pydata.org/pandas-docs/stable/user_guide/indexing.html#returning-a-view-versus-a-copy\n",
      "  coords['PositionYPix'] = (coords['PositionY'].astype(float))/(coords['ImageResolutionY']).astype(float)\n",
      "/home/dayn/analysis/octopuslite-reader/octopuslite/tile.py:338: ShapelyDeprecationWarning: Setting custom attributes on geometry objects is deprecated, and will raise an AttributeError in Shapely 2.0\n",
      "  tile_shifted_shapely.fuse_info = {'file':file,\n",
      "/home/dayn/analysis/octopuslite-reader/octopuslite/tile.py:342: ShapelyDeprecationWarning: Setting custom attributes on geometry objects is deprecated, and will raise an AttributeError in Shapely 2.0\n",
      "  chunk_shapely.fuse_info = {'chunk_boundary': chunk_boundary}\n",
      "/home/dayn/analysis/octopuslite-reader/octopuslite/tile.py:73: UserWarning: /home/dayn/Desktop/test_output_final/image_t000000_c0002_z0003.tiff is a low contrast image\n",
      "  imsave(output_path, frame)\n"
     ]
    },
    {
     "data": {
      "application/vnd.jupyter.widget-view+json": {
       "model_id": "",
       "version_major": 2,
       "version_minor": 0
      },
      "text/plain": [
       "Channel progress:   0%|          | 0/2 [00:00<?, ?it/s]"
      ]
     },
     "metadata": {},
     "output_type": "display_data"
    },
    {
     "data": {
      "application/vnd.jupyter.widget-view+json": {
       "model_id": "",
       "version_major": 2,
       "version_minor": 0
      },
      "text/plain": [
       "Z-slice progress:   0%|          | 0/3 [00:00<?, ?it/s]"
      ]
     },
     "metadata": {},
     "output_type": "display_data"
    },
    {
     "name": "stderr",
     "output_type": "stream",
     "text": [
      "/home/dayn/analysis/octopuslite-reader/octopuslite/tile.py:308: SettingWithCopyWarning: \n",
      "A value is trying to be set on a copy of a slice from a DataFrame.\n",
      "Try using .loc[row_indexer,col_indexer] = value instead\n",
      "\n",
      "See the caveats in the documentation: https://pandas.pydata.org/pandas-docs/stable/user_guide/indexing.html#returning-a-view-versus-a-copy\n",
      "  coords['PositionXPix'] = (coords['PositionX'].astype(float))/(coords['ImageResolutionX']).astype(float)\n",
      "/home/dayn/analysis/octopuslite-reader/octopuslite/tile.py:309: SettingWithCopyWarning: \n",
      "A value is trying to be set on a copy of a slice from a DataFrame.\n",
      "Try using .loc[row_indexer,col_indexer] = value instead\n",
      "\n",
      "See the caveats in the documentation: https://pandas.pydata.org/pandas-docs/stable/user_guide/indexing.html#returning-a-view-versus-a-copy\n",
      "  coords['PositionYPix'] = (coords['PositionY'].astype(float))/(coords['ImageResolutionY']).astype(float)\n",
      "/home/dayn/analysis/octopuslite-reader/octopuslite/tile.py:338: ShapelyDeprecationWarning: Setting custom attributes on geometry objects is deprecated, and will raise an AttributeError in Shapely 2.0\n",
      "  tile_shifted_shapely.fuse_info = {'file':file,\n",
      "/home/dayn/analysis/octopuslite-reader/octopuslite/tile.py:342: ShapelyDeprecationWarning: Setting custom attributes on geometry objects is deprecated, and will raise an AttributeError in Shapely 2.0\n",
      "  chunk_shapely.fuse_info = {'chunk_boundary': chunk_boundary}\n",
      "/home/dayn/analysis/octopuslite-reader/octopuslite/tile.py:73: UserWarning: /home/dayn/Desktop/test_output_final/image_t000001_c0001_z0001.tiff is a low contrast image\n",
      "  imsave(output_path, frame)\n",
      "/home/dayn/analysis/octopuslite-reader/octopuslite/tile.py:308: SettingWithCopyWarning: \n",
      "A value is trying to be set on a copy of a slice from a DataFrame.\n",
      "Try using .loc[row_indexer,col_indexer] = value instead\n",
      "\n",
      "See the caveats in the documentation: https://pandas.pydata.org/pandas-docs/stable/user_guide/indexing.html#returning-a-view-versus-a-copy\n",
      "  coords['PositionXPix'] = (coords['PositionX'].astype(float))/(coords['ImageResolutionX']).astype(float)\n",
      "/home/dayn/analysis/octopuslite-reader/octopuslite/tile.py:309: SettingWithCopyWarning: \n",
      "A value is trying to be set on a copy of a slice from a DataFrame.\n",
      "Try using .loc[row_indexer,col_indexer] = value instead\n",
      "\n",
      "See the caveats in the documentation: https://pandas.pydata.org/pandas-docs/stable/user_guide/indexing.html#returning-a-view-versus-a-copy\n",
      "  coords['PositionYPix'] = (coords['PositionY'].astype(float))/(coords['ImageResolutionY']).astype(float)\n",
      "/home/dayn/analysis/octopuslite-reader/octopuslite/tile.py:338: ShapelyDeprecationWarning: Setting custom attributes on geometry objects is deprecated, and will raise an AttributeError in Shapely 2.0\n",
      "  tile_shifted_shapely.fuse_info = {'file':file,\n",
      "/home/dayn/analysis/octopuslite-reader/octopuslite/tile.py:342: ShapelyDeprecationWarning: Setting custom attributes on geometry objects is deprecated, and will raise an AttributeError in Shapely 2.0\n",
      "  chunk_shapely.fuse_info = {'chunk_boundary': chunk_boundary}\n",
      "/home/dayn/analysis/octopuslite-reader/octopuslite/tile.py:73: UserWarning: /home/dayn/Desktop/test_output_final/image_t000001_c0001_z0002.tiff is a low contrast image\n",
      "  imsave(output_path, frame)\n",
      "/home/dayn/analysis/octopuslite-reader/octopuslite/tile.py:308: SettingWithCopyWarning: \n",
      "A value is trying to be set on a copy of a slice from a DataFrame.\n",
      "Try using .loc[row_indexer,col_indexer] = value instead\n",
      "\n",
      "See the caveats in the documentation: https://pandas.pydata.org/pandas-docs/stable/user_guide/indexing.html#returning-a-view-versus-a-copy\n",
      "  coords['PositionXPix'] = (coords['PositionX'].astype(float))/(coords['ImageResolutionX']).astype(float)\n",
      "/home/dayn/analysis/octopuslite-reader/octopuslite/tile.py:309: SettingWithCopyWarning: \n",
      "A value is trying to be set on a copy of a slice from a DataFrame.\n",
      "Try using .loc[row_indexer,col_indexer] = value instead\n",
      "\n",
      "See the caveats in the documentation: https://pandas.pydata.org/pandas-docs/stable/user_guide/indexing.html#returning-a-view-versus-a-copy\n",
      "  coords['PositionYPix'] = (coords['PositionY'].astype(float))/(coords['ImageResolutionY']).astype(float)\n",
      "/home/dayn/analysis/octopuslite-reader/octopuslite/tile.py:338: ShapelyDeprecationWarning: Setting custom attributes on geometry objects is deprecated, and will raise an AttributeError in Shapely 2.0\n",
      "  tile_shifted_shapely.fuse_info = {'file':file,\n",
      "/home/dayn/analysis/octopuslite-reader/octopuslite/tile.py:342: ShapelyDeprecationWarning: Setting custom attributes on geometry objects is deprecated, and will raise an AttributeError in Shapely 2.0\n",
      "  chunk_shapely.fuse_info = {'chunk_boundary': chunk_boundary}\n",
      "/home/dayn/analysis/octopuslite-reader/octopuslite/tile.py:73: UserWarning: /home/dayn/Desktop/test_output_final/image_t000001_c0001_z0003.tiff is a low contrast image\n",
      "  imsave(output_path, frame)\n"
     ]
    },
    {
     "data": {
      "application/vnd.jupyter.widget-view+json": {
       "model_id": "",
       "version_major": 2,
       "version_minor": 0
      },
      "text/plain": [
       "Z-slice progress:   0%|          | 0/3 [00:00<?, ?it/s]"
      ]
     },
     "metadata": {},
     "output_type": "display_data"
    },
    {
     "name": "stderr",
     "output_type": "stream",
     "text": [
      "/home/dayn/analysis/octopuslite-reader/octopuslite/tile.py:308: SettingWithCopyWarning: \n",
      "A value is trying to be set on a copy of a slice from a DataFrame.\n",
      "Try using .loc[row_indexer,col_indexer] = value instead\n",
      "\n",
      "See the caveats in the documentation: https://pandas.pydata.org/pandas-docs/stable/user_guide/indexing.html#returning-a-view-versus-a-copy\n",
      "  coords['PositionXPix'] = (coords['PositionX'].astype(float))/(coords['ImageResolutionX']).astype(float)\n",
      "/home/dayn/analysis/octopuslite-reader/octopuslite/tile.py:309: SettingWithCopyWarning: \n",
      "A value is trying to be set on a copy of a slice from a DataFrame.\n",
      "Try using .loc[row_indexer,col_indexer] = value instead\n",
      "\n",
      "See the caveats in the documentation: https://pandas.pydata.org/pandas-docs/stable/user_guide/indexing.html#returning-a-view-versus-a-copy\n",
      "  coords['PositionYPix'] = (coords['PositionY'].astype(float))/(coords['ImageResolutionY']).astype(float)\n",
      "/home/dayn/analysis/octopuslite-reader/octopuslite/tile.py:338: ShapelyDeprecationWarning: Setting custom attributes on geometry objects is deprecated, and will raise an AttributeError in Shapely 2.0\n",
      "  tile_shifted_shapely.fuse_info = {'file':file,\n",
      "/home/dayn/analysis/octopuslite-reader/octopuslite/tile.py:342: ShapelyDeprecationWarning: Setting custom attributes on geometry objects is deprecated, and will raise an AttributeError in Shapely 2.0\n",
      "  chunk_shapely.fuse_info = {'chunk_boundary': chunk_boundary}\n",
      "/home/dayn/analysis/octopuslite-reader/octopuslite/tile.py:73: UserWarning: /home/dayn/Desktop/test_output_final/image_t000001_c0002_z0001.tiff is a low contrast image\n",
      "  imsave(output_path, frame)\n",
      "/home/dayn/analysis/octopuslite-reader/octopuslite/tile.py:308: SettingWithCopyWarning: \n",
      "A value is trying to be set on a copy of a slice from a DataFrame.\n",
      "Try using .loc[row_indexer,col_indexer] = value instead\n",
      "\n",
      "See the caveats in the documentation: https://pandas.pydata.org/pandas-docs/stable/user_guide/indexing.html#returning-a-view-versus-a-copy\n",
      "  coords['PositionXPix'] = (coords['PositionX'].astype(float))/(coords['ImageResolutionX']).astype(float)\n",
      "/home/dayn/analysis/octopuslite-reader/octopuslite/tile.py:309: SettingWithCopyWarning: \n",
      "A value is trying to be set on a copy of a slice from a DataFrame.\n",
      "Try using .loc[row_indexer,col_indexer] = value instead\n",
      "\n",
      "See the caveats in the documentation: https://pandas.pydata.org/pandas-docs/stable/user_guide/indexing.html#returning-a-view-versus-a-copy\n",
      "  coords['PositionYPix'] = (coords['PositionY'].astype(float))/(coords['ImageResolutionY']).astype(float)\n",
      "/home/dayn/analysis/octopuslite-reader/octopuslite/tile.py:338: ShapelyDeprecationWarning: Setting custom attributes on geometry objects is deprecated, and will raise an AttributeError in Shapely 2.0\n",
      "  tile_shifted_shapely.fuse_info = {'file':file,\n",
      "/home/dayn/analysis/octopuslite-reader/octopuslite/tile.py:342: ShapelyDeprecationWarning: Setting custom attributes on geometry objects is deprecated, and will raise an AttributeError in Shapely 2.0\n",
      "  chunk_shapely.fuse_info = {'chunk_boundary': chunk_boundary}\n",
      "/home/dayn/analysis/octopuslite-reader/octopuslite/tile.py:73: UserWarning: /home/dayn/Desktop/test_output_final/image_t000001_c0002_z0002.tiff is a low contrast image\n",
      "  imsave(output_path, frame)\n",
      "/home/dayn/analysis/octopuslite-reader/octopuslite/tile.py:308: SettingWithCopyWarning: \n",
      "A value is trying to be set on a copy of a slice from a DataFrame.\n",
      "Try using .loc[row_indexer,col_indexer] = value instead\n",
      "\n",
      "See the caveats in the documentation: https://pandas.pydata.org/pandas-docs/stable/user_guide/indexing.html#returning-a-view-versus-a-copy\n",
      "  coords['PositionXPix'] = (coords['PositionX'].astype(float))/(coords['ImageResolutionX']).astype(float)\n",
      "/home/dayn/analysis/octopuslite-reader/octopuslite/tile.py:309: SettingWithCopyWarning: \n",
      "A value is trying to be set on a copy of a slice from a DataFrame.\n",
      "Try using .loc[row_indexer,col_indexer] = value instead\n",
      "\n",
      "See the caveats in the documentation: https://pandas.pydata.org/pandas-docs/stable/user_guide/indexing.html#returning-a-view-versus-a-copy\n",
      "  coords['PositionYPix'] = (coords['PositionY'].astype(float))/(coords['ImageResolutionY']).astype(float)\n",
      "/home/dayn/analysis/octopuslite-reader/octopuslite/tile.py:338: ShapelyDeprecationWarning: Setting custom attributes on geometry objects is deprecated, and will raise an AttributeError in Shapely 2.0\n",
      "  tile_shifted_shapely.fuse_info = {'file':file,\n",
      "/home/dayn/analysis/octopuslite-reader/octopuslite/tile.py:342: ShapelyDeprecationWarning: Setting custom attributes on geometry objects is deprecated, and will raise an AttributeError in Shapely 2.0\n",
      "  chunk_shapely.fuse_info = {'chunk_boundary': chunk_boundary}\n",
      "/home/dayn/analysis/octopuslite-reader/octopuslite/tile.py:73: UserWarning: /home/dayn/Desktop/test_output_final/image_t000001_c0002_z0003.tiff is a low contrast image\n",
      "  imsave(output_path, frame)\n"
     ]
    },
    {
     "data": {
      "application/vnd.jupyter.widget-view+json": {
       "model_id": "",
       "version_major": 2,
       "version_minor": 0
      },
      "text/plain": [
       "Channel progress:   0%|          | 0/2 [00:00<?, ?it/s]"
      ]
     },
     "metadata": {},
     "output_type": "display_data"
    },
    {
     "data": {
      "application/vnd.jupyter.widget-view+json": {
       "model_id": "",
       "version_major": 2,
       "version_minor": 0
      },
      "text/plain": [
       "Z-slice progress:   0%|          | 0/3 [00:00<?, ?it/s]"
      ]
     },
     "metadata": {},
     "output_type": "display_data"
    },
    {
     "name": "stderr",
     "output_type": "stream",
     "text": [
      "/home/dayn/analysis/octopuslite-reader/octopuslite/tile.py:308: SettingWithCopyWarning: \n",
      "A value is trying to be set on a copy of a slice from a DataFrame.\n",
      "Try using .loc[row_indexer,col_indexer] = value instead\n",
      "\n",
      "See the caveats in the documentation: https://pandas.pydata.org/pandas-docs/stable/user_guide/indexing.html#returning-a-view-versus-a-copy\n",
      "  coords['PositionXPix'] = (coords['PositionX'].astype(float))/(coords['ImageResolutionX']).astype(float)\n",
      "/home/dayn/analysis/octopuslite-reader/octopuslite/tile.py:309: SettingWithCopyWarning: \n",
      "A value is trying to be set on a copy of a slice from a DataFrame.\n",
      "Try using .loc[row_indexer,col_indexer] = value instead\n",
      "\n",
      "See the caveats in the documentation: https://pandas.pydata.org/pandas-docs/stable/user_guide/indexing.html#returning-a-view-versus-a-copy\n",
      "  coords['PositionYPix'] = (coords['PositionY'].astype(float))/(coords['ImageResolutionY']).astype(float)\n",
      "/home/dayn/analysis/octopuslite-reader/octopuslite/tile.py:338: ShapelyDeprecationWarning: Setting custom attributes on geometry objects is deprecated, and will raise an AttributeError in Shapely 2.0\n",
      "  tile_shifted_shapely.fuse_info = {'file':file,\n",
      "/home/dayn/analysis/octopuslite-reader/octopuslite/tile.py:342: ShapelyDeprecationWarning: Setting custom attributes on geometry objects is deprecated, and will raise an AttributeError in Shapely 2.0\n",
      "  chunk_shapely.fuse_info = {'chunk_boundary': chunk_boundary}\n",
      "/home/dayn/analysis/octopuslite-reader/octopuslite/tile.py:73: UserWarning: /home/dayn/Desktop/test_output_final/image_t000002_c0001_z0001.tiff is a low contrast image\n",
      "  imsave(output_path, frame)\n",
      "/home/dayn/analysis/octopuslite-reader/octopuslite/tile.py:308: SettingWithCopyWarning: \n",
      "A value is trying to be set on a copy of a slice from a DataFrame.\n",
      "Try using .loc[row_indexer,col_indexer] = value instead\n",
      "\n",
      "See the caveats in the documentation: https://pandas.pydata.org/pandas-docs/stable/user_guide/indexing.html#returning-a-view-versus-a-copy\n",
      "  coords['PositionXPix'] = (coords['PositionX'].astype(float))/(coords['ImageResolutionX']).astype(float)\n",
      "/home/dayn/analysis/octopuslite-reader/octopuslite/tile.py:309: SettingWithCopyWarning: \n",
      "A value is trying to be set on a copy of a slice from a DataFrame.\n",
      "Try using .loc[row_indexer,col_indexer] = value instead\n",
      "\n",
      "See the caveats in the documentation: https://pandas.pydata.org/pandas-docs/stable/user_guide/indexing.html#returning-a-view-versus-a-copy\n",
      "  coords['PositionYPix'] = (coords['PositionY'].astype(float))/(coords['ImageResolutionY']).astype(float)\n",
      "/home/dayn/analysis/octopuslite-reader/octopuslite/tile.py:338: ShapelyDeprecationWarning: Setting custom attributes on geometry objects is deprecated, and will raise an AttributeError in Shapely 2.0\n",
      "  tile_shifted_shapely.fuse_info = {'file':file,\n",
      "/home/dayn/analysis/octopuslite-reader/octopuslite/tile.py:342: ShapelyDeprecationWarning: Setting custom attributes on geometry objects is deprecated, and will raise an AttributeError in Shapely 2.0\n",
      "  chunk_shapely.fuse_info = {'chunk_boundary': chunk_boundary}\n",
      "/home/dayn/analysis/octopuslite-reader/octopuslite/tile.py:73: UserWarning: /home/dayn/Desktop/test_output_final/image_t000002_c0001_z0002.tiff is a low contrast image\n",
      "  imsave(output_path, frame)\n",
      "/home/dayn/analysis/octopuslite-reader/octopuslite/tile.py:308: SettingWithCopyWarning: \n",
      "A value is trying to be set on a copy of a slice from a DataFrame.\n",
      "Try using .loc[row_indexer,col_indexer] = value instead\n",
      "\n",
      "See the caveats in the documentation: https://pandas.pydata.org/pandas-docs/stable/user_guide/indexing.html#returning-a-view-versus-a-copy\n",
      "  coords['PositionXPix'] = (coords['PositionX'].astype(float))/(coords['ImageResolutionX']).astype(float)\n",
      "/home/dayn/analysis/octopuslite-reader/octopuslite/tile.py:309: SettingWithCopyWarning: \n",
      "A value is trying to be set on a copy of a slice from a DataFrame.\n",
      "Try using .loc[row_indexer,col_indexer] = value instead\n",
      "\n",
      "See the caveats in the documentation: https://pandas.pydata.org/pandas-docs/stable/user_guide/indexing.html#returning-a-view-versus-a-copy\n",
      "  coords['PositionYPix'] = (coords['PositionY'].astype(float))/(coords['ImageResolutionY']).astype(float)\n",
      "/home/dayn/analysis/octopuslite-reader/octopuslite/tile.py:338: ShapelyDeprecationWarning: Setting custom attributes on geometry objects is deprecated, and will raise an AttributeError in Shapely 2.0\n",
      "  tile_shifted_shapely.fuse_info = {'file':file,\n",
      "/home/dayn/analysis/octopuslite-reader/octopuslite/tile.py:342: ShapelyDeprecationWarning: Setting custom attributes on geometry objects is deprecated, and will raise an AttributeError in Shapely 2.0\n",
      "  chunk_shapely.fuse_info = {'chunk_boundary': chunk_boundary}\n",
      "/home/dayn/analysis/octopuslite-reader/octopuslite/tile.py:73: UserWarning: /home/dayn/Desktop/test_output_final/image_t000002_c0001_z0003.tiff is a low contrast image\n",
      "  imsave(output_path, frame)\n"
     ]
    },
    {
     "data": {
      "application/vnd.jupyter.widget-view+json": {
       "model_id": "",
       "version_major": 2,
       "version_minor": 0
      },
      "text/plain": [
       "Z-slice progress:   0%|          | 0/3 [00:00<?, ?it/s]"
      ]
     },
     "metadata": {},
     "output_type": "display_data"
    },
    {
     "name": "stderr",
     "output_type": "stream",
     "text": [
      "/home/dayn/analysis/octopuslite-reader/octopuslite/tile.py:308: SettingWithCopyWarning: \n",
      "A value is trying to be set on a copy of a slice from a DataFrame.\n",
      "Try using .loc[row_indexer,col_indexer] = value instead\n",
      "\n",
      "See the caveats in the documentation: https://pandas.pydata.org/pandas-docs/stable/user_guide/indexing.html#returning-a-view-versus-a-copy\n",
      "  coords['PositionXPix'] = (coords['PositionX'].astype(float))/(coords['ImageResolutionX']).astype(float)\n",
      "/home/dayn/analysis/octopuslite-reader/octopuslite/tile.py:309: SettingWithCopyWarning: \n",
      "A value is trying to be set on a copy of a slice from a DataFrame.\n",
      "Try using .loc[row_indexer,col_indexer] = value instead\n",
      "\n",
      "See the caveats in the documentation: https://pandas.pydata.org/pandas-docs/stable/user_guide/indexing.html#returning-a-view-versus-a-copy\n",
      "  coords['PositionYPix'] = (coords['PositionY'].astype(float))/(coords['ImageResolutionY']).astype(float)\n",
      "/home/dayn/analysis/octopuslite-reader/octopuslite/tile.py:338: ShapelyDeprecationWarning: Setting custom attributes on geometry objects is deprecated, and will raise an AttributeError in Shapely 2.0\n",
      "  tile_shifted_shapely.fuse_info = {'file':file,\n",
      "/home/dayn/analysis/octopuslite-reader/octopuslite/tile.py:342: ShapelyDeprecationWarning: Setting custom attributes on geometry objects is deprecated, and will raise an AttributeError in Shapely 2.0\n",
      "  chunk_shapely.fuse_info = {'chunk_boundary': chunk_boundary}\n",
      "/home/dayn/analysis/octopuslite-reader/octopuslite/tile.py:73: UserWarning: /home/dayn/Desktop/test_output_final/image_t000002_c0002_z0001.tiff is a low contrast image\n",
      "  imsave(output_path, frame)\n",
      "/home/dayn/analysis/octopuslite-reader/octopuslite/tile.py:308: SettingWithCopyWarning: \n",
      "A value is trying to be set on a copy of a slice from a DataFrame.\n",
      "Try using .loc[row_indexer,col_indexer] = value instead\n",
      "\n",
      "See the caveats in the documentation: https://pandas.pydata.org/pandas-docs/stable/user_guide/indexing.html#returning-a-view-versus-a-copy\n",
      "  coords['PositionXPix'] = (coords['PositionX'].astype(float))/(coords['ImageResolutionX']).astype(float)\n",
      "/home/dayn/analysis/octopuslite-reader/octopuslite/tile.py:309: SettingWithCopyWarning: \n",
      "A value is trying to be set on a copy of a slice from a DataFrame.\n",
      "Try using .loc[row_indexer,col_indexer] = value instead\n",
      "\n",
      "See the caveats in the documentation: https://pandas.pydata.org/pandas-docs/stable/user_guide/indexing.html#returning-a-view-versus-a-copy\n",
      "  coords['PositionYPix'] = (coords['PositionY'].astype(float))/(coords['ImageResolutionY']).astype(float)\n",
      "/home/dayn/analysis/octopuslite-reader/octopuslite/tile.py:338: ShapelyDeprecationWarning: Setting custom attributes on geometry objects is deprecated, and will raise an AttributeError in Shapely 2.0\n",
      "  tile_shifted_shapely.fuse_info = {'file':file,\n",
      "/home/dayn/analysis/octopuslite-reader/octopuslite/tile.py:342: ShapelyDeprecationWarning: Setting custom attributes on geometry objects is deprecated, and will raise an AttributeError in Shapely 2.0\n",
      "  chunk_shapely.fuse_info = {'chunk_boundary': chunk_boundary}\n",
      "/home/dayn/analysis/octopuslite-reader/octopuslite/tile.py:73: UserWarning: /home/dayn/Desktop/test_output_final/image_t000002_c0002_z0002.tiff is a low contrast image\n",
      "  imsave(output_path, frame)\n",
      "/home/dayn/analysis/octopuslite-reader/octopuslite/tile.py:308: SettingWithCopyWarning: \n",
      "A value is trying to be set on a copy of a slice from a DataFrame.\n",
      "Try using .loc[row_indexer,col_indexer] = value instead\n",
      "\n",
      "See the caveats in the documentation: https://pandas.pydata.org/pandas-docs/stable/user_guide/indexing.html#returning-a-view-versus-a-copy\n",
      "  coords['PositionXPix'] = (coords['PositionX'].astype(float))/(coords['ImageResolutionX']).astype(float)\n",
      "/home/dayn/analysis/octopuslite-reader/octopuslite/tile.py:309: SettingWithCopyWarning: \n",
      "A value is trying to be set on a copy of a slice from a DataFrame.\n",
      "Try using .loc[row_indexer,col_indexer] = value instead\n",
      "\n",
      "See the caveats in the documentation: https://pandas.pydata.org/pandas-docs/stable/user_guide/indexing.html#returning-a-view-versus-a-copy\n",
      "  coords['PositionYPix'] = (coords['PositionY'].astype(float))/(coords['ImageResolutionY']).astype(float)\n",
      "/home/dayn/analysis/octopuslite-reader/octopuslite/tile.py:338: ShapelyDeprecationWarning: Setting custom attributes on geometry objects is deprecated, and will raise an AttributeError in Shapely 2.0\n",
      "  tile_shifted_shapely.fuse_info = {'file':file,\n",
      "/home/dayn/analysis/octopuslite-reader/octopuslite/tile.py:342: ShapelyDeprecationWarning: Setting custom attributes on geometry objects is deprecated, and will raise an AttributeError in Shapely 2.0\n",
      "  chunk_shapely.fuse_info = {'chunk_boundary': chunk_boundary}\n",
      "/home/dayn/analysis/octopuslite-reader/octopuslite/tile.py:73: UserWarning: /home/dayn/Desktop/test_output_final/image_t000002_c0002_z0003.tiff is a low contrast image\n",
      "  imsave(output_path, frame)\n"
     ]
    },
    {
     "data": {
      "application/vnd.jupyter.widget-view+json": {
       "model_id": "",
       "version_major": 2,
       "version_minor": 0
      },
      "text/plain": [
       "Channel progress:   0%|          | 0/2 [00:00<?, ?it/s]"
      ]
     },
     "metadata": {},
     "output_type": "display_data"
    },
    {
     "data": {
      "application/vnd.jupyter.widget-view+json": {
       "model_id": "",
       "version_major": 2,
       "version_minor": 0
      },
      "text/plain": [
       "Z-slice progress:   0%|          | 0/3 [00:00<?, ?it/s]"
      ]
     },
     "metadata": {},
     "output_type": "display_data"
    },
    {
     "name": "stderr",
     "output_type": "stream",
     "text": [
      "/home/dayn/analysis/octopuslite-reader/octopuslite/tile.py:308: SettingWithCopyWarning: \n",
      "A value is trying to be set on a copy of a slice from a DataFrame.\n",
      "Try using .loc[row_indexer,col_indexer] = value instead\n",
      "\n",
      "See the caveats in the documentation: https://pandas.pydata.org/pandas-docs/stable/user_guide/indexing.html#returning-a-view-versus-a-copy\n",
      "  coords['PositionXPix'] = (coords['PositionX'].astype(float))/(coords['ImageResolutionX']).astype(float)\n",
      "/home/dayn/analysis/octopuslite-reader/octopuslite/tile.py:309: SettingWithCopyWarning: \n",
      "A value is trying to be set on a copy of a slice from a DataFrame.\n",
      "Try using .loc[row_indexer,col_indexer] = value instead\n",
      "\n",
      "See the caveats in the documentation: https://pandas.pydata.org/pandas-docs/stable/user_guide/indexing.html#returning-a-view-versus-a-copy\n",
      "  coords['PositionYPix'] = (coords['PositionY'].astype(float))/(coords['ImageResolutionY']).astype(float)\n",
      "/home/dayn/analysis/octopuslite-reader/octopuslite/tile.py:338: ShapelyDeprecationWarning: Setting custom attributes on geometry objects is deprecated, and will raise an AttributeError in Shapely 2.0\n",
      "  tile_shifted_shapely.fuse_info = {'file':file,\n",
      "/home/dayn/analysis/octopuslite-reader/octopuslite/tile.py:342: ShapelyDeprecationWarning: Setting custom attributes on geometry objects is deprecated, and will raise an AttributeError in Shapely 2.0\n",
      "  chunk_shapely.fuse_info = {'chunk_boundary': chunk_boundary}\n",
      "/home/dayn/analysis/octopuslite-reader/octopuslite/tile.py:73: UserWarning: /home/dayn/Desktop/test_output_final/image_t000003_c0001_z0001.tiff is a low contrast image\n",
      "  imsave(output_path, frame)\n",
      "/home/dayn/analysis/octopuslite-reader/octopuslite/tile.py:308: SettingWithCopyWarning: \n",
      "A value is trying to be set on a copy of a slice from a DataFrame.\n",
      "Try using .loc[row_indexer,col_indexer] = value instead\n",
      "\n",
      "See the caveats in the documentation: https://pandas.pydata.org/pandas-docs/stable/user_guide/indexing.html#returning-a-view-versus-a-copy\n",
      "  coords['PositionXPix'] = (coords['PositionX'].astype(float))/(coords['ImageResolutionX']).astype(float)\n",
      "/home/dayn/analysis/octopuslite-reader/octopuslite/tile.py:309: SettingWithCopyWarning: \n",
      "A value is trying to be set on a copy of a slice from a DataFrame.\n",
      "Try using .loc[row_indexer,col_indexer] = value instead\n",
      "\n",
      "See the caveats in the documentation: https://pandas.pydata.org/pandas-docs/stable/user_guide/indexing.html#returning-a-view-versus-a-copy\n",
      "  coords['PositionYPix'] = (coords['PositionY'].astype(float))/(coords['ImageResolutionY']).astype(float)\n",
      "/home/dayn/analysis/octopuslite-reader/octopuslite/tile.py:338: ShapelyDeprecationWarning: Setting custom attributes on geometry objects is deprecated, and will raise an AttributeError in Shapely 2.0\n",
      "  tile_shifted_shapely.fuse_info = {'file':file,\n",
      "/home/dayn/analysis/octopuslite-reader/octopuslite/tile.py:342: ShapelyDeprecationWarning: Setting custom attributes on geometry objects is deprecated, and will raise an AttributeError in Shapely 2.0\n",
      "  chunk_shapely.fuse_info = {'chunk_boundary': chunk_boundary}\n",
      "/home/dayn/analysis/octopuslite-reader/octopuslite/tile.py:73: UserWarning: /home/dayn/Desktop/test_output_final/image_t000003_c0001_z0002.tiff is a low contrast image\n",
      "  imsave(output_path, frame)\n",
      "/home/dayn/analysis/octopuslite-reader/octopuslite/tile.py:308: SettingWithCopyWarning: \n",
      "A value is trying to be set on a copy of a slice from a DataFrame.\n",
      "Try using .loc[row_indexer,col_indexer] = value instead\n",
      "\n",
      "See the caveats in the documentation: https://pandas.pydata.org/pandas-docs/stable/user_guide/indexing.html#returning-a-view-versus-a-copy\n",
      "  coords['PositionXPix'] = (coords['PositionX'].astype(float))/(coords['ImageResolutionX']).astype(float)\n",
      "/home/dayn/analysis/octopuslite-reader/octopuslite/tile.py:309: SettingWithCopyWarning: \n",
      "A value is trying to be set on a copy of a slice from a DataFrame.\n",
      "Try using .loc[row_indexer,col_indexer] = value instead\n",
      "\n",
      "See the caveats in the documentation: https://pandas.pydata.org/pandas-docs/stable/user_guide/indexing.html#returning-a-view-versus-a-copy\n",
      "  coords['PositionYPix'] = (coords['PositionY'].astype(float))/(coords['ImageResolutionY']).astype(float)\n",
      "/home/dayn/analysis/octopuslite-reader/octopuslite/tile.py:338: ShapelyDeprecationWarning: Setting custom attributes on geometry objects is deprecated, and will raise an AttributeError in Shapely 2.0\n",
      "  tile_shifted_shapely.fuse_info = {'file':file,\n",
      "/home/dayn/analysis/octopuslite-reader/octopuslite/tile.py:342: ShapelyDeprecationWarning: Setting custom attributes on geometry objects is deprecated, and will raise an AttributeError in Shapely 2.0\n",
      "  chunk_shapely.fuse_info = {'chunk_boundary': chunk_boundary}\n",
      "/home/dayn/analysis/octopuslite-reader/octopuslite/tile.py:73: UserWarning: /home/dayn/Desktop/test_output_final/image_t000003_c0001_z0003.tiff is a low contrast image\n",
      "  imsave(output_path, frame)\n"
     ]
    },
    {
     "data": {
      "application/vnd.jupyter.widget-view+json": {
       "model_id": "",
       "version_major": 2,
       "version_minor": 0
      },
      "text/plain": [
       "Z-slice progress:   0%|          | 0/3 [00:00<?, ?it/s]"
      ]
     },
     "metadata": {},
     "output_type": "display_data"
    },
    {
     "name": "stderr",
     "output_type": "stream",
     "text": [
      "/home/dayn/analysis/octopuslite-reader/octopuslite/tile.py:308: SettingWithCopyWarning: \n",
      "A value is trying to be set on a copy of a slice from a DataFrame.\n",
      "Try using .loc[row_indexer,col_indexer] = value instead\n",
      "\n",
      "See the caveats in the documentation: https://pandas.pydata.org/pandas-docs/stable/user_guide/indexing.html#returning-a-view-versus-a-copy\n",
      "  coords['PositionXPix'] = (coords['PositionX'].astype(float))/(coords['ImageResolutionX']).astype(float)\n",
      "/home/dayn/analysis/octopuslite-reader/octopuslite/tile.py:309: SettingWithCopyWarning: \n",
      "A value is trying to be set on a copy of a slice from a DataFrame.\n",
      "Try using .loc[row_indexer,col_indexer] = value instead\n",
      "\n",
      "See the caveats in the documentation: https://pandas.pydata.org/pandas-docs/stable/user_guide/indexing.html#returning-a-view-versus-a-copy\n",
      "  coords['PositionYPix'] = (coords['PositionY'].astype(float))/(coords['ImageResolutionY']).astype(float)\n",
      "/home/dayn/analysis/octopuslite-reader/octopuslite/tile.py:338: ShapelyDeprecationWarning: Setting custom attributes on geometry objects is deprecated, and will raise an AttributeError in Shapely 2.0\n",
      "  tile_shifted_shapely.fuse_info = {'file':file,\n",
      "/home/dayn/analysis/octopuslite-reader/octopuslite/tile.py:342: ShapelyDeprecationWarning: Setting custom attributes on geometry objects is deprecated, and will raise an AttributeError in Shapely 2.0\n",
      "  chunk_shapely.fuse_info = {'chunk_boundary': chunk_boundary}\n",
      "/home/dayn/analysis/octopuslite-reader/octopuslite/tile.py:73: UserWarning: /home/dayn/Desktop/test_output_final/image_t000003_c0002_z0001.tiff is a low contrast image\n",
      "  imsave(output_path, frame)\n",
      "/home/dayn/analysis/octopuslite-reader/octopuslite/tile.py:308: SettingWithCopyWarning: \n",
      "A value is trying to be set on a copy of a slice from a DataFrame.\n",
      "Try using .loc[row_indexer,col_indexer] = value instead\n",
      "\n",
      "See the caveats in the documentation: https://pandas.pydata.org/pandas-docs/stable/user_guide/indexing.html#returning-a-view-versus-a-copy\n",
      "  coords['PositionXPix'] = (coords['PositionX'].astype(float))/(coords['ImageResolutionX']).astype(float)\n",
      "/home/dayn/analysis/octopuslite-reader/octopuslite/tile.py:309: SettingWithCopyWarning: \n",
      "A value is trying to be set on a copy of a slice from a DataFrame.\n",
      "Try using .loc[row_indexer,col_indexer] = value instead\n",
      "\n",
      "See the caveats in the documentation: https://pandas.pydata.org/pandas-docs/stable/user_guide/indexing.html#returning-a-view-versus-a-copy\n",
      "  coords['PositionYPix'] = (coords['PositionY'].astype(float))/(coords['ImageResolutionY']).astype(float)\n",
      "/home/dayn/analysis/octopuslite-reader/octopuslite/tile.py:338: ShapelyDeprecationWarning: Setting custom attributes on geometry objects is deprecated, and will raise an AttributeError in Shapely 2.0\n",
      "  tile_shifted_shapely.fuse_info = {'file':file,\n",
      "/home/dayn/analysis/octopuslite-reader/octopuslite/tile.py:342: ShapelyDeprecationWarning: Setting custom attributes on geometry objects is deprecated, and will raise an AttributeError in Shapely 2.0\n",
      "  chunk_shapely.fuse_info = {'chunk_boundary': chunk_boundary}\n",
      "/home/dayn/analysis/octopuslite-reader/octopuslite/tile.py:73: UserWarning: /home/dayn/Desktop/test_output_final/image_t000003_c0002_z0002.tiff is a low contrast image\n",
      "  imsave(output_path, frame)\n",
      "/home/dayn/analysis/octopuslite-reader/octopuslite/tile.py:308: SettingWithCopyWarning: \n",
      "A value is trying to be set on a copy of a slice from a DataFrame.\n",
      "Try using .loc[row_indexer,col_indexer] = value instead\n",
      "\n",
      "See the caveats in the documentation: https://pandas.pydata.org/pandas-docs/stable/user_guide/indexing.html#returning-a-view-versus-a-copy\n",
      "  coords['PositionXPix'] = (coords['PositionX'].astype(float))/(coords['ImageResolutionX']).astype(float)\n",
      "/home/dayn/analysis/octopuslite-reader/octopuslite/tile.py:309: SettingWithCopyWarning: \n",
      "A value is trying to be set on a copy of a slice from a DataFrame.\n",
      "Try using .loc[row_indexer,col_indexer] = value instead\n",
      "\n",
      "See the caveats in the documentation: https://pandas.pydata.org/pandas-docs/stable/user_guide/indexing.html#returning-a-view-versus-a-copy\n",
      "  coords['PositionYPix'] = (coords['PositionY'].astype(float))/(coords['ImageResolutionY']).astype(float)\n",
      "/home/dayn/analysis/octopuslite-reader/octopuslite/tile.py:338: ShapelyDeprecationWarning: Setting custom attributes on geometry objects is deprecated, and will raise an AttributeError in Shapely 2.0\n",
      "  tile_shifted_shapely.fuse_info = {'file':file,\n",
      "/home/dayn/analysis/octopuslite-reader/octopuslite/tile.py:342: ShapelyDeprecationWarning: Setting custom attributes on geometry objects is deprecated, and will raise an AttributeError in Shapely 2.0\n",
      "  chunk_shapely.fuse_info = {'chunk_boundary': chunk_boundary}\n",
      "/home/dayn/analysis/octopuslite-reader/octopuslite/tile.py:73: UserWarning: /home/dayn/Desktop/test_output_final/image_t000003_c0002_z0003.tiff is a low contrast image\n",
      "  imsave(output_path, frame)\n"
     ]
    },
    {
     "data": {
      "application/vnd.jupyter.widget-view+json": {
       "model_id": "f7e516d820be45b5ac6d27791b40beee",
       "version_major": 2,
       "version_minor": 0
      },
      "text/plain": [
       "Channel progress:   0%|          | 0/2 [00:00<?, ?it/s]"
      ]
     },
     "metadata": {},
     "output_type": "display_data"
    },
    {
     "data": {
      "application/vnd.jupyter.widget-view+json": {
       "model_id": "9fb6731fc75a4db4890bf05cd590ee7b",
       "version_major": 2,
       "version_minor": 0
      },
      "text/plain": [
       "Z-slice progress:   0%|          | 0/3 [00:00<?, ?it/s]"
      ]
     },
     "metadata": {},
     "output_type": "display_data"
    },
    {
     "name": "stderr",
     "output_type": "stream",
     "text": [
      "/home/dayn/analysis/octopuslite-reader/octopuslite/tile.py:308: SettingWithCopyWarning: \n",
      "A value is trying to be set on a copy of a slice from a DataFrame.\n",
      "Try using .loc[row_indexer,col_indexer] = value instead\n",
      "\n",
      "See the caveats in the documentation: https://pandas.pydata.org/pandas-docs/stable/user_guide/indexing.html#returning-a-view-versus-a-copy\n",
      "  coords['PositionXPix'] = (coords['PositionX'].astype(float))/(coords['ImageResolutionX']).astype(float)\n",
      "/home/dayn/analysis/octopuslite-reader/octopuslite/tile.py:309: SettingWithCopyWarning: \n",
      "A value is trying to be set on a copy of a slice from a DataFrame.\n",
      "Try using .loc[row_indexer,col_indexer] = value instead\n",
      "\n",
      "See the caveats in the documentation: https://pandas.pydata.org/pandas-docs/stable/user_guide/indexing.html#returning-a-view-versus-a-copy\n",
      "  coords['PositionYPix'] = (coords['PositionY'].astype(float))/(coords['ImageResolutionY']).astype(float)\n",
      "/home/dayn/analysis/octopuslite-reader/octopuslite/tile.py:338: ShapelyDeprecationWarning: Setting custom attributes on geometry objects is deprecated, and will raise an AttributeError in Shapely 2.0\n",
      "  tile_shifted_shapely.fuse_info = {'file':file,\n",
      "/home/dayn/analysis/octopuslite-reader/octopuslite/tile.py:342: ShapelyDeprecationWarning: Setting custom attributes on geometry objects is deprecated, and will raise an AttributeError in Shapely 2.0\n",
      "  chunk_shapely.fuse_info = {'chunk_boundary': chunk_boundary}\n",
      "/home/dayn/analysis/octopuslite-reader/octopuslite/tile.py:73: UserWarning: /home/dayn/Desktop/test_output_final/image_t000004_c0001_z0001.tiff is a low contrast image\n",
      "  imsave(output_path, frame)\n"
     ]
    }
   ],
   "source": [
    "tile.compile_mosaic(image_directory, metadata_file_path)"
   ]
  },
  {
   "cell_type": "markdown",
   "id": "7139b906",
   "metadata": {},
   "source": [
    "### Load in FIJI\n",
    "\n",
    "These images can then be loaded using the `import image sequence` within FIJI/ImageJ. You can specify certain channels or z-planes to filter to make seperate colour stacks, for example."
   ]
  }
 ],
 "metadata": {
  "kernelspec": {
   "display_name": "aero",
   "language": "python",
   "name": "aero"
  },
  "language_info": {
   "codemirror_mode": {
    "name": "ipython",
    "version": 3
   },
   "file_extension": ".py",
   "mimetype": "text/x-python",
   "name": "python",
   "nbconvert_exporter": "python",
   "pygments_lexer": "ipython3",
   "version": "3.9.12"
  }
 },
 "nbformat": 4,
 "nbformat_minor": 5
}
