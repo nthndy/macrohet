{
 "cells": [
  {
   "cell_type": "markdown",
   "id": "d75a8321",
   "metadata": {},
   "source": [
    "# Implementing tile overlap\n",
    "\n",
    "The example that this process is based off is only 2D image. \n",
    "\n",
    "I have a 4D stack so I need to separate each layer and tile individually.\n",
    "\n",
    "Now tiling over time and z stack, but testing to see if order of iteration matters. "
   ]
  },
  {
   "cell_type": "code",
   "execution_count": 1,
   "id": "f9a3f20d",
   "metadata": {},
   "outputs": [],
   "source": [
    "import glob\n",
    "import os\n",
    "import enum\n",
    "import re\n",
    "import dask\n",
    "import dask.array as da\n",
    "from dask.array.core import normalize_chunks\n",
    "# from dask_image.imread import imread ### this way seems quicker\n",
    "import skimage\n",
    "from skimage.io import imshow, imread\n",
    "import numpy as np\n",
    "from tqdm.auto import tqdm\n",
    "import napari\n",
    "import matplotlib.pyplot as plt\n",
    "import pandas as pd\n",
    "import xml.etree.ElementTree as ET\n",
    "from skimage.transform import AffineTransform\n",
    "from typing import Tuple, List, Dict, Union, Optional, Callable \n",
    "from pathlib import Path\n",
    "from functools import partial\n",
    "from scipy.ndimage import affine_transform\n",
    "\n",
    "from shapely.geometry.base import BaseGeometry\n",
    "from shapely.geometry.polygon import Polygon\n",
    "from shapely.geometry import LineString\n",
    "from shapely.strtree import STRtree"
   ]
  },
  {
   "cell_type": "code",
   "execution_count": 2,
   "id": "b0c90eb2",
   "metadata": {},
   "outputs": [],
   "source": [
    "@enum.unique\n",
    "class Channels(enum.Enum):\n",
    "    BRIGHTFIELD = 0\n",
    "    GFP = 1\n",
    "    RFP = 2\n",
    "    IRFP = 3\n",
    "    MASK_2 = 97\n",
    "    MASK_1 = 98\n",
    "    MASK = 99\n",
    "\n",
    "def parse_filename(filename: os.PathLike) -> dict:\n",
    "    \"\"\"Parse an OctopusHeavy filename and retreive metadata from the file.\n",
    "\n",
    "    Parameters\n",
    "    ----------\n",
    "    filename : PathLike\n",
    "        The full path to a file to parse.\n",
    "\n",
    "    Returns\n",
    "    -------\n",
    "    metadata : dict\n",
    "        A dictionary containing the parsed metadata.\n",
    "    \"\"\"\n",
    "    \n",
    "    OCTOPUSHEAVY_FILEPATTERN =(\n",
    "        \"r(?P<row>[0-9]+)c(?P<column>[0-9]+)f(?P<mosaic_pos>[0-9]+)p(?P<plane>[0-9]+)-ch(?P<channel>[0-9]+)\"\n",
    "        \"sk(?P<time>[0-9]+)fk(?P<fk>[0-9]+)fl(?P<fl>[0-9]+)\"\n",
    "        )\n",
    "    \n",
    "    path, filename = os.path.split(filename)\n",
    "    params = re.match(OCTOPUSHEAVY_FILEPATTERN, filename)\n",
    "\n",
    "    filename_metadata = {\n",
    "        \"filename\": filename,\n",
    "        \"channel\": params.group(\"channel\"),# Channels(int(params.group(\"channel\"))),\n",
    "        \"time\": params.group(\"time\"),\n",
    "        \"row\": params.group(\"row\"), \n",
    "        \"column\": params.group(\"column\"), \n",
    "        \"mosaic_pos\": params.group(\"mosaic_pos\"), \n",
    "        \"plane\": params.group(\"plane\"), \n",
    "        \"fk\": params.group(\"fk\"), \n",
    "        \"fl\": params.group(\"fl\")\n",
    "\n",
    "    }\n",
    "\n",
    "    return filename_metadata\n",
    "\n",
    "def read_harmony_metadata(metadata_path: os.PathLike):\n",
    "    \"\"\"\n",
    "    Read the metadata from the Harmony software for the Opera Phenix microscope.\n",
    "    Takes an input of the path to the metadata .xml file.\n",
    "    Returns the metadata in a pandas dataframe format.\n",
    "    \"\"\"\n",
    "    \n",
    "    ### read xml metadata file\n",
    "    xml_data = open(metadata_fn, 'r').read()\n",
    "    root = ET.XML(xml_data) \n",
    "    ### extract the metadata from the xml file\n",
    "    images_metadata = [child for child in root if \"Images\" in child.tag][0]\n",
    "    ### create an empty list for storing individual image metadata\n",
    "    all_images_dicts = list()\n",
    "    ### iterate over every image entry extracting the metadata\n",
    "    for image_metadata in tqdm(images_metadata, total = len(images_metadata)):\n",
    "        ### create empty dict to store single image metadata\n",
    "        single_image_dict = dict()\n",
    "        ### iterate over every metadata item in that image metadata\n",
    "        for item in image_metadata:\n",
    "            ### get column names from metadata\n",
    "            col = item.tag.replace('{http://www.perkinelmer.com/PEHH/HarmonyV5}','')\n",
    "            ### get metadata\n",
    "            entry = item.text\n",
    "            ### make dictionary out of metadata\n",
    "            single_image_dict[col] = entry\n",
    "        ### append that image metadata to list of all images    \n",
    "        all_images_dicts.append(single_image_dict)\n",
    "    ### create a dataframe out of all metadata\n",
    "    df = pd.DataFrame(all_images_dicts)\n",
    "    \n",
    "    return df"
   ]
  },
  {
   "cell_type": "code",
   "execution_count": 90,
   "id": "950e0bd1",
   "metadata": {},
   "outputs": [],
   "source": [
    "def transform_tile_coord(shape: Tuple[int,int], affine_matrix: np.ndarray) -> np.ndarray:\n",
    "    \"\"\"\n",
    "    returns the corner coordinates of a 2D array with shape shape\n",
    "    after applying the transform represented by affine_matrix.\n",
    "    From DaskFusion (https://github.com/VolkerH/DaskFusion/)\n",
    "    \"\"\"\n",
    "    h, w = shape\n",
    "    # create homogeneous coordinates for corner points\n",
    "    baserect = np.array([[0, 0], [h, 0], [h, w], [0, w]])\n",
    "    augmented_baserect = np.concatenate(\n",
    "        (baserect, np.ones((baserect.shape[0], 1))), axis=1\n",
    "    )\n",
    "    # see where the corner points map to\n",
    "    transformed_rect = (affine_matrix @ augmented_baserect.T).T[:, :-1]\n",
    "    return transformed_rect\n",
    "\n",
    "def get_chunk_coord(shape: Tuple[int, int], chunk_size: Tuple[int, int]):\n",
    "    \"\"\"Iterator that returns the bounding coordinates\n",
    "    for the individual chunks of a dask array of size\n",
    "    shape with chunk size chunk_size.\n",
    "\n",
    "\n",
    "    return_np_slice determines the output format. If True,\n",
    "    a numpy slice object is returned for each chunk, that can be used\n",
    "    directly to slice a dask array to return the desired chunk region.\n",
    "    If False, a Tuple of Tuples ((row_min, row_max+1),(col_min, col_max+1))\n",
    "    is returned.\n",
    "    From DaskFusion (https://github.com/VolkerH/DaskFusion/)\n",
    "\n",
    "    \"\"\"\n",
    "    chunksy, chunksx = normalize_chunks(chunk_size, shape=shape)\n",
    "    y = 0\n",
    "    for cy in chunksy:\n",
    "        x = 0\n",
    "        for cx in chunksx:\n",
    "            yield ((y, y + cy), (x, x + cx))\n",
    "            x = x + cx\n",
    "        y = y + cy\n",
    "        \n",
    "def numpy_shape_to_shapely(coords: np.ndarray, shape_type: str = \"polygon\") -> BaseGeometry:\n",
    "    \"\"\"\n",
    "    Convert an individual shape represented as a numpy array of coordinates\n",
    "    to a shapely object\n",
    "    From DaskFusion (https://github.com/VolkerH/DaskFusion/)\n",
    "    \"\"\"\n",
    "    _coords = coords[:, ::-1].copy()  # shapely has col,row order, numpy row,col\n",
    "    _coords[:, 1] *= -1  # axis direction flipped between shapely and napari\n",
    "    if shape_type in (\"rectangle\", \"polygon\", \"ellipse\"):\n",
    "        return Polygon(_coords)\n",
    "    elif shape_type in (\"line\", \"path\"):\n",
    "        return LineString(_coords)\n",
    "    else:\n",
    "        raise ValueError\n",
    "        \n",
    "def get_rect_from_chunk_boundary(chunk_boundary):\n",
    "    \"\"\"given a chunk boundary tuple, return a numpy\n",
    "    array that can be added as a shape to napari\"\n",
    "    From DaskFusion (https://github.com/VolkerH/DaskFusion/)\n",
    "    \"\"\"\n",
    "    ylim, xlim = chunk_boundary\n",
    "    miny, maxy = ylim[0], ylim[1] - 1\n",
    "    minx, maxx = xlim[0], xlim[1] - 1\n",
    "    return np.array([[miny, minx], [maxy, minx], [maxy, maxx], [miny, maxx]])\n",
    "\n",
    "def find_chunk_tile_intersections(\n",
    "    tiles_shapely: List[\"shapely.geometry.base.BaseGeometry\"],\n",
    "    chunks_shapely: List[\"shapely.geometry.base.BaseGeometry\"],\n",
    ") -> Dict[Tuple[int, int], Tuple[str, np.ndarray]]:\n",
    "    \"\"\"\n",
    "    For each output array chunk, find the intersecting image tiles\n",
    "\n",
    "    Args:\n",
    "        tile_shapes: Contains the shapely objects corresponding to transformed image outlines.\n",
    "                    Each shape in tile_shapes must have a .fuse_info dictionary with\n",
    "                    keys \"file\" and \"transform\".\n",
    "        chunk_shapes: Contains the shapely objects representing dask array chunks.\n",
    "                    Each shape in chunk_shapes must have a .fuse_info dictionary with\n",
    "                    key \"chunk_boundary\", containing a tuple of chunk boundaries\n",
    "\n",
    "    Returns:\n",
    "         The chunk_to_tiles dictionary, which has the chunk anchor points as keys and tuples of\n",
    "         image file names and their corresponding affine transform matrix as values.\n",
    "    From DaskFusion (https://github.com/VolkerH/DaskFusion/)\n",
    "    \"\"\"\n",
    "    chunk_to_tiles = {}\n",
    "    tile_tree = STRtree(tiles_shapely)\n",
    "\n",
    "    for chunk_shape in chunks_shapely:\n",
    "        chunk_boundary = chunk_shape.fuse_info[\"chunk_boundary\"]\n",
    "        anchor_point = (chunk_boundary[0][0], chunk_boundary[1][0])\n",
    "        intersecting_tiles = tile_tree.query(chunk_shape)\n",
    "        chunk_to_tiles[anchor_point] = [\n",
    "            ((t.fuse_info[\"file\"], t.fuse_info[\"transform\"]))\n",
    "            for t in intersecting_tiles\n",
    "        ]\n",
    "    return chunk_to_tiles\n",
    "\n",
    "def fuse_func(\n",
    "    input_tile_info: Dict[\n",
    "        Tuple[int, int], List[Tuple[Union[str, Path, np.ndarray], np.ndarray]]\n",
    "    ],\n",
    "    imload_fn: Optional[Callable] = imread,\n",
    "    block_info=None,\n",
    "    dtype=np.uint16,\n",
    ") -> np.ndarray:\n",
    "\n",
    "    \"\"\"\n",
    "    Fuses the tiles that intersect the current chunk of a dask array using maximum projection.\n",
    "\n",
    "    Pass this function to dask.array.map_blocks, after partial evaluation of the required\n",
    "    image_folder and (if needed) optional arguments.\n",
    "\n",
    "    Returns:\n",
    "        Array of chunk-shape containing max projection of tiles falling into chunk\n",
    "        \n",
    "    From DaskFusion (https://github.com/VolkerH/DaskFusion/)\n",
    "    \"\"\"\n",
    "    array_location = block_info[None][\"array-location\"]\n",
    "    # The anchor point is the key to the input_tile_info dictionary\n",
    "    anchor_point = (array_location[0][0], array_location[1][0])\n",
    "    chunk_shape = block_info[None][\"chunk-shape\"]\n",
    "    tiles_info = input_tile_info[anchor_point]\n",
    "    #print(f\"Processing chunk at {anchor_point}\")\n",
    "    fused = np.zeros(chunk_shape, dtype=dtype)\n",
    "    for image_representation, tile_affine in tiles_info:\n",
    "        if imload_fn is not None:\n",
    "            # When imload_fn is provided we assume we have been given strings representing files\n",
    "            tile_path = image_representation\n",
    "            im = imload_fn(tile_path)\n",
    "        else:\n",
    "            # Without imload function we assume images are passed\n",
    "            im = image_representation\n",
    "        shift = AffineTransform(translation=(-anchor_point[0], -anchor_point[1]))\n",
    "        tile_shifted = affine_transform(\n",
    "            im,\n",
    "            matrix=np.linalg.inv(shift.params @ tile_affine),\n",
    "            output_shape=chunk_shape,\n",
    "            cval=0,\n",
    "        )\n",
    "        # note that the dtype comversion here happens without scaling\n",
    "        # may want to use one of the skimage.img_as_* functions instead\n",
    "        stack = np.stack([fused, tile_shifted.astype(dtype)])\n",
    "        fused = np.max(stack, axis=0)\n",
    "    return fused\n",
    "\n",
    "FilePath = Union[Path, str]\n",
    "ArrayLike = Union[\n",
    "    np.ndarray, \"dask.array.Array\"\n",
    "]  # could add other array types if needed\n",
    "\n",
    "\n",
    "def load_image(\n",
    "    file: FilePath, transforms: List[Callable[[ArrayLike], ArrayLike]] = None\n",
    ") -> np.ndarray:\n",
    "    img = imread(file)\n",
    "    # if img.ndim == 2:\n",
    "    #    img = np.expand_dims(img, axis=0)\n",
    "    if transforms is not None:\n",
    "        for t in transforms:\n",
    "            img = t(img)\n",
    "    return img\n",
    "\n",
    "def stitch(time, plane, channel, row, col, chunk_fraction):\n",
    "    ### extract metadata for this mosaic\n",
    "    filtered_df = df[(df['TimepointID'] == time)  \n",
    "                   &(df['PlaneID'] == plane)\n",
    "                   &(df['ChannelID'] == channel)\n",
    "                   &(df['Row'] == row) \n",
    "                   &(df['Col'] == col)\n",
    "                    ]\n",
    "    ### extract filenames for subset\n",
    "    fns = filtered_df['URL']\n",
    "    ### build into full file path\n",
    "    fns = [glob.glob(os.path.join(image_dir, fn))[0] for fn in fns]\n",
    "    ### stack single slice mosaic into lazy array\n",
    "    sample = skimage.io.imread(fns[0])\n",
    "    lazy_arrays = [dask.delayed(skimage.io.imread)(fn) for fn in fns]\n",
    "    lazy_arrays = [da.from_delayed(x, shape=sample.shape, dtype=sample.dtype)#'uint8')#\n",
    "                   for x in lazy_arrays]\n",
    "    #print(len(lazy_arrays), 'images lazily loaded')\n",
    "    ### extract and convert coordinates from standard units into pixels\n",
    "    coords = filtered_df[[\"URL\", \"PositionX\", \"PositionY\", \"PositionZ\", \"ImageResolutionX\", \"ImageResolutionY\"]]\n",
    "    coords['PositionXPix'] = (coords['PositionX'].astype(float))/(coords['ImageResolutionX']).astype(float)\n",
    "    coords['PositionYPix'] = (coords['PositionY'].astype(float))/(coords['ImageResolutionY']).astype(float)\n",
    "    norm_coords = list(zip(coords['PositionXPix'], coords['PositionYPix']))\n",
    "    ### convert tile coordinates into transformation matrices\n",
    "    transforms = [AffineTransform(translation=stage_coord).params for stage_coord in norm_coords]\n",
    "    tiles = [transform_tile_coord(sample.shape, transform) for transform in transforms]\n",
    "    ### shift the tile coordinates to the origin\n",
    "    all_bboxes = np.vstack(tiles)\n",
    "    all_min = all_bboxes.min(axis=0)\n",
    "    all_max = all_bboxes.max(axis=0)\n",
    "    stitched_shape=tuple(np.ceil(all_max-all_min).astype(int))\n",
    "    shift_to_origin = AffineTransform(translation=-all_min)\n",
    "    transforms_with_shift = [t @ shift_to_origin.params for t in transforms]\n",
    "    shifted_tiles = [transform_tile_coord(sample.shape, t) for t in transforms_with_shift]\n",
    "    ### decide on chunk size as a fraction of total slice size \n",
    "    chunk_size = (6048/np.sqrt(chunk_fraction),6048/np.sqrt(chunk_fraction))\n",
    "    chunks = normalize_chunks(chunk_size,shape=tuple(stitched_shape))\n",
    "    ### check the maths adds up correctly (chunks fit into mosaic)\n",
    "    computed_shape = np.array(list(map(sum, chunks)))\n",
    "    assert np.all(np.array(stitched_shape) == computed_shape)\n",
    "    ### get boundary coords of chunks\n",
    "    chunk_boundaries = list(get_chunk_coord(stitched_shape, chunk_size))\n",
    "    ### use shapely to find the intersection of the chunks\n",
    "    tiles_shifted_shapely = [numpy_shape_to_shapely(s) for s in shifted_tiles]\n",
    "    chunk_shapes = list(map(get_rect_from_chunk_boundary, chunk_boundaries))\n",
    "    chunks_shapely = [numpy_shape_to_shapely(c) for c in chunk_shapes]\n",
    "    ### build dictionary of chunk shape data with filenames and transformations\n",
    "    for tile_shifted_shapely, file, transform in zip(tiles_shifted_shapely, \n",
    "                                         fns, \n",
    "                                         transforms_with_shift):\n",
    "        tile_shifted_shapely.fuse_info = {'file':file, \n",
    "                                          'transform':transform}\n",
    "    for chunk_shapely, chunk_boundary in zip(chunks_shapely, \n",
    "                                              chunk_boundaries):\n",
    "        chunk_shapely.fuse_info = {'chunk_boundary': chunk_boundary}\n",
    "    chunk_tiles = find_chunk_tile_intersections(tiles_shifted_shapely, chunks_shapely)\n",
    "    ### tile images together                \n",
    "    frame = da.map_blocks(func=_fuse_func,\n",
    "             chunks=chunks, \n",
    "             input_tile_info=chunk_tiles,\n",
    "             dtype=sample.dtype)\n",
    "    \n",
    "    return frame"
   ]
  },
  {
   "cell_type": "markdown",
   "id": "c6f5ee5d",
   "metadata": {},
   "source": [
    "#### Find images"
   ]
  },
  {
   "cell_type": "code",
   "execution_count": 4,
   "id": "60602fde",
   "metadata": {},
   "outputs": [
    {
     "name": "stdout",
     "output_type": "stream",
     "text": [
      "113400 image files found\n"
     ]
    }
   ],
   "source": [
    "image_dir = '/mnt/DATA/sandbox/pierre_live_cell_data/outputs/Replication_IPSDM_GFP/Images/'\n",
    "# image_dir = '/mnt/DATA/sandbox/pierre_live_cell_data/outputs/Replication_IPSDM_GFP/r03c03f01p01/'\n",
    "fns = glob.glob(os.path.join(image_dir, '*.tiff'))\n",
    "# fns = glob.glob(os.path.join(image_dir, f'r0{row}c0{col}*.tiff'))\n",
    "print(len(fns), 'image files found')"
   ]
  },
  {
   "cell_type": "markdown",
   "id": "66bfc27c",
   "metadata": {},
   "source": [
    "### Loading metadata"
   ]
  },
  {
   "cell_type": "code",
   "execution_count": 5,
   "id": "b40b11ec",
   "metadata": {},
   "outputs": [
    {
     "data": {
      "application/vnd.jupyter.widget-view+json": {
       "model_id": "46cb30ceebf946f9bd01f8088d7f1f59",
       "version_major": 2,
       "version_minor": 0
      },
      "text/plain": [
       "  0%|          | 0/113400 [00:00<?, ?it/s]"
      ]
     },
     "metadata": {},
     "output_type": "display_data"
    }
   ],
   "source": [
    "metadata_fn = '/mnt/DATA/sandbox/pierre_live_cell_data/outputs/Replication_IPSDM_GFP/Index.idx.xml'\n",
    "df = read_harmony_metadata(metadata_fn)"
   ]
  },
  {
   "cell_type": "markdown",
   "id": "0d078708",
   "metadata": {},
   "source": [
    "#### Get position information from metadata"
   ]
  },
  {
   "cell_type": "code",
   "execution_count": 6,
   "id": "c759b207",
   "metadata": {},
   "outputs": [
    {
     "data": {
      "application/vnd.jupyter.widget-view+json": {
       "model_id": "c4dd3d8c607e4be28ce9ae55e45cf640",
       "version_major": 2,
       "version_minor": 0
      },
      "text/plain": [
       "  0%|          | 0/113400 [00:00<?, ?it/s]"
      ]
     },
     "metadata": {},
     "output_type": "display_data"
    },
    {
     "name": "stdout",
     "output_type": "stream",
     "text": [
      "Position index and (row,column): 0 (3, 4)\n",
      "Position index and (row,column): 1 (4, 3)\n",
      "Position index and (row,column): 2 (4, 9)\n",
      "Position index and (row,column): 3 (3, 7)\n",
      "Position index and (row,column): 4 (5, 4)\n",
      "Position index and (row,column): 5 (4, 6)\n",
      "Position index and (row,column): 6 (3, 10)\n",
      "Position index and (row,column): 7 (5, 7)\n",
      "Position index and (row,column): 8 (6, 5)\n",
      "Position index and (row,column): 9 (6, 8)\n",
      "Position index and (row,column): 10 (4, 5)\n",
      "Position index and (row,column): 11 (3, 3)\n",
      "Position index and (row,column): 12 (3, 9)\n",
      "Position index and (row,column): 13 (5, 6)\n",
      "Position index and (row,column): 14 (4, 8)\n",
      "Position index and (row,column): 15 (3, 6)\n",
      "Position index and (row,column): 16 (5, 9)\n",
      "Position index and (row,column): 17 (6, 4)\n",
      "Position index and (row,column): 18 (6, 7)\n",
      "Position index and (row,column): 19 (4, 7)\n",
      "Position index and (row,column): 20 (3, 5)\n",
      "Position index and (row,column): 21 (4, 4)\n",
      "Position index and (row,column): 22 (4, 10)\n",
      "Position index and (row,column): 23 (3, 8)\n",
      "Position index and (row,column): 24 (5, 5)\n",
      "Position index and (row,column): 25 (5, 8)\n",
      "Position index and (row,column): 26 (6, 6)\n",
      "Position index and (row,column): 27 (6, 9)\n"
     ]
    }
   ],
   "source": [
    "row_col_list = list()\n",
    "for index, row in tqdm(df.iterrows(), total = len(df)):\n",
    "    row_col_list.append(tuple((int(row['Row']), int(row['Col']))))\n",
    "row_col_list = list(set(row_col_list))\n",
    "for n, i in enumerate(row_col_list):\n",
    "    print('Position index and (row,column):', n, i)"
   ]
  },
  {
   "cell_type": "markdown",
   "id": "0cb986e8",
   "metadata": {},
   "source": [
    "## Get dimensionality of image volume"
   ]
  },
  {
   "cell_type": "code",
   "execution_count": 87,
   "id": "ff0f0243",
   "metadata": {},
   "outputs": [],
   "source": [
    "channel_IDs = df['ChannelID'].unique()\n",
    "plane_IDs = df['PlaneID'].unique()\n",
    "timepoint_IDs = df['TimepointID'].unique()"
   ]
  },
  {
   "cell_type": "markdown",
   "id": "94e5f28c",
   "metadata": {},
   "source": [
    "## Set mosaic parameters\n",
    "\n",
    "The `chunk_fraction` is how many sections you want one slice cut up into (has to be a square) and the `_load_image` partial function can include any image transformations you wish (border crop or background removal etc)."
   ]
  },
  {
   "cell_type": "code",
   "execution_count": 8,
   "id": "decc841c",
   "metadata": {},
   "outputs": [],
   "source": [
    "chunk_fraction = 9\n",
    "_load_image = partial(load_image, transforms=[])#input_transforms)"
   ]
  },
  {
   "cell_type": "code",
   "execution_count": 9,
   "id": "efea1beb",
   "metadata": {},
   "outputs": [],
   "source": [
    "import warnings\n",
    "warnings.filterwarnings(\"ignore\")"
   ]
  },
  {
   "cell_type": "code",
   "execution_count": 10,
   "id": "1ac003a0",
   "metadata": {},
   "outputs": [],
   "source": [
    "_fuse_func=partial(fuse_func, \n",
    "                   imload_fn=_load_image,\n",
    "                   dtype=imread(fns[0]).dtype)"
   ]
  },
  {
   "cell_type": "markdown",
   "id": "d1751d09",
   "metadata": {},
   "source": [
    "# I need to iterate over channels if I want to visualise Mtb"
   ]
  },
  {
   "cell_type": "code",
   "execution_count": 146,
   "id": "718529c3",
   "metadata": {},
   "outputs": [
    {
     "data": {
      "application/vnd.jupyter.widget-view+json": {
       "model_id": "4828ad1b358747668ee750fda7c04838",
       "version_major": 2,
       "version_minor": 0
      },
      "text/plain": [
       "  0%|          | 0/5 [00:00<?, ?it/s]"
      ]
     },
     "metadata": {},
     "output_type": "display_data"
    },
    {
     "data": {
      "application/vnd.jupyter.widget-view+json": {
       "model_id": "",
       "version_major": 2,
       "version_minor": 0
      },
      "text/plain": [
       "  0%|          | 0/2 [00:00<?, ?it/s]"
      ]
     },
     "metadata": {},
     "output_type": "display_data"
    },
    {
     "data": {
      "application/vnd.jupyter.widget-view+json": {
       "model_id": "",
       "version_major": 2,
       "version_minor": 0
      },
      "text/plain": [
       "  0%|          | 0/3 [00:00<?, ?it/s]"
      ]
     },
     "metadata": {},
     "output_type": "display_data"
    },
    {
     "data": {
      "application/vnd.jupyter.widget-view+json": {
       "model_id": "",
       "version_major": 2,
       "version_minor": 0
      },
      "text/plain": [
       "  0%|          | 0/3 [00:00<?, ?it/s]"
      ]
     },
     "metadata": {},
     "output_type": "display_data"
    },
    {
     "data": {
      "application/vnd.jupyter.widget-view+json": {
       "model_id": "",
       "version_major": 2,
       "version_minor": 0
      },
      "text/plain": [
       "  0%|          | 0/2 [00:00<?, ?it/s]"
      ]
     },
     "metadata": {},
     "output_type": "display_data"
    },
    {
     "data": {
      "application/vnd.jupyter.widget-view+json": {
       "model_id": "",
       "version_major": 2,
       "version_minor": 0
      },
      "text/plain": [
       "  0%|          | 0/3 [00:00<?, ?it/s]"
      ]
     },
     "metadata": {},
     "output_type": "display_data"
    },
    {
     "data": {
      "application/vnd.jupyter.widget-view+json": {
       "model_id": "",
       "version_major": 2,
       "version_minor": 0
      },
      "text/plain": [
       "  0%|          | 0/3 [00:00<?, ?it/s]"
      ]
     },
     "metadata": {},
     "output_type": "display_data"
    },
    {
     "data": {
      "application/vnd.jupyter.widget-view+json": {
       "model_id": "",
       "version_major": 2,
       "version_minor": 0
      },
      "text/plain": [
       "  0%|          | 0/2 [00:00<?, ?it/s]"
      ]
     },
     "metadata": {},
     "output_type": "display_data"
    },
    {
     "data": {
      "application/vnd.jupyter.widget-view+json": {
       "model_id": "",
       "version_major": 2,
       "version_minor": 0
      },
      "text/plain": [
       "  0%|          | 0/3 [00:00<?, ?it/s]"
      ]
     },
     "metadata": {},
     "output_type": "display_data"
    },
    {
     "data": {
      "application/vnd.jupyter.widget-view+json": {
       "model_id": "",
       "version_major": 2,
       "version_minor": 0
      },
      "text/plain": [
       "  0%|          | 0/3 [00:00<?, ?it/s]"
      ]
     },
     "metadata": {},
     "output_type": "display_data"
    },
    {
     "data": {
      "application/vnd.jupyter.widget-view+json": {
       "model_id": "",
       "version_major": 2,
       "version_minor": 0
      },
      "text/plain": [
       "  0%|          | 0/2 [00:00<?, ?it/s]"
      ]
     },
     "metadata": {},
     "output_type": "display_data"
    },
    {
     "data": {
      "application/vnd.jupyter.widget-view+json": {
       "model_id": "",
       "version_major": 2,
       "version_minor": 0
      },
      "text/plain": [
       "  0%|          | 0/3 [00:00<?, ?it/s]"
      ]
     },
     "metadata": {},
     "output_type": "display_data"
    },
    {
     "data": {
      "application/vnd.jupyter.widget-view+json": {
       "model_id": "",
       "version_major": 2,
       "version_minor": 0
      },
      "text/plain": [
       "  0%|          | 0/3 [00:00<?, ?it/s]"
      ]
     },
     "metadata": {},
     "output_type": "display_data"
    },
    {
     "data": {
      "application/vnd.jupyter.widget-view+json": {
       "model_id": "",
       "version_major": 2,
       "version_minor": 0
      },
      "text/plain": [
       "  0%|          | 0/2 [00:00<?, ?it/s]"
      ]
     },
     "metadata": {},
     "output_type": "display_data"
    },
    {
     "data": {
      "application/vnd.jupyter.widget-view+json": {
       "model_id": "",
       "version_major": 2,
       "version_minor": 0
      },
      "text/plain": [
       "  0%|          | 0/3 [00:00<?, ?it/s]"
      ]
     },
     "metadata": {},
     "output_type": "display_data"
    },
    {
     "data": {
      "application/vnd.jupyter.widget-view+json": {
       "model_id": "",
       "version_major": 2,
       "version_minor": 0
      },
      "text/plain": [
       "  0%|          | 0/3 [00:00<?, ?it/s]"
      ]
     },
     "metadata": {},
     "output_type": "display_data"
    }
   ],
   "source": [
    "z_mask_stack = []\n",
    "t_mask_stack = []\n",
    "images = dict()\n",
    "masks = dict()\n",
    "for row, col in (row_col_list):\n",
    "    ### define row and col\n",
    "    row, col = str(row), str(col)\n",
    "    ### clear empty arrays for organsing into dask arrays\n",
    "    t_stack = []\n",
    "    t_mask_stack = []\n",
    "    ### iterate over each individual image slice, tiling together\n",
    "    for time in tqdm(timepoint_IDs[0:5]):\n",
    "        c_stack = []\n",
    "        for channel in tqdm(channel_IDs, leave = False):\n",
    "            z_stack = []\n",
    "            if channel == '1':\n",
    "                z_mask_stack = []\n",
    "            for plane in tqdm(plane_IDs, leave = False):\n",
    "                frame = stitch(time, plane, channel, row, col, chunk_fraction)\n",
    "                ### if we're iterating over the GFP channel then segment that\n",
    "                if channel == '1':\n",
    "                    masks_frame = segment(frame)\n",
    "                    masks_frame = da.from_array(masks_frame, chunks=frame.chunksize)\n",
    "                    z_mask_stack.append(masks_frame)\n",
    "                ### collect stitched frames together into time stack\n",
    "                z_stack.append(frame)\n",
    "            ### stack channel series together (images)\n",
    "            c_stack.append(z_stack)\n",
    "        ### stack together timewise\n",
    "        t_stack.append(c_stack)\n",
    "        t_mask_stack.append(z_mask_stack)\n",
    "    ### stack stitched dask arrays together into multidim image volumes\n",
    "    images[(int(row), int(col))] = da.stack([da.stack(c_stack, axis = 0) for c_stack in t_stack])\n",
    "    masks[(int(row), int(col))] =  da.stack(t_mask_stack)\n",
    "    break"
   ]
  },
  {
   "cell_type": "code",
   "execution_count": 150,
   "id": "9b19254d",
   "metadata": {},
   "outputs": [
    {
     "data": {
      "text/plain": [
       "((2016, 2016, 2016), (2016, 2016, 2016))"
      ]
     },
     "execution_count": 150,
     "metadata": {},
     "output_type": "execute_result"
    }
   ],
   "source": [
    "masks_frame.chunks"
   ]
  },
  {
   "cell_type": "code",
   "execution_count": 160,
   "id": "2b25a9db",
   "metadata": {},
   "outputs": [
    {
     "data": {
      "text/html": [
       "<table>\n",
       "<tr>\n",
       "<td>\n",
       "<table>\n",
       "  <thead>\n",
       "    <tr><td> </td><th> Array </th><th> Chunk </th></tr>\n",
       "  </thead>\n",
       "  <tbody>\n",
       "    <tr><th> Bytes </th><td> 23.26 MiB </td> <td> 7.75 MiB </td></tr>\n",
       "    <tr><th> Shape </th><td> (2016, 6048) </td> <td> (2016, 2016) </td></tr>\n",
       "    <tr><th> Count </th><td> 12 Tasks </td><td> 3 Chunks </td></tr>\n",
       "    <tr><th> Type </th><td> uint16 </td><td> numpy.ndarray </td></tr>\n",
       "  </tbody>\n",
       "</table>\n",
       "</td>\n",
       "<td>\n",
       "<svg width=\"170\" height=\"93\" style=\"stroke:rgb(0,0,0);stroke-width:1\" >\n",
       "\n",
       "  <!-- Horizontal lines -->\n",
       "  <line x1=\"0\" y1=\"0\" x2=\"120\" y2=\"0\" style=\"stroke-width:2\" />\n",
       "  <line x1=\"0\" y1=\"43\" x2=\"120\" y2=\"43\" style=\"stroke-width:2\" />\n",
       "\n",
       "  <!-- Vertical lines -->\n",
       "  <line x1=\"0\" y1=\"0\" x2=\"0\" y2=\"43\" style=\"stroke-width:2\" />\n",
       "  <line x1=\"40\" y1=\"0\" x2=\"40\" y2=\"43\" />\n",
       "  <line x1=\"80\" y1=\"0\" x2=\"80\" y2=\"43\" />\n",
       "  <line x1=\"120\" y1=\"0\" x2=\"120\" y2=\"43\" style=\"stroke-width:2\" />\n",
       "\n",
       "  <!-- Colored Rectangle -->\n",
       "  <polygon points=\"0.0,0.0 120.0,0.0 120.0,43.88583450710766 0.0,43.88583450710766\" style=\"fill:#ECB172A0;stroke-width:0\"/>\n",
       "\n",
       "  <!-- Text -->\n",
       "  <text x=\"60.000000\" y=\"63.885835\" font-size=\"1.0rem\" font-weight=\"100\" text-anchor=\"middle\" >6048</text>\n",
       "  <text x=\"140.000000\" y=\"21.942917\" font-size=\"1.0rem\" font-weight=\"100\" text-anchor=\"middle\" transform=\"rotate(-90,140.000000,21.942917)\">2016</text>\n",
       "</svg>\n",
       "</td>\n",
       "</tr>\n",
       "</table>"
      ],
      "text/plain": [
       "dask.array<getitem, shape=(2016, 6048), dtype=uint16, chunksize=(2016, 2016), chunktype=numpy.ndarray>"
      ]
     },
     "execution_count": 160,
     "metadata": {},
     "output_type": "execute_result"
    }
   ],
   "source": [
    "masks_frame[0:2016, ]\n"
   ]
  },
  {
   "cell_type": "code",
   "execution_count": 148,
   "id": "e3bc4762",
   "metadata": {},
   "outputs": [
    {
     "data": {
      "text/html": [
       "<table>\n",
       "<tr>\n",
       "<td>\n",
       "<table>\n",
       "  <thead>\n",
       "    <tr><td> </td><th> Array </th><th> Chunk </th></tr>\n",
       "  </thead>\n",
       "  <tbody>\n",
       "    <tr><th> Bytes </th><td> 2.04 GiB </td> <td> 7.75 MiB </td></tr>\n",
       "    <tr><th> Shape </th><td> (5, 2, 3, 6048, 6048) </td> <td> (1, 1, 1, 2016, 2016) </td></tr>\n",
       "    <tr><th> Count </th><td> 1350 Tasks </td><td> 270 Chunks </td></tr>\n",
       "    <tr><th> Type </th><td> uint16 </td><td> numpy.ndarray </td></tr>\n",
       "  </tbody>\n",
       "</table>\n",
       "</td>\n",
       "<td>\n",
       "<svg width=\"374\" height=\"184\" style=\"stroke:rgb(0,0,0);stroke-width:1\" >\n",
       "\n",
       "  <!-- Horizontal lines -->\n",
       "  <line x1=\"0\" y1=\"0\" x2=\"25\" y2=\"0\" style=\"stroke-width:2\" />\n",
       "  <line x1=\"0\" y1=\"5\" x2=\"25\" y2=\"5\" />\n",
       "  <line x1=\"0\" y1=\"10\" x2=\"25\" y2=\"10\" />\n",
       "  <line x1=\"0\" y1=\"15\" x2=\"25\" y2=\"15\" />\n",
       "  <line x1=\"0\" y1=\"20\" x2=\"25\" y2=\"20\" />\n",
       "  <line x1=\"0\" y1=\"25\" x2=\"25\" y2=\"25\" style=\"stroke-width:2\" />\n",
       "\n",
       "  <!-- Vertical lines -->\n",
       "  <line x1=\"0\" y1=\"0\" x2=\"0\" y2=\"25\" style=\"stroke-width:2\" />\n",
       "  <line x1=\"12\" y1=\"0\" x2=\"12\" y2=\"25\" />\n",
       "  <line x1=\"25\" y1=\"0\" x2=\"25\" y2=\"25\" style=\"stroke-width:2\" />\n",
       "\n",
       "  <!-- Colored Rectangle -->\n",
       "  <polygon points=\"0.0,0.0 25.412616514582485,0.0 25.412616514582485,25.412616514582485 0.0,25.412616514582485\" style=\"fill:#ECB172A0;stroke-width:0\"/>\n",
       "\n",
       "  <!-- Text -->\n",
       "  <text x=\"12.706308\" y=\"45.412617\" font-size=\"1.0rem\" font-weight=\"100\" text-anchor=\"middle\" >2</text>\n",
       "  <text x=\"45.412617\" y=\"12.706308\" font-size=\"1.0rem\" font-weight=\"100\" text-anchor=\"middle\" transform=\"rotate(0,45.412617,12.706308)\">5</text>\n",
       "\n",
       "\n",
       "  <!-- Horizontal lines -->\n",
       "  <line x1=\"95\" y1=\"0\" x2=\"109\" y2=\"14\" style=\"stroke-width:2\" />\n",
       "  <line x1=\"95\" y1=\"40\" x2=\"109\" y2=\"54\" />\n",
       "  <line x1=\"95\" y1=\"80\" x2=\"109\" y2=\"94\" />\n",
       "  <line x1=\"95\" y1=\"120\" x2=\"109\" y2=\"134\" style=\"stroke-width:2\" />\n",
       "\n",
       "  <!-- Vertical lines -->\n",
       "  <line x1=\"95\" y1=\"0\" x2=\"95\" y2=\"120\" style=\"stroke-width:2\" />\n",
       "  <line x1=\"99\" y1=\"4\" x2=\"99\" y2=\"124\" />\n",
       "  <line x1=\"104\" y1=\"9\" x2=\"104\" y2=\"129\" />\n",
       "  <line x1=\"109\" y1=\"14\" x2=\"109\" y2=\"134\" style=\"stroke-width:2\" />\n",
       "\n",
       "  <!-- Colored Rectangle -->\n",
       "  <polygon points=\"95.0,0.0 109.9485979497544,14.948597949754403 109.9485979497544,134.9485979497544 95.0,120.0\" style=\"fill:#ECB172A0;stroke-width:0\"/>\n",
       "\n",
       "  <!-- Horizontal lines -->\n",
       "  <line x1=\"95\" y1=\"0\" x2=\"215\" y2=\"0\" style=\"stroke-width:2\" />\n",
       "  <line x1=\"99\" y1=\"4\" x2=\"219\" y2=\"4\" />\n",
       "  <line x1=\"104\" y1=\"9\" x2=\"224\" y2=\"9\" />\n",
       "  <line x1=\"109\" y1=\"14\" x2=\"229\" y2=\"14\" style=\"stroke-width:2\" />\n",
       "\n",
       "  <!-- Vertical lines -->\n",
       "  <line x1=\"95\" y1=\"0\" x2=\"109\" y2=\"14\" style=\"stroke-width:2\" />\n",
       "  <line x1=\"135\" y1=\"0\" x2=\"149\" y2=\"14\" />\n",
       "  <line x1=\"175\" y1=\"0\" x2=\"189\" y2=\"14\" />\n",
       "  <line x1=\"215\" y1=\"0\" x2=\"229\" y2=\"14\" style=\"stroke-width:2\" />\n",
       "\n",
       "  <!-- Colored Rectangle -->\n",
       "  <polygon points=\"95.0,0.0 215.0,0.0 229.9485979497544,14.948597949754403 109.9485979497544,14.948597949754403\" style=\"fill:#ECB172A0;stroke-width:0\"/>\n",
       "\n",
       "  <!-- Horizontal lines -->\n",
       "  <line x1=\"109\" y1=\"14\" x2=\"229\" y2=\"14\" style=\"stroke-width:2\" />\n",
       "  <line x1=\"109\" y1=\"54\" x2=\"229\" y2=\"54\" />\n",
       "  <line x1=\"109\" y1=\"94\" x2=\"229\" y2=\"94\" />\n",
       "  <line x1=\"109\" y1=\"134\" x2=\"229\" y2=\"134\" style=\"stroke-width:2\" />\n",
       "\n",
       "  <!-- Vertical lines -->\n",
       "  <line x1=\"109\" y1=\"14\" x2=\"109\" y2=\"134\" style=\"stroke-width:2\" />\n",
       "  <line x1=\"149\" y1=\"14\" x2=\"149\" y2=\"134\" />\n",
       "  <line x1=\"189\" y1=\"14\" x2=\"189\" y2=\"134\" />\n",
       "  <line x1=\"229\" y1=\"14\" x2=\"229\" y2=\"134\" style=\"stroke-width:2\" />\n",
       "\n",
       "  <!-- Colored Rectangle -->\n",
       "  <polygon points=\"109.9485979497544,14.948597949754403 229.9485979497544,14.948597949754403 229.9485979497544,134.9485979497544 109.9485979497544,134.9485979497544\" style=\"fill:#ECB172A0;stroke-width:0\"/>\n",
       "\n",
       "  <!-- Text -->\n",
       "  <text x=\"169.948598\" y=\"154.948598\" font-size=\"1.0rem\" font-weight=\"100\" text-anchor=\"middle\" >6048</text>\n",
       "  <text x=\"249.948598\" y=\"74.948598\" font-size=\"1.0rem\" font-weight=\"100\" text-anchor=\"middle\" transform=\"rotate(-90,249.948598,74.948598)\">6048</text>\n",
       "  <text x=\"92.474299\" y=\"147.474299\" font-size=\"1.0rem\" font-weight=\"100\" text-anchor=\"middle\" transform=\"rotate(45,92.474299,147.474299)\">3</text>\n",
       "</svg>\n",
       "</td>\n",
       "</tr>\n",
       "</table>"
      ],
      "text/plain": [
       "dask.array<stack, shape=(5, 2, 3, 6048, 6048), dtype=uint16, chunksize=(1, 1, 1, 2016, 2016), chunktype=numpy.ndarray>"
      ]
     },
     "execution_count": 148,
     "metadata": {},
     "output_type": "execute_result"
    }
   ],
   "source": [
    "images[(3,4)]"
   ]
  },
  {
   "cell_type": "code",
   "execution_count": 147,
   "id": "b947ad05",
   "metadata": {},
   "outputs": [
    {
     "data": {
      "text/html": [
       "<table>\n",
       "<tr>\n",
       "<td>\n",
       "<table>\n",
       "  <thead>\n",
       "    <tr><td> </td><th> Array </th><th> Chunk </th></tr>\n",
       "  </thead>\n",
       "  <tbody>\n",
       "    <tr><th> Bytes </th><td> 1.02 GiB </td> <td> 7.75 MiB </td></tr>\n",
       "    <tr><th> Shape </th><td> (5, 3, 6048, 6048) </td> <td> (1, 1, 2016, 2016) </td></tr>\n",
       "    <tr><th> Count </th><td> 405 Tasks </td><td> 135 Chunks </td></tr>\n",
       "    <tr><th> Type </th><td> uint16 </td><td> numpy.ndarray </td></tr>\n",
       "  </tbody>\n",
       "</table>\n",
       "</td>\n",
       "<td>\n",
       "<svg width=\"374\" height=\"184\" style=\"stroke:rgb(0,0,0);stroke-width:1\" >\n",
       "\n",
       "  <!-- Horizontal lines -->\n",
       "  <line x1=\"0\" y1=\"0\" x2=\"25\" y2=\"0\" style=\"stroke-width:2\" />\n",
       "  <line x1=\"0\" y1=\"25\" x2=\"25\" y2=\"25\" style=\"stroke-width:2\" />\n",
       "\n",
       "  <!-- Vertical lines -->\n",
       "  <line x1=\"0\" y1=\"0\" x2=\"0\" y2=\"25\" style=\"stroke-width:2\" />\n",
       "  <line x1=\"5\" y1=\"0\" x2=\"5\" y2=\"25\" />\n",
       "  <line x1=\"10\" y1=\"0\" x2=\"10\" y2=\"25\" />\n",
       "  <line x1=\"15\" y1=\"0\" x2=\"15\" y2=\"25\" />\n",
       "  <line x1=\"20\" y1=\"0\" x2=\"20\" y2=\"25\" />\n",
       "  <line x1=\"25\" y1=\"0\" x2=\"25\" y2=\"25\" style=\"stroke-width:2\" />\n",
       "\n",
       "  <!-- Colored Rectangle -->\n",
       "  <polygon points=\"0.0,0.0 25.412616514582485,0.0 25.412616514582485,25.412616514582485 0.0,25.412616514582485\" style=\"fill:#ECB172A0;stroke-width:0\"/>\n",
       "\n",
       "  <!-- Text -->\n",
       "  <text x=\"12.706308\" y=\"45.412617\" font-size=\"1.0rem\" font-weight=\"100\" text-anchor=\"middle\" >5</text>\n",
       "  <text x=\"45.412617\" y=\"12.706308\" font-size=\"1.0rem\" font-weight=\"100\" text-anchor=\"middle\" transform=\"rotate(0,45.412617,12.706308)\">1</text>\n",
       "\n",
       "\n",
       "  <!-- Horizontal lines -->\n",
       "  <line x1=\"95\" y1=\"0\" x2=\"109\" y2=\"14\" style=\"stroke-width:2\" />\n",
       "  <line x1=\"95\" y1=\"40\" x2=\"109\" y2=\"54\" />\n",
       "  <line x1=\"95\" y1=\"80\" x2=\"109\" y2=\"94\" />\n",
       "  <line x1=\"95\" y1=\"120\" x2=\"109\" y2=\"134\" style=\"stroke-width:2\" />\n",
       "\n",
       "  <!-- Vertical lines -->\n",
       "  <line x1=\"95\" y1=\"0\" x2=\"95\" y2=\"120\" style=\"stroke-width:2\" />\n",
       "  <line x1=\"99\" y1=\"4\" x2=\"99\" y2=\"124\" />\n",
       "  <line x1=\"104\" y1=\"9\" x2=\"104\" y2=\"129\" />\n",
       "  <line x1=\"109\" y1=\"14\" x2=\"109\" y2=\"134\" style=\"stroke-width:2\" />\n",
       "\n",
       "  <!-- Colored Rectangle -->\n",
       "  <polygon points=\"95.0,0.0 109.9485979497544,14.948597949754403 109.9485979497544,134.9485979497544 95.0,120.0\" style=\"fill:#ECB172A0;stroke-width:0\"/>\n",
       "\n",
       "  <!-- Horizontal lines -->\n",
       "  <line x1=\"95\" y1=\"0\" x2=\"215\" y2=\"0\" style=\"stroke-width:2\" />\n",
       "  <line x1=\"99\" y1=\"4\" x2=\"219\" y2=\"4\" />\n",
       "  <line x1=\"104\" y1=\"9\" x2=\"224\" y2=\"9\" />\n",
       "  <line x1=\"109\" y1=\"14\" x2=\"229\" y2=\"14\" style=\"stroke-width:2\" />\n",
       "\n",
       "  <!-- Vertical lines -->\n",
       "  <line x1=\"95\" y1=\"0\" x2=\"109\" y2=\"14\" style=\"stroke-width:2\" />\n",
       "  <line x1=\"135\" y1=\"0\" x2=\"149\" y2=\"14\" />\n",
       "  <line x1=\"175\" y1=\"0\" x2=\"189\" y2=\"14\" />\n",
       "  <line x1=\"215\" y1=\"0\" x2=\"229\" y2=\"14\" style=\"stroke-width:2\" />\n",
       "\n",
       "  <!-- Colored Rectangle -->\n",
       "  <polygon points=\"95.0,0.0 215.0,0.0 229.9485979497544,14.948597949754403 109.9485979497544,14.948597949754403\" style=\"fill:#ECB172A0;stroke-width:0\"/>\n",
       "\n",
       "  <!-- Horizontal lines -->\n",
       "  <line x1=\"109\" y1=\"14\" x2=\"229\" y2=\"14\" style=\"stroke-width:2\" />\n",
       "  <line x1=\"109\" y1=\"54\" x2=\"229\" y2=\"54\" />\n",
       "  <line x1=\"109\" y1=\"94\" x2=\"229\" y2=\"94\" />\n",
       "  <line x1=\"109\" y1=\"134\" x2=\"229\" y2=\"134\" style=\"stroke-width:2\" />\n",
       "\n",
       "  <!-- Vertical lines -->\n",
       "  <line x1=\"109\" y1=\"14\" x2=\"109\" y2=\"134\" style=\"stroke-width:2\" />\n",
       "  <line x1=\"149\" y1=\"14\" x2=\"149\" y2=\"134\" />\n",
       "  <line x1=\"189\" y1=\"14\" x2=\"189\" y2=\"134\" />\n",
       "  <line x1=\"229\" y1=\"14\" x2=\"229\" y2=\"134\" style=\"stroke-width:2\" />\n",
       "\n",
       "  <!-- Colored Rectangle -->\n",
       "  <polygon points=\"109.9485979497544,14.948597949754403 229.9485979497544,14.948597949754403 229.9485979497544,134.9485979497544 109.9485979497544,134.9485979497544\" style=\"fill:#ECB172A0;stroke-width:0\"/>\n",
       "\n",
       "  <!-- Text -->\n",
       "  <text x=\"169.948598\" y=\"154.948598\" font-size=\"1.0rem\" font-weight=\"100\" text-anchor=\"middle\" >6048</text>\n",
       "  <text x=\"249.948598\" y=\"74.948598\" font-size=\"1.0rem\" font-weight=\"100\" text-anchor=\"middle\" transform=\"rotate(-90,249.948598,74.948598)\">6048</text>\n",
       "  <text x=\"92.474299\" y=\"147.474299\" font-size=\"1.0rem\" font-weight=\"100\" text-anchor=\"middle\" transform=\"rotate(45,92.474299,147.474299)\">3</text>\n",
       "</svg>\n",
       "</td>\n",
       "</tr>\n",
       "</table>"
      ],
      "text/plain": [
       "dask.array<stack, shape=(5, 3, 6048, 6048), dtype=uint16, chunksize=(1, 1, 2016, 2016), chunktype=numpy.ndarray>"
      ]
     },
     "execution_count": 147,
     "metadata": {},
     "output_type": "execute_result"
    }
   ],
   "source": [
    "masks[(3,4)]"
   ]
  },
  {
   "cell_type": "code",
   "execution_count": 142,
   "id": "4252f1b8",
   "metadata": {},
   "outputs": [
    {
     "data": {
      "text/html": [
       "<table>\n",
       "<tr>\n",
       "<td>\n",
       "<table>\n",
       "  <thead>\n",
       "    <tr><td> </td><th> Array </th><th> Chunk </th></tr>\n",
       "  </thead>\n",
       "  <tbody>\n",
       "    <tr><th> Bytes </th><td> 2.04 GiB </td> <td> 52.33 MiB </td></tr>\n",
       "    <tr><th> Shape </th><td> (10, 3, 6048, 6048) </td> <td> (1, 3, 3024, 3024) </td></tr>\n",
       "    <tr><th> Count </th><td> 80 Tasks </td><td> 40 Chunks </td></tr>\n",
       "    <tr><th> Type </th><td> uint16 </td><td> numpy.ndarray </td></tr>\n",
       "  </tbody>\n",
       "</table>\n",
       "</td>\n",
       "<td>\n",
       "<svg width=\"374\" height=\"184\" style=\"stroke:rgb(0,0,0);stroke-width:1\" >\n",
       "\n",
       "  <!-- Horizontal lines -->\n",
       "  <line x1=\"0\" y1=\"0\" x2=\"25\" y2=\"0\" style=\"stroke-width:2\" />\n",
       "  <line x1=\"0\" y1=\"25\" x2=\"25\" y2=\"25\" style=\"stroke-width:2\" />\n",
       "\n",
       "  <!-- Vertical lines -->\n",
       "  <line x1=\"0\" y1=\"0\" x2=\"0\" y2=\"25\" style=\"stroke-width:2\" />\n",
       "  <line x1=\"2\" y1=\"0\" x2=\"2\" y2=\"25\" />\n",
       "  <line x1=\"5\" y1=\"0\" x2=\"5\" y2=\"25\" />\n",
       "  <line x1=\"7\" y1=\"0\" x2=\"7\" y2=\"25\" />\n",
       "  <line x1=\"10\" y1=\"0\" x2=\"10\" y2=\"25\" />\n",
       "  <line x1=\"12\" y1=\"0\" x2=\"12\" y2=\"25\" />\n",
       "  <line x1=\"15\" y1=\"0\" x2=\"15\" y2=\"25\" />\n",
       "  <line x1=\"17\" y1=\"0\" x2=\"17\" y2=\"25\" />\n",
       "  <line x1=\"20\" y1=\"0\" x2=\"20\" y2=\"25\" />\n",
       "  <line x1=\"22\" y1=\"0\" x2=\"22\" y2=\"25\" />\n",
       "  <line x1=\"25\" y1=\"0\" x2=\"25\" y2=\"25\" style=\"stroke-width:2\" />\n",
       "\n",
       "  <!-- Colored Rectangle -->\n",
       "  <polygon points=\"0.0,0.0 25.412616514582485,0.0 25.412616514582485,25.412616514582485 0.0,25.412616514582485\" style=\"fill:#ECB172A0;stroke-width:0\"/>\n",
       "\n",
       "  <!-- Text -->\n",
       "  <text x=\"12.706308\" y=\"45.412617\" font-size=\"1.0rem\" font-weight=\"100\" text-anchor=\"middle\" >10</text>\n",
       "  <text x=\"45.412617\" y=\"12.706308\" font-size=\"1.0rem\" font-weight=\"100\" text-anchor=\"middle\" transform=\"rotate(0,45.412617,12.706308)\">1</text>\n",
       "\n",
       "\n",
       "  <!-- Horizontal lines -->\n",
       "  <line x1=\"95\" y1=\"0\" x2=\"109\" y2=\"14\" style=\"stroke-width:2\" />\n",
       "  <line x1=\"95\" y1=\"60\" x2=\"109\" y2=\"74\" />\n",
       "  <line x1=\"95\" y1=\"120\" x2=\"109\" y2=\"134\" style=\"stroke-width:2\" />\n",
       "\n",
       "  <!-- Vertical lines -->\n",
       "  <line x1=\"95\" y1=\"0\" x2=\"95\" y2=\"120\" style=\"stroke-width:2\" />\n",
       "  <line x1=\"109\" y1=\"14\" x2=\"109\" y2=\"134\" style=\"stroke-width:2\" />\n",
       "\n",
       "  <!-- Colored Rectangle -->\n",
       "  <polygon points=\"95.0,0.0 109.9485979497544,14.948597949754403 109.9485979497544,134.9485979497544 95.0,120.0\" style=\"fill:#ECB172A0;stroke-width:0\"/>\n",
       "\n",
       "  <!-- Horizontal lines -->\n",
       "  <line x1=\"95\" y1=\"0\" x2=\"215\" y2=\"0\" style=\"stroke-width:2\" />\n",
       "  <line x1=\"109\" y1=\"14\" x2=\"229\" y2=\"14\" style=\"stroke-width:2\" />\n",
       "\n",
       "  <!-- Vertical lines -->\n",
       "  <line x1=\"95\" y1=\"0\" x2=\"109\" y2=\"14\" style=\"stroke-width:2\" />\n",
       "  <line x1=\"155\" y1=\"0\" x2=\"169\" y2=\"14\" />\n",
       "  <line x1=\"215\" y1=\"0\" x2=\"229\" y2=\"14\" style=\"stroke-width:2\" />\n",
       "\n",
       "  <!-- Colored Rectangle -->\n",
       "  <polygon points=\"95.0,0.0 215.0,0.0 229.9485979497544,14.948597949754403 109.9485979497544,14.948597949754403\" style=\"fill:#ECB172A0;stroke-width:0\"/>\n",
       "\n",
       "  <!-- Horizontal lines -->\n",
       "  <line x1=\"109\" y1=\"14\" x2=\"229\" y2=\"14\" style=\"stroke-width:2\" />\n",
       "  <line x1=\"109\" y1=\"74\" x2=\"229\" y2=\"74\" />\n",
       "  <line x1=\"109\" y1=\"134\" x2=\"229\" y2=\"134\" style=\"stroke-width:2\" />\n",
       "\n",
       "  <!-- Vertical lines -->\n",
       "  <line x1=\"109\" y1=\"14\" x2=\"109\" y2=\"134\" style=\"stroke-width:2\" />\n",
       "  <line x1=\"169\" y1=\"14\" x2=\"169\" y2=\"134\" />\n",
       "  <line x1=\"229\" y1=\"14\" x2=\"229\" y2=\"134\" style=\"stroke-width:2\" />\n",
       "\n",
       "  <!-- Colored Rectangle -->\n",
       "  <polygon points=\"109.9485979497544,14.948597949754403 229.9485979497544,14.948597949754403 229.9485979497544,134.9485979497544 109.9485979497544,134.9485979497544\" style=\"fill:#ECB172A0;stroke-width:0\"/>\n",
       "\n",
       "  <!-- Text -->\n",
       "  <text x=\"169.948598\" y=\"154.948598\" font-size=\"1.0rem\" font-weight=\"100\" text-anchor=\"middle\" >6048</text>\n",
       "  <text x=\"249.948598\" y=\"74.948598\" font-size=\"1.0rem\" font-weight=\"100\" text-anchor=\"middle\" transform=\"rotate(-90,249.948598,74.948598)\">6048</text>\n",
       "  <text x=\"92.474299\" y=\"147.474299\" font-size=\"1.0rem\" font-weight=\"100\" text-anchor=\"middle\" transform=\"rotate(45,92.474299,147.474299)\">3</text>\n",
       "</svg>\n",
       "</td>\n",
       "</tr>\n",
       "</table>"
      ],
      "text/plain": [
       "dask.array<stack, shape=(10, 3, 6048, 6048), dtype=uint16, chunksize=(1, 3, 3024, 3024), chunktype=numpy.ndarray>"
      ]
     },
     "execution_count": 142,
     "metadata": {},
     "output_type": "execute_result"
    }
   ],
   "source": [
    "masks2[(3,4)]"
   ]
  },
  {
   "cell_type": "code",
   "execution_count": 136,
   "id": "e183b83e",
   "metadata": {},
   "outputs": [
    {
     "data": {
      "text/html": [
       "<table>\n",
       "<tr>\n",
       "<td>\n",
       "<table>\n",
       "  <thead>\n",
       "    <tr><td> </td><th> Array </th><th> Chunk </th></tr>\n",
       "  </thead>\n",
       "  <tbody>\n",
       "    <tr><th> Bytes </th><td> 69.77 MiB </td> <td> 7.75 MiB </td></tr>\n",
       "    <tr><th> Shape </th><td> (6048, 6048) </td> <td> (2016, 2016) </td></tr>\n",
       "    <tr><th> Count </th><td> 9 Tasks </td><td> 9 Chunks </td></tr>\n",
       "    <tr><th> Type </th><td> uint16 </td><td> numpy.ndarray </td></tr>\n",
       "  </tbody>\n",
       "</table>\n",
       "</td>\n",
       "<td>\n",
       "<svg width=\"170\" height=\"170\" style=\"stroke:rgb(0,0,0);stroke-width:1\" >\n",
       "\n",
       "  <!-- Horizontal lines -->\n",
       "  <line x1=\"0\" y1=\"0\" x2=\"120\" y2=\"0\" style=\"stroke-width:2\" />\n",
       "  <line x1=\"0\" y1=\"40\" x2=\"120\" y2=\"40\" />\n",
       "  <line x1=\"0\" y1=\"80\" x2=\"120\" y2=\"80\" />\n",
       "  <line x1=\"0\" y1=\"120\" x2=\"120\" y2=\"120\" style=\"stroke-width:2\" />\n",
       "\n",
       "  <!-- Vertical lines -->\n",
       "  <line x1=\"0\" y1=\"0\" x2=\"0\" y2=\"120\" style=\"stroke-width:2\" />\n",
       "  <line x1=\"40\" y1=\"0\" x2=\"40\" y2=\"120\" />\n",
       "  <line x1=\"80\" y1=\"0\" x2=\"80\" y2=\"120\" />\n",
       "  <line x1=\"120\" y1=\"0\" x2=\"120\" y2=\"120\" style=\"stroke-width:2\" />\n",
       "\n",
       "  <!-- Colored Rectangle -->\n",
       "  <polygon points=\"0.0,0.0 120.0,0.0 120.0,120.0 0.0,120.0\" style=\"fill:#ECB172A0;stroke-width:0\"/>\n",
       "\n",
       "  <!-- Text -->\n",
       "  <text x=\"60.000000\" y=\"140.000000\" font-size=\"1.0rem\" font-weight=\"100\" text-anchor=\"middle\" >6048</text>\n",
       "  <text x=\"140.000000\" y=\"60.000000\" font-size=\"1.0rem\" font-weight=\"100\" text-anchor=\"middle\" transform=\"rotate(-90,140.000000,60.000000)\">6048</text>\n",
       "</svg>\n",
       "</td>\n",
       "</tr>\n",
       "</table>"
      ],
      "text/plain": [
       "dask.array<array, shape=(6048, 6048), dtype=uint16, chunksize=(2016, 2016), chunktype=numpy.ndarray>"
      ]
     },
     "execution_count": 136,
     "metadata": {},
     "output_type": "execute_result"
    }
   ],
   "source": [
    "da.from_array(masks_frame, chunks=frame.chunksize)"
   ]
  },
  {
   "cell_type": "code",
   "execution_count": 128,
   "id": "fc9270a0",
   "metadata": {},
   "outputs": [
    {
     "name": "stderr",
     "output_type": "stream",
     "text": [
      "\n",
      "KeyboardInterrupt\n",
      "\n"
     ]
    }
   ],
   "source": [
    "da.from(t_mask_stack)"
   ]
  },
  {
   "cell_type": "code",
   "execution_count": null,
   "id": "72da7a1d",
   "metadata": {},
   "outputs": [],
   "source": [
    "da.stack([da.from_array(z_stack, chunks = ((2016,2016))) for z_stack in z_mask_stack])"
   ]
  },
  {
   "cell_type": "code",
   "execution_count": 139,
   "id": "69624273",
   "metadata": {},
   "outputs": [
    {
     "ename": "KeyError",
     "evalue": "(3, 4)",
     "output_type": "error",
     "traceback": [
      "\u001b[0;31m---------------------------------------------------------------------------\u001b[0m",
      "\u001b[0;31mKeyError\u001b[0m                                  Traceback (most recent call last)",
      "Input \u001b[0;32mIn [139]\u001b[0m, in \u001b[0;36m<cell line: 1>\u001b[0;34m()\u001b[0m\n\u001b[0;32m----> 1\u001b[0m \u001b[43mimages\u001b[49m\u001b[43m[\u001b[49m\u001b[43m(\u001b[49m\u001b[38;5;241;43m3\u001b[39;49m\u001b[43m,\u001b[49m\u001b[38;5;241;43m4\u001b[39;49m\u001b[43m)\u001b[49m\u001b[43m]\u001b[49m\u001b[38;5;241m.\u001b[39mchunks[\u001b[38;5;241m-\u001b[39m\u001b[38;5;241m1\u001b[39m][\u001b[38;5;241m-\u001b[39m\u001b[38;5;241m1\u001b[39m]\n",
      "\u001b[0;31mKeyError\u001b[0m: (3, 4)"
     ]
    }
   ],
   "source": [
    "images[(3,4)].chunks[-1][-1]"
   ]
  },
  {
   "cell_type": "code",
   "execution_count": 94,
   "id": "43b749b9",
   "metadata": {},
   "outputs": [
    {
     "data": {
      "text/html": [
       "<table>\n",
       "<tr>\n",
       "<td>\n",
       "<table>\n",
       "  <thead>\n",
       "    <tr><td> </td><th> Array </th><th> Chunk </th></tr>\n",
       "  </thead>\n",
       "  <tbody>\n",
       "    <tr><th> Bytes </th><td> 30.66 GiB </td> <td> 7.75 MiB </td></tr>\n",
       "    <tr><th> Shape </th><td> (75, 2, 3, 6048, 6048) </td> <td> (1, 1, 1, 2016, 2016) </td></tr>\n",
       "    <tr><th> Count </th><td> 20250 Tasks </td><td> 4050 Chunks </td></tr>\n",
       "    <tr><th> Type </th><td> uint16 </td><td> numpy.ndarray </td></tr>\n",
       "  </tbody>\n",
       "</table>\n",
       "</td>\n",
       "<td>\n",
       "<svg width=\"374\" height=\"184\" style=\"stroke:rgb(0,0,0);stroke-width:1\" >\n",
       "\n",
       "  <!-- Horizontal lines -->\n",
       "  <line x1=\"0\" y1=\"0\" x2=\"25\" y2=\"0\" style=\"stroke-width:2\" />\n",
       "  <line x1=\"0\" y1=\"0\" x2=\"25\" y2=\"0\" />\n",
       "  <line x1=\"0\" y1=\"1\" x2=\"25\" y2=\"1\" />\n",
       "  <line x1=\"0\" y1=\"2\" x2=\"25\" y2=\"2\" />\n",
       "  <line x1=\"0\" y1=\"3\" x2=\"25\" y2=\"3\" />\n",
       "  <line x1=\"0\" y1=\"3\" x2=\"25\" y2=\"3\" />\n",
       "  <line x1=\"0\" y1=\"4\" x2=\"25\" y2=\"4\" />\n",
       "  <line x1=\"0\" y1=\"5\" x2=\"25\" y2=\"5\" />\n",
       "  <line x1=\"0\" y1=\"6\" x2=\"25\" y2=\"6\" />\n",
       "  <line x1=\"0\" y1=\"7\" x2=\"25\" y2=\"7\" />\n",
       "  <line x1=\"0\" y1=\"8\" x2=\"25\" y2=\"8\" />\n",
       "  <line x1=\"0\" y1=\"8\" x2=\"25\" y2=\"8\" />\n",
       "  <line x1=\"0\" y1=\"9\" x2=\"25\" y2=\"9\" />\n",
       "  <line x1=\"0\" y1=\"10\" x2=\"25\" y2=\"10\" />\n",
       "  <line x1=\"0\" y1=\"11\" x2=\"25\" y2=\"11\" />\n",
       "  <line x1=\"0\" y1=\"12\" x2=\"25\" y2=\"12\" />\n",
       "  <line x1=\"0\" y1=\"13\" x2=\"25\" y2=\"13\" />\n",
       "  <line x1=\"0\" y1=\"13\" x2=\"25\" y2=\"13\" />\n",
       "  <line x1=\"0\" y1=\"14\" x2=\"25\" y2=\"14\" />\n",
       "  <line x1=\"0\" y1=\"15\" x2=\"25\" y2=\"15\" />\n",
       "  <line x1=\"0\" y1=\"16\" x2=\"25\" y2=\"16\" />\n",
       "  <line x1=\"0\" y1=\"17\" x2=\"25\" y2=\"17\" />\n",
       "  <line x1=\"0\" y1=\"18\" x2=\"25\" y2=\"18\" />\n",
       "  <line x1=\"0\" y1=\"18\" x2=\"25\" y2=\"18\" />\n",
       "  <line x1=\"0\" y1=\"19\" x2=\"25\" y2=\"19\" />\n",
       "  <line x1=\"0\" y1=\"20\" x2=\"25\" y2=\"20\" />\n",
       "  <line x1=\"0\" y1=\"21\" x2=\"25\" y2=\"21\" />\n",
       "  <line x1=\"0\" y1=\"22\" x2=\"25\" y2=\"22\" />\n",
       "  <line x1=\"0\" y1=\"22\" x2=\"25\" y2=\"22\" />\n",
       "  <line x1=\"0\" y1=\"23\" x2=\"25\" y2=\"23\" />\n",
       "  <line x1=\"0\" y1=\"24\" x2=\"25\" y2=\"24\" />\n",
       "  <line x1=\"0\" y1=\"25\" x2=\"25\" y2=\"25\" />\n",
       "  <line x1=\"0\" y1=\"26\" x2=\"25\" y2=\"26\" style=\"stroke-width:2\" />\n",
       "\n",
       "  <!-- Vertical lines -->\n",
       "  <line x1=\"0\" y1=\"0\" x2=\"0\" y2=\"26\" style=\"stroke-width:2\" />\n",
       "  <line x1=\"12\" y1=\"0\" x2=\"12\" y2=\"26\" />\n",
       "  <line x1=\"25\" y1=\"0\" x2=\"25\" y2=\"26\" style=\"stroke-width:2\" />\n",
       "\n",
       "  <!-- Colored Rectangle -->\n",
       "  <polygon points=\"0.0,0.0 25.412616514582485,0.0 25.412616514582485,26.472362419580787 0.0,26.472362419580787\" style=\"fill:#8B4903A0;stroke-width:0\"/>\n",
       "\n",
       "  <!-- Text -->\n",
       "  <text x=\"12.706308\" y=\"46.472362\" font-size=\"1.0rem\" font-weight=\"100\" text-anchor=\"middle\" >2</text>\n",
       "  <text x=\"45.412617\" y=\"13.236181\" font-size=\"1.0rem\" font-weight=\"100\" text-anchor=\"middle\" transform=\"rotate(0,45.412617,13.236181)\">75</text>\n",
       "\n",
       "\n",
       "  <!-- Horizontal lines -->\n",
       "  <line x1=\"95\" y1=\"0\" x2=\"109\" y2=\"14\" style=\"stroke-width:2\" />\n",
       "  <line x1=\"95\" y1=\"40\" x2=\"109\" y2=\"54\" />\n",
       "  <line x1=\"95\" y1=\"80\" x2=\"109\" y2=\"94\" />\n",
       "  <line x1=\"95\" y1=\"120\" x2=\"109\" y2=\"134\" style=\"stroke-width:2\" />\n",
       "\n",
       "  <!-- Vertical lines -->\n",
       "  <line x1=\"95\" y1=\"0\" x2=\"95\" y2=\"120\" style=\"stroke-width:2\" />\n",
       "  <line x1=\"99\" y1=\"4\" x2=\"99\" y2=\"124\" />\n",
       "  <line x1=\"104\" y1=\"9\" x2=\"104\" y2=\"129\" />\n",
       "  <line x1=\"109\" y1=\"14\" x2=\"109\" y2=\"134\" style=\"stroke-width:2\" />\n",
       "\n",
       "  <!-- Colored Rectangle -->\n",
       "  <polygon points=\"95.0,0.0 109.9485979497544,14.948597949754403 109.9485979497544,134.9485979497544 95.0,120.0\" style=\"fill:#ECB172A0;stroke-width:0\"/>\n",
       "\n",
       "  <!-- Horizontal lines -->\n",
       "  <line x1=\"95\" y1=\"0\" x2=\"215\" y2=\"0\" style=\"stroke-width:2\" />\n",
       "  <line x1=\"99\" y1=\"4\" x2=\"219\" y2=\"4\" />\n",
       "  <line x1=\"104\" y1=\"9\" x2=\"224\" y2=\"9\" />\n",
       "  <line x1=\"109\" y1=\"14\" x2=\"229\" y2=\"14\" style=\"stroke-width:2\" />\n",
       "\n",
       "  <!-- Vertical lines -->\n",
       "  <line x1=\"95\" y1=\"0\" x2=\"109\" y2=\"14\" style=\"stroke-width:2\" />\n",
       "  <line x1=\"135\" y1=\"0\" x2=\"149\" y2=\"14\" />\n",
       "  <line x1=\"175\" y1=\"0\" x2=\"189\" y2=\"14\" />\n",
       "  <line x1=\"215\" y1=\"0\" x2=\"229\" y2=\"14\" style=\"stroke-width:2\" />\n",
       "\n",
       "  <!-- Colored Rectangle -->\n",
       "  <polygon points=\"95.0,0.0 215.0,0.0 229.9485979497544,14.948597949754403 109.9485979497544,14.948597949754403\" style=\"fill:#ECB172A0;stroke-width:0\"/>\n",
       "\n",
       "  <!-- Horizontal lines -->\n",
       "  <line x1=\"109\" y1=\"14\" x2=\"229\" y2=\"14\" style=\"stroke-width:2\" />\n",
       "  <line x1=\"109\" y1=\"54\" x2=\"229\" y2=\"54\" />\n",
       "  <line x1=\"109\" y1=\"94\" x2=\"229\" y2=\"94\" />\n",
       "  <line x1=\"109\" y1=\"134\" x2=\"229\" y2=\"134\" style=\"stroke-width:2\" />\n",
       "\n",
       "  <!-- Vertical lines -->\n",
       "  <line x1=\"109\" y1=\"14\" x2=\"109\" y2=\"134\" style=\"stroke-width:2\" />\n",
       "  <line x1=\"149\" y1=\"14\" x2=\"149\" y2=\"134\" />\n",
       "  <line x1=\"189\" y1=\"14\" x2=\"189\" y2=\"134\" />\n",
       "  <line x1=\"229\" y1=\"14\" x2=\"229\" y2=\"134\" style=\"stroke-width:2\" />\n",
       "\n",
       "  <!-- Colored Rectangle -->\n",
       "  <polygon points=\"109.9485979497544,14.948597949754403 229.9485979497544,14.948597949754403 229.9485979497544,134.9485979497544 109.9485979497544,134.9485979497544\" style=\"fill:#ECB172A0;stroke-width:0\"/>\n",
       "\n",
       "  <!-- Text -->\n",
       "  <text x=\"169.948598\" y=\"154.948598\" font-size=\"1.0rem\" font-weight=\"100\" text-anchor=\"middle\" >6048</text>\n",
       "  <text x=\"249.948598\" y=\"74.948598\" font-size=\"1.0rem\" font-weight=\"100\" text-anchor=\"middle\" transform=\"rotate(-90,249.948598,74.948598)\">6048</text>\n",
       "  <text x=\"92.474299\" y=\"147.474299\" font-size=\"1.0rem\" font-weight=\"100\" text-anchor=\"middle\" transform=\"rotate(45,92.474299,147.474299)\">3</text>\n",
       "</svg>\n",
       "</td>\n",
       "</tr>\n",
       "</table>"
      ],
      "text/plain": [
       "dask.array<stack, shape=(75, 2, 3, 6048, 6048), dtype=uint16, chunksize=(1, 1, 1, 2016, 2016), chunktype=numpy.ndarray>"
      ]
     },
     "execution_count": 94,
     "metadata": {},
     "output_type": "execute_result"
    }
   ],
   "source": [
    "images[(3, 4)]"
   ]
  },
  {
   "cell_type": "code",
   "execution_count": 99,
   "id": "76c85fe2",
   "metadata": {},
   "outputs": [
    {
     "data": {
      "text/html": [
       "<table>\n",
       "<tr>\n",
       "<td>\n",
       "<table>\n",
       "  <thead>\n",
       "    <tr><td> </td><th> Array </th><th> Chunk </th></tr>\n",
       "  </thead>\n",
       "  <tbody>\n",
       "    <tr><th> Bytes </th><td> 15.33 GiB </td> <td> 52.33 MiB </td></tr>\n",
       "    <tr><th> Shape </th><td> (75, 3, 6048, 6048) </td> <td> (1, 3, 3024, 3024) </td></tr>\n",
       "    <tr><th> Count </th><td> 600 Tasks </td><td> 300 Chunks </td></tr>\n",
       "    <tr><th> Type </th><td> uint16 </td><td> numpy.ndarray </td></tr>\n",
       "  </tbody>\n",
       "</table>\n",
       "</td>\n",
       "<td>\n",
       "<svg width=\"376\" height=\"184\" style=\"stroke:rgb(0,0,0);stroke-width:1\" >\n",
       "\n",
       "  <!-- Horizontal lines -->\n",
       "  <line x1=\"0\" y1=\"0\" x2=\"26\" y2=\"0\" style=\"stroke-width:2\" />\n",
       "  <line x1=\"0\" y1=\"25\" x2=\"26\" y2=\"25\" style=\"stroke-width:2\" />\n",
       "\n",
       "  <!-- Vertical lines -->\n",
       "  <line x1=\"0\" y1=\"0\" x2=\"0\" y2=\"25\" style=\"stroke-width:2\" />\n",
       "  <line x1=\"0\" y1=\"0\" x2=\"0\" y2=\"25\" />\n",
       "  <line x1=\"1\" y1=\"0\" x2=\"1\" y2=\"25\" />\n",
       "  <line x1=\"2\" y1=\"0\" x2=\"2\" y2=\"25\" />\n",
       "  <line x1=\"3\" y1=\"0\" x2=\"3\" y2=\"25\" />\n",
       "  <line x1=\"3\" y1=\"0\" x2=\"3\" y2=\"25\" />\n",
       "  <line x1=\"4\" y1=\"0\" x2=\"4\" y2=\"25\" />\n",
       "  <line x1=\"5\" y1=\"0\" x2=\"5\" y2=\"25\" />\n",
       "  <line x1=\"6\" y1=\"0\" x2=\"6\" y2=\"25\" />\n",
       "  <line x1=\"7\" y1=\"0\" x2=\"7\" y2=\"25\" />\n",
       "  <line x1=\"8\" y1=\"0\" x2=\"8\" y2=\"25\" />\n",
       "  <line x1=\"8\" y1=\"0\" x2=\"8\" y2=\"25\" />\n",
       "  <line x1=\"9\" y1=\"0\" x2=\"9\" y2=\"25\" />\n",
       "  <line x1=\"10\" y1=\"0\" x2=\"10\" y2=\"25\" />\n",
       "  <line x1=\"11\" y1=\"0\" x2=\"11\" y2=\"25\" />\n",
       "  <line x1=\"12\" y1=\"0\" x2=\"12\" y2=\"25\" />\n",
       "  <line x1=\"13\" y1=\"0\" x2=\"13\" y2=\"25\" />\n",
       "  <line x1=\"13\" y1=\"0\" x2=\"13\" y2=\"25\" />\n",
       "  <line x1=\"14\" y1=\"0\" x2=\"14\" y2=\"25\" />\n",
       "  <line x1=\"15\" y1=\"0\" x2=\"15\" y2=\"25\" />\n",
       "  <line x1=\"16\" y1=\"0\" x2=\"16\" y2=\"25\" />\n",
       "  <line x1=\"17\" y1=\"0\" x2=\"17\" y2=\"25\" />\n",
       "  <line x1=\"18\" y1=\"0\" x2=\"18\" y2=\"25\" />\n",
       "  <line x1=\"18\" y1=\"0\" x2=\"18\" y2=\"25\" />\n",
       "  <line x1=\"19\" y1=\"0\" x2=\"19\" y2=\"25\" />\n",
       "  <line x1=\"20\" y1=\"0\" x2=\"20\" y2=\"25\" />\n",
       "  <line x1=\"21\" y1=\"0\" x2=\"21\" y2=\"25\" />\n",
       "  <line x1=\"22\" y1=\"0\" x2=\"22\" y2=\"25\" />\n",
       "  <line x1=\"22\" y1=\"0\" x2=\"22\" y2=\"25\" />\n",
       "  <line x1=\"23\" y1=\"0\" x2=\"23\" y2=\"25\" />\n",
       "  <line x1=\"24\" y1=\"0\" x2=\"24\" y2=\"25\" />\n",
       "  <line x1=\"25\" y1=\"0\" x2=\"25\" y2=\"25\" />\n",
       "  <line x1=\"26\" y1=\"0\" x2=\"26\" y2=\"25\" style=\"stroke-width:2\" />\n",
       "\n",
       "  <!-- Colored Rectangle -->\n",
       "  <polygon points=\"0.0,0.0 26.472362419580787,0.0 26.472362419580787,25.412616514582485 0.0,25.412616514582485\" style=\"fill:#8B4903A0;stroke-width:0\"/>\n",
       "\n",
       "  <!-- Text -->\n",
       "  <text x=\"13.236181\" y=\"45.412617\" font-size=\"1.0rem\" font-weight=\"100\" text-anchor=\"middle\" >75</text>\n",
       "  <text x=\"46.472362\" y=\"12.706308\" font-size=\"1.0rem\" font-weight=\"100\" text-anchor=\"middle\" transform=\"rotate(0,46.472362,12.706308)\">1</text>\n",
       "\n",
       "\n",
       "  <!-- Horizontal lines -->\n",
       "  <line x1=\"96\" y1=\"0\" x2=\"110\" y2=\"14\" style=\"stroke-width:2\" />\n",
       "  <line x1=\"96\" y1=\"60\" x2=\"110\" y2=\"74\" />\n",
       "  <line x1=\"96\" y1=\"120\" x2=\"110\" y2=\"134\" style=\"stroke-width:2\" />\n",
       "\n",
       "  <!-- Vertical lines -->\n",
       "  <line x1=\"96\" y1=\"0\" x2=\"96\" y2=\"120\" style=\"stroke-width:2\" />\n",
       "  <line x1=\"110\" y1=\"14\" x2=\"110\" y2=\"134\" style=\"stroke-width:2\" />\n",
       "\n",
       "  <!-- Colored Rectangle -->\n",
       "  <polygon points=\"96.0,0.0 110.9485979497544,14.948597949754403 110.9485979497544,134.9485979497544 96.0,120.0\" style=\"fill:#ECB172A0;stroke-width:0\"/>\n",
       "\n",
       "  <!-- Horizontal lines -->\n",
       "  <line x1=\"96\" y1=\"0\" x2=\"216\" y2=\"0\" style=\"stroke-width:2\" />\n",
       "  <line x1=\"110\" y1=\"14\" x2=\"230\" y2=\"14\" style=\"stroke-width:2\" />\n",
       "\n",
       "  <!-- Vertical lines -->\n",
       "  <line x1=\"96\" y1=\"0\" x2=\"110\" y2=\"14\" style=\"stroke-width:2\" />\n",
       "  <line x1=\"156\" y1=\"0\" x2=\"170\" y2=\"14\" />\n",
       "  <line x1=\"216\" y1=\"0\" x2=\"230\" y2=\"14\" style=\"stroke-width:2\" />\n",
       "\n",
       "  <!-- Colored Rectangle -->\n",
       "  <polygon points=\"96.0,0.0 216.0,0.0 230.9485979497544,14.948597949754403 110.9485979497544,14.948597949754403\" style=\"fill:#ECB172A0;stroke-width:0\"/>\n",
       "\n",
       "  <!-- Horizontal lines -->\n",
       "  <line x1=\"110\" y1=\"14\" x2=\"230\" y2=\"14\" style=\"stroke-width:2\" />\n",
       "  <line x1=\"110\" y1=\"74\" x2=\"230\" y2=\"74\" />\n",
       "  <line x1=\"110\" y1=\"134\" x2=\"230\" y2=\"134\" style=\"stroke-width:2\" />\n",
       "\n",
       "  <!-- Vertical lines -->\n",
       "  <line x1=\"110\" y1=\"14\" x2=\"110\" y2=\"134\" style=\"stroke-width:2\" />\n",
       "  <line x1=\"170\" y1=\"14\" x2=\"170\" y2=\"134\" />\n",
       "  <line x1=\"230\" y1=\"14\" x2=\"230\" y2=\"134\" style=\"stroke-width:2\" />\n",
       "\n",
       "  <!-- Colored Rectangle -->\n",
       "  <polygon points=\"110.9485979497544,14.948597949754403 230.9485979497544,14.948597949754403 230.9485979497544,134.9485979497544 110.9485979497544,134.9485979497544\" style=\"fill:#ECB172A0;stroke-width:0\"/>\n",
       "\n",
       "  <!-- Text -->\n",
       "  <text x=\"170.948598\" y=\"154.948598\" font-size=\"1.0rem\" font-weight=\"100\" text-anchor=\"middle\" >6048</text>\n",
       "  <text x=\"250.948598\" y=\"74.948598\" font-size=\"1.0rem\" font-weight=\"100\" text-anchor=\"middle\" transform=\"rotate(-90,250.948598,74.948598)\">6048</text>\n",
       "  <text x=\"93.474299\" y=\"147.474299\" font-size=\"1.0rem\" font-weight=\"100\" text-anchor=\"middle\" transform=\"rotate(45,93.474299,147.474299)\">3</text>\n",
       "</svg>\n",
       "</td>\n",
       "</tr>\n",
       "</table>"
      ],
      "text/plain": [
       "dask.array<stack, shape=(75, 3, 6048, 6048), dtype=uint16, chunksize=(1, 3, 3024, 3024), chunktype=numpy.ndarray>"
      ]
     },
     "execution_count": 99,
     "metadata": {},
     "output_type": "execute_result"
    }
   ],
   "source": [
    "masks[(3, 4)].rechunk()"
   ]
  },
  {
   "cell_type": "code",
   "execution_count": 111,
   "id": "953c7f4e",
   "metadata": {},
   "outputs": [
    {
     "data": {
      "text/plain": [
       "((1, 1), (1, 1, 1), (2016, 2016, 2016))"
      ]
     },
     "execution_count": 111,
     "metadata": {},
     "output_type": "execute_result"
    }
   ],
   "source": [
    "images[(3, 4)].chunks[1:-1]"
   ]
  },
  {
   "cell_type": "code",
   "execution_count": 98,
   "id": "cb6877d4",
   "metadata": {},
   "outputs": [
    {
     "ename": "ValueError",
     "evalue": "Chunks do not add up to shape. Got chunks=((1, 1, 1, 1, 1, 1, 1, 1, 1, 1, 1, 1, 1, 1, 1, 1, 1, 1, 1, 1, 1, 1, 1, 1, 1, 1, 1, 1, 1, 1, 1, 1, 1, 1, 1, 1, 1, 1, 1, 1, 1, 1, 1, 1, 1, 1, 1, 1, 1, 1, 1, 1, 1, 1, 1, 1, 1, 1, 1, 1, 1, 1, 1, 1, 1, 1, 1, 1, 1, 1, 1, 1, 1, 1, 1), (1, 1), (1, 1, 1), (2016, 2016, 2016)), shape=(75, 3, 6048, 6048)",
     "output_type": "error",
     "traceback": [
      "\u001b[0;31m---------------------------------------------------------------------------\u001b[0m",
      "\u001b[0;31mValueError\u001b[0m                                Traceback (most recent call last)",
      "Input \u001b[0;32mIn [98]\u001b[0m, in \u001b[0;36m<cell line: 1>\u001b[0;34m()\u001b[0m\n\u001b[0;32m----> 1\u001b[0m \u001b[43mmasks\u001b[49m\u001b[43m[\u001b[49m\u001b[43m(\u001b[49m\u001b[38;5;241;43m3\u001b[39;49m\u001b[43m,\u001b[49m\u001b[43m \u001b[49m\u001b[38;5;241;43m4\u001b[39;49m\u001b[43m)\u001b[49m\u001b[43m]\u001b[49m\u001b[38;5;241;43m.\u001b[39;49m\u001b[43mrechunk\u001b[49m\u001b[43m(\u001b[49m\u001b[43mimages\u001b[49m\u001b[43m[\u001b[49m\u001b[43m(\u001b[49m\u001b[38;5;241;43m3\u001b[39;49m\u001b[43m,\u001b[49m\u001b[43m \u001b[49m\u001b[38;5;241;43m4\u001b[39;49m\u001b[43m)\u001b[49m\u001b[43m]\u001b[49m\u001b[38;5;241;43m.\u001b[39;49m\u001b[43mchunks\u001b[49m\u001b[43m)\u001b[49m\n",
      "File \u001b[0;32m~/miniconda3/envs/aero/lib/python3.9/site-packages/dask/array/core.py:2493\u001b[0m, in \u001b[0;36mArray.rechunk\u001b[0;34m(self, chunks, threshold, block_size_limit, balance)\u001b[0m\n\u001b[1;32m   2490\u001b[0m \u001b[38;5;124;03m\"\"\"See da.rechunk for docstring\"\"\"\u001b[39;00m\n\u001b[1;32m   2491\u001b[0m \u001b[38;5;28;01mfrom\u001b[39;00m \u001b[38;5;21;01m.\u001b[39;00m \u001b[38;5;28;01mimport\u001b[39;00m rechunk  \u001b[38;5;66;03m# avoid circular import\u001b[39;00m\n\u001b[0;32m-> 2493\u001b[0m \u001b[38;5;28;01mreturn\u001b[39;00m \u001b[43mrechunk\u001b[49m\u001b[43m(\u001b[49m\u001b[38;5;28;43mself\u001b[39;49m\u001b[43m,\u001b[49m\u001b[43m \u001b[49m\u001b[43mchunks\u001b[49m\u001b[43m,\u001b[49m\u001b[43m \u001b[49m\u001b[43mthreshold\u001b[49m\u001b[43m,\u001b[49m\u001b[43m \u001b[49m\u001b[43mblock_size_limit\u001b[49m\u001b[43m,\u001b[49m\u001b[43m \u001b[49m\u001b[43mbalance\u001b[49m\u001b[43m)\u001b[49m\n",
      "File \u001b[0;32m~/miniconda3/envs/aero/lib/python3.9/site-packages/dask/array/rechunk.py:253\u001b[0m, in \u001b[0;36mrechunk\u001b[0;34m(x, chunks, threshold, block_size_limit, balance)\u001b[0m\n\u001b[1;32m    251\u001b[0m \u001b[38;5;28;01mif\u001b[39;00m \u001b[38;5;28misinstance\u001b[39m(chunks, (\u001b[38;5;28mtuple\u001b[39m, \u001b[38;5;28mlist\u001b[39m)):\n\u001b[1;32m    252\u001b[0m     chunks \u001b[38;5;241m=\u001b[39m \u001b[38;5;28mtuple\u001b[39m(lc \u001b[38;5;28;01mif\u001b[39;00m lc \u001b[38;5;129;01mis\u001b[39;00m \u001b[38;5;129;01mnot\u001b[39;00m \u001b[38;5;28;01mNone\u001b[39;00m \u001b[38;5;28;01melse\u001b[39;00m rc \u001b[38;5;28;01mfor\u001b[39;00m lc, rc \u001b[38;5;129;01min\u001b[39;00m \u001b[38;5;28mzip\u001b[39m(chunks, x\u001b[38;5;241m.\u001b[39mchunks))\n\u001b[0;32m--> 253\u001b[0m chunks \u001b[38;5;241m=\u001b[39m \u001b[43mnormalize_chunks\u001b[49m\u001b[43m(\u001b[49m\n\u001b[1;32m    254\u001b[0m \u001b[43m    \u001b[49m\u001b[43mchunks\u001b[49m\u001b[43m,\u001b[49m\u001b[43m \u001b[49m\u001b[43mx\u001b[49m\u001b[38;5;241;43m.\u001b[39;49m\u001b[43mshape\u001b[49m\u001b[43m,\u001b[49m\u001b[43m \u001b[49m\u001b[43mlimit\u001b[49m\u001b[38;5;241;43m=\u001b[39;49m\u001b[43mblock_size_limit\u001b[49m\u001b[43m,\u001b[49m\u001b[43m \u001b[49m\u001b[43mdtype\u001b[49m\u001b[38;5;241;43m=\u001b[39;49m\u001b[43mx\u001b[49m\u001b[38;5;241;43m.\u001b[39;49m\u001b[43mdtype\u001b[49m\u001b[43m,\u001b[49m\u001b[43m \u001b[49m\u001b[43mprevious_chunks\u001b[49m\u001b[38;5;241;43m=\u001b[39;49m\u001b[43mx\u001b[49m\u001b[38;5;241;43m.\u001b[39;49m\u001b[43mchunks\u001b[49m\n\u001b[1;32m    255\u001b[0m \u001b[43m\u001b[49m\u001b[43m)\u001b[49m\n\u001b[1;32m    257\u001b[0m \u001b[38;5;66;03m# Now chunks are tuple of tuples\u001b[39;00m\n\u001b[1;32m    258\u001b[0m \u001b[38;5;28;01mif\u001b[39;00m \u001b[38;5;129;01mnot\u001b[39;00m balance \u001b[38;5;129;01mand\u001b[39;00m (chunks \u001b[38;5;241m==\u001b[39m x\u001b[38;5;241m.\u001b[39mchunks):\n",
      "File \u001b[0;32m~/miniconda3/envs/aero/lib/python3.9/site-packages/dask/array/core.py:2803\u001b[0m, in \u001b[0;36mnormalize_chunks\u001b[0;34m(chunks, shape, limit, dtype, previous_chunks)\u001b[0m\n\u001b[1;32m   2795\u001b[0m         \u001b[38;5;28;01mraise\u001b[39;00m \u001b[38;5;167;01mValueError\u001b[39;00m(\n\u001b[1;32m   2796\u001b[0m             \u001b[38;5;124m\"\u001b[39m\u001b[38;5;124mInput array has \u001b[39m\u001b[38;5;132;01m%d\u001b[39;00m\u001b[38;5;124m dimensions but the supplied \u001b[39m\u001b[38;5;124m\"\u001b[39m\n\u001b[1;32m   2797\u001b[0m             \u001b[38;5;124m\"\u001b[39m\u001b[38;5;124mchunks has only \u001b[39m\u001b[38;5;132;01m%d\u001b[39;00m\u001b[38;5;124m dimensions\u001b[39m\u001b[38;5;124m\"\u001b[39m \u001b[38;5;241m%\u001b[39m (\u001b[38;5;28mlen\u001b[39m(shape), \u001b[38;5;28mlen\u001b[39m(chunks))\n\u001b[1;32m   2798\u001b[0m         )\n\u001b[1;32m   2799\u001b[0m     \u001b[38;5;28;01mif\u001b[39;00m \u001b[38;5;129;01mnot\u001b[39;00m \u001b[38;5;28mall\u001b[39m(\n\u001b[1;32m   2800\u001b[0m         c \u001b[38;5;241m==\u001b[39m s \u001b[38;5;129;01mor\u001b[39;00m (math\u001b[38;5;241m.\u001b[39misnan(c) \u001b[38;5;129;01mor\u001b[39;00m math\u001b[38;5;241m.\u001b[39misnan(s))\n\u001b[1;32m   2801\u001b[0m         \u001b[38;5;28;01mfor\u001b[39;00m c, s \u001b[38;5;129;01min\u001b[39;00m \u001b[38;5;28mzip\u001b[39m(\u001b[38;5;28mmap\u001b[39m(\u001b[38;5;28msum\u001b[39m, chunks), shape)\n\u001b[1;32m   2802\u001b[0m     ):\n\u001b[0;32m-> 2803\u001b[0m         \u001b[38;5;28;01mraise\u001b[39;00m \u001b[38;5;167;01mValueError\u001b[39;00m(\n\u001b[1;32m   2804\u001b[0m             \u001b[38;5;124m\"\u001b[39m\u001b[38;5;124mChunks do not add up to shape. \u001b[39m\u001b[38;5;124m\"\u001b[39m\n\u001b[1;32m   2805\u001b[0m             \u001b[38;5;124m\"\u001b[39m\u001b[38;5;124mGot chunks=\u001b[39m\u001b[38;5;132;01m%s\u001b[39;00m\u001b[38;5;124m, shape=\u001b[39m\u001b[38;5;132;01m%s\u001b[39;00m\u001b[38;5;124m\"\u001b[39m \u001b[38;5;241m%\u001b[39m (chunks, shape)\n\u001b[1;32m   2806\u001b[0m         )\n\u001b[1;32m   2808\u001b[0m \u001b[38;5;28;01mreturn\u001b[39;00m \u001b[38;5;28mtuple\u001b[39m(\u001b[38;5;28mtuple\u001b[39m(\u001b[38;5;28mint\u001b[39m(x) \u001b[38;5;28;01mif\u001b[39;00m \u001b[38;5;129;01mnot\u001b[39;00m math\u001b[38;5;241m.\u001b[39misnan(x) \u001b[38;5;28;01melse\u001b[39;00m x \u001b[38;5;28;01mfor\u001b[39;00m x \u001b[38;5;129;01min\u001b[39;00m c) \u001b[38;5;28;01mfor\u001b[39;00m c \u001b[38;5;129;01min\u001b[39;00m chunks)\n",
      "\u001b[0;31mValueError\u001b[0m: Chunks do not add up to shape. Got chunks=((1, 1, 1, 1, 1, 1, 1, 1, 1, 1, 1, 1, 1, 1, 1, 1, 1, 1, 1, 1, 1, 1, 1, 1, 1, 1, 1, 1, 1, 1, 1, 1, 1, 1, 1, 1, 1, 1, 1, 1, 1, 1, 1, 1, 1, 1, 1, 1, 1, 1, 1, 1, 1, 1, 1, 1, 1, 1, 1, 1, 1, 1, 1, 1, 1, 1, 1, 1, 1, 1, 1, 1, 1, 1, 1), (1, 1), (1, 1, 1), (2016, 2016, 2016)), shape=(75, 3, 6048, 6048)"
     ]
    }
   ],
   "source": [
    "masks[(3, 4)].rechunk(images[(3, 4)].chunks)"
   ]
  },
  {
   "cell_type": "code",
   "execution_count": 95,
   "id": "0e721845",
   "metadata": {
    "scrolled": true
   },
   "outputs": [
    {
     "data": {
      "text/plain": [
       "((1,\n",
       "  1,\n",
       "  1,\n",
       "  1,\n",
       "  1,\n",
       "  1,\n",
       "  1,\n",
       "  1,\n",
       "  1,\n",
       "  1,\n",
       "  1,\n",
       "  1,\n",
       "  1,\n",
       "  1,\n",
       "  1,\n",
       "  1,\n",
       "  1,\n",
       "  1,\n",
       "  1,\n",
       "  1,\n",
       "  1,\n",
       "  1,\n",
       "  1,\n",
       "  1,\n",
       "  1,\n",
       "  1,\n",
       "  1,\n",
       "  1,\n",
       "  1,\n",
       "  1,\n",
       "  1,\n",
       "  1,\n",
       "  1,\n",
       "  1,\n",
       "  1,\n",
       "  1,\n",
       "  1,\n",
       "  1,\n",
       "  1,\n",
       "  1,\n",
       "  1,\n",
       "  1,\n",
       "  1,\n",
       "  1,\n",
       "  1,\n",
       "  1,\n",
       "  1,\n",
       "  1,\n",
       "  1,\n",
       "  1,\n",
       "  1,\n",
       "  1,\n",
       "  1,\n",
       "  1,\n",
       "  1,\n",
       "  1,\n",
       "  1,\n",
       "  1,\n",
       "  1,\n",
       "  1,\n",
       "  1,\n",
       "  1,\n",
       "  1,\n",
       "  1,\n",
       "  1,\n",
       "  1,\n",
       "  1,\n",
       "  1,\n",
       "  1,\n",
       "  1,\n",
       "  1,\n",
       "  1,\n",
       "  1,\n",
       "  1,\n",
       "  1),\n",
       " (3,),\n",
       " (3024, 3024),\n",
       " (3024, 3024))"
      ]
     },
     "execution_count": 95,
     "metadata": {},
     "output_type": "execute_result"
    }
   ],
   "source": [
    "masks[(3, 4)].chunks"
   ]
  },
  {
   "cell_type": "code",
   "execution_count": null,
   "id": "974fc618",
   "metadata": {},
   "outputs": [],
   "source": []
  },
  {
   "cell_type": "code",
   "execution_count": 16,
   "id": "b0201af6",
   "metadata": {},
   "outputs": [
    {
     "name": "stdout",
     "output_type": "stream",
     "text": [
      "nvcc: NVIDIA (R) Cuda compiler driver\n",
      "Copyright (c) 2005-2019 NVIDIA Corporation\n",
      "Built on Sun_Jul_28_19:07:16_PDT_2019\n",
      "Cuda compilation tools, release 10.1, V10.1.243\n",
      "Tue Dec 13 11:41:20 2022       \n",
      "+-----------------------------------------------------------------------------+\n",
      "| NVIDIA-SMI 515.86.01    Driver Version: 515.86.01    CUDA Version: 11.7     |\n",
      "|-------------------------------+----------------------+----------------------+\n",
      "| GPU  Name        Persistence-M| Bus-Id        Disp.A | Volatile Uncorr. ECC |\n",
      "| Fan  Temp  Perf  Pwr:Usage/Cap|         Memory-Usage | GPU-Util  Compute M. |\n",
      "|                               |                      |               MIG M. |\n",
      "|===============================+======================+======================|\n",
      "|   0  NVIDIA RTX A6000    On   | 00000000:65:00.0  On |                  Off |\n",
      "| 37%   62C    P2    85W / 300W |  13357MiB / 49140MiB |      3%      Default |\n",
      "|                               |                      |                  N/A |\n",
      "+-------------------------------+----------------------+----------------------+\n",
      "                                                                               \n",
      "+-----------------------------------------------------------------------------+\n",
      "| Processes:                                                                  |\n",
      "|  GPU   GI   CI        PID   Type   Process name                  GPU Memory |\n",
      "|        ID   ID                                                   Usage      |\n",
      "|=============================================================================|\n",
      "|    0   N/A  N/A      5906      G   /usr/lib/xorg/Xorg                 71MiB |\n",
      "|    0   N/A  N/A      6436      G   /usr/lib/xorg/Xorg                857MiB |\n",
      "|    0   N/A  N/A      6581      G   /usr/bin/gnome-shell               72MiB |\n",
      "|    0   N/A  N/A     25984      G   ...veSuggestionsOnlyOnDemand       87MiB |\n",
      "|    0   N/A  N/A     38051      G   ...AAAAAAAAA= --shared-files       29MiB |\n",
      "|    0   N/A  N/A     44991      G   ...mviewer/tv_bin/TeamViewer       74MiB |\n",
      "|    0   N/A  N/A    464741      G   ...eLanguageDetectionEnabled       80MiB |\n",
      "|    0   N/A  N/A    544472      G   ...nda3/envs/aero/bin/python      107MiB |\n",
      "|    0   N/A  N/A    682110      G   /usr/lib/firefox/firefox           84MiB |\n",
      "|    0   N/A  N/A    701974    C+G   ...724215468408363773,131072      108MiB |\n",
      "|    0   N/A  N/A   1344614    C+G   ...nda3/envs/aero/bin/python    10862MiB |\n",
      "|    0   N/A  N/A   1356930      C   ...nda3/envs/aero/bin/python      897MiB |\n",
      "+-----------------------------------------------------------------------------+\n",
      ">>> GPU activated? YES\n"
     ]
    }
   ],
   "source": [
    "!nvcc --version\n",
    "!nvidia-smi\n",
    "\n",
    "from cellpose import core, utils, io, models, metrics\n",
    "\n",
    "use_GPU = core.use_gpu()\n",
    "yn = ['NO', 'YES']\n",
    "print(f'>>> GPU activated? {yn[use_GPU]}')\n",
    "\n",
    "model = models.Cellpose(gpu=True, model_type='cyto')"
   ]
  },
  {
   "cell_type": "code",
   "execution_count": 15,
   "id": "865cbb1b",
   "metadata": {},
   "outputs": [],
   "source": [
    "def segment(img):\n",
    "    masks, flows, styles, diams = model.eval(frame, diameter=200, channels=[0,0],\n",
    "                                             flow_threshold=None, cellprob_threshold=0)\n",
    "    return masks"
   ]
  },
  {
   "cell_type": "code",
   "execution_count": 89,
   "id": "d3dfb477",
   "metadata": {},
   "outputs": [
    {
     "data": {
      "text/plain": [
       "<Labels layer '2' at 0x7ef9d4936550>"
      ]
     },
     "execution_count": 89,
     "metadata": {},
     "output_type": "execute_result"
    }
   ],
   "source": [
    "v = napari.Viewer()\n",
    "v.add_image(images[(3, 4)],\n",
    "            channel_axis=1,\n",
    "            name=[\"macrophage\", \"mtb\"],\n",
    "            colormap=[\"green\", \"magenta\"],\n",
    "            )  \n",
    "# v.add_image(images[(3, 4)])\n",
    "v.add_labels(masks[(3, 4)])\n",
    "v.add_labels(masks2[(3, 4)], name = '2')"
   ]
  },
  {
   "cell_type": "markdown",
   "id": "e067f01c",
   "metadata": {},
   "source": [
    "# Check segment"
   ]
  },
  {
   "cell_type": "code",
   "execution_count": null,
   "id": "c714652e",
   "metadata": {},
   "outputs": [],
   "source": [
    "images = dict()\n",
    "for row, col in (row_col_list):\n",
    "    ### define row and col\n",
    "    row, col = str(row), str(col)\n",
    "    ### clear empty arrays for organsing into dask arrays\n",
    "    t_stack = []\n",
    "    t_mask_stack = []\n",
    "    ### iterate over each individual image slice, tiling together\n",
    "    for time in tqdm(timepoint_IDs[0:2]):\n",
    "        z_stack = []\n",
    "        for plane in tqdm(plane_IDs):\n",
    "            c_stack = []\n",
    "            for channel in tqdm(channel_IDs):\n",
    "                ### load image             \n",
    "                frame = np.zeros((10,10))#stitch(time, plane, channel, row, col, chunk_fraction)\n",
    "                ### if we're iterating over the GFP channel then segment that\n",
    "                if channel == '1':\n",
    "                    print('segmenting')\n",
    "                    masks_frame = np.ones((10,10))#(#segment(frame)\n",
    "                    ### append to z_stack\n",
    "                    z_mask_stack.append(masks_frame)\n",
    "                ### collect stitched frames together into channel stack\n",
    "                c_stack.append(frame)\n",
    "            ### stack channel series together into z_stack\n",
    "            z_stack.append(c_stack)\n",
    "        ### stack masks together over t\n",
    "        t_mask_stack.append()    \n",
    "        ### stack together timewise\n",
    "        t_stack.append(c_stack)\n",
    "        print(time, channel, plane)\n",
    "        if channel == '1':\n",
    "            print('success')\n",
    "            t_mask_stack.append(z_mask_stack)\n",
    "### stack stitched dask arrays together into multidim image volumes\n",
    "    images[(int(row), int(col))] = da.stack([da.stack(c_stack, axis = 0) for c_stack in t_stack])\n",
    "    if channel == '1':\n",
    "        masks[(int(row), int(col))] =  da.stack([da.stack(z_mask_stack, axis = 0) for z_mask_stack in t_mask_stack])\n",
    "    break"
   ]
  },
  {
   "cell_type": "code",
   "execution_count": 73,
   "id": "3b41f6ad",
   "metadata": {},
   "outputs": [
    {
     "name": "stdout",
     "output_type": "stream",
     "text": [
      "Assistant skips harvesting pyclesperanto as it's not installed.\n",
      "Processing chunk at (0, 0)\n",
      "Processing chunk at (0, 2016)\n",
      "Processing chunk at (0, 4032)Processing chunk at (2016, 0)\n",
      "Processing chunk at (2016, 2016)\n",
      "\n",
      "Processing chunk at (2016, 4032)\n",
      "Processing chunk at (4032, 0)\n",
      "Processing chunk at (4032, 2016)\n",
      "Processing chunk at (4032, 4032)\n",
      "Processing chunk at (0, 0)Processing chunk at (0, 2016)\n",
      "\n",
      "Processing chunk at (0, 4032)\n",
      "Processing chunk at (2016, 0)\n",
      "Processing chunk at (2016, 2016)\n",
      "Processing chunk at (2016, 4032)\n",
      "Processing chunk at (4032, 0)Processing chunk at (4032, 2016)\n",
      "Processing chunk at (4032, 4032)\n",
      "\n"
     ]
    },
    {
     "data": {
      "text/plain": [
       "<Labels layer 'masks' at 0x7f7347972070>"
      ]
     },
     "execution_count": 73,
     "metadata": {},
     "output_type": "execute_result"
    }
   ],
   "source": [
    "v = napari.Viewer()\n",
    "# v.add_image(image,\n",
    "#             channel_axis=0,\n",
    "#             name=[\"macrophage\", \"mtb\"],\n",
    "#             colormap=[\"green\", \"magenta\"],\n",
    "#             )  \n",
    "v.add_image(img_vol)\n",
    "v.add_labels(masks)"
   ]
  },
  {
   "cell_type": "code",
   "execution_count": 208,
   "id": "4bbbcd4c",
   "metadata": {},
   "outputs": [
    {
     "data": {
      "text/html": [
       "<table>\n",
       "<tr>\n",
       "<td>\n",
       "<table>\n",
       "  <thead>\n",
       "    <tr><td> </td><th> Array </th><th> Chunk </th></tr>\n",
       "  </thead>\n",
       "  <tbody>\n",
       "    <tr><th> Bytes </th><td> 34.88 MiB </td> <td> 3.88 MiB </td></tr>\n",
       "    <tr><th> Shape </th><td> (6048, 6048) </td> <td> (2016, 2016) </td></tr>\n",
       "    <tr><th> Count </th><td> 19 Tasks </td><td> 9 Chunks </td></tr>\n",
       "    <tr><th> Type </th><td> uint8 </td><td> numpy.ndarray </td></tr>\n",
       "  </tbody>\n",
       "</table>\n",
       "</td>\n",
       "<td>\n",
       "<svg width=\"170\" height=\"170\" style=\"stroke:rgb(0,0,0);stroke-width:1\" >\n",
       "\n",
       "  <!-- Horizontal lines -->\n",
       "  <line x1=\"0\" y1=\"0\" x2=\"120\" y2=\"0\" style=\"stroke-width:2\" />\n",
       "  <line x1=\"0\" y1=\"40\" x2=\"120\" y2=\"40\" />\n",
       "  <line x1=\"0\" y1=\"80\" x2=\"120\" y2=\"80\" />\n",
       "  <line x1=\"0\" y1=\"120\" x2=\"120\" y2=\"120\" style=\"stroke-width:2\" />\n",
       "\n",
       "  <!-- Vertical lines -->\n",
       "  <line x1=\"0\" y1=\"0\" x2=\"0\" y2=\"120\" style=\"stroke-width:2\" />\n",
       "  <line x1=\"40\" y1=\"0\" x2=\"40\" y2=\"120\" />\n",
       "  <line x1=\"80\" y1=\"0\" x2=\"80\" y2=\"120\" />\n",
       "  <line x1=\"120\" y1=\"0\" x2=\"120\" y2=\"120\" style=\"stroke-width:2\" />\n",
       "\n",
       "  <!-- Colored Rectangle -->\n",
       "  <polygon points=\"0.0,0.0 120.0,0.0 120.0,120.0 0.0,120.0\" style=\"fill:#ECB172A0;stroke-width:0\"/>\n",
       "\n",
       "  <!-- Text -->\n",
       "  <text x=\"60.000000\" y=\"140.000000\" font-size=\"1.0rem\" font-weight=\"100\" text-anchor=\"middle\" >6048</text>\n",
       "  <text x=\"140.000000\" y=\"60.000000\" font-size=\"1.0rem\" font-weight=\"100\" text-anchor=\"middle\" transform=\"rotate(-90,140.000000,60.000000)\">6048</text>\n",
       "</svg>\n",
       "</td>\n",
       "</tr>\n",
       "</table>"
      ],
      "text/plain": [
       "dask.array<fuse_func, shape=(6048, 6048), dtype=uint8, chunksize=(2016, 2016), chunktype=numpy.ndarray>"
      ]
     },
     "execution_count": 208,
     "metadata": {},
     "output_type": "execute_result"
    }
   ],
   "source": [
    "target_array"
   ]
  }
 ],
 "metadata": {
  "kernelspec": {
   "display_name": "aero",
   "language": "python",
   "name": "aero"
  },
  "language_info": {
   "codemirror_mode": {
    "name": "ipython",
    "version": 3
   },
   "file_extension": ".py",
   "mimetype": "text/x-python",
   "name": "python",
   "nbconvert_exporter": "python",
   "pygments_lexer": "ipython3",
   "version": "3.9.12"
  }
 },
 "nbformat": 4,
 "nbformat_minor": 5
}
