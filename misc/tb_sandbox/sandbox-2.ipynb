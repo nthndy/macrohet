{
 "cells": [
  {
   "cell_type": "markdown",
   "id": "587656a3",
   "metadata": {},
   "source": [
    "copying some files down"
   ]
  },
  {
   "cell_type": "code",
   "execution_count": 1,
   "id": "b0e4604f",
   "metadata": {},
   "outputs": [],
   "source": [
    "from tqdm.auto import tqdm\n",
    "import shutil\n",
    "import os\n",
    "import glob\n",
    "from natsort import natsorted"
   ]
  },
  {
   "cell_type": "code",
   "execution_count": null,
   "id": "d3866cf0",
   "metadata": {},
   "outputs": [],
   "source": [
    "len(os.listdir('/run/user/30046150/gvfs/smb-share:server=data.thecrick.org,share=lab-gutierrezm/outputs/light_microscopy/Pierre SANTUCCI/Replication_IPSDM_GFP/Live_Cell_ATB_PS_20210416__2021-04-16T19_09_04-Measurement 1/Images'))"
   ]
  },
  {
   "cell_type": "code",
   "execution_count": 3,
   "id": "740eb1d4",
   "metadata": {},
   "outputs": [],
   "source": [
    "path = '/run/user/30046150/gvfs/smb-share:server=data.thecrick.org,share=lab-gutierrezm/outputs/light_microscopy/Pierre SANTUCCI/Replication_IPSDM_GFP/Live_Cell_ATB_PS_20210416__2021-04-16T19_09_04-Measurement 1/Images'"
   ]
  },
  {
   "cell_type": "code",
   "execution_count": null,
   "id": "2c34430a",
   "metadata": {},
   "outputs": [],
   "source": [
    "%%timeit\n",
    "\n",
    "image_fns = glob.glob(path+'/*')[0:100]"
   ]
  },
  {
   "cell_type": "code",
   "execution_count": null,
   "id": "fd22a06c",
   "metadata": {},
   "outputs": [],
   "source": [
    "%%time\n",
    "\n",
    "image_fns = glob.glob(path+'/*')"
   ]
  },
  {
   "cell_type": "code",
   "execution_count": 48,
   "id": "537c1e9c",
   "metadata": {},
   "outputs": [
    {
     "data": {
      "text/plain": [
       "113400"
      ]
     },
     "execution_count": 48,
     "metadata": {},
     "output_type": "execute_result"
    }
   ],
   "source": [
    "len(image_fns)"
   ]
  },
  {
   "cell_type": "code",
   "execution_count": 56,
   "id": "4f62e7a5",
   "metadata": {},
   "outputs": [],
   "source": [
    "from hurry.filesize import size, si"
   ]
  },
  {
   "cell_type": "code",
   "execution_count": null,
   "id": "2ae5a495",
   "metadata": {},
   "outputs": [],
   "source": [
    "%%time\n",
    "\n",
    "file_size = sum(os.path.getsize(f) for f in image_fns if os.path.isfile(f))\n",
    "\n",
    "size(file_size, system = si)"
   ]
  },
  {
   "cell_type": "code",
   "execution_count": 33,
   "id": "a3503969",
   "metadata": {},
   "outputs": [],
   "source": [
    "new_dir = '/mnt/DATA/sandbox/pierre_live_cell_data/outputs/Replication_IPSDM_GFP/Images'"
   ]
  },
  {
   "cell_type": "code",
   "execution_count": 34,
   "id": "df9e951a",
   "metadata": {},
   "outputs": [
    {
     "name": "stderr",
     "output_type": "stream",
     "text": [
      "100%|████████████████████████████████████████████████████████████████| 100/100 [00:16<00:00,  6.05it/s]\n"
     ]
    }
   ],
   "source": [
    "for fn in tqdm(image_fns):\n",
    "    base_fn = os.path.basename(fn)\n",
    "    new_fn = os.path.join(new_dir, base_fn)\n",
    "    if not os.path.exists(new_fn):\n",
    "        shutil.copy2(fn, new_fn)"
   ]
  },
  {
   "cell_type": "code",
   "execution_count": 36,
   "id": "4ca94955",
   "metadata": {},
   "outputs": [
    {
     "data": {
      "text/plain": [
       "302.4"
      ]
     },
     "execution_count": 36,
     "metadata": {},
     "output_type": "execute_result"
    }
   ],
   "source": [
    "((16/100)*113400)/60"
   ]
  },
  {
   "cell_type": "code",
   "execution_count": 38,
   "id": "3547455c",
   "metadata": {},
   "outputs": [
    {
     "data": {
      "text/plain": [
       "634.0194"
      ]
     },
     "execution_count": 38,
     "metadata": {},
     "output_type": "execute_result"
    }
   ],
   "source": [
    "((559.1/100)*113400)/1000"
   ]
  }
 ],
 "metadata": {
  "kernelspec": {
   "display_name": "aero",
   "language": "python",
   "name": "aero"
  },
  "language_info": {
   "codemirror_mode": {
    "name": "ipython",
    "version": 3
   },
   "file_extension": ".py",
   "mimetype": "text/x-python",
   "name": "python",
   "nbconvert_exporter": "python",
   "pygments_lexer": "ipython3",
   "version": "3.9.12"
  }
 },
 "nbformat": 4,
 "nbformat_minor": 5
}
