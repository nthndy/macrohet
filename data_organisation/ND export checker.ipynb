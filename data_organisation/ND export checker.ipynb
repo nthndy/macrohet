{
 "cells": [
  {
   "cell_type": "code",
   "execution_count": 1,
   "id": "83d383f0",
   "metadata": {},
   "outputs": [],
   "source": [
    "import napari\n",
    "from macrohet import dataio, tile, visualise\n",
    "import os, glob\n",
    "from tqdm.auto import tqdm\n",
    "import pandas as pd\n",
    "import shutil"
   ]
  },
  {
   "cell_type": "code",
   "execution_count": 2,
   "id": "3cfb0b70-cecb-4c9c-9975-a6b0943b34aa",
   "metadata": {},
   "outputs": [
    {
     "data": {
      "text/plain": [
       "721706"
      ]
     },
     "execution_count": 2,
     "metadata": {},
     "output_type": "execute_result"
    }
   ],
   "source": [
    "os.getpid()"
   ]
  },
  {
   "cell_type": "code",
   "execution_count": 4,
   "id": "f1a5bcf8-c0d3-4696-94c0-f5b588b07537",
   "metadata": {},
   "outputs": [],
   "source": [
    "def copy_files(file_basenames, source_dir, destination_dir, progress_file='progress.txt'):\n",
    "    # Create destination directory if it doesn't exist\n",
    "    os.makedirs(destination_dir, exist_ok=True)\n",
    "    print('Creating progress file')\n",
    "    \n",
    "    # Path for the progress file\n",
    "    progress_file_path = os.path.join(destination_dir, progress_file)\n",
    "    \n",
    "    # Read the progress file if it exists to know where to resume\n",
    "    if os.path.exists(progress_file_path):\n",
    "        with open(progress_file_path, 'r') as f:\n",
    "            completed_files = set(f.read().splitlines())\n",
    "    else:\n",
    "        completed_files = set()\n",
    "\n",
    "    print('Checking destination directory for already copied files')\n",
    "    # Count files in destination directory to approximate progress\n",
    "    N_files = len(os.listdir(destination_dir))\n",
    "    print(f'{N_files} files already copied')\n",
    "\n",
    "    # Assume the first N_files in the destination directory match the first N_files in file_basenames\n",
    "    # and add them to the completed_files set, if they are not already present.\n",
    "    for basename in file_basenames[:N_files]:\n",
    "        if basename not in completed_files:\n",
    "            completed_files.add(basename)\n",
    "            with open(progress_file_path, 'a') as f:\n",
    "                f.write(basename + '\\n')\n",
    "\n",
    "    print('Starting copy job')\n",
    "    # Initialize tqdm for visual progress feedback\n",
    "    with tqdm(total=len(file_basenames)-N_files, desc='Copying files') as pbar:\n",
    "        for basename in file_basenames:\n",
    "            # Construct source and destination file paths\n",
    "            src_path = os.path.join(source_dir, basename)\n",
    "            dst_path = os.path.join(destination_dir, basename)\n",
    "            \n",
    "            # Ensure the destination directory exists\n",
    "            os.makedirs(os.path.dirname(dst_path), exist_ok=True)\n",
    "            \n",
    "            # Skip if already copied\n",
    "            if basename in completed_files:\n",
    "                pbar.update(1)\n",
    "                continue\n",
    "\n",
    "            # Copy the file\n",
    "            shutil.copy2(src_path, dst_path)\n",
    "            \n",
    "            # Mark this file as completed by adding it to the progress file\n",
    "            with open(progress_file_path, 'a') as f:\n",
    "                f.write(basename + '\\n')\n",
    "            \n",
    "            # Update the progress bar\n",
    "            pbar.update(1)\n"
   ]
  },
  {
   "cell_type": "code",
   "execution_count": 3,
   "id": "c3ce8777-154b-4b54-940d-c8470e9779d2",
   "metadata": {},
   "outputs": [
    {
     "data": {
      "application/vnd.jupyter.widget-view+json": {
       "model_id": "4755dcef2687489db843f1db0f8b328c",
       "version_major": 2,
       "version_minor": 0
      },
      "text/plain": [
       "  0%|          | 0/4 [00:00<?, ?it/s]"
      ]
     },
     "metadata": {},
     "output_type": "display_data"
    },
    {
     "name": "stdout",
     "output_type": "stream",
     "text": [
      "Reading metadata XML file...\n"
     ]
    },
    {
     "data": {
      "application/vnd.jupyter.widget-view+json": {
       "model_id": "19b87a0d9bf74596a39a5238cd5e9e27",
       "version_major": 2,
       "version_minor": 0
      },
      "text/plain": [
       "0it [00:00, ?it/s]"
      ]
     },
     "metadata": {},
     "output_type": "display_data"
    },
    {
     "name": "stdout",
     "output_type": "stream",
     "text": [
      "Extracting metadata complete!\n"
     ]
    },
    {
     "data": {
      "application/vnd.jupyter.widget-view+json": {
       "model_id": "1eb9b730e0bb4b9cae178ac5598cc62e",
       "version_major": 2,
       "version_minor": 0
      },
      "text/plain": [
       "iterating over files in position ND0001:   0%|          | 0/1020600 [00:00<?, ?it/s]"
      ]
     },
     "metadata": {},
     "output_type": "display_data"
    },
    {
     "name": "stdout",
     "output_type": "stream",
     "text": [
      "Reading metadata XML file...\n"
     ]
    },
    {
     "data": {
      "application/vnd.jupyter.widget-view+json": {
       "model_id": "755da9f4c8b84b1b969f9d462b52dc6d",
       "version_major": 2,
       "version_minor": 0
      },
      "text/plain": [
       "0it [00:00, ?it/s]"
      ]
     },
     "metadata": {},
     "output_type": "display_data"
    },
    {
     "name": "stdout",
     "output_type": "stream",
     "text": [
      "Extracting metadata complete!\n"
     ]
    },
    {
     "data": {
      "application/vnd.jupyter.widget-view+json": {
       "model_id": "66287c98be034443a2999e5cbf6ae9d1",
       "version_major": 2,
       "version_minor": 0
      },
      "text/plain": [
       "iterating over files in position ND0000:   0%|          | 0/243648 [00:00<?, ?it/s]"
      ]
     },
     "metadata": {},
     "output_type": "display_data"
    },
    {
     "name": "stdout",
     "output_type": "stream",
     "text": [
      "Reading metadata XML file...\n"
     ]
    },
    {
     "data": {
      "application/vnd.jupyter.widget-view+json": {
       "model_id": "5981d962bf464f71a4dd475c32d32dde",
       "version_major": 2,
       "version_minor": 0
      },
      "text/plain": [
       "0it [00:00, ?it/s]"
      ]
     },
     "metadata": {},
     "output_type": "display_data"
    },
    {
     "name": "stdout",
     "output_type": "stream",
     "text": [
      "Extracting metadata complete!\n"
     ]
    },
    {
     "data": {
      "application/vnd.jupyter.widget-view+json": {
       "model_id": "844c6539e16341b1b0745e6d5f4223e6",
       "version_major": 2,
       "version_minor": 0
      },
      "text/plain": [
       "iterating over files in position ND0002:   0%|          | 0/388620 [00:00<?, ?it/s]"
      ]
     },
     "metadata": {},
     "output_type": "display_data"
    },
    {
     "name": "stdout",
     "output_type": "stream",
     "text": [
      "Reading metadata XML file...\n"
     ]
    },
    {
     "data": {
      "application/vnd.jupyter.widget-view+json": {
       "model_id": "0a614c016b9140a5878c30753bdbec11",
       "version_major": 2,
       "version_minor": 0
      },
      "text/plain": [
       "0it [00:00, ?it/s]"
      ]
     },
     "metadata": {},
     "output_type": "display_data"
    },
    {
     "name": "stdout",
     "output_type": "stream",
     "text": [
      "Extracting metadata complete!\n"
     ]
    },
    {
     "data": {
      "application/vnd.jupyter.widget-view+json": {
       "model_id": "2e88635e0f06425fb47a687c909f4b8f",
       "version_major": 2,
       "version_minor": 0
      },
      "text/plain": [
       "iterating over files in position ND0003:   0%|          | 0/349272 [00:00<?, ?it/s]"
      ]
     },
     "metadata": {},
     "output_type": "display_data"
    }
   ],
   "source": [
    "expt_IDs = [ 'ND0001', 'ND0000','ND0002', 'ND0003']\n",
    "missing_fns = []\n",
    "for expt_ID in tqdm(expt_IDs): \n",
    "    \n",
    "    metadata_fn = glob.glob(f'/mnt/SYNO/macrohet_syno/{expt_ID}/acquisition/Images/Index*xml')[0]\n",
    "    \n",
    "    metadata = dataio.read_harmony_metadata(metadata_fn)  \n",
    "    \n",
    "    file_basenames = metadata['URL']\n",
    "    \n",
    "    source_directory = f'/mnt/SYNO/macrohet_syno/{expt_ID}/acquisition/Images/'\n",
    "    dest_directory = f'/mnt/NEMO/home/users/dayn/macrohet_nemo/{expt_ID}/acquisition/Images/'\n",
    "    for file_basename in tqdm(file_basenames, desc = f'iterating over files in position {expt_ID}'):\n",
    "        \n",
    "        source_path = os.path.join(source_directory, file_basename)\n",
    "        dest_path = os.path.join(dest_directory, file_basename)\n",
    "        \n",
    "        if not os.path.exists(source_path):\n",
    "            print(f'{file_basename} not found in {source_directory}')\n",
    "            missing_fns.append(source_path)\n",
    "            \n",
    "            # print(full_path, ' transferring')\n",
    "            # shutil.copy2(source_path, source_path)\n"
   ]
  },
  {
   "cell_type": "code",
   "execution_count": 4,
   "id": "c9c6c0d0-e9ca-4c66-addb-be2cfbb13821",
   "metadata": {},
   "outputs": [
    {
     "data": {
      "text/plain": [
       "[]"
      ]
     },
     "execution_count": 4,
     "metadata": {},
     "output_type": "execute_result"
    }
   ],
   "source": [
    "missing_fns"
   ]
  },
  {
   "cell_type": "code",
   "execution_count": null,
   "id": "05379597-1927-4c02-adcf-28e2c2ad69bd",
   "metadata": {},
   "outputs": [],
   "source": [
    "dest_directory = f'/mnt/NEMO/home/users/dayn/macrohet_nemo/{expt_ID}/acquisition/Images/'"
   ]
  },
  {
   "cell_type": "code",
   "execution_count": 39,
   "id": "164fc5bc-cd38-47af-a53d-6a8f29dd4db9",
   "metadata": {},
   "outputs": [
    {
     "data": {
      "application/vnd.jupyter.widget-view+json": {
       "model_id": "6fd628a83f40427ab8ae888dedad8835",
       "version_major": 2,
       "version_minor": 0
      },
      "text/plain": [
       "  0%|          | 0/1 [00:00<?, ?it/s]"
      ]
     },
     "metadata": {},
     "output_type": "display_data"
    },
    {
     "name": "stdout",
     "output_type": "stream",
     "text": [
      "Reading metadata XML file...\n"
     ]
    },
    {
     "data": {
      "application/vnd.jupyter.widget-view+json": {
       "model_id": "fdd00641942045ac9a5a85ff7eab3f5d",
       "version_major": 2,
       "version_minor": 0
      },
      "text/plain": [
       "0it [00:00, ?it/s]"
      ]
     },
     "metadata": {},
     "output_type": "display_data"
    },
    {
     "name": "stdout",
     "output_type": "stream",
     "text": [
      "Extracting metadata complete!\n"
     ]
    },
    {
     "data": {
      "application/vnd.jupyter.widget-view+json": {
       "model_id": "193b662432d64041a88bfe493efc1f44",
       "version_major": 2,
       "version_minor": 0
      },
      "text/plain": [
       "iterating over files in position ND0001:   0%|          | 0/1020600 [00:00<?, ?it/s]"
      ]
     },
     "metadata": {},
     "output_type": "display_data"
    }
   ],
   "source": [
    "expt_IDs = [ 'ND0001',]# 'ND0000','ND0002', 'ND0003']\n",
    "missing_fns = []\n",
    "for expt_ID in tqdm(expt_IDs): \n",
    "    \n",
    "    metadata_fn = glob.glob(f'/mnt/SYNO/macrohet_syno/{expt_ID}/acquisition/Images/Index*xml')[0]\n",
    "    \n",
    "    metadata = dataio.read_harmony_metadata(metadata_fn)  \n",
    "    \n",
    "    file_basenames = metadata['URL']\n",
    "    \n",
    "    source_directory = f'/mnt/SYNO/macrohet_syno/{expt_ID}/acquisition/Images/'\n",
    "    dest_directory = f'/mnt/NEMO/home/users/dayn/macrohet_nemo/{expt_ID}/acquisition/Images/'\n",
    "    for file_basename in tqdm(file_basenames, desc = f'iterating over files in position {expt_ID}'):\n",
    "        \n",
    "        source_path = os.path.join(source_directory, file_basename)\n",
    "        dest_path = os.path.join(dest_directory, file_basename)\n",
    "\n",
    "        if not os.path.exists(dest_directory):\n",
    "            # print(full_path, ' transferring')\n",
    "            # shutil.copy2(source_path, source_path)\n"
   ]
  },
  {
   "cell_type": "code",
   "execution_count": 43,
   "id": "a1f9ae21-5380-491b-991e-6f81e201db14",
   "metadata": {},
   "outputs": [
    {
     "data": {
      "text/plain": [
       "'/mnt/SYNO/macrohet_syno/ND0001/acquisition/Images/r06c12f09p03-ch3sk300fk1fl1.tiff'"
      ]
     },
     "execution_count": 43,
     "metadata": {},
     "output_type": "execute_result"
    }
   ],
   "source": [
    "source_path"
   ]
  },
  {
   "cell_type": "code",
   "execution_count": 42,
   "id": "f9de924d-2636-4945-8290-36fcb9941bfa",
   "metadata": {},
   "outputs": [
    {
     "data": {
      "text/plain": [
       "'/mnt/NEMO/home/users/dayn/macrohet_nemo/ND0001/acquisition/Images/r06c12f09p03-ch3sk300fk1fl1.tiff'"
      ]
     },
     "execution_count": 42,
     "metadata": {},
     "output_type": "execute_result"
    }
   ],
   "source": [
    "dest_path"
   ]
  },
  {
   "cell_type": "code",
   "execution_count": 45,
   "id": "bb757bb4-6900-4d4d-8550-7333d545d62b",
   "metadata": {},
   "outputs": [
    {
     "data": {
      "application/vnd.jupyter.widget-view+json": {
       "model_id": "b0b593ba1b8c4e8db263e5714958ec33",
       "version_major": 2,
       "version_minor": 0
      },
      "text/plain": [
       "iterating over files in position ND0001:   0%|          | 0/1020600 [00:00<?, ?it/s]"
      ]
     },
     "metadata": {},
     "output_type": "display_data"
    }
   ],
   "source": [
    "# Initialize a list to hold filenames that caused exceptions\n",
    "error_files = []\n",
    "\n",
    "for file_basename in tqdm(file_basenames, desc=f'iterating over files in position {expt_ID}'):\n",
    "    source_path = os.path.join(source_directory, file_basename)\n",
    "    dest_path = os.path.join(dest_directory, file_basename)\n",
    "\n",
    "    if not os.path.exists(dest_path):\n",
    "        try:\n",
    "            # Attempt to copy the file from source to destination\n",
    "            shutil.copy2(source_path, dest_path)  # Corrected to copy to dest_path instead of source_path to source_path\n",
    "        except SameFileError:\n",
    "            # If a SameFileError is encountered, add the file to the error_files list\n",
    "            error_files.append(file_basename)\n",
    "        except Exception as e:\n",
    "            # Optionally handle other exceptions\n",
    "            print(f\"An error occurred with file {file_basename}: {e}\")\n",
    "            error_files.append(file_basename)"
   ]
  },
  {
   "cell_type": "code",
   "execution_count": 33,
   "id": "d1200b6d-bd7e-4502-aa1c-bc8feaf5eb87",
   "metadata": {},
   "outputs": [
    {
     "data": {
      "text/plain": [
       "True"
      ]
     },
     "execution_count": 33,
     "metadata": {},
     "output_type": "execute_result"
    }
   ],
   "source": [
    "os.path.exists(full_path)"
   ]
  },
  {
   "cell_type": "code",
   "execution_count": 38,
   "id": "65159b33-5b6f-46ee-ba42-481a2522b8cd",
   "metadata": {},
   "outputs": [
    {
     "data": {
      "text/plain": [
       "[]"
      ]
     },
     "execution_count": 38,
     "metadata": {},
     "output_type": "execute_result"
    }
   ],
   "source": [
    "missing_fns"
   ]
  },
  {
   "cell_type": "code",
   "execution_count": null,
   "id": "13f7e893-0ca6-49af-b5d0-1ad137cf566f",
   "metadata": {},
   "outputs": [],
   "source": [
    "'/mnt/NEMO/home/users/dayn/macrohet_nemo/'"
   ]
  },
  {
   "cell_type": "code",
   "execution_count": 35,
   "id": "c3e1f79c-e27a-499f-b194-82cab6213bdb",
   "metadata": {},
   "outputs": [
    {
     "data": {
      "application/vnd.jupyter.widget-view+json": {
       "model_id": "db0d7c87b9a149ec8ac530035d8d5ead",
       "version_major": 2,
       "version_minor": 0
      },
      "text/plain": [
       "iterating over files in position ND0001:   0%|          | 0/1020600 [00:00<?, ?it/s]"
      ]
     },
     "metadata": {},
     "output_type": "display_data"
    }
   ],
   "source": [
    "for file_basename in tqdm(file_basenames, desc = f'iterating over files in position {expt_ID}'):\n",
    "        \n",
    "        full_path = os.path.join(source_directory, file_basename)\n",
    "        \n",
    "        if not os.path.exists(full_path):\n",
    "            print(full_path, ' MISSING')\n",
    "            missing_fns.append(full_path)"
   ]
  },
  {
   "cell_type": "code",
   "execution_count": 29,
   "id": "44413047-d8f7-49ad-82af-65cea2c661ea",
   "metadata": {},
   "outputs": [
    {
     "data": {
      "application/vnd.jupyter.widget-view+json": {
       "model_id": "cc852386a9564a05af9c5bf63cf7cf89",
       "version_major": 2,
       "version_minor": 0
      },
      "text/plain": [
       "  0%|          | 0/4 [00:00<?, ?it/s]"
      ]
     },
     "metadata": {},
     "output_type": "display_data"
    },
    {
     "name": "stdout",
     "output_type": "stream",
     "text": [
      "Reading metadata XML file...\n"
     ]
    },
    {
     "data": {
      "application/vnd.jupyter.widget-view+json": {
       "model_id": "a15c8db1ef654093adb1e5b64e6e06d9",
       "version_major": 2,
       "version_minor": 0
      },
      "text/plain": [
       "0it [00:00, ?it/s]"
      ]
     },
     "metadata": {},
     "output_type": "display_data"
    },
    {
     "name": "stdout",
     "output_type": "stream",
     "text": [
      "Extracting metadata complete!\n"
     ]
    },
    {
     "data": {
      "application/vnd.jupyter.widget-view+json": {
       "model_id": "65293365da564f8aa136cf53323c4288",
       "version_major": 2,
       "version_minor": 0
      },
      "text/plain": [
       "iterating over files in position ND0000:   0%|          | 0/243648 [00:00<?, ?it/s]"
      ]
     },
     "metadata": {},
     "output_type": "display_data"
    }
   ],
   "source": [
    "expt_IDs = [ 'ND0000', 'ND0001','ND0002', 'ND0003']\n",
    "missing_fns = []\n",
    "for expt_ID in tqdm(expt_IDs): \n",
    "    \n",
    "    metadata_fn = glob.glob(f'/mnt/SYNO/macrohet_syno/{expt_ID}/acquisition/Images/Index*xml')[0]\n",
    "    \n",
    "    metadata = dataio.read_harmony_metadata(metadata_fn)  \n",
    "    \n",
    "    file_basenames = metadata['URL']\n",
    "    \n",
    "    source_directory = f'/mnt/SYNO/macrohet_syno/{expt_ID}/acquisition/Images/'\n",
    "\n",
    "    for file_basename in tqdm(file_basenames, desc = f'iterating over files in position {expt_ID}'):\n",
    "        \n",
    "        full_path = os.path.join(source_directory, file_basename)\n",
    "        \n",
    "        if not os.path.exists(full_path):\n",
    "            print(full_path, ' MISSING')\n",
    "            missing_fns.append(full_path)\n",
    "    break"
   ]
  },
  {
   "cell_type": "code",
   "execution_count": 30,
   "id": "4afa7ab5-d9f5-42da-aa9e-bf8eeca854b8",
   "metadata": {},
   "outputs": [
    {
     "data": {
      "text/plain": [
       "[]"
      ]
     },
     "execution_count": 30,
     "metadata": {},
     "output_type": "execute_result"
    }
   ],
   "source": [
    "missing_fns"
   ]
  },
  {
   "cell_type": "code",
   "execution_count": 15,
   "id": "c88e6bd6-2192-4bf0-8a17-2de13c2086e6",
   "metadata": {},
   "outputs": [
    {
     "name": "stderr",
     "output_type": "stream",
     "text": [
      "\n",
      "KeyboardInterrupt\n",
      "\n"
     ]
    }
   ],
   "source": [
    "%%time\n",
    "srcs = glob.glob('/mnt/NEMO/home/users/dayn/macrohet_nemo/macrohet_images/ND0000/Images/*.tiff')"
   ]
  },
  {
   "cell_type": "code",
   "execution_count": 17,
   "id": "c4e1cc03-4a21-492c-881b-79770d6c317f",
   "metadata": {},
   "outputs": [
    {
     "data": {
      "text/plain": [
       "243648"
      ]
     },
     "execution_count": 17,
     "metadata": {},
     "output_type": "execute_result"
    }
   ],
   "source": [
    "len(srcs)"
   ]
  },
  {
   "cell_type": "code",
   "execution_count": 24,
   "id": "4fcf9f71-a64f-42c6-bfc3-8ad6ff803dc4",
   "metadata": {},
   "outputs": [],
   "source": [
    "import shutil"
   ]
  },
  {
   "cell_type": "code",
   "execution_count": 26,
   "id": "fe071eec-d065-40fd-98ac-4a4681e57a73",
   "metadata": {},
   "outputs": [
    {
     "data": {
      "application/vnd.jupyter.widget-view+json": {
       "model_id": "012d76136e9941958cf233e66c5fcf05",
       "version_major": 2,
       "version_minor": 0
      },
      "text/plain": [
       "  0%|          | 0/243648 [00:00<?, ?it/s]"
      ]
     },
     "metadata": {},
     "output_type": "display_data"
    }
   ],
   "source": [
    "for src in tqdm(srcs):\n",
    "    \n",
    "    dst = src.replace('macrohet_images/ND0000', 'ND0000/acquisition')\n",
    "    if os.path.exists(dst):\n",
    "        continue\n",
    "    else: \n",
    "        shutil.move(src, dst)"
   ]
  },
  {
   "cell_type": "code",
   "execution_count": 22,
   "id": "345c3f6a-fe3f-47e2-b945-9a4f3aa7e0a7",
   "metadata": {},
   "outputs": [
    {
     "data": {
      "text/plain": [
       "'/mnt/NEMO/home/users/dayn/macrohet_nemo/ND0000/acquisition/Images/r02c04f03p03-ch1sk348fk1fl1.tiff'"
      ]
     },
     "execution_count": 22,
     "metadata": {},
     "output_type": "execute_result"
    }
   ],
   "source": [
    "dst"
   ]
  },
  {
   "cell_type": "code",
   "execution_count": 4,
   "id": "e33aa7f6-f2aa-4b89-81ff-2045379899ed",
   "metadata": {},
   "outputs": [
    {
     "data": {
      "application/vnd.jupyter.widget-view+json": {
       "model_id": "58b221563f4746cdad4b01b6a433c785",
       "version_major": 2,
       "version_minor": 0
      },
      "text/plain": [
       "  0%|          | 0/4 [00:00<?, ?it/s]"
      ]
     },
     "metadata": {},
     "output_type": "display_data"
    },
    {
     "name": "stdout",
     "output_type": "stream",
     "text": [
      "Reading metadata XML file...\n"
     ]
    },
    {
     "data": {
      "application/vnd.jupyter.widget-view+json": {
       "model_id": "7c4d183ef6ed4025ade9dcee8ff1f2e0",
       "version_major": 2,
       "version_minor": 0
      },
      "text/plain": [
       "0it [00:00, ?it/s]"
      ]
     },
     "metadata": {},
     "output_type": "display_data"
    },
    {
     "name": "stdout",
     "output_type": "stream",
     "text": [
      "Extracting metadata complete!\n",
      "Creating progress file\n",
      "Checking destination directory for already copied files\n",
      "294957 files already copied\n",
      "Starting copy job\n"
     ]
    },
    {
     "data": {
      "application/vnd.jupyter.widget-view+json": {
       "model_id": "63cc455b2589463791d1c1a01d7d9dee",
       "version_major": 2,
       "version_minor": 0
      },
      "text/plain": [
       "Copying files:   0%|          | 0/725643 [00:00<?, ?it/s]"
      ]
     },
     "metadata": {},
     "output_type": "display_data"
    },
    {
     "ename": "BlockingIOError",
     "evalue": "[Errno 11] Resource temporarily unavailable: '/mnt/NEMO/home/users/dayn/macrohet_nemo/ND0001/acquisition/Images/r04c07f02p03-ch3sk221fk1fl1.tiff'",
     "output_type": "error",
     "traceback": [
      "\u001b[0;31m---------------------------------------------------------------------------\u001b[0m",
      "\u001b[0;31mBlockingIOError\u001b[0m                           Traceback (most recent call last)",
      "Cell \u001b[0;32mIn[4], line 15\u001b[0m\n\u001b[1;32m     11\u001b[0m source_directory \u001b[38;5;241m=\u001b[39m \u001b[38;5;124mf\u001b[39m\u001b[38;5;124m'\u001b[39m\u001b[38;5;124m/mnt/SYNO/macrohet_syno/\u001b[39m\u001b[38;5;132;01m{\u001b[39;00mexpt_ID\u001b[38;5;132;01m}\u001b[39;00m\u001b[38;5;124m/acquisition/Images/\u001b[39m\u001b[38;5;124m'\u001b[39m\n\u001b[1;32m     13\u001b[0m destination_directory \u001b[38;5;241m=\u001b[39m \u001b[38;5;124mf\u001b[39m\u001b[38;5;124m'\u001b[39m\u001b[38;5;124m/mnt/NEMO/home/users/dayn/macrohet_nemo/\u001b[39m\u001b[38;5;132;01m{\u001b[39;00mexpt_ID\u001b[38;5;132;01m}\u001b[39;00m\u001b[38;5;124m/acquisition/Images/\u001b[39m\u001b[38;5;124m'\u001b[39m\n\u001b[0;32m---> 15\u001b[0m \u001b[43mcopy_files\u001b[49m\u001b[43m(\u001b[49m\u001b[43mfile_basenames\u001b[49m\u001b[43m,\u001b[49m\u001b[43m \u001b[49m\u001b[43msource_directory\u001b[49m\u001b[43m,\u001b[49m\u001b[43m \u001b[49m\u001b[43mdestination_directory\u001b[49m\u001b[43m)\u001b[49m\n",
      "Cell \u001b[0;32mIn[3], line 46\u001b[0m, in \u001b[0;36mcopy_files\u001b[0;34m(file_basenames, source_dir, destination_dir, progress_file)\u001b[0m\n\u001b[1;32m     43\u001b[0m     \u001b[38;5;28;01mcontinue\u001b[39;00m\n\u001b[1;32m     45\u001b[0m \u001b[38;5;66;03m# Copy the file\u001b[39;00m\n\u001b[0;32m---> 46\u001b[0m \u001b[43mshutil\u001b[49m\u001b[38;5;241;43m.\u001b[39;49m\u001b[43mcopy2\u001b[49m\u001b[43m(\u001b[49m\u001b[43msrc_path\u001b[49m\u001b[43m,\u001b[49m\u001b[43m \u001b[49m\u001b[43mdst_path\u001b[49m\u001b[43m)\u001b[49m\n\u001b[1;32m     48\u001b[0m \u001b[38;5;66;03m# Mark this file as completed by adding it to the progress file\u001b[39;00m\n\u001b[1;32m     49\u001b[0m \u001b[38;5;28;01mwith\u001b[39;00m \u001b[38;5;28mopen\u001b[39m(progress_file_path, \u001b[38;5;124m'\u001b[39m\u001b[38;5;124ma\u001b[39m\u001b[38;5;124m'\u001b[39m) \u001b[38;5;28;01mas\u001b[39;00m f:\n",
      "File \u001b[0;32m~/miniconda3/envs/egg/lib/python3.9/shutil.py:444\u001b[0m, in \u001b[0;36mcopy2\u001b[0;34m(src, dst, follow_symlinks)\u001b[0m\n\u001b[1;32m    442\u001b[0m \u001b[38;5;28;01mif\u001b[39;00m os\u001b[38;5;241m.\u001b[39mpath\u001b[38;5;241m.\u001b[39misdir(dst):\n\u001b[1;32m    443\u001b[0m     dst \u001b[38;5;241m=\u001b[39m os\u001b[38;5;241m.\u001b[39mpath\u001b[38;5;241m.\u001b[39mjoin(dst, os\u001b[38;5;241m.\u001b[39mpath\u001b[38;5;241m.\u001b[39mbasename(src))\n\u001b[0;32m--> 444\u001b[0m \u001b[43mcopyfile\u001b[49m\u001b[43m(\u001b[49m\u001b[43msrc\u001b[49m\u001b[43m,\u001b[49m\u001b[43m \u001b[49m\u001b[43mdst\u001b[49m\u001b[43m,\u001b[49m\u001b[43m \u001b[49m\u001b[43mfollow_symlinks\u001b[49m\u001b[38;5;241;43m=\u001b[39;49m\u001b[43mfollow_symlinks\u001b[49m\u001b[43m)\u001b[49m\n\u001b[1;32m    445\u001b[0m copystat(src, dst, follow_symlinks\u001b[38;5;241m=\u001b[39mfollow_symlinks)\n\u001b[1;32m    446\u001b[0m \u001b[38;5;28;01mreturn\u001b[39;00m dst\n",
      "File \u001b[0;32m~/miniconda3/envs/egg/lib/python3.9/shutil.py:266\u001b[0m, in \u001b[0;36mcopyfile\u001b[0;34m(src, dst, follow_symlinks)\u001b[0m\n\u001b[1;32m    264\u001b[0m \u001b[38;5;28;01mwith\u001b[39;00m \u001b[38;5;28mopen\u001b[39m(src, \u001b[38;5;124m'\u001b[39m\u001b[38;5;124mrb\u001b[39m\u001b[38;5;124m'\u001b[39m) \u001b[38;5;28;01mas\u001b[39;00m fsrc:\n\u001b[1;32m    265\u001b[0m     \u001b[38;5;28;01mtry\u001b[39;00m:\n\u001b[0;32m--> 266\u001b[0m         \u001b[38;5;28;01mwith\u001b[39;00m \u001b[38;5;28;43mopen\u001b[39;49m\u001b[43m(\u001b[49m\u001b[43mdst\u001b[49m\u001b[43m,\u001b[49m\u001b[43m \u001b[49m\u001b[38;5;124;43m'\u001b[39;49m\u001b[38;5;124;43mwb\u001b[39;49m\u001b[38;5;124;43m'\u001b[39;49m\u001b[43m)\u001b[49m \u001b[38;5;28;01mas\u001b[39;00m fdst:\n\u001b[1;32m    267\u001b[0m             \u001b[38;5;66;03m# macOS\u001b[39;00m\n\u001b[1;32m    268\u001b[0m             \u001b[38;5;28;01mif\u001b[39;00m _HAS_FCOPYFILE:\n\u001b[1;32m    269\u001b[0m                 \u001b[38;5;28;01mtry\u001b[39;00m:\n",
      "\u001b[0;31mBlockingIOError\u001b[0m: [Errno 11] Resource temporarily unavailable: '/mnt/NEMO/home/users/dayn/macrohet_nemo/ND0001/acquisition/Images/r04c07f02p03-ch3sk221fk1fl1.tiff'"
     ]
    }
   ],
   "source": [
    "expt_IDs = ['ND0001', 'ND0000', 'ND0002', 'ND0003']\n",
    "\n",
    "for expt_ID in tqdm(expt_IDs): \n",
    "    \n",
    "    metadata_fn = glob.glob(f'/mnt/SYNO/macrohet_syno/{expt_ID}/acquisition/Images/Index*xml')[0]\n",
    "    \n",
    "    metadata = dataio.read_harmony_metadata(metadata_fn)  \n",
    "    \n",
    "    file_basenames = metadata['URL']\n",
    "    \n",
    "    source_directory = f'/mnt/SYNO/macrohet_syno/{expt_ID}/acquisition/Images/'\n",
    "    \n",
    "    destination_directory = f'/mnt/NEMO/home/users/dayn/macrohet_nemo/{expt_ID}/acquisition/Images/'\n",
    "    \n",
    "    copy_files(file_basenames, source_directory, destination_directory)\n"
   ]
  },
  {
   "cell_type": "code",
   "execution_count": null,
   "id": "d13e3b60-825e-4800-b9ce-1a3504f4f490",
   "metadata": {},
   "outputs": [],
   "source": [
    "missing_fns = []\n",
    "for fn in tqdm(metadata['URL']):\n",
    "    if not os.path.exists(os.path.join(base_dir, f'Images/{fn}')):\n",
    "        missing_fns.append(fn)"
   ]
  },
  {
   "cell_type": "code",
   "execution_count": null,
   "id": "4202e368-fc0c-4ed6-b2a0-74a8dff3c45c",
   "metadata": {},
   "outputs": [],
   "source": [
    "len(missing_fns)"
   ]
  },
  {
   "cell_type": "code",
   "execution_count": null,
   "id": "e452977a-9f88-4092-aeb6-b839bd30ada4",
   "metadata": {},
   "outputs": [],
   "source": [
    "85041/158607"
   ]
  },
  {
   "cell_type": "code",
   "execution_count": null,
   "id": "ded500a8-bcfb-49b1-aaab-74905384c932",
   "metadata": {},
   "outputs": [],
   "source": [
    "len(metadata)- len(missing_fns)"
   ]
  },
  {
   "cell_type": "code",
   "execution_count": null,
   "id": "a2e18160-0b58-459f-9498-67522d618c75",
   "metadata": {},
   "outputs": [],
   "source": [
    "metadata_fn"
   ]
  },
  {
   "cell_type": "code",
   "execution_count": null,
   "id": "4a0aa938-ef6a-42a9-baad-864360405c5f",
   "metadata": {},
   "outputs": [],
   "source": [
    "base_dir"
   ]
  },
  {
   "cell_type": "code",
   "execution_count": null,
   "id": "a9c75649-1f21-4a8c-abe7-f529b9897a8e",
   "metadata": {},
   "outputs": [],
   "source": [
    "missing_fns = []\n",
    "for fn in tqdm(metadata['URL']):\n",
    "    if not os.path.exists(os.path.join(base_dir, f'acquisition/ND0001__2023-10-27T14_12_54-Measurement 1/Images/{fn}')):\n",
    "        missing_fns.append(fn)"
   ]
  },
  {
   "cell_type": "code",
   "execution_count": null,
   "id": "e8e11d30-eecd-4625-ad52-e495e1b2c617",
   "metadata": {},
   "outputs": [],
   "source": [
    "len(missing_fns)"
   ]
  },
  {
   "cell_type": "code",
   "execution_count": null,
   "id": "61315c7c-561f-438b-a631-14ac27137158",
   "metadata": {},
   "outputs": [],
   "source": [
    "import re"
   ]
  },
  {
   "cell_type": "code",
   "execution_count": null,
   "id": "ab4e6c81-cee5-49f3-95e3-feaf3d61fdac",
   "metadata": {},
   "outputs": [],
   "source": [
    "# Regular expression pattern to extract rows and columns\n",
    "pattern = r'r(\\d+)c(\\d+)f(\\d+)p(\\d+)-ch(\\d+)sk(\\d+)fk(\\d+)fl(\\d+)'\n",
    "\n",
    "# Extract rows and columns from filenames and store them in a set to ensure uniqueness\n",
    "unique_values = set()\n",
    "data = []\n",
    "for filename in missing_fns:\n",
    "    match = re.search(pattern, filename)\n",
    "    if match:\n",
    "        row = match.group(1)\n",
    "        column = match.group(2)\n",
    "        plane = match.group(4)\n",
    "        time = match.group(6)\n",
    "        channel = match.group(5)\n",
    "        data.append((row, column, plane, time, channel))\n",
    "\n",
    "# Create a set of unique rows and columns\n",
    "unique_rows = set()\n",
    "unique_columns = set()\n",
    "\n",
    "for row, column, plane, time, channel in data:\n",
    "    unique_rows.add(row)\n",
    "    unique_columns.add(column)\n",
    "\n",
    "# Check for missing planes, times, or channels in rows and columns\n",
    "missing_planes = set()\n",
    "missing_times = set()\n",
    "missing_channels = set()\n",
    "\n",
    "for row, column, plane, time, channel in data:\n",
    "    if plane not in missing_planes:\n",
    "        missing_planes.add(plane)\n",
    "    if time not in missing_times:\n",
    "        missing_times.add(time)\n",
    "    if channel not in missing_channels:\n",
    "        missing_channels.add(channel)\n",
    "\n",
    "# Print the unique rows and columns without missing planes, times, or channels\n",
    "print(\"Unique Rows:\")\n",
    "for row in unique_rows:\n",
    "    if all(plane in missing_planes for plane in unique_rows):\n",
    "        print(row)\n",
    "\n",
    "print(\"Unique Columns:\")\n",
    "for column in unique_columns:\n",
    "    if all(channel in missing_channels for channel in unique_columns):\n",
    "        print(column)"
   ]
  },
  {
   "cell_type": "code",
   "execution_count": null,
   "id": "14572cc2-0537-47b5-ac1c-f13fbb13a942",
   "metadata": {},
   "outputs": [],
   "source": [
    "len(unique_values)"
   ]
  },
  {
   "cell_type": "code",
   "execution_count": null,
   "id": "19ecccb4-5579-4fed-9329-431ebda5119f",
   "metadata": {},
   "outputs": [],
   "source": [
    "unique_values"
   ]
  },
  {
   "cell_type": "code",
   "execution_count": null,
   "id": "fb30ffbb-e079-48ce-9f56-d86ab8793f92",
   "metadata": {},
   "outputs": [],
   "source": [
    "len(metadata)- len(missing_fns)"
   ]
  },
  {
   "cell_type": "code",
   "execution_count": null,
   "id": "659bd231-3756-48a5-a674-7bd1a2e7cd10",
   "metadata": {},
   "outputs": [],
   "source": [
    "len(missing_fns)/len(metadata)*100"
   ]
  },
  {
   "cell_type": "code",
   "execution_count": null,
   "id": "5d1f48e6-cacb-47a5-a019-4fffb4111bca",
   "metadata": {},
   "outputs": [],
   "source": [
    "75*2*3*9"
   ]
  },
  {
   "cell_type": "code",
   "execution_count": null,
   "id": "842e1ded-6635-4db7-9ba2-7e9a7f6a7ff4",
   "metadata": {},
   "outputs": [],
   "source": [
    "r03c01f01p01-ch1sk1fk1fl1"
   ]
  },
  {
   "cell_type": "code",
   "execution_count": null,
   "id": "3dbbadfd-4a1b-4fb9-98ca-d16168edd3f1",
   "metadata": {},
   "outputs": [],
   "source": [
    "%%timeit\n",
    "fns = glob.glob('/mnt/DATA/macrohet/PS0000/acquisition/Images/*r03c04*ch*')"
   ]
  },
  {
   "cell_type": "code",
   "execution_count": null,
   "id": "c97415c3-22d8-4d54-ae53-80b36b97550b",
   "metadata": {},
   "outputs": [],
   "source": [
    "len(fns)"
   ]
  },
  {
   "cell_type": "code",
   "execution_count": null,
   "id": "a8f08688-c86d-4d0f-8772-7ddb6ffe5dd6",
   "metadata": {},
   "outputs": [],
   "source": [
    "%%timeit\n",
    "fns = glob.glob('/mnt/NEMO/home/users/dayn/macrohet_nemo/PS0000/acquisition/Images/*.tif*')"
   ]
  },
  {
   "cell_type": "code",
   "execution_count": null,
   "id": "16a39cbc-d937-467f-8f6a-ed7dd9efb86c",
   "metadata": {},
   "outputs": [],
   "source": [
    "len(fns)"
   ]
  },
  {
   "cell_type": "code",
   "execution_count": null,
   "id": "22f3c3e7-40df-4812-8dad-0a08239be1e0",
   "metadata": {},
   "outputs": [],
   "source": [
    "%%timeit\n",
    "fns = glob.glob('/mnt/SYNO/macrohet_syno/PS0000/acquisition/Images/*.tif*')"
   ]
  },
  {
   "cell_type": "code",
   "execution_count": null,
   "id": "81ed76a5-c7d0-43cc-a128-c33ad60c15c5",
   "metadata": {},
   "outputs": [],
   "source": [
    "print(len(fns))"
   ]
  },
  {
   "cell_type": "code",
   "execution_count": null,
   "id": "33641dca-15cb-4497-9528-d6110cda9dad",
   "metadata": {},
   "outputs": [],
   "source": [
    "449/10.1 # syno times quicker than nemo ???"
   ]
  },
  {
   "cell_type": "code",
   "execution_count": null,
   "id": "281e2a1e-b8ce-48fa-8dfd-d8fa39c6d39e",
   "metadata": {},
   "outputs": [],
   "source": [
    "164/9.67 # syno times quicker than my local harddrive!?"
   ]
  },
  {
   "cell_type": "code",
   "execution_count": null,
   "id": "4f0d5296-bbcc-49e2-b685-3f636f19621b",
   "metadata": {},
   "outputs": [],
   "source": [
    "488/164 # local times quicker than nemo!?"
   ]
  },
  {
   "cell_type": "code",
   "execution_count": null,
   "id": "4b75643e",
   "metadata": {},
   "outputs": [],
   "source": [
    "metadata_path = glob.glob(os.path.join(base_dir, 'acquisition/Assaylayout/*AssayLayout.xml'))[0]\n",
    "assay_layout = dataio.read_harmony_metadata(metadata_path, assay_layout=True,)# mask_exist=True,  image_dir = image_dir, image_metadata = metadata)\n",
    "assay_layout"
   ]
  },
  {
   "cell_type": "code",
   "execution_count": null,
   "id": "661b558f",
   "metadata": {},
   "outputs": [],
   "source": [
    "acq_ID = row, column = (3, 4)"
   ]
  },
  {
   "cell_type": "code",
   "execution_count": null,
   "id": "0e4254eb-8006-4939-acdf-6cbf4b28c335",
   "metadata": {},
   "outputs": [],
   "source": [
    "# subset_field_IDs = ['1','6','7','8','11','12','13','14','15']"
   ]
  },
  {
   "cell_type": "code",
   "execution_count": null,
   "id": "72561ec6",
   "metadata": {},
   "outputs": [],
   "source": [
    "%%time\n",
    "# image_dir = os.path.join(base_dir, 'macrohet_images/Images_8bit')\n",
    "image_dir = os.path.join(base_dir, 'acquisition/Images')\n",
    "images = tile.compile_mosaic(image_dir, \n",
    "                             metadata, \n",
    "                             row, column, \n",
    "                             # subset_field_IDs=['16', '17',  '20', '21'], \n",
    "                             # n_tile_rows = 2, n_tile_cols = 2,\n",
    "                             set_plane='max_proj',\n",
    "                             # set_channel=1,\n",
    "                             # set_time = 1,\n",
    "#                             input_transforms = [input_transforms]\n",
    "                            )#.compute().compute()\n",
    "images"
   ]
  },
  {
   "cell_type": "code",
   "execution_count": null,
   "id": "c4fb8dee-1183-4557-af6d-ed3bfc61aa0d",
   "metadata": {},
   "outputs": [],
   "source": [
    "%%time \n",
    "### this is NEMO\n",
    "images = images.compute().compute()"
   ]
  },
  {
   "cell_type": "code",
   "execution_count": null,
   "id": "57b12472-db2d-4a03-b0fa-a6bdd5437cda",
   "metadata": {},
   "outputs": [],
   "source": [
    "%%time \n",
    "### this is SYNO\n",
    "images = images.compute().compute()"
   ]
  },
  {
   "cell_type": "code",
   "execution_count": null,
   "id": "177b6605",
   "metadata": {},
   "outputs": [],
   "source": [
    "images.shape"
   ]
  },
  {
   "cell_type": "code",
   "execution_count": null,
   "id": "025c5596-b983-4df8-adfd-e779356e7ef6",
   "metadata": {},
   "outputs": [],
   "source": [
    "viewer = napari.Viewer(title = f'testing speed of image load fgrom syno {expt_ID}')\n",
    "\n",
    "viewer.add_image(images, channel_axis = 1)"
   ]
  },
  {
   "cell_type": "code",
   "execution_count": null,
   "id": "ec40363c-45c5-4661-8d45-77a699fe02ab",
   "metadata": {},
   "outputs": [],
   "source": [
    "import btrack\n",
    "scale_factor = 1/5.04"
   ]
  },
  {
   "cell_type": "code",
   "execution_count": null,
   "id": "a4b78e44-90d3-4240-b3aa-d5792a92549e",
   "metadata": {},
   "outputs": [],
   "source": [
    "with btrack.io.HDF5FileHandler(os.path.join(base_dir, f'labels/testing_{row, column}.h5'), \n",
    "                                   'r', \n",
    "                                   obj_type='obj_type_1'\n",
    "                                   ) as reader:\n",
    "#             writer.write_objects(objects)\n",
    "        tracks = reader.tracks\n",
    "        segmentation = reader.segmentation"
   ]
  },
  {
   "cell_type": "code",
   "execution_count": null,
   "id": "28cf47a0-7968-4829-a95c-4e63caa8f651",
   "metadata": {},
   "outputs": [],
   "source": [
    "recolored_segmentation = btrack.utils.update_segmentation(segmentation, tracks ,scale = (1/scale_factor,1/scale_factor))"
   ]
  },
  {
   "cell_type": "code",
   "execution_count": null,
   "id": "3bceba35-dca8-44d5-bade-8dcab6e7fb4c",
   "metadata": {},
   "outputs": [],
   "source": [
    "filtered_tracks = [t for t in tracks if len(t)>15]"
   ]
  },
  {
   "cell_type": "code",
   "execution_count": null,
   "id": "ca558672-ef0b-418a-8caa-013c6f643c5f",
   "metadata": {},
   "outputs": [],
   "source": [
    "napari_tracks, _, _ = btrack.utils.tracks_to_napari(filtered_tracks, ndim = 2)"
   ]
  },
  {
   "cell_type": "code",
   "execution_count": null,
   "id": "f303654d-a4bd-4632-b380-f2ffc22eb102",
   "metadata": {},
   "outputs": [],
   "source": [
    "viewer.add_tracks(napari_tracks, scale = (20, 1/scale_factor,1/scale_factor,))"
   ]
  },
  {
   "cell_type": "code",
   "execution_count": null,
   "id": "29ac43dd-89ed-4a24-b948-d28cadd29e98",
   "metadata": {},
   "outputs": [],
   "source": [
    "viewer.add_labels(recolored_segmentation)"
   ]
  },
  {
   "cell_type": "code",
   "execution_count": null,
   "id": "9faf0749-a921-415c-b871-4d33abecba61",
   "metadata": {},
   "outputs": [],
   "source": [
    ".shape"
   ]
  },
  {
   "cell_type": "code",
   "execution_count": null,
   "id": "ef52f821-ca8c-460d-b4b6-3605af309bd6",
   "metadata": {},
   "outputs": [],
   "source": [
    "viewer.add_image(images[14], channel_axis=0)"
   ]
  },
  {
   "cell_type": "code",
   "execution_count": null,
   "id": "1abfa6e6-9edd-4210-b304-c358e9af054f",
   "metadata": {},
   "outputs": [],
   "source": [
    "print()"
   ]
  },
  {
   "cell_type": "code",
   "execution_count": null,
   "id": "a334f7cc-11ce-43c7-a924-0c699cd28a6e",
   "metadata": {},
   "outputs": [],
   "source": [
    "base_dir"
   ]
  },
  {
   "cell_type": "code",
   "execution_count": null,
   "id": "c60f217c-e303-4cd9-ac48-bc96ca74ba41",
   "metadata": {
    "scrolled": true
   },
   "outputs": [],
   "source": [
    "for fn in glob.glob(os.path.join(base_dir, 'labels/testing*')):\n",
    "    \n",
    "    with btrack.io.HDF5FileHandler(fn, \n",
    "                                       'r', \n",
    "                                       obj_type='obj_type_1'\n",
    "                                       ) as reader:\n",
    "    #             writer.write_objects(objects)\n",
    "            tracks = reader.tracks\n",
    "            # segmentation = reader.segmentation\n",
    "    filtered_tracks = [t for t in tracks if len(t)>15]\n",
    "    napari_tracks, _, _ = btrack.utils.tracks_to_napari(filtered_tracks, ndim = 2)\n",
    "    viewer.add_tracks(napari_tracks, scale = (1/scale_factor,1/scale_factor,), name = os.path.basename(fn))"
   ]
  },
  {
   "cell_type": "code",
   "execution_count": null,
   "id": "6a2a1da0-da68-4867-a53e-eb9ab1f636ff",
   "metadata": {},
   "outputs": [],
   "source": [
    "import matplotlib.pyplot as plt"
   ]
  },
  {
   "cell_type": "code",
   "execution_count": null,
   "id": "dc87bcac-7217-4947-b48c-f4747c89198a",
   "metadata": {},
   "outputs": [],
   "source": []
  },
  {
   "cell_type": "code",
   "execution_count": null,
   "id": "0b242fe9-5c08-4727-b869-2ed2077f7249",
   "metadata": {},
   "outputs": [],
   "source": [
    "# Optional: Define a list of colors if you want specific colors\n",
    "colors = ['red', 'green', 'blue', 'orange', 'purple', 'brown', 'pink', 'gray', 'olive', 'cyan']\n",
    "color_idx = 0\n",
    "\n",
    "for fn in glob.glob(os.path.join(base_dir, 'labels/testing*')):\n",
    "    with btrack.io.HDF5FileHandler(fn, 'r', obj_type='obj_type_1') as reader:\n",
    "        tracks = reader.tracks\n",
    "\n",
    "    # Plotting with varying colors and transparency\n",
    "    plt.hist([len(track) for track in tracks], color=colors[color_idx % len(colors)], alpha=0.1)\n",
    "\n",
    "    # Increment color index for next iteration\n",
    "    color_idx += 1\n",
    "\n",
    "# Set y-axis limit\n",
    "plt.ylim(0, 1000)\n",
    "\n",
    "# Display the plot\n",
    "plt.show()"
   ]
  },
  {
   "cell_type": "code",
   "execution_count": null,
   "id": "5f422cc4-0b28-4cfa-b477-39f222b19960",
   "metadata": {},
   "outputs": [],
   "source": [
    "!nvcc --version\n",
    "!nvidia-smi\n",
    "\n",
    "from cellpose import core, utils, io, models, metrics\n",
    "\n",
    "use_GPU = core.use_gpu()\n",
    "yn = ['NO', 'YES']\n",
    "print(f'>>> GPU activated? {yn[use_GPU]}')\n",
    "\n",
    "# model = models.Cellpose(gpu=True, model_type='cyto')\n",
    "model_path = '/mnt/DATA/macrohet/upstream_development/segmentation/cellpose_training/models/models/macrohet_seg'\n",
    "model = models.CellposeModel(gpu=True, \n",
    "                             pretrained_model=model_path)\n",
    "def segment(img, diameter = 30, channels = [0,0]):\n",
    "    masks, flows, styles, diams = model.eval(img, diameter=diameter, channels=channels,\n",
    "                                             flow_threshold=None, cellprob_threshold=0)\n",
    "    return masks"
   ]
  },
  {
   "cell_type": "code",
   "execution_count": null,
   "id": "99f150e6-3a67-49ad-89a1-7fa76b9b3e7c",
   "metadata": {},
   "outputs": [],
   "source": [
    "img = images[0]"
   ]
  },
  {
   "cell_type": "code",
   "execution_count": null,
   "id": "e132b247-8959-421d-8be9-5bbbb5ea4e3d",
   "metadata": {},
   "outputs": [],
   "source": [
    "img.shape"
   ]
  },
  {
   "cell_type": "code",
   "execution_count": null,
   "id": "b1e06e6e-2c92-42e5-8fc4-bfece40a4c7e",
   "metadata": {},
   "outputs": [],
   "source": [
    "masks = segment(img, diameter = None)"
   ]
  },
  {
   "cell_type": "code",
   "execution_count": null,
   "id": "bdb4c260-1781-458e-968f-bc50f6c1c57b",
   "metadata": {},
   "outputs": [],
   "source": [
    "model = models.Cellpose(gpu=True, model_type='cyto')\n",
    "output = model.eval(img, diameter = 300)#, diameter=diameter, channels=channels,\n",
    "                                             # flow_threshold=None, cellprob_threshold=0)"
   ]
  },
  {
   "cell_type": "code",
   "execution_count": null,
   "id": "93834733-eb5d-44aa-b9ea-4c48fc473c80",
   "metadata": {},
   "outputs": [],
   "source": [
    "output[0].shape\n",
    "masks = output[0]"
   ]
  },
  {
   "cell_type": "code",
   "execution_count": null,
   "id": "37e962e0-a40f-45e3-b156-c21101cb63fa",
   "metadata": {},
   "outputs": [],
   "source": [
    "viewer.add_labels(masks)"
   ]
  },
  {
   "cell_type": "code",
   "execution_count": null,
   "id": "2400e600-d8c3-4c64-ba98-068f18eff1f4",
   "metadata": {},
   "outputs": [],
   "source": [
    "print()"
   ]
  },
  {
   "cell_type": "code",
   "execution_count": null,
   "id": "7e5f1305-5323-4f4d-9a2e-649cf6858222",
   "metadata": {},
   "outputs": [],
   "source": [
    "img"
   ]
  },
  {
   "cell_type": "code",
   "execution_count": null,
   "id": "60e46d51-ac64-4c72-a31f-89794b539d89",
   "metadata": {},
   "outputs": [],
   "source": [
    "import torch\n",
    "print(torch.__version__)"
   ]
  },
  {
   "cell_type": "code",
   "execution_count": null,
   "id": "c6a261b0-55b5-4d4f-a2a8-0b7da1b5ccd9",
   "metadata": {},
   "outputs": [],
   "source": [
    "from segment_anything import SamPredictor, sam_model_registry\n"
   ]
  },
  {
   "cell_type": "code",
   "execution_count": null,
   "id": "02ce1e28-e7e5-49fd-8c67-7f95041985ec",
   "metadata": {},
   "outputs": [],
   "source": [
    "import numpy as np"
   ]
  },
  {
   "cell_type": "code",
   "execution_count": null,
   "id": "8e41373c-575a-4144-a598-4e7eb070acf2",
   "metadata": {},
   "outputs": [],
   "source": [
    "np.save('t0_ND2.npy', cut_images[0])"
   ]
  }
 ],
 "metadata": {
  "kernelspec": {
   "display_name": "egg",
   "language": "python",
   "name": "egg"
  },
  "language_info": {
   "codemirror_mode": {
    "name": "ipython",
    "version": 3
   },
   "file_extension": ".py",
   "mimetype": "text/x-python",
   "name": "python",
   "nbconvert_exporter": "python",
   "pygments_lexer": "ipython3",
   "version": "3.9.17"
  }
 },
 "nbformat": 4,
 "nbformat_minor": 5
}
