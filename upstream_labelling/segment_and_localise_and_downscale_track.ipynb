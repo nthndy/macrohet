{
 "cells": [
  {
   "cell_type": "markdown",
   "id": "d2e295e0",
   "metadata": {},
   "source": [
    "# Segment, localise, downscale and track\n",
    "\n",
    "Downscaling of images to fit within 1200x1200 is a janky fix to improve tracking significantly "
   ]
  },
  {
   "cell_type": "code",
   "execution_count": 15,
   "id": "7975a2f4",
   "metadata": {},
   "outputs": [
    {
     "name": "stdout",
     "output_type": "stream",
     "text": [
      "Using device: cuda\n",
      "\n",
      "NVIDIA RTX A6000\n",
      "Memory Usage:\n",
      "Allocated: 0.0 GB\n",
      "Cached:    32.1 GB\n"
     ]
    }
   ],
   "source": [
    "import napari\n",
    "from cellpose import models\n",
    "from octopuslite import utils, tile\n",
    "import numpy as np\n",
    "import os\n",
    "\n",
    "import sys\n",
    "sys.path.append('macrohet/')\n",
    "from notify import send_sms\n",
    "\n",
    "def view(img):\n",
    "    return napari.Viewer().add_image(img)\n",
    "\n",
    "from tqdm.auto import tqdm\n",
    "\n",
    "import btrack\n",
    "import dask.array as da\n",
    "\n",
    "import torch\n",
    "# setting device on GPU if available, else CPU\n",
    "device = torch.device('cuda' if torch.cuda.is_available() else 'cpu')\n",
    "print('Using device:', device)\n",
    "print()\n",
    "\n",
    "#Additional Info when using cuda\n",
    "if device.type == 'cuda':\n",
    "    print(torch.cuda.get_device_name(0))\n",
    "    print('Memory Usage:')\n",
    "    print('Allocated:', round(torch.cuda.memory_allocated(0)/1024**3,1), 'GB')\n",
    "    print('Cached:   ', round(torch.cuda.memory_reserved(0)/1024**3,1), 'GB')\n",
    "    \n",
    "model = models.Cellpose(\n",
    "                        #gpu=True, \n",
    "                        model_type='cyto', \n",
    "                        net_avg=True, \n",
    "                        device=torch.device('cuda')\n",
    "                        )\n",
    "from skimage.transform import rescale, resize, downscale_local_mean\n",
    "import sys\n",
    "sys.path.append('../')\n",
    "from notify import send_sms"
   ]
  },
  {
   "cell_type": "code",
   "execution_count": 24,
   "id": "ba7f0b21",
   "metadata": {},
   "outputs": [
    {
     "name": "stdout",
     "output_type": "stream",
     "text": [
      "Using device: cuda\n",
      "\n",
      "NVIDIA RTX A6000\n",
      "Memory Usage:\n",
      "Allocated: 0.0 GB\n",
      "Cached:    8.3 GB\n"
     ]
    }
   ],
   "source": [
    "from macrohet import dataio, tile\n",
    "import numpy as np\n",
    "from tqdm.auto import tqdm\n",
    "from cellpose import models\n",
    "from skimage import transform\n",
    "import torch\n",
    "# setting device on GPU if available, else CPU\n",
    "device = torch.device('cuda' if torch.cuda.is_available() else 'cpu')\n",
    "print('Using device:', device)\n",
    "print()\n",
    "\n",
    "#Additional Info when using cuda\n",
    "if device.type == 'cuda':\n",
    "    print(torch.cuda.get_device_name(0))\n",
    "    print('Memory Usage:')\n",
    "    print('Allocated:', round(torch.cuda.memory_allocated(0)/1024**3,1), 'GB')\n",
    "    print('Cached:   ', round(torch.cuda.memory_reserved(0)/1024**3,1), 'GB')\n",
    "# defining cellpose model to use\n",
    "model = models.Cellpose(\n",
    "                        gpu=True, \n",
    "                        model_type='cyto', \n",
    "                        net_avg=True, \n",
    "                        device=torch.device('cuda')\n",
    "                        )\n",
    "# defining tracking config to use\n",
    "config = '/home/dayn/analysis/BayesianTracker/models/cell_config.json'"
   ]
  },
  {
   "cell_type": "markdown",
   "id": "3751ef77",
   "metadata": {},
   "source": [
    "### Load experiment of choice\n",
    "\n",
    "The Opera Phenix is a high-throughput confocal microscope that acquires very large 5-dimensional (TCZXY) images over several fields of view in any one experiment. Therefore, a lazy-loading approach is chosen to mosaic, view and annotate these images. This approach depends upon Dask and DaskFusion. The first step is to load the main metadata file (typically called `Index.idx.xml` and located in the main `Images` directory) that contains the image filenames and associated TCXZY information used to organise the images."
   ]
  },
  {
   "cell_type": "code",
   "execution_count": 6,
   "id": "8d20db67",
   "metadata": {},
   "outputs": [
    {
     "name": "stdout",
     "output_type": "stream",
     "text": [
      "Reading metadata XML file...\n"
     ]
    },
    {
     "data": {
      "application/vnd.jupyter.widget-view+json": {
       "model_id": "e35cafe1a20d4d8e804abf346abb2565",
       "version_major": 2,
       "version_minor": 0
      },
      "text/plain": [
       "Extracting HarmonyV5 metadata:   0%|          | 0/113400 [00:00<?, ?it/s]"
      ]
     },
     "metadata": {},
     "output_type": "display_data"
    },
    {
     "name": "stdout",
     "output_type": "stream",
     "text": [
      "Extracting metadata complete!\n"
     ]
    }
   ],
   "source": [
    "image_dir = '/mnt/DATA/sandbox/pierre_live_cell_data/outputs/Replication_IPSDM_GFP/Images/'\n",
    "metadata_fn = '/mnt/DATA/sandbox/pierre_live_cell_data/outputs/Replication_IPSDM_GFP/Index.idx.xml'\n",
    "metadata = dataio.read_harmony_metadata(metadata_fn)"
   ]
  },
  {
   "cell_type": "markdown",
   "id": "e739b419",
   "metadata": {},
   "source": [
    "### View assay layout and mask information (optional)\n",
    "\n",
    "The Opera Phenix acquires many time lapse series from a range of positions. The first step is to inspect the image metadata, presented in the form of an `Assaylayout/experiment_ID.xml` file, to show which positions correspond to which experimental assays."
   ]
  },
  {
   "cell_type": "code",
   "execution_count": 8,
   "id": "19c540d8",
   "metadata": {
    "scrolled": true
   },
   "outputs": [
    {
     "name": "stdout",
     "output_type": "stream",
     "text": [
      "Reading metadata XML file...\n",
      "Extracting metadata complete!\n",
      "Reading metadata XML file...\n",
      "Extracting metadata complete!\n"
     ]
    },
    {
     "data": {
      "text/html": [
       "<div>\n",
       "<style scoped>\n",
       "    .dataframe tbody tr th:only-of-type {\n",
       "        vertical-align: middle;\n",
       "    }\n",
       "\n",
       "    .dataframe tbody tr th {\n",
       "        vertical-align: top;\n",
       "    }\n",
       "\n",
       "    .dataframe thead th {\n",
       "        text-align: right;\n",
       "    }\n",
       "</style>\n",
       "<table border=\"1\" class=\"dataframe\">\n",
       "  <thead>\n",
       "    <tr style=\"text-align: right;\">\n",
       "      <th></th>\n",
       "      <th></th>\n",
       "      <th>Strain</th>\n",
       "      <th>Compound</th>\n",
       "      <th>Concentration</th>\n",
       "      <th>ConcentrationEC</th>\n",
       "    </tr>\n",
       "  </thead>\n",
       "  <tbody>\n",
       "    <tr>\n",
       "      <th rowspan=\"6\" valign=\"top\">3</th>\n",
       "      <th>4</th>\n",
       "      <td>RD1</td>\n",
       "      <td>CTRL</td>\n",
       "      <td>0</td>\n",
       "      <td>EC0</td>\n",
       "    </tr>\n",
       "    <tr>\n",
       "      <th>5</th>\n",
       "      <td>WT</td>\n",
       "      <td>CTRL</td>\n",
       "      <td>0</td>\n",
       "      <td>EC0</td>\n",
       "    </tr>\n",
       "    <tr>\n",
       "      <th>6</th>\n",
       "      <td>WT</td>\n",
       "      <td>PZA</td>\n",
       "      <td>60</td>\n",
       "      <td>EC50</td>\n",
       "    </tr>\n",
       "    <tr>\n",
       "      <th>7</th>\n",
       "      <td>WT</td>\n",
       "      <td>RIF</td>\n",
       "      <td>0.1</td>\n",
       "      <td>EC50</td>\n",
       "    </tr>\n",
       "    <tr>\n",
       "      <th>8</th>\n",
       "      <td>WT</td>\n",
       "      <td>INH</td>\n",
       "      <td>0.04</td>\n",
       "      <td>EC50</td>\n",
       "    </tr>\n",
       "    <tr>\n",
       "      <th>9</th>\n",
       "      <td>WT</td>\n",
       "      <td>BDQ</td>\n",
       "      <td>0.02</td>\n",
       "      <td>EC50</td>\n",
       "    </tr>\n",
       "    <tr>\n",
       "      <th rowspan=\"6\" valign=\"top\">4</th>\n",
       "      <th>4</th>\n",
       "      <td>RD1</td>\n",
       "      <td>CTRL</td>\n",
       "      <td>0</td>\n",
       "      <td>EC0</td>\n",
       "    </tr>\n",
       "    <tr>\n",
       "      <th>5</th>\n",
       "      <td>WT</td>\n",
       "      <td>CTRL</td>\n",
       "      <td>0</td>\n",
       "      <td>EC0</td>\n",
       "    </tr>\n",
       "    <tr>\n",
       "      <th>6</th>\n",
       "      <td>WT</td>\n",
       "      <td>PZA</td>\n",
       "      <td>60</td>\n",
       "      <td>EC50</td>\n",
       "    </tr>\n",
       "    <tr>\n",
       "      <th>7</th>\n",
       "      <td>WT</td>\n",
       "      <td>RIF</td>\n",
       "      <td>0.1</td>\n",
       "      <td>EC50</td>\n",
       "    </tr>\n",
       "    <tr>\n",
       "      <th>8</th>\n",
       "      <td>WT</td>\n",
       "      <td>INH</td>\n",
       "      <td>0.04</td>\n",
       "      <td>EC50</td>\n",
       "    </tr>\n",
       "    <tr>\n",
       "      <th>9</th>\n",
       "      <td>WT</td>\n",
       "      <td>BDQ</td>\n",
       "      <td>0.02</td>\n",
       "      <td>EC50</td>\n",
       "    </tr>\n",
       "    <tr>\n",
       "      <th rowspan=\"6\" valign=\"top\">5</th>\n",
       "      <th>4</th>\n",
       "      <td>RD1</td>\n",
       "      <td>CTRL</td>\n",
       "      <td>0</td>\n",
       "      <td>EC0</td>\n",
       "    </tr>\n",
       "    <tr>\n",
       "      <th>5</th>\n",
       "      <td>WT</td>\n",
       "      <td>CTRL</td>\n",
       "      <td>0</td>\n",
       "      <td>EC0</td>\n",
       "    </tr>\n",
       "    <tr>\n",
       "      <th>6</th>\n",
       "      <td>WT</td>\n",
       "      <td>PZA</td>\n",
       "      <td>400</td>\n",
       "      <td>EC99</td>\n",
       "    </tr>\n",
       "    <tr>\n",
       "      <th>7</th>\n",
       "      <td>WT</td>\n",
       "      <td>RIF</td>\n",
       "      <td>2</td>\n",
       "      <td>EC99</td>\n",
       "    </tr>\n",
       "    <tr>\n",
       "      <th>8</th>\n",
       "      <td>WT</td>\n",
       "      <td>INH</td>\n",
       "      <td>2</td>\n",
       "      <td>EC99</td>\n",
       "    </tr>\n",
       "    <tr>\n",
       "      <th>9</th>\n",
       "      <td>WT</td>\n",
       "      <td>BDQ</td>\n",
       "      <td>2.5</td>\n",
       "      <td>EC99</td>\n",
       "    </tr>\n",
       "    <tr>\n",
       "      <th rowspan=\"6\" valign=\"top\">6</th>\n",
       "      <th>4</th>\n",
       "      <td>RD1</td>\n",
       "      <td>CTRL</td>\n",
       "      <td>0</td>\n",
       "      <td>EC0</td>\n",
       "    </tr>\n",
       "    <tr>\n",
       "      <th>5</th>\n",
       "      <td>WT</td>\n",
       "      <td>CTRL</td>\n",
       "      <td>0</td>\n",
       "      <td>EC0</td>\n",
       "    </tr>\n",
       "    <tr>\n",
       "      <th>6</th>\n",
       "      <td>WT</td>\n",
       "      <td>PZA</td>\n",
       "      <td>400</td>\n",
       "      <td>EC99</td>\n",
       "    </tr>\n",
       "    <tr>\n",
       "      <th>7</th>\n",
       "      <td>WT</td>\n",
       "      <td>RIF</td>\n",
       "      <td>2</td>\n",
       "      <td>EC99</td>\n",
       "    </tr>\n",
       "    <tr>\n",
       "      <th>8</th>\n",
       "      <td>WT</td>\n",
       "      <td>INH</td>\n",
       "      <td>2</td>\n",
       "      <td>EC99</td>\n",
       "    </tr>\n",
       "    <tr>\n",
       "      <th>9</th>\n",
       "      <td>WT</td>\n",
       "      <td>BDQ</td>\n",
       "      <td>2.5</td>\n",
       "      <td>EC99</td>\n",
       "    </tr>\n",
       "  </tbody>\n",
       "</table>\n",
       "</div>"
      ],
      "text/plain": [
       "    Strain Compound Concentration ConcentrationEC\n",
       "3 4    RD1     CTRL             0             EC0\n",
       "  5     WT     CTRL             0             EC0\n",
       "  6     WT      PZA            60            EC50\n",
       "  7     WT      RIF           0.1            EC50\n",
       "  8     WT      INH          0.04            EC50\n",
       "  9     WT      BDQ          0.02            EC50\n",
       "4 4    RD1     CTRL             0             EC0\n",
       "  5     WT     CTRL             0             EC0\n",
       "  6     WT      PZA            60            EC50\n",
       "  7     WT      RIF           0.1            EC50\n",
       "  8     WT      INH          0.04            EC50\n",
       "  9     WT      BDQ          0.02            EC50\n",
       "5 4    RD1     CTRL             0             EC0\n",
       "  5     WT     CTRL             0             EC0\n",
       "  6     WT      PZA           400            EC99\n",
       "  7     WT      RIF             2            EC99\n",
       "  8     WT      INH             2            EC99\n",
       "  9     WT      BDQ           2.5            EC99\n",
       "6 4    RD1     CTRL             0             EC0\n",
       "  5     WT     CTRL             0             EC0\n",
       "  6     WT      PZA           400            EC99\n",
       "  7     WT      RIF             2            EC99\n",
       "  8     WT      INH             2            EC99\n",
       "  9     WT      BDQ           2.5            EC99"
      ]
     },
     "execution_count": 8,
     "metadata": {},
     "output_type": "execute_result"
    }
   ],
   "source": [
    "metadata_path = '/mnt/DATA/sandbox/pierre_live_cell_data/outputs/Replication_IPSDM_GFP/Assaylayout/20210602_Live_cell_IPSDMGFP_ATB.xml'\n",
    "assay_layout = dataio.read_harmony_metadata(metadata_path, assay_layout=True)\n",
    "dataio.read_harmony_metadata(metadata_path, assay_layout=True)"
   ]
  },
  {
   "cell_type": "markdown",
   "id": "8dedfd24",
   "metadata": {},
   "source": [
    "# Pick one position to test first"
   ]
  },
  {
   "cell_type": "code",
   "execution_count": 13,
   "id": "e478bee2",
   "metadata": {},
   "outputs": [],
   "source": [
    "row, column = (3,5)"
   ]
  },
  {
   "cell_type": "markdown",
   "id": "45221981",
   "metadata": {},
   "source": [
    "# Segment, localise, downscale and track"
   ]
  },
  {
   "cell_type": "code",
   "execution_count": 25,
   "id": "e36669b1",
   "metadata": {},
   "outputs": [
    {
     "ename": "SyntaxError",
     "evalue": "invalid syntax (3861544465.py, line 28)",
     "output_type": "error",
     "traceback": [
      "\u001b[0;36m  Input \u001b[0;32mIn [25]\u001b[0;36m\u001b[0m\n\u001b[0;31m    1200/6048, anti_aliasing=False)\u001b[0m\n\u001b[0m    ^\u001b[0m\n\u001b[0;31mSyntaxError\u001b[0m\u001b[0;31m:\u001b[0m invalid syntax\n"
     ]
    }
   ],
   "source": [
    "### load images into memory?\n",
    "images = tile.compile_mosaic(image_dir, \n",
    "                             metadata, \n",
    "                             row, \n",
    "                             column, \n",
    "                             set_plane = 'sum_proj',\n",
    "                             ).astype(np.uint16)\n",
    "### define gfp input images for segmentation\n",
    "input_images = images[:,0,...]\n",
    "### define empty mask stack to append each mask frame to\n",
    "masks_stack = list()\n",
    "### iterate over frames and segment\n",
    "for n, frame in tqdm(enumerate(input_images), total = len(input_images), \n",
    "                     desc = f'Segmenting position {row, column}', leave = False):\n",
    "    ### decide whether to compute on the fly or not\n",
    "    frame = frame.compute().compute().astype(np.uint16)\n",
    "    ### segment\n",
    "    masks, flows, styles, diams = model.eval(frame, \n",
    "                                             channels = [0,0], \n",
    "                                             diameter = 325, \n",
    "                                             min_size = 2500, \n",
    "                                             )\n",
    "    break\n",
    "#     masks_stack.append(masks)\n",
    "\n",
    "mask_resized = transform.rescale(masks,\n",
    "#                         masks_stack[t], \n",
    "                       1200/6048, anti_aliasing=False)\n",
    "### rescale so that pixel values are 16 bit?\n",
    "mask_resized *= 2**16/mask_resized.max()  "
   ]
  },
  {
   "cell_type": "code",
   "execution_count": 57,
   "id": "cb0acda4",
   "metadata": {},
   "outputs": [
    {
     "data": {
      "text/plain": [
       "5.04"
      ]
     },
     "execution_count": 57,
     "metadata": {},
     "output_type": "execute_result"
    }
   ],
   "source": [
    "1/( 1200/6048)"
   ]
  },
  {
   "cell_type": "code",
   "execution_count": 58,
   "id": "c01218a3",
   "metadata": {},
   "outputs": [
    {
     "ename": "TypeError",
     "evalue": "`pad_width` must be of integral type.",
     "output_type": "error",
     "traceback": [
      "\u001b[0;31m---------------------------------------------------------------------------\u001b[0m",
      "\u001b[0;31mTypeError\u001b[0m                                 Traceback (most recent call last)",
      "Input \u001b[0;32mIn [58]\u001b[0m, in \u001b[0;36m<cell line: 13>\u001b[0;34m()\u001b[0m\n\u001b[1;32m      9\u001b[0m block_size \u001b[38;5;241m=\u001b[39m (\u001b[38;5;241m6048\u001b[39m\u001b[38;5;241m/\u001b[39m\u001b[38;5;241m1200\u001b[39m, \u001b[38;5;241m6048\u001b[39m\u001b[38;5;241m/\u001b[39m\u001b[38;5;241m1200\u001b[39m)\n\u001b[1;32m     11\u001b[0m \u001b[38;5;66;03m# Use block_reduce to downsample the image by a factor of 5\u001b[39;00m\n\u001b[1;32m     12\u001b[0m \u001b[38;5;66;03m# and preserve the pixel values by taking the mode of the blocks\u001b[39;00m\n\u001b[0;32m---> 13\u001b[0m resized_image \u001b[38;5;241m=\u001b[39m \u001b[43mblock_reduce\u001b[49m\u001b[43m(\u001b[49m\u001b[43mmasks\u001b[49m\u001b[43m,\u001b[49m\u001b[43m \u001b[49m\u001b[43mblock_size\u001b[49m\u001b[43m,\u001b[49m\u001b[43m \u001b[49m\u001b[43mfunc\u001b[49m\u001b[38;5;241;43m=\u001b[39;49m\u001b[43mnp\u001b[49m\u001b[38;5;241;43m.\u001b[39;49m\u001b[43mmax\u001b[49m\u001b[43m)\u001b[49m\n\u001b[1;32m     15\u001b[0m \u001b[38;5;66;03m# Convert the resized image back to uint8\u001b[39;00m\n\u001b[1;32m     16\u001b[0m resized_image \u001b[38;5;241m=\u001b[39m resized_image\u001b[38;5;241m.\u001b[39mastype(np\u001b[38;5;241m.\u001b[39muint8)\n",
      "File \u001b[0;32m~/miniconda3/envs/aero/lib/python3.9/site-packages/skimage/measure/block.py:84\u001b[0m, in \u001b[0;36mblock_reduce\u001b[0;34m(image, block_size, func, cval, func_kwargs)\u001b[0m\n\u001b[1;32m     81\u001b[0m         after_width \u001b[38;5;241m=\u001b[39m \u001b[38;5;241m0\u001b[39m\n\u001b[1;32m     82\u001b[0m     pad_width\u001b[38;5;241m.\u001b[39mappend((\u001b[38;5;241m0\u001b[39m, after_width))\n\u001b[0;32m---> 84\u001b[0m image \u001b[38;5;241m=\u001b[39m \u001b[43mnp\u001b[49m\u001b[38;5;241;43m.\u001b[39;49m\u001b[43mpad\u001b[49m\u001b[43m(\u001b[49m\u001b[43mimage\u001b[49m\u001b[43m,\u001b[49m\u001b[43m \u001b[49m\u001b[43mpad_width\u001b[49m\u001b[38;5;241;43m=\u001b[39;49m\u001b[43mpad_width\u001b[49m\u001b[43m,\u001b[49m\u001b[43m \u001b[49m\u001b[43mmode\u001b[49m\u001b[38;5;241;43m=\u001b[39;49m\u001b[38;5;124;43m'\u001b[39;49m\u001b[38;5;124;43mconstant\u001b[39;49m\u001b[38;5;124;43m'\u001b[39;49m\u001b[43m,\u001b[49m\n\u001b[1;32m     85\u001b[0m \u001b[43m               \u001b[49m\u001b[43mconstant_values\u001b[49m\u001b[38;5;241;43m=\u001b[39;49m\u001b[43mcval\u001b[49m\u001b[43m)\u001b[49m\n\u001b[1;32m     87\u001b[0m blocked \u001b[38;5;241m=\u001b[39m view_as_blocks(image, block_size)\n\u001b[1;32m     89\u001b[0m \u001b[38;5;28;01mreturn\u001b[39;00m func(blocked, axis\u001b[38;5;241m=\u001b[39m\u001b[38;5;28mtuple\u001b[39m(\u001b[38;5;28mrange\u001b[39m(image\u001b[38;5;241m.\u001b[39mndim, blocked\u001b[38;5;241m.\u001b[39mndim)),\n\u001b[1;32m     90\u001b[0m             \u001b[38;5;241m*\u001b[39m\u001b[38;5;241m*\u001b[39mfunc_kwargs)\n",
      "File \u001b[0;32m<__array_function__ internals>:180\u001b[0m, in \u001b[0;36mpad\u001b[0;34m(*args, **kwargs)\u001b[0m\n",
      "File \u001b[0;32m~/miniconda3/envs/aero/lib/python3.9/site-packages/numpy/lib/arraypad.py:740\u001b[0m, in \u001b[0;36mpad\u001b[0;34m(array, pad_width, mode, **kwargs)\u001b[0m\n\u001b[1;32m    737\u001b[0m pad_width \u001b[38;5;241m=\u001b[39m np\u001b[38;5;241m.\u001b[39masarray(pad_width)\n\u001b[1;32m    739\u001b[0m \u001b[38;5;28;01mif\u001b[39;00m \u001b[38;5;129;01mnot\u001b[39;00m pad_width\u001b[38;5;241m.\u001b[39mdtype\u001b[38;5;241m.\u001b[39mkind \u001b[38;5;241m==\u001b[39m \u001b[38;5;124m'\u001b[39m\u001b[38;5;124mi\u001b[39m\u001b[38;5;124m'\u001b[39m:\n\u001b[0;32m--> 740\u001b[0m     \u001b[38;5;28;01mraise\u001b[39;00m \u001b[38;5;167;01mTypeError\u001b[39;00m(\u001b[38;5;124m'\u001b[39m\u001b[38;5;124m`pad_width` must be of integral type.\u001b[39m\u001b[38;5;124m'\u001b[39m)\n\u001b[1;32m    742\u001b[0m \u001b[38;5;66;03m# Broadcast to shape (array.ndim, 2)\u001b[39;00m\n\u001b[1;32m    743\u001b[0m pad_width \u001b[38;5;241m=\u001b[39m _as_pairs(pad_width, array\u001b[38;5;241m.\u001b[39mndim, as_index\u001b[38;5;241m=\u001b[39m\u001b[38;5;28;01mTrue\u001b[39;00m)\n",
      "\u001b[0;31mTypeError\u001b[0m: `pad_width` must be of integral type."
     ]
    }
   ],
   "source": [
    "import numpy as np\n",
    "from skimage.measure import block_reduce\n",
    "\n",
    "# Load the original image as a uint8 array\n",
    "# Assuming you have loaded your image into a NumPy array called \"image\"\n",
    "# with shape (height, width) and data type uint8\n",
    "\n",
    "# Define the block size for downsampling\n",
    "block_size = (6048/1200, 6048/1200)\n",
    "\n",
    "# Use block_reduce to downsample the image by a factor of 5\n",
    "# and preserve the pixel values by taking the mode of the blocks\n",
    "resized_image = block_reduce(masks, block_size, func=np.max)\n",
    "\n",
    "# Convert the resized image back to uint8\n",
    "resized_image = resized_image.astype(np.uint8)\n",
    "\n",
    "# The resized_image array now contains the resized image with preserved shape and pixel values as uint8\n"
   ]
  },
  {
   "cell_type": "code",
   "execution_count": null,
   "id": "5dde19d9",
   "metadata": {},
   "outputs": [],
   "source": [
    "import numpy as np\n",
    "from skimage.transform import rescale\n",
    "\n",
    "# Load the original image as a uint8 array\n",
    "# Assuming you have loaded your image into a NumPy array called \"image\"\n",
    "# with shape (height, width) and data type uint8\n",
    "\n",
    "# Define the scaling factor\n",
    "scale_factor = 5.04\n",
    "\n",
    "# Use skimage.transform.rescale to downscale the image by the scale factor\n",
    "resized_image = rescale(masks, scale_factor, order=0, preserve_range=True)\n",
    "\n",
    "# Convert the resized image back to uint8\n",
    "resized_image = resized_image.astype(np.uint16)\n",
    "\n",
    "# The resized_image array now contains the resized image with preserved shape and pixel values as uint8\n"
   ]
  },
  {
   "cell_type": "code",
   "execution_count": 39,
   "id": "a3c33a40",
   "metadata": {},
   "outputs": [],
   "source": [
    "\n",
    "mask_resized = transform.rescale(masks,\n",
    "#                         masks_stack[t], \n",
    "                       1200/6048, anti_aliasing=True)\n",
    "### rescale so that pixel values are 16 bit?\n",
    "resized_uint16 = (mask_resized * 65535).astype(np.uint16)\n",
    "\n",
    "# mask_resized *= 2**16/mask_resized.max()  "
   ]
  },
  {
   "cell_type": "code",
   "execution_count": 22,
   "id": "911b015e",
   "metadata": {},
   "outputs": [],
   "source": [
    "import napari"
   ]
  },
  {
   "cell_type": "code",
   "execution_count": 54,
   "id": "72cd8be4",
   "metadata": {},
   "outputs": [
    {
     "name": "stderr",
     "output_type": "stream",
     "text": [
      "/home/dayn/miniconda3/envs/aero/lib/python3.9/site-packages/napari_tools_menu/__init__.py:194: FutureWarning: Public access to Window.qt_viewer is deprecated and will be removed in\n",
      "v0.5.0. It is considered an \"implementation detail\" of the napari\n",
      "application, not part of the napari viewer model. If your use case\n",
      "requires access to qt_viewer, please open an issue to discuss.\n",
      "  self.tools_menu = ToolsMenu(self, self.qt_viewer.viewer)\n"
     ]
    },
    {
     "data": {
      "text/plain": [
       "<Labels layer 'chat' at 0x7f783ac15c10>"
      ]
     },
     "execution_count": 54,
     "metadata": {},
     "output_type": "execute_result"
    }
   ],
   "source": [
    "v = napari.Viewer()\n",
    "\n",
    "v.add_labels(masks)\n",
    "v.add_image(mask_resized, name = 'original')\n",
    "\n",
    "v.add_labels(resized_image, name = 'chat')"
   ]
  },
  {
   "cell_type": "code",
   "execution_count": null,
   "id": "a9ca40ed",
   "metadata": {},
   "outputs": [],
   "source": [
    "### load images into memory?\n",
    "images = tile.compile_mosaic(\n",
    "                             image_dir, \n",
    "                             metadata, \n",
    "                             row, \n",
    "                             column, \n",
    "                             set_plane = 'sum_proj',\n",
    "                             ).astype(np.uint16)\n",
    "### define gfp input images for segmentation\n",
    "input_images = images[:,0,...]\n",
    "### define empty mask stack to append each mask frame to\n",
    "masks_stack = list()\n",
    "### iterate over frames and segment\n",
    "for n, frame in tqdm(enumerate(input_images), total = len(input_images), \n",
    "                     desc = f'Segmenting position {row, column}', leave = False):\n",
    "    ### decide whether to compute on the fly or not\n",
    "    frame = frame.compute().compute().astype(np.uint16)\n",
    "    ### segment\n",
    "    masks, flows, styles, diams = model.eval(\n",
    "                                             frame, \n",
    "                                             channels = [0,0], \n",
    "                                             diameter = 325, \n",
    "                                             min_size = 2500, \n",
    "                                             )\n",
    "    masks_stack.append(masks)\n",
    "### make a stack out of this using dask\n",
    "masks_stack = da.stack(masks_stack, axis = 0)\n",
    "### reorder the channel axis so that localisation can measure intensity\n",
    "gfp = images[:,0,...]\n",
    "rfp = images[:,1,...]\n",
    "#     ### stack together using dask \n",
    "#     images = da.stack([gfp,rfp], axis = -1)\n",
    "#     ### locaslise objects and measure properties\n",
    "#     objects = btrack.utils.segmentation_to_objects(\n",
    "#                                                     masks_stack, \n",
    "#                                                     images,\n",
    "#                                                     properties = tuple(feat),\n",
    "#                                                     use_weighted_centroid = False, \n",
    "#                                                     )\n",
    "#     ### filter small objects out \n",
    "#     objects = [o for o in objects if o.properties['area'] > 2500]\n",
    "#     ### save objects out as insurance\n",
    "#     with btrack.dataio.HDF5FileHandler(\n",
    "#                                        f'/mnt/DATA/macrohet/segmentation/({row},{column})_objects_d325.h5',\n",
    "#                                        'w', \n",
    "#                                        obj_type='obj_type_1',\n",
    "#                                        ) as hdf:\n",
    "#                                         hdf.write_segmentation(masks_stack)\n",
    "#                                         hdf.write_objects(objects)\n",
    "### define new array for resized masks\n",
    "masks_stack_resized = list()\n",
    "### now conduct rescaling and save out as seperate objects prior to tracking\n",
    "for t in tqdm(range(len(masks_stack)), \n",
    "              desc = f'Resizing masks in position {row, column}', leave = False):\n",
    "    ### resize mask to be 1200 pixels squared\n",
    "    mask_resized = rescale(masks_stack[t], 1200/6048, anti_aliasing=False)\n",
    "    ### rescale so that pixel values are 16 bit?\n",
    "    mask_resized *= 2**16/mask_resized.max()   \n",
    "    masks_stack_resized.append(mask_resized.astype(np.uint16))\n",
    "masks_stack_resized = da.stack(masks_stack_resized, axis = 0)\n",
    "### now resize the gfp and rfp\n",
    "gfp_images_resized = list()\n",
    "for t in tqdm(range(len(gfp)), \n",
    "              desc = f'Resizing GFP images in position {row, column}', leave = False):\n",
    "    gfp_image_resized = rescale(gfp[t], 1200/6048, anti_aliasing=False)\n",
    "    gfp_images_resized.append(gfp_image_resized)\n",
    "gfp_images_resized = da.stack(gfp_images_resized, axis = 0)\n",
    "rfp_images_resized = list()\n",
    "for t in tqdm(range(len(rfp)),  \n",
    "              desc = f'Resizing RFP images in position {row, column}', leave = False):\n",
    "    rfp_image_resized = rescale(rfp[t], 1200/6048, anti_aliasing=False)\n",
    "    rfp_images_resized.append(rfp_image_resized)\n",
    "rfp_images_resized = da.stack(rfp_images_resized, axis = 0)\n",
    "### stack together resized images for localisation\n",
    "resized_images = da.stack([gfp_images_resized,rfp_images_resized], axis = -1)\n",
    "### define features to measure \n",
    "feat = [\n",
    "  \"area\",\n",
    "  \"major_axis_length\",\n",
    "  \"minor_axis_length\",\n",
    "  \"orientation\",\n",
    "  \"mean_intensity\",\n",
    "    ]\n",
    "### localise resized images\n",
    "objects = btrack.utils.segmentation_to_objects(\n",
    "                                                masks_stack_resized, \n",
    "                                                resized_images,\n",
    "                                                properties = tuple(feat),\n",
    "                                                use_weighted_centroid = False, \n",
    "                                            )\n",
    "### filter out small objects\n",
    "objects = [o for o in objects if o.properties['area'] > 500]\n",
    "### save out resized objects\n",
    "with btrack.dataio.HDF5FileHandler(\n",
    "                                    f'/mnt/DATA/macrohet/segmentation/({row},{column})_objects_rescaled.h5',#\n",
    "                                    'w', \n",
    "                                    obj_type='obj_type_1',\n",
    "                                    ) as hdf:\n",
    "                                    hdf.write_segmentation(masks_stack_resized)\n",
    "                                    hdf.write_objects(objects)\n",
    "### redefine features so that both channels are included in track measurements\n",
    "feat = list(objects[0].properties.keys())\n",
    "# initialise a tracker session using a context manager\n",
    "with btrack.BayesianTracker() as tracker:\n",
    "\n",
    "    # configure the tracker using a config file\n",
    "    tracker.configure(config)\n",
    "    tracker.max_search_radius = 20\n",
    "    tracker.tracking_updates = [\"MOTION\", \"VISUAL\"]\n",
    "    tracker.features = feat\n",
    "\n",
    "    # append the objects to be tracked\n",
    "    tracker.append(objects)\n",
    "\n",
    "    # set the tracking volume\n",
    "    tracker.volume=((0, masks_stack_resized.shape[-2]), (0, masks_stack_resized.shape[-1]))\n",
    "\n",
    "    # track them (in interactive mode)\n",
    "    tracker.track(step_size=25)\n",
    "\n",
    "    # generate hypotheses and run the global optimizer\n",
    "    tracker.optimize()\n",
    "\n",
    "    # get the tracks in a format for napari visualization\n",
    "    data, properties, graph = tracker.to_napari()\n",
    "\n",
    "    # store the tracks\n",
    "    tracks = tracker.tracks\n",
    "\n",
    "    # store the configuration\n",
    "    cfg = tracker.configuration\n",
    "\n",
    "    # export the track data \n",
    "    tracker.export(f\"/mnt/DATA/macrohet/segmentation/({row},{column})_tracks_rescaled.h5\", obj_type=\"obj_type_1\")\n"
   ]
  },
  {
   "cell_type": "code",
   "execution_count": 16,
   "id": "c082bba9",
   "metadata": {},
   "outputs": [
    {
     "data": {
      "application/vnd.jupyter.widget-view+json": {
       "model_id": "a6bb565b60f34618b0e12c37c3b749eb",
       "version_major": 2,
       "version_minor": 0
      },
      "text/plain": [
       "Progress through positions:   0%|          | 0/24 [00:00<?, ?it/s]"
      ]
     },
     "metadata": {},
     "output_type": "display_data"
    },
    {
     "data": {
      "application/vnd.jupyter.widget-view+json": {
       "model_id": "",
       "version_major": 2,
       "version_minor": 0
      },
      "text/plain": [
       "Segmenting position (3, 4):   0%|          | 0/75 [00:00<?, ?it/s]"
      ]
     },
     "metadata": {},
     "output_type": "display_data"
    },
    {
     "data": {
      "application/vnd.jupyter.widget-view+json": {
       "model_id": "",
       "version_major": 2,
       "version_minor": 0
      },
      "text/plain": [
       "Resizing masks in position (3, 4):   0%|          | 0/75 [00:00<?, ?it/s]"
      ]
     },
     "metadata": {},
     "output_type": "display_data"
    },
    {
     "data": {
      "application/vnd.jupyter.widget-view+json": {
       "model_id": "",
       "version_major": 2,
       "version_minor": 0
      },
      "text/plain": [
       "Resizing GFP images in position (3, 4):   0%|          | 0/75 [00:00<?, ?it/s]"
      ]
     },
     "metadata": {},
     "output_type": "display_data"
    },
    {
     "data": {
      "application/vnd.jupyter.widget-view+json": {
       "model_id": "",
       "version_major": 2,
       "version_minor": 0
      },
      "text/plain": [
       "Resizing RFP images in position (3, 4):   0%|          | 0/75 [00:00<?, ?it/s]"
      ]
     },
     "metadata": {},
     "output_type": "display_data"
    },
    {
     "name": "stderr",
     "output_type": "stream",
     "text": [
      "[INFO][2023/01/27 12:17:27 PM] Localizing objects from segmentation...\n",
      "[INFO][2023/01/27 12:17:27 PM] Found intensity_image data\n",
      "[INFO][2023/01/27 12:21:46 PM] Objects are of type: <class 'dict'>\n",
      "[INFO][2023/01/27 12:21:58 PM] ...Found 1191389 objects in 75 frames.\n",
      "[INFO][2023/01/27 12:21:59 PM] Opening HDF file: /mnt/DATA/macrohet/segmentation/(3,4)_objects_rescaled.h5...\n",
      "[INFO][2023/01/27 12:22:01 PM] Writing objects/obj_type_1\n",
      "[INFO][2023/01/27 12:22:01 PM] Writing labels/obj_type_1\n",
      "[INFO][2023/01/27 12:22:01 PM] Loading objects/obj_type_1 (29079, 5) (29079 filtered: None)\n",
      "[INFO][2023/01/27 12:22:02 PM] Writing properties/obj_type_1/area (29079,)\n",
      "[INFO][2023/01/27 12:22:02 PM] Writing properties/obj_type_1/major_axis_length (29079,)\n",
      "[INFO][2023/01/27 12:22:02 PM] Writing properties/obj_type_1/minor_axis_length (29079,)\n",
      "[INFO][2023/01/27 12:22:02 PM] Writing properties/obj_type_1/orientation (29079,)\n",
      "[INFO][2023/01/27 12:22:02 PM] Writing properties/obj_type_1/mean_intensity-0 (29079,)\n",
      "[INFO][2023/01/27 12:22:02 PM] Writing properties/obj_type_1/mean_intensity-1 (29079,)\n",
      "[INFO][2023/01/27 12:22:02 PM] Closing HDF file: /mnt/DATA/macrohet/segmentation/(3,4)_objects_rescaled.h5\n",
      "[INFO][2023/01/27 12:22:02 PM] Loaded btrack: /home/dayn/analysis/BayesianTracker/btrack/libs/libtracker.so\n",
      "[INFO][2023/01/27 12:22:02 PM] btrack (v0.5.0) library imported\n",
      "[INFO][2023/01/27 12:22:02 PM] Starting BayesianTracker session\n",
      "[INFO][2023/01/27 12:22:02 PM] Loading configuration file: /home/dayn/analysis/BayesianTracker/models/cell_config.json\n",
      "[INFO][2023/01/27 12:22:02 PM] Objects are of type: <class 'list'>\n",
      "[INFO][2023/01/27 12:22:03 PM] Starting tracking... \n",
      "[INFO][2023/01/27 12:22:03 PM] Update using: ['VISUAL', 'MOTION']\n",
      "[INFO][2023/01/27 12:22:03 PM] Tracking objects in frames 0 to 24 (of 75)...\n",
      "[INFO][2023/01/27 12:22:08 PM]  - Timing (Bayesian updates: 44.94ms, Linking: 2.19ms)\n",
      "[INFO][2023/01/27 12:22:08 PM]  - Probabilities (Link: 1.00000, Lost: 1.00000)\n",
      "[INFO][2023/01/27 12:22:08 PM]  - Stats (Active: 594, Lost: 1667, Conflicts resolved: 3797)\n",
      "[INFO][2023/01/27 12:22:08 PM] Tracking objects in frames 25 to 49 (of 75)...\n",
      "[INFO][2023/01/27 12:22:10 PM]  - Timing (Bayesian updates: 30.27ms, Linking: 2.01ms)\n",
      "[INFO][2023/01/27 12:22:10 PM]  - Probabilities (Link: 1.00000, Lost: 0.99999)\n",
      "[INFO][2023/01/27 12:22:10 PM]  - Stats (Active: 505, Lost: 3038, Conflicts resolved: 6751)\n",
      "[INFO][2023/01/27 12:22:10 PM] Tracking objects in frames 50 to 74 (of 75)...\n",
      "[INFO][2023/01/27 12:22:13 PM]  - Timing (Bayesian updates: 32.90ms, Linking: 1.91ms)\n",
      "[INFO][2023/01/27 12:22:13 PM]  - Probabilities (Link: 1.00000, Lost: 0.95970)\n",
      "[INFO][2023/01/27 12:22:13 PM] SUCCESS.\n",
      "[INFO][2023/01/27 12:22:13 PM]  - Found 3135 tracks in 75 frames (in 0.0s)\n",
      "[INFO][2023/01/27 12:22:13 PM]  - Inserted 3409 dummy objects to fill tracking gaps\n",
      "[INFO][2023/01/27 12:22:13 PM] Loading hypothesis model: cell_hypothesis\n",
      "[INFO][2023/01/27 12:22:13 PM] Calculating hypotheses (relax: True)...\n",
      "[INFO][2023/01/27 12:22:13 PM] Setting up constraints matrix for global optimisation...\n",
      "[INFO][2023/01/27 12:22:13 PM] Using GLPK options: {'tm_lim': 60000}...\n",
      "[INFO][2023/01/27 12:22:13 PM] Optimizing...\n",
      "[INFO][2023/01/27 12:22:14 PM] Optimization complete. (Solution: optimal)\n",
      "[INFO][2023/01/27 12:22:14 PM]  - Fates.FALSE_POSITIVE: 1002 (of 3135)\n",
      "[INFO][2023/01/27 12:22:14 PM]  - Fates.LINK: 838 (of 1252)\n",
      "[INFO][2023/01/27 12:22:14 PM]  - Fates.DIVIDE: 51 (of 138)\n",
      "[INFO][2023/01/27 12:22:14 PM]  - Fates.INITIALIZE_BORDER: 82 (of 183)\n",
      "[INFO][2023/01/27 12:22:14 PM]  - Fates.INITIALIZE_FRONT: 499 (of 737)\n",
      "[INFO][2023/01/27 12:22:14 PM]  - Fates.INITIALIZE_LAZY: 612 (of 2215)\n",
      "[INFO][2023/01/27 12:22:14 PM]  - Fates.TERMINATE_BORDER: 90 (of 189)\n",
      "[INFO][2023/01/27 12:22:14 PM]  - Fates.TERMINATE_BACK: 377 (of 473)\n",
      "[INFO][2023/01/27 12:22:14 PM]  - Fates.TERMINATE_LAZY: 777 (of 2473)\n",
      "[INFO][2023/01/27 12:22:14 PM]  - TOTAL: 10795 hypotheses\n",
      "[INFO][2023/01/27 12:22:14 PM] Completed optimization with 2297 tracks\n"
     ]
    },
    {
     "name": "stdout",
     "output_type": "stream",
     "text": [
      "GLPK Integer Optimizer 5.0\n",
      "12540 rows, 10795 columns, 15458 non-zeros\n",
      "10795 integer variables, all of which are binary\n",
      "Preprocessing...\n",
      "6270 rows, 10795 columns, 15458 non-zeros\n",
      "10795 integer variables, all of which are binary\n",
      "Scaling...\n",
      " A: min|aij| =  1.000e+00  max|aij| =  1.000e+00  ratio =  1.000e+00\n",
      "Problem data seem to be well scaled\n",
      "Constructing initial basis...\n",
      "Size of triangular part is 6270\n",
      "Solving LP relaxation...\n",
      "GLPK Simplex Optimizer 5.0\n",
      "6270 rows, 10795 columns, 15458 non-zeros\n",
      "*     0: obj =   3.329937186e+04 inf =   0.000e+00 (2908)\n",
      "Perturbing LP to avoid stalling [1354]...\n",
      "Removing LP perturbation [2836]...\n",
      "*  2836: obj =   1.603715643e+04 inf =   0.000e+00 (0)\n",
      "OPTIMAL LP SOLUTION FOUND\n",
      "Integer optimization begins...\n",
      "Long-step dual simplex will be used\n",
      "+  2836: mip =     not found yet >=              -inf        (1; 0)\n",
      "+  2837: >>>>>   1.603837249e+04 >=   1.603837249e+04   0.0% (2; 0)\n",
      "+  2837: mip =   1.603837249e+04 >=     tree is empty   0.0% (0; 3)\n",
      "INTEGER OPTIMAL SOLUTION FOUND\n"
     ]
    },
    {
     "name": "stderr",
     "output_type": "stream",
     "text": [
      "[INFO][2023/01/27 12:22:15 PM] Opening HDF file: /mnt/DATA/macrohet/segmentation/(3,4)_tracks_rescaled.h5...\n",
      "[INFO][2023/01/27 12:22:15 PM] Writing objects/obj_type_1\n",
      "[INFO][2023/01/27 12:22:15 PM] Writing labels/obj_type_1\n",
      "[INFO][2023/01/27 12:22:15 PM] Loading objects/obj_type_1 (29079, 5) (29079 filtered: None)\n",
      "[INFO][2023/01/27 12:22:15 PM] Writing properties/obj_type_1/area (29079,)\n",
      "[INFO][2023/01/27 12:22:15 PM] Writing properties/obj_type_1/major_axis_length (29079,)\n",
      "[INFO][2023/01/27 12:22:15 PM] Writing properties/obj_type_1/minor_axis_length (29079,)\n",
      "[INFO][2023/01/27 12:22:15 PM] Writing properties/obj_type_1/orientation (29079,)\n",
      "[INFO][2023/01/27 12:22:15 PM] Writing properties/obj_type_1/mean_intensity-0 (29079,)\n",
      "[INFO][2023/01/27 12:22:15 PM] Writing properties/obj_type_1/mean_intensity-1 (29079,)\n",
      "[INFO][2023/01/27 12:22:16 PM] Writing tracks/obj_type_1\n",
      "[INFO][2023/01/27 12:22:16 PM] Writing dummies/obj_type_1\n",
      "[INFO][2023/01/27 12:22:16 PM] Writing LBEP/obj_type_1\n",
      "[INFO][2023/01/27 12:22:16 PM] Writing fates/obj_type_1\n",
      "[INFO][2023/01/27 12:22:16 PM] Closing HDF file: /mnt/DATA/macrohet/segmentation/(3,4)_tracks_rescaled.h5\n",
      "[INFO][2023/01/27 12:22:16 PM] Ending BayesianTracker session\n"
     ]
    },
    {
     "name": "stdout",
     "output_type": "stream",
     "text": [
      "Position (3, 5) already completed\n"
     ]
    },
    {
     "data": {
      "application/vnd.jupyter.widget-view+json": {
       "model_id": "",
       "version_major": 2,
       "version_minor": 0
      },
      "text/plain": [
       "Segmenting position (3, 6):   0%|          | 0/75 [00:00<?, ?it/s]"
      ]
     },
     "metadata": {},
     "output_type": "display_data"
    },
    {
     "data": {
      "application/vnd.jupyter.widget-view+json": {
       "model_id": "",
       "version_major": 2,
       "version_minor": 0
      },
      "text/plain": [
       "Resizing masks in position (3, 6):   0%|          | 0/75 [00:00<?, ?it/s]"
      ]
     },
     "metadata": {},
     "output_type": "display_data"
    },
    {
     "data": {
      "application/vnd.jupyter.widget-view+json": {
       "model_id": "",
       "version_major": 2,
       "version_minor": 0
      },
      "text/plain": [
       "Resizing GFP images in position (3, 6):   0%|          | 0/75 [00:00<?, ?it/s]"
      ]
     },
     "metadata": {},
     "output_type": "display_data"
    },
    {
     "data": {
      "application/vnd.jupyter.widget-view+json": {
       "model_id": "",
       "version_major": 2,
       "version_minor": 0
      },
      "text/plain": [
       "Resizing RFP images in position (3, 6):   0%|          | 0/75 [00:00<?, ?it/s]"
      ]
     },
     "metadata": {},
     "output_type": "display_data"
    },
    {
     "name": "stderr",
     "output_type": "stream",
     "text": [
      "[INFO][2023/01/27 03:16:08 PM] Localizing objects from segmentation...\n",
      "[INFO][2023/01/27 03:16:08 PM] Found intensity_image data\n",
      "[INFO][2023/01/27 03:20:38 PM] Objects are of type: <class 'dict'>\n",
      "[INFO][2023/01/27 03:20:51 PM] ...Found 1243377 objects in 75 frames.\n",
      "[INFO][2023/01/27 03:20:52 PM] Opening HDF file: /mnt/DATA/macrohet/segmentation/(3,6)_objects_rescaled.h5...\n",
      "[INFO][2023/01/27 03:20:55 PM] Writing objects/obj_type_1\n",
      "[INFO][2023/01/27 03:20:55 PM] Writing labels/obj_type_1\n",
      "[INFO][2023/01/27 03:20:55 PM] Loading objects/obj_type_1 (31821, 5) (31821 filtered: None)\n",
      "[INFO][2023/01/27 03:20:55 PM] Writing properties/obj_type_1/area (31821,)\n",
      "[INFO][2023/01/27 03:20:55 PM] Writing properties/obj_type_1/major_axis_length (31821,)\n",
      "[INFO][2023/01/27 03:20:55 PM] Writing properties/obj_type_1/minor_axis_length (31821,)\n",
      "[INFO][2023/01/27 03:20:55 PM] Writing properties/obj_type_1/orientation (31821,)\n",
      "[INFO][2023/01/27 03:20:55 PM] Writing properties/obj_type_1/mean_intensity-0 (31821,)\n",
      "[INFO][2023/01/27 03:20:55 PM] Writing properties/obj_type_1/mean_intensity-1 (31821,)\n",
      "[INFO][2023/01/27 03:20:55 PM] Closing HDF file: /mnt/DATA/macrohet/segmentation/(3,6)_objects_rescaled.h5\n",
      "[INFO][2023/01/27 03:20:55 PM] Loaded btrack: /home/dayn/analysis/BayesianTracker/btrack/libs/libtracker.so\n",
      "[INFO][2023/01/27 03:20:55 PM] btrack (v0.5.0) library imported\n",
      "[INFO][2023/01/27 03:20:55 PM] Starting BayesianTracker session\n",
      "[INFO][2023/01/27 03:20:55 PM] Loading configuration file: /home/dayn/analysis/BayesianTracker/models/cell_config.json\n",
      "[INFO][2023/01/27 03:20:55 PM] Objects are of type: <class 'list'>\n",
      "[INFO][2023/01/27 03:20:56 PM] Starting tracking... \n",
      "[INFO][2023/01/27 03:20:56 PM] Update using: ['VISUAL', 'MOTION']\n",
      "[INFO][2023/01/27 03:20:56 PM] Tracking objects in frames 0 to 24 (of 75)...\n",
      "[INFO][2023/01/27 03:21:00 PM]  - Timing (Bayesian updates: 46.72ms, Linking: 2.22ms)\n",
      "[INFO][2023/01/27 03:21:00 PM]  - Probabilities (Link: 1.00000, Lost: 1.00000)\n",
      "[INFO][2023/01/27 03:21:00 PM]  - Stats (Active: 597, Lost: 1707, Conflicts resolved: 3897)\n",
      "[INFO][2023/01/27 03:21:00 PM] Tracking objects in frames 25 to 49 (of 75)...\n",
      "[INFO][2023/01/27 03:21:04 PM]  - Timing (Bayesian updates: 60.54ms, Linking: 2.79ms)\n",
      "[INFO][2023/01/27 03:21:04 PM]  - Probabilities (Link: 1.00000, Lost: 0.96310)\n",
      "[INFO][2023/01/27 03:21:04 PM]  - Stats (Active: 611, Lost: 3171, Conflicts resolved: 7003)\n",
      "[INFO][2023/01/27 03:21:04 PM] Tracking objects in frames 50 to 74 (of 75)...\n",
      "[INFO][2023/01/27 03:21:08 PM]  - Timing (Bayesian updates: 65.48ms, Linking: 2.92ms)\n",
      "[INFO][2023/01/27 03:21:08 PM]  - Probabilities (Link: 1.00000, Lost: 1.00000)\n",
      "[INFO][2023/01/27 03:21:08 PM] SUCCESS.\n",
      "[INFO][2023/01/27 03:21:08 PM]  - Found 3482 tracks in 75 frames (in 0.0s)\n",
      "[INFO][2023/01/27 03:21:08 PM]  - Inserted 3758 dummy objects to fill tracking gaps\n",
      "[INFO][2023/01/27 03:21:08 PM] Loading hypothesis model: cell_hypothesis\n",
      "[INFO][2023/01/27 03:21:08 PM] Calculating hypotheses (relax: True)...\n",
      "[INFO][2023/01/27 03:21:08 PM] Setting up constraints matrix for global optimisation...\n",
      "[INFO][2023/01/27 03:21:08 PM] Using GLPK options: {'tm_lim': 60000}...\n",
      "[INFO][2023/01/27 03:21:09 PM] Optimizing...\n",
      "[INFO][2023/01/27 03:21:10 PM] Optimization complete. (Solution: optimal)\n",
      "[INFO][2023/01/27 03:21:10 PM]  - Fates.FALSE_POSITIVE: 1162 (of 3482)\n",
      "[INFO][2023/01/27 03:21:10 PM]  - Fates.LINK: 810 (of 1380)\n",
      "[INFO][2023/01/27 03:21:10 PM]  - Fates.DIVIDE: 95 (of 215)\n",
      "[INFO][2023/01/27 03:21:10 PM]  - Fates.INITIALIZE_BORDER: 111 (of 258)\n",
      "[INFO][2023/01/27 03:21:10 PM]  - Fates.INITIALIZE_FRONT: 446 (of 772)\n",
      "[INFO][2023/01/27 03:21:10 PM]  - Fates.INITIALIZE_LAZY: 763 (of 2452)\n",
      "[INFO][2023/01/27 03:21:10 PM]  - Fates.TERMINATE_BORDER: 117 (of 247)\n",
      "[INFO][2023/01/27 03:21:10 PM]  - Fates.TERMINATE_BACK: 499 (of 601)\n",
      "[INFO][2023/01/27 03:21:10 PM]  - Fates.TERMINATE_LAZY: 799 (of 2634)\n",
      "[INFO][2023/01/27 03:21:10 PM]  - TOTAL: 12041 hypotheses\n",
      "[INFO][2023/01/27 03:21:10 PM] Completed optimization with 2672 tracks\n"
     ]
    },
    {
     "name": "stdout",
     "output_type": "stream",
     "text": [
      "GLPK Integer Optimizer 5.0\n",
      "13928 rows, 12041 columns, 17333 non-zeros\n",
      "12041 integer variables, all of which are binary\n",
      "Preprocessing...\n",
      "6964 rows, 12041 columns, 17333 non-zeros\n",
      "12041 integer variables, all of which are binary\n",
      "Scaling...\n",
      " A: min|aij| =  1.000e+00  max|aij| =  1.000e+00  ratio =  1.000e+00\n",
      "Problem data seem to be well scaled\n",
      "Constructing initial basis...\n",
      "Size of triangular part is 6964\n",
      "Solving LP relaxation...\n",
      "GLPK Simplex Optimizer 5.0\n",
      "6964 rows, 12041 columns, 17333 non-zeros\n",
      "*     0: obj =   3.663201036e+04 inf =   0.000e+00 (3300)\n",
      "Perturbing LP to avoid stalling [1162]...\n",
      "Removing LP perturbation [3150]...\n",
      "*  3150: obj =   1.801696227e+04 inf =   0.000e+00 (0)\n",
      "OPTIMAL LP SOLUTION FOUND\n",
      "Integer optimization begins...\n",
      "Long-step dual simplex will be used\n",
      "+  3150: mip =     not found yet >=              -inf        (1; 0)\n",
      "+  3150: >>>>>   1.801696227e+04 >=   1.801696227e+04   0.0% (1; 0)\n",
      "+  3150: mip =   1.801696227e+04 >=     tree is empty   0.0% (0; 1)\n",
      "INTEGER OPTIMAL SOLUTION FOUND\n"
     ]
    },
    {
     "name": "stderr",
     "output_type": "stream",
     "text": [
      "[INFO][2023/01/27 03:21:11 PM] Opening HDF file: /mnt/DATA/macrohet/segmentation/(3,6)_tracks_rescaled.h5...\n",
      "[INFO][2023/01/27 03:21:11 PM] Writing objects/obj_type_1\n",
      "[INFO][2023/01/27 03:21:11 PM] Writing labels/obj_type_1\n",
      "[INFO][2023/01/27 03:21:11 PM] Loading objects/obj_type_1 (31821, 5) (31821 filtered: None)\n",
      "[INFO][2023/01/27 03:21:11 PM] Writing properties/obj_type_1/area (31821,)\n",
      "[INFO][2023/01/27 03:21:11 PM] Writing properties/obj_type_1/major_axis_length (31821,)\n",
      "[INFO][2023/01/27 03:21:11 PM] Writing properties/obj_type_1/minor_axis_length (31821,)\n",
      "[INFO][2023/01/27 03:21:11 PM] Writing properties/obj_type_1/orientation (31821,)\n",
      "[INFO][2023/01/27 03:21:11 PM] Writing properties/obj_type_1/mean_intensity-0 (31821,)\n",
      "[INFO][2023/01/27 03:21:11 PM] Writing properties/obj_type_1/mean_intensity-1 (31821,)\n",
      "[INFO][2023/01/27 03:21:12 PM] Writing tracks/obj_type_1\n",
      "[INFO][2023/01/27 03:21:12 PM] Writing dummies/obj_type_1\n",
      "[INFO][2023/01/27 03:21:12 PM] Writing LBEP/obj_type_1\n",
      "[INFO][2023/01/27 03:21:12 PM] Writing fates/obj_type_1\n",
      "[INFO][2023/01/27 03:21:12 PM] Closing HDF file: /mnt/DATA/macrohet/segmentation/(3,6)_tracks_rescaled.h5\n",
      "[INFO][2023/01/27 03:21:12 PM] Ending BayesianTracker session\n"
     ]
    },
    {
     "name": "stdout",
     "output_type": "stream",
     "text": [
      "Position (3, 7) already completed\n",
      "Position (3, 8) already completed\n",
      "Position (3, 9) already completed\n"
     ]
    },
    {
     "data": {
      "application/vnd.jupyter.widget-view+json": {
       "model_id": "",
       "version_major": 2,
       "version_minor": 0
      },
      "text/plain": [
       "Segmenting position (4, 4):   0%|          | 0/75 [00:00<?, ?it/s]"
      ]
     },
     "metadata": {},
     "output_type": "display_data"
    },
    {
     "data": {
      "application/vnd.jupyter.widget-view+json": {
       "model_id": "",
       "version_major": 2,
       "version_minor": 0
      },
      "text/plain": [
       "Resizing masks in position (4, 4):   0%|          | 0/75 [00:00<?, ?it/s]"
      ]
     },
     "metadata": {},
     "output_type": "display_data"
    },
    {
     "data": {
      "application/vnd.jupyter.widget-view+json": {
       "model_id": "",
       "version_major": 2,
       "version_minor": 0
      },
      "text/plain": [
       "Resizing GFP images in position (4, 4):   0%|          | 0/75 [00:00<?, ?it/s]"
      ]
     },
     "metadata": {},
     "output_type": "display_data"
    },
    {
     "data": {
      "application/vnd.jupyter.widget-view+json": {
       "model_id": "",
       "version_major": 2,
       "version_minor": 0
      },
      "text/plain": [
       "Resizing RFP images in position (4, 4):   0%|          | 0/75 [00:00<?, ?it/s]"
      ]
     },
     "metadata": {},
     "output_type": "display_data"
    },
    {
     "name": "stderr",
     "output_type": "stream",
     "text": [
      "[INFO][2023/01/27 06:05:31 PM] Localizing objects from segmentation...\n",
      "[INFO][2023/01/27 06:05:31 PM] Found intensity_image data\n",
      "[INFO][2023/01/27 06:09:52 PM] Objects are of type: <class 'dict'>\n",
      "[INFO][2023/01/27 06:10:05 PM] ...Found 1202887 objects in 75 frames.\n",
      "[INFO][2023/01/27 06:10:06 PM] Opening HDF file: /mnt/DATA/macrohet/segmentation/(4,4)_objects_rescaled.h5...\n",
      "[INFO][2023/01/27 06:10:09 PM] Writing objects/obj_type_1\n",
      "[INFO][2023/01/27 06:10:09 PM] Writing labels/obj_type_1\n",
      "[INFO][2023/01/27 06:10:09 PM] Loading objects/obj_type_1 (30457, 5) (30457 filtered: None)\n",
      "[INFO][2023/01/27 06:10:09 PM] Writing properties/obj_type_1/area (30457,)\n",
      "[INFO][2023/01/27 06:10:09 PM] Writing properties/obj_type_1/major_axis_length (30457,)\n",
      "[INFO][2023/01/27 06:10:09 PM] Writing properties/obj_type_1/minor_axis_length (30457,)\n",
      "[INFO][2023/01/27 06:10:09 PM] Writing properties/obj_type_1/orientation (30457,)\n",
      "[INFO][2023/01/27 06:10:09 PM] Writing properties/obj_type_1/mean_intensity-0 (30457,)\n",
      "[INFO][2023/01/27 06:10:09 PM] Writing properties/obj_type_1/mean_intensity-1 (30457,)\n",
      "[INFO][2023/01/27 06:10:09 PM] Closing HDF file: /mnt/DATA/macrohet/segmentation/(4,4)_objects_rescaled.h5\n",
      "[INFO][2023/01/27 06:10:09 PM] Loaded btrack: /home/dayn/analysis/BayesianTracker/btrack/libs/libtracker.so\n",
      "[INFO][2023/01/27 06:10:09 PM] btrack (v0.5.0) library imported\n",
      "[INFO][2023/01/27 06:10:09 PM] Starting BayesianTracker session\n",
      "[INFO][2023/01/27 06:10:09 PM] Loading configuration file: /home/dayn/analysis/BayesianTracker/models/cell_config.json\n",
      "[INFO][2023/01/27 06:10:09 PM] Objects are of type: <class 'list'>\n",
      "[INFO][2023/01/27 06:10:10 PM] Starting tracking... \n",
      "[INFO][2023/01/27 06:10:10 PM] Update using: ['VISUAL', 'MOTION']\n",
      "[INFO][2023/01/27 06:10:11 PM] Tracking objects in frames 0 to 24 (of 75)...\n",
      "[INFO][2023/01/27 06:10:16 PM]  - Timing (Bayesian updates: 48.09ms, Linking: 2.37ms)\n",
      "[INFO][2023/01/27 06:10:16 PM]  - Probabilities (Link: 1.00000, Lost: 1.00000)\n",
      "[INFO][2023/01/27 06:10:16 PM]  - Stats (Active: 605, Lost: 1771, Conflicts resolved: 4201)\n",
      "[INFO][2023/01/27 06:10:16 PM] Tracking objects in frames 25 to 49 (of 75)...\n",
      "[INFO][2023/01/27 06:10:19 PM]  - Timing (Bayesian updates: 41.80ms, Linking: 2.16ms)\n",
      "[INFO][2023/01/27 06:10:19 PM]  - Probabilities (Link: 1.00000, Lost: 1.00000)\n",
      "[INFO][2023/01/27 06:10:19 PM]  - Stats (Active: 538, Lost: 3228, Conflicts resolved: 7424)\n",
      "[INFO][2023/01/27 06:10:19 PM] Tracking objects in frames 50 to 74 (of 75)...\n",
      "[INFO][2023/01/27 06:10:23 PM]  - Timing (Bayesian updates: 47.49ms, Linking: 2.36ms)\n",
      "[INFO][2023/01/27 06:10:23 PM]  - Probabilities (Link: 1.00000, Lost: 1.00000)\n",
      "[INFO][2023/01/27 06:10:23 PM] SUCCESS.\n",
      "[INFO][2023/01/27 06:10:23 PM]  - Found 3546 tracks in 75 frames (in 0.0s)\n",
      "[INFO][2023/01/27 06:10:23 PM]  - Inserted 3471 dummy objects to fill tracking gaps\n",
      "[INFO][2023/01/27 06:10:23 PM] Loading hypothesis model: cell_hypothesis\n",
      "[INFO][2023/01/27 06:10:23 PM] Calculating hypotheses (relax: True)...\n",
      "[INFO][2023/01/27 06:10:24 PM] Setting up constraints matrix for global optimisation...\n",
      "[INFO][2023/01/27 06:10:24 PM] Using GLPK options: {'tm_lim': 60000}...\n",
      "[INFO][2023/01/27 06:10:24 PM] Optimizing...\n",
      "[INFO][2023/01/27 06:10:25 PM] Optimization complete. (Solution: optimal)\n",
      "[INFO][2023/01/27 06:10:25 PM]  - Fates.FALSE_POSITIVE: 1181 (of 3546)\n",
      "[INFO][2023/01/27 06:10:25 PM]  - Fates.LINK: 936 (of 1508)\n",
      "[INFO][2023/01/27 06:10:25 PM]  - Fates.DIVIDE: 76 (of 199)\n",
      "[INFO][2023/01/27 06:10:25 PM]  - Fates.INITIALIZE_BORDER: 84 (of 227)\n",
      "[INFO][2023/01/27 06:10:25 PM]  - Fates.INITIALIZE_FRONT: 502 (of 773)\n",
      "[INFO][2023/01/27 06:10:25 PM]  - Fates.INITIALIZE_LAZY: 691 (of 2546)\n",
      "[INFO][2023/01/27 06:10:25 PM]  - Fates.TERMINATE_BORDER: 101 (of 234)\n",
      "[INFO][2023/01/27 06:10:25 PM]  - Fates.TERMINATE_BACK: 427 (of 545)\n",
      "[INFO][2023/01/27 06:10:25 PM]  - Fates.TERMINATE_LAZY: 825 (of 2767)\n",
      "[INFO][2023/01/27 06:10:25 PM]  - TOTAL: 12345 hypotheses\n",
      "[INFO][2023/01/27 06:10:25 PM] Completed optimization with 2610 tracks\n"
     ]
    },
    {
     "name": "stdout",
     "output_type": "stream",
     "text": [
      "GLPK Integer Optimizer 5.0\n",
      "14184 rows, 12345 columns, 17797 non-zeros\n",
      "12345 integer variables, all of which are binary\n",
      "Preprocessing...\n",
      "7092 rows, 12345 columns, 17797 non-zeros\n",
      "12345 integer variables, all of which are binary\n",
      "Scaling...\n",
      " A: min|aij| =  1.000e+00  max|aij| =  1.000e+00  ratio =  1.000e+00\n",
      "Problem data seem to be well scaled\n",
      "Constructing initial basis...\n",
      "Size of triangular part is 7092\n",
      "Solving LP relaxation...\n",
      "GLPK Simplex Optimizer 5.0\n",
      "7092 rows, 12345 columns, 17797 non-zeros\n",
      "*     0: obj =   3.780132181e+04 inf =   0.000e+00 (3514)\n",
      "Perturbing LP to avoid stalling [1463]...\n",
      "Removing LP perturbation [3408]...\n",
      "*  3408: obj =   1.786558441e+04 inf =   0.000e+00 (0)\n",
      "OPTIMAL LP SOLUTION FOUND\n",
      "Integer optimization begins...\n",
      "Long-step dual simplex will be used\n",
      "+  3408: mip =     not found yet >=              -inf        (1; 0)\n",
      "+  3409: >>>>>   1.786651801e+04 >=   1.786651801e+04   0.0% (2; 0)\n",
      "+  3409: mip =   1.786651801e+04 >=     tree is empty   0.0% (0; 3)\n",
      "INTEGER OPTIMAL SOLUTION FOUND\n"
     ]
    },
    {
     "name": "stderr",
     "output_type": "stream",
     "text": [
      "[INFO][2023/01/27 06:10:25 PM] Opening HDF file: /mnt/DATA/macrohet/segmentation/(4,4)_tracks_rescaled.h5...\n",
      "[INFO][2023/01/27 06:10:26 PM] Writing objects/obj_type_1\n",
      "[INFO][2023/01/27 06:10:26 PM] Writing labels/obj_type_1\n",
      "[INFO][2023/01/27 06:10:26 PM] Loading objects/obj_type_1 (30457, 5) (30457 filtered: None)\n",
      "[INFO][2023/01/27 06:10:26 PM] Writing properties/obj_type_1/area (30457,)\n",
      "[INFO][2023/01/27 06:10:26 PM] Writing properties/obj_type_1/major_axis_length (30457,)\n",
      "[INFO][2023/01/27 06:10:26 PM] Writing properties/obj_type_1/minor_axis_length (30457,)\n",
      "[INFO][2023/01/27 06:10:26 PM] Writing properties/obj_type_1/orientation (30457,)\n",
      "[INFO][2023/01/27 06:10:26 PM] Writing properties/obj_type_1/mean_intensity-0 (30457,)\n",
      "[INFO][2023/01/27 06:10:26 PM] Writing properties/obj_type_1/mean_intensity-1 (30457,)\n",
      "[INFO][2023/01/27 06:10:26 PM] Writing tracks/obj_type_1\n",
      "[INFO][2023/01/27 06:10:26 PM] Writing dummies/obj_type_1\n",
      "[INFO][2023/01/27 06:10:26 PM] Writing LBEP/obj_type_1\n",
      "[INFO][2023/01/27 06:10:26 PM] Writing fates/obj_type_1\n",
      "[INFO][2023/01/27 06:10:26 PM] Closing HDF file: /mnt/DATA/macrohet/segmentation/(4,4)_tracks_rescaled.h5\n",
      "[INFO][2023/01/27 06:10:26 PM] Ending BayesianTracker session\n"
     ]
    },
    {
     "name": "stdout",
     "output_type": "stream",
     "text": [
      "Position (4, 5) already completed\n"
     ]
    },
    {
     "data": {
      "application/vnd.jupyter.widget-view+json": {
       "model_id": "",
       "version_major": 2,
       "version_minor": 0
      },
      "text/plain": [
       "Segmenting position (4, 6):   0%|          | 0/75 [00:00<?, ?it/s]"
      ]
     },
     "metadata": {},
     "output_type": "display_data"
    },
    {
     "data": {
      "application/vnd.jupyter.widget-view+json": {
       "model_id": "",
       "version_major": 2,
       "version_minor": 0
      },
      "text/plain": [
       "Resizing masks in position (4, 6):   0%|          | 0/75 [00:00<?, ?it/s]"
      ]
     },
     "metadata": {},
     "output_type": "display_data"
    },
    {
     "data": {
      "application/vnd.jupyter.widget-view+json": {
       "model_id": "",
       "version_major": 2,
       "version_minor": 0
      },
      "text/plain": [
       "Resizing GFP images in position (4, 6):   0%|          | 0/75 [00:00<?, ?it/s]"
      ]
     },
     "metadata": {},
     "output_type": "display_data"
    },
    {
     "data": {
      "application/vnd.jupyter.widget-view+json": {
       "model_id": "",
       "version_major": 2,
       "version_minor": 0
      },
      "text/plain": [
       "Resizing RFP images in position (4, 6):   0%|          | 0/75 [00:00<?, ?it/s]"
      ]
     },
     "metadata": {},
     "output_type": "display_data"
    },
    {
     "name": "stderr",
     "output_type": "stream",
     "text": [
      "[INFO][2023/01/27 08:20:04 PM] Localizing objects from segmentation...\n",
      "[INFO][2023/01/27 08:20:04 PM] Found intensity_image data\n",
      "[INFO][2023/01/27 08:24:37 PM] Objects are of type: <class 'dict'>\n",
      "[INFO][2023/01/27 08:24:51 PM] ...Found 1255203 objects in 75 frames.\n",
      "[INFO][2023/01/27 08:24:52 PM] Opening HDF file: /mnt/DATA/macrohet/segmentation/(4,6)_objects_rescaled.h5...\n",
      "[INFO][2023/01/27 08:24:55 PM] Writing objects/obj_type_1\n",
      "[INFO][2023/01/27 08:24:55 PM] Writing labels/obj_type_1\n",
      "[INFO][2023/01/27 08:24:55 PM] Loading objects/obj_type_1 (33255, 5) (33255 filtered: None)\n",
      "[INFO][2023/01/27 08:24:55 PM] Writing properties/obj_type_1/area (33255,)\n",
      "[INFO][2023/01/27 08:24:55 PM] Writing properties/obj_type_1/major_axis_length (33255,)\n",
      "[INFO][2023/01/27 08:24:55 PM] Writing properties/obj_type_1/minor_axis_length (33255,)\n",
      "[INFO][2023/01/27 08:24:55 PM] Writing properties/obj_type_1/orientation (33255,)\n",
      "[INFO][2023/01/27 08:24:55 PM] Writing properties/obj_type_1/mean_intensity-0 (33255,)\n",
      "[INFO][2023/01/27 08:24:55 PM] Writing properties/obj_type_1/mean_intensity-1 (33255,)\n",
      "[INFO][2023/01/27 08:24:55 PM] Closing HDF file: /mnt/DATA/macrohet/segmentation/(4,6)_objects_rescaled.h5\n",
      "[INFO][2023/01/27 08:24:55 PM] Loaded btrack: /home/dayn/analysis/BayesianTracker/btrack/libs/libtracker.so\n",
      "[INFO][2023/01/27 08:24:55 PM] btrack (v0.5.0) library imported\n",
      "[INFO][2023/01/27 08:24:55 PM] Starting BayesianTracker session\n",
      "[INFO][2023/01/27 08:24:55 PM] Loading configuration file: /home/dayn/analysis/BayesianTracker/models/cell_config.json\n",
      "[INFO][2023/01/27 08:24:55 PM] Objects are of type: <class 'list'>\n",
      "[INFO][2023/01/27 08:24:56 PM] Starting tracking... \n",
      "[INFO][2023/01/27 08:24:56 PM] Update using: ['VISUAL', 'MOTION']\n",
      "[INFO][2023/01/27 08:24:56 PM] Tracking objects in frames 0 to 24 (of 75)...\n",
      "[INFO][2023/01/27 08:25:01 PM]  - Timing (Bayesian updates: 53.12ms, Linking: 2.67ms)\n",
      "[INFO][2023/01/27 08:25:01 PM]  - Probabilities (Link: 1.00000, Lost: 1.00000)\n",
      "[INFO][2023/01/27 08:25:01 PM]  - Stats (Active: 594, Lost: 1623, Conflicts resolved: 3861)\n",
      "[INFO][2023/01/27 08:25:01 PM] Tracking objects in frames 25 to 49 (of 75)...\n",
      "[INFO][2023/01/27 08:25:07 PM]  - Timing (Bayesian updates: 65.25ms, Linking: 3.09ms)\n",
      "[INFO][2023/01/27 08:25:07 PM]  - Probabilities (Link: 1.00000, Lost: 0.79167)\n",
      "[INFO][2023/01/27 08:25:07 PM]  - Stats (Active: 667, Lost: 3040, Conflicts resolved: 7326)\n",
      "[INFO][2023/01/27 08:25:07 PM] Tracking objects in frames 50 to 74 (of 75)...\n",
      "[INFO][2023/01/27 08:25:11 PM]  - Timing (Bayesian updates: 50.46ms, Linking: 2.53ms)\n",
      "[INFO][2023/01/27 08:25:11 PM]  - Probabilities (Link: 1.00000, Lost: 1.00000)\n",
      "[INFO][2023/01/27 08:25:11 PM] SUCCESS.\n",
      "[INFO][2023/01/27 08:25:11 PM]  - Found 3411 tracks in 75 frames (in 0.0s)\n",
      "[INFO][2023/01/27 08:25:11 PM]  - Inserted 3402 dummy objects to fill tracking gaps\n",
      "[INFO][2023/01/27 08:25:11 PM] Loading hypothesis model: cell_hypothesis\n",
      "[INFO][2023/01/27 08:25:11 PM] Calculating hypotheses (relax: True)...\n",
      "[INFO][2023/01/27 08:25:11 PM] Setting up constraints matrix for global optimisation...\n",
      "[INFO][2023/01/27 08:25:11 PM] Using GLPK options: {'tm_lim': 60000}...\n",
      "[INFO][2023/01/27 08:25:11 PM] Optimizing...\n",
      "[INFO][2023/01/27 08:25:13 PM] Optimization complete. (Solution: optimal)\n",
      "[INFO][2023/01/27 08:25:13 PM]  - Fates.FALSE_POSITIVE: 1027 (of 3411)\n",
      "[INFO][2023/01/27 08:25:13 PM]  - Fates.LINK: 970 (of 1524)\n",
      "[INFO][2023/01/27 08:25:13 PM]  - Fates.DIVIDE: 87 (of 198)\n",
      "[INFO][2023/01/27 08:25:13 PM]  - Fates.INITIALIZE_BORDER: 87 (of 219)\n",
      "[INFO][2023/01/27 08:25:13 PM]  - Fates.INITIALIZE_FRONT: 427 (of 701)\n",
      "[INFO][2023/01/27 08:25:13 PM]  - Fates.INITIALIZE_LAZY: 726 (of 2491)\n",
      "[INFO][2023/01/27 08:25:13 PM]  - Fates.TERMINATE_BORDER: 101 (of 220)\n",
      "[INFO][2023/01/27 08:25:13 PM]  - Fates.TERMINATE_BACK: 460 (of 544)\n",
      "[INFO][2023/01/27 08:25:13 PM]  - Fates.TERMINATE_LAZY: 766 (of 2647)\n",
      "[INFO][2023/01/27 08:25:13 PM]  - TOTAL: 11955 hypotheses\n",
      "[INFO][2023/01/27 08:25:13 PM] Completed optimization with 2441 tracks\n"
     ]
    },
    {
     "name": "stdout",
     "output_type": "stream",
     "text": [
      "GLPK Integer Optimizer 5.0\n",
      "13644 rows, 11955 columns, 17286 non-zeros\n",
      "11955 integer variables, all of which are binary\n",
      "Preprocessing...\n",
      "6822 rows, 11955 columns, 17286 non-zeros\n",
      "11955 integer variables, all of which are binary\n",
      "Scaling...\n",
      " A: min|aij| =  1.000e+00  max|aij| =  1.000e+00  ratio =  1.000e+00\n",
      "Problem data seem to be well scaled\n",
      "Constructing initial basis...\n",
      "Size of triangular part is 6822\n",
      "Solving LP relaxation...\n",
      "GLPK Simplex Optimizer 5.0\n",
      "6822 rows, 11955 columns, 17286 non-zeros\n",
      "*     0: obj =   3.650120235e+04 inf =   0.000e+00 (3358)\n",
      "Perturbing LP to avoid stalling [1625]...\n",
      "Removing LP perturbation [3259]...\n",
      "*  3259: obj =   1.706157502e+04 inf =   0.000e+00 (0)\n",
      "OPTIMAL LP SOLUTION FOUND\n",
      "Integer optimization begins...\n",
      "Long-step dual simplex will be used\n",
      "+  3259: mip =     not found yet >=              -inf        (1; 0)\n",
      "+  3262: >>>>>   1.706856288e+04 >=   1.706369068e+04 < 0.1% (3; 0)\n",
      "+  3266: >>>>>   1.706385335e+04 >=   1.706385335e+04 < 0.1% (3; 1)\n",
      "+  3266: mip =   1.706385335e+04 >=     tree is empty   0.0% (0; 7)\n",
      "INTEGER OPTIMAL SOLUTION FOUND\n"
     ]
    },
    {
     "name": "stderr",
     "output_type": "stream",
     "text": [
      "[INFO][2023/01/27 08:25:13 PM] Opening HDF file: /mnt/DATA/macrohet/segmentation/(4,6)_tracks_rescaled.h5...\n",
      "[INFO][2023/01/27 08:25:14 PM] Writing objects/obj_type_1\n",
      "[INFO][2023/01/27 08:25:14 PM] Writing labels/obj_type_1\n",
      "[INFO][2023/01/27 08:25:14 PM] Loading objects/obj_type_1 (33255, 5) (33255 filtered: None)\n",
      "[INFO][2023/01/27 08:25:14 PM] Writing properties/obj_type_1/area (33255,)\n",
      "[INFO][2023/01/27 08:25:14 PM] Writing properties/obj_type_1/major_axis_length (33255,)\n",
      "[INFO][2023/01/27 08:25:14 PM] Writing properties/obj_type_1/minor_axis_length (33255,)\n",
      "[INFO][2023/01/27 08:25:14 PM] Writing properties/obj_type_1/orientation (33255,)\n",
      "[INFO][2023/01/27 08:25:14 PM] Writing properties/obj_type_1/mean_intensity-0 (33255,)\n",
      "[INFO][2023/01/27 08:25:14 PM] Writing properties/obj_type_1/mean_intensity-1 (33255,)\n",
      "[INFO][2023/01/27 08:25:15 PM] Writing tracks/obj_type_1\n",
      "[INFO][2023/01/27 08:25:15 PM] Writing dummies/obj_type_1\n",
      "[INFO][2023/01/27 08:25:15 PM] Writing LBEP/obj_type_1\n",
      "[INFO][2023/01/27 08:25:15 PM] Writing fates/obj_type_1\n",
      "[INFO][2023/01/27 08:25:15 PM] Closing HDF file: /mnt/DATA/macrohet/segmentation/(4,6)_tracks_rescaled.h5\n",
      "[INFO][2023/01/27 08:25:15 PM] Ending BayesianTracker session\n"
     ]
    },
    {
     "data": {
      "application/vnd.jupyter.widget-view+json": {
       "model_id": "",
       "version_major": 2,
       "version_minor": 0
      },
      "text/plain": [
       "Segmenting position (4, 7):   0%|          | 0/75 [00:00<?, ?it/s]"
      ]
     },
     "metadata": {},
     "output_type": "display_data"
    },
    {
     "data": {
      "application/vnd.jupyter.widget-view+json": {
       "model_id": "",
       "version_major": 2,
       "version_minor": 0
      },
      "text/plain": [
       "Resizing masks in position (4, 7):   0%|          | 0/75 [00:00<?, ?it/s]"
      ]
     },
     "metadata": {},
     "output_type": "display_data"
    },
    {
     "data": {
      "application/vnd.jupyter.widget-view+json": {
       "model_id": "",
       "version_major": 2,
       "version_minor": 0
      },
      "text/plain": [
       "Resizing GFP images in position (4, 7):   0%|          | 0/75 [00:00<?, ?it/s]"
      ]
     },
     "metadata": {},
     "output_type": "display_data"
    },
    {
     "data": {
      "application/vnd.jupyter.widget-view+json": {
       "model_id": "",
       "version_major": 2,
       "version_minor": 0
      },
      "text/plain": [
       "Resizing RFP images in position (4, 7):   0%|          | 0/75 [00:00<?, ?it/s]"
      ]
     },
     "metadata": {},
     "output_type": "display_data"
    },
    {
     "name": "stderr",
     "output_type": "stream",
     "text": [
      "[INFO][2023/01/27 10:54:17 PM] Localizing objects from segmentation...\n",
      "[INFO][2023/01/27 10:54:17 PM] Found intensity_image data\n",
      "[INFO][2023/01/27 10:58:39 PM] Objects are of type: <class 'dict'>\n",
      "[INFO][2023/01/27 10:58:54 PM] ...Found 1190907 objects in 75 frames.\n",
      "[INFO][2023/01/27 10:58:55 PM] Opening HDF file: /mnt/DATA/macrohet/segmentation/(4,7)_objects_rescaled.h5...\n",
      "[INFO][2023/01/27 10:58:57 PM] Writing objects/obj_type_1\n",
      "[INFO][2023/01/27 10:58:57 PM] Writing labels/obj_type_1\n",
      "[INFO][2023/01/27 10:58:57 PM] Loading objects/obj_type_1 (29841, 5) (29841 filtered: None)\n",
      "[INFO][2023/01/27 10:58:58 PM] Writing properties/obj_type_1/area (29841,)\n",
      "[INFO][2023/01/27 10:58:58 PM] Writing properties/obj_type_1/major_axis_length (29841,)\n",
      "[INFO][2023/01/27 10:58:58 PM] Writing properties/obj_type_1/minor_axis_length (29841,)\n",
      "[INFO][2023/01/27 10:58:58 PM] Writing properties/obj_type_1/orientation (29841,)\n",
      "[INFO][2023/01/27 10:58:58 PM] Writing properties/obj_type_1/mean_intensity-0 (29841,)\n",
      "[INFO][2023/01/27 10:58:58 PM] Writing properties/obj_type_1/mean_intensity-1 (29841,)\n",
      "[INFO][2023/01/27 10:58:58 PM] Closing HDF file: /mnt/DATA/macrohet/segmentation/(4,7)_objects_rescaled.h5\n",
      "[INFO][2023/01/27 10:58:58 PM] Loaded btrack: /home/dayn/analysis/BayesianTracker/btrack/libs/libtracker.so\n",
      "[INFO][2023/01/27 10:58:58 PM] btrack (v0.5.0) library imported\n",
      "[INFO][2023/01/27 10:58:58 PM] Starting BayesianTracker session\n",
      "[INFO][2023/01/27 10:58:58 PM] Loading configuration file: /home/dayn/analysis/BayesianTracker/models/cell_config.json\n",
      "[INFO][2023/01/27 10:58:58 PM] Objects are of type: <class 'list'>\n",
      "[INFO][2023/01/27 10:58:59 PM] Starting tracking... \n",
      "[INFO][2023/01/27 10:58:59 PM] Update using: ['VISUAL', 'MOTION']\n",
      "[INFO][2023/01/27 10:58:59 PM] Tracking objects in frames 0 to 24 (of 75)...\n",
      "[INFO][2023/01/27 10:59:04 PM]  - Timing (Bayesian updates: 49.55ms, Linking: 2.34ms)\n",
      "[INFO][2023/01/27 10:59:04 PM]  - Probabilities (Link: 1.00000, Lost: 1.00000)\n",
      "[INFO][2023/01/27 10:59:04 PM]  - Stats (Active: 596, Lost: 1639, Conflicts resolved: 3682)\n",
      "[INFO][2023/01/27 10:59:04 PM] Tracking objects in frames 25 to 49 (of 75)...\n",
      "[INFO][2023/01/27 10:59:08 PM]  - Timing (Bayesian updates: 41.20ms, Linking: 2.35ms)\n",
      "[INFO][2023/01/27 10:59:08 PM]  - Probabilities (Link: 1.00000, Lost: 0.99919)\n",
      "[INFO][2023/01/27 10:59:08 PM]  - Stats (Active: 562, Lost: 3099, Conflicts resolved: 6859)\n",
      "[INFO][2023/01/27 10:59:08 PM] Tracking objects in frames 50 to 74 (of 75)...\n",
      "[INFO][2023/01/27 10:59:11 PM]  - Timing (Bayesian updates: 37.49ms, Linking: 2.03ms)\n",
      "[INFO][2023/01/27 10:59:11 PM]  - Probabilities (Link: 1.00000, Lost: 0.77943)\n",
      "[INFO][2023/01/27 10:59:11 PM] SUCCESS.\n",
      "[INFO][2023/01/27 10:59:11 PM]  - Found 3294 tracks in 75 frames (in 0.0s)\n",
      "[INFO][2023/01/27 10:59:11 PM]  - Inserted 3592 dummy objects to fill tracking gaps\n",
      "[INFO][2023/01/27 10:59:11 PM] Loading hypothesis model: cell_hypothesis\n",
      "[INFO][2023/01/27 10:59:11 PM] Calculating hypotheses (relax: True)...\n",
      "[INFO][2023/01/27 10:59:11 PM] Setting up constraints matrix for global optimisation...\n",
      "[INFO][2023/01/27 10:59:11 PM] Using GLPK options: {'tm_lim': 60000}...\n",
      "[INFO][2023/01/27 10:59:11 PM] Optimizing...\n",
      "[INFO][2023/01/27 10:59:12 PM] Optimization complete. (Solution: optimal)\n",
      "[INFO][2023/01/27 10:59:12 PM]  - Fates.FALSE_POSITIVE: 1134 (of 3294)\n",
      "[INFO][2023/01/27 10:59:12 PM]  - Fates.LINK: 796 (of 1248)\n",
      "[INFO][2023/01/27 10:59:12 PM]  - Fates.DIVIDE: 70 (of 151)\n",
      "[INFO][2023/01/27 10:59:12 PM]  - Fates.INITIALIZE_BORDER: 76 (of 212)\n",
      "[INFO][2023/01/27 10:59:12 PM]  - Fates.INITIALIZE_FRONT: 493 (of 739)\n",
      "[INFO][2023/01/27 10:59:12 PM]  - Fates.INITIALIZE_LAZY: 655 (of 2343)\n",
      "[INFO][2023/01/27 10:59:12 PM]  - Fates.TERMINATE_BORDER: 95 (of 214)\n",
      "[INFO][2023/01/27 10:59:12 PM]  - Fates.TERMINATE_BACK: 381 (of 511)\n",
      "[INFO][2023/01/27 10:59:12 PM]  - Fates.TERMINATE_LAZY: 818 (of 2569)\n",
      "[INFO][2023/01/27 10:59:12 PM]  - TOTAL: 11281 hypotheses\n",
      "[INFO][2023/01/27 10:59:12 PM] Completed optimization with 2498 tracks\n"
     ]
    },
    {
     "name": "stdout",
     "output_type": "stream",
     "text": [
      "GLPK Integer Optimizer 5.0\n",
      "13176 rows, 11281 columns, 16125 non-zeros\n",
      "11281 integer variables, all of which are binary\n",
      "Preprocessing...\n",
      "6588 rows, 11281 columns, 16125 non-zeros\n",
      "11281 integer variables, all of which are binary\n",
      "Scaling...\n",
      " A: min|aij| =  1.000e+00  max|aij| =  1.000e+00  ratio =  1.000e+00\n",
      "Problem data seem to be well scaled\n",
      "Constructing initial basis...\n",
      "Size of triangular part is 6588\n",
      "Solving LP relaxation...\n",
      "GLPK Simplex Optimizer 5.0\n",
      "6588 rows, 11281 columns, 16125 non-zeros\n",
      "*     0: obj =   3.505746255e+04 inf =   0.000e+00 (3061)\n",
      "Perturbing LP to avoid stalling [1368]...\n",
      "Removing LP perturbation [2961]...\n",
      "*  2961: obj =   1.711145764e+04 inf =   0.000e+00 (0)\n",
      "OPTIMAL LP SOLUTION FOUND\n",
      "Integer optimization begins...\n",
      "Long-step dual simplex will be used\n",
      "+  2961: mip =     not found yet >=              -inf        (1; 0)\n",
      "+  2964: >>>>>   1.711671004e+04 >=   1.711671004e+04   0.0% (4; 0)\n",
      "+  2964: mip =   1.711671004e+04 >=     tree is empty   0.0% (0; 7)\n",
      "INTEGER OPTIMAL SOLUTION FOUND\n"
     ]
    },
    {
     "name": "stderr",
     "output_type": "stream",
     "text": [
      "[INFO][2023/01/27 10:59:12 PM] Opening HDF file: /mnt/DATA/macrohet/segmentation/(4,7)_tracks_rescaled.h5...\n",
      "[INFO][2023/01/27 10:59:12 PM] Writing objects/obj_type_1\n",
      "[INFO][2023/01/27 10:59:12 PM] Writing labels/obj_type_1\n",
      "[INFO][2023/01/27 10:59:13 PM] Loading objects/obj_type_1 (29841, 5) (29841 filtered: None)\n",
      "[INFO][2023/01/27 10:59:13 PM] Writing properties/obj_type_1/area (29841,)\n",
      "[INFO][2023/01/27 10:59:13 PM] Writing properties/obj_type_1/major_axis_length (29841,)\n",
      "[INFO][2023/01/27 10:59:13 PM] Writing properties/obj_type_1/minor_axis_length (29841,)\n",
      "[INFO][2023/01/27 10:59:13 PM] Writing properties/obj_type_1/orientation (29841,)\n",
      "[INFO][2023/01/27 10:59:13 PM] Writing properties/obj_type_1/mean_intensity-0 (29841,)\n",
      "[INFO][2023/01/27 10:59:13 PM] Writing properties/obj_type_1/mean_intensity-1 (29841,)\n",
      "[INFO][2023/01/27 10:59:13 PM] Writing tracks/obj_type_1\n",
      "[INFO][2023/01/27 10:59:13 PM] Writing dummies/obj_type_1\n",
      "[INFO][2023/01/27 10:59:13 PM] Writing LBEP/obj_type_1\n",
      "[INFO][2023/01/27 10:59:13 PM] Writing fates/obj_type_1\n",
      "[INFO][2023/01/27 10:59:13 PM] Closing HDF file: /mnt/DATA/macrohet/segmentation/(4,7)_tracks_rescaled.h5\n",
      "[INFO][2023/01/27 10:59:13 PM] Ending BayesianTracker session\n"
     ]
    },
    {
     "data": {
      "application/vnd.jupyter.widget-view+json": {
       "model_id": "",
       "version_major": 2,
       "version_minor": 0
      },
      "text/plain": [
       "Segmenting position (4, 8):   0%|          | 0/75 [00:00<?, ?it/s]"
      ]
     },
     "metadata": {},
     "output_type": "display_data"
    },
    {
     "data": {
      "application/vnd.jupyter.widget-view+json": {
       "model_id": "",
       "version_major": 2,
       "version_minor": 0
      },
      "text/plain": [
       "Resizing masks in position (4, 8):   0%|          | 0/75 [00:00<?, ?it/s]"
      ]
     },
     "metadata": {},
     "output_type": "display_data"
    },
    {
     "data": {
      "application/vnd.jupyter.widget-view+json": {
       "model_id": "",
       "version_major": 2,
       "version_minor": 0
      },
      "text/plain": [
       "Resizing GFP images in position (4, 8):   0%|          | 0/75 [00:00<?, ?it/s]"
      ]
     },
     "metadata": {},
     "output_type": "display_data"
    },
    {
     "data": {
      "application/vnd.jupyter.widget-view+json": {
       "model_id": "",
       "version_major": 2,
       "version_minor": 0
      },
      "text/plain": [
       "Resizing RFP images in position (4, 8):   0%|          | 0/75 [00:00<?, ?it/s]"
      ]
     },
     "metadata": {},
     "output_type": "display_data"
    },
    {
     "name": "stderr",
     "output_type": "stream",
     "text": [
      "[INFO][2023/01/28 01:16:18 AM] Localizing objects from segmentation...\n",
      "[INFO][2023/01/28 01:16:18 AM] Found intensity_image data\n",
      "[INFO][2023/01/28 01:20:31 AM] Objects are of type: <class 'dict'>\n",
      "[INFO][2023/01/28 01:20:44 AM] ...Found 1183586 objects in 75 frames.\n",
      "[INFO][2023/01/28 01:20:45 AM] Opening HDF file: /mnt/DATA/macrohet/segmentation/(4,8)_objects_rescaled.h5...\n",
      "[INFO][2023/01/28 01:20:47 AM] Writing objects/obj_type_1\n",
      "[INFO][2023/01/28 01:20:47 AM] Writing labels/obj_type_1\n",
      "[INFO][2023/01/28 01:20:47 AM] Loading objects/obj_type_1 (30918, 5) (30918 filtered: None)\n",
      "[INFO][2023/01/28 01:20:48 AM] Writing properties/obj_type_1/area (30918,)\n",
      "[INFO][2023/01/28 01:20:48 AM] Writing properties/obj_type_1/major_axis_length (30918,)\n",
      "[INFO][2023/01/28 01:20:48 AM] Writing properties/obj_type_1/minor_axis_length (30918,)\n",
      "[INFO][2023/01/28 01:20:48 AM] Writing properties/obj_type_1/orientation (30918,)\n",
      "[INFO][2023/01/28 01:20:48 AM] Writing properties/obj_type_1/mean_intensity-0 (30918,)\n",
      "[INFO][2023/01/28 01:20:48 AM] Writing properties/obj_type_1/mean_intensity-1 (30918,)\n",
      "[INFO][2023/01/28 01:20:48 AM] Closing HDF file: /mnt/DATA/macrohet/segmentation/(4,8)_objects_rescaled.h5\n",
      "[INFO][2023/01/28 01:20:48 AM] Loaded btrack: /home/dayn/analysis/BayesianTracker/btrack/libs/libtracker.so\n",
      "[INFO][2023/01/28 01:20:48 AM] btrack (v0.5.0) library imported\n",
      "[INFO][2023/01/28 01:20:48 AM] Starting BayesianTracker session\n",
      "[INFO][2023/01/28 01:20:48 AM] Loading configuration file: /home/dayn/analysis/BayesianTracker/models/cell_config.json\n",
      "[INFO][2023/01/28 01:20:48 AM] Objects are of type: <class 'list'>\n",
      "[INFO][2023/01/28 01:20:49 AM] Starting tracking... \n",
      "[INFO][2023/01/28 01:20:49 AM] Update using: ['VISUAL', 'MOTION']\n",
      "[INFO][2023/01/28 01:20:49 AM] Tracking objects in frames 0 to 24 (of 75)...\n",
      "[INFO][2023/01/28 01:20:54 AM]  - Timing (Bayesian updates: 54.26ms, Linking: 2.50ms)\n",
      "[INFO][2023/01/28 01:20:54 AM]  - Probabilities (Link: 1.00000, Lost: 0.99995)\n",
      "[INFO][2023/01/28 01:20:54 AM]  - Stats (Active: 615, Lost: 1536, Conflicts resolved: 3438)\n",
      "[INFO][2023/01/28 01:20:54 AM] Tracking objects in frames 25 to 49 (of 75)...\n",
      "[INFO][2023/01/28 01:20:58 AM]  - Timing (Bayesian updates: 49.76ms, Linking: 2.49ms)\n",
      "[INFO][2023/01/28 01:20:58 AM]  - Probabilities (Link: 1.00000, Lost: 0.86367)\n",
      "[INFO][2023/01/28 01:20:58 AM]  - Stats (Active: 599, Lost: 2972, Conflicts resolved: 6792)\n",
      "[INFO][2023/01/28 01:20:58 AM] Tracking objects in frames 50 to 74 (of 75)...\n",
      "[INFO][2023/01/28 01:21:01 AM]  - Timing (Bayesian updates: 38.21ms, Linking: 2.18ms)\n",
      "[INFO][2023/01/28 01:21:01 AM]  - Probabilities (Link: 1.00000, Lost: 0.99980)\n",
      "[INFO][2023/01/28 01:21:01 AM] SUCCESS.\n",
      "[INFO][2023/01/28 01:21:01 AM]  - Found 3194 tracks in 75 frames (in 0.0s)\n",
      "[INFO][2023/01/28 01:21:01 AM]  - Inserted 3493 dummy objects to fill tracking gaps\n",
      "[INFO][2023/01/28 01:21:01 AM] Loading hypothesis model: cell_hypothesis\n",
      "[INFO][2023/01/28 01:21:01 AM] Calculating hypotheses (relax: True)...\n",
      "[INFO][2023/01/28 01:21:01 AM] Setting up constraints matrix for global optimisation...\n",
      "[INFO][2023/01/28 01:21:01 AM] Using GLPK options: {'tm_lim': 60000}...\n",
      "[INFO][2023/01/28 01:21:01 AM] Optimizing...\n",
      "[INFO][2023/01/28 01:21:02 AM] Optimization complete. (Solution: optimal)\n",
      "[INFO][2023/01/28 01:21:03 AM]  - Fates.FALSE_POSITIVE: 947 (of 3194)\n",
      "[INFO][2023/01/28 01:21:03 AM]  - Fates.LINK: 916 (of 1432)\n",
      "[INFO][2023/01/28 01:21:03 AM]  - Fates.DIVIDE: 83 (of 187)\n",
      "[INFO][2023/01/28 01:21:03 AM]  - Fates.INITIALIZE_BORDER: 88 (of 220)\n",
      "[INFO][2023/01/28 01:21:03 AM]  - Fates.INITIALIZE_FRONT: 446 (of 672)\n",
      "[INFO][2023/01/28 01:21:03 AM]  - Fates.INITIALIZE_LAZY: 631 (of 2302)\n",
      "[INFO][2023/01/28 01:21:03 AM]  - Fates.TERMINATE_BORDER: 101 (of 235)\n",
      "[INFO][2023/01/28 01:21:03 AM]  - Fates.TERMINATE_BACK: 395 (of 482)\n",
      "[INFO][2023/01/28 01:21:03 AM]  - Fates.TERMINATE_LAZY: 752 (of 2477)\n",
      "[INFO][2023/01/28 01:21:03 AM]  - TOTAL: 11201 hypotheses\n",
      "[INFO][2023/01/28 01:21:03 AM] Completed optimization with 2278 tracks\n"
     ]
    },
    {
     "name": "stdout",
     "output_type": "stream",
     "text": [
      "GLPK Integer Optimizer 5.0\n",
      "12776 rows, 11201 columns, 16201 non-zeros\n",
      "11201 integer variables, all of which are binary\n",
      "Preprocessing...\n",
      "6388 rows, 11201 columns, 16201 non-zeros\n",
      "11201 integer variables, all of which are binary\n",
      "Scaling...\n",
      " A: min|aij| =  1.000e+00  max|aij| =  1.000e+00  ratio =  1.000e+00\n",
      "Problem data seem to be well scaled\n",
      "Constructing initial basis...\n",
      "Size of triangular part is 6388\n",
      "Solving LP relaxation...\n",
      "GLPK Simplex Optimizer 5.0\n",
      "6388 rows, 11201 columns, 16201 non-zeros\n",
      "*     0: obj =   3.410575173e+04 inf =   0.000e+00 (3127)\n",
      "Perturbing LP to avoid stalling [1092]...\n",
      "Removing LP perturbation [2999]...\n",
      "*  2999: obj =   1.587950783e+04 inf =   0.000e+00 (0)\n",
      "OPTIMAL LP SOLUTION FOUND\n",
      "Integer optimization begins...\n",
      "Long-step dual simplex will be used\n",
      "+  2999: mip =     not found yet >=              -inf        (1; 0)\n",
      "+  3000: >>>>>   1.588203934e+04 >=   1.588203934e+04   0.0% (2; 0)\n",
      "+  3000: mip =   1.588203934e+04 >=     tree is empty   0.0% (0; 3)\n",
      "INTEGER OPTIMAL SOLUTION FOUND\n"
     ]
    },
    {
     "name": "stderr",
     "output_type": "stream",
     "text": [
      "[INFO][2023/01/28 01:21:03 AM] Opening HDF file: /mnt/DATA/macrohet/segmentation/(4,8)_tracks_rescaled.h5...\n",
      "[INFO][2023/01/28 01:21:04 AM] Writing objects/obj_type_1\n",
      "[INFO][2023/01/28 01:21:04 AM] Writing labels/obj_type_1\n",
      "[INFO][2023/01/28 01:21:04 AM] Loading objects/obj_type_1 (30918, 5) (30918 filtered: None)\n",
      "[INFO][2023/01/28 01:21:04 AM] Writing properties/obj_type_1/area (30918,)\n",
      "[INFO][2023/01/28 01:21:04 AM] Writing properties/obj_type_1/major_axis_length (30918,)\n",
      "[INFO][2023/01/28 01:21:04 AM] Writing properties/obj_type_1/minor_axis_length (30918,)\n",
      "[INFO][2023/01/28 01:21:04 AM] Writing properties/obj_type_1/orientation (30918,)\n",
      "[INFO][2023/01/28 01:21:04 AM] Writing properties/obj_type_1/mean_intensity-0 (30918,)\n",
      "[INFO][2023/01/28 01:21:04 AM] Writing properties/obj_type_1/mean_intensity-1 (30918,)\n",
      "[INFO][2023/01/28 01:21:04 AM] Writing tracks/obj_type_1\n",
      "[INFO][2023/01/28 01:21:04 AM] Writing dummies/obj_type_1\n",
      "[INFO][2023/01/28 01:21:04 AM] Writing LBEP/obj_type_1\n",
      "[INFO][2023/01/28 01:21:04 AM] Writing fates/obj_type_1\n",
      "[INFO][2023/01/28 01:21:04 AM] Closing HDF file: /mnt/DATA/macrohet/segmentation/(4,8)_tracks_rescaled.h5\n",
      "[INFO][2023/01/28 01:21:04 AM] Ending BayesianTracker session\n"
     ]
    },
    {
     "data": {
      "application/vnd.jupyter.widget-view+json": {
       "model_id": "",
       "version_major": 2,
       "version_minor": 0
      },
      "text/plain": [
       "Segmenting position (4, 9):   0%|          | 0/75 [00:00<?, ?it/s]"
      ]
     },
     "metadata": {},
     "output_type": "display_data"
    },
    {
     "data": {
      "application/vnd.jupyter.widget-view+json": {
       "model_id": "",
       "version_major": 2,
       "version_minor": 0
      },
      "text/plain": [
       "Resizing masks in position (4, 9):   0%|          | 0/75 [00:00<?, ?it/s]"
      ]
     },
     "metadata": {},
     "output_type": "display_data"
    },
    {
     "data": {
      "application/vnd.jupyter.widget-view+json": {
       "model_id": "",
       "version_major": 2,
       "version_minor": 0
      },
      "text/plain": [
       "Resizing GFP images in position (4, 9):   0%|          | 0/75 [00:00<?, ?it/s]"
      ]
     },
     "metadata": {},
     "output_type": "display_data"
    },
    {
     "data": {
      "application/vnd.jupyter.widget-view+json": {
       "model_id": "",
       "version_major": 2,
       "version_minor": 0
      },
      "text/plain": [
       "Resizing RFP images in position (4, 9):   0%|          | 0/75 [00:00<?, ?it/s]"
      ]
     },
     "metadata": {},
     "output_type": "display_data"
    },
    {
     "name": "stderr",
     "output_type": "stream",
     "text": [
      "[INFO][2023/01/28 03:50:09 AM] Localizing objects from segmentation...\n",
      "[INFO][2023/01/28 03:50:09 AM] Found intensity_image data\n",
      "[INFO][2023/01/28 03:54:35 AM] Objects are of type: <class 'dict'>\n",
      "[INFO][2023/01/28 03:54:47 AM] ...Found 1243080 objects in 75 frames.\n",
      "[INFO][2023/01/28 03:54:48 AM] Opening HDF file: /mnt/DATA/macrohet/segmentation/(4,9)_objects_rescaled.h5...\n",
      "[INFO][2023/01/28 03:54:51 AM] Writing objects/obj_type_1\n",
      "[INFO][2023/01/28 03:54:51 AM] Writing labels/obj_type_1\n",
      "[INFO][2023/01/28 03:54:51 AM] Loading objects/obj_type_1 (33675, 5) (33675 filtered: None)\n",
      "[INFO][2023/01/28 03:54:51 AM] Writing properties/obj_type_1/area (33675,)\n",
      "[INFO][2023/01/28 03:54:51 AM] Writing properties/obj_type_1/major_axis_length (33675,)\n",
      "[INFO][2023/01/28 03:54:51 AM] Writing properties/obj_type_1/minor_axis_length (33675,)\n",
      "[INFO][2023/01/28 03:54:51 AM] Writing properties/obj_type_1/orientation (33675,)\n",
      "[INFO][2023/01/28 03:54:51 AM] Writing properties/obj_type_1/mean_intensity-0 (33675,)\n",
      "[INFO][2023/01/28 03:54:51 AM] Writing properties/obj_type_1/mean_intensity-1 (33675,)\n",
      "[INFO][2023/01/28 03:54:51 AM] Closing HDF file: /mnt/DATA/macrohet/segmentation/(4,9)_objects_rescaled.h5\n",
      "[INFO][2023/01/28 03:54:51 AM] Loaded btrack: /home/dayn/analysis/BayesianTracker/btrack/libs/libtracker.so\n",
      "[INFO][2023/01/28 03:54:51 AM] btrack (v0.5.0) library imported\n",
      "[INFO][2023/01/28 03:54:51 AM] Starting BayesianTracker session\n",
      "[INFO][2023/01/28 03:54:51 AM] Loading configuration file: /home/dayn/analysis/BayesianTracker/models/cell_config.json\n",
      "[INFO][2023/01/28 03:54:51 AM] Objects are of type: <class 'list'>\n",
      "[INFO][2023/01/28 03:54:52 AM] Starting tracking... \n",
      "[INFO][2023/01/28 03:54:52 AM] Update using: ['VISUAL', 'MOTION']\n",
      "[INFO][2023/01/28 03:54:52 AM] Tracking objects in frames 0 to 24 (of 75)...\n",
      "[INFO][2023/01/28 03:54:56 AM]  - Timing (Bayesian updates: 59.74ms, Linking: 2.70ms)\n",
      "[INFO][2023/01/28 03:54:56 AM]  - Probabilities (Link: 0.99997, Lost: 0.70501)\n",
      "[INFO][2023/01/28 03:54:56 AM]  - Stats (Active: 625, Lost: 1660, Conflicts resolved: 3760)\n",
      "[INFO][2023/01/28 03:54:56 AM] Tracking objects in frames 25 to 49 (of 75)...\n",
      "[INFO][2023/01/28 03:55:01 AM]  - Timing (Bayesian updates: 65.52ms, Linking: 2.90ms)\n",
      "[INFO][2023/01/28 03:55:01 AM]  - Probabilities (Link: 1.00000, Lost: 1.00000)\n",
      "[INFO][2023/01/28 03:55:01 AM]  - Stats (Active: 651, Lost: 3130, Conflicts resolved: 7216)\n",
      "[INFO][2023/01/28 03:55:01 AM] Tracking objects in frames 50 to 74 (of 75)...\n",
      "[INFO][2023/01/28 03:55:06 AM]  - Timing (Bayesian updates: 49.68ms, Linking: 2.59ms)\n",
      "[INFO][2023/01/28 03:55:06 AM]  - Probabilities (Link: 1.00000, Lost: 0.99999)\n",
      "[INFO][2023/01/28 03:55:06 AM] SUCCESS.\n",
      "[INFO][2023/01/28 03:55:06 AM]  - Found 3409 tracks in 75 frames (in 0.0s)\n",
      "[INFO][2023/01/28 03:55:06 AM]  - Inserted 3507 dummy objects to fill tracking gaps\n",
      "[INFO][2023/01/28 03:55:06 AM] Loading hypothesis model: cell_hypothesis\n",
      "[INFO][2023/01/28 03:55:06 AM] Calculating hypotheses (relax: True)...\n",
      "[INFO][2023/01/28 03:55:07 AM] Setting up constraints matrix for global optimisation...\n",
      "[INFO][2023/01/28 03:55:07 AM] Using GLPK options: {'tm_lim': 60000}...\n",
      "[INFO][2023/01/28 03:55:07 AM] Optimizing...\n",
      "[INFO][2023/01/28 03:55:09 AM] Optimization complete. (Solution: optimal)\n",
      "[INFO][2023/01/28 03:55:09 AM]  - Fates.FALSE_POSITIVE: 1000 (of 3409)\n",
      "[INFO][2023/01/28 03:55:09 AM]  - Fates.LINK: 1008 (of 1526)\n",
      "[INFO][2023/01/28 03:55:09 AM]  - Fates.DIVIDE: 65 (of 202)\n",
      "[INFO][2023/01/28 03:55:09 AM]  - Fates.INITIALIZE_BORDER: 85 (of 202)\n",
      "[INFO][2023/01/28 03:55:09 AM]  - Fates.INITIALIZE_FRONT: 477 (of 750)\n",
      "[INFO][2023/01/28 03:55:09 AM]  - Fates.INITIALIZE_LAZY: 709 (of 2457)\n",
      "[INFO][2023/01/28 03:55:09 AM]  - Fates.TERMINATE_BORDER: 99 (of 219)\n",
      "[INFO][2023/01/28 03:55:09 AM]  - Fates.TERMINATE_BACK: 459 (of 530)\n",
      "[INFO][2023/01/28 03:55:09 AM]  - Fates.TERMINATE_LAZY: 778 (of 2660)\n",
      "[INFO][2023/01/28 03:55:09 AM]  - TOTAL: 11955 hypotheses\n",
      "[INFO][2023/01/28 03:55:09 AM] Completed optimization with 2401 tracks\n"
     ]
    },
    {
     "name": "stdout",
     "output_type": "stream",
     "text": [
      "GLPK Integer Optimizer 5.0\n",
      "13636 rows, 11955 columns, 17294 non-zeros\n",
      "11955 integer variables, all of which are binary\n",
      "Preprocessing...\n",
      "6818 rows, 11955 columns, 17294 non-zeros\n",
      "11955 integer variables, all of which are binary\n",
      "Scaling...\n",
      " A: min|aij| =  1.000e+00  max|aij| =  1.000e+00  ratio =  1.000e+00\n",
      "Problem data seem to be well scaled\n",
      "Constructing initial basis...\n",
      "Size of triangular part is 6818\n",
      "Solving LP relaxation...\n",
      "GLPK Simplex Optimizer 5.0\n",
      "6818 rows, 11955 columns, 17294 non-zeros\n",
      "*     0: obj =   3.636932242e+04 inf =   0.000e+00 (3326)\n",
      "Perturbing LP to avoid stalling [1149]...\n",
      "Removing LP perturbation [3252]...\n",
      "*  3252: obj =   1.694636565e+04 inf =   0.000e+00 (0)\n",
      "OPTIMAL LP SOLUTION FOUND\n",
      "Integer optimization begins...\n",
      "Long-step dual simplex will be used\n",
      "+  3252: mip =     not found yet >=              -inf        (1; 0)\n",
      "+  3255: >>>>>   1.694954851e+04 >=   1.694954851e+04   0.0% (4; 0)\n",
      "+  3255: mip =   1.694954851e+04 >=     tree is empty   0.0% (0; 7)\n",
      "INTEGER OPTIMAL SOLUTION FOUND\n"
     ]
    },
    {
     "name": "stderr",
     "output_type": "stream",
     "text": [
      "[INFO][2023/01/28 03:55:09 AM] Opening HDF file: /mnt/DATA/macrohet/segmentation/(4,9)_tracks_rescaled.h5...\n",
      "[INFO][2023/01/28 03:55:10 AM] Writing objects/obj_type_1\n",
      "[INFO][2023/01/28 03:55:10 AM] Writing labels/obj_type_1\n",
      "[INFO][2023/01/28 03:55:10 AM] Loading objects/obj_type_1 (33675, 5) (33675 filtered: None)\n",
      "[INFO][2023/01/28 03:55:10 AM] Writing properties/obj_type_1/area (33675,)\n",
      "[INFO][2023/01/28 03:55:10 AM] Writing properties/obj_type_1/major_axis_length (33675,)\n",
      "[INFO][2023/01/28 03:55:10 AM] Writing properties/obj_type_1/minor_axis_length (33675,)\n",
      "[INFO][2023/01/28 03:55:10 AM] Writing properties/obj_type_1/orientation (33675,)\n",
      "[INFO][2023/01/28 03:55:10 AM] Writing properties/obj_type_1/mean_intensity-0 (33675,)\n",
      "[INFO][2023/01/28 03:55:10 AM] Writing properties/obj_type_1/mean_intensity-1 (33675,)\n",
      "[INFO][2023/01/28 03:55:11 AM] Writing tracks/obj_type_1\n",
      "[INFO][2023/01/28 03:55:11 AM] Writing dummies/obj_type_1\n",
      "[INFO][2023/01/28 03:55:11 AM] Writing LBEP/obj_type_1\n",
      "[INFO][2023/01/28 03:55:11 AM] Writing fates/obj_type_1\n",
      "[INFO][2023/01/28 03:55:11 AM] Closing HDF file: /mnt/DATA/macrohet/segmentation/(4,9)_tracks_rescaled.h5\n",
      "[INFO][2023/01/28 03:55:11 AM] Ending BayesianTracker session\n"
     ]
    },
    {
     "name": "stdout",
     "output_type": "stream",
     "text": [
      "Position (5, 4) already completed\n"
     ]
    },
    {
     "data": {
      "application/vnd.jupyter.widget-view+json": {
       "model_id": "",
       "version_major": 2,
       "version_minor": 0
      },
      "text/plain": [
       "Segmenting position (5, 5):   0%|          | 0/75 [00:00<?, ?it/s]"
      ]
     },
     "metadata": {},
     "output_type": "display_data"
    },
    {
     "data": {
      "application/vnd.jupyter.widget-view+json": {
       "model_id": "",
       "version_major": 2,
       "version_minor": 0
      },
      "text/plain": [
       "Resizing masks in position (5, 5):   0%|          | 0/75 [00:00<?, ?it/s]"
      ]
     },
     "metadata": {},
     "output_type": "display_data"
    },
    {
     "data": {
      "application/vnd.jupyter.widget-view+json": {
       "model_id": "",
       "version_major": 2,
       "version_minor": 0
      },
      "text/plain": [
       "Resizing GFP images in position (5, 5):   0%|          | 0/75 [00:00<?, ?it/s]"
      ]
     },
     "metadata": {},
     "output_type": "display_data"
    },
    {
     "data": {
      "application/vnd.jupyter.widget-view+json": {
       "model_id": "",
       "version_major": 2,
       "version_minor": 0
      },
      "text/plain": [
       "Resizing RFP images in position (5, 5):   0%|          | 0/75 [00:00<?, ?it/s]"
      ]
     },
     "metadata": {},
     "output_type": "display_data"
    },
    {
     "name": "stderr",
     "output_type": "stream",
     "text": [
      "[INFO][2023/01/28 06:30:30 AM] Localizing objects from segmentation...\n",
      "[INFO][2023/01/28 06:30:30 AM] Found intensity_image data\n",
      "[INFO][2023/01/28 06:34:54 AM] Objects are of type: <class 'dict'>\n",
      "[INFO][2023/01/28 06:35:06 AM] ...Found 1218761 objects in 75 frames.\n",
      "[INFO][2023/01/28 06:35:07 AM] Opening HDF file: /mnt/DATA/macrohet/segmentation/(5,5)_objects_rescaled.h5...\n",
      "[INFO][2023/01/28 06:35:09 AM] Writing objects/obj_type_1\n",
      "[INFO][2023/01/28 06:35:09 AM] Writing labels/obj_type_1\n",
      "[INFO][2023/01/28 06:35:09 AM] Loading objects/obj_type_1 (30881, 5) (30881 filtered: None)\n",
      "[INFO][2023/01/28 06:35:10 AM] Writing properties/obj_type_1/area (30881,)\n",
      "[INFO][2023/01/28 06:35:10 AM] Writing properties/obj_type_1/major_axis_length (30881,)\n",
      "[INFO][2023/01/28 06:35:10 AM] Writing properties/obj_type_1/minor_axis_length (30881,)\n",
      "[INFO][2023/01/28 06:35:10 AM] Writing properties/obj_type_1/orientation (30881,)\n",
      "[INFO][2023/01/28 06:35:10 AM] Writing properties/obj_type_1/mean_intensity-0 (30881,)\n",
      "[INFO][2023/01/28 06:35:11 AM] Writing properties/obj_type_1/mean_intensity-1 (30881,)\n",
      "[INFO][2023/01/28 06:35:11 AM] Closing HDF file: /mnt/DATA/macrohet/segmentation/(5,5)_objects_rescaled.h5\n",
      "[INFO][2023/01/28 06:35:11 AM] Loaded btrack: /home/dayn/analysis/BayesianTracker/btrack/libs/libtracker.so\n",
      "[INFO][2023/01/28 06:35:11 AM] btrack (v0.5.0) library imported\n",
      "[INFO][2023/01/28 06:35:11 AM] Starting BayesianTracker session\n",
      "[INFO][2023/01/28 06:35:11 AM] Loading configuration file: /home/dayn/analysis/BayesianTracker/models/cell_config.json\n",
      "[INFO][2023/01/28 06:35:11 AM] Objects are of type: <class 'list'>\n",
      "[INFO][2023/01/28 06:35:11 AM] Starting tracking... \n",
      "[INFO][2023/01/28 06:35:11 AM] Update using: ['VISUAL', 'MOTION']\n",
      "[INFO][2023/01/28 06:35:11 AM] Tracking objects in frames 0 to 24 (of 75)...\n",
      "[INFO][2023/01/28 06:35:15 AM]  - Timing (Bayesian updates: 34.76ms, Linking: 2.03ms)\n",
      "[INFO][2023/01/28 06:35:15 AM]  - Probabilities (Link: 1.00000, Lost: 1.00000)\n",
      "[INFO][2023/01/28 06:35:15 AM]  - Stats (Active: 566, Lost: 1642, Conflicts resolved: 3601)\n",
      "[INFO][2023/01/28 06:35:15 AM] Tracking objects in frames 25 to 49 (of 75)...\n",
      "[INFO][2023/01/28 06:35:19 AM]  - Timing (Bayesian updates: 58.09ms, Linking: 2.74ms)\n",
      "[INFO][2023/01/28 06:35:19 AM]  - Probabilities (Link: 1.00000, Lost: 0.99825)\n",
      "[INFO][2023/01/28 06:35:19 AM]  - Stats (Active: 618, Lost: 2842, Conflicts resolved: 6469)\n",
      "[INFO][2023/01/28 06:35:19 AM] Tracking objects in frames 50 to 74 (of 75)...\n",
      "[INFO][2023/01/28 06:35:22 AM]  - Timing (Bayesian updates: 37.17ms, Linking: 2.00ms)\n",
      "[INFO][2023/01/28 06:35:22 AM]  - Probabilities (Link: 1.00000, Lost: 0.99726)\n",
      "[INFO][2023/01/28 06:35:22 AM] SUCCESS.\n",
      "[INFO][2023/01/28 06:35:22 AM]  - Found 3039 tracks in 75 frames (in 0.0s)\n",
      "[INFO][2023/01/28 06:35:22 AM]  - Inserted 2995 dummy objects to fill tracking gaps\n",
      "[INFO][2023/01/28 06:35:22 AM] Loading hypothesis model: cell_hypothesis\n",
      "[INFO][2023/01/28 06:35:22 AM] Calculating hypotheses (relax: True)...\n",
      "[INFO][2023/01/28 06:35:22 AM] Setting up constraints matrix for global optimisation...\n",
      "[INFO][2023/01/28 06:35:22 AM] Using GLPK options: {'tm_lim': 60000}...\n",
      "[INFO][2023/01/28 06:35:22 AM] Optimizing...\n",
      "[INFO][2023/01/28 06:35:23 AM] Optimization complete. (Solution: optimal)\n",
      "[INFO][2023/01/28 06:35:23 AM]  - Fates.FALSE_POSITIVE: 1028 (of 3039)\n",
      "[INFO][2023/01/28 06:35:23 AM]  - Fates.LINK: 735 (of 1121)\n",
      "[INFO][2023/01/28 06:35:23 AM]  - Fates.DIVIDE: 40 (of 121)\n",
      "[INFO][2023/01/28 06:35:23 AM]  - Fates.INITIALIZE_BORDER: 72 (of 189)\n",
      "[INFO][2023/01/28 06:35:23 AM]  - Fates.INITIALIZE_FRONT: 458 (of 731)\n",
      "[INFO][2023/01/28 06:35:23 AM]  - Fates.INITIALIZE_LAZY: 666 (of 2119)\n",
      "[INFO][2023/01/28 06:35:23 AM]  - Fates.TERMINATE_BORDER: 95 (of 202)\n",
      "[INFO][2023/01/28 06:35:23 AM]  - Fates.TERMINATE_BACK: 416 (of 478)\n",
      "[INFO][2023/01/28 06:35:23 AM]  - Fates.TERMINATE_LAZY: 725 (of 2359)\n",
      "[INFO][2023/01/28 06:35:23 AM]  - TOTAL: 10359 hypotheses\n",
      "[INFO][2023/01/28 06:35:23 AM] Completed optimization with 2304 tracks\n"
     ]
    },
    {
     "name": "stdout",
     "output_type": "stream",
     "text": [
      "GLPK Integer Optimizer 5.0\n",
      "12156 rows, 10359 columns, 14761 non-zeros\n",
      "10359 integer variables, all of which are binary\n",
      "Preprocessing...\n",
      "6078 rows, 10359 columns, 14761 non-zeros\n",
      "10359 integer variables, all of which are binary\n",
      "Scaling...\n",
      " A: min|aij| =  1.000e+00  max|aij| =  1.000e+00  ratio =  1.000e+00\n",
      "Problem data seem to be well scaled\n",
      "Constructing initial basis...\n",
      "Size of triangular part is 6078\n",
      "Solving LP relaxation...\n",
      "GLPK Simplex Optimizer 5.0\n",
      "6078 rows, 10359 columns, 14761 non-zeros\n",
      "*     0: obj =   3.196064098e+04 inf =   0.000e+00 (2713)\n",
      "Perturbing LP to avoid stalling [1123]...\n",
      "Removing LP perturbation [2672]...\n",
      "*  2672: obj =   1.596414988e+04 inf =   0.000e+00 (0)\n",
      "OPTIMAL LP SOLUTION FOUND\n",
      "Integer optimization begins...\n",
      "Long-step dual simplex will be used\n",
      "+  2672: mip =     not found yet >=              -inf        (1; 0)\n",
      "+  2672: >>>>>   1.596414988e+04 >=   1.596414988e+04   0.0% (1; 0)\n",
      "+  2672: mip =   1.596414988e+04 >=     tree is empty   0.0% (0; 1)\n",
      "INTEGER OPTIMAL SOLUTION FOUND\n"
     ]
    },
    {
     "name": "stderr",
     "output_type": "stream",
     "text": [
      "[INFO][2023/01/28 06:35:24 AM] Opening HDF file: /mnt/DATA/macrohet/segmentation/(5,5)_tracks_rescaled.h5...\n",
      "[INFO][2023/01/28 06:35:24 AM] Writing objects/obj_type_1\n",
      "[INFO][2023/01/28 06:35:24 AM] Writing labels/obj_type_1\n",
      "[INFO][2023/01/28 06:35:24 AM] Loading objects/obj_type_1 (30881, 5) (30881 filtered: None)\n",
      "[INFO][2023/01/28 06:35:24 AM] Writing properties/obj_type_1/area (30881,)\n",
      "[INFO][2023/01/28 06:35:24 AM] Writing properties/obj_type_1/major_axis_length (30881,)\n",
      "[INFO][2023/01/28 06:35:24 AM] Writing properties/obj_type_1/minor_axis_length (30881,)\n",
      "[INFO][2023/01/28 06:35:24 AM] Writing properties/obj_type_1/orientation (30881,)\n",
      "[INFO][2023/01/28 06:35:24 AM] Writing properties/obj_type_1/mean_intensity-0 (30881,)\n",
      "[INFO][2023/01/28 06:35:24 AM] Writing properties/obj_type_1/mean_intensity-1 (30881,)\n",
      "[INFO][2023/01/28 06:35:25 AM] Writing tracks/obj_type_1\n",
      "[INFO][2023/01/28 06:35:25 AM] Writing dummies/obj_type_1\n",
      "[INFO][2023/01/28 06:35:25 AM] Writing LBEP/obj_type_1\n",
      "[INFO][2023/01/28 06:35:25 AM] Writing fates/obj_type_1\n",
      "[INFO][2023/01/28 06:35:25 AM] Closing HDF file: /mnt/DATA/macrohet/segmentation/(5,5)_tracks_rescaled.h5\n",
      "[INFO][2023/01/28 06:35:25 AM] Ending BayesianTracker session\n"
     ]
    },
    {
     "data": {
      "application/vnd.jupyter.widget-view+json": {
       "model_id": "",
       "version_major": 2,
       "version_minor": 0
      },
      "text/plain": [
       "Segmenting position (5, 6):   0%|          | 0/75 [00:00<?, ?it/s]"
      ]
     },
     "metadata": {},
     "output_type": "display_data"
    },
    {
     "data": {
      "application/vnd.jupyter.widget-view+json": {
       "model_id": "",
       "version_major": 2,
       "version_minor": 0
      },
      "text/plain": [
       "Resizing masks in position (5, 6):   0%|          | 0/75 [00:00<?, ?it/s]"
      ]
     },
     "metadata": {},
     "output_type": "display_data"
    },
    {
     "data": {
      "application/vnd.jupyter.widget-view+json": {
       "model_id": "",
       "version_major": 2,
       "version_minor": 0
      },
      "text/plain": [
       "Resizing GFP images in position (5, 6):   0%|          | 0/75 [00:00<?, ?it/s]"
      ]
     },
     "metadata": {},
     "output_type": "display_data"
    },
    {
     "data": {
      "application/vnd.jupyter.widget-view+json": {
       "model_id": "",
       "version_major": 2,
       "version_minor": 0
      },
      "text/plain": [
       "Resizing RFP images in position (5, 6):   0%|          | 0/75 [00:00<?, ?it/s]"
      ]
     },
     "metadata": {},
     "output_type": "display_data"
    },
    {
     "name": "stderr",
     "output_type": "stream",
     "text": [
      "[INFO][2023/01/28 09:14:18 AM] Localizing objects from segmentation...\n",
      "[INFO][2023/01/28 09:14:18 AM] Found intensity_image data\n",
      "[INFO][2023/01/28 09:18:37 AM] Objects are of type: <class 'dict'>\n",
      "[INFO][2023/01/28 09:18:50 AM] ...Found 1213889 objects in 75 frames.\n",
      "[INFO][2023/01/28 09:18:51 AM] Opening HDF file: /mnt/DATA/macrohet/segmentation/(5,6)_objects_rescaled.h5...\n",
      "[INFO][2023/01/28 09:18:55 AM] Writing objects/obj_type_1\n",
      "[INFO][2023/01/28 09:18:55 AM] Writing labels/obj_type_1\n",
      "[INFO][2023/01/28 09:18:55 AM] Loading objects/obj_type_1 (31174, 5) (31174 filtered: None)\n",
      "[INFO][2023/01/28 09:18:55 AM] Writing properties/obj_type_1/area (31174,)\n",
      "[INFO][2023/01/28 09:18:55 AM] Writing properties/obj_type_1/major_axis_length (31174,)\n",
      "[INFO][2023/01/28 09:18:55 AM] Writing properties/obj_type_1/minor_axis_length (31174,)\n",
      "[INFO][2023/01/28 09:18:55 AM] Writing properties/obj_type_1/orientation (31174,)\n",
      "[INFO][2023/01/28 09:18:55 AM] Writing properties/obj_type_1/mean_intensity-0 (31174,)\n",
      "[INFO][2023/01/28 09:18:55 AM] Writing properties/obj_type_1/mean_intensity-1 (31174,)\n",
      "[INFO][2023/01/28 09:18:55 AM] Closing HDF file: /mnt/DATA/macrohet/segmentation/(5,6)_objects_rescaled.h5\n",
      "[INFO][2023/01/28 09:18:55 AM] Loaded btrack: /home/dayn/analysis/BayesianTracker/btrack/libs/libtracker.so\n",
      "[INFO][2023/01/28 09:18:55 AM] btrack (v0.5.0) library imported\n",
      "[INFO][2023/01/28 09:18:55 AM] Starting BayesianTracker session\n",
      "[INFO][2023/01/28 09:18:55 AM] Loading configuration file: /home/dayn/analysis/BayesianTracker/models/cell_config.json\n",
      "[INFO][2023/01/28 09:18:55 AM] Objects are of type: <class 'list'>\n",
      "[INFO][2023/01/28 09:18:56 AM] Starting tracking... \n",
      "[INFO][2023/01/28 09:18:56 AM] Update using: ['VISUAL', 'MOTION']\n",
      "[INFO][2023/01/28 09:18:56 AM] Tracking objects in frames 0 to 24 (of 75)...\n",
      "[INFO][2023/01/28 09:19:00 AM]  - Timing (Bayesian updates: 41.80ms, Linking: 2.21ms)\n",
      "[INFO][2023/01/28 09:19:00 AM]  - Probabilities (Link: 1.00000, Lost: 1.00000)\n",
      "[INFO][2023/01/28 09:19:00 AM]  - Stats (Active: 557, Lost: 1644, Conflicts resolved: 3615)\n",
      "[INFO][2023/01/28 09:19:00 AM] Tracking objects in frames 25 to 49 (of 75)...\n",
      "[INFO][2023/01/28 09:19:05 AM]  - Timing (Bayesian updates: 66.63ms, Linking: 2.86ms)\n",
      "[INFO][2023/01/28 09:19:05 AM]  - Probabilities (Link: 1.00000, Lost: 0.98591)\n",
      "[INFO][2023/01/28 09:19:05 AM]  - Stats (Active: 640, Lost: 3091, Conflicts resolved: 6901)\n",
      "[INFO][2023/01/28 09:19:05 AM] Tracking objects in frames 50 to 74 (of 75)...\n",
      "[INFO][2023/01/28 09:19:09 AM]  - Timing (Bayesian updates: 52.24ms, Linking: 2.54ms)\n",
      "[INFO][2023/01/28 09:19:09 AM]  - Probabilities (Link: 1.00000, Lost: 0.99883)\n",
      "[INFO][2023/01/28 09:19:09 AM] SUCCESS.\n",
      "[INFO][2023/01/28 09:19:09 AM]  - Found 3469 tracks in 75 frames (in 0.0s)\n",
      "[INFO][2023/01/28 09:19:09 AM]  - Inserted 3837 dummy objects to fill tracking gaps\n",
      "[INFO][2023/01/28 09:19:09 AM] Loading hypothesis model: cell_hypothesis\n",
      "[INFO][2023/01/28 09:19:09 AM] Calculating hypotheses (relax: True)...\n",
      "[INFO][2023/01/28 09:19:09 AM] Setting up constraints matrix for global optimisation...\n",
      "[INFO][2023/01/28 09:19:09 AM] Using GLPK options: {'tm_lim': 60000}...\n",
      "[INFO][2023/01/28 09:19:09 AM] Optimizing...\n",
      "[INFO][2023/01/28 09:19:10 AM] Optimization complete. (Solution: optimal)\n",
      "[INFO][2023/01/28 09:19:10 AM]  - Fates.FALSE_POSITIVE: 1212 (of 3469)\n",
      "[INFO][2023/01/28 09:19:10 AM]  - Fates.LINK: 865 (of 1428)\n",
      "[INFO][2023/01/28 09:19:10 AM]  - Fates.DIVIDE: 77 (of 202)\n",
      "[INFO][2023/01/28 09:19:10 AM]  - Fates.INITIALIZE_BORDER: 89 (of 226)\n",
      "[INFO][2023/01/28 09:19:10 AM]  - Fates.INITIALIZE_FRONT: 446 (of 742)\n",
      "[INFO][2023/01/28 09:19:10 AM]  - Fates.INITIALIZE_LAZY: 703 (of 2501)\n",
      "[INFO][2023/01/28 09:19:10 AM]  - Fates.TERMINATE_BORDER: 103 (of 237)\n",
      "[INFO][2023/01/28 09:19:10 AM]  - Fates.TERMINATE_BACK: 440 (of 554)\n",
      "[INFO][2023/01/28 09:19:10 AM]  - Fates.TERMINATE_LAZY: 772 (of 2678)\n",
      "[INFO][2023/01/28 09:19:10 AM]  - TOTAL: 12037 hypotheses\n",
      "[INFO][2023/01/28 09:19:10 AM] Completed optimization with 2604 tracks\n"
     ]
    },
    {
     "name": "stdout",
     "output_type": "stream",
     "text": [
      "GLPK Integer Optimizer 5.0\n",
      "13876 rows, 12037 columns, 17338 non-zeros\n",
      "12037 integer variables, all of which are binary\n",
      "Preprocessing...\n",
      "6938 rows, 12037 columns, 17338 non-zeros\n",
      "12037 integer variables, all of which are binary\n",
      "Scaling...\n",
      " A: min|aij| =  1.000e+00  max|aij| =  1.000e+00  ratio =  1.000e+00\n",
      "Problem data seem to be well scaled\n",
      "Constructing initial basis...\n",
      "Size of triangular part is 6938\n",
      "Solving LP relaxation...\n",
      "GLPK Simplex Optimizer 5.0\n",
      "6938 rows, 12037 columns, 17338 non-zeros\n",
      "*     0: obj =   3.698499583e+04 inf =   0.000e+00 (3400)\n",
      "Perturbing LP to avoid stalling [1381]...\n",
      "Removing LP perturbation [3298]...\n",
      "*  3298: obj =   1.758487979e+04 inf =   0.000e+00 (0)\n",
      "OPTIMAL LP SOLUTION FOUND\n",
      "Integer optimization begins...\n",
      "Long-step dual simplex will be used\n",
      "+  3298: mip =     not found yet >=              -inf        (1; 0)\n",
      "+  3300: >>>>>   1.758970437e+04 >=   1.758970437e+04   0.0% (3; 0)\n",
      "+  3300: mip =   1.758970437e+04 >=     tree is empty   0.0% (0; 5)\n",
      "INTEGER OPTIMAL SOLUTION FOUND\n"
     ]
    },
    {
     "name": "stderr",
     "output_type": "stream",
     "text": [
      "[INFO][2023/01/28 09:19:11 AM] Opening HDF file: /mnt/DATA/macrohet/segmentation/(5,6)_tracks_rescaled.h5...\n",
      "[INFO][2023/01/28 09:19:11 AM] Writing objects/obj_type_1\n",
      "[INFO][2023/01/28 09:19:11 AM] Writing labels/obj_type_1\n",
      "[INFO][2023/01/28 09:19:11 AM] Loading objects/obj_type_1 (31174, 5) (31174 filtered: None)\n",
      "[INFO][2023/01/28 09:19:12 AM] Writing properties/obj_type_1/area (31174,)\n",
      "[INFO][2023/01/28 09:19:12 AM] Writing properties/obj_type_1/major_axis_length (31174,)\n",
      "[INFO][2023/01/28 09:19:12 AM] Writing properties/obj_type_1/minor_axis_length (31174,)\n",
      "[INFO][2023/01/28 09:19:12 AM] Writing properties/obj_type_1/orientation (31174,)\n",
      "[INFO][2023/01/28 09:19:12 AM] Writing properties/obj_type_1/mean_intensity-0 (31174,)\n",
      "[INFO][2023/01/28 09:19:12 AM] Writing properties/obj_type_1/mean_intensity-1 (31174,)\n",
      "[INFO][2023/01/28 09:19:12 AM] Writing tracks/obj_type_1\n",
      "[INFO][2023/01/28 09:19:12 AM] Writing dummies/obj_type_1\n",
      "[INFO][2023/01/28 09:19:12 AM] Writing LBEP/obj_type_1\n",
      "[INFO][2023/01/28 09:19:12 AM] Writing fates/obj_type_1\n",
      "[INFO][2023/01/28 09:19:12 AM] Closing HDF file: /mnt/DATA/macrohet/segmentation/(5,6)_tracks_rescaled.h5\n",
      "[INFO][2023/01/28 09:19:12 AM] Ending BayesianTracker session\n"
     ]
    },
    {
     "data": {
      "application/vnd.jupyter.widget-view+json": {
       "model_id": "",
       "version_major": 2,
       "version_minor": 0
      },
      "text/plain": [
       "Segmenting position (5, 7):   0%|          | 0/75 [00:00<?, ?it/s]"
      ]
     },
     "metadata": {},
     "output_type": "display_data"
    },
    {
     "data": {
      "application/vnd.jupyter.widget-view+json": {
       "model_id": "",
       "version_major": 2,
       "version_minor": 0
      },
      "text/plain": [
       "Resizing masks in position (5, 7):   0%|          | 0/75 [00:00<?, ?it/s]"
      ]
     },
     "metadata": {},
     "output_type": "display_data"
    },
    {
     "data": {
      "application/vnd.jupyter.widget-view+json": {
       "model_id": "",
       "version_major": 2,
       "version_minor": 0
      },
      "text/plain": [
       "Resizing GFP images in position (5, 7):   0%|          | 0/75 [00:00<?, ?it/s]"
      ]
     },
     "metadata": {},
     "output_type": "display_data"
    },
    {
     "data": {
      "application/vnd.jupyter.widget-view+json": {
       "model_id": "",
       "version_major": 2,
       "version_minor": 0
      },
      "text/plain": [
       "Resizing RFP images in position (5, 7):   0%|          | 0/75 [00:00<?, ?it/s]"
      ]
     },
     "metadata": {},
     "output_type": "display_data"
    },
    {
     "name": "stderr",
     "output_type": "stream",
     "text": [
      "[INFO][2023/01/28 12:04:29 PM] Localizing objects from segmentation...\n",
      "[INFO][2023/01/28 12:04:29 PM] Found intensity_image data\n",
      "[INFO][2023/01/28 12:09:00 PM] Objects are of type: <class 'dict'>\n",
      "[INFO][2023/01/28 12:09:12 PM] ...Found 1242107 objects in 75 frames.\n",
      "[INFO][2023/01/28 12:09:14 PM] Opening HDF file: /mnt/DATA/macrohet/segmentation/(5,7)_objects_rescaled.h5...\n",
      "[INFO][2023/01/28 12:09:18 PM] Writing objects/obj_type_1\n",
      "[INFO][2023/01/28 12:09:18 PM] Writing labels/obj_type_1\n",
      "[INFO][2023/01/28 12:09:18 PM] Loading objects/obj_type_1 (32090, 5) (32090 filtered: None)\n",
      "[INFO][2023/01/28 12:09:18 PM] Writing properties/obj_type_1/area (32090,)\n",
      "[INFO][2023/01/28 12:09:18 PM] Writing properties/obj_type_1/major_axis_length (32090,)\n",
      "[INFO][2023/01/28 12:09:18 PM] Writing properties/obj_type_1/minor_axis_length (32090,)\n",
      "[INFO][2023/01/28 12:09:18 PM] Writing properties/obj_type_1/orientation (32090,)\n",
      "[INFO][2023/01/28 12:09:18 PM] Writing properties/obj_type_1/mean_intensity-0 (32090,)\n",
      "[INFO][2023/01/28 12:09:18 PM] Writing properties/obj_type_1/mean_intensity-1 (32090,)\n",
      "[INFO][2023/01/28 12:09:18 PM] Closing HDF file: /mnt/DATA/macrohet/segmentation/(5,7)_objects_rescaled.h5\n",
      "[INFO][2023/01/28 12:09:18 PM] Loaded btrack: /home/dayn/analysis/BayesianTracker/btrack/libs/libtracker.so\n",
      "[INFO][2023/01/28 12:09:18 PM] btrack (v0.5.0) library imported\n",
      "[INFO][2023/01/28 12:09:18 PM] Starting BayesianTracker session\n",
      "[INFO][2023/01/28 12:09:18 PM] Loading configuration file: /home/dayn/analysis/BayesianTracker/models/cell_config.json\n",
      "[INFO][2023/01/28 12:09:18 PM] Objects are of type: <class 'list'>\n",
      "[INFO][2023/01/28 12:09:19 PM] Starting tracking... \n",
      "[INFO][2023/01/28 12:09:19 PM] Update using: ['VISUAL', 'MOTION']\n",
      "[INFO][2023/01/28 12:09:19 PM] Tracking objects in frames 0 to 24 (of 75)...\n",
      "[INFO][2023/01/28 12:09:25 PM]  - Timing (Bayesian updates: 67.25ms, Linking: 4.57ms)\n",
      "[INFO][2023/01/28 12:09:25 PM]  - Probabilities (Link: 0.80204, Lost: 1.00000)\n",
      "[INFO][2023/01/28 12:09:25 PM]  - Stats (Active: 683, Lost: 1675, Conflicts resolved: 3952)\n",
      "[INFO][2023/01/28 12:09:25 PM] Tracking objects in frames 25 to 49 (of 75)...\n",
      "[INFO][2023/01/28 12:09:30 PM]  - Timing (Bayesian updates: 42.90ms, Linking: 2.33ms)\n",
      "[INFO][2023/01/28 12:09:30 PM]  - Probabilities (Link: 1.00000, Lost: 0.99964)\n",
      "[INFO][2023/01/28 12:09:30 PM]  - Stats (Active: 590, Lost: 3371, Conflicts resolved: 7631)\n",
      "[INFO][2023/01/28 12:09:30 PM] Tracking objects in frames 50 to 74 (of 75)...\n",
      "[INFO][2023/01/28 12:09:34 PM]  - Timing (Bayesian updates: 49.82ms, Linking: 2.59ms)\n",
      "[INFO][2023/01/28 12:09:34 PM]  - Probabilities (Link: 1.00000, Lost: 0.78310)\n",
      "[INFO][2023/01/28 12:09:34 PM] SUCCESS.\n",
      "[INFO][2023/01/28 12:09:34 PM]  - Found 3729 tracks in 75 frames (in 0.0s)\n",
      "[INFO][2023/01/28 12:09:34 PM]  - Inserted 3973 dummy objects to fill tracking gaps\n",
      "[INFO][2023/01/28 12:09:34 PM] Loading hypothesis model: cell_hypothesis\n",
      "[INFO][2023/01/28 12:09:34 PM] Calculating hypotheses (relax: True)...\n",
      "[INFO][2023/01/28 12:09:34 PM] Setting up constraints matrix for global optimisation...\n",
      "[INFO][2023/01/28 12:09:34 PM] Using GLPK options: {'tm_lim': 60000}...\n",
      "[INFO][2023/01/28 12:09:35 PM] Optimizing...\n",
      "[INFO][2023/01/28 12:09:36 PM] Optimization complete. (Solution: optimal)\n",
      "[INFO][2023/01/28 12:09:36 PM]  - Fates.FALSE_POSITIVE: 1250 (of 3729)\n",
      "[INFO][2023/01/28 12:09:36 PM]  - Fates.LINK: 974 (of 1537)\n",
      "[INFO][2023/01/28 12:09:36 PM]  - Fates.DIVIDE: 71 (of 178)\n",
      "[INFO][2023/01/28 12:09:36 PM]  - Fates.INITIALIZE_BORDER: 127 (of 295)\n",
      "[INFO][2023/01/28 12:09:36 PM]  - Fates.INITIALIZE_FRONT: 518 (of 779)\n",
      "[INFO][2023/01/28 12:09:36 PM]  - Fates.INITIALIZE_LAZY: 718 (of 2655)\n",
      "[INFO][2023/01/28 12:09:36 PM]  - Fates.TERMINATE_BORDER: 132 (of 281)\n",
      "[INFO][2023/01/28 12:09:36 PM]  - Fates.TERMINATE_BACK: 415 (of 567)\n",
      "[INFO][2023/01/28 12:09:36 PM]  - Fates.TERMINATE_LAZY: 887 (of 2881)\n",
      "[INFO][2023/01/28 12:09:36 PM]  - TOTAL: 12902 hypotheses\n",
      "[INFO][2023/01/28 12:09:36 PM] Completed optimization with 2755 tracks\n"
     ]
    },
    {
     "name": "stdout",
     "output_type": "stream",
     "text": [
      "GLPK Integer Optimizer 5.0\n",
      "14916 rows, 12902 columns, 18524 non-zeros\n",
      "12902 integer variables, all of which are binary\n",
      "Preprocessing...\n",
      "7458 rows, 12902 columns, 18524 non-zeros\n",
      "12902 integer variables, all of which are binary\n",
      "Scaling...\n",
      " A: min|aij| =  1.000e+00  max|aij| =  1.000e+00  ratio =  1.000e+00\n",
      "Problem data seem to be well scaled\n",
      "Constructing initial basis...\n",
      "Size of triangular part is 7458\n",
      "Solving LP relaxation...\n",
      "GLPK Simplex Optimizer 5.0\n",
      "7458 rows, 12902 columns, 18524 non-zeros\n",
      "*     0: obj =   3.982238701e+04 inf =   0.000e+00 (3594)\n",
      "Perturbing LP to avoid stalling [1223]...\n",
      "Removing LP perturbation [3529]...\n",
      "*  3529: obj =   1.903290096e+04 inf =   0.000e+00 (0)\n",
      "OPTIMAL LP SOLUTION FOUND\n",
      "Integer optimization begins...\n",
      "Long-step dual simplex will be used\n",
      "+  3529: mip =     not found yet >=              -inf        (1; 0)\n",
      "+  3529: >>>>>   1.903290096e+04 >=   1.903290096e+04   0.0% (1; 0)\n",
      "+  3529: mip =   1.903290096e+04 >=     tree is empty   0.0% (0; 1)\n",
      "INTEGER OPTIMAL SOLUTION FOUND\n"
     ]
    },
    {
     "name": "stderr",
     "output_type": "stream",
     "text": [
      "[INFO][2023/01/28 12:09:37 PM] Opening HDF file: /mnt/DATA/macrohet/segmentation/(5,7)_tracks_rescaled.h5...\n",
      "[INFO][2023/01/28 12:09:37 PM] Writing objects/obj_type_1\n",
      "[INFO][2023/01/28 12:09:37 PM] Writing labels/obj_type_1\n",
      "[INFO][2023/01/28 12:09:37 PM] Loading objects/obj_type_1 (32090, 5) (32090 filtered: None)\n",
      "[INFO][2023/01/28 12:09:38 PM] Writing properties/obj_type_1/area (32090,)\n",
      "[INFO][2023/01/28 12:09:38 PM] Writing properties/obj_type_1/major_axis_length (32090,)\n",
      "[INFO][2023/01/28 12:09:38 PM] Writing properties/obj_type_1/minor_axis_length (32090,)\n",
      "[INFO][2023/01/28 12:09:38 PM] Writing properties/obj_type_1/orientation (32090,)\n",
      "[INFO][2023/01/28 12:09:38 PM] Writing properties/obj_type_1/mean_intensity-0 (32090,)\n",
      "[INFO][2023/01/28 12:09:38 PM] Writing properties/obj_type_1/mean_intensity-1 (32090,)\n",
      "[INFO][2023/01/28 12:09:39 PM] Writing tracks/obj_type_1\n",
      "[INFO][2023/01/28 12:09:39 PM] Writing dummies/obj_type_1\n",
      "[INFO][2023/01/28 12:09:39 PM] Writing LBEP/obj_type_1\n",
      "[INFO][2023/01/28 12:09:39 PM] Writing fates/obj_type_1\n",
      "[INFO][2023/01/28 12:09:39 PM] Closing HDF file: /mnt/DATA/macrohet/segmentation/(5,7)_tracks_rescaled.h5\n",
      "[INFO][2023/01/28 12:09:39 PM] Ending BayesianTracker session\n"
     ]
    },
    {
     "name": "stdout",
     "output_type": "stream",
     "text": [
      "Position (5, 8) already completed\n"
     ]
    },
    {
     "data": {
      "application/vnd.jupyter.widget-view+json": {
       "model_id": "",
       "version_major": 2,
       "version_minor": 0
      },
      "text/plain": [
       "Segmenting position (5, 9):   0%|          | 0/75 [00:00<?, ?it/s]"
      ]
     },
     "metadata": {},
     "output_type": "display_data"
    },
    {
     "data": {
      "application/vnd.jupyter.widget-view+json": {
       "model_id": "",
       "version_major": 2,
       "version_minor": 0
      },
      "text/plain": [
       "Resizing masks in position (5, 9):   0%|          | 0/75 [00:00<?, ?it/s]"
      ]
     },
     "metadata": {},
     "output_type": "display_data"
    },
    {
     "data": {
      "application/vnd.jupyter.widget-view+json": {
       "model_id": "",
       "version_major": 2,
       "version_minor": 0
      },
      "text/plain": [
       "Resizing GFP images in position (5, 9):   0%|          | 0/75 [00:00<?, ?it/s]"
      ]
     },
     "metadata": {},
     "output_type": "display_data"
    },
    {
     "data": {
      "application/vnd.jupyter.widget-view+json": {
       "model_id": "",
       "version_major": 2,
       "version_minor": 0
      },
      "text/plain": [
       "Resizing RFP images in position (5, 9):   0%|          | 0/75 [00:00<?, ?it/s]"
      ]
     },
     "metadata": {},
     "output_type": "display_data"
    },
    {
     "name": "stderr",
     "output_type": "stream",
     "text": [
      "[INFO][2023/01/28 02:38:30 PM] Localizing objects from segmentation...\n",
      "[INFO][2023/01/28 02:38:30 PM] Found intensity_image data\n",
      "[INFO][2023/01/28 02:42:13 PM] Objects are of type: <class 'dict'>\n",
      "[INFO][2023/01/28 02:42:24 PM] ...Found 1027302 objects in 75 frames.\n",
      "[INFO][2023/01/28 02:42:25 PM] Opening HDF file: /mnt/DATA/macrohet/segmentation/(5,9)_objects_rescaled.h5...\n",
      "[INFO][2023/01/28 02:42:28 PM] Writing objects/obj_type_1\n",
      "[INFO][2023/01/28 02:42:28 PM] Writing labels/obj_type_1\n",
      "[INFO][2023/01/28 02:42:28 PM] Loading objects/obj_type_1 (25139, 5) (25139 filtered: None)\n",
      "[INFO][2023/01/28 02:42:28 PM] Writing properties/obj_type_1/area (25139,)\n",
      "[INFO][2023/01/28 02:42:28 PM] Writing properties/obj_type_1/major_axis_length (25139,)\n",
      "[INFO][2023/01/28 02:42:28 PM] Writing properties/obj_type_1/minor_axis_length (25139,)\n",
      "[INFO][2023/01/28 02:42:28 PM] Writing properties/obj_type_1/orientation (25139,)\n",
      "[INFO][2023/01/28 02:42:28 PM] Writing properties/obj_type_1/mean_intensity-0 (25139,)\n",
      "[INFO][2023/01/28 02:42:28 PM] Writing properties/obj_type_1/mean_intensity-1 (25139,)\n",
      "[INFO][2023/01/28 02:42:28 PM] Closing HDF file: /mnt/DATA/macrohet/segmentation/(5,9)_objects_rescaled.h5\n",
      "[INFO][2023/01/28 02:42:28 PM] Loaded btrack: /home/dayn/analysis/BayesianTracker/btrack/libs/libtracker.so\n",
      "[INFO][2023/01/28 02:42:28 PM] btrack (v0.5.0) library imported\n",
      "[INFO][2023/01/28 02:42:28 PM] Starting BayesianTracker session\n",
      "[INFO][2023/01/28 02:42:28 PM] Loading configuration file: /home/dayn/analysis/BayesianTracker/models/cell_config.json\n",
      "[INFO][2023/01/28 02:42:28 PM] Objects are of type: <class 'list'>\n",
      "[INFO][2023/01/28 02:42:29 PM] Starting tracking... \n",
      "[INFO][2023/01/28 02:42:29 PM] Update using: ['VISUAL', 'MOTION']\n",
      "[INFO][2023/01/28 02:42:29 PM] Tracking objects in frames 0 to 24 (of 75)...\n",
      "[INFO][2023/01/28 02:42:33 PM]  - Timing (Bayesian updates: 35.01ms, Linking: 2.03ms)\n",
      "[INFO][2023/01/28 02:42:33 PM]  - Probabilities (Link: 1.00000, Lost: 1.00000)\n",
      "[INFO][2023/01/28 02:42:33 PM]  - Stats (Active: 518, Lost: 1572, Conflicts resolved: 3519)\n",
      "[INFO][2023/01/28 02:42:33 PM] Tracking objects in frames 25 to 49 (of 75)...\n",
      "[INFO][2023/01/28 02:42:36 PM]  - Timing (Bayesian updates: 25.93ms, Linking: 1.86ms)\n",
      "[INFO][2023/01/28 02:42:36 PM]  - Probabilities (Link: 1.00000, Lost: 1.00000)\n",
      "[INFO][2023/01/28 02:42:36 PM]  - Stats (Active: 451, Lost: 2650, Conflicts resolved: 6228)\n",
      "[INFO][2023/01/28 02:42:36 PM] Tracking objects in frames 50 to 74 (of 75)...\n",
      "[INFO][2023/01/28 02:42:37 PM]  - Timing (Bayesian updates: 5.88ms, Linking: 0.99ms)\n",
      "[INFO][2023/01/28 02:42:37 PM]  - Probabilities (Link: 1.00000, Lost: 1.00000)\n",
      "[INFO][2023/01/28 02:42:37 PM] SUCCESS.\n",
      "[INFO][2023/01/28 02:42:37 PM]  - Found 2606 tracks in 75 frames (in 0.0s)\n",
      "[INFO][2023/01/28 02:42:37 PM]  - Inserted 2282 dummy objects to fill tracking gaps\n",
      "[INFO][2023/01/28 02:42:37 PM] Loading hypothesis model: cell_hypothesis\n",
      "[INFO][2023/01/28 02:42:37 PM] Calculating hypotheses (relax: True)...\n",
      "[INFO][2023/01/28 02:42:37 PM] Setting up constraints matrix for global optimisation...\n",
      "[INFO][2023/01/28 02:42:37 PM] Using GLPK options: {'tm_lim': 60000}...\n",
      "[INFO][2023/01/28 02:42:37 PM] Optimizing...\n",
      "[INFO][2023/01/28 02:42:38 PM] Optimization complete. (Solution: optimal)\n",
      "[INFO][2023/01/28 02:42:38 PM]  - Fates.FALSE_POSITIVE: 947 (of 2606)\n",
      "[INFO][2023/01/28 02:42:38 PM]  - Fates.LINK: 547 (of 912)\n",
      "[INFO][2023/01/28 02:42:38 PM]  - Fates.DIVIDE: 40 (of 94)\n",
      "[INFO][2023/01/28 02:42:38 PM]  - Fates.INITIALIZE_BORDER: 79 (of 177)\n",
      "[INFO][2023/01/28 02:42:38 PM]  - Fates.INITIALIZE_FRONT: 419 (of 703)\n",
      "[INFO][2023/01/28 02:42:38 PM]  - Fates.INITIALIZE_LAZY: 534 (of 1726)\n",
      "[INFO][2023/01/28 02:42:38 PM]  - Fates.TERMINATE_BORDER: 108 (of 212)\n",
      "[INFO][2023/01/28 02:42:38 PM]  - Fates.TERMINATE_BACK: 197 (of 221)\n",
      "[INFO][2023/01/28 02:42:38 PM]  - Fates.TERMINATE_LAZY: 767 (of 2173)\n",
      "[INFO][2023/01/28 02:42:38 PM]  - TOTAL: 8824 hypotheses\n",
      "[INFO][2023/01/28 02:42:38 PM] Completed optimization with 2059 tracks\n"
     ]
    },
    {
     "name": "stdout",
     "output_type": "stream",
     "text": [
      "GLPK Integer Optimizer 5.0\n",
      "10424 rows, 8824 columns, 12530 non-zeros\n",
      "8824 integer variables, all of which are binary\n",
      "Preprocessing...\n",
      "5212 rows, 8824 columns, 12530 non-zeros\n",
      "8824 integer variables, all of which are binary\n",
      "Scaling...\n",
      " A: min|aij| =  1.000e+00  max|aij| =  1.000e+00  ratio =  1.000e+00\n",
      "Problem data seem to be well scaled\n",
      "Constructing initial basis...\n",
      "Size of triangular part is 5212\n",
      "Solving LP relaxation...\n",
      "GLPK Simplex Optimizer 5.0\n",
      "5212 rows, 8824 columns, 12530 non-zeros\n",
      "*     0: obj =   2.805966624e+04 inf =   0.000e+00 (2348)\n",
      "Perturbing LP to avoid stalling [983]...\n",
      "Removing LP perturbation [2321]...\n",
      "*  2321: obj =   1.469035379e+04 inf =   0.000e+00 (0)\n",
      "OPTIMAL LP SOLUTION FOUND\n",
      "Integer optimization begins...\n",
      "Long-step dual simplex will be used\n",
      "+  2321: mip =     not found yet >=              -inf        (1; 0)\n",
      "+  2321: >>>>>   1.469035379e+04 >=   1.469035379e+04   0.0% (1; 0)\n",
      "+  2321: mip =   1.469035379e+04 >=     tree is empty   0.0% (0; 1)\n",
      "INTEGER OPTIMAL SOLUTION FOUND\n"
     ]
    },
    {
     "name": "stderr",
     "output_type": "stream",
     "text": [
      "[INFO][2023/01/28 02:42:39 PM] Opening HDF file: /mnt/DATA/macrohet/segmentation/(5,9)_tracks_rescaled.h5...\n",
      "[INFO][2023/01/28 02:42:39 PM] Writing objects/obj_type_1\n",
      "[INFO][2023/01/28 02:42:39 PM] Writing labels/obj_type_1\n",
      "[INFO][2023/01/28 02:42:39 PM] Loading objects/obj_type_1 (25139, 5) (25139 filtered: None)\n",
      "[INFO][2023/01/28 02:42:39 PM] Writing properties/obj_type_1/area (25139,)\n",
      "[INFO][2023/01/28 02:42:39 PM] Writing properties/obj_type_1/major_axis_length (25139,)\n",
      "[INFO][2023/01/28 02:42:39 PM] Writing properties/obj_type_1/minor_axis_length (25139,)\n",
      "[INFO][2023/01/28 02:42:39 PM] Writing properties/obj_type_1/orientation (25139,)\n",
      "[INFO][2023/01/28 02:42:39 PM] Writing properties/obj_type_1/mean_intensity-0 (25139,)\n",
      "[INFO][2023/01/28 02:42:40 PM] Writing properties/obj_type_1/mean_intensity-1 (25139,)\n",
      "[INFO][2023/01/28 02:42:40 PM] Writing tracks/obj_type_1\n",
      "[INFO][2023/01/28 02:42:40 PM] Writing dummies/obj_type_1\n",
      "[INFO][2023/01/28 02:42:40 PM] Writing LBEP/obj_type_1\n",
      "[INFO][2023/01/28 02:42:40 PM] Writing fates/obj_type_1\n",
      "[INFO][2023/01/28 02:42:40 PM] Closing HDF file: /mnt/DATA/macrohet/segmentation/(5,9)_tracks_rescaled.h5\n",
      "[INFO][2023/01/28 02:42:40 PM] Ending BayesianTracker session\n"
     ]
    },
    {
     "data": {
      "application/vnd.jupyter.widget-view+json": {
       "model_id": "",
       "version_major": 2,
       "version_minor": 0
      },
      "text/plain": [
       "Segmenting position (6, 4):   0%|          | 0/75 [00:00<?, ?it/s]"
      ]
     },
     "metadata": {},
     "output_type": "display_data"
    },
    {
     "data": {
      "application/vnd.jupyter.widget-view+json": {
       "model_id": "",
       "version_major": 2,
       "version_minor": 0
      },
      "text/plain": [
       "Resizing masks in position (6, 4):   0%|          | 0/75 [00:00<?, ?it/s]"
      ]
     },
     "metadata": {},
     "output_type": "display_data"
    },
    {
     "data": {
      "application/vnd.jupyter.widget-view+json": {
       "model_id": "",
       "version_major": 2,
       "version_minor": 0
      },
      "text/plain": [
       "Resizing GFP images in position (6, 4):   0%|          | 0/75 [00:00<?, ?it/s]"
      ]
     },
     "metadata": {},
     "output_type": "display_data"
    },
    {
     "data": {
      "application/vnd.jupyter.widget-view+json": {
       "model_id": "",
       "version_major": 2,
       "version_minor": 0
      },
      "text/plain": [
       "Resizing RFP images in position (6, 4):   0%|          | 0/75 [00:00<?, ?it/s]"
      ]
     },
     "metadata": {},
     "output_type": "display_data"
    },
    {
     "name": "stderr",
     "output_type": "stream",
     "text": [
      "[INFO][2023/01/28 05:42:37 PM] Localizing objects from segmentation...\n",
      "[INFO][2023/01/28 05:42:37 PM] Found intensity_image data\n",
      "[INFO][2023/01/28 05:46:46 PM] Objects are of type: <class 'dict'>\n",
      "[INFO][2023/01/28 05:46:59 PM] ...Found 1146294 objects in 75 frames.\n",
      "[INFO][2023/01/28 05:47:00 PM] Opening HDF file: /mnt/DATA/macrohet/segmentation/(6,4)_objects_rescaled.h5...\n",
      "[INFO][2023/01/28 05:47:04 PM] Writing objects/obj_type_1\n",
      "[INFO][2023/01/28 05:47:04 PM] Writing labels/obj_type_1\n",
      "[INFO][2023/01/28 05:47:04 PM] Loading objects/obj_type_1 (29122, 5) (29122 filtered: None)\n",
      "[INFO][2023/01/28 05:47:04 PM] Writing properties/obj_type_1/area (29122,)\n",
      "[INFO][2023/01/28 05:47:04 PM] Writing properties/obj_type_1/major_axis_length (29122,)\n",
      "[INFO][2023/01/28 05:47:04 PM] Writing properties/obj_type_1/minor_axis_length (29122,)\n",
      "[INFO][2023/01/28 05:47:04 PM] Writing properties/obj_type_1/orientation (29122,)\n",
      "[INFO][2023/01/28 05:47:04 PM] Writing properties/obj_type_1/mean_intensity-0 (29122,)\n",
      "[INFO][2023/01/28 05:47:04 PM] Writing properties/obj_type_1/mean_intensity-1 (29122,)\n",
      "[INFO][2023/01/28 05:47:04 PM] Closing HDF file: /mnt/DATA/macrohet/segmentation/(6,4)_objects_rescaled.h5\n",
      "[INFO][2023/01/28 05:47:04 PM] Loaded btrack: /home/dayn/analysis/BayesianTracker/btrack/libs/libtracker.so\n",
      "[INFO][2023/01/28 05:47:04 PM] btrack (v0.5.0) library imported\n",
      "[INFO][2023/01/28 05:47:04 PM] Starting BayesianTracker session\n",
      "[INFO][2023/01/28 05:47:04 PM] Loading configuration file: /home/dayn/analysis/BayesianTracker/models/cell_config.json\n",
      "[INFO][2023/01/28 05:47:04 PM] Objects are of type: <class 'list'>\n",
      "[INFO][2023/01/28 05:47:05 PM] Starting tracking... \n",
      "[INFO][2023/01/28 05:47:05 PM] Update using: ['VISUAL', 'MOTION']\n",
      "[INFO][2023/01/28 05:47:05 PM] Tracking objects in frames 0 to 24 (of 75)...\n",
      "[INFO][2023/01/28 05:47:10 PM]  - Timing (Bayesian updates: 43.12ms, Linking: 2.32ms)\n",
      "[INFO][2023/01/28 05:47:10 PM]  - Probabilities (Link: 1.00000, Lost: 1.00000)\n",
      "[INFO][2023/01/28 05:47:10 PM]  - Stats (Active: 598, Lost: 1763, Conflicts resolved: 3841)\n",
      "[INFO][2023/01/28 05:47:10 PM] Tracking objects in frames 25 to 49 (of 75)...\n",
      "[INFO][2023/01/28 05:47:14 PM]  - Timing (Bayesian updates: 43.07ms, Linking: 2.72ms)\n",
      "[INFO][2023/01/28 05:47:14 PM]  - Probabilities (Link: 0.99269, Lost: 1.00000)\n",
      "[INFO][2023/01/28 05:47:14 PM]  - Stats (Active: 570, Lost: 3272, Conflicts resolved: 7077)\n",
      "[INFO][2023/01/28 05:47:14 PM] Tracking objects in frames 50 to 74 (of 75)...\n",
      "[INFO][2023/01/28 05:47:16 PM]  - Timing (Bayesian updates: 42.86ms, Linking: 2.17ms)\n",
      "[INFO][2023/01/28 05:47:16 PM]  - Probabilities (Link: 0.54646, Lost: 0.97975)\n",
      "[INFO][2023/01/28 05:47:16 PM] SUCCESS.\n",
      "[INFO][2023/01/28 05:47:16 PM]  - Found 3531 tracks in 75 frames (in 0.0s)\n",
      "[INFO][2023/01/28 05:47:16 PM]  - Inserted 3642 dummy objects to fill tracking gaps\n",
      "[INFO][2023/01/28 05:47:16 PM] Loading hypothesis model: cell_hypothesis\n",
      "[INFO][2023/01/28 05:47:16 PM] Calculating hypotheses (relax: True)...\n",
      "[INFO][2023/01/28 05:47:16 PM] Setting up constraints matrix for global optimisation...\n",
      "[INFO][2023/01/28 05:47:16 PM] Using GLPK options: {'tm_lim': 60000}...\n",
      "[INFO][2023/01/28 05:47:16 PM] Optimizing...\n",
      "[INFO][2023/01/28 05:47:17 PM] Optimization complete. (Solution: optimal)\n",
      "[INFO][2023/01/28 05:47:17 PM]  - Fates.FALSE_POSITIVE: 1321 (of 3531)\n",
      "[INFO][2023/01/28 05:47:17 PM]  - Fates.LINK: 848 (of 1359)\n",
      "[INFO][2023/01/28 05:47:17 PM]  - Fates.DIVIDE: 53 (of 151)\n",
      "[INFO][2023/01/28 05:47:17 PM]  - Fates.INITIALIZE_BORDER: 97 (of 228)\n",
      "[INFO][2023/01/28 05:47:17 PM]  - Fates.INITIALIZE_FRONT: 481 (of 769)\n",
      "[INFO][2023/01/28 05:47:17 PM]  - Fates.INITIALIZE_LAZY: 678 (of 2534)\n",
      "[INFO][2023/01/28 05:47:17 PM]  - Fates.TERMINATE_BORDER: 85 (of 212)\n",
      "[INFO][2023/01/28 05:47:17 PM]  - Fates.TERMINATE_BACK: 383 (of 509)\n",
      "[INFO][2023/01/28 05:47:17 PM]  - Fates.TERMINATE_LAZY: 841 (of 2810)\n",
      "[INFO][2023/01/28 05:47:17 PM]  - TOTAL: 12103 hypotheses\n",
      "[INFO][2023/01/28 05:47:17 PM] Completed optimization with 2683 tracks\n"
     ]
    },
    {
     "name": "stdout",
     "output_type": "stream",
     "text": [
      "GLPK Integer Optimizer 5.0\n",
      "14124 rows, 12103 columns, 17295 non-zeros\n",
      "12103 integer variables, all of which are binary\n",
      "Preprocessing...\n",
      "7062 rows, 12103 columns, 17295 non-zeros\n",
      "12103 integer variables, all of which are binary\n",
      "Scaling...\n",
      " A: min|aij| =  1.000e+00  max|aij| =  1.000e+00  ratio =  1.000e+00\n",
      "Problem data seem to be well scaled\n",
      "Constructing initial basis...\n",
      "Size of triangular part is 7062\n",
      "Solving LP relaxation...\n",
      "GLPK Simplex Optimizer 5.0\n",
      "7062 rows, 12103 columns, 17295 non-zeros\n",
      "*     0: obj =   3.801075109e+04 inf =   0.000e+00 (3407)\n",
      "Perturbing LP to avoid stalling [1299]...\n",
      "Removing LP perturbation [3341]...\n",
      "*  3341: obj =   1.831727492e+04 inf =   0.000e+00 (0)\n",
      "OPTIMAL LP SOLUTION FOUND\n",
      "Integer optimization begins...\n",
      "Long-step dual simplex will be used\n",
      "+  3341: mip =     not found yet >=              -inf        (1; 0)\n",
      "+  3341: >>>>>   1.831727492e+04 >=   1.831727492e+04   0.0% (1; 0)\n",
      "+  3341: mip =   1.831727492e+04 >=     tree is empty   0.0% (0; 1)\n",
      "INTEGER OPTIMAL SOLUTION FOUND\n"
     ]
    },
    {
     "name": "stderr",
     "output_type": "stream",
     "text": [
      "[INFO][2023/01/28 05:47:18 PM] Opening HDF file: /mnt/DATA/macrohet/segmentation/(6,4)_tracks_rescaled.h5...\n",
      "[INFO][2023/01/28 05:47:18 PM] Writing objects/obj_type_1\n",
      "[INFO][2023/01/28 05:47:18 PM] Writing labels/obj_type_1\n",
      "[INFO][2023/01/28 05:47:18 PM] Loading objects/obj_type_1 (29122, 5) (29122 filtered: None)\n",
      "[INFO][2023/01/28 05:47:18 PM] Writing properties/obj_type_1/area (29122,)\n",
      "[INFO][2023/01/28 05:47:18 PM] Writing properties/obj_type_1/major_axis_length (29122,)\n",
      "[INFO][2023/01/28 05:47:18 PM] Writing properties/obj_type_1/minor_axis_length (29122,)\n",
      "[INFO][2023/01/28 05:47:18 PM] Writing properties/obj_type_1/orientation (29122,)\n",
      "[INFO][2023/01/28 05:47:18 PM] Writing properties/obj_type_1/mean_intensity-0 (29122,)\n",
      "[INFO][2023/01/28 05:47:18 PM] Writing properties/obj_type_1/mean_intensity-1 (29122,)\n",
      "[INFO][2023/01/28 05:47:19 PM] Writing tracks/obj_type_1\n",
      "[INFO][2023/01/28 05:47:19 PM] Writing dummies/obj_type_1\n",
      "[INFO][2023/01/28 05:47:19 PM] Writing LBEP/obj_type_1\n",
      "[INFO][2023/01/28 05:47:19 PM] Writing fates/obj_type_1\n",
      "[INFO][2023/01/28 05:47:19 PM] Closing HDF file: /mnt/DATA/macrohet/segmentation/(6,4)_tracks_rescaled.h5\n",
      "[INFO][2023/01/28 05:47:19 PM] Ending BayesianTracker session\n"
     ]
    },
    {
     "data": {
      "application/vnd.jupyter.widget-view+json": {
       "model_id": "",
       "version_major": 2,
       "version_minor": 0
      },
      "text/plain": [
       "Segmenting position (6, 5):   0%|          | 0/75 [00:00<?, ?it/s]"
      ]
     },
     "metadata": {},
     "output_type": "display_data"
    },
    {
     "data": {
      "application/vnd.jupyter.widget-view+json": {
       "model_id": "",
       "version_major": 2,
       "version_minor": 0
      },
      "text/plain": [
       "Resizing masks in position (6, 5):   0%|          | 0/75 [00:00<?, ?it/s]"
      ]
     },
     "metadata": {},
     "output_type": "display_data"
    },
    {
     "data": {
      "application/vnd.jupyter.widget-view+json": {
       "model_id": "",
       "version_major": 2,
       "version_minor": 0
      },
      "text/plain": [
       "Resizing GFP images in position (6, 5):   0%|          | 0/75 [00:00<?, ?it/s]"
      ]
     },
     "metadata": {},
     "output_type": "display_data"
    },
    {
     "data": {
      "application/vnd.jupyter.widget-view+json": {
       "model_id": "",
       "version_major": 2,
       "version_minor": 0
      },
      "text/plain": [
       "Resizing RFP images in position (6, 5):   0%|          | 0/75 [00:00<?, ?it/s]"
      ]
     },
     "metadata": {},
     "output_type": "display_data"
    },
    {
     "name": "stderr",
     "output_type": "stream",
     "text": [
      "[INFO][2023/01/28 08:44:30 PM] Localizing objects from segmentation...\n",
      "[INFO][2023/01/28 08:44:30 PM] Found intensity_image data\n",
      "[INFO][2023/01/28 08:48:56 PM] Objects are of type: <class 'dict'>\n",
      "[INFO][2023/01/28 08:49:09 PM] ...Found 1222531 objects in 75 frames.\n",
      "[INFO][2023/01/28 08:49:10 PM] Opening HDF file: /mnt/DATA/macrohet/segmentation/(6,5)_objects_rescaled.h5...\n",
      "[INFO][2023/01/28 08:49:14 PM] Writing objects/obj_type_1\n",
      "[INFO][2023/01/28 08:49:14 PM] Writing labels/obj_type_1\n",
      "[INFO][2023/01/28 08:49:14 PM] Loading objects/obj_type_1 (31525, 5) (31525 filtered: None)\n",
      "[INFO][2023/01/28 08:49:15 PM] Writing properties/obj_type_1/area (31525,)\n",
      "[INFO][2023/01/28 08:49:15 PM] Writing properties/obj_type_1/major_axis_length (31525,)\n",
      "[INFO][2023/01/28 08:49:15 PM] Writing properties/obj_type_1/minor_axis_length (31525,)\n",
      "[INFO][2023/01/28 08:49:15 PM] Writing properties/obj_type_1/orientation (31525,)\n",
      "[INFO][2023/01/28 08:49:15 PM] Writing properties/obj_type_1/mean_intensity-0 (31525,)\n",
      "[INFO][2023/01/28 08:49:15 PM] Writing properties/obj_type_1/mean_intensity-1 (31525,)\n",
      "[INFO][2023/01/28 08:49:15 PM] Closing HDF file: /mnt/DATA/macrohet/segmentation/(6,5)_objects_rescaled.h5\n",
      "[INFO][2023/01/28 08:49:15 PM] Loaded btrack: /home/dayn/analysis/BayesianTracker/btrack/libs/libtracker.so\n",
      "[INFO][2023/01/28 08:49:15 PM] btrack (v0.5.0) library imported\n",
      "[INFO][2023/01/28 08:49:15 PM] Starting BayesianTracker session\n",
      "[INFO][2023/01/28 08:49:15 PM] Loading configuration file: /home/dayn/analysis/BayesianTracker/models/cell_config.json\n",
      "[INFO][2023/01/28 08:49:15 PM] Objects are of type: <class 'list'>\n",
      "[INFO][2023/01/28 08:49:16 PM] Starting tracking... \n",
      "[INFO][2023/01/28 08:49:16 PM] Update using: ['VISUAL', 'MOTION']\n",
      "[INFO][2023/01/28 08:49:16 PM] Tracking objects in frames 0 to 24 (of 75)...\n",
      "[INFO][2023/01/28 08:49:21 PM]  - Timing (Bayesian updates: 41.50ms, Linking: 2.18ms)\n",
      "[INFO][2023/01/28 08:49:21 PM]  - Probabilities (Link: 1.00000, Lost: 0.79774)\n",
      "[INFO][2023/01/28 08:49:21 PM]  - Stats (Active: 556, Lost: 1734, Conflicts resolved: 3726)\n",
      "[INFO][2023/01/28 08:49:21 PM] Tracking objects in frames 25 to 49 (of 75)...\n",
      "[INFO][2023/01/28 08:49:25 PM]  - Timing (Bayesian updates: 59.93ms, Linking: 2.85ms)\n",
      "[INFO][2023/01/28 08:49:25 PM]  - Probabilities (Link: 1.00000, Lost: 1.00000)\n",
      "[INFO][2023/01/28 08:49:25 PM]  - Stats (Active: 631, Lost: 3219, Conflicts resolved: 6918)\n",
      "[INFO][2023/01/28 08:49:25 PM] Tracking objects in frames 50 to 74 (of 75)...\n",
      "[INFO][2023/01/28 08:49:29 PM]  - Timing (Bayesian updates: 62.66ms, Linking: 3.17ms)\n",
      "[INFO][2023/01/28 08:49:29 PM]  - Probabilities (Link: 0.90910, Lost: 1.00000)\n",
      "[INFO][2023/01/28 08:49:29 PM] SUCCESS.\n",
      "[INFO][2023/01/28 08:49:29 PM]  - Found 3364 tracks in 75 frames (in 0.0s)\n",
      "[INFO][2023/01/28 08:49:30 PM]  - Inserted 3466 dummy objects to fill tracking gaps\n",
      "[INFO][2023/01/28 08:49:30 PM] Loading hypothesis model: cell_hypothesis\n",
      "[INFO][2023/01/28 08:49:30 PM] Calculating hypotheses (relax: True)...\n",
      "[INFO][2023/01/28 08:49:30 PM] Setting up constraints matrix for global optimisation...\n",
      "[INFO][2023/01/28 08:49:30 PM] Using GLPK options: {'tm_lim': 60000}...\n",
      "[INFO][2023/01/28 08:49:30 PM] Optimizing...\n",
      "[INFO][2023/01/28 08:49:31 PM] Optimization complete. (Solution: optimal)\n",
      "[INFO][2023/01/28 08:49:31 PM]  - Fates.FALSE_POSITIVE: 1111 (of 3364)\n",
      "[INFO][2023/01/28 08:49:31 PM]  - Fates.LINK: 801 (of 1280)\n",
      "[INFO][2023/01/28 08:49:31 PM]  - Fates.DIVIDE: 62 (of 156)\n",
      "[INFO][2023/01/28 08:49:31 PM]  - Fates.INITIALIZE_BORDER: 101 (of 250)\n",
      "[INFO][2023/01/28 08:49:31 PM]  - Fates.INITIALIZE_FRONT: 482 (of 756)\n",
      "[INFO][2023/01/28 08:49:31 PM]  - Fates.INITIALIZE_LAZY: 745 (of 2358)\n",
      "[INFO][2023/01/28 08:49:31 PM]  - Fates.TERMINATE_BORDER: 126 (of 270)\n",
      "[INFO][2023/01/28 08:49:31 PM]  - Fates.TERMINATE_BACK: 448 (of 521)\n",
      "[INFO][2023/01/28 08:49:31 PM]  - Fates.TERMINATE_LAZY: 816 (of 2573)\n",
      "[INFO][2023/01/28 08:49:31 PM]  - TOTAL: 11528 hypotheses\n",
      "[INFO][2023/01/28 08:49:31 PM] Completed optimization with 2563 tracks\n"
     ]
    },
    {
     "name": "stdout",
     "output_type": "stream",
     "text": [
      "GLPK Integer Optimizer 5.0\n",
      "13456 rows, 11528 columns, 16484 non-zeros\n",
      "11528 integer variables, all of which are binary\n",
      "Preprocessing...\n",
      "6728 rows, 11528 columns, 16484 non-zeros\n",
      "11528 integer variables, all of which are binary\n",
      "Scaling...\n",
      " A: min|aij| =  1.000e+00  max|aij| =  1.000e+00  ratio =  1.000e+00\n",
      "Problem data seem to be well scaled\n",
      "Constructing initial basis...\n",
      "Size of triangular part is 6728\n",
      "Solving LP relaxation...\n",
      "GLPK Simplex Optimizer 5.0\n",
      "6728 rows, 11528 columns, 16484 non-zeros\n",
      "*     0: obj =   3.545723376e+04 inf =   0.000e+00 (3074)\n",
      "Perturbing LP to avoid stalling [1113]...\n",
      "Removing LP perturbation [2975]...\n",
      "*  2975: obj =   1.770382250e+04 inf =   0.000e+00 (0)\n",
      "OPTIMAL LP SOLUTION FOUND\n",
      "Integer optimization begins...\n",
      "Long-step dual simplex will be used\n",
      "+  2975: mip =     not found yet >=              -inf        (1; 0)\n",
      "+  2975: >>>>>   1.770382250e+04 >=   1.770382250e+04   0.0% (1; 0)\n",
      "+  2975: mip =   1.770382250e+04 >=     tree is empty   0.0% (0; 1)\n",
      "INTEGER OPTIMAL SOLUTION FOUND\n"
     ]
    },
    {
     "name": "stderr",
     "output_type": "stream",
     "text": [
      "[INFO][2023/01/28 08:49:32 PM] Opening HDF file: /mnt/DATA/macrohet/segmentation/(6,5)_tracks_rescaled.h5...\n",
      "[INFO][2023/01/28 08:49:32 PM] Writing objects/obj_type_1\n",
      "[INFO][2023/01/28 08:49:32 PM] Writing labels/obj_type_1\n",
      "[INFO][2023/01/28 08:49:32 PM] Loading objects/obj_type_1 (31525, 5) (31525 filtered: None)\n",
      "[INFO][2023/01/28 08:49:33 PM] Writing properties/obj_type_1/area (31525,)\n",
      "[INFO][2023/01/28 08:49:33 PM] Writing properties/obj_type_1/major_axis_length (31525,)\n",
      "[INFO][2023/01/28 08:49:33 PM] Writing properties/obj_type_1/minor_axis_length (31525,)\n",
      "[INFO][2023/01/28 08:49:33 PM] Writing properties/obj_type_1/orientation (31525,)\n",
      "[INFO][2023/01/28 08:49:33 PM] Writing properties/obj_type_1/mean_intensity-0 (31525,)\n",
      "[INFO][2023/01/28 08:49:33 PM] Writing properties/obj_type_1/mean_intensity-1 (31525,)\n",
      "[INFO][2023/01/28 08:49:33 PM] Writing tracks/obj_type_1\n",
      "[INFO][2023/01/28 08:49:33 PM] Writing dummies/obj_type_1\n",
      "[INFO][2023/01/28 08:49:34 PM] Writing LBEP/obj_type_1\n",
      "[INFO][2023/01/28 08:49:34 PM] Writing fates/obj_type_1\n",
      "[INFO][2023/01/28 08:49:34 PM] Closing HDF file: /mnt/DATA/macrohet/segmentation/(6,5)_tracks_rescaled.h5\n",
      "[INFO][2023/01/28 08:49:34 PM] Ending BayesianTracker session\n"
     ]
    },
    {
     "data": {
      "application/vnd.jupyter.widget-view+json": {
       "model_id": "",
       "version_major": 2,
       "version_minor": 0
      },
      "text/plain": [
       "Segmenting position (6, 6):   0%|          | 0/75 [00:00<?, ?it/s]"
      ]
     },
     "metadata": {},
     "output_type": "display_data"
    },
    {
     "data": {
      "application/vnd.jupyter.widget-view+json": {
       "model_id": "",
       "version_major": 2,
       "version_minor": 0
      },
      "text/plain": [
       "Resizing masks in position (6, 6):   0%|          | 0/75 [00:00<?, ?it/s]"
      ]
     },
     "metadata": {},
     "output_type": "display_data"
    },
    {
     "data": {
      "application/vnd.jupyter.widget-view+json": {
       "model_id": "",
       "version_major": 2,
       "version_minor": 0
      },
      "text/plain": [
       "Resizing GFP images in position (6, 6):   0%|          | 0/75 [00:00<?, ?it/s]"
      ]
     },
     "metadata": {},
     "output_type": "display_data"
    },
    {
     "data": {
      "application/vnd.jupyter.widget-view+json": {
       "model_id": "",
       "version_major": 2,
       "version_minor": 0
      },
      "text/plain": [
       "Resizing RFP images in position (6, 6):   0%|          | 0/75 [00:00<?, ?it/s]"
      ]
     },
     "metadata": {},
     "output_type": "display_data"
    },
    {
     "name": "stderr",
     "output_type": "stream",
     "text": [
      "[INFO][2023/01/28 11:34:02 PM] Localizing objects from segmentation...\n",
      "[INFO][2023/01/28 11:34:02 PM] Found intensity_image data\n",
      "[INFO][2023/01/28 11:38:21 PM] Objects are of type: <class 'dict'>\n",
      "[INFO][2023/01/28 11:38:34 PM] ...Found 1174326 objects in 75 frames.\n",
      "[INFO][2023/01/28 11:38:35 PM] Opening HDF file: /mnt/DATA/macrohet/segmentation/(6,6)_objects_rescaled.h5...\n",
      "[INFO][2023/01/28 11:38:37 PM] Writing objects/obj_type_1\n",
      "[INFO][2023/01/28 11:38:37 PM] Writing labels/obj_type_1\n",
      "[INFO][2023/01/28 11:38:37 PM] Loading objects/obj_type_1 (28932, 5) (28932 filtered: None)\n",
      "[INFO][2023/01/28 11:38:38 PM] Writing properties/obj_type_1/area (28932,)\n",
      "[INFO][2023/01/28 11:38:38 PM] Writing properties/obj_type_1/major_axis_length (28932,)\n",
      "[INFO][2023/01/28 11:38:38 PM] Writing properties/obj_type_1/minor_axis_length (28932,)\n",
      "[INFO][2023/01/28 11:38:38 PM] Writing properties/obj_type_1/orientation (28932,)\n",
      "[INFO][2023/01/28 11:38:38 PM] Writing properties/obj_type_1/mean_intensity-0 (28932,)\n",
      "[INFO][2023/01/28 11:38:38 PM] Writing properties/obj_type_1/mean_intensity-1 (28932,)\n",
      "[INFO][2023/01/28 11:38:38 PM] Closing HDF file: /mnt/DATA/macrohet/segmentation/(6,6)_objects_rescaled.h5\n",
      "[INFO][2023/01/28 11:38:38 PM] Loaded btrack: /home/dayn/analysis/BayesianTracker/btrack/libs/libtracker.so\n",
      "[INFO][2023/01/28 11:38:38 PM] btrack (v0.5.0) library imported\n",
      "[INFO][2023/01/28 11:38:38 PM] Starting BayesianTracker session\n",
      "[INFO][2023/01/28 11:38:38 PM] Loading configuration file: /home/dayn/analysis/BayesianTracker/models/cell_config.json\n",
      "[INFO][2023/01/28 11:38:38 PM] Objects are of type: <class 'list'>\n",
      "[INFO][2023/01/28 11:38:38 PM] Starting tracking... \n",
      "[INFO][2023/01/28 11:38:38 PM] Update using: ['VISUAL', 'MOTION']\n",
      "[INFO][2023/01/28 11:38:38 PM] Tracking objects in frames 0 to 24 (of 75)...\n",
      "[INFO][2023/01/28 11:38:42 PM]  - Timing (Bayesian updates: 28.40ms, Linking: 1.87ms)\n",
      "[INFO][2023/01/28 11:38:42 PM]  - Probabilities (Link: 1.00000, Lost: 1.00000)\n",
      "[INFO][2023/01/28 11:38:42 PM]  - Stats (Active: 521, Lost: 1744, Conflicts resolved: 3482)\n",
      "[INFO][2023/01/28 11:38:42 PM] Tracking objects in frames 25 to 49 (of 75)...\n",
      "[INFO][2023/01/28 11:38:45 PM]  - Timing (Bayesian updates: 46.13ms, Linking: 2.49ms)\n",
      "[INFO][2023/01/28 11:38:45 PM]  - Probabilities (Link: 1.00000, Lost: 1.00000)\n",
      "[INFO][2023/01/28 11:38:45 PM]  - Stats (Active: 600, Lost: 3178, Conflicts resolved: 6586)\n",
      "[INFO][2023/01/28 11:38:45 PM] Tracking objects in frames 50 to 74 (of 75)...\n",
      "[INFO][2023/01/28 11:38:48 PM]  - Timing (Bayesian updates: 49.78ms, Linking: 2.42ms)\n",
      "[INFO][2023/01/28 11:38:48 PM]  - Probabilities (Link: 1.00000, Lost: 0.99918)\n",
      "[INFO][2023/01/28 11:38:48 PM] SUCCESS.\n",
      "[INFO][2023/01/28 11:38:48 PM]  - Found 3356 tracks in 75 frames (in 0.0s)\n",
      "[INFO][2023/01/28 11:38:48 PM]  - Inserted 3769 dummy objects to fill tracking gaps\n",
      "[INFO][2023/01/28 11:38:48 PM] Loading hypothesis model: cell_hypothesis\n",
      "[INFO][2023/01/28 11:38:48 PM] Calculating hypotheses (relax: True)...\n",
      "[INFO][2023/01/28 11:38:48 PM] Setting up constraints matrix for global optimisation...\n",
      "[INFO][2023/01/28 11:38:48 PM] Using GLPK options: {'tm_lim': 60000}...\n",
      "[INFO][2023/01/28 11:38:48 PM] Optimizing...\n",
      "[INFO][2023/01/28 11:38:49 PM] Optimization complete. (Solution: optimal)\n",
      "[INFO][2023/01/28 11:38:49 PM]  - Fates.FALSE_POSITIVE: 1134 (of 3356)\n",
      "[INFO][2023/01/28 11:38:49 PM]  - Fates.LINK: 799 (of 1272)\n",
      "[INFO][2023/01/28 11:38:49 PM]  - Fates.DIVIDE: 64 (of 155)\n",
      "[INFO][2023/01/28 11:38:49 PM]  - Fates.INITIALIZE_BORDER: 102 (of 236)\n",
      "[INFO][2023/01/28 11:38:49 PM]  - Fates.INITIALIZE_FRONT: 448 (of 733)\n",
      "[INFO][2023/01/28 11:38:49 PM]  - Fates.INITIALIZE_LAZY: 745 (of 2387)\n",
      "[INFO][2023/01/28 11:38:49 PM]  - Fates.TERMINATE_BORDER: 110 (of 242)\n",
      "[INFO][2023/01/28 11:38:49 PM]  - Fates.TERMINATE_BACK: 458 (of 555)\n",
      "[INFO][2023/01/28 11:38:49 PM]  - Fates.TERMINATE_LAZY: 791 (of 2559)\n",
      "[INFO][2023/01/28 11:38:49 PM]  - TOTAL: 11495 hypotheses\n",
      "[INFO][2023/01/28 11:38:49 PM] Completed optimization with 2557 tracks\n"
     ]
    },
    {
     "name": "stdout",
     "output_type": "stream",
     "text": [
      "GLPK Integer Optimizer 5.0\n",
      "13424 rows, 11495 columns, 16433 non-zeros\n",
      "11495 integer variables, all of which are binary\n",
      "Preprocessing...\n",
      "6712 rows, 11495 columns, 16433 non-zeros\n",
      "11495 integer variables, all of which are binary\n",
      "Scaling...\n",
      " A: min|aij| =  1.000e+00  max|aij| =  1.000e+00  ratio =  1.000e+00\n",
      "Problem data seem to be well scaled\n",
      "Constructing initial basis...\n",
      "Size of triangular part is 6712\n",
      "Solving LP relaxation...\n",
      "GLPK Simplex Optimizer 5.0\n",
      "6712 rows, 11495 columns, 16433 non-zeros\n",
      "*     0: obj =   3.556606096e+04 inf =   0.000e+00 (3092)\n",
      "Perturbing LP to avoid stalling [1187]...\n",
      "Removing LP perturbation [3012]...\n",
      "*  3012: obj =   1.776596701e+04 inf =   0.000e+00 (0)\n",
      "OPTIMAL LP SOLUTION FOUND\n",
      "Integer optimization begins...\n",
      "Long-step dual simplex will be used\n",
      "+  3012: mip =     not found yet >=              -inf        (1; 0)\n",
      "+  3013: >>>>>   1.776752929e+04 >=   1.776752929e+04   0.0% (2; 0)\n",
      "+  3013: mip =   1.776752929e+04 >=     tree is empty   0.0% (0; 3)\n",
      "INTEGER OPTIMAL SOLUTION FOUND\n"
     ]
    },
    {
     "name": "stderr",
     "output_type": "stream",
     "text": [
      "[INFO][2023/01/28 11:38:50 PM] Opening HDF file: /mnt/DATA/macrohet/segmentation/(6,6)_tracks_rescaled.h5...\n",
      "[INFO][2023/01/28 11:38:50 PM] Writing objects/obj_type_1\n",
      "[INFO][2023/01/28 11:38:50 PM] Writing labels/obj_type_1\n",
      "[INFO][2023/01/28 11:38:50 PM] Loading objects/obj_type_1 (28932, 5) (28932 filtered: None)\n",
      "[INFO][2023/01/28 11:38:51 PM] Writing properties/obj_type_1/area (28932,)\n",
      "[INFO][2023/01/28 11:38:51 PM] Writing properties/obj_type_1/major_axis_length (28932,)\n",
      "[INFO][2023/01/28 11:38:51 PM] Writing properties/obj_type_1/minor_axis_length (28932,)\n",
      "[INFO][2023/01/28 11:38:51 PM] Writing properties/obj_type_1/orientation (28932,)\n",
      "[INFO][2023/01/28 11:38:51 PM] Writing properties/obj_type_1/mean_intensity-0 (28932,)\n",
      "[INFO][2023/01/28 11:38:51 PM] Writing properties/obj_type_1/mean_intensity-1 (28932,)\n",
      "[INFO][2023/01/28 11:38:51 PM] Writing tracks/obj_type_1\n",
      "[INFO][2023/01/28 11:38:51 PM] Writing dummies/obj_type_1\n",
      "[INFO][2023/01/28 11:38:51 PM] Writing LBEP/obj_type_1\n",
      "[INFO][2023/01/28 11:38:51 PM] Writing fates/obj_type_1\n",
      "[INFO][2023/01/28 11:38:51 PM] Closing HDF file: /mnt/DATA/macrohet/segmentation/(6,6)_tracks_rescaled.h5\n",
      "[INFO][2023/01/28 11:38:51 PM] Ending BayesianTracker session\n"
     ]
    },
    {
     "data": {
      "application/vnd.jupyter.widget-view+json": {
       "model_id": "",
       "version_major": 2,
       "version_minor": 0
      },
      "text/plain": [
       "Segmenting position (6, 7):   0%|          | 0/75 [00:00<?, ?it/s]"
      ]
     },
     "metadata": {},
     "output_type": "display_data"
    },
    {
     "data": {
      "application/vnd.jupyter.widget-view+json": {
       "model_id": "",
       "version_major": 2,
       "version_minor": 0
      },
      "text/plain": [
       "Resizing masks in position (6, 7):   0%|          | 0/75 [00:00<?, ?it/s]"
      ]
     },
     "metadata": {},
     "output_type": "display_data"
    },
    {
     "data": {
      "application/vnd.jupyter.widget-view+json": {
       "model_id": "",
       "version_major": 2,
       "version_minor": 0
      },
      "text/plain": [
       "Resizing GFP images in position (6, 7):   0%|          | 0/75 [00:00<?, ?it/s]"
      ]
     },
     "metadata": {},
     "output_type": "display_data"
    },
    {
     "data": {
      "application/vnd.jupyter.widget-view+json": {
       "model_id": "",
       "version_major": 2,
       "version_minor": 0
      },
      "text/plain": [
       "Resizing RFP images in position (6, 7):   0%|          | 0/75 [00:00<?, ?it/s]"
      ]
     },
     "metadata": {},
     "output_type": "display_data"
    },
    {
     "name": "stderr",
     "output_type": "stream",
     "text": [
      "[INFO][2023/01/29 02:28:48 AM] Localizing objects from segmentation...\n",
      "[INFO][2023/01/29 02:28:48 AM] Found intensity_image data\n",
      "[INFO][2023/01/29 02:33:27 AM] Objects are of type: <class 'dict'>\n",
      "[INFO][2023/01/29 02:33:42 AM] ...Found 1288438 objects in 75 frames.\n",
      "[INFO][2023/01/29 02:33:43 AM] Opening HDF file: /mnt/DATA/macrohet/segmentation/(6,7)_objects_rescaled.h5...\n",
      "[INFO][2023/01/29 02:33:46 AM] Writing objects/obj_type_1\n",
      "[INFO][2023/01/29 02:33:46 AM] Writing labels/obj_type_1\n",
      "[INFO][2023/01/29 02:33:46 AM] Loading objects/obj_type_1 (31848, 5) (31848 filtered: None)\n",
      "[INFO][2023/01/29 02:33:46 AM] Writing properties/obj_type_1/area (31848,)\n",
      "[INFO][2023/01/29 02:33:46 AM] Writing properties/obj_type_1/major_axis_length (31848,)\n",
      "[INFO][2023/01/29 02:33:46 AM] Writing properties/obj_type_1/minor_axis_length (31848,)\n",
      "[INFO][2023/01/29 02:33:46 AM] Writing properties/obj_type_1/orientation (31848,)\n",
      "[INFO][2023/01/29 02:33:46 AM] Writing properties/obj_type_1/mean_intensity-0 (31848,)\n",
      "[INFO][2023/01/29 02:33:46 AM] Writing properties/obj_type_1/mean_intensity-1 (31848,)\n",
      "[INFO][2023/01/29 02:33:46 AM] Closing HDF file: /mnt/DATA/macrohet/segmentation/(6,7)_objects_rescaled.h5\n",
      "[INFO][2023/01/29 02:33:46 AM] Loaded btrack: /home/dayn/analysis/BayesianTracker/btrack/libs/libtracker.so\n",
      "[INFO][2023/01/29 02:33:46 AM] btrack (v0.5.0) library imported\n",
      "[INFO][2023/01/29 02:33:46 AM] Starting BayesianTracker session\n",
      "[INFO][2023/01/29 02:33:46 AM] Loading configuration file: /home/dayn/analysis/BayesianTracker/models/cell_config.json\n",
      "[INFO][2023/01/29 02:33:46 AM] Objects are of type: <class 'list'>\n",
      "[INFO][2023/01/29 02:33:47 AM] Starting tracking... \n",
      "[INFO][2023/01/29 02:33:47 AM] Update using: ['VISUAL', 'MOTION']\n",
      "[INFO][2023/01/29 02:33:47 AM] Tracking objects in frames 0 to 24 (of 75)...\n",
      "[INFO][2023/01/29 02:33:53 AM]  - Timing (Bayesian updates: 54.22ms, Linking: 2.71ms)\n",
      "[INFO][2023/01/29 02:33:53 AM]  - Probabilities (Link: 1.00000, Lost: 1.00000)\n",
      "[INFO][2023/01/29 02:33:53 AM]  - Stats (Active: 663, Lost: 1627, Conflicts resolved: 3866)\n",
      "[INFO][2023/01/29 02:33:53 AM] Tracking objects in frames 25 to 49 (of 75)...\n",
      "[INFO][2023/01/29 02:33:57 AM]  - Timing (Bayesian updates: 45.27ms, Linking: 2.31ms)\n",
      "[INFO][2023/01/29 02:33:57 AM]  - Probabilities (Link: 1.00000, Lost: 1.00000)\n",
      "[INFO][2023/01/29 02:33:57 AM]  - Stats (Active: 591, Lost: 3212, Conflicts resolved: 7418)\n",
      "[INFO][2023/01/29 02:33:57 AM] Tracking objects in frames 50 to 74 (of 75)...\n",
      "[INFO][2023/01/29 02:34:01 AM]  - Timing (Bayesian updates: 40.19ms, Linking: 2.25ms)\n",
      "[INFO][2023/01/29 02:34:01 AM]  - Probabilities (Link: 1.00000, Lost: 1.00000)\n",
      "[INFO][2023/01/29 02:34:01 AM] SUCCESS.\n",
      "[INFO][2023/01/29 02:34:01 AM]  - Found 3576 tracks in 75 frames (in 0.0s)\n",
      "[INFO][2023/01/29 02:34:01 AM]  - Inserted 3760 dummy objects to fill tracking gaps\n",
      "[INFO][2023/01/29 02:34:01 AM] Loading hypothesis model: cell_hypothesis\n",
      "[INFO][2023/01/29 02:34:01 AM] Calculating hypotheses (relax: True)...\n",
      "[INFO][2023/01/29 02:34:01 AM] Setting up constraints matrix for global optimisation...\n",
      "[INFO][2023/01/29 02:34:01 AM] Using GLPK options: {'tm_lim': 60000}...\n",
      "[INFO][2023/01/29 02:34:01 AM] Optimizing...\n",
      "[INFO][2023/01/29 02:34:02 AM] Optimization complete. (Solution: optimal)\n",
      "[INFO][2023/01/29 02:34:02 AM]  - Fates.FALSE_POSITIVE: 1160 (of 3576)\n",
      "[INFO][2023/01/29 02:34:02 AM]  - Fates.LINK: 960 (of 1505)\n",
      "[INFO][2023/01/29 02:34:02 AM]  - Fates.DIVIDE: 75 (of 182)\n",
      "[INFO][2023/01/29 02:34:02 AM]  - Fates.INITIALIZE_BORDER: 95 (of 249)\n",
      "[INFO][2023/01/29 02:34:02 AM]  - Fates.INITIALIZE_FRONT: 472 (of 736)\n",
      "[INFO][2023/01/29 02:34:02 AM]  - Fates.INITIALIZE_LAZY: 739 (of 2591)\n",
      "[INFO][2023/01/29 02:34:02 AM]  - Fates.TERMINATE_BORDER: 106 (of 247)\n",
      "[INFO][2023/01/29 02:34:02 AM]  - Fates.TERMINATE_BACK: 405 (of 518)\n",
      "[INFO][2023/01/29 02:34:02 AM]  - Fates.TERMINATE_LAZY: 870 (of 2811)\n",
      "[INFO][2023/01/29 02:34:02 AM]  - TOTAL: 12415 hypotheses\n",
      "[INFO][2023/01/29 02:34:02 AM] Completed optimization with 2616 tracks\n"
     ]
    },
    {
     "name": "stdout",
     "output_type": "stream",
     "text": [
      "GLPK Integer Optimizer 5.0\n",
      "14304 rows, 12415 columns, 17860 non-zeros\n",
      "12415 integer variables, all of which are binary\n",
      "Preprocessing...\n",
      "7152 rows, 12415 columns, 17860 non-zeros\n",
      "12415 integer variables, all of which are binary\n",
      "Scaling...\n",
      " A: min|aij| =  1.000e+00  max|aij| =  1.000e+00  ratio =  1.000e+00\n",
      "Problem data seem to be well scaled\n",
      "Constructing initial basis...\n",
      "Size of triangular part is 7152\n",
      "Solving LP relaxation...\n",
      "GLPK Simplex Optimizer 5.0\n",
      "7152 rows, 12415 columns, 17860 non-zeros\n",
      "*     0: obj =   3.864518135e+04 inf =   0.000e+00 (3476)\n",
      "Perturbing LP to avoid stalling [1176]...\n",
      "Removing LP perturbation [3412]...\n",
      "*  3412: obj =   1.850346854e+04 inf =   0.000e+00 (0)\n",
      "OPTIMAL LP SOLUTION FOUND\n",
      "Integer optimization begins...\n",
      "Long-step dual simplex will be used\n",
      "+  3412: mip =     not found yet >=              -inf        (1; 0)\n",
      "+  3413: >>>>>   1.850421655e+04 >=   1.850421655e+04   0.0% (2; 0)\n",
      "+  3413: mip =   1.850421655e+04 >=     tree is empty   0.0% (0; 3)\n",
      "INTEGER OPTIMAL SOLUTION FOUND\n"
     ]
    },
    {
     "name": "stderr",
     "output_type": "stream",
     "text": [
      "[INFO][2023/01/29 02:34:03 AM] Opening HDF file: /mnt/DATA/macrohet/segmentation/(6,7)_tracks_rescaled.h5...\n",
      "[INFO][2023/01/29 02:34:03 AM] Writing objects/obj_type_1\n",
      "[INFO][2023/01/29 02:34:03 AM] Writing labels/obj_type_1\n",
      "[INFO][2023/01/29 02:34:03 AM] Loading objects/obj_type_1 (31848, 5) (31848 filtered: None)\n",
      "[INFO][2023/01/29 02:34:03 AM] Writing properties/obj_type_1/area (31848,)\n",
      "[INFO][2023/01/29 02:34:03 AM] Writing properties/obj_type_1/major_axis_length (31848,)\n",
      "[INFO][2023/01/29 02:34:03 AM] Writing properties/obj_type_1/minor_axis_length (31848,)\n",
      "[INFO][2023/01/29 02:34:03 AM] Writing properties/obj_type_1/orientation (31848,)\n",
      "[INFO][2023/01/29 02:34:04 AM] Writing properties/obj_type_1/mean_intensity-0 (31848,)\n",
      "[INFO][2023/01/29 02:34:04 AM] Writing properties/obj_type_1/mean_intensity-1 (31848,)\n",
      "[INFO][2023/01/29 02:34:04 AM] Writing tracks/obj_type_1\n",
      "[INFO][2023/01/29 02:34:04 AM] Writing dummies/obj_type_1\n",
      "[INFO][2023/01/29 02:34:04 AM] Writing LBEP/obj_type_1\n",
      "[INFO][2023/01/29 02:34:04 AM] Writing fates/obj_type_1\n",
      "[INFO][2023/01/29 02:34:04 AM] Closing HDF file: /mnt/DATA/macrohet/segmentation/(6,7)_tracks_rescaled.h5\n",
      "[INFO][2023/01/29 02:34:04 AM] Ending BayesianTracker session\n"
     ]
    },
    {
     "data": {
      "application/vnd.jupyter.widget-view+json": {
       "model_id": "",
       "version_major": 2,
       "version_minor": 0
      },
      "text/plain": [
       "Segmenting position (6, 8):   0%|          | 0/75 [00:00<?, ?it/s]"
      ]
     },
     "metadata": {},
     "output_type": "display_data"
    },
    {
     "data": {
      "application/vnd.jupyter.widget-view+json": {
       "model_id": "",
       "version_major": 2,
       "version_minor": 0
      },
      "text/plain": [
       "Resizing masks in position (6, 8):   0%|          | 0/75 [00:00<?, ?it/s]"
      ]
     },
     "metadata": {},
     "output_type": "display_data"
    },
    {
     "data": {
      "application/vnd.jupyter.widget-view+json": {
       "model_id": "",
       "version_major": 2,
       "version_minor": 0
      },
      "text/plain": [
       "Resizing GFP images in position (6, 8):   0%|          | 0/75 [00:00<?, ?it/s]"
      ]
     },
     "metadata": {},
     "output_type": "display_data"
    },
    {
     "data": {
      "application/vnd.jupyter.widget-view+json": {
       "model_id": "",
       "version_major": 2,
       "version_minor": 0
      },
      "text/plain": [
       "Resizing RFP images in position (6, 8):   0%|          | 0/75 [00:00<?, ?it/s]"
      ]
     },
     "metadata": {},
     "output_type": "display_data"
    },
    {
     "name": "stderr",
     "output_type": "stream",
     "text": [
      "[INFO][2023/01/29 05:28:15 AM] Localizing objects from segmentation...\n",
      "[INFO][2023/01/29 05:28:15 AM] Found intensity_image data\n",
      "[INFO][2023/01/29 05:32:27 AM] Objects are of type: <class 'dict'>\n",
      "[INFO][2023/01/29 05:32:40 AM] ...Found 1163897 objects in 75 frames.\n",
      "[INFO][2023/01/29 05:32:41 AM] Opening HDF file: /mnt/DATA/macrohet/segmentation/(6,8)_objects_rescaled.h5...\n",
      "[INFO][2023/01/29 05:32:45 AM] Writing objects/obj_type_1\n",
      "[INFO][2023/01/29 05:32:45 AM] Writing labels/obj_type_1\n",
      "[INFO][2023/01/29 05:32:45 AM] Loading objects/obj_type_1 (28777, 5) (28777 filtered: None)\n",
      "[INFO][2023/01/29 05:32:45 AM] Writing properties/obj_type_1/area (28777,)\n",
      "[INFO][2023/01/29 05:32:45 AM] Writing properties/obj_type_1/major_axis_length (28777,)\n",
      "[INFO][2023/01/29 05:32:45 AM] Writing properties/obj_type_1/minor_axis_length (28777,)\n",
      "[INFO][2023/01/29 05:32:45 AM] Writing properties/obj_type_1/orientation (28777,)\n",
      "[INFO][2023/01/29 05:32:45 AM] Writing properties/obj_type_1/mean_intensity-0 (28777,)\n",
      "[INFO][2023/01/29 05:32:45 AM] Writing properties/obj_type_1/mean_intensity-1 (28777,)\n",
      "[INFO][2023/01/29 05:32:45 AM] Closing HDF file: /mnt/DATA/macrohet/segmentation/(6,8)_objects_rescaled.h5\n",
      "[INFO][2023/01/29 05:32:45 AM] Loaded btrack: /home/dayn/analysis/BayesianTracker/btrack/libs/libtracker.so\n",
      "[INFO][2023/01/29 05:32:45 AM] btrack (v0.5.0) library imported\n",
      "[INFO][2023/01/29 05:32:45 AM] Starting BayesianTracker session\n",
      "[INFO][2023/01/29 05:32:45 AM] Loading configuration file: /home/dayn/analysis/BayesianTracker/models/cell_config.json\n",
      "[INFO][2023/01/29 05:32:45 AM] Objects are of type: <class 'list'>\n",
      "[INFO][2023/01/29 05:32:46 AM] Starting tracking... \n",
      "[INFO][2023/01/29 05:32:46 AM] Update using: ['VISUAL', 'MOTION']\n",
      "[INFO][2023/01/29 05:32:46 AM] Tracking objects in frames 0 to 24 (of 75)...\n",
      "[INFO][2023/01/29 05:32:51 AM]  - Timing (Bayesian updates: 45.93ms, Linking: 2.39ms)\n",
      "[INFO][2023/01/29 05:32:51 AM]  - Probabilities (Link: 0.99971, Lost: 0.99994)\n",
      "[INFO][2023/01/29 05:32:51 AM]  - Stats (Active: 590, Lost: 1711, Conflicts resolved: 3688)\n",
      "[INFO][2023/01/29 05:32:51 AM] Tracking objects in frames 25 to 49 (of 75)...\n",
      "[INFO][2023/01/29 05:32:54 AM]  - Timing (Bayesian updates: 37.42ms, Linking: 2.03ms)\n",
      "[INFO][2023/01/29 05:32:54 AM]  - Probabilities (Link: 1.00000, Lost: 1.00000)\n",
      "[INFO][2023/01/29 05:32:54 AM]  - Stats (Active: 558, Lost: 3340, Conflicts resolved: 6971)\n",
      "[INFO][2023/01/29 05:32:54 AM] Tracking objects in frames 50 to 74 (of 75)...\n",
      "[INFO][2023/01/29 05:32:57 AM]  - Timing (Bayesian updates: 39.78ms, Linking: 2.06ms)\n",
      "[INFO][2023/01/29 05:32:57 AM]  - Probabilities (Link: 1.00000, Lost: 1.00000)\n",
      "[INFO][2023/01/29 05:32:57 AM] SUCCESS.\n",
      "[INFO][2023/01/29 05:32:57 AM]  - Found 3630 tracks in 75 frames (in 0.0s)\n",
      "[INFO][2023/01/29 05:32:57 AM]  - Inserted 3883 dummy objects to fill tracking gaps\n",
      "[INFO][2023/01/29 05:32:57 AM] Loading hypothesis model: cell_hypothesis\n",
      "[INFO][2023/01/29 05:32:57 AM] Calculating hypotheses (relax: True)...\n",
      "[INFO][2023/01/29 05:32:57 AM] Setting up constraints matrix for global optimisation...\n",
      "[INFO][2023/01/29 05:32:57 AM] Using GLPK options: {'tm_lim': 60000}...\n",
      "[INFO][2023/01/29 05:32:57 AM] Optimizing...\n",
      "[INFO][2023/01/29 05:32:58 AM] Optimization complete. (Solution: optimal)\n",
      "[INFO][2023/01/29 05:32:58 AM]  - Fates.FALSE_POSITIVE: 1374 (of 3630)\n",
      "[INFO][2023/01/29 05:32:58 AM]  - Fates.LINK: 831 (of 1348)\n",
      "[INFO][2023/01/29 05:32:58 AM]  - Fates.DIVIDE: 78 (of 168)\n",
      "[INFO][2023/01/29 05:32:58 AM]  - Fates.INITIALIZE_BORDER: 84 (of 226)\n",
      "[INFO][2023/01/29 05:32:58 AM]  - Fates.INITIALIZE_FRONT: 434 (of 747)\n",
      "[INFO][2023/01/29 05:32:58 AM]  - Fates.INITIALIZE_LAZY: 751 (of 2657)\n",
      "[INFO][2023/01/29 05:32:58 AM]  - Fates.TERMINATE_BORDER: 120 (of 245)\n",
      "[INFO][2023/01/29 05:32:58 AM]  - Fates.TERMINATE_BACK: 381 (of 525)\n",
      "[INFO][2023/01/29 05:32:58 AM]  - Fates.TERMINATE_LAZY: 846 (of 2860)\n",
      "[INFO][2023/01/29 05:32:58 AM]  - TOTAL: 12406 hypotheses\n",
      "[INFO][2023/01/29 05:32:58 AM] Completed optimization with 2799 tracks\n"
     ]
    },
    {
     "name": "stdout",
     "output_type": "stream",
     "text": [
      "GLPK Integer Optimizer 5.0\n",
      "14520 rows, 12406 columns, 17720 non-zeros\n",
      "12406 integer variables, all of which are binary\n",
      "Preprocessing...\n",
      "7260 rows, 12406 columns, 17720 non-zeros\n",
      "12406 integer variables, all of which are binary\n",
      "Scaling...\n",
      " A: min|aij| =  1.000e+00  max|aij| =  1.000e+00  ratio =  1.000e+00\n",
      "Problem data seem to be well scaled\n",
      "Constructing initial basis...\n",
      "Size of triangular part is 7260\n",
      "Solving LP relaxation...\n",
      "GLPK Simplex Optimizer 5.0\n",
      "7260 rows, 12406 columns, 17720 non-zeros\n",
      "*     0: obj =   3.924459078e+04 inf =   0.000e+00 (3464)\n",
      "Perturbing LP to avoid stalling [1300]...\n",
      "Removing LP perturbation [3377]...\n",
      "*  3377: obj =   1.899358173e+04 inf =   0.000e+00 (0)\n",
      "OPTIMAL LP SOLUTION FOUND\n",
      "Integer optimization begins...\n",
      "Long-step dual simplex will be used\n",
      "+  3377: mip =     not found yet >=              -inf        (1; 0)\n",
      "+  3377: >>>>>   1.899358173e+04 >=   1.899358173e+04   0.0% (1; 0)\n",
      "+  3377: mip =   1.899358173e+04 >=     tree is empty   0.0% (0; 1)\n",
      "INTEGER OPTIMAL SOLUTION FOUND\n"
     ]
    },
    {
     "name": "stderr",
     "output_type": "stream",
     "text": [
      "[INFO][2023/01/29 05:32:58 AM] Opening HDF file: /mnt/DATA/macrohet/segmentation/(6,8)_tracks_rescaled.h5...\n",
      "[INFO][2023/01/29 05:32:59 AM] Writing objects/obj_type_1\n",
      "[INFO][2023/01/29 05:32:59 AM] Writing labels/obj_type_1\n",
      "[INFO][2023/01/29 05:32:59 AM] Loading objects/obj_type_1 (28777, 5) (28777 filtered: None)\n",
      "[INFO][2023/01/29 05:32:59 AM] Writing properties/obj_type_1/area (28777,)\n",
      "[INFO][2023/01/29 05:32:59 AM] Writing properties/obj_type_1/major_axis_length (28777,)\n",
      "[INFO][2023/01/29 05:32:59 AM] Writing properties/obj_type_1/minor_axis_length (28777,)\n",
      "[INFO][2023/01/29 05:32:59 AM] Writing properties/obj_type_1/orientation (28777,)\n",
      "[INFO][2023/01/29 05:32:59 AM] Writing properties/obj_type_1/mean_intensity-0 (28777,)\n",
      "[INFO][2023/01/29 05:32:59 AM] Writing properties/obj_type_1/mean_intensity-1 (28777,)\n",
      "[INFO][2023/01/29 05:32:59 AM] Writing tracks/obj_type_1\n",
      "[INFO][2023/01/29 05:32:59 AM] Writing dummies/obj_type_1\n",
      "[INFO][2023/01/29 05:32:59 AM] Writing LBEP/obj_type_1\n",
      "[INFO][2023/01/29 05:32:59 AM] Writing fates/obj_type_1\n",
      "[INFO][2023/01/29 05:32:59 AM] Closing HDF file: /mnt/DATA/macrohet/segmentation/(6,8)_tracks_rescaled.h5\n",
      "[INFO][2023/01/29 05:32:59 AM] Ending BayesianTracker session\n"
     ]
    },
    {
     "data": {
      "application/vnd.jupyter.widget-view+json": {
       "model_id": "",
       "version_major": 2,
       "version_minor": 0
      },
      "text/plain": [
       "Segmenting position (6, 9):   0%|          | 0/75 [00:00<?, ?it/s]"
      ]
     },
     "metadata": {},
     "output_type": "display_data"
    },
    {
     "data": {
      "application/vnd.jupyter.widget-view+json": {
       "model_id": "",
       "version_major": 2,
       "version_minor": 0
      },
      "text/plain": [
       "Resizing masks in position (6, 9):   0%|          | 0/75 [00:00<?, ?it/s]"
      ]
     },
     "metadata": {},
     "output_type": "display_data"
    },
    {
     "data": {
      "application/vnd.jupyter.widget-view+json": {
       "model_id": "",
       "version_major": 2,
       "version_minor": 0
      },
      "text/plain": [
       "Resizing GFP images in position (6, 9):   0%|          | 0/75 [00:00<?, ?it/s]"
      ]
     },
     "metadata": {},
     "output_type": "display_data"
    },
    {
     "data": {
      "application/vnd.jupyter.widget-view+json": {
       "model_id": "",
       "version_major": 2,
       "version_minor": 0
      },
      "text/plain": [
       "Resizing RFP images in position (6, 9):   0%|          | 0/75 [00:00<?, ?it/s]"
      ]
     },
     "metadata": {},
     "output_type": "display_data"
    },
    {
     "name": "stderr",
     "output_type": "stream",
     "text": [
      "[INFO][2023/01/29 07:47:37 AM] Localizing objects from segmentation...\n",
      "[INFO][2023/01/29 07:47:37 AM] Found intensity_image data\n",
      "[INFO][2023/01/29 07:51:37 AM] Objects are of type: <class 'dict'>\n",
      "[INFO][2023/01/29 07:51:49 AM] ...Found 1087113 objects in 75 frames.\n",
      "[INFO][2023/01/29 07:51:50 AM] Opening HDF file: /mnt/DATA/macrohet/segmentation/(6,9)_objects_rescaled.h5...\n",
      "[INFO][2023/01/29 07:51:54 AM] Writing objects/obj_type_1\n",
      "[INFO][2023/01/29 07:51:54 AM] Writing labels/obj_type_1\n",
      "[INFO][2023/01/29 07:51:54 AM] Loading objects/obj_type_1 (27816, 5) (27816 filtered: None)\n",
      "[INFO][2023/01/29 07:51:54 AM] Writing properties/obj_type_1/area (27816,)\n",
      "[INFO][2023/01/29 07:51:54 AM] Writing properties/obj_type_1/major_axis_length (27816,)\n",
      "[INFO][2023/01/29 07:51:54 AM] Writing properties/obj_type_1/minor_axis_length (27816,)\n",
      "[INFO][2023/01/29 07:51:54 AM] Writing properties/obj_type_1/orientation (27816,)\n",
      "[INFO][2023/01/29 07:51:54 AM] Writing properties/obj_type_1/mean_intensity-0 (27816,)\n",
      "[INFO][2023/01/29 07:51:54 AM] Writing properties/obj_type_1/mean_intensity-1 (27816,)\n",
      "[INFO][2023/01/29 07:51:54 AM] Closing HDF file: /mnt/DATA/macrohet/segmentation/(6,9)_objects_rescaled.h5\n",
      "[INFO][2023/01/29 07:51:54 AM] Loaded btrack: /home/dayn/analysis/BayesianTracker/btrack/libs/libtracker.so\n",
      "[INFO][2023/01/29 07:51:54 AM] btrack (v0.5.0) library imported\n",
      "[INFO][2023/01/29 07:51:54 AM] Starting BayesianTracker session\n",
      "[INFO][2023/01/29 07:51:54 AM] Loading configuration file: /home/dayn/analysis/BayesianTracker/models/cell_config.json\n",
      "[INFO][2023/01/29 07:51:54 AM] Objects are of type: <class 'list'>\n",
      "[INFO][2023/01/29 07:51:55 AM] Starting tracking... \n",
      "[INFO][2023/01/29 07:51:55 AM] Update using: ['VISUAL', 'MOTION']\n",
      "[INFO][2023/01/29 07:51:55 AM] Tracking objects in frames 0 to 24 (of 75)...\n",
      "[INFO][2023/01/29 07:52:00 AM]  - Timing (Bayesian updates: 36.56ms, Linking: 2.33ms)\n",
      "[INFO][2023/01/29 07:52:00 AM]  - Probabilities (Link: 1.00000, Lost: 1.00000)\n",
      "[INFO][2023/01/29 07:52:00 AM]  - Stats (Active: 541, Lost: 1605, Conflicts resolved: 3536)\n",
      "[INFO][2023/01/29 07:52:00 AM] Tracking objects in frames 25 to 49 (of 75)...\n",
      "[INFO][2023/01/29 07:52:04 AM]  - Timing (Bayesian updates: 30.27ms, Linking: 1.81ms)\n",
      "[INFO][2023/01/29 07:52:04 AM]  - Probabilities (Link: 0.99982, Lost: 0.99970)\n",
      "[INFO][2023/01/29 07:52:04 AM]  - Stats (Active: 482, Lost: 2610, Conflicts resolved: 6220)\n",
      "[INFO][2023/01/29 07:52:04 AM] Tracking objects in frames 50 to 74 (of 75)...\n",
      "[INFO][2023/01/29 07:52:05 AM]  - Timing (Bayesian updates: 10.12ms, Linking: 1.08ms)\n",
      "[INFO][2023/01/29 07:52:05 AM]  - Probabilities (Link: 1.00000, Lost: 1.00000)\n",
      "[INFO][2023/01/29 07:52:05 AM] SUCCESS.\n",
      "[INFO][2023/01/29 07:52:05 AM]  - Found 2510 tracks in 75 frames (in 0.0s)\n",
      "[INFO][2023/01/29 07:52:05 AM]  - Inserted 2334 dummy objects to fill tracking gaps\n",
      "[INFO][2023/01/29 07:52:05 AM] Loading hypothesis model: cell_hypothesis\n",
      "[INFO][2023/01/29 07:52:05 AM] Calculating hypotheses (relax: True)...\n",
      "[INFO][2023/01/29 07:52:05 AM] Setting up constraints matrix for global optimisation...\n",
      "[INFO][2023/01/29 07:52:05 AM] Using GLPK options: {'tm_lim': 60000}...\n",
      "[INFO][2023/01/29 07:52:06 AM] Optimizing...\n",
      "[INFO][2023/01/29 07:52:06 AM] Optimization complete. (Solution: optimal)\n",
      "[INFO][2023/01/29 07:52:06 AM]  - Fates.FALSE_POSITIVE: 788 (of 2510)\n",
      "[INFO][2023/01/29 07:52:06 AM]  - Fates.LINK: 569 (of 895)\n",
      "[INFO][2023/01/29 07:52:06 AM]  - Fates.DIVIDE: 36 (of 97)\n",
      "[INFO][2023/01/29 07:52:06 AM]  - Fates.INITIALIZE_BORDER: 86 (of 184)\n",
      "[INFO][2023/01/29 07:52:06 AM]  - Fates.INITIALIZE_FRONT: 467 (of 718)\n",
      "[INFO][2023/01/29 07:52:06 AM]  - Fates.INITIALIZE_LAZY: 528 (of 1608)\n",
      "[INFO][2023/01/29 07:52:06 AM]  - Fates.TERMINATE_BORDER: 101 (of 191)\n",
      "[INFO][2023/01/29 07:52:06 AM]  - Fates.TERMINATE_BACK: 249 (of 285)\n",
      "[INFO][2023/01/29 07:52:06 AM]  - Fates.TERMINATE_LAZY: 767 (of 2034)\n",
      "[INFO][2023/01/29 07:52:06 AM]  - TOTAL: 8522 hypotheses\n",
      "[INFO][2023/01/29 07:52:06 AM] Completed optimization with 1941 tracks\n"
     ]
    },
    {
     "name": "stdout",
     "output_type": "stream",
     "text": [
      "GLPK Integer Optimizer 5.0\n",
      "10040 rows, 8522 columns, 12121 non-zeros\n",
      "8522 integer variables, all of which are binary\n",
      "Preprocessing...\n",
      "5020 rows, 8522 columns, 12121 non-zeros\n",
      "8522 integer variables, all of which are binary\n",
      "Scaling...\n",
      " A: min|aij| =  1.000e+00  max|aij| =  1.000e+00  ratio =  1.000e+00\n",
      "Problem data seem to be well scaled\n",
      "Constructing initial basis...\n",
      "Size of triangular part is 5020\n",
      "Solving LP relaxation...\n",
      "GLPK Simplex Optimizer 5.0\n",
      "5020 rows, 8522 columns, 12121 non-zeros\n",
      "*     0: obj =   2.620848664e+04 inf =   0.000e+00 (2152)\n",
      "Perturbing LP to avoid stalling [941]...\n",
      "Removing LP perturbation [2118]...\n",
      "*  2118: obj =   1.391599054e+04 inf =   0.000e+00 (0)\n",
      "OPTIMAL LP SOLUTION FOUND\n",
      "Integer optimization begins...\n",
      "Long-step dual simplex will be used\n",
      "+  2118: mip =     not found yet >=              -inf        (1; 0)\n",
      "+  2119: >>>>>   1.391732918e+04 >=   1.391732918e+04   0.0% (2; 0)\n",
      "+  2119: mip =   1.391732918e+04 >=     tree is empty   0.0% (0; 3)\n",
      "INTEGER OPTIMAL SOLUTION FOUND\n"
     ]
    },
    {
     "name": "stderr",
     "output_type": "stream",
     "text": [
      "[INFO][2023/01/29 07:52:07 AM] Opening HDF file: /mnt/DATA/macrohet/segmentation/(6,9)_tracks_rescaled.h5...\n",
      "[INFO][2023/01/29 07:52:07 AM] Writing objects/obj_type_1\n",
      "[INFO][2023/01/29 07:52:07 AM] Writing labels/obj_type_1\n",
      "[INFO][2023/01/29 07:52:07 AM] Loading objects/obj_type_1 (27816, 5) (27816 filtered: None)\n",
      "[INFO][2023/01/29 07:52:07 AM] Writing properties/obj_type_1/area (27816,)\n",
      "[INFO][2023/01/29 07:52:07 AM] Writing properties/obj_type_1/major_axis_length (27816,)\n",
      "[INFO][2023/01/29 07:52:07 AM] Writing properties/obj_type_1/minor_axis_length (27816,)\n",
      "[INFO][2023/01/29 07:52:07 AM] Writing properties/obj_type_1/orientation (27816,)\n",
      "[INFO][2023/01/29 07:52:07 AM] Writing properties/obj_type_1/mean_intensity-0 (27816,)\n",
      "[INFO][2023/01/29 07:52:07 AM] Writing properties/obj_type_1/mean_intensity-1 (27816,)\n",
      "[INFO][2023/01/29 07:52:08 AM] Writing tracks/obj_type_1\n",
      "[INFO][2023/01/29 07:52:08 AM] Writing dummies/obj_type_1\n",
      "[INFO][2023/01/29 07:52:08 AM] Writing LBEP/obj_type_1\n",
      "[INFO][2023/01/29 07:52:08 AM] Writing fates/obj_type_1\n",
      "[INFO][2023/01/29 07:52:08 AM] Closing HDF file: /mnt/DATA/macrohet/segmentation/(6,9)_tracks_rescaled.h5\n",
      "[INFO][2023/01/29 07:52:08 AM] Ending BayesianTracker session\n"
     ]
    }
   ],
   "source": [
    "### define positions to do\n",
    "positions = [(3,8), (4,5), (5,4), (5,8)]\n",
    "### iterate over positions\n",
    "# for row, column in tqdm(positions, desc = f'Progress through different positions'):\n",
    "for (row, column), info in tqdm(assay_layout.iterrows(), \n",
    "                                desc = 'Progress through positions',\n",
    "                                total = len(assay_layout)):\n",
    "    if os.path.exists(f\"/mnt/DATA/macrohet/segmentation/({row},{column})_tracks_rescaled.h5\"):\n",
    "        print(f'Position {row, column} already completed')\n",
    "        continue\n",
    "    ### load images into memory?\n",
    "    images = tile.compile_mosaic(\n",
    "                                 image_dir, \n",
    "                                 metadata, \n",
    "                                 row, \n",
    "                                 column, \n",
    "                                 set_plane = 'sum_proj',\n",
    "                                 ).astype(np.uint16)\n",
    "    ### define gfp input images for segmentation\n",
    "    input_images = images[:,0,...]\n",
    "    ### define empty mask stack to append each mask frame to\n",
    "    masks_stack = list()\n",
    "    ### iterate over frames and segment\n",
    "    for n, frame in tqdm(enumerate(input_images), total = len(input_images), \n",
    "                         desc = f'Segmenting position {row, column}', leave = False):\n",
    "        ### decide whether to compute on the fly or not\n",
    "        frame = frame.compute().compute().astype(np.uint16)\n",
    "        ### segment\n",
    "        masks, flows, styles, diams = model.eval(\n",
    "                                                 frame, \n",
    "                                                 channels = [0,0], \n",
    "                                                 diameter = 325, \n",
    "                                                 min_size = 2500, \n",
    "                                                 )\n",
    "        masks_stack.append(masks)\n",
    "    ### make a stack out of this using dask\n",
    "    masks_stack = da.stack(masks_stack, axis = 0)\n",
    "    ### reorder the channel axis so that localisation can measure intensity\n",
    "    gfp = images[:,0,...]\n",
    "    rfp = images[:,1,...]\n",
    "#     ### stack together using dask \n",
    "#     images = da.stack([gfp,rfp], axis = -1)\n",
    "#     ### locaslise objects and measure properties\n",
    "#     objects = btrack.utils.segmentation_to_objects(\n",
    "#                                                     masks_stack, \n",
    "#                                                     images,\n",
    "#                                                     properties = tuple(feat),\n",
    "#                                                     use_weighted_centroid = False, \n",
    "#                                                     )\n",
    "#     ### filter small objects out \n",
    "#     objects = [o for o in objects if o.properties['area'] > 2500]\n",
    "#     ### save objects out as insurance\n",
    "#     with btrack.dataio.HDF5FileHandler(\n",
    "#                                        f'/mnt/DATA/macrohet/segmentation/({row},{column})_objects_d325.h5',\n",
    "#                                        'w', \n",
    "#                                        obj_type='obj_type_1',\n",
    "#                                        ) as hdf:\n",
    "#                                         hdf.write_segmentation(masks_stack)\n",
    "#                                         hdf.write_objects(objects)\n",
    "    ### define new array for resized masks\n",
    "    masks_stack_resized = list()\n",
    "    ### now conduct rescaling and save out as seperate objects prior to tracking\n",
    "    for t in tqdm(range(len(masks_stack)), \n",
    "                  desc = f'Resizing masks in position {row, column}', leave = False):\n",
    "        ### resize mask to be 1200 pixels squared\n",
    "        mask_resized = rescale(masks_stack[t], 1200/6048, anti_aliasing=False)\n",
    "        ### rescale so that pixel values are 16 bit?\n",
    "        mask_resized *= 2**16/mask_resized.max()   \n",
    "        masks_stack_resized.append(mask_resized.astype(np.uint16))\n",
    "    masks_stack_resized = da.stack(masks_stack_resized, axis = 0)\n",
    "    ### now resize the gfp and rfp\n",
    "    gfp_images_resized = list()\n",
    "    for t in tqdm(range(len(gfp)), \n",
    "                  desc = f'Resizing GFP images in position {row, column}', leave = False):\n",
    "        gfp_image_resized = rescale(gfp[t], 1200/6048, anti_aliasing=False)\n",
    "        gfp_images_resized.append(gfp_image_resized)\n",
    "    gfp_images_resized = da.stack(gfp_images_resized, axis = 0)\n",
    "    rfp_images_resized = list()\n",
    "    for t in tqdm(range(len(rfp)),  \n",
    "                  desc = f'Resizing RFP images in position {row, column}', leave = False):\n",
    "        rfp_image_resized = rescale(rfp[t], 1200/6048, anti_aliasing=False)\n",
    "        rfp_images_resized.append(rfp_image_resized)\n",
    "    rfp_images_resized = da.stack(rfp_images_resized, axis = 0)\n",
    "    ### stack together resized images for localisation\n",
    "    resized_images = da.stack([gfp_images_resized,rfp_images_resized], axis = -1)\n",
    "    ### define features to measure \n",
    "    feat = [\n",
    "      \"area\",\n",
    "      \"major_axis_length\",\n",
    "      \"minor_axis_length\",\n",
    "      \"orientation\",\n",
    "      \"mean_intensity\",\n",
    "        ]\n",
    "    ### localise resized images\n",
    "    objects = btrack.utils.segmentation_to_objects(\n",
    "                                                    masks_stack_resized, \n",
    "                                                    resized_images,\n",
    "                                                    properties = tuple(feat),\n",
    "                                                    use_weighted_centroid = False, \n",
    "                                                )\n",
    "    ### filter out small objects\n",
    "    objects = [o for o in objects if o.properties['area'] > 500]\n",
    "    ### save out resized objects\n",
    "    with btrack.dataio.HDF5FileHandler(\n",
    "                                        f'/mnt/DATA/macrohet/segmentation/({row},{column})_objects_rescaled.h5',#\n",
    "                                        'w', \n",
    "                                        obj_type='obj_type_1',\n",
    "                                        ) as hdf:\n",
    "                                        hdf.write_segmentation(masks_stack_resized)\n",
    "                                        hdf.write_objects(objects)\n",
    "    ### redefine features so that both channels are included in track measurements\n",
    "    feat = list(objects[0].properties.keys())\n",
    "    # initialise a tracker session using a context manager\n",
    "    with btrack.BayesianTracker() as tracker:\n",
    "\n",
    "        # configure the tracker using a config file\n",
    "        tracker.configure(config)\n",
    "        tracker.max_search_radius = 20\n",
    "        tracker.tracking_updates = [\"MOTION\", \"VISUAL\"]\n",
    "        tracker.features = feat\n",
    "\n",
    "        # append the objects to be tracked\n",
    "        tracker.append(objects)\n",
    "\n",
    "        # set the tracking volume\n",
    "        tracker.volume=((0, masks_stack_resized.shape[-2]), (0, masks_stack_resized.shape[-1]))\n",
    "\n",
    "        # track them (in interactive mode)\n",
    "        tracker.track(step_size=25)\n",
    "\n",
    "        # generate hypotheses and run the global optimizer\n",
    "        tracker.optimize()\n",
    "\n",
    "        # get the tracks in a format for napari visualization\n",
    "        data, properties, graph = tracker.to_napari()\n",
    "\n",
    "        # store the tracks\n",
    "        tracks = tracker.tracks\n",
    "\n",
    "        # store the configuration\n",
    "        cfg = tracker.configuration\n",
    "\n",
    "        # export the track data \n",
    "        tracker.export(f\"/mnt/DATA/macrohet/segmentation/({row},{column})_tracks_rescaled.h5\", obj_type=\"obj_type_1\")\n",
    "    \n",
    "    ### notify job is finished\n",
    "    send_sms(f'Position {row},{column} tracked')"
   ]
  },
  {
   "cell_type": "code",
   "execution_count": 57,
   "id": "deaf0b88",
   "metadata": {},
   "outputs": [
    {
     "name": "stderr",
     "output_type": "stream",
     "text": [
      "/home/dayn/miniconda3/envs/aero/lib/python3.9/site-packages/napari_tools_menu/__init__.py:194: FutureWarning: Public access to Window.qt_viewer is deprecated and will be removed in\n",
      "v0.5.0. It is considered an \"implementation detail\" of the napari\n",
      "application, not part of the napari viewer model. If your use case\n",
      "requires access to qt_viewer, please open an issue to discuss.\n",
      "  self.tools_menu = ToolsMenu(self, self.qt_viewer.viewer)\n"
     ]
    },
    {
     "data": {
      "text/plain": [
       "<Tracks layer 'Tracks 5,4' at 0x7f41173612b0>"
      ]
     },
     "execution_count": 57,
     "metadata": {},
     "output_type": "execute_result"
    }
   ],
   "source": [
    "v = napari.Viewer()\n",
    "v.add_image(images, \n",
    "            channel_axis = -1, \n",
    "            colormap=['green', 'magenta'], \n",
    "            contrast_limits=[[100,6000],[0,3000]])\n",
    "# for key in masks_dict.keys():\n",
    "#     v.add_labels(masks_dict[key][0], name = key)\n",
    "v.add_labels(\n",
    "    masks, \n",
    "    name = 'masks', \n",
    "#     color = {1:'yellow'}, \n",
    "    opacity = 0.2\n",
    ")\n",
    "v.add_tracks(\n",
    "                    data, \n",
    "                    properties=properties, \n",
    "                    graph=graph, \n",
    "                    name=\"Tracks 5,4\", \n",
    "                    blending=\"translucent\",\n",
    "                    visible=False,\n",
    "                )\n"
   ]
  }
 ],
 "metadata": {
  "kernelspec": {
   "display_name": "aero",
   "language": "python",
   "name": "aero"
  },
  "language_info": {
   "codemirror_mode": {
    "name": "ipython",
    "version": 3
   },
   "file_extension": ".py",
   "mimetype": "text/x-python",
   "name": "python",
   "nbconvert_exporter": "python",
   "pygments_lexer": "ipython3",
   "version": "3.9.12"
  }
 },
 "nbformat": 4,
 "nbformat_minor": 5
}
