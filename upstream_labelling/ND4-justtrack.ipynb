{
 "cells": [
  {
   "cell_type": "markdown",
   "id": "2db2372a-7f8d-417b-9b58-140baf6830b2",
   "metadata": {
    "jp-MarkdownHeadingCollapsed": true
   },
   "source": [
    "# DEV"
   ]
  },
  {
   "cell_type": "code",
   "execution_count": 14,
   "id": "7a60b3d0-6a76-4657-afd9-bccbeab47fcb",
   "metadata": {},
   "outputs": [
    {
     "name": "stdout",
     "output_type": "stream",
     "text": [
      "nvcc: NVIDIA (R) Cuda compiler driver\n",
      "Copyright (c) 2005-2023 NVIDIA Corporation\n",
      "Built on Wed_Nov_22_10:17:15_PST_2023\n",
      "Cuda compilation tools, release 12.3, V12.3.107\n",
      "Build cuda_12.3.r12.3/compiler.33567101_0\n",
      "Fri Oct 25 13:46:36 2024       \n",
      "+-----------------------------------------------------------------------------------------+\n",
      "| NVIDIA-SMI 555.42.06              Driver Version: 555.42.06      CUDA Version: 12.5     |\n",
      "|-----------------------------------------+------------------------+----------------------+\n",
      "| GPU  Name                 Persistence-M | Bus-Id          Disp.A | Volatile Uncorr. ECC |\n",
      "| Fan  Temp   Perf          Pwr:Usage/Cap |           Memory-Usage | GPU-Util  Compute M. |\n",
      "|                                         |                        |               MIG M. |\n",
      "|=========================================+========================+======================|\n",
      "|   0  NVIDIA RTX A6000               Off |   00000000:65:00.0  On |                  Off |\n",
      "| 30%   43C    P3             62W /  300W |    1104MiB /  49140MiB |      3%      Default |\n",
      "|                                         |                        |                  N/A |\n",
      "+-----------------------------------------+------------------------+----------------------+\n",
      "                                                                                         \n",
      "+-----------------------------------------------------------------------------------------+\n",
      "| Processes:                                                                              |\n",
      "|  GPU   GI   CI        PID   Type   Process name                              GPU Memory |\n",
      "|        ID   ID                                                               Usage      |\n",
      "|=========================================================================================|\n",
      "|    0   N/A  N/A      2523      G   /usr/lib/xorg/Xorg                            447MiB |\n",
      "|    0   N/A  N/A      3966      G   /usr/bin/gnome-shell                          226MiB |\n",
      "|    0   N/A  N/A    427336      G   ...AAAAAAAACAAAAAAAAAA= --shared-files        139MiB |\n",
      "|    0   N/A  N/A   1635241      G   ...seed-version=20240827-180123.409000        147MiB |\n",
      "|    0   N/A  N/A   1635404      G   ...yOnDemand --variations-seed-version         26MiB |\n",
      "|    0   N/A  N/A   1641094      G   ...miniconda3/envs/godspeed/bin/python          4MiB |\n",
      "|    0   N/A  N/A   1645391      G   ...miniconda3/envs/godspeed/bin/python         38MiB |\n",
      "+-----------------------------------------------------------------------------------------+\n"
     ]
    },
    {
     "name": "stderr",
     "output_type": "stream",
     "text": [
      "INFO:cellpose.core:** TORCH CUDA version installed and working. **\n",
      "INFO:cellpose.core:** TORCH CUDA version installed and working. **\n",
      "INFO:cellpose.core:>>>> using GPU (CUDA)\n",
      "INFO:cellpose.models:>> cyto << model set to be used\n",
      "INFO:cellpose.models:>>>> loading model /home/dayn/.cellpose/models/cytotorch_0\n",
      "INFO:cellpose.models:>>>> model diam_mean =  30.000 (ROIs rescaled to this size during training)\n"
     ]
    },
    {
     "name": "stdout",
     "output_type": "stream",
     "text": [
      ">>> GPU activated? YES\n",
      "/home/dayn/.trackastra/.models/general_2d already downloaded, skipping.\n"
     ]
    },
    {
     "name": "stderr",
     "output_type": "stream",
     "text": [
      "INFO:trackastra.model.model:Loading model state from /home/dayn/.trackastra/.models/general_2d/model.pt\n",
      "INFO:trackastra.model.model_api:Using device cuda\n"
     ]
    }
   ],
   "source": [
    "import btrack\n",
    "import zarr\n",
    "import os\n",
    "import napari\n",
    "from macrohet import dataio\n",
    "import glob\n",
    "import numpy as np\n",
    "import pandas as pd\n",
    "from tqdm.auto import tqdm\n",
    "import torch\n",
    "from trackastra.model import Trackastra\n",
    "from trackastra.tracking import graph_to_ctc, graph_to_napari_tracks\n",
    "\n",
    "!nvcc --version\n",
    "!nvidia-smi\n",
    "\n",
    "from cellpose import core, utils, io, models, metrics\n",
    "use_GPU = core.use_gpu()\n",
    "yn = ['NO', 'YES']\n",
    "print(f'>>> GPU activated? {yn[use_GPU]}')\n",
    "cellpose_model = models.Cellpose(gpu=True, model_type='cyto')\n",
    "\n",
    "device = \"cuda\" if torch.cuda.is_available() else \"cpu\"\n",
    "# Load a pretrained model\n",
    "trackastra_model = Trackastra.from_pretrained(\"general_2d\", device=device)"
   ]
  },
  {
   "cell_type": "code",
   "execution_count": 15,
   "id": "4df7b13b-0d5c-4f95-8c87-c9ba1a2dcc19",
   "metadata": {},
   "outputs": [],
   "source": [
    "import h5py\n",
    "\n",
    "# # Assuming 'segmentation' is your numpy array\n",
    "# with h5py.File(f'/mnt/SYNO/macrohet_syno/data/{expt_ID}/labels/z3_cpv3/{acq_ID}.h5', 'w') as f:\n",
    "#     # Save the array with compression for efficient storage\n",
    "#     f.create_dataset('segmentation', data=tracking_input_segmentation, compression=\"gzip\")"
   ]
  },
  {
   "cell_type": "code",
   "execution_count": 19,
   "id": "7324fd59-2759-4d7a-9a23-533e04562d04",
   "metadata": {},
   "outputs": [],
   "source": [
    "expt_ID = 'ND0004'\n",
    "base_dir = f'/mnt/SYNO/macrohet_syno/data/{expt_ID}/'\n",
    "acq_ID = (4, 7)"
   ]
  },
  {
   "cell_type": "code",
   "execution_count": 24,
   "id": "bb32b375-7576-4239-85c5-d4d503de52a4",
   "metadata": {},
   "outputs": [
    {
     "name": "stdout",
     "output_type": "stream",
     "text": [
      "CPU times: user 16.1 s, sys: 2.69 s, total: 18.8 s\n",
      "Wall time: 18.8 s\n"
     ]
    }
   ],
   "source": [
    "%%time\n",
    "with h5py.File(f'/mnt/SYNO/macrohet_syno/data/{expt_ID}/labels/z3_cpv3/{acq_ID}.h5', 'r') as f:\n",
    "    tracking_input_segmentation = f['segmentation'][:]"
   ]
  },
  {
   "cell_type": "code",
   "execution_count": 20,
   "id": "5afd12f0-9d7a-4691-bd17-4f81354676eb",
   "metadata": {},
   "outputs": [],
   "source": [
    "image_dir = os.path.join(base_dir, f'acquisition/zarr/{acq_ID}.zarr')\n",
    "zarr_group = zarr.open(image_dir, mode='r')\n",
    "segmentation_input = zarr_group.images[:,1,2,...]"
   ]
  },
  {
   "cell_type": "code",
   "execution_count": 59,
   "id": "d66ad5a2-fd91-4300-b76b-f788769494f8",
   "metadata": {},
   "outputs": [],
   "source": [
    "images = zarr_group.images[...]"
   ]
  },
  {
   "cell_type": "code",
   "execution_count": 29,
   "id": "92a4a43d-75dc-479c-81c3-a9c717e37923",
   "metadata": {},
   "outputs": [
    {
     "data": {
      "text/plain": [
       "152"
      ]
     },
     "execution_count": 29,
     "metadata": {},
     "output_type": "execute_result"
    }
   ],
   "source": [
    "len(segmentation_input[:-2])"
   ]
  },
  {
   "cell_type": "code",
   "execution_count": 50,
   "id": "a94e0949-0488-4860-bb74-a3115868bf70",
   "metadata": {},
   "outputs": [
    {
     "name": "stdout",
     "output_type": "stream",
     "text": [
      "Frame 35 was blank. Copied from frame 34.\n",
      "Frame 62 was blank. Copied from frame 61.\n",
      "Frame 84 was blank. Copied from frame 83.\n",
      "Frame 98 was blank. Copied from frame 97.\n",
      "Frame 100 was blank. Copied from frame 99.\n",
      "Frame 107 was blank. Copied from frame 106.\n"
     ]
    }
   ],
   "source": [
    "# Check if the first frame is blank and, if so, copy from the first non-blank frame\n",
    "if np.all(tracking_input_segmentation[0] == 0):\n",
    "    # Find the first non-blank frame\n",
    "    first_non_blank_found = False\n",
    "    for j in range(1, tracking_input_segmentation.shape[0]):\n",
    "        if not np.all(tracking_input_segmentation[j] == 0):  # Check if frame j is non-blank\n",
    "            tracking_input_segmentation[0] = tracking_input_segmentation[j]\n",
    "            first_non_blank_found = True\n",
    "            print(f\"First frame was blank. Copied from frame {j}.\")\n",
    "            break\n",
    "    if not first_non_blank_found:\n",
    "        error_log.append(\"All frames are blank. Skipping segmentation processing.\")\n",
    "        print(\"Error: All frames are blank. No processing will be done.\")\n",
    "        # Exit if all frames are blank since there's nothing to process\n",
    "        raise ValueError(\"Segmentation data is entirely blank.\")\n",
    " # Iterate over frames and check for blank frames, starting from the second frame\n",
    "for i in range(1, tracking_input_segmentation.shape[0]):\n",
    "    if np.all(tracking_input_segmentation[i] == 0):  # Check if the current frame is blank\n",
    "        # Copy the previous non-blank frame if available\n",
    "        if np.all(tracking_input_segmentation[i-1] == 0):\n",
    "            error_log.append(f\"Frame {i} and previous frames are blank, unable to copy.\")\n",
    "            print(f\"Error: Frame {i} is blank and cannot be copied from previous frames.\")\n",
    "            continue\n",
    "        else:\n",
    "            tracking_input_segmentation[i] = tracking_input_segmentation[i-1]\n",
    "            print(f\"Frame {i} was blank. Copied from frame {i-1}.\")\n",
    "    else:\n",
    "        # Track the last non-blank frame as we go\n",
    "        last_non_blank_frame = tracking_input_segmentation[i]"
   ]
  },
  {
   "cell_type": "code",
   "execution_count": 67,
   "id": "d92db16e-4427-47d4-959b-babbfaca205a",
   "metadata": {},
   "outputs": [],
   "source": [
    "# Assuming 'segmentation' is your numpy array\n",
    "with h5py.File(f'/mnt/SYNO/macrohet_syno/data/{expt_ID}/labels/z3_cpv3/{acq_ID}.h5', 'w') as f:\n",
    "    # Save the array with compression for efficient storage\n",
    "    f.create_dataset('segmentation', data=tracking_input_segmentation, compression=\"gzip\")"
   ]
  },
  {
   "cell_type": "code",
   "execution_count": 51,
   "id": "23988211-4e45-482e-a40f-a3fa89686030",
   "metadata": {},
   "outputs": [
    {
     "name": "stderr",
     "output_type": "stream",
     "text": [
      "INFO:trackastra.model.model_api:Predicting weights for candidate graph\n",
      "INFO:trackastra.data.wrfeat:Extracting features from 154 detections\n",
      "INFO:trackastra.data.wrfeat:Using single process for feature extraction\n",
      "Extracting features: 100%|███████████████████████████████████████████████████████████| 154/154 [05:36<00:00,  2.18s/it]\n",
      "INFO:trackastra.model.model_api:Building windows\n",
      "Building windows: 100%|████████████████████████████████████████████████████████████| 151/151 [00:00<00:00, 7708.99it/s]\n",
      "INFO:trackastra.model.model_api:Predicting windows\n",
      "Computing associations: 100%|████████████████████████████████████████████████████████| 151/151 [01:13<00:00,  2.05it/s]\n",
      "INFO:trackastra.model.model_api:Running greedy tracker\n",
      "INFO:trackastra.tracking.tracking:Build candidate graph with delta_t=1\n",
      "INFO:trackastra.tracking.tracking:Added 160654 vertices, 183698 edges                                                  \n",
      "INFO:trackastra.tracking.tracking:Running greedy tracker\n",
      "Greedily matched edges:  83%|███████████████████████████████████████▏       | 153212/183698 [00:02<00:00, 55404.25it/s]\n",
      "100%|█████████████████████████████████████████████████████████████████████████| 11321/11321 [00:00<00:00, 38355.80it/s]\n"
     ]
    }
   ],
   "source": [
    "track_graph = trackastra_model.track(segmentation_input, tracking_input_segmentation, mode=\"greedy_nodiv\")  # or mode=\"ilp\", or \"greedy_nodiv\"\n",
    "\n",
    "tracks, napari_tracks_graph, _ = graph_to_napari_tracks(track_graph)"
   ]
  },
  {
   "cell_type": "code",
   "execution_count": 56,
   "id": "bf644d03-7f9f-4511-ace8-95cad5d75540",
   "metadata": {},
   "outputs": [],
   "source": [
    "mphi_channel_ID = 1\n",
    "mtb_channel_ID = 0\n",
    "mtb_load_thresh = 480"
   ]
  },
  {
   "cell_type": "code",
   "execution_count": 60,
   "id": "8c0d6112-22df-4970-98ce-0c3a7b8e9542",
   "metadata": {},
   "outputs": [
    {
     "data": {
      "text/plain": [
       "(154, 2, 3, 6048, 6048)"
      ]
     },
     "execution_count": 60,
     "metadata": {},
     "output_type": "execute_result"
    }
   ],
   "source": [
    "images.shape"
   ]
  },
  {
   "cell_type": "code",
   "execution_count": 66,
   "id": "7a3fa0b8-cfda-4ddf-a329-255aba5f1577",
   "metadata": {},
   "outputs": [
    {
     "data": {
      "text/plain": [
       "(154, 6048, 6048)"
      ]
     },
     "execution_count": 66,
     "metadata": {},
     "output_type": "execute_result"
    }
   ],
   "source": [
    "mtb_channel.shape"
   ]
  },
  {
   "cell_type": "code",
   "execution_count": 64,
   "id": "9f558ec3-2d08-47c9-b6bc-9d1867ab6c00",
   "metadata": {},
   "outputs": [],
   "source": [
    "mphi_channel = np.max(images[:,mphi_channel_ID,...], axis=1)\n",
    "mtb_channel = np.max(images[:,mtb_channel_ID,...], axis = 1)"
   ]
  },
  {
   "cell_type": "code",
   "execution_count": 69,
   "id": "62e4326a-9e21-4da4-8f20-322cc6096abc",
   "metadata": {},
   "outputs": [
    {
     "name": "stderr",
     "output_type": "stream",
     "text": [
      "[INFO][2024/10/25 02:58:37 pm] Opening HDF file: /mnt/SYNO/macrohet_syno/data/ND0004/labels/cpv3/(4, 7).h5...\n",
      "INFO:btrack.io.hdf:Opening HDF file: /mnt/SYNO/macrohet_syno/data/ND0004/labels/cpv3/(4, 7).h5...\n",
      "[INFO][2024/10/25 02:58:55 pm] Loading segmentation (154, 6048, 6048)\n",
      "INFO:btrack.io.hdf:Loading segmentation (154, 6048, 6048)\n",
      "[INFO][2024/10/25 02:58:55 pm] Closing HDF file: /mnt/SYNO/macrohet_syno/data/ND0004/labels/cpv3/(4, 7).h5\n",
      "INFO:btrack.io.hdf:Closing HDF file: /mnt/SYNO/macrohet_syno/data/ND0004/labels/cpv3/(4, 7).h5\n"
     ]
    }
   ],
   "source": [
    "# load the original cellpose segmentation\n",
    "with btrack.io.HDF5FileHandler(os.path.join(f'/mnt/SYNO/macrohet_syno/data/{expt_ID}/labels/cpv3/{acq_ID}.h5'), #macrohet_seg_model \n",
    "                                           'r', \n",
    "                                           obj_type='obj_type_1'\n",
    "                                           ) as reader:\n",
    "                original_segmentation = reader.segmentation"
   ]
  },
  {
   "cell_type": "code",
   "execution_count": 76,
   "id": "e6ba4e25-3ae4-49b6-aa35-6530237d8766",
   "metadata": {},
   "outputs": [
    {
     "name": "stdout",
     "output_type": "stream",
     "text": [
      "Reading metadata XML file...\n"
     ]
    },
    {
     "data": {
      "application/vnd.jupyter.widget-view+json": {
       "model_id": "1049dfd06db442afb0d7b56dbff96717",
       "version_major": 2,
       "version_minor": 0
      },
      "text/plain": [
       "0it [00:00, ?it/s]"
      ]
     },
     "metadata": {},
     "output_type": "display_data"
    },
    {
     "name": "stdout",
     "output_type": "stream",
     "text": [
      "Extracting metadata complete!\n",
      "Reading metadata XML file...\n",
      "Extracting metadata complete!\n"
     ]
    }
   ],
   "source": [
    "\n",
    "expt_ID = 'ND0004'\n",
    "base_dir = f'/mnt/SYNO/macrohet_syno/data/{expt_ID}/'\n",
    "metadata_fn = glob.glob(os.path.join(base_dir, 'acquisition/Images/Index*xml'))[0]\n",
    "metadata = dataio.read_harmony_metadata(metadata_fn)  \n",
    "metadata_path = glob.glob(os.path.join(base_dir, 'acquisition/Assaylayout/*.xml'))[0]\n",
    "assay_layout = dataio.read_harmony_metadata(metadata_path, assay_layout=True,replicate_number=True)# mask_exist=True,  image_dir = image_dir, image_metadata = metadata)\n",
    "image_resolution = float(metadata['ImageResolutionX'].iloc[0])\n",
    "meters_area_per_pixel = image_resolution**2\n",
    "mum_sq_scale_factor = (1E-6)**2\n",
    "pixel_to_mum_sq_scale_factor = meters_area_per_pixel/mum_sq_scale_factor\n"
   ]
  },
  {
   "cell_type": "code",
   "execution_count": 78,
   "id": "116ac295-f5ca-4ebd-aff8-6db1cbf7f75d",
   "metadata": {},
   "outputs": [],
   "source": [
    "track_dfs = []"
   ]
  },
  {
   "cell_type": "code",
   "execution_count": 84,
   "id": "34558480-429f-47ea-b5d6-38ec40153785",
   "metadata": {},
   "outputs": [],
   "source": [
    "# Filter tracks with length greater than 75\n",
    "tracks = tracks.groupby('ID').filter(lambda x: len(x) > 75)\n"
   ]
  },
  {
   "cell_type": "code",
   "execution_count": 85,
   "id": "eb2864e6-ee56-41d3-b35c-57ee7f2b3959",
   "metadata": {},
   "outputs": [
    {
     "data": {
      "text/plain": [
       "<bound method add_tracks of Viewer(camera=Camera(center=(0.0, 2943.6334452326805, 3762.7948177219982), zoom=0.16257440476190482, angles=(0.0, 0.0, 90.0), perspective=0.0, mouse_pan=True, mouse_zoom=True), cursor=Cursor(position=(0.0, 92.0, 4127.706531805513, -905.8367103616218), scaled=True, style=<CursorStyle.STANDARD: 'standard'>, size=1.0), dims=Dims(ndim=4, ndisplay=2, order=(0, 1, 2, 3), axis_labels=('0', '1', '2', '3'), rollable=(True, True, True, True), range=(RangeTuple(start=0.0, stop=153.0, step=1.0), RangeTuple(start=0.0, stop=153.0, step=1.0), RangeTuple(start=0.0, stop=6047.0, step=1.0), RangeTuple(start=0.0, stop=6047.0, step=1.0)), margin_left=(0.0, 0.0, 0.0, 0.0), margin_right=(0.0, 0.0, 0.0, 0.0), point=(0.0, 92.0, 3023.0, 3023.0), last_used=0), grid=GridCanvas(stride=1, shape=(-1, -1), enabled=False), layers=[<Image layer 'segmentation_input' at 0x7f6150a71960>, <Labels layer 'tracking_input_segmentation' at 0x7f654c93d120>, <Tracks layer 'tracks' at 0x7f6150c37fd0>, <Tracks layer 'tracks [1]' at 0x7f61525585e0>, <Image layer 'mask' at 0x7f615052f190>, <Image layer 'thresholded_mtb_channel' at 0x7f6150958fa0>], help='use <2> for transform', status='', tooltip=Tooltip(visible=False, text=''), theme='dark', title='napari', mouse_over_canvas=False, mouse_move_callbacks=[], mouse_drag_callbacks=[], mouse_double_click_callbacks=[], mouse_wheel_callbacks=[<function dims_scroll at 0x7f655448e290>], _persisted_mouse_event={}, _mouse_drag_gen={}, _mouse_wheel_gen={}, _keymap={})>"
      ]
     },
     "execution_count": 85,
     "metadata": {},
     "output_type": "execute_result"
    }
   ],
   "source": [
    "viewer.add_tracks"
   ]
  },
  {
   "cell_type": "code",
   "execution_count": 89,
   "id": "6b4ec42b-c55a-4182-9711-cab9bd5936b0",
   "metadata": {},
   "outputs": [],
   "source": [
    "# Filter tracks with length greater than 75\n",
    "tracks = tracks.groupby('ID').filter(lambda x: len(x) > 75)\n"
   ]
  },
  {
   "cell_type": "code",
   "execution_count": 90,
   "id": "adeddd0a-9a40-46f3-9e5b-b6e9d8627ec1",
   "metadata": {
    "scrolled": true
   },
   "outputs": [
    {
     "data": {
      "application/vnd.jupyter.widget-view+json": {
       "model_id": "",
       "version_major": 2,
       "version_minor": 0
      },
      "text/plain": [
       "iterating over tracks:   0%|          | 0/364 [00:00<?, ?it/s]"
      ]
     },
     "metadata": {},
     "output_type": "display_data"
    },
    {
     "data": {
      "application/vnd.jupyter.widget-view+json": {
       "model_id": "",
       "version_major": 2,
       "version_minor": 0
      },
      "text/plain": [
       "Iterating over frames for track ID 5:   0%|          | 0/154 [00:00<?, ?it/s]"
      ]
     },
     "metadata": {},
     "output_type": "display_data"
    },
    {
     "data": {
      "application/vnd.jupyter.widget-view+json": {
       "model_id": "",
       "version_major": 2,
       "version_minor": 0
      },
      "text/plain": [
       "Iterating over frames for track ID 9:   0%|          | 0/154 [00:00<?, ?it/s]"
      ]
     },
     "metadata": {},
     "output_type": "display_data"
    },
    {
     "data": {
      "application/vnd.jupyter.widget-view+json": {
       "model_id": "",
       "version_major": 2,
       "version_minor": 0
      },
      "text/plain": [
       "Iterating over frames for track ID 13:   0%|          | 0/89 [00:00<?, ?it/s]"
      ]
     },
     "metadata": {},
     "output_type": "display_data"
    },
    {
     "data": {
      "application/vnd.jupyter.widget-view+json": {
       "model_id": "",
       "version_major": 2,
       "version_minor": 0
      },
      "text/plain": [
       "Iterating over frames for track ID 14:   0%|          | 0/93 [00:00<?, ?it/s]"
      ]
     },
     "metadata": {},
     "output_type": "display_data"
    },
    {
     "data": {
      "application/vnd.jupyter.widget-view+json": {
       "model_id": "",
       "version_major": 2,
       "version_minor": 0
      },
      "text/plain": [
       "Iterating over frames for track ID 16:   0%|          | 0/115 [00:00<?, ?it/s]"
      ]
     },
     "metadata": {},
     "output_type": "display_data"
    },
    {
     "data": {
      "application/vnd.jupyter.widget-view+json": {
       "model_id": "",
       "version_major": 2,
       "version_minor": 0
      },
      "text/plain": [
       "Iterating over frames for track ID 17:   0%|          | 0/154 [00:00<?, ?it/s]"
      ]
     },
     "metadata": {},
     "output_type": "display_data"
    },
    {
     "data": {
      "application/vnd.jupyter.widget-view+json": {
       "model_id": "",
       "version_major": 2,
       "version_minor": 0
      },
      "text/plain": [
       "Iterating over frames for track ID 21:   0%|          | 0/147 [00:00<?, ?it/s]"
      ]
     },
     "metadata": {},
     "output_type": "display_data"
    },
    {
     "data": {
      "application/vnd.jupyter.widget-view+json": {
       "model_id": "",
       "version_major": 2,
       "version_minor": 0
      },
      "text/plain": [
       "Iterating over frames for track ID 22:   0%|          | 0/122 [00:00<?, ?it/s]"
      ]
     },
     "metadata": {},
     "output_type": "display_data"
    },
    {
     "data": {
      "application/vnd.jupyter.widget-view+json": {
       "model_id": "",
       "version_major": 2,
       "version_minor": 0
      },
      "text/plain": [
       "Iterating over frames for track ID 32:   0%|          | 0/99 [00:00<?, ?it/s]"
      ]
     },
     "metadata": {},
     "output_type": "display_data"
    },
    {
     "data": {
      "application/vnd.jupyter.widget-view+json": {
       "model_id": "",
       "version_major": 2,
       "version_minor": 0
      },
      "text/plain": [
       "Iterating over frames for track ID 35:   0%|          | 0/133 [00:00<?, ?it/s]"
      ]
     },
     "metadata": {},
     "output_type": "display_data"
    },
    {
     "data": {
      "application/vnd.jupyter.widget-view+json": {
       "model_id": "",
       "version_major": 2,
       "version_minor": 0
      },
      "text/plain": [
       "Iterating over frames for track ID 38:   0%|          | 0/130 [00:00<?, ?it/s]"
      ]
     },
     "metadata": {},
     "output_type": "display_data"
    },
    {
     "data": {
      "application/vnd.jupyter.widget-view+json": {
       "model_id": "",
       "version_major": 2,
       "version_minor": 0
      },
      "text/plain": [
       "Iterating over frames for track ID 40:   0%|          | 0/82 [00:00<?, ?it/s]"
      ]
     },
     "metadata": {},
     "output_type": "display_data"
    },
    {
     "data": {
      "application/vnd.jupyter.widget-view+json": {
       "model_id": "",
       "version_major": 2,
       "version_minor": 0
      },
      "text/plain": [
       "Iterating over frames for track ID 41:   0%|          | 0/137 [00:00<?, ?it/s]"
      ]
     },
     "metadata": {},
     "output_type": "display_data"
    },
    {
     "data": {
      "application/vnd.jupyter.widget-view+json": {
       "model_id": "",
       "version_major": 2,
       "version_minor": 0
      },
      "text/plain": [
       "Iterating over frames for track ID 46:   0%|          | 0/89 [00:00<?, ?it/s]"
      ]
     },
     "metadata": {},
     "output_type": "display_data"
    },
    {
     "data": {
      "application/vnd.jupyter.widget-view+json": {
       "model_id": "",
       "version_major": 2,
       "version_minor": 0
      },
      "text/plain": [
       "Iterating over frames for track ID 53:   0%|          | 0/154 [00:00<?, ?it/s]"
      ]
     },
     "metadata": {},
     "output_type": "display_data"
    },
    {
     "data": {
      "application/vnd.jupyter.widget-view+json": {
       "model_id": "",
       "version_major": 2,
       "version_minor": 0
      },
      "text/plain": [
       "Iterating over frames for track ID 56:   0%|          | 0/154 [00:00<?, ?it/s]"
      ]
     },
     "metadata": {},
     "output_type": "display_data"
    },
    {
     "data": {
      "application/vnd.jupyter.widget-view+json": {
       "model_id": "",
       "version_major": 2,
       "version_minor": 0
      },
      "text/plain": [
       "Iterating over frames for track ID 64:   0%|          | 0/77 [00:00<?, ?it/s]"
      ]
     },
     "metadata": {},
     "output_type": "display_data"
    },
    {
     "data": {
      "application/vnd.jupyter.widget-view+json": {
       "model_id": "",
       "version_major": 2,
       "version_minor": 0
      },
      "text/plain": [
       "Iterating over frames for track ID 65:   0%|          | 0/83 [00:00<?, ?it/s]"
      ]
     },
     "metadata": {},
     "output_type": "display_data"
    },
    {
     "data": {
      "application/vnd.jupyter.widget-view+json": {
       "model_id": "",
       "version_major": 2,
       "version_minor": 0
      },
      "text/plain": [
       "Iterating over frames for track ID 74:   0%|          | 0/147 [00:00<?, ?it/s]"
      ]
     },
     "metadata": {},
     "output_type": "display_data"
    },
    {
     "data": {
      "application/vnd.jupyter.widget-view+json": {
       "model_id": "",
       "version_major": 2,
       "version_minor": 0
      },
      "text/plain": [
       "Iterating over frames for track ID 79:   0%|          | 0/117 [00:00<?, ?it/s]"
      ]
     },
     "metadata": {},
     "output_type": "display_data"
    },
    {
     "data": {
      "application/vnd.jupyter.widget-view+json": {
       "model_id": "",
       "version_major": 2,
       "version_minor": 0
      },
      "text/plain": [
       "Iterating over frames for track ID 120:   0%|          | 0/78 [00:00<?, ?it/s]"
      ]
     },
     "metadata": {},
     "output_type": "display_data"
    },
    {
     "data": {
      "application/vnd.jupyter.widget-view+json": {
       "model_id": "",
       "version_major": 2,
       "version_minor": 0
      },
      "text/plain": [
       "Iterating over frames for track ID 128:   0%|          | 0/81 [00:00<?, ?it/s]"
      ]
     },
     "metadata": {},
     "output_type": "display_data"
    },
    {
     "data": {
      "application/vnd.jupyter.widget-view+json": {
       "model_id": "",
       "version_major": 2,
       "version_minor": 0
      },
      "text/plain": [
       "Iterating over frames for track ID 253:   0%|          | 0/154 [00:00<?, ?it/s]"
      ]
     },
     "metadata": {},
     "output_type": "display_data"
    },
    {
     "data": {
      "application/vnd.jupyter.widget-view+json": {
       "model_id": "",
       "version_major": 2,
       "version_minor": 0
      },
      "text/plain": [
       "Iterating over frames for track ID 258:   0%|          | 0/154 [00:00<?, ?it/s]"
      ]
     },
     "metadata": {},
     "output_type": "display_data"
    },
    {
     "data": {
      "application/vnd.jupyter.widget-view+json": {
       "model_id": "",
       "version_major": 2,
       "version_minor": 0
      },
      "text/plain": [
       "Iterating over frames for track ID 259:   0%|          | 0/154 [00:00<?, ?it/s]"
      ]
     },
     "metadata": {},
     "output_type": "display_data"
    },
    {
     "data": {
      "application/vnd.jupyter.widget-view+json": {
       "model_id": "",
       "version_major": 2,
       "version_minor": 0
      },
      "text/plain": [
       "Iterating over frames for track ID 262:   0%|          | 0/106 [00:00<?, ?it/s]"
      ]
     },
     "metadata": {},
     "output_type": "display_data"
    },
    {
     "data": {
      "application/vnd.jupyter.widget-view+json": {
       "model_id": "",
       "version_major": 2,
       "version_minor": 0
      },
      "text/plain": [
       "Iterating over frames for track ID 264:   0%|          | 0/106 [00:00<?, ?it/s]"
      ]
     },
     "metadata": {},
     "output_type": "display_data"
    },
    {
     "data": {
      "application/vnd.jupyter.widget-view+json": {
       "model_id": "",
       "version_major": 2,
       "version_minor": 0
      },
      "text/plain": [
       "Iterating over frames for track ID 266:   0%|          | 0/103 [00:00<?, ?it/s]"
      ]
     },
     "metadata": {},
     "output_type": "display_data"
    },
    {
     "data": {
      "application/vnd.jupyter.widget-view+json": {
       "model_id": "",
       "version_major": 2,
       "version_minor": 0
      },
      "text/plain": [
       "Iterating over frames for track ID 271:   0%|          | 0/80 [00:00<?, ?it/s]"
      ]
     },
     "metadata": {},
     "output_type": "display_data"
    },
    {
     "data": {
      "application/vnd.jupyter.widget-view+json": {
       "model_id": "",
       "version_major": 2,
       "version_minor": 0
      },
      "text/plain": [
       "Iterating over frames for track ID 274:   0%|          | 0/81 [00:00<?, ?it/s]"
      ]
     },
     "metadata": {},
     "output_type": "display_data"
    },
    {
     "data": {
      "application/vnd.jupyter.widget-view+json": {
       "model_id": "",
       "version_major": 2,
       "version_minor": 0
      },
      "text/plain": [
       "Iterating over frames for track ID 277:   0%|          | 0/80 [00:00<?, ?it/s]"
      ]
     },
     "metadata": {},
     "output_type": "display_data"
    },
    {
     "data": {
      "application/vnd.jupyter.widget-view+json": {
       "model_id": "",
       "version_major": 2,
       "version_minor": 0
      },
      "text/plain": [
       "Iterating over frames for track ID 279:   0%|          | 0/80 [00:00<?, ?it/s]"
      ]
     },
     "metadata": {},
     "output_type": "display_data"
    },
    {
     "data": {
      "application/vnd.jupyter.widget-view+json": {
       "model_id": "",
       "version_major": 2,
       "version_minor": 0
      },
      "text/plain": [
       "Iterating over frames for track ID 357:   0%|          | 0/80 [00:00<?, ?it/s]"
      ]
     },
     "metadata": {},
     "output_type": "display_data"
    },
    {
     "data": {
      "application/vnd.jupyter.widget-view+json": {
       "model_id": "",
       "version_major": 2,
       "version_minor": 0
      },
      "text/plain": [
       "Iterating over frames for track ID 361:   0%|          | 0/111 [00:00<?, ?it/s]"
      ]
     },
     "metadata": {},
     "output_type": "display_data"
    },
    {
     "data": {
      "application/vnd.jupyter.widget-view+json": {
       "model_id": "",
       "version_major": 2,
       "version_minor": 0
      },
      "text/plain": [
       "Iterating over frames for track ID 366:   0%|          | 0/133 [00:00<?, ?it/s]"
      ]
     },
     "metadata": {},
     "output_type": "display_data"
    },
    {
     "data": {
      "application/vnd.jupyter.widget-view+json": {
       "model_id": "",
       "version_major": 2,
       "version_minor": 0
      },
      "text/plain": [
       "Iterating over frames for track ID 442:   0%|          | 0/77 [00:00<?, ?it/s]"
      ]
     },
     "metadata": {},
     "output_type": "display_data"
    },
    {
     "data": {
      "application/vnd.jupyter.widget-view+json": {
       "model_id": "",
       "version_major": 2,
       "version_minor": 0
      },
      "text/plain": [
       "Iterating over frames for track ID 446:   0%|          | 0/154 [00:00<?, ?it/s]"
      ]
     },
     "metadata": {},
     "output_type": "display_data"
    },
    {
     "data": {
      "application/vnd.jupyter.widget-view+json": {
       "model_id": "",
       "version_major": 2,
       "version_minor": 0
      },
      "text/plain": [
       "Iterating over frames for track ID 450:   0%|          | 0/154 [00:00<?, ?it/s]"
      ]
     },
     "metadata": {},
     "output_type": "display_data"
    },
    {
     "data": {
      "application/vnd.jupyter.widget-view+json": {
       "model_id": "",
       "version_major": 2,
       "version_minor": 0
      },
      "text/plain": [
       "Iterating over frames for track ID 466:   0%|          | 0/154 [00:00<?, ?it/s]"
      ]
     },
     "metadata": {},
     "output_type": "display_data"
    },
    {
     "data": {
      "application/vnd.jupyter.widget-view+json": {
       "model_id": "",
       "version_major": 2,
       "version_minor": 0
      },
      "text/plain": [
       "Iterating over frames for track ID 481:   0%|          | 0/111 [00:00<?, ?it/s]"
      ]
     },
     "metadata": {},
     "output_type": "display_data"
    },
    {
     "data": {
      "application/vnd.jupyter.widget-view+json": {
       "model_id": "",
       "version_major": 2,
       "version_minor": 0
      },
      "text/plain": [
       "Iterating over frames for track ID 518:   0%|          | 0/154 [00:00<?, ?it/s]"
      ]
     },
     "metadata": {},
     "output_type": "display_data"
    },
    {
     "data": {
      "application/vnd.jupyter.widget-view+json": {
       "model_id": "",
       "version_major": 2,
       "version_minor": 0
      },
      "text/plain": [
       "Iterating over frames for track ID 561:   0%|          | 0/119 [00:00<?, ?it/s]"
      ]
     },
     "metadata": {},
     "output_type": "display_data"
    },
    {
     "data": {
      "application/vnd.jupyter.widget-view+json": {
       "model_id": "",
       "version_major": 2,
       "version_minor": 0
      },
      "text/plain": [
       "Iterating over frames for track ID 562:   0%|          | 0/154 [00:00<?, ?it/s]"
      ]
     },
     "metadata": {},
     "output_type": "display_data"
    },
    {
     "data": {
      "application/vnd.jupyter.widget-view+json": {
       "model_id": "",
       "version_major": 2,
       "version_minor": 0
      },
      "text/plain": [
       "Iterating over frames for track ID 564:   0%|          | 0/114 [00:00<?, ?it/s]"
      ]
     },
     "metadata": {},
     "output_type": "display_data"
    },
    {
     "data": {
      "application/vnd.jupyter.widget-view+json": {
       "model_id": "",
       "version_major": 2,
       "version_minor": 0
      },
      "text/plain": [
       "Iterating over frames for track ID 567:   0%|          | 0/88 [00:00<?, ?it/s]"
      ]
     },
     "metadata": {},
     "output_type": "display_data"
    },
    {
     "data": {
      "application/vnd.jupyter.widget-view+json": {
       "model_id": "",
       "version_major": 2,
       "version_minor": 0
      },
      "text/plain": [
       "Iterating over frames for track ID 644:   0%|          | 0/154 [00:00<?, ?it/s]"
      ]
     },
     "metadata": {},
     "output_type": "display_data"
    },
    {
     "data": {
      "application/vnd.jupyter.widget-view+json": {
       "model_id": "",
       "version_major": 2,
       "version_minor": 0
      },
      "text/plain": [
       "Iterating over frames for track ID 645:   0%|          | 0/154 [00:00<?, ?it/s]"
      ]
     },
     "metadata": {},
     "output_type": "display_data"
    },
    {
     "data": {
      "application/vnd.jupyter.widget-view+json": {
       "model_id": "",
       "version_major": 2,
       "version_minor": 0
      },
      "text/plain": [
       "Iterating over frames for track ID 646:   0%|          | 0/154 [00:00<?, ?it/s]"
      ]
     },
     "metadata": {},
     "output_type": "display_data"
    },
    {
     "data": {
      "application/vnd.jupyter.widget-view+json": {
       "model_id": "",
       "version_major": 2,
       "version_minor": 0
      },
      "text/plain": [
       "Iterating over frames for track ID 667:   0%|          | 0/150 [00:00<?, ?it/s]"
      ]
     },
     "metadata": {},
     "output_type": "display_data"
    },
    {
     "data": {
      "application/vnd.jupyter.widget-view+json": {
       "model_id": "3954f12ac5974361b3ac26778a16536b",
       "version_major": 2,
       "version_minor": 0
      },
      "text/plain": [
       "Iterating over frames for track ID 670:   0%|          | 0/113 [00:00<?, ?it/s]"
      ]
     },
     "metadata": {},
     "output_type": "display_data"
    },
    {
     "data": {
      "application/vnd.jupyter.widget-view+json": {
       "model_id": "e838e0f4f41d45b1a975c62ad5d89759",
       "version_major": 2,
       "version_minor": 0
      },
      "text/plain": [
       "Iterating over frames for track ID 715:   0%|          | 0/154 [00:00<?, ?it/s]"
      ]
     },
     "metadata": {},
     "output_type": "display_data"
    },
    {
     "data": {
      "application/vnd.jupyter.widget-view+json": {
       "model_id": "5f8f2910878e4309a04650daf7ebcc64",
       "version_major": 2,
       "version_minor": 0
      },
      "text/plain": [
       "Iterating over frames for track ID 716:   0%|          | 0/76 [00:00<?, ?it/s]"
      ]
     },
     "metadata": {},
     "output_type": "display_data"
    },
    {
     "data": {
      "application/vnd.jupyter.widget-view+json": {
       "model_id": "4455c1e6f3be491a9819d5fa41ea7b44",
       "version_major": 2,
       "version_minor": 0
      },
      "text/plain": [
       "Iterating over frames for track ID 718:   0%|          | 0/90 [00:00<?, ?it/s]"
      ]
     },
     "metadata": {},
     "output_type": "display_data"
    },
    {
     "data": {
      "application/vnd.jupyter.widget-view+json": {
       "model_id": "aaa9fd62d9344adb8a8b1c1e359a6b79",
       "version_major": 2,
       "version_minor": 0
      },
      "text/plain": [
       "Iterating over frames for track ID 750:   0%|          | 0/76 [00:00<?, ?it/s]"
      ]
     },
     "metadata": {},
     "output_type": "display_data"
    },
    {
     "data": {
      "application/vnd.jupyter.widget-view+json": {
       "model_id": "b9926d3ee0af4f12a55c7a365bc5b61d",
       "version_major": 2,
       "version_minor": 0
      },
      "text/plain": [
       "Iterating over frames for track ID 756:   0%|          | 0/81 [00:00<?, ?it/s]"
      ]
     },
     "metadata": {},
     "output_type": "display_data"
    },
    {
     "data": {
      "application/vnd.jupyter.widget-view+json": {
       "model_id": "6c2a025ed5694b0795739646c050543b",
       "version_major": 2,
       "version_minor": 0
      },
      "text/plain": [
       "Iterating over frames for track ID 803:   0%|          | 0/85 [00:00<?, ?it/s]"
      ]
     },
     "metadata": {},
     "output_type": "display_data"
    },
    {
     "data": {
      "application/vnd.jupyter.widget-view+json": {
       "model_id": "346385fcfa74433aa5603c6ac90c29b1",
       "version_major": 2,
       "version_minor": 0
      },
      "text/plain": [
       "Iterating over frames for track ID 811:   0%|          | 0/154 [00:00<?, ?it/s]"
      ]
     },
     "metadata": {},
     "output_type": "display_data"
    },
    {
     "data": {
      "application/vnd.jupyter.widget-view+json": {
       "model_id": "a30d61295e7c4c44a33e6d406d7d8903",
       "version_major": 2,
       "version_minor": 0
      },
      "text/plain": [
       "Iterating over frames for track ID 834:   0%|          | 0/89 [00:00<?, ?it/s]"
      ]
     },
     "metadata": {},
     "output_type": "display_data"
    },
    {
     "data": {
      "application/vnd.jupyter.widget-view+json": {
       "model_id": "d12393bf141847db951aaa5058ecfd5e",
       "version_major": 2,
       "version_minor": 0
      },
      "text/plain": [
       "Iterating over frames for track ID 837:   0%|          | 0/92 [00:00<?, ?it/s]"
      ]
     },
     "metadata": {},
     "output_type": "display_data"
    },
    {
     "data": {
      "application/vnd.jupyter.widget-view+json": {
       "model_id": "4fd31df8c3254ac8adfe813fd803fcdc",
       "version_major": 2,
       "version_minor": 0
      },
      "text/plain": [
       "Iterating over frames for track ID 868:   0%|          | 0/154 [00:00<?, ?it/s]"
      ]
     },
     "metadata": {},
     "output_type": "display_data"
    },
    {
     "data": {
      "application/vnd.jupyter.widget-view+json": {
       "model_id": "145991012c0e413790b2bf2e5f4af637",
       "version_major": 2,
       "version_minor": 0
      },
      "text/plain": [
       "Iterating over frames for track ID 884:   0%|          | 0/76 [00:00<?, ?it/s]"
      ]
     },
     "metadata": {},
     "output_type": "display_data"
    },
    {
     "data": {
      "application/vnd.jupyter.widget-view+json": {
       "model_id": "e146abee9b8a4fbca1200230e012034d",
       "version_major": 2,
       "version_minor": 0
      },
      "text/plain": [
       "Iterating over frames for track ID 885:   0%|          | 0/141 [00:00<?, ?it/s]"
      ]
     },
     "metadata": {},
     "output_type": "display_data"
    },
    {
     "data": {
      "application/vnd.jupyter.widget-view+json": {
       "model_id": "82756605d9c54cc98bd99a559dcf3b6e",
       "version_major": 2,
       "version_minor": 0
      },
      "text/plain": [
       "Iterating over frames for track ID 897:   0%|          | 0/154 [00:00<?, ?it/s]"
      ]
     },
     "metadata": {},
     "output_type": "display_data"
    },
    {
     "data": {
      "application/vnd.jupyter.widget-view+json": {
       "model_id": "d2452bfe9ba7437c8192ee8f7eb036e8",
       "version_major": 2,
       "version_minor": 0
      },
      "text/plain": [
       "Iterating over frames for track ID 898:   0%|          | 0/154 [00:00<?, ?it/s]"
      ]
     },
     "metadata": {},
     "output_type": "display_data"
    },
    {
     "data": {
      "application/vnd.jupyter.widget-view+json": {
       "model_id": "b3bcd3633da14d2d9aaee837f34fc969",
       "version_major": 2,
       "version_minor": 0
      },
      "text/plain": [
       "Iterating over frames for track ID 924:   0%|          | 0/96 [00:00<?, ?it/s]"
      ]
     },
     "metadata": {},
     "output_type": "display_data"
    },
    {
     "data": {
      "application/vnd.jupyter.widget-view+json": {
       "model_id": "7fac01b5a71c4f62bd25b3024664d1c4",
       "version_major": 2,
       "version_minor": 0
      },
      "text/plain": [
       "Iterating over frames for track ID 937:   0%|          | 0/154 [00:00<?, ?it/s]"
      ]
     },
     "metadata": {},
     "output_type": "display_data"
    },
    {
     "data": {
      "application/vnd.jupyter.widget-view+json": {
       "model_id": "4be77fea82e147c39ee037fe6b59a138",
       "version_major": 2,
       "version_minor": 0
      },
      "text/plain": [
       "Iterating over frames for track ID 1018:   0%|          | 0/154 [00:00<?, ?it/s]"
      ]
     },
     "metadata": {},
     "output_type": "display_data"
    },
    {
     "data": {
      "application/vnd.jupyter.widget-view+json": {
       "model_id": "bfddad8d360f42d487a1f03fd6760f23",
       "version_major": 2,
       "version_minor": 0
      },
      "text/plain": [
       "Iterating over frames for track ID 1042:   0%|          | 0/142 [00:00<?, ?it/s]"
      ]
     },
     "metadata": {},
     "output_type": "display_data"
    },
    {
     "data": {
      "application/vnd.jupyter.widget-view+json": {
       "model_id": "09ec6e63d290429bb8d6f5d2e90428c6",
       "version_major": 2,
       "version_minor": 0
      },
      "text/plain": [
       "Iterating over frames for track ID 1074:   0%|          | 0/87 [00:00<?, ?it/s]"
      ]
     },
     "metadata": {},
     "output_type": "display_data"
    },
    {
     "data": {
      "application/vnd.jupyter.widget-view+json": {
       "model_id": "b9ed4ec7f1a847ddb3c85b3d54b9de85",
       "version_major": 2,
       "version_minor": 0
      },
      "text/plain": [
       "Iterating over frames for track ID 1084:   0%|          | 0/101 [00:00<?, ?it/s]"
      ]
     },
     "metadata": {},
     "output_type": "display_data"
    },
    {
     "data": {
      "application/vnd.jupyter.widget-view+json": {
       "model_id": "b9a966422ebb4e4c97832971256db70c",
       "version_major": 2,
       "version_minor": 0
      },
      "text/plain": [
       "Iterating over frames for track ID 1089:   0%|          | 0/95 [00:00<?, ?it/s]"
      ]
     },
     "metadata": {},
     "output_type": "display_data"
    },
    {
     "data": {
      "application/vnd.jupyter.widget-view+json": {
       "model_id": "b51b6129eb204e8a83ebabb23a4a476e",
       "version_major": 2,
       "version_minor": 0
      },
      "text/plain": [
       "Iterating over frames for track ID 1103:   0%|          | 0/154 [00:00<?, ?it/s]"
      ]
     },
     "metadata": {},
     "output_type": "display_data"
    },
    {
     "data": {
      "application/vnd.jupyter.widget-view+json": {
       "model_id": "fb177f2bc3734af1b6c6f35979ac7a05",
       "version_major": 2,
       "version_minor": 0
      },
      "text/plain": [
       "Iterating over frames for track ID 1113:   0%|          | 0/136 [00:00<?, ?it/s]"
      ]
     },
     "metadata": {},
     "output_type": "display_data"
    },
    {
     "data": {
      "application/vnd.jupyter.widget-view+json": {
       "model_id": "d58b8309627447fc8eb8e84c8c945646",
       "version_major": 2,
       "version_minor": 0
      },
      "text/plain": [
       "Iterating over frames for track ID 1140:   0%|          | 0/76 [00:00<?, ?it/s]"
      ]
     },
     "metadata": {},
     "output_type": "display_data"
    },
    {
     "data": {
      "application/vnd.jupyter.widget-view+json": {
       "model_id": "f3d752d6dee34363913854ff8791599a",
       "version_major": 2,
       "version_minor": 0
      },
      "text/plain": [
       "Iterating over frames for track ID 1153:   0%|          | 0/136 [00:00<?, ?it/s]"
      ]
     },
     "metadata": {},
     "output_type": "display_data"
    },
    {
     "data": {
      "application/vnd.jupyter.widget-view+json": {
       "model_id": "cfebaf408c0848f7aab1d4830114c331",
       "version_major": 2,
       "version_minor": 0
      },
      "text/plain": [
       "Iterating over frames for track ID 1155:   0%|          | 0/154 [00:00<?, ?it/s]"
      ]
     },
     "metadata": {},
     "output_type": "display_data"
    },
    {
     "data": {
      "application/vnd.jupyter.widget-view+json": {
       "model_id": "c2404b9e0be74747994b87fcde4ba285",
       "version_major": 2,
       "version_minor": 0
      },
      "text/plain": [
       "Iterating over frames for track ID 1209:   0%|          | 0/79 [00:00<?, ?it/s]"
      ]
     },
     "metadata": {},
     "output_type": "display_data"
    },
    {
     "data": {
      "application/vnd.jupyter.widget-view+json": {
       "model_id": "08791f2ea4a44c4a8fa9289f5f3d6246",
       "version_major": 2,
       "version_minor": 0
      },
      "text/plain": [
       "Iterating over frames for track ID 1287:   0%|          | 0/80 [00:00<?, ?it/s]"
      ]
     },
     "metadata": {},
     "output_type": "display_data"
    },
    {
     "data": {
      "application/vnd.jupyter.widget-view+json": {
       "model_id": "6bd3980f5e2347e9914b85632c0a902b",
       "version_major": 2,
       "version_minor": 0
      },
      "text/plain": [
       "Iterating over frames for track ID 1292:   0%|          | 0/154 [00:00<?, ?it/s]"
      ]
     },
     "metadata": {},
     "output_type": "display_data"
    },
    {
     "data": {
      "application/vnd.jupyter.widget-view+json": {
       "model_id": "9b1ebfe87a114c4db6e0948bb022162e",
       "version_major": 2,
       "version_minor": 0
      },
      "text/plain": [
       "Iterating over frames for track ID 1352:   0%|          | 0/131 [00:00<?, ?it/s]"
      ]
     },
     "metadata": {},
     "output_type": "display_data"
    },
    {
     "data": {
      "application/vnd.jupyter.widget-view+json": {
       "model_id": "4b6724999b5c4cb38bd3d70de9aab013",
       "version_major": 2,
       "version_minor": 0
      },
      "text/plain": [
       "Iterating over frames for track ID 1384:   0%|          | 0/154 [00:00<?, ?it/s]"
      ]
     },
     "metadata": {},
     "output_type": "display_data"
    },
    {
     "data": {
      "application/vnd.jupyter.widget-view+json": {
       "model_id": "5dfe2aa2cf0e4fe8a65d5d41aecc1ee6",
       "version_major": 2,
       "version_minor": 0
      },
      "text/plain": [
       "Iterating over frames for track ID 1393:   0%|          | 0/114 [00:00<?, ?it/s]"
      ]
     },
     "metadata": {},
     "output_type": "display_data"
    },
    {
     "data": {
      "application/vnd.jupyter.widget-view+json": {
       "model_id": "a4fadb6d612f41d89b545d37d94d0038",
       "version_major": 2,
       "version_minor": 0
      },
      "text/plain": [
       "Iterating over frames for track ID 1444:   0%|          | 0/93 [00:00<?, ?it/s]"
      ]
     },
     "metadata": {},
     "output_type": "display_data"
    },
    {
     "data": {
      "application/vnd.jupyter.widget-view+json": {
       "model_id": "7c9e370b7c2341b5bbea150db7e1b951",
       "version_major": 2,
       "version_minor": 0
      },
      "text/plain": [
       "Iterating over frames for track ID 1481:   0%|          | 0/127 [00:00<?, ?it/s]"
      ]
     },
     "metadata": {},
     "output_type": "display_data"
    },
    {
     "data": {
      "application/vnd.jupyter.widget-view+json": {
       "model_id": "78032585d6dd4cf5ad31d2415b18069c",
       "version_major": 2,
       "version_minor": 0
      },
      "text/plain": [
       "Iterating over frames for track ID 1489:   0%|          | 0/154 [00:00<?, ?it/s]"
      ]
     },
     "metadata": {},
     "output_type": "display_data"
    },
    {
     "data": {
      "application/vnd.jupyter.widget-view+json": {
       "model_id": "79736d2941514306b842947292e587a0",
       "version_major": 2,
       "version_minor": 0
      },
      "text/plain": [
       "Iterating over frames for track ID 1490:   0%|          | 0/113 [00:00<?, ?it/s]"
      ]
     },
     "metadata": {},
     "output_type": "display_data"
    },
    {
     "data": {
      "application/vnd.jupyter.widget-view+json": {
       "model_id": "34e885207c2e4785ace8737bdabda199",
       "version_major": 2,
       "version_minor": 0
      },
      "text/plain": [
       "Iterating over frames for track ID 1505:   0%|          | 0/154 [00:00<?, ?it/s]"
      ]
     },
     "metadata": {},
     "output_type": "display_data"
    },
    {
     "data": {
      "application/vnd.jupyter.widget-view+json": {
       "model_id": "a6dab088a93a4541a30387d46fb1e601",
       "version_major": 2,
       "version_minor": 0
      },
      "text/plain": [
       "Iterating over frames for track ID 1509:   0%|          | 0/154 [00:00<?, ?it/s]"
      ]
     },
     "metadata": {},
     "output_type": "display_data"
    },
    {
     "data": {
      "application/vnd.jupyter.widget-view+json": {
       "model_id": "87318467eb304000a77e3cf584a84688",
       "version_major": 2,
       "version_minor": 0
      },
      "text/plain": [
       "Iterating over frames for track ID 1510:   0%|          | 0/113 [00:00<?, ?it/s]"
      ]
     },
     "metadata": {},
     "output_type": "display_data"
    },
    {
     "data": {
      "application/vnd.jupyter.widget-view+json": {
       "model_id": "a0167009a4c54ae29e70fbb47759ac39",
       "version_major": 2,
       "version_minor": 0
      },
      "text/plain": [
       "Iterating over frames for track ID 1528:   0%|          | 0/154 [00:00<?, ?it/s]"
      ]
     },
     "metadata": {},
     "output_type": "display_data"
    },
    {
     "data": {
      "application/vnd.jupyter.widget-view+json": {
       "model_id": "5426eea0a99b429792f8143cee5ff516",
       "version_major": 2,
       "version_minor": 0
      },
      "text/plain": [
       "Iterating over frames for track ID 1540:   0%|          | 0/80 [00:00<?, ?it/s]"
      ]
     },
     "metadata": {},
     "output_type": "display_data"
    },
    {
     "data": {
      "application/vnd.jupyter.widget-view+json": {
       "model_id": "da9414ec1af047b78e0470db27cc458d",
       "version_major": 2,
       "version_minor": 0
      },
      "text/plain": [
       "Iterating over frames for track ID 1581:   0%|          | 0/88 [00:00<?, ?it/s]"
      ]
     },
     "metadata": {},
     "output_type": "display_data"
    },
    {
     "data": {
      "application/vnd.jupyter.widget-view+json": {
       "model_id": "893334b07e5a4723a216ac376c2f2287",
       "version_major": 2,
       "version_minor": 0
      },
      "text/plain": [
       "Iterating over frames for track ID 1588:   0%|          | 0/95 [00:00<?, ?it/s]"
      ]
     },
     "metadata": {},
     "output_type": "display_data"
    },
    {
     "data": {
      "application/vnd.jupyter.widget-view+json": {
       "model_id": "6eec05c67daa46478fcce96bc1ab0339",
       "version_major": 2,
       "version_minor": 0
      },
      "text/plain": [
       "Iterating over frames for track ID 1593:   0%|          | 0/154 [00:00<?, ?it/s]"
      ]
     },
     "metadata": {},
     "output_type": "display_data"
    },
    {
     "data": {
      "application/vnd.jupyter.widget-view+json": {
       "model_id": "6d3a0e30354149afa840586dc22e4e16",
       "version_major": 2,
       "version_minor": 0
      },
      "text/plain": [
       "Iterating over frames for track ID 1594:   0%|          | 0/154 [00:00<?, ?it/s]"
      ]
     },
     "metadata": {},
     "output_type": "display_data"
    },
    {
     "data": {
      "application/vnd.jupyter.widget-view+json": {
       "model_id": "c9995dd4e6854e4c87c0343593a30542",
       "version_major": 2,
       "version_minor": 0
      },
      "text/plain": [
       "Iterating over frames for track ID 1625:   0%|          | 0/81 [00:00<?, ?it/s]"
      ]
     },
     "metadata": {},
     "output_type": "display_data"
    },
    {
     "data": {
      "application/vnd.jupyter.widget-view+json": {
       "model_id": "9b5cf1ae516b4e63a5d8594b601972f2",
       "version_major": 2,
       "version_minor": 0
      },
      "text/plain": [
       "Iterating over frames for track ID 1650:   0%|          | 0/108 [00:00<?, ?it/s]"
      ]
     },
     "metadata": {},
     "output_type": "display_data"
    },
    {
     "data": {
      "application/vnd.jupyter.widget-view+json": {
       "model_id": "afd913c5c14144d18163da5a9d4b8f88",
       "version_major": 2,
       "version_minor": 0
      },
      "text/plain": [
       "Iterating over frames for track ID 1703:   0%|          | 0/118 [00:00<?, ?it/s]"
      ]
     },
     "metadata": {},
     "output_type": "display_data"
    },
    {
     "data": {
      "application/vnd.jupyter.widget-view+json": {
       "model_id": "abd3755ed45348468c5d4bec0a166c43",
       "version_major": 2,
       "version_minor": 0
      },
      "text/plain": [
       "Iterating over frames for track ID 1723:   0%|          | 0/79 [00:00<?, ?it/s]"
      ]
     },
     "metadata": {},
     "output_type": "display_data"
    },
    {
     "data": {
      "application/vnd.jupyter.widget-view+json": {
       "model_id": "9375cabfe44b4766b6511df20e30b818",
       "version_major": 2,
       "version_minor": 0
      },
      "text/plain": [
       "Iterating over frames for track ID 1740:   0%|          | 0/93 [00:00<?, ?it/s]"
      ]
     },
     "metadata": {},
     "output_type": "display_data"
    },
    {
     "data": {
      "application/vnd.jupyter.widget-view+json": {
       "model_id": "59223f24ef8b4fc9b14536a1ac3a114c",
       "version_major": 2,
       "version_minor": 0
      },
      "text/plain": [
       "Iterating over frames for track ID 1745:   0%|          | 0/131 [00:00<?, ?it/s]"
      ]
     },
     "metadata": {},
     "output_type": "display_data"
    },
    {
     "data": {
      "application/vnd.jupyter.widget-view+json": {
       "model_id": "956b83eb44684b3698fd036e98995d8c",
       "version_major": 2,
       "version_minor": 0
      },
      "text/plain": [
       "Iterating over frames for track ID 1753:   0%|          | 0/154 [00:00<?, ?it/s]"
      ]
     },
     "metadata": {},
     "output_type": "display_data"
    },
    {
     "data": {
      "application/vnd.jupyter.widget-view+json": {
       "model_id": "27ac2763e3934fce83fe172369eef1bb",
       "version_major": 2,
       "version_minor": 0
      },
      "text/plain": [
       "Iterating over frames for track ID 1767:   0%|          | 0/85 [00:00<?, ?it/s]"
      ]
     },
     "metadata": {},
     "output_type": "display_data"
    },
    {
     "data": {
      "application/vnd.jupyter.widget-view+json": {
       "model_id": "5494401e27aa4fae970aed957b9e4d15",
       "version_major": 2,
       "version_minor": 0
      },
      "text/plain": [
       "Iterating over frames for track ID 1775:   0%|          | 0/83 [00:00<?, ?it/s]"
      ]
     },
     "metadata": {},
     "output_type": "display_data"
    },
    {
     "data": {
      "application/vnd.jupyter.widget-view+json": {
       "model_id": "8777496d6d9d40479dbc349a5ea2a4eb",
       "version_major": 2,
       "version_minor": 0
      },
      "text/plain": [
       "Iterating over frames for track ID 1778:   0%|          | 0/154 [00:00<?, ?it/s]"
      ]
     },
     "metadata": {},
     "output_type": "display_data"
    },
    {
     "data": {
      "application/vnd.jupyter.widget-view+json": {
       "model_id": "ae09b6ba97084676a4973c1965329712",
       "version_major": 2,
       "version_minor": 0
      },
      "text/plain": [
       "Iterating over frames for track ID 1801:   0%|          | 0/121 [00:00<?, ?it/s]"
      ]
     },
     "metadata": {},
     "output_type": "display_data"
    },
    {
     "data": {
      "application/vnd.jupyter.widget-view+json": {
       "model_id": "3d2ddb27a6e244059018ecf42760d561",
       "version_major": 2,
       "version_minor": 0
      },
      "text/plain": [
       "Iterating over frames for track ID 1808:   0%|          | 0/90 [00:00<?, ?it/s]"
      ]
     },
     "metadata": {},
     "output_type": "display_data"
    },
    {
     "data": {
      "application/vnd.jupyter.widget-view+json": {
       "model_id": "34b9b924de8941f48ea5c7e8b377162a",
       "version_major": 2,
       "version_minor": 0
      },
      "text/plain": [
       "Iterating over frames for track ID 1823:   0%|          | 0/135 [00:00<?, ?it/s]"
      ]
     },
     "metadata": {},
     "output_type": "display_data"
    },
    {
     "data": {
      "application/vnd.jupyter.widget-view+json": {
       "model_id": "8f8d205a163b414cb3d46ddd8c18d8c0",
       "version_major": 2,
       "version_minor": 0
      },
      "text/plain": [
       "Iterating over frames for track ID 1833:   0%|          | 0/154 [00:00<?, ?it/s]"
      ]
     },
     "metadata": {},
     "output_type": "display_data"
    },
    {
     "data": {
      "application/vnd.jupyter.widget-view+json": {
       "model_id": "60ab9475e3ee4a3abbd6a2e1e7317c74",
       "version_major": 2,
       "version_minor": 0
      },
      "text/plain": [
       "Iterating over frames for track ID 1846:   0%|          | 0/88 [00:00<?, ?it/s]"
      ]
     },
     "metadata": {},
     "output_type": "display_data"
    },
    {
     "data": {
      "application/vnd.jupyter.widget-view+json": {
       "model_id": "94eed309cc614c85ae6891b53588cece",
       "version_major": 2,
       "version_minor": 0
      },
      "text/plain": [
       "Iterating over frames for track ID 1871:   0%|          | 0/154 [00:00<?, ?it/s]"
      ]
     },
     "metadata": {},
     "output_type": "display_data"
    },
    {
     "data": {
      "application/vnd.jupyter.widget-view+json": {
       "model_id": "b7b210c712c949f69ca512564a777d6e",
       "version_major": 2,
       "version_minor": 0
      },
      "text/plain": [
       "Iterating over frames for track ID 1874:   0%|          | 0/154 [00:00<?, ?it/s]"
      ]
     },
     "metadata": {},
     "output_type": "display_data"
    },
    {
     "data": {
      "application/vnd.jupyter.widget-view+json": {
       "model_id": "bd37d9bcbb2342b4818c04c4984b7523",
       "version_major": 2,
       "version_minor": 0
      },
      "text/plain": [
       "Iterating over frames for track ID 1897:   0%|          | 0/120 [00:00<?, ?it/s]"
      ]
     },
     "metadata": {},
     "output_type": "display_data"
    },
    {
     "data": {
      "application/vnd.jupyter.widget-view+json": {
       "model_id": "c513f79c7ad340ffa0086d85125f5164",
       "version_major": 2,
       "version_minor": 0
      },
      "text/plain": [
       "Iterating over frames for track ID 1920:   0%|          | 0/80 [00:00<?, ?it/s]"
      ]
     },
     "metadata": {},
     "output_type": "display_data"
    },
    {
     "data": {
      "application/vnd.jupyter.widget-view+json": {
       "model_id": "c565eaa5fe0f4dd6829505f8167afb5c",
       "version_major": 2,
       "version_minor": 0
      },
      "text/plain": [
       "Iterating over frames for track ID 1926:   0%|          | 0/84 [00:00<?, ?it/s]"
      ]
     },
     "metadata": {},
     "output_type": "display_data"
    },
    {
     "data": {
      "application/vnd.jupyter.widget-view+json": {
       "model_id": "18c817b13da64f3aae945664a9235af4",
       "version_major": 2,
       "version_minor": 0
      },
      "text/plain": [
       "Iterating over frames for track ID 1929:   0%|          | 0/154 [00:00<?, ?it/s]"
      ]
     },
     "metadata": {},
     "output_type": "display_data"
    },
    {
     "data": {
      "application/vnd.jupyter.widget-view+json": {
       "model_id": "2a4b6cb0fd4343b3b9dd93e324c16262",
       "version_major": 2,
       "version_minor": 0
      },
      "text/plain": [
       "Iterating over frames for track ID 1940:   0%|          | 0/154 [00:00<?, ?it/s]"
      ]
     },
     "metadata": {},
     "output_type": "display_data"
    },
    {
     "data": {
      "application/vnd.jupyter.widget-view+json": {
       "model_id": "a5af666a37f548918b37f397beebd7f4",
       "version_major": 2,
       "version_minor": 0
      },
      "text/plain": [
       "Iterating over frames for track ID 1941:   0%|          | 0/154 [00:00<?, ?it/s]"
      ]
     },
     "metadata": {},
     "output_type": "display_data"
    },
    {
     "data": {
      "application/vnd.jupyter.widget-view+json": {
       "model_id": "fd312f4ff7414e60bf89ea25006e38f2",
       "version_major": 2,
       "version_minor": 0
      },
      "text/plain": [
       "Iterating over frames for track ID 1950:   0%|          | 0/84 [00:00<?, ?it/s]"
      ]
     },
     "metadata": {},
     "output_type": "display_data"
    },
    {
     "data": {
      "application/vnd.jupyter.widget-view+json": {
       "model_id": "30af19cec6ca45f98e9609aaa1d56c9f",
       "version_major": 2,
       "version_minor": 0
      },
      "text/plain": [
       "Iterating over frames for track ID 1972:   0%|          | 0/121 [00:00<?, ?it/s]"
      ]
     },
     "metadata": {},
     "output_type": "display_data"
    },
    {
     "data": {
      "application/vnd.jupyter.widget-view+json": {
       "model_id": "93f89a98618043f181d660e97cba9366",
       "version_major": 2,
       "version_minor": 0
      },
      "text/plain": [
       "Iterating over frames for track ID 1982:   0%|          | 0/154 [00:00<?, ?it/s]"
      ]
     },
     "metadata": {},
     "output_type": "display_data"
    },
    {
     "data": {
      "application/vnd.jupyter.widget-view+json": {
       "model_id": "bc3e912232a149ce9c019eb1008b3a7f",
       "version_major": 2,
       "version_minor": 0
      },
      "text/plain": [
       "Iterating over frames for track ID 2012:   0%|          | 0/98 [00:00<?, ?it/s]"
      ]
     },
     "metadata": {},
     "output_type": "display_data"
    },
    {
     "data": {
      "application/vnd.jupyter.widget-view+json": {
       "model_id": "987c1f8dc0a647c485d3c9d53148d36e",
       "version_major": 2,
       "version_minor": 0
      },
      "text/plain": [
       "Iterating over frames for track ID 2073:   0%|          | 0/154 [00:00<?, ?it/s]"
      ]
     },
     "metadata": {},
     "output_type": "display_data"
    },
    {
     "data": {
      "application/vnd.jupyter.widget-view+json": {
       "model_id": "615e6fa24c2546eaa14f18647fb1c2a8",
       "version_major": 2,
       "version_minor": 0
      },
      "text/plain": [
       "Iterating over frames for track ID 2080:   0%|          | 0/76 [00:00<?, ?it/s]"
      ]
     },
     "metadata": {},
     "output_type": "display_data"
    },
    {
     "data": {
      "application/vnd.jupyter.widget-view+json": {
       "model_id": "d4ac1f175323417a87f823af26c31181",
       "version_major": 2,
       "version_minor": 0
      },
      "text/plain": [
       "Iterating over frames for track ID 2088:   0%|          | 0/146 [00:00<?, ?it/s]"
      ]
     },
     "metadata": {},
     "output_type": "display_data"
    },
    {
     "data": {
      "application/vnd.jupyter.widget-view+json": {
       "model_id": "1abb376f797c43719a6698f493e43594",
       "version_major": 2,
       "version_minor": 0
      },
      "text/plain": [
       "Iterating over frames for track ID 2096:   0%|          | 0/77 [00:00<?, ?it/s]"
      ]
     },
     "metadata": {},
     "output_type": "display_data"
    },
    {
     "data": {
      "application/vnd.jupyter.widget-view+json": {
       "model_id": "30ccbf785e7d40668cf3cea87162bda2",
       "version_major": 2,
       "version_minor": 0
      },
      "text/plain": [
       "Iterating over frames for track ID 2100:   0%|          | 0/79 [00:00<?, ?it/s]"
      ]
     },
     "metadata": {},
     "output_type": "display_data"
    },
    {
     "data": {
      "application/vnd.jupyter.widget-view+json": {
       "model_id": "cdca11ab040d4b3b88448aeaeb84780d",
       "version_major": 2,
       "version_minor": 0
      },
      "text/plain": [
       "Iterating over frames for track ID 2122:   0%|          | 0/111 [00:00<?, ?it/s]"
      ]
     },
     "metadata": {},
     "output_type": "display_data"
    },
    {
     "data": {
      "application/vnd.jupyter.widget-view+json": {
       "model_id": "71b23decfc5f46f085dec4bef81ac62a",
       "version_major": 2,
       "version_minor": 0
      },
      "text/plain": [
       "Iterating over frames for track ID 2129:   0%|          | 0/120 [00:00<?, ?it/s]"
      ]
     },
     "metadata": {},
     "output_type": "display_data"
    },
    {
     "data": {
      "application/vnd.jupyter.widget-view+json": {
       "model_id": "fbb7e99dd9724299b418d1e30dcce1b2",
       "version_major": 2,
       "version_minor": 0
      },
      "text/plain": [
       "Iterating over frames for track ID 2132:   0%|          | 0/95 [00:00<?, ?it/s]"
      ]
     },
     "metadata": {},
     "output_type": "display_data"
    },
    {
     "data": {
      "application/vnd.jupyter.widget-view+json": {
       "model_id": "cd495f84727d4497bc4b4a08f0a9057a",
       "version_major": 2,
       "version_minor": 0
      },
      "text/plain": [
       "Iterating over frames for track ID 2136:   0%|          | 0/109 [00:00<?, ?it/s]"
      ]
     },
     "metadata": {},
     "output_type": "display_data"
    },
    {
     "data": {
      "application/vnd.jupyter.widget-view+json": {
       "model_id": "d160bc9d7a8847f2a70a91907bba516f",
       "version_major": 2,
       "version_minor": 0
      },
      "text/plain": [
       "Iterating over frames for track ID 2142:   0%|          | 0/86 [00:00<?, ?it/s]"
      ]
     },
     "metadata": {},
     "output_type": "display_data"
    },
    {
     "data": {
      "application/vnd.jupyter.widget-view+json": {
       "model_id": "b0997c4d7a1c4b6eb09a0193e077c548",
       "version_major": 2,
       "version_minor": 0
      },
      "text/plain": [
       "Iterating over frames for track ID 2152:   0%|          | 0/154 [00:00<?, ?it/s]"
      ]
     },
     "metadata": {},
     "output_type": "display_data"
    },
    {
     "data": {
      "application/vnd.jupyter.widget-view+json": {
       "model_id": "d48e3e42e8fb47b2baa319cfe9f80329",
       "version_major": 2,
       "version_minor": 0
      },
      "text/plain": [
       "Iterating over frames for track ID 2155:   0%|          | 0/154 [00:00<?, ?it/s]"
      ]
     },
     "metadata": {},
     "output_type": "display_data"
    },
    {
     "data": {
      "application/vnd.jupyter.widget-view+json": {
       "model_id": "d4b462bae41046ad9e5dd5f15cd587f2",
       "version_major": 2,
       "version_minor": 0
      },
      "text/plain": [
       "Iterating over frames for track ID 2161:   0%|          | 0/154 [00:00<?, ?it/s]"
      ]
     },
     "metadata": {},
     "output_type": "display_data"
    },
    {
     "data": {
      "application/vnd.jupyter.widget-view+json": {
       "model_id": "509194cb9c644b7682ec148976ff8db9",
       "version_major": 2,
       "version_minor": 0
      },
      "text/plain": [
       "Iterating over frames for track ID 2187:   0%|          | 0/154 [00:00<?, ?it/s]"
      ]
     },
     "metadata": {},
     "output_type": "display_data"
    },
    {
     "data": {
      "application/vnd.jupyter.widget-view+json": {
       "model_id": "7644e656e8c5455c91831008636b3ed6",
       "version_major": 2,
       "version_minor": 0
      },
      "text/plain": [
       "Iterating over frames for track ID 2194:   0%|          | 0/154 [00:00<?, ?it/s]"
      ]
     },
     "metadata": {},
     "output_type": "display_data"
    },
    {
     "data": {
      "application/vnd.jupyter.widget-view+json": {
       "model_id": "c297c85566c44fc5a4f9c7e969a0b25a",
       "version_major": 2,
       "version_minor": 0
      },
      "text/plain": [
       "Iterating over frames for track ID 2197:   0%|          | 0/94 [00:00<?, ?it/s]"
      ]
     },
     "metadata": {},
     "output_type": "display_data"
    },
    {
     "data": {
      "application/vnd.jupyter.widget-view+json": {
       "model_id": "7906718102d74789b71d0be38f1fb57b",
       "version_major": 2,
       "version_minor": 0
      },
      "text/plain": [
       "Iterating over frames for track ID 2205:   0%|          | 0/93 [00:00<?, ?it/s]"
      ]
     },
     "metadata": {},
     "output_type": "display_data"
    },
    {
     "data": {
      "application/vnd.jupyter.widget-view+json": {
       "model_id": "d6c56b9187f44c4fb7ac5ffa2550520e",
       "version_major": 2,
       "version_minor": 0
      },
      "text/plain": [
       "Iterating over frames for track ID 2228:   0%|          | 0/154 [00:00<?, ?it/s]"
      ]
     },
     "metadata": {},
     "output_type": "display_data"
    },
    {
     "data": {
      "application/vnd.jupyter.widget-view+json": {
       "model_id": "9438f70015234be69737743731254a98",
       "version_major": 2,
       "version_minor": 0
      },
      "text/plain": [
       "Iterating over frames for track ID 2249:   0%|          | 0/81 [00:00<?, ?it/s]"
      ]
     },
     "metadata": {},
     "output_type": "display_data"
    },
    {
     "data": {
      "application/vnd.jupyter.widget-view+json": {
       "model_id": "3e7046fb666a479cb3b46e6016dec372",
       "version_major": 2,
       "version_minor": 0
      },
      "text/plain": [
       "Iterating over frames for track ID 2287:   0%|          | 0/87 [00:00<?, ?it/s]"
      ]
     },
     "metadata": {},
     "output_type": "display_data"
    },
    {
     "data": {
      "application/vnd.jupyter.widget-view+json": {
       "model_id": "2acee818c26f44e6b34993f9a47bd107",
       "version_major": 2,
       "version_minor": 0
      },
      "text/plain": [
       "Iterating over frames for track ID 2310:   0%|          | 0/154 [00:00<?, ?it/s]"
      ]
     },
     "metadata": {},
     "output_type": "display_data"
    },
    {
     "data": {
      "application/vnd.jupyter.widget-view+json": {
       "model_id": "a06833001ab24dd785e0116165626b79",
       "version_major": 2,
       "version_minor": 0
      },
      "text/plain": [
       "Iterating over frames for track ID 2332:   0%|          | 0/154 [00:00<?, ?it/s]"
      ]
     },
     "metadata": {},
     "output_type": "display_data"
    },
    {
     "data": {
      "application/vnd.jupyter.widget-view+json": {
       "model_id": "74e9ad7f7a0a4ae5a7eba10737561ee1",
       "version_major": 2,
       "version_minor": 0
      },
      "text/plain": [
       "Iterating over frames for track ID 2334:   0%|          | 0/154 [00:00<?, ?it/s]"
      ]
     },
     "metadata": {},
     "output_type": "display_data"
    },
    {
     "data": {
      "application/vnd.jupyter.widget-view+json": {
       "model_id": "dc377c12405244478b48546bab18db65",
       "version_major": 2,
       "version_minor": 0
      },
      "text/plain": [
       "Iterating over frames for track ID 2335:   0%|          | 0/120 [00:00<?, ?it/s]"
      ]
     },
     "metadata": {},
     "output_type": "display_data"
    },
    {
     "data": {
      "application/vnd.jupyter.widget-view+json": {
       "model_id": "ca1da168e1b34cf7a968057f4937070c",
       "version_major": 2,
       "version_minor": 0
      },
      "text/plain": [
       "Iterating over frames for track ID 2374:   0%|          | 0/97 [00:00<?, ?it/s]"
      ]
     },
     "metadata": {},
     "output_type": "display_data"
    },
    {
     "data": {
      "application/vnd.jupyter.widget-view+json": {
       "model_id": "47834f7d11c748efa6ace03aaae52b33",
       "version_major": 2,
       "version_minor": 0
      },
      "text/plain": [
       "Iterating over frames for track ID 2399:   0%|          | 0/154 [00:00<?, ?it/s]"
      ]
     },
     "metadata": {},
     "output_type": "display_data"
    },
    {
     "data": {
      "application/vnd.jupyter.widget-view+json": {
       "model_id": "da381bdbb8dd4e4c999a2df5ccd16e1a",
       "version_major": 2,
       "version_minor": 0
      },
      "text/plain": [
       "Iterating over frames for track ID 2418:   0%|          | 0/154 [00:00<?, ?it/s]"
      ]
     },
     "metadata": {},
     "output_type": "display_data"
    },
    {
     "data": {
      "application/vnd.jupyter.widget-view+json": {
       "model_id": "66aac43dcfe64af8a8cebaea16931193",
       "version_major": 2,
       "version_minor": 0
      },
      "text/plain": [
       "Iterating over frames for track ID 2428:   0%|          | 0/137 [00:00<?, ?it/s]"
      ]
     },
     "metadata": {},
     "output_type": "display_data"
    },
    {
     "data": {
      "application/vnd.jupyter.widget-view+json": {
       "model_id": "d0957edf9e9a4801a67afc68f060e6ae",
       "version_major": 2,
       "version_minor": 0
      },
      "text/plain": [
       "Iterating over frames for track ID 2437:   0%|          | 0/154 [00:00<?, ?it/s]"
      ]
     },
     "metadata": {},
     "output_type": "display_data"
    },
    {
     "data": {
      "application/vnd.jupyter.widget-view+json": {
       "model_id": "cc4f1a6229834674a55010fe7f55080d",
       "version_major": 2,
       "version_minor": 0
      },
      "text/plain": [
       "Iterating over frames for track ID 2439:   0%|          | 0/154 [00:00<?, ?it/s]"
      ]
     },
     "metadata": {},
     "output_type": "display_data"
    },
    {
     "data": {
      "application/vnd.jupyter.widget-view+json": {
       "model_id": "01e2727d8c3843a5a8f6a43b1d99b84d",
       "version_major": 2,
       "version_minor": 0
      },
      "text/plain": [
       "Iterating over frames for track ID 2449:   0%|          | 0/78 [00:00<?, ?it/s]"
      ]
     },
     "metadata": {},
     "output_type": "display_data"
    },
    {
     "data": {
      "application/vnd.jupyter.widget-view+json": {
       "model_id": "d654c1fcda364ed992abd86dcac87a0f",
       "version_major": 2,
       "version_minor": 0
      },
      "text/plain": [
       "Iterating over frames for track ID 2493:   0%|          | 0/154 [00:00<?, ?it/s]"
      ]
     },
     "metadata": {},
     "output_type": "display_data"
    },
    {
     "data": {
      "application/vnd.jupyter.widget-view+json": {
       "model_id": "b66c80a35ce1433cb03d7ef68fdc9f71",
       "version_major": 2,
       "version_minor": 0
      },
      "text/plain": [
       "Iterating over frames for track ID 2508:   0%|          | 0/90 [00:00<?, ?it/s]"
      ]
     },
     "metadata": {},
     "output_type": "display_data"
    },
    {
     "data": {
      "application/vnd.jupyter.widget-view+json": {
       "model_id": "48c249aec1ce413c80c2f9c8b4e9ec5d",
       "version_major": 2,
       "version_minor": 0
      },
      "text/plain": [
       "Iterating over frames for track ID 2559:   0%|          | 0/85 [00:00<?, ?it/s]"
      ]
     },
     "metadata": {},
     "output_type": "display_data"
    },
    {
     "data": {
      "application/vnd.jupyter.widget-view+json": {
       "model_id": "7359464170b74b2893af73b57d55fd29",
       "version_major": 2,
       "version_minor": 0
      },
      "text/plain": [
       "Iterating over frames for track ID 2596:   0%|          | 0/82 [00:00<?, ?it/s]"
      ]
     },
     "metadata": {},
     "output_type": "display_data"
    },
    {
     "data": {
      "application/vnd.jupyter.widget-view+json": {
       "model_id": "9cd67c2c31e049adbab010ebd6a255f7",
       "version_major": 2,
       "version_minor": 0
      },
      "text/plain": [
       "Iterating over frames for track ID 2605:   0%|          | 0/106 [00:00<?, ?it/s]"
      ]
     },
     "metadata": {},
     "output_type": "display_data"
    },
    {
     "data": {
      "application/vnd.jupyter.widget-view+json": {
       "model_id": "b07185c6357f4327ab354be8df2bb1e5",
       "version_major": 2,
       "version_minor": 0
      },
      "text/plain": [
       "Iterating over frames for track ID 2611:   0%|          | 0/80 [00:00<?, ?it/s]"
      ]
     },
     "metadata": {},
     "output_type": "display_data"
    },
    {
     "data": {
      "application/vnd.jupyter.widget-view+json": {
       "model_id": "d0e088d8a5b641c394cdb8e47c00cb14",
       "version_major": 2,
       "version_minor": 0
      },
      "text/plain": [
       "Iterating over frames for track ID 2615:   0%|          | 0/121 [00:00<?, ?it/s]"
      ]
     },
     "metadata": {},
     "output_type": "display_data"
    },
    {
     "data": {
      "application/vnd.jupyter.widget-view+json": {
       "model_id": "62613743d62c4f7f8302780b9775c04a",
       "version_major": 2,
       "version_minor": 0
      },
      "text/plain": [
       "Iterating over frames for track ID 2618:   0%|          | 0/134 [00:00<?, ?it/s]"
      ]
     },
     "metadata": {},
     "output_type": "display_data"
    },
    {
     "data": {
      "application/vnd.jupyter.widget-view+json": {
       "model_id": "250806215a1e4d029311db372b9df6ef",
       "version_major": 2,
       "version_minor": 0
      },
      "text/plain": [
       "Iterating over frames for track ID 2620:   0%|          | 0/93 [00:00<?, ?it/s]"
      ]
     },
     "metadata": {},
     "output_type": "display_data"
    },
    {
     "data": {
      "application/vnd.jupyter.widget-view+json": {
       "model_id": "1b89608f2bef4dc39b58ebdda433ff3a",
       "version_major": 2,
       "version_minor": 0
      },
      "text/plain": [
       "Iterating over frames for track ID 2627:   0%|          | 0/112 [00:00<?, ?it/s]"
      ]
     },
     "metadata": {},
     "output_type": "display_data"
    },
    {
     "data": {
      "application/vnd.jupyter.widget-view+json": {
       "model_id": "087940ba767345e4b866258c79f50fa1",
       "version_major": 2,
       "version_minor": 0
      },
      "text/plain": [
       "Iterating over frames for track ID 2637:   0%|          | 0/154 [00:00<?, ?it/s]"
      ]
     },
     "metadata": {},
     "output_type": "display_data"
    },
    {
     "data": {
      "application/vnd.jupyter.widget-view+json": {
       "model_id": "68748f60656e4eb99720a571c5072e72",
       "version_major": 2,
       "version_minor": 0
      },
      "text/plain": [
       "Iterating over frames for track ID 2642:   0%|          | 0/92 [00:00<?, ?it/s]"
      ]
     },
     "metadata": {},
     "output_type": "display_data"
    },
    {
     "data": {
      "application/vnd.jupyter.widget-view+json": {
       "model_id": "273fa9ec57d342ee92461aaf7cfcf8eb",
       "version_major": 2,
       "version_minor": 0
      },
      "text/plain": [
       "Iterating over frames for track ID 2747:   0%|          | 0/137 [00:00<?, ?it/s]"
      ]
     },
     "metadata": {},
     "output_type": "display_data"
    },
    {
     "data": {
      "application/vnd.jupyter.widget-view+json": {
       "model_id": "2c1973aaf24c44b08fb7bf400b505502",
       "version_major": 2,
       "version_minor": 0
      },
      "text/plain": [
       "Iterating over frames for track ID 2779:   0%|          | 0/154 [00:00<?, ?it/s]"
      ]
     },
     "metadata": {},
     "output_type": "display_data"
    },
    {
     "data": {
      "application/vnd.jupyter.widget-view+json": {
       "model_id": "66775a80090c434192883c57ecadc1fe",
       "version_major": 2,
       "version_minor": 0
      },
      "text/plain": [
       "Iterating over frames for track ID 2798:   0%|          | 0/115 [00:00<?, ?it/s]"
      ]
     },
     "metadata": {},
     "output_type": "display_data"
    },
    {
     "data": {
      "application/vnd.jupyter.widget-view+json": {
       "model_id": "9d26729614434ba38e46563b237a7257",
       "version_major": 2,
       "version_minor": 0
      },
      "text/plain": [
       "Iterating over frames for track ID 2821:   0%|          | 0/85 [00:00<?, ?it/s]"
      ]
     },
     "metadata": {},
     "output_type": "display_data"
    },
    {
     "data": {
      "application/vnd.jupyter.widget-view+json": {
       "model_id": "3245f1d5fe064db69f215c283df68b96",
       "version_major": 2,
       "version_minor": 0
      },
      "text/plain": [
       "Iterating over frames for track ID 2826:   0%|          | 0/108 [00:00<?, ?it/s]"
      ]
     },
     "metadata": {},
     "output_type": "display_data"
    },
    {
     "data": {
      "application/vnd.jupyter.widget-view+json": {
       "model_id": "0792975dafc340388cb5208426710284",
       "version_major": 2,
       "version_minor": 0
      },
      "text/plain": [
       "Iterating over frames for track ID 2833:   0%|          | 0/96 [00:00<?, ?it/s]"
      ]
     },
     "metadata": {},
     "output_type": "display_data"
    },
    {
     "data": {
      "application/vnd.jupyter.widget-view+json": {
       "model_id": "b5b81c0c0265408c835bcabbd751e7d0",
       "version_major": 2,
       "version_minor": 0
      },
      "text/plain": [
       "Iterating over frames for track ID 2842:   0%|          | 0/127 [00:00<?, ?it/s]"
      ]
     },
     "metadata": {},
     "output_type": "display_data"
    },
    {
     "data": {
      "application/vnd.jupyter.widget-view+json": {
       "model_id": "c873bd41825d42098b21b32f2754ca7a",
       "version_major": 2,
       "version_minor": 0
      },
      "text/plain": [
       "Iterating over frames for track ID 2845:   0%|          | 0/154 [00:00<?, ?it/s]"
      ]
     },
     "metadata": {},
     "output_type": "display_data"
    },
    {
     "data": {
      "application/vnd.jupyter.widget-view+json": {
       "model_id": "011345c1d72e4e71ae93115b99e9bc77",
       "version_major": 2,
       "version_minor": 0
      },
      "text/plain": [
       "Iterating over frames for track ID 2853:   0%|          | 0/146 [00:00<?, ?it/s]"
      ]
     },
     "metadata": {},
     "output_type": "display_data"
    },
    {
     "data": {
      "application/vnd.jupyter.widget-view+json": {
       "model_id": "c9a9cf451532449e8563da41b3ac238e",
       "version_major": 2,
       "version_minor": 0
      },
      "text/plain": [
       "Iterating over frames for track ID 2871:   0%|          | 0/154 [00:00<?, ?it/s]"
      ]
     },
     "metadata": {},
     "output_type": "display_data"
    },
    {
     "data": {
      "application/vnd.jupyter.widget-view+json": {
       "model_id": "ebf8b737e8eb445f839df007e17bf16e",
       "version_major": 2,
       "version_minor": 0
      },
      "text/plain": [
       "Iterating over frames for track ID 2893:   0%|          | 0/154 [00:00<?, ?it/s]"
      ]
     },
     "metadata": {},
     "output_type": "display_data"
    },
    {
     "data": {
      "application/vnd.jupyter.widget-view+json": {
       "model_id": "b23f60fa0038472bb5f7559906d3ee0e",
       "version_major": 2,
       "version_minor": 0
      },
      "text/plain": [
       "Iterating over frames for track ID 2906:   0%|          | 0/99 [00:00<?, ?it/s]"
      ]
     },
     "metadata": {},
     "output_type": "display_data"
    },
    {
     "data": {
      "application/vnd.jupyter.widget-view+json": {
       "model_id": "e1256dbe310d47009a423374622b3f05",
       "version_major": 2,
       "version_minor": 0
      },
      "text/plain": [
       "Iterating over frames for track ID 2924:   0%|          | 0/139 [00:00<?, ?it/s]"
      ]
     },
     "metadata": {},
     "output_type": "display_data"
    },
    {
     "data": {
      "application/vnd.jupyter.widget-view+json": {
       "model_id": "3a293775ec92418aac8469b3d578e955",
       "version_major": 2,
       "version_minor": 0
      },
      "text/plain": [
       "Iterating over frames for track ID 2936:   0%|          | 0/76 [00:00<?, ?it/s]"
      ]
     },
     "metadata": {},
     "output_type": "display_data"
    },
    {
     "data": {
      "application/vnd.jupyter.widget-view+json": {
       "model_id": "76485de06b9f455ab194d682d3b2cc17",
       "version_major": 2,
       "version_minor": 0
      },
      "text/plain": [
       "Iterating over frames for track ID 2957:   0%|          | 0/76 [00:00<?, ?it/s]"
      ]
     },
     "metadata": {},
     "output_type": "display_data"
    },
    {
     "data": {
      "application/vnd.jupyter.widget-view+json": {
       "model_id": "8b87bbdb832a4208aeed0f7d5e51a2eb",
       "version_major": 2,
       "version_minor": 0
      },
      "text/plain": [
       "Iterating over frames for track ID 3009:   0%|          | 0/80 [00:00<?, ?it/s]"
      ]
     },
     "metadata": {},
     "output_type": "display_data"
    },
    {
     "data": {
      "application/vnd.jupyter.widget-view+json": {
       "model_id": "e088a20ce8d84a83afaee5f58dbeaacc",
       "version_major": 2,
       "version_minor": 0
      },
      "text/plain": [
       "Iterating over frames for track ID 3073:   0%|          | 0/122 [00:00<?, ?it/s]"
      ]
     },
     "metadata": {},
     "output_type": "display_data"
    },
    {
     "data": {
      "application/vnd.jupyter.widget-view+json": {
       "model_id": "43b8eb0c1f79416d8b33e434d89ff96e",
       "version_major": 2,
       "version_minor": 0
      },
      "text/plain": [
       "Iterating over frames for track ID 3080:   0%|          | 0/145 [00:00<?, ?it/s]"
      ]
     },
     "metadata": {},
     "output_type": "display_data"
    },
    {
     "data": {
      "application/vnd.jupyter.widget-view+json": {
       "model_id": "3c0ecfd5500448479c9d75f3fa506168",
       "version_major": 2,
       "version_minor": 0
      },
      "text/plain": [
       "Iterating over frames for track ID 3102:   0%|          | 0/150 [00:00<?, ?it/s]"
      ]
     },
     "metadata": {},
     "output_type": "display_data"
    },
    {
     "data": {
      "application/vnd.jupyter.widget-view+json": {
       "model_id": "8ee16f8468bf42d088a58f1002d4f508",
       "version_major": 2,
       "version_minor": 0
      },
      "text/plain": [
       "Iterating over frames for track ID 3116:   0%|          | 0/84 [00:00<?, ?it/s]"
      ]
     },
     "metadata": {},
     "output_type": "display_data"
    },
    {
     "data": {
      "application/vnd.jupyter.widget-view+json": {
       "model_id": "0ca7f6ac78c4467faad45016b07186fe",
       "version_major": 2,
       "version_minor": 0
      },
      "text/plain": [
       "Iterating over frames for track ID 3118:   0%|          | 0/78 [00:00<?, ?it/s]"
      ]
     },
     "metadata": {},
     "output_type": "display_data"
    },
    {
     "data": {
      "application/vnd.jupyter.widget-view+json": {
       "model_id": "3d7f5384ee6a4748965f4ec30252c42d",
       "version_major": 2,
       "version_minor": 0
      },
      "text/plain": [
       "Iterating over frames for track ID 3148:   0%|          | 0/154 [00:00<?, ?it/s]"
      ]
     },
     "metadata": {},
     "output_type": "display_data"
    },
    {
     "data": {
      "application/vnd.jupyter.widget-view+json": {
       "model_id": "bb8ebad388b84969be7403ba214e8e6c",
       "version_major": 2,
       "version_minor": 0
      },
      "text/plain": [
       "Iterating over frames for track ID 3170:   0%|          | 0/82 [00:00<?, ?it/s]"
      ]
     },
     "metadata": {},
     "output_type": "display_data"
    },
    {
     "data": {
      "application/vnd.jupyter.widget-view+json": {
       "model_id": "b457d272e9d8491c95be1fe2432b52e9",
       "version_major": 2,
       "version_minor": 0
      },
      "text/plain": [
       "Iterating over frames for track ID 3244:   0%|          | 0/141 [00:00<?, ?it/s]"
      ]
     },
     "metadata": {},
     "output_type": "display_data"
    },
    {
     "data": {
      "application/vnd.jupyter.widget-view+json": {
       "model_id": "03ed5869aca347419c1516e81602ea66",
       "version_major": 2,
       "version_minor": 0
      },
      "text/plain": [
       "Iterating over frames for track ID 3246:   0%|          | 0/122 [00:00<?, ?it/s]"
      ]
     },
     "metadata": {},
     "output_type": "display_data"
    },
    {
     "data": {
      "application/vnd.jupyter.widget-view+json": {
       "model_id": "592cb045af0346a9b4ea4a0b49a8ed09",
       "version_major": 2,
       "version_minor": 0
      },
      "text/plain": [
       "Iterating over frames for track ID 3265:   0%|          | 0/82 [00:00<?, ?it/s]"
      ]
     },
     "metadata": {},
     "output_type": "display_data"
    },
    {
     "data": {
      "application/vnd.jupyter.widget-view+json": {
       "model_id": "8c85d4b5c79a4ea6a3b879586b696183",
       "version_major": 2,
       "version_minor": 0
      },
      "text/plain": [
       "Iterating over frames for track ID 3372:   0%|          | 0/77 [00:00<?, ?it/s]"
      ]
     },
     "metadata": {},
     "output_type": "display_data"
    },
    {
     "data": {
      "application/vnd.jupyter.widget-view+json": {
       "model_id": "c83e5cbc98174b47bbc3ec5ef06b3594",
       "version_major": 2,
       "version_minor": 0
      },
      "text/plain": [
       "Iterating over frames for track ID 3379:   0%|          | 0/102 [00:00<?, ?it/s]"
      ]
     },
     "metadata": {},
     "output_type": "display_data"
    },
    {
     "data": {
      "application/vnd.jupyter.widget-view+json": {
       "model_id": "2a51d458e95c419cb931c373c0207ce3",
       "version_major": 2,
       "version_minor": 0
      },
      "text/plain": [
       "Iterating over frames for track ID 3380:   0%|          | 0/154 [00:00<?, ?it/s]"
      ]
     },
     "metadata": {},
     "output_type": "display_data"
    },
    {
     "data": {
      "application/vnd.jupyter.widget-view+json": {
       "model_id": "e9326382af424a98bf6768310c48c659",
       "version_major": 2,
       "version_minor": 0
      },
      "text/plain": [
       "Iterating over frames for track ID 3412:   0%|          | 0/100 [00:00<?, ?it/s]"
      ]
     },
     "metadata": {},
     "output_type": "display_data"
    },
    {
     "data": {
      "application/vnd.jupyter.widget-view+json": {
       "model_id": "f8ad20d0d8dc45fd855579fc51ddd8ea",
       "version_major": 2,
       "version_minor": 0
      },
      "text/plain": [
       "Iterating over frames for track ID 3434:   0%|          | 0/108 [00:00<?, ?it/s]"
      ]
     },
     "metadata": {},
     "output_type": "display_data"
    },
    {
     "data": {
      "application/vnd.jupyter.widget-view+json": {
       "model_id": "797e8ec75e534a6c9ab829e7ab67b464",
       "version_major": 2,
       "version_minor": 0
      },
      "text/plain": [
       "Iterating over frames for track ID 3499:   0%|          | 0/77 [00:00<?, ?it/s]"
      ]
     },
     "metadata": {},
     "output_type": "display_data"
    },
    {
     "data": {
      "application/vnd.jupyter.widget-view+json": {
       "model_id": "9534c61f44ed48da93cc26d5c86b256a",
       "version_major": 2,
       "version_minor": 0
      },
      "text/plain": [
       "Iterating over frames for track ID 3500:   0%|          | 0/146 [00:00<?, ?it/s]"
      ]
     },
     "metadata": {},
     "output_type": "display_data"
    },
    {
     "data": {
      "application/vnd.jupyter.widget-view+json": {
       "model_id": "5fbd5a094b7640c0986589f88fc2e470",
       "version_major": 2,
       "version_minor": 0
      },
      "text/plain": [
       "Iterating over frames for track ID 3536:   0%|          | 0/123 [00:00<?, ?it/s]"
      ]
     },
     "metadata": {},
     "output_type": "display_data"
    },
    {
     "data": {
      "application/vnd.jupyter.widget-view+json": {
       "model_id": "4129c6d833a740518a1bc030810cc99a",
       "version_major": 2,
       "version_minor": 0
      },
      "text/plain": [
       "Iterating over frames for track ID 3587:   0%|          | 0/86 [00:00<?, ?it/s]"
      ]
     },
     "metadata": {},
     "output_type": "display_data"
    },
    {
     "data": {
      "application/vnd.jupyter.widget-view+json": {
       "model_id": "e9b384bff19f44f081272ea4751aa01f",
       "version_major": 2,
       "version_minor": 0
      },
      "text/plain": [
       "Iterating over frames for track ID 3616:   0%|          | 0/154 [00:00<?, ?it/s]"
      ]
     },
     "metadata": {},
     "output_type": "display_data"
    },
    {
     "data": {
      "application/vnd.jupyter.widget-view+json": {
       "model_id": "27bef5e7b3e645a3bd0d8199f18b4bae",
       "version_major": 2,
       "version_minor": 0
      },
      "text/plain": [
       "Iterating over frames for track ID 3663:   0%|          | 0/86 [00:00<?, ?it/s]"
      ]
     },
     "metadata": {},
     "output_type": "display_data"
    },
    {
     "data": {
      "application/vnd.jupyter.widget-view+json": {
       "model_id": "a0cbe258eb9f417b8bb0f8a70dfc5fba",
       "version_major": 2,
       "version_minor": 0
      },
      "text/plain": [
       "Iterating over frames for track ID 3671:   0%|          | 0/76 [00:00<?, ?it/s]"
      ]
     },
     "metadata": {},
     "output_type": "display_data"
    },
    {
     "data": {
      "application/vnd.jupyter.widget-view+json": {
       "model_id": "71c40865a35b4953bd7e4fd636666691",
       "version_major": 2,
       "version_minor": 0
      },
      "text/plain": [
       "Iterating over frames for track ID 3697:   0%|          | 0/90 [00:00<?, ?it/s]"
      ]
     },
     "metadata": {},
     "output_type": "display_data"
    },
    {
     "data": {
      "application/vnd.jupyter.widget-view+json": {
       "model_id": "0405476a7eb7451596eb87022826f27b",
       "version_major": 2,
       "version_minor": 0
      },
      "text/plain": [
       "Iterating over frames for track ID 3711:   0%|          | 0/100 [00:00<?, ?it/s]"
      ]
     },
     "metadata": {},
     "output_type": "display_data"
    },
    {
     "data": {
      "application/vnd.jupyter.widget-view+json": {
       "model_id": "95c2d75f5fb147dc912547074c4eaa3e",
       "version_major": 2,
       "version_minor": 0
      },
      "text/plain": [
       "Iterating over frames for track ID 3758:   0%|          | 0/85 [00:00<?, ?it/s]"
      ]
     },
     "metadata": {},
     "output_type": "display_data"
    },
    {
     "data": {
      "application/vnd.jupyter.widget-view+json": {
       "model_id": "5096d751a3904d91a349d524115df91a",
       "version_major": 2,
       "version_minor": 0
      },
      "text/plain": [
       "Iterating over frames for track ID 3764:   0%|          | 0/121 [00:00<?, ?it/s]"
      ]
     },
     "metadata": {},
     "output_type": "display_data"
    },
    {
     "data": {
      "application/vnd.jupyter.widget-view+json": {
       "model_id": "5b4f7e15109342ba8ef5bb7b85fea847",
       "version_major": 2,
       "version_minor": 0
      },
      "text/plain": [
       "Iterating over frames for track ID 3765:   0%|          | 0/154 [00:00<?, ?it/s]"
      ]
     },
     "metadata": {},
     "output_type": "display_data"
    },
    {
     "data": {
      "application/vnd.jupyter.widget-view+json": {
       "model_id": "31952db0a7bc48008462a3ecc752be0a",
       "version_major": 2,
       "version_minor": 0
      },
      "text/plain": [
       "Iterating over frames for track ID 3784:   0%|          | 0/115 [00:00<?, ?it/s]"
      ]
     },
     "metadata": {},
     "output_type": "display_data"
    },
    {
     "data": {
      "application/vnd.jupyter.widget-view+json": {
       "model_id": "66f85c579e1349aea03d00d100f09302",
       "version_major": 2,
       "version_minor": 0
      },
      "text/plain": [
       "Iterating over frames for track ID 3791:   0%|          | 0/141 [00:00<?, ?it/s]"
      ]
     },
     "metadata": {},
     "output_type": "display_data"
    },
    {
     "data": {
      "application/vnd.jupyter.widget-view+json": {
       "model_id": "8aaa4550e28d4bcea5e9367e082850ba",
       "version_major": 2,
       "version_minor": 0
      },
      "text/plain": [
       "Iterating over frames for track ID 3903:   0%|          | 0/91 [00:00<?, ?it/s]"
      ]
     },
     "metadata": {},
     "output_type": "display_data"
    },
    {
     "data": {
      "application/vnd.jupyter.widget-view+json": {
       "model_id": "8107650c64cc4f0999b3648b4e1ea2c9",
       "version_major": 2,
       "version_minor": 0
      },
      "text/plain": [
       "Iterating over frames for track ID 3912:   0%|          | 0/154 [00:00<?, ?it/s]"
      ]
     },
     "metadata": {},
     "output_type": "display_data"
    },
    {
     "data": {
      "application/vnd.jupyter.widget-view+json": {
       "model_id": "3055673d9938400aa6835f29bda2858f",
       "version_major": 2,
       "version_minor": 0
      },
      "text/plain": [
       "Iterating over frames for track ID 3918:   0%|          | 0/154 [00:00<?, ?it/s]"
      ]
     },
     "metadata": {},
     "output_type": "display_data"
    },
    {
     "data": {
      "application/vnd.jupyter.widget-view+json": {
       "model_id": "81d83d181ae9477fb17cb358556e6d4b",
       "version_major": 2,
       "version_minor": 0
      },
      "text/plain": [
       "Iterating over frames for track ID 3934:   0%|          | 0/138 [00:00<?, ?it/s]"
      ]
     },
     "metadata": {},
     "output_type": "display_data"
    },
    {
     "data": {
      "application/vnd.jupyter.widget-view+json": {
       "model_id": "8e5ba90e977a4cfb995a8def9095c2ba",
       "version_major": 2,
       "version_minor": 0
      },
      "text/plain": [
       "Iterating over frames for track ID 3990:   0%|          | 0/154 [00:00<?, ?it/s]"
      ]
     },
     "metadata": {},
     "output_type": "display_data"
    },
    {
     "data": {
      "application/vnd.jupyter.widget-view+json": {
       "model_id": "305e2621988d40b19512b72fb2dcc038",
       "version_major": 2,
       "version_minor": 0
      },
      "text/plain": [
       "Iterating over frames for track ID 4013:   0%|          | 0/154 [00:00<?, ?it/s]"
      ]
     },
     "metadata": {},
     "output_type": "display_data"
    },
    {
     "data": {
      "application/vnd.jupyter.widget-view+json": {
       "model_id": "f08ba5997645416ea967978effeff820",
       "version_major": 2,
       "version_minor": 0
      },
      "text/plain": [
       "Iterating over frames for track ID 4014:   0%|          | 0/90 [00:00<?, ?it/s]"
      ]
     },
     "metadata": {},
     "output_type": "display_data"
    },
    {
     "data": {
      "application/vnd.jupyter.widget-view+json": {
       "model_id": "fd1013bf9a0145a38996da95005ebbe7",
       "version_major": 2,
       "version_minor": 0
      },
      "text/plain": [
       "Iterating over frames for track ID 4049:   0%|          | 0/77 [00:00<?, ?it/s]"
      ]
     },
     "metadata": {},
     "output_type": "display_data"
    },
    {
     "data": {
      "application/vnd.jupyter.widget-view+json": {
       "model_id": "4226947c0b7b4f16a31a0b95b6baf91c",
       "version_major": 2,
       "version_minor": 0
      },
      "text/plain": [
       "Iterating over frames for track ID 4062:   0%|          | 0/87 [00:00<?, ?it/s]"
      ]
     },
     "metadata": {},
     "output_type": "display_data"
    },
    {
     "data": {
      "application/vnd.jupyter.widget-view+json": {
       "model_id": "89badae4b050446888b7e7bccfae10a7",
       "version_major": 2,
       "version_minor": 0
      },
      "text/plain": [
       "Iterating over frames for track ID 4094:   0%|          | 0/154 [00:00<?, ?it/s]"
      ]
     },
     "metadata": {},
     "output_type": "display_data"
    },
    {
     "data": {
      "application/vnd.jupyter.widget-view+json": {
       "model_id": "68ec67c285bb4084bfe248f6ca03e602",
       "version_major": 2,
       "version_minor": 0
      },
      "text/plain": [
       "Iterating over frames for track ID 4096:   0%|          | 0/106 [00:00<?, ?it/s]"
      ]
     },
     "metadata": {},
     "output_type": "display_data"
    },
    {
     "data": {
      "application/vnd.jupyter.widget-view+json": {
       "model_id": "9860c7aedb604a26a48850a31b2259e6",
       "version_major": 2,
       "version_minor": 0
      },
      "text/plain": [
       "Iterating over frames for track ID 4110:   0%|          | 0/79 [00:00<?, ?it/s]"
      ]
     },
     "metadata": {},
     "output_type": "display_data"
    },
    {
     "data": {
      "application/vnd.jupyter.widget-view+json": {
       "model_id": "596256cd86c34510af608fa55765bf3b",
       "version_major": 2,
       "version_minor": 0
      },
      "text/plain": [
       "Iterating over frames for track ID 4111:   0%|          | 0/105 [00:00<?, ?it/s]"
      ]
     },
     "metadata": {},
     "output_type": "display_data"
    },
    {
     "data": {
      "application/vnd.jupyter.widget-view+json": {
       "model_id": "60a929a2a867486195ede8301bb0732d",
       "version_major": 2,
       "version_minor": 0
      },
      "text/plain": [
       "Iterating over frames for track ID 4131:   0%|          | 0/154 [00:00<?, ?it/s]"
      ]
     },
     "metadata": {},
     "output_type": "display_data"
    },
    {
     "data": {
      "application/vnd.jupyter.widget-view+json": {
       "model_id": "2afc70a9c6614afda134dd7e45399d0d",
       "version_major": 2,
       "version_minor": 0
      },
      "text/plain": [
       "Iterating over frames for track ID 4222:   0%|          | 0/154 [00:00<?, ?it/s]"
      ]
     },
     "metadata": {},
     "output_type": "display_data"
    },
    {
     "data": {
      "application/vnd.jupyter.widget-view+json": {
       "model_id": "dcc9a310114a49babd503540c4dbf955",
       "version_major": 2,
       "version_minor": 0
      },
      "text/plain": [
       "Iterating over frames for track ID 4224:   0%|          | 0/78 [00:00<?, ?it/s]"
      ]
     },
     "metadata": {},
     "output_type": "display_data"
    },
    {
     "data": {
      "application/vnd.jupyter.widget-view+json": {
       "model_id": "6e592dc8f88e474da98c1ecd810a8d97",
       "version_major": 2,
       "version_minor": 0
      },
      "text/plain": [
       "Iterating over frames for track ID 4339:   0%|          | 0/84 [00:00<?, ?it/s]"
      ]
     },
     "metadata": {},
     "output_type": "display_data"
    },
    {
     "data": {
      "application/vnd.jupyter.widget-view+json": {
       "model_id": "0b5e83af58cd4e0e919d9136acef57e8",
       "version_major": 2,
       "version_minor": 0
      },
      "text/plain": [
       "Iterating over frames for track ID 4348:   0%|          | 0/154 [00:00<?, ?it/s]"
      ]
     },
     "metadata": {},
     "output_type": "display_data"
    },
    {
     "data": {
      "application/vnd.jupyter.widget-view+json": {
       "model_id": "40af85b396054e63b3ac85d2c999c44c",
       "version_major": 2,
       "version_minor": 0
      },
      "text/plain": [
       "Iterating over frames for track ID 4377:   0%|          | 0/109 [00:00<?, ?it/s]"
      ]
     },
     "metadata": {},
     "output_type": "display_data"
    },
    {
     "data": {
      "application/vnd.jupyter.widget-view+json": {
       "model_id": "3507acfb963e412584fa2cbf0a78c57d",
       "version_major": 2,
       "version_minor": 0
      },
      "text/plain": [
       "Iterating over frames for track ID 4397:   0%|          | 0/154 [00:00<?, ?it/s]"
      ]
     },
     "metadata": {},
     "output_type": "display_data"
    },
    {
     "data": {
      "application/vnd.jupyter.widget-view+json": {
       "model_id": "f1e858126b304e818d1917e3e3395b49",
       "version_major": 2,
       "version_minor": 0
      },
      "text/plain": [
       "Iterating over frames for track ID 4438:   0%|          | 0/79 [00:00<?, ?it/s]"
      ]
     },
     "metadata": {},
     "output_type": "display_data"
    },
    {
     "data": {
      "application/vnd.jupyter.widget-view+json": {
       "model_id": "098d9c80946e41d9a6ff7d07fe3b4db8",
       "version_major": 2,
       "version_minor": 0
      },
      "text/plain": [
       "Iterating over frames for track ID 4479:   0%|          | 0/154 [00:00<?, ?it/s]"
      ]
     },
     "metadata": {},
     "output_type": "display_data"
    },
    {
     "data": {
      "application/vnd.jupyter.widget-view+json": {
       "model_id": "dc241a58f5d84a7895f9bce05cbcc1a1",
       "version_major": 2,
       "version_minor": 0
      },
      "text/plain": [
       "Iterating over frames for track ID 4497:   0%|          | 0/86 [00:00<?, ?it/s]"
      ]
     },
     "metadata": {},
     "output_type": "display_data"
    },
    {
     "data": {
      "application/vnd.jupyter.widget-view+json": {
       "model_id": "e6f5eb00c8174c608ba5d19201dc1276",
       "version_major": 2,
       "version_minor": 0
      },
      "text/plain": [
       "Iterating over frames for track ID 4499:   0%|          | 0/154 [00:00<?, ?it/s]"
      ]
     },
     "metadata": {},
     "output_type": "display_data"
    },
    {
     "data": {
      "application/vnd.jupyter.widget-view+json": {
       "model_id": "538497f4bf1b4b88934ba9ce5354c546",
       "version_major": 2,
       "version_minor": 0
      },
      "text/plain": [
       "Iterating over frames for track ID 4633:   0%|          | 0/91 [00:00<?, ?it/s]"
      ]
     },
     "metadata": {},
     "output_type": "display_data"
    },
    {
     "data": {
      "application/vnd.jupyter.widget-view+json": {
       "model_id": "a01a799d3ecb492a981456295adb12e4",
       "version_major": 2,
       "version_minor": 0
      },
      "text/plain": [
       "Iterating over frames for track ID 4668:   0%|          | 0/92 [00:00<?, ?it/s]"
      ]
     },
     "metadata": {},
     "output_type": "display_data"
    },
    {
     "data": {
      "application/vnd.jupyter.widget-view+json": {
       "model_id": "dbb07af5965a43229d3a022b93b421d5",
       "version_major": 2,
       "version_minor": 0
      },
      "text/plain": [
       "Iterating over frames for track ID 4673:   0%|          | 0/148 [00:00<?, ?it/s]"
      ]
     },
     "metadata": {},
     "output_type": "display_data"
    },
    {
     "data": {
      "application/vnd.jupyter.widget-view+json": {
       "model_id": "4b31b96cd55e48178287acabf926ba11",
       "version_major": 2,
       "version_minor": 0
      },
      "text/plain": [
       "Iterating over frames for track ID 4697:   0%|          | 0/145 [00:00<?, ?it/s]"
      ]
     },
     "metadata": {},
     "output_type": "display_data"
    },
    {
     "data": {
      "application/vnd.jupyter.widget-view+json": {
       "model_id": "919cbb8a94a94ad3ac266485f8964e8b",
       "version_major": 2,
       "version_minor": 0
      },
      "text/plain": [
       "Iterating over frames for track ID 4705:   0%|          | 0/154 [00:00<?, ?it/s]"
      ]
     },
     "metadata": {},
     "output_type": "display_data"
    },
    {
     "data": {
      "application/vnd.jupyter.widget-view+json": {
       "model_id": "bfb1352778544b17a85b156280d1d122",
       "version_major": 2,
       "version_minor": 0
      },
      "text/plain": [
       "Iterating over frames for track ID 4719:   0%|          | 0/92 [00:00<?, ?it/s]"
      ]
     },
     "metadata": {},
     "output_type": "display_data"
    },
    {
     "data": {
      "application/vnd.jupyter.widget-view+json": {
       "model_id": "164878d22b2442e0ac47c3159bfc914e",
       "version_major": 2,
       "version_minor": 0
      },
      "text/plain": [
       "Iterating over frames for track ID 4734:   0%|          | 0/86 [00:00<?, ?it/s]"
      ]
     },
     "metadata": {},
     "output_type": "display_data"
    },
    {
     "data": {
      "application/vnd.jupyter.widget-view+json": {
       "model_id": "db9fbd2028c14b55ba44554d366ca7a0",
       "version_major": 2,
       "version_minor": 0
      },
      "text/plain": [
       "Iterating over frames for track ID 4763:   0%|          | 0/112 [00:00<?, ?it/s]"
      ]
     },
     "metadata": {},
     "output_type": "display_data"
    },
    {
     "data": {
      "application/vnd.jupyter.widget-view+json": {
       "model_id": "774af0b345b342bbbdbfdf90cee0f602",
       "version_major": 2,
       "version_minor": 0
      },
      "text/plain": [
       "Iterating over frames for track ID 4818:   0%|          | 0/77 [00:00<?, ?it/s]"
      ]
     },
     "metadata": {},
     "output_type": "display_data"
    },
    {
     "data": {
      "application/vnd.jupyter.widget-view+json": {
       "model_id": "963193daede241a78dead883611b9d95",
       "version_major": 2,
       "version_minor": 0
      },
      "text/plain": [
       "Iterating over frames for track ID 4878:   0%|          | 0/154 [00:00<?, ?it/s]"
      ]
     },
     "metadata": {},
     "output_type": "display_data"
    },
    {
     "data": {
      "application/vnd.jupyter.widget-view+json": {
       "model_id": "55fb337039554fbe9132f9d40bde4d2e",
       "version_major": 2,
       "version_minor": 0
      },
      "text/plain": [
       "Iterating over frames for track ID 4881:   0%|          | 0/90 [00:00<?, ?it/s]"
      ]
     },
     "metadata": {},
     "output_type": "display_data"
    },
    {
     "data": {
      "application/vnd.jupyter.widget-view+json": {
       "model_id": "b39c711436d541149fd418e21e349c94",
       "version_major": 2,
       "version_minor": 0
      },
      "text/plain": [
       "Iterating over frames for track ID 4914:   0%|          | 0/79 [00:00<?, ?it/s]"
      ]
     },
     "metadata": {},
     "output_type": "display_data"
    },
    {
     "data": {
      "application/vnd.jupyter.widget-view+json": {
       "model_id": "6122d7e9e8624e60b244e18cb4ee25d4",
       "version_major": 2,
       "version_minor": 0
      },
      "text/plain": [
       "Iterating over frames for track ID 4945:   0%|          | 0/154 [00:00<?, ?it/s]"
      ]
     },
     "metadata": {},
     "output_type": "display_data"
    },
    {
     "data": {
      "application/vnd.jupyter.widget-view+json": {
       "model_id": "9e559289863148bf9aff2efb4dbcf4b0",
       "version_major": 2,
       "version_minor": 0
      },
      "text/plain": [
       "Iterating over frames for track ID 4962:   0%|          | 0/154 [00:00<?, ?it/s]"
      ]
     },
     "metadata": {},
     "output_type": "display_data"
    },
    {
     "data": {
      "application/vnd.jupyter.widget-view+json": {
       "model_id": "60040c0367f14a2db3d29092b9bd3377",
       "version_major": 2,
       "version_minor": 0
      },
      "text/plain": [
       "Iterating over frames for track ID 4994:   0%|          | 0/80 [00:00<?, ?it/s]"
      ]
     },
     "metadata": {},
     "output_type": "display_data"
    },
    {
     "data": {
      "application/vnd.jupyter.widget-view+json": {
       "model_id": "f533781d89cb4e1e943e6f6d4b7d40df",
       "version_major": 2,
       "version_minor": 0
      },
      "text/plain": [
       "Iterating over frames for track ID 5125:   0%|          | 0/101 [00:00<?, ?it/s]"
      ]
     },
     "metadata": {},
     "output_type": "display_data"
    },
    {
     "data": {
      "application/vnd.jupyter.widget-view+json": {
       "model_id": "92eb551634354bd783054aee0521aef1",
       "version_major": 2,
       "version_minor": 0
      },
      "text/plain": [
       "Iterating over frames for track ID 5137:   0%|          | 0/154 [00:00<?, ?it/s]"
      ]
     },
     "metadata": {},
     "output_type": "display_data"
    },
    {
     "data": {
      "application/vnd.jupyter.widget-view+json": {
       "model_id": "eaefc2797e6742a7860eec3802b3171f",
       "version_major": 2,
       "version_minor": 0
      },
      "text/plain": [
       "Iterating over frames for track ID 5158:   0%|          | 0/113 [00:00<?, ?it/s]"
      ]
     },
     "metadata": {},
     "output_type": "display_data"
    },
    {
     "data": {
      "application/vnd.jupyter.widget-view+json": {
       "model_id": "50143db82f974ed487ec377e395fd9d2",
       "version_major": 2,
       "version_minor": 0
      },
      "text/plain": [
       "Iterating over frames for track ID 5176:   0%|          | 0/140 [00:00<?, ?it/s]"
      ]
     },
     "metadata": {},
     "output_type": "display_data"
    },
    {
     "data": {
      "application/vnd.jupyter.widget-view+json": {
       "model_id": "fa59c19500644ad9892f210765a7cd04",
       "version_major": 2,
       "version_minor": 0
      },
      "text/plain": [
       "Iterating over frames for track ID 5269:   0%|          | 0/76 [00:00<?, ?it/s]"
      ]
     },
     "metadata": {},
     "output_type": "display_data"
    },
    {
     "data": {
      "application/vnd.jupyter.widget-view+json": {
       "model_id": "8f054e06de6844bc8a72da2cee62ead5",
       "version_major": 2,
       "version_minor": 0
      },
      "text/plain": [
       "Iterating over frames for track ID 5304:   0%|          | 0/116 [00:00<?, ?it/s]"
      ]
     },
     "metadata": {},
     "output_type": "display_data"
    },
    {
     "data": {
      "application/vnd.jupyter.widget-view+json": {
       "model_id": "6bf093281dd14426979d4ba8e8f5ea38",
       "version_major": 2,
       "version_minor": 0
      },
      "text/plain": [
       "Iterating over frames for track ID 5467:   0%|          | 0/91 [00:00<?, ?it/s]"
      ]
     },
     "metadata": {},
     "output_type": "display_data"
    },
    {
     "data": {
      "application/vnd.jupyter.widget-view+json": {
       "model_id": "5bb4324227b34f0fb1f59c8b53adbe71",
       "version_major": 2,
       "version_minor": 0
      },
      "text/plain": [
       "Iterating over frames for track ID 5513:   0%|          | 0/86 [00:00<?, ?it/s]"
      ]
     },
     "metadata": {},
     "output_type": "display_data"
    },
    {
     "data": {
      "application/vnd.jupyter.widget-view+json": {
       "model_id": "30c8c891902f4da98d9a5bfffccbe20c",
       "version_major": 2,
       "version_minor": 0
      },
      "text/plain": [
       "Iterating over frames for track ID 5565:   0%|          | 0/85 [00:00<?, ?it/s]"
      ]
     },
     "metadata": {},
     "output_type": "display_data"
    },
    {
     "data": {
      "application/vnd.jupyter.widget-view+json": {
       "model_id": "77015b92abea4b5ab12ea9bcf009997c",
       "version_major": 2,
       "version_minor": 0
      },
      "text/plain": [
       "Iterating over frames for track ID 5572:   0%|          | 0/85 [00:00<?, ?it/s]"
      ]
     },
     "metadata": {},
     "output_type": "display_data"
    },
    {
     "data": {
      "application/vnd.jupyter.widget-view+json": {
       "model_id": "f2ed145bdae04b93b375f18ce1ddc4a3",
       "version_major": 2,
       "version_minor": 0
      },
      "text/plain": [
       "Iterating over frames for track ID 5610:   0%|          | 0/154 [00:00<?, ?it/s]"
      ]
     },
     "metadata": {},
     "output_type": "display_data"
    },
    {
     "data": {
      "application/vnd.jupyter.widget-view+json": {
       "model_id": "4a634be0de0b40a19aab90c7d127d8c0",
       "version_major": 2,
       "version_minor": 0
      },
      "text/plain": [
       "Iterating over frames for track ID 5690:   0%|          | 0/104 [00:00<?, ?it/s]"
      ]
     },
     "metadata": {},
     "output_type": "display_data"
    },
    {
     "data": {
      "application/vnd.jupyter.widget-view+json": {
       "model_id": "e3211f4a92bd492191a0e1c1477d6957",
       "version_major": 2,
       "version_minor": 0
      },
      "text/plain": [
       "Iterating over frames for track ID 5727:   0%|          | 0/154 [00:00<?, ?it/s]"
      ]
     },
     "metadata": {},
     "output_type": "display_data"
    },
    {
     "data": {
      "application/vnd.jupyter.widget-view+json": {
       "model_id": "69b8abbe78324477a6ca9fcb690ff80e",
       "version_major": 2,
       "version_minor": 0
      },
      "text/plain": [
       "Iterating over frames for track ID 5736:   0%|          | 0/154 [00:00<?, ?it/s]"
      ]
     },
     "metadata": {},
     "output_type": "display_data"
    },
    {
     "data": {
      "application/vnd.jupyter.widget-view+json": {
       "model_id": "3a53f1f569cf4a1795fed877d718bc11",
       "version_major": 2,
       "version_minor": 0
      },
      "text/plain": [
       "Iterating over frames for track ID 5750:   0%|          | 0/105 [00:00<?, ?it/s]"
      ]
     },
     "metadata": {},
     "output_type": "display_data"
    },
    {
     "data": {
      "application/vnd.jupyter.widget-view+json": {
       "model_id": "6873a1fe7ecf4b4194ea37b433b81e8c",
       "version_major": 2,
       "version_minor": 0
      },
      "text/plain": [
       "Iterating over frames for track ID 5760:   0%|          | 0/143 [00:00<?, ?it/s]"
      ]
     },
     "metadata": {},
     "output_type": "display_data"
    },
    {
     "data": {
      "application/vnd.jupyter.widget-view+json": {
       "model_id": "034bc481d43d4fc6901d2d6406a4722e",
       "version_major": 2,
       "version_minor": 0
      },
      "text/plain": [
       "Iterating over frames for track ID 5770:   0%|          | 0/154 [00:00<?, ?it/s]"
      ]
     },
     "metadata": {},
     "output_type": "display_data"
    },
    {
     "data": {
      "application/vnd.jupyter.widget-view+json": {
       "model_id": "06be050b0a4b41b4a12284aafe3da92d",
       "version_major": 2,
       "version_minor": 0
      },
      "text/plain": [
       "Iterating over frames for track ID 5773:   0%|          | 0/91 [00:00<?, ?it/s]"
      ]
     },
     "metadata": {},
     "output_type": "display_data"
    },
    {
     "data": {
      "application/vnd.jupyter.widget-view+json": {
       "model_id": "c09b44d647c543e8bca25e0c3ebf24ff",
       "version_major": 2,
       "version_minor": 0
      },
      "text/plain": [
       "Iterating over frames for track ID 5776:   0%|          | 0/115 [00:00<?, ?it/s]"
      ]
     },
     "metadata": {},
     "output_type": "display_data"
    },
    {
     "data": {
      "application/vnd.jupyter.widget-view+json": {
       "model_id": "87ca17d7f372445cbb5c1178e2fd53ae",
       "version_major": 2,
       "version_minor": 0
      },
      "text/plain": [
       "Iterating over frames for track ID 5869:   0%|          | 0/145 [00:00<?, ?it/s]"
      ]
     },
     "metadata": {},
     "output_type": "display_data"
    },
    {
     "data": {
      "application/vnd.jupyter.widget-view+json": {
       "model_id": "130b7ea83dc54e2a86a8cfe38f3811b8",
       "version_major": 2,
       "version_minor": 0
      },
      "text/plain": [
       "Iterating over frames for track ID 5885:   0%|          | 0/88 [00:00<?, ?it/s]"
      ]
     },
     "metadata": {},
     "output_type": "display_data"
    },
    {
     "data": {
      "application/vnd.jupyter.widget-view+json": {
       "model_id": "37528fc061484ee59de0b101cfab7f0f",
       "version_major": 2,
       "version_minor": 0
      },
      "text/plain": [
       "Iterating over frames for track ID 5998:   0%|          | 0/109 [00:00<?, ?it/s]"
      ]
     },
     "metadata": {},
     "output_type": "display_data"
    },
    {
     "data": {
      "application/vnd.jupyter.widget-view+json": {
       "model_id": "5e88cc30d04f474599cd6fc5f45f46ed",
       "version_major": 2,
       "version_minor": 0
      },
      "text/plain": [
       "Iterating over frames for track ID 5999:   0%|          | 0/154 [00:00<?, ?it/s]"
      ]
     },
     "metadata": {},
     "output_type": "display_data"
    },
    {
     "data": {
      "application/vnd.jupyter.widget-view+json": {
       "model_id": "6018c8283dde4d60b49086ed33802909",
       "version_major": 2,
       "version_minor": 0
      },
      "text/plain": [
       "Iterating over frames for track ID 6075:   0%|          | 0/86 [00:00<?, ?it/s]"
      ]
     },
     "metadata": {},
     "output_type": "display_data"
    },
    {
     "data": {
      "application/vnd.jupyter.widget-view+json": {
       "model_id": "278173a0ab494e7bb737360a1c949960",
       "version_major": 2,
       "version_minor": 0
      },
      "text/plain": [
       "Iterating over frames for track ID 6085:   0%|          | 0/154 [00:00<?, ?it/s]"
      ]
     },
     "metadata": {},
     "output_type": "display_data"
    },
    {
     "data": {
      "application/vnd.jupyter.widget-view+json": {
       "model_id": "938ea4f028c3455cbdf428dc5d5cf506",
       "version_major": 2,
       "version_minor": 0
      },
      "text/plain": [
       "Iterating over frames for track ID 6096:   0%|          | 0/154 [00:00<?, ?it/s]"
      ]
     },
     "metadata": {},
     "output_type": "display_data"
    },
    {
     "data": {
      "application/vnd.jupyter.widget-view+json": {
       "model_id": "faaa4d55f0bc4a2d9049e2c6937f5245",
       "version_major": 2,
       "version_minor": 0
      },
      "text/plain": [
       "Iterating over frames for track ID 6128:   0%|          | 0/98 [00:00<?, ?it/s]"
      ]
     },
     "metadata": {},
     "output_type": "display_data"
    },
    {
     "data": {
      "application/vnd.jupyter.widget-view+json": {
       "model_id": "8706deaddb4f4cab80782417a003d39b",
       "version_major": 2,
       "version_minor": 0
      },
      "text/plain": [
       "Iterating over frames for track ID 6157:   0%|          | 0/79 [00:00<?, ?it/s]"
      ]
     },
     "metadata": {},
     "output_type": "display_data"
    },
    {
     "data": {
      "application/vnd.jupyter.widget-view+json": {
       "model_id": "d861a9401a874fc9a752f02972d30296",
       "version_major": 2,
       "version_minor": 0
      },
      "text/plain": [
       "Iterating over frames for track ID 6174:   0%|          | 0/79 [00:00<?, ?it/s]"
      ]
     },
     "metadata": {},
     "output_type": "display_data"
    },
    {
     "data": {
      "application/vnd.jupyter.widget-view+json": {
       "model_id": "e377784a350740768581eedb910731e9",
       "version_major": 2,
       "version_minor": 0
      },
      "text/plain": [
       "Iterating over frames for track ID 6194:   0%|          | 0/87 [00:00<?, ?it/s]"
      ]
     },
     "metadata": {},
     "output_type": "display_data"
    },
    {
     "data": {
      "application/vnd.jupyter.widget-view+json": {
       "model_id": "eed4e03fa600491c999e056747a06346",
       "version_major": 2,
       "version_minor": 0
      },
      "text/plain": [
       "Iterating over frames for track ID 6209:   0%|          | 0/76 [00:00<?, ?it/s]"
      ]
     },
     "metadata": {},
     "output_type": "display_data"
    },
    {
     "data": {
      "application/vnd.jupyter.widget-view+json": {
       "model_id": "0c0747eff4844fe7b582434de78ed96e",
       "version_major": 2,
       "version_minor": 0
      },
      "text/plain": [
       "Iterating over frames for track ID 6368:   0%|          | 0/91 [00:00<?, ?it/s]"
      ]
     },
     "metadata": {},
     "output_type": "display_data"
    },
    {
     "data": {
      "application/vnd.jupyter.widget-view+json": {
       "model_id": "e1aba9f817c04080a40c79b6090d22ea",
       "version_major": 2,
       "version_minor": 0
      },
      "text/plain": [
       "Iterating over frames for track ID 6369:   0%|          | 0/76 [00:00<?, ?it/s]"
      ]
     },
     "metadata": {},
     "output_type": "display_data"
    },
    {
     "data": {
      "application/vnd.jupyter.widget-view+json": {
       "model_id": "e5687da26703460190822959dfe65e51",
       "version_major": 2,
       "version_minor": 0
      },
      "text/plain": [
       "Iterating over frames for track ID 6413:   0%|          | 0/99 [00:00<?, ?it/s]"
      ]
     },
     "metadata": {},
     "output_type": "display_data"
    },
    {
     "data": {
      "application/vnd.jupyter.widget-view+json": {
       "model_id": "25a6c44295f542d380a67836dbb5f475",
       "version_major": 2,
       "version_minor": 0
      },
      "text/plain": [
       "Iterating over frames for track ID 6432:   0%|          | 0/87 [00:00<?, ?it/s]"
      ]
     },
     "metadata": {},
     "output_type": "display_data"
    },
    {
     "data": {
      "application/vnd.jupyter.widget-view+json": {
       "model_id": "2bf120cb919a4efc8540e2dabf87bc06",
       "version_major": 2,
       "version_minor": 0
      },
      "text/plain": [
       "Iterating over frames for track ID 6452:   0%|          | 0/83 [00:00<?, ?it/s]"
      ]
     },
     "metadata": {},
     "output_type": "display_data"
    },
    {
     "data": {
      "application/vnd.jupyter.widget-view+json": {
       "model_id": "82ff6fe0940f470282b6227f30183fa6",
       "version_major": 2,
       "version_minor": 0
      },
      "text/plain": [
       "Iterating over frames for track ID 6524:   0%|          | 0/85 [00:00<?, ?it/s]"
      ]
     },
     "metadata": {},
     "output_type": "display_data"
    },
    {
     "data": {
      "application/vnd.jupyter.widget-view+json": {
       "model_id": "ad49b45a2b0840faa88a641510de4030",
       "version_major": 2,
       "version_minor": 0
      },
      "text/plain": [
       "Iterating over frames for track ID 6556:   0%|          | 0/78 [00:00<?, ?it/s]"
      ]
     },
     "metadata": {},
     "output_type": "display_data"
    },
    {
     "data": {
      "application/vnd.jupyter.widget-view+json": {
       "model_id": "0ddfec8e35354eb48c14adc98b619175",
       "version_major": 2,
       "version_minor": 0
      },
      "text/plain": [
       "Iterating over frames for track ID 6561:   0%|          | 0/96 [00:00<?, ?it/s]"
      ]
     },
     "metadata": {},
     "output_type": "display_data"
    },
    {
     "data": {
      "application/vnd.jupyter.widget-view+json": {
       "model_id": "ffca1859efb54385844fb4d3efa75445",
       "version_major": 2,
       "version_minor": 0
      },
      "text/plain": [
       "Iterating over frames for track ID 6565:   0%|          | 0/78 [00:00<?, ?it/s]"
      ]
     },
     "metadata": {},
     "output_type": "display_data"
    },
    {
     "data": {
      "application/vnd.jupyter.widget-view+json": {
       "model_id": "669eddd318d7465cb2c58752ea9f5185",
       "version_major": 2,
       "version_minor": 0
      },
      "text/plain": [
       "Iterating over frames for track ID 6598:   0%|          | 0/149 [00:00<?, ?it/s]"
      ]
     },
     "metadata": {},
     "output_type": "display_data"
    },
    {
     "data": {
      "application/vnd.jupyter.widget-view+json": {
       "model_id": "c7a9382aeb4c44a1a5e6bf09a33b9a12",
       "version_major": 2,
       "version_minor": 0
      },
      "text/plain": [
       "Iterating over frames for track ID 6646:   0%|          | 0/116 [00:00<?, ?it/s]"
      ]
     },
     "metadata": {},
     "output_type": "display_data"
    },
    {
     "data": {
      "application/vnd.jupyter.widget-view+json": {
       "model_id": "f1379610421c4e5fb0e1f631b69833aa",
       "version_major": 2,
       "version_minor": 0
      },
      "text/plain": [
       "Iterating over frames for track ID 6653:   0%|          | 0/107 [00:00<?, ?it/s]"
      ]
     },
     "metadata": {},
     "output_type": "display_data"
    },
    {
     "data": {
      "application/vnd.jupyter.widget-view+json": {
       "model_id": "e755320c3cbc4985894f3660880f369f",
       "version_major": 2,
       "version_minor": 0
      },
      "text/plain": [
       "Iterating over frames for track ID 6654:   0%|          | 0/154 [00:00<?, ?it/s]"
      ]
     },
     "metadata": {},
     "output_type": "display_data"
    },
    {
     "data": {
      "application/vnd.jupyter.widget-view+json": {
       "model_id": "a43cbf60ebb242dcb9599fc1bdc6585b",
       "version_major": 2,
       "version_minor": 0
      },
      "text/plain": [
       "Iterating over frames for track ID 6657:   0%|          | 0/151 [00:00<?, ?it/s]"
      ]
     },
     "metadata": {},
     "output_type": "display_data"
    },
    {
     "data": {
      "application/vnd.jupyter.widget-view+json": {
       "model_id": "3cd9f3e9ae1940e991520ea1ce957976",
       "version_major": 2,
       "version_minor": 0
      },
      "text/plain": [
       "Iterating over frames for track ID 6697:   0%|          | 0/103 [00:00<?, ?it/s]"
      ]
     },
     "metadata": {},
     "output_type": "display_data"
    },
    {
     "data": {
      "application/vnd.jupyter.widget-view+json": {
       "model_id": "61e87d0fc5804280a852bfe153f07a1c",
       "version_major": 2,
       "version_minor": 0
      },
      "text/plain": [
       "Iterating over frames for track ID 6719:   0%|          | 0/86 [00:00<?, ?it/s]"
      ]
     },
     "metadata": {},
     "output_type": "display_data"
    },
    {
     "data": {
      "application/vnd.jupyter.widget-view+json": {
       "model_id": "49356467f66045c8b129471d15f3f69b",
       "version_major": 2,
       "version_minor": 0
      },
      "text/plain": [
       "Iterating over frames for track ID 6780:   0%|          | 0/97 [00:00<?, ?it/s]"
      ]
     },
     "metadata": {},
     "output_type": "display_data"
    },
    {
     "data": {
      "application/vnd.jupyter.widget-view+json": {
       "model_id": "05be15d0b5bf44d99121bed80d95b684",
       "version_major": 2,
       "version_minor": 0
      },
      "text/plain": [
       "Iterating over frames for track ID 6863:   0%|          | 0/96 [00:00<?, ?it/s]"
      ]
     },
     "metadata": {},
     "output_type": "display_data"
    },
    {
     "data": {
      "application/vnd.jupyter.widget-view+json": {
       "model_id": "1e6a9e686e524eadb1d831a5c86ab0db",
       "version_major": 2,
       "version_minor": 0
      },
      "text/plain": [
       "Iterating over frames for track ID 6926:   0%|          | 0/104 [00:00<?, ?it/s]"
      ]
     },
     "metadata": {},
     "output_type": "display_data"
    },
    {
     "data": {
      "application/vnd.jupyter.widget-view+json": {
       "model_id": "5683b37f888d49b888d8f7c836bec340",
       "version_major": 2,
       "version_minor": 0
      },
      "text/plain": [
       "Iterating over frames for track ID 7006:   0%|          | 0/134 [00:00<?, ?it/s]"
      ]
     },
     "metadata": {},
     "output_type": "display_data"
    },
    {
     "data": {
      "application/vnd.jupyter.widget-view+json": {
       "model_id": "7a5b1f09e82049749185ad6d6e9545cf",
       "version_major": 2,
       "version_minor": 0
      },
      "text/plain": [
       "Iterating over frames for track ID 7033:   0%|          | 0/103 [00:00<?, ?it/s]"
      ]
     },
     "metadata": {},
     "output_type": "display_data"
    },
    {
     "data": {
      "application/vnd.jupyter.widget-view+json": {
       "model_id": "3c80e72b81644000aee595fd9f129b05",
       "version_major": 2,
       "version_minor": 0
      },
      "text/plain": [
       "Iterating over frames for track ID 7066:   0%|          | 0/135 [00:00<?, ?it/s]"
      ]
     },
     "metadata": {},
     "output_type": "display_data"
    },
    {
     "data": {
      "application/vnd.jupyter.widget-view+json": {
       "model_id": "fd8f1c726c9e497faa6d9e8c9fc7fbd4",
       "version_major": 2,
       "version_minor": 0
      },
      "text/plain": [
       "Iterating over frames for track ID 7114:   0%|          | 0/107 [00:00<?, ?it/s]"
      ]
     },
     "metadata": {},
     "output_type": "display_data"
    },
    {
     "data": {
      "application/vnd.jupyter.widget-view+json": {
       "model_id": "efd9495ad43c4f8e8dc27519eba4cbe3",
       "version_major": 2,
       "version_minor": 0
      },
      "text/plain": [
       "Iterating over frames for track ID 7222:   0%|          | 0/139 [00:00<?, ?it/s]"
      ]
     },
     "metadata": {},
     "output_type": "display_data"
    },
    {
     "data": {
      "application/vnd.jupyter.widget-view+json": {
       "model_id": "a08bbd8c69764417aadde03c699ca62d",
       "version_major": 2,
       "version_minor": 0
      },
      "text/plain": [
       "Iterating over frames for track ID 7311:   0%|          | 0/94 [00:00<?, ?it/s]"
      ]
     },
     "metadata": {},
     "output_type": "display_data"
    },
    {
     "data": {
      "application/vnd.jupyter.widget-view+json": {
       "model_id": "7681179db73e4fd8887f1ae5c0318d25",
       "version_major": 2,
       "version_minor": 0
      },
      "text/plain": [
       "Iterating over frames for track ID 7349:   0%|          | 0/154 [00:00<?, ?it/s]"
      ]
     },
     "metadata": {},
     "output_type": "display_data"
    },
    {
     "data": {
      "application/vnd.jupyter.widget-view+json": {
       "model_id": "b513c072771847b1be95c9a279182033",
       "version_major": 2,
       "version_minor": 0
      },
      "text/plain": [
       "Iterating over frames for track ID 7372:   0%|          | 0/136 [00:00<?, ?it/s]"
      ]
     },
     "metadata": {},
     "output_type": "display_data"
    },
    {
     "data": {
      "application/vnd.jupyter.widget-view+json": {
       "model_id": "5e9d08023fe7496d890502c3cb6c5ce4",
       "version_major": 2,
       "version_minor": 0
      },
      "text/plain": [
       "Iterating over frames for track ID 7424:   0%|          | 0/102 [00:00<?, ?it/s]"
      ]
     },
     "metadata": {},
     "output_type": "display_data"
    },
    {
     "data": {
      "application/vnd.jupyter.widget-view+json": {
       "model_id": "420235b663a9451883c0c16862ac599d",
       "version_major": 2,
       "version_minor": 0
      },
      "text/plain": [
       "Iterating over frames for track ID 7562:   0%|          | 0/79 [00:00<?, ?it/s]"
      ]
     },
     "metadata": {},
     "output_type": "display_data"
    },
    {
     "data": {
      "application/vnd.jupyter.widget-view+json": {
       "model_id": "f3cfe2e4e81748c38893d3dc5320f6f1",
       "version_major": 2,
       "version_minor": 0
      },
      "text/plain": [
       "Iterating over frames for track ID 7716:   0%|          | 0/144 [00:00<?, ?it/s]"
      ]
     },
     "metadata": {},
     "output_type": "display_data"
    },
    {
     "data": {
      "application/vnd.jupyter.widget-view+json": {
       "model_id": "0a41718a62c44de99aa4c700943dd547",
       "version_major": 2,
       "version_minor": 0
      },
      "text/plain": [
       "Iterating over frames for track ID 7827:   0%|          | 0/110 [00:00<?, ?it/s]"
      ]
     },
     "metadata": {},
     "output_type": "display_data"
    },
    {
     "data": {
      "application/vnd.jupyter.widget-view+json": {
       "model_id": "94882999985540e8be9f771c030a15cd",
       "version_major": 2,
       "version_minor": 0
      },
      "text/plain": [
       "Iterating over frames for track ID 7859:   0%|          | 0/105 [00:00<?, ?it/s]"
      ]
     },
     "metadata": {},
     "output_type": "display_data"
    },
    {
     "data": {
      "application/vnd.jupyter.widget-view+json": {
       "model_id": "e831d5a3f8a847bcb55da41585670810",
       "version_major": 2,
       "version_minor": 0
      },
      "text/plain": [
       "Iterating over frames for track ID 7877:   0%|          | 0/84 [00:00<?, ?it/s]"
      ]
     },
     "metadata": {},
     "output_type": "display_data"
    },
    {
     "data": {
      "application/vnd.jupyter.widget-view+json": {
       "model_id": "0f40102ad90440058a15a40be6a9744b",
       "version_major": 2,
       "version_minor": 0
      },
      "text/plain": [
       "Iterating over frames for track ID 7945:   0%|          | 0/80 [00:00<?, ?it/s]"
      ]
     },
     "metadata": {},
     "output_type": "display_data"
    },
    {
     "data": {
      "application/vnd.jupyter.widget-view+json": {
       "model_id": "0c426f87aee44706b1318ce20c24e9ce",
       "version_major": 2,
       "version_minor": 0
      },
      "text/plain": [
       "Iterating over frames for track ID 7962:   0%|          | 0/90 [00:00<?, ?it/s]"
      ]
     },
     "metadata": {},
     "output_type": "display_data"
    },
    {
     "data": {
      "application/vnd.jupyter.widget-view+json": {
       "model_id": "148866ff9f2d4ff8bcdc06488f69a7c1",
       "version_major": 2,
       "version_minor": 0
      },
      "text/plain": [
       "Iterating over frames for track ID 8076:   0%|          | 0/110 [00:00<?, ?it/s]"
      ]
     },
     "metadata": {},
     "output_type": "display_data"
    },
    {
     "data": {
      "application/vnd.jupyter.widget-view+json": {
       "model_id": "580276d22fb84324ac44daabdd41eb8e",
       "version_major": 2,
       "version_minor": 0
      },
      "text/plain": [
       "Iterating over frames for track ID 8173:   0%|          | 0/143 [00:00<?, ?it/s]"
      ]
     },
     "metadata": {},
     "output_type": "display_data"
    },
    {
     "data": {
      "application/vnd.jupyter.widget-view+json": {
       "model_id": "d82e634215da4a8fa10ec85cc0e2469c",
       "version_major": 2,
       "version_minor": 0
      },
      "text/plain": [
       "Iterating over frames for track ID 8184:   0%|          | 0/123 [00:00<?, ?it/s]"
      ]
     },
     "metadata": {},
     "output_type": "display_data"
    },
    {
     "data": {
      "application/vnd.jupyter.widget-view+json": {
       "model_id": "fe4225abd45741afb7b70da864bc755e",
       "version_major": 2,
       "version_minor": 0
      },
      "text/plain": [
       "Iterating over frames for track ID 8242:   0%|          | 0/101 [00:00<?, ?it/s]"
      ]
     },
     "metadata": {},
     "output_type": "display_data"
    },
    {
     "data": {
      "application/vnd.jupyter.widget-view+json": {
       "model_id": "d8b1880302d14f6fbd2a39f776ff61cf",
       "version_major": 2,
       "version_minor": 0
      },
      "text/plain": [
       "Iterating over frames for track ID 8253:   0%|          | 0/141 [00:00<?, ?it/s]"
      ]
     },
     "metadata": {},
     "output_type": "display_data"
    },
    {
     "data": {
      "application/vnd.jupyter.widget-view+json": {
       "model_id": "a74ac60b28b845949d576b5a6800a7b9",
       "version_major": 2,
       "version_minor": 0
      },
      "text/plain": [
       "Iterating over frames for track ID 8273:   0%|          | 0/112 [00:00<?, ?it/s]"
      ]
     },
     "metadata": {},
     "output_type": "display_data"
    },
    {
     "data": {
      "application/vnd.jupyter.widget-view+json": {
       "model_id": "47b911a7f8ae4417a3811052cc2d89d6",
       "version_major": 2,
       "version_minor": 0
      },
      "text/plain": [
       "Iterating over frames for track ID 8284:   0%|          | 0/95 [00:00<?, ?it/s]"
      ]
     },
     "metadata": {},
     "output_type": "display_data"
    },
    {
     "data": {
      "application/vnd.jupyter.widget-view+json": {
       "model_id": "f3e622a50512476e9dcb43b6ca6516a2",
       "version_major": 2,
       "version_minor": 0
      },
      "text/plain": [
       "Iterating over frames for track ID 8357:   0%|          | 0/101 [00:00<?, ?it/s]"
      ]
     },
     "metadata": {},
     "output_type": "display_data"
    },
    {
     "data": {
      "application/vnd.jupyter.widget-view+json": {
       "model_id": "61783201e85e41d9a22c18bb67f819ff",
       "version_major": 2,
       "version_minor": 0
      },
      "text/plain": [
       "Iterating over frames for track ID 8358:   0%|          | 0/131 [00:00<?, ?it/s]"
      ]
     },
     "metadata": {},
     "output_type": "display_data"
    },
    {
     "data": {
      "application/vnd.jupyter.widget-view+json": {
       "model_id": "0ed3a9d9e5004f61a2e6e0d12fc4e5ee",
       "version_major": 2,
       "version_minor": 0
      },
      "text/plain": [
       "Iterating over frames for track ID 8411:   0%|          | 0/99 [00:00<?, ?it/s]"
      ]
     },
     "metadata": {},
     "output_type": "display_data"
    },
    {
     "data": {
      "application/vnd.jupyter.widget-view+json": {
       "model_id": "08ba9e569a1c44e48f16eb0a7c906e6c",
       "version_major": 2,
       "version_minor": 0
      },
      "text/plain": [
       "Iterating over frames for track ID 8425:   0%|          | 0/78 [00:00<?, ?it/s]"
      ]
     },
     "metadata": {},
     "output_type": "display_data"
    },
    {
     "data": {
      "application/vnd.jupyter.widget-view+json": {
       "model_id": "0170dc097f794a569a7d21004fa35309",
       "version_major": 2,
       "version_minor": 0
      },
      "text/plain": [
       "Iterating over frames for track ID 8589:   0%|          | 0/87 [00:00<?, ?it/s]"
      ]
     },
     "metadata": {},
     "output_type": "display_data"
    },
    {
     "data": {
      "application/vnd.jupyter.widget-view+json": {
       "model_id": "64f794a18f8b4ce5a03de6cc24850a89",
       "version_major": 2,
       "version_minor": 0
      },
      "text/plain": [
       "Iterating over frames for track ID 8607:   0%|          | 0/90 [00:00<?, ?it/s]"
      ]
     },
     "metadata": {},
     "output_type": "display_data"
    },
    {
     "data": {
      "application/vnd.jupyter.widget-view+json": {
       "model_id": "09d3fa447402463b825585c633a381c8",
       "version_major": 2,
       "version_minor": 0
      },
      "text/plain": [
       "Iterating over frames for track ID 8637:   0%|          | 0/101 [00:00<?, ?it/s]"
      ]
     },
     "metadata": {},
     "output_type": "display_data"
    },
    {
     "data": {
      "application/vnd.jupyter.widget-view+json": {
       "model_id": "d009aea2880b4cfabdc4c464c2a2f58d",
       "version_major": 2,
       "version_minor": 0
      },
      "text/plain": [
       "Iterating over frames for track ID 8687:   0%|          | 0/92 [00:00<?, ?it/s]"
      ]
     },
     "metadata": {},
     "output_type": "display_data"
    },
    {
     "data": {
      "application/vnd.jupyter.widget-view+json": {
       "model_id": "3105ed4677c74aaa95f3eaa20e49d820",
       "version_major": 2,
       "version_minor": 0
      },
      "text/plain": [
       "Iterating over frames for track ID 8698:   0%|          | 0/98 [00:00<?, ?it/s]"
      ]
     },
     "metadata": {},
     "output_type": "display_data"
    },
    {
     "data": {
      "application/vnd.jupyter.widget-view+json": {
       "model_id": "d0141d9bde5b4ad0a9e58bbb2189eeda",
       "version_major": 2,
       "version_minor": 0
      },
      "text/plain": [
       "Iterating over frames for track ID 8712:   0%|          | 0/78 [00:00<?, ?it/s]"
      ]
     },
     "metadata": {},
     "output_type": "display_data"
    },
    {
     "data": {
      "application/vnd.jupyter.widget-view+json": {
       "model_id": "324971016233437aa3c4e184b6a6ca36",
       "version_major": 2,
       "version_minor": 0
      },
      "text/plain": [
       "Iterating over frames for track ID 8743:   0%|          | 0/116 [00:00<?, ?it/s]"
      ]
     },
     "metadata": {},
     "output_type": "display_data"
    },
    {
     "data": {
      "application/vnd.jupyter.widget-view+json": {
       "model_id": "c482827a0e9c4ddd89502534e86763fd",
       "version_major": 2,
       "version_minor": 0
      },
      "text/plain": [
       "Iterating over frames for track ID 8784:   0%|          | 0/88 [00:00<?, ?it/s]"
      ]
     },
     "metadata": {},
     "output_type": "display_data"
    },
    {
     "data": {
      "application/vnd.jupyter.widget-view+json": {
       "model_id": "fb748c098c3a4a1d9e15f2b16d2d8e63",
       "version_major": 2,
       "version_minor": 0
      },
      "text/plain": [
       "Iterating over frames for track ID 8877:   0%|          | 0/102 [00:00<?, ?it/s]"
      ]
     },
     "metadata": {},
     "output_type": "display_data"
    },
    {
     "data": {
      "application/vnd.jupyter.widget-view+json": {
       "model_id": "f0e48f2aef5842f99f3895d83f0c6679",
       "version_major": 2,
       "version_minor": 0
      },
      "text/plain": [
       "Iterating over frames for track ID 9045:   0%|          | 0/82 [00:00<?, ?it/s]"
      ]
     },
     "metadata": {},
     "output_type": "display_data"
    },
    {
     "data": {
      "application/vnd.jupyter.widget-view+json": {
       "model_id": "aa966a85b95448a3a699f985f23dee5f",
       "version_major": 2,
       "version_minor": 0
      },
      "text/plain": [
       "Iterating over frames for track ID 9167:   0%|          | 0/77 [00:00<?, ?it/s]"
      ]
     },
     "metadata": {},
     "output_type": "display_data"
    },
    {
     "data": {
      "application/vnd.jupyter.widget-view+json": {
       "model_id": "7015e5dc24e1415493d01681932967dd",
       "version_major": 2,
       "version_minor": 0
      },
      "text/plain": [
       "Iterating over frames for track ID 9211:   0%|          | 0/95 [00:00<?, ?it/s]"
      ]
     },
     "metadata": {},
     "output_type": "display_data"
    },
    {
     "data": {
      "application/vnd.jupyter.widget-view+json": {
       "model_id": "895b1390694e4782945767821cb5200f",
       "version_major": 2,
       "version_minor": 0
      },
      "text/plain": [
       "Iterating over frames for track ID 9316:   0%|          | 0/76 [00:00<?, ?it/s]"
      ]
     },
     "metadata": {},
     "output_type": "display_data"
    },
    {
     "data": {
      "application/vnd.jupyter.widget-view+json": {
       "model_id": "710bdf6390ce4795ad1b3fbf32e499d3",
       "version_major": 2,
       "version_minor": 0
      },
      "text/plain": [
       "Iterating over frames for track ID 9328:   0%|          | 0/144 [00:00<?, ?it/s]"
      ]
     },
     "metadata": {},
     "output_type": "display_data"
    },
    {
     "data": {
      "application/vnd.jupyter.widget-view+json": {
       "model_id": "cab40888dc1d41a787f981c63a0b819b",
       "version_major": 2,
       "version_minor": 0
      },
      "text/plain": [
       "Iterating over frames for track ID 9435:   0%|          | 0/83 [00:00<?, ?it/s]"
      ]
     },
     "metadata": {},
     "output_type": "display_data"
    },
    {
     "data": {
      "application/vnd.jupyter.widget-view+json": {
       "model_id": "5584d2f76e9c4d42a1b08042291a75de",
       "version_major": 2,
       "version_minor": 0
      },
      "text/plain": [
       "Iterating over frames for track ID 9464:   0%|          | 0/154 [00:00<?, ?it/s]"
      ]
     },
     "metadata": {},
     "output_type": "display_data"
    },
    {
     "data": {
      "application/vnd.jupyter.widget-view+json": {
       "model_id": "047ed4de5ff5421d8856474fe978a814",
       "version_major": 2,
       "version_minor": 0
      },
      "text/plain": [
       "Iterating over frames for track ID 9481:   0%|          | 0/105 [00:00<?, ?it/s]"
      ]
     },
     "metadata": {},
     "output_type": "display_data"
    },
    {
     "data": {
      "application/vnd.jupyter.widget-view+json": {
       "model_id": "024239332edd454aa96dc0acba377dc4",
       "version_major": 2,
       "version_minor": 0
      },
      "text/plain": [
       "Iterating over frames for track ID 9499:   0%|          | 0/79 [00:00<?, ?it/s]"
      ]
     },
     "metadata": {},
     "output_type": "display_data"
    },
    {
     "data": {
      "application/vnd.jupyter.widget-view+json": {
       "model_id": "d6be02a094644b51840119d631906e5a",
       "version_major": 2,
       "version_minor": 0
      },
      "text/plain": [
       "Iterating over frames for track ID 9549:   0%|          | 0/90 [00:00<?, ?it/s]"
      ]
     },
     "metadata": {},
     "output_type": "display_data"
    },
    {
     "data": {
      "application/vnd.jupyter.widget-view+json": {
       "model_id": "f3dcd523d8d648bebc7b7cea614966e3",
       "version_major": 2,
       "version_minor": 0
      },
      "text/plain": [
       "Iterating over frames for track ID 9711:   0%|          | 0/81 [00:00<?, ?it/s]"
      ]
     },
     "metadata": {},
     "output_type": "display_data"
    },
    {
     "data": {
      "application/vnd.jupyter.widget-view+json": {
       "model_id": "f3be44ef900c42c386817293ee4c0283",
       "version_major": 2,
       "version_minor": 0
      },
      "text/plain": [
       "Iterating over frames for track ID 9826:   0%|          | 0/84 [00:00<?, ?it/s]"
      ]
     },
     "metadata": {},
     "output_type": "display_data"
    },
    {
     "data": {
      "application/vnd.jupyter.widget-view+json": {
       "model_id": "853cf6f739ad4a9db7aeb41d258f487c",
       "version_major": 2,
       "version_minor": 0
      },
      "text/plain": [
       "Iterating over frames for track ID 9984:   0%|          | 0/90 [00:00<?, ?it/s]"
      ]
     },
     "metadata": {},
     "output_type": "display_data"
    },
    {
     "data": {
      "application/vnd.jupyter.widget-view+json": {
       "model_id": "e2e7711c7cdd459f94cd85c01b1f5a9b",
       "version_major": 2,
       "version_minor": 0
      },
      "text/plain": [
       "Iterating over frames for track ID 9992:   0%|          | 0/76 [00:00<?, ?it/s]"
      ]
     },
     "metadata": {},
     "output_type": "display_data"
    },
    {
     "data": {
      "application/vnd.jupyter.widget-view+json": {
       "model_id": "c0dd8237c7a34faca2ba7bdc3e2062c8",
       "version_major": 2,
       "version_minor": 0
      },
      "text/plain": [
       "Iterating over frames for track ID 10207:   0%|          | 0/94 [00:00<?, ?it/s]"
      ]
     },
     "metadata": {},
     "output_type": "display_data"
    },
    {
     "data": {
      "application/vnd.jupyter.widget-view+json": {
       "model_id": "c901caf651be481faed68c925863ada1",
       "version_major": 2,
       "version_minor": 0
      },
      "text/plain": [
       "Iterating over frames for track ID 10224:   0%|          | 0/103 [00:00<?, ?it/s]"
      ]
     },
     "metadata": {},
     "output_type": "display_data"
    },
    {
     "data": {
      "application/vnd.jupyter.widget-view+json": {
       "model_id": "c640c1623b59468186acf3814672fe30",
       "version_major": 2,
       "version_minor": 0
      },
      "text/plain": [
       "Iterating over frames for track ID 10428:   0%|          | 0/83 [00:00<?, ?it/s]"
      ]
     },
     "metadata": {},
     "output_type": "display_data"
    },
    {
     "data": {
      "application/vnd.jupyter.widget-view+json": {
       "model_id": "7d3148b7dcd34de0bf2dbc46088a03aa",
       "version_major": 2,
       "version_minor": 0
      },
      "text/plain": [
       "Iterating over frames for track ID 10448:   0%|          | 0/118 [00:00<?, ?it/s]"
      ]
     },
     "metadata": {},
     "output_type": "display_data"
    },
    {
     "data": {
      "application/vnd.jupyter.widget-view+json": {
       "model_id": "29be51d18e33457a8116845fc5c4807f",
       "version_major": 2,
       "version_minor": 0
      },
      "text/plain": [
       "Iterating over frames for track ID 10484:   0%|          | 0/81 [00:00<?, ?it/s]"
      ]
     },
     "metadata": {},
     "output_type": "display_data"
    },
    {
     "data": {
      "application/vnd.jupyter.widget-view+json": {
       "model_id": "23ed3b52083745ca9b8c21206ce3eb22",
       "version_major": 2,
       "version_minor": 0
      },
      "text/plain": [
       "Iterating over frames for track ID 10516:   0%|          | 0/125 [00:00<?, ?it/s]"
      ]
     },
     "metadata": {},
     "output_type": "display_data"
    },
    {
     "data": {
      "application/vnd.jupyter.widget-view+json": {
       "model_id": "d265a0bdccb042f8a46e6e7e3e3a39ee",
       "version_major": 2,
       "version_minor": 0
      },
      "text/plain": [
       "Iterating over frames for track ID 10529:   0%|          | 0/110 [00:00<?, ?it/s]"
      ]
     },
     "metadata": {},
     "output_type": "display_data"
    },
    {
     "data": {
      "application/vnd.jupyter.widget-view+json": {
       "model_id": "25ec8a60bd374bd28ac548a9c72e9ca6",
       "version_major": 2,
       "version_minor": 0
      },
      "text/plain": [
       "Iterating over frames for track ID 10653:   0%|          | 0/86 [00:00<?, ?it/s]"
      ]
     },
     "metadata": {},
     "output_type": "display_data"
    },
    {
     "data": {
      "application/vnd.jupyter.widget-view+json": {
       "model_id": "00b18d25cdaa48b396c4e19a98c9dc98",
       "version_major": 2,
       "version_minor": 0
      },
      "text/plain": [
       "Iterating over frames for track ID 10659:   0%|          | 0/79 [00:00<?, ?it/s]"
      ]
     },
     "metadata": {},
     "output_type": "display_data"
    },
    {
     "data": {
      "application/vnd.jupyter.widget-view+json": {
       "model_id": "54f0f619088742d2acdb1edb8d929622",
       "version_major": 2,
       "version_minor": 0
      },
      "text/plain": [
       "Iterating over frames for track ID 10823:   0%|          | 0/154 [00:00<?, ?it/s]"
      ]
     },
     "metadata": {},
     "output_type": "display_data"
    },
    {
     "data": {
      "application/vnd.jupyter.widget-view+json": {
       "model_id": "d6954a3ee4fd471c92f6c17327448a94",
       "version_major": 2,
       "version_minor": 0
      },
      "text/plain": [
       "Iterating over frames for track ID 10928:   0%|          | 0/123 [00:00<?, ?it/s]"
      ]
     },
     "metadata": {},
     "output_type": "display_data"
    },
    {
     "data": {
      "application/vnd.jupyter.widget-view+json": {
       "model_id": "8204a368c31244ce9548f2a66724a8f8",
       "version_major": 2,
       "version_minor": 0
      },
      "text/plain": [
       "Iterating over frames for track ID 10977:   0%|          | 0/97 [00:00<?, ?it/s]"
      ]
     },
     "metadata": {},
     "output_type": "display_data"
    },
    {
     "data": {
      "application/vnd.jupyter.widget-view+json": {
       "model_id": "9a9b019356a841149dc9acd8b99d325a",
       "version_major": 2,
       "version_minor": 0
      },
      "text/plain": [
       "Iterating over frames for track ID 10998:   0%|          | 0/90 [00:00<?, ?it/s]"
      ]
     },
     "metadata": {},
     "output_type": "display_data"
    },
    {
     "data": {
      "application/vnd.jupyter.widget-view+json": {
       "model_id": "37422e54868247ccb8fa9f268b4e978f",
       "version_major": 2,
       "version_minor": 0
      },
      "text/plain": [
       "Iterating over frames for track ID 11101:   0%|          | 0/83 [00:00<?, ?it/s]"
      ]
     },
     "metadata": {},
     "output_type": "display_data"
    },
    {
     "data": {
      "application/vnd.jupyter.widget-view+json": {
       "model_id": "703ca6a372284d0ea295de9130da19bc",
       "version_major": 2,
       "version_minor": 0
      },
      "text/plain": [
       "Iterating over frames for track ID 11128:   0%|          | 0/97 [00:00<?, ?it/s]"
      ]
     },
     "metadata": {},
     "output_type": "display_data"
    }
   ],
   "source": [
    "# tracks = pd.DataFrame(tracks, columns=['ID', 't', 'x', 'y']).astype(int)\n",
    "# # split channels\n",
    "# mphi_channel = np.max(images[:,mphi_channel_ID,...], axis=1)\n",
    "# mtb_channel = np.max(images[:,mtb_channel_ID,...], axis = 1)\n",
    "# thresholded_mtb_channel = mtb_channel >= mtb_load_thresh\n",
    "# now measure properties from prior segmentation?\n",
    "for cell_ID, track in tqdm(tracks.groupby('ID'), desc = 'iterating over tracks', total = len(tracks.ID.unique()), leave = False):\n",
    "    track = track.sort_values(by='t')\n",
    "    # Extract coordinates and time\n",
    "    times = track['t'].to_numpy() / 2  # Assuming you want to halve the time\n",
    "    frames = track['t'].to_numpy() \n",
    "\n",
    "    x_coords = track['x'].to_numpy().astype(int)\n",
    "    y_coords = track['y'].to_numpy().astype(int)\n",
    "\n",
    "\n",
    "    mtb_areas = []\n",
    "    mphi_areas = []\n",
    "    mean_intensities = []\n",
    "    # calculate the mtb pixel area and µm area\n",
    "    for i, frame in tqdm(enumerate(frames), desc = f'Iterating over frames for track ID {cell_ID}', total = len(frames), leave = False):\n",
    "        frame = frame - 1\n",
    "        segmentation_input_ID = original_segmentation[frame][x_coords[i], y_coords[i]]\n",
    "        if segmentation_input_ID == 0:  # Ignore background (assuming 0 is the background ID)\n",
    "                mtb_area_pixels = np.nan\n",
    "                mphi_area_pixels = np.nan\n",
    "        else:\n",
    "            \n",
    "            mask = original_segmentation[frame] == segmentation_input_ID  # Create a mask for the segment with 'seg_id'\n",
    "            \n",
    "            # chop up images into segments here\n",
    "            # image_segment = images[frame][:][mask]\n",
    "            thresholded_image_segment = thresholded_mtb_channel[frame][mask]\n",
    "    \n",
    "            # meaure segment\n",
    "            mtb_area_pixels = np.sum(thresholded_image_segment)\n",
    "            mphi_area_pixels = np.sum(mask)\n",
    "            # mean_intensity = np.mean(image_segment)\n",
    "\n",
    "        # store measurements\n",
    "        mtb_areas.append(mtb_area_pixels)\n",
    "        mphi_areas.append(mphi_area_pixels)\n",
    "        # mean_intensities.append(mean_intensity)\n",
    "\n",
    "    track['Mtb Area (µm)'] = np.array(mtb_areas) * pixel_to_mum_sq_scale_factor\n",
    "    track['Mphi Area (µm)'] = np.array(mphi_areas) * pixel_to_mum_sq_scale_factor\n",
    "    # track['RFP'] = mean_intensities[mtb_channel_ID]\n",
    "    # track['GFP'] = mean_intensities[mphi_channel_ID]\n",
    "    # Compute MSD in a vectorized way\n",
    "    # track['MSD'] = calculate_msd(x_coords, y_coords)\n",
    "    \n",
    "    # infection statuses\n",
    "    track['Infection Status'] = track['Mtb Area (µm)'] > 0\n",
    "\n",
    "    track['Initial Infection Status'] = track['Mtb Area (µm)'].iloc[0] > 0 \n",
    "    track['Final Infection Status'] = track['Mtb Area (µm)'].iloc[-1] > 0 \n",
    "    track['ID'] = cell_ID\n",
    "    track['Unique_ID'] = f'{cell_ID}.{acq_ID[0]}.{acq_ID[1]}.{expt_ID}'\n",
    "\n",
    "    track_dfs.append(track)\n",
    "\n",
    "# Concatenate all track DataFrames into the larger 'df' DataFrame\n",
    "df = pd.concat(track_dfs, ignore_index=True)\n",
    "\n",
    "df.to_pickle(f'/mnt/SYNO/macrohet_syno/data/{expt_ID}/labels/sc_df_{acq_ID[0]}.{acq_ID[1]}.{expt_ID}.pkl')"
   ]
  },
  {
   "cell_type": "code",
   "execution_count": 74,
   "id": "66b2b233-872a-426c-96c4-7368cd0f3efb",
   "metadata": {},
   "outputs": [
    {
     "data": {
      "text/plain": [
       "(154, 3, 6048, 6048)"
      ]
     },
     "execution_count": 74,
     "metadata": {},
     "output_type": "execute_result"
    }
   ],
   "source": [
    "thresholded_mtb_channel.shape"
   ]
  },
  {
   "cell_type": "code",
   "execution_count": 73,
   "id": "0731742f-2c95-45a7-baf4-cdf15ff61584",
   "metadata": {},
   "outputs": [
    {
     "data": {
      "text/plain": [
       "<Image layer 'thresholded_mtb_channel' at 0x7f6150958fa0>"
      ]
     },
     "execution_count": 73,
     "metadata": {},
     "output_type": "execute_result"
    }
   ],
   "source": [
    "viewer.add_image(thresholded_mtb_channel)"
   ]
  },
  {
   "cell_type": "code",
   "execution_count": 71,
   "id": "2da6e71a-5153-4547-8fa9-c395b42e1996",
   "metadata": {},
   "outputs": [
    {
     "data": {
      "text/plain": [
       "<Image layer 'mask' at 0x7f615052f190>"
      ]
     },
     "execution_count": 71,
     "metadata": {},
     "output_type": "execute_result"
    }
   ],
   "source": [
    "viewer.add_image(mask)"
   ]
  },
  {
   "cell_type": "code",
   "execution_count": 33,
   "id": "3387df5f-a73a-43ea-8463-4d3b6f9cf12b",
   "metadata": {},
   "outputs": [
    {
     "data": {
      "text/plain": [
       "<Labels layer 'tracking_input_segmentation' at 0x7f654c93d120>"
      ]
     },
     "execution_count": 33,
     "metadata": {},
     "output_type": "execute_result"
    }
   ],
   "source": [
    "viewer = napari.Viewer()\n",
    "\n",
    "viewer.add_image(segmentation_input)\n",
    "viewer.add_labels(tracking_input_segmentation)"
   ]
  },
  {
   "cell_type": "code",
   "execution_count": 52,
   "id": "576871f0-2fb0-4f73-907f-020c9902d8fe",
   "metadata": {},
   "outputs": [
    {
     "data": {
      "text/plain": [
       "<Tracks layer 'tracks [1]' at 0x7f61525585e0>"
      ]
     },
     "execution_count": 52,
     "metadata": {},
     "output_type": "execute_result"
    }
   ],
   "source": [
    "viewer.add_tracks(tracks)"
   ]
  },
  {
   "cell_type": "code",
   "execution_count": 7,
   "id": "3ffb349c-b42c-4a67-b9d0-02c2a9af2325",
   "metadata": {},
   "outputs": [],
   "source": [
    "import napari"
   ]
  },
  {
   "cell_type": "code",
   "execution_count": 9,
   "id": "8ba268dd-e95e-4ec6-8c8d-5c5d6ff367ad",
   "metadata": {},
   "outputs": [
    {
     "data": {
      "text/plain": [
       "<Labels layer 'test' at 0x7f654f3b6dd0>"
      ]
     },
     "execution_count": 9,
     "metadata": {},
     "output_type": "execute_result"
    }
   ],
   "source": [
    "napari.Viewer().add_labels(test)"
   ]
  },
  {
   "cell_type": "code",
   "execution_count": 2,
   "id": "0d6fbe32-5e33-49a0-98c9-642aaf3b5839",
   "metadata": {},
   "outputs": [
    {
     "name": "stdout",
     "output_type": "stream",
     "text": [
      "Reading metadata XML file...\n"
     ]
    },
    {
     "data": {
      "application/vnd.jupyter.widget-view+json": {
       "model_id": "c77774ac69174428a9ef95c8516cbe4b",
       "version_major": 2,
       "version_minor": 0
      },
      "text/plain": [
       "0it [00:00, ?it/s]"
      ]
     },
     "metadata": {},
     "output_type": "display_data"
    },
    {
     "name": "stdout",
     "output_type": "stream",
     "text": [
      "Extracting metadata complete!\n",
      "Reading metadata XML file...\n",
      "Extracting metadata complete!\n"
     ]
    }
   ],
   "source": [
    "expt_ID = 'ND0004'\n",
    "base_dir = f'/mnt/SYNO/macrohet_syno/data/{expt_ID}/'\n",
    "metadata_fn = glob.glob(os.path.join(base_dir, 'acquisition/Images/Index*xml'))[0]\n",
    "metadata = dataio.read_harmony_metadata(metadata_fn)  \n",
    "metadata_path = glob.glob(os.path.join(base_dir, 'acquisition/Assaylayout/*.xml'))[0]\n",
    "assay_layout = dataio.read_harmony_metadata(metadata_path, assay_layout=True,replicate_number=True)# mask_exist=True,  image_dir = image_dir, image_metadata = metadata)\n",
    "acq_ID = (4, 7)\n",
    "image_dir = os.path.join(base_dir, f'acquisition/zarr/{acq_ID}.zarr')\n",
    "zarr_group = zarr.open(image_dir, mode='r')"
   ]
  },
  {
   "cell_type": "code",
   "execution_count": 3,
   "id": "1768b5f4-7be5-4791-8abe-3bd4f888cdb6",
   "metadata": {},
   "outputs": [
    {
     "name": "stdout",
     "output_type": "stream",
     "text": [
      "CPU times: user 45.1 s, sys: 35.9 s, total: 1min 20s\n",
      "Wall time: 5min 49s\n"
     ]
    }
   ],
   "source": [
    "%%time\n",
    "images = zarr_group.images[...]"
   ]
  },
  {
   "cell_type": "code",
   "execution_count": 17,
   "id": "2ab36ac6-47cc-46d8-9687-ddbd11fb0e55",
   "metadata": {},
   "outputs": [
    {
     "data": {
      "text/plain": [
       "<Labels layer 'tracking_input_segmentation' at 0x7feacb603220>"
      ]
     },
     "execution_count": 17,
     "metadata": {},
     "output_type": "execute_result"
    }
   ],
   "source": [
    "viewer = napari.Viewer(title = 'iterate testing trackastra')\n",
    "\n",
    "viewer.add_image(segmentation_input)\n",
    "viewer.add_labels(tracking_input_segmentation)"
   ]
  },
  {
   "cell_type": "code",
   "execution_count": 4,
   "id": "a5f866db-a919-4a51-ac5c-0bc9d6290a13",
   "metadata": {},
   "outputs": [
    {
     "name": "stderr",
     "output_type": "stream",
     "text": [
      "[INFO][2024/10/24 02:54:45 PM] Opening HDF file: /mnt/SYNO/macrohet_syno/data/ND0004/labels/cpv3/(3, 4).h5...\n",
      "[INFO][2024/10/24 02:55:06 PM] Loading segmentation (154, 6048, 6048)\n",
      "[INFO][2024/10/24 02:55:06 PM] Closing HDF file: /mnt/SYNO/macrohet_syno/data/ND0004/labels/cpv3/(3, 4).h5\n"
     ]
    }
   ],
   "source": [
    "with btrack.io.HDF5FileHandler(os.path.join(f'/mnt/SYNO/macrohet_syno/data/{expt_ID}/labels/cpv3/{acq_ID}.h5'), #macrohet_seg_model \n",
    "                                           'r', \n",
    "                                           obj_type='obj_type_1'\n",
    "                                           ) as reader:\n",
    "                segmentation = reader.segmentation"
   ]
  },
  {
   "cell_type": "code",
   "execution_count": 5,
   "id": "9fb3884a-daac-4a6c-8f48-713cc3891be4",
   "metadata": {
    "scrolled": true
   },
   "outputs": [],
   "source": [
    "tracks = pd.read_csv('/mnt/SYNO/macrohet_syno/data/ND0004/labels/testing_trackastra/ztracks.csv')"
   ]
  },
  {
   "cell_type": "code",
   "execution_count": 6,
   "id": "4878020e-8501-4730-bcdf-8dd296867d85",
   "metadata": {},
   "outputs": [],
   "source": [
    "tracks = tracks[tracks.groupby('ID')['T'].transform('count') >= 130]\n"
   ]
  },
  {
   "cell_type": "code",
   "execution_count": 11,
   "id": "b0e7825e-e10b-4206-ba20-c38c50498a9b",
   "metadata": {},
   "outputs": [
    {
     "name": "stdout",
     "output_type": "stream",
     "text": [
      "CPU times: user 14 s, sys: 29 s, total: 43 s\n",
      "Wall time: 43.2 s\n"
     ]
    }
   ],
   "source": [
    "%%time\n",
    "images = np.max(images, axis = 2)"
   ]
  },
  {
   "cell_type": "code",
   "execution_count": 12,
   "id": "f13e8434-952e-402a-8de2-69f119853a43",
   "metadata": {},
   "outputs": [
    {
     "data": {
      "text/plain": [
       "(154, 2, 6048, 6048)"
      ]
     },
     "execution_count": 12,
     "metadata": {},
     "output_type": "execute_result"
    }
   ],
   "source": [
    "images.shape"
   ]
  },
  {
   "cell_type": "code",
   "execution_count": 13,
   "id": "ef9a4779-ec73-4bb5-aca5-4e5cc72790af",
   "metadata": {},
   "outputs": [
    {
     "data": {
      "text/plain": [
       "<Labels layer 'segmentation' at 0x7f3e049b6e90>"
      ]
     },
     "execution_count": 13,
     "metadata": {},
     "output_type": "execute_result"
    }
   ],
   "source": [
    "viewer = napari.Viewer(title = 'testing nd4 segmentation and tracking')\n",
    "\n",
    "viewer.add_image(images, channel_axis = 1, \n",
    "                 colormap=['magenta', 'green'],\n",
    "                 blending = 'additive', \n",
    "                 contrast_limits=[[0, 1000], [0, 2400]])\n",
    "viewer.add_labels(segmentation)"
   ]
  },
  {
   "cell_type": "code",
   "execution_count": 13,
   "id": "8cc9b8ef-cb1b-4ac8-8d53-d74c049156ef",
   "metadata": {},
   "outputs": [],
   "source": [
    "scale = (1,1,1)"
   ]
  },
  {
   "cell_type": "code",
   "execution_count": 15,
   "id": "ae1461c9-20c4-408a-ab71-2be847bf7873",
   "metadata": {},
   "outputs": [],
   "source": [
    "color_by = 'ID'"
   ]
  },
  {
   "cell_type": "code",
   "execution_count": 62,
   "id": "bfb57ed8-4cb4-4bff-9661-c795f7b5fb5a",
   "metadata": {
    "scrolled": true
   },
   "outputs": [
    {
     "data": {
      "application/vnd.jupyter.widget-view+json": {
       "model_id": "96100f99007240c2bb507a2a7c48f8bf",
       "version_major": 2,
       "version_minor": 0
      },
      "text/plain": [
       "Iterating over tracks:   0%|          | 0/162 [00:00<?, ?it/s]"
      ]
     },
     "metadata": {},
     "output_type": "display_data"
    }
   ],
   "source": [
    "# Initialize relabeled array\n",
    "relabeled = np.zeros_like(segmentation)\n",
    "\n",
    "# Iterate over each track, grouped by 'ID'\n",
    "for cell_ID, track in tqdm(tracks.groupby('ID'), desc = 'Iterating over tracks', total = len(tracks.ID.unique())):\n",
    "    track = track.sort_values(by='T')\n",
    "    times = (track['T'].to_numpy()).astype(int)  # Time (T) halved and converted to int\n",
    "    x_coords = (track['X'].to_numpy() * scale[0]).astype(int)\n",
    "    y_coords = (track['Y'].to_numpy() * scale[1]).astype(int)\n",
    "\n",
    "    # Iterate over each time point\n",
    "    for i, t in enumerate(times):\n",
    "        # Ensure we are within the segmentation time bounds\n",
    "        if t >= segmentation.shape[0]:\n",
    "            continue\n",
    "\n",
    "        # Handle 2D segmentation\n",
    "        old_id = segmentation[t][x_coords[i], y_coords[i]]\n",
    "        if old_id == 0:  # Ignore background (assuming 0 is the background ID)\n",
    "                continue\n",
    "        # Recolor segmentation by the chosen property (ID in this case)\n",
    "        old_id_mask = segmentation[t] == old_id\n",
    "        # print(old_id)\n",
    "        # Recolor all pixels in this mask with the new ID\n",
    "        new_id = int(cell_ID)\n",
    "        relabeled[t][old_id_mask] = new_id"
   ]
  },
  {
   "cell_type": "code",
   "execution_count": 63,
   "id": "4a330082-c7bc-47ed-a294-b4ecf1b64276",
   "metadata": {},
   "outputs": [
    {
     "data": {
      "text/plain": [
       "<Labels layer 'relabeled [1]' at 0x7fc7e60dce80>"
      ]
     },
     "execution_count": 63,
     "metadata": {},
     "output_type": "execute_result"
    }
   ],
   "source": [
    "viewer.add_labels(relabeled)"
   ]
  },
  {
   "cell_type": "code",
   "execution_count": 14,
   "id": "136cc13f-ecb8-4514-8373-2d1d06906099",
   "metadata": {},
   "outputs": [
    {
     "data": {
      "text/html": [
       "<div>\n",
       "<style scoped>\n",
       "    .dataframe tbody tr th:only-of-type {\n",
       "        vertical-align: middle;\n",
       "    }\n",
       "\n",
       "    .dataframe tbody tr th {\n",
       "        vertical-align: top;\n",
       "    }\n",
       "\n",
       "    .dataframe thead th {\n",
       "        text-align: right;\n",
       "    }\n",
       "</style>\n",
       "<table border=\"1\" class=\"dataframe\">\n",
       "  <thead>\n",
       "    <tr style=\"text-align: right;\">\n",
       "      <th></th>\n",
       "      <th>Unnamed: 0</th>\n",
       "      <th>ID</th>\n",
       "      <th>T</th>\n",
       "      <th>X</th>\n",
       "      <th>Y</th>\n",
       "    </tr>\n",
       "  </thead>\n",
       "  <tbody>\n",
       "    <tr>\n",
       "      <th>245</th>\n",
       "      <td>245</td>\n",
       "      <td>8.0</td>\n",
       "      <td>0.0</td>\n",
       "      <td>1316.925443</td>\n",
       "      <td>1308.419429</td>\n",
       "    </tr>\n",
       "    <tr>\n",
       "      <th>246</th>\n",
       "      <td>246</td>\n",
       "      <td>8.0</td>\n",
       "      <td>1.0</td>\n",
       "      <td>1296.484605</td>\n",
       "      <td>1236.577458</td>\n",
       "    </tr>\n",
       "    <tr>\n",
       "      <th>247</th>\n",
       "      <td>247</td>\n",
       "      <td>8.0</td>\n",
       "      <td>2.0</td>\n",
       "      <td>1301.557163</td>\n",
       "      <td>1220.274875</td>\n",
       "    </tr>\n",
       "    <tr>\n",
       "      <th>248</th>\n",
       "      <td>248</td>\n",
       "      <td>8.0</td>\n",
       "      <td>3.0</td>\n",
       "      <td>1290.174829</td>\n",
       "      <td>1210.652110</td>\n",
       "    </tr>\n",
       "    <tr>\n",
       "      <th>249</th>\n",
       "      <td>249</td>\n",
       "      <td>8.0</td>\n",
       "      <td>4.0</td>\n",
       "      <td>1330.836471</td>\n",
       "      <td>1218.764602</td>\n",
       "    </tr>\n",
       "    <tr>\n",
       "      <th>...</th>\n",
       "      <td>...</td>\n",
       "      <td>...</td>\n",
       "      <td>...</td>\n",
       "      <td>...</td>\n",
       "      <td>...</td>\n",
       "    </tr>\n",
       "    <tr>\n",
       "      <th>61876</th>\n",
       "      <td>61876</td>\n",
       "      <td>2283.0</td>\n",
       "      <td>149.0</td>\n",
       "      <td>4957.993444</td>\n",
       "      <td>2788.832197</td>\n",
       "    </tr>\n",
       "    <tr>\n",
       "      <th>61877</th>\n",
       "      <td>61877</td>\n",
       "      <td>2283.0</td>\n",
       "      <td>150.0</td>\n",
       "      <td>4961.470775</td>\n",
       "      <td>2788.063490</td>\n",
       "    </tr>\n",
       "    <tr>\n",
       "      <th>61878</th>\n",
       "      <td>61878</td>\n",
       "      <td>2283.0</td>\n",
       "      <td>151.0</td>\n",
       "      <td>4957.135691</td>\n",
       "      <td>2776.889461</td>\n",
       "    </tr>\n",
       "    <tr>\n",
       "      <th>61879</th>\n",
       "      <td>61879</td>\n",
       "      <td>2283.0</td>\n",
       "      <td>152.0</td>\n",
       "      <td>4963.660649</td>\n",
       "      <td>2778.348608</td>\n",
       "    </tr>\n",
       "    <tr>\n",
       "      <th>61880</th>\n",
       "      <td>61880</td>\n",
       "      <td>2283.0</td>\n",
       "      <td>153.0</td>\n",
       "      <td>4952.174035</td>\n",
       "      <td>2777.332276</td>\n",
       "    </tr>\n",
       "  </tbody>\n",
       "</table>\n",
       "<p>24481 rows × 5 columns</p>\n",
       "</div>"
      ],
      "text/plain": [
       "       Unnamed: 0      ID      T            X            Y\n",
       "245           245     8.0    0.0  1316.925443  1308.419429\n",
       "246           246     8.0    1.0  1296.484605  1236.577458\n",
       "247           247     8.0    2.0  1301.557163  1220.274875\n",
       "248           248     8.0    3.0  1290.174829  1210.652110\n",
       "249           249     8.0    4.0  1330.836471  1218.764602\n",
       "...           ...     ...    ...          ...          ...\n",
       "61876       61876  2283.0  149.0  4957.993444  2788.832197\n",
       "61877       61877  2283.0  150.0  4961.470775  2788.063490\n",
       "61878       61878  2283.0  151.0  4957.135691  2776.889461\n",
       "61879       61879  2283.0  152.0  4963.660649  2778.348608\n",
       "61880       61880  2283.0  153.0  4952.174035  2777.332276\n",
       "\n",
       "[24481 rows x 5 columns]"
      ]
     },
     "execution_count": 14,
     "metadata": {},
     "output_type": "execute_result"
    }
   ],
   "source": [
    "tracks"
   ]
  },
  {
   "cell_type": "code",
   "execution_count": 87,
   "id": "aff16c93-9f9b-444e-be4e-18265fbbbd9d",
   "metadata": {},
   "outputs": [
    {
     "data": {
      "text/html": [
       "<div>\n",
       "<style scoped>\n",
       "    .dataframe tbody tr th:only-of-type {\n",
       "        vertical-align: middle;\n",
       "    }\n",
       "\n",
       "    .dataframe tbody tr th {\n",
       "        vertical-align: top;\n",
       "    }\n",
       "\n",
       "    .dataframe thead th {\n",
       "        text-align: right;\n",
       "    }\n",
       "</style>\n",
       "<table border=\"1\" class=\"dataframe\">\n",
       "  <thead>\n",
       "    <tr style=\"text-align: right;\">\n",
       "      <th></th>\n",
       "      <th>ID</th>\n",
       "      <th>t</th>\n",
       "      <th>x</th>\n",
       "      <th>y</th>\n",
       "    </tr>\n",
       "  </thead>\n",
       "  <tbody>\n",
       "    <tr>\n",
       "      <th>146</th>\n",
       "      <td>5</td>\n",
       "      <td>0</td>\n",
       "      <td>240</td>\n",
       "      <td>2706</td>\n",
       "    </tr>\n",
       "    <tr>\n",
       "      <th>147</th>\n",
       "      <td>5</td>\n",
       "      <td>1</td>\n",
       "      <td>230</td>\n",
       "      <td>2690</td>\n",
       "    </tr>\n",
       "    <tr>\n",
       "      <th>148</th>\n",
       "      <td>5</td>\n",
       "      <td>2</td>\n",
       "      <td>232</td>\n",
       "      <td>2671</td>\n",
       "    </tr>\n",
       "    <tr>\n",
       "      <th>149</th>\n",
       "      <td>5</td>\n",
       "      <td>3</td>\n",
       "      <td>243</td>\n",
       "      <td>2646</td>\n",
       "    </tr>\n",
       "    <tr>\n",
       "      <th>150</th>\n",
       "      <td>5</td>\n",
       "      <td>4</td>\n",
       "      <td>244</td>\n",
       "      <td>2654</td>\n",
       "    </tr>\n",
       "    <tr>\n",
       "      <th>...</th>\n",
       "      <td>...</td>\n",
       "      <td>...</td>\n",
       "      <td>...</td>\n",
       "      <td>...</td>\n",
       "    </tr>\n",
       "    <tr>\n",
       "      <th>152452</th>\n",
       "      <td>11128</td>\n",
       "      <td>149</td>\n",
       "      <td>3974</td>\n",
       "      <td>3944</td>\n",
       "    </tr>\n",
       "    <tr>\n",
       "      <th>152453</th>\n",
       "      <td>11128</td>\n",
       "      <td>150</td>\n",
       "      <td>3972</td>\n",
       "      <td>3956</td>\n",
       "    </tr>\n",
       "    <tr>\n",
       "      <th>152454</th>\n",
       "      <td>11128</td>\n",
       "      <td>151</td>\n",
       "      <td>3972</td>\n",
       "      <td>3962</td>\n",
       "    </tr>\n",
       "    <tr>\n",
       "      <th>152455</th>\n",
       "      <td>11128</td>\n",
       "      <td>152</td>\n",
       "      <td>3970</td>\n",
       "      <td>3961</td>\n",
       "    </tr>\n",
       "    <tr>\n",
       "      <th>152456</th>\n",
       "      <td>11128</td>\n",
       "      <td>153</td>\n",
       "      <td>3964</td>\n",
       "      <td>3973</td>\n",
       "    </tr>\n",
       "  </tbody>\n",
       "</table>\n",
       "<p>41704 rows × 4 columns</p>\n",
       "</div>"
      ],
      "text/plain": [
       "           ID    t     x     y\n",
       "146         5    0   240  2706\n",
       "147         5    1   230  2690\n",
       "148         5    2   232  2671\n",
       "149         5    3   243  2646\n",
       "150         5    4   244  2654\n",
       "...       ...  ...   ...   ...\n",
       "152452  11128  149  3974  3944\n",
       "152453  11128  150  3972  3956\n",
       "152454  11128  151  3972  3962\n",
       "152455  11128  152  3970  3961\n",
       "152456  11128  153  3964  3973\n",
       "\n",
       "[41704 rows x 4 columns]"
      ]
     },
     "execution_count": 87,
     "metadata": {},
     "output_type": "execute_result"
    }
   ],
   "source": [
    "tracks"
   ]
  },
  {
   "cell_type": "code",
   "execution_count": 88,
   "id": "c9b5b97f-1c81-48aa-885b-c749bc98bbcb",
   "metadata": {},
   "outputs": [
    {
     "data": {
      "text/plain": [
       "<Tracks layer 'Tracks' at 0x7f640cbdb9a0>"
      ]
     },
     "execution_count": 88,
     "metadata": {},
     "output_type": "execute_result"
    }
   ],
   "source": [
    "viewer.add_tracks(tracks[['ID','t','x','y']].values)"
   ]
  },
  {
   "cell_type": "markdown",
   "id": "ee50e449-c7e8-428a-944e-3e4e0a03aab9",
   "metadata": {
    "jp-MarkdownHeadingCollapsed": true
   },
   "source": [
    "## Testing new approach\n",
    "\n",
    "Segment the top z slice of the green channel... can always expand the masks later on to try and capture the mtb"
   ]
  },
  {
   "cell_type": "code",
   "execution_count": 16,
   "id": "5042347d-36a9-455e-9659-f9905f68665b",
   "metadata": {},
   "outputs": [
    {
     "data": {
      "text/plain": [
       "(154, 2, 3, 6048, 6048)"
      ]
     },
     "execution_count": 16,
     "metadata": {},
     "output_type": "execute_result"
    }
   ],
   "source": [
    "zarr_group.images.shape"
   ]
  },
  {
   "cell_type": "code",
   "execution_count": 23,
   "id": "52046cdc-35f6-445e-abaf-5806c39bbb21",
   "metadata": {},
   "outputs": [
    {
     "name": "stdout",
     "output_type": "stream",
     "text": [
      "CPU times: user 9.72 s, sys: 5.24 s, total: 15 s\n",
      "Wall time: 54.8 s\n"
     ]
    }
   ],
   "source": [
    "%%time\n",
    "segmentation_input = zarr_group.images[:,1,2,...]"
   ]
  },
  {
   "cell_type": "code",
   "execution_count": null,
   "id": "89158251-a504-460d-be47-3d557e547ed0",
   "metadata": {},
   "outputs": [],
   "source": []
  },
  {
   "cell_type": "code",
   "execution_count": 24,
   "id": "61f55ff4-d67f-4eea-a0f6-14bd2705c656",
   "metadata": {},
   "outputs": [
    {
     "data": {
      "text/plain": [
       "<Image layer 'segmentation_input' at 0x7f93e45de170>"
      ]
     },
     "execution_count": 24,
     "metadata": {},
     "output_type": "execute_result"
    }
   ],
   "source": [
    "viewer.add_image(segmentation_input)"
   ]
  },
  {
   "cell_type": "code",
   "execution_count": 59,
   "id": "fa599ab6-8d62-40bf-a7b6-eb9bd3b2167c",
   "metadata": {},
   "outputs": [
    {
     "data": {
      "application/vnd.jupyter.widget-view+json": {
       "model_id": "665efce01ebb4b71b9d3c1f4e8bd42b0",
       "version_major": 2,
       "version_minor": 0
      },
      "text/plain": [
       "  0%|          | 0/154 [00:00<?, ?it/s]"
      ]
     },
     "metadata": {},
     "output_type": "display_data"
    }
   ],
   "source": [
    "mask_stack = []\n",
    "for frame in tqdm(segmentation_input, total = len(segmentation_input)):\n",
    "    masks, flows, styles, diams = model.eval(frame, \n",
    "                                         diameter=150, \n",
    "                                         channels=[0,0],)\n",
    "\n",
    "    mask_stack.append(masks)\n",
    "cellpose_segmentation = np.stack(mask_stack, axis = 0)"
   ]
  },
  {
   "cell_type": "code",
   "execution_count": 65,
   "id": "6c4769f3-2d37-4475-8350-fc06947c9680",
   "metadata": {},
   "outputs": [],
   "source": [
    "# Save the NumPy array to a file\n",
    "np.save('/mnt/SYNO/macrohet_syno/temp_cellpose_masks.npy', cellpose_segmentation)"
   ]
  },
  {
   "cell_type": "code",
   "execution_count": 96,
   "id": "8c67599e-86ff-42bd-a710-9cd880a4e3ac",
   "metadata": {},
   "outputs": [
    {
     "data": {
      "text/plain": [
       "<Labels layer 'cellpose_segmentation' at 0x7f951d8f6fe0>"
      ]
     },
     "execution_count": 96,
     "metadata": {},
     "output_type": "execute_result"
    }
   ],
   "source": [
    "viewer.add_labels(cellpose_segmentation)"
   ]
  },
  {
   "cell_type": "code",
   "execution_count": 67,
   "id": "a0f5d555-3c4c-4478-9ef3-c15f51eed947",
   "metadata": {},
   "outputs": [
    {
     "data": {
      "text/plain": [
       "<Image layer 'segmentation_input' at 0x7f957b65df90>"
      ]
     },
     "execution_count": 67,
     "metadata": {},
     "output_type": "execute_result"
    }
   ],
   "source": [
    "viewer.add_image(segmentation_input)"
   ]
  },
  {
   "cell_type": "markdown",
   "id": "cb2329dc-8653-49b0-8b7f-ad6485f7d1da",
   "metadata": {
    "jp-MarkdownHeadingCollapsed": true
   },
   "source": [
    "### Trackastra"
   ]
  },
  {
   "cell_type": "code",
   "execution_count": null,
   "id": "2f628687-8865-4319-8731-fb111b794000",
   "metadata": {},
   "outputs": [],
   "source": [
    "%%time \n",
    "\n",
    "device = \"cuda\" if torch.cuda.is_available() else \"cpu\"\n",
    "\n",
    "# Load a pretrained model\n",
    "trackastra_model = Trackastra.from_pretrained(\"general_2d\", device=device)\n",
    "\n",
    "# or from a local folder\n",
    "# model = Trackastra.from_folder('path/my_model_folder/', device=device)\n",
    "\n",
    "# Track the cells\n",
    "track_graph = trackastra_model.track(segmentation_input, cellpose_segmentation, mode=\"greedy_nodiv\")  # or mode=\"ilp\", or \"greedy_nodiv\"\n",
    "\n",
    "\n",
    "# # Write to cell tracking challenge format\n",
    "# ctc_tracks, masks_tracked = graph_to_ctc(\n",
    "#       track_graph,\n",
    "#       masks,\n",
    "#       outdir=\"tracked\",\n",
    "# )\n",
    "\n",
    "# Visualise in napari\n",
    "tracks, napari_tracks_graph, _ = graph_to_napari_tracks(track_graph)"
   ]
  },
  {
   "cell_type": "code",
   "execution_count": 74,
   "id": "b4cd6c31-1c23-4df9-b9fd-746ccb3a3089",
   "metadata": {},
   "outputs": [],
   "source": [
    "tracks = viewer.layers['tracks'].data"
   ]
  },
  {
   "cell_type": "code",
   "execution_count": 78,
   "id": "6d5ea3d8-2338-4ef9-87cb-a54ca7a22f2e",
   "metadata": {
    "scrolled": true
   },
   "outputs": [
    {
     "data": {
      "text/plain": [
       "array([[1.00000000e+00, 0.00000000e+00, 5.63499262e+03, 5.98160372e+03],\n",
       "       [1.00000000e+00, 1.00000000e+00, 5.62536602e+03, 5.96917297e+03],\n",
       "       [1.00000000e+00, 2.00000000e+00, 5.61263586e+03, 5.95262619e+03],\n",
       "       ...,\n",
       "       [6.97800000e+03, 1.53000000e+02, 5.03416957e+03, 5.25425019e+03],\n",
       "       [6.97900000e+03, 1.52000000e+02, 5.29644164e+03, 6.23781633e+02],\n",
       "       [6.97900000e+03, 1.53000000e+02, 5.32309206e+03, 6.78151989e+02]])"
      ]
     },
     "execution_count": 78,
     "metadata": {},
     "output_type": "execute_result"
    }
   ],
   "source": [
    "tracks"
   ]
  },
  {
   "cell_type": "markdown",
   "id": "1b5764b6-d9d5-423c-b05a-e77ced5b4dfe",
   "metadata": {
    "jp-MarkdownHeadingCollapsed": true
   },
   "source": [
    "## uniting z3 cellpose and trackastra"
   ]
  },
  {
   "cell_type": "code",
   "execution_count": 3,
   "id": "737c1e15-130a-4d6f-8984-90ee8a2b878a",
   "metadata": {},
   "outputs": [],
   "source": [
    "# define thresholds\n",
    "segment_size_thresh = 5000\n",
    "mtb_load_thresh = 480\n",
    "mtb_channel = 0"
   ]
  },
  {
   "cell_type": "code",
   "execution_count": 4,
   "id": "d293131e-81cd-4f78-841a-4c53790afc26",
   "metadata": {},
   "outputs": [],
   "source": [
    "mtb_channel_ID = 0\n",
    "mphi_channel_ID = 1"
   ]
  },
  {
   "cell_type": "code",
   "execution_count": 24,
   "id": "94191b56-2ccb-4aea-8d28-d5b3ba60d0c3",
   "metadata": {},
   "outputs": [],
   "source": [
    "# mphi_channel = images[:,mphi_channel,...]\n",
    "mtb_channel = images[:,mtb_channel,...]\n",
    "thresholded_mtb_channel = mtb_channel >= mtb_load_thresh"
   ]
  },
  {
   "cell_type": "code",
   "execution_count": 25,
   "id": "65243ecb-98b7-4783-90e5-40984c3a781d",
   "metadata": {},
   "outputs": [
    {
     "data": {
      "text/plain": [
       "<Image layer 'thresholded_mtb_channel' at 0x7f3e063d31f0>"
      ]
     },
     "execution_count": 25,
     "metadata": {},
     "output_type": "execute_result"
    }
   ],
   "source": [
    "viewer.add_image(thresholded_mtb_channel)"
   ]
  },
  {
   "cell_type": "code",
   "execution_count": null,
   "id": "a3e105ba-ce65-4758-a72e-7261154fe936",
   "metadata": {},
   "outputs": [],
   "source": [
    "with btrack.io.HDF5FileHandler(os.path.join(f'/mnt/SYNO/macrohet_syno/data/{expt_ID}/labels/cpv3/{acq_ID}.h5'), #macrohet_seg_model \n",
    "                                           'r', \n",
    "                                           obj_type='obj_type_1'\n",
    "                                           ) as reader:\n",
    "                segmentation = reader.segmentation"
   ]
  },
  {
   "cell_type": "code",
   "execution_count": 5,
   "id": "1b9c6fbe-0fda-4490-8e21-bea30cb3b040",
   "metadata": {},
   "outputs": [],
   "source": [
    "def calculate_msd(x, y):\n",
    "    # Calculate the displacement between successive frames\n",
    "    dx = np.diff(x, prepend=x[0])\n",
    "    dy = np.diff(y, prepend=y[0])\n",
    "    msd = np.sqrt(dx**2 + dy**2)\n",
    "    return msd"
   ]
  },
  {
   "cell_type": "code",
   "execution_count": 6,
   "id": "0b7e1305-c80a-4ca6-8e3e-bea278a23616",
   "metadata": {},
   "outputs": [],
   "source": [
    "# Assuming you have an 'image' that corresponds to your segmentation\n",
    "def measure_segment_intensity(image, segmentation, ID):\n",
    "    \"\"\"Measure intensity of pixels under a specific segment in the image.\"\"\"\n",
    "    mask = segmentation == ID  # Create a mask for the segment with 'seg_id'\n",
    "    segment_intensity = image[mask]  # Extract pixel values under the segment mask\n",
    "    return np.mean(segment_intensity) #, np.sum(segment_intensity)  # Example measurements\n"
   ]
  },
  {
   "cell_type": "code",
   "execution_count": 110,
   "id": "9cb6de28-c1b4-402e-99d4-6b19ff4bbc44",
   "metadata": {},
   "outputs": [],
   "source": [
    "mtb_channel = 0\n",
    "mphi_channel = 1"
   ]
  },
  {
   "cell_type": "code",
   "execution_count": 70,
   "id": "91e160f5-be3d-483d-a246-099c3e5590f1",
   "metadata": {},
   "outputs": [],
   "source": [
    "del tracks['Unnamed: 0']"
   ]
  },
  {
   "cell_type": "code",
   "execution_count": 72,
   "id": "8903c75e-9317-44e0-8eb5-8c602e700b7f",
   "metadata": {},
   "outputs": [],
   "source": [
    "tracks.rename(columns={'T': 't', 'X': 'x', 'Y': 'y'}, inplace=True)"
   ]
  },
  {
   "cell_type": "code",
   "execution_count": 74,
   "id": "9fc9ca8f-c186-43cd-81a2-7c3ab6e6aa1f",
   "metadata": {},
   "outputs": [
    {
     "data": {
      "text/html": [
       "<div>\n",
       "<style scoped>\n",
       "    .dataframe tbody tr th:only-of-type {\n",
       "        vertical-align: middle;\n",
       "    }\n",
       "\n",
       "    .dataframe tbody tr th {\n",
       "        vertical-align: top;\n",
       "    }\n",
       "\n",
       "    .dataframe thead th {\n",
       "        text-align: right;\n",
       "    }\n",
       "</style>\n",
       "<table border=\"1\" class=\"dataframe\">\n",
       "  <thead>\n",
       "    <tr style=\"text-align: right;\">\n",
       "      <th></th>\n",
       "      <th>ID</th>\n",
       "      <th>t</th>\n",
       "      <th>x</th>\n",
       "      <th>y</th>\n",
       "    </tr>\n",
       "  </thead>\n",
       "  <tbody>\n",
       "    <tr>\n",
       "      <th>245</th>\n",
       "      <td>8</td>\n",
       "      <td>0</td>\n",
       "      <td>1316</td>\n",
       "      <td>1308</td>\n",
       "    </tr>\n",
       "    <tr>\n",
       "      <th>246</th>\n",
       "      <td>8</td>\n",
       "      <td>1</td>\n",
       "      <td>1296</td>\n",
       "      <td>1236</td>\n",
       "    </tr>\n",
       "    <tr>\n",
       "      <th>247</th>\n",
       "      <td>8</td>\n",
       "      <td>2</td>\n",
       "      <td>1301</td>\n",
       "      <td>1220</td>\n",
       "    </tr>\n",
       "    <tr>\n",
       "      <th>248</th>\n",
       "      <td>8</td>\n",
       "      <td>3</td>\n",
       "      <td>1290</td>\n",
       "      <td>1210</td>\n",
       "    </tr>\n",
       "    <tr>\n",
       "      <th>249</th>\n",
       "      <td>8</td>\n",
       "      <td>4</td>\n",
       "      <td>1330</td>\n",
       "      <td>1218</td>\n",
       "    </tr>\n",
       "    <tr>\n",
       "      <th>...</th>\n",
       "      <td>...</td>\n",
       "      <td>...</td>\n",
       "      <td>...</td>\n",
       "      <td>...</td>\n",
       "    </tr>\n",
       "    <tr>\n",
       "      <th>61876</th>\n",
       "      <td>2283</td>\n",
       "      <td>149</td>\n",
       "      <td>4957</td>\n",
       "      <td>2788</td>\n",
       "    </tr>\n",
       "    <tr>\n",
       "      <th>61877</th>\n",
       "      <td>2283</td>\n",
       "      <td>150</td>\n",
       "      <td>4961</td>\n",
       "      <td>2788</td>\n",
       "    </tr>\n",
       "    <tr>\n",
       "      <th>61878</th>\n",
       "      <td>2283</td>\n",
       "      <td>151</td>\n",
       "      <td>4957</td>\n",
       "      <td>2776</td>\n",
       "    </tr>\n",
       "    <tr>\n",
       "      <th>61879</th>\n",
       "      <td>2283</td>\n",
       "      <td>152</td>\n",
       "      <td>4963</td>\n",
       "      <td>2778</td>\n",
       "    </tr>\n",
       "    <tr>\n",
       "      <th>61880</th>\n",
       "      <td>2283</td>\n",
       "      <td>153</td>\n",
       "      <td>4952</td>\n",
       "      <td>2777</td>\n",
       "    </tr>\n",
       "  </tbody>\n",
       "</table>\n",
       "<p>24481 rows × 4 columns</p>\n",
       "</div>"
      ],
      "text/plain": [
       "         ID    t     x     y\n",
       "245       8    0  1316  1308\n",
       "246       8    1  1296  1236\n",
       "247       8    2  1301  1220\n",
       "248       8    3  1290  1210\n",
       "249       8    4  1330  1218\n",
       "...     ...  ...   ...   ...\n",
       "61876  2283  149  4957  2788\n",
       "61877  2283  150  4961  2788\n",
       "61878  2283  151  4957  2776\n",
       "61879  2283  152  4963  2778\n",
       "61880  2283  153  4952  2777\n",
       "\n",
       "[24481 rows x 4 columns]"
      ]
     },
     "execution_count": 74,
     "metadata": {},
     "output_type": "execute_result"
    }
   ],
   "source": [
    "tracks = tracks.astype(int)\n",
    "\n",
    "tracks"
   ]
  },
  {
   "cell_type": "code",
   "execution_count": 53,
   "id": "0138c02f-7f91-4bd8-aa50-27d7eb3e4529",
   "metadata": {},
   "outputs": [
    {
     "data": {
      "text/plain": [
       "(4, 7)"
      ]
     },
     "execution_count": 53,
     "metadata": {},
     "output_type": "execute_result"
    }
   ],
   "source": [
    "acq_ID"
   ]
  },
  {
   "cell_type": "code",
   "execution_count": 133,
   "id": "1b165c19-da07-4ec2-aa7f-7a8aed536969",
   "metadata": {},
   "outputs": [
    {
     "data": {
      "application/vnd.jupyter.widget-view+json": {
       "model_id": "d74835c43d804b95a686fa587ed48997",
       "version_major": 2,
       "version_minor": 0
      },
      "text/plain": [
       "iterating over tracks:   0%|          | 0/162 [00:00<?, ?it/s]"
      ]
     },
     "metadata": {},
     "output_type": "display_data"
    },
    {
     "data": {
      "application/vnd.jupyter.widget-view+json": {
       "model_id": "",
       "version_major": 2,
       "version_minor": 0
      },
      "text/plain": [
       "Iterating over frames for track ID 8:   0%|          | 0/154 [00:00<?, ?it/s]"
      ]
     },
     "metadata": {},
     "output_type": "display_data"
    },
    {
     "data": {
      "application/vnd.jupyter.widget-view+json": {
       "model_id": "",
       "version_major": 2,
       "version_minor": 0
      },
      "text/plain": [
       "Iterating over frames for track ID 20:   0%|          | 0/154 [00:00<?, ?it/s]"
      ]
     },
     "metadata": {},
     "output_type": "display_data"
    },
    {
     "data": {
      "application/vnd.jupyter.widget-view+json": {
       "model_id": "",
       "version_major": 2,
       "version_minor": 0
      },
      "text/plain": [
       "Iterating over frames for track ID 26:   0%|          | 0/154 [00:00<?, ?it/s]"
      ]
     },
     "metadata": {},
     "output_type": "display_data"
    },
    {
     "data": {
      "application/vnd.jupyter.widget-view+json": {
       "model_id": "",
       "version_major": 2,
       "version_minor": 0
      },
      "text/plain": [
       "Iterating over frames for track ID 34:   0%|          | 0/154 [00:00<?, ?it/s]"
      ]
     },
     "metadata": {},
     "output_type": "display_data"
    },
    {
     "data": {
      "application/vnd.jupyter.widget-view+json": {
       "model_id": "",
       "version_major": 2,
       "version_minor": 0
      },
      "text/plain": [
       "Iterating over frames for track ID 36:   0%|          | 0/154 [00:00<?, ?it/s]"
      ]
     },
     "metadata": {},
     "output_type": "display_data"
    },
    {
     "data": {
      "application/vnd.jupyter.widget-view+json": {
       "model_id": "",
       "version_major": 2,
       "version_minor": 0
      },
      "text/plain": [
       "Iterating over frames for track ID 41:   0%|          | 0/154 [00:00<?, ?it/s]"
      ]
     },
     "metadata": {},
     "output_type": "display_data"
    },
    {
     "data": {
      "application/vnd.jupyter.widget-view+json": {
       "model_id": "",
       "version_major": 2,
       "version_minor": 0
      },
      "text/plain": [
       "Iterating over frames for track ID 45:   0%|          | 0/154 [00:00<?, ?it/s]"
      ]
     },
     "metadata": {},
     "output_type": "display_data"
    },
    {
     "data": {
      "application/vnd.jupyter.widget-view+json": {
       "model_id": "",
       "version_major": 2,
       "version_minor": 0
      },
      "text/plain": [
       "Iterating over frames for track ID 50:   0%|          | 0/154 [00:00<?, ?it/s]"
      ]
     },
     "metadata": {},
     "output_type": "display_data"
    },
    {
     "data": {
      "application/vnd.jupyter.widget-view+json": {
       "model_id": "",
       "version_major": 2,
       "version_minor": 0
      },
      "text/plain": [
       "Iterating over frames for track ID 62:   0%|          | 0/154 [00:00<?, ?it/s]"
      ]
     },
     "metadata": {},
     "output_type": "display_data"
    },
    {
     "data": {
      "application/vnd.jupyter.widget-view+json": {
       "model_id": "",
       "version_major": 2,
       "version_minor": 0
      },
      "text/plain": [
       "Iterating over frames for track ID 73:   0%|          | 0/154 [00:00<?, ?it/s]"
      ]
     },
     "metadata": {},
     "output_type": "display_data"
    },
    {
     "data": {
      "application/vnd.jupyter.widget-view+json": {
       "model_id": "",
       "version_major": 2,
       "version_minor": 0
      },
      "text/plain": [
       "Iterating over frames for track ID 74:   0%|          | 0/154 [00:00<?, ?it/s]"
      ]
     },
     "metadata": {},
     "output_type": "display_data"
    },
    {
     "data": {
      "application/vnd.jupyter.widget-view+json": {
       "model_id": "",
       "version_major": 2,
       "version_minor": 0
      },
      "text/plain": [
       "Iterating over frames for track ID 87:   0%|          | 0/154 [00:00<?, ?it/s]"
      ]
     },
     "metadata": {},
     "output_type": "display_data"
    },
    {
     "data": {
      "application/vnd.jupyter.widget-view+json": {
       "model_id": "",
       "version_major": 2,
       "version_minor": 0
      },
      "text/plain": [
       "Iterating over frames for track ID 90:   0%|          | 0/154 [00:00<?, ?it/s]"
      ]
     },
     "metadata": {},
     "output_type": "display_data"
    },
    {
     "data": {
      "application/vnd.jupyter.widget-view+json": {
       "model_id": "",
       "version_major": 2,
       "version_minor": 0
      },
      "text/plain": [
       "Iterating over frames for track ID 100:   0%|          | 0/142 [00:00<?, ?it/s]"
      ]
     },
     "metadata": {},
     "output_type": "display_data"
    },
    {
     "data": {
      "application/vnd.jupyter.widget-view+json": {
       "model_id": "",
       "version_major": 2,
       "version_minor": 0
      },
      "text/plain": [
       "Iterating over frames for track ID 102:   0%|          | 0/154 [00:00<?, ?it/s]"
      ]
     },
     "metadata": {},
     "output_type": "display_data"
    },
    {
     "data": {
      "application/vnd.jupyter.widget-view+json": {
       "model_id": "",
       "version_major": 2,
       "version_minor": 0
      },
      "text/plain": [
       "Iterating over frames for track ID 124:   0%|          | 0/154 [00:00<?, ?it/s]"
      ]
     },
     "metadata": {},
     "output_type": "display_data"
    },
    {
     "data": {
      "application/vnd.jupyter.widget-view+json": {
       "model_id": "",
       "version_major": 2,
       "version_minor": 0
      },
      "text/plain": [
       "Iterating over frames for track ID 130:   0%|          | 0/154 [00:00<?, ?it/s]"
      ]
     },
     "metadata": {},
     "output_type": "display_data"
    },
    {
     "data": {
      "application/vnd.jupyter.widget-view+json": {
       "model_id": "",
       "version_major": 2,
       "version_minor": 0
      },
      "text/plain": [
       "Iterating over frames for track ID 133:   0%|          | 0/154 [00:00<?, ?it/s]"
      ]
     },
     "metadata": {},
     "output_type": "display_data"
    },
    {
     "data": {
      "application/vnd.jupyter.widget-view+json": {
       "model_id": "",
       "version_major": 2,
       "version_minor": 0
      },
      "text/plain": [
       "Iterating over frames for track ID 144:   0%|          | 0/154 [00:00<?, ?it/s]"
      ]
     },
     "metadata": {},
     "output_type": "display_data"
    },
    {
     "data": {
      "application/vnd.jupyter.widget-view+json": {
       "model_id": "",
       "version_major": 2,
       "version_minor": 0
      },
      "text/plain": [
       "Iterating over frames for track ID 145:   0%|          | 0/154 [00:00<?, ?it/s]"
      ]
     },
     "metadata": {},
     "output_type": "display_data"
    },
    {
     "data": {
      "application/vnd.jupyter.widget-view+json": {
       "model_id": "",
       "version_major": 2,
       "version_minor": 0
      },
      "text/plain": [
       "Iterating over frames for track ID 147:   0%|          | 0/142 [00:00<?, ?it/s]"
      ]
     },
     "metadata": {},
     "output_type": "display_data"
    },
    {
     "data": {
      "application/vnd.jupyter.widget-view+json": {
       "model_id": "",
       "version_major": 2,
       "version_minor": 0
      },
      "text/plain": [
       "Iterating over frames for track ID 148:   0%|          | 0/154 [00:00<?, ?it/s]"
      ]
     },
     "metadata": {},
     "output_type": "display_data"
    },
    {
     "data": {
      "application/vnd.jupyter.widget-view+json": {
       "model_id": "",
       "version_major": 2,
       "version_minor": 0
      },
      "text/plain": [
       "Iterating over frames for track ID 151:   0%|          | 0/154 [00:00<?, ?it/s]"
      ]
     },
     "metadata": {},
     "output_type": "display_data"
    },
    {
     "data": {
      "application/vnd.jupyter.widget-view+json": {
       "model_id": "",
       "version_major": 2,
       "version_minor": 0
      },
      "text/plain": [
       "Iterating over frames for track ID 154:   0%|          | 0/154 [00:00<?, ?it/s]"
      ]
     },
     "metadata": {},
     "output_type": "display_data"
    },
    {
     "data": {
      "application/vnd.jupyter.widget-view+json": {
       "model_id": "",
       "version_major": 2,
       "version_minor": 0
      },
      "text/plain": [
       "Iterating over frames for track ID 160:   0%|          | 0/150 [00:00<?, ?it/s]"
      ]
     },
     "metadata": {},
     "output_type": "display_data"
    },
    {
     "data": {
      "application/vnd.jupyter.widget-view+json": {
       "model_id": "",
       "version_major": 2,
       "version_minor": 0
      },
      "text/plain": [
       "Iterating over frames for track ID 169:   0%|          | 0/154 [00:00<?, ?it/s]"
      ]
     },
     "metadata": {},
     "output_type": "display_data"
    },
    {
     "data": {
      "application/vnd.jupyter.widget-view+json": {
       "model_id": "",
       "version_major": 2,
       "version_minor": 0
      },
      "text/plain": [
       "Iterating over frames for track ID 176:   0%|          | 0/154 [00:00<?, ?it/s]"
      ]
     },
     "metadata": {},
     "output_type": "display_data"
    },
    {
     "data": {
      "application/vnd.jupyter.widget-view+json": {
       "model_id": "",
       "version_major": 2,
       "version_minor": 0
      },
      "text/plain": [
       "Iterating over frames for track ID 177:   0%|          | 0/154 [00:00<?, ?it/s]"
      ]
     },
     "metadata": {},
     "output_type": "display_data"
    },
    {
     "data": {
      "application/vnd.jupyter.widget-view+json": {
       "model_id": "",
       "version_major": 2,
       "version_minor": 0
      },
      "text/plain": [
       "Iterating over frames for track ID 197:   0%|          | 0/154 [00:00<?, ?it/s]"
      ]
     },
     "metadata": {},
     "output_type": "display_data"
    },
    {
     "data": {
      "application/vnd.jupyter.widget-view+json": {
       "model_id": "",
       "version_major": 2,
       "version_minor": 0
      },
      "text/plain": [
       "Iterating over frames for track ID 201:   0%|          | 0/154 [00:00<?, ?it/s]"
      ]
     },
     "metadata": {},
     "output_type": "display_data"
    },
    {
     "data": {
      "application/vnd.jupyter.widget-view+json": {
       "model_id": "",
       "version_major": 2,
       "version_minor": 0
      },
      "text/plain": [
       "Iterating over frames for track ID 207:   0%|          | 0/154 [00:00<?, ?it/s]"
      ]
     },
     "metadata": {},
     "output_type": "display_data"
    },
    {
     "data": {
      "application/vnd.jupyter.widget-view+json": {
       "model_id": "",
       "version_major": 2,
       "version_minor": 0
      },
      "text/plain": [
       "Iterating over frames for track ID 212:   0%|          | 0/154 [00:00<?, ?it/s]"
      ]
     },
     "metadata": {},
     "output_type": "display_data"
    },
    {
     "data": {
      "application/vnd.jupyter.widget-view+json": {
       "model_id": "",
       "version_major": 2,
       "version_minor": 0
      },
      "text/plain": [
       "Iterating over frames for track ID 224:   0%|          | 0/154 [00:00<?, ?it/s]"
      ]
     },
     "metadata": {},
     "output_type": "display_data"
    },
    {
     "data": {
      "application/vnd.jupyter.widget-view+json": {
       "model_id": "",
       "version_major": 2,
       "version_minor": 0
      },
      "text/plain": [
       "Iterating over frames for track ID 241:   0%|          | 0/154 [00:00<?, ?it/s]"
      ]
     },
     "metadata": {},
     "output_type": "display_data"
    },
    {
     "data": {
      "application/vnd.jupyter.widget-view+json": {
       "model_id": "",
       "version_major": 2,
       "version_minor": 0
      },
      "text/plain": [
       "Iterating over frames for track ID 244:   0%|          | 0/130 [00:00<?, ?it/s]"
      ]
     },
     "metadata": {},
     "output_type": "display_data"
    },
    {
     "data": {
      "application/vnd.jupyter.widget-view+json": {
       "model_id": "",
       "version_major": 2,
       "version_minor": 0
      },
      "text/plain": [
       "Iterating over frames for track ID 252:   0%|          | 0/154 [00:00<?, ?it/s]"
      ]
     },
     "metadata": {},
     "output_type": "display_data"
    },
    {
     "data": {
      "application/vnd.jupyter.widget-view+json": {
       "model_id": "",
       "version_major": 2,
       "version_minor": 0
      },
      "text/plain": [
       "Iterating over frames for track ID 256:   0%|          | 0/154 [00:00<?, ?it/s]"
      ]
     },
     "metadata": {},
     "output_type": "display_data"
    },
    {
     "data": {
      "application/vnd.jupyter.widget-view+json": {
       "model_id": "",
       "version_major": 2,
       "version_minor": 0
      },
      "text/plain": [
       "Iterating over frames for track ID 261:   0%|          | 0/154 [00:00<?, ?it/s]"
      ]
     },
     "metadata": {},
     "output_type": "display_data"
    },
    {
     "data": {
      "application/vnd.jupyter.widget-view+json": {
       "model_id": "",
       "version_major": 2,
       "version_minor": 0
      },
      "text/plain": [
       "Iterating over frames for track ID 274:   0%|          | 0/154 [00:00<?, ?it/s]"
      ]
     },
     "metadata": {},
     "output_type": "display_data"
    },
    {
     "data": {
      "application/vnd.jupyter.widget-view+json": {
       "model_id": "",
       "version_major": 2,
       "version_minor": 0
      },
      "text/plain": [
       "Iterating over frames for track ID 276:   0%|          | 0/154 [00:00<?, ?it/s]"
      ]
     },
     "metadata": {},
     "output_type": "display_data"
    },
    {
     "data": {
      "application/vnd.jupyter.widget-view+json": {
       "model_id": "",
       "version_major": 2,
       "version_minor": 0
      },
      "text/plain": [
       "Iterating over frames for track ID 283:   0%|          | 0/154 [00:00<?, ?it/s]"
      ]
     },
     "metadata": {},
     "output_type": "display_data"
    },
    {
     "data": {
      "application/vnd.jupyter.widget-view+json": {
       "model_id": "",
       "version_major": 2,
       "version_minor": 0
      },
      "text/plain": [
       "Iterating over frames for track ID 289:   0%|          | 0/154 [00:00<?, ?it/s]"
      ]
     },
     "metadata": {},
     "output_type": "display_data"
    },
    {
     "data": {
      "application/vnd.jupyter.widget-view+json": {
       "model_id": "",
       "version_major": 2,
       "version_minor": 0
      },
      "text/plain": [
       "Iterating over frames for track ID 296:   0%|          | 0/154 [00:00<?, ?it/s]"
      ]
     },
     "metadata": {},
     "output_type": "display_data"
    },
    {
     "data": {
      "application/vnd.jupyter.widget-view+json": {
       "model_id": "",
       "version_major": 2,
       "version_minor": 0
      },
      "text/plain": [
       "Iterating over frames for track ID 301:   0%|          | 0/154 [00:00<?, ?it/s]"
      ]
     },
     "metadata": {},
     "output_type": "display_data"
    },
    {
     "data": {
      "application/vnd.jupyter.widget-view+json": {
       "model_id": "",
       "version_major": 2,
       "version_minor": 0
      },
      "text/plain": [
       "Iterating over frames for track ID 311:   0%|          | 0/154 [00:00<?, ?it/s]"
      ]
     },
     "metadata": {},
     "output_type": "display_data"
    },
    {
     "data": {
      "application/vnd.jupyter.widget-view+json": {
       "model_id": "",
       "version_major": 2,
       "version_minor": 0
      },
      "text/plain": [
       "Iterating over frames for track ID 315:   0%|          | 0/154 [00:00<?, ?it/s]"
      ]
     },
     "metadata": {},
     "output_type": "display_data"
    },
    {
     "data": {
      "application/vnd.jupyter.widget-view+json": {
       "model_id": "",
       "version_major": 2,
       "version_minor": 0
      },
      "text/plain": [
       "Iterating over frames for track ID 320:   0%|          | 0/154 [00:00<?, ?it/s]"
      ]
     },
     "metadata": {},
     "output_type": "display_data"
    },
    {
     "data": {
      "application/vnd.jupyter.widget-view+json": {
       "model_id": "",
       "version_major": 2,
       "version_minor": 0
      },
      "text/plain": [
       "Iterating over frames for track ID 323:   0%|          | 0/154 [00:00<?, ?it/s]"
      ]
     },
     "metadata": {},
     "output_type": "display_data"
    },
    {
     "data": {
      "application/vnd.jupyter.widget-view+json": {
       "model_id": "",
       "version_major": 2,
       "version_minor": 0
      },
      "text/plain": [
       "Iterating over frames for track ID 331:   0%|          | 0/154 [00:00<?, ?it/s]"
      ]
     },
     "metadata": {},
     "output_type": "display_data"
    },
    {
     "data": {
      "application/vnd.jupyter.widget-view+json": {
       "model_id": "",
       "version_major": 2,
       "version_minor": 0
      },
      "text/plain": [
       "Iterating over frames for track ID 332:   0%|          | 0/154 [00:00<?, ?it/s]"
      ]
     },
     "metadata": {},
     "output_type": "display_data"
    },
    {
     "data": {
      "application/vnd.jupyter.widget-view+json": {
       "model_id": "",
       "version_major": 2,
       "version_minor": 0
      },
      "text/plain": [
       "Iterating over frames for track ID 346:   0%|          | 0/154 [00:00<?, ?it/s]"
      ]
     },
     "metadata": {},
     "output_type": "display_data"
    },
    {
     "data": {
      "application/vnd.jupyter.widget-view+json": {
       "model_id": "",
       "version_major": 2,
       "version_minor": 0
      },
      "text/plain": [
       "Iterating over frames for track ID 362:   0%|          | 0/154 [00:00<?, ?it/s]"
      ]
     },
     "metadata": {},
     "output_type": "display_data"
    },
    {
     "data": {
      "application/vnd.jupyter.widget-view+json": {
       "model_id": "",
       "version_major": 2,
       "version_minor": 0
      },
      "text/plain": [
       "Iterating over frames for track ID 382:   0%|          | 0/154 [00:00<?, ?it/s]"
      ]
     },
     "metadata": {},
     "output_type": "display_data"
    },
    {
     "data": {
      "application/vnd.jupyter.widget-view+json": {
       "model_id": "",
       "version_major": 2,
       "version_minor": 0
      },
      "text/plain": [
       "Iterating over frames for track ID 384:   0%|          | 0/154 [00:00<?, ?it/s]"
      ]
     },
     "metadata": {},
     "output_type": "display_data"
    },
    {
     "data": {
      "application/vnd.jupyter.widget-view+json": {
       "model_id": "",
       "version_major": 2,
       "version_minor": 0
      },
      "text/plain": [
       "Iterating over frames for track ID 386:   0%|          | 0/154 [00:00<?, ?it/s]"
      ]
     },
     "metadata": {},
     "output_type": "display_data"
    },
    {
     "data": {
      "application/vnd.jupyter.widget-view+json": {
       "model_id": "",
       "version_major": 2,
       "version_minor": 0
      },
      "text/plain": [
       "Iterating over frames for track ID 392:   0%|          | 0/154 [00:00<?, ?it/s]"
      ]
     },
     "metadata": {},
     "output_type": "display_data"
    },
    {
     "data": {
      "application/vnd.jupyter.widget-view+json": {
       "model_id": "",
       "version_major": 2,
       "version_minor": 0
      },
      "text/plain": [
       "Iterating over frames for track ID 404:   0%|          | 0/154 [00:00<?, ?it/s]"
      ]
     },
     "metadata": {},
     "output_type": "display_data"
    },
    {
     "data": {
      "application/vnd.jupyter.widget-view+json": {
       "model_id": "",
       "version_major": 2,
       "version_minor": 0
      },
      "text/plain": [
       "Iterating over frames for track ID 405:   0%|          | 0/154 [00:00<?, ?it/s]"
      ]
     },
     "metadata": {},
     "output_type": "display_data"
    },
    {
     "data": {
      "application/vnd.jupyter.widget-view+json": {
       "model_id": "",
       "version_major": 2,
       "version_minor": 0
      },
      "text/plain": [
       "Iterating over frames for track ID 408:   0%|          | 0/154 [00:00<?, ?it/s]"
      ]
     },
     "metadata": {},
     "output_type": "display_data"
    },
    {
     "data": {
      "application/vnd.jupyter.widget-view+json": {
       "model_id": "",
       "version_major": 2,
       "version_minor": 0
      },
      "text/plain": [
       "Iterating over frames for track ID 420:   0%|          | 0/154 [00:00<?, ?it/s]"
      ]
     },
     "metadata": {},
     "output_type": "display_data"
    },
    {
     "data": {
      "application/vnd.jupyter.widget-view+json": {
       "model_id": "",
       "version_major": 2,
       "version_minor": 0
      },
      "text/plain": [
       "Iterating over frames for track ID 422:   0%|          | 0/154 [00:00<?, ?it/s]"
      ]
     },
     "metadata": {},
     "output_type": "display_data"
    },
    {
     "data": {
      "application/vnd.jupyter.widget-view+json": {
       "model_id": "",
       "version_major": 2,
       "version_minor": 0
      },
      "text/plain": [
       "Iterating over frames for track ID 426:   0%|          | 0/154 [00:00<?, ?it/s]"
      ]
     },
     "metadata": {},
     "output_type": "display_data"
    },
    {
     "data": {
      "application/vnd.jupyter.widget-view+json": {
       "model_id": "",
       "version_major": 2,
       "version_minor": 0
      },
      "text/plain": [
       "Iterating over frames for track ID 435:   0%|          | 0/154 [00:00<?, ?it/s]"
      ]
     },
     "metadata": {},
     "output_type": "display_data"
    },
    {
     "data": {
      "application/vnd.jupyter.widget-view+json": {
       "model_id": "",
       "version_major": 2,
       "version_minor": 0
      },
      "text/plain": [
       "Iterating over frames for track ID 436:   0%|          | 0/154 [00:00<?, ?it/s]"
      ]
     },
     "metadata": {},
     "output_type": "display_data"
    },
    {
     "data": {
      "application/vnd.jupyter.widget-view+json": {
       "model_id": "",
       "version_major": 2,
       "version_minor": 0
      },
      "text/plain": [
       "Iterating over frames for track ID 441:   0%|          | 0/154 [00:00<?, ?it/s]"
      ]
     },
     "metadata": {},
     "output_type": "display_data"
    },
    {
     "data": {
      "application/vnd.jupyter.widget-view+json": {
       "model_id": "",
       "version_major": 2,
       "version_minor": 0
      },
      "text/plain": [
       "Iterating over frames for track ID 448:   0%|          | 0/154 [00:00<?, ?it/s]"
      ]
     },
     "metadata": {},
     "output_type": "display_data"
    },
    {
     "data": {
      "application/vnd.jupyter.widget-view+json": {
       "model_id": "",
       "version_major": 2,
       "version_minor": 0
      },
      "text/plain": [
       "Iterating over frames for track ID 454:   0%|          | 0/154 [00:00<?, ?it/s]"
      ]
     },
     "metadata": {},
     "output_type": "display_data"
    },
    {
     "data": {
      "application/vnd.jupyter.widget-view+json": {
       "model_id": "",
       "version_major": 2,
       "version_minor": 0
      },
      "text/plain": [
       "Iterating over frames for track ID 456:   0%|          | 0/154 [00:00<?, ?it/s]"
      ]
     },
     "metadata": {},
     "output_type": "display_data"
    },
    {
     "data": {
      "application/vnd.jupyter.widget-view+json": {
       "model_id": "",
       "version_major": 2,
       "version_minor": 0
      },
      "text/plain": [
       "Iterating over frames for track ID 460:   0%|          | 0/154 [00:00<?, ?it/s]"
      ]
     },
     "metadata": {},
     "output_type": "display_data"
    },
    {
     "data": {
      "application/vnd.jupyter.widget-view+json": {
       "model_id": "",
       "version_major": 2,
       "version_minor": 0
      },
      "text/plain": [
       "Iterating over frames for track ID 470:   0%|          | 0/154 [00:00<?, ?it/s]"
      ]
     },
     "metadata": {},
     "output_type": "display_data"
    },
    {
     "data": {
      "application/vnd.jupyter.widget-view+json": {
       "model_id": "",
       "version_major": 2,
       "version_minor": 0
      },
      "text/plain": [
       "Iterating over frames for track ID 472:   0%|          | 0/154 [00:00<?, ?it/s]"
      ]
     },
     "metadata": {},
     "output_type": "display_data"
    },
    {
     "data": {
      "application/vnd.jupyter.widget-view+json": {
       "model_id": "",
       "version_major": 2,
       "version_minor": 0
      },
      "text/plain": [
       "Iterating over frames for track ID 475:   0%|          | 0/154 [00:00<?, ?it/s]"
      ]
     },
     "metadata": {},
     "output_type": "display_data"
    },
    {
     "data": {
      "application/vnd.jupyter.widget-view+json": {
       "model_id": "",
       "version_major": 2,
       "version_minor": 0
      },
      "text/plain": [
       "Iterating over frames for track ID 477:   0%|          | 0/154 [00:00<?, ?it/s]"
      ]
     },
     "metadata": {},
     "output_type": "display_data"
    },
    {
     "data": {
      "application/vnd.jupyter.widget-view+json": {
       "model_id": "",
       "version_major": 2,
       "version_minor": 0
      },
      "text/plain": [
       "Iterating over frames for track ID 478:   0%|          | 0/154 [00:00<?, ?it/s]"
      ]
     },
     "metadata": {},
     "output_type": "display_data"
    },
    {
     "data": {
      "application/vnd.jupyter.widget-view+json": {
       "model_id": "",
       "version_major": 2,
       "version_minor": 0
      },
      "text/plain": [
       "Iterating over frames for track ID 501:   0%|          | 0/154 [00:00<?, ?it/s]"
      ]
     },
     "metadata": {},
     "output_type": "display_data"
    },
    {
     "data": {
      "application/vnd.jupyter.widget-view+json": {
       "model_id": "",
       "version_major": 2,
       "version_minor": 0
      },
      "text/plain": [
       "Iterating over frames for track ID 502:   0%|          | 0/154 [00:00<?, ?it/s]"
      ]
     },
     "metadata": {},
     "output_type": "display_data"
    },
    {
     "data": {
      "application/vnd.jupyter.widget-view+json": {
       "model_id": "",
       "version_major": 2,
       "version_minor": 0
      },
      "text/plain": [
       "Iterating over frames for track ID 515:   0%|          | 0/154 [00:00<?, ?it/s]"
      ]
     },
     "metadata": {},
     "output_type": "display_data"
    },
    {
     "data": {
      "application/vnd.jupyter.widget-view+json": {
       "model_id": "",
       "version_major": 2,
       "version_minor": 0
      },
      "text/plain": [
       "Iterating over frames for track ID 539:   0%|          | 0/154 [00:00<?, ?it/s]"
      ]
     },
     "metadata": {},
     "output_type": "display_data"
    },
    {
     "data": {
      "application/vnd.jupyter.widget-view+json": {
       "model_id": "",
       "version_major": 2,
       "version_minor": 0
      },
      "text/plain": [
       "Iterating over frames for track ID 549:   0%|          | 0/154 [00:00<?, ?it/s]"
      ]
     },
     "metadata": {},
     "output_type": "display_data"
    },
    {
     "data": {
      "application/vnd.jupyter.widget-view+json": {
       "model_id": "",
       "version_major": 2,
       "version_minor": 0
      },
      "text/plain": [
       "Iterating over frames for track ID 550:   0%|          | 0/154 [00:00<?, ?it/s]"
      ]
     },
     "metadata": {},
     "output_type": "display_data"
    },
    {
     "data": {
      "application/vnd.jupyter.widget-view+json": {
       "model_id": "",
       "version_major": 2,
       "version_minor": 0
      },
      "text/plain": [
       "Iterating over frames for track ID 559:   0%|          | 0/154 [00:00<?, ?it/s]"
      ]
     },
     "metadata": {},
     "output_type": "display_data"
    },
    {
     "data": {
      "application/vnd.jupyter.widget-view+json": {
       "model_id": "",
       "version_major": 2,
       "version_minor": 0
      },
      "text/plain": [
       "Iterating over frames for track ID 562:   0%|          | 0/154 [00:00<?, ?it/s]"
      ]
     },
     "metadata": {},
     "output_type": "display_data"
    },
    {
     "data": {
      "application/vnd.jupyter.widget-view+json": {
       "model_id": "",
       "version_major": 2,
       "version_minor": 0
      },
      "text/plain": [
       "Iterating over frames for track ID 573:   0%|          | 0/154 [00:00<?, ?it/s]"
      ]
     },
     "metadata": {},
     "output_type": "display_data"
    },
    {
     "data": {
      "application/vnd.jupyter.widget-view+json": {
       "model_id": "",
       "version_major": 2,
       "version_minor": 0
      },
      "text/plain": [
       "Iterating over frames for track ID 579:   0%|          | 0/154 [00:00<?, ?it/s]"
      ]
     },
     "metadata": {},
     "output_type": "display_data"
    },
    {
     "data": {
      "application/vnd.jupyter.widget-view+json": {
       "model_id": "",
       "version_major": 2,
       "version_minor": 0
      },
      "text/plain": [
       "Iterating over frames for track ID 582:   0%|          | 0/154 [00:00<?, ?it/s]"
      ]
     },
     "metadata": {},
     "output_type": "display_data"
    },
    {
     "data": {
      "application/vnd.jupyter.widget-view+json": {
       "model_id": "",
       "version_major": 2,
       "version_minor": 0
      },
      "text/plain": [
       "Iterating over frames for track ID 593:   0%|          | 0/154 [00:00<?, ?it/s]"
      ]
     },
     "metadata": {},
     "output_type": "display_data"
    },
    {
     "data": {
      "application/vnd.jupyter.widget-view+json": {
       "model_id": "",
       "version_major": 2,
       "version_minor": 0
      },
      "text/plain": [
       "Iterating over frames for track ID 594:   0%|          | 0/154 [00:00<?, ?it/s]"
      ]
     },
     "metadata": {},
     "output_type": "display_data"
    },
    {
     "data": {
      "application/vnd.jupyter.widget-view+json": {
       "model_id": "",
       "version_major": 2,
       "version_minor": 0
      },
      "text/plain": [
       "Iterating over frames for track ID 597:   0%|          | 0/154 [00:00<?, ?it/s]"
      ]
     },
     "metadata": {},
     "output_type": "display_data"
    },
    {
     "data": {
      "application/vnd.jupyter.widget-view+json": {
       "model_id": "",
       "version_major": 2,
       "version_minor": 0
      },
      "text/plain": [
       "Iterating over frames for track ID 607:   0%|          | 0/154 [00:00<?, ?it/s]"
      ]
     },
     "metadata": {},
     "output_type": "display_data"
    },
    {
     "data": {
      "application/vnd.jupyter.widget-view+json": {
       "model_id": "",
       "version_major": 2,
       "version_minor": 0
      },
      "text/plain": [
       "Iterating over frames for track ID 611:   0%|          | 0/154 [00:00<?, ?it/s]"
      ]
     },
     "metadata": {},
     "output_type": "display_data"
    },
    {
     "data": {
      "application/vnd.jupyter.widget-view+json": {
       "model_id": "",
       "version_major": 2,
       "version_minor": 0
      },
      "text/plain": [
       "Iterating over frames for track ID 616:   0%|          | 0/154 [00:00<?, ?it/s]"
      ]
     },
     "metadata": {},
     "output_type": "display_data"
    },
    {
     "data": {
      "application/vnd.jupyter.widget-view+json": {
       "model_id": "",
       "version_major": 2,
       "version_minor": 0
      },
      "text/plain": [
       "Iterating over frames for track ID 625:   0%|          | 0/154 [00:00<?, ?it/s]"
      ]
     },
     "metadata": {},
     "output_type": "display_data"
    },
    {
     "data": {
      "application/vnd.jupyter.widget-view+json": {
       "model_id": "",
       "version_major": 2,
       "version_minor": 0
      },
      "text/plain": [
       "Iterating over frames for track ID 630:   0%|          | 0/154 [00:00<?, ?it/s]"
      ]
     },
     "metadata": {},
     "output_type": "display_data"
    },
    {
     "data": {
      "application/vnd.jupyter.widget-view+json": {
       "model_id": "",
       "version_major": 2,
       "version_minor": 0
      },
      "text/plain": [
       "Iterating over frames for track ID 659:   0%|          | 0/154 [00:00<?, ?it/s]"
      ]
     },
     "metadata": {},
     "output_type": "display_data"
    },
    {
     "data": {
      "application/vnd.jupyter.widget-view+json": {
       "model_id": "",
       "version_major": 2,
       "version_minor": 0
      },
      "text/plain": [
       "Iterating over frames for track ID 661:   0%|          | 0/154 [00:00<?, ?it/s]"
      ]
     },
     "metadata": {},
     "output_type": "display_data"
    },
    {
     "data": {
      "application/vnd.jupyter.widget-view+json": {
       "model_id": "",
       "version_major": 2,
       "version_minor": 0
      },
      "text/plain": [
       "Iterating over frames for track ID 672:   0%|          | 0/154 [00:00<?, ?it/s]"
      ]
     },
     "metadata": {},
     "output_type": "display_data"
    },
    {
     "data": {
      "application/vnd.jupyter.widget-view+json": {
       "model_id": "",
       "version_major": 2,
       "version_minor": 0
      },
      "text/plain": [
       "Iterating over frames for track ID 679:   0%|          | 0/154 [00:00<?, ?it/s]"
      ]
     },
     "metadata": {},
     "output_type": "display_data"
    },
    {
     "data": {
      "application/vnd.jupyter.widget-view+json": {
       "model_id": "",
       "version_major": 2,
       "version_minor": 0
      },
      "text/plain": [
       "Iterating over frames for track ID 683:   0%|          | 0/154 [00:00<?, ?it/s]"
      ]
     },
     "metadata": {},
     "output_type": "display_data"
    },
    {
     "data": {
      "application/vnd.jupyter.widget-view+json": {
       "model_id": "",
       "version_major": 2,
       "version_minor": 0
      },
      "text/plain": [
       "Iterating over frames for track ID 709:   0%|          | 0/154 [00:00<?, ?it/s]"
      ]
     },
     "metadata": {},
     "output_type": "display_data"
    },
    {
     "data": {
      "application/vnd.jupyter.widget-view+json": {
       "model_id": "",
       "version_major": 2,
       "version_minor": 0
      },
      "text/plain": [
       "Iterating over frames for track ID 713:   0%|          | 0/154 [00:00<?, ?it/s]"
      ]
     },
     "metadata": {},
     "output_type": "display_data"
    },
    {
     "data": {
      "application/vnd.jupyter.widget-view+json": {
       "model_id": "",
       "version_major": 2,
       "version_minor": 0
      },
      "text/plain": [
       "Iterating over frames for track ID 725:   0%|          | 0/154 [00:00<?, ?it/s]"
      ]
     },
     "metadata": {},
     "output_type": "display_data"
    },
    {
     "data": {
      "application/vnd.jupyter.widget-view+json": {
       "model_id": "",
       "version_major": 2,
       "version_minor": 0
      },
      "text/plain": [
       "Iterating over frames for track ID 728:   0%|          | 0/154 [00:00<?, ?it/s]"
      ]
     },
     "metadata": {},
     "output_type": "display_data"
    },
    {
     "data": {
      "application/vnd.jupyter.widget-view+json": {
       "model_id": "",
       "version_major": 2,
       "version_minor": 0
      },
      "text/plain": [
       "Iterating over frames for track ID 729:   0%|          | 0/154 [00:00<?, ?it/s]"
      ]
     },
     "metadata": {},
     "output_type": "display_data"
    },
    {
     "data": {
      "application/vnd.jupyter.widget-view+json": {
       "model_id": "",
       "version_major": 2,
       "version_minor": 0
      },
      "text/plain": [
       "Iterating over frames for track ID 739:   0%|          | 0/154 [00:00<?, ?it/s]"
      ]
     },
     "metadata": {},
     "output_type": "display_data"
    },
    {
     "data": {
      "application/vnd.jupyter.widget-view+json": {
       "model_id": "",
       "version_major": 2,
       "version_minor": 0
      },
      "text/plain": [
       "Iterating over frames for track ID 741:   0%|          | 0/154 [00:00<?, ?it/s]"
      ]
     },
     "metadata": {},
     "output_type": "display_data"
    },
    {
     "data": {
      "application/vnd.jupyter.widget-view+json": {
       "model_id": "",
       "version_major": 2,
       "version_minor": 0
      },
      "text/plain": [
       "Iterating over frames for track ID 744:   0%|          | 0/154 [00:00<?, ?it/s]"
      ]
     },
     "metadata": {},
     "output_type": "display_data"
    },
    {
     "data": {
      "application/vnd.jupyter.widget-view+json": {
       "model_id": "",
       "version_major": 2,
       "version_minor": 0
      },
      "text/plain": [
       "Iterating over frames for track ID 746:   0%|          | 0/154 [00:00<?, ?it/s]"
      ]
     },
     "metadata": {},
     "output_type": "display_data"
    },
    {
     "data": {
      "application/vnd.jupyter.widget-view+json": {
       "model_id": "",
       "version_major": 2,
       "version_minor": 0
      },
      "text/plain": [
       "Iterating over frames for track ID 750:   0%|          | 0/150 [00:00<?, ?it/s]"
      ]
     },
     "metadata": {},
     "output_type": "display_data"
    },
    {
     "data": {
      "application/vnd.jupyter.widget-view+json": {
       "model_id": "",
       "version_major": 2,
       "version_minor": 0
      },
      "text/plain": [
       "Iterating over frames for track ID 757:   0%|          | 0/154 [00:00<?, ?it/s]"
      ]
     },
     "metadata": {},
     "output_type": "display_data"
    },
    {
     "data": {
      "application/vnd.jupyter.widget-view+json": {
       "model_id": "",
       "version_major": 2,
       "version_minor": 0
      },
      "text/plain": [
       "Iterating over frames for track ID 765:   0%|          | 0/154 [00:00<?, ?it/s]"
      ]
     },
     "metadata": {},
     "output_type": "display_data"
    },
    {
     "data": {
      "application/vnd.jupyter.widget-view+json": {
       "model_id": "",
       "version_major": 2,
       "version_minor": 0
      },
      "text/plain": [
       "Iterating over frames for track ID 777:   0%|          | 0/154 [00:00<?, ?it/s]"
      ]
     },
     "metadata": {},
     "output_type": "display_data"
    },
    {
     "data": {
      "application/vnd.jupyter.widget-view+json": {
       "model_id": "",
       "version_major": 2,
       "version_minor": 0
      },
      "text/plain": [
       "Iterating over frames for track ID 789:   0%|          | 0/154 [00:00<?, ?it/s]"
      ]
     },
     "metadata": {},
     "output_type": "display_data"
    },
    {
     "data": {
      "application/vnd.jupyter.widget-view+json": {
       "model_id": "",
       "version_major": 2,
       "version_minor": 0
      },
      "text/plain": [
       "Iterating over frames for track ID 796:   0%|          | 0/136 [00:00<?, ?it/s]"
      ]
     },
     "metadata": {},
     "output_type": "display_data"
    },
    {
     "data": {
      "application/vnd.jupyter.widget-view+json": {
       "model_id": "",
       "version_major": 2,
       "version_minor": 0
      },
      "text/plain": [
       "Iterating over frames for track ID 801:   0%|          | 0/154 [00:00<?, ?it/s]"
      ]
     },
     "metadata": {},
     "output_type": "display_data"
    },
    {
     "data": {
      "application/vnd.jupyter.widget-view+json": {
       "model_id": "",
       "version_major": 2,
       "version_minor": 0
      },
      "text/plain": [
       "Iterating over frames for track ID 806:   0%|          | 0/154 [00:00<?, ?it/s]"
      ]
     },
     "metadata": {},
     "output_type": "display_data"
    },
    {
     "data": {
      "application/vnd.jupyter.widget-view+json": {
       "model_id": "",
       "version_major": 2,
       "version_minor": 0
      },
      "text/plain": [
       "Iterating over frames for track ID 816:   0%|          | 0/143 [00:00<?, ?it/s]"
      ]
     },
     "metadata": {},
     "output_type": "display_data"
    },
    {
     "data": {
      "application/vnd.jupyter.widget-view+json": {
       "model_id": "",
       "version_major": 2,
       "version_minor": 0
      },
      "text/plain": [
       "Iterating over frames for track ID 817:   0%|          | 0/154 [00:00<?, ?it/s]"
      ]
     },
     "metadata": {},
     "output_type": "display_data"
    },
    {
     "data": {
      "application/vnd.jupyter.widget-view+json": {
       "model_id": "",
       "version_major": 2,
       "version_minor": 0
      },
      "text/plain": [
       "Iterating over frames for track ID 853:   0%|          | 0/154 [00:00<?, ?it/s]"
      ]
     },
     "metadata": {},
     "output_type": "display_data"
    },
    {
     "data": {
      "application/vnd.jupyter.widget-view+json": {
       "model_id": "",
       "version_major": 2,
       "version_minor": 0
      },
      "text/plain": [
       "Iterating over frames for track ID 863:   0%|          | 0/154 [00:00<?, ?it/s]"
      ]
     },
     "metadata": {},
     "output_type": "display_data"
    },
    {
     "data": {
      "application/vnd.jupyter.widget-view+json": {
       "model_id": "",
       "version_major": 2,
       "version_minor": 0
      },
      "text/plain": [
       "Iterating over frames for track ID 865:   0%|          | 0/154 [00:00<?, ?it/s]"
      ]
     },
     "metadata": {},
     "output_type": "display_data"
    },
    {
     "data": {
      "application/vnd.jupyter.widget-view+json": {
       "model_id": "",
       "version_major": 2,
       "version_minor": 0
      },
      "text/plain": [
       "Iterating over frames for track ID 868:   0%|          | 0/154 [00:00<?, ?it/s]"
      ]
     },
     "metadata": {},
     "output_type": "display_data"
    },
    {
     "data": {
      "application/vnd.jupyter.widget-view+json": {
       "model_id": "",
       "version_major": 2,
       "version_minor": 0
      },
      "text/plain": [
       "Iterating over frames for track ID 872:   0%|          | 0/144 [00:00<?, ?it/s]"
      ]
     },
     "metadata": {},
     "output_type": "display_data"
    },
    {
     "data": {
      "application/vnd.jupyter.widget-view+json": {
       "model_id": "",
       "version_major": 2,
       "version_minor": 0
      },
      "text/plain": [
       "Iterating over frames for track ID 875:   0%|          | 0/153 [00:00<?, ?it/s]"
      ]
     },
     "metadata": {},
     "output_type": "display_data"
    },
    {
     "data": {
      "application/vnd.jupyter.widget-view+json": {
       "model_id": "",
       "version_major": 2,
       "version_minor": 0
      },
      "text/plain": [
       "Iterating over frames for track ID 890:   0%|          | 0/153 [00:00<?, ?it/s]"
      ]
     },
     "metadata": {},
     "output_type": "display_data"
    },
    {
     "data": {
      "application/vnd.jupyter.widget-view+json": {
       "model_id": "",
       "version_major": 2,
       "version_minor": 0
      },
      "text/plain": [
       "Iterating over frames for track ID 907:   0%|          | 0/153 [00:00<?, ?it/s]"
      ]
     },
     "metadata": {},
     "output_type": "display_data"
    },
    {
     "data": {
      "application/vnd.jupyter.widget-view+json": {
       "model_id": "",
       "version_major": 2,
       "version_minor": 0
      },
      "text/plain": [
       "Iterating over frames for track ID 923:   0%|          | 0/153 [00:00<?, ?it/s]"
      ]
     },
     "metadata": {},
     "output_type": "display_data"
    },
    {
     "data": {
      "application/vnd.jupyter.widget-view+json": {
       "model_id": "",
       "version_major": 2,
       "version_minor": 0
      },
      "text/plain": [
       "Iterating over frames for track ID 924:   0%|          | 0/140 [00:00<?, ?it/s]"
      ]
     },
     "metadata": {},
     "output_type": "display_data"
    },
    {
     "data": {
      "application/vnd.jupyter.widget-view+json": {
       "model_id": "",
       "version_major": 2,
       "version_minor": 0
      },
      "text/plain": [
       "Iterating over frames for track ID 931:   0%|          | 0/153 [00:00<?, ?it/s]"
      ]
     },
     "metadata": {},
     "output_type": "display_data"
    },
    {
     "data": {
      "application/vnd.jupyter.widget-view+json": {
       "model_id": "",
       "version_major": 2,
       "version_minor": 0
      },
      "text/plain": [
       "Iterating over frames for track ID 960:   0%|          | 0/153 [00:00<?, ?it/s]"
      ]
     },
     "metadata": {},
     "output_type": "display_data"
    },
    {
     "data": {
      "application/vnd.jupyter.widget-view+json": {
       "model_id": "",
       "version_major": 2,
       "version_minor": 0
      },
      "text/plain": [
       "Iterating over frames for track ID 976:   0%|          | 0/153 [00:00<?, ?it/s]"
      ]
     },
     "metadata": {},
     "output_type": "display_data"
    },
    {
     "data": {
      "application/vnd.jupyter.widget-view+json": {
       "model_id": "",
       "version_major": 2,
       "version_minor": 0
      },
      "text/plain": [
       "Iterating over frames for track ID 987:   0%|          | 0/153 [00:00<?, ?it/s]"
      ]
     },
     "metadata": {},
     "output_type": "display_data"
    },
    {
     "data": {
      "application/vnd.jupyter.widget-view+json": {
       "model_id": "",
       "version_major": 2,
       "version_minor": 0
      },
      "text/plain": [
       "Iterating over frames for track ID 1010:   0%|          | 0/153 [00:00<?, ?it/s]"
      ]
     },
     "metadata": {},
     "output_type": "display_data"
    },
    {
     "data": {
      "application/vnd.jupyter.widget-view+json": {
       "model_id": "",
       "version_major": 2,
       "version_minor": 0
      },
      "text/plain": [
       "Iterating over frames for track ID 1038:   0%|          | 0/152 [00:00<?, ?it/s]"
      ]
     },
     "metadata": {},
     "output_type": "display_data"
    },
    {
     "data": {
      "application/vnd.jupyter.widget-view+json": {
       "model_id": "",
       "version_major": 2,
       "version_minor": 0
      },
      "text/plain": [
       "Iterating over frames for track ID 1054:   0%|          | 0/152 [00:00<?, ?it/s]"
      ]
     },
     "metadata": {},
     "output_type": "display_data"
    },
    {
     "data": {
      "application/vnd.jupyter.widget-view+json": {
       "model_id": "",
       "version_major": 2,
       "version_minor": 0
      },
      "text/plain": [
       "Iterating over frames for track ID 1069:   0%|          | 0/152 [00:00<?, ?it/s]"
      ]
     },
     "metadata": {},
     "output_type": "display_data"
    },
    {
     "data": {
      "application/vnd.jupyter.widget-view+json": {
       "model_id": "",
       "version_major": 2,
       "version_minor": 0
      },
      "text/plain": [
       "Iterating over frames for track ID 1102:   0%|          | 0/151 [00:00<?, ?it/s]"
      ]
     },
     "metadata": {},
     "output_type": "display_data"
    },
    {
     "data": {
      "application/vnd.jupyter.widget-view+json": {
       "model_id": "",
       "version_major": 2,
       "version_minor": 0
      },
      "text/plain": [
       "Iterating over frames for track ID 1131:   0%|          | 0/146 [00:00<?, ?it/s]"
      ]
     },
     "metadata": {},
     "output_type": "display_data"
    },
    {
     "data": {
      "application/vnd.jupyter.widget-view+json": {
       "model_id": "",
       "version_major": 2,
       "version_minor": 0
      },
      "text/plain": [
       "Iterating over frames for track ID 1220:   0%|          | 0/149 [00:00<?, ?it/s]"
      ]
     },
     "metadata": {},
     "output_type": "display_data"
    },
    {
     "data": {
      "application/vnd.jupyter.widget-view+json": {
       "model_id": "",
       "version_major": 2,
       "version_minor": 0
      },
      "text/plain": [
       "Iterating over frames for track ID 1246:   0%|          | 0/149 [00:00<?, ?it/s]"
      ]
     },
     "metadata": {},
     "output_type": "display_data"
    },
    {
     "data": {
      "application/vnd.jupyter.widget-view+json": {
       "model_id": "",
       "version_major": 2,
       "version_minor": 0
      },
      "text/plain": [
       "Iterating over frames for track ID 1348:   0%|          | 0/147 [00:00<?, ?it/s]"
      ]
     },
     "metadata": {},
     "output_type": "display_data"
    },
    {
     "data": {
      "application/vnd.jupyter.widget-view+json": {
       "model_id": "",
       "version_major": 2,
       "version_minor": 0
      },
      "text/plain": [
       "Iterating over frames for track ID 1374:   0%|          | 0/147 [00:00<?, ?it/s]"
      ]
     },
     "metadata": {},
     "output_type": "display_data"
    },
    {
     "data": {
      "application/vnd.jupyter.widget-view+json": {
       "model_id": "",
       "version_major": 2,
       "version_minor": 0
      },
      "text/plain": [
       "Iterating over frames for track ID 1375:   0%|          | 0/147 [00:00<?, ?it/s]"
      ]
     },
     "metadata": {},
     "output_type": "display_data"
    },
    {
     "data": {
      "application/vnd.jupyter.widget-view+json": {
       "model_id": "",
       "version_major": 2,
       "version_minor": 0
      },
      "text/plain": [
       "Iterating over frames for track ID 1392:   0%|          | 0/146 [00:00<?, ?it/s]"
      ]
     },
     "metadata": {},
     "output_type": "display_data"
    },
    {
     "data": {
      "application/vnd.jupyter.widget-view+json": {
       "model_id": "",
       "version_major": 2,
       "version_minor": 0
      },
      "text/plain": [
       "Iterating over frames for track ID 1437:   0%|          | 0/146 [00:00<?, ?it/s]"
      ]
     },
     "metadata": {},
     "output_type": "display_data"
    },
    {
     "data": {
      "application/vnd.jupyter.widget-view+json": {
       "model_id": "",
       "version_major": 2,
       "version_minor": 0
      },
      "text/plain": [
       "Iterating over frames for track ID 1439:   0%|          | 0/146 [00:00<?, ?it/s]"
      ]
     },
     "metadata": {},
     "output_type": "display_data"
    },
    {
     "data": {
      "application/vnd.jupyter.widget-view+json": {
       "model_id": "",
       "version_major": 2,
       "version_minor": 0
      },
      "text/plain": [
       "Iterating over frames for track ID 1513:   0%|          | 0/144 [00:00<?, ?it/s]"
      ]
     },
     "metadata": {},
     "output_type": "display_data"
    },
    {
     "data": {
      "application/vnd.jupyter.widget-view+json": {
       "model_id": "",
       "version_major": 2,
       "version_minor": 0
      },
      "text/plain": [
       "Iterating over frames for track ID 1539:   0%|          | 0/144 [00:00<?, ?it/s]"
      ]
     },
     "metadata": {},
     "output_type": "display_data"
    },
    {
     "data": {
      "application/vnd.jupyter.widget-view+json": {
       "model_id": "",
       "version_major": 2,
       "version_minor": 0
      },
      "text/plain": [
       "Iterating over frames for track ID 1562:   0%|          | 0/143 [00:00<?, ?it/s]"
      ]
     },
     "metadata": {},
     "output_type": "display_data"
    },
    {
     "data": {
      "application/vnd.jupyter.widget-view+json": {
       "model_id": "",
       "version_major": 2,
       "version_minor": 0
      },
      "text/plain": [
       "Iterating over frames for track ID 1665:   0%|          | 0/142 [00:00<?, ?it/s]"
      ]
     },
     "metadata": {},
     "output_type": "display_data"
    },
    {
     "data": {
      "application/vnd.jupyter.widget-view+json": {
       "model_id": "",
       "version_major": 2,
       "version_minor": 0
      },
      "text/plain": [
       "Iterating over frames for track ID 1734:   0%|          | 0/140 [00:00<?, ?it/s]"
      ]
     },
     "metadata": {},
     "output_type": "display_data"
    },
    {
     "data": {
      "application/vnd.jupyter.widget-view+json": {
       "model_id": "",
       "version_major": 2,
       "version_minor": 0
      },
      "text/plain": [
       "Iterating over frames for track ID 1745:   0%|          | 0/140 [00:00<?, ?it/s]"
      ]
     },
     "metadata": {},
     "output_type": "display_data"
    },
    {
     "data": {
      "application/vnd.jupyter.widget-view+json": {
       "model_id": "",
       "version_major": 2,
       "version_minor": 0
      },
      "text/plain": [
       "Iterating over frames for track ID 1757:   0%|          | 0/140 [00:00<?, ?it/s]"
      ]
     },
     "metadata": {},
     "output_type": "display_data"
    },
    {
     "data": {
      "application/vnd.jupyter.widget-view+json": {
       "model_id": "",
       "version_major": 2,
       "version_minor": 0
      },
      "text/plain": [
       "Iterating over frames for track ID 1830:   0%|          | 0/139 [00:00<?, ?it/s]"
      ]
     },
     "metadata": {},
     "output_type": "display_data"
    },
    {
     "data": {
      "application/vnd.jupyter.widget-view+json": {
       "model_id": "",
       "version_major": 2,
       "version_minor": 0
      },
      "text/plain": [
       "Iterating over frames for track ID 1834:   0%|          | 0/138 [00:00<?, ?it/s]"
      ]
     },
     "metadata": {},
     "output_type": "display_data"
    },
    {
     "data": {
      "application/vnd.jupyter.widget-view+json": {
       "model_id": "",
       "version_major": 2,
       "version_minor": 0
      },
      "text/plain": [
       "Iterating over frames for track ID 1868:   0%|          | 0/138 [00:00<?, ?it/s]"
      ]
     },
     "metadata": {},
     "output_type": "display_data"
    },
    {
     "data": {
      "application/vnd.jupyter.widget-view+json": {
       "model_id": "",
       "version_major": 2,
       "version_minor": 0
      },
      "text/plain": [
       "Iterating over frames for track ID 1895:   0%|          | 0/138 [00:00<?, ?it/s]"
      ]
     },
     "metadata": {},
     "output_type": "display_data"
    },
    {
     "data": {
      "application/vnd.jupyter.widget-view+json": {
       "model_id": "",
       "version_major": 2,
       "version_minor": 0
      },
      "text/plain": [
       "Iterating over frames for track ID 1907:   0%|          | 0/137 [00:00<?, ?it/s]"
      ]
     },
     "metadata": {},
     "output_type": "display_data"
    },
    {
     "data": {
      "application/vnd.jupyter.widget-view+json": {
       "model_id": "",
       "version_major": 2,
       "version_minor": 0
      },
      "text/plain": [
       "Iterating over frames for track ID 2063:   0%|          | 0/134 [00:00<?, ?it/s]"
      ]
     },
     "metadata": {},
     "output_type": "display_data"
    },
    {
     "data": {
      "application/vnd.jupyter.widget-view+json": {
       "model_id": "",
       "version_major": 2,
       "version_minor": 0
      },
      "text/plain": [
       "Iterating over frames for track ID 2174:   0%|          | 0/132 [00:00<?, ?it/s]"
      ]
     },
     "metadata": {},
     "output_type": "display_data"
    },
    {
     "data": {
      "application/vnd.jupyter.widget-view+json": {
       "model_id": "",
       "version_major": 2,
       "version_minor": 0
      },
      "text/plain": [
       "Iterating over frames for track ID 2244:   0%|          | 0/131 [00:00<?, ?it/s]"
      ]
     },
     "metadata": {},
     "output_type": "display_data"
    },
    {
     "data": {
      "application/vnd.jupyter.widget-view+json": {
       "model_id": "",
       "version_major": 2,
       "version_minor": 0
      },
      "text/plain": [
       "Iterating over frames for track ID 2259:   0%|          | 0/131 [00:00<?, ?it/s]"
      ]
     },
     "metadata": {},
     "output_type": "display_data"
    },
    {
     "data": {
      "application/vnd.jupyter.widget-view+json": {
       "model_id": "",
       "version_major": 2,
       "version_minor": 0
      },
      "text/plain": [
       "Iterating over frames for track ID 2283:   0%|          | 0/130 [00:00<?, ?it/s]"
      ]
     },
     "metadata": {},
     "output_type": "display_data"
    }
   ],
   "source": [
    "#technical replicate\n",
    "technical_replicate = assay_layout.loc[(acq_ID[0], acq_ID[1])]['Replicate #']\n",
    "#biological replicate\n",
    "biological_replicate = 4\n",
    "#strain\n",
    "strain = assay_layout.loc[(acq_ID[0], acq_ID[1])]['Strain']\n",
    "#compound\n",
    "compound = assay_layout.loc[(acq_ID[0], acq_ID[1])]['Strain']\n",
    "#concentration\n",
    "concentration = assay_layout.loc[(acq_ID[0], acq_ID[1])]['Concentration']\n",
    "\n",
    "# load the original cellpose segmentation\n",
    "segmentation = segmentation\n",
    "# calculate the new cellpose segmentation\n",
    "tracking_input_segmentation = None\n",
    "# track using new segmentation\n",
    "tracks = tracks\n",
    "# load images and max project them\n",
    "images = images\n",
    "# split channels\n",
    "mphi_channel = images[:,mphi_channel_ID,...]\n",
    "mtb_channel = images[:,mtb_channel_ID,...]\n",
    "thresholded_mtb_channel = mtb_channel >= mtb_load_thresh\n",
    "\n",
    "track_dfs = []\n",
    "# now measure properties from prior segmentation?\n",
    "for cell_ID, track in tqdm(tracks.groupby('ID'), desc = 'iterating over tracks', total = len(tracks.ID.unique())):\n",
    "    track = track.sort_values(by='t')\n",
    "    # Extract coordinates and time\n",
    "    times = track['t'].to_numpy() / 2  # Assuming you want to halve the time\n",
    "    frames = track['t'].to_numpy() \n",
    "\n",
    "    x_coords = track['x'].to_numpy().astype(int)\n",
    "    y_coords = track['y'].to_numpy().astype(int)\n",
    "\n",
    "\n",
    "    mtb_areas = []\n",
    "    mphi_areas = []\n",
    "    mean_intensities = []\n",
    "    # calculate the mtb pixel area and µm area\n",
    "    for i, frame in tqdm(enumerate(frames), desc = f'Iterating over frames for track ID {cell_ID}', total = len(frames), leave = False):\n",
    "        frame = frame - 1\n",
    "        segmentation_input_ID = segmentation[frame][x_coords[i], y_coords[i]]\n",
    "        if segmentation_input_ID == 0:  # Ignore background (assuming 0 is the background ID)\n",
    "                mtb_area_pixels = np.nan\n",
    "                mphi_area_pixels = np.nan\n",
    "        else:\n",
    "            \n",
    "            mask = segmentation[frame] == segmentation_input_ID  # Create a mask for the segment with 'seg_id'\n",
    "            \n",
    "            # chop up images into segments here\n",
    "            # image_segment = images[frame][:][mask]\n",
    "            thresholded_image_segment = thresholded_mtb_channel[frame][mask]\n",
    "    \n",
    "            # meaure segment\n",
    "            mtb_area_pixels = np.sum(thresholded_image_segment)\n",
    "            mphi_area_pixels = np.sum(mask)\n",
    "            # mean_intensity = np.mean(image_segment)\n",
    "\n",
    "        # store measurements\n",
    "        mtb_areas.append(mtb_area_pixels)\n",
    "        mphi_areas.append(mphi_area_pixels)\n",
    "        # mean_intensities.append(mean_intensity)\n",
    "\n",
    "    track['Mtb Area (µm)'] = np.array(mtb_areas) * pixel_to_mum_sq_scale_factor\n",
    "    track['Mphi Area (µm)'] = np.array(mphi_areas) * pixel_to_mum_sq_scale_factor\n",
    "    # track['RFP'] = mean_intensities[mtb_channel_ID]\n",
    "    # track['GFP'] = mean_intensities[mphi_channel_ID]\n",
    "    # Compute MSD in a vectorized way\n",
    "    # track['MSD'] = calculate_msd(x_coords, y_coords)\n",
    "    \n",
    "    # infection statuses\n",
    "    track['Infection Status'] = track['Mtb Area (µm)'] > 0\n",
    "\n",
    "    track['Initial Infection Status'] = track['Mtb Area (µm)'].iloc[0] > 0 \n",
    "    track['Final Infection Status'] = track['Mtb Area (µm)'].iloc[-1] > 0 \n",
    "\n",
    "    track['ID'] = f'{cell_ID}.{acq_ID[0]}.{acq_ID[1]}.{expt_ID}'\n",
    "    \n",
    "    track_dfs.append(track)\n",
    "\n",
    "# Concatenate all track DataFrames into the larger 'df' DataFrame\n",
    "df = pd.concat(track_dfs, ignore_index=True)\n",
    "\n",
    "df.to_pickle(f'sc_df_{acq_ID[0]}.{acq_ID[1]}.{expt_ID}.pkl')"
   ]
  },
  {
   "cell_type": "code",
   "execution_count": 132,
   "id": "ea80ee2c-a6e2-4bf2-8ead-e268aaf02aa1",
   "metadata": {},
   "outputs": [
    {
     "data": {
      "text/plain": [
       "110"
      ]
     },
     "execution_count": 132,
     "metadata": {},
     "output_type": "execute_result"
    }
   ],
   "source": [
    "x_coords[151]"
   ]
  },
  {
   "cell_type": "code",
   "execution_count": 129,
   "id": "a5f317bf-5d31-47ae-b34d-48d93d48ac6e",
   "metadata": {},
   "outputs": [
    {
     "data": {
      "text/plain": [
       "152"
      ]
     },
     "execution_count": 129,
     "metadata": {},
     "output_type": "execute_result"
    }
   ],
   "source": [
    "frame"
   ]
  },
  {
   "cell_type": "code",
   "execution_count": 128,
   "id": "10bffe2a-246a-4a75-9546-42ad3cf8c9dd",
   "metadata": {},
   "outputs": [
    {
     "data": {
      "text/plain": [
       "array([  2,   3,   4,   5,   6,   7,   8,   9,  10,  11,  12,  13,  14,\n",
       "        15,  16,  17,  18,  19,  20,  21,  22,  23,  24,  25,  26,  27,\n",
       "        28,  29,  30,  31,  32,  33,  34,  35,  36,  37,  38,  39,  40,\n",
       "        41,  42,  43,  44,  45,  46,  47,  48,  49,  50,  51,  52,  53,\n",
       "        54,  55,  56,  57,  58,  59,  60,  61,  62,  63,  64,  65,  66,\n",
       "        67,  68,  69,  70,  71,  72,  73,  74,  75,  76,  77,  78,  79,\n",
       "        80,  81,  82,  83,  84,  85,  86,  87,  88,  89,  90,  91,  92,\n",
       "        93,  94,  95,  96,  97,  98,  99, 100, 101, 102, 103, 104, 105,\n",
       "       106, 107, 108, 109, 110, 111, 112, 113, 114, 115, 116, 117, 118,\n",
       "       119, 120, 121, 122, 123, 124, 125, 126, 127, 128, 129, 130, 131,\n",
       "       132, 133, 134, 135, 136, 137, 138, 139, 140, 141, 142, 143, 144,\n",
       "       145, 146, 147, 148, 149, 150, 151, 152, 153])"
      ]
     },
     "execution_count": 128,
     "metadata": {},
     "output_type": "execute_result"
    }
   ],
   "source": [
    "frames"
   ]
  },
  {
   "cell_type": "code",
   "execution_count": 10,
   "id": "a067e825-46b7-4a87-a96d-18c555029896",
   "metadata": {},
   "outputs": [
    {
     "name": "stdout",
     "output_type": "stream",
     "text": [
      "Reading metadata XML file...\n"
     ]
    },
    {
     "data": {
      "application/vnd.jupyter.widget-view+json": {
       "model_id": "ad1e2ddf31fc436280532140c125ad2a",
       "version_major": 2,
       "version_minor": 0
      },
      "text/plain": [
       "0it [00:00, ?it/s]"
      ]
     },
     "metadata": {},
     "output_type": "display_data"
    },
    {
     "name": "stdout",
     "output_type": "stream",
     "text": [
      "Extracting metadata complete!\n",
      "Reading metadata XML file...\n",
      "Extracting metadata complete!\n"
     ]
    }
   ],
   "source": [
    "expt_ID = 'ND0004'\n",
    "base_dir = f'/mnt/SYNO/macrohet_syno/data/{expt_ID}/'\n",
    "metadata_fn = glob.glob(os.path.join(base_dir, 'acquisition/Images/Index*xml'))[0]\n",
    "metadata = dataio.read_harmony_metadata(metadata_fn)  \n",
    "metadata_path = glob.glob(os.path.join(base_dir, 'acquisition/Assaylayout/*.xml'))[0]\n",
    "assay_layout = dataio.read_harmony_metadata(metadata_path, assay_layout=True,replicate_number=True)# mask_exist=True,  image_dir = image_dir, image_metadata = metadata)\n",
    "image_resolution = float(metadata['ImageResolutionX'].iloc[0])\n",
    "meters_area_per_pixel = image_resolution**2\n",
    "mum_sq_scale_factor = (1E-6)**2\n",
    "pixel_to_mum_sq_scale_factor = meters_area_per_pixel/mum_sq_scale_factor\n",
    "\n",
    "\n",
    "# Sort by custom order of the Compound and ConcentrationEC\n",
    "compound_order = ['RIF', 'PZA', 'INH', 'CTRL', 'BDQ']\n",
    "concentration_order = ['EC99', 'EC50', 'EC0']\n",
    "\n",
    "# Define custom sort logic for the DataFrame\n",
    "assay_layout['compound_sort'] = assay_layout['Compound'].apply(lambda x: compound_order.index(x) if x in compound_order else len(compound_order))\n",
    "assay_layout['concentration_sort'] = assay_layout['ConcentrationEC'].apply(lambda x: concentration_order.index(x) if x in concentration_order else len(concentration_order))\n",
    "assay_layout['strain_sort'] = assay_layout['Strain'].apply(lambda x: 0 if x == 'WT' else (1 if x == 'RD1' else 2))\n",
    "\n",
    "# Sort the DataFrame based on the defined sort order\n",
    "assay_layout_sorted = assay_layout.sort_values(by=['concentration_sort', 'compound_sort', 'strain_sort'])\n",
    "\n",
    "# Extract the row-column tuples from the sorted DataFrame index\n",
    "row_col_order = list(assay_layout_sorted.index)\n"
   ]
  },
  {
   "cell_type": "code",
   "execution_count": 15,
   "id": "5f8526f9-fa9d-48a4-aacc-b17fb7fd496a",
   "metadata": {},
   "outputs": [
    {
     "data": {
      "text/plain": [
       "((154, 6048, 6048), (154, 6048, 6048))"
      ]
     },
     "execution_count": 15,
     "metadata": {},
     "output_type": "execute_result"
    }
   ],
   "source": [
    "segmentation_input.shape, tracking_input_segmentation.shape"
   ]
  },
  {
   "cell_type": "code",
   "execution_count": 16,
   "id": "0c4ef111-3ea4-4d7c-9398-5ffabf1d02d9",
   "metadata": {},
   "outputs": [
    {
     "name": "stderr",
     "output_type": "stream",
     "text": [
      "INFO:trackastra.model.model_api:Predicting weights for candidate graph\n",
      "INFO:trackastra.data.wrfeat:Extracting features from 154 detections\n",
      "INFO:trackastra.data.wrfeat:Using single process for feature extraction\n",
      "Extracting features: 100%|███████████████████████████████████████████████████████████| 154/154 [05:49<00:00,  2.27s/it]\n",
      "INFO:trackastra.model.model_api:Building windows\n",
      "Building windows: 100%|████████████████████████████████████████████████████████████| 151/151 [00:00<00:00, 3673.45it/s]\n",
      "INFO:trackastra.model.model_api:Predicting windows\n",
      "Computing associations: 100%|████████████████████████████████████████████████████████| 151/151 [01:02<00:00,  2.42it/s]\n",
      "INFO:trackastra.model.model_api:Running greedy tracker\n",
      "INFO:trackastra.tracking.tracking:Build candidate graph with delta_t=1\n",
      "                                                                                                                       \r"
     ]
    },
    {
     "ename": "ValueError",
     "evalue": "need at least one array to stack",
     "output_type": "error",
     "traceback": [
      "\u001b[0;31m---------------------------------------------------------------------------\u001b[0m",
      "\u001b[0;31mValueError\u001b[0m                                Traceback (most recent call last)",
      "Cell \u001b[0;32mIn[16], line 1\u001b[0m\n\u001b[0;32m----> 1\u001b[0m track_graph \u001b[38;5;241m=\u001b[39m \u001b[43mtrackastra_model\u001b[49m\u001b[38;5;241;43m.\u001b[39;49m\u001b[43mtrack\u001b[49m\u001b[43m(\u001b[49m\u001b[43msegmentation_input\u001b[49m\u001b[43m,\u001b[49m\u001b[43m \u001b[49m\u001b[43mtracking_input_segmentation\u001b[49m\u001b[43m,\u001b[49m\u001b[43m \u001b[49m\u001b[43mmode\u001b[49m\u001b[38;5;241;43m=\u001b[39;49m\u001b[38;5;124;43m\"\u001b[39;49m\u001b[38;5;124;43mgreedy_nodiv\u001b[39;49m\u001b[38;5;124;43m\"\u001b[39;49m\u001b[43m)\u001b[49m  \u001b[38;5;66;03m# or mode=\"ilp\", or \"greedy_nodiv\"\u001b[39;00m\n",
      "File \u001b[0;32m~/miniconda3/envs/godspeed/lib/python3.10/site-packages/trackastra/model/model_api.py:168\u001b[0m, in \u001b[0;36mTrackastra.track\u001b[0;34m(self, imgs, masks, mode, progbar_class, **kwargs)\u001b[0m\n\u001b[1;32m    159\u001b[0m \u001b[38;5;28;01mdef\u001b[39;00m \u001b[38;5;21mtrack\u001b[39m(\n\u001b[1;32m    160\u001b[0m     \u001b[38;5;28mself\u001b[39m,\n\u001b[1;32m    161\u001b[0m     imgs: np\u001b[38;5;241m.\u001b[39mndarray,\n\u001b[0;32m   (...)\u001b[0m\n\u001b[1;32m    165\u001b[0m     \u001b[38;5;241m*\u001b[39m\u001b[38;5;241m*\u001b[39mkwargs,\n\u001b[1;32m    166\u001b[0m ) \u001b[38;5;241m-\u001b[39m\u001b[38;5;241m>\u001b[39m TrackGraph:\n\u001b[1;32m    167\u001b[0m     predictions \u001b[38;5;241m=\u001b[39m \u001b[38;5;28mself\u001b[39m\u001b[38;5;241m.\u001b[39m_predict(imgs, masks, progbar_class\u001b[38;5;241m=\u001b[39mprogbar_class)\n\u001b[0;32m--> 168\u001b[0m     track_graph \u001b[38;5;241m=\u001b[39m \u001b[38;5;28;43mself\u001b[39;49m\u001b[38;5;241;43m.\u001b[39;49m\u001b[43m_track_from_predictions\u001b[49m\u001b[43m(\u001b[49m\u001b[43mpredictions\u001b[49m\u001b[43m,\u001b[49m\u001b[43m \u001b[49m\u001b[43mmode\u001b[49m\u001b[38;5;241;43m=\u001b[39;49m\u001b[43mmode\u001b[49m\u001b[43m,\u001b[49m\u001b[43m \u001b[49m\u001b[38;5;241;43m*\u001b[39;49m\u001b[38;5;241;43m*\u001b[39;49m\u001b[43mkwargs\u001b[49m\u001b[43m)\u001b[49m\n\u001b[1;32m    169\u001b[0m     \u001b[38;5;28;01mreturn\u001b[39;00m track_graph\n",
      "File \u001b[0;32m~/miniconda3/envs/godspeed/lib/python3.10/site-packages/trackastra/model/model_api.py:140\u001b[0m, in \u001b[0;36mTrackastra._track_from_predictions\u001b[0;34m(self, predictions, mode, use_distance, max_distance, max_neighbors, delta_t, **kwargs)\u001b[0m\n\u001b[1;32m    137\u001b[0m nodes \u001b[38;5;241m=\u001b[39m predictions[\u001b[38;5;124m\"\u001b[39m\u001b[38;5;124mnodes\u001b[39m\u001b[38;5;124m\"\u001b[39m]\n\u001b[1;32m    138\u001b[0m weights \u001b[38;5;241m=\u001b[39m predictions[\u001b[38;5;124m\"\u001b[39m\u001b[38;5;124mweights\u001b[39m\u001b[38;5;124m\"\u001b[39m]\n\u001b[0;32m--> 140\u001b[0m candidate_graph \u001b[38;5;241m=\u001b[39m \u001b[43mbuild_graph\u001b[49m\u001b[43m(\u001b[49m\n\u001b[1;32m    141\u001b[0m \u001b[43m    \u001b[49m\u001b[43mnodes\u001b[49m\u001b[38;5;241;43m=\u001b[39;49m\u001b[43mnodes\u001b[49m\u001b[43m,\u001b[49m\n\u001b[1;32m    142\u001b[0m \u001b[43m    \u001b[49m\u001b[43mweights\u001b[49m\u001b[38;5;241;43m=\u001b[39;49m\u001b[43mweights\u001b[49m\u001b[43m,\u001b[49m\n\u001b[1;32m    143\u001b[0m \u001b[43m    \u001b[49m\u001b[43muse_distance\u001b[49m\u001b[38;5;241;43m=\u001b[39;49m\u001b[43muse_distance\u001b[49m\u001b[43m,\u001b[49m\n\u001b[1;32m    144\u001b[0m \u001b[43m    \u001b[49m\u001b[43mmax_distance\u001b[49m\u001b[38;5;241;43m=\u001b[39;49m\u001b[43mmax_distance\u001b[49m\u001b[43m,\u001b[49m\n\u001b[1;32m    145\u001b[0m \u001b[43m    \u001b[49m\u001b[43mmax_neighbors\u001b[49m\u001b[38;5;241;43m=\u001b[39;49m\u001b[43mmax_neighbors\u001b[49m\u001b[43m,\u001b[49m\n\u001b[1;32m    146\u001b[0m \u001b[43m    \u001b[49m\u001b[43mdelta_t\u001b[49m\u001b[38;5;241;43m=\u001b[39;49m\u001b[43mdelta_t\u001b[49m\u001b[43m,\u001b[49m\n\u001b[1;32m    147\u001b[0m \u001b[43m\u001b[49m\u001b[43m)\u001b[49m\n\u001b[1;32m    148\u001b[0m \u001b[38;5;28;01mif\u001b[39;00m mode \u001b[38;5;241m==\u001b[39m \u001b[38;5;124m\"\u001b[39m\u001b[38;5;124mgreedy\u001b[39m\u001b[38;5;124m\"\u001b[39m:\n\u001b[1;32m    149\u001b[0m     \u001b[38;5;28;01mreturn\u001b[39;00m track_greedy(candidate_graph)\n",
      "File \u001b[0;32m~/miniconda3/envs/godspeed/lib/python3.10/site-packages/trackastra/tracking/tracking.py:141\u001b[0m, in \u001b[0;36mbuild_graph\u001b[0;34m(nodes, weights, use_distance, max_distance, max_neighbors, delta_t)\u001b[0m\n\u001b[1;32m    139\u001b[0m \u001b[38;5;28;01mfor\u001b[39;00m _nj \u001b[38;5;129;01min\u001b[39;00m nj:\n\u001b[1;32m    140\u001b[0m     pj\u001b[38;5;241m.\u001b[39mappend(np\u001b[38;5;241m.\u001b[39marray(G\u001b[38;5;241m.\u001b[39mnodes[_nj][\u001b[38;5;124m\"\u001b[39m\u001b[38;5;124mcoords\u001b[39m\u001b[38;5;124m\"\u001b[39m]))\n\u001b[0;32m--> 141\u001b[0m pj \u001b[38;5;241m=\u001b[39m \u001b[43mnp\u001b[49m\u001b[38;5;241;43m.\u001b[39;49m\u001b[43mstack\u001b[49m\u001b[43m(\u001b[49m\u001b[43mpj\u001b[49m\u001b[43m)\u001b[49m\n\u001b[1;32m    143\u001b[0m dists \u001b[38;5;241m=\u001b[39m scipy\u001b[38;5;241m.\u001b[39mspatial\u001b[38;5;241m.\u001b[39mdistance\u001b[38;5;241m.\u001b[39mcdist(pi, pj)\n\u001b[1;32m    145\u001b[0m \u001b[38;5;28;01mfor\u001b[39;00m _i, _ni \u001b[38;5;129;01min\u001b[39;00m \u001b[38;5;28menumerate\u001b[39m(ni):\n",
      "File \u001b[0;32m~/miniconda3/envs/godspeed/lib/python3.10/site-packages/numpy/core/shape_base.py:445\u001b[0m, in \u001b[0;36mstack\u001b[0;34m(arrays, axis, out, dtype, casting)\u001b[0m\n\u001b[1;32m    443\u001b[0m arrays \u001b[38;5;241m=\u001b[39m [asanyarray(arr) \u001b[38;5;28;01mfor\u001b[39;00m arr \u001b[38;5;129;01min\u001b[39;00m arrays]\n\u001b[1;32m    444\u001b[0m \u001b[38;5;28;01mif\u001b[39;00m \u001b[38;5;129;01mnot\u001b[39;00m arrays:\n\u001b[0;32m--> 445\u001b[0m     \u001b[38;5;28;01mraise\u001b[39;00m \u001b[38;5;167;01mValueError\u001b[39;00m(\u001b[38;5;124m'\u001b[39m\u001b[38;5;124mneed at least one array to stack\u001b[39m\u001b[38;5;124m'\u001b[39m)\n\u001b[1;32m    447\u001b[0m shapes \u001b[38;5;241m=\u001b[39m {arr\u001b[38;5;241m.\u001b[39mshape \u001b[38;5;28;01mfor\u001b[39;00m arr \u001b[38;5;129;01min\u001b[39;00m arrays}\n\u001b[1;32m    448\u001b[0m \u001b[38;5;28;01mif\u001b[39;00m \u001b[38;5;28mlen\u001b[39m(shapes) \u001b[38;5;241m!=\u001b[39m \u001b[38;5;241m1\u001b[39m:\n",
      "\u001b[0;31mValueError\u001b[0m: need at least one array to stack"
     ]
    }
   ],
   "source": [
    "track_graph = trackastra_model.track(segmentation_input, tracking_input_segmentation, mode=\"greedy_nodiv\")  # or mode=\"ilp\", or \"greedy_nodiv\"\n",
    "\n"
   ]
  },
  {
   "cell_type": "code",
   "execution_count": 17,
   "id": "f3418c29-52ad-422d-8a83-58856657ff74",
   "metadata": {},
   "outputs": [
    {
     "data": {
      "text/plain": [
       "<Labels layer 'tracking_input_segmentation' at 0x7feacb603220>"
      ]
     },
     "execution_count": 17,
     "metadata": {},
     "output_type": "execute_result"
    }
   ],
   "source": [
    "viewer = napari.Viewer(title = 'iterate testing trackastra')\n",
    "\n",
    "viewer.add_image(segmentation_input)\n",
    "viewer.add_labels(tracking_input_segmentation)"
   ]
  },
  {
   "cell_type": "code",
   "execution_count": 2,
   "id": "0ca9dbd7-f25b-4160-ab65-51d5e85f4d64",
   "metadata": {},
   "outputs": [],
   "source": [
    "import h5py\n",
    "\n",
    "# # Assuming 'segmentation' is your numpy array\n",
    "# with h5py.File(f'/mnt/SYNO/macrohet_syno/data/{expt_ID}/labels/z3_cpv3/{acq_ID}.h5', 'w') as f:\n",
    "#     # Save the array with compression for efficient storage\n",
    "#     f.create_dataset('segmentation', data=tracking_input_segmentation, compression=\"gzip\")"
   ]
  },
  {
   "cell_type": "code",
   "execution_count": 5,
   "id": "e645b984-3271-42e4-bc99-831d2e7ad433",
   "metadata": {},
   "outputs": [],
   "source": [
    "expt_ID = 'ND0004'\n",
    "acq_ID = (4, 7)"
   ]
  },
  {
   "cell_type": "code",
   "execution_count": 6,
   "id": "6ffe4947-12d1-48a6-b253-933e8dca0e03",
   "metadata": {},
   "outputs": [
    {
     "name": "stdout",
     "output_type": "stream",
     "text": [
      "CPU times: user 15.9 s, sys: 2.58 s, total: 18.5 s\n",
      "Wall time: 18.5 s\n"
     ]
    }
   ],
   "source": [
    "%%time\n",
    "with h5py.File(f'/mnt/SYNO/macrohet_syno/data/{expt_ID}/labels/z3_cpv3/{acq_ID}.h5', 'r') as f:\n",
    "    test = f['segmentation'][:]"
   ]
  },
  {
   "cell_type": "code",
   "execution_count": 7,
   "id": "255e9133-2b9f-4f1d-9bda-89d7181a436c",
   "metadata": {},
   "outputs": [],
   "source": [
    "import napari"
   ]
  },
  {
   "cell_type": "code",
   "execution_count": 9,
   "id": "b3b04dde-3e35-483f-9f5a-285154d4b50b",
   "metadata": {},
   "outputs": [
    {
     "data": {
      "text/plain": [
       "<Labels layer 'test' at 0x7f654f3b6dd0>"
      ]
     },
     "execution_count": 9,
     "metadata": {},
     "output_type": "execute_result"
    }
   ],
   "source": [
    "napari.Viewer().add_labels(test)"
   ]
  },
  {
   "cell_type": "code",
   "execution_count": 13,
   "id": "00901110-e9bc-4439-9d6f-1427069d0382",
   "metadata": {},
   "outputs": [
    {
     "name": "stderr",
     "output_type": "stream",
     "text": [
      "INFO:trackastra.model.model_api:Predicting weights for candidate graph\n",
      "INFO:trackastra.data.wrfeat:Extracting features from 154 detections\n",
      "INFO:trackastra.data.wrfeat:Using single process for feature extraction\n",
      "Extracting features: 100%|███████████████████████████████████████████████████████████| 154/154 [05:41<00:00,  2.22s/it]\n",
      "INFO:trackastra.model.model_api:Building windows\n",
      "Building windows: 100%|████████████████████████████████████████████████████████████| 151/151 [00:00<00:00, 3630.87it/s]\n",
      "INFO:trackastra.model.model_api:Predicting windows\n",
      "Computing associations: 100%|████████████████████████████████████████████████████████| 151/151 [01:00<00:00,  2.49it/s]\n",
      "INFO:trackastra.model.model_api:Running greedy tracker\n",
      "INFO:trackastra.tracking.tracking:Build candidate graph with delta_t=1\n",
      "                                                                                                                       \r"
     ]
    },
    {
     "ename": "ValueError",
     "evalue": "need at least one array to stack",
     "output_type": "error",
     "traceback": [
      "\u001b[0;31m---------------------------------------------------------------------------\u001b[0m",
      "\u001b[0;31mValueError\u001b[0m                                Traceback (most recent call last)",
      "Cell \u001b[0;32mIn[13], line 3\u001b[0m\n\u001b[1;32m      1\u001b[0m \u001b[38;5;66;03m# track using new segmentation\u001b[39;00m\n\u001b[1;32m      2\u001b[0m \u001b[38;5;66;03m# Track the cells\u001b[39;00m\n\u001b[0;32m----> 3\u001b[0m track_graph \u001b[38;5;241m=\u001b[39m \u001b[43mtrackastra_model\u001b[49m\u001b[38;5;241;43m.\u001b[39;49m\u001b[43mtrack\u001b[49m\u001b[43m(\u001b[49m\u001b[43msegmentation_input\u001b[49m\u001b[43m,\u001b[49m\u001b[43m \u001b[49m\u001b[43mtracking_input_segmentation\u001b[49m\u001b[43m,\u001b[49m\u001b[43m \u001b[49m\u001b[43mmode\u001b[49m\u001b[38;5;241;43m=\u001b[39;49m\u001b[38;5;124;43m\"\u001b[39;49m\u001b[38;5;124;43mgreedy_nodiv\u001b[39;49m\u001b[38;5;124;43m\"\u001b[39;49m\u001b[43m)\u001b[49m  \u001b[38;5;66;03m# or mode=\"ilp\", or \"greedy_nodiv\"\u001b[39;00m\n\u001b[1;32m      6\u001b[0m \u001b[38;5;66;03m# Visualise in napari\u001b[39;00m\n\u001b[1;32m      7\u001b[0m tracks, napari_tracks_graph, _ \u001b[38;5;241m=\u001b[39m graph_to_napari_tracks(track_graph)\n",
      "File \u001b[0;32m~/miniconda3/envs/godspeed/lib/python3.10/site-packages/trackastra/model/model_api.py:168\u001b[0m, in \u001b[0;36mTrackastra.track\u001b[0;34m(self, imgs, masks, mode, progbar_class, **kwargs)\u001b[0m\n\u001b[1;32m    159\u001b[0m \u001b[38;5;28;01mdef\u001b[39;00m \u001b[38;5;21mtrack\u001b[39m(\n\u001b[1;32m    160\u001b[0m     \u001b[38;5;28mself\u001b[39m,\n\u001b[1;32m    161\u001b[0m     imgs: np\u001b[38;5;241m.\u001b[39mndarray,\n\u001b[0;32m   (...)\u001b[0m\n\u001b[1;32m    165\u001b[0m     \u001b[38;5;241m*\u001b[39m\u001b[38;5;241m*\u001b[39mkwargs,\n\u001b[1;32m    166\u001b[0m ) \u001b[38;5;241m-\u001b[39m\u001b[38;5;241m>\u001b[39m TrackGraph:\n\u001b[1;32m    167\u001b[0m     predictions \u001b[38;5;241m=\u001b[39m \u001b[38;5;28mself\u001b[39m\u001b[38;5;241m.\u001b[39m_predict(imgs, masks, progbar_class\u001b[38;5;241m=\u001b[39mprogbar_class)\n\u001b[0;32m--> 168\u001b[0m     track_graph \u001b[38;5;241m=\u001b[39m \u001b[38;5;28;43mself\u001b[39;49m\u001b[38;5;241;43m.\u001b[39;49m\u001b[43m_track_from_predictions\u001b[49m\u001b[43m(\u001b[49m\u001b[43mpredictions\u001b[49m\u001b[43m,\u001b[49m\u001b[43m \u001b[49m\u001b[43mmode\u001b[49m\u001b[38;5;241;43m=\u001b[39;49m\u001b[43mmode\u001b[49m\u001b[43m,\u001b[49m\u001b[43m \u001b[49m\u001b[38;5;241;43m*\u001b[39;49m\u001b[38;5;241;43m*\u001b[39;49m\u001b[43mkwargs\u001b[49m\u001b[43m)\u001b[49m\n\u001b[1;32m    169\u001b[0m     \u001b[38;5;28;01mreturn\u001b[39;00m track_graph\n",
      "File \u001b[0;32m~/miniconda3/envs/godspeed/lib/python3.10/site-packages/trackastra/model/model_api.py:140\u001b[0m, in \u001b[0;36mTrackastra._track_from_predictions\u001b[0;34m(self, predictions, mode, use_distance, max_distance, max_neighbors, delta_t, **kwargs)\u001b[0m\n\u001b[1;32m    137\u001b[0m nodes \u001b[38;5;241m=\u001b[39m predictions[\u001b[38;5;124m\"\u001b[39m\u001b[38;5;124mnodes\u001b[39m\u001b[38;5;124m\"\u001b[39m]\n\u001b[1;32m    138\u001b[0m weights \u001b[38;5;241m=\u001b[39m predictions[\u001b[38;5;124m\"\u001b[39m\u001b[38;5;124mweights\u001b[39m\u001b[38;5;124m\"\u001b[39m]\n\u001b[0;32m--> 140\u001b[0m candidate_graph \u001b[38;5;241m=\u001b[39m \u001b[43mbuild_graph\u001b[49m\u001b[43m(\u001b[49m\n\u001b[1;32m    141\u001b[0m \u001b[43m    \u001b[49m\u001b[43mnodes\u001b[49m\u001b[38;5;241;43m=\u001b[39;49m\u001b[43mnodes\u001b[49m\u001b[43m,\u001b[49m\n\u001b[1;32m    142\u001b[0m \u001b[43m    \u001b[49m\u001b[43mweights\u001b[49m\u001b[38;5;241;43m=\u001b[39;49m\u001b[43mweights\u001b[49m\u001b[43m,\u001b[49m\n\u001b[1;32m    143\u001b[0m \u001b[43m    \u001b[49m\u001b[43muse_distance\u001b[49m\u001b[38;5;241;43m=\u001b[39;49m\u001b[43muse_distance\u001b[49m\u001b[43m,\u001b[49m\n\u001b[1;32m    144\u001b[0m \u001b[43m    \u001b[49m\u001b[43mmax_distance\u001b[49m\u001b[38;5;241;43m=\u001b[39;49m\u001b[43mmax_distance\u001b[49m\u001b[43m,\u001b[49m\n\u001b[1;32m    145\u001b[0m \u001b[43m    \u001b[49m\u001b[43mmax_neighbors\u001b[49m\u001b[38;5;241;43m=\u001b[39;49m\u001b[43mmax_neighbors\u001b[49m\u001b[43m,\u001b[49m\n\u001b[1;32m    146\u001b[0m \u001b[43m    \u001b[49m\u001b[43mdelta_t\u001b[49m\u001b[38;5;241;43m=\u001b[39;49m\u001b[43mdelta_t\u001b[49m\u001b[43m,\u001b[49m\n\u001b[1;32m    147\u001b[0m \u001b[43m\u001b[49m\u001b[43m)\u001b[49m\n\u001b[1;32m    148\u001b[0m \u001b[38;5;28;01mif\u001b[39;00m mode \u001b[38;5;241m==\u001b[39m \u001b[38;5;124m\"\u001b[39m\u001b[38;5;124mgreedy\u001b[39m\u001b[38;5;124m\"\u001b[39m:\n\u001b[1;32m    149\u001b[0m     \u001b[38;5;28;01mreturn\u001b[39;00m track_greedy(candidate_graph)\n",
      "File \u001b[0;32m~/miniconda3/envs/godspeed/lib/python3.10/site-packages/trackastra/tracking/tracking.py:141\u001b[0m, in \u001b[0;36mbuild_graph\u001b[0;34m(nodes, weights, use_distance, max_distance, max_neighbors, delta_t)\u001b[0m\n\u001b[1;32m    139\u001b[0m \u001b[38;5;28;01mfor\u001b[39;00m _nj \u001b[38;5;129;01min\u001b[39;00m nj:\n\u001b[1;32m    140\u001b[0m     pj\u001b[38;5;241m.\u001b[39mappend(np\u001b[38;5;241m.\u001b[39marray(G\u001b[38;5;241m.\u001b[39mnodes[_nj][\u001b[38;5;124m\"\u001b[39m\u001b[38;5;124mcoords\u001b[39m\u001b[38;5;124m\"\u001b[39m]))\n\u001b[0;32m--> 141\u001b[0m pj \u001b[38;5;241m=\u001b[39m \u001b[43mnp\u001b[49m\u001b[38;5;241;43m.\u001b[39;49m\u001b[43mstack\u001b[49m\u001b[43m(\u001b[49m\u001b[43mpj\u001b[49m\u001b[43m)\u001b[49m\n\u001b[1;32m    143\u001b[0m dists \u001b[38;5;241m=\u001b[39m scipy\u001b[38;5;241m.\u001b[39mspatial\u001b[38;5;241m.\u001b[39mdistance\u001b[38;5;241m.\u001b[39mcdist(pi, pj)\n\u001b[1;32m    145\u001b[0m \u001b[38;5;28;01mfor\u001b[39;00m _i, _ni \u001b[38;5;129;01min\u001b[39;00m \u001b[38;5;28menumerate\u001b[39m(ni):\n",
      "File \u001b[0;32m~/miniconda3/envs/godspeed/lib/python3.10/site-packages/numpy/core/shape_base.py:445\u001b[0m, in \u001b[0;36mstack\u001b[0;34m(arrays, axis, out, dtype, casting)\u001b[0m\n\u001b[1;32m    443\u001b[0m arrays \u001b[38;5;241m=\u001b[39m [asanyarray(arr) \u001b[38;5;28;01mfor\u001b[39;00m arr \u001b[38;5;129;01min\u001b[39;00m arrays]\n\u001b[1;32m    444\u001b[0m \u001b[38;5;28;01mif\u001b[39;00m \u001b[38;5;129;01mnot\u001b[39;00m arrays:\n\u001b[0;32m--> 445\u001b[0m     \u001b[38;5;28;01mraise\u001b[39;00m \u001b[38;5;167;01mValueError\u001b[39;00m(\u001b[38;5;124m'\u001b[39m\u001b[38;5;124mneed at least one array to stack\u001b[39m\u001b[38;5;124m'\u001b[39m)\n\u001b[1;32m    447\u001b[0m shapes \u001b[38;5;241m=\u001b[39m {arr\u001b[38;5;241m.\u001b[39mshape \u001b[38;5;28;01mfor\u001b[39;00m arr \u001b[38;5;129;01min\u001b[39;00m arrays}\n\u001b[1;32m    448\u001b[0m \u001b[38;5;28;01mif\u001b[39;00m \u001b[38;5;28mlen\u001b[39m(shapes) \u001b[38;5;241m!=\u001b[39m \u001b[38;5;241m1\u001b[39m:\n",
      "\u001b[0;31mValueError\u001b[0m: need at least one array to stack"
     ]
    }
   ],
   "source": [
    "# track using new segmentation\n",
    "# Track the cells\n",
    "track_graph = trackastra_model.track(segmentation_input, tracking_input_segmentation, mode=\"greedy_nodiv\")  # or mode=\"ilp\", or \"greedy_nodiv\"\n",
    "\n",
    "\n",
    "# Visualise in napari\n",
    "tracks, napari_tracks_graph, _ = graph_to_napari_tracks(track_graph)\n",
    "tracks = pd.DataFrame(tracks, columns=['ID', 't', 'x', 'y']).astype(int)\n",
    "# split channels\n",
    "mphi_channel = images[:,mphi_channel_ID,...]\n",
    "mtb_channel = images[:,mtb_channel_ID,...]\n",
    "thresholded_mtb_channel = mtb_channel >= mtb_load_thresh\n",
    "# now measure properties from prior segmentation?\n",
    "for cell_ID, track in tqdm(tracks.groupby('ID'), desc = 'iterating over tracks', total = len(tracks.ID.unique()), leave = False):\n",
    "    track = track.sort_values(by='t')\n",
    "    # Extract coordinates and time\n",
    "    times = track['t'].to_numpy() / 2  # Assuming you want to halve the time\n",
    "    frames = track['t'].to_numpy() \n",
    "\n",
    "    x_coords = track['x'].to_numpy().astype(int)\n",
    "    y_coords = track['y'].to_numpy().astype(int)\n",
    "\n",
    "\n",
    "    mtb_areas = []\n",
    "    mphi_areas = []\n",
    "    mean_intensities = []\n",
    "    # calculate the mtb pixel area and µm area\n",
    "    for i, frame in tqdm(enumerate(frames), desc = f'Iterating over frames for track ID {cell_ID}', total = len(frames), leave = False):\n",
    "        frame = frame - 1\n",
    "        segmentation_input_ID = segmentation[frame][x_coords[i], y_coords[i]]\n",
    "        if segmentation_input_ID == 0:  # Ignore background (assuming 0 is the background ID)\n",
    "                mtb_area_pixels = np.nan\n",
    "                mphi_area_pixels = np.nan\n",
    "        else:\n",
    "            \n",
    "            mask = segmentation[frame] == segmentation_input_ID  # Create a mask for the segment with 'seg_id'\n",
    "            \n",
    "            # chop up images into segments here\n",
    "            # image_segment = images[frame][:][mask]\n",
    "            thresholded_image_segment = thresholded_mtb_channel[frame][mask]\n",
    "    \n",
    "            # meaure segment\n",
    "            mtb_area_pixels = np.sum(thresholded_image_segment)\n",
    "            mphi_area_pixels = np.sum(mask)\n",
    "            # mean_intensity = np.mean(image_segment)\n",
    "\n",
    "        # store measurements\n",
    "        mtb_areas.append(mtb_area_pixels)\n",
    "        mphi_areas.append(mphi_area_pixels)\n",
    "        # mean_intensities.append(mean_intensity)\n",
    "\n",
    "    track['Mtb Area (µm)'] = np.array(mtb_areas) * pixel_to_mum_sq_scale_factor\n",
    "    track['Mphi Area (µm)'] = np.array(mphi_areas) * pixel_to_mum_sq_scale_factor\n",
    "    # track['RFP'] = mean_intensities[mtb_channel_ID]\n",
    "    # track['GFP'] = mean_intensities[mphi_channel_ID]\n",
    "    # Compute MSD in a vectorized way\n",
    "    # track['MSD'] = calculate_msd(x_coords, y_coords)\n",
    "    \n",
    "    # infection statuses\n",
    "    track['Infection Status'] = track['Mtb Area (µm)'] > 0\n",
    "\n",
    "    track['Initial Infection Status'] = track['Mtb Area (µm)'].iloc[0] > 0 \n",
    "    track['Final Infection Status'] = track['Mtb Area (µm)'].iloc[-1] > 0 \n",
    "    track['ID'] = cell_ID\n",
    "    track['Unique_ID'] = f'{cell_ID}.{acq_ID[0]}.{acq_ID[1]}.{expt_ID}'\n",
    "    \n",
    "    track_dfs.append(track)\n",
    "\n",
    "# Concatenate all track DataFrames into the larger 'df' DataFrame\n",
    "df = pd.concat(track_dfs, ignore_index=True)\n",
    "\n",
    "df.to_pickle(f'sc_df_{acq_ID[0]}.{acq_ID[1]}.{expt_ID}.pkl')"
   ]
  },
  {
   "cell_type": "code",
   "execution_count": null,
   "id": "1e328525-bc56-4016-830b-cd7bbd1d7834",
   "metadata": {
    "scrolled": true
   },
   "outputs": [],
   "source": [
    "for acq_ID in tqdm(row_col_order, total = len(row_col_order), desc = 'Iterating over individual wells'):\n",
    "    \n",
    "    if os.path.exists(f'sc_df_{acq_ID[0]}.{acq_ID[1]}.{expt_ID}.pkl'):\n",
    "        print(f'skipping acq ID {acq_ID}')\n",
    "        continue\n",
    "    #technical replicate\n",
    "    technical_replicate = assay_layout.loc[(acq_ID[0], acq_ID[1])]['Replicate #']\n",
    "    #biological replicate\n",
    "    biological_replicate = 4\n",
    "    #strain\n",
    "    strain = assay_layout.loc[(acq_ID[0], acq_ID[1])]['Strain']\n",
    "    #compound\n",
    "    compound = assay_layout.loc[(acq_ID[0], acq_ID[1])]['Strain']\n",
    "    #concentration\n",
    "    concentration = assay_layout.loc[(acq_ID[0], acq_ID[1])]['Concentration']\n",
    "    # load images and max project them\n",
    "    image_dir = os.path.join(base_dir, f'acquisition/zarr/{acq_ID}.zarr')\n",
    "    zarr_group = zarr.open(image_dir, mode='r')\n",
    "    images = zarr_group.images[...]\n",
    "    # load the original cellpose segmentation\n",
    "    with btrack.io.HDF5FileHandler(os.path.join(f'/mnt/SYNO/macrohet_syno/data/{expt_ID}/labels/cpv3/{acq_ID}.h5'), #macrohet_seg_model \n",
    "                                               'r', \n",
    "                                               obj_type='obj_type_1'\n",
    "                                               ) as reader:\n",
    "                    segmentation = reader.segmentation\n",
    "    # calculate the new cellpose segmentation\n",
    "    segmentation_input = images[:,1,2,...]\n",
    "    mask_stack = []\n",
    "    for frame in tqdm(segmentation_input, total = len(segmentation_input)):\n",
    "        masks, flows, styles, diams = cellpose_model.eval(frame, \n",
    "                                                 diameter=150, \n",
    "                                                 channels=[0,0],)\n",
    "    \n",
    "        mask_stack.append(masks)\n",
    "    tracking_input_segmentation = np.stack(mask_stack, axis = 0)\n",
    "    \n",
    "    # track using new segmentation\n",
    "    # Track the cells\n",
    "    track_graph = trackastra_model.track(segmentation_input, tracking_input_segmentation, mode=\"greedy_nodiv\")  # or mode=\"ilp\", or \"greedy_nodiv\"\n",
    "    \n",
    "    \n",
    "    # Visualise in napari\n",
    "    tracks, napari_tracks_graph, _ = graph_to_napari_tracks(track_graph)\n",
    "    tracks = pd.DataFrame(tracks, columns=['ID', 't', 'x', 'y']).astype(int)\n",
    "    # split channels\n",
    "    mphi_channel = images[:,mphi_channel_ID,...]\n",
    "    mtb_channel = images[:,mtb_channel_ID,...]\n",
    "    thresholded_mtb_channel = mtb_channel >= mtb_load_thresh\n",
    "    # now measure properties from prior segmentation?\n",
    "    for cell_ID, track in tqdm(tracks.groupby('ID'), desc = 'iterating over tracks', total = len(tracks.ID.unique()), leave = False):\n",
    "        track = track.sort_values(by='t')\n",
    "        # Extract coordinates and time\n",
    "        times = track['t'].to_numpy() / 2  # Assuming you want to halve the time\n",
    "        frames = track['t'].to_numpy() \n",
    "    \n",
    "        x_coords = track['x'].to_numpy().astype(int)\n",
    "        y_coords = track['y'].to_numpy().astype(int)\n",
    "    \n",
    "    \n",
    "        mtb_areas = []\n",
    "        mphi_areas = []\n",
    "        mean_intensities = []\n",
    "        # calculate the mtb pixel area and µm area\n",
    "        for i, frame in tqdm(enumerate(frames), desc = f'Iterating over frames for track ID {cell_ID}', total = len(frames), leave = False):\n",
    "            frame = frame - 1\n",
    "            segmentation_input_ID = segmentation[frame][x_coords[i], y_coords[i]]\n",
    "            if segmentation_input_ID == 0:  # Ignore background (assuming 0 is the background ID)\n",
    "                    mtb_area_pixels = np.nan\n",
    "                    mphi_area_pixels = np.nan\n",
    "            else:\n",
    "                \n",
    "                mask = segmentation[frame] == segmentation_input_ID  # Create a mask for the segment with 'seg_id'\n",
    "                \n",
    "                # chop up images into segments here\n",
    "                # image_segment = images[frame][:][mask]\n",
    "                thresholded_image_segment = thresholded_mtb_channel[frame][mask]\n",
    "        \n",
    "                # meaure segment\n",
    "                mtb_area_pixels = np.sum(thresholded_image_segment)\n",
    "                mphi_area_pixels = np.sum(mask)\n",
    "                # mean_intensity = np.mean(image_segment)\n",
    "    \n",
    "            # store measurements\n",
    "            mtb_areas.append(mtb_area_pixels)\n",
    "            mphi_areas.append(mphi_area_pixels)\n",
    "            # mean_intensities.append(mean_intensity)\n",
    "    \n",
    "        track['Mtb Area (µm)'] = np.array(mtb_areas) * pixel_to_mum_sq_scale_factor\n",
    "        track['Mphi Area (µm)'] = np.array(mphi_areas) * pixel_to_mum_sq_scale_factor\n",
    "        # track['RFP'] = mean_intensities[mtb_channel_ID]\n",
    "        # track['GFP'] = mean_intensities[mphi_channel_ID]\n",
    "        # Compute MSD in a vectorized way\n",
    "        # track['MSD'] = calculate_msd(x_coords, y_coords)\n",
    "        \n",
    "        # infection statuses\n",
    "        track['Infection Status'] = track['Mtb Area (µm)'] > 0\n",
    "    \n",
    "        track['Initial Infection Status'] = track['Mtb Area (µm)'].iloc[0] > 0 \n",
    "        track['Final Infection Status'] = track['Mtb Area (µm)'].iloc[-1] > 0 \n",
    "        track['ID'] = cell_ID\n",
    "        track['Unique_ID'] = f'{cell_ID}.{acq_ID[0]}.{acq_ID[1]}.{expt_ID}'\n",
    "    \n",
    "        track_dfs.append(track)\n",
    "    \n",
    "    # Concatenate all track DataFrames into the larger 'df' DataFrame\n",
    "    df = pd.concat(track_dfs, ignore_index=True)\n",
    "    \n",
    "    df.to_pickle(f'sc_df_{acq_ID[0]}.{acq_ID[1]}.{expt_ID}.pkl')"
   ]
  },
  {
   "cell_type": "markdown",
   "id": "7dd31a3d-b0d2-43ed-a306-afe309766c9b",
   "metadata": {},
   "source": [
    "# Process the rest"
   ]
  },
  {
   "cell_type": "code",
   "execution_count": 1,
   "id": "00a0ded3-a887-429e-b24a-3baaf04af011",
   "metadata": {},
   "outputs": [
    {
     "name": "stdout",
     "output_type": "stream",
     "text": [
      "nvcc: NVIDIA (R) Cuda compiler driver\n",
      "Copyright (c) 2005-2023 NVIDIA Corporation\n",
      "Built on Wed_Nov_22_10:17:15_PST_2023\n",
      "Cuda compilation tools, release 12.3, V12.3.107\n",
      "Build cuda_12.3.r12.3/compiler.33567101_0\n",
      "Tue Oct 29 12:11:46 2024       \n",
      "+-----------------------------------------------------------------------------------------+\n",
      "| NVIDIA-SMI 555.42.06              Driver Version: 555.42.06      CUDA Version: 12.5     |\n",
      "|-----------------------------------------+------------------------+----------------------+\n",
      "| GPU  Name                 Persistence-M | Bus-Id          Disp.A | Volatile Uncorr. ECC |\n",
      "| Fan  Temp   Perf          Pwr:Usage/Cap |           Memory-Usage | GPU-Util  Compute M. |\n",
      "|                                         |                        |               MIG M. |\n",
      "|=========================================+========================+======================|\n",
      "|   0  NVIDIA RTX A6000               Off |   00000000:65:00.0  On |                  Off |\n",
      "| 30%   40C    P8             34W /  300W |     662MiB /  49140MiB |     12%      Default |\n",
      "|                                         |                        |                  N/A |\n",
      "+-----------------------------------------+------------------------+----------------------+\n",
      "                                                                                         \n",
      "+-----------------------------------------------------------------------------------------+\n",
      "| Processes:                                                                              |\n",
      "|  GPU   GI   CI        PID   Type   Process name                              GPU Memory |\n",
      "|        ID   ID                                                               Usage      |\n",
      "|=========================================================================================|\n",
      "|    0   N/A  N/A      2462      G   /usr/lib/xorg/Xorg                            223MiB |\n",
      "|    0   N/A  N/A      4164      G   /usr/bin/gnome-shell                          163MiB |\n",
      "|    0   N/A  N/A     10159      G   ...42,262144 --variations-seed-version        155MiB |\n",
      "|    0   N/A  N/A     11914      G   ...AAAAAAAACAAAAAAAAAA= --shared-files         63MiB |\n",
      "+-----------------------------------------------------------------------------------------+\n"
     ]
    },
    {
     "name": "stderr",
     "output_type": "stream",
     "text": [
      "INFO:cellpose.core:** TORCH CUDA version installed and working. **\n",
      "INFO:cellpose.core:** TORCH CUDA version installed and working. **\n",
      "INFO:cellpose.core:>>>> using GPU (CUDA)\n",
      "INFO:cellpose.models:>> cyto << model set to be used\n",
      "INFO:cellpose.models:>>>> loading model /home/dayn/.cellpose/models/cytotorch_0\n",
      "INFO:cellpose.models:>>>> model diam_mean =  30.000 (ROIs rescaled to this size during training)\n"
     ]
    },
    {
     "name": "stdout",
     "output_type": "stream",
     "text": [
      ">>> GPU activated? YES\n",
      "/home/dayn/.trackastra/.models/general_2d already downloaded, skipping.\n"
     ]
    },
    {
     "name": "stderr",
     "output_type": "stream",
     "text": [
      "INFO:trackastra.model.model:Loading model state from /home/dayn/.trackastra/.models/general_2d/model.pt\n",
      "INFO:trackastra.model.model_api:Using device cuda\n"
     ]
    }
   ],
   "source": [
    "import btrack\n",
    "import zarr\n",
    "import os\n",
    "import napari\n",
    "from macrohet import dataio\n",
    "import glob\n",
    "import numpy as np\n",
    "import pandas as pd\n",
    "from tqdm.auto import tqdm\n",
    "import torch\n",
    "from trackastra.model import Trackastra\n",
    "from trackastra.tracking import graph_to_ctc, graph_to_napari_tracks\n",
    "import h5py\n",
    "\n",
    "!nvcc --version\n",
    "!nvidia-smi\n",
    "\n",
    "from cellpose import core, utils, io, models, metrics\n",
    "use_GPU = core.use_gpu()\n",
    "yn = ['NO', 'YES']\n",
    "print(f'>>> GPU activated? {yn[use_GPU]}')\n",
    "cellpose_model = models.Cellpose(gpu=True, model_type='cyto')\n",
    "\n",
    "device = \"cuda\" if torch.cuda.is_available() else \"cpu\"\n",
    "# Load a pretrained model\n",
    "trackastra_model = Trackastra.from_pretrained(\"general_2d\", device=device)"
   ]
  },
  {
   "cell_type": "code",
   "execution_count": 2,
   "id": "53f2c2d5-a222-44f1-9ce5-51f5c3bc9cda",
   "metadata": {},
   "outputs": [
    {
     "name": "stdout",
     "output_type": "stream",
     "text": [
      "Reading metadata XML file...\n"
     ]
    },
    {
     "data": {
      "application/vnd.jupyter.widget-view+json": {
       "model_id": "91e19375f52d49dfbd03ce148d1f6edb",
       "version_major": 2,
       "version_minor": 0
      },
      "text/plain": [
       "0it [00:00, ?it/s]"
      ]
     },
     "metadata": {},
     "output_type": "display_data"
    },
    {
     "name": "stdout",
     "output_type": "stream",
     "text": [
      "Extracting metadata complete!\n",
      "Reading metadata XML file...\n",
      "Extracting metadata complete!\n"
     ]
    }
   ],
   "source": [
    "expt_ID = 'ND0004'\n",
    "base_dir = f'/mnt/SYNO/macrohet_syno/data/{expt_ID}/'\n",
    "metadata_fn = glob.glob(os.path.join(base_dir, 'acquisition/Images/Index*xml'))[0]\n",
    "metadata = dataio.read_harmony_metadata(metadata_fn)  \n",
    "metadata_path = glob.glob(os.path.join(base_dir, 'acquisition/Assaylayout/*.xml'))[0]\n",
    "assay_layout = dataio.read_harmony_metadata(metadata_path, assay_layout=True,replicate_number=True)# mask_exist=True,  image_dir = image_dir, image_metadata = metadata)"
   ]
  },
  {
   "cell_type": "markdown",
   "id": "4f018a6d-667b-4ef3-87a5-24da008342df",
   "metadata": {},
   "source": [
    "# uniting z3 cellpose and trackastra"
   ]
  },
  {
   "cell_type": "code",
   "execution_count": 3,
   "id": "08ff1c58-edd1-4415-ac5a-cb4cd9d7c265",
   "metadata": {},
   "outputs": [
    {
     "name": "stdout",
     "output_type": "stream",
     "text": [
      "Reading metadata XML file...\n"
     ]
    },
    {
     "data": {
      "application/vnd.jupyter.widget-view+json": {
       "model_id": "f147de80856b43a683f0d2ff8d8b3d17",
       "version_major": 2,
       "version_minor": 0
      },
      "text/plain": [
       "0it [00:00, ?it/s]"
      ]
     },
     "metadata": {},
     "output_type": "display_data"
    },
    {
     "name": "stdout",
     "output_type": "stream",
     "text": [
      "Extracting metadata complete!\n",
      "Reading metadata XML file...\n",
      "Extracting metadata complete!\n"
     ]
    }
   ],
   "source": [
    "# define thresholds\n",
    "segment_size_thresh = 5000\n",
    "mtb_load_thresh = 480\n",
    "\n",
    "mtb_channel_ID = 0\n",
    "mphi_channel_ID = 1\n",
    "\n",
    "def calculate_msd(x, y):\n",
    "    # Calculate the displacement between successive frames\n",
    "    dx = np.diff(x, prepend=x[0])\n",
    "    dy = np.diff(y, prepend=y[0])\n",
    "    msd = np.sqrt(dx**2 + dy**2)\n",
    "    return msd\n",
    "\n",
    "# Assuming you have an 'image' that corresponds to your segmentation\n",
    "def measure_segment_intensity(image, segmentation, ID):\n",
    "    \"\"\"Measure intensity of pixels under a specific segment in the image.\"\"\"\n",
    "    mask = segmentation == ID  # Create a mask for the segment with 'seg_id'\n",
    "    segment_intensity = image[mask]  # Extract pixel values under the segment mask\n",
    "    return np.mean(segment_intensity) #, np.sum(segment_intensity)  # Example measurements\n",
    "\n",
    "\n",
    "expt_ID = 'ND0004'\n",
    "base_dir = f'/mnt/SYNO/macrohet_syno/data/{expt_ID}/'\n",
    "metadata_fn = glob.glob(os.path.join(base_dir, 'acquisition/Images/Index*xml'))[0]\n",
    "metadata = dataio.read_harmony_metadata(metadata_fn)  \n",
    "metadata_path = glob.glob(os.path.join(base_dir, 'acquisition/Assaylayout/*.xml'))[0]\n",
    "assay_layout = dataio.read_harmony_metadata(metadata_path, assay_layout=True,replicate_number=True)# mask_exist=True,  image_dir = image_dir, image_metadata = metadata)\n",
    "image_resolution = float(metadata['ImageResolutionX'].iloc[0])\n",
    "meters_area_per_pixel = image_resolution**2\n",
    "mum_sq_scale_factor = (1E-6)**2\n",
    "pixel_to_mum_sq_scale_factor = meters_area_per_pixel/mum_sq_scale_factor\n",
    "\n",
    "\n",
    "# Sort by custom order of the Compound and ConcentrationEC\n",
    "compound_order = ['RIF', 'PZA', 'INH', 'CTRL', 'BDQ']\n",
    "concentration_order = ['EC99', 'EC50', 'EC0']\n",
    "\n",
    "# Define custom sort logic for the DataFrame\n",
    "assay_layout['compound_sort'] = assay_layout['Compound'].apply(lambda x: compound_order.index(x) if x in compound_order else len(compound_order))\n",
    "assay_layout['concentration_sort'] = assay_layout['ConcentrationEC'].apply(lambda x: concentration_order.index(x) if x in concentration_order else len(concentration_order))\n",
    "assay_layout['strain_sort'] = assay_layout['Strain'].apply(lambda x: 0 if x == 'WT' else (1 if x == 'RD1' else 2))\n",
    "\n",
    "# Sort the DataFrame based on the defined sort order\n",
    "assay_layout_sorted = assay_layout.sort_values(by=['concentration_sort', 'compound_sort', 'strain_sort'])\n",
    "\n",
    "# Extract the row-column tuples from the sorted DataFrame index\n",
    "row_col_order = list(assay_layout_sorted.index)"
   ]
  },
  {
   "cell_type": "code",
   "execution_count": 8,
   "id": "b6c81db5-f221-48be-a3f2-40fbdf857c0e",
   "metadata": {},
   "outputs": [],
   "source": [
    "# only wild-type\n",
    "row_col_order = list(assay_layout_sorted[assay_layout_sorted['Strain'] == 'WT'].index)"
   ]
  },
  {
   "cell_type": "code",
   "execution_count": null,
   "id": "7a922c93-bc7a-40b0-b0f7-903eeeef702e",
   "metadata": {
    "scrolled": true
   },
   "outputs": [
    {
     "data": {
      "application/vnd.jupyter.widget-view+json": {
       "model_id": "b94f35913924476fa3b6d6d460974a27",
       "version_major": 2,
       "version_minor": 0
      },
      "text/plain": [
       "Iterating over individual wells:   0%|          | 0/20 [00:00<?, ?it/s]"
      ]
     },
     "metadata": {},
     "output_type": "display_data"
    },
    {
     "name": "stdout",
     "output_type": "stream",
     "text": [
      "skipping acq ID (4, 7)\n",
      "skipping acq ID (4, 8)\n"
     ]
    },
    {
     "name": "stderr",
     "output_type": "stream",
     "text": [
      "[INFO][2024/10/29 12:20:39 PM] Opening HDF file: /mnt/SYNO/macrohet_syno/data/ND0004/labels/cpv3/(4, 5).h5...\n",
      "INFO:btrack.io.hdf:Opening HDF file: /mnt/SYNO/macrohet_syno/data/ND0004/labels/cpv3/(4, 5).h5...\n",
      "[INFO][2024/10/29 12:20:57 PM] Loading segmentation (154, 6048, 6048)\n",
      "INFO:btrack.io.hdf:Loading segmentation (154, 6048, 6048)\n",
      "[INFO][2024/10/29 12:20:57 PM] Closing HDF file: /mnt/SYNO/macrohet_syno/data/ND0004/labels/cpv3/(4, 5).h5\n",
      "INFO:btrack.io.hdf:Closing HDF file: /mnt/SYNO/macrohet_syno/data/ND0004/labels/cpv3/(4, 5).h5\n"
     ]
    },
    {
     "data": {
      "application/vnd.jupyter.widget-view+json": {
       "model_id": "0b963f25df9a4a7eb92ff799fdb61546",
       "version_major": 2,
       "version_minor": 0
      },
      "text/plain": [
       "  0%|          | 0/154 [00:00<?, ?it/s]"
      ]
     },
     "metadata": {},
     "output_type": "display_data"
    },
    {
     "name": "stderr",
     "output_type": "stream",
     "text": [
      "INFO:cellpose.models:channels set to [0, 0]\n",
      "INFO:cellpose.models:~~~ FINDING MASKS ~~~\n",
      "INFO:cellpose.models:>>>> TOTAL TIME 32.81 sec\n",
      "INFO:cellpose.models:channels set to [0, 0]\n",
      "INFO:cellpose.models:~~~ FINDING MASKS ~~~\n",
      "INFO:cellpose.models:>>>> TOTAL TIME 30.38 sec\n",
      "INFO:cellpose.models:channels set to [0, 0]\n",
      "INFO:cellpose.models:~~~ FINDING MASKS ~~~\n",
      "INFO:cellpose.models:>>>> TOTAL TIME 31.66 sec\n",
      "INFO:cellpose.models:channels set to [0, 0]\n",
      "INFO:cellpose.models:~~~ FINDING MASKS ~~~\n",
      "INFO:cellpose.models:>>>> TOTAL TIME 34.04 sec\n",
      "INFO:cellpose.models:channels set to [0, 0]\n",
      "INFO:cellpose.models:~~~ FINDING MASKS ~~~\n",
      "INFO:cellpose.models:>>>> TOTAL TIME 32.18 sec\n",
      "INFO:cellpose.models:channels set to [0, 0]\n",
      "INFO:cellpose.models:~~~ FINDING MASKS ~~~\n",
      "INFO:cellpose.models:>>>> TOTAL TIME 34.00 sec\n",
      "INFO:cellpose.models:channels set to [0, 0]\n",
      "INFO:cellpose.models:~~~ FINDING MASKS ~~~\n",
      "INFO:cellpose.models:>>>> TOTAL TIME 33.77 sec\n",
      "INFO:cellpose.models:channels set to [0, 0]\n",
      "INFO:cellpose.models:~~~ FINDING MASKS ~~~\n",
      "INFO:cellpose.models:>>>> TOTAL TIME 32.58 sec\n",
      "INFO:cellpose.models:channels set to [0, 0]\n",
      "INFO:cellpose.models:~~~ FINDING MASKS ~~~\n",
      "INFO:cellpose.models:>>>> TOTAL TIME 30.27 sec\n",
      "INFO:cellpose.models:channels set to [0, 0]\n",
      "INFO:cellpose.models:~~~ FINDING MASKS ~~~\n",
      "INFO:cellpose.models:>>>> TOTAL TIME 29.81 sec\n",
      "INFO:cellpose.models:channels set to [0, 0]\n",
      "INFO:cellpose.models:~~~ FINDING MASKS ~~~\n",
      "INFO:cellpose.models:>>>> TOTAL TIME 30.19 sec\n",
      "INFO:cellpose.models:channels set to [0, 0]\n",
      "INFO:cellpose.models:~~~ FINDING MASKS ~~~\n",
      "INFO:cellpose.models:>>>> TOTAL TIME 33.88 sec\n",
      "INFO:cellpose.models:channels set to [0, 0]\n",
      "INFO:cellpose.models:~~~ FINDING MASKS ~~~\n",
      "INFO:cellpose.models:>>>> TOTAL TIME 28.47 sec\n",
      "INFO:cellpose.models:channels set to [0, 0]\n",
      "INFO:cellpose.models:~~~ FINDING MASKS ~~~\n",
      "INFO:cellpose.models:>>>> TOTAL TIME 28.43 sec\n",
      "INFO:cellpose.models:channels set to [0, 0]\n",
      "INFO:cellpose.models:~~~ FINDING MASKS ~~~\n",
      "INFO:cellpose.models:>>>> TOTAL TIME 29.01 sec\n",
      "INFO:cellpose.models:channels set to [0, 0]\n",
      "INFO:cellpose.models:~~~ FINDING MASKS ~~~\n",
      "INFO:cellpose.models:>>>> TOTAL TIME 31.62 sec\n",
      "INFO:cellpose.models:channels set to [0, 0]\n",
      "INFO:cellpose.models:~~~ FINDING MASKS ~~~\n",
      "INFO:cellpose.models:>>>> TOTAL TIME 29.68 sec\n",
      "INFO:cellpose.models:channels set to [0, 0]\n",
      "INFO:cellpose.models:~~~ FINDING MASKS ~~~\n",
      "INFO:cellpose.models:>>>> TOTAL TIME 31.36 sec\n",
      "INFO:cellpose.models:channels set to [0, 0]\n",
      "INFO:cellpose.models:~~~ FINDING MASKS ~~~\n",
      "INFO:cellpose.models:>>>> TOTAL TIME 31.30 sec\n",
      "INFO:cellpose.models:channels set to [0, 0]\n",
      "INFO:cellpose.models:~~~ FINDING MASKS ~~~\n",
      "INFO:cellpose.models:>>>> TOTAL TIME 30.50 sec\n",
      "INFO:cellpose.models:channels set to [0, 0]\n",
      "INFO:cellpose.models:~~~ FINDING MASKS ~~~\n",
      "INFO:cellpose.models:>>>> TOTAL TIME 33.80 sec\n",
      "INFO:cellpose.models:channels set to [0, 0]\n",
      "INFO:cellpose.models:~~~ FINDING MASKS ~~~\n",
      "INFO:cellpose.models:>>>> TOTAL TIME 30.39 sec\n",
      "INFO:cellpose.models:channels set to [0, 0]\n",
      "INFO:cellpose.models:~~~ FINDING MASKS ~~~\n",
      "INFO:cellpose.models:>>>> TOTAL TIME 29.27 sec\n",
      "INFO:cellpose.models:channels set to [0, 0]\n",
      "INFO:cellpose.models:~~~ FINDING MASKS ~~~\n",
      "INFO:cellpose.models:>>>> TOTAL TIME 27.88 sec\n",
      "INFO:cellpose.models:channels set to [0, 0]\n",
      "INFO:cellpose.models:~~~ FINDING MASKS ~~~\n",
      "INFO:cellpose.models:>>>> TOTAL TIME 33.22 sec\n",
      "INFO:cellpose.models:channels set to [0, 0]\n",
      "INFO:cellpose.models:~~~ FINDING MASKS ~~~\n",
      "INFO:cellpose.models:>>>> TOTAL TIME 30.52 sec\n",
      "INFO:cellpose.models:channels set to [0, 0]\n",
      "INFO:cellpose.models:~~~ FINDING MASKS ~~~\n",
      "INFO:cellpose.models:>>>> TOTAL TIME 30.19 sec\n",
      "INFO:cellpose.models:channels set to [0, 0]\n",
      "INFO:cellpose.models:~~~ FINDING MASKS ~~~\n",
      "INFO:cellpose.models:>>>> TOTAL TIME 29.53 sec\n",
      "INFO:cellpose.models:channels set to [0, 0]\n",
      "INFO:cellpose.models:~~~ FINDING MASKS ~~~\n",
      "INFO:cellpose.models:>>>> TOTAL TIME 30.91 sec\n",
      "INFO:cellpose.models:channels set to [0, 0]\n",
      "INFO:cellpose.models:~~~ FINDING MASKS ~~~\n",
      "INFO:cellpose.models:>>>> TOTAL TIME 28.28 sec\n",
      "INFO:cellpose.models:channels set to [0, 0]\n",
      "INFO:cellpose.models:~~~ FINDING MASKS ~~~\n",
      "INFO:cellpose.models:>>>> TOTAL TIME 27.44 sec\n",
      "INFO:cellpose.models:channels set to [0, 0]\n",
      "INFO:cellpose.models:~~~ FINDING MASKS ~~~\n",
      "INFO:cellpose.models:>>>> TOTAL TIME 27.76 sec\n",
      "INFO:cellpose.models:channels set to [0, 0]\n",
      "INFO:cellpose.models:~~~ FINDING MASKS ~~~\n",
      "INFO:cellpose.models:>>>> TOTAL TIME 27.57 sec\n",
      "INFO:cellpose.models:channels set to [0, 0]\n",
      "INFO:cellpose.models:~~~ FINDING MASKS ~~~\n",
      "INFO:cellpose.models:>>>> TOTAL TIME 29.21 sec\n",
      "INFO:cellpose.models:channels set to [0, 0]\n",
      "INFO:cellpose.models:~~~ FINDING MASKS ~~~\n",
      "INFO:cellpose.models:>>>> TOTAL TIME 29.83 sec\n",
      "INFO:cellpose.models:channels set to [0, 0]\n",
      "INFO:cellpose.models:~~~ FINDING MASKS ~~~\n",
      "INFO:cellpose.models:>>>> TOTAL TIME 29.42 sec\n",
      "INFO:cellpose.models:channels set to [0, 0]\n",
      "INFO:cellpose.models:~~~ FINDING MASKS ~~~\n",
      "INFO:cellpose.models:>>>> TOTAL TIME 29.82 sec\n",
      "INFO:cellpose.models:channels set to [0, 0]\n",
      "INFO:cellpose.models:~~~ FINDING MASKS ~~~\n",
      "INFO:cellpose.models:>>>> TOTAL TIME 31.96 sec\n",
      "INFO:cellpose.models:channels set to [0, 0]\n",
      "INFO:cellpose.models:~~~ FINDING MASKS ~~~\n",
      "INFO:cellpose.models:>>>> TOTAL TIME 30.32 sec\n",
      "INFO:cellpose.models:channels set to [0, 0]\n",
      "INFO:cellpose.models:~~~ FINDING MASKS ~~~\n",
      "INFO:cellpose.models:>>>> TOTAL TIME 28.65 sec\n",
      "INFO:cellpose.models:channels set to [0, 0]\n",
      "INFO:cellpose.models:~~~ FINDING MASKS ~~~\n",
      "INFO:cellpose.models:>>>> TOTAL TIME 28.65 sec\n",
      "INFO:cellpose.models:channels set to [0, 0]\n",
      "INFO:cellpose.models:~~~ FINDING MASKS ~~~\n",
      "INFO:cellpose.models:>>>> TOTAL TIME 30.30 sec\n",
      "INFO:cellpose.models:channels set to [0, 0]\n",
      "INFO:cellpose.models:~~~ FINDING MASKS ~~~\n",
      "INFO:cellpose.models:>>>> TOTAL TIME 28.90 sec\n",
      "INFO:cellpose.models:channels set to [0, 0]\n",
      "INFO:cellpose.models:~~~ FINDING MASKS ~~~\n",
      "INFO:cellpose.models:>>>> TOTAL TIME 28.31 sec\n",
      "INFO:cellpose.models:channels set to [0, 0]\n",
      "INFO:cellpose.models:~~~ FINDING MASKS ~~~\n",
      "INFO:cellpose.models:>>>> TOTAL TIME 31.04 sec\n",
      "INFO:cellpose.models:channels set to [0, 0]\n",
      "INFO:cellpose.models:~~~ FINDING MASKS ~~~\n",
      "INFO:cellpose.models:>>>> TOTAL TIME 27.74 sec\n",
      "INFO:cellpose.models:channels set to [0, 0]\n",
      "INFO:cellpose.models:~~~ FINDING MASKS ~~~\n",
      "INFO:cellpose.models:>>>> TOTAL TIME 29.46 sec\n",
      "INFO:cellpose.models:channels set to [0, 0]\n",
      "INFO:cellpose.models:~~~ FINDING MASKS ~~~\n",
      "INFO:cellpose.models:>>>> TOTAL TIME 27.71 sec\n",
      "INFO:cellpose.models:channels set to [0, 0]\n",
      "INFO:cellpose.models:~~~ FINDING MASKS ~~~\n",
      "INFO:cellpose.models:>>>> TOTAL TIME 29.30 sec\n",
      "INFO:cellpose.models:channels set to [0, 0]\n",
      "INFO:cellpose.models:~~~ FINDING MASKS ~~~\n",
      "INFO:cellpose.models:>>>> TOTAL TIME 29.95 sec\n",
      "INFO:cellpose.models:channels set to [0, 0]\n",
      "INFO:cellpose.models:~~~ FINDING MASKS ~~~\n",
      "INFO:cellpose.models:>>>> TOTAL TIME 30.00 sec\n",
      "INFO:cellpose.models:channels set to [0, 0]\n",
      "INFO:cellpose.models:~~~ FINDING MASKS ~~~\n",
      "INFO:cellpose.models:>>>> TOTAL TIME 28.99 sec\n",
      "INFO:cellpose.models:channels set to [0, 0]\n",
      "INFO:cellpose.models:~~~ FINDING MASKS ~~~\n",
      "INFO:cellpose.models:>>>> TOTAL TIME 29.29 sec\n",
      "INFO:cellpose.models:channels set to [0, 0]\n",
      "INFO:cellpose.models:~~~ FINDING MASKS ~~~\n",
      "INFO:cellpose.models:>>>> TOTAL TIME 28.43 sec\n",
      "INFO:cellpose.models:channels set to [0, 0]\n",
      "INFO:cellpose.models:~~~ FINDING MASKS ~~~\n",
      "INFO:cellpose.models:>>>> TOTAL TIME 30.57 sec\n",
      "INFO:cellpose.models:channels set to [0, 0]\n",
      "INFO:cellpose.models:~~~ FINDING MASKS ~~~\n",
      "INFO:cellpose.models:>>>> TOTAL TIME 27.78 sec\n",
      "INFO:cellpose.models:channels set to [0, 0]\n",
      "INFO:cellpose.models:~~~ FINDING MASKS ~~~\n",
      "INFO:cellpose.models:>>>> TOTAL TIME 28.65 sec\n",
      "INFO:cellpose.models:channels set to [0, 0]\n",
      "INFO:cellpose.models:~~~ FINDING MASKS ~~~\n",
      "INFO:cellpose.models:>>>> TOTAL TIME 29.89 sec\n",
      "INFO:cellpose.models:channels set to [0, 0]\n",
      "INFO:cellpose.models:~~~ FINDING MASKS ~~~\n",
      "INFO:cellpose.models:>>>> TOTAL TIME 27.58 sec\n",
      "INFO:cellpose.models:channels set to [0, 0]\n",
      "INFO:cellpose.models:~~~ FINDING MASKS ~~~\n",
      "INFO:cellpose.models:>>>> TOTAL TIME 27.29 sec\n",
      "INFO:cellpose.models:channels set to [0, 0]\n",
      "INFO:cellpose.models:~~~ FINDING MASKS ~~~\n",
      "INFO:cellpose.models:>>>> TOTAL TIME 29.15 sec\n",
      "INFO:cellpose.models:channels set to [0, 0]\n",
      "INFO:cellpose.models:~~~ FINDING MASKS ~~~\n",
      "INFO:cellpose.models:>>>> TOTAL TIME 27.48 sec\n",
      "INFO:cellpose.models:channels set to [0, 0]\n",
      "INFO:cellpose.models:~~~ FINDING MASKS ~~~\n",
      "INFO:cellpose.models:>>>> TOTAL TIME 29.50 sec\n",
      "INFO:cellpose.models:channels set to [0, 0]\n",
      "INFO:cellpose.models:~~~ FINDING MASKS ~~~\n",
      "INFO:cellpose.models:>>>> TOTAL TIME 28.94 sec\n",
      "INFO:cellpose.models:channels set to [0, 0]\n",
      "INFO:cellpose.models:~~~ FINDING MASKS ~~~\n",
      "INFO:cellpose.models:>>>> TOTAL TIME 29.59 sec\n",
      "INFO:cellpose.models:channels set to [0, 0]\n",
      "INFO:cellpose.models:~~~ FINDING MASKS ~~~\n",
      "INFO:cellpose.models:>>>> TOTAL TIME 29.82 sec\n",
      "INFO:cellpose.models:channels set to [0, 0]\n",
      "INFO:cellpose.models:~~~ FINDING MASKS ~~~\n",
      "INFO:cellpose.models:>>>> TOTAL TIME 30.13 sec\n",
      "INFO:cellpose.models:channels set to [0, 0]\n",
      "INFO:cellpose.models:~~~ FINDING MASKS ~~~\n",
      "INFO:cellpose.models:>>>> TOTAL TIME 28.11 sec\n",
      "INFO:cellpose.models:channels set to [0, 0]\n",
      "INFO:cellpose.models:~~~ FINDING MASKS ~~~\n",
      "INFO:cellpose.models:>>>> TOTAL TIME 29.17 sec\n",
      "INFO:cellpose.models:channels set to [0, 0]\n",
      "INFO:cellpose.models:~~~ FINDING MASKS ~~~\n",
      "INFO:cellpose.models:>>>> TOTAL TIME 28.56 sec\n",
      "INFO:cellpose.models:channels set to [0, 0]\n",
      "INFO:cellpose.models:~~~ FINDING MASKS ~~~\n",
      "INFO:cellpose.models:>>>> TOTAL TIME 27.58 sec\n",
      "INFO:cellpose.models:channels set to [0, 0]\n",
      "INFO:cellpose.models:~~~ FINDING MASKS ~~~\n",
      "INFO:cellpose.models:>>>> TOTAL TIME 27.51 sec\n",
      "INFO:cellpose.models:channels set to [0, 0]\n",
      "INFO:cellpose.models:~~~ FINDING MASKS ~~~\n",
      "INFO:cellpose.models:>>>> TOTAL TIME 27.34 sec\n",
      "INFO:cellpose.models:channels set to [0, 0]\n",
      "INFO:cellpose.models:~~~ FINDING MASKS ~~~\n",
      "INFO:cellpose.models:>>>> TOTAL TIME 28.72 sec\n",
      "INFO:cellpose.models:channels set to [0, 0]\n",
      "INFO:cellpose.models:~~~ FINDING MASKS ~~~\n",
      "INFO:cellpose.models:>>>> TOTAL TIME 29.28 sec\n",
      "INFO:cellpose.models:channels set to [0, 0]\n",
      "INFO:cellpose.models:~~~ FINDING MASKS ~~~\n",
      "INFO:cellpose.models:>>>> TOTAL TIME 28.84 sec\n",
      "INFO:cellpose.models:channels set to [0, 0]\n",
      "INFO:cellpose.models:~~~ FINDING MASKS ~~~\n",
      "INFO:cellpose.models:>>>> TOTAL TIME 29.41 sec\n",
      "INFO:cellpose.models:channels set to [0, 0]\n",
      "INFO:cellpose.models:~~~ FINDING MASKS ~~~\n",
      "INFO:cellpose.models:>>>> TOTAL TIME 29.19 sec\n",
      "INFO:cellpose.models:channels set to [0, 0]\n",
      "INFO:cellpose.models:~~~ FINDING MASKS ~~~\n",
      "INFO:cellpose.models:>>>> TOTAL TIME 27.93 sec\n",
      "INFO:cellpose.models:channels set to [0, 0]\n",
      "INFO:cellpose.models:~~~ FINDING MASKS ~~~\n",
      "INFO:cellpose.models:>>>> TOTAL TIME 27.61 sec\n",
      "INFO:cellpose.models:channels set to [0, 0]\n",
      "INFO:cellpose.models:~~~ FINDING MASKS ~~~\n",
      "INFO:cellpose.models:>>>> TOTAL TIME 29.70 sec\n",
      "INFO:cellpose.models:channels set to [0, 0]\n",
      "INFO:cellpose.models:~~~ FINDING MASKS ~~~\n",
      "INFO:cellpose.models:>>>> TOTAL TIME 31.13 sec\n",
      "INFO:cellpose.models:channels set to [0, 0]\n",
      "INFO:cellpose.models:~~~ FINDING MASKS ~~~\n",
      "INFO:cellpose.models:>>>> TOTAL TIME 27.03 sec\n",
      "INFO:cellpose.models:channels set to [0, 0]\n",
      "INFO:cellpose.models:~~~ FINDING MASKS ~~~\n",
      "INFO:cellpose.models:>>>> TOTAL TIME 27.51 sec\n",
      "INFO:cellpose.models:channels set to [0, 0]\n",
      "INFO:cellpose.models:~~~ FINDING MASKS ~~~\n",
      "INFO:cellpose.models:>>>> TOTAL TIME 28.86 sec\n",
      "INFO:cellpose.models:channels set to [0, 0]\n",
      "INFO:cellpose.models:~~~ FINDING MASKS ~~~\n",
      "INFO:cellpose.models:>>>> TOTAL TIME 27.52 sec\n",
      "INFO:cellpose.models:channels set to [0, 0]\n",
      "INFO:cellpose.models:~~~ FINDING MASKS ~~~\n",
      "INFO:cellpose.models:>>>> TOTAL TIME 26.71 sec\n",
      "INFO:cellpose.models:channels set to [0, 0]\n",
      "INFO:cellpose.models:~~~ FINDING MASKS ~~~\n",
      "INFO:cellpose.models:>>>> TOTAL TIME 26.03 sec\n",
      "INFO:cellpose.models:channels set to [0, 0]\n",
      "INFO:cellpose.models:~~~ FINDING MASKS ~~~\n",
      "INFO:cellpose.models:>>>> TOTAL TIME 27.42 sec\n",
      "INFO:cellpose.models:channels set to [0, 0]\n",
      "INFO:cellpose.models:~~~ FINDING MASKS ~~~\n",
      "INFO:cellpose.models:>>>> TOTAL TIME 27.45 sec\n",
      "INFO:cellpose.models:channels set to [0, 0]\n",
      "INFO:cellpose.models:~~~ FINDING MASKS ~~~\n",
      "INFO:cellpose.models:>>>> TOTAL TIME 28.85 sec\n",
      "INFO:cellpose.models:channels set to [0, 0]\n",
      "INFO:cellpose.models:~~~ FINDING MASKS ~~~\n",
      "INFO:cellpose.models:>>>> TOTAL TIME 27.15 sec\n",
      "INFO:cellpose.models:channels set to [0, 0]\n",
      "INFO:cellpose.models:~~~ FINDING MASKS ~~~\n",
      "INFO:cellpose.models:>>>> TOTAL TIME 26.99 sec\n",
      "INFO:cellpose.models:channels set to [0, 0]\n",
      "INFO:cellpose.models:~~~ FINDING MASKS ~~~\n",
      "INFO:cellpose.models:>>>> TOTAL TIME 28.33 sec\n",
      "INFO:cellpose.models:channels set to [0, 0]\n",
      "INFO:cellpose.models:~~~ FINDING MASKS ~~~\n",
      "INFO:cellpose.models:>>>> TOTAL TIME 27.60 sec\n",
      "INFO:cellpose.models:channels set to [0, 0]\n",
      "INFO:cellpose.models:~~~ FINDING MASKS ~~~\n",
      "INFO:cellpose.models:>>>> TOTAL TIME 27.87 sec\n",
      "INFO:cellpose.models:channels set to [0, 0]\n",
      "INFO:cellpose.models:~~~ FINDING MASKS ~~~\n",
      "INFO:cellpose.models:>>>> TOTAL TIME 27.23 sec\n",
      "INFO:cellpose.models:channels set to [0, 0]\n",
      "INFO:cellpose.models:~~~ FINDING MASKS ~~~\n",
      "INFO:cellpose.models:>>>> TOTAL TIME 26.97 sec\n",
      "INFO:cellpose.models:channels set to [0, 0]\n",
      "INFO:cellpose.models:~~~ FINDING MASKS ~~~\n",
      "INFO:cellpose.models:>>>> TOTAL TIME 26.58 sec\n",
      "INFO:cellpose.models:channels set to [0, 0]\n",
      "INFO:cellpose.models:~~~ FINDING MASKS ~~~\n",
      "INFO:cellpose.models:>>>> TOTAL TIME 28.07 sec\n",
      "INFO:cellpose.models:channels set to [0, 0]\n",
      "INFO:cellpose.models:~~~ FINDING MASKS ~~~\n",
      "INFO:cellpose.models:>>>> TOTAL TIME 31.82 sec\n",
      "INFO:cellpose.models:channels set to [0, 0]\n",
      "INFO:cellpose.models:~~~ FINDING MASKS ~~~\n",
      "INFO:cellpose.models:>>>> TOTAL TIME 27.28 sec\n",
      "INFO:cellpose.models:channels set to [0, 0]\n",
      "INFO:cellpose.models:~~~ FINDING MASKS ~~~\n",
      "INFO:cellpose.models:>>>> TOTAL TIME 28.23 sec\n",
      "INFO:cellpose.models:channels set to [0, 0]\n",
      "INFO:cellpose.models:~~~ FINDING MASKS ~~~\n",
      "INFO:cellpose.models:>>>> TOTAL TIME 30.20 sec\n",
      "INFO:cellpose.models:channels set to [0, 0]\n",
      "INFO:cellpose.models:~~~ FINDING MASKS ~~~\n",
      "INFO:cellpose.models:>>>> TOTAL TIME 28.61 sec\n",
      "INFO:cellpose.models:channels set to [0, 0]\n",
      "INFO:cellpose.models:~~~ FINDING MASKS ~~~\n",
      "INFO:cellpose.models:>>>> TOTAL TIME 27.22 sec\n",
      "INFO:cellpose.models:channels set to [0, 0]\n",
      "INFO:cellpose.models:~~~ FINDING MASKS ~~~\n",
      "INFO:cellpose.models:>>>> TOTAL TIME 30.01 sec\n",
      "INFO:cellpose.models:channels set to [0, 0]\n",
      "INFO:cellpose.models:~~~ FINDING MASKS ~~~\n",
      "INFO:cellpose.models:>>>> TOTAL TIME 28.21 sec\n",
      "INFO:cellpose.models:channels set to [0, 0]\n",
      "INFO:cellpose.models:~~~ FINDING MASKS ~~~\n",
      "INFO:cellpose.models:>>>> TOTAL TIME 28.53 sec\n",
      "INFO:cellpose.models:channels set to [0, 0]\n",
      "INFO:cellpose.models:~~~ FINDING MASKS ~~~\n",
      "INFO:cellpose.models:>>>> TOTAL TIME 26.38 sec\n",
      "INFO:cellpose.models:channels set to [0, 0]\n",
      "INFO:cellpose.models:~~~ FINDING MASKS ~~~\n",
      "INFO:cellpose.models:>>>> TOTAL TIME 31.17 sec\n",
      "INFO:cellpose.models:channels set to [0, 0]\n",
      "INFO:cellpose.models:~~~ FINDING MASKS ~~~\n",
      "INFO:cellpose.models:>>>> TOTAL TIME 28.38 sec\n",
      "INFO:cellpose.models:channels set to [0, 0]\n",
      "INFO:cellpose.models:~~~ FINDING MASKS ~~~\n",
      "INFO:cellpose.models:>>>> TOTAL TIME 26.92 sec\n",
      "INFO:cellpose.models:channels set to [0, 0]\n",
      "INFO:cellpose.models:~~~ FINDING MASKS ~~~\n",
      "INFO:cellpose.models:>>>> TOTAL TIME 28.76 sec\n",
      "INFO:cellpose.models:channels set to [0, 0]\n",
      "INFO:cellpose.models:~~~ FINDING MASKS ~~~\n",
      "INFO:cellpose.models:>>>> TOTAL TIME 26.66 sec\n",
      "INFO:cellpose.models:channels set to [0, 0]\n",
      "INFO:cellpose.models:~~~ FINDING MASKS ~~~\n",
      "INFO:cellpose.models:>>>> TOTAL TIME 27.14 sec\n",
      "INFO:cellpose.models:channels set to [0, 0]\n",
      "INFO:cellpose.models:~~~ FINDING MASKS ~~~\n",
      "INFO:cellpose.models:>>>> TOTAL TIME 26.90 sec\n",
      "INFO:cellpose.models:channels set to [0, 0]\n",
      "INFO:cellpose.models:~~~ FINDING MASKS ~~~\n",
      "INFO:cellpose.models:>>>> TOTAL TIME 26.81 sec\n",
      "INFO:cellpose.models:channels set to [0, 0]\n",
      "INFO:cellpose.models:~~~ FINDING MASKS ~~~\n",
      "INFO:cellpose.models:>>>> TOTAL TIME 26.19 sec\n",
      "INFO:cellpose.models:channels set to [0, 0]\n",
      "INFO:cellpose.models:~~~ FINDING MASKS ~~~\n",
      "INFO:cellpose.models:>>>> TOTAL TIME 27.66 sec\n",
      "INFO:cellpose.models:channels set to [0, 0]\n",
      "INFO:cellpose.models:~~~ FINDING MASKS ~~~\n",
      "INFO:cellpose.models:>>>> TOTAL TIME 25.81 sec\n",
      "INFO:cellpose.models:channels set to [0, 0]\n",
      "INFO:cellpose.models:~~~ FINDING MASKS ~~~\n",
      "INFO:cellpose.models:>>>> TOTAL TIME 27.74 sec\n",
      "INFO:cellpose.models:channels set to [0, 0]\n",
      "INFO:cellpose.models:~~~ FINDING MASKS ~~~\n",
      "INFO:cellpose.models:>>>> TOTAL TIME 26.54 sec\n",
      "INFO:cellpose.models:channels set to [0, 0]\n",
      "INFO:cellpose.models:~~~ FINDING MASKS ~~~\n",
      "INFO:cellpose.models:>>>> TOTAL TIME 27.46 sec\n",
      "INFO:cellpose.models:channels set to [0, 0]\n",
      "INFO:cellpose.models:~~~ FINDING MASKS ~~~\n",
      "INFO:cellpose.models:>>>> TOTAL TIME 27.33 sec\n",
      "INFO:cellpose.models:channels set to [0, 0]\n",
      "INFO:cellpose.models:~~~ FINDING MASKS ~~~\n",
      "INFO:cellpose.models:>>>> TOTAL TIME 28.26 sec\n",
      "INFO:cellpose.models:channels set to [0, 0]\n",
      "INFO:cellpose.models:~~~ FINDING MASKS ~~~\n",
      "INFO:cellpose.models:>>>> TOTAL TIME 28.59 sec\n",
      "INFO:cellpose.models:channels set to [0, 0]\n",
      "INFO:cellpose.models:~~~ FINDING MASKS ~~~\n",
      "INFO:cellpose.models:>>>> TOTAL TIME 26.63 sec\n",
      "INFO:cellpose.models:channels set to [0, 0]\n",
      "INFO:cellpose.models:~~~ FINDING MASKS ~~~\n",
      "INFO:cellpose.models:>>>> TOTAL TIME 28.28 sec\n",
      "INFO:cellpose.models:channels set to [0, 0]\n",
      "INFO:cellpose.models:~~~ FINDING MASKS ~~~\n",
      "INFO:cellpose.models:>>>> TOTAL TIME 27.14 sec\n",
      "INFO:cellpose.models:channels set to [0, 0]\n",
      "INFO:cellpose.models:~~~ FINDING MASKS ~~~\n",
      "INFO:cellpose.models:>>>> TOTAL TIME 28.61 sec\n",
      "INFO:cellpose.models:channels set to [0, 0]\n",
      "INFO:cellpose.models:~~~ FINDING MASKS ~~~\n",
      "INFO:cellpose.models:>>>> TOTAL TIME 27.80 sec\n",
      "INFO:cellpose.models:channels set to [0, 0]\n",
      "INFO:cellpose.models:~~~ FINDING MASKS ~~~\n",
      "INFO:cellpose.models:>>>> TOTAL TIME 30.10 sec\n",
      "INFO:cellpose.models:channels set to [0, 0]\n",
      "INFO:cellpose.models:~~~ FINDING MASKS ~~~\n",
      "INFO:cellpose.models:>>>> TOTAL TIME 27.61 sec\n",
      "INFO:cellpose.models:channels set to [0, 0]\n",
      "INFO:cellpose.models:~~~ FINDING MASKS ~~~\n",
      "INFO:cellpose.models:>>>> TOTAL TIME 26.62 sec\n",
      "INFO:cellpose.models:channels set to [0, 0]\n",
      "INFO:cellpose.models:~~~ FINDING MASKS ~~~\n",
      "INFO:cellpose.models:>>>> TOTAL TIME 27.01 sec\n",
      "INFO:cellpose.models:channels set to [0, 0]\n",
      "INFO:cellpose.models:~~~ FINDING MASKS ~~~\n",
      "INFO:cellpose.models:>>>> TOTAL TIME 26.93 sec\n",
      "INFO:cellpose.models:channels set to [0, 0]\n",
      "INFO:cellpose.models:~~~ FINDING MASKS ~~~\n",
      "INFO:cellpose.models:>>>> TOTAL TIME 28.98 sec\n",
      "INFO:cellpose.models:channels set to [0, 0]\n",
      "INFO:cellpose.models:~~~ FINDING MASKS ~~~\n",
      "INFO:cellpose.models:>>>> TOTAL TIME 27.97 sec\n",
      "INFO:cellpose.models:channels set to [0, 0]\n",
      "INFO:cellpose.models:~~~ FINDING MASKS ~~~\n",
      "INFO:cellpose.models:>>>> TOTAL TIME 29.12 sec\n",
      "INFO:cellpose.models:channels set to [0, 0]\n",
      "INFO:cellpose.models:~~~ FINDING MASKS ~~~\n",
      "INFO:cellpose.models:>>>> TOTAL TIME 26.00 sec\n",
      "INFO:cellpose.models:channels set to [0, 0]\n",
      "INFO:cellpose.models:~~~ FINDING MASKS ~~~\n",
      "INFO:cellpose.models:>>>> TOTAL TIME 28.30 sec\n",
      "INFO:cellpose.models:channels set to [0, 0]\n",
      "INFO:cellpose.models:~~~ FINDING MASKS ~~~\n",
      "INFO:cellpose.models:>>>> TOTAL TIME 27.92 sec\n",
      "INFO:cellpose.models:channels set to [0, 0]\n",
      "INFO:cellpose.models:~~~ FINDING MASKS ~~~\n",
      "INFO:cellpose.models:>>>> TOTAL TIME 28.27 sec\n",
      "INFO:cellpose.models:channels set to [0, 0]\n",
      "INFO:cellpose.models:~~~ FINDING MASKS ~~~\n",
      "INFO:cellpose.models:>>>> TOTAL TIME 28.14 sec\n",
      "INFO:cellpose.models:channels set to [0, 0]\n",
      "INFO:cellpose.models:~~~ FINDING MASKS ~~~\n",
      "INFO:cellpose.models:>>>> TOTAL TIME 29.66 sec\n",
      "INFO:cellpose.models:channels set to [0, 0]\n",
      "INFO:cellpose.models:~~~ FINDING MASKS ~~~\n",
      "INFO:cellpose.models:>>>> TOTAL TIME 28.56 sec\n",
      "INFO:cellpose.models:channels set to [0, 0]\n",
      "INFO:cellpose.models:~~~ FINDING MASKS ~~~\n",
      "INFO:cellpose.models:>>>> TOTAL TIME 27.16 sec\n",
      "INFO:cellpose.models:channels set to [0, 0]\n",
      "INFO:cellpose.models:~~~ FINDING MASKS ~~~\n",
      "INFO:cellpose.models:>>>> TOTAL TIME 26.48 sec\n",
      "INFO:cellpose.models:channels set to [0, 0]\n",
      "INFO:cellpose.models:~~~ FINDING MASKS ~~~\n",
      "INFO:cellpose.models:>>>> TOTAL TIME 28.46 sec\n",
      "INFO:cellpose.models:channels set to [0, 0]\n",
      "INFO:cellpose.models:~~~ FINDING MASKS ~~~\n",
      "INFO:cellpose.models:>>>> TOTAL TIME 29.16 sec\n",
      "INFO:cellpose.models:channels set to [0, 0]\n",
      "INFO:cellpose.models:~~~ FINDING MASKS ~~~\n",
      "INFO:cellpose.models:>>>> TOTAL TIME 26.59 sec\n",
      "INFO:cellpose.models:channels set to [0, 0]\n",
      "INFO:cellpose.models:~~~ FINDING MASKS ~~~\n",
      "INFO:cellpose.models:>>>> TOTAL TIME 27.43 sec\n",
      "INFO:cellpose.models:channels set to [0, 0]\n",
      "INFO:cellpose.models:~~~ FINDING MASKS ~~~\n",
      "INFO:cellpose.models:>>>> TOTAL TIME 26.41 sec\n",
      "INFO:trackastra.model.model_api:Predicting weights for candidate graph\n",
      "INFO:trackastra.data.wrfeat:Extracting features from 154 detections\n",
      "INFO:trackastra.data.wrfeat:Using single process for feature extraction\n",
      "\n",
      "Extracting features:   0%|                              | 0/154 [00:00<?, ?it/s]\u001b[A\n",
      "Extracting features:   1%|▏                     | 1/154 [00:02<07:09,  2.81s/it]\u001b[A\n",
      "Extracting features:   1%|▎                     | 2/154 [00:05<07:01,  2.77s/it]\u001b[A\n",
      "Extracting features:   2%|▍                     | 3/154 [00:08<07:00,  2.79s/it]\u001b[A\n",
      "Extracting features:   3%|▌                     | 4/154 [00:11<06:59,  2.80s/it]\u001b[A\n",
      "Extracting features:   3%|▋                     | 5/154 [00:13<06:54,  2.78s/it]\u001b[A\n",
      "Extracting features:   4%|▊                     | 6/154 [00:16<06:51,  2.78s/it]\u001b[A\n",
      "Extracting features:   5%|█                     | 7/154 [00:19<06:49,  2.79s/it]\u001b[A\n",
      "Extracting features:   5%|█▏                    | 8/154 [00:22<06:46,  2.79s/it]\u001b[A\n",
      "Extracting features:   6%|█▎                    | 9/154 [00:24<06:40,  2.76s/it]\u001b[A\n",
      "Extracting features:   6%|█▎                   | 10/154 [00:27<06:38,  2.76s/it]\u001b[A\n",
      "Extracting features:   7%|█▌                   | 11/154 [00:30<06:35,  2.77s/it]\u001b[A\n",
      "Extracting features:   8%|█▋                   | 12/154 [00:33<06:33,  2.77s/it]\u001b[A\n",
      "Extracting features:   8%|█▊                   | 13/154 [00:36<06:31,  2.78s/it]\u001b[A\n",
      "Extracting features:   9%|█▉                   | 14/154 [00:38<06:26,  2.76s/it]\u001b[A\n",
      "Extracting features:  10%|██                   | 15/154 [00:41<06:22,  2.75s/it]\u001b[A\n",
      "Extracting features:  10%|██▏                  | 16/154 [00:44<06:17,  2.73s/it]\u001b[A\n",
      "Extracting features:  11%|██▎                  | 17/154 [00:46<06:13,  2.73s/it]\u001b[A\n",
      "Extracting features:  12%|██▍                  | 18/154 [00:49<06:12,  2.74s/it]\u001b[A\n",
      "Extracting features:  12%|██▌                  | 19/154 [00:52<06:08,  2.73s/it]\u001b[A\n",
      "Extracting features:  13%|██▋                  | 20/154 [00:55<06:27,  2.89s/it]\u001b[A\n",
      "Extracting features:  14%|██▊                  | 21/154 [00:58<06:21,  2.87s/it]\u001b[A\n",
      "Extracting features:  14%|███                  | 22/154 [01:01<06:11,  2.81s/it]\u001b[A\n",
      "Extracting features:  15%|███▏                 | 23/154 [01:03<05:57,  2.73s/it]\u001b[A\n",
      "Extracting features:  16%|███▎                 | 24/154 [01:06<05:54,  2.72s/it]\u001b[A\n",
      "Extracting features:  16%|███▍                 | 25/154 [01:09<05:50,  2.72s/it]\u001b[A\n",
      "Extracting features:  17%|███▌                 | 26/154 [01:11<05:21,  2.52s/it]\u001b[A\n",
      "Extracting features:  18%|███▋                 | 27/154 [01:13<05:00,  2.36s/it]\u001b[A\n",
      "Extracting features:  18%|███▊                 | 28/154 [01:15<04:42,  2.24s/it]\u001b[A\n",
      "Extracting features:  19%|███▉                 | 29/154 [01:17<04:45,  2.28s/it]\u001b[A\n",
      "Extracting features:  19%|████                 | 30/154 [01:20<04:53,  2.36s/it]\u001b[A\n",
      "Extracting features:  20%|████▏                | 31/154 [01:22<04:45,  2.32s/it]\u001b[A\n",
      "Extracting features:  21%|████▎                | 32/154 [01:24<04:47,  2.36s/it]\u001b[A\n",
      "Extracting features:  21%|████▌                | 33/154 [01:27<04:53,  2.42s/it]\u001b[A\n",
      "Extracting features:  22%|████▋                | 34/154 [01:29<04:40,  2.34s/it]\u001b[A\n",
      "Extracting features:  23%|████▊                | 35/154 [01:32<04:45,  2.40s/it]\u001b[A\n",
      "Extracting features:  23%|████▉                | 36/154 [01:34<04:42,  2.40s/it]\u001b[A\n",
      "Extracting features:  24%|█████                | 37/154 [01:37<04:52,  2.50s/it]\u001b[A\n",
      "Extracting features:  25%|█████▏               | 38/154 [01:39<04:56,  2.56s/it]\u001b[A\n",
      "Extracting features:  25%|█████▎               | 39/154 [01:42<04:56,  2.57s/it]\u001b[A\n",
      "Extracting features:  26%|█████▍               | 40/154 [01:45<04:56,  2.60s/it]\u001b[A\n",
      "Extracting features:  27%|█████▌               | 41/154 [01:47<04:56,  2.62s/it]\u001b[A\n",
      "Extracting features:  27%|█████▋               | 42/154 [01:50<04:54,  2.63s/it]\u001b[A\n",
      "Extracting features:  28%|█████▊               | 43/154 [01:53<04:51,  2.63s/it]\u001b[A\n",
      "Extracting features:  29%|██████               | 44/154 [01:55<04:49,  2.63s/it]\u001b[A\n",
      "Extracting features:  29%|██████▏              | 45/154 [01:58<04:47,  2.64s/it]\u001b[A\n",
      "Extracting features:  30%|██████▎              | 46/154 [02:01<04:45,  2.64s/it]\u001b[A\n",
      "Extracting features:  31%|██████▍              | 47/154 [02:03<04:41,  2.63s/it]\u001b[A\n",
      "Extracting features:  31%|██████▌              | 48/154 [02:06<04:38,  2.63s/it]\u001b[A\n",
      "Extracting features:  32%|██████▋              | 49/154 [02:08<04:35,  2.62s/it]\u001b[A\n",
      "Extracting features:  32%|██████▊              | 50/154 [02:11<04:32,  2.62s/it]\u001b[A\n",
      "Extracting features:  33%|██████▉              | 51/154 [02:14<04:29,  2.62s/it]\u001b[A\n",
      "Extracting features:  34%|███████              | 52/154 [02:16<04:26,  2.62s/it]\u001b[A\n",
      "Extracting features:  34%|███████▏             | 53/154 [02:19<04:23,  2.61s/it]\u001b[A\n",
      "Extracting features:  35%|███████▎             | 54/154 [02:21<04:22,  2.63s/it]\u001b[A\n",
      "Extracting features:  36%|███████▌             | 55/154 [02:24<04:19,  2.62s/it]\u001b[A\n",
      "Extracting features:  36%|███████▋             | 56/154 [02:27<04:17,  2.62s/it]\u001b[A\n",
      "Extracting features:  37%|███████▊             | 57/154 [02:29<04:14,  2.62s/it]\u001b[A\n",
      "Extracting features:  38%|███████▉             | 58/154 [02:32<04:10,  2.61s/it]\u001b[A\n",
      "Extracting features:  38%|████████             | 59/154 [02:35<04:09,  2.62s/it]\u001b[A\n",
      "Extracting features:  39%|████████▏            | 60/154 [02:37<04:07,  2.63s/it]\u001b[A\n",
      "Extracting features:  40%|████████▎            | 61/154 [02:40<04:04,  2.63s/it]\u001b[A\n",
      "Extracting features:  40%|████████▍            | 62/154 [02:42<04:01,  2.63s/it]\u001b[A\n",
      "Extracting features:  41%|████████▌            | 63/154 [02:45<03:58,  2.62s/it]\u001b[A\n",
      "Extracting features:  42%|████████▋            | 64/154 [02:48<03:53,  2.59s/it]\u001b[A\n",
      "Extracting features:  42%|████████▊            | 65/154 [02:50<03:51,  2.60s/it]\u001b[A\n",
      "Extracting features:  43%|█████████            | 66/154 [02:53<03:48,  2.60s/it]\u001b[A\n",
      "Extracting features:  44%|█████████▏           | 67/154 [02:55<03:46,  2.61s/it]\u001b[A\n",
      "Extracting features:  44%|█████████▎           | 68/154 [02:58<03:43,  2.60s/it]\u001b[A\n",
      "Extracting features:  45%|█████████▍           | 69/154 [03:01<03:40,  2.60s/it]\u001b[A\n",
      "Extracting features:  45%|█████████▌           | 70/154 [03:04<03:49,  2.73s/it]\u001b[A\n",
      "Extracting features:  46%|█████████▋           | 71/154 [03:06<03:43,  2.69s/it]\u001b[A\n",
      "Extracting features:  47%|█████████▊           | 72/154 [03:09<03:37,  2.65s/it]\u001b[A\n",
      "Extracting features:  47%|█████████▉           | 73/154 [03:11<03:33,  2.63s/it]\u001b[A\n",
      "Extracting features:  48%|██████████           | 74/154 [03:14<03:29,  2.62s/it]\u001b[A\n",
      "Extracting features:  49%|██████████▏          | 75/154 [03:17<03:25,  2.61s/it]\u001b[A\n",
      "Extracting features:  49%|██████████▎          | 76/154 [03:19<03:23,  2.60s/it]\u001b[A\n",
      "Extracting features:  50%|██████████▌          | 77/154 [03:22<03:22,  2.63s/it]\u001b[A\n",
      "Extracting features:  51%|██████████▋          | 78/154 [03:24<03:19,  2.62s/it]\u001b[A\n",
      "Extracting features:  51%|██████████▊          | 79/154 [03:27<03:13,  2.58s/it]\u001b[A\n",
      "Extracting features:  52%|██████████▉          | 80/154 [03:29<03:05,  2.51s/it]\u001b[A\n",
      "Extracting features:  53%|███████████          | 81/154 [03:32<03:04,  2.53s/it]\u001b[A\n",
      "Extracting features:  53%|███████████▏         | 82/154 [03:34<03:03,  2.54s/it]\u001b[A\n",
      "Extracting features:  54%|███████████▎         | 83/154 [03:37<03:00,  2.54s/it]\u001b[A\n",
      "Extracting features:  55%|███████████▍         | 84/154 [03:40<02:59,  2.57s/it]\u001b[A\n",
      "Extracting features:  55%|███████████▌         | 85/154 [03:42<02:57,  2.58s/it]\u001b[A\n",
      "Extracting features:  56%|███████████▋         | 86/154 [03:45<02:55,  2.58s/it]\u001b[A\n",
      "Extracting features:  56%|███████████▊         | 87/154 [03:47<02:52,  2.57s/it]\u001b[A\n",
      "Extracting features:  57%|████████████         | 88/154 [03:50<02:49,  2.57s/it]\u001b[A\n",
      "Extracting features:  58%|████████████▏        | 89/154 [03:52<02:46,  2.56s/it]\u001b[A\n",
      "Extracting features:  58%|████████████▎        | 90/154 [03:55<02:43,  2.56s/it]\u001b[A\n",
      "Extracting features:  59%|████████████▍        | 91/154 [03:58<02:42,  2.58s/it]\u001b[A\n",
      "Extracting features:  60%|████████████▌        | 92/154 [04:00<02:39,  2.57s/it]\u001b[A\n",
      "Extracting features:  60%|████████████▋        | 93/154 [04:02<02:31,  2.48s/it]\u001b[A\n",
      "Extracting features:  61%|████████████▊        | 94/154 [04:04<02:17,  2.30s/it]\u001b[A\n",
      "Extracting features:  62%|████████████▉        | 95/154 [04:07<02:14,  2.28s/it]\u001b[A\n",
      "Extracting features:  62%|█████████████        | 96/154 [04:08<02:05,  2.17s/it]\u001b[A\n",
      "Extracting features:  63%|█████████████▏       | 97/154 [04:11<02:05,  2.20s/it]\u001b[A\n",
      "Extracting features:  64%|█████████████▎       | 98/154 [04:13<02:08,  2.30s/it]\u001b[A\n",
      "Extracting features:  64%|█████████████▌       | 99/154 [04:16<02:10,  2.38s/it]\u001b[A\n",
      "Extracting features:  65%|████████████▉       | 100/154 [04:18<02:11,  2.43s/it]\u001b[A\n",
      "Extracting features:  66%|█████████████       | 101/154 [04:21<02:10,  2.46s/it]\u001b[A\n",
      "Extracting features:  66%|█████████████▏      | 102/154 [04:23<02:09,  2.49s/it]\u001b[A\n",
      "Extracting features:  67%|█████████████▍      | 103/154 [04:26<02:07,  2.51s/it]\u001b[A\n",
      "Extracting features:  68%|█████████████▌      | 104/154 [04:29<02:05,  2.52s/it]\u001b[A\n",
      "Extracting features:  68%|█████████████▋      | 105/154 [04:31<02:03,  2.53s/it]\u001b[A\n",
      "Extracting features:  69%|█████████████▊      | 106/154 [04:34<02:01,  2.53s/it]\u001b[A\n",
      "Extracting features:  69%|█████████████▉      | 107/154 [04:36<01:58,  2.53s/it]\u001b[A\n",
      "Extracting features:  70%|██████████████      | 108/154 [04:39<01:56,  2.53s/it]\u001b[A\n",
      "Extracting features:  71%|██████████████▏     | 109/154 [04:41<01:53,  2.52s/it]\u001b[A\n",
      "Extracting features:  71%|██████████████▎     | 110/154 [04:44<01:50,  2.52s/it]\u001b[A\n",
      "Extracting features:  72%|██████████████▍     | 111/154 [04:46<01:48,  2.52s/it]\u001b[A\n",
      "Extracting features:  73%|██████████████▌     | 112/154 [04:49<01:46,  2.55s/it]\u001b[A\n",
      "Extracting features:  73%|██████████████▋     | 113/154 [04:51<01:44,  2.54s/it]\u001b[A\n",
      "Extracting features:  74%|██████████████▊     | 114/154 [04:54<01:41,  2.55s/it]\u001b[A\n",
      "Extracting features:  75%|██████████████▉     | 115/154 [04:56<01:38,  2.53s/it]\u001b[A\n",
      "Extracting features:  75%|███████████████     | 116/154 [04:59<01:36,  2.54s/it]\u001b[A\n",
      "Extracting features:  76%|███████████████▏    | 117/154 [05:01<01:33,  2.52s/it]\u001b[A\n",
      "Extracting features:  77%|███████████████▎    | 118/154 [05:04<01:30,  2.52s/it]\u001b[A\n",
      "Extracting features:  77%|███████████████▍    | 119/154 [05:06<01:27,  2.51s/it]\u001b[A\n",
      "Extracting features:  78%|███████████████▌    | 120/154 [05:09<01:25,  2.51s/it]\u001b[A\n",
      "Extracting features:  79%|███████████████▋    | 121/154 [05:11<01:22,  2.49s/it]\u001b[A\n",
      "Extracting features:  79%|███████████████▊    | 122/154 [05:14<01:19,  2.48s/it]\u001b[A\n",
      "Extracting features:  80%|███████████████▉    | 123/154 [05:16<01:14,  2.40s/it]\u001b[A\n",
      "Extracting features:  81%|████████████████    | 124/154 [05:19<01:12,  2.43s/it]\u001b[A\n",
      "Extracting features:  81%|████████████████▏   | 125/154 [05:21<01:08,  2.36s/it]\u001b[A\n",
      "Extracting features:  82%|████████████████▎   | 126/154 [05:23<01:05,  2.33s/it]\u001b[A\n",
      "Extracting features:  82%|████████████████▍   | 127/154 [05:26<01:04,  2.39s/it]\u001b[A\n",
      "Extracting features:  83%|████████████████▌   | 128/154 [05:28<01:02,  2.39s/it]\u001b[A\n",
      "Extracting features:  84%|████████████████▊   | 129/154 [05:30<01:01,  2.44s/it]\u001b[A\n",
      "Extracting features:  84%|████████████████▉   | 130/154 [05:33<00:57,  2.40s/it]\u001b[A\n",
      "Extracting features:  85%|█████████████████   | 131/154 [05:35<00:55,  2.43s/it]\u001b[A\n",
      "Extracting features:  86%|█████████████████▏  | 132/154 [05:38<00:53,  2.45s/it]\u001b[A\n",
      "Extracting features:  86%|█████████████████▎  | 133/154 [05:40<00:51,  2.47s/it]\u001b[A\n",
      "Extracting features:  87%|█████████████████▍  | 134/154 [05:43<00:52,  2.63s/it]\u001b[A\n",
      "Extracting features:  88%|█████████████████▌  | 135/154 [05:46<00:48,  2.58s/it]\u001b[A\n",
      "Extracting features:  88%|█████████████████▋  | 136/154 [05:48<00:45,  2.55s/it]\u001b[A\n",
      "Extracting features:  89%|█████████████████▊  | 137/154 [05:51<00:43,  2.54s/it]\u001b[A\n",
      "Extracting features:  90%|█████████████████▉  | 138/154 [05:53<00:40,  2.53s/it]\u001b[A\n",
      "Extracting features:  90%|██████████████████  | 139/154 [05:56<00:37,  2.53s/it]\u001b[A\n",
      "Extracting features:  91%|██████████████████▏ | 140/154 [05:58<00:35,  2.52s/it]\u001b[A\n",
      "Extracting features:  92%|██████████████████▎ | 141/154 [06:01<00:32,  2.49s/it]\u001b[A\n",
      "Extracting features:  92%|██████████████████▍ | 142/154 [06:03<00:29,  2.49s/it]\u001b[A\n",
      "Extracting features:  93%|██████████████████▌ | 143/154 [06:06<00:27,  2.51s/it]\u001b[A\n",
      "Extracting features:  94%|██████████████████▋ | 144/154 [06:08<00:25,  2.51s/it]\u001b[A\n",
      "Extracting features:  94%|██████████████████▊ | 145/154 [06:11<00:22,  2.50s/it]\u001b[A\n",
      "Extracting features:  95%|██████████████████▉ | 146/154 [06:13<00:19,  2.48s/it]\u001b[A\n",
      "Extracting features:  95%|███████████████████ | 147/154 [06:16<00:17,  2.47s/it]\u001b[A\n",
      "Extracting features:  96%|███████████████████▏| 148/154 [06:18<00:14,  2.47s/it]\u001b[A\n",
      "Extracting features:  97%|███████████████████▎| 149/154 [06:21<00:12,  2.48s/it]\u001b[A\n",
      "Extracting features:  97%|███████████████████▍| 150/154 [06:23<00:09,  2.48s/it]\u001b[A\n",
      "Extracting features:  98%|███████████████████▌| 151/154 [06:26<00:07,  2.49s/it]\u001b[A\n",
      "Extracting features:  99%|███████████████████▋| 152/154 [06:28<00:04,  2.49s/it]\u001b[A\n",
      "Extracting features:  99%|███████████████████▊| 153/154 [06:31<00:02,  2.48s/it]\u001b[A\n",
      "Extracting features: 100%|████████████████████| 154/154 [06:33<00:00,  2.55s/it]\u001b[A\n",
      "INFO:trackastra.model.model_api:Building windows\n",
      "\n",
      "Building windows: 100%|█████████████████████| 151/151 [00:00<00:00, 4062.87it/s]\u001b[A\n",
      "INFO:trackastra.model.model_api:Predicting windows\n",
      "\n",
      "Computing associations:   0%|                           | 0/151 [00:00<?, ?it/s]\u001b[A\n",
      "Computing associations:   1%|▏                  | 1/151 [00:00<01:26,  1.73it/s]\u001b[A\n",
      "Computing associations:   1%|▎                  | 2/151 [00:01<01:16,  1.96it/s]\u001b[A\n",
      "Computing associations:   2%|▍                  | 3/151 [00:01<01:12,  2.05it/s]\u001b[A\n",
      "Computing associations:   3%|▌                  | 4/151 [00:01<01:10,  2.09it/s]\u001b[A\n",
      "Computing associations:   3%|▋                  | 5/151 [00:02<01:08,  2.12it/s]\u001b[A\n",
      "Computing associations:   4%|▊                  | 6/151 [00:02<01:08,  2.13it/s]\u001b[A\n",
      "Computing associations:   5%|▉                  | 7/151 [00:03<01:07,  2.14it/s]\u001b[A\n",
      "Computing associations:   5%|█                  | 8/151 [00:03<01:06,  2.14it/s]\u001b[A\n",
      "Computing associations:   6%|█▏                 | 9/151 [00:04<01:06,  2.13it/s]\u001b[A\n",
      "Computing associations:   7%|█▏                | 10/151 [00:04<01:05,  2.15it/s]\u001b[A\n",
      "Computing associations:   7%|█▎                | 11/151 [00:05<01:04,  2.16it/s]\u001b[A\n",
      "Computing associations:   8%|█▍                | 12/151 [00:05<01:03,  2.18it/s]\u001b[A\n",
      "Computing associations:   9%|█▌                | 13/151 [00:06<01:03,  2.19it/s]\u001b[A\n",
      "Computing associations:   9%|█▋                | 14/151 [00:06<01:01,  2.22it/s]\u001b[A\n",
      "Computing associations:  10%|█▊                | 15/151 [00:06<01:00,  2.23it/s]\u001b[A\n",
      "Computing associations:  11%|█▉                | 16/151 [00:07<00:59,  2.25it/s]\u001b[A\n",
      "Computing associations:  11%|██                | 17/151 [00:07<00:58,  2.28it/s]\u001b[A\n",
      "Computing associations:  12%|██▏               | 18/151 [00:08<00:58,  2.29it/s]\u001b[A\n",
      "Computing associations:  13%|██▎               | 19/151 [00:08<00:57,  2.31it/s]\u001b[A\n",
      "Computing associations:  13%|██▍               | 20/151 [00:09<00:56,  2.32it/s]\u001b[A\n",
      "Computing associations:  14%|██▌               | 21/151 [00:09<00:55,  2.34it/s]\u001b[A\n",
      "Computing associations:  15%|██▌               | 22/151 [00:09<00:54,  2.35it/s]\u001b[A\n",
      "Computing associations:  15%|██▋               | 23/151 [00:10<00:54,  2.36it/s]\u001b[A\n",
      "Computing associations:  16%|██▊               | 24/151 [00:10<00:53,  2.37it/s]\u001b[A\n",
      "Computing associations:  17%|██▉               | 25/151 [00:11<00:53,  2.35it/s]\u001b[A\n",
      "Computing associations:  17%|███               | 26/151 [00:11<00:52,  2.40it/s]\u001b[A\n",
      "Computing associations:  18%|███▏              | 27/151 [00:12<00:51,  2.39it/s]\u001b[A\n",
      "Computing associations:  19%|███▎              | 28/151 [00:12<00:51,  2.37it/s]\u001b[A\n",
      "Computing associations:  19%|███▍              | 29/151 [00:12<00:50,  2.42it/s]\u001b[A\n",
      "Computing associations:  20%|███▌              | 30/151 [00:13<00:50,  2.41it/s]\u001b[A\n",
      "Computing associations:  21%|███▋              | 31/151 [00:13<00:49,  2.41it/s]\u001b[A\n",
      "Computing associations:  21%|███▊              | 32/151 [00:14<00:48,  2.43it/s]\u001b[A\n",
      "Computing associations:  22%|███▉              | 33/151 [00:14<00:48,  2.43it/s]\u001b[A\n",
      "Computing associations:  23%|████              | 34/151 [00:14<00:48,  2.40it/s]\u001b[A\n",
      "Computing associations:  23%|████▏             | 35/151 [00:15<00:47,  2.44it/s]\u001b[A\n",
      "Computing associations:  24%|████▎             | 36/151 [00:15<00:46,  2.46it/s]\u001b[A\n",
      "Computing associations:  25%|████▍             | 37/151 [00:16<00:45,  2.49it/s]\u001b[A\n",
      "Computing associations:  25%|████▌             | 38/151 [00:16<00:44,  2.55it/s]\u001b[A\n",
      "Computing associations:  26%|████▋             | 39/151 [00:16<00:43,  2.58it/s]\u001b[A\n",
      "Computing associations:  26%|████▊             | 40/151 [00:17<00:42,  2.60it/s]\u001b[A\n",
      "Computing associations:  27%|████▉             | 41/151 [00:17<00:42,  2.61it/s]\u001b[A\n",
      "Computing associations:  28%|█████             | 42/151 [00:18<00:41,  2.61it/s]\u001b[A\n",
      "Computing associations:  28%|█████▏            | 43/151 [00:18<00:41,  2.60it/s]\u001b[A\n",
      "Computing associations:  29%|█████▏            | 44/151 [00:18<00:41,  2.55it/s]\u001b[A\n",
      "Computing associations:  30%|█████▎            | 45/151 [00:19<00:41,  2.54it/s]\u001b[A\n",
      "Computing associations:  30%|█████▍            | 46/151 [00:19<00:40,  2.60it/s]\u001b[A\n",
      "Computing associations:  31%|█████▌            | 47/151 [00:19<00:39,  2.66it/s]\u001b[A\n",
      "Computing associations:  32%|█████▋            | 48/151 [00:20<00:38,  2.68it/s]\u001b[A\n",
      "Computing associations:  32%|█████▊            | 49/151 [00:20<00:37,  2.72it/s]\u001b[A\n",
      "Computing associations:  33%|█████▉            | 50/151 [00:21<00:37,  2.72it/s]\u001b[A\n",
      "Computing associations:  34%|██████            | 51/151 [00:21<00:37,  2.69it/s]\u001b[A\n",
      "Computing associations:  34%|██████▏           | 52/151 [00:21<00:36,  2.71it/s]\u001b[A\n",
      "Computing associations:  35%|██████▎           | 53/151 [00:22<00:35,  2.73it/s]\u001b[A\n",
      "Computing associations:  36%|██████▍           | 54/151 [00:22<00:35,  2.74it/s]\u001b[A\n",
      "Computing associations:  36%|██████▌           | 55/151 [00:22<00:35,  2.74it/s]\u001b[A\n",
      "Computing associations:  37%|██████▋           | 56/151 [00:23<00:35,  2.68it/s]\u001b[A\n",
      "Computing associations:  38%|██████▊           | 57/151 [00:23<00:34,  2.70it/s]\u001b[A\n",
      "Computing associations:  38%|██████▉           | 58/151 [00:23<00:34,  2.70it/s]\u001b[A\n",
      "Computing associations:  39%|███████           | 59/151 [00:24<00:34,  2.69it/s]\u001b[A\n",
      "Computing associations:  40%|███████▏          | 60/151 [00:24<00:33,  2.70it/s]\u001b[A\n",
      "Computing associations:  40%|███████▎          | 61/151 [00:25<00:33,  2.72it/s]\u001b[A\n",
      "Computing associations:  41%|███████▍          | 62/151 [00:25<00:32,  2.75it/s]\u001b[A\n",
      "Computing associations:  42%|███████▌          | 63/151 [00:25<00:31,  2.76it/s]\u001b[A\n",
      "Computing associations:  42%|███████▋          | 64/151 [00:26<00:31,  2.75it/s]\u001b[A\n",
      "Computing associations:  43%|███████▋          | 65/151 [00:26<00:30,  2.80it/s]\u001b[A\n",
      "Computing associations:  44%|███████▊          | 66/151 [00:26<00:30,  2.83it/s]\u001b[A\n",
      "Computing associations:  44%|███████▉          | 67/151 [00:27<00:29,  2.87it/s]\u001b[A\n",
      "Computing associations:  45%|████████          | 68/151 [00:27<00:28,  2.92it/s]\u001b[A\n",
      "Computing associations:  46%|████████▏         | 69/151 [00:27<00:28,  2.92it/s]\u001b[A\n",
      "Computing associations:  46%|████████▎         | 70/151 [00:28<00:27,  2.95it/s]\u001b[A\n",
      "Computing associations:  47%|████████▍         | 71/151 [00:28<00:27,  2.90it/s]\u001b[A\n",
      "Computing associations:  48%|████████▌         | 72/151 [00:28<00:27,  2.89it/s]\u001b[A\n",
      "Computing associations:  48%|████████▋         | 73/151 [00:29<00:26,  2.93it/s]\u001b[A\n",
      "Computing associations:  49%|████████▊         | 74/151 [00:29<00:26,  2.95it/s]\u001b[A\n",
      "Computing associations:  50%|████████▉         | 75/151 [00:29<00:25,  3.00it/s]\u001b[A\n",
      "Computing associations:  50%|█████████         | 76/151 [00:30<00:24,  3.05it/s]\u001b[A\n",
      "Computing associations:  51%|█████████▏        | 77/151 [00:30<00:24,  3.04it/s]\u001b[A\n",
      "Computing associations:  52%|█████████▎        | 78/151 [00:30<00:24,  3.04it/s]\u001b[A\n",
      "Computing associations:  52%|█████████▍        | 79/151 [00:31<00:23,  3.01it/s]\u001b[A\n",
      "Computing associations:  53%|█████████▌        | 80/151 [00:31<00:23,  3.01it/s]\u001b[A\n",
      "Computing associations:  54%|█████████▋        | 81/151 [00:31<00:23,  3.02it/s]\u001b[A\n",
      "Computing associations:  54%|█████████▊        | 82/151 [00:32<00:22,  3.00it/s]\u001b[A\n",
      "Computing associations:  55%|█████████▉        | 83/151 [00:32<00:22,  3.02it/s]\u001b[A\n",
      "Computing associations:  56%|██████████        | 84/151 [00:32<00:22,  3.03it/s]\u001b[A\n",
      "Computing associations:  56%|██████████▏       | 85/151 [00:33<00:21,  3.06it/s]\u001b[A\n",
      "Computing associations:  57%|██████████▎       | 86/151 [00:33<00:21,  3.08it/s]\u001b[A\n",
      "Computing associations:  58%|██████████▎       | 87/151 [00:33<00:20,  3.06it/s]\u001b[A\n",
      "Computing associations:  58%|██████████▍       | 88/151 [00:34<00:20,  3.07it/s]\u001b[A\n",
      "Computing associations:  59%|██████████▌       | 89/151 [00:34<00:20,  2.99it/s]\u001b[A\n",
      "Computing associations:  60%|██████████▋       | 90/151 [00:34<00:20,  3.00it/s]\u001b[A\n",
      "Computing associations:  60%|██████████▊       | 91/151 [00:35<00:19,  3.06it/s]\u001b[A\n",
      "Computing associations:  61%|██████████▉       | 92/151 [00:35<00:19,  3.06it/s]\u001b[A\n",
      "Computing associations:  62%|███████████       | 93/151 [00:35<00:18,  3.06it/s]\u001b[A\n",
      "Computing associations:  62%|███████████▏      | 94/151 [00:36<00:18,  3.12it/s]\u001b[A\n",
      "Computing associations:  63%|███████████▎      | 95/151 [00:36<00:17,  3.19it/s]\u001b[A\n",
      "Computing associations:  64%|███████████▍      | 96/151 [00:36<00:17,  3.23it/s]\u001b[A\n",
      "Computing associations:  64%|███████████▌      | 97/151 [00:37<00:16,  3.23it/s]\u001b[A\n",
      "Computing associations:  65%|███████████▋      | 98/151 [00:37<00:16,  3.17it/s]\u001b[A\n",
      "Computing associations:  66%|███████████▊      | 99/151 [00:37<00:16,  3.16it/s]\u001b[A\n",
      "Computing associations:  66%|███████████▎     | 100/151 [00:37<00:15,  3.20it/s]\u001b[A\n",
      "Computing associations:  67%|███████████▎     | 101/151 [00:38<00:15,  3.23it/s]\u001b[A\n",
      "Computing associations:  68%|███████████▍     | 102/151 [00:38<00:14,  3.27it/s]\u001b[A\n",
      "Computing associations:  68%|███████████▌     | 103/151 [00:38<00:14,  3.32it/s]\u001b[A\n",
      "Computing associations:  69%|███████████▋     | 104/151 [00:39<00:14,  3.31it/s]\u001b[A\n",
      "Computing associations:  70%|███████████▊     | 105/151 [00:39<00:13,  3.30it/s]\u001b[A\n",
      "Computing associations:  70%|███████████▉     | 106/151 [00:39<00:13,  3.31it/s]\u001b[A\n",
      "Computing associations:  71%|████████████     | 107/151 [00:40<00:13,  3.34it/s]\u001b[A\n",
      "Computing associations:  72%|████████████▏    | 108/151 [00:40<00:12,  3.37it/s]\u001b[A\n",
      "Computing associations:  72%|████████████▎    | 109/151 [00:40<00:12,  3.39it/s]\u001b[A\n",
      "Computing associations:  73%|████████████▍    | 110/151 [00:40<00:11,  3.42it/s]\u001b[A\n",
      "Computing associations:  74%|████████████▍    | 111/151 [00:41<00:11,  3.42it/s]\u001b[A\n",
      "Computing associations:  74%|████████████▌    | 112/151 [00:41<00:11,  3.43it/s]\u001b[A\n",
      "Computing associations:  75%|████████████▋    | 113/151 [00:41<00:11,  3.44it/s]\u001b[A\n",
      "Computing associations:  75%|████████████▊    | 114/151 [00:42<00:10,  3.44it/s]\u001b[A\n",
      "Computing associations:  76%|████████████▉    | 115/151 [00:42<00:10,  3.38it/s]\u001b[A\n",
      "Computing associations:  77%|█████████████    | 116/151 [00:42<00:10,  3.40it/s]\u001b[A\n",
      "Computing associations:  77%|█████████████▏   | 117/151 [00:42<00:10,  3.40it/s]\u001b[A\n",
      "Computing associations:  78%|█████████████▎   | 118/151 [00:43<00:09,  3.31it/s]\u001b[A\n",
      "Computing associations:  79%|█████████████▍   | 119/151 [00:43<00:09,  3.32it/s]\u001b[A\n",
      "Computing associations:  79%|█████████████▌   | 120/151 [00:43<00:09,  3.35it/s]\u001b[A\n",
      "Computing associations:  80%|█████████████▌   | 121/151 [00:44<00:08,  3.39it/s]\u001b[A\n",
      "Computing associations:  81%|█████████████▋   | 122/151 [00:44<00:08,  3.41it/s]\u001b[A\n",
      "Computing associations:  81%|█████████████▊   | 123/151 [00:44<00:08,  3.43it/s]\u001b[A\n",
      "Computing associations:  82%|█████████████▉   | 124/151 [00:45<00:07,  3.42it/s]\u001b[A\n",
      "Computing associations:  83%|██████████████   | 125/151 [00:45<00:07,  3.41it/s]\u001b[A\n",
      "Computing associations:  83%|██████████████▏  | 126/151 [00:45<00:07,  3.43it/s]\u001b[A\n",
      "Computing associations:  84%|██████████████▎  | 127/151 [00:45<00:07,  3.42it/s]\u001b[A\n",
      "Computing associations:  85%|██████████████▍  | 128/151 [00:46<00:06,  3.42it/s]\u001b[A\n",
      "Computing associations:  85%|██████████████▌  | 129/151 [00:46<00:06,  3.43it/s]\u001b[A\n",
      "Computing associations:  86%|██████████████▋  | 130/151 [00:46<00:06,  3.44it/s]\u001b[A\n",
      "Computing associations:  87%|██████████████▋  | 131/151 [00:47<00:05,  3.45it/s]\u001b[A\n",
      "Computing associations:  87%|██████████████▊  | 132/151 [00:47<00:05,  3.49it/s]\u001b[A\n",
      "Computing associations:  88%|██████████████▉  | 133/151 [00:47<00:05,  3.52it/s]\u001b[A\n",
      "Computing associations:  89%|███████████████  | 134/151 [00:47<00:04,  3.51it/s]\u001b[A\n",
      "Computing associations:  89%|███████████████▏ | 135/151 [00:48<00:04,  3.54it/s]\u001b[A\n",
      "Computing associations:  90%|███████████████▎ | 136/151 [00:48<00:04,  3.54it/s]\u001b[A\n",
      "Computing associations:  91%|███████████████▍ | 137/151 [00:48<00:03,  3.54it/s]\u001b[A\n",
      "Computing associations:  91%|███████████████▌ | 138/151 [00:49<00:03,  3.53it/s]\u001b[A\n",
      "Computing associations:  92%|███████████████▋ | 139/151 [00:49<00:03,  3.53it/s]\u001b[A\n",
      "Computing associations:  93%|███████████████▊ | 140/151 [00:49<00:03,  3.50it/s]\u001b[A\n",
      "Computing associations:  93%|███████████████▊ | 141/151 [00:49<00:02,  3.56it/s]\u001b[A\n",
      "Computing associations:  94%|███████████████▉ | 142/151 [00:50<00:02,  3.55it/s]\u001b[A\n",
      "Computing associations:  95%|████████████████ | 143/151 [00:50<00:02,  3.59it/s]\u001b[A\n",
      "Computing associations:  95%|████████████████▏| 144/151 [00:50<00:01,  3.59it/s]\u001b[A\n",
      "Computing associations:  96%|████████████████▎| 145/151 [00:51<00:01,  3.52it/s]\u001b[A\n",
      "Computing associations:  97%|████████████████▍| 146/151 [00:51<00:01,  3.59it/s]\u001b[A\n",
      "Computing associations:  97%|████████████████▌| 147/151 [00:51<00:01,  3.63it/s]\u001b[A\n",
      "Computing associations:  98%|████████████████▋| 148/151 [00:51<00:00,  3.62it/s]\u001b[A\n",
      "Computing associations:  99%|████████████████▊| 149/151 [00:52<00:00,  3.62it/s]\u001b[A\n",
      "Computing associations:  99%|████████████████▉| 150/151 [00:52<00:00,  3.53it/s]\u001b[A\n",
      "Computing associations: 100%|█████████████████| 151/151 [00:52<00:00,  2.87it/s]\u001b[A\n",
      "INFO:trackastra.model.model_api:Running greedy tracker\n",
      "INFO:trackastra.tracking.tracking:Build candidate graph with delta_t=1\n",
      "\n",
      "  0%|                                                   | 0/154 [00:00<?, ?it/s]\u001b[A\n",
      "1218 edges in frame 0  Total edges: 1218:   0%|         | 0/154 [00:00<?, ?it/s]\u001b[A\n",
      "1218 edges in frame 0  Total edges: 1218:   1%| | 1/154 [00:00<01:34,  1.61it/s]\u001b[A\n",
      "1135 edges in frame 1  Total edges: 2353:   1%| | 1/154 [00:01<01:34,  1.61it/s]\u001b[A\n",
      "1135 edges in frame 1  Total edges: 2353:   1%| | 2/154 [00:01<01:33,  1.62it/s]\u001b[A\n",
      "1136 edges in frame 2  Total edges: 3489:   1%| | 2/154 [00:01<01:33,  1.62it/s]\u001b[A\n",
      "1136 edges in frame 2  Total edges: 3489:   2%| | 3/154 [00:01<01:31,  1.64it/s]\u001b[A\n",
      "1129 edges in frame 3  Total edges: 4618:   2%| | 3/154 [00:02<01:31,  1.64it/s]\u001b[A\n",
      "1129 edges in frame 3  Total edges: 4618:   3%| | 4/154 [00:02<01:29,  1.68it/s]\u001b[A\n",
      "1114 edges in frame 4  Total edges: 5732:   3%| | 4/154 [00:02<01:29,  1.68it/s]\u001b[A\n",
      "1114 edges in frame 4  Total edges: 5732:   3%| | 5/154 [00:02<01:26,  1.71it/s]\u001b[A\n",
      "1109 edges in frame 5  Total edges: 6841:   3%| | 5/154 [00:03<01:26,  1.71it/s]\u001b[A\n",
      "1109 edges in frame 5  Total edges: 6841:   4%| | 6/154 [00:03<01:25,  1.73it/s]\u001b[A\n",
      "1127 edges in frame 6  Total edges: 7968:   4%| | 6/154 [00:04<01:25,  1.73it/s]\u001b[A\n",
      "1127 edges in frame 6  Total edges: 7968:   5%| | 7/154 [00:04<02:01,  1.21it/s]\u001b[A\n",
      "1130 edges in frame 7  Total edges: 9098:   5%| | 7/154 [00:05<02:01,  1.21it/s]\u001b[A\n",
      "1130 edges in frame 7  Total edges: 9098:   5%| | 8/154 [00:05<01:49,  1.33it/s]\u001b[A\n",
      "1114 edges in frame 8  Total edges: 10212:   5%| | 8/154 [00:06<01:49,  1.33it/s\u001b[A\n",
      "1114 edges in frame 8  Total edges: 10212:   6%| | 9/154 [00:06<01:40,  1.44it/s\u001b[A\n",
      "1116 edges in frame 9  Total edges: 11328:   6%| | 9/154 [00:06<01:40,  1.44it/s\u001b[A\n",
      "1116 edges in frame 9  Total edges: 11328:   6%| | 10/154 [00:06<01:36,  1.49it/\u001b[A\n",
      "1128 edges in frame 10  Total edges: 12456:   6%| | 10/154 [00:07<01:36,  1.49it\u001b[A\n",
      "1128 edges in frame 10  Total edges: 12456:   7%| | 11/154 [00:07<01:34,  1.51it\u001b[A\n",
      "1123 edges in frame 11  Total edges: 13579:   7%| | 11/154 [00:07<01:34,  1.51it\u001b[A\n",
      "1123 edges in frame 11  Total edges: 13579:   8%| | 12/154 [00:07<01:31,  1.55it\u001b[A\n",
      "1074 edges in frame 12  Total edges: 14653:   8%| | 12/154 [00:08<01:31,  1.55it\u001b[A\n",
      "1074 edges in frame 12  Total edges: 14653:   8%| | 13/154 [00:08<01:27,  1.61it\u001b[A\n",
      "1101 edges in frame 13  Total edges: 15754:   8%| | 13/154 [00:09<01:27,  1.61it\u001b[A\n",
      "1101 edges in frame 13  Total edges: 15754:   9%| | 14/154 [00:09<01:23,  1.67it\u001b[A\n",
      "1102 edges in frame 14  Total edges: 16856:   9%| | 14/154 [00:09<01:23,  1.67it\u001b[A\n",
      "1102 edges in frame 14  Total edges: 16856:  10%| | 15/154 [00:09<01:23,  1.66it\u001b[A\n",
      "1090 edges in frame 15  Total edges: 17946:  10%| | 15/154 [00:10<01:23,  1.66it\u001b[A\n",
      "1090 edges in frame 15  Total edges: 17946:  10%| | 16/154 [00:10<01:22,  1.68it\u001b[A\n",
      "1131 edges in frame 16  Total edges: 19077:  10%| | 16/154 [00:10<01:22,  1.68it\u001b[A\n",
      "1131 edges in frame 16  Total edges: 19077:  11%| | 17/154 [00:10<01:21,  1.68it\u001b[A\n",
      "1093 edges in frame 17  Total edges: 20170:  11%| | 17/154 [00:11<01:21,  1.68it\u001b[A\n",
      "1093 edges in frame 17  Total edges: 20170:  12%| | 18/154 [00:11<01:18,  1.73it\u001b[A\n",
      "1081 edges in frame 18  Total edges: 21251:  12%| | 18/154 [00:11<01:18,  1.73it\u001b[A\n",
      "1081 edges in frame 18  Total edges: 21251:  12%| | 19/154 [00:11<01:15,  1.78it\u001b[A\n",
      "1099 edges in frame 19  Total edges: 22350:  12%| | 19/154 [00:12<01:15,  1.78it\u001b[A\n",
      "1099 edges in frame 19  Total edges: 22350:  13%|▏| 20/154 [00:12<01:16,  1.76it\u001b[A\n",
      "1098 edges in frame 20  Total edges: 23448:  13%|▏| 20/154 [00:13<01:16,  1.76it\u001b[A\n",
      "1098 edges in frame 20  Total edges: 23448:  14%|▏| 21/154 [00:13<01:15,  1.76it\u001b[A\n",
      "1119 edges in frame 21  Total edges: 24567:  14%|▏| 21/154 [00:13<01:15,  1.76it\u001b[A\n",
      "1119 edges in frame 21  Total edges: 24567:  14%|▏| 22/154 [00:13<01:13,  1.78it\u001b[A\n",
      "1092 edges in frame 22  Total edges: 25659:  14%|▏| 22/154 [00:14<01:13,  1.78it\u001b[A\n",
      "1092 edges in frame 22  Total edges: 25659:  15%|▏| 23/154 [00:14<01:12,  1.80it\u001b[A\n",
      "1084 edges in frame 23  Total edges: 26743:  15%|▏| 23/154 [00:14<01:12,  1.80it\u001b[A\n",
      "1084 edges in frame 23  Total edges: 26743:  16%|▏| 24/154 [00:14<01:13,  1.77it\u001b[A\n",
      "1082 edges in frame 24  Total edges: 27825:  16%|▏| 24/154 [00:15<01:13,  1.77it\u001b[A\n",
      "1082 edges in frame 24  Total edges: 27825:  16%|▏| 25/154 [00:15<01:12,  1.78it\u001b[A\n",
      "1096 edges in frame 25  Total edges: 28921:  16%|▏| 25/154 [00:15<01:12,  1.78it\u001b[A\n",
      "1096 edges in frame 25  Total edges: 28921:  17%|▏| 26/154 [00:15<01:10,  1.80it\u001b[A\n",
      "1114 edges in frame 26  Total edges: 30035:  17%|▏| 26/154 [00:16<01:10,  1.80it\u001b[A\n",
      "1114 edges in frame 26  Total edges: 30035:  18%|▏| 27/154 [00:16<01:10,  1.79it\u001b[A\n",
      "1059 edges in frame 27  Total edges: 31094:  18%|▏| 27/154 [00:16<01:10,  1.79it\u001b[A\n",
      "1059 edges in frame 27  Total edges: 31094:  18%|▏| 28/154 [00:16<01:10,  1.79it\u001b[A\n",
      "1060 edges in frame 28  Total edges: 32154:  18%|▏| 28/154 [00:17<01:10,  1.79it\u001b[A\n",
      "1060 edges in frame 28  Total edges: 32154:  19%|▏| 29/154 [00:17<01:07,  1.85it\u001b[A\n",
      "1106 edges in frame 29  Total edges: 33260:  19%|▏| 29/154 [00:17<01:07,  1.85it\u001b[A\n",
      "1106 edges in frame 29  Total edges: 33260:  19%|▏| 30/154 [00:17<01:07,  1.85it\u001b[A\n",
      "1110 edges in frame 30  Total edges: 34370:  19%|▏| 30/154 [00:18<01:07,  1.85it\u001b[A\n",
      "1110 edges in frame 30  Total edges: 34370:  20%|▏| 31/154 [00:18<01:08,  1.81it\u001b[A\n",
      "1102 edges in frame 31  Total edges: 35472:  20%|▏| 31/154 [00:19<01:08,  1.81it\u001b[A\n",
      "1102 edges in frame 31  Total edges: 35472:  21%|▏| 32/154 [00:19<01:08,  1.78it\u001b[A\n",
      "1109 edges in frame 32  Total edges: 36581:  21%|▏| 32/154 [00:19<01:08,  1.78it\u001b[A\n",
      "1109 edges in frame 32  Total edges: 36581:  21%|▏| 33/154 [00:19<01:07,  1.80it\u001b[A\n",
      "1083 edges in frame 33  Total edges: 37664:  21%|▏| 33/154 [00:20<01:07,  1.80it\u001b[A\n",
      "1083 edges in frame 33  Total edges: 37664:  22%|▏| 34/154 [00:20<01:07,  1.78it\u001b[A\n",
      "1057 edges in frame 34  Total edges: 38721:  22%|▏| 34/154 [00:20<01:07,  1.78it\u001b[A\n",
      "1057 edges in frame 34  Total edges: 38721:  23%|▏| 35/154 [00:20<01:05,  1.81it\u001b[A\n",
      "1132 edges in frame 35  Total edges: 39853:  23%|▏| 35/154 [00:21<01:05,  1.81it\u001b[A\n",
      "1132 edges in frame 35  Total edges: 39853:  23%|▏| 36/154 [00:21<01:04,  1.82it\u001b[A\n",
      "1130 edges in frame 36  Total edges: 40983:  23%|▏| 36/154 [00:21<01:04,  1.82it\u001b[A\n",
      "1130 edges in frame 36  Total edges: 40983:  24%|▏| 37/154 [00:21<01:03,  1.84it\u001b[A\n",
      "1126 edges in frame 37  Total edges: 42109:  24%|▏| 37/154 [00:22<01:03,  1.84it\u001b[A\n",
      "1126 edges in frame 37  Total edges: 42109:  25%|▏| 38/154 [00:22<01:02,  1.87it\u001b[A\n",
      "1124 edges in frame 38  Total edges: 43233:  25%|▏| 38/154 [00:22<01:02,  1.87it\u001b[A\n",
      "1124 edges in frame 38  Total edges: 43233:  25%|▎| 39/154 [00:22<01:00,  1.91it\u001b[A\n",
      "1083 edges in frame 39  Total edges: 44316:  25%|▎| 39/154 [00:23<01:00,  1.91it\u001b[A\n",
      "1083 edges in frame 39  Total edges: 44316:  26%|▎| 40/154 [00:23<00:58,  1.96it\u001b[A\n",
      "1075 edges in frame 40  Total edges: 45391:  26%|▎| 40/154 [00:23<00:58,  1.96it\u001b[A\n",
      "1075 edges in frame 40  Total edges: 45391:  27%|▎| 41/154 [00:23<00:56,  2.01it\u001b[A\n",
      "1126 edges in frame 41  Total edges: 46517:  27%|▎| 41/154 [00:24<00:56,  2.01it\u001b[A\n",
      "1126 edges in frame 41  Total edges: 46517:  27%|▎| 42/154 [00:24<00:57,  1.96it\u001b[A\n",
      "1156 edges in frame 42  Total edges: 47673:  27%|▎| 42/154 [00:24<00:57,  1.96it\u001b[A\n",
      "1156 edges in frame 42  Total edges: 47673:  28%|▎| 43/154 [00:24<00:55,  2.00it\u001b[A\n",
      "1129 edges in frame 43  Total edges: 48802:  28%|▎| 43/154 [00:25<00:55,  2.00it\u001b[A\n",
      "1129 edges in frame 43  Total edges: 48802:  29%|▎| 44/154 [00:25<00:56,  1.96it\u001b[A\n",
      "1097 edges in frame 44  Total edges: 49899:  29%|▎| 44/154 [00:25<00:56,  1.96it\u001b[A\n",
      "1097 edges in frame 44  Total edges: 49899:  29%|▎| 45/154 [00:25<00:54,  1.99it\u001b[A\n",
      "1081 edges in frame 45  Total edges: 50980:  29%|▎| 45/154 [00:26<00:54,  1.99it\u001b[A\n",
      "1081 edges in frame 45  Total edges: 50980:  30%|▎| 46/154 [00:26<00:53,  2.01it\u001b[A\n",
      "1071 edges in frame 46  Total edges: 52051:  30%|▎| 46/154 [00:26<00:53,  2.01it\u001b[A\n",
      "1071 edges in frame 46  Total edges: 52051:  31%|▎| 47/154 [00:26<00:54,  1.95it\u001b[A\n",
      "1081 edges in frame 47  Total edges: 53132:  31%|▎| 47/154 [00:27<00:54,  1.95it\u001b[A\n",
      "1081 edges in frame 47  Total edges: 53132:  31%|▎| 48/154 [00:27<00:53,  1.97it\u001b[A\n",
      "1073 edges in frame 48  Total edges: 54205:  31%|▎| 48/154 [00:27<00:53,  1.97it\u001b[A\n",
      "1073 edges in frame 48  Total edges: 54205:  32%|▎| 49/154 [00:27<00:52,  2.02it\u001b[A\n",
      "1048 edges in frame 49  Total edges: 55253:  32%|▎| 49/154 [00:28<00:52,  2.02it\u001b[A\n",
      "1048 edges in frame 49  Total edges: 55253:  32%|▎| 50/154 [00:28<00:51,  2.01it\u001b[A\n",
      "1071 edges in frame 50  Total edges: 56324:  32%|▎| 50/154 [00:28<00:51,  2.01it\u001b[A\n",
      "1071 edges in frame 50  Total edges: 56324:  33%|▎| 51/154 [00:28<00:51,  2.00it\u001b[A\n",
      "1037 edges in frame 51  Total edges: 57361:  33%|▎| 51/154 [00:29<00:51,  2.00it\u001b[A\n",
      "1037 edges in frame 51  Total edges: 57361:  34%|▎| 52/154 [00:29<00:51,  2.00it\u001b[A\n",
      "1049 edges in frame 52  Total edges: 58410:  34%|▎| 52/154 [00:29<00:51,  2.00it\u001b[A\n",
      "1049 edges in frame 52  Total edges: 58410:  34%|▎| 53/154 [00:29<00:49,  2.05it\u001b[A\n",
      "1047 edges in frame 53  Total edges: 59457:  34%|▎| 53/154 [00:30<00:49,  2.05it\u001b[A\n",
      "1047 edges in frame 53  Total edges: 59457:  35%|▎| 54/154 [00:30<00:48,  2.04it\u001b[A\n",
      "1036 edges in frame 54  Total edges: 60493:  35%|▎| 54/154 [00:30<00:48,  2.04it\u001b[A\n",
      "1036 edges in frame 54  Total edges: 60493:  36%|▎| 55/154 [00:30<00:50,  1.98it\u001b[A\n",
      "1020 edges in frame 55  Total edges: 61513:  36%|▎| 55/154 [00:31<00:50,  1.98it\u001b[A\n",
      "1020 edges in frame 55  Total edges: 61513:  36%|▎| 56/154 [00:31<00:48,  2.02it\u001b[A\n",
      "1030 edges in frame 56  Total edges: 62543:  36%|▎| 56/154 [00:31<00:48,  2.02it\u001b[A\n",
      "1030 edges in frame 56  Total edges: 62543:  37%|▎| 57/154 [00:31<00:46,  2.09it\u001b[A\n",
      "1038 edges in frame 57  Total edges: 63581:  37%|▎| 57/154 [00:32<00:46,  2.09it\u001b[A\n",
      "1038 edges in frame 57  Total edges: 63581:  38%|▍| 58/154 [00:32<00:47,  2.03it\u001b[A\n",
      "1048 edges in frame 58  Total edges: 64629:  38%|▍| 58/154 [00:32<00:47,  2.03it\u001b[A\n",
      "1048 edges in frame 58  Total edges: 64629:  38%|▍| 59/154 [00:32<00:45,  2.07it\u001b[A\n",
      "1072 edges in frame 59  Total edges: 65701:  38%|▍| 59/154 [00:33<00:45,  2.07it\u001b[A\n",
      "1072 edges in frame 59  Total edges: 65701:  39%|▍| 60/154 [00:33<00:44,  2.10it\u001b[A\n",
      "1032 edges in frame 60  Total edges: 66733:  39%|▍| 60/154 [00:33<00:44,  2.10it\u001b[A\n",
      "1032 edges in frame 60  Total edges: 66733:  40%|▍| 61/154 [00:33<00:44,  2.08it\u001b[A\n",
      "999 edges in frame 61  Total edges: 67732:  40%|▍| 61/154 [00:34<00:44,  2.08it/\u001b[A\n",
      "999 edges in frame 61  Total edges: 67732:  40%|▍| 62/154 [00:34<00:44,  2.06it/\u001b[A\n",
      "984 edges in frame 62  Total edges: 68716:  40%|▍| 62/154 [00:34<00:44,  2.06it/\u001b[A\n",
      "984 edges in frame 62  Total edges: 68716:  41%|▍| 63/154 [00:34<00:46,  1.95it/\u001b[A\n",
      "971 edges in frame 63  Total edges: 69687:  41%|▍| 63/154 [00:35<00:46,  1.95it/\u001b[A\n",
      "971 edges in frame 63  Total edges: 69687:  42%|▍| 64/154 [00:35<00:44,  2.00it/\u001b[A\n",
      "969 edges in frame 64  Total edges: 70656:  42%|▍| 64/154 [00:35<00:44,  2.00it/\u001b[A\n",
      "969 edges in frame 64  Total edges: 70656:  42%|▍| 65/154 [00:35<00:42,  2.09it/\u001b[A\n",
      "1005 edges in frame 65  Total edges: 71661:  42%|▍| 65/154 [00:36<00:42,  2.09it\u001b[A\n",
      "1005 edges in frame 65  Total edges: 71661:  43%|▍| 66/154 [00:36<00:41,  2.12it\u001b[A\n",
      "963 edges in frame 66  Total edges: 72624:  43%|▍| 66/154 [00:36<00:41,  2.12it/\u001b[A\n",
      "963 edges in frame 66  Total edges: 72624:  44%|▍| 67/154 [00:36<00:39,  2.18it/\u001b[A\n",
      "986 edges in frame 67  Total edges: 73610:  44%|▍| 67/154 [00:36<00:39,  2.18it/\u001b[A\n",
      "986 edges in frame 67  Total edges: 73610:  44%|▍| 68/154 [00:36<00:38,  2.21it/\u001b[A\n",
      "954 edges in frame 68  Total edges: 74564:  44%|▍| 68/154 [00:37<00:38,  2.21it/\u001b[A\n",
      "954 edges in frame 68  Total edges: 74564:  45%|▍| 69/154 [00:37<00:38,  2.20it/\u001b[A\n",
      "952 edges in frame 69  Total edges: 75516:  45%|▍| 69/154 [00:37<00:38,  2.20it/\u001b[A\n",
      "952 edges in frame 69  Total edges: 75516:  45%|▍| 70/154 [00:37<00:37,  2.23it/\u001b[A\n",
      "953 edges in frame 70  Total edges: 76469:  45%|▍| 70/154 [00:38<00:37,  2.23it/\u001b[A\n",
      "953 edges in frame 70  Total edges: 76469:  46%|▍| 71/154 [00:38<00:37,  2.24it/\u001b[A\n",
      "961 edges in frame 71  Total edges: 77430:  46%|▍| 71/154 [00:38<00:37,  2.24it/\u001b[A\n",
      "961 edges in frame 71  Total edges: 77430:  47%|▍| 72/154 [00:38<00:36,  2.22it/\u001b[A\n",
      "929 edges in frame 72  Total edges: 78359:  47%|▍| 72/154 [00:39<00:36,  2.22it/\u001b[A\n",
      "929 edges in frame 72  Total edges: 78359:  47%|▍| 73/154 [00:39<00:36,  2.23it/\u001b[A\n",
      "937 edges in frame 73  Total edges: 79296:  47%|▍| 73/154 [00:39<00:36,  2.23it/\u001b[A\n",
      "937 edges in frame 73  Total edges: 79296:  48%|▍| 74/154 [00:39<00:35,  2.25it/\u001b[A\n",
      "947 edges in frame 74  Total edges: 80243:  48%|▍| 74/154 [00:40<00:35,  2.25it/\u001b[A\n",
      "947 edges in frame 74  Total edges: 80243:  49%|▍| 75/154 [00:40<00:34,  2.26it/\u001b[A\n",
      "949 edges in frame 75  Total edges: 81192:  49%|▍| 75/154 [00:40<00:34,  2.26it/\u001b[A\n",
      "949 edges in frame 75  Total edges: 81192:  49%|▍| 76/154 [00:40<00:34,  2.24it/\u001b[A\n",
      "935 edges in frame 76  Total edges: 82127:  49%|▍| 76/154 [00:40<00:34,  2.24it/\u001b[A\n",
      "935 edges in frame 76  Total edges: 82127:  50%|▌| 77/154 [00:40<00:33,  2.29it/\u001b[A\n",
      "924 edges in frame 77  Total edges: 83051:  50%|▌| 77/154 [00:41<00:33,  2.29it/\u001b[A\n",
      "924 edges in frame 77  Total edges: 83051:  51%|▌| 78/154 [00:41<00:32,  2.33it/\u001b[A\n",
      "924 edges in frame 78  Total edges: 83975:  51%|▌| 78/154 [00:41<00:32,  2.33it/\u001b[A\n",
      "924 edges in frame 78  Total edges: 83975:  51%|▌| 79/154 [00:41<00:31,  2.36it/\u001b[A\n",
      "926 edges in frame 79  Total edges: 84901:  51%|▌| 79/154 [00:42<00:31,  2.36it/\u001b[A\n",
      "926 edges in frame 79  Total edges: 84901:  52%|▌| 80/154 [00:42<00:31,  2.36it/\u001b[A\n",
      "938 edges in frame 80  Total edges: 85839:  52%|▌| 80/154 [00:42<00:31,  2.36it/\u001b[A\n",
      "938 edges in frame 80  Total edges: 85839:  53%|▌| 81/154 [00:42<00:31,  2.31it/\u001b[A\n",
      "962 edges in frame 81  Total edges: 86801:  53%|▌| 81/154 [00:43<00:31,  2.31it/\u001b[A\n",
      "962 edges in frame 81  Total edges: 86801:  53%|▌| 82/154 [00:43<00:30,  2.33it/\u001b[A\n",
      "973 edges in frame 82  Total edges: 87774:  53%|▌| 82/154 [00:43<00:30,  2.33it/\u001b[A\n",
      "973 edges in frame 82  Total edges: 87774:  54%|▌| 83/154 [00:43<00:31,  2.27it/\u001b[A\n",
      "921 edges in frame 83  Total edges: 88695:  54%|▌| 83/154 [00:43<00:31,  2.27it/\u001b[A\n",
      "921 edges in frame 83  Total edges: 88695:  55%|▌| 84/154 [00:43<00:31,  2.24it/\u001b[A\n",
      "907 edges in frame 84  Total edges: 89602:  55%|▌| 84/154 [00:44<00:31,  2.24it/\u001b[A\n",
      "907 edges in frame 84  Total edges: 89602:  55%|▌| 85/154 [00:44<00:29,  2.31it/\u001b[A\n",
      "919 edges in frame 85  Total edges: 90521:  55%|▌| 85/154 [00:44<00:29,  2.31it/\u001b[A\n",
      "919 edges in frame 85  Total edges: 90521:  56%|▌| 86/154 [00:44<00:29,  2.28it/\u001b[A\n",
      "909 edges in frame 86  Total edges: 91430:  56%|▌| 86/154 [00:45<00:29,  2.28it/\u001b[A\n",
      "909 edges in frame 86  Total edges: 91430:  56%|▌| 87/154 [00:45<00:30,  2.23it/\u001b[A\n",
      "923 edges in frame 87  Total edges: 92353:  56%|▌| 87/154 [00:45<00:30,  2.23it/\u001b[A\n",
      "923 edges in frame 87  Total edges: 92353:  57%|▌| 88/154 [00:45<00:28,  2.29it/\u001b[A\n",
      "926 edges in frame 88  Total edges: 93279:  57%|▌| 88/154 [00:46<00:28,  2.29it/\u001b[A\n",
      "926 edges in frame 88  Total edges: 93279:  58%|▌| 89/154 [00:46<00:29,  2.24it/\u001b[A\n",
      "910 edges in frame 89  Total edges: 94189:  58%|▌| 89/154 [00:46<00:29,  2.24it/\u001b[A\n",
      "910 edges in frame 89  Total edges: 94189:  58%|▌| 90/154 [00:46<00:28,  2.25it/\u001b[A\n",
      "896 edges in frame 90  Total edges: 95085:  58%|▌| 90/154 [00:47<00:28,  2.25it/\u001b[A\n",
      "896 edges in frame 90  Total edges: 95085:  59%|▌| 91/154 [00:47<00:28,  2.24it/\u001b[A\n",
      "896 edges in frame 91  Total edges: 95981:  59%|▌| 91/154 [00:47<00:28,  2.24it/\u001b[A\n",
      "896 edges in frame 91  Total edges: 95981:  60%|▌| 92/154 [00:47<00:27,  2.29it/\u001b[A\n",
      "883 edges in frame 92  Total edges: 96864:  60%|▌| 92/154 [00:47<00:27,  2.29it/\u001b[A\n",
      "883 edges in frame 92  Total edges: 96864:  60%|▌| 93/154 [00:47<00:26,  2.32it/\u001b[A\n",
      "920 edges in frame 93  Total edges: 97784:  60%|▌| 93/154 [00:48<00:26,  2.32it/\u001b[A\n",
      "920 edges in frame 93  Total edges: 97784:  61%|▌| 94/154 [00:48<00:25,  2.32it/\u001b[A\n",
      "894 edges in frame 94  Total edges: 98678:  61%|▌| 94/154 [00:48<00:25,  2.32it/\u001b[A\n",
      "894 edges in frame 94  Total edges: 98678:  62%|▌| 95/154 [00:48<00:25,  2.28it/\u001b[A\n",
      "875 edges in frame 95  Total edges: 99553:  62%|▌| 95/154 [00:49<00:25,  2.28it/\u001b[A\n",
      "875 edges in frame 95  Total edges: 99553:  62%|▌| 96/154 [00:49<00:25,  2.27it/\u001b[A\n",
      "870 edges in frame 96  Total edges: 100423:  62%|▌| 96/154 [00:49<00:25,  2.27it\u001b[A\n",
      "870 edges in frame 96  Total edges: 100423:  63%|▋| 97/154 [00:49<00:24,  2.31it\u001b[A\n",
      "900 edges in frame 97  Total edges: 101323:  63%|▋| 97/154 [00:50<00:24,  2.31it\u001b[A\n",
      "900 edges in frame 97  Total edges: 101323:  64%|▋| 98/154 [00:50<00:23,  2.37it\u001b[A\n",
      "911 edges in frame 98  Total edges: 102234:  64%|▋| 98/154 [00:50<00:23,  2.37it\u001b[A\n",
      "911 edges in frame 98  Total edges: 102234:  64%|▋| 99/154 [00:50<00:23,  2.31it\u001b[A\n",
      "890 edges in frame 99  Total edges: 103124:  64%|▋| 99/154 [00:50<00:23,  2.31it\u001b[A\n",
      "890 edges in frame 99  Total edges: 103124:  65%|▋| 100/154 [00:50<00:22,  2.37i\u001b[A\n",
      "890 edges in frame 100  Total edges: 104014:  65%|▋| 100/154 [00:51<00:22,  2.37\u001b[A\n",
      "890 edges in frame 100  Total edges: 104014:  66%|▋| 101/154 [00:51<00:22,  2.38\u001b[A\n",
      "850 edges in frame 101  Total edges: 104864:  66%|▋| 101/154 [00:51<00:22,  2.38\u001b[A\n",
      "850 edges in frame 101  Total edges: 104864:  66%|▋| 102/154 [00:51<00:21,  2.40\u001b[A\n",
      "872 edges in frame 102  Total edges: 105736:  66%|▋| 102/154 [00:52<00:21,  2.40\u001b[A\n",
      "872 edges in frame 102  Total edges: 105736:  67%|▋| 103/154 [00:52<00:20,  2.46\u001b[A\n",
      "884 edges in frame 103  Total edges: 106620:  67%|▋| 103/154 [00:52<00:20,  2.46\u001b[A\n",
      "884 edges in frame 103  Total edges: 106620:  68%|▋| 104/154 [00:52<00:19,  2.50\u001b[A\n",
      "866 edges in frame 104  Total edges: 107486:  68%|▋| 104/154 [00:52<00:19,  2.50\u001b[A\n",
      "866 edges in frame 104  Total edges: 107486:  68%|▋| 105/154 [00:52<00:19,  2.46\u001b[A\n",
      "882 edges in frame 105  Total edges: 108368:  68%|▋| 105/154 [00:53<00:19,  2.46\u001b[A\n",
      "882 edges in frame 105  Total edges: 108368:  69%|▋| 106/154 [00:53<00:20,  2.39\u001b[A\n",
      "870 edges in frame 106  Total edges: 109238:  69%|▋| 106/154 [00:53<00:20,  2.39\u001b[A\n",
      "870 edges in frame 106  Total edges: 109238:  69%|▋| 107/154 [00:53<00:19,  2.45\u001b[A\n",
      "869 edges in frame 107  Total edges: 110107:  69%|▋| 107/154 [00:54<00:19,  2.45\u001b[A\n",
      "869 edges in frame 107  Total edges: 110107:  70%|▋| 108/154 [00:54<00:18,  2.50\u001b[A\n",
      "837 edges in frame 108  Total edges: 110944:  70%|▋| 108/154 [00:54<00:18,  2.50\u001b[A\n",
      "837 edges in frame 108  Total edges: 110944:  71%|▋| 109/154 [00:54<00:18,  2.45\u001b[A\n",
      "843 edges in frame 109  Total edges: 111787:  71%|▋| 109/154 [00:54<00:18,  2.45\u001b[A\n",
      "843 edges in frame 109  Total edges: 111787:  71%|▋| 110/154 [00:54<00:17,  2.48\u001b[A\n",
      "873 edges in frame 110  Total edges: 112660:  71%|▋| 110/154 [00:55<00:17,  2.48\u001b[A\n",
      "873 edges in frame 110  Total edges: 112660:  72%|▋| 111/154 [00:55<00:17,  2.49\u001b[A\n",
      "847 edges in frame 111  Total edges: 113507:  72%|▋| 111/154 [00:55<00:17,  2.49\u001b[A\n",
      "847 edges in frame 111  Total edges: 113507:  73%|▋| 112/154 [00:55<00:16,  2.54\u001b[A\n",
      "836 edges in frame 112  Total edges: 114343:  73%|▋| 112/154 [00:56<00:16,  2.54\u001b[A\n",
      "836 edges in frame 112  Total edges: 114343:  73%|▋| 113/154 [00:56<00:16,  2.51\u001b[A\n",
      "831 edges in frame 113  Total edges: 115174:  73%|▋| 113/154 [00:56<00:16,  2.51\u001b[A\n",
      "831 edges in frame 113  Total edges: 115174:  74%|▋| 114/154 [00:56<00:17,  2.32\u001b[A\n",
      "832 edges in frame 114  Total edges: 116006:  74%|▋| 114/154 [00:57<00:17,  2.32\u001b[A\n",
      "832 edges in frame 114  Total edges: 116006:  75%|▋| 115/154 [00:57<00:16,  2.37\u001b[A\n",
      "832 edges in frame 115  Total edges: 116838:  75%|▋| 115/154 [00:57<00:16,  2.37\u001b[A\n",
      "832 edges in frame 115  Total edges: 116838:  75%|▊| 116/154 [00:57<00:15,  2.45\u001b[A\n",
      "857 edges in frame 116  Total edges: 117695:  75%|▊| 116/154 [00:57<00:15,  2.45\u001b[A\n",
      "857 edges in frame 116  Total edges: 117695:  76%|▊| 117/154 [00:57<00:14,  2.51\u001b[A\n",
      "857 edges in frame 117  Total edges: 118552:  76%|▊| 117/154 [00:58<00:14,  2.51\u001b[A\n",
      "857 edges in frame 117  Total edges: 118552:  77%|▊| 118/154 [00:58<00:14,  2.52\u001b[A\n",
      "843 edges in frame 118  Total edges: 119395:  77%|▊| 118/154 [00:58<00:14,  2.52\u001b[A\n",
      "843 edges in frame 118  Total edges: 119395:  77%|▊| 119/154 [00:58<00:13,  2.51\u001b[A\n",
      "836 edges in frame 119  Total edges: 120231:  77%|▊| 119/154 [00:58<00:13,  2.51\u001b[A\n",
      "836 edges in frame 119  Total edges: 120231:  78%|▊| 120/154 [00:59<00:13,  2.51\u001b[A\n",
      "821 edges in frame 120  Total edges: 121052:  78%|▊| 120/154 [00:59<00:13,  2.51\u001b[A\n",
      "821 edges in frame 120  Total edges: 121052:  79%|▊| 121/154 [00:59<00:13,  2.51\u001b[A\n",
      "831 edges in frame 121  Total edges: 121883:  79%|▊| 121/154 [00:59<00:13,  2.51\u001b[A\n",
      "831 edges in frame 121  Total edges: 121883:  79%|▊| 122/154 [00:59<00:12,  2.50\u001b[A\n",
      "813 edges in frame 122  Total edges: 122696:  79%|▊| 122/154 [01:00<00:12,  2.50\u001b[A\n",
      "813 edges in frame 122  Total edges: 122696:  80%|▊| 123/154 [01:00<00:12,  2.57\u001b[A\n",
      "843 edges in frame 123  Total edges: 123539:  80%|▊| 123/154 [01:00<00:12,  2.57\u001b[A\n",
      "843 edges in frame 123  Total edges: 123539:  81%|▊| 124/154 [01:00<00:11,  2.62\u001b[A\n",
      "818 edges in frame 124  Total edges: 124357:  81%|▊| 124/154 [01:00<00:11,  2.62\u001b[A\n",
      "818 edges in frame 124  Total edges: 124357:  81%|▊| 125/154 [01:00<00:10,  2.65\u001b[A\n",
      "829 edges in frame 125  Total edges: 125186:  81%|▊| 125/154 [01:01<00:10,  2.65\u001b[A\n",
      "829 edges in frame 125  Total edges: 125186:  82%|▊| 126/154 [01:01<00:10,  2.61\u001b[A\n",
      "844 edges in frame 126  Total edges: 126030:  82%|▊| 126/154 [01:01<00:10,  2.61\u001b[A\n",
      "844 edges in frame 126  Total edges: 126030:  82%|▊| 127/154 [01:01<00:10,  2.50\u001b[A\n",
      "834 edges in frame 127  Total edges: 126864:  82%|▊| 127/154 [01:02<00:10,  2.50\u001b[A\n",
      "834 edges in frame 127  Total edges: 126864:  83%|▊| 128/154 [01:02<00:10,  2.51\u001b[A\n",
      "840 edges in frame 128  Total edges: 127704:  83%|▊| 128/154 [01:02<00:10,  2.51\u001b[A\n",
      "840 edges in frame 128  Total edges: 127704:  84%|▊| 129/154 [01:02<00:10,  2.48\u001b[A\n",
      "836 edges in frame 129  Total edges: 128540:  84%|▊| 129/154 [01:02<00:10,  2.48\u001b[A\n",
      "836 edges in frame 129  Total edges: 128540:  84%|▊| 130/154 [01:02<00:09,  2.50\u001b[A\n",
      "835 edges in frame 130  Total edges: 129375:  84%|▊| 130/154 [01:03<00:09,  2.50\u001b[A\n",
      "835 edges in frame 130  Total edges: 129375:  85%|▊| 131/154 [01:03<00:09,  2.51\u001b[A\n",
      "825 edges in frame 131  Total edges: 130200:  85%|▊| 131/154 [01:03<00:09,  2.51\u001b[A\n",
      "825 edges in frame 131  Total edges: 130200:  86%|▊| 132/154 [01:03<00:08,  2.58\u001b[A\n",
      "807 edges in frame 132  Total edges: 131007:  86%|▊| 132/154 [01:04<00:08,  2.58\u001b[A\n",
      "807 edges in frame 132  Total edges: 131007:  86%|▊| 133/154 [01:04<00:08,  2.53\u001b[A\n",
      "824 edges in frame 133  Total edges: 131831:  86%|▊| 133/154 [01:04<00:08,  2.53\u001b[A\n",
      "824 edges in frame 133  Total edges: 131831:  87%|▊| 134/154 [01:04<00:07,  2.53\u001b[A\n",
      "801 edges in frame 134  Total edges: 132632:  87%|▊| 134/154 [01:04<00:07,  2.53\u001b[A\n",
      "801 edges in frame 134  Total edges: 132632:  88%|▉| 135/154 [01:04<00:07,  2.59\u001b[A\n",
      "811 edges in frame 135  Total edges: 133443:  88%|▉| 135/154 [01:05<00:07,  2.59\u001b[A\n",
      "811 edges in frame 135  Total edges: 133443:  88%|▉| 136/154 [01:05<00:06,  2.59\u001b[A\n",
      "799 edges in frame 136  Total edges: 134242:  88%|▉| 136/154 [01:06<00:06,  2.59\u001b[A\n",
      "799 edges in frame 136  Total edges: 134242:  89%|▉| 137/154 [01:06<00:10,  1.66\u001b[A\n",
      "806 edges in frame 137  Total edges: 135048:  89%|▉| 137/154 [01:06<00:10,  1.66\u001b[A\n",
      "806 edges in frame 137  Total edges: 135048:  90%|▉| 138/154 [01:06<00:08,  1.92\u001b[A\n",
      "822 edges in frame 138  Total edges: 135870:  90%|▉| 138/154 [01:07<00:08,  1.92\u001b[A\n",
      "822 edges in frame 138  Total edges: 135870:  90%|▉| 139/154 [01:07<00:07,  2.11\u001b[A\n",
      "841 edges in frame 139  Total edges: 136711:  90%|▉| 139/154 [01:07<00:07,  2.11\u001b[A\n",
      "841 edges in frame 139  Total edges: 136711:  91%|▉| 140/154 [01:07<00:06,  2.20\u001b[A\n",
      "821 edges in frame 140  Total edges: 137532:  91%|▉| 140/154 [01:07<00:06,  2.20\u001b[A\n",
      "821 edges in frame 140  Total edges: 137532:  92%|▉| 141/154 [01:07<00:05,  2.28\u001b[A\n",
      "798 edges in frame 141  Total edges: 138330:  92%|▉| 141/154 [01:08<00:05,  2.28\u001b[A\n",
      "798 edges in frame 141  Total edges: 138330:  92%|▉| 142/154 [01:08<00:04,  2.41\u001b[A\n",
      "797 edges in frame 142  Total edges: 139127:  92%|▉| 142/154 [01:08<00:04,  2.41\u001b[A\n",
      "797 edges in frame 142  Total edges: 139127:  93%|▉| 143/154 [01:08<00:04,  2.52\u001b[A\n",
      "790 edges in frame 143  Total edges: 139917:  93%|▉| 143/154 [01:08<00:04,  2.52\u001b[A\n",
      "790 edges in frame 143  Total edges: 139917:  94%|▉| 144/154 [01:08<00:03,  2.60\u001b[A\n",
      "792 edges in frame 144  Total edges: 140709:  94%|▉| 144/154 [01:09<00:03,  2.60\u001b[A\n",
      "792 edges in frame 144  Total edges: 140709:  94%|▉| 145/154 [01:09<00:03,  2.67\u001b[A\n",
      "783 edges in frame 145  Total edges: 141492:  94%|▉| 145/154 [01:09<00:03,  2.67\u001b[A\n",
      "783 edges in frame 145  Total edges: 141492:  95%|▉| 146/154 [01:09<00:03,  2.57\u001b[A\n",
      "791 edges in frame 146  Total edges: 142283:  95%|▉| 146/154 [01:10<00:03,  2.57\u001b[A\n",
      "791 edges in frame 146  Total edges: 142283:  95%|▉| 147/154 [01:10<00:02,  2.60\u001b[A\n",
      "773 edges in frame 147  Total edges: 143056:  95%|▉| 147/154 [01:10<00:02,  2.60\u001b[A\n",
      "773 edges in frame 147  Total edges: 143056:  96%|▉| 148/154 [01:10<00:02,  2.68\u001b[A\n",
      "769 edges in frame 148  Total edges: 143825:  96%|▉| 148/154 [01:10<00:02,  2.68\u001b[A\n",
      "769 edges in frame 148  Total edges: 143825:  97%|▉| 149/154 [01:10<00:01,  2.64\u001b[A\n",
      "793 edges in frame 149  Total edges: 144618:  97%|▉| 149/154 [01:11<00:01,  2.64\u001b[A\n",
      "793 edges in frame 149  Total edges: 144618:  97%|▉| 150/154 [01:11<00:01,  2.72\u001b[A\n",
      "785 edges in frame 150  Total edges: 145403:  97%|▉| 150/154 [01:11<00:01,  2.72\u001b[A\n",
      "785 edges in frame 150  Total edges: 145403:  98%|▉| 151/154 [01:11<00:01,  2.71\u001b[A\n",
      "772 edges in frame 151  Total edges: 146175:  98%|▉| 151/154 [01:11<00:01,  2.71\u001b[A\n",
      "772 edges in frame 151  Total edges: 146175:  99%|▉| 152/154 [01:11<00:00,  2.66\u001b[A\n",
      "754 edges in frame 152  Total edges: 146929:  99%|▉| 152/154 [01:12<00:00,  2.66\u001b[A\n",
      "754 edges in frame 152  Total edges: 146929:  99%|▉| 153/154 [01:12<00:00,  2.68\u001b[A\n",
      "                                                                                \u001b[AINFO:trackastra.tracking.tracking:Added 134948 vertices, 146929 edges\n",
      "INFO:trackastra.tracking.tracking:Running greedy tracker\n",
      "\n",
      "Greedily matched edges:   0%|                        | 0/146929 [00:00<?, ?it/s]\u001b[A\n",
      "Greedily matched edges:   3%|▎         | 4215/146929 [00:00<00:03, 42140.40it/s]\u001b[A\n",
      "Greedily matched edges:   6%|▌         | 8947/146929 [00:00<00:03, 45184.24it/s]\u001b[A\n",
      "Greedily matched edges:  10%|▉        | 15322/146929 [00:00<00:02, 53657.86it/s]\u001b[A\n",
      "Greedily matched edges:  14%|█▎       | 20688/146929 [00:00<00:02, 51895.98it/s]\u001b[A\n",
      "Greedily matched edges:  18%|█▋       | 26925/146929 [00:00<00:02, 55588.87it/s]\u001b[A\n",
      "Greedily matched edges:  22%|██       | 32937/146929 [00:00<00:01, 57021.69it/s]\u001b[A\n",
      "Greedily matched edges:  26%|██▎      | 38650/146929 [00:00<00:01, 55520.09it/s]\u001b[A\n",
      "Greedily matched edges:  30%|██▋      | 44216/146929 [00:00<00:01, 53240.10it/s]\u001b[A\n",
      "Greedily matched edges:  35%|███      | 50827/146929 [00:00<00:01, 57073.71it/s]\u001b[A\n",
      "Greedily matched edges:  39%|███▍     | 56569/146929 [00:01<00:05, 15293.54it/s]\u001b[A\n",
      "Greedily matched edges:  43%|███▉     | 63320/146929 [00:02<00:04, 20640.95it/s]\u001b[A\n",
      "Greedily matched edges:  47%|████▎    | 69560/146929 [00:02<00:02, 25970.52it/s]\u001b[A\n",
      "Greedily matched edges:  51%|████▌    | 74897/146929 [00:02<00:02, 29848.61it/s]\u001b[A\n",
      "Greedily matched edges:  55%|████▉    | 81325/146929 [00:02<00:01, 36004.71it/s]\u001b[A\n",
      "Greedily matched edges:  60%|█████▍   | 88290/146929 [00:02<00:01, 42849.93it/s]\u001b[A\n",
      "Greedily matched edges:  65%|█████▊   | 95126/146929 [00:02<00:01, 48594.24it/s]\u001b[A\n",
      "Greedily matched edges:  69%|█████▌  | 102108/146929 [00:02<00:00, 53586.41it/s]\u001b[A\n",
      "Greedily matched edges:  75%|█████▉  | 109491/146929 [00:02<00:00, 58793.91it/s]\u001b[A\n",
      "Greedily matched edges:  79%|██████▎ | 116217/146929 [00:02<00:00, 58893.22it/s]\u001b[A\n",
      "Greedily matched edges:  88%|███████ | 128806/146929 [00:03<00:00, 42191.97it/s]\u001b[A\n",
      "\n",
      "  0%|                                                  | 0/8044 [00:00<?, ?it/s]\u001b[A\n",
      " 28%|██████████▏                         | 2267/8044 [00:00<00:00, 22652.04it/s]\u001b[A\n",
      " 59%|█████████████████████▏              | 4730/8044 [00:00<00:00, 23811.84it/s]\u001b[A\n",
      "100%|████████████████████████████████████| 8044/8044 [00:00<00:00, 25632.99it/s]\u001b[A\n"
     ]
    },
    {
     "data": {
      "application/vnd.jupyter.widget-view+json": {
       "model_id": "84674c79c903479485743cf3bd6ecfec",
       "version_major": 2,
       "version_minor": 0
      },
      "text/plain": [
       "iterating over tracks:   0%|          | 0/375 [00:00<?, ?it/s]"
      ]
     },
     "metadata": {},
     "output_type": "display_data"
    },
    {
     "data": {
      "application/vnd.jupyter.widget-view+json": {
       "model_id": "",
       "version_major": 2,
       "version_minor": 0
      },
      "text/plain": [
       "Iterating over frames for track ID 1:   0%|          | 0/92 [00:00<?, ?it/s]"
      ]
     },
     "metadata": {},
     "output_type": "display_data"
    },
    {
     "data": {
      "application/vnd.jupyter.widget-view+json": {
       "model_id": "",
       "version_major": 2,
       "version_minor": 0
      },
      "text/plain": [
       "Iterating over frames for track ID 3:   0%|          | 0/114 [00:00<?, ?it/s]"
      ]
     },
     "metadata": {},
     "output_type": "display_data"
    },
    {
     "data": {
      "application/vnd.jupyter.widget-view+json": {
       "model_id": "",
       "version_major": 2,
       "version_minor": 0
      },
      "text/plain": [
       "Iterating over frames for track ID 22:   0%|          | 0/96 [00:00<?, ?it/s]"
      ]
     },
     "metadata": {},
     "output_type": "display_data"
    },
    {
     "data": {
      "application/vnd.jupyter.widget-view+json": {
       "model_id": "",
       "version_major": 2,
       "version_minor": 0
      },
      "text/plain": [
       "Iterating over frames for track ID 39:   0%|          | 0/126 [00:00<?, ?it/s]"
      ]
     },
     "metadata": {},
     "output_type": "display_data"
    },
    {
     "data": {
      "application/vnd.jupyter.widget-view+json": {
       "model_id": "",
       "version_major": 2,
       "version_minor": 0
      },
      "text/plain": [
       "Iterating over frames for track ID 48:   0%|          | 0/85 [00:00<?, ?it/s]"
      ]
     },
     "metadata": {},
     "output_type": "display_data"
    },
    {
     "data": {
      "application/vnd.jupyter.widget-view+json": {
       "model_id": "",
       "version_major": 2,
       "version_minor": 0
      },
      "text/plain": [
       "Iterating over frames for track ID 129:   0%|          | 0/117 [00:00<?, ?it/s]"
      ]
     },
     "metadata": {},
     "output_type": "display_data"
    },
    {
     "data": {
      "application/vnd.jupyter.widget-view+json": {
       "model_id": "",
       "version_major": 2,
       "version_minor": 0
      },
      "text/plain": [
       "Iterating over frames for track ID 147:   0%|          | 0/154 [00:00<?, ?it/s]"
      ]
     },
     "metadata": {},
     "output_type": "display_data"
    },
    {
     "data": {
      "application/vnd.jupyter.widget-view+json": {
       "model_id": "",
       "version_major": 2,
       "version_minor": 0
      },
      "text/plain": [
       "Iterating over frames for track ID 194:   0%|          | 0/154 [00:00<?, ?it/s]"
      ]
     },
     "metadata": {},
     "output_type": "display_data"
    },
    {
     "data": {
      "application/vnd.jupyter.widget-view+json": {
       "model_id": "",
       "version_major": 2,
       "version_minor": 0
      },
      "text/plain": [
       "Iterating over frames for track ID 195:   0%|          | 0/89 [00:00<?, ?it/s]"
      ]
     },
     "metadata": {},
     "output_type": "display_data"
    },
    {
     "data": {
      "application/vnd.jupyter.widget-view+json": {
       "model_id": "",
       "version_major": 2,
       "version_minor": 0
      },
      "text/plain": [
       "Iterating over frames for track ID 207:   0%|          | 0/153 [00:00<?, ?it/s]"
      ]
     },
     "metadata": {},
     "output_type": "display_data"
    },
    {
     "data": {
      "application/vnd.jupyter.widget-view+json": {
       "model_id": "",
       "version_major": 2,
       "version_minor": 0
      },
      "text/plain": [
       "Iterating over frames for track ID 214:   0%|          | 0/119 [00:00<?, ?it/s]"
      ]
     },
     "metadata": {},
     "output_type": "display_data"
    },
    {
     "data": {
      "application/vnd.jupyter.widget-view+json": {
       "model_id": "",
       "version_major": 2,
       "version_minor": 0
      },
      "text/plain": [
       "Iterating over frames for track ID 241:   0%|          | 0/83 [00:00<?, ?it/s]"
      ]
     },
     "metadata": {},
     "output_type": "display_data"
    },
    {
     "data": {
      "application/vnd.jupyter.widget-view+json": {
       "model_id": "",
       "version_major": 2,
       "version_minor": 0
      },
      "text/plain": [
       "Iterating over frames for track ID 318:   0%|          | 0/81 [00:00<?, ?it/s]"
      ]
     },
     "metadata": {},
     "output_type": "display_data"
    },
    {
     "data": {
      "application/vnd.jupyter.widget-view+json": {
       "model_id": "",
       "version_major": 2,
       "version_minor": 0
      },
      "text/plain": [
       "Iterating over frames for track ID 323:   0%|          | 0/154 [00:00<?, ?it/s]"
      ]
     },
     "metadata": {},
     "output_type": "display_data"
    },
    {
     "data": {
      "application/vnd.jupyter.widget-view+json": {
       "model_id": "",
       "version_major": 2,
       "version_minor": 0
      },
      "text/plain": [
       "Iterating over frames for track ID 325:   0%|          | 0/154 [00:00<?, ?it/s]"
      ]
     },
     "metadata": {},
     "output_type": "display_data"
    },
    {
     "data": {
      "application/vnd.jupyter.widget-view+json": {
       "model_id": "",
       "version_major": 2,
       "version_minor": 0
      },
      "text/plain": [
       "Iterating over frames for track ID 385:   0%|          | 0/105 [00:00<?, ?it/s]"
      ]
     },
     "metadata": {},
     "output_type": "display_data"
    },
    {
     "data": {
      "application/vnd.jupyter.widget-view+json": {
       "model_id": "",
       "version_major": 2,
       "version_minor": 0
      },
      "text/plain": [
       "Iterating over frames for track ID 393:   0%|          | 0/129 [00:00<?, ?it/s]"
      ]
     },
     "metadata": {},
     "output_type": "display_data"
    },
    {
     "data": {
      "application/vnd.jupyter.widget-view+json": {
       "model_id": "",
       "version_major": 2,
       "version_minor": 0
      },
      "text/plain": [
       "Iterating over frames for track ID 430:   0%|          | 0/81 [00:00<?, ?it/s]"
      ]
     },
     "metadata": {},
     "output_type": "display_data"
    },
    {
     "data": {
      "application/vnd.jupyter.widget-view+json": {
       "model_id": "",
       "version_major": 2,
       "version_minor": 0
      },
      "text/plain": [
       "Iterating over frames for track ID 431:   0%|          | 0/136 [00:00<?, ?it/s]"
      ]
     },
     "metadata": {},
     "output_type": "display_data"
    },
    {
     "data": {
      "application/vnd.jupyter.widget-view+json": {
       "model_id": "",
       "version_major": 2,
       "version_minor": 0
      },
      "text/plain": [
       "Iterating over frames for track ID 444:   0%|          | 0/132 [00:00<?, ?it/s]"
      ]
     },
     "metadata": {},
     "output_type": "display_data"
    },
    {
     "data": {
      "application/vnd.jupyter.widget-view+json": {
       "model_id": "",
       "version_major": 2,
       "version_minor": 0
      },
      "text/plain": [
       "Iterating over frames for track ID 462:   0%|          | 0/119 [00:00<?, ?it/s]"
      ]
     },
     "metadata": {},
     "output_type": "display_data"
    },
    {
     "data": {
      "application/vnd.jupyter.widget-view+json": {
       "model_id": "",
       "version_major": 2,
       "version_minor": 0
      },
      "text/plain": [
       "Iterating over frames for track ID 463:   0%|          | 0/101 [00:00<?, ?it/s]"
      ]
     },
     "metadata": {},
     "output_type": "display_data"
    },
    {
     "data": {
      "application/vnd.jupyter.widget-view+json": {
       "model_id": "",
       "version_major": 2,
       "version_minor": 0
      },
      "text/plain": [
       "Iterating over frames for track ID 468:   0%|          | 0/109 [00:00<?, ?it/s]"
      ]
     },
     "metadata": {},
     "output_type": "display_data"
    },
    {
     "data": {
      "application/vnd.jupyter.widget-view+json": {
       "model_id": "",
       "version_major": 2,
       "version_minor": 0
      },
      "text/plain": [
       "Iterating over frames for track ID 542:   0%|          | 0/83 [00:00<?, ?it/s]"
      ]
     },
     "metadata": {},
     "output_type": "display_data"
    },
    {
     "data": {
      "application/vnd.jupyter.widget-view+json": {
       "model_id": "",
       "version_major": 2,
       "version_minor": 0
      },
      "text/plain": [
       "Iterating over frames for track ID 574:   0%|          | 0/154 [00:00<?, ?it/s]"
      ]
     },
     "metadata": {},
     "output_type": "display_data"
    },
    {
     "data": {
      "application/vnd.jupyter.widget-view+json": {
       "model_id": "",
       "version_major": 2,
       "version_minor": 0
      },
      "text/plain": [
       "Iterating over frames for track ID 576:   0%|          | 0/140 [00:00<?, ?it/s]"
      ]
     },
     "metadata": {},
     "output_type": "display_data"
    },
    {
     "data": {
      "application/vnd.jupyter.widget-view+json": {
       "model_id": "",
       "version_major": 2,
       "version_minor": 0
      },
      "text/plain": [
       "Iterating over frames for track ID 577:   0%|          | 0/102 [00:00<?, ?it/s]"
      ]
     },
     "metadata": {},
     "output_type": "display_data"
    },
    {
     "data": {
      "application/vnd.jupyter.widget-view+json": {
       "model_id": "",
       "version_major": 2,
       "version_minor": 0
      },
      "text/plain": [
       "Iterating over frames for track ID 588:   0%|          | 0/154 [00:00<?, ?it/s]"
      ]
     },
     "metadata": {},
     "output_type": "display_data"
    },
    {
     "data": {
      "application/vnd.jupyter.widget-view+json": {
       "model_id": "",
       "version_major": 2,
       "version_minor": 0
      },
      "text/plain": [
       "Iterating over frames for track ID 636:   0%|          | 0/116 [00:00<?, ?it/s]"
      ]
     },
     "metadata": {},
     "output_type": "display_data"
    },
    {
     "data": {
      "application/vnd.jupyter.widget-view+json": {
       "model_id": "",
       "version_major": 2,
       "version_minor": 0
      },
      "text/plain": [
       "Iterating over frames for track ID 650:   0%|          | 0/89 [00:00<?, ?it/s]"
      ]
     },
     "metadata": {},
     "output_type": "display_data"
    },
    {
     "data": {
      "application/vnd.jupyter.widget-view+json": {
       "model_id": "",
       "version_major": 2,
       "version_minor": 0
      },
      "text/plain": [
       "Iterating over frames for track ID 657:   0%|          | 0/135 [00:00<?, ?it/s]"
      ]
     },
     "metadata": {},
     "output_type": "display_data"
    },
    {
     "data": {
      "application/vnd.jupyter.widget-view+json": {
       "model_id": "",
       "version_major": 2,
       "version_minor": 0
      },
      "text/plain": [
       "Iterating over frames for track ID 663:   0%|          | 0/111 [00:00<?, ?it/s]"
      ]
     },
     "metadata": {},
     "output_type": "display_data"
    },
    {
     "data": {
      "application/vnd.jupyter.widget-view+json": {
       "model_id": "",
       "version_major": 2,
       "version_minor": 0
      },
      "text/plain": [
       "Iterating over frames for track ID 683:   0%|          | 0/142 [00:00<?, ?it/s]"
      ]
     },
     "metadata": {},
     "output_type": "display_data"
    },
    {
     "data": {
      "application/vnd.jupyter.widget-view+json": {
       "model_id": "",
       "version_major": 2,
       "version_minor": 0
      },
      "text/plain": [
       "Iterating over frames for track ID 691:   0%|          | 0/97 [00:00<?, ?it/s]"
      ]
     },
     "metadata": {},
     "output_type": "display_data"
    },
    {
     "data": {
      "application/vnd.jupyter.widget-view+json": {
       "model_id": "",
       "version_major": 2,
       "version_minor": 0
      },
      "text/plain": [
       "Iterating over frames for track ID 710:   0%|          | 0/90 [00:00<?, ?it/s]"
      ]
     },
     "metadata": {},
     "output_type": "display_data"
    },
    {
     "data": {
      "application/vnd.jupyter.widget-view+json": {
       "model_id": "",
       "version_major": 2,
       "version_minor": 0
      },
      "text/plain": [
       "Iterating over frames for track ID 714:   0%|          | 0/88 [00:00<?, ?it/s]"
      ]
     },
     "metadata": {},
     "output_type": "display_data"
    },
    {
     "data": {
      "application/vnd.jupyter.widget-view+json": {
       "model_id": "",
       "version_major": 2,
       "version_minor": 0
      },
      "text/plain": [
       "Iterating over frames for track ID 738:   0%|          | 0/93 [00:00<?, ?it/s]"
      ]
     },
     "metadata": {},
     "output_type": "display_data"
    },
    {
     "data": {
      "application/vnd.jupyter.widget-view+json": {
       "model_id": "",
       "version_major": 2,
       "version_minor": 0
      },
      "text/plain": [
       "Iterating over frames for track ID 743:   0%|          | 0/154 [00:00<?, ?it/s]"
      ]
     },
     "metadata": {},
     "output_type": "display_data"
    },
    {
     "data": {
      "application/vnd.jupyter.widget-view+json": {
       "model_id": "",
       "version_major": 2,
       "version_minor": 0
      },
      "text/plain": [
       "Iterating over frames for track ID 744:   0%|          | 0/154 [00:00<?, ?it/s]"
      ]
     },
     "metadata": {},
     "output_type": "display_data"
    },
    {
     "data": {
      "application/vnd.jupyter.widget-view+json": {
       "model_id": "",
       "version_major": 2,
       "version_minor": 0
      },
      "text/plain": [
       "Iterating over frames for track ID 753:   0%|          | 0/82 [00:00<?, ?it/s]"
      ]
     },
     "metadata": {},
     "output_type": "display_data"
    },
    {
     "data": {
      "application/vnd.jupyter.widget-view+json": {
       "model_id": "",
       "version_major": 2,
       "version_minor": 0
      },
      "text/plain": [
       "Iterating over frames for track ID 755:   0%|          | 0/97 [00:00<?, ?it/s]"
      ]
     },
     "metadata": {},
     "output_type": "display_data"
    },
    {
     "data": {
      "application/vnd.jupyter.widget-view+json": {
       "model_id": "",
       "version_major": 2,
       "version_minor": 0
      },
      "text/plain": [
       "Iterating over frames for track ID 758:   0%|          | 0/148 [00:00<?, ?it/s]"
      ]
     },
     "metadata": {},
     "output_type": "display_data"
    },
    {
     "data": {
      "application/vnd.jupyter.widget-view+json": {
       "model_id": "",
       "version_major": 2,
       "version_minor": 0
      },
      "text/plain": [
       "Iterating over frames for track ID 762:   0%|          | 0/130 [00:00<?, ?it/s]"
      ]
     },
     "metadata": {},
     "output_type": "display_data"
    },
    {
     "data": {
      "application/vnd.jupyter.widget-view+json": {
       "model_id": "",
       "version_major": 2,
       "version_minor": 0
      },
      "text/plain": [
       "Iterating over frames for track ID 772:   0%|          | 0/142 [00:00<?, ?it/s]"
      ]
     },
     "metadata": {},
     "output_type": "display_data"
    },
    {
     "data": {
      "application/vnd.jupyter.widget-view+json": {
       "model_id": "",
       "version_major": 2,
       "version_minor": 0
      },
      "text/plain": [
       "Iterating over frames for track ID 773:   0%|          | 0/108 [00:00<?, ?it/s]"
      ]
     },
     "metadata": {},
     "output_type": "display_data"
    },
    {
     "data": {
      "application/vnd.jupyter.widget-view+json": {
       "model_id": "",
       "version_major": 2,
       "version_minor": 0
      },
      "text/plain": [
       "Iterating over frames for track ID 843:   0%|          | 0/154 [00:00<?, ?it/s]"
      ]
     },
     "metadata": {},
     "output_type": "display_data"
    },
    {
     "data": {
      "application/vnd.jupyter.widget-view+json": {
       "model_id": "",
       "version_major": 2,
       "version_minor": 0
      },
      "text/plain": [
       "Iterating over frames for track ID 868:   0%|          | 0/154 [00:00<?, ?it/s]"
      ]
     },
     "metadata": {},
     "output_type": "display_data"
    },
    {
     "data": {
      "application/vnd.jupyter.widget-view+json": {
       "model_id": "",
       "version_major": 2,
       "version_minor": 0
      },
      "text/plain": [
       "Iterating over frames for track ID 874:   0%|          | 0/79 [00:00<?, ?it/s]"
      ]
     },
     "metadata": {},
     "output_type": "display_data"
    },
    {
     "data": {
      "application/vnd.jupyter.widget-view+json": {
       "model_id": "",
       "version_major": 2,
       "version_minor": 0
      },
      "text/plain": [
       "Iterating over frames for track ID 926:   0%|          | 0/154 [00:00<?, ?it/s]"
      ]
     },
     "metadata": {},
     "output_type": "display_data"
    },
    {
     "data": {
      "application/vnd.jupyter.widget-view+json": {
       "model_id": "",
       "version_major": 2,
       "version_minor": 0
      },
      "text/plain": [
       "Iterating over frames for track ID 977:   0%|          | 0/131 [00:00<?, ?it/s]"
      ]
     },
     "metadata": {},
     "output_type": "display_data"
    },
    {
     "data": {
      "application/vnd.jupyter.widget-view+json": {
       "model_id": "",
       "version_major": 2,
       "version_minor": 0
      },
      "text/plain": [
       "Iterating over frames for track ID 1005:   0%|          | 0/154 [00:00<?, ?it/s]"
      ]
     },
     "metadata": {},
     "output_type": "display_data"
    },
    {
     "data": {
      "application/vnd.jupyter.widget-view+json": {
       "model_id": "",
       "version_major": 2,
       "version_minor": 0
      },
      "text/plain": [
       "Iterating over frames for track ID 1006:   0%|          | 0/113 [00:00<?, ?it/s]"
      ]
     },
     "metadata": {},
     "output_type": "display_data"
    },
    {
     "data": {
      "application/vnd.jupyter.widget-view+json": {
       "model_id": "",
       "version_major": 2,
       "version_minor": 0
      },
      "text/plain": [
       "Iterating over frames for track ID 1018:   0%|          | 0/154 [00:00<?, ?it/s]"
      ]
     },
     "metadata": {},
     "output_type": "display_data"
    },
    {
     "data": {
      "application/vnd.jupyter.widget-view+json": {
       "model_id": "",
       "version_major": 2,
       "version_minor": 0
      },
      "text/plain": [
       "Iterating over frames for track ID 1049:   0%|          | 0/81 [00:00<?, ?it/s]"
      ]
     },
     "metadata": {},
     "output_type": "display_data"
    },
    {
     "data": {
      "application/vnd.jupyter.widget-view+json": {
       "model_id": "",
       "version_major": 2,
       "version_minor": 0
      },
      "text/plain": [
       "Iterating over frames for track ID 1061:   0%|          | 0/97 [00:00<?, ?it/s]"
      ]
     },
     "metadata": {},
     "output_type": "display_data"
    },
    {
     "data": {
      "application/vnd.jupyter.widget-view+json": {
       "model_id": "",
       "version_major": 2,
       "version_minor": 0
      },
      "text/plain": [
       "Iterating over frames for track ID 1075:   0%|          | 0/154 [00:00<?, ?it/s]"
      ]
     },
     "metadata": {},
     "output_type": "display_data"
    },
    {
     "data": {
      "application/vnd.jupyter.widget-view+json": {
       "model_id": "",
       "version_major": 2,
       "version_minor": 0
      },
      "text/plain": [
       "Iterating over frames for track ID 1076:   0%|          | 0/80 [00:00<?, ?it/s]"
      ]
     },
     "metadata": {},
     "output_type": "display_data"
    },
    {
     "data": {
      "application/vnd.jupyter.widget-view+json": {
       "model_id": "",
       "version_major": 2,
       "version_minor": 0
      },
      "text/plain": [
       "Iterating over frames for track ID 1082:   0%|          | 0/153 [00:00<?, ?it/s]"
      ]
     },
     "metadata": {},
     "output_type": "display_data"
    },
    {
     "data": {
      "application/vnd.jupyter.widget-view+json": {
       "model_id": "",
       "version_major": 2,
       "version_minor": 0
      },
      "text/plain": [
       "Iterating over frames for track ID 1095:   0%|          | 0/154 [00:00<?, ?it/s]"
      ]
     },
     "metadata": {},
     "output_type": "display_data"
    },
    {
     "data": {
      "application/vnd.jupyter.widget-view+json": {
       "model_id": "",
       "version_major": 2,
       "version_minor": 0
      },
      "text/plain": [
       "Iterating over frames for track ID 1105:   0%|          | 0/98 [00:00<?, ?it/s]"
      ]
     },
     "metadata": {},
     "output_type": "display_data"
    },
    {
     "data": {
      "application/vnd.jupyter.widget-view+json": {
       "model_id": "",
       "version_major": 2,
       "version_minor": 0
      },
      "text/plain": [
       "Iterating over frames for track ID 1113:   0%|          | 0/78 [00:00<?, ?it/s]"
      ]
     },
     "metadata": {},
     "output_type": "display_data"
    },
    {
     "data": {
      "application/vnd.jupyter.widget-view+json": {
       "model_id": "",
       "version_major": 2,
       "version_minor": 0
      },
      "text/plain": [
       "Iterating over frames for track ID 1116:   0%|          | 0/116 [00:00<?, ?it/s]"
      ]
     },
     "metadata": {},
     "output_type": "display_data"
    },
    {
     "data": {
      "application/vnd.jupyter.widget-view+json": {
       "model_id": "",
       "version_major": 2,
       "version_minor": 0
      },
      "text/plain": [
       "Iterating over frames for track ID 1127:   0%|          | 0/86 [00:00<?, ?it/s]"
      ]
     },
     "metadata": {},
     "output_type": "display_data"
    },
    {
     "data": {
      "application/vnd.jupyter.widget-view+json": {
       "model_id": "",
       "version_major": 2,
       "version_minor": 0
      },
      "text/plain": [
       "Iterating over frames for track ID 1137:   0%|          | 0/132 [00:00<?, ?it/s]"
      ]
     },
     "metadata": {},
     "output_type": "display_data"
    },
    {
     "data": {
      "application/vnd.jupyter.widget-view+json": {
       "model_id": "",
       "version_major": 2,
       "version_minor": 0
      },
      "text/plain": [
       "Iterating over frames for track ID 1143:   0%|          | 0/80 [00:00<?, ?it/s]"
      ]
     },
     "metadata": {},
     "output_type": "display_data"
    },
    {
     "data": {
      "application/vnd.jupyter.widget-view+json": {
       "model_id": "",
       "version_major": 2,
       "version_minor": 0
      },
      "text/plain": [
       "Iterating over frames for track ID 1166:   0%|          | 0/154 [00:00<?, ?it/s]"
      ]
     },
     "metadata": {},
     "output_type": "display_data"
    },
    {
     "data": {
      "application/vnd.jupyter.widget-view+json": {
       "model_id": "",
       "version_major": 2,
       "version_minor": 0
      },
      "text/plain": [
       "Iterating over frames for track ID 1180:   0%|          | 0/154 [00:00<?, ?it/s]"
      ]
     },
     "metadata": {},
     "output_type": "display_data"
    },
    {
     "data": {
      "application/vnd.jupyter.widget-view+json": {
       "model_id": "",
       "version_major": 2,
       "version_minor": 0
      },
      "text/plain": [
       "Iterating over frames for track ID 1196:   0%|          | 0/154 [00:00<?, ?it/s]"
      ]
     },
     "metadata": {},
     "output_type": "display_data"
    },
    {
     "data": {
      "application/vnd.jupyter.widget-view+json": {
       "model_id": "",
       "version_major": 2,
       "version_minor": 0
      },
      "text/plain": [
       "Iterating over frames for track ID 1219:   0%|          | 0/152 [00:00<?, ?it/s]"
      ]
     },
     "metadata": {},
     "output_type": "display_data"
    },
    {
     "data": {
      "application/vnd.jupyter.widget-view+json": {
       "model_id": "",
       "version_major": 2,
       "version_minor": 0
      },
      "text/plain": [
       "Iterating over frames for track ID 1261:   0%|          | 0/148 [00:00<?, ?it/s]"
      ]
     },
     "metadata": {},
     "output_type": "display_data"
    },
    {
     "data": {
      "application/vnd.jupyter.widget-view+json": {
       "model_id": "",
       "version_major": 2,
       "version_minor": 0
      },
      "text/plain": [
       "Iterating over frames for track ID 1270:   0%|          | 0/76 [00:00<?, ?it/s]"
      ]
     },
     "metadata": {},
     "output_type": "display_data"
    },
    {
     "data": {
      "application/vnd.jupyter.widget-view+json": {
       "model_id": "",
       "version_major": 2,
       "version_minor": 0
      },
      "text/plain": [
       "Iterating over frames for track ID 1284:   0%|          | 0/154 [00:00<?, ?it/s]"
      ]
     },
     "metadata": {},
     "output_type": "display_data"
    },
    {
     "data": {
      "application/vnd.jupyter.widget-view+json": {
       "model_id": "",
       "version_major": 2,
       "version_minor": 0
      },
      "text/plain": [
       "Iterating over frames for track ID 1324:   0%|          | 0/112 [00:00<?, ?it/s]"
      ]
     },
     "metadata": {},
     "output_type": "display_data"
    },
    {
     "data": {
      "application/vnd.jupyter.widget-view+json": {
       "model_id": "",
       "version_major": 2,
       "version_minor": 0
      },
      "text/plain": [
       "Iterating over frames for track ID 1328:   0%|          | 0/154 [00:00<?, ?it/s]"
      ]
     },
     "metadata": {},
     "output_type": "display_data"
    },
    {
     "data": {
      "application/vnd.jupyter.widget-view+json": {
       "model_id": "",
       "version_major": 2,
       "version_minor": 0
      },
      "text/plain": [
       "Iterating over frames for track ID 1338:   0%|          | 0/154 [00:00<?, ?it/s]"
      ]
     },
     "metadata": {},
     "output_type": "display_data"
    },
    {
     "data": {
      "application/vnd.jupyter.widget-view+json": {
       "model_id": "",
       "version_major": 2,
       "version_minor": 0
      },
      "text/plain": [
       "Iterating over frames for track ID 1341:   0%|          | 0/82 [00:00<?, ?it/s]"
      ]
     },
     "metadata": {},
     "output_type": "display_data"
    },
    {
     "data": {
      "application/vnd.jupyter.widget-view+json": {
       "model_id": "",
       "version_major": 2,
       "version_minor": 0
      },
      "text/plain": [
       "Iterating over frames for track ID 1356:   0%|          | 0/106 [00:00<?, ?it/s]"
      ]
     },
     "metadata": {},
     "output_type": "display_data"
    },
    {
     "data": {
      "application/vnd.jupyter.widget-view+json": {
       "model_id": "",
       "version_major": 2,
       "version_minor": 0
      },
      "text/plain": [
       "Iterating over frames for track ID 1375:   0%|          | 0/154 [00:00<?, ?it/s]"
      ]
     },
     "metadata": {},
     "output_type": "display_data"
    },
    {
     "data": {
      "application/vnd.jupyter.widget-view+json": {
       "model_id": "",
       "version_major": 2,
       "version_minor": 0
      },
      "text/plain": [
       "Iterating over frames for track ID 1379:   0%|          | 0/76 [00:00<?, ?it/s]"
      ]
     },
     "metadata": {},
     "output_type": "display_data"
    },
    {
     "data": {
      "application/vnd.jupyter.widget-view+json": {
       "model_id": "",
       "version_major": 2,
       "version_minor": 0
      },
      "text/plain": [
       "Iterating over frames for track ID 1414:   0%|          | 0/96 [00:00<?, ?it/s]"
      ]
     },
     "metadata": {},
     "output_type": "display_data"
    },
    {
     "data": {
      "application/vnd.jupyter.widget-view+json": {
       "model_id": "",
       "version_major": 2,
       "version_minor": 0
      },
      "text/plain": [
       "Iterating over frames for track ID 1419:   0%|          | 0/154 [00:00<?, ?it/s]"
      ]
     },
     "metadata": {},
     "output_type": "display_data"
    },
    {
     "data": {
      "application/vnd.jupyter.widget-view+json": {
       "model_id": "",
       "version_major": 2,
       "version_minor": 0
      },
      "text/plain": [
       "Iterating over frames for track ID 1423:   0%|          | 0/154 [00:00<?, ?it/s]"
      ]
     },
     "metadata": {},
     "output_type": "display_data"
    },
    {
     "data": {
      "application/vnd.jupyter.widget-view+json": {
       "model_id": "",
       "version_major": 2,
       "version_minor": 0
      },
      "text/plain": [
       "Iterating over frames for track ID 1430:   0%|          | 0/102 [00:00<?, ?it/s]"
      ]
     },
     "metadata": {},
     "output_type": "display_data"
    },
    {
     "data": {
      "application/vnd.jupyter.widget-view+json": {
       "model_id": "",
       "version_major": 2,
       "version_minor": 0
      },
      "text/plain": [
       "Iterating over frames for track ID 1469:   0%|          | 0/151 [00:00<?, ?it/s]"
      ]
     },
     "metadata": {},
     "output_type": "display_data"
    },
    {
     "data": {
      "application/vnd.jupyter.widget-view+json": {
       "model_id": "",
       "version_major": 2,
       "version_minor": 0
      },
      "text/plain": [
       "Iterating over frames for track ID 1482:   0%|          | 0/153 [00:00<?, ?it/s]"
      ]
     },
     "metadata": {},
     "output_type": "display_data"
    },
    {
     "data": {
      "application/vnd.jupyter.widget-view+json": {
       "model_id": "",
       "version_major": 2,
       "version_minor": 0
      },
      "text/plain": [
       "Iterating over frames for track ID 1538:   0%|          | 0/146 [00:00<?, ?it/s]"
      ]
     },
     "metadata": {},
     "output_type": "display_data"
    },
    {
     "data": {
      "application/vnd.jupyter.widget-view+json": {
       "model_id": "",
       "version_major": 2,
       "version_minor": 0
      },
      "text/plain": [
       "Iterating over frames for track ID 1553:   0%|          | 0/154 [00:00<?, ?it/s]"
      ]
     },
     "metadata": {},
     "output_type": "display_data"
    },
    {
     "data": {
      "application/vnd.jupyter.widget-view+json": {
       "model_id": "",
       "version_major": 2,
       "version_minor": 0
      },
      "text/plain": [
       "Iterating over frames for track ID 1567:   0%|          | 0/154 [00:00<?, ?it/s]"
      ]
     },
     "metadata": {},
     "output_type": "display_data"
    },
    {
     "data": {
      "application/vnd.jupyter.widget-view+json": {
       "model_id": "",
       "version_major": 2,
       "version_minor": 0
      },
      "text/plain": [
       "Iterating over frames for track ID 1603:   0%|          | 0/154 [00:00<?, ?it/s]"
      ]
     },
     "metadata": {},
     "output_type": "display_data"
    },
    {
     "data": {
      "application/vnd.jupyter.widget-view+json": {
       "model_id": "",
       "version_major": 2,
       "version_minor": 0
      },
      "text/plain": [
       "Iterating over frames for track ID 1611:   0%|          | 0/153 [00:00<?, ?it/s]"
      ]
     },
     "metadata": {},
     "output_type": "display_data"
    },
    {
     "data": {
      "application/vnd.jupyter.widget-view+json": {
       "model_id": "",
       "version_major": 2,
       "version_minor": 0
      },
      "text/plain": [
       "Iterating over frames for track ID 1620:   0%|          | 0/85 [00:00<?, ?it/s]"
      ]
     },
     "metadata": {},
     "output_type": "display_data"
    },
    {
     "data": {
      "application/vnd.jupyter.widget-view+json": {
       "model_id": "",
       "version_major": 2,
       "version_minor": 0
      },
      "text/plain": [
       "Iterating over frames for track ID 1633:   0%|          | 0/144 [00:00<?, ?it/s]"
      ]
     },
     "metadata": {},
     "output_type": "display_data"
    },
    {
     "data": {
      "application/vnd.jupyter.widget-view+json": {
       "model_id": "",
       "version_major": 2,
       "version_minor": 0
      },
      "text/plain": [
       "Iterating over frames for track ID 1671:   0%|          | 0/154 [00:00<?, ?it/s]"
      ]
     },
     "metadata": {},
     "output_type": "display_data"
    },
    {
     "data": {
      "application/vnd.jupyter.widget-view+json": {
       "model_id": "",
       "version_major": 2,
       "version_minor": 0
      },
      "text/plain": [
       "Iterating over frames for track ID 1675:   0%|          | 0/85 [00:00<?, ?it/s]"
      ]
     },
     "metadata": {},
     "output_type": "display_data"
    },
    {
     "data": {
      "application/vnd.jupyter.widget-view+json": {
       "model_id": "",
       "version_major": 2,
       "version_minor": 0
      },
      "text/plain": [
       "Iterating over frames for track ID 1701:   0%|          | 0/123 [00:00<?, ?it/s]"
      ]
     },
     "metadata": {},
     "output_type": "display_data"
    },
    {
     "data": {
      "application/vnd.jupyter.widget-view+json": {
       "model_id": "",
       "version_major": 2,
       "version_minor": 0
      },
      "text/plain": [
       "Iterating over frames for track ID 1705:   0%|          | 0/141 [00:00<?, ?it/s]"
      ]
     },
     "metadata": {},
     "output_type": "display_data"
    },
    {
     "data": {
      "application/vnd.jupyter.widget-view+json": {
       "model_id": "",
       "version_major": 2,
       "version_minor": 0
      },
      "text/plain": [
       "Iterating over frames for track ID 1717:   0%|          | 0/154 [00:00<?, ?it/s]"
      ]
     },
     "metadata": {},
     "output_type": "display_data"
    },
    {
     "data": {
      "application/vnd.jupyter.widget-view+json": {
       "model_id": "",
       "version_major": 2,
       "version_minor": 0
      },
      "text/plain": [
       "Iterating over frames for track ID 1718:   0%|          | 0/76 [00:00<?, ?it/s]"
      ]
     },
     "metadata": {},
     "output_type": "display_data"
    },
    {
     "data": {
      "application/vnd.jupyter.widget-view+json": {
       "model_id": "",
       "version_major": 2,
       "version_minor": 0
      },
      "text/plain": [
       "Iterating over frames for track ID 1726:   0%|          | 0/140 [00:00<?, ?it/s]"
      ]
     },
     "metadata": {},
     "output_type": "display_data"
    },
    {
     "data": {
      "application/vnd.jupyter.widget-view+json": {
       "model_id": "",
       "version_major": 2,
       "version_minor": 0
      },
      "text/plain": [
       "Iterating over frames for track ID 1736:   0%|          | 0/154 [00:00<?, ?it/s]"
      ]
     },
     "metadata": {},
     "output_type": "display_data"
    },
    {
     "data": {
      "application/vnd.jupyter.widget-view+json": {
       "model_id": "",
       "version_major": 2,
       "version_minor": 0
      },
      "text/plain": [
       "Iterating over frames for track ID 1790:   0%|          | 0/121 [00:00<?, ?it/s]"
      ]
     },
     "metadata": {},
     "output_type": "display_data"
    },
    {
     "data": {
      "application/vnd.jupyter.widget-view+json": {
       "model_id": "",
       "version_major": 2,
       "version_minor": 0
      },
      "text/plain": [
       "Iterating over frames for track ID 1797:   0%|          | 0/81 [00:00<?, ?it/s]"
      ]
     },
     "metadata": {},
     "output_type": "display_data"
    },
    {
     "data": {
      "application/vnd.jupyter.widget-view+json": {
       "model_id": "",
       "version_major": 2,
       "version_minor": 0
      },
      "text/plain": [
       "Iterating over frames for track ID 1799:   0%|          | 0/154 [00:00<?, ?it/s]"
      ]
     },
     "metadata": {},
     "output_type": "display_data"
    },
    {
     "data": {
      "application/vnd.jupyter.widget-view+json": {
       "model_id": "",
       "version_major": 2,
       "version_minor": 0
      },
      "text/plain": [
       "Iterating over frames for track ID 1808:   0%|          | 0/80 [00:00<?, ?it/s]"
      ]
     },
     "metadata": {},
     "output_type": "display_data"
    },
    {
     "data": {
      "application/vnd.jupyter.widget-view+json": {
       "model_id": "",
       "version_major": 2,
       "version_minor": 0
      },
      "text/plain": [
       "Iterating over frames for track ID 1863:   0%|          | 0/136 [00:00<?, ?it/s]"
      ]
     },
     "metadata": {},
     "output_type": "display_data"
    },
    {
     "data": {
      "application/vnd.jupyter.widget-view+json": {
       "model_id": "",
       "version_major": 2,
       "version_minor": 0
      },
      "text/plain": [
       "Iterating over frames for track ID 1923:   0%|          | 0/154 [00:00<?, ?it/s]"
      ]
     },
     "metadata": {},
     "output_type": "display_data"
    },
    {
     "data": {
      "application/vnd.jupyter.widget-view+json": {
       "model_id": "",
       "version_major": 2,
       "version_minor": 0
      },
      "text/plain": [
       "Iterating over frames for track ID 1990:   0%|          | 0/154 [00:00<?, ?it/s]"
      ]
     },
     "metadata": {},
     "output_type": "display_data"
    },
    {
     "data": {
      "application/vnd.jupyter.widget-view+json": {
       "model_id": "",
       "version_major": 2,
       "version_minor": 0
      },
      "text/plain": [
       "Iterating over frames for track ID 2028:   0%|          | 0/154 [00:00<?, ?it/s]"
      ]
     },
     "metadata": {},
     "output_type": "display_data"
    },
    {
     "data": {
      "application/vnd.jupyter.widget-view+json": {
       "model_id": "",
       "version_major": 2,
       "version_minor": 0
      },
      "text/plain": [
       "Iterating over frames for track ID 2035:   0%|          | 0/83 [00:00<?, ?it/s]"
      ]
     },
     "metadata": {},
     "output_type": "display_data"
    },
    {
     "data": {
      "application/vnd.jupyter.widget-view+json": {
       "model_id": "",
       "version_major": 2,
       "version_minor": 0
      },
      "text/plain": [
       "Iterating over frames for track ID 2049:   0%|          | 0/134 [00:00<?, ?it/s]"
      ]
     },
     "metadata": {},
     "output_type": "display_data"
    },
    {
     "data": {
      "application/vnd.jupyter.widget-view+json": {
       "model_id": "",
       "version_major": 2,
       "version_minor": 0
      },
      "text/plain": [
       "Iterating over frames for track ID 2058:   0%|          | 0/81 [00:00<?, ?it/s]"
      ]
     },
     "metadata": {},
     "output_type": "display_data"
    },
    {
     "data": {
      "application/vnd.jupyter.widget-view+json": {
       "model_id": "",
       "version_major": 2,
       "version_minor": 0
      },
      "text/plain": [
       "Iterating over frames for track ID 2079:   0%|          | 0/132 [00:00<?, ?it/s]"
      ]
     },
     "metadata": {},
     "output_type": "display_data"
    },
    {
     "data": {
      "application/vnd.jupyter.widget-view+json": {
       "model_id": "",
       "version_major": 2,
       "version_minor": 0
      },
      "text/plain": [
       "Iterating over frames for track ID 2080:   0%|          | 0/83 [00:00<?, ?it/s]"
      ]
     },
     "metadata": {},
     "output_type": "display_data"
    },
    {
     "data": {
      "application/vnd.jupyter.widget-view+json": {
       "model_id": "",
       "version_major": 2,
       "version_minor": 0
      },
      "text/plain": [
       "Iterating over frames for track ID 2109:   0%|          | 0/115 [00:00<?, ?it/s]"
      ]
     },
     "metadata": {},
     "output_type": "display_data"
    },
    {
     "data": {
      "application/vnd.jupyter.widget-view+json": {
       "model_id": "",
       "version_major": 2,
       "version_minor": 0
      },
      "text/plain": [
       "Iterating over frames for track ID 2114:   0%|          | 0/89 [00:00<?, ?it/s]"
      ]
     },
     "metadata": {},
     "output_type": "display_data"
    },
    {
     "data": {
      "application/vnd.jupyter.widget-view+json": {
       "model_id": "",
       "version_major": 2,
       "version_minor": 0
      },
      "text/plain": [
       "Iterating over frames for track ID 2143:   0%|          | 0/86 [00:00<?, ?it/s]"
      ]
     },
     "metadata": {},
     "output_type": "display_data"
    },
    {
     "data": {
      "application/vnd.jupyter.widget-view+json": {
       "model_id": "",
       "version_major": 2,
       "version_minor": 0
      },
      "text/plain": [
       "Iterating over frames for track ID 2157:   0%|          | 0/103 [00:00<?, ?it/s]"
      ]
     },
     "metadata": {},
     "output_type": "display_data"
    },
    {
     "data": {
      "application/vnd.jupyter.widget-view+json": {
       "model_id": "",
       "version_major": 2,
       "version_minor": 0
      },
      "text/plain": [
       "Iterating over frames for track ID 2163:   0%|          | 0/76 [00:00<?, ?it/s]"
      ]
     },
     "metadata": {},
     "output_type": "display_data"
    },
    {
     "data": {
      "application/vnd.jupyter.widget-view+json": {
       "model_id": "",
       "version_major": 2,
       "version_minor": 0
      },
      "text/plain": [
       "Iterating over frames for track ID 2219:   0%|          | 0/85 [00:00<?, ?it/s]"
      ]
     },
     "metadata": {},
     "output_type": "display_data"
    },
    {
     "data": {
      "application/vnd.jupyter.widget-view+json": {
       "model_id": "",
       "version_major": 2,
       "version_minor": 0
      },
      "text/plain": [
       "Iterating over frames for track ID 2227:   0%|          | 0/154 [00:00<?, ?it/s]"
      ]
     },
     "metadata": {},
     "output_type": "display_data"
    },
    {
     "data": {
      "application/vnd.jupyter.widget-view+json": {
       "model_id": "",
       "version_major": 2,
       "version_minor": 0
      },
      "text/plain": [
       "Iterating over frames for track ID 2237:   0%|          | 0/120 [00:00<?, ?it/s]"
      ]
     },
     "metadata": {},
     "output_type": "display_data"
    },
    {
     "data": {
      "application/vnd.jupyter.widget-view+json": {
       "model_id": "",
       "version_major": 2,
       "version_minor": 0
      },
      "text/plain": [
       "Iterating over frames for track ID 2283:   0%|          | 0/154 [00:00<?, ?it/s]"
      ]
     },
     "metadata": {},
     "output_type": "display_data"
    },
    {
     "data": {
      "application/vnd.jupyter.widget-view+json": {
       "model_id": "",
       "version_major": 2,
       "version_minor": 0
      },
      "text/plain": [
       "Iterating over frames for track ID 2288:   0%|          | 0/108 [00:00<?, ?it/s]"
      ]
     },
     "metadata": {},
     "output_type": "display_data"
    },
    {
     "data": {
      "application/vnd.jupyter.widget-view+json": {
       "model_id": "",
       "version_major": 2,
       "version_minor": 0
      },
      "text/plain": [
       "Iterating over frames for track ID 2294:   0%|          | 0/154 [00:00<?, ?it/s]"
      ]
     },
     "metadata": {},
     "output_type": "display_data"
    },
    {
     "data": {
      "application/vnd.jupyter.widget-view+json": {
       "model_id": "",
       "version_major": 2,
       "version_minor": 0
      },
      "text/plain": [
       "Iterating over frames for track ID 2295:   0%|          | 0/97 [00:00<?, ?it/s]"
      ]
     },
     "metadata": {},
     "output_type": "display_data"
    },
    {
     "data": {
      "application/vnd.jupyter.widget-view+json": {
       "model_id": "",
       "version_major": 2,
       "version_minor": 0
      },
      "text/plain": [
       "Iterating over frames for track ID 2314:   0%|          | 0/91 [00:00<?, ?it/s]"
      ]
     },
     "metadata": {},
     "output_type": "display_data"
    },
    {
     "data": {
      "application/vnd.jupyter.widget-view+json": {
       "model_id": "",
       "version_major": 2,
       "version_minor": 0
      },
      "text/plain": [
       "Iterating over frames for track ID 2340:   0%|          | 0/101 [00:00<?, ?it/s]"
      ]
     },
     "metadata": {},
     "output_type": "display_data"
    },
    {
     "data": {
      "application/vnd.jupyter.widget-view+json": {
       "model_id": "",
       "version_major": 2,
       "version_minor": 0
      },
      "text/plain": [
       "Iterating over frames for track ID 2350:   0%|          | 0/83 [00:00<?, ?it/s]"
      ]
     },
     "metadata": {},
     "output_type": "display_data"
    },
    {
     "data": {
      "application/vnd.jupyter.widget-view+json": {
       "model_id": "",
       "version_major": 2,
       "version_minor": 0
      },
      "text/plain": [
       "Iterating over frames for track ID 2370:   0%|          | 0/154 [00:00<?, ?it/s]"
      ]
     },
     "metadata": {},
     "output_type": "display_data"
    },
    {
     "data": {
      "application/vnd.jupyter.widget-view+json": {
       "model_id": "",
       "version_major": 2,
       "version_minor": 0
      },
      "text/plain": [
       "Iterating over frames for track ID 2382:   0%|          | 0/154 [00:00<?, ?it/s]"
      ]
     },
     "metadata": {},
     "output_type": "display_data"
    },
    {
     "data": {
      "application/vnd.jupyter.widget-view+json": {
       "model_id": "",
       "version_major": 2,
       "version_minor": 0
      },
      "text/plain": [
       "Iterating over frames for track ID 2387:   0%|          | 0/154 [00:00<?, ?it/s]"
      ]
     },
     "metadata": {},
     "output_type": "display_data"
    },
    {
     "data": {
      "application/vnd.jupyter.widget-view+json": {
       "model_id": "",
       "version_major": 2,
       "version_minor": 0
      },
      "text/plain": [
       "Iterating over frames for track ID 2389:   0%|          | 0/154 [00:00<?, ?it/s]"
      ]
     },
     "metadata": {},
     "output_type": "display_data"
    },
    {
     "data": {
      "application/vnd.jupyter.widget-view+json": {
       "model_id": "",
       "version_major": 2,
       "version_minor": 0
      },
      "text/plain": [
       "Iterating over frames for track ID 2405:   0%|          | 0/120 [00:00<?, ?it/s]"
      ]
     },
     "metadata": {},
     "output_type": "display_data"
    },
    {
     "data": {
      "application/vnd.jupyter.widget-view+json": {
       "model_id": "",
       "version_major": 2,
       "version_minor": 0
      },
      "text/plain": [
       "Iterating over frames for track ID 2410:   0%|          | 0/78 [00:00<?, ?it/s]"
      ]
     },
     "metadata": {},
     "output_type": "display_data"
    },
    {
     "data": {
      "application/vnd.jupyter.widget-view+json": {
       "model_id": "",
       "version_major": 2,
       "version_minor": 0
      },
      "text/plain": [
       "Iterating over frames for track ID 2481:   0%|          | 0/133 [00:00<?, ?it/s]"
      ]
     },
     "metadata": {},
     "output_type": "display_data"
    },
    {
     "data": {
      "application/vnd.jupyter.widget-view+json": {
       "model_id": "",
       "version_major": 2,
       "version_minor": 0
      },
      "text/plain": [
       "Iterating over frames for track ID 2493:   0%|          | 0/154 [00:00<?, ?it/s]"
      ]
     },
     "metadata": {},
     "output_type": "display_data"
    },
    {
     "data": {
      "application/vnd.jupyter.widget-view+json": {
       "model_id": "",
       "version_major": 2,
       "version_minor": 0
      },
      "text/plain": [
       "Iterating over frames for track ID 2504:   0%|          | 0/154 [00:00<?, ?it/s]"
      ]
     },
     "metadata": {},
     "output_type": "display_data"
    },
    {
     "data": {
      "application/vnd.jupyter.widget-view+json": {
       "model_id": "",
       "version_major": 2,
       "version_minor": 0
      },
      "text/plain": [
       "Iterating over frames for track ID 2505:   0%|          | 0/134 [00:00<?, ?it/s]"
      ]
     },
     "metadata": {},
     "output_type": "display_data"
    },
    {
     "data": {
      "application/vnd.jupyter.widget-view+json": {
       "model_id": "",
       "version_major": 2,
       "version_minor": 0
      },
      "text/plain": [
       "Iterating over frames for track ID 2509:   0%|          | 0/80 [00:00<?, ?it/s]"
      ]
     },
     "metadata": {},
     "output_type": "display_data"
    },
    {
     "data": {
      "application/vnd.jupyter.widget-view+json": {
       "model_id": "",
       "version_major": 2,
       "version_minor": 0
      },
      "text/plain": [
       "Iterating over frames for track ID 2521:   0%|          | 0/78 [00:00<?, ?it/s]"
      ]
     },
     "metadata": {},
     "output_type": "display_data"
    },
    {
     "data": {
      "application/vnd.jupyter.widget-view+json": {
       "model_id": "",
       "version_major": 2,
       "version_minor": 0
      },
      "text/plain": [
       "Iterating over frames for track ID 2528:   0%|          | 0/154 [00:00<?, ?it/s]"
      ]
     },
     "metadata": {},
     "output_type": "display_data"
    },
    {
     "data": {
      "application/vnd.jupyter.widget-view+json": {
       "model_id": "",
       "version_major": 2,
       "version_minor": 0
      },
      "text/plain": [
       "Iterating over frames for track ID 2563:   0%|          | 0/96 [00:00<?, ?it/s]"
      ]
     },
     "metadata": {},
     "output_type": "display_data"
    },
    {
     "data": {
      "application/vnd.jupyter.widget-view+json": {
       "model_id": "",
       "version_major": 2,
       "version_minor": 0
      },
      "text/plain": [
       "Iterating over frames for track ID 2569:   0%|          | 0/154 [00:00<?, ?it/s]"
      ]
     },
     "metadata": {},
     "output_type": "display_data"
    },
    {
     "data": {
      "application/vnd.jupyter.widget-view+json": {
       "model_id": "",
       "version_major": 2,
       "version_minor": 0
      },
      "text/plain": [
       "Iterating over frames for track ID 2572:   0%|          | 0/100 [00:00<?, ?it/s]"
      ]
     },
     "metadata": {},
     "output_type": "display_data"
    },
    {
     "data": {
      "application/vnd.jupyter.widget-view+json": {
       "model_id": "",
       "version_major": 2,
       "version_minor": 0
      },
      "text/plain": [
       "Iterating over frames for track ID 2576:   0%|          | 0/154 [00:00<?, ?it/s]"
      ]
     },
     "metadata": {},
     "output_type": "display_data"
    },
    {
     "data": {
      "application/vnd.jupyter.widget-view+json": {
       "model_id": "",
       "version_major": 2,
       "version_minor": 0
      },
      "text/plain": [
       "Iterating over frames for track ID 2586:   0%|          | 0/108 [00:00<?, ?it/s]"
      ]
     },
     "metadata": {},
     "output_type": "display_data"
    },
    {
     "data": {
      "application/vnd.jupyter.widget-view+json": {
       "model_id": "",
       "version_major": 2,
       "version_minor": 0
      },
      "text/plain": [
       "Iterating over frames for track ID 2592:   0%|          | 0/91 [00:00<?, ?it/s]"
      ]
     },
     "metadata": {},
     "output_type": "display_data"
    },
    {
     "data": {
      "application/vnd.jupyter.widget-view+json": {
       "model_id": "",
       "version_major": 2,
       "version_minor": 0
      },
      "text/plain": [
       "Iterating over frames for track ID 2604:   0%|          | 0/84 [00:00<?, ?it/s]"
      ]
     },
     "metadata": {},
     "output_type": "display_data"
    },
    {
     "data": {
      "application/vnd.jupyter.widget-view+json": {
       "model_id": "",
       "version_major": 2,
       "version_minor": 0
      },
      "text/plain": [
       "Iterating over frames for track ID 2606:   0%|          | 0/88 [00:00<?, ?it/s]"
      ]
     },
     "metadata": {},
     "output_type": "display_data"
    },
    {
     "data": {
      "application/vnd.jupyter.widget-view+json": {
       "model_id": "",
       "version_major": 2,
       "version_minor": 0
      },
      "text/plain": [
       "Iterating over frames for track ID 2623:   0%|          | 0/154 [00:00<?, ?it/s]"
      ]
     },
     "metadata": {},
     "output_type": "display_data"
    },
    {
     "data": {
      "application/vnd.jupyter.widget-view+json": {
       "model_id": "",
       "version_major": 2,
       "version_minor": 0
      },
      "text/plain": [
       "Iterating over frames for track ID 2626:   0%|          | 0/121 [00:00<?, ?it/s]"
      ]
     },
     "metadata": {},
     "output_type": "display_data"
    },
    {
     "data": {
      "application/vnd.jupyter.widget-view+json": {
       "model_id": "",
       "version_major": 2,
       "version_minor": 0
      },
      "text/plain": [
       "Iterating over frames for track ID 2641:   0%|          | 0/154 [00:00<?, ?it/s]"
      ]
     },
     "metadata": {},
     "output_type": "display_data"
    },
    {
     "data": {
      "application/vnd.jupyter.widget-view+json": {
       "model_id": "",
       "version_major": 2,
       "version_minor": 0
      },
      "text/plain": [
       "Iterating over frames for track ID 2642:   0%|          | 0/76 [00:00<?, ?it/s]"
      ]
     },
     "metadata": {},
     "output_type": "display_data"
    },
    {
     "data": {
      "application/vnd.jupyter.widget-view+json": {
       "model_id": "",
       "version_major": 2,
       "version_minor": 0
      },
      "text/plain": [
       "Iterating over frames for track ID 2687:   0%|          | 0/145 [00:00<?, ?it/s]"
      ]
     },
     "metadata": {},
     "output_type": "display_data"
    },
    {
     "data": {
      "application/vnd.jupyter.widget-view+json": {
       "model_id": "",
       "version_major": 2,
       "version_minor": 0
      },
      "text/plain": [
       "Iterating over frames for track ID 2712:   0%|          | 0/112 [00:00<?, ?it/s]"
      ]
     },
     "metadata": {},
     "output_type": "display_data"
    },
    {
     "data": {
      "application/vnd.jupyter.widget-view+json": {
       "model_id": "",
       "version_major": 2,
       "version_minor": 0
      },
      "text/plain": [
       "Iterating over frames for track ID 2718:   0%|          | 0/154 [00:00<?, ?it/s]"
      ]
     },
     "metadata": {},
     "output_type": "display_data"
    },
    {
     "data": {
      "application/vnd.jupyter.widget-view+json": {
       "model_id": "",
       "version_major": 2,
       "version_minor": 0
      },
      "text/plain": [
       "Iterating over frames for track ID 2719:   0%|          | 0/153 [00:00<?, ?it/s]"
      ]
     },
     "metadata": {},
     "output_type": "display_data"
    },
    {
     "data": {
      "application/vnd.jupyter.widget-view+json": {
       "model_id": "",
       "version_major": 2,
       "version_minor": 0
      },
      "text/plain": [
       "Iterating over frames for track ID 2761:   0%|          | 0/154 [00:00<?, ?it/s]"
      ]
     },
     "metadata": {},
     "output_type": "display_data"
    },
    {
     "data": {
      "application/vnd.jupyter.widget-view+json": {
       "model_id": "",
       "version_major": 2,
       "version_minor": 0
      },
      "text/plain": [
       "Iterating over frames for track ID 2779:   0%|          | 0/83 [00:00<?, ?it/s]"
      ]
     },
     "metadata": {},
     "output_type": "display_data"
    },
    {
     "data": {
      "application/vnd.jupyter.widget-view+json": {
       "model_id": "",
       "version_major": 2,
       "version_minor": 0
      },
      "text/plain": [
       "Iterating over frames for track ID 2850:   0%|          | 0/154 [00:00<?, ?it/s]"
      ]
     },
     "metadata": {},
     "output_type": "display_data"
    },
    {
     "data": {
      "application/vnd.jupyter.widget-view+json": {
       "model_id": "",
       "version_major": 2,
       "version_minor": 0
      },
      "text/plain": [
       "Iterating over frames for track ID 2862:   0%|          | 0/154 [00:00<?, ?it/s]"
      ]
     },
     "metadata": {},
     "output_type": "display_data"
    },
    {
     "data": {
      "application/vnd.jupyter.widget-view+json": {
       "model_id": "",
       "version_major": 2,
       "version_minor": 0
      },
      "text/plain": [
       "Iterating over frames for track ID 2872:   0%|          | 0/154 [00:00<?, ?it/s]"
      ]
     },
     "metadata": {},
     "output_type": "display_data"
    },
    {
     "data": {
      "application/vnd.jupyter.widget-view+json": {
       "model_id": "",
       "version_major": 2,
       "version_minor": 0
      },
      "text/plain": [
       "Iterating over frames for track ID 2882:   0%|          | 0/81 [00:00<?, ?it/s]"
      ]
     },
     "metadata": {},
     "output_type": "display_data"
    },
    {
     "data": {
      "application/vnd.jupyter.widget-view+json": {
       "model_id": "",
       "version_major": 2,
       "version_minor": 0
      },
      "text/plain": [
       "Iterating over frames for track ID 2930:   0%|          | 0/137 [00:00<?, ?it/s]"
      ]
     },
     "metadata": {},
     "output_type": "display_data"
    },
    {
     "data": {
      "application/vnd.jupyter.widget-view+json": {
       "model_id": "",
       "version_major": 2,
       "version_minor": 0
      },
      "text/plain": [
       "Iterating over frames for track ID 2950:   0%|          | 0/102 [00:00<?, ?it/s]"
      ]
     },
     "metadata": {},
     "output_type": "display_data"
    },
    {
     "data": {
      "application/vnd.jupyter.widget-view+json": {
       "model_id": "",
       "version_major": 2,
       "version_minor": 0
      },
      "text/plain": [
       "Iterating over frames for track ID 2984:   0%|          | 0/78 [00:00<?, ?it/s]"
      ]
     },
     "metadata": {},
     "output_type": "display_data"
    },
    {
     "data": {
      "application/vnd.jupyter.widget-view+json": {
       "model_id": "",
       "version_major": 2,
       "version_minor": 0
      },
      "text/plain": [
       "Iterating over frames for track ID 2989:   0%|          | 0/111 [00:00<?, ?it/s]"
      ]
     },
     "metadata": {},
     "output_type": "display_data"
    },
    {
     "data": {
      "application/vnd.jupyter.widget-view+json": {
       "model_id": "",
       "version_major": 2,
       "version_minor": 0
      },
      "text/plain": [
       "Iterating over frames for track ID 3003:   0%|          | 0/81 [00:00<?, ?it/s]"
      ]
     },
     "metadata": {},
     "output_type": "display_data"
    },
    {
     "data": {
      "application/vnd.jupyter.widget-view+json": {
       "model_id": "",
       "version_major": 2,
       "version_minor": 0
      },
      "text/plain": [
       "Iterating over frames for track ID 3009:   0%|          | 0/79 [00:00<?, ?it/s]"
      ]
     },
     "metadata": {},
     "output_type": "display_data"
    },
    {
     "data": {
      "application/vnd.jupyter.widget-view+json": {
       "model_id": "",
       "version_major": 2,
       "version_minor": 0
      },
      "text/plain": [
       "Iterating over frames for track ID 3022:   0%|          | 0/154 [00:00<?, ?it/s]"
      ]
     },
     "metadata": {},
     "output_type": "display_data"
    },
    {
     "data": {
      "application/vnd.jupyter.widget-view+json": {
       "model_id": "",
       "version_major": 2,
       "version_minor": 0
      },
      "text/plain": [
       "Iterating over frames for track ID 3026:   0%|          | 0/154 [00:00<?, ?it/s]"
      ]
     },
     "metadata": {},
     "output_type": "display_data"
    },
    {
     "data": {
      "application/vnd.jupyter.widget-view+json": {
       "model_id": "",
       "version_major": 2,
       "version_minor": 0
      },
      "text/plain": [
       "Iterating over frames for track ID 3040:   0%|          | 0/91 [00:00<?, ?it/s]"
      ]
     },
     "metadata": {},
     "output_type": "display_data"
    },
    {
     "data": {
      "application/vnd.jupyter.widget-view+json": {
       "model_id": "",
       "version_major": 2,
       "version_minor": 0
      },
      "text/plain": [
       "Iterating over frames for track ID 3076:   0%|          | 0/91 [00:00<?, ?it/s]"
      ]
     },
     "metadata": {},
     "output_type": "display_data"
    },
    {
     "data": {
      "application/vnd.jupyter.widget-view+json": {
       "model_id": "",
       "version_major": 2,
       "version_minor": 0
      },
      "text/plain": [
       "Iterating over frames for track ID 3080:   0%|          | 0/76 [00:00<?, ?it/s]"
      ]
     },
     "metadata": {},
     "output_type": "display_data"
    },
    {
     "data": {
      "application/vnd.jupyter.widget-view+json": {
       "model_id": "",
       "version_major": 2,
       "version_minor": 0
      },
      "text/plain": [
       "Iterating over frames for track ID 3119:   0%|          | 0/154 [00:00<?, ?it/s]"
      ]
     },
     "metadata": {},
     "output_type": "display_data"
    },
    {
     "data": {
      "application/vnd.jupyter.widget-view+json": {
       "model_id": "",
       "version_major": 2,
       "version_minor": 0
      },
      "text/plain": [
       "Iterating over frames for track ID 3133:   0%|          | 0/133 [00:00<?, ?it/s]"
      ]
     },
     "metadata": {},
     "output_type": "display_data"
    },
    {
     "data": {
      "application/vnd.jupyter.widget-view+json": {
       "model_id": "",
       "version_major": 2,
       "version_minor": 0
      },
      "text/plain": [
       "Iterating over frames for track ID 3176:   0%|          | 0/86 [00:00<?, ?it/s]"
      ]
     },
     "metadata": {},
     "output_type": "display_data"
    },
    {
     "data": {
      "application/vnd.jupyter.widget-view+json": {
       "model_id": "",
       "version_major": 2,
       "version_minor": 0
      },
      "text/plain": [
       "Iterating over frames for track ID 3177:   0%|          | 0/93 [00:00<?, ?it/s]"
      ]
     },
     "metadata": {},
     "output_type": "display_data"
    },
    {
     "data": {
      "application/vnd.jupyter.widget-view+json": {
       "model_id": "",
       "version_major": 2,
       "version_minor": 0
      },
      "text/plain": [
       "Iterating over frames for track ID 3217:   0%|          | 0/150 [00:00<?, ?it/s]"
      ]
     },
     "metadata": {},
     "output_type": "display_data"
    },
    {
     "data": {
      "application/vnd.jupyter.widget-view+json": {
       "model_id": "",
       "version_major": 2,
       "version_minor": 0
      },
      "text/plain": [
       "Iterating over frames for track ID 3219:   0%|          | 0/154 [00:00<?, ?it/s]"
      ]
     },
     "metadata": {},
     "output_type": "display_data"
    },
    {
     "data": {
      "application/vnd.jupyter.widget-view+json": {
       "model_id": "",
       "version_major": 2,
       "version_minor": 0
      },
      "text/plain": [
       "Iterating over frames for track ID 3237:   0%|          | 0/125 [00:00<?, ?it/s]"
      ]
     },
     "metadata": {},
     "output_type": "display_data"
    },
    {
     "data": {
      "application/vnd.jupyter.widget-view+json": {
       "model_id": "",
       "version_major": 2,
       "version_minor": 0
      },
      "text/plain": [
       "Iterating over frames for track ID 3276:   0%|          | 0/84 [00:00<?, ?it/s]"
      ]
     },
     "metadata": {},
     "output_type": "display_data"
    },
    {
     "data": {
      "application/vnd.jupyter.widget-view+json": {
       "model_id": "c23d4d2b3c604a15beb2ba1d1ca97b95",
       "version_major": 2,
       "version_minor": 0
      },
      "text/plain": [
       "Iterating over frames for track ID 3282:   0%|          | 0/110 [00:00<?, ?it/s]"
      ]
     },
     "metadata": {},
     "output_type": "display_data"
    }
   ],
   "source": [
    "for acq_ID in tqdm(row_col_order, total = len(row_col_order), desc = 'Iterating over individual wells'):\n",
    "    \n",
    "    if os.path.exists(f'/mnt/SYNO/macrohet_syno/results/dfs/{expt_ID}/sc_df_{acq_ID[0]}.{acq_ID[1]}.{expt_ID}.pkl'):\n",
    "        print(f'skipping acq ID {acq_ID}')\n",
    "        continue\n",
    "\n",
    "        \n",
    "    #technical replicate\n",
    "    technical_replicate = assay_layout.loc[(acq_ID[0], acq_ID[1])]['Replicate #']\n",
    "    #biological replicate\n",
    "    biological_replicate = 4\n",
    "    #strain\n",
    "    strain = assay_layout.loc[(acq_ID[0], acq_ID[1])]['Strain']\n",
    "    #compound\n",
    "    compound = assay_layout.loc[(acq_ID[0], acq_ID[1])]['Strain']\n",
    "    #concentration\n",
    "    concentration = assay_layout.loc[(acq_ID[0], acq_ID[1])]['Concentration']\n",
    "    # load images and max project them\n",
    "    image_dir = os.path.join(base_dir, f'acquisition/zarr/{acq_ID}.zarr')\n",
    "    zarr_group = zarr.open(image_dir, mode='r')\n",
    "    images = zarr_group.images[...]\n",
    "    # load the original cellpose segmentation\n",
    "    with btrack.io.HDF5FileHandler(os.path.join(f'/mnt/SYNO/macrohet_syno/data/{expt_ID}/labels/cpv3/{acq_ID}.h5'), #macrohet_seg_model \n",
    "                                               'r', \n",
    "                                               obj_type='obj_type_1'\n",
    "                                               ) as reader:\n",
    "                    original_segmentation = reader.segmentation\n",
    "    # calculate the new cellpose segmentation\n",
    "    segmentation_input = images[:,1,2,...]\n",
    "    mask_stack = []\n",
    "    for frame in tqdm(segmentation_input, total = len(segmentation_input)):\n",
    "        masks, flows, styles, diams = cellpose_model.eval(frame, \n",
    "                                                 diameter=150, \n",
    "                                                 channels=[0,0],)\n",
    "    \n",
    "        mask_stack.append(masks)\n",
    "    tracking_input_segmentation = np.stack(mask_stack, axis = 0)\n",
    "    # perform checks on segmentation\n",
    "    error_log = []\n",
    "    # Check if the first frame is blank and, if so, copy from the first non-blank frame\n",
    "    if np.all(tracking_input_segmentation[0] == 0):\n",
    "        # Find the first non-blank frame\n",
    "        first_non_blank_found = False\n",
    "        for j in range(1, tracking_input_segmentation.shape[0]):\n",
    "            if not np.all(tracking_input_segmentation[j] == 0):  # Check if frame j is non-blank\n",
    "                tracking_input_segmentation[0] = tracking_input_segmentation[j]\n",
    "                first_non_blank_found = True\n",
    "                print(f\"First frame was blank. Copied from frame {j}.\")\n",
    "                break\n",
    "        if not first_non_blank_found:\n",
    "            error_log.append(\"All frames are blank. Skipping segmentation processing.\")\n",
    "            print(\"Error: All frames are blank. No processing will be done.\")\n",
    "            # Exit if all frames are blank since there's nothing to process\n",
    "            raise ValueError(\"Segmentation data is entirely blank.\")\n",
    "     # Iterate over frames and check for blank frames, starting from the second frame\n",
    "    for i in range(1, tracking_input_segmentation.shape[0]):\n",
    "        if np.all(tracking_input_segmentation[i] == 0):  # Check if the current frame is blank\n",
    "            # Copy the previous non-blank frame if available\n",
    "            if np.all(tracking_input_segmentation[i-1] == 0):\n",
    "                error_log.append(f\"Frame {i} and previous frames are blank, unable to copy.\")\n",
    "                print(f\"Error: Frame {i} is blank and cannot be copied from previous frames.\")\n",
    "                continue\n",
    "            else:\n",
    "                tracking_input_segmentation[i] = tracking_input_segmentation[i-1]\n",
    "                print(f\"Frame {i} was blank. Copied from frame {i-1}.\")\n",
    "        else:\n",
    "            # Track the last non-blank frame as we go\n",
    "            last_non_blank_frame = tracking_input_segmentation[i]\n",
    "    # Log the error messages and proceed with the loop\n",
    "    if error_log:\n",
    "        for error in error_log:\n",
    "            print(error)\n",
    "        print(\"Segmentation completed with some frames skipped due to consecutive blank frames.\")\n",
    "\n",
    "    # Assuming 'segmentation' is your numpy array\n",
    "    with h5py.File(f'/mnt/SYNO/macrohet_syno/data/{expt_ID}/labels/z3_cpv3/{acq_ID}.h5', 'w') as f:\n",
    "        # Save the array with compression for efficient storage\n",
    "        f.create_dataset('segmentation', data=tracking_input_segmentation, compression=\"gzip\")\n",
    "    # track using new segmentation\n",
    "    # Track the cells\n",
    "    track_graph = trackastra_model.track(segmentation_input, tracking_input_segmentation, mode=\"greedy_nodiv\")  # or mode=\"ilp\", or \"greedy_nodiv\"\n",
    "    \n",
    "    # Visualise in napari\n",
    "    tracks, napari_tracks_graph, _ = graph_to_napari_tracks(track_graph)\n",
    "    tracks = pd.DataFrame(tracks, columns=['ID', 't', 'x', 'y']).astype(int)\n",
    "    # Filter tracks with length greater than 75\n",
    "    tracks = tracks.groupby('ID').filter(lambda x: len(x) > 75)\n",
    "    \n",
    "    # split channels\n",
    "    mphi_channel = np.max(images[:,mphi_channel_ID,...], axis=1)\n",
    "    mtb_channel = np.max(images[:,mtb_channel_ID,...], axis = 1)\n",
    "    thresholded_mtb_channel = mtb_channel >= mtb_load_thresh\n",
    "    track_dfs = []\n",
    "    # now measure properties from prior segmentation?\n",
    "    for cell_ID, track in tqdm(tracks.groupby('ID'), desc = 'iterating over tracks', total = len(tracks.ID.unique()), leave = False):\n",
    "        track = track.sort_values(by='t')\n",
    "        # Extract coordinates and time\n",
    "        times = track['t'].to_numpy() / 2  # Assuming you want to halve the time\n",
    "        frames = track['t'].to_numpy() \n",
    "    \n",
    "        x_coords = track['x'].to_numpy().astype(int)\n",
    "        y_coords = track['y'].to_numpy().astype(int)\n",
    "    \n",
    "    \n",
    "        mtb_areas = []\n",
    "        mphi_areas = []\n",
    "        mean_intensities = []\n",
    "        # calculate the mtb pixel area and µm area\n",
    "        for i, frame in tqdm(enumerate(frames), desc = f'Iterating over frames for track ID {cell_ID}', total = len(frames), leave = False):\n",
    "            frame = frame - 1\n",
    "            segmentation_input_ID = original_segmentation[frame][x_coords[i], y_coords[i]]\n",
    "            if segmentation_input_ID == 0:  # Ignore background (assuming 0 is the background ID)\n",
    "                    mtb_area_pixels = np.nan\n",
    "                    mphi_area_pixels = np.nan\n",
    "            else:\n",
    "                \n",
    "                mask = original_segmentation[frame] == segmentation_input_ID  # Create a mask for the segment with 'seg_id'\n",
    "                \n",
    "                # chop up images into segments here\n",
    "                # image_segment = images[frame][:][mask]\n",
    "                thresholded_image_segment = thresholded_mtb_channel[frame][mask]\n",
    "        \n",
    "                # meaure segment\n",
    "                mtb_area_pixels = np.sum(thresholded_image_segment)\n",
    "                mphi_area_pixels = np.sum(mask)\n",
    "                # mean_intensity = np.mean(image_segment)\n",
    "    \n",
    "            # store measurements\n",
    "            mtb_areas.append(mtb_area_pixels)\n",
    "            mphi_areas.append(mphi_area_pixels)\n",
    "            # mean_intensities.append(mean_intensity)\n",
    "    \n",
    "        track['Mtb Area (µm)'] = np.array(mtb_areas) * pixel_to_mum_sq_scale_factor\n",
    "        track['Mphi Area (µm)'] = np.array(mphi_areas) * pixel_to_mum_sq_scale_factor\n",
    "        # track['RFP'] = mean_intensities[mtb_channel_ID]\n",
    "        # track['GFP'] = mean_intensities[mphi_channel_ID]\n",
    "        # Compute MSD in a vectorized way\n",
    "        # track['MSD'] = calculate_msd(x_coords, y_coords)\n",
    "        \n",
    "        # infection statuses\n",
    "        track['Infection Status'] = track['Mtb Area (µm)'] > 0\n",
    "    \n",
    "        track['Initial Infection Status'] = track['Mtb Area (µm)'].iloc[0] > 0 \n",
    "        track['Final Infection Status'] = track['Mtb Area (µm)'].iloc[-1] > 0 \n",
    "        track['ID'] = cell_ID\n",
    "        track['Unique_ID'] = f'{cell_ID}.{acq_ID[0]}.{acq_ID[1]}.{expt_ID}'\n",
    "    \n",
    "        track_dfs.append(track)\n",
    "    \n",
    "    # Concatenate all track DataFrames into the larger 'df' DataFrame\n",
    "    df = pd.concat(track_dfs, ignore_index=True)\n",
    "    \n",
    "    df.to_pickle(f'/mnt/SYNO/macrohet_syno/results/dfs/{expt_ID}/sc_df_{acq_ID[0]}.{acq_ID[1]}.{expt_ID}.pkl')\n",
    "\n",
    "\n",
    "    try:\n",
    "        del original_segmentation, images, segmentation_input, tracking_input_segmentation, track_graph, tracks, napari_tracks_graph\n",
    "    except:\n",
    "\n",
    "        print('couldnt clear memory')"
   ]
  }
 ],
 "metadata": {
  "kernelspec": {
   "display_name": "godspeed",
   "language": "python",
   "name": "godspeed"
  },
  "language_info": {
   "codemirror_mode": {
    "name": "ipython",
    "version": 3
   },
   "file_extension": ".py",
   "mimetype": "text/x-python",
   "name": "python",
   "nbconvert_exporter": "python",
   "pygments_lexer": "ipython3",
   "version": "3.10.13"
  }
 },
 "nbformat": 4,
 "nbformat_minor": 5
}
