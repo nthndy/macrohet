{
 "cells": [
  {
   "cell_type": "code",
   "execution_count": 60,
   "id": "11d80c58-c05c-4a48-9c53-1340d1ebb4c2",
   "metadata": {},
   "outputs": [],
   "source": [
    "import cellpose\n",
    "from macrohet import tools, dataio, visualise\n",
    "import glob\n",
    "import os\n",
    "import zarr\n",
    "import numpy as np\n",
    "import napari\n",
    "from tqdm.auto import tqdm\n",
    "from skimage import io"
   ]
  },
  {
   "cell_type": "code",
   "execution_count": 13,
   "id": "3f17ddab-e772-4578-ade3-e15874c4bf33",
   "metadata": {},
   "outputs": [
    {
     "name": "stdout",
     "output_type": "stream",
     "text": [
      "nvcc: NVIDIA (R) Cuda compiler driver\n",
      "Copyright (c) 2005-2023 NVIDIA Corporation\n",
      "Built on Wed_Nov_22_10:17:15_PST_2023\n",
      "Cuda compilation tools, release 12.3, V12.3.107\n",
      "Build cuda_12.3.r12.3/compiler.33567101_0\n",
      "Thu Feb 15 16:03:22 2024       \n",
      "+---------------------------------------------------------------------------------------+\n",
      "| NVIDIA-SMI 545.23.08              Driver Version: 545.23.08    CUDA Version: 12.3     |\n",
      "|-----------------------------------------+----------------------+----------------------+\n",
      "| GPU  Name                 Persistence-M | Bus-Id        Disp.A | Volatile Uncorr. ECC |\n",
      "| Fan  Temp   Perf          Pwr:Usage/Cap |         Memory-Usage | GPU-Util  Compute M. |\n",
      "|                                         |                      |               MIG M. |\n",
      "|=========================================+======================+======================|\n",
      "|   0  NVIDIA RTX A6000               On  | 00000000:65:00.0  On |                  Off |\n",
      "| 30%   47C    P8              36W / 300W |   1582MiB / 49140MiB |      8%      Default |\n",
      "|                                         |                      |                  N/A |\n",
      "+-----------------------------------------+----------------------+----------------------+\n",
      "                                                                                         \n",
      "+---------------------------------------------------------------------------------------+\n",
      "| Processes:                                                                            |\n",
      "|  GPU   GI   CI        PID   Type   Process name                            GPU Memory |\n",
      "|        ID   ID                                                             Usage      |\n",
      "|=======================================================================================|\n",
      "|    0   N/A  N/A      2125      G   /usr/lib/xorg/Xorg                          577MiB |\n",
      "|    0   N/A  N/A      4216      G   /usr/bin/gnome-shell                        235MiB |\n",
      "|    0   N/A  N/A     15159      G   ...dayn/miniconda3/envs/egg/bin/python      404MiB |\n",
      "|    0   N/A  N/A     17394      G   /usr/bin/totem                               14MiB |\n",
      "|    0   N/A  N/A     19934      G   ...AAAAAAAACAAAAAAAAAA= --shared-files       34MiB |\n",
      "|    0   N/A  N/A     70025      G   ...yOnDemand --variations-seed-version       70MiB |\n",
      "|    0   N/A  N/A     70027      G   ...seed-version=20240213-180148.903000      220MiB |\n",
      "+---------------------------------------------------------------------------------------+\n",
      ">>> GPU activated? YES\n"
     ]
    }
   ],
   "source": [
    "!nvcc --version\n",
    "!nvidia-smi\n",
    "\n",
    "from cellpose import core, utils, io, models, metrics\n",
    "\n",
    "use_GPU = core.use_gpu()\n",
    "yn = ['NO', 'YES']\n",
    "print(f'>>> GPU activated? {yn[use_GPU]}')\n",
    "\n",
    "model = models.Cellpose(gpu=True, model_type='cyto')\n",
    "\n",
    "def segment(img, ):\n",
    "    masks, flows, styles, diams = model.eval(img, diameter=350, channels=[0,0],\n",
    "                                             flow_threshold=None, cellprob_threshold=0)\n",
    "    return masks"
   ]
  },
  {
   "cell_type": "code",
   "execution_count": 4,
   "id": "d526a42b-e5b5-4966-aaf1-3450c105cc09",
   "metadata": {},
   "outputs": [
    {
     "name": "stdout",
     "output_type": "stream",
     "text": [
      "Reading metadata XML file...\n"
     ]
    },
    {
     "data": {
      "application/vnd.jupyter.widget-view+json": {
       "model_id": "dc7013284c7647e2ba19db0aefe136de",
       "version_major": 2,
       "version_minor": 0
      },
      "text/plain": [
       "0it [00:00, ?it/s]"
      ]
     },
     "metadata": {},
     "output_type": "display_data"
    },
    {
     "name": "stdout",
     "output_type": "stream",
     "text": [
      "Extracting metadata complete!\n",
      "Reading metadata XML file...\n",
      "Extracting metadata complete!\n"
     ]
    }
   ],
   "source": [
    "expt_ID = 'ND0002'\n",
    "location =  'SYNO' #'DATA' # 'NEMO' #\n",
    "base_dir = f'/mnt/{location}/macrohet_{location.lower()}/{expt_ID}/'\n",
    "metadata_fn = os.path.join(base_dir, 'acquisition/Images/Index.idx.xml')\n",
    "metadata = dataio.read_harmony_metadata(metadata_fn)  \n",
    "metadata_fn = glob.glob(os.path.join(base_dir, 'acquisition/Assaylayout/*.xml'))[0]\n",
    "assay_layout = dataio.read_harmony_metadata(metadata_fn, assay_layout=True,)"
   ]
  },
  {
   "cell_type": "code",
   "execution_count": 6,
   "id": "7bdc0cf4-7129-4ade-9d2a-3fc02279c064",
   "metadata": {
    "scrolled": true
   },
   "outputs": [
    {
     "data": {
      "text/html": [
       "<div>\n",
       "<style scoped>\n",
       "    .dataframe tbody tr th:only-of-type {\n",
       "        vertical-align: middle;\n",
       "    }\n",
       "\n",
       "    .dataframe tbody tr th {\n",
       "        vertical-align: top;\n",
       "    }\n",
       "\n",
       "    .dataframe thead th {\n",
       "        text-align: right;\n",
       "    }\n",
       "</style>\n",
       "<table border=\"1\" class=\"dataframe\">\n",
       "  <thead>\n",
       "    <tr style=\"text-align: right;\">\n",
       "      <th></th>\n",
       "      <th></th>\n",
       "      <th>Strain</th>\n",
       "      <th>Compound</th>\n",
       "      <th>Concentration</th>\n",
       "      <th>ConcentrationEC</th>\n",
       "    </tr>\n",
       "    <tr>\n",
       "      <th>Row</th>\n",
       "      <th>Column</th>\n",
       "      <th></th>\n",
       "      <th></th>\n",
       "      <th></th>\n",
       "      <th></th>\n",
       "    </tr>\n",
       "  </thead>\n",
       "  <tbody>\n",
       "    <tr>\n",
       "      <th rowspan=\"12\" valign=\"top\">3</th>\n",
       "      <th>1</th>\n",
       "      <td>UNI</td>\n",
       "      <td>CTRL</td>\n",
       "      <td>0</td>\n",
       "      <td>EC0</td>\n",
       "    </tr>\n",
       "    <tr>\n",
       "      <th>2</th>\n",
       "      <td>UNI</td>\n",
       "      <td>CTRL</td>\n",
       "      <td>0</td>\n",
       "      <td>EC0</td>\n",
       "    </tr>\n",
       "    <tr>\n",
       "      <th>3</th>\n",
       "      <td>WT</td>\n",
       "      <td>CTRL</td>\n",
       "      <td>0</td>\n",
       "      <td>EC0</td>\n",
       "    </tr>\n",
       "    <tr>\n",
       "      <th>4</th>\n",
       "      <td>WT</td>\n",
       "      <td>CTRL</td>\n",
       "      <td>0</td>\n",
       "      <td>EC0</td>\n",
       "    </tr>\n",
       "    <tr>\n",
       "      <th>5</th>\n",
       "      <td>WT</td>\n",
       "      <td>PZA</td>\n",
       "      <td>60</td>\n",
       "      <td>EC50</td>\n",
       "    </tr>\n",
       "    <tr>\n",
       "      <th>6</th>\n",
       "      <td>WT</td>\n",
       "      <td>PZA</td>\n",
       "      <td>60</td>\n",
       "      <td>EC50</td>\n",
       "    </tr>\n",
       "    <tr>\n",
       "      <th>7</th>\n",
       "      <td>WT</td>\n",
       "      <td>RIF</td>\n",
       "      <td>0.1</td>\n",
       "      <td>EC50</td>\n",
       "    </tr>\n",
       "    <tr>\n",
       "      <th>8</th>\n",
       "      <td>WT</td>\n",
       "      <td>RIF</td>\n",
       "      <td>0.1</td>\n",
       "      <td>EC50</td>\n",
       "    </tr>\n",
       "    <tr>\n",
       "      <th>9</th>\n",
       "      <td>WT</td>\n",
       "      <td>INH</td>\n",
       "      <td>0.04</td>\n",
       "      <td>EC50</td>\n",
       "    </tr>\n",
       "    <tr>\n",
       "      <th>10</th>\n",
       "      <td>WT</td>\n",
       "      <td>INH</td>\n",
       "      <td>0.04</td>\n",
       "      <td>EC50</td>\n",
       "    </tr>\n",
       "    <tr>\n",
       "      <th>11</th>\n",
       "      <td>WT</td>\n",
       "      <td>BDQ</td>\n",
       "      <td>0.02</td>\n",
       "      <td>EC50</td>\n",
       "    </tr>\n",
       "    <tr>\n",
       "      <th>12</th>\n",
       "      <td>WT</td>\n",
       "      <td>BDQ</td>\n",
       "      <td>0.02</td>\n",
       "      <td>EC50</td>\n",
       "    </tr>\n",
       "    <tr>\n",
       "      <th rowspan=\"10\" valign=\"top\">4</th>\n",
       "      <th>3</th>\n",
       "      <td>WT</td>\n",
       "      <td>CTRL</td>\n",
       "      <td>0</td>\n",
       "      <td>EC0</td>\n",
       "    </tr>\n",
       "    <tr>\n",
       "      <th>4</th>\n",
       "      <td>WT</td>\n",
       "      <td>CTRL</td>\n",
       "      <td>0</td>\n",
       "      <td>EC0</td>\n",
       "    </tr>\n",
       "    <tr>\n",
       "      <th>5</th>\n",
       "      <td>WT</td>\n",
       "      <td>PZA</td>\n",
       "      <td>400</td>\n",
       "      <td>EC99</td>\n",
       "    </tr>\n",
       "    <tr>\n",
       "      <th>6</th>\n",
       "      <td>WT</td>\n",
       "      <td>PZA</td>\n",
       "      <td>400</td>\n",
       "      <td>EC99</td>\n",
       "    </tr>\n",
       "    <tr>\n",
       "      <th>7</th>\n",
       "      <td>WT</td>\n",
       "      <td>RIF</td>\n",
       "      <td>2</td>\n",
       "      <td>EC99</td>\n",
       "    </tr>\n",
       "    <tr>\n",
       "      <th>8</th>\n",
       "      <td>WT</td>\n",
       "      <td>RIF</td>\n",
       "      <td>2</td>\n",
       "      <td>EC99</td>\n",
       "    </tr>\n",
       "    <tr>\n",
       "      <th>9</th>\n",
       "      <td>WT</td>\n",
       "      <td>INH</td>\n",
       "      <td>2</td>\n",
       "      <td>EC99</td>\n",
       "    </tr>\n",
       "    <tr>\n",
       "      <th>10</th>\n",
       "      <td>WT</td>\n",
       "      <td>INH</td>\n",
       "      <td>2</td>\n",
       "      <td>EC99</td>\n",
       "    </tr>\n",
       "    <tr>\n",
       "      <th>11</th>\n",
       "      <td>WT</td>\n",
       "      <td>BDQ</td>\n",
       "      <td>2.5</td>\n",
       "      <td>EC99</td>\n",
       "    </tr>\n",
       "    <tr>\n",
       "      <th>12</th>\n",
       "      <td>WT</td>\n",
       "      <td>BDQ</td>\n",
       "      <td>2.5</td>\n",
       "      <td>EC99</td>\n",
       "    </tr>\n",
       "    <tr>\n",
       "      <th rowspan=\"10\" valign=\"top\">5</th>\n",
       "      <th>3</th>\n",
       "      <td>RD1</td>\n",
       "      <td>CTRL</td>\n",
       "      <td>0</td>\n",
       "      <td>EC0</td>\n",
       "    </tr>\n",
       "    <tr>\n",
       "      <th>4</th>\n",
       "      <td>RD1</td>\n",
       "      <td>CTRL</td>\n",
       "      <td>0</td>\n",
       "      <td>EC0</td>\n",
       "    </tr>\n",
       "    <tr>\n",
       "      <th>5</th>\n",
       "      <td>RD1</td>\n",
       "      <td>PZA</td>\n",
       "      <td>60</td>\n",
       "      <td>EC50</td>\n",
       "    </tr>\n",
       "    <tr>\n",
       "      <th>6</th>\n",
       "      <td>RD1</td>\n",
       "      <td>PZA</td>\n",
       "      <td>60</td>\n",
       "      <td>EC50</td>\n",
       "    </tr>\n",
       "    <tr>\n",
       "      <th>7</th>\n",
       "      <td>RD1</td>\n",
       "      <td>RIF</td>\n",
       "      <td>0.1</td>\n",
       "      <td>EC50</td>\n",
       "    </tr>\n",
       "    <tr>\n",
       "      <th>8</th>\n",
       "      <td>RD1</td>\n",
       "      <td>RIF</td>\n",
       "      <td>0.1</td>\n",
       "      <td>EC50</td>\n",
       "    </tr>\n",
       "    <tr>\n",
       "      <th>9</th>\n",
       "      <td>RD1</td>\n",
       "      <td>INH</td>\n",
       "      <td>0.04</td>\n",
       "      <td>EC50</td>\n",
       "    </tr>\n",
       "    <tr>\n",
       "      <th>10</th>\n",
       "      <td>RD1</td>\n",
       "      <td>INH</td>\n",
       "      <td>0.04</td>\n",
       "      <td>EC50</td>\n",
       "    </tr>\n",
       "    <tr>\n",
       "      <th>11</th>\n",
       "      <td>RD1</td>\n",
       "      <td>BDQ</td>\n",
       "      <td>0.02</td>\n",
       "      <td>EC50</td>\n",
       "    </tr>\n",
       "    <tr>\n",
       "      <th>12</th>\n",
       "      <td>RD1</td>\n",
       "      <td>BDQ</td>\n",
       "      <td>0.02</td>\n",
       "      <td>EC50</td>\n",
       "    </tr>\n",
       "    <tr>\n",
       "      <th rowspan=\"10\" valign=\"top\">6</th>\n",
       "      <th>3</th>\n",
       "      <td>RD1</td>\n",
       "      <td>CTRL</td>\n",
       "      <td>0</td>\n",
       "      <td>EC0</td>\n",
       "    </tr>\n",
       "    <tr>\n",
       "      <th>4</th>\n",
       "      <td>RD1</td>\n",
       "      <td>CTRL</td>\n",
       "      <td>0</td>\n",
       "      <td>EC0</td>\n",
       "    </tr>\n",
       "    <tr>\n",
       "      <th>5</th>\n",
       "      <td>RD1</td>\n",
       "      <td>PZA</td>\n",
       "      <td>400</td>\n",
       "      <td>EC99</td>\n",
       "    </tr>\n",
       "    <tr>\n",
       "      <th>6</th>\n",
       "      <td>RD1</td>\n",
       "      <td>PZA</td>\n",
       "      <td>400</td>\n",
       "      <td>EC99</td>\n",
       "    </tr>\n",
       "    <tr>\n",
       "      <th>7</th>\n",
       "      <td>RD1</td>\n",
       "      <td>RIF</td>\n",
       "      <td>2</td>\n",
       "      <td>EC99</td>\n",
       "    </tr>\n",
       "    <tr>\n",
       "      <th>8</th>\n",
       "      <td>RD1</td>\n",
       "      <td>RIF</td>\n",
       "      <td>2</td>\n",
       "      <td>EC99</td>\n",
       "    </tr>\n",
       "    <tr>\n",
       "      <th>9</th>\n",
       "      <td>RD1</td>\n",
       "      <td>INH</td>\n",
       "      <td>2</td>\n",
       "      <td>EC99</td>\n",
       "    </tr>\n",
       "    <tr>\n",
       "      <th>10</th>\n",
       "      <td>RD1</td>\n",
       "      <td>INH</td>\n",
       "      <td>2</td>\n",
       "      <td>EC99</td>\n",
       "    </tr>\n",
       "    <tr>\n",
       "      <th>11</th>\n",
       "      <td>RD1</td>\n",
       "      <td>BDQ</td>\n",
       "      <td>2.5</td>\n",
       "      <td>EC99</td>\n",
       "    </tr>\n",
       "    <tr>\n",
       "      <th>12</th>\n",
       "      <td>RD1</td>\n",
       "      <td>BDQ</td>\n",
       "      <td>2.5</td>\n",
       "      <td>EC99</td>\n",
       "    </tr>\n",
       "  </tbody>\n",
       "</table>\n",
       "</div>"
      ],
      "text/plain": [
       "           Strain Compound Concentration ConcentrationEC\n",
       "Row Column                                              \n",
       "3   1         UNI     CTRL             0             EC0\n",
       "    2         UNI     CTRL             0             EC0\n",
       "    3          WT     CTRL             0             EC0\n",
       "    4          WT     CTRL             0             EC0\n",
       "    5          WT      PZA            60            EC50\n",
       "    6          WT      PZA            60            EC50\n",
       "    7          WT      RIF           0.1            EC50\n",
       "    8          WT      RIF           0.1            EC50\n",
       "    9          WT      INH          0.04            EC50\n",
       "    10         WT      INH          0.04            EC50\n",
       "    11         WT      BDQ          0.02            EC50\n",
       "    12         WT      BDQ          0.02            EC50\n",
       "4   3          WT     CTRL             0             EC0\n",
       "    4          WT     CTRL             0             EC0\n",
       "    5          WT      PZA           400            EC99\n",
       "    6          WT      PZA           400            EC99\n",
       "    7          WT      RIF             2            EC99\n",
       "    8          WT      RIF             2            EC99\n",
       "    9          WT      INH             2            EC99\n",
       "    10         WT      INH             2            EC99\n",
       "    11         WT      BDQ           2.5            EC99\n",
       "    12         WT      BDQ           2.5            EC99\n",
       "5   3         RD1     CTRL             0             EC0\n",
       "    4         RD1     CTRL             0             EC0\n",
       "    5         RD1      PZA            60            EC50\n",
       "    6         RD1      PZA            60            EC50\n",
       "    7         RD1      RIF           0.1            EC50\n",
       "    8         RD1      RIF           0.1            EC50\n",
       "    9         RD1      INH          0.04            EC50\n",
       "    10        RD1      INH          0.04            EC50\n",
       "    11        RD1      BDQ          0.02            EC50\n",
       "    12        RD1      BDQ          0.02            EC50\n",
       "6   3         RD1     CTRL             0             EC0\n",
       "    4         RD1     CTRL             0             EC0\n",
       "    5         RD1      PZA           400            EC99\n",
       "    6         RD1      PZA           400            EC99\n",
       "    7         RD1      RIF             2            EC99\n",
       "    8         RD1      RIF             2            EC99\n",
       "    9         RD1      INH             2            EC99\n",
       "    10        RD1      INH             2            EC99\n",
       "    11        RD1      BDQ           2.5            EC99\n",
       "    12        RD1      BDQ           2.5            EC99"
      ]
     },
     "execution_count": 6,
     "metadata": {},
     "output_type": "execute_result"
    }
   ],
   "source": [
    "assay_layout"
   ]
  },
  {
   "cell_type": "code",
   "execution_count": 200,
   "id": "4652284e-163f-40d3-a95f-25905695dc00",
   "metadata": {},
   "outputs": [],
   "source": [
    "acq_ID = (3, 4)"
   ]
  },
  {
   "cell_type": "code",
   "execution_count": 208,
   "id": "518f192b-a40d-4f17-ad63-a1a299a354c5",
   "metadata": {},
   "outputs": [],
   "source": [
    "zarr_group = zarr.open(f'/mnt/SYNO/macrohet_syno/{expt_ID}/acquisition/zarr/{acq_ID}.zarr', mode='r')"
   ]
  },
  {
   "cell_type": "code",
   "execution_count": 209,
   "id": "233402fe-63fe-4f83-af11-071f0d4728c0",
   "metadata": {},
   "outputs": [],
   "source": [
    "images = zarr_group.images"
   ]
  },
  {
   "cell_type": "code",
   "execution_count": 210,
   "id": "db3109f1-34c8-48d2-98a7-bd773e8833c2",
   "metadata": {},
   "outputs": [
    {
     "data": {
      "text/plain": [
       "(150, 2, 3, 6048, 6048)"
      ]
     },
     "execution_count": 210,
     "metadata": {},
     "output_type": "execute_result"
    }
   ],
   "source": [
    "images.shape"
   ]
  },
  {
   "cell_type": "code",
   "execution_count": 211,
   "id": "5df6efdf-3ae5-4ea3-8fef-29c11a578474",
   "metadata": {},
   "outputs": [],
   "source": [
    "img = np.max(images[0,1,:,...], axis = 0)"
   ]
  },
  {
   "cell_type": "code",
   "execution_count": 212,
   "id": "93e217b1-8dba-4b15-80e1-ec19ab032634",
   "metadata": {},
   "outputs": [
    {
     "data": {
      "text/plain": [
       "(6048, 6048)"
      ]
     },
     "execution_count": 212,
     "metadata": {},
     "output_type": "execute_result"
    }
   ],
   "source": [
    "img.shape"
   ]
  },
  {
   "cell_type": "code",
   "execution_count": 206,
   "id": "3c2299ad-fed7-4393-9d3d-7b5256362b19",
   "metadata": {},
   "outputs": [
    {
     "data": {
      "text/plain": [
       "<Image layer 'img' at 0x7f8c05724280>"
      ]
     },
     "execution_count": 206,
     "metadata": {},
     "output_type": "execute_result"
    }
   ],
   "source": [
    "viewer = napari.Viewer()\n",
    "\n",
    "viewer.add_image(img)"
   ]
  },
  {
   "cell_type": "code",
   "execution_count": 213,
   "id": "e74790c7-7395-4fb2-ad59-0b748fb1e3fe",
   "metadata": {},
   "outputs": [
    {
     "data": {
      "text/plain": [
       "<Image layer 'img [1]' at 0x7f8bfd9ce520>"
      ]
     },
     "execution_count": 213,
     "metadata": {},
     "output_type": "execute_result"
    }
   ],
   "source": [
    "viewer.add_image(img)"
   ]
  },
  {
   "cell_type": "code",
   "execution_count": 34,
   "id": "8a8d28c5-9c3b-42fb-806c-07351c024533",
   "metadata": {},
   "outputs": [],
   "source": [
    "\n",
    "model = models.Cellpose(gpu=True, model_type='cyto3')\n",
    "\n",
    "\n",
    "masks, flows, styles, diams = model.eval(img,\n",
    "                                         diameter = 350)\n",
    "                                         # diameter=None, #350\n",
    "                                         # channels=[0,0],\n",
    "                                         # flow_threshold=None, \n",
    "                                         # cellprob_threshold=0)"
   ]
  },
  {
   "cell_type": "code",
   "execution_count": 207,
   "id": "a98b1fe7-c495-4bd9-8846-fbc99ab33136",
   "metadata": {},
   "outputs": [
    {
     "data": {
      "text/plain": [
       "<Labels layer 'masks' at 0x7f8c07eb0c40>"
      ]
     },
     "execution_count": 207,
     "metadata": {},
     "output_type": "execute_result"
    }
   ],
   "source": [
    "viewer.add_labels(masks)"
   ]
  },
  {
   "cell_type": "code",
   "execution_count": 36,
   "id": "61809ee2-8fb4-4fe9-b5a6-3a824feac851",
   "metadata": {},
   "outputs": [],
   "source": [
    "from macrohet import notify\n",
    "notify.send_sys_message()"
   ]
  },
  {
   "cell_type": "markdown",
   "id": "45a6f3c0-2f70-45b6-aca8-fce2bfaddd76",
   "metadata": {},
   "source": [
    "# Try whole stack overnight"
   ]
  },
  {
   "cell_type": "code",
   "execution_count": 42,
   "id": "1422f3ba-a06f-4010-b7f1-f5a713ec857b",
   "metadata": {},
   "outputs": [],
   "source": [
    "image_stack = np.max(images[:,1,:,...], axis = 1)"
   ]
  },
  {
   "cell_type": "code",
   "execution_count": 43,
   "id": "89819b70-bba1-4e61-a79e-cd67af9e379b",
   "metadata": {},
   "outputs": [
    {
     "data": {
      "application/vnd.jupyter.widget-view+json": {
       "model_id": "f3b053e8928d412f814c0c35c31c3ac1",
       "version_major": 2,
       "version_minor": 0
      },
      "text/plain": [
       "  0%|          | 0/150 [00:00<?, ?it/s]"
      ]
     },
     "metadata": {},
     "output_type": "display_data"
    }
   ],
   "source": [
    "mask_stack = []\n",
    "for img in tqdm(image_stack):\n",
    "    masks, flows, styles, diams = model.eval(img,\n",
    "                                             diameter = 350)\n",
    "                                             # diameter=None, #350\n",
    "                                             # channels=[0,0],\n",
    "                                             # flow_threshold=None, \n",
    "                                             # cellprob_threshold=0)\n",
    "    mask_stack.append(masks)\n",
    "segmentation = np.stack(mask_stack, axis = 0)"
   ]
  },
  {
   "cell_type": "code",
   "execution_count": 46,
   "id": "c3c109a8-2949-4a44-b591-9efd4d546d28",
   "metadata": {},
   "outputs": [
    {
     "data": {
      "text/plain": [
       "<Labels layer 'segmentation' at 0x7f8c656df250>"
      ]
     },
     "execution_count": 46,
     "metadata": {},
     "output_type": "execute_result"
    }
   ],
   "source": [
    "viewer.add_image(image_stack)\n",
    "viewer.add_labels(segmentation)"
   ]
  },
  {
   "cell_type": "code",
   "execution_count": 47,
   "id": "0eb27ecc-e1ee-4c85-adbf-140279a72396",
   "metadata": {},
   "outputs": [],
   "source": [
    "import btrack"
   ]
  },
  {
   "cell_type": "code",
   "execution_count": 50,
   "id": "dcc06462-3ec2-46db-822f-0814a1d584c2",
   "metadata": {},
   "outputs": [
    {
     "name": "stderr",
     "output_type": "stream",
     "text": [
      "[INFO][2024/02/16 10:33:00 am] Opening HDF file: /mnt/SYNO/macrohet_syno/ND0002/labels/macrohet_seg_model/(3, 4)_celllposev3_seg.h5...\n",
      "[INFO][2024/02/16 10:33:53 am] Closing HDF file: /mnt/SYNO/macrohet_syno/ND0002/labels/macrohet_seg_model/(3, 4)_celllposev3_seg.h5\n"
     ]
    }
   ],
   "source": [
    "with btrack.io.HDF5FileHandler(os.path.join(base_dir, f'labels/macrohet_seg_model/{acq_ID}_cellposev3_seg.h5'), \n",
    "                                       'w', \n",
    "                                       obj_type='obj_type_1'\n",
    "                                       ) as writer:\n",
    "            writer.write_segmentation(segmentation)"
   ]
  },
  {
   "cell_type": "markdown",
   "id": "aac9385e-12f2-4324-936e-aa28199d4833",
   "metadata": {},
   "source": [
    "# test track first\n"
   ]
  },
  {
   "cell_type": "markdown",
   "id": "cce0588a-bc42-40b7-b33c-b76c07322aa9",
   "metadata": {},
   "source": [
    "### Load rfp images"
   ]
  },
  {
   "cell_type": "code",
   "execution_count": 68,
   "id": "746c3987-f016-4722-82db-2ab5c33e2818",
   "metadata": {},
   "outputs": [],
   "source": [
    "gfp_image_stack = image_stack\n",
    "rfp_image_stack = np.max(images[:,0,:,...], axis = 1)"
   ]
  },
  {
   "cell_type": "code",
   "execution_count": 69,
   "id": "f6557c6d-494b-4495-a034-5afc87524bd7",
   "metadata": {},
   "outputs": [],
   "source": [
    "Mtb_load_thresh = 480"
   ]
  },
  {
   "cell_type": "code",
   "execution_count": 71,
   "id": "d07d0fe5-94a3-4291-9553-371328751fd4",
   "metadata": {},
   "outputs": [],
   "source": [
    "# define thresholds\n",
    "segment_size_thresh = 5000\n",
    "Mtb_load_thresh = 480\n",
    "\n",
    "# define tracking scale factor\n",
    "scale_factor = 1/5.04"
   ]
  },
  {
   "cell_type": "code",
   "execution_count": 70,
   "id": "f03c41e4-50fc-4d54-bcd2-910e360aa3b4",
   "metadata": {},
   "outputs": [],
   "source": [
    "intensity_image = manual_mtb_thresh = np.where(rfp_image_stack >= Mtb_load_thresh, 1, 0)"
   ]
  },
  {
   "cell_type": "markdown",
   "id": "acb40ea9-6555-4fac-93f7-d86e0e7cf1a3",
   "metadata": {},
   "source": [
    "### Simple localisation"
   ]
  },
  {
   "cell_type": "code",
   "execution_count": 72,
   "id": "7e9648cc-434f-4a39-b9db-32998c6e267b",
   "metadata": {},
   "outputs": [],
   "source": [
    " # define features to use for tracking \n",
    "features = [\n",
    "  \"area\",\n",
    "  \"major_axis_length\",\n",
    "  \"minor_axis_length\",\n",
    "  \"orientation\",\n",
    "  \"mean_intensity\",\n",
    "    ]\n",
    "\n",
    "properties = tuple(features)"
   ]
  },
  {
   "cell_type": "code",
   "execution_count": 73,
   "id": "4dd12974-a9bb-421c-a416-1e7bf5aa00f1",
   "metadata": {},
   "outputs": [
    {
     "name": "stderr",
     "output_type": "stream",
     "text": [
      "[INFO][2024/02/16 11:25:01 am] Localizing objects from segmentation...\n",
      "INFO:btrack.io._localization:Localizing objects from segmentation...\n",
      "100%|███████████████████████████████████████████████████████████████████████████████████████████████████████████████████████████████████████████████████| 150/150 [05:14<00:00,  2.10s/it]\n",
      "[INFO][2024/02/16 11:30:16 am] Objects are of type: <class 'dict'>\n",
      "INFO:btrack.io.utils:Objects are of type: <class 'dict'>\n",
      "[INFO][2024/02/16 11:30:16 am] ...Found 38265 objects in 150 frames.\n",
      "INFO:btrack.io._localization:...Found 38265 objects in 150 frames.\n"
     ]
    }
   ],
   "source": [
    "objects = btrack.utils.segmentation_to_objects(segmentation=segmentation,\n",
    "                                                   intensity_image=intensity_image, \n",
    "                                                   properties=properties,\n",
    "                                                   scale=(scale_factor,scale_factor),\n",
    "                                                   use_weighted_centroid=False, \n",
    "                                                   )    "
   ]
  },
  {
   "cell_type": "code",
   "execution_count": 74,
   "id": "e428c823-ce07-41c3-acd1-c6ecec8c0685",
   "metadata": {},
   "outputs": [
    {
     "name": "stderr",
     "output_type": "stream",
     "text": [
      "[INFO][2024/02/16 11:30:16 am] Opening HDF file: /mnt/SYNO/macrohet_syno/ND0002/labels/macrohet_seg_model/(3, 4)_cellposev3_objs.h5...\n",
      "INFO:btrack.io.hdf:Opening HDF file: /mnt/SYNO/macrohet_syno/ND0002/labels/macrohet_seg_model/(3, 4)_cellposev3_objs.h5...\n",
      "[INFO][2024/02/16 11:30:17 am] Writing objects/obj_type_1\n",
      "INFO:btrack.io.hdf:Writing objects/obj_type_1\n",
      "[INFO][2024/02/16 11:30:17 am] Writing labels/obj_type_1\n",
      "INFO:btrack.io.hdf:Writing labels/obj_type_1\n",
      "[INFO][2024/02/16 11:30:17 am] Loading objects/obj_type_1 (38265, 5) (38265 filtered: None)\n",
      "INFO:btrack.io.hdf:Loading objects/obj_type_1 (38265, 5) (38265 filtered: None)\n",
      "[INFO][2024/02/16 11:30:18 am] Writing properties/obj_type_1/area (38265,)\n",
      "INFO:btrack.io.hdf:Writing properties/obj_type_1/area (38265,)\n",
      "[INFO][2024/02/16 11:30:18 am] Writing properties/obj_type_1/major_axis_length (38265,)\n",
      "INFO:btrack.io.hdf:Writing properties/obj_type_1/major_axis_length (38265,)\n",
      "[INFO][2024/02/16 11:30:18 am] Writing properties/obj_type_1/minor_axis_length (38265,)\n",
      "INFO:btrack.io.hdf:Writing properties/obj_type_1/minor_axis_length (38265,)\n",
      "[INFO][2024/02/16 11:30:18 am] Writing properties/obj_type_1/orientation (38265,)\n",
      "INFO:btrack.io.hdf:Writing properties/obj_type_1/orientation (38265,)\n",
      "[INFO][2024/02/16 11:30:18 am] Writing properties/obj_type_1/mean_intensity (38265,)\n",
      "INFO:btrack.io.hdf:Writing properties/obj_type_1/mean_intensity (38265,)\n",
      "[INFO][2024/02/16 11:30:18 am] Closing HDF file: /mnt/SYNO/macrohet_syno/ND0002/labels/macrohet_seg_model/(3, 4)_cellposev3_objs.h5\n",
      "INFO:btrack.io.hdf:Closing HDF file: /mnt/SYNO/macrohet_syno/ND0002/labels/macrohet_seg_model/(3, 4)_cellposev3_objs.h5\n"
     ]
    }
   ],
   "source": [
    "with btrack.io.HDF5FileHandler(os.path.join(base_dir, f'labels/macrohet_seg_model/{acq_ID}_cellposev3_objs.h5'), \n",
    "                                       'w', \n",
    "                                       obj_type='obj_type_1'\n",
    "                                       ) as writer:\n",
    "            writer.write_objects(objects)"
   ]
  },
  {
   "cell_type": "code",
   "execution_count": 75,
   "id": "ca367fb1-655a-48a7-962a-5041a51c55e0",
   "metadata": {},
   "outputs": [],
   "source": [
    "objects = [o for o in objects if o.properties['area'] > segment_size_thresh]\n"
   ]
  },
  {
   "cell_type": "code",
   "execution_count": 76,
   "id": "34e13c67-cf55-4058-a9d1-71f9abc2a7b2",
   "metadata": {},
   "outputs": [],
   "source": [
    "for obj in objects:\n",
    "    obj.properties = ({\"Infected\": True} \n",
    "                        if obj.properties['mean_intensity'] > 0 # index 2 for manual mtb channel \n",
    "                        else {\"Infected\": False})\n",
    "    obj.properties = ({\"Mtb area px\": obj.properties['mean_intensity']*obj.properties['area']})"
   ]
  },
  {
   "cell_type": "code",
   "execution_count": 106,
   "id": "410b5739-b0cb-4ae8-bae4-81e14da6a459",
   "metadata": {},
   "outputs": [
    {
     "name": "stderr",
     "output_type": "stream",
     "text": [
      "[INFO][2024/02/16 02:12:16 pm] Loaded btrack: /home/dayn/analysis/btrack/btrack/libs/libtracker.so\n",
      "INFO:btrack.libwrapper:Loaded btrack: /home/dayn/analysis/btrack/btrack/libs/libtracker.so\n",
      "[INFO][2024/02/16 02:12:16 pm] Starting BayesianTracker session\n",
      "INFO:btrack.core:Starting BayesianTracker session\n",
      "[INFO][2024/02/16 02:12:16 pm] Loading configuration file: /home/dayn/analysis/models/btrack/particle_config_pnassign.json\n",
      "INFO:btrack.config:Loading configuration file: /home/dayn/analysis/models/btrack/particle_config_pnassign.json\n",
      "[INFO][2024/02/16 02:12:16 pm] Objects are of type: <class 'list'>\n",
      "INFO:btrack.io.utils:Objects are of type: <class 'list'>\n",
      "[INFO][2024/02/16 02:12:17 pm] Starting tracking... \n",
      "INFO:btrack.core:Starting tracking... \n",
      "[INFO][2024/02/16 02:12:17 pm] Update using: ['MOTION', 'VISUAL']\n",
      "INFO:btrack.core:Update using: ['MOTION', 'VISUAL']\n",
      "[INFO][2024/02/16 02:12:17 pm] Tracking objects in frames 0 to 24 (of 150)...\n",
      "INFO:btrack.core:Tracking objects in frames 0 to 24 (of 150)...\n",
      "[INFO][2024/02/16 02:12:18 pm]  - Timing (Bayesian updates: 15.06ms, Linking: 1.50ms)\n",
      "INFO:btrack.utils: - Timing (Bayesian updates: 15.06ms, Linking: 1.50ms)\n",
      "[INFO][2024/02/16 02:12:18 pm]  - Probabilities (Link: 1.00000, Lost: 1.00000)\n",
      "INFO:btrack.utils: - Probabilities (Link: 1.00000, Lost: 1.00000)\n",
      "[INFO][2024/02/16 02:12:18 pm]  - Stats (Active: 371, Lost: 1965, Conflicts resolved: 2148)\n",
      "INFO:btrack.utils: - Stats (Active: 371, Lost: 1965, Conflicts resolved: 2148)\n",
      "[INFO][2024/02/16 02:12:18 pm] Tracking objects in frames 25 to 49 (of 150)...\n",
      "INFO:btrack.core:Tracking objects in frames 25 to 49 (of 150)...\n",
      "[INFO][2024/02/16 02:12:19 pm]  - Timing (Bayesian updates: 11.73ms, Linking: 1.44ms)\n",
      "INFO:btrack.utils: - Timing (Bayesian updates: 11.73ms, Linking: 1.44ms)\n",
      "[INFO][2024/02/16 02:12:19 pm]  - Probabilities (Link: 0.99997, Lost: 1.00000)\n",
      "INFO:btrack.utils: - Probabilities (Link: 0.99997, Lost: 1.00000)\n",
      "[INFO][2024/02/16 02:12:19 pm]  - Stats (Active: 359, Lost: 3809, Conflicts resolved: 4229)\n",
      "INFO:btrack.utils: - Stats (Active: 359, Lost: 3809, Conflicts resolved: 4229)\n",
      "[INFO][2024/02/16 02:12:19 pm] Tracking objects in frames 50 to 74 (of 150)...\n",
      "INFO:btrack.core:Tracking objects in frames 50 to 74 (of 150)...\n",
      "[INFO][2024/02/16 02:12:20 pm]  - Timing (Bayesian updates: 10.85ms, Linking: 1.30ms)\n",
      "INFO:btrack.utils: - Timing (Bayesian updates: 10.85ms, Linking: 1.30ms)\n",
      "[INFO][2024/02/16 02:12:20 pm]  - Probabilities (Link: 1.00000, Lost: 1.00000)\n",
      "INFO:btrack.utils: - Probabilities (Link: 1.00000, Lost: 1.00000)\n",
      "[INFO][2024/02/16 02:12:20 pm]  - Stats (Active: 357, Lost: 5633, Conflicts resolved: 6109)\n",
      "INFO:btrack.utils: - Stats (Active: 357, Lost: 5633, Conflicts resolved: 6109)\n",
      "[INFO][2024/02/16 02:12:20 pm] Tracking objects in frames 75 to 99 (of 150)...\n",
      "INFO:btrack.core:Tracking objects in frames 75 to 99 (of 150)...\n",
      "[INFO][2024/02/16 02:12:22 pm]  - Timing (Bayesian updates: 15.70ms, Linking: 1.56ms)\n",
      "INFO:btrack.utils: - Timing (Bayesian updates: 15.70ms, Linking: 1.56ms)\n",
      "[INFO][2024/02/16 02:12:22 pm]  - Probabilities (Link: 1.00000, Lost: 1.00000)\n",
      "INFO:btrack.utils: - Probabilities (Link: 1.00000, Lost: 1.00000)\n",
      "[INFO][2024/02/16 02:12:22 pm]  - Stats (Active: 401, Lost: 7485, Conflicts resolved: 8127)\n",
      "INFO:btrack.utils: - Stats (Active: 401, Lost: 7485, Conflicts resolved: 8127)\n",
      "[INFO][2024/02/16 02:12:22 pm] Tracking objects in frames 100 to 124 (of 150)...\n",
      "INFO:btrack.core:Tracking objects in frames 100 to 124 (of 150)...\n",
      "[INFO][2024/02/16 02:12:23 pm]  - Timing (Bayesian updates: 13.27ms, Linking: 1.45ms)\n",
      "INFO:btrack.utils: - Timing (Bayesian updates: 13.27ms, Linking: 1.45ms)\n",
      "[INFO][2024/02/16 02:12:23 pm]  - Probabilities (Link: 1.00000, Lost: 0.99975)\n",
      "INFO:btrack.utils: - Probabilities (Link: 1.00000, Lost: 0.99975)\n",
      "[INFO][2024/02/16 02:12:23 pm]  - Stats (Active: 385, Lost: 9568, Conflicts resolved: 10242)\n",
      "INFO:btrack.utils: - Stats (Active: 385, Lost: 9568, Conflicts resolved: 10242)\n",
      "[INFO][2024/02/16 02:12:23 pm] Tracking objects in frames 125 to 149 (of 150)...\n",
      "INFO:btrack.core:Tracking objects in frames 125 to 149 (of 150)...\n",
      "[INFO][2024/02/16 02:12:24 pm]  - Timing (Bayesian updates: 12.72ms, Linking: 1.33ms)\n",
      "INFO:btrack.utils: - Timing (Bayesian updates: 12.72ms, Linking: 1.33ms)\n",
      "[INFO][2024/02/16 02:12:24 pm]  - Probabilities (Link: 1.00000, Lost: 0.98425)\n",
      "INFO:btrack.utils: - Probabilities (Link: 1.00000, Lost: 0.98425)\n",
      "[INFO][2024/02/16 02:12:24 pm] SUCCESS.\n",
      "INFO:btrack.core:SUCCESS.\n",
      "[INFO][2024/02/16 02:12:24 pm]  - Found 4236 tracks in 150 frames (in 0.0s)\n",
      "INFO:btrack.core: - Found 4236 tracks in 150 frames (in 0.0s)\n",
      "[INFO][2024/02/16 02:12:25 pm]  - Inserted 10019 dummy objects to fill tracking gaps\n",
      "INFO:btrack.core: - Inserted 10019 dummy objects to fill tracking gaps\n",
      "[INFO][2024/02/16 02:12:25 pm] Loading hypothesis model: particle_hypothesis\n",
      "INFO:btrack.core:Loading hypothesis model: particle_hypothesis\n",
      "[INFO][2024/02/16 02:12:25 pm] Calculating hypotheses (relax: True)...\n",
      "INFO:btrack.core:Calculating hypotheses (relax: True)...\n",
      "[INFO][2024/02/16 02:12:25 pm] Setting up constraints matrix for global optimisation...\n",
      "INFO:btrack.optimise.optimiser:Setting up constraints matrix for global optimisation...\n",
      "[INFO][2024/02/16 02:12:25 pm] Using GLPK options: {'tm_lim': 60000}...\n",
      "INFO:btrack.optimise.optimiser:Using GLPK options: {'tm_lim': 60000}...\n",
      "[INFO][2024/02/16 02:12:25 pm] Optimizing...\n",
      "INFO:btrack.optimise.optimiser:Optimizing...\n",
      "[INFO][2024/02/16 02:12:27 pm] Optimization complete. (Solution: optimal)\n",
      "INFO:btrack.optimise.optimiser:Optimization complete. (Solution: optimal)\n",
      "[INFO][2024/02/16 02:12:27 pm]  - Fates.FALSE_POSITIVE: 1784 (of 4236)\n",
      "INFO:btrack.core: - Fates.FALSE_POSITIVE: 1784 (of 4236)\n",
      "[INFO][2024/02/16 02:12:27 pm]  - Fates.LINK: 912 (of 1332)\n",
      "INFO:btrack.core: - Fates.LINK: 912 (of 1332)\n",
      "[INFO][2024/02/16 02:12:27 pm]  - Fates.INITIALIZE_BORDER: 167 (of 372)\n",
      "INFO:btrack.core: - Fates.INITIALIZE_BORDER: 167 (of 372)\n",
      "[INFO][2024/02/16 02:12:27 pm]  - Fates.INITIALIZE_FRONT: 258 (of 421)\n",
      "INFO:btrack.core: - Fates.INITIALIZE_FRONT: 258 (of 421)\n",
      "[INFO][2024/02/16 02:12:27 pm]  - Fates.INITIALIZE_LAZY: 1115 (of 3443)\n",
      "INFO:btrack.core: - Fates.INITIALIZE_LAZY: 1115 (of 3443)\n",
      "[INFO][2024/02/16 02:12:27 pm]  - Fates.TERMINATE_BORDER: 163 (of 369)\n",
      "INFO:btrack.core: - Fates.TERMINATE_BORDER: 163 (of 369)\n",
      "[INFO][2024/02/16 02:12:27 pm]  - Fates.TERMINATE_BACK: 252 (of 340)\n",
      "INFO:btrack.core: - Fates.TERMINATE_BACK: 252 (of 340)\n",
      "[INFO][2024/02/16 02:12:27 pm]  - Fates.TERMINATE_LAZY: 1125 (of 3527)\n",
      "INFO:btrack.core: - Fates.TERMINATE_LAZY: 1125 (of 3527)\n",
      "[INFO][2024/02/16 02:12:27 pm]  - TOTAL: 14040 hypotheses\n",
      "INFO:btrack.core: - TOTAL: 14040 hypotheses\n",
      "[INFO][2024/02/16 02:12:27 pm] Completed optimization with 3324 tracks\n",
      "INFO:btrack.core:Completed optimization with 3324 tracks\n"
     ]
    },
    {
     "name": "stdout",
     "output_type": "stream",
     "text": [
      "GLPK Integer Optimizer 5.0\n",
      "16944 rows, 14040 columns, 19608 non-zeros\n",
      "14040 integer variables, all of which are binary\n",
      "Preprocessing...\n",
      "8472 rows, 14040 columns, 19608 non-zeros\n",
      "14040 integer variables, all of which are binary\n",
      "Scaling...\n",
      " A: min|aij| =  1.000e+00  max|aij| =  1.000e+00  ratio =  1.000e+00\n",
      "Problem data seem to be well scaled\n",
      "Constructing initial basis...\n",
      "Size of triangular part is 8472\n",
      "Solving LP relaxation...\n",
      "GLPK Simplex Optimizer 5.0\n",
      "8472 rows, 14040 columns, 19608 non-zeros\n",
      "*     0: obj =   4.973911752e+04 inf =   0.000e+00 (3580)\n",
      "Perturbing LP to avoid stalling [1839]...\n",
      "Removing LP perturbation [3640]...\n",
      "*  3640: obj =   2.538365859e+04 inf =   0.000e+00 (0)\n",
      "OPTIMAL LP SOLUTION FOUND\n",
      "Integer optimization begins...\n",
      "Long-step dual simplex will be used\n",
      "+  3640: mip =     not found yet >=              -inf        (1; 0)\n",
      "+  3640: >>>>>   2.538365859e+04 >=   2.538365859e+04   0.0% (1; 0)\n",
      "+  3640: mip =   2.538365859e+04 >=     tree is empty   0.0% (0; 1)\n",
      "INTEGER OPTIMAL SOLUTION FOUND\n"
     ]
    },
    {
     "name": "stderr",
     "output_type": "stream",
     "text": [
      "[INFO][2024/02/16 02:12:27 pm] Ending BayesianTracker session\n",
      "INFO:btrack.core:Ending BayesianTracker session\n"
     ]
    }
   ],
   "source": [
    "config_fn = '/home/dayn/analysis/models/btrack/particle_config_pnassign.json'\n",
    "search_radius = 20\n",
    "\n",
    "# initialise a tracker session using a context manager\n",
    "with btrack.BayesianTracker() as tracker:\n",
    "    # configure the tracker using a config file\n",
    "    tracker.configure(config_fn)\n",
    "    # set max search radius\n",
    "    tracker.max_search_radius = search_radius\n",
    "    # define tracking method\n",
    "    tracker.tracking_updates = [\"MOTION\", \"VISUAL\"]\n",
    "    # redefine features so that both channels are included in track measurements\n",
    "    tracker.features = list(objects[0].properties.keys())\n",
    "    # append the objects to be tracked\n",
    "    tracker.append(objects)\n",
    "    # set the tracking volume\n",
    "    tracker.volume=((0, segmentation.shape[-2]*scale_factor), (0, segmentation.shape[-1]*scale_factor))\n",
    "    # track them (in interactive mode)\n",
    "    tracker.track(step_size=25)\n",
    "    # generate hypotheses and run the global optimizer\n",
    "    tracker.optimize()\n",
    "    # store the tracks\n",
    "    tracks = tracker.tracks"
   ]
  },
  {
   "cell_type": "code",
   "execution_count": 78,
   "id": "3fc5ba6a-4d1b-40d5-8003-73f9a266fc22",
   "metadata": {},
   "outputs": [
    {
     "name": "stderr",
     "output_type": "stream",
     "text": [
      "[INFO][2024/02/16 11:30:28 am] Opening HDF file: /mnt/SYNO/macrohet_syno/ND0002/labels/macrohet_seg_model/(3, 4)_cellposev3_tracks.h5...\n",
      "INFO:btrack.io.hdf:Opening HDF file: /mnt/SYNO/macrohet_syno/ND0002/labels/macrohet_seg_model/(3, 4)_cellposev3_tracks.h5...\n",
      "[INFO][2024/02/16 11:30:29 am] Writing objects/obj_type_1\n",
      "INFO:btrack.io.hdf:Writing objects/obj_type_1\n",
      "[INFO][2024/02/16 11:30:29 am] Writing labels/obj_type_1\n",
      "INFO:btrack.io.hdf:Writing labels/obj_type_1\n",
      "[INFO][2024/02/16 11:30:29 am] Loading objects/obj_type_1 (26814, 5) (26814 filtered: None)\n",
      "INFO:btrack.io.hdf:Loading objects/obj_type_1 (26814, 5) (26814 filtered: None)\n",
      "[INFO][2024/02/16 11:30:29 am] Writing properties/obj_type_1/area (26814,)\n",
      "INFO:btrack.io.hdf:Writing properties/obj_type_1/area (26814,)\n",
      "[INFO][2024/02/16 11:30:29 am] Writing properties/obj_type_1/major_axis_length (26814,)\n",
      "INFO:btrack.io.hdf:Writing properties/obj_type_1/major_axis_length (26814,)\n",
      "[INFO][2024/02/16 11:30:29 am] Writing properties/obj_type_1/minor_axis_length (26814,)\n",
      "INFO:btrack.io.hdf:Writing properties/obj_type_1/minor_axis_length (26814,)\n",
      "[INFO][2024/02/16 11:30:29 am] Writing properties/obj_type_1/orientation (26814,)\n",
      "INFO:btrack.io.hdf:Writing properties/obj_type_1/orientation (26814,)\n",
      "[INFO][2024/02/16 11:30:29 am] Writing properties/obj_type_1/mean_intensity (26814,)\n",
      "INFO:btrack.io.hdf:Writing properties/obj_type_1/mean_intensity (26814,)\n",
      "[INFO][2024/02/16 11:30:29 am] Writing properties/obj_type_1/Infected (26814,)\n",
      "INFO:btrack.io.hdf:Writing properties/obj_type_1/Infected (26814,)\n",
      "[INFO][2024/02/16 11:30:29 am] Writing properties/obj_type_1/Mtb area px (26814,)\n",
      "INFO:btrack.io.hdf:Writing properties/obj_type_1/Mtb area px (26814,)\n",
      "[INFO][2024/02/16 11:30:29 am] Writing tracks/obj_type_1\n",
      "INFO:btrack.io.hdf:Writing tracks/obj_type_1\n",
      "[INFO][2024/02/16 11:30:29 am] Writing LBEP/obj_type_1\n",
      "INFO:btrack.io.hdf:Writing LBEP/obj_type_1\n",
      "[INFO][2024/02/16 11:30:29 am] Writing fates/obj_type_1\n",
      "INFO:btrack.io.hdf:Writing fates/obj_type_1\n",
      "[INFO][2024/02/16 11:30:29 am] Closing HDF file: /mnt/SYNO/macrohet_syno/ND0002/labels/macrohet_seg_model/(3, 4)_cellposev3_tracks.h5\n",
      "INFO:btrack.io.hdf:Closing HDF file: /mnt/SYNO/macrohet_syno/ND0002/labels/macrohet_seg_model/(3, 4)_cellposev3_tracks.h5\n"
     ]
    }
   ],
   "source": [
    "with btrack.io.HDF5FileHandler(os.path.join(base_dir, f'labels/macrohet_seg_model/{acq_ID}_cellposev3_tracks.h5'), \n",
    "                                       'w', \n",
    "                                       obj_type='obj_type_1'\n",
    "                                       ) as writer:\n",
    "            writer.write_tracks(tracks)\n",
    "    "
   ]
  },
  {
   "cell_type": "code",
   "execution_count": 101,
   "id": "91c3224a-0e62-4c36-932b-baa1bbce821f",
   "metadata": {},
   "outputs": [],
   "source": [
    "napari_tracks, _, _ = btrack.utils.tracks_to_napari(tracks, ndim=2)"
   ]
  },
  {
   "cell_type": "code",
   "execution_count": 102,
   "id": "3dc95652-f1df-4096-999f-2bdd688d1dfa",
   "metadata": {},
   "outputs": [
    {
     "data": {
      "text/plain": [
       "<Tracks layer 'napari_tracks' at 0x7f8c15ca9d60>"
      ]
     },
     "execution_count": 102,
     "metadata": {},
     "output_type": "execute_result"
    }
   ],
   "source": [
    "viewer.add_tracks(napari_tracks, scale=(1/scale_factor,1/scale_factor))"
   ]
  },
  {
   "cell_type": "markdown",
   "id": "1f9471cf-5645-4ab4-bb2a-eb0e8e2acf1f",
   "metadata": {},
   "source": [
    "### filter tracks"
   ]
  },
  {
   "cell_type": "code",
   "execution_count": 114,
   "id": "f7829439-6108-41d2-9c4c-356934dd1da4",
   "metadata": {},
   "outputs": [],
   "source": [
    "napari_tracks, _, _ = btrack.utils.tracks_to_napari([t for t in tracks if len(t) >= 70], ndim=2)"
   ]
  },
  {
   "cell_type": "code",
   "execution_count": 115,
   "id": "ebc4ffb7-135b-48fb-a2db-a08e13aa8227",
   "metadata": {},
   "outputs": [
    {
     "data": {
      "text/plain": [
       "70"
      ]
     },
     "execution_count": 115,
     "metadata": {},
     "output_type": "execute_result"
    }
   ],
   "source": [
    "len([t for t in tracks if len(t) >= 75])"
   ]
  },
  {
   "cell_type": "code",
   "execution_count": 116,
   "id": "95551602-c6f6-49f0-98fb-5e377ceddfd5",
   "metadata": {},
   "outputs": [
    {
     "data": {
      "text/plain": [
       "<Tracks layer 'filtered [8]' at 0x7f8c04e4aeb0>"
      ]
     },
     "execution_count": 116,
     "metadata": {},
     "output_type": "execute_result"
    }
   ],
   "source": [
    "viewer.add_tracks(napari_tracks, scale=(1/scale_factor,1/scale_factor), name = 'filtered')"
   ]
  },
  {
   "cell_type": "markdown",
   "id": "60809281-2ff5-4826-9aa6-5e9aef9e1775",
   "metadata": {},
   "source": [
    "# comparison with previous segmentation model"
   ]
  },
  {
   "cell_type": "code",
   "execution_count": 127,
   "id": "f81eb029-d186-4077-b514-642c904e8485",
   "metadata": {},
   "outputs": [
    {
     "name": "stderr",
     "output_type": "stream",
     "text": [
      "[INFO][2024/02/16 02:45:54 pm] Opening HDF file: /mnt/SYNO/macrohet_syno/ND0002/labels/macrohet_seg_model/(3, 4)_first_pass.h5...\n",
      "INFO:btrack.io.hdf:Opening HDF file: /mnt/SYNO/macrohet_syno/ND0002/labels/macrohet_seg_model/(3, 4)_first_pass.h5...\n",
      "[INFO][2024/02/16 02:45:54 pm] Loading objects/obj_type_1 (50141, 5) (50141 filtered: None)\n",
      "INFO:btrack.io.hdf:Loading objects/obj_type_1 (50141, 5) (50141 filtered: None)\n",
      "[INFO][2024/02/16 02:45:55 pm] Closing HDF file: /mnt/SYNO/macrohet_syno/ND0002/labels/macrohet_seg_model/(3, 4)_first_pass.h5\n",
      "INFO:btrack.io.hdf:Closing HDF file: /mnt/SYNO/macrohet_syno/ND0002/labels/macrohet_seg_model/(3, 4)_first_pass.h5\n"
     ]
    }
   ],
   "source": [
    "with btrack.io.HDF5FileHandler('/mnt/SYNO/macrohet_syno/ND0002/labels/macrohet_seg_model/(3, 4)_first_pass.h5', \n",
    "                               'r',\n",
    "                               obj_type='obj_type_1') as reader:\n",
    "    # tracks = reader.tracks\n",
    "    objects_2 = reader.objects"
   ]
  },
  {
   "cell_type": "code",
   "execution_count": 129,
   "id": "3993f0ac-e0ae-4830-8f60-d5dc25d7c6b7",
   "metadata": {},
   "outputs": [
    {
     "name": "stderr",
     "output_type": "stream",
     "text": [
      "[INFO][2024/02/16 02:47:30 pm] Loaded btrack: /home/dayn/analysis/btrack/btrack/libs/libtracker.so\n",
      "INFO:btrack.libwrapper:Loaded btrack: /home/dayn/analysis/btrack/btrack/libs/libtracker.so\n",
      "[INFO][2024/02/16 02:47:30 pm] Starting BayesianTracker session\n",
      "INFO:btrack.core:Starting BayesianTracker session\n",
      "[INFO][2024/02/16 02:47:30 pm] Loading configuration file: /home/dayn/analysis/models/btrack/particle_config_pnassign.json\n",
      "INFO:btrack.config:Loading configuration file: /home/dayn/analysis/models/btrack/particle_config_pnassign.json\n",
      "[INFO][2024/02/16 02:47:30 pm] Objects are of type: <class 'list'>\n",
      "INFO:btrack.io.utils:Objects are of type: <class 'list'>\n",
      "[INFO][2024/02/16 02:47:31 pm] Starting tracking... \n",
      "INFO:btrack.core:Starting tracking... \n",
      "[INFO][2024/02/16 02:47:31 pm] Update using: ['MOTION', 'VISUAL']\n",
      "INFO:btrack.core:Update using: ['MOTION', 'VISUAL']\n",
      "[INFO][2024/02/16 02:47:31 pm] Tracking objects in frames 0 to 24 (of 150)...\n",
      "INFO:btrack.core:Tracking objects in frames 0 to 24 (of 150)...\n",
      "[INFO][2024/02/16 02:47:34 pm]  - Timing (Bayesian updates: 46.16ms, Linking: 2.81ms)\n",
      "INFO:btrack.utils: - Timing (Bayesian updates: 46.16ms, Linking: 2.81ms)\n",
      "[INFO][2024/02/16 02:47:34 pm]  - Probabilities (Link: 1.00000, Lost: 1.00000)\n",
      "INFO:btrack.utils: - Probabilities (Link: 1.00000, Lost: 1.00000)\n",
      "[INFO][2024/02/16 02:47:34 pm]  - Stats (Active: 628, Lost: 3845, Conflicts resolved: 3563)\n",
      "INFO:btrack.utils: - Stats (Active: 628, Lost: 3845, Conflicts resolved: 3563)\n",
      "[INFO][2024/02/16 02:47:34 pm] Tracking objects in frames 25 to 49 (of 150)...\n",
      "INFO:btrack.core:Tracking objects in frames 25 to 49 (of 150)...\n",
      "[INFO][2024/02/16 02:47:38 pm]  - Timing (Bayesian updates: 40.40ms, Linking: 2.89ms)\n",
      "INFO:btrack.utils: - Timing (Bayesian updates: 40.40ms, Linking: 2.89ms)\n",
      "[INFO][2024/02/16 02:47:38 pm]  - Probabilities (Link: 1.00000, Lost: 0.54464)\n",
      "INFO:btrack.utils: - Probabilities (Link: 1.00000, Lost: 0.54464)\n",
      "[INFO][2024/02/16 02:47:38 pm]  - Stats (Active: 633, Lost: 7135, Conflicts resolved: 7340)\n",
      "INFO:btrack.utils: - Stats (Active: 633, Lost: 7135, Conflicts resolved: 7340)\n",
      "[INFO][2024/02/16 02:47:38 pm] Tracking objects in frames 50 to 74 (of 150)...\n",
      "INFO:btrack.core:Tracking objects in frames 50 to 74 (of 150)...\n",
      "[INFO][2024/02/16 02:47:41 pm]  - Timing (Bayesian updates: 42.45ms, Linking: 3.47ms)\n",
      "INFO:btrack.utils: - Timing (Bayesian updates: 42.45ms, Linking: 3.47ms)\n",
      "[INFO][2024/02/16 02:47:41 pm]  - Probabilities (Link: 0.99965, Lost: 1.00000)\n",
      "INFO:btrack.utils: - Probabilities (Link: 0.99965, Lost: 1.00000)\n",
      "[INFO][2024/02/16 02:47:41 pm]  - Stats (Active: 637, Lost: 10302, Conflicts resolved: 10880)\n",
      "INFO:btrack.utils: - Stats (Active: 637, Lost: 10302, Conflicts resolved: 10880)\n",
      "[INFO][2024/02/16 02:47:41 pm] Tracking objects in frames 75 to 99 (of 150)...\n",
      "INFO:btrack.core:Tracking objects in frames 75 to 99 (of 150)...\n",
      "[INFO][2024/02/16 02:47:45 pm]  - Timing (Bayesian updates: 40.33ms, Linking: 2.65ms)\n",
      "INFO:btrack.utils: - Timing (Bayesian updates: 40.33ms, Linking: 2.65ms)\n",
      "[INFO][2024/02/16 02:47:45 pm]  - Probabilities (Link: 1.00000, Lost: 1.00000)\n",
      "INFO:btrack.utils: - Probabilities (Link: 1.00000, Lost: 1.00000)\n",
      "[INFO][2024/02/16 02:47:45 pm]  - Stats (Active: 660, Lost: 13362, Conflicts resolved: 14677)\n",
      "INFO:btrack.utils: - Stats (Active: 660, Lost: 13362, Conflicts resolved: 14677)\n",
      "[INFO][2024/02/16 02:47:45 pm] Tracking objects in frames 100 to 124 (of 150)...\n",
      "INFO:btrack.core:Tracking objects in frames 100 to 124 (of 150)...\n",
      "[INFO][2024/02/16 02:47:49 pm]  - Timing (Bayesian updates: 44.95ms, Linking: 2.93ms)\n",
      "INFO:btrack.utils: - Timing (Bayesian updates: 44.95ms, Linking: 2.93ms)\n",
      "[INFO][2024/02/16 02:47:49 pm]  - Probabilities (Link: 0.76620, Lost: 0.94823)\n",
      "INFO:btrack.utils: - Probabilities (Link: 0.76620, Lost: 0.94823)\n",
      "[INFO][2024/02/16 02:47:49 pm]  - Stats (Active: 643, Lost: 16428, Conflicts resolved: 18368)\n",
      "INFO:btrack.utils: - Stats (Active: 643, Lost: 16428, Conflicts resolved: 18368)\n",
      "[INFO][2024/02/16 02:47:49 pm] Tracking objects in frames 125 to 149 (of 150)...\n",
      "INFO:btrack.core:Tracking objects in frames 125 to 149 (of 150)...\n",
      "[INFO][2024/02/16 02:47:52 pm]  - Timing (Bayesian updates: 38.22ms, Linking: 2.68ms)\n",
      "INFO:btrack.utils: - Timing (Bayesian updates: 38.22ms, Linking: 2.68ms)\n",
      "[INFO][2024/02/16 02:47:52 pm]  - Probabilities (Link: 1.00000, Lost: 1.00000)\n",
      "INFO:btrack.utils: - Probabilities (Link: 1.00000, Lost: 1.00000)\n",
      "[INFO][2024/02/16 02:47:52 pm] SUCCESS.\n",
      "INFO:btrack.core:SUCCESS.\n",
      "[INFO][2024/02/16 02:47:52 pm]  - Found 7126 tracks in 150 frames (in 0.0s)\n",
      "INFO:btrack.core: - Found 7126 tracks in 150 frames (in 0.0s)\n",
      "[INFO][2024/02/16 02:47:52 pm]  - Inserted 14947 dummy objects to fill tracking gaps\n",
      "INFO:btrack.core: - Inserted 14947 dummy objects to fill tracking gaps\n",
      "[INFO][2024/02/16 02:47:52 pm] Loading hypothesis model: particle_hypothesis\n",
      "INFO:btrack.core:Loading hypothesis model: particle_hypothesis\n",
      "[INFO][2024/02/16 02:47:52 pm] Calculating hypotheses (relax: True)...\n",
      "INFO:btrack.core:Calculating hypotheses (relax: True)...\n",
      "[INFO][2024/02/16 02:47:52 pm] Setting up constraints matrix for global optimisation...\n",
      "INFO:btrack.optimise.optimiser:Setting up constraints matrix for global optimisation...\n",
      "[INFO][2024/02/16 02:47:52 pm] Using GLPK options: {'tm_lim': 60000}...\n",
      "INFO:btrack.optimise.optimiser:Using GLPK options: {'tm_lim': 60000}...\n",
      "[INFO][2024/02/16 02:47:53 pm] Optimizing...\n",
      "INFO:btrack.optimise.optimiser:Optimizing...\n",
      "[INFO][2024/02/16 02:47:57 pm] Optimization complete. (Solution: optimal)\n",
      "INFO:btrack.optimise.optimiser:Optimization complete. (Solution: optimal)\n",
      "[INFO][2024/02/16 02:47:57 pm]  - Fates.FALSE_POSITIVE: 3055 (of 7126)\n",
      "INFO:btrack.core: - Fates.FALSE_POSITIVE: 3055 (of 7126)\n",
      "[INFO][2024/02/16 02:47:57 pm]  - Fates.LINK: 1626 (of 3015)\n",
      "INFO:btrack.core: - Fates.LINK: 1626 (of 3015)\n",
      "[INFO][2024/02/16 02:47:57 pm]  - Fates.INITIALIZE_BORDER: 280 (of 614)\n",
      "INFO:btrack.core: - Fates.INITIALIZE_BORDER: 280 (of 614)\n",
      "[INFO][2024/02/16 02:47:57 pm]  - Fates.INITIALIZE_FRONT: 444 (of 690)\n",
      "INFO:btrack.core: - Fates.INITIALIZE_FRONT: 444 (of 690)\n",
      "[INFO][2024/02/16 02:47:57 pm]  - Fates.INITIALIZE_LAZY: 1721 (of 5822)\n",
      "INFO:btrack.core: - Fates.INITIALIZE_LAZY: 1721 (of 5822)\n",
      "[INFO][2024/02/16 02:47:57 pm]  - Fates.TERMINATE_BORDER: 279 (of 648)\n",
      "INFO:btrack.core: - Fates.TERMINATE_BORDER: 279 (of 648)\n",
      "[INFO][2024/02/16 02:47:57 pm]  - Fates.TERMINATE_BACK: 385 (of 532)\n",
      "INFO:btrack.core: - Fates.TERMINATE_BACK: 385 (of 532)\n",
      "[INFO][2024/02/16 02:47:57 pm]  - Fates.TERMINATE_LAZY: 1781 (of 5946)\n",
      "INFO:btrack.core: - Fates.TERMINATE_LAZY: 1781 (of 5946)\n",
      "[INFO][2024/02/16 02:47:57 pm]  - TOTAL: 24393 hypotheses\n",
      "INFO:btrack.core: - TOTAL: 24393 hypotheses\n"
     ]
    },
    {
     "name": "stdout",
     "output_type": "stream",
     "text": [
      "GLPK Integer Optimizer 5.0\n",
      "28504 rows, 24393 columns, 34534 non-zeros\n",
      "24393 integer variables, all of which are binary\n",
      "Preprocessing...\n",
      "14252 rows, 24393 columns, 34534 non-zeros\n",
      "24393 integer variables, all of which are binary\n",
      "Scaling...\n",
      " A: min|aij| =  1.000e+00  max|aij| =  1.000e+00  ratio =  1.000e+00\n",
      "Problem data seem to be well scaled\n",
      "Constructing initial basis...\n",
      "Size of triangular part is 14252\n",
      "Solving LP relaxation...\n",
      "GLPK Simplex Optimizer 5.0\n",
      "14252 rows, 24393 columns, 34534 non-zeros\n",
      "*     0: obj =   8.367006095e+04 inf =   0.000e+00 (6978)\n",
      "Perturbing LP to avoid stalling [2415]...\n",
      "Removing LP perturbation [7046]...\n",
      "*  7046: obj =   4.136481206e+04 inf =   0.000e+00 (0) 2\n",
      "OPTIMAL LP SOLUTION FOUND\n",
      "Integer optimization begins...\n",
      "Long-step dual simplex will be used\n",
      "+  7046: mip =     not found yet >=              -inf        (1; 0)\n",
      "+  7046: >>>>>   4.136481206e+04 >=   4.136481206e+04   0.0% (1; 0)\n",
      "+  7046: mip =   4.136481206e+04 >=     tree is empty   0.0% (0; 1)\n",
      "INTEGER OPTIMAL SOLUTION FOUND\n"
     ]
    },
    {
     "name": "stderr",
     "output_type": "stream",
     "text": [
      "[INFO][2024/02/16 02:47:57 pm] Completed optimization with 5500 tracks\n",
      "INFO:btrack.core:Completed optimization with 5500 tracks\n",
      "[INFO][2024/02/16 02:47:57 pm] Ending BayesianTracker session\n",
      "INFO:btrack.core:Ending BayesianTracker session\n"
     ]
    }
   ],
   "source": [
    "config_fn = '/home/dayn/analysis/models/btrack/particle_config_pnassign.json'\n",
    "search_radius = 20\n",
    "\n",
    "# initialise a tracker session using a context manager\n",
    "with btrack.BayesianTracker() as tracker:\n",
    "    # configure the tracker using a config file\n",
    "    tracker.configure(config_fn)\n",
    "    # set max search radius\n",
    "    tracker.max_search_radius = search_radius\n",
    "    # define tracking method\n",
    "    tracker.tracking_updates = [\"MOTION\", \"VISUAL\"]\n",
    "    # redefine features so that both channels are included in track measurements\n",
    "    tracker.features = list(objects_2[0].properties.keys())\n",
    "    # append the objects to be tracked\n",
    "    tracker.append(objects_2)\n",
    "    # set the tracking volume\n",
    "    tracker.volume=((0, segmentation.shape[-2]*scale_factor), (0, segmentation.shape[-1]*scale_factor))\n",
    "    # track them (in interactive mode)\n",
    "    tracker.track(step_size=25)\n",
    "    # generate hypotheses and run the global optimizer\n",
    "    tracker.optimize()\n",
    "    # store the tracks\n",
    "    tracks = tracker.tracks"
   ]
  },
  {
   "cell_type": "code",
   "execution_count": 130,
   "id": "23a60f31-3b96-4cf1-87b0-f1a920c8821e",
   "metadata": {},
   "outputs": [],
   "source": [
    "napari_tracks, _, _ = btrack.utils.tracks_to_napari(tracks, ndim=2)"
   ]
  },
  {
   "cell_type": "code",
   "execution_count": 131,
   "id": "ba04cbe0-893a-42df-8a9d-8f86ad390c13",
   "metadata": {},
   "outputs": [
    {
     "data": {
      "text/plain": [
       "<Tracks layer 'napari_tracks' at 0x7f8bf54c4940>"
      ]
     },
     "execution_count": 131,
     "metadata": {},
     "output_type": "execute_result"
    }
   ],
   "source": [
    "viewer.add_tracks(napari_tracks, scale=(1/scale_factor,1/scale_factor))"
   ]
  },
  {
   "cell_type": "markdown",
   "id": "491f22f9-ac24-4a41-bae6-0eff6ed3368f",
   "metadata": {},
   "source": [
    "### filter tracks"
   ]
  },
  {
   "cell_type": "code",
   "execution_count": 132,
   "id": "a096938d-df69-4abb-b28b-bb8ef01023a2",
   "metadata": {},
   "outputs": [],
   "source": [
    "napari_tracks, _, _ = btrack.utils.tracks_to_napari([t for t in tracks if len(t) >= 70], ndim=2)"
   ]
  },
  {
   "cell_type": "code",
   "execution_count": 133,
   "id": "d873c9fd-ece0-4853-9181-f8dc3168d4db",
   "metadata": {},
   "outputs": [
    {
     "data": {
      "text/plain": [
       "149"
      ]
     },
     "execution_count": 133,
     "metadata": {},
     "output_type": "execute_result"
    }
   ],
   "source": [
    "len([t for t in tracks if len(t) >= 75])"
   ]
  },
  {
   "cell_type": "code",
   "execution_count": 134,
   "id": "a378fd6b-7a7b-4ef7-a329-137981a5bcc1",
   "metadata": {},
   "outputs": [
    {
     "data": {
      "text/plain": [
       "<Tracks layer 'filtered [9]' at 0x7f8bfd2e9160>"
      ]
     },
     "execution_count": 134,
     "metadata": {},
     "output_type": "execute_result"
    }
   ],
   "source": [
    "viewer.add_tracks(napari_tracks, scale=(1/scale_factor,1/scale_factor), name = 'filtered')"
   ]
  },
  {
   "cell_type": "markdown",
   "id": "87102aa5-c3fb-439f-be8f-1edb7867c6a2",
   "metadata": {},
   "source": [
    "# Check performance of other macroseg model on new acquisitions"
   ]
  },
  {
   "cell_type": "code",
   "execution_count": 169,
   "id": "9884e024-4dca-4200-af4b-c84271ec4f5c",
   "metadata": {
    "scrolled": true
   },
   "outputs": [
    {
     "data": {
      "text/html": [
       "<div>\n",
       "<style scoped>\n",
       "    .dataframe tbody tr th:only-of-type {\n",
       "        vertical-align: middle;\n",
       "    }\n",
       "\n",
       "    .dataframe tbody tr th {\n",
       "        vertical-align: top;\n",
       "    }\n",
       "\n",
       "    .dataframe thead th {\n",
       "        text-align: right;\n",
       "    }\n",
       "</style>\n",
       "<table border=\"1\" class=\"dataframe\">\n",
       "  <thead>\n",
       "    <tr style=\"text-align: right;\">\n",
       "      <th></th>\n",
       "      <th></th>\n",
       "      <th>Strain</th>\n",
       "      <th>Compound</th>\n",
       "      <th>Concentration</th>\n",
       "      <th>ConcentrationEC</th>\n",
       "    </tr>\n",
       "    <tr>\n",
       "      <th>Row</th>\n",
       "      <th>Column</th>\n",
       "      <th></th>\n",
       "      <th></th>\n",
       "      <th></th>\n",
       "      <th></th>\n",
       "    </tr>\n",
       "  </thead>\n",
       "  <tbody>\n",
       "    <tr>\n",
       "      <th rowspan=\"12\" valign=\"top\">3</th>\n",
       "      <th>1</th>\n",
       "      <td>UNI</td>\n",
       "      <td>CTRL</td>\n",
       "      <td>0</td>\n",
       "      <td>EC0</td>\n",
       "    </tr>\n",
       "    <tr>\n",
       "      <th>2</th>\n",
       "      <td>UNI</td>\n",
       "      <td>CTRL</td>\n",
       "      <td>0</td>\n",
       "      <td>EC0</td>\n",
       "    </tr>\n",
       "    <tr>\n",
       "      <th>3</th>\n",
       "      <td>WT</td>\n",
       "      <td>CTRL</td>\n",
       "      <td>0</td>\n",
       "      <td>EC0</td>\n",
       "    </tr>\n",
       "    <tr>\n",
       "      <th>4</th>\n",
       "      <td>WT</td>\n",
       "      <td>CTRL</td>\n",
       "      <td>0</td>\n",
       "      <td>EC0</td>\n",
       "    </tr>\n",
       "    <tr>\n",
       "      <th>5</th>\n",
       "      <td>WT</td>\n",
       "      <td>PZA</td>\n",
       "      <td>60</td>\n",
       "      <td>EC50</td>\n",
       "    </tr>\n",
       "    <tr>\n",
       "      <th>6</th>\n",
       "      <td>WT</td>\n",
       "      <td>PZA</td>\n",
       "      <td>60</td>\n",
       "      <td>EC50</td>\n",
       "    </tr>\n",
       "    <tr>\n",
       "      <th>7</th>\n",
       "      <td>WT</td>\n",
       "      <td>RIF</td>\n",
       "      <td>0.1</td>\n",
       "      <td>EC50</td>\n",
       "    </tr>\n",
       "    <tr>\n",
       "      <th>8</th>\n",
       "      <td>WT</td>\n",
       "      <td>RIF</td>\n",
       "      <td>0.1</td>\n",
       "      <td>EC50</td>\n",
       "    </tr>\n",
       "    <tr>\n",
       "      <th>9</th>\n",
       "      <td>WT</td>\n",
       "      <td>INH</td>\n",
       "      <td>0.04</td>\n",
       "      <td>EC50</td>\n",
       "    </tr>\n",
       "    <tr>\n",
       "      <th>10</th>\n",
       "      <td>WT</td>\n",
       "      <td>INH</td>\n",
       "      <td>0.04</td>\n",
       "      <td>EC50</td>\n",
       "    </tr>\n",
       "    <tr>\n",
       "      <th>11</th>\n",
       "      <td>WT</td>\n",
       "      <td>BDQ</td>\n",
       "      <td>0.02</td>\n",
       "      <td>EC50</td>\n",
       "    </tr>\n",
       "    <tr>\n",
       "      <th>12</th>\n",
       "      <td>WT</td>\n",
       "      <td>BDQ</td>\n",
       "      <td>0.02</td>\n",
       "      <td>EC50</td>\n",
       "    </tr>\n",
       "    <tr>\n",
       "      <th rowspan=\"10\" valign=\"top\">4</th>\n",
       "      <th>3</th>\n",
       "      <td>WT</td>\n",
       "      <td>CTRL</td>\n",
       "      <td>0</td>\n",
       "      <td>EC0</td>\n",
       "    </tr>\n",
       "    <tr>\n",
       "      <th>4</th>\n",
       "      <td>WT</td>\n",
       "      <td>CTRL</td>\n",
       "      <td>0</td>\n",
       "      <td>EC0</td>\n",
       "    </tr>\n",
       "    <tr>\n",
       "      <th>5</th>\n",
       "      <td>WT</td>\n",
       "      <td>PZA</td>\n",
       "      <td>400</td>\n",
       "      <td>EC99</td>\n",
       "    </tr>\n",
       "    <tr>\n",
       "      <th>6</th>\n",
       "      <td>WT</td>\n",
       "      <td>PZA</td>\n",
       "      <td>400</td>\n",
       "      <td>EC99</td>\n",
       "    </tr>\n",
       "    <tr>\n",
       "      <th>7</th>\n",
       "      <td>WT</td>\n",
       "      <td>RIF</td>\n",
       "      <td>2</td>\n",
       "      <td>EC99</td>\n",
       "    </tr>\n",
       "    <tr>\n",
       "      <th>8</th>\n",
       "      <td>WT</td>\n",
       "      <td>RIF</td>\n",
       "      <td>2</td>\n",
       "      <td>EC99</td>\n",
       "    </tr>\n",
       "    <tr>\n",
       "      <th>9</th>\n",
       "      <td>WT</td>\n",
       "      <td>INH</td>\n",
       "      <td>2</td>\n",
       "      <td>EC99</td>\n",
       "    </tr>\n",
       "    <tr>\n",
       "      <th>10</th>\n",
       "      <td>WT</td>\n",
       "      <td>INH</td>\n",
       "      <td>2</td>\n",
       "      <td>EC99</td>\n",
       "    </tr>\n",
       "    <tr>\n",
       "      <th>11</th>\n",
       "      <td>WT</td>\n",
       "      <td>BDQ</td>\n",
       "      <td>2.5</td>\n",
       "      <td>EC99</td>\n",
       "    </tr>\n",
       "    <tr>\n",
       "      <th>12</th>\n",
       "      <td>WT</td>\n",
       "      <td>BDQ</td>\n",
       "      <td>2.5</td>\n",
       "      <td>EC99</td>\n",
       "    </tr>\n",
       "    <tr>\n",
       "      <th rowspan=\"10\" valign=\"top\">5</th>\n",
       "      <th>3</th>\n",
       "      <td>RD1</td>\n",
       "      <td>CTRL</td>\n",
       "      <td>0</td>\n",
       "      <td>EC0</td>\n",
       "    </tr>\n",
       "    <tr>\n",
       "      <th>4</th>\n",
       "      <td>RD1</td>\n",
       "      <td>CTRL</td>\n",
       "      <td>0</td>\n",
       "      <td>EC0</td>\n",
       "    </tr>\n",
       "    <tr>\n",
       "      <th>5</th>\n",
       "      <td>RD1</td>\n",
       "      <td>PZA</td>\n",
       "      <td>60</td>\n",
       "      <td>EC50</td>\n",
       "    </tr>\n",
       "    <tr>\n",
       "      <th>6</th>\n",
       "      <td>RD1</td>\n",
       "      <td>PZA</td>\n",
       "      <td>60</td>\n",
       "      <td>EC50</td>\n",
       "    </tr>\n",
       "    <tr>\n",
       "      <th>7</th>\n",
       "      <td>RD1</td>\n",
       "      <td>RIF</td>\n",
       "      <td>0.1</td>\n",
       "      <td>EC50</td>\n",
       "    </tr>\n",
       "    <tr>\n",
       "      <th>8</th>\n",
       "      <td>RD1</td>\n",
       "      <td>RIF</td>\n",
       "      <td>0.1</td>\n",
       "      <td>EC50</td>\n",
       "    </tr>\n",
       "    <tr>\n",
       "      <th>9</th>\n",
       "      <td>RD1</td>\n",
       "      <td>INH</td>\n",
       "      <td>0.04</td>\n",
       "      <td>EC50</td>\n",
       "    </tr>\n",
       "    <tr>\n",
       "      <th>10</th>\n",
       "      <td>RD1</td>\n",
       "      <td>INH</td>\n",
       "      <td>0.04</td>\n",
       "      <td>EC50</td>\n",
       "    </tr>\n",
       "    <tr>\n",
       "      <th>11</th>\n",
       "      <td>RD1</td>\n",
       "      <td>BDQ</td>\n",
       "      <td>0.02</td>\n",
       "      <td>EC50</td>\n",
       "    </tr>\n",
       "    <tr>\n",
       "      <th>12</th>\n",
       "      <td>RD1</td>\n",
       "      <td>BDQ</td>\n",
       "      <td>0.02</td>\n",
       "      <td>EC50</td>\n",
       "    </tr>\n",
       "    <tr>\n",
       "      <th rowspan=\"10\" valign=\"top\">6</th>\n",
       "      <th>3</th>\n",
       "      <td>RD1</td>\n",
       "      <td>CTRL</td>\n",
       "      <td>0</td>\n",
       "      <td>EC0</td>\n",
       "    </tr>\n",
       "    <tr>\n",
       "      <th>4</th>\n",
       "      <td>RD1</td>\n",
       "      <td>CTRL</td>\n",
       "      <td>0</td>\n",
       "      <td>EC0</td>\n",
       "    </tr>\n",
       "    <tr>\n",
       "      <th>5</th>\n",
       "      <td>RD1</td>\n",
       "      <td>PZA</td>\n",
       "      <td>400</td>\n",
       "      <td>EC99</td>\n",
       "    </tr>\n",
       "    <tr>\n",
       "      <th>6</th>\n",
       "      <td>RD1</td>\n",
       "      <td>PZA</td>\n",
       "      <td>400</td>\n",
       "      <td>EC99</td>\n",
       "    </tr>\n",
       "    <tr>\n",
       "      <th>7</th>\n",
       "      <td>RD1</td>\n",
       "      <td>RIF</td>\n",
       "      <td>2</td>\n",
       "      <td>EC99</td>\n",
       "    </tr>\n",
       "    <tr>\n",
       "      <th>8</th>\n",
       "      <td>RD1</td>\n",
       "      <td>RIF</td>\n",
       "      <td>2</td>\n",
       "      <td>EC99</td>\n",
       "    </tr>\n",
       "    <tr>\n",
       "      <th>9</th>\n",
       "      <td>RD1</td>\n",
       "      <td>INH</td>\n",
       "      <td>2</td>\n",
       "      <td>EC99</td>\n",
       "    </tr>\n",
       "    <tr>\n",
       "      <th>10</th>\n",
       "      <td>RD1</td>\n",
       "      <td>INH</td>\n",
       "      <td>2</td>\n",
       "      <td>EC99</td>\n",
       "    </tr>\n",
       "    <tr>\n",
       "      <th>11</th>\n",
       "      <td>RD1</td>\n",
       "      <td>BDQ</td>\n",
       "      <td>2.5</td>\n",
       "      <td>EC99</td>\n",
       "    </tr>\n",
       "    <tr>\n",
       "      <th>12</th>\n",
       "      <td>RD1</td>\n",
       "      <td>BDQ</td>\n",
       "      <td>2.5</td>\n",
       "      <td>EC99</td>\n",
       "    </tr>\n",
       "  </tbody>\n",
       "</table>\n",
       "</div>"
      ],
      "text/plain": [
       "           Strain Compound Concentration ConcentrationEC\n",
       "Row Column                                              \n",
       "3   1         UNI     CTRL             0             EC0\n",
       "    2         UNI     CTRL             0             EC0\n",
       "    3          WT     CTRL             0             EC0\n",
       "    4          WT     CTRL             0             EC0\n",
       "    5          WT      PZA            60            EC50\n",
       "    6          WT      PZA            60            EC50\n",
       "    7          WT      RIF           0.1            EC50\n",
       "    8          WT      RIF           0.1            EC50\n",
       "    9          WT      INH          0.04            EC50\n",
       "    10         WT      INH          0.04            EC50\n",
       "    11         WT      BDQ          0.02            EC50\n",
       "    12         WT      BDQ          0.02            EC50\n",
       "4   3          WT     CTRL             0             EC0\n",
       "    4          WT     CTRL             0             EC0\n",
       "    5          WT      PZA           400            EC99\n",
       "    6          WT      PZA           400            EC99\n",
       "    7          WT      RIF             2            EC99\n",
       "    8          WT      RIF             2            EC99\n",
       "    9          WT      INH             2            EC99\n",
       "    10         WT      INH             2            EC99\n",
       "    11         WT      BDQ           2.5            EC99\n",
       "    12         WT      BDQ           2.5            EC99\n",
       "5   3         RD1     CTRL             0             EC0\n",
       "    4         RD1     CTRL             0             EC0\n",
       "    5         RD1      PZA            60            EC50\n",
       "    6         RD1      PZA            60            EC50\n",
       "    7         RD1      RIF           0.1            EC50\n",
       "    8         RD1      RIF           0.1            EC50\n",
       "    9         RD1      INH          0.04            EC50\n",
       "    10        RD1      INH          0.04            EC50\n",
       "    11        RD1      BDQ          0.02            EC50\n",
       "    12        RD1      BDQ          0.02            EC50\n",
       "6   3         RD1     CTRL             0             EC0\n",
       "    4         RD1     CTRL             0             EC0\n",
       "    5         RD1      PZA           400            EC99\n",
       "    6         RD1      PZA           400            EC99\n",
       "    7         RD1      RIF             2            EC99\n",
       "    8         RD1      RIF             2            EC99\n",
       "    9         RD1      INH             2            EC99\n",
       "    10        RD1      INH             2            EC99\n",
       "    11        RD1      BDQ           2.5            EC99\n",
       "    12        RD1      BDQ           2.5            EC99"
      ]
     },
     "execution_count": 169,
     "metadata": {},
     "output_type": "execute_result"
    }
   ],
   "source": [
    "assay_layout"
   ]
  },
  {
   "cell_type": "code",
   "execution_count": 170,
   "id": "6329ff04-6f42-415c-955f-5823c663e6ce",
   "metadata": {},
   "outputs": [],
   "source": [
    "acq_ID = (4, 12)"
   ]
  },
  {
   "cell_type": "code",
   "execution_count": 171,
   "id": "5835558c-bb01-465e-8953-6ee63c278dc8",
   "metadata": {},
   "outputs": [],
   "source": [
    "zarr_group = zarr.open(f'/mnt/SYNO/macrohet_syno/{expt_ID}/acquisition/zarr/{acq_ID}.zarr', mode='r')"
   ]
  },
  {
   "cell_type": "code",
   "execution_count": 172,
   "id": "139c1dae-b834-4bd0-9070-c9c787f47463",
   "metadata": {},
   "outputs": [],
   "source": [
    "images = zarr_group.images"
   ]
  },
  {
   "cell_type": "code",
   "execution_count": 173,
   "id": "c1de0cef-b67e-4e41-af53-aed14f296134",
   "metadata": {},
   "outputs": [
    {
     "data": {
      "text/plain": [
       "(150, 2, 3, 6048, 6048)"
      ]
     },
     "execution_count": 173,
     "metadata": {},
     "output_type": "execute_result"
    }
   ],
   "source": [
    "images.shape"
   ]
  },
  {
   "cell_type": "code",
   "execution_count": 177,
   "id": "899096a6-08e1-4a22-ac55-98fe516276f2",
   "metadata": {},
   "outputs": [
    {
     "name": "stdout",
     "output_type": "stream",
     "text": [
      "CPU times: user 39.2 s, sys: 58 s, total: 1min 37s\n",
      "Wall time: 3min 21s\n"
     ]
    }
   ],
   "source": [
    "%%time\n",
    "images = np.max(images[:,1,:,...], axis = 1)"
   ]
  },
  {
   "cell_type": "code",
   "execution_count": 180,
   "id": "387d1911-f5ad-401f-b4ca-fbaaa1c0312a",
   "metadata": {},
   "outputs": [
    {
     "data": {
      "text/plain": [
       "(150, 6048, 6048)"
      ]
     },
     "execution_count": 180,
     "metadata": {},
     "output_type": "execute_result"
    }
   ],
   "source": [
    "images.shape"
   ]
  },
  {
   "cell_type": "code",
   "execution_count": 182,
   "id": "549c0f63-51c1-4ccf-ad9d-9e140cceb849",
   "metadata": {},
   "outputs": [
    {
     "name": "stderr",
     "output_type": "stream",
     "text": [
      "[INFO][2024/02/16 03:35:39 pm] Opening HDF file: /mnt/SYNO/macrohet_syno/ND0002/labels/macrohet_seg_model/(4, 12)_first_pass_seg_backup.h5...\n",
      "INFO:btrack.io.hdf:Opening HDF file: /mnt/SYNO/macrohet_syno/ND0002/labels/macrohet_seg_model/(4, 12)_first_pass_seg_backup.h5...\n",
      "[INFO][2024/02/16 03:36:01 pm] Loading segmentation (150, 6048, 6048)\n",
      "INFO:btrack.io.hdf:Loading segmentation (150, 6048, 6048)\n",
      "[INFO][2024/02/16 03:36:01 pm] Closing HDF file: /mnt/SYNO/macrohet_syno/ND0002/labels/macrohet_seg_model/(4, 12)_first_pass_seg_backup.h5\n",
      "INFO:btrack.io.hdf:Closing HDF file: /mnt/SYNO/macrohet_syno/ND0002/labels/macrohet_seg_model/(4, 12)_first_pass_seg_backup.h5\n"
     ]
    }
   ],
   "source": [
    "with btrack.io.HDF5FileHandler(f'/mnt/SYNO/macrohet_syno/ND0002/labels/macrohet_seg_model/{acq_ID}_first_pass_seg_backup.h5', \n",
    "                               'r',\n",
    "                               obj_type='obj_type_1') as reader:\n",
    "    # tracks = reader.tracks\n",
    "    segmentation_2 = reader.segmentation"
   ]
  },
  {
   "cell_type": "code",
   "execution_count": 183,
   "id": "d7eaa1e6-34e2-4b8c-9b68-0c3100e9de0f",
   "metadata": {},
   "outputs": [
    {
     "data": {
      "text/plain": [
       "<Image layer 'images' at 0x7f8c78d7bf40>"
      ]
     },
     "execution_count": 183,
     "metadata": {},
     "output_type": "execute_result"
    }
   ],
   "source": [
    "v_2 = napari.Viewer(title = f'{acq_ID}')\n",
    "\n",
    "v_2.add_image(images)"
   ]
  },
  {
   "cell_type": "code",
   "execution_count": 184,
   "id": "22a085a4-b02d-4fcb-b583-b0bce8a2b5ff",
   "metadata": {},
   "outputs": [
    {
     "data": {
      "text/plain": [
       "<Labels layer 'segmentation_2' at 0x7f8c794c9ee0>"
      ]
     },
     "execution_count": 184,
     "metadata": {},
     "output_type": "execute_result"
    }
   ],
   "source": [
    "v_2.add_labels(segmentation_2)"
   ]
  },
  {
   "cell_type": "code",
   "execution_count": 186,
   "id": "f499b5f6-d08b-4c77-8644-fcd0da809d2f",
   "metadata": {},
   "outputs": [
    {
     "name": "stderr",
     "output_type": "stream",
     "text": [
      "[INFO][2024/02/16 03:38:36 pm] Localizing objects from segmentation...\n",
      "INFO:btrack.io._localization:Localizing objects from segmentation...\n",
      "100%|███████████████████████████████████████████████████████████████████████████████████████████████████████████████████████████████████████████████████| 150/150 [03:43<00:00,  1.49s/it]\n",
      "[INFO][2024/02/16 03:42:20 pm] Objects are of type: <class 'dict'>\n",
      "INFO:btrack.io.utils:Objects are of type: <class 'dict'>\n",
      "[INFO][2024/02/16 03:42:20 pm] ...Found 35489 objects in 150 frames.\n",
      "INFO:btrack.io._localization:...Found 35489 objects in 150 frames.\n"
     ]
    }
   ],
   "source": [
    "objects_2 =  btrack.utils.segmentation_to_objects(segmentation=segmentation_2,\n",
    "                                                   intensity_image=images, \n",
    "                                                   properties=properties,\n",
    "                                                   scale=(scale_factor,scale_factor),\n",
    "                                                   use_weighted_centroid=False, \n",
    "                                                   )    "
   ]
  },
  {
   "cell_type": "code",
   "execution_count": 187,
   "id": "83efad34-fb2a-4d9f-91a7-8ead1c54c261",
   "metadata": {},
   "outputs": [],
   "source": [
    "objects_2 = [o for o in objects_2 if o.properties['area'] > segment_size_thresh]\n"
   ]
  },
  {
   "cell_type": "code",
   "execution_count": 188,
   "id": "973c6e00-625e-450c-84ed-b967765e47d1",
   "metadata": {},
   "outputs": [
    {
     "name": "stderr",
     "output_type": "stream",
     "text": [
      "[INFO][2024/02/16 03:43:11 pm] Loaded btrack: /home/dayn/analysis/btrack/btrack/libs/libtracker.so\n",
      "INFO:btrack.libwrapper:Loaded btrack: /home/dayn/analysis/btrack/btrack/libs/libtracker.so\n",
      "[INFO][2024/02/16 03:43:11 pm] Starting BayesianTracker session\n",
      "INFO:btrack.core:Starting BayesianTracker session\n",
      "[INFO][2024/02/16 03:43:11 pm] Loading configuration file: /home/dayn/analysis/models/btrack/particle_config_pnassign.json\n",
      "INFO:btrack.config:Loading configuration file: /home/dayn/analysis/models/btrack/particle_config_pnassign.json\n",
      "[INFO][2024/02/16 03:43:11 pm] Objects are of type: <class 'list'>\n",
      "INFO:btrack.io.utils:Objects are of type: <class 'list'>\n",
      "[INFO][2024/02/16 03:43:11 pm] Starting tracking... \n",
      "INFO:btrack.core:Starting tracking... \n",
      "[INFO][2024/02/16 03:43:11 pm] Update using: ['MOTION', 'VISUAL']\n",
      "INFO:btrack.core:Update using: ['MOTION', 'VISUAL']\n",
      "[INFO][2024/02/16 03:43:11 pm] Tracking objects in frames 0 to 24 (of 150)...\n",
      "INFO:btrack.core:Tracking objects in frames 0 to 24 (of 150)...\n",
      "[INFO][2024/02/16 03:43:12 pm]  - Timing (Bayesian updates: 6.35ms, Linking: 1.08ms)\n",
      "INFO:btrack.utils: - Timing (Bayesian updates: 6.35ms, Linking: 1.08ms)\n",
      "[INFO][2024/02/16 03:43:12 pm]  - Probabilities (Link: 0.99992, Lost: 0.99995)\n",
      "INFO:btrack.utils: - Probabilities (Link: 0.99992, Lost: 0.99995)\n",
      "[INFO][2024/02/16 03:43:12 pm]  - Stats (Active: 294, Lost: 1823, Conflicts resolved: 1481)\n",
      "INFO:btrack.utils: - Stats (Active: 294, Lost: 1823, Conflicts resolved: 1481)\n",
      "[INFO][2024/02/16 03:43:12 pm] Tracking objects in frames 25 to 49 (of 150)...\n",
      "INFO:btrack.core:Tracking objects in frames 25 to 49 (of 150)...\n",
      "[INFO][2024/02/16 03:43:13 pm]  - Timing (Bayesian updates: 4.21ms, Linking: 0.88ms)\n",
      "INFO:btrack.utils: - Timing (Bayesian updates: 4.21ms, Linking: 0.88ms)\n",
      "[INFO][2024/02/16 03:43:13 pm]  - Probabilities (Link: 0.99999, Lost: 1.00000)\n",
      "INFO:btrack.utils: - Probabilities (Link: 0.99999, Lost: 1.00000)\n",
      "[INFO][2024/02/16 03:43:13 pm]  - Stats (Active: 254, Lost: 3209, Conflicts resolved: 2859)\n",
      "INFO:btrack.utils: - Stats (Active: 254, Lost: 3209, Conflicts resolved: 2859)\n",
      "[INFO][2024/02/16 03:43:13 pm] Tracking objects in frames 50 to 74 (of 150)...\n",
      "INFO:btrack.core:Tracking objects in frames 50 to 74 (of 150)...\n",
      "[INFO][2024/02/16 03:43:13 pm]  - Timing (Bayesian updates: 2.83ms, Linking: 0.69ms)\n",
      "INFO:btrack.utils: - Timing (Bayesian updates: 2.83ms, Linking: 0.69ms)\n",
      "[INFO][2024/02/16 03:43:13 pm]  - Probabilities (Link: 1.00000, Lost: 1.00000)\n",
      "INFO:btrack.utils: - Probabilities (Link: 1.00000, Lost: 1.00000)\n",
      "[INFO][2024/02/16 03:43:13 pm]  - Stats (Active: 207, Lost: 4332, Conflicts resolved: 3937)\n",
      "INFO:btrack.utils: - Stats (Active: 207, Lost: 4332, Conflicts resolved: 3937)\n",
      "[INFO][2024/02/16 03:43:13 pm] Tracking objects in frames 75 to 99 (of 150)...\n",
      "INFO:btrack.core:Tracking objects in frames 75 to 99 (of 150)...\n",
      "[INFO][2024/02/16 03:43:13 pm]  - Timing (Bayesian updates: 2.56ms, Linking: 0.71ms)\n",
      "INFO:btrack.utils: - Timing (Bayesian updates: 2.56ms, Linking: 0.71ms)\n",
      "[INFO][2024/02/16 03:43:13 pm]  - Probabilities (Link: 1.00000, Lost: 1.00000)\n",
      "INFO:btrack.utils: - Probabilities (Link: 1.00000, Lost: 1.00000)\n",
      "[INFO][2024/02/16 03:43:13 pm]  - Stats (Active: 213, Lost: 5439, Conflicts resolved: 4855)\n",
      "INFO:btrack.utils: - Stats (Active: 213, Lost: 5439, Conflicts resolved: 4855)\n",
      "[INFO][2024/02/16 03:43:13 pm] Tracking objects in frames 100 to 124 (of 150)...\n",
      "INFO:btrack.core:Tracking objects in frames 100 to 124 (of 150)...\n",
      "[INFO][2024/02/16 03:43:14 pm]  - Timing (Bayesian updates: 1.87ms, Linking: 0.60ms)\n",
      "INFO:btrack.utils: - Timing (Bayesian updates: 1.87ms, Linking: 0.60ms)\n",
      "[INFO][2024/02/16 03:43:14 pm]  - Probabilities (Link: 1.00000, Lost: 1.00000)\n",
      "INFO:btrack.utils: - Probabilities (Link: 1.00000, Lost: 1.00000)\n",
      "[INFO][2024/02/16 03:43:14 pm]  - Stats (Active: 187, Lost: 6621, Conflicts resolved: 5751)\n",
      "INFO:btrack.utils: - Stats (Active: 187, Lost: 6621, Conflicts resolved: 5751)\n",
      "[INFO][2024/02/16 03:43:14 pm] Tracking objects in frames 125 to 149 (of 150)...\n",
      "INFO:btrack.core:Tracking objects in frames 125 to 149 (of 150)...\n",
      "[INFO][2024/02/16 03:43:14 pm]  - Timing (Bayesian updates: 1.60ms, Linking: 0.52ms)\n",
      "INFO:btrack.utils: - Timing (Bayesian updates: 1.60ms, Linking: 0.52ms)\n",
      "[INFO][2024/02/16 03:43:14 pm]  - Probabilities (Link: 1.00000, Lost: 1.00000)\n",
      "INFO:btrack.utils: - Probabilities (Link: 1.00000, Lost: 1.00000)\n",
      "[INFO][2024/02/16 03:43:14 pm] SUCCESS.\n",
      "INFO:btrack.core:SUCCESS.\n",
      "[INFO][2024/02/16 03:43:14 pm]  - Found 2607 tracks in 150 frames (in 0.0s)\n",
      "INFO:btrack.core: - Found 2607 tracks in 150 frames (in 0.0s)\n",
      "[INFO][2024/02/16 03:43:14 pm]  - Inserted 4246 dummy objects to fill tracking gaps\n",
      "INFO:btrack.core: - Inserted 4246 dummy objects to fill tracking gaps\n",
      "[INFO][2024/02/16 03:43:14 pm] Loading hypothesis model: particle_hypothesis\n",
      "INFO:btrack.core:Loading hypothesis model: particle_hypothesis\n",
      "[INFO][2024/02/16 03:43:14 pm] Calculating hypotheses (relax: True)...\n",
      "INFO:btrack.core:Calculating hypotheses (relax: True)...\n",
      "[INFO][2024/02/16 03:43:14 pm] Setting up constraints matrix for global optimisation...\n",
      "INFO:btrack.optimise.optimiser:Setting up constraints matrix for global optimisation...\n",
      "[INFO][2024/02/16 03:43:14 pm] Using GLPK options: {'tm_lim': 60000}...\n",
      "INFO:btrack.optimise.optimiser:Using GLPK options: {'tm_lim': 60000}...\n",
      "[INFO][2024/02/16 03:43:14 pm] Optimizing...\n",
      "INFO:btrack.optimise.optimiser:Optimizing...\n",
      "[INFO][2024/02/16 03:43:15 pm] Optimization complete. (Solution: optimal)\n",
      "INFO:btrack.optimise.optimiser:Optimization complete. (Solution: optimal)\n",
      "[INFO][2024/02/16 03:43:15 pm]  - Fates.FALSE_POSITIVE: 1322 (of 2607)\n",
      "INFO:btrack.core: - Fates.FALSE_POSITIVE: 1322 (of 2607)\n",
      "[INFO][2024/02/16 03:43:15 pm]  - Fates.LINK: 496 (of 905)\n",
      "INFO:btrack.core: - Fates.LINK: 496 (of 905)\n",
      "[INFO][2024/02/16 03:43:15 pm]  - Fates.INITIALIZE_BORDER: 100 (of 262)\n",
      "INFO:btrack.core: - Fates.INITIALIZE_BORDER: 100 (of 262)\n",
      "[INFO][2024/02/16 03:43:15 pm]  - Fates.INITIALIZE_FRONT: 178 (of 282)\n",
      "INFO:btrack.core: - Fates.INITIALIZE_FRONT: 178 (of 282)\n",
      "[INFO][2024/02/16 03:43:15 pm]  - Fates.INITIALIZE_LAZY: 511 (of 2063)\n",
      "INFO:btrack.core: - Fates.INITIALIZE_LAZY: 511 (of 2063)\n",
      "[INFO][2024/02/16 03:43:15 pm]  - Fates.TERMINATE_BORDER: 89 (of 265)\n",
      "INFO:btrack.core: - Fates.TERMINATE_BORDER: 89 (of 265)\n",
      "[INFO][2024/02/16 03:43:15 pm]  - Fates.TERMINATE_BACK: 103 (of 148)\n",
      "INFO:btrack.core: - Fates.TERMINATE_BACK: 103 (of 148)\n",
      "[INFO][2024/02/16 03:43:15 pm]  - Fates.TERMINATE_LAZY: 597 (of 2194)\n",
      "INFO:btrack.core: - Fates.TERMINATE_LAZY: 597 (of 2194)\n",
      "[INFO][2024/02/16 03:43:15 pm]  - TOTAL: 8726 hypotheses\n",
      "INFO:btrack.core: - TOTAL: 8726 hypotheses\n",
      "[INFO][2024/02/16 03:43:15 pm] Completed optimization with 2111 tracks\n",
      "INFO:btrack.core:Completed optimization with 2111 tracks\n",
      "[INFO][2024/02/16 03:43:15 pm] Ending BayesianTracker session\n",
      "INFO:btrack.core:Ending BayesianTracker session\n"
     ]
    },
    {
     "name": "stdout",
     "output_type": "stream",
     "text": [
      "GLPK Integer Optimizer 5.0\n",
      "10428 rows, 8726 columns, 12238 non-zeros\n",
      "8726 integer variables, all of which are binary\n",
      "Preprocessing...\n",
      "5214 rows, 8726 columns, 12238 non-zeros\n",
      "8726 integer variables, all of which are binary\n",
      "Scaling...\n",
      " A: min|aij| =  1.000e+00  max|aij| =  1.000e+00  ratio =  1.000e+00\n",
      "Problem data seem to be well scaled\n",
      "Constructing initial basis...\n",
      "Size of triangular part is 5214\n",
      "Solving LP relaxation...\n",
      "GLPK Simplex Optimizer 5.0\n",
      "5214 rows, 8726 columns, 12238 non-zeros\n",
      "*     0: obj =   3.055618205e+04 inf =   0.000e+00 (2549)\n",
      "Perturbing LP to avoid stalling [1243]...\n",
      "Removing LP perturbation [2591]...\n",
      "*  2591: obj =   1.429559724e+04 inf =   0.000e+00 (0)\n",
      "OPTIMAL LP SOLUTION FOUND\n",
      "Integer optimization begins...\n",
      "Long-step dual simplex will be used\n",
      "+  2591: mip =     not found yet >=              -inf        (1; 0)\n",
      "+  2591: >>>>>   1.429559724e+04 >=   1.429559724e+04   0.0% (1; 0)\n",
      "+  2591: mip =   1.429559724e+04 >=     tree is empty   0.0% (0; 1)\n",
      "INTEGER OPTIMAL SOLUTION FOUND\n"
     ]
    }
   ],
   "source": [
    "config_fn = '/home/dayn/analysis/models/btrack/particle_config_pnassign.json'\n",
    "search_radius = 20\n",
    "\n",
    "# initialise a tracker session using a context manager\n",
    "with btrack.BayesianTracker() as tracker:\n",
    "    # configure the tracker using a config file\n",
    "    tracker.configure(config_fn)\n",
    "    # set max search radius\n",
    "    tracker.max_search_radius = search_radius\n",
    "    # define tracking method\n",
    "    tracker.tracking_updates = [\"MOTION\", \"VISUAL\"]\n",
    "    # redefine features so that both channels are included in track measurements\n",
    "    tracker.features = list(objects_2[0].properties.keys())\n",
    "    # append the objects to be tracked\n",
    "    tracker.append(objects_2)\n",
    "    # set the tracking volume\n",
    "    tracker.volume=((0, segmentation.shape[-2]*scale_factor), (0, segmentation.shape[-1]*scale_factor))\n",
    "    # track them (in interactive mode)\n",
    "    tracker.track(step_size=25)\n",
    "    # generate hypotheses and run the global optimizer\n",
    "    tracker.optimize()\n",
    "    # store the tracks\n",
    "    tracks = tracker.tracks"
   ]
  },
  {
   "cell_type": "code",
   "execution_count": null,
   "id": "6be29b3e-5f80-45da-82d3-5e04eebdba84",
   "metadata": {},
   "outputs": [],
   "source": []
  },
  {
   "cell_type": "code",
   "execution_count": 189,
   "id": "00119df7-097e-46bf-98de-f1e66009616c",
   "metadata": {},
   "outputs": [],
   "source": [
    "napari_tracks, _, _ = btrack.utils.tracks_to_napari(tracks, ndim=2)"
   ]
  },
  {
   "cell_type": "code",
   "execution_count": 190,
   "id": "72accee0-ee39-4d60-a484-779b0a4113cf",
   "metadata": {},
   "outputs": [
    {
     "data": {
      "text/plain": [
       "<Tracks layer 'napari_tracks' at 0x7f8c78fc45e0>"
      ]
     },
     "execution_count": 190,
     "metadata": {},
     "output_type": "execute_result"
    }
   ],
   "source": [
    "v_2.add_tracks(napari_tracks, scale=(1/scale_factor,1/scale_factor))"
   ]
  },
  {
   "cell_type": "markdown",
   "id": "291d5774-c5e5-42ec-927c-4788183a8728",
   "metadata": {},
   "source": [
    "### filter tracks"
   ]
  },
  {
   "cell_type": "code",
   "execution_count": 191,
   "id": "d6be7d39-b3cc-4ab7-83eb-4f28171cbf99",
   "metadata": {},
   "outputs": [],
   "source": [
    "napari_tracks, _, _ = btrack.utils.tracks_to_napari([t for t in tracks if len(t) >= 70], ndim=2)"
   ]
  },
  {
   "cell_type": "code",
   "execution_count": 192,
   "id": "5d3f0d5b-e959-4640-a1bc-1c9b1c1bf5f3",
   "metadata": {},
   "outputs": [
    {
     "data": {
      "text/plain": [
       "66"
      ]
     },
     "execution_count": 192,
     "metadata": {},
     "output_type": "execute_result"
    }
   ],
   "source": [
    "len([t for t in tracks if len(t) >= 75])"
   ]
  },
  {
   "cell_type": "code",
   "execution_count": 194,
   "id": "ace9d873-5599-4dfd-a1b8-d24e9827501f",
   "metadata": {},
   "outputs": [
    {
     "data": {
      "text/plain": [
       "<Tracks layer 'filtered' at 0x7f8c15fe2fd0>"
      ]
     },
     "execution_count": 194,
     "metadata": {},
     "output_type": "execute_result"
    }
   ],
   "source": [
    "v_2.add_tracks(napari_tracks, scale=(1/scale_factor,1/scale_factor), name = 'filtered')"
   ]
  },
  {
   "cell_type": "markdown",
   "id": "18102555-91a0-40bc-8b01-5ab8c126e604",
   "metadata": {},
   "source": [
    "# Going back to cpv3 to chekc area measurements"
   ]
  },
  {
   "cell_type": "code",
   "execution_count": 198,
   "id": "82a3f7b2-9a6d-400c-b044-306ed13930ac",
   "metadata": {},
   "outputs": [
    {
     "data": {
      "text/html": [
       "<table border=\"1\" class=\"dataframe\">\n",
       "  <thead>\n",
       "    <tr style=\"text-align: right;\">\n",
       "      <th></th>\n",
       "      <th>ID</th>\n",
       "      <th>x</th>\n",
       "      <th>y</th>\n",
       "      <th>z</th>\n",
       "      <th>t</th>\n",
       "      <th>dummy</th>\n",
       "      <th>states</th>\n",
       "      <th>label</th>\n",
       "      <th>area</th>\n",
       "      <th>major_axis_length</th>\n",
       "      <th>minor_axis_length</th>\n",
       "      <th>orientation</th>\n",
       "      <th>mean_intensity</th>\n",
       "      <th>Infected</th>\n",
       "      <th>Mtb area px</th>\n",
       "    </tr>\n",
       "  </thead>\n",
       "  <tbody>\n",
       "    <tr>\n",
       "      <th>0</th>\n",
       "      <td>1</td>\n",
       "      <td>563.550037</td>\n",
       "      <td>13.155885</td>\n",
       "      <td>0.0</td>\n",
       "      <td>0</td>\n",
       "      <td>False</td>\n",
       "      <td>7</td>\n",
       "      <td>5</td>\n",
       "      <td>25162</td>\n",
       "      <td>234.099845</td>\n",
       "      <td>149.399704</td>\n",
       "      <td>1.500681</td>\n",
       "      <td>0.014228</td>\n",
       "      <td>True</td>\n",
       "      <td>358.0</td>\n",
       "    </tr>\n",
       "  </tbody>\n",
       "</table>"
      ],
      "text/plain": [
       "{'ID': 1, 'x': 563.5500370298876, 'y': 13.155884787213774, 'z': 0.0, 't': 0, 'dummy': False, 'states': 7, 'label': 5, 'area': 25162, 'major_axis_length': 234.09984528191248, 'minor_axis_length': 149.39970358816157, 'orientation': 1.5006807604760488, 'mean_intensity': 0.014227803831173993, 'Infected': True, 'Mtb area px': 358.0}"
      ]
     },
     "execution_count": 198,
     "metadata": {},
     "output_type": "execute_result"
    }
   ],
   "source": [
    "objects[1]"
   ]
  },
  {
   "cell_type": "code",
   "execution_count": 199,
   "id": "4fc6fcd3-eed8-4e24-81dc-d1d9a91ccf30",
   "metadata": {},
   "outputs": [
    {
     "data": {
      "text/plain": [
       "<Points layer 'Points' at 0x7f8c05703190>"
      ]
     },
     "execution_count": 199,
     "metadata": {},
     "output_type": "execute_result"
    }
   ],
   "source": [
    "viewer.add_points([0, 13*5.04, 563*5.04], size = 100)"
   ]
  },
  {
   "cell_type": "code",
   "execution_count": 217,
   "id": "8141c3f9-78d3-4558-a6a2-654add45ea77",
   "metadata": {},
   "outputs": [
    {
     "data": {
      "text/plain": [
       "358"
      ]
     },
     "execution_count": 217,
     "metadata": {},
     "output_type": "execute_result"
    }
   ],
   "source": [
    "np.sum(viewer.layers['Labels'].data)"
   ]
  },
  {
   "cell_type": "markdown",
   "id": "adc17e62-7f03-48f7-b95b-fe6b46fb3e31",
   "metadata": {
    "jp-MarkdownHeadingCollapsed": true
   },
   "source": [
    "# First pass seg then second pass"
   ]
  },
  {
   "cell_type": "code",
   "execution_count": 150,
   "id": "f0299a10-5a0f-4e7b-a2de-c29183b3e9e5",
   "metadata": {},
   "outputs": [
    {
     "name": "stderr",
     "output_type": "stream",
     "text": [
      "INFO:cellpose.core:** TORCH CUDA version installed and working. **\n",
      "INFO:cellpose.core:>>>> using GPU\n",
      "INFO:cellpose.models:>> cyto3 << model set to be used\n",
      "INFO:cellpose.models:>>>> model diam_mean =  30.000 (ROIs rescaled to this size during training)\n"
     ]
    }
   ],
   "source": [
    "\n",
    "model = models.Cellpose(gpu=True, model_type='cyto3')\n"
   ]
  },
  {
   "cell_type": "code",
   "execution_count": 166,
   "id": "75f12c3a-7e6e-4cb8-9431-19498dbc2981",
   "metadata": {},
   "outputs": [
    {
     "name": "stderr",
     "output_type": "stream",
     "text": [
      "INFO:cellpose.models:~~~ FINDING MASKS ~~~\n",
      "INFO:cellpose.models:>>>> TOTAL TIME 70.33 sec\n"
     ]
    }
   ],
   "source": [
    "masks, flows, styles, diams = model.eval(image_frame,\n",
    "                                         diameter = 300,)\n",
    "                                         # diameter=None, #350\n",
    "                                         # channels=[0,0],\n",
    "                                         # flow_threshold=None, \n",
    "                                         # cellprob_threshold=6)"
   ]
  },
  {
   "cell_type": "code",
   "execution_count": 157,
   "id": "8573e1ee-31cc-45ee-bd93-0383ae6c03fc",
   "metadata": {},
   "outputs": [
    {
     "data": {
      "text/plain": [
       "<Image layer 'masks [3]' at 0x7f8bfee78370>"
      ]
     },
     "execution_count": 157,
     "metadata": {},
     "output_type": "execute_result"
    }
   ],
   "source": [
    "viewer.add_image(masks)"
   ]
  },
  {
   "cell_type": "code",
   "execution_count": 167,
   "id": "a0590371-5d66-4983-842d-a85b56161cbe",
   "metadata": {},
   "outputs": [
    {
     "data": {
      "text/plain": [
       "<Labels layer 'masks [6]' at 0x7f8bfc89d880>"
      ]
     },
     "execution_count": 167,
     "metadata": {},
     "output_type": "execute_result"
    }
   ],
   "source": [
    "viewer.add_labels(masks)"
   ]
  },
  {
   "cell_type": "code",
   "execution_count": 168,
   "id": "540d4983-ffdd-4fc7-8197-ceb1aeecaf85",
   "metadata": {},
   "outputs": [
    {
     "ename": "NameError",
     "evalue": "name 'pri' is not defined",
     "output_type": "error",
     "traceback": [
      "\u001b[0;31m---------------------------------------------------------------------------\u001b[0m",
      "\u001b[0;31mNameError\u001b[0m                                 Traceback (most recent call last)",
      "Cell \u001b[0;32mIn[168], line 1\u001b[0m\n\u001b[0;32m----> 1\u001b[0m \u001b[43mpri\u001b[49m\n",
      "\u001b[0;31mNameError\u001b[0m: name 'pri' is not defined"
     ]
    }
   ],
   "source": [
    "pri"
   ]
  },
  {
   "cell_type": "markdown",
   "id": "3a96af55-291c-42e0-bb21-102fe395f304",
   "metadata": {
    "jp-MarkdownHeadingCollapsed": true
   },
   "source": [
    "# More training data"
   ]
  },
  {
   "cell_type": "markdown",
   "id": "91096fdf-37f0-4c0e-928c-566ed37aae70",
   "metadata": {},
   "source": [
    "### Pick a frame"
   ]
  },
  {
   "cell_type": "code",
   "execution_count": 51,
   "id": "a32e34bd-406a-47db-814a-a76d5afb55df",
   "metadata": {},
   "outputs": [],
   "source": [
    "t = 0\n",
    "image_frame = image_stack[t]\n",
    "segmentation_frame = segmentation[t]"
   ]
  },
  {
   "cell_type": "markdown",
   "id": "93dc81c1-7f2a-4cd6-ad4d-3f9d86181656",
   "metadata": {},
   "source": [
    "### Convert to semantic"
   ]
  },
  {
   "cell_type": "code",
   "execution_count": 52,
   "id": "04910d6c-8331-4254-9133-cc3a8d0383c6",
   "metadata": {},
   "outputs": [
    {
     "data": {
      "application/vnd.jupyter.widget-view+json": {
       "model_id": "",
       "version_major": 2,
       "version_minor": 0
      },
      "text/plain": [
       "Iterating over segments:   0%|          | 0/228 [00:00<?, ?it/s]"
      ]
     },
     "metadata": {},
     "output_type": "display_data"
    }
   ],
   "source": [
    "gt_masks = tools.instance_to_semantic(segmentation_frame)"
   ]
  },
  {
   "cell_type": "code",
   "execution_count": 55,
   "id": "846327ef-716f-4566-b558-504bb7fb53f7",
   "metadata": {},
   "outputs": [
    {
     "data": {
      "text/plain": [
       "(3, 4)"
      ]
     },
     "execution_count": 55,
     "metadata": {},
     "output_type": "execute_result"
    }
   ],
   "source": [
    "acq_ID"
   ]
  },
  {
   "cell_type": "code",
   "execution_count": 62,
   "id": "6a46fe87-2a3b-4470-8530-2cd752e17d0e",
   "metadata": {},
   "outputs": [],
   "source": [
    "gt_image_fn = os.path.join(base_dir, f'labels/macrohet_seg_model/training/{acq_ID}_t{t}_gt_image.tif')\n",
    "io.imsave(gt_image_fn, image_frame)"
   ]
  },
  {
   "cell_type": "code",
   "execution_count": 63,
   "id": "ff51c3b4-4643-4d3b-a9d2-d648a3544870",
   "metadata": {},
   "outputs": [],
   "source": [
    "gt_mask_fn = os.path.join(base_dir, f'labels/macrohet_seg_model/training/{acq_ID}_t{t}_gt_masks.tif')"
   ]
  },
  {
   "cell_type": "markdown",
   "id": "fae9a2c7-64a2-4cb2-954b-7bdda440466f",
   "metadata": {},
   "source": [
    "### Open new napari session"
   ]
  },
  {
   "cell_type": "code",
   "execution_count": 64,
   "id": "07ebe952-49b2-4ff4-8118-da4b11917a16",
   "metadata": {},
   "outputs": [],
   "source": [
    "v = napari.Viewer()\n",
    "v.add_image(image_frame, colormap='green', contrast_limits=[0,8000], blending = 'additive')\n",
    "v.add_image(image_frame, colormap='green', contrast_limits=[0,4500], blending = 'additive', name = 'images_bright', visible = False)\n",
    "visualise.add_napari_grid_overlay(viewer = v, N_rows_cols=5)\n",
    "\n",
    "v.add_labels(gt_masks, color={1:'yellow'}, opacity=0.5, blending = 'additive')\n",
    "# v.add_image(other_ch_image, colormap='magenta', contrast_limits = [0,4000], blending = 'additive', scale=[1/4, 1/4])\n",
    "@v.bind_key(\"s\", overwrite = True)\n",
    "def save_masks(v):  \n",
    "    v.layers['gt_masks'].save(gt_mask_fn.replace('semantic', 'backup'))\n",
    "    print('Saved')\n",
    "@v.bind_key(\"b\", overwrite = True)\n",
    "def show_bright_gt_image(v):  \n",
    "    v.layers['images_bright'].visible = 1 if v.layers['ds_images_bright'].visible == 0 else 0"
   ]
  },
  {
   "cell_type": "code",
   "execution_count": 67,
   "id": "4eede5c2-aafd-4113-bd4e-3c1dd0bc3039",
   "metadata": {},
   "outputs": [],
   "source": [
    "v.title = 'gt masks'"
   ]
  }
 ],
 "metadata": {
  "kernelspec": {
   "display_name": "egg",
   "language": "python",
   "name": "egg"
  },
  "language_info": {
   "codemirror_mode": {
    "name": "ipython",
    "version": 3
   },
   "file_extension": ".py",
   "mimetype": "text/x-python",
   "name": "python",
   "nbconvert_exporter": "python",
   "pygments_lexer": "ipython3",
   "version": "3.9.17"
  }
 },
 "nbformat": 4,
 "nbformat_minor": 5
}
