{
 "cells": [
  {
   "cell_type": "markdown",
   "id": "d2e295e0",
   "metadata": {},
   "source": [
    "# Load segmentation, localise and save as h5\n",
    "\n",
    "Segment a stack of images and then manually label a couple, then check how well the model segmented them."
   ]
  },
  {
   "cell_type": "code",
   "execution_count": 1,
   "id": "7975a2f4",
   "metadata": {},
   "outputs": [
    {
     "name": "stdout",
     "output_type": "stream",
     "text": [
      "Using device: cuda\n",
      "\n",
      "NVIDIA RTX A6000\n",
      "Memory Usage:\n",
      "Allocated: 0.0 GB\n",
      "Cached:    0.0 GB\n"
     ]
    }
   ],
   "source": [
    "import napari\n",
    "from cellpose import models\n",
    "from octopuslite import utils, tile\n",
    "import numpy as np\n",
    "\n",
    "import sys\n",
    "sys.path.append('macrohet/')\n",
    "from notify import send_sms\n",
    "\n",
    "def view(img):\n",
    "    return napari.Viewer().add_image(img)\n",
    "\n",
    "from tqdm.auto import tqdm\n",
    "\n",
    "import btrack\n",
    "import dask.array as da\n",
    "\n",
    "import torch\n",
    "# setting device on GPU if available, else CPU\n",
    "device = torch.device('cuda' if torch.cuda.is_available() else 'cpu')\n",
    "print('Using device:', device)\n",
    "print()\n",
    "\n",
    "#Additional Info when using cuda\n",
    "if device.type == 'cuda':\n",
    "    print(torch.cuda.get_device_name(0))\n",
    "    print('Memory Usage:')\n",
    "    print('Allocated:', round(torch.cuda.memory_allocated(0)/1024**3,1), 'GB')\n",
    "    print('Cached:   ', round(torch.cuda.memory_reserved(0)/1024**3,1), 'GB')"
   ]
  },
  {
   "cell_type": "markdown",
   "id": "3751ef77",
   "metadata": {},
   "source": [
    "### Load experiment of choice\n",
    "\n",
    "The Opera Phenix is a high-throughput confocal microscope that acquires very large 5-dimensional (TCZXY) images over several fields of view in any one experiment. Therefore, a lazy-loading approach is chosen to mosaic, view and annotate these images. This approach depends upon Dask and DaskFusion. The first step is to load the main metadata file (typically called `Index.idx.xml` and located in the main `Images` directory) that contains the image filenames and associated TCXZY information used to organise the images."
   ]
  },
  {
   "cell_type": "code",
   "execution_count": 2,
   "id": "8d20db67",
   "metadata": {},
   "outputs": [
    {
     "name": "stdout",
     "output_type": "stream",
     "text": [
      "Reading metadata XML file...\n"
     ]
    },
    {
     "data": {
      "application/vnd.jupyter.widget-view+json": {
       "model_id": "19a756ef99934aef89504296d33e7935",
       "version_major": 2,
       "version_minor": 0
      },
      "text/plain": [
       "Extracting HarmonyV5 metadata:   0%|          | 0/113400 [00:00<?, ?it/s]"
      ]
     },
     "metadata": {},
     "output_type": "display_data"
    },
    {
     "name": "stdout",
     "output_type": "stream",
     "text": [
      "Extracting metadata complete!\n"
     ]
    }
   ],
   "source": [
    "image_dir = '/mnt/DATA/sandbox/pierre_live_cell_data/outputs/Replication_IPSDM_GFP/Images/'\n",
    "metadata_fn = '/mnt/DATA/sandbox/pierre_live_cell_data/outputs/Replication_IPSDM_GFP/Index.idx.xml'\n",
    "metadata = utils.read_harmony_metadata(metadata_fn)"
   ]
  },
  {
   "cell_type": "markdown",
   "id": "e739b419",
   "metadata": {},
   "source": [
    "### View assay layout and mask information (optional)\n",
    "\n",
    "The Opera Phenix acquires many time lapse series from a range of positions. The first step is to inspect the image metadata, presented in the form of an `Assaylayout/experiment_ID.xml` file, to show which positions correspond to which experimental assays."
   ]
  },
  {
   "cell_type": "code",
   "execution_count": 3,
   "id": "19c540d8",
   "metadata": {
    "scrolled": true
   },
   "outputs": [
    {
     "name": "stdout",
     "output_type": "stream",
     "text": [
      "Reading metadata XML file...\n",
      "Extracting metadata complete!\n"
     ]
    },
    {
     "data": {
      "text/html": [
       "<div>\n",
       "<style scoped>\n",
       "    .dataframe tbody tr th:only-of-type {\n",
       "        vertical-align: middle;\n",
       "    }\n",
       "\n",
       "    .dataframe tbody tr th {\n",
       "        vertical-align: top;\n",
       "    }\n",
       "\n",
       "    .dataframe thead th {\n",
       "        text-align: right;\n",
       "    }\n",
       "</style>\n",
       "<table border=\"1\" class=\"dataframe\">\n",
       "  <thead>\n",
       "    <tr style=\"text-align: right;\">\n",
       "      <th></th>\n",
       "      <th></th>\n",
       "      <th>Strain</th>\n",
       "      <th>Compound</th>\n",
       "      <th>Concentration</th>\n",
       "      <th>ConcentrationEC</th>\n",
       "    </tr>\n",
       "  </thead>\n",
       "  <tbody>\n",
       "    <tr>\n",
       "      <th rowspan=\"6\" valign=\"top\">3</th>\n",
       "      <th>4</th>\n",
       "      <td>RD1</td>\n",
       "      <td>CTRL</td>\n",
       "      <td>0</td>\n",
       "      <td>EC0</td>\n",
       "    </tr>\n",
       "    <tr>\n",
       "      <th>5</th>\n",
       "      <td>WT</td>\n",
       "      <td>CTRL</td>\n",
       "      <td>0</td>\n",
       "      <td>EC0</td>\n",
       "    </tr>\n",
       "    <tr>\n",
       "      <th>6</th>\n",
       "      <td>WT</td>\n",
       "      <td>PZA</td>\n",
       "      <td>60</td>\n",
       "      <td>EC50</td>\n",
       "    </tr>\n",
       "    <tr>\n",
       "      <th>7</th>\n",
       "      <td>WT</td>\n",
       "      <td>RIF</td>\n",
       "      <td>0.1</td>\n",
       "      <td>EC50</td>\n",
       "    </tr>\n",
       "    <tr>\n",
       "      <th>8</th>\n",
       "      <td>WT</td>\n",
       "      <td>INH</td>\n",
       "      <td>0.04</td>\n",
       "      <td>EC50</td>\n",
       "    </tr>\n",
       "    <tr>\n",
       "      <th>9</th>\n",
       "      <td>WT</td>\n",
       "      <td>BDQ</td>\n",
       "      <td>0.02</td>\n",
       "      <td>EC50</td>\n",
       "    </tr>\n",
       "    <tr>\n",
       "      <th rowspan=\"6\" valign=\"top\">4</th>\n",
       "      <th>4</th>\n",
       "      <td>RD1</td>\n",
       "      <td>CTRL</td>\n",
       "      <td>0</td>\n",
       "      <td>EC0</td>\n",
       "    </tr>\n",
       "    <tr>\n",
       "      <th>5</th>\n",
       "      <td>WT</td>\n",
       "      <td>CTRL</td>\n",
       "      <td>0</td>\n",
       "      <td>EC0</td>\n",
       "    </tr>\n",
       "    <tr>\n",
       "      <th>6</th>\n",
       "      <td>WT</td>\n",
       "      <td>PZA</td>\n",
       "      <td>60</td>\n",
       "      <td>EC50</td>\n",
       "    </tr>\n",
       "    <tr>\n",
       "      <th>7</th>\n",
       "      <td>WT</td>\n",
       "      <td>RIF</td>\n",
       "      <td>0.1</td>\n",
       "      <td>EC50</td>\n",
       "    </tr>\n",
       "    <tr>\n",
       "      <th>8</th>\n",
       "      <td>WT</td>\n",
       "      <td>INH</td>\n",
       "      <td>0.04</td>\n",
       "      <td>EC50</td>\n",
       "    </tr>\n",
       "    <tr>\n",
       "      <th>9</th>\n",
       "      <td>WT</td>\n",
       "      <td>BDQ</td>\n",
       "      <td>0.02</td>\n",
       "      <td>EC50</td>\n",
       "    </tr>\n",
       "    <tr>\n",
       "      <th rowspan=\"6\" valign=\"top\">5</th>\n",
       "      <th>4</th>\n",
       "      <td>RD1</td>\n",
       "      <td>CTRL</td>\n",
       "      <td>0</td>\n",
       "      <td>EC0</td>\n",
       "    </tr>\n",
       "    <tr>\n",
       "      <th>5</th>\n",
       "      <td>WT</td>\n",
       "      <td>CTRL</td>\n",
       "      <td>0</td>\n",
       "      <td>EC0</td>\n",
       "    </tr>\n",
       "    <tr>\n",
       "      <th>6</th>\n",
       "      <td>WT</td>\n",
       "      <td>PZA</td>\n",
       "      <td>400</td>\n",
       "      <td>EC99</td>\n",
       "    </tr>\n",
       "    <tr>\n",
       "      <th>7</th>\n",
       "      <td>WT</td>\n",
       "      <td>RIF</td>\n",
       "      <td>2</td>\n",
       "      <td>EC99</td>\n",
       "    </tr>\n",
       "    <tr>\n",
       "      <th>8</th>\n",
       "      <td>WT</td>\n",
       "      <td>INH</td>\n",
       "      <td>2</td>\n",
       "      <td>EC99</td>\n",
       "    </tr>\n",
       "    <tr>\n",
       "      <th>9</th>\n",
       "      <td>WT</td>\n",
       "      <td>BDQ</td>\n",
       "      <td>2.5</td>\n",
       "      <td>EC99</td>\n",
       "    </tr>\n",
       "    <tr>\n",
       "      <th rowspan=\"6\" valign=\"top\">6</th>\n",
       "      <th>4</th>\n",
       "      <td>RD1</td>\n",
       "      <td>CTRL</td>\n",
       "      <td>0</td>\n",
       "      <td>EC0</td>\n",
       "    </tr>\n",
       "    <tr>\n",
       "      <th>5</th>\n",
       "      <td>WT</td>\n",
       "      <td>CTRL</td>\n",
       "      <td>0</td>\n",
       "      <td>EC0</td>\n",
       "    </tr>\n",
       "    <tr>\n",
       "      <th>6</th>\n",
       "      <td>WT</td>\n",
       "      <td>PZA</td>\n",
       "      <td>400</td>\n",
       "      <td>EC99</td>\n",
       "    </tr>\n",
       "    <tr>\n",
       "      <th>7</th>\n",
       "      <td>WT</td>\n",
       "      <td>RIF</td>\n",
       "      <td>2</td>\n",
       "      <td>EC99</td>\n",
       "    </tr>\n",
       "    <tr>\n",
       "      <th>8</th>\n",
       "      <td>WT</td>\n",
       "      <td>INH</td>\n",
       "      <td>2</td>\n",
       "      <td>EC99</td>\n",
       "    </tr>\n",
       "    <tr>\n",
       "      <th>9</th>\n",
       "      <td>WT</td>\n",
       "      <td>BDQ</td>\n",
       "      <td>2.5</td>\n",
       "      <td>EC99</td>\n",
       "    </tr>\n",
       "  </tbody>\n",
       "</table>\n",
       "</div>"
      ],
      "text/plain": [
       "    Strain Compound Concentration ConcentrationEC\n",
       "3 4    RD1     CTRL             0             EC0\n",
       "  5     WT     CTRL             0             EC0\n",
       "  6     WT      PZA            60            EC50\n",
       "  7     WT      RIF           0.1            EC50\n",
       "  8     WT      INH          0.04            EC50\n",
       "  9     WT      BDQ          0.02            EC50\n",
       "4 4    RD1     CTRL             0             EC0\n",
       "  5     WT     CTRL             0             EC0\n",
       "  6     WT      PZA            60            EC50\n",
       "  7     WT      RIF           0.1            EC50\n",
       "  8     WT      INH          0.04            EC50\n",
       "  9     WT      BDQ          0.02            EC50\n",
       "5 4    RD1     CTRL             0             EC0\n",
       "  5     WT     CTRL             0             EC0\n",
       "  6     WT      PZA           400            EC99\n",
       "  7     WT      RIF             2            EC99\n",
       "  8     WT      INH             2            EC99\n",
       "  9     WT      BDQ           2.5            EC99\n",
       "6 4    RD1     CTRL             0             EC0\n",
       "  5     WT     CTRL             0             EC0\n",
       "  6     WT      PZA           400            EC99\n",
       "  7     WT      RIF             2            EC99\n",
       "  8     WT      INH             2            EC99\n",
       "  9     WT      BDQ           2.5            EC99"
      ]
     },
     "execution_count": 3,
     "metadata": {},
     "output_type": "execute_result"
    }
   ],
   "source": [
    "metadata_path = '/mnt/DATA/sandbox/pierre_live_cell_data/outputs/Replication_IPSDM_GFP/Assaylayout/20210602_Live_cell_IPSDMGFP_ATB.xml'\n",
    "utils.read_harmony_metadata(metadata_path, assay_layout=True)"
   ]
  },
  {
   "cell_type": "markdown",
   "id": "dcd88da7",
   "metadata": {},
   "source": [
    "### Define row and column of choice"
   ]
  },
  {
   "cell_type": "code",
   "execution_count": 18,
   "id": "f3e672e3",
   "metadata": {},
   "outputs": [],
   "source": [
    "row = '6'\n",
    "column = '9'"
   ]
  },
  {
   "cell_type": "markdown",
   "id": "badcba11",
   "metadata": {},
   "source": [
    "### Now to lazily mosaic the images using Dask prior to viewing them.\n",
    "\n",
    "1x (75,2,3) [TCZ] image stack takes approximately 1 minute to stitch together, so only load the one field of view I want."
   ]
  },
  {
   "cell_type": "code",
   "execution_count": 33,
   "id": "10033963",
   "metadata": {},
   "outputs": [],
   "source": [
    "images_dask = tile.compile_mosaic(image_dir, \n",
    "                             metadata, \n",
    "                             row, \n",
    "                             column, \n",
    "                             #set_channel=1, \n",
    "#                              set_plane = 'sum_proj',\n",
    "#                              set_time = 1\n",
    "                         )#.astype(uint8)"
   ]
  },
  {
   "cell_type": "code",
   "execution_count": 37,
   "id": "8d202f55",
   "metadata": {},
   "outputs": [
    {
     "data": {
      "text/html": [
       "<table>\n",
       "    <tr>\n",
       "        <td>\n",
       "            <table>\n",
       "                <thead>\n",
       "                    <tr>\n",
       "                        <td> </td>\n",
       "                        <th> Array </th>\n",
       "                        <th> Chunk </th>\n",
       "                    </tr>\n",
       "                </thead>\n",
       "                <tbody>\n",
       "                    \n",
       "                    <tr>\n",
       "                        <th> Bytes </th>\n",
       "                        <td> 30.66 GiB </td>\n",
       "                        <td> 46.51 MiB </td>\n",
       "                    </tr>\n",
       "                    \n",
       "                    <tr>\n",
       "                        <th> Shape </th>\n",
       "                        <td> (75, 2, 3, 6048, 6048) </td>\n",
       "                        <td> (1, 2, 3, 2016, 2016) </td>\n",
       "                    </tr>\n",
       "                    <tr>\n",
       "                        <th> Count </th>\n",
       "                        <td> 14850 Tasks </td>\n",
       "                        <td> 675 Chunks </td>\n",
       "                    </tr>\n",
       "                    <tr>\n",
       "                    <th> Type </th>\n",
       "                    <td> uint16 </td>\n",
       "                    <td> numpy.ndarray </td>\n",
       "                    </tr>\n",
       "                </tbody>\n",
       "            </table>\n",
       "        </td>\n",
       "        <td>\n",
       "        <svg width=\"374\" height=\"184\" style=\"stroke:rgb(0,0,0);stroke-width:1\" >\n",
       "\n",
       "  <!-- Horizontal lines -->\n",
       "  <line x1=\"0\" y1=\"0\" x2=\"25\" y2=\"0\" style=\"stroke-width:2\" />\n",
       "  <line x1=\"0\" y1=\"0\" x2=\"25\" y2=\"0\" />\n",
       "  <line x1=\"0\" y1=\"1\" x2=\"25\" y2=\"1\" />\n",
       "  <line x1=\"0\" y1=\"2\" x2=\"25\" y2=\"2\" />\n",
       "  <line x1=\"0\" y1=\"3\" x2=\"25\" y2=\"3\" />\n",
       "  <line x1=\"0\" y1=\"3\" x2=\"25\" y2=\"3\" />\n",
       "  <line x1=\"0\" y1=\"4\" x2=\"25\" y2=\"4\" />\n",
       "  <line x1=\"0\" y1=\"5\" x2=\"25\" y2=\"5\" />\n",
       "  <line x1=\"0\" y1=\"6\" x2=\"25\" y2=\"6\" />\n",
       "  <line x1=\"0\" y1=\"7\" x2=\"25\" y2=\"7\" />\n",
       "  <line x1=\"0\" y1=\"8\" x2=\"25\" y2=\"8\" />\n",
       "  <line x1=\"0\" y1=\"8\" x2=\"25\" y2=\"8\" />\n",
       "  <line x1=\"0\" y1=\"9\" x2=\"25\" y2=\"9\" />\n",
       "  <line x1=\"0\" y1=\"10\" x2=\"25\" y2=\"10\" />\n",
       "  <line x1=\"0\" y1=\"11\" x2=\"25\" y2=\"11\" />\n",
       "  <line x1=\"0\" y1=\"12\" x2=\"25\" y2=\"12\" />\n",
       "  <line x1=\"0\" y1=\"13\" x2=\"25\" y2=\"13\" />\n",
       "  <line x1=\"0\" y1=\"13\" x2=\"25\" y2=\"13\" />\n",
       "  <line x1=\"0\" y1=\"14\" x2=\"25\" y2=\"14\" />\n",
       "  <line x1=\"0\" y1=\"15\" x2=\"25\" y2=\"15\" />\n",
       "  <line x1=\"0\" y1=\"16\" x2=\"25\" y2=\"16\" />\n",
       "  <line x1=\"0\" y1=\"17\" x2=\"25\" y2=\"17\" />\n",
       "  <line x1=\"0\" y1=\"18\" x2=\"25\" y2=\"18\" />\n",
       "  <line x1=\"0\" y1=\"18\" x2=\"25\" y2=\"18\" />\n",
       "  <line x1=\"0\" y1=\"19\" x2=\"25\" y2=\"19\" />\n",
       "  <line x1=\"0\" y1=\"20\" x2=\"25\" y2=\"20\" />\n",
       "  <line x1=\"0\" y1=\"21\" x2=\"25\" y2=\"21\" />\n",
       "  <line x1=\"0\" y1=\"22\" x2=\"25\" y2=\"22\" />\n",
       "  <line x1=\"0\" y1=\"22\" x2=\"25\" y2=\"22\" />\n",
       "  <line x1=\"0\" y1=\"23\" x2=\"25\" y2=\"23\" />\n",
       "  <line x1=\"0\" y1=\"24\" x2=\"25\" y2=\"24\" />\n",
       "  <line x1=\"0\" y1=\"25\" x2=\"25\" y2=\"25\" />\n",
       "  <line x1=\"0\" y1=\"26\" x2=\"25\" y2=\"26\" style=\"stroke-width:2\" />\n",
       "\n",
       "  <!-- Vertical lines -->\n",
       "  <line x1=\"0\" y1=\"0\" x2=\"0\" y2=\"26\" style=\"stroke-width:2\" />\n",
       "  <line x1=\"25\" y1=\"0\" x2=\"25\" y2=\"26\" style=\"stroke-width:2\" />\n",
       "\n",
       "  <!-- Colored Rectangle -->\n",
       "  <polygon points=\"0.0,0.0 25.412616514582485,0.0 25.412616514582485,26.472362419580787 0.0,26.472362419580787\" style=\"fill:#8B4903A0;stroke-width:0\"/>\n",
       "\n",
       "  <!-- Text -->\n",
       "  <text x=\"12.706308\" y=\"46.472362\" font-size=\"1.0rem\" font-weight=\"100\" text-anchor=\"middle\" >2</text>\n",
       "  <text x=\"45.412617\" y=\"13.236181\" font-size=\"1.0rem\" font-weight=\"100\" text-anchor=\"middle\" transform=\"rotate(0,45.412617,13.236181)\">75</text>\n",
       "\n",
       "\n",
       "  <!-- Horizontal lines -->\n",
       "  <line x1=\"95\" y1=\"0\" x2=\"109\" y2=\"14\" style=\"stroke-width:2\" />\n",
       "  <line x1=\"95\" y1=\"40\" x2=\"109\" y2=\"54\" />\n",
       "  <line x1=\"95\" y1=\"80\" x2=\"109\" y2=\"94\" />\n",
       "  <line x1=\"95\" y1=\"120\" x2=\"109\" y2=\"134\" style=\"stroke-width:2\" />\n",
       "\n",
       "  <!-- Vertical lines -->\n",
       "  <line x1=\"95\" y1=\"0\" x2=\"95\" y2=\"120\" style=\"stroke-width:2\" />\n",
       "  <line x1=\"109\" y1=\"14\" x2=\"109\" y2=\"134\" style=\"stroke-width:2\" />\n",
       "\n",
       "  <!-- Colored Rectangle -->\n",
       "  <polygon points=\"95.0,0.0 109.9485979497544,14.948597949754403 109.9485979497544,134.9485979497544 95.0,120.0\" style=\"fill:#ECB172A0;stroke-width:0\"/>\n",
       "\n",
       "  <!-- Horizontal lines -->\n",
       "  <line x1=\"95\" y1=\"0\" x2=\"215\" y2=\"0\" style=\"stroke-width:2\" />\n",
       "  <line x1=\"109\" y1=\"14\" x2=\"229\" y2=\"14\" style=\"stroke-width:2\" />\n",
       "\n",
       "  <!-- Vertical lines -->\n",
       "  <line x1=\"95\" y1=\"0\" x2=\"109\" y2=\"14\" style=\"stroke-width:2\" />\n",
       "  <line x1=\"135\" y1=\"0\" x2=\"149\" y2=\"14\" />\n",
       "  <line x1=\"175\" y1=\"0\" x2=\"189\" y2=\"14\" />\n",
       "  <line x1=\"215\" y1=\"0\" x2=\"229\" y2=\"14\" style=\"stroke-width:2\" />\n",
       "\n",
       "  <!-- Colored Rectangle -->\n",
       "  <polygon points=\"95.0,0.0 215.0,0.0 229.9485979497544,14.948597949754403 109.9485979497544,14.948597949754403\" style=\"fill:#ECB172A0;stroke-width:0\"/>\n",
       "\n",
       "  <!-- Horizontal lines -->\n",
       "  <line x1=\"109\" y1=\"14\" x2=\"229\" y2=\"14\" style=\"stroke-width:2\" />\n",
       "  <line x1=\"109\" y1=\"54\" x2=\"229\" y2=\"54\" />\n",
       "  <line x1=\"109\" y1=\"94\" x2=\"229\" y2=\"94\" />\n",
       "  <line x1=\"109\" y1=\"134\" x2=\"229\" y2=\"134\" style=\"stroke-width:2\" />\n",
       "\n",
       "  <!-- Vertical lines -->\n",
       "  <line x1=\"109\" y1=\"14\" x2=\"109\" y2=\"134\" style=\"stroke-width:2\" />\n",
       "  <line x1=\"149\" y1=\"14\" x2=\"149\" y2=\"134\" />\n",
       "  <line x1=\"189\" y1=\"14\" x2=\"189\" y2=\"134\" />\n",
       "  <line x1=\"229\" y1=\"14\" x2=\"229\" y2=\"134\" style=\"stroke-width:2\" />\n",
       "\n",
       "  <!-- Colored Rectangle -->\n",
       "  <polygon points=\"109.9485979497544,14.948597949754403 229.9485979497544,14.948597949754403 229.9485979497544,134.9485979497544 109.9485979497544,134.9485979497544\" style=\"fill:#ECB172A0;stroke-width:0\"/>\n",
       "\n",
       "  <!-- Text -->\n",
       "  <text x=\"169.948598\" y=\"154.948598\" font-size=\"1.0rem\" font-weight=\"100\" text-anchor=\"middle\" >6048</text>\n",
       "  <text x=\"249.948598\" y=\"74.948598\" font-size=\"1.0rem\" font-weight=\"100\" text-anchor=\"middle\" transform=\"rotate(-90,249.948598,74.948598)\">6048</text>\n",
       "  <text x=\"92.474299\" y=\"147.474299\" font-size=\"1.0rem\" font-weight=\"100\" text-anchor=\"middle\" transform=\"rotate(45,92.474299,147.474299)\">3</text>\n",
       "</svg>\n",
       "        </td>\n",
       "    </tr>\n",
       "</table>"
      ],
      "text/plain": [
       "dask.array<reshape, shape=(75, 2, 3, 6048, 6048), dtype=uint16, chunksize=(1, 2, 3, 2016, 2016), chunktype=numpy.ndarray>"
      ]
     },
     "execution_count": 37,
     "metadata": {},
     "output_type": "execute_result"
    }
   ],
   "source": [
    "images_dask"
   ]
  },
  {
   "cell_type": "markdown",
   "id": "397752fd",
   "metadata": {},
   "source": [
    "# This is where the segmentation will go"
   ]
  },
  {
   "cell_type": "code",
   "execution_count": 6,
   "id": "d18e0622",
   "metadata": {},
   "outputs": [],
   "source": [
    "model = models.Cellpose(\n",
    "                        #gpu=True, \n",
    "                        model_type='cyto', \n",
    "                        net_avg=True, \n",
    "                        device=torch.device('cuda')\n",
    "                        )"
   ]
  },
  {
   "cell_type": "code",
   "execution_count": 32,
   "id": "d8421e34",
   "metadata": {},
   "outputs": [
    {
     "data": {
      "text/plain": [
       "array([[[[   0,    0,    0, ...,    0,    0,    0],\n",
       "         [ 321,  329,  317, ...,  430,  414,    0],\n",
       "         [ 322,  324,  319, ...,  411,  419,    0],\n",
       "         ...,\n",
       "         [ 958, 1030,  988, ..., 1215, 1098,    0],\n",
       "         [ 893,  972,  926, ..., 1490, 1296,    0],\n",
       "         [ 852,  937,  871, ..., 1693, 1551,    0]],\n",
       "\n",
       "        [[   0,    0,    0, ...,    0,    0,    0],\n",
       "         [ 312,  298,  299, ...,  320,  327,    0],\n",
       "         [ 303,  307,  304, ...,  317,  314,    0],\n",
       "         ...,\n",
       "         [ 308,  338,  349, ...,  321,  329,    0],\n",
       "         [ 333,  349,  330, ...,  321,  322,    0],\n",
       "         [ 331,  337,  306, ...,  305,  318,    0]]],\n",
       "\n",
       "\n",
       "       [[[   0,    0,    0, ...,    0,    0,    0],\n",
       "         [ 327,  332,  325, ...,  402,  402,    0],\n",
       "         [ 314,  324,  324, ...,  399,  409,    0],\n",
       "         ...,\n",
       "         [1726, 1644, 1558, ..., 1034, 1014,    0],\n",
       "         [1684, 1616, 1545, ..., 1073, 1021,    0],\n",
       "         [1718, 1636, 1563, ..., 1084, 1111,    0]],\n",
       "\n",
       "        [[   0,    0,    0, ...,    0,    0,    0],\n",
       "         [ 323,  297,  296, ...,  317,  320,    0],\n",
       "         [ 309,  300,  298, ...,  325,  315,    0],\n",
       "         ...,\n",
       "         [ 322,  327,  331, ...,  304,  321,    0],\n",
       "         [ 329,  337,  327, ...,  320,  316,    0],\n",
       "         [ 334,  327,  310, ...,  316,  314,    0]]],\n",
       "\n",
       "\n",
       "       [[[   0,    0,    0, ...,    0,    0,    0],\n",
       "         [ 328,  346,  332, ...,  502,  476,    0],\n",
       "         [ 322,  342,  324, ...,  476,  473,    0],\n",
       "         ...,\n",
       "         [ 914,  877,  854, ...,  339,  325,    0],\n",
       "         [ 843,  815,  826, ...,  347,  322,    0],\n",
       "         [ 804,  749,  811, ...,  330,  347,    0]],\n",
       "\n",
       "        [[   0,    0,    0, ...,    0,    0,    0],\n",
       "         [ 307,  291,  294, ...,  308,  309,    0],\n",
       "         [ 309,  315,  297, ...,  314,  308,    0],\n",
       "         ...,\n",
       "         [ 316,  331,  326, ...,  313,  322,    0],\n",
       "         [ 325,  335,  332, ...,  311,  305,    0],\n",
       "         [ 329,  342,  325, ...,  306,  306,    0]]],\n",
       "\n",
       "\n",
       "       ...,\n",
       "\n",
       "\n",
       "       [[[   0,    0,    0, ...,    0,    0,    0],\n",
       "         [ 324,  334,  327, ...,  648,  629,    0],\n",
       "         [ 314,  326,  336, ...,  660,  654,    0],\n",
       "         ...,\n",
       "         [ 327,  334,  323, ...,  813,  842,    0],\n",
       "         [ 329,  349,  348, ...,  803,  815,    0],\n",
       "         [ 328,  347,  356, ...,  823,  822,    0]],\n",
       "\n",
       "        [[   0,    0,    0, ...,    0,    0,    0],\n",
       "         [ 316,  306,  307, ...,  315,  320,    0],\n",
       "         [ 315,  316,  315, ...,  338,  318,    0],\n",
       "         ...,\n",
       "         [ 324,  333,  324, ...,  326,  325,    0],\n",
       "         [ 331,  338,  312, ...,  316,  325,    0],\n",
       "         [ 334,  323,  300, ...,  304,  326,    0]]],\n",
       "\n",
       "\n",
       "       [[[   0,    0,    0, ...,    0,    0,    0],\n",
       "         [ 321,  331,  316, ...,  644,  631,    0],\n",
       "         [ 317,  317,  317, ...,  592,  606,    0],\n",
       "         ...,\n",
       "         [ 338,  337,  315, ...,  827,  832,    0],\n",
       "         [ 329,  340,  345, ...,  826,  799,    0],\n",
       "         [ 331,  340,  360, ...,  766,  754,    0]],\n",
       "\n",
       "        [[   0,    0,    0, ...,    0,    0,    0],\n",
       "         [ 307,  297,  312, ...,  312,  306,    0],\n",
       "         [ 314,  311,  311, ...,  332,  311,    0],\n",
       "         ...,\n",
       "         [ 321,  328,  334, ...,  319,  328,    0],\n",
       "         [ 323,  328,  313, ...,  319,  321,    0],\n",
       "         [ 329,  334,  303, ...,  310,  314,    0]]],\n",
       "\n",
       "\n",
       "       [[[   0,    0,    0, ...,    0,    0,    0],\n",
       "         [ 315,  326,  315, ...,  506,  515,    0],\n",
       "         [ 308,  322,  324, ...,  517,  542,    0],\n",
       "         ...,\n",
       "         [ 337,  349,  330, ...,  882,  853,    0],\n",
       "         [ 334,  350,  355, ...,  860,  805,    0],\n",
       "         [ 314,  329,  340, ...,  811,  776,    0]],\n",
       "\n",
       "        [[   0,    0,    0, ...,    0,    0,    0],\n",
       "         [ 317,  284,  285, ...,  317,  316,    0],\n",
       "         [ 311,  303,  298, ...,  322,  320,    0],\n",
       "         ...,\n",
       "         [ 306,  319,  309, ...,  320,  325,    0],\n",
       "         [ 311,  325,  309, ...,  314,  314,    0],\n",
       "         [ 314,  319,  300, ...,  302,  317,    0]]]], dtype=uint64)"
      ]
     },
     "execution_count": 32,
     "metadata": {},
     "output_type": "execute_result"
    }
   ],
   "source": [
    "images"
   ]
  },
  {
   "cell_type": "code",
   "execution_count": 8,
   "id": "997b6ac7",
   "metadata": {},
   "outputs": [
    {
     "data": {
      "text/html": [
       "<table>\n",
       "    <tr>\n",
       "        <td>\n",
       "            <table>\n",
       "                <thead>\n",
       "                    <tr>\n",
       "                        <td> </td>\n",
       "                        <th> Array </th>\n",
       "                        <th> Chunk </th>\n",
       "                    </tr>\n",
       "                </thead>\n",
       "                <tbody>\n",
       "                    \n",
       "                    <tr>\n",
       "                        <th> Bytes </th>\n",
       "                        <td> 20.44 GiB </td>\n",
       "                        <td> 31.01 MiB </td>\n",
       "                    </tr>\n",
       "                    \n",
       "                    <tr>\n",
       "                        <th> Shape </th>\n",
       "                        <td> (75, 6048, 6048) </td>\n",
       "                        <td> (1, 2016, 2016) </td>\n",
       "                    </tr>\n",
       "                    <tr>\n",
       "                        <th> Count </th>\n",
       "                        <td> 16875 Tasks </td>\n",
       "                        <td> 675 Chunks </td>\n",
       "                    </tr>\n",
       "                    <tr>\n",
       "                    <th> Type </th>\n",
       "                    <td> uint64 </td>\n",
       "                    <td> numpy.ndarray </td>\n",
       "                    </tr>\n",
       "                </tbody>\n",
       "            </table>\n",
       "        </td>\n",
       "        <td>\n",
       "        <svg width=\"195\" height=\"185\" style=\"stroke:rgb(0,0,0);stroke-width:1\" >\n",
       "\n",
       "  <!-- Horizontal lines -->\n",
       "  <line x1=\"10\" y1=\"0\" x2=\"25\" y2=\"15\" style=\"stroke-width:2\" />\n",
       "  <line x1=\"10\" y1=\"40\" x2=\"25\" y2=\"55\" />\n",
       "  <line x1=\"10\" y1=\"80\" x2=\"25\" y2=\"95\" />\n",
       "  <line x1=\"10\" y1=\"120\" x2=\"25\" y2=\"135\" style=\"stroke-width:2\" />\n",
       "\n",
       "  <!-- Vertical lines -->\n",
       "  <line x1=\"10\" y1=\"0\" x2=\"10\" y2=\"120\" style=\"stroke-width:2\" />\n",
       "  <line x1=\"10\" y1=\"0\" x2=\"10\" y2=\"120\" />\n",
       "  <line x1=\"11\" y1=\"1\" x2=\"11\" y2=\"121\" />\n",
       "  <line x1=\"12\" y1=\"2\" x2=\"12\" y2=\"122\" />\n",
       "  <line x1=\"13\" y1=\"3\" x2=\"13\" y2=\"123\" />\n",
       "  <line x1=\"13\" y1=\"3\" x2=\"13\" y2=\"123\" />\n",
       "  <line x1=\"14\" y1=\"4\" x2=\"14\" y2=\"124\" />\n",
       "  <line x1=\"15\" y1=\"5\" x2=\"15\" y2=\"125\" />\n",
       "  <line x1=\"16\" y1=\"6\" x2=\"16\" y2=\"126\" />\n",
       "  <line x1=\"17\" y1=\"7\" x2=\"17\" y2=\"127\" />\n",
       "  <line x1=\"18\" y1=\"8\" x2=\"18\" y2=\"128\" />\n",
       "  <line x1=\"18\" y1=\"8\" x2=\"18\" y2=\"128\" />\n",
       "  <line x1=\"19\" y1=\"9\" x2=\"19\" y2=\"129\" />\n",
       "  <line x1=\"20\" y1=\"10\" x2=\"20\" y2=\"130\" />\n",
       "  <line x1=\"21\" y1=\"11\" x2=\"21\" y2=\"131\" />\n",
       "  <line x1=\"22\" y1=\"12\" x2=\"22\" y2=\"132\" />\n",
       "  <line x1=\"23\" y1=\"13\" x2=\"23\" y2=\"133\" />\n",
       "  <line x1=\"23\" y1=\"13\" x2=\"23\" y2=\"133\" />\n",
       "  <line x1=\"24\" y1=\"14\" x2=\"24\" y2=\"134\" />\n",
       "  <line x1=\"25\" y1=\"15\" x2=\"25\" y2=\"135\" style=\"stroke-width:2\" />\n",
       "\n",
       "  <!-- Colored Rectangle -->\n",
       "  <polygon points=\"10.0,0.0 25.57197789387105,15.57197789387105 25.57197789387105,135.57197789387106 10.0,120.0\" style=\"fill:#8B4903A0;stroke-width:0\"/>\n",
       "\n",
       "  <!-- Horizontal lines -->\n",
       "  <line x1=\"10\" y1=\"0\" x2=\"130\" y2=\"0\" style=\"stroke-width:2\" />\n",
       "  <line x1=\"10\" y1=\"0\" x2=\"130\" y2=\"0\" />\n",
       "  <line x1=\"11\" y1=\"1\" x2=\"131\" y2=\"1\" />\n",
       "  <line x1=\"12\" y1=\"2\" x2=\"132\" y2=\"2\" />\n",
       "  <line x1=\"13\" y1=\"3\" x2=\"133\" y2=\"3\" />\n",
       "  <line x1=\"13\" y1=\"3\" x2=\"133\" y2=\"3\" />\n",
       "  <line x1=\"14\" y1=\"4\" x2=\"134\" y2=\"4\" />\n",
       "  <line x1=\"15\" y1=\"5\" x2=\"135\" y2=\"5\" />\n",
       "  <line x1=\"16\" y1=\"6\" x2=\"136\" y2=\"6\" />\n",
       "  <line x1=\"17\" y1=\"7\" x2=\"137\" y2=\"7\" />\n",
       "  <line x1=\"18\" y1=\"8\" x2=\"138\" y2=\"8\" />\n",
       "  <line x1=\"18\" y1=\"8\" x2=\"138\" y2=\"8\" />\n",
       "  <line x1=\"19\" y1=\"9\" x2=\"139\" y2=\"9\" />\n",
       "  <line x1=\"20\" y1=\"10\" x2=\"140\" y2=\"10\" />\n",
       "  <line x1=\"21\" y1=\"11\" x2=\"141\" y2=\"11\" />\n",
       "  <line x1=\"22\" y1=\"12\" x2=\"142\" y2=\"12\" />\n",
       "  <line x1=\"23\" y1=\"13\" x2=\"143\" y2=\"13\" />\n",
       "  <line x1=\"23\" y1=\"13\" x2=\"143\" y2=\"13\" />\n",
       "  <line x1=\"24\" y1=\"14\" x2=\"144\" y2=\"14\" />\n",
       "  <line x1=\"25\" y1=\"15\" x2=\"145\" y2=\"15\" style=\"stroke-width:2\" />\n",
       "\n",
       "  <!-- Vertical lines -->\n",
       "  <line x1=\"10\" y1=\"0\" x2=\"25\" y2=\"15\" style=\"stroke-width:2\" />\n",
       "  <line x1=\"50\" y1=\"0\" x2=\"65\" y2=\"15\" />\n",
       "  <line x1=\"90\" y1=\"0\" x2=\"105\" y2=\"15\" />\n",
       "  <line x1=\"130\" y1=\"0\" x2=\"145\" y2=\"15\" style=\"stroke-width:2\" />\n",
       "\n",
       "  <!-- Colored Rectangle -->\n",
       "  <polygon points=\"10.0,0.0 130.0,0.0 145.57197789387106,15.57197789387105 25.57197789387105,15.57197789387105\" style=\"fill:#8B4903A0;stroke-width:0\"/>\n",
       "\n",
       "  <!-- Horizontal lines -->\n",
       "  <line x1=\"25\" y1=\"15\" x2=\"145\" y2=\"15\" style=\"stroke-width:2\" />\n",
       "  <line x1=\"25\" y1=\"55\" x2=\"145\" y2=\"55\" />\n",
       "  <line x1=\"25\" y1=\"95\" x2=\"145\" y2=\"95\" />\n",
       "  <line x1=\"25\" y1=\"135\" x2=\"145\" y2=\"135\" style=\"stroke-width:2\" />\n",
       "\n",
       "  <!-- Vertical lines -->\n",
       "  <line x1=\"25\" y1=\"15\" x2=\"25\" y2=\"135\" style=\"stroke-width:2\" />\n",
       "  <line x1=\"65\" y1=\"15\" x2=\"65\" y2=\"135\" />\n",
       "  <line x1=\"105\" y1=\"15\" x2=\"105\" y2=\"135\" />\n",
       "  <line x1=\"145\" y1=\"15\" x2=\"145\" y2=\"135\" style=\"stroke-width:2\" />\n",
       "\n",
       "  <!-- Colored Rectangle -->\n",
       "  <polygon points=\"25.57197789387105,15.57197789387105 145.57197789387106,15.57197789387105 145.57197789387106,135.57197789387106 25.57197789387105,135.57197789387106\" style=\"fill:#ECB172A0;stroke-width:0\"/>\n",
       "\n",
       "  <!-- Text -->\n",
       "  <text x=\"85.571978\" y=\"155.571978\" font-size=\"1.0rem\" font-weight=\"100\" text-anchor=\"middle\" >6048</text>\n",
       "  <text x=\"165.571978\" y=\"75.571978\" font-size=\"1.0rem\" font-weight=\"100\" text-anchor=\"middle\" transform=\"rotate(-90,165.571978,75.571978)\">6048</text>\n",
       "  <text x=\"7.785989\" y=\"147.785989\" font-size=\"1.0rem\" font-weight=\"100\" text-anchor=\"middle\" transform=\"rotate(45,7.785989,147.785989)\">75</text>\n",
       "</svg>\n",
       "        </td>\n",
       "    </tr>\n",
       "</table>"
      ],
      "text/plain": [
       "dask.array<getitem, shape=(75, 6048, 6048), dtype=uint64, chunksize=(1, 2016, 2016), chunktype=numpy.ndarray>"
      ]
     },
     "execution_count": 8,
     "metadata": {},
     "output_type": "execute_result"
    }
   ],
   "source": [
    "input_images = images[:,0,...]#.compute().compute().astype(np.uint16)\n",
    "input_images"
   ]
  },
  {
   "cell_type": "code",
   "execution_count": 9,
   "id": "b3628fa5",
   "metadata": {},
   "outputs": [
    {
     "name": "stdout",
     "output_type": "stream",
     "text": [
      "Assistant skips harvesting pyclesperanto as it's not installed.\n"
     ]
    },
    {
     "name": "stderr",
     "output_type": "stream",
     "text": [
      "/home/dayn/miniconda3/envs/aero/lib/python3.9/site-packages/napari_tools_menu/__init__.py:194: FutureWarning: Public access to Window.qt_viewer is deprecated and will be removed in\n",
      "v0.5.0. It is considered an \"implementation detail\" of the napari\n",
      "application, not part of the napari viewer model. If your use case\n",
      "requires access to qt_viewer, please open an issue to discuss.\n",
      "  self.tools_menu = ToolsMenu(self, self.qt_viewer.viewer)\n"
     ]
    },
    {
     "data": {
      "text/plain": [
       "<Image layer 'img' at 0x7f083fec9850>"
      ]
     },
     "execution_count": 9,
     "metadata": {},
     "output_type": "execute_result"
    }
   ],
   "source": [
    "view(input_images)"
   ]
  },
  {
   "cell_type": "code",
   "execution_count": null,
   "id": "6ddb803d",
   "metadata": {
    "scrolled": true
   },
   "outputs": [
    {
     "data": {
      "application/vnd.jupyter.widget-view+json": {
       "model_id": "b10884cd73284b0881f02836ea5825a2",
       "version_major": 2,
       "version_minor": 0
      },
      "text/plain": [
       "  0%|          | 0/75 [00:00<?, ?it/s]"
      ]
     },
     "metadata": {},
     "output_type": "display_data"
    }
   ],
   "source": [
    "masks_stack = list()\n",
    "for n, frame in tqdm(enumerate(input_images), total = len(input_images)):\n",
    "\n",
    "    frame = frame.compute().compute().astype(np.uint16)\n",
    "    masks, flows, styles, diams = model.eval(frame, \n",
    "                                             batch_size = 32, \n",
    "                                             channels = [0,0], \n",
    "                                             diameter = None, \n",
    "                                             min_size = 2500, \n",
    "                                             progress = True)\n",
    "    masks_stack.append(masks)\n",
    "masks_stack = da.stack(masks_stack, axis = 0)"
   ]
  },
  {
   "cell_type": "code",
   "execution_count": null,
   "id": "3e71ba9a",
   "metadata": {},
   "outputs": [],
   "source": [
    "masks = masks_stack"
   ]
  },
  {
   "cell_type": "markdown",
   "id": "b4fec950",
   "metadata": {},
   "source": [
    "### Temporary: Load masks"
   ]
  },
  {
   "cell_type": "code",
   "execution_count": 24,
   "id": "d56ccdff",
   "metadata": {},
   "outputs": [
    {
     "name": "stdout",
     "output_type": "stream",
     "text": [
      "dict_keys([(200, 0.0), (200, 0.6), (250, 0.0), (300, 0.0), (300, 0.6), (200, 0.8)])\n"
     ]
    }
   ],
   "source": [
    "masks_dict = np.load('/mnt/DATA/macrohet/segmentation/[6,9]_modified_mask_dict.npy', allow_pickle=True).item()\n",
    "print(masks_dict.keys())"
   ]
  },
  {
   "cell_type": "code",
   "execution_count": 25,
   "id": "2a943a48",
   "metadata": {},
   "outputs": [],
   "source": [
    "masks = masks_dict[(300,0.0)]"
   ]
  },
  {
   "cell_type": "markdown",
   "id": "73b0872a",
   "metadata": {},
   "source": [
    "### Load images into memory for quicker editing"
   ]
  },
  {
   "cell_type": "code",
   "execution_count": 28,
   "id": "d775be58",
   "metadata": {},
   "outputs": [
    {
     "name": "stdout",
     "output_type": "stream",
     "text": [
      "CPU times: user 628 ms, sys: 345 ms, total: 973 ms\n",
      "Wall time: 977 ms\n"
     ]
    }
   ],
   "source": [
    "%%time \n",
    "masks = masks.compute()"
   ]
  },
  {
   "cell_type": "code",
   "execution_count": 31,
   "id": "36efea5f",
   "metadata": {},
   "outputs": [
    {
     "name": "stdout",
     "output_type": "stream",
     "text": [
      "CPU times: user 3h 43min 38s, sys: 7min 9s, total: 3h 50min 47s\n",
      "Wall time: 9min 31s\n"
     ]
    }
   ],
   "source": [
    "%%time\n",
    "images = images.compute().compute()"
   ]
  },
  {
   "cell_type": "markdown",
   "id": "d402ab31",
   "metadata": {},
   "source": [
    "# Check masks \n",
    "\n",
    "and perform a quick post-segmentation cleaning on them"
   ]
  },
  {
   "cell_type": "code",
   "execution_count": 57,
   "id": "e883b797",
   "metadata": {},
   "outputs": [
    {
     "data": {
      "text/plain": [
       "(75, 6048, 6048, 2)"
      ]
     },
     "execution_count": 57,
     "metadata": {},
     "output_type": "execute_result"
    }
   ],
   "source": [
    "images.shape"
   ]
  },
  {
   "cell_type": "code",
   "execution_count": 58,
   "id": "336ff3a7",
   "metadata": {
    "scrolled": true
   },
   "outputs": [
    {
     "name": "stderr",
     "output_type": "stream",
     "text": [
      "/home/dayn/miniconda3/envs/aero/lib/python3.9/site-packages/napari_tools_menu/__init__.py:194: FutureWarning: Public access to Window.qt_viewer is deprecated and will be removed in\n",
      "v0.5.0. It is considered an \"implementation detail\" of the napari\n",
      "application, not part of the napari viewer model. If your use case\n",
      "requires access to qt_viewer, please open an issue to discuss.\n",
      "  self.tools_menu = ToolsMenu(self, self.qt_viewer.viewer)\n"
     ]
    },
    {
     "data": {
      "text/plain": [
       "<Labels layer 'masks' at 0x7f0748e7e790>"
      ]
     },
     "execution_count": 58,
     "metadata": {},
     "output_type": "execute_result"
    }
   ],
   "source": [
    "v = napari.Viewer()\n",
    "v.add_image(images, \n",
    "            channel_axis = -1, \n",
    "            colormap=['green', 'magenta'], \n",
    "            contrast_limits=[[100,6000],[0,3000]])\n",
    "# for key in masks_dict.keys():\n",
    "#     v.add_labels(masks_dict[key][0], name = key)\n",
    "v.add_labels(masks, name = 'masks')"
   ]
  },
  {
   "cell_type": "markdown",
   "id": "cfa81ace",
   "metadata": {},
   "source": [
    "## Post-segmentation editing"
   ]
  },
  {
   "cell_type": "code",
   "execution_count": 24,
   "id": "6c15b679",
   "metadata": {},
   "outputs": [],
   "source": [
    "from skimage.morphology import remove_small_objects, remove_small_holes, binary_erosion, square"
   ]
  },
  {
   "cell_type": "code",
   "execution_count": 108,
   "id": "69f57ae5",
   "metadata": {
    "scrolled": true
   },
   "outputs": [
    {
     "data": {
      "application/vnd.jupyter.widget-view+json": {
       "model_id": "909e747c212d42a09ea0307e2c90f030",
       "version_major": 2,
       "version_minor": 0
      },
      "text/plain": [
       "  0%|          | 0/75 [00:00<?, ?it/s]"
      ]
     },
     "metadata": {},
     "output_type": "display_data"
    }
   ],
   "source": [
    "###Q: do i need to remove small objects? don't think so\n",
    "###Q: do i need to erode? no as am not binarising...\n",
    "cleaned_masks = list()\n",
    "for i, mask in tqdm(enumerate(masks), total = len(masks)):\n",
    "    mask = binary_erosion(mask, square(5))\n",
    "    mask = remove_small_holes(mask, area_threshold=50)\n",
    "    cleaned_masks.append(mask)\n",
    "cleaned_masks = np.stack(cleaned_masks, axis = 0)"
   ]
  },
  {
   "cell_type": "code",
   "execution_count": 113,
   "id": "b3e582e5",
   "metadata": {},
   "outputs": [
    {
     "name": "stderr",
     "output_type": "stream",
     "text": [
      "/home/dayn/miniconda3/envs/aero/lib/python3.9/site-packages/napari_tools_menu/__init__.py:194: FutureWarning: Public access to Window.qt_viewer is deprecated and will be removed in\n",
      "v0.5.0. It is considered an \"implementation detail\" of the napari\n",
      "application, not part of the napari viewer model. If your use case\n",
      "requires access to qt_viewer, please open an issue to discuss.\n",
      "  self.tools_menu = ToolsMenu(self, self.qt_viewer.viewer)\n"
     ]
    },
    {
     "data": {
      "text/plain": [
       "<Image layer 'img' at 0x7f09b5f966a0>"
      ]
     },
     "execution_count": 113,
     "metadata": {},
     "output_type": "execute_result"
    }
   ],
   "source": [
    "view(masks[37])"
   ]
  },
  {
   "cell_type": "markdown",
   "id": "d3f5b1b4",
   "metadata": {},
   "source": [
    "#### Reorder the channel axis for localisation - dask"
   ]
  },
  {
   "cell_type": "code",
   "execution_count": null,
   "id": "ebd18d65",
   "metadata": {},
   "outputs": [],
   "source": [
    "gfp = images[:,0,...]\n",
    "rfp = images[:,1,...]\n",
    "images = da.stack([gfp,rfp], axis = -1)\n",
    "images"
   ]
  },
  {
   "cell_type": "code",
   "execution_count": null,
   "id": "b0f7d43c",
   "metadata": {},
   "outputs": [],
   "source": [
    "### convert to dask array so that it is compatible with images for localisation\n",
    "masks = da.from_array(masks)"
   ]
  },
  {
   "cell_type": "markdown",
   "id": "c4140819",
   "metadata": {},
   "source": [
    "#### Reorder for channel axis for localisation - np.array"
   ]
  },
  {
   "cell_type": "code",
   "execution_count": 44,
   "id": "b3c83884",
   "metadata": {},
   "outputs": [
    {
     "data": {
      "text/plain": [
       "array([[[[   0,    0],\n",
       "         [   0,    0],\n",
       "         [   0,    0],\n",
       "         ...,\n",
       "         [   0,    0],\n",
       "         [   0,    0],\n",
       "         [   0,    0]],\n",
       "\n",
       "        [[ 321,  312],\n",
       "         [ 329,  298],\n",
       "         [ 317,  299],\n",
       "         ...,\n",
       "         [ 430,  320],\n",
       "         [ 414,  327],\n",
       "         [   0,    0]],\n",
       "\n",
       "        [[ 322,  303],\n",
       "         [ 324,  307],\n",
       "         [ 319,  304],\n",
       "         ...,\n",
       "         [ 411,  317],\n",
       "         [ 419,  314],\n",
       "         [   0,    0]],\n",
       "\n",
       "        ...,\n",
       "\n",
       "        [[ 958,  308],\n",
       "         [1030,  338],\n",
       "         [ 988,  349],\n",
       "         ...,\n",
       "         [1215,  321],\n",
       "         [1098,  329],\n",
       "         [   0,    0]],\n",
       "\n",
       "        [[ 893,  333],\n",
       "         [ 972,  349],\n",
       "         [ 926,  330],\n",
       "         ...,\n",
       "         [1490,  321],\n",
       "         [1296,  322],\n",
       "         [   0,    0]],\n",
       "\n",
       "        [[ 852,  331],\n",
       "         [ 937,  337],\n",
       "         [ 871,  306],\n",
       "         ...,\n",
       "         [1693,  305],\n",
       "         [1551,  318],\n",
       "         [   0,    0]]],\n",
       "\n",
       "\n",
       "       [[[   0,    0],\n",
       "         [   0,    0],\n",
       "         [   0,    0],\n",
       "         ...,\n",
       "         [   0,    0],\n",
       "         [   0,    0],\n",
       "         [   0,    0]],\n",
       "\n",
       "        [[ 327,  323],\n",
       "         [ 332,  297],\n",
       "         [ 325,  296],\n",
       "         ...,\n",
       "         [ 402,  317],\n",
       "         [ 402,  320],\n",
       "         [   0,    0]],\n",
       "\n",
       "        [[ 314,  309],\n",
       "         [ 324,  300],\n",
       "         [ 324,  298],\n",
       "         ...,\n",
       "         [ 399,  325],\n",
       "         [ 409,  315],\n",
       "         [   0,    0]],\n",
       "\n",
       "        ...,\n",
       "\n",
       "        [[1726,  322],\n",
       "         [1644,  327],\n",
       "         [1558,  331],\n",
       "         ...,\n",
       "         [1034,  304],\n",
       "         [1014,  321],\n",
       "         [   0,    0]],\n",
       "\n",
       "        [[1684,  329],\n",
       "         [1616,  337],\n",
       "         [1545,  327],\n",
       "         ...,\n",
       "         [1073,  320],\n",
       "         [1021,  316],\n",
       "         [   0,    0]],\n",
       "\n",
       "        [[1718,  334],\n",
       "         [1636,  327],\n",
       "         [1563,  310],\n",
       "         ...,\n",
       "         [1084,  316],\n",
       "         [1111,  314],\n",
       "         [   0,    0]]],\n",
       "\n",
       "\n",
       "       [[[   0,    0],\n",
       "         [   0,    0],\n",
       "         [   0,    0],\n",
       "         ...,\n",
       "         [   0,    0],\n",
       "         [   0,    0],\n",
       "         [   0,    0]],\n",
       "\n",
       "        [[ 328,  307],\n",
       "         [ 346,  291],\n",
       "         [ 332,  294],\n",
       "         ...,\n",
       "         [ 502,  308],\n",
       "         [ 476,  309],\n",
       "         [   0,    0]],\n",
       "\n",
       "        [[ 322,  309],\n",
       "         [ 342,  315],\n",
       "         [ 324,  297],\n",
       "         ...,\n",
       "         [ 476,  314],\n",
       "         [ 473,  308],\n",
       "         [   0,    0]],\n",
       "\n",
       "        ...,\n",
       "\n",
       "        [[ 914,  316],\n",
       "         [ 877,  331],\n",
       "         [ 854,  326],\n",
       "         ...,\n",
       "         [ 339,  313],\n",
       "         [ 325,  322],\n",
       "         [   0,    0]],\n",
       "\n",
       "        [[ 843,  325],\n",
       "         [ 815,  335],\n",
       "         [ 826,  332],\n",
       "         ...,\n",
       "         [ 347,  311],\n",
       "         [ 322,  305],\n",
       "         [   0,    0]],\n",
       "\n",
       "        [[ 804,  329],\n",
       "         [ 749,  342],\n",
       "         [ 811,  325],\n",
       "         ...,\n",
       "         [ 330,  306],\n",
       "         [ 347,  306],\n",
       "         [   0,    0]]],\n",
       "\n",
       "\n",
       "       ...,\n",
       "\n",
       "\n",
       "       [[[   0,    0],\n",
       "         [   0,    0],\n",
       "         [   0,    0],\n",
       "         ...,\n",
       "         [   0,    0],\n",
       "         [   0,    0],\n",
       "         [   0,    0]],\n",
       "\n",
       "        [[ 324,  316],\n",
       "         [ 334,  306],\n",
       "         [ 327,  307],\n",
       "         ...,\n",
       "         [ 648,  315],\n",
       "         [ 629,  320],\n",
       "         [   0,    0]],\n",
       "\n",
       "        [[ 314,  315],\n",
       "         [ 326,  316],\n",
       "         [ 336,  315],\n",
       "         ...,\n",
       "         [ 660,  338],\n",
       "         [ 654,  318],\n",
       "         [   0,    0]],\n",
       "\n",
       "        ...,\n",
       "\n",
       "        [[ 327,  324],\n",
       "         [ 334,  333],\n",
       "         [ 323,  324],\n",
       "         ...,\n",
       "         [ 813,  326],\n",
       "         [ 842,  325],\n",
       "         [   0,    0]],\n",
       "\n",
       "        [[ 329,  331],\n",
       "         [ 349,  338],\n",
       "         [ 348,  312],\n",
       "         ...,\n",
       "         [ 803,  316],\n",
       "         [ 815,  325],\n",
       "         [   0,    0]],\n",
       "\n",
       "        [[ 328,  334],\n",
       "         [ 347,  323],\n",
       "         [ 356,  300],\n",
       "         ...,\n",
       "         [ 823,  304],\n",
       "         [ 822,  326],\n",
       "         [   0,    0]]],\n",
       "\n",
       "\n",
       "       [[[   0,    0],\n",
       "         [   0,    0],\n",
       "         [   0,    0],\n",
       "         ...,\n",
       "         [   0,    0],\n",
       "         [   0,    0],\n",
       "         [   0,    0]],\n",
       "\n",
       "        [[ 321,  307],\n",
       "         [ 331,  297],\n",
       "         [ 316,  312],\n",
       "         ...,\n",
       "         [ 644,  312],\n",
       "         [ 631,  306],\n",
       "         [   0,    0]],\n",
       "\n",
       "        [[ 317,  314],\n",
       "         [ 317,  311],\n",
       "         [ 317,  311],\n",
       "         ...,\n",
       "         [ 592,  332],\n",
       "         [ 606,  311],\n",
       "         [   0,    0]],\n",
       "\n",
       "        ...,\n",
       "\n",
       "        [[ 338,  321],\n",
       "         [ 337,  328],\n",
       "         [ 315,  334],\n",
       "         ...,\n",
       "         [ 827,  319],\n",
       "         [ 832,  328],\n",
       "         [   0,    0]],\n",
       "\n",
       "        [[ 329,  323],\n",
       "         [ 340,  328],\n",
       "         [ 345,  313],\n",
       "         ...,\n",
       "         [ 826,  319],\n",
       "         [ 799,  321],\n",
       "         [   0,    0]],\n",
       "\n",
       "        [[ 331,  329],\n",
       "         [ 340,  334],\n",
       "         [ 360,  303],\n",
       "         ...,\n",
       "         [ 766,  310],\n",
       "         [ 754,  314],\n",
       "         [   0,    0]]],\n",
       "\n",
       "\n",
       "       [[[   0,    0],\n",
       "         [   0,    0],\n",
       "         [   0,    0],\n",
       "         ...,\n",
       "         [   0,    0],\n",
       "         [   0,    0],\n",
       "         [   0,    0]],\n",
       "\n",
       "        [[ 315,  317],\n",
       "         [ 326,  284],\n",
       "         [ 315,  285],\n",
       "         ...,\n",
       "         [ 506,  317],\n",
       "         [ 515,  316],\n",
       "         [   0,    0]],\n",
       "\n",
       "        [[ 308,  311],\n",
       "         [ 322,  303],\n",
       "         [ 324,  298],\n",
       "         ...,\n",
       "         [ 517,  322],\n",
       "         [ 542,  320],\n",
       "         [   0,    0]],\n",
       "\n",
       "        ...,\n",
       "\n",
       "        [[ 337,  306],\n",
       "         [ 349,  319],\n",
       "         [ 330,  309],\n",
       "         ...,\n",
       "         [ 882,  320],\n",
       "         [ 853,  325],\n",
       "         [   0,    0]],\n",
       "\n",
       "        [[ 334,  311],\n",
       "         [ 350,  325],\n",
       "         [ 355,  309],\n",
       "         ...,\n",
       "         [ 860,  314],\n",
       "         [ 805,  314],\n",
       "         [   0,    0]],\n",
       "\n",
       "        [[ 314,  314],\n",
       "         [ 329,  319],\n",
       "         [ 340,  300],\n",
       "         ...,\n",
       "         [ 811,  302],\n",
       "         [ 776,  317],\n",
       "         [   0,    0]]]], dtype=uint64)"
      ]
     },
     "execution_count": 44,
     "metadata": {},
     "output_type": "execute_result"
    }
   ],
   "source": [
    "gfp = images[:,0,...]\n",
    "rfp = images[:,1,...]\n",
    "images = np.stack([gfp,rfp], axis = -1)\n",
    "images"
   ]
  },
  {
   "cell_type": "code",
   "execution_count": 46,
   "id": "1decc878",
   "metadata": {},
   "outputs": [
    {
     "data": {
      "text/plain": [
       "((75, 6048, 6048), (75, 6048, 6048, 2))"
      ]
     },
     "execution_count": 46,
     "metadata": {},
     "output_type": "execute_result"
    }
   ],
   "source": [
    "masks.shape, images.shape"
   ]
  },
  {
   "cell_type": "markdown",
   "id": "947b0304",
   "metadata": {},
   "source": [
    "# Localise raw masks\n",
    "\n",
    "Include size filter and measurements of fluorescence"
   ]
  },
  {
   "cell_type": "code",
   "execution_count": 47,
   "id": "90c32951",
   "metadata": {},
   "outputs": [],
   "source": [
    "feat = [\n",
    "      \"area\",\n",
    "      \"major_axis_length\",\n",
    "      \"minor_axis_length\",\n",
    "      \"orientation\",\n",
    "      \"mean_intensity\",\n",
    "        ]"
   ]
  },
  {
   "cell_type": "code",
   "execution_count": 48,
   "id": "6013f883",
   "metadata": {},
   "outputs": [
    {
     "name": "stderr",
     "output_type": "stream",
     "text": [
      "[INFO][2023/01/24 01:57:57 pm] Localizing objects from segmentation...\n",
      "24-Jan-23 13:57:57 - btrack._localization - INFO     - Localizing objects from segmentation...\n",
      "[INFO][2023/01/24 01:57:57 pm] Found intensity_image data\n",
      "24-Jan-23 13:57:57 - btrack._localization - INFO     - Found intensity_image data\n",
      "[INFO][2023/01/24 02:03:58 pm] Objects are of type: <class 'dict'>\n",
      "24-Jan-23 14:03:58 - btrack.dataio - INFO     - Objects are of type: <class 'dict'>\n",
      "[INFO][2023/01/24 02:03:59 pm] ...Found 33992 objects in 75 frames.\n",
      "24-Jan-23 14:03:59 - btrack._localization - INFO     - ...Found 33992 objects in 75 frames.\n"
     ]
    }
   ],
   "source": [
    "objects = btrack.utils.segmentation_to_objects(\n",
    "    masks, \n",
    "    images,\n",
    "    properties = tuple(feat),\n",
    "    use_weighted_centroid = False, \n",
    ")"
   ]
  },
  {
   "cell_type": "code",
   "execution_count": 73,
   "id": "0f91ad0e",
   "metadata": {},
   "outputs": [],
   "source": [
    "objects = [o for o in objects if o.properties['area'] > 2500]"
   ]
  },
  {
   "cell_type": "code",
   "execution_count": 1,
   "id": "c60f4ef0",
   "metadata": {},
   "outputs": [
    {
     "ename": "NameError",
     "evalue": "name 'test' is not defined",
     "output_type": "error",
     "traceback": [
      "\u001b[0;31m---------------------------------------------------------------------------\u001b[0m",
      "\u001b[0;31mNameError\u001b[0m                                 Traceback (most recent call last)",
      "Input \u001b[0;32mIn [1]\u001b[0m, in \u001b[0;36m<cell line: 1>\u001b[0;34m()\u001b[0m\n\u001b[0;32m----> 1\u001b[0m \u001b[43mtest\u001b[49m\n",
      "\u001b[0;31mNameError\u001b[0m: name 'test' is not defined"
     ]
    }
   ],
   "source": [
    "test"
   ]
  },
  {
   "cell_type": "markdown",
   "id": "b2cb4615",
   "metadata": {},
   "source": [
    "#### Find the efd?"
   ]
  },
  {
   "cell_type": "code",
   "execution_count": null,
   "id": "211f0059",
   "metadata": {},
   "outputs": [],
   "source": [
    "### finding the EFD\n",
    "for obj in tqdm(objects):\n",
    "    ### extract the intensity image (1ch only)\n",
    "    glimpse = obj.properties['intensity_image'][...,0]\n",
    "    ### pad the glimpse to ensure only one object is identifiable\n",
    "    glimpse = np.pad(glimpse, pad_width = 1)\n",
    "    ### find the contours (zero because only one object)\n",
    "    contours = skimage.measure.find_contours(glimpse, fully_connected='high', level = 0.5)[0]\n",
    "    ### get the efd\n",
    "    efd = elliptic_fourier_descriptors(contours, order=100, normalize=True)\n",
    "#     obj.properties = {'efd': efd}\n",
    "    flatten_efd = efd.flatten()\n",
    "    obj.properties = {'efd flat': flatten_efd}"
   ]
  },
  {
   "cell_type": "code",
   "execution_count": 74,
   "id": "9f2181ad",
   "metadata": {},
   "outputs": [
    {
     "name": "stderr",
     "output_type": "stream",
     "text": [
      "[INFO][2023/01/24 02:36:37 pm] Opening HDF file: /mnt/DATA/macrohet/segmentation/(6,9)_objects_d300.h5...\n",
      "24-Jan-23 14:36:37 - btrack.dataio - INFO     - Opening HDF file: /mnt/DATA/macrohet/segmentation/(6,9)_objects_d300.h5...\n",
      "[INFO][2023/01/24 02:37:13 pm] Writing objects/obj_type_1\n",
      "24-Jan-23 14:37:13 - btrack.dataio - INFO     - Writing objects/obj_type_1\n",
      "[INFO][2023/01/24 02:37:13 pm] Writing labels/obj_type_1\n",
      "24-Jan-23 14:37:13 - btrack.dataio - INFO     - Writing labels/obj_type_1\n",
      "[INFO][2023/01/24 02:37:13 pm] Loading objects/obj_type_1 (33183, 5) (33183 filtered: None)\n",
      "24-Jan-23 14:37:13 - btrack.dataio - INFO     - Loading objects/obj_type_1 (33183, 5) (33183 filtered: None)\n",
      "[INFO][2023/01/24 02:37:13 pm] Writing properties/obj_type_1/area (33183,)\n",
      "24-Jan-23 14:37:13 - btrack.dataio - INFO     - Writing properties/obj_type_1/area (33183,)\n",
      "[INFO][2023/01/24 02:37:13 pm] Writing properties/obj_type_1/major_axis_length (33183,)\n",
      "24-Jan-23 14:37:13 - btrack.dataio - INFO     - Writing properties/obj_type_1/major_axis_length (33183,)\n",
      "[INFO][2023/01/24 02:37:13 pm] Writing properties/obj_type_1/minor_axis_length (33183,)\n",
      "24-Jan-23 14:37:13 - btrack.dataio - INFO     - Writing properties/obj_type_1/minor_axis_length (33183,)\n",
      "[INFO][2023/01/24 02:37:13 pm] Writing properties/obj_type_1/orientation (33183,)\n",
      "24-Jan-23 14:37:13 - btrack.dataio - INFO     - Writing properties/obj_type_1/orientation (33183,)\n",
      "[INFO][2023/01/24 02:37:13 pm] Writing properties/obj_type_1/mean_intensity-0 (33183,)\n",
      "24-Jan-23 14:37:13 - btrack.dataio - INFO     - Writing properties/obj_type_1/mean_intensity-0 (33183,)\n",
      "[INFO][2023/01/24 02:37:13 pm] Writing properties/obj_type_1/mean_intensity-1 (33183,)\n",
      "24-Jan-23 14:37:13 - btrack.dataio - INFO     - Writing properties/obj_type_1/mean_intensity-1 (33183,)\n",
      "[INFO][2023/01/24 02:37:13 pm] Closing HDF file: /mnt/DATA/macrohet/segmentation/(6,9)_objects_d300.h5\n",
      "24-Jan-23 14:37:13 - btrack.dataio - INFO     - Closing HDF file: /mnt/DATA/macrohet/segmentation/(6,9)_objects_d300.h5\n"
     ]
    }
   ],
   "source": [
    "with btrack.dataio.HDF5FileHandler(\n",
    "     f'/mnt/DATA/macrohet/segmentation/({row},{column})_objects_d300.h5',#\n",
    "    'w', \n",
    "    obj_type='obj_type_1',\n",
    ") as hdf:\n",
    "    hdf.write_segmentation(masks)\n",
    "    hdf.write_objects(objects)"
   ]
  },
  {
   "cell_type": "code",
   "execution_count": 29,
   "id": "b17c88d3",
   "metadata": {},
   "outputs": [
    {
     "data": {
      "text/html": [
       "<table border=\"1\" class=\"dataframe\">\n",
       "  <thead>\n",
       "    <tr style=\"text-align: right;\">\n",
       "      <th></th>\n",
       "      <th>ID</th>\n",
       "      <th>x</th>\n",
       "      <th>y</th>\n",
       "      <th>z</th>\n",
       "      <th>t</th>\n",
       "      <th>dummy</th>\n",
       "      <th>states</th>\n",
       "      <th>label</th>\n",
       "      <th>area</th>\n",
       "      <th>major_axis_length</th>\n",
       "      <th>minor_axis_length</th>\n",
       "      <th>orientation</th>\n",
       "      <th>mean_intensity-0</th>\n",
       "      <th>mean_intensity-1</th>\n",
       "    </tr>\n",
       "  </thead>\n",
       "  <tbody>\n",
       "    <tr>\n",
       "      <th>0</th>\n",
       "      <td>0</td>\n",
       "      <td>257.838564</td>\n",
       "      <td>104.539205</td>\n",
       "      <td>0.0</td>\n",
       "      <td>0</td>\n",
       "      <td>False</td>\n",
       "      <td>7</td>\n",
       "      <td>5</td>\n",
       "      <td>36194</td>\n",
       "      <td>244.63143</td>\n",
       "      <td>204.217784</td>\n",
       "      <td>-0.625041</td>\n",
       "      <td>1751.473891</td>\n",
       "      <td>343.588302</td>\n",
       "    </tr>\n",
       "  </tbody>\n",
       "</table>"
      ],
      "text/plain": [
       "{'ID': 0, 'x': 257.8385644029397, 'y': 104.5392053931591, 'z': 0.0, 't': 0, 'dummy': False, 'states': 7, 'label': 5, 'area': 36194, 'major_axis_length': 244.63142988672934, 'minor_axis_length': 204.21778412309249, 'orientation': -0.6250412899536294, 'mean_intensity-0': 1751.473890700116, 'mean_intensity-1': 343.58830192849643}"
      ]
     },
     "execution_count": 29,
     "metadata": {},
     "output_type": "execute_result"
    }
   ],
   "source": [
    "objects[0]"
   ]
  },
  {
   "cell_type": "code",
   "execution_count": 107,
   "id": "4d6c8e38",
   "metadata": {},
   "outputs": [],
   "source": [
    "config = '/home/dayn/analysis/BayesianTracker/models/cell_config.json'"
   ]
  },
  {
   "cell_type": "code",
   "execution_count": 78,
   "id": "457f0fbc",
   "metadata": {},
   "outputs": [],
   "source": [
    "features = list(objects[0].properties.keys())"
   ]
  },
  {
   "cell_type": "code",
   "execution_count": 108,
   "id": "e5c48f40",
   "metadata": {
    "scrolled": true
   },
   "outputs": [
    {
     "name": "stderr",
     "output_type": "stream",
     "text": [
      "[INFO][2023/01/24 03:45:07 pm] Loaded btrack: /home/dayn/analysis/BayesianTracker/btrack/libs/libtracker.so\n",
      "24-Jan-23 15:45:07 - btrack.libwrapper - INFO     - Loaded btrack: /home/dayn/analysis/BayesianTracker/btrack/libs/libtracker.so\n",
      "[INFO][2023/01/24 03:45:07 pm] btrack (v0.5.0) library imported\n",
      "24-Jan-23 15:45:07 - btrack.core - INFO     - btrack (v0.5.0) library imported\n",
      "[INFO][2023/01/24 03:45:07 pm] Starting BayesianTracker session\n",
      "24-Jan-23 15:45:07 - btrack.core - INFO     - Starting BayesianTracker session\n",
      "[INFO][2023/01/24 03:45:07 pm] Loading configuration file: /home/dayn/analysis/BayesianTracker/models/cell_config.json\n",
      "24-Jan-23 15:45:07 - btrack.config - INFO     - Loading configuration file: /home/dayn/analysis/BayesianTracker/models/cell_config.json\n",
      "[INFO][2023/01/24 03:45:07 pm] Objects are of type: <class 'list'>\n",
      "24-Jan-23 15:45:07 - btrack.dataio - INFO     - Objects are of type: <class 'list'>\n",
      "[INFO][2023/01/24 03:45:08 pm] Starting tracking... \n",
      "24-Jan-23 15:45:08 - btrack.core - INFO     - Starting tracking... \n",
      "[INFO][2023/01/24 03:45:08 pm] Update using: ['VISUAL', 'MOTION']\n",
      "24-Jan-23 15:45:08 - btrack.core - INFO     - Update using: ['VISUAL', 'MOTION']\n",
      "[INFO][2023/01/24 03:45:09 pm] Tracking objects in frames 0 to 24 (of 75)...\n",
      "24-Jan-23 15:45:09 - btrack.core - INFO     - Tracking objects in frames 0 to 24 (of 75)...\n",
      "[INFO][2023/01/24 03:45:21 pm]  - Timing (Bayesian updates: 132.75ms, Linking: 5.06ms)\n",
      "24-Jan-23 15:45:21 - btrack.utils - INFO     -  - Timing (Bayesian updates: 132.75ms, Linking: 5.06ms)\n",
      "[INFO][2023/01/24 03:45:21 pm]  - Probabilities (Link: 0.99951, Lost: 1.00000)\n",
      "24-Jan-23 15:45:21 - btrack.utils - INFO     -  - Probabilities (Link: 0.99951, Lost: 1.00000)\n",
      "[INFO][2023/01/24 03:45:21 pm]  - Stats (Active: 1183, Lost: 11712, Conflicts resolved: 6167)\n",
      "24-Jan-23 15:45:21 - btrack.utils - INFO     -  - Stats (Active: 1183, Lost: 11712, Conflicts resolved: 6167)\n",
      "[INFO][2023/01/24 03:45:21 pm] Tracking objects in frames 25 to 49 (of 75)...\n",
      "24-Jan-23 15:45:21 - btrack.core - INFO     - Tracking objects in frames 25 to 49 (of 75)...\n",
      "[INFO][2023/01/24 03:45:29 pm]  - Timing (Bayesian updates: 59.22ms, Linking: 3.04ms)\n",
      "24-Jan-23 15:45:29 - btrack.utils - INFO     -  - Timing (Bayesian updates: 59.22ms, Linking: 3.04ms)\n",
      "[INFO][2023/01/24 03:45:29 pm]  - Probabilities (Link: 0.99824, Lost: 1.00000)\n",
      "24-Jan-23 15:45:29 - btrack.utils - INFO     -  - Probabilities (Link: 0.99824, Lost: 1.00000)\n",
      "[INFO][2023/01/24 03:45:29 pm]  - Stats (Active: 832, Lost: 19626, Conflicts resolved: 11793)\n",
      "24-Jan-23 15:45:29 - btrack.utils - INFO     -  - Stats (Active: 832, Lost: 19626, Conflicts resolved: 11793)\n",
      "[INFO][2023/01/24 03:45:29 pm] Tracking objects in frames 50 to 74 (of 75)...\n",
      "24-Jan-23 15:45:29 - btrack.core - INFO     - Tracking objects in frames 50 to 74 (of 75)...\n",
      "[INFO][2023/01/24 03:45:31 pm]  - Timing (Bayesian updates: 16.73ms, Linking: 1.58ms)\n",
      "24-Jan-23 15:45:31 - btrack.utils - INFO     -  - Timing (Bayesian updates: 16.73ms, Linking: 1.58ms)\n",
      "[INFO][2023/01/24 03:45:31 pm]  - Probabilities (Link: 1.00000, Lost: 1.00000)\n",
      "24-Jan-23 15:45:31 - btrack.utils - INFO     -  - Probabilities (Link: 1.00000, Lost: 1.00000)\n",
      "[INFO][2023/01/24 03:45:31 pm] SUCCESS.\n",
      "24-Jan-23 15:45:31 - btrack.core - INFO     - SUCCESS.\n",
      "[INFO][2023/01/24 03:45:31 pm]  - Found 6090 tracks in 75 frames (in 0.0s)\n",
      "24-Jan-23 15:45:31 - btrack.core - INFO     -  - Found 6090 tracks in 75 frames (in 0.0s)\n",
      "[INFO][2023/01/24 03:45:32 pm]  - Inserted 18826 dummy objects to fill tracking gaps\n",
      "24-Jan-23 15:45:32 - btrack.core - INFO     -  - Inserted 18826 dummy objects to fill tracking gaps\n",
      "[INFO][2023/01/24 03:45:32 pm] Loading hypothesis model: cell_hypothesis\n",
      "24-Jan-23 15:45:32 - btrack.core - INFO     - Loading hypothesis model: cell_hypothesis\n",
      "[INFO][2023/01/24 03:45:32 pm] Calculating hypotheses (relax: True)...\n",
      "24-Jan-23 15:45:32 - btrack.core - INFO     - Calculating hypotheses (relax: True)...\n",
      "[INFO][2023/01/24 03:45:32 pm] Setting up constraints matrix for global optimisation...\n",
      "24-Jan-23 15:45:32 - btrack.optimise.optimiser - INFO     - Setting up constraints matrix for global optimisation...\n",
      "[INFO][2023/01/24 03:45:32 pm] Using GLPK options: {'tm_lim': 60000}...\n",
      "24-Jan-23 15:45:32 - btrack.optimise.optimiser - INFO     - Using GLPK options: {'tm_lim': 60000}...\n",
      "[INFO][2023/01/24 03:45:32 pm] Optimizing...\n",
      "24-Jan-23 15:45:32 - btrack.optimise.optimiser - INFO     - Optimizing...\n",
      "[INFO][2023/01/24 03:45:34 pm] Optimization complete. (Solution: optimal)\n",
      "24-Jan-23 15:45:34 - btrack.optimise.optimiser - INFO     - Optimization complete. (Solution: optimal)\n",
      "[INFO][2023/01/24 03:45:34 pm]  - Fates.FALSE_POSITIVE: 2225 (of 6090)\n",
      "24-Jan-23 15:45:34 - btrack.core - INFO     -  - Fates.FALSE_POSITIVE: 2225 (of 6090)\n",
      "[INFO][2023/01/24 03:45:34 pm]  - Fates.LINK: 905 (of 1122)\n",
      "24-Jan-23 15:45:34 - btrack.core - INFO     -  - Fates.LINK: 905 (of 1122)\n",
      "[INFO][2023/01/24 03:45:34 pm]  - Fates.DIVIDE: 12 (of 17)\n",
      "24-Jan-23 15:45:34 - btrack.core - INFO     -  - Fates.DIVIDE: 12 (of 17)\n",
      "[INFO][2023/01/24 03:45:34 pm]  - Fates.INITIALIZE_FRONT: 962 (of 1390)\n",
      "24-Jan-23 15:45:34 - btrack.core - INFO     -  - Fates.INITIALIZE_FRONT: 962 (of 1390)\n",
      "[INFO][2023/01/24 03:45:34 pm]  - Fates.INITIALIZE_LAZY: 1974 (of 4700)\n",
      "24-Jan-23 15:45:34 - btrack.core - INFO     -  - Fates.INITIALIZE_LAZY: 1974 (of 4700)\n",
      "[INFO][2023/01/24 03:45:34 pm]  - Fates.TERMINATE_BACK: 343 (of 468)\n",
      "24-Jan-23 15:45:34 - btrack.core - INFO     -  - Fates.TERMINATE_BACK: 343 (of 468)\n",
      "[INFO][2023/01/24 03:45:34 pm]  - Fates.TERMINATE_LAZY: 2605 (of 5622)\n",
      "24-Jan-23 15:45:34 - btrack.core - INFO     -  - Fates.TERMINATE_LAZY: 2605 (of 5622)\n",
      "[INFO][2023/01/24 03:45:34 pm]  - TOTAL: 19409 hypotheses\n",
      "24-Jan-23 15:45:34 - btrack.core - INFO     -  - TOTAL: 19409 hypotheses\n",
      "[INFO][2023/01/24 03:45:34 pm] Completed optimization with 5185 tracks\n",
      "24-Jan-23 15:45:34 - btrack.core - INFO     - Completed optimization with 5185 tracks\n"
     ]
    },
    {
     "name": "stdout",
     "output_type": "stream",
     "text": [
      "GLPK Integer Optimizer 5.0\n",
      "24360 rows, 19409 columns, 26655 non-zeros\n",
      "19409 integer variables, all of which are binary\n",
      "Preprocessing...\n",
      "12180 rows, 19409 columns, 26655 non-zeros\n",
      "19409 integer variables, all of which are binary\n",
      "Scaling...\n",
      " A: min|aij| =  1.000e+00  max|aij| =  1.000e+00  ratio =  1.000e+00\n",
      "Problem data seem to be well scaled\n",
      "Constructing initial basis...\n",
      "Size of triangular part is 12180\n",
      "Solving LP relaxation...\n",
      "GLPK Simplex Optimizer 5.0\n",
      "12180 rows, 19409 columns, 26655 non-zeros\n",
      "*     0: obj =   6.964964809e+04 inf =   0.000e+00 (3896)\n",
      "Perturbing LP to avoid stalling [1734]...\n",
      "Removing LP perturbation [3908]...\n",
      "*  3908: obj =   4.505190000e+04 inf =   0.000e+00 (0)\n",
      "OPTIMAL LP SOLUTION FOUND\n",
      "Integer optimization begins...\n",
      "Long-step dual simplex will be used\n",
      "+  3908: mip =     not found yet >=              -inf        (1; 0)\n",
      "+  3908: >>>>>   4.505190000e+04 >=   4.505190000e+04   0.0% (1; 0)\n",
      "+  3908: mip =   4.505190000e+04 >=     tree is empty   0.0% (0; 1)\n",
      "INTEGER OPTIMAL SOLUTION FOUND\n"
     ]
    },
    {
     "name": "stderr",
     "output_type": "stream",
     "text": [
      "[INFO][2023/01/24 03:45:35 pm] Opening HDF file: /mnt/DATA/macrohet/segmentation/[6,9]_tracks.h5...\n",
      "24-Jan-23 15:45:35 - btrack.dataio - INFO     - Opening HDF file: /mnt/DATA/macrohet/segmentation/[6,9]_tracks.h5...\n",
      "[INFO][2023/01/24 03:45:37 pm] Writing tracks/obj_type_1\n",
      "24-Jan-23 15:45:37 - btrack.dataio - INFO     - Writing tracks/obj_type_1\n",
      "[WARNING][2023/01/24 03:45:37 pm] Removing tracks/obj_type_1.\n",
      "24-Jan-23 15:45:37 - btrack.dataio - WARNING  - Removing tracks/obj_type_1.\n",
      "[INFO][2023/01/24 03:45:37 pm] Writing dummies/obj_type_1\n",
      "24-Jan-23 15:45:37 - btrack.dataio - INFO     - Writing dummies/obj_type_1\n",
      "[INFO][2023/01/24 03:45:37 pm] Writing LBEP/obj_type_1\n",
      "24-Jan-23 15:45:37 - btrack.dataio - INFO     - Writing LBEP/obj_type_1\n",
      "[INFO][2023/01/24 03:45:37 pm] Writing fates/obj_type_1\n",
      "24-Jan-23 15:45:37 - btrack.dataio - INFO     - Writing fates/obj_type_1\n",
      "[INFO][2023/01/24 03:45:37 pm] Closing HDF file: /mnt/DATA/macrohet/segmentation/[6,9]_tracks.h5\n",
      "24-Jan-23 15:45:37 - btrack.dataio - INFO     - Closing HDF file: /mnt/DATA/macrohet/segmentation/[6,9]_tracks.h5\n",
      "[INFO][2023/01/24 03:45:37 pm] Ending BayesianTracker session\n",
      "24-Jan-23 15:45:37 - btrack.core - INFO     - Ending BayesianTracker session\n"
     ]
    }
   ],
   "source": [
    "# initialise a tracker session using a context manager\n",
    "with btrack.BayesianTracker() as tracker:\n",
    "\n",
    "    # configure the tracker using a config file\n",
    "    tracker.configure(config)\n",
    "    tracker.max_search_radius = 100\n",
    "    tracker.tracking_updates = [\"MOTION\", \"VISUAL\"]\n",
    "    tracker.features = features\n",
    "\n",
    "    # append the objects to be tracked\n",
    "    tracker.append(objects)\n",
    "\n",
    "    # set the tracking volume\n",
    "    tracker.volume=((0, masks.shape[-2]), (0, masks.shape[-1]))\n",
    "\n",
    "    # track them (in interactive mode)\n",
    "    tracker.track(step_size=25)\n",
    "\n",
    "    # generate hypotheses and run the global optimizer\n",
    "    tracker.optimize()\n",
    "\n",
    "    # get the tracks in a format for napari visualization\n",
    "    data, properties, graph = tracker.to_napari()\n",
    "    \n",
    "    # store the tracks\n",
    "    tracks = tracker.tracks\n",
    "    \n",
    "    # store the configuration\n",
    "    cfg = tracker.configuration\n",
    "    \n",
    "    # export the track data \n",
    "    tracker.export(\"/mnt/DATA/macrohet/segmentation/[6,9]_tracks.h5\", obj_type=\"obj_type_1\")\n",
    "    "
   ]
  },
  {
   "cell_type": "code",
   "execution_count": 112,
   "id": "14074c15",
   "metadata": {},
   "outputs": [
    {
     "name": "stderr",
     "output_type": "stream",
     "text": [
      "/home/dayn/miniconda3/envs/aero/lib/python3.9/site-packages/napari_tools_menu/__init__.py:194: FutureWarning: Public access to Window.qt_viewer is deprecated and will be removed in\n",
      "v0.5.0. It is considered an \"implementation detail\" of the napari\n",
      "application, not part of the napari viewer model. If your use case\n",
      "requires access to qt_viewer, please open an issue to discuss.\n",
      "  self.tools_menu = ToolsMenu(self, self.qt_viewer.viewer)\n"
     ]
    },
    {
     "data": {
      "text/plain": [
       "<Tracks layer 'Tracks [6,9]' at 0x7f0738bf6e50>"
      ]
     },
     "execution_count": 112,
     "metadata": {},
     "output_type": "execute_result"
    }
   ],
   "source": [
    "v = napari.Viewer()\n",
    "v.add_image(images, \n",
    "            channel_axis = -1, \n",
    "            colormap=['green', 'magenta'], \n",
    "            contrast_limits=[[100,6000],[0,3000]])\n",
    "# for key in masks_dict.keys():\n",
    "#     v.add_labels(masks_dict[key][0], name = key)\n",
    "v.add_labels(\n",
    "    masks, \n",
    "    name = 'masks', \n",
    "    color = {1:'yellow'}, \n",
    "    opacity = 0.2\n",
    ")\n",
    "v.add_tracks(\n",
    "                    data, \n",
    "                    properties=properties, \n",
    "                    graph=graph, \n",
    "                    name=\"Tracks [6,9]\", \n",
    "                    blending=\"translucent\",\n",
    "                    visible=False,\n",
    "                )\n"
   ]
  },
  {
   "cell_type": "markdown",
   "id": "99641d5f",
   "metadata": {},
   "source": [
    "# Manually tweaking params for ideal tracking"
   ]
  },
  {
   "cell_type": "markdown",
   "id": "fc173c27",
   "metadata": {},
   "source": [
    "##### first assess average displacement\n",
    "\n",
    "Between ID 286 and 732"
   ]
  },
  {
   "cell_type": "code",
   "execution_count": 85,
   "id": "38ee9860",
   "metadata": {},
   "outputs": [],
   "source": [
    "cell_286 = [cell for cell in tracks if cell.ID == 286][0]\n",
    "cell_732 = [cell for cell in tracks if cell.ID == 732][0]"
   ]
  },
  {
   "cell_type": "code",
   "execution_count": 90,
   "id": "6557707f",
   "metadata": {},
   "outputs": [],
   "source": [
    "def euc_dist(cell1, cell2):\n",
    "    dx = cell1.x[0] - cell2.x[0]\n",
    "    dy = cell1.y[0] - cell2.y[0]\n",
    "    return np.sqrt(dx**2+dy**2)"
   ]
  },
  {
   "cell_type": "code",
   "execution_count": 92,
   "id": "8b8d6274",
   "metadata": {},
   "outputs": [
    {
     "data": {
      "text/plain": [
       "86.96944647302901"
      ]
     },
     "execution_count": 92,
     "metadata": {},
     "output_type": "execute_result"
    }
   ],
   "source": [
    "euc_dist(cell_286, cell_732)"
   ]
  },
  {
   "cell_type": "code",
   "execution_count": 86,
   "id": "ac5dd7a8",
   "metadata": {},
   "outputs": [
    {
     "data": {
      "text/html": [
       "<table border=\"1\" class=\"dataframe\">\n",
       "  <thead>\n",
       "    <tr style=\"text-align: right;\">\n",
       "      <th></th>\n",
       "      <th>ID</th>\n",
       "      <th>t</th>\n",
       "      <th>x</th>\n",
       "      <th>y</th>\n",
       "      <th>z</th>\n",
       "      <th>parent</th>\n",
       "      <th>root</th>\n",
       "      <th>state</th>\n",
       "      <th>generation</th>\n",
       "      <th>dummy</th>\n",
       "      <th>mean_intensity-1</th>\n",
       "      <th>minor_axis_length</th>\n",
       "      <th>major_axis_length</th>\n",
       "      <th>area</th>\n",
       "      <th>mean_intensity-0</th>\n",
       "      <th>orientation</th>\n",
       "    </tr>\n",
       "  </thead>\n",
       "  <tbody>\n",
       "    <tr>\n",
       "      <th>0</th>\n",
       "      <td>286</td>\n",
       "      <td>0</td>\n",
       "      <td>1919.655413</td>\n",
       "      <td>1092.89281</td>\n",
       "      <td>0.0</td>\n",
       "      <td>286</td>\n",
       "      <td>286</td>\n",
       "      <td>5</td>\n",
       "      <td>0</td>\n",
       "      <td>False</td>\n",
       "      <td>(1,) array</td>\n",
       "      <td>(1,) array</td>\n",
       "      <td>(1,) array</td>\n",
       "      <td>(1,) array</td>\n",
       "      <td>(1,) array</td>\n",
       "      <td>(1,) array</td>\n",
       "    </tr>\n",
       "  </tbody>\n",
       "</table>"
      ],
      "text/plain": [
       "OrderedDict([('ID', 286), ('t', [0]), ('x', [1919.6554125762802]), ('y', [1092.8928097638632]), ('z', [0.0]), ('parent', 286), ('root', 286), ('state', [5]), ('generation', 0), ('dummy', [False]), ('mean_intensity-1', array([618.96637039])), ('minor_axis_length', array([99.96937228])), ('major_axis_length', array([192.96164765])), ('area', array([15076])), ('mean_intensity-0', array([3279.90309101])), ('orientation', array([-0.96668702]))])"
      ]
     },
     "execution_count": 86,
     "metadata": {},
     "output_type": "execute_result"
    }
   ],
   "source": [
    "cell_286"
   ]
  },
  {
   "cell_type": "code",
   "execution_count": 101,
   "id": "b641c5d2",
   "metadata": {},
   "outputs": [
    {
     "data": {
      "text/plain": [
       "0.016796159999999997"
      ]
     },
     "execution_count": 101,
     "metadata": {},
     "output_type": "execute_result"
    }
   ],
   "source": [
    "0.6*0.6*0.6*0.6*0.6*0.6*0.6*0.6"
   ]
  },
  {
   "cell_type": "markdown",
   "id": "6f73733e",
   "metadata": {},
   "source": [
    "##### What happens to cell ID 388? Gets crowded out by another cell?"
   ]
  },
  {
   "cell_type": "code",
   "execution_count": 105,
   "id": "b0bf439a",
   "metadata": {},
   "outputs": [
    {
     "data": {
      "text/html": [
       "<table border=\"1\" class=\"dataframe\">\n",
       "  <thead>\n",
       "    <tr style=\"text-align: right;\">\n",
       "      <th></th>\n",
       "      <th>ID</th>\n",
       "      <th>t</th>\n",
       "      <th>x</th>\n",
       "      <th>y</th>\n",
       "      <th>z</th>\n",
       "      <th>parent</th>\n",
       "      <th>root</th>\n",
       "      <th>state</th>\n",
       "      <th>generation</th>\n",
       "      <th>dummy</th>\n",
       "      <th>mean_intensity-1</th>\n",
       "      <th>minor_axis_length</th>\n",
       "      <th>major_axis_length</th>\n",
       "      <th>area</th>\n",
       "      <th>mean_intensity-0</th>\n",
       "      <th>orientation</th>\n",
       "    </tr>\n",
       "  </thead>\n",
       "  <tbody>\n",
       "    <tr>\n",
       "      <th>0</th>\n",
       "      <td>388</td>\n",
       "      <td>0</td>\n",
       "      <td>773.977808</td>\n",
       "      <td>813.659887</td>\n",
       "      <td>0.000000</td>\n",
       "      <td>388</td>\n",
       "      <td>388</td>\n",
       "      <td>5</td>\n",
       "      <td>0</td>\n",
       "      <td>False</td>\n",
       "      <td>418.746670</td>\n",
       "      <td>207.224405</td>\n",
       "      <td>381.339830</td>\n",
       "      <td>60968.0</td>\n",
       "      <td>1189.934769</td>\n",
       "      <td>-0.130365</td>\n",
       "    </tr>\n",
       "    <tr>\n",
       "      <th>1</th>\n",
       "      <td>388</td>\n",
       "      <td>1</td>\n",
       "      <td>778.502292</td>\n",
       "      <td>826.736522</td>\n",
       "      <td>0.000000</td>\n",
       "      <td>388</td>\n",
       "      <td>388</td>\n",
       "      <td>5</td>\n",
       "      <td>0</td>\n",
       "      <td>False</td>\n",
       "      <td>420.123396</td>\n",
       "      <td>215.825863</td>\n",
       "      <td>405.684751</td>\n",
       "      <td>67182.0</td>\n",
       "      <td>1190.718466</td>\n",
       "      <td>-0.154894</td>\n",
       "    </tr>\n",
       "    <tr>\n",
       "      <th>2</th>\n",
       "      <td>388</td>\n",
       "      <td>2</td>\n",
       "      <td>783.206997</td>\n",
       "      <td>837.855339</td>\n",
       "      <td>1.311342</td>\n",
       "      <td>388</td>\n",
       "      <td>388</td>\n",
       "      <td>5</td>\n",
       "      <td>0</td>\n",
       "      <td>True</td>\n",
       "      <td>NaN</td>\n",
       "      <td>NaN</td>\n",
       "      <td>NaN</td>\n",
       "      <td>NaN</td>\n",
       "      <td>NaN</td>\n",
       "      <td>NaN</td>\n",
       "    </tr>\n",
       "    <tr>\n",
       "      <th>3</th>\n",
       "      <td>388</td>\n",
       "      <td>3</td>\n",
       "      <td>784.923151</td>\n",
       "      <td>822.801258</td>\n",
       "      <td>0.000000</td>\n",
       "      <td>388</td>\n",
       "      <td>388</td>\n",
       "      <td>5</td>\n",
       "      <td>0</td>\n",
       "      <td>False</td>\n",
       "      <td>412.731063</td>\n",
       "      <td>228.597218</td>\n",
       "      <td>391.542236</td>\n",
       "      <td>68979.0</td>\n",
       "      <td>1082.104046</td>\n",
       "      <td>-0.246876</td>\n",
       "    </tr>\n",
       "    <tr>\n",
       "      <th>4</th>\n",
       "      <td>388</td>\n",
       "      <td>4</td>\n",
       "      <td>788.145804</td>\n",
       "      <td>822.501875</td>\n",
       "      <td>-0.013909</td>\n",
       "      <td>388</td>\n",
       "      <td>388</td>\n",
       "      <td>5</td>\n",
       "      <td>0</td>\n",
       "      <td>True</td>\n",
       "      <td>NaN</td>\n",
       "      <td>NaN</td>\n",
       "      <td>NaN</td>\n",
       "      <td>NaN</td>\n",
       "      <td>NaN</td>\n",
       "      <td>NaN</td>\n",
       "    </tr>\n",
       "    <tr>\n",
       "      <th>5</th>\n",
       "      <td>388</td>\n",
       "      <td>5</td>\n",
       "      <td>791.368457</td>\n",
       "      <td>822.202493</td>\n",
       "      <td>-0.027819</td>\n",
       "      <td>388</td>\n",
       "      <td>388</td>\n",
       "      <td>5</td>\n",
       "      <td>0</td>\n",
       "      <td>True</td>\n",
       "      <td>NaN</td>\n",
       "      <td>NaN</td>\n",
       "      <td>NaN</td>\n",
       "      <td>NaN</td>\n",
       "      <td>NaN</td>\n",
       "      <td>NaN</td>\n",
       "    </tr>\n",
       "    <tr>\n",
       "      <th>6</th>\n",
       "      <td>388</td>\n",
       "      <td>6</td>\n",
       "      <td>804.306828</td>\n",
       "      <td>829.304345</td>\n",
       "      <td>0.000000</td>\n",
       "      <td>388</td>\n",
       "      <td>388</td>\n",
       "      <td>5</td>\n",
       "      <td>0</td>\n",
       "      <td>False</td>\n",
       "      <td>415.131923</td>\n",
       "      <td>259.637272</td>\n",
       "      <td>359.704414</td>\n",
       "      <td>68866.0</td>\n",
       "      <td>1201.234876</td>\n",
       "      <td>-0.165134</td>\n",
       "    </tr>\n",
       "  </tbody>\n",
       "</table>"
      ],
      "text/plain": [
       "OrderedDict([('ID', 388), ('t', [0, 1, 2, 3, 4, 5, 6]), ('x', [773.9778080304422, 778.5022922806704, 783.2069970995751, 784.9231505240725, 788.1458036647604, 791.3684568054482, 804.3068277524468]), ('y', [813.6598871539168, 826.7365216873567, 837.8553392186702, 822.8012583539918, 822.5018754921236, 822.2024926302555, 829.3043446693579]), ('z', [0.0, 0.0, 1.3113416312335522, 0.0, -0.013909419008884427, -0.027818838017768854, 0.0]), ('parent', 388), ('root', 388), ('state', [5, 5, 5, 5, 5, 5, 5]), ('generation', 0), ('dummy', [False, False, True, False, True, True, False]), ('mean_intensity-1', array([418.74667038, 420.12339615,          nan, 412.73106308,\n",
       "                nan,          nan, 415.13192286])), ('minor_axis_length', array([207.22440518, 215.8258626 ,          nan, 228.59721798,\n",
       "                nan,          nan, 259.63727179])), ('major_axis_length', array([381.33982966, 405.68475149,          nan, 391.54223639,\n",
       "                nan,          nan, 359.70441371])), ('area', array([60968., 67182.,    nan, 68979.,    nan,    nan, 68866.])), ('mean_intensity-0', array([1189.93476906, 1190.71846626,           nan, 1082.10404616,\n",
       "                 nan,           nan, 1201.23487643])), ('orientation', array([-0.13036459, -0.15489398,         nan, -0.24687633,         nan,\n",
       "               nan, -0.16513439]))])"
      ]
     },
     "execution_count": 105,
     "metadata": {},
     "output_type": "execute_result"
    }
   ],
   "source": [
    "cell_388 = [cell for cell in tracks if cell.ID == 388][0]\n",
    "cell_388"
   ]
  },
  {
   "cell_type": "markdown",
   "id": "32d35740",
   "metadata": {},
   "source": [
    "# Dist of track lens"
   ]
  },
  {
   "cell_type": "code",
   "execution_count": 1,
   "id": "379fe0d2",
   "metadata": {},
   "outputs": [],
   "source": [
    "import btrack"
   ]
  },
  {
   "cell_type": "code",
   "execution_count": 3,
   "id": "c6c94fab",
   "metadata": {
    "scrolled": true
   },
   "outputs": [
    {
     "name": "stderr",
     "output_type": "stream",
     "text": [
      "[INFO][2023/02/28 04:14:43 PM] Opening HDF file: /mnt/DATA/macrohet/segmentation/tracks_objs/tracks_arx/rescaled_[6,9]_tracks.h5...\n",
      "[INFO][2023/02/28 04:14:43 PM] Loading tracks/obj_type_1\n",
      "[INFO][2023/02/28 04:14:43 PM] Loading LBEP/obj_type_1\n",
      "[INFO][2023/02/28 04:14:43 PM] Loading objects/obj_type_1 (26073, 5) (26073 filtered: None)\n",
      "[INFO][2023/02/28 04:14:44 PM] Closing HDF file: /mnt/DATA/macrohet/segmentation/tracks_objs/tracks_arx/rescaled_[6,9]_tracks.h5\n"
     ]
    }
   ],
   "source": [
    "with btrack.dataio.HDF5FileHandler('/mnt/DATA/macrohet/segmentation/tracks_objs/tracks_arx/rescaled_[6,9]_tracks.h5', 'r') as hdf:\n",
    "    tracks = hdf.tracks"
   ]
  },
  {
   "cell_type": "code",
   "execution_count": 4,
   "id": "b43fe611",
   "metadata": {},
   "outputs": [],
   "source": [
    "import matplotlib.pyplot as plt"
   ]
  },
  {
   "cell_type": "code",
   "execution_count": 5,
   "id": "b61ba9ec",
   "metadata": {},
   "outputs": [],
   "source": [
    "lengths = [len(track) for track in tracks]"
   ]
  },
  {
   "cell_type": "code",
   "execution_count": 7,
   "id": "b14f5edd",
   "metadata": {},
   "outputs": [],
   "source": [
    "import matplotlib.pyplot as plt\n",
    "import pandas as pd\n",
    "import seaborn as sns\n",
    "sns.set_theme(style=\"ticks\")\n",
    "sns.set_palette(\"Spectral\")"
   ]
  },
  {
   "cell_type": "code",
   "execution_count": 17,
   "id": "b1d7e3c4",
   "metadata": {},
   "outputs": [
    {
     "data": {
      "text/plain": [
       "(array([1538.,  298.,  127.,   73.,   42.,   38.,   61.]),\n",
       " array([ 1.        , 11.57142857, 22.14285714, 32.71428571, 43.28571429,\n",
       "        53.85714286, 64.42857143, 75.        ]),\n",
       " <BarContainer object of 7 artists>)"
      ]
     },
     "execution_count": 17,
     "metadata": {},
     "output_type": "execute_result"
    },
    {
     "data": {
      "image/png": "[encoded data removed]",
      "text/plain": [
       "<Figure size 640x480 with 1 Axes>"
      ]
     },
     "metadata": {},
     "output_type": "display_data"
    }
   ],
   "source": [
    "plt.hist(lengths, bins=7)"
   ]
  },
  {
   "cell_type": "code",
   "execution_count": 111,
   "id": "5219234c",
   "metadata": {
    "scrolled": false
   },
   "outputs": [
    {
     "data": {
      "text/plain": [
       "(array([3390.,  984.,  379.,  178.,  112.,   64.,   35.,   21.,   11.,\n",
       "          11.]),\n",
       " array([ 1. ,  8.4, 15.8, 23.2, 30.6, 38. , 45.4, 52.8, 60.2, 67.6, 75. ]),\n",
       " <BarContainer object of 10 artists>)"
      ]
     },
     "execution_count": 111,
     "metadata": {},
     "output_type": "execute_result"
    },
    {
     "data": {
      "image/png": "[encoded data removed]",
      "text/plain": [
       "<Figure size 640x480 with 1 Axes>"
      ]
     },
     "metadata": {},
     "output_type": "display_data"
    }
   ],
   "source": [
    "plt.hist(lengths)"
   ]
  },
  {
   "cell_type": "markdown",
   "id": "d1866451",
   "metadata": {},
   "source": [
    "# Test dataset"
   ]
  },
  {
   "cell_type": "code",
   "execution_count": 121,
   "id": "a5f18077",
   "metadata": {},
   "outputs": [],
   "source": [
    "from btrack import datasets\n",
    "from skimage.io import imread"
   ]
  },
  {
   "cell_type": "code",
   "execution_count": 124,
   "id": "1f2a8234",
   "metadata": {},
   "outputs": [],
   "source": [
    "SEGMENTATION_FILE = datasets.example_segmentation_file()\n",
    "CONFIG_FILE = datasets.cell_config()\n",
    "segmentation = imread(SEGMENTATION_FILE)"
   ]
  },
  {
   "cell_type": "code",
   "execution_count": 123,
   "id": "c0bdee79",
   "metadata": {},
   "outputs": [
    {
     "name": "stderr",
     "output_type": "stream",
     "text": [
      "[INFO][2023/01/24 03:52:53 pm] Localizing objects from segmentation...\n",
      "24-Jan-23 15:52:53 - btrack._localization - INFO     - Localizing objects from segmentation...\n",
      "[INFO][2023/01/24 03:54:16 pm] Objects are of type: <class 'dict'>\n",
      "24-Jan-23 15:54:16 - btrack.dataio - INFO     - Objects are of type: <class 'dict'>\n",
      "[INFO][2023/01/24 03:54:17 pm] ...Found 52890 objects in 500 frames.\n",
      "24-Jan-23 15:54:17 - btrack._localization - INFO     - ...Found 52890 objects in 500 frames.\n"
     ]
    }
   ],
   "source": [
    "FEATURES = [\n",
    "    \"area\", \n",
    "    \"major_axis_length\", \n",
    "    \"minor_axis_length\", \n",
    "    \"orientation\", \n",
    "    \"solidity\"\n",
    "]\n",
    "\n",
    "example_objects = btrack.utils.segmentation_to_objects(\n",
    "    segmentation, \n",
    "    properties=tuple(FEATURES), \n",
    ")"
   ]
  },
  {
   "cell_type": "code",
   "execution_count": 125,
   "id": "fd31143b",
   "metadata": {},
   "outputs": [
    {
     "name": "stderr",
     "output_type": "stream",
     "text": [
      "[INFO][2023/01/24 03:54:19 pm] Loaded btrack: /home/dayn/analysis/BayesianTracker/btrack/libs/libtracker.so\n",
      "24-Jan-23 15:54:19 - btrack.libwrapper - INFO     - Loaded btrack: /home/dayn/analysis/BayesianTracker/btrack/libs/libtracker.so\n",
      "[INFO][2023/01/24 03:54:19 pm] btrack (v0.5.0) library imported\n",
      "24-Jan-23 15:54:19 - btrack.core - INFO     - btrack (v0.5.0) library imported\n",
      "[INFO][2023/01/24 03:54:19 pm] Starting BayesianTracker session\n",
      "24-Jan-23 15:54:19 - btrack.core - INFO     - Starting BayesianTracker session\n",
      "[INFO][2023/01/24 03:54:19 pm] Loading configuration file: /home/dayn/.cache/btrack-examples/examples/cell_config.json\n",
      "24-Jan-23 15:54:19 - btrack.config - INFO     - Loading configuration file: /home/dayn/.cache/btrack-examples/examples/cell_config.json\n",
      "[INFO][2023/01/24 03:54:19 pm] Objects are of type: <class 'list'>\n",
      "24-Jan-23 15:54:19 - btrack.dataio - INFO     - Objects are of type: <class 'list'>\n",
      "[INFO][2023/01/24 03:54:21 pm] Starting tracking... \n",
      "24-Jan-23 15:54:21 - btrack.core - INFO     - Starting tracking... \n",
      "[INFO][2023/01/24 03:54:21 pm] Update using: ['VISUAL', 'MOTION']\n",
      "24-Jan-23 15:54:21 - btrack.core - INFO     - Update using: ['VISUAL', 'MOTION']\n",
      "[INFO][2023/01/24 03:54:21 pm] Tracking objects in frames 0 to 99 (of 500)...\n",
      "24-Jan-23 15:54:21 - btrack.core - INFO     - Tracking objects in frames 0 to 99 (of 500)...\n",
      "[INFO][2023/01/24 03:54:22 pm]  - Timing (Bayesian updates: 0.43ms, Linking: 0.25ms)\n",
      "24-Jan-23 15:54:22 - btrack.utils - INFO     -  - Timing (Bayesian updates: 0.43ms, Linking: 0.25ms)\n",
      "[INFO][2023/01/24 03:54:22 pm]  - Probabilities (Link: 1.00000, Lost: 1.00000)\n",
      "24-Jan-23 15:54:22 - btrack.utils - INFO     -  - Probabilities (Link: 1.00000, Lost: 1.00000)\n",
      "[INFO][2023/01/24 03:54:22 pm]  - Stats (Active: 78, Lost: 24, Conflicts resolved: 100)\n",
      "24-Jan-23 15:54:22 - btrack.utils - INFO     -  - Stats (Active: 78, Lost: 24, Conflicts resolved: 100)\n",
      "[INFO][2023/01/24 03:54:22 pm] Tracking objects in frames 100 to 199 (of 500)...\n",
      "24-Jan-23 15:54:22 - btrack.core - INFO     - Tracking objects in frames 100 to 199 (of 500)...\n",
      "[INFO][2023/01/24 03:54:22 pm]  - Timing (Bayesian updates: 0.89ms, Linking: 0.50ms)\n",
      "24-Jan-23 15:54:22 - btrack.utils - INFO     -  - Timing (Bayesian updates: 0.89ms, Linking: 0.50ms)\n",
      "[INFO][2023/01/24 03:54:22 pm]  - Probabilities (Link: 1.00000, Lost: 0.93067)\n",
      "24-Jan-23 15:54:22 - btrack.utils - INFO     -  - Probabilities (Link: 1.00000, Lost: 0.93067)\n",
      "[INFO][2023/01/24 03:54:22 pm]  - Stats (Active: 82, Lost: 41, Conflicts resolved: 181)\n",
      "24-Jan-23 15:54:22 - btrack.utils - INFO     -  - Stats (Active: 82, Lost: 41, Conflicts resolved: 181)\n",
      "[INFO][2023/01/24 03:54:22 pm] Tracking objects in frames 200 to 299 (of 500)...\n",
      "24-Jan-23 15:54:22 - btrack.core - INFO     - Tracking objects in frames 200 to 299 (of 500)...\n",
      "[INFO][2023/01/24 03:54:23 pm]  - Timing (Bayesian updates: 1.95ms, Linking: 0.87ms)\n",
      "24-Jan-23 15:54:23 - btrack.utils - INFO     -  - Timing (Bayesian updates: 1.95ms, Linking: 0.87ms)\n",
      "[INFO][2023/01/24 03:54:23 pm]  - Probabilities (Link: 1.00000, Lost: 0.97113)\n",
      "24-Jan-23 15:54:23 - btrack.utils - INFO     -  - Probabilities (Link: 1.00000, Lost: 0.97113)\n",
      "[INFO][2023/01/24 03:54:23 pm]  - Stats (Active: 110, Lost: 57, Conflicts resolved: 267)\n",
      "24-Jan-23 15:54:23 - btrack.utils - INFO     -  - Stats (Active: 110, Lost: 57, Conflicts resolved: 267)\n",
      "[INFO][2023/01/24 03:54:23 pm] Tracking objects in frames 300 to 399 (of 500)...\n",
      "24-Jan-23 15:54:23 - btrack.core - INFO     - Tracking objects in frames 300 to 399 (of 500)...\n",
      "[INFO][2023/01/24 03:54:24 pm]  - Timing (Bayesian updates: 1.80ms, Linking: 0.48ms)\n",
      "24-Jan-23 15:54:24 - btrack.utils - INFO     -  - Timing (Bayesian updates: 1.80ms, Linking: 0.48ms)\n",
      "[INFO][2023/01/24 03:54:24 pm]  - Probabilities (Link: 1.00000, Lost: 1.00000)\n",
      "24-Jan-23 15:54:24 - btrack.utils - INFO     -  - Probabilities (Link: 1.00000, Lost: 1.00000)\n",
      "[INFO][2023/01/24 03:54:24 pm]  - Stats (Active: 141, Lost: 118, Conflicts resolved: 507)\n",
      "24-Jan-23 15:54:24 - btrack.utils - INFO     -  - Stats (Active: 141, Lost: 118, Conflicts resolved: 507)\n",
      "[INFO][2023/01/24 03:54:24 pm] Tracking objects in frames 400 to 499 (of 500)...\n",
      "24-Jan-23 15:54:24 - btrack.core - INFO     - Tracking objects in frames 400 to 499 (of 500)...\n",
      "[INFO][2023/01/24 03:54:25 pm]  - Timing (Bayesian updates: 6.25ms, Linking: 1.52ms)\n",
      "24-Jan-23 15:54:25 - btrack.utils - INFO     -  - Timing (Bayesian updates: 6.25ms, Linking: 1.52ms)\n",
      "[INFO][2023/01/24 03:54:25 pm]  - Probabilities (Link: 1.00000, Lost: 1.00000)\n",
      "24-Jan-23 15:54:25 - btrack.utils - INFO     -  - Probabilities (Link: 1.00000, Lost: 1.00000)\n",
      "[INFO][2023/01/24 03:54:25 pm] SUCCESS.\n",
      "24-Jan-23 15:54:25 - btrack.core - INFO     - SUCCESS.\n",
      "[INFO][2023/01/24 03:54:25 pm]  - Found 336 tracks in 500 frames (in 0.0s)\n",
      "24-Jan-23 15:54:25 - btrack.core - INFO     -  - Found 336 tracks in 500 frames (in 0.0s)\n",
      "[INFO][2023/01/24 03:54:25 pm]  - Inserted 117 dummy objects to fill tracking gaps\n",
      "24-Jan-23 15:54:25 - btrack.core - INFO     -  - Inserted 117 dummy objects to fill tracking gaps\n",
      "[INFO][2023/01/24 03:54:25 pm] Loading hypothesis model: cell_hypothesis\n",
      "24-Jan-23 15:54:25 - btrack.core - INFO     - Loading hypothesis model: cell_hypothesis\n",
      "[INFO][2023/01/24 03:54:25 pm] Calculating hypotheses (relax: True)...\n",
      "24-Jan-23 15:54:25 - btrack.core - INFO     - Calculating hypotheses (relax: True)...\n",
      "[INFO][2023/01/24 03:54:25 pm] Setting up constraints matrix for global optimisation...\n",
      "24-Jan-23 15:54:25 - btrack.optimise.optimiser - INFO     - Setting up constraints matrix for global optimisation...\n",
      "[INFO][2023/01/24 03:54:25 pm] Using GLPK options: {'tm_lim': 60000}...\n",
      "24-Jan-23 15:54:25 - btrack.optimise.optimiser - INFO     - Using GLPK options: {'tm_lim': 60000}...\n",
      "[INFO][2023/01/24 03:54:26 pm] Optimizing...\n",
      "24-Jan-23 15:54:26 - btrack.optimise.optimiser - INFO     - Optimizing...\n",
      "[INFO][2023/01/24 03:54:26 pm] Optimization complete. (Solution: optimal)\n",
      "24-Jan-23 15:54:26 - btrack.optimise.optimiser - INFO     - Optimization complete. (Solution: optimal)\n",
      "[INFO][2023/01/24 03:54:26 pm]  - Fates.FALSE_POSITIVE: 41 (of 336)\n",
      "24-Jan-23 15:54:26 - btrack.core - INFO     -  - Fates.FALSE_POSITIVE: 41 (of 336)\n",
      "[INFO][2023/01/24 03:54:26 pm]  - Fates.LINK: 26 (of 85)\n",
      "24-Jan-23 15:54:26 - btrack.core - INFO     -  - Fates.LINK: 26 (of 85)\n",
      "[INFO][2023/01/24 03:54:26 pm]  - Fates.DIVIDE: 24 (of 26)\n",
      "24-Jan-23 15:54:26 - btrack.core - INFO     -  - Fates.DIVIDE: 24 (of 26)\n",
      "[INFO][2023/01/24 03:54:26 pm]  - Fates.INITIALIZE_BORDER: 49 (of 59)\n",
      "24-Jan-23 15:54:26 - btrack.core - INFO     -  - Fates.INITIALIZE_BORDER: 49 (of 59)\n",
      "[INFO][2023/01/24 03:54:26 pm]  - Fates.INITIALIZE_FRONT: 70 (of 71)\n",
      "24-Jan-23 15:54:26 - btrack.core - INFO     -  - Fates.INITIALIZE_FRONT: 70 (of 71)\n",
      "[INFO][2023/01/24 03:54:26 pm]  - Fates.INITIALIZE_LAZY: 102 (of 206)\n",
      "24-Jan-23 15:54:26 - btrack.core - INFO     -  - Fates.INITIALIZE_LAZY: 102 (of 206)\n",
      "[INFO][2023/01/24 03:54:26 pm]  - Fates.TERMINATE_BORDER: 42 (of 53)\n",
      "24-Jan-23 15:54:26 - btrack.core - INFO     -  - Fates.TERMINATE_BORDER: 42 (of 53)\n",
      "[INFO][2023/01/24 03:54:26 pm]  - Fates.TERMINATE_BACK: 183 (of 187)\n",
      "24-Jan-23 15:54:26 - btrack.core - INFO     -  - Fates.TERMINATE_BACK: 183 (of 187)\n",
      "[INFO][2023/01/24 03:54:26 pm]  - Fates.TERMINATE_LAZY: 20 (of 96)\n",
      "24-Jan-23 15:54:26 - btrack.core - INFO     -  - Fates.TERMINATE_LAZY: 20 (of 96)\n",
      "[INFO][2023/01/24 03:54:26 pm]  - TOTAL: 1119 hypotheses\n",
      "24-Jan-23 15:54:26 - btrack.core - INFO     -  - TOTAL: 1119 hypotheses\n",
      "[INFO][2023/01/24 03:54:26 pm] Completed optimization with 310 tracks\n",
      "24-Jan-23 15:54:26 - btrack.core - INFO     - Completed optimization with 310 tracks\n"
     ]
    },
    {
     "name": "stdout",
     "output_type": "stream",
     "text": [
      "GLPK Integer Optimizer 5.0\n",
      "1344 rows, 1119 columns, 1592 non-zeros\n",
      "1119 integer variables, all of which are binary\n",
      "Preprocessing...\n",
      "672 rows, 1119 columns, 1592 non-zeros\n",
      "1119 integer variables, all of which are binary\n",
      "Scaling...\n",
      " A: min|aij| =  1.000e+00  max|aij| =  1.000e+00  ratio =  1.000e+00\n",
      "Problem data seem to be well scaled\n",
      "Constructing initial basis...\n",
      "Size of triangular part is 672\n",
      "Solving LP relaxation...\n",
      "GLPK Simplex Optimizer 5.0\n",
      "672 rows, 1119 columns, 1592 non-zeros\n",
      "*     0: obj =   2.128776612e+03 inf =   0.000e+00 (153)\n",
      "*   130: obj =   1.045172041e+03 inf =   0.000e+00 (0)\n",
      "OPTIMAL LP SOLUTION FOUND\n",
      "Integer optimization begins...\n",
      "Long-step dual simplex will be used\n",
      "+   130: mip =     not found yet >=              -inf        (1; 0)\n",
      "+   130: >>>>>   1.045172041e+03 >=   1.045172041e+03   0.0% (1; 0)\n",
      "+   130: mip =   1.045172041e+03 >=     tree is empty   0.0% (0; 1)\n",
      "INTEGER OPTIMAL SOLUTION FOUND\n"
     ]
    },
    {
     "name": "stderr",
     "output_type": "stream",
     "text": [
      "[INFO][2023/01/24 03:54:26 pm] Ending BayesianTracker session\n",
      "24-Jan-23 15:54:26 - btrack.core - INFO     - Ending BayesianTracker session\n"
     ]
    }
   ],
   "source": [
    "# initialise a tracker session using a context manager\n",
    "with btrack.BayesianTracker() as tracker:\n",
    "\n",
    "    # configure the tracker using a config file\n",
    "    tracker.configure(CONFIG_FILE)\n",
    "    tracker.max_search_radius = 50\n",
    "    tracker.tracking_updates = [\"MOTION\", \"VISUAL\"]\n",
    "    tracker.features = FEATURES\n",
    "\n",
    "    # append the objects to be tracked\n",
    "    tracker.append(example_objects)\n",
    "\n",
    "    # set the tracking volume\n",
    "    tracker.volume=((0, 1600), (0, 1200))\n",
    "\n",
    "    # track them (in interactive mode)\n",
    "    tracker.track(step_size=100)\n",
    "\n",
    "    # generate hypotheses and run the global optimizer\n",
    "    tracker.optimize()\n",
    "\n",
    "    # get the tracks in a format for napari visualization\n",
    "    eg_data, eg_properties, eg_graph = tracker.to_napari()\n",
    "    \n",
    "    # store the tracks\n",
    "    eg_tracks = tracker.tracks\n",
    "    \n",
    "    # store the configuration\n",
    "    eg_cfg = tracker.configuration\n"
   ]
  },
  {
   "cell_type": "code",
   "execution_count": 127,
   "id": "186e3262",
   "metadata": {},
   "outputs": [
    {
     "name": "stderr",
     "output_type": "stream",
     "text": [
      "/home/dayn/miniconda3/envs/aero/lib/python3.9/site-packages/napari_tools_menu/__init__.py:194: FutureWarning: Public access to Window.qt_viewer is deprecated and will be removed in\n",
      "v0.5.0. It is considered an \"implementation detail\" of the napari\n",
      "application, not part of the napari viewer model. If your use case\n",
      "requires access to qt_viewer, please open an issue to discuss.\n",
      "  self.tools_menu = ToolsMenu(self, self.qt_viewer.viewer)\n"
     ]
    },
    {
     "data": {
      "text/plain": [
       "<Tracks layer 'example Tracks' at 0x7f075e5c8550>"
      ]
     },
     "execution_count": 127,
     "metadata": {},
     "output_type": "execute_result"
    }
   ],
   "source": [
    "viewer = napari.Viewer()\n",
    "\n",
    "viewer.add_image(\n",
    "    segmentation, \n",
    "    name=\"Segmentation\",\n",
    "    opacity=0.2,\n",
    ")\n",
    "\n",
    "# the track data from the tracker\n",
    "viewer.add_tracks(\n",
    "    eg_data, \n",
    "    properties=eg_properties, \n",
    "    graph=eg_graph, \n",
    "    name=\"example Tracks\", \n",
    "    blending=\"translucent\",\n",
    "    visible=True,\n",
    ")"
   ]
  }
 ],
 "metadata": {
  "kernelspec": {
   "display_name": "aero",
   "language": "python",
   "name": "aero"
  },
  "language_info": {
   "codemirror_mode": {
    "name": "ipython",
    "version": 3
   },
   "file_extension": ".py",
   "mimetype": "text/x-python",
   "name": "python",
   "nbconvert_exporter": "python",
   "pygments_lexer": "ipython3",
   "version": "3.9.12"
  }
 },
 "nbformat": 4,
 "nbformat_minor": 5
}
