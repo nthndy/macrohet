{
 "cells": [
  {
   "cell_type": "markdown",
   "id": "d2e295e0",
   "metadata": {},
   "source": [
    "# Bootstrapping Segmentation\n",
    "\n",
    "Is that the name for it? I forget. Anyway, creating masks to then manually edit in to ground truths.\n",
    "\n",
    "Need to iterate over whole data set and (randomly?) sample different frames for manual editing."
   ]
  },
  {
   "cell_type": "code",
   "execution_count": 46,
   "id": "7975a2f4",
   "metadata": {},
   "outputs": [
    {
     "name": "stdout",
     "output_type": "stream",
     "text": [
      "nvcc: NVIDIA (R) Cuda compiler driver\n",
      "Copyright (c) 2005-2019 NVIDIA Corporation\n",
      "Built on Sun_Jul_28_19:07:16_PDT_2019\n",
      "Cuda compilation tools, release 10.1, V10.1.243\n",
      "Tue Jan 10 13:30:24 2023       \n",
      "+-----------------------------------------------------------------------------+\n",
      "| NVIDIA-SMI 515.86.01    Driver Version: 515.86.01    CUDA Version: 11.7     |\n",
      "|-------------------------------+----------------------+----------------------+\n",
      "| GPU  Name        Persistence-M| Bus-Id        Disp.A | Volatile Uncorr. ECC |\n",
      "| Fan  Temp  Perf  Pwr:Usage/Cap|         Memory-Usage | GPU-Util  Compute M. |\n",
      "|                               |                      |               MIG M. |\n",
      "|===============================+======================+======================|\n",
      "|   0  NVIDIA RTX A6000    On   | 00000000:65:00.0  On |                  Off |\n",
      "| 30%   37C    P8    30W / 300W |   6134MiB / 49140MiB |      0%      Default |\n",
      "|                               |                      |                  N/A |\n",
      "+-------------------------------+----------------------+----------------------+\n",
      "                                                                               \n",
      "+-----------------------------------------------------------------------------+\n",
      "| Processes:                                                                  |\n",
      "|  GPU   GI   CI        PID   Type   Process name                  GPU Memory |\n",
      "|        ID   ID                                                   Usage      |\n",
      "|=============================================================================|\n",
      "|    0   N/A  N/A      2225      G   /usr/lib/xorg/Xorg                253MiB |\n",
      "|    0   N/A  N/A      3846      G   /usr/bin/gnome-shell               49MiB |\n",
      "|    0   N/A  N/A      9854      G   ...eLanguageDetectionEnabled       53MiB |\n",
      "|    0   N/A  N/A     12251      G   ...AAAAAAAAA= --shared-files       19MiB |\n",
      "|    0   N/A  N/A     12887      G   ...veSuggestionsOnlyOnDemand       42MiB |\n",
      "|    0   N/A  N/A     14188      G   /usr/lib/firefox/firefox           15MiB |\n",
      "|    0   N/A  N/A     25251    C+G   ...nda3/envs/aero/bin/python     5693MiB |\n",
      "+-----------------------------------------------------------------------------+\n",
      ">>> GPU activated? YES\n"
     ]
    }
   ],
   "source": [
    "import napari\n",
    "import cellpose\n",
    "from octopuslite import utils, tile\n",
    "from tqdm.auto import tqdm\n",
    "import numpy as np\n",
    "import datetime \n",
    "from skimage.io import imsave\n",
    "import os\n",
    "!nvcc --version\n",
    "!nvidia-smi\n",
    "\n",
    "from cellpose import core, utils, io, models, metrics\n",
    "\n",
    "use_GPU = core.use_gpu()\n",
    "yn = ['NO', 'YES']\n",
    "print(f'>>> GPU activated? {yn[use_GPU]}')\n",
    "\n",
    "model = models.Cellpose(gpu=True, model_type='cyto')\n",
    "\n",
    "def segment(img):\n",
    "    masks, flows, styles, diams = model.eval(img, diameter=250, channels=[0,0],\n",
    "                                             flow_threshold=None, cellprob_threshold=0)\n",
    "    return masks"
   ]
  },
  {
   "cell_type": "markdown",
   "id": "3751ef77",
   "metadata": {},
   "source": [
    "### Load experiment of choice\n",
    "\n",
    "The Opera Phenix is a high-throughput confocal microscope that acquires very large 5-dimensional (TCZXY) images over several fields of view in any one experiment. Therefore, a lazy-loading approach is chosen to mosaic, view and annotate these images. This approach depends upon Dask and DaskFusion. The first step is to load the main metadata file (typically called `Index.idx.xml` and located in the main `Images` directory) that contains the image filenames and associated TCXZY information used to organise the images."
   ]
  },
  {
   "cell_type": "code",
   "execution_count": 2,
   "id": "8d20db67",
   "metadata": {},
   "outputs": [
    {
     "name": "stdout",
     "output_type": "stream",
     "text": [
      "Reading metadata XML file...\n"
     ]
    },
    {
     "data": {
      "application/vnd.jupyter.widget-view+json": {
       "model_id": "1498082198b1498fb4d7ba355f6bd342",
       "version_major": 2,
       "version_minor": 0
      },
      "text/plain": [
       "Extracting HarmonyV5 metadata:   0%|          | 0/113400 [00:00<?, ?it/s]"
      ]
     },
     "metadata": {},
     "output_type": "display_data"
    },
    {
     "name": "stdout",
     "output_type": "stream",
     "text": [
      "Extracting metadata complete!\n"
     ]
    }
   ],
   "source": [
    "image_dir = '/mnt/DATA/sandbox/pierre_live_cell_data/outputs/Replication_IPSDM_GFP/Images/'\n",
    "metadata_fn = '/mnt/DATA/sandbox/pierre_live_cell_data/outputs/Replication_IPSDM_GFP/Index.idx.xml'\n",
    "metadata = utils.read_harmony_metadata(metadata_fn)"
   ]
  },
  {
   "cell_type": "markdown",
   "id": "e739b419",
   "metadata": {},
   "source": [
    "### View assay layout and mask information (optional)\n",
    "\n",
    "The Opera Phenix acquires many time lapse series from a range of positions. The first step is to inspect the image metadata, presented in the form of an `Assaylayout/experiment_ID.xml` file, to show which positions correspond to which experimental assays."
   ]
  },
  {
   "cell_type": "code",
   "execution_count": 3,
   "id": "19c540d8",
   "metadata": {},
   "outputs": [
    {
     "name": "stdout",
     "output_type": "stream",
     "text": [
      "Reading metadata XML file...\n",
      "Extracting metadata complete!\n",
      "Reading metadata XML file...\n",
      "Extracting metadata complete!\n"
     ]
    },
    {
     "data": {
      "text/html": [
       "<div>\n",
       "<style scoped>\n",
       "    .dataframe tbody tr th:only-of-type {\n",
       "        vertical-align: middle;\n",
       "    }\n",
       "\n",
       "    .dataframe tbody tr th {\n",
       "        vertical-align: top;\n",
       "    }\n",
       "\n",
       "    .dataframe thead th {\n",
       "        text-align: right;\n",
       "    }\n",
       "</style>\n",
       "<table border=\"1\" class=\"dataframe\">\n",
       "  <thead>\n",
       "    <tr style=\"text-align: right;\">\n",
       "      <th></th>\n",
       "      <th></th>\n",
       "      <th>Strain</th>\n",
       "      <th>Compound</th>\n",
       "      <th>Concentration</th>\n",
       "      <th>ConcentrationEC</th>\n",
       "    </tr>\n",
       "  </thead>\n",
       "  <tbody>\n",
       "    <tr>\n",
       "      <th rowspan=\"6\" valign=\"top\">3</th>\n",
       "      <th>4</th>\n",
       "      <td>RD1</td>\n",
       "      <td>CTRL</td>\n",
       "      <td>0</td>\n",
       "      <td>EC0</td>\n",
       "    </tr>\n",
       "    <tr>\n",
       "      <th>5</th>\n",
       "      <td>WT</td>\n",
       "      <td>CTRL</td>\n",
       "      <td>0</td>\n",
       "      <td>EC0</td>\n",
       "    </tr>\n",
       "    <tr>\n",
       "      <th>6</th>\n",
       "      <td>WT</td>\n",
       "      <td>PZA</td>\n",
       "      <td>60</td>\n",
       "      <td>EC50</td>\n",
       "    </tr>\n",
       "    <tr>\n",
       "      <th>7</th>\n",
       "      <td>WT</td>\n",
       "      <td>RIF</td>\n",
       "      <td>0.1</td>\n",
       "      <td>EC50</td>\n",
       "    </tr>\n",
       "    <tr>\n",
       "      <th>8</th>\n",
       "      <td>WT</td>\n",
       "      <td>INH</td>\n",
       "      <td>0.04</td>\n",
       "      <td>EC50</td>\n",
       "    </tr>\n",
       "    <tr>\n",
       "      <th>9</th>\n",
       "      <td>WT</td>\n",
       "      <td>BDQ</td>\n",
       "      <td>0.02</td>\n",
       "      <td>EC50</td>\n",
       "    </tr>\n",
       "    <tr>\n",
       "      <th rowspan=\"6\" valign=\"top\">4</th>\n",
       "      <th>4</th>\n",
       "      <td>RD1</td>\n",
       "      <td>CTRL</td>\n",
       "      <td>0</td>\n",
       "      <td>EC0</td>\n",
       "    </tr>\n",
       "    <tr>\n",
       "      <th>5</th>\n",
       "      <td>WT</td>\n",
       "      <td>CTRL</td>\n",
       "      <td>0</td>\n",
       "      <td>EC0</td>\n",
       "    </tr>\n",
       "    <tr>\n",
       "      <th>6</th>\n",
       "      <td>WT</td>\n",
       "      <td>PZA</td>\n",
       "      <td>60</td>\n",
       "      <td>EC50</td>\n",
       "    </tr>\n",
       "    <tr>\n",
       "      <th>7</th>\n",
       "      <td>WT</td>\n",
       "      <td>RIF</td>\n",
       "      <td>0.1</td>\n",
       "      <td>EC50</td>\n",
       "    </tr>\n",
       "    <tr>\n",
       "      <th>8</th>\n",
       "      <td>WT</td>\n",
       "      <td>INH</td>\n",
       "      <td>0.04</td>\n",
       "      <td>EC50</td>\n",
       "    </tr>\n",
       "    <tr>\n",
       "      <th>9</th>\n",
       "      <td>WT</td>\n",
       "      <td>BDQ</td>\n",
       "      <td>0.02</td>\n",
       "      <td>EC50</td>\n",
       "    </tr>\n",
       "    <tr>\n",
       "      <th rowspan=\"6\" valign=\"top\">5</th>\n",
       "      <th>4</th>\n",
       "      <td>RD1</td>\n",
       "      <td>CTRL</td>\n",
       "      <td>0</td>\n",
       "      <td>EC0</td>\n",
       "    </tr>\n",
       "    <tr>\n",
       "      <th>5</th>\n",
       "      <td>WT</td>\n",
       "      <td>CTRL</td>\n",
       "      <td>0</td>\n",
       "      <td>EC0</td>\n",
       "    </tr>\n",
       "    <tr>\n",
       "      <th>6</th>\n",
       "      <td>WT</td>\n",
       "      <td>PZA</td>\n",
       "      <td>400</td>\n",
       "      <td>EC99</td>\n",
       "    </tr>\n",
       "    <tr>\n",
       "      <th>7</th>\n",
       "      <td>WT</td>\n",
       "      <td>RIF</td>\n",
       "      <td>2</td>\n",
       "      <td>EC99</td>\n",
       "    </tr>\n",
       "    <tr>\n",
       "      <th>8</th>\n",
       "      <td>WT</td>\n",
       "      <td>INH</td>\n",
       "      <td>2</td>\n",
       "      <td>EC99</td>\n",
       "    </tr>\n",
       "    <tr>\n",
       "      <th>9</th>\n",
       "      <td>WT</td>\n",
       "      <td>BDQ</td>\n",
       "      <td>2.5</td>\n",
       "      <td>EC99</td>\n",
       "    </tr>\n",
       "    <tr>\n",
       "      <th rowspan=\"6\" valign=\"top\">6</th>\n",
       "      <th>4</th>\n",
       "      <td>RD1</td>\n",
       "      <td>CTRL</td>\n",
       "      <td>0</td>\n",
       "      <td>EC0</td>\n",
       "    </tr>\n",
       "    <tr>\n",
       "      <th>5</th>\n",
       "      <td>WT</td>\n",
       "      <td>CTRL</td>\n",
       "      <td>0</td>\n",
       "      <td>EC0</td>\n",
       "    </tr>\n",
       "    <tr>\n",
       "      <th>6</th>\n",
       "      <td>WT</td>\n",
       "      <td>PZA</td>\n",
       "      <td>400</td>\n",
       "      <td>EC99</td>\n",
       "    </tr>\n",
       "    <tr>\n",
       "      <th>7</th>\n",
       "      <td>WT</td>\n",
       "      <td>RIF</td>\n",
       "      <td>2</td>\n",
       "      <td>EC99</td>\n",
       "    </tr>\n",
       "    <tr>\n",
       "      <th>8</th>\n",
       "      <td>WT</td>\n",
       "      <td>INH</td>\n",
       "      <td>2</td>\n",
       "      <td>EC99</td>\n",
       "    </tr>\n",
       "    <tr>\n",
       "      <th>9</th>\n",
       "      <td>WT</td>\n",
       "      <td>BDQ</td>\n",
       "      <td>2.5</td>\n",
       "      <td>EC99</td>\n",
       "    </tr>\n",
       "  </tbody>\n",
       "</table>\n",
       "</div>"
      ],
      "text/plain": [
       "    Strain Compound Concentration ConcentrationEC\n",
       "3 4    RD1     CTRL             0             EC0\n",
       "  5     WT     CTRL             0             EC0\n",
       "  6     WT      PZA            60            EC50\n",
       "  7     WT      RIF           0.1            EC50\n",
       "  8     WT      INH          0.04            EC50\n",
       "  9     WT      BDQ          0.02            EC50\n",
       "4 4    RD1     CTRL             0             EC0\n",
       "  5     WT     CTRL             0             EC0\n",
       "  6     WT      PZA            60            EC50\n",
       "  7     WT      RIF           0.1            EC50\n",
       "  8     WT      INH          0.04            EC50\n",
       "  9     WT      BDQ          0.02            EC50\n",
       "5 4    RD1     CTRL             0             EC0\n",
       "  5     WT     CTRL             0             EC0\n",
       "  6     WT      PZA           400            EC99\n",
       "  7     WT      RIF             2            EC99\n",
       "  8     WT      INH             2            EC99\n",
       "  9     WT      BDQ           2.5            EC99\n",
       "6 4    RD1     CTRL             0             EC0\n",
       "  5     WT     CTRL             0             EC0\n",
       "  6     WT      PZA           400            EC99\n",
       "  7     WT      RIF             2            EC99\n",
       "  8     WT      INH             2            EC99\n",
       "  9     WT      BDQ           2.5            EC99"
      ]
     },
     "execution_count": 3,
     "metadata": {},
     "output_type": "execute_result"
    }
   ],
   "source": [
    "metadata_path = '/mnt/DATA/sandbox/pierre_live_cell_data/outputs/Replication_IPSDM_GFP/Assaylayout/20210602_Live_cell_IPSDMGFP_ATB.xml'\n",
    "assay_layout_df = utils.read_harmony_metadata(metadata_path, assay_layout=True)\n",
    "utils.read_harmony_metadata(metadata_path, assay_layout=True)"
   ]
  },
  {
   "cell_type": "markdown",
   "id": "fb913fcb",
   "metadata": {},
   "source": [
    "# Define corpus of to-be training data\n",
    "\n",
    "Currently only working with the first Z-plane `z = 1` as this shows the maximum spatial extent of the cell. Also only working with the GFP channel `channel = 1` as this is the macrophage marker."
   ]
  },
  {
   "cell_type": "code",
   "execution_count": 4,
   "id": "967b6d01",
   "metadata": {},
   "outputs": [],
   "source": [
    "plane = 1\n",
    "channel = 1"
   ]
  },
  {
   "cell_type": "markdown",
   "id": "369753f4",
   "metadata": {},
   "source": [
    "`set_time` ought to be set to sample a series of time points that capture the diversity of cellular morphology. Given that there are 75 frames in each time lapse, I will sample three even points from this duration."
   ]
  },
  {
   "cell_type": "code",
   "execution_count": 6,
   "id": "5d89ab25",
   "metadata": {},
   "outputs": [],
   "source": [
    "timepoints = [0,37,74]"
   ]
  },
  {
   "cell_type": "markdown",
   "id": "42856c44",
   "metadata": {},
   "source": [
    "#### Compile corpus of training data"
   ]
  },
  {
   "cell_type": "code",
   "execution_count": 9,
   "id": "3dbd954b",
   "metadata": {},
   "outputs": [
    {
     "data": {
      "application/vnd.jupyter.widget-view+json": {
       "model_id": "ae73e585f5d74181b6beee75e96402e7",
       "version_major": 2,
       "version_minor": 0
      },
      "text/plain": [
       "  0%|          | 0/24 [00:00<?, ?it/s]"
      ]
     },
     "metadata": {},
     "output_type": "display_data"
    }
   ],
   "source": [
    "gt_dict = dict()\n",
    "for line in tqdm(assay_layout_df.iterrows(), \n",
    "                 total = len(assay_layout_df)):\n",
    "    row, column = line[0]\n",
    "    for time in timepoints:\n",
    "        frame = tile.compile_mosaic(image_dir, \n",
    "                                    metadata, \n",
    "                                    row, \n",
    "                                    column, \n",
    "                                    set_channel=channel, \n",
    "                                    set_plane=plane, \n",
    "                                    set_time=time).compute().compute()\n",
    "        fn = metadata[(metadata['TimepointID'] == str(time))\n",
    "                   &(metadata['PlaneID'] == str(plane))\n",
    "                   &(metadata['ChannelID'] == str(channel))\n",
    "                   &(metadata['Row'] == str(row))\n",
    "                   &(metadata['Col'] == str(column))\n",
    "                    ]['URL'].iloc[0].replace('f01', 'f*')\n",
    "        gt_dict[fn] = frame"
   ]
  },
  {
   "cell_type": "markdown",
   "id": "ce1af7dc",
   "metadata": {},
   "source": [
    "## Bootstrap by segmenting the ground truth examples"
   ]
  },
  {
   "cell_type": "code",
   "execution_count": 18,
   "id": "8a081349",
   "metadata": {},
   "outputs": [
    {
     "data": {
      "application/vnd.jupyter.widget-view+json": {
       "model_id": "c205b4ed7bd448d892eaa865b9e139a4",
       "version_major": 2,
       "version_minor": 0
      },
      "text/plain": [
       "  0%|          | 0/72 [00:00<?, ?it/s]"
      ]
     },
     "metadata": {},
     "output_type": "display_data"
    }
   ],
   "source": [
    "mask_dict = dict()\n",
    "for fn in tqdm(gt_dict):\n",
    "    mask = segment(gt_dict[fn])\n",
    "    mask_dict[fn] = mask"
   ]
  },
  {
   "cell_type": "code",
   "execution_count": 53,
   "id": "101d6bcb",
   "metadata": {},
   "outputs": [],
   "source": [
    "np.save('mask_dict.npy', mask_dict)"
   ]
  },
  {
   "cell_type": "code",
   "execution_count": 54,
   "id": "c3f5fa7d",
   "metadata": {},
   "outputs": [
    {
     "data": {
      "application/vnd.jupyter.widget-view+json": {
       "model_id": "da8db5f3ffeb44a1a5e443342b675532",
       "version_major": 2,
       "version_minor": 0
      },
      "text/plain": [
       "  0%|          | 0/72 [00:00<?, ?it/s]"
      ]
     },
     "metadata": {},
     "output_type": "display_data"
    },
    {
     "name": "stderr",
     "output_type": "stream",
     "text": [
      "/tmp/ipykernel_25251/435857544.py:7: UserWarning: /mnt/DATA/macrohet/segmentation/training/ground_truth/r03c04f*p01-ch99sk1fk1fl1.tiff is a low contrast image\n",
      "  imsave(mask_fn, mask)\n",
      "/tmp/ipykernel_25251/435857544.py:11: UserWarning: /mnt/DATA/macrohet/segmentation/training/ground_truth/r03c04f*p01-ch99sk38fk1fl1.tiff_2023_01_10-01:54:00_pm.tiff is a low contrast image\n",
      "  imsave(mask_fn, mask)\n",
      "/tmp/ipykernel_25251/435857544.py:11: UserWarning: /mnt/DATA/macrohet/segmentation/training/ground_truth/r03c04f*p01-ch99sk75fk1fl1.tiff_2023_01_10-01:54:01_pm.tiff is a low contrast image\n",
      "  imsave(mask_fn, mask)\n",
      "/tmp/ipykernel_25251/435857544.py:11: UserWarning: /mnt/DATA/macrohet/segmentation/training/ground_truth/r03c05f*p01-ch99sk1fk1fl1.tiff_2023_01_10-01:54:01_pm.tiff is a low contrast image\n",
      "  imsave(mask_fn, mask)\n",
      "/tmp/ipykernel_25251/435857544.py:7: UserWarning: /mnt/DATA/macrohet/segmentation/training/ground_truth/r03c05f*p01-ch99sk38fk1fl1.tiff is a low contrast image\n",
      "  imsave(mask_fn, mask)\n",
      "/tmp/ipykernel_25251/435857544.py:7: UserWarning: /mnt/DATA/macrohet/segmentation/training/ground_truth/r03c05f*p01-ch99sk75fk1fl1.tiff is a low contrast image\n",
      "  imsave(mask_fn, mask)\n",
      "/tmp/ipykernel_25251/435857544.py:7: UserWarning: /mnt/DATA/macrohet/segmentation/training/ground_truth/r03c06f*p01-ch99sk1fk1fl1.tiff is a low contrast image\n",
      "  imsave(mask_fn, mask)\n",
      "/tmp/ipykernel_25251/435857544.py:7: UserWarning: /mnt/DATA/macrohet/segmentation/training/ground_truth/r03c06f*p01-ch99sk38fk1fl1.tiff is a low contrast image\n",
      "  imsave(mask_fn, mask)\n",
      "/tmp/ipykernel_25251/435857544.py:7: UserWarning: /mnt/DATA/macrohet/segmentation/training/ground_truth/r03c06f*p01-ch99sk75fk1fl1.tiff is a low contrast image\n",
      "  imsave(mask_fn, mask)\n",
      "/tmp/ipykernel_25251/435857544.py:7: UserWarning: /mnt/DATA/macrohet/segmentation/training/ground_truth/r03c07f*p01-ch99sk1fk1fl1.tiff is a low contrast image\n",
      "  imsave(mask_fn, mask)\n",
      "/tmp/ipykernel_25251/435857544.py:7: UserWarning: /mnt/DATA/macrohet/segmentation/training/ground_truth/r03c07f*p01-ch99sk38fk1fl1.tiff is a low contrast image\n",
      "  imsave(mask_fn, mask)\n",
      "/tmp/ipykernel_25251/435857544.py:7: UserWarning: /mnt/DATA/macrohet/segmentation/training/ground_truth/r03c07f*p01-ch99sk75fk1fl1.tiff is a low contrast image\n",
      "  imsave(mask_fn, mask)\n",
      "/tmp/ipykernel_25251/435857544.py:7: UserWarning: /mnt/DATA/macrohet/segmentation/training/ground_truth/r03c08f*p01-ch99sk1fk1fl1.tiff is a low contrast image\n",
      "  imsave(mask_fn, mask)\n",
      "/tmp/ipykernel_25251/435857544.py:7: UserWarning: /mnt/DATA/macrohet/segmentation/training/ground_truth/r03c08f*p01-ch99sk38fk1fl1.tiff is a low contrast image\n",
      "  imsave(mask_fn, mask)\n",
      "/tmp/ipykernel_25251/435857544.py:7: UserWarning: /mnt/DATA/macrohet/segmentation/training/ground_truth/r03c08f*p01-ch99sk75fk1fl1.tiff is a low contrast image\n",
      "  imsave(mask_fn, mask)\n",
      "/tmp/ipykernel_25251/435857544.py:7: UserWarning: /mnt/DATA/macrohet/segmentation/training/ground_truth/r03c09f*p01-ch99sk1fk1fl1.tiff is a low contrast image\n",
      "  imsave(mask_fn, mask)\n",
      "/tmp/ipykernel_25251/435857544.py:7: UserWarning: /mnt/DATA/macrohet/segmentation/training/ground_truth/r03c09f*p01-ch99sk38fk1fl1.tiff is a low contrast image\n",
      "  imsave(mask_fn, mask)\n",
      "/tmp/ipykernel_25251/435857544.py:7: UserWarning: /mnt/DATA/macrohet/segmentation/training/ground_truth/r03c09f*p01-ch99sk75fk1fl1.tiff is a low contrast image\n",
      "  imsave(mask_fn, mask)\n",
      "/tmp/ipykernel_25251/435857544.py:7: UserWarning: /mnt/DATA/macrohet/segmentation/training/ground_truth/r04c04f*p01-ch99sk1fk1fl1.tiff is a low contrast image\n",
      "  imsave(mask_fn, mask)\n",
      "/tmp/ipykernel_25251/435857544.py:7: UserWarning: /mnt/DATA/macrohet/segmentation/training/ground_truth/r04c04f*p01-ch99sk38fk1fl1.tiff is a low contrast image\n",
      "  imsave(mask_fn, mask)\n",
      "/tmp/ipykernel_25251/435857544.py:7: UserWarning: /mnt/DATA/macrohet/segmentation/training/ground_truth/r04c04f*p01-ch99sk75fk1fl1.tiff is a low contrast image\n",
      "  imsave(mask_fn, mask)\n",
      "/tmp/ipykernel_25251/435857544.py:7: UserWarning: /mnt/DATA/macrohet/segmentation/training/ground_truth/r04c05f*p01-ch99sk1fk1fl1.tiff is a low contrast image\n",
      "  imsave(mask_fn, mask)\n",
      "/tmp/ipykernel_25251/435857544.py:7: UserWarning: /mnt/DATA/macrohet/segmentation/training/ground_truth/r04c05f*p01-ch99sk38fk1fl1.tiff is a low contrast image\n",
      "  imsave(mask_fn, mask)\n",
      "/tmp/ipykernel_25251/435857544.py:7: UserWarning: /mnt/DATA/macrohet/segmentation/training/ground_truth/r04c05f*p01-ch99sk75fk1fl1.tiff is a low contrast image\n",
      "  imsave(mask_fn, mask)\n",
      "/tmp/ipykernel_25251/435857544.py:7: UserWarning: /mnt/DATA/macrohet/segmentation/training/ground_truth/r04c06f*p01-ch99sk1fk1fl1.tiff is a low contrast image\n",
      "  imsave(mask_fn, mask)\n",
      "/tmp/ipykernel_25251/435857544.py:7: UserWarning: /mnt/DATA/macrohet/segmentation/training/ground_truth/r04c06f*p01-ch99sk38fk1fl1.tiff is a low contrast image\n",
      "  imsave(mask_fn, mask)\n",
      "/tmp/ipykernel_25251/435857544.py:7: UserWarning: /mnt/DATA/macrohet/segmentation/training/ground_truth/r04c06f*p01-ch99sk75fk1fl1.tiff is a low contrast image\n",
      "  imsave(mask_fn, mask)\n",
      "/tmp/ipykernel_25251/435857544.py:7: UserWarning: /mnt/DATA/macrohet/segmentation/training/ground_truth/r04c07f*p01-ch99sk1fk1fl1.tiff is a low contrast image\n",
      "  imsave(mask_fn, mask)\n",
      "/tmp/ipykernel_25251/435857544.py:7: UserWarning: /mnt/DATA/macrohet/segmentation/training/ground_truth/r04c07f*p01-ch99sk38fk1fl1.tiff is a low contrast image\n",
      "  imsave(mask_fn, mask)\n",
      "/tmp/ipykernel_25251/435857544.py:7: UserWarning: /mnt/DATA/macrohet/segmentation/training/ground_truth/r04c07f*p01-ch99sk75fk1fl1.tiff is a low contrast image\n",
      "  imsave(mask_fn, mask)\n",
      "/tmp/ipykernel_25251/435857544.py:7: UserWarning: /mnt/DATA/macrohet/segmentation/training/ground_truth/r04c08f*p01-ch99sk1fk1fl1.tiff is a low contrast image\n",
      "  imsave(mask_fn, mask)\n",
      "/tmp/ipykernel_25251/435857544.py:7: UserWarning: /mnt/DATA/macrohet/segmentation/training/ground_truth/r04c08f*p01-ch99sk38fk1fl1.tiff is a low contrast image\n",
      "  imsave(mask_fn, mask)\n",
      "/tmp/ipykernel_25251/435857544.py:7: UserWarning: /mnt/DATA/macrohet/segmentation/training/ground_truth/r04c08f*p01-ch99sk75fk1fl1.tiff is a low contrast image\n",
      "  imsave(mask_fn, mask)\n",
      "/tmp/ipykernel_25251/435857544.py:7: UserWarning: /mnt/DATA/macrohet/segmentation/training/ground_truth/r04c09f*p01-ch99sk1fk1fl1.tiff is a low contrast image\n",
      "  imsave(mask_fn, mask)\n",
      "/tmp/ipykernel_25251/435857544.py:7: UserWarning: /mnt/DATA/macrohet/segmentation/training/ground_truth/r04c09f*p01-ch99sk38fk1fl1.tiff is a low contrast image\n",
      "  imsave(mask_fn, mask)\n",
      "/tmp/ipykernel_25251/435857544.py:7: UserWarning: /mnt/DATA/macrohet/segmentation/training/ground_truth/r04c09f*p01-ch99sk75fk1fl1.tiff is a low contrast image\n",
      "  imsave(mask_fn, mask)\n",
      "/tmp/ipykernel_25251/435857544.py:7: UserWarning: /mnt/DATA/macrohet/segmentation/training/ground_truth/r05c04f*p01-ch99sk1fk1fl1.tiff is a low contrast image\n",
      "  imsave(mask_fn, mask)\n",
      "/tmp/ipykernel_25251/435857544.py:7: UserWarning: /mnt/DATA/macrohet/segmentation/training/ground_truth/r05c04f*p01-ch99sk38fk1fl1.tiff is a low contrast image\n",
      "  imsave(mask_fn, mask)\n",
      "/tmp/ipykernel_25251/435857544.py:7: UserWarning: /mnt/DATA/macrohet/segmentation/training/ground_truth/r05c04f*p01-ch99sk75fk1fl1.tiff is a low contrast image\n",
      "  imsave(mask_fn, mask)\n",
      "/tmp/ipykernel_25251/435857544.py:7: UserWarning: /mnt/DATA/macrohet/segmentation/training/ground_truth/r05c05f*p01-ch99sk1fk1fl1.tiff is a low contrast image\n",
      "  imsave(mask_fn, mask)\n",
      "/tmp/ipykernel_25251/435857544.py:7: UserWarning: /mnt/DATA/macrohet/segmentation/training/ground_truth/r05c05f*p01-ch99sk38fk1fl1.tiff is a low contrast image\n",
      "  imsave(mask_fn, mask)\n",
      "/tmp/ipykernel_25251/435857544.py:7: UserWarning: /mnt/DATA/macrohet/segmentation/training/ground_truth/r05c05f*p01-ch99sk75fk1fl1.tiff is a low contrast image\n",
      "  imsave(mask_fn, mask)\n",
      "/tmp/ipykernel_25251/435857544.py:7: UserWarning: /mnt/DATA/macrohet/segmentation/training/ground_truth/r05c06f*p01-ch99sk1fk1fl1.tiff is a low contrast image\n",
      "  imsave(mask_fn, mask)\n",
      "/tmp/ipykernel_25251/435857544.py:7: UserWarning: /mnt/DATA/macrohet/segmentation/training/ground_truth/r05c06f*p01-ch99sk38fk1fl1.tiff is a low contrast image\n",
      "  imsave(mask_fn, mask)\n",
      "/tmp/ipykernel_25251/435857544.py:7: UserWarning: /mnt/DATA/macrohet/segmentation/training/ground_truth/r05c06f*p01-ch99sk75fk1fl1.tiff is a low contrast image\n",
      "  imsave(mask_fn, mask)\n",
      "/tmp/ipykernel_25251/435857544.py:7: UserWarning: /mnt/DATA/macrohet/segmentation/training/ground_truth/r05c07f*p01-ch99sk1fk1fl1.tiff is a low contrast image\n",
      "  imsave(mask_fn, mask)\n"
     ]
    },
    {
     "name": "stderr",
     "output_type": "stream",
     "text": [
      "/tmp/ipykernel_25251/435857544.py:7: UserWarning: /mnt/DATA/macrohet/segmentation/training/ground_truth/r05c07f*p01-ch99sk38fk1fl1.tiff is a low contrast image\n",
      "  imsave(mask_fn, mask)\n",
      "/tmp/ipykernel_25251/435857544.py:7: UserWarning: /mnt/DATA/macrohet/segmentation/training/ground_truth/r05c07f*p01-ch99sk75fk1fl1.tiff is a low contrast image\n",
      "  imsave(mask_fn, mask)\n",
      "/tmp/ipykernel_25251/435857544.py:7: UserWarning: /mnt/DATA/macrohet/segmentation/training/ground_truth/r05c08f*p01-ch99sk1fk1fl1.tiff is a low contrast image\n",
      "  imsave(mask_fn, mask)\n",
      "/tmp/ipykernel_25251/435857544.py:7: UserWarning: /mnt/DATA/macrohet/segmentation/training/ground_truth/r05c08f*p01-ch99sk38fk1fl1.tiff is a low contrast image\n",
      "  imsave(mask_fn, mask)\n",
      "/tmp/ipykernel_25251/435857544.py:7: UserWarning: /mnt/DATA/macrohet/segmentation/training/ground_truth/r05c08f*p01-ch99sk75fk1fl1.tiff is a low contrast image\n",
      "  imsave(mask_fn, mask)\n",
      "/tmp/ipykernel_25251/435857544.py:7: UserWarning: /mnt/DATA/macrohet/segmentation/training/ground_truth/r05c09f*p01-ch99sk1fk1fl1.tiff is a low contrast image\n",
      "  imsave(mask_fn, mask)\n",
      "/tmp/ipykernel_25251/435857544.py:7: UserWarning: /mnt/DATA/macrohet/segmentation/training/ground_truth/r05c09f*p01-ch99sk38fk1fl1.tiff is a low contrast image\n",
      "  imsave(mask_fn, mask)\n",
      "/tmp/ipykernel_25251/435857544.py:7: UserWarning: /mnt/DATA/macrohet/segmentation/training/ground_truth/r05c09f*p01-ch99sk75fk1fl1.tiff is a low contrast image\n",
      "  imsave(mask_fn, mask)\n",
      "/tmp/ipykernel_25251/435857544.py:7: UserWarning: /mnt/DATA/macrohet/segmentation/training/ground_truth/r06c04f*p01-ch99sk1fk1fl1.tiff is a low contrast image\n",
      "  imsave(mask_fn, mask)\n",
      "/tmp/ipykernel_25251/435857544.py:7: UserWarning: /mnt/DATA/macrohet/segmentation/training/ground_truth/r06c04f*p01-ch99sk38fk1fl1.tiff is a low contrast image\n",
      "  imsave(mask_fn, mask)\n",
      "/tmp/ipykernel_25251/435857544.py:7: UserWarning: /mnt/DATA/macrohet/segmentation/training/ground_truth/r06c04f*p01-ch99sk75fk1fl1.tiff is a low contrast image\n",
      "  imsave(mask_fn, mask)\n",
      "/tmp/ipykernel_25251/435857544.py:7: UserWarning: /mnt/DATA/macrohet/segmentation/training/ground_truth/r06c05f*p01-ch99sk1fk1fl1.tiff is a low contrast image\n",
      "  imsave(mask_fn, mask)\n",
      "/tmp/ipykernel_25251/435857544.py:7: UserWarning: /mnt/DATA/macrohet/segmentation/training/ground_truth/r06c05f*p01-ch99sk38fk1fl1.tiff is a low contrast image\n",
      "  imsave(mask_fn, mask)\n",
      "/tmp/ipykernel_25251/435857544.py:7: UserWarning: /mnt/DATA/macrohet/segmentation/training/ground_truth/r06c05f*p01-ch99sk75fk1fl1.tiff is a low contrast image\n",
      "  imsave(mask_fn, mask)\n",
      "/tmp/ipykernel_25251/435857544.py:7: UserWarning: /mnt/DATA/macrohet/segmentation/training/ground_truth/r06c06f*p01-ch99sk1fk1fl1.tiff is a low contrast image\n",
      "  imsave(mask_fn, mask)\n",
      "/tmp/ipykernel_25251/435857544.py:7: UserWarning: /mnt/DATA/macrohet/segmentation/training/ground_truth/r06c06f*p01-ch99sk38fk1fl1.tiff is a low contrast image\n",
      "  imsave(mask_fn, mask)\n",
      "/tmp/ipykernel_25251/435857544.py:7: UserWarning: /mnt/DATA/macrohet/segmentation/training/ground_truth/r06c06f*p01-ch99sk75fk1fl1.tiff is a low contrast image\n",
      "  imsave(mask_fn, mask)\n",
      "/tmp/ipykernel_25251/435857544.py:7: UserWarning: /mnt/DATA/macrohet/segmentation/training/ground_truth/r06c07f*p01-ch99sk1fk1fl1.tiff is a low contrast image\n",
      "  imsave(mask_fn, mask)\n",
      "/tmp/ipykernel_25251/435857544.py:7: UserWarning: /mnt/DATA/macrohet/segmentation/training/ground_truth/r06c07f*p01-ch99sk38fk1fl1.tiff is a low contrast image\n",
      "  imsave(mask_fn, mask)\n",
      "/tmp/ipykernel_25251/435857544.py:7: UserWarning: /mnt/DATA/macrohet/segmentation/training/ground_truth/r06c07f*p01-ch99sk75fk1fl1.tiff is a low contrast image\n",
      "  imsave(mask_fn, mask)\n",
      "/tmp/ipykernel_25251/435857544.py:7: UserWarning: /mnt/DATA/macrohet/segmentation/training/ground_truth/r06c08f*p01-ch99sk1fk1fl1.tiff is a low contrast image\n",
      "  imsave(mask_fn, mask)\n",
      "/tmp/ipykernel_25251/435857544.py:7: UserWarning: /mnt/DATA/macrohet/segmentation/training/ground_truth/r06c08f*p01-ch99sk38fk1fl1.tiff is a low contrast image\n",
      "  imsave(mask_fn, mask)\n",
      "/tmp/ipykernel_25251/435857544.py:7: UserWarning: /mnt/DATA/macrohet/segmentation/training/ground_truth/r06c08f*p01-ch99sk75fk1fl1.tiff is a low contrast image\n",
      "  imsave(mask_fn, mask)\n",
      "/tmp/ipykernel_25251/435857544.py:7: UserWarning: /mnt/DATA/macrohet/segmentation/training/ground_truth/r06c09f*p01-ch99sk1fk1fl1.tiff is a low contrast image\n",
      "  imsave(mask_fn, mask)\n",
      "/tmp/ipykernel_25251/435857544.py:7: UserWarning: /mnt/DATA/macrohet/segmentation/training/ground_truth/r06c09f*p01-ch99sk38fk1fl1.tiff is a low contrast image\n",
      "  imsave(mask_fn, mask)\n",
      "/tmp/ipykernel_25251/435857544.py:7: UserWarning: /mnt/DATA/macrohet/segmentation/training/ground_truth/r06c09f*p01-ch99sk75fk1fl1.tiff is a low contrast image\n",
      "  imsave(mask_fn, mask)\n"
     ]
    }
   ],
   "source": [
    "for fn in tqdm(gt_dict):\n",
    "    mask = mask_dict[fn]\n",
    "    \n",
    "    output_fn = os.path.join(output_dir, fn)\n",
    "    mask_fn = output_fn.replace('ch1', 'ch99')\n",
    "    if not os.path.exists(mask_fn):\n",
    "        imsave(mask_fn, mask)\n",
    "    else:\n",
    "        date = datetime.datetime.now().strftime(\"%Y_%m_%d-%I:%M:%S_%p\")\n",
    "        mask_fn = f'{mask_fn}_{date}.tiff'\n",
    "        imsave(mask_fn, mask)"
   ]
  },
  {
   "cell_type": "markdown",
   "id": "9891b94e",
   "metadata": {},
   "source": [
    "### Make stacks out of both ground truth and masks to manually edit in napari\n",
    "\n",
    "Not actually necessary as I will reboot napari for each frame"
   ]
  },
  {
   "cell_type": "code",
   "execution_count": 20,
   "id": "88328f8c",
   "metadata": {},
   "outputs": [],
   "source": [
    "mask_stack = []\n",
    "gt_stack = []\n",
    "for fn in gt_dict:\n",
    "    mask_stack.append(mask_dict[fn])\n",
    "    gt_stack.append(gt_dict[fn])\n",
    "mask_stack = np.stack(mask_stack, axis = 0)\n",
    "gt_stack = np.stack(gt_stack, axis = 0)"
   ]
  },
  {
   "cell_type": "markdown",
   "id": "7f0e855f",
   "metadata": {},
   "source": [
    "# Manually label"
   ]
  },
  {
   "cell_type": "code",
   "execution_count": 51,
   "id": "d7123fd6",
   "metadata": {},
   "outputs": [
    {
     "data": {
      "application/vnd.jupyter.widget-view+json": {
       "model_id": "22fd45d6df3a4ebd9bfb543d88392b18",
       "version_major": 2,
       "version_minor": 0
      },
      "text/plain": [
       "  0%|          | 0/72 [00:00<?, ?it/s]"
      ]
     },
     "metadata": {},
     "output_type": "display_data"
    },
    {
     "name": "stderr",
     "output_type": "stream",
     "text": [
      "/home/dayn/miniconda3/envs/aero/lib/python3.9/site-packages/napari_tools_menu/__init__.py:194: FutureWarning: Public access to Window.qt_viewer is deprecated and will be removed in\n",
      "v0.5.0. It is considered an \"implementation detail\" of the napari\n",
      "application, not part of the napari viewer model. If your use case\n",
      "requires access to qt_viewer, please open an issue to discuss.\n",
      "  self.tools_menu = ToolsMenu(self, self.qt_viewer.viewer)\n",
      "/tmp/ipykernel_25251/1148894440.py:15: UserWarning: /mnt/DATA/macrohet/segmentation/training/ground_truth/r03c04f*p01-ch1sk1fk1fl1.tiff is a low contrast image\n",
      "  imsave(output_fn, image)\n",
      "/tmp/ipykernel_25251/1148894440.py:18: UserWarning: /mnt/DATA/macrohet/segmentation/training/ground_truth/r03c04f*p01-ch99sk1fk1fl1.tiff is a low contrast image\n",
      "  imsave(mask_fn, mask)\n",
      "/home/dayn/miniconda3/envs/aero/lib/python3.9/site-packages/napari_tools_menu/__init__.py:194: FutureWarning: Public access to Window.qt_viewer is deprecated and will be removed in\n",
      "v0.5.0. It is considered an \"implementation detail\" of the napari\n",
      "application, not part of the napari viewer model. If your use case\n",
      "requires access to qt_viewer, please open an issue to discuss.\n",
      "  self.tools_menu = ToolsMenu(self, self.qt_viewer.viewer)\n",
      "WARNING: Unrecognized OpenGL version\n",
      "10-Jan-23 13:36:00 - vispy    - WARNING  - Unrecognized OpenGL version\n",
      "WARNING: Unrecognized OpenGL version\n",
      "10-Jan-23 13:36:00 - vispy    - WARNING  - Unrecognized OpenGL version\n"
     ]
    },
    {
     "ename": "KeyboardInterrupt",
     "evalue": "",
     "output_type": "error",
     "traceback": [
      "\u001b[0;31m---------------------------------------------------------------------------\u001b[0m",
      "\u001b[0;31mKeyboardInterrupt\u001b[0m                         Traceback (most recent call last)",
      "File \u001b[0;32m~/miniconda3/envs/aero/lib/python3.9/site-packages/napari/_qt/qt_main_window.py:162\u001b[0m, in \u001b[0;36m_QtMainWindow.event\u001b[0;34m(self, e)\u001b[0m\n\u001b[1;32m    159\u001b[0m     window \u001b[38;5;241m=\u001b[39m \u001b[38;5;28mcls\u001b[39m\u001b[38;5;241m.\u001b[39mcurrent()\n\u001b[1;32m    160\u001b[0m     \u001b[38;5;28;01mreturn\u001b[39;00m window\u001b[38;5;241m.\u001b[39m_qt_viewer\u001b[38;5;241m.\u001b[39mviewer \u001b[38;5;28;01mif\u001b[39;00m window \u001b[38;5;28;01melse\u001b[39;00m \u001b[38;5;28;01mNone\u001b[39;00m\n\u001b[0;32m--> 162\u001b[0m \u001b[38;5;28;01mdef\u001b[39;00m \u001b[38;5;21mevent\u001b[39m(\u001b[38;5;28mself\u001b[39m, e: QEvent) \u001b[38;5;241m-\u001b[39m\u001b[38;5;241m>\u001b[39m \u001b[38;5;28mbool\u001b[39m:\n\u001b[1;32m    163\u001b[0m     \u001b[38;5;28;01mif\u001b[39;00m (\n\u001b[1;32m    164\u001b[0m         e\u001b[38;5;241m.\u001b[39mtype() \u001b[38;5;241m==\u001b[39m QEvent\u001b[38;5;241m.\u001b[39mType\u001b[38;5;241m.\u001b[39mToolTip\n\u001b[1;32m    165\u001b[0m         \u001b[38;5;129;01mand\u001b[39;00m \u001b[38;5;28mself\u001b[39m\u001b[38;5;241m.\u001b[39m_qt_viewer\u001b[38;5;241m.\u001b[39mviewer\u001b[38;5;241m.\u001b[39mtooltip\u001b[38;5;241m.\u001b[39mvisible\n\u001b[1;32m    166\u001b[0m     ):\n\u001b[1;32m    167\u001b[0m         \u001b[38;5;66;03m# globalPos is for Qt5 e.globalPosition().toPoint() is for QT6\u001b[39;00m\n\u001b[1;32m    168\u001b[0m         \u001b[38;5;66;03m# https://doc-snapshots.qt.io/qt6-dev/qmouseevent-obsolete.html#globalPos\u001b[39;00m\n\u001b[1;32m    169\u001b[0m         pnt \u001b[38;5;241m=\u001b[39m (\n\u001b[1;32m    170\u001b[0m             e\u001b[38;5;241m.\u001b[39mglobalPosition()\u001b[38;5;241m.\u001b[39mtoPoint()\n\u001b[1;32m    171\u001b[0m             \u001b[38;5;28;01mif\u001b[39;00m \u001b[38;5;28mhasattr\u001b[39m(e, \u001b[38;5;124m\"\u001b[39m\u001b[38;5;124mglobalPosition\u001b[39m\u001b[38;5;124m\"\u001b[39m)\n\u001b[1;32m    172\u001b[0m             \u001b[38;5;28;01melse\u001b[39;00m e\u001b[38;5;241m.\u001b[39mglobalPos()\n\u001b[1;32m    173\u001b[0m         )\n",
      "\u001b[0;31mKeyboardInterrupt\u001b[0m: "
     ]
    },
    {
     "name": "stderr",
     "output_type": "stream",
     "text": [
      "/tmp/ipykernel_25251/1148894440.py:15: UserWarning: /mnt/DATA/macrohet/segmentation/training/ground_truth/r03c04f*p01-ch1sk38fk1fl1.tiff is a low contrast image\n",
      "  imsave(output_fn, image)\n",
      "/tmp/ipykernel_25251/1148894440.py:18: UserWarning: /mnt/DATA/macrohet/segmentation/training/ground_truth/r03c04f*p01-ch99sk38fk1fl1.tiff is a low contrast image\n",
      "  imsave(mask_fn, mask)\n",
      "/home/dayn/miniconda3/envs/aero/lib/python3.9/site-packages/napari_tools_menu/__init__.py:194: FutureWarning: Public access to Window.qt_viewer is deprecated and will be removed in\n",
      "v0.5.0. It is considered an \"implementation detail\" of the napari\n",
      "application, not part of the napari viewer model. If your use case\n",
      "requires access to qt_viewer, please open an issue to discuss.\n",
      "  self.tools_menu = ToolsMenu(self, self.qt_viewer.viewer)\n",
      "WARNING: Unrecognized OpenGL version\n",
      "10-Jan-23 13:52:37 - vispy    - WARNING  - Unrecognized OpenGL version\n",
      "WARNING: Unrecognized OpenGL version\n",
      "10-Jan-23 13:52:37 - vispy    - WARNING  - Unrecognized OpenGL version\n",
      "/tmp/ipykernel_25251/1148894440.py:15: UserWarning: /mnt/DATA/macrohet/segmentation/training/ground_truth/r03c04f*p01-ch1sk75fk1fl1.tiff is a low contrast image\n",
      "  imsave(output_fn, image)\n",
      "/tmp/ipykernel_25251/1148894440.py:18: UserWarning: /mnt/DATA/macrohet/segmentation/training/ground_truth/r03c04f*p01-ch99sk75fk1fl1.tiff is a low contrast image\n",
      "  imsave(mask_fn, mask)\n",
      "/home/dayn/miniconda3/envs/aero/lib/python3.9/site-packages/napari_tools_menu/__init__.py:194: FutureWarning: Public access to Window.qt_viewer is deprecated and will be removed in\n",
      "v0.5.0. It is considered an \"implementation detail\" of the napari\n",
      "application, not part of the napari viewer model. If your use case\n",
      "requires access to qt_viewer, please open an issue to discuss.\n",
      "  self.tools_menu = ToolsMenu(self, self.qt_viewer.viewer)\n",
      "WARNING: Unrecognized OpenGL version\n",
      "10-Jan-23 13:52:47 - vispy    - WARNING  - Unrecognized OpenGL version\n",
      "WARNING: Unrecognized OpenGL version\n",
      "10-Jan-23 13:52:47 - vispy    - WARNING  - Unrecognized OpenGL version\n",
      "/tmp/ipykernel_25251/1148894440.py:15: UserWarning: /mnt/DATA/macrohet/segmentation/training/ground_truth/r03c05f*p01-ch1sk1fk1fl1.tiff is a low contrast image\n",
      "  imsave(output_fn, image)\n",
      "/tmp/ipykernel_25251/1148894440.py:18: UserWarning: /mnt/DATA/macrohet/segmentation/training/ground_truth/r03c05f*p01-ch99sk1fk1fl1.tiff is a low contrast image\n",
      "  imsave(mask_fn, mask)\n",
      "\n",
      "KeyboardInterrupt\n",
      "\n"
     ]
    }
   ],
   "source": [
    "output_dir = '/mnt/DATA/macrohet/segmentation/training/ground_truth'\n",
    "for fn in tqdm(gt_dict):\n",
    "    v = napari.Viewer()\n",
    "    ### load first frame in napari for editing\n",
    "    image = gt_dict[fn][0,0,0,...]\n",
    "    v.add_image(image, name=f\"gfp {fn}\", contrast_limits=[100, 2000], \n",
    "                blending = 'additive', colormap= 'green')\n",
    "    mask = mask_dict[fn]\n",
    "    v.add_labels(mask, name = f'masks frame {fn}', visible = True,)    \n",
    "\n",
    "    ### wait until napari is closed to load the next frame and save out edited GT mask \n",
    "    v.show(block = True)\n",
    "    \n",
    "    output_fn = os.path.join(output_dir, fn)\n",
    "    imsave(output_fn, image)\n",
    "    mask_fn = output_fn.replace('ch1', 'ch99')\n",
    "    if not os.path.exists(mask_fn):\n",
    "        imsave(mask_fn, mask)\n",
    "    else:\n",
    "        date = datetime.datetime.now().strftime(\"%Y_%m_%d-%I:%M:%S_%p\")\n",
    "        mask_fn = f'{mask_fn}_{date}.tiff'\n",
    "        imsave(mask_fn, mask)"
   ]
  },
  {
   "cell_type": "code",
   "execution_count": 29,
   "id": "91ebbbbe",
   "metadata": {},
   "outputs": [
    {
     "name": "stderr",
     "output_type": "stream",
     "text": [
      "/home/dayn/miniconda3/envs/aero/lib/python3.9/site-packages/napari_tools_menu/__init__.py:194: FutureWarning: Public access to Window.qt_viewer is deprecated and will be removed in\n",
      "v0.5.0. It is considered an \"implementation detail\" of the napari\n",
      "application, not part of the napari viewer model. If your use case\n",
      "requires access to qt_viewer, please open an issue to discuss.\n",
      "  self.tools_menu = ToolsMenu(self, self.qt_viewer.viewer)\n"
     ]
    },
    {
     "data": {
      "text/plain": [
       "<Image layer 'images' at 0x7f56d28f3fd0>"
      ]
     },
     "execution_count": 29,
     "metadata": {},
     "output_type": "execute_result"
    }
   ],
   "source": [
    "import napari\n",
    "v = napari.Viewer()\n",
    "v.add_image(images, \n",
    "#             channel_axis=1,\n",
    "#             name=[\"macrophage\", \"mtb\"],\n",
    "#             colormap=[\"green\", \"magenta\"],\n",
    "#             contrast_limits=[[100, 2000], [100, 500]]\n",
    "            )"
   ]
  },
  {
   "cell_type": "code",
   "execution_count": 5,
   "id": "a6f0d99c",
   "metadata": {},
   "outputs": [
    {
     "name": "stdout",
     "output_type": "stream",
     "text": [
      "Help on function compile_mosaic in module octopuslite.tile:\n",
      "\n",
      "compile_mosaic(image_directory: os.PathLike, metadata: pandas.core.frame.DataFrame, row: int, col: int, input_transforms: List[Callable[[Union[numpy.ndarray, ForwardRef('dask.array.Array')]], Union[numpy.ndarray, ForwardRef('dask.array.Array')]]] = None, set_plane=None, set_channel=None, set_time=None) -> <module 'dask.array' from '/home/dayn/miniconda3/envs/aero/lib/python3.9/site-packages/dask/array/__init__.py'>\n",
      "    Uses the stitch function to compile a mosaic set of images that have been\n",
      "    exported and fragmented from the Harmony software and returns a dask array\n",
      "    that can be lazily loaded and stitched together on the fly.\n",
      "    Latest iteration is attempting to use dask delay to improve speed of\n",
      "    precompilation (WIP),\n",
      "    \n",
      "    Parameters\n",
      "    ----------\n",
      "    image_directory : os.PathLike\n",
      "        Location of fragmented images, typically located in a folder named\n",
      "        \"/Experiment_ID/Images\" that was exported form the Harmony software.\n",
      "    metadata : pd.DataFrame\n",
      "        pd.DataFrame representation of the experiment metadata file, typically\n",
      "        located in a file called \"/Experiment_ID/Index.idx.xml\". This metadata\n",
      "        can be extracted and formatted using the `read_harmony_metadata`\n",
      "        function in `utils.py`.\n",
      "    row : str\n",
      "        Each experiment will be conducted over a multiwell plate, so the row and\n",
      "        column of the desired well needs to be defined as a string input. This\n",
      "        input defines the row of choice.\n",
      "    col : str\n",
      "        Corresponding column of choice.\n",
      "    input_transforms : List[Callable[[ArrayLike], ArrayLike]]\n",
      "        Optional pre-processing transformations that can be applied to each\n",
      "        image, such as a crop, a transpose or a background removal.\n",
      "    set_plane : int\n",
      "        Optional input to define a single plane to compile. If left blank then\n",
      "        mosaic will be compiled over all planes available.\n",
      "    set_channel : int\n",
      "        Optional input to define a single channel to compile. If left blank then\n",
      "        mosaic will be compiled over all channels available.\n",
      "    set_time : int\n",
      "        Optional input to define a single frame to compile. If left blank then\n",
      "        mosaic will be compiled over all frames available.\n",
      "\n"
     ]
    }
   ],
   "source": [
    "help(tile.compile_mosaic)"
   ]
  },
  {
   "cell_type": "markdown",
   "id": "1d13ef48",
   "metadata": {},
   "source": [
    "# Segment \n",
    "Let us start simple, only segmenting the lowest Z plane where the largest regions of cells are and only ch1 (GFP) where the GFP signal is."
   ]
  },
  {
   "cell_type": "code",
   "execution_count": 7,
   "id": "7c4e0d20",
   "metadata": {},
   "outputs": [],
   "source": [
    "import dask.array as da\n",
    "from tqdm.auto import tqdm"
   ]
  },
  {
   "cell_type": "code",
   "execution_count": null,
   "id": "fc519254",
   "metadata": {},
   "outputs": [],
   "source": [
    "mask_stack = []\n",
    "for n, timepoint in tqdm(enumerate(images), total = len(images)):\n",
    "    ### extract GFP channel and lowest Z plane from single time point\n",
    "    gfp_z0_frame = timepoint[0,0,...]\n",
    "    masks = segment(frame)\n",
    "    mask_stack.append(masks)\n",
    "mask_images = da.stack(mask_stack, axis = 0) "
   ]
  },
  {
   "cell_type": "code",
   "execution_count": 31,
   "id": "02d62e40",
   "metadata": {},
   "outputs": [],
   "source": [
    "mask_images = da.stack(mask_stack, axis = 0) "
   ]
  },
  {
   "cell_type": "markdown",
   "id": "6e9ad6e9",
   "metadata": {},
   "source": [
    "# Testing different segmentation parameters "
   ]
  },
  {
   "cell_type": "code",
   "execution_count": 36,
   "id": "cd3235d6",
   "metadata": {},
   "outputs": [],
   "source": [
    "### average cell diameter\n",
    "diameters = [200, 250, 300]\n",
    "### flow threshold, larger value means more ROIs (maybe ill fitting), lower means fewer ROIs \n",
    "flow_thresholds = [0.0, 0.4, 0.6, 0.8]\n",
    "### cellprob_threshold, larger is is fewer ROIs, lower means more...? \n",
    "# cellprobs_thresholds = [-0.2, 0.0, 0.2]"
   ]
  },
  {
   "cell_type": "code",
   "execution_count": 34,
   "id": "e459efc5",
   "metadata": {},
   "outputs": [],
   "source": [
    "import itertools"
   ]
  },
  {
   "cell_type": "code",
   "execution_count": 58,
   "id": "c031708b",
   "metadata": {},
   "outputs": [
    {
     "data": {
      "application/vnd.jupyter.widget-view+json": {
       "model_id": "",
       "version_major": 2,
       "version_minor": 0
      },
      "text/plain": [
       "  0%|          | 0/12 [00:00<?, ?it/s]"
      ]
     },
     "metadata": {},
     "output_type": "display_data"
    },
    {
     "data": {
      "application/vnd.jupyter.widget-view+json": {
       "model_id": "",
       "version_major": 2,
       "version_minor": 0
      },
      "text/plain": [
       "  0%|          | 0/75 [00:00<?, ?it/s]"
      ]
     },
     "metadata": {},
     "output_type": "display_data"
    },
    {
     "data": {
      "application/vnd.jupyter.widget-view+json": {
       "model_id": "",
       "version_major": 2,
       "version_minor": 0
      },
      "text/plain": [
       "  0%|          | 0/75 [00:00<?, ?it/s]"
      ]
     },
     "metadata": {},
     "output_type": "display_data"
    },
    {
     "data": {
      "application/vnd.jupyter.widget-view+json": {
       "model_id": "",
       "version_major": 2,
       "version_minor": 0
      },
      "text/plain": [
       "  0%|          | 0/75 [00:00<?, ?it/s]"
      ]
     },
     "metadata": {},
     "output_type": "display_data"
    },
    {
     "data": {
      "application/vnd.jupyter.widget-view+json": {
       "model_id": "",
       "version_major": 2,
       "version_minor": 0
      },
      "text/plain": [
       "  0%|          | 0/75 [00:00<?, ?it/s]"
      ]
     },
     "metadata": {},
     "output_type": "display_data"
    },
    {
     "data": {
      "application/vnd.jupyter.widget-view+json": {
       "model_id": "",
       "version_major": 2,
       "version_minor": 0
      },
      "text/plain": [
       "  0%|          | 0/75 [00:00<?, ?it/s]"
      ]
     },
     "metadata": {},
     "output_type": "display_data"
    },
    {
     "data": {
      "application/vnd.jupyter.widget-view+json": {
       "model_id": "",
       "version_major": 2,
       "version_minor": 0
      },
      "text/plain": [
       "  0%|          | 0/75 [00:00<?, ?it/s]"
      ]
     },
     "metadata": {},
     "output_type": "display_data"
    },
    {
     "data": {
      "application/vnd.jupyter.widget-view+json": {
       "model_id": "",
       "version_major": 2,
       "version_minor": 0
      },
      "text/plain": [
       "  0%|          | 0/75 [00:00<?, ?it/s]"
      ]
     },
     "metadata": {},
     "output_type": "display_data"
    },
    {
     "data": {
      "application/vnd.jupyter.widget-view+json": {
       "model_id": "",
       "version_major": 2,
       "version_minor": 0
      },
      "text/plain": [
       "  0%|          | 0/75 [00:00<?, ?it/s]"
      ]
     },
     "metadata": {},
     "output_type": "display_data"
    },
    {
     "data": {
      "application/vnd.jupyter.widget-view+json": {
       "model_id": "",
       "version_major": 2,
       "version_minor": 0
      },
      "text/plain": [
       "  0%|          | 0/75 [00:00<?, ?it/s]"
      ]
     },
     "metadata": {},
     "output_type": "display_data"
    },
    {
     "data": {
      "application/vnd.jupyter.widget-view+json": {
       "model_id": "",
       "version_major": 2,
       "version_minor": 0
      },
      "text/plain": [
       "  0%|          | 0/75 [00:00<?, ?it/s]"
      ]
     },
     "metadata": {},
     "output_type": "display_data"
    },
    {
     "data": {
      "application/vnd.jupyter.widget-view+json": {
       "model_id": "",
       "version_major": 2,
       "version_minor": 0
      },
      "text/plain": [
       "  0%|          | 0/75 [00:00<?, ?it/s]"
      ]
     },
     "metadata": {},
     "output_type": "display_data"
    },
    {
     "data": {
      "application/vnd.jupyter.widget-view+json": {
       "model_id": "",
       "version_major": 2,
       "version_minor": 0
      },
      "text/plain": [
       "  0%|          | 0/75 [00:00<?, ?it/s]"
      ]
     },
     "metadata": {},
     "output_type": "display_data"
    }
   ],
   "source": [
    "mask_dict = dict()\n",
    "params = list(itertools.product(diameters, flow_thresholds))\n",
    "for diameter, flow_threshold in tqdm(params, total = len(params)):\n",
    "    mask_stack = []\n",
    "    for timepoint in tqdm(images, total = len(images), leave = False):\n",
    "        ### extract GFP channel and lowest Z plane from single time point\n",
    "        gfp_z0_frame = timepoint[0,0,...]\n",
    "        masks, flows, styles, diams = model.eval(gfp_z0_frame, diameter=diameter, channels=[0,0],\n",
    "                                             flow_threshold=flow_threshold, cellprob_threshold=0)        \n",
    "        mask_stack.append(masks)\n",
    "    mask_images = da.stack(mask_stack, axis = 0) \n",
    "    mask_dict[(diameter, flow_threshold)] = mask_images"
   ]
  },
  {
   "cell_type": "code",
   "execution_count": 59,
   "id": "d27f523b",
   "metadata": {},
   "outputs": [
    {
     "data": {
      "text/plain": [
       "{(200,\n",
       "  0.0): dask.array<stack, shape=(75, 6048, 6048), dtype=uint16, chunksize=(1, 6048, 6048), chunktype=numpy.ndarray>,\n",
       " (200,\n",
       "  0.4): dask.array<stack, shape=(75, 6048, 6048), dtype=uint16, chunksize=(1, 6048, 6048), chunktype=numpy.ndarray>,\n",
       " (200,\n",
       "  0.6): dask.array<stack, shape=(75, 6048, 6048), dtype=uint16, chunksize=(1, 6048, 6048), chunktype=numpy.ndarray>,\n",
       " (200,\n",
       "  0.8): dask.array<stack, shape=(75, 6048, 6048), dtype=uint16, chunksize=(1, 6048, 6048), chunktype=numpy.ndarray>,\n",
       " (250,\n",
       "  0.0): dask.array<stack, shape=(75, 6048, 6048), dtype=uint16, chunksize=(1, 6048, 6048), chunktype=numpy.ndarray>,\n",
       " (250,\n",
       "  0.4): dask.array<stack, shape=(75, 6048, 6048), dtype=uint16, chunksize=(1, 6048, 6048), chunktype=numpy.ndarray>,\n",
       " (250,\n",
       "  0.6): dask.array<stack, shape=(75, 6048, 6048), dtype=uint16, chunksize=(1, 6048, 6048), chunktype=numpy.ndarray>,\n",
       " (250,\n",
       "  0.8): dask.array<stack, shape=(75, 6048, 6048), dtype=uint16, chunksize=(1, 6048, 6048), chunktype=numpy.ndarray>,\n",
       " (300,\n",
       "  0.0): dask.array<stack, shape=(75, 6048, 6048), dtype=uint16, chunksize=(1, 6048, 6048), chunktype=numpy.ndarray>,\n",
       " (300,\n",
       "  0.4): dask.array<stack, shape=(75, 6048, 6048), dtype=uint16, chunksize=(1, 6048, 6048), chunktype=numpy.ndarray>,\n",
       " (300,\n",
       "  0.6): dask.array<stack, shape=(75, 6048, 6048), dtype=uint16, chunksize=(1, 6048, 6048), chunktype=numpy.ndarray>,\n",
       " (300,\n",
       "  0.8): dask.array<stack, shape=(75, 6048, 6048), dtype=uint16, chunksize=(1, 6048, 6048), chunktype=numpy.ndarray>}"
      ]
     },
     "execution_count": 59,
     "metadata": {},
     "output_type": "execute_result"
    }
   ],
   "source": [
    "mask_dict"
   ]
  },
  {
   "cell_type": "code",
   "execution_count": 62,
   "id": "95082b1d",
   "metadata": {},
   "outputs": [],
   "source": [
    "import numpy as np"
   ]
  },
  {
   "cell_type": "code",
   "execution_count": 63,
   "id": "13b541ba",
   "metadata": {},
   "outputs": [],
   "source": [
    "np.save('mask_dict.npy', mask_dict)"
   ]
  },
  {
   "cell_type": "markdown",
   "id": "10ac8cda",
   "metadata": {},
   "source": [
    "# Testing different segmentation parameters "
   ]
  },
  {
   "cell_type": "code",
   "execution_count": 8,
   "id": "6358fd79",
   "metadata": {},
   "outputs": [],
   "source": [
    "### average cell diameter\n",
    "# diameters = [200, 250, 300]\n",
    "diameters = [150, 225, 275, 325, 375]\n",
    "### flow threshold, larger value means more ROIs (maybe ill fitting), lower means fewer ROIs \n",
    "# flow_thresholds = [0.0, 0.4, 0.6, 0.8]\n",
    "flow_thresholds = [0.1, 0.2, 0.3, 0.5, 1, 1.2, 1.5]\n",
    "\n",
    "### cellprob_threshold, larger is is fewer ROIs, lower means more...? \n",
    "# cellprobs_thresholds = [-0.2, 0.0, 0.2]"
   ]
  },
  {
   "cell_type": "code",
   "execution_count": 16,
   "id": "dfbbdab5",
   "metadata": {},
   "outputs": [],
   "source": [
    "import itertools, os\n",
    "import numpy as np"
   ]
  },
  {
   "cell_type": "code",
   "execution_count": 10,
   "id": "4662658d",
   "metadata": {},
   "outputs": [
    {
     "data": {
      "text/plain": [
       "35"
      ]
     },
     "execution_count": 10,
     "metadata": {},
     "output_type": "execute_result"
    }
   ],
   "source": [
    "params = list(itertools.product(diameters, flow_thresholds))\n",
    "len(params)"
   ]
  },
  {
   "cell_type": "code",
   "execution_count": 17,
   "id": "be2b13e7",
   "metadata": {},
   "outputs": [
    {
     "name": "stderr",
     "output_type": "stream",
     "text": [
      "/home/dayn/miniconda3/envs/aero/lib/python3.9/site-packages/dask/array/core.py:1701: FutureWarning: The `numpy.save` function is not implemented by Dask array. You may want to use the da.map_blocks function or something similar to silence this warning. Your code may stop working in a future release.\n",
      "  warnings.warn(\n"
     ]
    }
   ],
   "source": [
    "np.save(f'd{diameter}_ft{flow_threshold}_masks.npy', mask_images)"
   ]
  },
  {
   "cell_type": "code",
   "execution_count": 22,
   "id": "ec3f70f9",
   "metadata": {},
   "outputs": [
    {
     "data": {
      "application/vnd.jupyter.widget-view+json": {
       "model_id": "6a6a206bc0644126b9a36894d5f4cecd",
       "version_major": 2,
       "version_minor": 0
      },
      "text/plain": [
       "  0%|          | 0/35 [00:00<?, ?it/s]"
      ]
     },
     "metadata": {},
     "output_type": "display_data"
    },
    {
     "name": "stdout",
     "output_type": "stream",
     "text": [
      "Found d150_ft0.1_masks.npy, skipping to next params\n",
      "Found d150_ft0.2_masks.npy, skipping to next params\n",
      "Found d150_ft0.3_masks.npy, skipping to next params\n",
      "Found d150_ft0.5_masks.npy, skipping to next params\n",
      "Found d150_ft1_masks.npy, skipping to next params\n",
      "Found d150_ft1.2_masks.npy, skipping to next params\n",
      "Found d150_ft1.5_masks.npy, skipping to next params\n",
      "Found d225_ft0.1_masks.npy, skipping to next params\n",
      "Found d225_ft0.2_masks.npy, skipping to next params\n",
      "Found d225_ft0.3_masks.npy, skipping to next params\n",
      "Found d225_ft0.5_masks.npy, skipping to next params\n",
      "Found d225_ft1_masks.npy, skipping to next params\n",
      "Found d225_ft1.2_masks.npy, skipping to next params\n",
      "Found d225_ft1.5_masks.npy, skipping to next params\n",
      "Found d275_ft0.1_masks.npy, skipping to next params\n",
      "Found d275_ft0.2_masks.npy, skipping to next params\n",
      "Found d275_ft0.3_masks.npy, skipping to next params\n",
      "Found d275_ft0.5_masks.npy, skipping to next params\n",
      "Found d275_ft1_masks.npy, skipping to next params\n",
      "Found d275_ft1.2_masks.npy, skipping to next params\n",
      "Found d275_ft1.5_masks.npy, skipping to next params\n",
      "Found d325_ft0.1_masks.npy, skipping to next params\n",
      "Found d325_ft0.2_masks.npy, skipping to next params\n",
      "Found d325_ft0.3_masks.npy, skipping to next params\n"
     ]
    },
    {
     "data": {
      "application/vnd.jupyter.widget-view+json": {
       "model_id": "",
       "version_major": 2,
       "version_minor": 0
      },
      "text/plain": [
       "  0%|          | 0/75 [00:00<?, ?it/s]"
      ]
     },
     "metadata": {},
     "output_type": "display_data"
    },
    {
     "name": "stderr",
     "output_type": "stream",
     "text": [
      "/home/dayn/miniconda3/envs/aero/lib/python3.9/site-packages/dask/array/core.py:1701: FutureWarning: The `numpy.save` function is not implemented by Dask array. You may want to use the da.map_blocks function or something similar to silence this warning. Your code may stop working in a future release.\n",
      "  warnings.warn(\n"
     ]
    },
    {
     "data": {
      "application/vnd.jupyter.widget-view+json": {
       "model_id": "",
       "version_major": 2,
       "version_minor": 0
      },
      "text/plain": [
       "  0%|          | 0/75 [00:00<?, ?it/s]"
      ]
     },
     "metadata": {},
     "output_type": "display_data"
    },
    {
     "name": "stderr",
     "output_type": "stream",
     "text": [
      "/home/dayn/miniconda3/envs/aero/lib/python3.9/site-packages/dask/array/core.py:1701: FutureWarning: The `numpy.save` function is not implemented by Dask array. You may want to use the da.map_blocks function or something similar to silence this warning. Your code may stop working in a future release.\n",
      "  warnings.warn(\n"
     ]
    },
    {
     "data": {
      "application/vnd.jupyter.widget-view+json": {
       "model_id": "",
       "version_major": 2,
       "version_minor": 0
      },
      "text/plain": [
       "  0%|          | 0/75 [00:00<?, ?it/s]"
      ]
     },
     "metadata": {},
     "output_type": "display_data"
    },
    {
     "name": "stderr",
     "output_type": "stream",
     "text": [
      "/home/dayn/miniconda3/envs/aero/lib/python3.9/site-packages/dask/array/core.py:1701: FutureWarning: The `numpy.save` function is not implemented by Dask array. You may want to use the da.map_blocks function or something similar to silence this warning. Your code may stop working in a future release.\n",
      "  warnings.warn(\n"
     ]
    },
    {
     "data": {
      "application/vnd.jupyter.widget-view+json": {
       "model_id": "dc56b45eeeeb4f23b48980b0c87c2a99",
       "version_major": 2,
       "version_minor": 0
      },
      "text/plain": [
       "  0%|          | 0/75 [00:00<?, ?it/s]"
      ]
     },
     "metadata": {},
     "output_type": "display_data"
    },
    {
     "ename": "KeyboardInterrupt",
     "evalue": "",
     "output_type": "error",
     "traceback": [
      "\u001b[0;31m---------------------------------------------------------------------------\u001b[0m",
      "\u001b[0;31mKeyboardInterrupt\u001b[0m                         Traceback (most recent call last)",
      "Input \u001b[0;32mIn [22]\u001b[0m, in \u001b[0;36m<cell line: 1>\u001b[0;34m()\u001b[0m\n\u001b[1;32m      6\u001b[0m \u001b[38;5;28;01mfor\u001b[39;00m timepoint \u001b[38;5;129;01min\u001b[39;00m tqdm(images, total \u001b[38;5;241m=\u001b[39m \u001b[38;5;28mlen\u001b[39m(images), leave \u001b[38;5;241m=\u001b[39m \u001b[38;5;28;01mFalse\u001b[39;00m):\n\u001b[1;32m      7\u001b[0m     \u001b[38;5;66;03m### extract GFP channel and lowest Z plane from single time point\u001b[39;00m\n\u001b[1;32m      8\u001b[0m     gfp_z0_frame \u001b[38;5;241m=\u001b[39m timepoint[\u001b[38;5;241m0\u001b[39m,\u001b[38;5;241m0\u001b[39m,\u001b[38;5;241m.\u001b[39m\u001b[38;5;241m.\u001b[39m\u001b[38;5;241m.\u001b[39m]\n\u001b[0;32m----> 9\u001b[0m     masks, flows, styles, diams \u001b[38;5;241m=\u001b[39m \u001b[43mmodel\u001b[49m\u001b[38;5;241;43m.\u001b[39;49m\u001b[43meval\u001b[49m\u001b[43m(\u001b[49m\u001b[43mgfp_z0_frame\u001b[49m\u001b[43m,\u001b[49m\u001b[43m \u001b[49m\u001b[43mdiameter\u001b[49m\u001b[38;5;241;43m=\u001b[39;49m\u001b[43mdiameter\u001b[49m\u001b[43m,\u001b[49m\u001b[43m \u001b[49m\u001b[43mchannels\u001b[49m\u001b[38;5;241;43m=\u001b[39;49m\u001b[43m[\u001b[49m\u001b[38;5;241;43m0\u001b[39;49m\u001b[43m,\u001b[49m\u001b[38;5;241;43m0\u001b[39;49m\u001b[43m]\u001b[49m\u001b[43m,\u001b[49m\n\u001b[1;32m     10\u001b[0m \u001b[43m                                         \u001b[49m\u001b[43mflow_threshold\u001b[49m\u001b[38;5;241;43m=\u001b[39;49m\u001b[43mflow_threshold\u001b[49m\u001b[43m,\u001b[49m\u001b[43m \u001b[49m\u001b[43mcellprob_threshold\u001b[49m\u001b[38;5;241;43m=\u001b[39;49m\u001b[38;5;241;43m0\u001b[39;49m\u001b[43m)\u001b[49m        \n\u001b[1;32m     11\u001b[0m     mask_stack\u001b[38;5;241m.\u001b[39mappend(masks)\n\u001b[1;32m     12\u001b[0m mask_images \u001b[38;5;241m=\u001b[39m da\u001b[38;5;241m.\u001b[39mstack(mask_stack, axis \u001b[38;5;241m=\u001b[39m \u001b[38;5;241m0\u001b[39m) \n",
      "File \u001b[0;32m~/miniconda3/envs/aero/lib/python3.9/site-packages/cellpose/models.py:238\u001b[0m, in \u001b[0;36mCellpose.eval\u001b[0;34m(self, x, batch_size, channels, channel_axis, z_axis, invert, normalize, diameter, do_3D, anisotropy, net_avg, augment, tile, tile_overlap, resample, interp, flow_threshold, cellprob_threshold, min_size, stitch_threshold, rescale, progress, model_loaded)\u001b[0m\n\u001b[1;32m    236\u001b[0m tic \u001b[38;5;241m=\u001b[39m time\u001b[38;5;241m.\u001b[39mtime()\n\u001b[1;32m    237\u001b[0m models_logger\u001b[38;5;241m.\u001b[39minfo(\u001b[38;5;124m'\u001b[39m\u001b[38;5;124m~~~ FINDING MASKS ~~~\u001b[39m\u001b[38;5;124m'\u001b[39m)\n\u001b[0;32m--> 238\u001b[0m masks, flows, styles \u001b[38;5;241m=\u001b[39m \u001b[38;5;28;43mself\u001b[39;49m\u001b[38;5;241;43m.\u001b[39;49m\u001b[43mcp\u001b[49m\u001b[38;5;241;43m.\u001b[39;49m\u001b[43meval\u001b[49m\u001b[43m(\u001b[49m\u001b[43mx\u001b[49m\u001b[43m,\u001b[49m\u001b[43m \u001b[49m\n\u001b[1;32m    239\u001b[0m \u001b[43m                                    \u001b[49m\u001b[43mbatch_size\u001b[49m\u001b[38;5;241;43m=\u001b[39;49m\u001b[43mbatch_size\u001b[49m\u001b[43m,\u001b[49m\u001b[43m \u001b[49m\n\u001b[1;32m    240\u001b[0m \u001b[43m                                    \u001b[49m\u001b[43minvert\u001b[49m\u001b[38;5;241;43m=\u001b[39;49m\u001b[43minvert\u001b[49m\u001b[43m,\u001b[49m\u001b[43m \u001b[49m\n\u001b[1;32m    241\u001b[0m \u001b[43m                                    \u001b[49m\u001b[43mnormalize\u001b[49m\u001b[38;5;241;43m=\u001b[39;49m\u001b[43mnormalize\u001b[49m\u001b[43m,\u001b[49m\n\u001b[1;32m    242\u001b[0m \u001b[43m                                    \u001b[49m\u001b[43mdiameter\u001b[49m\u001b[38;5;241;43m=\u001b[39;49m\u001b[43mdiameter\u001b[49m\u001b[43m,\u001b[49m\n\u001b[1;32m    243\u001b[0m \u001b[43m                                    \u001b[49m\u001b[43mrescale\u001b[49m\u001b[38;5;241;43m=\u001b[39;49m\u001b[43mrescale\u001b[49m\u001b[43m,\u001b[49m\u001b[43m \u001b[49m\n\u001b[1;32m    244\u001b[0m \u001b[43m                                    \u001b[49m\u001b[43manisotropy\u001b[49m\u001b[38;5;241;43m=\u001b[39;49m\u001b[43manisotropy\u001b[49m\u001b[43m,\u001b[49m\u001b[43m \u001b[49m\n\u001b[1;32m    245\u001b[0m \u001b[43m                                    \u001b[49m\u001b[43mchannels\u001b[49m\u001b[38;5;241;43m=\u001b[39;49m\u001b[43mchannels\u001b[49m\u001b[43m,\u001b[49m\n\u001b[1;32m    246\u001b[0m \u001b[43m                                    \u001b[49m\u001b[43mchannel_axis\u001b[49m\u001b[38;5;241;43m=\u001b[39;49m\u001b[43mchannel_axis\u001b[49m\u001b[43m,\u001b[49m\u001b[43m \u001b[49m\n\u001b[1;32m    247\u001b[0m \u001b[43m                                    \u001b[49m\u001b[43mz_axis\u001b[49m\u001b[38;5;241;43m=\u001b[39;49m\u001b[43mz_axis\u001b[49m\u001b[43m,\u001b[49m\n\u001b[1;32m    248\u001b[0m \u001b[43m                                    \u001b[49m\u001b[43maugment\u001b[49m\u001b[38;5;241;43m=\u001b[39;49m\u001b[43maugment\u001b[49m\u001b[43m,\u001b[49m\u001b[43m \u001b[49m\n\u001b[1;32m    249\u001b[0m \u001b[43m                                    \u001b[49m\u001b[43mtile\u001b[49m\u001b[38;5;241;43m=\u001b[39;49m\u001b[43mtile\u001b[49m\u001b[43m,\u001b[49m\u001b[43m \u001b[49m\n\u001b[1;32m    250\u001b[0m \u001b[43m                                    \u001b[49m\u001b[43mdo_3D\u001b[49m\u001b[38;5;241;43m=\u001b[39;49m\u001b[43mdo_3D\u001b[49m\u001b[43m,\u001b[49m\u001b[43m \u001b[49m\n\u001b[1;32m    251\u001b[0m \u001b[43m                                    \u001b[49m\u001b[43mnet_avg\u001b[49m\u001b[38;5;241;43m=\u001b[39;49m\u001b[43mnet_avg\u001b[49m\u001b[43m,\u001b[49m\u001b[43m \u001b[49m\n\u001b[1;32m    252\u001b[0m \u001b[43m                                    \u001b[49m\u001b[43mprogress\u001b[49m\u001b[38;5;241;43m=\u001b[39;49m\u001b[43mprogress\u001b[49m\u001b[43m,\u001b[49m\n\u001b[1;32m    253\u001b[0m \u001b[43m                                    \u001b[49m\u001b[43mtile_overlap\u001b[49m\u001b[38;5;241;43m=\u001b[39;49m\u001b[43mtile_overlap\u001b[49m\u001b[43m,\u001b[49m\n\u001b[1;32m    254\u001b[0m \u001b[43m                                    \u001b[49m\u001b[43mresample\u001b[49m\u001b[38;5;241;43m=\u001b[39;49m\u001b[43mresample\u001b[49m\u001b[43m,\u001b[49m\n\u001b[1;32m    255\u001b[0m \u001b[43m                                    \u001b[49m\u001b[43minterp\u001b[49m\u001b[38;5;241;43m=\u001b[39;49m\u001b[43minterp\u001b[49m\u001b[43m,\u001b[49m\n\u001b[1;32m    256\u001b[0m \u001b[43m                                    \u001b[49m\u001b[43mflow_threshold\u001b[49m\u001b[38;5;241;43m=\u001b[39;49m\u001b[43mflow_threshold\u001b[49m\u001b[43m,\u001b[49m\u001b[43m \u001b[49m\n\u001b[1;32m    257\u001b[0m \u001b[43m                                    \u001b[49m\u001b[43mcellprob_threshold\u001b[49m\u001b[38;5;241;43m=\u001b[39;49m\u001b[43mcellprob_threshold\u001b[49m\u001b[43m,\u001b[49m\n\u001b[1;32m    258\u001b[0m \u001b[43m                                    \u001b[49m\u001b[43mmin_size\u001b[49m\u001b[38;5;241;43m=\u001b[39;49m\u001b[43mmin_size\u001b[49m\u001b[43m,\u001b[49m\u001b[43m \u001b[49m\n\u001b[1;32m    259\u001b[0m \u001b[43m                                    \u001b[49m\u001b[43mstitch_threshold\u001b[49m\u001b[38;5;241;43m=\u001b[39;49m\u001b[43mstitch_threshold\u001b[49m\u001b[43m,\u001b[49m\n\u001b[1;32m    260\u001b[0m \u001b[43m                                    \u001b[49m\u001b[43mmodel_loaded\u001b[49m\u001b[38;5;241;43m=\u001b[39;49m\u001b[43mmodel_loaded\u001b[49m\u001b[43m)\u001b[49m\n\u001b[1;32m    261\u001b[0m models_logger\u001b[38;5;241m.\u001b[39minfo(\u001b[38;5;124m'\u001b[39m\u001b[38;5;124m>>>> TOTAL TIME \u001b[39m\u001b[38;5;132;01m%0.2f\u001b[39;00m\u001b[38;5;124m sec\u001b[39m\u001b[38;5;124m'\u001b[39m\u001b[38;5;241m%\u001b[39m(time\u001b[38;5;241m.\u001b[39mtime()\u001b[38;5;241m-\u001b[39mtic0))\n\u001b[1;32m    263\u001b[0m \u001b[38;5;28;01mreturn\u001b[39;00m masks, flows, styles, diams\n",
      "File \u001b[0;32m~/miniconda3/envs/aero/lib/python3.9/site-packages/cellpose/models.py:551\u001b[0m, in \u001b[0;36mCellposeModel.eval\u001b[0;34m(self, x, batch_size, channels, channel_axis, z_axis, normalize, invert, rescale, diameter, do_3D, anisotropy, net_avg, augment, tile, tile_overlap, resample, interp, flow_threshold, cellprob_threshold, compute_masks, min_size, stitch_threshold, progress, loop_run, model_loaded)\u001b[0m\n\u001b[1;32m    548\u001b[0m     diameter \u001b[38;5;241m=\u001b[39m \u001b[38;5;28mself\u001b[39m\u001b[38;5;241m.\u001b[39mdiam_labels\n\u001b[1;32m    549\u001b[0m     rescale \u001b[38;5;241m=\u001b[39m \u001b[38;5;28mself\u001b[39m\u001b[38;5;241m.\u001b[39mdiam_mean \u001b[38;5;241m/\u001b[39m diameter\n\u001b[0;32m--> 551\u001b[0m masks, styles, dP, cellprob, p \u001b[38;5;241m=\u001b[39m \u001b[38;5;28;43mself\u001b[39;49m\u001b[38;5;241;43m.\u001b[39;49m\u001b[43m_run_cp\u001b[49m\u001b[43m(\u001b[49m\u001b[43mx\u001b[49m\u001b[43m,\u001b[49m\u001b[43m \u001b[49m\n\u001b[1;32m    552\u001b[0m \u001b[43m                                              \u001b[49m\u001b[43mcompute_masks\u001b[49m\u001b[38;5;241;43m=\u001b[39;49m\u001b[43mcompute_masks\u001b[49m\u001b[43m,\u001b[49m\n\u001b[1;32m    553\u001b[0m \u001b[43m                                              \u001b[49m\u001b[43mnormalize\u001b[49m\u001b[38;5;241;43m=\u001b[39;49m\u001b[43mnormalize\u001b[49m\u001b[43m,\u001b[49m\n\u001b[1;32m    554\u001b[0m \u001b[43m                                              \u001b[49m\u001b[43minvert\u001b[49m\u001b[38;5;241;43m=\u001b[39;49m\u001b[43minvert\u001b[49m\u001b[43m,\u001b[49m\n\u001b[1;32m    555\u001b[0m \u001b[43m                                              \u001b[49m\u001b[43mrescale\u001b[49m\u001b[38;5;241;43m=\u001b[39;49m\u001b[43mrescale\u001b[49m\u001b[43m,\u001b[49m\u001b[43m \u001b[49m\n\u001b[1;32m    556\u001b[0m \u001b[43m                                              \u001b[49m\u001b[43mnet_avg\u001b[49m\u001b[38;5;241;43m=\u001b[39;49m\u001b[43mnet_avg\u001b[49m\u001b[43m,\u001b[49m\u001b[43m \u001b[49m\n\u001b[1;32m    557\u001b[0m \u001b[43m                                              \u001b[49m\u001b[43mresample\u001b[49m\u001b[38;5;241;43m=\u001b[39;49m\u001b[43mresample\u001b[49m\u001b[43m,\u001b[49m\n\u001b[1;32m    558\u001b[0m \u001b[43m                                              \u001b[49m\u001b[43maugment\u001b[49m\u001b[38;5;241;43m=\u001b[39;49m\u001b[43maugment\u001b[49m\u001b[43m,\u001b[49m\u001b[43m \u001b[49m\n\u001b[1;32m    559\u001b[0m \u001b[43m                                              \u001b[49m\u001b[43mtile\u001b[49m\u001b[38;5;241;43m=\u001b[39;49m\u001b[43mtile\u001b[49m\u001b[43m,\u001b[49m\u001b[43m \u001b[49m\n\u001b[1;32m    560\u001b[0m \u001b[43m                                              \u001b[49m\u001b[43mtile_overlap\u001b[49m\u001b[38;5;241;43m=\u001b[39;49m\u001b[43mtile_overlap\u001b[49m\u001b[43m,\u001b[49m\n\u001b[1;32m    561\u001b[0m \u001b[43m                                              \u001b[49m\u001b[43mflow_threshold\u001b[49m\u001b[38;5;241;43m=\u001b[39;49m\u001b[43mflow_threshold\u001b[49m\u001b[43m,\u001b[49m\n\u001b[1;32m    562\u001b[0m \u001b[43m                                              \u001b[49m\u001b[43mcellprob_threshold\u001b[49m\u001b[38;5;241;43m=\u001b[39;49m\u001b[43mcellprob_threshold\u001b[49m\u001b[43m,\u001b[49m\u001b[43m \u001b[49m\n\u001b[1;32m    563\u001b[0m \u001b[43m                                              \u001b[49m\u001b[43minterp\u001b[49m\u001b[38;5;241;43m=\u001b[39;49m\u001b[43minterp\u001b[49m\u001b[43m,\u001b[49m\n\u001b[1;32m    564\u001b[0m \u001b[43m                                              \u001b[49m\u001b[43mmin_size\u001b[49m\u001b[38;5;241;43m=\u001b[39;49m\u001b[43mmin_size\u001b[49m\u001b[43m,\u001b[49m\u001b[43m \u001b[49m\n\u001b[1;32m    565\u001b[0m \u001b[43m                                              \u001b[49m\u001b[43mdo_3D\u001b[49m\u001b[38;5;241;43m=\u001b[39;49m\u001b[43mdo_3D\u001b[49m\u001b[43m,\u001b[49m\u001b[43m \u001b[49m\n\u001b[1;32m    566\u001b[0m \u001b[43m                                              \u001b[49m\u001b[43manisotropy\u001b[49m\u001b[38;5;241;43m=\u001b[39;49m\u001b[43manisotropy\u001b[49m\u001b[43m,\u001b[49m\n\u001b[1;32m    567\u001b[0m \u001b[43m                                              \u001b[49m\u001b[43mstitch_threshold\u001b[49m\u001b[38;5;241;43m=\u001b[39;49m\u001b[43mstitch_threshold\u001b[49m\u001b[43m,\u001b[49m\n\u001b[1;32m    568\u001b[0m \u001b[43m                                              \u001b[49m\u001b[43m)\u001b[49m\n\u001b[1;32m    570\u001b[0m flows \u001b[38;5;241m=\u001b[39m [plot\u001b[38;5;241m.\u001b[39mdx_to_circ(dP), dP, cellprob, p]\n\u001b[1;32m    571\u001b[0m \u001b[38;5;28;01mreturn\u001b[39;00m masks, flows, styles\n",
      "File \u001b[0;32m~/miniconda3/envs/aero/lib/python3.9/site-packages/cellpose/models.py:651\u001b[0m, in \u001b[0;36mCellposeModel._run_cp\u001b[0;34m(self, x, compute_masks, normalize, invert, rescale, net_avg, resample, augment, tile, tile_overlap, cellprob_threshold, flow_threshold, min_size, interp, anisotropy, do_3D, stitch_threshold)\u001b[0m\n\u001b[1;32m    649\u001b[0m resize \u001b[38;5;241m=\u001b[39m [shape[\u001b[38;5;241m1\u001b[39m], shape[\u001b[38;5;241m2\u001b[39m]] \u001b[38;5;28;01mif\u001b[39;00m \u001b[38;5;129;01mnot\u001b[39;00m resample \u001b[38;5;28;01melse\u001b[39;00m \u001b[38;5;28;01mNone\u001b[39;00m\n\u001b[1;32m    650\u001b[0m \u001b[38;5;28;01mfor\u001b[39;00m i \u001b[38;5;129;01min\u001b[39;00m iterator:\n\u001b[0;32m--> 651\u001b[0m     outputs \u001b[38;5;241m=\u001b[39m \u001b[43mdynamics\u001b[49m\u001b[38;5;241;43m.\u001b[39;49m\u001b[43mcompute_masks\u001b[49m\u001b[43m(\u001b[49m\u001b[43mdP\u001b[49m\u001b[43m[\u001b[49m\u001b[43m:\u001b[49m\u001b[43m,\u001b[49m\u001b[43mi\u001b[49m\u001b[43m]\u001b[49m\u001b[43m,\u001b[49m\u001b[43m \u001b[49m\u001b[43mcellprob\u001b[49m\u001b[43m[\u001b[49m\u001b[43mi\u001b[49m\u001b[43m]\u001b[49m\u001b[43m,\u001b[49m\u001b[43m \u001b[49m\u001b[43mniter\u001b[49m\u001b[38;5;241;43m=\u001b[39;49m\u001b[43mniter\u001b[49m\u001b[43m,\u001b[49m\u001b[43m \u001b[49m\u001b[43mcellprob_threshold\u001b[49m\u001b[38;5;241;43m=\u001b[39;49m\u001b[43mcellprob_threshold\u001b[49m\u001b[43m,\u001b[49m\n\u001b[1;32m    652\u001b[0m \u001b[43m                                         \u001b[49m\u001b[43mflow_threshold\u001b[49m\u001b[38;5;241;43m=\u001b[39;49m\u001b[43mflow_threshold\u001b[49m\u001b[43m,\u001b[49m\u001b[43m \u001b[49m\u001b[43minterp\u001b[49m\u001b[38;5;241;43m=\u001b[39;49m\u001b[43minterp\u001b[49m\u001b[43m,\u001b[49m\u001b[43m \u001b[49m\u001b[43mresize\u001b[49m\u001b[38;5;241;43m=\u001b[39;49m\u001b[43mresize\u001b[49m\u001b[43m,\u001b[49m\n\u001b[1;32m    653\u001b[0m \u001b[43m                                         \u001b[49m\u001b[43muse_gpu\u001b[49m\u001b[38;5;241;43m=\u001b[39;49m\u001b[38;5;28;43mself\u001b[39;49m\u001b[38;5;241;43m.\u001b[39;49m\u001b[43mgpu\u001b[49m\u001b[43m,\u001b[49m\u001b[43m \u001b[49m\u001b[43mdevice\u001b[49m\u001b[38;5;241;43m=\u001b[39;49m\u001b[38;5;28;43mself\u001b[39;49m\u001b[38;5;241;43m.\u001b[39;49m\u001b[43mdevice\u001b[49m\u001b[43m)\u001b[49m\n\u001b[1;32m    654\u001b[0m     masks\u001b[38;5;241m.\u001b[39mappend(outputs[\u001b[38;5;241m0\u001b[39m])\n\u001b[1;32m    655\u001b[0m     p\u001b[38;5;241m.\u001b[39mappend(outputs[\u001b[38;5;241m1\u001b[39m])\n",
      "File \u001b[0;32m~/miniconda3/envs/aero/lib/python3.9/site-packages/cellpose/dynamics.py:726\u001b[0m, in \u001b[0;36mcompute_masks\u001b[0;34m(dP, cellprob, p, niter, cellprob_threshold, flow_threshold, interp, do_3D, min_size, resize, use_gpu, device)\u001b[0m\n\u001b[1;32m    723\u001b[0m     shape0 \u001b[38;5;241m=\u001b[39m p\u001b[38;5;241m.\u001b[39mshape[\u001b[38;5;241m1\u001b[39m:]\n\u001b[1;32m    724\u001b[0m     \u001b[38;5;28;01mif\u001b[39;00m mask\u001b[38;5;241m.\u001b[39mmax()\u001b[38;5;241m>\u001b[39m\u001b[38;5;241m0\u001b[39m \u001b[38;5;129;01mand\u001b[39;00m flow_threshold \u001b[38;5;129;01mis\u001b[39;00m \u001b[38;5;129;01mnot\u001b[39;00m \u001b[38;5;28;01mNone\u001b[39;00m \u001b[38;5;129;01mand\u001b[39;00m flow_threshold \u001b[38;5;241m>\u001b[39m \u001b[38;5;241m0\u001b[39m:\n\u001b[1;32m    725\u001b[0m         \u001b[38;5;66;03m# make sure labels are unique at output of get_masks\u001b[39;00m\n\u001b[0;32m--> 726\u001b[0m         mask \u001b[38;5;241m=\u001b[39m \u001b[43mremove_bad_flow_masks\u001b[49m\u001b[43m(\u001b[49m\u001b[43mmask\u001b[49m\u001b[43m,\u001b[49m\u001b[43m \u001b[49m\u001b[43mdP\u001b[49m\u001b[43m,\u001b[49m\u001b[43m \u001b[49m\u001b[43mthreshold\u001b[49m\u001b[38;5;241;43m=\u001b[39;49m\u001b[43mflow_threshold\u001b[49m\u001b[43m,\u001b[49m\u001b[43m \u001b[49m\u001b[43muse_gpu\u001b[49m\u001b[38;5;241;43m=\u001b[39;49m\u001b[43muse_gpu\u001b[49m\u001b[43m,\u001b[49m\u001b[43m \u001b[49m\u001b[43mdevice\u001b[49m\u001b[38;5;241;43m=\u001b[39;49m\u001b[43mdevice\u001b[49m\u001b[43m)\u001b[49m\n\u001b[1;32m    728\u001b[0m \u001b[38;5;28;01mif\u001b[39;00m resize \u001b[38;5;129;01mis\u001b[39;00m \u001b[38;5;129;01mnot\u001b[39;00m \u001b[38;5;28;01mNone\u001b[39;00m:\n\u001b[1;32m    729\u001b[0m     \u001b[38;5;66;03m#if verbose:\u001b[39;00m\n\u001b[1;32m    730\u001b[0m     \u001b[38;5;66;03m#    dynamics_logger.info(f'resizing output with resize = {resize}')\u001b[39;00m\n\u001b[1;32m    731\u001b[0m     \u001b[38;5;28;01mif\u001b[39;00m mask\u001b[38;5;241m.\u001b[39mmax() \u001b[38;5;241m>\u001b[39m \u001b[38;5;241m2\u001b[39m\u001b[38;5;241m*\u001b[39m\u001b[38;5;241m*\u001b[39m\u001b[38;5;241m16\u001b[39m\u001b[38;5;241m-\u001b[39m\u001b[38;5;241m1\u001b[39m:\n",
      "File \u001b[0;32m~/miniconda3/envs/aero/lib/python3.9/site-packages/cellpose/dynamics.py:581\u001b[0m, in \u001b[0;36mremove_bad_flow_masks\u001b[0;34m(masks, flows, threshold, use_gpu, device)\u001b[0m\n\u001b[1;32m    552\u001b[0m \u001b[38;5;28;01mdef\u001b[39;00m \u001b[38;5;21mremove_bad_flow_masks\u001b[39m(masks, flows, threshold\u001b[38;5;241m=\u001b[39m\u001b[38;5;241m0.4\u001b[39m, use_gpu\u001b[38;5;241m=\u001b[39m\u001b[38;5;28;01mFalse\u001b[39;00m, device\u001b[38;5;241m=\u001b[39m\u001b[38;5;28;01mNone\u001b[39;00m):\n\u001b[1;32m    553\u001b[0m     \u001b[38;5;124;03m\"\"\" remove masks which have inconsistent flows \u001b[39;00m\n\u001b[1;32m    554\u001b[0m \u001b[38;5;124;03m    \u001b[39;00m\n\u001b[1;32m    555\u001b[0m \u001b[38;5;124;03m    Uses metrics.flow_error to compute flows from predicted masks \u001b[39;00m\n\u001b[0;32m   (...)\u001b[0m\n\u001b[1;32m    579\u001b[0m \u001b[38;5;124;03m    \u001b[39;00m\n\u001b[1;32m    580\u001b[0m \u001b[38;5;124;03m    \"\"\"\u001b[39;00m\n\u001b[0;32m--> 581\u001b[0m     merrors, _ \u001b[38;5;241m=\u001b[39m \u001b[43mmetrics\u001b[49m\u001b[38;5;241;43m.\u001b[39;49m\u001b[43mflow_error\u001b[49m\u001b[43m(\u001b[49m\u001b[43mmasks\u001b[49m\u001b[43m,\u001b[49m\u001b[43m \u001b[49m\u001b[43mflows\u001b[49m\u001b[43m,\u001b[49m\u001b[43m \u001b[49m\u001b[43muse_gpu\u001b[49m\u001b[43m,\u001b[49m\u001b[43m \u001b[49m\u001b[43mdevice\u001b[49m\u001b[43m)\u001b[49m\n\u001b[1;32m    582\u001b[0m     badi \u001b[38;5;241m=\u001b[39m \u001b[38;5;241m1\u001b[39m\u001b[38;5;241m+\u001b[39m(merrors\u001b[38;5;241m>\u001b[39mthreshold)\u001b[38;5;241m.\u001b[39mnonzero()[\u001b[38;5;241m0\u001b[39m]\n\u001b[1;32m    583\u001b[0m     masks[np\u001b[38;5;241m.\u001b[39misin(masks, badi)] \u001b[38;5;241m=\u001b[39m \u001b[38;5;241m0\u001b[39m\n",
      "File \u001b[0;32m~/miniconda3/envs/aero/lib/python3.9/site-packages/cellpose/metrics.py:282\u001b[0m, in \u001b[0;36mflow_error\u001b[0;34m(maski, dP_net, use_gpu, device)\u001b[0m\n\u001b[1;32m    279\u001b[0m     \u001b[38;5;28;01mreturn\u001b[39;00m\n\u001b[1;32m    281\u001b[0m \u001b[38;5;66;03m# flows predicted from estimated masks\u001b[39;00m\n\u001b[0;32m--> 282\u001b[0m dP_masks \u001b[38;5;241m=\u001b[39m \u001b[43mdynamics\u001b[49m\u001b[38;5;241;43m.\u001b[39;49m\u001b[43mmasks_to_flows\u001b[49m\u001b[43m(\u001b[49m\u001b[43mmaski\u001b[49m\u001b[43m,\u001b[49m\u001b[43m \u001b[49m\u001b[43muse_gpu\u001b[49m\u001b[38;5;241;43m=\u001b[39;49m\u001b[43muse_gpu\u001b[49m\u001b[43m,\u001b[49m\u001b[43m \u001b[49m\u001b[43mdevice\u001b[49m\u001b[38;5;241;43m=\u001b[39;49m\u001b[43mdevice\u001b[49m\u001b[43m)\u001b[49m\n\u001b[1;32m    283\u001b[0m \u001b[38;5;66;03m# difference between predicted flows vs mask flows\u001b[39;00m\n\u001b[1;32m    284\u001b[0m flow_errors\u001b[38;5;241m=\u001b[39mnp\u001b[38;5;241m.\u001b[39mzeros(maski\u001b[38;5;241m.\u001b[39mmax())\n",
      "File \u001b[0;32m~/miniconda3/envs/aero/lib/python3.9/site-packages/cellpose/dynamics.py:278\u001b[0m, in \u001b[0;36mmasks_to_flows\u001b[0;34m(masks, use_gpu, device)\u001b[0m\n\u001b[1;32m    276\u001b[0m     \u001b[38;5;28;01mreturn\u001b[39;00m mu\n\u001b[1;32m    277\u001b[0m \u001b[38;5;28;01melif\u001b[39;00m masks\u001b[38;5;241m.\u001b[39mndim\u001b[38;5;241m==\u001b[39m\u001b[38;5;241m2\u001b[39m:\n\u001b[0;32m--> 278\u001b[0m     mu, mu_c \u001b[38;5;241m=\u001b[39m \u001b[43mmasks_to_flows_device\u001b[49m\u001b[43m(\u001b[49m\u001b[43mmasks\u001b[49m\u001b[43m,\u001b[49m\u001b[43m \u001b[49m\u001b[43mdevice\u001b[49m\u001b[38;5;241;43m=\u001b[39;49m\u001b[43mdevice\u001b[49m\u001b[43m)\u001b[49m\n\u001b[1;32m    279\u001b[0m     \u001b[38;5;28;01mreturn\u001b[39;00m mu\n\u001b[1;32m    281\u001b[0m \u001b[38;5;28;01melse\u001b[39;00m:\n",
      "File \u001b[0;32m~/miniconda3/envs/aero/lib/python3.9/site-packages/cellpose/dynamics.py:153\u001b[0m, in \u001b[0;36mmasks_to_flows_gpu\u001b[0;34m(masks, device)\u001b[0m\n\u001b[1;32m    151\u001b[0m n_iter \u001b[38;5;241m=\u001b[39m \u001b[38;5;241m2\u001b[39m \u001b[38;5;241m*\u001b[39m (ext\u001b[38;5;241m.\u001b[39msum(axis\u001b[38;5;241m=\u001b[39m\u001b[38;5;241m1\u001b[39m))\u001b[38;5;241m.\u001b[39mmax()\n\u001b[1;32m    152\u001b[0m \u001b[38;5;66;03m# run diffusion\u001b[39;00m\n\u001b[0;32m--> 153\u001b[0m mu \u001b[38;5;241m=\u001b[39m \u001b[43m_extend_centers_gpu\u001b[49m\u001b[43m(\u001b[49m\u001b[43mneighbors\u001b[49m\u001b[43m,\u001b[49m\u001b[43m \u001b[49m\u001b[43mcenters\u001b[49m\u001b[43m,\u001b[49m\u001b[43m \u001b[49m\u001b[43misneighbor\u001b[49m\u001b[43m,\u001b[49m\u001b[43m \u001b[49m\u001b[43mLy\u001b[49m\u001b[43m,\u001b[49m\u001b[43m \u001b[49m\u001b[43mLx\u001b[49m\u001b[43m,\u001b[49m\u001b[43m \u001b[49m\n\u001b[1;32m    154\u001b[0m \u001b[43m                         \u001b[49m\u001b[43mn_iter\u001b[49m\u001b[38;5;241;43m=\u001b[39;49m\u001b[43mn_iter\u001b[49m\u001b[43m,\u001b[49m\u001b[43m \u001b[49m\u001b[43mdevice\u001b[49m\u001b[38;5;241;43m=\u001b[39;49m\u001b[43mdevice\u001b[49m\u001b[43m)\u001b[49m\n\u001b[1;32m    156\u001b[0m \u001b[38;5;66;03m# normalize\u001b[39;00m\n\u001b[1;32m    157\u001b[0m mu \u001b[38;5;241m/\u001b[39m\u001b[38;5;241m=\u001b[39m (\u001b[38;5;241m1e-20\u001b[39m \u001b[38;5;241m+\u001b[39m (mu\u001b[38;5;241m*\u001b[39m\u001b[38;5;241m*\u001b[39m\u001b[38;5;241m2\u001b[39m)\u001b[38;5;241m.\u001b[39msum(axis\u001b[38;5;241m=\u001b[39m\u001b[38;5;241m0\u001b[39m)\u001b[38;5;241m*\u001b[39m\u001b[38;5;241m*\u001b[39m\u001b[38;5;241m0.5\u001b[39m)\n",
      "File \u001b[0;32m~/miniconda3/envs/aero/lib/python3.9/site-packages/cellpose/dynamics.py:83\u001b[0m, in \u001b[0;36m_extend_centers_gpu\u001b[0;34m(neighbors, centers, isneighbor, Ly, Lx, n_iter, device)\u001b[0m\n\u001b[1;32m     81\u001b[0m T \u001b[38;5;241m=\u001b[39m torch\u001b[38;5;241m.\u001b[39mlog(\u001b[38;5;241m1.\u001b[39m\u001b[38;5;241m+\u001b[39m T)\n\u001b[1;32m     82\u001b[0m \u001b[38;5;66;03m# gradient positions\u001b[39;00m\n\u001b[0;32m---> 83\u001b[0m grads \u001b[38;5;241m=\u001b[39m T[:, \u001b[43mpt\u001b[49m\u001b[43m[\u001b[49m\u001b[43m[\u001b[49m\u001b[38;5;241;43m2\u001b[39;49m\u001b[43m,\u001b[49m\u001b[38;5;241;43m1\u001b[39;49m\u001b[43m,\u001b[49m\u001b[38;5;241;43m4\u001b[39;49m\u001b[43m,\u001b[49m\u001b[38;5;241;43m3\u001b[39;49m\u001b[43m]\u001b[49m\u001b[43m,\u001b[49m\u001b[43m:\u001b[49m\u001b[43m,\u001b[49m\u001b[38;5;241;43m0\u001b[39;49m\u001b[43m]\u001b[49m, pt[[\u001b[38;5;241m2\u001b[39m,\u001b[38;5;241m1\u001b[39m,\u001b[38;5;241m4\u001b[39m,\u001b[38;5;241m3\u001b[39m],:,\u001b[38;5;241m1\u001b[39m]]\n\u001b[1;32m     84\u001b[0m \u001b[38;5;28;01mdel\u001b[39;00m pt\n\u001b[1;32m     85\u001b[0m dy \u001b[38;5;241m=\u001b[39m grads[:,\u001b[38;5;241m0\u001b[39m] \u001b[38;5;241m-\u001b[39m grads[:,\u001b[38;5;241m1\u001b[39m]\n",
      "\u001b[0;31mKeyboardInterrupt\u001b[0m: "
     ]
    }
   ],
   "source": [
    "for diameter, flow_threshold in tqdm(params, total = len(params)):\n",
    "    if os.path.exists(f'd{diameter}_ft{flow_threshold}_masks.npy'):\n",
    "        print(f'Found d{diameter}_ft{flow_threshold}_masks.npy, skipping to next params')\n",
    "        continue\n",
    "    mask_stack = []\n",
    "    for timepoint in tqdm(images, total = len(images), leave = False):\n",
    "        ### extract GFP channel and lowest Z plane from single time point\n",
    "        gfp_z0_frame = timepoint[0,0,...]\n",
    "        masks, flows, styles, diams = model.eval(gfp_z0_frame, diameter=diameter, channels=[0,0],\n",
    "                                             flow_threshold=flow_threshold, cellprob_threshold=0)        \n",
    "        mask_stack.append(masks)\n",
    "    mask_images = da.stack(mask_stack, axis = 0) \n",
    "    np.save(f'd{diameter}_ft{flow_threshold}_masks.npy', mask_images)\n",
    "    mask_dict[(diameter, flow_threshold)] = mask_images"
   ]
  },
  {
   "cell_type": "code",
   "execution_count": 21,
   "id": "253be307",
   "metadata": {},
   "outputs": [],
   "source": [
    "mask_dict = dict()\n",
    "mask_dict[(diameter, flow_threshold)] = mask_images"
   ]
  },
  {
   "cell_type": "code",
   "execution_count": 62,
   "id": "d9a65e12",
   "metadata": {},
   "outputs": [],
   "source": [
    "import numpy as np"
   ]
  },
  {
   "cell_type": "code",
   "execution_count": 63,
   "id": "62a8b8bb",
   "metadata": {},
   "outputs": [],
   "source": [
    "np.save('mask_dict.npy', mask_dict)"
   ]
  },
  {
   "cell_type": "code",
   "execution_count": 57,
   "id": "80311837",
   "metadata": {},
   "outputs": [
    {
     "name": "stderr",
     "output_type": "stream",
     "text": [
      "/home/dayn/miniconda3/envs/aero/lib/python3.9/site-packages/napari_tools_menu/__init__.py:194: FutureWarning: Public access to Window.qt_viewer is deprecated and will be removed in\n",
      "v0.5.0. It is considered an \"implementation detail\" of the napari\n",
      "application, not part of the napari viewer model. If your use case\n",
      "requires access to qt_viewer, please open an issue to discuss.\n",
      "  self.tools_menu = ToolsMenu(self, self.qt_viewer.viewer)\n"
     ]
    },
    {
     "data": {
      "text/plain": [
       "<Labels layer 'mask_images' at 0x7f995d5e5df0>"
      ]
     },
     "execution_count": 57,
     "metadata": {},
     "output_type": "execute_result"
    }
   ],
   "source": [
    "viewer = napari.Viewer()\n",
    "\n",
    "viewer.add_image(images, \n",
    "                 channel_axis=1,\n",
    "                 name=[\"macrophage\", \"mtb\"],\n",
    "                 colormap=[\"green\", \"magenta\"],\n",
    "                 contrast_limits=[[100, 2000], [100, 500]]\n",
    "                 )\n",
    "viewer.add_labels(mask_images, \n",
    "                 )"
   ]
  }
 ],
 "metadata": {
  "kernelspec": {
   "display_name": "aero",
   "language": "python",
   "name": "aero"
  },
  "language_info": {
   "codemirror_mode": {
    "name": "ipython",
    "version": 3
   },
   "file_extension": ".py",
   "mimetype": "text/x-python",
   "name": "python",
   "nbconvert_exporter": "python",
   "pygments_lexer": "ipython3",
   "version": "3.9.12"
  }
 },
 "nbformat": 4,
 "nbformat_minor": 5
}
