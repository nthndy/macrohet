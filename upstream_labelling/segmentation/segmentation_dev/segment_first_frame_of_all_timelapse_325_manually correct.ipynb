{
 "cells": [
  {
   "cell_type": "markdown",
   "id": "d2e295e0",
   "metadata": {},
   "source": [
    "# Load segmentation, localise and save as h5\n",
    "\n",
    "Segment a stack of images and then manually label a couple, then check how well the model segmented them."
   ]
  },
  {
   "cell_type": "code",
   "execution_count": 1,
   "id": "7975a2f4",
   "metadata": {},
   "outputs": [
    {
     "name": "stdout",
     "output_type": "stream",
     "text": [
      "Using device: cuda\n",
      "\n",
      "NVIDIA RTX A6000\n",
      "Memory Usage:\n",
      "Allocated: 0.0 GB\n",
      "Cached:    0.0 GB\n"
     ]
    }
   ],
   "source": [
    "import napari\n",
    "from cellpose import models\n",
    "from octopuslite import utils, tile\n",
    "import numpy as np\n",
    "\n",
    "import sys\n",
    "sys.path.append('macrohet/')\n",
    "from notify import send_sms\n",
    "\n",
    "def view(img):\n",
    "    return napari.Viewer().add_image(img)\n",
    "\n",
    "from tqdm.auto import tqdm\n",
    "\n",
    "import btrack\n",
    "import dask.array as da\n",
    "\n",
    "import torch\n",
    "# setting device on GPU if available, else CPU\n",
    "device = torch.device('cuda' if torch.cuda.is_available() else 'cpu')\n",
    "print('Using device:', device)\n",
    "print()\n",
    "\n",
    "#Additional Info when using cuda\n",
    "if device.type == 'cuda':\n",
    "    print(torch.cuda.get_device_name(0))\n",
    "    print('Memory Usage:')\n",
    "    print('Allocated:', round(torch.cuda.memory_allocated(0)/1024**3,1), 'GB')\n",
    "    print('Cached:   ', round(torch.cuda.memory_reserved(0)/1024**3,1), 'GB')"
   ]
  },
  {
   "cell_type": "markdown",
   "id": "3751ef77",
   "metadata": {},
   "source": [
    "### Load experiment of choice\n",
    "\n",
    "The Opera Phenix is a high-throughput confocal microscope that acquires very large 5-dimensional (TCZXY) images over several fields of view in any one experiment. Therefore, a lazy-loading approach is chosen to mosaic, view and annotate these images. This approach depends upon Dask and DaskFusion. The first step is to load the main metadata file (typically called `Index.idx.xml` and located in the main `Images` directory) that contains the image filenames and associated TCXZY information used to organise the images."
   ]
  },
  {
   "cell_type": "code",
   "execution_count": 2,
   "id": "8d20db67",
   "metadata": {},
   "outputs": [
    {
     "name": "stdout",
     "output_type": "stream",
     "text": [
      "Reading metadata XML file...\n"
     ]
    },
    {
     "data": {
      "application/vnd.jupyter.widget-view+json": {
       "model_id": "3698f2e71e554669a6425a1bc25c56e1",
       "version_major": 2,
       "version_minor": 0
      },
      "text/plain": [
       "Extracting HarmonyV5 metadata:   0%|          | 0/113400 [00:00<?, ?it/s]"
      ]
     },
     "metadata": {},
     "output_type": "display_data"
    },
    {
     "name": "stdout",
     "output_type": "stream",
     "text": [
      "Extracting metadata complete!\n"
     ]
    }
   ],
   "source": [
    "image_dir = '/mnt/DATA/sandbox/pierre_live_cell_data/outputs/Replication_IPSDM_GFP/Images/'\n",
    "metadata_fn = '/mnt/DATA/sandbox/pierre_live_cell_data/outputs/Replication_IPSDM_GFP/Index.idx.xml'\n",
    "metadata = utils.read_harmony_metadata(metadata_fn)"
   ]
  },
  {
   "cell_type": "markdown",
   "id": "e739b419",
   "metadata": {},
   "source": [
    "### View assay layout and mask information (optional)\n",
    "\n",
    "The Opera Phenix acquires many time lapse series from a range of positions. The first step is to inspect the image metadata, presented in the form of an `Assaylayout/experiment_ID.xml` file, to show which positions correspond to which experimental assays."
   ]
  },
  {
   "cell_type": "code",
   "execution_count": 5,
   "id": "19c540d8",
   "metadata": {
    "scrolled": true
   },
   "outputs": [
    {
     "name": "stdout",
     "output_type": "stream",
     "text": [
      "Reading metadata XML file...\n",
      "Extracting metadata complete!\n",
      "Reading metadata XML file...\n",
      "Extracting metadata complete!\n"
     ]
    },
    {
     "data": {
      "text/html": [
       "<div>\n",
       "<style scoped>\n",
       "    .dataframe tbody tr th:only-of-type {\n",
       "        vertical-align: middle;\n",
       "    }\n",
       "\n",
       "    .dataframe tbody tr th {\n",
       "        vertical-align: top;\n",
       "    }\n",
       "\n",
       "    .dataframe thead th {\n",
       "        text-align: right;\n",
       "    }\n",
       "</style>\n",
       "<table border=\"1\" class=\"dataframe\">\n",
       "  <thead>\n",
       "    <tr style=\"text-align: right;\">\n",
       "      <th></th>\n",
       "      <th></th>\n",
       "      <th>Strain</th>\n",
       "      <th>Compound</th>\n",
       "      <th>Concentration</th>\n",
       "      <th>ConcentrationEC</th>\n",
       "    </tr>\n",
       "  </thead>\n",
       "  <tbody>\n",
       "    <tr>\n",
       "      <th rowspan=\"6\" valign=\"top\">3</th>\n",
       "      <th>4</th>\n",
       "      <td>RD1</td>\n",
       "      <td>CTRL</td>\n",
       "      <td>0</td>\n",
       "      <td>EC0</td>\n",
       "    </tr>\n",
       "    <tr>\n",
       "      <th>5</th>\n",
       "      <td>WT</td>\n",
       "      <td>CTRL</td>\n",
       "      <td>0</td>\n",
       "      <td>EC0</td>\n",
       "    </tr>\n",
       "    <tr>\n",
       "      <th>6</th>\n",
       "      <td>WT</td>\n",
       "      <td>PZA</td>\n",
       "      <td>60</td>\n",
       "      <td>EC50</td>\n",
       "    </tr>\n",
       "    <tr>\n",
       "      <th>7</th>\n",
       "      <td>WT</td>\n",
       "      <td>RIF</td>\n",
       "      <td>0.1</td>\n",
       "      <td>EC50</td>\n",
       "    </tr>\n",
       "    <tr>\n",
       "      <th>8</th>\n",
       "      <td>WT</td>\n",
       "      <td>INH</td>\n",
       "      <td>0.04</td>\n",
       "      <td>EC50</td>\n",
       "    </tr>\n",
       "    <tr>\n",
       "      <th>9</th>\n",
       "      <td>WT</td>\n",
       "      <td>BDQ</td>\n",
       "      <td>0.02</td>\n",
       "      <td>EC50</td>\n",
       "    </tr>\n",
       "    <tr>\n",
       "      <th rowspan=\"6\" valign=\"top\">4</th>\n",
       "      <th>4</th>\n",
       "      <td>RD1</td>\n",
       "      <td>CTRL</td>\n",
       "      <td>0</td>\n",
       "      <td>EC0</td>\n",
       "    </tr>\n",
       "    <tr>\n",
       "      <th>5</th>\n",
       "      <td>WT</td>\n",
       "      <td>CTRL</td>\n",
       "      <td>0</td>\n",
       "      <td>EC0</td>\n",
       "    </tr>\n",
       "    <tr>\n",
       "      <th>6</th>\n",
       "      <td>WT</td>\n",
       "      <td>PZA</td>\n",
       "      <td>60</td>\n",
       "      <td>EC50</td>\n",
       "    </tr>\n",
       "    <tr>\n",
       "      <th>7</th>\n",
       "      <td>WT</td>\n",
       "      <td>RIF</td>\n",
       "      <td>0.1</td>\n",
       "      <td>EC50</td>\n",
       "    </tr>\n",
       "    <tr>\n",
       "      <th>8</th>\n",
       "      <td>WT</td>\n",
       "      <td>INH</td>\n",
       "      <td>0.04</td>\n",
       "      <td>EC50</td>\n",
       "    </tr>\n",
       "    <tr>\n",
       "      <th>9</th>\n",
       "      <td>WT</td>\n",
       "      <td>BDQ</td>\n",
       "      <td>0.02</td>\n",
       "      <td>EC50</td>\n",
       "    </tr>\n",
       "    <tr>\n",
       "      <th rowspan=\"6\" valign=\"top\">5</th>\n",
       "      <th>4</th>\n",
       "      <td>RD1</td>\n",
       "      <td>CTRL</td>\n",
       "      <td>0</td>\n",
       "      <td>EC0</td>\n",
       "    </tr>\n",
       "    <tr>\n",
       "      <th>5</th>\n",
       "      <td>WT</td>\n",
       "      <td>CTRL</td>\n",
       "      <td>0</td>\n",
       "      <td>EC0</td>\n",
       "    </tr>\n",
       "    <tr>\n",
       "      <th>6</th>\n",
       "      <td>WT</td>\n",
       "      <td>PZA</td>\n",
       "      <td>400</td>\n",
       "      <td>EC99</td>\n",
       "    </tr>\n",
       "    <tr>\n",
       "      <th>7</th>\n",
       "      <td>WT</td>\n",
       "      <td>RIF</td>\n",
       "      <td>2</td>\n",
       "      <td>EC99</td>\n",
       "    </tr>\n",
       "    <tr>\n",
       "      <th>8</th>\n",
       "      <td>WT</td>\n",
       "      <td>INH</td>\n",
       "      <td>2</td>\n",
       "      <td>EC99</td>\n",
       "    </tr>\n",
       "    <tr>\n",
       "      <th>9</th>\n",
       "      <td>WT</td>\n",
       "      <td>BDQ</td>\n",
       "      <td>2.5</td>\n",
       "      <td>EC99</td>\n",
       "    </tr>\n",
       "    <tr>\n",
       "      <th rowspan=\"6\" valign=\"top\">6</th>\n",
       "      <th>4</th>\n",
       "      <td>RD1</td>\n",
       "      <td>CTRL</td>\n",
       "      <td>0</td>\n",
       "      <td>EC0</td>\n",
       "    </tr>\n",
       "    <tr>\n",
       "      <th>5</th>\n",
       "      <td>WT</td>\n",
       "      <td>CTRL</td>\n",
       "      <td>0</td>\n",
       "      <td>EC0</td>\n",
       "    </tr>\n",
       "    <tr>\n",
       "      <th>6</th>\n",
       "      <td>WT</td>\n",
       "      <td>PZA</td>\n",
       "      <td>400</td>\n",
       "      <td>EC99</td>\n",
       "    </tr>\n",
       "    <tr>\n",
       "      <th>7</th>\n",
       "      <td>WT</td>\n",
       "      <td>RIF</td>\n",
       "      <td>2</td>\n",
       "      <td>EC99</td>\n",
       "    </tr>\n",
       "    <tr>\n",
       "      <th>8</th>\n",
       "      <td>WT</td>\n",
       "      <td>INH</td>\n",
       "      <td>2</td>\n",
       "      <td>EC99</td>\n",
       "    </tr>\n",
       "    <tr>\n",
       "      <th>9</th>\n",
       "      <td>WT</td>\n",
       "      <td>BDQ</td>\n",
       "      <td>2.5</td>\n",
       "      <td>EC99</td>\n",
       "    </tr>\n",
       "  </tbody>\n",
       "</table>\n",
       "</div>"
      ],
      "text/plain": [
       "    Strain Compound Concentration ConcentrationEC\n",
       "3 4    RD1     CTRL             0             EC0\n",
       "  5     WT     CTRL             0             EC0\n",
       "  6     WT      PZA            60            EC50\n",
       "  7     WT      RIF           0.1            EC50\n",
       "  8     WT      INH          0.04            EC50\n",
       "  9     WT      BDQ          0.02            EC50\n",
       "4 4    RD1     CTRL             0             EC0\n",
       "  5     WT     CTRL             0             EC0\n",
       "  6     WT      PZA            60            EC50\n",
       "  7     WT      RIF           0.1            EC50\n",
       "  8     WT      INH          0.04            EC50\n",
       "  9     WT      BDQ          0.02            EC50\n",
       "5 4    RD1     CTRL             0             EC0\n",
       "  5     WT     CTRL             0             EC0\n",
       "  6     WT      PZA           400            EC99\n",
       "  7     WT      RIF             2            EC99\n",
       "  8     WT      INH             2            EC99\n",
       "  9     WT      BDQ           2.5            EC99\n",
       "6 4    RD1     CTRL             0             EC0\n",
       "  5     WT     CTRL             0             EC0\n",
       "  6     WT      PZA           400            EC99\n",
       "  7     WT      RIF             2            EC99\n",
       "  8     WT      INH             2            EC99\n",
       "  9     WT      BDQ           2.5            EC99"
      ]
     },
     "execution_count": 5,
     "metadata": {},
     "output_type": "execute_result"
    }
   ],
   "source": [
    "metadata_path = '/mnt/DATA/sandbox/pierre_live_cell_data/outputs/Replication_IPSDM_GFP/Assaylayout/20210602_Live_cell_IPSDMGFP_ATB.xml'\n",
    "assay_layout = utils.read_harmony_metadata(metadata_path, assay_layout=True)\n",
    "utils.read_harmony_metadata(metadata_path, assay_layout=True)"
   ]
  },
  {
   "cell_type": "markdown",
   "id": "397752fd",
   "metadata": {},
   "source": [
    "# Set up segmentation params"
   ]
  },
  {
   "cell_type": "code",
   "execution_count": 4,
   "id": "d18e0622",
   "metadata": {},
   "outputs": [],
   "source": [
    "model = models.Cellpose(\n",
    "                        #gpu=True, \n",
    "                        model_type='cyto', \n",
    "                        net_avg=True, \n",
    "                        device=torch.device('cuda')\n",
    "                        )"
   ]
  },
  {
   "cell_type": "markdown",
   "id": "db71292d",
   "metadata": {},
   "source": [
    "# Iterate over positions and segment first frame"
   ]
  },
  {
   "cell_type": "code",
   "execution_count": 23,
   "id": "dd24c722",
   "metadata": {},
   "outputs": [
    {
     "data": {
      "application/vnd.jupyter.widget-view+json": {
       "model_id": "0ea8127efd084585869b1b9749dca96b",
       "version_major": 2,
       "version_minor": 0
      },
      "text/plain": [
       "  0%|          | 0/24 [00:00<?, ?it/s]"
      ]
     },
     "metadata": {},
     "output_type": "display_data"
    }
   ],
   "source": [
    "mask_t0_dict = dict()\n",
    "for position, assay in tqdm(assay_layout.iterrows(), total = len(assay_layout)):\n",
    "    row, column = position[0], position[1]\n",
    "    input_image = tile.compile_mosaic(image_dir, \n",
    "                                 metadata, \n",
    "                                 row, \n",
    "                                 column, \n",
    "                                 set_channel=1, \n",
    "                                 set_plane = 'sum_proj',\n",
    "                                 set_time = 1\n",
    "                                 ).compute().compute().astype(np.uint16)\n",
    "    masks, flows, styles, diams = model.eval(input_image, \n",
    "                                         batch_size = 32, \n",
    "                                         channels = [0,0], \n",
    "                                         diameter = 325, \n",
    "#                                          resample = True, \n",
    "                                         min_size = 2500, \n",
    "                                         progress = True)\n",
    "    mask_t0_dict[(row, column)] = masks"
   ]
  },
  {
   "cell_type": "code",
   "execution_count": 55,
   "id": "0f8aced3",
   "metadata": {},
   "outputs": [
    {
     "name": "stderr",
     "output_type": "stream",
     "text": [
      "/home/dayn/miniconda3/envs/aero/lib/python3.9/site-packages/napari_tools_menu/__init__.py:194: FutureWarning: Public access to Window.qt_viewer is deprecated and will be removed in\n",
      "v0.5.0. It is considered an \"implementation detail\" of the napari\n",
      "application, not part of the napari viewer model. If your use case\n",
      "requires access to qt_viewer, please open an issue to discuss.\n",
      "  self.tools_menu = ToolsMenu(self, self.qt_viewer.viewer)\n"
     ]
    },
    {
     "data": {
      "text/plain": [
       "<Image layer 'img' at 0x7fe499d82a00>"
      ]
     },
     "execution_count": 55,
     "metadata": {},
     "output_type": "execute_result"
    }
   ],
   "source": [
    "view(masks)"
   ]
  },
  {
   "cell_type": "code",
   "execution_count": 26,
   "id": "4fa6e784",
   "metadata": {},
   "outputs": [
    {
     "data": {
      "application/vnd.jupyter.widget-view+json": {
       "model_id": "3dd82980d4c445ecaefd28c334e3266e",
       "version_major": 2,
       "version_minor": 0
      },
      "text/plain": [
       "  0%|          | 0/24 [00:00<?, ?it/s]"
      ]
     },
     "metadata": {},
     "output_type": "display_data"
    }
   ],
   "source": [
    "t0_dict = dict()\n",
    "for position, assay in tqdm(assay_layout.iterrows(), total = len(assay_layout)):\n",
    "    row, column = position[0], position[1]\n",
    "    input_image = tile.compile_mosaic(image_dir, \n",
    "                                 metadata, \n",
    "                                 row, \n",
    "                                 column, \n",
    "#                                  set_channel=1, \n",
    "                                 set_plane = 'sum_proj',\n",
    "                                 set_time = 1\n",
    "                                 ).compute().compute().astype(np.uint16)\n",
    "    t0_dict[(row, column)] = input_image"
   ]
  },
  {
   "cell_type": "code",
   "execution_count": 56,
   "id": "68f09247",
   "metadata": {},
   "outputs": [
    {
     "name": "stdout",
     "output_type": "stream",
     "text": [
      "[(3, 4), (3, 5), (3, 6), (3, 7), (3, 8), (3, 9), (4, 4), (4, 5), (4, 6), (4, 7), (4, 8), (4, 9), (5, 4), (5, 5), (5, 6), (5, 7), (5, 8), (5, 9), (6, 4), (6, 5), (6, 6), (6, 7), (6, 8), (6, 9)]\n"
     ]
    }
   ],
   "source": [
    "mask_stack = np.stack([mask_t0_dict[key] for key in mask_t0_dict.keys()], axis = 0)\n",
    "t0_stack = np.stack([t0_dict[key][0] for key in t0_dict.keys()], axis = 0)\n",
    "\n",
    "keys = [key for key in mask_t0_dict.keys()]\n",
    "print(keys)"
   ]
  },
  {
   "cell_type": "code",
   "execution_count": 58,
   "id": "1e315b20",
   "metadata": {},
   "outputs": [
    {
     "data": {
      "text/plain": [
       "(24, 6048, 6048)"
      ]
     },
     "execution_count": 58,
     "metadata": {},
     "output_type": "execute_result"
    }
   ],
   "source": [
    "mask_stack.shape"
   ]
  },
  {
   "cell_type": "code",
   "execution_count": 50,
   "id": "d4341529",
   "metadata": {},
   "outputs": [
    {
     "data": {
      "text/plain": [
       "(24, 1, 2, 6048, 6048)"
      ]
     },
     "execution_count": 50,
     "metadata": {},
     "output_type": "execute_result"
    }
   ],
   "source": [
    "t0_stack.shape"
   ]
  },
  {
   "cell_type": "code",
   "execution_count": 62,
   "id": "d54180a8",
   "metadata": {},
   "outputs": [
    {
     "name": "stderr",
     "output_type": "stream",
     "text": [
      "/home/dayn/miniconda3/envs/aero/lib/python3.9/site-packages/napari_tools_menu/__init__.py:194: FutureWarning: Public access to Window.qt_viewer is deprecated and will be removed in\n",
      "v0.5.0. It is considered an \"implementation detail\" of the napari\n",
      "application, not part of the napari viewer model. If your use case\n",
      "requires access to qt_viewer, please open an issue to discuss.\n",
      "  self.tools_menu = ToolsMenu(self, self.qt_viewer.viewer)\n"
     ]
    },
    {
     "data": {
      "text/plain": [
       "<Labels layer 'mask_stack' at 0x7fe4aa601160>"
      ]
     },
     "execution_count": 62,
     "metadata": {},
     "output_type": "execute_result"
    }
   ],
   "source": [
    "v = napari.Viewer()\n",
    "v.add_image(t0_stack, channel_axis=1, \n",
    "            colormap=['green', 'magenta'], \n",
    "            contrast_limits=[[100,6000],[0,3000]])\n",
    "v.add_labels(mask_stack)"
   ]
  },
  {
   "cell_type": "code",
   "execution_count": 63,
   "id": "0522c391",
   "metadata": {},
   "outputs": [],
   "source": [
    "from skimage.io import imsave"
   ]
  },
  {
   "cell_type": "code",
   "execution_count": 66,
   "id": "a0ac2da3",
   "metadata": {},
   "outputs": [
    {
     "name": "stderr",
     "output_type": "stream",
     "text": [
      "/tmp/ipykernel_23651/1706692872.py:1: UserWarning: /mnt/DATA/macrohet/segmentation/ground_truth/r03c04f0*p*1-ch1sk1fk1fl1.tiff is a low contrast image\n",
      "  imsave('/mnt/DATA/macrohet/segmentation/ground_truth/r03c04f0*p*1-ch1sk1fk1fl1.tiff', mask_stack[0])\n"
     ]
    }
   ],
   "source": [
    "imsave('/mnt/DATA/macrohet/segmentation/ground_truth/r03c04f0*p*1-ch1sk1fk1fl1.tiff', mask_stack[0])"
   ]
  },
  {
   "cell_type": "code",
   "execution_count": 92,
   "id": "6ddb803d",
   "metadata": {
    "scrolled": true
   },
   "outputs": [
    {
     "name": "stdout",
     "output_type": "stream",
     "text": [
      "CPU times: user 2min 17s, sys: 36.2 s, total: 2min 53s\n",
      "Wall time: 1min 30s\n"
     ]
    }
   ],
   "source": [
    "%%time \n",
    "masks, flows, styles, diams = model.eval(input_images, \n",
    "                                         batch_size = 32, \n",
    "                                         channels = [0,0], \n",
    "                                         diameter = 250, \n",
    "#                                          resample = True, \n",
    "                                         min_size = 2500, \n",
    "                                         progress = True)"
   ]
  },
  {
   "cell_type": "markdown",
   "id": "badcba11",
   "metadata": {},
   "source": [
    "### Now to lazily mosaic the images using Dask prior to viewing them.\n",
    "\n",
    "1x (75,2,3) [TCZ] image stack takes approximately 1 minute to stitch together, so only load the one field of view I want."
   ]
  },
  {
   "cell_type": "code",
   "execution_count": 24,
   "id": "10033963",
   "metadata": {},
   "outputs": [],
   "source": [
    "images = tile.compile_mosaic(image_dir, \n",
    "                             metadata, \n",
    "                             row, \n",
    "                             column, \n",
    "                             #set_channel=1, \n",
    "                             set_plane = 'sum_proj',\n",
    "#                              set_time = 1\n",
    "                         )#.astype(uint8)"
   ]
  },
  {
   "cell_type": "code",
   "execution_count": 25,
   "id": "d8421e34",
   "metadata": {},
   "outputs": [
    {
     "data": {
      "text/html": [
       "<table>\n",
       "    <tr>\n",
       "        <td>\n",
       "            <table>\n",
       "                <thead>\n",
       "                    <tr>\n",
       "                        <td> </td>\n",
       "                        <th> Array </th>\n",
       "                        <th> Chunk </th>\n",
       "                    </tr>\n",
       "                </thead>\n",
       "                <tbody>\n",
       "                    \n",
       "                    <tr>\n",
       "                        <th> Bytes </th>\n",
       "                        <td> 40.88 GiB </td>\n",
       "                        <td> 62.02 MiB </td>\n",
       "                    </tr>\n",
       "                    \n",
       "                    <tr>\n",
       "                        <th> Shape </th>\n",
       "                        <td> (75, 2, 6048, 6048) </td>\n",
       "                        <td> (1, 2, 2016, 2016) </td>\n",
       "                    </tr>\n",
       "                    <tr>\n",
       "                        <th> Count </th>\n",
       "                        <td> 16200 Tasks </td>\n",
       "                        <td> 675 Chunks </td>\n",
       "                    </tr>\n",
       "                    <tr>\n",
       "                    <th> Type </th>\n",
       "                    <td> uint64 </td>\n",
       "                    <td> numpy.ndarray </td>\n",
       "                    </tr>\n",
       "                </tbody>\n",
       "            </table>\n",
       "        </td>\n",
       "        <td>\n",
       "        <svg width=\"376\" height=\"184\" style=\"stroke:rgb(0,0,0);stroke-width:1\" >\n",
       "\n",
       "  <!-- Horizontal lines -->\n",
       "  <line x1=\"0\" y1=\"0\" x2=\"26\" y2=\"0\" style=\"stroke-width:2\" />\n",
       "  <line x1=\"0\" y1=\"25\" x2=\"26\" y2=\"25\" style=\"stroke-width:2\" />\n",
       "\n",
       "  <!-- Vertical lines -->\n",
       "  <line x1=\"0\" y1=\"0\" x2=\"0\" y2=\"25\" style=\"stroke-width:2\" />\n",
       "  <line x1=\"0\" y1=\"0\" x2=\"0\" y2=\"25\" />\n",
       "  <line x1=\"1\" y1=\"0\" x2=\"1\" y2=\"25\" />\n",
       "  <line x1=\"2\" y1=\"0\" x2=\"2\" y2=\"25\" />\n",
       "  <line x1=\"3\" y1=\"0\" x2=\"3\" y2=\"25\" />\n",
       "  <line x1=\"3\" y1=\"0\" x2=\"3\" y2=\"25\" />\n",
       "  <line x1=\"4\" y1=\"0\" x2=\"4\" y2=\"25\" />\n",
       "  <line x1=\"5\" y1=\"0\" x2=\"5\" y2=\"25\" />\n",
       "  <line x1=\"6\" y1=\"0\" x2=\"6\" y2=\"25\" />\n",
       "  <line x1=\"7\" y1=\"0\" x2=\"7\" y2=\"25\" />\n",
       "  <line x1=\"8\" y1=\"0\" x2=\"8\" y2=\"25\" />\n",
       "  <line x1=\"8\" y1=\"0\" x2=\"8\" y2=\"25\" />\n",
       "  <line x1=\"9\" y1=\"0\" x2=\"9\" y2=\"25\" />\n",
       "  <line x1=\"10\" y1=\"0\" x2=\"10\" y2=\"25\" />\n",
       "  <line x1=\"11\" y1=\"0\" x2=\"11\" y2=\"25\" />\n",
       "  <line x1=\"12\" y1=\"0\" x2=\"12\" y2=\"25\" />\n",
       "  <line x1=\"13\" y1=\"0\" x2=\"13\" y2=\"25\" />\n",
       "  <line x1=\"13\" y1=\"0\" x2=\"13\" y2=\"25\" />\n",
       "  <line x1=\"14\" y1=\"0\" x2=\"14\" y2=\"25\" />\n",
       "  <line x1=\"15\" y1=\"0\" x2=\"15\" y2=\"25\" />\n",
       "  <line x1=\"16\" y1=\"0\" x2=\"16\" y2=\"25\" />\n",
       "  <line x1=\"17\" y1=\"0\" x2=\"17\" y2=\"25\" />\n",
       "  <line x1=\"18\" y1=\"0\" x2=\"18\" y2=\"25\" />\n",
       "  <line x1=\"18\" y1=\"0\" x2=\"18\" y2=\"25\" />\n",
       "  <line x1=\"19\" y1=\"0\" x2=\"19\" y2=\"25\" />\n",
       "  <line x1=\"20\" y1=\"0\" x2=\"20\" y2=\"25\" />\n",
       "  <line x1=\"21\" y1=\"0\" x2=\"21\" y2=\"25\" />\n",
       "  <line x1=\"22\" y1=\"0\" x2=\"22\" y2=\"25\" />\n",
       "  <line x1=\"22\" y1=\"0\" x2=\"22\" y2=\"25\" />\n",
       "  <line x1=\"23\" y1=\"0\" x2=\"23\" y2=\"25\" />\n",
       "  <line x1=\"24\" y1=\"0\" x2=\"24\" y2=\"25\" />\n",
       "  <line x1=\"25\" y1=\"0\" x2=\"25\" y2=\"25\" />\n",
       "  <line x1=\"26\" y1=\"0\" x2=\"26\" y2=\"25\" style=\"stroke-width:2\" />\n",
       "\n",
       "  <!-- Colored Rectangle -->\n",
       "  <polygon points=\"0.0,0.0 26.472362419580787,0.0 26.472362419580787,25.412616514582485 0.0,25.412616514582485\" style=\"fill:#8B4903A0;stroke-width:0\"/>\n",
       "\n",
       "  <!-- Text -->\n",
       "  <text x=\"13.236181\" y=\"45.412617\" font-size=\"1.0rem\" font-weight=\"100\" text-anchor=\"middle\" >75</text>\n",
       "  <text x=\"46.472362\" y=\"12.706308\" font-size=\"1.0rem\" font-weight=\"100\" text-anchor=\"middle\" transform=\"rotate(0,46.472362,12.706308)\">1</text>\n",
       "\n",
       "\n",
       "  <!-- Horizontal lines -->\n",
       "  <line x1=\"96\" y1=\"0\" x2=\"110\" y2=\"14\" style=\"stroke-width:2\" />\n",
       "  <line x1=\"96\" y1=\"40\" x2=\"110\" y2=\"54\" />\n",
       "  <line x1=\"96\" y1=\"80\" x2=\"110\" y2=\"94\" />\n",
       "  <line x1=\"96\" y1=\"120\" x2=\"110\" y2=\"134\" style=\"stroke-width:2\" />\n",
       "\n",
       "  <!-- Vertical lines -->\n",
       "  <line x1=\"96\" y1=\"0\" x2=\"96\" y2=\"120\" style=\"stroke-width:2\" />\n",
       "  <line x1=\"110\" y1=\"14\" x2=\"110\" y2=\"134\" style=\"stroke-width:2\" />\n",
       "\n",
       "  <!-- Colored Rectangle -->\n",
       "  <polygon points=\"96.0,0.0 110.9485979497544,14.948597949754403 110.9485979497544,134.9485979497544 96.0,120.0\" style=\"fill:#ECB172A0;stroke-width:0\"/>\n",
       "\n",
       "  <!-- Horizontal lines -->\n",
       "  <line x1=\"96\" y1=\"0\" x2=\"216\" y2=\"0\" style=\"stroke-width:2\" />\n",
       "  <line x1=\"110\" y1=\"14\" x2=\"230\" y2=\"14\" style=\"stroke-width:2\" />\n",
       "\n",
       "  <!-- Vertical lines -->\n",
       "  <line x1=\"96\" y1=\"0\" x2=\"110\" y2=\"14\" style=\"stroke-width:2\" />\n",
       "  <line x1=\"136\" y1=\"0\" x2=\"150\" y2=\"14\" />\n",
       "  <line x1=\"176\" y1=\"0\" x2=\"190\" y2=\"14\" />\n",
       "  <line x1=\"216\" y1=\"0\" x2=\"230\" y2=\"14\" style=\"stroke-width:2\" />\n",
       "\n",
       "  <!-- Colored Rectangle -->\n",
       "  <polygon points=\"96.0,0.0 216.0,0.0 230.9485979497544,14.948597949754403 110.9485979497544,14.948597949754403\" style=\"fill:#ECB172A0;stroke-width:0\"/>\n",
       "\n",
       "  <!-- Horizontal lines -->\n",
       "  <line x1=\"110\" y1=\"14\" x2=\"230\" y2=\"14\" style=\"stroke-width:2\" />\n",
       "  <line x1=\"110\" y1=\"54\" x2=\"230\" y2=\"54\" />\n",
       "  <line x1=\"110\" y1=\"94\" x2=\"230\" y2=\"94\" />\n",
       "  <line x1=\"110\" y1=\"134\" x2=\"230\" y2=\"134\" style=\"stroke-width:2\" />\n",
       "\n",
       "  <!-- Vertical lines -->\n",
       "  <line x1=\"110\" y1=\"14\" x2=\"110\" y2=\"134\" style=\"stroke-width:2\" />\n",
       "  <line x1=\"150\" y1=\"14\" x2=\"150\" y2=\"134\" />\n",
       "  <line x1=\"190\" y1=\"14\" x2=\"190\" y2=\"134\" />\n",
       "  <line x1=\"230\" y1=\"14\" x2=\"230\" y2=\"134\" style=\"stroke-width:2\" />\n",
       "\n",
       "  <!-- Colored Rectangle -->\n",
       "  <polygon points=\"110.9485979497544,14.948597949754403 230.9485979497544,14.948597949754403 230.9485979497544,134.9485979497544 110.9485979497544,134.9485979497544\" style=\"fill:#ECB172A0;stroke-width:0\"/>\n",
       "\n",
       "  <!-- Text -->\n",
       "  <text x=\"170.948598\" y=\"154.948598\" font-size=\"1.0rem\" font-weight=\"100\" text-anchor=\"middle\" >6048</text>\n",
       "  <text x=\"250.948598\" y=\"74.948598\" font-size=\"1.0rem\" font-weight=\"100\" text-anchor=\"middle\" transform=\"rotate(-90,250.948598,74.948598)\">6048</text>\n",
       "  <text x=\"93.474299\" y=\"147.474299\" font-size=\"1.0rem\" font-weight=\"100\" text-anchor=\"middle\" transform=\"rotate(45,93.474299,147.474299)\">2</text>\n",
       "</svg>\n",
       "        </td>\n",
       "    </tr>\n",
       "</table>"
      ],
      "text/plain": [
       "dask.array<sum-aggregate, shape=(75, 2, 6048, 6048), dtype=uint64, chunksize=(1, 2, 2016, 2016), chunktype=numpy.ndarray>"
      ]
     },
     "execution_count": 25,
     "metadata": {},
     "output_type": "execute_result"
    }
   ],
   "source": [
    "images"
   ]
  },
  {
   "cell_type": "code",
   "execution_count": 90,
   "id": "997b6ac7",
   "metadata": {},
   "outputs": [
    {
     "data": {
      "text/html": [
       "<table>\n",
       "    <tr>\n",
       "        <td>\n",
       "            <table>\n",
       "                <thead>\n",
       "                    <tr>\n",
       "                        <td> </td>\n",
       "                        <th> Array </th>\n",
       "                        <th> Chunk </th>\n",
       "                    </tr>\n",
       "                </thead>\n",
       "                <tbody>\n",
       "                    \n",
       "                    <tr>\n",
       "                        <th> Bytes </th>\n",
       "                        <td> 20.44 GiB </td>\n",
       "                        <td> 31.01 MiB </td>\n",
       "                    </tr>\n",
       "                    \n",
       "                    <tr>\n",
       "                        <th> Shape </th>\n",
       "                        <td> (75, 6048, 6048) </td>\n",
       "                        <td> (1, 2016, 2016) </td>\n",
       "                    </tr>\n",
       "                    <tr>\n",
       "                        <th> Count </th>\n",
       "                        <td> 16875 Tasks </td>\n",
       "                        <td> 675 Chunks </td>\n",
       "                    </tr>\n",
       "                    <tr>\n",
       "                    <th> Type </th>\n",
       "                    <td> uint64 </td>\n",
       "                    <td> numpy.ndarray </td>\n",
       "                    </tr>\n",
       "                </tbody>\n",
       "            </table>\n",
       "        </td>\n",
       "        <td>\n",
       "        <svg width=\"195\" height=\"185\" style=\"stroke:rgb(0,0,0);stroke-width:1\" >\n",
       "\n",
       "  <!-- Horizontal lines -->\n",
       "  <line x1=\"10\" y1=\"0\" x2=\"25\" y2=\"15\" style=\"stroke-width:2\" />\n",
       "  <line x1=\"10\" y1=\"40\" x2=\"25\" y2=\"55\" />\n",
       "  <line x1=\"10\" y1=\"80\" x2=\"25\" y2=\"95\" />\n",
       "  <line x1=\"10\" y1=\"120\" x2=\"25\" y2=\"135\" style=\"stroke-width:2\" />\n",
       "\n",
       "  <!-- Vertical lines -->\n",
       "  <line x1=\"10\" y1=\"0\" x2=\"10\" y2=\"120\" style=\"stroke-width:2\" />\n",
       "  <line x1=\"10\" y1=\"0\" x2=\"10\" y2=\"120\" />\n",
       "  <line x1=\"11\" y1=\"1\" x2=\"11\" y2=\"121\" />\n",
       "  <line x1=\"12\" y1=\"2\" x2=\"12\" y2=\"122\" />\n",
       "  <line x1=\"13\" y1=\"3\" x2=\"13\" y2=\"123\" />\n",
       "  <line x1=\"13\" y1=\"3\" x2=\"13\" y2=\"123\" />\n",
       "  <line x1=\"14\" y1=\"4\" x2=\"14\" y2=\"124\" />\n",
       "  <line x1=\"15\" y1=\"5\" x2=\"15\" y2=\"125\" />\n",
       "  <line x1=\"16\" y1=\"6\" x2=\"16\" y2=\"126\" />\n",
       "  <line x1=\"17\" y1=\"7\" x2=\"17\" y2=\"127\" />\n",
       "  <line x1=\"18\" y1=\"8\" x2=\"18\" y2=\"128\" />\n",
       "  <line x1=\"18\" y1=\"8\" x2=\"18\" y2=\"128\" />\n",
       "  <line x1=\"19\" y1=\"9\" x2=\"19\" y2=\"129\" />\n",
       "  <line x1=\"20\" y1=\"10\" x2=\"20\" y2=\"130\" />\n",
       "  <line x1=\"21\" y1=\"11\" x2=\"21\" y2=\"131\" />\n",
       "  <line x1=\"22\" y1=\"12\" x2=\"22\" y2=\"132\" />\n",
       "  <line x1=\"23\" y1=\"13\" x2=\"23\" y2=\"133\" />\n",
       "  <line x1=\"23\" y1=\"13\" x2=\"23\" y2=\"133\" />\n",
       "  <line x1=\"24\" y1=\"14\" x2=\"24\" y2=\"134\" />\n",
       "  <line x1=\"25\" y1=\"15\" x2=\"25\" y2=\"135\" style=\"stroke-width:2\" />\n",
       "\n",
       "  <!-- Colored Rectangle -->\n",
       "  <polygon points=\"10.0,0.0 25.57197789387105,15.57197789387105 25.57197789387105,135.57197789387106 10.0,120.0\" style=\"fill:#8B4903A0;stroke-width:0\"/>\n",
       "\n",
       "  <!-- Horizontal lines -->\n",
       "  <line x1=\"10\" y1=\"0\" x2=\"130\" y2=\"0\" style=\"stroke-width:2\" />\n",
       "  <line x1=\"10\" y1=\"0\" x2=\"130\" y2=\"0\" />\n",
       "  <line x1=\"11\" y1=\"1\" x2=\"131\" y2=\"1\" />\n",
       "  <line x1=\"12\" y1=\"2\" x2=\"132\" y2=\"2\" />\n",
       "  <line x1=\"13\" y1=\"3\" x2=\"133\" y2=\"3\" />\n",
       "  <line x1=\"13\" y1=\"3\" x2=\"133\" y2=\"3\" />\n",
       "  <line x1=\"14\" y1=\"4\" x2=\"134\" y2=\"4\" />\n",
       "  <line x1=\"15\" y1=\"5\" x2=\"135\" y2=\"5\" />\n",
       "  <line x1=\"16\" y1=\"6\" x2=\"136\" y2=\"6\" />\n",
       "  <line x1=\"17\" y1=\"7\" x2=\"137\" y2=\"7\" />\n",
       "  <line x1=\"18\" y1=\"8\" x2=\"138\" y2=\"8\" />\n",
       "  <line x1=\"18\" y1=\"8\" x2=\"138\" y2=\"8\" />\n",
       "  <line x1=\"19\" y1=\"9\" x2=\"139\" y2=\"9\" />\n",
       "  <line x1=\"20\" y1=\"10\" x2=\"140\" y2=\"10\" />\n",
       "  <line x1=\"21\" y1=\"11\" x2=\"141\" y2=\"11\" />\n",
       "  <line x1=\"22\" y1=\"12\" x2=\"142\" y2=\"12\" />\n",
       "  <line x1=\"23\" y1=\"13\" x2=\"143\" y2=\"13\" />\n",
       "  <line x1=\"23\" y1=\"13\" x2=\"143\" y2=\"13\" />\n",
       "  <line x1=\"24\" y1=\"14\" x2=\"144\" y2=\"14\" />\n",
       "  <line x1=\"25\" y1=\"15\" x2=\"145\" y2=\"15\" style=\"stroke-width:2\" />\n",
       "\n",
       "  <!-- Vertical lines -->\n",
       "  <line x1=\"10\" y1=\"0\" x2=\"25\" y2=\"15\" style=\"stroke-width:2\" />\n",
       "  <line x1=\"50\" y1=\"0\" x2=\"65\" y2=\"15\" />\n",
       "  <line x1=\"90\" y1=\"0\" x2=\"105\" y2=\"15\" />\n",
       "  <line x1=\"130\" y1=\"0\" x2=\"145\" y2=\"15\" style=\"stroke-width:2\" />\n",
       "\n",
       "  <!-- Colored Rectangle -->\n",
       "  <polygon points=\"10.0,0.0 130.0,0.0 145.57197789387106,15.57197789387105 25.57197789387105,15.57197789387105\" style=\"fill:#8B4903A0;stroke-width:0\"/>\n",
       "\n",
       "  <!-- Horizontal lines -->\n",
       "  <line x1=\"25\" y1=\"15\" x2=\"145\" y2=\"15\" style=\"stroke-width:2\" />\n",
       "  <line x1=\"25\" y1=\"55\" x2=\"145\" y2=\"55\" />\n",
       "  <line x1=\"25\" y1=\"95\" x2=\"145\" y2=\"95\" />\n",
       "  <line x1=\"25\" y1=\"135\" x2=\"145\" y2=\"135\" style=\"stroke-width:2\" />\n",
       "\n",
       "  <!-- Vertical lines -->\n",
       "  <line x1=\"25\" y1=\"15\" x2=\"25\" y2=\"135\" style=\"stroke-width:2\" />\n",
       "  <line x1=\"65\" y1=\"15\" x2=\"65\" y2=\"135\" />\n",
       "  <line x1=\"105\" y1=\"15\" x2=\"105\" y2=\"135\" />\n",
       "  <line x1=\"145\" y1=\"15\" x2=\"145\" y2=\"135\" style=\"stroke-width:2\" />\n",
       "\n",
       "  <!-- Colored Rectangle -->\n",
       "  <polygon points=\"25.57197789387105,15.57197789387105 145.57197789387106,15.57197789387105 145.57197789387106,135.57197789387106 25.57197789387105,135.57197789387106\" style=\"fill:#ECB172A0;stroke-width:0\"/>\n",
       "\n",
       "  <!-- Text -->\n",
       "  <text x=\"85.571978\" y=\"155.571978\" font-size=\"1.0rem\" font-weight=\"100\" text-anchor=\"middle\" >6048</text>\n",
       "  <text x=\"165.571978\" y=\"75.571978\" font-size=\"1.0rem\" font-weight=\"100\" text-anchor=\"middle\" transform=\"rotate(-90,165.571978,75.571978)\">6048</text>\n",
       "  <text x=\"7.785989\" y=\"147.785989\" font-size=\"1.0rem\" font-weight=\"100\" text-anchor=\"middle\" transform=\"rotate(45,7.785989,147.785989)\">75</text>\n",
       "</svg>\n",
       "        </td>\n",
       "    </tr>\n",
       "</table>"
      ],
      "text/plain": [
       "dask.array<getitem, shape=(75, 6048, 6048), dtype=uint64, chunksize=(1, 2016, 2016), chunktype=numpy.ndarray>"
      ]
     },
     "execution_count": 90,
     "metadata": {},
     "output_type": "execute_result"
    }
   ],
   "source": [
    "input_images = images[:,0,...]#.compute().compute().astype(np.uint16)\n",
    "input_images"
   ]
  },
  {
   "cell_type": "markdown",
   "id": "b4fec950",
   "metadata": {},
   "source": [
    "### Temporary: Load masks"
   ]
  },
  {
   "cell_type": "code",
   "execution_count": 97,
   "id": "d56ccdff",
   "metadata": {},
   "outputs": [
    {
     "name": "stdout",
     "output_type": "stream",
     "text": [
      "dict_keys([(200, 0.0), (200, 0.6), (250, 0.0), (300, 0.0), (300, 0.6), (200, 0.8)])\n"
     ]
    }
   ],
   "source": [
    "masks_dict = np.load('segmentation/modified_mask_dict.npy', allow_pickle=True).item()\n",
    "print(masks_dict.keys())"
   ]
  },
  {
   "cell_type": "code",
   "execution_count": 99,
   "id": "2a943a48",
   "metadata": {},
   "outputs": [],
   "source": [
    "masks = masks_dict[(300,0.0)]"
   ]
  },
  {
   "cell_type": "code",
   "execution_count": 100,
   "id": "d775be58",
   "metadata": {},
   "outputs": [
    {
     "data": {
      "text/plain": [
       "(75, 6048, 6048)"
      ]
     },
     "execution_count": 100,
     "metadata": {},
     "output_type": "execute_result"
    }
   ],
   "source": [
    "masks.shape"
   ]
  },
  {
   "cell_type": "markdown",
   "id": "d402ab31",
   "metadata": {},
   "source": [
    "# Check masks \n",
    "\n",
    "and perform a quick post-segmentation cleaning on them"
   ]
  },
  {
   "cell_type": "code",
   "execution_count": 98,
   "id": "336ff3a7",
   "metadata": {
    "scrolled": true
   },
   "outputs": [
    {
     "name": "stderr",
     "output_type": "stream",
     "text": [
      "/home/dayn/miniconda3/envs/aero/lib/python3.9/site-packages/napari_tools_menu/__init__.py:194: FutureWarning: Public access to Window.qt_viewer is deprecated and will be removed in\n",
      "v0.5.0. It is considered an \"implementation detail\" of the napari\n",
      "application, not part of the napari viewer model. If your use case\n",
      "requires access to qt_viewer, please open an issue to discuss.\n",
      "  self.tools_menu = ToolsMenu(self, self.qt_viewer.viewer)\n"
     ]
    }
   ],
   "source": [
    "v = napari.Viewer()\n",
    "v.add_image(images, \n",
    "            channel_axis = 1, \n",
    "            colormap=['green', 'magenta'], \n",
    "            contrast_limits=[[100,6000],[0,3000]])\n",
    "# for key in masks_dict.keys():\n",
    "#     v.add_labels(masks_dict[key][0], name = key)\n",
    "v.add_labels(masks, name = 'masks')"
   ]
  },
  {
   "cell_type": "markdown",
   "id": "cfa81ace",
   "metadata": {},
   "source": [
    "## Post-segmentation editing"
   ]
  },
  {
   "cell_type": "code",
   "execution_count": 106,
   "id": "6c15b679",
   "metadata": {},
   "outputs": [],
   "source": [
    "from skimage.morphology import remove_small_objects, remove_small_holes, binary_erosion, square"
   ]
  },
  {
   "cell_type": "code",
   "execution_count": 108,
   "id": "69f57ae5",
   "metadata": {
    "scrolled": true
   },
   "outputs": [
    {
     "data": {
      "application/vnd.jupyter.widget-view+json": {
       "model_id": "909e747c212d42a09ea0307e2c90f030",
       "version_major": 2,
       "version_minor": 0
      },
      "text/plain": [
       "  0%|          | 0/75 [00:00<?, ?it/s]"
      ]
     },
     "metadata": {},
     "output_type": "display_data"
    }
   ],
   "source": [
    "###Q: do i need to remove small objects? don't think so\n",
    "###Q: do i need to erode? no as am not binarising...\n",
    "cleaned_masks = list()\n",
    "for i, mask in tqdm(enumerate(masks), total = len(masks)):\n",
    "    mask = binary_erosion(mask, square(5))\n",
    "    mask = remove_small_holes(mask, area_threshold=50)\n",
    "    cleaned_masks.append(mask)\n",
    "cleaned_masks = np.stack(cleaned_masks, axis = 0)"
   ]
  },
  {
   "cell_type": "code",
   "execution_count": 113,
   "id": "b3e582e5",
   "metadata": {},
   "outputs": [
    {
     "name": "stderr",
     "output_type": "stream",
     "text": [
      "/home/dayn/miniconda3/envs/aero/lib/python3.9/site-packages/napari_tools_menu/__init__.py:194: FutureWarning: Public access to Window.qt_viewer is deprecated and will be removed in\n",
      "v0.5.0. It is considered an \"implementation detail\" of the napari\n",
      "application, not part of the napari viewer model. If your use case\n",
      "requires access to qt_viewer, please open an issue to discuss.\n",
      "  self.tools_menu = ToolsMenu(self, self.qt_viewer.viewer)\n"
     ]
    },
    {
     "data": {
      "text/plain": [
       "<Image layer 'img' at 0x7f09b5f966a0>"
      ]
     },
     "execution_count": 113,
     "metadata": {},
     "output_type": "execute_result"
    }
   ],
   "source": [
    "view(masks[37])"
   ]
  },
  {
   "cell_type": "code",
   "execution_count": null,
   "id": "a8203b7d",
   "metadata": {},
   "outputs": [],
   "source": [
    "masks = masks.compute()\n",
    "masks"
   ]
  },
  {
   "cell_type": "code",
   "execution_count": 118,
   "id": "ab1f351a",
   "metadata": {},
   "outputs": [
    {
     "name": "stderr",
     "output_type": "stream",
     "text": [
      "/home/dayn/miniconda3/envs/aero/lib/python3.9/site-packages/napari_tools_menu/__init__.py:194: FutureWarning: Public access to Window.qt_viewer is deprecated and will be removed in\n",
      "v0.5.0. It is considered an \"implementation detail\" of the napari\n",
      "application, not part of the napari viewer model. If your use case\n",
      "requires access to qt_viewer, please open an issue to discuss.\n",
      "  self.tools_menu = ToolsMenu(self, self.qt_viewer.viewer)\n"
     ]
    },
    {
     "data": {
      "text/plain": [
       "<Labels layer 'masks' at 0x7f09cd7a5310>"
      ]
     },
     "execution_count": 118,
     "metadata": {},
     "output_type": "execute_result"
    }
   ],
   "source": [
    "v = napari.Viewer()\n",
    "v.add_image(images, \n",
    "            channel_axis = 1, \n",
    "            colormap=['green', 'magenta'], \n",
    "            contrast_limits=[[100,6000],[0,3000]])\n",
    "# for key in masks_dict.keys():\n",
    "#     v.add_labels(masks_dict[key][0], name = key)\n",
    "# v.add_labels(masks, name = 'masks')\n",
    "v.add_labels(cleaned_masks[37], name = 'masks')"
   ]
  },
  {
   "cell_type": "code",
   "execution_count": 122,
   "id": "4d360838",
   "metadata": {},
   "outputs": [
    {
     "name": "stderr",
     "output_type": "stream",
     "text": [
      "/home/dayn/miniconda3/envs/aero/lib/python3.9/site-packages/napari_tools_menu/__init__.py:194: FutureWarning: Public access to Window.qt_viewer is deprecated and will be removed in\n",
      "v0.5.0. It is considered an \"implementation detail\" of the napari\n",
      "application, not part of the napari viewer model. If your use case\n",
      "requires access to qt_viewer, please open an issue to discuss.\n",
      "  self.tools_menu = ToolsMenu(self, self.qt_viewer.viewer)\n"
     ]
    },
    {
     "data": {
      "text/plain": [
       "<Labels layer 'masks' at 0x7f09f1fc69d0>"
      ]
     },
     "execution_count": 122,
     "metadata": {},
     "output_type": "execute_result"
    }
   ],
   "source": [
    "v = napari.Viewer()\n",
    "v.add_image(images[37,...], \n",
    "            channel_axis = 0, \n",
    "            colormap=['green', 'magenta'], \n",
    "            contrast_limits=[[100,6000],[0,3000]])\n",
    "# for key in masks_dict.keys():\n",
    "#     v.add_labels(masks_dict[key][0], name = key)\n",
    "# v.add_labels(masks, name = 'masks')\n",
    "v.add_labels(cleaned_masks[37], name = 'masks')"
   ]
  },
  {
   "cell_type": "markdown",
   "id": "d3f5b1b4",
   "metadata": {},
   "source": [
    "#### Reorder the channel axis for localisation"
   ]
  },
  {
   "cell_type": "code",
   "execution_count": 6,
   "id": "ebd18d65",
   "metadata": {},
   "outputs": [
    {
     "data": {
      "text/html": [
       "<table>\n",
       "    <tr>\n",
       "        <td>\n",
       "            <table>\n",
       "                <thead>\n",
       "                    <tr>\n",
       "                        <td> </td>\n",
       "                        <th> Array </th>\n",
       "                        <th> Chunk </th>\n",
       "                    </tr>\n",
       "                </thead>\n",
       "                <tbody>\n",
       "                    \n",
       "                    <tr>\n",
       "                        <th> Bytes </th>\n",
       "                        <td> 40.88 GiB </td>\n",
       "                        <td> 31.01 MiB </td>\n",
       "                    </tr>\n",
       "                    \n",
       "                    <tr>\n",
       "                        <th> Shape </th>\n",
       "                        <td> (75, 6048, 6048, 2) </td>\n",
       "                        <td> (1, 2016, 2016, 1) </td>\n",
       "                    </tr>\n",
       "                    <tr>\n",
       "                        <th> Count </th>\n",
       "                        <td> 18900 Tasks </td>\n",
       "                        <td> 1350 Chunks </td>\n",
       "                    </tr>\n",
       "                    <tr>\n",
       "                    <th> Type </th>\n",
       "                    <td> uint64 </td>\n",
       "                    <td> numpy.ndarray </td>\n",
       "                    </tr>\n",
       "                </tbody>\n",
       "            </table>\n",
       "        </td>\n",
       "        <td>\n",
       "        <svg width=\"338\" height=\"240\" style=\"stroke:rgb(0,0,0);stroke-width:1\" >\n",
       "\n",
       "  <!-- Horizontal lines -->\n",
       "  <line x1=\"0\" y1=\"0\" x2=\"26\" y2=\"0\" style=\"stroke-width:2\" />\n",
       "  <line x1=\"0\" y1=\"25\" x2=\"26\" y2=\"25\" style=\"stroke-width:2\" />\n",
       "\n",
       "  <!-- Vertical lines -->\n",
       "  <line x1=\"0\" y1=\"0\" x2=\"0\" y2=\"25\" style=\"stroke-width:2\" />\n",
       "  <line x1=\"0\" y1=\"0\" x2=\"0\" y2=\"25\" />\n",
       "  <line x1=\"1\" y1=\"0\" x2=\"1\" y2=\"25\" />\n",
       "  <line x1=\"2\" y1=\"0\" x2=\"2\" y2=\"25\" />\n",
       "  <line x1=\"3\" y1=\"0\" x2=\"3\" y2=\"25\" />\n",
       "  <line x1=\"3\" y1=\"0\" x2=\"3\" y2=\"25\" />\n",
       "  <line x1=\"4\" y1=\"0\" x2=\"4\" y2=\"25\" />\n",
       "  <line x1=\"5\" y1=\"0\" x2=\"5\" y2=\"25\" />\n",
       "  <line x1=\"6\" y1=\"0\" x2=\"6\" y2=\"25\" />\n",
       "  <line x1=\"7\" y1=\"0\" x2=\"7\" y2=\"25\" />\n",
       "  <line x1=\"8\" y1=\"0\" x2=\"8\" y2=\"25\" />\n",
       "  <line x1=\"8\" y1=\"0\" x2=\"8\" y2=\"25\" />\n",
       "  <line x1=\"9\" y1=\"0\" x2=\"9\" y2=\"25\" />\n",
       "  <line x1=\"10\" y1=\"0\" x2=\"10\" y2=\"25\" />\n",
       "  <line x1=\"11\" y1=\"0\" x2=\"11\" y2=\"25\" />\n",
       "  <line x1=\"12\" y1=\"0\" x2=\"12\" y2=\"25\" />\n",
       "  <line x1=\"13\" y1=\"0\" x2=\"13\" y2=\"25\" />\n",
       "  <line x1=\"13\" y1=\"0\" x2=\"13\" y2=\"25\" />\n",
       "  <line x1=\"14\" y1=\"0\" x2=\"14\" y2=\"25\" />\n",
       "  <line x1=\"15\" y1=\"0\" x2=\"15\" y2=\"25\" />\n",
       "  <line x1=\"16\" y1=\"0\" x2=\"16\" y2=\"25\" />\n",
       "  <line x1=\"17\" y1=\"0\" x2=\"17\" y2=\"25\" />\n",
       "  <line x1=\"18\" y1=\"0\" x2=\"18\" y2=\"25\" />\n",
       "  <line x1=\"18\" y1=\"0\" x2=\"18\" y2=\"25\" />\n",
       "  <line x1=\"19\" y1=\"0\" x2=\"19\" y2=\"25\" />\n",
       "  <line x1=\"20\" y1=\"0\" x2=\"20\" y2=\"25\" />\n",
       "  <line x1=\"21\" y1=\"0\" x2=\"21\" y2=\"25\" />\n",
       "  <line x1=\"22\" y1=\"0\" x2=\"22\" y2=\"25\" />\n",
       "  <line x1=\"22\" y1=\"0\" x2=\"22\" y2=\"25\" />\n",
       "  <line x1=\"23\" y1=\"0\" x2=\"23\" y2=\"25\" />\n",
       "  <line x1=\"24\" y1=\"0\" x2=\"24\" y2=\"25\" />\n",
       "  <line x1=\"25\" y1=\"0\" x2=\"25\" y2=\"25\" />\n",
       "  <line x1=\"26\" y1=\"0\" x2=\"26\" y2=\"25\" style=\"stroke-width:2\" />\n",
       "\n",
       "  <!-- Colored Rectangle -->\n",
       "  <polygon points=\"0.0,0.0 26.472362419580787,0.0 26.472362419580787,25.412616514582485 0.0,25.412616514582485\" style=\"fill:#8B4903A0;stroke-width:0\"/>\n",
       "\n",
       "  <!-- Text -->\n",
       "  <text x=\"13.236181\" y=\"45.412617\" font-size=\"1.0rem\" font-weight=\"100\" text-anchor=\"middle\" >75</text>\n",
       "  <text x=\"46.472362\" y=\"12.706308\" font-size=\"1.0rem\" font-weight=\"100\" text-anchor=\"middle\" transform=\"rotate(0,46.472362,12.706308)\">1</text>\n",
       "\n",
       "\n",
       "  <!-- Horizontal lines -->\n",
       "  <line x1=\"96\" y1=\"0\" x2=\"166\" y2=\"70\" style=\"stroke-width:2\" />\n",
       "  <line x1=\"96\" y1=\"40\" x2=\"166\" y2=\"110\" />\n",
       "  <line x1=\"96\" y1=\"80\" x2=\"166\" y2=\"150\" />\n",
       "  <line x1=\"96\" y1=\"120\" x2=\"166\" y2=\"190\" style=\"stroke-width:2\" />\n",
       "\n",
       "  <!-- Vertical lines -->\n",
       "  <line x1=\"96\" y1=\"0\" x2=\"96\" y2=\"120\" style=\"stroke-width:2\" />\n",
       "  <line x1=\"119\" y1=\"23\" x2=\"119\" y2=\"143\" />\n",
       "  <line x1=\"143\" y1=\"47\" x2=\"143\" y2=\"167\" />\n",
       "  <line x1=\"166\" y1=\"70\" x2=\"166\" y2=\"190\" style=\"stroke-width:2\" />\n",
       "\n",
       "  <!-- Colored Rectangle -->\n",
       "  <polygon points=\"96.0,0.0 166.58823529411765,70.58823529411765 166.58823529411765,190.58823529411765 96.0,120.0\" style=\"fill:#ECB172A0;stroke-width:0\"/>\n",
       "\n",
       "  <!-- Horizontal lines -->\n",
       "  <line x1=\"96\" y1=\"0\" x2=\"121\" y2=\"0\" style=\"stroke-width:2\" />\n",
       "  <line x1=\"119\" y1=\"23\" x2=\"144\" y2=\"23\" />\n",
       "  <line x1=\"143\" y1=\"47\" x2=\"168\" y2=\"47\" />\n",
       "  <line x1=\"166\" y1=\"70\" x2=\"192\" y2=\"70\" style=\"stroke-width:2\" />\n",
       "\n",
       "  <!-- Vertical lines -->\n",
       "  <line x1=\"96\" y1=\"0\" x2=\"166\" y2=\"70\" style=\"stroke-width:2\" />\n",
       "  <line x1=\"108\" y1=\"0\" x2=\"179\" y2=\"70\" />\n",
       "  <line x1=\"121\" y1=\"0\" x2=\"192\" y2=\"70\" style=\"stroke-width:2\" />\n",
       "\n",
       "  <!-- Colored Rectangle -->\n",
       "  <polygon points=\"96.0,0.0 121.41261651458248,0.0 192.00085180870013,70.58823529411765 166.58823529411765,70.58823529411765\" style=\"fill:#ECB172A0;stroke-width:0\"/>\n",
       "\n",
       "  <!-- Horizontal lines -->\n",
       "  <line x1=\"166\" y1=\"70\" x2=\"192\" y2=\"70\" style=\"stroke-width:2\" />\n",
       "  <line x1=\"166\" y1=\"110\" x2=\"192\" y2=\"110\" />\n",
       "  <line x1=\"166\" y1=\"150\" x2=\"192\" y2=\"150\" />\n",
       "  <line x1=\"166\" y1=\"190\" x2=\"192\" y2=\"190\" style=\"stroke-width:2\" />\n",
       "\n",
       "  <!-- Vertical lines -->\n",
       "  <line x1=\"166\" y1=\"70\" x2=\"166\" y2=\"190\" style=\"stroke-width:2\" />\n",
       "  <line x1=\"179\" y1=\"70\" x2=\"179\" y2=\"190\" />\n",
       "  <line x1=\"192\" y1=\"70\" x2=\"192\" y2=\"190\" style=\"stroke-width:2\" />\n",
       "\n",
       "  <!-- Colored Rectangle -->\n",
       "  <polygon points=\"166.58823529411765,70.58823529411765 192.00085180870013,70.58823529411765 192.00085180870013,190.58823529411765 166.58823529411765,190.58823529411765\" style=\"fill:#ECB172A0;stroke-width:0\"/>\n",
       "\n",
       "  <!-- Text -->\n",
       "  <text x=\"179.294544\" y=\"210.588235\" font-size=\"1.0rem\" font-weight=\"100\" text-anchor=\"middle\" >2</text>\n",
       "  <text x=\"212.000852\" y=\"130.588235\" font-size=\"1.0rem\" font-weight=\"100\" text-anchor=\"middle\" transform=\"rotate(-90,212.000852,130.588235)\">6048</text>\n",
       "  <text x=\"121.294118\" y=\"175.294118\" font-size=\"1.0rem\" font-weight=\"100\" text-anchor=\"middle\" transform=\"rotate(45,121.294118,175.294118)\">6048</text>\n",
       "</svg>\n",
       "        </td>\n",
       "    </tr>\n",
       "</table>"
      ],
      "text/plain": [
       "dask.array<stack, shape=(75, 6048, 6048, 2), dtype=uint64, chunksize=(1, 2016, 2016, 1), chunktype=numpy.ndarray>"
      ]
     },
     "execution_count": 6,
     "metadata": {},
     "output_type": "execute_result"
    }
   ],
   "source": [
    "gfp = images[:,0,...]\n",
    "rfp = images[:,1,...]\n",
    "images = da.stack([gfp,rfp], axis = -1)\n",
    "images"
   ]
  },
  {
   "cell_type": "code",
   "execution_count": 8,
   "id": "b0f7d43c",
   "metadata": {},
   "outputs": [],
   "source": [
    "### convert to dask array so that it is compatible with images for localisation\n",
    "masks = da.from_array(masks)"
   ]
  },
  {
   "cell_type": "code",
   "execution_count": 9,
   "id": "1decc878",
   "metadata": {},
   "outputs": [
    {
     "data": {
      "text/html": [
       "<table>\n",
       "    <tr>\n",
       "        <td>\n",
       "            <table>\n",
       "                <thead>\n",
       "                    <tr>\n",
       "                        <td> </td>\n",
       "                        <th> Array </th>\n",
       "                        <th> Chunk </th>\n",
       "                    </tr>\n",
       "                </thead>\n",
       "                <tbody>\n",
       "                    \n",
       "                    <tr>\n",
       "                        <th> Bytes </th>\n",
       "                        <td> 5.11 GiB </td>\n",
       "                        <td> 106.79 MiB </td>\n",
       "                    </tr>\n",
       "                    \n",
       "                    <tr>\n",
       "                        <th> Shape </th>\n",
       "                        <td> (75, 6048, 6048) </td>\n",
       "                        <td> (75, 864, 864) </td>\n",
       "                    </tr>\n",
       "                    <tr>\n",
       "                        <th> Count </th>\n",
       "                        <td> 49 Tasks </td>\n",
       "                        <td> 49 Chunks </td>\n",
       "                    </tr>\n",
       "                    <tr>\n",
       "                    <th> Type </th>\n",
       "                    <td> uint16 </td>\n",
       "                    <td> numpy.ndarray </td>\n",
       "                    </tr>\n",
       "                </tbody>\n",
       "            </table>\n",
       "        </td>\n",
       "        <td>\n",
       "        <svg width=\"195\" height=\"185\" style=\"stroke:rgb(0,0,0);stroke-width:1\" >\n",
       "\n",
       "  <!-- Horizontal lines -->\n",
       "  <line x1=\"10\" y1=\"0\" x2=\"25\" y2=\"15\" style=\"stroke-width:2\" />\n",
       "  <line x1=\"10\" y1=\"17\" x2=\"25\" y2=\"32\" />\n",
       "  <line x1=\"10\" y1=\"34\" x2=\"25\" y2=\"49\" />\n",
       "  <line x1=\"10\" y1=\"51\" x2=\"25\" y2=\"67\" />\n",
       "  <line x1=\"10\" y1=\"68\" x2=\"25\" y2=\"84\" />\n",
       "  <line x1=\"10\" y1=\"85\" x2=\"25\" y2=\"101\" />\n",
       "  <line x1=\"10\" y1=\"102\" x2=\"25\" y2=\"118\" />\n",
       "  <line x1=\"10\" y1=\"120\" x2=\"25\" y2=\"135\" style=\"stroke-width:2\" />\n",
       "\n",
       "  <!-- Vertical lines -->\n",
       "  <line x1=\"10\" y1=\"0\" x2=\"10\" y2=\"120\" style=\"stroke-width:2\" />\n",
       "  <line x1=\"25\" y1=\"15\" x2=\"25\" y2=\"135\" style=\"stroke-width:2\" />\n",
       "\n",
       "  <!-- Colored Rectangle -->\n",
       "  <polygon points=\"10.0,0.0 25.57197789387105,15.57197789387105 25.57197789387105,135.57197789387106 10.0,120.0\" style=\"fill:#ECB172A0;stroke-width:0\"/>\n",
       "\n",
       "  <!-- Horizontal lines -->\n",
       "  <line x1=\"10\" y1=\"0\" x2=\"130\" y2=\"0\" style=\"stroke-width:2\" />\n",
       "  <line x1=\"25\" y1=\"15\" x2=\"145\" y2=\"15\" style=\"stroke-width:2\" />\n",
       "\n",
       "  <!-- Vertical lines -->\n",
       "  <line x1=\"10\" y1=\"0\" x2=\"25\" y2=\"15\" style=\"stroke-width:2\" />\n",
       "  <line x1=\"27\" y1=\"0\" x2=\"42\" y2=\"15\" />\n",
       "  <line x1=\"44\" y1=\"0\" x2=\"59\" y2=\"15\" />\n",
       "  <line x1=\"61\" y1=\"0\" x2=\"77\" y2=\"15\" />\n",
       "  <line x1=\"78\" y1=\"0\" x2=\"94\" y2=\"15\" />\n",
       "  <line x1=\"95\" y1=\"0\" x2=\"111\" y2=\"15\" />\n",
       "  <line x1=\"112\" y1=\"0\" x2=\"128\" y2=\"15\" />\n",
       "  <line x1=\"130\" y1=\"0\" x2=\"145\" y2=\"15\" style=\"stroke-width:2\" />\n",
       "\n",
       "  <!-- Colored Rectangle -->\n",
       "  <polygon points=\"10.0,0.0 130.0,0.0 145.57197789387106,15.57197789387105 25.57197789387105,15.57197789387105\" style=\"fill:#ECB172A0;stroke-width:0\"/>\n",
       "\n",
       "  <!-- Horizontal lines -->\n",
       "  <line x1=\"25\" y1=\"15\" x2=\"145\" y2=\"15\" style=\"stroke-width:2\" />\n",
       "  <line x1=\"25\" y1=\"32\" x2=\"145\" y2=\"32\" />\n",
       "  <line x1=\"25\" y1=\"49\" x2=\"145\" y2=\"49\" />\n",
       "  <line x1=\"25\" y1=\"67\" x2=\"145\" y2=\"67\" />\n",
       "  <line x1=\"25\" y1=\"84\" x2=\"145\" y2=\"84\" />\n",
       "  <line x1=\"25\" y1=\"101\" x2=\"145\" y2=\"101\" />\n",
       "  <line x1=\"25\" y1=\"118\" x2=\"145\" y2=\"118\" />\n",
       "  <line x1=\"25\" y1=\"135\" x2=\"145\" y2=\"135\" style=\"stroke-width:2\" />\n",
       "\n",
       "  <!-- Vertical lines -->\n",
       "  <line x1=\"25\" y1=\"15\" x2=\"25\" y2=\"135\" style=\"stroke-width:2\" />\n",
       "  <line x1=\"42\" y1=\"15\" x2=\"42\" y2=\"135\" />\n",
       "  <line x1=\"59\" y1=\"15\" x2=\"59\" y2=\"135\" />\n",
       "  <line x1=\"77\" y1=\"15\" x2=\"77\" y2=\"135\" />\n",
       "  <line x1=\"94\" y1=\"15\" x2=\"94\" y2=\"135\" />\n",
       "  <line x1=\"111\" y1=\"15\" x2=\"111\" y2=\"135\" />\n",
       "  <line x1=\"128\" y1=\"15\" x2=\"128\" y2=\"135\" />\n",
       "  <line x1=\"145\" y1=\"15\" x2=\"145\" y2=\"135\" style=\"stroke-width:2\" />\n",
       "\n",
       "  <!-- Colored Rectangle -->\n",
       "  <polygon points=\"25.57197789387105,15.57197789387105 145.57197789387106,15.57197789387105 145.57197789387106,135.57197789387106 25.57197789387105,135.57197789387106\" style=\"fill:#ECB172A0;stroke-width:0\"/>\n",
       "\n",
       "  <!-- Text -->\n",
       "  <text x=\"85.571978\" y=\"155.571978\" font-size=\"1.0rem\" font-weight=\"100\" text-anchor=\"middle\" >6048</text>\n",
       "  <text x=\"165.571978\" y=\"75.571978\" font-size=\"1.0rem\" font-weight=\"100\" text-anchor=\"middle\" transform=\"rotate(-90,165.571978,75.571978)\">6048</text>\n",
       "  <text x=\"7.785989\" y=\"147.785989\" font-size=\"1.0rem\" font-weight=\"100\" text-anchor=\"middle\" transform=\"rotate(45,7.785989,147.785989)\">75</text>\n",
       "</svg>\n",
       "        </td>\n",
       "    </tr>\n",
       "</table>"
      ],
      "text/plain": [
       "dask.array<array, shape=(75, 6048, 6048), dtype=uint16, chunksize=(75, 864, 864), chunktype=numpy.ndarray>"
      ]
     },
     "execution_count": 9,
     "metadata": {},
     "output_type": "execute_result"
    }
   ],
   "source": [
    "masks"
   ]
  },
  {
   "cell_type": "markdown",
   "id": "947b0304",
   "metadata": {},
   "source": [
    "# Localise raw masks\n",
    "\n",
    "Include size filter and measurements of fluorescence"
   ]
  },
  {
   "cell_type": "code",
   "execution_count": 11,
   "id": "90c32951",
   "metadata": {},
   "outputs": [],
   "source": [
    "feat = [\n",
    "      \"area\",\n",
    "      \"major_axis_length\",\n",
    "      \"minor_axis_length\",\n",
    "      \"orientation\",\n",
    "      \"mean_intensity\",\n",
    "        ]"
   ]
  },
  {
   "cell_type": "code",
   "execution_count": 25,
   "id": "6013f883",
   "metadata": {},
   "outputs": [
    {
     "name": "stderr",
     "output_type": "stream",
     "text": [
      "[INFO][2023/01/19 04:56:11 PM] Localizing objects from segmentation...\n",
      "[INFO][2023/01/19 04:56:11 PM] Found intensity_image data\n",
      "[INFO][2023/01/19 05:12:21 PM] Objects are of type: <class 'dict'>\n",
      "[INFO][2023/01/19 05:12:21 PM] ...Found 89235 objects in 75 frames.\n"
     ]
    }
   ],
   "source": [
    "objects = btrack.utils.segmentation_to_objects(\n",
    "    masks, \n",
    "    images,\n",
    "    properties = tuple(feat),\n",
    "    use_weighted_centroid = False, \n",
    ")"
   ]
  },
  {
   "cell_type": "code",
   "execution_count": 26,
   "id": "0f91ad0e",
   "metadata": {},
   "outputs": [],
   "source": [
    "objects = [o for o in objects if o.properties['area'] > 2500]"
   ]
  },
  {
   "cell_type": "markdown",
   "id": "b2cb4615",
   "metadata": {},
   "source": [
    "#### Find the efd?"
   ]
  },
  {
   "cell_type": "code",
   "execution_count": null,
   "id": "211f0059",
   "metadata": {},
   "outputs": [],
   "source": [
    "### finding the EFD\n",
    "for obj in tqdm(objects):\n",
    "    ### extract the intensity image (1ch only)\n",
    "    glimpse = obj.properties['intensity_image'][...,0]\n",
    "    ### pad the glimpse to ensure only one object is identifiable\n",
    "    glimpse = np.pad(glimpse, pad_width = 1)\n",
    "    ### find the contours (zero because only one object)\n",
    "    contours = skimage.measure.find_contours(glimpse, fully_connected='high', level = 0.5)[0]\n",
    "    ### get the efd\n",
    "    efd = elliptic_fourier_descriptors(contours, order=100, normalize=True)\n",
    "#     obj.properties = {'efd': efd}\n",
    "    flatten_efd = efd.flatten()\n",
    "    obj.properties = {'efd flat': flatten_efd}"
   ]
  },
  {
   "cell_type": "code",
   "execution_count": 27,
   "id": "9f2181ad",
   "metadata": {},
   "outputs": [
    {
     "name": "stderr",
     "output_type": "stream",
     "text": [
      "[INFO][2023/01/19 05:12:22 PM] Opening HDF file: objects.h5...\n",
      "[INFO][2023/01/19 05:13:04 PM] Writing objects/obj_type_1\n",
      "[INFO][2023/01/19 05:13:04 PM] Writing labels/obj_type_1\n",
      "[INFO][2023/01/19 05:13:04 PM] Loading objects/obj_type_1 (40381, 5) (40381 filtered: None)\n",
      "[INFO][2023/01/19 05:13:09 PM] Writing properties/obj_type_1/area (40381,)\n",
      "[INFO][2023/01/19 05:13:09 PM] Writing properties/obj_type_1/major_axis_length (40381,)\n",
      "[INFO][2023/01/19 05:13:09 PM] Writing properties/obj_type_1/minor_axis_length (40381,)\n",
      "[INFO][2023/01/19 05:13:09 PM] Writing properties/obj_type_1/orientation (40381,)\n",
      "[INFO][2023/01/19 05:13:09 PM] Writing properties/obj_type_1/mean_intensity-0 (40381,)\n",
      "[INFO][2023/01/19 05:13:09 PM] Writing properties/obj_type_1/mean_intensity-1 (40381,)\n",
      "[INFO][2023/01/19 05:13:09 PM] Closing HDF file: objects.h5\n"
     ]
    }
   ],
   "source": [
    "with btrack.dataio.HDF5FileHandler(\n",
    "     'objects.h5', 'w', obj_type='obj_type_1',\n",
    ") as hdf:\n",
    "    hdf.write_segmentation(masks)\n",
    "    hdf.write_objects(objects)"
   ]
  },
  {
   "cell_type": "code",
   "execution_count": 29,
   "id": "b17c88d3",
   "metadata": {},
   "outputs": [
    {
     "data": {
      "text/html": [
       "<table border=\"1\" class=\"dataframe\">\n",
       "  <thead>\n",
       "    <tr style=\"text-align: right;\">\n",
       "      <th></th>\n",
       "      <th>ID</th>\n",
       "      <th>x</th>\n",
       "      <th>y</th>\n",
       "      <th>z</th>\n",
       "      <th>t</th>\n",
       "      <th>dummy</th>\n",
       "      <th>states</th>\n",
       "      <th>label</th>\n",
       "      <th>area</th>\n",
       "      <th>major_axis_length</th>\n",
       "      <th>minor_axis_length</th>\n",
       "      <th>orientation</th>\n",
       "      <th>mean_intensity-0</th>\n",
       "      <th>mean_intensity-1</th>\n",
       "    </tr>\n",
       "  </thead>\n",
       "  <tbody>\n",
       "    <tr>\n",
       "      <th>0</th>\n",
       "      <td>0</td>\n",
       "      <td>257.838564</td>\n",
       "      <td>104.539205</td>\n",
       "      <td>0.0</td>\n",
       "      <td>0</td>\n",
       "      <td>False</td>\n",
       "      <td>7</td>\n",
       "      <td>5</td>\n",
       "      <td>36194</td>\n",
       "      <td>244.63143</td>\n",
       "      <td>204.217784</td>\n",
       "      <td>-0.625041</td>\n",
       "      <td>1751.473891</td>\n",
       "      <td>343.588302</td>\n",
       "    </tr>\n",
       "  </tbody>\n",
       "</table>"
      ],
      "text/plain": [
       "{'ID': 0, 'x': 257.8385644029397, 'y': 104.5392053931591, 'z': 0.0, 't': 0, 'dummy': False, 'states': 7, 'label': 5, 'area': 36194, 'major_axis_length': 244.63142988672934, 'minor_axis_length': 204.21778412309249, 'orientation': -0.6250412899536294, 'mean_intensity-0': 1751.473890700116, 'mean_intensity-1': 343.58830192849643}"
      ]
     },
     "execution_count": 29,
     "metadata": {},
     "output_type": "execute_result"
    }
   ],
   "source": [
    "objects[0]"
   ]
  }
 ],
 "metadata": {
  "kernelspec": {
   "display_name": "aero",
   "language": "python",
   "name": "aero"
  },
  "language_info": {
   "codemirror_mode": {
    "name": "ipython",
    "version": 3
   },
   "file_extension": ".py",
   "mimetype": "text/x-python",
   "name": "python",
   "nbconvert_exporter": "python",
   "pygments_lexer": "ipython3",
   "version": "3.9.12"
  }
 },
 "nbformat": 4,
 "nbformat_minor": 5
}
