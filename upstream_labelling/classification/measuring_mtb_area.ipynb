{
 "cells": [
  {
   "cell_type": "code",
   "execution_count": 153,
   "id": "80ab0be8-cf2a-49a3-a53b-c6a03dca0501",
   "metadata": {},
   "outputs": [],
   "source": [
    "from tqdm.auto import tqdm\n",
    "import pandas as pd\n",
    "from macrohet import tile, dataio, tools\n",
    "import numpy as np\n",
    "import pickle\n",
    "import zarr\n",
    "import btrack\n",
    "import os\n",
    "import json"
   ]
  },
  {
   "cell_type": "markdown",
   "id": "83c7cb5e-413e-48e2-acd0-29804bc66b0d",
   "metadata": {},
   "source": [
    "### Extract metadata"
   ]
  },
  {
   "cell_type": "code",
   "execution_count": 9,
   "id": "e9af5f71-7dee-4627-98ab-55259e0a0ca0",
   "metadata": {},
   "outputs": [
    {
     "name": "stdout",
     "output_type": "stream",
     "text": [
      "Reading metadata XML file...\n"
     ]
    },
    {
     "data": {
      "application/vnd.jupyter.widget-view+json": {
       "model_id": "013c837e8d304882add623f56e741d8a",
       "version_major": 2,
       "version_minor": 0
      },
      "text/plain": [
       "Extracting HarmonyV5 metadata:   0%|          | 0/113400 [00:00<?, ?it/s]"
      ]
     },
     "metadata": {},
     "output_type": "display_data"
    },
    {
     "name": "stdout",
     "output_type": "stream",
     "text": [
      "Extracting metadata complete!\n"
     ]
    }
   ],
   "source": [
    "expt_ID = 'PS0000'\n",
    "base_dir = f'/mnt/DATA/macrohet/{expt_ID}/'\n",
    "metadata_fn = os.path.join(base_dir, 'acquisition/Images/Index.idx.xml')\n",
    "metadata = dataio.read_harmony_metadata(metadata_fn)"
   ]
  },
  {
   "cell_type": "code",
   "execution_count": 10,
   "id": "8aa8e325-95ac-43fe-b52c-eb5caa05670b",
   "metadata": {},
   "outputs": [
    {
     "name": "stdout",
     "output_type": "stream",
     "text": [
      "Reading metadata XML file...\n",
      "Extracting metadata complete!\n"
     ]
    }
   ],
   "source": [
    "metadata_path = os.path.join(base_dir, 'acquisition/Assaylayout/20210602_Live_cell_IPSDMGFP_ATB.xml')\n",
    "assay_layout = dataio.read_harmony_metadata(metadata_path, assay_layout=True,)# mask_exist=True,  image_dir = image_dir, image_metadata = metadata)"
   ]
  },
  {
   "cell_type": "markdown",
   "id": "9ffcef40-acc8-4a50-8ce0-dd3ff11a385b",
   "metadata": {},
   "source": [
    "### Choose position and extract tracks and true IDs"
   ]
  },
  {
   "cell_type": "code",
   "execution_count": 25,
   "id": "22e092f0-5037-4605-9cc7-aa7bd36c0d60",
   "metadata": {},
   "outputs": [],
   "source": [
    "acq_ID = row, column = (3, 5)\n",
    "tracks_fn = f'/mnt/DATA/macrohet/PS0000/labels/macrohet_seg_model/{acq_ID}.h5'\n",
    "dict_fn = f'/mnt/DATA/macrohet/{expt_ID}/upstream_development/tracking/tracking_performance/v1>70/{row},{column}/{acq_ID}_track_assessment.json'"
   ]
  },
  {
   "cell_type": "code",
   "execution_count": 21,
   "id": "239f5a7d-a6c7-4adc-95bb-164555510f9b",
   "metadata": {},
   "outputs": [],
   "source": [
    "with open(dict_fn) as json_data:\n",
    "    track_dict = json.load(json_data)\n",
    "true_IDs = [int(ID) for ID in track_dict.keys() if track_dict[ID] == True]"
   ]
  },
  {
   "cell_type": "code",
   "execution_count": 22,
   "id": "e56e5dfc-b284-4aab-9950-5da85a43ef09",
   "metadata": {},
   "outputs": [
    {
     "name": "stderr",
     "output_type": "stream",
     "text": [
      "[INFO][2023/12/19 02:10:56 PM] Opening HDF file: /mnt/DATA/macrohet/PS0000/labels/macrohet_seg_model/(3, 5).h5...\n",
      "INFO:btrack.io.hdf:Opening HDF file: /mnt/DATA/macrohet/PS0000/labels/macrohet_seg_model/(3, 5).h5...\n",
      "[INFO][2023/12/19 02:10:56 PM] Loading tracks/obj_type_1\n",
      "INFO:btrack.io.hdf:Loading tracks/obj_type_1\n",
      "[INFO][2023/12/19 02:10:56 PM] Loading LBEP/obj_type_1\n",
      "INFO:btrack.io.hdf:Loading LBEP/obj_type_1\n",
      "[INFO][2023/12/19 02:10:56 PM] Loading objects/obj_type_1 (41424, 5) (41424 filtered: None)\n",
      "INFO:btrack.io.hdf:Loading objects/obj_type_1 (41424, 5) (41424 filtered: None)\n",
      "[INFO][2023/12/19 02:11:07 PM] Loading segmentation (75, 6048, 6048)\n",
      "INFO:btrack.io.hdf:Loading segmentation (75, 6048, 6048)\n",
      "[INFO][2023/12/19 02:11:07 PM] Closing HDF file: /mnt/DATA/macrohet/PS0000/labels/macrohet_seg_model/(3, 5).h5\n",
      "INFO:btrack.io.hdf:Closing HDF file: /mnt/DATA/macrohet/PS0000/labels/macrohet_seg_model/(3, 5).h5\n"
     ]
    }
   ],
   "source": [
    "with btrack.io.HDF5FileHandler(tracks_fn, 'r', obj_type='obj_type_1') as reader:\n",
    "    tracks = reader.tracks\n",
    "    masks = reader.segmentation\n",
    "true_tracks = [t for t in tracks if t.ID in true_IDs]"
   ]
  },
  {
   "cell_type": "markdown",
   "id": "3ef5683e-e86a-4016-8717-d094b9f9cc86",
   "metadata": {},
   "source": [
    "### Load images and sc_df"
   ]
  },
  {
   "cell_type": "code",
   "execution_count": 66,
   "id": "74c6d526-46ec-4e1a-963e-2742509da60d",
   "metadata": {},
   "outputs": [
    {
     "data": {
      "text/plain": [
       "array([[[  0,   0,   0, ...,   0,   0,   0],\n",
       "        [112, 109, 103, ..., 104, 103,   0],\n",
       "        [105, 108, 109, ..., 107, 104,   0],\n",
       "        ...,\n",
       "        [115, 116, 112, ..., 111, 108,   0],\n",
       "        [117, 118, 109, ..., 115, 111,   0],\n",
       "        [118, 112, 101, ..., 108, 111,   0]],\n",
       "\n",
       "       [[  0,   0,   0, ...,   0,   0,   0],\n",
       "        [114, 105, 103, ..., 107, 108,   0],\n",
       "        [108, 104, 106, ..., 111, 111,   0],\n",
       "        ...,\n",
       "        [114, 110, 110, ..., 111, 114,   0],\n",
       "        [108, 112, 107, ..., 113, 106,   0],\n",
       "        [108, 107, 102, ..., 108, 111,   0]],\n",
       "\n",
       "       [[  0,   0,   0, ...,   0,   0,   0],\n",
       "        [109, 105, 103, ..., 109, 107,   0],\n",
       "        [110, 106, 103, ..., 110, 103,   0],\n",
       "        ...,\n",
       "        [115, 118, 113, ..., 114, 115,   0],\n",
       "        [115, 118, 117, ..., 113, 111,   0],\n",
       "        [118, 122, 114, ..., 105, 108,   0]],\n",
       "\n",
       "       ...,\n",
       "\n",
       "       [[  0,   0,   0, ...,   0,   0,   0],\n",
       "        [116, 105, 105, ..., 111, 109,   0],\n",
       "        [107, 106, 105, ..., 111, 108,   0],\n",
       "        ...,\n",
       "        [123, 113, 114, ..., 113, 115,   0],\n",
       "        [114, 120, 114, ..., 118, 119,   0],\n",
       "        [114, 112, 101, ..., 117, 121,   0]],\n",
       "\n",
       "       [[  0,   0,   0, ...,   0,   0,   0],\n",
       "        [110, 112, 108, ..., 100, 104,   0],\n",
       "        [107, 109, 107, ..., 108, 102,   0],\n",
       "        ...,\n",
       "        [111, 114, 113, ..., 111, 114,   0],\n",
       "        [108, 111, 106, ..., 109, 112,   0],\n",
       "        [110, 111, 107, ..., 105, 109,   0]],\n",
       "\n",
       "       [[  0,   0,   0, ...,   0,   0,   0],\n",
       "        [109, 103, 105, ..., 111, 108,   0],\n",
       "        [113, 109, 108, ..., 115, 114,   0],\n",
       "        ...,\n",
       "        [103, 112, 111, ..., 113, 116,   0],\n",
       "        [108, 116, 108, ..., 111, 112,   0],\n",
       "        [112, 116, 103, ..., 107, 113,   0]]], dtype=uint16)"
      ]
     },
     "execution_count": 66,
     "metadata": {},
     "output_type": "execute_result"
    }
   ],
   "source": [
    "image_dir = os.path.join(base_dir, 'acquisition/Images')\n",
    "images = tile.compile_mosaic(image_dir, \n",
    "                             metadata, \n",
    "                             row, column, \n",
    "                             set_plane='max_proj',\n",
    "                             set_channel=2,\n",
    "                            )\n",
    "images = images[:,0,...].compute().compute()"
   ]
  },
  {
   "cell_type": "code",
   "execution_count": 284,
   "id": "66222080-70dc-46c3-bac8-e72a5ab23ad3",
   "metadata": {},
   "outputs": [],
   "source": [
    "df = pd.read_pickle(f'/mnt/DATA/macrohet/{expt_ID}/results/preliminary_sc_measures/sc_dfs/{acq_ID}_sc_df_GT_dev.pkl')"
   ]
  },
  {
   "cell_type": "code",
   "execution_count": 285,
   "id": "85d9b885-b754-453a-8b14-5c770c7a39b0",
   "metadata": {},
   "outputs": [
    {
     "data": {
      "text/html": [
       "<div>\n",
       "<style scoped>\n",
       "    .dataframe tbody tr th:only-of-type {\n",
       "        vertical-align: middle;\n",
       "    }\n",
       "\n",
       "    .dataframe tbody tr th {\n",
       "        vertical-align: top;\n",
       "    }\n",
       "\n",
       "    .dataframe thead th {\n",
       "        text-align: right;\n",
       "    }\n",
       "</style>\n",
       "<table border=\"1\" class=\"dataframe\">\n",
       "  <thead>\n",
       "    <tr style=\"text-align: right;\">\n",
       "      <th></th>\n",
       "      <th>Time (hours)</th>\n",
       "      <th>dMtb</th>\n",
       "      <th>Strain</th>\n",
       "      <th>Compound</th>\n",
       "      <th>Concentration</th>\n",
       "      <th>Unique ID</th>\n",
       "      <th>Acquisition ID</th>\n",
       "      <th>Cell ID</th>\n",
       "      <th>Mphi Area</th>\n",
       "      <th>Mphi GFP</th>\n",
       "      <th>...</th>\n",
       "      <th>%dMtb/dt</th>\n",
       "      <th>%dMtb</th>\n",
       "      <th>Mean Mtb Intensity</th>\n",
       "      <th>Thresholded Mean Mtb Intensity</th>\n",
       "      <th>Infection Status</th>\n",
       "      <th>Initial Infection Status</th>\n",
       "      <th>Final Infection Status</th>\n",
       "      <th>dMtb/dt,T=15</th>\n",
       "      <th>Max. dMtb/dt,T=15</th>\n",
       "      <th>Mtb Area µm2</th>\n",
       "    </tr>\n",
       "  </thead>\n",
       "  <tbody>\n",
       "    <tr>\n",
       "      <th>0</th>\n",
       "      <td>0</td>\n",
       "      <td>136.772588</td>\n",
       "      <td>WT</td>\n",
       "      <td>CTRL</td>\n",
       "      <td>EC0</td>\n",
       "      <td>1.3.5</td>\n",
       "      <td>(3, 5)</td>\n",
       "      <td>1</td>\n",
       "      <td>29567.0</td>\n",
       "      <td>2220.025391</td>\n",
       "      <td>...</td>\n",
       "      <td>0.000000</td>\n",
       "      <td>292.26361</td>\n",
       "      <td>473.168976</td>\n",
       "      <td>167.325424</td>\n",
       "      <td>True</td>\n",
       "      <td>True</td>\n",
       "      <td>True</td>\n",
       "      <td>NaN</td>\n",
       "      <td>6.314185</td>\n",
       "      <td>46.797680</td>\n",
       "    </tr>\n",
       "    <tr>\n",
       "      <th>1</th>\n",
       "      <td>1</td>\n",
       "      <td>136.772588</td>\n",
       "      <td>WT</td>\n",
       "      <td>CTRL</td>\n",
       "      <td>EC0</td>\n",
       "      <td>1.3.5</td>\n",
       "      <td>(3, 5)</td>\n",
       "      <td>1</td>\n",
       "      <td>26181.0</td>\n",
       "      <td>2549.692383</td>\n",
       "      <td>...</td>\n",
       "      <td>4.106972</td>\n",
       "      <td>292.26361</td>\n",
       "      <td>498.701813</td>\n",
       "      <td>202.661972</td>\n",
       "      <td>True</td>\n",
       "      <td>True</td>\n",
       "      <td>True</td>\n",
       "      <td>NaN</td>\n",
       "      <td>6.314185</td>\n",
       "      <td>48.719647</td>\n",
       "    </tr>\n",
       "    <tr>\n",
       "      <th>2</th>\n",
       "      <td>2</td>\n",
       "      <td>136.772588</td>\n",
       "      <td>WT</td>\n",
       "      <td>CTRL</td>\n",
       "      <td>EC0</td>\n",
       "      <td>1.3.5</td>\n",
       "      <td>(3, 5)</td>\n",
       "      <td>1</td>\n",
       "      <td>26043.0</td>\n",
       "      <td>2653.458740</td>\n",
       "      <td>...</td>\n",
       "      <td>7.155963</td>\n",
       "      <td>292.26361</td>\n",
       "      <td>502.468353</td>\n",
       "      <td>210.382874</td>\n",
       "      <td>True</td>\n",
       "      <td>True</td>\n",
       "      <td>True</td>\n",
       "      <td>NaN</td>\n",
       "      <td>6.314185</td>\n",
       "      <td>52.206007</td>\n",
       "    </tr>\n",
       "    <tr>\n",
       "      <th>3</th>\n",
       "      <td>3</td>\n",
       "      <td>136.772588</td>\n",
       "      <td>WT</td>\n",
       "      <td>CTRL</td>\n",
       "      <td>EC0</td>\n",
       "      <td>1.3.5</td>\n",
       "      <td>(3, 5)</td>\n",
       "      <td>1</td>\n",
       "      <td>25605.0</td>\n",
       "      <td>2736.911621</td>\n",
       "      <td>...</td>\n",
       "      <td>-3.167808</td>\n",
       "      <td>292.26361</td>\n",
       "      <td>501.905182</td>\n",
       "      <td>212.070969</td>\n",
       "      <td>True</td>\n",
       "      <td>True</td>\n",
       "      <td>True</td>\n",
       "      <td>NaN</td>\n",
       "      <td>6.314185</td>\n",
       "      <td>50.552221</td>\n",
       "    </tr>\n",
       "    <tr>\n",
       "      <th>4</th>\n",
       "      <td>4</td>\n",
       "      <td>136.772588</td>\n",
       "      <td>WT</td>\n",
       "      <td>CTRL</td>\n",
       "      <td>EC0</td>\n",
       "      <td>1.3.5</td>\n",
       "      <td>(3, 5)</td>\n",
       "      <td>1</td>\n",
       "      <td>26430.0</td>\n",
       "      <td>2490.947266</td>\n",
       "      <td>...</td>\n",
       "      <td>7.736516</td>\n",
       "      <td>292.26361</td>\n",
       "      <td>502.564423</td>\n",
       "      <td>204.565842</td>\n",
       "      <td>True</td>\n",
       "      <td>True</td>\n",
       "      <td>True</td>\n",
       "      <td>NaN</td>\n",
       "      <td>6.314185</td>\n",
       "      <td>54.463202</td>\n",
       "    </tr>\n",
       "    <tr>\n",
       "      <th>...</th>\n",
       "      <td>...</td>\n",
       "      <td>...</td>\n",
       "      <td>...</td>\n",
       "      <td>...</td>\n",
       "      <td>...</td>\n",
       "      <td>...</td>\n",
       "      <td>...</td>\n",
       "      <td>...</td>\n",
       "      <td>...</td>\n",
       "      <td>...</td>\n",
       "      <td>...</td>\n",
       "      <td>...</td>\n",
       "      <td>...</td>\n",
       "      <td>...</td>\n",
       "      <td>...</td>\n",
       "      <td>...</td>\n",
       "      <td>...</td>\n",
       "      <td>...</td>\n",
       "      <td>...</td>\n",
       "      <td>...</td>\n",
       "      <td>...</td>\n",
       "    </tr>\n",
       "    <tr>\n",
       "      <th>296255</th>\n",
       "      <td>70</td>\n",
       "      <td>0.000000</td>\n",
       "      <td>WT</td>\n",
       "      <td>CTRL</td>\n",
       "      <td>EC0</td>\n",
       "      <td>99.3.5</td>\n",
       "      <td>(3, 5)</td>\n",
       "      <td>99</td>\n",
       "      <td>47470.0</td>\n",
       "      <td>4803.345215</td>\n",
       "      <td>...</td>\n",
       "      <td>0.000000</td>\n",
       "      <td>0.00000</td>\n",
       "      <td>388.573425</td>\n",
       "      <td>0.000000</td>\n",
       "      <td>True</td>\n",
       "      <td>True</td>\n",
       "      <td>True</td>\n",
       "      <td>0.000000</td>\n",
       "      <td>0.591489</td>\n",
       "      <td>0.000000</td>\n",
       "    </tr>\n",
       "    <tr>\n",
       "      <th>296256</th>\n",
       "      <td>71</td>\n",
       "      <td>0.000000</td>\n",
       "      <td>WT</td>\n",
       "      <td>CTRL</td>\n",
       "      <td>EC0</td>\n",
       "      <td>99.3.5</td>\n",
       "      <td>(3, 5)</td>\n",
       "      <td>99</td>\n",
       "      <td>41936.0</td>\n",
       "      <td>5695.538086</td>\n",
       "      <td>...</td>\n",
       "      <td>inf</td>\n",
       "      <td>0.00000</td>\n",
       "      <td>409.822296</td>\n",
       "      <td>21.552986</td>\n",
       "      <td>True</td>\n",
       "      <td>True</td>\n",
       "      <td>True</td>\n",
       "      <td>0.591489</td>\n",
       "      <td>0.591489</td>\n",
       "      <td>8.872339</td>\n",
       "    </tr>\n",
       "    <tr>\n",
       "      <th>296257</th>\n",
       "      <td>72</td>\n",
       "      <td>0.000000</td>\n",
       "      <td>WT</td>\n",
       "      <td>CTRL</td>\n",
       "      <td>EC0</td>\n",
       "      <td>99.3.5</td>\n",
       "      <td>(3, 5)</td>\n",
       "      <td>99</td>\n",
       "      <td>53247.0</td>\n",
       "      <td>4450.872559</td>\n",
       "      <td>...</td>\n",
       "      <td>-100.000000</td>\n",
       "      <td>0.00000</td>\n",
       "      <td>387.400879</td>\n",
       "      <td>0.000000</td>\n",
       "      <td>True</td>\n",
       "      <td>True</td>\n",
       "      <td>True</td>\n",
       "      <td>0.000000</td>\n",
       "      <td>0.591489</td>\n",
       "      <td>0.000000</td>\n",
       "    </tr>\n",
       "    <tr>\n",
       "      <th>296258</th>\n",
       "      <td>73</td>\n",
       "      <td>0.000000</td>\n",
       "      <td>WT</td>\n",
       "      <td>CTRL</td>\n",
       "      <td>EC0</td>\n",
       "      <td>99.3.5</td>\n",
       "      <td>(3, 5)</td>\n",
       "      <td>99</td>\n",
       "      <td>43669.0</td>\n",
       "      <td>5377.374512</td>\n",
       "      <td>...</td>\n",
       "      <td>0.000000</td>\n",
       "      <td>0.00000</td>\n",
       "      <td>393.975342</td>\n",
       "      <td>0.000000</td>\n",
       "      <td>True</td>\n",
       "      <td>True</td>\n",
       "      <td>True</td>\n",
       "      <td>0.000000</td>\n",
       "      <td>0.591489</td>\n",
       "      <td>0.000000</td>\n",
       "    </tr>\n",
       "    <tr>\n",
       "      <th>296259</th>\n",
       "      <td>74</td>\n",
       "      <td>0.000000</td>\n",
       "      <td>WT</td>\n",
       "      <td>CTRL</td>\n",
       "      <td>EC0</td>\n",
       "      <td>99.3.5</td>\n",
       "      <td>(3, 5)</td>\n",
       "      <td>99</td>\n",
       "      <td>46767.0</td>\n",
       "      <td>5081.464355</td>\n",
       "      <td>...</td>\n",
       "      <td>0.000000</td>\n",
       "      <td>0.00000</td>\n",
       "      <td>390.749146</td>\n",
       "      <td>0.000000</td>\n",
       "      <td>True</td>\n",
       "      <td>True</td>\n",
       "      <td>True</td>\n",
       "      <td>0.000000</td>\n",
       "      <td>0.591489</td>\n",
       "      <td>0.000000</td>\n",
       "    </tr>\n",
       "  </tbody>\n",
       "</table>\n",
       "<p>12688 rows × 27 columns</p>\n",
       "</div>"
      ],
      "text/plain": [
       "        Time (hours)        dMtb Strain Compound Concentration Unique ID  \\\n",
       "0                  0  136.772588     WT     CTRL           EC0     1.3.5   \n",
       "1                  1  136.772588     WT     CTRL           EC0     1.3.5   \n",
       "2                  2  136.772588     WT     CTRL           EC0     1.3.5   \n",
       "3                  3  136.772588     WT     CTRL           EC0     1.3.5   \n",
       "4                  4  136.772588     WT     CTRL           EC0     1.3.5   \n",
       "...              ...         ...    ...      ...           ...       ...   \n",
       "296255            70    0.000000     WT     CTRL           EC0    99.3.5   \n",
       "296256            71    0.000000     WT     CTRL           EC0    99.3.5   \n",
       "296257            72    0.000000     WT     CTRL           EC0    99.3.5   \n",
       "296258            73    0.000000     WT     CTRL           EC0    99.3.5   \n",
       "296259            74    0.000000     WT     CTRL           EC0    99.3.5   \n",
       "\n",
       "       Acquisition ID  Cell ID  Mphi Area     Mphi GFP  ...    %dMtb/dt  \\\n",
       "0              (3, 5)        1    29567.0  2220.025391  ...    0.000000   \n",
       "1              (3, 5)        1    26181.0  2549.692383  ...    4.106972   \n",
       "2              (3, 5)        1    26043.0  2653.458740  ...    7.155963   \n",
       "3              (3, 5)        1    25605.0  2736.911621  ...   -3.167808   \n",
       "4              (3, 5)        1    26430.0  2490.947266  ...    7.736516   \n",
       "...               ...      ...        ...          ...  ...         ...   \n",
       "296255         (3, 5)       99    47470.0  4803.345215  ...    0.000000   \n",
       "296256         (3, 5)       99    41936.0  5695.538086  ...         inf   \n",
       "296257         (3, 5)       99    53247.0  4450.872559  ... -100.000000   \n",
       "296258         (3, 5)       99    43669.0  5377.374512  ...    0.000000   \n",
       "296259         (3, 5)       99    46767.0  5081.464355  ...    0.000000   \n",
       "\n",
       "            %dMtb  Mean Mtb Intensity  Thresholded Mean Mtb Intensity  \\\n",
       "0       292.26361          473.168976                      167.325424   \n",
       "1       292.26361          498.701813                      202.661972   \n",
       "2       292.26361          502.468353                      210.382874   \n",
       "3       292.26361          501.905182                      212.070969   \n",
       "4       292.26361          502.564423                      204.565842   \n",
       "...           ...                 ...                             ...   \n",
       "296255    0.00000          388.573425                        0.000000   \n",
       "296256    0.00000          409.822296                       21.552986   \n",
       "296257    0.00000          387.400879                        0.000000   \n",
       "296258    0.00000          393.975342                        0.000000   \n",
       "296259    0.00000          390.749146                        0.000000   \n",
       "\n",
       "        Infection Status Initial Infection Status  Final Infection Status  \\\n",
       "0                   True                     True                    True   \n",
       "1                   True                     True                    True   \n",
       "2                   True                     True                    True   \n",
       "3                   True                     True                    True   \n",
       "4                   True                     True                    True   \n",
       "...                  ...                      ...                     ...   \n",
       "296255              True                     True                    True   \n",
       "296256              True                     True                    True   \n",
       "296257              True                     True                    True   \n",
       "296258              True                     True                    True   \n",
       "296259              True                     True                    True   \n",
       "\n",
       "        dMtb/dt,T=15  Max. dMtb/dt,T=15  Mtb Area µm2  \n",
       "0                NaN           6.314185     46.797680  \n",
       "1                NaN           6.314185     48.719647  \n",
       "2                NaN           6.314185     52.206007  \n",
       "3                NaN           6.314185     50.552221  \n",
       "4                NaN           6.314185     54.463202  \n",
       "...              ...                ...           ...  \n",
       "296255      0.000000           0.591489      0.000000  \n",
       "296256      0.591489           0.591489      8.872339  \n",
       "296257      0.000000           0.591489      0.000000  \n",
       "296258      0.000000           0.591489      0.000000  \n",
       "296259      0.000000           0.591489      0.000000  \n",
       "\n",
       "[12688 rows x 27 columns]"
      ]
     },
     "execution_count": 285,
     "metadata": {},
     "output_type": "execute_result"
    }
   ],
   "source": [
    "df"
   ]
  },
  {
   "cell_type": "code",
   "execution_count": 30,
   "id": "38840382-9000-4915-bdc7-5abc77933419",
   "metadata": {},
   "outputs": [
    {
     "data": {
      "text/plain": [
       "(170, 384)"
      ]
     },
     "execution_count": 30,
     "metadata": {},
     "output_type": "execute_result"
    }
   ],
   "source": [
    "len(df['Cell ID'].unique()), len(true_IDs)"
   ]
  },
  {
   "cell_type": "code",
   "execution_count": 177,
   "id": "6966d9de-43f6-46fc-9ac8-18df5e60139a",
   "metadata": {},
   "outputs": [],
   "source": [
    "already_done = set(list(df['Cell ID'].unique()))\n",
    "true_IDs = set(true_IDs)\n",
    "to_do_IDs = true_IDs.difference(already_done)"
   ]
  },
  {
   "cell_type": "code",
   "execution_count": 190,
   "id": "68ae4d08-ae84-431d-9c97-73ec53a39270",
   "metadata": {
    "scrolled": true
   },
   "outputs": [
    {
     "data": {
      "application/vnd.jupyter.widget-view+json": {
       "model_id": "97a9dcf9cfb5493b822a5ed9d58aaf9c",
       "version_major": 2,
       "version_minor": 0
      },
      "text/plain": [
       "  0%|          | 0/214 [00:00<?, ?it/s]"
      ]
     },
     "metadata": {},
     "output_type": "display_data"
    },
    {
     "data": {
      "application/vnd.jupyter.widget-view+json": {
       "model_id": "58c40c3b9177459bad4ab1d34fd4d94a",
       "version_major": 2,
       "version_minor": 0
      },
      "text/plain": [
       "Calculating mtb area for every frame in track: 1536:   0%|          | 0/12 [00:00<?, ?it/s]"
      ]
     },
     "metadata": {},
     "output_type": "display_data"
    },
    {
     "data": {
      "application/vnd.jupyter.widget-view+json": {
       "model_id": "9a7555dd370f41be90e9cbff7ab919ab",
       "version_major": 2,
       "version_minor": 0
      },
      "text/plain": [
       "Calculating mtb area for every frame in track: 2563:   0%|          | 0/39 [00:00<?, ?it/s]"
      ]
     },
     "metadata": {},
     "output_type": "display_data"
    },
    {
     "data": {
      "application/vnd.jupyter.widget-view+json": {
       "model_id": "32457c9bfb7c48d0b3108a8ff57b2964",
       "version_major": 2,
       "version_minor": 0
      },
      "text/plain": [
       "Calculating mtb area for every frame in track: 1539:   0%|          | 0/30 [00:00<?, ?it/s]"
      ]
     },
     "metadata": {},
     "output_type": "display_data"
    },
    {
     "data": {
      "application/vnd.jupyter.widget-view+json": {
       "model_id": "6abea11c4dd84556a5d51e1fe47b874f",
       "version_major": 2,
       "version_minor": 0
      },
      "text/plain": [
       "Calculating mtb area for every frame in track: 524:   0%|          | 0/69 [00:00<?, ?it/s]"
      ]
     },
     "metadata": {},
     "output_type": "display_data"
    },
    {
     "data": {
      "application/vnd.jupyter.widget-view+json": {
       "model_id": "4329d9d384064dad9c9673ea1b9517fe",
       "version_major": 2,
       "version_minor": 0
      },
      "text/plain": [
       "Calculating mtb area for every frame in track: 2576:   0%|          | 0/29 [00:00<?, ?it/s]"
      ]
     },
     "metadata": {},
     "output_type": "display_data"
    },
    {
     "data": {
      "application/vnd.jupyter.widget-view+json": {
       "model_id": "abb6a00fba4a4da9a865a1081630e92d",
       "version_major": 2,
       "version_minor": 0
      },
      "text/plain": [
       "Calculating mtb area for every frame in track: 535:   0%|          | 0/23 [00:00<?, ?it/s]"
      ]
     },
     "metadata": {},
     "output_type": "display_data"
    },
    {
     "data": {
      "application/vnd.jupyter.widget-view+json": {
       "model_id": "81406f35fa014eb99a236736ab4de21c",
       "version_major": 2,
       "version_minor": 0
      },
      "text/plain": [
       "Calculating mtb area for every frame in track: 2072:   0%|          | 0/50 [00:00<?, ?it/s]"
      ]
     },
     "metadata": {},
     "output_type": "display_data"
    },
    {
     "data": {
      "application/vnd.jupyter.widget-view+json": {
       "model_id": "9c8b9980b24e47e4af372089ec178b2a",
       "version_major": 2,
       "version_minor": 0
      },
      "text/plain": [
       "Calculating mtb area for every frame in track: 1559:   0%|          | 0/61 [00:00<?, ?it/s]"
      ]
     },
     "metadata": {},
     "output_type": "display_data"
    },
    {
     "data": {
      "application/vnd.jupyter.widget-view+json": {
       "model_id": "59aeda9e05784262b14ca6a21dd58e16",
       "version_major": 2,
       "version_minor": 0
      },
      "text/plain": [
       "Calculating mtb area for every frame in track: 26:   0%|          | 0/50 [00:00<?, ?it/s]"
      ]
     },
     "metadata": {},
     "output_type": "display_data"
    },
    {
     "data": {
      "application/vnd.jupyter.widget-view+json": {
       "model_id": "38b8ffcd93cd48e69ad08b49197785ee",
       "version_major": 2,
       "version_minor": 0
      },
      "text/plain": [
       "Calculating mtb area for every frame in track: 1562:   0%|          | 0/61 [00:00<?, ?it/s]"
      ]
     },
     "metadata": {},
     "output_type": "display_data"
    },
    {
     "data": {
      "application/vnd.jupyter.widget-view+json": {
       "model_id": "13f11953bee242bc9968805d8141e822",
       "version_major": 2,
       "version_minor": 0
      },
      "text/plain": [
       "Calculating mtb area for every frame in track: 541:   0%|          | 0/61 [00:00<?, ?it/s]"
      ]
     },
     "metadata": {},
     "output_type": "display_data"
    },
    {
     "data": {
      "application/vnd.jupyter.widget-view+json": {
       "model_id": "ddc35d64767a4a8bbe69f93d164eee6a",
       "version_major": 2,
       "version_minor": 0
      },
      "text/plain": [
       "Calculating mtb area for every frame in track: 34:   0%|          | 0/54 [00:00<?, ?it/s]"
      ]
     },
     "metadata": {},
     "output_type": "display_data"
    },
    {
     "data": {
      "application/vnd.jupyter.widget-view+json": {
       "model_id": "f8a6b0a743ef4342937c82ca69c8ce37",
       "version_major": 2,
       "version_minor": 0
      },
      "text/plain": [
       "Calculating mtb area for every frame in track: 2598:   0%|          | 0/38 [00:00<?, ?it/s]"
      ]
     },
     "metadata": {},
     "output_type": "display_data"
    },
    {
     "data": {
      "application/vnd.jupyter.widget-view+json": {
       "model_id": "c688b44eeb3340cd8daae7cfdd11a3ad",
       "version_major": 2,
       "version_minor": 0
      },
      "text/plain": [
       "Calculating mtb area for every frame in track: 1575:   0%|          | 0/46 [00:00<?, ?it/s]"
      ]
     },
     "metadata": {},
     "output_type": "display_data"
    },
    {
     "data": {
      "application/vnd.jupyter.widget-view+json": {
       "model_id": "5d0a3d462ee24beb9bad8ba85ef4b25e",
       "version_major": 2,
       "version_minor": 0
      },
      "text/plain": [
       "Calculating mtb area for every frame in track: 1577:   0%|          | 0/58 [00:00<?, ?it/s]"
      ]
     },
     "metadata": {},
     "output_type": "display_data"
    },
    {
     "data": {
      "application/vnd.jupyter.widget-view+json": {
       "model_id": "d03061b853754e589589cd0eca3df478",
       "version_major": 2,
       "version_minor": 0
      },
      "text/plain": [
       "Calculating mtb area for every frame in track: 557:   0%|          | 0/16 [00:00<?, ?it/s]"
      ]
     },
     "metadata": {},
     "output_type": "display_data"
    },
    {
     "data": {
      "application/vnd.jupyter.widget-view+json": {
       "model_id": "ccdf9d194be548c4bc6ff56e4114b92f",
       "version_major": 2,
       "version_minor": 0
      },
      "text/plain": [
       "Calculating mtb area for every frame in track: 48:   0%|          | 0/45 [00:00<?, ?it/s]"
      ]
     },
     "metadata": {},
     "output_type": "display_data"
    },
    {
     "data": {
      "application/vnd.jupyter.widget-view+json": {
       "model_id": "055a8655dfcf4d11b201167aa3f61e94",
       "version_major": 2,
       "version_minor": 0
      },
      "text/plain": [
       "Calculating mtb area for every frame in track: 1072:   0%|          | 0/69 [00:00<?, ?it/s]"
      ]
     },
     "metadata": {},
     "output_type": "display_data"
    },
    {
     "data": {
      "application/vnd.jupyter.widget-view+json": {
       "model_id": "2e6ef9ea04914e7aa7f871a5f93ee650",
       "version_major": 2,
       "version_minor": 0
      },
      "text/plain": [
       "Calculating mtb area for every frame in track: 1589:   0%|          | 0/60 [00:00<?, ?it/s]"
      ]
     },
     "metadata": {},
     "output_type": "display_data"
    },
    {
     "data": {
      "application/vnd.jupyter.widget-view+json": {
       "model_id": "56295819842347e19558b4bdc6a4feae",
       "version_major": 2,
       "version_minor": 0
      },
      "text/plain": [
       "Calculating mtb area for every frame in track: 571:   0%|          | 0/60 [00:00<?, ?it/s]"
      ]
     },
     "metadata": {},
     "output_type": "display_data"
    },
    {
     "data": {
      "application/vnd.jupyter.widget-view+json": {
       "model_id": "83951b657b9f441c839043c1ef2c32b5",
       "version_major": 2,
       "version_minor": 0
      },
      "text/plain": [
       "Calculating mtb area for every frame in track: 60:   0%|          | 0/31 [00:00<?, ?it/s]"
      ]
     },
     "metadata": {},
     "output_type": "display_data"
    },
    {
     "data": {
      "application/vnd.jupyter.widget-view+json": {
       "model_id": "8b528f2586184f1c8889f4b605a37deb",
       "version_major": 2,
       "version_minor": 0
      },
      "text/plain": [
       "Calculating mtb area for every frame in track: 3131:   0%|          | 0/23 [00:00<?, ?it/s]"
      ]
     },
     "metadata": {},
     "output_type": "display_data"
    },
    {
     "data": {
      "application/vnd.jupyter.widget-view+json": {
       "model_id": "0124b557083e431da21cddddec272c33",
       "version_major": 2,
       "version_minor": 0
      },
      "text/plain": [
       "Calculating mtb area for every frame in track: 62:   0%|          | 0/75 [00:00<?, ?it/s]"
      ]
     },
     "metadata": {},
     "output_type": "display_data"
    },
    {
     "data": {
      "application/vnd.jupyter.widget-view+json": {
       "model_id": "cf30e37011ac4093b3110602fb0659f3",
       "version_major": 2,
       "version_minor": 0
      },
      "text/plain": [
       "Calculating mtb area for every frame in track: 2111:   0%|          | 0/49 [00:00<?, ?it/s]"
      ]
     },
     "metadata": {},
     "output_type": "display_data"
    },
    {
     "data": {
      "application/vnd.jupyter.widget-view+json": {
       "model_id": "f0b43564677244cda9dbfe7ae9a23d5e",
       "version_major": 2,
       "version_minor": 0
      },
      "text/plain": [
       "Calculating mtb area for every frame in track: 64:   0%|          | 0/70 [00:00<?, ?it/s]"
      ]
     },
     "metadata": {},
     "output_type": "display_data"
    },
    {
     "data": {
      "application/vnd.jupyter.widget-view+json": {
       "model_id": "a5c67407470c4fddaa41c1d4605d069b",
       "version_major": 2,
       "version_minor": 0
      },
      "text/plain": [
       "Calculating mtb area for every frame in track: 1595:   0%|          | 0/60 [00:00<?, ?it/s]"
      ]
     },
     "metadata": {},
     "output_type": "display_data"
    },
    {
     "data": {
      "application/vnd.jupyter.widget-view+json": {
       "model_id": "e024eb4bd7804d45afac3f0bb8c4151e",
       "version_major": 2,
       "version_minor": 0
      },
      "text/plain": [
       "Calculating mtb area for every frame in track: 578:   0%|          | 0/75 [00:00<?, ?it/s]"
      ]
     },
     "metadata": {},
     "output_type": "display_data"
    },
    {
     "data": {
      "application/vnd.jupyter.widget-view+json": {
       "model_id": "4f4dcc71009143cda6c8c64bcec52123",
       "version_major": 2,
       "version_minor": 0
      },
      "text/plain": [
       "Calculating mtb area for every frame in track: 72:   0%|          | 0/41 [00:00<?, ?it/s]"
      ]
     },
     "metadata": {},
     "output_type": "display_data"
    },
    {
     "data": {
      "application/vnd.jupyter.widget-view+json": {
       "model_id": "373df503cba443a3bb5204ac60958c81",
       "version_major": 2,
       "version_minor": 0
      },
      "text/plain": [
       "Calculating mtb area for every frame in track: 73:   0%|          | 0/52 [00:00<?, ?it/s]"
      ]
     },
     "metadata": {},
     "output_type": "display_data"
    },
    {
     "data": {
      "application/vnd.jupyter.widget-view+json": {
       "model_id": "bf66a40e5b434ae8beea69b37cc72889",
       "version_major": 2,
       "version_minor": 0
      },
      "text/plain": [
       "Calculating mtb area for every frame in track: 74:   0%|          | 0/74 [00:00<?, ?it/s]"
      ]
     },
     "metadata": {},
     "output_type": "display_data"
    },
    {
     "data": {
      "application/vnd.jupyter.widget-view+json": {
       "model_id": "bf44a0fa5f2e41f78020dd421a309f22",
       "version_major": 2,
       "version_minor": 0
      },
      "text/plain": [
       "Calculating mtb area for every frame in track: 585:   0%|          | 0/57 [00:00<?, ?it/s]"
      ]
     },
     "metadata": {},
     "output_type": "display_data"
    },
    {
     "data": {
      "application/vnd.jupyter.widget-view+json": {
       "model_id": "b7d2b016144f4572898a2c70c94363eb",
       "version_major": 2,
       "version_minor": 0
      },
      "text/plain": [
       "Calculating mtb area for every frame in track: 1100:   0%|          | 0/35 [00:00<?, ?it/s]"
      ]
     },
     "metadata": {},
     "output_type": "display_data"
    },
    {
     "data": {
      "application/vnd.jupyter.widget-view+json": {
       "model_id": "82d9066008884f9d814eff6e86e01936",
       "version_major": 2,
       "version_minor": 0
      },
      "text/plain": [
       "Calculating mtb area for every frame in track: 1611:   0%|          | 0/55 [00:00<?, ?it/s]"
      ]
     },
     "metadata": {},
     "output_type": "display_data"
    },
    {
     "data": {
      "application/vnd.jupyter.widget-view+json": {
       "model_id": "4eb6a39518d84826bb06afe3ef42a031",
       "version_major": 2,
       "version_minor": 0
      },
      "text/plain": [
       "Calculating mtb area for every frame in track: 1613:   0%|          | 0/60 [00:00<?, ?it/s]"
      ]
     },
     "metadata": {},
     "output_type": "display_data"
    },
    {
     "data": {
      "application/vnd.jupyter.widget-view+json": {
       "model_id": "29452b8b60ca48e990ad6cd46d4e849e",
       "version_major": 2,
       "version_minor": 0
      },
      "text/plain": [
       "Calculating mtb area for every frame in track: 2639:   0%|          | 0/38 [00:00<?, ?it/s]"
      ]
     },
     "metadata": {},
     "output_type": "display_data"
    },
    {
     "data": {
      "application/vnd.jupyter.widget-view+json": {
       "model_id": "1deda43133b34fa6b4fff05d31cc4667",
       "version_major": 2,
       "version_minor": 0
      },
      "text/plain": [
       "Calculating mtb area for every frame in track: 592:   0%|          | 0/30 [00:00<?, ?it/s]"
      ]
     },
     "metadata": {},
     "output_type": "display_data"
    },
    {
     "data": {
      "application/vnd.jupyter.widget-view+json": {
       "model_id": "d105a50f251f4a42917c284cdf8ad4a9",
       "version_major": 2,
       "version_minor": 0
      },
      "text/plain": [
       "Calculating mtb area for every frame in track: 3151:   0%|          | 0/26 [00:00<?, ?it/s]"
      ]
     },
     "metadata": {},
     "output_type": "display_data"
    },
    {
     "data": {
      "application/vnd.jupyter.widget-view+json": {
       "model_id": "bd2c446954c34d0daa9bc61bb2e6292c",
       "version_major": 2,
       "version_minor": 0
      },
      "text/plain": [
       "Calculating mtb area for every frame in track: 1105:   0%|          | 0/25 [00:00<?, ?it/s]"
      ]
     },
     "metadata": {},
     "output_type": "display_data"
    },
    {
     "data": {
      "application/vnd.jupyter.widget-view+json": {
       "model_id": "c61aea9604ae4d1aa2254d790f0abaf6",
       "version_major": 2,
       "version_minor": 0
      },
      "text/plain": [
       "Calculating mtb area for every frame in track: 83:   0%|          | 0/75 [00:00<?, ?it/s]"
      ]
     },
     "metadata": {},
     "output_type": "display_data"
    },
    {
     "data": {
      "application/vnd.jupyter.widget-view+json": {
       "model_id": "ad29de8e32f845388d8222a0371ea0d4",
       "version_major": 2,
       "version_minor": 0
      },
      "text/plain": [
       "Calculating mtb area for every frame in track: 1107:   0%|          | 0/44 [00:00<?, ?it/s]"
      ]
     },
     "metadata": {},
     "output_type": "display_data"
    },
    {
     "data": {
      "application/vnd.jupyter.widget-view+json": {
       "model_id": "9753aeac70944d36b6aa115337aba6ed",
       "version_major": 2,
       "version_minor": 0
      },
      "text/plain": [
       "Calculating mtb area for every frame in track: 1620:   0%|          | 0/59 [00:00<?, ?it/s]"
      ]
     },
     "metadata": {},
     "output_type": "display_data"
    },
    {
     "data": {
      "application/vnd.jupyter.widget-view+json": {
       "model_id": "ae3d127132a04c6ebb3ab088cd1a9d80",
       "version_major": 2,
       "version_minor": 0
      },
      "text/plain": [
       "Calculating mtb area for every frame in track: 3159:   0%|          | 0/26 [00:00<?, ?it/s]"
      ]
     },
     "metadata": {},
     "output_type": "display_data"
    },
    {
     "data": {
      "application/vnd.jupyter.widget-view+json": {
       "model_id": "e80ffb659fe9464e8623ed5f386c0844",
       "version_major": 2,
       "version_minor": 0
      },
      "text/plain": [
       "Calculating mtb area for every frame in track: 89:   0%|          | 0/64 [00:00<?, ?it/s]"
      ]
     },
     "metadata": {},
     "output_type": "display_data"
    },
    {
     "data": {
      "application/vnd.jupyter.widget-view+json": {
       "model_id": "d9e69e0f6b6043aeb1a07e7d79e81e48",
       "version_major": 2,
       "version_minor": 0
      },
      "text/plain": [
       "Calculating mtb area for every frame in track: 604:   0%|          | 0/49 [00:00<?, ?it/s]"
      ]
     },
     "metadata": {},
     "output_type": "display_data"
    },
    {
     "data": {
      "application/vnd.jupyter.widget-view+json": {
       "model_id": "a455b977a3164ea0bc99b223e8f3885c",
       "version_major": 2,
       "version_minor": 0
      },
      "text/plain": [
       "Calculating mtb area for every frame in track: 1118:   0%|          | 0/61 [00:00<?, ?it/s]"
      ]
     },
     "metadata": {},
     "output_type": "display_data"
    },
    {
     "data": {
      "application/vnd.jupyter.widget-view+json": {
       "model_id": "5b4e97379eb149c680cca2f377e09096",
       "version_major": 2,
       "version_minor": 0
      },
      "text/plain": [
       "Calculating mtb area for every frame in track: 1631:   0%|          | 0/59 [00:00<?, ?it/s]"
      ]
     },
     "metadata": {},
     "output_type": "display_data"
    },
    {
     "data": {
      "application/vnd.jupyter.widget-view+json": {
       "model_id": "a530f82dd2d04a9d9a61a39fd6618e6a",
       "version_major": 2,
       "version_minor": 0
      },
      "text/plain": [
       "Calculating mtb area for every frame in track: 97:   0%|          | 0/22 [00:00<?, ?it/s]"
      ]
     },
     "metadata": {},
     "output_type": "display_data"
    },
    {
     "data": {
      "application/vnd.jupyter.widget-view+json": {
       "model_id": "b143ed6d15804d748a7e0ac256b9c452",
       "version_major": 2,
       "version_minor": 0
      },
      "text/plain": [
       "Calculating mtb area for every frame in track: 2659:   0%|          | 0/37 [00:00<?, ?it/s]"
      ]
     },
     "metadata": {},
     "output_type": "display_data"
    },
    {
     "data": {
      "application/vnd.jupyter.widget-view+json": {
       "model_id": "60c1c9443f5f4a8792f42cbb77a338e7",
       "version_major": 2,
       "version_minor": 0
      },
      "text/plain": [
       "Calculating mtb area for every frame in track: 100:   0%|          | 0/61 [00:00<?, ?it/s]"
      ]
     },
     "metadata": {},
     "output_type": "display_data"
    },
    {
     "data": {
      "application/vnd.jupyter.widget-view+json": {
       "model_id": "1448e6157c4343a2a35a06a0ac65dbcb",
       "version_major": 2,
       "version_minor": 0
      },
      "text/plain": [
       "Calculating mtb area for every frame in track: 1639:   0%|          | 0/59 [00:00<?, ?it/s]"
      ]
     },
     "metadata": {},
     "output_type": "display_data"
    },
    {
     "data": {
      "application/vnd.jupyter.widget-view+json": {
       "model_id": "cb5f73d2ba604d6fbbd63d846f488b0c",
       "version_major": 2,
       "version_minor": 0
      },
      "text/plain": [
       "Calculating mtb area for every frame in track: 616:   0%|          | 0/30 [00:00<?, ?it/s]"
      ]
     },
     "metadata": {},
     "output_type": "display_data"
    },
    {
     "data": {
      "application/vnd.jupyter.widget-view+json": {
       "model_id": "f3340c9ee45348e69fe3507520ae7f2d",
       "version_major": 2,
       "version_minor": 0
      },
      "text/plain": [
       "Calculating mtb area for every frame in track: 105:   0%|          | 0/73 [00:00<?, ?it/s]"
      ]
     },
     "metadata": {},
     "output_type": "display_data"
    },
    {
     "data": {
      "application/vnd.jupyter.widget-view+json": {
       "model_id": "52a37300df4646dca548c081074e8e70",
       "version_major": 2,
       "version_minor": 0
      },
      "text/plain": [
       "Calculating mtb area for every frame in track: 1129:   0%|          | 0/64 [00:00<?, ?it/s]"
      ]
     },
     "metadata": {},
     "output_type": "display_data"
    },
    {
     "data": {
      "application/vnd.jupyter.widget-view+json": {
       "model_id": "7967bc16b9d14460907f4c73d13dc26c",
       "version_major": 2,
       "version_minor": 0
      },
      "text/plain": [
       "Calculating mtb area for every frame in track: 3179:   0%|          | 0/26 [00:00<?, ?it/s]"
      ]
     },
     "metadata": {},
     "output_type": "display_data"
    },
    {
     "data": {
      "application/vnd.jupyter.widget-view+json": {
       "model_id": "516a3fcf217a400e84a108181fb64b64",
       "version_major": 2,
       "version_minor": 0
      },
      "text/plain": [
       "Calculating mtb area for every frame in track: 621:   0%|          | 0/27 [00:00<?, ?it/s]"
      ]
     },
     "metadata": {},
     "output_type": "display_data"
    },
    {
     "data": {
      "application/vnd.jupyter.widget-view+json": {
       "model_id": "2a883e23963b435896ef5481dfb424d9",
       "version_major": 2,
       "version_minor": 0
      },
      "text/plain": [
       "Calculating mtb area for every frame in track: 110:   0%|          | 0/48 [00:00<?, ?it/s]"
      ]
     },
     "metadata": {},
     "output_type": "display_data"
    },
    {
     "data": {
      "application/vnd.jupyter.widget-view+json": {
       "model_id": "e4fced4611b44e55853734f66c9f24b2",
       "version_major": 2,
       "version_minor": 0
      },
      "text/plain": [
       "Calculating mtb area for every frame in track: 1134:   0%|          | 0/68 [00:00<?, ?it/s]"
      ]
     },
     "metadata": {},
     "output_type": "display_data"
    },
    {
     "data": {
      "application/vnd.jupyter.widget-view+json": {
       "model_id": "d575b0542a794d2fa865cbb23568f320",
       "version_major": 2,
       "version_minor": 0
      },
      "text/plain": [
       "Calculating mtb area for every frame in track: 112:   0%|          | 0/39 [00:00<?, ?it/s]"
      ]
     },
     "metadata": {},
     "output_type": "display_data"
    },
    {
     "data": {
      "application/vnd.jupyter.widget-view+json": {
       "model_id": "347236ed9f4e4df79c1c9c2f6cea07aa",
       "version_major": 2,
       "version_minor": 0
      },
      "text/plain": [
       "Calculating mtb area for every frame in track: 625:   0%|          | 0/19 [00:00<?, ?it/s]"
      ]
     },
     "metadata": {},
     "output_type": "display_data"
    },
    {
     "data": {
      "application/vnd.jupyter.widget-view+json": {
       "model_id": "33c735e5b9394e18ad84b79315a2a217",
       "version_major": 2,
       "version_minor": 0
      },
      "text/plain": [
       "Calculating mtb area for every frame in track: 1138:   0%|          | 0/67 [00:00<?, ?it/s]"
      ]
     },
     "metadata": {},
     "output_type": "display_data"
    },
    {
     "data": {
      "application/vnd.jupyter.widget-view+json": {
       "model_id": "98125b707b634de4ad7a0f4adaf2516a",
       "version_major": 2,
       "version_minor": 0
      },
      "text/plain": [
       "Calculating mtb area for every frame in track: 628:   0%|          | 0/51 [00:00<?, ?it/s]"
      ]
     },
     "metadata": {},
     "output_type": "display_data"
    },
    {
     "data": {
      "application/vnd.jupyter.widget-view+json": {
       "model_id": "d425d954249d4b5aa57fd151b1b60750",
       "version_major": 2,
       "version_minor": 0
      },
      "text/plain": [
       "Calculating mtb area for every frame in track: 1652:   0%|          | 0/59 [00:00<?, ?it/s]"
      ]
     },
     "metadata": {},
     "output_type": "display_data"
    },
    {
     "data": {
      "application/vnd.jupyter.widget-view+json": {
       "model_id": "2ee2b4411fba43fb8a912efb56abe8be",
       "version_major": 2,
       "version_minor": 0
      },
      "text/plain": [
       "Calculating mtb area for every frame in track: 1654:   0%|          | 0/42 [00:00<?, ?it/s]"
      ]
     },
     "metadata": {},
     "output_type": "display_data"
    },
    {
     "data": {
      "application/vnd.jupyter.widget-view+json": {
       "model_id": "ed03da0a7c5546d69759041b35e02e8c",
       "version_major": 2,
       "version_minor": 0
      },
      "text/plain": [
       "Calculating mtb area for every frame in track: 119:   0%|          | 0/46 [00:00<?, ?it/s]"
      ]
     },
     "metadata": {},
     "output_type": "display_data"
    },
    {
     "data": {
      "application/vnd.jupyter.widget-view+json": {
       "model_id": "0c7a20f874a940e0adb8975fd063324b",
       "version_major": 2,
       "version_minor": 0
      },
      "text/plain": [
       "Calculating mtb area for every frame in track: 120:   0%|          | 0/30 [00:00<?, ?it/s]"
      ]
     },
     "metadata": {},
     "output_type": "display_data"
    },
    {
     "data": {
      "application/vnd.jupyter.widget-view+json": {
       "model_id": "c5829e8985414ab4bc8703ed9ae4ae43",
       "version_major": 2,
       "version_minor": 0
      },
      "text/plain": [
       "Calculating mtb area for every frame in track: 1147:   0%|          | 0/67 [00:00<?, ?it/s]"
      ]
     },
     "metadata": {},
     "output_type": "display_data"
    },
    {
     "data": {
      "application/vnd.jupyter.widget-view+json": {
       "model_id": "cba1658fc3dc4b868dc9970a03293e8a",
       "version_major": 2,
       "version_minor": 0
      },
      "text/plain": [
       "Calculating mtb area for every frame in track: 128:   0%|          | 0/73 [00:00<?, ?it/s]"
      ]
     },
     "metadata": {},
     "output_type": "display_data"
    },
    {
     "data": {
      "application/vnd.jupyter.widget-view+json": {
       "model_id": "0e7448fdee324af38873b32bfaed36af",
       "version_major": 2,
       "version_minor": 0
      },
      "text/plain": [
       "Calculating mtb area for every frame in track: 642:   0%|          | 0/41 [00:00<?, ?it/s]"
      ]
     },
     "metadata": {},
     "output_type": "display_data"
    },
    {
     "data": {
      "application/vnd.jupyter.widget-view+json": {
       "model_id": "5c4a2384fd984405a3e5c4d57674d19d",
       "version_major": 2,
       "version_minor": 0
      },
      "text/plain": [
       "Calculating mtb area for every frame in track: 131:   0%|          | 0/28 [00:00<?, ?it/s]"
      ]
     },
     "metadata": {},
     "output_type": "display_data"
    },
    {
     "data": {
      "application/vnd.jupyter.widget-view+json": {
       "model_id": "360794f23146426ead0ced9cfcfd9b4e",
       "version_major": 2,
       "version_minor": 0
      },
      "text/plain": [
       "Calculating mtb area for every frame in track: 644:   0%|          | 0/35 [00:00<?, ?it/s]"
      ]
     },
     "metadata": {},
     "output_type": "display_data"
    },
    {
     "data": {
      "application/vnd.jupyter.widget-view+json": {
       "model_id": "8938dcd3ac16436db64639601738a52b",
       "version_major": 2,
       "version_minor": 0
      },
      "text/plain": [
       "Calculating mtb area for every frame in track: 1154:   0%|          | 0/67 [00:00<?, ?it/s]"
      ]
     },
     "metadata": {},
     "output_type": "display_data"
    },
    {
     "data": {
      "application/vnd.jupyter.widget-view+json": {
       "model_id": "1b982fa8be3e4462bda2e63bedfec3c1",
       "version_major": 2,
       "version_minor": 0
      },
      "text/plain": [
       "Calculating mtb area for every frame in track: 1166:   0%|          | 0/67 [00:00<?, ?it/s]"
      ]
     },
     "metadata": {},
     "output_type": "display_data"
    },
    {
     "data": {
      "application/vnd.jupyter.widget-view+json": {
       "model_id": "f3fa1f2fcc8b4a4fb9b74df68b4af536",
       "version_major": 2,
       "version_minor": 0
      },
      "text/plain": [
       "Calculating mtb area for every frame in track: 656:   0%|          | 0/74 [00:00<?, ?it/s]"
      ]
     },
     "metadata": {},
     "output_type": "display_data"
    },
    {
     "data": {
      "application/vnd.jupyter.widget-view+json": {
       "model_id": "5087b1cdd5324995bc786856ebc455b8",
       "version_major": 2,
       "version_minor": 0
      },
      "text/plain": [
       "Calculating mtb area for every frame in track: 148:   0%|          | 0/70 [00:00<?, ?it/s]"
      ]
     },
     "metadata": {},
     "output_type": "display_data"
    },
    {
     "data": {
      "application/vnd.jupyter.widget-view+json": {
       "model_id": "559905b4a62a47e0bce2b62df162381a",
       "version_major": 2,
       "version_minor": 0
      },
      "text/plain": [
       "Calculating mtb area for every frame in track: 2708:   0%|          | 0/36 [00:00<?, ?it/s]"
      ]
     },
     "metadata": {},
     "output_type": "display_data"
    },
    {
     "data": {
      "application/vnd.jupyter.widget-view+json": {
       "model_id": "539752a817f244968b7ba63043d2f50a",
       "version_major": 2,
       "version_minor": 0
      },
      "text/plain": [
       "Calculating mtb area for every frame in track: 153:   0%|          | 0/75 [00:00<?, ?it/s]"
      ]
     },
     "metadata": {},
     "output_type": "display_data"
    },
    {
     "data": {
      "application/vnd.jupyter.widget-view+json": {
       "model_id": "67908424aed044e99838fd969d5cf779",
       "version_major": 2,
       "version_minor": 0
      },
      "text/plain": [
       "Calculating mtb area for every frame in track: 1690:   0%|          | 0/18 [00:00<?, ?it/s]"
      ]
     },
     "metadata": {},
     "output_type": "display_data"
    },
    {
     "data": {
      "application/vnd.jupyter.widget-view+json": {
       "model_id": "343ba6324ddd4b87ad4ca14da040208c",
       "version_major": 2,
       "version_minor": 0
      },
      "text/plain": [
       "Calculating mtb area for every frame in track: 669:   0%|          | 0/63 [00:00<?, ?it/s]"
      ]
     },
     "metadata": {},
     "output_type": "display_data"
    },
    {
     "data": {
      "application/vnd.jupyter.widget-view+json": {
       "model_id": "9590771125fc44e3b77b0feea3842c79",
       "version_major": 2,
       "version_minor": 0
      },
      "text/plain": [
       "Calculating mtb area for every frame in track: 160:   0%|          | 0/23 [00:00<?, ?it/s]"
      ]
     },
     "metadata": {},
     "output_type": "display_data"
    },
    {
     "data": {
      "application/vnd.jupyter.widget-view+json": {
       "model_id": "4197b9d512b5468d83ad27dc958c761c",
       "version_major": 2,
       "version_minor": 0
      },
      "text/plain": [
       "Calculating mtb area for every frame in track: 672:   0%|          | 0/39 [00:00<?, ?it/s]"
      ]
     },
     "metadata": {},
     "output_type": "display_data"
    },
    {
     "data": {
      "application/vnd.jupyter.widget-view+json": {
       "model_id": "3a6d848638984eb785d7f72b88f844c9",
       "version_major": 2,
       "version_minor": 0
      },
      "text/plain": [
       "Calculating mtb area for every frame in track: 673:   0%|          | 0/73 [00:00<?, ?it/s]"
      ]
     },
     "metadata": {},
     "output_type": "display_data"
    },
    {
     "data": {
      "application/vnd.jupyter.widget-view+json": {
       "model_id": "f289685d7b7c4fa281ca1869fd02c40b",
       "version_major": 2,
       "version_minor": 0
      },
      "text/plain": [
       "Calculating mtb area for every frame in track: 3233:   0%|          | 0/17 [00:00<?, ?it/s]"
      ]
     },
     "metadata": {},
     "output_type": "display_data"
    },
    {
     "data": {
      "application/vnd.jupyter.widget-view+json": {
       "model_id": "a76765f50bed492384e7c6fae72c6f87",
       "version_major": 2,
       "version_minor": 0
      },
      "text/plain": [
       "Calculating mtb area for every frame in track: 164:   0%|          | 0/70 [00:00<?, ?it/s]"
      ]
     },
     "metadata": {},
     "output_type": "display_data"
    },
    {
     "data": {
      "application/vnd.jupyter.widget-view+json": {
       "model_id": "f5a3be55cdb84912a630f493c3d98852",
       "version_major": 2,
       "version_minor": 0
      },
      "text/plain": [
       "Calculating mtb area for every frame in track: 166:   0%|          | 0/75 [00:00<?, ?it/s]"
      ]
     },
     "metadata": {},
     "output_type": "display_data"
    },
    {
     "data": {
      "application/vnd.jupyter.widget-view+json": {
       "model_id": "332bf06525c44d6aaa4c0efbe6ec30a3",
       "version_major": 2,
       "version_minor": 0
      },
      "text/plain": [
       "Calculating mtb area for every frame in track: 679:   0%|          | 0/73 [00:00<?, ?it/s]"
      ]
     },
     "metadata": {},
     "output_type": "display_data"
    },
    {
     "data": {
      "application/vnd.jupyter.widget-view+json": {
       "model_id": "80eb489fcc5244728344b73c744e8fb1",
       "version_major": 2,
       "version_minor": 0
      },
      "text/plain": [
       "Calculating mtb area for every frame in track: 682:   0%|          | 0/39 [00:00<?, ?it/s]"
      ]
     },
     "metadata": {},
     "output_type": "display_data"
    },
    {
     "data": {
      "application/vnd.jupyter.widget-view+json": {
       "model_id": "0dce65479d7840b3bb7d992ad95680aa",
       "version_major": 2,
       "version_minor": 0
      },
      "text/plain": [
       "Calculating mtb area for every frame in track: 3242:   0%|          | 0/24 [00:00<?, ?it/s]"
      ]
     },
     "metadata": {},
     "output_type": "display_data"
    },
    {
     "data": {
      "application/vnd.jupyter.widget-view+json": {
       "model_id": "b48a5ab854e8406895ce7a514a380d3d",
       "version_major": 2,
       "version_minor": 0
      },
      "text/plain": [
       "Calculating mtb area for every frame in track: 172:   0%|          | 0/46 [00:00<?, ?it/s]"
      ]
     },
     "metadata": {},
     "output_type": "display_data"
    },
    {
     "data": {
      "application/vnd.jupyter.widget-view+json": {
       "model_id": "ad203c70a32941c88eb03d2b2794cbfb",
       "version_major": 2,
       "version_minor": 0
      },
      "text/plain": [
       "Calculating mtb area for every frame in track: 177:   0%|          | 0/58 [00:00<?, ?it/s]"
      ]
     },
     "metadata": {},
     "output_type": "display_data"
    },
    {
     "data": {
      "application/vnd.jupyter.widget-view+json": {
       "model_id": "af591dddc7574b1f962185d3dc45eb2f",
       "version_major": 2,
       "version_minor": 0
      },
      "text/plain": [
       "Calculating mtb area for every frame in track: 2737:   0%|          | 0/34 [00:00<?, ?it/s]"
      ]
     },
     "metadata": {},
     "output_type": "display_data"
    },
    {
     "data": {
      "application/vnd.jupyter.widget-view+json": {
       "model_id": "928314a5d5e142828a0d0d3184f5bde8",
       "version_major": 2,
       "version_minor": 0
      },
      "text/plain": [
       "Calculating mtb area for every frame in track: 182:   0%|          | 0/41 [00:00<?, ?it/s]"
      ]
     },
     "metadata": {},
     "output_type": "display_data"
    },
    {
     "data": {
      "application/vnd.jupyter.widget-view+json": {
       "model_id": "3b1f7fbca95f4404bf37337e367a446b",
       "version_major": 2,
       "version_minor": 0
      },
      "text/plain": [
       "Calculating mtb area for every frame in track: 694:   0%|          | 0/34 [00:00<?, ?it/s]"
      ]
     },
     "metadata": {},
     "output_type": "display_data"
    },
    {
     "data": {
      "application/vnd.jupyter.widget-view+json": {
       "model_id": "1ae3f22bb5844b2a9ce253db4bff6039",
       "version_major": 2,
       "version_minor": 0
      },
      "text/plain": [
       "Calculating mtb area for every frame in track: 2234:   0%|          | 0/47 [00:00<?, ?it/s]"
      ]
     },
     "metadata": {},
     "output_type": "display_data"
    },
    {
     "data": {
      "application/vnd.jupyter.widget-view+json": {
       "model_id": "7ef74d510508443a8d6e62046ff6f871",
       "version_major": 2,
       "version_minor": 0
      },
      "text/plain": [
       "Calculating mtb area for every frame in track: 1731:   0%|          | 0/33 [00:00<?, ?it/s]"
      ]
     },
     "metadata": {},
     "output_type": "display_data"
    },
    {
     "data": {
      "application/vnd.jupyter.widget-view+json": {
       "model_id": "3a44b868bfcb4530b0db4da0a19fed40",
       "version_major": 2,
       "version_minor": 0
      },
      "text/plain": [
       "Calculating mtb area for every frame in track: 1735:   0%|          | 0/17 [00:00<?, ?it/s]"
      ]
     },
     "metadata": {},
     "output_type": "display_data"
    },
    {
     "data": {
      "application/vnd.jupyter.widget-view+json": {
       "model_id": "1e4e5903155a4347b7d55af3dd04702e",
       "version_major": 2,
       "version_minor": 0
      },
      "text/plain": [
       "Calculating mtb area for every frame in track: 1226:   0%|          | 0/66 [00:00<?, ?it/s]"
      ]
     },
     "metadata": {},
     "output_type": "display_data"
    },
    {
     "data": {
      "application/vnd.jupyter.widget-view+json": {
       "model_id": "abdc23d7490e44bca151de1a145d9bad",
       "version_major": 2,
       "version_minor": 0
      },
      "text/plain": [
       "Calculating mtb area for every frame in track: 3275:   0%|          | 0/23 [00:00<?, ?it/s]"
      ]
     },
     "metadata": {},
     "output_type": "display_data"
    },
    {
     "data": {
      "application/vnd.jupyter.widget-view+json": {
       "model_id": "ca8854643447467fb9807ad610c91b60",
       "version_major": 2,
       "version_minor": 0
      },
      "text/plain": [
       "Calculating mtb area for every frame in track: 204:   0%|          | 0/67 [00:00<?, ?it/s]"
      ]
     },
     "metadata": {},
     "output_type": "display_data"
    },
    {
     "data": {
      "application/vnd.jupyter.widget-view+json": {
       "model_id": "053fbd00deb74360ac7933a5e308d556",
       "version_major": 2,
       "version_minor": 0
      },
      "text/plain": [
       "Calculating mtb area for every frame in track: 1233:   0%|          | 0/66 [00:00<?, ?it/s]"
      ]
     },
     "metadata": {},
     "output_type": "display_data"
    },
    {
     "data": {
      "application/vnd.jupyter.widget-view+json": {
       "model_id": "d1ffd4097d8648febe1a125bdb59fc30",
       "version_major": 2,
       "version_minor": 0
      },
      "text/plain": [
       "Calculating mtb area for every frame in track: 2258:   0%|          | 0/46 [00:00<?, ?it/s]"
      ]
     },
     "metadata": {},
     "output_type": "display_data"
    },
    {
     "data": {
      "application/vnd.jupyter.widget-view+json": {
       "model_id": "0f47150b4e5f48edaf246a6aedec367e",
       "version_major": 2,
       "version_minor": 0
      },
      "text/plain": [
       "Calculating mtb area for every frame in track: 1239:   0%|          | 0/65 [00:00<?, ?it/s]"
      ]
     },
     "metadata": {},
     "output_type": "display_data"
    },
    {
     "data": {
      "application/vnd.jupyter.widget-view+json": {
       "model_id": "c3f6aa756cbd41b9b22824838e5e2c9d",
       "version_major": 2,
       "version_minor": 0
      },
      "text/plain": [
       "Calculating mtb area for every frame in track: 1246:   0%|          | 0/65 [00:00<?, ?it/s]"
      ]
     },
     "metadata": {},
     "output_type": "display_data"
    },
    {
     "data": {
      "application/vnd.jupyter.widget-view+json": {
       "model_id": "538c1b2d5c9c4d818ec629afec71f2ab",
       "version_major": 2,
       "version_minor": 0
      },
      "text/plain": [
       "Calculating mtb area for every frame in track: 225:   0%|          | 0/46 [00:00<?, ?it/s]"
      ]
     },
     "metadata": {},
     "output_type": "display_data"
    },
    {
     "data": {
      "application/vnd.jupyter.widget-view+json": {
       "model_id": "641b095f37104581b964519a27152172",
       "version_major": 2,
       "version_minor": 0
      },
      "text/plain": [
       "Calculating mtb area for every frame in track: 738:   0%|          | 0/16 [00:00<?, ?it/s]"
      ]
     },
     "metadata": {},
     "output_type": "display_data"
    },
    {
     "data": {
      "application/vnd.jupyter.widget-view+json": {
       "model_id": "447682390a8b43a981eb059002a5bd4c",
       "version_major": 2,
       "version_minor": 0
      },
      "text/plain": [
       "Calculating mtb area for every frame in track: 2787:   0%|          | 0/33 [00:00<?, ?it/s]"
      ]
     },
     "metadata": {},
     "output_type": "display_data"
    },
    {
     "data": {
      "application/vnd.jupyter.widget-view+json": {
       "model_id": "59a0384c496c43339fed106486e8a850",
       "version_major": 2,
       "version_minor": 0
      },
      "text/plain": [
       "Calculating mtb area for every frame in track: 1254:   0%|          | 0/65 [00:00<?, ?it/s]"
      ]
     },
     "metadata": {},
     "output_type": "display_data"
    },
    {
     "data": {
      "application/vnd.jupyter.widget-view+json": {
       "model_id": "6af13f8f04ea4de9bbb7abb60c2da367",
       "version_major": 2,
       "version_minor": 0
      },
      "text/plain": [
       "Calculating mtb area for every frame in track: 2794:   0%|          | 0/34 [00:00<?, ?it/s]"
      ]
     },
     "metadata": {},
     "output_type": "display_data"
    },
    {
     "data": {
      "application/vnd.jupyter.widget-view+json": {
       "model_id": "8cbd033125e544fabbbaf33b85804e6d",
       "version_major": 2,
       "version_minor": 0
      },
      "text/plain": [
       "Calculating mtb area for every frame in track: 237:   0%|          | 0/62 [00:00<?, ?it/s]"
      ]
     },
     "metadata": {},
     "output_type": "display_data"
    },
    {
     "data": {
      "application/vnd.jupyter.widget-view+json": {
       "model_id": "58a55e1f2c3348f0828d003403a77214",
       "version_major": 2,
       "version_minor": 0
      },
      "text/plain": [
       "Calculating mtb area for every frame in track: 238:   0%|          | 0/42 [00:00<?, ?it/s]"
      ]
     },
     "metadata": {},
     "output_type": "display_data"
    },
    {
     "data": {
      "application/vnd.jupyter.widget-view+json": {
       "model_id": "3ac97391246a410bbc4de219f616b685",
       "version_major": 2,
       "version_minor": 0
      },
      "text/plain": [
       "Calculating mtb area for every frame in track: 1778:   0%|          | 0/26 [00:00<?, ?it/s]"
      ]
     },
     "metadata": {},
     "output_type": "display_data"
    },
    {
     "data": {
      "application/vnd.jupyter.widget-view+json": {
       "model_id": "98fbb727b8e24631ad9143248f60cd53",
       "version_major": 2,
       "version_minor": 0
      },
      "text/plain": [
       "Calculating mtb area for every frame in track: 756:   0%|          | 0/64 [00:00<?, ?it/s]"
      ]
     },
     "metadata": {},
     "output_type": "display_data"
    },
    {
     "data": {
      "application/vnd.jupyter.widget-view+json": {
       "model_id": "f88faa41ea8b4d938a56abe4e4590097",
       "version_major": 2,
       "version_minor": 0
      },
      "text/plain": [
       "Calculating mtb area for every frame in track: 3318:   0%|          | 0/22 [00:00<?, ?it/s]"
      ]
     },
     "metadata": {},
     "output_type": "display_data"
    },
    {
     "data": {
      "application/vnd.jupyter.widget-view+json": {
       "model_id": "0fc50e2eeb384b91953a96cbdd1ad9c9",
       "version_major": 2,
       "version_minor": 0
      },
      "text/plain": [
       "Calculating mtb area for every frame in track: 1783:   0%|          | 0/56 [00:00<?, ?it/s]"
      ]
     },
     "metadata": {},
     "output_type": "display_data"
    },
    {
     "data": {
      "application/vnd.jupyter.widget-view+json": {
       "model_id": "f6dc5f0b3f7d475bae906ff1fd300e58",
       "version_major": 2,
       "version_minor": 0
      },
      "text/plain": [
       "Calculating mtb area for every frame in track: 249:   0%|          | 0/44 [00:00<?, ?it/s]"
      ]
     },
     "metadata": {},
     "output_type": "display_data"
    },
    {
     "data": {
      "application/vnd.jupyter.widget-view+json": {
       "model_id": "9776a450169f49c4ad9bd759c4420c63",
       "version_major": 2,
       "version_minor": 0
      },
      "text/plain": [
       "Calculating mtb area for every frame in track: 2300:   0%|          | 0/45 [00:00<?, ?it/s]"
      ]
     },
     "metadata": {},
     "output_type": "display_data"
    },
    {
     "data": {
      "application/vnd.jupyter.widget-view+json": {
       "model_id": "076cfe33b9964727bacfc970cd7d027e",
       "version_major": 2,
       "version_minor": 0
      },
      "text/plain": [
       "Calculating mtb area for every frame in track: 769:   0%|          | 0/46 [00:00<?, ?it/s]"
      ]
     },
     "metadata": {},
     "output_type": "display_data"
    },
    {
     "data": {
      "application/vnd.jupyter.widget-view+json": {
       "model_id": "d42e5ed932074e3f9807f8b5ecf2c933",
       "version_major": 2,
       "version_minor": 0
      },
      "text/plain": [
       "Calculating mtb area for every frame in track: 261:   0%|          | 0/24 [00:00<?, ?it/s]"
      ]
     },
     "metadata": {},
     "output_type": "display_data"
    },
    {
     "data": {
      "application/vnd.jupyter.widget-view+json": {
       "model_id": "26f7a8762be24c1eb84c4ae47d0378d4",
       "version_major": 2,
       "version_minor": 0
      },
      "text/plain": [
       "Calculating mtb area for every frame in track: 1287:   0%|          | 0/65 [00:00<?, ?it/s]"
      ]
     },
     "metadata": {},
     "output_type": "display_data"
    },
    {
     "data": {
      "application/vnd.jupyter.widget-view+json": {
       "model_id": "0545d8bc40304acebea47e802b027f69",
       "version_major": 2,
       "version_minor": 0
      },
      "text/plain": [
       "Calculating mtb area for every frame in track: 265:   0%|          | 0/51 [00:00<?, ?it/s]"
      ]
     },
     "metadata": {},
     "output_type": "display_data"
    },
    {
     "data": {
      "application/vnd.jupyter.widget-view+json": {
       "model_id": "3d48936e5d564048a0367790cc8507e5",
       "version_major": 2,
       "version_minor": 0
      },
      "text/plain": [
       "Calculating mtb area for every frame in track: 3337:   0%|          | 0/21 [00:00<?, ?it/s]"
      ]
     },
     "metadata": {},
     "output_type": "display_data"
    },
    {
     "data": {
      "application/vnd.jupyter.widget-view+json": {
       "model_id": "309eb48f5830443698c9760390e00c99",
       "version_major": 2,
       "version_minor": 0
      },
      "text/plain": [
       "Calculating mtb area for every frame in track: 280:   0%|          | 0/74 [00:00<?, ?it/s]"
      ]
     },
     "metadata": {},
     "output_type": "display_data"
    },
    {
     "data": {
      "application/vnd.jupyter.widget-view+json": {
       "model_id": "a6fc0a467bfd4512899609fcc5dc563c",
       "version_major": 2,
       "version_minor": 0
      },
      "text/plain": [
       "Calculating mtb area for every frame in track: 281:   0%|          | 0/75 [00:00<?, ?it/s]"
      ]
     },
     "metadata": {},
     "output_type": "display_data"
    },
    {
     "data": {
      "application/vnd.jupyter.widget-view+json": {
       "model_id": "1b5378f1e67a412986a86c0fc3daa4e6",
       "version_major": 2,
       "version_minor": 0
      },
      "text/plain": [
       "Calculating mtb area for every frame in track: 1817:   0%|          | 0/22 [00:00<?, ?it/s]"
      ]
     },
     "metadata": {},
     "output_type": "display_data"
    },
    {
     "data": {
      "application/vnd.jupyter.widget-view+json": {
       "model_id": "a923544adc4d4211ab5f7b3c865a57d8",
       "version_major": 2,
       "version_minor": 0
      },
      "text/plain": [
       "Calculating mtb area for every frame in track: 283:   0%|          | 0/39 [00:00<?, ?it/s]"
      ]
     },
     "metadata": {},
     "output_type": "display_data"
    },
    {
     "data": {
      "application/vnd.jupyter.widget-view+json": {
       "model_id": "1ebcbe6d5fb54588ab710463110ed0fa",
       "version_major": 2,
       "version_minor": 0
      },
      "text/plain": [
       "Calculating mtb area for every frame in track: 1308:   0%|          | 0/58 [00:00<?, ?it/s]"
      ]
     },
     "metadata": {},
     "output_type": "display_data"
    },
    {
     "data": {
      "application/vnd.jupyter.widget-view+json": {
       "model_id": "c62c5e10f0c84f6a93d7eb9caec5f73c",
       "version_major": 2,
       "version_minor": 0
      },
      "text/plain": [
       "Calculating mtb area for every frame in track: 285:   0%|          | 0/16 [00:00<?, ?it/s]"
      ]
     },
     "metadata": {},
     "output_type": "display_data"
    },
    {
     "data": {
      "application/vnd.jupyter.widget-view+json": {
       "model_id": "585bd93792dc48889445fe2182ad188a",
       "version_major": 2,
       "version_minor": 0
      },
      "text/plain": [
       "Calculating mtb area for every frame in track: 286:   0%|          | 0/55 [00:00<?, ?it/s]"
      ]
     },
     "metadata": {},
     "output_type": "display_data"
    },
    {
     "data": {
      "application/vnd.jupyter.widget-view+json": {
       "model_id": "ae701540d81149ee872025f8a121a867",
       "version_major": 2,
       "version_minor": 0
      },
      "text/plain": [
       "Calculating mtb area for every frame in track: 287:   0%|          | 0/60 [00:00<?, ?it/s]"
      ]
     },
     "metadata": {},
     "output_type": "display_data"
    },
    {
     "data": {
      "application/vnd.jupyter.widget-view+json": {
       "model_id": "20adc1a9e2c846be876018a73d41fef7",
       "version_major": 2,
       "version_minor": 0
      },
      "text/plain": [
       "Calculating mtb area for every frame in track: 288:   0%|          | 0/75 [00:00<?, ?it/s]"
      ]
     },
     "metadata": {},
     "output_type": "display_data"
    },
    {
     "data": {
      "application/vnd.jupyter.widget-view+json": {
       "model_id": "814a6b13eb3e4109a154e84505673d0b",
       "version_major": 2,
       "version_minor": 0
      },
      "text/plain": [
       "Calculating mtb area for every frame in track: 1313:   0%|          | 0/65 [00:00<?, ?it/s]"
      ]
     },
     "metadata": {},
     "output_type": "display_data"
    },
    {
     "data": {
      "application/vnd.jupyter.widget-view+json": {
       "model_id": "94cf797531d6456796a25263f18fd1d3",
       "version_major": 2,
       "version_minor": 0
      },
      "text/plain": [
       "Calculating mtb area for every frame in track: 3362:   0%|          | 0/20 [00:00<?, ?it/s]"
      ]
     },
     "metadata": {},
     "output_type": "display_data"
    },
    {
     "data": {
      "application/vnd.jupyter.widget-view+json": {
       "model_id": "dfe63f39ded94a1791ced6d04f6fc1b8",
       "version_major": 2,
       "version_minor": 0
      },
      "text/plain": [
       "Calculating mtb area for every frame in track: 806:   0%|          | 0/40 [00:00<?, ?it/s]"
      ]
     },
     "metadata": {},
     "output_type": "display_data"
    },
    {
     "data": {
      "application/vnd.jupyter.widget-view+json": {
       "model_id": "7e4c11a175d547349f2a7f24bb0e5ee1",
       "version_major": 2,
       "version_minor": 0
      },
      "text/plain": [
       "Calculating mtb area for every frame in track: 2855:   0%|          | 0/33 [00:00<?, ?it/s]"
      ]
     },
     "metadata": {},
     "output_type": "display_data"
    },
    {
     "data": {
      "application/vnd.jupyter.widget-view+json": {
       "model_id": "15bbff8071cd403ab428b19cbfbe7dcb",
       "version_major": 2,
       "version_minor": 0
      },
      "text/plain": [
       "Calculating mtb area for every frame in track: 297:   0%|          | 0/12 [00:00<?, ?it/s]"
      ]
     },
     "metadata": {},
     "output_type": "display_data"
    },
    {
     "data": {
      "application/vnd.jupyter.widget-view+json": {
       "model_id": "db8ceb825b484bde8e4319812bc43b77",
       "version_major": 2,
       "version_minor": 0
      },
      "text/plain": [
       "Calculating mtb area for every frame in track: 1332:   0%|          | 0/64 [00:00<?, ?it/s]"
      ]
     },
     "metadata": {},
     "output_type": "display_data"
    },
    {
     "data": {
      "application/vnd.jupyter.widget-view+json": {
       "model_id": "395088886f45431d8233043c04fc0401",
       "version_major": 2,
       "version_minor": 0
      },
      "text/plain": [
       "Calculating mtb area for every frame in track: 3380:   0%|          | 0/19 [00:00<?, ?it/s]"
      ]
     },
     "metadata": {},
     "output_type": "display_data"
    },
    {
     "data": {
      "application/vnd.jupyter.widget-view+json": {
       "model_id": "3d96a1a0d72540da94b1f1cb1df33f06",
       "version_major": 2,
       "version_minor": 0
      },
      "text/plain": [
       "Calculating mtb area for every frame in track: 310:   0%|          | 0/26 [00:00<?, ?it/s]"
      ]
     },
     "metadata": {},
     "output_type": "display_data"
    },
    {
     "data": {
      "application/vnd.jupyter.widget-view+json": {
       "model_id": "db530528f3a6427d8af05ab25a887f81",
       "version_major": 2,
       "version_minor": 0
      },
      "text/plain": [
       "Calculating mtb area for every frame in track: 1335:   0%|          | 0/63 [00:00<?, ?it/s]"
      ]
     },
     "metadata": {},
     "output_type": "display_data"
    },
    {
     "data": {
      "application/vnd.jupyter.widget-view+json": {
       "model_id": "62967bb85e0044cebac4805706be7834",
       "version_major": 2,
       "version_minor": 0
      },
      "text/plain": [
       "Calculating mtb area for every frame in track: 315:   0%|          | 0/28 [00:00<?, ?it/s]"
      ]
     },
     "metadata": {},
     "output_type": "display_data"
    },
    {
     "data": {
      "application/vnd.jupyter.widget-view+json": {
       "model_id": "5ba508f8be3a4f42b0690b5e806dd391",
       "version_major": 2,
       "version_minor": 0
      },
      "text/plain": [
       "Calculating mtb area for every frame in track: 1340:   0%|          | 0/64 [00:00<?, ?it/s]"
      ]
     },
     "metadata": {},
     "output_type": "display_data"
    },
    {
     "data": {
      "application/vnd.jupyter.widget-view+json": {
       "model_id": "3e5ddd6690424474b2da65b66c011914",
       "version_major": 2,
       "version_minor": 0
      },
      "text/plain": [
       "Calculating mtb area for every frame in track: 321:   0%|          | 0/60 [00:00<?, ?it/s]"
      ]
     },
     "metadata": {},
     "output_type": "display_data"
    },
    {
     "data": {
      "application/vnd.jupyter.widget-view+json": {
       "model_id": "a6927961f5ff4b108ebe26b866d0f1c5",
       "version_major": 2,
       "version_minor": 0
      },
      "text/plain": [
       "Calculating mtb area for every frame in track: 1345:   0%|          | 0/64 [00:00<?, ?it/s]"
      ]
     },
     "metadata": {},
     "output_type": "display_data"
    },
    {
     "data": {
      "application/vnd.jupyter.widget-view+json": {
       "model_id": "e9d1a06c4ace46e9b82906e9345887a8",
       "version_major": 2,
       "version_minor": 0
      },
      "text/plain": [
       "Calculating mtb area for every frame in track: 324:   0%|          | 0/62 [00:00<?, ?it/s]"
      ]
     },
     "metadata": {},
     "output_type": "display_data"
    },
    {
     "data": {
      "application/vnd.jupyter.widget-view+json": {
       "model_id": "93765dee6fba497884c2aaa61ae3383c",
       "version_major": 2,
       "version_minor": 0
      },
      "text/plain": [
       "Calculating mtb area for every frame in track: 2886:   0%|          | 0/32 [00:00<?, ?it/s]"
      ]
     },
     "metadata": {},
     "output_type": "display_data"
    },
    {
     "data": {
      "application/vnd.jupyter.widget-view+json": {
       "model_id": "2a29722c01244790b6fff4ed81e53a9c",
       "version_major": 2,
       "version_minor": 0
      },
      "text/plain": [
       "Calculating mtb area for every frame in track: 3402:   0%|          | 0/19 [00:00<?, ?it/s]"
      ]
     },
     "metadata": {},
     "output_type": "display_data"
    },
    {
     "data": {
      "application/vnd.jupyter.widget-view+json": {
       "model_id": "59be08d36a2c42aa9472d6d773b375ff",
       "version_major": 2,
       "version_minor": 0
      },
      "text/plain": [
       "Calculating mtb area for every frame in track: 1354:   0%|          | 0/64 [00:00<?, ?it/s]"
      ]
     },
     "metadata": {},
     "output_type": "display_data"
    },
    {
     "data": {
      "application/vnd.jupyter.widget-view+json": {
       "model_id": "e365ba08a00e4980b47dfddd7bc0ab03",
       "version_major": 2,
       "version_minor": 0
      },
      "text/plain": [
       "Calculating mtb area for every frame in track: 1356:   0%|          | 0/64 [00:00<?, ?it/s]"
      ]
     },
     "metadata": {},
     "output_type": "display_data"
    },
    {
     "data": {
      "application/vnd.jupyter.widget-view+json": {
       "model_id": "8e5f4b02de9b4c3aac18be10d829c389",
       "version_major": 2,
       "version_minor": 0
      },
      "text/plain": [
       "Calculating mtb area for every frame in track: 1868:   0%|          | 0/54 [00:00<?, ?it/s]"
      ]
     },
     "metadata": {},
     "output_type": "display_data"
    },
    {
     "data": {
      "application/vnd.jupyter.widget-view+json": {
       "model_id": "7b1e9a15bb674489a94f05a891a93782",
       "version_major": 2,
       "version_minor": 0
      },
      "text/plain": [
       "Calculating mtb area for every frame in track: 1358:   0%|          | 0/41 [00:00<?, ?it/s]"
      ]
     },
     "metadata": {},
     "output_type": "display_data"
    },
    {
     "data": {
      "application/vnd.jupyter.widget-view+json": {
       "model_id": "dd8fb81e197c46fea3902dafc5ad4e9c",
       "version_major": 2,
       "version_minor": 0
      },
      "text/plain": [
       "Calculating mtb area for every frame in track: 855:   0%|          | 0/70 [00:00<?, ?it/s]"
      ]
     },
     "metadata": {},
     "output_type": "display_data"
    },
    {
     "data": {
      "application/vnd.jupyter.widget-view+json": {
       "model_id": "b91996dd6b0e4539887428cb6468b10f",
       "version_major": 2,
       "version_minor": 0
      },
      "text/plain": [
       "Calculating mtb area for every frame in track: 344:   0%|          | 0/64 [00:00<?, ?it/s]"
      ]
     },
     "metadata": {},
     "output_type": "display_data"
    },
    {
     "data": {
      "application/vnd.jupyter.widget-view+json": {
       "model_id": "c414806e5ac248cf9f9baec3da9091f6",
       "version_major": 2,
       "version_minor": 0
      },
      "text/plain": [
       "Calculating mtb area for every frame in track: 354:   0%|          | 0/63 [00:00<?, ?it/s]"
      ]
     },
     "metadata": {},
     "output_type": "display_data"
    },
    {
     "data": {
      "application/vnd.jupyter.widget-view+json": {
       "model_id": "8f8a35ab8be14fc7a50f9ca5eaa42a0e",
       "version_major": 2,
       "version_minor": 0
      },
      "text/plain": [
       "Calculating mtb area for every frame in track: 867:   0%|          | 0/69 [00:00<?, ?it/s]"
      ]
     },
     "metadata": {},
     "output_type": "display_data"
    },
    {
     "data": {
      "application/vnd.jupyter.widget-view+json": {
       "model_id": "7e5a2d47025c4737b3c8e5c29430babc",
       "version_major": 2,
       "version_minor": 0
      },
      "text/plain": [
       "Calculating mtb area for every frame in track: 1378:   0%|          | 0/19 [00:00<?, ?it/s]"
      ]
     },
     "metadata": {},
     "output_type": "display_data"
    },
    {
     "data": {
      "application/vnd.jupyter.widget-view+json": {
       "model_id": "202b10ac0f0743fbaa1ed8f82ee1f789",
       "version_major": 2,
       "version_minor": 0
      },
      "text/plain": [
       "Calculating mtb area for every frame in track: 2922:   0%|          | 0/32 [00:00<?, ?it/s]"
      ]
     },
     "metadata": {},
     "output_type": "display_data"
    },
    {
     "data": {
      "application/vnd.jupyter.widget-view+json": {
       "model_id": "6fe0a504b8c6430ebc6acde5d138fb14",
       "version_major": 2,
       "version_minor": 0
      },
      "text/plain": [
       "Calculating mtb area for every frame in track: 1387:   0%|          | 0/64 [00:00<?, ?it/s]"
      ]
     },
     "metadata": {},
     "output_type": "display_data"
    },
    {
     "data": {
      "application/vnd.jupyter.widget-view+json": {
       "model_id": "c87aee9a00dc42ebbfa6a37e92eddb39",
       "version_major": 2,
       "version_minor": 0
      },
      "text/plain": [
       "Calculating mtb area for every frame in track: 2422:   0%|          | 0/43 [00:00<?, ?it/s]"
      ]
     },
     "metadata": {},
     "output_type": "display_data"
    },
    {
     "data": {
      "application/vnd.jupyter.widget-view+json": {
       "model_id": "9f6f1d8453c34e54982ab0f549dc7641",
       "version_major": 2,
       "version_minor": 0
      },
      "text/plain": [
       "Calculating mtb area for every frame in track: 376:   0%|          | 0/20 [00:00<?, ?it/s]"
      ]
     },
     "metadata": {},
     "output_type": "display_data"
    },
    {
     "data": {
      "application/vnd.jupyter.widget-view+json": {
       "model_id": "076537d180c74f0cb8fdc31a791a58e7",
       "version_major": 2,
       "version_minor": 0
      },
      "text/plain": [
       "Calculating mtb area for every frame in track: 888:   0%|          | 0/69 [00:00<?, ?it/s]"
      ]
     },
     "metadata": {},
     "output_type": "display_data"
    },
    {
     "data": {
      "application/vnd.jupyter.widget-view+json": {
       "model_id": "6da7e3afbcfd41b29544daee77b72ad7",
       "version_major": 2,
       "version_minor": 0
      },
      "text/plain": [
       "Calculating mtb area for every frame in track: 889:   0%|          | 0/60 [00:00<?, ?it/s]"
      ]
     },
     "metadata": {},
     "output_type": "display_data"
    },
    {
     "data": {
      "application/vnd.jupyter.widget-view+json": {
       "model_id": "6592850cd01043ff9d96954f806eea5a",
       "version_major": 2,
       "version_minor": 0
      },
      "text/plain": [
       "Calculating mtb area for every frame in track: 1402:   0%|          | 0/54 [00:00<?, ?it/s]"
      ]
     },
     "metadata": {},
     "output_type": "display_data"
    },
    {
     "data": {
      "application/vnd.jupyter.widget-view+json": {
       "model_id": "384bb0e72b814622a602ad5ab809db11",
       "version_major": 2,
       "version_minor": 0
      },
      "text/plain": [
       "Calculating mtb area for every frame in track: 1918:   0%|          | 0/52 [00:00<?, ?it/s]"
      ]
     },
     "metadata": {},
     "output_type": "display_data"
    },
    {
     "data": {
      "application/vnd.jupyter.widget-view+json": {
       "model_id": "4ef6f9acee6744ef9bf3e4ecdb16c348",
       "version_major": 2,
       "version_minor": 0
      },
      "text/plain": [
       "Calculating mtb area for every frame in track: 384:   0%|          | 0/47 [00:00<?, ?it/s]"
      ]
     },
     "metadata": {},
     "output_type": "display_data"
    },
    {
     "data": {
      "application/vnd.jupyter.widget-view+json": {
       "model_id": "8dff42caf63549f9828a4f962410907f",
       "version_major": 2,
       "version_minor": 0
      },
      "text/plain": [
       "Calculating mtb area for every frame in track: 2434:   0%|          | 0/42 [00:00<?, ?it/s]"
      ]
     },
     "metadata": {},
     "output_type": "display_data"
    },
    {
     "data": {
      "application/vnd.jupyter.widget-view+json": {
       "model_id": "2d87002e3323428493d1034cacc25040",
       "version_major": 2,
       "version_minor": 0
      },
      "text/plain": [
       "Calculating mtb area for every frame in track: 902:   0%|          | 0/34 [00:00<?, ?it/s]"
      ]
     },
     "metadata": {},
     "output_type": "display_data"
    },
    {
     "data": {
      "application/vnd.jupyter.widget-view+json": {
       "model_id": "0670ce73fe274f7da43257c6afbad81c",
       "version_major": 2,
       "version_minor": 0
      },
      "text/plain": [
       "Calculating mtb area for every frame in track: 2440:   0%|          | 0/34 [00:00<?, ?it/s]"
      ]
     },
     "metadata": {},
     "output_type": "display_data"
    },
    {
     "data": {
      "application/vnd.jupyter.widget-view+json": {
       "model_id": "6be38ce522734b6986e145589219abb0",
       "version_major": 2,
       "version_minor": 0
      },
      "text/plain": [
       "Calculating mtb area for every frame in track: 1417:   0%|          | 0/63 [00:00<?, ?it/s]"
      ]
     },
     "metadata": {},
     "output_type": "display_data"
    },
    {
     "data": {
      "application/vnd.jupyter.widget-view+json": {
       "model_id": "d3308763d06d4038b0db3a5c4ccc5a7b",
       "version_major": 2,
       "version_minor": 0
      },
      "text/plain": [
       "Calculating mtb area for every frame in track: 397:   0%|          | 0/44 [00:00<?, ?it/s]"
      ]
     },
     "metadata": {},
     "output_type": "display_data"
    },
    {
     "data": {
      "application/vnd.jupyter.widget-view+json": {
       "model_id": "fe2d96a0a0504facb326b477913d752f",
       "version_major": 2,
       "version_minor": 0
      },
      "text/plain": [
       "Calculating mtb area for every frame in track: 1427:   0%|          | 0/25 [00:00<?, ?it/s]"
      ]
     },
     "metadata": {},
     "output_type": "display_data"
    },
    {
     "data": {
      "application/vnd.jupyter.widget-view+json": {
       "model_id": "a43f9d4d693f4288a3f3c3ad6b4957b4",
       "version_major": 2,
       "version_minor": 0
      },
      "text/plain": [
       "Calculating mtb area for every frame in track: 407:   0%|          | 0/69 [00:00<?, ?it/s]"
      ]
     },
     "metadata": {},
     "output_type": "display_data"
    },
    {
     "data": {
      "application/vnd.jupyter.widget-view+json": {
       "model_id": "0d909bbd91f2406dae17aae4b7ee4386",
       "version_major": 2,
       "version_minor": 0
      },
      "text/plain": [
       "Calculating mtb area for every frame in track: 410:   0%|          | 0/56 [00:00<?, ?it/s]"
      ]
     },
     "metadata": {},
     "output_type": "display_data"
    },
    {
     "data": {
      "application/vnd.jupyter.widget-view+json": {
       "model_id": "2478037788204a378dccc91aa48a6b4a",
       "version_major": 2,
       "version_minor": 0
      },
      "text/plain": [
       "Calculating mtb area for every frame in track: 2971:   0%|          | 0/20 [00:00<?, ?it/s]"
      ]
     },
     "metadata": {},
     "output_type": "display_data"
    },
    {
     "data": {
      "application/vnd.jupyter.widget-view+json": {
       "model_id": "aef21e6912c74327b1a3d7786d032065",
       "version_major": 2,
       "version_minor": 0
      },
      "text/plain": [
       "Calculating mtb area for every frame in track: 1948:   0%|          | 0/52 [00:00<?, ?it/s]"
      ]
     },
     "metadata": {},
     "output_type": "display_data"
    },
    {
     "data": {
      "application/vnd.jupyter.widget-view+json": {
       "model_id": "3033050a6b7148bcb096c9c2b3516ce7",
       "version_major": 2,
       "version_minor": 0
      },
      "text/plain": [
       "Calculating mtb area for every frame in track: 415:   0%|          | 0/50 [00:00<?, ?it/s]"
      ]
     },
     "metadata": {},
     "output_type": "display_data"
    },
    {
     "data": {
      "application/vnd.jupyter.widget-view+json": {
       "model_id": "4b9bd7e832114b4fb4e59e0887b47c90",
       "version_major": 2,
       "version_minor": 0
      },
      "text/plain": [
       "Calculating mtb area for every frame in track: 416:   0%|          | 0/68 [00:00<?, ?it/s]"
      ]
     },
     "metadata": {},
     "output_type": "display_data"
    },
    {
     "data": {
      "application/vnd.jupyter.widget-view+json": {
       "model_id": "7fa3343bcf0f47bfa9a1a00a1b620d3e",
       "version_major": 2,
       "version_minor": 0
      },
      "text/plain": [
       "Calculating mtb area for every frame in track: 2976:   0%|          | 0/30 [00:00<?, ?it/s]"
      ]
     },
     "metadata": {},
     "output_type": "display_data"
    },
    {
     "data": {
      "application/vnd.jupyter.widget-view+json": {
       "model_id": "677172ae4e8d4ba881e34c5aee8cdb5b",
       "version_major": 2,
       "version_minor": 0
      },
      "text/plain": [
       "Calculating mtb area for every frame in track: 2977:   0%|          | 0/29 [00:00<?, ?it/s]"
      ]
     },
     "metadata": {},
     "output_type": "display_data"
    },
    {
     "data": {
      "application/vnd.jupyter.widget-view+json": {
       "model_id": "9eb34e80fd234c339cd4070ed3194cf4",
       "version_major": 2,
       "version_minor": 0
      },
      "text/plain": [
       "Calculating mtb area for every frame in track: 419:   0%|          | 0/13 [00:00<?, ?it/s]"
      ]
     },
     "metadata": {},
     "output_type": "display_data"
    },
    {
     "data": {
      "application/vnd.jupyter.widget-view+json": {
       "model_id": "a3575396aa6c442ca3c454e2efe88356",
       "version_major": 2,
       "version_minor": 0
      },
      "text/plain": [
       "Calculating mtb area for every frame in track: 420:   0%|          | 0/30 [00:00<?, ?it/s]"
      ]
     },
     "metadata": {},
     "output_type": "display_data"
    },
    {
     "data": {
      "application/vnd.jupyter.widget-view+json": {
       "model_id": "6d60d5c120db4aa59629a19a5ae046ff",
       "version_major": 2,
       "version_minor": 0
      },
      "text/plain": [
       "Calculating mtb area for every frame in track: 423:   0%|          | 0/75 [00:00<?, ?it/s]"
      ]
     },
     "metadata": {},
     "output_type": "display_data"
    },
    {
     "data": {
      "application/vnd.jupyter.widget-view+json": {
       "model_id": "aed7c33753984227865e08f816619a9f",
       "version_major": 2,
       "version_minor": 0
      },
      "text/plain": [
       "Calculating mtb area for every frame in track: 424:   0%|          | 0/50 [00:00<?, ?it/s]"
      ]
     },
     "metadata": {},
     "output_type": "display_data"
    },
    {
     "data": {
      "application/vnd.jupyter.widget-view+json": {
       "model_id": "babc42043f044acb8605fb94062ddca6",
       "version_major": 2,
       "version_minor": 0
      },
      "text/plain": [
       "Calculating mtb area for every frame in track: 425:   0%|          | 0/34 [00:00<?, ?it/s]"
      ]
     },
     "metadata": {},
     "output_type": "display_data"
    },
    {
     "data": {
      "application/vnd.jupyter.widget-view+json": {
       "model_id": "03656198ef4946d380f5a122b8d2fa77",
       "version_major": 2,
       "version_minor": 0
      },
      "text/plain": [
       "Calculating mtb area for every frame in track: 426:   0%|          | 0/34 [00:00<?, ?it/s]"
      ]
     },
     "metadata": {},
     "output_type": "display_data"
    },
    {
     "data": {
      "application/vnd.jupyter.widget-view+json": {
       "model_id": "1a13f76eef7749ca9657ebcb46fcfd1a",
       "version_major": 2,
       "version_minor": 0
      },
      "text/plain": [
       "Calculating mtb area for every frame in track: 1960:   0%|          | 0/12 [00:00<?, ?it/s]"
      ]
     },
     "metadata": {},
     "output_type": "display_data"
    },
    {
     "data": {
      "application/vnd.jupyter.widget-view+json": {
       "model_id": "27b4deb95473492d96a90bec60c30bc6",
       "version_major": 2,
       "version_minor": 0
      },
      "text/plain": [
       "Calculating mtb area for every frame in track: 431:   0%|          | 0/56 [00:00<?, ?it/s]"
      ]
     },
     "metadata": {},
     "output_type": "display_data"
    },
    {
     "data": {
      "application/vnd.jupyter.widget-view+json": {
       "model_id": "8a73d0d8337640798e7d4d89587f9e0f",
       "version_major": 2,
       "version_minor": 0
      },
      "text/plain": [
       "Calculating mtb area for every frame in track: 432:   0%|          | 0/66 [00:00<?, ?it/s]"
      ]
     },
     "metadata": {},
     "output_type": "display_data"
    },
    {
     "data": {
      "application/vnd.jupyter.widget-view+json": {
       "model_id": "b3c85e6340a64b11a79348386c0c0204",
       "version_major": 2,
       "version_minor": 0
      },
      "text/plain": [
       "Calculating mtb area for every frame in track: 948:   0%|          | 0/38 [00:00<?, ?it/s]"
      ]
     },
     "metadata": {},
     "output_type": "display_data"
    },
    {
     "data": {
      "application/vnd.jupyter.widget-view+json": {
       "model_id": "12a6ece3b1164ea0a89bec2421018765",
       "version_major": 2,
       "version_minor": 0
      },
      "text/plain": [
       "Calculating mtb area for every frame in track: 1461:   0%|          | 0/61 [00:00<?, ?it/s]"
      ]
     },
     "metadata": {},
     "output_type": "display_data"
    },
    {
     "data": {
      "application/vnd.jupyter.widget-view+json": {
       "model_id": "f223510558e14b718f5b35ebbaf8d020",
       "version_major": 2,
       "version_minor": 0
      },
      "text/plain": [
       "Calculating mtb area for every frame in track: 1972:   0%|          | 0/52 [00:00<?, ?it/s]"
      ]
     },
     "metadata": {},
     "output_type": "display_data"
    },
    {
     "data": {
      "application/vnd.jupyter.widget-view+json": {
       "model_id": "5371f596671e4245ba5c59f29aeffa63",
       "version_major": 2,
       "version_minor": 0
      },
      "text/plain": [
       "Calculating mtb area for every frame in track: 441:   0%|          | 0/48 [00:00<?, ?it/s]"
      ]
     },
     "metadata": {},
     "output_type": "display_data"
    },
    {
     "data": {
      "application/vnd.jupyter.widget-view+json": {
       "model_id": "d03bff7f874a4595a19fba3d7f144d3f",
       "version_major": 2,
       "version_minor": 0
      },
      "text/plain": [
       "Calculating mtb area for every frame in track: 2492:   0%|          | 0/41 [00:00<?, ?it/s]"
      ]
     },
     "metadata": {},
     "output_type": "display_data"
    },
    {
     "data": {
      "application/vnd.jupyter.widget-view+json": {
       "model_id": "73c399f44f1c4423a5cbcd443518748e",
       "version_major": 2,
       "version_minor": 0
      },
      "text/plain": [
       "Calculating mtb area for every frame in track: 1468:   0%|          | 0/62 [00:00<?, ?it/s]"
      ]
     },
     "metadata": {},
     "output_type": "display_data"
    },
    {
     "data": {
      "application/vnd.jupyter.widget-view+json": {
       "model_id": "0afc4600defd41c09ee1dce99703ab7b",
       "version_major": 2,
       "version_minor": 0
      },
      "text/plain": [
       "Calculating mtb area for every frame in track: 1481:   0%|          | 0/43 [00:00<?, ?it/s]"
      ]
     },
     "metadata": {},
     "output_type": "display_data"
    },
    {
     "data": {
      "application/vnd.jupyter.widget-view+json": {
       "model_id": "18bc3f0c257b437e908cd65351901f45",
       "version_major": 2,
       "version_minor": 0
      },
      "text/plain": [
       "Calculating mtb area for every frame in track: 461:   0%|          | 0/24 [00:00<?, ?it/s]"
      ]
     },
     "metadata": {},
     "output_type": "display_data"
    },
    {
     "data": {
      "application/vnd.jupyter.widget-view+json": {
       "model_id": "382d1329bf2048f9b70cc307303fbd75",
       "version_major": 2,
       "version_minor": 0
      },
      "text/plain": [
       "Calculating mtb area for every frame in track: 1485:   0%|          | 0/61 [00:00<?, ?it/s]"
      ]
     },
     "metadata": {},
     "output_type": "display_data"
    },
    {
     "data": {
      "application/vnd.jupyter.widget-view+json": {
       "model_id": "deea2b02dca841aeb6cb188b497beb5a",
       "version_major": 2,
       "version_minor": 0
      },
      "text/plain": [
       "Calculating mtb area for every frame in track: 1999:   0%|          | 0/18 [00:00<?, ?it/s]"
      ]
     },
     "metadata": {},
     "output_type": "display_data"
    },
    {
     "data": {
      "application/vnd.jupyter.widget-view+json": {
       "model_id": "25133cb1e5b34933b38274352d83309a",
       "version_major": 2,
       "version_minor": 0
      },
      "text/plain": [
       "Calculating mtb area for every frame in track: 3026:   0%|          | 0/28 [00:00<?, ?it/s]"
      ]
     },
     "metadata": {},
     "output_type": "display_data"
    },
    {
     "data": {
      "application/vnd.jupyter.widget-view+json": {
       "model_id": "21c8ecefffdb4c71a40a5ae81813d49f",
       "version_major": 2,
       "version_minor": 0
      },
      "text/plain": [
       "Calculating mtb area for every frame in track: 473:   0%|          | 0/56 [00:00<?, ?it/s]"
      ]
     },
     "metadata": {},
     "output_type": "display_data"
    },
    {
     "data": {
      "application/vnd.jupyter.widget-view+json": {
       "model_id": "d863380c454f44cca28ed7845eed7a2c",
       "version_major": 2,
       "version_minor": 0
      },
      "text/plain": [
       "Calculating mtb area for every frame in track: 3033:   0%|          | 0/29 [00:00<?, ?it/s]"
      ]
     },
     "metadata": {},
     "output_type": "display_data"
    },
    {
     "data": {
      "application/vnd.jupyter.widget-view+json": {
       "model_id": "ab2280177ba04422970baf22544b735b",
       "version_major": 2,
       "version_minor": 0
      },
      "text/plain": [
       "Calculating mtb area for every frame in track: 986:   0%|          | 0/34 [00:00<?, ?it/s]"
      ]
     },
     "metadata": {},
     "output_type": "display_data"
    },
    {
     "data": {
      "application/vnd.jupyter.widget-view+json": {
       "model_id": "9c56926863f746849802b72736496f13",
       "version_major": 2,
       "version_minor": 0
      },
      "text/plain": [
       "Calculating mtb area for every frame in track: 988:   0%|          | 0/70 [00:00<?, ?it/s]"
      ]
     },
     "metadata": {},
     "output_type": "display_data"
    },
    {
     "data": {
      "application/vnd.jupyter.widget-view+json": {
       "model_id": "6560dc3b96c941c797d73f7d731bd9f2",
       "version_major": 2,
       "version_minor": 0
      },
      "text/plain": [
       "Calculating mtb area for every frame in track: 2014:   0%|          | 0/51 [00:00<?, ?it/s]"
      ]
     },
     "metadata": {},
     "output_type": "display_data"
    },
    {
     "data": {
      "application/vnd.jupyter.widget-view+json": {
       "model_id": "86cfdf4e85b1411eae69c45d4b4bd22e",
       "version_major": 2,
       "version_minor": 0
      },
      "text/plain": [
       "Calculating mtb area for every frame in track: 479:   0%|          | 0/20 [00:00<?, ?it/s]"
      ]
     },
     "metadata": {},
     "output_type": "display_data"
    },
    {
     "data": {
      "application/vnd.jupyter.widget-view+json": {
       "model_id": "d09bf97b324a40c7af5df0e4ca46ba87",
       "version_major": 2,
       "version_minor": 0
      },
      "text/plain": [
       "Calculating mtb area for every frame in track: 1506:   0%|          | 0/61 [00:00<?, ?it/s]"
      ]
     },
     "metadata": {},
     "output_type": "display_data"
    },
    {
     "data": {
      "application/vnd.jupyter.widget-view+json": {
       "model_id": "41acf80fb5b9444293e37a578f24faf0",
       "version_major": 2,
       "version_minor": 0
      },
      "text/plain": [
       "Calculating mtb area for every frame in track: 996:   0%|          | 0/69 [00:00<?, ?it/s]"
      ]
     },
     "metadata": {},
     "output_type": "display_data"
    },
    {
     "data": {
      "application/vnd.jupyter.widget-view+json": {
       "model_id": "1a73c7e2f6af4f89957e261b74900d39",
       "version_major": 2,
       "version_minor": 0
      },
      "text/plain": [
       "Calculating mtb area for every frame in track: 997:   0%|          | 0/70 [00:00<?, ?it/s]"
      ]
     },
     "metadata": {},
     "output_type": "display_data"
    },
    {
     "data": {
      "application/vnd.jupyter.widget-view+json": {
       "model_id": "89b0d65ae5214b0c8a34eb0855f50cf4",
       "version_major": 2,
       "version_minor": 0
      },
      "text/plain": [
       "Calculating mtb area for every frame in track: 2535:   0%|          | 0/40 [00:00<?, ?it/s]"
      ]
     },
     "metadata": {},
     "output_type": "display_data"
    },
    {
     "data": {
      "application/vnd.jupyter.widget-view+json": {
       "model_id": "581b275f6ed044868a9a97ee66f8bb10",
       "version_major": 2,
       "version_minor": 0
      },
      "text/plain": [
       "Calculating mtb area for every frame in track: 2024:   0%|          | 0/44 [00:00<?, ?it/s]"
      ]
     },
     "metadata": {},
     "output_type": "display_data"
    },
    {
     "data": {
      "application/vnd.jupyter.widget-view+json": {
       "model_id": "4a32591bd783427196503bda2b121282",
       "version_major": 2,
       "version_minor": 0
      },
      "text/plain": [
       "Calculating mtb area for every frame in track: 491:   0%|          | 0/63 [00:00<?, ?it/s]"
      ]
     },
     "metadata": {},
     "output_type": "display_data"
    },
    {
     "data": {
      "application/vnd.jupyter.widget-view+json": {
       "model_id": "bb8c6e487dba4d9d913fe2cb51e04a46",
       "version_major": 2,
       "version_minor": 0
      },
      "text/plain": [
       "Calculating mtb area for every frame in track: 1003:   0%|          | 0/37 [00:00<?, ?it/s]"
      ]
     },
     "metadata": {},
     "output_type": "display_data"
    },
    {
     "data": {
      "application/vnd.jupyter.widget-view+json": {
       "model_id": "ad0c0957a5bc4f5e97d7801a28a19880",
       "version_major": 2,
       "version_minor": 0
      },
      "text/plain": [
       "Calculating mtb area for every frame in track: 493:   0%|          | 0/69 [00:00<?, ?it/s]"
      ]
     },
     "metadata": {},
     "output_type": "display_data"
    },
    {
     "data": {
      "application/vnd.jupyter.widget-view+json": {
       "model_id": "f307086ad5454d01beb4e1c03ae3c251",
       "version_major": 2,
       "version_minor": 0
      },
      "text/plain": [
       "Calculating mtb area for every frame in track: 1007:   0%|          | 0/25 [00:00<?, ?it/s]"
      ]
     },
     "metadata": {},
     "output_type": "display_data"
    },
    {
     "data": {
      "application/vnd.jupyter.widget-view+json": {
       "model_id": "c81e1dbaf9094feeb7191cdf2413e0c9",
       "version_major": 2,
       "version_minor": 0
      },
      "text/plain": [
       "Calculating mtb area for every frame in track: 499:   0%|          | 0/37 [00:00<?, ?it/s]"
      ]
     },
     "metadata": {},
     "output_type": "display_data"
    },
    {
     "data": {
      "application/vnd.jupyter.widget-view+json": {
       "model_id": "c180216b28a4463c9e5e282dad9b4e1b",
       "version_major": 2,
       "version_minor": 0
      },
      "text/plain": [
       "Calculating mtb area for every frame in track: 1015:   0%|          | 0/70 [00:00<?, ?it/s]"
      ]
     },
     "metadata": {},
     "output_type": "display_data"
    }
   ],
   "source": [
    "track_IDs = to_do_IDs\n",
    "mtb_areas_dict = {}\n",
    "dfs = []\n",
    "for track_ID in tqdm(track_IDs, total = len(track_IDs)):\n",
    "    track = [t for t in tracks if t.ID == track_ID][0]\n",
    "    info = assay_layout.loc[acq_ID]\n",
    "    mtb_areas = tools.measure_mtb_area(track, masks, rfp_images)\n",
    "    # initial infection status \n",
    "    # init_infec_status = [True for t in track.t if any(mtb_areas[0:5])]\n",
    "    ### compile single track dictionary of info\n",
    "    d = {'Time (hours)':track['t'], \n",
    "         'Mtb Area µm2': mtb_areas,\n",
    "         'x':track['x'],\n",
    "         'y':track['y'],\n",
    "         # 'Infection status':track['Infected'],\n",
    "         # 'Initial infection status':track['Infected'][0], \n",
    "         # 'Final infection status':track['Infected'][-1], \n",
    "         'Mphi Area':track['area'], \n",
    "         'Mtb RFP':track['mean_intensity'][:, 1],\n",
    "         'Mtb RFP threshold':track['mean_intensity'][:, 2],\n",
    "         'Mphi GFP':track['mean_intensity'][:, 0],\n",
    "         'Eccentricity':np.sqrt(1-((track['minor_axis_length']**2)/(track['major_axis_length']**2))),\n",
    "         'MSD': [tools.euc_dist(track['x'][i-1], \n",
    "                                track['y'][i-1], \n",
    "                                track['x'][i], \n",
    "                                track['y'][i]) \n",
    "                  if i != 0 else 0\n",
    "                  for i in range(0, len(track))],\n",
    "         'Strain':[info['Strain'] for i in range(len(track['t']))], \n",
    "         'Compound':[info['Compound'] for i in range(len(track['t']))], \n",
    "         'Concentration':[info['ConcentrationEC'] for i in range(len(track['t']))], \n",
    "         'Cell ID':[track.ID for i in range(len(track['t']))],\n",
    "         'Acquisition ID':[acq_ID for i in range(len(track['t']))], \n",
    "         'Unique ID': [f'{track.ID}.{acq_ID[0]}.{acq_ID[1]}.' for i in range(len(track['t']))]}\n",
    "\n",
    "    mtb_areas_dict[f'{track.ID}.{acq_ID}'] = mtb_areas\n",
    "    ### append df to list of dfs\n",
    "    dfs.append(pd.DataFrame(d))\n",
    "### concat single track dfs into big df\n",
    "df2 = pd.concat(dfs, ignore_index=True)\n",
    "#rename rd1\n",
    "df2['Strain/Compound'] = df2['Compound']  # Create a new column and copy values from 'Compound'\n",
    "# Replace values in 'NewColumn' where 'Strain' is 'RD1' with 'RD1'\n",
    "df2.loc[df2['Strain'] == 'RD1', 'Strain/Compound'] = 'RD1'\n",
    "# save out \n",
    "df2.to_pickle(f'/mnt/DATA/macrohet/{expt_ID}/results/preliminary_sc_measures/sc_dfs/{acq_ID}_sc_df_GT_dev_otherGT_trax.pkl')"
   ]
  },
  {
   "cell_type": "markdown",
   "id": "29cc6551-362d-4b9f-a55e-49578c982193",
   "metadata": {},
   "source": [
    "### Merge dfs"
   ]
  },
  {
   "cell_type": "code",
   "execution_count": 282,
   "id": "60525a9c-a4f0-4411-92a2-298e1c859143",
   "metadata": {},
   "outputs": [],
   "source": [
    "df1 = df\n",
    "# Optional: Ensure the column order is the same in both dataframes\n",
    "df2 = df2[df1.columns]\n",
    "\n",
    "# Concatenate dataframes\n",
    "df = pd.concat([df1, df2], ignore_index=True)"
   ]
  },
  {
   "cell_type": "code",
   "execution_count": 283,
   "id": "705ce1df-d1d5-489f-b8e8-2a6d2bc48825",
   "metadata": {},
   "outputs": [
    {
     "data": {
      "text/html": [
       "<div>\n",
       "<style scoped>\n",
       "    .dataframe tbody tr th:only-of-type {\n",
       "        vertical-align: middle;\n",
       "    }\n",
       "\n",
       "    .dataframe tbody tr th {\n",
       "        vertical-align: top;\n",
       "    }\n",
       "\n",
       "    .dataframe thead th {\n",
       "        text-align: right;\n",
       "    }\n",
       "</style>\n",
       "<table border=\"1\" class=\"dataframe\">\n",
       "  <thead>\n",
       "    <tr style=\"text-align: right;\">\n",
       "      <th></th>\n",
       "      <th>Time (hours)</th>\n",
       "      <th>Strain</th>\n",
       "      <th>Compound</th>\n",
       "      <th>Concentration</th>\n",
       "      <th>Unique ID</th>\n",
       "      <th>Acquisition ID</th>\n",
       "      <th>Cell ID</th>\n",
       "      <th>Mphi Area</th>\n",
       "      <th>Mphi GFP</th>\n",
       "      <th>x</th>\n",
       "      <th>y</th>\n",
       "      <th>Eccentricity</th>\n",
       "      <th>MSD</th>\n",
       "      <th>Technical Replicate</th>\n",
       "      <th>Strain/Compound</th>\n",
       "      <th>Mtb Area µm2</th>\n",
       "      <th>Mtb RFP</th>\n",
       "      <th>Mtb RFP thresholded</th>\n",
       "    </tr>\n",
       "  </thead>\n",
       "  <tbody>\n",
       "    <tr>\n",
       "      <th>0</th>\n",
       "      <td>0</td>\n",
       "      <td>WT</td>\n",
       "      <td>CTRL</td>\n",
       "      <td>EC0</td>\n",
       "      <td>1.3.5</td>\n",
       "      <td>(3, 5)</td>\n",
       "      <td>1</td>\n",
       "      <td>29567.0</td>\n",
       "      <td>2220.025391</td>\n",
       "      <td>519.922607</td>\n",
       "      <td>876.779602</td>\n",
       "      <td>0.859159</td>\n",
       "      <td>0.000000</td>\n",
       "      <td>1</td>\n",
       "      <td>CTRL</td>\n",
       "      <td>46.797680</td>\n",
       "      <td>473.168976</td>\n",
       "      <td>167.325424</td>\n",
       "    </tr>\n",
       "    <tr>\n",
       "      <th>1</th>\n",
       "      <td>1</td>\n",
       "      <td>WT</td>\n",
       "      <td>CTRL</td>\n",
       "      <td>EC0</td>\n",
       "      <td>1.3.5</td>\n",
       "      <td>(3, 5)</td>\n",
       "      <td>1</td>\n",
       "      <td>26181.0</td>\n",
       "      <td>2549.692383</td>\n",
       "      <td>522.290833</td>\n",
       "      <td>876.766357</td>\n",
       "      <td>0.847926</td>\n",
       "      <td>2.368262</td>\n",
       "      <td>1</td>\n",
       "      <td>CTRL</td>\n",
       "      <td>48.719647</td>\n",
       "      <td>498.701813</td>\n",
       "      <td>202.661972</td>\n",
       "    </tr>\n",
       "    <tr>\n",
       "      <th>2</th>\n",
       "      <td>2</td>\n",
       "      <td>WT</td>\n",
       "      <td>CTRL</td>\n",
       "      <td>EC0</td>\n",
       "      <td>1.3.5</td>\n",
       "      <td>(3, 5)</td>\n",
       "      <td>1</td>\n",
       "      <td>26043.0</td>\n",
       "      <td>2653.458740</td>\n",
       "      <td>524.336243</td>\n",
       "      <td>874.563110</td>\n",
       "      <td>0.860501</td>\n",
       "      <td>3.006327</td>\n",
       "      <td>1</td>\n",
       "      <td>CTRL</td>\n",
       "      <td>52.206007</td>\n",
       "      <td>502.468353</td>\n",
       "      <td>210.382874</td>\n",
       "    </tr>\n",
       "    <tr>\n",
       "      <th>3</th>\n",
       "      <td>3</td>\n",
       "      <td>WT</td>\n",
       "      <td>CTRL</td>\n",
       "      <td>EC0</td>\n",
       "      <td>1.3.5</td>\n",
       "      <td>(3, 5)</td>\n",
       "      <td>1</td>\n",
       "      <td>25605.0</td>\n",
       "      <td>2736.911621</td>\n",
       "      <td>516.952454</td>\n",
       "      <td>876.656799</td>\n",
       "      <td>0.728416</td>\n",
       "      <td>7.674886</td>\n",
       "      <td>1</td>\n",
       "      <td>CTRL</td>\n",
       "      <td>50.552221</td>\n",
       "      <td>501.905182</td>\n",
       "      <td>212.070969</td>\n",
       "    </tr>\n",
       "    <tr>\n",
       "      <th>4</th>\n",
       "      <td>4</td>\n",
       "      <td>WT</td>\n",
       "      <td>CTRL</td>\n",
       "      <td>EC0</td>\n",
       "      <td>1.3.5</td>\n",
       "      <td>(3, 5)</td>\n",
       "      <td>1</td>\n",
       "      <td>26430.0</td>\n",
       "      <td>2490.947266</td>\n",
       "      <td>521.947449</td>\n",
       "      <td>880.909363</td>\n",
       "      <td>0.530618</td>\n",
       "      <td>6.560051</td>\n",
       "      <td>1</td>\n",
       "      <td>CTRL</td>\n",
       "      <td>54.463202</td>\n",
       "      <td>502.564423</td>\n",
       "      <td>204.565842</td>\n",
       "    </tr>\n",
       "    <tr>\n",
       "      <th>...</th>\n",
       "      <td>...</td>\n",
       "      <td>...</td>\n",
       "      <td>...</td>\n",
       "      <td>...</td>\n",
       "      <td>...</td>\n",
       "      <td>...</td>\n",
       "      <td>...</td>\n",
       "      <td>...</td>\n",
       "      <td>...</td>\n",
       "      <td>...</td>\n",
       "      <td>...</td>\n",
       "      <td>...</td>\n",
       "      <td>...</td>\n",
       "      <td>...</td>\n",
       "      <td>...</td>\n",
       "      <td>...</td>\n",
       "      <td>...</td>\n",
       "      <td>...</td>\n",
       "    </tr>\n",
       "    <tr>\n",
       "      <th>22813</th>\n",
       "      <td>70</td>\n",
       "      <td>WT</td>\n",
       "      <td>CTRL</td>\n",
       "      <td>EC0</td>\n",
       "      <td>1015.3.5</td>\n",
       "      <td>(3, 5)</td>\n",
       "      <td>1015</td>\n",
       "      <td>39979.0</td>\n",
       "      <td>2201.615723</td>\n",
       "      <td>579.509094</td>\n",
       "      <td>651.614807</td>\n",
       "      <td>0.970827</td>\n",
       "      <td>2.473534</td>\n",
       "      <td>1</td>\n",
       "      <td>CTRL</td>\n",
       "      <td>0.000000</td>\n",
       "      <td>378.059143</td>\n",
       "      <td>0.000000</td>\n",
       "    </tr>\n",
       "    <tr>\n",
       "      <th>22814</th>\n",
       "      <td>71</td>\n",
       "      <td>WT</td>\n",
       "      <td>CTRL</td>\n",
       "      <td>EC0</td>\n",
       "      <td>1015.3.5</td>\n",
       "      <td>(3, 5)</td>\n",
       "      <td>1015</td>\n",
       "      <td>38456.0</td>\n",
       "      <td>2243.430664</td>\n",
       "      <td>579.219421</td>\n",
       "      <td>651.633118</td>\n",
       "      <td>0.972632</td>\n",
       "      <td>0.290251</td>\n",
       "      <td>1</td>\n",
       "      <td>CTRL</td>\n",
       "      <td>0.000000</td>\n",
       "      <td>377.311035</td>\n",
       "      <td>0.000000</td>\n",
       "    </tr>\n",
       "    <tr>\n",
       "      <th>22815</th>\n",
       "      <td>72</td>\n",
       "      <td>WT</td>\n",
       "      <td>CTRL</td>\n",
       "      <td>EC0</td>\n",
       "      <td>1015.3.5</td>\n",
       "      <td>(3, 5)</td>\n",
       "      <td>1015</td>\n",
       "      <td>39006.0</td>\n",
       "      <td>2209.442627</td>\n",
       "      <td>578.878113</td>\n",
       "      <td>652.432434</td>\n",
       "      <td>0.968598</td>\n",
       "      <td>0.869137</td>\n",
       "      <td>1</td>\n",
       "      <td>CTRL</td>\n",
       "      <td>0.000000</td>\n",
       "      <td>378.968353</td>\n",
       "      <td>0.000000</td>\n",
       "    </tr>\n",
       "    <tr>\n",
       "      <th>22816</th>\n",
       "      <td>73</td>\n",
       "      <td>WT</td>\n",
       "      <td>CTRL</td>\n",
       "      <td>EC0</td>\n",
       "      <td>1015.3.5</td>\n",
       "      <td>(3, 5)</td>\n",
       "      <td>1015</td>\n",
       "      <td>35816.0</td>\n",
       "      <td>2537.284668</td>\n",
       "      <td>579.752319</td>\n",
       "      <td>652.408752</td>\n",
       "      <td>0.969917</td>\n",
       "      <td>0.874527</td>\n",
       "      <td>1</td>\n",
       "      <td>CTRL</td>\n",
       "      <td>0.000000</td>\n",
       "      <td>379.737701</td>\n",
       "      <td>0.000000</td>\n",
       "    </tr>\n",
       "    <tr>\n",
       "      <th>22817</th>\n",
       "      <td>74</td>\n",
       "      <td>WT</td>\n",
       "      <td>CTRL</td>\n",
       "      <td>EC0</td>\n",
       "      <td>1015.3.5</td>\n",
       "      <td>(3, 5)</td>\n",
       "      <td>1015</td>\n",
       "      <td>31696.0</td>\n",
       "      <td>2657.536133</td>\n",
       "      <td>573.638428</td>\n",
       "      <td>654.159973</td>\n",
       "      <td>0.972957</td>\n",
       "      <td>6.359752</td>\n",
       "      <td>1</td>\n",
       "      <td>CTRL</td>\n",
       "      <td>0.000000</td>\n",
       "      <td>380.318970</td>\n",
       "      <td>0.000000</td>\n",
       "    </tr>\n",
       "  </tbody>\n",
       "</table>\n",
       "<p>22818 rows × 18 columns</p>\n",
       "</div>"
      ],
      "text/plain": [
       "       Time (hours) Strain Compound Concentration Unique ID Acquisition ID  \\\n",
       "0                 0     WT     CTRL           EC0     1.3.5         (3, 5)   \n",
       "1                 1     WT     CTRL           EC0     1.3.5         (3, 5)   \n",
       "2                 2     WT     CTRL           EC0     1.3.5         (3, 5)   \n",
       "3                 3     WT     CTRL           EC0     1.3.5         (3, 5)   \n",
       "4                 4     WT     CTRL           EC0     1.3.5         (3, 5)   \n",
       "...             ...    ...      ...           ...       ...            ...   \n",
       "22813            70     WT     CTRL           EC0  1015.3.5         (3, 5)   \n",
       "22814            71     WT     CTRL           EC0  1015.3.5         (3, 5)   \n",
       "22815            72     WT     CTRL           EC0  1015.3.5         (3, 5)   \n",
       "22816            73     WT     CTRL           EC0  1015.3.5         (3, 5)   \n",
       "22817            74     WT     CTRL           EC0  1015.3.5         (3, 5)   \n",
       "\n",
       "       Cell ID  Mphi Area     Mphi GFP           x           y  Eccentricity  \\\n",
       "0            1    29567.0  2220.025391  519.922607  876.779602      0.859159   \n",
       "1            1    26181.0  2549.692383  522.290833  876.766357      0.847926   \n",
       "2            1    26043.0  2653.458740  524.336243  874.563110      0.860501   \n",
       "3            1    25605.0  2736.911621  516.952454  876.656799      0.728416   \n",
       "4            1    26430.0  2490.947266  521.947449  880.909363      0.530618   \n",
       "...        ...        ...          ...         ...         ...           ...   \n",
       "22813     1015    39979.0  2201.615723  579.509094  651.614807      0.970827   \n",
       "22814     1015    38456.0  2243.430664  579.219421  651.633118      0.972632   \n",
       "22815     1015    39006.0  2209.442627  578.878113  652.432434      0.968598   \n",
       "22816     1015    35816.0  2537.284668  579.752319  652.408752      0.969917   \n",
       "22817     1015    31696.0  2657.536133  573.638428  654.159973      0.972957   \n",
       "\n",
       "            MSD  Technical Replicate Strain/Compound  Mtb Area µm2  \\\n",
       "0      0.000000                    1            CTRL     46.797680   \n",
       "1      2.368262                    1            CTRL     48.719647   \n",
       "2      3.006327                    1            CTRL     52.206007   \n",
       "3      7.674886                    1            CTRL     50.552221   \n",
       "4      6.560051                    1            CTRL     54.463202   \n",
       "...         ...                  ...             ...           ...   \n",
       "22813  2.473534                    1            CTRL      0.000000   \n",
       "22814  0.290251                    1            CTRL      0.000000   \n",
       "22815  0.869137                    1            CTRL      0.000000   \n",
       "22816  0.874527                    1            CTRL      0.000000   \n",
       "22817  6.359752                    1            CTRL      0.000000   \n",
       "\n",
       "          Mtb RFP  Mtb RFP thresholded  \n",
       "0      473.168976           167.325424  \n",
       "1      498.701813           202.661972  \n",
       "2      502.468353           210.382874  \n",
       "3      501.905182           212.070969  \n",
       "4      502.564423           204.565842  \n",
       "...           ...                  ...  \n",
       "22813  378.059143             0.000000  \n",
       "22814  377.311035             0.000000  \n",
       "22815  378.968353             0.000000  \n",
       "22816  379.737701             0.000000  \n",
       "22817  380.318970             0.000000  \n",
       "\n",
       "[22818 rows x 18 columns]"
      ]
     },
     "execution_count": 283,
     "metadata": {},
     "output_type": "execute_result"
    }
   ],
   "source": [
    "df"
   ]
  },
  {
   "cell_type": "code",
   "execution_count": 286,
   "id": "a1411843-c38c-44bb-a2f6-9ff30d95ce4b",
   "metadata": {},
   "outputs": [],
   "source": [
    "df.to_pickle(f'/mnt/DATA/macrohet/{expt_ID}/results/preliminary_sc_measures/sc_dfs/{acq_ID}_<70_sc_df_GT_dev.pkl')"
   ]
  },
  {
   "cell_type": "markdown",
   "id": "c7347148-70a8-4a77-9e71-232e98308b6b",
   "metadata": {},
   "source": [
    "## Bulk integration of Mtb area measurements"
   ]
  },
  {
   "cell_type": "code",
   "execution_count": null,
   "id": "4109d10b-d07b-481a-907e-16d6860c5bd3",
   "metadata": {},
   "outputs": [],
   "source": [
    "for acq_ID in tqdm(assay_layout.iterrows(), total = len(assay_layout):\n",
    "    \n",
    "    row, column = acq_ID\n",
    "    tracks_fn = f'/mnt/DATA/macrohet/PS0000/labels/macrohet_seg_model/{acq_ID}.h5'\n",
    "    dict_fn = f'/mnt/DATA/macrohet/{expt_ID}/upstream_development/tracking/tracking_performance/v1>70/{row},{column}/{acq_ID}_track_assessment.json'\n",
    "    \n",
    "    with open(dict_fn) as json_data:\n",
    "        track_dict = json.load(json_data)\n",
    "    true_IDs = [int(ID) for ID in track_dict.keys() if track_dict[ID] == True]\n",
    "    with btrack.io.HDF5FileHandler(tracks_fn, 'r', obj_type='obj_type_1') as reader:\n",
    "        tracks = reader.tracks\n",
    "        masks = reader.segmentation\n",
    "    true_tracks = [t for t in tracks if t.ID in true_IDs]\n",
    "    \n",
    "    image_dir = os.path.join(base_dir, 'acquisition/Images')\n",
    "    images = tile.compile_mosaic(image_dir, \n",
    "                                 metadata, \n",
    "                                 row, column, \n",
    "                                 set_plane='max_proj',\n",
    "                                 set_channel=2,\n",
    "                                )\n",
    "    rfp_images = images[:,0,...].compute().compute()\n",
    "    \n",
    "    df = pd.read_pickle(f'/mnt/DATA/macrohet/{expt_ID}/results/preliminary_sc_measures/sc_dfs/{acq_ID}_sc_df_GT_dev.pkl')\n",
    "    df = df[df['Acquisition ID'] == acq_ID]    \n",
    "    already_done = set(list(df['Cell ID'].unique()))\n",
    "    true_IDs = set(true_IDs)\n",
    "    to_do_IDs = true_IDs.difference(already_done)\n",
    "    if len(to_do_IDs) == 0:\n",
    "        print(f'GT track lengths are the same for {acq_ID}')\n",
    "        continue\n",
    "    track_IDs = to_do_IDs\n",
    "    mtb_areas_dict = {}\n",
    "    dfs = []\n",
    "    for track_ID in tqdm(track_IDs, total = len(track_IDs)):\n",
    "        track = [t for t in tracks if t.ID == track_ID][0]\n",
    "        info = assay_layout.loc[acq_ID]\n",
    "        mtb_areas = tools.measure_mtb_area(track, masks, rfp_images)\n",
    "        # initial infection status \n",
    "        # init_infec_status = [True for t in track.t if any(mtb_areas[0:5])]\n",
    "        ### compile single track dictionary of info\n",
    "        d = {'Time (hours)':track['t'], \n",
    "             'Mtb Area µm2': mtb_areas,\n",
    "             'x':track['x'],\n",
    "             'y':track['y'],\n",
    "             # 'Infection status':track['Infected'],\n",
    "             # 'Initial infection status':track['Infected'][0], \n",
    "             # 'Final infection status':track['Infected'][-1], \n",
    "             'Mphi Area':track['area'], \n",
    "             'Mtb RFP':track['mean_intensity'][:, 1],\n",
    "             'Mtb RFP threshold':track['mean_intensity'][:, 2],\n",
    "             'Mphi GFP':track['mean_intensity'][:, 0],\n",
    "             'Eccentricity':np.sqrt(1-((track['minor_axis_length']**2)/(track['major_axis_length']**2))),\n",
    "             'MSD': [tools.euc_dist(track['x'][i-1], \n",
    "                                    track['y'][i-1], \n",
    "                                    track['x'][i], \n",
    "                                    track['y'][i]) \n",
    "                      if i != 0 else 0\n",
    "                      for i in range(0, len(track))],\n",
    "             'Strain':[info['Strain'] for i in range(len(track['t']))], \n",
    "             'Compound':[info['Compound'] for i in range(len(track['t']))], \n",
    "             'Concentration':[info['ConcentrationEC'] for i in range(len(track['t']))], \n",
    "             'Cell ID':[track.ID for i in range(len(track['t']))],\n",
    "             'Acquisition ID':[acq_ID for i in range(len(track['t']))], \n",
    "             'Unique ID': [f'{track.ID}.{acq_ID[0]}.{acq_ID[1]}.' for i in range(len(track['t']))]}\n",
    "    \n",
    "        mtb_areas_dict[f'{track.ID}.{acq_ID}'] = mtb_areas\n",
    "        ### append df to list of dfs\n",
    "        dfs.append(pd.DataFrame(d))\n",
    "    ### concat single track dfs into big df\n",
    "    df2 = pd.concat(dfs, ignore_index=True)\n",
    "    #rename rd1\n",
    "    df2['Strain/Compound'] = df2['Compound']  # Create a new column and copy values from 'Compound'\n",
    "    # Replace values in 'NewColumn' where 'Strain' is 'RD1' with 'RD1'\n",
    "    df2.loc[df2['Strain'] == 'RD1', 'Strain/Compound'] = 'RD1'\n",
    "    # save out \n",
    "    df2.to_pickle(f'/mnt/DATA/macrohet/{expt_ID}/results/preliminary_sc_measures/sc_dfs/{acq_ID}_sc_df_GT_dev_otherGT_trax.pkl')"
   ]
  }
 ],
 "metadata": {
  "kernelspec": {
   "display_name": "brassica",
   "language": "python",
   "name": "brassica"
  },
  "language_info": {
   "codemirror_mode": {
    "name": "ipython",
    "version": 3
   },
   "file_extension": ".py",
   "mimetype": "text/x-python",
   "name": "python",
   "nbconvert_exporter": "python",
   "pygments_lexer": "ipython3",
   "version": "3.9.17"
  }
 },
 "nbformat": 4,
 "nbformat_minor": 5
}
