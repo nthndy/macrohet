{
 "cells": [
  {
   "cell_type": "markdown",
   "id": "e7452ae6",
   "metadata": {},
   "source": [
    "# TAP\n",
    "\n",
    "This notebook is for inspecting timelapse microscopy data, with associated sinhgle-cell labels and tracks, showing the infection of human macrophages with Mycobacterium Tuberculosis (Mtb), acquired on an Opera Phenix confocal microscope. "
   ]
  },
  {
   "cell_type": "code",
   "execution_count": 1,
   "id": "83d383f0",
   "metadata": {},
   "outputs": [],
   "source": [
    "import napari\n",
    "from macrohet import dataio, tile, visualise\n",
    "import os, glob\n",
    "from skimage import io\n",
    "import tarrow\n",
    "import torch\n",
    "import numpy as np\n",
    "import tifffile\n",
    "import dask.array as da"
   ]
  },
  {
   "cell_type": "markdown",
   "id": "6858fcef-6ce3-4627-bfd4-f366c7512a51",
   "metadata": {},
   "source": [
    "# Load image"
   ]
  },
  {
   "cell_type": "code",
   "execution_count": 2,
   "id": "1533a790-ede3-418d-b60b-46fe89d27b05",
   "metadata": {},
   "outputs": [
    {
     "data": {
      "text/html": [
       "<table>\n",
       "    <tr>\n",
       "        <td>\n",
       "            <table style=\"border-collapse: collapse;\">\n",
       "                <thead>\n",
       "                    <tr>\n",
       "                        <td> </td>\n",
       "                        <th> Array </th>\n",
       "                        <th> Chunk </th>\n",
       "                    </tr>\n",
       "                </thead>\n",
       "                <tbody>\n",
       "                    \n",
       "                    <tr>\n",
       "                        <th> Bytes </th>\n",
       "                        <td> 153.71 GiB </td>\n",
       "                        <td> 418.61 MiB </td>\n",
       "                    </tr>\n",
       "                    \n",
       "                    <tr>\n",
       "                        <th> Shape </th>\n",
       "                        <td> (376, 2, 3, 6048, 6048) </td>\n",
       "                        <td> (1, 2, 3, 6048, 6048) </td>\n",
       "                    </tr>\n",
       "                    <tr>\n",
       "                        <th> Dask graph </th>\n",
       "                        <td colspan=\"2\"> 376 chunks in 2 graph layers </td>\n",
       "                    </tr>\n",
       "                    <tr>\n",
       "                        <th> Data type </th>\n",
       "                        <td colspan=\"2\"> uint16 numpy.ndarray </td>\n",
       "                    </tr>\n",
       "                </tbody>\n",
       "            </table>\n",
       "        </td>\n",
       "        <td>\n",
       "        <svg width=\"374\" height=\"184\" style=\"stroke:rgb(0,0,0);stroke-width:1\" >\n",
       "\n",
       "  <!-- Horizontal lines -->\n",
       "  <line x1=\"0\" y1=\"0\" x2=\"25\" y2=\"0\" style=\"stroke-width:2\" />\n",
       "  <line x1=\"0\" y1=\"1\" x2=\"25\" y2=\"1\" />\n",
       "  <line x1=\"0\" y1=\"2\" x2=\"25\" y2=\"2\" />\n",
       "  <line x1=\"0\" y1=\"3\" x2=\"25\" y2=\"3\" />\n",
       "  <line x1=\"0\" y1=\"4\" x2=\"25\" y2=\"4\" />\n",
       "  <line x1=\"0\" y1=\"5\" x2=\"25\" y2=\"5\" />\n",
       "  <line x1=\"0\" y1=\"6\" x2=\"25\" y2=\"6\" />\n",
       "  <line x1=\"0\" y1=\"7\" x2=\"25\" y2=\"7\" />\n",
       "  <line x1=\"0\" y1=\"8\" x2=\"25\" y2=\"8\" />\n",
       "  <line x1=\"0\" y1=\"10\" x2=\"25\" y2=\"10\" />\n",
       "  <line x1=\"0\" y1=\"11\" x2=\"25\" y2=\"11\" />\n",
       "  <line x1=\"0\" y1=\"12\" x2=\"25\" y2=\"12\" />\n",
       "  <line x1=\"0\" y1=\"13\" x2=\"25\" y2=\"13\" />\n",
       "  <line x1=\"0\" y1=\"14\" x2=\"25\" y2=\"14\" />\n",
       "  <line x1=\"0\" y1=\"15\" x2=\"25\" y2=\"15\" />\n",
       "  <line x1=\"0\" y1=\"16\" x2=\"25\" y2=\"16\" />\n",
       "  <line x1=\"0\" y1=\"17\" x2=\"25\" y2=\"17\" />\n",
       "  <line x1=\"0\" y1=\"18\" x2=\"25\" y2=\"18\" />\n",
       "  <line x1=\"0\" y1=\"20\" x2=\"25\" y2=\"20\" />\n",
       "  <line x1=\"0\" y1=\"21\" x2=\"25\" y2=\"21\" />\n",
       "  <line x1=\"0\" y1=\"22\" x2=\"25\" y2=\"22\" />\n",
       "  <line x1=\"0\" y1=\"23\" x2=\"25\" y2=\"23\" />\n",
       "  <line x1=\"0\" y1=\"24\" x2=\"25\" y2=\"24\" />\n",
       "  <line x1=\"0\" y1=\"25\" x2=\"25\" y2=\"25\" />\n",
       "  <line x1=\"0\" y1=\"26\" x2=\"25\" y2=\"26\" />\n",
       "  <line x1=\"0\" y1=\"27\" x2=\"25\" y2=\"27\" />\n",
       "  <line x1=\"0\" y1=\"29\" x2=\"25\" y2=\"29\" />\n",
       "  <line x1=\"0\" y1=\"30\" x2=\"25\" y2=\"30\" />\n",
       "  <line x1=\"0\" y1=\"31\" x2=\"25\" y2=\"31\" />\n",
       "  <line x1=\"0\" y1=\"32\" x2=\"25\" y2=\"32\" />\n",
       "  <line x1=\"0\" y1=\"33\" x2=\"25\" y2=\"33\" />\n",
       "  <line x1=\"0\" y1=\"34\" x2=\"25\" y2=\"34\" />\n",
       "  <line x1=\"0\" y1=\"35\" x2=\"25\" y2=\"35\" style=\"stroke-width:2\" />\n",
       "\n",
       "  <!-- Vertical lines -->\n",
       "  <line x1=\"0\" y1=\"0\" x2=\"0\" y2=\"35\" style=\"stroke-width:2\" />\n",
       "  <line x1=\"25\" y1=\"0\" x2=\"25\" y2=\"35\" style=\"stroke-width:2\" />\n",
       "\n",
       "  <!-- Colored Rectangle -->\n",
       "  <polygon points=\"0.0,0.0 25.412616514582485,0.0 25.412616514582485,35.827511659269376 0.0,35.827511659269376\" style=\"fill:#8B4903A0;stroke-width:0\"/>\n",
       "\n",
       "  <!-- Text -->\n",
       "  <text x=\"12.706308\" y=\"55.827512\" font-size=\"1.0rem\" font-weight=\"100\" text-anchor=\"middle\" >2</text>\n",
       "  <text x=\"45.412617\" y=\"17.913756\" font-size=\"1.0rem\" font-weight=\"100\" text-anchor=\"middle\" transform=\"rotate(-90,45.412617,17.913756)\">376</text>\n",
       "\n",
       "\n",
       "  <!-- Horizontal lines -->\n",
       "  <line x1=\"95\" y1=\"0\" x2=\"109\" y2=\"14\" style=\"stroke-width:2\" />\n",
       "  <line x1=\"95\" y1=\"120\" x2=\"109\" y2=\"134\" style=\"stroke-width:2\" />\n",
       "\n",
       "  <!-- Vertical lines -->\n",
       "  <line x1=\"95\" y1=\"0\" x2=\"95\" y2=\"120\" style=\"stroke-width:2\" />\n",
       "  <line x1=\"109\" y1=\"14\" x2=\"109\" y2=\"134\" style=\"stroke-width:2\" />\n",
       "\n",
       "  <!-- Colored Rectangle -->\n",
       "  <polygon points=\"95.0,0.0 109.9485979497544,14.948597949754403 109.9485979497544,134.9485979497544 95.0,120.0\" style=\"fill:#ECB172A0;stroke-width:0\"/>\n",
       "\n",
       "  <!-- Horizontal lines -->\n",
       "  <line x1=\"95\" y1=\"0\" x2=\"215\" y2=\"0\" style=\"stroke-width:2\" />\n",
       "  <line x1=\"109\" y1=\"14\" x2=\"229\" y2=\"14\" style=\"stroke-width:2\" />\n",
       "\n",
       "  <!-- Vertical lines -->\n",
       "  <line x1=\"95\" y1=\"0\" x2=\"109\" y2=\"14\" style=\"stroke-width:2\" />\n",
       "  <line x1=\"215\" y1=\"0\" x2=\"229\" y2=\"14\" style=\"stroke-width:2\" />\n",
       "\n",
       "  <!-- Colored Rectangle -->\n",
       "  <polygon points=\"95.0,0.0 215.0,0.0 229.9485979497544,14.948597949754403 109.9485979497544,14.948597949754403\" style=\"fill:#ECB172A0;stroke-width:0\"/>\n",
       "\n",
       "  <!-- Horizontal lines -->\n",
       "  <line x1=\"109\" y1=\"14\" x2=\"229\" y2=\"14\" style=\"stroke-width:2\" />\n",
       "  <line x1=\"109\" y1=\"134\" x2=\"229\" y2=\"134\" style=\"stroke-width:2\" />\n",
       "\n",
       "  <!-- Vertical lines -->\n",
       "  <line x1=\"109\" y1=\"14\" x2=\"109\" y2=\"134\" style=\"stroke-width:2\" />\n",
       "  <line x1=\"229\" y1=\"14\" x2=\"229\" y2=\"134\" style=\"stroke-width:2\" />\n",
       "\n",
       "  <!-- Colored Rectangle -->\n",
       "  <polygon points=\"109.9485979497544,14.948597949754403 229.9485979497544,14.948597949754403 229.9485979497544,134.9485979497544 109.9485979497544,134.9485979497544\" style=\"fill:#ECB172A0;stroke-width:0\"/>\n",
       "\n",
       "  <!-- Text -->\n",
       "  <text x=\"169.948598\" y=\"154.948598\" font-size=\"1.0rem\" font-weight=\"100\" text-anchor=\"middle\" >6048</text>\n",
       "  <text x=\"249.948598\" y=\"74.948598\" font-size=\"1.0rem\" font-weight=\"100\" text-anchor=\"middle\" transform=\"rotate(-90,249.948598,74.948598)\">6048</text>\n",
       "  <text x=\"92.474299\" y=\"147.474299\" font-size=\"1.0rem\" font-weight=\"100\" text-anchor=\"middle\" transform=\"rotate(45,92.474299,147.474299)\">3</text>\n",
       "</svg>\n",
       "        </td>\n",
       "    </tr>\n",
       "</table>"
      ],
      "text/plain": [
       "dask.array<from-zarr, shape=(376, 2, 3, 6048, 6048), dtype=uint16, chunksize=(1, 2, 3, 6048, 6048), chunktype=numpy.ndarray>"
      ]
     },
     "execution_count": 2,
     "metadata": {},
     "output_type": "execute_result"
    }
   ],
   "source": [
    "images = da.from_zarr('/mnt/DATA/macrohet/macrohet_images/ND0000/zarr/2.10_gfp_rfp.zarr')\n",
    "images"
   ]
  },
  {
   "cell_type": "markdown",
   "id": "6076e1fa-abab-4293-8d0a-2cd12ed66c7c",
   "metadata": {},
   "source": [
    "# Apply model"
   ]
  },
  {
   "cell_type": "code",
   "execution_count": 4,
   "id": "2240037a-8ea9-4f84-980c-6bf774321248",
   "metadata": {},
   "outputs": [
    {
     "name": "stderr",
     "output_type": "stream",
     "text": [
      "INFO:root:Loading model from /home/dayn/analysis/models/tarrow/ND0000/macro_backbone_unet\n"
     ]
    }
   ],
   "source": [
    "model = tarrow.models.TimeArrowNet.from_folder(model_folder='/home/dayn/analysis/models/tarrow/ND0000/macro_backbone_unet/')"
   ]
  },
  {
   "cell_type": "code",
   "execution_count": 6,
   "id": "8407b917-6d4f-4188-b925-a104d82da193",
   "metadata": {},
   "outputs": [],
   "source": [
    "input_image = da.sum(images, axis = 2)[0,0].compute().astype(np.float32)\n",
    "\n",
    "input_image = input_image.reshape((1, 1, 1, input_image.shape[0], input_image.shape[1]))\n",
    "\n",
    "input_tensor = torch.Tensor(input_image)"
   ]
  },
  {
   "cell_type": "code",
   "execution_count": 7,
   "id": "e27f93f7-ee25-46f6-a782-956db43aef8a",
   "metadata": {},
   "outputs": [
    {
     "data": {
      "text/plain": [
       "torch.Size([1, 1, 1, 6048, 6048])"
      ]
     },
     "execution_count": 7,
     "metadata": {},
     "output_type": "execute_result"
    }
   ],
   "source": [
    "input_tensor.shape"
   ]
  },
  {
   "cell_type": "code",
   "execution_count": 16,
   "id": "ffc6d515-592c-477c-9592-ef8d5cf165b6",
   "metadata": {},
   "outputs": [
    {
     "name": "stdout",
     "output_type": "stream",
     "text": [
      "Dense representations for image volume with shape (1, 1, 32, 6048, 6048)\n",
      "CPU times: user 2h 9min 20s, sys: 2min 15s, total: 2h 11min 36s\n",
      "Wall time: 7min 44s\n"
     ]
    }
   ],
   "source": [
    "%%time\n",
    "rep = model.embedding(input_tensor)\n",
    "print(f\"Dense representations for image volume with shape {tuple(rep.shape)}\")"
   ]
  },
  {
   "cell_type": "code",
   "execution_count": 17,
   "id": "d90a78e4-4abd-4f5f-83e8-f6ea86a50703",
   "metadata": {},
   "outputs": [],
   "source": [
    "np_rep = rep[0,0,...].detach().numpy()"
   ]
  },
  {
   "cell_type": "code",
   "execution_count": 18,
   "id": "f7371bc7-03d3-4c80-b764-3938f220ea7c",
   "metadata": {},
   "outputs": [
    {
     "data": {
      "text/plain": [
       "(32, 6048, 6048)"
      ]
     },
     "execution_count": 18,
     "metadata": {},
     "output_type": "execute_result"
    }
   ],
   "source": [
    "np_rep.shape"
   ]
  },
  {
   "cell_type": "code",
   "execution_count": 43,
   "id": "f817250e-984a-45cd-8694-2f62cec07c33",
   "metadata": {
    "scrolled": true
   },
   "outputs": [
    {
     "data": {
      "text/plain": [
       "[<Image layer 'Image' at 0x7fdf7256f850>,\n",
       " <Image layer 'Image [1]' at 0x7fdf72597850>,\n",
       " <Image layer 'Image [2]' at 0x7fdf722d20d0>,\n",
       " <Image layer 'Image [3]' at 0x7fdf7c580430>,\n",
       " <Image layer 'Image [4]' at 0x7fdf684d25b0>,\n",
       " <Image layer 'Image [5]' at 0x7fdf66239880>,\n",
       " <Image layer 'Image [6]' at 0x7fdf79c0fb50>,\n",
       " <Image layer 'Image [7]' at 0x7fdf74e9e610>,\n",
       " <Image layer 'Image [8]' at 0x7fdf7c8e5880>,\n",
       " <Image layer 'Image [9]' at 0x7fdf88752df0>,\n",
       " <Image layer 'Image [10]' at 0x7fdf8877fe20>,\n",
       " <Image layer 'Image [11]' at 0x7fdf88730d30>,\n",
       " <Image layer 'Image [12]' at 0x7fdf886dcd60>,\n",
       " <Image layer 'Image [13]' at 0x7fdf8870cc70>,\n",
       " <Image layer 'Image [14]' at 0x7fdf886b8ca0>,\n",
       " <Image layer 'Image [15]' at 0x7fdf88669bb0>,\n",
       " <Image layer 'Image [16]' at 0x7fdf88614be0>,\n",
       " <Image layer 'Image [17]' at 0x7fdf88646af0>,\n",
       " <Image layer 'Image [18]' at 0x7fdf885f0b20>,\n",
       " <Image layer 'Image [19]' at 0x7fdf63554a30>,\n",
       " <Image layer 'Image [20]' at 0x7fdf63500a60>,\n",
       " <Image layer 'Image [21]' at 0x7fdf63532970>,\n",
       " <Image layer 'Image [22]' at 0x7fdf634de9a0>,\n",
       " <Image layer 'Image [23]' at 0x7fdf634938b0>,\n",
       " <Image layer 'Image [24]' at 0x7fdf634438e0>,\n",
       " <Image layer 'Image [25]' at 0x7fdf63471f70>,\n",
       " <Image layer 'Image [26]' at 0x7fdf63428f70>,\n",
       " <Image layer 'Image [27]' at 0x7fdf633d5fa0>,\n",
       " <Image layer 'Image [28]' at 0x7fdf6338ceb0>,\n",
       " <Image layer 'Image [29]' at 0x7fdf633bcee0>,\n",
       " <Image layer 'Image [30]' at 0x7fdf63372df0>,\n",
       " <Image layer 'Image [31]' at 0x7fdf63320e20>]"
      ]
     },
     "execution_count": 43,
     "metadata": {},
     "output_type": "execute_result"
    }
   ],
   "source": [
    "viewer.add_image(np_rep, channel_axis=0, blending='additive')"
   ]
  },
  {
   "cell_type": "code",
   "execution_count": 19,
   "id": "09b92f0e-eb8e-4f20-aa01-2c7f8c1fe13d",
   "metadata": {},
   "outputs": [],
   "source": [
    "np_rep_sum = np.sum(np_rep, axis = 0)"
   ]
  },
  {
   "cell_type": "code",
   "execution_count": 20,
   "id": "7f3d6275-2fdf-4921-9e43-ae29e3d0c2d9",
   "metadata": {},
   "outputs": [
    {
     "data": {
      "text/plain": [
       "<Image layer 'np_rep_sum' at 0x7fb0eb5d6d00>"
      ]
     },
     "execution_count": 20,
     "metadata": {},
     "output_type": "execute_result"
    }
   ],
   "source": [
    "viewer = napari.Viewer()\n",
    "viewer.add_image(input_image, blending = 'additive')\n",
    "viewer.add_image(np_rep_sum, blending = 'additive')"
   ]
  },
  {
   "cell_type": "code",
   "execution_count": 21,
   "id": "e82a8449-84e6-405a-89e0-4b06aa2f791d",
   "metadata": {},
   "outputs": [
    {
     "data": {
      "text/plain": [
       "<Image layer 'np_rep' at 0x7fb0eaca4be0>"
      ]
     },
     "execution_count": 21,
     "metadata": {},
     "output_type": "execute_result"
    }
   ],
   "source": [
    "viewer.add_image(np_rep)"
   ]
  },
  {
   "cell_type": "markdown",
   "id": "a4f2d4b1-ec9d-4783-96e5-5b24708bd1f6",
   "metadata": {},
   "source": [
    "# Run over all frames?"
   ]
  },
  {
   "cell_type": "code",
   "execution_count": 22,
   "id": "2e21ef4d-8a70-4576-9309-775f72ac5ba5",
   "metadata": {},
   "outputs": [],
   "source": [
    "from tqdm.auto import tqdm"
   ]
  },
  {
   "cell_type": "code",
   "execution_count": 24,
   "id": "92808319-f8b1-4b7f-886c-47f46d7fb03d",
   "metadata": {},
   "outputs": [],
   "source": [
    "images = da.sum(images, axis = 2)[:,0]"
   ]
  },
  {
   "cell_type": "code",
   "execution_count": 25,
   "id": "9a2ab1e8-4efe-49b1-915a-a8b765639e0a",
   "metadata": {},
   "outputs": [
    {
     "data": {
      "text/html": [
       "<table>\n",
       "    <tr>\n",
       "        <td>\n",
       "            <table style=\"border-collapse: collapse;\">\n",
       "                <thead>\n",
       "                    <tr>\n",
       "                        <td> </td>\n",
       "                        <th> Array </th>\n",
       "                        <th> Chunk </th>\n",
       "                    </tr>\n",
       "                </thead>\n",
       "                <tbody>\n",
       "                    \n",
       "                    <tr>\n",
       "                        <th> Bytes </th>\n",
       "                        <td> 102.47 GiB </td>\n",
       "                        <td> 279.07 MiB </td>\n",
       "                    </tr>\n",
       "                    \n",
       "                    <tr>\n",
       "                        <th> Shape </th>\n",
       "                        <td> (376, 6048, 6048) </td>\n",
       "                        <td> (1, 6048, 6048) </td>\n",
       "                    </tr>\n",
       "                    <tr>\n",
       "                        <th> Dask graph </th>\n",
       "                        <td colspan=\"2\"> 376 chunks in 5 graph layers </td>\n",
       "                    </tr>\n",
       "                    <tr>\n",
       "                        <th> Data type </th>\n",
       "                        <td colspan=\"2\"> uint64 numpy.ndarray </td>\n",
       "                    </tr>\n",
       "                </tbody>\n",
       "            </table>\n",
       "        </td>\n",
       "        <td>\n",
       "        <svg width=\"201\" height=\"191\" style=\"stroke:rgb(0,0,0);stroke-width:1\" >\n",
       "\n",
       "  <!-- Horizontal lines -->\n",
       "  <line x1=\"10\" y1=\"0\" x2=\"31\" y2=\"21\" style=\"stroke-width:2\" />\n",
       "  <line x1=\"10\" y1=\"120\" x2=\"31\" y2=\"141\" style=\"stroke-width:2\" />\n",
       "\n",
       "  <!-- Vertical lines -->\n",
       "  <line x1=\"10\" y1=\"0\" x2=\"10\" y2=\"120\" style=\"stroke-width:2\" />\n",
       "  <line x1=\"11\" y1=\"1\" x2=\"11\" y2=\"121\" />\n",
       "  <line x1=\"12\" y1=\"2\" x2=\"12\" y2=\"122\" />\n",
       "  <line x1=\"13\" y1=\"3\" x2=\"13\" y2=\"123\" />\n",
       "  <line x1=\"14\" y1=\"4\" x2=\"14\" y2=\"124\" />\n",
       "  <line x1=\"15\" y1=\"5\" x2=\"15\" y2=\"125\" />\n",
       "  <line x1=\"16\" y1=\"6\" x2=\"16\" y2=\"126\" />\n",
       "  <line x1=\"17\" y1=\"7\" x2=\"17\" y2=\"127\" />\n",
       "  <line x1=\"18\" y1=\"8\" x2=\"18\" y2=\"128\" />\n",
       "  <line x1=\"19\" y1=\"9\" x2=\"19\" y2=\"129\" />\n",
       "  <line x1=\"21\" y1=\"11\" x2=\"21\" y2=\"131\" />\n",
       "  <line x1=\"22\" y1=\"12\" x2=\"22\" y2=\"132\" />\n",
       "  <line x1=\"23\" y1=\"13\" x2=\"23\" y2=\"133\" />\n",
       "  <line x1=\"24\" y1=\"14\" x2=\"24\" y2=\"134\" />\n",
       "  <line x1=\"25\" y1=\"15\" x2=\"25\" y2=\"135\" />\n",
       "  <line x1=\"26\" y1=\"16\" x2=\"26\" y2=\"136\" />\n",
       "  <line x1=\"27\" y1=\"17\" x2=\"27\" y2=\"137\" />\n",
       "  <line x1=\"28\" y1=\"18\" x2=\"28\" y2=\"138\" />\n",
       "  <line x1=\"29\" y1=\"19\" x2=\"29\" y2=\"139\" />\n",
       "  <line x1=\"31\" y1=\"21\" x2=\"31\" y2=\"141\" style=\"stroke-width:2\" />\n",
       "\n",
       "  <!-- Colored Rectangle -->\n",
       "  <polygon points=\"10.0,0.0 31.075006858393753,21.075006858393753 31.075006858393753,141.07500685839375 10.0,120.0\" style=\"fill:#8B4903A0;stroke-width:0\"/>\n",
       "\n",
       "  <!-- Horizontal lines -->\n",
       "  <line x1=\"10\" y1=\"0\" x2=\"130\" y2=\"0\" style=\"stroke-width:2\" />\n",
       "  <line x1=\"11\" y1=\"1\" x2=\"131\" y2=\"1\" />\n",
       "  <line x1=\"12\" y1=\"2\" x2=\"132\" y2=\"2\" />\n",
       "  <line x1=\"13\" y1=\"3\" x2=\"133\" y2=\"3\" />\n",
       "  <line x1=\"14\" y1=\"4\" x2=\"134\" y2=\"4\" />\n",
       "  <line x1=\"15\" y1=\"5\" x2=\"135\" y2=\"5\" />\n",
       "  <line x1=\"16\" y1=\"6\" x2=\"136\" y2=\"6\" />\n",
       "  <line x1=\"17\" y1=\"7\" x2=\"137\" y2=\"7\" />\n",
       "  <line x1=\"18\" y1=\"8\" x2=\"138\" y2=\"8\" />\n",
       "  <line x1=\"19\" y1=\"9\" x2=\"139\" y2=\"9\" />\n",
       "  <line x1=\"21\" y1=\"11\" x2=\"141\" y2=\"11\" />\n",
       "  <line x1=\"22\" y1=\"12\" x2=\"142\" y2=\"12\" />\n",
       "  <line x1=\"23\" y1=\"13\" x2=\"143\" y2=\"13\" />\n",
       "  <line x1=\"24\" y1=\"14\" x2=\"144\" y2=\"14\" />\n",
       "  <line x1=\"25\" y1=\"15\" x2=\"145\" y2=\"15\" />\n",
       "  <line x1=\"26\" y1=\"16\" x2=\"146\" y2=\"16\" />\n",
       "  <line x1=\"27\" y1=\"17\" x2=\"147\" y2=\"17\" />\n",
       "  <line x1=\"28\" y1=\"18\" x2=\"148\" y2=\"18\" />\n",
       "  <line x1=\"29\" y1=\"19\" x2=\"149\" y2=\"19\" />\n",
       "  <line x1=\"31\" y1=\"21\" x2=\"151\" y2=\"21\" style=\"stroke-width:2\" />\n",
       "\n",
       "  <!-- Vertical lines -->\n",
       "  <line x1=\"10\" y1=\"0\" x2=\"31\" y2=\"21\" style=\"stroke-width:2\" />\n",
       "  <line x1=\"130\" y1=\"0\" x2=\"151\" y2=\"21\" style=\"stroke-width:2\" />\n",
       "\n",
       "  <!-- Colored Rectangle -->\n",
       "  <polygon points=\"10.0,0.0 130.0,0.0 151.07500685839375,21.075006858393753 31.075006858393753,21.075006858393753\" style=\"fill:#8B4903A0;stroke-width:0\"/>\n",
       "\n",
       "  <!-- Horizontal lines -->\n",
       "  <line x1=\"31\" y1=\"21\" x2=\"151\" y2=\"21\" style=\"stroke-width:2\" />\n",
       "  <line x1=\"31\" y1=\"141\" x2=\"151\" y2=\"141\" style=\"stroke-width:2\" />\n",
       "\n",
       "  <!-- Vertical lines -->\n",
       "  <line x1=\"31\" y1=\"21\" x2=\"31\" y2=\"141\" style=\"stroke-width:2\" />\n",
       "  <line x1=\"151\" y1=\"21\" x2=\"151\" y2=\"141\" style=\"stroke-width:2\" />\n",
       "\n",
       "  <!-- Colored Rectangle -->\n",
       "  <polygon points=\"31.075006858393753,21.075006858393753 151.07500685839375,21.075006858393753 151.07500685839375,141.07500685839375 31.075006858393753,141.07500685839375\" style=\"fill:#ECB172A0;stroke-width:0\"/>\n",
       "\n",
       "  <!-- Text -->\n",
       "  <text x=\"91.075007\" y=\"161.075007\" font-size=\"1.0rem\" font-weight=\"100\" text-anchor=\"middle\" >6048</text>\n",
       "  <text x=\"171.075007\" y=\"81.075007\" font-size=\"1.0rem\" font-weight=\"100\" text-anchor=\"middle\" transform=\"rotate(-90,171.075007,81.075007)\">6048</text>\n",
       "  <text x=\"10.537503\" y=\"150.537503\" font-size=\"1.0rem\" font-weight=\"100\" text-anchor=\"middle\" transform=\"rotate(45,10.537503,150.537503)\">376</text>\n",
       "</svg>\n",
       "        </td>\n",
       "    </tr>\n",
       "</table>"
      ],
      "text/plain": [
       "dask.array<getitem, shape=(376, 6048, 6048), dtype=uint64, chunksize=(1, 6048, 6048), chunktype=numpy.ndarray>"
      ]
     },
     "execution_count": 25,
     "metadata": {},
     "output_type": "execute_result"
    }
   ],
   "source": [
    "images"
   ]
  },
  {
   "cell_type": "code",
   "execution_count": null,
   "id": "f0427214-de09-482f-99a2-1c3c15c84035",
   "metadata": {},
   "outputs": [
    {
     "data": {
      "application/vnd.jupyter.widget-view+json": {
       "model_id": "a0cc3fde69574585a470047eba45af87",
       "version_major": 2,
       "version_minor": 0
      },
      "text/plain": [
       "  0%|          | 0/376 [00:00<?, ?it/s]"
      ]
     },
     "metadata": {},
     "output_type": "display_data"
    }
   ],
   "source": [
    "import numpy as np\n",
    "import torch\n",
    "from tqdm.auto import tqdm\n",
    "\n",
    "# Define the step size (e.g., every tenth frame)\n",
    "step_size = 1\n",
    "num_frames = len(images)\n",
    "rep_sums = []\n",
    "channel = 0\n",
    "\n",
    "for t in tqdm(range(0, num_frames, step_size), total=num_frames // step_size):\n",
    "    input_image = images[t].compute().astype(np.int16)\n",
    "    input_tensor = torch.Tensor(input_image[None, None, None])\n",
    "\n",
    "    with torch.no_grad():\n",
    "        rep = model.embedding(input_tensor)\n",
    "    \n",
    "    np_rep = rep[0, 0, ...].cpu().numpy()\n",
    "    np_rep_sum = np.sum(np_rep, axis=0)\n",
    "    rep_sums.append(np_rep_sum)\n",
    "\n",
    "rep_sums = np.stack(rep_sums, axis=0)\n"
   ]
  },
  {
   "cell_type": "code",
   "execution_count": 16,
   "id": "63377a78-dc3e-4fb5-9b3a-da4b9b3d54de",
   "metadata": {},
   "outputs": [
    {
     "data": {
      "text/plain": [
       "<Image layer 'rep_sums' at 0x7f5669c91670>"
      ]
     },
     "execution_count": 16,
     "metadata": {},
     "output_type": "execute_result"
    }
   ],
   "source": [
    "viewer = napari.Viewer(title = 'tarrow over every frame')\n",
    "viewer.add_image(selected_frames_volume, blending = 'additive')\n",
    "viewer.add_image(rep_sums, blending = 'additive')"
   ]
  },
  {
   "cell_type": "code",
   "execution_count": 17,
   "id": "d535a628-ef50-4eb9-8ad2-26517909acf5",
   "metadata": {},
   "outputs": [],
   "source": [
    "np.save('/home/dayn/analysis/models/tarrow/reduced_batchsize/macro_backbone_unet/visuals/all_frames.npy', selected_frames)\n",
    "np.save('/home/dayn/analysis/models/tarrow/reduced_batchsize/macro_backbone_unet/visuals/all_frames_rep_sums.npy', rep_sums)"
   ]
  },
  {
   "cell_type": "code",
   "execution_count": 2,
   "id": "57bbf9c9-00d9-44af-8e7f-64f88ee37f70",
   "metadata": {},
   "outputs": [],
   "source": [
    "rep_sums = np.load('/home/dayn/analysis/models/tarrow/reduced_batchsize/macro_backbone_unet/visuals/all_frames_rep_sums.npy')"
   ]
  },
  {
   "cell_type": "code",
   "execution_count": 3,
   "id": "b66cac6a-c505-4294-bb0b-f6b33c1fc170",
   "metadata": {},
   "outputs": [
    {
     "data": {
      "text/plain": [
       "(75, 6048, 6048)"
      ]
     },
     "execution_count": 3,
     "metadata": {},
     "output_type": "execute_result"
    }
   ],
   "source": [
    "rep_sums.shape"
   ]
  },
  {
   "cell_type": "code",
   "execution_count": 4,
   "id": "88bb8237-c446-484e-8f00-ab9f26f50602",
   "metadata": {},
   "outputs": [
    {
     "data": {
      "text/plain": [
       "<Image layer 'rep_sums' at 0x7f07b269b5b0>"
      ]
     },
     "execution_count": 4,
     "metadata": {},
     "output_type": "execute_result"
    }
   ],
   "source": [
    "viewer = napari.Viewer()\n",
    "viewer.add_image(rep_sums)"
   ]
  },
  {
   "cell_type": "markdown",
   "id": "fddffe42-e9f4-4441-abe2-3b5cd87f1be5",
   "metadata": {},
   "source": [
    "# MDCK example"
   ]
  },
  {
   "cell_type": "code",
   "execution_count": 7,
   "id": "5aa8dee8-4af6-4dcb-8731-82fef48f8a3f",
   "metadata": {},
   "outputs": [],
   "source": [
    "mdck = images = io.imread('/home/dayn/analysis/tarrow/scripts/data/mdck.tif')"
   ]
  },
  {
   "cell_type": "code",
   "execution_count": 6,
   "id": "7efd470f-0648-4c81-927b-868358f7f124",
   "metadata": {},
   "outputs": [
    {
     "name": "stderr",
     "output_type": "stream",
     "text": [
      "INFO:root:Loading model from /home/dayn/analysis/tarrow/scripts/data/runs/10-20-16-56-38_None_backbone_unet\n"
     ]
    }
   ],
   "source": [
    "model = tarrow.models.TimeArrowNet.from_folder(model_folder='/home/dayn/analysis/tarrow/scripts/data/runs/10-20-16-56-38_None_backbone_unet/')"
   ]
  },
  {
   "cell_type": "code",
   "execution_count": null,
   "id": "16fb1838-4560-4ed8-94fc-f3befbfa4b50",
   "metadata": {},
   "outputs": [
    {
     "data": {
      "application/vnd.jupyter.widget-view+json": {
       "model_id": "a61019ba6b5243bbb84178bce2218553",
       "version_major": 2,
       "version_minor": 0
      },
      "text/plain": [
       "  0%|          | 0/1194 [00:00<?, ?it/s]"
      ]
     },
     "metadata": {},
     "output_type": "display_data"
    }
   ],
   "source": [
    "import numpy as np\n",
    "import torch\n",
    "from tqdm.auto import tqdm\n",
    "\n",
    "# Define the step size (e.g., every tenth frame)\n",
    "step_size = 1\n",
    "num_frames = len(images)\n",
    "rep_sums = []\n",
    "channel = 0\n",
    "\n",
    "for t in tqdm(range(0, num_frames, step_size), total=num_frames // step_size):\n",
    "    input_image = images[t]#.compute().astype(np.int16)\n",
    "    input_tensor = torch.Tensor(input_image[None, None, None])\n",
    "\n",
    "    with torch.no_grad():\n",
    "        rep = model.embedding(input_tensor)\n",
    "    \n",
    "    np_rep = rep[0, 0, ...].cpu().numpy()\n",
    "    np_rep_sum = np.sum(np_rep, axis=0)\n",
    "    rep_sums.append(np_rep_sum)\n",
    "\n",
    "rep_sums = np.stack(rep_sums, axis=0)\n"
   ]
  },
  {
   "cell_type": "code",
   "execution_count": null,
   "id": "3816ab41-75b6-43c8-aece-3ef67c9dfedb",
   "metadata": {},
   "outputs": [],
   "source": [
    "np.save('/home/dayn/analysis/tarrow/scripts/data/mdck_reps.npy')"
   ]
  },
  {
   "cell_type": "code",
   "execution_count": null,
   "id": "ddcf3c92-6b49-45d2-a577-1574a636b528",
   "metadata": {},
   "outputs": [],
   "source": [
    "print()"
   ]
  }
 ],
 "metadata": {
  "kernelspec": {
   "display_name": "tap",
   "language": "python",
   "name": "tap"
  },
  "language_info": {
   "codemirror_mode": {
    "name": "ipython",
    "version": 3
   },
   "file_extension": ".py",
   "mimetype": "text/x-python",
   "name": "python",
   "nbconvert_exporter": "python",
   "pygments_lexer": "ipython3",
   "version": "3.8.18"
  }
 },
 "nbformat": 4,
 "nbformat_minor": 5
}
