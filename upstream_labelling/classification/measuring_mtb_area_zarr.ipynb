{
 "cells": [
  {
   "cell_type": "code",
   "execution_count": 18,
   "id": "80ab0be8-cf2a-49a3-a53b-c6a03dca0501",
   "metadata": {},
   "outputs": [],
   "source": [
    "from tqdm.auto import tqdm\n",
    "import pandas as pd\n",
    "from macrohet import tile, dataio, tools\n",
    "import numpy as np\n",
    "import pickle\n",
    "import zarr\n",
    "import btrack\n",
    "import os\n",
    "import json"
   ]
  },
  {
   "cell_type": "markdown",
   "id": "83c7cb5e-413e-48e2-acd0-29804bc66b0d",
   "metadata": {},
   "source": [
    "### Extract metadata"
   ]
  },
  {
   "cell_type": "code",
   "execution_count": 2,
   "id": "e9af5f71-7dee-4627-98ab-55259e0a0ca0",
   "metadata": {},
   "outputs": [
    {
     "name": "stdout",
     "output_type": "stream",
     "text": [
      "Reading metadata XML file...\n"
     ]
    },
    {
     "data": {
      "application/vnd.jupyter.widget-view+json": {
       "model_id": "1a9beb923a49470bbfcd48642e3f9363",
       "version_major": 2,
       "version_minor": 0
      },
      "text/plain": [
       "Extracting HarmonyV5 metadata:   0%|          | 0/113400 [00:00<?, ?it/s]"
      ]
     },
     "metadata": {},
     "output_type": "display_data"
    },
    {
     "name": "stdout",
     "output_type": "stream",
     "text": [
      "Extracting metadata complete!\n"
     ]
    }
   ],
   "source": [
    "expt_ID = 'PS0000'\n",
    "base_dir = f'/mnt/DATA/macrohet/{expt_ID}/'\n",
    "metadata_fn = os.path.join(base_dir, 'acquisition/Images/Index.idx.xml')\n",
    "metadata = dataio.read_harmony_metadata(metadata_fn)"
   ]
  },
  {
   "cell_type": "code",
   "execution_count": 3,
   "id": "8aa8e325-95ac-43fe-b52c-eb5caa05670b",
   "metadata": {},
   "outputs": [
    {
     "name": "stdout",
     "output_type": "stream",
     "text": [
      "Reading metadata XML file...\n",
      "Extracting metadata complete!\n"
     ]
    }
   ],
   "source": [
    "metadata_path = os.path.join(base_dir, 'acquisition/Assaylayout/20210602_Live_cell_IPSDMGFP_ATB.xml')\n",
    "assay_layout = dataio.read_harmony_metadata(metadata_path, assay_layout=True,)# mask_exist=True,  image_dir = image_dir, image_metadata = metadata)"
   ]
  },
  {
   "cell_type": "markdown",
   "id": "9ffcef40-acc8-4a50-8ce0-dd3ff11a385b",
   "metadata": {},
   "source": [
    "### Choose position and extract tracks and true IDs"
   ]
  },
  {
   "cell_type": "code",
   "execution_count": 4,
   "id": "22e092f0-5037-4605-9cc7-aa7bd36c0d60",
   "metadata": {},
   "outputs": [],
   "source": [
    "acq_ID = row, column = (3, 5)\n",
    "tracks_fn = f'/mnt/DATA/macrohet/PS0000/labels/macrohet_seg_model/{acq_ID}.h5'\n",
    "dict_fn = f'/mnt/DATA/macrohet/{expt_ID}/upstream_development/tracking/tracking_performance/v1>70/{row},{column}/{acq_ID}_track_assessment.json'"
   ]
  },
  {
   "cell_type": "code",
   "execution_count": 5,
   "id": "239f5a7d-a6c7-4adc-95bb-164555510f9b",
   "metadata": {},
   "outputs": [],
   "source": [
    "with open(dict_fn) as json_data:\n",
    "    track_dict = json.load(json_data)\n",
    "true_IDs = [int(ID) for ID in track_dict.keys() if track_dict[ID] == True]"
   ]
  },
  {
   "cell_type": "code",
   "execution_count": 6,
   "id": "e56e5dfc-b284-4aab-9950-5da85a43ef09",
   "metadata": {},
   "outputs": [
    {
     "name": "stderr",
     "output_type": "stream",
     "text": [
      "[INFO][2023/12/19 02:39:20 PM] Opening HDF file: /mnt/DATA/macrohet/PS0000/labels/macrohet_seg_model/(3, 5).h5...\n",
      "INFO:btrack.io.hdf:Opening HDF file: /mnt/DATA/macrohet/PS0000/labels/macrohet_seg_model/(3, 5).h5...\n",
      "[INFO][2023/12/19 02:39:20 PM] Loading tracks/obj_type_1\n",
      "INFO:btrack.io.hdf:Loading tracks/obj_type_1\n",
      "[INFO][2023/12/19 02:39:20 PM] Loading LBEP/obj_type_1\n",
      "INFO:btrack.io.hdf:Loading LBEP/obj_type_1\n",
      "[INFO][2023/12/19 02:39:20 PM] Loading objects/obj_type_1 (41424, 5) (41424 filtered: None)\n",
      "INFO:btrack.io.hdf:Loading objects/obj_type_1 (41424, 5) (41424 filtered: None)\n",
      "[INFO][2023/12/19 02:39:35 PM] Loading segmentation (75, 6048, 6048)\n",
      "INFO:btrack.io.hdf:Loading segmentation (75, 6048, 6048)\n",
      "[INFO][2023/12/19 02:39:35 PM] Closing HDF file: /mnt/DATA/macrohet/PS0000/labels/macrohet_seg_model/(3, 5).h5\n",
      "INFO:btrack.io.hdf:Closing HDF file: /mnt/DATA/macrohet/PS0000/labels/macrohet_seg_model/(3, 5).h5\n"
     ]
    }
   ],
   "source": [
    "with btrack.io.HDF5FileHandler(tracks_fn, 'r', obj_type='obj_type_1') as reader:\n",
    "    tracks = reader.tracks\n",
    "    masks = reader.segmentation\n",
    "true_tracks = [t for t in tracks if t.ID in true_IDs]"
   ]
  },
  {
   "cell_type": "markdown",
   "id": "3ef5683e-e86a-4016-8717-d094b9f9cc86",
   "metadata": {},
   "source": [
    "### Load images and sc_df"
   ]
  },
  {
   "cell_type": "code",
   "execution_count": 8,
   "id": "97e07312-9eef-43cd-b5e5-a1f8eb1d031f",
   "metadata": {},
   "outputs": [],
   "source": [
    "import dask.array as da"
   ]
  },
  {
   "cell_type": "code",
   "execution_count": 15,
   "id": "32499601-71d8-4b8f-9a97-7b983cc296ab",
   "metadata": {},
   "outputs": [
    {
     "name": "stdout",
     "output_type": "stream",
     "text": [
      "CPU times: user 5.99 ms, sys: 0 ns, total: 5.99 ms\n",
      "Wall time: 31.1 ms\n"
     ]
    },
    {
     "data": {
      "text/html": [
       "<table>\n",
       "    <tr>\n",
       "        <td>\n",
       "            <table style=\"border-collapse: collapse;\">\n",
       "                <thead>\n",
       "                    <tr>\n",
       "                        <td> </td>\n",
       "                        <th> Array </th>\n",
       "                        <th> Chunk </th>\n",
       "                    </tr>\n",
       "                </thead>\n",
       "                <tbody>\n",
       "                    \n",
       "                    <tr>\n",
       "                        <th> Bytes </th>\n",
       "                        <td> 30.66 GiB </td>\n",
       "                        <td> 5.45 MiB </td>\n",
       "                    </tr>\n",
       "                    \n",
       "                    <tr>\n",
       "                        <th> Shape </th>\n",
       "                        <td> (75, 2, 3, 6048, 6048) </td>\n",
       "                        <td> (5, 1, 1, 756, 756) </td>\n",
       "                    </tr>\n",
       "                    <tr>\n",
       "                        <th> Dask graph </th>\n",
       "                        <td colspan=\"2\"> 5760 chunks in 2 graph layers </td>\n",
       "                    </tr>\n",
       "                    <tr>\n",
       "                        <th> Data type </th>\n",
       "                        <td colspan=\"2\"> uint16 numpy.ndarray </td>\n",
       "                    </tr>\n",
       "                </tbody>\n",
       "            </table>\n",
       "        </td>\n",
       "        <td>\n",
       "        <svg width=\"374\" height=\"184\" style=\"stroke:rgb(0,0,0);stroke-width:1\" >\n",
       "\n",
       "  <!-- Horizontal lines -->\n",
       "  <line x1=\"0\" y1=\"0\" x2=\"25\" y2=\"0\" style=\"stroke-width:2\" />\n",
       "  <line x1=\"0\" y1=\"1\" x2=\"25\" y2=\"1\" />\n",
       "  <line x1=\"0\" y1=\"3\" x2=\"25\" y2=\"3\" />\n",
       "  <line x1=\"0\" y1=\"5\" x2=\"25\" y2=\"5\" />\n",
       "  <line x1=\"0\" y1=\"7\" x2=\"25\" y2=\"7\" />\n",
       "  <line x1=\"0\" y1=\"8\" x2=\"25\" y2=\"8\" />\n",
       "  <line x1=\"0\" y1=\"10\" x2=\"25\" y2=\"10\" />\n",
       "  <line x1=\"0\" y1=\"12\" x2=\"25\" y2=\"12\" />\n",
       "  <line x1=\"0\" y1=\"14\" x2=\"25\" y2=\"14\" />\n",
       "  <line x1=\"0\" y1=\"15\" x2=\"25\" y2=\"15\" />\n",
       "  <line x1=\"0\" y1=\"17\" x2=\"25\" y2=\"17\" />\n",
       "  <line x1=\"0\" y1=\"19\" x2=\"25\" y2=\"19\" />\n",
       "  <line x1=\"0\" y1=\"21\" x2=\"25\" y2=\"21\" />\n",
       "  <line x1=\"0\" y1=\"22\" x2=\"25\" y2=\"22\" />\n",
       "  <line x1=\"0\" y1=\"24\" x2=\"25\" y2=\"24\" />\n",
       "  <line x1=\"0\" y1=\"26\" x2=\"25\" y2=\"26\" style=\"stroke-width:2\" />\n",
       "\n",
       "  <!-- Vertical lines -->\n",
       "  <line x1=\"0\" y1=\"0\" x2=\"0\" y2=\"26\" style=\"stroke-width:2\" />\n",
       "  <line x1=\"12\" y1=\"0\" x2=\"12\" y2=\"26\" />\n",
       "  <line x1=\"25\" y1=\"0\" x2=\"25\" y2=\"26\" style=\"stroke-width:2\" />\n",
       "\n",
       "  <!-- Colored Rectangle -->\n",
       "  <polygon points=\"0.0,0.0 25.412616514582485,0.0 25.412616514582485,26.472362419580787 0.0,26.472362419580787\" style=\"fill:#ECB172A0;stroke-width:0\"/>\n",
       "\n",
       "  <!-- Text -->\n",
       "  <text x=\"12.706308\" y=\"46.472362\" font-size=\"1.0rem\" font-weight=\"100\" text-anchor=\"middle\" >2</text>\n",
       "  <text x=\"45.412617\" y=\"13.236181\" font-size=\"1.0rem\" font-weight=\"100\" text-anchor=\"middle\" transform=\"rotate(0,45.412617,13.236181)\">75</text>\n",
       "\n",
       "\n",
       "  <!-- Horizontal lines -->\n",
       "  <line x1=\"95\" y1=\"0\" x2=\"109\" y2=\"14\" style=\"stroke-width:2\" />\n",
       "  <line x1=\"95\" y1=\"15\" x2=\"109\" y2=\"29\" />\n",
       "  <line x1=\"95\" y1=\"30\" x2=\"109\" y2=\"44\" />\n",
       "  <line x1=\"95\" y1=\"45\" x2=\"109\" y2=\"59\" />\n",
       "  <line x1=\"95\" y1=\"60\" x2=\"109\" y2=\"74\" />\n",
       "  <line x1=\"95\" y1=\"75\" x2=\"109\" y2=\"89\" />\n",
       "  <line x1=\"95\" y1=\"90\" x2=\"109\" y2=\"104\" />\n",
       "  <line x1=\"95\" y1=\"105\" x2=\"109\" y2=\"119\" />\n",
       "  <line x1=\"95\" y1=\"120\" x2=\"109\" y2=\"134\" style=\"stroke-width:2\" />\n",
       "\n",
       "  <!-- Vertical lines -->\n",
       "  <line x1=\"95\" y1=\"0\" x2=\"95\" y2=\"120\" style=\"stroke-width:2\" />\n",
       "  <line x1=\"99\" y1=\"4\" x2=\"99\" y2=\"124\" />\n",
       "  <line x1=\"104\" y1=\"9\" x2=\"104\" y2=\"129\" />\n",
       "  <line x1=\"109\" y1=\"14\" x2=\"109\" y2=\"134\" style=\"stroke-width:2\" />\n",
       "\n",
       "  <!-- Colored Rectangle -->\n",
       "  <polygon points=\"95.0,0.0 109.9485979497544,14.948597949754403 109.9485979497544,134.9485979497544 95.0,120.0\" style=\"fill:#ECB172A0;stroke-width:0\"/>\n",
       "\n",
       "  <!-- Horizontal lines -->\n",
       "  <line x1=\"95\" y1=\"0\" x2=\"215\" y2=\"0\" style=\"stroke-width:2\" />\n",
       "  <line x1=\"99\" y1=\"4\" x2=\"219\" y2=\"4\" />\n",
       "  <line x1=\"104\" y1=\"9\" x2=\"224\" y2=\"9\" />\n",
       "  <line x1=\"109\" y1=\"14\" x2=\"229\" y2=\"14\" style=\"stroke-width:2\" />\n",
       "\n",
       "  <!-- Vertical lines -->\n",
       "  <line x1=\"95\" y1=\"0\" x2=\"109\" y2=\"14\" style=\"stroke-width:2\" />\n",
       "  <line x1=\"110\" y1=\"0\" x2=\"124\" y2=\"14\" />\n",
       "  <line x1=\"125\" y1=\"0\" x2=\"139\" y2=\"14\" />\n",
       "  <line x1=\"140\" y1=\"0\" x2=\"154\" y2=\"14\" />\n",
       "  <line x1=\"155\" y1=\"0\" x2=\"169\" y2=\"14\" />\n",
       "  <line x1=\"170\" y1=\"0\" x2=\"184\" y2=\"14\" />\n",
       "  <line x1=\"185\" y1=\"0\" x2=\"199\" y2=\"14\" />\n",
       "  <line x1=\"200\" y1=\"0\" x2=\"214\" y2=\"14\" />\n",
       "  <line x1=\"215\" y1=\"0\" x2=\"229\" y2=\"14\" style=\"stroke-width:2\" />\n",
       "\n",
       "  <!-- Colored Rectangle -->\n",
       "  <polygon points=\"95.0,0.0 215.0,0.0 229.9485979497544,14.948597949754403 109.9485979497544,14.948597949754403\" style=\"fill:#ECB172A0;stroke-width:0\"/>\n",
       "\n",
       "  <!-- Horizontal lines -->\n",
       "  <line x1=\"109\" y1=\"14\" x2=\"229\" y2=\"14\" style=\"stroke-width:2\" />\n",
       "  <line x1=\"109\" y1=\"29\" x2=\"229\" y2=\"29\" />\n",
       "  <line x1=\"109\" y1=\"44\" x2=\"229\" y2=\"44\" />\n",
       "  <line x1=\"109\" y1=\"59\" x2=\"229\" y2=\"59\" />\n",
       "  <line x1=\"109\" y1=\"74\" x2=\"229\" y2=\"74\" />\n",
       "  <line x1=\"109\" y1=\"89\" x2=\"229\" y2=\"89\" />\n",
       "  <line x1=\"109\" y1=\"104\" x2=\"229\" y2=\"104\" />\n",
       "  <line x1=\"109\" y1=\"119\" x2=\"229\" y2=\"119\" />\n",
       "  <line x1=\"109\" y1=\"134\" x2=\"229\" y2=\"134\" style=\"stroke-width:2\" />\n",
       "\n",
       "  <!-- Vertical lines -->\n",
       "  <line x1=\"109\" y1=\"14\" x2=\"109\" y2=\"134\" style=\"stroke-width:2\" />\n",
       "  <line x1=\"124\" y1=\"14\" x2=\"124\" y2=\"134\" />\n",
       "  <line x1=\"139\" y1=\"14\" x2=\"139\" y2=\"134\" />\n",
       "  <line x1=\"154\" y1=\"14\" x2=\"154\" y2=\"134\" />\n",
       "  <line x1=\"169\" y1=\"14\" x2=\"169\" y2=\"134\" />\n",
       "  <line x1=\"184\" y1=\"14\" x2=\"184\" y2=\"134\" />\n",
       "  <line x1=\"199\" y1=\"14\" x2=\"199\" y2=\"134\" />\n",
       "  <line x1=\"214\" y1=\"14\" x2=\"214\" y2=\"134\" />\n",
       "  <line x1=\"229\" y1=\"14\" x2=\"229\" y2=\"134\" style=\"stroke-width:2\" />\n",
       "\n",
       "  <!-- Colored Rectangle -->\n",
       "  <polygon points=\"109.9485979497544,14.948597949754403 229.9485979497544,14.948597949754403 229.9485979497544,134.9485979497544 109.9485979497544,134.9485979497544\" style=\"fill:#ECB172A0;stroke-width:0\"/>\n",
       "\n",
       "  <!-- Text -->\n",
       "  <text x=\"169.948598\" y=\"154.948598\" font-size=\"1.0rem\" font-weight=\"100\" text-anchor=\"middle\" >6048</text>\n",
       "  <text x=\"249.948598\" y=\"74.948598\" font-size=\"1.0rem\" font-weight=\"100\" text-anchor=\"middle\" transform=\"rotate(-90,249.948598,74.948598)\">6048</text>\n",
       "  <text x=\"92.474299\" y=\"147.474299\" font-size=\"1.0rem\" font-weight=\"100\" text-anchor=\"middle\" transform=\"rotate(45,92.474299,147.474299)\">3</text>\n",
       "</svg>\n",
       "        </td>\n",
       "    </tr>\n",
       "</table>"
      ],
      "text/plain": [
       "dask.array<from-zarr, shape=(75, 2, 3, 6048, 6048), dtype=uint16, chunksize=(5, 1, 1, 756, 756), chunktype=numpy.ndarray>"
      ]
     },
     "execution_count": 15,
     "metadata": {},
     "output_type": "execute_result"
    }
   ],
   "source": [
    "%%time\n",
    "image_fn = f'/run/user/30046150/gvfs/smb-share:server=data2.thecrick.org,share=lab-gutierrezm/home/users/dayn/macrohet_nemo/PS0000/acquisition/zarr/{row, column}.zarr'\n",
    "images = da.from_zarr(image_fn, component='/image_data')\n",
    "# images = images[:,0,...].compute().compute()\n",
    "\n",
    "images"
   ]
  },
  {
   "cell_type": "code",
   "execution_count": 17,
   "id": "588f4ddd-cad3-49de-bf88-b27c57c47671",
   "metadata": {},
   "outputs": [
    {
     "name": "stdout",
     "output_type": "stream",
     "text": [
      "CPU times: user 28.6 s, sys: 1min 8s, total: 1min 36s\n",
      "Wall time: 9min 26s\n"
     ]
    }
   ],
   "source": [
    "%%time\n",
    "images = images[:,0,...].compute()"
   ]
  },
  {
   "cell_type": "code",
   "execution_count": 52,
   "id": "4758a252-c3fa-4ca2-9432-4a63f9f2e08d",
   "metadata": {},
   "outputs": [],
   "source": [
    "rfp_images = np.max(images, axis = 1)"
   ]
  },
  {
   "cell_type": "code",
   "execution_count": 53,
   "id": "76934ad7-0f60-4abd-8e1d-a0efd5c63615",
   "metadata": {},
   "outputs": [
    {
     "data": {
      "text/plain": [
       "(75, 6048, 6048)"
      ]
     },
     "execution_count": 53,
     "metadata": {},
     "output_type": "execute_result"
    }
   ],
   "source": [
    "rfp_images.shape"
   ]
  },
  {
   "cell_type": "code",
   "execution_count": 24,
   "id": "66222080-70dc-46c3-bac8-e72a5ab23ad3",
   "metadata": {},
   "outputs": [],
   "source": [
    "df = pd.read_pickle(f'/mnt/DATA/macrohet/{expt_ID}/results/preliminary_sc_measures/sc_dfs/{acq_ID}_sc_df_GT_dev.pkl')"
   ]
  },
  {
   "cell_type": "code",
   "execution_count": 26,
   "id": "38840382-9000-4915-bdc7-5abc77933419",
   "metadata": {},
   "outputs": [
    {
     "data": {
      "text/plain": [
       "(170, 384)"
      ]
     },
     "execution_count": 26,
     "metadata": {},
     "output_type": "execute_result"
    }
   ],
   "source": [
    "len(df['Cell ID'].unique()), len(true_IDs)"
   ]
  },
  {
   "cell_type": "code",
   "execution_count": 55,
   "id": "9bd4b78d-8ecb-4578-b023-f36e7a66a3be",
   "metadata": {},
   "outputs": [],
   "source": [
    "already_done = set(list(df['Cell ID'].unique()))\n",
    "true_IDs = set(true_IDs)\n",
    "to_do_IDs = true_IDs.difference(already_done)"
   ]
  },
  {
   "cell_type": "code",
   "execution_count": 57,
   "id": "36697537-67dc-4ee1-b2a2-f7fef7de2b46",
   "metadata": {
    "scrolled": true
   },
   "outputs": [
    {
     "data": {
      "application/vnd.jupyter.widget-view+json": {
       "model_id": "f17c2b88b4414889b6ddbf09252e469a",
       "version_major": 2,
       "version_minor": 0
      },
      "text/plain": [
       "  0%|          | 0/214 [00:00<?, ?it/s]"
      ]
     },
     "metadata": {},
     "output_type": "display_data"
    },
    {
     "data": {
      "application/vnd.jupyter.widget-view+json": {
       "model_id": "fd30ff500fbd47e8a3daee7c4ec7bf08",
       "version_major": 2,
       "version_minor": 0
      },
      "text/plain": [
       "Calculating mtb area for every frame in track: 1536:   0%|          | 0/12 [00:00<?, ?it/s]"
      ]
     },
     "metadata": {},
     "output_type": "display_data"
    },
    {
     "data": {
      "application/vnd.jupyter.widget-view+json": {
       "model_id": "10b2580b139249b4868ea023112ed14c",
       "version_major": 2,
       "version_minor": 0
      },
      "text/plain": [
       "Calculating mtb area for every frame in track: 2563:   0%|          | 0/39 [00:00<?, ?it/s]"
      ]
     },
     "metadata": {},
     "output_type": "display_data"
    },
    {
     "data": {
      "application/vnd.jupyter.widget-view+json": {
       "model_id": "5526f66f5ab644ec83a5a7b6aff669bf",
       "version_major": 2,
       "version_minor": 0
      },
      "text/plain": [
       "Calculating mtb area for every frame in track: 1539:   0%|          | 0/30 [00:00<?, ?it/s]"
      ]
     },
     "metadata": {},
     "output_type": "display_data"
    },
    {
     "data": {
      "application/vnd.jupyter.widget-view+json": {
       "model_id": "166333e501d546e6b91a5fec24b90a3f",
       "version_major": 2,
       "version_minor": 0
      },
      "text/plain": [
       "Calculating mtb area for every frame in track: 524:   0%|          | 0/69 [00:00<?, ?it/s]"
      ]
     },
     "metadata": {},
     "output_type": "display_data"
    },
    {
     "data": {
      "application/vnd.jupyter.widget-view+json": {
       "model_id": "f8a89bc8a64f428e86298fd0d679e69c",
       "version_major": 2,
       "version_minor": 0
      },
      "text/plain": [
       "Calculating mtb area for every frame in track: 2576:   0%|          | 0/29 [00:00<?, ?it/s]"
      ]
     },
     "metadata": {},
     "output_type": "display_data"
    },
    {
     "data": {
      "application/vnd.jupyter.widget-view+json": {
       "model_id": "378eb9e16d674e67b62dfdc02585fbc7",
       "version_major": 2,
       "version_minor": 0
      },
      "text/plain": [
       "Calculating mtb area for every frame in track: 535:   0%|          | 0/23 [00:00<?, ?it/s]"
      ]
     },
     "metadata": {},
     "output_type": "display_data"
    },
    {
     "data": {
      "application/vnd.jupyter.widget-view+json": {
       "model_id": "1120598bd592423bb66628dd703ed693",
       "version_major": 2,
       "version_minor": 0
      },
      "text/plain": [
       "Calculating mtb area for every frame in track: 2072:   0%|          | 0/50 [00:00<?, ?it/s]"
      ]
     },
     "metadata": {},
     "output_type": "display_data"
    },
    {
     "data": {
      "application/vnd.jupyter.widget-view+json": {
       "model_id": "086822b087e74e6e8935011bfd1b69d1",
       "version_major": 2,
       "version_minor": 0
      },
      "text/plain": [
       "Calculating mtb area for every frame in track: 1559:   0%|          | 0/61 [00:00<?, ?it/s]"
      ]
     },
     "metadata": {},
     "output_type": "display_data"
    },
    {
     "data": {
      "application/vnd.jupyter.widget-view+json": {
       "model_id": "c397b3356bff4711a454888f6b09b476",
       "version_major": 2,
       "version_minor": 0
      },
      "text/plain": [
       "Calculating mtb area for every frame in track: 26:   0%|          | 0/50 [00:00<?, ?it/s]"
      ]
     },
     "metadata": {},
     "output_type": "display_data"
    },
    {
     "data": {
      "application/vnd.jupyter.widget-view+json": {
       "model_id": "dcee8ab8a8ad42d08d88328ce6f4350e",
       "version_major": 2,
       "version_minor": 0
      },
      "text/plain": [
       "Calculating mtb area for every frame in track: 1562:   0%|          | 0/61 [00:00<?, ?it/s]"
      ]
     },
     "metadata": {},
     "output_type": "display_data"
    },
    {
     "data": {
      "application/vnd.jupyter.widget-view+json": {
       "model_id": "2728098c18914bc0850fde7625f2603f",
       "version_major": 2,
       "version_minor": 0
      },
      "text/plain": [
       "Calculating mtb area for every frame in track: 541:   0%|          | 0/61 [00:00<?, ?it/s]"
      ]
     },
     "metadata": {},
     "output_type": "display_data"
    },
    {
     "data": {
      "application/vnd.jupyter.widget-view+json": {
       "model_id": "dcf3b6cbbcd04be3b50c35cce1eb36d0",
       "version_major": 2,
       "version_minor": 0
      },
      "text/plain": [
       "Calculating mtb area for every frame in track: 34:   0%|          | 0/54 [00:00<?, ?it/s]"
      ]
     },
     "metadata": {},
     "output_type": "display_data"
    },
    {
     "data": {
      "application/vnd.jupyter.widget-view+json": {
       "model_id": "2d883663a02d42e0977f8f368eee5a19",
       "version_major": 2,
       "version_minor": 0
      },
      "text/plain": [
       "Calculating mtb area for every frame in track: 2598:   0%|          | 0/38 [00:00<?, ?it/s]"
      ]
     },
     "metadata": {},
     "output_type": "display_data"
    },
    {
     "data": {
      "application/vnd.jupyter.widget-view+json": {
       "model_id": "d6ce031cd93b417883992a9bb4ff0252",
       "version_major": 2,
       "version_minor": 0
      },
      "text/plain": [
       "Calculating mtb area for every frame in track: 1575:   0%|          | 0/46 [00:00<?, ?it/s]"
      ]
     },
     "metadata": {},
     "output_type": "display_data"
    },
    {
     "data": {
      "application/vnd.jupyter.widget-view+json": {
       "model_id": "151369f2d7df48628b36b48e9a704e24",
       "version_major": 2,
       "version_minor": 0
      },
      "text/plain": [
       "Calculating mtb area for every frame in track: 1577:   0%|          | 0/58 [00:00<?, ?it/s]"
      ]
     },
     "metadata": {},
     "output_type": "display_data"
    },
    {
     "data": {
      "application/vnd.jupyter.widget-view+json": {
       "model_id": "98fe8d3d9c0c4153a6fd74f309359c31",
       "version_major": 2,
       "version_minor": 0
      },
      "text/plain": [
       "Calculating mtb area for every frame in track: 557:   0%|          | 0/16 [00:00<?, ?it/s]"
      ]
     },
     "metadata": {},
     "output_type": "display_data"
    },
    {
     "data": {
      "application/vnd.jupyter.widget-view+json": {
       "model_id": "91232b05ede14965a850d5d7676a8321",
       "version_major": 2,
       "version_minor": 0
      },
      "text/plain": [
       "Calculating mtb area for every frame in track: 48:   0%|          | 0/45 [00:00<?, ?it/s]"
      ]
     },
     "metadata": {},
     "output_type": "display_data"
    },
    {
     "data": {
      "application/vnd.jupyter.widget-view+json": {
       "model_id": "3e9390cfbed746e2be9dc7f6d5156c5c",
       "version_major": 2,
       "version_minor": 0
      },
      "text/plain": [
       "Calculating mtb area for every frame in track: 1072:   0%|          | 0/69 [00:00<?, ?it/s]"
      ]
     },
     "metadata": {},
     "output_type": "display_data"
    },
    {
     "data": {
      "application/vnd.jupyter.widget-view+json": {
       "model_id": "725f447a8b7249d58f235d87711d99be",
       "version_major": 2,
       "version_minor": 0
      },
      "text/plain": [
       "Calculating mtb area for every frame in track: 1589:   0%|          | 0/60 [00:00<?, ?it/s]"
      ]
     },
     "metadata": {},
     "output_type": "display_data"
    },
    {
     "data": {
      "application/vnd.jupyter.widget-view+json": {
       "model_id": "a8d78b5c959d4bbd81c59b2693aaddab",
       "version_major": 2,
       "version_minor": 0
      },
      "text/plain": [
       "Calculating mtb area for every frame in track: 571:   0%|          | 0/60 [00:00<?, ?it/s]"
      ]
     },
     "metadata": {},
     "output_type": "display_data"
    },
    {
     "data": {
      "application/vnd.jupyter.widget-view+json": {
       "model_id": "69900e5e181d4f98a692ab9f813e6ff7",
       "version_major": 2,
       "version_minor": 0
      },
      "text/plain": [
       "Calculating mtb area for every frame in track: 60:   0%|          | 0/31 [00:00<?, ?it/s]"
      ]
     },
     "metadata": {},
     "output_type": "display_data"
    },
    {
     "data": {
      "application/vnd.jupyter.widget-view+json": {
       "model_id": "ba3687d8ce344dae850edb59d055bd12",
       "version_major": 2,
       "version_minor": 0
      },
      "text/plain": [
       "Calculating mtb area for every frame in track: 3131:   0%|          | 0/23 [00:00<?, ?it/s]"
      ]
     },
     "metadata": {},
     "output_type": "display_data"
    },
    {
     "data": {
      "application/vnd.jupyter.widget-view+json": {
       "model_id": "fdf981e2a74c445b83a7f02e52046d02",
       "version_major": 2,
       "version_minor": 0
      },
      "text/plain": [
       "Calculating mtb area for every frame in track: 62:   0%|          | 0/75 [00:00<?, ?it/s]"
      ]
     },
     "metadata": {},
     "output_type": "display_data"
    },
    {
     "data": {
      "application/vnd.jupyter.widget-view+json": {
       "model_id": "9b287d9f7da14728aabb14832046049b",
       "version_major": 2,
       "version_minor": 0
      },
      "text/plain": [
       "Calculating mtb area for every frame in track: 2111:   0%|          | 0/49 [00:00<?, ?it/s]"
      ]
     },
     "metadata": {},
     "output_type": "display_data"
    },
    {
     "data": {
      "application/vnd.jupyter.widget-view+json": {
       "model_id": "de46462d166b4d11ab1536ce3d77ea28",
       "version_major": 2,
       "version_minor": 0
      },
      "text/plain": [
       "Calculating mtb area for every frame in track: 64:   0%|          | 0/70 [00:00<?, ?it/s]"
      ]
     },
     "metadata": {},
     "output_type": "display_data"
    },
    {
     "data": {
      "application/vnd.jupyter.widget-view+json": {
       "model_id": "78970643e6d54910b4e6a32c84842c45",
       "version_major": 2,
       "version_minor": 0
      },
      "text/plain": [
       "Calculating mtb area for every frame in track: 1595:   0%|          | 0/60 [00:00<?, ?it/s]"
      ]
     },
     "metadata": {},
     "output_type": "display_data"
    },
    {
     "data": {
      "application/vnd.jupyter.widget-view+json": {
       "model_id": "dc62ed4993bf4b4eb1b5e34863c0e761",
       "version_major": 2,
       "version_minor": 0
      },
      "text/plain": [
       "Calculating mtb area for every frame in track: 578:   0%|          | 0/75 [00:00<?, ?it/s]"
      ]
     },
     "metadata": {},
     "output_type": "display_data"
    },
    {
     "data": {
      "application/vnd.jupyter.widget-view+json": {
       "model_id": "7995d74730e04b79a71b119cb26fcc71",
       "version_major": 2,
       "version_minor": 0
      },
      "text/plain": [
       "Calculating mtb area for every frame in track: 72:   0%|          | 0/41 [00:00<?, ?it/s]"
      ]
     },
     "metadata": {},
     "output_type": "display_data"
    },
    {
     "data": {
      "application/vnd.jupyter.widget-view+json": {
       "model_id": "a71aa6fb7b3047749c6bd84fbf0efd32",
       "version_major": 2,
       "version_minor": 0
      },
      "text/plain": [
       "Calculating mtb area for every frame in track: 73:   0%|          | 0/52 [00:00<?, ?it/s]"
      ]
     },
     "metadata": {},
     "output_type": "display_data"
    },
    {
     "data": {
      "application/vnd.jupyter.widget-view+json": {
       "model_id": "cb8bca763d57473abdfaf99fa6c200c5",
       "version_major": 2,
       "version_minor": 0
      },
      "text/plain": [
       "Calculating mtb area for every frame in track: 74:   0%|          | 0/74 [00:00<?, ?it/s]"
      ]
     },
     "metadata": {},
     "output_type": "display_data"
    },
    {
     "data": {
      "application/vnd.jupyter.widget-view+json": {
       "model_id": "93087623b5b94e6dadebd6a0dc1cd056",
       "version_major": 2,
       "version_minor": 0
      },
      "text/plain": [
       "Calculating mtb area for every frame in track: 585:   0%|          | 0/57 [00:00<?, ?it/s]"
      ]
     },
     "metadata": {},
     "output_type": "display_data"
    },
    {
     "data": {
      "application/vnd.jupyter.widget-view+json": {
       "model_id": "709f5ef8dc59420489cd82156cb5f2ff",
       "version_major": 2,
       "version_minor": 0
      },
      "text/plain": [
       "Calculating mtb area for every frame in track: 1100:   0%|          | 0/35 [00:00<?, ?it/s]"
      ]
     },
     "metadata": {},
     "output_type": "display_data"
    },
    {
     "data": {
      "application/vnd.jupyter.widget-view+json": {
       "model_id": "a0ebf8d17ad844689b082765430ed57d",
       "version_major": 2,
       "version_minor": 0
      },
      "text/plain": [
       "Calculating mtb area for every frame in track: 1611:   0%|          | 0/55 [00:00<?, ?it/s]"
      ]
     },
     "metadata": {},
     "output_type": "display_data"
    },
    {
     "data": {
      "application/vnd.jupyter.widget-view+json": {
       "model_id": "d8cbd7eb2c1e4b01b96d092345319cda",
       "version_major": 2,
       "version_minor": 0
      },
      "text/plain": [
       "Calculating mtb area for every frame in track: 1613:   0%|          | 0/60 [00:00<?, ?it/s]"
      ]
     },
     "metadata": {},
     "output_type": "display_data"
    },
    {
     "data": {
      "application/vnd.jupyter.widget-view+json": {
       "model_id": "c7caca334b58466fbbae45e460f1a20c",
       "version_major": 2,
       "version_minor": 0
      },
      "text/plain": [
       "Calculating mtb area for every frame in track: 2639:   0%|          | 0/38 [00:00<?, ?it/s]"
      ]
     },
     "metadata": {},
     "output_type": "display_data"
    },
    {
     "data": {
      "application/vnd.jupyter.widget-view+json": {
       "model_id": "a9a9d4a54a0f4664a29e801a41cf02f4",
       "version_major": 2,
       "version_minor": 0
      },
      "text/plain": [
       "Calculating mtb area for every frame in track: 592:   0%|          | 0/30 [00:00<?, ?it/s]"
      ]
     },
     "metadata": {},
     "output_type": "display_data"
    },
    {
     "data": {
      "application/vnd.jupyter.widget-view+json": {
       "model_id": "f5483850c494417aa2d725fb1444e998",
       "version_major": 2,
       "version_minor": 0
      },
      "text/plain": [
       "Calculating mtb area for every frame in track: 3151:   0%|          | 0/26 [00:00<?, ?it/s]"
      ]
     },
     "metadata": {},
     "output_type": "display_data"
    },
    {
     "data": {
      "application/vnd.jupyter.widget-view+json": {
       "model_id": "60b3a01ba73948a8a4420a4b10d66bd1",
       "version_major": 2,
       "version_minor": 0
      },
      "text/plain": [
       "Calculating mtb area for every frame in track: 1105:   0%|          | 0/25 [00:00<?, ?it/s]"
      ]
     },
     "metadata": {},
     "output_type": "display_data"
    },
    {
     "data": {
      "application/vnd.jupyter.widget-view+json": {
       "model_id": "a59799c233a8465eb17fd5b684153401",
       "version_major": 2,
       "version_minor": 0
      },
      "text/plain": [
       "Calculating mtb area for every frame in track: 83:   0%|          | 0/75 [00:00<?, ?it/s]"
      ]
     },
     "metadata": {},
     "output_type": "display_data"
    },
    {
     "data": {
      "application/vnd.jupyter.widget-view+json": {
       "model_id": "7b718d2c086d4b05b50bb5e42901851e",
       "version_major": 2,
       "version_minor": 0
      },
      "text/plain": [
       "Calculating mtb area for every frame in track: 1107:   0%|          | 0/44 [00:00<?, ?it/s]"
      ]
     },
     "metadata": {},
     "output_type": "display_data"
    },
    {
     "data": {
      "application/vnd.jupyter.widget-view+json": {
       "model_id": "4d442b77d86b478a88b44310434c770f",
       "version_major": 2,
       "version_minor": 0
      },
      "text/plain": [
       "Calculating mtb area for every frame in track: 1620:   0%|          | 0/59 [00:00<?, ?it/s]"
      ]
     },
     "metadata": {},
     "output_type": "display_data"
    },
    {
     "data": {
      "application/vnd.jupyter.widget-view+json": {
       "model_id": "5802ec438f5947289e2032eaf0ad551d",
       "version_major": 2,
       "version_minor": 0
      },
      "text/plain": [
       "Calculating mtb area for every frame in track: 3159:   0%|          | 0/26 [00:00<?, ?it/s]"
      ]
     },
     "metadata": {},
     "output_type": "display_data"
    },
    {
     "data": {
      "application/vnd.jupyter.widget-view+json": {
       "model_id": "fd687e4e77a94f70be32f9e47172b218",
       "version_major": 2,
       "version_minor": 0
      },
      "text/plain": [
       "Calculating mtb area for every frame in track: 89:   0%|          | 0/64 [00:00<?, ?it/s]"
      ]
     },
     "metadata": {},
     "output_type": "display_data"
    },
    {
     "data": {
      "application/vnd.jupyter.widget-view+json": {
       "model_id": "e29ace1181ef4e33beda8b4917494407",
       "version_major": 2,
       "version_minor": 0
      },
      "text/plain": [
       "Calculating mtb area for every frame in track: 604:   0%|          | 0/49 [00:00<?, ?it/s]"
      ]
     },
     "metadata": {},
     "output_type": "display_data"
    },
    {
     "data": {
      "application/vnd.jupyter.widget-view+json": {
       "model_id": "baedc5a613eb4009bc45267ea2bd946f",
       "version_major": 2,
       "version_minor": 0
      },
      "text/plain": [
       "Calculating mtb area for every frame in track: 1118:   0%|          | 0/61 [00:00<?, ?it/s]"
      ]
     },
     "metadata": {},
     "output_type": "display_data"
    },
    {
     "data": {
      "application/vnd.jupyter.widget-view+json": {
       "model_id": "c1cfcd6863ae42e38fa36a6d07501f4c",
       "version_major": 2,
       "version_minor": 0
      },
      "text/plain": [
       "Calculating mtb area for every frame in track: 1631:   0%|          | 0/59 [00:00<?, ?it/s]"
      ]
     },
     "metadata": {},
     "output_type": "display_data"
    },
    {
     "data": {
      "application/vnd.jupyter.widget-view+json": {
       "model_id": "ee53ba897f554cbd8469f8c9a002f357",
       "version_major": 2,
       "version_minor": 0
      },
      "text/plain": [
       "Calculating mtb area for every frame in track: 97:   0%|          | 0/22 [00:00<?, ?it/s]"
      ]
     },
     "metadata": {},
     "output_type": "display_data"
    },
    {
     "data": {
      "application/vnd.jupyter.widget-view+json": {
       "model_id": "e649bd661c2f4251a71e1eee2e1fc301",
       "version_major": 2,
       "version_minor": 0
      },
      "text/plain": [
       "Calculating mtb area for every frame in track: 2659:   0%|          | 0/37 [00:00<?, ?it/s]"
      ]
     },
     "metadata": {},
     "output_type": "display_data"
    },
    {
     "data": {
      "application/vnd.jupyter.widget-view+json": {
       "model_id": "6b0c31151e4440b19a190390ee035bdf",
       "version_major": 2,
       "version_minor": 0
      },
      "text/plain": [
       "Calculating mtb area for every frame in track: 100:   0%|          | 0/61 [00:00<?, ?it/s]"
      ]
     },
     "metadata": {},
     "output_type": "display_data"
    },
    {
     "data": {
      "application/vnd.jupyter.widget-view+json": {
       "model_id": "9a5a4e10814e434ca2e1c3f33298bfd1",
       "version_major": 2,
       "version_minor": 0
      },
      "text/plain": [
       "Calculating mtb area for every frame in track: 1639:   0%|          | 0/59 [00:00<?, ?it/s]"
      ]
     },
     "metadata": {},
     "output_type": "display_data"
    },
    {
     "data": {
      "application/vnd.jupyter.widget-view+json": {
       "model_id": "7f260281459d4b37b06cc489b83c141b",
       "version_major": 2,
       "version_minor": 0
      },
      "text/plain": [
       "Calculating mtb area for every frame in track: 616:   0%|          | 0/30 [00:00<?, ?it/s]"
      ]
     },
     "metadata": {},
     "output_type": "display_data"
    },
    {
     "data": {
      "application/vnd.jupyter.widget-view+json": {
       "model_id": "03d2d312624b4e5391a84b13f1720a85",
       "version_major": 2,
       "version_minor": 0
      },
      "text/plain": [
       "Calculating mtb area for every frame in track: 105:   0%|          | 0/73 [00:00<?, ?it/s]"
      ]
     },
     "metadata": {},
     "output_type": "display_data"
    },
    {
     "data": {
      "application/vnd.jupyter.widget-view+json": {
       "model_id": "a783f5979d8f435a8d09822ff7e3a6d7",
       "version_major": 2,
       "version_minor": 0
      },
      "text/plain": [
       "Calculating mtb area for every frame in track: 1129:   0%|          | 0/64 [00:00<?, ?it/s]"
      ]
     },
     "metadata": {},
     "output_type": "display_data"
    },
    {
     "data": {
      "application/vnd.jupyter.widget-view+json": {
       "model_id": "591da129bc6c4c46ade83d53cdf61054",
       "version_major": 2,
       "version_minor": 0
      },
      "text/plain": [
       "Calculating mtb area for every frame in track: 3179:   0%|          | 0/26 [00:00<?, ?it/s]"
      ]
     },
     "metadata": {},
     "output_type": "display_data"
    },
    {
     "data": {
      "application/vnd.jupyter.widget-view+json": {
       "model_id": "53a14eb352c4421f80a1b5b42a724352",
       "version_major": 2,
       "version_minor": 0
      },
      "text/plain": [
       "Calculating mtb area for every frame in track: 621:   0%|          | 0/27 [00:00<?, ?it/s]"
      ]
     },
     "metadata": {},
     "output_type": "display_data"
    },
    {
     "data": {
      "application/vnd.jupyter.widget-view+json": {
       "model_id": "face854f7b664c859a4f20e59a5e1de8",
       "version_major": 2,
       "version_minor": 0
      },
      "text/plain": [
       "Calculating mtb area for every frame in track: 110:   0%|          | 0/48 [00:00<?, ?it/s]"
      ]
     },
     "metadata": {},
     "output_type": "display_data"
    },
    {
     "data": {
      "application/vnd.jupyter.widget-view+json": {
       "model_id": "8d22a115c8a04740b57b1a60219d8e1e",
       "version_major": 2,
       "version_minor": 0
      },
      "text/plain": [
       "Calculating mtb area for every frame in track: 1134:   0%|          | 0/68 [00:00<?, ?it/s]"
      ]
     },
     "metadata": {},
     "output_type": "display_data"
    },
    {
     "data": {
      "application/vnd.jupyter.widget-view+json": {
       "model_id": "480fb41243004fcc88d49fbb7c6164d2",
       "version_major": 2,
       "version_minor": 0
      },
      "text/plain": [
       "Calculating mtb area for every frame in track: 112:   0%|          | 0/39 [00:00<?, ?it/s]"
      ]
     },
     "metadata": {},
     "output_type": "display_data"
    },
    {
     "data": {
      "application/vnd.jupyter.widget-view+json": {
       "model_id": "22d9af72322d4aadab971978297f7295",
       "version_major": 2,
       "version_minor": 0
      },
      "text/plain": [
       "Calculating mtb area for every frame in track: 625:   0%|          | 0/19 [00:00<?, ?it/s]"
      ]
     },
     "metadata": {},
     "output_type": "display_data"
    },
    {
     "data": {
      "application/vnd.jupyter.widget-view+json": {
       "model_id": "47ad314c95b34371ad4ba35b05451916",
       "version_major": 2,
       "version_minor": 0
      },
      "text/plain": [
       "Calculating mtb area for every frame in track: 1138:   0%|          | 0/67 [00:00<?, ?it/s]"
      ]
     },
     "metadata": {},
     "output_type": "display_data"
    },
    {
     "data": {
      "application/vnd.jupyter.widget-view+json": {
       "model_id": "58a80ddb48044f6b91b55ed75290edde",
       "version_major": 2,
       "version_minor": 0
      },
      "text/plain": [
       "Calculating mtb area for every frame in track: 628:   0%|          | 0/51 [00:00<?, ?it/s]"
      ]
     },
     "metadata": {},
     "output_type": "display_data"
    },
    {
     "data": {
      "application/vnd.jupyter.widget-view+json": {
       "model_id": "f32629f0aea2451f8ba3c9be2961b322",
       "version_major": 2,
       "version_minor": 0
      },
      "text/plain": [
       "Calculating mtb area for every frame in track: 1652:   0%|          | 0/59 [00:00<?, ?it/s]"
      ]
     },
     "metadata": {},
     "output_type": "display_data"
    },
    {
     "data": {
      "application/vnd.jupyter.widget-view+json": {
       "model_id": "2d152006268b4f1e8cab4991d12e3735",
       "version_major": 2,
       "version_minor": 0
      },
      "text/plain": [
       "Calculating mtb area for every frame in track: 1654:   0%|          | 0/42 [00:00<?, ?it/s]"
      ]
     },
     "metadata": {},
     "output_type": "display_data"
    },
    {
     "data": {
      "application/vnd.jupyter.widget-view+json": {
       "model_id": "60ed941fada347d9afa3c8a9ec1419da",
       "version_major": 2,
       "version_minor": 0
      },
      "text/plain": [
       "Calculating mtb area for every frame in track: 119:   0%|          | 0/46 [00:00<?, ?it/s]"
      ]
     },
     "metadata": {},
     "output_type": "display_data"
    },
    {
     "data": {
      "application/vnd.jupyter.widget-view+json": {
       "model_id": "073dad31216e4e1daa085f3ee0919894",
       "version_major": 2,
       "version_minor": 0
      },
      "text/plain": [
       "Calculating mtb area for every frame in track: 120:   0%|          | 0/30 [00:00<?, ?it/s]"
      ]
     },
     "metadata": {},
     "output_type": "display_data"
    },
    {
     "data": {
      "application/vnd.jupyter.widget-view+json": {
       "model_id": "f0aaee1ac7cd4f39a7af45af2313cf97",
       "version_major": 2,
       "version_minor": 0
      },
      "text/plain": [
       "Calculating mtb area for every frame in track: 1147:   0%|          | 0/67 [00:00<?, ?it/s]"
      ]
     },
     "metadata": {},
     "output_type": "display_data"
    },
    {
     "data": {
      "application/vnd.jupyter.widget-view+json": {
       "model_id": "6210fc6e7f8242cda978d6221b8b3b0d",
       "version_major": 2,
       "version_minor": 0
      },
      "text/plain": [
       "Calculating mtb area for every frame in track: 128:   0%|          | 0/73 [00:00<?, ?it/s]"
      ]
     },
     "metadata": {},
     "output_type": "display_data"
    },
    {
     "data": {
      "application/vnd.jupyter.widget-view+json": {
       "model_id": "3cd6fa6939734d3b96bdc7be0cb57f45",
       "version_major": 2,
       "version_minor": 0
      },
      "text/plain": [
       "Calculating mtb area for every frame in track: 642:   0%|          | 0/41 [00:00<?, ?it/s]"
      ]
     },
     "metadata": {},
     "output_type": "display_data"
    },
    {
     "data": {
      "application/vnd.jupyter.widget-view+json": {
       "model_id": "4de45dfc06ed472ba88591d0eaa3d418",
       "version_major": 2,
       "version_minor": 0
      },
      "text/plain": [
       "Calculating mtb area for every frame in track: 131:   0%|          | 0/28 [00:00<?, ?it/s]"
      ]
     },
     "metadata": {},
     "output_type": "display_data"
    },
    {
     "data": {
      "application/vnd.jupyter.widget-view+json": {
       "model_id": "3b9216d107be4e309bfad2b2cb798672",
       "version_major": 2,
       "version_minor": 0
      },
      "text/plain": [
       "Calculating mtb area for every frame in track: 644:   0%|          | 0/35 [00:00<?, ?it/s]"
      ]
     },
     "metadata": {},
     "output_type": "display_data"
    },
    {
     "data": {
      "application/vnd.jupyter.widget-view+json": {
       "model_id": "09a2317677a142f5aecd9332a183c580",
       "version_major": 2,
       "version_minor": 0
      },
      "text/plain": [
       "Calculating mtb area for every frame in track: 1154:   0%|          | 0/67 [00:00<?, ?it/s]"
      ]
     },
     "metadata": {},
     "output_type": "display_data"
    },
    {
     "data": {
      "application/vnd.jupyter.widget-view+json": {
       "model_id": "3c9e9e32d98e4e75bc350b334ec9495d",
       "version_major": 2,
       "version_minor": 0
      },
      "text/plain": [
       "Calculating mtb area for every frame in track: 1166:   0%|          | 0/67 [00:00<?, ?it/s]"
      ]
     },
     "metadata": {},
     "output_type": "display_data"
    },
    {
     "data": {
      "application/vnd.jupyter.widget-view+json": {
       "model_id": "efa22f51529c4d78befda30865225700",
       "version_major": 2,
       "version_minor": 0
      },
      "text/plain": [
       "Calculating mtb area for every frame in track: 656:   0%|          | 0/74 [00:00<?, ?it/s]"
      ]
     },
     "metadata": {},
     "output_type": "display_data"
    },
    {
     "data": {
      "application/vnd.jupyter.widget-view+json": {
       "model_id": "79cac93c8e0d432a84c354f7a1b147fc",
       "version_major": 2,
       "version_minor": 0
      },
      "text/plain": [
       "Calculating mtb area for every frame in track: 148:   0%|          | 0/70 [00:00<?, ?it/s]"
      ]
     },
     "metadata": {},
     "output_type": "display_data"
    },
    {
     "data": {
      "application/vnd.jupyter.widget-view+json": {
       "model_id": "242de4cef5b64cd0a7a91c717a19cf98",
       "version_major": 2,
       "version_minor": 0
      },
      "text/plain": [
       "Calculating mtb area for every frame in track: 2708:   0%|          | 0/36 [00:00<?, ?it/s]"
      ]
     },
     "metadata": {},
     "output_type": "display_data"
    },
    {
     "data": {
      "application/vnd.jupyter.widget-view+json": {
       "model_id": "30bbc9d1db4140e790205bfc3040ab54",
       "version_major": 2,
       "version_minor": 0
      },
      "text/plain": [
       "Calculating mtb area for every frame in track: 153:   0%|          | 0/75 [00:00<?, ?it/s]"
      ]
     },
     "metadata": {},
     "output_type": "display_data"
    },
    {
     "data": {
      "application/vnd.jupyter.widget-view+json": {
       "model_id": "6fa848862b8547e2b3d6c3adfd47e53c",
       "version_major": 2,
       "version_minor": 0
      },
      "text/plain": [
       "Calculating mtb area for every frame in track: 1690:   0%|          | 0/18 [00:00<?, ?it/s]"
      ]
     },
     "metadata": {},
     "output_type": "display_data"
    },
    {
     "data": {
      "application/vnd.jupyter.widget-view+json": {
       "model_id": "3eaf61d1f8be4bb2b70a0009bf1eec2e",
       "version_major": 2,
       "version_minor": 0
      },
      "text/plain": [
       "Calculating mtb area for every frame in track: 669:   0%|          | 0/63 [00:00<?, ?it/s]"
      ]
     },
     "metadata": {},
     "output_type": "display_data"
    },
    {
     "data": {
      "application/vnd.jupyter.widget-view+json": {
       "model_id": "a2e52d951b724d2c8546f2abf3cbeb1e",
       "version_major": 2,
       "version_minor": 0
      },
      "text/plain": [
       "Calculating mtb area for every frame in track: 160:   0%|          | 0/23 [00:00<?, ?it/s]"
      ]
     },
     "metadata": {},
     "output_type": "display_data"
    },
    {
     "data": {
      "application/vnd.jupyter.widget-view+json": {
       "model_id": "29f3651d3f7a4316925a3a5da38989bf",
       "version_major": 2,
       "version_minor": 0
      },
      "text/plain": [
       "Calculating mtb area for every frame in track: 672:   0%|          | 0/39 [00:00<?, ?it/s]"
      ]
     },
     "metadata": {},
     "output_type": "display_data"
    },
    {
     "data": {
      "application/vnd.jupyter.widget-view+json": {
       "model_id": "6bd299d3567041fd848f02f470ccb9b2",
       "version_major": 2,
       "version_minor": 0
      },
      "text/plain": [
       "Calculating mtb area for every frame in track: 673:   0%|          | 0/73 [00:00<?, ?it/s]"
      ]
     },
     "metadata": {},
     "output_type": "display_data"
    },
    {
     "data": {
      "application/vnd.jupyter.widget-view+json": {
       "model_id": "6200c052bf6b4525acae5139bf4e8a15",
       "version_major": 2,
       "version_minor": 0
      },
      "text/plain": [
       "Calculating mtb area for every frame in track: 3233:   0%|          | 0/17 [00:00<?, ?it/s]"
      ]
     },
     "metadata": {},
     "output_type": "display_data"
    },
    {
     "data": {
      "application/vnd.jupyter.widget-view+json": {
       "model_id": "706d1d026c3a40e1bea80d2322b5ee2c",
       "version_major": 2,
       "version_minor": 0
      },
      "text/plain": [
       "Calculating mtb area for every frame in track: 164:   0%|          | 0/70 [00:00<?, ?it/s]"
      ]
     },
     "metadata": {},
     "output_type": "display_data"
    },
    {
     "data": {
      "application/vnd.jupyter.widget-view+json": {
       "model_id": "8c90875c185c4dd7a8a051cb30c849df",
       "version_major": 2,
       "version_minor": 0
      },
      "text/plain": [
       "Calculating mtb area for every frame in track: 166:   0%|          | 0/75 [00:00<?, ?it/s]"
      ]
     },
     "metadata": {},
     "output_type": "display_data"
    },
    {
     "data": {
      "application/vnd.jupyter.widget-view+json": {
       "model_id": "c77420bd420347dd969c775105db15ae",
       "version_major": 2,
       "version_minor": 0
      },
      "text/plain": [
       "Calculating mtb area for every frame in track: 679:   0%|          | 0/73 [00:00<?, ?it/s]"
      ]
     },
     "metadata": {},
     "output_type": "display_data"
    },
    {
     "data": {
      "application/vnd.jupyter.widget-view+json": {
       "model_id": "5e6a4ead21ef46ab9766cfb5423cace7",
       "version_major": 2,
       "version_minor": 0
      },
      "text/plain": [
       "Calculating mtb area for every frame in track: 682:   0%|          | 0/39 [00:00<?, ?it/s]"
      ]
     },
     "metadata": {},
     "output_type": "display_data"
    },
    {
     "data": {
      "application/vnd.jupyter.widget-view+json": {
       "model_id": "34863895a1794264a997f8e47b5336d5",
       "version_major": 2,
       "version_minor": 0
      },
      "text/plain": [
       "Calculating mtb area for every frame in track: 3242:   0%|          | 0/24 [00:00<?, ?it/s]"
      ]
     },
     "metadata": {},
     "output_type": "display_data"
    },
    {
     "data": {
      "application/vnd.jupyter.widget-view+json": {
       "model_id": "5e5c79e3202847b4bb787e346e84fb7b",
       "version_major": 2,
       "version_minor": 0
      },
      "text/plain": [
       "Calculating mtb area for every frame in track: 172:   0%|          | 0/46 [00:00<?, ?it/s]"
      ]
     },
     "metadata": {},
     "output_type": "display_data"
    },
    {
     "data": {
      "application/vnd.jupyter.widget-view+json": {
       "model_id": "b367d5c1121942fd9b48304b0e7f0001",
       "version_major": 2,
       "version_minor": 0
      },
      "text/plain": [
       "Calculating mtb area for every frame in track: 177:   0%|          | 0/58 [00:00<?, ?it/s]"
      ]
     },
     "metadata": {},
     "output_type": "display_data"
    },
    {
     "data": {
      "application/vnd.jupyter.widget-view+json": {
       "model_id": "e67b476958f24b7d905a66f45bcee945",
       "version_major": 2,
       "version_minor": 0
      },
      "text/plain": [
       "Calculating mtb area for every frame in track: 2737:   0%|          | 0/34 [00:00<?, ?it/s]"
      ]
     },
     "metadata": {},
     "output_type": "display_data"
    },
    {
     "data": {
      "application/vnd.jupyter.widget-view+json": {
       "model_id": "ea1670de04604009a31d8720b0cb5eae",
       "version_major": 2,
       "version_minor": 0
      },
      "text/plain": [
       "Calculating mtb area for every frame in track: 182:   0%|          | 0/41 [00:00<?, ?it/s]"
      ]
     },
     "metadata": {},
     "output_type": "display_data"
    },
    {
     "data": {
      "application/vnd.jupyter.widget-view+json": {
       "model_id": "1ff16458730a40ac9ef4a4d606a18cb1",
       "version_major": 2,
       "version_minor": 0
      },
      "text/plain": [
       "Calculating mtb area for every frame in track: 694:   0%|          | 0/34 [00:00<?, ?it/s]"
      ]
     },
     "metadata": {},
     "output_type": "display_data"
    },
    {
     "data": {
      "application/vnd.jupyter.widget-view+json": {
       "model_id": "2a8836f381624675be3438ff9101675a",
       "version_major": 2,
       "version_minor": 0
      },
      "text/plain": [
       "Calculating mtb area for every frame in track: 2234:   0%|          | 0/47 [00:00<?, ?it/s]"
      ]
     },
     "metadata": {},
     "output_type": "display_data"
    },
    {
     "data": {
      "application/vnd.jupyter.widget-view+json": {
       "model_id": "9650994e3e77492a819d92f03cfb83c8",
       "version_major": 2,
       "version_minor": 0
      },
      "text/plain": [
       "Calculating mtb area for every frame in track: 1731:   0%|          | 0/33 [00:00<?, ?it/s]"
      ]
     },
     "metadata": {},
     "output_type": "display_data"
    },
    {
     "data": {
      "application/vnd.jupyter.widget-view+json": {
       "model_id": "d603883d0df64a1ead001ad76aab6b2e",
       "version_major": 2,
       "version_minor": 0
      },
      "text/plain": [
       "Calculating mtb area for every frame in track: 1735:   0%|          | 0/17 [00:00<?, ?it/s]"
      ]
     },
     "metadata": {},
     "output_type": "display_data"
    },
    {
     "data": {
      "application/vnd.jupyter.widget-view+json": {
       "model_id": "c5c77ce9e2b643179329497033a448e6",
       "version_major": 2,
       "version_minor": 0
      },
      "text/plain": [
       "Calculating mtb area for every frame in track: 1226:   0%|          | 0/66 [00:00<?, ?it/s]"
      ]
     },
     "metadata": {},
     "output_type": "display_data"
    },
    {
     "data": {
      "application/vnd.jupyter.widget-view+json": {
       "model_id": "31be9a15de914c0e8d18a9f77338da8a",
       "version_major": 2,
       "version_minor": 0
      },
      "text/plain": [
       "Calculating mtb area for every frame in track: 3275:   0%|          | 0/23 [00:00<?, ?it/s]"
      ]
     },
     "metadata": {},
     "output_type": "display_data"
    },
    {
     "data": {
      "application/vnd.jupyter.widget-view+json": {
       "model_id": "66fe1ed74f814f43a22eae6b92a64f7b",
       "version_major": 2,
       "version_minor": 0
      },
      "text/plain": [
       "Calculating mtb area for every frame in track: 204:   0%|          | 0/67 [00:00<?, ?it/s]"
      ]
     },
     "metadata": {},
     "output_type": "display_data"
    },
    {
     "data": {
      "application/vnd.jupyter.widget-view+json": {
       "model_id": "d58db02f51e34d59b08a5a0c0c6ac530",
       "version_major": 2,
       "version_minor": 0
      },
      "text/plain": [
       "Calculating mtb area for every frame in track: 1233:   0%|          | 0/66 [00:00<?, ?it/s]"
      ]
     },
     "metadata": {},
     "output_type": "display_data"
    },
    {
     "data": {
      "application/vnd.jupyter.widget-view+json": {
       "model_id": "96b903443fb3497abd3cf277d7599644",
       "version_major": 2,
       "version_minor": 0
      },
      "text/plain": [
       "Calculating mtb area for every frame in track: 2258:   0%|          | 0/46 [00:00<?, ?it/s]"
      ]
     },
     "metadata": {},
     "output_type": "display_data"
    },
    {
     "data": {
      "application/vnd.jupyter.widget-view+json": {
       "model_id": "2d90e98213d44227bbd7ee5493d9f371",
       "version_major": 2,
       "version_minor": 0
      },
      "text/plain": [
       "Calculating mtb area for every frame in track: 1239:   0%|          | 0/65 [00:00<?, ?it/s]"
      ]
     },
     "metadata": {},
     "output_type": "display_data"
    },
    {
     "data": {
      "application/vnd.jupyter.widget-view+json": {
       "model_id": "5205f35b58af4abf95f6f9eed57bab43",
       "version_major": 2,
       "version_minor": 0
      },
      "text/plain": [
       "Calculating mtb area for every frame in track: 1246:   0%|          | 0/65 [00:00<?, ?it/s]"
      ]
     },
     "metadata": {},
     "output_type": "display_data"
    },
    {
     "data": {
      "application/vnd.jupyter.widget-view+json": {
       "model_id": "893bb41a364442b9837e1078f52c6a4f",
       "version_major": 2,
       "version_minor": 0
      },
      "text/plain": [
       "Calculating mtb area for every frame in track: 225:   0%|          | 0/46 [00:00<?, ?it/s]"
      ]
     },
     "metadata": {},
     "output_type": "display_data"
    },
    {
     "data": {
      "application/vnd.jupyter.widget-view+json": {
       "model_id": "f4082c7d80d2440f9cfdf5a024984578",
       "version_major": 2,
       "version_minor": 0
      },
      "text/plain": [
       "Calculating mtb area for every frame in track: 738:   0%|          | 0/16 [00:00<?, ?it/s]"
      ]
     },
     "metadata": {},
     "output_type": "display_data"
    },
    {
     "data": {
      "application/vnd.jupyter.widget-view+json": {
       "model_id": "5850c9a818fa44c8ad6f10cea13c098a",
       "version_major": 2,
       "version_minor": 0
      },
      "text/plain": [
       "Calculating mtb area for every frame in track: 2787:   0%|          | 0/33 [00:00<?, ?it/s]"
      ]
     },
     "metadata": {},
     "output_type": "display_data"
    },
    {
     "data": {
      "application/vnd.jupyter.widget-view+json": {
       "model_id": "e9d4f06591bf4d4caa59508a4784f767",
       "version_major": 2,
       "version_minor": 0
      },
      "text/plain": [
       "Calculating mtb area for every frame in track: 1254:   0%|          | 0/65 [00:00<?, ?it/s]"
      ]
     },
     "metadata": {},
     "output_type": "display_data"
    },
    {
     "data": {
      "application/vnd.jupyter.widget-view+json": {
       "model_id": "c70c4aac2b9b4e29b757c59ac2243a5b",
       "version_major": 2,
       "version_minor": 0
      },
      "text/plain": [
       "Calculating mtb area for every frame in track: 2794:   0%|          | 0/34 [00:00<?, ?it/s]"
      ]
     },
     "metadata": {},
     "output_type": "display_data"
    },
    {
     "data": {
      "application/vnd.jupyter.widget-view+json": {
       "model_id": "3f02709a6e1c4ef0aa8fb08be2425b45",
       "version_major": 2,
       "version_minor": 0
      },
      "text/plain": [
       "Calculating mtb area for every frame in track: 237:   0%|          | 0/62 [00:00<?, ?it/s]"
      ]
     },
     "metadata": {},
     "output_type": "display_data"
    },
    {
     "data": {
      "application/vnd.jupyter.widget-view+json": {
       "model_id": "15d45613714c4edb8c35e72ae1024cc8",
       "version_major": 2,
       "version_minor": 0
      },
      "text/plain": [
       "Calculating mtb area for every frame in track: 238:   0%|          | 0/42 [00:00<?, ?it/s]"
      ]
     },
     "metadata": {},
     "output_type": "display_data"
    },
    {
     "data": {
      "application/vnd.jupyter.widget-view+json": {
       "model_id": "99667cc5d26b4a4d925834f7d409fc5e",
       "version_major": 2,
       "version_minor": 0
      },
      "text/plain": [
       "Calculating mtb area for every frame in track: 1778:   0%|          | 0/26 [00:00<?, ?it/s]"
      ]
     },
     "metadata": {},
     "output_type": "display_data"
    },
    {
     "data": {
      "application/vnd.jupyter.widget-view+json": {
       "model_id": "7f6a7222caaa42cc9e9bdc318c5a9fc1",
       "version_major": 2,
       "version_minor": 0
      },
      "text/plain": [
       "Calculating mtb area for every frame in track: 756:   0%|          | 0/64 [00:00<?, ?it/s]"
      ]
     },
     "metadata": {},
     "output_type": "display_data"
    },
    {
     "data": {
      "application/vnd.jupyter.widget-view+json": {
       "model_id": "a5f29f21926f4ace8278c8da1c4a96c5",
       "version_major": 2,
       "version_minor": 0
      },
      "text/plain": [
       "Calculating mtb area for every frame in track: 3318:   0%|          | 0/22 [00:00<?, ?it/s]"
      ]
     },
     "metadata": {},
     "output_type": "display_data"
    },
    {
     "data": {
      "application/vnd.jupyter.widget-view+json": {
       "model_id": "5735abed41414dbfb17fd5b5e5d9f5cf",
       "version_major": 2,
       "version_minor": 0
      },
      "text/plain": [
       "Calculating mtb area for every frame in track: 1783:   0%|          | 0/56 [00:00<?, ?it/s]"
      ]
     },
     "metadata": {},
     "output_type": "display_data"
    },
    {
     "data": {
      "application/vnd.jupyter.widget-view+json": {
       "model_id": "65cb83b719644fe6b10b6e496b978bef",
       "version_major": 2,
       "version_minor": 0
      },
      "text/plain": [
       "Calculating mtb area for every frame in track: 249:   0%|          | 0/44 [00:00<?, ?it/s]"
      ]
     },
     "metadata": {},
     "output_type": "display_data"
    },
    {
     "data": {
      "application/vnd.jupyter.widget-view+json": {
       "model_id": "2bd683c83bc4459482fd70dece96193f",
       "version_major": 2,
       "version_minor": 0
      },
      "text/plain": [
       "Calculating mtb area for every frame in track: 2300:   0%|          | 0/45 [00:00<?, ?it/s]"
      ]
     },
     "metadata": {},
     "output_type": "display_data"
    },
    {
     "data": {
      "application/vnd.jupyter.widget-view+json": {
       "model_id": "e01c0e2320da47acb2da4ec9a0b3a024",
       "version_major": 2,
       "version_minor": 0
      },
      "text/plain": [
       "Calculating mtb area for every frame in track: 769:   0%|          | 0/46 [00:00<?, ?it/s]"
      ]
     },
     "metadata": {},
     "output_type": "display_data"
    },
    {
     "data": {
      "application/vnd.jupyter.widget-view+json": {
       "model_id": "4183c45aa4f34bb781cba09bcf03a311",
       "version_major": 2,
       "version_minor": 0
      },
      "text/plain": [
       "Calculating mtb area for every frame in track: 261:   0%|          | 0/24 [00:00<?, ?it/s]"
      ]
     },
     "metadata": {},
     "output_type": "display_data"
    },
    {
     "data": {
      "application/vnd.jupyter.widget-view+json": {
       "model_id": "06c9db6d86f9480bbc370c2371b4fccd",
       "version_major": 2,
       "version_minor": 0
      },
      "text/plain": [
       "Calculating mtb area for every frame in track: 1287:   0%|          | 0/65 [00:00<?, ?it/s]"
      ]
     },
     "metadata": {},
     "output_type": "display_data"
    },
    {
     "data": {
      "application/vnd.jupyter.widget-view+json": {
       "model_id": "e78888489a114dacbcf99639afed25d3",
       "version_major": 2,
       "version_minor": 0
      },
      "text/plain": [
       "Calculating mtb area for every frame in track: 265:   0%|          | 0/51 [00:00<?, ?it/s]"
      ]
     },
     "metadata": {},
     "output_type": "display_data"
    },
    {
     "data": {
      "application/vnd.jupyter.widget-view+json": {
       "model_id": "067efb12bbf84654a51464c13bd6de17",
       "version_major": 2,
       "version_minor": 0
      },
      "text/plain": [
       "Calculating mtb area for every frame in track: 3337:   0%|          | 0/21 [00:00<?, ?it/s]"
      ]
     },
     "metadata": {},
     "output_type": "display_data"
    },
    {
     "data": {
      "application/vnd.jupyter.widget-view+json": {
       "model_id": "a250d09d261d41eda8213ed7904e25cb",
       "version_major": 2,
       "version_minor": 0
      },
      "text/plain": [
       "Calculating mtb area for every frame in track: 280:   0%|          | 0/74 [00:00<?, ?it/s]"
      ]
     },
     "metadata": {},
     "output_type": "display_data"
    },
    {
     "data": {
      "application/vnd.jupyter.widget-view+json": {
       "model_id": "aaa10647963e4f4e8fa3d925eb652249",
       "version_major": 2,
       "version_minor": 0
      },
      "text/plain": [
       "Calculating mtb area for every frame in track: 281:   0%|          | 0/75 [00:00<?, ?it/s]"
      ]
     },
     "metadata": {},
     "output_type": "display_data"
    },
    {
     "data": {
      "application/vnd.jupyter.widget-view+json": {
       "model_id": "477079b3031a4d16a20a12e7b125e2b3",
       "version_major": 2,
       "version_minor": 0
      },
      "text/plain": [
       "Calculating mtb area for every frame in track: 1817:   0%|          | 0/22 [00:00<?, ?it/s]"
      ]
     },
     "metadata": {},
     "output_type": "display_data"
    },
    {
     "data": {
      "application/vnd.jupyter.widget-view+json": {
       "model_id": "33aa1826a65f41aab2a636e33db2b842",
       "version_major": 2,
       "version_minor": 0
      },
      "text/plain": [
       "Calculating mtb area for every frame in track: 283:   0%|          | 0/39 [00:00<?, ?it/s]"
      ]
     },
     "metadata": {},
     "output_type": "display_data"
    },
    {
     "data": {
      "application/vnd.jupyter.widget-view+json": {
       "model_id": "b922001648a64cd192eee2c86ee6e6c1",
       "version_major": 2,
       "version_minor": 0
      },
      "text/plain": [
       "Calculating mtb area for every frame in track: 1308:   0%|          | 0/58 [00:00<?, ?it/s]"
      ]
     },
     "metadata": {},
     "output_type": "display_data"
    },
    {
     "data": {
      "application/vnd.jupyter.widget-view+json": {
       "model_id": "2ce4c6424a73487b904a5372cbf9508e",
       "version_major": 2,
       "version_minor": 0
      },
      "text/plain": [
       "Calculating mtb area for every frame in track: 285:   0%|          | 0/16 [00:00<?, ?it/s]"
      ]
     },
     "metadata": {},
     "output_type": "display_data"
    },
    {
     "data": {
      "application/vnd.jupyter.widget-view+json": {
       "model_id": "3e4059b3c0d74ba5a43d23305ce97896",
       "version_major": 2,
       "version_minor": 0
      },
      "text/plain": [
       "Calculating mtb area for every frame in track: 286:   0%|          | 0/55 [00:00<?, ?it/s]"
      ]
     },
     "metadata": {},
     "output_type": "display_data"
    },
    {
     "data": {
      "application/vnd.jupyter.widget-view+json": {
       "model_id": "f8baad6a0caa4b0d8aadc79ebb7ef546",
       "version_major": 2,
       "version_minor": 0
      },
      "text/plain": [
       "Calculating mtb area for every frame in track: 287:   0%|          | 0/60 [00:00<?, ?it/s]"
      ]
     },
     "metadata": {},
     "output_type": "display_data"
    },
    {
     "data": {
      "application/vnd.jupyter.widget-view+json": {
       "model_id": "2903f4c453da46509d6fde05096c410a",
       "version_major": 2,
       "version_minor": 0
      },
      "text/plain": [
       "Calculating mtb area for every frame in track: 288:   0%|          | 0/75 [00:00<?, ?it/s]"
      ]
     },
     "metadata": {},
     "output_type": "display_data"
    },
    {
     "data": {
      "application/vnd.jupyter.widget-view+json": {
       "model_id": "4029217d51fd4f90bf8ea7cd1b20bd74",
       "version_major": 2,
       "version_minor": 0
      },
      "text/plain": [
       "Calculating mtb area for every frame in track: 1313:   0%|          | 0/65 [00:00<?, ?it/s]"
      ]
     },
     "metadata": {},
     "output_type": "display_data"
    },
    {
     "data": {
      "application/vnd.jupyter.widget-view+json": {
       "model_id": "2c459b39634b428cafbda1cf66404ee4",
       "version_major": 2,
       "version_minor": 0
      },
      "text/plain": [
       "Calculating mtb area for every frame in track: 3362:   0%|          | 0/20 [00:00<?, ?it/s]"
      ]
     },
     "metadata": {},
     "output_type": "display_data"
    },
    {
     "data": {
      "application/vnd.jupyter.widget-view+json": {
       "model_id": "41ccb79cee3f44f28127b63e3d723a60",
       "version_major": 2,
       "version_minor": 0
      },
      "text/plain": [
       "Calculating mtb area for every frame in track: 806:   0%|          | 0/40 [00:00<?, ?it/s]"
      ]
     },
     "metadata": {},
     "output_type": "display_data"
    },
    {
     "data": {
      "application/vnd.jupyter.widget-view+json": {
       "model_id": "6838b9949f83452b977f8d679cb953f4",
       "version_major": 2,
       "version_minor": 0
      },
      "text/plain": [
       "Calculating mtb area for every frame in track: 2855:   0%|          | 0/33 [00:00<?, ?it/s]"
      ]
     },
     "metadata": {},
     "output_type": "display_data"
    },
    {
     "data": {
      "application/vnd.jupyter.widget-view+json": {
       "model_id": "e4a36d97f12d48fd8a18f03f8f1fcaae",
       "version_major": 2,
       "version_minor": 0
      },
      "text/plain": [
       "Calculating mtb area for every frame in track: 297:   0%|          | 0/12 [00:00<?, ?it/s]"
      ]
     },
     "metadata": {},
     "output_type": "display_data"
    },
    {
     "data": {
      "application/vnd.jupyter.widget-view+json": {
       "model_id": "ff6d7b0c4faf4536b76f961c6a252374",
       "version_major": 2,
       "version_minor": 0
      },
      "text/plain": [
       "Calculating mtb area for every frame in track: 1332:   0%|          | 0/64 [00:00<?, ?it/s]"
      ]
     },
     "metadata": {},
     "output_type": "display_data"
    },
    {
     "data": {
      "application/vnd.jupyter.widget-view+json": {
       "model_id": "a78574dbccd344599b466ff585870714",
       "version_major": 2,
       "version_minor": 0
      },
      "text/plain": [
       "Calculating mtb area for every frame in track: 3380:   0%|          | 0/19 [00:00<?, ?it/s]"
      ]
     },
     "metadata": {},
     "output_type": "display_data"
    },
    {
     "data": {
      "application/vnd.jupyter.widget-view+json": {
       "model_id": "9ec1e9c18b8447a6b544e7992e2b971e",
       "version_major": 2,
       "version_minor": 0
      },
      "text/plain": [
       "Calculating mtb area for every frame in track: 310:   0%|          | 0/26 [00:00<?, ?it/s]"
      ]
     },
     "metadata": {},
     "output_type": "display_data"
    },
    {
     "data": {
      "application/vnd.jupyter.widget-view+json": {
       "model_id": "35ff6a70e30c4f3fac7bc0ac858de90f",
       "version_major": 2,
       "version_minor": 0
      },
      "text/plain": [
       "Calculating mtb area for every frame in track: 1335:   0%|          | 0/63 [00:00<?, ?it/s]"
      ]
     },
     "metadata": {},
     "output_type": "display_data"
    },
    {
     "data": {
      "application/vnd.jupyter.widget-view+json": {
       "model_id": "ab0acc720baf4bb2af31e6b67f194e82",
       "version_major": 2,
       "version_minor": 0
      },
      "text/plain": [
       "Calculating mtb area for every frame in track: 315:   0%|          | 0/28 [00:00<?, ?it/s]"
      ]
     },
     "metadata": {},
     "output_type": "display_data"
    },
    {
     "data": {
      "application/vnd.jupyter.widget-view+json": {
       "model_id": "67bd1cef8c19438dba2e492c1d635733",
       "version_major": 2,
       "version_minor": 0
      },
      "text/plain": [
       "Calculating mtb area for every frame in track: 1340:   0%|          | 0/64 [00:00<?, ?it/s]"
      ]
     },
     "metadata": {},
     "output_type": "display_data"
    },
    {
     "data": {
      "application/vnd.jupyter.widget-view+json": {
       "model_id": "205523203f504930a996ef1de84cad54",
       "version_major": 2,
       "version_minor": 0
      },
      "text/plain": [
       "Calculating mtb area for every frame in track: 321:   0%|          | 0/60 [00:00<?, ?it/s]"
      ]
     },
     "metadata": {},
     "output_type": "display_data"
    },
    {
     "data": {
      "application/vnd.jupyter.widget-view+json": {
       "model_id": "c9712307e89f4d2aa8cc6d284e7028e8",
       "version_major": 2,
       "version_minor": 0
      },
      "text/plain": [
       "Calculating mtb area for every frame in track: 1345:   0%|          | 0/64 [00:00<?, ?it/s]"
      ]
     },
     "metadata": {},
     "output_type": "display_data"
    },
    {
     "data": {
      "application/vnd.jupyter.widget-view+json": {
       "model_id": "88078c12fe6f4b8996f351909b14841f",
       "version_major": 2,
       "version_minor": 0
      },
      "text/plain": [
       "Calculating mtb area for every frame in track: 324:   0%|          | 0/62 [00:00<?, ?it/s]"
      ]
     },
     "metadata": {},
     "output_type": "display_data"
    },
    {
     "data": {
      "application/vnd.jupyter.widget-view+json": {
       "model_id": "ca86bd0508e34085a1511c4d9b4b4795",
       "version_major": 2,
       "version_minor": 0
      },
      "text/plain": [
       "Calculating mtb area for every frame in track: 2886:   0%|          | 0/32 [00:00<?, ?it/s]"
      ]
     },
     "metadata": {},
     "output_type": "display_data"
    },
    {
     "data": {
      "application/vnd.jupyter.widget-view+json": {
       "model_id": "57870d0d4136432386aeaa7817e9f0c1",
       "version_major": 2,
       "version_minor": 0
      },
      "text/plain": [
       "Calculating mtb area for every frame in track: 3402:   0%|          | 0/19 [00:00<?, ?it/s]"
      ]
     },
     "metadata": {},
     "output_type": "display_data"
    },
    {
     "data": {
      "application/vnd.jupyter.widget-view+json": {
       "model_id": "1fb5519bfba74dcf82ef70de92fac346",
       "version_major": 2,
       "version_minor": 0
      },
      "text/plain": [
       "Calculating mtb area for every frame in track: 1354:   0%|          | 0/64 [00:00<?, ?it/s]"
      ]
     },
     "metadata": {},
     "output_type": "display_data"
    },
    {
     "data": {
      "application/vnd.jupyter.widget-view+json": {
       "model_id": "c6feb0f25924461c87c83558c7e617bc",
       "version_major": 2,
       "version_minor": 0
      },
      "text/plain": [
       "Calculating mtb area for every frame in track: 1356:   0%|          | 0/64 [00:00<?, ?it/s]"
      ]
     },
     "metadata": {},
     "output_type": "display_data"
    },
    {
     "data": {
      "application/vnd.jupyter.widget-view+json": {
       "model_id": "de9135a796bb482583190bf4ea2f9ca9",
       "version_major": 2,
       "version_minor": 0
      },
      "text/plain": [
       "Calculating mtb area for every frame in track: 1868:   0%|          | 0/54 [00:00<?, ?it/s]"
      ]
     },
     "metadata": {},
     "output_type": "display_data"
    },
    {
     "data": {
      "application/vnd.jupyter.widget-view+json": {
       "model_id": "ee8f177265bb4b50942bdd14f0b84313",
       "version_major": 2,
       "version_minor": 0
      },
      "text/plain": [
       "Calculating mtb area for every frame in track: 1358:   0%|          | 0/41 [00:00<?, ?it/s]"
      ]
     },
     "metadata": {},
     "output_type": "display_data"
    },
    {
     "data": {
      "application/vnd.jupyter.widget-view+json": {
       "model_id": "f5045bbd3ec04aab88c389ee225c470f",
       "version_major": 2,
       "version_minor": 0
      },
      "text/plain": [
       "Calculating mtb area for every frame in track: 855:   0%|          | 0/70 [00:00<?, ?it/s]"
      ]
     },
     "metadata": {},
     "output_type": "display_data"
    },
    {
     "data": {
      "application/vnd.jupyter.widget-view+json": {
       "model_id": "dda140abe45f4d11ac4303bb54a103c8",
       "version_major": 2,
       "version_minor": 0
      },
      "text/plain": [
       "Calculating mtb area for every frame in track: 344:   0%|          | 0/64 [00:00<?, ?it/s]"
      ]
     },
     "metadata": {},
     "output_type": "display_data"
    },
    {
     "data": {
      "application/vnd.jupyter.widget-view+json": {
       "model_id": "e4cdd749cf6c461f9bbc4d9110648581",
       "version_major": 2,
       "version_minor": 0
      },
      "text/plain": [
       "Calculating mtb area for every frame in track: 354:   0%|          | 0/63 [00:00<?, ?it/s]"
      ]
     },
     "metadata": {},
     "output_type": "display_data"
    },
    {
     "data": {
      "application/vnd.jupyter.widget-view+json": {
       "model_id": "b7ed22a074634ff3a6ea9a9ba40a0701",
       "version_major": 2,
       "version_minor": 0
      },
      "text/plain": [
       "Calculating mtb area for every frame in track: 867:   0%|          | 0/69 [00:00<?, ?it/s]"
      ]
     },
     "metadata": {},
     "output_type": "display_data"
    },
    {
     "data": {
      "application/vnd.jupyter.widget-view+json": {
       "model_id": "317d5cb43cea47d4a0f34fac4670e498",
       "version_major": 2,
       "version_minor": 0
      },
      "text/plain": [
       "Calculating mtb area for every frame in track: 1378:   0%|          | 0/19 [00:00<?, ?it/s]"
      ]
     },
     "metadata": {},
     "output_type": "display_data"
    },
    {
     "data": {
      "application/vnd.jupyter.widget-view+json": {
       "model_id": "364fa06f574341d28351c46e75b72d43",
       "version_major": 2,
       "version_minor": 0
      },
      "text/plain": [
       "Calculating mtb area for every frame in track: 2922:   0%|          | 0/32 [00:00<?, ?it/s]"
      ]
     },
     "metadata": {},
     "output_type": "display_data"
    },
    {
     "data": {
      "application/vnd.jupyter.widget-view+json": {
       "model_id": "9addf96f86a4487687a6cf98e2167f92",
       "version_major": 2,
       "version_minor": 0
      },
      "text/plain": [
       "Calculating mtb area for every frame in track: 1387:   0%|          | 0/64 [00:00<?, ?it/s]"
      ]
     },
     "metadata": {},
     "output_type": "display_data"
    },
    {
     "data": {
      "application/vnd.jupyter.widget-view+json": {
       "model_id": "280a96f1f92345458efc075229945799",
       "version_major": 2,
       "version_minor": 0
      },
      "text/plain": [
       "Calculating mtb area for every frame in track: 2422:   0%|          | 0/43 [00:00<?, ?it/s]"
      ]
     },
     "metadata": {},
     "output_type": "display_data"
    },
    {
     "data": {
      "application/vnd.jupyter.widget-view+json": {
       "model_id": "eba2fc77caac4bf282fc75ff318a9bfa",
       "version_major": 2,
       "version_minor": 0
      },
      "text/plain": [
       "Calculating mtb area for every frame in track: 376:   0%|          | 0/20 [00:00<?, ?it/s]"
      ]
     },
     "metadata": {},
     "output_type": "display_data"
    },
    {
     "data": {
      "application/vnd.jupyter.widget-view+json": {
       "model_id": "cc716a97781440c1858a704054f0183b",
       "version_major": 2,
       "version_minor": 0
      },
      "text/plain": [
       "Calculating mtb area for every frame in track: 888:   0%|          | 0/69 [00:00<?, ?it/s]"
      ]
     },
     "metadata": {},
     "output_type": "display_data"
    },
    {
     "data": {
      "application/vnd.jupyter.widget-view+json": {
       "model_id": "b47e5a2e086c4bd2bde41517e5ec0fcc",
       "version_major": 2,
       "version_minor": 0
      },
      "text/plain": [
       "Calculating mtb area for every frame in track: 889:   0%|          | 0/60 [00:00<?, ?it/s]"
      ]
     },
     "metadata": {},
     "output_type": "display_data"
    },
    {
     "data": {
      "application/vnd.jupyter.widget-view+json": {
       "model_id": "69632817ddb6456c8fa09e898e7d2679",
       "version_major": 2,
       "version_minor": 0
      },
      "text/plain": [
       "Calculating mtb area for every frame in track: 1402:   0%|          | 0/54 [00:00<?, ?it/s]"
      ]
     },
     "metadata": {},
     "output_type": "display_data"
    },
    {
     "data": {
      "application/vnd.jupyter.widget-view+json": {
       "model_id": "9282fbd5ff704e4cbec3632be301f798",
       "version_major": 2,
       "version_minor": 0
      },
      "text/plain": [
       "Calculating mtb area for every frame in track: 1918:   0%|          | 0/52 [00:00<?, ?it/s]"
      ]
     },
     "metadata": {},
     "output_type": "display_data"
    },
    {
     "data": {
      "application/vnd.jupyter.widget-view+json": {
       "model_id": "e9902dfd286e4644834ba93d53189f7f",
       "version_major": 2,
       "version_minor": 0
      },
      "text/plain": [
       "Calculating mtb area for every frame in track: 384:   0%|          | 0/47 [00:00<?, ?it/s]"
      ]
     },
     "metadata": {},
     "output_type": "display_data"
    },
    {
     "data": {
      "application/vnd.jupyter.widget-view+json": {
       "model_id": "0e4deba418c94a20a2cc90dbc36604d0",
       "version_major": 2,
       "version_minor": 0
      },
      "text/plain": [
       "Calculating mtb area for every frame in track: 2434:   0%|          | 0/42 [00:00<?, ?it/s]"
      ]
     },
     "metadata": {},
     "output_type": "display_data"
    },
    {
     "data": {
      "application/vnd.jupyter.widget-view+json": {
       "model_id": "734f92b060924ab4aa03089f2ed3b986",
       "version_major": 2,
       "version_minor": 0
      },
      "text/plain": [
       "Calculating mtb area for every frame in track: 902:   0%|          | 0/34 [00:00<?, ?it/s]"
      ]
     },
     "metadata": {},
     "output_type": "display_data"
    },
    {
     "data": {
      "application/vnd.jupyter.widget-view+json": {
       "model_id": "f4680c5305d14c99ab69b34426325c9b",
       "version_major": 2,
       "version_minor": 0
      },
      "text/plain": [
       "Calculating mtb area for every frame in track: 2440:   0%|          | 0/34 [00:00<?, ?it/s]"
      ]
     },
     "metadata": {},
     "output_type": "display_data"
    },
    {
     "data": {
      "application/vnd.jupyter.widget-view+json": {
       "model_id": "073138a76b2442fc98b0e05d007a494a",
       "version_major": 2,
       "version_minor": 0
      },
      "text/plain": [
       "Calculating mtb area for every frame in track: 1417:   0%|          | 0/63 [00:00<?, ?it/s]"
      ]
     },
     "metadata": {},
     "output_type": "display_data"
    },
    {
     "data": {
      "application/vnd.jupyter.widget-view+json": {
       "model_id": "9d70fc13377741e894028a98cd8003a9",
       "version_major": 2,
       "version_minor": 0
      },
      "text/plain": [
       "Calculating mtb area for every frame in track: 397:   0%|          | 0/44 [00:00<?, ?it/s]"
      ]
     },
     "metadata": {},
     "output_type": "display_data"
    },
    {
     "data": {
      "application/vnd.jupyter.widget-view+json": {
       "model_id": "7ec858255a2249879fd84454e4936027",
       "version_major": 2,
       "version_minor": 0
      },
      "text/plain": [
       "Calculating mtb area for every frame in track: 1427:   0%|          | 0/25 [00:00<?, ?it/s]"
      ]
     },
     "metadata": {},
     "output_type": "display_data"
    },
    {
     "data": {
      "application/vnd.jupyter.widget-view+json": {
       "model_id": "c899aaa084024c819326a7f0fb2904aa",
       "version_major": 2,
       "version_minor": 0
      },
      "text/plain": [
       "Calculating mtb area for every frame in track: 407:   0%|          | 0/69 [00:00<?, ?it/s]"
      ]
     },
     "metadata": {},
     "output_type": "display_data"
    },
    {
     "data": {
      "application/vnd.jupyter.widget-view+json": {
       "model_id": "7df51c02bc88450390c4ff4f675754af",
       "version_major": 2,
       "version_minor": 0
      },
      "text/plain": [
       "Calculating mtb area for every frame in track: 410:   0%|          | 0/56 [00:00<?, ?it/s]"
      ]
     },
     "metadata": {},
     "output_type": "display_data"
    },
    {
     "data": {
      "application/vnd.jupyter.widget-view+json": {
       "model_id": "399da0f004284748a141d60f4e2e6793",
       "version_major": 2,
       "version_minor": 0
      },
      "text/plain": [
       "Calculating mtb area for every frame in track: 2971:   0%|          | 0/20 [00:00<?, ?it/s]"
      ]
     },
     "metadata": {},
     "output_type": "display_data"
    },
    {
     "data": {
      "application/vnd.jupyter.widget-view+json": {
       "model_id": "e083bc6986db4bb5a7912b12b6d8d3c3",
       "version_major": 2,
       "version_minor": 0
      },
      "text/plain": [
       "Calculating mtb area for every frame in track: 1948:   0%|          | 0/52 [00:00<?, ?it/s]"
      ]
     },
     "metadata": {},
     "output_type": "display_data"
    },
    {
     "data": {
      "application/vnd.jupyter.widget-view+json": {
       "model_id": "c5cdcaf521f74c18a0e7042e39498451",
       "version_major": 2,
       "version_minor": 0
      },
      "text/plain": [
       "Calculating mtb area for every frame in track: 415:   0%|          | 0/50 [00:00<?, ?it/s]"
      ]
     },
     "metadata": {},
     "output_type": "display_data"
    },
    {
     "data": {
      "application/vnd.jupyter.widget-view+json": {
       "model_id": "2606dc0087af40f895123d0a93eed063",
       "version_major": 2,
       "version_minor": 0
      },
      "text/plain": [
       "Calculating mtb area for every frame in track: 416:   0%|          | 0/68 [00:00<?, ?it/s]"
      ]
     },
     "metadata": {},
     "output_type": "display_data"
    },
    {
     "data": {
      "application/vnd.jupyter.widget-view+json": {
       "model_id": "94012995ece642748f7d5231362c7d43",
       "version_major": 2,
       "version_minor": 0
      },
      "text/plain": [
       "Calculating mtb area for every frame in track: 2976:   0%|          | 0/30 [00:00<?, ?it/s]"
      ]
     },
     "metadata": {},
     "output_type": "display_data"
    },
    {
     "data": {
      "application/vnd.jupyter.widget-view+json": {
       "model_id": "64e956d8e46a46478b97a7aa90fb2e89",
       "version_major": 2,
       "version_minor": 0
      },
      "text/plain": [
       "Calculating mtb area for every frame in track: 2977:   0%|          | 0/29 [00:00<?, ?it/s]"
      ]
     },
     "metadata": {},
     "output_type": "display_data"
    },
    {
     "data": {
      "application/vnd.jupyter.widget-view+json": {
       "model_id": "1cd1a384f8af455686d88b08ae3d4e66",
       "version_major": 2,
       "version_minor": 0
      },
      "text/plain": [
       "Calculating mtb area for every frame in track: 419:   0%|          | 0/13 [00:00<?, ?it/s]"
      ]
     },
     "metadata": {},
     "output_type": "display_data"
    },
    {
     "data": {
      "application/vnd.jupyter.widget-view+json": {
       "model_id": "d4cd66c444114cd491b86638e11804a1",
       "version_major": 2,
       "version_minor": 0
      },
      "text/plain": [
       "Calculating mtb area for every frame in track: 420:   0%|          | 0/30 [00:00<?, ?it/s]"
      ]
     },
     "metadata": {},
     "output_type": "display_data"
    },
    {
     "data": {
      "application/vnd.jupyter.widget-view+json": {
       "model_id": "a6ce5e1c4b364872801edb499d532e50",
       "version_major": 2,
       "version_minor": 0
      },
      "text/plain": [
       "Calculating mtb area for every frame in track: 423:   0%|          | 0/75 [00:00<?, ?it/s]"
      ]
     },
     "metadata": {},
     "output_type": "display_data"
    },
    {
     "data": {
      "application/vnd.jupyter.widget-view+json": {
       "model_id": "186dcb41af884b02b27fec564d5ccbea",
       "version_major": 2,
       "version_minor": 0
      },
      "text/plain": [
       "Calculating mtb area for every frame in track: 424:   0%|          | 0/50 [00:00<?, ?it/s]"
      ]
     },
     "metadata": {},
     "output_type": "display_data"
    },
    {
     "data": {
      "application/vnd.jupyter.widget-view+json": {
       "model_id": "ae53e200827d4fb688c53c2d5e476e5b",
       "version_major": 2,
       "version_minor": 0
      },
      "text/plain": [
       "Calculating mtb area for every frame in track: 425:   0%|          | 0/34 [00:00<?, ?it/s]"
      ]
     },
     "metadata": {},
     "output_type": "display_data"
    },
    {
     "data": {
      "application/vnd.jupyter.widget-view+json": {
       "model_id": "ac12c362aaac426baf96f31b2ba777e7",
       "version_major": 2,
       "version_minor": 0
      },
      "text/plain": [
       "Calculating mtb area for every frame in track: 426:   0%|          | 0/34 [00:00<?, ?it/s]"
      ]
     },
     "metadata": {},
     "output_type": "display_data"
    },
    {
     "data": {
      "application/vnd.jupyter.widget-view+json": {
       "model_id": "cd6860e8e4134d2693e59dee697ac042",
       "version_major": 2,
       "version_minor": 0
      },
      "text/plain": [
       "Calculating mtb area for every frame in track: 1960:   0%|          | 0/12 [00:00<?, ?it/s]"
      ]
     },
     "metadata": {},
     "output_type": "display_data"
    },
    {
     "data": {
      "application/vnd.jupyter.widget-view+json": {
       "model_id": "bf2d9c19540242f9b61138597e47a9ec",
       "version_major": 2,
       "version_minor": 0
      },
      "text/plain": [
       "Calculating mtb area for every frame in track: 431:   0%|          | 0/56 [00:00<?, ?it/s]"
      ]
     },
     "metadata": {},
     "output_type": "display_data"
    },
    {
     "data": {
      "application/vnd.jupyter.widget-view+json": {
       "model_id": "d7e76c429f764f96a1c64b34af985efa",
       "version_major": 2,
       "version_minor": 0
      },
      "text/plain": [
       "Calculating mtb area for every frame in track: 432:   0%|          | 0/66 [00:00<?, ?it/s]"
      ]
     },
     "metadata": {},
     "output_type": "display_data"
    },
    {
     "data": {
      "application/vnd.jupyter.widget-view+json": {
       "model_id": "decab6c675434b909fa7437fc974ba63",
       "version_major": 2,
       "version_minor": 0
      },
      "text/plain": [
       "Calculating mtb area for every frame in track: 948:   0%|          | 0/38 [00:00<?, ?it/s]"
      ]
     },
     "metadata": {},
     "output_type": "display_data"
    },
    {
     "data": {
      "application/vnd.jupyter.widget-view+json": {
       "model_id": "f8164eab275141e99df833d1687878ca",
       "version_major": 2,
       "version_minor": 0
      },
      "text/plain": [
       "Calculating mtb area for every frame in track: 1461:   0%|          | 0/61 [00:00<?, ?it/s]"
      ]
     },
     "metadata": {},
     "output_type": "display_data"
    },
    {
     "data": {
      "application/vnd.jupyter.widget-view+json": {
       "model_id": "9c000818406e433e8f3b1abbfca0e80b",
       "version_major": 2,
       "version_minor": 0
      },
      "text/plain": [
       "Calculating mtb area for every frame in track: 1972:   0%|          | 0/52 [00:00<?, ?it/s]"
      ]
     },
     "metadata": {},
     "output_type": "display_data"
    },
    {
     "data": {
      "application/vnd.jupyter.widget-view+json": {
       "model_id": "26beb576199c4214a7a1668a8929a7ae",
       "version_major": 2,
       "version_minor": 0
      },
      "text/plain": [
       "Calculating mtb area for every frame in track: 441:   0%|          | 0/48 [00:00<?, ?it/s]"
      ]
     },
     "metadata": {},
     "output_type": "display_data"
    },
    {
     "data": {
      "application/vnd.jupyter.widget-view+json": {
       "model_id": "eed9a9944ddb4758b7c1a6758fc37903",
       "version_major": 2,
       "version_minor": 0
      },
      "text/plain": [
       "Calculating mtb area for every frame in track: 2492:   0%|          | 0/41 [00:00<?, ?it/s]"
      ]
     },
     "metadata": {},
     "output_type": "display_data"
    },
    {
     "data": {
      "application/vnd.jupyter.widget-view+json": {
       "model_id": "0879ea2e8eff478c9de383260bba0809",
       "version_major": 2,
       "version_minor": 0
      },
      "text/plain": [
       "Calculating mtb area for every frame in track: 1468:   0%|          | 0/62 [00:00<?, ?it/s]"
      ]
     },
     "metadata": {},
     "output_type": "display_data"
    },
    {
     "data": {
      "application/vnd.jupyter.widget-view+json": {
       "model_id": "473ae60251f747f586002518c777ce24",
       "version_major": 2,
       "version_minor": 0
      },
      "text/plain": [
       "Calculating mtb area for every frame in track: 1481:   0%|          | 0/43 [00:00<?, ?it/s]"
      ]
     },
     "metadata": {},
     "output_type": "display_data"
    },
    {
     "data": {
      "application/vnd.jupyter.widget-view+json": {
       "model_id": "824c8d8fdd8b4e8599130a57f038439d",
       "version_major": 2,
       "version_minor": 0
      },
      "text/plain": [
       "Calculating mtb area for every frame in track: 461:   0%|          | 0/24 [00:00<?, ?it/s]"
      ]
     },
     "metadata": {},
     "output_type": "display_data"
    },
    {
     "data": {
      "application/vnd.jupyter.widget-view+json": {
       "model_id": "03e0d1e0f7b2422eb8cd97ee3d707815",
       "version_major": 2,
       "version_minor": 0
      },
      "text/plain": [
       "Calculating mtb area for every frame in track: 1485:   0%|          | 0/61 [00:00<?, ?it/s]"
      ]
     },
     "metadata": {},
     "output_type": "display_data"
    },
    {
     "data": {
      "application/vnd.jupyter.widget-view+json": {
       "model_id": "3b71053c4e26422aaf2af96d920ded28",
       "version_major": 2,
       "version_minor": 0
      },
      "text/plain": [
       "Calculating mtb area for every frame in track: 1999:   0%|          | 0/18 [00:00<?, ?it/s]"
      ]
     },
     "metadata": {},
     "output_type": "display_data"
    },
    {
     "data": {
      "application/vnd.jupyter.widget-view+json": {
       "model_id": "c994fa9f5f6242b18240d7b2d2b54a8a",
       "version_major": 2,
       "version_minor": 0
      },
      "text/plain": [
       "Calculating mtb area for every frame in track: 3026:   0%|          | 0/28 [00:00<?, ?it/s]"
      ]
     },
     "metadata": {},
     "output_type": "display_data"
    },
    {
     "data": {
      "application/vnd.jupyter.widget-view+json": {
       "model_id": "5674e9c058804b458c8b8ef9ee380c13",
       "version_major": 2,
       "version_minor": 0
      },
      "text/plain": [
       "Calculating mtb area for every frame in track: 473:   0%|          | 0/56 [00:00<?, ?it/s]"
      ]
     },
     "metadata": {},
     "output_type": "display_data"
    },
    {
     "data": {
      "application/vnd.jupyter.widget-view+json": {
       "model_id": "9169f2dab3bf43349892b62604cc1aeb",
       "version_major": 2,
       "version_minor": 0
      },
      "text/plain": [
       "Calculating mtb area for every frame in track: 3033:   0%|          | 0/29 [00:00<?, ?it/s]"
      ]
     },
     "metadata": {},
     "output_type": "display_data"
    },
    {
     "data": {
      "application/vnd.jupyter.widget-view+json": {
       "model_id": "16249934968a4c73827e86eca1428bea",
       "version_major": 2,
       "version_minor": 0
      },
      "text/plain": [
       "Calculating mtb area for every frame in track: 986:   0%|          | 0/34 [00:00<?, ?it/s]"
      ]
     },
     "metadata": {},
     "output_type": "display_data"
    },
    {
     "data": {
      "application/vnd.jupyter.widget-view+json": {
       "model_id": "06066e21d3ed463db486e089fe15af0a",
       "version_major": 2,
       "version_minor": 0
      },
      "text/plain": [
       "Calculating mtb area for every frame in track: 988:   0%|          | 0/70 [00:00<?, ?it/s]"
      ]
     },
     "metadata": {},
     "output_type": "display_data"
    },
    {
     "data": {
      "application/vnd.jupyter.widget-view+json": {
       "model_id": "9e4610da8b7c467d9b471a7c3260439f",
       "version_major": 2,
       "version_minor": 0
      },
      "text/plain": [
       "Calculating mtb area for every frame in track: 2014:   0%|          | 0/51 [00:00<?, ?it/s]"
      ]
     },
     "metadata": {},
     "output_type": "display_data"
    },
    {
     "data": {
      "application/vnd.jupyter.widget-view+json": {
       "model_id": "c9070387101a457e8bf8c9df4a8bd007",
       "version_major": 2,
       "version_minor": 0
      },
      "text/plain": [
       "Calculating mtb area for every frame in track: 479:   0%|          | 0/20 [00:00<?, ?it/s]"
      ]
     },
     "metadata": {},
     "output_type": "display_data"
    },
    {
     "data": {
      "application/vnd.jupyter.widget-view+json": {
       "model_id": "f7d1e908acb74ecd9b59ad8a4422a2b1",
       "version_major": 2,
       "version_minor": 0
      },
      "text/plain": [
       "Calculating mtb area for every frame in track: 1506:   0%|          | 0/61 [00:00<?, ?it/s]"
      ]
     },
     "metadata": {},
     "output_type": "display_data"
    },
    {
     "data": {
      "application/vnd.jupyter.widget-view+json": {
       "model_id": "15b93e3939bb428187513064fb56569d",
       "version_major": 2,
       "version_minor": 0
      },
      "text/plain": [
       "Calculating mtb area for every frame in track: 996:   0%|          | 0/69 [00:00<?, ?it/s]"
      ]
     },
     "metadata": {},
     "output_type": "display_data"
    },
    {
     "data": {
      "application/vnd.jupyter.widget-view+json": {
       "model_id": "61aa0bbe72344965ba40f9b10dda51a8",
       "version_major": 2,
       "version_minor": 0
      },
      "text/plain": [
       "Calculating mtb area for every frame in track: 997:   0%|          | 0/70 [00:00<?, ?it/s]"
      ]
     },
     "metadata": {},
     "output_type": "display_data"
    },
    {
     "data": {
      "application/vnd.jupyter.widget-view+json": {
       "model_id": "ab17886a1f2a4b5caed3ec20f02305c0",
       "version_major": 2,
       "version_minor": 0
      },
      "text/plain": [
       "Calculating mtb area for every frame in track: 2535:   0%|          | 0/40 [00:00<?, ?it/s]"
      ]
     },
     "metadata": {},
     "output_type": "display_data"
    },
    {
     "data": {
      "application/vnd.jupyter.widget-view+json": {
       "model_id": "386d3c3bea4b4cdbad7d88f9ce5f34cf",
       "version_major": 2,
       "version_minor": 0
      },
      "text/plain": [
       "Calculating mtb area for every frame in track: 2024:   0%|          | 0/44 [00:00<?, ?it/s]"
      ]
     },
     "metadata": {},
     "output_type": "display_data"
    },
    {
     "data": {
      "application/vnd.jupyter.widget-view+json": {
       "model_id": "e70360e7fcc94485abb5f30d6ec04e52",
       "version_major": 2,
       "version_minor": 0
      },
      "text/plain": [
       "Calculating mtb area for every frame in track: 491:   0%|          | 0/63 [00:00<?, ?it/s]"
      ]
     },
     "metadata": {},
     "output_type": "display_data"
    },
    {
     "data": {
      "application/vnd.jupyter.widget-view+json": {
       "model_id": "94f69bff1b1c4f17a11058f899e17981",
       "version_major": 2,
       "version_minor": 0
      },
      "text/plain": [
       "Calculating mtb area for every frame in track: 1003:   0%|          | 0/37 [00:00<?, ?it/s]"
      ]
     },
     "metadata": {},
     "output_type": "display_data"
    },
    {
     "data": {
      "application/vnd.jupyter.widget-view+json": {
       "model_id": "c562143f11f74d64a93e9b584e17e47b",
       "version_major": 2,
       "version_minor": 0
      },
      "text/plain": [
       "Calculating mtb area for every frame in track: 493:   0%|          | 0/69 [00:00<?, ?it/s]"
      ]
     },
     "metadata": {},
     "output_type": "display_data"
    },
    {
     "data": {
      "application/vnd.jupyter.widget-view+json": {
       "model_id": "1d355d4b9606470ea247aab8cbcccabe",
       "version_major": 2,
       "version_minor": 0
      },
      "text/plain": [
       "Calculating mtb area for every frame in track: 1007:   0%|          | 0/25 [00:00<?, ?it/s]"
      ]
     },
     "metadata": {},
     "output_type": "display_data"
    },
    {
     "data": {
      "application/vnd.jupyter.widget-view+json": {
       "model_id": "6d1f1ea9ea1f48b8a637e0bb4fb4b3f6",
       "version_major": 2,
       "version_minor": 0
      },
      "text/plain": [
       "Calculating mtb area for every frame in track: 499:   0%|          | 0/37 [00:00<?, ?it/s]"
      ]
     },
     "metadata": {},
     "output_type": "display_data"
    },
    {
     "data": {
      "application/vnd.jupyter.widget-view+json": {
       "model_id": "13dfd1c792ba4861a8dd2bc20f27423d",
       "version_major": 2,
       "version_minor": 0
      },
      "text/plain": [
       "Calculating mtb area for every frame in track: 1015:   0%|          | 0/70 [00:00<?, ?it/s]"
      ]
     },
     "metadata": {},
     "output_type": "display_data"
    }
   ],
   "source": [
    "track_IDs = to_do_IDs\n",
    "mtb_areas_dict = {}\n",
    "dfs = []\n",
    "for track_ID in tqdm(track_IDs, total = len(track_IDs)):\n",
    "    track = [t for t in tracks if t.ID == track_ID][0]\n",
    "    info = assay_layout.loc[acq_ID]\n",
    "    mtb_areas = tools.measure_mtb_area(track, masks, rfp_images)\n",
    "    # initial infection status \n",
    "    # init_infec_status = [True for t in track.t if any(mtb_areas[0:5])]\n",
    "    ### compile single track dictionary of info\n",
    "    d = {'Time (hours)':track['t'], \n",
    "         'Mtb Area µm2': mtb_areas,\n",
    "         'x':track['x'],\n",
    "         'y':track['y'],\n",
    "         # 'Infection status':track['Infected'],\n",
    "         # 'Initial infection status':track['Infected'][0], \n",
    "         # 'Final infection status':track['Infected'][-1], \n",
    "         'Mphi Area':track['area'], \n",
    "         'Mtb RFP':track['mean_intensity'][:, 1],\n",
    "         'Mtb RFP threshold':track['mean_intensity'][:, 2],\n",
    "         'Mphi GFP':track['mean_intensity'][:, 0],\n",
    "         'Eccentricity':np.sqrt(1-((track['minor_axis_length']**2)/(track['major_axis_length']**2))),\n",
    "         'MSD': [tools.euc_dist(track['x'][i-1], \n",
    "                                track['y'][i-1], \n",
    "                                track['x'][i], \n",
    "                                track['y'][i]) \n",
    "                  if i != 0 else 0\n",
    "                  for i in range(0, len(track))],\n",
    "         'Strain':[info['Strain'] for i in range(len(track['t']))], \n",
    "         'Compound':[info['Compound'] for i in range(len(track['t']))], \n",
    "         'Concentration':[info['ConcentrationEC'] for i in range(len(track['t']))], \n",
    "         'Cell ID':[track.ID for i in range(len(track['t']))],\n",
    "         'Acquisition ID':[acq_ID for i in range(len(track['t']))], \n",
    "         'Unique ID': [f'{track.ID}.{acq_ID}' for i in range(len(track['t']))]}\n",
    "\n",
    "    mtb_areas_dict[f'{track.ID}.{acq_ID}'] = mtb_areas\n",
    "    ### append df to list of dfs\n",
    "    dfs.append(pd.DataFrame(d))\n",
    "### concat single track dfs into big df\n",
    "df2 = pd.concat(dfs, ignore_index=True)\n",
    "#rename rd1\n",
    "df2['Strain/Compound'] = df2['Compound']  # Create a new column and copy values from 'Compound'\n",
    "# Replace values in 'NewColumn' where 'Strain' is 'RD1' with 'RD1'\n",
    "df2.loc[df2['Strain'] == 'RD1', 'Strain/Compound'] = 'RD1'\n",
    "# save out \n",
    "df2.to_pickle(f'/mnt/DATA/macrohet/{expt_ID}/results/preliminary_sc_measures/sc_dfs/{acq_ID}_sc_df_GT_dev_otherGT_trax_zarr.pkl')"
   ]
  }
 ],
 "metadata": {
  "kernelspec": {
   "display_name": "brassica",
   "language": "python",
   "name": "brassica"
  },
  "language_info": {
   "codemirror_mode": {
    "name": "ipython",
    "version": 3
   },
   "file_extension": ".py",
   "mimetype": "text/x-python",
   "name": "python",
   "nbconvert_exporter": "python",
   "pygments_lexer": "ipython3",
   "version": "3.9.17"
  }
 },
 "nbformat": 4,
 "nbformat_minor": 5
}
