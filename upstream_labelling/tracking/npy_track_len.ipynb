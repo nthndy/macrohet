{
 "cells": [
  {
   "cell_type": "code",
   "execution_count": 8,
   "id": "85daa7bf-a50b-472c-82a2-8af8c0fd7cac",
   "metadata": {},
   "outputs": [],
   "source": [
    "import numpy as np\n",
    "import btrack\n",
    "import os\n",
    "from natsort import natsorted"
   ]
  },
  {
   "cell_type": "code",
   "execution_count": 2,
   "id": "eddac59c-b9d0-44d9-8309-4f13d7f2f7d5",
   "metadata": {},
   "outputs": [],
   "source": [
    "fns = [fn for fn in os.listdir('./') if 'napari_tracks' in fn and 'filtered' not in fn]"
   ]
  },
  {
   "cell_type": "code",
   "execution_count": 3,
   "id": "513296d2-4e2e-4fc9-97d5-d2d3e8309e1b",
   "metadata": {},
   "outputs": [],
   "source": [
    "fns = [fn for fn in os.listdir('./') if 'filtered' in fn and 'ND0002' in fn]"
   ]
  },
  {
   "cell_type": "code",
   "execution_count": 4,
   "id": "c9bc4bce-b91f-4f39-a3b8-f53478f04337",
   "metadata": {},
   "outputs": [
    {
     "data": {
      "text/plain": [
       "['ND0002.3.1_filtered_napari_tracks.npy',\n",
       " 'ND0002.3.2_filtered_napari_tracks.npy',\n",
       " 'ND0002.3.3_filtered_napari_tracks.npy',\n",
       " 'ND0002.3.4_filtered_napari_tracks.npy',\n",
       " 'ND0002.3.5_filtered_napari_tracks.npy',\n",
       " 'ND0002.3.6_filtered_napari_tracks.npy',\n",
       " 'ND0002.3.7_filtered_napari_tracks.npy',\n",
       " 'ND0002.3.8_filtered_napari_tracks.npy',\n",
       " 'ND0002.3.9_filtered_napari_tracks.npy',\n",
       " 'ND0002.3.10_filtered_napari_tracks.npy',\n",
       " 'ND0002.3.11_filtered_napari_tracks.npy',\n",
       " 'ND0002.3.12_filtered_napari_tracks.npy',\n",
       " 'ND0002.4.3_filtered_napari_tracks.npy',\n",
       " 'ND0002.4.4_filtered_napari_tracks.npy',\n",
       " 'ND0002.4.5_filtered_napari_tracks.npy',\n",
       " 'ND0002.4.6_filtered_napari_tracks.npy',\n",
       " 'ND0002.4.7_filtered_napari_tracks.npy',\n",
       " 'ND0002.4.8_filtered_napari_tracks.npy',\n",
       " 'ND0002.4.9_filtered_napari_tracks.npy',\n",
       " 'ND0002.4.10_filtered_napari_tracks.npy',\n",
       " 'ND0002.4.11_filtered_napari_tracks.npy',\n",
       " 'ND0002.4.12_filtered_napari_tracks.npy',\n",
       " 'ND0002.5.3_filtered_napari_tracks.npy',\n",
       " 'ND0002.5.4_filtered_napari_tracks.npy',\n",
       " 'ND0002.5.5_filtered_napari_tracks.npy',\n",
       " 'ND0002.5.6_filtered_napari_tracks.npy',\n",
       " 'ND0002.5.7_filtered_napari_tracks.npy',\n",
       " 'ND0002.5.8_filtered_napari_tracks.npy',\n",
       " 'ND0002.5.9_filtered_napari_tracks.npy',\n",
       " 'ND0002.5.10_filtered_napari_tracks.npy',\n",
       " 'ND0002.5.11_filtered_napari_tracks.npy',\n",
       " 'ND0002.5.12_filtered_napari_tracks.npy',\n",
       " 'ND0002.6.4_filtered_napari_tracks.npy',\n",
       " 'ND0002.6.5_filtered_napari_tracks.npy',\n",
       " 'ND0002.6.6_filtered_napari_tracks.npy',\n",
       " 'ND0002.6.7_filtered_napari_tracks.npy',\n",
       " 'ND0002.6.8_filtered_napari_tracks.npy',\n",
       " 'ND0002.6.9_filtered_napari_tracks.npy',\n",
       " 'ND0002.6.10_filtered_napari_tracks.npy',\n",
       " 'ND0002.6.11_filtered_napari_tracks.npy',\n",
       " 'ND0002.6.12_filtered_napari_tracks.npy']"
      ]
     },
     "execution_count": 4,
     "metadata": {},
     "output_type": "execute_result"
    }
   ],
   "source": [
    "fns = natsorted(fns)\n",
    "fns"
   ]
  },
  {
   "cell_type": "code",
   "execution_count": 5,
   "id": "c76a2e32-b829-413b-8789-fe1327c27b7e",
   "metadata": {},
   "outputs": [],
   "source": [
    "track_lengths = dict()\n",
    "for fn in fns:\n",
    "    tracks = np.load(fn)\n",
    "    track_lengths[fn.split('_')[0]] = len(set(tracks[:,0]))"
   ]
  },
  {
   "cell_type": "code",
   "execution_count": 6,
   "id": "23e42884-ad6d-455a-a930-3a1167ea0fed",
   "metadata": {},
   "outputs": [
    {
     "data": {
      "text/plain": [
       "{'ND0002.3.1': 62,\n",
       " 'ND0002.3.2': 62,\n",
       " 'ND0002.3.3': 98,\n",
       " 'ND0002.3.4': 86,\n",
       " 'ND0002.3.5': 70,\n",
       " 'ND0002.3.6': 91,\n",
       " 'ND0002.3.7': 54,\n",
       " 'ND0002.3.8': 67,\n",
       " 'ND0002.3.9': 63,\n",
       " 'ND0002.3.10': 51,\n",
       " 'ND0002.3.11': 43,\n",
       " 'ND0002.3.12': 29,\n",
       " 'ND0002.4.3': 79,\n",
       " 'ND0002.4.4': 76,\n",
       " 'ND0002.4.5': 61,\n",
       " 'ND0002.4.6': 52,\n",
       " 'ND0002.4.7': 53,\n",
       " 'ND0002.4.8': 57,\n",
       " 'ND0002.4.9': 52,\n",
       " 'ND0002.4.10': 36,\n",
       " 'ND0002.4.11': 52,\n",
       " 'ND0002.4.12': 48,\n",
       " 'ND0002.5.3': 40,\n",
       " 'ND0002.5.4': 44,\n",
       " 'ND0002.5.5': 37,\n",
       " 'ND0002.5.6': 38,\n",
       " 'ND0002.5.7': 36,\n",
       " 'ND0002.5.8': 37,\n",
       " 'ND0002.5.9': 44,\n",
       " 'ND0002.5.10': 42,\n",
       " 'ND0002.5.11': 37,\n",
       " 'ND0002.5.12': 41,\n",
       " 'ND0002.6.4': 33,\n",
       " 'ND0002.6.5': 29,\n",
       " 'ND0002.6.6': 47,\n",
       " 'ND0002.6.7': 28,\n",
       " 'ND0002.6.8': 34,\n",
       " 'ND0002.6.9': 37,\n",
       " 'ND0002.6.10': 27,\n",
       " 'ND0002.6.11': 42,\n",
       " 'ND0002.6.12': 33}"
      ]
     },
     "execution_count": 6,
     "metadata": {},
     "output_type": "execute_result"
    }
   ],
   "source": [
    "track_lengths"
   ]
  },
  {
   "cell_type": "code",
   "execution_count": 43,
   "id": "56be8fa8-9179-4b8f-b994-dee530ab6e3c",
   "metadata": {},
   "outputs": [
    {
     "data": {
      "text/plain": [
       "54.3125"
      ]
     },
     "execution_count": 43,
     "metadata": {},
     "output_type": "execute_result"
    }
   ],
   "source": [
    "np.mean(list(track_lengths.values()))"
   ]
  },
  {
   "cell_type": "code",
   "execution_count": 44,
   "id": "6aa364d0-9977-4ebe-ad77-45b054da715a",
   "metadata": {},
   "outputs": [
    {
     "data": {
      "text/plain": [
       "17.149047896311913"
      ]
     },
     "execution_count": 44,
     "metadata": {},
     "output_type": "execute_result"
    }
   ],
   "source": [
    "np.std(list(track_lengths.values()))"
   ]
  },
  {
   "cell_type": "code",
   "execution_count": 73,
   "id": "d013ec85-22ea-4549-94c3-430254e30eab",
   "metadata": {},
   "outputs": [
    {
     "data": {
      "text/plain": [
       "41"
      ]
     },
     "execution_count": 73,
     "metadata": {},
     "output_type": "execute_result"
    }
   ],
   "source": [
    "len(track_lengths)"
   ]
  },
  {
   "cell_type": "markdown",
   "id": "211eaade-5760-49cb-b74a-b395ac7d407c",
   "metadata": {},
   "source": [
    "# ND0003"
   ]
  },
  {
   "cell_type": "code",
   "execution_count": 74,
   "id": "5bc3a9f4-b668-4615-953b-0e7812dac86d",
   "metadata": {},
   "outputs": [],
   "source": [
    "fns = [fn for fn in os.listdir('./') if 'filtered' in fn and 'ND0003' in fn]"
   ]
  },
  {
   "cell_type": "code",
   "execution_count": 75,
   "id": "1f0d2367-f5ec-4aa5-b627-dfcafaa12e5f",
   "metadata": {},
   "outputs": [
    {
     "data": {
      "text/plain": [
       "['ND0003.3.1_filtered_napari_tracks.npy',\n",
       " 'ND0003.3.2_filtered_napari_tracks.npy',\n",
       " 'ND0003.3.3_filtered_napari_tracks.npy',\n",
       " 'ND0003.3.4_filtered_napari_tracks.npy',\n",
       " 'ND0003.3.5_filtered_napari_tracks.npy',\n",
       " 'ND0003.3.6_filtered_napari_tracks.npy',\n",
       " 'ND0003.3.7_filtered_napari_tracks.npy',\n",
       " 'ND0003.3.8_filtered_napari_tracks.npy',\n",
       " 'ND0003.3.9_filtered_napari_tracks.npy',\n",
       " 'ND0003.3.10_filtered_napari_tracks.npy',\n",
       " 'ND0003.3.11_filtered_napari_tracks.npy',\n",
       " 'ND0003.3.12_filtered_napari_tracks.npy',\n",
       " 'ND0003.4.3_filtered_napari_tracks.npy',\n",
       " 'ND0003.4.4_filtered_napari_tracks.npy',\n",
       " 'ND0003.4.5_filtered_napari_tracks.npy',\n",
       " 'ND0003.4.6_filtered_napari_tracks.npy',\n",
       " 'ND0003.4.7_filtered_napari_tracks.npy',\n",
       " 'ND0003.4.8_filtered_napari_tracks.npy',\n",
       " 'ND0003.4.9_filtered_napari_tracks.npy',\n",
       " 'ND0003.4.10_filtered_napari_tracks.npy',\n",
       " 'ND0003.4.11_filtered_napari_tracks.npy',\n",
       " 'ND0003.4.12_filtered_napari_tracks.npy',\n",
       " 'ND0003.5.3_filtered_napari_tracks.npy']"
      ]
     },
     "execution_count": 75,
     "metadata": {},
     "output_type": "execute_result"
    }
   ],
   "source": [
    "fns = natsorted(fns)\n",
    "fns"
   ]
  },
  {
   "cell_type": "code",
   "execution_count": 76,
   "id": "59700118-d546-421c-ac42-ef8324acea0d",
   "metadata": {},
   "outputs": [],
   "source": [
    "track_lengths = dict()\n",
    "for fn in fns:\n",
    "    tracks = np.load(fn)\n",
    "    track_lengths[fn.split('_')[0]] = len(set(tracks[:,0]))"
   ]
  },
  {
   "cell_type": "code",
   "execution_count": 77,
   "id": "6af54e7e-7b76-43da-ba16-12577c0481fa",
   "metadata": {},
   "outputs": [
    {
     "data": {
      "text/plain": [
       "{'ND0003.3.1': 229,\n",
       " 'ND0003.3.2': 222,\n",
       " 'ND0003.3.3': 252,\n",
       " 'ND0003.3.4': 216,\n",
       " 'ND0003.3.5': 200,\n",
       " 'ND0003.3.6': 250,\n",
       " 'ND0003.3.7': 211,\n",
       " 'ND0003.3.8': 204,\n",
       " 'ND0003.3.9': 235,\n",
       " 'ND0003.3.10': 241,\n",
       " 'ND0003.3.11': 287,\n",
       " 'ND0003.3.12': 209,\n",
       " 'ND0003.4.3': 229,\n",
       " 'ND0003.4.4': 276,\n",
       " 'ND0003.4.5': 191,\n",
       " 'ND0003.4.6': 189,\n",
       " 'ND0003.4.7': 170,\n",
       " 'ND0003.4.8': 211,\n",
       " 'ND0003.4.9': 199,\n",
       " 'ND0003.4.10': 178,\n",
       " 'ND0003.4.11': 168,\n",
       " 'ND0003.4.12': 196,\n",
       " 'ND0003.5.3': 76}"
      ]
     },
     "execution_count": 77,
     "metadata": {},
     "output_type": "execute_result"
    }
   ],
   "source": [
    "track_lengths"
   ]
  },
  {
   "cell_type": "code",
   "execution_count": 67,
   "id": "2e412e98-5dfe-4054-81d4-bcb853b63be9",
   "metadata": {},
   "outputs": [
    {
     "data": {
      "text/plain": [
       "229.66666666666666"
      ]
     },
     "execution_count": 67,
     "metadata": {},
     "output_type": "execute_result"
    }
   ],
   "source": [
    "np.mean(list(track_lengths.values()))"
   ]
  },
  {
   "cell_type": "code",
   "execution_count": 50,
   "id": "8ff44b85-8759-4e68-8e72-e9908f92fd55",
   "metadata": {},
   "outputs": [
    {
     "data": {
      "text/plain": [
       "18.037376161058187"
      ]
     },
     "execution_count": 50,
     "metadata": {},
     "output_type": "execute_result"
    }
   ],
   "source": [
    "np.std(list(track_lengths.values()))"
   ]
  },
  {
   "cell_type": "code",
   "execution_count": null,
   "id": "f4713bda-eca0-418e-b914-ec3aa87671c9",
   "metadata": {},
   "outputs": [],
   "source": [
    "f'{expt_ID}.{row}.{column}_filtered_napari_tracks.npy'"
   ]
  },
  {
   "cell_type": "code",
   "execution_count": null,
   "id": "6239b52e-9474-4764-88f4-793ff53162c6",
   "metadata": {},
   "outputs": [],
   "source": []
  },
  {
   "cell_type": "code",
   "execution_count": 7,
   "id": "be49238a-5858-4b30-b3b9-652c61e39017",
   "metadata": {},
   "outputs": [
    {
     "data": {
      "text/plain": [
       "array([[7.00000000e+00, 0.00000000e+00, 6.81272644e+02, 8.33066589e+02],\n",
       "       [7.00000000e+00, 1.00000000e+00, 6.76823242e+02, 8.28444519e+02],\n",
       "       [7.00000000e+00, 2.00000000e+00, 6.77335876e+02, 8.27802856e+02],\n",
       "       ...,\n",
       "       [1.07600000e+03, 1.46000000e+02, 3.16879082e+01, 2.10406326e+02],\n",
       "       [1.07600000e+03, 1.47000000e+02, 3.92116318e+01, 2.07946808e+02],\n",
       "       [1.07600000e+03, 1.48000000e+02, 4.65437508e+01, 2.02132538e+02]])"
      ]
     },
     "execution_count": 7,
     "metadata": {},
     "output_type": "execute_result"
    }
   ],
   "source": [
    "tracks"
   ]
  }
 ],
 "metadata": {
  "kernelspec": {
   "display_name": "egg",
   "language": "python",
   "name": "egg"
  },
  "language_info": {
   "codemirror_mode": {
    "name": "ipython",
    "version": 3
   },
   "file_extension": ".py",
   "mimetype": "text/x-python",
   "name": "python",
   "nbconvert_exporter": "python",
   "pygments_lexer": "ipython3",
   "version": "3.9.17"
  }
 },
 "nbformat": 4,
 "nbformat_minor": 5
}
