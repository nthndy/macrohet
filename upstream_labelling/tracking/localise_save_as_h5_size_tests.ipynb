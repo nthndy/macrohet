{
 "cells": [
  {
   "cell_type": "markdown",
   "id": "d2e295e0",
   "metadata": {},
   "source": [
    "# Load segmentation, localise and save as h5\n",
    "\n",
    "Segment a stack of images and then manually label a couple, then check how well the model segmented them."
   ]
  },
  {
   "cell_type": "code",
   "execution_count": 1,
   "id": "7975a2f4",
   "metadata": {},
   "outputs": [],
   "source": [
    "import napari\n",
    "import cellpose\n",
    "from octopuslite import utils, tile\n",
    "import numpy as np\n",
    "\n",
    "import sys\n",
    "sys.path.append('macrohet/')\n",
    "from notify import send_sms\n",
    "\n",
    "def view(img):\n",
    "    return napari.Viewer().add_image(img)\n",
    "\n",
    "from tqdm.auto import tqdm\n",
    "\n",
    "import btrack\n",
    "import dask.array as da"
   ]
  },
  {
   "cell_type": "markdown",
   "id": "3751ef77",
   "metadata": {},
   "source": [
    "### Load experiment of choice\n",
    "\n",
    "The Opera Phenix is a high-throughput confocal microscope that acquires very large 5-dimensional (TCZXY) images over several fields of view in any one experiment. Therefore, a lazy-loading approach is chosen to mosaic, view and annotate these images. This approach depends upon Dask and DaskFusion. The first step is to load the main metadata file (typically called `Index.idx.xml` and located in the main `Images` directory) that contains the image filenames and associated TCXZY information used to organise the images."
   ]
  },
  {
   "cell_type": "code",
   "execution_count": null,
   "id": "8d20db67",
   "metadata": {},
   "outputs": [
    {
     "name": "stdout",
     "output_type": "stream",
     "text": [
      "Reading metadata XML file...\n"
     ]
    },
    {
     "data": {
      "application/vnd.jupyter.widget-view+json": {
       "model_id": "39205701e25e451daad798a5094f25ed",
       "version_major": 2,
       "version_minor": 0
      },
      "text/plain": [
       "Extracting HarmonyV5 metadata:   0%|          | 0/113400 [00:00<?, ?it/s]"
      ]
     },
     "metadata": {},
     "output_type": "display_data"
    }
   ],
   "source": [
    "image_dir = '/mnt/DATA/sandbox/pierre_live_cell_data/outputs/Replication_IPSDM_GFP/Images/'\n",
    "metadata_fn = '/mnt/DATA/sandbox/pierre_live_cell_data/outputs/Replication_IPSDM_GFP/Index.idx.xml'\n",
    "metadata = utils.read_harmony_metadata(metadata_fn)"
   ]
  },
  {
   "cell_type": "markdown",
   "id": "e739b419",
   "metadata": {},
   "source": [
    "### View assay layout and mask information (optional)\n",
    "\n",
    "The Opera Phenix acquires many time lapse series from a range of positions. The first step is to inspect the image metadata, presented in the form of an `Assaylayout/experiment_ID.xml` file, to show which positions correspond to which experimental assays."
   ]
  },
  {
   "cell_type": "code",
   "execution_count": null,
   "id": "19c540d8",
   "metadata": {
    "scrolled": true
   },
   "outputs": [],
   "source": [
    "metadata_path = '/mnt/DATA/sandbox/pierre_live_cell_data/outputs/Replication_IPSDM_GFP/Assaylayout/20210602_Live_cell_IPSDMGFP_ATB.xml'\n",
    "utils.read_harmony_metadata(metadata_path, assay_layout=True)"
   ]
  },
  {
   "cell_type": "markdown",
   "id": "dcd88da7",
   "metadata": {},
   "source": [
    "### Define row and column of choice"
   ]
  },
  {
   "cell_type": "code",
   "execution_count": null,
   "id": "f3e672e3",
   "metadata": {},
   "outputs": [],
   "source": [
    "row = '6'\n",
    "column = '9'"
   ]
  },
  {
   "cell_type": "markdown",
   "id": "badcba11",
   "metadata": {},
   "source": [
    "### Now to lazily mosaic the images using Dask prior to viewing them.\n",
    "\n",
    "1x (75,2,3) [TCZ] image stack takes approximately 1 minute to stitch together, so only load the one field of view I want."
   ]
  },
  {
   "cell_type": "code",
   "execution_count": null,
   "id": "10033963",
   "metadata": {},
   "outputs": [],
   "source": [
    "images = tile.compile_mosaic(image_dir, \n",
    "                             metadata, \n",
    "                             row, \n",
    "                             column, \n",
    "                             #set_channel=1, \n",
    "                             set_plane = 'sum_proj',\n",
    "#                              set_time = 1\n",
    "                         )#.astype(uint8)"
   ]
  },
  {
   "cell_type": "markdown",
   "id": "d3f5b1b4",
   "metadata": {},
   "source": [
    "#### Reorder the channel axis for localisation"
   ]
  },
  {
   "cell_type": "code",
   "execution_count": 6,
   "id": "ebd18d65",
   "metadata": {},
   "outputs": [
    {
     "data": {
      "text/html": [
       "<table>\n",
       "    <tr>\n",
       "        <td>\n",
       "            <table>\n",
       "                <thead>\n",
       "                    <tr>\n",
       "                        <td> </td>\n",
       "                        <th> Array </th>\n",
       "                        <th> Chunk </th>\n",
       "                    </tr>\n",
       "                </thead>\n",
       "                <tbody>\n",
       "                    \n",
       "                    <tr>\n",
       "                        <th> Bytes </th>\n",
       "                        <td> 40.88 GiB </td>\n",
       "                        <td> 31.01 MiB </td>\n",
       "                    </tr>\n",
       "                    \n",
       "                    <tr>\n",
       "                        <th> Shape </th>\n",
       "                        <td> (75, 6048, 6048, 2) </td>\n",
       "                        <td> (1, 2016, 2016, 1) </td>\n",
       "                    </tr>\n",
       "                    <tr>\n",
       "                        <th> Count </th>\n",
       "                        <td> 18900 Tasks </td>\n",
       "                        <td> 1350 Chunks </td>\n",
       "                    </tr>\n",
       "                    <tr>\n",
       "                    <th> Type </th>\n",
       "                    <td> uint64 </td>\n",
       "                    <td> numpy.ndarray </td>\n",
       "                    </tr>\n",
       "                </tbody>\n",
       "            </table>\n",
       "        </td>\n",
       "        <td>\n",
       "        <svg width=\"338\" height=\"240\" style=\"stroke:rgb(0,0,0);stroke-width:1\" >\n",
       "\n",
       "  <!-- Horizontal lines -->\n",
       "  <line x1=\"0\" y1=\"0\" x2=\"26\" y2=\"0\" style=\"stroke-width:2\" />\n",
       "  <line x1=\"0\" y1=\"25\" x2=\"26\" y2=\"25\" style=\"stroke-width:2\" />\n",
       "\n",
       "  <!-- Vertical lines -->\n",
       "  <line x1=\"0\" y1=\"0\" x2=\"0\" y2=\"25\" style=\"stroke-width:2\" />\n",
       "  <line x1=\"0\" y1=\"0\" x2=\"0\" y2=\"25\" />\n",
       "  <line x1=\"1\" y1=\"0\" x2=\"1\" y2=\"25\" />\n",
       "  <line x1=\"2\" y1=\"0\" x2=\"2\" y2=\"25\" />\n",
       "  <line x1=\"3\" y1=\"0\" x2=\"3\" y2=\"25\" />\n",
       "  <line x1=\"3\" y1=\"0\" x2=\"3\" y2=\"25\" />\n",
       "  <line x1=\"4\" y1=\"0\" x2=\"4\" y2=\"25\" />\n",
       "  <line x1=\"5\" y1=\"0\" x2=\"5\" y2=\"25\" />\n",
       "  <line x1=\"6\" y1=\"0\" x2=\"6\" y2=\"25\" />\n",
       "  <line x1=\"7\" y1=\"0\" x2=\"7\" y2=\"25\" />\n",
       "  <line x1=\"8\" y1=\"0\" x2=\"8\" y2=\"25\" />\n",
       "  <line x1=\"8\" y1=\"0\" x2=\"8\" y2=\"25\" />\n",
       "  <line x1=\"9\" y1=\"0\" x2=\"9\" y2=\"25\" />\n",
       "  <line x1=\"10\" y1=\"0\" x2=\"10\" y2=\"25\" />\n",
       "  <line x1=\"11\" y1=\"0\" x2=\"11\" y2=\"25\" />\n",
       "  <line x1=\"12\" y1=\"0\" x2=\"12\" y2=\"25\" />\n",
       "  <line x1=\"13\" y1=\"0\" x2=\"13\" y2=\"25\" />\n",
       "  <line x1=\"13\" y1=\"0\" x2=\"13\" y2=\"25\" />\n",
       "  <line x1=\"14\" y1=\"0\" x2=\"14\" y2=\"25\" />\n",
       "  <line x1=\"15\" y1=\"0\" x2=\"15\" y2=\"25\" />\n",
       "  <line x1=\"16\" y1=\"0\" x2=\"16\" y2=\"25\" />\n",
       "  <line x1=\"17\" y1=\"0\" x2=\"17\" y2=\"25\" />\n",
       "  <line x1=\"18\" y1=\"0\" x2=\"18\" y2=\"25\" />\n",
       "  <line x1=\"18\" y1=\"0\" x2=\"18\" y2=\"25\" />\n",
       "  <line x1=\"19\" y1=\"0\" x2=\"19\" y2=\"25\" />\n",
       "  <line x1=\"20\" y1=\"0\" x2=\"20\" y2=\"25\" />\n",
       "  <line x1=\"21\" y1=\"0\" x2=\"21\" y2=\"25\" />\n",
       "  <line x1=\"22\" y1=\"0\" x2=\"22\" y2=\"25\" />\n",
       "  <line x1=\"22\" y1=\"0\" x2=\"22\" y2=\"25\" />\n",
       "  <line x1=\"23\" y1=\"0\" x2=\"23\" y2=\"25\" />\n",
       "  <line x1=\"24\" y1=\"0\" x2=\"24\" y2=\"25\" />\n",
       "  <line x1=\"25\" y1=\"0\" x2=\"25\" y2=\"25\" />\n",
       "  <line x1=\"26\" y1=\"0\" x2=\"26\" y2=\"25\" style=\"stroke-width:2\" />\n",
       "\n",
       "  <!-- Colored Rectangle -->\n",
       "  <polygon points=\"0.0,0.0 26.472362419580787,0.0 26.472362419580787,25.412616514582485 0.0,25.412616514582485\" style=\"fill:#8B4903A0;stroke-width:0\"/>\n",
       "\n",
       "  <!-- Text -->\n",
       "  <text x=\"13.236181\" y=\"45.412617\" font-size=\"1.0rem\" font-weight=\"100\" text-anchor=\"middle\" >75</text>\n",
       "  <text x=\"46.472362\" y=\"12.706308\" font-size=\"1.0rem\" font-weight=\"100\" text-anchor=\"middle\" transform=\"rotate(0,46.472362,12.706308)\">1</text>\n",
       "\n",
       "\n",
       "  <!-- Horizontal lines -->\n",
       "  <line x1=\"96\" y1=\"0\" x2=\"166\" y2=\"70\" style=\"stroke-width:2\" />\n",
       "  <line x1=\"96\" y1=\"40\" x2=\"166\" y2=\"110\" />\n",
       "  <line x1=\"96\" y1=\"80\" x2=\"166\" y2=\"150\" />\n",
       "  <line x1=\"96\" y1=\"120\" x2=\"166\" y2=\"190\" style=\"stroke-width:2\" />\n",
       "\n",
       "  <!-- Vertical lines -->\n",
       "  <line x1=\"96\" y1=\"0\" x2=\"96\" y2=\"120\" style=\"stroke-width:2\" />\n",
       "  <line x1=\"119\" y1=\"23\" x2=\"119\" y2=\"143\" />\n",
       "  <line x1=\"143\" y1=\"47\" x2=\"143\" y2=\"167\" />\n",
       "  <line x1=\"166\" y1=\"70\" x2=\"166\" y2=\"190\" style=\"stroke-width:2\" />\n",
       "\n",
       "  <!-- Colored Rectangle -->\n",
       "  <polygon points=\"96.0,0.0 166.58823529411765,70.58823529411765 166.58823529411765,190.58823529411765 96.0,120.0\" style=\"fill:#ECB172A0;stroke-width:0\"/>\n",
       "\n",
       "  <!-- Horizontal lines -->\n",
       "  <line x1=\"96\" y1=\"0\" x2=\"121\" y2=\"0\" style=\"stroke-width:2\" />\n",
       "  <line x1=\"119\" y1=\"23\" x2=\"144\" y2=\"23\" />\n",
       "  <line x1=\"143\" y1=\"47\" x2=\"168\" y2=\"47\" />\n",
       "  <line x1=\"166\" y1=\"70\" x2=\"192\" y2=\"70\" style=\"stroke-width:2\" />\n",
       "\n",
       "  <!-- Vertical lines -->\n",
       "  <line x1=\"96\" y1=\"0\" x2=\"166\" y2=\"70\" style=\"stroke-width:2\" />\n",
       "  <line x1=\"108\" y1=\"0\" x2=\"179\" y2=\"70\" />\n",
       "  <line x1=\"121\" y1=\"0\" x2=\"192\" y2=\"70\" style=\"stroke-width:2\" />\n",
       "\n",
       "  <!-- Colored Rectangle -->\n",
       "  <polygon points=\"96.0,0.0 121.41261651458248,0.0 192.00085180870013,70.58823529411765 166.58823529411765,70.58823529411765\" style=\"fill:#ECB172A0;stroke-width:0\"/>\n",
       "\n",
       "  <!-- Horizontal lines -->\n",
       "  <line x1=\"166\" y1=\"70\" x2=\"192\" y2=\"70\" style=\"stroke-width:2\" />\n",
       "  <line x1=\"166\" y1=\"110\" x2=\"192\" y2=\"110\" />\n",
       "  <line x1=\"166\" y1=\"150\" x2=\"192\" y2=\"150\" />\n",
       "  <line x1=\"166\" y1=\"190\" x2=\"192\" y2=\"190\" style=\"stroke-width:2\" />\n",
       "\n",
       "  <!-- Vertical lines -->\n",
       "  <line x1=\"166\" y1=\"70\" x2=\"166\" y2=\"190\" style=\"stroke-width:2\" />\n",
       "  <line x1=\"179\" y1=\"70\" x2=\"179\" y2=\"190\" />\n",
       "  <line x1=\"192\" y1=\"70\" x2=\"192\" y2=\"190\" style=\"stroke-width:2\" />\n",
       "\n",
       "  <!-- Colored Rectangle -->\n",
       "  <polygon points=\"166.58823529411765,70.58823529411765 192.00085180870013,70.58823529411765 192.00085180870013,190.58823529411765 166.58823529411765,190.58823529411765\" style=\"fill:#ECB172A0;stroke-width:0\"/>\n",
       "\n",
       "  <!-- Text -->\n",
       "  <text x=\"179.294544\" y=\"210.588235\" font-size=\"1.0rem\" font-weight=\"100\" text-anchor=\"middle\" >2</text>\n",
       "  <text x=\"212.000852\" y=\"130.588235\" font-size=\"1.0rem\" font-weight=\"100\" text-anchor=\"middle\" transform=\"rotate(-90,212.000852,130.588235)\">6048</text>\n",
       "  <text x=\"121.294118\" y=\"175.294118\" font-size=\"1.0rem\" font-weight=\"100\" text-anchor=\"middle\" transform=\"rotate(45,121.294118,175.294118)\">6048</text>\n",
       "</svg>\n",
       "        </td>\n",
       "    </tr>\n",
       "</table>"
      ],
      "text/plain": [
       "dask.array<stack, shape=(75, 6048, 6048, 2), dtype=uint64, chunksize=(1, 2016, 2016, 1), chunktype=numpy.ndarray>"
      ]
     },
     "execution_count": 6,
     "metadata": {},
     "output_type": "execute_result"
    }
   ],
   "source": [
    "gfp = images[:,0,...]\n",
    "rfp = images[:,1,...]\n",
    "images = da.stack([gfp,rfp], axis = -1)\n",
    "images"
   ]
  },
  {
   "cell_type": "markdown",
   "id": "c43f04ad",
   "metadata": {},
   "source": [
    "### Load masks"
   ]
  },
  {
   "cell_type": "code",
   "execution_count": 7,
   "id": "225c46c0",
   "metadata": {},
   "outputs": [],
   "source": [
    "masks = np.load('segmentation/masks.npy',)"
   ]
  },
  {
   "cell_type": "markdown",
   "id": "6781ae88",
   "metadata": {},
   "source": [
    "# Quick size comparison"
   ]
  },
  {
   "cell_type": "code",
   "execution_count": 13,
   "id": "d30ea3c5",
   "metadata": {},
   "outputs": [],
   "source": [
    "import os\n",
    "from skimage.io import imsave\n"
   ]
  },
  {
   "cell_type": "code",
   "execution_count": 12,
   "id": "ada0dcda",
   "metadata": {},
   "outputs": [],
   "source": [
    "os.mkdir('16bit_masks')"
   ]
  },
  {
   "cell_type": "code",
   "execution_count": 14,
   "id": "66e01555",
   "metadata": {
    "scrolled": true
   },
   "outputs": [
    {
     "data": {
      "application/vnd.jupyter.widget-view+json": {
       "model_id": "c98d8bfa48224aadb67a9830623724f2",
       "version_major": 2,
       "version_minor": 0
      },
      "text/plain": [
       "  0%|          | 0/75 [00:00<?, ?it/s]"
      ]
     },
     "metadata": {},
     "output_type": "display_data"
    },
    {
     "name": "stderr",
     "output_type": "stream",
     "text": [
      "/tmp/ipykernel_9006/1128049116.py:3: UserWarning: 16bit_masks/0.tiff is a low contrast image\n",
      "  imsave(f'16bit_masks/{n}.tiff', frame)\n",
      "/tmp/ipykernel_9006/1128049116.py:3: UserWarning: 16bit_masks/1.tiff is a low contrast image\n",
      "  imsave(f'16bit_masks/{n}.tiff', frame)\n",
      "/tmp/ipykernel_9006/1128049116.py:3: UserWarning: 16bit_masks/2.tiff is a low contrast image\n",
      "  imsave(f'16bit_masks/{n}.tiff', frame)\n",
      "/tmp/ipykernel_9006/1128049116.py:3: UserWarning: 16bit_masks/3.tiff is a low contrast image\n",
      "  imsave(f'16bit_masks/{n}.tiff', frame)\n",
      "/tmp/ipykernel_9006/1128049116.py:3: UserWarning: 16bit_masks/4.tiff is a low contrast image\n",
      "  imsave(f'16bit_masks/{n}.tiff', frame)\n",
      "/tmp/ipykernel_9006/1128049116.py:3: UserWarning: 16bit_masks/5.tiff is a low contrast image\n",
      "  imsave(f'16bit_masks/{n}.tiff', frame)\n",
      "/tmp/ipykernel_9006/1128049116.py:3: UserWarning: 16bit_masks/6.tiff is a low contrast image\n",
      "  imsave(f'16bit_masks/{n}.tiff', frame)\n",
      "/tmp/ipykernel_9006/1128049116.py:3: UserWarning: 16bit_masks/7.tiff is a low contrast image\n",
      "  imsave(f'16bit_masks/{n}.tiff', frame)\n",
      "/tmp/ipykernel_9006/1128049116.py:3: UserWarning: 16bit_masks/8.tiff is a low contrast image\n",
      "  imsave(f'16bit_masks/{n}.tiff', frame)\n",
      "/tmp/ipykernel_9006/1128049116.py:3: UserWarning: 16bit_masks/9.tiff is a low contrast image\n",
      "  imsave(f'16bit_masks/{n}.tiff', frame)\n",
      "/tmp/ipykernel_9006/1128049116.py:3: UserWarning: 16bit_masks/10.tiff is a low contrast image\n",
      "  imsave(f'16bit_masks/{n}.tiff', frame)\n",
      "/tmp/ipykernel_9006/1128049116.py:3: UserWarning: 16bit_masks/11.tiff is a low contrast image\n",
      "  imsave(f'16bit_masks/{n}.tiff', frame)\n",
      "/tmp/ipykernel_9006/1128049116.py:3: UserWarning: 16bit_masks/12.tiff is a low contrast image\n",
      "  imsave(f'16bit_masks/{n}.tiff', frame)\n",
      "/tmp/ipykernel_9006/1128049116.py:3: UserWarning: 16bit_masks/13.tiff is a low contrast image\n",
      "  imsave(f'16bit_masks/{n}.tiff', frame)\n",
      "/tmp/ipykernel_9006/1128049116.py:3: UserWarning: 16bit_masks/14.tiff is a low contrast image\n",
      "  imsave(f'16bit_masks/{n}.tiff', frame)\n",
      "/tmp/ipykernel_9006/1128049116.py:3: UserWarning: 16bit_masks/15.tiff is a low contrast image\n",
      "  imsave(f'16bit_masks/{n}.tiff', frame)\n",
      "/tmp/ipykernel_9006/1128049116.py:3: UserWarning: 16bit_masks/16.tiff is a low contrast image\n",
      "  imsave(f'16bit_masks/{n}.tiff', frame)\n",
      "/tmp/ipykernel_9006/1128049116.py:3: UserWarning: 16bit_masks/17.tiff is a low contrast image\n",
      "  imsave(f'16bit_masks/{n}.tiff', frame)\n",
      "/tmp/ipykernel_9006/1128049116.py:3: UserWarning: 16bit_masks/18.tiff is a low contrast image\n",
      "  imsave(f'16bit_masks/{n}.tiff', frame)\n",
      "/tmp/ipykernel_9006/1128049116.py:3: UserWarning: 16bit_masks/19.tiff is a low contrast image\n",
      "  imsave(f'16bit_masks/{n}.tiff', frame)\n",
      "/tmp/ipykernel_9006/1128049116.py:3: UserWarning: 16bit_masks/20.tiff is a low contrast image\n",
      "  imsave(f'16bit_masks/{n}.tiff', frame)\n",
      "/tmp/ipykernel_9006/1128049116.py:3: UserWarning: 16bit_masks/21.tiff is a low contrast image\n",
      "  imsave(f'16bit_masks/{n}.tiff', frame)\n",
      "/tmp/ipykernel_9006/1128049116.py:3: UserWarning: 16bit_masks/22.tiff is a low contrast image\n",
      "  imsave(f'16bit_masks/{n}.tiff', frame)\n",
      "/tmp/ipykernel_9006/1128049116.py:3: UserWarning: 16bit_masks/23.tiff is a low contrast image\n",
      "  imsave(f'16bit_masks/{n}.tiff', frame)\n",
      "/tmp/ipykernel_9006/1128049116.py:3: UserWarning: 16bit_masks/24.tiff is a low contrast image\n",
      "  imsave(f'16bit_masks/{n}.tiff', frame)\n",
      "/tmp/ipykernel_9006/1128049116.py:3: UserWarning: 16bit_masks/25.tiff is a low contrast image\n",
      "  imsave(f'16bit_masks/{n}.tiff', frame)\n",
      "/tmp/ipykernel_9006/1128049116.py:3: UserWarning: 16bit_masks/26.tiff is a low contrast image\n",
      "  imsave(f'16bit_masks/{n}.tiff', frame)\n",
      "/tmp/ipykernel_9006/1128049116.py:3: UserWarning: 16bit_masks/27.tiff is a low contrast image\n",
      "  imsave(f'16bit_masks/{n}.tiff', frame)\n",
      "/tmp/ipykernel_9006/1128049116.py:3: UserWarning: 16bit_masks/28.tiff is a low contrast image\n",
      "  imsave(f'16bit_masks/{n}.tiff', frame)\n",
      "/tmp/ipykernel_9006/1128049116.py:3: UserWarning: 16bit_masks/29.tiff is a low contrast image\n",
      "  imsave(f'16bit_masks/{n}.tiff', frame)\n",
      "/tmp/ipykernel_9006/1128049116.py:3: UserWarning: 16bit_masks/30.tiff is a low contrast image\n",
      "  imsave(f'16bit_masks/{n}.tiff', frame)\n",
      "/tmp/ipykernel_9006/1128049116.py:3: UserWarning: 16bit_masks/31.tiff is a low contrast image\n",
      "  imsave(f'16bit_masks/{n}.tiff', frame)\n",
      "/tmp/ipykernel_9006/1128049116.py:3: UserWarning: 16bit_masks/32.tiff is a low contrast image\n",
      "  imsave(f'16bit_masks/{n}.tiff', frame)\n",
      "/tmp/ipykernel_9006/1128049116.py:3: UserWarning: 16bit_masks/33.tiff is a low contrast image\n",
      "  imsave(f'16bit_masks/{n}.tiff', frame)\n",
      "/tmp/ipykernel_9006/1128049116.py:3: UserWarning: 16bit_masks/34.tiff is a low contrast image\n",
      "  imsave(f'16bit_masks/{n}.tiff', frame)\n",
      "/tmp/ipykernel_9006/1128049116.py:3: UserWarning: 16bit_masks/35.tiff is a low contrast image\n",
      "  imsave(f'16bit_masks/{n}.tiff', frame)\n",
      "/tmp/ipykernel_9006/1128049116.py:3: UserWarning: 16bit_masks/36.tiff is a low contrast image\n",
      "  imsave(f'16bit_masks/{n}.tiff', frame)\n",
      "/tmp/ipykernel_9006/1128049116.py:3: UserWarning: 16bit_masks/37.tiff is a low contrast image\n",
      "  imsave(f'16bit_masks/{n}.tiff', frame)\n",
      "/tmp/ipykernel_9006/1128049116.py:3: UserWarning: 16bit_masks/38.tiff is a low contrast image\n",
      "  imsave(f'16bit_masks/{n}.tiff', frame)\n",
      "/tmp/ipykernel_9006/1128049116.py:3: UserWarning: 16bit_masks/39.tiff is a low contrast image\n",
      "  imsave(f'16bit_masks/{n}.tiff', frame)\n",
      "/tmp/ipykernel_9006/1128049116.py:3: UserWarning: 16bit_masks/40.tiff is a low contrast image\n",
      "  imsave(f'16bit_masks/{n}.tiff', frame)\n",
      "/tmp/ipykernel_9006/1128049116.py:3: UserWarning: 16bit_masks/41.tiff is a low contrast image\n",
      "  imsave(f'16bit_masks/{n}.tiff', frame)\n",
      "/tmp/ipykernel_9006/1128049116.py:3: UserWarning: 16bit_masks/42.tiff is a low contrast image\n",
      "  imsave(f'16bit_masks/{n}.tiff', frame)\n",
      "/tmp/ipykernel_9006/1128049116.py:3: UserWarning: 16bit_masks/43.tiff is a low contrast image\n",
      "  imsave(f'16bit_masks/{n}.tiff', frame)\n",
      "/tmp/ipykernel_9006/1128049116.py:3: UserWarning: 16bit_masks/44.tiff is a low contrast image\n",
      "  imsave(f'16bit_masks/{n}.tiff', frame)\n",
      "/tmp/ipykernel_9006/1128049116.py:3: UserWarning: 16bit_masks/45.tiff is a low contrast image\n",
      "  imsave(f'16bit_masks/{n}.tiff', frame)\n",
      "/tmp/ipykernel_9006/1128049116.py:3: UserWarning: 16bit_masks/46.tiff is a low contrast image\n",
      "  imsave(f'16bit_masks/{n}.tiff', frame)\n",
      "/tmp/ipykernel_9006/1128049116.py:3: UserWarning: 16bit_masks/47.tiff is a low contrast image\n",
      "  imsave(f'16bit_masks/{n}.tiff', frame)\n",
      "/tmp/ipykernel_9006/1128049116.py:3: UserWarning: 16bit_masks/48.tiff is a low contrast image\n",
      "  imsave(f'16bit_masks/{n}.tiff', frame)\n",
      "/tmp/ipykernel_9006/1128049116.py:3: UserWarning: 16bit_masks/49.tiff is a low contrast image\n",
      "  imsave(f'16bit_masks/{n}.tiff', frame)\n",
      "/tmp/ipykernel_9006/1128049116.py:3: UserWarning: 16bit_masks/50.tiff is a low contrast image\n",
      "  imsave(f'16bit_masks/{n}.tiff', frame)\n",
      "/tmp/ipykernel_9006/1128049116.py:3: UserWarning: 16bit_masks/51.tiff is a low contrast image\n",
      "  imsave(f'16bit_masks/{n}.tiff', frame)\n",
      "/tmp/ipykernel_9006/1128049116.py:3: UserWarning: 16bit_masks/52.tiff is a low contrast image\n",
      "  imsave(f'16bit_masks/{n}.tiff', frame)\n",
      "/tmp/ipykernel_9006/1128049116.py:3: UserWarning: 16bit_masks/53.tiff is a low contrast image\n",
      "  imsave(f'16bit_masks/{n}.tiff', frame)\n",
      "/tmp/ipykernel_9006/1128049116.py:3: UserWarning: 16bit_masks/54.tiff is a low contrast image\n",
      "  imsave(f'16bit_masks/{n}.tiff', frame)\n",
      "/tmp/ipykernel_9006/1128049116.py:3: UserWarning: 16bit_masks/55.tiff is a low contrast image\n",
      "  imsave(f'16bit_masks/{n}.tiff', frame)\n",
      "/tmp/ipykernel_9006/1128049116.py:3: UserWarning: 16bit_masks/56.tiff is a low contrast image\n",
      "  imsave(f'16bit_masks/{n}.tiff', frame)\n",
      "/tmp/ipykernel_9006/1128049116.py:3: UserWarning: 16bit_masks/57.tiff is a low contrast image\n",
      "  imsave(f'16bit_masks/{n}.tiff', frame)\n",
      "/tmp/ipykernel_9006/1128049116.py:3: UserWarning: 16bit_masks/58.tiff is a low contrast image\n",
      "  imsave(f'16bit_masks/{n}.tiff', frame)\n",
      "/tmp/ipykernel_9006/1128049116.py:3: UserWarning: 16bit_masks/59.tiff is a low contrast image\n",
      "  imsave(f'16bit_masks/{n}.tiff', frame)\n",
      "/tmp/ipykernel_9006/1128049116.py:3: UserWarning: 16bit_masks/60.tiff is a low contrast image\n",
      "  imsave(f'16bit_masks/{n}.tiff', frame)\n",
      "/tmp/ipykernel_9006/1128049116.py:3: UserWarning: 16bit_masks/61.tiff is a low contrast image\n",
      "  imsave(f'16bit_masks/{n}.tiff', frame)\n"
     ]
    },
    {
     "name": "stderr",
     "output_type": "stream",
     "text": [
      "/tmp/ipykernel_9006/1128049116.py:3: UserWarning: 16bit_masks/62.tiff is a low contrast image\n",
      "  imsave(f'16bit_masks/{n}.tiff', frame)\n",
      "/tmp/ipykernel_9006/1128049116.py:3: UserWarning: 16bit_masks/63.tiff is a low contrast image\n",
      "  imsave(f'16bit_masks/{n}.tiff', frame)\n",
      "/tmp/ipykernel_9006/1128049116.py:3: UserWarning: 16bit_masks/64.tiff is a low contrast image\n",
      "  imsave(f'16bit_masks/{n}.tiff', frame)\n",
      "/tmp/ipykernel_9006/1128049116.py:3: UserWarning: 16bit_masks/65.tiff is a low contrast image\n",
      "  imsave(f'16bit_masks/{n}.tiff', frame)\n",
      "/tmp/ipykernel_9006/1128049116.py:3: UserWarning: 16bit_masks/66.tiff is a low contrast image\n",
      "  imsave(f'16bit_masks/{n}.tiff', frame)\n",
      "/tmp/ipykernel_9006/1128049116.py:3: UserWarning: 16bit_masks/67.tiff is a low contrast image\n",
      "  imsave(f'16bit_masks/{n}.tiff', frame)\n",
      "/tmp/ipykernel_9006/1128049116.py:3: UserWarning: 16bit_masks/68.tiff is a low contrast image\n",
      "  imsave(f'16bit_masks/{n}.tiff', frame)\n",
      "/tmp/ipykernel_9006/1128049116.py:3: UserWarning: 16bit_masks/69.tiff is a low contrast image\n",
      "  imsave(f'16bit_masks/{n}.tiff', frame)\n",
      "/tmp/ipykernel_9006/1128049116.py:3: UserWarning: 16bit_masks/70.tiff is a low contrast image\n",
      "  imsave(f'16bit_masks/{n}.tiff', frame)\n",
      "/tmp/ipykernel_9006/1128049116.py:3: UserWarning: 16bit_masks/71.tiff is a low contrast image\n",
      "  imsave(f'16bit_masks/{n}.tiff', frame)\n",
      "/tmp/ipykernel_9006/1128049116.py:3: UserWarning: 16bit_masks/72.tiff is a low contrast image\n",
      "  imsave(f'16bit_masks/{n}.tiff', frame)\n",
      "/tmp/ipykernel_9006/1128049116.py:3: UserWarning: 16bit_masks/73.tiff is a low contrast image\n",
      "  imsave(f'16bit_masks/{n}.tiff', frame)\n",
      "/tmp/ipykernel_9006/1128049116.py:3: UserWarning: 16bit_masks/74.tiff is a low contrast image\n",
      "  imsave(f'16bit_masks/{n}.tiff', frame)\n"
     ]
    }
   ],
   "source": [
    "masks_16bit = np.load('segmentation/masks.npy',)\n",
    "for n, frame in tqdm(enumerate(masks_16bit), total = len(masks)):\n",
    "    imsave(f'16bit_masks/{n}.tiff', frame)"
   ]
  },
  {
   "cell_type": "markdown",
   "id": "1da17666",
   "metadata": {},
   "source": [
    "# 5gb "
   ]
  },
  {
   "cell_type": "code",
   "execution_count": 21,
   "id": "a70b3c89",
   "metadata": {},
   "outputs": [],
   "source": [
    "### now as semantic segmentation\n",
    "from skimage.morphology import label, binary_erosion"
   ]
  },
  {
   "cell_type": "code",
   "execution_count": 19,
   "id": "b938c47f",
   "metadata": {},
   "outputs": [],
   "source": [
    "!mkdir semantic_masks"
   ]
  },
  {
   "cell_type": "code",
   "execution_count": 22,
   "id": "3ab2b2ea",
   "metadata": {
    "scrolled": true
   },
   "outputs": [
    {
     "data": {
      "application/vnd.jupyter.widget-view+json": {
       "model_id": "d98915a6f3714d8aac0812e5914a6941",
       "version_major": 2,
       "version_minor": 0
      },
      "text/plain": [
       "  0%|          | 0/75 [00:00<?, ?it/s]"
      ]
     },
     "metadata": {},
     "output_type": "display_data"
    },
    {
     "data": {
      "application/vnd.jupyter.widget-view+json": {
       "model_id": "",
       "version_major": 2,
       "version_minor": 0
      },
      "text/plain": [
       "  0%|          | 0/773 [00:00<?, ?it/s]"
      ]
     },
     "metadata": {},
     "output_type": "display_data"
    },
    {
     "name": "stderr",
     "output_type": "stream",
     "text": [
      "/tmp/ipykernel_9006/3873993405.py:8: UserWarning: semantic_masks/0.tiff is a low contrast image\n",
      "  imsave(f'semantic_masks/{n}.tiff', semantic_mask)\n"
     ]
    },
    {
     "data": {
      "application/vnd.jupyter.widget-view+json": {
       "model_id": "",
       "version_major": 2,
       "version_minor": 0
      },
      "text/plain": [
       "  0%|          | 0/683 [00:00<?, ?it/s]"
      ]
     },
     "metadata": {},
     "output_type": "display_data"
    },
    {
     "name": "stderr",
     "output_type": "stream",
     "text": [
      "/tmp/ipykernel_9006/3873993405.py:8: UserWarning: semantic_masks/1.tiff is a low contrast image\n",
      "  imsave(f'semantic_masks/{n}.tiff', semantic_mask)\n"
     ]
    },
    {
     "data": {
      "application/vnd.jupyter.widget-view+json": {
       "model_id": "",
       "version_major": 2,
       "version_minor": 0
      },
      "text/plain": [
       "  0%|          | 0/750 [00:00<?, ?it/s]"
      ]
     },
     "metadata": {},
     "output_type": "display_data"
    },
    {
     "name": "stderr",
     "output_type": "stream",
     "text": [
      "/tmp/ipykernel_9006/3873993405.py:8: UserWarning: semantic_masks/2.tiff is a low contrast image\n",
      "  imsave(f'semantic_masks/{n}.tiff', semantic_mask)\n"
     ]
    },
    {
     "data": {
      "application/vnd.jupyter.widget-view+json": {
       "model_id": "",
       "version_major": 2,
       "version_minor": 0
      },
      "text/plain": [
       "  0%|          | 0/782 [00:00<?, ?it/s]"
      ]
     },
     "metadata": {},
     "output_type": "display_data"
    },
    {
     "name": "stderr",
     "output_type": "stream",
     "text": [
      "/tmp/ipykernel_9006/3873993405.py:8: UserWarning: semantic_masks/3.tiff is a low contrast image\n",
      "  imsave(f'semantic_masks/{n}.tiff', semantic_mask)\n"
     ]
    },
    {
     "data": {
      "application/vnd.jupyter.widget-view+json": {
       "model_id": "10ebef9c4cdd4415bcc12b3152e41a2f",
       "version_major": 2,
       "version_minor": 0
      },
      "text/plain": [
       "  0%|          | 0/793 [00:00<?, ?it/s]"
      ]
     },
     "metadata": {},
     "output_type": "display_data"
    },
    {
     "name": "stderr",
     "output_type": "stream",
     "text": [
      "\n",
      "KeyboardInterrupt\n",
      "\n"
     ]
    }
   ],
   "source": [
    "masks_16bit = np.load('segmentation/masks.npy',)\n",
    "for n, frame in tqdm(enumerate(masks_16bit), total = len(masks)):\n",
    "    semantic_mask = np.zeros(frame.shape, dtype = np.uint8)\n",
    "    for segment_ID in tqdm(range(1,np.max(frame)), leave = False):\n",
    "        segment = frame == segment_ID\n",
    "        eroded_segment = binary_erosion(segment)\n",
    "        semantic_mask += eroded_segment.astype(np.uint8)\n",
    "    imsave(f'semantic_masks/{n}.tiff', semantic_mask)"
   ]
  },
  {
   "cell_type": "markdown",
   "id": "c81419e5",
   "metadata": {},
   "source": [
    "# look to be half the size, what if remove small segments?, they are 8bit"
   ]
  },
  {
   "cell_type": "code",
   "execution_count": 25,
   "id": "b516f3e8",
   "metadata": {},
   "outputs": [],
   "source": [
    "from skimage.morphology import remove_small_objects"
   ]
  },
  {
   "cell_type": "code",
   "execution_count": 26,
   "id": "bc335087",
   "metadata": {},
   "outputs": [],
   "source": [
    "!mkdir semantic_masks_cleaned"
   ]
  },
  {
   "cell_type": "code",
   "execution_count": 27,
   "id": "352212da",
   "metadata": {},
   "outputs": [
    {
     "data": {
      "application/vnd.jupyter.widget-view+json": {
       "model_id": "f49ae5a47b244dc781100c7a84228d65",
       "version_major": 2,
       "version_minor": 0
      },
      "text/plain": [
       "  0%|          | 0/75 [00:00<?, ?it/s]"
      ]
     },
     "metadata": {},
     "output_type": "display_data"
    },
    {
     "data": {
      "application/vnd.jupyter.widget-view+json": {
       "model_id": "",
       "version_major": 2,
       "version_minor": 0
      },
      "text/plain": [
       "  0%|          | 0/769 [00:00<?, ?it/s]"
      ]
     },
     "metadata": {},
     "output_type": "display_data"
    },
    {
     "name": "stderr",
     "output_type": "stream",
     "text": [
      "/tmp/ipykernel_9006/811745436.py:9: UserWarning: semantic_masks_cleaned/0.tiff is a low contrast image\n",
      "  imsave(f'semantic_masks_cleaned/{n}.tiff', semantic_mask)\n"
     ]
    },
    {
     "data": {
      "application/vnd.jupyter.widget-view+json": {
       "model_id": "",
       "version_major": 2,
       "version_minor": 0
      },
      "text/plain": [
       "  0%|          | 0/683 [00:00<?, ?it/s]"
      ]
     },
     "metadata": {},
     "output_type": "display_data"
    },
    {
     "name": "stderr",
     "output_type": "stream",
     "text": [
      "/tmp/ipykernel_9006/811745436.py:9: UserWarning: semantic_masks_cleaned/1.tiff is a low contrast image\n",
      "  imsave(f'semantic_masks_cleaned/{n}.tiff', semantic_mask)\n"
     ]
    },
    {
     "data": {
      "application/vnd.jupyter.widget-view+json": {
       "model_id": "",
       "version_major": 2,
       "version_minor": 0
      },
      "text/plain": [
       "  0%|          | 0/749 [00:00<?, ?it/s]"
      ]
     },
     "metadata": {},
     "output_type": "display_data"
    },
    {
     "name": "stderr",
     "output_type": "stream",
     "text": [
      "/tmp/ipykernel_9006/811745436.py:9: UserWarning: semantic_masks_cleaned/2.tiff is a low contrast image\n",
      "  imsave(f'semantic_masks_cleaned/{n}.tiff', semantic_mask)\n"
     ]
    },
    {
     "data": {
      "application/vnd.jupyter.widget-view+json": {
       "model_id": "",
       "version_major": 2,
       "version_minor": 0
      },
      "text/plain": [
       "  0%|          | 0/773 [00:00<?, ?it/s]"
      ]
     },
     "metadata": {},
     "output_type": "display_data"
    },
    {
     "name": "stderr",
     "output_type": "stream",
     "text": [
      "/tmp/ipykernel_9006/811745436.py:9: UserWarning: semantic_masks_cleaned/3.tiff is a low contrast image\n",
      "  imsave(f'semantic_masks_cleaned/{n}.tiff', semantic_mask)\n"
     ]
    },
    {
     "data": {
      "application/vnd.jupyter.widget-view+json": {
       "model_id": "74153fff66f749988def24465a942400",
       "version_major": 2,
       "version_minor": 0
      },
      "text/plain": [
       "  0%|          | 0/793 [00:00<?, ?it/s]"
      ]
     },
     "metadata": {},
     "output_type": "display_data"
    },
    {
     "name": "stderr",
     "output_type": "stream",
     "text": [
      "\n",
      "KeyboardInterrupt\n",
      "\n"
     ]
    }
   ],
   "source": [
    "masks_16bit = np.load('segmentation/masks.npy',)\n",
    "for n, frame in tqdm(enumerate(masks_16bit), total = len(masks)):\n",
    "    semantic_mask = np.zeros(frame.shape, dtype = np.uint8)\n",
    "    frame = remove_small_objects(frame, min_size=2500)\n",
    "    for segment_ID in tqdm(range(1,np.max(frame)), leave = False):\n",
    "        segment = frame == segment_ID\n",
    "        eroded_segment = binary_erosion(segment)\n",
    "        semantic_mask += eroded_segment.astype(np.uint8)\n",
    "    imsave(f'semantic_masks_cleaned/{n}.tiff', semantic_mask)"
   ]
  },
  {
   "cell_type": "code",
   "execution_count": 29,
   "id": "70b2b276",
   "metadata": {},
   "outputs": [
    {
     "name": "stdout",
     "output_type": "stream",
     "text": [
      "Using device: cuda\n",
      "\n",
      "NVIDIA RTX A6000\n",
      "Memory Usage:\n",
      "Allocated: 0.0 GB\n",
      "Cached:    0.0 GB\n"
     ]
    }
   ],
   "source": [
    "import torch\n",
    "# setting device on GPU if available, else CPU\n",
    "device = torch.device('cuda' if torch.cuda.is_available() else 'cpu')\n",
    "print('Using device:', device)\n",
    "print()\n",
    "#Additional Info when using cuda\n",
    "if device.type == 'cuda':\n",
    "    print(torch.cuda.get_device_name(0))\n",
    "    print('Memory Usage:')\n",
    "    print('Allocated:', round(torch.cuda.memory_allocated(0)/1024**3,1), 'GB')\n",
    "    print('Cached:   ', round(torch.cuda.memory_reserved(0)/1024**3,1), 'GB')"
   ]
  },
  {
   "cell_type": "code",
   "execution_count": 8,
   "id": "b0f7d43c",
   "metadata": {},
   "outputs": [],
   "source": [
    "### convert to dask array so that it is compatible with images for localisation\n",
    "masks = da.from_array(masks)"
   ]
  },
  {
   "cell_type": "code",
   "execution_count": 9,
   "id": "1decc878",
   "metadata": {},
   "outputs": [
    {
     "data": {
      "text/html": [
       "<table>\n",
       "    <tr>\n",
       "        <td>\n",
       "            <table>\n",
       "                <thead>\n",
       "                    <tr>\n",
       "                        <td> </td>\n",
       "                        <th> Array </th>\n",
       "                        <th> Chunk </th>\n",
       "                    </tr>\n",
       "                </thead>\n",
       "                <tbody>\n",
       "                    \n",
       "                    <tr>\n",
       "                        <th> Bytes </th>\n",
       "                        <td> 5.11 GiB </td>\n",
       "                        <td> 106.79 MiB </td>\n",
       "                    </tr>\n",
       "                    \n",
       "                    <tr>\n",
       "                        <th> Shape </th>\n",
       "                        <td> (75, 6048, 6048) </td>\n",
       "                        <td> (75, 864, 864) </td>\n",
       "                    </tr>\n",
       "                    <tr>\n",
       "                        <th> Count </th>\n",
       "                        <td> 49 Tasks </td>\n",
       "                        <td> 49 Chunks </td>\n",
       "                    </tr>\n",
       "                    <tr>\n",
       "                    <th> Type </th>\n",
       "                    <td> uint16 </td>\n",
       "                    <td> numpy.ndarray </td>\n",
       "                    </tr>\n",
       "                </tbody>\n",
       "            </table>\n",
       "        </td>\n",
       "        <td>\n",
       "        <svg width=\"195\" height=\"185\" style=\"stroke:rgb(0,0,0);stroke-width:1\" >\n",
       "\n",
       "  <!-- Horizontal lines -->\n",
       "  <line x1=\"10\" y1=\"0\" x2=\"25\" y2=\"15\" style=\"stroke-width:2\" />\n",
       "  <line x1=\"10\" y1=\"17\" x2=\"25\" y2=\"32\" />\n",
       "  <line x1=\"10\" y1=\"34\" x2=\"25\" y2=\"49\" />\n",
       "  <line x1=\"10\" y1=\"51\" x2=\"25\" y2=\"67\" />\n",
       "  <line x1=\"10\" y1=\"68\" x2=\"25\" y2=\"84\" />\n",
       "  <line x1=\"10\" y1=\"85\" x2=\"25\" y2=\"101\" />\n",
       "  <line x1=\"10\" y1=\"102\" x2=\"25\" y2=\"118\" />\n",
       "  <line x1=\"10\" y1=\"120\" x2=\"25\" y2=\"135\" style=\"stroke-width:2\" />\n",
       "\n",
       "  <!-- Vertical lines -->\n",
       "  <line x1=\"10\" y1=\"0\" x2=\"10\" y2=\"120\" style=\"stroke-width:2\" />\n",
       "  <line x1=\"25\" y1=\"15\" x2=\"25\" y2=\"135\" style=\"stroke-width:2\" />\n",
       "\n",
       "  <!-- Colored Rectangle -->\n",
       "  <polygon points=\"10.0,0.0 25.57197789387105,15.57197789387105 25.57197789387105,135.57197789387106 10.0,120.0\" style=\"fill:#ECB172A0;stroke-width:0\"/>\n",
       "\n",
       "  <!-- Horizontal lines -->\n",
       "  <line x1=\"10\" y1=\"0\" x2=\"130\" y2=\"0\" style=\"stroke-width:2\" />\n",
       "  <line x1=\"25\" y1=\"15\" x2=\"145\" y2=\"15\" style=\"stroke-width:2\" />\n",
       "\n",
       "  <!-- Vertical lines -->\n",
       "  <line x1=\"10\" y1=\"0\" x2=\"25\" y2=\"15\" style=\"stroke-width:2\" />\n",
       "  <line x1=\"27\" y1=\"0\" x2=\"42\" y2=\"15\" />\n",
       "  <line x1=\"44\" y1=\"0\" x2=\"59\" y2=\"15\" />\n",
       "  <line x1=\"61\" y1=\"0\" x2=\"77\" y2=\"15\" />\n",
       "  <line x1=\"78\" y1=\"0\" x2=\"94\" y2=\"15\" />\n",
       "  <line x1=\"95\" y1=\"0\" x2=\"111\" y2=\"15\" />\n",
       "  <line x1=\"112\" y1=\"0\" x2=\"128\" y2=\"15\" />\n",
       "  <line x1=\"130\" y1=\"0\" x2=\"145\" y2=\"15\" style=\"stroke-width:2\" />\n",
       "\n",
       "  <!-- Colored Rectangle -->\n",
       "  <polygon points=\"10.0,0.0 130.0,0.0 145.57197789387106,15.57197789387105 25.57197789387105,15.57197789387105\" style=\"fill:#ECB172A0;stroke-width:0\"/>\n",
       "\n",
       "  <!-- Horizontal lines -->\n",
       "  <line x1=\"25\" y1=\"15\" x2=\"145\" y2=\"15\" style=\"stroke-width:2\" />\n",
       "  <line x1=\"25\" y1=\"32\" x2=\"145\" y2=\"32\" />\n",
       "  <line x1=\"25\" y1=\"49\" x2=\"145\" y2=\"49\" />\n",
       "  <line x1=\"25\" y1=\"67\" x2=\"145\" y2=\"67\" />\n",
       "  <line x1=\"25\" y1=\"84\" x2=\"145\" y2=\"84\" />\n",
       "  <line x1=\"25\" y1=\"101\" x2=\"145\" y2=\"101\" />\n",
       "  <line x1=\"25\" y1=\"118\" x2=\"145\" y2=\"118\" />\n",
       "  <line x1=\"25\" y1=\"135\" x2=\"145\" y2=\"135\" style=\"stroke-width:2\" />\n",
       "\n",
       "  <!-- Vertical lines -->\n",
       "  <line x1=\"25\" y1=\"15\" x2=\"25\" y2=\"135\" style=\"stroke-width:2\" />\n",
       "  <line x1=\"42\" y1=\"15\" x2=\"42\" y2=\"135\" />\n",
       "  <line x1=\"59\" y1=\"15\" x2=\"59\" y2=\"135\" />\n",
       "  <line x1=\"77\" y1=\"15\" x2=\"77\" y2=\"135\" />\n",
       "  <line x1=\"94\" y1=\"15\" x2=\"94\" y2=\"135\" />\n",
       "  <line x1=\"111\" y1=\"15\" x2=\"111\" y2=\"135\" />\n",
       "  <line x1=\"128\" y1=\"15\" x2=\"128\" y2=\"135\" />\n",
       "  <line x1=\"145\" y1=\"15\" x2=\"145\" y2=\"135\" style=\"stroke-width:2\" />\n",
       "\n",
       "  <!-- Colored Rectangle -->\n",
       "  <polygon points=\"25.57197789387105,15.57197789387105 145.57197789387106,15.57197789387105 145.57197789387106,135.57197789387106 25.57197789387105,135.57197789387106\" style=\"fill:#ECB172A0;stroke-width:0\"/>\n",
       "\n",
       "  <!-- Text -->\n",
       "  <text x=\"85.571978\" y=\"155.571978\" font-size=\"1.0rem\" font-weight=\"100\" text-anchor=\"middle\" >6048</text>\n",
       "  <text x=\"165.571978\" y=\"75.571978\" font-size=\"1.0rem\" font-weight=\"100\" text-anchor=\"middle\" transform=\"rotate(-90,165.571978,75.571978)\">6048</text>\n",
       "  <text x=\"7.785989\" y=\"147.785989\" font-size=\"1.0rem\" font-weight=\"100\" text-anchor=\"middle\" transform=\"rotate(45,7.785989,147.785989)\">75</text>\n",
       "</svg>\n",
       "        </td>\n",
       "    </tr>\n",
       "</table>"
      ],
      "text/plain": [
       "dask.array<array, shape=(75, 6048, 6048), dtype=uint16, chunksize=(75, 864, 864), chunktype=numpy.ndarray>"
      ]
     },
     "execution_count": 9,
     "metadata": {},
     "output_type": "execute_result"
    }
   ],
   "source": [
    "masks"
   ]
  },
  {
   "cell_type": "markdown",
   "id": "947b0304",
   "metadata": {},
   "source": [
    "# Localise raw masks\n",
    "\n",
    "Include size filter and measurements of fluorescence"
   ]
  },
  {
   "cell_type": "code",
   "execution_count": 11,
   "id": "90c32951",
   "metadata": {},
   "outputs": [],
   "source": [
    "feat = [\n",
    "      \"area\",\n",
    "      \"major_axis_length\",\n",
    "      \"minor_axis_length\",\n",
    "      \"orientation\",\n",
    "      \"mean_intensity\",\n",
    "        ]"
   ]
  },
  {
   "cell_type": "code",
   "execution_count": 25,
   "id": "6013f883",
   "metadata": {},
   "outputs": [
    {
     "name": "stderr",
     "output_type": "stream",
     "text": [
      "[INFO][2023/01/19 04:56:11 PM] Localizing objects from segmentation...\n",
      "[INFO][2023/01/19 04:56:11 PM] Found intensity_image data\n",
      "[INFO][2023/01/19 05:12:21 PM] Objects are of type: <class 'dict'>\n",
      "[INFO][2023/01/19 05:12:21 PM] ...Found 89235 objects in 75 frames.\n"
     ]
    }
   ],
   "source": [
    "objects = btrack.utils.segmentation_to_objects(\n",
    "    masks, \n",
    "    images,\n",
    "    properties = tuple(feat),\n",
    "    use_weighted_centroid = False, \n",
    ")"
   ]
  },
  {
   "cell_type": "code",
   "execution_count": 26,
   "id": "0f91ad0e",
   "metadata": {},
   "outputs": [],
   "source": [
    "objects = [o for o in objects if o.properties['area'] > 2500]"
   ]
  },
  {
   "cell_type": "markdown",
   "id": "b2cb4615",
   "metadata": {},
   "source": [
    "#### Find the efd?"
   ]
  },
  {
   "cell_type": "code",
   "execution_count": null,
   "id": "211f0059",
   "metadata": {},
   "outputs": [],
   "source": [
    "### finding the EFD\n",
    "for obj in tqdm(objects):\n",
    "    ### extract the intensity image (1ch only)\n",
    "    glimpse = obj.properties['intensity_image'][...,0]\n",
    "    ### pad the glimpse to ensure only one object is identifiable\n",
    "    glimpse = np.pad(glimpse, pad_width = 1)\n",
    "    ### find the contours (zero because only one object)\n",
    "    contours = skimage.measure.find_contours(glimpse, fully_connected='high', level = 0.5)[0]\n",
    "    ### get the efd\n",
    "    efd = elliptic_fourier_descriptors(contours, order=100, normalize=True)\n",
    "#     obj.properties = {'efd': efd}\n",
    "    flatten_efd = efd.flatten()\n",
    "    obj.properties = {'efd flat': flatten_efd}"
   ]
  },
  {
   "cell_type": "code",
   "execution_count": 27,
   "id": "9f2181ad",
   "metadata": {},
   "outputs": [
    {
     "name": "stderr",
     "output_type": "stream",
     "text": [
      "[INFO][2023/01/19 05:12:22 PM] Opening HDF file: objects.h5...\n",
      "[INFO][2023/01/19 05:13:04 PM] Writing objects/obj_type_1\n",
      "[INFO][2023/01/19 05:13:04 PM] Writing labels/obj_type_1\n",
      "[INFO][2023/01/19 05:13:04 PM] Loading objects/obj_type_1 (40381, 5) (40381 filtered: None)\n",
      "[INFO][2023/01/19 05:13:09 PM] Writing properties/obj_type_1/area (40381,)\n",
      "[INFO][2023/01/19 05:13:09 PM] Writing properties/obj_type_1/major_axis_length (40381,)\n",
      "[INFO][2023/01/19 05:13:09 PM] Writing properties/obj_type_1/minor_axis_length (40381,)\n",
      "[INFO][2023/01/19 05:13:09 PM] Writing properties/obj_type_1/orientation (40381,)\n",
      "[INFO][2023/01/19 05:13:09 PM] Writing properties/obj_type_1/mean_intensity-0 (40381,)\n",
      "[INFO][2023/01/19 05:13:09 PM] Writing properties/obj_type_1/mean_intensity-1 (40381,)\n",
      "[INFO][2023/01/19 05:13:09 PM] Closing HDF file: objects.h5\n"
     ]
    }
   ],
   "source": [
    "with btrack.dataio.HDF5FileHandler(\n",
    "     'objects.h5', 'w', obj_type='obj_type_1',\n",
    ") as hdf:\n",
    "    hdf.write_segmentation(masks)\n",
    "    hdf.write_objects(objects)"
   ]
  },
  {
   "cell_type": "code",
   "execution_count": 29,
   "id": "b17c88d3",
   "metadata": {},
   "outputs": [
    {
     "data": {
      "text/html": [
       "<table border=\"1\" class=\"dataframe\">\n",
       "  <thead>\n",
       "    <tr style=\"text-align: right;\">\n",
       "      <th></th>\n",
       "      <th>ID</th>\n",
       "      <th>x</th>\n",
       "      <th>y</th>\n",
       "      <th>z</th>\n",
       "      <th>t</th>\n",
       "      <th>dummy</th>\n",
       "      <th>states</th>\n",
       "      <th>label</th>\n",
       "      <th>area</th>\n",
       "      <th>major_axis_length</th>\n",
       "      <th>minor_axis_length</th>\n",
       "      <th>orientation</th>\n",
       "      <th>mean_intensity-0</th>\n",
       "      <th>mean_intensity-1</th>\n",
       "    </tr>\n",
       "  </thead>\n",
       "  <tbody>\n",
       "    <tr>\n",
       "      <th>0</th>\n",
       "      <td>0</td>\n",
       "      <td>257.838564</td>\n",
       "      <td>104.539205</td>\n",
       "      <td>0.0</td>\n",
       "      <td>0</td>\n",
       "      <td>False</td>\n",
       "      <td>7</td>\n",
       "      <td>5</td>\n",
       "      <td>36194</td>\n",
       "      <td>244.63143</td>\n",
       "      <td>204.217784</td>\n",
       "      <td>-0.625041</td>\n",
       "      <td>1751.473891</td>\n",
       "      <td>343.588302</td>\n",
       "    </tr>\n",
       "  </tbody>\n",
       "</table>"
      ],
      "text/plain": [
       "{'ID': 0, 'x': 257.8385644029397, 'y': 104.5392053931591, 'z': 0.0, 't': 0, 'dummy': False, 'states': 7, 'label': 5, 'area': 36194, 'major_axis_length': 244.63142988672934, 'minor_axis_length': 204.21778412309249, 'orientation': -0.6250412899536294, 'mean_intensity-0': 1751.473890700116, 'mean_intensity-1': 343.58830192849643}"
      ]
     },
     "execution_count": 29,
     "metadata": {},
     "output_type": "execute_result"
    }
   ],
   "source": [
    "objects[0]"
   ]
  }
 ],
 "metadata": {
  "kernelspec": {
   "display_name": "aero",
   "language": "python",
   "name": "aero"
  },
  "language_info": {
   "codemirror_mode": {
    "name": "ipython",
    "version": 3
   },
   "file_extension": ".py",
   "mimetype": "text/x-python",
   "name": "python",
   "nbconvert_exporter": "python",
   "pygments_lexer": "ipython3",
   "version": "3.9.12"
  }
 },
 "nbformat": 4,
 "nbformat_minor": 5
}
