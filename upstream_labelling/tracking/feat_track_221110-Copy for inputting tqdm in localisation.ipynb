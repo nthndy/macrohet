{
 "cells": [
  {
   "cell_type": "markdown",
   "id": "5b0058e8",
   "metadata": {},
   "source": [
    "# Tracking using image features\n",
    "\n",
    "Testing the Elliptical Fourier Descriptors (EFD) similarity between instances of cells"
   ]
  },
  {
   "cell_type": "code",
   "execution_count": 1,
   "id": "18b20799",
   "metadata": {},
   "outputs": [],
   "source": [
    "import dask.array as da\n",
    "import napari\n",
    "import btrack\n",
    "from tqdm.auto import tqdm\n",
    "import skimage\n",
    "from skimage.io import imshow,  imsave\n",
    "import matplotlib.pyplot as plt\n",
    "import numpy as np\n",
    "from pyefd import elliptic_fourier_descriptors\n",
    "plt.rcParams[\"figure.figsize\"] = (15,7)"
   ]
  },
  {
   "cell_type": "markdown",
   "id": "410eeae1",
   "metadata": {},
   "source": [
    "### Load images from zarr and compress into max projections"
   ]
  },
  {
   "cell_type": "code",
   "execution_count": 2,
   "id": "61ffbb7e",
   "metadata": {},
   "outputs": [],
   "source": [
    "gfp = da.from_zarr('/mnt/DATA/sandbox/pierre_live_cell_data/outputs/Replication_IPSDM_GFP/zarr/tzxy_stack_ch1.zarr/')\n",
    "rfp = da.from_zarr('/mnt/DATA/sandbox/pierre_live_cell_data/outputs/Replication_IPSDM_GFP/zarr/tzxy_stack_ch2.zarr/')\n",
    "gfp = da.sum(gfp, axis = 1, dtype='u2')\n",
    "rfp = da.sum(rfp, axis = 1, dtype='u2')\n",
    "masks = da.from_zarr(f'/mnt/DATA/sandbox/pierre_live_cell_data/outputs/Replication_IPSDM_GFP/zarr/tzxy_stack_ch99.zarr/',)# chunks = gfp.chunks)"
   ]
  },
  {
   "cell_type": "markdown",
   "id": "ec51859f",
   "metadata": {},
   "source": [
    "#### Compress into multichannel image for btrack"
   ]
  },
  {
   "cell_type": "code",
   "execution_count": 3,
   "id": "bd1c8a4b",
   "metadata": {},
   "outputs": [
    {
     "data": {
      "text/html": [
       "<table>\n",
       "    <tr>\n",
       "        <td>\n",
       "            <table>\n",
       "                <thead>\n",
       "                    <tr>\n",
       "                        <td> </td>\n",
       "                        <th> Array </th>\n",
       "                        <th> Chunk </th>\n",
       "                    </tr>\n",
       "                </thead>\n",
       "                <tbody>\n",
       "                    \n",
       "                    <tr>\n",
       "                        <th> Bytes </th>\n",
       "                        <td> 10.22 GiB </td>\n",
       "                        <td> 8.90 MiB </td>\n",
       "                    </tr>\n",
       "                    \n",
       "                    <tr>\n",
       "                        <th> Shape </th>\n",
       "                        <td> (75, 6048, 6048, 2) </td>\n",
       "                        <td> (1, 2160, 2160, 1) </td>\n",
       "                    </tr>\n",
       "                    <tr>\n",
       "                        <th> Count </th>\n",
       "                        <td> 10802 Tasks </td>\n",
       "                        <td> 1350 Chunks </td>\n",
       "                    </tr>\n",
       "                    <tr>\n",
       "                    <th> Type </th>\n",
       "                    <td> uint16 </td>\n",
       "                    <td> numpy.ndarray </td>\n",
       "                    </tr>\n",
       "                </tbody>\n",
       "            </table>\n",
       "        </td>\n",
       "        <td>\n",
       "        <svg width=\"338\" height=\"240\" style=\"stroke:rgb(0,0,0);stroke-width:1\" >\n",
       "\n",
       "  <!-- Horizontal lines -->\n",
       "  <line x1=\"0\" y1=\"0\" x2=\"26\" y2=\"0\" style=\"stroke-width:2\" />\n",
       "  <line x1=\"0\" y1=\"25\" x2=\"26\" y2=\"25\" style=\"stroke-width:2\" />\n",
       "\n",
       "  <!-- Vertical lines -->\n",
       "  <line x1=\"0\" y1=\"0\" x2=\"0\" y2=\"25\" style=\"stroke-width:2\" />\n",
       "  <line x1=\"0\" y1=\"0\" x2=\"0\" y2=\"25\" />\n",
       "  <line x1=\"1\" y1=\"0\" x2=\"1\" y2=\"25\" />\n",
       "  <line x1=\"2\" y1=\"0\" x2=\"2\" y2=\"25\" />\n",
       "  <line x1=\"3\" y1=\"0\" x2=\"3\" y2=\"25\" />\n",
       "  <line x1=\"3\" y1=\"0\" x2=\"3\" y2=\"25\" />\n",
       "  <line x1=\"4\" y1=\"0\" x2=\"4\" y2=\"25\" />\n",
       "  <line x1=\"5\" y1=\"0\" x2=\"5\" y2=\"25\" />\n",
       "  <line x1=\"6\" y1=\"0\" x2=\"6\" y2=\"25\" />\n",
       "  <line x1=\"7\" y1=\"0\" x2=\"7\" y2=\"25\" />\n",
       "  <line x1=\"8\" y1=\"0\" x2=\"8\" y2=\"25\" />\n",
       "  <line x1=\"8\" y1=\"0\" x2=\"8\" y2=\"25\" />\n",
       "  <line x1=\"9\" y1=\"0\" x2=\"9\" y2=\"25\" />\n",
       "  <line x1=\"10\" y1=\"0\" x2=\"10\" y2=\"25\" />\n",
       "  <line x1=\"11\" y1=\"0\" x2=\"11\" y2=\"25\" />\n",
       "  <line x1=\"12\" y1=\"0\" x2=\"12\" y2=\"25\" />\n",
       "  <line x1=\"13\" y1=\"0\" x2=\"13\" y2=\"25\" />\n",
       "  <line x1=\"13\" y1=\"0\" x2=\"13\" y2=\"25\" />\n",
       "  <line x1=\"14\" y1=\"0\" x2=\"14\" y2=\"25\" />\n",
       "  <line x1=\"15\" y1=\"0\" x2=\"15\" y2=\"25\" />\n",
       "  <line x1=\"16\" y1=\"0\" x2=\"16\" y2=\"25\" />\n",
       "  <line x1=\"17\" y1=\"0\" x2=\"17\" y2=\"25\" />\n",
       "  <line x1=\"18\" y1=\"0\" x2=\"18\" y2=\"25\" />\n",
       "  <line x1=\"18\" y1=\"0\" x2=\"18\" y2=\"25\" />\n",
       "  <line x1=\"19\" y1=\"0\" x2=\"19\" y2=\"25\" />\n",
       "  <line x1=\"20\" y1=\"0\" x2=\"20\" y2=\"25\" />\n",
       "  <line x1=\"21\" y1=\"0\" x2=\"21\" y2=\"25\" />\n",
       "  <line x1=\"22\" y1=\"0\" x2=\"22\" y2=\"25\" />\n",
       "  <line x1=\"22\" y1=\"0\" x2=\"22\" y2=\"25\" />\n",
       "  <line x1=\"23\" y1=\"0\" x2=\"23\" y2=\"25\" />\n",
       "  <line x1=\"24\" y1=\"0\" x2=\"24\" y2=\"25\" />\n",
       "  <line x1=\"25\" y1=\"0\" x2=\"25\" y2=\"25\" />\n",
       "  <line x1=\"26\" y1=\"0\" x2=\"26\" y2=\"25\" style=\"stroke-width:2\" />\n",
       "\n",
       "  <!-- Colored Rectangle -->\n",
       "  <polygon points=\"0.0,0.0 26.472362419580787,0.0 26.472362419580787,25.412616514582485 0.0,25.412616514582485\" style=\"fill:#8B4903A0;stroke-width:0\"/>\n",
       "\n",
       "  <!-- Text -->\n",
       "  <text x=\"13.236181\" y=\"45.412617\" font-size=\"1.0rem\" font-weight=\"100\" text-anchor=\"middle\" >75</text>\n",
       "  <text x=\"46.472362\" y=\"12.706308\" font-size=\"1.0rem\" font-weight=\"100\" text-anchor=\"middle\" transform=\"rotate(0,46.472362,12.706308)\">1</text>\n",
       "\n",
       "\n",
       "  <!-- Horizontal lines -->\n",
       "  <line x1=\"96\" y1=\"0\" x2=\"166\" y2=\"70\" style=\"stroke-width:2\" />\n",
       "  <line x1=\"96\" y1=\"42\" x2=\"166\" y2=\"113\" />\n",
       "  <line x1=\"96\" y1=\"85\" x2=\"166\" y2=\"156\" />\n",
       "  <line x1=\"96\" y1=\"120\" x2=\"166\" y2=\"190\" style=\"stroke-width:2\" />\n",
       "\n",
       "  <!-- Vertical lines -->\n",
       "  <line x1=\"96\" y1=\"0\" x2=\"96\" y2=\"120\" style=\"stroke-width:2\" />\n",
       "  <line x1=\"121\" y1=\"25\" x2=\"121\" y2=\"145\" />\n",
       "  <line x1=\"146\" y1=\"50\" x2=\"146\" y2=\"170\" />\n",
       "  <line x1=\"166\" y1=\"70\" x2=\"166\" y2=\"190\" style=\"stroke-width:2\" />\n",
       "\n",
       "  <!-- Colored Rectangle -->\n",
       "  <polygon points=\"96.0,0.0 166.58823529411765,70.58823529411765 166.58823529411765,190.58823529411765 96.0,120.0\" style=\"fill:#ECB172A0;stroke-width:0\"/>\n",
       "\n",
       "  <!-- Horizontal lines -->\n",
       "  <line x1=\"96\" y1=\"0\" x2=\"121\" y2=\"0\" style=\"stroke-width:2\" />\n",
       "  <line x1=\"121\" y1=\"25\" x2=\"146\" y2=\"25\" />\n",
       "  <line x1=\"146\" y1=\"50\" x2=\"171\" y2=\"50\" />\n",
       "  <line x1=\"166\" y1=\"70\" x2=\"192\" y2=\"70\" style=\"stroke-width:2\" />\n",
       "\n",
       "  <!-- Vertical lines -->\n",
       "  <line x1=\"96\" y1=\"0\" x2=\"166\" y2=\"70\" style=\"stroke-width:2\" />\n",
       "  <line x1=\"108\" y1=\"0\" x2=\"179\" y2=\"70\" />\n",
       "  <line x1=\"121\" y1=\"0\" x2=\"192\" y2=\"70\" style=\"stroke-width:2\" />\n",
       "\n",
       "  <!-- Colored Rectangle -->\n",
       "  <polygon points=\"96.0,0.0 121.41261651458248,0.0 192.00085180870013,70.58823529411765 166.58823529411765,70.58823529411765\" style=\"fill:#ECB172A0;stroke-width:0\"/>\n",
       "\n",
       "  <!-- Horizontal lines -->\n",
       "  <line x1=\"166\" y1=\"70\" x2=\"192\" y2=\"70\" style=\"stroke-width:2\" />\n",
       "  <line x1=\"166\" y1=\"113\" x2=\"192\" y2=\"113\" />\n",
       "  <line x1=\"166\" y1=\"156\" x2=\"192\" y2=\"156\" />\n",
       "  <line x1=\"166\" y1=\"190\" x2=\"192\" y2=\"190\" style=\"stroke-width:2\" />\n",
       "\n",
       "  <!-- Vertical lines -->\n",
       "  <line x1=\"166\" y1=\"70\" x2=\"166\" y2=\"190\" style=\"stroke-width:2\" />\n",
       "  <line x1=\"179\" y1=\"70\" x2=\"179\" y2=\"190\" />\n",
       "  <line x1=\"192\" y1=\"70\" x2=\"192\" y2=\"190\" style=\"stroke-width:2\" />\n",
       "\n",
       "  <!-- Colored Rectangle -->\n",
       "  <polygon points=\"166.58823529411765,70.58823529411765 192.00085180870013,70.58823529411765 192.00085180870013,190.58823529411765 166.58823529411765,190.58823529411765\" style=\"fill:#ECB172A0;stroke-width:0\"/>\n",
       "\n",
       "  <!-- Text -->\n",
       "  <text x=\"179.294544\" y=\"210.588235\" font-size=\"1.0rem\" font-weight=\"100\" text-anchor=\"middle\" >2</text>\n",
       "  <text x=\"212.000852\" y=\"130.588235\" font-size=\"1.0rem\" font-weight=\"100\" text-anchor=\"middle\" transform=\"rotate(-90,212.000852,130.588235)\">6048</text>\n",
       "  <text x=\"121.294118\" y=\"175.294118\" font-size=\"1.0rem\" font-weight=\"100\" text-anchor=\"middle\" transform=\"rotate(45,121.294118,175.294118)\">6048</text>\n",
       "</svg>\n",
       "        </td>\n",
       "    </tr>\n",
       "</table>"
      ],
      "text/plain": [
       "dask.array<stack, shape=(75, 6048, 6048, 2), dtype=uint16, chunksize=(1, 2160, 2160, 1), chunktype=numpy.ndarray>"
      ]
     },
     "execution_count": 3,
     "metadata": {},
     "output_type": "execute_result"
    }
   ],
   "source": [
    "image = da.stack([gfp, rfp], axis = -1)\n",
    "image"
   ]
  },
  {
   "cell_type": "markdown",
   "id": "8e0cdcb2",
   "metadata": {},
   "source": [
    "## Define features"
   ]
  },
  {
   "cell_type": "code",
   "execution_count": 4,
   "id": "38b8622b",
   "metadata": {},
   "outputs": [],
   "source": [
    "FEATURES = [\n",
    "  \"area\",\n",
    "  \"major_axis_length\",\n",
    "  \"minor_axis_length\",\n",
    "  \"orientation\",\n",
    "  \"solidity\",\n",
    "  \"mean_intensity\",\n",
    "    \"intensity_image\"\n",
    "]"
   ]
  },
  {
   "cell_type": "code",
   "execution_count": 5,
   "id": "916215f5",
   "metadata": {},
   "outputs": [
    {
     "name": "stderr",
     "output_type": "stream",
     "text": [
      "[INFO][2022/11/10 03:39:46 PM] Localizing objects from segmentation...\n",
      "[INFO][2022/11/10 03:39:46 PM] Found intensity_image data\n"
     ]
    },
    {
     "data": {
      "application/vnd.jupyter.widget-view+json": {
       "model_id": "5a73b6a5ba8746c58b6900cc3c6432c5",
       "version_major": 2,
       "version_minor": 0
      },
      "text/plain": [
       "  0%|          | 0/75 [00:00<?, ?it/s]"
      ]
     },
     "metadata": {},
     "output_type": "display_data"
    },
    {
     "name": "stderr",
     "output_type": "stream",
     "text": [
      "[INFO][2022/11/10 03:54:53 PM] Objects are of type: <class 'dict'>\n",
      "[INFO][2022/11/10 03:54:54 PM] ...Found 69608 objects in 75 frames.\n"
     ]
    }
   ],
   "source": [
    "objects = btrack.utils.segmentation_to_objects(\n",
    "    masks, \n",
    "    image,\n",
    "    properties = tuple(FEATURES),\n",
    "    use_weighted_centroid = False, \n",
    "    track_progress = True\n",
    ")"
   ]
  },
  {
   "cell_type": "code",
   "execution_count": 6,
   "id": "dcaef658",
   "metadata": {},
   "outputs": [
    {
     "ename": "NameError",
     "evalue": "name 'stop' is not defined",
     "output_type": "error",
     "traceback": [
      "\u001b[0;31m---------------------------------------------------------------------------\u001b[0m",
      "\u001b[0;31mNameError\u001b[0m                                 Traceback (most recent call last)",
      "Input \u001b[0;32mIn [6]\u001b[0m, in \u001b[0;36m<cell line: 1>\u001b[0;34m()\u001b[0m\n\u001b[0;32m----> 1\u001b[0m \u001b[43mstop\u001b[49m\n",
      "\u001b[0;31mNameError\u001b[0m: name 'stop' is not defined"
     ]
    }
   ],
   "source": [
    "stop"
   ]
  },
  {
   "cell_type": "markdown",
   "id": "82f8048d",
   "metadata": {},
   "source": [
    "#### Checking featuers were measured"
   ]
  },
  {
   "cell_type": "code",
   "execution_count": null,
   "id": "4e995e6c",
   "metadata": {},
   "outputs": [],
   "source": [
    "objects[0]"
   ]
  },
  {
   "cell_type": "code",
   "execution_count": null,
   "id": "ed81e72b",
   "metadata": {},
   "outputs": [],
   "source": [
    "### finding the EFD\n",
    "for obj in tqdm(objects):\n",
    "    ### extract the intensity image (1ch only)\n",
    "    glimpse = obj.properties['intensity_image'][0]\n",
    "    ### pad the glimpse to ensure only one object is identifiable\n",
    "    glimpse = np.pad(glimpse, pad_width = 1)\n",
    "    ### find the contours (zero because only one object)\n",
    "    contours = skimage.measure.find_contours(glimpse, fully_connected='high', level = 0.5)[0]\n",
    "    ### get the efd\n",
    "    efd = elliptic_fourier_descriptors(contours, order=100, normalize=True)\n",
    "#     obj.properties = {'efd': efd}\n",
    "    flatten_efd = efd.flatten()\n",
    "    obj.properties = {'efd flat': flatten_efd}"
   ]
  },
  {
   "cell_type": "markdown",
   "id": "1999f350",
   "metadata": {},
   "source": [
    "## Remove intensity image from objects \n",
    "\n",
    "btrack does not handle 2d arrays in objects"
   ]
  },
  {
   "cell_type": "code",
   "execution_count": null,
   "id": "65f53e44",
   "metadata": {},
   "outputs": [],
   "source": [
    "for obj in tqdm(objects):\n",
    "    obj.properties.pop('intensity_image')"
   ]
  },
  {
   "cell_type": "code",
   "execution_count": null,
   "id": "a65aa51d",
   "metadata": {},
   "outputs": [],
   "source": [
    "objects[0]"
   ]
  },
  {
   "cell_type": "markdown",
   "id": "3359bc8c",
   "metadata": {},
   "source": [
    "## Track"
   ]
  },
  {
   "cell_type": "code",
   "execution_count": null,
   "id": "f552907d",
   "metadata": {
    "scrolled": false
   },
   "outputs": [],
   "source": [
    "# initialise a tracker session using a context manager\n",
    "with btrack.BayesianTracker() as tracker:\n",
    "\n",
    "    # configure the tracker using a config file\n",
    "    tracker.configure_from_file(\n",
    "        '/home/dayn/analysis/BayesianTracker/models/particle_config.json'\n",
    "    )\n",
    "    tracker.verbose = True\n",
    "\n",
    "    tracker.max_search_radius = 400\n",
    "    \n",
    "    # use visual features to track\n",
    "    tracker.features = FEATURES\n",
    "    \n",
    "    # append the objects to be tracked\n",
    "    tracker.append(objects)\n",
    "\n",
    "    # set the volume\n",
    "    tracker.volume=((0, 6048), (0, 6048), (-1e5, 1e5))\n",
    "\n",
    "    # track them (in interactive mode)\n",
    "    tracker.track_interactive(step_size=25)\n",
    "\n",
    "    # generate hypotheses and run the global optimizer\n",
    "    tracker.optimize()\n",
    "\n",
    "#     ?tracker.export(f'/mnt/DATA/sandbox/pierre_live_cell_data/outputs/Replication_IPSDM_GFP/zarr/tracks.h5', obj_type='obj_type_1')\n",
    "\n",
    "#     # get the tracks in a format for napari visualization (optional)\n",
    "#     visualise_tracks, properties, graph = tracker.to_napari(ndim=2)\n",
    "    \n",
    "    tracks = tracker.tracks"
   ]
  },
  {
   "cell_type": "code",
   "execution_count": null,
   "id": "d23e6f3f",
   "metadata": {
    "scrolled": true
   },
   "outputs": [],
   "source": [
    "tracks[100]"
   ]
  },
  {
   "cell_type": "code",
   "execution_count": null,
   "id": "c7519f77",
   "metadata": {},
   "outputs": [],
   "source": [
    "print(tracks[0].properties['area'])"
   ]
  },
  {
   "cell_type": "code",
   "execution_count": null,
   "id": "292ced3f",
   "metadata": {},
   "outputs": [],
   "source": [
    "plt.hist([len(track) for track in tracks])"
   ]
  },
  {
   "cell_type": "code",
   "execution_count": null,
   "id": "b659635b",
   "metadata": {},
   "outputs": [],
   "source": [
    "len([len(track) for track in tracks if len(track) > 15])"
   ]
  },
  {
   "cell_type": "code",
   "execution_count": null,
   "id": "79a23279",
   "metadata": {},
   "outputs": [],
   "source": [
    "plt.hist([len(track) for track in tracks if len(track) > 7])"
   ]
  },
  {
   "cell_type": "markdown",
   "id": "a844a4f6",
   "metadata": {},
   "source": [
    "### Filter tracks"
   ]
  },
  {
   "cell_type": "code",
   "execution_count": null,
   "id": "cda42ab0",
   "metadata": {},
   "outputs": [],
   "source": []
  },
  {
   "cell_type": "code",
   "execution_count": null,
   "id": "5affa8a5",
   "metadata": {},
   "outputs": [],
   "source": [
    "tracks_filt = [track for track in tracks if len(track) > 15]\n",
    "visualise_tracks, properties, graph = btrack.utils.tracks_to_napari(tracks_filt, ndim = 2)"
   ]
  },
  {
   "cell_type": "code",
   "execution_count": null,
   "id": "cd1aa5de",
   "metadata": {},
   "outputs": [],
   "source": [
    "visualise_raw_tracks, properties, graph = btrack.utils.tracks_to_napari(tracks, ndim = 2)"
   ]
  },
  {
   "cell_type": "code",
   "execution_count": null,
   "id": "10d5d022",
   "metadata": {},
   "outputs": [],
   "source": [
    "viewer = napari.Viewer()\n",
    "viewer.add_image(gfp, name=\"gfp\", \n",
    "                 #contrast_limits=[0,255],\n",
    "                 blending = 'additive', colormap = 'green')\n",
    "# viewer.add_image(rfp, name=\"rfp\", \n",
    "#                 # contrast_limits=[0,55], \n",
    "#                  blending = 'additive', colormap = 'magenta')\n",
    "viewer.add_labels(masks, name = 'masks')\n",
    "viewer.add_tracks(visualise_tracks, name = 'tracks_filtered')\n",
    "viewer.add_tracks(visualise_raw_tracks, name = 'tracks')\n"
   ]
  },
  {
   "cell_type": "markdown",
   "id": "dc6d235a",
   "metadata": {},
   "source": [
    "### Inspecting one track (ID == 88)"
   ]
  },
  {
   "cell_type": "code",
   "execution_count": null,
   "id": "e944061b",
   "metadata": {},
   "outputs": [],
   "source": [
    "objects[0]"
   ]
  },
  {
   "cell_type": "code",
   "execution_count": null,
   "id": "ea565af5",
   "metadata": {},
   "outputs": [],
   "source": [
    "[track for track in tracks if track.ID == 2373][0]"
   ]
  },
  {
   "cell_type": "code",
   "execution_count": null,
   "id": "54672e46",
   "metadata": {},
   "outputs": [],
   "source": [
    "track_88 = [track for track in tracks if track.ID == 579][0]"
   ]
  },
  {
   "cell_type": "code",
   "execution_count": null,
   "id": "0ed5b64b",
   "metadata": {},
   "outputs": [],
   "source": [
    "track_88"
   ]
  },
  {
   "cell_type": "code",
   "execution_count": null,
   "id": "f4165555",
   "metadata": {
    "scrolled": true
   },
   "outputs": [],
   "source": [
    "plt.plot(track_88.properties['area'])"
   ]
  },
  {
   "cell_type": "markdown",
   "id": "cf203b86",
   "metadata": {},
   "source": [
    "### Inspecting one track (ID == 30)"
   ]
  },
  {
   "cell_type": "code",
   "execution_count": null,
   "id": "f820d7ec",
   "metadata": {},
   "outputs": [],
   "source": [
    "track_30 = [track for track in tracks if track.ID == 30][0]"
   ]
  },
  {
   "cell_type": "code",
   "execution_count": null,
   "id": "3c381f49",
   "metadata": {},
   "outputs": [],
   "source": [
    "track_30"
   ]
  },
  {
   "cell_type": "code",
   "execution_count": null,
   "id": "cc9dba23",
   "metadata": {
    "scrolled": true
   },
   "outputs": [],
   "source": [
    "plt.plot(track_30.properties['area'])"
   ]
  },
  {
   "cell_type": "markdown",
   "id": "a91c6a49",
   "metadata": {},
   "source": [
    "### Now doing on the whole FOV"
   ]
  },
  {
   "cell_type": "code",
   "execution_count": null,
   "id": "0dd5d80c",
   "metadata": {},
   "outputs": [],
   "source": [
    "gfp = da.from_zarr('/mnt/DATA/sandbox/pierre_live_cell_data/outputs/Replication_IPSDM_GFP/zarr/tzxy_stack_ch1.zarr/')\n",
    "rfp = da.from_zarr('/mnt/DATA/sandbox/pierre_live_cell_data/outputs/Replication_IPSDM_GFP/zarr/tzxy_stack_ch2.zarr/')\n",
    "gfp = da.sum(gfp, axis = 1, dtype='u2')\n",
    "rfp = da.sum(rfp, axis = 1, dtype='u2')\n",
    "masks = da.from_zarr(f'/mnt/DATA/sandbox/pierre_live_cell_data/outputs/Replication_IPSDM_GFP/zarr/tzxy_stack_ch99.zarr/',)# chunks = gfp.chunks)"
   ]
  },
  {
   "cell_type": "code",
   "execution_count": null,
   "id": "bc6814e6",
   "metadata": {},
   "outputs": [],
   "source": [
    "FEATURES = [\n",
    "  \"area\",\n",
    "  \"major_axis_length\",\n",
    "  \"minor_axis_length\",\n",
    "  \"orientation\",\n",
    "  \"solidity\",\n",
    "  \"mean_intensity\",\n",
    "]"
   ]
  },
  {
   "cell_type": "code",
   "execution_count": null,
   "id": "d08dd16c",
   "metadata": {},
   "outputs": [],
   "source": [
    "%%time\n",
    "\n",
    "objects = btrack.utils.segmentation_to_objects(\n",
    "    masks, \n",
    "    gfp,\n",
    "    properties = tuple(FEATURES), \n",
    ")"
   ]
  },
  {
   "cell_type": "code",
   "execution_count": null,
   "id": "9e0e64fc",
   "metadata": {},
   "outputs": [],
   "source": [
    "objects[0]"
   ]
  },
  {
   "cell_type": "code",
   "execution_count": null,
   "id": "f8dae798",
   "metadata": {},
   "outputs": [],
   "source": [
    "# initialise a tracker session using a context manager\n",
    "with btrack.BayesianTracker() as tracker:\n",
    "\n",
    "    # configure the tracker using a config file\n",
    "    tracker.configure_from_file(\n",
    "        '/home/dayn/analysis/BayesianTracker/models/test_config.json'\n",
    "    )\n",
    "    tracker.verbose = True\n",
    "\n",
    "    tracker.max_search_radius = 400\n",
    "    \n",
    "    # use visual features to track\n",
    "    tracker.features = FEATURES\n",
    "    \n",
    "    # append the objects to be tracked\n",
    "    tracker.append(objects)\n",
    "\n",
    "    # set the volume\n",
    "    tracker.volume=((0, 6048), (0, 6048), (-1e5, 1e5))\n",
    "\n",
    "    # track them (in interactive mode)\n",
    "    tracker.track_interactive(step_size=25)\n",
    "\n",
    "    # generate hypotheses and run the global optimizer\n",
    "    tracker.optimize()\n",
    "    \n",
    "    # store config\n",
    "    cfg = tracker.configuration\n",
    "\n",
    "    tracker.export(f'/mnt/DATA/sandbox/pierre_live_cell_data/outputs/Replication_IPSDM_GFP/zarr/tracks.h5', obj_type='obj_type_1')\n",
    "\n",
    "    # get the tracks in a format for napari visualization (optional)\n",
    "    visualise_tracks, properties, graph = tracker.to_napari(ndim=2)\n",
    "    \n",
    "    tracks = tracker.tracks"
   ]
  },
  {
   "cell_type": "code",
   "execution_count": null,
   "id": "7651d7bc",
   "metadata": {},
   "outputs": [],
   "source": [
    "tracks"
   ]
  },
  {
   "cell_type": "markdown",
   "id": "283f6991",
   "metadata": {},
   "source": [
    "New config"
   ]
  },
  {
   "cell_type": "code",
   "execution_count": null,
   "id": "cb9225d8",
   "metadata": {
    "scrolled": true
   },
   "outputs": [],
   "source": [
    "np.nanmean([len(track) for track in tracks if len(track)>30])"
   ]
  },
  {
   "cell_type": "code",
   "execution_count": null,
   "id": "cd394f58",
   "metadata": {},
   "outputs": [],
   "source": [
    "plt.hist([len(track) for track in tracks if len(track)>30])"
   ]
  },
  {
   "cell_type": "markdown",
   "id": "a9b305ef",
   "metadata": {},
   "source": [
    "Previous config (default particle track)"
   ]
  },
  {
   "attachments": {
    "image.png": {
     "image/png": "[encoded data removed]"
    }
   },
   "cell_type": "markdown",
   "id": "a9230f5a",
   "metadata": {},
   "source": [
    "![image.png](attachment:image.png)"
   ]
  },
  {
   "cell_type": "markdown",
   "id": "8423dc2e",
   "metadata": {},
   "source": [
    "checking dummies"
   ]
  },
  {
   "cell_type": "code",
   "execution_count": null,
   "id": "510ce187",
   "metadata": {},
   "outputs": [],
   "source": [
    "track_5603 = [track for track in tracks if track.ID ==5603][0]\n",
    "track_5603"
   ]
  },
  {
   "cell_type": "markdown",
   "id": "2cfe079d",
   "metadata": {},
   "source": [
    "### Filter tracks"
   ]
  },
  {
   "cell_type": "code",
   "execution_count": null,
   "id": "0e6c39b6",
   "metadata": {},
   "outputs": [],
   "source": [
    "tracks_filt = [track for track in tracks if len(track) > 30]\n",
    "visualise_tracks, properties, graph = btrack.utils.tracks_to_napari(tracks_filt, ndim = 2)"
   ]
  },
  {
   "cell_type": "code",
   "execution_count": null,
   "id": "2d5de00a",
   "metadata": {},
   "outputs": [],
   "source": [
    "viewer = napari.Viewer()\n",
    "viewer.add_image(gfp, name=\"gfp\", \n",
    "                 #contrast_limits=[0,255],\n",
    "                 blending = 'additive', colormap = 'green')\n",
    "# viewer.add_image(rfp, name=\"rfp\", \n",
    "#                 # contrast_limits=[0,55], \n",
    "#                  blending = 'additive', colormap = 'magenta')\n",
    "viewer.add_labels(masks, name = 'masks')\n",
    "viewer.add_tracks(visualise_tracks, name = 'tracks_filtered')"
   ]
  },
  {
   "cell_type": "markdown",
   "id": "8b8e51bc",
   "metadata": {},
   "source": [
    "#### Inspecting the longest track"
   ]
  },
  {
   "cell_type": "code",
   "execution_count": null,
   "id": "441f8b39",
   "metadata": {},
   "outputs": [],
   "source": [
    "import numpy as np"
   ]
  },
  {
   "cell_type": "code",
   "execution_count": null,
   "id": "23752269",
   "metadata": {},
   "outputs": [],
   "source": [
    "sorted([(len(track), track.ID) for track in tracks if len(track)>30])"
   ]
  },
  {
   "cell_type": "code",
   "execution_count": null,
   "id": "4bf24a5d",
   "metadata": {},
   "outputs": [],
   "source": [
    "track_5603 = [track for track in tracks if track.ID ==5603][0]"
   ]
  },
  {
   "cell_type": "code",
   "execution_count": null,
   "id": "caf4f6c0",
   "metadata": {},
   "outputs": [],
   "source": [
    "track_5603"
   ]
  }
 ],
 "metadata": {
  "kernelspec": {
   "display_name": "aero",
   "language": "python",
   "name": "aero"
  },
  "language_info": {
   "codemirror_mode": {
    "name": "ipython",
    "version": 3
   },
   "file_extension": ".py",
   "mimetype": "text/x-python",
   "name": "python",
   "nbconvert_exporter": "python",
   "pygments_lexer": "ipython3",
   "version": "3.9.12"
  }
 },
 "nbformat": 4,
 "nbformat_minor": 5
}
