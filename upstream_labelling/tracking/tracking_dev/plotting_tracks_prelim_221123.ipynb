{
 "cells": [
  {
   "cell_type": "markdown",
   "id": "907c9cee",
   "metadata": {},
   "source": [
    "# Plotting prelim Tracking using image features for lab meeting nov 22\n",
    "\n",
    "Testing the Elliptical Fourier Descriptors (EFD) similarity between instances of cells"
   ]
  },
  {
   "cell_type": "code",
   "execution_count": 1,
   "id": "18b20799",
   "metadata": {},
   "outputs": [],
   "source": [
    "import dask.array as da\n",
    "import napari\n",
    "import btrack\n",
    "from tqdm.auto import tqdm\n",
    "import skimage\n",
    "from skimage.io import imshow,  imsave\n",
    "import matplotlib.pyplot as plt\n",
    "import numpy as np\n",
    "from pyefd import elliptic_fourier_descriptors\n",
    "import seaborn as sns\n",
    "import pandas as pd\n",
    "plt.rcParams[\"figure.figsize\"] = (7,7)\n",
    "\n",
    "import cv2\n",
    "def ffc(img, arg = 1100):\n",
    "    if type(img) == da.core.Array:\n",
    "        img = img.compute()\n",
    "    # http://whitewell.sakura.ne.jp/OpenCV/py_tutorials/py_imgproc/py_filtering/py_filtering.html\n",
    "    dst = cv2.blur(img, (arg, arg)) \n",
    "    #The original image/Image after Mean filter × Average brightness\n",
    "    avg_hist = img.mean()\n",
    "    # perform ffc\n",
    "    img = (img/dst)*avg_hist\n",
    "    ## convert back to dtype uint16\n",
    "    img = img.astype('u2')\n",
    "    \n",
    "    return img\n",
    "\n",
    "def ffc_stack(img_stack):\n",
    "    stack = []\n",
    "    for img in tqdm(img_stack):\n",
    "        img = ffc(img)\n",
    "        stack.append(img)\n",
    "    img_stack = da.stack(stack, axis = 0)\n",
    "    return img_stack"
   ]
  },
  {
   "cell_type": "code",
   "execution_count": 2,
   "id": "28f05a24",
   "metadata": {},
   "outputs": [],
   "source": [
    "import napari"
   ]
  },
  {
   "cell_type": "code",
   "execution_count": 3,
   "id": "6775dc55",
   "metadata": {},
   "outputs": [],
   "source": [
    "test_image = np.zeros((1000,1000), dtype = 'u1')"
   ]
  },
  {
   "cell_type": "code",
   "execution_count": 7,
   "id": "7c939b7d",
   "metadata": {
    "scrolled": true
   },
   "outputs": [
    {
     "name": "stderr",
     "output_type": "stream",
     "text": [
      "/home/dayn/miniconda3/envs/aero/lib/python3.9/site-packages/napari_tools_menu/__init__.py:194: FutureWarning: Public access to Window.qt_viewer is deprecated and will be removed in\n",
      "v0.5.0. It is considered an \"implementation detail\" of the napari\n",
      "application, not part of the napari viewer model. If your use case\n",
      "requires access to qt_viewer, please open an issue to discuss.\n",
      "  self.tools_menu = ToolsMenu(self, self.qt_viewer.viewer)\n",
      "WARNING: QOpenGLWidget: Failed to create context\n",
      "WARNING: QOpenGLWidget: Failed to create context\n",
      "WARNING: QOpenGLWidget: Failed to create context\n",
      "WARNING: QOpenGLWidget: Failed to create context\n",
      "WARNING: composeAndFlush: QOpenGLContext creation failed\n",
      "WARNING: composeAndFlush: makeCurrent() failed\n",
      "WARNING: composeAndFlush: makeCurrent() failed\n",
      "WARNING: composeAndFlush: makeCurrent() failed\n",
      "WARNING: composeAndFlush: makeCurrent() failed\n",
      "WARNING: composeAndFlush: makeCurrent() failed\n",
      "WARNING: composeAndFlush: makeCurrent() failed\n",
      "WARNING: composeAndFlush: makeCurrent() failed\n",
      "WARNING: composeAndFlush: makeCurrent() failed\n",
      "WARNING: composeAndFlush: makeCurrent() failed\n",
      "WARNING: composeAndFlush: makeCurrent() failed\n",
      "WARNING: composeAndFlush: makeCurrent() failed\n",
      "WARNING: composeAndFlush: makeCurrent() failed\n"
     ]
    }
   ],
   "source": [
    "v = napari.Viewer()\n",
    "# v.add_image(test_image)"
   ]
  },
  {
   "cell_type": "code",
   "execution_count": 5,
   "id": "9211cc93",
   "metadata": {},
   "outputs": [
    {
     "data": {
      "text/plain": [
       "'0.4.17'"
      ]
     },
     "execution_count": 5,
     "metadata": {},
     "output_type": "execute_result"
    }
   ],
   "source": [
    "napari.__version__"
   ]
  },
  {
   "cell_type": "code",
   "execution_count": 6,
   "id": "9778e786",
   "metadata": {},
   "outputs": [
    {
     "ename": "NameError",
     "evalue": "name 'stop' is not defined",
     "output_type": "error",
     "traceback": [
      "\u001b[0;31m---------------------------------------------------------------------------\u001b[0m",
      "\u001b[0;31mNameError\u001b[0m                                 Traceback (most recent call last)",
      "Input \u001b[0;32mIn [6]\u001b[0m, in \u001b[0;36m<cell line: 1>\u001b[0;34m()\u001b[0m\n\u001b[0;32m----> 1\u001b[0m \u001b[43mstop\u001b[49m\n",
      "\u001b[0;31mNameError\u001b[0m: name 'stop' is not defined"
     ]
    }
   ],
   "source": [
    "stop"
   ]
  },
  {
   "cell_type": "markdown",
   "id": "410eeae1",
   "metadata": {},
   "source": [
    "### Load images from zarr and compress into max projections"
   ]
  },
  {
   "cell_type": "code",
   "execution_count": null,
   "id": "61ffbb7e",
   "metadata": {},
   "outputs": [],
   "source": [
    "gfp = da.from_zarr('/mnt/DATA/sandbox/pierre_live_cell_data/outputs/Replication_IPSDM_GFP/zarr/tzxy_stack_ch1.zarr/')\n",
    "rfp = da.from_zarr('/mnt/DATA/sandbox/pierre_live_cell_data/outputs/Replication_IPSDM_GFP/zarr/tzxy_stack_ch2.zarr/')\n",
    "gfp = da.sum(gfp, axis = 1, dtype='u2')\n",
    "rfp = da.sum(rfp, axis = 1, dtype='u2')\n",
    "masks = da.from_zarr(f'/mnt/DATA/sandbox/pierre_live_cell_data/outputs/Replication_IPSDM_GFP/zarr/tzxy_stack_ch99.zarr/',)# chunks = gfp.chunks)"
   ]
  },
  {
   "cell_type": "code",
   "execution_count": null,
   "id": "a9b80f40",
   "metadata": {},
   "outputs": [],
   "source": [
    "gfp"
   ]
  },
  {
   "cell_type": "code",
   "execution_count": null,
   "id": "5c7eaabb",
   "metadata": {},
   "outputs": [],
   "source": [
    "help(btrack.dataio.HDF5FileHandler)"
   ]
  },
  {
   "cell_type": "markdown",
   "id": "be60b5eb",
   "metadata": {},
   "source": [
    "### Apply a flatfield correction to the intensity images\n",
    "\n",
    "This will be implemented in the tiling stage in the future"
   ]
  },
  {
   "cell_type": "code",
   "execution_count": null,
   "id": "71e972fe",
   "metadata": {},
   "outputs": [],
   "source": [
    "gfp_c = ffc_stack(gfp)"
   ]
  },
  {
   "cell_type": "code",
   "execution_count": null,
   "id": "86da4edb",
   "metadata": {},
   "outputs": [],
   "source": [
    "rfp_c = ffc_stack(rfp)"
   ]
  },
  {
   "cell_type": "code",
   "execution_count": null,
   "id": "3205f5af",
   "metadata": {},
   "outputs": [],
   "source": [
    "gfp"
   ]
  },
  {
   "cell_type": "code",
   "execution_count": null,
   "id": "1176864d",
   "metadata": {},
   "outputs": [],
   "source": [
    "v = napari.Viewer()\n",
    "v.add_image(gfp_c.astype('u1'))\n",
    "v.add_image(rfp_c.astype('u1'))"
   ]
  },
  {
   "cell_type": "code",
   "execution_count": null,
   "id": "930658cc",
   "metadata": {},
   "outputs": [],
   "source": [
    "viewer = napari.Viewer()\n",
    "viewer.add_image(gfp_c.astype('u2'), name=\"gfp cleaned\", \n",
    "                 #contrast_limits=[0,255],\n",
    "                 blending = 'additive', colormap = 'green')\n",
    "viewer.add_image(rfp_c.astype('u2'), name=\"rfp _cLEAned\", \n",
    "                # contrast_limits=[0,55], \n",
    "                 blending = 'additive', colormap = 'magenta')\n",
    "viewer.add_labels(masks, name = 'masks')\n",
    "viewer.add_tracks(visualise_tracks, name = 'tracks_filtered')\n",
    "viewer.add_tracks(visualise_raw_tracks, name = 'tracks')"
   ]
  },
  {
   "cell_type": "code",
   "execution_count": null,
   "id": "db81b290",
   "metadata": {},
   "outputs": [],
   "source": [
    "hist, bin_edges = np.histogram(rfp_c[0].compute().astype('u1'), bins = 2**16)"
   ]
  },
  {
   "cell_type": "code",
   "execution_count": null,
   "id": "0a487c98",
   "metadata": {},
   "outputs": [],
   "source": [
    "plt.plot(bin_edges[0:-1], hist)\n",
    "# plt.xlim(300,800)"
   ]
  },
  {
   "cell_type": "code",
   "execution_count": null,
   "id": "f049dd21",
   "metadata": {},
   "outputs": [],
   "source": []
  },
  {
   "cell_type": "code",
   "execution_count": null,
   "id": "5b435468",
   "metadata": {},
   "outputs": [],
   "source": [
    "imshow(im)"
   ]
  },
  {
   "cell_type": "code",
   "execution_count": null,
   "id": "6a8998cd",
   "metadata": {},
   "outputs": [],
   "source": [
    "imsave('test.jpg',im.astype('u1'))"
   ]
  },
  {
   "cell_type": "markdown",
   "id": "8d40d6d5",
   "metadata": {},
   "source": [
    "#### Compress into multichannel image for btrack"
   ]
  },
  {
   "cell_type": "code",
   "execution_count": null,
   "id": "43654482",
   "metadata": {},
   "outputs": [],
   "source": [
    "image = da.stack([gfp, rfp], axis = -1)\n",
    "image"
   ]
  },
  {
   "cell_type": "markdown",
   "id": "8e0cdcb2",
   "metadata": {},
   "source": [
    "## Define features"
   ]
  },
  {
   "cell_type": "code",
   "execution_count": null,
   "id": "38b8622b",
   "metadata": {},
   "outputs": [],
   "source": [
    "FEATURES = [\n",
    "  \"area\",\n",
    "  \"major_axis_length\",\n",
    "  \"minor_axis_length\",\n",
    "  \"orientation\",\n",
    "  \"solidity\",\n",
    "  \"mean_intensity\",\n",
    "    \"intensity_image\"\n",
    "]"
   ]
  },
  {
   "cell_type": "code",
   "execution_count": null,
   "id": "916215f5",
   "metadata": {},
   "outputs": [],
   "source": [
    "objects = btrack.utils.segmentation_to_objects(\n",
    "    masks, \n",
    "    image,\n",
    "    properties = tuple(FEATURES),\n",
    "    use_weighted_centroid = False, \n",
    ")"
   ]
  },
  {
   "cell_type": "markdown",
   "id": "443a2783",
   "metadata": {},
   "source": [
    "#### Checking featuers were measured"
   ]
  },
  {
   "cell_type": "code",
   "execution_count": null,
   "id": "4e995e6c",
   "metadata": {},
   "outputs": [],
   "source": [
    "objects[0]"
   ]
  },
  {
   "cell_type": "code",
   "execution_count": null,
   "id": "ed81e72b",
   "metadata": {},
   "outputs": [],
   "source": [
    "### finding the EFD\n",
    "for obj in tqdm(objects):\n",
    "    ### extract the intensity image (1ch only)\n",
    "    glimpse = obj.properties['intensity_image'][...,0]\n",
    "    ### pad the glimpse to ensure only one object is identifiable\n",
    "    glimpse = np.pad(glimpse, pad_width = 1)\n",
    "    ### find the contours (zero because only one object)\n",
    "    contours = skimage.measure.find_contours(glimpse, fully_connected='high', level = 0.5)[0]\n",
    "    ### get the efd\n",
    "    efd = elliptic_fourier_descriptors(contours, order=100, normalize=True)\n",
    "#     obj.properties = {'efd': efd}\n",
    "    flatten_efd = efd.flatten()\n",
    "    obj.properties = {'efd flat': flatten_efd}"
   ]
  },
  {
   "cell_type": "markdown",
   "id": "97cf2caf",
   "metadata": {},
   "source": [
    "## Remove intensity image from objects \n",
    "\n",
    "btrack does not handle 2d arrays in objects"
   ]
  },
  {
   "cell_type": "code",
   "execution_count": null,
   "id": "c2931051",
   "metadata": {},
   "outputs": [],
   "source": [
    "for obj in tqdm(objects):\n",
    "    obj.properties.pop('intensity_image')"
   ]
  },
  {
   "cell_type": "code",
   "execution_count": null,
   "id": "a65aa51d",
   "metadata": {},
   "outputs": [],
   "source": [
    "objects[0]"
   ]
  },
  {
   "cell_type": "markdown",
   "id": "d234ec04",
   "metadata": {},
   "source": [
    "## Save out objects if desired"
   ]
  },
  {
   "cell_type": "code",
   "execution_count": null,
   "id": "869ed5b9",
   "metadata": {},
   "outputs": [],
   "source": [
    "with btrack.dataio.HDF5FileHandler(\n",
    "     '/mnt/DATA/sandbox/pierre_live_cell_data/outputs/Replication_IPSDM_GFP/zarr/objects.h5', 'w', obj_type='obj_type_1',\n",
    ") as hdf:\n",
    "    hdf.write_segmentation(masks)\n",
    "    hdf.write_objects(objects)"
   ]
  },
  {
   "cell_type": "markdown",
   "id": "dc7d69ca",
   "metadata": {},
   "source": [
    "## Track"
   ]
  },
  {
   "cell_type": "markdown",
   "id": "afcd9d83",
   "metadata": {},
   "source": [
    "Redefine features to include `efd flat` and the two different `mean_intensity` channels"
   ]
  },
  {
   "cell_type": "code",
   "execution_count": null,
   "id": "32eeb38a",
   "metadata": {},
   "outputs": [],
   "source": [
    "FEATURES = ['efd flat',\n",
    "                     \"area\",\n",
    "  \"major_axis_length\",\n",
    "  \"minor_axis_length\",\n",
    "  \"orientation\",\n",
    "  \"solidity\",\n",
    "  \"mean_intensity-0\",\n",
    "  \"mean_intensity-1\",\n",
    "]"
   ]
  },
  {
   "cell_type": "code",
   "execution_count": null,
   "id": "f552907d",
   "metadata": {
    "scrolled": false
   },
   "outputs": [],
   "source": [
    "# initialise a tracker session using a context manager\n",
    "with btrack.BayesianTracker() as tracker:\n",
    "\n",
    "    # configure the tracker using a config file\n",
    "    tracker.configure_from_file(\n",
    "        '/home/dayn/analysis/BayesianTracker/models/particle_config.json'\n",
    "    )\n",
    "    tracker.verbose = True\n",
    "\n",
    "    tracker.max_search_radius = 400\n",
    "    \n",
    "    # use visual features to track\n",
    "    tracker.features = FEATURES\n",
    "    \n",
    "    # append the objects to be tracked\n",
    "    tracker.append(objects)\n",
    "\n",
    "    # set the volume\n",
    "    tracker.volume=((0, 6048), (0, 6048), (-1e5, 1e5))\n",
    "\n",
    "    # track them (in interactive mode)\n",
    "    tracker.track_interactive(step_size=25)\n",
    "    tracker.track(tracking_updates =['visual', 'motion'], step_size=10)\n",
    "\n",
    "\n",
    "    # generate hypotheses and run the global optimizer\n",
    "    tracker.optimize()\n",
    "\n",
    "    tracker.export(f'/mnt/DATA/sandbox/pierre_live_cell_data/outputs/Replication_IPSDM_GFP/zarr/tracks.h5', obj_type='obj_type_1')\n",
    "\n",
    "#     # get the tracks in a format for napari visualization (optional)\n",
    "    visualise_tracks, properties, graph = tracker.to_napari(ndim=2)\n",
    "    \n",
    "    tracks = tracker.tracks"
   ]
  },
  {
   "cell_type": "code",
   "execution_count": null,
   "id": "d23e6f3f",
   "metadata": {
    "scrolled": true
   },
   "outputs": [],
   "source": [
    "tracks[100]"
   ]
  },
  {
   "cell_type": "code",
   "execution_count": null,
   "id": "c7519f77",
   "metadata": {},
   "outputs": [],
   "source": [
    "print(tracks[0].properties['area'])"
   ]
  },
  {
   "cell_type": "code",
   "execution_count": null,
   "id": "5a76b869",
   "metadata": {},
   "outputs": [],
   "source": [
    "print(tracks[0].properties['area'])"
   ]
  },
  {
   "cell_type": "code",
   "execution_count": null,
   "id": "292ced3f",
   "metadata": {},
   "outputs": [],
   "source": [
    "plt.hist([len(track) for track in tracks])"
   ]
  },
  {
   "cell_type": "code",
   "execution_count": null,
   "id": "b659635b",
   "metadata": {},
   "outputs": [],
   "source": [
    "len([len(track) for track in tracks if len(track) > 15])"
   ]
  },
  {
   "cell_type": "code",
   "execution_count": null,
   "id": "79a23279",
   "metadata": {},
   "outputs": [],
   "source": [
    "plt.hist([len(track) for track in tracks if len(track) > 15])"
   ]
  },
  {
   "cell_type": "markdown",
   "id": "a844a4f6",
   "metadata": {},
   "source": [
    "### Filter tracks"
   ]
  },
  {
   "cell_type": "code",
   "execution_count": null,
   "id": "5affa8a5",
   "metadata": {},
   "outputs": [],
   "source": [
    "tracks_filt = [track for track in tracks if len(track) > 15]\n",
    "visualise_tracks, properties, graph = btrack.utils.tracks_to_napari(tracks_filt, ndim = 2)"
   ]
  },
  {
   "cell_type": "code",
   "execution_count": null,
   "id": "cd1aa5de",
   "metadata": {},
   "outputs": [],
   "source": [
    "visualise_raw_tracks, properties, graph = btrack.utils.tracks_to_napari(tracks, ndim = 2)"
   ]
  },
  {
   "cell_type": "code",
   "execution_count": null,
   "id": "10d5d022",
   "metadata": {},
   "outputs": [],
   "source": [
    "viewer = napari.Viewer()\n",
    "viewer.add_image(gfp, name=\"gfp\", \n",
    "                 #contrast_limits=[0,255],\n",
    "                 blending = 'additive', colormap = 'green')\n",
    "viewer.add_image(rfp, name=\"rfp\", \n",
    "                # contrast_limits=[0,55], \n",
    "                 blending = 'additive', colormap = 'magenta')\n",
    "viewer.add_labels(masks, name = 'masks')\n",
    "viewer.add_tracks(visualise_tracks, name = 'tracks_filtered')\n",
    "viewer.add_tracks(visualise_raw_tracks, name = 'tracks')\n"
   ]
  },
  {
   "cell_type": "markdown",
   "id": "0adbb5ca",
   "metadata": {},
   "source": [
    "### Prime tracks\n",
    "\n",
    "(Greater than 50 frames length)"
   ]
  },
  {
   "cell_type": "code",
   "execution_count": null,
   "id": "ea650a33",
   "metadata": {},
   "outputs": [],
   "source": [
    "prime_tracks = [track for track in tracks if len(track) > 50]"
   ]
  },
  {
   "cell_type": "code",
   "execution_count": null,
   "id": "23b0b2e8",
   "metadata": {
    "scrolled": true
   },
   "outputs": [],
   "source": [
    "track = prime_tracks[0]"
   ]
  },
  {
   "cell_type": "code",
   "execution_count": null,
   "id": "ddee1f62",
   "metadata": {
    "scrolled": true
   },
   "outputs": [],
   "source": [
    "track"
   ]
  },
  {
   "cell_type": "code",
   "execution_count": null,
   "id": "8588da1a",
   "metadata": {},
   "outputs": [],
   "source": [
    "for track in prime_tracks:\n",
    "    plt.plot(track.properties['mean_intensity-1'], label = track.ID)\n",
    "plt.legend()"
   ]
  },
  {
   "cell_type": "code",
   "execution_count": null,
   "id": "dcd49d23",
   "metadata": {},
   "outputs": [],
   "source": [
    "prime_tracks = [track for track in tracks if len(track) > 45]"
   ]
  },
  {
   "cell_type": "code",
   "execution_count": null,
   "id": "177fb711",
   "metadata": {},
   "outputs": [],
   "source": [
    "dfs = []\n",
    "for track in prime_tracks:\n",
    "    x = track.t\n",
    "    y = track.properties['mean_intensity-1']\n",
    "    d = {f'Mtb cell {track.ID}':y}\n",
    "    df = pd.DataFrame(data=d, index = x)\n",
    "    dfs.append(df)\n",
    "df = pd.concat(dfs)\n",
    "ax = sns.lineplot(data = df)\n",
    "sns.move_legend(ax, \"upper left\", bbox_to_anchor=(1, 1))"
   ]
  },
  {
   "cell_type": "code",
   "execution_count": null,
   "id": "3cb19075",
   "metadata": {},
   "outputs": [],
   "source": [
    "dfs = []\n",
    "for track in prime_tracks:\n",
    "    if track.ID != 6677:\n",
    "        continue\n",
    "    x = track.t\n",
    "    y = track.properties['mean_intensity-1']\n",
    "    d = {f'Mtb cell {track.ID}':y}\n",
    "    df = pd.DataFrame(data=d, index = x)\n",
    "    dfs.append(df)\n",
    "df = pd.concat(dfs)\n",
    "ax = sns.lineplot(data = df)\n",
    "sns.move_legend(ax, \"upper left\", bbox_to_anchor=(1, 1))"
   ]
  },
  {
   "cell_type": "code",
   "execution_count": null,
   "id": "e9b7f339",
   "metadata": {},
   "outputs": [],
   "source": [
    "track = [track for track in tracks if track.ID == 4356][0]"
   ]
  },
  {
   "cell_type": "code",
   "execution_count": null,
   "id": "bcae3f9c",
   "metadata": {
    "scrolled": true
   },
   "outputs": [],
   "source": [
    "track"
   ]
  },
  {
   "cell_type": "markdown",
   "id": "8ad24056",
   "metadata": {},
   "source": [
    "# Why am i getting so many false positive dummy objects?"
   ]
  },
  {
   "cell_type": "code",
   "execution_count": null,
   "id": "7eccae97",
   "metadata": {},
   "outputs": [
    {
     "name": "stderr",
     "output_type": "stream",
     "text": [
      "WARNING: composeAndFlush: QOpenGLContext creation failed\n",
      "WARNING: composeAndFlush: makeCurrent() failed\n",
      "WARNING: QOpenGLWidget: Failed to create context\n",
      "WARNING: composeAndFlush: makeCurrent() failed\n",
      "WARNING: composeAndFlush: makeCurrent() failed\n",
      "WARNING: composeAndFlush: makeCurrent() failed\n",
      "WARNING: composeAndFlush: makeCurrent() failed\n",
      "WARNING: composeAndFlush: makeCurrent() failed\n",
      "WARNING: composeAndFlush: makeCurrent() failed\n",
      "WARNING: OpenGL version could not be determined, which might be a sign that OpenGL is not loaded correctly.\n",
      "WARNING: Error drawing visual <vispy.visuals.mesh.MeshVisual object at 0x7f7e27071fd0>\n",
      "Traceback (most recent call last):\n",
      "  File \"/home/dayn/miniconda3/envs/aero/lib/python3.9/site-packages/vispy/app/backends/_qt.py\", line 502, in mousePressEvent\n",
      "    self._vispy_mouse_press(\n",
      "  File \"/home/dayn/miniconda3/envs/aero/lib/python3.9/site-packages/vispy/app/base.py\", line 184, in _vispy_mouse_press\n",
      "    ev = self._vispy_canvas.events.mouse_press(**kwargs)\n",
      "  File \"/home/dayn/miniconda3/envs/aero/lib/python3.9/site-packages/vispy/util/event.py\", line 453, in __call__\n",
      "    self._invoke_callback(cb, event)\n",
      "  File \"/home/dayn/miniconda3/envs/aero/lib/python3.9/site-packages/vispy/util/event.py\", line 471, in _invoke_callback\n",
      "    _handle_exception(self.ignore_callback_errors,\n",
      "  File \"/home/dayn/miniconda3/envs/aero/lib/python3.9/site-packages/vispy/util/event.py\", line 469, in _invoke_callback\n",
      "    cb(event)\n",
      "  File \"/home/dayn/miniconda3/envs/aero/lib/python3.9/site-packages/napari/_vispy/canvas.py\", line 96, in _process_mouse_event\n",
      "    super()._process_mouse_event(event)\n",
      "  File \"/home/dayn/miniconda3/envs/aero/lib/python3.9/site-packages/vispy/scene/canvas.py\", line 354, in _process_mouse_event\n",
      "    picked = self.visual_at(event.pos)\n",
      "  File \"/home/dayn/miniconda3/envs/aero/lib/python3.9/site-packages/vispy/scene/canvas.py\", line 407, in visual_at\n",
      "    id_ = self._render_picking((fbpos[0], fbpos[1], 1, 1))\n",
      "  File \"/home/dayn/miniconda3/envs/aero/lib/python3.9/site-packages/vispy/scene/canvas.py\", line 492, in _render_picking\n",
      "    img = self.render(bgcolor=(0, 0, 0, 0), crop=crop)\n",
      "  File \"/home/dayn/miniconda3/envs/aero/lib/python3.9/site-packages/vispy/scene/canvas.py\", line 264, in render\n",
      "    self._draw_scene(bgcolor=bgcolor)\n",
      "  File \"/home/dayn/miniconda3/envs/aero/lib/python3.9/site-packages/vispy/scene/canvas.py\", line 277, in _draw_scene\n",
      "    self.draw_visual(self.scene)\n",
      "  File \"/home/dayn/miniconda3/envs/aero/lib/python3.9/site-packages/vispy/scene/canvas.py\", line 315, in draw_visual\n",
      "    node.draw()\n",
      "  File \"/home/dayn/miniconda3/envs/aero/lib/python3.9/site-packages/vispy/scene/visuals.py\", line 103, in draw\n",
      "    self._visual_superclass.draw(self)\n",
      "  File \"/home/dayn/miniconda3/envs/aero/lib/python3.9/site-packages/vispy/visuals/visual.py\", line 605, in draw\n",
      "    v.draw()\n",
      "  File \"/home/dayn/miniconda3/envs/aero/lib/python3.9/site-packages/vispy/visuals/visual.py\", line 451, in draw\n",
      "    self._program.draw(self._vshare.draw_mode,\n",
      "  File \"/home/dayn/miniconda3/envs/aero/lib/python3.9/site-packages/vispy/visuals/shaders/program.py\", line 102, in draw\n",
      "    Program.draw(self, *args, **kwargs)\n",
      "  File \"/home/dayn/miniconda3/envs/aero/lib/python3.9/site-packages/vispy/gloo/program.py\", line 526, in draw\n",
      "    canvas.context.flush_commands()\n",
      "  File \"/home/dayn/miniconda3/envs/aero/lib/python3.9/site-packages/vispy/gloo/context.py\", line 172, in flush_commands\n",
      "    self.glir.flush(self.shared.parser)\n",
      "  File \"/home/dayn/miniconda3/envs/aero/lib/python3.9/site-packages/vispy/gloo/glir.py\", line 582, in flush\n",
      "    self._shared.flush(parser)\n",
      "  File \"/home/dayn/miniconda3/envs/aero/lib/python3.9/site-packages/vispy/gloo/glir.py\", line 504, in flush\n",
      "    parser.parse(self._filter(self.clear(), parser))\n",
      "  File \"/home/dayn/miniconda3/envs/aero/lib/python3.9/site-packages/vispy/gloo/glir.py\", line 822, in parse\n",
      "    self._parse(command)\n",
      "  File \"/home/dayn/miniconda3/envs/aero/lib/python3.9/site-packages/vispy/gloo/glir.py\", line 796, in _parse\n",
      "    ob.attach(*args)\n",
      "  File \"/home/dayn/miniconda3/envs/aero/lib/python3.9/site-packages/vispy/gloo/glir.py\", line 1785, in attach\n",
      "    self.deactivate()\n",
      "  File \"/home/dayn/miniconda3/envs/aero/lib/python3.9/site-packages/vispy/gloo/glir.py\", line 1756, in deactivate\n",
      "    gl.glBindFramebuffer(gl.GL_FRAMEBUFFER, stack[-1])\n",
      "IndexError: list index out of range\n",
      "WARNING: composeAndFlush: makeCurrent() failed\n",
      "WARNING: composeAndFlush: makeCurrent() failed\n",
      "WARNING: composeAndFlush: makeCurrent() failed\n",
      "WARNING: composeAndFlush: makeCurrent() failed\n",
      "WARNING: composeAndFlush: makeCurrent() failed\n",
      "WARNING: composeAndFlush: makeCurrent() failed\n",
      "WARNING: composeAndFlush: makeCurrent() failed\n",
      "WARNING: composeAndFlush: makeCurrent() failed\n",
      "WARNING: composeAndFlush: makeCurrent() failed\n",
      "WARNING: composeAndFlush: makeCurrent() failed\n",
      "WARNING: composeAndFlush: makeCurrent() failed\n",
      "WARNING: composeAndFlush: makeCurrent() failed\n",
      "WARNING: QOpenGLWidget: Failed to create context\n",
      "WARNING: composeAndFlush: makeCurrent() failed\n",
      "WARNING: composeAndFlush: makeCurrent() failed\n",
      "WARNING: composeAndFlush: makeCurrent() failed\n",
      "WARNING: composeAndFlush: makeCurrent() failed\n",
      "WARNING: composeAndFlush: makeCurrent() failed\n",
      "WARNING: composeAndFlush: makeCurrent() failed\n",
      "WARNING: composeAndFlush: makeCurrent() failed\n"
     ]
    }
   ],
   "source": [
    "objects"
   ]
  }
 ],
 "metadata": {
  "kernelspec": {
   "display_name": "aero",
   "language": "python",
   "name": "aero"
  },
  "language_info": {
   "codemirror_mode": {
    "name": "ipython",
    "version": 3
   },
   "file_extension": ".py",
   "mimetype": "text/x-python",
   "name": "python",
   "nbconvert_exporter": "python",
   "pygments_lexer": "ipython3",
   "version": "3.9.12"
  }
 },
 "nbformat": 4,
 "nbformat_minor": 5
}
