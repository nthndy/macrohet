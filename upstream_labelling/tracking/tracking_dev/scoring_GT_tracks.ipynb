{
 "cells": [
  {
   "cell_type": "code",
   "execution_count": 35,
   "id": "83d383f0",
   "metadata": {},
   "outputs": [
    {
     "name": "stdout",
     "output_type": "stream",
     "text": [
      "0.6.4\n"
     ]
    }
   ],
   "source": [
    "import napari\n",
    "from macrohet import dataio, tile, visualise\n",
    "import btrack\n",
    "print(btrack.__version__)\n",
    "import os\n",
    "import json \n",
    "from tqdm.auto import tqdm\n",
    "import numpy as np\n",
    "from natsort import natsorted\n",
    "import glob\n",
    "from skimage import io\n",
    "import re\n",
    "import seaborn as sns\n",
    "scale_factor = 2 #5.04\n",
    "ndim = 2"
   ]
  },
  {
   "cell_type": "markdown",
   "id": "dbfb0fc2-5e1d-42d3-9d6c-901b1bd6f60b",
   "metadata": {},
   "source": [
    "# Load metadata"
   ]
  },
  {
   "cell_type": "code",
   "execution_count": 20,
   "id": "0a14e8b9-6027-493e-bb46-44859f5f12b0",
   "metadata": {},
   "outputs": [
    {
     "name": "stdout",
     "output_type": "stream",
     "text": [
      "Reading metadata XML file...\n",
      "Extracting metadata complete!\n"
     ]
    },
    {
     "data": {
      "text/html": [
       "<div>\n",
       "<style scoped>\n",
       "    .dataframe tbody tr th:only-of-type {\n",
       "        vertical-align: middle;\n",
       "    }\n",
       "\n",
       "    .dataframe tbody tr th {\n",
       "        vertical-align: top;\n",
       "    }\n",
       "\n",
       "    .dataframe thead th {\n",
       "        text-align: right;\n",
       "    }\n",
       "</style>\n",
       "<table border=\"1\" class=\"dataframe\">\n",
       "  <thead>\n",
       "    <tr style=\"text-align: right;\">\n",
       "      <th></th>\n",
       "      <th></th>\n",
       "      <th>Strain</th>\n",
       "      <th>Compound</th>\n",
       "      <th>Concentration</th>\n",
       "      <th>ConcentrationEC</th>\n",
       "    </tr>\n",
       "    <tr>\n",
       "      <th>Row</th>\n",
       "      <th>Column</th>\n",
       "      <th></th>\n",
       "      <th></th>\n",
       "      <th></th>\n",
       "      <th></th>\n",
       "    </tr>\n",
       "  </thead>\n",
       "  <tbody>\n",
       "    <tr>\n",
       "      <th rowspan=\"6\" valign=\"top\">3</th>\n",
       "      <th>4</th>\n",
       "      <td>RD1</td>\n",
       "      <td>CTRL</td>\n",
       "      <td>0</td>\n",
       "      <td>EC0</td>\n",
       "    </tr>\n",
       "    <tr>\n",
       "      <th>5</th>\n",
       "      <td>WT</td>\n",
       "      <td>CTRL</td>\n",
       "      <td>0</td>\n",
       "      <td>EC0</td>\n",
       "    </tr>\n",
       "    <tr>\n",
       "      <th>6</th>\n",
       "      <td>WT</td>\n",
       "      <td>PZA</td>\n",
       "      <td>60</td>\n",
       "      <td>EC50</td>\n",
       "    </tr>\n",
       "    <tr>\n",
       "      <th>7</th>\n",
       "      <td>WT</td>\n",
       "      <td>RIF</td>\n",
       "      <td>0.1</td>\n",
       "      <td>EC50</td>\n",
       "    </tr>\n",
       "    <tr>\n",
       "      <th>8</th>\n",
       "      <td>WT</td>\n",
       "      <td>INH</td>\n",
       "      <td>0.04</td>\n",
       "      <td>EC50</td>\n",
       "    </tr>\n",
       "    <tr>\n",
       "      <th>9</th>\n",
       "      <td>WT</td>\n",
       "      <td>BDQ</td>\n",
       "      <td>0.02</td>\n",
       "      <td>EC50</td>\n",
       "    </tr>\n",
       "    <tr>\n",
       "      <th rowspan=\"6\" valign=\"top\">4</th>\n",
       "      <th>4</th>\n",
       "      <td>RD1</td>\n",
       "      <td>CTRL</td>\n",
       "      <td>0</td>\n",
       "      <td>EC0</td>\n",
       "    </tr>\n",
       "    <tr>\n",
       "      <th>5</th>\n",
       "      <td>WT</td>\n",
       "      <td>CTRL</td>\n",
       "      <td>0</td>\n",
       "      <td>EC0</td>\n",
       "    </tr>\n",
       "    <tr>\n",
       "      <th>6</th>\n",
       "      <td>WT</td>\n",
       "      <td>PZA</td>\n",
       "      <td>60</td>\n",
       "      <td>EC50</td>\n",
       "    </tr>\n",
       "    <tr>\n",
       "      <th>7</th>\n",
       "      <td>WT</td>\n",
       "      <td>RIF</td>\n",
       "      <td>0.1</td>\n",
       "      <td>EC50</td>\n",
       "    </tr>\n",
       "    <tr>\n",
       "      <th>8</th>\n",
       "      <td>WT</td>\n",
       "      <td>INH</td>\n",
       "      <td>0.04</td>\n",
       "      <td>EC50</td>\n",
       "    </tr>\n",
       "    <tr>\n",
       "      <th>9</th>\n",
       "      <td>WT</td>\n",
       "      <td>BDQ</td>\n",
       "      <td>0.02</td>\n",
       "      <td>EC50</td>\n",
       "    </tr>\n",
       "    <tr>\n",
       "      <th rowspan=\"6\" valign=\"top\">5</th>\n",
       "      <th>4</th>\n",
       "      <td>RD1</td>\n",
       "      <td>CTRL</td>\n",
       "      <td>0</td>\n",
       "      <td>EC0</td>\n",
       "    </tr>\n",
       "    <tr>\n",
       "      <th>5</th>\n",
       "      <td>WT</td>\n",
       "      <td>CTRL</td>\n",
       "      <td>0</td>\n",
       "      <td>EC0</td>\n",
       "    </tr>\n",
       "    <tr>\n",
       "      <th>6</th>\n",
       "      <td>WT</td>\n",
       "      <td>PZA</td>\n",
       "      <td>400</td>\n",
       "      <td>EC99</td>\n",
       "    </tr>\n",
       "    <tr>\n",
       "      <th>7</th>\n",
       "      <td>WT</td>\n",
       "      <td>RIF</td>\n",
       "      <td>2</td>\n",
       "      <td>EC99</td>\n",
       "    </tr>\n",
       "    <tr>\n",
       "      <th>8</th>\n",
       "      <td>WT</td>\n",
       "      <td>INH</td>\n",
       "      <td>2</td>\n",
       "      <td>EC99</td>\n",
       "    </tr>\n",
       "    <tr>\n",
       "      <th>9</th>\n",
       "      <td>WT</td>\n",
       "      <td>BDQ</td>\n",
       "      <td>2.5</td>\n",
       "      <td>EC99</td>\n",
       "    </tr>\n",
       "    <tr>\n",
       "      <th rowspan=\"6\" valign=\"top\">6</th>\n",
       "      <th>4</th>\n",
       "      <td>RD1</td>\n",
       "      <td>CTRL</td>\n",
       "      <td>0</td>\n",
       "      <td>EC0</td>\n",
       "    </tr>\n",
       "    <tr>\n",
       "      <th>5</th>\n",
       "      <td>WT</td>\n",
       "      <td>CTRL</td>\n",
       "      <td>0</td>\n",
       "      <td>EC0</td>\n",
       "    </tr>\n",
       "    <tr>\n",
       "      <th>6</th>\n",
       "      <td>WT</td>\n",
       "      <td>PZA</td>\n",
       "      <td>400</td>\n",
       "      <td>EC99</td>\n",
       "    </tr>\n",
       "    <tr>\n",
       "      <th>7</th>\n",
       "      <td>WT</td>\n",
       "      <td>RIF</td>\n",
       "      <td>2</td>\n",
       "      <td>EC99</td>\n",
       "    </tr>\n",
       "    <tr>\n",
       "      <th>8</th>\n",
       "      <td>WT</td>\n",
       "      <td>INH</td>\n",
       "      <td>2</td>\n",
       "      <td>EC99</td>\n",
       "    </tr>\n",
       "    <tr>\n",
       "      <th>9</th>\n",
       "      <td>WT</td>\n",
       "      <td>BDQ</td>\n",
       "      <td>2.5</td>\n",
       "      <td>EC99</td>\n",
       "    </tr>\n",
       "  </tbody>\n",
       "</table>\n",
       "</div>"
      ],
      "text/plain": [
       "           Strain Compound Concentration ConcentrationEC\n",
       "Row Column                                              \n",
       "3   4         RD1     CTRL             0             EC0\n",
       "    5          WT     CTRL             0             EC0\n",
       "    6          WT      PZA            60            EC50\n",
       "    7          WT      RIF           0.1            EC50\n",
       "    8          WT      INH          0.04            EC50\n",
       "    9          WT      BDQ          0.02            EC50\n",
       "4   4         RD1     CTRL             0             EC0\n",
       "    5          WT     CTRL             0             EC0\n",
       "    6          WT      PZA            60            EC50\n",
       "    7          WT      RIF           0.1            EC50\n",
       "    8          WT      INH          0.04            EC50\n",
       "    9          WT      BDQ          0.02            EC50\n",
       "5   4         RD1     CTRL             0             EC0\n",
       "    5          WT     CTRL             0             EC0\n",
       "    6          WT      PZA           400            EC99\n",
       "    7          WT      RIF             2            EC99\n",
       "    8          WT      INH             2            EC99\n",
       "    9          WT      BDQ           2.5            EC99\n",
       "6   4         RD1     CTRL             0             EC0\n",
       "    5          WT     CTRL             0             EC0\n",
       "    6          WT      PZA           400            EC99\n",
       "    7          WT      RIF             2            EC99\n",
       "    8          WT      INH             2            EC99\n",
       "    9          WT      BDQ           2.5            EC99"
      ]
     },
     "execution_count": 20,
     "metadata": {},
     "output_type": "execute_result"
    }
   ],
   "source": [
    "expt_ID = 'PS0000'\n",
    "base_dir = f'/mnt/DATA/macrohet/{expt_ID}/'\n",
    "metadata_path = os.path.join(base_dir, 'acquisition/Assaylayout/20210602_Live_cell_IPSDMGFP_ATB.xml')\n",
    "assay_layout = dataio.read_harmony_metadata(metadata_path, assay_layout=True,)# mask_exist=True,  image_dir = image_dir, image_metadata = metadata)\n",
    "assay_layout"
   ]
  },
  {
   "cell_type": "markdown",
   "id": "a12c9446",
   "metadata": {},
   "source": [
    "# Load tracks"
   ]
  },
  {
   "cell_type": "code",
   "execution_count": 59,
   "id": "c467841b-b301-4c84-9309-5c137ce91ec9",
   "metadata": {
    "scrolled": true
   },
   "outputs": [
    {
     "data": {
      "application/vnd.jupyter.widget-view+json": {
       "model_id": "a9a56ae7bda5404aaef3b1d33c0de96b",
       "version_major": 2,
       "version_minor": 0
      },
      "text/plain": [
       "  0%|          | 0/24 [00:00<?, ?it/s]"
      ]
     },
     "metadata": {},
     "output_type": "display_data"
    },
    {
     "name": "stderr",
     "output_type": "stream",
     "text": [
      "[INFO][2023/12/13 10:50:42 AM] Opening HDF file: /mnt/DATA/macrohet/PS0000/labels/macrohet_seg_model/(3, 4).h5...\n",
      "INFO:btrack.io.hdf:Opening HDF file: /mnt/DATA/macrohet/PS0000/labels/macrohet_seg_model/(3, 4).h5...\n",
      "[INFO][2023/12/13 10:50:42 AM] Loading tracks/obj_type_1\n",
      "INFO:btrack.io.hdf:Loading tracks/obj_type_1\n",
      "[INFO][2023/12/13 10:50:42 AM] Loading LBEP/obj_type_1\n",
      "INFO:btrack.io.hdf:Loading LBEP/obj_type_1\n",
      "[INFO][2023/12/13 10:50:42 AM] Loading objects/obj_type_1 (39878, 5) (39878 filtered: None)\n",
      "INFO:btrack.io.hdf:Loading objects/obj_type_1 (39878, 5) (39878 filtered: None)\n",
      "[INFO][2023/12/13 10:50:43 AM] Closing HDF file: /mnt/DATA/macrohet/PS0000/labels/macrohet_seg_model/(3, 4).h5\n",
      "INFO:btrack.io.hdf:Closing HDF file: /mnt/DATA/macrohet/PS0000/labels/macrohet_seg_model/(3, 4).h5\n",
      "[INFO][2023/12/13 10:50:43 AM] Opening HDF file: /mnt/DATA/macrohet/PS0000/labels/macrohet_seg_model/(3, 5).h5...\n",
      "INFO:btrack.io.hdf:Opening HDF file: /mnt/DATA/macrohet/PS0000/labels/macrohet_seg_model/(3, 5).h5...\n",
      "[INFO][2023/12/13 10:50:43 AM] Loading tracks/obj_type_1\n",
      "INFO:btrack.io.hdf:Loading tracks/obj_type_1\n",
      "[INFO][2023/12/13 10:50:43 AM] Loading LBEP/obj_type_1\n",
      "INFO:btrack.io.hdf:Loading LBEP/obj_type_1\n",
      "[INFO][2023/12/13 10:50:43 AM] Loading objects/obj_type_1 (41424, 5) (41424 filtered: None)\n",
      "INFO:btrack.io.hdf:Loading objects/obj_type_1 (41424, 5) (41424 filtered: None)\n",
      "[INFO][2023/12/13 10:50:43 AM] Closing HDF file: /mnt/DATA/macrohet/PS0000/labels/macrohet_seg_model/(3, 5).h5\n",
      "INFO:btrack.io.hdf:Closing HDF file: /mnt/DATA/macrohet/PS0000/labels/macrohet_seg_model/(3, 5).h5\n",
      "[INFO][2023/12/13 10:50:43 AM] Opening HDF file: /mnt/DATA/macrohet/PS0000/labels/macrohet_seg_model/(3, 6).h5...\n",
      "INFO:btrack.io.hdf:Opening HDF file: /mnt/DATA/macrohet/PS0000/labels/macrohet_seg_model/(3, 6).h5...\n",
      "[INFO][2023/12/13 10:50:44 AM] Loading tracks/obj_type_1\n",
      "INFO:btrack.io.hdf:Loading tracks/obj_type_1\n",
      "[INFO][2023/12/13 10:50:44 AM] Loading LBEP/obj_type_1\n",
      "INFO:btrack.io.hdf:Loading LBEP/obj_type_1\n",
      "[INFO][2023/12/13 10:50:44 AM] Loading objects/obj_type_1 (46507, 5) (46507 filtered: None)\n",
      "INFO:btrack.io.hdf:Loading objects/obj_type_1 (46507, 5) (46507 filtered: None)\n"
     ]
    },
    {
     "name": "stdout",
     "output_type": "stream",
     "text": [
      "3 5 features linked cells\n"
     ]
    },
    {
     "name": "stderr",
     "output_type": "stream",
     "text": [
      "[INFO][2023/12/13 10:50:44 AM] Closing HDF file: /mnt/DATA/macrohet/PS0000/labels/macrohet_seg_model/(3, 6).h5\n",
      "INFO:btrack.io.hdf:Closing HDF file: /mnt/DATA/macrohet/PS0000/labels/macrohet_seg_model/(3, 6).h5\n",
      "[INFO][2023/12/13 10:50:44 AM] Opening HDF file: /mnt/DATA/macrohet/PS0000/labels/macrohet_seg_model/(3, 7).h5...\n",
      "INFO:btrack.io.hdf:Opening HDF file: /mnt/DATA/macrohet/PS0000/labels/macrohet_seg_model/(3, 7).h5...\n",
      "[INFO][2023/12/13 10:50:44 AM] Loading tracks/obj_type_1\n",
      "INFO:btrack.io.hdf:Loading tracks/obj_type_1\n",
      "[INFO][2023/12/13 10:50:44 AM] Loading LBEP/obj_type_1\n",
      "INFO:btrack.io.hdf:Loading LBEP/obj_type_1\n",
      "[INFO][2023/12/13 10:50:44 AM] Loading objects/obj_type_1 (42503, 5) (42503 filtered: None)\n",
      "INFO:btrack.io.hdf:Loading objects/obj_type_1 (42503, 5) (42503 filtered: None)\n"
     ]
    },
    {
     "name": "stdout",
     "output_type": "stream",
     "text": [
      "3 6 features linked cells\n"
     ]
    },
    {
     "name": "stderr",
     "output_type": "stream",
     "text": [
      "[INFO][2023/12/13 10:50:45 AM] Closing HDF file: /mnt/DATA/macrohet/PS0000/labels/macrohet_seg_model/(3, 7).h5\n",
      "INFO:btrack.io.hdf:Closing HDF file: /mnt/DATA/macrohet/PS0000/labels/macrohet_seg_model/(3, 7).h5\n",
      "[INFO][2023/12/13 10:50:45 AM] Opening HDF file: /mnt/DATA/macrohet/PS0000/labels/macrohet_seg_model/(3, 8).h5...\n",
      "INFO:btrack.io.hdf:Opening HDF file: /mnt/DATA/macrohet/PS0000/labels/macrohet_seg_model/(3, 8).h5...\n",
      "[INFO][2023/12/13 10:50:45 AM] Loading tracks/obj_type_1\n",
      "INFO:btrack.io.hdf:Loading tracks/obj_type_1\n",
      "[INFO][2023/12/13 10:50:45 AM] Loading LBEP/obj_type_1\n",
      "INFO:btrack.io.hdf:Loading LBEP/obj_type_1\n",
      "[INFO][2023/12/13 10:50:45 AM] Loading objects/obj_type_1 (47396, 5) (47396 filtered: None)\n",
      "INFO:btrack.io.hdf:Loading objects/obj_type_1 (47396, 5) (47396 filtered: None)\n"
     ]
    },
    {
     "name": "stdout",
     "output_type": "stream",
     "text": [
      "3 7 features linked cells\n"
     ]
    },
    {
     "name": "stderr",
     "output_type": "stream",
     "text": [
      "[INFO][2023/12/13 10:50:46 AM] Closing HDF file: /mnt/DATA/macrohet/PS0000/labels/macrohet_seg_model/(3, 8).h5\n",
      "INFO:btrack.io.hdf:Closing HDF file: /mnt/DATA/macrohet/PS0000/labels/macrohet_seg_model/(3, 8).h5\n",
      "[INFO][2023/12/13 10:50:46 AM] Opening HDF file: /mnt/DATA/macrohet/PS0000/labels/macrohet_seg_model/(3, 9).h5...\n",
      "INFO:btrack.io.hdf:Opening HDF file: /mnt/DATA/macrohet/PS0000/labels/macrohet_seg_model/(3, 9).h5...\n",
      "[INFO][2023/12/13 10:50:46 AM] Loading tracks/obj_type_1\n",
      "INFO:btrack.io.hdf:Loading tracks/obj_type_1\n",
      "[INFO][2023/12/13 10:50:46 AM] Loading LBEP/obj_type_1\n",
      "INFO:btrack.io.hdf:Loading LBEP/obj_type_1\n",
      "[INFO][2023/12/13 10:50:46 AM] Loading objects/obj_type_1 (42259, 5) (42259 filtered: None)\n",
      "INFO:btrack.io.hdf:Loading objects/obj_type_1 (42259, 5) (42259 filtered: None)\n",
      "[INFO][2023/12/13 10:50:47 AM] Closing HDF file: /mnt/DATA/macrohet/PS0000/labels/macrohet_seg_model/(3, 9).h5\n",
      "INFO:btrack.io.hdf:Closing HDF file: /mnt/DATA/macrohet/PS0000/labels/macrohet_seg_model/(3, 9).h5\n",
      "[INFO][2023/12/13 10:50:47 AM] Opening HDF file: /mnt/DATA/macrohet/PS0000/labels/macrohet_seg_model/(4, 4).h5...\n",
      "INFO:btrack.io.hdf:Opening HDF file: /mnt/DATA/macrohet/PS0000/labels/macrohet_seg_model/(4, 4).h5...\n",
      "[INFO][2023/12/13 10:50:47 AM] Loading tracks/obj_type_1\n",
      "INFO:btrack.io.hdf:Loading tracks/obj_type_1\n",
      "[INFO][2023/12/13 10:50:47 AM] Loading LBEP/obj_type_1\n",
      "INFO:btrack.io.hdf:Loading LBEP/obj_type_1\n",
      "[INFO][2023/12/13 10:50:47 AM] Loading objects/obj_type_1 (41640, 5) (41640 filtered: None)\n",
      "INFO:btrack.io.hdf:Loading objects/obj_type_1 (41640, 5) (41640 filtered: None)\n",
      "[INFO][2023/12/13 10:50:48 AM] Closing HDF file: /mnt/DATA/macrohet/PS0000/labels/macrohet_seg_model/(4, 4).h5\n",
      "INFO:btrack.io.hdf:Closing HDF file: /mnt/DATA/macrohet/PS0000/labels/macrohet_seg_model/(4, 4).h5\n",
      "[INFO][2023/12/13 10:50:48 AM] Opening HDF file: /mnt/DATA/macrohet/PS0000/labels/macrohet_seg_model/(4, 5).h5...\n",
      "INFO:btrack.io.hdf:Opening HDF file: /mnt/DATA/macrohet/PS0000/labels/macrohet_seg_model/(4, 5).h5...\n",
      "[INFO][2023/12/13 10:50:48 AM] Loading tracks/obj_type_1\n",
      "INFO:btrack.io.hdf:Loading tracks/obj_type_1\n",
      "[INFO][2023/12/13 10:50:48 AM] Loading LBEP/obj_type_1\n",
      "INFO:btrack.io.hdf:Loading LBEP/obj_type_1\n",
      "[INFO][2023/12/13 10:50:48 AM] Loading objects/obj_type_1 (47242, 5) (47242 filtered: None)\n",
      "INFO:btrack.io.hdf:Loading objects/obj_type_1 (47242, 5) (47242 filtered: None)\n",
      "[INFO][2023/12/13 10:50:49 AM] Closing HDF file: /mnt/DATA/macrohet/PS0000/labels/macrohet_seg_model/(4, 5).h5\n",
      "INFO:btrack.io.hdf:Closing HDF file: /mnt/DATA/macrohet/PS0000/labels/macrohet_seg_model/(4, 5).h5\n",
      "[INFO][2023/12/13 10:50:49 AM] Opening HDF file: /mnt/DATA/macrohet/PS0000/labels/macrohet_seg_model/(4, 6).h5...\n",
      "INFO:btrack.io.hdf:Opening HDF file: /mnt/DATA/macrohet/PS0000/labels/macrohet_seg_model/(4, 6).h5...\n",
      "[INFO][2023/12/13 10:50:49 AM] Loading tracks/obj_type_1\n",
      "INFO:btrack.io.hdf:Loading tracks/obj_type_1\n",
      "[INFO][2023/12/13 10:50:49 AM] Loading LBEP/obj_type_1\n",
      "INFO:btrack.io.hdf:Loading LBEP/obj_type_1\n",
      "[INFO][2023/12/13 10:50:49 AM] Loading objects/obj_type_1 (43883, 5) (43883 filtered: None)\n",
      "INFO:btrack.io.hdf:Loading objects/obj_type_1 (43883, 5) (43883 filtered: None)\n",
      "[INFO][2023/12/13 10:50:50 AM] Closing HDF file: /mnt/DATA/macrohet/PS0000/labels/macrohet_seg_model/(4, 6).h5\n",
      "INFO:btrack.io.hdf:Closing HDF file: /mnt/DATA/macrohet/PS0000/labels/macrohet_seg_model/(4, 6).h5\n",
      "[INFO][2023/12/13 10:50:50 AM] Opening HDF file: /mnt/DATA/macrohet/PS0000/labels/macrohet_seg_model/(4, 7).h5...\n",
      "INFO:btrack.io.hdf:Opening HDF file: /mnt/DATA/macrohet/PS0000/labels/macrohet_seg_model/(4, 7).h5...\n",
      "[INFO][2023/12/13 10:50:50 AM] Loading tracks/obj_type_1\n",
      "INFO:btrack.io.hdf:Loading tracks/obj_type_1\n",
      "[INFO][2023/12/13 10:50:50 AM] Loading LBEP/obj_type_1\n",
      "INFO:btrack.io.hdf:Loading LBEP/obj_type_1\n",
      "[INFO][2023/12/13 10:50:50 AM] Loading objects/obj_type_1 (42965, 5) (42965 filtered: None)\n",
      "INFO:btrack.io.hdf:Loading objects/obj_type_1 (42965, 5) (42965 filtered: None)\n",
      "[INFO][2023/12/13 10:50:50 AM] Closing HDF file: /mnt/DATA/macrohet/PS0000/labels/macrohet_seg_model/(4, 7).h5\n",
      "INFO:btrack.io.hdf:Closing HDF file: /mnt/DATA/macrohet/PS0000/labels/macrohet_seg_model/(4, 7).h5\n",
      "[INFO][2023/12/13 10:50:50 AM] Opening HDF file: /mnt/DATA/macrohet/PS0000/labels/macrohet_seg_model/(4, 8).h5...\n",
      "INFO:btrack.io.hdf:Opening HDF file: /mnt/DATA/macrohet/PS0000/labels/macrohet_seg_model/(4, 8).h5...\n",
      "[INFO][2023/12/13 10:50:50 AM] Loading tracks/obj_type_1\n",
      "INFO:btrack.io.hdf:Loading tracks/obj_type_1\n",
      "[INFO][2023/12/13 10:50:50 AM] Loading LBEP/obj_type_1\n",
      "INFO:btrack.io.hdf:Loading LBEP/obj_type_1\n",
      "[INFO][2023/12/13 10:50:50 AM] Loading objects/obj_type_1 (38895, 5) (38895 filtered: None)\n",
      "INFO:btrack.io.hdf:Loading objects/obj_type_1 (38895, 5) (38895 filtered: None)\n",
      "[INFO][2023/12/13 10:50:51 AM] Closing HDF file: /mnt/DATA/macrohet/PS0000/labels/macrohet_seg_model/(4, 8).h5\n",
      "INFO:btrack.io.hdf:Closing HDF file: /mnt/DATA/macrohet/PS0000/labels/macrohet_seg_model/(4, 8).h5\n",
      "[INFO][2023/12/13 10:50:51 AM] Opening HDF file: /mnt/DATA/macrohet/PS0000/labels/macrohet_seg_model/(4, 9).h5...\n",
      "INFO:btrack.io.hdf:Opening HDF file: /mnt/DATA/macrohet/PS0000/labels/macrohet_seg_model/(4, 9).h5...\n",
      "[INFO][2023/12/13 10:50:51 AM] Loading tracks/obj_type_1\n",
      "INFO:btrack.io.hdf:Loading tracks/obj_type_1\n",
      "[INFO][2023/12/13 10:50:51 AM] Loading LBEP/obj_type_1\n",
      "INFO:btrack.io.hdf:Loading LBEP/obj_type_1\n",
      "[INFO][2023/12/13 10:50:52 AM] Loading objects/obj_type_1 (44643, 5) (44643 filtered: None)\n",
      "INFO:btrack.io.hdf:Loading objects/obj_type_1 (44643, 5) (44643 filtered: None)\n",
      "[INFO][2023/12/13 10:50:52 AM] Closing HDF file: /mnt/DATA/macrohet/PS0000/labels/macrohet_seg_model/(4, 9).h5\n",
      "INFO:btrack.io.hdf:Closing HDF file: /mnt/DATA/macrohet/PS0000/labels/macrohet_seg_model/(4, 9).h5\n",
      "[INFO][2023/12/13 10:50:52 AM] Opening HDF file: /mnt/DATA/macrohet/PS0000/labels/macrohet_seg_model/(5, 4).h5...\n",
      "INFO:btrack.io.hdf:Opening HDF file: /mnt/DATA/macrohet/PS0000/labels/macrohet_seg_model/(5, 4).h5...\n",
      "[INFO][2023/12/13 10:50:52 AM] Loading tracks/obj_type_1\n",
      "INFO:btrack.io.hdf:Loading tracks/obj_type_1\n",
      "[INFO][2023/12/13 10:50:52 AM] Loading LBEP/obj_type_1\n",
      "INFO:btrack.io.hdf:Loading LBEP/obj_type_1\n",
      "[INFO][2023/12/13 10:50:52 AM] Loading objects/obj_type_1 (30664, 5) (30664 filtered: None)\n",
      "INFO:btrack.io.hdf:Loading objects/obj_type_1 (30664, 5) (30664 filtered: None)\n",
      "[INFO][2023/12/13 10:50:53 AM] Closing HDF file: /mnt/DATA/macrohet/PS0000/labels/macrohet_seg_model/(5, 4).h5\n",
      "INFO:btrack.io.hdf:Closing HDF file: /mnt/DATA/macrohet/PS0000/labels/macrohet_seg_model/(5, 4).h5\n",
      "[INFO][2023/12/13 10:50:53 AM] Opening HDF file: /mnt/DATA/macrohet/PS0000/labels/macrohet_seg_model/(5, 5).h5...\n",
      "INFO:btrack.io.hdf:Opening HDF file: /mnt/DATA/macrohet/PS0000/labels/macrohet_seg_model/(5, 5).h5...\n",
      "[INFO][2023/12/13 10:50:53 AM] Loading tracks/obj_type_1\n",
      "INFO:btrack.io.hdf:Loading tracks/obj_type_1\n",
      "[INFO][2023/12/13 10:50:53 AM] Loading LBEP/obj_type_1\n",
      "INFO:btrack.io.hdf:Loading LBEP/obj_type_1\n",
      "[INFO][2023/12/13 10:50:53 AM] Loading objects/obj_type_1 (42973, 5) (42973 filtered: None)\n",
      "INFO:btrack.io.hdf:Loading objects/obj_type_1 (42973, 5) (42973 filtered: None)\n",
      "[INFO][2023/12/13 10:50:53 AM] Closing HDF file: /mnt/DATA/macrohet/PS0000/labels/macrohet_seg_model/(5, 5).h5\n",
      "INFO:btrack.io.hdf:Closing HDF file: /mnt/DATA/macrohet/PS0000/labels/macrohet_seg_model/(5, 5).h5\n",
      "[INFO][2023/12/13 10:50:53 AM] Opening HDF file: /mnt/DATA/macrohet/PS0000/labels/macrohet_seg_model/(5, 6).h5...\n",
      "INFO:btrack.io.hdf:Opening HDF file: /mnt/DATA/macrohet/PS0000/labels/macrohet_seg_model/(5, 6).h5...\n",
      "[INFO][2023/12/13 10:50:53 AM] Loading tracks/obj_type_1\n",
      "INFO:btrack.io.hdf:Loading tracks/obj_type_1\n",
      "[INFO][2023/12/13 10:50:53 AM] Loading LBEP/obj_type_1\n",
      "INFO:btrack.io.hdf:Loading LBEP/obj_type_1\n",
      "[INFO][2023/12/13 10:50:53 AM] Loading objects/obj_type_1 (45678, 5) (45678 filtered: None)\n",
      "INFO:btrack.io.hdf:Loading objects/obj_type_1 (45678, 5) (45678 filtered: None)\n",
      "[INFO][2023/12/13 10:50:55 AM] Closing HDF file: /mnt/DATA/macrohet/PS0000/labels/macrohet_seg_model/(5, 6).h5\n",
      "INFO:btrack.io.hdf:Closing HDF file: /mnt/DATA/macrohet/PS0000/labels/macrohet_seg_model/(5, 6).h5\n",
      "[INFO][2023/12/13 10:50:55 AM] Opening HDF file: /mnt/DATA/macrohet/PS0000/labels/macrohet_seg_model/(5, 7).h5...\n",
      "INFO:btrack.io.hdf:Opening HDF file: /mnt/DATA/macrohet/PS0000/labels/macrohet_seg_model/(5, 7).h5...\n",
      "[INFO][2023/12/13 10:50:55 AM] Loading tracks/obj_type_1\n",
      "INFO:btrack.io.hdf:Loading tracks/obj_type_1\n",
      "[INFO][2023/12/13 10:50:55 AM] Loading LBEP/obj_type_1\n",
      "INFO:btrack.io.hdf:Loading LBEP/obj_type_1\n",
      "[INFO][2023/12/13 10:50:55 AM] Loading objects/obj_type_1 (47880, 5) (47880 filtered: None)\n",
      "INFO:btrack.io.hdf:Loading objects/obj_type_1 (47880, 5) (47880 filtered: None)\n",
      "[INFO][2023/12/13 10:50:56 AM] Closing HDF file: /mnt/DATA/macrohet/PS0000/labels/macrohet_seg_model/(5, 7).h5\n",
      "INFO:btrack.io.hdf:Closing HDF file: /mnt/DATA/macrohet/PS0000/labels/macrohet_seg_model/(5, 7).h5\n",
      "[INFO][2023/12/13 10:50:56 AM] Opening HDF file: /mnt/DATA/macrohet/PS0000/labels/macrohet_seg_model/(5, 8).h5...\n",
      "INFO:btrack.io.hdf:Opening HDF file: /mnt/DATA/macrohet/PS0000/labels/macrohet_seg_model/(5, 8).h5...\n",
      "[INFO][2023/12/13 10:50:56 AM] Loading tracks/obj_type_1\n",
      "INFO:btrack.io.hdf:Loading tracks/obj_type_1\n",
      "[INFO][2023/12/13 10:50:56 AM] Loading LBEP/obj_type_1\n",
      "INFO:btrack.io.hdf:Loading LBEP/obj_type_1\n",
      "[INFO][2023/12/13 10:50:56 AM] Loading objects/obj_type_1 (38531, 5) (38531 filtered: None)\n",
      "INFO:btrack.io.hdf:Loading objects/obj_type_1 (38531, 5) (38531 filtered: None)\n",
      "[INFO][2023/12/13 10:50:56 AM] Closing HDF file: /mnt/DATA/macrohet/PS0000/labels/macrohet_seg_model/(5, 8).h5\n",
      "INFO:btrack.io.hdf:Closing HDF file: /mnt/DATA/macrohet/PS0000/labels/macrohet_seg_model/(5, 8).h5\n",
      "[INFO][2023/12/13 10:50:56 AM] Opening HDF file: /mnt/DATA/macrohet/PS0000/labels/macrohet_seg_model/(5, 9).h5...\n",
      "INFO:btrack.io.hdf:Opening HDF file: /mnt/DATA/macrohet/PS0000/labels/macrohet_seg_model/(5, 9).h5...\n",
      "[INFO][2023/12/13 10:50:56 AM] Loading tracks/obj_type_1\n",
      "INFO:btrack.io.hdf:Loading tracks/obj_type_1\n",
      "[INFO][2023/12/13 10:50:56 AM] Loading LBEP/obj_type_1\n",
      "INFO:btrack.io.hdf:Loading LBEP/obj_type_1\n",
      "[INFO][2023/12/13 10:50:56 AM] Loading objects/obj_type_1 (33081, 5) (33081 filtered: None)\n",
      "INFO:btrack.io.hdf:Loading objects/obj_type_1 (33081, 5) (33081 filtered: None)\n",
      "[INFO][2023/12/13 10:50:57 AM] Closing HDF file: /mnt/DATA/macrohet/PS0000/labels/macrohet_seg_model/(5, 9).h5\n",
      "INFO:btrack.io.hdf:Closing HDF file: /mnt/DATA/macrohet/PS0000/labels/macrohet_seg_model/(5, 9).h5\n",
      "[INFO][2023/12/13 10:50:57 AM] Opening HDF file: /mnt/DATA/macrohet/PS0000/labels/macrohet_seg_model/(6, 4).h5...\n",
      "INFO:btrack.io.hdf:Opening HDF file: /mnt/DATA/macrohet/PS0000/labels/macrohet_seg_model/(6, 4).h5...\n",
      "[INFO][2023/12/13 10:50:57 AM] Loading tracks/obj_type_1\n",
      "INFO:btrack.io.hdf:Loading tracks/obj_type_1\n",
      "[INFO][2023/12/13 10:50:57 AM] Loading LBEP/obj_type_1\n",
      "INFO:btrack.io.hdf:Loading LBEP/obj_type_1\n",
      "[INFO][2023/12/13 10:50:57 AM] Loading objects/obj_type_1 (42961, 5) (42961 filtered: None)\n",
      "INFO:btrack.io.hdf:Loading objects/obj_type_1 (42961, 5) (42961 filtered: None)\n",
      "[INFO][2023/12/13 10:50:58 AM] Closing HDF file: /mnt/DATA/macrohet/PS0000/labels/macrohet_seg_model/(6, 4).h5\n",
      "INFO:btrack.io.hdf:Closing HDF file: /mnt/DATA/macrohet/PS0000/labels/macrohet_seg_model/(6, 4).h5\n",
      "[INFO][2023/12/13 10:50:58 AM] Opening HDF file: /mnt/DATA/macrohet/PS0000/labels/macrohet_seg_model/(6, 5).h5...\n",
      "INFO:btrack.io.hdf:Opening HDF file: /mnt/DATA/macrohet/PS0000/labels/macrohet_seg_model/(6, 5).h5...\n",
      "[INFO][2023/12/13 10:50:58 AM] Loading tracks/obj_type_1\n",
      "INFO:btrack.io.hdf:Loading tracks/obj_type_1\n",
      "[INFO][2023/12/13 10:50:58 AM] Loading LBEP/obj_type_1\n",
      "INFO:btrack.io.hdf:Loading LBEP/obj_type_1\n",
      "[INFO][2023/12/13 10:50:58 AM] Loading objects/obj_type_1 (46808, 5) (46808 filtered: None)\n",
      "INFO:btrack.io.hdf:Loading objects/obj_type_1 (46808, 5) (46808 filtered: None)\n",
      "[INFO][2023/12/13 10:50:59 AM] Closing HDF file: /mnt/DATA/macrohet/PS0000/labels/macrohet_seg_model/(6, 5).h5\n",
      "INFO:btrack.io.hdf:Closing HDF file: /mnt/DATA/macrohet/PS0000/labels/macrohet_seg_model/(6, 5).h5\n",
      "[INFO][2023/12/13 10:50:59 AM] Opening HDF file: /mnt/DATA/macrohet/PS0000/labels/macrohet_seg_model/(6, 6).h5...\n",
      "INFO:btrack.io.hdf:Opening HDF file: /mnt/DATA/macrohet/PS0000/labels/macrohet_seg_model/(6, 6).h5...\n",
      "[INFO][2023/12/13 10:50:59 AM] Loading tracks/obj_type_1\n",
      "INFO:btrack.io.hdf:Loading tracks/obj_type_1\n",
      "[INFO][2023/12/13 10:50:59 AM] Loading LBEP/obj_type_1\n",
      "INFO:btrack.io.hdf:Loading LBEP/obj_type_1\n",
      "[INFO][2023/12/13 10:50:59 AM] Loading objects/obj_type_1 (45688, 5) (45688 filtered: None)\n",
      "INFO:btrack.io.hdf:Loading objects/obj_type_1 (45688, 5) (45688 filtered: None)\n",
      "[INFO][2023/12/13 10:51:00 AM] Closing HDF file: /mnt/DATA/macrohet/PS0000/labels/macrohet_seg_model/(6, 6).h5\n",
      "INFO:btrack.io.hdf:Closing HDF file: /mnt/DATA/macrohet/PS0000/labels/macrohet_seg_model/(6, 6).h5\n",
      "[INFO][2023/12/13 10:51:00 AM] Opening HDF file: /mnt/DATA/macrohet/PS0000/labels/macrohet_seg_model/(6, 7).h5...\n",
      "INFO:btrack.io.hdf:Opening HDF file: /mnt/DATA/macrohet/PS0000/labels/macrohet_seg_model/(6, 7).h5...\n",
      "[INFO][2023/12/13 10:51:00 AM] Loading tracks/obj_type_1\n",
      "INFO:btrack.io.hdf:Loading tracks/obj_type_1\n",
      "[INFO][2023/12/13 10:51:00 AM] Loading LBEP/obj_type_1\n",
      "INFO:btrack.io.hdf:Loading LBEP/obj_type_1\n",
      "[INFO][2023/12/13 10:51:00 AM] Loading objects/obj_type_1 (45214, 5) (45214 filtered: None)\n",
      "INFO:btrack.io.hdf:Loading objects/obj_type_1 (45214, 5) (45214 filtered: None)\n",
      "[INFO][2023/12/13 10:51:00 AM] Closing HDF file: /mnt/DATA/macrohet/PS0000/labels/macrohet_seg_model/(6, 7).h5\n",
      "INFO:btrack.io.hdf:Closing HDF file: /mnt/DATA/macrohet/PS0000/labels/macrohet_seg_model/(6, 7).h5\n",
      "[INFO][2023/12/13 10:51:00 AM] Opening HDF file: /mnt/DATA/macrohet/PS0000/labels/macrohet_seg_model/(6, 8).h5...\n",
      "INFO:btrack.io.hdf:Opening HDF file: /mnt/DATA/macrohet/PS0000/labels/macrohet_seg_model/(6, 8).h5...\n",
      "[INFO][2023/12/13 10:51:00 AM] Loading tracks/obj_type_1\n",
      "INFO:btrack.io.hdf:Loading tracks/obj_type_1\n",
      "[INFO][2023/12/13 10:51:00 AM] Loading LBEP/obj_type_1\n",
      "INFO:btrack.io.hdf:Loading LBEP/obj_type_1\n",
      "[INFO][2023/12/13 10:51:01 AM] Loading objects/obj_type_1 (46267, 5) (46267 filtered: None)\n",
      "INFO:btrack.io.hdf:Loading objects/obj_type_1 (46267, 5) (46267 filtered: None)\n",
      "[INFO][2023/12/13 10:51:01 AM] Closing HDF file: /mnt/DATA/macrohet/PS0000/labels/macrohet_seg_model/(6, 8).h5\n",
      "INFO:btrack.io.hdf:Closing HDF file: /mnt/DATA/macrohet/PS0000/labels/macrohet_seg_model/(6, 8).h5\n",
      "[INFO][2023/12/13 10:51:01 AM] Opening HDF file: /mnt/DATA/macrohet/PS0000/labels/macrohet_seg_model/(6, 9).h5...\n",
      "INFO:btrack.io.hdf:Opening HDF file: /mnt/DATA/macrohet/PS0000/labels/macrohet_seg_model/(6, 9).h5...\n",
      "[INFO][2023/12/13 10:51:01 AM] Loading tracks/obj_type_1\n",
      "INFO:btrack.io.hdf:Loading tracks/obj_type_1\n",
      "[INFO][2023/12/13 10:51:01 AM] Loading LBEP/obj_type_1\n",
      "INFO:btrack.io.hdf:Loading LBEP/obj_type_1\n",
      "[INFO][2023/12/13 10:51:01 AM] Loading objects/obj_type_1 (35615, 5) (35615 filtered: None)\n",
      "INFO:btrack.io.hdf:Loading objects/obj_type_1 (35615, 5) (35615 filtered: None)\n",
      "[INFO][2023/12/13 10:51:02 AM] Closing HDF file: /mnt/DATA/macrohet/PS0000/labels/macrohet_seg_model/(6, 9).h5\n",
      "INFO:btrack.io.hdf:Closing HDF file: /mnt/DATA/macrohet/PS0000/labels/macrohet_seg_model/(6, 9).h5\n"
     ]
    }
   ],
   "source": [
    "# Initialize variables and dictionaries\n",
    "tracks_dict = dict()  # Dictionary to store tracks per acquisition\n",
    "all_tracks_dict = dict() # compile \n",
    "sum_N_frames = 0  # Total number of frames\n",
    "sum_N_tracks = 0  # Total number of tracks\n",
    "sum_N_cells = 0  # Total number of cells\n",
    "sum_N_gt_tracks = 0  # Total number of ground truth tracks\n",
    "sum_N_tracks_per_acq = dict()  # Dictionary to store number of tracks per acquisition\n",
    "sum_N_cells_per_acq = dict()  # Dictionary to store number of cells per acquisition\n",
    "sum_N_gt_tracks_per_acq = dict()  # Dictionary to store number of ground truth tracks per acquisition\n",
    "track_performance_dict_dict = {}\n",
    "# Get a list of HDF5 file names\n",
    "h5_file_list = natsorted(glob.glob(os.path.join(base_dir, f'labels/macrohet_seg_model/*.h5')))\n",
    "\n",
    "# Loop over each file name\n",
    "for tracks_fn in tqdm(h5_file_list, total=len(h5_file_list)):\n",
    "    # Read tracks from the HDF5 file\n",
    "    with btrack.io.HDF5FileHandler(tracks_fn, 'r') as hdf:\n",
    "        tracks = hdf.tracks\n",
    "        # Extract row and column from the file name\n",
    "        row, column = [int(x) for x in re.search(r'\\((\\d{1,2}),\\s*(\\d{1,2})\\)\\.h5$', tracks_fn).groups()]\n",
    "        # Update variables and dictionaries\n",
    "        sum_N_tracks += len(tracks)\n",
    "        sum_N_tracks_per_acq[(row, column)] = len(tracks)\n",
    "        sum_N_cells += len([t for t in tracks if t.in_frame(0)])\n",
    "        sum_N_cells_per_acq[(row, column)] = len([t for t in tracks if t.in_frame(0)])\n",
    "    all_tracks_dict[row, column] = tracks\n",
    "    # Load track score dictionary\n",
    "    track_performance_dict_fn = os.path.join(base_dir, f'upstream_development/tracking/tracking_performance/v1>70/{row},{column}/({row}, {column})_track_assessment.json')\n",
    "    with open(track_performance_dict_fn, 'r') as json_file:\n",
    "        # Load the JSON data into a Python dictionary\n",
    "        track_performance_dict = json.load(json_file)\n",
    "    track_performance_dict_dict[(row, column)] = track_performance_dict\n",
    "    if \"Link\" in track_performance_dict.values():\n",
    "        print(row, column, 'features linked cells')\n",
    "        \n",
    "    # Calculate the number of frames for each acquisition\n",
    "    N_frames_per_acq = sum([len(t) for t in tracks if str(t.ID) in track_performance_dict.keys()])\n",
    "    sum_N_frames += N_frames_per_acq\n",
    "\n",
    "    # Filter tracks based on certain criteria\n",
    "    tracks = [t for t in tracks if str(t.ID) in track_performance_dict.keys() and track_performance_dict[str(t.ID)] != False]# and len(t) > 70]\n",
    "    \n",
    "    # Update variables and dictionaries with filtered tracks\n",
    "    sum_N_gt_tracks += len(tracks)\n",
    "    sum_N_gt_tracks_per_acq[(row, column)] = len(tracks)\n",
    "    tracks_dict[row, column] = tracks"
   ]
  },
  {
   "cell_type": "markdown",
   "id": "70cd1e1f-d6cc-42ef-8f8a-cb17da8fd4ba",
   "metadata": {},
   "source": [
    "#### Note:\n",
    "The original tracks I checked were not filtered to be longer than 70 hours (like most of the tracks I checked). Therefore I know there are 248 true tracks of all lengths, but only 107 tracks of length greater than 70. Does this extend to all other positions? If so am I missing 141 tracks per position? What kind of length tracks do I want to analyse anyway?"
   ]
  },
  {
   "cell_type": "markdown",
   "id": "d731b690",
   "metadata": {},
   "source": [
    "# Stats"
   ]
  },
  {
   "cell_type": "markdown",
   "id": "f1201bfa-9aae-499f-9f55-f36083b05246",
   "metadata": {},
   "source": [
    "#### How many cells are less than 70?"
   ]
  },
  {
   "cell_type": "code",
   "execution_count": 39,
   "id": "18254822-9062-4455-a9e0-2d2ec6218f32",
   "metadata": {},
   "outputs": [
    {
     "name": "stderr",
     "output_type": "stream",
     "text": [
      "/home/dayn/miniconda3/envs/brassica/lib/python3.9/site-packages/seaborn/_oldcore.py:1498: FutureWarning: is_categorical_dtype is deprecated and will be removed in a future version. Use isinstance(dtype, CategoricalDtype) instead\n",
      "  if pd.api.types.is_categorical_dtype(vector):\n",
      "/home/dayn/miniconda3/envs/brassica/lib/python3.9/site-packages/seaborn/_oldcore.py:1119: FutureWarning: use_inf_as_na option is deprecated and will be removed in a future version. Convert inf values to NaN before operating instead.\n",
      "  with pd.option_context('mode.use_inf_as_na', True):\n"
     ]
    },
    {
     "data": {
      "text/plain": [
       "<Axes: ylabel='Count'>"
      ]
     },
     "execution_count": 39,
     "metadata": {},
     "output_type": "execute_result"
    },
    {
     "data": {
      "image/png": "[encoded data removed]",
      "text/plain": [
       "<Figure size 640x480 with 1 Axes>"
      ]
     },
     "metadata": {},
     "output_type": "display_data"
    }
   ],
   "source": [
    "sns.histplot([len(t) for t in tracks if len(t) < 70])"
   ]
  },
  {
   "cell_type": "code",
   "execution_count": 51,
   "id": "dabb825a-bfd9-4b39-b086-fc68417b067b",
   "metadata": {},
   "outputs": [
    {
     "name": "stdout",
     "output_type": "stream",
     "text": [
      ">70:196, 50<len<70:107\n",
      ">70:204, 50<len<70:144\n",
      ">70:223, 50<len<70:175\n",
      ">70:200, 50<len<70:140\n",
      ">70:229, 50<len<70:171\n",
      ">70:215, 50<len<70:174\n",
      ">70:207, 50<len<70:125\n",
      ">70:274, 50<len<70:214\n",
      ">70:226, 50<len<70:171\n",
      ">70:207, 50<len<70:130\n",
      ">70:181, 50<len<70:124\n",
      ">70:227, 50<len<70:154\n",
      ">70:115, 50<len<70:89\n",
      ">70:203, 50<len<70:172\n",
      ">70:245, 50<len<70:168\n",
      ">70:239, 50<len<70:135\n",
      ">70:181, 50<len<70:119\n",
      ">70:91, 50<len<70:143\n",
      ">70:197, 50<len<70:127\n",
      ">70:221, 50<len<70:180\n",
      ">70:230, 50<len<70:148\n",
      ">70:221, 50<len<70:134\n",
      ">70:191, 50<len<70:162\n",
      ">70:125, 50<len<70:153\n"
     ]
    }
   ],
   "source": [
    "for row_col, data in assay_layout.iterrows():\n",
    "    tracks = all_tracks_dict[row_col]\n",
    "    print(f'>70:{len([t for t in tracks if len(t) > 70])}, 50<len<70:{len([t for t in tracks if len(t) < 70 and  len(t) > 50])}')\n"
   ]
  },
  {
   "cell_type": "markdown",
   "id": "76401096-e28e-4ca2-a238-ca08c4108f48",
   "metadata": {},
   "source": [
    "### First just the numbers of cells in the analysis"
   ]
  },
  {
   "cell_type": "code",
   "execution_count": 21,
   "id": "68835cb3-1783-4708-a0ff-c45bbd3f1fc7",
   "metadata": {},
   "outputs": [
    {
     "data": {
      "text/plain": [
       "15252"
      ]
     },
     "execution_count": 21,
     "metadata": {},
     "output_type": "execute_result"
    }
   ],
   "source": [
    "sum_N_cells"
   ]
  },
  {
   "cell_type": "code",
   "execution_count": 41,
   "id": "9d144af6-65f1-49b4-90de-a0aa0a42b1aa",
   "metadata": {},
   "outputs": [
    {
     "data": {
      "text/plain": [
       "3988"
      ]
     },
     "execution_count": 41,
     "metadata": {},
     "output_type": "execute_result"
    }
   ],
   "source": [
    "sum_N_gt_tracks"
   ]
  },
  {
   "cell_type": "code",
   "execution_count": 60,
   "id": "c9196e2d-b101-4baa-a28a-811326f17aae",
   "metadata": {},
   "outputs": [
    {
     "data": {
      "text/plain": [
       "4418"
      ]
     },
     "execution_count": 60,
     "metadata": {},
     "output_type": "execute_result"
    }
   ],
   "source": [
    "# all gt tracks, including linked\n",
    "sum_N_gt_tracks"
   ]
  },
  {
   "cell_type": "code",
   "execution_count": 42,
   "id": "47f86036-3213-44f7-88d2-3889f1597afa",
   "metadata": {},
   "outputs": [
    {
     "data": {
      "text/plain": [
       "63033"
      ]
     },
     "execution_count": 42,
     "metadata": {},
     "output_type": "execute_result"
    }
   ],
   "source": [
    "sum_N_tracks"
   ]
  },
  {
   "cell_type": "markdown",
   "id": "8d0753d7-e756-4909-8b5b-1decebe60d20",
   "metadata": {},
   "source": [
    "### Then per acquisition"
   ]
  },
  {
   "cell_type": "code",
   "execution_count": 43,
   "id": "13e0c378-e69b-40fe-8bc9-1c6d7851d4e9",
   "metadata": {},
   "outputs": [
    {
     "data": {
      "text/plain": [
       "{(3, 4): 642,\n",
       " (3, 5): 627,\n",
       " (3, 6): 652,\n",
       " (3, 7): 635,\n",
       " (3, 8): 684,\n",
       " (3, 9): 566,\n",
       " (4, 4): 662,\n",
       " (4, 5): 658,\n",
       " (4, 6): 591,\n",
       " (4, 7): 634,\n",
       " (4, 8): 542,\n",
       " (4, 9): 641,\n",
       " (5, 4): 502,\n",
       " (5, 5): 652,\n",
       " (5, 6): 664,\n",
       " (5, 7): 706,\n",
       " (5, 8): 583,\n",
       " (5, 9): 595,\n",
       " (6, 4): 685,\n",
       " (6, 5): 705,\n",
       " (6, 6): 660,\n",
       " (6, 7): 657,\n",
       " (6, 8): 694,\n",
       " (6, 9): 615}"
      ]
     },
     "execution_count": 43,
     "metadata": {},
     "output_type": "execute_result"
    }
   ],
   "source": [
    "sum_N_cells_per_acq"
   ]
  },
  {
   "cell_type": "code",
   "execution_count": 44,
   "id": "859ba435-e233-4e8c-84ec-cd8d35d953a6",
   "metadata": {},
   "outputs": [
    {
     "data": {
      "text/plain": [
       "{(3, 4): 2698,\n",
       " (3, 5): 2420,\n",
       " (3, 6): 2771,\n",
       " (3, 7): 2791,\n",
       " (3, 8): 2810,\n",
       " (3, 9): 2254,\n",
       " (4, 4): 2753,\n",
       " (4, 5): 2174,\n",
       " (4, 6): 2471,\n",
       " (4, 7): 2741,\n",
       " (4, 8): 2352,\n",
       " (4, 9): 2444,\n",
       " (5, 4): 2449,\n",
       " (5, 5): 2269,\n",
       " (5, 6): 2747,\n",
       " (5, 7): 3301,\n",
       " (5, 8): 2835,\n",
       " (5, 9): 2056,\n",
       " (6, 4): 3091,\n",
       " (6, 5): 2610,\n",
       " (6, 6): 2728,\n",
       " (6, 7): 3062,\n",
       " (6, 8): 3271,\n",
       " (6, 9): 1935}"
      ]
     },
     "execution_count": 44,
     "metadata": {},
     "output_type": "execute_result"
    }
   ],
   "source": [
    "sum_N_tracks_per_acq"
   ]
  },
  {
   "cell_type": "code",
   "execution_count": 45,
   "id": "6148cef7-3425-4b55-b329-164692edecf8",
   "metadata": {},
   "outputs": [
    {
     "data": {
      "text/plain": [
       "{(3, 4): 178,\n",
       " (3, 5): 185,\n",
       " (3, 6): 107,\n",
       " (3, 7): 175,\n",
       " (3, 8): 177,\n",
       " (3, 9): 177,\n",
       " (4, 4): 165,\n",
       " (4, 5): 234,\n",
       " (4, 6): 193,\n",
       " (4, 7): 175,\n",
       " (4, 8): 154,\n",
       " (4, 9): 191,\n",
       " (5, 4): 98,\n",
       " (5, 5): 173,\n",
       " (5, 6): 205,\n",
       " (5, 7): 187,\n",
       " (5, 8): 155,\n",
       " (5, 9): 83,\n",
       " (6, 4): 166,\n",
       " (6, 5): 183,\n",
       " (6, 6): 187,\n",
       " (6, 7): 175,\n",
       " (6, 8): 155,\n",
       " (6, 9): 110}"
      ]
     },
     "execution_count": 45,
     "metadata": {},
     "output_type": "execute_result"
    }
   ],
   "source": [
    "sum_N_gt_tracks_per_acq"
   ]
  },
  {
   "cell_type": "markdown",
   "id": "87cd4710-9c79-45bc-8227-326f00d5dbaf",
   "metadata": {},
   "source": [
    "### As a percentage"
   ]
  },
  {
   "cell_type": "code",
   "execution_count": 46,
   "id": "696adb70-cfdd-4fcd-bd3b-9377d3189a7a",
   "metadata": {},
   "outputs": [
    {
     "name": "stdout",
     "output_type": "stream",
     "text": [
      "(3, 4) 27.725856697819314\n",
      "(3, 5) 29.505582137161085\n",
      "(3, 6) 16.411042944785276\n",
      "(3, 7) 27.559055118110237\n",
      "(3, 8) 25.877192982456144\n",
      "(3, 9) 31.272084805653712\n",
      "(4, 4) 24.924471299093657\n",
      "(4, 5) 35.56231003039514\n",
      "(4, 6) 32.656514382402705\n",
      "(4, 7) 27.602523659305994\n",
      "(4, 8) 28.413284132841326\n",
      "(4, 9) 29.797191887675506\n",
      "(5, 4) 19.52191235059761\n",
      "(5, 5) 26.533742331288344\n",
      "(5, 6) 30.873493975903614\n",
      "(5, 7) 26.487252124645895\n",
      "(5, 8) 26.58662092624357\n",
      "(5, 9) 13.949579831932773\n",
      "(6, 4) 24.233576642335766\n",
      "(6, 5) 25.957446808510635\n",
      "(6, 6) 28.333333333333332\n",
      "(6, 7) 26.636225266362253\n",
      "(6, 8) 22.334293948126803\n",
      "(6, 9) 17.88617886178862\n"
     ]
    }
   ],
   "source": [
    "for key in sum_N_gt_tracks_per_acq:\n",
    "    n = sum_N_gt_tracks_per_acq[key]\n",
    "    N = sum_N_cells_per_acq[key]\n",
    "    print(key, n/N*100)\n",
    "    "
   ]
  },
  {
   "cell_type": "code",
   "execution_count": 74,
   "id": "e361cd2d-1957-4edb-a549-54f9d759ecc1",
   "metadata": {},
   "outputs": [],
   "source": [
    "N_trax = 0\n",
    "for i in tracks_dict.values():\n",
    "    N_trax += len(i)\n",
    "    "
   ]
  },
  {
   "cell_type": "code",
   "execution_count": 65,
   "id": "d34f7ec1-d466-4cba-b961-64ea0b1774a5",
   "metadata": {},
   "outputs": [
    {
     "data": {
      "text/plain": [
       "384207"
      ]
     },
     "execution_count": 65,
     "metadata": {},
     "output_type": "execute_result"
    }
   ],
   "source": [
    "sum_N_frames"
   ]
  },
  {
   "cell_type": "code",
   "execution_count": null,
   "id": "74337e00",
   "metadata": {},
   "outputs": [],
   "source": [
    "output_dir = f'/mnt/DATA/macrohet/upstream_development/tracking/tracking_performance/{row},{column}/ground_truth_tracks'"
   ]
  },
  {
   "cell_type": "code",
   "execution_count": 19,
   "id": "36a9071c",
   "metadata": {},
   "outputs": [
    {
     "data": {
      "text/plain": [
       "194"
      ]
     },
     "execution_count": 19,
     "metadata": {},
     "output_type": "execute_result"
    }
   ],
   "source": [
    "len(track_performance_dict)"
   ]
  },
  {
   "cell_type": "code",
   "execution_count": null,
   "id": "eb51f43d",
   "metadata": {},
   "outputs": [],
   "source": [
    "track_performance_dict"
   ]
  },
  {
   "cell_type": "code",
   "execution_count": 18,
   "id": "37424570",
   "metadata": {},
   "outputs": [
    {
     "name": "stdout",
     "output_type": "stream",
     "text": [
      "178\n",
      "16\n",
      "0\n"
     ]
    }
   ],
   "source": [
    "correct_track_IDs = [key for key in track_performance_dict.keys() if track_performance_dict[key] == True]\n",
    "print(len(correct_track_IDs))\n",
    "\n",
    "false_track_IDs = [key for key in track_performance_dict.keys() if track_performance_dict[key] == False]\n",
    "print(len(false_track_IDs))\n",
    "\n",
    "linked_track_IDs = [key for key in track_performance_dict.keys() if track_performance_dict[key] == 'Link']\n",
    "print(len(linked_track_IDs))"
   ]
  },
  {
   "cell_type": "code",
   "execution_count": null,
   "id": "bc9635c9",
   "metadata": {},
   "outputs": [],
   "source": [
    "import matplotlib.pyplot as plt\n",
    "\n",
    "# Assuming you have defined your track_performance_dict dictionary\n",
    "correct_track_IDs = [key for key in track_performance_dict.keys() if track_performance_dict[key] == True]\n",
    "false_track_IDs = [key for key in track_performance_dict.keys() if track_performance_dict[key] == False]\n",
    "linked_track_IDs = [key for key in track_performance_dict.keys() if track_performance_dict[key] == 'Link']\n",
    "\n",
    "# Get counts\n",
    "counts = [len(correct_track_IDs), len(false_track_IDs), len(linked_track_IDs)]\n",
    "\n",
    "# Prepare data\n",
    "categories = ['Correct', 'False', 'Linked']\n",
    "colors = ['green', 'pink', 'yellow']  # PIYG color scheme approximation \n",
    "\n",
    "# Plot\n",
    "plt.figure(figsize=(10, 6))\n",
    "plt.bar(categories, counts, color=colors)\n",
    "plt.title('Track ID performance')\n",
    "plt.xlabel('Categories')\n",
    "plt.ylabel('Counts')\n",
    "plt.show()"
   ]
  },
  {
   "cell_type": "code",
   "execution_count": 34,
   "id": "2bff1457",
   "metadata": {},
   "outputs": [
    {
     "data": {
      "image/png": "[encoded data removed]",
      "text/plain": [
       "<Figure size 640x480 with 1 Axes>"
      ]
     },
     "metadata": {},
     "output_type": "display_data"
    }
   ],
   "source": [
    "import matplotlib.pyplot as plt\n",
    "import numpy as np\n",
    "import seaborn as sns\n",
    "\n",
    "# Set the theme and style\n",
    "sns.set(font='Nimbus Sans', style='white')\n",
    "\n",
    "# Assuming you have defined your track_performance_dict dictionary\n",
    "correct_track_IDs = [key for key in track_performance_dict.keys() if track_performance_dict[key] == True]\n",
    "false_track_IDs = [key for key in track_performance_dict.keys() if track_performance_dict[key] == False]\n",
    "linked_track_IDs = [key for key in track_performance_dict.keys() if track_performance_dict[key] == 'Link']\n",
    "\n",
    "# Get counts\n",
    "counts = [len(correct_track_IDs), len(false_track_IDs), len(linked_track_IDs)]\n",
    "\n",
    "# Prepare data\n",
    "categories = ['Correct', 'False', 'Linked']\n",
    "colors = ['#98d9b6', '#ffd1dc', '#d3d3d3']  # Adjusted color palette \n",
    "\n",
    "# Plot\n",
    "fig, ax = plt.subplots()\n",
    "\n",
    "# Define autopct function to move labels into the pie\n",
    "def autopct_format(values):\n",
    "    def my_format(pct):\n",
    "        total = sum(values)\n",
    "        val = int(round(pct*total/100.0))\n",
    "        return '{v:d}'.format(v=val) + ' ({p:.2f}%)'.format(p=pct)\n",
    "    return my_format\n",
    "\n",
    "# Draw pie chart\n",
    "ax.pie(counts, labels=categories, autopct=autopct_format(counts), startangle=90, pctdistance=0.4, colors=colors)\n",
    "\n",
    "# Draw white circle in the middle for the \"donut\" style\n",
    "centre_circle = plt.Circle((0,0),0.750,fc='white')\n",
    "fig.gca().add_artist(centre_circle)\n",
    "\n",
    "# Equal aspect ratio ensures that pie is drawn as a circle.\n",
    "ax.axis('equal')  \n",
    "\n",
    "# Change the font to Helvetica (default font in Apple Keynote)\n",
    "plt.rcParams['font.family'] = 'Helvetica'\n",
    "\n",
    "plt.title('Manual Assessment of Tracking Performance (position [3,5])', pad=20, weight='bold')\n",
    "\n",
    "# plt.savefig(os.path.join(output_dir, 'track_performance_pie_chart_3,5_ground_truth.png'), \n",
    "#             bbox_inches='tight', dpi=314)\n",
    "\n",
    "plt.show()\n"
   ]
  },
  {
   "cell_type": "code",
   "execution_count": null,
   "id": "aa854e61",
   "metadata": {},
   "outputs": [],
   "source": [
    "total_len=0\n",
    "for cell_ID in tqdm(track_performance_dict.keys()):\n",
    "    if isinstance(cell_ID, str):\n",
    "        cell_ID1 = int(cell_ID.split(',')[0])\n",
    "        track_len1 = len([t for t in tracks if t.ID == cell_ID1][0])\n",
    "        cell_ID2 = int(cell_ID.split(',')[1])\n",
    "        track_len2 = len([t for t in tracks if t.ID == cell_ID2][0])\n",
    "        track_len = track_len1+track_len2\n",
    "    else:\n",
    "        track_len = len([t for t in tracks if t.ID == cell_ID][0])\n",
    "    total_len += track_len"
   ]
  },
  {
   "cell_type": "code",
   "execution_count": null,
   "id": "39aa8e38",
   "metadata": {},
   "outputs": [],
   "source": [
    "total_len\n"
   ]
  },
  {
   "cell_type": "markdown",
   "id": "95e13b94",
   "metadata": {},
   "source": [
    "# Creating heatmap for track quality\n",
    "\n",
    "Correlate to density? Movement? etc."
   ]
  },
  {
   "cell_type": "code",
   "execution_count": null,
   "id": "84e91e91",
   "metadata": {},
   "outputs": [],
   "source": [
    "import matplotlib.pyplot as plt\n",
    "import numpy as np\n",
    "import seaborn as sns\n",
    "\n",
    "# Set the theme\n",
    "sns.set(font='Nimbus Sans', style='white')\n",
    "\n",
    "correct_x, correct_y = [], []\n",
    "false_x, false_y = [], []\n",
    "\n",
    "for cell_ID in track_performance_dict.keys():\n",
    "    if isinstance(cell_ID, str):\n",
    "        continue\n",
    "    track = [t for t in tracks if t.ID == int(cell_ID)][0]\n",
    "    if track_performance_dict[cell_ID] == True:\n",
    "        correct_x.extend(track.x)\n",
    "        correct_y.extend(track.y)\n",
    "    elif track_performance_dict[cell_ID] == False:\n",
    "        false_x.extend(track.x)\n",
    "        false_y.extend(track.y)\n",
    "\n",
    "# Preparing the grid for the histogram\n",
    "x_bins = np.linspace(min(min(correct_x), min(false_x)), max(max(correct_x), max(false_x)), 10)\n",
    "y_bins = np.linspace(min(min(correct_y), min(false_y)), max(max(correct_y), max(false_y)), 10)\n",
    "\n",
    "# Plotting the heatmap for correctly tracked cells\n",
    "plt.figure(figsize=(10, 8))\n",
    "plt.hist2d(correct_x, correct_y, bins=[x_bins, y_bins], cmap='Greens')\n",
    "plt.colorbar(label='Number of Correctly Tracked Cells')\n",
    "plt.title('Heatmap of Correctly Tracked Cells')\n",
    "plt.xlabel('X Position')\n",
    "plt.ylabel('Y Position')\n",
    "\n",
    "plt.savefig(os.path.join(output_dir, 'heatmap_correct_tracks_3,5_ground_truth.png'), \n",
    "            bbox_inches='tight', dpi=314)\n",
    "plt.show()\n",
    "\n",
    "# Plotting the heatmap for falsely tracked cells\n",
    "plt.figure(figsize=(10, 8))\n",
    "plt.hist2d(false_x, false_y, bins=[x_bins, y_bins], cmap='Reds')\n",
    "plt.colorbar(label='Number of Falsely Tracked Cells')\n",
    "plt.title('Heatmap of Falsely Tracked Cells')\n",
    "plt.xlabel('X Position')\n",
    "plt.ylabel('Y Position')\n",
    "plt.savefig(os.path.join(output_dir, 'heatmap_false_tracks_3,5_ground_truth.png'), \n",
    "            bbox_inches='tight', dpi=314)\n",
    "\n",
    "plt.show()\n"
   ]
  },
  {
   "cell_type": "code",
   "execution_count": null,
   "id": "717dbcb7",
   "metadata": {},
   "outputs": [],
   "source": [
    "import matplotlib.pyplot as plt\n",
    "import seaborn as sns\n",
    "\n",
    "sns.set(font='Nimbus Sans', style='white')\n",
    "\n",
    "# Get the first ten frames\n",
    "frames = range(10)\n",
    "\n",
    "# Filter tracks for the first ten frames\n",
    "tracks_first_10_frames = [track for track in tracks if any(track.in_frame(frame) for frame in frames)]\n",
    "\n",
    "# Get the x and y coordinates for the filtered tracks\n",
    "x_coords = [coord for track in tracks_first_10_frames for coord in track.x[:10]]\n",
    "y_coords = [coord for track in tracks_first_10_frames for coord in track.y[:10]]\n",
    "\n",
    "# Create the density map using plt.hist2d()\n",
    "heatmap, xedges, yedges, _ = plt.hist2d(x_coords, y_coords, bins=10, cmap='PiYG')\n",
    "plt.colorbar(label='Density')\n",
    "\n",
    "plt.xlabel('X Coordinate')\n",
    "plt.ylabel('Y Coordinate')\n",
    "plt.title('Density Map of Cell Detections (First 10 Frames)')\n",
    "\n",
    "\n",
    "plt.savefig(os.path.join(output_dir, 'heatmap_cells_t0-10_3,5_ground_truth.png'), \n",
    "            bbox_inches='tight', dpi=314)\n",
    "\n",
    "plt.show()\n"
   ]
  },
  {
   "cell_type": "code",
   "execution_count": null,
   "id": "5b8e76a3",
   "metadata": {},
   "outputs": [],
   "source": [
    "import matplotlib.pyplot as plt\n",
    "import seaborn as sns\n",
    "\n",
    "\n",
    "# Scale the x and y coordinates by 5.04\n",
    "scaled_false_x = [coord * 5.04 for coord in false_x]\n",
    "scaled_false_y = [coord * 5.04 for coord in false_y]\n",
    "\n",
    "scaled_x_coords = [coord * 5.04 for coord in x_coords]\n",
    "scaled_y_coords = [coord * 5.04 for coord in y_coords]\n",
    "\n",
    "# Set the figure size for both plots\n",
    "plt.figure(figsize=(12, 6))\n",
    "\n",
    "# Plot the KDE density plot of falsely tracked cells\n",
    "plt.subplot(1, 2, 1)  # Create the first subplot\n",
    "sns.kdeplot(scaled_false_x, scaled_false_y, cmap='Reds', shade=True, shade_lowest=False)\n",
    "plt.xlim(0, 1200 * 5.04)\n",
    "plt.ylim(0, 1200 * 5.04)\n",
    "plt.xlabel('X Coordinate ')\n",
    "plt.ylabel('Y Coordinate ')\n",
    "plt.title('Density of Falsely Tracked Cells')\n",
    "\n",
    "# Plot the KDE density plot of cell detections (first 10 frames)\n",
    "plt.subplot(1, 2, 2)  # Create the second subplot\n",
    "sns.kdeplot(scaled_x_coords, scaled_y_coords, cmap='Blues', shade=True, shade_lowest=False)\n",
    "plt.xlim(0, 1200 * 5.04)\n",
    "plt.ylim(0, 1200 * 5.04)\n",
    "plt.xlabel('X Coordinate')\n",
    "plt.ylabel('Y Coordinate')\n",
    "plt.title('Density of Cell Detections (First 10 Frames)')\n",
    "\n",
    "# Share the same x and y labels\n",
    "plt.tight_layout(rect=[0, 0, 1, 0.95])\n",
    "plt.suptitle('Comparison of Density Plots', fontsize=16, y=1.05)\n",
    "\n",
    "# Remove the spines\n",
    "sns.despine()\n",
    "\n",
    "\n",
    "plt.savefig(os.path.join(output_dir, 'density_false_tracks_cell_detec_0-10_3,5_ground_truth.png'), \n",
    "            bbox_inches='tight', dpi=314)\n",
    "# Show the plot\n",
    "plt.show()\n"
   ]
  },
  {
   "cell_type": "code",
   "execution_count": null,
   "id": "dd1d160a",
   "metadata": {},
   "outputs": [],
   "source": []
  },
  {
   "cell_type": "code",
   "execution_count": null,
   "id": "f8b73fd0",
   "metadata": {},
   "outputs": [],
   "source": [
    "import matplotlib.pyplot as plt\n",
    "import seaborn as sns\n",
    "\n",
    "# Scale the x and y coordinates by 5.04\n",
    "scaled_false_x = [coord * 5.04 for coord in correct_x]\n",
    "scaled_false_y = [coord * 5.04 for coord in correct_y]\n",
    "\n",
    "scaled_x_coords = [coord * 5.04 for coord in x_coords]\n",
    "scaled_y_coords = [coord * 5.04 for coord in y_coords]\n",
    "\n",
    "# Set the figure size for both plots\n",
    "plt.figure(figsize=(12, 6))\n",
    "\n",
    "# Plot the KDE density plot of falsely tracked cells\n",
    "plt.subplot(1, 2, 1)  # Create the first subplot\n",
    "sns.kdeplot(scaled_false_x, scaled_false_y, cmap='Greens', shade=True, shade_lowest=False)\n",
    "plt.xlim(0, 1200 * 5.04)\n",
    "plt.ylim(0, 1200 * 5.04)\n",
    "plt.xlabel('X Coordinate ')\n",
    "plt.ylabel('Y Coordinate ')\n",
    "plt.title('Density of Correctly Tracked Cells')\n",
    "\n",
    "# Plot the KDE density plot of cell detections (first 10 frames)\n",
    "plt.subplot(1, 2, 2)  # Create the second subplot\n",
    "sns.kdeplot(scaled_x_coords, scaled_y_coords, cmap='Blues', shade=True, shade_lowest=False)\n",
    "plt.xlim(0, 1200 * 5.04)\n",
    "plt.ylim(0, 1200 * 5.04)\n",
    "plt.xlabel('X Coordinate')\n",
    "plt.ylabel('Y Coordinate')\n",
    "plt.title('Density of Cell Detections (First 10 Frames)')\n",
    "\n",
    "# Share the same x and y labels\n",
    "plt.tight_layout(rect=[0, 0, 1, 0.95])\n",
    "plt.suptitle('Comparison of Density Plots', fontsize=16, y=1.05)\n",
    "\n",
    "# Remove the spines\n",
    "sns.despine()\n",
    "\n",
    "plt.savefig(os.path.join(output_dir, 'density_true_tracks_cell_detec_0-10_3,5_ground_truth.png'), \n",
    "            bbox_inches='tight', dpi=314)\n",
    "# Show the plot\n",
    "plt.show()\n"
   ]
  },
  {
   "cell_type": "code",
   "execution_count": null,
   "id": "abdccdce",
   "metadata": {},
   "outputs": [],
   "source": [
    "import matplotlib.pyplot as plt\n",
    "import seaborn as sns\n",
    "\n",
    "# Lists to store the coordinates\n",
    "correct_x, correct_y = [], []\n",
    "infected_x, infected_y = [], []\n",
    "\n",
    "# Iterate over the tracks and separate the coordinates based on track performance and infection status\n",
    "for track in tracks:\n",
    "    if track.ID in track_performance_dict.keys():\n",
    "        if track_performance_dict[track.ID] == True:\n",
    "            correct_x.extend(track.x)\n",
    "            correct_y.extend(track.y)\n",
    "        if track.properties['Infected'][0] == 1:\n",
    "            infected_x.extend(track.x)\n",
    "            infected_y.extend(track.y)\n",
    "\n",
    "# Set the figure size for both plots\n",
    "plt.figure(figsize=(12, 6))\n",
    "\n",
    "# Plot the KDE density plot of correctly tracked cells\n",
    "plt.subplot(1, 2, 1)  # Create the first subplot\n",
    "sns.kdeplot(correct_x, correct_y, cmap='Greens', shade=True, shade_lowest=False)\n",
    "plt.xlim(0, 1200)\n",
    "plt.ylim(0, 1200)\n",
    "plt.xlabel('X Coordinate')\n",
    "plt.ylabel('Y Coordinate')\n",
    "plt.title('Density of Correctly Tracked Cells')\n",
    "\n",
    "# Plot the KDE density plot of infected cells\n",
    "plt.subplot(1, 2, 2)  # Create the second subplot\n",
    "sns.kdeplot(infected_x, infected_y, cmap='Blues', shade=True, shade_lowest=False)\n",
    "plt.xlim(0, 1200)\n",
    "plt.ylim(0, 1200)\n",
    "plt.xlabel('X Coordinate')\n",
    "plt.ylabel('Y Coordinate')\n",
    "plt.title('Density of Infected Cells')\n",
    "\n",
    "# Share the same y label\n",
    "plt.ylabel('Y Coordinate')\n",
    "\n",
    "# Share the same x and y labels\n",
    "plt.tight_layout(rect=[0, 0, 1, 0.95])\n",
    "plt.suptitle('Comparison of Density Plots', fontsize=16, y=1.05)\n",
    "\n",
    "# Remove the spines\n",
    "sns.despine()\n",
    "\n",
    "\n",
    "plt.savefig(os.path.join(output_dir, 'density_correct_tracks_infected_cells_3,5_ground_truth.png'), \n",
    "            bbox_inches='tight', dpi=314)\n",
    "\n",
    "# Show the plot\n",
    "plt.show()\n"
   ]
  },
  {
   "cell_type": "markdown",
   "id": "d57feb39",
   "metadata": {},
   "source": [
    "### Comparison of image based density and density of incorrectly tracked cells"
   ]
  },
  {
   "cell_type": "code",
   "execution_count": null,
   "id": "782e153a",
   "metadata": {},
   "outputs": [],
   "source": [
    "image_dir = os.path.join(base_dir, 'macrohet_images/Images')\n",
    "first_frame = tile.compile_mosaic(image_dir, \n",
    "                             metadata, \n",
    "                             row, column, \n",
    "                             set_plane='sum_proj',\n",
    "#                              set_channel=1,\n",
    "                             set_time = 0,\n",
    "#                             input_transforms = [input_transforms]\n",
    "                            ).compute().compute()"
   ]
  },
  {
   "cell_type": "code",
   "execution_count": null,
   "id": "74e5e8ac",
   "metadata": {},
   "outputs": [],
   "source": [
    "first_frame.shape"
   ]
  },
  {
   "cell_type": "code",
   "execution_count": null,
   "id": "1459f5e4",
   "metadata": {},
   "outputs": [],
   "source": [
    "gfp_t0 = first_frame[0]\n",
    "rfp_t0 = first_frame[1]"
   ]
  },
  {
   "cell_type": "code",
   "execution_count": null,
   "id": "0d0a1343",
   "metadata": {},
   "outputs": [],
   "source": [
    "flipped_gfp = np.flipud(gfp_t0)\n",
    "flipped_rfp = np.flipud(rfp_t0)"
   ]
  },
  {
   "cell_type": "code",
   "execution_count": null,
   "id": "eccd9b8a",
   "metadata": {},
   "outputs": [],
   "source": [
    "viewer.add_image(flipped_gfp, \n",
    "                 contrast_limits=[100, 6000],\n",
    "                 )\n",
    "viewer.add_image(flipped_rfp, \n",
    "                 contrast_limits=[100, 2000],\n",
    "                 )"
   ]
  },
  {
   "cell_type": "code",
   "execution_count": null,
   "id": "76a27634",
   "metadata": {},
   "outputs": [],
   "source": [
    "import matplotlib.pyplot as plt\n",
    "import seaborn as sns\n",
    "\n",
    "# # Scale the x and y coordinates by 5.04\n",
    "# scaled_x_coords = [coord * 5.04 for coord in x_coords]\n",
    "# scaled_y_coords = [coord * 5.04 for coord in y_coords]\n",
    "\n",
    "# Scale the x and y coordinates by 5.04\n",
    "scaled_false_x = [coord * 5.04 for coord in false_x]\n",
    "scaled_false_y = [coord * 5.04 for coord in false_y]\n",
    "\n",
    "\n",
    "# Set the figure size for both plots\n",
    "plt.figure(figsize=(10, 10))\n",
    "\n",
    "# Remove axis labels and tick marks\n",
    "plt.axis('off')\n",
    "\n",
    "# Load and overlay the image\n",
    "image = plt.imread(\"/home/dayn/r03c05f0-p0-ch1sk1fk1fl1.png\")\n",
    "plt.imshow(np.flipud(image), extent=[0, 1200 * 5.04, 0, 1200 * 5.04], alpha=1)\n",
    "\n",
    "# Plot the KDE density plot of cell detections (first 10 frames)\n",
    "sns.kdeplot(scaled_false_x, scaled_false_y, cmap='PiYG_r', levels=15, linewidths=3, alpha=0.8)\n",
    "\n",
    "# Set the image and KDE plot in the center\n",
    "plt.xlim(0, 1200 * 5.04)\n",
    "plt.ylim(0, 1200 * 5.04)\n",
    "\n",
    "# Add a black border with width 50\n",
    "plt.gca().spines['top'].set_color('black')\n",
    "plt.gca().spines['bottom'].set_color('black')\n",
    "plt.gca().spines['left'].set_color('black')\n",
    "plt.gca().spines['right'].set_color('black')\n",
    "plt.gca().spines['top'].set_linewidth(50)\n",
    "plt.gca().spines['bottom'].set_linewidth(50)\n",
    "plt.gca().spines['left'].set_linewidth(50)\n",
    "plt.gca().spines['right'].set_linewidth(50)\n",
    "\n",
    "# Remove the spines\n",
    "sns.despine()\n",
    "\n",
    "# # Save the plot with a black border\n",
    "# plt.savefig('/home/dayn/density_false_tracks_r03c05.png', bbox_inches='tight', pad_inches=0, transparent=True)\n",
    "\n",
    "plt.title('Density of false tracks overlaid on first frame of timelapse (position 3,5)')\n",
    "# Show the plot\n",
    "\n",
    "\n",
    "plt.savefig(os.path.join(output_dir, 'density_false_tracks_overlay_15lvl_3,5_ground_truth.png'), \n",
    "            bbox_inches='tight', dpi=314)\n",
    "plt.show()\n"
   ]
  },
  {
   "cell_type": "code",
   "execution_count": null,
   "id": "c98b1208",
   "metadata": {},
   "outputs": [],
   "source": [
    "import matplotlib.pyplot as plt\n",
    "import seaborn as sns\n",
    "\n",
    "# # Scale the x and y coordinates by 5.04\n",
    "# scaled_x_coords = [coord * 5.04 for coord in x_coords]\n",
    "# scaled_y_coords = [coord * 5.04 for coord in y_coords]\n",
    "\n",
    "# Scale the x and y coordinates by 5.04\n",
    "scaled_false_x = [coord * 5.04 for coord in false_x]\n",
    "scaled_false_y = [coord * 5.04 for coord in false_y]\n",
    "\n",
    "\n",
    "# Set the figure size for both plots\n",
    "plt.figure(figsize=(10, 10))\n",
    "\n",
    "# Remove axis labels and tick marks\n",
    "plt.axis('off')\n",
    "\n",
    "# Load and overlay the image\n",
    "image = plt.imread(\"/home/dayn/r03c05f0-p0-ch1sk1fk1fl1.png\")\n",
    "plt.imshow(np.flipud(image), extent=[0, 1200 * 5.04, 0, 1200 * 5.04], alpha=1)\n",
    "\n",
    "# Plot the KDE density plot of cell detections (first 10 frames)\n",
    "sns.kdeplot(scaled_false_x, scaled_false_y, cmap='PiYG_r', levels=15, linewidths=5, alpha=0.8)\n",
    "\n",
    "# Set the image and KDE plot in the center\n",
    "plt.xlim(0, 1200 * 5.04)\n",
    "plt.ylim(0, 1200 * 5.04)\n",
    "\n",
    "# Remove the spines\n",
    "sns.despine()\n",
    "\n",
    "# # Save the plot with a black border\n",
    "# plt.savefig('/mnt/DATA/macrohet/upstream_development/tracking/tracking_performance/3,5/ground_truth_tracks/density_false_tracks_r03c05_t01_15lvls.png', \n",
    "#             bbox_inches='tight', pad_inches=0, transparent=True)\n",
    "\n",
    "plt.title('Density of false tracks overlaid on first frame of timelapse (position 3,5)')\n",
    "# Show the plot\n",
    "\n",
    "plt.savefig(os.path.join(output_dir, 'density_false_tracks_overlay_15lvl_thicker_3,5_ground_truth.png'), \n",
    "            bbox_inches='tight', dpi=314)\n",
    "plt.show()\n"
   ]
  },
  {
   "cell_type": "code",
   "execution_count": null,
   "id": "5f3b5517",
   "metadata": {},
   "outputs": [],
   "source": [
    "import matplotlib.pyplot as plt\n",
    "import seaborn as sns\n",
    "\n",
    "# Scale the x and y coordinates by 5.04\n",
    "scaled_false_x = [coord * 5.04 for coord in false_x]\n",
    "scaled_false_y = [coord * 5.04 for coord in false_y]\n",
    "\n",
    "# Set the figure size for both plots\n",
    "plt.figure(figsize=(10, 10))\n",
    "\n",
    "# Remove axis labels and tick marks\n",
    "plt.axis('off')\n",
    "\n",
    "# Load and overlay the image\n",
    "image = plt.imread(\"/home/dayn/r03c05f0-p0-ch1sk1fk1fl1_with_IDs.png\")\n",
    "plt.imshow(np.flipud(image), extent=[0, 1200 * 5.04, 0, 1200 * 5.04], alpha=1)\n",
    "\n",
    "# Plot the KDE density plot of cell detections (first 10 frames)\n",
    "sns.kdeplot(scaled_false_x, scaled_false_y, cmap='PiYG_r', levels=15, linewidths=5, alpha=0.666)\n",
    "\n",
    "# Set the image and KDE plot in the center\n",
    "plt.xlim(0, 1200 * 5.04)\n",
    "plt.ylim(0, 1200 * 5.04)\n",
    "\n",
    "# Invert the y-axis\n",
    "plt.gca().invert_yaxis()\n",
    "\n",
    "# Add a black border with width 50\n",
    "plt.gca().spines['top'].set_color('black')\n",
    "plt.gca().spines['bottom'].set_color('black')\n",
    "plt.gca().spines['left'].set_color('black')\n",
    "plt.gca().spines['right'].set_color('black')\n",
    "plt.gca().spines['top'].set_linewidth(50)\n",
    "plt.gca().spines['bottom'].set_linewidth(50)\n",
    "plt.gca().spines['left'].set_linewidth(50)\n",
    "plt.gca().spines['right'].set_linewidth(50)\n",
    "\n",
    "# Remove the spines\n",
    "sns.despine()\n",
    "\n",
    "# # Save the plot with a black border\n",
    "# plt.savefig('/mnt/DATA/macrohet/upstream_development/tracking/tracking_performance/3,5/ground_truth_tracks/density_false_tracks_r03c05_t01_15lvls_IDs.png', \n",
    "#             bbox_inches='tight', pad_inches=0, transparent=True)\n",
    "\n",
    "plt.title('Density of false tracks overlaid on first frame of timelapse (position 3,5)')\n",
    "\n",
    "\n",
    "plt.savefig(os.path.join(output_dir, 'density_false_tracks_overlay_15lvl_IDs_3,5_ground_truth.png'), \n",
    "            bbox_inches='tight', dpi=314)\n",
    "# Show the plot\n",
    "plt.show()\n"
   ]
  },
  {
   "cell_type": "code",
   "execution_count": null,
   "id": "dca1165f",
   "metadata": {},
   "outputs": [],
   "source": [
    "import matplotlib.pyplot as plt\n",
    "import seaborn as sns\n",
    "\n",
    "# Scale the x and y coordinates by 5.04\n",
    "scaled_correct_x = [coord * 5.04 for coord in correct_x]\n",
    "scaled_correct_y = [coord * 5.04 for coord in correct_y]\n",
    "\n",
    "\n",
    "# Set the figure size for both plots\n",
    "plt.figure(figsize=(10, 10))\n",
    "\n",
    "# Remove axis labels and tick marks\n",
    "plt.axis('off')\n",
    "\n",
    "# Load and overlay the image\n",
    "image = plt.imread(\"/home/dayn/r03c05f0-p0-ch1sk1fk1fl1_with_IDs.png\")\n",
    "plt.imshow(np.flipud(image), extent=[0, 1200 * 5.04, 0, 1200 * 5.04], alpha=1)\n",
    "\n",
    "# Plot the KDE density plot of cell detections (first 10 frames)\n",
    "sns.kdeplot(scaled_correct_x, scaled_correct_y, cmap='PiYG', levels=15, linewidths=5, alpha=0.666)\n",
    "\n",
    "# Set the image and KDE plot in the center\n",
    "plt.xlim(0, 1200 * 5.04)\n",
    "plt.ylim(0, 1200 * 5.04)\n",
    "\n",
    "# Invert the y-axis\n",
    "plt.gca().invert_yaxis()\n",
    "\n",
    "# Add a black border with width 50\n",
    "plt.gca().spines['top'].set_color('black')\n",
    "plt.gca().spines['bottom'].set_color('black')\n",
    "plt.gca().spines['left'].set_color('black')\n",
    "plt.gca().spines['right'].set_color('black')\n",
    "plt.gca().spines['top'].set_linewidth(50)\n",
    "plt.gca().spines['bottom'].set_linewidth(50)\n",
    "plt.gca().spines['left'].set_linewidth(50)\n",
    "plt.gca().spines['right'].set_linewidth(50)\n",
    "\n",
    "# Remove the spines\n",
    "sns.despine()\n",
    "\n",
    "plt.title('Density of correct tracks overlaid on first frame of timelapse (position 3,5)')\n",
    "\n",
    "plt.savefig(os.path.join(output_dir, 'density_correct_tracks_overlay_15lvl_IDs_3,5_ground_truth.png'), \n",
    "            bbox_inches='tight', dpi=314)\n",
    "# Show the plot\n",
    "plt.show()\n"
   ]
  },
  {
   "cell_type": "markdown",
   "id": "a0071635",
   "metadata": {},
   "source": [
    "# Creating animation showing true tracks"
   ]
  },
  {
   "cell_type": "code",
   "execution_count": null,
   "id": "f7d56315",
   "metadata": {},
   "outputs": [],
   "source": [
    "true_IDs = [int(ID) for ID, status in track_performance_dict.items() if status is True]\n",
    "true_tracks = [t for t in tracks if t.ID in true_IDs]"
   ]
  },
  {
   "cell_type": "code",
   "execution_count": null,
   "id": "fc51ef65",
   "metadata": {},
   "outputs": [],
   "source": [
    "false_IDs = [int(ID) for ID, status in track_performance_dict.items() if status is False]\n",
    "false_tracks = [t for t in tracks if t.ID in false_IDs]"
   ]
  },
  {
   "cell_type": "code",
   "execution_count": null,
   "id": "5636caa7",
   "metadata": {},
   "outputs": [],
   "source": [
    "len(true_tracks), len(false_tracks)"
   ]
  },
  {
   "cell_type": "code",
   "execution_count": null,
   "id": "435c771b",
   "metadata": {},
   "outputs": [],
   "source": [
    "true_napari_tracks, properties, graph = btrack.utils.tracks_to_napari(true_tracks, ndim=ndim)"
   ]
  },
  {
   "cell_type": "code",
   "execution_count": null,
   "id": "de993599",
   "metadata": {},
   "outputs": [],
   "source": [
    "viewer.add_tracks(true_napari_tracks, scale = (1,scale_factor,scale_factor))"
   ]
  },
  {
   "cell_type": "markdown",
   "id": "7cd84973",
   "metadata": {},
   "source": [
    "# Can we characterise the true tracks vs false tracks??"
   ]
  },
  {
   "cell_type": "code",
   "execution_count": null,
   "id": "602edb53",
   "metadata": {},
   "outputs": [],
   "source": [
    "sns.set(font='Nimbus Sans', style = 'white')"
   ]
  },
  {
   "cell_type": "code",
   "execution_count": null,
   "id": "a583212b",
   "metadata": {},
   "outputs": [],
   "source": [
    "# import matplotlib.pyplot as plt\n",
    "# import seaborn as sns\n",
    "\n",
    "# Calculate the track lengths for true tracks and false tracks\n",
    "true_track_lengths = [len(t) for t in true_tracks]\n",
    "false_track_lengths = [len(t) for t in false_tracks]\n",
    "\n",
    "# Set the color palette for true and false tracks\n",
    "colors = sns.color_palette('PiYG')\n",
    "\n",
    "# Plot the histogram\n",
    "sns.histplot(true_track_lengths, color=colors[-1], label='True Tracks')\n",
    "sns.histplot(false_track_lengths, color=colors[0], label='False Tracks', alpha = 0.333)\n",
    "\n",
    "# Add labels and title\n",
    "plt.xlabel('Track Length')\n",
    "plt.ylabel('Count')\n",
    "plt.title('Distribution of Track Lengths')\n",
    "\n",
    "# Remove spines and set offset\n",
    "sns.despine(offset=10)\n",
    "\n",
    "# Add legend\n",
    "plt.legend()\n",
    "\n",
    "plt.savefig(os.path.join(output_dir, 'distribution_true_false_track_lengths_3,5_ground_truth.png'), \n",
    "            bbox_inches='tight', dpi=314)\n",
    "\n",
    "# Show the plot\n",
    "plt.show()\n"
   ]
  },
  {
   "cell_type": "code",
   "execution_count": null,
   "id": "77be7126",
   "metadata": {},
   "outputs": [],
   "source": [
    "# import matplotlib.pyplot as plt\n",
    "# import seaborn as sns\n",
    "\n",
    "# Calculate the track lengths for true tracks and false tracks\n",
    "true_track_area_t0 = [t.properties['area'][0] for t in true_tracks]\n",
    "false_track_area_t0 = [t.properties['area'][0] for t in false_tracks]\n",
    "\n",
    "# Set the color palette for true and false tracks\n",
    "colors = sns.color_palette('PiYG')\n",
    "\n",
    "# Plot the histogram\n",
    "sns.histplot(true_track_area_t0, color=colors[-1], label='True Tracks')\n",
    "sns.histplot(false_track_area_t0, color=colors[0], label='False Tracks', alpha = 0.5)\n",
    "\n",
    "# Add labels and title\n",
    "plt.xlabel('Cell Area at t = 0')\n",
    "plt.ylabel('Count')\n",
    "plt.title('Distribution of t = 0 area between correct and false tracks')\n",
    "\n",
    "# Remove spines and set offset\n",
    "sns.despine(offset=10)\n",
    "\n",
    "# Add legend\n",
    "plt.legend()\n",
    "\n",
    "plt.savefig(os.path.join(output_dir, 'distribution_true_false_track_areas_t0_3,5_ground_truth.png'), \n",
    "            bbox_inches='tight', dpi=314)\n",
    "\n",
    "# Show the plot\n",
    "plt.show()\n"
   ]
  },
  {
   "cell_type": "code",
   "execution_count": null,
   "id": "cebb1ffe",
   "metadata": {},
   "outputs": [],
   "source": [
    "true_tracks[0]"
   ]
  },
  {
   "cell_type": "code",
   "execution_count": null,
   "id": "e8d346b9",
   "metadata": {},
   "outputs": [],
   "source": [
    "# import matplotlib.pyplot as plt\n",
    "# import seaborn as sns\n",
    "\n",
    "# Calculate the track lengths for true tracks and false tracks\n",
    "true_track_mtb_t0 = [t.properties['mean_intensity'][2][0] for t in true_tracks]\n",
    "false_track_mtb_t0 = [t.properties['mean_intensity'][2][0] for t in false_tracks]\n",
    "\n",
    "# Set the color palette for true and false tracks\n",
    "colors = sns.color_palette('PiYG')\n",
    "\n",
    "# Plot the histogram\n",
    "sns.histplot(true_track_mtb_t0, color=colors[-1], label='True Tracks')\n",
    "sns.histplot(false_track_mtb_t0, color=colors[0], label='False Tracks', alpha = 0.5)\n",
    "\n",
    "# Add labels and title\n",
    "plt.xlabel('Mtb measure at t = 0')\n",
    "plt.ylabel('Count')\n",
    "plt.title('Distribution of t = 0 Mtb measure between correct and false tracks')\n",
    "\n",
    "# Remove spines and set offset\n",
    "sns.despine(offset=10)\n",
    "\n",
    "# Add legend\n",
    "plt.legend()\n",
    "\n",
    "plt.savefig(os.path.join(output_dir, 'distribution_true_false_track_mtb_t0_3,5_ground_truth.png'), \n",
    "            bbox_inches='tight', dpi=314)\n",
    "\n",
    "# Show the plot\n",
    "plt.show()\n"
   ]
  },
  {
   "cell_type": "markdown",
   "id": "7f565f18",
   "metadata": {},
   "source": [
    "# Truer sense of tracking performance\n",
    "\n",
    "By counting the number of cells and comparing the number of true tracks to that, rather than just hte ratio of true tracks to false which will include fragmented tracks"
   ]
  },
  {
   "cell_type": "code",
   "execution_count": null,
   "id": "ca178dd4",
   "metadata": {},
   "outputs": [],
   "source": [
    "N_cells = 0\n",
    "for i in range(0, 9):\n",
    "    N_cells+= np.max(segmentation[i])\n",
    "N_cells = N_cells/9\n",
    "print(int(N_cells))"
   ]
  },
  {
   "cell_type": "code",
   "execution_count": null,
   "id": "69fbfbe9",
   "metadata": {},
   "outputs": [],
   "source": [
    "import matplotlib.pyplot as plt\n",
    "import numpy as np\n",
    "import seaborn as sns\n",
    "\n",
    "# Set the theme and style\n",
    "sns.set(font='Nimbus Sans', style='white')\n",
    "\n",
    "# Assuming you have defined your track_performance_dict dictionary\n",
    "correct_track_IDs = [key for key in track_performance_dict.keys() if track_performance_dict[key] == True]\n",
    "false_track_IDs = [key for key in track_performance_dict.keys() if track_performance_dict[key] == False]\n",
    "linked_track_IDs = [key for key in track_performance_dict.keys() if track_performance_dict[key] == 'Link']\n",
    "\n",
    "N_cells = 0\n",
    "for i in range(0, 9):\n",
    "    N_cells += np.max(segmentation[i])\n",
    "N_cells = N_cells / 9\n",
    "\n",
    "N_false = N_cells - len(correct_track_IDs) - len(linked_track_IDs)\n",
    "\n",
    "# Get counts\n",
    "counts = [len(correct_track_IDs), \n",
    "          N_false,\n",
    "          # len(false_track_IDs),\n",
    "          len(linked_track_IDs)]\n",
    "\n",
    "# Prepare data\n",
    "categories = ['Correct', 'False', 'Linked']\n",
    "colors = ['#98d9b6', '#ffd1dc', '#d3d3d3']  # Adjusted color palette \n",
    "\n",
    "# Plot\n",
    "fig, ax = plt.subplots()\n",
    "\n",
    "# Define autopct function to move labels into the pie\n",
    "def autopct_format(values):\n",
    "    def my_format(pct):\n",
    "        total = sum(values)\n",
    "        val = int(round(pct * total / 100.0))\n",
    "        return '{v:d}'.format(v=val) + ' ({p:.2f}%)'.format(p=pct)\n",
    "    return my_format\n",
    "\n",
    "# Draw pie chart\n",
    "ax.pie(counts, labels=categories, autopct=autopct_format(counts), startangle=90, pctdistance=0.4, colors=colors)\n",
    "\n",
    "# Draw white circle in the middle for the \"donut\" style\n",
    "centre_circle = plt.Circle((0, 0), 0.750, fc='white')\n",
    "fig.gca().add_artist(centre_circle)\n",
    "\n",
    "# Equal aspect ratio ensures that pie is drawn as a circle.\n",
    "ax.axis('equal')  \n",
    "\n",
    "# Change the font to Helvetica (default font in Apple Keynote)\n",
    "plt.rcParams['font.family'] = 'Helvetica'\n",
    "\n",
    "# Add title and subtitle\n",
    "plt.title('Manual Assessment of Tracking Performance (position 3,5)', pad=20, weight='bold')\n",
    "sns.set(font='Nimbus Sans', style='white')\n",
    "plt.text(0, 1.15, 'Fragmented false tracks removed', ha='center', va='center', fontsize=11)\n",
    "\n",
    "plt.savefig(os.path.join(output_dir, 'true_measure_track_performance_pie_chart_3,5_ground_truth.png'), \n",
    "            bbox_inches='tight', dpi=314)\n",
    "\n",
    "plt.show() \n"
   ]
  },
  {
   "cell_type": "code",
   "execution_count": null,
   "id": "84a3bf39",
   "metadata": {},
   "outputs": [],
   "source": [
    "output_dir"
   ]
  },
  {
   "cell_type": "code",
   "execution_count": null,
   "id": "26ca4e2d",
   "metadata": {},
   "outputs": [],
   "source": [
    "temp_v = napari.Viewer()\n",
    "\n",
    "temp_v.add_image(segmentation, scale=(100,1,1))"
   ]
  }
 ],
 "metadata": {
  "kernelspec": {
   "display_name": "brassica",
   "language": "python",
   "name": "brassica"
  },
  "language_info": {
   "codemirror_mode": {
    "name": "ipython",
    "version": 3
   },
   "file_extension": ".py",
   "mimetype": "text/x-python",
   "name": "python",
   "nbconvert_exporter": "python",
   "pygments_lexer": "ipython3",
   "version": "3.9.17"
  }
 },
 "nbformat": 4,
 "nbformat_minor": 5
}
