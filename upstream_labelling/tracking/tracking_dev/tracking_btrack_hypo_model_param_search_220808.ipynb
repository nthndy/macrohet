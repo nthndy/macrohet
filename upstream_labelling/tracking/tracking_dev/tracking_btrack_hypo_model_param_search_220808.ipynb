{
 "cells": [
  {
   "cell_type": "code",
   "execution_count": 1,
   "id": "18b20799",
   "metadata": {},
   "outputs": [],
   "source": [
    "import dask.array as da\n",
    "import napari\n",
    "import btrack\n",
    "from tqdm.auto import tqdm\n",
    "from skimage.io import imshow,  imsave\n",
    "import matplotlib.pyplot as plt\n",
    "import numpy as np\n",
    "import itertools\n",
    "import json\n",
    "plt.rcParams[\"figure.figsize\"] = (15,7)"
   ]
  },
  {
   "cell_type": "markdown",
   "id": "410eeae1",
   "metadata": {},
   "source": [
    "### Load images from zarr and compress into max projections"
   ]
  },
  {
   "cell_type": "code",
   "execution_count": 2,
   "id": "61ffbb7e",
   "metadata": {},
   "outputs": [],
   "source": [
    "gfp = da.from_zarr('/mnt/DATA/sandbox/pierre_live_cell_data/outputs/Replication_IPSDM_GFP/zarr/tzxy_stack_ch1.zarr/')\n",
    "rfp = da.from_zarr('/mnt/DATA/sandbox/pierre_live_cell_data/outputs/Replication_IPSDM_GFP/zarr/tzxy_stack_ch2.zarr/')\n",
    "gfp = da.sum(gfp, axis = 1, dtype='u2')\n",
    "rfp = da.sum(rfp, axis = 1, dtype='u2')\n",
    "masks = da.from_zarr(f'/mnt/DATA/sandbox/pierre_live_cell_data/outputs/Replication_IPSDM_GFP/zarr/tzxy_stack_ch99.zarr/',)# chunks = gfp.chunks)"
   ]
  },
  {
   "cell_type": "code",
   "execution_count": 3,
   "id": "0d8ae137",
   "metadata": {},
   "outputs": [
    {
     "data": {
      "text/html": [
       "<table>\n",
       "    <tr>\n",
       "        <td>\n",
       "            <table>\n",
       "                <thead>\n",
       "                    <tr>\n",
       "                        <td> </td>\n",
       "                        <th> Array </th>\n",
       "                        <th> Chunk </th>\n",
       "                    </tr>\n",
       "                </thead>\n",
       "                <tbody>\n",
       "                    \n",
       "                    <tr>\n",
       "                        <th> Bytes </th>\n",
       "                        <td> 5.11 GiB </td>\n",
       "                        <td> 8.90 MiB </td>\n",
       "                    </tr>\n",
       "                    \n",
       "                    <tr>\n",
       "                        <th> Shape </th>\n",
       "                        <td> (75, 6048, 6048) </td>\n",
       "                        <td> (1, 2160, 2160) </td>\n",
       "                    </tr>\n",
       "                    <tr>\n",
       "                        <th> Count </th>\n",
       "                        <td> 676 Tasks </td>\n",
       "                        <td> 675 Chunks </td>\n",
       "                    </tr>\n",
       "                    <tr>\n",
       "                    <th> Type </th>\n",
       "                    <td> uint16 </td>\n",
       "                    <td> numpy.ndarray </td>\n",
       "                    </tr>\n",
       "                </tbody>\n",
       "            </table>\n",
       "        </td>\n",
       "        <td>\n",
       "        <svg width=\"195\" height=\"185\" style=\"stroke:rgb(0,0,0);stroke-width:1\" >\n",
       "\n",
       "  <!-- Horizontal lines -->\n",
       "  <line x1=\"10\" y1=\"0\" x2=\"25\" y2=\"15\" style=\"stroke-width:2\" />\n",
       "  <line x1=\"10\" y1=\"42\" x2=\"25\" y2=\"58\" />\n",
       "  <line x1=\"10\" y1=\"85\" x2=\"25\" y2=\"101\" />\n",
       "  <line x1=\"10\" y1=\"120\" x2=\"25\" y2=\"135\" style=\"stroke-width:2\" />\n",
       "\n",
       "  <!-- Vertical lines -->\n",
       "  <line x1=\"10\" y1=\"0\" x2=\"10\" y2=\"120\" style=\"stroke-width:2\" />\n",
       "  <line x1=\"10\" y1=\"0\" x2=\"10\" y2=\"120\" />\n",
       "  <line x1=\"11\" y1=\"1\" x2=\"11\" y2=\"121\" />\n",
       "  <line x1=\"12\" y1=\"2\" x2=\"12\" y2=\"122\" />\n",
       "  <line x1=\"13\" y1=\"3\" x2=\"13\" y2=\"123\" />\n",
       "  <line x1=\"13\" y1=\"3\" x2=\"13\" y2=\"123\" />\n",
       "  <line x1=\"14\" y1=\"4\" x2=\"14\" y2=\"124\" />\n",
       "  <line x1=\"15\" y1=\"5\" x2=\"15\" y2=\"125\" />\n",
       "  <line x1=\"16\" y1=\"6\" x2=\"16\" y2=\"126\" />\n",
       "  <line x1=\"17\" y1=\"7\" x2=\"17\" y2=\"127\" />\n",
       "  <line x1=\"18\" y1=\"8\" x2=\"18\" y2=\"128\" />\n",
       "  <line x1=\"18\" y1=\"8\" x2=\"18\" y2=\"128\" />\n",
       "  <line x1=\"19\" y1=\"9\" x2=\"19\" y2=\"129\" />\n",
       "  <line x1=\"20\" y1=\"10\" x2=\"20\" y2=\"130\" />\n",
       "  <line x1=\"21\" y1=\"11\" x2=\"21\" y2=\"131\" />\n",
       "  <line x1=\"22\" y1=\"12\" x2=\"22\" y2=\"132\" />\n",
       "  <line x1=\"23\" y1=\"13\" x2=\"23\" y2=\"133\" />\n",
       "  <line x1=\"23\" y1=\"13\" x2=\"23\" y2=\"133\" />\n",
       "  <line x1=\"24\" y1=\"14\" x2=\"24\" y2=\"134\" />\n",
       "  <line x1=\"25\" y1=\"15\" x2=\"25\" y2=\"135\" style=\"stroke-width:2\" />\n",
       "\n",
       "  <!-- Colored Rectangle -->\n",
       "  <polygon points=\"10.0,0.0 25.57197789387105,15.57197789387105 25.57197789387105,135.57197789387106 10.0,120.0\" style=\"fill:#8B4903A0;stroke-width:0\"/>\n",
       "\n",
       "  <!-- Horizontal lines -->\n",
       "  <line x1=\"10\" y1=\"0\" x2=\"130\" y2=\"0\" style=\"stroke-width:2\" />\n",
       "  <line x1=\"10\" y1=\"0\" x2=\"130\" y2=\"0\" />\n",
       "  <line x1=\"11\" y1=\"1\" x2=\"131\" y2=\"1\" />\n",
       "  <line x1=\"12\" y1=\"2\" x2=\"132\" y2=\"2\" />\n",
       "  <line x1=\"13\" y1=\"3\" x2=\"133\" y2=\"3\" />\n",
       "  <line x1=\"13\" y1=\"3\" x2=\"133\" y2=\"3\" />\n",
       "  <line x1=\"14\" y1=\"4\" x2=\"134\" y2=\"4\" />\n",
       "  <line x1=\"15\" y1=\"5\" x2=\"135\" y2=\"5\" />\n",
       "  <line x1=\"16\" y1=\"6\" x2=\"136\" y2=\"6\" />\n",
       "  <line x1=\"17\" y1=\"7\" x2=\"137\" y2=\"7\" />\n",
       "  <line x1=\"18\" y1=\"8\" x2=\"138\" y2=\"8\" />\n",
       "  <line x1=\"18\" y1=\"8\" x2=\"138\" y2=\"8\" />\n",
       "  <line x1=\"19\" y1=\"9\" x2=\"139\" y2=\"9\" />\n",
       "  <line x1=\"20\" y1=\"10\" x2=\"140\" y2=\"10\" />\n",
       "  <line x1=\"21\" y1=\"11\" x2=\"141\" y2=\"11\" />\n",
       "  <line x1=\"22\" y1=\"12\" x2=\"142\" y2=\"12\" />\n",
       "  <line x1=\"23\" y1=\"13\" x2=\"143\" y2=\"13\" />\n",
       "  <line x1=\"23\" y1=\"13\" x2=\"143\" y2=\"13\" />\n",
       "  <line x1=\"24\" y1=\"14\" x2=\"144\" y2=\"14\" />\n",
       "  <line x1=\"25\" y1=\"15\" x2=\"145\" y2=\"15\" style=\"stroke-width:2\" />\n",
       "\n",
       "  <!-- Vertical lines -->\n",
       "  <line x1=\"10\" y1=\"0\" x2=\"25\" y2=\"15\" style=\"stroke-width:2\" />\n",
       "  <line x1=\"52\" y1=\"0\" x2=\"68\" y2=\"15\" />\n",
       "  <line x1=\"95\" y1=\"0\" x2=\"111\" y2=\"15\" />\n",
       "  <line x1=\"130\" y1=\"0\" x2=\"145\" y2=\"15\" style=\"stroke-width:2\" />\n",
       "\n",
       "  <!-- Colored Rectangle -->\n",
       "  <polygon points=\"10.0,0.0 130.0,0.0 145.57197789387106,15.57197789387105 25.57197789387105,15.57197789387105\" style=\"fill:#8B4903A0;stroke-width:0\"/>\n",
       "\n",
       "  <!-- Horizontal lines -->\n",
       "  <line x1=\"25\" y1=\"15\" x2=\"145\" y2=\"15\" style=\"stroke-width:2\" />\n",
       "  <line x1=\"25\" y1=\"58\" x2=\"145\" y2=\"58\" />\n",
       "  <line x1=\"25\" y1=\"101\" x2=\"145\" y2=\"101\" />\n",
       "  <line x1=\"25\" y1=\"135\" x2=\"145\" y2=\"135\" style=\"stroke-width:2\" />\n",
       "\n",
       "  <!-- Vertical lines -->\n",
       "  <line x1=\"25\" y1=\"15\" x2=\"25\" y2=\"135\" style=\"stroke-width:2\" />\n",
       "  <line x1=\"68\" y1=\"15\" x2=\"68\" y2=\"135\" />\n",
       "  <line x1=\"111\" y1=\"15\" x2=\"111\" y2=\"135\" />\n",
       "  <line x1=\"145\" y1=\"15\" x2=\"145\" y2=\"135\" style=\"stroke-width:2\" />\n",
       "\n",
       "  <!-- Colored Rectangle -->\n",
       "  <polygon points=\"25.57197789387105,15.57197789387105 145.57197789387106,15.57197789387105 145.57197789387106,135.57197789387106 25.57197789387105,135.57197789387106\" style=\"fill:#ECB172A0;stroke-width:0\"/>\n",
       "\n",
       "  <!-- Text -->\n",
       "  <text x=\"85.571978\" y=\"155.571978\" font-size=\"1.0rem\" font-weight=\"100\" text-anchor=\"middle\" >6048</text>\n",
       "  <text x=\"165.571978\" y=\"75.571978\" font-size=\"1.0rem\" font-weight=\"100\" text-anchor=\"middle\" transform=\"rotate(-90,165.571978,75.571978)\">6048</text>\n",
       "  <text x=\"7.785989\" y=\"147.785989\" font-size=\"1.0rem\" font-weight=\"100\" text-anchor=\"middle\" transform=\"rotate(45,7.785989,147.785989)\">75</text>\n",
       "</svg>\n",
       "        </td>\n",
       "    </tr>\n",
       "</table>"
      ],
      "text/plain": [
       "dask.array<from-zarr, shape=(75, 6048, 6048), dtype=uint16, chunksize=(1, 2160, 2160), chunktype=numpy.ndarray>"
      ]
     },
     "execution_count": 3,
     "metadata": {},
     "output_type": "execute_result"
    }
   ],
   "source": [
    "masks"
   ]
  },
  {
   "cell_type": "markdown",
   "id": "f73cd835",
   "metadata": {},
   "source": [
    "## Define features"
   ]
  },
  {
   "cell_type": "code",
   "execution_count": 4,
   "id": "38b8622b",
   "metadata": {},
   "outputs": [],
   "source": [
    "FEATURES = [\n",
    "  \"area\",\n",
    "  \"major_axis_length\",\n",
    "  \"minor_axis_length\",\n",
    "  \"orientation\",\n",
    "  \"solidity\",\n",
    "  \"mean_intensity\",\n",
    "]"
   ]
  },
  {
   "cell_type": "code",
   "execution_count": 5,
   "id": "ed47d0bc",
   "metadata": {},
   "outputs": [
    {
     "name": "stderr",
     "output_type": "stream",
     "text": [
      "[INFO][2022/08/08 05:14:11 PM] Localizing objects from segmentation...\n",
      "[INFO][2022/08/08 05:14:11 PM] Found intensity_image data\n",
      "[INFO][2022/08/08 05:14:11 PM] Calculating weighted centroids using intensity_image\n",
      "[INFO][2022/08/08 05:20:22 PM] Objects are of type: <class 'dict'>\n",
      "[INFO][2022/08/08 05:20:23 PM] ...Found 34804 objects in 75 frames.\n"
     ]
    },
    {
     "name": "stdout",
     "output_type": "stream",
     "text": [
      "CPU times: user 18min 40s, sys: 35.4 s, total: 19min 15s\n",
      "Wall time: 6min 12s\n"
     ]
    }
   ],
   "source": [
    "%%time\n",
    "\n",
    "objects = btrack.utils.segmentation_to_objects(\n",
    "    masks, \n",
    "    gfp,\n",
    "    properties = tuple(FEATURES), \n",
    ")"
   ]
  },
  {
   "cell_type": "markdown",
   "id": "0005627e",
   "metadata": {},
   "source": [
    "# Now look at changes hypothesis model parameters"
   ]
  },
  {
   "cell_type": "code",
   "execution_count": 6,
   "id": "62a17a30",
   "metadata": {},
   "outputs": [],
   "source": [
    "search_radii = [100, 300, 600] ## how far to look for nearest linkable tracklet\n",
    "seg_miss_rate = [0.1, 0.05, 0.01] ## proportion of cells that are missed by segmentation\n",
    "lambda_time = [1, 5, 10] ## the larger this is, the longer the time period that can elapse before the probability of starting/ending a track is diminished\n",
    "lamdda_dist = [1, 3, 10] ## the larger this is, the longer the distance that can elapse before the probability of starting/ending a track is diminished\n",
    "lambda_link = [50, 100, 300] ## larger this is, more likely two tracklets are linked together (think needs to be upped for this)\n",
    "#lambda_branch = [50] ## similar to before, but tracks that branch through a mitosis (n/a)\n",
    "### probability for init to be calculated if dt,d within theta, \n",
    "### set relax to on to ignore, meaning that tracks can start anywhere (do not want to test this,)\n",
    "theta_dist = [5, 20, 100] ###\n",
    "theta_time = [1, 5, 25] ### \n",
    "### bin size for considering hypotheses\n",
    "dist_thresh = [40, 80, 160] ## isotropic spatial \n",
    "time_thresh = [2, 4, 8] ## same for time\n",
    "#apop_thresh = [100] ## n/a"
   ]
  },
  {
   "cell_type": "code",
   "execution_count": 7,
   "id": "9f973370",
   "metadata": {},
   "outputs": [],
   "source": [
    "param_dict_hypo_model = {'search_radii':search_radii, \n",
    "              'seg_miss_rate':seg_miss_rate,\n",
    "              'lambda_time':lambda_time, \n",
    "              'lamdda_dist':lamdda_dist, \n",
    "              'lambda_link':lambda_link, \n",
    "              'theta_dist':theta_dist, \n",
    "              'theta_time':theta_time, \n",
    "              'dist_thresh':dist_thresh, \n",
    "              'time_thresh':time_thresh}"
   ]
  },
  {
   "cell_type": "code",
   "execution_count": 8,
   "id": "6c27f6ba",
   "metadata": {},
   "outputs": [
    {
     "name": "stdout",
     "output_type": "stream",
     "text": [
      "Number of iterations to cover all params: 19683\n"
     ]
    }
   ],
   "source": [
    "#print(list(itertools.product(*param_dict_hypo_model.values())))\n",
    "print('Number of iterations to cover all params:',len(list(itertools.product(*param_dict_hypo_model.values()))))"
   ]
  },
  {
   "cell_type": "markdown",
   "id": "89d6cd55",
   "metadata": {},
   "source": [
    "This is obviously quite a few parameters to iterate over, so starting with the first three lambdas"
   ]
  },
  {
   "cell_type": "code",
   "execution_count": 9,
   "id": "de839966",
   "metadata": {},
   "outputs": [],
   "source": [
    "param_dict_hypo_model = {#'search_radii':search_radii, \n",
    "              #'seg_miss_rate':seg_miss_rate,\n",
    "              'lambda_time':lambda_time, \n",
    "              'lamdda_dist':lamdda_dist, \n",
    "              'lambda_link':lambda_link, \n",
    "              'theta_dist':theta_dist, \n",
    "              #'theta_time':theta_time, \n",
    "              'dist_thresh':dist_thresh, \n",
    "              #'time_thresh':time_thresh\n",
    "}"
   ]
  },
  {
   "cell_type": "code",
   "execution_count": 10,
   "id": "5df04304",
   "metadata": {},
   "outputs": [
    {
     "name": "stdout",
     "output_type": "stream",
     "text": [
      "Number of iterations to cover all params: 243\n"
     ]
    }
   ],
   "source": [
    "#print(list(itertools.product(*param_dict_hypo_model.values())))\n",
    "print('Number of iterations to cover all params:',len(list(itertools.product(*param_dict_hypo_model.values()))))"
   ]
  },
  {
   "cell_type": "code",
   "execution_count": 12,
   "id": "781673b2",
   "metadata": {},
   "outputs": [],
   "source": [
    "import pickle"
   ]
  },
  {
   "cell_type": "code",
   "execution_count": 13,
   "id": "19974422",
   "metadata": {
    "scrolled": false
   },
   "outputs": [
    {
     "data": {
      "application/vnd.jupyter.widget-view+json": {
       "model_id": "782ee068cde7482bbc3f99d2f74187b4",
       "version_major": 2,
       "version_minor": 0
      },
      "text/plain": [
       "  0%|          | 0/243 [00:00<?, ?it/s]"
      ]
     },
     "metadata": {},
     "output_type": "display_data"
    },
    {
     "name": "stderr",
     "output_type": "stream",
     "text": [
      "[INFO][2022/08/08 05:24:52 PM] Loaded btrack: /home/dayn/miniconda3/envs/aero/lib/python3.9/site-packages/btrack/libs/libtracker.so\n",
      "[INFO][2022/08/08 05:24:52 PM] btrack (v0.4.5) library imported\n",
      "[INFO][2022/08/08 05:24:52 PM] Starting BayesianTracker session\n",
      "[INFO][2022/08/08 05:24:52 PM] Loading configuration file: /home/dayn/analysis/BayesianTracker/models/param_test_config_hypo.json\n",
      "[INFO][2022/08/08 05:24:52 PM] Setting max_search_radius -> 500\n",
      "[INFO][2022/08/08 05:24:52 PM] Setting features -> ['area', 'major_axis_length', 'minor_axis_length', 'orientation', 'solidity', 'mean_intensity']\n",
      "[INFO][2022/08/08 05:24:52 PM] Objects are of type: <class 'list'>\n",
      "[INFO][2022/08/08 05:24:52 PM] Setting volume -> ((0, 6048), (0, 6048), (-100000.0, 100000.0))\n",
      "[INFO][2022/08/08 05:24:52 PM] Starting tracking... \n",
      "[INFO][2022/08/08 05:24:52 PM] Tracking objects in frames 0 to 24 (of 75)...\n",
      "[INFO][2022/08/08 05:25:06 PM]  - Timing (Bayesian updates: 527.87ms, Linking: 12.08ms)\n",
      "[INFO][2022/08/08 05:25:06 PM]  - Probabilities (Link: 0.97446, Lost: 1.00000)\n",
      "[INFO][2022/08/08 05:25:06 PM]  - Stats (Active: 2550, Lost: 51737, Conflicts resolved: 1956)\n",
      "[INFO][2022/08/08 05:25:06 PM] Tracking objects in frames 25 to 49 (of 75)...\n",
      "[INFO][2022/08/08 05:25:17 PM]  - Timing (Bayesian updates: 179.59ms, Linking: 5.35ms)\n",
      "[INFO][2022/08/08 05:25:17 PM]  - Probabilities (Link: 0.94544, Lost: 1.00000)\n",
      "[INFO][2022/08/08 05:25:17 PM]  - Stats (Active: 1721, Lost: 105261, Conflicts resolved: 3564)\n",
      "[INFO][2022/08/08 05:25:17 PM] Tracking objects in frames 50 to 74 (of 75)...\n",
      "[INFO][2022/08/08 05:25:19 PM]  - Timing (Bayesian updates: 11.92ms, Linking: 0.99ms)\n",
      "[INFO][2022/08/08 05:25:19 PM]  - Probabilities (Link: 0.92668, Lost: 1.00000)\n",
      "[INFO][2022/08/08 05:25:19 PM] SUCCESS.\n",
      "[INFO][2022/08/08 05:25:19 PM]  - Found 17653 tracks in 75 frames (in 0.0s)\n",
      "[INFO][2022/08/08 05:25:19 PM]  - Inserted 23139 dummy objects to fill tracking gaps\n",
      "[INFO][2022/08/08 05:25:19 PM] Ending BayesianTracker session\n",
      "[INFO][2022/08/08 05:25:19 PM] Loaded btrack: /home/dayn/miniconda3/envs/aero/lib/python3.9/site-packages/btrack/libs/libtracker.so\n",
      "[INFO][2022/08/08 05:25:19 PM] btrack (v0.4.5) library imported\n",
      "[INFO][2022/08/08 05:25:19 PM] Starting BayesianTracker session\n",
      "[INFO][2022/08/08 05:25:19 PM] Loading configuration file: /home/dayn/analysis/BayesianTracker/models/param_test_config_hypo.json\n",
      "[INFO][2022/08/08 05:25:19 PM] Setting max_search_radius -> 500\n",
      "[INFO][2022/08/08 05:25:19 PM] Setting features -> ['area', 'major_axis_length', 'minor_axis_length', 'orientation', 'solidity', 'mean_intensity']\n",
      "[INFO][2022/08/08 05:25:19 PM] Objects are of type: <class 'list'>\n",
      "[INFO][2022/08/08 05:25:19 PM] Setting volume -> ((0, 6048), (0, 6048), (-100000.0, 100000.0))\n",
      "[INFO][2022/08/08 05:25:19 PM] Starting tracking... \n"
     ]
    },
    {
     "name": "stdout",
     "output_type": "stream",
     "text": [
      "(1, 1, 50, 5, 40) 3.2823316150229425\n"
     ]
    },
    {
     "name": "stderr",
     "output_type": "stream",
     "text": [
      "[INFO][2022/08/08 05:25:19 PM] Tracking objects in frames 0 to 24 (of 75)...\n",
      "[INFO][2022/08/08 05:25:33 PM]  - Timing (Bayesian updates: 518.89ms, Linking: 11.96ms)\n",
      "[INFO][2022/08/08 05:25:33 PM]  - Probabilities (Link: 0.97446, Lost: 1.00000)\n",
      "[INFO][2022/08/08 05:25:33 PM]  - Stats (Active: 2550, Lost: 51737, Conflicts resolved: 1956)\n",
      "[INFO][2022/08/08 05:25:33 PM] Tracking objects in frames 25 to 49 (of 75)...\n",
      "[INFO][2022/08/08 05:25:44 PM]  - Timing (Bayesian updates: 178.97ms, Linking: 5.49ms)\n",
      "[INFO][2022/08/08 05:25:44 PM]  - Probabilities (Link: 0.94544, Lost: 1.00000)\n",
      "[INFO][2022/08/08 05:25:44 PM]  - Stats (Active: 1721, Lost: 105261, Conflicts resolved: 3564)\n",
      "[INFO][2022/08/08 05:25:44 PM] Tracking objects in frames 50 to 74 (of 75)...\n",
      "[INFO][2022/08/08 05:25:45 PM]  - Timing (Bayesian updates: 11.74ms, Linking: 1.00ms)\n",
      "[INFO][2022/08/08 05:25:45 PM]  - Probabilities (Link: 0.92668, Lost: 1.00000)\n",
      "[INFO][2022/08/08 05:25:45 PM] SUCCESS.\n",
      "[INFO][2022/08/08 05:25:45 PM]  - Found 17653 tracks in 75 frames (in 0.0s)\n",
      "[INFO][2022/08/08 05:25:45 PM]  - Inserted 23139 dummy objects to fill tracking gaps\n",
      "[INFO][2022/08/08 05:25:46 PM] Ending BayesianTracker session\n",
      "[INFO][2022/08/08 05:25:46 PM] Loaded btrack: /home/dayn/miniconda3/envs/aero/lib/python3.9/site-packages/btrack/libs/libtracker.so\n",
      "[INFO][2022/08/08 05:25:46 PM] btrack (v0.4.5) library imported\n",
      "[INFO][2022/08/08 05:25:46 PM] Starting BayesianTracker session\n",
      "[INFO][2022/08/08 05:25:46 PM] Loading configuration file: /home/dayn/analysis/BayesianTracker/models/param_test_config_hypo.json\n",
      "[INFO][2022/08/08 05:25:46 PM] Setting max_search_radius -> 500\n",
      "[INFO][2022/08/08 05:25:46 PM] Setting features -> ['area', 'major_axis_length', 'minor_axis_length', 'orientation', 'solidity', 'mean_intensity']\n",
      "[INFO][2022/08/08 05:25:46 PM] Objects are of type: <class 'list'>\n"
     ]
    },
    {
     "name": "stdout",
     "output_type": "stream",
     "text": [
      "(1, 1, 50, 5, 80) 3.2823316150229425\n"
     ]
    },
    {
     "name": "stderr",
     "output_type": "stream",
     "text": [
      "[INFO][2022/08/08 05:25:46 PM] Setting volume -> ((0, 6048), (0, 6048), (-100000.0, 100000.0))\n",
      "[INFO][2022/08/08 05:25:46 PM] Starting tracking... \n",
      "[INFO][2022/08/08 05:25:46 PM] Tracking objects in frames 0 to 24 (of 75)...\n",
      "[INFO][2022/08/08 05:25:59 PM]  - Timing (Bayesian updates: 520.72ms, Linking: 12.06ms)\n",
      "[INFO][2022/08/08 05:25:59 PM]  - Probabilities (Link: 0.97446, Lost: 1.00000)\n",
      "[INFO][2022/08/08 05:25:59 PM]  - Stats (Active: 2550, Lost: 51737, Conflicts resolved: 1956)\n",
      "[INFO][2022/08/08 05:25:59 PM] Tracking objects in frames 25 to 49 (of 75)...\n",
      "[INFO][2022/08/08 05:26:10 PM]  - Timing (Bayesian updates: 180.30ms, Linking: 5.37ms)\n",
      "[INFO][2022/08/08 05:26:10 PM]  - Probabilities (Link: 0.94544, Lost: 1.00000)\n",
      "[INFO][2022/08/08 05:26:10 PM]  - Stats (Active: 1721, Lost: 105261, Conflicts resolved: 3564)\n",
      "[INFO][2022/08/08 05:26:10 PM] Tracking objects in frames 50 to 74 (of 75)...\n",
      "[INFO][2022/08/08 05:26:11 PM]  - Timing (Bayesian updates: 11.87ms, Linking: 1.05ms)\n",
      "[INFO][2022/08/08 05:26:11 PM]  - Probabilities (Link: 0.92668, Lost: 1.00000)\n",
      "[INFO][2022/08/08 05:26:11 PM] SUCCESS.\n",
      "[INFO][2022/08/08 05:26:11 PM]  - Found 17653 tracks in 75 frames (in 0.0s)\n",
      "[INFO][2022/08/08 05:26:12 PM]  - Inserted 23139 dummy objects to fill tracking gaps\n",
      "[INFO][2022/08/08 05:26:12 PM] Ending BayesianTracker session\n",
      "[INFO][2022/08/08 05:26:12 PM] Loaded btrack: /home/dayn/miniconda3/envs/aero/lib/python3.9/site-packages/btrack/libs/libtracker.so\n",
      "[INFO][2022/08/08 05:26:12 PM] btrack (v0.4.5) library imported\n",
      "[INFO][2022/08/08 05:26:12 PM] Starting BayesianTracker session\n",
      "[INFO][2022/08/08 05:26:12 PM] Loading configuration file: /home/dayn/analysis/BayesianTracker/models/param_test_config_hypo.json\n",
      "[INFO][2022/08/08 05:26:12 PM] Setting max_search_radius -> 500\n",
      "[INFO][2022/08/08 05:26:12 PM] Setting features -> ['area', 'major_axis_length', 'minor_axis_length', 'orientation', 'solidity', 'mean_intensity']\n",
      "[INFO][2022/08/08 05:26:12 PM] Objects are of type: <class 'list'>\n"
     ]
    },
    {
     "name": "stdout",
     "output_type": "stream",
     "text": [
      "(1, 1, 50, 5, 160) 3.2823316150229425\n"
     ]
    },
    {
     "name": "stderr",
     "output_type": "stream",
     "text": [
      "[INFO][2022/08/08 05:26:12 PM] Setting volume -> ((0, 6048), (0, 6048), (-100000.0, 100000.0))\n",
      "[INFO][2022/08/08 05:26:12 PM] Starting tracking... \n",
      "[INFO][2022/08/08 05:26:12 PM] Tracking objects in frames 0 to 24 (of 75)...\n",
      "[INFO][2022/08/08 05:26:26 PM]  - Timing (Bayesian updates: 518.01ms, Linking: 11.44ms)\n",
      "[INFO][2022/08/08 05:26:26 PM]  - Probabilities (Link: 0.97446, Lost: 1.00000)\n",
      "[INFO][2022/08/08 05:26:26 PM]  - Stats (Active: 2550, Lost: 51737, Conflicts resolved: 1956)\n",
      "[INFO][2022/08/08 05:26:26 PM] Tracking objects in frames 25 to 49 (of 75)...\n",
      "[INFO][2022/08/08 05:26:37 PM]  - Timing (Bayesian updates: 179.20ms, Linking: 5.50ms)\n",
      "[INFO][2022/08/08 05:26:37 PM]  - Probabilities (Link: 0.94544, Lost: 1.00000)\n",
      "[INFO][2022/08/08 05:26:37 PM]  - Stats (Active: 1721, Lost: 105261, Conflicts resolved: 3564)\n",
      "[INFO][2022/08/08 05:26:37 PM] Tracking objects in frames 50 to 74 (of 75)...\n",
      "[INFO][2022/08/08 05:26:39 PM]  - Timing (Bayesian updates: 15.03ms, Linking: 1.28ms)\n",
      "[INFO][2022/08/08 05:26:39 PM]  - Probabilities (Link: 0.92668, Lost: 1.00000)\n",
      "[INFO][2022/08/08 05:26:39 PM] SUCCESS.\n",
      "[INFO][2022/08/08 05:26:39 PM]  - Found 17653 tracks in 75 frames (in 0.0s)\n",
      "[INFO][2022/08/08 05:26:39 PM]  - Inserted 23139 dummy objects to fill tracking gaps\n",
      "[INFO][2022/08/08 05:26:40 PM] Ending BayesianTracker session\n",
      "[INFO][2022/08/08 05:26:40 PM] Loaded btrack: /home/dayn/miniconda3/envs/aero/lib/python3.9/site-packages/btrack/libs/libtracker.so\n",
      "[INFO][2022/08/08 05:26:40 PM] btrack (v0.4.5) library imported\n",
      "[INFO][2022/08/08 05:26:40 PM] Starting BayesianTracker session\n",
      "[INFO][2022/08/08 05:26:40 PM] Loading configuration file: /home/dayn/analysis/BayesianTracker/models/param_test_config_hypo.json\n",
      "[INFO][2022/08/08 05:26:40 PM] Setting max_search_radius -> 500\n",
      "[INFO][2022/08/08 05:26:40 PM] Setting features -> ['area', 'major_axis_length', 'minor_axis_length', 'orientation', 'solidity', 'mean_intensity']\n",
      "[INFO][2022/08/08 05:26:40 PM] Objects are of type: <class 'list'>\n"
     ]
    },
    {
     "name": "stdout",
     "output_type": "stream",
     "text": [
      "(1, 1, 50, 20, 40) 3.2823316150229425\n"
     ]
    },
    {
     "name": "stderr",
     "output_type": "stream",
     "text": [
      "[INFO][2022/08/08 05:26:40 PM] Setting volume -> ((0, 6048), (0, 6048), (-100000.0, 100000.0))\n",
      "[INFO][2022/08/08 05:26:40 PM] Starting tracking... \n",
      "[INFO][2022/08/08 05:26:40 PM] Tracking objects in frames 0 to 24 (of 75)...\n",
      "[INFO][2022/08/08 05:26:54 PM]  - Timing (Bayesian updates: 517.77ms, Linking: 11.98ms)\n",
      "[INFO][2022/08/08 05:26:54 PM]  - Probabilities (Link: 0.97446, Lost: 1.00000)\n",
      "[INFO][2022/08/08 05:26:54 PM]  - Stats (Active: 2550, Lost: 51737, Conflicts resolved: 1956)\n",
      "[INFO][2022/08/08 05:26:54 PM] Tracking objects in frames 25 to 49 (of 75)...\n",
      "[INFO][2022/08/08 05:27:05 PM]  - Timing (Bayesian updates: 178.34ms, Linking: 5.73ms)\n",
      "[INFO][2022/08/08 05:27:05 PM]  - Probabilities (Link: 0.94544, Lost: 1.00000)\n",
      "[INFO][2022/08/08 05:27:05 PM]  - Stats (Active: 1721, Lost: 105261, Conflicts resolved: 3564)\n",
      "[INFO][2022/08/08 05:27:05 PM] Tracking objects in frames 50 to 74 (of 75)...\n",
      "[INFO][2022/08/08 05:27:06 PM]  - Timing (Bayesian updates: 11.95ms, Linking: 1.03ms)\n",
      "[INFO][2022/08/08 05:27:06 PM]  - Probabilities (Link: 0.92668, Lost: 1.00000)\n",
      "[INFO][2022/08/08 05:27:06 PM] SUCCESS.\n",
      "[INFO][2022/08/08 05:27:06 PM]  - Found 17653 tracks in 75 frames (in 0.0s)\n",
      "[INFO][2022/08/08 05:27:06 PM]  - Inserted 23139 dummy objects to fill tracking gaps\n",
      "[INFO][2022/08/08 05:27:06 PM] Ending BayesianTracker session\n",
      "[INFO][2022/08/08 05:27:07 PM] Loaded btrack: /home/dayn/miniconda3/envs/aero/lib/python3.9/site-packages/btrack/libs/libtracker.so\n",
      "[INFO][2022/08/08 05:27:07 PM] btrack (v0.4.5) library imported\n",
      "[INFO][2022/08/08 05:27:07 PM] Starting BayesianTracker session\n",
      "[INFO][2022/08/08 05:27:07 PM] Loading configuration file: /home/dayn/analysis/BayesianTracker/models/param_test_config_hypo.json\n",
      "[INFO][2022/08/08 05:27:07 PM] Setting max_search_radius -> 500\n",
      "[INFO][2022/08/08 05:27:07 PM] Setting features -> ['area', 'major_axis_length', 'minor_axis_length', 'orientation', 'solidity', 'mean_intensity']\n",
      "[INFO][2022/08/08 05:27:07 PM] Objects are of type: <class 'list'>\n",
      "[INFO][2022/08/08 05:27:07 PM] Setting volume -> ((0, 6048), (0, 6048), (-100000.0, 100000.0))\n",
      "[INFO][2022/08/08 05:27:07 PM] Starting tracking... \n"
     ]
    },
    {
     "name": "stdout",
     "output_type": "stream",
     "text": [
      "(1, 1, 50, 20, 80) 3.2823316150229425\n"
     ]
    },
    {
     "name": "stderr",
     "output_type": "stream",
     "text": [
      "[INFO][2022/08/08 05:27:07 PM] Tracking objects in frames 0 to 24 (of 75)...\n",
      "[INFO][2022/08/08 05:27:20 PM]  - Timing (Bayesian updates: 519.17ms, Linking: 11.75ms)\n",
      "[INFO][2022/08/08 05:27:20 PM]  - Probabilities (Link: 0.97446, Lost: 1.00000)\n",
      "[INFO][2022/08/08 05:27:20 PM]  - Stats (Active: 2550, Lost: 51737, Conflicts resolved: 1956)\n",
      "[INFO][2022/08/08 05:27:20 PM] Tracking objects in frames 25 to 49 (of 75)...\n",
      "[INFO][2022/08/08 05:27:31 PM]  - Timing (Bayesian updates: 179.02ms, Linking: 6.28ms)\n",
      "[INFO][2022/08/08 05:27:31 PM]  - Probabilities (Link: 0.94544, Lost: 1.00000)\n",
      "[INFO][2022/08/08 05:27:31 PM]  - Stats (Active: 1721, Lost: 105261, Conflicts resolved: 3564)\n",
      "[INFO][2022/08/08 05:27:31 PM] Tracking objects in frames 50 to 74 (of 75)...\n",
      "[INFO][2022/08/08 05:27:32 PM]  - Timing (Bayesian updates: 12.00ms, Linking: 1.09ms)\n",
      "[INFO][2022/08/08 05:27:32 PM]  - Probabilities (Link: 0.92668, Lost: 1.00000)\n",
      "[INFO][2022/08/08 05:27:32 PM] SUCCESS.\n",
      "[INFO][2022/08/08 05:27:32 PM]  - Found 17653 tracks in 75 frames (in 0.0s)\n",
      "[INFO][2022/08/08 05:27:32 PM]  - Inserted 23139 dummy objects to fill tracking gaps\n",
      "[INFO][2022/08/08 05:27:33 PM] Ending BayesianTracker session\n",
      "[INFO][2022/08/08 05:27:33 PM] Loaded btrack: /home/dayn/miniconda3/envs/aero/lib/python3.9/site-packages/btrack/libs/libtracker.so\n",
      "[INFO][2022/08/08 05:27:33 PM] btrack (v0.4.5) library imported\n",
      "[INFO][2022/08/08 05:27:33 PM] Starting BayesianTracker session\n",
      "[INFO][2022/08/08 05:27:33 PM] Loading configuration file: /home/dayn/analysis/BayesianTracker/models/param_test_config_hypo.json\n",
      "[INFO][2022/08/08 05:27:33 PM] Setting max_search_radius -> 500\n",
      "[INFO][2022/08/08 05:27:33 PM] Setting features -> ['area', 'major_axis_length', 'minor_axis_length', 'orientation', 'solidity', 'mean_intensity']\n",
      "[INFO][2022/08/08 05:27:33 PM] Objects are of type: <class 'list'>\n"
     ]
    },
    {
     "name": "stdout",
     "output_type": "stream",
     "text": [
      "(1, 1, 50, 20, 160) 3.2823316150229425\n"
     ]
    },
    {
     "name": "stderr",
     "output_type": "stream",
     "text": [
      "[INFO][2022/08/08 05:27:33 PM] Setting volume -> ((0, 6048), (0, 6048), (-100000.0, 100000.0))\n",
      "[INFO][2022/08/08 05:27:33 PM] Starting tracking... \n",
      "[INFO][2022/08/08 05:27:33 PM] Tracking objects in frames 0 to 24 (of 75)...\n",
      "[INFO][2022/08/08 05:27:46 PM]  - Timing (Bayesian updates: 517.39ms, Linking: 12.04ms)\n",
      "[INFO][2022/08/08 05:27:46 PM]  - Probabilities (Link: 0.97446, Lost: 1.00000)\n",
      "[INFO][2022/08/08 05:27:46 PM]  - Stats (Active: 2550, Lost: 51737, Conflicts resolved: 1956)\n",
      "[INFO][2022/08/08 05:27:46 PM] Tracking objects in frames 25 to 49 (of 75)...\n",
      "[INFO][2022/08/08 05:27:57 PM]  - Timing (Bayesian updates: 178.39ms, Linking: 6.12ms)\n",
      "[INFO][2022/08/08 05:27:57 PM]  - Probabilities (Link: 0.94544, Lost: 1.00000)\n",
      "[INFO][2022/08/08 05:27:57 PM]  - Stats (Active: 1721, Lost: 105261, Conflicts resolved: 3564)\n",
      "[INFO][2022/08/08 05:27:57 PM] Tracking objects in frames 50 to 74 (of 75)...\n",
      "[INFO][2022/08/08 05:27:59 PM]  - Timing (Bayesian updates: 11.98ms, Linking: 1.06ms)\n",
      "[INFO][2022/08/08 05:27:59 PM]  - Probabilities (Link: 0.92668, Lost: 1.00000)\n",
      "[INFO][2022/08/08 05:27:59 PM] SUCCESS.\n",
      "[INFO][2022/08/08 05:27:59 PM]  - Found 17653 tracks in 75 frames (in 0.0s)\n",
      "[INFO][2022/08/08 05:27:59 PM]  - Inserted 23139 dummy objects to fill tracking gaps\n",
      "[INFO][2022/08/08 05:27:59 PM] Ending BayesianTracker session\n",
      "[INFO][2022/08/08 05:27:59 PM] Loaded btrack: /home/dayn/miniconda3/envs/aero/lib/python3.9/site-packages/btrack/libs/libtracker.so\n",
      "[INFO][2022/08/08 05:27:59 PM] btrack (v0.4.5) library imported\n",
      "[INFO][2022/08/08 05:27:59 PM] Starting BayesianTracker session\n",
      "[INFO][2022/08/08 05:27:59 PM] Loading configuration file: /home/dayn/analysis/BayesianTracker/models/param_test_config_hypo.json\n",
      "[INFO][2022/08/08 05:27:59 PM] Setting max_search_radius -> 500\n",
      "[INFO][2022/08/08 05:27:59 PM] Setting features -> ['area', 'major_axis_length', 'minor_axis_length', 'orientation', 'solidity', 'mean_intensity']\n",
      "[INFO][2022/08/08 05:27:59 PM] Objects are of type: <class 'list'>\n"
     ]
    },
    {
     "name": "stdout",
     "output_type": "stream",
     "text": [
      "(1, 1, 50, 100, 40) 3.2823316150229425\n"
     ]
    },
    {
     "name": "stderr",
     "output_type": "stream",
     "text": [
      "[INFO][2022/08/08 05:27:59 PM] Setting volume -> ((0, 6048), (0, 6048), (-100000.0, 100000.0))\n",
      "[INFO][2022/08/08 05:27:59 PM] Starting tracking... \n",
      "[INFO][2022/08/08 05:28:00 PM] Tracking objects in frames 0 to 24 (of 75)...\n",
      "[INFO][2022/08/08 05:28:13 PM]  - Timing (Bayesian updates: 516.82ms, Linking: 11.66ms)\n",
      "[INFO][2022/08/08 05:28:13 PM]  - Probabilities (Link: 0.97446, Lost: 1.00000)\n",
      "[INFO][2022/08/08 05:28:13 PM]  - Stats (Active: 2550, Lost: 51737, Conflicts resolved: 1956)\n",
      "[INFO][2022/08/08 05:28:13 PM] Tracking objects in frames 25 to 49 (of 75)...\n",
      "[INFO][2022/08/08 05:28:24 PM]  - Timing (Bayesian updates: 179.05ms, Linking: 6.09ms)\n",
      "[INFO][2022/08/08 05:28:24 PM]  - Probabilities (Link: 0.94544, Lost: 1.00000)\n",
      "[INFO][2022/08/08 05:28:24 PM]  - Stats (Active: 1721, Lost: 105261, Conflicts resolved: 3564)\n",
      "[INFO][2022/08/08 05:28:24 PM] Tracking objects in frames 50 to 74 (of 75)...\n",
      "[INFO][2022/08/08 05:28:25 PM]  - Timing (Bayesian updates: 15.08ms, Linking: 1.27ms)\n",
      "[INFO][2022/08/08 05:28:25 PM]  - Probabilities (Link: 0.92668, Lost: 1.00000)\n",
      "[INFO][2022/08/08 05:28:25 PM] SUCCESS.\n",
      "[INFO][2022/08/08 05:28:25 PM]  - Found 17653 tracks in 75 frames (in 0.0s)\n",
      "[INFO][2022/08/08 05:28:26 PM]  - Inserted 23139 dummy objects to fill tracking gaps\n",
      "[INFO][2022/08/08 05:28:26 PM] Ending BayesianTracker session\n",
      "[INFO][2022/08/08 05:28:26 PM] Loaded btrack: /home/dayn/miniconda3/envs/aero/lib/python3.9/site-packages/btrack/libs/libtracker.so\n",
      "[INFO][2022/08/08 05:28:26 PM] btrack (v0.4.5) library imported\n",
      "[INFO][2022/08/08 05:28:26 PM] Starting BayesianTracker session\n",
      "[INFO][2022/08/08 05:28:26 PM] Loading configuration file: /home/dayn/analysis/BayesianTracker/models/param_test_config_hypo.json\n",
      "[INFO][2022/08/08 05:28:26 PM] Setting max_search_radius -> 500\n",
      "[INFO][2022/08/08 05:28:26 PM] Setting features -> ['area', 'major_axis_length', 'minor_axis_length', 'orientation', 'solidity', 'mean_intensity']\n",
      "[INFO][2022/08/08 05:28:26 PM] Objects are of type: <class 'list'>\n"
     ]
    },
    {
     "name": "stdout",
     "output_type": "stream",
     "text": [
      "(1, 1, 50, 100, 80) 3.2823316150229425\n"
     ]
    },
    {
     "name": "stderr",
     "output_type": "stream",
     "text": [
      "[INFO][2022/08/08 05:28:26 PM] Setting volume -> ((0, 6048), (0, 6048), (-100000.0, 100000.0))\n",
      "[INFO][2022/08/08 05:28:26 PM] Starting tracking... \n",
      "[INFO][2022/08/08 05:28:27 PM] Tracking objects in frames 0 to 24 (of 75)...\n",
      "[INFO][2022/08/08 05:28:40 PM]  - Timing (Bayesian updates: 516.81ms, Linking: 11.71ms)\n",
      "[INFO][2022/08/08 05:28:40 PM]  - Probabilities (Link: 0.97446, Lost: 1.00000)\n",
      "[INFO][2022/08/08 05:28:40 PM]  - Stats (Active: 2550, Lost: 51737, Conflicts resolved: 1956)\n",
      "[INFO][2022/08/08 05:28:40 PM] Tracking objects in frames 25 to 49 (of 75)...\n",
      "[INFO][2022/08/08 05:28:51 PM]  - Timing (Bayesian updates: 178.36ms, Linking: 5.93ms)\n",
      "[INFO][2022/08/08 05:28:51 PM]  - Probabilities (Link: 0.94544, Lost: 1.00000)\n",
      "[INFO][2022/08/08 05:28:51 PM]  - Stats (Active: 1721, Lost: 105261, Conflicts resolved: 3564)\n",
      "[INFO][2022/08/08 05:28:51 PM] Tracking objects in frames 50 to 74 (of 75)...\n",
      "[INFO][2022/08/08 05:28:52 PM]  - Timing (Bayesian updates: 11.95ms, Linking: 1.11ms)\n",
      "[INFO][2022/08/08 05:28:52 PM]  - Probabilities (Link: 0.92668, Lost: 1.00000)\n",
      "[INFO][2022/08/08 05:28:52 PM] SUCCESS.\n",
      "[INFO][2022/08/08 05:28:52 PM]  - Found 17653 tracks in 75 frames (in 0.0s)\n",
      "[INFO][2022/08/08 05:28:52 PM]  - Inserted 23139 dummy objects to fill tracking gaps\n",
      "[INFO][2022/08/08 05:28:53 PM] Ending BayesianTracker session\n",
      "[INFO][2022/08/08 05:28:53 PM] Loaded btrack: /home/dayn/miniconda3/envs/aero/lib/python3.9/site-packages/btrack/libs/libtracker.so\n",
      "[INFO][2022/08/08 05:28:53 PM] btrack (v0.4.5) library imported\n",
      "[INFO][2022/08/08 05:28:53 PM] Starting BayesianTracker session\n",
      "[INFO][2022/08/08 05:28:53 PM] Loading configuration file: /home/dayn/analysis/BayesianTracker/models/param_test_config_hypo.json\n",
      "[INFO][2022/08/08 05:28:53 PM] Setting max_search_radius -> 500\n",
      "[INFO][2022/08/08 05:28:53 PM] Setting features -> ['area', 'major_axis_length', 'minor_axis_length', 'orientation', 'solidity', 'mean_intensity']\n",
      "[INFO][2022/08/08 05:28:53 PM] Objects are of type: <class 'list'>\n"
     ]
    },
    {
     "name": "stdout",
     "output_type": "stream",
     "text": [
      "(1, 1, 50, 100, 160) 3.2823316150229425\n"
     ]
    },
    {
     "name": "stderr",
     "output_type": "stream",
     "text": [
      "[INFO][2022/08/08 05:28:53 PM] Setting volume -> ((0, 6048), (0, 6048), (-100000.0, 100000.0))\n",
      "[INFO][2022/08/08 05:28:53 PM] Starting tracking... \n",
      "[INFO][2022/08/08 05:28:53 PM] Tracking objects in frames 0 to 24 (of 75)...\n",
      "[INFO][2022/08/08 05:29:07 PM]  - Timing (Bayesian updates: 517.81ms, Linking: 11.96ms)\n",
      "[INFO][2022/08/08 05:29:07 PM]  - Probabilities (Link: 0.97446, Lost: 1.00000)\n",
      "[INFO][2022/08/08 05:29:07 PM]  - Stats (Active: 2550, Lost: 51737, Conflicts resolved: 1956)\n",
      "[INFO][2022/08/08 05:29:07 PM] Tracking objects in frames 25 to 49 (of 75)...\n",
      "[INFO][2022/08/08 05:29:18 PM]  - Timing (Bayesian updates: 181.24ms, Linking: 6.94ms)\n",
      "[INFO][2022/08/08 05:29:18 PM]  - Probabilities (Link: 0.94544, Lost: 1.00000)\n",
      "[INFO][2022/08/08 05:29:18 PM]  - Stats (Active: 1721, Lost: 105261, Conflicts resolved: 3564)\n",
      "[INFO][2022/08/08 05:29:18 PM] Tracking objects in frames 50 to 74 (of 75)...\n",
      "[INFO][2022/08/08 05:29:19 PM]  - Timing (Bayesian updates: 12.10ms, Linking: 1.01ms)\n",
      "[INFO][2022/08/08 05:29:19 PM]  - Probabilities (Link: 0.92668, Lost: 1.00000)\n",
      "[INFO][2022/08/08 05:29:19 PM] SUCCESS.\n",
      "[INFO][2022/08/08 05:29:19 PM]  - Found 17653 tracks in 75 frames (in 0.0s)\n",
      "[INFO][2022/08/08 05:29:19 PM]  - Inserted 23139 dummy objects to fill tracking gaps\n",
      "[INFO][2022/08/08 05:29:20 PM] Ending BayesianTracker session\n",
      "[INFO][2022/08/08 05:29:20 PM] Loaded btrack: /home/dayn/miniconda3/envs/aero/lib/python3.9/site-packages/btrack/libs/libtracker.so\n",
      "[INFO][2022/08/08 05:29:20 PM] btrack (v0.4.5) library imported\n",
      "[INFO][2022/08/08 05:29:20 PM] Starting BayesianTracker session\n",
      "[INFO][2022/08/08 05:29:20 PM] Loading configuration file: /home/dayn/analysis/BayesianTracker/models/param_test_config_hypo.json\n",
      "[INFO][2022/08/08 05:29:20 PM] Setting max_search_radius -> 500\n",
      "[INFO][2022/08/08 05:29:20 PM] Setting features -> ['area', 'major_axis_length', 'minor_axis_length', 'orientation', 'solidity', 'mean_intensity']\n",
      "[INFO][2022/08/08 05:29:20 PM] Objects are of type: <class 'list'>\n",
      "[INFO][2022/08/08 05:29:20 PM] Setting volume -> ((0, 6048), (0, 6048), (-100000.0, 100000.0))\n",
      "[INFO][2022/08/08 05:29:20 PM] Starting tracking... \n"
     ]
    },
    {
     "name": "stdout",
     "output_type": "stream",
     "text": [
      "(1, 1, 100, 5, 40) 3.2823316150229425\n"
     ]
    },
    {
     "name": "stderr",
     "output_type": "stream",
     "text": [
      "[INFO][2022/08/08 05:29:20 PM] Tracking objects in frames 0 to 24 (of 75)...\n",
      "[INFO][2022/08/08 05:29:33 PM]  - Timing (Bayesian updates: 518.64ms, Linking: 12.04ms)\n",
      "[INFO][2022/08/08 05:29:33 PM]  - Probabilities (Link: 0.97446, Lost: 1.00000)\n",
      "[INFO][2022/08/08 05:29:33 PM]  - Stats (Active: 2550, Lost: 51737, Conflicts resolved: 1956)\n",
      "[INFO][2022/08/08 05:29:33 PM] Tracking objects in frames 25 to 49 (of 75)...\n",
      "[INFO][2022/08/08 05:29:44 PM]  - Timing (Bayesian updates: 183.06ms, Linking: 6.86ms)\n",
      "[INFO][2022/08/08 05:29:44 PM]  - Probabilities (Link: 0.94544, Lost: 1.00000)\n",
      "[INFO][2022/08/08 05:29:44 PM]  - Stats (Active: 1721, Lost: 105261, Conflicts resolved: 3564)\n",
      "[INFO][2022/08/08 05:29:44 PM] Tracking objects in frames 50 to 74 (of 75)...\n",
      "[INFO][2022/08/08 05:29:45 PM]  - Timing (Bayesian updates: 11.76ms, Linking: 1.03ms)\n",
      "[INFO][2022/08/08 05:29:45 PM]  - Probabilities (Link: 0.92668, Lost: 1.00000)\n",
      "[INFO][2022/08/08 05:29:45 PM] SUCCESS.\n",
      "[INFO][2022/08/08 05:29:45 PM]  - Found 17653 tracks in 75 frames (in 0.0s)\n",
      "[INFO][2022/08/08 05:29:46 PM]  - Inserted 23139 dummy objects to fill tracking gaps\n",
      "[INFO][2022/08/08 05:29:46 PM] Ending BayesianTracker session\n",
      "[INFO][2022/08/08 05:29:46 PM] Loaded btrack: /home/dayn/miniconda3/envs/aero/lib/python3.9/site-packages/btrack/libs/libtracker.so\n",
      "[INFO][2022/08/08 05:29:46 PM] btrack (v0.4.5) library imported\n",
      "[INFO][2022/08/08 05:29:46 PM] Starting BayesianTracker session\n",
      "[INFO][2022/08/08 05:29:46 PM] Loading configuration file: /home/dayn/analysis/BayesianTracker/models/param_test_config_hypo.json\n",
      "[INFO][2022/08/08 05:29:46 PM] Setting max_search_radius -> 500\n",
      "[INFO][2022/08/08 05:29:46 PM] Setting features -> ['area', 'major_axis_length', 'minor_axis_length', 'orientation', 'solidity', 'mean_intensity']\n",
      "[INFO][2022/08/08 05:29:46 PM] Objects are of type: <class 'list'>\n"
     ]
    },
    {
     "name": "stdout",
     "output_type": "stream",
     "text": [
      "(1, 1, 100, 5, 80) 3.2823316150229425\n"
     ]
    },
    {
     "name": "stderr",
     "output_type": "stream",
     "text": [
      "[INFO][2022/08/08 05:29:46 PM] Setting volume -> ((0, 6048), (0, 6048), (-100000.0, 100000.0))\n",
      "[INFO][2022/08/08 05:29:46 PM] Starting tracking... \n",
      "[INFO][2022/08/08 05:29:46 PM] Tracking objects in frames 0 to 24 (of 75)...\n",
      "[INFO][2022/08/08 05:30:00 PM]  - Timing (Bayesian updates: 517.78ms, Linking: 11.99ms)\n",
      "[INFO][2022/08/08 05:30:00 PM]  - Probabilities (Link: 0.97446, Lost: 1.00000)\n",
      "[INFO][2022/08/08 05:30:00 PM]  - Stats (Active: 2550, Lost: 51737, Conflicts resolved: 1956)\n",
      "[INFO][2022/08/08 05:30:00 PM] Tracking objects in frames 25 to 49 (of 75)...\n",
      "[INFO][2022/08/08 05:30:11 PM]  - Timing (Bayesian updates: 179.24ms, Linking: 5.43ms)\n",
      "[INFO][2022/08/08 05:30:11 PM]  - Probabilities (Link: 0.94544, Lost: 1.00000)\n",
      "[INFO][2022/08/08 05:30:11 PM]  - Stats (Active: 1721, Lost: 105261, Conflicts resolved: 3564)\n",
      "[INFO][2022/08/08 05:30:11 PM] Tracking objects in frames 50 to 74 (of 75)...\n",
      "[INFO][2022/08/08 05:30:12 PM]  - Timing (Bayesian updates: 12.22ms, Linking: 1.19ms)\n",
      "[INFO][2022/08/08 05:30:12 PM]  - Probabilities (Link: 0.92668, Lost: 1.00000)\n",
      "[INFO][2022/08/08 05:30:12 PM] SUCCESS.\n",
      "[INFO][2022/08/08 05:30:12 PM]  - Found 17653 tracks in 75 frames (in 0.0s)\n",
      "[INFO][2022/08/08 05:30:12 PM]  - Inserted 23139 dummy objects to fill tracking gaps\n",
      "[INFO][2022/08/08 05:30:13 PM] Ending BayesianTracker session\n",
      "[INFO][2022/08/08 05:30:13 PM] Loaded btrack: /home/dayn/miniconda3/envs/aero/lib/python3.9/site-packages/btrack/libs/libtracker.so\n",
      "[INFO][2022/08/08 05:30:13 PM] btrack (v0.4.5) library imported\n",
      "[INFO][2022/08/08 05:30:13 PM] Starting BayesianTracker session\n",
      "[INFO][2022/08/08 05:30:13 PM] Loading configuration file: /home/dayn/analysis/BayesianTracker/models/param_test_config_hypo.json\n",
      "[INFO][2022/08/08 05:30:13 PM] Setting max_search_radius -> 500\n",
      "[INFO][2022/08/08 05:30:13 PM] Setting features -> ['area', 'major_axis_length', 'minor_axis_length', 'orientation', 'solidity', 'mean_intensity']\n",
      "[INFO][2022/08/08 05:30:13 PM] Objects are of type: <class 'list'>\n"
     ]
    },
    {
     "name": "stdout",
     "output_type": "stream",
     "text": [
      "(1, 1, 100, 5, 160) 3.2823316150229425\n"
     ]
    },
    {
     "name": "stderr",
     "output_type": "stream",
     "text": [
      "[INFO][2022/08/08 05:30:13 PM] Setting volume -> ((0, 6048), (0, 6048), (-100000.0, 100000.0))\n",
      "[INFO][2022/08/08 05:30:13 PM] Starting tracking... \n",
      "[INFO][2022/08/08 05:30:13 PM] Tracking objects in frames 0 to 24 (of 75)...\n",
      "[INFO][2022/08/08 05:30:26 PM]  - Timing (Bayesian updates: 517.90ms, Linking: 12.26ms)\n",
      "[INFO][2022/08/08 05:30:26 PM]  - Probabilities (Link: 0.97446, Lost: 1.00000)\n",
      "[INFO][2022/08/08 05:30:26 PM]  - Stats (Active: 2550, Lost: 51737, Conflicts resolved: 1956)\n",
      "[INFO][2022/08/08 05:30:26 PM] Tracking objects in frames 25 to 49 (of 75)...\n",
      "[INFO][2022/08/08 05:30:37 PM]  - Timing (Bayesian updates: 182.45ms, Linking: 7.00ms)\n",
      "[INFO][2022/08/08 05:30:37 PM]  - Probabilities (Link: 0.94544, Lost: 1.00000)\n",
      "[INFO][2022/08/08 05:30:37 PM]  - Stats (Active: 1721, Lost: 105261, Conflicts resolved: 3564)\n",
      "[INFO][2022/08/08 05:30:37 PM] Tracking objects in frames 50 to 74 (of 75)...\n",
      "[INFO][2022/08/08 05:30:38 PM]  - Timing (Bayesian updates: 12.04ms, Linking: 1.06ms)\n",
      "[INFO][2022/08/08 05:30:38 PM]  - Probabilities (Link: 0.92668, Lost: 1.00000)\n",
      "[INFO][2022/08/08 05:30:38 PM] SUCCESS.\n",
      "[INFO][2022/08/08 05:30:38 PM]  - Found 17653 tracks in 75 frames (in 0.0s)\n",
      "[INFO][2022/08/08 05:30:39 PM]  - Inserted 23139 dummy objects to fill tracking gaps\n",
      "[INFO][2022/08/08 05:30:39 PM] Ending BayesianTracker session\n",
      "[INFO][2022/08/08 05:30:39 PM] Loaded btrack: /home/dayn/miniconda3/envs/aero/lib/python3.9/site-packages/btrack/libs/libtracker.so\n",
      "[INFO][2022/08/08 05:30:39 PM] btrack (v0.4.5) library imported\n",
      "[INFO][2022/08/08 05:30:39 PM] Starting BayesianTracker session\n",
      "[INFO][2022/08/08 05:30:39 PM] Loading configuration file: /home/dayn/analysis/BayesianTracker/models/param_test_config_hypo.json\n",
      "[INFO][2022/08/08 05:30:39 PM] Setting max_search_radius -> 500\n",
      "[INFO][2022/08/08 05:30:39 PM] Setting features -> ['area', 'major_axis_length', 'minor_axis_length', 'orientation', 'solidity', 'mean_intensity']\n",
      "[INFO][2022/08/08 05:30:39 PM] Objects are of type: <class 'list'>\n"
     ]
    },
    {
     "name": "stdout",
     "output_type": "stream",
     "text": [
      "(1, 1, 100, 20, 40) 3.2823316150229425\n"
     ]
    },
    {
     "name": "stderr",
     "output_type": "stream",
     "text": [
      "[INFO][2022/08/08 05:30:39 PM] Setting volume -> ((0, 6048), (0, 6048), (-100000.0, 100000.0))\n",
      "[INFO][2022/08/08 05:30:39 PM] Starting tracking... \n",
      "[INFO][2022/08/08 05:30:39 PM] Tracking objects in frames 0 to 24 (of 75)...\n",
      "[INFO][2022/08/08 05:30:53 PM]  - Timing (Bayesian updates: 517.22ms, Linking: 11.97ms)\n",
      "[INFO][2022/08/08 05:30:53 PM]  - Probabilities (Link: 0.97446, Lost: 1.00000)\n",
      "[INFO][2022/08/08 05:30:53 PM]  - Stats (Active: 2550, Lost: 51737, Conflicts resolved: 1956)\n",
      "[INFO][2022/08/08 05:30:53 PM] Tracking objects in frames 25 to 49 (of 75)...\n",
      "[INFO][2022/08/08 05:31:04 PM]  - Timing (Bayesian updates: 181.26ms, Linking: 6.88ms)\n",
      "[INFO][2022/08/08 05:31:04 PM]  - Probabilities (Link: 0.94544, Lost: 1.00000)\n",
      "[INFO][2022/08/08 05:31:04 PM]  - Stats (Active: 1721, Lost: 105261, Conflicts resolved: 3564)\n",
      "[INFO][2022/08/08 05:31:04 PM] Tracking objects in frames 50 to 74 (of 75)...\n",
      "[INFO][2022/08/08 05:31:05 PM]  - Timing (Bayesian updates: 12.13ms, Linking: 1.05ms)\n",
      "[INFO][2022/08/08 05:31:05 PM]  - Probabilities (Link: 0.92668, Lost: 1.00000)\n",
      "[INFO][2022/08/08 05:31:05 PM] SUCCESS.\n",
      "[INFO][2022/08/08 05:31:05 PM]  - Found 17653 tracks in 75 frames (in 0.0s)\n",
      "[INFO][2022/08/08 05:31:05 PM]  - Inserted 23139 dummy objects to fill tracking gaps\n",
      "[INFO][2022/08/08 05:31:06 PM] Ending BayesianTracker session\n",
      "[INFO][2022/08/08 05:31:06 PM] Loaded btrack: /home/dayn/miniconda3/envs/aero/lib/python3.9/site-packages/btrack/libs/libtracker.so\n",
      "[INFO][2022/08/08 05:31:06 PM] btrack (v0.4.5) library imported\n",
      "[INFO][2022/08/08 05:31:06 PM] Starting BayesianTracker session\n",
      "[INFO][2022/08/08 05:31:06 PM] Loading configuration file: /home/dayn/analysis/BayesianTracker/models/param_test_config_hypo.json\n",
      "[INFO][2022/08/08 05:31:06 PM] Setting max_search_radius -> 500\n",
      "[INFO][2022/08/08 05:31:06 PM] Setting features -> ['area', 'major_axis_length', 'minor_axis_length', 'orientation', 'solidity', 'mean_intensity']\n",
      "[INFO][2022/08/08 05:31:06 PM] Objects are of type: <class 'list'>\n"
     ]
    },
    {
     "name": "stdout",
     "output_type": "stream",
     "text": [
      "(1, 1, 100, 20, 80) 3.2823316150229425\n"
     ]
    },
    {
     "name": "stderr",
     "output_type": "stream",
     "text": [
      "[INFO][2022/08/08 05:31:06 PM] Setting volume -> ((0, 6048), (0, 6048), (-100000.0, 100000.0))\n",
      "[INFO][2022/08/08 05:31:06 PM] Starting tracking... \n",
      "[INFO][2022/08/08 05:31:06 PM] Tracking objects in frames 0 to 24 (of 75)...\n",
      "[INFO][2022/08/08 05:31:19 PM]  - Timing (Bayesian updates: 516.44ms, Linking: 10.94ms)\n",
      "[INFO][2022/08/08 05:31:19 PM]  - Probabilities (Link: 0.97446, Lost: 1.00000)\n",
      "[INFO][2022/08/08 05:31:19 PM]  - Stats (Active: 2550, Lost: 51737, Conflicts resolved: 1956)\n",
      "[INFO][2022/08/08 05:31:19 PM] Tracking objects in frames 25 to 49 (of 75)...\n",
      "[INFO][2022/08/08 05:31:30 PM]  - Timing (Bayesian updates: 179.21ms, Linking: 6.10ms)\n",
      "[INFO][2022/08/08 05:31:30 PM]  - Probabilities (Link: 0.94544, Lost: 1.00000)\n",
      "[INFO][2022/08/08 05:31:30 PM]  - Stats (Active: 1721, Lost: 105261, Conflicts resolved: 3564)\n",
      "[INFO][2022/08/08 05:31:30 PM] Tracking objects in frames 50 to 74 (of 75)...\n",
      "[INFO][2022/08/08 05:31:32 PM]  - Timing (Bayesian updates: 11.69ms, Linking: 1.05ms)\n",
      "[INFO][2022/08/08 05:31:32 PM]  - Probabilities (Link: 0.92668, Lost: 1.00000)\n",
      "[INFO][2022/08/08 05:31:32 PM] SUCCESS.\n",
      "[INFO][2022/08/08 05:31:32 PM]  - Found 17653 tracks in 75 frames (in 0.0s)\n",
      "[INFO][2022/08/08 05:31:32 PM]  - Inserted 23139 dummy objects to fill tracking gaps\n",
      "[INFO][2022/08/08 05:31:32 PM] Ending BayesianTracker session\n",
      "[INFO][2022/08/08 05:31:32 PM] Loaded btrack: /home/dayn/miniconda3/envs/aero/lib/python3.9/site-packages/btrack/libs/libtracker.so\n",
      "[INFO][2022/08/08 05:31:32 PM] btrack (v0.4.5) library imported\n",
      "[INFO][2022/08/08 05:31:32 PM] Starting BayesianTracker session\n",
      "[INFO][2022/08/08 05:31:32 PM] Loading configuration file: /home/dayn/analysis/BayesianTracker/models/param_test_config_hypo.json\n",
      "[INFO][2022/08/08 05:31:32 PM] Setting max_search_radius -> 500\n",
      "[INFO][2022/08/08 05:31:32 PM] Setting features -> ['area', 'major_axis_length', 'minor_axis_length', 'orientation', 'solidity', 'mean_intensity']\n",
      "[INFO][2022/08/08 05:31:32 PM] Objects are of type: <class 'list'>\n"
     ]
    },
    {
     "name": "stdout",
     "output_type": "stream",
     "text": [
      "(1, 1, 100, 20, 160) 3.2823316150229425\n"
     ]
    },
    {
     "name": "stderr",
     "output_type": "stream",
     "text": [
      "[INFO][2022/08/08 05:31:32 PM] Setting volume -> ((0, 6048), (0, 6048), (-100000.0, 100000.0))\n",
      "[INFO][2022/08/08 05:31:32 PM] Starting tracking... \n",
      "[INFO][2022/08/08 05:31:33 PM] Tracking objects in frames 0 to 24 (of 75)...\n",
      "[INFO][2022/08/08 05:31:47 PM]  - Timing (Bayesian updates: 515.68ms, Linking: 11.64ms)\n",
      "[INFO][2022/08/08 05:31:47 PM]  - Probabilities (Link: 0.97446, Lost: 1.00000)\n",
      "[INFO][2022/08/08 05:31:47 PM]  - Stats (Active: 2550, Lost: 51737, Conflicts resolved: 1956)\n",
      "[INFO][2022/08/08 05:31:47 PM] Tracking objects in frames 25 to 49 (of 75)...\n",
      "[INFO][2022/08/08 05:31:58 PM]  - Timing (Bayesian updates: 179.07ms, Linking: 5.51ms)\n",
      "[INFO][2022/08/08 05:31:58 PM]  - Probabilities (Link: 0.94544, Lost: 1.00000)\n",
      "[INFO][2022/08/08 05:31:58 PM]  - Stats (Active: 1721, Lost: 105261, Conflicts resolved: 3564)\n",
      "[INFO][2022/08/08 05:31:58 PM] Tracking objects in frames 50 to 74 (of 75)...\n",
      "[INFO][2022/08/08 05:31:59 PM]  - Timing (Bayesian updates: 11.99ms, Linking: 1.00ms)\n",
      "[INFO][2022/08/08 05:31:59 PM]  - Probabilities (Link: 0.92668, Lost: 1.00000)\n",
      "[INFO][2022/08/08 05:31:59 PM] SUCCESS.\n",
      "[INFO][2022/08/08 05:31:59 PM]  - Found 17653 tracks in 75 frames (in 0.0s)\n",
      "[INFO][2022/08/08 05:31:59 PM]  - Inserted 23139 dummy objects to fill tracking gaps\n",
      "[INFO][2022/08/08 05:31:59 PM] Ending BayesianTracker session\n",
      "[INFO][2022/08/08 05:32:00 PM] Loaded btrack: /home/dayn/miniconda3/envs/aero/lib/python3.9/site-packages/btrack/libs/libtracker.so\n",
      "[INFO][2022/08/08 05:32:00 PM] btrack (v0.4.5) library imported\n",
      "[INFO][2022/08/08 05:32:00 PM] Starting BayesianTracker session\n",
      "[INFO][2022/08/08 05:32:00 PM] Loading configuration file: /home/dayn/analysis/BayesianTracker/models/param_test_config_hypo.json\n",
      "[INFO][2022/08/08 05:32:00 PM] Setting max_search_radius -> 500\n",
      "[INFO][2022/08/08 05:32:00 PM] Setting features -> ['area', 'major_axis_length', 'minor_axis_length', 'orientation', 'solidity', 'mean_intensity']\n",
      "[INFO][2022/08/08 05:32:00 PM] Objects are of type: <class 'list'>\n",
      "[INFO][2022/08/08 05:32:00 PM] Setting volume -> ((0, 6048), (0, 6048), (-100000.0, 100000.0))\n",
      "[INFO][2022/08/08 05:32:00 PM] Starting tracking... \n"
     ]
    },
    {
     "name": "stdout",
     "output_type": "stream",
     "text": [
      "(1, 1, 100, 100, 40) 3.2823316150229425\n"
     ]
    },
    {
     "name": "stderr",
     "output_type": "stream",
     "text": [
      "[INFO][2022/08/08 05:32:00 PM] Tracking objects in frames 0 to 24 (of 75)...\n",
      "[INFO][2022/08/08 05:32:13 PM]  - Timing (Bayesian updates: 517.45ms, Linking: 11.47ms)\n",
      "[INFO][2022/08/08 05:32:13 PM]  - Probabilities (Link: 0.97446, Lost: 1.00000)\n",
      "[INFO][2022/08/08 05:32:13 PM]  - Stats (Active: 2550, Lost: 51737, Conflicts resolved: 1956)\n",
      "[INFO][2022/08/08 05:32:13 PM] Tracking objects in frames 25 to 49 (of 75)...\n",
      "[INFO][2022/08/08 05:32:24 PM]  - Timing (Bayesian updates: 178.83ms, Linking: 5.36ms)\n",
      "[INFO][2022/08/08 05:32:24 PM]  - Probabilities (Link: 0.94544, Lost: 1.00000)\n",
      "[INFO][2022/08/08 05:32:24 PM]  - Stats (Active: 1721, Lost: 105261, Conflicts resolved: 3564)\n",
      "[INFO][2022/08/08 05:32:24 PM] Tracking objects in frames 50 to 74 (of 75)...\n",
      "[INFO][2022/08/08 05:32:25 PM]  - Timing (Bayesian updates: 11.79ms, Linking: 1.05ms)\n",
      "[INFO][2022/08/08 05:32:25 PM]  - Probabilities (Link: 0.92668, Lost: 1.00000)\n",
      "[INFO][2022/08/08 05:32:25 PM] SUCCESS.\n",
      "[INFO][2022/08/08 05:32:25 PM]  - Found 17653 tracks in 75 frames (in 0.0s)\n",
      "[INFO][2022/08/08 05:32:25 PM]  - Inserted 23139 dummy objects to fill tracking gaps\n",
      "[INFO][2022/08/08 05:32:26 PM] Ending BayesianTracker session\n",
      "[INFO][2022/08/08 05:32:26 PM] Loaded btrack: /home/dayn/miniconda3/envs/aero/lib/python3.9/site-packages/btrack/libs/libtracker.so\n",
      "[INFO][2022/08/08 05:32:26 PM] btrack (v0.4.5) library imported\n",
      "[INFO][2022/08/08 05:32:26 PM] Starting BayesianTracker session\n",
      "[INFO][2022/08/08 05:32:26 PM] Loading configuration file: /home/dayn/analysis/BayesianTracker/models/param_test_config_hypo.json\n",
      "[INFO][2022/08/08 05:32:26 PM] Setting max_search_radius -> 500\n",
      "[INFO][2022/08/08 05:32:26 PM] Setting features -> ['area', 'major_axis_length', 'minor_axis_length', 'orientation', 'solidity', 'mean_intensity']\n",
      "[INFO][2022/08/08 05:32:26 PM] Objects are of type: <class 'list'>\n"
     ]
    },
    {
     "name": "stdout",
     "output_type": "stream",
     "text": [
      "(1, 1, 100, 100, 80) 3.2823316150229425\n"
     ]
    },
    {
     "name": "stderr",
     "output_type": "stream",
     "text": [
      "[INFO][2022/08/08 05:32:26 PM] Setting volume -> ((0, 6048), (0, 6048), (-100000.0, 100000.0))\n",
      "[INFO][2022/08/08 05:32:26 PM] Starting tracking... \n",
      "[INFO][2022/08/08 05:32:26 PM] Tracking objects in frames 0 to 24 (of 75)...\n",
      "[INFO][2022/08/08 05:32:39 PM]  - Timing (Bayesian updates: 524.51ms, Linking: 11.92ms)\n",
      "[INFO][2022/08/08 05:32:39 PM]  - Probabilities (Link: 0.97446, Lost: 1.00000)\n",
      "[INFO][2022/08/08 05:32:39 PM]  - Stats (Active: 2550, Lost: 51737, Conflicts resolved: 1956)\n",
      "[INFO][2022/08/08 05:32:39 PM] Tracking objects in frames 25 to 49 (of 75)...\n",
      "[INFO][2022/08/08 05:32:51 PM]  - Timing (Bayesian updates: 182.79ms, Linking: 5.34ms)\n",
      "[INFO][2022/08/08 05:32:51 PM]  - Probabilities (Link: 0.94544, Lost: 1.00000)\n",
      "[INFO][2022/08/08 05:32:51 PM]  - Stats (Active: 1721, Lost: 105261, Conflicts resolved: 3564)\n",
      "[INFO][2022/08/08 05:32:51 PM] Tracking objects in frames 50 to 74 (of 75)...\n",
      "[INFO][2022/08/08 05:32:52 PM]  - Timing (Bayesian updates: 12.12ms, Linking: 1.05ms)\n",
      "[INFO][2022/08/08 05:32:52 PM]  - Probabilities (Link: 0.92668, Lost: 1.00000)\n",
      "[INFO][2022/08/08 05:32:52 PM] SUCCESS.\n",
      "[INFO][2022/08/08 05:32:52 PM]  - Found 17653 tracks in 75 frames (in 0.0s)\n",
      "[INFO][2022/08/08 05:32:52 PM]  - Inserted 23139 dummy objects to fill tracking gaps\n",
      "[INFO][2022/08/08 05:32:53 PM] Ending BayesianTracker session\n",
      "[INFO][2022/08/08 05:32:53 PM] Loaded btrack: /home/dayn/miniconda3/envs/aero/lib/python3.9/site-packages/btrack/libs/libtracker.so\n",
      "[INFO][2022/08/08 05:32:53 PM] btrack (v0.4.5) library imported\n",
      "[INFO][2022/08/08 05:32:53 PM] Starting BayesianTracker session\n",
      "[INFO][2022/08/08 05:32:53 PM] Loading configuration file: /home/dayn/analysis/BayesianTracker/models/param_test_config_hypo.json\n",
      "[INFO][2022/08/08 05:32:53 PM] Setting max_search_radius -> 500\n",
      "[INFO][2022/08/08 05:32:53 PM] Setting features -> ['area', 'major_axis_length', 'minor_axis_length', 'orientation', 'solidity', 'mean_intensity']\n",
      "[INFO][2022/08/08 05:32:53 PM] Objects are of type: <class 'list'>\n"
     ]
    },
    {
     "name": "stdout",
     "output_type": "stream",
     "text": [
      "(1, 1, 100, 100, 160) 3.2823316150229425\n"
     ]
    },
    {
     "name": "stderr",
     "output_type": "stream",
     "text": [
      "[INFO][2022/08/08 05:32:53 PM] Setting volume -> ((0, 6048), (0, 6048), (-100000.0, 100000.0))\n",
      "[INFO][2022/08/08 05:32:53 PM] Starting tracking... \n",
      "[INFO][2022/08/08 05:32:53 PM] Tracking objects in frames 0 to 24 (of 75)...\n",
      "[INFO][2022/08/08 05:33:07 PM]  - Timing (Bayesian updates: 532.76ms, Linking: 12.09ms)\n",
      "[INFO][2022/08/08 05:33:07 PM]  - Probabilities (Link: 0.97446, Lost: 1.00000)\n",
      "[INFO][2022/08/08 05:33:07 PM]  - Stats (Active: 2550, Lost: 51737, Conflicts resolved: 1956)\n",
      "[INFO][2022/08/08 05:33:07 PM] Tracking objects in frames 25 to 49 (of 75)...\n",
      "[INFO][2022/08/08 05:33:19 PM]  - Timing (Bayesian updates: 179.21ms, Linking: 6.01ms)\n",
      "[INFO][2022/08/08 05:33:19 PM]  - Probabilities (Link: 0.94544, Lost: 1.00000)\n",
      "[INFO][2022/08/08 05:33:19 PM]  - Stats (Active: 1721, Lost: 105261, Conflicts resolved: 3564)\n",
      "[INFO][2022/08/08 05:33:19 PM] Tracking objects in frames 50 to 74 (of 75)...\n",
      "[INFO][2022/08/08 05:33:20 PM]  - Timing (Bayesian updates: 12.04ms, Linking: 1.06ms)\n",
      "[INFO][2022/08/08 05:33:20 PM]  - Probabilities (Link: 0.92668, Lost: 1.00000)\n",
      "[INFO][2022/08/08 05:33:20 PM] SUCCESS.\n",
      "[INFO][2022/08/08 05:33:20 PM]  - Found 17653 tracks in 75 frames (in 0.0s)\n",
      "[INFO][2022/08/08 05:33:20 PM]  - Inserted 23139 dummy objects to fill tracking gaps\n",
      "[INFO][2022/08/08 05:33:21 PM] Ending BayesianTracker session\n",
      "[INFO][2022/08/08 05:33:21 PM] Loaded btrack: /home/dayn/miniconda3/envs/aero/lib/python3.9/site-packages/btrack/libs/libtracker.so\n",
      "[INFO][2022/08/08 05:33:21 PM] btrack (v0.4.5) library imported\n",
      "[INFO][2022/08/08 05:33:21 PM] Starting BayesianTracker session\n",
      "[INFO][2022/08/08 05:33:21 PM] Loading configuration file: /home/dayn/analysis/BayesianTracker/models/param_test_config_hypo.json\n",
      "[INFO][2022/08/08 05:33:21 PM] Setting max_search_radius -> 500\n",
      "[INFO][2022/08/08 05:33:21 PM] Setting features -> ['area', 'major_axis_length', 'minor_axis_length', 'orientation', 'solidity', 'mean_intensity']\n",
      "[INFO][2022/08/08 05:33:21 PM] Objects are of type: <class 'list'>\n"
     ]
    },
    {
     "name": "stdout",
     "output_type": "stream",
     "text": [
      "(1, 1, 300, 5, 40) 3.2823316150229425\n"
     ]
    },
    {
     "name": "stderr",
     "output_type": "stream",
     "text": [
      "[INFO][2022/08/08 05:33:21 PM] Setting volume -> ((0, 6048), (0, 6048), (-100000.0, 100000.0))\n",
      "[INFO][2022/08/08 05:33:21 PM] Starting tracking... \n",
      "[INFO][2022/08/08 05:33:21 PM] Tracking objects in frames 0 to 24 (of 75)...\n",
      "[INFO][2022/08/08 05:33:34 PM]  - Timing (Bayesian updates: 517.10ms, Linking: 11.80ms)\n",
      "[INFO][2022/08/08 05:33:34 PM]  - Probabilities (Link: 0.97446, Lost: 1.00000)\n",
      "[INFO][2022/08/08 05:33:34 PM]  - Stats (Active: 2550, Lost: 51737, Conflicts resolved: 1956)\n",
      "[INFO][2022/08/08 05:33:34 PM] Tracking objects in frames 25 to 49 (of 75)...\n",
      "[INFO][2022/08/08 05:33:45 PM]  - Timing (Bayesian updates: 179.24ms, Linking: 5.81ms)\n",
      "[INFO][2022/08/08 05:33:45 PM]  - Probabilities (Link: 0.94544, Lost: 1.00000)\n",
      "[INFO][2022/08/08 05:33:45 PM]  - Stats (Active: 1721, Lost: 105261, Conflicts resolved: 3564)\n",
      "[INFO][2022/08/08 05:33:45 PM] Tracking objects in frames 50 to 74 (of 75)...\n",
      "[INFO][2022/08/08 05:33:46 PM]  - Timing (Bayesian updates: 11.86ms, Linking: 1.05ms)\n",
      "[INFO][2022/08/08 05:33:46 PM]  - Probabilities (Link: 0.92668, Lost: 1.00000)\n",
      "[INFO][2022/08/08 05:33:46 PM] SUCCESS.\n",
      "[INFO][2022/08/08 05:33:46 PM]  - Found 17653 tracks in 75 frames (in 0.0s)\n",
      "[INFO][2022/08/08 05:33:47 PM]  - Inserted 23139 dummy objects to fill tracking gaps\n",
      "[INFO][2022/08/08 05:33:47 PM] Ending BayesianTracker session\n",
      "[INFO][2022/08/08 05:33:47 PM] Loaded btrack: /home/dayn/miniconda3/envs/aero/lib/python3.9/site-packages/btrack/libs/libtracker.so\n",
      "[INFO][2022/08/08 05:33:47 PM] btrack (v0.4.5) library imported\n",
      "[INFO][2022/08/08 05:33:47 PM] Starting BayesianTracker session\n",
      "[INFO][2022/08/08 05:33:47 PM] Loading configuration file: /home/dayn/analysis/BayesianTracker/models/param_test_config_hypo.json\n",
      "[INFO][2022/08/08 05:33:47 PM] Setting max_search_radius -> 500\n",
      "[INFO][2022/08/08 05:33:47 PM] Setting features -> ['area', 'major_axis_length', 'minor_axis_length', 'orientation', 'solidity', 'mean_intensity']\n",
      "[INFO][2022/08/08 05:33:47 PM] Objects are of type: <class 'list'>\n"
     ]
    },
    {
     "name": "stdout",
     "output_type": "stream",
     "text": [
      "(1, 1, 300, 5, 80) 3.2823316150229425\n"
     ]
    },
    {
     "name": "stderr",
     "output_type": "stream",
     "text": [
      "[INFO][2022/08/08 05:33:47 PM] Setting volume -> ((0, 6048), (0, 6048), (-100000.0, 100000.0))\n",
      "[INFO][2022/08/08 05:33:47 PM] Starting tracking... \n",
      "[INFO][2022/08/08 05:33:48 PM] Tracking objects in frames 0 to 24 (of 75)...\n",
      "[INFO][2022/08/08 05:34:01 PM]  - Timing (Bayesian updates: 516.70ms, Linking: 12.04ms)\n",
      "[INFO][2022/08/08 05:34:01 PM]  - Probabilities (Link: 0.97446, Lost: 1.00000)\n",
      "[INFO][2022/08/08 05:34:01 PM]  - Stats (Active: 2550, Lost: 51737, Conflicts resolved: 1956)\n",
      "[INFO][2022/08/08 05:34:01 PM] Tracking objects in frames 25 to 49 (of 75)...\n",
      "[INFO][2022/08/08 05:34:12 PM]  - Timing (Bayesian updates: 179.87ms, Linking: 5.87ms)\n",
      "[INFO][2022/08/08 05:34:12 PM]  - Probabilities (Link: 0.94544, Lost: 1.00000)\n",
      "[INFO][2022/08/08 05:34:12 PM]  - Stats (Active: 1721, Lost: 105261, Conflicts resolved: 3564)\n",
      "[INFO][2022/08/08 05:34:12 PM] Tracking objects in frames 50 to 74 (of 75)...\n",
      "[INFO][2022/08/08 05:34:14 PM]  - Timing (Bayesian updates: 11.85ms, Linking: 1.05ms)\n",
      "[INFO][2022/08/08 05:34:14 PM]  - Probabilities (Link: 0.92668, Lost: 1.00000)\n",
      "[INFO][2022/08/08 05:34:14 PM] SUCCESS.\n",
      "[INFO][2022/08/08 05:34:14 PM]  - Found 17653 tracks in 75 frames (in 0.0s)\n",
      "[INFO][2022/08/08 05:34:14 PM]  - Inserted 23139 dummy objects to fill tracking gaps\n",
      "[INFO][2022/08/08 05:34:14 PM] Ending BayesianTracker session\n",
      "[INFO][2022/08/08 05:34:14 PM] Loaded btrack: /home/dayn/miniconda3/envs/aero/lib/python3.9/site-packages/btrack/libs/libtracker.so\n",
      "[INFO][2022/08/08 05:34:14 PM] btrack (v0.4.5) library imported\n",
      "[INFO][2022/08/08 05:34:14 PM] Starting BayesianTracker session\n",
      "[INFO][2022/08/08 05:34:14 PM] Loading configuration file: /home/dayn/analysis/BayesianTracker/models/param_test_config_hypo.json\n",
      "[INFO][2022/08/08 05:34:14 PM] Setting max_search_radius -> 500\n",
      "[INFO][2022/08/08 05:34:14 PM] Setting features -> ['area', 'major_axis_length', 'minor_axis_length', 'orientation', 'solidity', 'mean_intensity']\n",
      "[INFO][2022/08/08 05:34:14 PM] Objects are of type: <class 'list'>\n"
     ]
    },
    {
     "name": "stdout",
     "output_type": "stream",
     "text": [
      "(1, 1, 300, 5, 160) 3.2823316150229425\n"
     ]
    },
    {
     "name": "stderr",
     "output_type": "stream",
     "text": [
      "[INFO][2022/08/08 05:34:14 PM] Setting volume -> ((0, 6048), (0, 6048), (-100000.0, 100000.0))\n",
      "[INFO][2022/08/08 05:34:14 PM] Starting tracking... \n",
      "[INFO][2022/08/08 05:34:15 PM] Tracking objects in frames 0 to 24 (of 75)...\n",
      "[INFO][2022/08/08 05:34:28 PM]  - Timing (Bayesian updates: 517.34ms, Linking: 11.96ms)\n",
      "[INFO][2022/08/08 05:34:28 PM]  - Probabilities (Link: 0.97446, Lost: 1.00000)\n",
      "[INFO][2022/08/08 05:34:28 PM]  - Stats (Active: 2550, Lost: 51737, Conflicts resolved: 1956)\n",
      "[INFO][2022/08/08 05:34:28 PM] Tracking objects in frames 25 to 49 (of 75)...\n",
      "[INFO][2022/08/08 05:34:39 PM]  - Timing (Bayesian updates: 178.38ms, Linking: 5.33ms)\n",
      "[INFO][2022/08/08 05:34:39 PM]  - Probabilities (Link: 0.94544, Lost: 1.00000)\n",
      "[INFO][2022/08/08 05:34:39 PM]  - Stats (Active: 1721, Lost: 105261, Conflicts resolved: 3564)\n",
      "[INFO][2022/08/08 05:34:39 PM] Tracking objects in frames 50 to 74 (of 75)...\n",
      "[INFO][2022/08/08 05:34:40 PM]  - Timing (Bayesian updates: 11.71ms, Linking: 1.00ms)\n",
      "[INFO][2022/08/08 05:34:40 PM]  - Probabilities (Link: 0.92668, Lost: 1.00000)\n",
      "[INFO][2022/08/08 05:34:40 PM] SUCCESS.\n",
      "[INFO][2022/08/08 05:34:40 PM]  - Found 17653 tracks in 75 frames (in 0.0s)\n",
      "[INFO][2022/08/08 05:34:40 PM]  - Inserted 23139 dummy objects to fill tracking gaps\n",
      "[INFO][2022/08/08 05:34:41 PM] Ending BayesianTracker session\n",
      "[INFO][2022/08/08 05:34:41 PM] Loaded btrack: /home/dayn/miniconda3/envs/aero/lib/python3.9/site-packages/btrack/libs/libtracker.so\n",
      "[INFO][2022/08/08 05:34:41 PM] btrack (v0.4.5) library imported\n",
      "[INFO][2022/08/08 05:34:41 PM] Starting BayesianTracker session\n",
      "[INFO][2022/08/08 05:34:41 PM] Loading configuration file: /home/dayn/analysis/BayesianTracker/models/param_test_config_hypo.json\n",
      "[INFO][2022/08/08 05:34:41 PM] Setting max_search_radius -> 500\n",
      "[INFO][2022/08/08 05:34:41 PM] Setting features -> ['area', 'major_axis_length', 'minor_axis_length', 'orientation', 'solidity', 'mean_intensity']\n",
      "[INFO][2022/08/08 05:34:41 PM] Objects are of type: <class 'list'>\n"
     ]
    },
    {
     "name": "stdout",
     "output_type": "stream",
     "text": [
      "(1, 1, 300, 20, 40) 3.2823316150229425\n"
     ]
    },
    {
     "name": "stderr",
     "output_type": "stream",
     "text": [
      "[INFO][2022/08/08 05:34:41 PM] Setting volume -> ((0, 6048), (0, 6048), (-100000.0, 100000.0))\n",
      "[INFO][2022/08/08 05:34:41 PM] Starting tracking... \n",
      "[INFO][2022/08/08 05:34:41 PM] Tracking objects in frames 0 to 24 (of 75)...\n",
      "[INFO][2022/08/08 05:34:55 PM]  - Timing (Bayesian updates: 515.51ms, Linking: 11.01ms)\n",
      "[INFO][2022/08/08 05:34:55 PM]  - Probabilities (Link: 0.97446, Lost: 1.00000)\n",
      "[INFO][2022/08/08 05:34:55 PM]  - Stats (Active: 2550, Lost: 51737, Conflicts resolved: 1956)\n",
      "[INFO][2022/08/08 05:34:55 PM] Tracking objects in frames 25 to 49 (of 75)...\n",
      "[INFO][2022/08/08 05:35:06 PM]  - Timing (Bayesian updates: 179.41ms, Linking: 6.48ms)\n",
      "[INFO][2022/08/08 05:35:06 PM]  - Probabilities (Link: 0.94544, Lost: 1.00000)\n",
      "[INFO][2022/08/08 05:35:06 PM]  - Stats (Active: 1721, Lost: 105261, Conflicts resolved: 3564)\n",
      "[INFO][2022/08/08 05:35:06 PM] Tracking objects in frames 50 to 74 (of 75)...\n",
      "[INFO][2022/08/08 05:35:07 PM]  - Timing (Bayesian updates: 12.54ms, Linking: 1.43ms)\n",
      "[INFO][2022/08/08 05:35:07 PM]  - Probabilities (Link: 0.92668, Lost: 1.00000)\n",
      "[INFO][2022/08/08 05:35:07 PM] SUCCESS.\n",
      "[INFO][2022/08/08 05:35:07 PM]  - Found 17653 tracks in 75 frames (in 0.0s)\n",
      "[INFO][2022/08/08 05:35:07 PM]  - Inserted 23139 dummy objects to fill tracking gaps\n",
      "[INFO][2022/08/08 05:35:08 PM] Ending BayesianTracker session\n",
      "[INFO][2022/08/08 05:35:08 PM] Loaded btrack: /home/dayn/miniconda3/envs/aero/lib/python3.9/site-packages/btrack/libs/libtracker.so\n",
      "[INFO][2022/08/08 05:35:08 PM] btrack (v0.4.5) library imported\n",
      "[INFO][2022/08/08 05:35:08 PM] Starting BayesianTracker session\n",
      "[INFO][2022/08/08 05:35:08 PM] Loading configuration file: /home/dayn/analysis/BayesianTracker/models/param_test_config_hypo.json\n",
      "[INFO][2022/08/08 05:35:08 PM] Setting max_search_radius -> 500\n",
      "[INFO][2022/08/08 05:35:08 PM] Setting features -> ['area', 'major_axis_length', 'minor_axis_length', 'orientation', 'solidity', 'mean_intensity']\n",
      "[INFO][2022/08/08 05:35:08 PM] Objects are of type: <class 'list'>\n"
     ]
    },
    {
     "name": "stdout",
     "output_type": "stream",
     "text": [
      "(1, 1, 300, 20, 80) 3.2823316150229425\n"
     ]
    },
    {
     "name": "stderr",
     "output_type": "stream",
     "text": [
      "[INFO][2022/08/08 05:35:08 PM] Setting volume -> ((0, 6048), (0, 6048), (-100000.0, 100000.0))\n",
      "[INFO][2022/08/08 05:35:08 PM] Starting tracking... \n",
      "[INFO][2022/08/08 05:35:08 PM] Tracking objects in frames 0 to 24 (of 75)...\n",
      "[INFO][2022/08/08 05:35:21 PM]  - Timing (Bayesian updates: 519.22ms, Linking: 11.26ms)\n",
      "[INFO][2022/08/08 05:35:21 PM]  - Probabilities (Link: 0.97446, Lost: 1.00000)\n",
      "[INFO][2022/08/08 05:35:21 PM]  - Stats (Active: 2550, Lost: 51737, Conflicts resolved: 1956)\n",
      "[INFO][2022/08/08 05:35:21 PM] Tracking objects in frames 25 to 49 (of 75)...\n",
      "[INFO][2022/08/08 05:35:32 PM]  - Timing (Bayesian updates: 179.72ms, Linking: 6.32ms)\n",
      "[INFO][2022/08/08 05:35:32 PM]  - Probabilities (Link: 0.94544, Lost: 1.00000)\n",
      "[INFO][2022/08/08 05:35:32 PM]  - Stats (Active: 1721, Lost: 105261, Conflicts resolved: 3564)\n",
      "[INFO][2022/08/08 05:35:32 PM] Tracking objects in frames 50 to 74 (of 75)...\n",
      "[INFO][2022/08/08 05:35:34 PM]  - Timing (Bayesian updates: 12.14ms, Linking: 1.06ms)\n",
      "[INFO][2022/08/08 05:35:34 PM]  - Probabilities (Link: 0.92668, Lost: 1.00000)\n",
      "[INFO][2022/08/08 05:35:34 PM] SUCCESS.\n",
      "[INFO][2022/08/08 05:35:34 PM]  - Found 17653 tracks in 75 frames (in 0.0s)\n",
      "[INFO][2022/08/08 05:35:34 PM]  - Inserted 23139 dummy objects to fill tracking gaps\n",
      "[INFO][2022/08/08 05:35:34 PM] Ending BayesianTracker session\n",
      "[INFO][2022/08/08 05:35:34 PM] Loaded btrack: /home/dayn/miniconda3/envs/aero/lib/python3.9/site-packages/btrack/libs/libtracker.so\n",
      "[INFO][2022/08/08 05:35:34 PM] btrack (v0.4.5) library imported\n",
      "[INFO][2022/08/08 05:35:34 PM] Starting BayesianTracker session\n",
      "[INFO][2022/08/08 05:35:34 PM] Loading configuration file: /home/dayn/analysis/BayesianTracker/models/param_test_config_hypo.json\n",
      "[INFO][2022/08/08 05:35:34 PM] Setting max_search_radius -> 500\n",
      "[INFO][2022/08/08 05:35:34 PM] Setting features -> ['area', 'major_axis_length', 'minor_axis_length', 'orientation', 'solidity', 'mean_intensity']\n",
      "[INFO][2022/08/08 05:35:34 PM] Objects are of type: <class 'list'>\n"
     ]
    },
    {
     "name": "stdout",
     "output_type": "stream",
     "text": [
      "(1, 1, 300, 20, 160) 3.2823316150229425\n"
     ]
    },
    {
     "name": "stderr",
     "output_type": "stream",
     "text": [
      "[INFO][2022/08/08 05:35:35 PM] Setting volume -> ((0, 6048), (0, 6048), (-100000.0, 100000.0))\n",
      "[INFO][2022/08/08 05:35:35 PM] Starting tracking... \n",
      "[INFO][2022/08/08 05:35:35 PM] Tracking objects in frames 0 to 24 (of 75)...\n",
      "[INFO][2022/08/08 05:35:49 PM]  - Timing (Bayesian updates: 519.46ms, Linking: 11.80ms)\n",
      "[INFO][2022/08/08 05:35:49 PM]  - Probabilities (Link: 0.97446, Lost: 1.00000)\n",
      "[INFO][2022/08/08 05:35:49 PM]  - Stats (Active: 2550, Lost: 51737, Conflicts resolved: 1956)\n",
      "[INFO][2022/08/08 05:35:49 PM] Tracking objects in frames 25 to 49 (of 75)...\n",
      "[INFO][2022/08/08 05:35:59 PM]  - Timing (Bayesian updates: 179.19ms, Linking: 6.12ms)\n",
      "[INFO][2022/08/08 05:35:59 PM]  - Probabilities (Link: 0.94544, Lost: 1.00000)\n",
      "[INFO][2022/08/08 05:36:00 PM]  - Stats (Active: 1721, Lost: 105261, Conflicts resolved: 3564)\n",
      "[INFO][2022/08/08 05:36:00 PM] Tracking objects in frames 50 to 74 (of 75)...\n",
      "[INFO][2022/08/08 05:36:01 PM]  - Timing (Bayesian updates: 11.80ms, Linking: 1.07ms)\n",
      "[INFO][2022/08/08 05:36:01 PM]  - Probabilities (Link: 0.92668, Lost: 1.00000)\n",
      "[INFO][2022/08/08 05:36:01 PM] SUCCESS.\n",
      "[INFO][2022/08/08 05:36:01 PM]  - Found 17653 tracks in 75 frames (in 0.0s)\n",
      "[INFO][2022/08/08 05:36:01 PM]  - Inserted 23139 dummy objects to fill tracking gaps\n",
      "[INFO][2022/08/08 05:36:01 PM] Ending BayesianTracker session\n",
      "[INFO][2022/08/08 05:36:01 PM] Loaded btrack: /home/dayn/miniconda3/envs/aero/lib/python3.9/site-packages/btrack/libs/libtracker.so\n",
      "[INFO][2022/08/08 05:36:01 PM] btrack (v0.4.5) library imported\n",
      "[INFO][2022/08/08 05:36:01 PM] Starting BayesianTracker session\n",
      "[INFO][2022/08/08 05:36:01 PM] Loading configuration file: /home/dayn/analysis/BayesianTracker/models/param_test_config_hypo.json\n",
      "[INFO][2022/08/08 05:36:01 PM] Setting max_search_radius -> 500\n",
      "[INFO][2022/08/08 05:36:01 PM] Setting features -> ['area', 'major_axis_length', 'minor_axis_length', 'orientation', 'solidity', 'mean_intensity']\n",
      "[INFO][2022/08/08 05:36:01 PM] Objects are of type: <class 'list'>\n",
      "[INFO][2022/08/08 05:36:01 PM] Setting volume -> ((0, 6048), (0, 6048), (-100000.0, 100000.0))\n",
      "[INFO][2022/08/08 05:36:01 PM] Starting tracking... \n"
     ]
    },
    {
     "name": "stdout",
     "output_type": "stream",
     "text": [
      "(1, 1, 300, 100, 40) 3.2823316150229425\n"
     ]
    },
    {
     "name": "stderr",
     "output_type": "stream",
     "text": [
      "[INFO][2022/08/08 05:36:02 PM] Tracking objects in frames 0 to 24 (of 75)...\n",
      "[INFO][2022/08/08 05:36:15 PM]  - Timing (Bayesian updates: 521.09ms, Linking: 11.77ms)\n",
      "[INFO][2022/08/08 05:36:15 PM]  - Probabilities (Link: 0.97446, Lost: 1.00000)\n",
      "[INFO][2022/08/08 05:36:15 PM]  - Stats (Active: 2550, Lost: 51737, Conflicts resolved: 1956)\n",
      "[INFO][2022/08/08 05:36:15 PM] Tracking objects in frames 25 to 49 (of 75)...\n",
      "[INFO][2022/08/08 05:36:26 PM]  - Timing (Bayesian updates: 178.57ms, Linking: 5.62ms)\n",
      "[INFO][2022/08/08 05:36:26 PM]  - Probabilities (Link: 0.94544, Lost: 1.00000)\n",
      "[INFO][2022/08/08 05:36:26 PM]  - Stats (Active: 1721, Lost: 105261, Conflicts resolved: 3564)\n",
      "[INFO][2022/08/08 05:36:26 PM] Tracking objects in frames 50 to 74 (of 75)...\n",
      "[INFO][2022/08/08 05:36:27 PM]  - Timing (Bayesian updates: 11.89ms, Linking: 1.09ms)\n",
      "[INFO][2022/08/08 05:36:27 PM]  - Probabilities (Link: 0.92668, Lost: 1.00000)\n",
      "[INFO][2022/08/08 05:36:27 PM] SUCCESS.\n",
      "[INFO][2022/08/08 05:36:27 PM]  - Found 17653 tracks in 75 frames (in 0.0s)\n",
      "[INFO][2022/08/08 05:36:27 PM]  - Inserted 23139 dummy objects to fill tracking gaps\n",
      "[INFO][2022/08/08 05:36:28 PM] Ending BayesianTracker session\n",
      "[INFO][2022/08/08 05:36:28 PM] Loaded btrack: /home/dayn/miniconda3/envs/aero/lib/python3.9/site-packages/btrack/libs/libtracker.so\n",
      "[INFO][2022/08/08 05:36:28 PM] btrack (v0.4.5) library imported\n",
      "[INFO][2022/08/08 05:36:28 PM] Starting BayesianTracker session\n",
      "[INFO][2022/08/08 05:36:28 PM] Loading configuration file: /home/dayn/analysis/BayesianTracker/models/param_test_config_hypo.json\n",
      "[INFO][2022/08/08 05:36:28 PM] Setting max_search_radius -> 500\n",
      "[INFO][2022/08/08 05:36:28 PM] Setting features -> ['area', 'major_axis_length', 'minor_axis_length', 'orientation', 'solidity', 'mean_intensity']\n",
      "[INFO][2022/08/08 05:36:28 PM] Objects are of type: <class 'list'>\n"
     ]
    },
    {
     "name": "stdout",
     "output_type": "stream",
     "text": [
      "(1, 1, 300, 100, 80) 3.2823316150229425\n"
     ]
    },
    {
     "name": "stderr",
     "output_type": "stream",
     "text": [
      "[INFO][2022/08/08 05:36:28 PM] Setting volume -> ((0, 6048), (0, 6048), (-100000.0, 100000.0))\n",
      "[INFO][2022/08/08 05:36:28 PM] Starting tracking... \n",
      "[INFO][2022/08/08 05:36:28 PM] Tracking objects in frames 0 to 24 (of 75)...\n",
      "[INFO][2022/08/08 05:36:41 PM]  - Timing (Bayesian updates: 516.26ms, Linking: 11.81ms)\n",
      "[INFO][2022/08/08 05:36:41 PM]  - Probabilities (Link: 0.97446, Lost: 1.00000)\n",
      "[INFO][2022/08/08 05:36:41 PM]  - Stats (Active: 2550, Lost: 51737, Conflicts resolved: 1956)\n",
      "[INFO][2022/08/08 05:36:41 PM] Tracking objects in frames 25 to 49 (of 75)...\n",
      "[INFO][2022/08/08 05:36:52 PM]  - Timing (Bayesian updates: 178.37ms, Linking: 5.40ms)\n",
      "[INFO][2022/08/08 05:36:52 PM]  - Probabilities (Link: 0.94544, Lost: 1.00000)\n",
      "[INFO][2022/08/08 05:36:52 PM]  - Stats (Active: 1721, Lost: 105261, Conflicts resolved: 3564)\n",
      "[INFO][2022/08/08 05:36:52 PM] Tracking objects in frames 50 to 74 (of 75)...\n",
      "[INFO][2022/08/08 05:36:53 PM]  - Timing (Bayesian updates: 11.83ms, Linking: 1.13ms)\n",
      "[INFO][2022/08/08 05:36:53 PM]  - Probabilities (Link: 0.92668, Lost: 1.00000)\n",
      "[INFO][2022/08/08 05:36:53 PM] SUCCESS.\n",
      "[INFO][2022/08/08 05:36:53 PM]  - Found 17653 tracks in 75 frames (in 0.0s)\n",
      "[INFO][2022/08/08 05:36:54 PM]  - Inserted 23139 dummy objects to fill tracking gaps\n",
      "[INFO][2022/08/08 05:36:54 PM] Ending BayesianTracker session\n",
      "[INFO][2022/08/08 05:36:54 PM] Loaded btrack: /home/dayn/miniconda3/envs/aero/lib/python3.9/site-packages/btrack/libs/libtracker.so\n",
      "[INFO][2022/08/08 05:36:54 PM] btrack (v0.4.5) library imported\n",
      "[INFO][2022/08/08 05:36:54 PM] Starting BayesianTracker session\n",
      "[INFO][2022/08/08 05:36:54 PM] Loading configuration file: /home/dayn/analysis/BayesianTracker/models/param_test_config_hypo.json\n",
      "[INFO][2022/08/08 05:36:54 PM] Setting max_search_radius -> 500\n",
      "[INFO][2022/08/08 05:36:54 PM] Setting features -> ['area', 'major_axis_length', 'minor_axis_length', 'orientation', 'solidity', 'mean_intensity']\n",
      "[INFO][2022/08/08 05:36:54 PM] Objects are of type: <class 'list'>\n"
     ]
    },
    {
     "name": "stdout",
     "output_type": "stream",
     "text": [
      "(1, 1, 300, 100, 160) 3.2823316150229425\n"
     ]
    },
    {
     "name": "stderr",
     "output_type": "stream",
     "text": [
      "[INFO][2022/08/08 05:36:54 PM] Setting volume -> ((0, 6048), (0, 6048), (-100000.0, 100000.0))\n",
      "[INFO][2022/08/08 05:36:54 PM] Starting tracking... \n",
      "[INFO][2022/08/08 05:36:54 PM] Tracking objects in frames 0 to 24 (of 75)...\n",
      "[INFO][2022/08/08 05:37:08 PM]  - Timing (Bayesian updates: 519.59ms, Linking: 11.79ms)\n",
      "[INFO][2022/08/08 05:37:08 PM]  - Probabilities (Link: 0.97446, Lost: 1.00000)\n",
      "[INFO][2022/08/08 05:37:08 PM]  - Stats (Active: 2550, Lost: 51737, Conflicts resolved: 1956)\n",
      "[INFO][2022/08/08 05:37:08 PM] Tracking objects in frames 25 to 49 (of 75)...\n",
      "[INFO][2022/08/08 05:37:19 PM]  - Timing (Bayesian updates: 178.24ms, Linking: 5.35ms)\n",
      "[INFO][2022/08/08 05:37:19 PM]  - Probabilities (Link: 0.94544, Lost: 1.00000)\n",
      "[INFO][2022/08/08 05:37:19 PM]  - Stats (Active: 1721, Lost: 105261, Conflicts resolved: 3564)\n",
      "[INFO][2022/08/08 05:37:19 PM] Tracking objects in frames 50 to 74 (of 75)...\n",
      "[INFO][2022/08/08 05:37:20 PM]  - Timing (Bayesian updates: 11.84ms, Linking: 1.07ms)\n",
      "[INFO][2022/08/08 05:37:20 PM]  - Probabilities (Link: 0.92668, Lost: 1.00000)\n",
      "[INFO][2022/08/08 05:37:20 PM] SUCCESS.\n",
      "[INFO][2022/08/08 05:37:20 PM]  - Found 17653 tracks in 75 frames (in 0.0s)\n",
      "[INFO][2022/08/08 05:37:20 PM]  - Inserted 23139 dummy objects to fill tracking gaps\n",
      "[INFO][2022/08/08 05:37:21 PM] Ending BayesianTracker session\n",
      "[INFO][2022/08/08 05:37:21 PM] Loaded btrack: /home/dayn/miniconda3/envs/aero/lib/python3.9/site-packages/btrack/libs/libtracker.so\n",
      "[INFO][2022/08/08 05:37:21 PM] btrack (v0.4.5) library imported\n",
      "[INFO][2022/08/08 05:37:21 PM] Starting BayesianTracker session\n",
      "[INFO][2022/08/08 05:37:21 PM] Loading configuration file: /home/dayn/analysis/BayesianTracker/models/param_test_config_hypo.json\n",
      "[INFO][2022/08/08 05:37:21 PM] Setting max_search_radius -> 500\n",
      "[INFO][2022/08/08 05:37:21 PM] Setting features -> ['area', 'major_axis_length', 'minor_axis_length', 'orientation', 'solidity', 'mean_intensity']\n",
      "[INFO][2022/08/08 05:37:21 PM] Objects are of type: <class 'list'>\n"
     ]
    },
    {
     "name": "stdout",
     "output_type": "stream",
     "text": [
      "(1, 3, 50, 5, 40) 3.2823316150229425\n"
     ]
    },
    {
     "name": "stderr",
     "output_type": "stream",
     "text": [
      "[INFO][2022/08/08 05:37:21 PM] Setting volume -> ((0, 6048), (0, 6048), (-100000.0, 100000.0))\n",
      "[INFO][2022/08/08 05:37:21 PM] Starting tracking... \n",
      "[INFO][2022/08/08 05:37:21 PM] Tracking objects in frames 0 to 24 (of 75)...\n",
      "[INFO][2022/08/08 05:37:34 PM]  - Timing (Bayesian updates: 516.22ms, Linking: 11.86ms)\n",
      "[INFO][2022/08/08 05:37:34 PM]  - Probabilities (Link: 0.97446, Lost: 1.00000)\n",
      "[INFO][2022/08/08 05:37:34 PM]  - Stats (Active: 2550, Lost: 51737, Conflicts resolved: 1956)\n",
      "[INFO][2022/08/08 05:37:34 PM] Tracking objects in frames 25 to 49 (of 75)...\n",
      "[INFO][2022/08/08 05:37:45 PM]  - Timing (Bayesian updates: 178.89ms, Linking: 5.58ms)\n",
      "[INFO][2022/08/08 05:37:45 PM]  - Probabilities (Link: 0.94544, Lost: 1.00000)\n",
      "[INFO][2022/08/08 05:37:45 PM]  - Stats (Active: 1721, Lost: 105261, Conflicts resolved: 3564)\n",
      "[INFO][2022/08/08 05:37:45 PM] Tracking objects in frames 50 to 74 (of 75)...\n",
      "[INFO][2022/08/08 05:37:46 PM]  - Timing (Bayesian updates: 12.08ms, Linking: 1.09ms)\n",
      "[INFO][2022/08/08 05:37:46 PM]  - Probabilities (Link: 0.92668, Lost: 1.00000)\n",
      "[INFO][2022/08/08 05:37:46 PM] SUCCESS.\n",
      "[INFO][2022/08/08 05:37:46 PM]  - Found 17653 tracks in 75 frames (in 0.0s)\n",
      "[INFO][2022/08/08 05:37:47 PM]  - Inserted 23139 dummy objects to fill tracking gaps\n",
      "[INFO][2022/08/08 05:37:47 PM] Ending BayesianTracker session\n",
      "[INFO][2022/08/08 05:37:47 PM] Loaded btrack: /home/dayn/miniconda3/envs/aero/lib/python3.9/site-packages/btrack/libs/libtracker.so\n",
      "[INFO][2022/08/08 05:37:47 PM] btrack (v0.4.5) library imported\n",
      "[INFO][2022/08/08 05:37:47 PM] Starting BayesianTracker session\n",
      "[INFO][2022/08/08 05:37:47 PM] Loading configuration file: /home/dayn/analysis/BayesianTracker/models/param_test_config_hypo.json\n",
      "[INFO][2022/08/08 05:37:47 PM] Setting max_search_radius -> 500\n",
      "[INFO][2022/08/08 05:37:47 PM] Setting features -> ['area', 'major_axis_length', 'minor_axis_length', 'orientation', 'solidity', 'mean_intensity']\n",
      "[INFO][2022/08/08 05:37:47 PM] Objects are of type: <class 'list'>\n",
      "[INFO][2022/08/08 05:37:47 PM] Setting volume -> ((0, 6048), (0, 6048), (-100000.0, 100000.0))\n"
     ]
    },
    {
     "name": "stdout",
     "output_type": "stream",
     "text": [
      "(1, 3, 50, 5, 80) 3.2823316150229425\n"
     ]
    },
    {
     "name": "stderr",
     "output_type": "stream",
     "text": [
      "[INFO][2022/08/08 05:37:47 PM] Starting tracking... \n",
      "[INFO][2022/08/08 05:37:47 PM] Tracking objects in frames 0 to 24 (of 75)...\n",
      "[INFO][2022/08/08 05:38:01 PM]  - Timing (Bayesian updates: 515.87ms, Linking: 11.25ms)\n",
      "[INFO][2022/08/08 05:38:01 PM]  - Probabilities (Link: 0.97446, Lost: 1.00000)\n",
      "[INFO][2022/08/08 05:38:01 PM]  - Stats (Active: 2550, Lost: 51737, Conflicts resolved: 1956)\n",
      "[INFO][2022/08/08 05:38:01 PM] Tracking objects in frames 25 to 49 (of 75)...\n",
      "[INFO][2022/08/08 05:38:12 PM]  - Timing (Bayesian updates: 179.23ms, Linking: 5.51ms)\n",
      "[INFO][2022/08/08 05:38:12 PM]  - Probabilities (Link: 0.94544, Lost: 1.00000)\n",
      "[INFO][2022/08/08 05:38:12 PM]  - Stats (Active: 1721, Lost: 105261, Conflicts resolved: 3564)\n",
      "[INFO][2022/08/08 05:38:12 PM] Tracking objects in frames 50 to 74 (of 75)...\n",
      "[INFO][2022/08/08 05:38:13 PM]  - Timing (Bayesian updates: 11.88ms, Linking: 1.06ms)\n",
      "[INFO][2022/08/08 05:38:13 PM]  - Probabilities (Link: 0.92668, Lost: 1.00000)\n",
      "[INFO][2022/08/08 05:38:13 PM] SUCCESS.\n",
      "[INFO][2022/08/08 05:38:13 PM]  - Found 17653 tracks in 75 frames (in 0.0s)\n",
      "[INFO][2022/08/08 05:38:13 PM]  - Inserted 23139 dummy objects to fill tracking gaps\n",
      "[INFO][2022/08/08 05:38:13 PM] Ending BayesianTracker session\n",
      "[INFO][2022/08/08 05:38:14 PM] Loaded btrack: /home/dayn/miniconda3/envs/aero/lib/python3.9/site-packages/btrack/libs/libtracker.so\n",
      "[INFO][2022/08/08 05:38:14 PM] btrack (v0.4.5) library imported\n",
      "[INFO][2022/08/08 05:38:14 PM] Starting BayesianTracker session\n",
      "[INFO][2022/08/08 05:38:14 PM] Loading configuration file: /home/dayn/analysis/BayesianTracker/models/param_test_config_hypo.json\n",
      "[INFO][2022/08/08 05:38:14 PM] Setting max_search_radius -> 500\n",
      "[INFO][2022/08/08 05:38:14 PM] Setting features -> ['area', 'major_axis_length', 'minor_axis_length', 'orientation', 'solidity', 'mean_intensity']\n",
      "[INFO][2022/08/08 05:38:14 PM] Objects are of type: <class 'list'>\n",
      "[INFO][2022/08/08 05:38:14 PM] Setting volume -> ((0, 6048), (0, 6048), (-100000.0, 100000.0))\n",
      "[INFO][2022/08/08 05:38:14 PM] Starting tracking... \n"
     ]
    },
    {
     "name": "stdout",
     "output_type": "stream",
     "text": [
      "(1, 3, 50, 5, 160) 3.2823316150229425\n"
     ]
    },
    {
     "name": "stderr",
     "output_type": "stream",
     "text": [
      "[INFO][2022/08/08 05:38:14 PM] Tracking objects in frames 0 to 24 (of 75)...\n",
      "[INFO][2022/08/08 05:38:27 PM]  - Timing (Bayesian updates: 516.85ms, Linking: 12.21ms)\n",
      "[INFO][2022/08/08 05:38:27 PM]  - Probabilities (Link: 0.97446, Lost: 1.00000)\n",
      "[INFO][2022/08/08 05:38:27 PM]  - Stats (Active: 2550, Lost: 51737, Conflicts resolved: 1956)\n",
      "[INFO][2022/08/08 05:38:27 PM] Tracking objects in frames 25 to 49 (of 75)...\n",
      "[INFO][2022/08/08 05:38:38 PM]  - Timing (Bayesian updates: 187.14ms, Linking: 8.72ms)\n",
      "[INFO][2022/08/08 05:38:38 PM]  - Probabilities (Link: 0.94544, Lost: 1.00000)\n",
      "[INFO][2022/08/08 05:38:38 PM]  - Stats (Active: 1721, Lost: 105261, Conflicts resolved: 3564)\n",
      "[INFO][2022/08/08 05:38:38 PM] Tracking objects in frames 50 to 74 (of 75)...\n",
      "[INFO][2022/08/08 05:38:39 PM]  - Timing (Bayesian updates: 12.02ms, Linking: 1.08ms)\n",
      "[INFO][2022/08/08 05:38:39 PM]  - Probabilities (Link: 0.92668, Lost: 1.00000)\n",
      "[INFO][2022/08/08 05:38:39 PM] SUCCESS.\n",
      "[INFO][2022/08/08 05:38:39 PM]  - Found 17653 tracks in 75 frames (in 0.0s)\n",
      "[INFO][2022/08/08 05:38:39 PM]  - Inserted 23139 dummy objects to fill tracking gaps\n",
      "[INFO][2022/08/08 05:38:40 PM] Ending BayesianTracker session\n",
      "[INFO][2022/08/08 05:38:40 PM] Loaded btrack: /home/dayn/miniconda3/envs/aero/lib/python3.9/site-packages/btrack/libs/libtracker.so\n",
      "[INFO][2022/08/08 05:38:40 PM] btrack (v0.4.5) library imported\n",
      "[INFO][2022/08/08 05:38:40 PM] Starting BayesianTracker session\n",
      "[INFO][2022/08/08 05:38:40 PM] Loading configuration file: /home/dayn/analysis/BayesianTracker/models/param_test_config_hypo.json\n",
      "[INFO][2022/08/08 05:38:40 PM] Setting max_search_radius -> 500\n",
      "[INFO][2022/08/08 05:38:40 PM] Setting features -> ['area', 'major_axis_length', 'minor_axis_length', 'orientation', 'solidity', 'mean_intensity']\n",
      "[INFO][2022/08/08 05:38:40 PM] Objects are of type: <class 'list'>\n"
     ]
    },
    {
     "name": "stdout",
     "output_type": "stream",
     "text": [
      "(1, 3, 50, 20, 40) 3.2823316150229425\n"
     ]
    },
    {
     "name": "stderr",
     "output_type": "stream",
     "text": [
      "[INFO][2022/08/08 05:38:40 PM] Setting volume -> ((0, 6048), (0, 6048), (-100000.0, 100000.0))\n",
      "[INFO][2022/08/08 05:38:40 PM] Starting tracking... \n",
      "[INFO][2022/08/08 05:38:40 PM] Tracking objects in frames 0 to 24 (of 75)...\n",
      "[INFO][2022/08/08 05:38:53 PM]  - Timing (Bayesian updates: 516.48ms, Linking: 11.90ms)\n",
      "[INFO][2022/08/08 05:38:53 PM]  - Probabilities (Link: 0.97446, Lost: 1.00000)\n",
      "[INFO][2022/08/08 05:38:53 PM]  - Stats (Active: 2550, Lost: 51737, Conflicts resolved: 1956)\n",
      "[INFO][2022/08/08 05:38:53 PM] Tracking objects in frames 25 to 49 (of 75)...\n",
      "[INFO][2022/08/08 05:39:04 PM]  - Timing (Bayesian updates: 179.26ms, Linking: 5.38ms)\n",
      "[INFO][2022/08/08 05:39:04 PM]  - Probabilities (Link: 0.94544, Lost: 1.00000)\n",
      "[INFO][2022/08/08 05:39:04 PM]  - Stats (Active: 1721, Lost: 105261, Conflicts resolved: 3564)\n",
      "[INFO][2022/08/08 05:39:04 PM] Tracking objects in frames 50 to 74 (of 75)...\n",
      "[INFO][2022/08/08 05:39:05 PM]  - Timing (Bayesian updates: 12.03ms, Linking: 1.04ms)\n",
      "[INFO][2022/08/08 05:39:05 PM]  - Probabilities (Link: 0.92668, Lost: 1.00000)\n",
      "[INFO][2022/08/08 05:39:05 PM] SUCCESS.\n",
      "[INFO][2022/08/08 05:39:05 PM]  - Found 17653 tracks in 75 frames (in 0.0s)\n",
      "[INFO][2022/08/08 05:39:06 PM]  - Inserted 23139 dummy objects to fill tracking gaps\n",
      "[INFO][2022/08/08 05:39:06 PM] Ending BayesianTracker session\n",
      "[INFO][2022/08/08 05:39:06 PM] Loaded btrack: /home/dayn/miniconda3/envs/aero/lib/python3.9/site-packages/btrack/libs/libtracker.so\n",
      "[INFO][2022/08/08 05:39:06 PM] btrack (v0.4.5) library imported\n",
      "[INFO][2022/08/08 05:39:06 PM] Starting BayesianTracker session\n",
      "[INFO][2022/08/08 05:39:06 PM] Loading configuration file: /home/dayn/analysis/BayesianTracker/models/param_test_config_hypo.json\n",
      "[INFO][2022/08/08 05:39:06 PM] Setting max_search_radius -> 500\n",
      "[INFO][2022/08/08 05:39:06 PM] Setting features -> ['area', 'major_axis_length', 'minor_axis_length', 'orientation', 'solidity', 'mean_intensity']\n",
      "[INFO][2022/08/08 05:39:06 PM] Objects are of type: <class 'list'>\n",
      "[INFO][2022/08/08 05:39:06 PM] Setting volume -> ((0, 6048), (0, 6048), (-100000.0, 100000.0))\n",
      "[INFO][2022/08/08 05:39:06 PM] Starting tracking... \n"
     ]
    },
    {
     "name": "stdout",
     "output_type": "stream",
     "text": [
      "(1, 3, 50, 20, 80) 3.2823316150229425\n"
     ]
    },
    {
     "name": "stderr",
     "output_type": "stream",
     "text": [
      "[INFO][2022/08/08 05:39:06 PM] Tracking objects in frames 0 to 24 (of 75)...\n",
      "[INFO][2022/08/08 05:39:20 PM]  - Timing (Bayesian updates: 515.69ms, Linking: 12.06ms)\n",
      "[INFO][2022/08/08 05:39:20 PM]  - Probabilities (Link: 0.97446, Lost: 1.00000)\n",
      "[INFO][2022/08/08 05:39:20 PM]  - Stats (Active: 2550, Lost: 51737, Conflicts resolved: 1956)\n",
      "[INFO][2022/08/08 05:39:20 PM] Tracking objects in frames 25 to 49 (of 75)...\n",
      "[INFO][2022/08/08 05:39:31 PM]  - Timing (Bayesian updates: 181.30ms, Linking: 6.95ms)\n",
      "[INFO][2022/08/08 05:39:31 PM]  - Probabilities (Link: 0.94544, Lost: 1.00000)\n",
      "[INFO][2022/08/08 05:39:31 PM]  - Stats (Active: 1721, Lost: 105261, Conflicts resolved: 3564)\n",
      "[INFO][2022/08/08 05:39:31 PM] Tracking objects in frames 50 to 74 (of 75)...\n",
      "[INFO][2022/08/08 05:39:32 PM]  - Timing (Bayesian updates: 11.74ms, Linking: 1.06ms)\n",
      "[INFO][2022/08/08 05:39:32 PM]  - Probabilities (Link: 0.92668, Lost: 1.00000)\n",
      "[INFO][2022/08/08 05:39:32 PM] SUCCESS.\n",
      "[INFO][2022/08/08 05:39:32 PM]  - Found 17653 tracks in 75 frames (in 0.0s)\n",
      "[INFO][2022/08/08 05:39:32 PM]  - Inserted 23139 dummy objects to fill tracking gaps\n",
      "[INFO][2022/08/08 05:39:33 PM] Ending BayesianTracker session\n",
      "[INFO][2022/08/08 05:39:33 PM] Loaded btrack: /home/dayn/miniconda3/envs/aero/lib/python3.9/site-packages/btrack/libs/libtracker.so\n",
      "[INFO][2022/08/08 05:39:33 PM] btrack (v0.4.5) library imported\n",
      "[INFO][2022/08/08 05:39:33 PM] Starting BayesianTracker session\n",
      "[INFO][2022/08/08 05:39:33 PM] Loading configuration file: /home/dayn/analysis/BayesianTracker/models/param_test_config_hypo.json\n",
      "[INFO][2022/08/08 05:39:33 PM] Setting max_search_radius -> 500\n",
      "[INFO][2022/08/08 05:39:33 PM] Setting features -> ['area', 'major_axis_length', 'minor_axis_length', 'orientation', 'solidity', 'mean_intensity']\n",
      "[INFO][2022/08/08 05:39:33 PM] Objects are of type: <class 'list'>\n"
     ]
    },
    {
     "name": "stdout",
     "output_type": "stream",
     "text": [
      "(1, 3, 50, 20, 160) 3.2823316150229425\n"
     ]
    },
    {
     "name": "stderr",
     "output_type": "stream",
     "text": [
      "[INFO][2022/08/08 05:39:33 PM] Setting volume -> ((0, 6048), (0, 6048), (-100000.0, 100000.0))\n",
      "[INFO][2022/08/08 05:39:33 PM] Starting tracking... \n",
      "[INFO][2022/08/08 05:39:33 PM] Tracking objects in frames 0 to 24 (of 75)...\n",
      "[INFO][2022/08/08 05:39:46 PM]  - Timing (Bayesian updates: 517.34ms, Linking: 11.82ms)\n",
      "[INFO][2022/08/08 05:39:46 PM]  - Probabilities (Link: 0.97446, Lost: 1.00000)\n",
      "[INFO][2022/08/08 05:39:46 PM]  - Stats (Active: 2550, Lost: 51737, Conflicts resolved: 1956)\n",
      "[INFO][2022/08/08 05:39:46 PM] Tracking objects in frames 25 to 49 (of 75)...\n",
      "[INFO][2022/08/08 05:39:57 PM]  - Timing (Bayesian updates: 178.98ms, Linking: 5.80ms)\n",
      "[INFO][2022/08/08 05:39:57 PM]  - Probabilities (Link: 0.94544, Lost: 1.00000)\n",
      "[INFO][2022/08/08 05:39:57 PM]  - Stats (Active: 1721, Lost: 105261, Conflicts resolved: 3564)\n",
      "[INFO][2022/08/08 05:39:57 PM] Tracking objects in frames 50 to 74 (of 75)...\n",
      "[INFO][2022/08/08 05:39:58 PM]  - Timing (Bayesian updates: 11.80ms, Linking: 1.13ms)\n",
      "[INFO][2022/08/08 05:39:58 PM]  - Probabilities (Link: 0.92668, Lost: 1.00000)\n",
      "[INFO][2022/08/08 05:39:58 PM] SUCCESS.\n",
      "[INFO][2022/08/08 05:39:58 PM]  - Found 17653 tracks in 75 frames (in 0.0s)\n",
      "[INFO][2022/08/08 05:39:59 PM]  - Inserted 23139 dummy objects to fill tracking gaps\n",
      "[INFO][2022/08/08 05:39:59 PM] Ending BayesianTracker session\n",
      "[INFO][2022/08/08 05:39:59 PM] Loaded btrack: /home/dayn/miniconda3/envs/aero/lib/python3.9/site-packages/btrack/libs/libtracker.so\n",
      "[INFO][2022/08/08 05:39:59 PM] btrack (v0.4.5) library imported\n",
      "[INFO][2022/08/08 05:39:59 PM] Starting BayesianTracker session\n",
      "[INFO][2022/08/08 05:39:59 PM] Loading configuration file: /home/dayn/analysis/BayesianTracker/models/param_test_config_hypo.json\n",
      "[INFO][2022/08/08 05:39:59 PM] Setting max_search_radius -> 500\n",
      "[INFO][2022/08/08 05:39:59 PM] Setting features -> ['area', 'major_axis_length', 'minor_axis_length', 'orientation', 'solidity', 'mean_intensity']\n",
      "[INFO][2022/08/08 05:39:59 PM] Objects are of type: <class 'list'>\n"
     ]
    },
    {
     "name": "stdout",
     "output_type": "stream",
     "text": [
      "(1, 3, 50, 100, 40) 3.2823316150229425\n"
     ]
    },
    {
     "name": "stderr",
     "output_type": "stream",
     "text": [
      "[INFO][2022/08/08 05:39:59 PM] Setting volume -> ((0, 6048), (0, 6048), (-100000.0, 100000.0))\n",
      "[INFO][2022/08/08 05:39:59 PM] Starting tracking... \n",
      "[INFO][2022/08/08 05:39:59 PM] Tracking objects in frames 0 to 24 (of 75)...\n",
      "[INFO][2022/08/08 05:40:13 PM]  - Timing (Bayesian updates: 517.61ms, Linking: 11.72ms)\n",
      "[INFO][2022/08/08 05:40:13 PM]  - Probabilities (Link: 0.97446, Lost: 1.00000)\n",
      "[INFO][2022/08/08 05:40:13 PM]  - Stats (Active: 2550, Lost: 51737, Conflicts resolved: 1956)\n",
      "[INFO][2022/08/08 05:40:13 PM] Tracking objects in frames 25 to 49 (of 75)...\n",
      "[INFO][2022/08/08 05:40:24 PM]  - Timing (Bayesian updates: 178.87ms, Linking: 5.36ms)\n",
      "[INFO][2022/08/08 05:40:24 PM]  - Probabilities (Link: 0.94544, Lost: 1.00000)\n",
      "[INFO][2022/08/08 05:40:24 PM]  - Stats (Active: 1721, Lost: 105261, Conflicts resolved: 3564)\n",
      "[INFO][2022/08/08 05:40:24 PM] Tracking objects in frames 50 to 74 (of 75)...\n",
      "[INFO][2022/08/08 05:40:25 PM]  - Timing (Bayesian updates: 12.28ms, Linking: 1.12ms)\n",
      "[INFO][2022/08/08 05:40:25 PM]  - Probabilities (Link: 0.92668, Lost: 1.00000)\n",
      "[INFO][2022/08/08 05:40:25 PM] SUCCESS.\n",
      "[INFO][2022/08/08 05:40:25 PM]  - Found 17653 tracks in 75 frames (in 0.0s)\n",
      "[INFO][2022/08/08 05:40:25 PM]  - Inserted 23139 dummy objects to fill tracking gaps\n",
      "[INFO][2022/08/08 05:40:26 PM] Ending BayesianTracker session\n",
      "[INFO][2022/08/08 05:40:26 PM] Loaded btrack: /home/dayn/miniconda3/envs/aero/lib/python3.9/site-packages/btrack/libs/libtracker.so\n",
      "[INFO][2022/08/08 05:40:26 PM] btrack (v0.4.5) library imported\n",
      "[INFO][2022/08/08 05:40:26 PM] Starting BayesianTracker session\n",
      "[INFO][2022/08/08 05:40:26 PM] Loading configuration file: /home/dayn/analysis/BayesianTracker/models/param_test_config_hypo.json\n",
      "[INFO][2022/08/08 05:40:26 PM] Setting max_search_radius -> 500\n",
      "[INFO][2022/08/08 05:40:26 PM] Setting features -> ['area', 'major_axis_length', 'minor_axis_length', 'orientation', 'solidity', 'mean_intensity']\n",
      "[INFO][2022/08/08 05:40:26 PM] Objects are of type: <class 'list'>\n"
     ]
    },
    {
     "name": "stdout",
     "output_type": "stream",
     "text": [
      "(1, 3, 50, 100, 80) 3.2823316150229425\n"
     ]
    },
    {
     "name": "stderr",
     "output_type": "stream",
     "text": [
      "[INFO][2022/08/08 05:40:26 PM] Setting volume -> ((0, 6048), (0, 6048), (-100000.0, 100000.0))\n",
      "[INFO][2022/08/08 05:40:26 PM] Starting tracking... \n",
      "[INFO][2022/08/08 05:40:26 PM] Tracking objects in frames 0 to 24 (of 75)...\n",
      "[INFO][2022/08/08 05:40:39 PM]  - Timing (Bayesian updates: 515.26ms, Linking: 11.83ms)\n",
      "[INFO][2022/08/08 05:40:39 PM]  - Probabilities (Link: 0.97446, Lost: 1.00000)\n",
      "[INFO][2022/08/08 05:40:39 PM]  - Stats (Active: 2550, Lost: 51737, Conflicts resolved: 1956)\n",
      "[INFO][2022/08/08 05:40:39 PM] Tracking objects in frames 25 to 49 (of 75)...\n",
      "[INFO][2022/08/08 05:40:50 PM]  - Timing (Bayesian updates: 180.10ms, Linking: 6.19ms)\n",
      "[INFO][2022/08/08 05:40:50 PM]  - Probabilities (Link: 0.94544, Lost: 1.00000)\n",
      "[INFO][2022/08/08 05:40:50 PM]  - Stats (Active: 1721, Lost: 105261, Conflicts resolved: 3564)\n",
      "[INFO][2022/08/08 05:40:50 PM] Tracking objects in frames 50 to 74 (of 75)...\n",
      "[INFO][2022/08/08 05:40:52 PM]  - Timing (Bayesian updates: 11.90ms, Linking: 1.03ms)\n",
      "[INFO][2022/08/08 05:40:52 PM]  - Probabilities (Link: 0.92668, Lost: 1.00000)\n",
      "[INFO][2022/08/08 05:40:52 PM] SUCCESS.\n",
      "[INFO][2022/08/08 05:40:52 PM]  - Found 17653 tracks in 75 frames (in 0.0s)\n",
      "[INFO][2022/08/08 05:40:52 PM]  - Inserted 23139 dummy objects to fill tracking gaps\n",
      "[INFO][2022/08/08 05:40:52 PM] Ending BayesianTracker session\n",
      "[INFO][2022/08/08 05:40:52 PM] Loaded btrack: /home/dayn/miniconda3/envs/aero/lib/python3.9/site-packages/btrack/libs/libtracker.so\n",
      "[INFO][2022/08/08 05:40:52 PM] btrack (v0.4.5) library imported\n",
      "[INFO][2022/08/08 05:40:52 PM] Starting BayesianTracker session\n",
      "[INFO][2022/08/08 05:40:52 PM] Loading configuration file: /home/dayn/analysis/BayesianTracker/models/param_test_config_hypo.json\n",
      "[INFO][2022/08/08 05:40:52 PM] Setting max_search_radius -> 500\n",
      "[INFO][2022/08/08 05:40:52 PM] Setting features -> ['area', 'major_axis_length', 'minor_axis_length', 'orientation', 'solidity', 'mean_intensity']\n",
      "[INFO][2022/08/08 05:40:52 PM] Objects are of type: <class 'list'>\n"
     ]
    },
    {
     "name": "stdout",
     "output_type": "stream",
     "text": [
      "(1, 3, 50, 100, 160) 3.2823316150229425\n"
     ]
    },
    {
     "name": "stderr",
     "output_type": "stream",
     "text": [
      "[INFO][2022/08/08 05:40:53 PM] Setting volume -> ((0, 6048), (0, 6048), (-100000.0, 100000.0))\n",
      "[INFO][2022/08/08 05:40:53 PM] Starting tracking... \n",
      "[INFO][2022/08/08 05:40:53 PM] Tracking objects in frames 0 to 24 (of 75)...\n",
      "[INFO][2022/08/08 05:41:06 PM]  - Timing (Bayesian updates: 515.80ms, Linking: 11.81ms)\n",
      "[INFO][2022/08/08 05:41:06 PM]  - Probabilities (Link: 0.97446, Lost: 1.00000)\n",
      "[INFO][2022/08/08 05:41:06 PM]  - Stats (Active: 2550, Lost: 51737, Conflicts resolved: 1956)\n",
      "[INFO][2022/08/08 05:41:06 PM] Tracking objects in frames 25 to 49 (of 75)...\n",
      "[INFO][2022/08/08 05:41:17 PM]  - Timing (Bayesian updates: 179.48ms, Linking: 5.44ms)\n",
      "[INFO][2022/08/08 05:41:17 PM]  - Probabilities (Link: 0.94544, Lost: 1.00000)\n",
      "[INFO][2022/08/08 05:41:17 PM]  - Stats (Active: 1721, Lost: 105261, Conflicts resolved: 3564)\n",
      "[INFO][2022/08/08 05:41:17 PM] Tracking objects in frames 50 to 74 (of 75)...\n",
      "[INFO][2022/08/08 05:41:18 PM]  - Timing (Bayesian updates: 11.96ms, Linking: 1.03ms)\n",
      "[INFO][2022/08/08 05:41:18 PM]  - Probabilities (Link: 0.92668, Lost: 1.00000)\n",
      "[INFO][2022/08/08 05:41:18 PM] SUCCESS.\n",
      "[INFO][2022/08/08 05:41:18 PM]  - Found 17653 tracks in 75 frames (in 0.0s)\n",
      "[INFO][2022/08/08 05:41:18 PM]  - Inserted 23139 dummy objects to fill tracking gaps\n",
      "[INFO][2022/08/08 05:41:19 PM] Ending BayesianTracker session\n",
      "[INFO][2022/08/08 05:41:19 PM] Loaded btrack: /home/dayn/miniconda3/envs/aero/lib/python3.9/site-packages/btrack/libs/libtracker.so\n",
      "[INFO][2022/08/08 05:41:19 PM] btrack (v0.4.5) library imported\n",
      "[INFO][2022/08/08 05:41:19 PM] Starting BayesianTracker session\n",
      "[INFO][2022/08/08 05:41:19 PM] Loading configuration file: /home/dayn/analysis/BayesianTracker/models/param_test_config_hypo.json\n",
      "[INFO][2022/08/08 05:41:19 PM] Setting max_search_radius -> 500\n",
      "[INFO][2022/08/08 05:41:19 PM] Setting features -> ['area', 'major_axis_length', 'minor_axis_length', 'orientation', 'solidity', 'mean_intensity']\n",
      "[INFO][2022/08/08 05:41:19 PM] Objects are of type: <class 'list'>\n"
     ]
    },
    {
     "name": "stdout",
     "output_type": "stream",
     "text": [
      "(1, 3, 100, 5, 40) 3.2823316150229425\n"
     ]
    },
    {
     "name": "stderr",
     "output_type": "stream",
     "text": [
      "[INFO][2022/08/08 05:41:19 PM] Setting volume -> ((0, 6048), (0, 6048), (-100000.0, 100000.0))\n",
      "[INFO][2022/08/08 05:41:19 PM] Starting tracking... \n",
      "[INFO][2022/08/08 05:41:19 PM] Tracking objects in frames 0 to 24 (of 75)...\n",
      "[INFO][2022/08/08 05:41:32 PM]  - Timing (Bayesian updates: 516.79ms, Linking: 11.99ms)\n",
      "[INFO][2022/08/08 05:41:32 PM]  - Probabilities (Link: 0.97446, Lost: 1.00000)\n",
      "[INFO][2022/08/08 05:41:32 PM]  - Stats (Active: 2550, Lost: 51737, Conflicts resolved: 1956)\n",
      "[INFO][2022/08/08 05:41:32 PM] Tracking objects in frames 25 to 49 (of 75)...\n",
      "[INFO][2022/08/08 05:41:43 PM]  - Timing (Bayesian updates: 179.80ms, Linking: 5.60ms)\n",
      "[INFO][2022/08/08 05:41:43 PM]  - Probabilities (Link: 0.94544, Lost: 1.00000)\n",
      "[INFO][2022/08/08 05:41:43 PM]  - Stats (Active: 1721, Lost: 105261, Conflicts resolved: 3564)\n",
      "[INFO][2022/08/08 05:41:43 PM] Tracking objects in frames 50 to 74 (of 75)...\n",
      "[INFO][2022/08/08 05:41:45 PM]  - Timing (Bayesian updates: 11.86ms, Linking: 1.00ms)\n",
      "[INFO][2022/08/08 05:41:45 PM]  - Probabilities (Link: 0.92668, Lost: 1.00000)\n",
      "[INFO][2022/08/08 05:41:45 PM] SUCCESS.\n",
      "[INFO][2022/08/08 05:41:45 PM]  - Found 17653 tracks in 75 frames (in 0.0s)\n",
      "[INFO][2022/08/08 05:41:45 PM]  - Inserted 23139 dummy objects to fill tracking gaps\n",
      "[INFO][2022/08/08 05:41:45 PM] Ending BayesianTracker session\n",
      "[INFO][2022/08/08 05:41:45 PM] Loaded btrack: /home/dayn/miniconda3/envs/aero/lib/python3.9/site-packages/btrack/libs/libtracker.so\n",
      "[INFO][2022/08/08 05:41:45 PM] btrack (v0.4.5) library imported\n",
      "[INFO][2022/08/08 05:41:45 PM] Starting BayesianTracker session\n",
      "[INFO][2022/08/08 05:41:45 PM] Loading configuration file: /home/dayn/analysis/BayesianTracker/models/param_test_config_hypo.json\n",
      "[INFO][2022/08/08 05:41:45 PM] Setting max_search_radius -> 500\n",
      "[INFO][2022/08/08 05:41:45 PM] Setting features -> ['area', 'major_axis_length', 'minor_axis_length', 'orientation', 'solidity', 'mean_intensity']\n",
      "[INFO][2022/08/08 05:41:45 PM] Objects are of type: <class 'list'>\n"
     ]
    },
    {
     "name": "stdout",
     "output_type": "stream",
     "text": [
      "(1, 3, 100, 5, 80) 3.2823316150229425\n"
     ]
    },
    {
     "name": "stderr",
     "output_type": "stream",
     "text": [
      "[INFO][2022/08/08 05:41:45 PM] Setting volume -> ((0, 6048), (0, 6048), (-100000.0, 100000.0))\n",
      "[INFO][2022/08/08 05:41:45 PM] Starting tracking... \n",
      "[INFO][2022/08/08 05:41:46 PM] Tracking objects in frames 0 to 24 (of 75)...\n",
      "[INFO][2022/08/08 05:41:59 PM]  - Timing (Bayesian updates: 517.90ms, Linking: 11.30ms)\n",
      "[INFO][2022/08/08 05:41:59 PM]  - Probabilities (Link: 0.97446, Lost: 1.00000)\n",
      "[INFO][2022/08/08 05:41:59 PM]  - Stats (Active: 2550, Lost: 51737, Conflicts resolved: 1956)\n",
      "[INFO][2022/08/08 05:41:59 PM] Tracking objects in frames 25 to 49 (of 75)...\n",
      "[INFO][2022/08/08 05:42:10 PM]  - Timing (Bayesian updates: 179.29ms, Linking: 5.57ms)\n",
      "[INFO][2022/08/08 05:42:10 PM]  - Probabilities (Link: 0.94544, Lost: 1.00000)\n",
      "[INFO][2022/08/08 05:42:10 PM]  - Stats (Active: 1721, Lost: 105261, Conflicts resolved: 3564)\n",
      "[INFO][2022/08/08 05:42:10 PM] Tracking objects in frames 50 to 74 (of 75)...\n",
      "[INFO][2022/08/08 05:42:11 PM]  - Timing (Bayesian updates: 11.73ms, Linking: 1.00ms)\n",
      "[INFO][2022/08/08 05:42:11 PM]  - Probabilities (Link: 0.92668, Lost: 1.00000)\n",
      "[INFO][2022/08/08 05:42:11 PM] SUCCESS.\n",
      "[INFO][2022/08/08 05:42:11 PM]  - Found 17653 tracks in 75 frames (in 0.0s)\n",
      "[INFO][2022/08/08 05:42:11 PM]  - Inserted 23139 dummy objects to fill tracking gaps\n",
      "[INFO][2022/08/08 05:42:12 PM] Ending BayesianTracker session\n",
      "[INFO][2022/08/08 05:42:12 PM] Loaded btrack: /home/dayn/miniconda3/envs/aero/lib/python3.9/site-packages/btrack/libs/libtracker.so\n",
      "[INFO][2022/08/08 05:42:12 PM] btrack (v0.4.5) library imported\n",
      "[INFO][2022/08/08 05:42:12 PM] Starting BayesianTracker session\n",
      "[INFO][2022/08/08 05:42:12 PM] Loading configuration file: /home/dayn/analysis/BayesianTracker/models/param_test_config_hypo.json\n",
      "[INFO][2022/08/08 05:42:12 PM] Setting max_search_radius -> 500\n",
      "[INFO][2022/08/08 05:42:12 PM] Setting features -> ['area', 'major_axis_length', 'minor_axis_length', 'orientation', 'solidity', 'mean_intensity']\n",
      "[INFO][2022/08/08 05:42:12 PM] Objects are of type: <class 'list'>\n"
     ]
    },
    {
     "name": "stdout",
     "output_type": "stream",
     "text": [
      "(1, 3, 100, 5, 160) 3.2823316150229425\n"
     ]
    },
    {
     "name": "stderr",
     "output_type": "stream",
     "text": [
      "[INFO][2022/08/08 05:42:12 PM] Setting volume -> ((0, 6048), (0, 6048), (-100000.0, 100000.0))\n",
      "[INFO][2022/08/08 05:42:12 PM] Starting tracking... \n",
      "[INFO][2022/08/08 05:42:12 PM] Tracking objects in frames 0 to 24 (of 75)...\n",
      "[INFO][2022/08/08 05:42:25 PM]  - Timing (Bayesian updates: 517.98ms, Linking: 11.93ms)\n",
      "[INFO][2022/08/08 05:42:25 PM]  - Probabilities (Link: 0.97446, Lost: 1.00000)\n",
      "[INFO][2022/08/08 05:42:25 PM]  - Stats (Active: 2550, Lost: 51737, Conflicts resolved: 1956)\n",
      "[INFO][2022/08/08 05:42:25 PM] Tracking objects in frames 25 to 49 (of 75)...\n",
      "[INFO][2022/08/08 05:42:36 PM]  - Timing (Bayesian updates: 178.95ms, Linking: 5.41ms)\n",
      "[INFO][2022/08/08 05:42:36 PM]  - Probabilities (Link: 0.94544, Lost: 1.00000)\n",
      "[INFO][2022/08/08 05:42:36 PM]  - Stats (Active: 1721, Lost: 105261, Conflicts resolved: 3564)\n",
      "[INFO][2022/08/08 05:42:36 PM] Tracking objects in frames 50 to 74 (of 75)...\n",
      "[INFO][2022/08/08 05:42:37 PM]  - Timing (Bayesian updates: 11.89ms, Linking: 1.08ms)\n",
      "[INFO][2022/08/08 05:42:37 PM]  - Probabilities (Link: 0.92668, Lost: 1.00000)\n",
      "[INFO][2022/08/08 05:42:37 PM] SUCCESS.\n",
      "[INFO][2022/08/08 05:42:37 PM]  - Found 17653 tracks in 75 frames (in 0.0s)\n",
      "[INFO][2022/08/08 05:42:37 PM]  - Inserted 23139 dummy objects to fill tracking gaps\n",
      "[INFO][2022/08/08 05:42:38 PM] Ending BayesianTracker session\n",
      "[INFO][2022/08/08 05:42:38 PM] Loaded btrack: /home/dayn/miniconda3/envs/aero/lib/python3.9/site-packages/btrack/libs/libtracker.so\n",
      "[INFO][2022/08/08 05:42:38 PM] btrack (v0.4.5) library imported\n",
      "[INFO][2022/08/08 05:42:38 PM] Starting BayesianTracker session\n",
      "[INFO][2022/08/08 05:42:38 PM] Loading configuration file: /home/dayn/analysis/BayesianTracker/models/param_test_config_hypo.json\n",
      "[INFO][2022/08/08 05:42:38 PM] Setting max_search_radius -> 500\n",
      "[INFO][2022/08/08 05:42:38 PM] Setting features -> ['area', 'major_axis_length', 'minor_axis_length', 'orientation', 'solidity', 'mean_intensity']\n",
      "[INFO][2022/08/08 05:42:38 PM] Objects are of type: <class 'list'>\n"
     ]
    },
    {
     "name": "stdout",
     "output_type": "stream",
     "text": [
      "(1, 3, 100, 20, 40) 3.2823316150229425\n"
     ]
    },
    {
     "name": "stderr",
     "output_type": "stream",
     "text": [
      "[INFO][2022/08/08 05:42:38 PM] Setting volume -> ((0, 6048), (0, 6048), (-100000.0, 100000.0))\n",
      "[INFO][2022/08/08 05:42:38 PM] Starting tracking... \n",
      "[INFO][2022/08/08 05:42:38 PM] Tracking objects in frames 0 to 24 (of 75)...\n",
      "[INFO][2022/08/08 05:42:51 PM]  - Timing (Bayesian updates: 516.40ms, Linking: 11.80ms)\n",
      "[INFO][2022/08/08 05:42:51 PM]  - Probabilities (Link: 0.97446, Lost: 1.00000)\n",
      "[INFO][2022/08/08 05:42:51 PM]  - Stats (Active: 2550, Lost: 51737, Conflicts resolved: 1956)\n",
      "[INFO][2022/08/08 05:42:51 PM] Tracking objects in frames 25 to 49 (of 75)...\n",
      "[INFO][2022/08/08 05:43:02 PM]  - Timing (Bayesian updates: 180.00ms, Linking: 5.33ms)\n",
      "[INFO][2022/08/08 05:43:02 PM]  - Probabilities (Link: 0.94544, Lost: 1.00000)\n",
      "[INFO][2022/08/08 05:43:02 PM]  - Stats (Active: 1721, Lost: 105261, Conflicts resolved: 3564)\n",
      "[INFO][2022/08/08 05:43:02 PM] Tracking objects in frames 50 to 74 (of 75)...\n",
      "[INFO][2022/08/08 05:43:04 PM]  - Timing (Bayesian updates: 11.88ms, Linking: 0.99ms)\n",
      "[INFO][2022/08/08 05:43:04 PM]  - Probabilities (Link: 0.92668, Lost: 1.00000)\n",
      "[INFO][2022/08/08 05:43:04 PM] SUCCESS.\n",
      "[INFO][2022/08/08 05:43:04 PM]  - Found 17653 tracks in 75 frames (in 0.0s)\n",
      "[INFO][2022/08/08 05:43:04 PM]  - Inserted 23139 dummy objects to fill tracking gaps\n",
      "[INFO][2022/08/08 05:43:04 PM] Ending BayesianTracker session\n",
      "[INFO][2022/08/08 05:43:04 PM] Loaded btrack: /home/dayn/miniconda3/envs/aero/lib/python3.9/site-packages/btrack/libs/libtracker.so\n",
      "[INFO][2022/08/08 05:43:04 PM] btrack (v0.4.5) library imported\n",
      "[INFO][2022/08/08 05:43:04 PM] Starting BayesianTracker session\n",
      "[INFO][2022/08/08 05:43:04 PM] Loading configuration file: /home/dayn/analysis/BayesianTracker/models/param_test_config_hypo.json\n",
      "[INFO][2022/08/08 05:43:04 PM] Setting max_search_radius -> 500\n",
      "[INFO][2022/08/08 05:43:04 PM] Setting features -> ['area', 'major_axis_length', 'minor_axis_length', 'orientation', 'solidity', 'mean_intensity']\n",
      "[INFO][2022/08/08 05:43:04 PM] Objects are of type: <class 'list'>\n"
     ]
    },
    {
     "name": "stdout",
     "output_type": "stream",
     "text": [
      "(1, 3, 100, 20, 80) 3.2823316150229425\n"
     ]
    },
    {
     "name": "stderr",
     "output_type": "stream",
     "text": [
      "[INFO][2022/08/08 05:43:05 PM] Setting volume -> ((0, 6048), (0, 6048), (-100000.0, 100000.0))\n",
      "[INFO][2022/08/08 05:43:05 PM] Starting tracking... \n",
      "[INFO][2022/08/08 05:43:05 PM] Tracking objects in frames 0 to 24 (of 75)...\n",
      "[INFO][2022/08/08 05:43:18 PM]  - Timing (Bayesian updates: 515.40ms, Linking: 11.98ms)\n",
      "[INFO][2022/08/08 05:43:18 PM]  - Probabilities (Link: 0.97446, Lost: 1.00000)\n",
      "[INFO][2022/08/08 05:43:18 PM]  - Stats (Active: 2550, Lost: 51737, Conflicts resolved: 1956)\n",
      "[INFO][2022/08/08 05:43:18 PM] Tracking objects in frames 25 to 49 (of 75)...\n",
      "[INFO][2022/08/08 05:43:29 PM]  - Timing (Bayesian updates: 179.81ms, Linking: 5.67ms)\n",
      "[INFO][2022/08/08 05:43:29 PM]  - Probabilities (Link: 0.94544, Lost: 1.00000)\n",
      "[INFO][2022/08/08 05:43:29 PM]  - Stats (Active: 1721, Lost: 105261, Conflicts resolved: 3564)\n",
      "[INFO][2022/08/08 05:43:29 PM] Tracking objects in frames 50 to 74 (of 75)...\n",
      "[INFO][2022/08/08 05:43:30 PM]  - Timing (Bayesian updates: 12.26ms, Linking: 1.08ms)\n",
      "[INFO][2022/08/08 05:43:30 PM]  - Probabilities (Link: 0.92668, Lost: 1.00000)\n",
      "[INFO][2022/08/08 05:43:30 PM] SUCCESS.\n",
      "[INFO][2022/08/08 05:43:30 PM]  - Found 17653 tracks in 75 frames (in 0.0s)\n",
      "[INFO][2022/08/08 05:43:31 PM]  - Inserted 23139 dummy objects to fill tracking gaps\n",
      "[INFO][2022/08/08 05:43:31 PM] Ending BayesianTracker session\n",
      "[INFO][2022/08/08 05:43:31 PM] Loaded btrack: /home/dayn/miniconda3/envs/aero/lib/python3.9/site-packages/btrack/libs/libtracker.so\n",
      "[INFO][2022/08/08 05:43:31 PM] btrack (v0.4.5) library imported\n",
      "[INFO][2022/08/08 05:43:31 PM] Starting BayesianTracker session\n",
      "[INFO][2022/08/08 05:43:31 PM] Loading configuration file: /home/dayn/analysis/BayesianTracker/models/param_test_config_hypo.json\n",
      "[INFO][2022/08/08 05:43:31 PM] Setting max_search_radius -> 500\n",
      "[INFO][2022/08/08 05:43:31 PM] Setting features -> ['area', 'major_axis_length', 'minor_axis_length', 'orientation', 'solidity', 'mean_intensity']\n",
      "[INFO][2022/08/08 05:43:31 PM] Objects are of type: <class 'list'>\n"
     ]
    },
    {
     "name": "stdout",
     "output_type": "stream",
     "text": [
      "(1, 3, 100, 20, 160) 3.2823316150229425\n"
     ]
    },
    {
     "name": "stderr",
     "output_type": "stream",
     "text": [
      "[INFO][2022/08/08 05:43:31 PM] Setting volume -> ((0, 6048), (0, 6048), (-100000.0, 100000.0))\n",
      "[INFO][2022/08/08 05:43:31 PM] Starting tracking... \n",
      "[INFO][2022/08/08 05:43:31 PM] Tracking objects in frames 0 to 24 (of 75)...\n",
      "[INFO][2022/08/08 05:43:45 PM]  - Timing (Bayesian updates: 518.90ms, Linking: 11.67ms)\n",
      "[INFO][2022/08/08 05:43:45 PM]  - Probabilities (Link: 0.97446, Lost: 1.00000)\n",
      "[INFO][2022/08/08 05:43:45 PM]  - Stats (Active: 2550, Lost: 51737, Conflicts resolved: 1956)\n",
      "[INFO][2022/08/08 05:43:45 PM] Tracking objects in frames 25 to 49 (of 75)...\n",
      "[INFO][2022/08/08 05:43:56 PM]  - Timing (Bayesian updates: 179.45ms, Linking: 5.99ms)\n",
      "[INFO][2022/08/08 05:43:56 PM]  - Probabilities (Link: 0.94544, Lost: 1.00000)\n",
      "[INFO][2022/08/08 05:43:56 PM]  - Stats (Active: 1721, Lost: 105261, Conflicts resolved: 3564)\n",
      "[INFO][2022/08/08 05:43:56 PM] Tracking objects in frames 50 to 74 (of 75)...\n",
      "[INFO][2022/08/08 05:43:57 PM]  - Timing (Bayesian updates: 11.90ms, Linking: 1.05ms)\n",
      "[INFO][2022/08/08 05:43:57 PM]  - Probabilities (Link: 0.92668, Lost: 1.00000)\n",
      "[INFO][2022/08/08 05:43:57 PM] SUCCESS.\n",
      "[INFO][2022/08/08 05:43:57 PM]  - Found 17653 tracks in 75 frames (in 0.0s)\n",
      "[INFO][2022/08/08 05:43:57 PM]  - Inserted 23139 dummy objects to fill tracking gaps\n",
      "[INFO][2022/08/08 05:43:58 PM] Ending BayesianTracker session\n",
      "[INFO][2022/08/08 05:43:58 PM] Loaded btrack: /home/dayn/miniconda3/envs/aero/lib/python3.9/site-packages/btrack/libs/libtracker.so\n",
      "[INFO][2022/08/08 05:43:58 PM] btrack (v0.4.5) library imported\n",
      "[INFO][2022/08/08 05:43:58 PM] Starting BayesianTracker session\n",
      "[INFO][2022/08/08 05:43:58 PM] Loading configuration file: /home/dayn/analysis/BayesianTracker/models/param_test_config_hypo.json\n",
      "[INFO][2022/08/08 05:43:58 PM] Setting max_search_radius -> 500\n",
      "[INFO][2022/08/08 05:43:58 PM] Setting features -> ['area', 'major_axis_length', 'minor_axis_length', 'orientation', 'solidity', 'mean_intensity']\n",
      "[INFO][2022/08/08 05:43:58 PM] Objects are of type: <class 'list'>\n",
      "[INFO][2022/08/08 05:43:58 PM] Setting volume -> ((0, 6048), (0, 6048), (-100000.0, 100000.0))\n",
      "[INFO][2022/08/08 05:43:58 PM] Starting tracking... \n"
     ]
    },
    {
     "name": "stdout",
     "output_type": "stream",
     "text": [
      "(1, 3, 100, 100, 40) 3.2823316150229425\n"
     ]
    },
    {
     "name": "stderr",
     "output_type": "stream",
     "text": [
      "[INFO][2022/08/08 05:43:58 PM] Tracking objects in frames 0 to 24 (of 75)...\n",
      "[INFO][2022/08/08 05:44:11 PM]  - Timing (Bayesian updates: 517.38ms, Linking: 12.03ms)\n",
      "[INFO][2022/08/08 05:44:11 PM]  - Probabilities (Link: 0.97446, Lost: 1.00000)\n",
      "[INFO][2022/08/08 05:44:11 PM]  - Stats (Active: 2550, Lost: 51737, Conflicts resolved: 1956)\n",
      "[INFO][2022/08/08 05:44:11 PM] Tracking objects in frames 25 to 49 (of 75)...\n",
      "[INFO][2022/08/08 05:44:22 PM]  - Timing (Bayesian updates: 180.55ms, Linking: 6.06ms)\n",
      "[INFO][2022/08/08 05:44:22 PM]  - Probabilities (Link: 0.94544, Lost: 1.00000)\n",
      "[INFO][2022/08/08 05:44:22 PM]  - Stats (Active: 1721, Lost: 105261, Conflicts resolved: 3564)\n",
      "[INFO][2022/08/08 05:44:22 PM] Tracking objects in frames 50 to 74 (of 75)...\n",
      "[INFO][2022/08/08 05:44:23 PM]  - Timing (Bayesian updates: 12.30ms, Linking: 1.24ms)\n",
      "[INFO][2022/08/08 05:44:23 PM]  - Probabilities (Link: 0.92668, Lost: 1.00000)\n",
      "[INFO][2022/08/08 05:44:23 PM] SUCCESS.\n",
      "[INFO][2022/08/08 05:44:23 PM]  - Found 17653 tracks in 75 frames (in 0.0s)\n",
      "[INFO][2022/08/08 05:44:24 PM]  - Inserted 23139 dummy objects to fill tracking gaps\n",
      "[INFO][2022/08/08 05:44:24 PM] Ending BayesianTracker session\n",
      "[INFO][2022/08/08 05:44:24 PM] Loaded btrack: /home/dayn/miniconda3/envs/aero/lib/python3.9/site-packages/btrack/libs/libtracker.so\n",
      "[INFO][2022/08/08 05:44:24 PM] btrack (v0.4.5) library imported\n",
      "[INFO][2022/08/08 05:44:24 PM] Starting BayesianTracker session\n",
      "[INFO][2022/08/08 05:44:24 PM] Loading configuration file: /home/dayn/analysis/BayesianTracker/models/param_test_config_hypo.json\n",
      "[INFO][2022/08/08 05:44:24 PM] Setting max_search_radius -> 500\n",
      "[INFO][2022/08/08 05:44:24 PM] Setting features -> ['area', 'major_axis_length', 'minor_axis_length', 'orientation', 'solidity', 'mean_intensity']\n",
      "[INFO][2022/08/08 05:44:24 PM] Objects are of type: <class 'list'>\n"
     ]
    },
    {
     "name": "stdout",
     "output_type": "stream",
     "text": [
      "(1, 3, 100, 100, 80) 3.2823316150229425\n"
     ]
    },
    {
     "name": "stderr",
     "output_type": "stream",
     "text": [
      "[INFO][2022/08/08 05:44:24 PM] Setting volume -> ((0, 6048), (0, 6048), (-100000.0, 100000.0))\n",
      "[INFO][2022/08/08 05:44:24 PM] Starting tracking... \n",
      "[INFO][2022/08/08 05:44:25 PM] Tracking objects in frames 0 to 24 (of 75)...\n",
      "[INFO][2022/08/08 05:44:38 PM]  - Timing (Bayesian updates: 517.96ms, Linking: 11.97ms)\n",
      "[INFO][2022/08/08 05:44:38 PM]  - Probabilities (Link: 0.97446, Lost: 1.00000)\n",
      "[INFO][2022/08/08 05:44:38 PM]  - Stats (Active: 2550, Lost: 51737, Conflicts resolved: 1956)\n",
      "[INFO][2022/08/08 05:44:38 PM] Tracking objects in frames 25 to 49 (of 75)...\n",
      "[INFO][2022/08/08 05:44:49 PM]  - Timing (Bayesian updates: 179.63ms, Linking: 5.95ms)\n",
      "[INFO][2022/08/08 05:44:49 PM]  - Probabilities (Link: 0.94544, Lost: 1.00000)\n",
      "[INFO][2022/08/08 05:44:49 PM]  - Stats (Active: 1721, Lost: 105261, Conflicts resolved: 3564)\n",
      "[INFO][2022/08/08 05:44:49 PM] Tracking objects in frames 50 to 74 (of 75)...\n",
      "[INFO][2022/08/08 05:44:50 PM]  - Timing (Bayesian updates: 15.03ms, Linking: 1.28ms)\n",
      "[INFO][2022/08/08 05:44:50 PM]  - Probabilities (Link: 0.92668, Lost: 1.00000)\n",
      "[INFO][2022/08/08 05:44:50 PM] SUCCESS.\n",
      "[INFO][2022/08/08 05:44:50 PM]  - Found 17653 tracks in 75 frames (in 0.0s)\n",
      "[INFO][2022/08/08 05:44:51 PM]  - Inserted 23139 dummy objects to fill tracking gaps\n",
      "[INFO][2022/08/08 05:44:51 PM] Ending BayesianTracker session\n",
      "[INFO][2022/08/08 05:44:51 PM] Loaded btrack: /home/dayn/miniconda3/envs/aero/lib/python3.9/site-packages/btrack/libs/libtracker.so\n",
      "[INFO][2022/08/08 05:44:51 PM] btrack (v0.4.5) library imported\n",
      "[INFO][2022/08/08 05:44:51 PM] Starting BayesianTracker session\n",
      "[INFO][2022/08/08 05:44:51 PM] Loading configuration file: /home/dayn/analysis/BayesianTracker/models/param_test_config_hypo.json\n",
      "[INFO][2022/08/08 05:44:51 PM] Setting max_search_radius -> 500\n",
      "[INFO][2022/08/08 05:44:51 PM] Setting features -> ['area', 'major_axis_length', 'minor_axis_length', 'orientation', 'solidity', 'mean_intensity']\n",
      "[INFO][2022/08/08 05:44:51 PM] Objects are of type: <class 'list'>\n"
     ]
    },
    {
     "name": "stdout",
     "output_type": "stream",
     "text": [
      "(1, 3, 100, 100, 160) 3.2823316150229425\n"
     ]
    },
    {
     "name": "stderr",
     "output_type": "stream",
     "text": [
      "[INFO][2022/08/08 05:44:52 PM] Setting volume -> ((0, 6048), (0, 6048), (-100000.0, 100000.0))\n",
      "[INFO][2022/08/08 05:44:52 PM] Starting tracking... \n",
      "[INFO][2022/08/08 05:44:52 PM] Tracking objects in frames 0 to 24 (of 75)...\n",
      "[INFO][2022/08/08 05:45:06 PM]  - Timing (Bayesian updates: 518.58ms, Linking: 11.84ms)\n",
      "[INFO][2022/08/08 05:45:06 PM]  - Probabilities (Link: 0.97446, Lost: 1.00000)\n",
      "[INFO][2022/08/08 05:45:06 PM]  - Stats (Active: 2550, Lost: 51737, Conflicts resolved: 1956)\n",
      "[INFO][2022/08/08 05:45:06 PM] Tracking objects in frames 25 to 49 (of 75)...\n",
      "[INFO][2022/08/08 05:45:17 PM]  - Timing (Bayesian updates: 179.34ms, Linking: 6.38ms)\n",
      "[INFO][2022/08/08 05:45:17 PM]  - Probabilities (Link: 0.94544, Lost: 1.00000)\n",
      "[INFO][2022/08/08 05:45:17 PM]  - Stats (Active: 1721, Lost: 105261, Conflicts resolved: 3564)\n",
      "[INFO][2022/08/08 05:45:17 PM] Tracking objects in frames 50 to 74 (of 75)...\n",
      "[INFO][2022/08/08 05:45:18 PM]  - Timing (Bayesian updates: 12.08ms, Linking: 1.03ms)\n",
      "[INFO][2022/08/08 05:45:18 PM]  - Probabilities (Link: 0.92668, Lost: 1.00000)\n",
      "[INFO][2022/08/08 05:45:18 PM] SUCCESS.\n",
      "[INFO][2022/08/08 05:45:18 PM]  - Found 17653 tracks in 75 frames (in 0.0s)\n",
      "[INFO][2022/08/08 05:45:18 PM]  - Inserted 23139 dummy objects to fill tracking gaps\n",
      "[INFO][2022/08/08 05:45:18 PM] Ending BayesianTracker session\n",
      "[INFO][2022/08/08 05:45:18 PM] Loaded btrack: /home/dayn/miniconda3/envs/aero/lib/python3.9/site-packages/btrack/libs/libtracker.so\n",
      "[INFO][2022/08/08 05:45:18 PM] btrack (v0.4.5) library imported\n",
      "[INFO][2022/08/08 05:45:18 PM] Starting BayesianTracker session\n",
      "[INFO][2022/08/08 05:45:18 PM] Loading configuration file: /home/dayn/analysis/BayesianTracker/models/param_test_config_hypo.json\n",
      "[INFO][2022/08/08 05:45:18 PM] Setting max_search_radius -> 500\n",
      "[INFO][2022/08/08 05:45:18 PM] Setting features -> ['area', 'major_axis_length', 'minor_axis_length', 'orientation', 'solidity', 'mean_intensity']\n",
      "[INFO][2022/08/08 05:45:18 PM] Objects are of type: <class 'list'>\n",
      "[INFO][2022/08/08 05:45:18 PM] Setting volume -> ((0, 6048), (0, 6048), (-100000.0, 100000.0))\n",
      "[INFO][2022/08/08 05:45:18 PM] Starting tracking... \n"
     ]
    },
    {
     "name": "stdout",
     "output_type": "stream",
     "text": [
      "(1, 3, 300, 5, 40) 3.2823316150229425\n"
     ]
    },
    {
     "name": "stderr",
     "output_type": "stream",
     "text": [
      "[INFO][2022/08/08 05:45:19 PM] Tracking objects in frames 0 to 24 (of 75)...\n",
      "[INFO][2022/08/08 05:45:33 PM]  - Timing (Bayesian updates: 515.78ms, Linking: 11.24ms)\n",
      "[INFO][2022/08/08 05:45:33 PM]  - Probabilities (Link: 0.97446, Lost: 1.00000)\n",
      "[INFO][2022/08/08 05:45:33 PM]  - Stats (Active: 2550, Lost: 51737, Conflicts resolved: 1956)\n",
      "[INFO][2022/08/08 05:45:33 PM] Tracking objects in frames 25 to 49 (of 75)...\n",
      "[INFO][2022/08/08 05:45:44 PM]  - Timing (Bayesian updates: 179.40ms, Linking: 6.05ms)\n",
      "[INFO][2022/08/08 05:45:44 PM]  - Probabilities (Link: 0.94544, Lost: 1.00000)\n",
      "[INFO][2022/08/08 05:45:44 PM]  - Stats (Active: 1721, Lost: 105261, Conflicts resolved: 3564)\n",
      "[INFO][2022/08/08 05:45:44 PM] Tracking objects in frames 50 to 74 (of 75)...\n",
      "[INFO][2022/08/08 05:45:45 PM]  - Timing (Bayesian updates: 12.11ms, Linking: 1.07ms)\n",
      "[INFO][2022/08/08 05:45:45 PM]  - Probabilities (Link: 0.92668, Lost: 1.00000)\n",
      "[INFO][2022/08/08 05:45:45 PM] SUCCESS.\n",
      "[INFO][2022/08/08 05:45:45 PM]  - Found 17653 tracks in 75 frames (in 0.0s)\n",
      "[INFO][2022/08/08 05:45:45 PM]  - Inserted 23139 dummy objects to fill tracking gaps\n",
      "[INFO][2022/08/08 05:45:45 PM] Ending BayesianTracker session\n",
      "[INFO][2022/08/08 05:45:46 PM] Loaded btrack: /home/dayn/miniconda3/envs/aero/lib/python3.9/site-packages/btrack/libs/libtracker.so\n",
      "[INFO][2022/08/08 05:45:46 PM] btrack (v0.4.5) library imported\n",
      "[INFO][2022/08/08 05:45:46 PM] Starting BayesianTracker session\n",
      "[INFO][2022/08/08 05:45:46 PM] Loading configuration file: /home/dayn/analysis/BayesianTracker/models/param_test_config_hypo.json\n",
      "[INFO][2022/08/08 05:45:46 PM] Setting max_search_radius -> 500\n",
      "[INFO][2022/08/08 05:45:46 PM] Setting features -> ['area', 'major_axis_length', 'minor_axis_length', 'orientation', 'solidity', 'mean_intensity']\n",
      "[INFO][2022/08/08 05:45:46 PM] Objects are of type: <class 'list'>\n"
     ]
    },
    {
     "name": "stdout",
     "output_type": "stream",
     "text": [
      "(1, 3, 300, 5, 80) 3.2823316150229425\n"
     ]
    },
    {
     "name": "stderr",
     "output_type": "stream",
     "text": [
      "[INFO][2022/08/08 05:45:46 PM] Setting volume -> ((0, 6048), (0, 6048), (-100000.0, 100000.0))\n",
      "[INFO][2022/08/08 05:45:46 PM] Starting tracking... \n",
      "[INFO][2022/08/08 05:45:46 PM] Tracking objects in frames 0 to 24 (of 75)...\n",
      "[INFO][2022/08/08 05:45:59 PM]  - Timing (Bayesian updates: 517.78ms, Linking: 11.23ms)\n",
      "[INFO][2022/08/08 05:45:59 PM]  - Probabilities (Link: 0.97446, Lost: 1.00000)\n",
      "[INFO][2022/08/08 05:45:59 PM]  - Stats (Active: 2550, Lost: 51737, Conflicts resolved: 1956)\n",
      "[INFO][2022/08/08 05:45:59 PM] Tracking objects in frames 25 to 49 (of 75)...\n",
      "[INFO][2022/08/08 05:46:10 PM]  - Timing (Bayesian updates: 178.38ms, Linking: 5.50ms)\n",
      "[INFO][2022/08/08 05:46:10 PM]  - Probabilities (Link: 0.94544, Lost: 1.00000)\n",
      "[INFO][2022/08/08 05:46:10 PM]  - Stats (Active: 1721, Lost: 105261, Conflicts resolved: 3564)\n",
      "[INFO][2022/08/08 05:46:10 PM] Tracking objects in frames 50 to 74 (of 75)...\n",
      "[INFO][2022/08/08 05:46:11 PM]  - Timing (Bayesian updates: 11.92ms, Linking: 1.04ms)\n",
      "[INFO][2022/08/08 05:46:11 PM]  - Probabilities (Link: 0.92668, Lost: 1.00000)\n",
      "[INFO][2022/08/08 05:46:11 PM] SUCCESS.\n",
      "[INFO][2022/08/08 05:46:11 PM]  - Found 17653 tracks in 75 frames (in 0.0s)\n",
      "[INFO][2022/08/08 05:46:12 PM]  - Inserted 23139 dummy objects to fill tracking gaps\n",
      "[INFO][2022/08/08 05:46:12 PM] Ending BayesianTracker session\n",
      "[INFO][2022/08/08 05:46:12 PM] Loaded btrack: /home/dayn/miniconda3/envs/aero/lib/python3.9/site-packages/btrack/libs/libtracker.so\n",
      "[INFO][2022/08/08 05:46:12 PM] btrack (v0.4.5) library imported\n",
      "[INFO][2022/08/08 05:46:12 PM] Starting BayesianTracker session\n",
      "[INFO][2022/08/08 05:46:12 PM] Loading configuration file: /home/dayn/analysis/BayesianTracker/models/param_test_config_hypo.json\n",
      "[INFO][2022/08/08 05:46:12 PM] Setting max_search_radius -> 500\n",
      "[INFO][2022/08/08 05:46:12 PM] Setting features -> ['area', 'major_axis_length', 'minor_axis_length', 'orientation', 'solidity', 'mean_intensity']\n",
      "[INFO][2022/08/08 05:46:12 PM] Objects are of type: <class 'list'>\n"
     ]
    },
    {
     "name": "stdout",
     "output_type": "stream",
     "text": [
      "(1, 3, 300, 5, 160) 3.2823316150229425\n"
     ]
    },
    {
     "name": "stderr",
     "output_type": "stream",
     "text": [
      "[INFO][2022/08/08 05:46:12 PM] Setting volume -> ((0, 6048), (0, 6048), (-100000.0, 100000.0))\n",
      "[INFO][2022/08/08 05:46:12 PM] Starting tracking... \n",
      "[INFO][2022/08/08 05:46:13 PM] Tracking objects in frames 0 to 24 (of 75)...\n",
      "[INFO][2022/08/08 05:46:26 PM]  - Timing (Bayesian updates: 517.32ms, Linking: 11.08ms)\n",
      "[INFO][2022/08/08 05:46:26 PM]  - Probabilities (Link: 0.97446, Lost: 1.00000)\n",
      "[INFO][2022/08/08 05:46:26 PM]  - Stats (Active: 2550, Lost: 51737, Conflicts resolved: 1956)\n",
      "[INFO][2022/08/08 05:46:26 PM] Tracking objects in frames 25 to 49 (of 75)...\n",
      "[INFO][2022/08/08 05:46:37 PM]  - Timing (Bayesian updates: 179.37ms, Linking: 5.98ms)\n",
      "[INFO][2022/08/08 05:46:37 PM]  - Probabilities (Link: 0.94544, Lost: 1.00000)\n",
      "[INFO][2022/08/08 05:46:37 PM]  - Stats (Active: 1721, Lost: 105261, Conflicts resolved: 3564)\n",
      "[INFO][2022/08/08 05:46:37 PM] Tracking objects in frames 50 to 74 (of 75)...\n",
      "[INFO][2022/08/08 05:46:38 PM]  - Timing (Bayesian updates: 12.26ms, Linking: 1.05ms)\n",
      "[INFO][2022/08/08 05:46:38 PM]  - Probabilities (Link: 0.92668, Lost: 1.00000)\n",
      "[INFO][2022/08/08 05:46:38 PM] SUCCESS.\n",
      "[INFO][2022/08/08 05:46:38 PM]  - Found 17653 tracks in 75 frames (in 0.0s)\n",
      "[INFO][2022/08/08 05:46:38 PM]  - Inserted 23139 dummy objects to fill tracking gaps\n",
      "[INFO][2022/08/08 05:46:38 PM] Ending BayesianTracker session\n",
      "[INFO][2022/08/08 05:46:39 PM] Loaded btrack: /home/dayn/miniconda3/envs/aero/lib/python3.9/site-packages/btrack/libs/libtracker.so\n",
      "[INFO][2022/08/08 05:46:39 PM] btrack (v0.4.5) library imported\n",
      "[INFO][2022/08/08 05:46:39 PM] Starting BayesianTracker session\n",
      "[INFO][2022/08/08 05:46:39 PM] Loading configuration file: /home/dayn/analysis/BayesianTracker/models/param_test_config_hypo.json\n",
      "[INFO][2022/08/08 05:46:39 PM] Setting max_search_radius -> 500\n",
      "[INFO][2022/08/08 05:46:39 PM] Setting features -> ['area', 'major_axis_length', 'minor_axis_length', 'orientation', 'solidity', 'mean_intensity']\n",
      "[INFO][2022/08/08 05:46:39 PM] Objects are of type: <class 'list'>\n",
      "[INFO][2022/08/08 05:46:39 PM] Setting volume -> ((0, 6048), (0, 6048), (-100000.0, 100000.0))\n",
      "[INFO][2022/08/08 05:46:39 PM] Starting tracking... \n"
     ]
    },
    {
     "name": "stdout",
     "output_type": "stream",
     "text": [
      "(1, 3, 300, 20, 40) 3.2823316150229425\n"
     ]
    },
    {
     "name": "stderr",
     "output_type": "stream",
     "text": [
      "[INFO][2022/08/08 05:46:39 PM] Tracking objects in frames 0 to 24 (of 75)...\n",
      "[INFO][2022/08/08 05:46:53 PM]  - Timing (Bayesian updates: 517.10ms, Linking: 11.96ms)\n",
      "[INFO][2022/08/08 05:46:53 PM]  - Probabilities (Link: 0.97446, Lost: 1.00000)\n",
      "[INFO][2022/08/08 05:46:53 PM]  - Stats (Active: 2550, Lost: 51737, Conflicts resolved: 1956)\n",
      "[INFO][2022/08/08 05:46:53 PM] Tracking objects in frames 25 to 49 (of 75)...\n",
      "[INFO][2022/08/08 05:47:05 PM]  - Timing (Bayesian updates: 180.57ms, Linking: 5.52ms)\n",
      "[INFO][2022/08/08 05:47:05 PM]  - Probabilities (Link: 0.94544, Lost: 1.00000)\n",
      "[INFO][2022/08/08 05:47:05 PM]  - Stats (Active: 1721, Lost: 105261, Conflicts resolved: 3564)\n",
      "[INFO][2022/08/08 05:47:05 PM] Tracking objects in frames 50 to 74 (of 75)...\n",
      "[INFO][2022/08/08 05:47:06 PM]  - Timing (Bayesian updates: 11.82ms, Linking: 1.10ms)\n",
      "[INFO][2022/08/08 05:47:06 PM]  - Probabilities (Link: 0.92668, Lost: 1.00000)\n",
      "[INFO][2022/08/08 05:47:06 PM] SUCCESS.\n",
      "[INFO][2022/08/08 05:47:06 PM]  - Found 17653 tracks in 75 frames (in 0.0s)\n",
      "[INFO][2022/08/08 05:47:06 PM]  - Inserted 23139 dummy objects to fill tracking gaps\n",
      "[INFO][2022/08/08 05:47:07 PM] Ending BayesianTracker session\n",
      "[INFO][2022/08/08 05:47:07 PM] Loaded btrack: /home/dayn/miniconda3/envs/aero/lib/python3.9/site-packages/btrack/libs/libtracker.so\n",
      "[INFO][2022/08/08 05:47:07 PM] btrack (v0.4.5) library imported\n",
      "[INFO][2022/08/08 05:47:07 PM] Starting BayesianTracker session\n",
      "[INFO][2022/08/08 05:47:07 PM] Loading configuration file: /home/dayn/analysis/BayesianTracker/models/param_test_config_hypo.json\n",
      "[INFO][2022/08/08 05:47:07 PM] Setting max_search_radius -> 500\n",
      "[INFO][2022/08/08 05:47:07 PM] Setting features -> ['area', 'major_axis_length', 'minor_axis_length', 'orientation', 'solidity', 'mean_intensity']\n",
      "[INFO][2022/08/08 05:47:07 PM] Objects are of type: <class 'list'>\n",
      "[INFO][2022/08/08 05:47:07 PM] Setting volume -> ((0, 6048), (0, 6048), (-100000.0, 100000.0))\n",
      "[INFO][2022/08/08 05:47:07 PM] Starting tracking... \n"
     ]
    },
    {
     "name": "stdout",
     "output_type": "stream",
     "text": [
      "(1, 3, 300, 20, 80) 3.2823316150229425\n"
     ]
    },
    {
     "name": "stderr",
     "output_type": "stream",
     "text": [
      "[INFO][2022/08/08 05:47:07 PM] Tracking objects in frames 0 to 24 (of 75)...\n",
      "[INFO][2022/08/08 05:47:20 PM]  - Timing (Bayesian updates: 516.26ms, Linking: 11.65ms)\n",
      "[INFO][2022/08/08 05:47:20 PM]  - Probabilities (Link: 0.97446, Lost: 1.00000)\n",
      "[INFO][2022/08/08 05:47:20 PM]  - Stats (Active: 2550, Lost: 51737, Conflicts resolved: 1956)\n",
      "[INFO][2022/08/08 05:47:20 PM] Tracking objects in frames 25 to 49 (of 75)...\n",
      "[INFO][2022/08/08 05:47:31 PM]  - Timing (Bayesian updates: 179.24ms, Linking: 5.52ms)\n",
      "[INFO][2022/08/08 05:47:31 PM]  - Probabilities (Link: 0.94544, Lost: 1.00000)\n",
      "[INFO][2022/08/08 05:47:31 PM]  - Stats (Active: 1721, Lost: 105261, Conflicts resolved: 3564)\n",
      "[INFO][2022/08/08 05:47:31 PM] Tracking objects in frames 50 to 74 (of 75)...\n",
      "[INFO][2022/08/08 05:47:32 PM]  - Timing (Bayesian updates: 11.90ms, Linking: 1.02ms)\n",
      "[INFO][2022/08/08 05:47:32 PM]  - Probabilities (Link: 0.92668, Lost: 1.00000)\n",
      "[INFO][2022/08/08 05:47:32 PM] SUCCESS.\n",
      "[INFO][2022/08/08 05:47:32 PM]  - Found 17653 tracks in 75 frames (in 0.0s)\n",
      "[INFO][2022/08/08 05:47:33 PM]  - Inserted 23139 dummy objects to fill tracking gaps\n",
      "[INFO][2022/08/08 05:47:33 PM] Ending BayesianTracker session\n",
      "[INFO][2022/08/08 05:47:33 PM] Loaded btrack: /home/dayn/miniconda3/envs/aero/lib/python3.9/site-packages/btrack/libs/libtracker.so\n",
      "[INFO][2022/08/08 05:47:33 PM] btrack (v0.4.5) library imported\n",
      "[INFO][2022/08/08 05:47:33 PM] Starting BayesianTracker session\n",
      "[INFO][2022/08/08 05:47:33 PM] Loading configuration file: /home/dayn/analysis/BayesianTracker/models/param_test_config_hypo.json\n",
      "[INFO][2022/08/08 05:47:33 PM] Setting max_search_radius -> 500\n",
      "[INFO][2022/08/08 05:47:33 PM] Setting features -> ['area', 'major_axis_length', 'minor_axis_length', 'orientation', 'solidity', 'mean_intensity']\n",
      "[INFO][2022/08/08 05:47:33 PM] Objects are of type: <class 'list'>\n"
     ]
    },
    {
     "name": "stdout",
     "output_type": "stream",
     "text": [
      "(1, 3, 300, 20, 160) 3.2823316150229425\n"
     ]
    },
    {
     "name": "stderr",
     "output_type": "stream",
     "text": [
      "[INFO][2022/08/08 05:47:33 PM] Setting volume -> ((0, 6048), (0, 6048), (-100000.0, 100000.0))\n",
      "[INFO][2022/08/08 05:47:33 PM] Starting tracking... \n",
      "[INFO][2022/08/08 05:47:34 PM] Tracking objects in frames 0 to 24 (of 75)...\n",
      "[INFO][2022/08/08 05:47:47 PM]  - Timing (Bayesian updates: 516.35ms, Linking: 11.80ms)\n",
      "[INFO][2022/08/08 05:47:47 PM]  - Probabilities (Link: 0.97446, Lost: 1.00000)\n",
      "[INFO][2022/08/08 05:47:47 PM]  - Stats (Active: 2550, Lost: 51737, Conflicts resolved: 1956)\n",
      "[INFO][2022/08/08 05:47:47 PM] Tracking objects in frames 25 to 49 (of 75)...\n",
      "[INFO][2022/08/08 05:47:58 PM]  - Timing (Bayesian updates: 180.04ms, Linking: 5.42ms)\n",
      "[INFO][2022/08/08 05:47:58 PM]  - Probabilities (Link: 0.94544, Lost: 1.00000)\n",
      "[INFO][2022/08/08 05:47:58 PM]  - Stats (Active: 1721, Lost: 105261, Conflicts resolved: 3564)\n",
      "[INFO][2022/08/08 05:47:58 PM] Tracking objects in frames 50 to 74 (of 75)...\n",
      "[INFO][2022/08/08 05:47:59 PM]  - Timing (Bayesian updates: 11.85ms, Linking: 1.03ms)\n",
      "[INFO][2022/08/08 05:47:59 PM]  - Probabilities (Link: 0.92668, Lost: 1.00000)\n",
      "[INFO][2022/08/08 05:47:59 PM] SUCCESS.\n",
      "[INFO][2022/08/08 05:47:59 PM]  - Found 17653 tracks in 75 frames (in 0.0s)\n",
      "[INFO][2022/08/08 05:47:59 PM]  - Inserted 23139 dummy objects to fill tracking gaps\n",
      "[INFO][2022/08/08 05:48:00 PM] Ending BayesianTracker session\n",
      "[INFO][2022/08/08 05:48:00 PM] Loaded btrack: /home/dayn/miniconda3/envs/aero/lib/python3.9/site-packages/btrack/libs/libtracker.so\n",
      "[INFO][2022/08/08 05:48:00 PM] btrack (v0.4.5) library imported\n",
      "[INFO][2022/08/08 05:48:00 PM] Starting BayesianTracker session\n",
      "[INFO][2022/08/08 05:48:00 PM] Loading configuration file: /home/dayn/analysis/BayesianTracker/models/param_test_config_hypo.json\n",
      "[INFO][2022/08/08 05:48:00 PM] Setting max_search_radius -> 500\n",
      "[INFO][2022/08/08 05:48:00 PM] Setting features -> ['area', 'major_axis_length', 'minor_axis_length', 'orientation', 'solidity', 'mean_intensity']\n",
      "[INFO][2022/08/08 05:48:00 PM] Objects are of type: <class 'list'>\n"
     ]
    },
    {
     "name": "stdout",
     "output_type": "stream",
     "text": [
      "(1, 3, 300, 100, 40) 3.2823316150229425\n"
     ]
    },
    {
     "name": "stderr",
     "output_type": "stream",
     "text": [
      "[INFO][2022/08/08 05:48:00 PM] Setting volume -> ((0, 6048), (0, 6048), (-100000.0, 100000.0))\n",
      "[INFO][2022/08/08 05:48:00 PM] Starting tracking... \n",
      "[INFO][2022/08/08 05:48:00 PM] Tracking objects in frames 0 to 24 (of 75)...\n",
      "[INFO][2022/08/08 05:48:13 PM]  - Timing (Bayesian updates: 518.03ms, Linking: 12.03ms)\n",
      "[INFO][2022/08/08 05:48:13 PM]  - Probabilities (Link: 0.97446, Lost: 1.00000)\n",
      "[INFO][2022/08/08 05:48:13 PM]  - Stats (Active: 2550, Lost: 51737, Conflicts resolved: 1956)\n",
      "[INFO][2022/08/08 05:48:13 PM] Tracking objects in frames 25 to 49 (of 75)...\n",
      "[INFO][2022/08/08 05:48:24 PM]  - Timing (Bayesian updates: 179.45ms, Linking: 5.86ms)\n",
      "[INFO][2022/08/08 05:48:24 PM]  - Probabilities (Link: 0.94544, Lost: 1.00000)\n",
      "[INFO][2022/08/08 05:48:24 PM]  - Stats (Active: 1721, Lost: 105261, Conflicts resolved: 3564)\n",
      "[INFO][2022/08/08 05:48:24 PM] Tracking objects in frames 50 to 74 (of 75)...\n",
      "[INFO][2022/08/08 05:48:25 PM]  - Timing (Bayesian updates: 11.90ms, Linking: 1.05ms)\n",
      "[INFO][2022/08/08 05:48:25 PM]  - Probabilities (Link: 0.92668, Lost: 1.00000)\n",
      "[INFO][2022/08/08 05:48:25 PM] SUCCESS.\n",
      "[INFO][2022/08/08 05:48:25 PM]  - Found 17653 tracks in 75 frames (in 0.0s)\n",
      "[INFO][2022/08/08 05:48:26 PM]  - Inserted 23139 dummy objects to fill tracking gaps\n",
      "[INFO][2022/08/08 05:48:26 PM] Ending BayesianTracker session\n",
      "[INFO][2022/08/08 05:48:26 PM] Loaded btrack: /home/dayn/miniconda3/envs/aero/lib/python3.9/site-packages/btrack/libs/libtracker.so\n",
      "[INFO][2022/08/08 05:48:26 PM] btrack (v0.4.5) library imported\n",
      "[INFO][2022/08/08 05:48:26 PM] Starting BayesianTracker session\n",
      "[INFO][2022/08/08 05:48:26 PM] Loading configuration file: /home/dayn/analysis/BayesianTracker/models/param_test_config_hypo.json\n",
      "[INFO][2022/08/08 05:48:26 PM] Setting max_search_radius -> 500\n",
      "[INFO][2022/08/08 05:48:26 PM] Setting features -> ['area', 'major_axis_length', 'minor_axis_length', 'orientation', 'solidity', 'mean_intensity']\n",
      "[INFO][2022/08/08 05:48:26 PM] Objects are of type: <class 'list'>\n"
     ]
    },
    {
     "name": "stdout",
     "output_type": "stream",
     "text": [
      "(1, 3, 300, 100, 80) 3.2823316150229425\n"
     ]
    },
    {
     "name": "stderr",
     "output_type": "stream",
     "text": [
      "[INFO][2022/08/08 05:48:26 PM] Setting volume -> ((0, 6048), (0, 6048), (-100000.0, 100000.0))\n",
      "[INFO][2022/08/08 05:48:26 PM] Starting tracking... \n",
      "[INFO][2022/08/08 05:48:27 PM] Tracking objects in frames 0 to 24 (of 75)...\n",
      "[INFO][2022/08/08 05:48:40 PM]  - Timing (Bayesian updates: 523.19ms, Linking: 11.90ms)\n",
      "[INFO][2022/08/08 05:48:40 PM]  - Probabilities (Link: 0.97446, Lost: 1.00000)\n",
      "[INFO][2022/08/08 05:48:40 PM]  - Stats (Active: 2550, Lost: 51737, Conflicts resolved: 1956)\n",
      "[INFO][2022/08/08 05:48:40 PM] Tracking objects in frames 25 to 49 (of 75)...\n",
      "[INFO][2022/08/08 05:48:51 PM]  - Timing (Bayesian updates: 179.23ms, Linking: 5.43ms)\n",
      "[INFO][2022/08/08 05:48:51 PM]  - Probabilities (Link: 0.94544, Lost: 1.00000)\n",
      "[INFO][2022/08/08 05:48:51 PM]  - Stats (Active: 1721, Lost: 105261, Conflicts resolved: 3564)\n",
      "[INFO][2022/08/08 05:48:51 PM] Tracking objects in frames 50 to 74 (of 75)...\n",
      "[INFO][2022/08/08 05:48:52 PM]  - Timing (Bayesian updates: 11.88ms, Linking: 1.09ms)\n",
      "[INFO][2022/08/08 05:48:52 PM]  - Probabilities (Link: 0.92668, Lost: 1.00000)\n",
      "[INFO][2022/08/08 05:48:52 PM] SUCCESS.\n",
      "[INFO][2022/08/08 05:48:52 PM]  - Found 17653 tracks in 75 frames (in 0.0s)\n",
      "[INFO][2022/08/08 05:48:53 PM]  - Inserted 23139 dummy objects to fill tracking gaps\n",
      "[INFO][2022/08/08 05:48:53 PM] Ending BayesianTracker session\n",
      "[INFO][2022/08/08 05:48:53 PM] Loaded btrack: /home/dayn/miniconda3/envs/aero/lib/python3.9/site-packages/btrack/libs/libtracker.so\n",
      "[INFO][2022/08/08 05:48:53 PM] btrack (v0.4.5) library imported\n",
      "[INFO][2022/08/08 05:48:53 PM] Starting BayesianTracker session\n",
      "[INFO][2022/08/08 05:48:53 PM] Loading configuration file: /home/dayn/analysis/BayesianTracker/models/param_test_config_hypo.json\n",
      "[INFO][2022/08/08 05:48:53 PM] Setting max_search_radius -> 500\n",
      "[INFO][2022/08/08 05:48:53 PM] Setting features -> ['area', 'major_axis_length', 'minor_axis_length', 'orientation', 'solidity', 'mean_intensity']\n",
      "[INFO][2022/08/08 05:48:53 PM] Objects are of type: <class 'list'>\n",
      "[INFO][2022/08/08 05:48:53 PM] Setting volume -> ((0, 6048), (0, 6048), (-100000.0, 100000.0))\n",
      "[INFO][2022/08/08 05:48:53 PM] Starting tracking... \n"
     ]
    },
    {
     "name": "stdout",
     "output_type": "stream",
     "text": [
      "(1, 3, 300, 100, 160) 3.2823316150229425\n"
     ]
    },
    {
     "name": "stderr",
     "output_type": "stream",
     "text": [
      "[INFO][2022/08/08 05:48:53 PM] Tracking objects in frames 0 to 24 (of 75)...\n",
      "[INFO][2022/08/08 05:49:07 PM]  - Timing (Bayesian updates: 516.65ms, Linking: 11.75ms)\n",
      "[INFO][2022/08/08 05:49:07 PM]  - Probabilities (Link: 0.97446, Lost: 1.00000)\n",
      "[INFO][2022/08/08 05:49:07 PM]  - Stats (Active: 2550, Lost: 51737, Conflicts resolved: 1956)\n",
      "[INFO][2022/08/08 05:49:07 PM] Tracking objects in frames 25 to 49 (of 75)...\n",
      "[INFO][2022/08/08 05:49:18 PM]  - Timing (Bayesian updates: 178.87ms, Linking: 5.32ms)\n",
      "[INFO][2022/08/08 05:49:18 PM]  - Probabilities (Link: 0.94544, Lost: 1.00000)\n",
      "[INFO][2022/08/08 05:49:18 PM]  - Stats (Active: 1721, Lost: 105261, Conflicts resolved: 3564)\n",
      "[INFO][2022/08/08 05:49:18 PM] Tracking objects in frames 50 to 74 (of 75)...\n",
      "[INFO][2022/08/08 05:49:19 PM]  - Timing (Bayesian updates: 11.80ms, Linking: 1.07ms)\n",
      "[INFO][2022/08/08 05:49:19 PM]  - Probabilities (Link: 0.92668, Lost: 1.00000)\n",
      "[INFO][2022/08/08 05:49:19 PM] SUCCESS.\n",
      "[INFO][2022/08/08 05:49:19 PM]  - Found 17653 tracks in 75 frames (in 0.0s)\n",
      "[INFO][2022/08/08 05:49:19 PM]  - Inserted 23139 dummy objects to fill tracking gaps\n",
      "[INFO][2022/08/08 05:49:19 PM] Ending BayesianTracker session\n",
      "[INFO][2022/08/08 05:49:19 PM] Loaded btrack: /home/dayn/miniconda3/envs/aero/lib/python3.9/site-packages/btrack/libs/libtracker.so\n",
      "[INFO][2022/08/08 05:49:19 PM] btrack (v0.4.5) library imported\n",
      "[INFO][2022/08/08 05:49:19 PM] Starting BayesianTracker session\n",
      "[INFO][2022/08/08 05:49:19 PM] Loading configuration file: /home/dayn/analysis/BayesianTracker/models/param_test_config_hypo.json\n",
      "[INFO][2022/08/08 05:49:19 PM] Setting max_search_radius -> 500\n",
      "[INFO][2022/08/08 05:49:19 PM] Setting features -> ['area', 'major_axis_length', 'minor_axis_length', 'orientation', 'solidity', 'mean_intensity']\n",
      "[INFO][2022/08/08 05:49:19 PM] Objects are of type: <class 'list'>\n"
     ]
    },
    {
     "name": "stdout",
     "output_type": "stream",
     "text": [
      "(1, 10, 50, 5, 40) 3.2823316150229425\n"
     ]
    },
    {
     "name": "stderr",
     "output_type": "stream",
     "text": [
      "[INFO][2022/08/08 05:49:19 PM] Setting volume -> ((0, 6048), (0, 6048), (-100000.0, 100000.0))\n",
      "[INFO][2022/08/08 05:49:19 PM] Starting tracking... \n",
      "[INFO][2022/08/08 05:49:20 PM] Tracking objects in frames 0 to 24 (of 75)...\n",
      "[INFO][2022/08/08 05:49:33 PM]  - Timing (Bayesian updates: 516.15ms, Linking: 11.72ms)\n",
      "[INFO][2022/08/08 05:49:33 PM]  - Probabilities (Link: 0.97446, Lost: 1.00000)\n",
      "[INFO][2022/08/08 05:49:33 PM]  - Stats (Active: 2550, Lost: 51737, Conflicts resolved: 1956)\n",
      "[INFO][2022/08/08 05:49:33 PM] Tracking objects in frames 25 to 49 (of 75)...\n",
      "[INFO][2022/08/08 05:49:44 PM]  - Timing (Bayesian updates: 178.67ms, Linking: 5.50ms)\n",
      "[INFO][2022/08/08 05:49:44 PM]  - Probabilities (Link: 0.94544, Lost: 1.00000)\n",
      "[INFO][2022/08/08 05:49:44 PM]  - Stats (Active: 1721, Lost: 105261, Conflicts resolved: 3564)\n",
      "[INFO][2022/08/08 05:49:44 PM] Tracking objects in frames 50 to 74 (of 75)...\n",
      "[INFO][2022/08/08 05:49:45 PM]  - Timing (Bayesian updates: 11.90ms, Linking: 1.07ms)\n",
      "[INFO][2022/08/08 05:49:45 PM]  - Probabilities (Link: 0.92668, Lost: 1.00000)\n",
      "[INFO][2022/08/08 05:49:45 PM] SUCCESS.\n",
      "[INFO][2022/08/08 05:49:45 PM]  - Found 17653 tracks in 75 frames (in 0.0s)\n",
      "[INFO][2022/08/08 05:49:45 PM]  - Inserted 23139 dummy objects to fill tracking gaps\n",
      "[INFO][2022/08/08 05:49:46 PM] Ending BayesianTracker session\n",
      "[INFO][2022/08/08 05:49:46 PM] Loaded btrack: /home/dayn/miniconda3/envs/aero/lib/python3.9/site-packages/btrack/libs/libtracker.so\n",
      "[INFO][2022/08/08 05:49:46 PM] btrack (v0.4.5) library imported\n",
      "[INFO][2022/08/08 05:49:46 PM] Starting BayesianTracker session\n",
      "[INFO][2022/08/08 05:49:46 PM] Loading configuration file: /home/dayn/analysis/BayesianTracker/models/param_test_config_hypo.json\n",
      "[INFO][2022/08/08 05:49:46 PM] Setting max_search_radius -> 500\n",
      "[INFO][2022/08/08 05:49:46 PM] Setting features -> ['area', 'major_axis_length', 'minor_axis_length', 'orientation', 'solidity', 'mean_intensity']\n",
      "[INFO][2022/08/08 05:49:46 PM] Objects are of type: <class 'list'>\n",
      "[INFO][2022/08/08 05:49:46 PM] Setting volume -> ((0, 6048), (0, 6048), (-100000.0, 100000.0))\n",
      "[INFO][2022/08/08 05:49:46 PM] Starting tracking... \n"
     ]
    },
    {
     "name": "stdout",
     "output_type": "stream",
     "text": [
      "(1, 10, 50, 5, 80) 3.2823316150229425\n"
     ]
    },
    {
     "name": "stderr",
     "output_type": "stream",
     "text": [
      "[INFO][2022/08/08 05:49:46 PM] Tracking objects in frames 0 to 24 (of 75)...\n",
      "[INFO][2022/08/08 05:49:59 PM]  - Timing (Bayesian updates: 515.59ms, Linking: 12.16ms)\n",
      "[INFO][2022/08/08 05:49:59 PM]  - Probabilities (Link: 0.97446, Lost: 1.00000)\n",
      "[INFO][2022/08/08 05:49:59 PM]  - Stats (Active: 2550, Lost: 51737, Conflicts resolved: 1956)\n",
      "[INFO][2022/08/08 05:49:59 PM] Tracking objects in frames 25 to 49 (of 75)...\n",
      "[INFO][2022/08/08 05:50:10 PM]  - Timing (Bayesian updates: 179.39ms, Linking: 5.58ms)\n",
      "[INFO][2022/08/08 05:50:10 PM]  - Probabilities (Link: 0.94544, Lost: 1.00000)\n",
      "[INFO][2022/08/08 05:50:10 PM]  - Stats (Active: 1721, Lost: 105261, Conflicts resolved: 3564)\n",
      "[INFO][2022/08/08 05:50:10 PM] Tracking objects in frames 50 to 74 (of 75)...\n",
      "[INFO][2022/08/08 05:50:11 PM]  - Timing (Bayesian updates: 11.75ms, Linking: 1.06ms)\n",
      "[INFO][2022/08/08 05:50:11 PM]  - Probabilities (Link: 0.92668, Lost: 1.00000)\n",
      "[INFO][2022/08/08 05:50:11 PM] SUCCESS.\n",
      "[INFO][2022/08/08 05:50:11 PM]  - Found 17653 tracks in 75 frames (in 0.0s)\n",
      "[INFO][2022/08/08 05:50:12 PM]  - Inserted 23139 dummy objects to fill tracking gaps\n",
      "[INFO][2022/08/08 05:50:12 PM] Ending BayesianTracker session\n",
      "[INFO][2022/08/08 05:50:12 PM] Loaded btrack: /home/dayn/miniconda3/envs/aero/lib/python3.9/site-packages/btrack/libs/libtracker.so\n",
      "[INFO][2022/08/08 05:50:12 PM] btrack (v0.4.5) library imported\n",
      "[INFO][2022/08/08 05:50:12 PM] Starting BayesianTracker session\n",
      "[INFO][2022/08/08 05:50:12 PM] Loading configuration file: /home/dayn/analysis/BayesianTracker/models/param_test_config_hypo.json\n",
      "[INFO][2022/08/08 05:50:12 PM] Setting max_search_radius -> 500\n",
      "[INFO][2022/08/08 05:50:12 PM] Setting features -> ['area', 'major_axis_length', 'minor_axis_length', 'orientation', 'solidity', 'mean_intensity']\n",
      "[INFO][2022/08/08 05:50:12 PM] Objects are of type: <class 'list'>\n"
     ]
    },
    {
     "name": "stdout",
     "output_type": "stream",
     "text": [
      "(1, 10, 50, 5, 160) 3.2823316150229425\n"
     ]
    },
    {
     "name": "stderr",
     "output_type": "stream",
     "text": [
      "[INFO][2022/08/08 05:50:12 PM] Setting volume -> ((0, 6048), (0, 6048), (-100000.0, 100000.0))\n",
      "[INFO][2022/08/08 05:50:12 PM] Starting tracking... \n",
      "[INFO][2022/08/08 05:50:12 PM] Tracking objects in frames 0 to 24 (of 75)...\n",
      "[INFO][2022/08/08 05:50:25 PM]  - Timing (Bayesian updates: 520.63ms, Linking: 11.80ms)\n",
      "[INFO][2022/08/08 05:50:25 PM]  - Probabilities (Link: 0.97446, Lost: 1.00000)\n",
      "[INFO][2022/08/08 05:50:25 PM]  - Stats (Active: 2550, Lost: 51737, Conflicts resolved: 1956)\n",
      "[INFO][2022/08/08 05:50:25 PM] Tracking objects in frames 25 to 49 (of 75)...\n",
      "[INFO][2022/08/08 05:50:36 PM]  - Timing (Bayesian updates: 179.67ms, Linking: 6.14ms)\n",
      "[INFO][2022/08/08 05:50:36 PM]  - Probabilities (Link: 0.94544, Lost: 1.00000)\n",
      "[INFO][2022/08/08 05:50:36 PM]  - Stats (Active: 1721, Lost: 105261, Conflicts resolved: 3564)\n",
      "[INFO][2022/08/08 05:50:36 PM] Tracking objects in frames 50 to 74 (of 75)...\n",
      "[INFO][2022/08/08 05:50:38 PM]  - Timing (Bayesian updates: 11.61ms, Linking: 1.05ms)\n",
      "[INFO][2022/08/08 05:50:38 PM]  - Probabilities (Link: 0.92668, Lost: 1.00000)\n",
      "[INFO][2022/08/08 05:50:38 PM] SUCCESS.\n",
      "[INFO][2022/08/08 05:50:38 PM]  - Found 17653 tracks in 75 frames (in 0.0s)\n",
      "[INFO][2022/08/08 05:50:38 PM]  - Inserted 23139 dummy objects to fill tracking gaps\n",
      "[INFO][2022/08/08 05:50:38 PM] Ending BayesianTracker session\n",
      "[INFO][2022/08/08 05:50:38 PM] Loaded btrack: /home/dayn/miniconda3/envs/aero/lib/python3.9/site-packages/btrack/libs/libtracker.so\n",
      "[INFO][2022/08/08 05:50:38 PM] btrack (v0.4.5) library imported\n",
      "[INFO][2022/08/08 05:50:38 PM] Starting BayesianTracker session\n",
      "[INFO][2022/08/08 05:50:38 PM] Loading configuration file: /home/dayn/analysis/BayesianTracker/models/param_test_config_hypo.json\n",
      "[INFO][2022/08/08 05:50:38 PM] Setting max_search_radius -> 500\n",
      "[INFO][2022/08/08 05:50:38 PM] Setting features -> ['area', 'major_axis_length', 'minor_axis_length', 'orientation', 'solidity', 'mean_intensity']\n",
      "[INFO][2022/08/08 05:50:38 PM] Objects are of type: <class 'list'>\n",
      "[INFO][2022/08/08 05:50:39 PM] Setting volume -> ((0, 6048), (0, 6048), (-100000.0, 100000.0))\n",
      "[INFO][2022/08/08 05:50:39 PM] Starting tracking... \n"
     ]
    },
    {
     "name": "stdout",
     "output_type": "stream",
     "text": [
      "(1, 10, 50, 20, 40) 3.2823316150229425\n"
     ]
    },
    {
     "name": "stderr",
     "output_type": "stream",
     "text": [
      "[INFO][2022/08/08 05:50:39 PM] Tracking objects in frames 0 to 24 (of 75)...\n",
      "[INFO][2022/08/08 05:50:52 PM]  - Timing (Bayesian updates: 516.49ms, Linking: 11.80ms)\n",
      "[INFO][2022/08/08 05:50:52 PM]  - Probabilities (Link: 0.97446, Lost: 1.00000)\n",
      "[INFO][2022/08/08 05:50:52 PM]  - Stats (Active: 2550, Lost: 51737, Conflicts resolved: 1956)\n",
      "[INFO][2022/08/08 05:50:52 PM] Tracking objects in frames 25 to 49 (of 75)...\n",
      "[INFO][2022/08/08 05:51:03 PM]  - Timing (Bayesian updates: 178.85ms, Linking: 5.83ms)\n",
      "[INFO][2022/08/08 05:51:03 PM]  - Probabilities (Link: 0.94544, Lost: 1.00000)\n",
      "[INFO][2022/08/08 05:51:03 PM]  - Stats (Active: 1721, Lost: 105261, Conflicts resolved: 3564)\n",
      "[INFO][2022/08/08 05:51:03 PM] Tracking objects in frames 50 to 74 (of 75)...\n",
      "[INFO][2022/08/08 05:51:04 PM]  - Timing (Bayesian updates: 12.33ms, Linking: 1.03ms)\n",
      "[INFO][2022/08/08 05:51:04 PM]  - Probabilities (Link: 0.92668, Lost: 1.00000)\n",
      "[INFO][2022/08/08 05:51:04 PM] SUCCESS.\n",
      "[INFO][2022/08/08 05:51:04 PM]  - Found 17653 tracks in 75 frames (in 0.0s)\n",
      "[INFO][2022/08/08 05:51:04 PM]  - Inserted 23139 dummy objects to fill tracking gaps\n",
      "[INFO][2022/08/08 05:51:05 PM] Ending BayesianTracker session\n",
      "[INFO][2022/08/08 05:51:05 PM] Loaded btrack: /home/dayn/miniconda3/envs/aero/lib/python3.9/site-packages/btrack/libs/libtracker.so\n",
      "[INFO][2022/08/08 05:51:05 PM] btrack (v0.4.5) library imported\n",
      "[INFO][2022/08/08 05:51:05 PM] Starting BayesianTracker session\n",
      "[INFO][2022/08/08 05:51:05 PM] Loading configuration file: /home/dayn/analysis/BayesianTracker/models/param_test_config_hypo.json\n",
      "[INFO][2022/08/08 05:51:05 PM] Setting max_search_radius -> 500\n",
      "[INFO][2022/08/08 05:51:05 PM] Setting features -> ['area', 'major_axis_length', 'minor_axis_length', 'orientation', 'solidity', 'mean_intensity']\n",
      "[INFO][2022/08/08 05:51:05 PM] Objects are of type: <class 'list'>\n"
     ]
    },
    {
     "name": "stdout",
     "output_type": "stream",
     "text": [
      "(1, 10, 50, 20, 80) 3.2823316150229425\n"
     ]
    },
    {
     "name": "stderr",
     "output_type": "stream",
     "text": [
      "[INFO][2022/08/08 05:51:05 PM] Setting volume -> ((0, 6048), (0, 6048), (-100000.0, 100000.0))\n",
      "[INFO][2022/08/08 05:51:05 PM] Starting tracking... \n",
      "[INFO][2022/08/08 05:51:05 PM] Tracking objects in frames 0 to 24 (of 75)...\n",
      "[INFO][2022/08/08 05:51:19 PM]  - Timing (Bayesian updates: 516.00ms, Linking: 11.88ms)\n",
      "[INFO][2022/08/08 05:51:19 PM]  - Probabilities (Link: 0.97446, Lost: 1.00000)\n",
      "[INFO][2022/08/08 05:51:19 PM]  - Stats (Active: 2550, Lost: 51737, Conflicts resolved: 1956)\n",
      "[INFO][2022/08/08 05:51:19 PM] Tracking objects in frames 25 to 49 (of 75)...\n",
      "[INFO][2022/08/08 05:51:30 PM]  - Timing (Bayesian updates: 179.18ms, Linking: 5.58ms)\n",
      "[INFO][2022/08/08 05:51:30 PM]  - Probabilities (Link: 0.94544, Lost: 1.00000)\n",
      "[INFO][2022/08/08 05:51:30 PM]  - Stats (Active: 1721, Lost: 105261, Conflicts resolved: 3564)\n",
      "[INFO][2022/08/08 05:51:30 PM] Tracking objects in frames 50 to 74 (of 75)...\n",
      "[INFO][2022/08/08 05:51:31 PM]  - Timing (Bayesian updates: 11.81ms, Linking: 1.02ms)\n",
      "[INFO][2022/08/08 05:51:31 PM]  - Probabilities (Link: 0.92668, Lost: 1.00000)\n",
      "[INFO][2022/08/08 05:51:31 PM] SUCCESS.\n",
      "[INFO][2022/08/08 05:51:31 PM]  - Found 17653 tracks in 75 frames (in 0.0s)\n",
      "[INFO][2022/08/08 05:51:31 PM]  - Inserted 23139 dummy objects to fill tracking gaps\n",
      "[INFO][2022/08/08 05:51:32 PM] Ending BayesianTracker session\n",
      "[INFO][2022/08/08 05:51:32 PM] Loaded btrack: /home/dayn/miniconda3/envs/aero/lib/python3.9/site-packages/btrack/libs/libtracker.so\n",
      "[INFO][2022/08/08 05:51:32 PM] btrack (v0.4.5) library imported\n",
      "[INFO][2022/08/08 05:51:32 PM] Starting BayesianTracker session\n",
      "[INFO][2022/08/08 05:51:32 PM] Loading configuration file: /home/dayn/analysis/BayesianTracker/models/param_test_config_hypo.json\n",
      "[INFO][2022/08/08 05:51:32 PM] Setting max_search_radius -> 500\n",
      "[INFO][2022/08/08 05:51:32 PM] Setting features -> ['area', 'major_axis_length', 'minor_axis_length', 'orientation', 'solidity', 'mean_intensity']\n",
      "[INFO][2022/08/08 05:51:32 PM] Objects are of type: <class 'list'>\n"
     ]
    },
    {
     "name": "stdout",
     "output_type": "stream",
     "text": [
      "(1, 10, 50, 20, 160) 3.2823316150229425\n"
     ]
    },
    {
     "name": "stderr",
     "output_type": "stream",
     "text": [
      "[INFO][2022/08/08 05:51:32 PM] Setting volume -> ((0, 6048), (0, 6048), (-100000.0, 100000.0))\n",
      "[INFO][2022/08/08 05:51:32 PM] Starting tracking... \n",
      "[INFO][2022/08/08 05:51:32 PM] Tracking objects in frames 0 to 24 (of 75)...\n",
      "[INFO][2022/08/08 05:51:45 PM]  - Timing (Bayesian updates: 517.12ms, Linking: 11.72ms)\n",
      "[INFO][2022/08/08 05:51:45 PM]  - Probabilities (Link: 0.97446, Lost: 1.00000)\n",
      "[INFO][2022/08/08 05:51:45 PM]  - Stats (Active: 2550, Lost: 51737, Conflicts resolved: 1956)\n",
      "[INFO][2022/08/08 05:51:45 PM] Tracking objects in frames 25 to 49 (of 75)...\n",
      "[INFO][2022/08/08 05:51:57 PM]  - Timing (Bayesian updates: 179.01ms, Linking: 5.52ms)\n",
      "[INFO][2022/08/08 05:51:57 PM]  - Probabilities (Link: 0.94544, Lost: 1.00000)\n",
      "[INFO][2022/08/08 05:51:57 PM]  - Stats (Active: 1721, Lost: 105261, Conflicts resolved: 3564)\n",
      "[INFO][2022/08/08 05:51:57 PM] Tracking objects in frames 50 to 74 (of 75)...\n",
      "[INFO][2022/08/08 05:51:58 PM]  - Timing (Bayesian updates: 12.06ms, Linking: 1.05ms)\n",
      "[INFO][2022/08/08 05:51:58 PM]  - Probabilities (Link: 0.92668, Lost: 1.00000)\n",
      "[INFO][2022/08/08 05:51:58 PM] SUCCESS.\n",
      "[INFO][2022/08/08 05:51:58 PM]  - Found 17653 tracks in 75 frames (in 0.0s)\n",
      "[INFO][2022/08/08 05:51:58 PM]  - Inserted 23139 dummy objects to fill tracking gaps\n",
      "[INFO][2022/08/08 05:51:58 PM] Ending BayesianTracker session\n",
      "[INFO][2022/08/08 05:51:58 PM] Loaded btrack: /home/dayn/miniconda3/envs/aero/lib/python3.9/site-packages/btrack/libs/libtracker.so\n",
      "[INFO][2022/08/08 05:51:58 PM] btrack (v0.4.5) library imported\n",
      "[INFO][2022/08/08 05:51:58 PM] Starting BayesianTracker session\n",
      "[INFO][2022/08/08 05:51:58 PM] Loading configuration file: /home/dayn/analysis/BayesianTracker/models/param_test_config_hypo.json\n",
      "[INFO][2022/08/08 05:51:58 PM] Setting max_search_radius -> 500\n",
      "[INFO][2022/08/08 05:51:58 PM] Setting features -> ['area', 'major_axis_length', 'minor_axis_length', 'orientation', 'solidity', 'mean_intensity']\n",
      "[INFO][2022/08/08 05:51:58 PM] Objects are of type: <class 'list'>\n"
     ]
    },
    {
     "name": "stdout",
     "output_type": "stream",
     "text": [
      "(1, 10, 50, 100, 40) 3.2823316150229425\n"
     ]
    },
    {
     "name": "stderr",
     "output_type": "stream",
     "text": [
      "[INFO][2022/08/08 05:51:58 PM] Setting volume -> ((0, 6048), (0, 6048), (-100000.0, 100000.0))\n",
      "[INFO][2022/08/08 05:51:58 PM] Starting tracking... \n",
      "[INFO][2022/08/08 05:51:59 PM] Tracking objects in frames 0 to 24 (of 75)...\n",
      "[INFO][2022/08/08 05:52:12 PM]  - Timing (Bayesian updates: 516.61ms, Linking: 11.25ms)\n",
      "[INFO][2022/08/08 05:52:12 PM]  - Probabilities (Link: 0.97446, Lost: 1.00000)\n",
      "[INFO][2022/08/08 05:52:12 PM]  - Stats (Active: 2550, Lost: 51737, Conflicts resolved: 1956)\n",
      "[INFO][2022/08/08 05:52:12 PM] Tracking objects in frames 25 to 49 (of 75)...\n",
      "[INFO][2022/08/08 05:52:23 PM]  - Timing (Bayesian updates: 178.70ms, Linking: 5.23ms)\n",
      "[INFO][2022/08/08 05:52:23 PM]  - Probabilities (Link: 0.94544, Lost: 1.00000)\n",
      "[INFO][2022/08/08 05:52:23 PM]  - Stats (Active: 1721, Lost: 105261, Conflicts resolved: 3564)\n",
      "[INFO][2022/08/08 05:52:23 PM] Tracking objects in frames 50 to 74 (of 75)...\n",
      "[INFO][2022/08/08 05:52:24 PM]  - Timing (Bayesian updates: 15.12ms, Linking: 1.27ms)\n",
      "[INFO][2022/08/08 05:52:24 PM]  - Probabilities (Link: 0.92668, Lost: 1.00000)\n",
      "[INFO][2022/08/08 05:52:24 PM] SUCCESS.\n",
      "[INFO][2022/08/08 05:52:24 PM]  - Found 17653 tracks in 75 frames (in 0.0s)\n",
      "[INFO][2022/08/08 05:52:25 PM]  - Inserted 23139 dummy objects to fill tracking gaps\n",
      "[INFO][2022/08/08 05:52:25 PM] Ending BayesianTracker session\n",
      "[INFO][2022/08/08 05:52:25 PM] Loaded btrack: /home/dayn/miniconda3/envs/aero/lib/python3.9/site-packages/btrack/libs/libtracker.so\n",
      "[INFO][2022/08/08 05:52:25 PM] btrack (v0.4.5) library imported\n",
      "[INFO][2022/08/08 05:52:25 PM] Starting BayesianTracker session\n",
      "[INFO][2022/08/08 05:52:25 PM] Loading configuration file: /home/dayn/analysis/BayesianTracker/models/param_test_config_hypo.json\n",
      "[INFO][2022/08/08 05:52:25 PM] Setting max_search_radius -> 500\n",
      "[INFO][2022/08/08 05:52:25 PM] Setting features -> ['area', 'major_axis_length', 'minor_axis_length', 'orientation', 'solidity', 'mean_intensity']\n",
      "[INFO][2022/08/08 05:52:25 PM] Objects are of type: <class 'list'>\n"
     ]
    },
    {
     "name": "stdout",
     "output_type": "stream",
     "text": [
      "(1, 10, 50, 100, 80) 3.2823316150229425\n"
     ]
    },
    {
     "name": "stderr",
     "output_type": "stream",
     "text": [
      "[INFO][2022/08/08 05:52:25 PM] Setting volume -> ((0, 6048), (0, 6048), (-100000.0, 100000.0))\n",
      "[INFO][2022/08/08 05:52:25 PM] Starting tracking... \n",
      "[INFO][2022/08/08 05:52:25 PM] Tracking objects in frames 0 to 24 (of 75)...\n",
      "[INFO][2022/08/08 05:52:39 PM]  - Timing (Bayesian updates: 514.45ms, Linking: 12.07ms)\n",
      "[INFO][2022/08/08 05:52:39 PM]  - Probabilities (Link: 0.97446, Lost: 1.00000)\n",
      "[INFO][2022/08/08 05:52:39 PM]  - Stats (Active: 2550, Lost: 51737, Conflicts resolved: 1956)\n",
      "[INFO][2022/08/08 05:52:39 PM] Tracking objects in frames 25 to 49 (of 75)...\n",
      "[INFO][2022/08/08 05:52:51 PM]  - Timing (Bayesian updates: 178.46ms, Linking: 5.39ms)\n",
      "[INFO][2022/08/08 05:52:51 PM]  - Probabilities (Link: 0.94544, Lost: 1.00000)\n",
      "[INFO][2022/08/08 05:52:51 PM]  - Stats (Active: 1721, Lost: 105261, Conflicts resolved: 3564)\n",
      "[INFO][2022/08/08 05:52:51 PM] Tracking objects in frames 50 to 74 (of 75)...\n",
      "[INFO][2022/08/08 05:52:52 PM]  - Timing (Bayesian updates: 11.76ms, Linking: 1.01ms)\n",
      "[INFO][2022/08/08 05:52:52 PM]  - Probabilities (Link: 0.92668, Lost: 1.00000)\n",
      "[INFO][2022/08/08 05:52:52 PM] SUCCESS.\n",
      "[INFO][2022/08/08 05:52:52 PM]  - Found 17653 tracks in 75 frames (in 0.0s)\n",
      "[INFO][2022/08/08 05:52:52 PM]  - Inserted 23139 dummy objects to fill tracking gaps\n",
      "[INFO][2022/08/08 05:52:52 PM] Ending BayesianTracker session\n",
      "[INFO][2022/08/08 05:52:53 PM] Loaded btrack: /home/dayn/miniconda3/envs/aero/lib/python3.9/site-packages/btrack/libs/libtracker.so\n",
      "[INFO][2022/08/08 05:52:53 PM] btrack (v0.4.5) library imported\n",
      "[INFO][2022/08/08 05:52:53 PM] Starting BayesianTracker session\n",
      "[INFO][2022/08/08 05:52:53 PM] Loading configuration file: /home/dayn/analysis/BayesianTracker/models/param_test_config_hypo.json\n",
      "[INFO][2022/08/08 05:52:53 PM] Setting max_search_radius -> 500\n",
      "[INFO][2022/08/08 05:52:53 PM] Setting features -> ['area', 'major_axis_length', 'minor_axis_length', 'orientation', 'solidity', 'mean_intensity']\n",
      "[INFO][2022/08/08 05:52:53 PM] Objects are of type: <class 'list'>\n"
     ]
    },
    {
     "name": "stdout",
     "output_type": "stream",
     "text": [
      "(1, 10, 50, 100, 160) 3.2823316150229425\n"
     ]
    },
    {
     "name": "stderr",
     "output_type": "stream",
     "text": [
      "[INFO][2022/08/08 05:52:53 PM] Setting volume -> ((0, 6048), (0, 6048), (-100000.0, 100000.0))\n",
      "[INFO][2022/08/08 05:52:53 PM] Starting tracking... \n",
      "[INFO][2022/08/08 05:52:53 PM] Tracking objects in frames 0 to 24 (of 75)...\n",
      "[INFO][2022/08/08 05:53:06 PM]  - Timing (Bayesian updates: 526.03ms, Linking: 12.10ms)\n",
      "[INFO][2022/08/08 05:53:06 PM]  - Probabilities (Link: 0.97446, Lost: 1.00000)\n",
      "[INFO][2022/08/08 05:53:06 PM]  - Stats (Active: 2550, Lost: 51737, Conflicts resolved: 1956)\n",
      "[INFO][2022/08/08 05:53:06 PM] Tracking objects in frames 25 to 49 (of 75)...\n",
      "[INFO][2022/08/08 05:53:17 PM]  - Timing (Bayesian updates: 191.50ms, Linking: 6.78ms)\n",
      "[INFO][2022/08/08 05:53:17 PM]  - Probabilities (Link: 0.94544, Lost: 1.00000)\n",
      "[INFO][2022/08/08 05:53:17 PM]  - Stats (Active: 1721, Lost: 105261, Conflicts resolved: 3564)\n",
      "[INFO][2022/08/08 05:53:17 PM] Tracking objects in frames 50 to 74 (of 75)...\n",
      "[INFO][2022/08/08 05:53:18 PM]  - Timing (Bayesian updates: 12.51ms, Linking: 1.10ms)\n",
      "[INFO][2022/08/08 05:53:18 PM]  - Probabilities (Link: 0.92668, Lost: 1.00000)\n",
      "[INFO][2022/08/08 05:53:18 PM] SUCCESS.\n",
      "[INFO][2022/08/08 05:53:18 PM]  - Found 17653 tracks in 75 frames (in 0.0s)\n",
      "[INFO][2022/08/08 05:53:19 PM]  - Inserted 23139 dummy objects to fill tracking gaps\n",
      "[INFO][2022/08/08 05:53:19 PM] Ending BayesianTracker session\n",
      "[INFO][2022/08/08 05:53:19 PM] Loaded btrack: /home/dayn/miniconda3/envs/aero/lib/python3.9/site-packages/btrack/libs/libtracker.so\n",
      "[INFO][2022/08/08 05:53:19 PM] btrack (v0.4.5) library imported\n",
      "[INFO][2022/08/08 05:53:19 PM] Starting BayesianTracker session\n",
      "[INFO][2022/08/08 05:53:19 PM] Loading configuration file: /home/dayn/analysis/BayesianTracker/models/param_test_config_hypo.json\n",
      "[INFO][2022/08/08 05:53:19 PM] Setting max_search_radius -> 500\n",
      "[INFO][2022/08/08 05:53:19 PM] Setting features -> ['area', 'major_axis_length', 'minor_axis_length', 'orientation', 'solidity', 'mean_intensity']\n",
      "[INFO][2022/08/08 05:53:19 PM] Objects are of type: <class 'list'>\n"
     ]
    },
    {
     "name": "stdout",
     "output_type": "stream",
     "text": [
      "(1, 10, 100, 5, 40) 3.2823316150229425\n"
     ]
    },
    {
     "name": "stderr",
     "output_type": "stream",
     "text": [
      "[INFO][2022/08/08 05:53:19 PM] Setting volume -> ((0, 6048), (0, 6048), (-100000.0, 100000.0))\n",
      "[INFO][2022/08/08 05:53:19 PM] Starting tracking... \n",
      "[INFO][2022/08/08 05:53:19 PM] Tracking objects in frames 0 to 24 (of 75)...\n",
      "[INFO][2022/08/08 05:53:33 PM]  - Timing (Bayesian updates: 519.77ms, Linking: 11.33ms)\n",
      "[INFO][2022/08/08 05:53:33 PM]  - Probabilities (Link: 0.97446, Lost: 1.00000)\n",
      "[INFO][2022/08/08 05:53:33 PM]  - Stats (Active: 2550, Lost: 51737, Conflicts resolved: 1956)\n",
      "[INFO][2022/08/08 05:53:33 PM] Tracking objects in frames 25 to 49 (of 75)...\n",
      "[INFO][2022/08/08 05:53:44 PM]  - Timing (Bayesian updates: 181.22ms, Linking: 5.75ms)\n",
      "[INFO][2022/08/08 05:53:44 PM]  - Probabilities (Link: 0.94544, Lost: 1.00000)\n",
      "[INFO][2022/08/08 05:53:44 PM]  - Stats (Active: 1721, Lost: 105261, Conflicts resolved: 3564)\n",
      "[INFO][2022/08/08 05:53:44 PM] Tracking objects in frames 50 to 74 (of 75)...\n",
      "[INFO][2022/08/08 05:53:45 PM]  - Timing (Bayesian updates: 11.76ms, Linking: 1.06ms)\n",
      "[INFO][2022/08/08 05:53:45 PM]  - Probabilities (Link: 0.92668, Lost: 1.00000)\n",
      "[INFO][2022/08/08 05:53:45 PM] SUCCESS.\n",
      "[INFO][2022/08/08 05:53:45 PM]  - Found 17653 tracks in 75 frames (in 0.0s)\n",
      "[INFO][2022/08/08 05:53:46 PM]  - Inserted 23139 dummy objects to fill tracking gaps\n",
      "[INFO][2022/08/08 05:53:46 PM] Ending BayesianTracker session\n",
      "[INFO][2022/08/08 05:53:46 PM] Loaded btrack: /home/dayn/miniconda3/envs/aero/lib/python3.9/site-packages/btrack/libs/libtracker.so\n",
      "[INFO][2022/08/08 05:53:46 PM] btrack (v0.4.5) library imported\n",
      "[INFO][2022/08/08 05:53:46 PM] Starting BayesianTracker session\n",
      "[INFO][2022/08/08 05:53:46 PM] Loading configuration file: /home/dayn/analysis/BayesianTracker/models/param_test_config_hypo.json\n",
      "[INFO][2022/08/08 05:53:46 PM] Setting max_search_radius -> 500\n",
      "[INFO][2022/08/08 05:53:46 PM] Setting features -> ['area', 'major_axis_length', 'minor_axis_length', 'orientation', 'solidity', 'mean_intensity']\n",
      "[INFO][2022/08/08 05:53:46 PM] Objects are of type: <class 'list'>\n"
     ]
    },
    {
     "name": "stdout",
     "output_type": "stream",
     "text": [
      "(1, 10, 100, 5, 80) 3.2823316150229425\n"
     ]
    },
    {
     "name": "stderr",
     "output_type": "stream",
     "text": [
      "[INFO][2022/08/08 05:53:46 PM] Setting volume -> ((0, 6048), (0, 6048), (-100000.0, 100000.0))\n",
      "[INFO][2022/08/08 05:53:46 PM] Starting tracking... \n",
      "[INFO][2022/08/08 05:53:47 PM] Tracking objects in frames 0 to 24 (of 75)...\n",
      "[INFO][2022/08/08 05:54:00 PM]  - Timing (Bayesian updates: 520.43ms, Linking: 11.85ms)\n",
      "[INFO][2022/08/08 05:54:00 PM]  - Probabilities (Link: 0.97446, Lost: 1.00000)\n",
      "[INFO][2022/08/08 05:54:00 PM]  - Stats (Active: 2550, Lost: 51737, Conflicts resolved: 1956)\n",
      "[INFO][2022/08/08 05:54:00 PM] Tracking objects in frames 25 to 49 (of 75)...\n",
      "[INFO][2022/08/08 05:54:11 PM]  - Timing (Bayesian updates: 179.71ms, Linking: 6.12ms)\n",
      "[INFO][2022/08/08 05:54:11 PM]  - Probabilities (Link: 0.94544, Lost: 1.00000)\n",
      "[INFO][2022/08/08 05:54:11 PM]  - Stats (Active: 1721, Lost: 105261, Conflicts resolved: 3564)\n",
      "[INFO][2022/08/08 05:54:11 PM] Tracking objects in frames 50 to 74 (of 75)...\n",
      "[INFO][2022/08/08 05:54:12 PM]  - Timing (Bayesian updates: 12.07ms, Linking: 1.14ms)\n",
      "[INFO][2022/08/08 05:54:12 PM]  - Probabilities (Link: 0.92668, Lost: 1.00000)\n",
      "[INFO][2022/08/08 05:54:12 PM] SUCCESS.\n",
      "[INFO][2022/08/08 05:54:12 PM]  - Found 17653 tracks in 75 frames (in 0.0s)\n",
      "[INFO][2022/08/08 05:54:12 PM]  - Inserted 23139 dummy objects to fill tracking gaps\n",
      "[INFO][2022/08/08 05:54:13 PM] Ending BayesianTracker session\n",
      "[INFO][2022/08/08 05:54:13 PM] Loaded btrack: /home/dayn/miniconda3/envs/aero/lib/python3.9/site-packages/btrack/libs/libtracker.so\n",
      "[INFO][2022/08/08 05:54:13 PM] btrack (v0.4.5) library imported\n",
      "[INFO][2022/08/08 05:54:13 PM] Starting BayesianTracker session\n",
      "[INFO][2022/08/08 05:54:13 PM] Loading configuration file: /home/dayn/analysis/BayesianTracker/models/param_test_config_hypo.json\n",
      "[INFO][2022/08/08 05:54:13 PM] Setting max_search_radius -> 500\n",
      "[INFO][2022/08/08 05:54:13 PM] Setting features -> ['area', 'major_axis_length', 'minor_axis_length', 'orientation', 'solidity', 'mean_intensity']\n",
      "[INFO][2022/08/08 05:54:13 PM] Objects are of type: <class 'list'>\n",
      "[INFO][2022/08/08 05:54:13 PM] Setting volume -> ((0, 6048), (0, 6048), (-100000.0, 100000.0))\n",
      "[INFO][2022/08/08 05:54:13 PM] Starting tracking... \n"
     ]
    },
    {
     "name": "stdout",
     "output_type": "stream",
     "text": [
      "(1, 10, 100, 5, 160) 3.2823316150229425\n"
     ]
    },
    {
     "name": "stderr",
     "output_type": "stream",
     "text": [
      "[INFO][2022/08/08 05:54:13 PM] Tracking objects in frames 0 to 24 (of 75)...\n",
      "[INFO][2022/08/08 05:54:26 PM]  - Timing (Bayesian updates: 518.01ms, Linking: 12.04ms)\n",
      "[INFO][2022/08/08 05:54:26 PM]  - Probabilities (Link: 0.97446, Lost: 1.00000)\n",
      "[INFO][2022/08/08 05:54:26 PM]  - Stats (Active: 2550, Lost: 51737, Conflicts resolved: 1956)\n",
      "[INFO][2022/08/08 05:54:26 PM] Tracking objects in frames 25 to 49 (of 75)...\n",
      "[INFO][2022/08/08 05:54:37 PM]  - Timing (Bayesian updates: 179.24ms, Linking: 6.28ms)\n",
      "[INFO][2022/08/08 05:54:37 PM]  - Probabilities (Link: 0.94544, Lost: 1.00000)\n",
      "[INFO][2022/08/08 05:54:37 PM]  - Stats (Active: 1721, Lost: 105261, Conflicts resolved: 3564)\n",
      "[INFO][2022/08/08 05:54:37 PM] Tracking objects in frames 50 to 74 (of 75)...\n",
      "[INFO][2022/08/08 05:54:38 PM]  - Timing (Bayesian updates: 12.14ms, Linking: 1.06ms)\n",
      "[INFO][2022/08/08 05:54:38 PM]  - Probabilities (Link: 0.92668, Lost: 1.00000)\n",
      "[INFO][2022/08/08 05:54:38 PM] SUCCESS.\n",
      "[INFO][2022/08/08 05:54:38 PM]  - Found 17653 tracks in 75 frames (in 0.0s)\n",
      "[INFO][2022/08/08 05:54:39 PM]  - Inserted 23139 dummy objects to fill tracking gaps\n",
      "[INFO][2022/08/08 05:54:39 PM] Ending BayesianTracker session\n",
      "[INFO][2022/08/08 05:54:40 PM] Loaded btrack: /home/dayn/miniconda3/envs/aero/lib/python3.9/site-packages/btrack/libs/libtracker.so\n",
      "[INFO][2022/08/08 05:54:40 PM] btrack (v0.4.5) library imported\n",
      "[INFO][2022/08/08 05:54:40 PM] Starting BayesianTracker session\n",
      "[INFO][2022/08/08 05:54:40 PM] Loading configuration file: /home/dayn/analysis/BayesianTracker/models/param_test_config_hypo.json\n",
      "[INFO][2022/08/08 05:54:40 PM] Setting max_search_radius -> 500\n",
      "[INFO][2022/08/08 05:54:40 PM] Setting features -> ['area', 'major_axis_length', 'minor_axis_length', 'orientation', 'solidity', 'mean_intensity']\n",
      "[INFO][2022/08/08 05:54:40 PM] Objects are of type: <class 'list'>\n"
     ]
    },
    {
     "name": "stdout",
     "output_type": "stream",
     "text": [
      "(1, 10, 100, 20, 40) 3.2823316150229425\n"
     ]
    },
    {
     "name": "stderr",
     "output_type": "stream",
     "text": [
      "[INFO][2022/08/08 05:54:40 PM] Setting volume -> ((0, 6048), (0, 6048), (-100000.0, 100000.0))\n",
      "[INFO][2022/08/08 05:54:40 PM] Starting tracking... \n",
      "[INFO][2022/08/08 05:54:40 PM] Tracking objects in frames 0 to 24 (of 75)...\n",
      "[INFO][2022/08/08 05:54:53 PM]  - Timing (Bayesian updates: 524.53ms, Linking: 11.73ms)\n",
      "[INFO][2022/08/08 05:54:53 PM]  - Probabilities (Link: 0.97446, Lost: 1.00000)\n",
      "[INFO][2022/08/08 05:54:53 PM]  - Stats (Active: 2550, Lost: 51737, Conflicts resolved: 1956)\n",
      "[INFO][2022/08/08 05:54:53 PM] Tracking objects in frames 25 to 49 (of 75)...\n",
      "[INFO][2022/08/08 05:55:04 PM]  - Timing (Bayesian updates: 179.16ms, Linking: 5.38ms)\n",
      "[INFO][2022/08/08 05:55:04 PM]  - Probabilities (Link: 0.94544, Lost: 1.00000)\n",
      "[INFO][2022/08/08 05:55:04 PM]  - Stats (Active: 1721, Lost: 105261, Conflicts resolved: 3564)\n",
      "[INFO][2022/08/08 05:55:04 PM] Tracking objects in frames 50 to 74 (of 75)...\n",
      "[INFO][2022/08/08 05:55:06 PM]  - Timing (Bayesian updates: 12.02ms, Linking: 1.08ms)\n",
      "[INFO][2022/08/08 05:55:06 PM]  - Probabilities (Link: 0.92668, Lost: 1.00000)\n",
      "[INFO][2022/08/08 05:55:06 PM] SUCCESS.\n",
      "[INFO][2022/08/08 05:55:06 PM]  - Found 17653 tracks in 75 frames (in 0.0s)\n",
      "[INFO][2022/08/08 05:55:06 PM]  - Inserted 23139 dummy objects to fill tracking gaps\n",
      "[INFO][2022/08/08 05:55:06 PM] Ending BayesianTracker session\n",
      "[INFO][2022/08/08 05:55:06 PM] Loaded btrack: /home/dayn/miniconda3/envs/aero/lib/python3.9/site-packages/btrack/libs/libtracker.so\n",
      "[INFO][2022/08/08 05:55:06 PM] btrack (v0.4.5) library imported\n",
      "[INFO][2022/08/08 05:55:06 PM] Starting BayesianTracker session\n",
      "[INFO][2022/08/08 05:55:06 PM] Loading configuration file: /home/dayn/analysis/BayesianTracker/models/param_test_config_hypo.json\n",
      "[INFO][2022/08/08 05:55:06 PM] Setting max_search_radius -> 500\n",
      "[INFO][2022/08/08 05:55:06 PM] Setting features -> ['area', 'major_axis_length', 'minor_axis_length', 'orientation', 'solidity', 'mean_intensity']\n",
      "[INFO][2022/08/08 05:55:06 PM] Objects are of type: <class 'list'>\n"
     ]
    },
    {
     "name": "stdout",
     "output_type": "stream",
     "text": [
      "(1, 10, 100, 20, 80) 3.2823316150229425\n"
     ]
    },
    {
     "name": "stderr",
     "output_type": "stream",
     "text": [
      "[INFO][2022/08/08 05:55:06 PM] Setting volume -> ((0, 6048), (0, 6048), (-100000.0, 100000.0))\n",
      "[INFO][2022/08/08 05:55:06 PM] Starting tracking... \n",
      "[INFO][2022/08/08 05:55:07 PM] Tracking objects in frames 0 to 24 (of 75)...\n",
      "[INFO][2022/08/08 05:55:21 PM]  - Timing (Bayesian updates: 516.63ms, Linking: 11.74ms)\n",
      "[INFO][2022/08/08 05:55:21 PM]  - Probabilities (Link: 0.97446, Lost: 1.00000)\n",
      "[INFO][2022/08/08 05:55:21 PM]  - Stats (Active: 2550, Lost: 51737, Conflicts resolved: 1956)\n",
      "[INFO][2022/08/08 05:55:21 PM] Tracking objects in frames 25 to 49 (of 75)...\n",
      "[INFO][2022/08/08 05:55:32 PM]  - Timing (Bayesian updates: 179.28ms, Linking: 5.56ms)\n",
      "[INFO][2022/08/08 05:55:32 PM]  - Probabilities (Link: 0.94544, Lost: 1.00000)\n",
      "[INFO][2022/08/08 05:55:32 PM]  - Stats (Active: 1721, Lost: 105261, Conflicts resolved: 3564)\n",
      "[INFO][2022/08/08 05:55:32 PM] Tracking objects in frames 50 to 74 (of 75)...\n",
      "[INFO][2022/08/08 05:55:33 PM]  - Timing (Bayesian updates: 11.74ms, Linking: 1.02ms)\n",
      "[INFO][2022/08/08 05:55:33 PM]  - Probabilities (Link: 0.92668, Lost: 1.00000)\n",
      "[INFO][2022/08/08 05:55:33 PM] SUCCESS.\n",
      "[INFO][2022/08/08 05:55:33 PM]  - Found 17653 tracks in 75 frames (in 0.0s)\n",
      "[INFO][2022/08/08 05:55:33 PM]  - Inserted 23139 dummy objects to fill tracking gaps\n",
      "[INFO][2022/08/08 05:55:34 PM] Ending BayesianTracker session\n",
      "[INFO][2022/08/08 05:55:34 PM] Loaded btrack: /home/dayn/miniconda3/envs/aero/lib/python3.9/site-packages/btrack/libs/libtracker.so\n",
      "[INFO][2022/08/08 05:55:34 PM] btrack (v0.4.5) library imported\n",
      "[INFO][2022/08/08 05:55:34 PM] Starting BayesianTracker session\n",
      "[INFO][2022/08/08 05:55:34 PM] Loading configuration file: /home/dayn/analysis/BayesianTracker/models/param_test_config_hypo.json\n",
      "[INFO][2022/08/08 05:55:34 PM] Setting max_search_radius -> 500\n",
      "[INFO][2022/08/08 05:55:34 PM] Setting features -> ['area', 'major_axis_length', 'minor_axis_length', 'orientation', 'solidity', 'mean_intensity']\n",
      "[INFO][2022/08/08 05:55:34 PM] Objects are of type: <class 'list'>\n"
     ]
    },
    {
     "name": "stdout",
     "output_type": "stream",
     "text": [
      "(1, 10, 100, 20, 160) 3.2823316150229425\n"
     ]
    },
    {
     "name": "stderr",
     "output_type": "stream",
     "text": [
      "[INFO][2022/08/08 05:55:34 PM] Setting volume -> ((0, 6048), (0, 6048), (-100000.0, 100000.0))\n",
      "[INFO][2022/08/08 05:55:34 PM] Starting tracking... \n",
      "[INFO][2022/08/08 05:55:34 PM] Tracking objects in frames 0 to 24 (of 75)...\n",
      "[INFO][2022/08/08 05:55:47 PM]  - Timing (Bayesian updates: 525.78ms, Linking: 12.20ms)\n",
      "[INFO][2022/08/08 05:55:47 PM]  - Probabilities (Link: 0.97446, Lost: 1.00000)\n",
      "[INFO][2022/08/08 05:55:47 PM]  - Stats (Active: 2550, Lost: 51737, Conflicts resolved: 1956)\n",
      "[INFO][2022/08/08 05:55:47 PM] Tracking objects in frames 25 to 49 (of 75)...\n",
      "[INFO][2022/08/08 05:56:00 PM]  - Timing (Bayesian updates: 179.76ms, Linking: 5.52ms)\n",
      "[INFO][2022/08/08 05:56:00 PM]  - Probabilities (Link: 0.94544, Lost: 1.00000)\n",
      "[INFO][2022/08/08 05:56:00 PM]  - Stats (Active: 1721, Lost: 105261, Conflicts resolved: 3564)\n",
      "[INFO][2022/08/08 05:56:00 PM] Tracking objects in frames 50 to 74 (of 75)...\n",
      "[INFO][2022/08/08 05:56:01 PM]  - Timing (Bayesian updates: 12.05ms, Linking: 1.05ms)\n",
      "[INFO][2022/08/08 05:56:01 PM]  - Probabilities (Link: 0.92668, Lost: 1.00000)\n",
      "[INFO][2022/08/08 05:56:01 PM] SUCCESS.\n",
      "[INFO][2022/08/08 05:56:01 PM]  - Found 17653 tracks in 75 frames (in 0.0s)\n",
      "[INFO][2022/08/08 05:56:01 PM]  - Inserted 23139 dummy objects to fill tracking gaps\n",
      "[INFO][2022/08/08 05:56:02 PM] Ending BayesianTracker session\n",
      "[INFO][2022/08/08 05:56:02 PM] Loaded btrack: /home/dayn/miniconda3/envs/aero/lib/python3.9/site-packages/btrack/libs/libtracker.so\n",
      "[INFO][2022/08/08 05:56:02 PM] btrack (v0.4.5) library imported\n",
      "[INFO][2022/08/08 05:56:02 PM] Starting BayesianTracker session\n",
      "[INFO][2022/08/08 05:56:02 PM] Loading configuration file: /home/dayn/analysis/BayesianTracker/models/param_test_config_hypo.json\n",
      "[INFO][2022/08/08 05:56:02 PM] Setting max_search_radius -> 500\n",
      "[INFO][2022/08/08 05:56:02 PM] Setting features -> ['area', 'major_axis_length', 'minor_axis_length', 'orientation', 'solidity', 'mean_intensity']\n",
      "[INFO][2022/08/08 05:56:02 PM] Objects are of type: <class 'list'>\n",
      "[INFO][2022/08/08 05:56:02 PM] Setting volume -> ((0, 6048), (0, 6048), (-100000.0, 100000.0))\n",
      "[INFO][2022/08/08 05:56:02 PM] Starting tracking... \n"
     ]
    },
    {
     "name": "stdout",
     "output_type": "stream",
     "text": [
      "(1, 10, 100, 100, 40) 3.2823316150229425\n"
     ]
    },
    {
     "name": "stderr",
     "output_type": "stream",
     "text": [
      "[INFO][2022/08/08 05:56:02 PM] Tracking objects in frames 0 to 24 (of 75)...\n",
      "[INFO][2022/08/08 05:56:15 PM]  - Timing (Bayesian updates: 519.57ms, Linking: 12.25ms)\n",
      "[INFO][2022/08/08 05:56:15 PM]  - Probabilities (Link: 0.97446, Lost: 1.00000)\n",
      "[INFO][2022/08/08 05:56:15 PM]  - Stats (Active: 2550, Lost: 51737, Conflicts resolved: 1956)\n",
      "[INFO][2022/08/08 05:56:15 PM] Tracking objects in frames 25 to 49 (of 75)...\n",
      "[INFO][2022/08/08 05:56:26 PM]  - Timing (Bayesian updates: 180.22ms, Linking: 5.67ms)\n",
      "[INFO][2022/08/08 05:56:26 PM]  - Probabilities (Link: 0.94544, Lost: 1.00000)\n",
      "[INFO][2022/08/08 05:56:26 PM]  - Stats (Active: 1721, Lost: 105261, Conflicts resolved: 3564)\n",
      "[INFO][2022/08/08 05:56:26 PM] Tracking objects in frames 50 to 74 (of 75)...\n",
      "[INFO][2022/08/08 05:56:27 PM]  - Timing (Bayesian updates: 12.16ms, Linking: 1.07ms)\n",
      "[INFO][2022/08/08 05:56:27 PM]  - Probabilities (Link: 0.92668, Lost: 1.00000)\n",
      "[INFO][2022/08/08 05:56:27 PM] SUCCESS.\n",
      "[INFO][2022/08/08 05:56:27 PM]  - Found 17653 tracks in 75 frames (in 0.0s)\n",
      "[INFO][2022/08/08 05:56:28 PM]  - Inserted 23139 dummy objects to fill tracking gaps\n",
      "[INFO][2022/08/08 05:56:28 PM] Ending BayesianTracker session\n",
      "[INFO][2022/08/08 05:56:28 PM] Loaded btrack: /home/dayn/miniconda3/envs/aero/lib/python3.9/site-packages/btrack/libs/libtracker.so\n",
      "[INFO][2022/08/08 05:56:28 PM] btrack (v0.4.5) library imported\n",
      "[INFO][2022/08/08 05:56:28 PM] Starting BayesianTracker session\n",
      "[INFO][2022/08/08 05:56:28 PM] Loading configuration file: /home/dayn/analysis/BayesianTracker/models/param_test_config_hypo.json\n",
      "[INFO][2022/08/08 05:56:28 PM] Setting max_search_radius -> 500\n",
      "[INFO][2022/08/08 05:56:28 PM] Setting features -> ['area', 'major_axis_length', 'minor_axis_length', 'orientation', 'solidity', 'mean_intensity']\n",
      "[INFO][2022/08/08 05:56:28 PM] Objects are of type: <class 'list'>\n"
     ]
    },
    {
     "name": "stdout",
     "output_type": "stream",
     "text": [
      "(1, 10, 100, 100, 80) 3.2823316150229425\n"
     ]
    },
    {
     "name": "stderr",
     "output_type": "stream",
     "text": [
      "[INFO][2022/08/08 05:56:29 PM] Setting volume -> ((0, 6048), (0, 6048), (-100000.0, 100000.0))\n",
      "[INFO][2022/08/08 05:56:29 PM] Starting tracking... \n",
      "[INFO][2022/08/08 05:56:29 PM] Tracking objects in frames 0 to 24 (of 75)...\n",
      "[INFO][2022/08/08 05:56:42 PM]  - Timing (Bayesian updates: 518.67ms, Linking: 11.97ms)\n",
      "[INFO][2022/08/08 05:56:42 PM]  - Probabilities (Link: 0.97446, Lost: 1.00000)\n",
      "[INFO][2022/08/08 05:56:42 PM]  - Stats (Active: 2550, Lost: 51737, Conflicts resolved: 1956)\n",
      "[INFO][2022/08/08 05:56:42 PM] Tracking objects in frames 25 to 49 (of 75)...\n",
      "[INFO][2022/08/08 05:56:54 PM]  - Timing (Bayesian updates: 178.56ms, Linking: 5.39ms)\n",
      "[INFO][2022/08/08 05:56:54 PM]  - Probabilities (Link: 0.94544, Lost: 1.00000)\n",
      "[INFO][2022/08/08 05:56:54 PM]  - Stats (Active: 1721, Lost: 105261, Conflicts resolved: 3564)\n",
      "[INFO][2022/08/08 05:56:54 PM] Tracking objects in frames 50 to 74 (of 75)...\n",
      "[INFO][2022/08/08 05:56:55 PM]  - Timing (Bayesian updates: 11.90ms, Linking: 1.02ms)\n",
      "[INFO][2022/08/08 05:56:55 PM]  - Probabilities (Link: 0.92668, Lost: 1.00000)\n",
      "[INFO][2022/08/08 05:56:55 PM] SUCCESS.\n",
      "[INFO][2022/08/08 05:56:55 PM]  - Found 17653 tracks in 75 frames (in 0.0s)\n",
      "[INFO][2022/08/08 05:56:55 PM]  - Inserted 23139 dummy objects to fill tracking gaps\n",
      "[INFO][2022/08/08 05:56:55 PM] Ending BayesianTracker session\n",
      "[INFO][2022/08/08 05:56:56 PM] Loaded btrack: /home/dayn/miniconda3/envs/aero/lib/python3.9/site-packages/btrack/libs/libtracker.so\n",
      "[INFO][2022/08/08 05:56:56 PM] btrack (v0.4.5) library imported\n",
      "[INFO][2022/08/08 05:56:56 PM] Starting BayesianTracker session\n",
      "[INFO][2022/08/08 05:56:56 PM] Loading configuration file: /home/dayn/analysis/BayesianTracker/models/param_test_config_hypo.json\n",
      "[INFO][2022/08/08 05:56:56 PM] Setting max_search_radius -> 500\n",
      "[INFO][2022/08/08 05:56:56 PM] Setting features -> ['area', 'major_axis_length', 'minor_axis_length', 'orientation', 'solidity', 'mean_intensity']\n",
      "[INFO][2022/08/08 05:56:56 PM] Objects are of type: <class 'list'>\n"
     ]
    },
    {
     "name": "stdout",
     "output_type": "stream",
     "text": [
      "(1, 10, 100, 100, 160) 3.2823316150229425\n"
     ]
    },
    {
     "name": "stderr",
     "output_type": "stream",
     "text": [
      "[INFO][2022/08/08 05:56:56 PM] Setting volume -> ((0, 6048), (0, 6048), (-100000.0, 100000.0))\n",
      "[INFO][2022/08/08 05:56:56 PM] Starting tracking... \n",
      "[INFO][2022/08/08 05:56:56 PM] Tracking objects in frames 0 to 24 (of 75)...\n",
      "[INFO][2022/08/08 05:57:09 PM]  - Timing (Bayesian updates: 518.10ms, Linking: 11.77ms)\n",
      "[INFO][2022/08/08 05:57:09 PM]  - Probabilities (Link: 0.97446, Lost: 1.00000)\n",
      "[INFO][2022/08/08 05:57:09 PM]  - Stats (Active: 2550, Lost: 51737, Conflicts resolved: 1956)\n",
      "[INFO][2022/08/08 05:57:09 PM] Tracking objects in frames 25 to 49 (of 75)...\n",
      "[INFO][2022/08/08 05:57:20 PM]  - Timing (Bayesian updates: 178.80ms, Linking: 5.41ms)\n",
      "[INFO][2022/08/08 05:57:20 PM]  - Probabilities (Link: 0.94544, Lost: 1.00000)\n",
      "[INFO][2022/08/08 05:57:20 PM]  - Stats (Active: 1721, Lost: 105261, Conflicts resolved: 3564)\n",
      "[INFO][2022/08/08 05:57:20 PM] Tracking objects in frames 50 to 74 (of 75)...\n",
      "[INFO][2022/08/08 05:57:21 PM]  - Timing (Bayesian updates: 11.65ms, Linking: 1.03ms)\n",
      "[INFO][2022/08/08 05:57:21 PM]  - Probabilities (Link: 0.92668, Lost: 1.00000)\n",
      "[INFO][2022/08/08 05:57:21 PM] SUCCESS.\n",
      "[INFO][2022/08/08 05:57:21 PM]  - Found 17653 tracks in 75 frames (in 0.0s)\n",
      "[INFO][2022/08/08 05:57:21 PM]  - Inserted 23139 dummy objects to fill tracking gaps\n",
      "[INFO][2022/08/08 05:57:22 PM] Ending BayesianTracker session\n",
      "[INFO][2022/08/08 05:57:22 PM] Loaded btrack: /home/dayn/miniconda3/envs/aero/lib/python3.9/site-packages/btrack/libs/libtracker.so\n",
      "[INFO][2022/08/08 05:57:22 PM] btrack (v0.4.5) library imported\n",
      "[INFO][2022/08/08 05:57:22 PM] Starting BayesianTracker session\n",
      "[INFO][2022/08/08 05:57:22 PM] Loading configuration file: /home/dayn/analysis/BayesianTracker/models/param_test_config_hypo.json\n",
      "[INFO][2022/08/08 05:57:22 PM] Setting max_search_radius -> 500\n",
      "[INFO][2022/08/08 05:57:22 PM] Setting features -> ['area', 'major_axis_length', 'minor_axis_length', 'orientation', 'solidity', 'mean_intensity']\n",
      "[INFO][2022/08/08 05:57:22 PM] Objects are of type: <class 'list'>\n"
     ]
    },
    {
     "name": "stdout",
     "output_type": "stream",
     "text": [
      "(1, 10, 300, 5, 40) 3.2823316150229425\n"
     ]
    },
    {
     "name": "stderr",
     "output_type": "stream",
     "text": [
      "[INFO][2022/08/08 05:57:22 PM] Setting volume -> ((0, 6048), (0, 6048), (-100000.0, 100000.0))\n",
      "[INFO][2022/08/08 05:57:22 PM] Starting tracking... \n",
      "[INFO][2022/08/08 05:57:22 PM] Tracking objects in frames 0 to 24 (of 75)...\n",
      "[INFO][2022/08/08 05:57:35 PM]  - Timing (Bayesian updates: 516.80ms, Linking: 11.78ms)\n",
      "[INFO][2022/08/08 05:57:35 PM]  - Probabilities (Link: 0.97446, Lost: 1.00000)\n",
      "[INFO][2022/08/08 05:57:35 PM]  - Stats (Active: 2550, Lost: 51737, Conflicts resolved: 1956)\n",
      "[INFO][2022/08/08 05:57:35 PM] Tracking objects in frames 25 to 49 (of 75)...\n",
      "[INFO][2022/08/08 05:57:46 PM]  - Timing (Bayesian updates: 178.68ms, Linking: 5.48ms)\n",
      "[INFO][2022/08/08 05:57:46 PM]  - Probabilities (Link: 0.94544, Lost: 1.00000)\n",
      "[INFO][2022/08/08 05:57:46 PM]  - Stats (Active: 1721, Lost: 105261, Conflicts resolved: 3564)\n",
      "[INFO][2022/08/08 05:57:46 PM] Tracking objects in frames 50 to 74 (of 75)...\n",
      "[INFO][2022/08/08 05:57:48 PM]  - Timing (Bayesian updates: 11.73ms, Linking: 1.00ms)\n",
      "[INFO][2022/08/08 05:57:48 PM]  - Probabilities (Link: 0.92668, Lost: 1.00000)\n",
      "[INFO][2022/08/08 05:57:48 PM] SUCCESS.\n",
      "[INFO][2022/08/08 05:57:48 PM]  - Found 17653 tracks in 75 frames (in 0.0s)\n",
      "[INFO][2022/08/08 05:57:48 PM]  - Inserted 23139 dummy objects to fill tracking gaps\n",
      "[INFO][2022/08/08 05:57:48 PM] Ending BayesianTracker session\n",
      "[INFO][2022/08/08 05:57:49 PM] Loaded btrack: /home/dayn/miniconda3/envs/aero/lib/python3.9/site-packages/btrack/libs/libtracker.so\n",
      "[INFO][2022/08/08 05:57:49 PM] btrack (v0.4.5) library imported\n",
      "[INFO][2022/08/08 05:57:49 PM] Starting BayesianTracker session\n",
      "[INFO][2022/08/08 05:57:49 PM] Loading configuration file: /home/dayn/analysis/BayesianTracker/models/param_test_config_hypo.json\n",
      "[INFO][2022/08/08 05:57:49 PM] Setting max_search_radius -> 500\n",
      "[INFO][2022/08/08 05:57:49 PM] Setting features -> ['area', 'major_axis_length', 'minor_axis_length', 'orientation', 'solidity', 'mean_intensity']\n",
      "[INFO][2022/08/08 05:57:49 PM] Objects are of type: <class 'list'>\n"
     ]
    },
    {
     "name": "stdout",
     "output_type": "stream",
     "text": [
      "(1, 10, 300, 5, 80) 3.2823316150229425\n"
     ]
    },
    {
     "name": "stderr",
     "output_type": "stream",
     "text": [
      "[INFO][2022/08/08 05:57:49 PM] Setting volume -> ((0, 6048), (0, 6048), (-100000.0, 100000.0))\n",
      "[INFO][2022/08/08 05:57:49 PM] Starting tracking... \n",
      "[INFO][2022/08/08 05:57:49 PM] Tracking objects in frames 0 to 24 (of 75)...\n",
      "[INFO][2022/08/08 05:58:02 PM]  - Timing (Bayesian updates: 515.42ms, Linking: 11.66ms)\n",
      "[INFO][2022/08/08 05:58:02 PM]  - Probabilities (Link: 0.97446, Lost: 1.00000)\n",
      "[INFO][2022/08/08 05:58:02 PM]  - Stats (Active: 2550, Lost: 51737, Conflicts resolved: 1956)\n",
      "[INFO][2022/08/08 05:58:02 PM] Tracking objects in frames 25 to 49 (of 75)...\n",
      "[INFO][2022/08/08 05:58:13 PM]  - Timing (Bayesian updates: 179.64ms, Linking: 5.52ms)\n",
      "[INFO][2022/08/08 05:58:13 PM]  - Probabilities (Link: 0.94544, Lost: 1.00000)\n",
      "[INFO][2022/08/08 05:58:13 PM]  - Stats (Active: 1721, Lost: 105261, Conflicts resolved: 3564)\n",
      "[INFO][2022/08/08 05:58:13 PM] Tracking objects in frames 50 to 74 (of 75)...\n",
      "[INFO][2022/08/08 05:58:14 PM]  - Timing (Bayesian updates: 11.76ms, Linking: 1.01ms)\n",
      "[INFO][2022/08/08 05:58:14 PM]  - Probabilities (Link: 0.92668, Lost: 1.00000)\n",
      "[INFO][2022/08/08 05:58:14 PM] SUCCESS.\n",
      "[INFO][2022/08/08 05:58:14 PM]  - Found 17653 tracks in 75 frames (in 0.0s)\n",
      "[INFO][2022/08/08 05:58:15 PM]  - Inserted 23139 dummy objects to fill tracking gaps\n",
      "[INFO][2022/08/08 05:58:15 PM] Ending BayesianTracker session\n",
      "[INFO][2022/08/08 05:58:15 PM] Loaded btrack: /home/dayn/miniconda3/envs/aero/lib/python3.9/site-packages/btrack/libs/libtracker.so\n",
      "[INFO][2022/08/08 05:58:15 PM] btrack (v0.4.5) library imported\n",
      "[INFO][2022/08/08 05:58:15 PM] Starting BayesianTracker session\n",
      "[INFO][2022/08/08 05:58:15 PM] Loading configuration file: /home/dayn/analysis/BayesianTracker/models/param_test_config_hypo.json\n",
      "[INFO][2022/08/08 05:58:15 PM] Setting max_search_radius -> 500\n",
      "[INFO][2022/08/08 05:58:15 PM] Setting features -> ['area', 'major_axis_length', 'minor_axis_length', 'orientation', 'solidity', 'mean_intensity']\n",
      "[INFO][2022/08/08 05:58:15 PM] Objects are of type: <class 'list'>\n"
     ]
    },
    {
     "name": "stdout",
     "output_type": "stream",
     "text": [
      "(1, 10, 300, 5, 160) 3.2823316150229425\n"
     ]
    },
    {
     "name": "stderr",
     "output_type": "stream",
     "text": [
      "[INFO][2022/08/08 05:58:15 PM] Setting volume -> ((0, 6048), (0, 6048), (-100000.0, 100000.0))\n",
      "[INFO][2022/08/08 05:58:15 PM] Starting tracking... \n",
      "[INFO][2022/08/08 05:58:15 PM] Tracking objects in frames 0 to 24 (of 75)...\n",
      "[INFO][2022/08/08 05:58:29 PM]  - Timing (Bayesian updates: 516.56ms, Linking: 11.84ms)\n",
      "[INFO][2022/08/08 05:58:29 PM]  - Probabilities (Link: 0.97446, Lost: 1.00000)\n",
      "[INFO][2022/08/08 05:58:29 PM]  - Stats (Active: 2550, Lost: 51737, Conflicts resolved: 1956)\n",
      "[INFO][2022/08/08 05:58:29 PM] Tracking objects in frames 25 to 49 (of 75)...\n",
      "[INFO][2022/08/08 05:58:40 PM]  - Timing (Bayesian updates: 177.99ms, Linking: 5.41ms)\n",
      "[INFO][2022/08/08 05:58:40 PM]  - Probabilities (Link: 0.94544, Lost: 1.00000)\n",
      "[INFO][2022/08/08 05:58:40 PM]  - Stats (Active: 1721, Lost: 105261, Conflicts resolved: 3564)\n",
      "[INFO][2022/08/08 05:58:40 PM] Tracking objects in frames 50 to 74 (of 75)...\n",
      "[INFO][2022/08/08 05:58:41 PM]  - Timing (Bayesian updates: 12.05ms, Linking: 1.06ms)\n",
      "[INFO][2022/08/08 05:58:41 PM]  - Probabilities (Link: 0.92668, Lost: 1.00000)\n",
      "[INFO][2022/08/08 05:58:41 PM] SUCCESS.\n",
      "[INFO][2022/08/08 05:58:41 PM]  - Found 17653 tracks in 75 frames (in 0.0s)\n",
      "[INFO][2022/08/08 05:58:41 PM]  - Inserted 23139 dummy objects to fill tracking gaps\n",
      "[INFO][2022/08/08 05:58:42 PM] Ending BayesianTracker session\n",
      "[INFO][2022/08/08 05:58:42 PM] Loaded btrack: /home/dayn/miniconda3/envs/aero/lib/python3.9/site-packages/btrack/libs/libtracker.so\n",
      "[INFO][2022/08/08 05:58:42 PM] btrack (v0.4.5) library imported\n",
      "[INFO][2022/08/08 05:58:42 PM] Starting BayesianTracker session\n",
      "[INFO][2022/08/08 05:58:42 PM] Loading configuration file: /home/dayn/analysis/BayesianTracker/models/param_test_config_hypo.json\n",
      "[INFO][2022/08/08 05:58:42 PM] Setting max_search_radius -> 500\n",
      "[INFO][2022/08/08 05:58:42 PM] Setting features -> ['area', 'major_axis_length', 'minor_axis_length', 'orientation', 'solidity', 'mean_intensity']\n",
      "[INFO][2022/08/08 05:58:42 PM] Objects are of type: <class 'list'>\n",
      "[INFO][2022/08/08 05:58:42 PM] Setting volume -> ((0, 6048), (0, 6048), (-100000.0, 100000.0))\n",
      "[INFO][2022/08/08 05:58:42 PM] Starting tracking... \n"
     ]
    },
    {
     "name": "stdout",
     "output_type": "stream",
     "text": [
      "(1, 10, 300, 20, 40) 3.2823316150229425\n"
     ]
    },
    {
     "name": "stderr",
     "output_type": "stream",
     "text": [
      "[INFO][2022/08/08 05:58:42 PM] Tracking objects in frames 0 to 24 (of 75)...\n",
      "[INFO][2022/08/08 05:58:55 PM]  - Timing (Bayesian updates: 519.24ms, Linking: 12.09ms)\n",
      "[INFO][2022/08/08 05:58:55 PM]  - Probabilities (Link: 0.97446, Lost: 1.00000)\n",
      "[INFO][2022/08/08 05:58:55 PM]  - Stats (Active: 2550, Lost: 51737, Conflicts resolved: 1956)\n",
      "[INFO][2022/08/08 05:58:55 PM] Tracking objects in frames 25 to 49 (of 75)...\n",
      "[INFO][2022/08/08 05:59:06 PM]  - Timing (Bayesian updates: 180.48ms, Linking: 6.36ms)\n",
      "[INFO][2022/08/08 05:59:06 PM]  - Probabilities (Link: 0.94544, Lost: 1.00000)\n",
      "[INFO][2022/08/08 05:59:06 PM]  - Stats (Active: 1721, Lost: 105261, Conflicts resolved: 3564)\n",
      "[INFO][2022/08/08 05:59:06 PM] Tracking objects in frames 50 to 74 (of 75)...\n",
      "[INFO][2022/08/08 05:59:07 PM]  - Timing (Bayesian updates: 11.80ms, Linking: 1.05ms)\n",
      "[INFO][2022/08/08 05:59:07 PM]  - Probabilities (Link: 0.92668, Lost: 1.00000)\n",
      "[INFO][2022/08/08 05:59:07 PM] SUCCESS.\n",
      "[INFO][2022/08/08 05:59:07 PM]  - Found 17653 tracks in 75 frames (in 0.0s)\n",
      "[INFO][2022/08/08 05:59:08 PM]  - Inserted 23139 dummy objects to fill tracking gaps\n",
      "[INFO][2022/08/08 05:59:08 PM] Ending BayesianTracker session\n",
      "[INFO][2022/08/08 05:59:08 PM] Loaded btrack: /home/dayn/miniconda3/envs/aero/lib/python3.9/site-packages/btrack/libs/libtracker.so\n",
      "[INFO][2022/08/08 05:59:08 PM] btrack (v0.4.5) library imported\n",
      "[INFO][2022/08/08 05:59:08 PM] Starting BayesianTracker session\n",
      "[INFO][2022/08/08 05:59:08 PM] Loading configuration file: /home/dayn/analysis/BayesianTracker/models/param_test_config_hypo.json\n",
      "[INFO][2022/08/08 05:59:08 PM] Setting max_search_radius -> 500\n",
      "[INFO][2022/08/08 05:59:08 PM] Setting features -> ['area', 'major_axis_length', 'minor_axis_length', 'orientation', 'solidity', 'mean_intensity']\n",
      "[INFO][2022/08/08 05:59:08 PM] Objects are of type: <class 'list'>\n",
      "[INFO][2022/08/08 05:59:08 PM] Setting volume -> ((0, 6048), (0, 6048), (-100000.0, 100000.0))\n",
      "[INFO][2022/08/08 05:59:08 PM] Starting tracking... \n"
     ]
    },
    {
     "name": "stdout",
     "output_type": "stream",
     "text": [
      "(1, 10, 300, 20, 80) 3.2823316150229425\n"
     ]
    },
    {
     "name": "stderr",
     "output_type": "stream",
     "text": [
      "[INFO][2022/08/08 05:59:08 PM] Tracking objects in frames 0 to 24 (of 75)...\n",
      "[INFO][2022/08/08 05:59:21 PM]  - Timing (Bayesian updates: 515.79ms, Linking: 11.98ms)\n",
      "[INFO][2022/08/08 05:59:21 PM]  - Probabilities (Link: 0.97446, Lost: 1.00000)\n",
      "[INFO][2022/08/08 05:59:21 PM]  - Stats (Active: 2550, Lost: 51737, Conflicts resolved: 1956)\n",
      "[INFO][2022/08/08 05:59:21 PM] Tracking objects in frames 25 to 49 (of 75)...\n",
      "[INFO][2022/08/08 05:59:32 PM]  - Timing (Bayesian updates: 179.47ms, Linking: 5.43ms)\n",
      "[INFO][2022/08/08 05:59:32 PM]  - Probabilities (Link: 0.94544, Lost: 1.00000)\n",
      "[INFO][2022/08/08 05:59:32 PM]  - Stats (Active: 1721, Lost: 105261, Conflicts resolved: 3564)\n",
      "[INFO][2022/08/08 05:59:32 PM] Tracking objects in frames 50 to 74 (of 75)...\n",
      "[INFO][2022/08/08 05:59:33 PM]  - Timing (Bayesian updates: 11.82ms, Linking: 1.04ms)\n",
      "[INFO][2022/08/08 05:59:33 PM]  - Probabilities (Link: 0.92668, Lost: 1.00000)\n",
      "[INFO][2022/08/08 05:59:33 PM] SUCCESS.\n",
      "[INFO][2022/08/08 05:59:33 PM]  - Found 17653 tracks in 75 frames (in 0.0s)\n",
      "[INFO][2022/08/08 05:59:34 PM]  - Inserted 23139 dummy objects to fill tracking gaps\n",
      "[INFO][2022/08/08 05:59:34 PM] Ending BayesianTracker session\n",
      "[INFO][2022/08/08 05:59:34 PM] Loaded btrack: /home/dayn/miniconda3/envs/aero/lib/python3.9/site-packages/btrack/libs/libtracker.so\n",
      "[INFO][2022/08/08 05:59:34 PM] btrack (v0.4.5) library imported\n",
      "[INFO][2022/08/08 05:59:34 PM] Starting BayesianTracker session\n",
      "[INFO][2022/08/08 05:59:34 PM] Loading configuration file: /home/dayn/analysis/BayesianTracker/models/param_test_config_hypo.json\n",
      "[INFO][2022/08/08 05:59:34 PM] Setting max_search_radius -> 500\n",
      "[INFO][2022/08/08 05:59:34 PM] Setting features -> ['area', 'major_axis_length', 'minor_axis_length', 'orientation', 'solidity', 'mean_intensity']\n",
      "[INFO][2022/08/08 05:59:34 PM] Objects are of type: <class 'list'>\n",
      "[INFO][2022/08/08 05:59:34 PM] Setting volume -> ((0, 6048), (0, 6048), (-100000.0, 100000.0))\n",
      "[INFO][2022/08/08 05:59:34 PM] Starting tracking... \n"
     ]
    },
    {
     "name": "stdout",
     "output_type": "stream",
     "text": [
      "(1, 10, 300, 20, 160) 3.2823316150229425\n"
     ]
    },
    {
     "name": "stderr",
     "output_type": "stream",
     "text": [
      "[INFO][2022/08/08 05:59:34 PM] Tracking objects in frames 0 to 24 (of 75)...\n",
      "[INFO][2022/08/08 05:59:48 PM]  - Timing (Bayesian updates: 517.41ms, Linking: 11.88ms)\n",
      "[INFO][2022/08/08 05:59:48 PM]  - Probabilities (Link: 0.97446, Lost: 1.00000)\n",
      "[INFO][2022/08/08 05:59:48 PM]  - Stats (Active: 2550, Lost: 51737, Conflicts resolved: 1956)\n",
      "[INFO][2022/08/08 05:59:48 PM] Tracking objects in frames 25 to 49 (of 75)...\n",
      "[INFO][2022/08/08 05:59:58 PM]  - Timing (Bayesian updates: 179.72ms, Linking: 5.53ms)\n",
      "[INFO][2022/08/08 05:59:58 PM]  - Probabilities (Link: 0.94544, Lost: 1.00000)\n",
      "[INFO][2022/08/08 05:59:58 PM]  - Stats (Active: 1721, Lost: 105261, Conflicts resolved: 3564)\n",
      "[INFO][2022/08/08 05:59:58 PM] Tracking objects in frames 50 to 74 (of 75)...\n",
      "[INFO][2022/08/08 06:00:00 PM]  - Timing (Bayesian updates: 11.86ms, Linking: 1.05ms)\n",
      "[INFO][2022/08/08 06:00:00 PM]  - Probabilities (Link: 0.92668, Lost: 1.00000)\n",
      "[INFO][2022/08/08 06:00:00 PM] SUCCESS.\n",
      "[INFO][2022/08/08 06:00:00 PM]  - Found 17653 tracks in 75 frames (in 0.0s)\n",
      "[INFO][2022/08/08 06:00:00 PM]  - Inserted 23139 dummy objects to fill tracking gaps\n",
      "[INFO][2022/08/08 06:00:00 PM] Ending BayesianTracker session\n",
      "[INFO][2022/08/08 06:00:01 PM] Loaded btrack: /home/dayn/miniconda3/envs/aero/lib/python3.9/site-packages/btrack/libs/libtracker.so\n",
      "[INFO][2022/08/08 06:00:01 PM] btrack (v0.4.5) library imported\n",
      "[INFO][2022/08/08 06:00:01 PM] Starting BayesianTracker session\n",
      "[INFO][2022/08/08 06:00:01 PM] Loading configuration file: /home/dayn/analysis/BayesianTracker/models/param_test_config_hypo.json\n",
      "[INFO][2022/08/08 06:00:01 PM] Setting max_search_radius -> 500\n",
      "[INFO][2022/08/08 06:00:01 PM] Setting features -> ['area', 'major_axis_length', 'minor_axis_length', 'orientation', 'solidity', 'mean_intensity']\n",
      "[INFO][2022/08/08 06:00:01 PM] Objects are of type: <class 'list'>\n"
     ]
    },
    {
     "name": "stdout",
     "output_type": "stream",
     "text": [
      "(1, 10, 300, 100, 40) 3.2823316150229425\n"
     ]
    },
    {
     "name": "stderr",
     "output_type": "stream",
     "text": [
      "[INFO][2022/08/08 06:00:01 PM] Setting volume -> ((0, 6048), (0, 6048), (-100000.0, 100000.0))\n",
      "[INFO][2022/08/08 06:00:01 PM] Starting tracking... \n",
      "[INFO][2022/08/08 06:00:01 PM] Tracking objects in frames 0 to 24 (of 75)...\n",
      "[INFO][2022/08/08 06:00:14 PM]  - Timing (Bayesian updates: 516.47ms, Linking: 11.99ms)\n",
      "[INFO][2022/08/08 06:00:14 PM]  - Probabilities (Link: 0.97446, Lost: 1.00000)\n",
      "[INFO][2022/08/08 06:00:14 PM]  - Stats (Active: 2550, Lost: 51737, Conflicts resolved: 1956)\n",
      "[INFO][2022/08/08 06:00:14 PM] Tracking objects in frames 25 to 49 (of 75)...\n",
      "[INFO][2022/08/08 06:00:25 PM]  - Timing (Bayesian updates: 180.00ms, Linking: 5.39ms)\n",
      "[INFO][2022/08/08 06:00:25 PM]  - Probabilities (Link: 0.94544, Lost: 1.00000)\n",
      "[INFO][2022/08/08 06:00:25 PM]  - Stats (Active: 1721, Lost: 105261, Conflicts resolved: 3564)\n",
      "[INFO][2022/08/08 06:00:25 PM] Tracking objects in frames 50 to 74 (of 75)...\n",
      "[INFO][2022/08/08 06:00:26 PM]  - Timing (Bayesian updates: 12.01ms, Linking: 1.06ms)\n",
      "[INFO][2022/08/08 06:00:26 PM]  - Probabilities (Link: 0.92668, Lost: 1.00000)\n",
      "[INFO][2022/08/08 06:00:26 PM] SUCCESS.\n",
      "[INFO][2022/08/08 06:00:26 PM]  - Found 17653 tracks in 75 frames (in 0.0s)\n",
      "[INFO][2022/08/08 06:00:26 PM]  - Inserted 23139 dummy objects to fill tracking gaps\n",
      "[INFO][2022/08/08 06:00:27 PM] Ending BayesianTracker session\n",
      "[INFO][2022/08/08 06:00:27 PM] Loaded btrack: /home/dayn/miniconda3/envs/aero/lib/python3.9/site-packages/btrack/libs/libtracker.so\n",
      "[INFO][2022/08/08 06:00:27 PM] btrack (v0.4.5) library imported\n",
      "[INFO][2022/08/08 06:00:27 PM] Starting BayesianTracker session\n",
      "[INFO][2022/08/08 06:00:27 PM] Loading configuration file: /home/dayn/analysis/BayesianTracker/models/param_test_config_hypo.json\n",
      "[INFO][2022/08/08 06:00:27 PM] Setting max_search_radius -> 500\n",
      "[INFO][2022/08/08 06:00:27 PM] Setting features -> ['area', 'major_axis_length', 'minor_axis_length', 'orientation', 'solidity', 'mean_intensity']\n",
      "[INFO][2022/08/08 06:00:27 PM] Objects are of type: <class 'list'>\n",
      "[INFO][2022/08/08 06:00:27 PM] Setting volume -> ((0, 6048), (0, 6048), (-100000.0, 100000.0))\n",
      "[INFO][2022/08/08 06:00:27 PM] Starting tracking... \n"
     ]
    },
    {
     "name": "stdout",
     "output_type": "stream",
     "text": [
      "(1, 10, 300, 100, 80) 3.2823316150229425\n"
     ]
    },
    {
     "name": "stderr",
     "output_type": "stream",
     "text": [
      "[INFO][2022/08/08 06:00:27 PM] Tracking objects in frames 0 to 24 (of 75)...\n",
      "[INFO][2022/08/08 06:00:40 PM]  - Timing (Bayesian updates: 516.72ms, Linking: 12.00ms)\n",
      "[INFO][2022/08/08 06:00:40 PM]  - Probabilities (Link: 0.97446, Lost: 1.00000)\n",
      "[INFO][2022/08/08 06:00:40 PM]  - Stats (Active: 2550, Lost: 51737, Conflicts resolved: 1956)\n",
      "[INFO][2022/08/08 06:00:40 PM] Tracking objects in frames 25 to 49 (of 75)...\n",
      "[INFO][2022/08/08 06:00:51 PM]  - Timing (Bayesian updates: 180.01ms, Linking: 5.58ms)\n",
      "[INFO][2022/08/08 06:00:51 PM]  - Probabilities (Link: 0.94544, Lost: 1.00000)\n",
      "[INFO][2022/08/08 06:00:51 PM]  - Stats (Active: 1721, Lost: 105261, Conflicts resolved: 3564)\n",
      "[INFO][2022/08/08 06:00:51 PM] Tracking objects in frames 50 to 74 (of 75)...\n",
      "[INFO][2022/08/08 06:00:52 PM]  - Timing (Bayesian updates: 12.15ms, Linking: 1.30ms)\n",
      "[INFO][2022/08/08 06:00:52 PM]  - Probabilities (Link: 0.92668, Lost: 1.00000)\n",
      "[INFO][2022/08/08 06:00:52 PM] SUCCESS.\n",
      "[INFO][2022/08/08 06:00:52 PM]  - Found 17653 tracks in 75 frames (in 0.0s)\n",
      "[INFO][2022/08/08 06:00:53 PM]  - Inserted 23139 dummy objects to fill tracking gaps\n",
      "[INFO][2022/08/08 06:00:53 PM] Ending BayesianTracker session\n",
      "[INFO][2022/08/08 06:00:53 PM] Loaded btrack: /home/dayn/miniconda3/envs/aero/lib/python3.9/site-packages/btrack/libs/libtracker.so\n",
      "[INFO][2022/08/08 06:00:53 PM] btrack (v0.4.5) library imported\n",
      "[INFO][2022/08/08 06:00:53 PM] Starting BayesianTracker session\n",
      "[INFO][2022/08/08 06:00:53 PM] Loading configuration file: /home/dayn/analysis/BayesianTracker/models/param_test_config_hypo.json\n",
      "[INFO][2022/08/08 06:00:53 PM] Setting max_search_radius -> 500\n",
      "[INFO][2022/08/08 06:00:53 PM] Setting features -> ['area', 'major_axis_length', 'minor_axis_length', 'orientation', 'solidity', 'mean_intensity']\n",
      "[INFO][2022/08/08 06:00:53 PM] Objects are of type: <class 'list'>\n"
     ]
    },
    {
     "name": "stdout",
     "output_type": "stream",
     "text": [
      "(1, 10, 300, 100, 160) 3.2823316150229425\n"
     ]
    },
    {
     "name": "stderr",
     "output_type": "stream",
     "text": [
      "[INFO][2022/08/08 06:00:53 PM] Setting volume -> ((0, 6048), (0, 6048), (-100000.0, 100000.0))\n",
      "[INFO][2022/08/08 06:00:53 PM] Starting tracking... \n",
      "[INFO][2022/08/08 06:00:54 PM] Tracking objects in frames 0 to 24 (of 75)...\n",
      "[INFO][2022/08/08 06:01:07 PM]  - Timing (Bayesian updates: 527.09ms, Linking: 12.30ms)\n",
      "[INFO][2022/08/08 06:01:07 PM]  - Probabilities (Link: 0.97446, Lost: 1.00000)\n",
      "[INFO][2022/08/08 06:01:07 PM]  - Stats (Active: 2550, Lost: 51737, Conflicts resolved: 1956)\n",
      "[INFO][2022/08/08 06:01:07 PM] Tracking objects in frames 25 to 49 (of 75)...\n",
      "[INFO][2022/08/08 06:01:18 PM]  - Timing (Bayesian updates: 179.11ms, Linking: 5.80ms)\n",
      "[INFO][2022/08/08 06:01:18 PM]  - Probabilities (Link: 0.94544, Lost: 1.00000)\n",
      "[INFO][2022/08/08 06:01:18 PM]  - Stats (Active: 1721, Lost: 105261, Conflicts resolved: 3564)\n",
      "[INFO][2022/08/08 06:01:18 PM] Tracking objects in frames 50 to 74 (of 75)...\n",
      "[INFO][2022/08/08 06:01:19 PM]  - Timing (Bayesian updates: 12.10ms, Linking: 1.07ms)\n",
      "[INFO][2022/08/08 06:01:19 PM]  - Probabilities (Link: 0.92668, Lost: 1.00000)\n",
      "[INFO][2022/08/08 06:01:19 PM] SUCCESS.\n",
      "[INFO][2022/08/08 06:01:19 PM]  - Found 17653 tracks in 75 frames (in 0.0s)\n",
      "[INFO][2022/08/08 06:01:20 PM]  - Inserted 23139 dummy objects to fill tracking gaps\n",
      "[INFO][2022/08/08 06:01:20 PM] Ending BayesianTracker session\n",
      "[INFO][2022/08/08 06:01:20 PM] Loaded btrack: /home/dayn/miniconda3/envs/aero/lib/python3.9/site-packages/btrack/libs/libtracker.so\n",
      "[INFO][2022/08/08 06:01:20 PM] btrack (v0.4.5) library imported\n",
      "[INFO][2022/08/08 06:01:20 PM] Starting BayesianTracker session\n",
      "[INFO][2022/08/08 06:01:20 PM] Loading configuration file: /home/dayn/analysis/BayesianTracker/models/param_test_config_hypo.json\n",
      "[INFO][2022/08/08 06:01:20 PM] Setting max_search_radius -> 500\n",
      "[INFO][2022/08/08 06:01:20 PM] Setting features -> ['area', 'major_axis_length', 'minor_axis_length', 'orientation', 'solidity', 'mean_intensity']\n",
      "[INFO][2022/08/08 06:01:20 PM] Objects are of type: <class 'list'>\n",
      "[INFO][2022/08/08 06:01:20 PM] Setting volume -> ((0, 6048), (0, 6048), (-100000.0, 100000.0))\n",
      "[INFO][2022/08/08 06:01:20 PM] Starting tracking... \n"
     ]
    },
    {
     "name": "stdout",
     "output_type": "stream",
     "text": [
      "(5, 1, 50, 5, 40) 3.2823316150229425\n"
     ]
    },
    {
     "name": "stderr",
     "output_type": "stream",
     "text": [
      "[INFO][2022/08/08 06:01:21 PM] Tracking objects in frames 0 to 24 (of 75)...\n",
      "[INFO][2022/08/08 06:01:34 PM]  - Timing (Bayesian updates: 517.02ms, Linking: 11.71ms)\n",
      "[INFO][2022/08/08 06:01:34 PM]  - Probabilities (Link: 0.97446, Lost: 1.00000)\n",
      "[INFO][2022/08/08 06:01:34 PM]  - Stats (Active: 2550, Lost: 51737, Conflicts resolved: 1956)\n",
      "[INFO][2022/08/08 06:01:34 PM] Tracking objects in frames 25 to 49 (of 75)...\n",
      "[INFO][2022/08/08 06:01:45 PM]  - Timing (Bayesian updates: 179.09ms, Linking: 5.99ms)\n",
      "[INFO][2022/08/08 06:01:45 PM]  - Probabilities (Link: 0.94544, Lost: 1.00000)\n",
      "[INFO][2022/08/08 06:01:45 PM]  - Stats (Active: 1721, Lost: 105261, Conflicts resolved: 3564)\n",
      "[INFO][2022/08/08 06:01:45 PM] Tracking objects in frames 50 to 74 (of 75)...\n",
      "[INFO][2022/08/08 06:01:46 PM]  - Timing (Bayesian updates: 12.50ms, Linking: 1.10ms)\n",
      "[INFO][2022/08/08 06:01:46 PM]  - Probabilities (Link: 0.92668, Lost: 1.00000)\n",
      "[INFO][2022/08/08 06:01:46 PM] SUCCESS.\n",
      "[INFO][2022/08/08 06:01:46 PM]  - Found 17653 tracks in 75 frames (in 0.0s)\n",
      "[INFO][2022/08/08 06:01:46 PM]  - Inserted 23139 dummy objects to fill tracking gaps\n",
      "[INFO][2022/08/08 06:01:46 PM] Ending BayesianTracker session\n",
      "[INFO][2022/08/08 06:01:47 PM] Loaded btrack: /home/dayn/miniconda3/envs/aero/lib/python3.9/site-packages/btrack/libs/libtracker.so\n",
      "[INFO][2022/08/08 06:01:47 PM] btrack (v0.4.5) library imported\n",
      "[INFO][2022/08/08 06:01:47 PM] Starting BayesianTracker session\n",
      "[INFO][2022/08/08 06:01:47 PM] Loading configuration file: /home/dayn/analysis/BayesianTracker/models/param_test_config_hypo.json\n",
      "[INFO][2022/08/08 06:01:47 PM] Setting max_search_radius -> 500\n",
      "[INFO][2022/08/08 06:01:47 PM] Setting features -> ['area', 'major_axis_length', 'minor_axis_length', 'orientation', 'solidity', 'mean_intensity']\n",
      "[INFO][2022/08/08 06:01:47 PM] Objects are of type: <class 'list'>\n",
      "[INFO][2022/08/08 06:01:47 PM] Setting volume -> ((0, 6048), (0, 6048), (-100000.0, 100000.0))\n",
      "[INFO][2022/08/08 06:01:47 PM] Starting tracking... \n"
     ]
    },
    {
     "name": "stdout",
     "output_type": "stream",
     "text": [
      "(5, 1, 50, 5, 80) 3.2823316150229425\n"
     ]
    },
    {
     "name": "stderr",
     "output_type": "stream",
     "text": [
      "[INFO][2022/08/08 06:01:47 PM] Tracking objects in frames 0 to 24 (of 75)...\n",
      "[INFO][2022/08/08 06:02:00 PM]  - Timing (Bayesian updates: 516.81ms, Linking: 11.89ms)\n",
      "[INFO][2022/08/08 06:02:00 PM]  - Probabilities (Link: 0.97446, Lost: 1.00000)\n",
      "[INFO][2022/08/08 06:02:00 PM]  - Stats (Active: 2550, Lost: 51737, Conflicts resolved: 1956)\n",
      "[INFO][2022/08/08 06:02:00 PM] Tracking objects in frames 25 to 49 (of 75)...\n",
      "[INFO][2022/08/08 06:02:11 PM]  - Timing (Bayesian updates: 178.37ms, Linking: 5.51ms)\n",
      "[INFO][2022/08/08 06:02:11 PM]  - Probabilities (Link: 0.94544, Lost: 1.00000)\n",
      "[INFO][2022/08/08 06:02:11 PM]  - Stats (Active: 1721, Lost: 105261, Conflicts resolved: 3564)\n",
      "[INFO][2022/08/08 06:02:11 PM] Tracking objects in frames 50 to 74 (of 75)...\n",
      "[INFO][2022/08/08 06:02:12 PM]  - Timing (Bayesian updates: 12.33ms, Linking: 1.12ms)\n",
      "[INFO][2022/08/08 06:02:12 PM]  - Probabilities (Link: 0.92668, Lost: 1.00000)\n",
      "[INFO][2022/08/08 06:02:12 PM] SUCCESS.\n",
      "[INFO][2022/08/08 06:02:12 PM]  - Found 17653 tracks in 75 frames (in 0.0s)\n",
      "[INFO][2022/08/08 06:02:12 PM]  - Inserted 23139 dummy objects to fill tracking gaps\n",
      "[INFO][2022/08/08 06:02:13 PM] Ending BayesianTracker session\n",
      "[INFO][2022/08/08 06:02:13 PM] Loaded btrack: /home/dayn/miniconda3/envs/aero/lib/python3.9/site-packages/btrack/libs/libtracker.so\n",
      "[INFO][2022/08/08 06:02:13 PM] btrack (v0.4.5) library imported\n",
      "[INFO][2022/08/08 06:02:13 PM] Starting BayesianTracker session\n",
      "[INFO][2022/08/08 06:02:13 PM] Loading configuration file: /home/dayn/analysis/BayesianTracker/models/param_test_config_hypo.json\n",
      "[INFO][2022/08/08 06:02:13 PM] Setting max_search_radius -> 500\n",
      "[INFO][2022/08/08 06:02:13 PM] Setting features -> ['area', 'major_axis_length', 'minor_axis_length', 'orientation', 'solidity', 'mean_intensity']\n",
      "[INFO][2022/08/08 06:02:13 PM] Objects are of type: <class 'list'>\n"
     ]
    },
    {
     "name": "stdout",
     "output_type": "stream",
     "text": [
      "(5, 1, 50, 5, 160) 3.2823316150229425\n"
     ]
    },
    {
     "name": "stderr",
     "output_type": "stream",
     "text": [
      "[INFO][2022/08/08 06:02:13 PM] Setting volume -> ((0, 6048), (0, 6048), (-100000.0, 100000.0))\n",
      "[INFO][2022/08/08 06:02:13 PM] Starting tracking... \n",
      "[INFO][2022/08/08 06:02:13 PM] Tracking objects in frames 0 to 24 (of 75)...\n",
      "[INFO][2022/08/08 06:02:27 PM]  - Timing (Bayesian updates: 514.44ms, Linking: 11.52ms)\n",
      "[INFO][2022/08/08 06:02:27 PM]  - Probabilities (Link: 0.97446, Lost: 1.00000)\n",
      "[INFO][2022/08/08 06:02:27 PM]  - Stats (Active: 2550, Lost: 51737, Conflicts resolved: 1956)\n",
      "[INFO][2022/08/08 06:02:27 PM] Tracking objects in frames 25 to 49 (of 75)...\n",
      "[INFO][2022/08/08 06:02:38 PM]  - Timing (Bayesian updates: 179.06ms, Linking: 6.02ms)\n",
      "[INFO][2022/08/08 06:02:38 PM]  - Probabilities (Link: 0.94544, Lost: 1.00000)\n",
      "[INFO][2022/08/08 06:02:38 PM]  - Stats (Active: 1721, Lost: 105261, Conflicts resolved: 3564)\n",
      "[INFO][2022/08/08 06:02:38 PM] Tracking objects in frames 50 to 74 (of 75)...\n",
      "[INFO][2022/08/08 06:02:39 PM]  - Timing (Bayesian updates: 11.79ms, Linking: 1.06ms)\n",
      "[INFO][2022/08/08 06:02:39 PM]  - Probabilities (Link: 0.92668, Lost: 1.00000)\n",
      "[INFO][2022/08/08 06:02:39 PM] SUCCESS.\n",
      "[INFO][2022/08/08 06:02:39 PM]  - Found 17653 tracks in 75 frames (in 0.0s)\n",
      "[INFO][2022/08/08 06:02:39 PM]  - Inserted 23139 dummy objects to fill tracking gaps\n",
      "[INFO][2022/08/08 06:02:40 PM] Ending BayesianTracker session\n",
      "[INFO][2022/08/08 06:02:40 PM] Loaded btrack: /home/dayn/miniconda3/envs/aero/lib/python3.9/site-packages/btrack/libs/libtracker.so\n",
      "[INFO][2022/08/08 06:02:40 PM] btrack (v0.4.5) library imported\n",
      "[INFO][2022/08/08 06:02:40 PM] Starting BayesianTracker session\n",
      "[INFO][2022/08/08 06:02:40 PM] Loading configuration file: /home/dayn/analysis/BayesianTracker/models/param_test_config_hypo.json\n",
      "[INFO][2022/08/08 06:02:40 PM] Setting max_search_radius -> 500\n",
      "[INFO][2022/08/08 06:02:40 PM] Setting features -> ['area', 'major_axis_length', 'minor_axis_length', 'orientation', 'solidity', 'mean_intensity']\n",
      "[INFO][2022/08/08 06:02:40 PM] Objects are of type: <class 'list'>\n",
      "[INFO][2022/08/08 06:02:40 PM] Setting volume -> ((0, 6048), (0, 6048), (-100000.0, 100000.0))\n",
      "[INFO][2022/08/08 06:02:40 PM] Starting tracking... \n"
     ]
    },
    {
     "name": "stdout",
     "output_type": "stream",
     "text": [
      "(5, 1, 50, 20, 40) 3.2823316150229425\n"
     ]
    },
    {
     "name": "stderr",
     "output_type": "stream",
     "text": [
      "[INFO][2022/08/08 06:02:40 PM] Tracking objects in frames 0 to 24 (of 75)...\n",
      "[INFO][2022/08/08 06:02:53 PM]  - Timing (Bayesian updates: 515.62ms, Linking: 11.43ms)\n",
      "[INFO][2022/08/08 06:02:53 PM]  - Probabilities (Link: 0.97446, Lost: 1.00000)\n",
      "[INFO][2022/08/08 06:02:53 PM]  - Stats (Active: 2550, Lost: 51737, Conflicts resolved: 1956)\n",
      "[INFO][2022/08/08 06:02:53 PM] Tracking objects in frames 25 to 49 (of 75)...\n",
      "[INFO][2022/08/08 06:03:04 PM]  - Timing (Bayesian updates: 180.45ms, Linking: 5.63ms)\n",
      "[INFO][2022/08/08 06:03:04 PM]  - Probabilities (Link: 0.94544, Lost: 1.00000)\n",
      "[INFO][2022/08/08 06:03:04 PM]  - Stats (Active: 1721, Lost: 105261, Conflicts resolved: 3564)\n",
      "[INFO][2022/08/08 06:03:04 PM] Tracking objects in frames 50 to 74 (of 75)...\n",
      "[INFO][2022/08/08 06:03:05 PM]  - Timing (Bayesian updates: 11.78ms, Linking: 1.10ms)\n",
      "[INFO][2022/08/08 06:03:05 PM]  - Probabilities (Link: 0.92668, Lost: 1.00000)\n",
      "[INFO][2022/08/08 06:03:05 PM] SUCCESS.\n",
      "[INFO][2022/08/08 06:03:05 PM]  - Found 17653 tracks in 75 frames (in 0.0s)\n",
      "[INFO][2022/08/08 06:03:06 PM]  - Inserted 23139 dummy objects to fill tracking gaps\n",
      "[INFO][2022/08/08 06:03:06 PM] Ending BayesianTracker session\n",
      "[INFO][2022/08/08 06:03:06 PM] Loaded btrack: /home/dayn/miniconda3/envs/aero/lib/python3.9/site-packages/btrack/libs/libtracker.so\n",
      "[INFO][2022/08/08 06:03:06 PM] btrack (v0.4.5) library imported\n",
      "[INFO][2022/08/08 06:03:06 PM] Starting BayesianTracker session\n",
      "[INFO][2022/08/08 06:03:06 PM] Loading configuration file: /home/dayn/analysis/BayesianTracker/models/param_test_config_hypo.json\n",
      "[INFO][2022/08/08 06:03:06 PM] Setting max_search_radius -> 500\n",
      "[INFO][2022/08/08 06:03:06 PM] Setting features -> ['area', 'major_axis_length', 'minor_axis_length', 'orientation', 'solidity', 'mean_intensity']\n",
      "[INFO][2022/08/08 06:03:06 PM] Objects are of type: <class 'list'>\n"
     ]
    },
    {
     "name": "stdout",
     "output_type": "stream",
     "text": [
      "(5, 1, 50, 20, 80) 3.2823316150229425\n"
     ]
    },
    {
     "name": "stderr",
     "output_type": "stream",
     "text": [
      "[INFO][2022/08/08 06:03:06 PM] Setting volume -> ((0, 6048), (0, 6048), (-100000.0, 100000.0))\n",
      "[INFO][2022/08/08 06:03:06 PM] Starting tracking... \n",
      "[INFO][2022/08/08 06:03:07 PM] Tracking objects in frames 0 to 24 (of 75)...\n",
      "[INFO][2022/08/08 06:03:20 PM]  - Timing (Bayesian updates: 515.36ms, Linking: 11.59ms)\n",
      "[INFO][2022/08/08 06:03:20 PM]  - Probabilities (Link: 0.97446, Lost: 1.00000)\n",
      "[INFO][2022/08/08 06:03:20 PM]  - Stats (Active: 2550, Lost: 51737, Conflicts resolved: 1956)\n",
      "[INFO][2022/08/08 06:03:20 PM] Tracking objects in frames 25 to 49 (of 75)...\n",
      "[INFO][2022/08/08 06:03:31 PM]  - Timing (Bayesian updates: 178.35ms, Linking: 5.37ms)\n",
      "[INFO][2022/08/08 06:03:31 PM]  - Probabilities (Link: 0.94544, Lost: 1.00000)\n",
      "[INFO][2022/08/08 06:03:31 PM]  - Stats (Active: 1721, Lost: 105261, Conflicts resolved: 3564)\n",
      "[INFO][2022/08/08 06:03:31 PM] Tracking objects in frames 50 to 74 (of 75)...\n",
      "[INFO][2022/08/08 06:03:32 PM]  - Timing (Bayesian updates: 12.15ms, Linking: 1.04ms)\n",
      "[INFO][2022/08/08 06:03:32 PM]  - Probabilities (Link: 0.92668, Lost: 1.00000)\n",
      "[INFO][2022/08/08 06:03:32 PM] SUCCESS.\n",
      "[INFO][2022/08/08 06:03:32 PM]  - Found 17653 tracks in 75 frames (in 0.0s)\n",
      "[INFO][2022/08/08 06:03:33 PM]  - Inserted 23139 dummy objects to fill tracking gaps\n",
      "[INFO][2022/08/08 06:03:33 PM] Ending BayesianTracker session\n",
      "[INFO][2022/08/08 06:03:33 PM] Loaded btrack: /home/dayn/miniconda3/envs/aero/lib/python3.9/site-packages/btrack/libs/libtracker.so\n",
      "[INFO][2022/08/08 06:03:33 PM] btrack (v0.4.5) library imported\n",
      "[INFO][2022/08/08 06:03:33 PM] Starting BayesianTracker session\n",
      "[INFO][2022/08/08 06:03:33 PM] Loading configuration file: /home/dayn/analysis/BayesianTracker/models/param_test_config_hypo.json\n",
      "[INFO][2022/08/08 06:03:33 PM] Setting max_search_radius -> 500\n",
      "[INFO][2022/08/08 06:03:33 PM] Setting features -> ['area', 'major_axis_length', 'minor_axis_length', 'orientation', 'solidity', 'mean_intensity']\n",
      "[INFO][2022/08/08 06:03:33 PM] Objects are of type: <class 'list'>\n"
     ]
    },
    {
     "name": "stdout",
     "output_type": "stream",
     "text": [
      "(5, 1, 50, 20, 160) 3.2823316150229425\n"
     ]
    },
    {
     "name": "stderr",
     "output_type": "stream",
     "text": [
      "[INFO][2022/08/08 06:03:33 PM] Setting volume -> ((0, 6048), (0, 6048), (-100000.0, 100000.0))\n",
      "[INFO][2022/08/08 06:03:33 PM] Starting tracking... \n",
      "[INFO][2022/08/08 06:03:33 PM] Tracking objects in frames 0 to 24 (of 75)...\n",
      "[INFO][2022/08/08 06:03:47 PM]  - Timing (Bayesian updates: 516.84ms, Linking: 11.93ms)\n",
      "[INFO][2022/08/08 06:03:47 PM]  - Probabilities (Link: 0.97446, Lost: 1.00000)\n",
      "[INFO][2022/08/08 06:03:47 PM]  - Stats (Active: 2550, Lost: 51737, Conflicts resolved: 1956)\n",
      "[INFO][2022/08/08 06:03:47 PM] Tracking objects in frames 25 to 49 (of 75)...\n",
      "[INFO][2022/08/08 06:03:58 PM]  - Timing (Bayesian updates: 179.20ms, Linking: 5.34ms)\n",
      "[INFO][2022/08/08 06:03:58 PM]  - Probabilities (Link: 0.94544, Lost: 1.00000)\n",
      "[INFO][2022/08/08 06:03:58 PM]  - Stats (Active: 1721, Lost: 105261, Conflicts resolved: 3564)\n",
      "[INFO][2022/08/08 06:03:58 PM] Tracking objects in frames 50 to 74 (of 75)...\n",
      "[INFO][2022/08/08 06:03:59 PM]  - Timing (Bayesian updates: 11.77ms, Linking: 1.04ms)\n",
      "[INFO][2022/08/08 06:03:59 PM]  - Probabilities (Link: 0.92668, Lost: 1.00000)\n",
      "[INFO][2022/08/08 06:03:59 PM] SUCCESS.\n",
      "[INFO][2022/08/08 06:03:59 PM]  - Found 17653 tracks in 75 frames (in 0.0s)\n",
      "[INFO][2022/08/08 06:03:59 PM]  - Inserted 23139 dummy objects to fill tracking gaps\n",
      "[INFO][2022/08/08 06:04:00 PM] Ending BayesianTracker session\n",
      "[INFO][2022/08/08 06:04:00 PM] Loaded btrack: /home/dayn/miniconda3/envs/aero/lib/python3.9/site-packages/btrack/libs/libtracker.so\n",
      "[INFO][2022/08/08 06:04:00 PM] btrack (v0.4.5) library imported\n",
      "[INFO][2022/08/08 06:04:00 PM] Starting BayesianTracker session\n",
      "[INFO][2022/08/08 06:04:00 PM] Loading configuration file: /home/dayn/analysis/BayesianTracker/models/param_test_config_hypo.json\n",
      "[INFO][2022/08/08 06:04:00 PM] Setting max_search_radius -> 500\n",
      "[INFO][2022/08/08 06:04:00 PM] Setting features -> ['area', 'major_axis_length', 'minor_axis_length', 'orientation', 'solidity', 'mean_intensity']\n",
      "[INFO][2022/08/08 06:04:00 PM] Objects are of type: <class 'list'>\n"
     ]
    },
    {
     "name": "stdout",
     "output_type": "stream",
     "text": [
      "(5, 1, 50, 100, 40) 3.2823316150229425\n"
     ]
    },
    {
     "name": "stderr",
     "output_type": "stream",
     "text": [
      "[INFO][2022/08/08 06:04:00 PM] Setting volume -> ((0, 6048), (0, 6048), (-100000.0, 100000.0))\n",
      "[INFO][2022/08/08 06:04:00 PM] Starting tracking... \n",
      "[INFO][2022/08/08 06:04:00 PM] Tracking objects in frames 0 to 24 (of 75)...\n",
      "[INFO][2022/08/08 06:04:13 PM]  - Timing (Bayesian updates: 518.79ms, Linking: 12.24ms)\n",
      "[INFO][2022/08/08 06:04:13 PM]  - Probabilities (Link: 0.97446, Lost: 1.00000)\n",
      "[INFO][2022/08/08 06:04:13 PM]  - Stats (Active: 2550, Lost: 51737, Conflicts resolved: 1956)\n",
      "[INFO][2022/08/08 06:04:13 PM] Tracking objects in frames 25 to 49 (of 75)...\n",
      "[INFO][2022/08/08 06:04:24 PM]  - Timing (Bayesian updates: 182.40ms, Linking: 6.28ms)\n",
      "[INFO][2022/08/08 06:04:24 PM]  - Probabilities (Link: 0.94544, Lost: 1.00000)\n",
      "[INFO][2022/08/08 06:04:24 PM]  - Stats (Active: 1721, Lost: 105261, Conflicts resolved: 3564)\n",
      "[INFO][2022/08/08 06:04:24 PM] Tracking objects in frames 50 to 74 (of 75)...\n",
      "[INFO][2022/08/08 06:04:25 PM]  - Timing (Bayesian updates: 11.89ms, Linking: 1.12ms)\n",
      "[INFO][2022/08/08 06:04:25 PM]  - Probabilities (Link: 0.92668, Lost: 1.00000)\n",
      "[INFO][2022/08/08 06:04:25 PM] SUCCESS.\n",
      "[INFO][2022/08/08 06:04:25 PM]  - Found 17653 tracks in 75 frames (in 0.0s)\n",
      "[INFO][2022/08/08 06:04:26 PM]  - Inserted 23139 dummy objects to fill tracking gaps\n",
      "[INFO][2022/08/08 06:04:26 PM] Ending BayesianTracker session\n",
      "[INFO][2022/08/08 06:04:26 PM] Loaded btrack: /home/dayn/miniconda3/envs/aero/lib/python3.9/site-packages/btrack/libs/libtracker.so\n",
      "[INFO][2022/08/08 06:04:26 PM] btrack (v0.4.5) library imported\n",
      "[INFO][2022/08/08 06:04:26 PM] Starting BayesianTracker session\n",
      "[INFO][2022/08/08 06:04:26 PM] Loading configuration file: /home/dayn/analysis/BayesianTracker/models/param_test_config_hypo.json\n",
      "[INFO][2022/08/08 06:04:26 PM] Setting max_search_radius -> 500\n",
      "[INFO][2022/08/08 06:04:26 PM] Setting features -> ['area', 'major_axis_length', 'minor_axis_length', 'orientation', 'solidity', 'mean_intensity']\n",
      "[INFO][2022/08/08 06:04:26 PM] Objects are of type: <class 'list'>\n",
      "[INFO][2022/08/08 06:04:26 PM] Setting volume -> ((0, 6048), (0, 6048), (-100000.0, 100000.0))\n",
      "[INFO][2022/08/08 06:04:26 PM] Starting tracking... \n"
     ]
    },
    {
     "name": "stdout",
     "output_type": "stream",
     "text": [
      "(5, 1, 50, 100, 80) 3.2823316150229425\n"
     ]
    },
    {
     "name": "stderr",
     "output_type": "stream",
     "text": [
      "[INFO][2022/08/08 06:04:26 PM] Tracking objects in frames 0 to 24 (of 75)...\n",
      "[INFO][2022/08/08 06:04:39 PM]  - Timing (Bayesian updates: 518.08ms, Linking: 11.78ms)\n",
      "[INFO][2022/08/08 06:04:39 PM]  - Probabilities (Link: 0.97446, Lost: 1.00000)\n",
      "[INFO][2022/08/08 06:04:39 PM]  - Stats (Active: 2550, Lost: 51737, Conflicts resolved: 1956)\n",
      "[INFO][2022/08/08 06:04:39 PM] Tracking objects in frames 25 to 49 (of 75)...\n",
      "[INFO][2022/08/08 06:04:50 PM]  - Timing (Bayesian updates: 179.17ms, Linking: 6.15ms)\n",
      "[INFO][2022/08/08 06:04:50 PM]  - Probabilities (Link: 0.94544, Lost: 1.00000)\n",
      "[INFO][2022/08/08 06:04:50 PM]  - Stats (Active: 1721, Lost: 105261, Conflicts resolved: 3564)\n",
      "[INFO][2022/08/08 06:04:50 PM] Tracking objects in frames 50 to 74 (of 75)...\n",
      "[INFO][2022/08/08 06:04:52 PM]  - Timing (Bayesian updates: 12.13ms, Linking: 1.09ms)\n",
      "[INFO][2022/08/08 06:04:52 PM]  - Probabilities (Link: 0.92668, Lost: 1.00000)\n",
      "[INFO][2022/08/08 06:04:52 PM] SUCCESS.\n",
      "[INFO][2022/08/08 06:04:52 PM]  - Found 17653 tracks in 75 frames (in 0.0s)\n",
      "[INFO][2022/08/08 06:04:52 PM]  - Inserted 23139 dummy objects to fill tracking gaps\n",
      "[INFO][2022/08/08 06:04:52 PM] Ending BayesianTracker session\n",
      "[INFO][2022/08/08 06:04:52 PM] Loaded btrack: /home/dayn/miniconda3/envs/aero/lib/python3.9/site-packages/btrack/libs/libtracker.so\n",
      "[INFO][2022/08/08 06:04:52 PM] btrack (v0.4.5) library imported\n",
      "[INFO][2022/08/08 06:04:52 PM] Starting BayesianTracker session\n",
      "[INFO][2022/08/08 06:04:52 PM] Loading configuration file: /home/dayn/analysis/BayesianTracker/models/param_test_config_hypo.json\n",
      "[INFO][2022/08/08 06:04:52 PM] Setting max_search_radius -> 500\n",
      "[INFO][2022/08/08 06:04:52 PM] Setting features -> ['area', 'major_axis_length', 'minor_axis_length', 'orientation', 'solidity', 'mean_intensity']\n",
      "[INFO][2022/08/08 06:04:52 PM] Objects are of type: <class 'list'>\n"
     ]
    },
    {
     "name": "stdout",
     "output_type": "stream",
     "text": [
      "(5, 1, 50, 100, 160) 3.2823316150229425\n"
     ]
    },
    {
     "name": "stderr",
     "output_type": "stream",
     "text": [
      "[INFO][2022/08/08 06:04:53 PM] Setting volume -> ((0, 6048), (0, 6048), (-100000.0, 100000.0))\n",
      "[INFO][2022/08/08 06:04:53 PM] Starting tracking... \n",
      "[INFO][2022/08/08 06:04:53 PM] Tracking objects in frames 0 to 24 (of 75)...\n",
      "[INFO][2022/08/08 06:05:07 PM]  - Timing (Bayesian updates: 518.22ms, Linking: 11.86ms)\n",
      "[INFO][2022/08/08 06:05:07 PM]  - Probabilities (Link: 0.97446, Lost: 1.00000)\n",
      "[INFO][2022/08/08 06:05:07 PM]  - Stats (Active: 2550, Lost: 51737, Conflicts resolved: 1956)\n",
      "[INFO][2022/08/08 06:05:07 PM] Tracking objects in frames 25 to 49 (of 75)...\n",
      "[INFO][2022/08/08 06:05:18 PM]  - Timing (Bayesian updates: 178.91ms, Linking: 5.92ms)\n",
      "[INFO][2022/08/08 06:05:18 PM]  - Probabilities (Link: 0.94544, Lost: 1.00000)\n",
      "[INFO][2022/08/08 06:05:18 PM]  - Stats (Active: 1721, Lost: 105261, Conflicts resolved: 3564)\n",
      "[INFO][2022/08/08 06:05:18 PM] Tracking objects in frames 50 to 74 (of 75)...\n",
      "[INFO][2022/08/08 06:05:19 PM]  - Timing (Bayesian updates: 11.85ms, Linking: 1.02ms)\n",
      "[INFO][2022/08/08 06:05:19 PM]  - Probabilities (Link: 0.92668, Lost: 1.00000)\n",
      "[INFO][2022/08/08 06:05:19 PM] SUCCESS.\n",
      "[INFO][2022/08/08 06:05:19 PM]  - Found 17653 tracks in 75 frames (in 0.0s)\n",
      "[INFO][2022/08/08 06:05:19 PM]  - Inserted 23139 dummy objects to fill tracking gaps\n",
      "[INFO][2022/08/08 06:05:20 PM] Ending BayesianTracker session\n",
      "[INFO][2022/08/08 06:05:20 PM] Loaded btrack: /home/dayn/miniconda3/envs/aero/lib/python3.9/site-packages/btrack/libs/libtracker.so\n",
      "[INFO][2022/08/08 06:05:20 PM] btrack (v0.4.5) library imported\n",
      "[INFO][2022/08/08 06:05:20 PM] Starting BayesianTracker session\n",
      "[INFO][2022/08/08 06:05:20 PM] Loading configuration file: /home/dayn/analysis/BayesianTracker/models/param_test_config_hypo.json\n",
      "[INFO][2022/08/08 06:05:20 PM] Setting max_search_radius -> 500\n",
      "[INFO][2022/08/08 06:05:20 PM] Setting features -> ['area', 'major_axis_length', 'minor_axis_length', 'orientation', 'solidity', 'mean_intensity']\n",
      "[INFO][2022/08/08 06:05:20 PM] Objects are of type: <class 'list'>\n"
     ]
    },
    {
     "name": "stdout",
     "output_type": "stream",
     "text": [
      "(5, 1, 100, 5, 40) 3.2823316150229425\n"
     ]
    },
    {
     "name": "stderr",
     "output_type": "stream",
     "text": [
      "[INFO][2022/08/08 06:05:20 PM] Setting volume -> ((0, 6048), (0, 6048), (-100000.0, 100000.0))\n",
      "[INFO][2022/08/08 06:05:20 PM] Starting tracking... \n",
      "[INFO][2022/08/08 06:05:20 PM] Tracking objects in frames 0 to 24 (of 75)...\n",
      "[INFO][2022/08/08 06:05:34 PM]  - Timing (Bayesian updates: 520.17ms, Linking: 11.87ms)\n",
      "[INFO][2022/08/08 06:05:34 PM]  - Probabilities (Link: 0.97446, Lost: 1.00000)\n",
      "[INFO][2022/08/08 06:05:34 PM]  - Stats (Active: 2550, Lost: 51737, Conflicts resolved: 1956)\n",
      "[INFO][2022/08/08 06:05:34 PM] Tracking objects in frames 25 to 49 (of 75)...\n",
      "[INFO][2022/08/08 06:05:45 PM]  - Timing (Bayesian updates: 179.53ms, Linking: 5.46ms)\n",
      "[INFO][2022/08/08 06:05:45 PM]  - Probabilities (Link: 0.94544, Lost: 1.00000)\n",
      "[INFO][2022/08/08 06:05:45 PM]  - Stats (Active: 1721, Lost: 105261, Conflicts resolved: 3564)\n",
      "[INFO][2022/08/08 06:05:45 PM] Tracking objects in frames 50 to 74 (of 75)...\n",
      "[INFO][2022/08/08 06:05:46 PM]  - Timing (Bayesian updates: 11.84ms, Linking: 1.04ms)\n",
      "[INFO][2022/08/08 06:05:46 PM]  - Probabilities (Link: 0.92668, Lost: 1.00000)\n",
      "[INFO][2022/08/08 06:05:46 PM] SUCCESS.\n",
      "[INFO][2022/08/08 06:05:46 PM]  - Found 17653 tracks in 75 frames (in 0.0s)\n",
      "[INFO][2022/08/08 06:05:47 PM]  - Inserted 23139 dummy objects to fill tracking gaps\n",
      "[INFO][2022/08/08 06:05:47 PM] Ending BayesianTracker session\n",
      "[INFO][2022/08/08 06:05:47 PM] Loaded btrack: /home/dayn/miniconda3/envs/aero/lib/python3.9/site-packages/btrack/libs/libtracker.so\n",
      "[INFO][2022/08/08 06:05:47 PM] btrack (v0.4.5) library imported\n",
      "[INFO][2022/08/08 06:05:47 PM] Starting BayesianTracker session\n",
      "[INFO][2022/08/08 06:05:47 PM] Loading configuration file: /home/dayn/analysis/BayesianTracker/models/param_test_config_hypo.json\n",
      "[INFO][2022/08/08 06:05:47 PM] Setting max_search_radius -> 500\n",
      "[INFO][2022/08/08 06:05:47 PM] Setting features -> ['area', 'major_axis_length', 'minor_axis_length', 'orientation', 'solidity', 'mean_intensity']\n",
      "[INFO][2022/08/08 06:05:47 PM] Objects are of type: <class 'list'>\n"
     ]
    },
    {
     "name": "stdout",
     "output_type": "stream",
     "text": [
      "(5, 1, 100, 5, 80) 3.2823316150229425\n"
     ]
    },
    {
     "name": "stderr",
     "output_type": "stream",
     "text": [
      "[INFO][2022/08/08 06:05:47 PM] Setting volume -> ((0, 6048), (0, 6048), (-100000.0, 100000.0))\n",
      "[INFO][2022/08/08 06:05:47 PM] Starting tracking... \n",
      "[INFO][2022/08/08 06:05:47 PM] Tracking objects in frames 0 to 24 (of 75)...\n",
      "[INFO][2022/08/08 06:06:01 PM]  - Timing (Bayesian updates: 517.61ms, Linking: 11.91ms)\n",
      "[INFO][2022/08/08 06:06:01 PM]  - Probabilities (Link: 0.97446, Lost: 1.00000)\n",
      "[INFO][2022/08/08 06:06:01 PM]  - Stats (Active: 2550, Lost: 51737, Conflicts resolved: 1956)\n",
      "[INFO][2022/08/08 06:06:01 PM] Tracking objects in frames 25 to 49 (of 75)...\n",
      "[INFO][2022/08/08 06:06:12 PM]  - Timing (Bayesian updates: 181.04ms, Linking: 6.52ms)\n",
      "[INFO][2022/08/08 06:06:12 PM]  - Probabilities (Link: 0.94544, Lost: 1.00000)\n",
      "[INFO][2022/08/08 06:06:12 PM]  - Stats (Active: 1721, Lost: 105261, Conflicts resolved: 3564)\n",
      "[INFO][2022/08/08 06:06:12 PM] Tracking objects in frames 50 to 74 (of 75)...\n",
      "[INFO][2022/08/08 06:06:13 PM]  - Timing (Bayesian updates: 12.05ms, Linking: 1.05ms)\n",
      "[INFO][2022/08/08 06:06:13 PM]  - Probabilities (Link: 0.92668, Lost: 1.00000)\n",
      "[INFO][2022/08/08 06:06:13 PM] SUCCESS.\n",
      "[INFO][2022/08/08 06:06:13 PM]  - Found 17653 tracks in 75 frames (in 0.0s)\n",
      "[INFO][2022/08/08 06:06:13 PM]  - Inserted 23139 dummy objects to fill tracking gaps\n",
      "[INFO][2022/08/08 06:06:14 PM] Ending BayesianTracker session\n",
      "[INFO][2022/08/08 06:06:14 PM] Loaded btrack: /home/dayn/miniconda3/envs/aero/lib/python3.9/site-packages/btrack/libs/libtracker.so\n",
      "[INFO][2022/08/08 06:06:14 PM] btrack (v0.4.5) library imported\n",
      "[INFO][2022/08/08 06:06:14 PM] Starting BayesianTracker session\n",
      "[INFO][2022/08/08 06:06:14 PM] Loading configuration file: /home/dayn/analysis/BayesianTracker/models/param_test_config_hypo.json\n",
      "[INFO][2022/08/08 06:06:14 PM] Setting max_search_radius -> 500\n",
      "[INFO][2022/08/08 06:06:14 PM] Setting features -> ['area', 'major_axis_length', 'minor_axis_length', 'orientation', 'solidity', 'mean_intensity']\n",
      "[INFO][2022/08/08 06:06:14 PM] Objects are of type: <class 'list'>\n"
     ]
    },
    {
     "name": "stdout",
     "output_type": "stream",
     "text": [
      "(5, 1, 100, 5, 160) 3.2823316150229425\n"
     ]
    },
    {
     "name": "stderr",
     "output_type": "stream",
     "text": [
      "[INFO][2022/08/08 06:06:14 PM] Setting volume -> ((0, 6048), (0, 6048), (-100000.0, 100000.0))\n",
      "[INFO][2022/08/08 06:06:14 PM] Starting tracking... \n",
      "[INFO][2022/08/08 06:06:15 PM] Tracking objects in frames 0 to 24 (of 75)...\n",
      "[INFO][2022/08/08 06:06:28 PM]  - Timing (Bayesian updates: 521.18ms, Linking: 12.26ms)\n",
      "[INFO][2022/08/08 06:06:28 PM]  - Probabilities (Link: 0.97446, Lost: 1.00000)\n",
      "[INFO][2022/08/08 06:06:28 PM]  - Stats (Active: 2550, Lost: 51737, Conflicts resolved: 1956)\n",
      "[INFO][2022/08/08 06:06:28 PM] Tracking objects in frames 25 to 49 (of 75)...\n",
      "[INFO][2022/08/08 06:06:39 PM]  - Timing (Bayesian updates: 179.28ms, Linking: 5.25ms)\n",
      "[INFO][2022/08/08 06:06:39 PM]  - Probabilities (Link: 0.94544, Lost: 1.00000)\n",
      "[INFO][2022/08/08 06:06:39 PM]  - Stats (Active: 1721, Lost: 105261, Conflicts resolved: 3564)\n",
      "[INFO][2022/08/08 06:06:39 PM] Tracking objects in frames 50 to 74 (of 75)...\n",
      "[INFO][2022/08/08 06:06:41 PM]  - Timing (Bayesian updates: 11.79ms, Linking: 1.09ms)\n",
      "[INFO][2022/08/08 06:06:41 PM]  - Probabilities (Link: 0.92668, Lost: 1.00000)\n",
      "[INFO][2022/08/08 06:06:41 PM] SUCCESS.\n",
      "[INFO][2022/08/08 06:06:41 PM]  - Found 17653 tracks in 75 frames (in 0.0s)\n",
      "[INFO][2022/08/08 06:06:41 PM]  - Inserted 23139 dummy objects to fill tracking gaps\n",
      "[INFO][2022/08/08 06:06:41 PM] Ending BayesianTracker session\n",
      "[INFO][2022/08/08 06:06:41 PM] Loaded btrack: /home/dayn/miniconda3/envs/aero/lib/python3.9/site-packages/btrack/libs/libtracker.so\n",
      "[INFO][2022/08/08 06:06:41 PM] btrack (v0.4.5) library imported\n",
      "[INFO][2022/08/08 06:06:41 PM] Starting BayesianTracker session\n",
      "[INFO][2022/08/08 06:06:41 PM] Loading configuration file: /home/dayn/analysis/BayesianTracker/models/param_test_config_hypo.json\n",
      "[INFO][2022/08/08 06:06:41 PM] Setting max_search_radius -> 500\n",
      "[INFO][2022/08/08 06:06:41 PM] Setting features -> ['area', 'major_axis_length', 'minor_axis_length', 'orientation', 'solidity', 'mean_intensity']\n",
      "[INFO][2022/08/08 06:06:41 PM] Objects are of type: <class 'list'>\n"
     ]
    },
    {
     "name": "stdout",
     "output_type": "stream",
     "text": [
      "(5, 1, 100, 20, 40) 3.2823316150229425\n"
     ]
    },
    {
     "name": "stderr",
     "output_type": "stream",
     "text": [
      "[INFO][2022/08/08 06:06:41 PM] Setting volume -> ((0, 6048), (0, 6048), (-100000.0, 100000.0))\n",
      "[INFO][2022/08/08 06:06:41 PM] Starting tracking... \n",
      "[INFO][2022/08/08 06:06:42 PM] Tracking objects in frames 0 to 24 (of 75)...\n",
      "[INFO][2022/08/08 06:06:55 PM]  - Timing (Bayesian updates: 527.85ms, Linking: 11.94ms)\n",
      "[INFO][2022/08/08 06:06:55 PM]  - Probabilities (Link: 0.97446, Lost: 1.00000)\n",
      "[INFO][2022/08/08 06:06:55 PM]  - Stats (Active: 2550, Lost: 51737, Conflicts resolved: 1956)\n",
      "[INFO][2022/08/08 06:06:55 PM] Tracking objects in frames 25 to 49 (of 75)...\n",
      "[INFO][2022/08/08 06:07:06 PM]  - Timing (Bayesian updates: 182.72ms, Linking: 5.67ms)\n",
      "[INFO][2022/08/08 06:07:06 PM]  - Probabilities (Link: 0.94544, Lost: 1.00000)\n",
      "[INFO][2022/08/08 06:07:06 PM]  - Stats (Active: 1721, Lost: 105261, Conflicts resolved: 3564)\n",
      "[INFO][2022/08/08 06:07:06 PM] Tracking objects in frames 50 to 74 (of 75)...\n",
      "[INFO][2022/08/08 06:07:08 PM]  - Timing (Bayesian updates: 12.15ms, Linking: 1.05ms)\n",
      "[INFO][2022/08/08 06:07:08 PM]  - Probabilities (Link: 0.92668, Lost: 1.00000)\n",
      "[INFO][2022/08/08 06:07:08 PM] SUCCESS.\n",
      "[INFO][2022/08/08 06:07:08 PM]  - Found 17653 tracks in 75 frames (in 0.0s)\n",
      "[INFO][2022/08/08 06:07:08 PM]  - Inserted 23139 dummy objects to fill tracking gaps\n",
      "[INFO][2022/08/08 06:07:08 PM] Ending BayesianTracker session\n",
      "[INFO][2022/08/08 06:07:08 PM] Loaded btrack: /home/dayn/miniconda3/envs/aero/lib/python3.9/site-packages/btrack/libs/libtracker.so\n",
      "[INFO][2022/08/08 06:07:08 PM] btrack (v0.4.5) library imported\n",
      "[INFO][2022/08/08 06:07:08 PM] Starting BayesianTracker session\n",
      "[INFO][2022/08/08 06:07:08 PM] Loading configuration file: /home/dayn/analysis/BayesianTracker/models/param_test_config_hypo.json\n",
      "[INFO][2022/08/08 06:07:08 PM] Setting max_search_radius -> 500\n",
      "[INFO][2022/08/08 06:07:08 PM] Setting features -> ['area', 'major_axis_length', 'minor_axis_length', 'orientation', 'solidity', 'mean_intensity']\n",
      "[INFO][2022/08/08 06:07:08 PM] Objects are of type: <class 'list'>\n"
     ]
    },
    {
     "name": "stdout",
     "output_type": "stream",
     "text": [
      "(5, 1, 100, 20, 80) 3.2823316150229425\n"
     ]
    },
    {
     "name": "stderr",
     "output_type": "stream",
     "text": [
      "[INFO][2022/08/08 06:07:08 PM] Setting volume -> ((0, 6048), (0, 6048), (-100000.0, 100000.0))\n",
      "[INFO][2022/08/08 06:07:08 PM] Starting tracking... \n",
      "[INFO][2022/08/08 06:07:09 PM] Tracking objects in frames 0 to 24 (of 75)...\n",
      "[INFO][2022/08/08 06:07:22 PM]  - Timing (Bayesian updates: 524.43ms, Linking: 11.91ms)\n",
      "[INFO][2022/08/08 06:07:22 PM]  - Probabilities (Link: 0.97446, Lost: 1.00000)\n",
      "[INFO][2022/08/08 06:07:22 PM]  - Stats (Active: 2550, Lost: 51737, Conflicts resolved: 1956)\n",
      "[INFO][2022/08/08 06:07:22 PM] Tracking objects in frames 25 to 49 (of 75)...\n",
      "[INFO][2022/08/08 06:07:33 PM]  - Timing (Bayesian updates: 178.58ms, Linking: 5.29ms)\n",
      "[INFO][2022/08/08 06:07:33 PM]  - Probabilities (Link: 0.94544, Lost: 1.00000)\n",
      "[INFO][2022/08/08 06:07:33 PM]  - Stats (Active: 1721, Lost: 105261, Conflicts resolved: 3564)\n",
      "[INFO][2022/08/08 06:07:33 PM] Tracking objects in frames 50 to 74 (of 75)...\n",
      "[INFO][2022/08/08 06:07:34 PM]  - Timing (Bayesian updates: 11.84ms, Linking: 1.00ms)\n",
      "[INFO][2022/08/08 06:07:34 PM]  - Probabilities (Link: 0.92668, Lost: 1.00000)\n",
      "[INFO][2022/08/08 06:07:34 PM] SUCCESS.\n",
      "[INFO][2022/08/08 06:07:34 PM]  - Found 17653 tracks in 75 frames (in 0.0s)\n",
      "[INFO][2022/08/08 06:07:34 PM]  - Inserted 23139 dummy objects to fill tracking gaps\n",
      "[INFO][2022/08/08 06:07:35 PM] Ending BayesianTracker session\n",
      "[INFO][2022/08/08 06:07:35 PM] Loaded btrack: /home/dayn/miniconda3/envs/aero/lib/python3.9/site-packages/btrack/libs/libtracker.so\n",
      "[INFO][2022/08/08 06:07:35 PM] btrack (v0.4.5) library imported\n",
      "[INFO][2022/08/08 06:07:35 PM] Starting BayesianTracker session\n",
      "[INFO][2022/08/08 06:07:35 PM] Loading configuration file: /home/dayn/analysis/BayesianTracker/models/param_test_config_hypo.json\n",
      "[INFO][2022/08/08 06:07:35 PM] Setting max_search_radius -> 500\n",
      "[INFO][2022/08/08 06:07:35 PM] Setting features -> ['area', 'major_axis_length', 'minor_axis_length', 'orientation', 'solidity', 'mean_intensity']\n",
      "[INFO][2022/08/08 06:07:35 PM] Objects are of type: <class 'list'>\n"
     ]
    },
    {
     "name": "stdout",
     "output_type": "stream",
     "text": [
      "(5, 1, 100, 20, 160) 3.2823316150229425\n"
     ]
    },
    {
     "name": "stderr",
     "output_type": "stream",
     "text": [
      "[INFO][2022/08/08 06:07:35 PM] Setting volume -> ((0, 6048), (0, 6048), (-100000.0, 100000.0))\n",
      "[INFO][2022/08/08 06:07:35 PM] Starting tracking... \n",
      "[INFO][2022/08/08 06:07:35 PM] Tracking objects in frames 0 to 24 (of 75)...\n",
      "[INFO][2022/08/08 06:07:49 PM]  - Timing (Bayesian updates: 528.83ms, Linking: 12.26ms)\n",
      "[INFO][2022/08/08 06:07:49 PM]  - Probabilities (Link: 0.97446, Lost: 1.00000)\n",
      "[INFO][2022/08/08 06:07:49 PM]  - Stats (Active: 2550, Lost: 51737, Conflicts resolved: 1956)\n",
      "[INFO][2022/08/08 06:07:49 PM] Tracking objects in frames 25 to 49 (of 75)...\n",
      "[INFO][2022/08/08 06:08:00 PM]  - Timing (Bayesian updates: 180.66ms, Linking: 6.35ms)\n",
      "[INFO][2022/08/08 06:08:00 PM]  - Probabilities (Link: 0.94544, Lost: 1.00000)\n",
      "[INFO][2022/08/08 06:08:00 PM]  - Stats (Active: 1721, Lost: 105261, Conflicts resolved: 3564)\n",
      "[INFO][2022/08/08 06:08:00 PM] Tracking objects in frames 50 to 74 (of 75)...\n",
      "[INFO][2022/08/08 06:08:01 PM]  - Timing (Bayesian updates: 11.74ms, Linking: 1.11ms)\n",
      "[INFO][2022/08/08 06:08:01 PM]  - Probabilities (Link: 0.92668, Lost: 1.00000)\n",
      "[INFO][2022/08/08 06:08:01 PM] SUCCESS.\n",
      "[INFO][2022/08/08 06:08:01 PM]  - Found 17653 tracks in 75 frames (in 0.0s)\n",
      "[INFO][2022/08/08 06:08:01 PM]  - Inserted 23139 dummy objects to fill tracking gaps\n",
      "[INFO][2022/08/08 06:08:01 PM] Ending BayesianTracker session\n",
      "[INFO][2022/08/08 06:08:02 PM] Loaded btrack: /home/dayn/miniconda3/envs/aero/lib/python3.9/site-packages/btrack/libs/libtracker.so\n",
      "[INFO][2022/08/08 06:08:02 PM] btrack (v0.4.5) library imported\n",
      "[INFO][2022/08/08 06:08:02 PM] Starting BayesianTracker session\n",
      "[INFO][2022/08/08 06:08:02 PM] Loading configuration file: /home/dayn/analysis/BayesianTracker/models/param_test_config_hypo.json\n",
      "[INFO][2022/08/08 06:08:02 PM] Setting max_search_radius -> 500\n",
      "[INFO][2022/08/08 06:08:02 PM] Setting features -> ['area', 'major_axis_length', 'minor_axis_length', 'orientation', 'solidity', 'mean_intensity']\n",
      "[INFO][2022/08/08 06:08:02 PM] Objects are of type: <class 'list'>\n",
      "[INFO][2022/08/08 06:08:02 PM] Setting volume -> ((0, 6048), (0, 6048), (-100000.0, 100000.0))\n",
      "[INFO][2022/08/08 06:08:02 PM] Starting tracking... \n"
     ]
    },
    {
     "name": "stdout",
     "output_type": "stream",
     "text": [
      "(5, 1, 100, 100, 40) 3.2823316150229425\n"
     ]
    },
    {
     "name": "stderr",
     "output_type": "stream",
     "text": [
      "[INFO][2022/08/08 06:08:02 PM] Tracking objects in frames 0 to 24 (of 75)...\n",
      "[INFO][2022/08/08 06:08:15 PM]  - Timing (Bayesian updates: 527.44ms, Linking: 12.10ms)\n",
      "[INFO][2022/08/08 06:08:15 PM]  - Probabilities (Link: 0.97446, Lost: 1.00000)\n",
      "[INFO][2022/08/08 06:08:15 PM]  - Stats (Active: 2550, Lost: 51737, Conflicts resolved: 1956)\n",
      "[INFO][2022/08/08 06:08:15 PM] Tracking objects in frames 25 to 49 (of 75)...\n",
      "[INFO][2022/08/08 06:08:26 PM]  - Timing (Bayesian updates: 179.52ms, Linking: 5.46ms)\n",
      "[INFO][2022/08/08 06:08:26 PM]  - Probabilities (Link: 0.94544, Lost: 1.00000)\n",
      "[INFO][2022/08/08 06:08:26 PM]  - Stats (Active: 1721, Lost: 105261, Conflicts resolved: 3564)\n",
      "[INFO][2022/08/08 06:08:26 PM] Tracking objects in frames 50 to 74 (of 75)...\n",
      "[INFO][2022/08/08 06:08:27 PM]  - Timing (Bayesian updates: 11.68ms, Linking: 1.10ms)\n",
      "[INFO][2022/08/08 06:08:27 PM]  - Probabilities (Link: 0.92668, Lost: 1.00000)\n",
      "[INFO][2022/08/08 06:08:27 PM] SUCCESS.\n",
      "[INFO][2022/08/08 06:08:27 PM]  - Found 17653 tracks in 75 frames (in 0.0s)\n",
      "[INFO][2022/08/08 06:08:28 PM]  - Inserted 23139 dummy objects to fill tracking gaps\n",
      "[INFO][2022/08/08 06:08:28 PM] Ending BayesianTracker session\n",
      "[INFO][2022/08/08 06:08:28 PM] Loaded btrack: /home/dayn/miniconda3/envs/aero/lib/python3.9/site-packages/btrack/libs/libtracker.so\n",
      "[INFO][2022/08/08 06:08:28 PM] btrack (v0.4.5) library imported\n",
      "[INFO][2022/08/08 06:08:28 PM] Starting BayesianTracker session\n",
      "[INFO][2022/08/08 06:08:28 PM] Loading configuration file: /home/dayn/analysis/BayesianTracker/models/param_test_config_hypo.json\n",
      "[INFO][2022/08/08 06:08:28 PM] Setting max_search_radius -> 500\n",
      "[INFO][2022/08/08 06:08:28 PM] Setting features -> ['area', 'major_axis_length', 'minor_axis_length', 'orientation', 'solidity', 'mean_intensity']\n",
      "[INFO][2022/08/08 06:08:28 PM] Objects are of type: <class 'list'>\n"
     ]
    },
    {
     "name": "stdout",
     "output_type": "stream",
     "text": [
      "(5, 1, 100, 100, 80) 3.2823316150229425\n"
     ]
    },
    {
     "name": "stderr",
     "output_type": "stream",
     "text": [
      "[INFO][2022/08/08 06:08:28 PM] Setting volume -> ((0, 6048), (0, 6048), (-100000.0, 100000.0))\n",
      "[INFO][2022/08/08 06:08:28 PM] Starting tracking... \n",
      "[INFO][2022/08/08 06:08:28 PM] Tracking objects in frames 0 to 24 (of 75)...\n",
      "[INFO][2022/08/08 06:08:41 PM]  - Timing (Bayesian updates: 516.32ms, Linking: 11.82ms)\n",
      "[INFO][2022/08/08 06:08:41 PM]  - Probabilities (Link: 0.97446, Lost: 1.00000)\n",
      "[INFO][2022/08/08 06:08:41 PM]  - Stats (Active: 2550, Lost: 51737, Conflicts resolved: 1956)\n",
      "[INFO][2022/08/08 06:08:41 PM] Tracking objects in frames 25 to 49 (of 75)...\n",
      "[INFO][2022/08/08 06:08:52 PM]  - Timing (Bayesian updates: 178.55ms, Linking: 5.66ms)\n",
      "[INFO][2022/08/08 06:08:52 PM]  - Probabilities (Link: 0.94544, Lost: 1.00000)\n",
      "[INFO][2022/08/08 06:08:52 PM]  - Stats (Active: 1721, Lost: 105261, Conflicts resolved: 3564)\n",
      "[INFO][2022/08/08 06:08:52 PM] Tracking objects in frames 50 to 74 (of 75)...\n",
      "[INFO][2022/08/08 06:08:54 PM]  - Timing (Bayesian updates: 11.82ms, Linking: 1.05ms)\n",
      "[INFO][2022/08/08 06:08:54 PM]  - Probabilities (Link: 0.92668, Lost: 1.00000)\n",
      "[INFO][2022/08/08 06:08:54 PM] SUCCESS.\n",
      "[INFO][2022/08/08 06:08:54 PM]  - Found 17653 tracks in 75 frames (in 0.0s)\n",
      "[INFO][2022/08/08 06:08:54 PM]  - Inserted 23139 dummy objects to fill tracking gaps\n",
      "[INFO][2022/08/08 06:08:55 PM] Ending BayesianTracker session\n",
      "[INFO][2022/08/08 06:08:55 PM] Loaded btrack: /home/dayn/miniconda3/envs/aero/lib/python3.9/site-packages/btrack/libs/libtracker.so\n",
      "[INFO][2022/08/08 06:08:55 PM] btrack (v0.4.5) library imported\n",
      "[INFO][2022/08/08 06:08:55 PM] Starting BayesianTracker session\n",
      "[INFO][2022/08/08 06:08:55 PM] Loading configuration file: /home/dayn/analysis/BayesianTracker/models/param_test_config_hypo.json\n",
      "[INFO][2022/08/08 06:08:55 PM] Setting max_search_radius -> 500\n",
      "[INFO][2022/08/08 06:08:55 PM] Setting features -> ['area', 'major_axis_length', 'minor_axis_length', 'orientation', 'solidity', 'mean_intensity']\n",
      "[INFO][2022/08/08 06:08:55 PM] Objects are of type: <class 'list'>\n"
     ]
    },
    {
     "name": "stdout",
     "output_type": "stream",
     "text": [
      "(5, 1, 100, 100, 160) 3.2823316150229425\n"
     ]
    },
    {
     "name": "stderr",
     "output_type": "stream",
     "text": [
      "[INFO][2022/08/08 06:08:55 PM] Setting volume -> ((0, 6048), (0, 6048), (-100000.0, 100000.0))\n",
      "[INFO][2022/08/08 06:08:55 PM] Starting tracking... \n",
      "[INFO][2022/08/08 06:08:55 PM] Tracking objects in frames 0 to 24 (of 75)...\n",
      "[INFO][2022/08/08 06:09:09 PM]  - Timing (Bayesian updates: 518.39ms, Linking: 11.88ms)\n",
      "[INFO][2022/08/08 06:09:09 PM]  - Probabilities (Link: 0.97446, Lost: 1.00000)\n",
      "[INFO][2022/08/08 06:09:09 PM]  - Stats (Active: 2550, Lost: 51737, Conflicts resolved: 1956)\n",
      "[INFO][2022/08/08 06:09:09 PM] Tracking objects in frames 25 to 49 (of 75)...\n",
      "[INFO][2022/08/08 06:09:20 PM]  - Timing (Bayesian updates: 181.17ms, Linking: 6.17ms)\n",
      "[INFO][2022/08/08 06:09:20 PM]  - Probabilities (Link: 0.94544, Lost: 1.00000)\n",
      "[INFO][2022/08/08 06:09:20 PM]  - Stats (Active: 1721, Lost: 105261, Conflicts resolved: 3564)\n",
      "[INFO][2022/08/08 06:09:20 PM] Tracking objects in frames 50 to 74 (of 75)...\n",
      "[INFO][2022/08/08 06:09:21 PM]  - Timing (Bayesian updates: 12.25ms, Linking: 1.08ms)\n",
      "[INFO][2022/08/08 06:09:21 PM]  - Probabilities (Link: 0.92668, Lost: 1.00000)\n",
      "[INFO][2022/08/08 06:09:21 PM] SUCCESS.\n",
      "[INFO][2022/08/08 06:09:21 PM]  - Found 17653 tracks in 75 frames (in 0.0s)\n",
      "[INFO][2022/08/08 06:09:21 PM]  - Inserted 23139 dummy objects to fill tracking gaps\n",
      "[INFO][2022/08/08 06:09:22 PM] Ending BayesianTracker session\n",
      "[INFO][2022/08/08 06:09:22 PM] Loaded btrack: /home/dayn/miniconda3/envs/aero/lib/python3.9/site-packages/btrack/libs/libtracker.so\n",
      "[INFO][2022/08/08 06:09:22 PM] btrack (v0.4.5) library imported\n",
      "[INFO][2022/08/08 06:09:22 PM] Starting BayesianTracker session\n",
      "[INFO][2022/08/08 06:09:22 PM] Loading configuration file: /home/dayn/analysis/BayesianTracker/models/param_test_config_hypo.json\n",
      "[INFO][2022/08/08 06:09:22 PM] Setting max_search_radius -> 500\n",
      "[INFO][2022/08/08 06:09:22 PM] Setting features -> ['area', 'major_axis_length', 'minor_axis_length', 'orientation', 'solidity', 'mean_intensity']\n",
      "[INFO][2022/08/08 06:09:22 PM] Objects are of type: <class 'list'>\n"
     ]
    },
    {
     "name": "stdout",
     "output_type": "stream",
     "text": [
      "(5, 1, 300, 5, 40) 3.2823316150229425\n"
     ]
    },
    {
     "name": "stderr",
     "output_type": "stream",
     "text": [
      "[INFO][2022/08/08 06:09:22 PM] Setting volume -> ((0, 6048), (0, 6048), (-100000.0, 100000.0))\n",
      "[INFO][2022/08/08 06:09:22 PM] Starting tracking... \n",
      "[INFO][2022/08/08 06:09:22 PM] Tracking objects in frames 0 to 24 (of 75)...\n",
      "[INFO][2022/08/08 06:09:36 PM]  - Timing (Bayesian updates: 515.62ms, Linking: 11.86ms)\n",
      "[INFO][2022/08/08 06:09:36 PM]  - Probabilities (Link: 0.97446, Lost: 1.00000)\n",
      "[INFO][2022/08/08 06:09:36 PM]  - Stats (Active: 2550, Lost: 51737, Conflicts resolved: 1956)\n",
      "[INFO][2022/08/08 06:09:36 PM] Tracking objects in frames 25 to 49 (of 75)...\n",
      "[INFO][2022/08/08 06:09:47 PM]  - Timing (Bayesian updates: 179.96ms, Linking: 6.08ms)\n",
      "[INFO][2022/08/08 06:09:47 PM]  - Probabilities (Link: 0.94544, Lost: 1.00000)\n",
      "[INFO][2022/08/08 06:09:47 PM]  - Stats (Active: 1721, Lost: 105261, Conflicts resolved: 3564)\n",
      "[INFO][2022/08/08 06:09:47 PM] Tracking objects in frames 50 to 74 (of 75)...\n",
      "[INFO][2022/08/08 06:09:48 PM]  - Timing (Bayesian updates: 11.87ms, Linking: 1.07ms)\n",
      "[INFO][2022/08/08 06:09:48 PM]  - Probabilities (Link: 0.92668, Lost: 1.00000)\n",
      "[INFO][2022/08/08 06:09:48 PM] SUCCESS.\n",
      "[INFO][2022/08/08 06:09:48 PM]  - Found 17653 tracks in 75 frames (in 0.0s)\n",
      "[INFO][2022/08/08 06:09:48 PM]  - Inserted 23139 dummy objects to fill tracking gaps\n",
      "[INFO][2022/08/08 06:09:49 PM] Ending BayesianTracker session\n",
      "[INFO][2022/08/08 06:09:49 PM] Loaded btrack: /home/dayn/miniconda3/envs/aero/lib/python3.9/site-packages/btrack/libs/libtracker.so\n",
      "[INFO][2022/08/08 06:09:49 PM] btrack (v0.4.5) library imported\n",
      "[INFO][2022/08/08 06:09:49 PM] Starting BayesianTracker session\n",
      "[INFO][2022/08/08 06:09:49 PM] Loading configuration file: /home/dayn/analysis/BayesianTracker/models/param_test_config_hypo.json\n",
      "[INFO][2022/08/08 06:09:49 PM] Setting max_search_radius -> 500\n",
      "[INFO][2022/08/08 06:09:49 PM] Setting features -> ['area', 'major_axis_length', 'minor_axis_length', 'orientation', 'solidity', 'mean_intensity']\n",
      "[INFO][2022/08/08 06:09:49 PM] Objects are of type: <class 'list'>\n"
     ]
    },
    {
     "name": "stdout",
     "output_type": "stream",
     "text": [
      "(5, 1, 300, 5, 80) 3.2823316150229425\n"
     ]
    },
    {
     "name": "stderr",
     "output_type": "stream",
     "text": [
      "[INFO][2022/08/08 06:09:49 PM] Setting volume -> ((0, 6048), (0, 6048), (-100000.0, 100000.0))\n",
      "[INFO][2022/08/08 06:09:49 PM] Starting tracking... \n",
      "[INFO][2022/08/08 06:09:49 PM] Tracking objects in frames 0 to 24 (of 75)...\n",
      "[INFO][2022/08/08 06:10:02 PM]  - Timing (Bayesian updates: 516.29ms, Linking: 11.99ms)\n",
      "[INFO][2022/08/08 06:10:02 PM]  - Probabilities (Link: 0.97446, Lost: 1.00000)\n",
      "[INFO][2022/08/08 06:10:02 PM]  - Stats (Active: 2550, Lost: 51737, Conflicts resolved: 1956)\n",
      "[INFO][2022/08/08 06:10:02 PM] Tracking objects in frames 25 to 49 (of 75)...\n",
      "[INFO][2022/08/08 06:10:13 PM]  - Timing (Bayesian updates: 180.28ms, Linking: 6.18ms)\n",
      "[INFO][2022/08/08 06:10:13 PM]  - Probabilities (Link: 0.94544, Lost: 1.00000)\n",
      "[INFO][2022/08/08 06:10:13 PM]  - Stats (Active: 1721, Lost: 105261, Conflicts resolved: 3564)\n",
      "[INFO][2022/08/08 06:10:13 PM] Tracking objects in frames 50 to 74 (of 75)...\n",
      "[INFO][2022/08/08 06:10:14 PM]  - Timing (Bayesian updates: 12.24ms, Linking: 1.15ms)\n",
      "[INFO][2022/08/08 06:10:14 PM]  - Probabilities (Link: 0.92668, Lost: 1.00000)\n",
      "[INFO][2022/08/08 06:10:14 PM] SUCCESS.\n",
      "[INFO][2022/08/08 06:10:14 PM]  - Found 17653 tracks in 75 frames (in 0.0s)\n",
      "[INFO][2022/08/08 06:10:15 PM]  - Inserted 23139 dummy objects to fill tracking gaps\n",
      "[INFO][2022/08/08 06:10:15 PM] Ending BayesianTracker session\n",
      "[INFO][2022/08/08 06:10:15 PM] Loaded btrack: /home/dayn/miniconda3/envs/aero/lib/python3.9/site-packages/btrack/libs/libtracker.so\n",
      "[INFO][2022/08/08 06:10:15 PM] btrack (v0.4.5) library imported\n",
      "[INFO][2022/08/08 06:10:15 PM] Starting BayesianTracker session\n",
      "[INFO][2022/08/08 06:10:15 PM] Loading configuration file: /home/dayn/analysis/BayesianTracker/models/param_test_config_hypo.json\n",
      "[INFO][2022/08/08 06:10:15 PM] Setting max_search_radius -> 500\n",
      "[INFO][2022/08/08 06:10:15 PM] Setting features -> ['area', 'major_axis_length', 'minor_axis_length', 'orientation', 'solidity', 'mean_intensity']\n",
      "[INFO][2022/08/08 06:10:15 PM] Objects are of type: <class 'list'>\n",
      "[INFO][2022/08/08 06:10:15 PM] Setting volume -> ((0, 6048), (0, 6048), (-100000.0, 100000.0))\n",
      "[INFO][2022/08/08 06:10:15 PM] Starting tracking... \n"
     ]
    },
    {
     "name": "stdout",
     "output_type": "stream",
     "text": [
      "(5, 1, 300, 5, 160) 3.2823316150229425\n"
     ]
    },
    {
     "name": "stderr",
     "output_type": "stream",
     "text": [
      "[INFO][2022/08/08 06:10:15 PM] Tracking objects in frames 0 to 24 (of 75)...\n",
      "[INFO][2022/08/08 06:10:29 PM]  - Timing (Bayesian updates: 517.59ms, Linking: 11.53ms)\n",
      "[INFO][2022/08/08 06:10:29 PM]  - Probabilities (Link: 0.97446, Lost: 1.00000)\n",
      "[INFO][2022/08/08 06:10:29 PM]  - Stats (Active: 2550, Lost: 51737, Conflicts resolved: 1956)\n",
      "[INFO][2022/08/08 06:10:29 PM] Tracking objects in frames 25 to 49 (of 75)...\n",
      "[INFO][2022/08/08 06:10:40 PM]  - Timing (Bayesian updates: 178.32ms, Linking: 5.18ms)\n",
      "[INFO][2022/08/08 06:10:40 PM]  - Probabilities (Link: 0.94544, Lost: 1.00000)\n",
      "[INFO][2022/08/08 06:10:40 PM]  - Stats (Active: 1721, Lost: 105261, Conflicts resolved: 3564)\n",
      "[INFO][2022/08/08 06:10:40 PM] Tracking objects in frames 50 to 74 (of 75)...\n",
      "[INFO][2022/08/08 06:10:41 PM]  - Timing (Bayesian updates: 11.69ms, Linking: 1.08ms)\n",
      "[INFO][2022/08/08 06:10:41 PM]  - Probabilities (Link: 0.92668, Lost: 1.00000)\n",
      "[INFO][2022/08/08 06:10:41 PM] SUCCESS.\n",
      "[INFO][2022/08/08 06:10:41 PM]  - Found 17653 tracks in 75 frames (in 0.0s)\n",
      "[INFO][2022/08/08 06:10:41 PM]  - Inserted 23139 dummy objects to fill tracking gaps\n",
      "[INFO][2022/08/08 06:10:42 PM] Ending BayesianTracker session\n",
      "[INFO][2022/08/08 06:10:42 PM] Loaded btrack: /home/dayn/miniconda3/envs/aero/lib/python3.9/site-packages/btrack/libs/libtracker.so\n",
      "[INFO][2022/08/08 06:10:42 PM] btrack (v0.4.5) library imported\n",
      "[INFO][2022/08/08 06:10:42 PM] Starting BayesianTracker session\n",
      "[INFO][2022/08/08 06:10:42 PM] Loading configuration file: /home/dayn/analysis/BayesianTracker/models/param_test_config_hypo.json\n",
      "[INFO][2022/08/08 06:10:42 PM] Setting max_search_radius -> 500\n",
      "[INFO][2022/08/08 06:10:42 PM] Setting features -> ['area', 'major_axis_length', 'minor_axis_length', 'orientation', 'solidity', 'mean_intensity']\n",
      "[INFO][2022/08/08 06:10:42 PM] Objects are of type: <class 'list'>\n"
     ]
    },
    {
     "name": "stdout",
     "output_type": "stream",
     "text": [
      "(5, 1, 300, 20, 40) 3.2823316150229425\n"
     ]
    },
    {
     "name": "stderr",
     "output_type": "stream",
     "text": [
      "[INFO][2022/08/08 06:10:42 PM] Setting volume -> ((0, 6048), (0, 6048), (-100000.0, 100000.0))\n",
      "[INFO][2022/08/08 06:10:42 PM] Starting tracking... \n",
      "[INFO][2022/08/08 06:10:42 PM] Tracking objects in frames 0 to 24 (of 75)...\n",
      "[INFO][2022/08/08 06:10:55 PM]  - Timing (Bayesian updates: 516.84ms, Linking: 11.81ms)\n",
      "[INFO][2022/08/08 06:10:55 PM]  - Probabilities (Link: 0.97446, Lost: 1.00000)\n",
      "[INFO][2022/08/08 06:10:55 PM]  - Stats (Active: 2550, Lost: 51737, Conflicts resolved: 1956)\n",
      "[INFO][2022/08/08 06:10:55 PM] Tracking objects in frames 25 to 49 (of 75)...\n",
      "[INFO][2022/08/08 06:11:06 PM]  - Timing (Bayesian updates: 178.62ms, Linking: 5.41ms)\n",
      "[INFO][2022/08/08 06:11:06 PM]  - Probabilities (Link: 0.94544, Lost: 1.00000)\n",
      "[INFO][2022/08/08 06:11:06 PM]  - Stats (Active: 1721, Lost: 105261, Conflicts resolved: 3564)\n",
      "[INFO][2022/08/08 06:11:06 PM] Tracking objects in frames 50 to 74 (of 75)...\n",
      "[INFO][2022/08/08 06:11:07 PM]  - Timing (Bayesian updates: 11.79ms, Linking: 1.08ms)\n",
      "[INFO][2022/08/08 06:11:07 PM]  - Probabilities (Link: 0.92668, Lost: 1.00000)\n",
      "[INFO][2022/08/08 06:11:07 PM] SUCCESS.\n",
      "[INFO][2022/08/08 06:11:07 PM]  - Found 17653 tracks in 75 frames (in 0.0s)\n",
      "[INFO][2022/08/08 06:11:07 PM]  - Inserted 23139 dummy objects to fill tracking gaps\n",
      "[INFO][2022/08/08 06:11:08 PM] Ending BayesianTracker session\n",
      "[INFO][2022/08/08 06:11:08 PM] Loaded btrack: /home/dayn/miniconda3/envs/aero/lib/python3.9/site-packages/btrack/libs/libtracker.so\n",
      "[INFO][2022/08/08 06:11:08 PM] btrack (v0.4.5) library imported\n",
      "[INFO][2022/08/08 06:11:08 PM] Starting BayesianTracker session\n",
      "[INFO][2022/08/08 06:11:08 PM] Loading configuration file: /home/dayn/analysis/BayesianTracker/models/param_test_config_hypo.json\n",
      "[INFO][2022/08/08 06:11:08 PM] Setting max_search_radius -> 500\n",
      "[INFO][2022/08/08 06:11:08 PM] Setting features -> ['area', 'major_axis_length', 'minor_axis_length', 'orientation', 'solidity', 'mean_intensity']\n",
      "[INFO][2022/08/08 06:11:08 PM] Objects are of type: <class 'list'>\n"
     ]
    },
    {
     "name": "stdout",
     "output_type": "stream",
     "text": [
      "(5, 1, 300, 20, 80) 3.2823316150229425\n"
     ]
    },
    {
     "name": "stderr",
     "output_type": "stream",
     "text": [
      "[INFO][2022/08/08 06:11:08 PM] Setting volume -> ((0, 6048), (0, 6048), (-100000.0, 100000.0))\n",
      "[INFO][2022/08/08 06:11:08 PM] Starting tracking... \n",
      "[INFO][2022/08/08 06:11:08 PM] Tracking objects in frames 0 to 24 (of 75)...\n",
      "[INFO][2022/08/08 06:11:21 PM]  - Timing (Bayesian updates: 517.45ms, Linking: 11.90ms)\n",
      "[INFO][2022/08/08 06:11:21 PM]  - Probabilities (Link: 0.97446, Lost: 1.00000)\n",
      "[INFO][2022/08/08 06:11:21 PM]  - Stats (Active: 2550, Lost: 51737, Conflicts resolved: 1956)\n",
      "[INFO][2022/08/08 06:11:21 PM] Tracking objects in frames 25 to 49 (of 75)...\n",
      "[INFO][2022/08/08 06:11:32 PM]  - Timing (Bayesian updates: 178.87ms, Linking: 5.39ms)\n",
      "[INFO][2022/08/08 06:11:32 PM]  - Probabilities (Link: 0.94544, Lost: 1.00000)\n",
      "[INFO][2022/08/08 06:11:32 PM]  - Stats (Active: 1721, Lost: 105261, Conflicts resolved: 3564)\n",
      "[INFO][2022/08/08 06:11:32 PM] Tracking objects in frames 50 to 74 (of 75)...\n",
      "[INFO][2022/08/08 06:11:34 PM]  - Timing (Bayesian updates: 12.00ms, Linking: 1.10ms)\n",
      "[INFO][2022/08/08 06:11:34 PM]  - Probabilities (Link: 0.92668, Lost: 1.00000)\n",
      "[INFO][2022/08/08 06:11:34 PM] SUCCESS.\n",
      "[INFO][2022/08/08 06:11:34 PM]  - Found 17653 tracks in 75 frames (in 0.0s)\n",
      "[INFO][2022/08/08 06:11:34 PM]  - Inserted 23139 dummy objects to fill tracking gaps\n",
      "[INFO][2022/08/08 06:11:34 PM] Ending BayesianTracker session\n",
      "[INFO][2022/08/08 06:11:34 PM] Loaded btrack: /home/dayn/miniconda3/envs/aero/lib/python3.9/site-packages/btrack/libs/libtracker.so\n",
      "[INFO][2022/08/08 06:11:34 PM] btrack (v0.4.5) library imported\n",
      "[INFO][2022/08/08 06:11:34 PM] Starting BayesianTracker session\n",
      "[INFO][2022/08/08 06:11:34 PM] Loading configuration file: /home/dayn/analysis/BayesianTracker/models/param_test_config_hypo.json\n",
      "[INFO][2022/08/08 06:11:34 PM] Setting max_search_radius -> 500\n",
      "[INFO][2022/08/08 06:11:34 PM] Setting features -> ['area', 'major_axis_length', 'minor_axis_length', 'orientation', 'solidity', 'mean_intensity']\n",
      "[INFO][2022/08/08 06:11:34 PM] Objects are of type: <class 'list'>\n"
     ]
    },
    {
     "name": "stdout",
     "output_type": "stream",
     "text": [
      "(5, 1, 300, 20, 160) 3.2823316150229425\n"
     ]
    },
    {
     "name": "stderr",
     "output_type": "stream",
     "text": [
      "[INFO][2022/08/08 06:11:34 PM] Setting volume -> ((0, 6048), (0, 6048), (-100000.0, 100000.0))\n",
      "[INFO][2022/08/08 06:11:34 PM] Starting tracking... \n",
      "[INFO][2022/08/08 06:11:35 PM] Tracking objects in frames 0 to 24 (of 75)...\n",
      "[INFO][2022/08/08 06:11:48 PM]  - Timing (Bayesian updates: 514.15ms, Linking: 11.93ms)\n",
      "[INFO][2022/08/08 06:11:48 PM]  - Probabilities (Link: 0.97446, Lost: 1.00000)\n",
      "[INFO][2022/08/08 06:11:48 PM]  - Stats (Active: 2550, Lost: 51737, Conflicts resolved: 1956)\n",
      "[INFO][2022/08/08 06:11:48 PM] Tracking objects in frames 25 to 49 (of 75)...\n",
      "[INFO][2022/08/08 06:11:59 PM]  - Timing (Bayesian updates: 179.45ms, Linking: 5.60ms)\n",
      "[INFO][2022/08/08 06:11:59 PM]  - Probabilities (Link: 0.94544, Lost: 1.00000)\n",
      "[INFO][2022/08/08 06:11:59 PM]  - Stats (Active: 1721, Lost: 105261, Conflicts resolved: 3564)\n",
      "[INFO][2022/08/08 06:11:59 PM] Tracking objects in frames 50 to 74 (of 75)...\n",
      "[INFO][2022/08/08 06:12:00 PM]  - Timing (Bayesian updates: 12.11ms, Linking: 1.10ms)\n",
      "[INFO][2022/08/08 06:12:00 PM]  - Probabilities (Link: 0.92668, Lost: 1.00000)\n",
      "[INFO][2022/08/08 06:12:00 PM] SUCCESS.\n",
      "[INFO][2022/08/08 06:12:00 PM]  - Found 17653 tracks in 75 frames (in 0.0s)\n",
      "[INFO][2022/08/08 06:12:01 PM]  - Inserted 23139 dummy objects to fill tracking gaps\n",
      "[INFO][2022/08/08 06:12:01 PM] Ending BayesianTracker session\n",
      "[INFO][2022/08/08 06:12:01 PM] Loaded btrack: /home/dayn/miniconda3/envs/aero/lib/python3.9/site-packages/btrack/libs/libtracker.so\n",
      "[INFO][2022/08/08 06:12:01 PM] btrack (v0.4.5) library imported\n",
      "[INFO][2022/08/08 06:12:01 PM] Starting BayesianTracker session\n",
      "[INFO][2022/08/08 06:12:01 PM] Loading configuration file: /home/dayn/analysis/BayesianTracker/models/param_test_config_hypo.json\n",
      "[INFO][2022/08/08 06:12:01 PM] Setting max_search_radius -> 500\n",
      "[INFO][2022/08/08 06:12:01 PM] Setting features -> ['area', 'major_axis_length', 'minor_axis_length', 'orientation', 'solidity', 'mean_intensity']\n",
      "[INFO][2022/08/08 06:12:01 PM] Objects are of type: <class 'list'>\n"
     ]
    },
    {
     "name": "stdout",
     "output_type": "stream",
     "text": [
      "(5, 1, 300, 100, 40) 3.2823316150229425\n"
     ]
    },
    {
     "name": "stderr",
     "output_type": "stream",
     "text": [
      "[INFO][2022/08/08 06:12:01 PM] Setting volume -> ((0, 6048), (0, 6048), (-100000.0, 100000.0))\n",
      "[INFO][2022/08/08 06:12:01 PM] Starting tracking... \n",
      "[INFO][2022/08/08 06:12:02 PM] Tracking objects in frames 0 to 24 (of 75)...\n",
      "[INFO][2022/08/08 06:12:15 PM]  - Timing (Bayesian updates: 518.34ms, Linking: 11.70ms)\n",
      "[INFO][2022/08/08 06:12:15 PM]  - Probabilities (Link: 0.97446, Lost: 1.00000)\n",
      "[INFO][2022/08/08 06:12:15 PM]  - Stats (Active: 2550, Lost: 51737, Conflicts resolved: 1956)\n",
      "[INFO][2022/08/08 06:12:15 PM] Tracking objects in frames 25 to 49 (of 75)...\n",
      "[INFO][2022/08/08 06:12:26 PM]  - Timing (Bayesian updates: 180.06ms, Linking: 6.14ms)\n",
      "[INFO][2022/08/08 06:12:26 PM]  - Probabilities (Link: 0.94544, Lost: 1.00000)\n",
      "[INFO][2022/08/08 06:12:26 PM]  - Stats (Active: 1721, Lost: 105261, Conflicts resolved: 3564)\n",
      "[INFO][2022/08/08 06:12:26 PM] Tracking objects in frames 50 to 74 (of 75)...\n",
      "[INFO][2022/08/08 06:12:27 PM]  - Timing (Bayesian updates: 11.90ms, Linking: 1.07ms)\n",
      "[INFO][2022/08/08 06:12:27 PM]  - Probabilities (Link: 0.92668, Lost: 1.00000)\n",
      "[INFO][2022/08/08 06:12:27 PM] SUCCESS.\n",
      "[INFO][2022/08/08 06:12:27 PM]  - Found 17653 tracks in 75 frames (in 0.0s)\n",
      "[INFO][2022/08/08 06:12:27 PM]  - Inserted 23139 dummy objects to fill tracking gaps\n",
      "[INFO][2022/08/08 06:12:28 PM] Ending BayesianTracker session\n",
      "[INFO][2022/08/08 06:12:28 PM] Loaded btrack: /home/dayn/miniconda3/envs/aero/lib/python3.9/site-packages/btrack/libs/libtracker.so\n",
      "[INFO][2022/08/08 06:12:28 PM] btrack (v0.4.5) library imported\n",
      "[INFO][2022/08/08 06:12:28 PM] Starting BayesianTracker session\n",
      "[INFO][2022/08/08 06:12:28 PM] Loading configuration file: /home/dayn/analysis/BayesianTracker/models/param_test_config_hypo.json\n",
      "[INFO][2022/08/08 06:12:28 PM] Setting max_search_radius -> 500\n",
      "[INFO][2022/08/08 06:12:28 PM] Setting features -> ['area', 'major_axis_length', 'minor_axis_length', 'orientation', 'solidity', 'mean_intensity']\n",
      "[INFO][2022/08/08 06:12:28 PM] Objects are of type: <class 'list'>\n"
     ]
    },
    {
     "name": "stdout",
     "output_type": "stream",
     "text": [
      "(5, 1, 300, 100, 80) 3.2823316150229425\n"
     ]
    },
    {
     "name": "stderr",
     "output_type": "stream",
     "text": [
      "[INFO][2022/08/08 06:12:28 PM] Setting volume -> ((0, 6048), (0, 6048), (-100000.0, 100000.0))\n",
      "[INFO][2022/08/08 06:12:28 PM] Starting tracking... \n",
      "[INFO][2022/08/08 06:12:28 PM] Tracking objects in frames 0 to 24 (of 75)...\n",
      "[INFO][2022/08/08 06:12:42 PM]  - Timing (Bayesian updates: 517.47ms, Linking: 11.75ms)\n",
      "[INFO][2022/08/08 06:12:42 PM]  - Probabilities (Link: 0.97446, Lost: 1.00000)\n",
      "[INFO][2022/08/08 06:12:42 PM]  - Stats (Active: 2550, Lost: 51737, Conflicts resolved: 1956)\n",
      "[INFO][2022/08/08 06:12:42 PM] Tracking objects in frames 25 to 49 (of 75)...\n",
      "[INFO][2022/08/08 06:12:53 PM]  - Timing (Bayesian updates: 179.90ms, Linking: 6.31ms)\n",
      "[INFO][2022/08/08 06:12:53 PM]  - Probabilities (Link: 0.94544, Lost: 1.00000)\n",
      "[INFO][2022/08/08 06:12:53 PM]  - Stats (Active: 1721, Lost: 105261, Conflicts resolved: 3564)\n",
      "[INFO][2022/08/08 06:12:53 PM] Tracking objects in frames 50 to 74 (of 75)...\n",
      "[INFO][2022/08/08 06:12:54 PM]  - Timing (Bayesian updates: 12.12ms, Linking: 1.10ms)\n",
      "[INFO][2022/08/08 06:12:54 PM]  - Probabilities (Link: 0.92668, Lost: 1.00000)\n",
      "[INFO][2022/08/08 06:12:54 PM] SUCCESS.\n",
      "[INFO][2022/08/08 06:12:54 PM]  - Found 17653 tracks in 75 frames (in 0.0s)\n",
      "[INFO][2022/08/08 06:12:55 PM]  - Inserted 23139 dummy objects to fill tracking gaps\n",
      "[INFO][2022/08/08 06:12:55 PM] Ending BayesianTracker session\n",
      "[INFO][2022/08/08 06:12:55 PM] Loaded btrack: /home/dayn/miniconda3/envs/aero/lib/python3.9/site-packages/btrack/libs/libtracker.so\n",
      "[INFO][2022/08/08 06:12:55 PM] btrack (v0.4.5) library imported\n",
      "[INFO][2022/08/08 06:12:55 PM] Starting BayesianTracker session\n",
      "[INFO][2022/08/08 06:12:55 PM] Loading configuration file: /home/dayn/analysis/BayesianTracker/models/param_test_config_hypo.json\n",
      "[INFO][2022/08/08 06:12:55 PM] Setting max_search_radius -> 500\n",
      "[INFO][2022/08/08 06:12:55 PM] Setting features -> ['area', 'major_axis_length', 'minor_axis_length', 'orientation', 'solidity', 'mean_intensity']\n",
      "[INFO][2022/08/08 06:12:55 PM] Objects are of type: <class 'list'>\n"
     ]
    },
    {
     "name": "stdout",
     "output_type": "stream",
     "text": [
      "(5, 1, 300, 100, 160) 3.2823316150229425\n"
     ]
    },
    {
     "name": "stderr",
     "output_type": "stream",
     "text": [
      "[INFO][2022/08/08 06:12:55 PM] Setting volume -> ((0, 6048), (0, 6048), (-100000.0, 100000.0))\n",
      "[INFO][2022/08/08 06:12:55 PM] Starting tracking... \n",
      "[INFO][2022/08/08 06:12:56 PM] Tracking objects in frames 0 to 24 (of 75)...\n",
      "[INFO][2022/08/08 06:13:09 PM]  - Timing (Bayesian updates: 516.10ms, Linking: 11.96ms)\n",
      "[INFO][2022/08/08 06:13:09 PM]  - Probabilities (Link: 0.97446, Lost: 1.00000)\n",
      "[INFO][2022/08/08 06:13:09 PM]  - Stats (Active: 2550, Lost: 51737, Conflicts resolved: 1956)\n",
      "[INFO][2022/08/08 06:13:09 PM] Tracking objects in frames 25 to 49 (of 75)...\n",
      "[INFO][2022/08/08 06:13:20 PM]  - Timing (Bayesian updates: 180.09ms, Linking: 6.14ms)\n",
      "[INFO][2022/08/08 06:13:20 PM]  - Probabilities (Link: 0.94544, Lost: 1.00000)\n",
      "[INFO][2022/08/08 06:13:20 PM]  - Stats (Active: 1721, Lost: 105261, Conflicts resolved: 3564)\n",
      "[INFO][2022/08/08 06:13:20 PM] Tracking objects in frames 50 to 74 (of 75)...\n",
      "[INFO][2022/08/08 06:13:21 PM]  - Timing (Bayesian updates: 11.97ms, Linking: 1.03ms)\n",
      "[INFO][2022/08/08 06:13:21 PM]  - Probabilities (Link: 0.92668, Lost: 1.00000)\n",
      "[INFO][2022/08/08 06:13:21 PM] SUCCESS.\n",
      "[INFO][2022/08/08 06:13:21 PM]  - Found 17653 tracks in 75 frames (in 0.0s)\n",
      "[INFO][2022/08/08 06:13:22 PM]  - Inserted 23139 dummy objects to fill tracking gaps\n",
      "[INFO][2022/08/08 06:13:22 PM] Ending BayesianTracker session\n",
      "[INFO][2022/08/08 06:13:22 PM] Loaded btrack: /home/dayn/miniconda3/envs/aero/lib/python3.9/site-packages/btrack/libs/libtracker.so\n",
      "[INFO][2022/08/08 06:13:22 PM] btrack (v0.4.5) library imported\n",
      "[INFO][2022/08/08 06:13:22 PM] Starting BayesianTracker session\n",
      "[INFO][2022/08/08 06:13:22 PM] Loading configuration file: /home/dayn/analysis/BayesianTracker/models/param_test_config_hypo.json\n",
      "[INFO][2022/08/08 06:13:22 PM] Setting max_search_radius -> 500\n",
      "[INFO][2022/08/08 06:13:22 PM] Setting features -> ['area', 'major_axis_length', 'minor_axis_length', 'orientation', 'solidity', 'mean_intensity']\n",
      "[INFO][2022/08/08 06:13:22 PM] Objects are of type: <class 'list'>\n"
     ]
    },
    {
     "name": "stdout",
     "output_type": "stream",
     "text": [
      "(5, 3, 50, 5, 40) 3.2823316150229425\n"
     ]
    },
    {
     "name": "stderr",
     "output_type": "stream",
     "text": [
      "[INFO][2022/08/08 06:13:22 PM] Setting volume -> ((0, 6048), (0, 6048), (-100000.0, 100000.0))\n",
      "[INFO][2022/08/08 06:13:22 PM] Starting tracking... \n",
      "[INFO][2022/08/08 06:13:23 PM] Tracking objects in frames 0 to 24 (of 75)...\n",
      "[INFO][2022/08/08 06:13:36 PM]  - Timing (Bayesian updates: 517.18ms, Linking: 11.85ms)\n",
      "[INFO][2022/08/08 06:13:36 PM]  - Probabilities (Link: 0.97446, Lost: 1.00000)\n",
      "[INFO][2022/08/08 06:13:36 PM]  - Stats (Active: 2550, Lost: 51737, Conflicts resolved: 1956)\n",
      "[INFO][2022/08/08 06:13:36 PM] Tracking objects in frames 25 to 49 (of 75)...\n",
      "[INFO][2022/08/08 06:13:47 PM]  - Timing (Bayesian updates: 178.27ms, Linking: 5.35ms)\n",
      "[INFO][2022/08/08 06:13:47 PM]  - Probabilities (Link: 0.94544, Lost: 1.00000)\n",
      "[INFO][2022/08/08 06:13:47 PM]  - Stats (Active: 1721, Lost: 105261, Conflicts resolved: 3564)\n",
      "[INFO][2022/08/08 06:13:47 PM] Tracking objects in frames 50 to 74 (of 75)...\n",
      "[INFO][2022/08/08 06:13:49 PM]  - Timing (Bayesian updates: 11.90ms, Linking: 1.00ms)\n",
      "[INFO][2022/08/08 06:13:49 PM]  - Probabilities (Link: 0.92668, Lost: 1.00000)\n",
      "[INFO][2022/08/08 06:13:49 PM] SUCCESS.\n",
      "[INFO][2022/08/08 06:13:49 PM]  - Found 17653 tracks in 75 frames (in 0.0s)\n",
      "[INFO][2022/08/08 06:13:49 PM]  - Inserted 23139 dummy objects to fill tracking gaps\n",
      "[INFO][2022/08/08 06:13:49 PM] Ending BayesianTracker session\n",
      "[INFO][2022/08/08 06:13:49 PM] Loaded btrack: /home/dayn/miniconda3/envs/aero/lib/python3.9/site-packages/btrack/libs/libtracker.so\n",
      "[INFO][2022/08/08 06:13:49 PM] btrack (v0.4.5) library imported\n",
      "[INFO][2022/08/08 06:13:49 PM] Starting BayesianTracker session\n",
      "[INFO][2022/08/08 06:13:49 PM] Loading configuration file: /home/dayn/analysis/BayesianTracker/models/param_test_config_hypo.json\n",
      "[INFO][2022/08/08 06:13:49 PM] Setting max_search_radius -> 500\n",
      "[INFO][2022/08/08 06:13:49 PM] Setting features -> ['area', 'major_axis_length', 'minor_axis_length', 'orientation', 'solidity', 'mean_intensity']\n",
      "[INFO][2022/08/08 06:13:49 PM] Objects are of type: <class 'list'>\n",
      "[INFO][2022/08/08 06:13:49 PM] Setting volume -> ((0, 6048), (0, 6048), (-100000.0, 100000.0))\n",
      "[INFO][2022/08/08 06:13:49 PM] Starting tracking... \n"
     ]
    },
    {
     "name": "stdout",
     "output_type": "stream",
     "text": [
      "(5, 3, 50, 5, 80) 3.2823316150229425\n"
     ]
    },
    {
     "name": "stderr",
     "output_type": "stream",
     "text": [
      "[INFO][2022/08/08 06:13:50 PM] Tracking objects in frames 0 to 24 (of 75)...\n",
      "[INFO][2022/08/08 06:14:03 PM]  - Timing (Bayesian updates: 516.68ms, Linking: 11.71ms)\n",
      "[INFO][2022/08/08 06:14:03 PM]  - Probabilities (Link: 0.97446, Lost: 1.00000)\n",
      "[INFO][2022/08/08 06:14:03 PM]  - Stats (Active: 2550, Lost: 51737, Conflicts resolved: 1956)\n",
      "[INFO][2022/08/08 06:14:03 PM] Tracking objects in frames 25 to 49 (of 75)...\n",
      "[INFO][2022/08/08 06:14:14 PM]  - Timing (Bayesian updates: 179.94ms, Linking: 6.68ms)\n",
      "[INFO][2022/08/08 06:14:14 PM]  - Probabilities (Link: 0.94544, Lost: 1.00000)\n",
      "[INFO][2022/08/08 06:14:14 PM]  - Stats (Active: 1721, Lost: 105261, Conflicts resolved: 3564)\n",
      "[INFO][2022/08/08 06:14:14 PM] Tracking objects in frames 50 to 74 (of 75)...\n",
      "[INFO][2022/08/08 06:14:15 PM]  - Timing (Bayesian updates: 12.10ms, Linking: 1.06ms)\n",
      "[INFO][2022/08/08 06:14:15 PM]  - Probabilities (Link: 0.92668, Lost: 1.00000)\n",
      "[INFO][2022/08/08 06:14:15 PM] SUCCESS.\n",
      "[INFO][2022/08/08 06:14:15 PM]  - Found 17653 tracks in 75 frames (in 0.0s)\n",
      "[INFO][2022/08/08 06:14:15 PM]  - Inserted 23139 dummy objects to fill tracking gaps\n",
      "[INFO][2022/08/08 06:14:16 PM] Ending BayesianTracker session\n",
      "[INFO][2022/08/08 06:14:16 PM] Loaded btrack: /home/dayn/miniconda3/envs/aero/lib/python3.9/site-packages/btrack/libs/libtracker.so\n",
      "[INFO][2022/08/08 06:14:16 PM] btrack (v0.4.5) library imported\n",
      "[INFO][2022/08/08 06:14:16 PM] Starting BayesianTracker session\n",
      "[INFO][2022/08/08 06:14:16 PM] Loading configuration file: /home/dayn/analysis/BayesianTracker/models/param_test_config_hypo.json\n",
      "[INFO][2022/08/08 06:14:16 PM] Setting max_search_radius -> 500\n",
      "[INFO][2022/08/08 06:14:16 PM] Setting features -> ['area', 'major_axis_length', 'minor_axis_length', 'orientation', 'solidity', 'mean_intensity']\n",
      "[INFO][2022/08/08 06:14:16 PM] Objects are of type: <class 'list'>\n"
     ]
    },
    {
     "name": "stdout",
     "output_type": "stream",
     "text": [
      "(5, 3, 50, 5, 160) 3.2823316150229425\n"
     ]
    },
    {
     "name": "stderr",
     "output_type": "stream",
     "text": [
      "[INFO][2022/08/08 06:14:16 PM] Setting volume -> ((0, 6048), (0, 6048), (-100000.0, 100000.0))\n",
      "[INFO][2022/08/08 06:14:16 PM] Starting tracking... \n",
      "[INFO][2022/08/08 06:14:16 PM] Tracking objects in frames 0 to 24 (of 75)...\n",
      "[INFO][2022/08/08 06:14:29 PM]  - Timing (Bayesian updates: 515.77ms, Linking: 11.57ms)\n",
      "[INFO][2022/08/08 06:14:29 PM]  - Probabilities (Link: 0.97446, Lost: 1.00000)\n",
      "[INFO][2022/08/08 06:14:29 PM]  - Stats (Active: 2550, Lost: 51737, Conflicts resolved: 1956)\n",
      "[INFO][2022/08/08 06:14:29 PM] Tracking objects in frames 25 to 49 (of 75)...\n",
      "[INFO][2022/08/08 06:14:40 PM]  - Timing (Bayesian updates: 178.70ms, Linking: 5.35ms)\n",
      "[INFO][2022/08/08 06:14:40 PM]  - Probabilities (Link: 0.94544, Lost: 1.00000)\n",
      "[INFO][2022/08/08 06:14:40 PM]  - Stats (Active: 1721, Lost: 105261, Conflicts resolved: 3564)\n",
      "[INFO][2022/08/08 06:14:40 PM] Tracking objects in frames 50 to 74 (of 75)...\n",
      "[INFO][2022/08/08 06:14:41 PM]  - Timing (Bayesian updates: 11.68ms, Linking: 1.05ms)\n",
      "[INFO][2022/08/08 06:14:41 PM]  - Probabilities (Link: 0.92668, Lost: 1.00000)\n",
      "[INFO][2022/08/08 06:14:41 PM] SUCCESS.\n",
      "[INFO][2022/08/08 06:14:41 PM]  - Found 17653 tracks in 75 frames (in 0.0s)\n",
      "[INFO][2022/08/08 06:14:41 PM]  - Inserted 23139 dummy objects to fill tracking gaps\n",
      "[INFO][2022/08/08 06:14:42 PM] Ending BayesianTracker session\n",
      "[INFO][2022/08/08 06:14:42 PM] Loaded btrack: /home/dayn/miniconda3/envs/aero/lib/python3.9/site-packages/btrack/libs/libtracker.so\n",
      "[INFO][2022/08/08 06:14:42 PM] btrack (v0.4.5) library imported\n",
      "[INFO][2022/08/08 06:14:42 PM] Starting BayesianTracker session\n",
      "[INFO][2022/08/08 06:14:42 PM] Loading configuration file: /home/dayn/analysis/BayesianTracker/models/param_test_config_hypo.json\n",
      "[INFO][2022/08/08 06:14:42 PM] Setting max_search_radius -> 500\n",
      "[INFO][2022/08/08 06:14:42 PM] Setting features -> ['area', 'major_axis_length', 'minor_axis_length', 'orientation', 'solidity', 'mean_intensity']\n",
      "[INFO][2022/08/08 06:14:42 PM] Objects are of type: <class 'list'>\n",
      "[INFO][2022/08/08 06:14:42 PM] Setting volume -> ((0, 6048), (0, 6048), (-100000.0, 100000.0))\n",
      "[INFO][2022/08/08 06:14:42 PM] Starting tracking... \n"
     ]
    },
    {
     "name": "stdout",
     "output_type": "stream",
     "text": [
      "(5, 3, 50, 20, 40) 3.2823316150229425\n"
     ]
    },
    {
     "name": "stderr",
     "output_type": "stream",
     "text": [
      "[INFO][2022/08/08 06:14:42 PM] Tracking objects in frames 0 to 24 (of 75)...\n",
      "[INFO][2022/08/08 06:14:55 PM]  - Timing (Bayesian updates: 515.19ms, Linking: 11.81ms)\n",
      "[INFO][2022/08/08 06:14:55 PM]  - Probabilities (Link: 0.97446, Lost: 1.00000)\n",
      "[INFO][2022/08/08 06:14:55 PM]  - Stats (Active: 2550, Lost: 51737, Conflicts resolved: 1956)\n",
      "[INFO][2022/08/08 06:14:55 PM] Tracking objects in frames 25 to 49 (of 75)...\n",
      "[INFO][2022/08/08 06:15:06 PM]  - Timing (Bayesian updates: 179.93ms, Linking: 5.31ms)\n",
      "[INFO][2022/08/08 06:15:06 PM]  - Probabilities (Link: 0.94544, Lost: 1.00000)\n",
      "[INFO][2022/08/08 06:15:06 PM]  - Stats (Active: 1721, Lost: 105261, Conflicts resolved: 3564)\n",
      "[INFO][2022/08/08 06:15:06 PM] Tracking objects in frames 50 to 74 (of 75)...\n",
      "[INFO][2022/08/08 06:15:08 PM]  - Timing (Bayesian updates: 11.95ms, Linking: 1.02ms)\n",
      "[INFO][2022/08/08 06:15:08 PM]  - Probabilities (Link: 0.92668, Lost: 1.00000)\n",
      "[INFO][2022/08/08 06:15:08 PM] SUCCESS.\n",
      "[INFO][2022/08/08 06:15:08 PM]  - Found 17653 tracks in 75 frames (in 0.0s)\n",
      "[INFO][2022/08/08 06:15:08 PM]  - Inserted 23139 dummy objects to fill tracking gaps\n",
      "[INFO][2022/08/08 06:15:08 PM] Ending BayesianTracker session\n",
      "[INFO][2022/08/08 06:15:09 PM] Loaded btrack: /home/dayn/miniconda3/envs/aero/lib/python3.9/site-packages/btrack/libs/libtracker.so\n",
      "[INFO][2022/08/08 06:15:09 PM] btrack (v0.4.5) library imported\n",
      "[INFO][2022/08/08 06:15:09 PM] Starting BayesianTracker session\n",
      "[INFO][2022/08/08 06:15:09 PM] Loading configuration file: /home/dayn/analysis/BayesianTracker/models/param_test_config_hypo.json\n",
      "[INFO][2022/08/08 06:15:09 PM] Setting max_search_radius -> 500\n",
      "[INFO][2022/08/08 06:15:09 PM] Setting features -> ['area', 'major_axis_length', 'minor_axis_length', 'orientation', 'solidity', 'mean_intensity']\n",
      "[INFO][2022/08/08 06:15:09 PM] Objects are of type: <class 'list'>\n"
     ]
    },
    {
     "name": "stdout",
     "output_type": "stream",
     "text": [
      "(5, 3, 50, 20, 80) 3.2823316150229425\n"
     ]
    },
    {
     "name": "stderr",
     "output_type": "stream",
     "text": [
      "[INFO][2022/08/08 06:15:09 PM] Setting volume -> ((0, 6048), (0, 6048), (-100000.0, 100000.0))\n",
      "[INFO][2022/08/08 06:15:09 PM] Starting tracking... \n",
      "[INFO][2022/08/08 06:15:09 PM] Tracking objects in frames 0 to 24 (of 75)...\n",
      "[INFO][2022/08/08 06:15:22 PM]  - Timing (Bayesian updates: 516.62ms, Linking: 12.06ms)\n",
      "[INFO][2022/08/08 06:15:22 PM]  - Probabilities (Link: 0.97446, Lost: 1.00000)\n",
      "[INFO][2022/08/08 06:15:22 PM]  - Stats (Active: 2550, Lost: 51737, Conflicts resolved: 1956)\n",
      "[INFO][2022/08/08 06:15:22 PM] Tracking objects in frames 25 to 49 (of 75)...\n",
      "[INFO][2022/08/08 06:15:33 PM]  - Timing (Bayesian updates: 179.88ms, Linking: 5.27ms)\n",
      "[INFO][2022/08/08 06:15:33 PM]  - Probabilities (Link: 0.94544, Lost: 1.00000)\n",
      "[INFO][2022/08/08 06:15:33 PM]  - Stats (Active: 1721, Lost: 105261, Conflicts resolved: 3564)\n",
      "[INFO][2022/08/08 06:15:33 PM] Tracking objects in frames 50 to 74 (of 75)...\n",
      "[INFO][2022/08/08 06:15:34 PM]  - Timing (Bayesian updates: 11.95ms, Linking: 1.02ms)\n",
      "[INFO][2022/08/08 06:15:34 PM]  - Probabilities (Link: 0.92668, Lost: 1.00000)\n",
      "[INFO][2022/08/08 06:15:34 PM] SUCCESS.\n",
      "[INFO][2022/08/08 06:15:34 PM]  - Found 17653 tracks in 75 frames (in 0.0s)\n",
      "[INFO][2022/08/08 06:15:34 PM]  - Inserted 23139 dummy objects to fill tracking gaps\n",
      "[INFO][2022/08/08 06:15:35 PM] Ending BayesianTracker session\n",
      "[INFO][2022/08/08 06:15:35 PM] Loaded btrack: /home/dayn/miniconda3/envs/aero/lib/python3.9/site-packages/btrack/libs/libtracker.so\n",
      "[INFO][2022/08/08 06:15:35 PM] btrack (v0.4.5) library imported\n",
      "[INFO][2022/08/08 06:15:35 PM] Starting BayesianTracker session\n",
      "[INFO][2022/08/08 06:15:35 PM] Loading configuration file: /home/dayn/analysis/BayesianTracker/models/param_test_config_hypo.json\n",
      "[INFO][2022/08/08 06:15:35 PM] Setting max_search_radius -> 500\n",
      "[INFO][2022/08/08 06:15:35 PM] Setting features -> ['area', 'major_axis_length', 'minor_axis_length', 'orientation', 'solidity', 'mean_intensity']\n",
      "[INFO][2022/08/08 06:15:35 PM] Objects are of type: <class 'list'>\n",
      "[INFO][2022/08/08 06:15:35 PM] Setting volume -> ((0, 6048), (0, 6048), (-100000.0, 100000.0))\n",
      "[INFO][2022/08/08 06:15:35 PM] Starting tracking... \n"
     ]
    },
    {
     "name": "stdout",
     "output_type": "stream",
     "text": [
      "(5, 3, 50, 20, 160) 3.2823316150229425\n"
     ]
    },
    {
     "name": "stderr",
     "output_type": "stream",
     "text": [
      "[INFO][2022/08/08 06:15:35 PM] Tracking objects in frames 0 to 24 (of 75)...\n",
      "[INFO][2022/08/08 06:15:48 PM]  - Timing (Bayesian updates: 516.57ms, Linking: 11.93ms)\n",
      "[INFO][2022/08/08 06:15:48 PM]  - Probabilities (Link: 0.97446, Lost: 1.00000)\n",
      "[INFO][2022/08/08 06:15:48 PM]  - Stats (Active: 2550, Lost: 51737, Conflicts resolved: 1956)\n",
      "[INFO][2022/08/08 06:15:48 PM] Tracking objects in frames 25 to 49 (of 75)...\n",
      "[INFO][2022/08/08 06:15:59 PM]  - Timing (Bayesian updates: 179.24ms, Linking: 6.03ms)\n",
      "[INFO][2022/08/08 06:15:59 PM]  - Probabilities (Link: 0.94544, Lost: 1.00000)\n",
      "[INFO][2022/08/08 06:15:59 PM]  - Stats (Active: 1721, Lost: 105261, Conflicts resolved: 3564)\n",
      "[INFO][2022/08/08 06:15:59 PM] Tracking objects in frames 50 to 74 (of 75)...\n",
      "[INFO][2022/08/08 06:16:00 PM]  - Timing (Bayesian updates: 12.04ms, Linking: 1.05ms)\n",
      "[INFO][2022/08/08 06:16:00 PM]  - Probabilities (Link: 0.92668, Lost: 1.00000)\n",
      "[INFO][2022/08/08 06:16:00 PM] SUCCESS.\n",
      "[INFO][2022/08/08 06:16:00 PM]  - Found 17653 tracks in 75 frames (in 0.0s)\n",
      "[INFO][2022/08/08 06:16:01 PM]  - Inserted 23139 dummy objects to fill tracking gaps\n",
      "[INFO][2022/08/08 06:16:01 PM] Ending BayesianTracker session\n",
      "[INFO][2022/08/08 06:16:01 PM] Loaded btrack: /home/dayn/miniconda3/envs/aero/lib/python3.9/site-packages/btrack/libs/libtracker.so\n",
      "[INFO][2022/08/08 06:16:01 PM] btrack (v0.4.5) library imported\n",
      "[INFO][2022/08/08 06:16:01 PM] Starting BayesianTracker session\n",
      "[INFO][2022/08/08 06:16:01 PM] Loading configuration file: /home/dayn/analysis/BayesianTracker/models/param_test_config_hypo.json\n",
      "[INFO][2022/08/08 06:16:01 PM] Setting max_search_radius -> 500\n",
      "[INFO][2022/08/08 06:16:01 PM] Setting features -> ['area', 'major_axis_length', 'minor_axis_length', 'orientation', 'solidity', 'mean_intensity']\n",
      "[INFO][2022/08/08 06:16:01 PM] Objects are of type: <class 'list'>\n",
      "[INFO][2022/08/08 06:16:01 PM] Setting volume -> ((0, 6048), (0, 6048), (-100000.0, 100000.0))\n",
      "[INFO][2022/08/08 06:16:01 PM] Starting tracking... \n"
     ]
    },
    {
     "name": "stdout",
     "output_type": "stream",
     "text": [
      "(5, 3, 50, 100, 40) 3.2823316150229425\n"
     ]
    },
    {
     "name": "stderr",
     "output_type": "stream",
     "text": [
      "[INFO][2022/08/08 06:16:01 PM] Tracking objects in frames 0 to 24 (of 75)...\n",
      "[INFO][2022/08/08 06:16:15 PM]  - Timing (Bayesian updates: 526.58ms, Linking: 12.10ms)\n",
      "[INFO][2022/08/08 06:16:15 PM]  - Probabilities (Link: 0.97446, Lost: 1.00000)\n",
      "[INFO][2022/08/08 06:16:15 PM]  - Stats (Active: 2550, Lost: 51737, Conflicts resolved: 1956)\n",
      "[INFO][2022/08/08 06:16:15 PM] Tracking objects in frames 25 to 49 (of 75)...\n",
      "[INFO][2022/08/08 06:16:26 PM]  - Timing (Bayesian updates: 179.27ms, Linking: 6.13ms)\n",
      "[INFO][2022/08/08 06:16:26 PM]  - Probabilities (Link: 0.94544, Lost: 1.00000)\n",
      "[INFO][2022/08/08 06:16:26 PM]  - Stats (Active: 1721, Lost: 105261, Conflicts resolved: 3564)\n",
      "[INFO][2022/08/08 06:16:26 PM] Tracking objects in frames 50 to 74 (of 75)...\n",
      "[INFO][2022/08/08 06:16:27 PM]  - Timing (Bayesian updates: 12.01ms, Linking: 1.08ms)\n",
      "[INFO][2022/08/08 06:16:27 PM]  - Probabilities (Link: 0.92668, Lost: 1.00000)\n",
      "[INFO][2022/08/08 06:16:27 PM] SUCCESS.\n",
      "[INFO][2022/08/08 06:16:27 PM]  - Found 17653 tracks in 75 frames (in 0.0s)\n",
      "[INFO][2022/08/08 06:16:27 PM]  - Inserted 23139 dummy objects to fill tracking gaps\n",
      "[INFO][2022/08/08 06:16:28 PM] Ending BayesianTracker session\n",
      "[INFO][2022/08/08 06:16:28 PM] Loaded btrack: /home/dayn/miniconda3/envs/aero/lib/python3.9/site-packages/btrack/libs/libtracker.so\n",
      "[INFO][2022/08/08 06:16:28 PM] btrack (v0.4.5) library imported\n",
      "[INFO][2022/08/08 06:16:28 PM] Starting BayesianTracker session\n",
      "[INFO][2022/08/08 06:16:28 PM] Loading configuration file: /home/dayn/analysis/BayesianTracker/models/param_test_config_hypo.json\n",
      "[INFO][2022/08/08 06:16:28 PM] Setting max_search_radius -> 500\n",
      "[INFO][2022/08/08 06:16:28 PM] Setting features -> ['area', 'major_axis_length', 'minor_axis_length', 'orientation', 'solidity', 'mean_intensity']\n",
      "[INFO][2022/08/08 06:16:28 PM] Objects are of type: <class 'list'>\n"
     ]
    },
    {
     "name": "stdout",
     "output_type": "stream",
     "text": [
      "(5, 3, 50, 100, 80) 3.2823316150229425\n"
     ]
    },
    {
     "name": "stderr",
     "output_type": "stream",
     "text": [
      "[INFO][2022/08/08 06:16:28 PM] Setting volume -> ((0, 6048), (0, 6048), (-100000.0, 100000.0))\n",
      "[INFO][2022/08/08 06:16:28 PM] Starting tracking... \n",
      "[INFO][2022/08/08 06:16:28 PM] Tracking objects in frames 0 to 24 (of 75)...\n",
      "[INFO][2022/08/08 06:16:41 PM]  - Timing (Bayesian updates: 517.58ms, Linking: 12.02ms)\n",
      "[INFO][2022/08/08 06:16:41 PM]  - Probabilities (Link: 0.97446, Lost: 1.00000)\n",
      "[INFO][2022/08/08 06:16:41 PM]  - Stats (Active: 2550, Lost: 51737, Conflicts resolved: 1956)\n",
      "[INFO][2022/08/08 06:16:41 PM] Tracking objects in frames 25 to 49 (of 75)...\n",
      "[INFO][2022/08/08 06:16:52 PM]  - Timing (Bayesian updates: 177.98ms, Linking: 5.89ms)\n",
      "[INFO][2022/08/08 06:16:52 PM]  - Probabilities (Link: 0.94544, Lost: 1.00000)\n",
      "[INFO][2022/08/08 06:16:52 PM]  - Stats (Active: 1721, Lost: 105261, Conflicts resolved: 3564)\n",
      "[INFO][2022/08/08 06:16:52 PM] Tracking objects in frames 50 to 74 (of 75)...\n",
      "[INFO][2022/08/08 06:16:53 PM]  - Timing (Bayesian updates: 11.84ms, Linking: 1.02ms)\n",
      "[INFO][2022/08/08 06:16:53 PM]  - Probabilities (Link: 0.92668, Lost: 1.00000)\n",
      "[INFO][2022/08/08 06:16:53 PM] SUCCESS.\n",
      "[INFO][2022/08/08 06:16:53 PM]  - Found 17653 tracks in 75 frames (in 0.0s)\n",
      "[INFO][2022/08/08 06:16:54 PM]  - Inserted 23139 dummy objects to fill tracking gaps\n",
      "[INFO][2022/08/08 06:16:54 PM] Ending BayesianTracker session\n",
      "[INFO][2022/08/08 06:16:54 PM] Loaded btrack: /home/dayn/miniconda3/envs/aero/lib/python3.9/site-packages/btrack/libs/libtracker.so\n",
      "[INFO][2022/08/08 06:16:54 PM] btrack (v0.4.5) library imported\n",
      "[INFO][2022/08/08 06:16:54 PM] Starting BayesianTracker session\n",
      "[INFO][2022/08/08 06:16:54 PM] Loading configuration file: /home/dayn/analysis/BayesianTracker/models/param_test_config_hypo.json\n",
      "[INFO][2022/08/08 06:16:54 PM] Setting max_search_radius -> 500\n",
      "[INFO][2022/08/08 06:16:54 PM] Setting features -> ['area', 'major_axis_length', 'minor_axis_length', 'orientation', 'solidity', 'mean_intensity']\n",
      "[INFO][2022/08/08 06:16:54 PM] Objects are of type: <class 'list'>\n",
      "[INFO][2022/08/08 06:16:54 PM] Setting volume -> ((0, 6048), (0, 6048), (-100000.0, 100000.0))\n",
      "[INFO][2022/08/08 06:16:54 PM] Starting tracking... \n"
     ]
    },
    {
     "name": "stdout",
     "output_type": "stream",
     "text": [
      "(5, 3, 50, 100, 160) 3.2823316150229425\n"
     ]
    },
    {
     "name": "stderr",
     "output_type": "stream",
     "text": [
      "[INFO][2022/08/08 06:16:54 PM] Tracking objects in frames 0 to 24 (of 75)...\n",
      "[INFO][2022/08/08 06:17:08 PM]  - Timing (Bayesian updates: 518.44ms, Linking: 12.02ms)\n",
      "[INFO][2022/08/08 06:17:08 PM]  - Probabilities (Link: 0.97446, Lost: 1.00000)\n",
      "[INFO][2022/08/08 06:17:08 PM]  - Stats (Active: 2550, Lost: 51737, Conflicts resolved: 1956)\n",
      "[INFO][2022/08/08 06:17:08 PM] Tracking objects in frames 25 to 49 (of 75)...\n",
      "[INFO][2022/08/08 06:17:19 PM]  - Timing (Bayesian updates: 179.77ms, Linking: 5.46ms)\n",
      "[INFO][2022/08/08 06:17:19 PM]  - Probabilities (Link: 0.94544, Lost: 1.00000)\n",
      "[INFO][2022/08/08 06:17:19 PM]  - Stats (Active: 1721, Lost: 105261, Conflicts resolved: 3564)\n",
      "[INFO][2022/08/08 06:17:19 PM] Tracking objects in frames 50 to 74 (of 75)...\n",
      "[INFO][2022/08/08 06:17:20 PM]  - Timing (Bayesian updates: 12.17ms, Linking: 1.07ms)\n",
      "[INFO][2022/08/08 06:17:20 PM]  - Probabilities (Link: 0.92668, Lost: 1.00000)\n",
      "[INFO][2022/08/08 06:17:20 PM] SUCCESS.\n",
      "[INFO][2022/08/08 06:17:20 PM]  - Found 17653 tracks in 75 frames (in 0.0s)\n",
      "[INFO][2022/08/08 06:17:20 PM]  - Inserted 23139 dummy objects to fill tracking gaps\n",
      "[INFO][2022/08/08 06:17:21 PM] Ending BayesianTracker session\n",
      "[INFO][2022/08/08 06:17:21 PM] Loaded btrack: /home/dayn/miniconda3/envs/aero/lib/python3.9/site-packages/btrack/libs/libtracker.so\n",
      "[INFO][2022/08/08 06:17:21 PM] btrack (v0.4.5) library imported\n",
      "[INFO][2022/08/08 06:17:21 PM] Starting BayesianTracker session\n",
      "[INFO][2022/08/08 06:17:21 PM] Loading configuration file: /home/dayn/analysis/BayesianTracker/models/param_test_config_hypo.json\n",
      "[INFO][2022/08/08 06:17:21 PM] Setting max_search_radius -> 500\n",
      "[INFO][2022/08/08 06:17:21 PM] Setting features -> ['area', 'major_axis_length', 'minor_axis_length', 'orientation', 'solidity', 'mean_intensity']\n",
      "[INFO][2022/08/08 06:17:21 PM] Objects are of type: <class 'list'>\n"
     ]
    },
    {
     "name": "stdout",
     "output_type": "stream",
     "text": [
      "(5, 3, 100, 5, 40) 3.2823316150229425\n"
     ]
    },
    {
     "name": "stderr",
     "output_type": "stream",
     "text": [
      "[INFO][2022/08/08 06:17:21 PM] Setting volume -> ((0, 6048), (0, 6048), (-100000.0, 100000.0))\n",
      "[INFO][2022/08/08 06:17:21 PM] Starting tracking... \n",
      "[INFO][2022/08/08 06:17:21 PM] Tracking objects in frames 0 to 24 (of 75)...\n",
      "[INFO][2022/08/08 06:17:35 PM]  - Timing (Bayesian updates: 514.28ms, Linking: 11.07ms)\n",
      "[INFO][2022/08/08 06:17:35 PM]  - Probabilities (Link: 0.97446, Lost: 1.00000)\n",
      "[INFO][2022/08/08 06:17:35 PM]  - Stats (Active: 2550, Lost: 51737, Conflicts resolved: 1956)\n",
      "[INFO][2022/08/08 06:17:35 PM] Tracking objects in frames 25 to 49 (of 75)...\n",
      "[INFO][2022/08/08 06:17:46 PM]  - Timing (Bayesian updates: 182.37ms, Linking: 7.04ms)\n",
      "[INFO][2022/08/08 06:17:46 PM]  - Probabilities (Link: 0.94544, Lost: 1.00000)\n",
      "[INFO][2022/08/08 06:17:46 PM]  - Stats (Active: 1721, Lost: 105261, Conflicts resolved: 3564)\n",
      "[INFO][2022/08/08 06:17:46 PM] Tracking objects in frames 50 to 74 (of 75)...\n",
      "[INFO][2022/08/08 06:17:47 PM]  - Timing (Bayesian updates: 11.81ms, Linking: 1.06ms)\n",
      "[INFO][2022/08/08 06:17:47 PM]  - Probabilities (Link: 0.92668, Lost: 1.00000)\n",
      "[INFO][2022/08/08 06:17:47 PM] SUCCESS.\n",
      "[INFO][2022/08/08 06:17:47 PM]  - Found 17653 tracks in 75 frames (in 0.0s)\n",
      "[INFO][2022/08/08 06:17:47 PM]  - Inserted 23139 dummy objects to fill tracking gaps\n",
      "[INFO][2022/08/08 06:17:47 PM] Ending BayesianTracker session\n",
      "[INFO][2022/08/08 06:17:48 PM] Loaded btrack: /home/dayn/miniconda3/envs/aero/lib/python3.9/site-packages/btrack/libs/libtracker.so\n",
      "[INFO][2022/08/08 06:17:48 PM] btrack (v0.4.5) library imported\n",
      "[INFO][2022/08/08 06:17:48 PM] Starting BayesianTracker session\n",
      "[INFO][2022/08/08 06:17:48 PM] Loading configuration file: /home/dayn/analysis/BayesianTracker/models/param_test_config_hypo.json\n",
      "[INFO][2022/08/08 06:17:48 PM] Setting max_search_radius -> 500\n",
      "[INFO][2022/08/08 06:17:48 PM] Setting features -> ['area', 'major_axis_length', 'minor_axis_length', 'orientation', 'solidity', 'mean_intensity']\n",
      "[INFO][2022/08/08 06:17:48 PM] Objects are of type: <class 'list'>\n",
      "[INFO][2022/08/08 06:17:48 PM] Setting volume -> ((0, 6048), (0, 6048), (-100000.0, 100000.0))\n",
      "[INFO][2022/08/08 06:17:48 PM] Starting tracking... \n"
     ]
    },
    {
     "name": "stdout",
     "output_type": "stream",
     "text": [
      "(5, 3, 100, 5, 80) 3.2823316150229425\n"
     ]
    },
    {
     "name": "stderr",
     "output_type": "stream",
     "text": [
      "[INFO][2022/08/08 06:17:48 PM] Tracking objects in frames 0 to 24 (of 75)...\n",
      "[INFO][2022/08/08 06:18:01 PM]  - Timing (Bayesian updates: 519.35ms, Linking: 12.01ms)\n",
      "[INFO][2022/08/08 06:18:01 PM]  - Probabilities (Link: 0.97446, Lost: 1.00000)\n",
      "[INFO][2022/08/08 06:18:01 PM]  - Stats (Active: 2550, Lost: 51737, Conflicts resolved: 1956)\n",
      "[INFO][2022/08/08 06:18:01 PM] Tracking objects in frames 25 to 49 (of 75)...\n",
      "[INFO][2022/08/08 06:18:12 PM]  - Timing (Bayesian updates: 182.34ms, Linking: 5.73ms)\n",
      "[INFO][2022/08/08 06:18:12 PM]  - Probabilities (Link: 0.94544, Lost: 1.00000)\n",
      "[INFO][2022/08/08 06:18:12 PM]  - Stats (Active: 1721, Lost: 105261, Conflicts resolved: 3564)\n",
      "[INFO][2022/08/08 06:18:12 PM] Tracking objects in frames 50 to 74 (of 75)...\n",
      "[INFO][2022/08/08 06:18:13 PM]  - Timing (Bayesian updates: 11.80ms, Linking: 1.02ms)\n",
      "[INFO][2022/08/08 06:18:13 PM]  - Probabilities (Link: 0.92668, Lost: 1.00000)\n",
      "[INFO][2022/08/08 06:18:13 PM] SUCCESS.\n",
      "[INFO][2022/08/08 06:18:13 PM]  - Found 17653 tracks in 75 frames (in 0.0s)\n",
      "[INFO][2022/08/08 06:18:13 PM]  - Inserted 23139 dummy objects to fill tracking gaps\n",
      "[INFO][2022/08/08 06:18:14 PM] Ending BayesianTracker session\n",
      "[INFO][2022/08/08 06:18:14 PM] Loaded btrack: /home/dayn/miniconda3/envs/aero/lib/python3.9/site-packages/btrack/libs/libtracker.so\n",
      "[INFO][2022/08/08 06:18:14 PM] btrack (v0.4.5) library imported\n",
      "[INFO][2022/08/08 06:18:14 PM] Starting BayesianTracker session\n",
      "[INFO][2022/08/08 06:18:14 PM] Loading configuration file: /home/dayn/analysis/BayesianTracker/models/param_test_config_hypo.json\n",
      "[INFO][2022/08/08 06:18:14 PM] Setting max_search_radius -> 500\n",
      "[INFO][2022/08/08 06:18:14 PM] Setting features -> ['area', 'major_axis_length', 'minor_axis_length', 'orientation', 'solidity', 'mean_intensity']\n",
      "[INFO][2022/08/08 06:18:14 PM] Objects are of type: <class 'list'>\n",
      "[INFO][2022/08/08 06:18:14 PM] Setting volume -> ((0, 6048), (0, 6048), (-100000.0, 100000.0))\n",
      "[INFO][2022/08/08 06:18:14 PM] Starting tracking... \n"
     ]
    },
    {
     "name": "stdout",
     "output_type": "stream",
     "text": [
      "(5, 3, 100, 5, 160) 3.2823316150229425\n"
     ]
    },
    {
     "name": "stderr",
     "output_type": "stream",
     "text": [
      "[INFO][2022/08/08 06:18:14 PM] Tracking objects in frames 0 to 24 (of 75)...\n",
      "[INFO][2022/08/08 06:18:27 PM]  - Timing (Bayesian updates: 515.68ms, Linking: 11.82ms)\n",
      "[INFO][2022/08/08 06:18:27 PM]  - Probabilities (Link: 0.97446, Lost: 1.00000)\n",
      "[INFO][2022/08/08 06:18:27 PM]  - Stats (Active: 2550, Lost: 51737, Conflicts resolved: 1956)\n",
      "[INFO][2022/08/08 06:18:27 PM] Tracking objects in frames 25 to 49 (of 75)...\n",
      "[INFO][2022/08/08 06:18:38 PM]  - Timing (Bayesian updates: 179.38ms, Linking: 5.51ms)\n",
      "[INFO][2022/08/08 06:18:38 PM]  - Probabilities (Link: 0.94544, Lost: 1.00000)\n",
      "[INFO][2022/08/08 06:18:38 PM]  - Stats (Active: 1721, Lost: 105261, Conflicts resolved: 3564)\n",
      "[INFO][2022/08/08 06:18:38 PM] Tracking objects in frames 50 to 74 (of 75)...\n",
      "[INFO][2022/08/08 06:18:40 PM]  - Timing (Bayesian updates: 11.81ms, Linking: 1.07ms)\n",
      "[INFO][2022/08/08 06:18:40 PM]  - Probabilities (Link: 0.92668, Lost: 1.00000)\n",
      "[INFO][2022/08/08 06:18:40 PM] SUCCESS.\n",
      "[INFO][2022/08/08 06:18:40 PM]  - Found 17653 tracks in 75 frames (in 0.0s)\n",
      "[INFO][2022/08/08 06:18:40 PM]  - Inserted 23139 dummy objects to fill tracking gaps\n",
      "[INFO][2022/08/08 06:18:40 PM] Ending BayesianTracker session\n",
      "[INFO][2022/08/08 06:18:41 PM] Loaded btrack: /home/dayn/miniconda3/envs/aero/lib/python3.9/site-packages/btrack/libs/libtracker.so\n",
      "[INFO][2022/08/08 06:18:41 PM] btrack (v0.4.5) library imported\n",
      "[INFO][2022/08/08 06:18:41 PM] Starting BayesianTracker session\n",
      "[INFO][2022/08/08 06:18:41 PM] Loading configuration file: /home/dayn/analysis/BayesianTracker/models/param_test_config_hypo.json\n",
      "[INFO][2022/08/08 06:18:41 PM] Setting max_search_radius -> 500\n",
      "[INFO][2022/08/08 06:18:41 PM] Setting features -> ['area', 'major_axis_length', 'minor_axis_length', 'orientation', 'solidity', 'mean_intensity']\n",
      "[INFO][2022/08/08 06:18:41 PM] Objects are of type: <class 'list'>\n"
     ]
    },
    {
     "name": "stdout",
     "output_type": "stream",
     "text": [
      "(5, 3, 100, 20, 40) 3.2823316150229425\n"
     ]
    },
    {
     "name": "stderr",
     "output_type": "stream",
     "text": [
      "[INFO][2022/08/08 06:18:41 PM] Setting volume -> ((0, 6048), (0, 6048), (-100000.0, 100000.0))\n",
      "[INFO][2022/08/08 06:18:41 PM] Starting tracking... \n",
      "[INFO][2022/08/08 06:18:41 PM] Tracking objects in frames 0 to 24 (of 75)...\n",
      "[INFO][2022/08/08 06:18:54 PM]  - Timing (Bayesian updates: 515.60ms, Linking: 12.04ms)\n",
      "[INFO][2022/08/08 06:18:54 PM]  - Probabilities (Link: 0.97446, Lost: 1.00000)\n",
      "[INFO][2022/08/08 06:18:54 PM]  - Stats (Active: 2550, Lost: 51737, Conflicts resolved: 1956)\n",
      "[INFO][2022/08/08 06:18:54 PM] Tracking objects in frames 25 to 49 (of 75)...\n",
      "[INFO][2022/08/08 06:19:05 PM]  - Timing (Bayesian updates: 178.62ms, Linking: 5.67ms)\n",
      "[INFO][2022/08/08 06:19:05 PM]  - Probabilities (Link: 0.94544, Lost: 1.00000)\n",
      "[INFO][2022/08/08 06:19:05 PM]  - Stats (Active: 1721, Lost: 105261, Conflicts resolved: 3564)\n",
      "[INFO][2022/08/08 06:19:05 PM] Tracking objects in frames 50 to 74 (of 75)...\n",
      "[INFO][2022/08/08 06:19:06 PM]  - Timing (Bayesian updates: 11.68ms, Linking: 1.04ms)\n",
      "[INFO][2022/08/08 06:19:06 PM]  - Probabilities (Link: 0.92668, Lost: 1.00000)\n",
      "[INFO][2022/08/08 06:19:06 PM] SUCCESS.\n",
      "[INFO][2022/08/08 06:19:06 PM]  - Found 17653 tracks in 75 frames (in 0.0s)\n",
      "[INFO][2022/08/08 06:19:07 PM]  - Inserted 23139 dummy objects to fill tracking gaps\n",
      "[INFO][2022/08/08 06:19:07 PM] Ending BayesianTracker session\n",
      "[INFO][2022/08/08 06:19:07 PM] Loaded btrack: /home/dayn/miniconda3/envs/aero/lib/python3.9/site-packages/btrack/libs/libtracker.so\n",
      "[INFO][2022/08/08 06:19:07 PM] btrack (v0.4.5) library imported\n",
      "[INFO][2022/08/08 06:19:07 PM] Starting BayesianTracker session\n",
      "[INFO][2022/08/08 06:19:07 PM] Loading configuration file: /home/dayn/analysis/BayesianTracker/models/param_test_config_hypo.json\n",
      "[INFO][2022/08/08 06:19:07 PM] Setting max_search_radius -> 500\n",
      "[INFO][2022/08/08 06:19:07 PM] Setting features -> ['area', 'major_axis_length', 'minor_axis_length', 'orientation', 'solidity', 'mean_intensity']\n",
      "[INFO][2022/08/08 06:19:07 PM] Objects are of type: <class 'list'>\n"
     ]
    },
    {
     "name": "stdout",
     "output_type": "stream",
     "text": [
      "(5, 3, 100, 20, 80) 3.2823316150229425\n"
     ]
    },
    {
     "name": "stderr",
     "output_type": "stream",
     "text": [
      "[INFO][2022/08/08 06:19:07 PM] Setting volume -> ((0, 6048), (0, 6048), (-100000.0, 100000.0))\n",
      "[INFO][2022/08/08 06:19:07 PM] Starting tracking... \n",
      "[INFO][2022/08/08 06:19:07 PM] Tracking objects in frames 0 to 24 (of 75)...\n",
      "[INFO][2022/08/08 06:19:20 PM]  - Timing (Bayesian updates: 516.17ms, Linking: 11.93ms)\n",
      "[INFO][2022/08/08 06:19:20 PM]  - Probabilities (Link: 0.97446, Lost: 1.00000)\n",
      "[INFO][2022/08/08 06:19:20 PM]  - Stats (Active: 2550, Lost: 51737, Conflicts resolved: 1956)\n",
      "[INFO][2022/08/08 06:19:20 PM] Tracking objects in frames 25 to 49 (of 75)...\n",
      "[INFO][2022/08/08 06:19:31 PM]  - Timing (Bayesian updates: 180.14ms, Linking: 6.39ms)\n",
      "[INFO][2022/08/08 06:19:31 PM]  - Probabilities (Link: 0.94544, Lost: 1.00000)\n",
      "[INFO][2022/08/08 06:19:31 PM]  - Stats (Active: 1721, Lost: 105261, Conflicts resolved: 3564)\n",
      "[INFO][2022/08/08 06:19:31 PM] Tracking objects in frames 50 to 74 (of 75)...\n",
      "[INFO][2022/08/08 06:19:33 PM]  - Timing (Bayesian updates: 11.70ms, Linking: 1.00ms)\n",
      "[INFO][2022/08/08 06:19:33 PM]  - Probabilities (Link: 0.92668, Lost: 1.00000)\n",
      "[INFO][2022/08/08 06:19:33 PM] SUCCESS.\n",
      "[INFO][2022/08/08 06:19:33 PM]  - Found 17653 tracks in 75 frames (in 0.0s)\n",
      "[INFO][2022/08/08 06:19:33 PM]  - Inserted 23139 dummy objects to fill tracking gaps\n",
      "[INFO][2022/08/08 06:19:34 PM] Ending BayesianTracker session\n",
      "[INFO][2022/08/08 06:19:34 PM] Loaded btrack: /home/dayn/miniconda3/envs/aero/lib/python3.9/site-packages/btrack/libs/libtracker.so\n",
      "[INFO][2022/08/08 06:19:34 PM] btrack (v0.4.5) library imported\n",
      "[INFO][2022/08/08 06:19:34 PM] Starting BayesianTracker session\n",
      "[INFO][2022/08/08 06:19:34 PM] Loading configuration file: /home/dayn/analysis/BayesianTracker/models/param_test_config_hypo.json\n",
      "[INFO][2022/08/08 06:19:34 PM] Setting max_search_radius -> 500\n",
      "[INFO][2022/08/08 06:19:34 PM] Setting features -> ['area', 'major_axis_length', 'minor_axis_length', 'orientation', 'solidity', 'mean_intensity']\n",
      "[INFO][2022/08/08 06:19:34 PM] Objects are of type: <class 'list'>\n"
     ]
    },
    {
     "name": "stdout",
     "output_type": "stream",
     "text": [
      "(5, 3, 100, 20, 160) 3.2823316150229425\n"
     ]
    },
    {
     "name": "stderr",
     "output_type": "stream",
     "text": [
      "[INFO][2022/08/08 06:19:34 PM] Setting volume -> ((0, 6048), (0, 6048), (-100000.0, 100000.0))\n",
      "[INFO][2022/08/08 06:19:34 PM] Starting tracking... \n",
      "[INFO][2022/08/08 06:19:34 PM] Tracking objects in frames 0 to 24 (of 75)...\n",
      "[INFO][2022/08/08 06:19:47 PM]  - Timing (Bayesian updates: 534.46ms, Linking: 12.15ms)\n",
      "[INFO][2022/08/08 06:19:47 PM]  - Probabilities (Link: 0.97446, Lost: 1.00000)\n",
      "[INFO][2022/08/08 06:19:47 PM]  - Stats (Active: 2550, Lost: 51737, Conflicts resolved: 1956)\n",
      "[INFO][2022/08/08 06:19:47 PM] Tracking objects in frames 25 to 49 (of 75)...\n",
      "[INFO][2022/08/08 06:19:58 PM]  - Timing (Bayesian updates: 181.06ms, Linking: 6.18ms)\n",
      "[INFO][2022/08/08 06:19:58 PM]  - Probabilities (Link: 0.94544, Lost: 1.00000)\n",
      "[INFO][2022/08/08 06:19:58 PM]  - Stats (Active: 1721, Lost: 105261, Conflicts resolved: 3564)\n",
      "[INFO][2022/08/08 06:19:58 PM] Tracking objects in frames 50 to 74 (of 75)...\n",
      "[INFO][2022/08/08 06:19:59 PM]  - Timing (Bayesian updates: 11.95ms, Linking: 1.06ms)\n",
      "[INFO][2022/08/08 06:19:59 PM]  - Probabilities (Link: 0.92668, Lost: 1.00000)\n",
      "[INFO][2022/08/08 06:19:59 PM] SUCCESS.\n",
      "[INFO][2022/08/08 06:19:59 PM]  - Found 17653 tracks in 75 frames (in 0.0s)\n",
      "[INFO][2022/08/08 06:20:00 PM]  - Inserted 23139 dummy objects to fill tracking gaps\n",
      "[INFO][2022/08/08 06:20:00 PM] Ending BayesianTracker session\n",
      "[INFO][2022/08/08 06:20:00 PM] Loaded btrack: /home/dayn/miniconda3/envs/aero/lib/python3.9/site-packages/btrack/libs/libtracker.so\n",
      "[INFO][2022/08/08 06:20:00 PM] btrack (v0.4.5) library imported\n",
      "[INFO][2022/08/08 06:20:00 PM] Starting BayesianTracker session\n",
      "[INFO][2022/08/08 06:20:00 PM] Loading configuration file: /home/dayn/analysis/BayesianTracker/models/param_test_config_hypo.json\n",
      "[INFO][2022/08/08 06:20:00 PM] Setting max_search_radius -> 500\n",
      "[INFO][2022/08/08 06:20:00 PM] Setting features -> ['area', 'major_axis_length', 'minor_axis_length', 'orientation', 'solidity', 'mean_intensity']\n",
      "[INFO][2022/08/08 06:20:00 PM] Objects are of type: <class 'list'>\n",
      "[INFO][2022/08/08 06:20:00 PM] Setting volume -> ((0, 6048), (0, 6048), (-100000.0, 100000.0))\n",
      "[INFO][2022/08/08 06:20:00 PM] Starting tracking... \n"
     ]
    },
    {
     "name": "stdout",
     "output_type": "stream",
     "text": [
      "(5, 3, 100, 100, 40) 3.2823316150229425\n"
     ]
    },
    {
     "name": "stderr",
     "output_type": "stream",
     "text": [
      "[INFO][2022/08/08 06:20:00 PM] Tracking objects in frames 0 to 24 (of 75)...\n",
      "[INFO][2022/08/08 06:20:13 PM]  - Timing (Bayesian updates: 517.01ms, Linking: 11.70ms)\n",
      "[INFO][2022/08/08 06:20:13 PM]  - Probabilities (Link: 0.97446, Lost: 1.00000)\n",
      "[INFO][2022/08/08 06:20:13 PM]  - Stats (Active: 2550, Lost: 51737, Conflicts resolved: 1956)\n",
      "[INFO][2022/08/08 06:20:13 PM] Tracking objects in frames 25 to 49 (of 75)...\n",
      "[INFO][2022/08/08 06:20:24 PM]  - Timing (Bayesian updates: 178.62ms, Linking: 5.44ms)\n",
      "[INFO][2022/08/08 06:20:24 PM]  - Probabilities (Link: 0.94544, Lost: 1.00000)\n",
      "[INFO][2022/08/08 06:20:24 PM]  - Stats (Active: 1721, Lost: 105261, Conflicts resolved: 3564)\n",
      "[INFO][2022/08/08 06:20:24 PM] Tracking objects in frames 50 to 74 (of 75)...\n",
      "[INFO][2022/08/08 06:20:26 PM]  - Timing (Bayesian updates: 15.07ms, Linking: 1.28ms)\n",
      "[INFO][2022/08/08 06:20:26 PM]  - Probabilities (Link: 0.92668, Lost: 1.00000)\n",
      "[INFO][2022/08/08 06:20:26 PM] SUCCESS.\n",
      "[INFO][2022/08/08 06:20:26 PM]  - Found 17653 tracks in 75 frames (in 0.0s)\n",
      "[INFO][2022/08/08 06:20:26 PM]  - Inserted 23139 dummy objects to fill tracking gaps\n",
      "[INFO][2022/08/08 06:20:27 PM] Ending BayesianTracker session\n",
      "[INFO][2022/08/08 06:20:27 PM] Loaded btrack: /home/dayn/miniconda3/envs/aero/lib/python3.9/site-packages/btrack/libs/libtracker.so\n",
      "[INFO][2022/08/08 06:20:27 PM] btrack (v0.4.5) library imported\n",
      "[INFO][2022/08/08 06:20:27 PM] Starting BayesianTracker session\n",
      "[INFO][2022/08/08 06:20:27 PM] Loading configuration file: /home/dayn/analysis/BayesianTracker/models/param_test_config_hypo.json\n",
      "[INFO][2022/08/08 06:20:27 PM] Setting max_search_radius -> 500\n",
      "[INFO][2022/08/08 06:20:27 PM] Setting features -> ['area', 'major_axis_length', 'minor_axis_length', 'orientation', 'solidity', 'mean_intensity']\n",
      "[INFO][2022/08/08 06:20:27 PM] Objects are of type: <class 'list'>\n"
     ]
    },
    {
     "name": "stdout",
     "output_type": "stream",
     "text": [
      "(5, 3, 100, 100, 80) 3.2823316150229425\n"
     ]
    },
    {
     "name": "stderr",
     "output_type": "stream",
     "text": [
      "[INFO][2022/08/08 06:20:27 PM] Setting volume -> ((0, 6048), (0, 6048), (-100000.0, 100000.0))\n",
      "[INFO][2022/08/08 06:20:27 PM] Starting tracking... \n",
      "[INFO][2022/08/08 06:20:27 PM] Tracking objects in frames 0 to 24 (of 75)...\n",
      "[INFO][2022/08/08 06:20:41 PM]  - Timing (Bayesian updates: 516.86ms, Linking: 11.84ms)\n",
      "[INFO][2022/08/08 06:20:41 PM]  - Probabilities (Link: 0.97446, Lost: 1.00000)\n",
      "[INFO][2022/08/08 06:20:41 PM]  - Stats (Active: 2550, Lost: 51737, Conflicts resolved: 1956)\n",
      "[INFO][2022/08/08 06:20:41 PM] Tracking objects in frames 25 to 49 (of 75)...\n",
      "[INFO][2022/08/08 06:20:52 PM]  - Timing (Bayesian updates: 179.99ms, Linking: 5.75ms)\n",
      "[INFO][2022/08/08 06:20:52 PM]  - Probabilities (Link: 0.94544, Lost: 1.00000)\n",
      "[INFO][2022/08/08 06:20:52 PM]  - Stats (Active: 1721, Lost: 105261, Conflicts resolved: 3564)\n",
      "[INFO][2022/08/08 06:20:52 PM] Tracking objects in frames 50 to 74 (of 75)...\n",
      "[INFO][2022/08/08 06:20:53 PM]  - Timing (Bayesian updates: 11.87ms, Linking: 1.07ms)\n",
      "[INFO][2022/08/08 06:20:53 PM]  - Probabilities (Link: 0.92668, Lost: 1.00000)\n",
      "[INFO][2022/08/08 06:20:53 PM] SUCCESS.\n",
      "[INFO][2022/08/08 06:20:53 PM]  - Found 17653 tracks in 75 frames (in 0.0s)\n",
      "[INFO][2022/08/08 06:20:53 PM]  - Inserted 23139 dummy objects to fill tracking gaps\n",
      "[INFO][2022/08/08 06:20:54 PM] Ending BayesianTracker session\n",
      "[INFO][2022/08/08 06:20:54 PM] Loaded btrack: /home/dayn/miniconda3/envs/aero/lib/python3.9/site-packages/btrack/libs/libtracker.so\n",
      "[INFO][2022/08/08 06:20:54 PM] btrack (v0.4.5) library imported\n",
      "[INFO][2022/08/08 06:20:54 PM] Starting BayesianTracker session\n",
      "[INFO][2022/08/08 06:20:54 PM] Loading configuration file: /home/dayn/analysis/BayesianTracker/models/param_test_config_hypo.json\n",
      "[INFO][2022/08/08 06:20:54 PM] Setting max_search_radius -> 500\n",
      "[INFO][2022/08/08 06:20:54 PM] Setting features -> ['area', 'major_axis_length', 'minor_axis_length', 'orientation', 'solidity', 'mean_intensity']\n",
      "[INFO][2022/08/08 06:20:54 PM] Objects are of type: <class 'list'>\n"
     ]
    },
    {
     "name": "stdout",
     "output_type": "stream",
     "text": [
      "(5, 3, 100, 100, 160) 3.2823316150229425\n"
     ]
    },
    {
     "name": "stderr",
     "output_type": "stream",
     "text": [
      "[INFO][2022/08/08 06:20:54 PM] Setting volume -> ((0, 6048), (0, 6048), (-100000.0, 100000.0))\n",
      "[INFO][2022/08/08 06:20:54 PM] Starting tracking... \n",
      "[INFO][2022/08/08 06:20:54 PM] Tracking objects in frames 0 to 24 (of 75)...\n",
      "[INFO][2022/08/08 06:21:07 PM]  - Timing (Bayesian updates: 518.46ms, Linking: 11.86ms)\n",
      "[INFO][2022/08/08 06:21:07 PM]  - Probabilities (Link: 0.97446, Lost: 1.00000)\n",
      "[INFO][2022/08/08 06:21:07 PM]  - Stats (Active: 2550, Lost: 51737, Conflicts resolved: 1956)\n",
      "[INFO][2022/08/08 06:21:07 PM] Tracking objects in frames 25 to 49 (of 75)...\n",
      "[INFO][2022/08/08 06:21:18 PM]  - Timing (Bayesian updates: 179.52ms, Linking: 5.56ms)\n",
      "[INFO][2022/08/08 06:21:18 PM]  - Probabilities (Link: 0.94544, Lost: 1.00000)\n",
      "[INFO][2022/08/08 06:21:18 PM]  - Stats (Active: 1721, Lost: 105261, Conflicts resolved: 3564)\n",
      "[INFO][2022/08/08 06:21:18 PM] Tracking objects in frames 50 to 74 (of 75)...\n",
      "[INFO][2022/08/08 06:21:20 PM]  - Timing (Bayesian updates: 11.83ms, Linking: 1.10ms)\n",
      "[INFO][2022/08/08 06:21:20 PM]  - Probabilities (Link: 0.92668, Lost: 1.00000)\n",
      "[INFO][2022/08/08 06:21:20 PM] SUCCESS.\n",
      "[INFO][2022/08/08 06:21:20 PM]  - Found 17653 tracks in 75 frames (in 0.0s)\n",
      "[INFO][2022/08/08 06:21:20 PM]  - Inserted 23139 dummy objects to fill tracking gaps\n",
      "[INFO][2022/08/08 06:21:20 PM] Ending BayesianTracker session\n",
      "[INFO][2022/08/08 06:21:20 PM] Loaded btrack: /home/dayn/miniconda3/envs/aero/lib/python3.9/site-packages/btrack/libs/libtracker.so\n",
      "[INFO][2022/08/08 06:21:20 PM] btrack (v0.4.5) library imported\n",
      "[INFO][2022/08/08 06:21:20 PM] Starting BayesianTracker session\n",
      "[INFO][2022/08/08 06:21:20 PM] Loading configuration file: /home/dayn/analysis/BayesianTracker/models/param_test_config_hypo.json\n",
      "[INFO][2022/08/08 06:21:20 PM] Setting max_search_radius -> 500\n",
      "[INFO][2022/08/08 06:21:20 PM] Setting features -> ['area', 'major_axis_length', 'minor_axis_length', 'orientation', 'solidity', 'mean_intensity']\n",
      "[INFO][2022/08/08 06:21:20 PM] Objects are of type: <class 'list'>\n",
      "[INFO][2022/08/08 06:21:20 PM] Setting volume -> ((0, 6048), (0, 6048), (-100000.0, 100000.0))\n",
      "[INFO][2022/08/08 06:21:20 PM] Starting tracking... \n"
     ]
    },
    {
     "name": "stdout",
     "output_type": "stream",
     "text": [
      "(5, 3, 300, 5, 40) 3.2823316150229425\n"
     ]
    },
    {
     "name": "stderr",
     "output_type": "stream",
     "text": [
      "[INFO][2022/08/08 06:21:20 PM] Tracking objects in frames 0 to 24 (of 75)...\n",
      "[INFO][2022/08/08 06:21:34 PM]  - Timing (Bayesian updates: 518.55ms, Linking: 11.75ms)\n",
      "[INFO][2022/08/08 06:21:34 PM]  - Probabilities (Link: 0.97446, Lost: 1.00000)\n",
      "[INFO][2022/08/08 06:21:34 PM]  - Stats (Active: 2550, Lost: 51737, Conflicts resolved: 1956)\n",
      "[INFO][2022/08/08 06:21:34 PM] Tracking objects in frames 25 to 49 (of 75)...\n",
      "[INFO][2022/08/08 06:21:45 PM]  - Timing (Bayesian updates: 179.49ms, Linking: 6.06ms)\n",
      "[INFO][2022/08/08 06:21:45 PM]  - Probabilities (Link: 0.94544, Lost: 1.00000)\n",
      "[INFO][2022/08/08 06:21:45 PM]  - Stats (Active: 1721, Lost: 105261, Conflicts resolved: 3564)\n",
      "[INFO][2022/08/08 06:21:45 PM] Tracking objects in frames 50 to 74 (of 75)...\n",
      "[INFO][2022/08/08 06:21:46 PM]  - Timing (Bayesian updates: 11.78ms, Linking: 1.03ms)\n",
      "[INFO][2022/08/08 06:21:46 PM]  - Probabilities (Link: 0.92668, Lost: 1.00000)\n",
      "[INFO][2022/08/08 06:21:46 PM] SUCCESS.\n",
      "[INFO][2022/08/08 06:21:46 PM]  - Found 17653 tracks in 75 frames (in 0.0s)\n",
      "[INFO][2022/08/08 06:21:46 PM]  - Inserted 23139 dummy objects to fill tracking gaps\n",
      "[INFO][2022/08/08 06:21:46 PM] Ending BayesianTracker session\n",
      "[INFO][2022/08/08 06:21:47 PM] Loaded btrack: /home/dayn/miniconda3/envs/aero/lib/python3.9/site-packages/btrack/libs/libtracker.so\n",
      "[INFO][2022/08/08 06:21:47 PM] btrack (v0.4.5) library imported\n",
      "[INFO][2022/08/08 06:21:47 PM] Starting BayesianTracker session\n",
      "[INFO][2022/08/08 06:21:47 PM] Loading configuration file: /home/dayn/analysis/BayesianTracker/models/param_test_config_hypo.json\n",
      "[INFO][2022/08/08 06:21:47 PM] Setting max_search_radius -> 500\n",
      "[INFO][2022/08/08 06:21:47 PM] Setting features -> ['area', 'major_axis_length', 'minor_axis_length', 'orientation', 'solidity', 'mean_intensity']\n",
      "[INFO][2022/08/08 06:21:47 PM] Objects are of type: <class 'list'>\n",
      "[INFO][2022/08/08 06:21:47 PM] Setting volume -> ((0, 6048), (0, 6048), (-100000.0, 100000.0))\n",
      "[INFO][2022/08/08 06:21:47 PM] Starting tracking... \n"
     ]
    },
    {
     "name": "stdout",
     "output_type": "stream",
     "text": [
      "(5, 3, 300, 5, 80) 3.2823316150229425\n"
     ]
    },
    {
     "name": "stderr",
     "output_type": "stream",
     "text": [
      "[INFO][2022/08/08 06:21:47 PM] Tracking objects in frames 0 to 24 (of 75)...\n",
      "[INFO][2022/08/08 06:22:00 PM]  - Timing (Bayesian updates: 519.16ms, Linking: 11.66ms)\n",
      "[INFO][2022/08/08 06:22:00 PM]  - Probabilities (Link: 0.97446, Lost: 1.00000)\n",
      "[INFO][2022/08/08 06:22:00 PM]  - Stats (Active: 2550, Lost: 51737, Conflicts resolved: 1956)\n",
      "[INFO][2022/08/08 06:22:00 PM] Tracking objects in frames 25 to 49 (of 75)...\n",
      "[INFO][2022/08/08 06:22:11 PM]  - Timing (Bayesian updates: 179.69ms, Linking: 5.93ms)\n",
      "[INFO][2022/08/08 06:22:11 PM]  - Probabilities (Link: 0.94544, Lost: 1.00000)\n",
      "[INFO][2022/08/08 06:22:11 PM]  - Stats (Active: 1721, Lost: 105261, Conflicts resolved: 3564)\n",
      "[INFO][2022/08/08 06:22:11 PM] Tracking objects in frames 50 to 74 (of 75)...\n",
      "[INFO][2022/08/08 06:22:12 PM]  - Timing (Bayesian updates: 11.87ms, Linking: 1.11ms)\n",
      "[INFO][2022/08/08 06:22:12 PM]  - Probabilities (Link: 0.92668, Lost: 1.00000)\n",
      "[INFO][2022/08/08 06:22:12 PM] SUCCESS.\n",
      "[INFO][2022/08/08 06:22:12 PM]  - Found 17653 tracks in 75 frames (in 0.0s)\n",
      "[INFO][2022/08/08 06:22:13 PM]  - Inserted 23139 dummy objects to fill tracking gaps\n",
      "[INFO][2022/08/08 06:22:13 PM] Ending BayesianTracker session\n",
      "[INFO][2022/08/08 06:22:13 PM] Loaded btrack: /home/dayn/miniconda3/envs/aero/lib/python3.9/site-packages/btrack/libs/libtracker.so\n",
      "[INFO][2022/08/08 06:22:13 PM] btrack (v0.4.5) library imported\n",
      "[INFO][2022/08/08 06:22:13 PM] Starting BayesianTracker session\n",
      "[INFO][2022/08/08 06:22:13 PM] Loading configuration file: /home/dayn/analysis/BayesianTracker/models/param_test_config_hypo.json\n",
      "[INFO][2022/08/08 06:22:13 PM] Setting max_search_radius -> 500\n",
      "[INFO][2022/08/08 06:22:13 PM] Setting features -> ['area', 'major_axis_length', 'minor_axis_length', 'orientation', 'solidity', 'mean_intensity']\n",
      "[INFO][2022/08/08 06:22:13 PM] Objects are of type: <class 'list'>\n"
     ]
    },
    {
     "name": "stdout",
     "output_type": "stream",
     "text": [
      "(5, 3, 300, 5, 160) 3.2823316150229425\n"
     ]
    },
    {
     "name": "stderr",
     "output_type": "stream",
     "text": [
      "[INFO][2022/08/08 06:22:13 PM] Setting volume -> ((0, 6048), (0, 6048), (-100000.0, 100000.0))\n",
      "[INFO][2022/08/08 06:22:13 PM] Starting tracking... \n",
      "[INFO][2022/08/08 06:22:13 PM] Tracking objects in frames 0 to 24 (of 75)...\n",
      "[INFO][2022/08/08 06:22:27 PM]  - Timing (Bayesian updates: 517.88ms, Linking: 11.92ms)\n",
      "[INFO][2022/08/08 06:22:27 PM]  - Probabilities (Link: 0.97446, Lost: 1.00000)\n",
      "[INFO][2022/08/08 06:22:27 PM]  - Stats (Active: 2550, Lost: 51737, Conflicts resolved: 1956)\n",
      "[INFO][2022/08/08 06:22:27 PM] Tracking objects in frames 25 to 49 (of 75)...\n",
      "[INFO][2022/08/08 06:22:38 PM]  - Timing (Bayesian updates: 180.09ms, Linking: 6.74ms)\n",
      "[INFO][2022/08/08 06:22:38 PM]  - Probabilities (Link: 0.94544, Lost: 1.00000)\n",
      "[INFO][2022/08/08 06:22:38 PM]  - Stats (Active: 1721, Lost: 105261, Conflicts resolved: 3564)\n",
      "[INFO][2022/08/08 06:22:38 PM] Tracking objects in frames 50 to 74 (of 75)...\n",
      "[INFO][2022/08/08 06:22:39 PM]  - Timing (Bayesian updates: 11.95ms, Linking: 1.02ms)\n",
      "[INFO][2022/08/08 06:22:39 PM]  - Probabilities (Link: 0.92668, Lost: 1.00000)\n",
      "[INFO][2022/08/08 06:22:39 PM] SUCCESS.\n",
      "[INFO][2022/08/08 06:22:39 PM]  - Found 17653 tracks in 75 frames (in 0.0s)\n",
      "[INFO][2022/08/08 06:22:39 PM]  - Inserted 23139 dummy objects to fill tracking gaps\n",
      "[INFO][2022/08/08 06:22:40 PM] Ending BayesianTracker session\n",
      "[INFO][2022/08/08 06:22:40 PM] Loaded btrack: /home/dayn/miniconda3/envs/aero/lib/python3.9/site-packages/btrack/libs/libtracker.so\n",
      "[INFO][2022/08/08 06:22:40 PM] btrack (v0.4.5) library imported\n",
      "[INFO][2022/08/08 06:22:40 PM] Starting BayesianTracker session\n",
      "[INFO][2022/08/08 06:22:40 PM] Loading configuration file: /home/dayn/analysis/BayesianTracker/models/param_test_config_hypo.json\n",
      "[INFO][2022/08/08 06:22:40 PM] Setting max_search_radius -> 500\n",
      "[INFO][2022/08/08 06:22:40 PM] Setting features -> ['area', 'major_axis_length', 'minor_axis_length', 'orientation', 'solidity', 'mean_intensity']\n",
      "[INFO][2022/08/08 06:22:40 PM] Objects are of type: <class 'list'>\n"
     ]
    },
    {
     "name": "stdout",
     "output_type": "stream",
     "text": [
      "(5, 3, 300, 20, 40) 3.2823316150229425\n"
     ]
    },
    {
     "name": "stderr",
     "output_type": "stream",
     "text": [
      "[INFO][2022/08/08 06:22:40 PM] Setting volume -> ((0, 6048), (0, 6048), (-100000.0, 100000.0))\n",
      "[INFO][2022/08/08 06:22:40 PM] Starting tracking... \n",
      "[INFO][2022/08/08 06:22:40 PM] Tracking objects in frames 0 to 24 (of 75)...\n",
      "[INFO][2022/08/08 06:22:53 PM]  - Timing (Bayesian updates: 516.18ms, Linking: 11.85ms)\n",
      "[INFO][2022/08/08 06:22:53 PM]  - Probabilities (Link: 0.97446, Lost: 1.00000)\n",
      "[INFO][2022/08/08 06:22:53 PM]  - Stats (Active: 2550, Lost: 51737, Conflicts resolved: 1956)\n",
      "[INFO][2022/08/08 06:22:53 PM] Tracking objects in frames 25 to 49 (of 75)...\n",
      "[INFO][2022/08/08 06:23:04 PM]  - Timing (Bayesian updates: 178.91ms, Linking: 5.27ms)\n",
      "[INFO][2022/08/08 06:23:04 PM]  - Probabilities (Link: 0.94544, Lost: 1.00000)\n",
      "[INFO][2022/08/08 06:23:04 PM]  - Stats (Active: 1721, Lost: 105261, Conflicts resolved: 3564)\n",
      "[INFO][2022/08/08 06:23:04 PM] Tracking objects in frames 50 to 74 (of 75)...\n",
      "[INFO][2022/08/08 06:23:06 PM]  - Timing (Bayesian updates: 12.02ms, Linking: 1.06ms)\n",
      "[INFO][2022/08/08 06:23:06 PM]  - Probabilities (Link: 0.92668, Lost: 1.00000)\n",
      "[INFO][2022/08/08 06:23:06 PM] SUCCESS.\n",
      "[INFO][2022/08/08 06:23:06 PM]  - Found 17653 tracks in 75 frames (in 0.0s)\n",
      "[INFO][2022/08/08 06:23:06 PM]  - Inserted 23139 dummy objects to fill tracking gaps\n",
      "[INFO][2022/08/08 06:23:06 PM] Ending BayesianTracker session\n",
      "[INFO][2022/08/08 06:23:06 PM] Loaded btrack: /home/dayn/miniconda3/envs/aero/lib/python3.9/site-packages/btrack/libs/libtracker.so\n",
      "[INFO][2022/08/08 06:23:06 PM] btrack (v0.4.5) library imported\n",
      "[INFO][2022/08/08 06:23:06 PM] Starting BayesianTracker session\n",
      "[INFO][2022/08/08 06:23:06 PM] Loading configuration file: /home/dayn/analysis/BayesianTracker/models/param_test_config_hypo.json\n",
      "[INFO][2022/08/08 06:23:06 PM] Setting max_search_radius -> 500\n",
      "[INFO][2022/08/08 06:23:06 PM] Setting features -> ['area', 'major_axis_length', 'minor_axis_length', 'orientation', 'solidity', 'mean_intensity']\n",
      "[INFO][2022/08/08 06:23:06 PM] Objects are of type: <class 'list'>\n"
     ]
    },
    {
     "name": "stdout",
     "output_type": "stream",
     "text": [
      "(5, 3, 300, 20, 80) 3.2823316150229425\n"
     ]
    },
    {
     "name": "stderr",
     "output_type": "stream",
     "text": [
      "[INFO][2022/08/08 06:23:06 PM] Setting volume -> ((0, 6048), (0, 6048), (-100000.0, 100000.0))\n",
      "[INFO][2022/08/08 06:23:06 PM] Starting tracking... \n",
      "[INFO][2022/08/08 06:23:07 PM] Tracking objects in frames 0 to 24 (of 75)...\n",
      "[INFO][2022/08/08 06:23:20 PM]  - Timing (Bayesian updates: 516.83ms, Linking: 12.04ms)\n",
      "[INFO][2022/08/08 06:23:20 PM]  - Probabilities (Link: 0.97446, Lost: 1.00000)\n",
      "[INFO][2022/08/08 06:23:20 PM]  - Stats (Active: 2550, Lost: 51737, Conflicts resolved: 1956)\n",
      "[INFO][2022/08/08 06:23:20 PM] Tracking objects in frames 25 to 49 (of 75)...\n",
      "[INFO][2022/08/08 06:23:31 PM]  - Timing (Bayesian updates: 178.45ms, Linking: 5.91ms)\n",
      "[INFO][2022/08/08 06:23:31 PM]  - Probabilities (Link: 0.94544, Lost: 1.00000)\n",
      "[INFO][2022/08/08 06:23:31 PM]  - Stats (Active: 1721, Lost: 105261, Conflicts resolved: 3564)\n",
      "[INFO][2022/08/08 06:23:31 PM] Tracking objects in frames 50 to 74 (of 75)...\n",
      "[INFO][2022/08/08 06:23:32 PM]  - Timing (Bayesian updates: 11.88ms, Linking: 1.05ms)\n",
      "[INFO][2022/08/08 06:23:32 PM]  - Probabilities (Link: 0.92668, Lost: 1.00000)\n",
      "[INFO][2022/08/08 06:23:32 PM] SUCCESS.\n",
      "[INFO][2022/08/08 06:23:32 PM]  - Found 17653 tracks in 75 frames (in 0.0s)\n",
      "[INFO][2022/08/08 06:23:32 PM]  - Inserted 23139 dummy objects to fill tracking gaps\n",
      "[INFO][2022/08/08 06:23:33 PM] Ending BayesianTracker session\n",
      "[INFO][2022/08/08 06:23:33 PM] Loaded btrack: /home/dayn/miniconda3/envs/aero/lib/python3.9/site-packages/btrack/libs/libtracker.so\n",
      "[INFO][2022/08/08 06:23:33 PM] btrack (v0.4.5) library imported\n",
      "[INFO][2022/08/08 06:23:33 PM] Starting BayesianTracker session\n",
      "[INFO][2022/08/08 06:23:33 PM] Loading configuration file: /home/dayn/analysis/BayesianTracker/models/param_test_config_hypo.json\n",
      "[INFO][2022/08/08 06:23:33 PM] Setting max_search_radius -> 500\n",
      "[INFO][2022/08/08 06:23:33 PM] Setting features -> ['area', 'major_axis_length', 'minor_axis_length', 'orientation', 'solidity', 'mean_intensity']\n",
      "[INFO][2022/08/08 06:23:33 PM] Objects are of type: <class 'list'>\n"
     ]
    },
    {
     "name": "stdout",
     "output_type": "stream",
     "text": [
      "(5, 3, 300, 20, 160) 3.2823316150229425\n"
     ]
    },
    {
     "name": "stderr",
     "output_type": "stream",
     "text": [
      "[INFO][2022/08/08 06:23:33 PM] Setting volume -> ((0, 6048), (0, 6048), (-100000.0, 100000.0))\n",
      "[INFO][2022/08/08 06:23:33 PM] Starting tracking... \n",
      "[INFO][2022/08/08 06:23:33 PM] Tracking objects in frames 0 to 24 (of 75)...\n",
      "[INFO][2022/08/08 06:23:46 PM]  - Timing (Bayesian updates: 522.68ms, Linking: 12.33ms)\n",
      "[INFO][2022/08/08 06:23:46 PM]  - Probabilities (Link: 0.97446, Lost: 1.00000)\n",
      "[INFO][2022/08/08 06:23:46 PM]  - Stats (Active: 2550, Lost: 51737, Conflicts resolved: 1956)\n",
      "[INFO][2022/08/08 06:23:46 PM] Tracking objects in frames 25 to 49 (of 75)...\n",
      "[INFO][2022/08/08 06:23:57 PM]  - Timing (Bayesian updates: 179.54ms, Linking: 5.52ms)\n",
      "[INFO][2022/08/08 06:23:57 PM]  - Probabilities (Link: 0.94544, Lost: 1.00000)\n",
      "[INFO][2022/08/08 06:23:57 PM]  - Stats (Active: 1721, Lost: 105261, Conflicts resolved: 3564)\n",
      "[INFO][2022/08/08 06:23:57 PM] Tracking objects in frames 50 to 74 (of 75)...\n",
      "[INFO][2022/08/08 06:23:58 PM]  - Timing (Bayesian updates: 12.30ms, Linking: 1.07ms)\n",
      "[INFO][2022/08/08 06:23:58 PM]  - Probabilities (Link: 0.92668, Lost: 1.00000)\n",
      "[INFO][2022/08/08 06:23:58 PM] SUCCESS.\n",
      "[INFO][2022/08/08 06:23:58 PM]  - Found 17653 tracks in 75 frames (in 0.0s)\n",
      "[INFO][2022/08/08 06:23:59 PM]  - Inserted 23139 dummy objects to fill tracking gaps\n",
      "[INFO][2022/08/08 06:23:59 PM] Ending BayesianTracker session\n",
      "[INFO][2022/08/08 06:23:59 PM] Loaded btrack: /home/dayn/miniconda3/envs/aero/lib/python3.9/site-packages/btrack/libs/libtracker.so\n",
      "[INFO][2022/08/08 06:23:59 PM] btrack (v0.4.5) library imported\n",
      "[INFO][2022/08/08 06:23:59 PM] Starting BayesianTracker session\n",
      "[INFO][2022/08/08 06:23:59 PM] Loading configuration file: /home/dayn/analysis/BayesianTracker/models/param_test_config_hypo.json\n",
      "[INFO][2022/08/08 06:23:59 PM] Setting max_search_radius -> 500\n",
      "[INFO][2022/08/08 06:23:59 PM] Setting features -> ['area', 'major_axis_length', 'minor_axis_length', 'orientation', 'solidity', 'mean_intensity']\n",
      "[INFO][2022/08/08 06:23:59 PM] Objects are of type: <class 'list'>\n"
     ]
    },
    {
     "name": "stdout",
     "output_type": "stream",
     "text": [
      "(5, 3, 300, 100, 40) 3.2823316150229425\n"
     ]
    },
    {
     "name": "stderr",
     "output_type": "stream",
     "text": [
      "[INFO][2022/08/08 06:23:59 PM] Setting volume -> ((0, 6048), (0, 6048), (-100000.0, 100000.0))\n",
      "[INFO][2022/08/08 06:23:59 PM] Starting tracking... \n",
      "[INFO][2022/08/08 06:24:00 PM] Tracking objects in frames 0 to 24 (of 75)...\n",
      "[INFO][2022/08/08 06:24:13 PM]  - Timing (Bayesian updates: 518.72ms, Linking: 11.64ms)\n",
      "[INFO][2022/08/08 06:24:13 PM]  - Probabilities (Link: 0.97446, Lost: 1.00000)\n",
      "[INFO][2022/08/08 06:24:13 PM]  - Stats (Active: 2550, Lost: 51737, Conflicts resolved: 1956)\n",
      "[INFO][2022/08/08 06:24:13 PM] Tracking objects in frames 25 to 49 (of 75)...\n",
      "[INFO][2022/08/08 06:24:24 PM]  - Timing (Bayesian updates: 178.25ms, Linking: 5.39ms)\n",
      "[INFO][2022/08/08 06:24:24 PM]  - Probabilities (Link: 0.94544, Lost: 1.00000)\n",
      "[INFO][2022/08/08 06:24:24 PM]  - Stats (Active: 1721, Lost: 105261, Conflicts resolved: 3564)\n",
      "[INFO][2022/08/08 06:24:24 PM] Tracking objects in frames 50 to 74 (of 75)...\n",
      "[INFO][2022/08/08 06:24:25 PM]  - Timing (Bayesian updates: 11.85ms, Linking: 1.11ms)\n",
      "[INFO][2022/08/08 06:24:25 PM]  - Probabilities (Link: 0.92668, Lost: 1.00000)\n",
      "[INFO][2022/08/08 06:24:25 PM] SUCCESS.\n",
      "[INFO][2022/08/08 06:24:25 PM]  - Found 17653 tracks in 75 frames (in 0.0s)\n",
      "[INFO][2022/08/08 06:24:25 PM]  - Inserted 23139 dummy objects to fill tracking gaps\n",
      "[INFO][2022/08/08 06:24:26 PM] Ending BayesianTracker session\n",
      "[INFO][2022/08/08 06:24:26 PM] Loaded btrack: /home/dayn/miniconda3/envs/aero/lib/python3.9/site-packages/btrack/libs/libtracker.so\n",
      "[INFO][2022/08/08 06:24:26 PM] btrack (v0.4.5) library imported\n",
      "[INFO][2022/08/08 06:24:26 PM] Starting BayesianTracker session\n",
      "[INFO][2022/08/08 06:24:26 PM] Loading configuration file: /home/dayn/analysis/BayesianTracker/models/param_test_config_hypo.json\n",
      "[INFO][2022/08/08 06:24:26 PM] Setting max_search_radius -> 500\n",
      "[INFO][2022/08/08 06:24:26 PM] Setting features -> ['area', 'major_axis_length', 'minor_axis_length', 'orientation', 'solidity', 'mean_intensity']\n",
      "[INFO][2022/08/08 06:24:26 PM] Objects are of type: <class 'list'>\n"
     ]
    },
    {
     "name": "stdout",
     "output_type": "stream",
     "text": [
      "(5, 3, 300, 100, 80) 3.2823316150229425\n"
     ]
    },
    {
     "name": "stderr",
     "output_type": "stream",
     "text": [
      "[INFO][2022/08/08 06:24:26 PM] Setting volume -> ((0, 6048), (0, 6048), (-100000.0, 100000.0))\n",
      "[INFO][2022/08/08 06:24:26 PM] Starting tracking... \n",
      "[INFO][2022/08/08 06:24:26 PM] Tracking objects in frames 0 to 24 (of 75)...\n",
      "[INFO][2022/08/08 06:24:39 PM]  - Timing (Bayesian updates: 519.27ms, Linking: 12.13ms)\n",
      "[INFO][2022/08/08 06:24:39 PM]  - Probabilities (Link: 0.97446, Lost: 1.00000)\n",
      "[INFO][2022/08/08 06:24:39 PM]  - Stats (Active: 2550, Lost: 51737, Conflicts resolved: 1956)\n",
      "[INFO][2022/08/08 06:24:39 PM] Tracking objects in frames 25 to 49 (of 75)...\n",
      "[INFO][2022/08/08 06:24:50 PM]  - Timing (Bayesian updates: 179.54ms, Linking: 5.51ms)\n",
      "[INFO][2022/08/08 06:24:50 PM]  - Probabilities (Link: 0.94544, Lost: 1.00000)\n",
      "[INFO][2022/08/08 06:24:50 PM]  - Stats (Active: 1721, Lost: 105261, Conflicts resolved: 3564)\n",
      "[INFO][2022/08/08 06:24:50 PM] Tracking objects in frames 50 to 74 (of 75)...\n",
      "[INFO][2022/08/08 06:24:52 PM]  - Timing (Bayesian updates: 12.01ms, Linking: 1.07ms)\n",
      "[INFO][2022/08/08 06:24:52 PM]  - Probabilities (Link: 0.92668, Lost: 1.00000)\n",
      "[INFO][2022/08/08 06:24:52 PM] SUCCESS.\n",
      "[INFO][2022/08/08 06:24:52 PM]  - Found 17653 tracks in 75 frames (in 0.0s)\n",
      "[INFO][2022/08/08 06:24:52 PM]  - Inserted 23139 dummy objects to fill tracking gaps\n",
      "[INFO][2022/08/08 06:24:52 PM] Ending BayesianTracker session\n",
      "[INFO][2022/08/08 06:24:52 PM] Loaded btrack: /home/dayn/miniconda3/envs/aero/lib/python3.9/site-packages/btrack/libs/libtracker.so\n",
      "[INFO][2022/08/08 06:24:52 PM] btrack (v0.4.5) library imported\n",
      "[INFO][2022/08/08 06:24:52 PM] Starting BayesianTracker session\n",
      "[INFO][2022/08/08 06:24:52 PM] Loading configuration file: /home/dayn/analysis/BayesianTracker/models/param_test_config_hypo.json\n",
      "[INFO][2022/08/08 06:24:52 PM] Setting max_search_radius -> 500\n",
      "[INFO][2022/08/08 06:24:52 PM] Setting features -> ['area', 'major_axis_length', 'minor_axis_length', 'orientation', 'solidity', 'mean_intensity']\n",
      "[INFO][2022/08/08 06:24:52 PM] Objects are of type: <class 'list'>\n"
     ]
    },
    {
     "name": "stdout",
     "output_type": "stream",
     "text": [
      "(5, 3, 300, 100, 160) 3.2823316150229425\n"
     ]
    },
    {
     "name": "stderr",
     "output_type": "stream",
     "text": [
      "[INFO][2022/08/08 06:24:52 PM] Setting volume -> ((0, 6048), (0, 6048), (-100000.0, 100000.0))\n",
      "[INFO][2022/08/08 06:24:52 PM] Starting tracking... \n",
      "[INFO][2022/08/08 06:24:53 PM] Tracking objects in frames 0 to 24 (of 75)...\n",
      "[INFO][2022/08/08 06:25:06 PM]  - Timing (Bayesian updates: 517.07ms, Linking: 11.75ms)\n",
      "[INFO][2022/08/08 06:25:06 PM]  - Probabilities (Link: 0.97446, Lost: 1.00000)\n",
      "[INFO][2022/08/08 06:25:06 PM]  - Stats (Active: 2550, Lost: 51737, Conflicts resolved: 1956)\n",
      "[INFO][2022/08/08 06:25:06 PM] Tracking objects in frames 25 to 49 (of 75)...\n",
      "[INFO][2022/08/08 06:25:17 PM]  - Timing (Bayesian updates: 179.14ms, Linking: 5.46ms)\n",
      "[INFO][2022/08/08 06:25:17 PM]  - Probabilities (Link: 0.94544, Lost: 1.00000)\n",
      "[INFO][2022/08/08 06:25:17 PM]  - Stats (Active: 1721, Lost: 105261, Conflicts resolved: 3564)\n",
      "[INFO][2022/08/08 06:25:17 PM] Tracking objects in frames 50 to 74 (of 75)...\n",
      "[INFO][2022/08/08 06:25:18 PM]  - Timing (Bayesian updates: 11.94ms, Linking: 1.07ms)\n",
      "[INFO][2022/08/08 06:25:18 PM]  - Probabilities (Link: 0.92668, Lost: 1.00000)\n",
      "[INFO][2022/08/08 06:25:18 PM] SUCCESS.\n",
      "[INFO][2022/08/08 06:25:18 PM]  - Found 17653 tracks in 75 frames (in 0.0s)\n",
      "[INFO][2022/08/08 06:25:18 PM]  - Inserted 23139 dummy objects to fill tracking gaps\n",
      "[INFO][2022/08/08 06:25:19 PM] Ending BayesianTracker session\n",
      "[INFO][2022/08/08 06:25:19 PM] Loaded btrack: /home/dayn/miniconda3/envs/aero/lib/python3.9/site-packages/btrack/libs/libtracker.so\n",
      "[INFO][2022/08/08 06:25:19 PM] btrack (v0.4.5) library imported\n",
      "[INFO][2022/08/08 06:25:19 PM] Starting BayesianTracker session\n",
      "[INFO][2022/08/08 06:25:19 PM] Loading configuration file: /home/dayn/analysis/BayesianTracker/models/param_test_config_hypo.json\n",
      "[INFO][2022/08/08 06:25:19 PM] Setting max_search_radius -> 500\n",
      "[INFO][2022/08/08 06:25:19 PM] Setting features -> ['area', 'major_axis_length', 'minor_axis_length', 'orientation', 'solidity', 'mean_intensity']\n",
      "[INFO][2022/08/08 06:25:19 PM] Objects are of type: <class 'list'>\n"
     ]
    },
    {
     "name": "stdout",
     "output_type": "stream",
     "text": [
      "(5, 10, 50, 5, 40) 3.2823316150229425\n"
     ]
    },
    {
     "name": "stderr",
     "output_type": "stream",
     "text": [
      "[INFO][2022/08/08 06:25:19 PM] Setting volume -> ((0, 6048), (0, 6048), (-100000.0, 100000.0))\n",
      "[INFO][2022/08/08 06:25:19 PM] Starting tracking... \n",
      "[INFO][2022/08/08 06:25:19 PM] Tracking objects in frames 0 to 24 (of 75)...\n",
      "[INFO][2022/08/08 06:25:32 PM]  - Timing (Bayesian updates: 516.82ms, Linking: 12.05ms)\n",
      "[INFO][2022/08/08 06:25:32 PM]  - Probabilities (Link: 0.97446, Lost: 1.00000)\n",
      "[INFO][2022/08/08 06:25:32 PM]  - Stats (Active: 2550, Lost: 51737, Conflicts resolved: 1956)\n",
      "[INFO][2022/08/08 06:25:32 PM] Tracking objects in frames 25 to 49 (of 75)...\n",
      "[INFO][2022/08/08 06:25:43 PM]  - Timing (Bayesian updates: 179.21ms, Linking: 6.21ms)\n",
      "[INFO][2022/08/08 06:25:43 PM]  - Probabilities (Link: 0.94544, Lost: 1.00000)\n",
      "[INFO][2022/08/08 06:25:43 PM]  - Stats (Active: 1721, Lost: 105261, Conflicts resolved: 3564)\n",
      "[INFO][2022/08/08 06:25:43 PM] Tracking objects in frames 50 to 74 (of 75)...\n",
      "[INFO][2022/08/08 06:25:45 PM]  - Timing (Bayesian updates: 11.74ms, Linking: 1.03ms)\n",
      "[INFO][2022/08/08 06:25:45 PM]  - Probabilities (Link: 0.92668, Lost: 1.00000)\n",
      "[INFO][2022/08/08 06:25:45 PM] SUCCESS.\n",
      "[INFO][2022/08/08 06:25:45 PM]  - Found 17653 tracks in 75 frames (in 0.0s)\n",
      "[INFO][2022/08/08 06:25:45 PM]  - Inserted 23139 dummy objects to fill tracking gaps\n",
      "[INFO][2022/08/08 06:25:45 PM] Ending BayesianTracker session\n",
      "[INFO][2022/08/08 06:25:45 PM] Loaded btrack: /home/dayn/miniconda3/envs/aero/lib/python3.9/site-packages/btrack/libs/libtracker.so\n",
      "[INFO][2022/08/08 06:25:45 PM] btrack (v0.4.5) library imported\n",
      "[INFO][2022/08/08 06:25:45 PM] Starting BayesianTracker session\n",
      "[INFO][2022/08/08 06:25:45 PM] Loading configuration file: /home/dayn/analysis/BayesianTracker/models/param_test_config_hypo.json\n",
      "[INFO][2022/08/08 06:25:45 PM] Setting max_search_radius -> 500\n",
      "[INFO][2022/08/08 06:25:45 PM] Setting features -> ['area', 'major_axis_length', 'minor_axis_length', 'orientation', 'solidity', 'mean_intensity']\n",
      "[INFO][2022/08/08 06:25:45 PM] Objects are of type: <class 'list'>\n"
     ]
    },
    {
     "name": "stdout",
     "output_type": "stream",
     "text": [
      "(5, 10, 50, 5, 80) 3.2823316150229425\n"
     ]
    },
    {
     "name": "stderr",
     "output_type": "stream",
     "text": [
      "[INFO][2022/08/08 06:25:46 PM] Setting volume -> ((0, 6048), (0, 6048), (-100000.0, 100000.0))\n",
      "[INFO][2022/08/08 06:25:46 PM] Starting tracking... \n",
      "[INFO][2022/08/08 06:25:46 PM] Tracking objects in frames 0 to 24 (of 75)...\n",
      "[INFO][2022/08/08 06:25:59 PM]  - Timing (Bayesian updates: 516.73ms, Linking: 11.86ms)\n",
      "[INFO][2022/08/08 06:25:59 PM]  - Probabilities (Link: 0.97446, Lost: 1.00000)\n",
      "[INFO][2022/08/08 06:25:59 PM]  - Stats (Active: 2550, Lost: 51737, Conflicts resolved: 1956)\n",
      "[INFO][2022/08/08 06:25:59 PM] Tracking objects in frames 25 to 49 (of 75)...\n",
      "[INFO][2022/08/08 06:26:10 PM]  - Timing (Bayesian updates: 178.80ms, Linking: 6.61ms)\n",
      "[INFO][2022/08/08 06:26:10 PM]  - Probabilities (Link: 0.94544, Lost: 1.00000)\n",
      "[INFO][2022/08/08 06:26:10 PM]  - Stats (Active: 1721, Lost: 105261, Conflicts resolved: 3564)\n",
      "[INFO][2022/08/08 06:26:10 PM] Tracking objects in frames 50 to 74 (of 75)...\n",
      "[INFO][2022/08/08 06:26:11 PM]  - Timing (Bayesian updates: 12.00ms, Linking: 1.09ms)\n",
      "[INFO][2022/08/08 06:26:11 PM]  - Probabilities (Link: 0.92668, Lost: 1.00000)\n",
      "[INFO][2022/08/08 06:26:11 PM] SUCCESS.\n",
      "[INFO][2022/08/08 06:26:11 PM]  - Found 17653 tracks in 75 frames (in 0.0s)\n",
      "[INFO][2022/08/08 06:26:11 PM]  - Inserted 23139 dummy objects to fill tracking gaps\n",
      "[INFO][2022/08/08 06:26:12 PM] Ending BayesianTracker session\n",
      "[INFO][2022/08/08 06:26:12 PM] Loaded btrack: /home/dayn/miniconda3/envs/aero/lib/python3.9/site-packages/btrack/libs/libtracker.so\n",
      "[INFO][2022/08/08 06:26:12 PM] btrack (v0.4.5) library imported\n",
      "[INFO][2022/08/08 06:26:12 PM] Starting BayesianTracker session\n",
      "[INFO][2022/08/08 06:26:12 PM] Loading configuration file: /home/dayn/analysis/BayesianTracker/models/param_test_config_hypo.json\n",
      "[INFO][2022/08/08 06:26:12 PM] Setting max_search_radius -> 500\n",
      "[INFO][2022/08/08 06:26:12 PM] Setting features -> ['area', 'major_axis_length', 'minor_axis_length', 'orientation', 'solidity', 'mean_intensity']\n",
      "[INFO][2022/08/08 06:26:12 PM] Objects are of type: <class 'list'>\n",
      "[INFO][2022/08/08 06:26:12 PM] Setting volume -> ((0, 6048), (0, 6048), (-100000.0, 100000.0))\n"
     ]
    },
    {
     "name": "stdout",
     "output_type": "stream",
     "text": [
      "(5, 10, 50, 5, 160) 3.2823316150229425\n"
     ]
    },
    {
     "name": "stderr",
     "output_type": "stream",
     "text": [
      "[INFO][2022/08/08 06:26:12 PM] Starting tracking... \n",
      "[INFO][2022/08/08 06:26:12 PM] Tracking objects in frames 0 to 24 (of 75)...\n",
      "[INFO][2022/08/08 06:26:25 PM]  - Timing (Bayesian updates: 517.21ms, Linking: 11.81ms)\n",
      "[INFO][2022/08/08 06:26:25 PM]  - Probabilities (Link: 0.97446, Lost: 1.00000)\n",
      "[INFO][2022/08/08 06:26:25 PM]  - Stats (Active: 2550, Lost: 51737, Conflicts resolved: 1956)\n",
      "[INFO][2022/08/08 06:26:25 PM] Tracking objects in frames 25 to 49 (of 75)...\n",
      "[INFO][2022/08/08 06:26:36 PM]  - Timing (Bayesian updates: 179.16ms, Linking: 5.49ms)\n",
      "[INFO][2022/08/08 06:26:36 PM]  - Probabilities (Link: 0.94544, Lost: 1.00000)\n",
      "[INFO][2022/08/08 06:26:36 PM]  - Stats (Active: 1721, Lost: 105261, Conflicts resolved: 3564)\n",
      "[INFO][2022/08/08 06:26:36 PM] Tracking objects in frames 50 to 74 (of 75)...\n",
      "[INFO][2022/08/08 06:26:37 PM]  - Timing (Bayesian updates: 11.81ms, Linking: 1.05ms)\n",
      "[INFO][2022/08/08 06:26:37 PM]  - Probabilities (Link: 0.92668, Lost: 1.00000)\n",
      "[INFO][2022/08/08 06:26:37 PM] SUCCESS.\n",
      "[INFO][2022/08/08 06:26:37 PM]  - Found 17653 tracks in 75 frames (in 0.0s)\n",
      "[INFO][2022/08/08 06:26:38 PM]  - Inserted 23139 dummy objects to fill tracking gaps\n",
      "[INFO][2022/08/08 06:26:38 PM] Ending BayesianTracker session\n",
      "[INFO][2022/08/08 06:26:38 PM] Loaded btrack: /home/dayn/miniconda3/envs/aero/lib/python3.9/site-packages/btrack/libs/libtracker.so\n",
      "[INFO][2022/08/08 06:26:38 PM] btrack (v0.4.5) library imported\n",
      "[INFO][2022/08/08 06:26:38 PM] Starting BayesianTracker session\n",
      "[INFO][2022/08/08 06:26:38 PM] Loading configuration file: /home/dayn/analysis/BayesianTracker/models/param_test_config_hypo.json\n",
      "[INFO][2022/08/08 06:26:38 PM] Setting max_search_radius -> 500\n",
      "[INFO][2022/08/08 06:26:38 PM] Setting features -> ['area', 'major_axis_length', 'minor_axis_length', 'orientation', 'solidity', 'mean_intensity']\n",
      "[INFO][2022/08/08 06:26:38 PM] Objects are of type: <class 'list'>\n"
     ]
    },
    {
     "name": "stdout",
     "output_type": "stream",
     "text": [
      "(5, 10, 50, 20, 40) 3.2823316150229425\n"
     ]
    },
    {
     "name": "stderr",
     "output_type": "stream",
     "text": [
      "[INFO][2022/08/08 06:26:38 PM] Setting volume -> ((0, 6048), (0, 6048), (-100000.0, 100000.0))\n",
      "[INFO][2022/08/08 06:26:38 PM] Starting tracking... \n",
      "[INFO][2022/08/08 06:26:39 PM] Tracking objects in frames 0 to 24 (of 75)...\n",
      "[INFO][2022/08/08 06:26:52 PM]  - Timing (Bayesian updates: 517.58ms, Linking: 11.58ms)\n",
      "[INFO][2022/08/08 06:26:52 PM]  - Probabilities (Link: 0.97446, Lost: 1.00000)\n",
      "[INFO][2022/08/08 06:26:52 PM]  - Stats (Active: 2550, Lost: 51737, Conflicts resolved: 1956)\n",
      "[INFO][2022/08/08 06:26:52 PM] Tracking objects in frames 25 to 49 (of 75)...\n",
      "[INFO][2022/08/08 06:27:03 PM]  - Timing (Bayesian updates: 178.64ms, Linking: 5.41ms)\n",
      "[INFO][2022/08/08 06:27:03 PM]  - Probabilities (Link: 0.94544, Lost: 1.00000)\n",
      "[INFO][2022/08/08 06:27:03 PM]  - Stats (Active: 1721, Lost: 105261, Conflicts resolved: 3564)\n",
      "[INFO][2022/08/08 06:27:03 PM] Tracking objects in frames 50 to 74 (of 75)...\n",
      "[INFO][2022/08/08 06:27:04 PM]  - Timing (Bayesian updates: 11.90ms, Linking: 1.13ms)\n",
      "[INFO][2022/08/08 06:27:04 PM]  - Probabilities (Link: 0.92668, Lost: 1.00000)\n",
      "[INFO][2022/08/08 06:27:04 PM] SUCCESS.\n",
      "[INFO][2022/08/08 06:27:04 PM]  - Found 17653 tracks in 75 frames (in 0.0s)\n",
      "[INFO][2022/08/08 06:27:04 PM]  - Inserted 23139 dummy objects to fill tracking gaps\n",
      "[INFO][2022/08/08 06:27:05 PM] Ending BayesianTracker session\n",
      "[INFO][2022/08/08 06:27:05 PM] Loaded btrack: /home/dayn/miniconda3/envs/aero/lib/python3.9/site-packages/btrack/libs/libtracker.so\n",
      "[INFO][2022/08/08 06:27:05 PM] btrack (v0.4.5) library imported\n",
      "[INFO][2022/08/08 06:27:05 PM] Starting BayesianTracker session\n",
      "[INFO][2022/08/08 06:27:05 PM] Loading configuration file: /home/dayn/analysis/BayesianTracker/models/param_test_config_hypo.json\n",
      "[INFO][2022/08/08 06:27:05 PM] Setting max_search_radius -> 500\n",
      "[INFO][2022/08/08 06:27:05 PM] Setting features -> ['area', 'major_axis_length', 'minor_axis_length', 'orientation', 'solidity', 'mean_intensity']\n",
      "[INFO][2022/08/08 06:27:05 PM] Objects are of type: <class 'list'>\n"
     ]
    },
    {
     "name": "stdout",
     "output_type": "stream",
     "text": [
      "(5, 10, 50, 20, 80) 3.2823316150229425\n"
     ]
    },
    {
     "name": "stderr",
     "output_type": "stream",
     "text": [
      "[INFO][2022/08/08 06:27:05 PM] Setting volume -> ((0, 6048), (0, 6048), (-100000.0, 100000.0))\n",
      "[INFO][2022/08/08 06:27:05 PM] Starting tracking... \n",
      "[INFO][2022/08/08 06:27:05 PM] Tracking objects in frames 0 to 24 (of 75)...\n",
      "[INFO][2022/08/08 06:27:18 PM]  - Timing (Bayesian updates: 516.12ms, Linking: 11.71ms)\n",
      "[INFO][2022/08/08 06:27:18 PM]  - Probabilities (Link: 0.97446, Lost: 1.00000)\n",
      "[INFO][2022/08/08 06:27:18 PM]  - Stats (Active: 2550, Lost: 51737, Conflicts resolved: 1956)\n",
      "[INFO][2022/08/08 06:27:18 PM] Tracking objects in frames 25 to 49 (of 75)...\n",
      "[INFO][2022/08/08 06:27:29 PM]  - Timing (Bayesian updates: 179.15ms, Linking: 5.77ms)\n",
      "[INFO][2022/08/08 06:27:29 PM]  - Probabilities (Link: 0.94544, Lost: 1.00000)\n",
      "[INFO][2022/08/08 06:27:29 PM]  - Stats (Active: 1721, Lost: 105261, Conflicts resolved: 3564)\n",
      "[INFO][2022/08/08 06:27:29 PM] Tracking objects in frames 50 to 74 (of 75)...\n",
      "[INFO][2022/08/08 06:27:30 PM]  - Timing (Bayesian updates: 11.73ms, Linking: 1.03ms)\n",
      "[INFO][2022/08/08 06:27:30 PM]  - Probabilities (Link: 0.92668, Lost: 1.00000)\n",
      "[INFO][2022/08/08 06:27:30 PM] SUCCESS.\n",
      "[INFO][2022/08/08 06:27:30 PM]  - Found 17653 tracks in 75 frames (in 0.0s)\n",
      "[INFO][2022/08/08 06:27:31 PM]  - Inserted 23139 dummy objects to fill tracking gaps\n",
      "[INFO][2022/08/08 06:27:31 PM] Ending BayesianTracker session\n",
      "[INFO][2022/08/08 06:27:31 PM] Loaded btrack: /home/dayn/miniconda3/envs/aero/lib/python3.9/site-packages/btrack/libs/libtracker.so\n",
      "[INFO][2022/08/08 06:27:31 PM] btrack (v0.4.5) library imported\n",
      "[INFO][2022/08/08 06:27:31 PM] Starting BayesianTracker session\n",
      "[INFO][2022/08/08 06:27:31 PM] Loading configuration file: /home/dayn/analysis/BayesianTracker/models/param_test_config_hypo.json\n",
      "[INFO][2022/08/08 06:27:31 PM] Setting max_search_radius -> 500\n",
      "[INFO][2022/08/08 06:27:31 PM] Setting features -> ['area', 'major_axis_length', 'minor_axis_length', 'orientation', 'solidity', 'mean_intensity']\n",
      "[INFO][2022/08/08 06:27:31 PM] Objects are of type: <class 'list'>\n"
     ]
    },
    {
     "name": "stdout",
     "output_type": "stream",
     "text": [
      "(5, 10, 50, 20, 160) 3.2823316150229425\n"
     ]
    },
    {
     "name": "stderr",
     "output_type": "stream",
     "text": [
      "[INFO][2022/08/08 06:27:31 PM] Setting volume -> ((0, 6048), (0, 6048), (-100000.0, 100000.0))\n",
      "[INFO][2022/08/08 06:27:31 PM] Starting tracking... \n",
      "[INFO][2022/08/08 06:27:31 PM] Tracking objects in frames 0 to 24 (of 75)...\n",
      "[INFO][2022/08/08 06:27:45 PM]  - Timing (Bayesian updates: 517.48ms, Linking: 11.98ms)\n",
      "[INFO][2022/08/08 06:27:45 PM]  - Probabilities (Link: 0.97446, Lost: 1.00000)\n",
      "[INFO][2022/08/08 06:27:45 PM]  - Stats (Active: 2550, Lost: 51737, Conflicts resolved: 1956)\n",
      "[INFO][2022/08/08 06:27:45 PM] Tracking objects in frames 25 to 49 (of 75)...\n",
      "[INFO][2022/08/08 06:27:56 PM]  - Timing (Bayesian updates: 178.70ms, Linking: 5.68ms)\n",
      "[INFO][2022/08/08 06:27:56 PM]  - Probabilities (Link: 0.94544, Lost: 1.00000)\n",
      "[INFO][2022/08/08 06:27:56 PM]  - Stats (Active: 1721, Lost: 105261, Conflicts resolved: 3564)\n",
      "[INFO][2022/08/08 06:27:56 PM] Tracking objects in frames 50 to 74 (of 75)...\n",
      "[INFO][2022/08/08 06:27:57 PM]  - Timing (Bayesian updates: 11.67ms, Linking: 1.04ms)\n",
      "[INFO][2022/08/08 06:27:57 PM]  - Probabilities (Link: 0.92668, Lost: 1.00000)\n",
      "[INFO][2022/08/08 06:27:57 PM] SUCCESS.\n",
      "[INFO][2022/08/08 06:27:57 PM]  - Found 17653 tracks in 75 frames (in 0.0s)\n",
      "[INFO][2022/08/08 06:27:58 PM]  - Inserted 23139 dummy objects to fill tracking gaps\n",
      "[INFO][2022/08/08 06:27:58 PM] Ending BayesianTracker session\n",
      "[INFO][2022/08/08 06:27:58 PM] Loaded btrack: /home/dayn/miniconda3/envs/aero/lib/python3.9/site-packages/btrack/libs/libtracker.so\n",
      "[INFO][2022/08/08 06:27:58 PM] btrack (v0.4.5) library imported\n",
      "[INFO][2022/08/08 06:27:58 PM] Starting BayesianTracker session\n",
      "[INFO][2022/08/08 06:27:58 PM] Loading configuration file: /home/dayn/analysis/BayesianTracker/models/param_test_config_hypo.json\n",
      "[INFO][2022/08/08 06:27:58 PM] Setting max_search_radius -> 500\n",
      "[INFO][2022/08/08 06:27:58 PM] Setting features -> ['area', 'major_axis_length', 'minor_axis_length', 'orientation', 'solidity', 'mean_intensity']\n",
      "[INFO][2022/08/08 06:27:58 PM] Objects are of type: <class 'list'>\n",
      "[INFO][2022/08/08 06:27:58 PM] Setting volume -> ((0, 6048), (0, 6048), (-100000.0, 100000.0))\n",
      "[INFO][2022/08/08 06:27:58 PM] Starting tracking... \n"
     ]
    },
    {
     "name": "stdout",
     "output_type": "stream",
     "text": [
      "(5, 10, 50, 100, 40) 3.2823316150229425\n"
     ]
    },
    {
     "name": "stderr",
     "output_type": "stream",
     "text": [
      "[INFO][2022/08/08 06:27:58 PM] Tracking objects in frames 0 to 24 (of 75)...\n",
      "[INFO][2022/08/08 06:28:11 PM]  - Timing (Bayesian updates: 516.68ms, Linking: 11.72ms)\n",
      "[INFO][2022/08/08 06:28:11 PM]  - Probabilities (Link: 0.97446, Lost: 1.00000)\n",
      "[INFO][2022/08/08 06:28:11 PM]  - Stats (Active: 2550, Lost: 51737, Conflicts resolved: 1956)\n",
      "[INFO][2022/08/08 06:28:11 PM] Tracking objects in frames 25 to 49 (of 75)...\n",
      "[INFO][2022/08/08 06:28:22 PM]  - Timing (Bayesian updates: 179.93ms, Linking: 5.64ms)\n",
      "[INFO][2022/08/08 06:28:22 PM]  - Probabilities (Link: 0.94544, Lost: 1.00000)\n",
      "[INFO][2022/08/08 06:28:22 PM]  - Stats (Active: 1721, Lost: 105261, Conflicts resolved: 3564)\n",
      "[INFO][2022/08/08 06:28:22 PM] Tracking objects in frames 50 to 74 (of 75)...\n",
      "[INFO][2022/08/08 06:28:23 PM]  - Timing (Bayesian updates: 11.91ms, Linking: 1.05ms)\n",
      "[INFO][2022/08/08 06:28:24 PM]  - Probabilities (Link: 0.92668, Lost: 1.00000)\n",
      "[INFO][2022/08/08 06:28:24 PM] SUCCESS.\n",
      "[INFO][2022/08/08 06:28:24 PM]  - Found 17653 tracks in 75 frames (in 0.0s)\n",
      "[INFO][2022/08/08 06:28:24 PM]  - Inserted 23139 dummy objects to fill tracking gaps\n",
      "[INFO][2022/08/08 06:28:24 PM] Ending BayesianTracker session\n",
      "[INFO][2022/08/08 06:28:24 PM] Loaded btrack: /home/dayn/miniconda3/envs/aero/lib/python3.9/site-packages/btrack/libs/libtracker.so\n",
      "[INFO][2022/08/08 06:28:24 PM] btrack (v0.4.5) library imported\n",
      "[INFO][2022/08/08 06:28:24 PM] Starting BayesianTracker session\n",
      "[INFO][2022/08/08 06:28:24 PM] Loading configuration file: /home/dayn/analysis/BayesianTracker/models/param_test_config_hypo.json\n",
      "[INFO][2022/08/08 06:28:24 PM] Setting max_search_radius -> 500\n",
      "[INFO][2022/08/08 06:28:24 PM] Setting features -> ['area', 'major_axis_length', 'minor_axis_length', 'orientation', 'solidity', 'mean_intensity']\n",
      "[INFO][2022/08/08 06:28:24 PM] Objects are of type: <class 'list'>\n",
      "[INFO][2022/08/08 06:28:24 PM] Setting volume -> ((0, 6048), (0, 6048), (-100000.0, 100000.0))\n",
      "[INFO][2022/08/08 06:28:24 PM] Starting tracking... \n"
     ]
    },
    {
     "name": "stdout",
     "output_type": "stream",
     "text": [
      "(5, 10, 50, 100, 80) 3.2823316150229425\n"
     ]
    },
    {
     "name": "stderr",
     "output_type": "stream",
     "text": [
      "[INFO][2022/08/08 06:28:25 PM] Tracking objects in frames 0 to 24 (of 75)...\n",
      "[INFO][2022/08/08 06:28:38 PM]  - Timing (Bayesian updates: 515.68ms, Linking: 11.12ms)\n",
      "[INFO][2022/08/08 06:28:38 PM]  - Probabilities (Link: 0.97446, Lost: 1.00000)\n",
      "[INFO][2022/08/08 06:28:38 PM]  - Stats (Active: 2550, Lost: 51737, Conflicts resolved: 1956)\n",
      "[INFO][2022/08/08 06:28:38 PM] Tracking objects in frames 25 to 49 (of 75)...\n",
      "[INFO][2022/08/08 06:28:49 PM]  - Timing (Bayesian updates: 179.23ms, Linking: 5.46ms)\n",
      "[INFO][2022/08/08 06:28:49 PM]  - Probabilities (Link: 0.94544, Lost: 1.00000)\n",
      "[INFO][2022/08/08 06:28:49 PM]  - Stats (Active: 1721, Lost: 105261, Conflicts resolved: 3564)\n",
      "[INFO][2022/08/08 06:28:49 PM] Tracking objects in frames 50 to 74 (of 75)...\n",
      "[INFO][2022/08/08 06:28:50 PM]  - Timing (Bayesian updates: 12.04ms, Linking: 1.08ms)\n",
      "[INFO][2022/08/08 06:28:50 PM]  - Probabilities (Link: 0.92668, Lost: 1.00000)\n",
      "[INFO][2022/08/08 06:28:50 PM] SUCCESS.\n",
      "[INFO][2022/08/08 06:28:50 PM]  - Found 17653 tracks in 75 frames (in 0.0s)\n",
      "[INFO][2022/08/08 06:28:50 PM]  - Inserted 23139 dummy objects to fill tracking gaps\n",
      "[INFO][2022/08/08 06:28:51 PM] Ending BayesianTracker session\n",
      "[INFO][2022/08/08 06:28:51 PM] Loaded btrack: /home/dayn/miniconda3/envs/aero/lib/python3.9/site-packages/btrack/libs/libtracker.so\n",
      "[INFO][2022/08/08 06:28:51 PM] btrack (v0.4.5) library imported\n",
      "[INFO][2022/08/08 06:28:51 PM] Starting BayesianTracker session\n",
      "[INFO][2022/08/08 06:28:51 PM] Loading configuration file: /home/dayn/analysis/BayesianTracker/models/param_test_config_hypo.json\n",
      "[INFO][2022/08/08 06:28:51 PM] Setting max_search_radius -> 500\n",
      "[INFO][2022/08/08 06:28:51 PM] Setting features -> ['area', 'major_axis_length', 'minor_axis_length', 'orientation', 'solidity', 'mean_intensity']\n",
      "[INFO][2022/08/08 06:28:51 PM] Objects are of type: <class 'list'>\n"
     ]
    },
    {
     "name": "stdout",
     "output_type": "stream",
     "text": [
      "(5, 10, 50, 100, 160) 3.2823316150229425\n"
     ]
    },
    {
     "name": "stderr",
     "output_type": "stream",
     "text": [
      "[INFO][2022/08/08 06:28:51 PM] Setting volume -> ((0, 6048), (0, 6048), (-100000.0, 100000.0))\n",
      "[INFO][2022/08/08 06:28:51 PM] Starting tracking... \n",
      "[INFO][2022/08/08 06:28:51 PM] Tracking objects in frames 0 to 24 (of 75)...\n",
      "[INFO][2022/08/08 06:29:04 PM]  - Timing (Bayesian updates: 514.62ms, Linking: 11.85ms)\n",
      "[INFO][2022/08/08 06:29:04 PM]  - Probabilities (Link: 0.97446, Lost: 1.00000)\n",
      "[INFO][2022/08/08 06:29:04 PM]  - Stats (Active: 2550, Lost: 51737, Conflicts resolved: 1956)\n",
      "[INFO][2022/08/08 06:29:04 PM] Tracking objects in frames 25 to 49 (of 75)...\n",
      "[INFO][2022/08/08 06:29:15 PM]  - Timing (Bayesian updates: 178.92ms, Linking: 5.26ms)\n",
      "[INFO][2022/08/08 06:29:15 PM]  - Probabilities (Link: 0.94544, Lost: 1.00000)\n",
      "[INFO][2022/08/08 06:29:15 PM]  - Stats (Active: 1721, Lost: 105261, Conflicts resolved: 3564)\n",
      "[INFO][2022/08/08 06:29:15 PM] Tracking objects in frames 50 to 74 (of 75)...\n",
      "[INFO][2022/08/08 06:29:16 PM]  - Timing (Bayesian updates: 11.77ms, Linking: 1.04ms)\n",
      "[INFO][2022/08/08 06:29:16 PM]  - Probabilities (Link: 0.92668, Lost: 1.00000)\n",
      "[INFO][2022/08/08 06:29:16 PM] SUCCESS.\n",
      "[INFO][2022/08/08 06:29:16 PM]  - Found 17653 tracks in 75 frames (in 0.0s)\n",
      "[INFO][2022/08/08 06:29:16 PM]  - Inserted 23139 dummy objects to fill tracking gaps\n",
      "[INFO][2022/08/08 06:29:17 PM] Ending BayesianTracker session\n",
      "[INFO][2022/08/08 06:29:17 PM] Loaded btrack: /home/dayn/miniconda3/envs/aero/lib/python3.9/site-packages/btrack/libs/libtracker.so\n",
      "[INFO][2022/08/08 06:29:17 PM] btrack (v0.4.5) library imported\n",
      "[INFO][2022/08/08 06:29:17 PM] Starting BayesianTracker session\n",
      "[INFO][2022/08/08 06:29:17 PM] Loading configuration file: /home/dayn/analysis/BayesianTracker/models/param_test_config_hypo.json\n",
      "[INFO][2022/08/08 06:29:17 PM] Setting max_search_radius -> 500\n",
      "[INFO][2022/08/08 06:29:17 PM] Setting features -> ['area', 'major_axis_length', 'minor_axis_length', 'orientation', 'solidity', 'mean_intensity']\n",
      "[INFO][2022/08/08 06:29:17 PM] Objects are of type: <class 'list'>\n",
      "[INFO][2022/08/08 06:29:17 PM] Setting volume -> ((0, 6048), (0, 6048), (-100000.0, 100000.0))\n",
      "[INFO][2022/08/08 06:29:17 PM] Starting tracking... \n"
     ]
    },
    {
     "name": "stdout",
     "output_type": "stream",
     "text": [
      "(5, 10, 100, 5, 40) 3.2823316150229425\n"
     ]
    },
    {
     "name": "stderr",
     "output_type": "stream",
     "text": [
      "[INFO][2022/08/08 06:29:17 PM] Tracking objects in frames 0 to 24 (of 75)...\n",
      "[INFO][2022/08/08 06:29:31 PM]  - Timing (Bayesian updates: 517.39ms, Linking: 11.75ms)\n",
      "[INFO][2022/08/08 06:29:31 PM]  - Probabilities (Link: 0.97446, Lost: 1.00000)\n",
      "[INFO][2022/08/08 06:29:31 PM]  - Stats (Active: 2550, Lost: 51737, Conflicts resolved: 1956)\n",
      "[INFO][2022/08/08 06:29:31 PM] Tracking objects in frames 25 to 49 (of 75)...\n",
      "[INFO][2022/08/08 06:29:42 PM]  - Timing (Bayesian updates: 178.91ms, Linking: 5.74ms)\n",
      "[INFO][2022/08/08 06:29:42 PM]  - Probabilities (Link: 0.94544, Lost: 1.00000)\n",
      "[INFO][2022/08/08 06:29:42 PM]  - Stats (Active: 1721, Lost: 105261, Conflicts resolved: 3564)\n",
      "[INFO][2022/08/08 06:29:42 PM] Tracking objects in frames 50 to 74 (of 75)...\n",
      "[INFO][2022/08/08 06:29:43 PM]  - Timing (Bayesian updates: 11.73ms, Linking: 1.04ms)\n",
      "[INFO][2022/08/08 06:29:43 PM]  - Probabilities (Link: 0.92668, Lost: 1.00000)\n",
      "[INFO][2022/08/08 06:29:43 PM] SUCCESS.\n",
      "[INFO][2022/08/08 06:29:43 PM]  - Found 17653 tracks in 75 frames (in 0.0s)\n",
      "[INFO][2022/08/08 06:29:43 PM]  - Inserted 23139 dummy objects to fill tracking gaps\n",
      "[INFO][2022/08/08 06:29:43 PM] Ending BayesianTracker session\n",
      "[INFO][2022/08/08 06:29:44 PM] Loaded btrack: /home/dayn/miniconda3/envs/aero/lib/python3.9/site-packages/btrack/libs/libtracker.so\n",
      "[INFO][2022/08/08 06:29:44 PM] btrack (v0.4.5) library imported\n",
      "[INFO][2022/08/08 06:29:44 PM] Starting BayesianTracker session\n",
      "[INFO][2022/08/08 06:29:44 PM] Loading configuration file: /home/dayn/analysis/BayesianTracker/models/param_test_config_hypo.json\n",
      "[INFO][2022/08/08 06:29:44 PM] Setting max_search_radius -> 500\n",
      "[INFO][2022/08/08 06:29:44 PM] Setting features -> ['area', 'major_axis_length', 'minor_axis_length', 'orientation', 'solidity', 'mean_intensity']\n",
      "[INFO][2022/08/08 06:29:44 PM] Objects are of type: <class 'list'>\n"
     ]
    },
    {
     "name": "stdout",
     "output_type": "stream",
     "text": [
      "(5, 10, 100, 5, 80) 3.2823316150229425\n"
     ]
    },
    {
     "name": "stderr",
     "output_type": "stream",
     "text": [
      "[INFO][2022/08/08 06:29:44 PM] Setting volume -> ((0, 6048), (0, 6048), (-100000.0, 100000.0))\n",
      "[INFO][2022/08/08 06:29:44 PM] Starting tracking... \n",
      "[INFO][2022/08/08 06:29:44 PM] Tracking objects in frames 0 to 24 (of 75)...\n",
      "[INFO][2022/08/08 06:29:57 PM]  - Timing (Bayesian updates: 517.36ms, Linking: 11.84ms)\n",
      "[INFO][2022/08/08 06:29:57 PM]  - Probabilities (Link: 0.97446, Lost: 1.00000)\n",
      "[INFO][2022/08/08 06:29:57 PM]  - Stats (Active: 2550, Lost: 51737, Conflicts resolved: 1956)\n",
      "[INFO][2022/08/08 06:29:57 PM] Tracking objects in frames 25 to 49 (of 75)...\n",
      "[INFO][2022/08/08 06:30:08 PM]  - Timing (Bayesian updates: 178.99ms, Linking: 5.51ms)\n",
      "[INFO][2022/08/08 06:30:08 PM]  - Probabilities (Link: 0.94544, Lost: 1.00000)\n",
      "[INFO][2022/08/08 06:30:08 PM]  - Stats (Active: 1721, Lost: 105261, Conflicts resolved: 3564)\n",
      "[INFO][2022/08/08 06:30:08 PM] Tracking objects in frames 50 to 74 (of 75)...\n",
      "[INFO][2022/08/08 06:30:09 PM]  - Timing (Bayesian updates: 12.16ms, Linking: 1.08ms)\n",
      "[INFO][2022/08/08 06:30:09 PM]  - Probabilities (Link: 0.92668, Lost: 1.00000)\n",
      "[INFO][2022/08/08 06:30:09 PM] SUCCESS.\n",
      "[INFO][2022/08/08 06:30:09 PM]  - Found 17653 tracks in 75 frames (in 0.0s)\n",
      "[INFO][2022/08/08 06:30:10 PM]  - Inserted 23139 dummy objects to fill tracking gaps\n",
      "[INFO][2022/08/08 06:30:10 PM] Ending BayesianTracker session\n",
      "[INFO][2022/08/08 06:30:10 PM] Loaded btrack: /home/dayn/miniconda3/envs/aero/lib/python3.9/site-packages/btrack/libs/libtracker.so\n",
      "[INFO][2022/08/08 06:30:10 PM] btrack (v0.4.5) library imported\n",
      "[INFO][2022/08/08 06:30:10 PM] Starting BayesianTracker session\n",
      "[INFO][2022/08/08 06:30:10 PM] Loading configuration file: /home/dayn/analysis/BayesianTracker/models/param_test_config_hypo.json\n",
      "[INFO][2022/08/08 06:30:10 PM] Setting max_search_radius -> 500\n",
      "[INFO][2022/08/08 06:30:10 PM] Setting features -> ['area', 'major_axis_length', 'minor_axis_length', 'orientation', 'solidity', 'mean_intensity']\n",
      "[INFO][2022/08/08 06:30:10 PM] Objects are of type: <class 'list'>\n"
     ]
    },
    {
     "name": "stdout",
     "output_type": "stream",
     "text": [
      "(5, 10, 100, 5, 160) 3.2823316150229425\n"
     ]
    },
    {
     "name": "stderr",
     "output_type": "stream",
     "text": [
      "[INFO][2022/08/08 06:30:10 PM] Setting volume -> ((0, 6048), (0, 6048), (-100000.0, 100000.0))\n",
      "[INFO][2022/08/08 06:30:10 PM] Starting tracking... \n",
      "[INFO][2022/08/08 06:30:10 PM] Tracking objects in frames 0 to 24 (of 75)...\n",
      "[INFO][2022/08/08 06:30:23 PM]  - Timing (Bayesian updates: 516.79ms, Linking: 11.76ms)\n",
      "[INFO][2022/08/08 06:30:23 PM]  - Probabilities (Link: 0.97446, Lost: 1.00000)\n",
      "[INFO][2022/08/08 06:30:23 PM]  - Stats (Active: 2550, Lost: 51737, Conflicts resolved: 1956)\n",
      "[INFO][2022/08/08 06:30:23 PM] Tracking objects in frames 25 to 49 (of 75)...\n",
      "[INFO][2022/08/08 06:30:35 PM]  - Timing (Bayesian updates: 179.24ms, Linking: 5.53ms)\n",
      "[INFO][2022/08/08 06:30:35 PM]  - Probabilities (Link: 0.94544, Lost: 1.00000)\n",
      "[INFO][2022/08/08 06:30:35 PM]  - Stats (Active: 1721, Lost: 105261, Conflicts resolved: 3564)\n",
      "[INFO][2022/08/08 06:30:35 PM] Tracking objects in frames 50 to 74 (of 75)...\n",
      "[INFO][2022/08/08 06:30:36 PM]  - Timing (Bayesian updates: 11.82ms, Linking: 1.00ms)\n",
      "[INFO][2022/08/08 06:30:36 PM]  - Probabilities (Link: 0.92668, Lost: 1.00000)\n",
      "[INFO][2022/08/08 06:30:36 PM] SUCCESS.\n",
      "[INFO][2022/08/08 06:30:36 PM]  - Found 17653 tracks in 75 frames (in 0.0s)\n",
      "[INFO][2022/08/08 06:30:36 PM]  - Inserted 23139 dummy objects to fill tracking gaps\n",
      "[INFO][2022/08/08 06:30:36 PM] Ending BayesianTracker session\n",
      "[INFO][2022/08/08 06:30:37 PM] Loaded btrack: /home/dayn/miniconda3/envs/aero/lib/python3.9/site-packages/btrack/libs/libtracker.so\n",
      "[INFO][2022/08/08 06:30:37 PM] btrack (v0.4.5) library imported\n",
      "[INFO][2022/08/08 06:30:37 PM] Starting BayesianTracker session\n",
      "[INFO][2022/08/08 06:30:37 PM] Loading configuration file: /home/dayn/analysis/BayesianTracker/models/param_test_config_hypo.json\n",
      "[INFO][2022/08/08 06:30:37 PM] Setting max_search_radius -> 500\n",
      "[INFO][2022/08/08 06:30:37 PM] Setting features -> ['area', 'major_axis_length', 'minor_axis_length', 'orientation', 'solidity', 'mean_intensity']\n",
      "[INFO][2022/08/08 06:30:37 PM] Objects are of type: <class 'list'>\n"
     ]
    },
    {
     "name": "stdout",
     "output_type": "stream",
     "text": [
      "(5, 10, 100, 20, 40) 3.2823316150229425\n"
     ]
    },
    {
     "name": "stderr",
     "output_type": "stream",
     "text": [
      "[INFO][2022/08/08 06:30:37 PM] Setting volume -> ((0, 6048), (0, 6048), (-100000.0, 100000.0))\n",
      "[INFO][2022/08/08 06:30:37 PM] Starting tracking... \n",
      "[INFO][2022/08/08 06:30:37 PM] Tracking objects in frames 0 to 24 (of 75)...\n",
      "[INFO][2022/08/08 06:30:51 PM]  - Timing (Bayesian updates: 516.62ms, Linking: 11.84ms)\n",
      "[INFO][2022/08/08 06:30:51 PM]  - Probabilities (Link: 0.97446, Lost: 1.00000)\n",
      "[INFO][2022/08/08 06:30:51 PM]  - Stats (Active: 2550, Lost: 51737, Conflicts resolved: 1956)\n",
      "[INFO][2022/08/08 06:30:51 PM] Tracking objects in frames 25 to 49 (of 75)...\n",
      "[INFO][2022/08/08 06:31:02 PM]  - Timing (Bayesian updates: 179.62ms, Linking: 6.09ms)\n",
      "[INFO][2022/08/08 06:31:02 PM]  - Probabilities (Link: 0.94544, Lost: 1.00000)\n",
      "[INFO][2022/08/08 06:31:02 PM]  - Stats (Active: 1721, Lost: 105261, Conflicts resolved: 3564)\n",
      "[INFO][2022/08/08 06:31:02 PM] Tracking objects in frames 50 to 74 (of 75)...\n",
      "[INFO][2022/08/08 06:31:03 PM]  - Timing (Bayesian updates: 11.90ms, Linking: 1.09ms)\n",
      "[INFO][2022/08/08 06:31:03 PM]  - Probabilities (Link: 0.92668, Lost: 1.00000)\n",
      "[INFO][2022/08/08 06:31:03 PM] SUCCESS.\n",
      "[INFO][2022/08/08 06:31:03 PM]  - Found 17653 tracks in 75 frames (in 0.0s)\n",
      "[INFO][2022/08/08 06:31:03 PM]  - Inserted 23139 dummy objects to fill tracking gaps\n",
      "[INFO][2022/08/08 06:31:04 PM] Ending BayesianTracker session\n",
      "[INFO][2022/08/08 06:31:04 PM] Loaded btrack: /home/dayn/miniconda3/envs/aero/lib/python3.9/site-packages/btrack/libs/libtracker.so\n",
      "[INFO][2022/08/08 06:31:04 PM] btrack (v0.4.5) library imported\n",
      "[INFO][2022/08/08 06:31:04 PM] Starting BayesianTracker session\n",
      "[INFO][2022/08/08 06:31:04 PM] Loading configuration file: /home/dayn/analysis/BayesianTracker/models/param_test_config_hypo.json\n",
      "[INFO][2022/08/08 06:31:04 PM] Setting max_search_radius -> 500\n",
      "[INFO][2022/08/08 06:31:04 PM] Setting features -> ['area', 'major_axis_length', 'minor_axis_length', 'orientation', 'solidity', 'mean_intensity']\n",
      "[INFO][2022/08/08 06:31:04 PM] Objects are of type: <class 'list'>\n",
      "[INFO][2022/08/08 06:31:04 PM] Setting volume -> ((0, 6048), (0, 6048), (-100000.0, 100000.0))\n",
      "[INFO][2022/08/08 06:31:04 PM] Starting tracking... \n"
     ]
    },
    {
     "name": "stdout",
     "output_type": "stream",
     "text": [
      "(5, 10, 100, 20, 80) 3.2823316150229425\n"
     ]
    },
    {
     "name": "stderr",
     "output_type": "stream",
     "text": [
      "[INFO][2022/08/08 06:31:04 PM] Tracking objects in frames 0 to 24 (of 75)...\n",
      "[INFO][2022/08/08 06:31:17 PM]  - Timing (Bayesian updates: 528.72ms, Linking: 12.18ms)\n",
      "[INFO][2022/08/08 06:31:17 PM]  - Probabilities (Link: 0.97446, Lost: 1.00000)\n",
      "[INFO][2022/08/08 06:31:17 PM]  - Stats (Active: 2550, Lost: 51737, Conflicts resolved: 1956)\n",
      "[INFO][2022/08/08 06:31:17 PM] Tracking objects in frames 25 to 49 (of 75)...\n",
      "[INFO][2022/08/08 06:31:28 PM]  - Timing (Bayesian updates: 183.71ms, Linking: 7.11ms)\n",
      "[INFO][2022/08/08 06:31:28 PM]  - Probabilities (Link: 0.94544, Lost: 1.00000)\n",
      "[INFO][2022/08/08 06:31:28 PM]  - Stats (Active: 1721, Lost: 105261, Conflicts resolved: 3564)\n",
      "[INFO][2022/08/08 06:31:28 PM] Tracking objects in frames 50 to 74 (of 75)...\n",
      "[INFO][2022/08/08 06:31:30 PM]  - Timing (Bayesian updates: 12.03ms, Linking: 1.12ms)\n",
      "[INFO][2022/08/08 06:31:30 PM]  - Probabilities (Link: 0.92668, Lost: 1.00000)\n",
      "[INFO][2022/08/08 06:31:30 PM] SUCCESS.\n",
      "[INFO][2022/08/08 06:31:30 PM]  - Found 17653 tracks in 75 frames (in 0.0s)\n",
      "[INFO][2022/08/08 06:31:30 PM]  - Inserted 23139 dummy objects to fill tracking gaps\n",
      "[INFO][2022/08/08 06:31:30 PM] Ending BayesianTracker session\n",
      "[INFO][2022/08/08 06:31:30 PM] Loaded btrack: /home/dayn/miniconda3/envs/aero/lib/python3.9/site-packages/btrack/libs/libtracker.so\n",
      "[INFO][2022/08/08 06:31:30 PM] btrack (v0.4.5) library imported\n",
      "[INFO][2022/08/08 06:31:30 PM] Starting BayesianTracker session\n",
      "[INFO][2022/08/08 06:31:30 PM] Loading configuration file: /home/dayn/analysis/BayesianTracker/models/param_test_config_hypo.json\n",
      "[INFO][2022/08/08 06:31:30 PM] Setting max_search_radius -> 500\n",
      "[INFO][2022/08/08 06:31:30 PM] Setting features -> ['area', 'major_axis_length', 'minor_axis_length', 'orientation', 'solidity', 'mean_intensity']\n",
      "[INFO][2022/08/08 06:31:30 PM] Objects are of type: <class 'list'>\n",
      "[INFO][2022/08/08 06:31:30 PM] Setting volume -> ((0, 6048), (0, 6048), (-100000.0, 100000.0))\n",
      "[INFO][2022/08/08 06:31:30 PM] Starting tracking... \n"
     ]
    },
    {
     "name": "stdout",
     "output_type": "stream",
     "text": [
      "(5, 10, 100, 20, 160) 3.2823316150229425\n"
     ]
    },
    {
     "name": "stderr",
     "output_type": "stream",
     "text": [
      "[INFO][2022/08/08 06:31:31 PM] Tracking objects in frames 0 to 24 (of 75)...\n",
      "[INFO][2022/08/08 06:31:44 PM]  - Timing (Bayesian updates: 515.69ms, Linking: 11.85ms)\n",
      "[INFO][2022/08/08 06:31:44 PM]  - Probabilities (Link: 0.97446, Lost: 1.00000)\n",
      "[INFO][2022/08/08 06:31:44 PM]  - Stats (Active: 2550, Lost: 51737, Conflicts resolved: 1956)\n",
      "[INFO][2022/08/08 06:31:44 PM] Tracking objects in frames 25 to 49 (of 75)...\n",
      "[INFO][2022/08/08 06:31:55 PM]  - Timing (Bayesian updates: 179.24ms, Linking: 5.46ms)\n",
      "[INFO][2022/08/08 06:31:55 PM]  - Probabilities (Link: 0.94544, Lost: 1.00000)\n",
      "[INFO][2022/08/08 06:31:55 PM]  - Stats (Active: 1721, Lost: 105261, Conflicts resolved: 3564)\n",
      "[INFO][2022/08/08 06:31:55 PM] Tracking objects in frames 50 to 74 (of 75)...\n",
      "[INFO][2022/08/08 06:31:57 PM]  - Timing (Bayesian updates: 12.03ms, Linking: 1.07ms)\n",
      "[INFO][2022/08/08 06:31:57 PM]  - Probabilities (Link: 0.92668, Lost: 1.00000)\n",
      "[INFO][2022/08/08 06:31:57 PM] SUCCESS.\n",
      "[INFO][2022/08/08 06:31:57 PM]  - Found 17653 tracks in 75 frames (in 0.0s)\n",
      "[INFO][2022/08/08 06:31:57 PM]  - Inserted 23139 dummy objects to fill tracking gaps\n",
      "[INFO][2022/08/08 06:31:57 PM] Ending BayesianTracker session\n",
      "[INFO][2022/08/08 06:31:57 PM] Loaded btrack: /home/dayn/miniconda3/envs/aero/lib/python3.9/site-packages/btrack/libs/libtracker.so\n",
      "[INFO][2022/08/08 06:31:57 PM] btrack (v0.4.5) library imported\n",
      "[INFO][2022/08/08 06:31:57 PM] Starting BayesianTracker session\n",
      "[INFO][2022/08/08 06:31:57 PM] Loading configuration file: /home/dayn/analysis/BayesianTracker/models/param_test_config_hypo.json\n",
      "[INFO][2022/08/08 06:31:57 PM] Setting max_search_radius -> 500\n",
      "[INFO][2022/08/08 06:31:57 PM] Setting features -> ['area', 'major_axis_length', 'minor_axis_length', 'orientation', 'solidity', 'mean_intensity']\n",
      "[INFO][2022/08/08 06:31:57 PM] Objects are of type: <class 'list'>\n"
     ]
    },
    {
     "name": "stdout",
     "output_type": "stream",
     "text": [
      "(5, 10, 100, 100, 40) 3.2823316150229425\n"
     ]
    },
    {
     "name": "stderr",
     "output_type": "stream",
     "text": [
      "[INFO][2022/08/08 06:31:57 PM] Setting volume -> ((0, 6048), (0, 6048), (-100000.0, 100000.0))\n",
      "[INFO][2022/08/08 06:31:57 PM] Starting tracking... \n",
      "[INFO][2022/08/08 06:31:58 PM] Tracking objects in frames 0 to 24 (of 75)...\n",
      "[INFO][2022/08/08 06:32:11 PM]  - Timing (Bayesian updates: 516.15ms, Linking: 11.87ms)\n",
      "[INFO][2022/08/08 06:32:11 PM]  - Probabilities (Link: 0.97446, Lost: 1.00000)\n",
      "[INFO][2022/08/08 06:32:11 PM]  - Stats (Active: 2550, Lost: 51737, Conflicts resolved: 1956)\n",
      "[INFO][2022/08/08 06:32:11 PM] Tracking objects in frames 25 to 49 (of 75)...\n",
      "[INFO][2022/08/08 06:32:22 PM]  - Timing (Bayesian updates: 178.75ms, Linking: 6.05ms)\n",
      "[INFO][2022/08/08 06:32:22 PM]  - Probabilities (Link: 0.94544, Lost: 1.00000)\n",
      "[INFO][2022/08/08 06:32:22 PM]  - Stats (Active: 1721, Lost: 105261, Conflicts resolved: 3564)\n",
      "[INFO][2022/08/08 06:32:22 PM] Tracking objects in frames 50 to 74 (of 75)...\n",
      "[INFO][2022/08/08 06:32:23 PM]  - Timing (Bayesian updates: 11.95ms, Linking: 1.06ms)\n",
      "[INFO][2022/08/08 06:32:23 PM]  - Probabilities (Link: 0.92668, Lost: 1.00000)\n",
      "[INFO][2022/08/08 06:32:23 PM] SUCCESS.\n",
      "[INFO][2022/08/08 06:32:23 PM]  - Found 17653 tracks in 75 frames (in 0.0s)\n",
      "[INFO][2022/08/08 06:32:23 PM]  - Inserted 23139 dummy objects to fill tracking gaps\n",
      "[INFO][2022/08/08 06:32:24 PM] Ending BayesianTracker session\n",
      "[INFO][2022/08/08 06:32:24 PM] Loaded btrack: /home/dayn/miniconda3/envs/aero/lib/python3.9/site-packages/btrack/libs/libtracker.so\n",
      "[INFO][2022/08/08 06:32:24 PM] btrack (v0.4.5) library imported\n",
      "[INFO][2022/08/08 06:32:24 PM] Starting BayesianTracker session\n",
      "[INFO][2022/08/08 06:32:24 PM] Loading configuration file: /home/dayn/analysis/BayesianTracker/models/param_test_config_hypo.json\n",
      "[INFO][2022/08/08 06:32:24 PM] Setting max_search_radius -> 500\n",
      "[INFO][2022/08/08 06:32:24 PM] Setting features -> ['area', 'major_axis_length', 'minor_axis_length', 'orientation', 'solidity', 'mean_intensity']\n",
      "[INFO][2022/08/08 06:32:24 PM] Objects are of type: <class 'list'>\n",
      "[INFO][2022/08/08 06:32:24 PM] Setting volume -> ((0, 6048), (0, 6048), (-100000.0, 100000.0))\n",
      "[INFO][2022/08/08 06:32:24 PM] Starting tracking... \n"
     ]
    },
    {
     "name": "stdout",
     "output_type": "stream",
     "text": [
      "(5, 10, 100, 100, 80) 3.2823316150229425\n"
     ]
    },
    {
     "name": "stderr",
     "output_type": "stream",
     "text": [
      "[INFO][2022/08/08 06:32:24 PM] Tracking objects in frames 0 to 24 (of 75)...\n",
      "[INFO][2022/08/08 06:32:37 PM]  - Timing (Bayesian updates: 520.99ms, Linking: 11.77ms)\n",
      "[INFO][2022/08/08 06:32:37 PM]  - Probabilities (Link: 0.97446, Lost: 1.00000)\n",
      "[INFO][2022/08/08 06:32:37 PM]  - Stats (Active: 2550, Lost: 51737, Conflicts resolved: 1956)\n",
      "[INFO][2022/08/08 06:32:37 PM] Tracking objects in frames 25 to 49 (of 75)...\n",
      "[INFO][2022/08/08 06:32:48 PM]  - Timing (Bayesian updates: 179.80ms, Linking: 5.88ms)\n",
      "[INFO][2022/08/08 06:32:48 PM]  - Probabilities (Link: 0.94544, Lost: 1.00000)\n",
      "[INFO][2022/08/08 06:32:48 PM]  - Stats (Active: 1721, Lost: 105261, Conflicts resolved: 3564)\n",
      "[INFO][2022/08/08 06:32:48 PM] Tracking objects in frames 50 to 74 (of 75)...\n",
      "[INFO][2022/08/08 06:32:49 PM]  - Timing (Bayesian updates: 11.69ms, Linking: 1.04ms)\n",
      "[INFO][2022/08/08 06:32:49 PM]  - Probabilities (Link: 0.92668, Lost: 1.00000)\n",
      "[INFO][2022/08/08 06:32:49 PM] SUCCESS.\n",
      "[INFO][2022/08/08 06:32:49 PM]  - Found 17653 tracks in 75 frames (in 0.0s)\n",
      "[INFO][2022/08/08 06:32:50 PM]  - Inserted 23139 dummy objects to fill tracking gaps\n",
      "[INFO][2022/08/08 06:32:50 PM] Ending BayesianTracker session\n",
      "[INFO][2022/08/08 06:32:50 PM] Loaded btrack: /home/dayn/miniconda3/envs/aero/lib/python3.9/site-packages/btrack/libs/libtracker.so\n",
      "[INFO][2022/08/08 06:32:50 PM] btrack (v0.4.5) library imported\n",
      "[INFO][2022/08/08 06:32:50 PM] Starting BayesianTracker session\n",
      "[INFO][2022/08/08 06:32:50 PM] Loading configuration file: /home/dayn/analysis/BayesianTracker/models/param_test_config_hypo.json\n",
      "[INFO][2022/08/08 06:32:50 PM] Setting max_search_radius -> 500\n",
      "[INFO][2022/08/08 06:32:50 PM] Setting features -> ['area', 'major_axis_length', 'minor_axis_length', 'orientation', 'solidity', 'mean_intensity']\n",
      "[INFO][2022/08/08 06:32:50 PM] Objects are of type: <class 'list'>\n",
      "[INFO][2022/08/08 06:32:50 PM] Setting volume -> ((0, 6048), (0, 6048), (-100000.0, 100000.0))\n",
      "[INFO][2022/08/08 06:32:50 PM] Starting tracking... \n"
     ]
    },
    {
     "name": "stdout",
     "output_type": "stream",
     "text": [
      "(5, 10, 100, 100, 160) 3.2823316150229425\n"
     ]
    },
    {
     "name": "stderr",
     "output_type": "stream",
     "text": [
      "[INFO][2022/08/08 06:32:51 PM] Tracking objects in frames 0 to 24 (of 75)...\n",
      "[INFO][2022/08/08 06:33:04 PM]  - Timing (Bayesian updates: 517.71ms, Linking: 11.84ms)\n",
      "[INFO][2022/08/08 06:33:04 PM]  - Probabilities (Link: 0.97446, Lost: 1.00000)\n",
      "[INFO][2022/08/08 06:33:04 PM]  - Stats (Active: 2550, Lost: 51737, Conflicts resolved: 1956)\n",
      "[INFO][2022/08/08 06:33:04 PM] Tracking objects in frames 25 to 49 (of 75)...\n",
      "[INFO][2022/08/08 06:33:15 PM]  - Timing (Bayesian updates: 180.21ms, Linking: 6.03ms)\n",
      "[INFO][2022/08/08 06:33:15 PM]  - Probabilities (Link: 0.94544, Lost: 1.00000)\n",
      "[INFO][2022/08/08 06:33:15 PM]  - Stats (Active: 1721, Lost: 105261, Conflicts resolved: 3564)\n",
      "[INFO][2022/08/08 06:33:15 PM] Tracking objects in frames 50 to 74 (of 75)...\n",
      "[INFO][2022/08/08 06:33:16 PM]  - Timing (Bayesian updates: 12.21ms, Linking: 1.09ms)\n",
      "[INFO][2022/08/08 06:33:16 PM]  - Probabilities (Link: 0.92668, Lost: 1.00000)\n",
      "[INFO][2022/08/08 06:33:16 PM] SUCCESS.\n",
      "[INFO][2022/08/08 06:33:16 PM]  - Found 17653 tracks in 75 frames (in 0.0s)\n",
      "[INFO][2022/08/08 06:33:17 PM]  - Inserted 23139 dummy objects to fill tracking gaps\n",
      "[INFO][2022/08/08 06:33:17 PM] Ending BayesianTracker session\n",
      "[INFO][2022/08/08 06:33:17 PM] Loaded btrack: /home/dayn/miniconda3/envs/aero/lib/python3.9/site-packages/btrack/libs/libtracker.so\n",
      "[INFO][2022/08/08 06:33:17 PM] btrack (v0.4.5) library imported\n",
      "[INFO][2022/08/08 06:33:17 PM] Starting BayesianTracker session\n",
      "[INFO][2022/08/08 06:33:17 PM] Loading configuration file: /home/dayn/analysis/BayesianTracker/models/param_test_config_hypo.json\n",
      "[INFO][2022/08/08 06:33:17 PM] Setting max_search_radius -> 500\n",
      "[INFO][2022/08/08 06:33:17 PM] Setting features -> ['area', 'major_axis_length', 'minor_axis_length', 'orientation', 'solidity', 'mean_intensity']\n",
      "[INFO][2022/08/08 06:33:17 PM] Objects are of type: <class 'list'>\n",
      "[INFO][2022/08/08 06:33:17 PM] Setting volume -> ((0, 6048), (0, 6048), (-100000.0, 100000.0))\n",
      "[INFO][2022/08/08 06:33:17 PM] Starting tracking... \n"
     ]
    },
    {
     "name": "stdout",
     "output_type": "stream",
     "text": [
      "(5, 10, 300, 5, 40) 3.2823316150229425\n"
     ]
    },
    {
     "name": "stderr",
     "output_type": "stream",
     "text": [
      "[INFO][2022/08/08 06:33:17 PM] Tracking objects in frames 0 to 24 (of 75)...\n",
      "[INFO][2022/08/08 06:33:30 PM]  - Timing (Bayesian updates: 517.75ms, Linking: 11.97ms)\n",
      "[INFO][2022/08/08 06:33:30 PM]  - Probabilities (Link: 0.97446, Lost: 1.00000)\n",
      "[INFO][2022/08/08 06:33:30 PM]  - Stats (Active: 2550, Lost: 51737, Conflicts resolved: 1956)\n",
      "[INFO][2022/08/08 06:33:30 PM] Tracking objects in frames 25 to 49 (of 75)...\n",
      "[INFO][2022/08/08 06:33:41 PM]  - Timing (Bayesian updates: 179.48ms, Linking: 5.53ms)\n",
      "[INFO][2022/08/08 06:33:41 PM]  - Probabilities (Link: 0.94544, Lost: 1.00000)\n",
      "[INFO][2022/08/08 06:33:41 PM]  - Stats (Active: 1721, Lost: 105261, Conflicts resolved: 3564)\n",
      "[INFO][2022/08/08 06:33:41 PM] Tracking objects in frames 50 to 74 (of 75)...\n",
      "[INFO][2022/08/08 06:33:43 PM]  - Timing (Bayesian updates: 11.93ms, Linking: 1.12ms)\n",
      "[INFO][2022/08/08 06:33:43 PM]  - Probabilities (Link: 0.92668, Lost: 1.00000)\n",
      "[INFO][2022/08/08 06:33:43 PM] SUCCESS.\n",
      "[INFO][2022/08/08 06:33:43 PM]  - Found 17653 tracks in 75 frames (in 0.0s)\n",
      "[INFO][2022/08/08 06:33:43 PM]  - Inserted 23139 dummy objects to fill tracking gaps\n",
      "[INFO][2022/08/08 06:33:43 PM] Ending BayesianTracker session\n",
      "[INFO][2022/08/08 06:33:44 PM] Loaded btrack: /home/dayn/miniconda3/envs/aero/lib/python3.9/site-packages/btrack/libs/libtracker.so\n",
      "[INFO][2022/08/08 06:33:44 PM] btrack (v0.4.5) library imported\n",
      "[INFO][2022/08/08 06:33:44 PM] Starting BayesianTracker session\n",
      "[INFO][2022/08/08 06:33:44 PM] Loading configuration file: /home/dayn/analysis/BayesianTracker/models/param_test_config_hypo.json\n",
      "[INFO][2022/08/08 06:33:44 PM] Setting max_search_radius -> 500\n",
      "[INFO][2022/08/08 06:33:44 PM] Setting features -> ['area', 'major_axis_length', 'minor_axis_length', 'orientation', 'solidity', 'mean_intensity']\n",
      "[INFO][2022/08/08 06:33:44 PM] Objects are of type: <class 'list'>\n"
     ]
    },
    {
     "name": "stdout",
     "output_type": "stream",
     "text": [
      "(5, 10, 300, 5, 80) 3.2823316150229425\n"
     ]
    },
    {
     "name": "stderr",
     "output_type": "stream",
     "text": [
      "[INFO][2022/08/08 06:33:44 PM] Setting volume -> ((0, 6048), (0, 6048), (-100000.0, 100000.0))\n",
      "[INFO][2022/08/08 06:33:44 PM] Starting tracking... \n",
      "[INFO][2022/08/08 06:33:44 PM] Tracking objects in frames 0 to 24 (of 75)...\n",
      "[INFO][2022/08/08 06:33:57 PM]  - Timing (Bayesian updates: 517.03ms, Linking: 11.84ms)\n",
      "[INFO][2022/08/08 06:33:57 PM]  - Probabilities (Link: 0.97446, Lost: 1.00000)\n",
      "[INFO][2022/08/08 06:33:57 PM]  - Stats (Active: 2550, Lost: 51737, Conflicts resolved: 1956)\n",
      "[INFO][2022/08/08 06:33:57 PM] Tracking objects in frames 25 to 49 (of 75)...\n",
      "[INFO][2022/08/08 06:34:08 PM]  - Timing (Bayesian updates: 179.73ms, Linking: 5.48ms)\n",
      "[INFO][2022/08/08 06:34:08 PM]  - Probabilities (Link: 0.94544, Lost: 1.00000)\n",
      "[INFO][2022/08/08 06:34:08 PM]  - Stats (Active: 1721, Lost: 105261, Conflicts resolved: 3564)\n",
      "[INFO][2022/08/08 06:34:08 PM] Tracking objects in frames 50 to 74 (of 75)...\n",
      "[INFO][2022/08/08 06:34:09 PM]  - Timing (Bayesian updates: 11.65ms, Linking: 1.07ms)\n",
      "[INFO][2022/08/08 06:34:09 PM]  - Probabilities (Link: 0.92668, Lost: 1.00000)\n",
      "[INFO][2022/08/08 06:34:09 PM] SUCCESS.\n",
      "[INFO][2022/08/08 06:34:09 PM]  - Found 17653 tracks in 75 frames (in 0.0s)\n",
      "[INFO][2022/08/08 06:34:10 PM]  - Inserted 23139 dummy objects to fill tracking gaps\n",
      "[INFO][2022/08/08 06:34:10 PM] Ending BayesianTracker session\n",
      "[INFO][2022/08/08 06:34:10 PM] Loaded btrack: /home/dayn/miniconda3/envs/aero/lib/python3.9/site-packages/btrack/libs/libtracker.so\n",
      "[INFO][2022/08/08 06:34:10 PM] btrack (v0.4.5) library imported\n",
      "[INFO][2022/08/08 06:34:10 PM] Starting BayesianTracker session\n",
      "[INFO][2022/08/08 06:34:10 PM] Loading configuration file: /home/dayn/analysis/BayesianTracker/models/param_test_config_hypo.json\n",
      "[INFO][2022/08/08 06:34:10 PM] Setting max_search_radius -> 500\n",
      "[INFO][2022/08/08 06:34:10 PM] Setting features -> ['area', 'major_axis_length', 'minor_axis_length', 'orientation', 'solidity', 'mean_intensity']\n",
      "[INFO][2022/08/08 06:34:10 PM] Objects are of type: <class 'list'>\n"
     ]
    },
    {
     "name": "stdout",
     "output_type": "stream",
     "text": [
      "(5, 10, 300, 5, 160) 3.2823316150229425\n"
     ]
    },
    {
     "name": "stderr",
     "output_type": "stream",
     "text": [
      "[INFO][2022/08/08 06:34:10 PM] Setting volume -> ((0, 6048), (0, 6048), (-100000.0, 100000.0))\n",
      "[INFO][2022/08/08 06:34:10 PM] Starting tracking... \n",
      "[INFO][2022/08/08 06:34:10 PM] Tracking objects in frames 0 to 24 (of 75)...\n",
      "[INFO][2022/08/08 06:34:24 PM]  - Timing (Bayesian updates: 517.01ms, Linking: 11.60ms)\n",
      "[INFO][2022/08/08 06:34:24 PM]  - Probabilities (Link: 0.97446, Lost: 1.00000)\n",
      "[INFO][2022/08/08 06:34:24 PM]  - Stats (Active: 2550, Lost: 51737, Conflicts resolved: 1956)\n",
      "[INFO][2022/08/08 06:34:24 PM] Tracking objects in frames 25 to 49 (of 75)...\n",
      "[INFO][2022/08/08 06:34:35 PM]  - Timing (Bayesian updates: 179.50ms, Linking: 5.53ms)\n",
      "[INFO][2022/08/08 06:34:35 PM]  - Probabilities (Link: 0.94544, Lost: 1.00000)\n",
      "[INFO][2022/08/08 06:34:35 PM]  - Stats (Active: 1721, Lost: 105261, Conflicts resolved: 3564)\n",
      "[INFO][2022/08/08 06:34:35 PM] Tracking objects in frames 50 to 74 (of 75)...\n",
      "[INFO][2022/08/08 06:34:36 PM]  - Timing (Bayesian updates: 11.84ms, Linking: 1.12ms)\n",
      "[INFO][2022/08/08 06:34:36 PM]  - Probabilities (Link: 0.92668, Lost: 1.00000)\n",
      "[INFO][2022/08/08 06:34:36 PM] SUCCESS.\n",
      "[INFO][2022/08/08 06:34:36 PM]  - Found 17653 tracks in 75 frames (in 0.0s)\n",
      "[INFO][2022/08/08 06:34:37 PM]  - Inserted 23139 dummy objects to fill tracking gaps\n",
      "[INFO][2022/08/08 06:34:37 PM] Ending BayesianTracker session\n",
      "[INFO][2022/08/08 06:34:37 PM] Loaded btrack: /home/dayn/miniconda3/envs/aero/lib/python3.9/site-packages/btrack/libs/libtracker.so\n",
      "[INFO][2022/08/08 06:34:37 PM] btrack (v0.4.5) library imported\n",
      "[INFO][2022/08/08 06:34:37 PM] Starting BayesianTracker session\n",
      "[INFO][2022/08/08 06:34:37 PM] Loading configuration file: /home/dayn/analysis/BayesianTracker/models/param_test_config_hypo.json\n",
      "[INFO][2022/08/08 06:34:37 PM] Setting max_search_radius -> 500\n",
      "[INFO][2022/08/08 06:34:37 PM] Setting features -> ['area', 'major_axis_length', 'minor_axis_length', 'orientation', 'solidity', 'mean_intensity']\n",
      "[INFO][2022/08/08 06:34:37 PM] Objects are of type: <class 'list'>\n"
     ]
    },
    {
     "name": "stdout",
     "output_type": "stream",
     "text": [
      "(5, 10, 300, 20, 40) 3.2823316150229425\n"
     ]
    },
    {
     "name": "stderr",
     "output_type": "stream",
     "text": [
      "[INFO][2022/08/08 06:34:37 PM] Setting volume -> ((0, 6048), (0, 6048), (-100000.0, 100000.0))\n",
      "[INFO][2022/08/08 06:34:37 PM] Starting tracking... \n",
      "[INFO][2022/08/08 06:34:37 PM] Tracking objects in frames 0 to 24 (of 75)...\n",
      "[INFO][2022/08/08 06:34:51 PM]  - Timing (Bayesian updates: 539.84ms, Linking: 12.07ms)\n",
      "[INFO][2022/08/08 06:34:51 PM]  - Probabilities (Link: 0.97446, Lost: 1.00000)\n",
      "[INFO][2022/08/08 06:34:51 PM]  - Stats (Active: 2550, Lost: 51737, Conflicts resolved: 1956)\n",
      "[INFO][2022/08/08 06:34:51 PM] Tracking objects in frames 25 to 49 (of 75)...\n",
      "[INFO][2022/08/08 06:35:01 PM]  - Timing (Bayesian updates: 178.68ms, Linking: 5.32ms)\n",
      "[INFO][2022/08/08 06:35:01 PM]  - Probabilities (Link: 0.94544, Lost: 1.00000)\n",
      "[INFO][2022/08/08 06:35:01 PM]  - Stats (Active: 1721, Lost: 105261, Conflicts resolved: 3564)\n",
      "[INFO][2022/08/08 06:35:01 PM] Tracking objects in frames 50 to 74 (of 75)...\n",
      "[INFO][2022/08/08 06:35:03 PM]  - Timing (Bayesian updates: 11.69ms, Linking: 1.04ms)\n",
      "[INFO][2022/08/08 06:35:03 PM]  - Probabilities (Link: 0.92668, Lost: 1.00000)\n",
      "[INFO][2022/08/08 06:35:03 PM] SUCCESS.\n",
      "[INFO][2022/08/08 06:35:03 PM]  - Found 17653 tracks in 75 frames (in 0.0s)\n",
      "[INFO][2022/08/08 06:35:03 PM]  - Inserted 23139 dummy objects to fill tracking gaps\n",
      "[INFO][2022/08/08 06:35:03 PM] Ending BayesianTracker session\n",
      "[INFO][2022/08/08 06:35:04 PM] Loaded btrack: /home/dayn/miniconda3/envs/aero/lib/python3.9/site-packages/btrack/libs/libtracker.so\n",
      "[INFO][2022/08/08 06:35:04 PM] btrack (v0.4.5) library imported\n",
      "[INFO][2022/08/08 06:35:04 PM] Starting BayesianTracker session\n",
      "[INFO][2022/08/08 06:35:04 PM] Loading configuration file: /home/dayn/analysis/BayesianTracker/models/param_test_config_hypo.json\n",
      "[INFO][2022/08/08 06:35:04 PM] Setting max_search_radius -> 500\n",
      "[INFO][2022/08/08 06:35:04 PM] Setting features -> ['area', 'major_axis_length', 'minor_axis_length', 'orientation', 'solidity', 'mean_intensity']\n",
      "[INFO][2022/08/08 06:35:04 PM] Objects are of type: <class 'list'>\n"
     ]
    },
    {
     "name": "stdout",
     "output_type": "stream",
     "text": [
      "(5, 10, 300, 20, 80) 3.2823316150229425\n"
     ]
    },
    {
     "name": "stderr",
     "output_type": "stream",
     "text": [
      "[INFO][2022/08/08 06:35:04 PM] Setting volume -> ((0, 6048), (0, 6048), (-100000.0, 100000.0))\n",
      "[INFO][2022/08/08 06:35:04 PM] Starting tracking... \n",
      "[INFO][2022/08/08 06:35:04 PM] Tracking objects in frames 0 to 24 (of 75)...\n",
      "[INFO][2022/08/08 06:35:17 PM]  - Timing (Bayesian updates: 516.26ms, Linking: 11.85ms)\n",
      "[INFO][2022/08/08 06:35:17 PM]  - Probabilities (Link: 0.97446, Lost: 1.00000)\n",
      "[INFO][2022/08/08 06:35:17 PM]  - Stats (Active: 2550, Lost: 51737, Conflicts resolved: 1956)\n",
      "[INFO][2022/08/08 06:35:17 PM] Tracking objects in frames 25 to 49 (of 75)...\n",
      "[INFO][2022/08/08 06:35:28 PM]  - Timing (Bayesian updates: 179.76ms, Linking: 5.38ms)\n",
      "[INFO][2022/08/08 06:35:28 PM]  - Probabilities (Link: 0.94544, Lost: 1.00000)\n",
      "[INFO][2022/08/08 06:35:28 PM]  - Stats (Active: 1721, Lost: 105261, Conflicts resolved: 3564)\n",
      "[INFO][2022/08/08 06:35:28 PM] Tracking objects in frames 50 to 74 (of 75)...\n",
      "[INFO][2022/08/08 06:35:29 PM]  - Timing (Bayesian updates: 12.02ms, Linking: 1.06ms)\n",
      "[INFO][2022/08/08 06:35:29 PM]  - Probabilities (Link: 0.92668, Lost: 1.00000)\n",
      "[INFO][2022/08/08 06:35:29 PM] SUCCESS.\n",
      "[INFO][2022/08/08 06:35:29 PM]  - Found 17653 tracks in 75 frames (in 0.0s)\n",
      "[INFO][2022/08/08 06:35:29 PM]  - Inserted 23139 dummy objects to fill tracking gaps\n",
      "[INFO][2022/08/08 06:35:30 PM] Ending BayesianTracker session\n",
      "[INFO][2022/08/08 06:35:30 PM] Loaded btrack: /home/dayn/miniconda3/envs/aero/lib/python3.9/site-packages/btrack/libs/libtracker.so\n",
      "[INFO][2022/08/08 06:35:30 PM] btrack (v0.4.5) library imported\n",
      "[INFO][2022/08/08 06:35:30 PM] Starting BayesianTracker session\n",
      "[INFO][2022/08/08 06:35:30 PM] Loading configuration file: /home/dayn/analysis/BayesianTracker/models/param_test_config_hypo.json\n",
      "[INFO][2022/08/08 06:35:30 PM] Setting max_search_radius -> 500\n",
      "[INFO][2022/08/08 06:35:30 PM] Setting features -> ['area', 'major_axis_length', 'minor_axis_length', 'orientation', 'solidity', 'mean_intensity']\n",
      "[INFO][2022/08/08 06:35:30 PM] Objects are of type: <class 'list'>\n",
      "[INFO][2022/08/08 06:35:30 PM] Setting volume -> ((0, 6048), (0, 6048), (-100000.0, 100000.0))\n",
      "[INFO][2022/08/08 06:35:30 PM] Starting tracking... \n"
     ]
    },
    {
     "name": "stdout",
     "output_type": "stream",
     "text": [
      "(5, 10, 300, 20, 160) 3.2823316150229425\n"
     ]
    },
    {
     "name": "stderr",
     "output_type": "stream",
     "text": [
      "[INFO][2022/08/08 06:35:30 PM] Tracking objects in frames 0 to 24 (of 75)...\n",
      "[INFO][2022/08/08 06:35:43 PM]  - Timing (Bayesian updates: 519.12ms, Linking: 11.67ms)\n",
      "[INFO][2022/08/08 06:35:43 PM]  - Probabilities (Link: 0.97446, Lost: 1.00000)\n",
      "[INFO][2022/08/08 06:35:43 PM]  - Stats (Active: 2550, Lost: 51737, Conflicts resolved: 1956)\n",
      "[INFO][2022/08/08 06:35:43 PM] Tracking objects in frames 25 to 49 (of 75)...\n",
      "[INFO][2022/08/08 06:35:54 PM]  - Timing (Bayesian updates: 179.49ms, Linking: 6.03ms)\n",
      "[INFO][2022/08/08 06:35:54 PM]  - Probabilities (Link: 0.94544, Lost: 1.00000)\n",
      "[INFO][2022/08/08 06:35:54 PM]  - Stats (Active: 1721, Lost: 105261, Conflicts resolved: 3564)\n",
      "[INFO][2022/08/08 06:35:54 PM] Tracking objects in frames 50 to 74 (of 75)...\n",
      "[INFO][2022/08/08 06:35:56 PM]  - Timing (Bayesian updates: 14.97ms, Linking: 1.28ms)\n",
      "[INFO][2022/08/08 06:35:56 PM]  - Probabilities (Link: 0.92668, Lost: 1.00000)\n",
      "[INFO][2022/08/08 06:35:56 PM] SUCCESS.\n",
      "[INFO][2022/08/08 06:35:56 PM]  - Found 17653 tracks in 75 frames (in 0.0s)\n",
      "[INFO][2022/08/08 06:35:56 PM]  - Inserted 23139 dummy objects to fill tracking gaps\n",
      "[INFO][2022/08/08 06:35:57 PM] Ending BayesianTracker session\n",
      "[INFO][2022/08/08 06:35:57 PM] Loaded btrack: /home/dayn/miniconda3/envs/aero/lib/python3.9/site-packages/btrack/libs/libtracker.so\n",
      "[INFO][2022/08/08 06:35:57 PM] btrack (v0.4.5) library imported\n",
      "[INFO][2022/08/08 06:35:57 PM] Starting BayesianTracker session\n",
      "[INFO][2022/08/08 06:35:57 PM] Loading configuration file: /home/dayn/analysis/BayesianTracker/models/param_test_config_hypo.json\n",
      "[INFO][2022/08/08 06:35:57 PM] Setting max_search_radius -> 500\n",
      "[INFO][2022/08/08 06:35:57 PM] Setting features -> ['area', 'major_axis_length', 'minor_axis_length', 'orientation', 'solidity', 'mean_intensity']\n",
      "[INFO][2022/08/08 06:35:57 PM] Objects are of type: <class 'list'>\n"
     ]
    },
    {
     "name": "stdout",
     "output_type": "stream",
     "text": [
      "(5, 10, 300, 100, 40) 3.2823316150229425\n"
     ]
    },
    {
     "name": "stderr",
     "output_type": "stream",
     "text": [
      "[INFO][2022/08/08 06:35:57 PM] Setting volume -> ((0, 6048), (0, 6048), (-100000.0, 100000.0))\n",
      "[INFO][2022/08/08 06:35:57 PM] Starting tracking... \n",
      "[INFO][2022/08/08 06:35:57 PM] Tracking objects in frames 0 to 24 (of 75)...\n",
      "[INFO][2022/08/08 06:36:11 PM]  - Timing (Bayesian updates: 518.08ms, Linking: 11.96ms)\n",
      "[INFO][2022/08/08 06:36:11 PM]  - Probabilities (Link: 0.97446, Lost: 1.00000)\n",
      "[INFO][2022/08/08 06:36:11 PM]  - Stats (Active: 2550, Lost: 51737, Conflicts resolved: 1956)\n",
      "[INFO][2022/08/08 06:36:11 PM] Tracking objects in frames 25 to 49 (of 75)...\n",
      "[INFO][2022/08/08 06:36:22 PM]  - Timing (Bayesian updates: 178.88ms, Linking: 5.99ms)\n",
      "[INFO][2022/08/08 06:36:22 PM]  - Probabilities (Link: 0.94544, Lost: 1.00000)\n",
      "[INFO][2022/08/08 06:36:22 PM]  - Stats (Active: 1721, Lost: 105261, Conflicts resolved: 3564)\n",
      "[INFO][2022/08/08 06:36:22 PM] Tracking objects in frames 50 to 74 (of 75)...\n",
      "[INFO][2022/08/08 06:36:23 PM]  - Timing (Bayesian updates: 11.89ms, Linking: 1.02ms)\n",
      "[INFO][2022/08/08 06:36:23 PM]  - Probabilities (Link: 0.92668, Lost: 1.00000)\n",
      "[INFO][2022/08/08 06:36:23 PM] SUCCESS.\n",
      "[INFO][2022/08/08 06:36:23 PM]  - Found 17653 tracks in 75 frames (in 0.0s)\n",
      "[INFO][2022/08/08 06:36:23 PM]  - Inserted 23139 dummy objects to fill tracking gaps\n",
      "[INFO][2022/08/08 06:36:24 PM] Ending BayesianTracker session\n",
      "[INFO][2022/08/08 06:36:24 PM] Loaded btrack: /home/dayn/miniconda3/envs/aero/lib/python3.9/site-packages/btrack/libs/libtracker.so\n",
      "[INFO][2022/08/08 06:36:24 PM] btrack (v0.4.5) library imported\n",
      "[INFO][2022/08/08 06:36:24 PM] Starting BayesianTracker session\n",
      "[INFO][2022/08/08 06:36:24 PM] Loading configuration file: /home/dayn/analysis/BayesianTracker/models/param_test_config_hypo.json\n",
      "[INFO][2022/08/08 06:36:24 PM] Setting max_search_radius -> 500\n",
      "[INFO][2022/08/08 06:36:24 PM] Setting features -> ['area', 'major_axis_length', 'minor_axis_length', 'orientation', 'solidity', 'mean_intensity']\n",
      "[INFO][2022/08/08 06:36:24 PM] Objects are of type: <class 'list'>\n",
      "[INFO][2022/08/08 06:36:24 PM] Setting volume -> ((0, 6048), (0, 6048), (-100000.0, 100000.0))\n",
      "[INFO][2022/08/08 06:36:24 PM] Starting tracking... \n"
     ]
    },
    {
     "name": "stdout",
     "output_type": "stream",
     "text": [
      "(5, 10, 300, 100, 80) 3.2823316150229425\n"
     ]
    },
    {
     "name": "stderr",
     "output_type": "stream",
     "text": [
      "[INFO][2022/08/08 06:36:24 PM] Tracking objects in frames 0 to 24 (of 75)...\n",
      "[INFO][2022/08/08 06:36:37 PM]  - Timing (Bayesian updates: 516.01ms, Linking: 11.76ms)\n",
      "[INFO][2022/08/08 06:36:37 PM]  - Probabilities (Link: 0.97446, Lost: 1.00000)\n",
      "[INFO][2022/08/08 06:36:37 PM]  - Stats (Active: 2550, Lost: 51737, Conflicts resolved: 1956)\n",
      "[INFO][2022/08/08 06:36:37 PM] Tracking objects in frames 25 to 49 (of 75)...\n",
      "[INFO][2022/08/08 06:36:48 PM]  - Timing (Bayesian updates: 180.33ms, Linking: 6.89ms)\n",
      "[INFO][2022/08/08 06:36:48 PM]  - Probabilities (Link: 0.94544, Lost: 1.00000)\n",
      "[INFO][2022/08/08 06:36:48 PM]  - Stats (Active: 1721, Lost: 105261, Conflicts resolved: 3564)\n",
      "[INFO][2022/08/08 06:36:48 PM] Tracking objects in frames 50 to 74 (of 75)...\n",
      "[INFO][2022/08/08 06:36:49 PM]  - Timing (Bayesian updates: 11.99ms, Linking: 1.07ms)\n",
      "[INFO][2022/08/08 06:36:49 PM]  - Probabilities (Link: 0.92668, Lost: 1.00000)\n",
      "[INFO][2022/08/08 06:36:49 PM] SUCCESS.\n",
      "[INFO][2022/08/08 06:36:49 PM]  - Found 17653 tracks in 75 frames (in 0.0s)\n",
      "[INFO][2022/08/08 06:36:50 PM]  - Inserted 23139 dummy objects to fill tracking gaps\n",
      "[INFO][2022/08/08 06:36:50 PM] Ending BayesianTracker session\n",
      "[INFO][2022/08/08 06:36:50 PM] Loaded btrack: /home/dayn/miniconda3/envs/aero/lib/python3.9/site-packages/btrack/libs/libtracker.so\n",
      "[INFO][2022/08/08 06:36:50 PM] btrack (v0.4.5) library imported\n",
      "[INFO][2022/08/08 06:36:50 PM] Starting BayesianTracker session\n",
      "[INFO][2022/08/08 06:36:50 PM] Loading configuration file: /home/dayn/analysis/BayesianTracker/models/param_test_config_hypo.json\n",
      "[INFO][2022/08/08 06:36:50 PM] Setting max_search_radius -> 500\n",
      "[INFO][2022/08/08 06:36:50 PM] Setting features -> ['area', 'major_axis_length', 'minor_axis_length', 'orientation', 'solidity', 'mean_intensity']\n",
      "[INFO][2022/08/08 06:36:50 PM] Objects are of type: <class 'list'>\n"
     ]
    },
    {
     "name": "stdout",
     "output_type": "stream",
     "text": [
      "(5, 10, 300, 100, 160) 3.2823316150229425\n"
     ]
    },
    {
     "name": "stderr",
     "output_type": "stream",
     "text": [
      "[INFO][2022/08/08 06:36:50 PM] Setting volume -> ((0, 6048), (0, 6048), (-100000.0, 100000.0))\n",
      "[INFO][2022/08/08 06:36:50 PM] Starting tracking... \n",
      "[INFO][2022/08/08 06:36:51 PM] Tracking objects in frames 0 to 24 (of 75)...\n",
      "[INFO][2022/08/08 06:37:05 PM]  - Timing (Bayesian updates: 514.88ms, Linking: 11.81ms)\n",
      "[INFO][2022/08/08 06:37:05 PM]  - Probabilities (Link: 0.97446, Lost: 1.00000)\n",
      "[INFO][2022/08/08 06:37:05 PM]  - Stats (Active: 2550, Lost: 51737, Conflicts resolved: 1956)\n",
      "[INFO][2022/08/08 06:37:05 PM] Tracking objects in frames 25 to 49 (of 75)...\n",
      "[INFO][2022/08/08 06:37:16 PM]  - Timing (Bayesian updates: 179.90ms, Linking: 5.19ms)\n",
      "[INFO][2022/08/08 06:37:16 PM]  - Probabilities (Link: 0.94544, Lost: 1.00000)\n",
      "[INFO][2022/08/08 06:37:16 PM]  - Stats (Active: 1721, Lost: 105261, Conflicts resolved: 3564)\n",
      "[INFO][2022/08/08 06:37:16 PM] Tracking objects in frames 50 to 74 (of 75)...\n",
      "[INFO][2022/08/08 06:37:17 PM]  - Timing (Bayesian updates: 11.97ms, Linking: 1.08ms)\n",
      "[INFO][2022/08/08 06:37:17 PM]  - Probabilities (Link: 0.92668, Lost: 1.00000)\n",
      "[INFO][2022/08/08 06:37:17 PM] SUCCESS.\n",
      "[INFO][2022/08/08 06:37:17 PM]  - Found 17653 tracks in 75 frames (in 0.0s)\n",
      "[INFO][2022/08/08 06:37:17 PM]  - Inserted 23139 dummy objects to fill tracking gaps\n",
      "[INFO][2022/08/08 06:37:18 PM] Ending BayesianTracker session\n",
      "[INFO][2022/08/08 06:37:18 PM] Loaded btrack: /home/dayn/miniconda3/envs/aero/lib/python3.9/site-packages/btrack/libs/libtracker.so\n",
      "[INFO][2022/08/08 06:37:18 PM] btrack (v0.4.5) library imported\n",
      "[INFO][2022/08/08 06:37:18 PM] Starting BayesianTracker session\n",
      "[INFO][2022/08/08 06:37:18 PM] Loading configuration file: /home/dayn/analysis/BayesianTracker/models/param_test_config_hypo.json\n",
      "[INFO][2022/08/08 06:37:18 PM] Setting max_search_radius -> 500\n",
      "[INFO][2022/08/08 06:37:18 PM] Setting features -> ['area', 'major_axis_length', 'minor_axis_length', 'orientation', 'solidity', 'mean_intensity']\n",
      "[INFO][2022/08/08 06:37:18 PM] Objects are of type: <class 'list'>\n"
     ]
    },
    {
     "name": "stdout",
     "output_type": "stream",
     "text": [
      "(10, 1, 50, 5, 40) 3.2823316150229425\n"
     ]
    },
    {
     "name": "stderr",
     "output_type": "stream",
     "text": [
      "[INFO][2022/08/08 06:37:18 PM] Setting volume -> ((0, 6048), (0, 6048), (-100000.0, 100000.0))\n",
      "[INFO][2022/08/08 06:37:18 PM] Starting tracking... \n",
      "[INFO][2022/08/08 06:37:18 PM] Tracking objects in frames 0 to 24 (of 75)...\n",
      "[INFO][2022/08/08 06:37:31 PM]  - Timing (Bayesian updates: 517.24ms, Linking: 12.08ms)\n",
      "[INFO][2022/08/08 06:37:31 PM]  - Probabilities (Link: 0.97446, Lost: 1.00000)\n",
      "[INFO][2022/08/08 06:37:31 PM]  - Stats (Active: 2550, Lost: 51737, Conflicts resolved: 1956)\n",
      "[INFO][2022/08/08 06:37:31 PM] Tracking objects in frames 25 to 49 (of 75)...\n",
      "[INFO][2022/08/08 06:37:42 PM]  - Timing (Bayesian updates: 179.51ms, Linking: 6.25ms)\n",
      "[INFO][2022/08/08 06:37:42 PM]  - Probabilities (Link: 0.94544, Lost: 1.00000)\n",
      "[INFO][2022/08/08 06:37:42 PM]  - Stats (Active: 1721, Lost: 105261, Conflicts resolved: 3564)\n",
      "[INFO][2022/08/08 06:37:42 PM] Tracking objects in frames 50 to 74 (of 75)...\n",
      "[INFO][2022/08/08 06:37:43 PM]  - Timing (Bayesian updates: 11.71ms, Linking: 1.08ms)\n",
      "[INFO][2022/08/08 06:37:43 PM]  - Probabilities (Link: 0.92668, Lost: 1.00000)\n",
      "[INFO][2022/08/08 06:37:43 PM] SUCCESS.\n",
      "[INFO][2022/08/08 06:37:43 PM]  - Found 17653 tracks in 75 frames (in 0.0s)\n",
      "[INFO][2022/08/08 06:37:44 PM]  - Inserted 23139 dummy objects to fill tracking gaps\n",
      "[INFO][2022/08/08 06:37:44 PM] Ending BayesianTracker session\n",
      "[INFO][2022/08/08 06:37:44 PM] Loaded btrack: /home/dayn/miniconda3/envs/aero/lib/python3.9/site-packages/btrack/libs/libtracker.so\n",
      "[INFO][2022/08/08 06:37:44 PM] btrack (v0.4.5) library imported\n",
      "[INFO][2022/08/08 06:37:44 PM] Starting BayesianTracker session\n",
      "[INFO][2022/08/08 06:37:44 PM] Loading configuration file: /home/dayn/analysis/BayesianTracker/models/param_test_config_hypo.json\n",
      "[INFO][2022/08/08 06:37:44 PM] Setting max_search_radius -> 500\n",
      "[INFO][2022/08/08 06:37:44 PM] Setting features -> ['area', 'major_axis_length', 'minor_axis_length', 'orientation', 'solidity', 'mean_intensity']\n",
      "[INFO][2022/08/08 06:37:44 PM] Objects are of type: <class 'list'>\n"
     ]
    },
    {
     "name": "stdout",
     "output_type": "stream",
     "text": [
      "(10, 1, 50, 5, 80) 3.2823316150229425\n"
     ]
    },
    {
     "name": "stderr",
     "output_type": "stream",
     "text": [
      "[INFO][2022/08/08 06:37:44 PM] Setting volume -> ((0, 6048), (0, 6048), (-100000.0, 100000.0))\n",
      "[INFO][2022/08/08 06:37:44 PM] Starting tracking... \n",
      "[INFO][2022/08/08 06:37:45 PM] Tracking objects in frames 0 to 24 (of 75)...\n",
      "[INFO][2022/08/08 06:37:58 PM]  - Timing (Bayesian updates: 517.51ms, Linking: 11.90ms)\n",
      "[INFO][2022/08/08 06:37:58 PM]  - Probabilities (Link: 0.97446, Lost: 1.00000)\n",
      "[INFO][2022/08/08 06:37:58 PM]  - Stats (Active: 2550, Lost: 51737, Conflicts resolved: 1956)\n",
      "[INFO][2022/08/08 06:37:58 PM] Tracking objects in frames 25 to 49 (of 75)...\n",
      "[INFO][2022/08/08 06:38:09 PM]  - Timing (Bayesian updates: 181.06ms, Linking: 5.34ms)\n",
      "[INFO][2022/08/08 06:38:09 PM]  - Probabilities (Link: 0.94544, Lost: 1.00000)\n",
      "[INFO][2022/08/08 06:38:09 PM]  - Stats (Active: 1721, Lost: 105261, Conflicts resolved: 3564)\n",
      "[INFO][2022/08/08 06:38:09 PM] Tracking objects in frames 50 to 74 (of 75)...\n",
      "[INFO][2022/08/08 06:38:10 PM]  - Timing (Bayesian updates: 12.10ms, Linking: 1.16ms)\n",
      "[INFO][2022/08/08 06:38:10 PM]  - Probabilities (Link: 0.92668, Lost: 1.00000)\n",
      "[INFO][2022/08/08 06:38:10 PM] SUCCESS.\n",
      "[INFO][2022/08/08 06:38:10 PM]  - Found 17653 tracks in 75 frames (in 0.0s)\n",
      "[INFO][2022/08/08 06:38:10 PM]  - Inserted 23139 dummy objects to fill tracking gaps\n",
      "[INFO][2022/08/08 06:38:10 PM] Ending BayesianTracker session\n",
      "[INFO][2022/08/08 06:38:11 PM] Loaded btrack: /home/dayn/miniconda3/envs/aero/lib/python3.9/site-packages/btrack/libs/libtracker.so\n",
      "[INFO][2022/08/08 06:38:11 PM] btrack (v0.4.5) library imported\n",
      "[INFO][2022/08/08 06:38:11 PM] Starting BayesianTracker session\n",
      "[INFO][2022/08/08 06:38:11 PM] Loading configuration file: /home/dayn/analysis/BayesianTracker/models/param_test_config_hypo.json\n",
      "[INFO][2022/08/08 06:38:11 PM] Setting max_search_radius -> 500\n",
      "[INFO][2022/08/08 06:38:11 PM] Setting features -> ['area', 'major_axis_length', 'minor_axis_length', 'orientation', 'solidity', 'mean_intensity']\n",
      "[INFO][2022/08/08 06:38:11 PM] Objects are of type: <class 'list'>\n"
     ]
    },
    {
     "name": "stdout",
     "output_type": "stream",
     "text": [
      "(10, 1, 50, 5, 160) 3.2823316150229425\n"
     ]
    },
    {
     "name": "stderr",
     "output_type": "stream",
     "text": [
      "[INFO][2022/08/08 06:38:11 PM] Setting volume -> ((0, 6048), (0, 6048), (-100000.0, 100000.0))\n",
      "[INFO][2022/08/08 06:38:11 PM] Starting tracking... \n",
      "[INFO][2022/08/08 06:38:11 PM] Tracking objects in frames 0 to 24 (of 75)...\n",
      "[INFO][2022/08/08 06:38:24 PM]  - Timing (Bayesian updates: 516.91ms, Linking: 11.96ms)\n",
      "[INFO][2022/08/08 06:38:24 PM]  - Probabilities (Link: 0.97446, Lost: 1.00000)\n",
      "[INFO][2022/08/08 06:38:24 PM]  - Stats (Active: 2550, Lost: 51737, Conflicts resolved: 1956)\n",
      "[INFO][2022/08/08 06:38:24 PM] Tracking objects in frames 25 to 49 (of 75)...\n",
      "[INFO][2022/08/08 06:38:35 PM]  - Timing (Bayesian updates: 180.24ms, Linking: 5.73ms)\n",
      "[INFO][2022/08/08 06:38:35 PM]  - Probabilities (Link: 0.94544, Lost: 1.00000)\n",
      "[INFO][2022/08/08 06:38:35 PM]  - Stats (Active: 1721, Lost: 105261, Conflicts resolved: 3564)\n",
      "[INFO][2022/08/08 06:38:35 PM] Tracking objects in frames 50 to 74 (of 75)...\n",
      "[INFO][2022/08/08 06:38:36 PM]  - Timing (Bayesian updates: 11.97ms, Linking: 1.07ms)\n",
      "[INFO][2022/08/08 06:38:36 PM]  - Probabilities (Link: 0.92668, Lost: 1.00000)\n",
      "[INFO][2022/08/08 06:38:36 PM] SUCCESS.\n",
      "[INFO][2022/08/08 06:38:36 PM]  - Found 17653 tracks in 75 frames (in 0.0s)\n",
      "[INFO][2022/08/08 06:38:37 PM]  - Inserted 23139 dummy objects to fill tracking gaps\n",
      "[INFO][2022/08/08 06:38:37 PM] Ending BayesianTracker session\n",
      "[INFO][2022/08/08 06:38:37 PM] Loaded btrack: /home/dayn/miniconda3/envs/aero/lib/python3.9/site-packages/btrack/libs/libtracker.so\n",
      "[INFO][2022/08/08 06:38:37 PM] btrack (v0.4.5) library imported\n",
      "[INFO][2022/08/08 06:38:37 PM] Starting BayesianTracker session\n",
      "[INFO][2022/08/08 06:38:37 PM] Loading configuration file: /home/dayn/analysis/BayesianTracker/models/param_test_config_hypo.json\n",
      "[INFO][2022/08/08 06:38:37 PM] Setting max_search_radius -> 500\n",
      "[INFO][2022/08/08 06:38:37 PM] Setting features -> ['area', 'major_axis_length', 'minor_axis_length', 'orientation', 'solidity', 'mean_intensity']\n",
      "[INFO][2022/08/08 06:38:37 PM] Objects are of type: <class 'list'>\n"
     ]
    },
    {
     "name": "stdout",
     "output_type": "stream",
     "text": [
      "(10, 1, 50, 20, 40) 3.2823316150229425\n"
     ]
    },
    {
     "name": "stderr",
     "output_type": "stream",
     "text": [
      "[INFO][2022/08/08 06:38:37 PM] Setting volume -> ((0, 6048), (0, 6048), (-100000.0, 100000.0))\n",
      "[INFO][2022/08/08 06:38:37 PM] Starting tracking... \n",
      "[INFO][2022/08/08 06:38:38 PM] Tracking objects in frames 0 to 24 (of 75)...\n",
      "[INFO][2022/08/08 06:38:51 PM]  - Timing (Bayesian updates: 523.22ms, Linking: 12.25ms)\n",
      "[INFO][2022/08/08 06:38:51 PM]  - Probabilities (Link: 0.97446, Lost: 1.00000)\n",
      "[INFO][2022/08/08 06:38:51 PM]  - Stats (Active: 2550, Lost: 51737, Conflicts resolved: 1956)\n",
      "[INFO][2022/08/08 06:38:51 PM] Tracking objects in frames 25 to 49 (of 75)...\n",
      "[INFO][2022/08/08 06:39:02 PM]  - Timing (Bayesian updates: 179.35ms, Linking: 5.71ms)\n",
      "[INFO][2022/08/08 06:39:02 PM]  - Probabilities (Link: 0.94544, Lost: 1.00000)\n",
      "[INFO][2022/08/08 06:39:02 PM]  - Stats (Active: 1721, Lost: 105261, Conflicts resolved: 3564)\n",
      "[INFO][2022/08/08 06:39:02 PM] Tracking objects in frames 50 to 74 (of 75)...\n",
      "[INFO][2022/08/08 06:39:04 PM]  - Timing (Bayesian updates: 11.84ms, Linking: 1.08ms)\n",
      "[INFO][2022/08/08 06:39:04 PM]  - Probabilities (Link: 0.92668, Lost: 1.00000)\n",
      "[INFO][2022/08/08 06:39:04 PM] SUCCESS.\n",
      "[INFO][2022/08/08 06:39:04 PM]  - Found 17653 tracks in 75 frames (in 0.0s)\n",
      "[INFO][2022/08/08 06:39:04 PM]  - Inserted 23139 dummy objects to fill tracking gaps\n",
      "[INFO][2022/08/08 06:39:04 PM] Ending BayesianTracker session\n",
      "[INFO][2022/08/08 06:39:05 PM] Loaded btrack: /home/dayn/miniconda3/envs/aero/lib/python3.9/site-packages/btrack/libs/libtracker.so\n",
      "[INFO][2022/08/08 06:39:05 PM] btrack (v0.4.5) library imported\n",
      "[INFO][2022/08/08 06:39:05 PM] Starting BayesianTracker session\n",
      "[INFO][2022/08/08 06:39:05 PM] Loading configuration file: /home/dayn/analysis/BayesianTracker/models/param_test_config_hypo.json\n",
      "[INFO][2022/08/08 06:39:05 PM] Setting max_search_radius -> 500\n",
      "[INFO][2022/08/08 06:39:05 PM] Setting features -> ['area', 'major_axis_length', 'minor_axis_length', 'orientation', 'solidity', 'mean_intensity']\n",
      "[INFO][2022/08/08 06:39:05 PM] Objects are of type: <class 'list'>\n",
      "[INFO][2022/08/08 06:39:05 PM] Setting volume -> ((0, 6048), (0, 6048), (-100000.0, 100000.0))\n",
      "[INFO][2022/08/08 06:39:05 PM] Starting tracking... \n"
     ]
    },
    {
     "name": "stdout",
     "output_type": "stream",
     "text": [
      "(10, 1, 50, 20, 80) 3.2823316150229425\n"
     ]
    },
    {
     "name": "stderr",
     "output_type": "stream",
     "text": [
      "[INFO][2022/08/08 06:39:05 PM] Tracking objects in frames 0 to 24 (of 75)...\n",
      "[INFO][2022/08/08 06:39:18 PM]  - Timing (Bayesian updates: 515.76ms, Linking: 11.85ms)\n",
      "[INFO][2022/08/08 06:39:18 PM]  - Probabilities (Link: 0.97446, Lost: 1.00000)\n",
      "[INFO][2022/08/08 06:39:18 PM]  - Stats (Active: 2550, Lost: 51737, Conflicts resolved: 1956)\n",
      "[INFO][2022/08/08 06:39:18 PM] Tracking objects in frames 25 to 49 (of 75)...\n",
      "[INFO][2022/08/08 06:39:29 PM]  - Timing (Bayesian updates: 178.90ms, Linking: 5.48ms)\n",
      "[INFO][2022/08/08 06:39:29 PM]  - Probabilities (Link: 0.94544, Lost: 1.00000)\n",
      "[INFO][2022/08/08 06:39:29 PM]  - Stats (Active: 1721, Lost: 105261, Conflicts resolved: 3564)\n",
      "[INFO][2022/08/08 06:39:29 PM] Tracking objects in frames 50 to 74 (of 75)...\n",
      "[INFO][2022/08/08 06:39:30 PM]  - Timing (Bayesian updates: 11.89ms, Linking: 1.08ms)\n",
      "[INFO][2022/08/08 06:39:30 PM]  - Probabilities (Link: 0.92668, Lost: 1.00000)\n",
      "[INFO][2022/08/08 06:39:30 PM] SUCCESS.\n",
      "[INFO][2022/08/08 06:39:30 PM]  - Found 17653 tracks in 75 frames (in 0.0s)\n",
      "[INFO][2022/08/08 06:39:30 PM]  - Inserted 23139 dummy objects to fill tracking gaps\n",
      "[INFO][2022/08/08 06:39:31 PM] Ending BayesianTracker session\n",
      "[INFO][2022/08/08 06:39:31 PM] Loaded btrack: /home/dayn/miniconda3/envs/aero/lib/python3.9/site-packages/btrack/libs/libtracker.so\n",
      "[INFO][2022/08/08 06:39:31 PM] btrack (v0.4.5) library imported\n",
      "[INFO][2022/08/08 06:39:31 PM] Starting BayesianTracker session\n",
      "[INFO][2022/08/08 06:39:31 PM] Loading configuration file: /home/dayn/analysis/BayesianTracker/models/param_test_config_hypo.json\n",
      "[INFO][2022/08/08 06:39:31 PM] Setting max_search_radius -> 500\n",
      "[INFO][2022/08/08 06:39:31 PM] Setting features -> ['area', 'major_axis_length', 'minor_axis_length', 'orientation', 'solidity', 'mean_intensity']\n",
      "[INFO][2022/08/08 06:39:31 PM] Objects are of type: <class 'list'>\n"
     ]
    },
    {
     "name": "stdout",
     "output_type": "stream",
     "text": [
      "(10, 1, 50, 20, 160) 3.2823316150229425\n"
     ]
    },
    {
     "name": "stderr",
     "output_type": "stream",
     "text": [
      "[INFO][2022/08/08 06:39:31 PM] Setting volume -> ((0, 6048), (0, 6048), (-100000.0, 100000.0))\n",
      "[INFO][2022/08/08 06:39:31 PM] Starting tracking... \n",
      "[INFO][2022/08/08 06:39:31 PM] Tracking objects in frames 0 to 24 (of 75)...\n",
      "[INFO][2022/08/08 06:39:44 PM]  - Timing (Bayesian updates: 516.76ms, Linking: 12.00ms)\n",
      "[INFO][2022/08/08 06:39:44 PM]  - Probabilities (Link: 0.97446, Lost: 1.00000)\n",
      "[INFO][2022/08/08 06:39:44 PM]  - Stats (Active: 2550, Lost: 51737, Conflicts resolved: 1956)\n",
      "[INFO][2022/08/08 06:39:44 PM] Tracking objects in frames 25 to 49 (of 75)...\n",
      "[INFO][2022/08/08 06:39:55 PM]  - Timing (Bayesian updates: 178.18ms, Linking: 5.87ms)\n",
      "[INFO][2022/08/08 06:39:55 PM]  - Probabilities (Link: 0.94544, Lost: 1.00000)\n",
      "[INFO][2022/08/08 06:39:55 PM]  - Stats (Active: 1721, Lost: 105261, Conflicts resolved: 3564)\n",
      "[INFO][2022/08/08 06:39:55 PM] Tracking objects in frames 50 to 74 (of 75)...\n",
      "[INFO][2022/08/08 06:39:57 PM]  - Timing (Bayesian updates: 14.96ms, Linking: 1.27ms)\n",
      "[INFO][2022/08/08 06:39:57 PM]  - Probabilities (Link: 0.92668, Lost: 1.00000)\n",
      "[INFO][2022/08/08 06:39:57 PM] SUCCESS.\n",
      "[INFO][2022/08/08 06:39:57 PM]  - Found 17653 tracks in 75 frames (in 0.0s)\n",
      "[INFO][2022/08/08 06:39:57 PM]  - Inserted 23139 dummy objects to fill tracking gaps\n",
      "[INFO][2022/08/08 06:39:58 PM] Ending BayesianTracker session\n",
      "[INFO][2022/08/08 06:39:58 PM] Loaded btrack: /home/dayn/miniconda3/envs/aero/lib/python3.9/site-packages/btrack/libs/libtracker.so\n",
      "[INFO][2022/08/08 06:39:58 PM] btrack (v0.4.5) library imported\n",
      "[INFO][2022/08/08 06:39:58 PM] Starting BayesianTracker session\n",
      "[INFO][2022/08/08 06:39:58 PM] Loading configuration file: /home/dayn/analysis/BayesianTracker/models/param_test_config_hypo.json\n",
      "[INFO][2022/08/08 06:39:58 PM] Setting max_search_radius -> 500\n",
      "[INFO][2022/08/08 06:39:58 PM] Setting features -> ['area', 'major_axis_length', 'minor_axis_length', 'orientation', 'solidity', 'mean_intensity']\n",
      "[INFO][2022/08/08 06:39:58 PM] Objects are of type: <class 'list'>\n"
     ]
    },
    {
     "name": "stdout",
     "output_type": "stream",
     "text": [
      "(10, 1, 50, 100, 40) 3.2823316150229425\n"
     ]
    },
    {
     "name": "stderr",
     "output_type": "stream",
     "text": [
      "[INFO][2022/08/08 06:39:58 PM] Setting volume -> ((0, 6048), (0, 6048), (-100000.0, 100000.0))\n",
      "[INFO][2022/08/08 06:39:58 PM] Starting tracking... \n",
      "[INFO][2022/08/08 06:39:58 PM] Tracking objects in frames 0 to 24 (of 75)...\n",
      "[INFO][2022/08/08 06:40:12 PM]  - Timing (Bayesian updates: 518.33ms, Linking: 11.80ms)\n",
      "[INFO][2022/08/08 06:40:12 PM]  - Probabilities (Link: 0.97446, Lost: 1.00000)\n",
      "[INFO][2022/08/08 06:40:12 PM]  - Stats (Active: 2550, Lost: 51737, Conflicts resolved: 1956)\n",
      "[INFO][2022/08/08 06:40:12 PM] Tracking objects in frames 25 to 49 (of 75)...\n",
      "[INFO][2022/08/08 06:40:23 PM]  - Timing (Bayesian updates: 179.80ms, Linking: 6.46ms)\n",
      "[INFO][2022/08/08 06:40:23 PM]  - Probabilities (Link: 0.94544, Lost: 1.00000)\n",
      "[INFO][2022/08/08 06:40:23 PM]  - Stats (Active: 1721, Lost: 105261, Conflicts resolved: 3564)\n",
      "[INFO][2022/08/08 06:40:23 PM] Tracking objects in frames 50 to 74 (of 75)...\n",
      "[INFO][2022/08/08 06:40:24 PM]  - Timing (Bayesian updates: 12.04ms, Linking: 1.07ms)\n",
      "[INFO][2022/08/08 06:40:24 PM]  - Probabilities (Link: 0.92668, Lost: 1.00000)\n",
      "[INFO][2022/08/08 06:40:24 PM] SUCCESS.\n",
      "[INFO][2022/08/08 06:40:24 PM]  - Found 17653 tracks in 75 frames (in 0.0s)\n",
      "[INFO][2022/08/08 06:40:24 PM]  - Inserted 23139 dummy objects to fill tracking gaps\n",
      "[INFO][2022/08/08 06:40:25 PM] Ending BayesianTracker session\n",
      "[INFO][2022/08/08 06:40:25 PM] Loaded btrack: /home/dayn/miniconda3/envs/aero/lib/python3.9/site-packages/btrack/libs/libtracker.so\n",
      "[INFO][2022/08/08 06:40:25 PM] btrack (v0.4.5) library imported\n",
      "[INFO][2022/08/08 06:40:25 PM] Starting BayesianTracker session\n",
      "[INFO][2022/08/08 06:40:25 PM] Loading configuration file: /home/dayn/analysis/BayesianTracker/models/param_test_config_hypo.json\n",
      "[INFO][2022/08/08 06:40:25 PM] Setting max_search_radius -> 500\n",
      "[INFO][2022/08/08 06:40:25 PM] Setting features -> ['area', 'major_axis_length', 'minor_axis_length', 'orientation', 'solidity', 'mean_intensity']\n",
      "[INFO][2022/08/08 06:40:25 PM] Objects are of type: <class 'list'>\n"
     ]
    },
    {
     "name": "stdout",
     "output_type": "stream",
     "text": [
      "(10, 1, 50, 100, 80) 3.2823316150229425\n"
     ]
    },
    {
     "name": "stderr",
     "output_type": "stream",
     "text": [
      "[INFO][2022/08/08 06:40:25 PM] Setting volume -> ((0, 6048), (0, 6048), (-100000.0, 100000.0))\n",
      "[INFO][2022/08/08 06:40:25 PM] Starting tracking... \n",
      "[INFO][2022/08/08 06:40:25 PM] Tracking objects in frames 0 to 24 (of 75)...\n",
      "[INFO][2022/08/08 06:40:38 PM]  - Timing (Bayesian updates: 517.87ms, Linking: 11.95ms)\n",
      "[INFO][2022/08/08 06:40:38 PM]  - Probabilities (Link: 0.97446, Lost: 1.00000)\n",
      "[INFO][2022/08/08 06:40:38 PM]  - Stats (Active: 2550, Lost: 51737, Conflicts resolved: 1956)\n",
      "[INFO][2022/08/08 06:40:38 PM] Tracking objects in frames 25 to 49 (of 75)...\n",
      "[INFO][2022/08/08 06:40:49 PM]  - Timing (Bayesian updates: 179.27ms, Linking: 5.37ms)\n",
      "[INFO][2022/08/08 06:40:49 PM]  - Probabilities (Link: 0.94544, Lost: 1.00000)\n",
      "[INFO][2022/08/08 06:40:49 PM]  - Stats (Active: 1721, Lost: 105261, Conflicts resolved: 3564)\n",
      "[INFO][2022/08/08 06:40:49 PM] Tracking objects in frames 50 to 74 (of 75)...\n",
      "[INFO][2022/08/08 06:40:51 PM]  - Timing (Bayesian updates: 11.98ms, Linking: 1.08ms)\n",
      "[INFO][2022/08/08 06:40:51 PM]  - Probabilities (Link: 0.92668, Lost: 1.00000)\n",
      "[INFO][2022/08/08 06:40:51 PM] SUCCESS.\n",
      "[INFO][2022/08/08 06:40:51 PM]  - Found 17653 tracks in 75 frames (in 0.0s)\n",
      "[INFO][2022/08/08 06:40:51 PM]  - Inserted 23139 dummy objects to fill tracking gaps\n",
      "[INFO][2022/08/08 06:40:51 PM] Ending BayesianTracker session\n",
      "[INFO][2022/08/08 06:40:51 PM] Loaded btrack: /home/dayn/miniconda3/envs/aero/lib/python3.9/site-packages/btrack/libs/libtracker.so\n",
      "[INFO][2022/08/08 06:40:51 PM] btrack (v0.4.5) library imported\n",
      "[INFO][2022/08/08 06:40:51 PM] Starting BayesianTracker session\n",
      "[INFO][2022/08/08 06:40:51 PM] Loading configuration file: /home/dayn/analysis/BayesianTracker/models/param_test_config_hypo.json\n",
      "[INFO][2022/08/08 06:40:51 PM] Setting max_search_radius -> 500\n",
      "[INFO][2022/08/08 06:40:51 PM] Setting features -> ['area', 'major_axis_length', 'minor_axis_length', 'orientation', 'solidity', 'mean_intensity']\n",
      "[INFO][2022/08/08 06:40:51 PM] Objects are of type: <class 'list'>\n",
      "[INFO][2022/08/08 06:40:52 PM] Setting volume -> ((0, 6048), (0, 6048), (-100000.0, 100000.0))\n",
      "[INFO][2022/08/08 06:40:52 PM] Starting tracking... \n"
     ]
    },
    {
     "name": "stdout",
     "output_type": "stream",
     "text": [
      "(10, 1, 50, 100, 160) 3.2823316150229425\n"
     ]
    },
    {
     "name": "stderr",
     "output_type": "stream",
     "text": [
      "[INFO][2022/08/08 06:40:52 PM] Tracking objects in frames 0 to 24 (of 75)...\n",
      "[INFO][2022/08/08 06:41:05 PM]  - Timing (Bayesian updates: 518.18ms, Linking: 11.53ms)\n",
      "[INFO][2022/08/08 06:41:05 PM]  - Probabilities (Link: 0.97446, Lost: 1.00000)\n",
      "[INFO][2022/08/08 06:41:05 PM]  - Stats (Active: 2550, Lost: 51737, Conflicts resolved: 1956)\n",
      "[INFO][2022/08/08 06:41:05 PM] Tracking objects in frames 25 to 49 (of 75)...\n",
      "[INFO][2022/08/08 06:41:16 PM]  - Timing (Bayesian updates: 179.58ms, Linking: 5.47ms)\n",
      "[INFO][2022/08/08 06:41:16 PM]  - Probabilities (Link: 0.94544, Lost: 1.00000)\n",
      "[INFO][2022/08/08 06:41:16 PM]  - Stats (Active: 1721, Lost: 105261, Conflicts resolved: 3564)\n",
      "[INFO][2022/08/08 06:41:16 PM] Tracking objects in frames 50 to 74 (of 75)...\n",
      "[INFO][2022/08/08 06:41:17 PM]  - Timing (Bayesian updates: 11.74ms, Linking: 1.07ms)\n",
      "[INFO][2022/08/08 06:41:17 PM]  - Probabilities (Link: 0.92668, Lost: 1.00000)\n",
      "[INFO][2022/08/08 06:41:17 PM] SUCCESS.\n",
      "[INFO][2022/08/08 06:41:17 PM]  - Found 17653 tracks in 75 frames (in 0.0s)\n",
      "[INFO][2022/08/08 06:41:17 PM]  - Inserted 23139 dummy objects to fill tracking gaps\n",
      "[INFO][2022/08/08 06:41:18 PM] Ending BayesianTracker session\n",
      "[INFO][2022/08/08 06:41:18 PM] Loaded btrack: /home/dayn/miniconda3/envs/aero/lib/python3.9/site-packages/btrack/libs/libtracker.so\n",
      "[INFO][2022/08/08 06:41:18 PM] btrack (v0.4.5) library imported\n",
      "[INFO][2022/08/08 06:41:18 PM] Starting BayesianTracker session\n",
      "[INFO][2022/08/08 06:41:18 PM] Loading configuration file: /home/dayn/analysis/BayesianTracker/models/param_test_config_hypo.json\n",
      "[INFO][2022/08/08 06:41:18 PM] Setting max_search_radius -> 500\n",
      "[INFO][2022/08/08 06:41:18 PM] Setting features -> ['area', 'major_axis_length', 'minor_axis_length', 'orientation', 'solidity', 'mean_intensity']\n",
      "[INFO][2022/08/08 06:41:18 PM] Objects are of type: <class 'list'>\n"
     ]
    },
    {
     "name": "stdout",
     "output_type": "stream",
     "text": [
      "(10, 1, 100, 5, 40) 3.2823316150229425\n"
     ]
    },
    {
     "name": "stderr",
     "output_type": "stream",
     "text": [
      "[INFO][2022/08/08 06:41:18 PM] Setting volume -> ((0, 6048), (0, 6048), (-100000.0, 100000.0))\n",
      "[INFO][2022/08/08 06:41:18 PM] Starting tracking... \n",
      "[INFO][2022/08/08 06:41:18 PM] Tracking objects in frames 0 to 24 (of 75)...\n",
      "[INFO][2022/08/08 06:41:32 PM]  - Timing (Bayesian updates: 517.99ms, Linking: 10.97ms)\n",
      "[INFO][2022/08/08 06:41:32 PM]  - Probabilities (Link: 0.97446, Lost: 1.00000)\n",
      "[INFO][2022/08/08 06:41:32 PM]  - Stats (Active: 2550, Lost: 51737, Conflicts resolved: 1956)\n",
      "[INFO][2022/08/08 06:41:32 PM] Tracking objects in frames 25 to 49 (of 75)...\n",
      "[INFO][2022/08/08 06:41:43 PM]  - Timing (Bayesian updates: 179.29ms, Linking: 5.27ms)\n",
      "[INFO][2022/08/08 06:41:43 PM]  - Probabilities (Link: 0.94544, Lost: 1.00000)\n",
      "[INFO][2022/08/08 06:41:43 PM]  - Stats (Active: 1721, Lost: 105261, Conflicts resolved: 3564)\n",
      "[INFO][2022/08/08 06:41:43 PM] Tracking objects in frames 50 to 74 (of 75)...\n",
      "[INFO][2022/08/08 06:41:44 PM]  - Timing (Bayesian updates: 11.97ms, Linking: 1.06ms)\n",
      "[INFO][2022/08/08 06:41:44 PM]  - Probabilities (Link: 0.92668, Lost: 1.00000)\n",
      "[INFO][2022/08/08 06:41:44 PM] SUCCESS.\n",
      "[INFO][2022/08/08 06:41:44 PM]  - Found 17653 tracks in 75 frames (in 0.0s)\n",
      "[INFO][2022/08/08 06:41:44 PM]  - Inserted 23139 dummy objects to fill tracking gaps\n",
      "[INFO][2022/08/08 06:41:45 PM] Ending BayesianTracker session\n",
      "[INFO][2022/08/08 06:41:45 PM] Loaded btrack: /home/dayn/miniconda3/envs/aero/lib/python3.9/site-packages/btrack/libs/libtracker.so\n",
      "[INFO][2022/08/08 06:41:45 PM] btrack (v0.4.5) library imported\n",
      "[INFO][2022/08/08 06:41:45 PM] Starting BayesianTracker session\n",
      "[INFO][2022/08/08 06:41:45 PM] Loading configuration file: /home/dayn/analysis/BayesianTracker/models/param_test_config_hypo.json\n",
      "[INFO][2022/08/08 06:41:45 PM] Setting max_search_radius -> 500\n",
      "[INFO][2022/08/08 06:41:45 PM] Setting features -> ['area', 'major_axis_length', 'minor_axis_length', 'orientation', 'solidity', 'mean_intensity']\n",
      "[INFO][2022/08/08 06:41:45 PM] Objects are of type: <class 'list'>\n"
     ]
    },
    {
     "name": "stdout",
     "output_type": "stream",
     "text": [
      "(10, 1, 100, 5, 80) 3.2823316150229425\n"
     ]
    },
    {
     "name": "stderr",
     "output_type": "stream",
     "text": [
      "[INFO][2022/08/08 06:41:45 PM] Setting volume -> ((0, 6048), (0, 6048), (-100000.0, 100000.0))\n",
      "[INFO][2022/08/08 06:41:45 PM] Starting tracking... \n",
      "[INFO][2022/08/08 06:41:45 PM] Tracking objects in frames 0 to 24 (of 75)...\n",
      "[INFO][2022/08/08 06:41:59 PM]  - Timing (Bayesian updates: 517.64ms, Linking: 11.94ms)\n",
      "[INFO][2022/08/08 06:41:59 PM]  - Probabilities (Link: 0.97446, Lost: 1.00000)\n",
      "[INFO][2022/08/08 06:41:59 PM]  - Stats (Active: 2550, Lost: 51737, Conflicts resolved: 1956)\n",
      "[INFO][2022/08/08 06:41:59 PM] Tracking objects in frames 25 to 49 (of 75)...\n",
      "[INFO][2022/08/08 06:42:10 PM]  - Timing (Bayesian updates: 179.34ms, Linking: 5.75ms)\n",
      "[INFO][2022/08/08 06:42:10 PM]  - Probabilities (Link: 0.94544, Lost: 1.00000)\n",
      "[INFO][2022/08/08 06:42:10 PM]  - Stats (Active: 1721, Lost: 105261, Conflicts resolved: 3564)\n",
      "[INFO][2022/08/08 06:42:10 PM] Tracking objects in frames 50 to 74 (of 75)...\n",
      "[INFO][2022/08/08 06:42:11 PM]  - Timing (Bayesian updates: 12.01ms, Linking: 1.03ms)\n",
      "[INFO][2022/08/08 06:42:11 PM]  - Probabilities (Link: 0.92668, Lost: 1.00000)\n",
      "[INFO][2022/08/08 06:42:11 PM] SUCCESS.\n",
      "[INFO][2022/08/08 06:42:11 PM]  - Found 17653 tracks in 75 frames (in 0.0s)\n",
      "[INFO][2022/08/08 06:42:11 PM]  - Inserted 23139 dummy objects to fill tracking gaps\n",
      "[INFO][2022/08/08 06:42:12 PM] Ending BayesianTracker session\n",
      "[INFO][2022/08/08 06:42:12 PM] Loaded btrack: /home/dayn/miniconda3/envs/aero/lib/python3.9/site-packages/btrack/libs/libtracker.so\n",
      "[INFO][2022/08/08 06:42:12 PM] btrack (v0.4.5) library imported\n",
      "[INFO][2022/08/08 06:42:12 PM] Starting BayesianTracker session\n",
      "[INFO][2022/08/08 06:42:12 PM] Loading configuration file: /home/dayn/analysis/BayesianTracker/models/param_test_config_hypo.json\n",
      "[INFO][2022/08/08 06:42:12 PM] Setting max_search_radius -> 500\n",
      "[INFO][2022/08/08 06:42:12 PM] Setting features -> ['area', 'major_axis_length', 'minor_axis_length', 'orientation', 'solidity', 'mean_intensity']\n",
      "[INFO][2022/08/08 06:42:12 PM] Objects are of type: <class 'list'>\n",
      "[INFO][2022/08/08 06:42:12 PM] Setting volume -> ((0, 6048), (0, 6048), (-100000.0, 100000.0))\n",
      "[INFO][2022/08/08 06:42:12 PM] Starting tracking... \n"
     ]
    },
    {
     "name": "stdout",
     "output_type": "stream",
     "text": [
      "(10, 1, 100, 5, 160) 3.2823316150229425\n"
     ]
    },
    {
     "name": "stderr",
     "output_type": "stream",
     "text": [
      "[INFO][2022/08/08 06:42:12 PM] Tracking objects in frames 0 to 24 (of 75)...\n",
      "[INFO][2022/08/08 06:42:25 PM]  - Timing (Bayesian updates: 516.68ms, Linking: 11.89ms)\n",
      "[INFO][2022/08/08 06:42:25 PM]  - Probabilities (Link: 0.97446, Lost: 1.00000)\n",
      "[INFO][2022/08/08 06:42:25 PM]  - Stats (Active: 2550, Lost: 51737, Conflicts resolved: 1956)\n",
      "[INFO][2022/08/08 06:42:25 PM] Tracking objects in frames 25 to 49 (of 75)...\n",
      "[INFO][2022/08/08 06:42:36 PM]  - Timing (Bayesian updates: 184.55ms, Linking: 6.94ms)\n",
      "[INFO][2022/08/08 06:42:36 PM]  - Probabilities (Link: 0.94544, Lost: 1.00000)\n",
      "[INFO][2022/08/08 06:42:36 PM]  - Stats (Active: 1721, Lost: 105261, Conflicts resolved: 3564)\n",
      "[INFO][2022/08/08 06:42:36 PM] Tracking objects in frames 50 to 74 (of 75)...\n",
      "[INFO][2022/08/08 06:42:37 PM]  - Timing (Bayesian updates: 11.80ms, Linking: 1.03ms)\n",
      "[INFO][2022/08/08 06:42:37 PM]  - Probabilities (Link: 0.92668, Lost: 1.00000)\n",
      "[INFO][2022/08/08 06:42:37 PM] SUCCESS.\n",
      "[INFO][2022/08/08 06:42:37 PM]  - Found 17653 tracks in 75 frames (in 0.0s)\n",
      "[INFO][2022/08/08 06:42:38 PM]  - Inserted 23139 dummy objects to fill tracking gaps\n",
      "[INFO][2022/08/08 06:42:38 PM] Ending BayesianTracker session\n",
      "[INFO][2022/08/08 06:42:38 PM] Loaded btrack: /home/dayn/miniconda3/envs/aero/lib/python3.9/site-packages/btrack/libs/libtracker.so\n",
      "[INFO][2022/08/08 06:42:38 PM] btrack (v0.4.5) library imported\n",
      "[INFO][2022/08/08 06:42:38 PM] Starting BayesianTracker session\n",
      "[INFO][2022/08/08 06:42:38 PM] Loading configuration file: /home/dayn/analysis/BayesianTracker/models/param_test_config_hypo.json\n",
      "[INFO][2022/08/08 06:42:38 PM] Setting max_search_radius -> 500\n",
      "[INFO][2022/08/08 06:42:38 PM] Setting features -> ['area', 'major_axis_length', 'minor_axis_length', 'orientation', 'solidity', 'mean_intensity']\n",
      "[INFO][2022/08/08 06:42:38 PM] Objects are of type: <class 'list'>\n"
     ]
    },
    {
     "name": "stdout",
     "output_type": "stream",
     "text": [
      "(10, 1, 100, 20, 40) 3.2823316150229425\n"
     ]
    },
    {
     "name": "stderr",
     "output_type": "stream",
     "text": [
      "[INFO][2022/08/08 06:42:38 PM] Setting volume -> ((0, 6048), (0, 6048), (-100000.0, 100000.0))\n",
      "[INFO][2022/08/08 06:42:38 PM] Starting tracking... \n",
      "[INFO][2022/08/08 06:42:39 PM] Tracking objects in frames 0 to 24 (of 75)...\n",
      "[INFO][2022/08/08 06:42:52 PM]  - Timing (Bayesian updates: 531.39ms, Linking: 12.13ms)\n",
      "[INFO][2022/08/08 06:42:52 PM]  - Probabilities (Link: 0.97446, Lost: 1.00000)\n",
      "[INFO][2022/08/08 06:42:52 PM]  - Stats (Active: 2550, Lost: 51737, Conflicts resolved: 1956)\n",
      "[INFO][2022/08/08 06:42:52 PM] Tracking objects in frames 25 to 49 (of 75)...\n",
      "[INFO][2022/08/08 06:43:03 PM]  - Timing (Bayesian updates: 180.17ms, Linking: 5.63ms)\n",
      "[INFO][2022/08/08 06:43:03 PM]  - Probabilities (Link: 0.94544, Lost: 1.00000)\n",
      "[INFO][2022/08/08 06:43:03 PM]  - Stats (Active: 1721, Lost: 105261, Conflicts resolved: 3564)\n",
      "[INFO][2022/08/08 06:43:03 PM] Tracking objects in frames 50 to 74 (of 75)...\n",
      "[INFO][2022/08/08 06:43:04 PM]  - Timing (Bayesian updates: 11.98ms, Linking: 1.09ms)\n",
      "[INFO][2022/08/08 06:43:04 PM]  - Probabilities (Link: 0.92668, Lost: 1.00000)\n",
      "[INFO][2022/08/08 06:43:04 PM] SUCCESS.\n",
      "[INFO][2022/08/08 06:43:04 PM]  - Found 17653 tracks in 75 frames (in 0.0s)\n",
      "[INFO][2022/08/08 06:43:04 PM]  - Inserted 23139 dummy objects to fill tracking gaps\n",
      "[INFO][2022/08/08 06:43:05 PM] Ending BayesianTracker session\n",
      "[INFO][2022/08/08 06:43:05 PM] Loaded btrack: /home/dayn/miniconda3/envs/aero/lib/python3.9/site-packages/btrack/libs/libtracker.so\n",
      "[INFO][2022/08/08 06:43:05 PM] btrack (v0.4.5) library imported\n",
      "[INFO][2022/08/08 06:43:05 PM] Starting BayesianTracker session\n",
      "[INFO][2022/08/08 06:43:05 PM] Loading configuration file: /home/dayn/analysis/BayesianTracker/models/param_test_config_hypo.json\n",
      "[INFO][2022/08/08 06:43:05 PM] Setting max_search_radius -> 500\n",
      "[INFO][2022/08/08 06:43:05 PM] Setting features -> ['area', 'major_axis_length', 'minor_axis_length', 'orientation', 'solidity', 'mean_intensity']\n",
      "[INFO][2022/08/08 06:43:05 PM] Objects are of type: <class 'list'>\n"
     ]
    },
    {
     "name": "stdout",
     "output_type": "stream",
     "text": [
      "(10, 1, 100, 20, 80) 3.2823316150229425\n"
     ]
    },
    {
     "name": "stderr",
     "output_type": "stream",
     "text": [
      "[INFO][2022/08/08 06:43:05 PM] Setting volume -> ((0, 6048), (0, 6048), (-100000.0, 100000.0))\n",
      "[INFO][2022/08/08 06:43:05 PM] Starting tracking... \n",
      "[INFO][2022/08/08 06:43:05 PM] Tracking objects in frames 0 to 24 (of 75)...\n",
      "[INFO][2022/08/08 06:43:18 PM]  - Timing (Bayesian updates: 517.28ms, Linking: 11.41ms)\n",
      "[INFO][2022/08/08 06:43:18 PM]  - Probabilities (Link: 0.97446, Lost: 1.00000)\n",
      "[INFO][2022/08/08 06:43:18 PM]  - Stats (Active: 2550, Lost: 51737, Conflicts resolved: 1956)\n",
      "[INFO][2022/08/08 06:43:18 PM] Tracking objects in frames 25 to 49 (of 75)...\n",
      "[INFO][2022/08/08 06:43:30 PM]  - Timing (Bayesian updates: 181.59ms, Linking: 6.20ms)\n",
      "[INFO][2022/08/08 06:43:30 PM]  - Probabilities (Link: 0.94544, Lost: 1.00000)\n",
      "[INFO][2022/08/08 06:43:30 PM]  - Stats (Active: 1721, Lost: 105261, Conflicts resolved: 3564)\n",
      "[INFO][2022/08/08 06:43:30 PM] Tracking objects in frames 50 to 74 (of 75)...\n",
      "[INFO][2022/08/08 06:43:32 PM]  - Timing (Bayesian updates: 11.83ms, Linking: 1.09ms)\n",
      "[INFO][2022/08/08 06:43:32 PM]  - Probabilities (Link: 0.92668, Lost: 1.00000)\n",
      "[INFO][2022/08/08 06:43:32 PM] SUCCESS.\n",
      "[INFO][2022/08/08 06:43:32 PM]  - Found 17653 tracks in 75 frames (in 0.0s)\n",
      "[INFO][2022/08/08 06:43:32 PM]  - Inserted 23139 dummy objects to fill tracking gaps\n",
      "[INFO][2022/08/08 06:43:32 PM] Ending BayesianTracker session\n",
      "[INFO][2022/08/08 06:43:32 PM] Loaded btrack: /home/dayn/miniconda3/envs/aero/lib/python3.9/site-packages/btrack/libs/libtracker.so\n",
      "[INFO][2022/08/08 06:43:32 PM] btrack (v0.4.5) library imported\n",
      "[INFO][2022/08/08 06:43:32 PM] Starting BayesianTracker session\n",
      "[INFO][2022/08/08 06:43:32 PM] Loading configuration file: /home/dayn/analysis/BayesianTracker/models/param_test_config_hypo.json\n",
      "[INFO][2022/08/08 06:43:32 PM] Setting max_search_radius -> 500\n",
      "[INFO][2022/08/08 06:43:32 PM] Setting features -> ['area', 'major_axis_length', 'minor_axis_length', 'orientation', 'solidity', 'mean_intensity']\n",
      "[INFO][2022/08/08 06:43:32 PM] Objects are of type: <class 'list'>\n"
     ]
    },
    {
     "name": "stdout",
     "output_type": "stream",
     "text": [
      "(10, 1, 100, 20, 160) 3.2823316150229425\n"
     ]
    },
    {
     "name": "stderr",
     "output_type": "stream",
     "text": [
      "[INFO][2022/08/08 06:43:33 PM] Setting volume -> ((0, 6048), (0, 6048), (-100000.0, 100000.0))\n",
      "[INFO][2022/08/08 06:43:33 PM] Starting tracking... \n",
      "[INFO][2022/08/08 06:43:33 PM] Tracking objects in frames 0 to 24 (of 75)...\n",
      "[INFO][2022/08/08 06:43:46 PM]  - Timing (Bayesian updates: 520.55ms, Linking: 11.91ms)\n",
      "[INFO][2022/08/08 06:43:46 PM]  - Probabilities (Link: 0.97446, Lost: 1.00000)\n",
      "[INFO][2022/08/08 06:43:46 PM]  - Stats (Active: 2550, Lost: 51737, Conflicts resolved: 1956)\n",
      "[INFO][2022/08/08 06:43:46 PM] Tracking objects in frames 25 to 49 (of 75)...\n",
      "[INFO][2022/08/08 06:43:57 PM]  - Timing (Bayesian updates: 178.16ms, Linking: 5.35ms)\n",
      "[INFO][2022/08/08 06:43:57 PM]  - Probabilities (Link: 0.94544, Lost: 1.00000)\n",
      "[INFO][2022/08/08 06:43:57 PM]  - Stats (Active: 1721, Lost: 105261, Conflicts resolved: 3564)\n",
      "[INFO][2022/08/08 06:43:57 PM] Tracking objects in frames 50 to 74 (of 75)...\n",
      "[INFO][2022/08/08 06:43:58 PM]  - Timing (Bayesian updates: 12.25ms, Linking: 1.09ms)\n",
      "[INFO][2022/08/08 06:43:58 PM]  - Probabilities (Link: 0.92668, Lost: 1.00000)\n",
      "[INFO][2022/08/08 06:43:58 PM] SUCCESS.\n",
      "[INFO][2022/08/08 06:43:58 PM]  - Found 17653 tracks in 75 frames (in 0.0s)\n",
      "[INFO][2022/08/08 06:43:58 PM]  - Inserted 23139 dummy objects to fill tracking gaps\n",
      "[INFO][2022/08/08 06:43:59 PM] Ending BayesianTracker session\n",
      "[INFO][2022/08/08 06:43:59 PM] Loaded btrack: /home/dayn/miniconda3/envs/aero/lib/python3.9/site-packages/btrack/libs/libtracker.so\n",
      "[INFO][2022/08/08 06:43:59 PM] btrack (v0.4.5) library imported\n",
      "[INFO][2022/08/08 06:43:59 PM] Starting BayesianTracker session\n",
      "[INFO][2022/08/08 06:43:59 PM] Loading configuration file: /home/dayn/analysis/BayesianTracker/models/param_test_config_hypo.json\n",
      "[INFO][2022/08/08 06:43:59 PM] Setting max_search_radius -> 500\n",
      "[INFO][2022/08/08 06:43:59 PM] Setting features -> ['area', 'major_axis_length', 'minor_axis_length', 'orientation', 'solidity', 'mean_intensity']\n",
      "[INFO][2022/08/08 06:43:59 PM] Objects are of type: <class 'list'>\n"
     ]
    },
    {
     "name": "stdout",
     "output_type": "stream",
     "text": [
      "(10, 1, 100, 100, 40) 3.2823316150229425\n"
     ]
    },
    {
     "name": "stderr",
     "output_type": "stream",
     "text": [
      "[INFO][2022/08/08 06:43:59 PM] Setting volume -> ((0, 6048), (0, 6048), (-100000.0, 100000.0))\n",
      "[INFO][2022/08/08 06:43:59 PM] Starting tracking... \n",
      "[INFO][2022/08/08 06:43:59 PM] Tracking objects in frames 0 to 24 (of 75)...\n",
      "[INFO][2022/08/08 06:44:12 PM]  - Timing (Bayesian updates: 522.55ms, Linking: 12.36ms)\n",
      "[INFO][2022/08/08 06:44:12 PM]  - Probabilities (Link: 0.97446, Lost: 1.00000)\n",
      "[INFO][2022/08/08 06:44:12 PM]  - Stats (Active: 2550, Lost: 51737, Conflicts resolved: 1956)\n",
      "[INFO][2022/08/08 06:44:12 PM] Tracking objects in frames 25 to 49 (of 75)...\n",
      "[INFO][2022/08/08 06:44:23 PM]  - Timing (Bayesian updates: 178.61ms, Linking: 5.34ms)\n",
      "[INFO][2022/08/08 06:44:23 PM]  - Probabilities (Link: 0.94544, Lost: 1.00000)\n",
      "[INFO][2022/08/08 06:44:23 PM]  - Stats (Active: 1721, Lost: 105261, Conflicts resolved: 3564)\n",
      "[INFO][2022/08/08 06:44:23 PM] Tracking objects in frames 50 to 74 (of 75)...\n",
      "[INFO][2022/08/08 06:44:24 PM]  - Timing (Bayesian updates: 11.61ms, Linking: 1.04ms)\n",
      "[INFO][2022/08/08 06:44:24 PM]  - Probabilities (Link: 0.92668, Lost: 1.00000)\n",
      "[INFO][2022/08/08 06:44:24 PM] SUCCESS.\n",
      "[INFO][2022/08/08 06:44:24 PM]  - Found 17653 tracks in 75 frames (in 0.0s)\n",
      "[INFO][2022/08/08 06:44:25 PM]  - Inserted 23139 dummy objects to fill tracking gaps\n",
      "[INFO][2022/08/08 06:44:25 PM] Ending BayesianTracker session\n",
      "[INFO][2022/08/08 06:44:25 PM] Loaded btrack: /home/dayn/miniconda3/envs/aero/lib/python3.9/site-packages/btrack/libs/libtracker.so\n",
      "[INFO][2022/08/08 06:44:25 PM] btrack (v0.4.5) library imported\n",
      "[INFO][2022/08/08 06:44:25 PM] Starting BayesianTracker session\n",
      "[INFO][2022/08/08 06:44:25 PM] Loading configuration file: /home/dayn/analysis/BayesianTracker/models/param_test_config_hypo.json\n",
      "[INFO][2022/08/08 06:44:25 PM] Setting max_search_radius -> 500\n",
      "[INFO][2022/08/08 06:44:25 PM] Setting features -> ['area', 'major_axis_length', 'minor_axis_length', 'orientation', 'solidity', 'mean_intensity']\n",
      "[INFO][2022/08/08 06:44:25 PM] Objects are of type: <class 'list'>\n",
      "[INFO][2022/08/08 06:44:25 PM] Setting volume -> ((0, 6048), (0, 6048), (-100000.0, 100000.0))\n",
      "[INFO][2022/08/08 06:44:25 PM] Starting tracking... \n"
     ]
    },
    {
     "name": "stdout",
     "output_type": "stream",
     "text": [
      "(10, 1, 100, 100, 80) 3.2823316150229425\n"
     ]
    },
    {
     "name": "stderr",
     "output_type": "stream",
     "text": [
      "[INFO][2022/08/08 06:44:26 PM] Tracking objects in frames 0 to 24 (of 75)...\n",
      "[INFO][2022/08/08 06:44:39 PM]  - Timing (Bayesian updates: 515.67ms, Linking: 11.95ms)\n",
      "[INFO][2022/08/08 06:44:39 PM]  - Probabilities (Link: 0.97446, Lost: 1.00000)\n",
      "[INFO][2022/08/08 06:44:39 PM]  - Stats (Active: 2550, Lost: 51737, Conflicts resolved: 1956)\n",
      "[INFO][2022/08/08 06:44:39 PM] Tracking objects in frames 25 to 49 (of 75)...\n",
      "[INFO][2022/08/08 06:44:50 PM]  - Timing (Bayesian updates: 178.80ms, Linking: 6.08ms)\n",
      "[INFO][2022/08/08 06:44:50 PM]  - Probabilities (Link: 0.94544, Lost: 1.00000)\n",
      "[INFO][2022/08/08 06:44:50 PM]  - Stats (Active: 1721, Lost: 105261, Conflicts resolved: 3564)\n",
      "[INFO][2022/08/08 06:44:50 PM] Tracking objects in frames 50 to 74 (of 75)...\n",
      "[INFO][2022/08/08 06:44:51 PM]  - Timing (Bayesian updates: 12.13ms, Linking: 1.05ms)\n",
      "[INFO][2022/08/08 06:44:51 PM]  - Probabilities (Link: 0.92668, Lost: 1.00000)\n",
      "[INFO][2022/08/08 06:44:51 PM] SUCCESS.\n",
      "[INFO][2022/08/08 06:44:51 PM]  - Found 17653 tracks in 75 frames (in 0.0s)\n",
      "[INFO][2022/08/08 06:44:51 PM]  - Inserted 23139 dummy objects to fill tracking gaps\n",
      "[INFO][2022/08/08 06:44:51 PM] Ending BayesianTracker session\n",
      "[INFO][2022/08/08 06:44:51 PM] Loaded btrack: /home/dayn/miniconda3/envs/aero/lib/python3.9/site-packages/btrack/libs/libtracker.so\n",
      "[INFO][2022/08/08 06:44:51 PM] btrack (v0.4.5) library imported\n",
      "[INFO][2022/08/08 06:44:51 PM] Starting BayesianTracker session\n",
      "[INFO][2022/08/08 06:44:51 PM] Loading configuration file: /home/dayn/analysis/BayesianTracker/models/param_test_config_hypo.json\n",
      "[INFO][2022/08/08 06:44:51 PM] Setting max_search_radius -> 500\n",
      "[INFO][2022/08/08 06:44:51 PM] Setting features -> ['area', 'major_axis_length', 'minor_axis_length', 'orientation', 'solidity', 'mean_intensity']\n",
      "[INFO][2022/08/08 06:44:51 PM] Objects are of type: <class 'list'>\n",
      "[INFO][2022/08/08 06:44:51 PM] Setting volume -> ((0, 6048), (0, 6048), (-100000.0, 100000.0))\n",
      "[INFO][2022/08/08 06:44:51 PM] Starting tracking... \n"
     ]
    },
    {
     "name": "stdout",
     "output_type": "stream",
     "text": [
      "(10, 1, 100, 100, 160) 3.2823316150229425\n"
     ]
    },
    {
     "name": "stderr",
     "output_type": "stream",
     "text": [
      "[INFO][2022/08/08 06:44:52 PM] Tracking objects in frames 0 to 24 (of 75)...\n",
      "[INFO][2022/08/08 06:45:05 PM]  - Timing (Bayesian updates: 517.24ms, Linking: 11.82ms)\n",
      "[INFO][2022/08/08 06:45:05 PM]  - Probabilities (Link: 0.97446, Lost: 1.00000)\n",
      "[INFO][2022/08/08 06:45:05 PM]  - Stats (Active: 2550, Lost: 51737, Conflicts resolved: 1956)\n",
      "[INFO][2022/08/08 06:45:05 PM] Tracking objects in frames 25 to 49 (of 75)...\n",
      "[INFO][2022/08/08 06:45:16 PM]  - Timing (Bayesian updates: 179.88ms, Linking: 5.80ms)\n",
      "[INFO][2022/08/08 06:45:16 PM]  - Probabilities (Link: 0.94544, Lost: 1.00000)\n",
      "[INFO][2022/08/08 06:45:16 PM]  - Stats (Active: 1721, Lost: 105261, Conflicts resolved: 3564)\n",
      "[INFO][2022/08/08 06:45:16 PM] Tracking objects in frames 50 to 74 (of 75)...\n",
      "[INFO][2022/08/08 06:45:17 PM]  - Timing (Bayesian updates: 11.78ms, Linking: 1.00ms)\n",
      "[INFO][2022/08/08 06:45:17 PM]  - Probabilities (Link: 0.92668, Lost: 1.00000)\n",
      "[INFO][2022/08/08 06:45:17 PM] SUCCESS.\n",
      "[INFO][2022/08/08 06:45:17 PM]  - Found 17653 tracks in 75 frames (in 0.0s)\n",
      "[INFO][2022/08/08 06:45:17 PM]  - Inserted 23139 dummy objects to fill tracking gaps\n",
      "[INFO][2022/08/08 06:45:18 PM] Ending BayesianTracker session\n",
      "[INFO][2022/08/08 06:45:18 PM] Loaded btrack: /home/dayn/miniconda3/envs/aero/lib/python3.9/site-packages/btrack/libs/libtracker.so\n",
      "[INFO][2022/08/08 06:45:18 PM] btrack (v0.4.5) library imported\n",
      "[INFO][2022/08/08 06:45:18 PM] Starting BayesianTracker session\n",
      "[INFO][2022/08/08 06:45:18 PM] Loading configuration file: /home/dayn/analysis/BayesianTracker/models/param_test_config_hypo.json\n",
      "[INFO][2022/08/08 06:45:18 PM] Setting max_search_radius -> 500\n",
      "[INFO][2022/08/08 06:45:18 PM] Setting features -> ['area', 'major_axis_length', 'minor_axis_length', 'orientation', 'solidity', 'mean_intensity']\n",
      "[INFO][2022/08/08 06:45:18 PM] Objects are of type: <class 'list'>\n"
     ]
    },
    {
     "name": "stdout",
     "output_type": "stream",
     "text": [
      "(10, 1, 300, 5, 40) 3.2823316150229425\n"
     ]
    },
    {
     "name": "stderr",
     "output_type": "stream",
     "text": [
      "[INFO][2022/08/08 06:45:18 PM] Setting volume -> ((0, 6048), (0, 6048), (-100000.0, 100000.0))\n",
      "[INFO][2022/08/08 06:45:18 PM] Starting tracking... \n",
      "[INFO][2022/08/08 06:45:18 PM] Tracking objects in frames 0 to 24 (of 75)...\n",
      "[INFO][2022/08/08 06:45:31 PM]  - Timing (Bayesian updates: 520.77ms, Linking: 12.10ms)\n",
      "[INFO][2022/08/08 06:45:31 PM]  - Probabilities (Link: 0.97446, Lost: 1.00000)\n",
      "[INFO][2022/08/08 06:45:31 PM]  - Stats (Active: 2550, Lost: 51737, Conflicts resolved: 1956)\n",
      "[INFO][2022/08/08 06:45:31 PM] Tracking objects in frames 25 to 49 (of 75)...\n",
      "[INFO][2022/08/08 06:45:42 PM]  - Timing (Bayesian updates: 180.92ms, Linking: 6.23ms)\n",
      "[INFO][2022/08/08 06:45:42 PM]  - Probabilities (Link: 0.94544, Lost: 1.00000)\n",
      "[INFO][2022/08/08 06:45:42 PM]  - Stats (Active: 1721, Lost: 105261, Conflicts resolved: 3564)\n",
      "[INFO][2022/08/08 06:45:42 PM] Tracking objects in frames 50 to 74 (of 75)...\n",
      "[INFO][2022/08/08 06:45:44 PM]  - Timing (Bayesian updates: 11.97ms, Linking: 1.05ms)\n",
      "[INFO][2022/08/08 06:45:44 PM]  - Probabilities (Link: 0.92668, Lost: 1.00000)\n",
      "[INFO][2022/08/08 06:45:44 PM] SUCCESS.\n",
      "[INFO][2022/08/08 06:45:44 PM]  - Found 17653 tracks in 75 frames (in 0.0s)\n",
      "[INFO][2022/08/08 06:45:44 PM]  - Inserted 23139 dummy objects to fill tracking gaps\n",
      "[INFO][2022/08/08 06:45:44 PM] Ending BayesianTracker session\n",
      "[INFO][2022/08/08 06:45:44 PM] Loaded btrack: /home/dayn/miniconda3/envs/aero/lib/python3.9/site-packages/btrack/libs/libtracker.so\n",
      "[INFO][2022/08/08 06:45:44 PM] btrack (v0.4.5) library imported\n",
      "[INFO][2022/08/08 06:45:44 PM] Starting BayesianTracker session\n",
      "[INFO][2022/08/08 06:45:44 PM] Loading configuration file: /home/dayn/analysis/BayesianTracker/models/param_test_config_hypo.json\n",
      "[INFO][2022/08/08 06:45:44 PM] Setting max_search_radius -> 500\n",
      "[INFO][2022/08/08 06:45:44 PM] Setting features -> ['area', 'major_axis_length', 'minor_axis_length', 'orientation', 'solidity', 'mean_intensity']\n",
      "[INFO][2022/08/08 06:45:44 PM] Objects are of type: <class 'list'>\n"
     ]
    },
    {
     "name": "stdout",
     "output_type": "stream",
     "text": [
      "(10, 1, 300, 5, 80) 3.2823316150229425\n"
     ]
    },
    {
     "name": "stderr",
     "output_type": "stream",
     "text": [
      "[INFO][2022/08/08 06:45:45 PM] Setting volume -> ((0, 6048), (0, 6048), (-100000.0, 100000.0))\n",
      "[INFO][2022/08/08 06:45:45 PM] Starting tracking... \n",
      "[INFO][2022/08/08 06:45:45 PM] Tracking objects in frames 0 to 24 (of 75)...\n",
      "[INFO][2022/08/08 06:45:58 PM]  - Timing (Bayesian updates: 514.86ms, Linking: 11.82ms)\n",
      "[INFO][2022/08/08 06:45:58 PM]  - Probabilities (Link: 0.97446, Lost: 1.00000)\n",
      "[INFO][2022/08/08 06:45:58 PM]  - Stats (Active: 2550, Lost: 51737, Conflicts resolved: 1956)\n",
      "[INFO][2022/08/08 06:45:58 PM] Tracking objects in frames 25 to 49 (of 75)...\n",
      "[INFO][2022/08/08 06:46:09 PM]  - Timing (Bayesian updates: 181.21ms, Linking: 5.97ms)\n",
      "[INFO][2022/08/08 06:46:09 PM]  - Probabilities (Link: 0.94544, Lost: 1.00000)\n",
      "[INFO][2022/08/08 06:46:09 PM]  - Stats (Active: 1721, Lost: 105261, Conflicts resolved: 3564)\n",
      "[INFO][2022/08/08 06:46:09 PM] Tracking objects in frames 50 to 74 (of 75)...\n",
      "[INFO][2022/08/08 06:46:10 PM]  - Timing (Bayesian updates: 15.09ms, Linking: 1.27ms)\n",
      "[INFO][2022/08/08 06:46:10 PM]  - Probabilities (Link: 0.92668, Lost: 1.00000)\n",
      "[INFO][2022/08/08 06:46:10 PM] SUCCESS.\n",
      "[INFO][2022/08/08 06:46:10 PM]  - Found 17653 tracks in 75 frames (in 0.0s)\n",
      "[INFO][2022/08/08 06:46:11 PM]  - Inserted 23139 dummy objects to fill tracking gaps\n",
      "[INFO][2022/08/08 06:46:11 PM] Ending BayesianTracker session\n",
      "[INFO][2022/08/08 06:46:11 PM] Loaded btrack: /home/dayn/miniconda3/envs/aero/lib/python3.9/site-packages/btrack/libs/libtracker.so\n",
      "[INFO][2022/08/08 06:46:11 PM] btrack (v0.4.5) library imported\n",
      "[INFO][2022/08/08 06:46:11 PM] Starting BayesianTracker session\n",
      "[INFO][2022/08/08 06:46:11 PM] Loading configuration file: /home/dayn/analysis/BayesianTracker/models/param_test_config_hypo.json\n",
      "[INFO][2022/08/08 06:46:11 PM] Setting max_search_radius -> 500\n",
      "[INFO][2022/08/08 06:46:11 PM] Setting features -> ['area', 'major_axis_length', 'minor_axis_length', 'orientation', 'solidity', 'mean_intensity']\n",
      "[INFO][2022/08/08 06:46:11 PM] Objects are of type: <class 'list'>\n"
     ]
    },
    {
     "name": "stdout",
     "output_type": "stream",
     "text": [
      "(10, 1, 300, 5, 160) 3.2823316150229425\n"
     ]
    },
    {
     "name": "stderr",
     "output_type": "stream",
     "text": [
      "[INFO][2022/08/08 06:46:11 PM] Setting volume -> ((0, 6048), (0, 6048), (-100000.0, 100000.0))\n",
      "[INFO][2022/08/08 06:46:11 PM] Starting tracking... \n",
      "[INFO][2022/08/08 06:46:12 PM] Tracking objects in frames 0 to 24 (of 75)...\n",
      "[INFO][2022/08/08 06:46:25 PM]  - Timing (Bayesian updates: 516.52ms, Linking: 12.17ms)\n",
      "[INFO][2022/08/08 06:46:25 PM]  - Probabilities (Link: 0.97446, Lost: 1.00000)\n",
      "[INFO][2022/08/08 06:46:25 PM]  - Stats (Active: 2550, Lost: 51737, Conflicts resolved: 1956)\n",
      "[INFO][2022/08/08 06:46:25 PM] Tracking objects in frames 25 to 49 (of 75)...\n",
      "[INFO][2022/08/08 06:46:36 PM]  - Timing (Bayesian updates: 178.03ms, Linking: 6.19ms)\n",
      "[INFO][2022/08/08 06:46:36 PM]  - Probabilities (Link: 0.94544, Lost: 1.00000)\n",
      "[INFO][2022/08/08 06:46:36 PM]  - Stats (Active: 1721, Lost: 105261, Conflicts resolved: 3564)\n",
      "[INFO][2022/08/08 06:46:36 PM] Tracking objects in frames 50 to 74 (of 75)...\n",
      "[INFO][2022/08/08 06:46:37 PM]  - Timing (Bayesian updates: 11.91ms, Linking: 1.09ms)\n",
      "[INFO][2022/08/08 06:46:37 PM]  - Probabilities (Link: 0.92668, Lost: 1.00000)\n",
      "[INFO][2022/08/08 06:46:37 PM] SUCCESS.\n",
      "[INFO][2022/08/08 06:46:37 PM]  - Found 17653 tracks in 75 frames (in 0.0s)\n",
      "[INFO][2022/08/08 06:46:38 PM]  - Inserted 23139 dummy objects to fill tracking gaps\n",
      "[INFO][2022/08/08 06:46:38 PM] Ending BayesianTracker session\n",
      "[INFO][2022/08/08 06:46:38 PM] Loaded btrack: /home/dayn/miniconda3/envs/aero/lib/python3.9/site-packages/btrack/libs/libtracker.so\n",
      "[INFO][2022/08/08 06:46:38 PM] btrack (v0.4.5) library imported\n",
      "[INFO][2022/08/08 06:46:38 PM] Starting BayesianTracker session\n",
      "[INFO][2022/08/08 06:46:38 PM] Loading configuration file: /home/dayn/analysis/BayesianTracker/models/param_test_config_hypo.json\n",
      "[INFO][2022/08/08 06:46:38 PM] Setting max_search_radius -> 500\n",
      "[INFO][2022/08/08 06:46:38 PM] Setting features -> ['area', 'major_axis_length', 'minor_axis_length', 'orientation', 'solidity', 'mean_intensity']\n",
      "[INFO][2022/08/08 06:46:38 PM] Objects are of type: <class 'list'>\n",
      "[INFO][2022/08/08 06:46:38 PM] Setting volume -> ((0, 6048), (0, 6048), (-100000.0, 100000.0))\n",
      "[INFO][2022/08/08 06:46:38 PM] Starting tracking... \n"
     ]
    },
    {
     "name": "stdout",
     "output_type": "stream",
     "text": [
      "(10, 1, 300, 20, 40) 3.2823316150229425\n"
     ]
    },
    {
     "name": "stderr",
     "output_type": "stream",
     "text": [
      "[INFO][2022/08/08 06:46:39 PM] Tracking objects in frames 0 to 24 (of 75)...\n",
      "[INFO][2022/08/08 06:46:52 PM]  - Timing (Bayesian updates: 516.03ms, Linking: 11.88ms)\n",
      "[INFO][2022/08/08 06:46:52 PM]  - Probabilities (Link: 0.97446, Lost: 1.00000)\n",
      "[INFO][2022/08/08 06:46:52 PM]  - Stats (Active: 2550, Lost: 51737, Conflicts resolved: 1956)\n",
      "[INFO][2022/08/08 06:46:52 PM] Tracking objects in frames 25 to 49 (of 75)...\n",
      "[INFO][2022/08/08 06:47:03 PM]  - Timing (Bayesian updates: 178.74ms, Linking: 5.49ms)\n",
      "[INFO][2022/08/08 06:47:03 PM]  - Probabilities (Link: 0.94544, Lost: 1.00000)\n",
      "[INFO][2022/08/08 06:47:03 PM]  - Stats (Active: 1721, Lost: 105261, Conflicts resolved: 3564)\n",
      "[INFO][2022/08/08 06:47:03 PM] Tracking objects in frames 50 to 74 (of 75)...\n",
      "[INFO][2022/08/08 06:47:04 PM]  - Timing (Bayesian updates: 12.19ms, Linking: 1.11ms)\n",
      "[INFO][2022/08/08 06:47:04 PM]  - Probabilities (Link: 0.92668, Lost: 1.00000)\n",
      "[INFO][2022/08/08 06:47:04 PM] SUCCESS.\n",
      "[INFO][2022/08/08 06:47:04 PM]  - Found 17653 tracks in 75 frames (in 0.0s)\n",
      "[INFO][2022/08/08 06:47:04 PM]  - Inserted 23139 dummy objects to fill tracking gaps\n",
      "[INFO][2022/08/08 06:47:05 PM] Ending BayesianTracker session\n",
      "[INFO][2022/08/08 06:47:05 PM] Loaded btrack: /home/dayn/miniconda3/envs/aero/lib/python3.9/site-packages/btrack/libs/libtracker.so\n",
      "[INFO][2022/08/08 06:47:05 PM] btrack (v0.4.5) library imported\n",
      "[INFO][2022/08/08 06:47:05 PM] Starting BayesianTracker session\n",
      "[INFO][2022/08/08 06:47:05 PM] Loading configuration file: /home/dayn/analysis/BayesianTracker/models/param_test_config_hypo.json\n",
      "[INFO][2022/08/08 06:47:05 PM] Setting max_search_radius -> 500\n",
      "[INFO][2022/08/08 06:47:05 PM] Setting features -> ['area', 'major_axis_length', 'minor_axis_length', 'orientation', 'solidity', 'mean_intensity']\n",
      "[INFO][2022/08/08 06:47:05 PM] Objects are of type: <class 'list'>\n",
      "[INFO][2022/08/08 06:47:05 PM] Setting volume -> ((0, 6048), (0, 6048), (-100000.0, 100000.0))\n",
      "[INFO][2022/08/08 06:47:05 PM] Starting tracking... \n"
     ]
    },
    {
     "name": "stdout",
     "output_type": "stream",
     "text": [
      "(10, 1, 300, 20, 80) 3.2823316150229425\n"
     ]
    },
    {
     "name": "stderr",
     "output_type": "stream",
     "text": [
      "[INFO][2022/08/08 06:47:05 PM] Tracking objects in frames 0 to 24 (of 75)...\n",
      "[INFO][2022/08/08 06:47:18 PM]  - Timing (Bayesian updates: 516.65ms, Linking: 12.15ms)\n",
      "[INFO][2022/08/08 06:47:18 PM]  - Probabilities (Link: 0.97446, Lost: 1.00000)\n",
      "[INFO][2022/08/08 06:47:18 PM]  - Stats (Active: 2550, Lost: 51737, Conflicts resolved: 1956)\n",
      "[INFO][2022/08/08 06:47:18 PM] Tracking objects in frames 25 to 49 (of 75)...\n",
      "[INFO][2022/08/08 06:47:29 PM]  - Timing (Bayesian updates: 179.21ms, Linking: 5.55ms)\n",
      "[INFO][2022/08/08 06:47:29 PM]  - Probabilities (Link: 0.94544, Lost: 1.00000)\n",
      "[INFO][2022/08/08 06:47:29 PM]  - Stats (Active: 1721, Lost: 105261, Conflicts resolved: 3564)\n",
      "[INFO][2022/08/08 06:47:29 PM] Tracking objects in frames 50 to 74 (of 75)...\n",
      "[INFO][2022/08/08 06:47:30 PM]  - Timing (Bayesian updates: 11.88ms, Linking: 1.06ms)\n",
      "[INFO][2022/08/08 06:47:30 PM]  - Probabilities (Link: 0.92668, Lost: 1.00000)\n",
      "[INFO][2022/08/08 06:47:30 PM] SUCCESS.\n",
      "[INFO][2022/08/08 06:47:30 PM]  - Found 17653 tracks in 75 frames (in 0.0s)\n",
      "[INFO][2022/08/08 06:47:31 PM]  - Inserted 23139 dummy objects to fill tracking gaps\n",
      "[INFO][2022/08/08 06:47:31 PM] Ending BayesianTracker session\n",
      "[INFO][2022/08/08 06:47:31 PM] Loaded btrack: /home/dayn/miniconda3/envs/aero/lib/python3.9/site-packages/btrack/libs/libtracker.so\n",
      "[INFO][2022/08/08 06:47:31 PM] btrack (v0.4.5) library imported\n",
      "[INFO][2022/08/08 06:47:31 PM] Starting BayesianTracker session\n",
      "[INFO][2022/08/08 06:47:31 PM] Loading configuration file: /home/dayn/analysis/BayesianTracker/models/param_test_config_hypo.json\n",
      "[INFO][2022/08/08 06:47:31 PM] Setting max_search_radius -> 500\n",
      "[INFO][2022/08/08 06:47:31 PM] Setting features -> ['area', 'major_axis_length', 'minor_axis_length', 'orientation', 'solidity', 'mean_intensity']\n",
      "[INFO][2022/08/08 06:47:31 PM] Objects are of type: <class 'list'>\n"
     ]
    },
    {
     "name": "stdout",
     "output_type": "stream",
     "text": [
      "(10, 1, 300, 20, 160) 3.2823316150229425\n"
     ]
    },
    {
     "name": "stderr",
     "output_type": "stream",
     "text": [
      "[INFO][2022/08/08 06:47:31 PM] Setting volume -> ((0, 6048), (0, 6048), (-100000.0, 100000.0))\n",
      "[INFO][2022/08/08 06:47:31 PM] Starting tracking... \n",
      "[INFO][2022/08/08 06:47:31 PM] Tracking objects in frames 0 to 24 (of 75)...\n",
      "[INFO][2022/08/08 06:47:46 PM]  - Timing (Bayesian updates: 516.46ms, Linking: 12.09ms)\n",
      "[INFO][2022/08/08 06:47:46 PM]  - Probabilities (Link: 0.97446, Lost: 1.00000)\n",
      "[INFO][2022/08/08 06:47:46 PM]  - Stats (Active: 2550, Lost: 51737, Conflicts resolved: 1956)\n",
      "[INFO][2022/08/08 06:47:46 PM] Tracking objects in frames 25 to 49 (of 75)...\n",
      "[INFO][2022/08/08 06:47:57 PM]  - Timing (Bayesian updates: 179.01ms, Linking: 6.00ms)\n",
      "[INFO][2022/08/08 06:47:57 PM]  - Probabilities (Link: 0.94544, Lost: 1.00000)\n",
      "[INFO][2022/08/08 06:47:57 PM]  - Stats (Active: 1721, Lost: 105261, Conflicts resolved: 3564)\n",
      "[INFO][2022/08/08 06:47:57 PM] Tracking objects in frames 50 to 74 (of 75)...\n",
      "[INFO][2022/08/08 06:47:58 PM]  - Timing (Bayesian updates: 11.80ms, Linking: 1.03ms)\n",
      "[INFO][2022/08/08 06:47:58 PM]  - Probabilities (Link: 0.92668, Lost: 1.00000)\n",
      "[INFO][2022/08/08 06:47:58 PM] SUCCESS.\n",
      "[INFO][2022/08/08 06:47:58 PM]  - Found 17653 tracks in 75 frames (in 0.0s)\n",
      "[INFO][2022/08/08 06:47:58 PM]  - Inserted 23139 dummy objects to fill tracking gaps\n",
      "[INFO][2022/08/08 06:47:59 PM] Ending BayesianTracker session\n",
      "[INFO][2022/08/08 06:47:59 PM] Loaded btrack: /home/dayn/miniconda3/envs/aero/lib/python3.9/site-packages/btrack/libs/libtracker.so\n",
      "[INFO][2022/08/08 06:47:59 PM] btrack (v0.4.5) library imported\n",
      "[INFO][2022/08/08 06:47:59 PM] Starting BayesianTracker session\n",
      "[INFO][2022/08/08 06:47:59 PM] Loading configuration file: /home/dayn/analysis/BayesianTracker/models/param_test_config_hypo.json\n",
      "[INFO][2022/08/08 06:47:59 PM] Setting max_search_radius -> 500\n",
      "[INFO][2022/08/08 06:47:59 PM] Setting features -> ['area', 'major_axis_length', 'minor_axis_length', 'orientation', 'solidity', 'mean_intensity']\n",
      "[INFO][2022/08/08 06:47:59 PM] Objects are of type: <class 'list'>\n",
      "[INFO][2022/08/08 06:47:59 PM] Setting volume -> ((0, 6048), (0, 6048), (-100000.0, 100000.0))\n",
      "[INFO][2022/08/08 06:47:59 PM] Starting tracking... \n"
     ]
    },
    {
     "name": "stdout",
     "output_type": "stream",
     "text": [
      "(10, 1, 300, 100, 40) 3.2823316150229425\n"
     ]
    },
    {
     "name": "stderr",
     "output_type": "stream",
     "text": [
      "[INFO][2022/08/08 06:47:59 PM] Tracking objects in frames 0 to 24 (of 75)...\n",
      "[INFO][2022/08/08 06:48:12 PM]  - Timing (Bayesian updates: 521.14ms, Linking: 12.18ms)\n",
      "[INFO][2022/08/08 06:48:12 PM]  - Probabilities (Link: 0.97446, Lost: 1.00000)\n",
      "[INFO][2022/08/08 06:48:12 PM]  - Stats (Active: 2550, Lost: 51737, Conflicts resolved: 1956)\n",
      "[INFO][2022/08/08 06:48:12 PM] Tracking objects in frames 25 to 49 (of 75)...\n",
      "[INFO][2022/08/08 06:48:23 PM]  - Timing (Bayesian updates: 180.79ms, Linking: 5.55ms)\n",
      "[INFO][2022/08/08 06:48:23 PM]  - Probabilities (Link: 0.94544, Lost: 1.00000)\n",
      "[INFO][2022/08/08 06:48:23 PM]  - Stats (Active: 1721, Lost: 105261, Conflicts resolved: 3564)\n",
      "[INFO][2022/08/08 06:48:23 PM] Tracking objects in frames 50 to 74 (of 75)...\n",
      "[INFO][2022/08/08 06:48:24 PM]  - Timing (Bayesian updates: 12.46ms, Linking: 1.06ms)\n",
      "[INFO][2022/08/08 06:48:24 PM]  - Probabilities (Link: 0.92668, Lost: 1.00000)\n",
      "[INFO][2022/08/08 06:48:24 PM] SUCCESS.\n",
      "[INFO][2022/08/08 06:48:24 PM]  - Found 17653 tracks in 75 frames (in 0.0s)\n",
      "[INFO][2022/08/08 06:48:25 PM]  - Inserted 23139 dummy objects to fill tracking gaps\n",
      "[INFO][2022/08/08 06:48:25 PM] Ending BayesianTracker session\n",
      "[INFO][2022/08/08 06:48:25 PM] Loaded btrack: /home/dayn/miniconda3/envs/aero/lib/python3.9/site-packages/btrack/libs/libtracker.so\n",
      "[INFO][2022/08/08 06:48:25 PM] btrack (v0.4.5) library imported\n",
      "[INFO][2022/08/08 06:48:25 PM] Starting BayesianTracker session\n",
      "[INFO][2022/08/08 06:48:25 PM] Loading configuration file: /home/dayn/analysis/BayesianTracker/models/param_test_config_hypo.json\n",
      "[INFO][2022/08/08 06:48:25 PM] Setting max_search_radius -> 500\n",
      "[INFO][2022/08/08 06:48:25 PM] Setting features -> ['area', 'major_axis_length', 'minor_axis_length', 'orientation', 'solidity', 'mean_intensity']\n",
      "[INFO][2022/08/08 06:48:25 PM] Objects are of type: <class 'list'>\n"
     ]
    },
    {
     "name": "stdout",
     "output_type": "stream",
     "text": [
      "(10, 1, 300, 100, 80) 3.2823316150229425\n"
     ]
    },
    {
     "name": "stderr",
     "output_type": "stream",
     "text": [
      "[INFO][2022/08/08 06:48:25 PM] Setting volume -> ((0, 6048), (0, 6048), (-100000.0, 100000.0))\n",
      "[INFO][2022/08/08 06:48:25 PM] Starting tracking... \n",
      "[INFO][2022/08/08 06:48:25 PM] Tracking objects in frames 0 to 24 (of 75)...\n",
      "[INFO][2022/08/08 06:48:38 PM]  - Timing (Bayesian updates: 519.32ms, Linking: 11.87ms)\n",
      "[INFO][2022/08/08 06:48:38 PM]  - Probabilities (Link: 0.97446, Lost: 1.00000)\n",
      "[INFO][2022/08/08 06:48:38 PM]  - Stats (Active: 2550, Lost: 51737, Conflicts resolved: 1956)\n",
      "[INFO][2022/08/08 06:48:38 PM] Tracking objects in frames 25 to 49 (of 75)...\n",
      "[INFO][2022/08/08 06:48:50 PM]  - Timing (Bayesian updates: 178.80ms, Linking: 5.21ms)\n",
      "[INFO][2022/08/08 06:48:50 PM]  - Probabilities (Link: 0.94544, Lost: 1.00000)\n",
      "[INFO][2022/08/08 06:48:50 PM]  - Stats (Active: 1721, Lost: 105261, Conflicts resolved: 3564)\n",
      "[INFO][2022/08/08 06:48:50 PM] Tracking objects in frames 50 to 74 (of 75)...\n",
      "[INFO][2022/08/08 06:48:52 PM]  - Timing (Bayesian updates: 11.74ms, Linking: 1.08ms)\n",
      "[INFO][2022/08/08 06:48:52 PM]  - Probabilities (Link: 0.92668, Lost: 1.00000)\n",
      "[INFO][2022/08/08 06:48:52 PM] SUCCESS.\n",
      "[INFO][2022/08/08 06:48:52 PM]  - Found 17653 tracks in 75 frames (in 0.0s)\n",
      "[INFO][2022/08/08 06:48:52 PM]  - Inserted 23139 dummy objects to fill tracking gaps\n",
      "[INFO][2022/08/08 06:48:52 PM] Ending BayesianTracker session\n",
      "[INFO][2022/08/08 06:48:52 PM] Loaded btrack: /home/dayn/miniconda3/envs/aero/lib/python3.9/site-packages/btrack/libs/libtracker.so\n",
      "[INFO][2022/08/08 06:48:52 PM] btrack (v0.4.5) library imported\n",
      "[INFO][2022/08/08 06:48:52 PM] Starting BayesianTracker session\n",
      "[INFO][2022/08/08 06:48:52 PM] Loading configuration file: /home/dayn/analysis/BayesianTracker/models/param_test_config_hypo.json\n",
      "[INFO][2022/08/08 06:48:52 PM] Setting max_search_radius -> 500\n",
      "[INFO][2022/08/08 06:48:52 PM] Setting features -> ['area', 'major_axis_length', 'minor_axis_length', 'orientation', 'solidity', 'mean_intensity']\n",
      "[INFO][2022/08/08 06:48:52 PM] Objects are of type: <class 'list'>\n"
     ]
    },
    {
     "name": "stdout",
     "output_type": "stream",
     "text": [
      "(10, 1, 300, 100, 160) 3.2823316150229425\n"
     ]
    },
    {
     "name": "stderr",
     "output_type": "stream",
     "text": [
      "[INFO][2022/08/08 06:48:53 PM] Setting volume -> ((0, 6048), (0, 6048), (-100000.0, 100000.0))\n",
      "[INFO][2022/08/08 06:48:53 PM] Starting tracking... \n",
      "[INFO][2022/08/08 06:48:53 PM] Tracking objects in frames 0 to 24 (of 75)...\n",
      "[INFO][2022/08/08 06:49:06 PM]  - Timing (Bayesian updates: 516.21ms, Linking: 11.74ms)\n",
      "[INFO][2022/08/08 06:49:06 PM]  - Probabilities (Link: 0.97446, Lost: 1.00000)\n",
      "[INFO][2022/08/08 06:49:06 PM]  - Stats (Active: 2550, Lost: 51737, Conflicts resolved: 1956)\n",
      "[INFO][2022/08/08 06:49:06 PM] Tracking objects in frames 25 to 49 (of 75)...\n",
      "[INFO][2022/08/08 06:49:17 PM]  - Timing (Bayesian updates: 179.62ms, Linking: 6.28ms)\n",
      "[INFO][2022/08/08 06:49:17 PM]  - Probabilities (Link: 0.94544, Lost: 1.00000)\n",
      "[INFO][2022/08/08 06:49:17 PM]  - Stats (Active: 1721, Lost: 105261, Conflicts resolved: 3564)\n",
      "[INFO][2022/08/08 06:49:17 PM] Tracking objects in frames 50 to 74 (of 75)...\n",
      "[INFO][2022/08/08 06:49:18 PM]  - Timing (Bayesian updates: 11.88ms, Linking: 1.09ms)\n",
      "[INFO][2022/08/08 06:49:18 PM]  - Probabilities (Link: 0.92668, Lost: 1.00000)\n",
      "[INFO][2022/08/08 06:49:18 PM] SUCCESS.\n",
      "[INFO][2022/08/08 06:49:18 PM]  - Found 17653 tracks in 75 frames (in 0.0s)\n",
      "[INFO][2022/08/08 06:49:19 PM]  - Inserted 23139 dummy objects to fill tracking gaps\n",
      "[INFO][2022/08/08 06:49:19 PM] Ending BayesianTracker session\n",
      "[INFO][2022/08/08 06:49:19 PM] Loaded btrack: /home/dayn/miniconda3/envs/aero/lib/python3.9/site-packages/btrack/libs/libtracker.so\n",
      "[INFO][2022/08/08 06:49:19 PM] btrack (v0.4.5) library imported\n",
      "[INFO][2022/08/08 06:49:19 PM] Starting BayesianTracker session\n",
      "[INFO][2022/08/08 06:49:19 PM] Loading configuration file: /home/dayn/analysis/BayesianTracker/models/param_test_config_hypo.json\n",
      "[INFO][2022/08/08 06:49:19 PM] Setting max_search_radius -> 500\n",
      "[INFO][2022/08/08 06:49:19 PM] Setting features -> ['area', 'major_axis_length', 'minor_axis_length', 'orientation', 'solidity', 'mean_intensity']\n",
      "[INFO][2022/08/08 06:49:19 PM] Objects are of type: <class 'list'>\n"
     ]
    },
    {
     "name": "stdout",
     "output_type": "stream",
     "text": [
      "(10, 3, 50, 5, 40) 3.2823316150229425\n"
     ]
    },
    {
     "name": "stderr",
     "output_type": "stream",
     "text": [
      "[INFO][2022/08/08 06:49:19 PM] Setting volume -> ((0, 6048), (0, 6048), (-100000.0, 100000.0))\n",
      "[INFO][2022/08/08 06:49:19 PM] Starting tracking... \n",
      "[INFO][2022/08/08 06:49:19 PM] Tracking objects in frames 0 to 24 (of 75)...\n",
      "[INFO][2022/08/08 06:49:33 PM]  - Timing (Bayesian updates: 518.24ms, Linking: 11.66ms)\n",
      "[INFO][2022/08/08 06:49:33 PM]  - Probabilities (Link: 0.97446, Lost: 1.00000)\n",
      "[INFO][2022/08/08 06:49:33 PM]  - Stats (Active: 2550, Lost: 51737, Conflicts resolved: 1956)\n",
      "[INFO][2022/08/08 06:49:33 PM] Tracking objects in frames 25 to 49 (of 75)...\n",
      "[INFO][2022/08/08 06:49:44 PM]  - Timing (Bayesian updates: 180.18ms, Linking: 6.16ms)\n",
      "[INFO][2022/08/08 06:49:44 PM]  - Probabilities (Link: 0.94544, Lost: 1.00000)\n",
      "[INFO][2022/08/08 06:49:44 PM]  - Stats (Active: 1721, Lost: 105261, Conflicts resolved: 3564)\n",
      "[INFO][2022/08/08 06:49:44 PM] Tracking objects in frames 50 to 74 (of 75)...\n",
      "[INFO][2022/08/08 06:49:45 PM]  - Timing (Bayesian updates: 12.11ms, Linking: 1.03ms)\n",
      "[INFO][2022/08/08 06:49:45 PM]  - Probabilities (Link: 0.92668, Lost: 1.00000)\n",
      "[INFO][2022/08/08 06:49:45 PM] SUCCESS.\n",
      "[INFO][2022/08/08 06:49:45 PM]  - Found 17653 tracks in 75 frames (in 0.0s)\n",
      "[INFO][2022/08/08 06:49:45 PM]  - Inserted 23139 dummy objects to fill tracking gaps\n",
      "[INFO][2022/08/08 06:49:46 PM] Ending BayesianTracker session\n",
      "[INFO][2022/08/08 06:49:46 PM] Loaded btrack: /home/dayn/miniconda3/envs/aero/lib/python3.9/site-packages/btrack/libs/libtracker.so\n",
      "[INFO][2022/08/08 06:49:46 PM] btrack (v0.4.5) library imported\n",
      "[INFO][2022/08/08 06:49:46 PM] Starting BayesianTracker session\n",
      "[INFO][2022/08/08 06:49:46 PM] Loading configuration file: /home/dayn/analysis/BayesianTracker/models/param_test_config_hypo.json\n",
      "[INFO][2022/08/08 06:49:46 PM] Setting max_search_radius -> 500\n",
      "[INFO][2022/08/08 06:49:46 PM] Setting features -> ['area', 'major_axis_length', 'minor_axis_length', 'orientation', 'solidity', 'mean_intensity']\n",
      "[INFO][2022/08/08 06:49:46 PM] Objects are of type: <class 'list'>\n",
      "[INFO][2022/08/08 06:49:46 PM] Setting volume -> ((0, 6048), (0, 6048), (-100000.0, 100000.0))\n",
      "[INFO][2022/08/08 06:49:46 PM] Starting tracking... \n"
     ]
    },
    {
     "name": "stdout",
     "output_type": "stream",
     "text": [
      "(10, 3, 50, 5, 80) 3.2823316150229425\n"
     ]
    },
    {
     "name": "stderr",
     "output_type": "stream",
     "text": [
      "[INFO][2022/08/08 06:49:46 PM] Tracking objects in frames 0 to 24 (of 75)...\n",
      "[INFO][2022/08/08 06:50:00 PM]  - Timing (Bayesian updates: 517.78ms, Linking: 12.01ms)\n",
      "[INFO][2022/08/08 06:50:00 PM]  - Probabilities (Link: 0.97446, Lost: 1.00000)\n",
      "[INFO][2022/08/08 06:50:00 PM]  - Stats (Active: 2550, Lost: 51737, Conflicts resolved: 1956)\n",
      "[INFO][2022/08/08 06:50:00 PM] Tracking objects in frames 25 to 49 (of 75)...\n",
      "[INFO][2022/08/08 06:50:11 PM]  - Timing (Bayesian updates: 179.09ms, Linking: 6.05ms)\n",
      "[INFO][2022/08/08 06:50:11 PM]  - Probabilities (Link: 0.94544, Lost: 1.00000)\n",
      "[INFO][2022/08/08 06:50:11 PM]  - Stats (Active: 1721, Lost: 105261, Conflicts resolved: 3564)\n",
      "[INFO][2022/08/08 06:50:11 PM] Tracking objects in frames 50 to 74 (of 75)...\n",
      "[INFO][2022/08/08 06:50:12 PM]  - Timing (Bayesian updates: 12.27ms, Linking: 1.17ms)\n",
      "[INFO][2022/08/08 06:50:12 PM]  - Probabilities (Link: 0.92668, Lost: 1.00000)\n",
      "[INFO][2022/08/08 06:50:12 PM] SUCCESS.\n",
      "[INFO][2022/08/08 06:50:12 PM]  - Found 17653 tracks in 75 frames (in 0.0s)\n",
      "[INFO][2022/08/08 06:50:12 PM]  - Inserted 23139 dummy objects to fill tracking gaps\n",
      "[INFO][2022/08/08 06:50:13 PM] Ending BayesianTracker session\n",
      "[INFO][2022/08/08 06:50:13 PM] Loaded btrack: /home/dayn/miniconda3/envs/aero/lib/python3.9/site-packages/btrack/libs/libtracker.so\n",
      "[INFO][2022/08/08 06:50:13 PM] btrack (v0.4.5) library imported\n",
      "[INFO][2022/08/08 06:50:13 PM] Starting BayesianTracker session\n",
      "[INFO][2022/08/08 06:50:13 PM] Loading configuration file: /home/dayn/analysis/BayesianTracker/models/param_test_config_hypo.json\n",
      "[INFO][2022/08/08 06:50:13 PM] Setting max_search_radius -> 500\n",
      "[INFO][2022/08/08 06:50:13 PM] Setting features -> ['area', 'major_axis_length', 'minor_axis_length', 'orientation', 'solidity', 'mean_intensity']\n",
      "[INFO][2022/08/08 06:50:13 PM] Objects are of type: <class 'list'>\n"
     ]
    },
    {
     "name": "stdout",
     "output_type": "stream",
     "text": [
      "(10, 3, 50, 5, 160) 3.2823316150229425\n"
     ]
    },
    {
     "name": "stderr",
     "output_type": "stream",
     "text": [
      "[INFO][2022/08/08 06:50:13 PM] Setting volume -> ((0, 6048), (0, 6048), (-100000.0, 100000.0))\n",
      "[INFO][2022/08/08 06:50:13 PM] Starting tracking... \n",
      "[INFO][2022/08/08 06:50:13 PM] Tracking objects in frames 0 to 24 (of 75)...\n",
      "[INFO][2022/08/08 06:50:27 PM]  - Timing (Bayesian updates: 515.33ms, Linking: 11.99ms)\n",
      "[INFO][2022/08/08 06:50:27 PM]  - Probabilities (Link: 0.97446, Lost: 1.00000)\n",
      "[INFO][2022/08/08 06:50:27 PM]  - Stats (Active: 2550, Lost: 51737, Conflicts resolved: 1956)\n",
      "[INFO][2022/08/08 06:50:27 PM] Tracking objects in frames 25 to 49 (of 75)...\n",
      "[INFO][2022/08/08 06:50:38 PM]  - Timing (Bayesian updates: 177.58ms, Linking: 5.45ms)\n",
      "[INFO][2022/08/08 06:50:38 PM]  - Probabilities (Link: 0.94544, Lost: 1.00000)\n",
      "[INFO][2022/08/08 06:50:38 PM]  - Stats (Active: 1721, Lost: 105261, Conflicts resolved: 3564)\n",
      "[INFO][2022/08/08 06:50:38 PM] Tracking objects in frames 50 to 74 (of 75)...\n",
      "[INFO][2022/08/08 06:50:39 PM]  - Timing (Bayesian updates: 11.84ms, Linking: 1.07ms)\n",
      "[INFO][2022/08/08 06:50:39 PM]  - Probabilities (Link: 0.92668, Lost: 1.00000)\n",
      "[INFO][2022/08/08 06:50:39 PM] SUCCESS.\n",
      "[INFO][2022/08/08 06:50:39 PM]  - Found 17653 tracks in 75 frames (in 0.0s)\n",
      "[INFO][2022/08/08 06:50:39 PM]  - Inserted 23139 dummy objects to fill tracking gaps\n",
      "[INFO][2022/08/08 06:50:40 PM] Ending BayesianTracker session\n",
      "[INFO][2022/08/08 06:50:40 PM] Loaded btrack: /home/dayn/miniconda3/envs/aero/lib/python3.9/site-packages/btrack/libs/libtracker.so\n",
      "[INFO][2022/08/08 06:50:40 PM] btrack (v0.4.5) library imported\n",
      "[INFO][2022/08/08 06:50:40 PM] Starting BayesianTracker session\n",
      "[INFO][2022/08/08 06:50:40 PM] Loading configuration file: /home/dayn/analysis/BayesianTracker/models/param_test_config_hypo.json\n",
      "[INFO][2022/08/08 06:50:40 PM] Setting max_search_radius -> 500\n",
      "[INFO][2022/08/08 06:50:40 PM] Setting features -> ['area', 'major_axis_length', 'minor_axis_length', 'orientation', 'solidity', 'mean_intensity']\n",
      "[INFO][2022/08/08 06:50:40 PM] Objects are of type: <class 'list'>\n",
      "[INFO][2022/08/08 06:50:40 PM] Setting volume -> ((0, 6048), (0, 6048), (-100000.0, 100000.0))\n",
      "[INFO][2022/08/08 06:50:40 PM] Starting tracking... \n"
     ]
    },
    {
     "name": "stdout",
     "output_type": "stream",
     "text": [
      "(10, 3, 50, 20, 40) 3.2823316150229425\n"
     ]
    },
    {
     "name": "stderr",
     "output_type": "stream",
     "text": [
      "[INFO][2022/08/08 06:50:40 PM] Tracking objects in frames 0 to 24 (of 75)...\n",
      "[INFO][2022/08/08 06:50:53 PM]  - Timing (Bayesian updates: 516.60ms, Linking: 11.71ms)\n",
      "[INFO][2022/08/08 06:50:53 PM]  - Probabilities (Link: 0.97446, Lost: 1.00000)\n",
      "[INFO][2022/08/08 06:50:53 PM]  - Stats (Active: 2550, Lost: 51737, Conflicts resolved: 1956)\n",
      "[INFO][2022/08/08 06:50:53 PM] Tracking objects in frames 25 to 49 (of 75)...\n",
      "[INFO][2022/08/08 06:51:04 PM]  - Timing (Bayesian updates: 179.24ms, Linking: 5.40ms)\n",
      "[INFO][2022/08/08 06:51:04 PM]  - Probabilities (Link: 0.94544, Lost: 1.00000)\n",
      "[INFO][2022/08/08 06:51:04 PM]  - Stats (Active: 1721, Lost: 105261, Conflicts resolved: 3564)\n",
      "[INFO][2022/08/08 06:51:04 PM] Tracking objects in frames 50 to 74 (of 75)...\n",
      "[INFO][2022/08/08 06:51:05 PM]  - Timing (Bayesian updates: 11.80ms, Linking: 1.04ms)\n",
      "[INFO][2022/08/08 06:51:05 PM]  - Probabilities (Link: 0.92668, Lost: 1.00000)\n",
      "[INFO][2022/08/08 06:51:05 PM] SUCCESS.\n",
      "[INFO][2022/08/08 06:51:05 PM]  - Found 17653 tracks in 75 frames (in 0.0s)\n",
      "[INFO][2022/08/08 06:51:05 PM]  - Inserted 23139 dummy objects to fill tracking gaps\n",
      "[INFO][2022/08/08 06:51:06 PM] Ending BayesianTracker session\n",
      "[INFO][2022/08/08 06:51:06 PM] Loaded btrack: /home/dayn/miniconda3/envs/aero/lib/python3.9/site-packages/btrack/libs/libtracker.so\n",
      "[INFO][2022/08/08 06:51:06 PM] btrack (v0.4.5) library imported\n",
      "[INFO][2022/08/08 06:51:06 PM] Starting BayesianTracker session\n",
      "[INFO][2022/08/08 06:51:06 PM] Loading configuration file: /home/dayn/analysis/BayesianTracker/models/param_test_config_hypo.json\n",
      "[INFO][2022/08/08 06:51:06 PM] Setting max_search_radius -> 500\n",
      "[INFO][2022/08/08 06:51:06 PM] Setting features -> ['area', 'major_axis_length', 'minor_axis_length', 'orientation', 'solidity', 'mean_intensity']\n",
      "[INFO][2022/08/08 06:51:06 PM] Objects are of type: <class 'list'>\n"
     ]
    },
    {
     "name": "stdout",
     "output_type": "stream",
     "text": [
      "(10, 3, 50, 20, 80) 3.2823316150229425\n"
     ]
    },
    {
     "name": "stderr",
     "output_type": "stream",
     "text": [
      "[INFO][2022/08/08 06:51:06 PM] Setting volume -> ((0, 6048), (0, 6048), (-100000.0, 100000.0))\n",
      "[INFO][2022/08/08 06:51:06 PM] Starting tracking... \n",
      "[INFO][2022/08/08 06:51:06 PM] Tracking objects in frames 0 to 24 (of 75)...\n",
      "[INFO][2022/08/08 06:51:19 PM]  - Timing (Bayesian updates: 514.47ms, Linking: 11.84ms)\n",
      "[INFO][2022/08/08 06:51:19 PM]  - Probabilities (Link: 0.97446, Lost: 1.00000)\n",
      "[INFO][2022/08/08 06:51:19 PM]  - Stats (Active: 2550, Lost: 51737, Conflicts resolved: 1956)\n",
      "[INFO][2022/08/08 06:51:19 PM] Tracking objects in frames 25 to 49 (of 75)...\n",
      "[INFO][2022/08/08 06:51:30 PM]  - Timing (Bayesian updates: 178.18ms, Linking: 5.42ms)\n",
      "[INFO][2022/08/08 06:51:30 PM]  - Probabilities (Link: 0.94544, Lost: 1.00000)\n",
      "[INFO][2022/08/08 06:51:30 PM]  - Stats (Active: 1721, Lost: 105261, Conflicts resolved: 3564)\n",
      "[INFO][2022/08/08 06:51:30 PM] Tracking objects in frames 50 to 74 (of 75)...\n",
      "[INFO][2022/08/08 06:51:32 PM]  - Timing (Bayesian updates: 11.76ms, Linking: 1.09ms)\n",
      "[INFO][2022/08/08 06:51:32 PM]  - Probabilities (Link: 0.92668, Lost: 1.00000)\n",
      "[INFO][2022/08/08 06:51:32 PM] SUCCESS.\n",
      "[INFO][2022/08/08 06:51:32 PM]  - Found 17653 tracks in 75 frames (in 0.0s)\n",
      "[INFO][2022/08/08 06:51:32 PM]  - Inserted 23139 dummy objects to fill tracking gaps\n",
      "[INFO][2022/08/08 06:51:32 PM] Ending BayesianTracker session\n",
      "[INFO][2022/08/08 06:51:33 PM] Loaded btrack: /home/dayn/miniconda3/envs/aero/lib/python3.9/site-packages/btrack/libs/libtracker.so\n",
      "[INFO][2022/08/08 06:51:33 PM] btrack (v0.4.5) library imported\n",
      "[INFO][2022/08/08 06:51:33 PM] Starting BayesianTracker session\n",
      "[INFO][2022/08/08 06:51:33 PM] Loading configuration file: /home/dayn/analysis/BayesianTracker/models/param_test_config_hypo.json\n",
      "[INFO][2022/08/08 06:51:33 PM] Setting max_search_radius -> 500\n",
      "[INFO][2022/08/08 06:51:33 PM] Setting features -> ['area', 'major_axis_length', 'minor_axis_length', 'orientation', 'solidity', 'mean_intensity']\n",
      "[INFO][2022/08/08 06:51:33 PM] Objects are of type: <class 'list'>\n"
     ]
    },
    {
     "name": "stdout",
     "output_type": "stream",
     "text": [
      "(10, 3, 50, 20, 160) 3.2823316150229425\n"
     ]
    },
    {
     "name": "stderr",
     "output_type": "stream",
     "text": [
      "[INFO][2022/08/08 06:51:33 PM] Setting volume -> ((0, 6048), (0, 6048), (-100000.0, 100000.0))\n",
      "[INFO][2022/08/08 06:51:33 PM] Starting tracking... \n",
      "[INFO][2022/08/08 06:51:33 PM] Tracking objects in frames 0 to 24 (of 75)...\n",
      "[INFO][2022/08/08 06:51:46 PM]  - Timing (Bayesian updates: 515.79ms, Linking: 11.89ms)\n",
      "[INFO][2022/08/08 06:51:46 PM]  - Probabilities (Link: 0.97446, Lost: 1.00000)\n",
      "[INFO][2022/08/08 06:51:46 PM]  - Stats (Active: 2550, Lost: 51737, Conflicts resolved: 1956)\n",
      "[INFO][2022/08/08 06:51:46 PM] Tracking objects in frames 25 to 49 (of 75)...\n",
      "[INFO][2022/08/08 06:51:57 PM]  - Timing (Bayesian updates: 179.17ms, Linking: 5.51ms)\n",
      "[INFO][2022/08/08 06:51:57 PM]  - Probabilities (Link: 0.94544, Lost: 1.00000)\n",
      "[INFO][2022/08/08 06:51:57 PM]  - Stats (Active: 1721, Lost: 105261, Conflicts resolved: 3564)\n",
      "[INFO][2022/08/08 06:51:57 PM] Tracking objects in frames 50 to 74 (of 75)...\n",
      "[INFO][2022/08/08 06:51:58 PM]  - Timing (Bayesian updates: 12.18ms, Linking: 1.06ms)\n",
      "[INFO][2022/08/08 06:51:58 PM]  - Probabilities (Link: 0.92668, Lost: 1.00000)\n",
      "[INFO][2022/08/08 06:51:58 PM] SUCCESS.\n",
      "[INFO][2022/08/08 06:51:58 PM]  - Found 17653 tracks in 75 frames (in 0.0s)\n",
      "[INFO][2022/08/08 06:51:58 PM]  - Inserted 23139 dummy objects to fill tracking gaps\n",
      "[INFO][2022/08/08 06:51:59 PM] Ending BayesianTracker session\n",
      "[INFO][2022/08/08 06:51:59 PM] Loaded btrack: /home/dayn/miniconda3/envs/aero/lib/python3.9/site-packages/btrack/libs/libtracker.so\n",
      "[INFO][2022/08/08 06:51:59 PM] btrack (v0.4.5) library imported\n",
      "[INFO][2022/08/08 06:51:59 PM] Starting BayesianTracker session\n",
      "[INFO][2022/08/08 06:51:59 PM] Loading configuration file: /home/dayn/analysis/BayesianTracker/models/param_test_config_hypo.json\n",
      "[INFO][2022/08/08 06:51:59 PM] Setting max_search_radius -> 500\n",
      "[INFO][2022/08/08 06:51:59 PM] Setting features -> ['area', 'major_axis_length', 'minor_axis_length', 'orientation', 'solidity', 'mean_intensity']\n",
      "[INFO][2022/08/08 06:51:59 PM] Objects are of type: <class 'list'>\n",
      "[INFO][2022/08/08 06:51:59 PM] Setting volume -> ((0, 6048), (0, 6048), (-100000.0, 100000.0))\n",
      "[INFO][2022/08/08 06:51:59 PM] Starting tracking... \n"
     ]
    },
    {
     "name": "stdout",
     "output_type": "stream",
     "text": [
      "(10, 3, 50, 100, 40) 3.2823316150229425\n"
     ]
    },
    {
     "name": "stderr",
     "output_type": "stream",
     "text": [
      "[INFO][2022/08/08 06:51:59 PM] Tracking objects in frames 0 to 24 (of 75)...\n",
      "[INFO][2022/08/08 06:52:12 PM]  - Timing (Bayesian updates: 522.90ms, Linking: 12.16ms)\n",
      "[INFO][2022/08/08 06:52:12 PM]  - Probabilities (Link: 0.97446, Lost: 1.00000)\n",
      "[INFO][2022/08/08 06:52:12 PM]  - Stats (Active: 2550, Lost: 51737, Conflicts resolved: 1956)\n",
      "[INFO][2022/08/08 06:52:12 PM] Tracking objects in frames 25 to 49 (of 75)...\n",
      "[INFO][2022/08/08 06:52:23 PM]  - Timing (Bayesian updates: 180.49ms, Linking: 5.61ms)\n",
      "[INFO][2022/08/08 06:52:23 PM]  - Probabilities (Link: 0.94544, Lost: 1.00000)\n",
      "[INFO][2022/08/08 06:52:23 PM]  - Stats (Active: 1721, Lost: 105261, Conflicts resolved: 3564)\n",
      "[INFO][2022/08/08 06:52:23 PM] Tracking objects in frames 50 to 74 (of 75)...\n",
      "[INFO][2022/08/08 06:52:25 PM]  - Timing (Bayesian updates: 12.05ms, Linking: 1.11ms)\n",
      "[INFO][2022/08/08 06:52:25 PM]  - Probabilities (Link: 0.92668, Lost: 1.00000)\n",
      "[INFO][2022/08/08 06:52:25 PM] SUCCESS.\n",
      "[INFO][2022/08/08 06:52:25 PM]  - Found 17653 tracks in 75 frames (in 0.0s)\n",
      "[INFO][2022/08/08 06:52:25 PM]  - Inserted 23139 dummy objects to fill tracking gaps\n",
      "[INFO][2022/08/08 06:52:25 PM] Ending BayesianTracker session\n",
      "[INFO][2022/08/08 06:52:25 PM] Loaded btrack: /home/dayn/miniconda3/envs/aero/lib/python3.9/site-packages/btrack/libs/libtracker.so\n",
      "[INFO][2022/08/08 06:52:25 PM] btrack (v0.4.5) library imported\n",
      "[INFO][2022/08/08 06:52:25 PM] Starting BayesianTracker session\n",
      "[INFO][2022/08/08 06:52:25 PM] Loading configuration file: /home/dayn/analysis/BayesianTracker/models/param_test_config_hypo.json\n",
      "[INFO][2022/08/08 06:52:25 PM] Setting max_search_radius -> 500\n",
      "[INFO][2022/08/08 06:52:25 PM] Setting features -> ['area', 'major_axis_length', 'minor_axis_length', 'orientation', 'solidity', 'mean_intensity']\n",
      "[INFO][2022/08/08 06:52:25 PM] Objects are of type: <class 'list'>\n"
     ]
    },
    {
     "name": "stdout",
     "output_type": "stream",
     "text": [
      "(10, 3, 50, 100, 80) 3.2823316150229425\n"
     ]
    },
    {
     "name": "stderr",
     "output_type": "stream",
     "text": [
      "[INFO][2022/08/08 06:52:25 PM] Setting volume -> ((0, 6048), (0, 6048), (-100000.0, 100000.0))\n",
      "[INFO][2022/08/08 06:52:25 PM] Starting tracking... \n",
      "[INFO][2022/08/08 06:52:26 PM] Tracking objects in frames 0 to 24 (of 75)...\n",
      "[INFO][2022/08/08 06:52:39 PM]  - Timing (Bayesian updates: 515.35ms, Linking: 11.85ms)\n",
      "[INFO][2022/08/08 06:52:39 PM]  - Probabilities (Link: 0.97446, Lost: 1.00000)\n",
      "[INFO][2022/08/08 06:52:39 PM]  - Stats (Active: 2550, Lost: 51737, Conflicts resolved: 1956)\n",
      "[INFO][2022/08/08 06:52:39 PM] Tracking objects in frames 25 to 49 (of 75)...\n",
      "[INFO][2022/08/08 06:52:50 PM]  - Timing (Bayesian updates: 178.97ms, Linking: 5.52ms)\n",
      "[INFO][2022/08/08 06:52:50 PM]  - Probabilities (Link: 0.94544, Lost: 1.00000)\n",
      "[INFO][2022/08/08 06:52:50 PM]  - Stats (Active: 1721, Lost: 105261, Conflicts resolved: 3564)\n",
      "[INFO][2022/08/08 06:52:50 PM] Tracking objects in frames 50 to 74 (of 75)...\n",
      "[INFO][2022/08/08 06:52:51 PM]  - Timing (Bayesian updates: 11.88ms, Linking: 1.01ms)\n",
      "[INFO][2022/08/08 06:52:51 PM]  - Probabilities (Link: 0.92668, Lost: 1.00000)\n",
      "[INFO][2022/08/08 06:52:51 PM] SUCCESS.\n",
      "[INFO][2022/08/08 06:52:51 PM]  - Found 17653 tracks in 75 frames (in 0.0s)\n",
      "[INFO][2022/08/08 06:52:51 PM]  - Inserted 23139 dummy objects to fill tracking gaps\n",
      "[INFO][2022/08/08 06:52:52 PM] Ending BayesianTracker session\n",
      "[INFO][2022/08/08 06:52:52 PM] Loaded btrack: /home/dayn/miniconda3/envs/aero/lib/python3.9/site-packages/btrack/libs/libtracker.so\n",
      "[INFO][2022/08/08 06:52:52 PM] btrack (v0.4.5) library imported\n",
      "[INFO][2022/08/08 06:52:52 PM] Starting BayesianTracker session\n",
      "[INFO][2022/08/08 06:52:52 PM] Loading configuration file: /home/dayn/analysis/BayesianTracker/models/param_test_config_hypo.json\n",
      "[INFO][2022/08/08 06:52:52 PM] Setting max_search_radius -> 500\n",
      "[INFO][2022/08/08 06:52:52 PM] Setting features -> ['area', 'major_axis_length', 'minor_axis_length', 'orientation', 'solidity', 'mean_intensity']\n",
      "[INFO][2022/08/08 06:52:52 PM] Objects are of type: <class 'list'>\n"
     ]
    },
    {
     "name": "stdout",
     "output_type": "stream",
     "text": [
      "(10, 3, 50, 100, 160) 3.2823316150229425\n"
     ]
    },
    {
     "name": "stderr",
     "output_type": "stream",
     "text": [
      "[INFO][2022/08/08 06:52:52 PM] Setting volume -> ((0, 6048), (0, 6048), (-100000.0, 100000.0))\n",
      "[INFO][2022/08/08 06:52:52 PM] Starting tracking... \n",
      "[INFO][2022/08/08 06:52:52 PM] Tracking objects in frames 0 to 24 (of 75)...\n",
      "[INFO][2022/08/08 06:53:05 PM]  - Timing (Bayesian updates: 516.93ms, Linking: 11.84ms)\n",
      "[INFO][2022/08/08 06:53:05 PM]  - Probabilities (Link: 0.97446, Lost: 1.00000)\n",
      "[INFO][2022/08/08 06:53:05 PM]  - Stats (Active: 2550, Lost: 51737, Conflicts resolved: 1956)\n",
      "[INFO][2022/08/08 06:53:05 PM] Tracking objects in frames 25 to 49 (of 75)...\n",
      "[INFO][2022/08/08 06:53:16 PM]  - Timing (Bayesian updates: 178.57ms, Linking: 5.58ms)\n",
      "[INFO][2022/08/08 06:53:16 PM]  - Probabilities (Link: 0.94544, Lost: 1.00000)\n",
      "[INFO][2022/08/08 06:53:16 PM]  - Stats (Active: 1721, Lost: 105261, Conflicts resolved: 3564)\n",
      "[INFO][2022/08/08 06:53:16 PM] Tracking objects in frames 50 to 74 (of 75)...\n",
      "[INFO][2022/08/08 06:53:17 PM]  - Timing (Bayesian updates: 11.82ms, Linking: 1.06ms)\n",
      "[INFO][2022/08/08 06:53:17 PM]  - Probabilities (Link: 0.92668, Lost: 1.00000)\n",
      "[INFO][2022/08/08 06:53:17 PM] SUCCESS.\n",
      "[INFO][2022/08/08 06:53:17 PM]  - Found 17653 tracks in 75 frames (in 0.0s)\n",
      "[INFO][2022/08/08 06:53:18 PM]  - Inserted 23139 dummy objects to fill tracking gaps\n",
      "[INFO][2022/08/08 06:53:18 PM] Ending BayesianTracker session\n",
      "[INFO][2022/08/08 06:53:18 PM] Loaded btrack: /home/dayn/miniconda3/envs/aero/lib/python3.9/site-packages/btrack/libs/libtracker.so\n",
      "[INFO][2022/08/08 06:53:18 PM] btrack (v0.4.5) library imported\n",
      "[INFO][2022/08/08 06:53:18 PM] Starting BayesianTracker session\n",
      "[INFO][2022/08/08 06:53:18 PM] Loading configuration file: /home/dayn/analysis/BayesianTracker/models/param_test_config_hypo.json\n",
      "[INFO][2022/08/08 06:53:18 PM] Setting max_search_radius -> 500\n",
      "[INFO][2022/08/08 06:53:18 PM] Setting features -> ['area', 'major_axis_length', 'minor_axis_length', 'orientation', 'solidity', 'mean_intensity']\n",
      "[INFO][2022/08/08 06:53:18 PM] Objects are of type: <class 'list'>\n"
     ]
    },
    {
     "name": "stdout",
     "output_type": "stream",
     "text": [
      "(10, 3, 100, 5, 40) 3.2823316150229425\n"
     ]
    },
    {
     "name": "stderr",
     "output_type": "stream",
     "text": [
      "[INFO][2022/08/08 06:53:18 PM] Setting volume -> ((0, 6048), (0, 6048), (-100000.0, 100000.0))\n",
      "[INFO][2022/08/08 06:53:18 PM] Starting tracking... \n",
      "[INFO][2022/08/08 06:53:18 PM] Tracking objects in frames 0 to 24 (of 75)...\n",
      "[INFO][2022/08/08 06:53:32 PM]  - Timing (Bayesian updates: 518.19ms, Linking: 11.82ms)\n",
      "[INFO][2022/08/08 06:53:32 PM]  - Probabilities (Link: 0.97446, Lost: 1.00000)\n",
      "[INFO][2022/08/08 06:53:32 PM]  - Stats (Active: 2550, Lost: 51737, Conflicts resolved: 1956)\n",
      "[INFO][2022/08/08 06:53:32 PM] Tracking objects in frames 25 to 49 (of 75)...\n",
      "[INFO][2022/08/08 06:53:43 PM]  - Timing (Bayesian updates: 180.16ms, Linking: 5.59ms)\n",
      "[INFO][2022/08/08 06:53:43 PM]  - Probabilities (Link: 0.94544, Lost: 1.00000)\n",
      "[INFO][2022/08/08 06:53:43 PM]  - Stats (Active: 1721, Lost: 105261, Conflicts resolved: 3564)\n",
      "[INFO][2022/08/08 06:53:43 PM] Tracking objects in frames 50 to 74 (of 75)...\n",
      "[INFO][2022/08/08 06:53:44 PM]  - Timing (Bayesian updates: 11.94ms, Linking: 1.06ms)\n",
      "[INFO][2022/08/08 06:53:44 PM]  - Probabilities (Link: 0.92668, Lost: 1.00000)\n",
      "[INFO][2022/08/08 06:53:44 PM] SUCCESS.\n",
      "[INFO][2022/08/08 06:53:44 PM]  - Found 17653 tracks in 75 frames (in 0.0s)\n",
      "[INFO][2022/08/08 06:53:44 PM]  - Inserted 23139 dummy objects to fill tracking gaps\n",
      "[INFO][2022/08/08 06:53:45 PM] Ending BayesianTracker session\n",
      "[INFO][2022/08/08 06:53:45 PM] Loaded btrack: /home/dayn/miniconda3/envs/aero/lib/python3.9/site-packages/btrack/libs/libtracker.so\n",
      "[INFO][2022/08/08 06:53:45 PM] btrack (v0.4.5) library imported\n",
      "[INFO][2022/08/08 06:53:45 PM] Starting BayesianTracker session\n",
      "[INFO][2022/08/08 06:53:45 PM] Loading configuration file: /home/dayn/analysis/BayesianTracker/models/param_test_config_hypo.json\n",
      "[INFO][2022/08/08 06:53:45 PM] Setting max_search_radius -> 500\n",
      "[INFO][2022/08/08 06:53:45 PM] Setting features -> ['area', 'major_axis_length', 'minor_axis_length', 'orientation', 'solidity', 'mean_intensity']\n",
      "[INFO][2022/08/08 06:53:45 PM] Objects are of type: <class 'list'>\n"
     ]
    },
    {
     "name": "stdout",
     "output_type": "stream",
     "text": [
      "(10, 3, 100, 5, 80) 3.2823316150229425\n"
     ]
    },
    {
     "name": "stderr",
     "output_type": "stream",
     "text": [
      "[INFO][2022/08/08 06:53:45 PM] Setting volume -> ((0, 6048), (0, 6048), (-100000.0, 100000.0))\n",
      "[INFO][2022/08/08 06:53:45 PM] Starting tracking... \n",
      "[INFO][2022/08/08 06:53:45 PM] Tracking objects in frames 0 to 24 (of 75)...\n",
      "[INFO][2022/08/08 06:53:58 PM]  - Timing (Bayesian updates: 521.48ms, Linking: 11.92ms)\n",
      "[INFO][2022/08/08 06:53:58 PM]  - Probabilities (Link: 0.97446, Lost: 1.00000)\n",
      "[INFO][2022/08/08 06:53:58 PM]  - Stats (Active: 2550, Lost: 51737, Conflicts resolved: 1956)\n",
      "[INFO][2022/08/08 06:53:58 PM] Tracking objects in frames 25 to 49 (of 75)...\n",
      "[INFO][2022/08/08 06:54:09 PM]  - Timing (Bayesian updates: 180.67ms, Linking: 6.18ms)\n",
      "[INFO][2022/08/08 06:54:09 PM]  - Probabilities (Link: 0.94544, Lost: 1.00000)\n",
      "[INFO][2022/08/08 06:54:09 PM]  - Stats (Active: 1721, Lost: 105261, Conflicts resolved: 3564)\n",
      "[INFO][2022/08/08 06:54:09 PM] Tracking objects in frames 50 to 74 (of 75)...\n",
      "[INFO][2022/08/08 06:54:11 PM]  - Timing (Bayesian updates: 12.03ms, Linking: 1.10ms)\n",
      "[INFO][2022/08/08 06:54:11 PM]  - Probabilities (Link: 0.92668, Lost: 1.00000)\n",
      "[INFO][2022/08/08 06:54:11 PM] SUCCESS.\n",
      "[INFO][2022/08/08 06:54:11 PM]  - Found 17653 tracks in 75 frames (in 0.0s)\n",
      "[INFO][2022/08/08 06:54:11 PM]  - Inserted 23139 dummy objects to fill tracking gaps\n",
      "[INFO][2022/08/08 06:54:11 PM] Ending BayesianTracker session\n",
      "[INFO][2022/08/08 06:54:11 PM] Loaded btrack: /home/dayn/miniconda3/envs/aero/lib/python3.9/site-packages/btrack/libs/libtracker.so\n",
      "[INFO][2022/08/08 06:54:11 PM] btrack (v0.4.5) library imported\n",
      "[INFO][2022/08/08 06:54:11 PM] Starting BayesianTracker session\n",
      "[INFO][2022/08/08 06:54:11 PM] Loading configuration file: /home/dayn/analysis/BayesianTracker/models/param_test_config_hypo.json\n",
      "[INFO][2022/08/08 06:54:11 PM] Setting max_search_radius -> 500\n",
      "[INFO][2022/08/08 06:54:11 PM] Setting features -> ['area', 'major_axis_length', 'minor_axis_length', 'orientation', 'solidity', 'mean_intensity']\n",
      "[INFO][2022/08/08 06:54:11 PM] Objects are of type: <class 'list'>\n"
     ]
    },
    {
     "name": "stdout",
     "output_type": "stream",
     "text": [
      "(10, 3, 100, 5, 160) 3.2823316150229425\n"
     ]
    },
    {
     "name": "stderr",
     "output_type": "stream",
     "text": [
      "[INFO][2022/08/08 06:54:11 PM] Setting volume -> ((0, 6048), (0, 6048), (-100000.0, 100000.0))\n",
      "[INFO][2022/08/08 06:54:11 PM] Starting tracking... \n",
      "[INFO][2022/08/08 06:54:12 PM] Tracking objects in frames 0 to 24 (of 75)...\n",
      "[INFO][2022/08/08 06:54:25 PM]  - Timing (Bayesian updates: 521.41ms, Linking: 12.93ms)\n",
      "[INFO][2022/08/08 06:54:25 PM]  - Probabilities (Link: 0.97446, Lost: 1.00000)\n",
      "[INFO][2022/08/08 06:54:25 PM]  - Stats (Active: 2550, Lost: 51737, Conflicts resolved: 1956)\n",
      "[INFO][2022/08/08 06:54:25 PM] Tracking objects in frames 25 to 49 (of 75)...\n",
      "[INFO][2022/08/08 06:54:36 PM]  - Timing (Bayesian updates: 179.15ms, Linking: 5.53ms)\n",
      "[INFO][2022/08/08 06:54:36 PM]  - Probabilities (Link: 0.94544, Lost: 1.00000)\n",
      "[INFO][2022/08/08 06:54:36 PM]  - Stats (Active: 1721, Lost: 105261, Conflicts resolved: 3564)\n",
      "[INFO][2022/08/08 06:54:36 PM] Tracking objects in frames 50 to 74 (of 75)...\n",
      "[INFO][2022/08/08 06:54:37 PM]  - Timing (Bayesian updates: 11.68ms, Linking: 1.06ms)\n",
      "[INFO][2022/08/08 06:54:37 PM]  - Probabilities (Link: 0.92668, Lost: 1.00000)\n",
      "[INFO][2022/08/08 06:54:37 PM] SUCCESS.\n",
      "[INFO][2022/08/08 06:54:37 PM]  - Found 17653 tracks in 75 frames (in 0.0s)\n",
      "[INFO][2022/08/08 06:54:37 PM]  - Inserted 23139 dummy objects to fill tracking gaps\n",
      "[INFO][2022/08/08 06:54:38 PM] Ending BayesianTracker session\n",
      "[INFO][2022/08/08 06:54:38 PM] Loaded btrack: /home/dayn/miniconda3/envs/aero/lib/python3.9/site-packages/btrack/libs/libtracker.so\n",
      "[INFO][2022/08/08 06:54:38 PM] btrack (v0.4.5) library imported\n",
      "[INFO][2022/08/08 06:54:38 PM] Starting BayesianTracker session\n",
      "[INFO][2022/08/08 06:54:38 PM] Loading configuration file: /home/dayn/analysis/BayesianTracker/models/param_test_config_hypo.json\n",
      "[INFO][2022/08/08 06:54:38 PM] Setting max_search_radius -> 500\n",
      "[INFO][2022/08/08 06:54:38 PM] Setting features -> ['area', 'major_axis_length', 'minor_axis_length', 'orientation', 'solidity', 'mean_intensity']\n",
      "[INFO][2022/08/08 06:54:38 PM] Objects are of type: <class 'list'>\n",
      "[INFO][2022/08/08 06:54:38 PM] Setting volume -> ((0, 6048), (0, 6048), (-100000.0, 100000.0))\n",
      "[INFO][2022/08/08 06:54:38 PM] Starting tracking... \n"
     ]
    },
    {
     "name": "stdout",
     "output_type": "stream",
     "text": [
      "(10, 3, 100, 20, 40) 3.2823316150229425\n"
     ]
    },
    {
     "name": "stderr",
     "output_type": "stream",
     "text": [
      "[INFO][2022/08/08 06:54:38 PM] Tracking objects in frames 0 to 24 (of 75)...\n",
      "[INFO][2022/08/08 06:54:51 PM]  - Timing (Bayesian updates: 518.97ms, Linking: 11.87ms)\n",
      "[INFO][2022/08/08 06:54:51 PM]  - Probabilities (Link: 0.97446, Lost: 1.00000)\n",
      "[INFO][2022/08/08 06:54:51 PM]  - Stats (Active: 2550, Lost: 51737, Conflicts resolved: 1956)\n",
      "[INFO][2022/08/08 06:54:51 PM] Tracking objects in frames 25 to 49 (of 75)...\n",
      "[INFO][2022/08/08 06:55:02 PM]  - Timing (Bayesian updates: 180.10ms, Linking: 5.65ms)\n",
      "[INFO][2022/08/08 06:55:02 PM]  - Probabilities (Link: 0.94544, Lost: 1.00000)\n",
      "[INFO][2022/08/08 06:55:02 PM]  - Stats (Active: 1721, Lost: 105261, Conflicts resolved: 3564)\n",
      "[INFO][2022/08/08 06:55:02 PM] Tracking objects in frames 50 to 74 (of 75)...\n",
      "[INFO][2022/08/08 06:55:03 PM]  - Timing (Bayesian updates: 12.19ms, Linking: 1.10ms)\n",
      "[INFO][2022/08/08 06:55:03 PM]  - Probabilities (Link: 0.92668, Lost: 1.00000)\n",
      "[INFO][2022/08/08 06:55:03 PM] SUCCESS.\n",
      "[INFO][2022/08/08 06:55:03 PM]  - Found 17653 tracks in 75 frames (in 0.0s)\n",
      "[INFO][2022/08/08 06:55:04 PM]  - Inserted 23139 dummy objects to fill tracking gaps\n",
      "[INFO][2022/08/08 06:55:04 PM] Ending BayesianTracker session\n",
      "[INFO][2022/08/08 06:55:04 PM] Loaded btrack: /home/dayn/miniconda3/envs/aero/lib/python3.9/site-packages/btrack/libs/libtracker.so\n",
      "[INFO][2022/08/08 06:55:04 PM] btrack (v0.4.5) library imported\n",
      "[INFO][2022/08/08 06:55:04 PM] Starting BayesianTracker session\n",
      "[INFO][2022/08/08 06:55:04 PM] Loading configuration file: /home/dayn/analysis/BayesianTracker/models/param_test_config_hypo.json\n",
      "[INFO][2022/08/08 06:55:04 PM] Setting max_search_radius -> 500\n",
      "[INFO][2022/08/08 06:55:04 PM] Setting features -> ['area', 'major_axis_length', 'minor_axis_length', 'orientation', 'solidity', 'mean_intensity']\n",
      "[INFO][2022/08/08 06:55:04 PM] Objects are of type: <class 'list'>\n"
     ]
    },
    {
     "name": "stdout",
     "output_type": "stream",
     "text": [
      "(10, 3, 100, 20, 80) 3.2823316150229425\n"
     ]
    },
    {
     "name": "stderr",
     "output_type": "stream",
     "text": [
      "[INFO][2022/08/08 06:55:04 PM] Setting volume -> ((0, 6048), (0, 6048), (-100000.0, 100000.0))\n",
      "[INFO][2022/08/08 06:55:04 PM] Starting tracking... \n",
      "[INFO][2022/08/08 06:55:05 PM] Tracking objects in frames 0 to 24 (of 75)...\n",
      "[INFO][2022/08/08 06:55:18 PM]  - Timing (Bayesian updates: 516.74ms, Linking: 11.90ms)\n",
      "[INFO][2022/08/08 06:55:18 PM]  - Probabilities (Link: 0.97446, Lost: 1.00000)\n",
      "[INFO][2022/08/08 06:55:18 PM]  - Stats (Active: 2550, Lost: 51737, Conflicts resolved: 1956)\n",
      "[INFO][2022/08/08 06:55:18 PM] Tracking objects in frames 25 to 49 (of 75)...\n",
      "[INFO][2022/08/08 06:55:29 PM]  - Timing (Bayesian updates: 178.77ms, Linking: 5.33ms)\n",
      "[INFO][2022/08/08 06:55:29 PM]  - Probabilities (Link: 0.94544, Lost: 1.00000)\n",
      "[INFO][2022/08/08 06:55:29 PM]  - Stats (Active: 1721, Lost: 105261, Conflicts resolved: 3564)\n",
      "[INFO][2022/08/08 06:55:29 PM] Tracking objects in frames 50 to 74 (of 75)...\n",
      "[INFO][2022/08/08 06:55:31 PM]  - Timing (Bayesian updates: 11.76ms, Linking: 1.06ms)\n",
      "[INFO][2022/08/08 06:55:31 PM]  - Probabilities (Link: 0.92668, Lost: 1.00000)\n",
      "[INFO][2022/08/08 06:55:31 PM] SUCCESS.\n",
      "[INFO][2022/08/08 06:55:31 PM]  - Found 17653 tracks in 75 frames (in 0.0s)\n",
      "[INFO][2022/08/08 06:55:31 PM]  - Inserted 23139 dummy objects to fill tracking gaps\n",
      "[INFO][2022/08/08 06:55:31 PM] Ending BayesianTracker session\n",
      "[INFO][2022/08/08 06:55:31 PM] Loaded btrack: /home/dayn/miniconda3/envs/aero/lib/python3.9/site-packages/btrack/libs/libtracker.so\n",
      "[INFO][2022/08/08 06:55:31 PM] btrack (v0.4.5) library imported\n",
      "[INFO][2022/08/08 06:55:31 PM] Starting BayesianTracker session\n",
      "[INFO][2022/08/08 06:55:31 PM] Loading configuration file: /home/dayn/analysis/BayesianTracker/models/param_test_config_hypo.json\n",
      "[INFO][2022/08/08 06:55:31 PM] Setting max_search_radius -> 500\n",
      "[INFO][2022/08/08 06:55:31 PM] Setting features -> ['area', 'major_axis_length', 'minor_axis_length', 'orientation', 'solidity', 'mean_intensity']\n",
      "[INFO][2022/08/08 06:55:31 PM] Objects are of type: <class 'list'>\n"
     ]
    },
    {
     "name": "stdout",
     "output_type": "stream",
     "text": [
      "(10, 3, 100, 20, 160) 3.2823316150229425\n"
     ]
    },
    {
     "name": "stderr",
     "output_type": "stream",
     "text": [
      "[INFO][2022/08/08 06:55:31 PM] Setting volume -> ((0, 6048), (0, 6048), (-100000.0, 100000.0))\n",
      "[INFO][2022/08/08 06:55:31 PM] Starting tracking... \n",
      "[INFO][2022/08/08 06:55:32 PM] Tracking objects in frames 0 to 24 (of 75)...\n",
      "[INFO][2022/08/08 06:55:45 PM]  - Timing (Bayesian updates: 516.47ms, Linking: 12.09ms)\n",
      "[INFO][2022/08/08 06:55:45 PM]  - Probabilities (Link: 0.97446, Lost: 1.00000)\n",
      "[INFO][2022/08/08 06:55:45 PM]  - Stats (Active: 2550, Lost: 51737, Conflicts resolved: 1956)\n",
      "[INFO][2022/08/08 06:55:45 PM] Tracking objects in frames 25 to 49 (of 75)...\n",
      "[INFO][2022/08/08 06:55:56 PM]  - Timing (Bayesian updates: 179.13ms, Linking: 6.02ms)\n",
      "[INFO][2022/08/08 06:55:56 PM]  - Probabilities (Link: 0.94544, Lost: 1.00000)\n",
      "[INFO][2022/08/08 06:55:56 PM]  - Stats (Active: 1721, Lost: 105261, Conflicts resolved: 3564)\n",
      "[INFO][2022/08/08 06:55:56 PM] Tracking objects in frames 50 to 74 (of 75)...\n",
      "[INFO][2022/08/08 06:55:57 PM]  - Timing (Bayesian updates: 12.06ms, Linking: 1.07ms)\n",
      "[INFO][2022/08/08 06:55:57 PM]  - Probabilities (Link: 0.92668, Lost: 1.00000)\n",
      "[INFO][2022/08/08 06:55:57 PM] SUCCESS.\n",
      "[INFO][2022/08/08 06:55:57 PM]  - Found 17653 tracks in 75 frames (in 0.0s)\n",
      "[INFO][2022/08/08 06:55:57 PM]  - Inserted 23139 dummy objects to fill tracking gaps\n",
      "[INFO][2022/08/08 06:55:58 PM] Ending BayesianTracker session\n",
      "[INFO][2022/08/08 06:55:58 PM] Loaded btrack: /home/dayn/miniconda3/envs/aero/lib/python3.9/site-packages/btrack/libs/libtracker.so\n",
      "[INFO][2022/08/08 06:55:58 PM] btrack (v0.4.5) library imported\n",
      "[INFO][2022/08/08 06:55:58 PM] Starting BayesianTracker session\n",
      "[INFO][2022/08/08 06:55:58 PM] Loading configuration file: /home/dayn/analysis/BayesianTracker/models/param_test_config_hypo.json\n",
      "[INFO][2022/08/08 06:55:58 PM] Setting max_search_radius -> 500\n",
      "[INFO][2022/08/08 06:55:58 PM] Setting features -> ['area', 'major_axis_length', 'minor_axis_length', 'orientation', 'solidity', 'mean_intensity']\n",
      "[INFO][2022/08/08 06:55:58 PM] Objects are of type: <class 'list'>\n"
     ]
    },
    {
     "name": "stdout",
     "output_type": "stream",
     "text": [
      "(10, 3, 100, 100, 40) 3.2823316150229425\n"
     ]
    },
    {
     "name": "stderr",
     "output_type": "stream",
     "text": [
      "[INFO][2022/08/08 06:55:58 PM] Setting volume -> ((0, 6048), (0, 6048), (-100000.0, 100000.0))\n",
      "[INFO][2022/08/08 06:55:58 PM] Starting tracking... \n",
      "[INFO][2022/08/08 06:55:59 PM] Tracking objects in frames 0 to 24 (of 75)...\n",
      "[INFO][2022/08/08 06:56:12 PM]  - Timing (Bayesian updates: 521.88ms, Linking: 12.33ms)\n",
      "[INFO][2022/08/08 06:56:12 PM]  - Probabilities (Link: 0.97446, Lost: 1.00000)\n",
      "[INFO][2022/08/08 06:56:12 PM]  - Stats (Active: 2550, Lost: 51737, Conflicts resolved: 1956)\n",
      "[INFO][2022/08/08 06:56:12 PM] Tracking objects in frames 25 to 49 (of 75)...\n",
      "[INFO][2022/08/08 06:56:23 PM]  - Timing (Bayesian updates: 179.29ms, Linking: 5.61ms)\n",
      "[INFO][2022/08/08 06:56:23 PM]  - Probabilities (Link: 0.94544, Lost: 1.00000)\n",
      "[INFO][2022/08/08 06:56:23 PM]  - Stats (Active: 1721, Lost: 105261, Conflicts resolved: 3564)\n",
      "[INFO][2022/08/08 06:56:23 PM] Tracking objects in frames 50 to 74 (of 75)...\n",
      "[INFO][2022/08/08 06:56:24 PM]  - Timing (Bayesian updates: 12.19ms, Linking: 1.08ms)\n",
      "[INFO][2022/08/08 06:56:24 PM]  - Probabilities (Link: 0.92668, Lost: 1.00000)\n",
      "[INFO][2022/08/08 06:56:24 PM] SUCCESS.\n",
      "[INFO][2022/08/08 06:56:24 PM]  - Found 17653 tracks in 75 frames (in 0.0s)\n",
      "[INFO][2022/08/08 06:56:25 PM]  - Inserted 23139 dummy objects to fill tracking gaps\n",
      "[INFO][2022/08/08 06:56:25 PM] Ending BayesianTracker session\n",
      "[INFO][2022/08/08 06:56:25 PM] Loaded btrack: /home/dayn/miniconda3/envs/aero/lib/python3.9/site-packages/btrack/libs/libtracker.so\n",
      "[INFO][2022/08/08 06:56:25 PM] btrack (v0.4.5) library imported\n",
      "[INFO][2022/08/08 06:56:25 PM] Starting BayesianTracker session\n",
      "[INFO][2022/08/08 06:56:25 PM] Loading configuration file: /home/dayn/analysis/BayesianTracker/models/param_test_config_hypo.json\n",
      "[INFO][2022/08/08 06:56:25 PM] Setting max_search_radius -> 500\n",
      "[INFO][2022/08/08 06:56:25 PM] Setting features -> ['area', 'major_axis_length', 'minor_axis_length', 'orientation', 'solidity', 'mean_intensity']\n",
      "[INFO][2022/08/08 06:56:25 PM] Objects are of type: <class 'list'>\n"
     ]
    },
    {
     "name": "stdout",
     "output_type": "stream",
     "text": [
      "(10, 3, 100, 100, 80) 3.2823316150229425\n"
     ]
    },
    {
     "name": "stderr",
     "output_type": "stream",
     "text": [
      "[INFO][2022/08/08 06:56:25 PM] Setting volume -> ((0, 6048), (0, 6048), (-100000.0, 100000.0))\n",
      "[INFO][2022/08/08 06:56:25 PM] Starting tracking... \n",
      "[INFO][2022/08/08 06:56:26 PM] Tracking objects in frames 0 to 24 (of 75)...\n",
      "[INFO][2022/08/08 06:56:39 PM]  - Timing (Bayesian updates: 517.15ms, Linking: 11.80ms)\n",
      "[INFO][2022/08/08 06:56:39 PM]  - Probabilities (Link: 0.97446, Lost: 1.00000)\n",
      "[INFO][2022/08/08 06:56:39 PM]  - Stats (Active: 2550, Lost: 51737, Conflicts resolved: 1956)\n",
      "[INFO][2022/08/08 06:56:39 PM] Tracking objects in frames 25 to 49 (of 75)...\n",
      "[INFO][2022/08/08 06:56:51 PM]  - Timing (Bayesian updates: 179.94ms, Linking: 6.08ms)\n",
      "[INFO][2022/08/08 06:56:51 PM]  - Probabilities (Link: 0.94544, Lost: 1.00000)\n",
      "[INFO][2022/08/08 06:56:51 PM]  - Stats (Active: 1721, Lost: 105261, Conflicts resolved: 3564)\n",
      "[INFO][2022/08/08 06:56:51 PM] Tracking objects in frames 50 to 74 (of 75)...\n",
      "[INFO][2022/08/08 06:56:52 PM]  - Timing (Bayesian updates: 11.88ms, Linking: 1.14ms)\n",
      "[INFO][2022/08/08 06:56:52 PM]  - Probabilities (Link: 0.92668, Lost: 1.00000)\n",
      "[INFO][2022/08/08 06:56:52 PM] SUCCESS.\n",
      "[INFO][2022/08/08 06:56:52 PM]  - Found 17653 tracks in 75 frames (in 0.0s)\n",
      "[INFO][2022/08/08 06:56:52 PM]  - Inserted 23139 dummy objects to fill tracking gaps\n",
      "[INFO][2022/08/08 06:56:53 PM] Ending BayesianTracker session\n",
      "[INFO][2022/08/08 06:56:53 PM] Loaded btrack: /home/dayn/miniconda3/envs/aero/lib/python3.9/site-packages/btrack/libs/libtracker.so\n",
      "[INFO][2022/08/08 06:56:53 PM] btrack (v0.4.5) library imported\n",
      "[INFO][2022/08/08 06:56:53 PM] Starting BayesianTracker session\n",
      "[INFO][2022/08/08 06:56:53 PM] Loading configuration file: /home/dayn/analysis/BayesianTracker/models/param_test_config_hypo.json\n",
      "[INFO][2022/08/08 06:56:53 PM] Setting max_search_radius -> 500\n",
      "[INFO][2022/08/08 06:56:53 PM] Setting features -> ['area', 'major_axis_length', 'minor_axis_length', 'orientation', 'solidity', 'mean_intensity']\n",
      "[INFO][2022/08/08 06:56:53 PM] Objects are of type: <class 'list'>\n"
     ]
    },
    {
     "name": "stdout",
     "output_type": "stream",
     "text": [
      "(10, 3, 100, 100, 160) 3.2823316150229425\n"
     ]
    },
    {
     "name": "stderr",
     "output_type": "stream",
     "text": [
      "[INFO][2022/08/08 06:56:53 PM] Setting volume -> ((0, 6048), (0, 6048), (-100000.0, 100000.0))\n",
      "[INFO][2022/08/08 06:56:53 PM] Starting tracking... \n",
      "[INFO][2022/08/08 06:56:53 PM] Tracking objects in frames 0 to 24 (of 75)...\n",
      "[INFO][2022/08/08 06:57:07 PM]  - Timing (Bayesian updates: 516.78ms, Linking: 12.05ms)\n",
      "[INFO][2022/08/08 06:57:07 PM]  - Probabilities (Link: 0.97446, Lost: 1.00000)\n",
      "[INFO][2022/08/08 06:57:07 PM]  - Stats (Active: 2550, Lost: 51737, Conflicts resolved: 1956)\n",
      "[INFO][2022/08/08 06:57:07 PM] Tracking objects in frames 25 to 49 (of 75)...\n",
      "[INFO][2022/08/08 06:57:18 PM]  - Timing (Bayesian updates: 180.13ms, Linking: 5.58ms)\n",
      "[INFO][2022/08/08 06:57:18 PM]  - Probabilities (Link: 0.94544, Lost: 1.00000)\n",
      "[INFO][2022/08/08 06:57:18 PM]  - Stats (Active: 1721, Lost: 105261, Conflicts resolved: 3564)\n",
      "[INFO][2022/08/08 06:57:18 PM] Tracking objects in frames 50 to 74 (of 75)...\n",
      "[INFO][2022/08/08 06:57:19 PM]  - Timing (Bayesian updates: 11.96ms, Linking: 1.08ms)\n",
      "[INFO][2022/08/08 06:57:19 PM]  - Probabilities (Link: 0.92668, Lost: 1.00000)\n",
      "[INFO][2022/08/08 06:57:19 PM] SUCCESS.\n",
      "[INFO][2022/08/08 06:57:19 PM]  - Found 17653 tracks in 75 frames (in 0.0s)\n",
      "[INFO][2022/08/08 06:57:19 PM]  - Inserted 23139 dummy objects to fill tracking gaps\n",
      "[INFO][2022/08/08 06:57:19 PM] Ending BayesianTracker session\n",
      "[INFO][2022/08/08 06:57:20 PM] Loaded btrack: /home/dayn/miniconda3/envs/aero/lib/python3.9/site-packages/btrack/libs/libtracker.so\n",
      "[INFO][2022/08/08 06:57:20 PM] btrack (v0.4.5) library imported\n",
      "[INFO][2022/08/08 06:57:20 PM] Starting BayesianTracker session\n",
      "[INFO][2022/08/08 06:57:20 PM] Loading configuration file: /home/dayn/analysis/BayesianTracker/models/param_test_config_hypo.json\n",
      "[INFO][2022/08/08 06:57:20 PM] Setting max_search_radius -> 500\n",
      "[INFO][2022/08/08 06:57:20 PM] Setting features -> ['area', 'major_axis_length', 'minor_axis_length', 'orientation', 'solidity', 'mean_intensity']\n",
      "[INFO][2022/08/08 06:57:20 PM] Objects are of type: <class 'list'>\n",
      "[INFO][2022/08/08 06:57:20 PM] Setting volume -> ((0, 6048), (0, 6048), (-100000.0, 100000.0))\n",
      "[INFO][2022/08/08 06:57:20 PM] Starting tracking... \n"
     ]
    },
    {
     "name": "stdout",
     "output_type": "stream",
     "text": [
      "(10, 3, 300, 5, 40) 3.2823316150229425\n"
     ]
    },
    {
     "name": "stderr",
     "output_type": "stream",
     "text": [
      "[INFO][2022/08/08 06:57:20 PM] Tracking objects in frames 0 to 24 (of 75)...\n",
      "[INFO][2022/08/08 06:57:33 PM]  - Timing (Bayesian updates: 518.61ms, Linking: 12.13ms)\n",
      "[INFO][2022/08/08 06:57:33 PM]  - Probabilities (Link: 0.97446, Lost: 1.00000)\n",
      "[INFO][2022/08/08 06:57:33 PM]  - Stats (Active: 2550, Lost: 51737, Conflicts resolved: 1956)\n",
      "[INFO][2022/08/08 06:57:33 PM] Tracking objects in frames 25 to 49 (of 75)...\n",
      "[INFO][2022/08/08 06:57:44 PM]  - Timing (Bayesian updates: 178.51ms, Linking: 5.72ms)\n",
      "[INFO][2022/08/08 06:57:44 PM]  - Probabilities (Link: 0.94544, Lost: 1.00000)\n",
      "[INFO][2022/08/08 06:57:44 PM]  - Stats (Active: 1721, Lost: 105261, Conflicts resolved: 3564)\n",
      "[INFO][2022/08/08 06:57:44 PM] Tracking objects in frames 50 to 74 (of 75)...\n",
      "[INFO][2022/08/08 06:57:45 PM]  - Timing (Bayesian updates: 11.63ms, Linking: 1.03ms)\n",
      "[INFO][2022/08/08 06:57:45 PM]  - Probabilities (Link: 0.92668, Lost: 1.00000)\n",
      "[INFO][2022/08/08 06:57:45 PM] SUCCESS.\n",
      "[INFO][2022/08/08 06:57:45 PM]  - Found 17653 tracks in 75 frames (in 0.0s)\n",
      "[INFO][2022/08/08 06:57:45 PM]  - Inserted 23139 dummy objects to fill tracking gaps\n",
      "[INFO][2022/08/08 06:57:46 PM] Ending BayesianTracker session\n",
      "[INFO][2022/08/08 06:57:46 PM] Loaded btrack: /home/dayn/miniconda3/envs/aero/lib/python3.9/site-packages/btrack/libs/libtracker.so\n",
      "[INFO][2022/08/08 06:57:46 PM] btrack (v0.4.5) library imported\n",
      "[INFO][2022/08/08 06:57:46 PM] Starting BayesianTracker session\n",
      "[INFO][2022/08/08 06:57:46 PM] Loading configuration file: /home/dayn/analysis/BayesianTracker/models/param_test_config_hypo.json\n",
      "[INFO][2022/08/08 06:57:46 PM] Setting max_search_radius -> 500\n",
      "[INFO][2022/08/08 06:57:46 PM] Setting features -> ['area', 'major_axis_length', 'minor_axis_length', 'orientation', 'solidity', 'mean_intensity']\n",
      "[INFO][2022/08/08 06:57:46 PM] Objects are of type: <class 'list'>\n"
     ]
    },
    {
     "name": "stdout",
     "output_type": "stream",
     "text": [
      "(10, 3, 300, 5, 80) 3.2823316150229425\n"
     ]
    },
    {
     "name": "stderr",
     "output_type": "stream",
     "text": [
      "[INFO][2022/08/08 06:57:46 PM] Setting volume -> ((0, 6048), (0, 6048), (-100000.0, 100000.0))\n",
      "[INFO][2022/08/08 06:57:46 PM] Starting tracking... \n",
      "[INFO][2022/08/08 06:57:46 PM] Tracking objects in frames 0 to 24 (of 75)...\n",
      "[INFO][2022/08/08 06:57:59 PM]  - Timing (Bayesian updates: 517.96ms, Linking: 12.34ms)\n",
      "[INFO][2022/08/08 06:57:59 PM]  - Probabilities (Link: 0.97446, Lost: 1.00000)\n",
      "[INFO][2022/08/08 06:57:59 PM]  - Stats (Active: 2550, Lost: 51737, Conflicts resolved: 1956)\n",
      "[INFO][2022/08/08 06:57:59 PM] Tracking objects in frames 25 to 49 (of 75)...\n",
      "[INFO][2022/08/08 06:58:11 PM]  - Timing (Bayesian updates: 179.94ms, Linking: 5.45ms)\n",
      "[INFO][2022/08/08 06:58:11 PM]  - Probabilities (Link: 0.94544, Lost: 1.00000)\n",
      "[INFO][2022/08/08 06:58:11 PM]  - Stats (Active: 1721, Lost: 105261, Conflicts resolved: 3564)\n",
      "[INFO][2022/08/08 06:58:11 PM] Tracking objects in frames 50 to 74 (of 75)...\n",
      "[INFO][2022/08/08 06:58:12 PM]  - Timing (Bayesian updates: 12.05ms, Linking: 1.18ms)\n",
      "[INFO][2022/08/08 06:58:12 PM]  - Probabilities (Link: 0.92668, Lost: 1.00000)\n",
      "[INFO][2022/08/08 06:58:12 PM] SUCCESS.\n",
      "[INFO][2022/08/08 06:58:12 PM]  - Found 17653 tracks in 75 frames (in 0.0s)\n",
      "[INFO][2022/08/08 06:58:12 PM]  - Inserted 23139 dummy objects to fill tracking gaps\n",
      "[INFO][2022/08/08 06:58:12 PM] Ending BayesianTracker session\n",
      "[INFO][2022/08/08 06:58:13 PM] Loaded btrack: /home/dayn/miniconda3/envs/aero/lib/python3.9/site-packages/btrack/libs/libtracker.so\n",
      "[INFO][2022/08/08 06:58:13 PM] btrack (v0.4.5) library imported\n",
      "[INFO][2022/08/08 06:58:13 PM] Starting BayesianTracker session\n",
      "[INFO][2022/08/08 06:58:13 PM] Loading configuration file: /home/dayn/analysis/BayesianTracker/models/param_test_config_hypo.json\n",
      "[INFO][2022/08/08 06:58:13 PM] Setting max_search_radius -> 500\n",
      "[INFO][2022/08/08 06:58:13 PM] Setting features -> ['area', 'major_axis_length', 'minor_axis_length', 'orientation', 'solidity', 'mean_intensity']\n",
      "[INFO][2022/08/08 06:58:13 PM] Objects are of type: <class 'list'>\n"
     ]
    },
    {
     "name": "stdout",
     "output_type": "stream",
     "text": [
      "(10, 3, 300, 5, 160) 3.2823316150229425\n"
     ]
    },
    {
     "name": "stderr",
     "output_type": "stream",
     "text": [
      "[INFO][2022/08/08 06:58:13 PM] Setting volume -> ((0, 6048), (0, 6048), (-100000.0, 100000.0))\n",
      "[INFO][2022/08/08 06:58:13 PM] Starting tracking... \n",
      "[INFO][2022/08/08 06:58:13 PM] Tracking objects in frames 0 to 24 (of 75)...\n",
      "[INFO][2022/08/08 06:58:26 PM]  - Timing (Bayesian updates: 526.82ms, Linking: 12.01ms)\n",
      "[INFO][2022/08/08 06:58:26 PM]  - Probabilities (Link: 0.97446, Lost: 1.00000)\n",
      "[INFO][2022/08/08 06:58:26 PM]  - Stats (Active: 2550, Lost: 51737, Conflicts resolved: 1956)\n",
      "[INFO][2022/08/08 06:58:26 PM] Tracking objects in frames 25 to 49 (of 75)...\n",
      "[INFO][2022/08/08 06:58:37 PM]  - Timing (Bayesian updates: 178.92ms, Linking: 5.51ms)\n",
      "[INFO][2022/08/08 06:58:37 PM]  - Probabilities (Link: 0.94544, Lost: 1.00000)\n",
      "[INFO][2022/08/08 06:58:37 PM]  - Stats (Active: 1721, Lost: 105261, Conflicts resolved: 3564)\n",
      "[INFO][2022/08/08 06:58:37 PM] Tracking objects in frames 50 to 74 (of 75)...\n",
      "[INFO][2022/08/08 06:58:38 PM]  - Timing (Bayesian updates: 11.87ms, Linking: 1.03ms)\n",
      "[INFO][2022/08/08 06:58:38 PM]  - Probabilities (Link: 0.92668, Lost: 1.00000)\n",
      "[INFO][2022/08/08 06:58:38 PM] SUCCESS.\n",
      "[INFO][2022/08/08 06:58:38 PM]  - Found 17653 tracks in 75 frames (in 0.0s)\n",
      "[INFO][2022/08/08 06:58:39 PM]  - Inserted 23139 dummy objects to fill tracking gaps\n",
      "[INFO][2022/08/08 06:58:39 PM] Ending BayesianTracker session\n",
      "[INFO][2022/08/08 06:58:39 PM] Loaded btrack: /home/dayn/miniconda3/envs/aero/lib/python3.9/site-packages/btrack/libs/libtracker.so\n",
      "[INFO][2022/08/08 06:58:39 PM] btrack (v0.4.5) library imported\n",
      "[INFO][2022/08/08 06:58:39 PM] Starting BayesianTracker session\n",
      "[INFO][2022/08/08 06:58:39 PM] Loading configuration file: /home/dayn/analysis/BayesianTracker/models/param_test_config_hypo.json\n",
      "[INFO][2022/08/08 06:58:39 PM] Setting max_search_radius -> 500\n",
      "[INFO][2022/08/08 06:58:39 PM] Setting features -> ['area', 'major_axis_length', 'minor_axis_length', 'orientation', 'solidity', 'mean_intensity']\n",
      "[INFO][2022/08/08 06:58:39 PM] Objects are of type: <class 'list'>\n"
     ]
    },
    {
     "name": "stdout",
     "output_type": "stream",
     "text": [
      "(10, 3, 300, 20, 40) 3.2823316150229425\n"
     ]
    },
    {
     "name": "stderr",
     "output_type": "stream",
     "text": [
      "[INFO][2022/08/08 06:58:39 PM] Setting volume -> ((0, 6048), (0, 6048), (-100000.0, 100000.0))\n",
      "[INFO][2022/08/08 06:58:39 PM] Starting tracking... \n",
      "[INFO][2022/08/08 06:58:39 PM] Tracking objects in frames 0 to 24 (of 75)...\n",
      "[INFO][2022/08/08 06:58:52 PM]  - Timing (Bayesian updates: 517.89ms, Linking: 11.84ms)\n",
      "[INFO][2022/08/08 06:58:52 PM]  - Probabilities (Link: 0.97446, Lost: 1.00000)\n",
      "[INFO][2022/08/08 06:58:52 PM]  - Stats (Active: 2550, Lost: 51737, Conflicts resolved: 1956)\n",
      "[INFO][2022/08/08 06:58:52 PM] Tracking objects in frames 25 to 49 (of 75)...\n",
      "[INFO][2022/08/08 06:59:03 PM]  - Timing (Bayesian updates: 178.86ms, Linking: 5.84ms)\n",
      "[INFO][2022/08/08 06:59:03 PM]  - Probabilities (Link: 0.94544, Lost: 1.00000)\n",
      "[INFO][2022/08/08 06:59:03 PM]  - Stats (Active: 1721, Lost: 105261, Conflicts resolved: 3564)\n",
      "[INFO][2022/08/08 06:59:03 PM] Tracking objects in frames 50 to 74 (of 75)...\n",
      "[INFO][2022/08/08 06:59:05 PM]  - Timing (Bayesian updates: 11.84ms, Linking: 1.03ms)\n",
      "[INFO][2022/08/08 06:59:05 PM]  - Probabilities (Link: 0.92668, Lost: 1.00000)\n",
      "[INFO][2022/08/08 06:59:05 PM] SUCCESS.\n",
      "[INFO][2022/08/08 06:59:05 PM]  - Found 17653 tracks in 75 frames (in 0.0s)\n",
      "[INFO][2022/08/08 06:59:05 PM]  - Inserted 23139 dummy objects to fill tracking gaps\n",
      "[INFO][2022/08/08 06:59:05 PM] Ending BayesianTracker session\n",
      "[INFO][2022/08/08 06:59:06 PM] Loaded btrack: /home/dayn/miniconda3/envs/aero/lib/python3.9/site-packages/btrack/libs/libtracker.so\n",
      "[INFO][2022/08/08 06:59:06 PM] btrack (v0.4.5) library imported\n",
      "[INFO][2022/08/08 06:59:06 PM] Starting BayesianTracker session\n",
      "[INFO][2022/08/08 06:59:06 PM] Loading configuration file: /home/dayn/analysis/BayesianTracker/models/param_test_config_hypo.json\n",
      "[INFO][2022/08/08 06:59:06 PM] Setting max_search_radius -> 500\n",
      "[INFO][2022/08/08 06:59:06 PM] Setting features -> ['area', 'major_axis_length', 'minor_axis_length', 'orientation', 'solidity', 'mean_intensity']\n",
      "[INFO][2022/08/08 06:59:06 PM] Objects are of type: <class 'list'>\n",
      "[INFO][2022/08/08 06:59:06 PM] Setting volume -> ((0, 6048), (0, 6048), (-100000.0, 100000.0))\n"
     ]
    },
    {
     "name": "stdout",
     "output_type": "stream",
     "text": [
      "(10, 3, 300, 20, 80) 3.2823316150229425\n"
     ]
    },
    {
     "name": "stderr",
     "output_type": "stream",
     "text": [
      "[INFO][2022/08/08 06:59:06 PM] Starting tracking... \n",
      "[INFO][2022/08/08 06:59:06 PM] Tracking objects in frames 0 to 24 (of 75)...\n",
      "[INFO][2022/08/08 06:59:19 PM]  - Timing (Bayesian updates: 518.70ms, Linking: 11.77ms)\n",
      "[INFO][2022/08/08 06:59:19 PM]  - Probabilities (Link: 0.97446, Lost: 1.00000)\n",
      "[INFO][2022/08/08 06:59:19 PM]  - Stats (Active: 2550, Lost: 51737, Conflicts resolved: 1956)\n",
      "[INFO][2022/08/08 06:59:19 PM] Tracking objects in frames 25 to 49 (of 75)...\n",
      "[INFO][2022/08/08 06:59:30 PM]  - Timing (Bayesian updates: 179.52ms, Linking: 6.09ms)\n",
      "[INFO][2022/08/08 06:59:30 PM]  - Probabilities (Link: 0.94544, Lost: 1.00000)\n",
      "[INFO][2022/08/08 06:59:30 PM]  - Stats (Active: 1721, Lost: 105261, Conflicts resolved: 3564)\n",
      "[INFO][2022/08/08 06:59:30 PM] Tracking objects in frames 50 to 74 (of 75)...\n",
      "[INFO][2022/08/08 06:59:31 PM]  - Timing (Bayesian updates: 11.70ms, Linking: 1.07ms)\n",
      "[INFO][2022/08/08 06:59:31 PM]  - Probabilities (Link: 0.92668, Lost: 1.00000)\n",
      "[INFO][2022/08/08 06:59:31 PM] SUCCESS.\n",
      "[INFO][2022/08/08 06:59:31 PM]  - Found 17653 tracks in 75 frames (in 0.0s)\n",
      "[INFO][2022/08/08 06:59:31 PM]  - Inserted 23139 dummy objects to fill tracking gaps\n",
      "[INFO][2022/08/08 06:59:32 PM] Ending BayesianTracker session\n",
      "[INFO][2022/08/08 06:59:32 PM] Loaded btrack: /home/dayn/miniconda3/envs/aero/lib/python3.9/site-packages/btrack/libs/libtracker.so\n",
      "[INFO][2022/08/08 06:59:32 PM] btrack (v0.4.5) library imported\n",
      "[INFO][2022/08/08 06:59:32 PM] Starting BayesianTracker session\n",
      "[INFO][2022/08/08 06:59:32 PM] Loading configuration file: /home/dayn/analysis/BayesianTracker/models/param_test_config_hypo.json\n",
      "[INFO][2022/08/08 06:59:32 PM] Setting max_search_radius -> 500\n",
      "[INFO][2022/08/08 06:59:32 PM] Setting features -> ['area', 'major_axis_length', 'minor_axis_length', 'orientation', 'solidity', 'mean_intensity']\n",
      "[INFO][2022/08/08 06:59:32 PM] Objects are of type: <class 'list'>\n",
      "[INFO][2022/08/08 06:59:32 PM] Setting volume -> ((0, 6048), (0, 6048), (-100000.0, 100000.0))\n",
      "[INFO][2022/08/08 06:59:32 PM] Starting tracking... \n"
     ]
    },
    {
     "name": "stdout",
     "output_type": "stream",
     "text": [
      "(10, 3, 300, 20, 160) 3.2823316150229425\n"
     ]
    },
    {
     "name": "stderr",
     "output_type": "stream",
     "text": [
      "[INFO][2022/08/08 06:59:32 PM] Tracking objects in frames 0 to 24 (of 75)...\n",
      "[INFO][2022/08/08 06:59:45 PM]  - Timing (Bayesian updates: 517.32ms, Linking: 12.22ms)\n",
      "[INFO][2022/08/08 06:59:45 PM]  - Probabilities (Link: 0.97446, Lost: 1.00000)\n",
      "[INFO][2022/08/08 06:59:45 PM]  - Stats (Active: 2550, Lost: 51737, Conflicts resolved: 1956)\n",
      "[INFO][2022/08/08 06:59:45 PM] Tracking objects in frames 25 to 49 (of 75)...\n",
      "[INFO][2022/08/08 06:59:56 PM]  - Timing (Bayesian updates: 179.44ms, Linking: 5.85ms)\n",
      "[INFO][2022/08/08 06:59:56 PM]  - Probabilities (Link: 0.94544, Lost: 1.00000)\n",
      "[INFO][2022/08/08 06:59:56 PM]  - Stats (Active: 1721, Lost: 105261, Conflicts resolved: 3564)\n",
      "[INFO][2022/08/08 06:59:56 PM] Tracking objects in frames 50 to 74 (of 75)...\n",
      "[INFO][2022/08/08 06:59:58 PM]  - Timing (Bayesian updates: 11.82ms, Linking: 1.10ms)\n",
      "[INFO][2022/08/08 06:59:58 PM]  - Probabilities (Link: 0.92668, Lost: 1.00000)\n",
      "[INFO][2022/08/08 06:59:58 PM] SUCCESS.\n",
      "[INFO][2022/08/08 06:59:58 PM]  - Found 17653 tracks in 75 frames (in 0.0s)\n",
      "[INFO][2022/08/08 06:59:58 PM]  - Inserted 23139 dummy objects to fill tracking gaps\n",
      "[INFO][2022/08/08 06:59:58 PM] Ending BayesianTracker session\n",
      "[INFO][2022/08/08 06:59:58 PM] Loaded btrack: /home/dayn/miniconda3/envs/aero/lib/python3.9/site-packages/btrack/libs/libtracker.so\n",
      "[INFO][2022/08/08 06:59:58 PM] btrack (v0.4.5) library imported\n",
      "[INFO][2022/08/08 06:59:58 PM] Starting BayesianTracker session\n",
      "[INFO][2022/08/08 06:59:58 PM] Loading configuration file: /home/dayn/analysis/BayesianTracker/models/param_test_config_hypo.json\n",
      "[INFO][2022/08/08 06:59:58 PM] Setting max_search_radius -> 500\n",
      "[INFO][2022/08/08 06:59:58 PM] Setting features -> ['area', 'major_axis_length', 'minor_axis_length', 'orientation', 'solidity', 'mean_intensity']\n",
      "[INFO][2022/08/08 06:59:58 PM] Objects are of type: <class 'list'>\n"
     ]
    },
    {
     "name": "stdout",
     "output_type": "stream",
     "text": [
      "(10, 3, 300, 100, 40) 3.2823316150229425\n"
     ]
    },
    {
     "name": "stderr",
     "output_type": "stream",
     "text": [
      "[INFO][2022/08/08 06:59:58 PM] Setting volume -> ((0, 6048), (0, 6048), (-100000.0, 100000.0))\n",
      "[INFO][2022/08/08 06:59:58 PM] Starting tracking... \n",
      "[INFO][2022/08/08 06:59:59 PM] Tracking objects in frames 0 to 24 (of 75)...\n",
      "[INFO][2022/08/08 07:00:12 PM]  - Timing (Bayesian updates: 514.05ms, Linking: 11.56ms)\n",
      "[INFO][2022/08/08 07:00:12 PM]  - Probabilities (Link: 0.97446, Lost: 1.00000)\n",
      "[INFO][2022/08/08 07:00:12 PM]  - Stats (Active: 2550, Lost: 51737, Conflicts resolved: 1956)\n",
      "[INFO][2022/08/08 07:00:12 PM] Tracking objects in frames 25 to 49 (of 75)...\n",
      "[INFO][2022/08/08 07:00:23 PM]  - Timing (Bayesian updates: 179.52ms, Linking: 5.92ms)\n",
      "[INFO][2022/08/08 07:00:23 PM]  - Probabilities (Link: 0.94544, Lost: 1.00000)\n",
      "[INFO][2022/08/08 07:00:23 PM]  - Stats (Active: 1721, Lost: 105261, Conflicts resolved: 3564)\n",
      "[INFO][2022/08/08 07:00:23 PM] Tracking objects in frames 50 to 74 (of 75)...\n",
      "[INFO][2022/08/08 07:00:24 PM]  - Timing (Bayesian updates: 11.78ms, Linking: 1.07ms)\n",
      "[INFO][2022/08/08 07:00:24 PM]  - Probabilities (Link: 0.92668, Lost: 1.00000)\n",
      "[INFO][2022/08/08 07:00:24 PM] SUCCESS.\n",
      "[INFO][2022/08/08 07:00:24 PM]  - Found 17653 tracks in 75 frames (in 0.0s)\n",
      "[INFO][2022/08/08 07:00:24 PM]  - Inserted 23139 dummy objects to fill tracking gaps\n",
      "[INFO][2022/08/08 07:00:25 PM] Ending BayesianTracker session\n",
      "[INFO][2022/08/08 07:00:25 PM] Loaded btrack: /home/dayn/miniconda3/envs/aero/lib/python3.9/site-packages/btrack/libs/libtracker.so\n",
      "[INFO][2022/08/08 07:00:25 PM] btrack (v0.4.5) library imported\n",
      "[INFO][2022/08/08 07:00:25 PM] Starting BayesianTracker session\n",
      "[INFO][2022/08/08 07:00:25 PM] Loading configuration file: /home/dayn/analysis/BayesianTracker/models/param_test_config_hypo.json\n",
      "[INFO][2022/08/08 07:00:25 PM] Setting max_search_radius -> 500\n",
      "[INFO][2022/08/08 07:00:25 PM] Setting features -> ['area', 'major_axis_length', 'minor_axis_length', 'orientation', 'solidity', 'mean_intensity']\n",
      "[INFO][2022/08/08 07:00:25 PM] Objects are of type: <class 'list'>\n"
     ]
    },
    {
     "name": "stdout",
     "output_type": "stream",
     "text": [
      "(10, 3, 300, 100, 80) 3.2823316150229425\n"
     ]
    },
    {
     "name": "stderr",
     "output_type": "stream",
     "text": [
      "[INFO][2022/08/08 07:00:25 PM] Setting volume -> ((0, 6048), (0, 6048), (-100000.0, 100000.0))\n",
      "[INFO][2022/08/08 07:00:25 PM] Starting tracking... \n",
      "[INFO][2022/08/08 07:00:25 PM] Tracking objects in frames 0 to 24 (of 75)...\n",
      "[INFO][2022/08/08 07:00:38 PM]  - Timing (Bayesian updates: 518.66ms, Linking: 11.96ms)\n",
      "[INFO][2022/08/08 07:00:38 PM]  - Probabilities (Link: 0.97446, Lost: 1.00000)\n",
      "[INFO][2022/08/08 07:00:38 PM]  - Stats (Active: 2550, Lost: 51737, Conflicts resolved: 1956)\n",
      "[INFO][2022/08/08 07:00:38 PM] Tracking objects in frames 25 to 49 (of 75)...\n",
      "[INFO][2022/08/08 07:00:49 PM]  - Timing (Bayesian updates: 179.82ms, Linking: 6.23ms)\n",
      "[INFO][2022/08/08 07:00:49 PM]  - Probabilities (Link: 0.94544, Lost: 1.00000)\n",
      "[INFO][2022/08/08 07:00:49 PM]  - Stats (Active: 1721, Lost: 105261, Conflicts resolved: 3564)\n",
      "[INFO][2022/08/08 07:00:49 PM] Tracking objects in frames 50 to 74 (of 75)...\n",
      "[INFO][2022/08/08 07:00:51 PM]  - Timing (Bayesian updates: 11.81ms, Linking: 1.07ms)\n",
      "[INFO][2022/08/08 07:00:51 PM]  - Probabilities (Link: 0.92668, Lost: 1.00000)\n",
      "[INFO][2022/08/08 07:00:51 PM] SUCCESS.\n",
      "[INFO][2022/08/08 07:00:51 PM]  - Found 17653 tracks in 75 frames (in 0.0s)\n",
      "[INFO][2022/08/08 07:00:51 PM]  - Inserted 23139 dummy objects to fill tracking gaps\n",
      "[INFO][2022/08/08 07:00:51 PM] Ending BayesianTracker session\n",
      "[INFO][2022/08/08 07:00:51 PM] Loaded btrack: /home/dayn/miniconda3/envs/aero/lib/python3.9/site-packages/btrack/libs/libtracker.so\n",
      "[INFO][2022/08/08 07:00:51 PM] btrack (v0.4.5) library imported\n",
      "[INFO][2022/08/08 07:00:51 PM] Starting BayesianTracker session\n",
      "[INFO][2022/08/08 07:00:51 PM] Loading configuration file: /home/dayn/analysis/BayesianTracker/models/param_test_config_hypo.json\n",
      "[INFO][2022/08/08 07:00:51 PM] Setting max_search_radius -> 500\n",
      "[INFO][2022/08/08 07:00:51 PM] Setting features -> ['area', 'major_axis_length', 'minor_axis_length', 'orientation', 'solidity', 'mean_intensity']\n",
      "[INFO][2022/08/08 07:00:51 PM] Objects are of type: <class 'list'>\n"
     ]
    },
    {
     "name": "stdout",
     "output_type": "stream",
     "text": [
      "(10, 3, 300, 100, 160) 3.2823316150229425\n"
     ]
    },
    {
     "name": "stderr",
     "output_type": "stream",
     "text": [
      "[INFO][2022/08/08 07:00:51 PM] Setting volume -> ((0, 6048), (0, 6048), (-100000.0, 100000.0))\n",
      "[INFO][2022/08/08 07:00:51 PM] Starting tracking... \n",
      "[INFO][2022/08/08 07:00:52 PM] Tracking objects in frames 0 to 24 (of 75)...\n",
      "[INFO][2022/08/08 07:01:05 PM]  - Timing (Bayesian updates: 517.05ms, Linking: 11.78ms)\n",
      "[INFO][2022/08/08 07:01:05 PM]  - Probabilities (Link: 0.97446, Lost: 1.00000)\n",
      "[INFO][2022/08/08 07:01:05 PM]  - Stats (Active: 2550, Lost: 51737, Conflicts resolved: 1956)\n",
      "[INFO][2022/08/08 07:01:05 PM] Tracking objects in frames 25 to 49 (of 75)...\n",
      "[INFO][2022/08/08 07:01:16 PM]  - Timing (Bayesian updates: 178.23ms, Linking: 6.10ms)\n",
      "[INFO][2022/08/08 07:01:16 PM]  - Probabilities (Link: 0.94544, Lost: 1.00000)\n",
      "[INFO][2022/08/08 07:01:16 PM]  - Stats (Active: 1721, Lost: 105261, Conflicts resolved: 3564)\n",
      "[INFO][2022/08/08 07:01:16 PM] Tracking objects in frames 50 to 74 (of 75)...\n",
      "[INFO][2022/08/08 07:01:17 PM]  - Timing (Bayesian updates: 15.06ms, Linking: 1.35ms)\n",
      "[INFO][2022/08/08 07:01:17 PM]  - Probabilities (Link: 0.92668, Lost: 1.00000)\n",
      "[INFO][2022/08/08 07:01:17 PM] SUCCESS.\n",
      "[INFO][2022/08/08 07:01:17 PM]  - Found 17653 tracks in 75 frames (in 0.0s)\n",
      "[INFO][2022/08/08 07:01:17 PM]  - Inserted 23139 dummy objects to fill tracking gaps\n",
      "[INFO][2022/08/08 07:01:18 PM] Ending BayesianTracker session\n",
      "[INFO][2022/08/08 07:01:18 PM] Loaded btrack: /home/dayn/miniconda3/envs/aero/lib/python3.9/site-packages/btrack/libs/libtracker.so\n",
      "[INFO][2022/08/08 07:01:18 PM] btrack (v0.4.5) library imported\n",
      "[INFO][2022/08/08 07:01:18 PM] Starting BayesianTracker session\n",
      "[INFO][2022/08/08 07:01:18 PM] Loading configuration file: /home/dayn/analysis/BayesianTracker/models/param_test_config_hypo.json\n",
      "[INFO][2022/08/08 07:01:18 PM] Setting max_search_radius -> 500\n",
      "[INFO][2022/08/08 07:01:18 PM] Setting features -> ['area', 'major_axis_length', 'minor_axis_length', 'orientation', 'solidity', 'mean_intensity']\n",
      "[INFO][2022/08/08 07:01:18 PM] Objects are of type: <class 'list'>\n"
     ]
    },
    {
     "name": "stdout",
     "output_type": "stream",
     "text": [
      "(10, 10, 50, 5, 40) 3.2823316150229425\n"
     ]
    },
    {
     "name": "stderr",
     "output_type": "stream",
     "text": [
      "[INFO][2022/08/08 07:01:18 PM] Setting volume -> ((0, 6048), (0, 6048), (-100000.0, 100000.0))\n",
      "[INFO][2022/08/08 07:01:18 PM] Starting tracking... \n",
      "[INFO][2022/08/08 07:01:18 PM] Tracking objects in frames 0 to 24 (of 75)...\n",
      "[INFO][2022/08/08 07:01:32 PM]  - Timing (Bayesian updates: 514.20ms, Linking: 12.24ms)\n",
      "[INFO][2022/08/08 07:01:32 PM]  - Probabilities (Link: 0.97446, Lost: 1.00000)\n",
      "[INFO][2022/08/08 07:01:32 PM]  - Stats (Active: 2550, Lost: 51737, Conflicts resolved: 1956)\n",
      "[INFO][2022/08/08 07:01:32 PM] Tracking objects in frames 25 to 49 (of 75)...\n",
      "[INFO][2022/08/08 07:01:43 PM]  - Timing (Bayesian updates: 183.77ms, Linking: 7.12ms)\n",
      "[INFO][2022/08/08 07:01:43 PM]  - Probabilities (Link: 0.94544, Lost: 1.00000)\n",
      "[INFO][2022/08/08 07:01:43 PM]  - Stats (Active: 1721, Lost: 105261, Conflicts resolved: 3564)\n",
      "[INFO][2022/08/08 07:01:43 PM] Tracking objects in frames 50 to 74 (of 75)...\n",
      "[INFO][2022/08/08 07:01:44 PM]  - Timing (Bayesian updates: 11.72ms, Linking: 1.03ms)\n",
      "[INFO][2022/08/08 07:01:44 PM]  - Probabilities (Link: 0.92668, Lost: 1.00000)\n",
      "[INFO][2022/08/08 07:01:44 PM] SUCCESS.\n",
      "[INFO][2022/08/08 07:01:44 PM]  - Found 17653 tracks in 75 frames (in 0.0s)\n",
      "[INFO][2022/08/08 07:01:45 PM]  - Inserted 23139 dummy objects to fill tracking gaps\n",
      "[INFO][2022/08/08 07:01:45 PM] Ending BayesianTracker session\n",
      "[INFO][2022/08/08 07:01:45 PM] Loaded btrack: /home/dayn/miniconda3/envs/aero/lib/python3.9/site-packages/btrack/libs/libtracker.so\n",
      "[INFO][2022/08/08 07:01:45 PM] btrack (v0.4.5) library imported\n",
      "[INFO][2022/08/08 07:01:45 PM] Starting BayesianTracker session\n",
      "[INFO][2022/08/08 07:01:45 PM] Loading configuration file: /home/dayn/analysis/BayesianTracker/models/param_test_config_hypo.json\n",
      "[INFO][2022/08/08 07:01:45 PM] Setting max_search_radius -> 500\n",
      "[INFO][2022/08/08 07:01:45 PM] Setting features -> ['area', 'major_axis_length', 'minor_axis_length', 'orientation', 'solidity', 'mean_intensity']\n",
      "[INFO][2022/08/08 07:01:45 PM] Objects are of type: <class 'list'>\n",
      "[INFO][2022/08/08 07:01:45 PM] Setting volume -> ((0, 6048), (0, 6048), (-100000.0, 100000.0))\n",
      "[INFO][2022/08/08 07:01:45 PM] Starting tracking... \n"
     ]
    },
    {
     "name": "stdout",
     "output_type": "stream",
     "text": [
      "(10, 10, 50, 5, 80) 3.2823316150229425\n"
     ]
    },
    {
     "name": "stderr",
     "output_type": "stream",
     "text": [
      "[INFO][2022/08/08 07:01:46 PM] Tracking objects in frames 0 to 24 (of 75)...\n",
      "[INFO][2022/08/08 07:02:00 PM]  - Timing (Bayesian updates: 517.61ms, Linking: 12.04ms)\n",
      "[INFO][2022/08/08 07:02:00 PM]  - Probabilities (Link: 0.97446, Lost: 1.00000)\n",
      "[INFO][2022/08/08 07:02:00 PM]  - Stats (Active: 2550, Lost: 51737, Conflicts resolved: 1956)\n",
      "[INFO][2022/08/08 07:02:00 PM] Tracking objects in frames 25 to 49 (of 75)...\n",
      "[INFO][2022/08/08 07:02:11 PM]  - Timing (Bayesian updates: 181.01ms, Linking: 7.16ms)\n",
      "[INFO][2022/08/08 07:02:11 PM]  - Probabilities (Link: 0.94544, Lost: 1.00000)\n",
      "[INFO][2022/08/08 07:02:11 PM]  - Stats (Active: 1721, Lost: 105261, Conflicts resolved: 3564)\n",
      "[INFO][2022/08/08 07:02:11 PM] Tracking objects in frames 50 to 74 (of 75)...\n",
      "[INFO][2022/08/08 07:02:12 PM]  - Timing (Bayesian updates: 12.02ms, Linking: 1.12ms)\n",
      "[INFO][2022/08/08 07:02:12 PM]  - Probabilities (Link: 0.92668, Lost: 1.00000)\n",
      "[INFO][2022/08/08 07:02:12 PM] SUCCESS.\n",
      "[INFO][2022/08/08 07:02:12 PM]  - Found 17653 tracks in 75 frames (in 0.0s)\n",
      "[INFO][2022/08/08 07:02:13 PM]  - Inserted 23139 dummy objects to fill tracking gaps\n",
      "[INFO][2022/08/08 07:02:13 PM] Ending BayesianTracker session\n",
      "[INFO][2022/08/08 07:02:13 PM] Loaded btrack: /home/dayn/miniconda3/envs/aero/lib/python3.9/site-packages/btrack/libs/libtracker.so\n",
      "[INFO][2022/08/08 07:02:13 PM] btrack (v0.4.5) library imported\n",
      "[INFO][2022/08/08 07:02:13 PM] Starting BayesianTracker session\n",
      "[INFO][2022/08/08 07:02:13 PM] Loading configuration file: /home/dayn/analysis/BayesianTracker/models/param_test_config_hypo.json\n",
      "[INFO][2022/08/08 07:02:13 PM] Setting max_search_radius -> 500\n",
      "[INFO][2022/08/08 07:02:13 PM] Setting features -> ['area', 'major_axis_length', 'minor_axis_length', 'orientation', 'solidity', 'mean_intensity']\n",
      "[INFO][2022/08/08 07:02:13 PM] Objects are of type: <class 'list'>\n"
     ]
    },
    {
     "name": "stdout",
     "output_type": "stream",
     "text": [
      "(10, 10, 50, 5, 160) 3.2823316150229425\n"
     ]
    },
    {
     "name": "stderr",
     "output_type": "stream",
     "text": [
      "[INFO][2022/08/08 07:02:13 PM] Setting volume -> ((0, 6048), (0, 6048), (-100000.0, 100000.0))\n",
      "[INFO][2022/08/08 07:02:13 PM] Starting tracking... \n",
      "[INFO][2022/08/08 07:02:14 PM] Tracking objects in frames 0 to 24 (of 75)...\n",
      "[INFO][2022/08/08 07:02:27 PM]  - Timing (Bayesian updates: 527.78ms, Linking: 12.39ms)\n",
      "[INFO][2022/08/08 07:02:27 PM]  - Probabilities (Link: 0.97446, Lost: 1.00000)\n",
      "[INFO][2022/08/08 07:02:27 PM]  - Stats (Active: 2550, Lost: 51737, Conflicts resolved: 1956)\n",
      "[INFO][2022/08/08 07:02:27 PM] Tracking objects in frames 25 to 49 (of 75)...\n",
      "[INFO][2022/08/08 07:02:38 PM]  - Timing (Bayesian updates: 179.39ms, Linking: 6.11ms)\n",
      "[INFO][2022/08/08 07:02:38 PM]  - Probabilities (Link: 0.94544, Lost: 1.00000)\n",
      "[INFO][2022/08/08 07:02:38 PM]  - Stats (Active: 1721, Lost: 105261, Conflicts resolved: 3564)\n",
      "[INFO][2022/08/08 07:02:38 PM] Tracking objects in frames 50 to 74 (of 75)...\n",
      "[INFO][2022/08/08 07:02:39 PM]  - Timing (Bayesian updates: 11.94ms, Linking: 1.00ms)\n",
      "[INFO][2022/08/08 07:02:39 PM]  - Probabilities (Link: 0.92668, Lost: 1.00000)\n",
      "[INFO][2022/08/08 07:02:39 PM] SUCCESS.\n",
      "[INFO][2022/08/08 07:02:39 PM]  - Found 17653 tracks in 75 frames (in 0.0s)\n",
      "[INFO][2022/08/08 07:02:40 PM]  - Inserted 23139 dummy objects to fill tracking gaps\n",
      "[INFO][2022/08/08 07:02:40 PM] Ending BayesianTracker session\n",
      "[INFO][2022/08/08 07:02:40 PM] Loaded btrack: /home/dayn/miniconda3/envs/aero/lib/python3.9/site-packages/btrack/libs/libtracker.so\n",
      "[INFO][2022/08/08 07:02:40 PM] btrack (v0.4.5) library imported\n",
      "[INFO][2022/08/08 07:02:40 PM] Starting BayesianTracker session\n",
      "[INFO][2022/08/08 07:02:40 PM] Loading configuration file: /home/dayn/analysis/BayesianTracker/models/param_test_config_hypo.json\n",
      "[INFO][2022/08/08 07:02:40 PM] Setting max_search_radius -> 500\n",
      "[INFO][2022/08/08 07:02:40 PM] Setting features -> ['area', 'major_axis_length', 'minor_axis_length', 'orientation', 'solidity', 'mean_intensity']\n",
      "[INFO][2022/08/08 07:02:40 PM] Objects are of type: <class 'list'>\n"
     ]
    },
    {
     "name": "stdout",
     "output_type": "stream",
     "text": [
      "(10, 10, 50, 20, 40) 3.2823316150229425\n"
     ]
    },
    {
     "name": "stderr",
     "output_type": "stream",
     "text": [
      "[INFO][2022/08/08 07:02:40 PM] Setting volume -> ((0, 6048), (0, 6048), (-100000.0, 100000.0))\n",
      "[INFO][2022/08/08 07:02:40 PM] Starting tracking... \n",
      "[INFO][2022/08/08 07:02:40 PM] Tracking objects in frames 0 to 24 (of 75)...\n",
      "[INFO][2022/08/08 07:02:54 PM]  - Timing (Bayesian updates: 516.73ms, Linking: 11.89ms)\n",
      "[INFO][2022/08/08 07:02:54 PM]  - Probabilities (Link: 0.97446, Lost: 1.00000)\n",
      "[INFO][2022/08/08 07:02:54 PM]  - Stats (Active: 2550, Lost: 51737, Conflicts resolved: 1956)\n",
      "[INFO][2022/08/08 07:02:54 PM] Tracking objects in frames 25 to 49 (of 75)...\n",
      "[INFO][2022/08/08 07:03:05 PM]  - Timing (Bayesian updates: 179.14ms, Linking: 6.11ms)\n",
      "[INFO][2022/08/08 07:03:05 PM]  - Probabilities (Link: 0.94544, Lost: 1.00000)\n",
      "[INFO][2022/08/08 07:03:05 PM]  - Stats (Active: 1721, Lost: 105261, Conflicts resolved: 3564)\n",
      "[INFO][2022/08/08 07:03:05 PM] Tracking objects in frames 50 to 74 (of 75)...\n",
      "[INFO][2022/08/08 07:03:07 PM]  - Timing (Bayesian updates: 15.49ms, Linking: 1.27ms)\n",
      "[INFO][2022/08/08 07:03:07 PM]  - Probabilities (Link: 0.92668, Lost: 1.00000)\n",
      "[INFO][2022/08/08 07:03:07 PM] SUCCESS.\n",
      "[INFO][2022/08/08 07:03:07 PM]  - Found 17653 tracks in 75 frames (in 0.0s)\n",
      "[INFO][2022/08/08 07:03:07 PM]  - Inserted 23139 dummy objects to fill tracking gaps\n",
      "[INFO][2022/08/08 07:03:07 PM] Ending BayesianTracker session\n",
      "[INFO][2022/08/08 07:03:08 PM] Loaded btrack: /home/dayn/miniconda3/envs/aero/lib/python3.9/site-packages/btrack/libs/libtracker.so\n",
      "[INFO][2022/08/08 07:03:08 PM] btrack (v0.4.5) library imported\n",
      "[INFO][2022/08/08 07:03:08 PM] Starting BayesianTracker session\n",
      "[INFO][2022/08/08 07:03:08 PM] Loading configuration file: /home/dayn/analysis/BayesianTracker/models/param_test_config_hypo.json\n",
      "[INFO][2022/08/08 07:03:08 PM] Setting max_search_radius -> 500\n",
      "[INFO][2022/08/08 07:03:08 PM] Setting features -> ['area', 'major_axis_length', 'minor_axis_length', 'orientation', 'solidity', 'mean_intensity']\n",
      "[INFO][2022/08/08 07:03:08 PM] Objects are of type: <class 'list'>\n"
     ]
    },
    {
     "name": "stdout",
     "output_type": "stream",
     "text": [
      "(10, 10, 50, 20, 80) 3.2823316150229425\n"
     ]
    },
    {
     "name": "stderr",
     "output_type": "stream",
     "text": [
      "[INFO][2022/08/08 07:03:08 PM] Setting volume -> ((0, 6048), (0, 6048), (-100000.0, 100000.0))\n",
      "[INFO][2022/08/08 07:03:08 PM] Starting tracking... \n",
      "[INFO][2022/08/08 07:03:08 PM] Tracking objects in frames 0 to 24 (of 75)...\n",
      "[INFO][2022/08/08 07:03:22 PM]  - Timing (Bayesian updates: 517.99ms, Linking: 11.74ms)\n",
      "[INFO][2022/08/08 07:03:22 PM]  - Probabilities (Link: 0.97446, Lost: 1.00000)\n",
      "[INFO][2022/08/08 07:03:22 PM]  - Stats (Active: 2550, Lost: 51737, Conflicts resolved: 1956)\n",
      "[INFO][2022/08/08 07:03:22 PM] Tracking objects in frames 25 to 49 (of 75)...\n",
      "[INFO][2022/08/08 07:03:33 PM]  - Timing (Bayesian updates: 179.44ms, Linking: 5.30ms)\n",
      "[INFO][2022/08/08 07:03:33 PM]  - Probabilities (Link: 0.94544, Lost: 1.00000)\n",
      "[INFO][2022/08/08 07:03:33 PM]  - Stats (Active: 1721, Lost: 105261, Conflicts resolved: 3564)\n",
      "[INFO][2022/08/08 07:03:33 PM] Tracking objects in frames 50 to 74 (of 75)...\n",
      "[INFO][2022/08/08 07:03:34 PM]  - Timing (Bayesian updates: 11.79ms, Linking: 0.99ms)\n",
      "[INFO][2022/08/08 07:03:34 PM]  - Probabilities (Link: 0.92668, Lost: 1.00000)\n",
      "[INFO][2022/08/08 07:03:34 PM] SUCCESS.\n",
      "[INFO][2022/08/08 07:03:34 PM]  - Found 17653 tracks in 75 frames (in 0.0s)\n",
      "[INFO][2022/08/08 07:03:34 PM]  - Inserted 23139 dummy objects to fill tracking gaps\n",
      "[INFO][2022/08/08 07:03:34 PM] Ending BayesianTracker session\n",
      "[INFO][2022/08/08 07:03:34 PM] Loaded btrack: /home/dayn/miniconda3/envs/aero/lib/python3.9/site-packages/btrack/libs/libtracker.so\n",
      "[INFO][2022/08/08 07:03:34 PM] btrack (v0.4.5) library imported\n",
      "[INFO][2022/08/08 07:03:34 PM] Starting BayesianTracker session\n",
      "[INFO][2022/08/08 07:03:34 PM] Loading configuration file: /home/dayn/analysis/BayesianTracker/models/param_test_config_hypo.json\n",
      "[INFO][2022/08/08 07:03:34 PM] Setting max_search_radius -> 500\n",
      "[INFO][2022/08/08 07:03:34 PM] Setting features -> ['area', 'major_axis_length', 'minor_axis_length', 'orientation', 'solidity', 'mean_intensity']\n",
      "[INFO][2022/08/08 07:03:34 PM] Objects are of type: <class 'list'>\n"
     ]
    },
    {
     "name": "stdout",
     "output_type": "stream",
     "text": [
      "(10, 10, 50, 20, 160) 3.2823316150229425\n"
     ]
    },
    {
     "name": "stderr",
     "output_type": "stream",
     "text": [
      "[INFO][2022/08/08 07:03:35 PM] Setting volume -> ((0, 6048), (0, 6048), (-100000.0, 100000.0))\n",
      "[INFO][2022/08/08 07:03:35 PM] Starting tracking... \n",
      "[INFO][2022/08/08 07:03:35 PM] Tracking objects in frames 0 to 24 (of 75)...\n",
      "[INFO][2022/08/08 07:03:48 PM]  - Timing (Bayesian updates: 516.50ms, Linking: 11.49ms)\n",
      "[INFO][2022/08/08 07:03:48 PM]  - Probabilities (Link: 0.97446, Lost: 1.00000)\n",
      "[INFO][2022/08/08 07:03:48 PM]  - Stats (Active: 2550, Lost: 51737, Conflicts resolved: 1956)\n",
      "[INFO][2022/08/08 07:03:48 PM] Tracking objects in frames 25 to 49 (of 75)...\n",
      "[INFO][2022/08/08 07:03:59 PM]  - Timing (Bayesian updates: 179.20ms, Linking: 5.97ms)\n",
      "[INFO][2022/08/08 07:03:59 PM]  - Probabilities (Link: 0.94544, Lost: 1.00000)\n",
      "[INFO][2022/08/08 07:03:59 PM]  - Stats (Active: 1721, Lost: 105261, Conflicts resolved: 3564)\n",
      "[INFO][2022/08/08 07:03:59 PM] Tracking objects in frames 50 to 74 (of 75)...\n",
      "[INFO][2022/08/08 07:04:00 PM]  - Timing (Bayesian updates: 11.96ms, Linking: 1.07ms)\n",
      "[INFO][2022/08/08 07:04:00 PM]  - Probabilities (Link: 0.92668, Lost: 1.00000)\n",
      "[INFO][2022/08/08 07:04:00 PM] SUCCESS.\n",
      "[INFO][2022/08/08 07:04:00 PM]  - Found 17653 tracks in 75 frames (in 0.0s)\n",
      "[INFO][2022/08/08 07:04:00 PM]  - Inserted 23139 dummy objects to fill tracking gaps\n",
      "[INFO][2022/08/08 07:04:01 PM] Ending BayesianTracker session\n",
      "[INFO][2022/08/08 07:04:01 PM] Loaded btrack: /home/dayn/miniconda3/envs/aero/lib/python3.9/site-packages/btrack/libs/libtracker.so\n",
      "[INFO][2022/08/08 07:04:01 PM] btrack (v0.4.5) library imported\n",
      "[INFO][2022/08/08 07:04:01 PM] Starting BayesianTracker session\n",
      "[INFO][2022/08/08 07:04:01 PM] Loading configuration file: /home/dayn/analysis/BayesianTracker/models/param_test_config_hypo.json\n",
      "[INFO][2022/08/08 07:04:01 PM] Setting max_search_radius -> 500\n",
      "[INFO][2022/08/08 07:04:01 PM] Setting features -> ['area', 'major_axis_length', 'minor_axis_length', 'orientation', 'solidity', 'mean_intensity']\n",
      "[INFO][2022/08/08 07:04:01 PM] Objects are of type: <class 'list'>\n"
     ]
    },
    {
     "name": "stdout",
     "output_type": "stream",
     "text": [
      "(10, 10, 50, 100, 40) 3.2823316150229425\n"
     ]
    },
    {
     "name": "stderr",
     "output_type": "stream",
     "text": [
      "[INFO][2022/08/08 07:04:01 PM] Setting volume -> ((0, 6048), (0, 6048), (-100000.0, 100000.0))\n",
      "[INFO][2022/08/08 07:04:01 PM] Starting tracking... \n",
      "[INFO][2022/08/08 07:04:01 PM] Tracking objects in frames 0 to 24 (of 75)...\n",
      "[INFO][2022/08/08 07:04:14 PM]  - Timing (Bayesian updates: 577.09ms, Linking: 12.29ms)\n",
      "[INFO][2022/08/08 07:04:14 PM]  - Probabilities (Link: 0.97446, Lost: 1.00000)\n",
      "[INFO][2022/08/08 07:04:14 PM]  - Stats (Active: 2550, Lost: 51737, Conflicts resolved: 1956)\n",
      "[INFO][2022/08/08 07:04:14 PM] Tracking objects in frames 25 to 49 (of 75)...\n",
      "[INFO][2022/08/08 07:04:25 PM]  - Timing (Bayesian updates: 180.23ms, Linking: 5.59ms)\n",
      "[INFO][2022/08/08 07:04:25 PM]  - Probabilities (Link: 0.94544, Lost: 1.00000)\n",
      "[INFO][2022/08/08 07:04:25 PM]  - Stats (Active: 1721, Lost: 105261, Conflicts resolved: 3564)\n",
      "[INFO][2022/08/08 07:04:25 PM] Tracking objects in frames 50 to 74 (of 75)...\n",
      "[INFO][2022/08/08 07:04:26 PM]  - Timing (Bayesian updates: 11.81ms, Linking: 1.04ms)\n",
      "[INFO][2022/08/08 07:04:26 PM]  - Probabilities (Link: 0.92668, Lost: 1.00000)\n",
      "[INFO][2022/08/08 07:04:26 PM] SUCCESS.\n",
      "[INFO][2022/08/08 07:04:26 PM]  - Found 17653 tracks in 75 frames (in 0.0s)\n",
      "[INFO][2022/08/08 07:04:27 PM]  - Inserted 23139 dummy objects to fill tracking gaps\n",
      "[INFO][2022/08/08 07:04:27 PM] Ending BayesianTracker session\n",
      "[INFO][2022/08/08 07:04:27 PM] Loaded btrack: /home/dayn/miniconda3/envs/aero/lib/python3.9/site-packages/btrack/libs/libtracker.so\n",
      "[INFO][2022/08/08 07:04:27 PM] btrack (v0.4.5) library imported\n",
      "[INFO][2022/08/08 07:04:27 PM] Starting BayesianTracker session\n",
      "[INFO][2022/08/08 07:04:27 PM] Loading configuration file: /home/dayn/analysis/BayesianTracker/models/param_test_config_hypo.json\n",
      "[INFO][2022/08/08 07:04:27 PM] Setting max_search_radius -> 500\n",
      "[INFO][2022/08/08 07:04:27 PM] Setting features -> ['area', 'major_axis_length', 'minor_axis_length', 'orientation', 'solidity', 'mean_intensity']\n",
      "[INFO][2022/08/08 07:04:27 PM] Objects are of type: <class 'list'>\n",
      "[INFO][2022/08/08 07:04:27 PM] Setting volume -> ((0, 6048), (0, 6048), (-100000.0, 100000.0))\n",
      "[INFO][2022/08/08 07:04:27 PM] Starting tracking... \n"
     ]
    },
    {
     "name": "stdout",
     "output_type": "stream",
     "text": [
      "(10, 10, 50, 100, 80) 3.2823316150229425\n"
     ]
    },
    {
     "name": "stderr",
     "output_type": "stream",
     "text": [
      "[INFO][2022/08/08 07:04:28 PM] Tracking objects in frames 0 to 24 (of 75)...\n",
      "[INFO][2022/08/08 07:04:41 PM]  - Timing (Bayesian updates: 524.96ms, Linking: 11.94ms)\n",
      "[INFO][2022/08/08 07:04:41 PM]  - Probabilities (Link: 0.97446, Lost: 1.00000)\n",
      "[INFO][2022/08/08 07:04:41 PM]  - Stats (Active: 2550, Lost: 51737, Conflicts resolved: 1956)\n",
      "[INFO][2022/08/08 07:04:41 PM] Tracking objects in frames 25 to 49 (of 75)...\n",
      "[INFO][2022/08/08 07:04:52 PM]  - Timing (Bayesian updates: 178.38ms, Linking: 5.29ms)\n",
      "[INFO][2022/08/08 07:04:52 PM]  - Probabilities (Link: 0.94544, Lost: 1.00000)\n",
      "[INFO][2022/08/08 07:04:52 PM]  - Stats (Active: 1721, Lost: 105261, Conflicts resolved: 3564)\n",
      "[INFO][2022/08/08 07:04:52 PM] Tracking objects in frames 50 to 74 (of 75)...\n",
      "[INFO][2022/08/08 07:04:53 PM]  - Timing (Bayesian updates: 12.11ms, Linking: 1.03ms)\n",
      "[INFO][2022/08/08 07:04:53 PM]  - Probabilities (Link: 0.92668, Lost: 1.00000)\n",
      "[INFO][2022/08/08 07:04:53 PM] SUCCESS.\n",
      "[INFO][2022/08/08 07:04:53 PM]  - Found 17653 tracks in 75 frames (in 0.0s)\n",
      "[INFO][2022/08/08 07:04:53 PM]  - Inserted 23139 dummy objects to fill tracking gaps\n",
      "[INFO][2022/08/08 07:04:54 PM] Ending BayesianTracker session\n",
      "[INFO][2022/08/08 07:04:54 PM] Loaded btrack: /home/dayn/miniconda3/envs/aero/lib/python3.9/site-packages/btrack/libs/libtracker.so\n",
      "[INFO][2022/08/08 07:04:54 PM] btrack (v0.4.5) library imported\n",
      "[INFO][2022/08/08 07:04:54 PM] Starting BayesianTracker session\n",
      "[INFO][2022/08/08 07:04:54 PM] Loading configuration file: /home/dayn/analysis/BayesianTracker/models/param_test_config_hypo.json\n",
      "[INFO][2022/08/08 07:04:54 PM] Setting max_search_radius -> 500\n",
      "[INFO][2022/08/08 07:04:54 PM] Setting features -> ['area', 'major_axis_length', 'minor_axis_length', 'orientation', 'solidity', 'mean_intensity']\n",
      "[INFO][2022/08/08 07:04:54 PM] Objects are of type: <class 'list'>\n"
     ]
    },
    {
     "name": "stdout",
     "output_type": "stream",
     "text": [
      "(10, 10, 50, 100, 160) 3.2823316150229425\n"
     ]
    },
    {
     "name": "stderr",
     "output_type": "stream",
     "text": [
      "[INFO][2022/08/08 07:04:54 PM] Setting volume -> ((0, 6048), (0, 6048), (-100000.0, 100000.0))\n",
      "[INFO][2022/08/08 07:04:54 PM] Starting tracking... \n",
      "[INFO][2022/08/08 07:04:54 PM] Tracking objects in frames 0 to 24 (of 75)...\n",
      "[INFO][2022/08/08 07:05:08 PM]  - Timing (Bayesian updates: 520.87ms, Linking: 11.97ms)\n",
      "[INFO][2022/08/08 07:05:08 PM]  - Probabilities (Link: 0.97446, Lost: 1.00000)\n",
      "[INFO][2022/08/08 07:05:08 PM]  - Stats (Active: 2550, Lost: 51737, Conflicts resolved: 1956)\n",
      "[INFO][2022/08/08 07:05:08 PM] Tracking objects in frames 25 to 49 (of 75)...\n",
      "[INFO][2022/08/08 07:05:19 PM]  - Timing (Bayesian updates: 184.10ms, Linking: 6.93ms)\n",
      "[INFO][2022/08/08 07:05:19 PM]  - Probabilities (Link: 0.94544, Lost: 1.00000)\n",
      "[INFO][2022/08/08 07:05:19 PM]  - Stats (Active: 1721, Lost: 105261, Conflicts resolved: 3564)\n",
      "[INFO][2022/08/08 07:05:19 PM] Tracking objects in frames 50 to 74 (of 75)...\n",
      "[INFO][2022/08/08 07:05:20 PM]  - Timing (Bayesian updates: 13.58ms, Linking: 1.12ms)\n",
      "[INFO][2022/08/08 07:05:20 PM]  - Probabilities (Link: 0.92668, Lost: 1.00000)\n",
      "[INFO][2022/08/08 07:05:20 PM] SUCCESS.\n",
      "[INFO][2022/08/08 07:05:20 PM]  - Found 17653 tracks in 75 frames (in 0.0s)\n",
      "[INFO][2022/08/08 07:05:20 PM]  - Inserted 23139 dummy objects to fill tracking gaps\n",
      "[INFO][2022/08/08 07:05:21 PM] Ending BayesianTracker session\n",
      "[INFO][2022/08/08 07:05:21 PM] Loaded btrack: /home/dayn/miniconda3/envs/aero/lib/python3.9/site-packages/btrack/libs/libtracker.so\n",
      "[INFO][2022/08/08 07:05:21 PM] btrack (v0.4.5) library imported\n",
      "[INFO][2022/08/08 07:05:21 PM] Starting BayesianTracker session\n",
      "[INFO][2022/08/08 07:05:21 PM] Loading configuration file: /home/dayn/analysis/BayesianTracker/models/param_test_config_hypo.json\n",
      "[INFO][2022/08/08 07:05:21 PM] Setting max_search_radius -> 500\n",
      "[INFO][2022/08/08 07:05:21 PM] Setting features -> ['area', 'major_axis_length', 'minor_axis_length', 'orientation', 'solidity', 'mean_intensity']\n",
      "[INFO][2022/08/08 07:05:21 PM] Objects are of type: <class 'list'>\n"
     ]
    },
    {
     "name": "stdout",
     "output_type": "stream",
     "text": [
      "(10, 10, 100, 5, 40) 3.2823316150229425\n"
     ]
    },
    {
     "name": "stderr",
     "output_type": "stream",
     "text": [
      "[INFO][2022/08/08 07:05:21 PM] Setting volume -> ((0, 6048), (0, 6048), (-100000.0, 100000.0))\n",
      "[INFO][2022/08/08 07:05:21 PM] Starting tracking... \n",
      "[INFO][2022/08/08 07:05:21 PM] Tracking objects in frames 0 to 24 (of 75)...\n",
      "[INFO][2022/08/08 07:05:35 PM]  - Timing (Bayesian updates: 515.56ms, Linking: 11.86ms)\n",
      "[INFO][2022/08/08 07:05:35 PM]  - Probabilities (Link: 0.97446, Lost: 1.00000)\n",
      "[INFO][2022/08/08 07:05:35 PM]  - Stats (Active: 2550, Lost: 51737, Conflicts resolved: 1956)\n",
      "[INFO][2022/08/08 07:05:35 PM] Tracking objects in frames 25 to 49 (of 75)...\n",
      "[INFO][2022/08/08 07:05:46 PM]  - Timing (Bayesian updates: 179.88ms, Linking: 6.33ms)\n",
      "[INFO][2022/08/08 07:05:46 PM]  - Probabilities (Link: 0.94544, Lost: 1.00000)\n",
      "[INFO][2022/08/08 07:05:46 PM]  - Stats (Active: 1721, Lost: 105261, Conflicts resolved: 3564)\n",
      "[INFO][2022/08/08 07:05:46 PM] Tracking objects in frames 50 to 74 (of 75)...\n",
      "[INFO][2022/08/08 07:05:47 PM]  - Timing (Bayesian updates: 12.07ms, Linking: 1.07ms)\n",
      "[INFO][2022/08/08 07:05:47 PM]  - Probabilities (Link: 0.92668, Lost: 1.00000)\n",
      "[INFO][2022/08/08 07:05:47 PM] SUCCESS.\n",
      "[INFO][2022/08/08 07:05:47 PM]  - Found 17653 tracks in 75 frames (in 0.0s)\n",
      "[INFO][2022/08/08 07:05:47 PM]  - Inserted 23139 dummy objects to fill tracking gaps\n",
      "[INFO][2022/08/08 07:05:48 PM] Ending BayesianTracker session\n",
      "[INFO][2022/08/08 07:05:48 PM] Loaded btrack: /home/dayn/miniconda3/envs/aero/lib/python3.9/site-packages/btrack/libs/libtracker.so\n",
      "[INFO][2022/08/08 07:05:48 PM] btrack (v0.4.5) library imported\n",
      "[INFO][2022/08/08 07:05:48 PM] Starting BayesianTracker session\n",
      "[INFO][2022/08/08 07:05:48 PM] Loading configuration file: /home/dayn/analysis/BayesianTracker/models/param_test_config_hypo.json\n",
      "[INFO][2022/08/08 07:05:48 PM] Setting max_search_radius -> 500\n",
      "[INFO][2022/08/08 07:05:48 PM] Setting features -> ['area', 'major_axis_length', 'minor_axis_length', 'orientation', 'solidity', 'mean_intensity']\n",
      "[INFO][2022/08/08 07:05:48 PM] Objects are of type: <class 'list'>\n",
      "[INFO][2022/08/08 07:05:48 PM] Setting volume -> ((0, 6048), (0, 6048), (-100000.0, 100000.0))\n",
      "[INFO][2022/08/08 07:05:48 PM] Starting tracking... \n"
     ]
    },
    {
     "name": "stdout",
     "output_type": "stream",
     "text": [
      "(10, 10, 100, 5, 80) 3.2823316150229425\n"
     ]
    },
    {
     "name": "stderr",
     "output_type": "stream",
     "text": [
      "[INFO][2022/08/08 07:05:48 PM] Tracking objects in frames 0 to 24 (of 75)...\n",
      "[INFO][2022/08/08 07:06:01 PM]  - Timing (Bayesian updates: 516.20ms, Linking: 11.78ms)\n",
      "[INFO][2022/08/08 07:06:01 PM]  - Probabilities (Link: 0.97446, Lost: 1.00000)\n",
      "[INFO][2022/08/08 07:06:01 PM]  - Stats (Active: 2550, Lost: 51737, Conflicts resolved: 1956)\n",
      "[INFO][2022/08/08 07:06:01 PM] Tracking objects in frames 25 to 49 (of 75)...\n",
      "[INFO][2022/08/08 07:06:12 PM]  - Timing (Bayesian updates: 180.54ms, Linking: 6.24ms)\n",
      "[INFO][2022/08/08 07:06:12 PM]  - Probabilities (Link: 0.94544, Lost: 1.00000)\n",
      "[INFO][2022/08/08 07:06:12 PM]  - Stats (Active: 1721, Lost: 105261, Conflicts resolved: 3564)\n",
      "[INFO][2022/08/08 07:06:12 PM] Tracking objects in frames 50 to 74 (of 75)...\n",
      "[INFO][2022/08/08 07:06:14 PM]  - Timing (Bayesian updates: 11.77ms, Linking: 1.07ms)\n",
      "[INFO][2022/08/08 07:06:14 PM]  - Probabilities (Link: 0.92668, Lost: 1.00000)\n",
      "[INFO][2022/08/08 07:06:14 PM] SUCCESS.\n",
      "[INFO][2022/08/08 07:06:14 PM]  - Found 17653 tracks in 75 frames (in 0.0s)\n",
      "[INFO][2022/08/08 07:06:14 PM]  - Inserted 23139 dummy objects to fill tracking gaps\n",
      "[INFO][2022/08/08 07:06:14 PM] Ending BayesianTracker session\n",
      "[INFO][2022/08/08 07:06:14 PM] Loaded btrack: /home/dayn/miniconda3/envs/aero/lib/python3.9/site-packages/btrack/libs/libtracker.so\n",
      "[INFO][2022/08/08 07:06:14 PM] btrack (v0.4.5) library imported\n",
      "[INFO][2022/08/08 07:06:14 PM] Starting BayesianTracker session\n",
      "[INFO][2022/08/08 07:06:14 PM] Loading configuration file: /home/dayn/analysis/BayesianTracker/models/param_test_config_hypo.json\n",
      "[INFO][2022/08/08 07:06:14 PM] Setting max_search_radius -> 500\n",
      "[INFO][2022/08/08 07:06:14 PM] Setting features -> ['area', 'major_axis_length', 'minor_axis_length', 'orientation', 'solidity', 'mean_intensity']\n",
      "[INFO][2022/08/08 07:06:14 PM] Objects are of type: <class 'list'>\n",
      "[INFO][2022/08/08 07:06:14 PM] Setting volume -> ((0, 6048), (0, 6048), (-100000.0, 100000.0))\n",
      "[INFO][2022/08/08 07:06:14 PM] Starting tracking... \n"
     ]
    },
    {
     "name": "stdout",
     "output_type": "stream",
     "text": [
      "(10, 10, 100, 5, 160) 3.2823316150229425\n"
     ]
    },
    {
     "name": "stderr",
     "output_type": "stream",
     "text": [
      "[INFO][2022/08/08 07:06:15 PM] Tracking objects in frames 0 to 24 (of 75)...\n",
      "[INFO][2022/08/08 07:06:28 PM]  - Timing (Bayesian updates: 524.68ms, Linking: 11.98ms)\n",
      "[INFO][2022/08/08 07:06:28 PM]  - Probabilities (Link: 0.97446, Lost: 1.00000)\n",
      "[INFO][2022/08/08 07:06:28 PM]  - Stats (Active: 2550, Lost: 51737, Conflicts resolved: 1956)\n",
      "[INFO][2022/08/08 07:06:28 PM] Tracking objects in frames 25 to 49 (of 75)...\n",
      "[INFO][2022/08/08 07:06:39 PM]  - Timing (Bayesian updates: 179.22ms, Linking: 6.38ms)\n",
      "[INFO][2022/08/08 07:06:39 PM]  - Probabilities (Link: 0.94544, Lost: 1.00000)\n",
      "[INFO][2022/08/08 07:06:39 PM]  - Stats (Active: 1721, Lost: 105261, Conflicts resolved: 3564)\n",
      "[INFO][2022/08/08 07:06:39 PM] Tracking objects in frames 50 to 74 (of 75)...\n",
      "[INFO][2022/08/08 07:06:40 PM]  - Timing (Bayesian updates: 11.85ms, Linking: 1.02ms)\n",
      "[INFO][2022/08/08 07:06:40 PM]  - Probabilities (Link: 0.92668, Lost: 1.00000)\n",
      "[INFO][2022/08/08 07:06:40 PM] SUCCESS.\n",
      "[INFO][2022/08/08 07:06:40 PM]  - Found 17653 tracks in 75 frames (in 0.0s)\n",
      "[INFO][2022/08/08 07:06:40 PM]  - Inserted 23139 dummy objects to fill tracking gaps\n",
      "[INFO][2022/08/08 07:06:41 PM] Ending BayesianTracker session\n",
      "[INFO][2022/08/08 07:06:41 PM] Loaded btrack: /home/dayn/miniconda3/envs/aero/lib/python3.9/site-packages/btrack/libs/libtracker.so\n",
      "[INFO][2022/08/08 07:06:41 PM] btrack (v0.4.5) library imported\n",
      "[INFO][2022/08/08 07:06:41 PM] Starting BayesianTracker session\n",
      "[INFO][2022/08/08 07:06:41 PM] Loading configuration file: /home/dayn/analysis/BayesianTracker/models/param_test_config_hypo.json\n",
      "[INFO][2022/08/08 07:06:41 PM] Setting max_search_radius -> 500\n",
      "[INFO][2022/08/08 07:06:41 PM] Setting features -> ['area', 'major_axis_length', 'minor_axis_length', 'orientation', 'solidity', 'mean_intensity']\n",
      "[INFO][2022/08/08 07:06:41 PM] Objects are of type: <class 'list'>\n"
     ]
    },
    {
     "name": "stdout",
     "output_type": "stream",
     "text": [
      "(10, 10, 100, 20, 40) 3.2823316150229425\n"
     ]
    },
    {
     "name": "stderr",
     "output_type": "stream",
     "text": [
      "[INFO][2022/08/08 07:06:41 PM] Setting volume -> ((0, 6048), (0, 6048), (-100000.0, 100000.0))\n",
      "[INFO][2022/08/08 07:06:41 PM] Starting tracking... \n",
      "[INFO][2022/08/08 07:06:41 PM] Tracking objects in frames 0 to 24 (of 75)...\n",
      "[INFO][2022/08/08 07:06:55 PM]  - Timing (Bayesian updates: 516.09ms, Linking: 11.75ms)\n",
      "[INFO][2022/08/08 07:06:55 PM]  - Probabilities (Link: 0.97446, Lost: 1.00000)\n",
      "[INFO][2022/08/08 07:06:55 PM]  - Stats (Active: 2550, Lost: 51737, Conflicts resolved: 1956)\n",
      "[INFO][2022/08/08 07:06:55 PM] Tracking objects in frames 25 to 49 (of 75)...\n",
      "[INFO][2022/08/08 07:07:06 PM]  - Timing (Bayesian updates: 178.90ms, Linking: 5.27ms)\n",
      "[INFO][2022/08/08 07:07:06 PM]  - Probabilities (Link: 0.94544, Lost: 1.00000)\n",
      "[INFO][2022/08/08 07:07:06 PM]  - Stats (Active: 1721, Lost: 105261, Conflicts resolved: 3564)\n",
      "[INFO][2022/08/08 07:07:06 PM] Tracking objects in frames 50 to 74 (of 75)...\n",
      "[INFO][2022/08/08 07:07:07 PM]  - Timing (Bayesian updates: 11.85ms, Linking: 1.03ms)\n",
      "[INFO][2022/08/08 07:07:07 PM]  - Probabilities (Link: 0.92668, Lost: 1.00000)\n",
      "[INFO][2022/08/08 07:07:07 PM] SUCCESS.\n",
      "[INFO][2022/08/08 07:07:07 PM]  - Found 17653 tracks in 75 frames (in 0.0s)\n",
      "[INFO][2022/08/08 07:07:07 PM]  - Inserted 23139 dummy objects to fill tracking gaps\n",
      "[INFO][2022/08/08 07:07:08 PM] Ending BayesianTracker session\n",
      "[INFO][2022/08/08 07:07:08 PM] Loaded btrack: /home/dayn/miniconda3/envs/aero/lib/python3.9/site-packages/btrack/libs/libtracker.so\n",
      "[INFO][2022/08/08 07:07:08 PM] btrack (v0.4.5) library imported\n",
      "[INFO][2022/08/08 07:07:08 PM] Starting BayesianTracker session\n",
      "[INFO][2022/08/08 07:07:08 PM] Loading configuration file: /home/dayn/analysis/BayesianTracker/models/param_test_config_hypo.json\n",
      "[INFO][2022/08/08 07:07:08 PM] Setting max_search_radius -> 500\n",
      "[INFO][2022/08/08 07:07:08 PM] Setting features -> ['area', 'major_axis_length', 'minor_axis_length', 'orientation', 'solidity', 'mean_intensity']\n",
      "[INFO][2022/08/08 07:07:08 PM] Objects are of type: <class 'list'>\n"
     ]
    },
    {
     "name": "stdout",
     "output_type": "stream",
     "text": [
      "(10, 10, 100, 20, 80) 3.2823316150229425\n"
     ]
    },
    {
     "name": "stderr",
     "output_type": "stream",
     "text": [
      "[INFO][2022/08/08 07:07:08 PM] Setting volume -> ((0, 6048), (0, 6048), (-100000.0, 100000.0))\n",
      "[INFO][2022/08/08 07:07:08 PM] Starting tracking... \n",
      "[INFO][2022/08/08 07:07:08 PM] Tracking objects in frames 0 to 24 (of 75)...\n",
      "[INFO][2022/08/08 07:07:21 PM]  - Timing (Bayesian updates: 515.46ms, Linking: 11.85ms)\n",
      "[INFO][2022/08/08 07:07:21 PM]  - Probabilities (Link: 0.97446, Lost: 1.00000)\n",
      "[INFO][2022/08/08 07:07:21 PM]  - Stats (Active: 2550, Lost: 51737, Conflicts resolved: 1956)\n",
      "[INFO][2022/08/08 07:07:21 PM] Tracking objects in frames 25 to 49 (of 75)...\n",
      "[INFO][2022/08/08 07:07:32 PM]  - Timing (Bayesian updates: 180.55ms, Linking: 5.62ms)\n",
      "[INFO][2022/08/08 07:07:32 PM]  - Probabilities (Link: 0.94544, Lost: 1.00000)\n",
      "[INFO][2022/08/08 07:07:32 PM]  - Stats (Active: 1721, Lost: 105261, Conflicts resolved: 3564)\n",
      "[INFO][2022/08/08 07:07:32 PM] Tracking objects in frames 50 to 74 (of 75)...\n",
      "[INFO][2022/08/08 07:07:34 PM]  - Timing (Bayesian updates: 12.13ms, Linking: 1.12ms)\n",
      "[INFO][2022/08/08 07:07:34 PM]  - Probabilities (Link: 0.92668, Lost: 1.00000)\n",
      "[INFO][2022/08/08 07:07:34 PM] SUCCESS.\n",
      "[INFO][2022/08/08 07:07:34 PM]  - Found 17653 tracks in 75 frames (in 0.0s)\n",
      "[INFO][2022/08/08 07:07:34 PM]  - Inserted 23139 dummy objects to fill tracking gaps\n",
      "[INFO][2022/08/08 07:07:34 PM] Ending BayesianTracker session\n",
      "[INFO][2022/08/08 07:07:34 PM] Loaded btrack: /home/dayn/miniconda3/envs/aero/lib/python3.9/site-packages/btrack/libs/libtracker.so\n",
      "[INFO][2022/08/08 07:07:34 PM] btrack (v0.4.5) library imported\n",
      "[INFO][2022/08/08 07:07:34 PM] Starting BayesianTracker session\n",
      "[INFO][2022/08/08 07:07:34 PM] Loading configuration file: /home/dayn/analysis/BayesianTracker/models/param_test_config_hypo.json\n",
      "[INFO][2022/08/08 07:07:34 PM] Setting max_search_radius -> 500\n",
      "[INFO][2022/08/08 07:07:34 PM] Setting features -> ['area', 'major_axis_length', 'minor_axis_length', 'orientation', 'solidity', 'mean_intensity']\n",
      "[INFO][2022/08/08 07:07:34 PM] Objects are of type: <class 'list'>\n"
     ]
    },
    {
     "name": "stdout",
     "output_type": "stream",
     "text": [
      "(10, 10, 100, 20, 160) 3.2823316150229425\n"
     ]
    },
    {
     "name": "stderr",
     "output_type": "stream",
     "text": [
      "[INFO][2022/08/08 07:07:34 PM] Setting volume -> ((0, 6048), (0, 6048), (-100000.0, 100000.0))\n",
      "[INFO][2022/08/08 07:07:34 PM] Starting tracking... \n",
      "[INFO][2022/08/08 07:07:35 PM] Tracking objects in frames 0 to 24 (of 75)...\n",
      "[INFO][2022/08/08 07:07:48 PM]  - Timing (Bayesian updates: 528.82ms, Linking: 12.08ms)\n",
      "[INFO][2022/08/08 07:07:48 PM]  - Probabilities (Link: 0.97446, Lost: 1.00000)\n",
      "[INFO][2022/08/08 07:07:48 PM]  - Stats (Active: 2550, Lost: 51737, Conflicts resolved: 1956)\n",
      "[INFO][2022/08/08 07:07:48 PM] Tracking objects in frames 25 to 49 (of 75)...\n",
      "[INFO][2022/08/08 07:07:59 PM]  - Timing (Bayesian updates: 179.51ms, Linking: 5.47ms)\n",
      "[INFO][2022/08/08 07:07:59 PM]  - Probabilities (Link: 0.94544, Lost: 1.00000)\n",
      "[INFO][2022/08/08 07:07:59 PM]  - Stats (Active: 1721, Lost: 105261, Conflicts resolved: 3564)\n",
      "[INFO][2022/08/08 07:07:59 PM] Tracking objects in frames 50 to 74 (of 75)...\n",
      "[INFO][2022/08/08 07:08:00 PM]  - Timing (Bayesian updates: 11.94ms, Linking: 1.11ms)\n",
      "[INFO][2022/08/08 07:08:00 PM]  - Probabilities (Link: 0.92668, Lost: 1.00000)\n",
      "[INFO][2022/08/08 07:08:00 PM] SUCCESS.\n",
      "[INFO][2022/08/08 07:08:00 PM]  - Found 17653 tracks in 75 frames (in 0.0s)\n",
      "[INFO][2022/08/08 07:08:01 PM]  - Inserted 23139 dummy objects to fill tracking gaps\n",
      "[INFO][2022/08/08 07:08:01 PM] Ending BayesianTracker session\n",
      "[INFO][2022/08/08 07:08:01 PM] Loaded btrack: /home/dayn/miniconda3/envs/aero/lib/python3.9/site-packages/btrack/libs/libtracker.so\n",
      "[INFO][2022/08/08 07:08:01 PM] btrack (v0.4.5) library imported\n",
      "[INFO][2022/08/08 07:08:01 PM] Starting BayesianTracker session\n",
      "[INFO][2022/08/08 07:08:01 PM] Loading configuration file: /home/dayn/analysis/BayesianTracker/models/param_test_config_hypo.json\n",
      "[INFO][2022/08/08 07:08:01 PM] Setting max_search_radius -> 500\n",
      "[INFO][2022/08/08 07:08:01 PM] Setting features -> ['area', 'major_axis_length', 'minor_axis_length', 'orientation', 'solidity', 'mean_intensity']\n",
      "[INFO][2022/08/08 07:08:01 PM] Objects are of type: <class 'list'>\n"
     ]
    },
    {
     "name": "stdout",
     "output_type": "stream",
     "text": [
      "(10, 10, 100, 100, 40) 3.2823316150229425\n"
     ]
    },
    {
     "name": "stderr",
     "output_type": "stream",
     "text": [
      "[INFO][2022/08/08 07:08:01 PM] Setting volume -> ((0, 6048), (0, 6048), (-100000.0, 100000.0))\n",
      "[INFO][2022/08/08 07:08:01 PM] Starting tracking... \n",
      "[INFO][2022/08/08 07:08:02 PM] Tracking objects in frames 0 to 24 (of 75)...\n",
      "[INFO][2022/08/08 07:08:15 PM]  - Timing (Bayesian updates: 518.11ms, Linking: 12.13ms)\n",
      "[INFO][2022/08/08 07:08:15 PM]  - Probabilities (Link: 0.97446, Lost: 1.00000)\n",
      "[INFO][2022/08/08 07:08:15 PM]  - Stats (Active: 2550, Lost: 51737, Conflicts resolved: 1956)\n",
      "[INFO][2022/08/08 07:08:15 PM] Tracking objects in frames 25 to 49 (of 75)...\n",
      "[INFO][2022/08/08 07:08:26 PM]  - Timing (Bayesian updates: 179.28ms, Linking: 6.02ms)\n",
      "[INFO][2022/08/08 07:08:26 PM]  - Probabilities (Link: 0.94544, Lost: 1.00000)\n",
      "[INFO][2022/08/08 07:08:26 PM]  - Stats (Active: 1721, Lost: 105261, Conflicts resolved: 3564)\n",
      "[INFO][2022/08/08 07:08:26 PM] Tracking objects in frames 50 to 74 (of 75)...\n",
      "[INFO][2022/08/08 07:08:27 PM]  - Timing (Bayesian updates: 12.02ms, Linking: 1.08ms)\n",
      "[INFO][2022/08/08 07:08:27 PM]  - Probabilities (Link: 0.92668, Lost: 1.00000)\n",
      "[INFO][2022/08/08 07:08:27 PM] SUCCESS.\n",
      "[INFO][2022/08/08 07:08:27 PM]  - Found 17653 tracks in 75 frames (in 0.0s)\n",
      "[INFO][2022/08/08 07:08:28 PM]  - Inserted 23139 dummy objects to fill tracking gaps\n",
      "[INFO][2022/08/08 07:08:28 PM] Ending BayesianTracker session\n",
      "[INFO][2022/08/08 07:08:28 PM] Loaded btrack: /home/dayn/miniconda3/envs/aero/lib/python3.9/site-packages/btrack/libs/libtracker.so\n",
      "[INFO][2022/08/08 07:08:28 PM] btrack (v0.4.5) library imported\n",
      "[INFO][2022/08/08 07:08:28 PM] Starting BayesianTracker session\n",
      "[INFO][2022/08/08 07:08:28 PM] Loading configuration file: /home/dayn/analysis/BayesianTracker/models/param_test_config_hypo.json\n",
      "[INFO][2022/08/08 07:08:28 PM] Setting max_search_radius -> 500\n",
      "[INFO][2022/08/08 07:08:28 PM] Setting features -> ['area', 'major_axis_length', 'minor_axis_length', 'orientation', 'solidity', 'mean_intensity']\n",
      "[INFO][2022/08/08 07:08:28 PM] Objects are of type: <class 'list'>\n"
     ]
    },
    {
     "name": "stdout",
     "output_type": "stream",
     "text": [
      "(10, 10, 100, 100, 80) 3.2823316150229425\n"
     ]
    },
    {
     "name": "stderr",
     "output_type": "stream",
     "text": [
      "[INFO][2022/08/08 07:08:28 PM] Setting volume -> ((0, 6048), (0, 6048), (-100000.0, 100000.0))\n",
      "[INFO][2022/08/08 07:08:28 PM] Starting tracking... \n",
      "[INFO][2022/08/08 07:08:29 PM] Tracking objects in frames 0 to 24 (of 75)...\n",
      "[INFO][2022/08/08 07:08:42 PM]  - Timing (Bayesian updates: 516.29ms, Linking: 11.76ms)\n",
      "[INFO][2022/08/08 07:08:42 PM]  - Probabilities (Link: 0.97446, Lost: 1.00000)\n",
      "[INFO][2022/08/08 07:08:42 PM]  - Stats (Active: 2550, Lost: 51737, Conflicts resolved: 1956)\n",
      "[INFO][2022/08/08 07:08:42 PM] Tracking objects in frames 25 to 49 (of 75)...\n",
      "[INFO][2022/08/08 07:08:53 PM]  - Timing (Bayesian updates: 178.31ms, Linking: 5.36ms)\n",
      "[INFO][2022/08/08 07:08:53 PM]  - Probabilities (Link: 0.94544, Lost: 1.00000)\n",
      "[INFO][2022/08/08 07:08:53 PM]  - Stats (Active: 1721, Lost: 105261, Conflicts resolved: 3564)\n",
      "[INFO][2022/08/08 07:08:53 PM] Tracking objects in frames 50 to 74 (of 75)...\n",
      "[INFO][2022/08/08 07:08:54 PM]  - Timing (Bayesian updates: 11.91ms, Linking: 1.04ms)\n",
      "[INFO][2022/08/08 07:08:54 PM]  - Probabilities (Link: 0.92668, Lost: 1.00000)\n",
      "[INFO][2022/08/08 07:08:54 PM] SUCCESS.\n",
      "[INFO][2022/08/08 07:08:54 PM]  - Found 17653 tracks in 75 frames (in 0.0s)\n",
      "[INFO][2022/08/08 07:08:54 PM]  - Inserted 23139 dummy objects to fill tracking gaps\n",
      "[INFO][2022/08/08 07:08:55 PM] Ending BayesianTracker session\n",
      "[INFO][2022/08/08 07:08:55 PM] Loaded btrack: /home/dayn/miniconda3/envs/aero/lib/python3.9/site-packages/btrack/libs/libtracker.so\n",
      "[INFO][2022/08/08 07:08:55 PM] btrack (v0.4.5) library imported\n",
      "[INFO][2022/08/08 07:08:55 PM] Starting BayesianTracker session\n",
      "[INFO][2022/08/08 07:08:55 PM] Loading configuration file: /home/dayn/analysis/BayesianTracker/models/param_test_config_hypo.json\n",
      "[INFO][2022/08/08 07:08:55 PM] Setting max_search_radius -> 500\n",
      "[INFO][2022/08/08 07:08:55 PM] Setting features -> ['area', 'major_axis_length', 'minor_axis_length', 'orientation', 'solidity', 'mean_intensity']\n",
      "[INFO][2022/08/08 07:08:55 PM] Objects are of type: <class 'list'>\n"
     ]
    },
    {
     "name": "stdout",
     "output_type": "stream",
     "text": [
      "(10, 10, 100, 100, 160) 3.2823316150229425\n"
     ]
    },
    {
     "name": "stderr",
     "output_type": "stream",
     "text": [
      "[INFO][2022/08/08 07:08:55 PM] Setting volume -> ((0, 6048), (0, 6048), (-100000.0, 100000.0))\n",
      "[INFO][2022/08/08 07:08:55 PM] Starting tracking... \n",
      "[INFO][2022/08/08 07:08:55 PM] Tracking objects in frames 0 to 24 (of 75)...\n",
      "[INFO][2022/08/08 07:09:08 PM]  - Timing (Bayesian updates: 516.64ms, Linking: 11.71ms)\n",
      "[INFO][2022/08/08 07:09:08 PM]  - Probabilities (Link: 0.97446, Lost: 1.00000)\n",
      "[INFO][2022/08/08 07:09:08 PM]  - Stats (Active: 2550, Lost: 51737, Conflicts resolved: 1956)\n",
      "[INFO][2022/08/08 07:09:08 PM] Tracking objects in frames 25 to 49 (of 75)...\n",
      "[INFO][2022/08/08 07:09:19 PM]  - Timing (Bayesian updates: 178.39ms, Linking: 5.47ms)\n",
      "[INFO][2022/08/08 07:09:19 PM]  - Probabilities (Link: 0.94544, Lost: 1.00000)\n",
      "[INFO][2022/08/08 07:09:19 PM]  - Stats (Active: 1721, Lost: 105261, Conflicts resolved: 3564)\n",
      "[INFO][2022/08/08 07:09:19 PM] Tracking objects in frames 50 to 74 (of 75)...\n",
      "[INFO][2022/08/08 07:09:20 PM]  - Timing (Bayesian updates: 12.03ms, Linking: 1.01ms)\n",
      "[INFO][2022/08/08 07:09:20 PM]  - Probabilities (Link: 0.92668, Lost: 1.00000)\n",
      "[INFO][2022/08/08 07:09:20 PM] SUCCESS.\n",
      "[INFO][2022/08/08 07:09:20 PM]  - Found 17653 tracks in 75 frames (in 0.0s)\n",
      "[INFO][2022/08/08 07:09:21 PM]  - Inserted 23139 dummy objects to fill tracking gaps\n",
      "[INFO][2022/08/08 07:09:21 PM] Ending BayesianTracker session\n",
      "[INFO][2022/08/08 07:09:21 PM] Loaded btrack: /home/dayn/miniconda3/envs/aero/lib/python3.9/site-packages/btrack/libs/libtracker.so\n",
      "[INFO][2022/08/08 07:09:21 PM] btrack (v0.4.5) library imported\n",
      "[INFO][2022/08/08 07:09:21 PM] Starting BayesianTracker session\n",
      "[INFO][2022/08/08 07:09:21 PM] Loading configuration file: /home/dayn/analysis/BayesianTracker/models/param_test_config_hypo.json\n",
      "[INFO][2022/08/08 07:09:21 PM] Setting max_search_radius -> 500\n",
      "[INFO][2022/08/08 07:09:21 PM] Setting features -> ['area', 'major_axis_length', 'minor_axis_length', 'orientation', 'solidity', 'mean_intensity']\n",
      "[INFO][2022/08/08 07:09:21 PM] Objects are of type: <class 'list'>\n",
      "[INFO][2022/08/08 07:09:21 PM] Setting volume -> ((0, 6048), (0, 6048), (-100000.0, 100000.0))\n",
      "[INFO][2022/08/08 07:09:21 PM] Starting tracking... \n"
     ]
    },
    {
     "name": "stdout",
     "output_type": "stream",
     "text": [
      "(10, 10, 300, 5, 40) 3.2823316150229425\n"
     ]
    },
    {
     "name": "stderr",
     "output_type": "stream",
     "text": [
      "[INFO][2022/08/08 07:09:22 PM] Tracking objects in frames 0 to 24 (of 75)...\n",
      "[INFO][2022/08/08 07:09:36 PM]  - Timing (Bayesian updates: 517.49ms, Linking: 12.23ms)\n",
      "[INFO][2022/08/08 07:09:36 PM]  - Probabilities (Link: 0.97446, Lost: 1.00000)\n",
      "[INFO][2022/08/08 07:09:36 PM]  - Stats (Active: 2550, Lost: 51737, Conflicts resolved: 1956)\n",
      "[INFO][2022/08/08 07:09:36 PM] Tracking objects in frames 25 to 49 (of 75)...\n",
      "[INFO][2022/08/08 07:09:47 PM]  - Timing (Bayesian updates: 178.37ms, Linking: 5.45ms)\n",
      "[INFO][2022/08/08 07:09:47 PM]  - Probabilities (Link: 0.94544, Lost: 1.00000)\n",
      "[INFO][2022/08/08 07:09:47 PM]  - Stats (Active: 1721, Lost: 105261, Conflicts resolved: 3564)\n",
      "[INFO][2022/08/08 07:09:47 PM] Tracking objects in frames 50 to 74 (of 75)...\n",
      "[INFO][2022/08/08 07:09:48 PM]  - Timing (Bayesian updates: 11.69ms, Linking: 1.05ms)\n",
      "[INFO][2022/08/08 07:09:48 PM]  - Probabilities (Link: 0.92668, Lost: 1.00000)\n",
      "[INFO][2022/08/08 07:09:48 PM] SUCCESS.\n",
      "[INFO][2022/08/08 07:09:48 PM]  - Found 17653 tracks in 75 frames (in 0.0s)\n",
      "[INFO][2022/08/08 07:09:48 PM]  - Inserted 23139 dummy objects to fill tracking gaps\n",
      "[INFO][2022/08/08 07:09:49 PM] Ending BayesianTracker session\n",
      "[INFO][2022/08/08 07:09:49 PM] Loaded btrack: /home/dayn/miniconda3/envs/aero/lib/python3.9/site-packages/btrack/libs/libtracker.so\n",
      "[INFO][2022/08/08 07:09:49 PM] btrack (v0.4.5) library imported\n",
      "[INFO][2022/08/08 07:09:49 PM] Starting BayesianTracker session\n",
      "[INFO][2022/08/08 07:09:49 PM] Loading configuration file: /home/dayn/analysis/BayesianTracker/models/param_test_config_hypo.json\n",
      "[INFO][2022/08/08 07:09:49 PM] Setting max_search_radius -> 500\n",
      "[INFO][2022/08/08 07:09:49 PM] Setting features -> ['area', 'major_axis_length', 'minor_axis_length', 'orientation', 'solidity', 'mean_intensity']\n",
      "[INFO][2022/08/08 07:09:49 PM] Objects are of type: <class 'list'>\n"
     ]
    },
    {
     "name": "stdout",
     "output_type": "stream",
     "text": [
      "(10, 10, 300, 5, 80) 3.2823316150229425\n"
     ]
    },
    {
     "name": "stderr",
     "output_type": "stream",
     "text": [
      "[INFO][2022/08/08 07:09:49 PM] Setting volume -> ((0, 6048), (0, 6048), (-100000.0, 100000.0))\n",
      "[INFO][2022/08/08 07:09:49 PM] Starting tracking... \n",
      "[INFO][2022/08/08 07:09:49 PM] Tracking objects in frames 0 to 24 (of 75)...\n",
      "[INFO][2022/08/08 07:10:03 PM]  - Timing (Bayesian updates: 516.36ms, Linking: 12.00ms)\n",
      "[INFO][2022/08/08 07:10:03 PM]  - Probabilities (Link: 0.97446, Lost: 1.00000)\n",
      "[INFO][2022/08/08 07:10:03 PM]  - Stats (Active: 2550, Lost: 51737, Conflicts resolved: 1956)\n",
      "[INFO][2022/08/08 07:10:03 PM] Tracking objects in frames 25 to 49 (of 75)...\n",
      "[INFO][2022/08/08 07:10:14 PM]  - Timing (Bayesian updates: 180.74ms, Linking: 5.37ms)\n",
      "[INFO][2022/08/08 07:10:14 PM]  - Probabilities (Link: 0.94544, Lost: 1.00000)\n",
      "[INFO][2022/08/08 07:10:14 PM]  - Stats (Active: 1721, Lost: 105261, Conflicts resolved: 3564)\n",
      "[INFO][2022/08/08 07:10:14 PM] Tracking objects in frames 50 to 74 (of 75)...\n",
      "[INFO][2022/08/08 07:10:15 PM]  - Timing (Bayesian updates: 11.71ms, Linking: 0.99ms)\n",
      "[INFO][2022/08/08 07:10:15 PM]  - Probabilities (Link: 0.92668, Lost: 1.00000)\n",
      "[INFO][2022/08/08 07:10:15 PM] SUCCESS.\n",
      "[INFO][2022/08/08 07:10:15 PM]  - Found 17653 tracks in 75 frames (in 0.0s)\n",
      "[INFO][2022/08/08 07:10:15 PM]  - Inserted 23139 dummy objects to fill tracking gaps\n",
      "[INFO][2022/08/08 07:10:15 PM] Ending BayesianTracker session\n",
      "[INFO][2022/08/08 07:10:16 PM] Loaded btrack: /home/dayn/miniconda3/envs/aero/lib/python3.9/site-packages/btrack/libs/libtracker.so\n",
      "[INFO][2022/08/08 07:10:16 PM] btrack (v0.4.5) library imported\n",
      "[INFO][2022/08/08 07:10:16 PM] Starting BayesianTracker session\n",
      "[INFO][2022/08/08 07:10:16 PM] Loading configuration file: /home/dayn/analysis/BayesianTracker/models/param_test_config_hypo.json\n",
      "[INFO][2022/08/08 07:10:16 PM] Setting max_search_radius -> 500\n",
      "[INFO][2022/08/08 07:10:16 PM] Setting features -> ['area', 'major_axis_length', 'minor_axis_length', 'orientation', 'solidity', 'mean_intensity']\n",
      "[INFO][2022/08/08 07:10:16 PM] Objects are of type: <class 'list'>\n"
     ]
    },
    {
     "name": "stdout",
     "output_type": "stream",
     "text": [
      "(10, 10, 300, 5, 160) 3.2823316150229425\n"
     ]
    },
    {
     "name": "stderr",
     "output_type": "stream",
     "text": [
      "[INFO][2022/08/08 07:10:16 PM] Setting volume -> ((0, 6048), (0, 6048), (-100000.0, 100000.0))\n",
      "[INFO][2022/08/08 07:10:16 PM] Starting tracking... \n",
      "[INFO][2022/08/08 07:10:16 PM] Tracking objects in frames 0 to 24 (of 75)...\n",
      "[INFO][2022/08/08 07:10:29 PM]  - Timing (Bayesian updates: 520.25ms, Linking: 11.91ms)\n",
      "[INFO][2022/08/08 07:10:29 PM]  - Probabilities (Link: 0.97446, Lost: 1.00000)\n",
      "[INFO][2022/08/08 07:10:29 PM]  - Stats (Active: 2550, Lost: 51737, Conflicts resolved: 1956)\n",
      "[INFO][2022/08/08 07:10:29 PM] Tracking objects in frames 25 to 49 (of 75)...\n",
      "[INFO][2022/08/08 07:10:40 PM]  - Timing (Bayesian updates: 179.28ms, Linking: 5.45ms)\n",
      "[INFO][2022/08/08 07:10:40 PM]  - Probabilities (Link: 0.94544, Lost: 1.00000)\n",
      "[INFO][2022/08/08 07:10:40 PM]  - Stats (Active: 1721, Lost: 105261, Conflicts resolved: 3564)\n",
      "[INFO][2022/08/08 07:10:40 PM] Tracking objects in frames 50 to 74 (of 75)...\n",
      "[INFO][2022/08/08 07:10:41 PM]  - Timing (Bayesian updates: 12.01ms, Linking: 1.06ms)\n",
      "[INFO][2022/08/08 07:10:41 PM]  - Probabilities (Link: 0.92668, Lost: 1.00000)\n",
      "[INFO][2022/08/08 07:10:41 PM] SUCCESS.\n",
      "[INFO][2022/08/08 07:10:41 PM]  - Found 17653 tracks in 75 frames (in 0.0s)\n",
      "[INFO][2022/08/08 07:10:42 PM]  - Inserted 23139 dummy objects to fill tracking gaps\n",
      "[INFO][2022/08/08 07:10:42 PM] Ending BayesianTracker session\n",
      "[INFO][2022/08/08 07:10:42 PM] Loaded btrack: /home/dayn/miniconda3/envs/aero/lib/python3.9/site-packages/btrack/libs/libtracker.so\n",
      "[INFO][2022/08/08 07:10:42 PM] btrack (v0.4.5) library imported\n",
      "[INFO][2022/08/08 07:10:42 PM] Starting BayesianTracker session\n",
      "[INFO][2022/08/08 07:10:42 PM] Loading configuration file: /home/dayn/analysis/BayesianTracker/models/param_test_config_hypo.json\n",
      "[INFO][2022/08/08 07:10:42 PM] Setting max_search_radius -> 500\n",
      "[INFO][2022/08/08 07:10:42 PM] Setting features -> ['area', 'major_axis_length', 'minor_axis_length', 'orientation', 'solidity', 'mean_intensity']\n",
      "[INFO][2022/08/08 07:10:42 PM] Objects are of type: <class 'list'>\n"
     ]
    },
    {
     "name": "stdout",
     "output_type": "stream",
     "text": [
      "(10, 10, 300, 20, 40) 3.2823316150229425\n"
     ]
    },
    {
     "name": "stderr",
     "output_type": "stream",
     "text": [
      "[INFO][2022/08/08 07:10:42 PM] Setting volume -> ((0, 6048), (0, 6048), (-100000.0, 100000.0))\n",
      "[INFO][2022/08/08 07:10:42 PM] Starting tracking... \n",
      "[INFO][2022/08/08 07:10:42 PM] Tracking objects in frames 0 to 24 (of 75)...\n",
      "[INFO][2022/08/08 07:10:56 PM]  - Timing (Bayesian updates: 518.39ms, Linking: 11.90ms)\n",
      "[INFO][2022/08/08 07:10:56 PM]  - Probabilities (Link: 0.97446, Lost: 1.00000)\n",
      "[INFO][2022/08/08 07:10:56 PM]  - Stats (Active: 2550, Lost: 51737, Conflicts resolved: 1956)\n",
      "[INFO][2022/08/08 07:10:56 PM] Tracking objects in frames 25 to 49 (of 75)...\n",
      "[INFO][2022/08/08 07:11:07 PM]  - Timing (Bayesian updates: 179.24ms, Linking: 5.29ms)\n",
      "[INFO][2022/08/08 07:11:07 PM]  - Probabilities (Link: 0.94544, Lost: 1.00000)\n",
      "[INFO][2022/08/08 07:11:07 PM]  - Stats (Active: 1721, Lost: 105261, Conflicts resolved: 3564)\n",
      "[INFO][2022/08/08 07:11:07 PM] Tracking objects in frames 50 to 74 (of 75)...\n",
      "[INFO][2022/08/08 07:11:08 PM]  - Timing (Bayesian updates: 11.90ms, Linking: 1.03ms)\n",
      "[INFO][2022/08/08 07:11:08 PM]  - Probabilities (Link: 0.92668, Lost: 1.00000)\n",
      "[INFO][2022/08/08 07:11:08 PM] SUCCESS.\n",
      "[INFO][2022/08/08 07:11:08 PM]  - Found 17653 tracks in 75 frames (in 0.0s)\n",
      "[INFO][2022/08/08 07:11:09 PM]  - Inserted 23139 dummy objects to fill tracking gaps\n",
      "[INFO][2022/08/08 07:11:09 PM] Ending BayesianTracker session\n",
      "[INFO][2022/08/08 07:11:09 PM] Loaded btrack: /home/dayn/miniconda3/envs/aero/lib/python3.9/site-packages/btrack/libs/libtracker.so\n",
      "[INFO][2022/08/08 07:11:09 PM] btrack (v0.4.5) library imported\n",
      "[INFO][2022/08/08 07:11:09 PM] Starting BayesianTracker session\n",
      "[INFO][2022/08/08 07:11:09 PM] Loading configuration file: /home/dayn/analysis/BayesianTracker/models/param_test_config_hypo.json\n",
      "[INFO][2022/08/08 07:11:09 PM] Setting max_search_radius -> 500\n",
      "[INFO][2022/08/08 07:11:09 PM] Setting features -> ['area', 'major_axis_length', 'minor_axis_length', 'orientation', 'solidity', 'mean_intensity']\n",
      "[INFO][2022/08/08 07:11:09 PM] Objects are of type: <class 'list'>\n"
     ]
    },
    {
     "name": "stdout",
     "output_type": "stream",
     "text": [
      "(10, 10, 300, 20, 80) 3.2823316150229425\n"
     ]
    },
    {
     "name": "stderr",
     "output_type": "stream",
     "text": [
      "[INFO][2022/08/08 07:11:09 PM] Setting volume -> ((0, 6048), (0, 6048), (-100000.0, 100000.0))\n",
      "[INFO][2022/08/08 07:11:09 PM] Starting tracking... \n",
      "[INFO][2022/08/08 07:11:09 PM] Tracking objects in frames 0 to 24 (of 75)...\n",
      "[INFO][2022/08/08 07:11:23 PM]  - Timing (Bayesian updates: 518.58ms, Linking: 12.23ms)\n",
      "[INFO][2022/08/08 07:11:23 PM]  - Probabilities (Link: 0.97446, Lost: 1.00000)\n",
      "[INFO][2022/08/08 07:11:23 PM]  - Stats (Active: 2550, Lost: 51737, Conflicts resolved: 1956)\n",
      "[INFO][2022/08/08 07:11:23 PM] Tracking objects in frames 25 to 49 (of 75)...\n",
      "[INFO][2022/08/08 07:11:34 PM]  - Timing (Bayesian updates: 178.65ms, Linking: 5.35ms)\n",
      "[INFO][2022/08/08 07:11:34 PM]  - Probabilities (Link: 0.94544, Lost: 1.00000)\n",
      "[INFO][2022/08/08 07:11:34 PM]  - Stats (Active: 1721, Lost: 105261, Conflicts resolved: 3564)\n",
      "[INFO][2022/08/08 07:11:34 PM] Tracking objects in frames 50 to 74 (of 75)...\n",
      "[INFO][2022/08/08 07:11:35 PM]  - Timing (Bayesian updates: 11.73ms, Linking: 1.00ms)\n",
      "[INFO][2022/08/08 07:11:35 PM]  - Probabilities (Link: 0.92668, Lost: 1.00000)\n",
      "[INFO][2022/08/08 07:11:35 PM] SUCCESS.\n",
      "[INFO][2022/08/08 07:11:35 PM]  - Found 17653 tracks in 75 frames (in 0.0s)\n",
      "[INFO][2022/08/08 07:11:36 PM]  - Inserted 23139 dummy objects to fill tracking gaps\n",
      "[INFO][2022/08/08 07:11:36 PM] Ending BayesianTracker session\n",
      "[INFO][2022/08/08 07:11:36 PM] Loaded btrack: /home/dayn/miniconda3/envs/aero/lib/python3.9/site-packages/btrack/libs/libtracker.so\n",
      "[INFO][2022/08/08 07:11:36 PM] btrack (v0.4.5) library imported\n",
      "[INFO][2022/08/08 07:11:36 PM] Starting BayesianTracker session\n",
      "[INFO][2022/08/08 07:11:36 PM] Loading configuration file: /home/dayn/analysis/BayesianTracker/models/param_test_config_hypo.json\n",
      "[INFO][2022/08/08 07:11:36 PM] Setting max_search_radius -> 500\n",
      "[INFO][2022/08/08 07:11:36 PM] Setting features -> ['area', 'major_axis_length', 'minor_axis_length', 'orientation', 'solidity', 'mean_intensity']\n",
      "[INFO][2022/08/08 07:11:36 PM] Objects are of type: <class 'list'>\n"
     ]
    },
    {
     "name": "stdout",
     "output_type": "stream",
     "text": [
      "(10, 10, 300, 20, 160) 3.2823316150229425\n"
     ]
    },
    {
     "name": "stderr",
     "output_type": "stream",
     "text": [
      "[INFO][2022/08/08 07:11:36 PM] Setting volume -> ((0, 6048), (0, 6048), (-100000.0, 100000.0))\n",
      "[INFO][2022/08/08 07:11:36 PM] Starting tracking... \n",
      "[INFO][2022/08/08 07:11:37 PM] Tracking objects in frames 0 to 24 (of 75)...\n",
      "[INFO][2022/08/08 07:11:51 PM]  - Timing (Bayesian updates: 515.43ms, Linking: 11.77ms)\n",
      "[INFO][2022/08/08 07:11:51 PM]  - Probabilities (Link: 0.97446, Lost: 1.00000)\n",
      "[INFO][2022/08/08 07:11:51 PM]  - Stats (Active: 2550, Lost: 51737, Conflicts resolved: 1956)\n",
      "[INFO][2022/08/08 07:11:51 PM] Tracking objects in frames 25 to 49 (of 75)...\n",
      "[INFO][2022/08/08 07:12:02 PM]  - Timing (Bayesian updates: 177.87ms, Linking: 5.11ms)\n",
      "[INFO][2022/08/08 07:12:02 PM]  - Probabilities (Link: 0.94544, Lost: 1.00000)\n",
      "[INFO][2022/08/08 07:12:02 PM]  - Stats (Active: 1721, Lost: 105261, Conflicts resolved: 3564)\n",
      "[INFO][2022/08/08 07:12:02 PM] Tracking objects in frames 50 to 74 (of 75)...\n",
      "[INFO][2022/08/08 07:12:03 PM]  - Timing (Bayesian updates: 11.88ms, Linking: 1.05ms)\n",
      "[INFO][2022/08/08 07:12:03 PM]  - Probabilities (Link: 0.92668, Lost: 1.00000)\n",
      "[INFO][2022/08/08 07:12:03 PM] SUCCESS.\n",
      "[INFO][2022/08/08 07:12:03 PM]  - Found 17653 tracks in 75 frames (in 0.0s)\n",
      "[INFO][2022/08/08 07:12:03 PM]  - Inserted 23139 dummy objects to fill tracking gaps\n",
      "[INFO][2022/08/08 07:12:03 PM] Ending BayesianTracker session\n",
      "[INFO][2022/08/08 07:12:04 PM] Loaded btrack: /home/dayn/miniconda3/envs/aero/lib/python3.9/site-packages/btrack/libs/libtracker.so\n",
      "[INFO][2022/08/08 07:12:04 PM] btrack (v0.4.5) library imported\n",
      "[INFO][2022/08/08 07:12:04 PM] Starting BayesianTracker session\n",
      "[INFO][2022/08/08 07:12:04 PM] Loading configuration file: /home/dayn/analysis/BayesianTracker/models/param_test_config_hypo.json\n",
      "[INFO][2022/08/08 07:12:04 PM] Setting max_search_radius -> 500\n",
      "[INFO][2022/08/08 07:12:04 PM] Setting features -> ['area', 'major_axis_length', 'minor_axis_length', 'orientation', 'solidity', 'mean_intensity']\n",
      "[INFO][2022/08/08 07:12:04 PM] Objects are of type: <class 'list'>\n"
     ]
    },
    {
     "name": "stdout",
     "output_type": "stream",
     "text": [
      "(10, 10, 300, 100, 40) 3.2823316150229425\n"
     ]
    },
    {
     "name": "stderr",
     "output_type": "stream",
     "text": [
      "[INFO][2022/08/08 07:12:04 PM] Setting volume -> ((0, 6048), (0, 6048), (-100000.0, 100000.0))\n",
      "[INFO][2022/08/08 07:12:04 PM] Starting tracking... \n",
      "[INFO][2022/08/08 07:12:04 PM] Tracking objects in frames 0 to 24 (of 75)...\n",
      "[INFO][2022/08/08 07:12:17 PM]  - Timing (Bayesian updates: 516.77ms, Linking: 11.95ms)\n",
      "[INFO][2022/08/08 07:12:17 PM]  - Probabilities (Link: 0.97446, Lost: 1.00000)\n",
      "[INFO][2022/08/08 07:12:17 PM]  - Stats (Active: 2550, Lost: 51737, Conflicts resolved: 1956)\n",
      "[INFO][2022/08/08 07:12:17 PM] Tracking objects in frames 25 to 49 (of 75)...\n",
      "[INFO][2022/08/08 07:12:28 PM]  - Timing (Bayesian updates: 180.64ms, Linking: 6.68ms)\n",
      "[INFO][2022/08/08 07:12:28 PM]  - Probabilities (Link: 0.94544, Lost: 1.00000)\n",
      "[INFO][2022/08/08 07:12:28 PM]  - Stats (Active: 1721, Lost: 105261, Conflicts resolved: 3564)\n",
      "[INFO][2022/08/08 07:12:28 PM] Tracking objects in frames 50 to 74 (of 75)...\n",
      "[INFO][2022/08/08 07:12:29 PM]  - Timing (Bayesian updates: 11.81ms, Linking: 1.04ms)\n",
      "[INFO][2022/08/08 07:12:29 PM]  - Probabilities (Link: 0.92668, Lost: 1.00000)\n",
      "[INFO][2022/08/08 07:12:29 PM] SUCCESS.\n",
      "[INFO][2022/08/08 07:12:29 PM]  - Found 17653 tracks in 75 frames (in 0.0s)\n",
      "[INFO][2022/08/08 07:12:30 PM]  - Inserted 23139 dummy objects to fill tracking gaps\n",
      "[INFO][2022/08/08 07:12:30 PM] Ending BayesianTracker session\n",
      "[INFO][2022/08/08 07:12:30 PM] Loaded btrack: /home/dayn/miniconda3/envs/aero/lib/python3.9/site-packages/btrack/libs/libtracker.so\n",
      "[INFO][2022/08/08 07:12:30 PM] btrack (v0.4.5) library imported\n",
      "[INFO][2022/08/08 07:12:30 PM] Starting BayesianTracker session\n",
      "[INFO][2022/08/08 07:12:30 PM] Loading configuration file: /home/dayn/analysis/BayesianTracker/models/param_test_config_hypo.json\n",
      "[INFO][2022/08/08 07:12:30 PM] Setting max_search_radius -> 500\n",
      "[INFO][2022/08/08 07:12:30 PM] Setting features -> ['area', 'major_axis_length', 'minor_axis_length', 'orientation', 'solidity', 'mean_intensity']\n",
      "[INFO][2022/08/08 07:12:30 PM] Objects are of type: <class 'list'>\n"
     ]
    },
    {
     "name": "stdout",
     "output_type": "stream",
     "text": [
      "(10, 10, 300, 100, 80) 3.2823316150229425\n"
     ]
    },
    {
     "name": "stderr",
     "output_type": "stream",
     "text": [
      "[INFO][2022/08/08 07:12:30 PM] Setting volume -> ((0, 6048), (0, 6048), (-100000.0, 100000.0))\n",
      "[INFO][2022/08/08 07:12:30 PM] Starting tracking... \n",
      "[INFO][2022/08/08 07:12:30 PM] Tracking objects in frames 0 to 24 (of 75)...\n",
      "[INFO][2022/08/08 07:12:44 PM]  - Timing (Bayesian updates: 518.36ms, Linking: 11.75ms)\n",
      "[INFO][2022/08/08 07:12:44 PM]  - Probabilities (Link: 0.97446, Lost: 1.00000)\n",
      "[INFO][2022/08/08 07:12:44 PM]  - Stats (Active: 2550, Lost: 51737, Conflicts resolved: 1956)\n",
      "[INFO][2022/08/08 07:12:44 PM] Tracking objects in frames 25 to 49 (of 75)...\n",
      "[INFO][2022/08/08 07:12:55 PM]  - Timing (Bayesian updates: 179.27ms, Linking: 6.41ms)\n",
      "[INFO][2022/08/08 07:12:55 PM]  - Probabilities (Link: 0.94544, Lost: 1.00000)\n",
      "[INFO][2022/08/08 07:12:55 PM]  - Stats (Active: 1721, Lost: 105261, Conflicts resolved: 3564)\n",
      "[INFO][2022/08/08 07:12:55 PM] Tracking objects in frames 50 to 74 (of 75)...\n",
      "[INFO][2022/08/08 07:12:56 PM]  - Timing (Bayesian updates: 11.88ms, Linking: 1.02ms)\n",
      "[INFO][2022/08/08 07:12:56 PM]  - Probabilities (Link: 0.92668, Lost: 1.00000)\n",
      "[INFO][2022/08/08 07:12:56 PM] SUCCESS.\n",
      "[INFO][2022/08/08 07:12:56 PM]  - Found 17653 tracks in 75 frames (in 0.0s)\n",
      "[INFO][2022/08/08 07:12:56 PM]  - Inserted 23139 dummy objects to fill tracking gaps\n",
      "[INFO][2022/08/08 07:12:57 PM] Ending BayesianTracker session\n"
     ]
    },
    {
     "name": "stdout",
     "output_type": "stream",
     "text": [
      "(10, 10, 300, 100, 160) 3.2823316150229425\n"
     ]
    }
   ],
   "source": [
    "param_configs = list(itertools.product(*param_dict_hypo_model.values()))\n",
    "stat_dict = {}\n",
    "for config in tqdm(param_configs):\n",
    "    try:\n",
    "        ### assign values from config\n",
    "        lambda_time_i = config[0]\n",
    "        lamdda_dist_i = config[1]\n",
    "        lambda_link_i = config[2]\n",
    "        theta_dist_i = config[3]\n",
    "        dist_thresh_i = config[4]\n",
    "        ### load config file\n",
    "        config_fn = '/home/dayn/analysis/BayesianTracker/models/param_test_config_hypo.json'\n",
    "        with open(config_fn,'r+') as jsonfile:\n",
    "            config_json = json.load(jsonfile)\n",
    "            ### edit params\n",
    "            config_json['TrackerConfig']['HypothesisModel']['lambda_time'] = lambda_time_i\n",
    "            config_json['TrackerConfig']['HypothesisModel']['lamdda_dist_i'] = lamdda_dist_i\n",
    "            config_json['TrackerConfig']['HypothesisModel']['lambda_link_i'] = lambda_link_i\n",
    "            config_json['TrackerConfig']['HypothesisModel']['theta_dist_i'] = theta_dist_i\n",
    "            config_json['TrackerConfig']['HypothesisModel']['dist_thresh_i'] = dist_thresh_i\n",
    "            ### dno what this does lol\n",
    "            jsonfile.seek(0)\n",
    "            ### save out as temporary config\n",
    "            json.dump(config_json, jsonfile, indent = 4)\n",
    "            jsonfile.truncate()  \n",
    "\n",
    "        ### now try tracking with that configuration\n",
    "        # initialise a tracker session using a context manager\n",
    "        with btrack.BayesianTracker() as tracker:\n",
    "            # configure the tracker using a config file\n",
    "            tracker.configure_from_file(config_fn)\n",
    "            tracker.verbose = True\n",
    "            tracker.max_search_radius = 500\n",
    "            # use visual features to track\n",
    "            tracker.features = FEATURES\n",
    "            # append the objects to be tracked\n",
    "            tracker.append(objects)\n",
    "            # set the volume\n",
    "            tracker.volume=((0, 6048), (0, 6048), (-1e5, 1e5))\n",
    "            # track them (in interactive mode)\n",
    "            tracker.track_interactive(step_size=25)\n",
    "            # generate hypotheses and run the global optimizer\n",
    "            #tracker.optimize()\n",
    "            tracks = tracker.tracks\n",
    "            # store the configuration\n",
    "            cfg = tracker.configuration\n",
    "            ## get lazy assessment of tracking performance\n",
    "            average_track_len = np.mean([len(track) for track in tracks])\n",
    "            ### store stats in dictionary\n",
    "            stat_dict[average_track_len] = cfg\n",
    "            print(config, average_track_len)\n",
    "        with open('hypo_model_params_results_1.pkl', 'wb') as f:\n",
    "            pickle.dump(stat_dict, f)\n",
    "    except Exception as e: print(e)"
   ]
  },
  {
   "cell_type": "code",
   "execution_count": 14,
   "id": "eafd0d21",
   "metadata": {},
   "outputs": [],
   "source": [
    "with open('hypo_model_params_results_final.pkl', 'wb') as f:\n",
    "        pickle.dump(stat_dict, f)"
   ]
  },
  {
   "cell_type": "markdown",
   "id": "7827c23e",
   "metadata": {},
   "source": [
    "# Testing 1307 combinations of tracking parameters"
   ]
  },
  {
   "cell_type": "code",
   "execution_count": 16,
   "id": "2d33dec6",
   "metadata": {},
   "outputs": [
    {
     "data": {
      "text/plain": [
       "1"
      ]
     },
     "execution_count": 16,
     "metadata": {},
     "output_type": "execute_result"
    }
   ],
   "source": [
    "len(stat_dict)"
   ]
  }
 ],
 "metadata": {
  "kernelspec": {
   "display_name": "aero",
   "language": "python",
   "name": "aero"
  },
  "language_info": {
   "codemirror_mode": {
    "name": "ipython",
    "version": 3
   },
   "file_extension": ".py",
   "mimetype": "text/x-python",
   "name": "python",
   "nbconvert_exporter": "python",
   "pygments_lexer": "ipython3",
   "version": "3.9.12"
  }
 },
 "nbformat": 4,
 "nbformat_minor": 5
}
