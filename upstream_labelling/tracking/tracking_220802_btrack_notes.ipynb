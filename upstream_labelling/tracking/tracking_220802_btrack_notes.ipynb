{
 "cells": [
  {
   "cell_type": "code",
   "execution_count": 7,
   "id": "4b87d019",
   "metadata": {},
   "outputs": [],
   "source": [
    "import napari_btrack"
   ]
  },
  {
   "cell_type": "code",
   "execution_count": 8,
   "id": "18b20799",
   "metadata": {},
   "outputs": [],
   "source": [
    "import dask.array as da\n",
    "import napari\n",
    "from tqdm.auto import tqdm\n",
    "from skimage.io import imshow,  imsave\n",
    "import matplotlib.pyplot as plt\n",
    "plt.rcParams[\"figure.figsize\"] = (15,7)"
   ]
  },
  {
   "cell_type": "code",
   "execution_count": 19,
   "id": "de2d27d7",
   "metadata": {},
   "outputs": [],
   "source": [
    "M = [0.1,0,0,0,0,0,\n",
    "                       0,0.1,0,0,0,0,\n",
    "                       0,0,0.1,0,0,0,\n",
    "                       0,0,0,1,0,0,\n",
    "                       0,0,0,0,1,0,\n",
    "                       0,0,0,0,0,1]\n",
    "          "
   ]
  },
  {
   "cell_type": "markdown",
   "id": "aa4464a2",
   "metadata": {},
   "source": [
    "\n",
    "'Is an algorithm which uses a series of measurements observed over time,\n",
    "containing noise (random variations) and other inaccuracies, and produces\n",
    "estimates of unknown variables that tend to be more precise than those that\n",
    "would be based on a single measurement alone.'\n",
    "\n",
    "Predicted estimate of state:\n",
    "\n",
    ".. math:: \\hat{x}_{t\\vert~t-1} = A_t \\hat{x}_{t-1\\vert~t-1}\n",
    "\n",
    "Predicted estimate of covariance:\n",
    "\n",
    ".. math:: P_{t\\vert~t-1} = A_t P_{t-1\\vert~t-1} A_t^{\\top} + Q_t\n",
    "\n",
    "This is just a wrapper for the data with a few convenience functions\n",
    "thrown in. Matrices must be stored Fortran style, because Eigen uses\n",
    "column major and Numpy uses row major storage."
   ]
  },
  {
   "cell_type": "markdown",
   "id": "410eeae1",
   "metadata": {},
   "source": [
    "### Load images from zarr and compress into max projections"
   ]
  },
  {
   "cell_type": "code",
   "execution_count": 16,
   "id": "61ffbb7e",
   "metadata": {},
   "outputs": [],
   "source": [
    "gfp = da.from_zarr('/mnt/DATA/sandbox/pierre_live_cell_data/outputs/Replication_IPSDM_GFP/zarr/tzxy_stack_ch1.zarr/')\n",
    "rfp = da.from_zarr('/mnt/DATA/sandbox/pierre_live_cell_data/outputs/Replication_IPSDM_GFP/zarr/tzxy_stack_ch2.zarr/')\n",
    "gfp = da.sum(gfp, axis = 1, dtype='u2')\n",
    "rfp = da.sum(rfp, axis = 1, dtype='u2')\n",
    "masks = da.from_zarr(f'/mnt/DATA/sandbox/pierre_live_cell_data/outputs/Replication_IPSDM_GFP/zarr/tzxy_stack_ch99.zarr/',)# chunks = gfp.chunks)"
   ]
  },
  {
   "cell_type": "code",
   "execution_count": 17,
   "id": "99f7dd48",
   "metadata": {
    "scrolled": true
   },
   "outputs": [],
   "source": [
    "masks = masks[0:10, 0:750, 0:750]"
   ]
  },
  {
   "cell_type": "code",
   "execution_count": 18,
   "id": "5e475043",
   "metadata": {
    "scrolled": false
   },
   "outputs": [
    {
     "data": {
      "text/html": [
       "<table>\n",
       "    <tr>\n",
       "        <td>\n",
       "            <table>\n",
       "                <thead>\n",
       "                    <tr>\n",
       "                        <td> </td>\n",
       "                        <th> Array </th>\n",
       "                        <th> Chunk </th>\n",
       "                    </tr>\n",
       "                </thead>\n",
       "                <tbody>\n",
       "                    \n",
       "                    <tr>\n",
       "                        <th> Bytes </th>\n",
       "                        <td> 10.73 MiB </td>\n",
       "                        <td> 1.07 MiB </td>\n",
       "                    </tr>\n",
       "                    \n",
       "                    <tr>\n",
       "                        <th> Shape </th>\n",
       "                        <td> (10, 750, 750) </td>\n",
       "                        <td> (1, 750, 750) </td>\n",
       "                    </tr>\n",
       "                    <tr>\n",
       "                        <th> Count </th>\n",
       "                        <td> 686 Tasks </td>\n",
       "                        <td> 10 Chunks </td>\n",
       "                    </tr>\n",
       "                    <tr>\n",
       "                    <th> Type </th>\n",
       "                    <td> uint16 </td>\n",
       "                    <td> numpy.ndarray </td>\n",
       "                    </tr>\n",
       "                </tbody>\n",
       "            </table>\n",
       "        </td>\n",
       "        <td>\n",
       "        <svg width=\"195\" height=\"185\" style=\"stroke:rgb(0,0,0);stroke-width:1\" >\n",
       "\n",
       "  <!-- Horizontal lines -->\n",
       "  <line x1=\"10\" y1=\"0\" x2=\"25\" y2=\"15\" style=\"stroke-width:2\" />\n",
       "  <line x1=\"10\" y1=\"120\" x2=\"25\" y2=\"135\" style=\"stroke-width:2\" />\n",
       "\n",
       "  <!-- Vertical lines -->\n",
       "  <line x1=\"10\" y1=\"0\" x2=\"10\" y2=\"120\" style=\"stroke-width:2\" />\n",
       "  <line x1=\"11\" y1=\"1\" x2=\"11\" y2=\"121\" />\n",
       "  <line x1=\"13\" y1=\"3\" x2=\"13\" y2=\"123\" />\n",
       "  <line x1=\"14\" y1=\"4\" x2=\"14\" y2=\"124\" />\n",
       "  <line x1=\"16\" y1=\"6\" x2=\"16\" y2=\"126\" />\n",
       "  <line x1=\"17\" y1=\"7\" x2=\"17\" y2=\"127\" />\n",
       "  <line x1=\"19\" y1=\"9\" x2=\"19\" y2=\"129\" />\n",
       "  <line x1=\"21\" y1=\"11\" x2=\"21\" y2=\"131\" />\n",
       "  <line x1=\"22\" y1=\"12\" x2=\"22\" y2=\"132\" />\n",
       "  <line x1=\"24\" y1=\"14\" x2=\"24\" y2=\"134\" />\n",
       "  <line x1=\"25\" y1=\"15\" x2=\"25\" y2=\"135\" style=\"stroke-width:2\" />\n",
       "\n",
       "  <!-- Colored Rectangle -->\n",
       "  <polygon points=\"10.0,0.0 25.789801986345744,15.789801986345744 25.789801986345744,135.78980198634574 10.0,120.0\" style=\"fill:#ECB172A0;stroke-width:0\"/>\n",
       "\n",
       "  <!-- Horizontal lines -->\n",
       "  <line x1=\"10\" y1=\"0\" x2=\"130\" y2=\"0\" style=\"stroke-width:2\" />\n",
       "  <line x1=\"11\" y1=\"1\" x2=\"131\" y2=\"1\" />\n",
       "  <line x1=\"13\" y1=\"3\" x2=\"133\" y2=\"3\" />\n",
       "  <line x1=\"14\" y1=\"4\" x2=\"134\" y2=\"4\" />\n",
       "  <line x1=\"16\" y1=\"6\" x2=\"136\" y2=\"6\" />\n",
       "  <line x1=\"17\" y1=\"7\" x2=\"137\" y2=\"7\" />\n",
       "  <line x1=\"19\" y1=\"9\" x2=\"139\" y2=\"9\" />\n",
       "  <line x1=\"21\" y1=\"11\" x2=\"141\" y2=\"11\" />\n",
       "  <line x1=\"22\" y1=\"12\" x2=\"142\" y2=\"12\" />\n",
       "  <line x1=\"24\" y1=\"14\" x2=\"144\" y2=\"14\" />\n",
       "  <line x1=\"25\" y1=\"15\" x2=\"145\" y2=\"15\" style=\"stroke-width:2\" />\n",
       "\n",
       "  <!-- Vertical lines -->\n",
       "  <line x1=\"10\" y1=\"0\" x2=\"25\" y2=\"15\" style=\"stroke-width:2\" />\n",
       "  <line x1=\"130\" y1=\"0\" x2=\"145\" y2=\"15\" style=\"stroke-width:2\" />\n",
       "\n",
       "  <!-- Colored Rectangle -->\n",
       "  <polygon points=\"10.0,0.0 130.0,0.0 145.78980198634574,15.789801986345744 25.789801986345744,15.789801986345744\" style=\"fill:#ECB172A0;stroke-width:0\"/>\n",
       "\n",
       "  <!-- Horizontal lines -->\n",
       "  <line x1=\"25\" y1=\"15\" x2=\"145\" y2=\"15\" style=\"stroke-width:2\" />\n",
       "  <line x1=\"25\" y1=\"135\" x2=\"145\" y2=\"135\" style=\"stroke-width:2\" />\n",
       "\n",
       "  <!-- Vertical lines -->\n",
       "  <line x1=\"25\" y1=\"15\" x2=\"25\" y2=\"135\" style=\"stroke-width:2\" />\n",
       "  <line x1=\"145\" y1=\"15\" x2=\"145\" y2=\"135\" style=\"stroke-width:2\" />\n",
       "\n",
       "  <!-- Colored Rectangle -->\n",
       "  <polygon points=\"25.789801986345744,15.789801986345744 145.78980198634574,15.789801986345744 145.78980198634574,135.78980198634574 25.789801986345744,135.78980198634574\" style=\"fill:#ECB172A0;stroke-width:0\"/>\n",
       "\n",
       "  <!-- Text -->\n",
       "  <text x=\"85.789802\" y=\"155.789802\" font-size=\"1.0rem\" font-weight=\"100\" text-anchor=\"middle\" >750</text>\n",
       "  <text x=\"165.789802\" y=\"75.789802\" font-size=\"1.0rem\" font-weight=\"100\" text-anchor=\"middle\" transform=\"rotate(-90,165.789802,75.789802)\">750</text>\n",
       "  <text x=\"7.894901\" y=\"147.894901\" font-size=\"1.0rem\" font-weight=\"100\" text-anchor=\"middle\" transform=\"rotate(45,7.894901,147.894901)\">10</text>\n",
       "</svg>\n",
       "        </td>\n",
       "    </tr>\n",
       "</table>"
      ],
      "text/plain": [
       "dask.array<getitem, shape=(10, 750, 750), dtype=uint16, chunksize=(1, 750, 750), chunktype=numpy.ndarray>"
      ]
     },
     "execution_count": 18,
     "metadata": {},
     "output_type": "execute_result"
    },
    {
     "name": "stdout",
     "output_type": "stream",
     "text": [
      "mode is cell:  True\n",
      "mode is cell:  True\n",
      "mode is cell:  True\n"
     ]
    },
    {
     "name": "stderr",
     "output_type": "stream",
     "text": [
      "[INFO][2022/08/02 01:10:54 pm] Loaded btrack: /home/dayn/miniconda3/envs/aero/lib/python3.9/site-packages/btrack/libs/libtracker.so\n",
      "[INFO][2022/08/02 01:10:54 pm] btrack (v0.4.5) library imported\n",
      "[INFO][2022/08/02 01:10:54 pm] Starting BayesianTracker session\n",
      "[INFO][2022/08/02 01:10:54 pm] Localizing objects from segmentation...\n",
      "[INFO][2022/08/02 01:10:54 pm] Objects are of type: <class 'dict'>\n",
      "[INFO][2022/08/02 01:10:54 pm] ...Found 109 objects in 10 frames.\n",
      "[INFO][2022/08/02 01:10:54 pm] Objects are of type: <class 'list'>\n",
      "[INFO][2022/08/02 01:10:54 pm] Starting tracking... \n",
      "[INFO][2022/08/02 01:10:54 pm] Tracking objects in frames 0 to 10 (of 10)...\n",
      "[INFO][2022/08/02 01:10:54 pm]  - Timing (Bayesian updates: 0.24ms, Linking: 0.23ms)\n",
      "[INFO][2022/08/02 01:10:54 pm]  - Probabilities (Link: 0.66890, Lost: 1.00000)\n",
      "[INFO][2022/08/02 01:10:54 pm] SUCCESS.\n",
      "[INFO][2022/08/02 01:10:54 pm]  - Found 60 tracks in 10 frames (in 0.0s)\n",
      "[INFO][2022/08/02 01:10:54 pm]  - Inserted 37 dummy objects to fill tracking gaps\n",
      "[INFO][2022/08/02 01:10:54 pm] Loading hypothesis model: cell_hypothesis\n",
      "[INFO][2022/08/02 01:10:54 pm] Calculating hypotheses (relax: False)...\n",
      "[INFO][2022/08/02 01:10:54 pm] Setting up constraints matrix for global optimisation...\n",
      "[INFO][2022/08/02 01:10:54 pm] Using GLPK options: {'tm_lim': 60000}...\n",
      "[INFO][2022/08/02 01:10:54 pm] Optimizing...\n",
      "[INFO][2022/08/02 01:10:54 pm] Optimization complete. (Solution: optimal)\n",
      "[INFO][2022/08/02 01:10:54 pm]  - Fates.FALSE_POSITIVE: 39 (of 60)\n",
      "[INFO][2022/08/02 01:10:54 pm]  - Fates.LINK: 5 (of 13)\n",
      "[INFO][2022/08/02 01:10:54 pm]  - Fates.INITIALIZE_BORDER: 2 (of 3)\n",
      "[INFO][2022/08/02 01:10:54 pm]  - Fates.INITIALIZE_FRONT: 14 (of 36)\n",
      "[INFO][2022/08/02 01:10:54 pm]  - Fates.TERMINATE_BORDER: 2 (of 6)\n",
      "[INFO][2022/08/02 01:10:54 pm]  - Fates.TERMINATE_BACK: 14 (of 34)\n",
      "[INFO][2022/08/02 01:10:54 pm]  - TOTAL: 152 hypotheses\n",
      "[INFO][2022/08/02 01:10:54 pm] Completed optimization with 55 tracks\n",
      "[INFO][2022/08/02 01:10:54 pm] Ending BayesianTracker session\n"
     ]
    },
    {
     "name": "stdout",
     "output_type": "stream",
     "text": [
      "GLPK Integer Optimizer 5.0\n",
      "240 rows, 152 columns, 225 non-zeros\n",
      "152 integer variables, all of which are binary\n",
      "Preprocessing...\n",
      "56 rows, 84 columns, 121 non-zeros\n",
      "84 integer variables, all of which are binary\n",
      "Scaling...\n",
      " A: min|aij| =  1.000e+00  max|aij| =  1.000e+00  ratio =  1.000e+00\n",
      "Problem data seem to be well scaled\n",
      "Constructing initial basis...\n",
      "Size of triangular part is 56\n",
      "Solving LP relaxation...\n",
      "GLPK Simplex Optimizer 5.0\n",
      "56 rows, 84 columns, 121 non-zeros\n",
      "*     0: obj =   2.097562694e+02 inf =   0.000e+00 (10)\n",
      "*    10: obj =   1.895139014e+02 inf =   0.000e+00 (0)\n",
      "OPTIMAL LP SOLUTION FOUND\n",
      "Integer optimization begins...\n",
      "Long-step dual simplex will be used\n",
      "+    10: mip =     not found yet >=              -inf        (1; 0)\n",
      "+    10: >>>>>   1.895139014e+02 >=   1.895139014e+02   0.0% (1; 0)\n",
      "+    10: mip =   1.895139014e+02 >=     tree is empty   0.0% (0; 1)\n",
      "INTEGER OPTIMAL SOLUTION FOUND\n"
     ]
    },
    {
     "name": "stderr",
     "output_type": "stream",
     "text": [
      "[INFO][2022/08/02 01:11:58 pm] Loaded btrack: /home/dayn/miniconda3/envs/aero/lib/python3.9/site-packages/btrack/libs/libtracker.so\n",
      "[INFO][2022/08/02 01:11:58 pm] btrack (v0.4.5) library imported\n",
      "[INFO][2022/08/02 01:11:58 pm] Starting BayesianTracker session\n",
      "[INFO][2022/08/02 01:11:58 pm] Localizing objects from segmentation...\n",
      "[INFO][2022/08/02 01:11:59 pm] Objects are of type: <class 'dict'>\n",
      "[INFO][2022/08/02 01:11:59 pm] ...Found 109 objects in 10 frames.\n",
      "[INFO][2022/08/02 01:11:59 pm] Objects are of type: <class 'list'>\n",
      "[INFO][2022/08/02 01:11:59 pm] Starting tracking... \n",
      "[INFO][2022/08/02 01:11:59 pm] Tracking objects in frames 0 to 10 (of 10)...\n",
      "[INFO][2022/08/02 01:11:59 pm]  - Timing (Bayesian updates: 0.15ms, Linking: 0.15ms)\n",
      "[INFO][2022/08/02 01:11:59 pm]  - Probabilities (Link: 0.66890, Lost: 1.00000)\n",
      "[INFO][2022/08/02 01:11:59 pm] SUCCESS.\n",
      "[INFO][2022/08/02 01:11:59 pm]  - Found 60 tracks in 10 frames (in 0.0s)\n",
      "[INFO][2022/08/02 01:11:59 pm]  - Inserted 37 dummy objects to fill tracking gaps\n",
      "[INFO][2022/08/02 01:11:59 pm] Loading hypothesis model: cell_hypothesis\n",
      "[INFO][2022/08/02 01:11:59 pm] Calculating hypotheses (relax: False)...\n",
      "[INFO][2022/08/02 01:11:59 pm] Setting up constraints matrix for global optimisation...\n",
      "[INFO][2022/08/02 01:11:59 pm] Using GLPK options: {'tm_lim': 60000}...\n",
      "[INFO][2022/08/02 01:11:59 pm] Optimizing...\n",
      "[INFO][2022/08/02 01:11:59 pm] Optimization complete. (Solution: optimal)\n",
      "[INFO][2022/08/02 01:11:59 pm]  - Fates.FALSE_POSITIVE: 39 (of 60)\n",
      "[INFO][2022/08/02 01:11:59 pm]  - Fates.LINK: 5 (of 13)\n",
      "[INFO][2022/08/02 01:11:59 pm]  - Fates.INITIALIZE_BORDER: 2 (of 3)\n",
      "[INFO][2022/08/02 01:11:59 pm]  - Fates.INITIALIZE_FRONT: 14 (of 36)\n",
      "[INFO][2022/08/02 01:11:59 pm]  - Fates.TERMINATE_BORDER: 2 (of 6)\n",
      "[INFO][2022/08/02 01:11:59 pm]  - Fates.TERMINATE_BACK: 14 (of 34)\n",
      "[INFO][2022/08/02 01:11:59 pm]  - TOTAL: 152 hypotheses\n",
      "[INFO][2022/08/02 01:11:59 pm] Completed optimization with 55 tracks\n",
      "[INFO][2022/08/02 01:11:59 pm] Ending BayesianTracker session\n"
     ]
    },
    {
     "name": "stdout",
     "output_type": "stream",
     "text": [
      "GLPK Integer Optimizer 5.0\n",
      "240 rows, 152 columns, 225 non-zeros\n",
      "152 integer variables, all of which are binary\n",
      "Preprocessing...\n",
      "56 rows, 84 columns, 121 non-zeros\n",
      "84 integer variables, all of which are binary\n",
      "Scaling...\n",
      " A: min|aij| =  1.000e+00  max|aij| =  1.000e+00  ratio =  1.000e+00\n",
      "Problem data seem to be well scaled\n",
      "Constructing initial basis...\n",
      "Size of triangular part is 56\n",
      "Solving LP relaxation...\n",
      "GLPK Simplex Optimizer 5.0\n",
      "56 rows, 84 columns, 121 non-zeros\n",
      "*     0: obj =   2.097562694e+02 inf =   0.000e+00 (10)\n",
      "*    10: obj =   1.895139014e+02 inf =   0.000e+00 (0)\n",
      "OPTIMAL LP SOLUTION FOUND\n",
      "Integer optimization begins...\n",
      "Long-step dual simplex will be used\n",
      "+    10: mip =     not found yet >=              -inf        (1; 0)\n",
      "+    10: >>>>>   1.895139014e+02 >=   1.895139014e+02   0.0% (1; 0)\n",
      "+    10: mip =   1.895139014e+02 >=     tree is empty   0.0% (0; 1)\n",
      "INTEGER OPTIMAL SOLUTION FOUND\n",
      "mode is cell:  True\n"
     ]
    },
    {
     "name": "stderr",
     "output_type": "stream",
     "text": [
      "[INFO][2022/08/02 02:02:09 pm] Loaded btrack: /home/dayn/miniconda3/envs/aero/lib/python3.9/site-packages/btrack/libs/libtracker.so\n",
      "[INFO][2022/08/02 02:02:09 pm] btrack (v0.4.5) library imported\n",
      "[INFO][2022/08/02 02:02:09 pm] Starting BayesianTracker session\n",
      "[INFO][2022/08/02 02:02:09 pm] Localizing objects from segmentation...\n",
      "[INFO][2022/08/02 02:02:09 pm] Objects are of type: <class 'dict'>\n",
      "[INFO][2022/08/02 02:02:09 pm] ...Found 109 objects in 10 frames.\n",
      "[INFO][2022/08/02 02:02:09 pm] Objects are of type: <class 'list'>\n",
      "[INFO][2022/08/02 02:02:09 pm] Starting tracking... \n",
      "[INFO][2022/08/02 02:02:09 pm] Tracking objects in frames 0 to 10 (of 10)...\n",
      "[INFO][2022/08/02 02:02:09 pm]  - Timing (Bayesian updates: 0.14ms, Linking: 0.13ms)\n",
      "[INFO][2022/08/02 02:02:09 pm]  - Probabilities (Link: 0.66890, Lost: 1.00000)\n",
      "[INFO][2022/08/02 02:02:09 pm] SUCCESS.\n",
      "[INFO][2022/08/02 02:02:09 pm]  - Found 60 tracks in 10 frames (in 0.0s)\n",
      "[INFO][2022/08/02 02:02:09 pm]  - Inserted 37 dummy objects to fill tracking gaps\n",
      "[INFO][2022/08/02 02:02:09 pm] Loading hypothesis model: cell_hypothesis\n",
      "[INFO][2022/08/02 02:02:09 pm] Calculating hypotheses (relax: True)...\n",
      "[INFO][2022/08/02 02:02:09 pm] Setting up constraints matrix for global optimisation...\n",
      "[INFO][2022/08/02 02:02:09 pm] Using GLPK options: {'tm_lim': 60000}...\n",
      "[INFO][2022/08/02 02:02:09 pm] Optimizing...\n",
      "[INFO][2022/08/02 02:02:09 pm] Optimization complete. (Solution: optimal)\n",
      "[INFO][2022/08/02 02:02:09 pm]  - Fates.FALSE_POSITIVE: 60 (of 60)\n",
      "[INFO][2022/08/02 02:02:09 pm]  - TOTAL: 60 hypotheses\n",
      "[INFO][2022/08/02 02:02:09 pm] Completed optimization with 60 tracks\n",
      "[INFO][2022/08/02 02:02:09 pm] Ending BayesianTracker session\n"
     ]
    },
    {
     "name": "stdout",
     "output_type": "stream",
     "text": [
      "GLPK Integer Optimizer 5.0\n",
      "240 rows, 60 columns, 120 non-zeros\n",
      "60 integer variables, all of which are binary\n",
      "Preprocessing...\n",
      "Objective value =   3.361774236e+02\n",
      "INTEGER OPTIMAL SOLUTION FOUND BY MIP PREPROCESSOR\n"
     ]
    },
    {
     "name": "stderr",
     "output_type": "stream",
     "text": [
      "[INFO][2022/08/02 02:02:52 pm] Loaded btrack: /home/dayn/miniconda3/envs/aero/lib/python3.9/site-packages/btrack/libs/libtracker.so\n",
      "[INFO][2022/08/02 02:02:52 pm] btrack (v0.4.5) library imported\n",
      "[INFO][2022/08/02 02:02:52 pm] Starting BayesianTracker session\n",
      "[INFO][2022/08/02 02:02:52 pm] Localizing objects from segmentation...\n",
      "[INFO][2022/08/02 02:02:52 pm] Objects are of type: <class 'dict'>\n",
      "[INFO][2022/08/02 02:02:52 pm] ...Found 109 objects in 10 frames.\n",
      "[INFO][2022/08/02 02:02:52 pm] Objects are of type: <class 'list'>\n",
      "[INFO][2022/08/02 02:02:52 pm] Starting tracking... \n",
      "[INFO][2022/08/02 02:02:52 pm] Tracking objects in frames 0 to 10 (of 10)...\n",
      "[INFO][2022/08/02 02:02:52 pm]  - Timing (Bayesian updates: 0.15ms, Linking: 0.13ms)\n",
      "[INFO][2022/08/02 02:02:52 pm]  - Probabilities (Link: 0.66890, Lost: 1.00000)\n",
      "[INFO][2022/08/02 02:02:52 pm] SUCCESS.\n",
      "[INFO][2022/08/02 02:02:52 pm]  - Found 60 tracks in 10 frames (in 0.0s)\n",
      "[INFO][2022/08/02 02:02:52 pm]  - Inserted 37 dummy objects to fill tracking gaps\n",
      "[INFO][2022/08/02 02:02:52 pm] Loading hypothesis model: cell_hypothesis\n",
      "[INFO][2022/08/02 02:02:52 pm] Calculating hypotheses (relax: True)...\n",
      "[INFO][2022/08/02 02:02:52 pm] Setting up constraints matrix for global optimisation...\n",
      "[INFO][2022/08/02 02:02:52 pm] Using GLPK options: {'tm_lim': 60000}...\n",
      "[INFO][2022/08/02 02:02:52 pm] Optimizing...\n",
      "[INFO][2022/08/02 02:02:52 pm] Optimization complete. (Solution: optimal)\n",
      "[INFO][2022/08/02 02:02:52 pm]  - Fates.FALSE_POSITIVE: 60 (of 60)\n",
      "[INFO][2022/08/02 02:02:52 pm]  - Fates.LINK: 0 (of 13)\n",
      "[INFO][2022/08/02 02:02:52 pm]  - Fates.TERMINATE_BORDER: 0 (of 6)\n",
      "[INFO][2022/08/02 02:02:52 pm]  - Fates.TERMINATE_BACK: 0 (of 34)\n",
      "[INFO][2022/08/02 02:02:52 pm]  - Fates.TERMINATE_LAZY: 0 (of 20)\n",
      "[INFO][2022/08/02 02:02:52 pm]  - TOTAL: 133 hypotheses\n",
      "[INFO][2022/08/02 02:02:52 pm] Completed optimization with 60 tracks\n",
      "[INFO][2022/08/02 02:02:52 pm] Ending BayesianTracker session\n"
     ]
    },
    {
     "name": "stdout",
     "output_type": "stream",
     "text": [
      "GLPK Integer Optimizer 5.0\n",
      "240 rows, 133 columns, 206 non-zeros\n",
      "133 integer variables, all of which are binary\n",
      "Preprocessing...\n",
      "Objective value =   3.361774236e+02\n",
      "INTEGER OPTIMAL SOLUTION FOUND BY MIP PREPROCESSOR\n"
     ]
    },
    {
     "name": "stderr",
     "output_type": "stream",
     "text": [
      "[INFO][2022/08/02 02:03:26 pm] Loaded btrack: /home/dayn/miniconda3/envs/aero/lib/python3.9/site-packages/btrack/libs/libtracker.so\n",
      "[INFO][2022/08/02 02:03:26 pm] btrack (v0.4.5) library imported\n",
      "[INFO][2022/08/02 02:03:26 pm] Starting BayesianTracker session\n",
      "[INFO][2022/08/02 02:03:26 pm] Localizing objects from segmentation...\n",
      "[INFO][2022/08/02 02:03:27 pm] Objects are of type: <class 'dict'>\n",
      "[INFO][2022/08/02 02:03:27 pm] ...Found 109 objects in 10 frames.\n",
      "[INFO][2022/08/02 02:03:27 pm] Objects are of type: <class 'list'>\n",
      "[INFO][2022/08/02 02:03:27 pm] Starting tracking... \n",
      "[INFO][2022/08/02 02:03:27 pm] Tracking objects in frames 0 to 10 (of 10)...\n",
      "[INFO][2022/08/02 02:03:27 pm]  - Timing (Bayesian updates: 0.19ms, Linking: 0.16ms)\n",
      "[INFO][2022/08/02 02:03:27 pm]  - Probabilities (Link: 0.66890, Lost: 1.00000)\n",
      "[INFO][2022/08/02 02:03:27 pm] SUCCESS.\n",
      "[INFO][2022/08/02 02:03:27 pm]  - Found 60 tracks in 10 frames (in 0.0s)\n",
      "[INFO][2022/08/02 02:03:27 pm]  - Inserted 37 dummy objects to fill tracking gaps\n",
      "[INFO][2022/08/02 02:03:27 pm] Loading hypothesis model: cell_hypothesis\n",
      "[INFO][2022/08/02 02:03:27 pm] Calculating hypotheses (relax: True)...\n",
      "[INFO][2022/08/02 02:03:27 pm] Setting up constraints matrix for global optimisation...\n",
      "[INFO][2022/08/02 02:03:27 pm] Using GLPK options: {'tm_lim': 60000}...\n",
      "[INFO][2022/08/02 02:03:27 pm] Optimizing...\n",
      "[INFO][2022/08/02 02:03:27 pm] Optimization complete. (Solution: optimal)\n",
      "[INFO][2022/08/02 02:03:27 pm]  - Fates.FALSE_POSITIVE: 60 (of 60)\n",
      "[INFO][2022/08/02 02:03:27 pm]  - Fates.LINK: 0 (of 13)\n",
      "[INFO][2022/08/02 02:03:27 pm]  - Fates.TERMINATE_BORDER: 0 (of 6)\n",
      "[INFO][2022/08/02 02:03:27 pm]  - Fates.TERMINATE_BACK: 0 (of 34)\n",
      "[INFO][2022/08/02 02:03:27 pm]  - Fates.TERMINATE_LAZY: 0 (of 20)\n",
      "[INFO][2022/08/02 02:03:27 pm]  - TOTAL: 133 hypotheses\n",
      "[INFO][2022/08/02 02:03:27 pm] Completed optimization with 60 tracks\n",
      "[INFO][2022/08/02 02:03:27 pm] Ending BayesianTracker session\n"
     ]
    },
    {
     "name": "stdout",
     "output_type": "stream",
     "text": [
      "GLPK Integer Optimizer 5.0\n",
      "240 rows, 133 columns, 206 non-zeros\n",
      "133 integer variables, all of which are binary\n",
      "Preprocessing...\n",
      "Objective value =   3.361774236e+02\n",
      "INTEGER OPTIMAL SOLUTION FOUND BY MIP PREPROCESSOR\n"
     ]
    },
    {
     "name": "stderr",
     "output_type": "stream",
     "text": [
      "[INFO][2022/08/02 02:04:42 pm] Loaded btrack: /home/dayn/miniconda3/envs/aero/lib/python3.9/site-packages/btrack/libs/libtracker.so\n",
      "[INFO][2022/08/02 02:04:42 pm] btrack (v0.4.5) library imported\n",
      "[INFO][2022/08/02 02:04:42 pm] Starting BayesianTracker session\n",
      "[INFO][2022/08/02 02:04:42 pm] Localizing objects from segmentation...\n",
      "[INFO][2022/08/02 02:04:43 pm] Objects are of type: <class 'dict'>\n",
      "[INFO][2022/08/02 02:04:43 pm] ...Found 109 objects in 10 frames.\n",
      "[INFO][2022/08/02 02:04:43 pm] Objects are of type: <class 'list'>\n",
      "[INFO][2022/08/02 02:04:43 pm] Starting tracking... \n",
      "[INFO][2022/08/02 02:04:43 pm] Tracking objects in frames 0 to 10 (of 10)...\n",
      "[INFO][2022/08/02 02:04:43 pm]  - Timing (Bayesian updates: 0.30ms, Linking: 0.23ms)\n",
      "[INFO][2022/08/02 02:04:43 pm]  - Probabilities (Link: 0.66890, Lost: 1.00000)\n",
      "[INFO][2022/08/02 02:04:43 pm] SUCCESS.\n",
      "[INFO][2022/08/02 02:04:43 pm]  - Found 60 tracks in 10 frames (in 0.0s)\n",
      "[INFO][2022/08/02 02:04:43 pm]  - Inserted 37 dummy objects to fill tracking gaps\n",
      "[INFO][2022/08/02 02:04:43 pm] Loading hypothesis model: cell_hypothesis\n",
      "[INFO][2022/08/02 02:04:43 pm] Calculating hypotheses (relax: True)...\n",
      "[INFO][2022/08/02 02:04:43 pm] Setting up constraints matrix for global optimisation...\n",
      "[INFO][2022/08/02 02:04:43 pm] Using GLPK options: {'tm_lim': 60000}...\n",
      "[INFO][2022/08/02 02:04:43 pm] Optimizing...\n",
      "[INFO][2022/08/02 02:04:43 pm] Optimization complete. (Solution: optimal)\n",
      "[INFO][2022/08/02 02:04:43 pm]  - Fates.FALSE_POSITIVE: 34 (of 60)\n",
      "[INFO][2022/08/02 02:04:43 pm]  - Fates.LINK: 5 (of 13)\n",
      "[INFO][2022/08/02 02:04:43 pm]  - Fates.INITIALIZE_BORDER: 2 (of 3)\n",
      "[INFO][2022/08/02 02:04:43 pm]  - Fates.INITIALIZE_FRONT: 16 (of 36)\n",
      "[INFO][2022/08/02 02:04:43 pm]  - Fates.INITIALIZE_LAZY: 3 (of 21)\n",
      "[INFO][2022/08/02 02:04:43 pm]  - Fates.TERMINATE_BORDER: 2 (of 6)\n",
      "[INFO][2022/08/02 02:04:43 pm]  - Fates.TERMINATE_BACK: 17 (of 34)\n",
      "[INFO][2022/08/02 02:04:43 pm]  - Fates.TERMINATE_LAZY: 2 (of 20)\n",
      "[INFO][2022/08/02 02:04:43 pm]  - TOTAL: 193 hypotheses\n",
      "[INFO][2022/08/02 02:04:43 pm] Completed optimization with 55 tracks\n",
      "[INFO][2022/08/02 02:04:43 pm] Ending BayesianTracker session\n"
     ]
    },
    {
     "name": "stdout",
     "output_type": "stream",
     "text": [
      "GLPK Integer Optimizer 5.0\n",
      "240 rows, 193 columns, 266 non-zeros\n",
      "193 integer variables, all of which are binary\n",
      "Preprocessing...\n",
      "120 rows, 193 columns, 266 non-zeros\n",
      "193 integer variables, all of which are binary\n",
      "Scaling...\n",
      " A: min|aij| =  1.000e+00  max|aij| =  1.000e+00  ratio =  1.000e+00\n",
      "Problem data seem to be well scaled\n",
      "Constructing initial basis...\n",
      "Size of triangular part is 120\n",
      "Solving LP relaxation...\n",
      "GLPK Simplex Optimizer 5.0\n",
      "120 rows, 193 columns, 266 non-zeros\n",
      "*     0: obj =   3.360028390e+02 inf =   0.000e+00 (51)\n",
      "*    53: obj =   1.822030041e+02 inf =   0.000e+00 (0)\n",
      "OPTIMAL LP SOLUTION FOUND\n",
      "Integer optimization begins...\n",
      "Long-step dual simplex will be used\n",
      "+    53: mip =     not found yet >=              -inf        (1; 0)\n",
      "+    53: >>>>>   1.822030041e+02 >=   1.822030041e+02   0.0% (1; 0)\n",
      "+    53: mip =   1.822030041e+02 >=     tree is empty   0.0% (0; 1)\n",
      "INTEGER OPTIMAL SOLUTION FOUND\n"
     ]
    }
   ],
   "source": [
    "masks"
   ]
  },
  {
   "cell_type": "code",
   "execution_count": 15,
   "id": "455190bb",
   "metadata": {},
   "outputs": [
    {
     "name": "stderr",
     "output_type": "stream",
     "text": [
      "/home/dayn/miniconda3/envs/aero/lib/python3.9/site-packages/napari_tools_menu/__init__.py:179: FutureWarning: Public access to Window.qt_viewer is deprecated and will be removed in\n",
      "v0.5.0. It is considered an \"implementation detail\" of the napari\n",
      "application, not part of the napari viewer model. If your use case\n",
      "requires access to qt_viewer, please open an issue to discuss.\n",
      "  self.tools_menu = ToolsMenu(self, self.qt_viewer.viewer)\n"
     ]
    },
    {
     "data": {
      "text/plain": [
       "<Labels layer 'masks' at 0x7f0c2ad235e0>"
      ]
     },
     "execution_count": 15,
     "metadata": {},
     "output_type": "execute_result"
    }
   ],
   "source": [
    "viewer = napari.Viewer()\n",
    "viewer.add_image(gfp, name=\"gfp\", \n",
    "                 #contrast_limits=[0,255],\n",
    "                 blending = 'additive', colormap = 'green')\n",
    "viewer.add_image(rfp, name=\"rfp\", \n",
    "                # contrast_limits=[0,55], \n",
    "                 blending = 'additive', colormap = 'magenta')\n",
    "viewer.add_labels(masks, name = 'masks')\n",
    "# viewer.add_tracks(view_tracks, name = 'tracks_filtered')"
   ]
  },
  {
   "cell_type": "code",
   "execution_count": 6,
   "id": "e348314f",
   "metadata": {
    "scrolled": false
   },
   "outputs": [
    {
     "name": "stderr",
     "output_type": "stream",
     "text": [
      "/home/dayn/miniconda3/envs/aero/lib/python3.9/site-packages/napari_tools_menu/__init__.py:179: FutureWarning: Public access to Window.qt_viewer is deprecated and will be removed in\n",
      "v0.5.0. It is considered an \"implementation detail\" of the napari\n",
      "application, not part of the napari viewer model. If your use case\n",
      "requires access to qt_viewer, please open an issue to discuss.\n",
      "  self.tools_menu = ToolsMenu(self, self.qt_viewer.viewer)\n",
      "[INFO][2022/08/02 12:04:52 pm] Loading configuration file: /home/dayn/.cache/btrack-examples/examples/cell_config.json\n"
     ]
    }
   ],
   "source": [
    "\"\"\"\n",
    "Show the btrack widget with example data\n",
    "=========================\n",
    "This example:\n",
    "- loads a sample segmentation and cell config\n",
    "- adds the segmentation to a napari viewer\n",
    "- loads the btrack plugin\n",
    "- opens the napari viewer\n",
    "\"\"\"\n",
    "# import napari\n",
    "# from btrack import datasets\n",
    "\n",
    "viewer = napari.Viewer()\n",
    "# napari.current_viewer()\n",
    "\n",
    "_, btrack_widget = viewer.window.add_plugin_dock_widget(\n",
    "    plugin_name=\"napari-btrack\", widget_name=\"Track\"\n",
    ")\n",
    "\n",
    "\n",
    "# segmentation = datasets.example_segmentation()\n",
    "# viewer.add_labels(segmentation)\n",
    "\n",
    "viewer.add_labels(masks)\n",
    "\n",
    "# napari takes the first image layer as default anyway here, but better to be explicit\n",
    "btrack_widget.segmentation.choices = viewer.layers\n",
    "#btrack_widget.segmentation.value = viewer.layers[\"segmentation\"]\n",
    "btrack_widget.segmentation.value = viewer.layers[\"masks\"]\n",
    "\n",
    "\n",
    "if __name__ == \"__main__\":\n",
    "    # The napari event loop needs to be run under here to allow the window\n",
    "    # to be spawned from a Python script\n",
    "    napari.run()"
   ]
  }
 ],
 "metadata": {
  "kernelspec": {
   "display_name": "aero",
   "language": "python",
   "name": "aero"
  },
  "language_info": {
   "codemirror_mode": {
    "name": "ipython",
    "version": 3
   },
   "file_extension": ".py",
   "mimetype": "text/x-python",
   "name": "python",
   "nbconvert_exporter": "python",
   "pygments_lexer": "ipython3",
   "version": "3.9.12"
  }
 },
 "nbformat": 4,
 "nbformat_minor": 5
}
