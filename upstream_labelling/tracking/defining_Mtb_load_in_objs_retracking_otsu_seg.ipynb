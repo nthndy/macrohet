{
 "cells": [
  {
   "cell_type": "markdown",
   "id": "d2e295e0",
   "metadata": {},
   "source": [
    "# Segment, localise and track\n",
    "\n",
    "\n",
    "Fixing a bug in the code that meant the intracellular mean intensity values weren't accurate due to the downscaling"
   ]
  },
  {
   "cell_type": "code",
   "execution_count": 7,
   "id": "988f1019",
   "metadata": {},
   "outputs": [
    {
     "name": "stdout",
     "output_type": "stream",
     "text": [
      "Using device: cuda\n",
      "\n",
      "NVIDIA RTX A6000\n",
      "Memory Usage:\n",
      "Allocated: 0.0 GB\n",
      "Cached:    0.1 GB\n"
     ]
    }
   ],
   "source": [
    "from macrohet import dataio, tile\n",
    "from macrohet.notify import send_sms\n",
    "import numpy as np\n",
    "from tqdm.auto import tqdm\n",
    "from cellpose import models\n",
    "import btrack \n",
    "import torch\n",
    "import os\n",
    "from skimage.filters import threshold_otsu\n",
    "import dask.array as da\n",
    "# setting device on GPU if available, else CPU\n",
    "device = torch.device('cuda' if torch.cuda.is_available() else 'cpu')\n",
    "print('Using device:', device)\n",
    "print()\n",
    "\n",
    "#Additional Info when using cuda\n",
    "if device.type == 'cuda':\n",
    "    print(torch.cuda.get_device_name(0))\n",
    "    print('Memory Usage:')\n",
    "    print('Allocated:', round(torch.cuda.memory_allocated(0)/1024**3,1), 'GB')\n",
    "    print('Cached:   ', round(torch.cuda.memory_reserved(0)/1024**3,1), 'GB')\n",
    "# defining cellpose model to use\n",
    "model = models.Cellpose(\n",
    "                        gpu=True, \n",
    "                        model_type='cyto', \n",
    "                        net_avg=True, \n",
    "                        device=torch.device('cuda')\n",
    "                        )"
   ]
  },
  {
   "cell_type": "markdown",
   "id": "76982865",
   "metadata": {},
   "source": [
    "### Define functions to tidy up main block of code"
   ]
  },
  {
   "cell_type": "code",
   "execution_count": 18,
   "id": "65275f8a",
   "metadata": {},
   "outputs": [],
   "source": [
    "def segment(frame, model = model, channels = [0,0], diameter = 325, min_size = 2500):\n",
    "    \n",
    "    masks, flows, styles, diams = model.eval(frame, \n",
    "                                             channels = channels, \n",
    "                                             diameter = diameter, \n",
    "                                             min_size = min_size, \n",
    "                                             )\n",
    "    return masks\n",
    "\n",
    "# define features to use for tracking \n",
    "features = [\n",
    "  \"area\",\n",
    "  \"major_axis_length\",\n",
    "  \"minor_axis_length\",\n",
    "  \"orientation\",\n",
    "  \"mean_intensity\",\n",
    "#     \"intensity_image\"\n",
    "    ]\n",
    "\n",
    "scale_factor = 1/5.04\n",
    "\n",
    "def localise(masks, intensity_image, properties=tuple(features), use_weighted_centroid = False):\n",
    "    \n",
    "    # localise objs in images\n",
    "    objects = btrack.utils.segmentation_to_objects(segmentation=masks,\n",
    "                                                   intensity_image=intensity_image, \n",
    "                                                   properties=properties,\n",
    "                                                   scale=(scale_factor,scale_factor),\n",
    "                                                   use_weighted_centroid=use_weighted_centroid, \n",
    "                                                   )\n",
    "                                                   \n",
    "    return objects\n",
    "\n",
    "# define config fn to use, using a prob_not_assign = 0.1\n",
    "config_fn = '/home/dayn/analysis/btrack/models/particle_config_pnassign.json'\n",
    "\n",
    "def track(objects, masks, config_fn, search_radius = 20):\n",
    "\n",
    "    # initialise a tracker session using a context manager\n",
    "    with btrack.BayesianTracker() as tracker:\n",
    "        # configure the tracker using a config file\n",
    "        tracker.configure(config_fn)\n",
    "        # set max search radius\n",
    "        tracker.max_search_radius = search_radius\n",
    "        # define tracking method\n",
    "        tracker.tracking_updates = [\"MOTION\", \"VISUAL\"]\n",
    "        # redefine features so that both channels are included in track measurements\n",
    "        tracker.features = list(objects[0].properties.keys())\n",
    "        # append the objects to be tracked\n",
    "        tracker.append(objects)\n",
    "        # set the tracking volume\n",
    "        tracker.volume=((0, masks.shape[-2]*scale_factor), (0, masks.shape[-1]*scale_factor))\n",
    "        # track them (in interactive mode)\n",
    "        tracker.track(step_size=25)\n",
    "        # generate hypotheses and run the global optimizer\n",
    "        tracker.optimize()\n",
    "        # store the tracks\n",
    "        tracks = tracker.tracks\n",
    "\n",
    "    return tracks\n",
    "\n",
    "def otsu_threshold_stack(images):\n",
    "    \"\"\"\n",
    "    Computes Otsu's threshold value and returns a binary segmentation for\n",
    "    each image in a time series of grayscale images.\n",
    "\n",
    "    Parameters:\n",
    "    -----------\n",
    "    images : ndarray\n",
    "        A 3D array of shape (n_images, height, width) containing a time series\n",
    "        of grayscale images.\n",
    "\n",
    "    Returns:\n",
    "    --------\n",
    "    ndarray\n",
    "        A boolean array of shape (n_images, height, width) containing the\n",
    "        binary segmentation for each image in the time series.\n",
    "    \"\"\"\n",
    "    segmentations = np.zeros(images.shape, dtype=bool)\n",
    "    for i, image in tqdm(enumerate(images), \n",
    "                         total=len(images), \n",
    "                         leave=False, \n",
    "                         desc='Otsu segmenting'):\n",
    "        loaded_image = image.compute().compute()\n",
    "        threshold = threshold_otsu(loaded_image)\n",
    "        segmentations[i] = loaded_image > threshold\n",
    "    return segmentations"
   ]
  },
  {
   "cell_type": "markdown",
   "id": "3751ef77",
   "metadata": {},
   "source": [
    "### Load experiment of choice\n",
    "\n",
    "The Opera Phenix is a high-throughput confocal microscope that acquires very large 5-dimensional (TCZXY) images over several fields of view in any one experiment. Therefore, a lazy-loading approach is chosen to mosaic, view and annotate these images. This approach depends upon Dask and DaskFusion. The first step is to load the main metadata file (typically called `Index.idx.xml` and located in the main `Images` directory) that contains the image filenames and associated TCXZY information used to organise the images."
   ]
  },
  {
   "cell_type": "code",
   "execution_count": 9,
   "id": "72850cd0",
   "metadata": {},
   "outputs": [],
   "source": [
    "base_dir = '/mnt/DATA/macrohet/'\n",
    "# base_dir = '/Volumes/lab-gutierrezm/home/users/dayn/macrohet_nemo/'"
   ]
  },
  {
   "cell_type": "code",
   "execution_count": 10,
   "id": "8d20db67",
   "metadata": {},
   "outputs": [
    {
     "name": "stdout",
     "output_type": "stream",
     "text": [
      "Reading metadata XML file...\n"
     ]
    },
    {
     "data": {
      "application/vnd.jupyter.widget-view+json": {
       "model_id": "86d2d57c3a14474786b4eb885378d65b",
       "version_major": 2,
       "version_minor": 0
      },
      "text/plain": [
       "Extracting HarmonyV5 metadata:   0%|          | 0/113400 [00:00<?, ?it/s]"
      ]
     },
     "metadata": {},
     "output_type": "display_data"
    },
    {
     "name": "stdout",
     "output_type": "stream",
     "text": [
      "Extracting metadata complete!\n"
     ]
    },
    {
     "data": {
      "text/html": [
       "<div>\n",
       "<style scoped>\n",
       "    .dataframe tbody tr th:only-of-type {\n",
       "        vertical-align: middle;\n",
       "    }\n",
       "\n",
       "    .dataframe tbody tr th {\n",
       "        vertical-align: top;\n",
       "    }\n",
       "\n",
       "    .dataframe thead th {\n",
       "        text-align: right;\n",
       "    }\n",
       "</style>\n",
       "<table border=\"1\" class=\"dataframe\">\n",
       "  <thead>\n",
       "    <tr style=\"text-align: right;\">\n",
       "      <th></th>\n",
       "      <th>id</th>\n",
       "      <th>State</th>\n",
       "      <th>URL</th>\n",
       "      <th>Row</th>\n",
       "      <th>Col</th>\n",
       "      <th>FieldID</th>\n",
       "      <th>PlaneID</th>\n",
       "      <th>TimepointID</th>\n",
       "      <th>ChannelID</th>\n",
       "      <th>FlimID</th>\n",
       "      <th>...</th>\n",
       "      <th>PositionZ</th>\n",
       "      <th>AbsPositionZ</th>\n",
       "      <th>MeasurementTimeOffset</th>\n",
       "      <th>AbsTime</th>\n",
       "      <th>MainExcitationWavelength</th>\n",
       "      <th>MainEmissionWavelength</th>\n",
       "      <th>ObjectiveMagnification</th>\n",
       "      <th>ObjectiveNA</th>\n",
       "      <th>ExposureTime</th>\n",
       "      <th>OrientationMatrix</th>\n",
       "    </tr>\n",
       "  </thead>\n",
       "  <tbody>\n",
       "    <tr>\n",
       "      <th>0</th>\n",
       "      <td>0303K1F1P1R1</td>\n",
       "      <td>Ok</td>\n",
       "      <td>r03c03f01p01-ch1sk1fk1fl1.tiff</td>\n",
       "      <td>3</td>\n",
       "      <td>3</td>\n",
       "      <td>1</td>\n",
       "      <td>1</td>\n",
       "      <td>0</td>\n",
       "      <td>1</td>\n",
       "      <td>1</td>\n",
       "      <td>...</td>\n",
       "      <td>0</td>\n",
       "      <td>0.135583505</td>\n",
       "      <td>0</td>\n",
       "      <td>2021-04-16T19:09:33.84+01:00</td>\n",
       "      <td>488</td>\n",
       "      <td>522</td>\n",
       "      <td>40</td>\n",
       "      <td>1.1</td>\n",
       "      <td>0.1</td>\n",
       "      <td>[[0.990860,0,0,-15.9],[0,-0.990860,0,-44.8],[0...</td>\n",
       "    </tr>\n",
       "    <tr>\n",
       "      <th>1</th>\n",
       "      <td>0303K1F1P1R2</td>\n",
       "      <td>Ok</td>\n",
       "      <td>r03c03f01p01-ch2sk1fk1fl1.tiff</td>\n",
       "      <td>3</td>\n",
       "      <td>3</td>\n",
       "      <td>1</td>\n",
       "      <td>1</td>\n",
       "      <td>0</td>\n",
       "      <td>2</td>\n",
       "      <td>1</td>\n",
       "      <td>...</td>\n",
       "      <td>0</td>\n",
       "      <td>0.135583505</td>\n",
       "      <td>0</td>\n",
       "      <td>2021-04-16T19:09:33.84+01:00</td>\n",
       "      <td>640</td>\n",
       "      <td>706</td>\n",
       "      <td>40</td>\n",
       "      <td>1.1</td>\n",
       "      <td>0.2</td>\n",
       "      <td>[[0.990860,0,0,-15.9],[0,-0.990860,0,-44.8],[0...</td>\n",
       "    </tr>\n",
       "    <tr>\n",
       "      <th>2</th>\n",
       "      <td>0303K1F1P2R1</td>\n",
       "      <td>Ok</td>\n",
       "      <td>r03c03f01p02-ch1sk1fk1fl1.tiff</td>\n",
       "      <td>3</td>\n",
       "      <td>3</td>\n",
       "      <td>1</td>\n",
       "      <td>2</td>\n",
       "      <td>0</td>\n",
       "      <td>1</td>\n",
       "      <td>1</td>\n",
       "      <td>...</td>\n",
       "      <td>2E-06</td>\n",
       "      <td>0.135585502</td>\n",
       "      <td>0</td>\n",
       "      <td>2021-04-16T19:09:34.12+01:00</td>\n",
       "      <td>488</td>\n",
       "      <td>522</td>\n",
       "      <td>40</td>\n",
       "      <td>1.1</td>\n",
       "      <td>0.1</td>\n",
       "      <td>[[0.990860,0,0,-15.9],[0,-0.990860,0,-44.8],[0...</td>\n",
       "    </tr>\n",
       "    <tr>\n",
       "      <th>3</th>\n",
       "      <td>0303K1F1P2R2</td>\n",
       "      <td>Ok</td>\n",
       "      <td>r03c03f01p02-ch2sk1fk1fl1.tiff</td>\n",
       "      <td>3</td>\n",
       "      <td>3</td>\n",
       "      <td>1</td>\n",
       "      <td>2</td>\n",
       "      <td>0</td>\n",
       "      <td>2</td>\n",
       "      <td>1</td>\n",
       "      <td>...</td>\n",
       "      <td>2E-06</td>\n",
       "      <td>0.135585502</td>\n",
       "      <td>0</td>\n",
       "      <td>2021-04-16T19:09:34.12+01:00</td>\n",
       "      <td>640</td>\n",
       "      <td>706</td>\n",
       "      <td>40</td>\n",
       "      <td>1.1</td>\n",
       "      <td>0.2</td>\n",
       "      <td>[[0.990860,0,0,-15.9],[0,-0.990860,0,-44.8],[0...</td>\n",
       "    </tr>\n",
       "    <tr>\n",
       "      <th>4</th>\n",
       "      <td>0303K1F1P3R1</td>\n",
       "      <td>Ok</td>\n",
       "      <td>r03c03f01p03-ch1sk1fk1fl1.tiff</td>\n",
       "      <td>3</td>\n",
       "      <td>3</td>\n",
       "      <td>1</td>\n",
       "      <td>3</td>\n",
       "      <td>0</td>\n",
       "      <td>1</td>\n",
       "      <td>1</td>\n",
       "      <td>...</td>\n",
       "      <td>4E-06</td>\n",
       "      <td>0.135587499</td>\n",
       "      <td>0</td>\n",
       "      <td>2021-04-16T19:09:34.4+01:00</td>\n",
       "      <td>488</td>\n",
       "      <td>522</td>\n",
       "      <td>40</td>\n",
       "      <td>1.1</td>\n",
       "      <td>0.1</td>\n",
       "      <td>[[0.990860,0,0,-15.9],[0,-0.990860,0,-44.8],[0...</td>\n",
       "    </tr>\n",
       "    <tr>\n",
       "      <th>...</th>\n",
       "      <td>...</td>\n",
       "      <td>...</td>\n",
       "      <td>...</td>\n",
       "      <td>...</td>\n",
       "      <td>...</td>\n",
       "      <td>...</td>\n",
       "      <td>...</td>\n",
       "      <td>...</td>\n",
       "      <td>...</td>\n",
       "      <td>...</td>\n",
       "      <td>...</td>\n",
       "      <td>...</td>\n",
       "      <td>...</td>\n",
       "      <td>...</td>\n",
       "      <td>...</td>\n",
       "      <td>...</td>\n",
       "      <td>...</td>\n",
       "      <td>...</td>\n",
       "      <td>...</td>\n",
       "      <td>...</td>\n",
       "      <td>...</td>\n",
       "    </tr>\n",
       "    <tr>\n",
       "      <th>113395</th>\n",
       "      <td>0609K75F9P1R2</td>\n",
       "      <td>Ok</td>\n",
       "      <td>r06c09f09p01-ch2sk75fk1fl1.tiff</td>\n",
       "      <td>6</td>\n",
       "      <td>9</td>\n",
       "      <td>9</td>\n",
       "      <td>1</td>\n",
       "      <td>74</td>\n",
       "      <td>2</td>\n",
       "      <td>1</td>\n",
       "      <td>...</td>\n",
       "      <td>0</td>\n",
       "      <td>0.135533601</td>\n",
       "      <td>266399.61</td>\n",
       "      <td>2021-04-19T21:14:19.477+01:00</td>\n",
       "      <td>640</td>\n",
       "      <td>706</td>\n",
       "      <td>40</td>\n",
       "      <td>1.1</td>\n",
       "      <td>0.2</td>\n",
       "      <td>[[0.990860,0,0,-15.9],[0,-0.990860,0,-44.8],[0...</td>\n",
       "    </tr>\n",
       "    <tr>\n",
       "      <th>113396</th>\n",
       "      <td>0609K75F9P2R1</td>\n",
       "      <td>Ok</td>\n",
       "      <td>r06c09f09p02-ch1sk75fk1fl1.tiff</td>\n",
       "      <td>6</td>\n",
       "      <td>9</td>\n",
       "      <td>9</td>\n",
       "      <td>2</td>\n",
       "      <td>74</td>\n",
       "      <td>1</td>\n",
       "      <td>1</td>\n",
       "      <td>...</td>\n",
       "      <td>2E-06</td>\n",
       "      <td>0.135535598</td>\n",
       "      <td>266399.61</td>\n",
       "      <td>2021-04-19T21:14:19.757+01:00</td>\n",
       "      <td>488</td>\n",
       "      <td>522</td>\n",
       "      <td>40</td>\n",
       "      <td>1.1</td>\n",
       "      <td>0.1</td>\n",
       "      <td>[[0.990860,0,0,-15.9],[0,-0.990860,0,-44.8],[0...</td>\n",
       "    </tr>\n",
       "    <tr>\n",
       "      <th>113397</th>\n",
       "      <td>0609K75F9P2R2</td>\n",
       "      <td>Ok</td>\n",
       "      <td>r06c09f09p02-ch2sk75fk1fl1.tiff</td>\n",
       "      <td>6</td>\n",
       "      <td>9</td>\n",
       "      <td>9</td>\n",
       "      <td>2</td>\n",
       "      <td>74</td>\n",
       "      <td>2</td>\n",
       "      <td>1</td>\n",
       "      <td>...</td>\n",
       "      <td>2E-06</td>\n",
       "      <td>0.135535598</td>\n",
       "      <td>266399.61</td>\n",
       "      <td>2021-04-19T21:14:19.757+01:00</td>\n",
       "      <td>640</td>\n",
       "      <td>706</td>\n",
       "      <td>40</td>\n",
       "      <td>1.1</td>\n",
       "      <td>0.2</td>\n",
       "      <td>[[0.990860,0,0,-15.9],[0,-0.990860,0,-44.8],[0...</td>\n",
       "    </tr>\n",
       "    <tr>\n",
       "      <th>113398</th>\n",
       "      <td>0609K75F9P3R1</td>\n",
       "      <td>Ok</td>\n",
       "      <td>r06c09f09p03-ch1sk75fk1fl1.tiff</td>\n",
       "      <td>6</td>\n",
       "      <td>9</td>\n",
       "      <td>9</td>\n",
       "      <td>3</td>\n",
       "      <td>74</td>\n",
       "      <td>1</td>\n",
       "      <td>1</td>\n",
       "      <td>...</td>\n",
       "      <td>4E-06</td>\n",
       "      <td>0.135537595</td>\n",
       "      <td>266399.61</td>\n",
       "      <td>2021-04-19T21:14:20.037+01:00</td>\n",
       "      <td>488</td>\n",
       "      <td>522</td>\n",
       "      <td>40</td>\n",
       "      <td>1.1</td>\n",
       "      <td>0.1</td>\n",
       "      <td>[[0.990860,0,0,-15.9],[0,-0.990860,0,-44.8],[0...</td>\n",
       "    </tr>\n",
       "    <tr>\n",
       "      <th>113399</th>\n",
       "      <td>0609K75F9P3R2</td>\n",
       "      <td>Ok</td>\n",
       "      <td>r06c09f09p03-ch2sk75fk1fl1.tiff</td>\n",
       "      <td>6</td>\n",
       "      <td>9</td>\n",
       "      <td>9</td>\n",
       "      <td>3</td>\n",
       "      <td>74</td>\n",
       "      <td>2</td>\n",
       "      <td>1</td>\n",
       "      <td>...</td>\n",
       "      <td>4E-06</td>\n",
       "      <td>0.135537595</td>\n",
       "      <td>266399.61</td>\n",
       "      <td>2021-04-19T21:14:20.037+01:00</td>\n",
       "      <td>640</td>\n",
       "      <td>706</td>\n",
       "      <td>40</td>\n",
       "      <td>1.1</td>\n",
       "      <td>0.2</td>\n",
       "      <td>[[0.990860,0,0,-15.9],[0,-0.990860,0,-44.8],[0...</td>\n",
       "    </tr>\n",
       "  </tbody>\n",
       "</table>\n",
       "<p>113400 rows × 35 columns</p>\n",
       "</div>"
      ],
      "text/plain": [
       "                   id State                              URL Row Col FieldID  \\\n",
       "0        0303K1F1P1R1    Ok   r03c03f01p01-ch1sk1fk1fl1.tiff   3   3       1   \n",
       "1        0303K1F1P1R2    Ok   r03c03f01p01-ch2sk1fk1fl1.tiff   3   3       1   \n",
       "2        0303K1F1P2R1    Ok   r03c03f01p02-ch1sk1fk1fl1.tiff   3   3       1   \n",
       "3        0303K1F1P2R2    Ok   r03c03f01p02-ch2sk1fk1fl1.tiff   3   3       1   \n",
       "4        0303K1F1P3R1    Ok   r03c03f01p03-ch1sk1fk1fl1.tiff   3   3       1   \n",
       "...               ...   ...                              ...  ..  ..     ...   \n",
       "113395  0609K75F9P1R2    Ok  r06c09f09p01-ch2sk75fk1fl1.tiff   6   9       9   \n",
       "113396  0609K75F9P2R1    Ok  r06c09f09p02-ch1sk75fk1fl1.tiff   6   9       9   \n",
       "113397  0609K75F9P2R2    Ok  r06c09f09p02-ch2sk75fk1fl1.tiff   6   9       9   \n",
       "113398  0609K75F9P3R1    Ok  r06c09f09p03-ch1sk75fk1fl1.tiff   6   9       9   \n",
       "113399  0609K75F9P3R2    Ok  r06c09f09p03-ch2sk75fk1fl1.tiff   6   9       9   \n",
       "\n",
       "       PlaneID TimepointID ChannelID FlimID  ... PositionZ AbsPositionZ  \\\n",
       "0            1           0         1      1  ...         0  0.135583505   \n",
       "1            1           0         2      1  ...         0  0.135583505   \n",
       "2            2           0         1      1  ...     2E-06  0.135585502   \n",
       "3            2           0         2      1  ...     2E-06  0.135585502   \n",
       "4            3           0         1      1  ...     4E-06  0.135587499   \n",
       "...        ...         ...       ...    ...  ...       ...          ...   \n",
       "113395       1          74         2      1  ...         0  0.135533601   \n",
       "113396       2          74         1      1  ...     2E-06  0.135535598   \n",
       "113397       2          74         2      1  ...     2E-06  0.135535598   \n",
       "113398       3          74         1      1  ...     4E-06  0.135537595   \n",
       "113399       3          74         2      1  ...     4E-06  0.135537595   \n",
       "\n",
       "       MeasurementTimeOffset                        AbsTime  \\\n",
       "0                          0   2021-04-16T19:09:33.84+01:00   \n",
       "1                          0   2021-04-16T19:09:33.84+01:00   \n",
       "2                          0   2021-04-16T19:09:34.12+01:00   \n",
       "3                          0   2021-04-16T19:09:34.12+01:00   \n",
       "4                          0    2021-04-16T19:09:34.4+01:00   \n",
       "...                      ...                            ...   \n",
       "113395             266399.61  2021-04-19T21:14:19.477+01:00   \n",
       "113396             266399.61  2021-04-19T21:14:19.757+01:00   \n",
       "113397             266399.61  2021-04-19T21:14:19.757+01:00   \n",
       "113398             266399.61  2021-04-19T21:14:20.037+01:00   \n",
       "113399             266399.61  2021-04-19T21:14:20.037+01:00   \n",
       "\n",
       "       MainExcitationWavelength MainEmissionWavelength ObjectiveMagnification  \\\n",
       "0                           488                    522                     40   \n",
       "1                           640                    706                     40   \n",
       "2                           488                    522                     40   \n",
       "3                           640                    706                     40   \n",
       "4                           488                    522                     40   \n",
       "...                         ...                    ...                    ...   \n",
       "113395                      640                    706                     40   \n",
       "113396                      488                    522                     40   \n",
       "113397                      640                    706                     40   \n",
       "113398                      488                    522                     40   \n",
       "113399                      640                    706                     40   \n",
       "\n",
       "       ObjectiveNA ExposureTime  \\\n",
       "0              1.1          0.1   \n",
       "1              1.1          0.2   \n",
       "2              1.1          0.1   \n",
       "3              1.1          0.2   \n",
       "4              1.1          0.1   \n",
       "...            ...          ...   \n",
       "113395         1.1          0.2   \n",
       "113396         1.1          0.1   \n",
       "113397         1.1          0.2   \n",
       "113398         1.1          0.1   \n",
       "113399         1.1          0.2   \n",
       "\n",
       "                                        OrientationMatrix  \n",
       "0       [[0.990860,0,0,-15.9],[0,-0.990860,0,-44.8],[0...  \n",
       "1       [[0.990860,0,0,-15.9],[0,-0.990860,0,-44.8],[0...  \n",
       "2       [[0.990860,0,0,-15.9],[0,-0.990860,0,-44.8],[0...  \n",
       "3       [[0.990860,0,0,-15.9],[0,-0.990860,0,-44.8],[0...  \n",
       "4       [[0.990860,0,0,-15.9],[0,-0.990860,0,-44.8],[0...  \n",
       "...                                                   ...  \n",
       "113395  [[0.990860,0,0,-15.9],[0,-0.990860,0,-44.8],[0...  \n",
       "113396  [[0.990860,0,0,-15.9],[0,-0.990860,0,-44.8],[0...  \n",
       "113397  [[0.990860,0,0,-15.9],[0,-0.990860,0,-44.8],[0...  \n",
       "113398  [[0.990860,0,0,-15.9],[0,-0.990860,0,-44.8],[0...  \n",
       "113399  [[0.990860,0,0,-15.9],[0,-0.990860,0,-44.8],[0...  \n",
       "\n",
       "[113400 rows x 35 columns]"
      ]
     },
     "execution_count": 10,
     "metadata": {},
     "output_type": "execute_result"
    }
   ],
   "source": [
    "metadata_fn = os.path.join(base_dir, 'macrohet_images/Index.idx.xml')\n",
    "metadata = dataio.read_harmony_metadata(metadata_fn)  \n",
    "metadata"
   ]
  },
  {
   "cell_type": "markdown",
   "id": "e739b419",
   "metadata": {},
   "source": [
    "### View assay layout and mask information (optional)\n",
    "\n",
    "The Opera Phenix acquires many time lapse series from a range of positions. The first step is to inspect the image metadata, presented in the form of an `Assaylayout/experiment_ID.xml` file, to show which positions correspond to which experimental assays."
   ]
  },
  {
   "cell_type": "code",
   "execution_count": 11,
   "id": "19c540d8",
   "metadata": {
    "scrolled": true
   },
   "outputs": [
    {
     "name": "stdout",
     "output_type": "stream",
     "text": [
      "Reading metadata XML file...\n",
      "Extracting metadata complete!\n"
     ]
    },
    {
     "data": {
      "text/html": [
       "<div>\n",
       "<style scoped>\n",
       "    .dataframe tbody tr th:only-of-type {\n",
       "        vertical-align: middle;\n",
       "    }\n",
       "\n",
       "    .dataframe tbody tr th {\n",
       "        vertical-align: top;\n",
       "    }\n",
       "\n",
       "    .dataframe thead th {\n",
       "        text-align: right;\n",
       "    }\n",
       "</style>\n",
       "<table border=\"1\" class=\"dataframe\">\n",
       "  <thead>\n",
       "    <tr style=\"text-align: right;\">\n",
       "      <th></th>\n",
       "      <th></th>\n",
       "      <th>Strain</th>\n",
       "      <th>Compound</th>\n",
       "      <th>Concentration</th>\n",
       "      <th>ConcentrationEC</th>\n",
       "    </tr>\n",
       "  </thead>\n",
       "  <tbody>\n",
       "    <tr>\n",
       "      <th rowspan=\"6\" valign=\"top\">3</th>\n",
       "      <th>4</th>\n",
       "      <td>RD1</td>\n",
       "      <td>CTRL</td>\n",
       "      <td>0</td>\n",
       "      <td>EC0</td>\n",
       "    </tr>\n",
       "    <tr>\n",
       "      <th>5</th>\n",
       "      <td>WT</td>\n",
       "      <td>CTRL</td>\n",
       "      <td>0</td>\n",
       "      <td>EC0</td>\n",
       "    </tr>\n",
       "    <tr>\n",
       "      <th>6</th>\n",
       "      <td>WT</td>\n",
       "      <td>PZA</td>\n",
       "      <td>60</td>\n",
       "      <td>EC50</td>\n",
       "    </tr>\n",
       "    <tr>\n",
       "      <th>7</th>\n",
       "      <td>WT</td>\n",
       "      <td>RIF</td>\n",
       "      <td>0.1</td>\n",
       "      <td>EC50</td>\n",
       "    </tr>\n",
       "    <tr>\n",
       "      <th>8</th>\n",
       "      <td>WT</td>\n",
       "      <td>INH</td>\n",
       "      <td>0.04</td>\n",
       "      <td>EC50</td>\n",
       "    </tr>\n",
       "    <tr>\n",
       "      <th>9</th>\n",
       "      <td>WT</td>\n",
       "      <td>BDQ</td>\n",
       "      <td>0.02</td>\n",
       "      <td>EC50</td>\n",
       "    </tr>\n",
       "    <tr>\n",
       "      <th rowspan=\"6\" valign=\"top\">4</th>\n",
       "      <th>4</th>\n",
       "      <td>RD1</td>\n",
       "      <td>CTRL</td>\n",
       "      <td>0</td>\n",
       "      <td>EC0</td>\n",
       "    </tr>\n",
       "    <tr>\n",
       "      <th>5</th>\n",
       "      <td>WT</td>\n",
       "      <td>CTRL</td>\n",
       "      <td>0</td>\n",
       "      <td>EC0</td>\n",
       "    </tr>\n",
       "    <tr>\n",
       "      <th>6</th>\n",
       "      <td>WT</td>\n",
       "      <td>PZA</td>\n",
       "      <td>60</td>\n",
       "      <td>EC50</td>\n",
       "    </tr>\n",
       "    <tr>\n",
       "      <th>7</th>\n",
       "      <td>WT</td>\n",
       "      <td>RIF</td>\n",
       "      <td>0.1</td>\n",
       "      <td>EC50</td>\n",
       "    </tr>\n",
       "    <tr>\n",
       "      <th>8</th>\n",
       "      <td>WT</td>\n",
       "      <td>INH</td>\n",
       "      <td>0.04</td>\n",
       "      <td>EC50</td>\n",
       "    </tr>\n",
       "    <tr>\n",
       "      <th>9</th>\n",
       "      <td>WT</td>\n",
       "      <td>BDQ</td>\n",
       "      <td>0.02</td>\n",
       "      <td>EC50</td>\n",
       "    </tr>\n",
       "    <tr>\n",
       "      <th rowspan=\"6\" valign=\"top\">5</th>\n",
       "      <th>4</th>\n",
       "      <td>RD1</td>\n",
       "      <td>CTRL</td>\n",
       "      <td>0</td>\n",
       "      <td>EC0</td>\n",
       "    </tr>\n",
       "    <tr>\n",
       "      <th>5</th>\n",
       "      <td>WT</td>\n",
       "      <td>CTRL</td>\n",
       "      <td>0</td>\n",
       "      <td>EC0</td>\n",
       "    </tr>\n",
       "    <tr>\n",
       "      <th>6</th>\n",
       "      <td>WT</td>\n",
       "      <td>PZA</td>\n",
       "      <td>400</td>\n",
       "      <td>EC99</td>\n",
       "    </tr>\n",
       "    <tr>\n",
       "      <th>7</th>\n",
       "      <td>WT</td>\n",
       "      <td>RIF</td>\n",
       "      <td>2</td>\n",
       "      <td>EC99</td>\n",
       "    </tr>\n",
       "    <tr>\n",
       "      <th>8</th>\n",
       "      <td>WT</td>\n",
       "      <td>INH</td>\n",
       "      <td>2</td>\n",
       "      <td>EC99</td>\n",
       "    </tr>\n",
       "    <tr>\n",
       "      <th>9</th>\n",
       "      <td>WT</td>\n",
       "      <td>BDQ</td>\n",
       "      <td>2.5</td>\n",
       "      <td>EC99</td>\n",
       "    </tr>\n",
       "    <tr>\n",
       "      <th rowspan=\"6\" valign=\"top\">6</th>\n",
       "      <th>4</th>\n",
       "      <td>RD1</td>\n",
       "      <td>CTRL</td>\n",
       "      <td>0</td>\n",
       "      <td>EC0</td>\n",
       "    </tr>\n",
       "    <tr>\n",
       "      <th>5</th>\n",
       "      <td>WT</td>\n",
       "      <td>CTRL</td>\n",
       "      <td>0</td>\n",
       "      <td>EC0</td>\n",
       "    </tr>\n",
       "    <tr>\n",
       "      <th>6</th>\n",
       "      <td>WT</td>\n",
       "      <td>PZA</td>\n",
       "      <td>400</td>\n",
       "      <td>EC99</td>\n",
       "    </tr>\n",
       "    <tr>\n",
       "      <th>7</th>\n",
       "      <td>WT</td>\n",
       "      <td>RIF</td>\n",
       "      <td>2</td>\n",
       "      <td>EC99</td>\n",
       "    </tr>\n",
       "    <tr>\n",
       "      <th>8</th>\n",
       "      <td>WT</td>\n",
       "      <td>INH</td>\n",
       "      <td>2</td>\n",
       "      <td>EC99</td>\n",
       "    </tr>\n",
       "    <tr>\n",
       "      <th>9</th>\n",
       "      <td>WT</td>\n",
       "      <td>BDQ</td>\n",
       "      <td>2.5</td>\n",
       "      <td>EC99</td>\n",
       "    </tr>\n",
       "  </tbody>\n",
       "</table>\n",
       "</div>"
      ],
      "text/plain": [
       "    Strain Compound Concentration ConcentrationEC\n",
       "3 4    RD1     CTRL             0             EC0\n",
       "  5     WT     CTRL             0             EC0\n",
       "  6     WT      PZA            60            EC50\n",
       "  7     WT      RIF           0.1            EC50\n",
       "  8     WT      INH          0.04            EC50\n",
       "  9     WT      BDQ          0.02            EC50\n",
       "4 4    RD1     CTRL             0             EC0\n",
       "  5     WT     CTRL             0             EC0\n",
       "  6     WT      PZA            60            EC50\n",
       "  7     WT      RIF           0.1            EC50\n",
       "  8     WT      INH          0.04            EC50\n",
       "  9     WT      BDQ          0.02            EC50\n",
       "5 4    RD1     CTRL             0             EC0\n",
       "  5     WT     CTRL             0             EC0\n",
       "  6     WT      PZA           400            EC99\n",
       "  7     WT      RIF             2            EC99\n",
       "  8     WT      INH             2            EC99\n",
       "  9     WT      BDQ           2.5            EC99\n",
       "6 4    RD1     CTRL             0             EC0\n",
       "  5     WT     CTRL             0             EC0\n",
       "  6     WT      PZA           400            EC99\n",
       "  7     WT      RIF             2            EC99\n",
       "  8     WT      INH             2            EC99\n",
       "  9     WT      BDQ           2.5            EC99"
      ]
     },
     "execution_count": 11,
     "metadata": {},
     "output_type": "execute_result"
    }
   ],
   "source": [
    "metadata_path = os.path.join(base_dir, 'macrohet_images/Assaylayout/20210602_Live_cell_IPSDMGFP_ATB.xml')\n",
    "assay_layout = dataio.read_harmony_metadata(metadata_path, assay_layout=True,)# mask_exist=True,  image_dir = image_dir, image_metadata = metadata)\n",
    "assay_layout"
   ]
  },
  {
   "cell_type": "markdown",
   "id": "45221981",
   "metadata": {},
   "source": [
    "# Segment, localise and track"
   ]
  },
  {
   "cell_type": "code",
   "execution_count": 12,
   "id": "5af8a8dd",
   "metadata": {},
   "outputs": [],
   "source": [
    "image_dir = os.path.join(base_dir, 'macrohet_images/Images')"
   ]
  },
  {
   "cell_type": "code",
   "execution_count": 19,
   "id": "446e97f4",
   "metadata": {
    "scrolled": true
   },
   "outputs": [
    {
     "data": {
      "application/vnd.jupyter.widget-view+json": {
       "model_id": "f04664728f944da0ab396694a17ef506",
       "version_major": 2,
       "version_minor": 0
      },
      "text/plain": [
       "Progress through positions:   0%|          | 0/24 [00:00<?, ?it/s]"
      ]
     },
     "metadata": {},
     "output_type": "display_data"
    },
    {
     "name": "stderr",
     "output_type": "stream",
     "text": [
      "[INFO][2023/05/04 11:37:17 AM] Opening HDF file: /mnt/DATA/macrohet/labels/full_localisation/(3, 5)_objs_masks_tracks.h5...\n",
      "[INFO][2023/05/04 11:37:36 AM] Loading segmentation (75, 6048, 6048)\n",
      "[INFO][2023/05/04 11:37:36 AM] Closing HDF file: /mnt/DATA/macrohet/labels/full_localisation/(3, 5)_objs_masks_tracks.h5\n"
     ]
    },
    {
     "data": {
      "application/vnd.jupyter.widget-view+json": {
       "model_id": "",
       "version_major": 2,
       "version_minor": 0
      },
      "text/plain": [
       "Otsu segmenting:   0%|          | 0/75 [00:00<?, ?it/s]"
      ]
     },
     "metadata": {},
     "output_type": "display_data"
    },
    {
     "name": "stderr",
     "output_type": "stream",
     "text": [
      "[INFO][2023/05/04 11:45:08 AM] Localizing objects from segmentation...\n",
      "100%|█████████████████████████████████████████████████████████████████████| 75/75 [17:32<00:00, 14.04s/it]\n",
      "[INFO][2023/05/04 12:02:41 PM] Objects are of type: <class 'dict'>\n",
      "[INFO][2023/05/04 12:02:41 PM] ...Found 42674 objects in 75 frames.\n",
      "[INFO][2023/05/04 12:02:41 PM] Loaded btrack: /home/dayn/analysis/btrack/btrack/libs/libtracker.so\n",
      "[INFO][2023/05/04 12:02:41 PM] Starting BayesianTracker session\n",
      "[INFO][2023/05/04 12:02:41 PM] Loading configuration file: /home/dayn/analysis/btrack/models/particle_config_pnassign.json\n",
      "[INFO][2023/05/04 12:02:41 PM] Objects are of type: <class 'list'>\n",
      "[INFO][2023/05/04 12:03:24 PM] Starting tracking... \n",
      "[INFO][2023/05/04 12:03:24 PM] Update using: ['VISUAL', 'MOTION']\n",
      "[INFO][2023/05/04 12:03:24 PM] Tracking objects in frames 0 to 24 (of 75)...\n",
      "[INFO][2023/05/04 12:03:29 PM]  - Timing (Bayesian updates: 52.42ms, Linking: 3.31ms)\n",
      "[INFO][2023/05/04 12:03:29 PM]  - Probabilities (Link: 1.00000, Lost: 0.99938)\n",
      "[INFO][2023/05/04 12:03:29 PM]  - Stats (Active: 642, Lost: 2874, Conflicts resolved: 3704)\n",
      "[INFO][2023/05/04 12:03:29 PM] Tracking objects in frames 25 to 49 (of 75)...\n",
      "[INFO][2023/05/04 12:03:33 PM]  - Timing (Bayesian updates: 63.55ms, Linking: 3.34ms)\n",
      "[INFO][2023/05/04 12:03:33 PM]  - Probabilities (Link: 1.00000, Lost: 0.99992)\n",
      "[INFO][2023/05/04 12:03:33 PM]  - Stats (Active: 645, Lost: 5308, Conflicts resolved: 7115)\n",
      "[INFO][2023/05/04 12:03:33 PM] Tracking objects in frames 50 to 74 (of 75)...\n",
      "[INFO][2023/05/04 12:03:37 PM]  - Timing (Bayesian updates: 45.66ms, Linking: 2.56ms)\n",
      "[INFO][2023/05/04 12:03:37 PM]  - Probabilities (Link: 0.99538, Lost: 0.99293)\n",
      "[INFO][2023/05/04 12:03:37 PM] SUCCESS.\n",
      "[INFO][2023/05/04 12:03:37 PM]  - Found 3022 tracks in 75 frames (in 0.0s)\n",
      "[INFO][2023/05/04 12:03:37 PM]  - Inserted 6828 dummy objects to fill tracking gaps\n",
      "[INFO][2023/05/04 12:03:37 PM] Loading hypothesis model: particle_hypothesis\n",
      "[INFO][2023/05/04 12:03:37 PM] Calculating hypotheses (relax: True)...\n",
      "[INFO][2023/05/04 12:03:37 PM] Setting up constraints matrix for global optimisation...\n",
      "[INFO][2023/05/04 12:03:37 PM] Using GLPK options: {'tm_lim': 60000}...\n",
      "[INFO][2023/05/04 12:03:37 PM] Optimizing...\n",
      "[INFO][2023/05/04 12:03:38 PM] Optimization complete. (Solution: optimal)\n",
      "[INFO][2023/05/04 12:03:38 PM]  - Fates.FALSE_POSITIVE: 786 (of 3022)\n",
      "[INFO][2023/05/04 12:03:38 PM]  - Fates.LINK: 869 (of 1203)\n",
      "[INFO][2023/05/04 12:03:38 PM]  - Fates.INITIALIZE_BORDER: 116 (of 249)\n",
      "[INFO][2023/05/04 12:03:38 PM]  - Fates.INITIALIZE_FRONT: 552 (of 756)\n",
      "[INFO][2023/05/04 12:03:38 PM]  - Fates.INITIALIZE_LAZY: 699 (of 2017)\n",
      "[INFO][2023/05/04 12:03:38 PM]  - Fates.TERMINATE_BORDER: 107 (of 239)\n",
      "[INFO][2023/05/04 12:03:38 PM]  - Fates.TERMINATE_BACK: 459 (of 519)\n",
      "[INFO][2023/05/04 12:03:38 PM]  - Fates.TERMINATE_LAZY: 801 (of 2264)\n",
      "[INFO][2023/05/04 12:03:38 PM]  - TOTAL: 10269 hypotheses\n",
      "[INFO][2023/05/04 12:03:38 PM] Completed optimization with 2153 tracks\n",
      "[INFO][2023/05/04 12:03:38 PM] Ending BayesianTracker session\n"
     ]
    },
    {
     "name": "stdout",
     "output_type": "stream",
     "text": [
      "GLPK Integer Optimizer 5.0\n",
      "12088 rows, 10269 columns, 14494 non-zeros\n",
      "10269 integer variables, all of which are binary\n",
      "Preprocessing...\n",
      "6044 rows, 10269 columns, 14494 non-zeros\n",
      "10269 integer variables, all of which are binary\n",
      "Scaling...\n",
      " A: min|aij| =  1.000e+00  max|aij| =  1.000e+00  ratio =  1.000e+00\n",
      "Problem data seem to be well scaled\n",
      "Constructing initial basis...\n",
      "Size of triangular part is 6044\n",
      "Solving LP relaxation...\n",
      "GLPK Simplex Optimizer 5.0\n",
      "6044 rows, 10269 columns, 14494 non-zeros\n",
      "*     0: obj =   3.082479260e+04 inf =   0.000e+00 (2366)\n",
      "Perturbing LP to avoid stalling [1171]...\n",
      "Removing LP perturbation [2376]...\n",
      "*  2376: obj =   1.611108537e+04 inf =   0.000e+00 (0)\n",
      "OPTIMAL LP SOLUTION FOUND\n",
      "Integer optimization begins...\n",
      "Long-step dual simplex will be used\n",
      "+  2376: mip =     not found yet >=              -inf        (1; 0)\n",
      "+  2376: >>>>>   1.611108537e+04 >=   1.611108537e+04   0.0% (1; 0)\n",
      "+  2376: mip =   1.611108537e+04 >=     tree is empty   0.0% (0; 1)\n",
      "INTEGER OPTIMAL SOLUTION FOUND\n"
     ]
    },
    {
     "name": "stderr",
     "output_type": "stream",
     "text": [
      "[INFO][2023/05/04 12:03:38 PM] Opening HDF file: /mnt/DATA/macrohet/labels/relocalisation/thresh_(3, 5).h5...\n",
      "[INFO][2023/05/04 12:03:38 PM] Writing objects/obj_type_1\n",
      "[INFO][2023/05/04 12:03:38 PM] Writing labels/obj_type_1\n",
      "[INFO][2023/05/04 12:03:38 PM] Loading objects/obj_type_1 (28787, 5) (28787 filtered: None)\n",
      "[INFO][2023/05/04 12:03:38 PM] Writing properties/obj_type_1/area (28787,)\n",
      "[INFO][2023/05/04 12:03:38 PM] Writing properties/obj_type_1/major_axis_length (28787,)\n",
      "[INFO][2023/05/04 12:03:38 PM] Writing properties/obj_type_1/minor_axis_length (28787,)\n",
      "[INFO][2023/05/04 12:03:38 PM] Writing properties/obj_type_1/orientation (28787,)\n",
      "[INFO][2023/05/04 12:03:39 PM] Writing properties/obj_type_1/mean_intensity (28787, 4)\n",
      "[INFO][2023/05/04 12:03:39 PM] Writing tracks/obj_type_1\n",
      "[INFO][2023/05/04 12:03:39 PM] Writing dummies/obj_type_1\n",
      "[INFO][2023/05/04 12:03:39 PM] Writing LBEP/obj_type_1\n",
      "[INFO][2023/05/04 12:03:39 PM] Writing fates/obj_type_1\n",
      "[INFO][2023/05/04 12:04:15 PM] Closing HDF file: /mnt/DATA/macrohet/labels/relocalisation/thresh_(3, 5).h5\n"
     ]
    },
    {
     "name": "stdout",
     "output_type": "stream",
     "text": [
      "Checking time indices: (3, 5, [0, 1, 2, 3, 4, 5, 6, 7, 8, 9, 10, 11])\n"
     ]
    },
    {
     "name": "stderr",
     "output_type": "stream",
     "text": [
      "[INFO][2023/05/04 12:04:16 PM] Opening HDF file: /mnt/DATA/macrohet/labels/full_localisation/(3, 6)_objs_masks_tracks.h5...\n",
      "[INFO][2023/05/04 12:04:37 PM] Loading segmentation (75, 6048, 6048)\n",
      "[INFO][2023/05/04 12:04:37 PM] Closing HDF file: /mnt/DATA/macrohet/labels/full_localisation/(3, 6)_objs_masks_tracks.h5\n"
     ]
    },
    {
     "data": {
      "application/vnd.jupyter.widget-view+json": {
       "model_id": "",
       "version_major": 2,
       "version_minor": 0
      },
      "text/plain": [
       "Otsu segmenting:   0%|          | 0/75 [00:00<?, ?it/s]"
      ]
     },
     "metadata": {},
     "output_type": "display_data"
    },
    {
     "name": "stderr",
     "output_type": "stream",
     "text": [
      "[INFO][2023/05/04 12:12:15 PM] Localizing objects from segmentation...\n",
      "100%|█████████████████████████████████████████████████████████████████████| 75/75 [17:51<00:00, 14.29s/it]\n",
      "[INFO][2023/05/04 12:30:06 PM] Objects are of type: <class 'dict'>\n",
      "[INFO][2023/05/04 12:30:07 PM] ...Found 48362 objects in 75 frames.\n",
      "[INFO][2023/05/04 12:30:07 PM] Loaded btrack: /home/dayn/analysis/btrack/btrack/libs/libtracker.so\n",
      "[INFO][2023/05/04 12:30:07 PM] Starting BayesianTracker session\n",
      "[INFO][2023/05/04 12:30:07 PM] Loading configuration file: /home/dayn/analysis/btrack/models/particle_config_pnassign.json\n",
      "[INFO][2023/05/04 12:30:07 PM] Objects are of type: <class 'list'>\n",
      "[INFO][2023/05/04 12:30:07 PM] Starting tracking... \n",
      "[INFO][2023/05/04 12:30:07 PM] Update using: ['VISUAL', 'MOTION']\n",
      "[INFO][2023/05/04 12:30:07 PM] Tracking objects in frames 0 to 24 (of 75)...\n",
      "[INFO][2023/05/04 12:30:13 PM]  - Timing (Bayesian updates: 57.16ms, Linking: 2.44ms)\n",
      "[INFO][2023/05/04 12:30:13 PM]  - Probabilities (Link: 1.00000, Lost: 1.00000)\n",
      "[INFO][2023/05/04 12:30:13 PM]  - Stats (Active: 657, Lost: 3002, Conflicts resolved: 4128)\n",
      "[INFO][2023/05/04 12:30:13 PM] Tracking objects in frames 25 to 49 (of 75)...\n",
      "[INFO][2023/05/04 12:30:17 PM]  - Timing (Bayesian updates: 78.97ms, Linking: 2.84ms)\n",
      "[INFO][2023/05/04 12:30:17 PM]  - Probabilities (Link: 1.00000, Lost: 0.61741)\n",
      "[INFO][2023/05/04 12:30:17 PM]  - Stats (Active: 682, Lost: 5378, Conflicts resolved: 7505)\n",
      "[INFO][2023/05/04 12:30:17 PM] Tracking objects in frames 50 to 74 (of 75)...\n",
      "[INFO][2023/05/04 12:30:23 PM]  - Timing (Bayesian updates: 97.83ms, Linking: 3.19ms)\n",
      "[INFO][2023/05/04 12:30:23 PM]  - Probabilities (Link: 1.00000, Lost: 1.00000)\n",
      "[INFO][2023/05/04 12:30:23 PM] SUCCESS.\n",
      "[INFO][2023/05/04 12:30:23 PM]  - Found 3448 tracks in 75 frames (in 0.0s)\n",
      "[INFO][2023/05/04 12:30:23 PM]  - Inserted 7613 dummy objects to fill tracking gaps\n",
      "[INFO][2023/05/04 12:30:23 PM] Loading hypothesis model: particle_hypothesis\n",
      "[INFO][2023/05/04 12:30:23 PM] Calculating hypotheses (relax: True)...\n",
      "[INFO][2023/05/04 12:30:23 PM] Setting up constraints matrix for global optimisation...\n",
      "[INFO][2023/05/04 12:30:23 PM] Using GLPK options: {'tm_lim': 60000}...\n",
      "[INFO][2023/05/04 12:30:24 PM] Optimizing...\n",
      "[INFO][2023/05/04 12:30:24 PM] Optimization complete. (Solution: optimal)\n",
      "[INFO][2023/05/04 12:30:24 PM]  - Fates.FALSE_POSITIVE: 893 (of 3448)\n",
      "[INFO][2023/05/04 12:30:24 PM]  - Fates.LINK: 1001 (of 1480)\n",
      "[INFO][2023/05/04 12:30:24 PM]  - Fates.INITIALIZE_BORDER: 123 (of 270)\n",
      "[INFO][2023/05/04 12:30:24 PM]  - Fates.INITIALIZE_FRONT: 577 (of 859)\n",
      "[INFO][2023/05/04 12:30:24 PM]  - Fates.INITIALIZE_LAZY: 854 (of 2319)\n",
      "[INFO][2023/05/04 12:30:24 PM]  - Fates.TERMINATE_BORDER: 119 (of 252)\n",
      "[INFO][2023/05/04 12:30:24 PM]  - Fates.TERMINATE_BACK: 583 (of 695)\n",
      "[INFO][2023/05/04 12:30:24 PM]  - Fates.TERMINATE_LAZY: 852 (of 2501)\n",
      "[INFO][2023/05/04 12:30:24 PM]  - TOTAL: 11824 hypotheses\n",
      "[INFO][2023/05/04 12:30:24 PM] Completed optimization with 2447 tracks\n"
     ]
    },
    {
     "name": "stdout",
     "output_type": "stream",
     "text": [
      "GLPK Integer Optimizer 5.0\n",
      "13792 rows, 11824 columns, 16752 non-zeros\n",
      "11824 integer variables, all of which are binary\n",
      "Preprocessing...\n",
      "6896 rows, 11824 columns, 16752 non-zeros\n",
      "11824 integer variables, all of which are binary\n",
      "Scaling...\n",
      " A: min|aij| =  1.000e+00  max|aij| =  1.000e+00  ratio =  1.000e+00\n",
      "Problem data seem to be well scaled\n",
      "Constructing initial basis...\n",
      "Size of triangular part is 6896\n",
      "Solving LP relaxation...\n",
      "GLPK Simplex Optimizer 5.0\n",
      "6896 rows, 11824 columns, 16752 non-zeros\n",
      "*     0: obj =   3.473506837e+04 inf =   0.000e+00 (2806)\n",
      "Perturbing LP to avoid stalling [1260]...\n",
      "Removing LP perturbation [2803]...\n",
      "*  2803: obj =   1.817970589e+04 inf =   0.000e+00 (0)\n",
      "OPTIMAL LP SOLUTION FOUND\n",
      "Integer optimization begins...\n",
      "Long-step dual simplex will be used\n",
      "+  2803: mip =     not found yet >=              -inf        (1; 0)\n",
      "+  2803: >>>>>   1.817970589e+04 >=   1.817970589e+04   0.0% (1; 0)\n",
      "+  2803: mip =   1.817970589e+04 >=     tree is empty   0.0% (0; 1)\n",
      "INTEGER OPTIMAL SOLUTION FOUND\n"
     ]
    },
    {
     "name": "stderr",
     "output_type": "stream",
     "text": [
      "[INFO][2023/05/04 12:31:05 PM] Ending BayesianTracker session\n",
      "[INFO][2023/05/04 12:31:06 PM] Opening HDF file: /mnt/DATA/macrohet/labels/relocalisation/thresh_(3, 6).h5...\n",
      "[INFO][2023/05/04 12:31:06 PM] Writing objects/obj_type_1\n",
      "[INFO][2023/05/04 12:31:06 PM] Writing labels/obj_type_1\n",
      "[INFO][2023/05/04 12:31:06 PM] Loading objects/obj_type_1 (30324, 5) (30324 filtered: None)\n",
      "[INFO][2023/05/04 12:31:06 PM] Writing properties/obj_type_1/area (30324,)\n",
      "[INFO][2023/05/04 12:31:06 PM] Writing properties/obj_type_1/major_axis_length (30324,)\n",
      "[INFO][2023/05/04 12:31:06 PM] Writing properties/obj_type_1/minor_axis_length (30324,)\n",
      "[INFO][2023/05/04 12:31:06 PM] Writing properties/obj_type_1/orientation (30324,)\n",
      "[INFO][2023/05/04 12:31:06 PM] Writing properties/obj_type_1/mean_intensity (30324, 4)\n",
      "[INFO][2023/05/04 12:31:06 PM] Writing tracks/obj_type_1\n",
      "[INFO][2023/05/04 12:31:06 PM] Writing dummies/obj_type_1\n",
      "[INFO][2023/05/04 12:31:06 PM] Writing LBEP/obj_type_1\n",
      "[INFO][2023/05/04 12:31:06 PM] Writing fates/obj_type_1\n",
      "[INFO][2023/05/04 12:31:40 PM] Closing HDF file: /mnt/DATA/macrohet/labels/relocalisation/thresh_(3, 6).h5\n"
     ]
    },
    {
     "name": "stdout",
     "output_type": "stream",
     "text": [
      "Checking time indices: (3, 6, [0, 1, 2, 3, 4, 5, 6, 7, 8, 9, 10, 11, 12])\n"
     ]
    },
    {
     "name": "stderr",
     "output_type": "stream",
     "text": [
      "[INFO][2023/05/04 12:31:41 PM] Opening HDF file: /mnt/DATA/macrohet/labels/full_localisation/(3, 7)_objs_masks_tracks.h5...\n",
      "[INFO][2023/05/04 12:31:59 PM] Loading segmentation (75, 6048, 6048)\n",
      "[INFO][2023/05/04 12:31:59 PM] Closing HDF file: /mnt/DATA/macrohet/labels/full_localisation/(3, 7)_objs_masks_tracks.h5\n"
     ]
    },
    {
     "data": {
      "application/vnd.jupyter.widget-view+json": {
       "model_id": "",
       "version_major": 2,
       "version_minor": 0
      },
      "text/plain": [
       "Otsu segmenting:   0%|          | 0/75 [00:00<?, ?it/s]"
      ]
     },
     "metadata": {},
     "output_type": "display_data"
    },
    {
     "name": "stderr",
     "output_type": "stream",
     "text": [
      "[INFO][2023/05/04 12:39:30 PM] Localizing objects from segmentation...\n",
      "100%|█████████████████████████████████████████████████████████████████████| 75/75 [17:47<00:00, 14.23s/it]\n",
      "[INFO][2023/05/04 12:57:17 PM] Objects are of type: <class 'dict'>\n",
      "[INFO][2023/05/04 12:57:17 PM] ...Found 50509 objects in 75 frames.\n",
      "[INFO][2023/05/04 12:57:17 PM] Loaded btrack: /home/dayn/analysis/btrack/btrack/libs/libtracker.so\n",
      "[INFO][2023/05/04 12:57:17 PM] Starting BayesianTracker session\n",
      "[INFO][2023/05/04 12:57:17 PM] Loading configuration file: /home/dayn/analysis/btrack/models/particle_config_pnassign.json\n",
      "[INFO][2023/05/04 12:57:17 PM] Objects are of type: <class 'list'>\n",
      "[INFO][2023/05/04 12:57:18 PM] Starting tracking... \n",
      "[INFO][2023/05/04 12:57:18 PM] Update using: ['VISUAL', 'MOTION']\n",
      "[INFO][2023/05/04 12:57:18 PM] Tracking objects in frames 0 to 24 (of 75)...\n",
      "[INFO][2023/05/04 12:57:24 PM]  - Timing (Bayesian updates: 59.49ms, Linking: 2.98ms)\n",
      "[INFO][2023/05/04 12:57:24 PM]  - Probabilities (Link: 1.00000, Lost: 1.00000)\n",
      "[INFO][2023/05/04 12:57:24 PM]  - Stats (Active: 660, Lost: 2949, Conflicts resolved: 4021)\n",
      "[INFO][2023/05/04 12:57:24 PM] Tracking objects in frames 25 to 49 (of 75)...\n",
      "[INFO][2023/05/04 12:57:28 PM]  - Timing (Bayesian updates: 59.26ms, Linking: 2.80ms)\n",
      "[INFO][2023/05/04 12:57:28 PM]  - Probabilities (Link: 1.00000, Lost: 0.99972)\n",
      "[INFO][2023/05/04 12:57:28 PM]  - Stats (Active: 602, Lost: 5251, Conflicts resolved: 7404)\n",
      "[INFO][2023/05/04 12:57:28 PM] Tracking objects in frames 50 to 74 (of 75)...\n",
      "[INFO][2023/05/04 12:57:32 PM]  - Timing (Bayesian updates: 54.56ms, Linking: 2.59ms)\n",
      "[INFO][2023/05/04 12:57:32 PM]  - Probabilities (Link: 1.00000, Lost: 0.99434)\n",
      "[INFO][2023/05/04 12:57:32 PM] SUCCESS.\n",
      "[INFO][2023/05/04 12:57:32 PM]  - Found 3363 tracks in 75 frames (in 0.0s)\n",
      "[INFO][2023/05/04 12:57:32 PM]  - Inserted 6748 dummy objects to fill tracking gaps\n",
      "[INFO][2023/05/04 12:57:32 PM] Loading hypothesis model: particle_hypothesis\n",
      "[INFO][2023/05/04 12:57:32 PM] Calculating hypotheses (relax: True)...\n",
      "[INFO][2023/05/04 12:57:32 PM] Setting up constraints matrix for global optimisation...\n",
      "[INFO][2023/05/04 12:57:32 PM] Using GLPK options: {'tm_lim': 60000}...\n",
      "[INFO][2023/05/04 12:57:32 PM] Optimizing...\n",
      "[INFO][2023/05/04 12:57:33 PM] Optimization complete. (Solution: optimal)\n",
      "[INFO][2023/05/04 12:57:33 PM]  - Fates.FALSE_POSITIVE: 1010 (of 3363)\n",
      "[INFO][2023/05/04 12:57:33 PM]  - Fates.LINK: 923 (of 1349)\n",
      "[INFO][2023/05/04 12:57:33 PM]  - Fates.INITIALIZE_BORDER: 102 (of 241)\n",
      "[INFO][2023/05/04 12:57:33 PM]  - Fates.INITIALIZE_FRONT: 558 (of 798)\n",
      "[INFO][2023/05/04 12:57:33 PM]  - Fates.INITIALIZE_LAZY: 770 (of 2324)\n",
      "[INFO][2023/05/04 12:57:33 PM]  - Fates.TERMINATE_BORDER: 112 (of 254)\n",
      "[INFO][2023/05/04 12:57:33 PM]  - Fates.TERMINATE_BACK: 479 (of 586)\n",
      "[INFO][2023/05/04 12:57:33 PM]  - Fates.TERMINATE_LAZY: 839 (of 2523)\n",
      "[INFO][2023/05/04 12:57:33 PM]  - TOTAL: 11438 hypotheses\n",
      "[INFO][2023/05/04 12:57:33 PM] Completed optimization with 2440 tracks\n",
      "[INFO][2023/05/04 12:57:33 PM] Ending BayesianTracker session\n"
     ]
    },
    {
     "name": "stdout",
     "output_type": "stream",
     "text": [
      "GLPK Integer Optimizer 5.0\n",
      "13452 rows, 11438 columns, 16150 non-zeros\n",
      "11438 integer variables, all of which are binary\n",
      "Preprocessing...\n",
      "6726 rows, 11438 columns, 16150 non-zeros\n",
      "11438 integer variables, all of which are binary\n",
      "Scaling...\n",
      " A: min|aij| =  1.000e+00  max|aij| =  1.000e+00  ratio =  1.000e+00\n",
      "Problem data seem to be well scaled\n",
      "Constructing initial basis...\n",
      "Size of triangular part is 6726\n",
      "Solving LP relaxation...\n",
      "GLPK Simplex Optimizer 5.0\n",
      "6726 rows, 11438 columns, 16150 non-zeros\n",
      "*     0: obj =   3.471806057e+04 inf =   0.000e+00 (2796)\n",
      "Perturbing LP to avoid stalling [1279]...\n",
      "Removing LP perturbation [2814]...\n",
      "*  2814: obj =   1.781191023e+04 inf =   0.000e+00 (0)\n",
      "OPTIMAL LP SOLUTION FOUND\n",
      "Integer optimization begins...\n",
      "Long-step dual simplex will be used\n",
      "+  2814: mip =     not found yet >=              -inf        (1; 0)\n",
      "+  2814: >>>>>   1.781191023e+04 >=   1.781191023e+04   0.0% (1; 0)\n",
      "+  2814: mip =   1.781191023e+04 >=     tree is empty   0.0% (0; 1)\n",
      "INTEGER OPTIMAL SOLUTION FOUND\n"
     ]
    },
    {
     "name": "stderr",
     "output_type": "stream",
     "text": [
      "[INFO][2023/05/04 12:57:33 PM] Opening HDF file: /mnt/DATA/macrohet/labels/relocalisation/thresh_(3, 7).h5...\n",
      "[INFO][2023/05/04 12:57:34 PM] Writing objects/obj_type_1\n",
      "[INFO][2023/05/04 12:57:34 PM] Writing labels/obj_type_1\n",
      "[INFO][2023/05/04 12:57:34 PM] Loading objects/obj_type_1 (28254, 5) (28254 filtered: None)\n",
      "[INFO][2023/05/04 12:57:34 PM] Writing properties/obj_type_1/area (28254,)\n",
      "[INFO][2023/05/04 12:57:34 PM] Writing properties/obj_type_1/major_axis_length (28254,)\n",
      "[INFO][2023/05/04 12:57:34 PM] Writing properties/obj_type_1/minor_axis_length (28254,)\n",
      "[INFO][2023/05/04 12:57:34 PM] Writing properties/obj_type_1/orientation (28254,)\n",
      "[INFO][2023/05/04 12:57:34 PM] Writing properties/obj_type_1/mean_intensity (28254, 4)\n",
      "[INFO][2023/05/04 12:57:34 PM] Writing tracks/obj_type_1\n",
      "[INFO][2023/05/04 12:57:34 PM] Writing dummies/obj_type_1\n",
      "[INFO][2023/05/04 12:57:34 PM] Writing LBEP/obj_type_1\n",
      "[INFO][2023/05/04 12:57:34 PM] Writing fates/obj_type_1\n",
      "[INFO][2023/05/04 12:58:10 PM] Closing HDF file: /mnt/DATA/macrohet/labels/relocalisation/thresh_(3, 7).h5\n"
     ]
    },
    {
     "name": "stdout",
     "output_type": "stream",
     "text": [
      "Checking time indices: (3, 7, [0, 1, 2])\n"
     ]
    },
    {
     "name": "stderr",
     "output_type": "stream",
     "text": [
      "[INFO][2023/05/04 12:58:51 PM] Opening HDF file: /mnt/DATA/macrohet/labels/full_localisation/(3, 8)_objs_masks_tracks.h5...\n",
      "[INFO][2023/05/04 12:59:10 PM] Loading segmentation (75, 6048, 6048)\n",
      "[INFO][2023/05/04 12:59:10 PM] Closing HDF file: /mnt/DATA/macrohet/labels/full_localisation/(3, 8)_objs_masks_tracks.h5\n"
     ]
    },
    {
     "data": {
      "application/vnd.jupyter.widget-view+json": {
       "model_id": "",
       "version_major": 2,
       "version_minor": 0
      },
      "text/plain": [
       "Otsu segmenting:   0%|          | 0/75 [00:00<?, ?it/s]"
      ]
     },
     "metadata": {},
     "output_type": "display_data"
    },
    {
     "name": "stderr",
     "output_type": "stream",
     "text": [
      "[INFO][2023/05/04 01:06:46 PM] Localizing objects from segmentation...\n",
      "100%|█████████████████████████████████████████████████████████████████████| 75/75 [17:38<00:00, 14.11s/it]\n",
      "[INFO][2023/05/04 01:24:24 PM] Objects are of type: <class 'dict'>\n",
      "[INFO][2023/05/04 01:24:25 PM] ...Found 49421 objects in 75 frames.\n",
      "[INFO][2023/05/04 01:24:25 PM] Loaded btrack: /home/dayn/analysis/btrack/btrack/libs/libtracker.so\n",
      "[INFO][2023/05/04 01:24:25 PM] Starting BayesianTracker session\n",
      "[INFO][2023/05/04 01:24:25 PM] Loading configuration file: /home/dayn/analysis/btrack/models/particle_config_pnassign.json\n",
      "[INFO][2023/05/04 01:24:25 PM] Objects are of type: <class 'list'>\n",
      "[INFO][2023/05/04 01:24:25 PM] Starting tracking... \n",
      "[INFO][2023/05/04 01:24:25 PM] Update using: ['VISUAL', 'MOTION']\n",
      "[INFO][2023/05/04 01:24:25 PM] Tracking objects in frames 0 to 24 (of 75)...\n",
      "[INFO][2023/05/04 01:24:30 PM]  - Timing (Bayesian updates: 72.15ms, Linking: 3.09ms)\n",
      "[INFO][2023/05/04 01:24:30 PM]  - Probabilities (Link: 1.00000, Lost: 0.91300)\n",
      "[INFO][2023/05/04 01:24:30 PM]  - Stats (Active: 637, Lost: 2912, Conflicts resolved: 3800)\n",
      "[INFO][2023/05/04 01:24:30 PM] Tracking objects in frames 25 to 49 (of 75)...\n",
      "[INFO][2023/05/04 01:24:36 PM]  - Timing (Bayesian updates: 97.21ms, Linking: 3.67ms)\n",
      "[INFO][2023/05/04 01:24:36 PM]  - Probabilities (Link: 1.00000, Lost: 0.87387)\n",
      "[INFO][2023/05/04 01:24:36 PM]  - Stats (Active: 756, Lost: 5558, Conflicts resolved: 7473)\n",
      "[INFO][2023/05/04 01:24:36 PM] Tracking objects in frames 50 to 74 (of 75)...\n",
      "[INFO][2023/05/04 01:24:42 PM]  - Timing (Bayesian updates: 88.50ms, Linking: 3.27ms)\n",
      "[INFO][2023/05/04 01:24:42 PM]  - Probabilities (Link: 1.00000, Lost: 1.00000)\n",
      "[INFO][2023/05/04 01:24:42 PM] SUCCESS.\n",
      "[INFO][2023/05/04 01:24:42 PM]  - Found 3609 tracks in 75 frames (in 0.0s)\n",
      "[INFO][2023/05/04 01:24:42 PM]  - Inserted 7730 dummy objects to fill tracking gaps\n",
      "[INFO][2023/05/04 01:24:42 PM] Loading hypothesis model: particle_hypothesis\n",
      "[INFO][2023/05/04 01:24:42 PM] Calculating hypotheses (relax: True)...\n",
      "[INFO][2023/05/04 01:24:42 PM] Setting up constraints matrix for global optimisation...\n",
      "[INFO][2023/05/04 01:24:42 PM] Using GLPK options: {'tm_lim': 60000}...\n",
      "[INFO][2023/05/04 01:24:43 PM] Optimizing...\n",
      "[INFO][2023/05/04 01:24:44 PM] Optimization complete. (Solution: optimal)\n",
      "[INFO][2023/05/04 01:24:44 PM]  - Fates.FALSE_POSITIVE: 967 (of 3609)\n",
      "[INFO][2023/05/04 01:24:44 PM]  - Fates.LINK: 1051 (of 1517)\n",
      "[INFO][2023/05/04 01:24:44 PM]  - Fates.INITIALIZE_BORDER: 136 (of 270)\n",
      "[INFO][2023/05/04 01:24:44 PM]  - Fates.INITIALIZE_FRONT: 579 (of 847)\n",
      "[INFO][2023/05/04 01:24:44 PM]  - Fates.INITIALIZE_LAZY: 876 (of 2492)\n",
      "[INFO][2023/05/04 01:24:44 PM]  - Fates.TERMINATE_BORDER: 134 (of 272)\n",
      "[INFO][2023/05/04 01:24:44 PM]  - Fates.TERMINATE_BACK: 593 (of 730)\n",
      "[INFO][2023/05/04 01:24:44 PM]  - Fates.TERMINATE_LAZY: 864 (of 2607)\n",
      "[INFO][2023/05/04 01:24:44 PM]  - TOTAL: 12344 hypotheses\n",
      "[INFO][2023/05/04 01:24:44 PM] Completed optimization with 2558 tracks\n"
     ]
    },
    {
     "name": "stdout",
     "output_type": "stream",
     "text": [
      "GLPK Integer Optimizer 5.0\n",
      "14436 rows, 12344 columns, 17470 non-zeros\n",
      "12344 integer variables, all of which are binary\n",
      "Preprocessing...\n",
      "7218 rows, 12344 columns, 17470 non-zeros\n",
      "12344 integer variables, all of which are binary\n",
      "Scaling...\n",
      " A: min|aij| =  1.000e+00  max|aij| =  1.000e+00  ratio =  1.000e+00\n",
      "Problem data seem to be well scaled\n",
      "Constructing initial basis...\n",
      "Size of triangular part is 7218\n",
      "Solving LP relaxation...\n",
      "GLPK Simplex Optimizer 5.0\n",
      "7218 rows, 12344 columns, 17470 non-zeros\n",
      "*     0: obj =   3.658074597e+04 inf =   0.000e+00 (2976)\n",
      "Perturbing LP to avoid stalling [1302]...\n",
      "Removing LP perturbation [2964]...\n",
      "*  2964: obj =   1.901067044e+04 inf =   0.000e+00 (0)\n",
      "OPTIMAL LP SOLUTION FOUND\n",
      "Integer optimization begins...\n",
      "Long-step dual simplex will be used\n",
      "+  2964: mip =     not found yet >=              -inf        (1; 0)\n",
      "+  2964: >>>>>   1.901067044e+04 >=   1.901067044e+04   0.0% (1; 0)\n",
      "+  2964: mip =   1.901067044e+04 >=     tree is empty   0.0% (0; 1)\n",
      "INTEGER OPTIMAL SOLUTION FOUND\n"
     ]
    },
    {
     "name": "stderr",
     "output_type": "stream",
     "text": [
      "[INFO][2023/05/04 01:24:44 PM] Ending BayesianTracker session\n",
      "[INFO][2023/05/04 01:24:44 PM] Opening HDF file: /mnt/DATA/macrohet/labels/relocalisation/thresh_(3, 8).h5...\n",
      "[INFO][2023/05/04 01:24:45 PM] Writing objects/obj_type_1\n",
      "[INFO][2023/05/04 01:24:45 PM] Writing labels/obj_type_1\n",
      "[INFO][2023/05/04 01:24:45 PM] Loading objects/obj_type_1 (31407, 5) (31407 filtered: None)\n",
      "[INFO][2023/05/04 01:24:45 PM] Writing properties/obj_type_1/area (31407,)\n",
      "[INFO][2023/05/04 01:24:45 PM] Writing properties/obj_type_1/major_axis_length (31407,)\n",
      "[INFO][2023/05/04 01:24:45 PM] Writing properties/obj_type_1/minor_axis_length (31407,)\n",
      "[INFO][2023/05/04 01:24:45 PM] Writing properties/obj_type_1/orientation (31407,)\n",
      "[INFO][2023/05/04 01:24:45 PM] Writing properties/obj_type_1/mean_intensity (31407, 4)\n",
      "[INFO][2023/05/04 01:24:45 PM] Writing tracks/obj_type_1\n",
      "[INFO][2023/05/04 01:24:45 PM] Writing dummies/obj_type_1\n",
      "[INFO][2023/05/04 01:24:45 PM] Writing LBEP/obj_type_1\n",
      "[INFO][2023/05/04 01:24:45 PM] Writing fates/obj_type_1\n",
      "[INFO][2023/05/04 01:25:20 PM] Closing HDF file: /mnt/DATA/macrohet/labels/relocalisation/thresh_(3, 8).h5\n"
     ]
    },
    {
     "name": "stdout",
     "output_type": "stream",
     "text": [
      "Checking time indices: (3, 8, [0, 2, 3, 4, 5, 6, 7, 8, 9, 10, 11, 13, 14, 15, 16, 17, 18, 19, 20, 21, 22, 23, 24, 25, 27, 28, 29, 30, 31, 32, 33, 34, 35, 36, 37, 38, 39, 40, 41, 42, 43, 44, 45, 46, 47, 48, 49, 50, 51, 52, 53, 54, 55, 56, 57, 58, 59])\n"
     ]
    },
    {
     "name": "stderr",
     "output_type": "stream",
     "text": [
      "[INFO][2023/05/04 01:25:21 PM] Opening HDF file: /mnt/DATA/macrohet/labels/full_localisation/(3, 9)_objs_masks_tracks.h5...\n",
      "[INFO][2023/05/04 01:25:43 PM] Loading segmentation (75, 6048, 6048)\n",
      "[INFO][2023/05/04 01:25:43 PM] Closing HDF file: /mnt/DATA/macrohet/labels/full_localisation/(3, 9)_objs_masks_tracks.h5\n"
     ]
    },
    {
     "data": {
      "application/vnd.jupyter.widget-view+json": {
       "model_id": "",
       "version_major": 2,
       "version_minor": 0
      },
      "text/plain": [
       "Otsu segmenting:   0%|          | 0/75 [00:00<?, ?it/s]"
      ]
     },
     "metadata": {},
     "output_type": "display_data"
    },
    {
     "name": "stderr",
     "output_type": "stream",
     "text": [
      "[INFO][2023/05/04 01:33:54 PM] Localizing objects from segmentation...\n",
      "100%|█████████████████████████████████████████████████████████████████████| 75/75 [17:23<00:00, 13.91s/it]\n",
      "[INFO][2023/05/04 01:51:18 PM] Objects are of type: <class 'dict'>\n",
      "[INFO][2023/05/04 01:51:18 PM] ...Found 41768 objects in 75 frames.\n",
      "[INFO][2023/05/04 01:51:18 PM] Loaded btrack: /home/dayn/analysis/btrack/btrack/libs/libtracker.so\n",
      "[INFO][2023/05/04 01:51:18 PM] Starting BayesianTracker session\n",
      "[INFO][2023/05/04 01:51:18 PM] Loading configuration file: /home/dayn/analysis/btrack/models/particle_config_pnassign.json\n",
      "[INFO][2023/05/04 01:51:18 PM] Objects are of type: <class 'list'>\n",
      "[INFO][2023/05/04 01:51:18 PM] Starting tracking... \n",
      "[INFO][2023/05/04 01:51:18 PM] Update using: ['VISUAL', 'MOTION']\n",
      "[INFO][2023/05/04 01:51:19 PM] Tracking objects in frames 0 to 24 (of 75)...\n",
      "[INFO][2023/05/04 01:51:24 PM]  - Timing (Bayesian updates: 72.57ms, Linking: 3.72ms)\n",
      "[INFO][2023/05/04 01:51:24 PM]  - Probabilities (Link: 1.00000, Lost: 1.00000)\n",
      "[INFO][2023/05/04 01:51:24 PM]  - Stats (Active: 661, Lost: 2716, Conflicts resolved: 3967)\n",
      "[INFO][2023/05/04 01:51:24 PM] Tracking objects in frames 25 to 49 (of 75)...\n",
      "[INFO][2023/05/04 01:51:29 PM]  - Timing (Bayesian updates: 81.79ms, Linking: 3.67ms)\n",
      "[INFO][2023/05/04 01:51:29 PM]  - Probabilities (Link: 1.00000, Lost: 0.97580)\n",
      "[INFO][2023/05/04 01:51:29 PM]  - Stats (Active: 694, Lost: 4851, Conflicts resolved: 7312)\n",
      "[INFO][2023/05/04 01:51:29 PM] Tracking objects in frames 50 to 74 (of 75)...\n",
      "[INFO][2023/05/04 01:51:35 PM]  - Timing (Bayesian updates: 79.28ms, Linking: 3.26ms)\n",
      "[INFO][2023/05/04 01:51:35 PM]  - Probabilities (Link: 1.00000, Lost: 1.00000)\n",
      "[INFO][2023/05/04 01:51:35 PM] SUCCESS.\n",
      "[INFO][2023/05/04 01:51:35 PM]  - Found 3214 tracks in 75 frames (in 0.0s)\n",
      "[INFO][2023/05/04 01:51:35 PM]  - Inserted 6353 dummy objects to fill tracking gaps\n",
      "[INFO][2023/05/04 01:51:35 PM] Loading hypothesis model: particle_hypothesis\n",
      "[INFO][2023/05/04 01:51:35 PM] Calculating hypotheses (relax: True)...\n",
      "[INFO][2023/05/04 01:51:35 PM] Setting up constraints matrix for global optimisation...\n",
      "[INFO][2023/05/04 01:51:35 PM] Using GLPK options: {'tm_lim': 60000}...\n",
      "[INFO][2023/05/04 01:51:35 PM] Optimizing...\n",
      "[INFO][2023/05/04 01:51:35 PM] Optimization complete. (Solution: optimal)\n",
      "[INFO][2023/05/04 01:51:35 PM]  - Fates.FALSE_POSITIVE: 745 (of 3214)\n",
      "[INFO][2023/05/04 01:51:35 PM]  - Fates.LINK: 1050 (of 1490)\n",
      "[INFO][2023/05/04 01:51:35 PM]  - Fates.INITIALIZE_BORDER: 146 (of 275)\n",
      "[INFO][2023/05/04 01:51:35 PM]  - Fates.INITIALIZE_FRONT: 541 (of 800)\n",
      "[INFO][2023/05/04 01:51:35 PM]  - Fates.INITIALIZE_LAZY: 732 (of 2139)\n",
      "[INFO][2023/05/04 01:51:35 PM]  - Fates.TERMINATE_BORDER: 118 (of 251)\n",
      "[INFO][2023/05/04 01:51:35 PM]  - Fates.TERMINATE_BACK: 561 (of 644)\n",
      "[INFO][2023/05/04 01:51:35 PM]  - Fates.TERMINATE_LAZY: 740 (of 2319)\n",
      "[INFO][2023/05/04 01:51:35 PM]  - TOTAL: 11132 hypotheses\n",
      "[INFO][2023/05/04 01:51:36 PM] Completed optimization with 2164 tracks\n"
     ]
    },
    {
     "name": "stdout",
     "output_type": "stream",
     "text": [
      "GLPK Integer Optimizer 5.0\n",
      "12856 rows, 11132 columns, 15836 non-zeros\n",
      "11132 integer variables, all of which are binary\n",
      "Preprocessing...\n",
      "6428 rows, 11132 columns, 15836 non-zeros\n",
      "11132 integer variables, all of which are binary\n",
      "Scaling...\n",
      " A: min|aij| =  1.000e+00  max|aij| =  1.000e+00  ratio =  1.000e+00\n",
      "Problem data seem to be well scaled\n",
      "Constructing initial basis...\n",
      "Size of triangular part is 6428\n",
      "Solving LP relaxation...\n",
      "GLPK Simplex Optimizer 5.0\n",
      "6428 rows, 11132 columns, 15836 non-zeros\n",
      "*     0: obj =   3.220508121e+04 inf =   0.000e+00 (2738)\n",
      "Perturbing LP to avoid stalling [1241]...\n",
      "Removing LP perturbation [2735]...\n",
      "*  2735: obj =   1.615031485e+04 inf =   0.000e+00 (0)\n",
      "OPTIMAL LP SOLUTION FOUND\n",
      "Integer optimization begins...\n",
      "Long-step dual simplex will be used\n",
      "+  2735: mip =     not found yet >=              -inf        (1; 0)\n",
      "+  2735: >>>>>   1.615031485e+04 >=   1.615031485e+04   0.0% (1; 0)\n",
      "+  2735: mip =   1.615031485e+04 >=     tree is empty   0.0% (0; 1)\n",
      "INTEGER OPTIMAL SOLUTION FOUND\n"
     ]
    },
    {
     "name": "stderr",
     "output_type": "stream",
     "text": [
      "[INFO][2023/05/04 01:51:36 PM] Ending BayesianTracker session\n",
      "[INFO][2023/05/04 01:51:36 PM] Opening HDF file: /mnt/DATA/macrohet/labels/relocalisation/thresh_(3, 9).h5...\n",
      "[INFO][2023/05/04 01:51:36 PM] Writing objects/obj_type_1\n",
      "[INFO][2023/05/04 01:51:36 PM] Writing labels/obj_type_1\n",
      "[INFO][2023/05/04 01:51:36 PM] Loading objects/obj_type_1 (32134, 5) (32134 filtered: None)\n",
      "[INFO][2023/05/04 01:51:37 PM] Writing properties/obj_type_1/area (32134,)\n",
      "[INFO][2023/05/04 01:51:37 PM] Writing properties/obj_type_1/major_axis_length (32134,)\n",
      "[INFO][2023/05/04 01:51:37 PM] Writing properties/obj_type_1/minor_axis_length (32134,)\n",
      "[INFO][2023/05/04 01:51:37 PM] Writing properties/obj_type_1/orientation (32134,)\n",
      "[INFO][2023/05/04 01:51:37 PM] Writing properties/obj_type_1/mean_intensity (32134, 4)\n",
      "[INFO][2023/05/04 01:51:37 PM] Writing tracks/obj_type_1\n",
      "[INFO][2023/05/04 01:51:37 PM] Writing dummies/obj_type_1\n",
      "[INFO][2023/05/04 01:51:37 PM] Writing LBEP/obj_type_1\n",
      "[INFO][2023/05/04 01:51:37 PM] Writing fates/obj_type_1\n",
      "[INFO][2023/05/04 01:52:11 PM] Closing HDF file: /mnt/DATA/macrohet/labels/relocalisation/thresh_(3, 9).h5\n"
     ]
    },
    {
     "name": "stdout",
     "output_type": "stream",
     "text": [
      "Checking time indices: (3, 9, [0, 1, 2, 3, 4, 5, 6, 7, 8, 9, 10, 11, 12, 13, 14, 15, 16, 17, 18, 19, 20, 21, 22, 23, 24, 25, 26, 27, 28, 29, 30, 31, 32, 33])\n"
     ]
    },
    {
     "name": "stderr",
     "output_type": "stream",
     "text": [
      "[INFO][2023/05/04 01:52:12 PM] Opening HDF file: /mnt/DATA/macrohet/labels/full_localisation/(4, 4)_objs_masks_tracks.h5...\n",
      "[INFO][2023/05/04 01:52:32 PM] Loading segmentation (75, 6048, 6048)\n",
      "[INFO][2023/05/04 01:52:32 PM] Closing HDF file: /mnt/DATA/macrohet/labels/full_localisation/(4, 4)_objs_masks_tracks.h5\n"
     ]
    },
    {
     "data": {
      "application/vnd.jupyter.widget-view+json": {
       "model_id": "",
       "version_major": 2,
       "version_minor": 0
      },
      "text/plain": [
       "Otsu segmenting:   0%|          | 0/75 [00:00<?, ?it/s]"
      ]
     },
     "metadata": {},
     "output_type": "display_data"
    },
    {
     "name": "stderr",
     "output_type": "stream",
     "text": [
      "[INFO][2023/05/04 02:00:46 PM] Localizing objects from segmentation...\n",
      "100%|█████████████████████████████████████████████████████████████████████| 75/75 [17:58<00:00, 14.38s/it]\n",
      "[INFO][2023/05/04 02:18:44 PM] Objects are of type: <class 'dict'>\n",
      "[INFO][2023/05/04 02:18:44 PM] ...Found 45555 objects in 75 frames.\n",
      "[INFO][2023/05/04 02:18:44 PM] Loaded btrack: /home/dayn/analysis/btrack/btrack/libs/libtracker.so\n",
      "[INFO][2023/05/04 02:18:44 PM] Starting BayesianTracker session\n",
      "[INFO][2023/05/04 02:18:44 PM] Loading configuration file: /home/dayn/analysis/btrack/models/particle_config_pnassign.json\n",
      "[INFO][2023/05/04 02:18:44 PM] Objects are of type: <class 'list'>\n",
      "[INFO][2023/05/04 02:18:45 PM] Starting tracking... \n",
      "[INFO][2023/05/04 02:18:45 PM] Update using: ['VISUAL', 'MOTION']\n",
      "[INFO][2023/05/04 02:18:45 PM] Tracking objects in frames 0 to 24 (of 75)...\n",
      "[INFO][2023/05/04 02:18:51 PM]  - Timing (Bayesian updates: 57.77ms, Linking: 3.42ms)\n",
      "[INFO][2023/05/04 02:18:51 PM]  - Probabilities (Link: 1.00000, Lost: 0.99987)\n",
      "[INFO][2023/05/04 02:18:51 PM]  - Stats (Active: 660, Lost: 3013, Conflicts resolved: 4248)\n",
      "[INFO][2023/05/04 02:18:51 PM] Tracking objects in frames 25 to 49 (of 75)...\n",
      "[INFO][2023/05/04 02:18:55 PM]  - Timing (Bayesian updates: 49.87ms, Linking: 2.56ms)\n",
      "[INFO][2023/05/04 02:18:55 PM]  - Probabilities (Link: 1.00000, Lost: 0.99719)\n",
      "[INFO][2023/05/04 02:18:55 PM]  - Stats (Active: 595, Lost: 5410, Conflicts resolved: 7672)\n",
      "[INFO][2023/05/04 02:18:55 PM] Tracking objects in frames 50 to 74 (of 75)...\n",
      "[INFO][2023/05/04 02:18:59 PM]  - Timing (Bayesian updates: 57.58ms, Linking: 2.91ms)\n",
      "[INFO][2023/05/04 02:18:59 PM]  - Probabilities (Link: 1.00000, Lost: 0.60441)\n",
      "[INFO][2023/05/04 02:18:59 PM] SUCCESS.\n",
      "[INFO][2023/05/04 02:18:59 PM]  - Found 3440 tracks in 75 frames (in 0.0s)\n",
      "[INFO][2023/05/04 02:18:59 PM]  - Inserted 7007 dummy objects to fill tracking gaps\n",
      "[INFO][2023/05/04 02:18:59 PM] Loading hypothesis model: particle_hypothesis\n",
      "[INFO][2023/05/04 02:18:59 PM] Calculating hypotheses (relax: True)...\n",
      "[INFO][2023/05/04 02:18:59 PM] Setting up constraints matrix for global optimisation...\n",
      "[INFO][2023/05/04 02:18:59 PM] Using GLPK options: {'tm_lim': 60000}...\n",
      "[INFO][2023/05/04 02:18:59 PM] Optimizing...\n",
      "[INFO][2023/05/04 02:19:01 PM] Optimization complete. (Solution: optimal)\n",
      "[INFO][2023/05/04 02:19:01 PM]  - Fates.FALSE_POSITIVE: 926 (of 3440)\n",
      "[INFO][2023/05/04 02:19:01 PM]  - Fates.LINK: 1013 (of 1489)\n",
      "[INFO][2023/05/04 02:19:01 PM]  - Fates.INITIALIZE_BORDER: 104 (of 232)\n",
      "[INFO][2023/05/04 02:19:01 PM]  - Fates.INITIALIZE_FRONT: 628 (of 846)\n",
      "[INFO][2023/05/04 02:19:01 PM]  - Fates.INITIALIZE_LAZY: 769 (of 2362)\n",
      "[INFO][2023/05/04 02:19:01 PM]  - Fates.TERMINATE_BORDER: 117 (of 242)\n",
      "[INFO][2023/05/04 02:19:01 PM]  - Fates.TERMINATE_BACK: 482 (of 601)\n",
      "[INFO][2023/05/04 02:19:01 PM]  - Fates.TERMINATE_LAZY: 902 (of 2597)\n",
      "[INFO][2023/05/04 02:19:01 PM]  - TOTAL: 11809 hypotheses\n",
      "[INFO][2023/05/04 02:19:01 PM] Completed optimization with 2427 tracks\n",
      "[INFO][2023/05/04 02:19:01 PM] Ending BayesianTracker session\n"
     ]
    },
    {
     "name": "stdout",
     "output_type": "stream",
     "text": [
      "GLPK Integer Optimizer 5.0\n",
      "13760 rows, 11809 columns, 16738 non-zeros\n",
      "11809 integer variables, all of which are binary\n",
      "Preprocessing...\n",
      "6880 rows, 11809 columns, 16738 non-zeros\n",
      "11809 integer variables, all of which are binary\n",
      "Scaling...\n",
      " A: min|aij| =  1.000e+00  max|aij| =  1.000e+00  ratio =  1.000e+00\n",
      "Problem data seem to be well scaled\n",
      "Constructing initial basis...\n",
      "Size of triangular part is 6880\n",
      "Solving LP relaxation...\n",
      "GLPK Simplex Optimizer 5.0\n",
      "6880 rows, 11809 columns, 16738 non-zeros\n",
      "*     0: obj =   3.533707410e+04 inf =   0.000e+00 (2892)\n",
      "Perturbing LP to avoid stalling [1318]...\n",
      "Removing LP perturbation [2919]...\n",
      "*  2919: obj =   1.817518168e+04 inf =   0.000e+00 (0)\n",
      "OPTIMAL LP SOLUTION FOUND\n",
      "Integer optimization begins...\n",
      "Long-step dual simplex will be used\n",
      "+  2919: mip =     not found yet >=              -inf        (1; 0)\n",
      "+  2919: >>>>>   1.817518168e+04 >=   1.817518168e+04   0.0% (1; 0)\n",
      "+  2919: mip =   1.817518168e+04 >=     tree is empty   0.0% (0; 1)\n",
      "INTEGER OPTIMAL SOLUTION FOUND\n"
     ]
    },
    {
     "name": "stderr",
     "output_type": "stream",
     "text": [
      "[INFO][2023/05/04 02:19:01 PM] Opening HDF file: /mnt/DATA/macrohet/labels/relocalisation/thresh_(4, 4).h5...\n",
      "[INFO][2023/05/04 02:19:01 PM] Writing objects/obj_type_1\n",
      "[INFO][2023/05/04 02:19:01 PM] Writing labels/obj_type_1\n",
      "[INFO][2023/05/04 02:19:01 PM] Loading objects/obj_type_1 (27781, 5) (27781 filtered: None)\n",
      "[INFO][2023/05/04 02:19:02 PM] Writing properties/obj_type_1/area (27781,)\n",
      "[INFO][2023/05/04 02:19:02 PM] Writing properties/obj_type_1/major_axis_length (27781,)\n",
      "[INFO][2023/05/04 02:19:02 PM] Writing properties/obj_type_1/minor_axis_length (27781,)\n",
      "[INFO][2023/05/04 02:19:02 PM] Writing properties/obj_type_1/orientation (27781,)\n",
      "[INFO][2023/05/04 02:19:02 PM] Writing properties/obj_type_1/mean_intensity (27781, 4)\n",
      "[INFO][2023/05/04 02:19:02 PM] Writing tracks/obj_type_1\n",
      "[INFO][2023/05/04 02:19:02 PM] Writing dummies/obj_type_1\n",
      "[INFO][2023/05/04 02:19:02 PM] Writing LBEP/obj_type_1\n",
      "[INFO][2023/05/04 02:19:02 PM] Writing fates/obj_type_1\n",
      "[INFO][2023/05/04 02:19:38 PM] Closing HDF file: /mnt/DATA/macrohet/labels/relocalisation/thresh_(4, 4).h5\n"
     ]
    },
    {
     "name": "stdout",
     "output_type": "stream",
     "text": [
      "Checking time indices: (4, 4, [0, 1, 2, 3, 4, 5, 6, 7, 8, 9])\n"
     ]
    },
    {
     "name": "stderr",
     "output_type": "stream",
     "text": [
      "[INFO][2023/05/04 02:19:38 PM] Opening HDF file: /mnt/DATA/macrohet/labels/full_localisation/(4, 5)_objs_masks_tracks.h5...\n",
      "[INFO][2023/05/04 02:19:58 PM] Loading segmentation (75, 6048, 6048)\n",
      "[INFO][2023/05/04 02:19:58 PM] Closing HDF file: /mnt/DATA/macrohet/labels/full_localisation/(4, 5)_objs_masks_tracks.h5\n"
     ]
    },
    {
     "data": {
      "application/vnd.jupyter.widget-view+json": {
       "model_id": "",
       "version_major": 2,
       "version_minor": 0
      },
      "text/plain": [
       "Otsu segmenting:   0%|          | 0/75 [00:00<?, ?it/s]"
      ]
     },
     "metadata": {},
     "output_type": "display_data"
    },
    {
     "name": "stderr",
     "output_type": "stream",
     "text": [
      "[INFO][2023/05/04 02:28:14 PM] Localizing objects from segmentation...\n",
      "100%|█████████████████████████████████████████████████████████████████████| 75/75 [24:19<00:00, 19.47s/it]\n",
      "[INFO][2023/05/04 02:52:33 PM] Objects are of type: <class 'dict'>\n",
      "[INFO][2023/05/04 02:52:34 PM] ...Found 50318 objects in 75 frames.\n",
      "[INFO][2023/05/04 02:52:34 PM] Loaded btrack: /home/dayn/analysis/btrack/btrack/libs/libtracker.so\n",
      "[INFO][2023/05/04 02:52:34 PM] Starting BayesianTracker session\n",
      "[INFO][2023/05/04 02:52:34 PM] Loading configuration file: /home/dayn/analysis/btrack/models/particle_config_pnassign.json\n",
      "[INFO][2023/05/04 02:52:34 PM] Objects are of type: <class 'list'>\n",
      "[INFO][2023/05/04 02:52:35 PM] Starting tracking... \n",
      "[INFO][2023/05/04 02:52:35 PM] Update using: ['VISUAL', 'MOTION']\n",
      "[INFO][2023/05/04 02:52:35 PM] Tracking objects in frames 0 to 24 (of 75)...\n",
      "[INFO][2023/05/04 02:52:40 PM]  - Timing (Bayesian updates: 59.64ms, Linking: 3.24ms)\n",
      "[INFO][2023/05/04 02:52:40 PM]  - Probabilities (Link: 1.00000, Lost: 1.00000)\n",
      "[INFO][2023/05/04 02:52:40 PM]  - Stats (Active: 629, Lost: 2651, Conflicts resolved: 3809)\n",
      "[INFO][2023/05/04 02:52:40 PM] Tracking objects in frames 25 to 49 (of 75)...\n",
      "[INFO][2023/05/04 02:52:48 PM]  - Timing (Bayesian updates: 97.90ms, Linking: 4.98ms)\n",
      "[INFO][2023/05/04 02:52:48 PM]  - Probabilities (Link: 1.00000, Lost: 0.82954)\n",
      "[INFO][2023/05/04 02:52:48 PM]  - Stats (Active: 767, Lost: 4684, Conflicts resolved: 6860)\n",
      "[INFO][2023/05/04 02:52:48 PM] Tracking objects in frames 50 to 74 (of 75)...\n",
      "[INFO][2023/05/04 02:52:54 PM]  - Timing (Bayesian updates: 102.08ms, Linking: 4.68ms)\n",
      "[INFO][2023/05/04 02:52:54 PM]  - Probabilities (Link: 1.00000, Lost: 0.53158)\n",
      "[INFO][2023/05/04 02:52:54 PM] SUCCESS.\n",
      "[INFO][2023/05/04 02:52:54 PM]  - Found 3003 tracks in 75 frames (in 0.0s)\n",
      "[INFO][2023/05/04 02:52:54 PM]  - Inserted 6228 dummy objects to fill tracking gaps\n",
      "[INFO][2023/05/04 02:52:54 PM] Loading hypothesis model: particle_hypothesis\n",
      "[INFO][2023/05/04 02:52:54 PM] Calculating hypotheses (relax: True)...\n",
      "[INFO][2023/05/04 02:52:54 PM] Setting up constraints matrix for global optimisation...\n",
      "[INFO][2023/05/04 02:52:54 PM] Using GLPK options: {'tm_lim': 60000}...\n",
      "[INFO][2023/05/04 02:52:54 PM] Optimizing...\n",
      "[INFO][2023/05/04 02:52:55 PM] Optimization complete. (Solution: optimal)\n",
      "[INFO][2023/05/04 02:52:56 PM]  - Fates.FALSE_POSITIVE: 733 (of 3003)\n",
      "[INFO][2023/05/04 02:52:56 PM]  - Fates.LINK: 912 (of 1294)\n",
      "[INFO][2023/05/04 02:52:56 PM]  - Fates.INITIALIZE_BORDER: 89 (of 216)\n",
      "[INFO][2023/05/04 02:52:56 PM]  - Fates.INITIALIZE_FRONT: 571 (of 832)\n",
      "[INFO][2023/05/04 02:52:56 PM]  - Fates.INITIALIZE_LAZY: 698 (of 1955)\n",
      "[INFO][2023/05/04 02:52:56 PM]  - Fates.TERMINATE_BORDER: 86 (of 218)\n",
      "[INFO][2023/05/04 02:52:56 PM]  - Fates.TERMINATE_BACK: 485 (of 540)\n",
      "[INFO][2023/05/04 02:52:56 PM]  - Fates.TERMINATE_LAZY: 787 (of 2245)\n",
      "[INFO][2023/05/04 02:52:56 PM]  - TOTAL: 10303 hypotheses\n",
      "[INFO][2023/05/04 02:52:56 PM] Completed optimization with 2091 tracks\n"
     ]
    },
    {
     "name": "stdout",
     "output_type": "stream",
     "text": [
      "GLPK Integer Optimizer 5.0\n",
      "12012 rows, 10303 columns, 14600 non-zeros\n",
      "10303 integer variables, all of which are binary\n",
      "Preprocessing...\n",
      "6006 rows, 10303 columns, 14600 non-zeros\n",
      "10303 integer variables, all of which are binary\n",
      "Scaling...\n",
      " A: min|aij| =  1.000e+00  max|aij| =  1.000e+00  ratio =  1.000e+00\n",
      "Problem data seem to be well scaled\n",
      "Constructing initial basis...\n",
      "Size of triangular part is 6006\n",
      "Solving LP relaxation...\n",
      "GLPK Simplex Optimizer 5.0\n",
      "6006 rows, 10303 columns, 14600 non-zeros\n",
      "*     0: obj =   3.018197725e+04 inf =   0.000e+00 (2421)\n",
      "Perturbing LP to avoid stalling [1147]...\n",
      "Removing LP perturbation [2428]...\n",
      "*  2428: obj =   1.563877205e+04 inf =   0.000e+00 (0)\n",
      "OPTIMAL LP SOLUTION FOUND\n",
      "Integer optimization begins...\n",
      "Long-step dual simplex will be used\n",
      "+  2428: mip =     not found yet >=              -inf        (1; 0)\n",
      "+  2428: >>>>>   1.563877205e+04 >=   1.563877205e+04   0.0% (1; 0)\n",
      "+  2428: mip =   1.563877205e+04 >=     tree is empty   0.0% (0; 1)\n",
      "INTEGER OPTIMAL SOLUTION FOUND\n"
     ]
    },
    {
     "name": "stderr",
     "output_type": "stream",
     "text": [
      "[INFO][2023/05/04 02:52:56 PM] Ending BayesianTracker session\n",
      "[INFO][2023/05/04 02:52:56 PM] Opening HDF file: /mnt/DATA/macrohet/labels/relocalisation/thresh_(4, 5).h5...\n",
      "[INFO][2023/05/04 02:52:57 PM] Writing objects/obj_type_1\n",
      "[INFO][2023/05/04 02:52:57 PM] Writing labels/obj_type_1\n",
      "[INFO][2023/05/04 02:52:57 PM] Loading objects/obj_type_1 (32497, 5) (32497 filtered: None)\n",
      "[INFO][2023/05/04 02:52:57 PM] Writing properties/obj_type_1/area (32497,)\n",
      "[INFO][2023/05/04 02:52:57 PM] Writing properties/obj_type_1/major_axis_length (32497,)\n",
      "[INFO][2023/05/04 02:52:57 PM] Writing properties/obj_type_1/minor_axis_length (32497,)\n",
      "[INFO][2023/05/04 02:52:57 PM] Writing properties/obj_type_1/orientation (32497,)\n",
      "[INFO][2023/05/04 02:52:58 PM] Writing properties/obj_type_1/mean_intensity (32497, 4)\n",
      "[INFO][2023/05/04 02:52:58 PM] Writing tracks/obj_type_1\n",
      "[INFO][2023/05/04 02:52:58 PM] Writing dummies/obj_type_1\n",
      "[INFO][2023/05/04 02:52:58 PM] Writing LBEP/obj_type_1\n",
      "[INFO][2023/05/04 02:52:58 PM] Writing fates/obj_type_1\n",
      "[INFO][2023/05/04 02:53:40 PM] Closing HDF file: /mnt/DATA/macrohet/labels/relocalisation/thresh_(4, 5).h5\n"
     ]
    },
    {
     "name": "stdout",
     "output_type": "stream",
     "text": [
      "Checking time indices: (4, 5, [0])\n"
     ]
    },
    {
     "name": "stderr",
     "output_type": "stream",
     "text": [
      "[INFO][2023/05/04 02:53:41 PM] Opening HDF file: /mnt/DATA/macrohet/labels/full_localisation/(4, 6)_objs_masks_tracks.h5...\n",
      "[INFO][2023/05/04 02:54:10 PM] Loading segmentation (75, 6048, 6048)\n",
      "[INFO][2023/05/04 02:54:10 PM] Closing HDF file: /mnt/DATA/macrohet/labels/full_localisation/(4, 6)_objs_masks_tracks.h5\n"
     ]
    },
    {
     "data": {
      "application/vnd.jupyter.widget-view+json": {
       "model_id": "",
       "version_major": 2,
       "version_minor": 0
      },
      "text/plain": [
       "Otsu segmenting:   0%|          | 0/75 [00:00<?, ?it/s]"
      ]
     },
     "metadata": {},
     "output_type": "display_data"
    },
    {
     "name": "stderr",
     "output_type": "stream",
     "text": [
      "[INFO][2023/05/04 03:03:50 PM] Localizing objects from segmentation...\n",
      "100%|█████████████████████████████████████████████████████████████████████| 75/75 [18:40<00:00, 14.94s/it]\n",
      "[INFO][2023/05/04 03:22:30 PM] Objects are of type: <class 'dict'>\n",
      "[INFO][2023/05/04 03:22:31 PM] ...Found 44415 objects in 75 frames.\n",
      "[INFO][2023/05/04 03:22:31 PM] Loaded btrack: /home/dayn/analysis/btrack/btrack/libs/libtracker.so\n",
      "[INFO][2023/05/04 03:22:31 PM] Starting BayesianTracker session\n",
      "[INFO][2023/05/04 03:22:31 PM] Loading configuration file: /home/dayn/analysis/btrack/models/particle_config_pnassign.json\n",
      "[INFO][2023/05/04 03:22:31 PM] Objects are of type: <class 'list'>\n",
      "[INFO][2023/05/04 03:22:31 PM] Starting tracking... \n",
      "[INFO][2023/05/04 03:22:31 PM] Update using: ['VISUAL', 'MOTION']\n",
      "[INFO][2023/05/04 03:22:32 PM] Tracking objects in frames 0 to 24 (of 75)...\n",
      "[INFO][2023/05/04 03:22:38 PM]  - Timing (Bayesian updates: 63.22ms, Linking: 3.07ms)\n",
      "[INFO][2023/05/04 03:22:38 PM]  - Probabilities (Link: 1.00000, Lost: 1.00000)\n",
      "[INFO][2023/05/04 03:22:38 PM]  - Stats (Active: 632, Lost: 2862, Conflicts resolved: 4119)\n",
      "[INFO][2023/05/04 03:22:38 PM] Tracking objects in frames 25 to 49 (of 75)...\n",
      "[INFO][2023/05/04 03:22:44 PM]  - Timing (Bayesian updates: 98.89ms, Linking: 3.62ms)\n",
      "[INFO][2023/05/04 03:22:44 PM]  - Probabilities (Link: 1.00000, Lost: 0.95773)\n",
      "[INFO][2023/05/04 03:22:44 PM]  - Stats (Active: 737, Lost: 5122, Conflicts resolved: 7657)\n",
      "[INFO][2023/05/04 03:22:44 PM] Tracking objects in frames 50 to 74 (of 75)...\n",
      "[INFO][2023/05/04 03:22:50 PM]  - Timing (Bayesian updates: 71.53ms, Linking: 3.70ms)\n",
      "[INFO][2023/05/04 03:22:50 PM]  - Probabilities (Link: 1.00000, Lost: 1.00000)\n",
      "[INFO][2023/05/04 03:22:50 PM] SUCCESS.\n",
      "[INFO][2023/05/04 03:22:50 PM]  - Found 3403 tracks in 75 frames (in 0.0s)\n",
      "[INFO][2023/05/04 03:22:50 PM]  - Inserted 6908 dummy objects to fill tracking gaps\n",
      "[INFO][2023/05/04 03:22:50 PM] Loading hypothesis model: particle_hypothesis\n",
      "[INFO][2023/05/04 03:22:50 PM] Calculating hypotheses (relax: True)...\n",
      "[INFO][2023/05/04 03:22:50 PM] Setting up constraints matrix for global optimisation...\n",
      "[INFO][2023/05/04 03:22:50 PM] Using GLPK options: {'tm_lim': 60000}...\n",
      "[INFO][2023/05/04 03:22:50 PM] Optimizing...\n",
      "[INFO][2023/05/04 03:22:52 PM] Optimization complete. (Solution: optimal)\n",
      "[INFO][2023/05/04 03:22:52 PM]  - Fates.FALSE_POSITIVE: 840 (of 3403)\n",
      "[INFO][2023/05/04 03:22:52 PM]  - Fates.LINK: 1087 (of 1572)\n",
      "[INFO][2023/05/04 03:22:52 PM]  - Fates.INITIALIZE_BORDER: 115 (of 249)\n",
      "[INFO][2023/05/04 03:22:52 PM]  - Fates.INITIALIZE_FRONT: 576 (of 809)\n",
      "[INFO][2023/05/04 03:22:52 PM]  - Fates.INITIALIZE_LAZY: 785 (of 2345)\n",
      "[INFO][2023/05/04 03:22:52 PM]  - Fates.TERMINATE_BORDER: 125 (of 266)\n",
      "[INFO][2023/05/04 03:22:52 PM]  - Fates.TERMINATE_BACK: 528 (of 626)\n",
      "[INFO][2023/05/04 03:22:52 PM]  - Fates.TERMINATE_LAZY: 823 (of 2511)\n",
      "[INFO][2023/05/04 03:22:52 PM]  - TOTAL: 11781 hypotheses\n",
      "[INFO][2023/05/04 03:22:52 PM] Completed optimization with 2316 tracks\n",
      "[INFO][2023/05/04 03:22:52 PM] Ending BayesianTracker session\n"
     ]
    },
    {
     "name": "stdout",
     "output_type": "stream",
     "text": [
      "GLPK Integer Optimizer 5.0\n",
      "13612 rows, 11781 columns, 16756 non-zeros\n",
      "11781 integer variables, all of which are binary\n",
      "Preprocessing...\n",
      "6806 rows, 11781 columns, 16756 non-zeros\n",
      "11781 integer variables, all of which are binary\n",
      "Scaling...\n",
      " A: min|aij| =  1.000e+00  max|aij| =  1.000e+00  ratio =  1.000e+00\n",
      "Problem data seem to be well scaled\n",
      "Constructing initial basis...\n",
      "Size of triangular part is 6806\n",
      "Solving LP relaxation...\n",
      "GLPK Simplex Optimizer 5.0\n",
      "6806 rows, 11781 columns, 16756 non-zeros\n",
      "*     0: obj =   3.468136448e+04 inf =   0.000e+00 (2911)\n",
      "Perturbing LP to avoid stalling [1301]...\n",
      "Removing LP perturbation [2906]...\n",
      "*  2906: obj =   1.736337204e+04 inf =   0.000e+00 (0)\n",
      "OPTIMAL LP SOLUTION FOUND\n",
      "Integer optimization begins...\n",
      "Long-step dual simplex will be used\n",
      "+  2906: mip =     not found yet >=              -inf        (1; 0)\n",
      "+  2906: >>>>>   1.736337204e+04 >=   1.736337204e+04   0.0% (1; 0)\n",
      "+  2906: mip =   1.736337204e+04 >=     tree is empty   0.0% (0; 1)\n",
      "INTEGER OPTIMAL SOLUTION FOUND\n"
     ]
    },
    {
     "name": "stderr",
     "output_type": "stream",
     "text": [
      "[INFO][2023/05/04 03:22:52 PM] Opening HDF file: /mnt/DATA/macrohet/labels/relocalisation/thresh_(4, 6).h5...\n",
      "[INFO][2023/05/04 03:22:52 PM] Writing objects/obj_type_1\n",
      "[INFO][2023/05/04 03:22:52 PM] Writing labels/obj_type_1\n",
      "[INFO][2023/05/04 03:22:53 PM] Loading objects/obj_type_1 (32004, 5) (32004 filtered: None)\n",
      "[INFO][2023/05/04 03:22:53 PM] Writing properties/obj_type_1/area (32004,)\n",
      "[INFO][2023/05/04 03:22:53 PM] Writing properties/obj_type_1/major_axis_length (32004,)\n",
      "[INFO][2023/05/04 03:22:53 PM] Writing properties/obj_type_1/minor_axis_length (32004,)\n",
      "[INFO][2023/05/04 03:22:53 PM] Writing properties/obj_type_1/orientation (32004,)\n",
      "[INFO][2023/05/04 03:22:53 PM] Writing properties/obj_type_1/mean_intensity (32004, 4)\n",
      "[INFO][2023/05/04 03:22:53 PM] Writing tracks/obj_type_1\n",
      "[INFO][2023/05/04 03:22:53 PM] Writing dummies/obj_type_1\n",
      "[INFO][2023/05/04 03:22:53 PM] Writing LBEP/obj_type_1\n",
      "[INFO][2023/05/04 03:22:53 PM] Writing fates/obj_type_1\n",
      "[INFO][2023/05/04 03:23:30 PM] Closing HDF file: /mnt/DATA/macrohet/labels/relocalisation/thresh_(4, 6).h5\n"
     ]
    },
    {
     "name": "stdout",
     "output_type": "stream",
     "text": [
      "Checking time indices: (4, 6, [0, 1, 2, 3, 4, 5, 6, 7, 8, 9, 10, 11, 12, 13, 14, 15, 16, 17, 18, 19, 20, 21, 22, 23, 24, 25, 26, 27, 28, 29, 30, 31, 32, 33, 34, 35, 36, 37, 38, 39, 40, 41, 42, 43, 44, 45, 46, 47, 48, 49, 50, 51, 52, 53, 54, 55, 56, 57, 58, 59, 60, 61, 62, 63, 64, 65, 66, 67, 68, 69, 70, 71, 72, 73, 74])\n"
     ]
    },
    {
     "name": "stderr",
     "output_type": "stream",
     "text": [
      "[INFO][2023/05/04 03:23:31 PM] Opening HDF file: /mnt/DATA/macrohet/labels/full_localisation/(4, 7)_objs_masks_tracks.h5...\n",
      "[INFO][2023/05/04 03:24:00 PM] Loading segmentation (75, 6048, 6048)\n",
      "[INFO][2023/05/04 03:24:00 PM] Closing HDF file: /mnt/DATA/macrohet/labels/full_localisation/(4, 7)_objs_masks_tracks.h5\n"
     ]
    },
    {
     "data": {
      "application/vnd.jupyter.widget-view+json": {
       "model_id": "",
       "version_major": 2,
       "version_minor": 0
      },
      "text/plain": [
       "Otsu segmenting:   0%|          | 0/75 [00:00<?, ?it/s]"
      ]
     },
     "metadata": {},
     "output_type": "display_data"
    },
    {
     "name": "stderr",
     "output_type": "stream",
     "text": [
      "[INFO][2023/05/04 03:32:10 PM] Localizing objects from segmentation...\n",
      "100%|█████████████████████████████████████████████████████████████████████| 75/75 [17:46<00:00, 14.22s/it]\n",
      "[INFO][2023/05/04 03:49:57 PM] Objects are of type: <class 'dict'>\n",
      "[INFO][2023/05/04 03:49:58 PM] ...Found 47373 objects in 75 frames.\n",
      "[INFO][2023/05/04 03:49:58 PM] Loaded btrack: /home/dayn/analysis/btrack/btrack/libs/libtracker.so\n",
      "[INFO][2023/05/04 03:49:58 PM] Starting BayesianTracker session\n",
      "[INFO][2023/05/04 03:49:58 PM] Loading configuration file: /home/dayn/analysis/btrack/models/particle_config_pnassign.json\n",
      "[INFO][2023/05/04 03:49:58 PM] Objects are of type: <class 'list'>\n",
      "[INFO][2023/05/04 03:49:58 PM] Starting tracking... \n",
      "[INFO][2023/05/04 03:49:58 PM] Update using: ['VISUAL', 'MOTION']\n",
      "[INFO][2023/05/04 03:49:58 PM] Tracking objects in frames 0 to 24 (of 75)...\n",
      "[INFO][2023/05/04 03:50:04 PM]  - Timing (Bayesian updates: 59.92ms, Linking: 3.00ms)\n",
      "[INFO][2023/05/04 03:50:04 PM]  - Probabilities (Link: 0.69717, Lost: 0.99999)\n",
      "[INFO][2023/05/04 03:50:04 PM]  - Stats (Active: 663, Lost: 2795, Conflicts resolved: 4002)\n",
      "[INFO][2023/05/04 03:50:04 PM] Tracking objects in frames 25 to 49 (of 75)...\n",
      "[INFO][2023/05/04 03:50:08 PM]  - Timing (Bayesian updates: 48.71ms, Linking: 2.52ms)\n",
      "[INFO][2023/05/04 03:50:08 PM]  - Probabilities (Link: 0.99999, Lost: 0.87179)\n",
      "[INFO][2023/05/04 03:50:08 PM]  - Stats (Active: 615, Lost: 5206, Conflicts resolved: 7596)\n",
      "[INFO][2023/05/04 03:50:08 PM] Tracking objects in frames 50 to 74 (of 75)...\n",
      "[INFO][2023/05/04 03:50:11 PM]  - Timing (Bayesian updates: 45.99ms, Linking: 2.30ms)\n",
      "[INFO][2023/05/04 03:50:11 PM]  - Probabilities (Link: 1.00000, Lost: 0.99918)\n",
      "[INFO][2023/05/04 03:50:11 PM] SUCCESS.\n",
      "[INFO][2023/05/04 03:50:11 PM]  - Found 3262 tracks in 75 frames (in 0.0s)\n",
      "[INFO][2023/05/04 03:50:11 PM]  - Inserted 7052 dummy objects to fill tracking gaps\n",
      "[INFO][2023/05/04 03:50:11 PM] Loading hypothesis model: particle_hypothesis\n",
      "[INFO][2023/05/04 03:50:11 PM] Calculating hypotheses (relax: True)...\n",
      "[INFO][2023/05/04 03:50:11 PM] Setting up constraints matrix for global optimisation...\n",
      "[INFO][2023/05/04 03:50:11 PM] Using GLPK options: {'tm_lim': 60000}...\n",
      "[INFO][2023/05/04 03:50:11 PM] Optimizing...\n",
      "[INFO][2023/05/04 03:50:12 PM] Optimization complete. (Solution: optimal)\n",
      "[INFO][2023/05/04 03:50:12 PM]  - Fates.FALSE_POSITIVE: 958 (of 3262)\n",
      "[INFO][2023/05/04 03:50:12 PM]  - Fates.LINK: 907 (of 1317)\n",
      "[INFO][2023/05/04 03:50:12 PM]  - Fates.INITIALIZE_BORDER: 98 (of 230)\n",
      "[INFO][2023/05/04 03:50:12 PM]  - Fates.INITIALIZE_FRONT: 590 (of 815)\n",
      "[INFO][2023/05/04 03:50:12 PM]  - Fates.INITIALIZE_LAZY: 709 (of 2217)\n",
      "[INFO][2023/05/04 03:50:12 PM]  - Fates.TERMINATE_BORDER: 113 (of 241)\n",
      "[INFO][2023/05/04 03:50:12 PM]  - Fates.TERMINATE_BACK: 424 (of 566)\n",
      "[INFO][2023/05/04 03:50:12 PM]  - Fates.TERMINATE_LAZY: 860 (of 2455)\n",
      "[INFO][2023/05/04 03:50:12 PM]  - TOTAL: 11103 hypotheses\n",
      "[INFO][2023/05/04 03:50:12 PM] Completed optimization with 2355 tracks\n",
      "[INFO][2023/05/04 03:50:12 PM] Ending BayesianTracker session\n"
     ]
    },
    {
     "name": "stdout",
     "output_type": "stream",
     "text": [
      "GLPK Integer Optimizer 5.0\n",
      "13048 rows, 11103 columns, 15682 non-zeros\n",
      "11103 integer variables, all of which are binary\n",
      "Preprocessing...\n",
      "6524 rows, 11103 columns, 15682 non-zeros\n",
      "11103 integer variables, all of which are binary\n",
      "Scaling...\n",
      " A: min|aij| =  1.000e+00  max|aij| =  1.000e+00  ratio =  1.000e+00\n",
      "Problem data seem to be well scaled\n",
      "Constructing initial basis...\n",
      "Size of triangular part is 6524\n",
      "Solving LP relaxation...\n",
      "GLPK Simplex Optimizer 5.0\n",
      "6524 rows, 11103 columns, 15682 non-zeros\n",
      "*     0: obj =   3.351120757e+04 inf =   0.000e+00 (2718)\n",
      "Perturbing LP to avoid stalling [1242]...\n",
      "Removing LP perturbation [2704]...\n",
      "*  2704: obj =   1.730176763e+04 inf =   0.000e+00 (0)\n",
      "OPTIMAL LP SOLUTION FOUND\n",
      "Integer optimization begins...\n",
      "Long-step dual simplex will be used\n",
      "+  2704: mip =     not found yet >=              -inf        (1; 0)\n",
      "+  2704: >>>>>   1.730176763e+04 >=   1.730176763e+04   0.0% (1; 0)\n",
      "+  2704: mip =   1.730176763e+04 >=     tree is empty   0.0% (0; 1)\n",
      "INTEGER OPTIMAL SOLUTION FOUND\n"
     ]
    },
    {
     "name": "stderr",
     "output_type": "stream",
     "text": [
      "[INFO][2023/05/04 03:50:13 PM] Opening HDF file: /mnt/DATA/macrohet/labels/relocalisation/thresh_(4, 7).h5...\n",
      "[INFO][2023/05/04 03:50:13 PM] Writing objects/obj_type_1\n",
      "[INFO][2023/05/04 03:50:13 PM] Writing labels/obj_type_1\n",
      "[INFO][2023/05/04 03:50:13 PM] Loading objects/obj_type_1 (27577, 5) (27577 filtered: None)\n",
      "[INFO][2023/05/04 03:50:13 PM] Writing properties/obj_type_1/area (27577,)\n",
      "[INFO][2023/05/04 03:50:13 PM] Writing properties/obj_type_1/major_axis_length (27577,)\n",
      "[INFO][2023/05/04 03:50:13 PM] Writing properties/obj_type_1/minor_axis_length (27577,)\n",
      "[INFO][2023/05/04 03:50:13 PM] Writing properties/obj_type_1/orientation (27577,)\n",
      "[INFO][2023/05/04 03:50:13 PM] Writing properties/obj_type_1/mean_intensity (27577, 4)\n",
      "[INFO][2023/05/04 03:50:13 PM] Writing tracks/obj_type_1\n",
      "[INFO][2023/05/04 03:50:13 PM] Writing dummies/obj_type_1\n",
      "[INFO][2023/05/04 03:50:13 PM] Writing LBEP/obj_type_1\n",
      "[INFO][2023/05/04 03:50:13 PM] Writing fates/obj_type_1\n",
      "[INFO][2023/05/04 03:50:48 PM] Closing HDF file: /mnt/DATA/macrohet/labels/relocalisation/thresh_(4, 7).h5\n"
     ]
    },
    {
     "name": "stdout",
     "output_type": "stream",
     "text": [
      "Checking time indices: (4, 7, [0])\n"
     ]
    },
    {
     "name": "stderr",
     "output_type": "stream",
     "text": [
      "[INFO][2023/05/04 03:50:49 PM] Opening HDF file: /mnt/DATA/macrohet/labels/full_localisation/(4, 8)_objs_masks_tracks.h5...\n",
      "[INFO][2023/05/04 03:51:15 PM] Loading segmentation (75, 6048, 6048)\n",
      "[INFO][2023/05/04 03:51:15 PM] Closing HDF file: /mnt/DATA/macrohet/labels/full_localisation/(4, 8)_objs_masks_tracks.h5\n"
     ]
    },
    {
     "data": {
      "application/vnd.jupyter.widget-view+json": {
       "model_id": "",
       "version_major": 2,
       "version_minor": 0
      },
      "text/plain": [
       "Otsu segmenting:   0%|          | 0/75 [00:00<?, ?it/s]"
      ]
     },
     "metadata": {},
     "output_type": "display_data"
    },
    {
     "name": "stderr",
     "output_type": "stream",
     "text": [
      "[INFO][2023/05/04 03:59:28 PM] Localizing objects from segmentation...\n",
      "100%|█████████████████████████████████████████████████████████████████████| 75/75 [17:18<00:00, 13.84s/it]\n",
      "[INFO][2023/05/04 04:16:46 PM] Objects are of type: <class 'dict'>\n",
      "[INFO][2023/05/04 04:16:46 PM] ...Found 41289 objects in 75 frames.\n",
      "[INFO][2023/05/04 04:16:46 PM] Loaded btrack: /home/dayn/analysis/btrack/btrack/libs/libtracker.so\n",
      "[INFO][2023/05/04 04:16:46 PM] Starting BayesianTracker session\n",
      "[INFO][2023/05/04 04:16:46 PM] Loading configuration file: /home/dayn/analysis/btrack/models/particle_config_pnassign.json\n",
      "[INFO][2023/05/04 04:16:46 PM] Objects are of type: <class 'list'>\n",
      "[INFO][2023/05/04 04:16:47 PM] Starting tracking... \n",
      "[INFO][2023/05/04 04:16:47 PM] Update using: ['VISUAL', 'MOTION']\n",
      "[INFO][2023/05/04 04:16:47 PM] Tracking objects in frames 0 to 24 (of 75)...\n",
      "[INFO][2023/05/04 04:16:52 PM]  - Timing (Bayesian updates: 69.09ms, Linking: 3.35ms)\n",
      "[INFO][2023/05/04 04:16:52 PM]  - Probabilities (Link: 0.99996, Lost: 0.99975)\n",
      "[INFO][2023/05/04 04:16:52 PM]  - Stats (Active: 689, Lost: 2624, Conflicts resolved: 3703)\n",
      "[INFO][2023/05/04 04:16:52 PM] Tracking objects in frames 25 to 49 (of 75)...\n",
      "[INFO][2023/05/04 04:16:57 PM]  - Timing (Bayesian updates: 66.91ms, Linking: 2.98ms)\n",
      "[INFO][2023/05/04 04:16:57 PM]  - Probabilities (Link: 1.00000, Lost: 1.00000)\n",
      "[INFO][2023/05/04 04:16:57 PM]  - Stats (Active: 666, Lost: 4993, Conflicts resolved: 7311)\n",
      "[INFO][2023/05/04 04:16:57 PM] Tracking objects in frames 50 to 74 (of 75)...\n",
      "[INFO][2023/05/04 04:17:01 PM]  - Timing (Bayesian updates: 48.40ms, Linking: 2.50ms)\n",
      "[INFO][2023/05/04 04:17:01 PM]  - Probabilities (Link: 1.00000, Lost: 1.00000)\n",
      "[INFO][2023/05/04 04:17:01 PM] SUCCESS.\n",
      "[INFO][2023/05/04 04:17:01 PM]  - Found 3163 tracks in 75 frames (in 0.0s)\n",
      "[INFO][2023/05/04 04:17:01 PM]  - Inserted 6940 dummy objects to fill tracking gaps\n",
      "[INFO][2023/05/04 04:17:01 PM] Loading hypothesis model: particle_hypothesis\n",
      "[INFO][2023/05/04 04:17:01 PM] Calculating hypotheses (relax: True)...\n",
      "[INFO][2023/05/04 04:17:01 PM] Setting up constraints matrix for global optimisation...\n",
      "[INFO][2023/05/04 04:17:01 PM] Using GLPK options: {'tm_lim': 60000}...\n",
      "[INFO][2023/05/04 04:17:01 PM] Optimizing...\n",
      "[INFO][2023/05/04 04:17:02 PM] Optimization complete. (Solution: optimal)\n",
      "[INFO][2023/05/04 04:17:02 PM]  - Fates.FALSE_POSITIVE: 755 (of 3163)\n",
      "[INFO][2023/05/04 04:17:02 PM]  - Fates.LINK: 999 (of 1391)\n",
      "[INFO][2023/05/04 04:17:02 PM]  - Fates.INITIALIZE_BORDER: 118 (of 259)\n",
      "[INFO][2023/05/04 04:17:02 PM]  - Fates.INITIALIZE_FRONT: 544 (of 738)\n",
      "[INFO][2023/05/04 04:17:02 PM]  - Fates.INITIALIZE_LAZY: 747 (of 2166)\n",
      "[INFO][2023/05/04 04:17:02 PM]  - Fates.TERMINATE_BORDER: 127 (of 278)\n",
      "[INFO][2023/05/04 04:17:02 PM]  - Fates.TERMINATE_BACK: 451 (of 542)\n",
      "[INFO][2023/05/04 04:17:02 PM]  - Fates.TERMINATE_LAZY: 831 (of 2343)\n",
      "[INFO][2023/05/04 04:17:02 PM]  - TOTAL: 10880 hypotheses\n",
      "[INFO][2023/05/04 04:17:02 PM] Completed optimization with 2164 tracks\n",
      "[INFO][2023/05/04 04:17:02 PM] Ending BayesianTracker session\n"
     ]
    },
    {
     "name": "stdout",
     "output_type": "stream",
     "text": [
      "GLPK Integer Optimizer 5.0\n",
      "12652 rows, 10880 columns, 15434 non-zeros\n",
      "10880 integer variables, all of which are binary\n",
      "Preprocessing...\n",
      "6326 rows, 10880 columns, 15434 non-zeros\n",
      "10880 integer variables, all of which are binary\n",
      "Scaling...\n",
      " A: min|aij| =  1.000e+00  max|aij| =  1.000e+00  ratio =  1.000e+00\n",
      "Problem data seem to be well scaled\n",
      "Constructing initial basis...\n",
      "Size of triangular part is 6326\n",
      "Solving LP relaxation...\n",
      "GLPK Simplex Optimizer 5.0\n",
      "6326 rows, 10880 columns, 15434 non-zeros\n",
      "*     0: obj =   3.246334791e+04 inf =   0.000e+00 (2575)\n",
      "Perturbing LP to avoid stalling [1242]...\n",
      "Removing LP perturbation [2574]...\n",
      "*  2574: obj =   1.662976794e+04 inf =   0.000e+00 (0)\n",
      "OPTIMAL LP SOLUTION FOUND\n",
      "Integer optimization begins...\n",
      "Long-step dual simplex will be used\n",
      "+  2574: mip =     not found yet >=              -inf        (1; 0)\n",
      "+  2574: >>>>>   1.662976794e+04 >=   1.662976794e+04   0.0% (1; 0)\n",
      "+  2574: mip =   1.662976794e+04 >=     tree is empty   0.0% (0; 1)\n",
      "INTEGER OPTIMAL SOLUTION FOUND\n"
     ]
    },
    {
     "name": "stderr",
     "output_type": "stream",
     "text": [
      "[INFO][2023/05/04 04:17:02 PM] Opening HDF file: /mnt/DATA/macrohet/labels/relocalisation/thresh_(4, 8).h5...\n",
      "[INFO][2023/05/04 04:17:03 PM] Writing objects/obj_type_1\n",
      "[INFO][2023/05/04 04:17:03 PM] Writing labels/obj_type_1\n",
      "[INFO][2023/05/04 04:17:03 PM] Loading objects/obj_type_1 (29322, 5) (29322 filtered: None)\n",
      "[INFO][2023/05/04 04:17:03 PM] Writing properties/obj_type_1/area (29322,)\n",
      "[INFO][2023/05/04 04:17:03 PM] Writing properties/obj_type_1/major_axis_length (29322,)\n",
      "[INFO][2023/05/04 04:17:03 PM] Writing properties/obj_type_1/minor_axis_length (29322,)\n",
      "[INFO][2023/05/04 04:17:03 PM] Writing properties/obj_type_1/orientation (29322,)\n",
      "[INFO][2023/05/04 04:17:03 PM] Writing properties/obj_type_1/mean_intensity (29322, 4)\n",
      "[INFO][2023/05/04 04:17:03 PM] Writing tracks/obj_type_1\n",
      "[INFO][2023/05/04 04:17:03 PM] Writing dummies/obj_type_1\n",
      "[INFO][2023/05/04 04:17:03 PM] Writing LBEP/obj_type_1\n",
      "[INFO][2023/05/04 04:17:03 PM] Writing fates/obj_type_1\n",
      "[INFO][2023/05/04 04:17:37 PM] Closing HDF file: /mnt/DATA/macrohet/labels/relocalisation/thresh_(4, 8).h5\n"
     ]
    },
    {
     "name": "stdout",
     "output_type": "stream",
     "text": [
      "Checking time indices: (4, 8, [0, 1, 2, 3, 4, 5, 6, 7, 8, 9, 10, 11])\n"
     ]
    },
    {
     "name": "stderr",
     "output_type": "stream",
     "text": [
      "[INFO][2023/05/04 04:17:38 PM] Opening HDF file: /mnt/DATA/macrohet/labels/full_localisation/(4, 9)_objs_masks_tracks.h5...\n",
      "[INFO][2023/05/04 04:18:09 PM] Loading segmentation (75, 6048, 6048)\n",
      "[INFO][2023/05/04 04:18:09 PM] Closing HDF file: /mnt/DATA/macrohet/labels/full_localisation/(4, 9)_objs_masks_tracks.h5\n"
     ]
    },
    {
     "data": {
      "application/vnd.jupyter.widget-view+json": {
       "model_id": "",
       "version_major": 2,
       "version_minor": 0
      },
      "text/plain": [
       "Otsu segmenting:   0%|          | 0/75 [00:00<?, ?it/s]"
      ]
     },
     "metadata": {},
     "output_type": "display_data"
    },
    {
     "name": "stderr",
     "output_type": "stream",
     "text": [
      "[INFO][2023/05/04 04:26:23 PM] Localizing objects from segmentation...\n",
      "100%|█████████████████████████████████████████████████████████████████████| 75/75 [17:02<00:00, 13.63s/it]\n",
      "[INFO][2023/05/04 04:43:26 PM] Objects are of type: <class 'dict'>\n",
      "[INFO][2023/05/04 04:44:11 PM] ...Found 45885 objects in 75 frames.\n",
      "[INFO][2023/05/04 04:44:11 PM] Loaded btrack: /home/dayn/analysis/btrack/btrack/libs/libtracker.so\n",
      "[INFO][2023/05/04 04:44:11 PM] Starting BayesianTracker session\n",
      "[INFO][2023/05/04 04:44:11 PM] Loading configuration file: /home/dayn/analysis/btrack/models/particle_config_pnassign.json\n",
      "[INFO][2023/05/04 04:44:11 PM] Objects are of type: <class 'list'>\n",
      "[INFO][2023/05/04 04:44:11 PM] Starting tracking... \n",
      "[INFO][2023/05/04 04:44:11 PM] Update using: ['VISUAL', 'MOTION']\n",
      "[INFO][2023/05/04 04:44:11 PM] Tracking objects in frames 0 to 24 (of 75)...\n",
      "[INFO][2023/05/04 04:44:17 PM]  - Timing (Bayesian updates: 68.97ms, Linking: 3.13ms)\n",
      "[INFO][2023/05/04 04:44:17 PM]  - Probabilities (Link: 1.00000, Lost: 1.00000)\n",
      "[INFO][2023/05/04 04:44:17 PM]  - Stats (Active: 655, Lost: 2711, Conflicts resolved: 4051)\n",
      "[INFO][2023/05/04 04:44:17 PM] Tracking objects in frames 25 to 49 (of 75)...\n",
      "[INFO][2023/05/04 04:44:23 PM]  - Timing (Bayesian updates: 86.02ms, Linking: 3.27ms)\n",
      "[INFO][2023/05/04 04:44:23 PM]  - Probabilities (Link: 0.99998, Lost: 0.99998)\n",
      "[INFO][2023/05/04 04:44:23 PM]  - Stats (Active: 734, Lost: 5085, Conflicts resolved: 7695)\n",
      "[INFO][2023/05/04 04:44:23 PM] Tracking objects in frames 50 to 74 (of 75)...\n",
      "[INFO][2023/05/04 04:44:28 PM]  - Timing (Bayesian updates: 72.81ms, Linking: 3.26ms)\n",
      "[INFO][2023/05/04 04:44:28 PM]  - Probabilities (Link: 1.00000, Lost: 0.99999)\n",
      "[INFO][2023/05/04 04:44:28 PM] SUCCESS.\n",
      "[INFO][2023/05/04 04:44:28 PM]  - Found 3422 tracks in 75 frames (in 0.0s)\n",
      "[INFO][2023/05/04 04:44:28 PM]  - Inserted 6887 dummy objects to fill tracking gaps\n",
      "[INFO][2023/05/04 04:44:28 PM] Loading hypothesis model: particle_hypothesis\n",
      "[INFO][2023/05/04 04:44:28 PM] Calculating hypotheses (relax: True)...\n",
      "[INFO][2023/05/04 04:44:28 PM] Setting up constraints matrix for global optimisation...\n",
      "[INFO][2023/05/04 04:44:28 PM] Using GLPK options: {'tm_lim': 60000}...\n",
      "[INFO][2023/05/04 04:44:28 PM] Optimizing...\n",
      "[INFO][2023/05/04 04:44:30 PM] Optimization complete. (Solution: optimal)\n",
      "[INFO][2023/05/04 04:44:30 PM]  - Fates.FALSE_POSITIVE: 853 (of 3422)\n",
      "[INFO][2023/05/04 04:44:30 PM]  - Fates.LINK: 1090 (of 1503)\n",
      "[INFO][2023/05/04 04:44:30 PM]  - Fates.INITIALIZE_BORDER: 118 (of 240)\n",
      "[INFO][2023/05/04 04:44:30 PM]  - Fates.INITIALIZE_FRONT: 591 (of 820)\n",
      "[INFO][2023/05/04 04:44:30 PM]  - Fates.INITIALIZE_LAZY: 770 (of 2362)\n",
      "[INFO][2023/05/04 04:44:30 PM]  - Fates.TERMINATE_BORDER: 127 (of 248)\n",
      "[INFO][2023/05/04 04:44:30 PM]  - Fates.TERMINATE_BACK: 517 (of 606)\n",
      "[INFO][2023/05/04 04:44:30 PM]  - Fates.TERMINATE_LAZY: 835 (of 2568)\n",
      "[INFO][2023/05/04 04:44:30 PM]  - TOTAL: 11769 hypotheses\n",
      "[INFO][2023/05/04 04:44:30 PM] Completed optimization with 2332 tracks\n"
     ]
    },
    {
     "name": "stdout",
     "output_type": "stream",
     "text": [
      "GLPK Integer Optimizer 5.0\n",
      "13688 rows, 11769 columns, 16694 non-zeros\n",
      "11769 integer variables, all of which are binary\n",
      "Preprocessing...\n",
      "6844 rows, 11769 columns, 16694 non-zeros\n",
      "11769 integer variables, all of which are binary\n",
      "Scaling...\n",
      " A: min|aij| =  1.000e+00  max|aij| =  1.000e+00  ratio =  1.000e+00\n",
      "Problem data seem to be well scaled\n",
      "Constructing initial basis...\n",
      "Size of triangular part is 6844\n",
      "Solving LP relaxation...\n",
      "GLPK Simplex Optimizer 5.0\n",
      "6844 rows, 11769 columns, 16694 non-zeros\n",
      "*     0: obj =   3.525217773e+04 inf =   0.000e+00 (2838)\n",
      "Perturbing LP to avoid stalling [1362]...\n",
      "Removing LP perturbation [2847]...\n",
      "*  2847: obj =   1.759549695e+04 inf =   0.000e+00 (0)\n",
      "OPTIMAL LP SOLUTION FOUND\n",
      "Integer optimization begins...\n",
      "Long-step dual simplex will be used\n",
      "+  2847: mip =     not found yet >=              -inf        (1; 0)\n",
      "+  2847: >>>>>   1.759549695e+04 >=   1.759549695e+04   0.0% (1; 0)\n",
      "+  2847: mip =   1.759549695e+04 >=     tree is empty   0.0% (0; 1)\n",
      "INTEGER OPTIMAL SOLUTION FOUND\n"
     ]
    },
    {
     "name": "stderr",
     "output_type": "stream",
     "text": [
      "[INFO][2023/05/04 04:44:30 PM] Ending BayesianTracker session\n",
      "[INFO][2023/05/04 04:44:30 PM] Opening HDF file: /mnt/DATA/macrohet/labels/relocalisation/thresh_(4, 9).h5...\n",
      "[INFO][2023/05/04 04:44:30 PM] Writing objects/obj_type_1\n",
      "[INFO][2023/05/04 04:44:30 PM] Writing labels/obj_type_1\n",
      "[INFO][2023/05/04 04:44:30 PM] Loading objects/obj_type_1 (32251, 5) (32251 filtered: None)\n",
      "[INFO][2023/05/04 04:44:31 PM] Writing properties/obj_type_1/area (32251,)\n",
      "[INFO][2023/05/04 04:44:31 PM] Writing properties/obj_type_1/major_axis_length (32251,)\n",
      "[INFO][2023/05/04 04:44:31 PM] Writing properties/obj_type_1/minor_axis_length (32251,)\n",
      "[INFO][2023/05/04 04:44:31 PM] Writing properties/obj_type_1/orientation (32251,)\n",
      "[INFO][2023/05/04 04:44:31 PM] Writing properties/obj_type_1/mean_intensity (32251, 4)\n",
      "[INFO][2023/05/04 04:44:31 PM] Writing tracks/obj_type_1\n",
      "[INFO][2023/05/04 04:44:31 PM] Writing dummies/obj_type_1\n",
      "[INFO][2023/05/04 04:44:31 PM] Writing LBEP/obj_type_1\n",
      "[INFO][2023/05/04 04:44:31 PM] Writing fates/obj_type_1\n",
      "[INFO][2023/05/04 04:45:06 PM] Closing HDF file: /mnt/DATA/macrohet/labels/relocalisation/thresh_(4, 9).h5\n"
     ]
    },
    {
     "name": "stdout",
     "output_type": "stream",
     "text": [
      "Checking time indices: (4, 9, [0, 1, 2, 3, 4, 5, 6, 7, 8])\n"
     ]
    },
    {
     "name": "stderr",
     "output_type": "stream",
     "text": [
      "[INFO][2023/05/04 04:45:07 PM] Opening HDF file: /mnt/DATA/macrohet/labels/full_localisation/(5, 4)_objs_masks_tracks.h5...\n",
      "[INFO][2023/05/04 04:45:38 PM] Loading segmentation (75, 6048, 6048)\n",
      "[INFO][2023/05/04 04:45:38 PM] Closing HDF file: /mnt/DATA/macrohet/labels/full_localisation/(5, 4)_objs_masks_tracks.h5\n"
     ]
    },
    {
     "data": {
      "application/vnd.jupyter.widget-view+json": {
       "model_id": "",
       "version_major": 2,
       "version_minor": 0
      },
      "text/plain": [
       "Otsu segmenting:   0%|          | 0/75 [00:00<?, ?it/s]"
      ]
     },
     "metadata": {},
     "output_type": "display_data"
    },
    {
     "name": "stderr",
     "output_type": "stream",
     "text": [
      "[INFO][2023/05/04 04:53:50 PM] Localizing objects from segmentation...\n",
      "100%|█████████████████████████████████████████████████████████████████████| 75/75 [16:26<00:00, 13.15s/it]\n",
      "[INFO][2023/05/04 05:10:16 PM] Objects are of type: <class 'dict'>\n",
      "[INFO][2023/05/04 05:10:16 PM] ...Found 31951 objects in 75 frames.\n",
      "[INFO][2023/05/04 05:10:16 PM] Loaded btrack: /home/dayn/analysis/btrack/btrack/libs/libtracker.so\n",
      "[INFO][2023/05/04 05:10:16 PM] Starting BayesianTracker session\n",
      "[INFO][2023/05/04 05:10:16 PM] Loading configuration file: /home/dayn/analysis/btrack/models/particle_config_pnassign.json\n",
      "[INFO][2023/05/04 05:10:16 PM] Objects are of type: <class 'list'>\n",
      "[INFO][2023/05/04 05:10:17 PM] Starting tracking... \n",
      "[INFO][2023/05/04 05:10:17 PM] Update using: ['VISUAL', 'MOTION']\n",
      "[INFO][2023/05/04 05:10:17 PM] Tracking objects in frames 0 to 24 (of 75)...\n",
      "[INFO][2023/05/04 05:10:23 PM]  - Timing (Bayesian updates: 52.26ms, Linking: 2.68ms)\n",
      "[INFO][2023/05/04 05:10:23 PM]  - Probabilities (Link: 0.99996, Lost: 1.00000)\n",
      "[INFO][2023/05/04 05:10:23 PM]  - Stats (Active: 647, Lost: 2768, Conflicts resolved: 3955)\n",
      "[INFO][2023/05/04 05:10:23 PM] Tracking objects in frames 25 to 49 (of 75)...\n",
      "[INFO][2023/05/04 05:10:27 PM]  - Timing (Bayesian updates: 31.42ms, Linking: 1.93ms)\n",
      "[INFO][2023/05/04 05:10:27 PM]  - Probabilities (Link: 1.00000, Lost: 0.94363)\n",
      "[INFO][2023/05/04 05:10:27 PM]  - Stats (Active: 517, Lost: 5109, Conflicts resolved: 7343)\n",
      "[INFO][2023/05/04 05:10:27 PM] Tracking objects in frames 50 to 74 (of 75)...\n",
      "[INFO][2023/05/04 05:10:29 PM]  - Timing (Bayesian updates: 26.38ms, Linking: 1.86ms)\n",
      "[INFO][2023/05/04 05:10:29 PM]  - Probabilities (Link: 1.00000, Lost: 0.77385)\n",
      "[INFO][2023/05/04 05:10:29 PM] SUCCESS.\n",
      "[INFO][2023/05/04 05:10:29 PM]  - Found 3182 tracks in 75 frames (in 0.0s)\n",
      "[INFO][2023/05/04 05:10:29 PM]  - Inserted 6094 dummy objects to fill tracking gaps\n",
      "[INFO][2023/05/04 05:10:29 PM] Loading hypothesis model: particle_hypothesis\n",
      "[INFO][2023/05/04 05:10:29 PM] Calculating hypotheses (relax: True)...\n",
      "[INFO][2023/05/04 05:10:29 PM] Setting up constraints matrix for global optimisation...\n",
      "[INFO][2023/05/04 05:10:29 PM] Using GLPK options: {'tm_lim': 60000}...\n",
      "[INFO][2023/05/04 05:10:29 PM] Optimizing...\n",
      "[INFO][2023/05/04 05:10:30 PM] Optimization complete. (Solution: optimal)\n",
      "[INFO][2023/05/04 05:10:30 PM]  - Fates.FALSE_POSITIVE: 899 (of 3182)\n",
      "[INFO][2023/05/04 05:10:30 PM]  - Fates.LINK: 1014 (of 1441)\n",
      "[INFO][2023/05/04 05:10:30 PM]  - Fates.INITIALIZE_BORDER: 100 (of 254)\n",
      "[INFO][2023/05/04 05:10:30 PM]  - Fates.INITIALIZE_FRONT: 532 (of 708)\n",
      "[INFO][2023/05/04 05:10:30 PM]  - Fates.INITIALIZE_LAZY: 637 (of 2220)\n",
      "[INFO][2023/05/04 05:10:30 PM]  - Fates.TERMINATE_BORDER: 111 (of 263)\n",
      "[INFO][2023/05/04 05:10:30 PM]  - Fates.TERMINATE_BACK: 356 (of 450)\n",
      "[INFO][2023/05/04 05:10:30 PM]  - Fates.TERMINATE_LAZY: 802 (of 2469)\n",
      "[INFO][2023/05/04 05:10:30 PM]  - TOTAL: 10987 hypotheses\n",
      "[INFO][2023/05/04 05:10:30 PM] Completed optimization with 2168 tracks\n",
      "[INFO][2023/05/04 05:10:30 PM] Ending BayesianTracker session\n"
     ]
    },
    {
     "name": "stdout",
     "output_type": "stream",
     "text": [
      "GLPK Integer Optimizer 5.0\n",
      "12728 rows, 10987 columns, 15610 non-zeros\n",
      "10987 integer variables, all of which are binary\n",
      "Preprocessing...\n",
      "6364 rows, 10987 columns, 15610 non-zeros\n",
      "10987 integer variables, all of which are binary\n",
      "Scaling...\n",
      " A: min|aij| =  1.000e+00  max|aij| =  1.000e+00  ratio =  1.000e+00\n",
      "Problem data seem to be well scaled\n",
      "Constructing initial basis...\n",
      "Size of triangular part is 6364\n",
      "Solving LP relaxation...\n",
      "GLPK Simplex Optimizer 5.0\n",
      "6364 rows, 10987 columns, 15610 non-zeros\n",
      "*     0: obj =   3.371331351e+04 inf =   0.000e+00 (2859)\n",
      "Perturbing LP to avoid stalling [1341]...\n",
      "Removing LP perturbation [2839]...\n",
      "*  2839: obj =   1.635256143e+04 inf =   0.000e+00 (0)\n",
      "OPTIMAL LP SOLUTION FOUND\n",
      "Integer optimization begins...\n",
      "Long-step dual simplex will be used\n",
      "+  2839: mip =     not found yet >=              -inf        (1; 0)\n",
      "+  2839: >>>>>   1.635256143e+04 >=   1.635256143e+04   0.0% (1; 0)\n",
      "+  2839: mip =   1.635256143e+04 >=     tree is empty   0.0% (0; 1)\n",
      "INTEGER OPTIMAL SOLUTION FOUND\n"
     ]
    },
    {
     "name": "stderr",
     "output_type": "stream",
     "text": [
      "[INFO][2023/05/04 05:10:30 PM] Opening HDF file: /mnt/DATA/macrohet/labels/relocalisation/thresh_(5, 4).h5...\n",
      "[INFO][2023/05/04 05:10:31 PM] Writing objects/obj_type_1\n",
      "[INFO][2023/05/04 05:10:31 PM] Writing labels/obj_type_1\n",
      "[INFO][2023/05/04 05:10:31 PM] Loading objects/obj_type_1 (24196, 5) (24196 filtered: None)\n",
      "[INFO][2023/05/04 05:10:31 PM] Writing properties/obj_type_1/area (24196,)\n",
      "[INFO][2023/05/04 05:10:31 PM] Writing properties/obj_type_1/major_axis_length (24196,)\n",
      "[INFO][2023/05/04 05:10:31 PM] Writing properties/obj_type_1/minor_axis_length (24196,)\n",
      "[INFO][2023/05/04 05:10:31 PM] Writing properties/obj_type_1/orientation (24196,)\n",
      "[INFO][2023/05/04 05:10:31 PM] Writing properties/obj_type_1/mean_intensity (24196, 4)\n",
      "[INFO][2023/05/04 05:10:31 PM] Writing tracks/obj_type_1\n",
      "[INFO][2023/05/04 05:10:31 PM] Writing dummies/obj_type_1\n",
      "[INFO][2023/05/04 05:10:31 PM] Writing LBEP/obj_type_1\n",
      "[INFO][2023/05/04 05:10:31 PM] Writing fates/obj_type_1\n",
      "[INFO][2023/05/04 05:11:05 PM] Closing HDF file: /mnt/DATA/macrohet/labels/relocalisation/thresh_(5, 4).h5\n"
     ]
    },
    {
     "name": "stdout",
     "output_type": "stream",
     "text": [
      "Checking time indices: (5, 4, [0, 1, 2, 3, 4])\n"
     ]
    },
    {
     "name": "stderr",
     "output_type": "stream",
     "text": [
      "[INFO][2023/05/04 05:11:06 PM] Opening HDF file: /mnt/DATA/macrohet/labels/full_localisation/(5, 5)_objs_masks_tracks.h5...\n",
      "[INFO][2023/05/04 05:11:38 PM] Loading segmentation (75, 6048, 6048)\n",
      "[INFO][2023/05/04 05:11:38 PM] Closing HDF file: /mnt/DATA/macrohet/labels/full_localisation/(5, 5)_objs_masks_tracks.h5\n"
     ]
    },
    {
     "data": {
      "application/vnd.jupyter.widget-view+json": {
       "model_id": "",
       "version_major": 2,
       "version_minor": 0
      },
      "text/plain": [
       "Otsu segmenting:   0%|          | 0/75 [00:00<?, ?it/s]"
      ]
     },
     "metadata": {},
     "output_type": "display_data"
    },
    {
     "name": "stderr",
     "output_type": "stream",
     "text": [
      "[INFO][2023/05/04 05:22:24 PM] Localizing objects from segmentation...\n",
      "100%|█████████████████████████████████████████████████████████████████████| 75/75 [31:31<00:00, 25.22s/it]\n",
      "[INFO][2023/05/04 05:53:55 PM] Objects are of type: <class 'dict'>\n",
      "[INFO][2023/05/04 05:53:55 PM] ...Found 48864 objects in 75 frames.\n",
      "[INFO][2023/05/04 05:53:55 PM] Loaded btrack: /home/dayn/analysis/btrack/btrack/libs/libtracker.so\n",
      "[INFO][2023/05/04 05:53:55 PM] Starting BayesianTracker session\n",
      "[INFO][2023/05/04 05:53:55 PM] Loading configuration file: /home/dayn/analysis/btrack/models/particle_config_pnassign.json\n",
      "[INFO][2023/05/04 05:53:55 PM] Objects are of type: <class 'list'>\n",
      "[INFO][2023/05/04 05:53:56 PM] Starting tracking... \n",
      "[INFO][2023/05/04 05:53:56 PM] Update using: ['VISUAL', 'MOTION']\n",
      "[INFO][2023/05/04 05:53:56 PM] Tracking objects in frames 0 to 24 (of 75)...\n",
      "[INFO][2023/05/04 05:54:01 PM]  - Timing (Bayesian updates: 43.66ms, Linking: 2.94ms)\n",
      "[INFO][2023/05/04 05:54:01 PM]  - Probabilities (Link: 1.00000, Lost: 1.00000)\n",
      "[INFO][2023/05/04 05:54:01 PM]  - Stats (Active: 615, Lost: 2761, Conflicts resolved: 3881)\n",
      "[INFO][2023/05/04 05:54:01 PM] Tracking objects in frames 25 to 49 (of 75)...\n",
      "[INFO][2023/05/04 05:54:05 PM]  - Timing (Bayesian updates: 77.35ms, Linking: 3.10ms)\n",
      "[INFO][2023/05/04 05:54:05 PM]  - Probabilities (Link: 1.00000, Lost: 1.00000)\n",
      "[INFO][2023/05/04 05:54:05 PM]  - Stats (Active: 673, Lost: 4688, Conflicts resolved: 6756)\n",
      "[INFO][2023/05/04 05:54:05 PM] Tracking objects in frames 50 to 74 (of 75)...\n",
      "[INFO][2023/05/04 05:54:09 PM]  - Timing (Bayesian updates: 52.27ms, Linking: 2.87ms)\n",
      "[INFO][2023/05/04 05:54:09 PM]  - Probabilities (Link: 1.00000, Lost: 0.95784)\n",
      "[INFO][2023/05/04 05:54:09 PM] SUCCESS.\n",
      "[INFO][2023/05/04 05:54:09 PM]  - Found 2981 tracks in 75 frames (in 0.0s)\n",
      "[INFO][2023/05/04 05:54:10 PM]  - Inserted 5951 dummy objects to fill tracking gaps\n",
      "[INFO][2023/05/04 05:54:10 PM] Loading hypothesis model: particle_hypothesis\n",
      "[INFO][2023/05/04 05:54:10 PM] Calculating hypotheses (relax: True)...\n",
      "[INFO][2023/05/04 05:54:10 PM] Setting up constraints matrix for global optimisation...\n",
      "[INFO][2023/05/04 05:54:10 PM] Using GLPK options: {'tm_lim': 60000}...\n",
      "[INFO][2023/05/04 05:54:10 PM] Optimizing...\n",
      "[INFO][2023/05/04 05:54:10 PM] Optimization complete. (Solution: optimal)\n",
      "[INFO][2023/05/04 05:54:10 PM]  - Fates.FALSE_POSITIVE: 831 (of 2981)\n",
      "[INFO][2023/05/04 05:54:10 PM]  - Fates.LINK: 781 (of 1120)\n",
      "[INFO][2023/05/04 05:54:10 PM]  - Fates.INITIALIZE_BORDER: 113 (of 228)\n",
      "[INFO][2023/05/04 05:54:10 PM]  - Fates.INITIALIZE_FRONT: 559 (of 801)\n",
      "[INFO][2023/05/04 05:54:10 PM]  - Fates.INITIALIZE_LAZY: 697 (of 1952)\n",
      "[INFO][2023/05/04 05:54:10 PM]  - Fates.TERMINATE_BORDER: 125 (of 237)\n",
      "[INFO][2023/05/04 05:54:10 PM]  - Fates.TERMINATE_BACK: 469 (of 537)\n",
      "[INFO][2023/05/04 05:54:10 PM]  - Fates.TERMINATE_LAZY: 775 (of 2207)\n",
      "[INFO][2023/05/04 05:54:10 PM]  - TOTAL: 10063 hypotheses\n",
      "[INFO][2023/05/04 05:54:10 PM] Completed optimization with 2200 tracks\n",
      "[INFO][2023/05/04 05:54:11 PM] Ending BayesianTracker session\n"
     ]
    },
    {
     "name": "stdout",
     "output_type": "stream",
     "text": [
      "GLPK Integer Optimizer 5.0\n",
      "11924 rows, 10063 columns, 14164 non-zeros\n",
      "10063 integer variables, all of which are binary\n",
      "Preprocessing...\n",
      "5962 rows, 10063 columns, 14164 non-zeros\n",
      "10063 integer variables, all of which are binary\n",
      "Scaling...\n",
      " A: min|aij| =  1.000e+00  max|aij| =  1.000e+00  ratio =  1.000e+00\n",
      "Problem data seem to be well scaled\n",
      "Constructing initial basis...\n",
      "Size of triangular part is 5962\n",
      "Solving LP relaxation...\n",
      "GLPK Simplex Optimizer 5.0\n",
      "5962 rows, 10063 columns, 14164 non-zeros\n",
      "*     0: obj =   2.995850430e+04 inf =   0.000e+00 (2308)\n",
      "Perturbing LP to avoid stalling [1121]...\n",
      "Removing LP perturbation [2322]...\n",
      "*  2322: obj =   1.598587785e+04 inf =   0.000e+00 (0)\n",
      "OPTIMAL LP SOLUTION FOUND\n",
      "Integer optimization begins...\n",
      "Long-step dual simplex will be used\n",
      "+  2322: mip =     not found yet >=              -inf        (1; 0)\n",
      "+  2322: >>>>>   1.598587785e+04 >=   1.598587785e+04   0.0% (1; 0)\n",
      "+  2322: mip =   1.598587785e+04 >=     tree is empty   0.0% (0; 1)\n",
      "INTEGER OPTIMAL SOLUTION FOUND\n"
     ]
    },
    {
     "name": "stderr",
     "output_type": "stream",
     "text": [
      "[INFO][2023/05/04 05:54:11 PM] Opening HDF file: /mnt/DATA/macrohet/labels/relocalisation/thresh_(5, 5).h5...\n",
      "[INFO][2023/05/04 05:54:11 PM] Writing objects/obj_type_1\n",
      "[INFO][2023/05/04 05:54:11 PM] Writing labels/obj_type_1\n",
      "[INFO][2023/05/04 05:54:11 PM] Loading objects/obj_type_1 (29563, 5) (29563 filtered: None)\n",
      "[INFO][2023/05/04 05:54:11 PM] Writing properties/obj_type_1/area (29563,)\n",
      "[INFO][2023/05/04 05:54:11 PM] Writing properties/obj_type_1/major_axis_length (29563,)\n",
      "[INFO][2023/05/04 05:54:11 PM] Writing properties/obj_type_1/minor_axis_length (29563,)\n",
      "[INFO][2023/05/04 05:54:11 PM] Writing properties/obj_type_1/orientation (29563,)\n",
      "[INFO][2023/05/04 05:54:12 PM] Writing properties/obj_type_1/mean_intensity (29563, 4)\n",
      "[INFO][2023/05/04 05:54:12 PM] Writing tracks/obj_type_1\n",
      "[INFO][2023/05/04 05:54:12 PM] Writing dummies/obj_type_1\n",
      "[INFO][2023/05/04 05:54:12 PM] Writing LBEP/obj_type_1\n",
      "[INFO][2023/05/04 05:54:12 PM] Writing fates/obj_type_1\n",
      "[INFO][2023/05/04 05:54:47 PM] Closing HDF file: /mnt/DATA/macrohet/labels/relocalisation/thresh_(5, 5).h5\n"
     ]
    },
    {
     "name": "stdout",
     "output_type": "stream",
     "text": [
      "Checking time indices: (5, 5, [0, 1, 2, 3, 4, 5, 6, 7, 8, 9, 10, 11, 12, 13, 14, 15, 16, 17, 18, 19, 20, 21, 22, 23, 24, 25, 26, 27, 28, 29, 30, 31, 32, 33, 34, 35, 36, 37, 38, 39, 40, 41, 42, 43, 44])\n"
     ]
    },
    {
     "name": "stderr",
     "output_type": "stream",
     "text": [
      "[INFO][2023/05/04 05:55:27 PM] Opening HDF file: /mnt/DATA/macrohet/labels/full_localisation/(5, 6)_objs_masks_tracks.h5...\n",
      "[INFO][2023/05/04 05:56:01 PM] Loading segmentation (75, 6048, 6048)\n",
      "[INFO][2023/05/04 05:56:01 PM] Closing HDF file: /mnt/DATA/macrohet/labels/full_localisation/(5, 6)_objs_masks_tracks.h5\n"
     ]
    },
    {
     "data": {
      "application/vnd.jupyter.widget-view+json": {
       "model_id": "",
       "version_major": 2,
       "version_minor": 0
      },
      "text/plain": [
       "Otsu segmenting:   0%|          | 0/75 [00:00<?, ?it/s]"
      ]
     },
     "metadata": {},
     "output_type": "display_data"
    },
    {
     "name": "stderr",
     "output_type": "stream",
     "text": [
      "[INFO][2023/05/04 06:06:51 PM] Localizing objects from segmentation...\n",
      "100%|█████████████████████████████████████████████████████████████████████| 75/75 [27:37<00:00, 22.10s/it]\n",
      "[INFO][2023/05/04 06:34:28 PM] Objects are of type: <class 'dict'>\n",
      "[INFO][2023/05/04 06:34:29 PM] ...Found 52982 objects in 75 frames.\n",
      "[INFO][2023/05/04 06:34:29 PM] Loaded btrack: /home/dayn/analysis/btrack/btrack/libs/libtracker.so\n",
      "[INFO][2023/05/04 06:34:29 PM] Starting BayesianTracker session\n",
      "[INFO][2023/05/04 06:34:29 PM] Loading configuration file: /home/dayn/analysis/btrack/models/particle_config_pnassign.json\n",
      "[INFO][2023/05/04 06:34:29 PM] Objects are of type: <class 'list'>\n",
      "[INFO][2023/05/04 06:34:30 PM] Starting tracking... \n",
      "[INFO][2023/05/04 06:34:30 PM] Update using: ['VISUAL', 'MOTION']\n",
      "[INFO][2023/05/04 06:34:30 PM] Tracking objects in frames 0 to 24 (of 75)...\n",
      "[INFO][2023/05/04 06:34:34 PM]  - Timing (Bayesian updates: 50.28ms, Linking: 2.69ms)\n",
      "[INFO][2023/05/04 06:34:34 PM]  - Probabilities (Link: 1.00000, Lost: 0.96294)\n",
      "[INFO][2023/05/04 06:34:34 PM]  - Stats (Active: 600, Lost: 2842, Conflicts resolved: 3729)\n",
      "[INFO][2023/05/04 06:34:34 PM] Tracking objects in frames 25 to 49 (of 75)...\n",
      "[INFO][2023/05/04 06:34:39 PM]  - Timing (Bayesian updates: 85.85ms, Linking: 3.51ms)\n",
      "[INFO][2023/05/04 06:34:39 PM]  - Probabilities (Link: 0.99998, Lost: 0.90078)\n",
      "[INFO][2023/05/04 06:34:39 PM]  - Stats (Active: 728, Lost: 5253, Conflicts resolved: 7236)\n",
      "[INFO][2023/05/04 06:34:39 PM] Tracking objects in frames 50 to 74 (of 75)...\n",
      "[INFO][2023/05/04 06:34:44 PM]  - Timing (Bayesian updates: 70.50ms, Linking: 3.05ms)\n",
      "[INFO][2023/05/04 06:34:44 PM]  - Probabilities (Link: 1.00000, Lost: 1.00000)\n",
      "[INFO][2023/05/04 06:34:44 PM] SUCCESS.\n",
      "[INFO][2023/05/04 06:34:44 PM]  - Found 3388 tracks in 75 frames (in 0.0s)\n",
      "[INFO][2023/05/04 06:34:44 PM]  - Inserted 7639 dummy objects to fill tracking gaps\n",
      "[INFO][2023/05/04 06:34:44 PM] Loading hypothesis model: particle_hypothesis\n",
      "[INFO][2023/05/04 06:34:44 PM] Calculating hypotheses (relax: True)...\n",
      "[INFO][2023/05/04 06:34:44 PM] Setting up constraints matrix for global optimisation...\n",
      "[INFO][2023/05/04 06:34:44 PM] Using GLPK options: {'tm_lim': 60000}...\n",
      "[INFO][2023/05/04 06:34:45 PM] Optimizing...\n",
      "[INFO][2023/05/04 06:34:46 PM] Optimization complete. (Solution: optimal)\n",
      "[INFO][2023/05/04 06:34:46 PM]  - Fates.FALSE_POSITIVE: 907 (of 3388)\n",
      "[INFO][2023/05/04 06:34:46 PM]  - Fates.LINK: 981 (of 1432)\n",
      "[INFO][2023/05/04 06:34:46 PM]  - Fates.INITIALIZE_BORDER: 116 (of 246)\n",
      "[INFO][2023/05/04 06:34:46 PM]  - Fates.INITIALIZE_FRONT: 557 (of 801)\n",
      "[INFO][2023/05/04 06:34:46 PM]  - Fates.INITIALIZE_LAZY: 827 (of 2341)\n",
      "[INFO][2023/05/04 06:34:46 PM]  - Fates.TERMINATE_BORDER: 122 (of 253)\n",
      "[INFO][2023/05/04 06:34:46 PM]  - Fates.TERMINATE_BACK: 519 (of 634)\n",
      "[INFO][2023/05/04 06:34:46 PM]  - Fates.TERMINATE_LAZY: 859 (of 2501)\n",
      "[INFO][2023/05/04 06:34:46 PM]  - TOTAL: 11596 hypotheses\n",
      "[INFO][2023/05/04 06:34:46 PM] Completed optimization with 2407 tracks\n"
     ]
    },
    {
     "name": "stdout",
     "output_type": "stream",
     "text": [
      "GLPK Integer Optimizer 5.0\n",
      "13552 rows, 11596 columns, 16416 non-zeros\n",
      "11596 integer variables, all of which are binary\n",
      "Preprocessing...\n",
      "6776 rows, 11596 columns, 16416 non-zeros\n",
      "11596 integer variables, all of which are binary\n",
      "Scaling...\n",
      " A: min|aij| =  1.000e+00  max|aij| =  1.000e+00  ratio =  1.000e+00\n",
      "Problem data seem to be well scaled\n",
      "Constructing initial basis...\n",
      "Size of triangular part is 6776\n",
      "Solving LP relaxation...\n",
      "GLPK Simplex Optimizer 5.0\n",
      "6776 rows, 11596 columns, 16416 non-zeros\n",
      "*     0: obj =   3.470214878e+04 inf =   0.000e+00 (2794)\n",
      "Perturbing LP to avoid stalling [1285]...\n",
      "Removing LP perturbation [2774]...\n",
      "*  2774: obj =   1.804330592e+04 inf =   0.000e+00 (0)\n",
      "OPTIMAL LP SOLUTION FOUND\n",
      "Integer optimization begins...\n",
      "Long-step dual simplex will be used\n",
      "+  2774: mip =     not found yet >=              -inf        (1; 0)\n",
      "+  2774: >>>>>   1.804330592e+04 >=   1.804330592e+04   0.0% (1; 0)\n",
      "+  2774: mip =   1.804330592e+04 >=     tree is empty   0.0% (0; 1)\n",
      "INTEGER OPTIMAL SOLUTION FOUND\n"
     ]
    },
    {
     "name": "stderr",
     "output_type": "stream",
     "text": [
      "[INFO][2023/05/04 06:34:46 PM] Ending BayesianTracker session\n",
      "[INFO][2023/05/04 06:34:46 PM] Opening HDF file: /mnt/DATA/macrohet/labels/relocalisation/thresh_(5, 6).h5...\n",
      "[INFO][2023/05/04 06:34:46 PM] Writing objects/obj_type_1\n",
      "[INFO][2023/05/04 06:34:46 PM] Writing labels/obj_type_1\n",
      "[INFO][2023/05/04 06:34:46 PM] Loading objects/obj_type_1 (28984, 5) (28984 filtered: None)\n",
      "[INFO][2023/05/04 06:34:47 PM] Writing properties/obj_type_1/area (28984,)\n",
      "[INFO][2023/05/04 06:34:47 PM] Writing properties/obj_type_1/major_axis_length (28984,)\n",
      "[INFO][2023/05/04 06:34:47 PM] Writing properties/obj_type_1/minor_axis_length (28984,)\n",
      "[INFO][2023/05/04 06:34:47 PM] Writing properties/obj_type_1/orientation (28984,)\n",
      "[INFO][2023/05/04 06:34:47 PM] Writing properties/obj_type_1/mean_intensity (28984, 4)\n",
      "[INFO][2023/05/04 06:34:47 PM] Writing tracks/obj_type_1\n",
      "[INFO][2023/05/04 06:34:47 PM] Writing dummies/obj_type_1\n",
      "[INFO][2023/05/04 06:34:47 PM] Writing LBEP/obj_type_1\n",
      "[INFO][2023/05/04 06:34:47 PM] Writing fates/obj_type_1\n",
      "[INFO][2023/05/04 06:35:24 PM] Closing HDF file: /mnt/DATA/macrohet/labels/relocalisation/thresh_(5, 6).h5\n"
     ]
    },
    {
     "name": "stdout",
     "output_type": "stream",
     "text": [
      "Checking time indices: (5, 6, [0, 1])\n"
     ]
    },
    {
     "name": "stderr",
     "output_type": "stream",
     "text": [
      "[INFO][2023/05/04 06:36:03 PM] Opening HDF file: /mnt/DATA/macrohet/labels/full_localisation/(5, 7)_objs_masks_tracks.h5...\n",
      "[INFO][2023/05/04 06:36:41 PM] Loading segmentation (75, 6048, 6048)\n",
      "[INFO][2023/05/04 06:36:41 PM] Closing HDF file: /mnt/DATA/macrohet/labels/full_localisation/(5, 7)_objs_masks_tracks.h5\n"
     ]
    },
    {
     "data": {
      "application/vnd.jupyter.widget-view+json": {
       "model_id": "",
       "version_major": 2,
       "version_minor": 0
      },
      "text/plain": [
       "Otsu segmenting:   0%|          | 0/75 [00:00<?, ?it/s]"
      ]
     },
     "metadata": {},
     "output_type": "display_data"
    },
    {
     "name": "stderr",
     "output_type": "stream",
     "text": [
      "[INFO][2023/05/04 06:43:52 PM] Localizing objects from segmentation...\n",
      "100%|█████████████████████████████████████████████████████████████████████| 75/75 [22:12<00:00, 17.77s/it]\n",
      "[INFO][2023/05/04 07:06:05 PM] Objects are of type: <class 'dict'>\n",
      "[INFO][2023/05/04 07:06:05 PM] ...Found 50448 objects in 75 frames.\n",
      "[INFO][2023/05/04 07:06:05 PM] Loaded btrack: /home/dayn/analysis/btrack/btrack/libs/libtracker.so\n",
      "[INFO][2023/05/04 07:06:05 PM] Starting BayesianTracker session\n",
      "[INFO][2023/05/04 07:06:05 PM] Loading configuration file: /home/dayn/analysis/btrack/models/particle_config_pnassign.json\n",
      "[INFO][2023/05/04 07:06:05 PM] Objects are of type: <class 'list'>\n",
      "[INFO][2023/05/04 07:06:06 PM] Starting tracking... \n",
      "[INFO][2023/05/04 07:06:06 PM] Update using: ['VISUAL', 'MOTION']\n",
      "[INFO][2023/05/04 07:06:06 PM] Tracking objects in frames 0 to 24 (of 75)...\n",
      "[INFO][2023/05/04 07:06:13 PM]  - Timing (Bayesian updates: 78.01ms, Linking: 3.31ms)\n",
      "[INFO][2023/05/04 07:06:13 PM]  - Probabilities (Link: 0.99999, Lost: 0.99882)\n",
      "[INFO][2023/05/04 07:06:13 PM]  - Stats (Active: 745, Lost: 2866, Conflicts resolved: 4419)\n",
      "[INFO][2023/05/04 07:06:13 PM] Tracking objects in frames 25 to 49 (of 75)...\n",
      "[INFO][2023/05/04 07:06:18 PM]  - Timing (Bayesian updates: 52.25ms, Linking: 2.71ms)\n",
      "[INFO][2023/05/04 07:06:18 PM]  - Probabilities (Link: 0.98546, Lost: 1.00000)\n",
      "[INFO][2023/05/04 07:06:18 PM]  - Stats (Active: 639, Lost: 5676, Conflicts resolved: 8393)\n",
      "[INFO][2023/05/04 07:06:18 PM] Tracking objects in frames 50 to 74 (of 75)...\n",
      "[INFO][2023/05/04 07:06:22 PM]  - Timing (Bayesian updates: 60.40ms, Linking: 2.84ms)\n",
      "[INFO][2023/05/04 07:06:22 PM]  - Probabilities (Link: 1.00000, Lost: 0.54915)\n",
      "[INFO][2023/05/04 07:06:22 PM] SUCCESS.\n",
      "[INFO][2023/05/04 07:06:22 PM]  - Found 3689 tracks in 75 frames (in 0.0s)\n",
      "[INFO][2023/05/04 07:06:22 PM]  - Inserted 7869 dummy objects to fill tracking gaps\n",
      "[INFO][2023/05/04 07:06:22 PM] Loading hypothesis model: particle_hypothesis\n",
      "[INFO][2023/05/04 07:06:22 PM] Calculating hypotheses (relax: True)...\n",
      "[INFO][2023/05/04 07:06:22 PM] Setting up constraints matrix for global optimisation...\n",
      "[INFO][2023/05/04 07:06:22 PM] Using GLPK options: {'tm_lim': 60000}...\n",
      "[INFO][2023/05/04 07:06:22 PM] Optimizing...\n",
      "[INFO][2023/05/04 07:06:23 PM] Optimization complete. (Solution: optimal)\n",
      "[INFO][2023/05/04 07:06:23 PM]  - Fates.FALSE_POSITIVE: 1053 (of 3689)\n",
      "[INFO][2023/05/04 07:06:23 PM]  - Fates.LINK: 1088 (of 1572)\n",
      "[INFO][2023/05/04 07:06:23 PM]  - Fates.INITIALIZE_BORDER: 159 (of 318)\n",
      "[INFO][2023/05/04 07:06:23 PM]  - Fates.INITIALIZE_FRONT: 631 (of 891)\n",
      "[INFO][2023/05/04 07:06:23 PM]  - Fates.INITIALIZE_LAZY: 758 (of 2480)\n",
      "[INFO][2023/05/04 07:06:23 PM]  - Fates.TERMINATE_BORDER: 163 (of 322)\n",
      "[INFO][2023/05/04 07:06:23 PM]  - Fates.TERMINATE_BACK: 483 (of 635)\n",
      "[INFO][2023/05/04 07:06:23 PM]  - Fates.TERMINATE_LAZY: 902 (of 2732)\n",
      "[INFO][2023/05/04 07:06:23 PM]  - TOTAL: 12639 hypotheses\n",
      "[INFO][2023/05/04 07:06:23 PM] Completed optimization with 2601 tracks\n",
      "[INFO][2023/05/04 07:06:24 PM] Ending BayesianTracker session\n"
     ]
    },
    {
     "name": "stdout",
     "output_type": "stream",
     "text": [
      "GLPK Integer Optimizer 5.0\n",
      "14756 rows, 12639 columns, 17900 non-zeros\n",
      "12639 integer variables, all of which are binary\n",
      "Preprocessing...\n",
      "7378 rows, 12639 columns, 17900 non-zeros\n",
      "12639 integer variables, all of which are binary\n",
      "Scaling...\n",
      " A: min|aij| =  1.000e+00  max|aij| =  1.000e+00  ratio =  1.000e+00\n",
      "Problem data seem to be well scaled\n",
      "Constructing initial basis...\n",
      "Size of triangular part is 7378\n",
      "Solving LP relaxation...\n",
      "GLPK Simplex Optimizer 5.0\n",
      "7378 rows, 12639 columns, 17900 non-zeros\n",
      "*     0: obj =   3.775901335e+04 inf =   0.000e+00 (3114)\n",
      "Perturbing LP to avoid stalling [1383]...\n",
      "Removing LP perturbation [3135]...\n",
      "*  3135: obj =   1.910731582e+04 inf =   0.000e+00 (0)\n",
      "OPTIMAL LP SOLUTION FOUND\n",
      "Integer optimization begins...\n",
      "Long-step dual simplex will be used\n",
      "+  3135: mip =     not found yet >=              -inf        (1; 0)\n",
      "+  3135: >>>>>   1.910731582e+04 >=   1.910731582e+04   0.0% (1; 0)\n",
      "+  3135: mip =   1.910731582e+04 >=     tree is empty   0.0% (0; 1)\n",
      "INTEGER OPTIMAL SOLUTION FOUND\n"
     ]
    },
    {
     "name": "stderr",
     "output_type": "stream",
     "text": [
      "[INFO][2023/05/04 07:06:24 PM] Opening HDF file: /mnt/DATA/macrohet/labels/relocalisation/thresh_(5, 7).h5...\n",
      "[INFO][2023/05/04 07:06:24 PM] Writing objects/obj_type_1\n",
      "[INFO][2023/05/04 07:06:24 PM] Writing labels/obj_type_1\n",
      "[INFO][2023/05/04 07:06:24 PM] Loading objects/obj_type_1 (29435, 5) (29435 filtered: None)\n",
      "[INFO][2023/05/04 07:06:24 PM] Writing properties/obj_type_1/area (29435,)\n",
      "[INFO][2023/05/04 07:06:24 PM] Writing properties/obj_type_1/major_axis_length (29435,)\n",
      "[INFO][2023/05/04 07:06:24 PM] Writing properties/obj_type_1/minor_axis_length (29435,)\n",
      "[INFO][2023/05/04 07:06:24 PM] Writing properties/obj_type_1/orientation (29435,)\n",
      "[INFO][2023/05/04 07:06:24 PM] Writing properties/obj_type_1/mean_intensity (29435, 4)\n",
      "[INFO][2023/05/04 07:06:24 PM] Writing tracks/obj_type_1\n",
      "[INFO][2023/05/04 07:06:24 PM] Writing dummies/obj_type_1\n",
      "[INFO][2023/05/04 07:06:24 PM] Writing LBEP/obj_type_1\n",
      "[INFO][2023/05/04 07:06:24 PM] Writing fates/obj_type_1\n",
      "[INFO][2023/05/04 07:06:59 PM] Closing HDF file: /mnt/DATA/macrohet/labels/relocalisation/thresh_(5, 7).h5\n"
     ]
    },
    {
     "name": "stdout",
     "output_type": "stream",
     "text": [
      "Checking time indices: (5, 7, [0, 1, 2, 3, 4, 5, 6, 7, 8, 9, 10, 11, 12, 13, 14, 15, 16, 17, 18, 19, 20, 21, 22, 23, 24, 25, 26, 27, 28, 29, 30, 31, 32, 33, 34, 35, 36, 37, 38, 39, 40, 41, 42, 43, 44, 45, 46, 47, 48, 49, 50, 51, 52, 53, 54, 55, 56, 57, 58, 59, 60, 61, 62, 63, 64, 65, 66, 67, 68, 69, 70, 71])\n"
     ]
    },
    {
     "name": "stderr",
     "output_type": "stream",
     "text": [
      "[INFO][2023/05/04 07:07:00 PM] Opening HDF file: /mnt/DATA/macrohet/labels/full_localisation/(5, 8)_objs_masks_tracks.h5...\n",
      "[INFO][2023/05/04 07:07:30 PM] Loading segmentation (75, 6048, 6048)\n",
      "[INFO][2023/05/04 07:07:30 PM] Closing HDF file: /mnt/DATA/macrohet/labels/full_localisation/(5, 8)_objs_masks_tracks.h5\n"
     ]
    },
    {
     "data": {
      "application/vnd.jupyter.widget-view+json": {
       "model_id": "",
       "version_major": 2,
       "version_minor": 0
      },
      "text/plain": [
       "Otsu segmenting:   0%|          | 0/75 [00:00<?, ?it/s]"
      ]
     },
     "metadata": {},
     "output_type": "display_data"
    },
    {
     "name": "stderr",
     "output_type": "stream",
     "text": [
      "[INFO][2023/05/04 07:15:20 PM] Localizing objects from segmentation...\n",
      "100%|█████████████████████████████████████████████████████████████████████| 75/75 [20:32<00:00, 16.44s/it]\n",
      "[INFO][2023/05/04 07:35:53 PM] Objects are of type: <class 'dict'>\n",
      "[INFO][2023/05/04 07:35:53 PM] ...Found 39356 objects in 75 frames.\n",
      "[INFO][2023/05/04 07:35:53 PM] Loaded btrack: /home/dayn/analysis/btrack/btrack/libs/libtracker.so\n",
      "[INFO][2023/05/04 07:35:53 PM] Starting BayesianTracker session\n",
      "[INFO][2023/05/04 07:35:53 PM] Loading configuration file: /home/dayn/analysis/btrack/models/particle_config_pnassign.json\n",
      "[INFO][2023/05/04 07:35:53 PM] Objects are of type: <class 'list'>\n",
      "[INFO][2023/05/04 07:35:54 PM] Starting tracking... \n",
      "[INFO][2023/05/04 07:35:54 PM] Update using: ['VISUAL', 'MOTION']\n",
      "[INFO][2023/05/04 07:35:54 PM] Tracking objects in frames 0 to 24 (of 75)...\n",
      "[INFO][2023/05/04 07:36:00 PM]  - Timing (Bayesian updates: 76.89ms, Linking: 3.39ms)\n",
      "[INFO][2023/05/04 07:36:00 PM]  - Probabilities (Link: 1.00000, Lost: 0.99769)\n",
      "[INFO][2023/05/04 07:36:00 PM]  - Stats (Active: 721, Lost: 2997, Conflicts resolved: 4397)\n",
      "[INFO][2023/05/04 07:36:00 PM] Tracking objects in frames 25 to 49 (of 75)...\n",
      "[INFO][2023/05/04 07:36:05 PM]  - Timing (Bayesian updates: 60.71ms, Linking: 3.06ms)\n",
      "[INFO][2023/05/04 07:36:05 PM]  - Probabilities (Link: 1.00000, Lost: 1.00000)\n",
      "[INFO][2023/05/04 07:36:05 PM]  - Stats (Active: 646, Lost: 5604, Conflicts resolved: 8238)\n",
      "[INFO][2023/05/04 07:36:05 PM] Tracking objects in frames 50 to 74 (of 75)...\n",
      "[INFO][2023/05/04 07:36:08 PM]  - Timing (Bayesian updates: 47.88ms, Linking: 2.39ms)\n",
      "[INFO][2023/05/04 07:36:08 PM]  - Probabilities (Link: 1.00000, Lost: 1.00000)\n",
      "[INFO][2023/05/04 07:36:08 PM] SUCCESS.\n",
      "[INFO][2023/05/04 07:36:08 PM]  - Found 3549 tracks in 75 frames (in 0.0s)\n",
      "[INFO][2023/05/04 07:36:08 PM]  - Inserted 7697 dummy objects to fill tracking gaps\n",
      "[INFO][2023/05/04 07:36:08 PM] Loading hypothesis model: particle_hypothesis\n",
      "[INFO][2023/05/04 07:36:08 PM] Calculating hypotheses (relax: True)...\n",
      "[INFO][2023/05/04 07:36:08 PM] Setting up constraints matrix for global optimisation...\n",
      "[INFO][2023/05/04 07:36:08 PM] Using GLPK options: {'tm_lim': 60000}...\n",
      "[INFO][2023/05/04 07:36:08 PM] Optimizing...\n",
      "[INFO][2023/05/04 07:36:09 PM] Optimization complete. (Solution: optimal)\n",
      "[INFO][2023/05/04 07:36:09 PM]  - Fates.FALSE_POSITIVE: 962 (of 3549)\n",
      "[INFO][2023/05/04 07:36:09 PM]  - Fates.LINK: 1137 (of 1632)\n",
      "[INFO][2023/05/04 07:36:09 PM]  - Fates.INITIALIZE_BORDER: 122 (of 261)\n",
      "[INFO][2023/05/04 07:36:09 PM]  - Fates.INITIALIZE_FRONT: 573 (of 809)\n",
      "[INFO][2023/05/04 07:36:09 PM]  - Fates.INITIALIZE_LAZY: 755 (of 2479)\n",
      "[INFO][2023/05/04 07:36:09 PM]  - Fates.TERMINATE_BORDER: 135 (of 280)\n",
      "[INFO][2023/05/04 07:36:09 PM]  - Fates.TERMINATE_BACK: 441 (of 573)\n",
      "[INFO][2023/05/04 07:36:09 PM]  - Fates.TERMINATE_LAZY: 874 (of 2696)\n",
      "[INFO][2023/05/04 07:36:09 PM]  - TOTAL: 12279 hypotheses\n",
      "[INFO][2023/05/04 07:36:09 PM] Completed optimization with 2412 tracks\n",
      "[INFO][2023/05/04 07:36:09 PM] Ending BayesianTracker session\n"
     ]
    },
    {
     "name": "stdout",
     "output_type": "stream",
     "text": [
      "GLPK Integer Optimizer 5.0\n",
      "14196 rows, 12279 columns, 17460 non-zeros\n",
      "12279 integer variables, all of which are binary\n",
      "Preprocessing...\n",
      "7098 rows, 12279 columns, 17460 non-zeros\n",
      "12279 integer variables, all of which are binary\n",
      "Scaling...\n",
      " A: min|aij| =  1.000e+00  max|aij| =  1.000e+00  ratio =  1.000e+00\n",
      "Problem data seem to be well scaled\n",
      "Constructing initial basis...\n",
      "Size of triangular part is 7098\n",
      "Solving LP relaxation...\n",
      "GLPK Simplex Optimizer 5.0\n",
      "7098 rows, 12279 columns, 17460 non-zeros\n",
      "*     0: obj =   3.706062752e+04 inf =   0.000e+00 (3137)\n",
      "Perturbing LP to avoid stalling [1362]...\n",
      "Removing LP perturbation [3157]...\n",
      "*  3157: obj =   1.842087930e+04 inf =   0.000e+00 (0)\n",
      "OPTIMAL LP SOLUTION FOUND\n",
      "Integer optimization begins...\n",
      "Long-step dual simplex will be used\n",
      "+  3157: mip =     not found yet >=              -inf        (1; 0)\n",
      "+  3157: >>>>>   1.842087930e+04 >=   1.842087930e+04   0.0% (1; 0)\n",
      "+  3157: mip =   1.842087930e+04 >=     tree is empty   0.0% (0; 1)\n",
      "INTEGER OPTIMAL SOLUTION FOUND\n"
     ]
    },
    {
     "name": "stderr",
     "output_type": "stream",
     "text": [
      "[INFO][2023/05/04 07:36:09 PM] Opening HDF file: /mnt/DATA/macrohet/labels/relocalisation/thresh_(5, 8).h5...\n",
      "[INFO][2023/05/04 07:36:10 PM] Writing objects/obj_type_1\n",
      "[INFO][2023/05/04 07:36:10 PM] Writing labels/obj_type_1\n",
      "[INFO][2023/05/04 07:36:10 PM] Loading objects/obj_type_1 (28012, 5) (28012 filtered: None)\n",
      "[INFO][2023/05/04 07:36:10 PM] Writing properties/obj_type_1/area (28012,)\n",
      "[INFO][2023/05/04 07:36:10 PM] Writing properties/obj_type_1/major_axis_length (28012,)\n",
      "[INFO][2023/05/04 07:36:10 PM] Writing properties/obj_type_1/minor_axis_length (28012,)\n",
      "[INFO][2023/05/04 07:36:10 PM] Writing properties/obj_type_1/orientation (28012,)\n",
      "[INFO][2023/05/04 07:36:10 PM] Writing properties/obj_type_1/mean_intensity (28012, 4)\n",
      "[INFO][2023/05/04 07:36:10 PM] Writing tracks/obj_type_1\n",
      "[INFO][2023/05/04 07:36:10 PM] Writing dummies/obj_type_1\n",
      "[INFO][2023/05/04 07:36:10 PM] Writing LBEP/obj_type_1\n",
      "[INFO][2023/05/04 07:36:10 PM] Writing fates/obj_type_1\n",
      "[INFO][2023/05/04 07:36:46 PM] Closing HDF file: /mnt/DATA/macrohet/labels/relocalisation/thresh_(5, 8).h5\n"
     ]
    },
    {
     "name": "stdout",
     "output_type": "stream",
     "text": [
      "Checking time indices: (5, 8, [0])\n"
     ]
    },
    {
     "ename": "ConnectionError",
     "evalue": "HTTPSConnectionPool(host='api.twilio.com', port=443): Max retries exceeded with url: /2010-04-01/Accounts/AC5c24c3260ed6b1c8289de1897f4e5b39/Messages.json (Caused by NewConnectionError('<urllib3.connection.HTTPSConnection object at 0x7f86ec9fff70>: Failed to establish a new connection: [Errno -3] Temporary failure in name resolution'))",
     "output_type": "error",
     "traceback": [
      "\u001b[0;31m---------------------------------------------------------------------------\u001b[0m",
      "\u001b[0;31mgaierror\u001b[0m                                  Traceback (most recent call last)",
      "File \u001b[0;32m~/miniconda3/envs/aero/lib/python3.9/site-packages/urllib3/connection.py:174\u001b[0m, in \u001b[0;36mHTTPConnection._new_conn\u001b[0;34m(self)\u001b[0m\n\u001b[1;32m    173\u001b[0m \u001b[38;5;28;01mtry\u001b[39;00m:\n\u001b[0;32m--> 174\u001b[0m     conn \u001b[38;5;241m=\u001b[39m \u001b[43mconnection\u001b[49m\u001b[38;5;241;43m.\u001b[39;49m\u001b[43mcreate_connection\u001b[49m\u001b[43m(\u001b[49m\n\u001b[1;32m    175\u001b[0m \u001b[43m        \u001b[49m\u001b[43m(\u001b[49m\u001b[38;5;28;43mself\u001b[39;49m\u001b[38;5;241;43m.\u001b[39;49m\u001b[43m_dns_host\u001b[49m\u001b[43m,\u001b[49m\u001b[43m \u001b[49m\u001b[38;5;28;43mself\u001b[39;49m\u001b[38;5;241;43m.\u001b[39;49m\u001b[43mport\u001b[49m\u001b[43m)\u001b[49m\u001b[43m,\u001b[49m\u001b[43m \u001b[49m\u001b[38;5;28;43mself\u001b[39;49m\u001b[38;5;241;43m.\u001b[39;49m\u001b[43mtimeout\u001b[49m\u001b[43m,\u001b[49m\u001b[43m \u001b[49m\u001b[38;5;241;43m*\u001b[39;49m\u001b[38;5;241;43m*\u001b[39;49m\u001b[43mextra_kw\u001b[49m\n\u001b[1;32m    176\u001b[0m \u001b[43m    \u001b[49m\u001b[43m)\u001b[49m\n\u001b[1;32m    178\u001b[0m \u001b[38;5;28;01mexcept\u001b[39;00m SocketTimeout:\n",
      "File \u001b[0;32m~/miniconda3/envs/aero/lib/python3.9/site-packages/urllib3/util/connection.py:72\u001b[0m, in \u001b[0;36mcreate_connection\u001b[0;34m(address, timeout, source_address, socket_options)\u001b[0m\n\u001b[1;32m     68\u001b[0m     \u001b[38;5;28;01mreturn\u001b[39;00m six\u001b[38;5;241m.\u001b[39mraise_from(\n\u001b[1;32m     69\u001b[0m         LocationParseError(\u001b[38;5;124mu\u001b[39m\u001b[38;5;124m\"\u001b[39m\u001b[38;5;124m'\u001b[39m\u001b[38;5;132;01m%s\u001b[39;00m\u001b[38;5;124m'\u001b[39m\u001b[38;5;124m, label empty or too long\u001b[39m\u001b[38;5;124m\"\u001b[39m \u001b[38;5;241m%\u001b[39m host), \u001b[38;5;28;01mNone\u001b[39;00m\n\u001b[1;32m     70\u001b[0m     )\n\u001b[0;32m---> 72\u001b[0m \u001b[38;5;28;01mfor\u001b[39;00m res \u001b[38;5;129;01min\u001b[39;00m \u001b[43msocket\u001b[49m\u001b[38;5;241;43m.\u001b[39;49m\u001b[43mgetaddrinfo\u001b[49m\u001b[43m(\u001b[49m\u001b[43mhost\u001b[49m\u001b[43m,\u001b[49m\u001b[43m \u001b[49m\u001b[43mport\u001b[49m\u001b[43m,\u001b[49m\u001b[43m \u001b[49m\u001b[43mfamily\u001b[49m\u001b[43m,\u001b[49m\u001b[43m \u001b[49m\u001b[43msocket\u001b[49m\u001b[38;5;241;43m.\u001b[39;49m\u001b[43mSOCK_STREAM\u001b[49m\u001b[43m)\u001b[49m:\n\u001b[1;32m     73\u001b[0m     af, socktype, proto, canonname, sa \u001b[38;5;241m=\u001b[39m res\n",
      "File \u001b[0;32m~/miniconda3/envs/aero/lib/python3.9/socket.py:954\u001b[0m, in \u001b[0;36mgetaddrinfo\u001b[0;34m(host, port, family, type, proto, flags)\u001b[0m\n\u001b[1;32m    953\u001b[0m addrlist \u001b[38;5;241m=\u001b[39m []\n\u001b[0;32m--> 954\u001b[0m \u001b[38;5;28;01mfor\u001b[39;00m res \u001b[38;5;129;01min\u001b[39;00m \u001b[43m_socket\u001b[49m\u001b[38;5;241;43m.\u001b[39;49m\u001b[43mgetaddrinfo\u001b[49m\u001b[43m(\u001b[49m\u001b[43mhost\u001b[49m\u001b[43m,\u001b[49m\u001b[43m \u001b[49m\u001b[43mport\u001b[49m\u001b[43m,\u001b[49m\u001b[43m \u001b[49m\u001b[43mfamily\u001b[49m\u001b[43m,\u001b[49m\u001b[43m \u001b[49m\u001b[38;5;28;43mtype\u001b[39;49m\u001b[43m,\u001b[49m\u001b[43m \u001b[49m\u001b[43mproto\u001b[49m\u001b[43m,\u001b[49m\u001b[43m \u001b[49m\u001b[43mflags\u001b[49m\u001b[43m)\u001b[49m:\n\u001b[1;32m    955\u001b[0m     af, socktype, proto, canonname, sa \u001b[38;5;241m=\u001b[39m res\n",
      "\u001b[0;31mgaierror\u001b[0m: [Errno -3] Temporary failure in name resolution",
      "\nDuring handling of the above exception, another exception occurred:\n",
      "\u001b[0;31mNewConnectionError\u001b[0m                        Traceback (most recent call last)",
      "File \u001b[0;32m~/miniconda3/envs/aero/lib/python3.9/site-packages/urllib3/connectionpool.py:703\u001b[0m, in \u001b[0;36mHTTPConnectionPool.urlopen\u001b[0;34m(self, method, url, body, headers, retries, redirect, assert_same_host, timeout, pool_timeout, release_conn, chunked, body_pos, **response_kw)\u001b[0m\n\u001b[1;32m    702\u001b[0m \u001b[38;5;66;03m# Make the request on the httplib connection object.\u001b[39;00m\n\u001b[0;32m--> 703\u001b[0m httplib_response \u001b[38;5;241m=\u001b[39m \u001b[38;5;28;43mself\u001b[39;49m\u001b[38;5;241;43m.\u001b[39;49m\u001b[43m_make_request\u001b[49m\u001b[43m(\u001b[49m\n\u001b[1;32m    704\u001b[0m \u001b[43m    \u001b[49m\u001b[43mconn\u001b[49m\u001b[43m,\u001b[49m\n\u001b[1;32m    705\u001b[0m \u001b[43m    \u001b[49m\u001b[43mmethod\u001b[49m\u001b[43m,\u001b[49m\n\u001b[1;32m    706\u001b[0m \u001b[43m    \u001b[49m\u001b[43murl\u001b[49m\u001b[43m,\u001b[49m\n\u001b[1;32m    707\u001b[0m \u001b[43m    \u001b[49m\u001b[43mtimeout\u001b[49m\u001b[38;5;241;43m=\u001b[39;49m\u001b[43mtimeout_obj\u001b[49m\u001b[43m,\u001b[49m\n\u001b[1;32m    708\u001b[0m \u001b[43m    \u001b[49m\u001b[43mbody\u001b[49m\u001b[38;5;241;43m=\u001b[39;49m\u001b[43mbody\u001b[49m\u001b[43m,\u001b[49m\n\u001b[1;32m    709\u001b[0m \u001b[43m    \u001b[49m\u001b[43mheaders\u001b[49m\u001b[38;5;241;43m=\u001b[39;49m\u001b[43mheaders\u001b[49m\u001b[43m,\u001b[49m\n\u001b[1;32m    710\u001b[0m \u001b[43m    \u001b[49m\u001b[43mchunked\u001b[49m\u001b[38;5;241;43m=\u001b[39;49m\u001b[43mchunked\u001b[49m\u001b[43m,\u001b[49m\n\u001b[1;32m    711\u001b[0m \u001b[43m\u001b[49m\u001b[43m)\u001b[49m\n\u001b[1;32m    713\u001b[0m \u001b[38;5;66;03m# If we're going to release the connection in ``finally:``, then\u001b[39;00m\n\u001b[1;32m    714\u001b[0m \u001b[38;5;66;03m# the response doesn't need to know about the connection. Otherwise\u001b[39;00m\n\u001b[1;32m    715\u001b[0m \u001b[38;5;66;03m# it will also try to release it and we'll have a double-release\u001b[39;00m\n\u001b[1;32m    716\u001b[0m \u001b[38;5;66;03m# mess.\u001b[39;00m\n",
      "File \u001b[0;32m~/miniconda3/envs/aero/lib/python3.9/site-packages/urllib3/connectionpool.py:386\u001b[0m, in \u001b[0;36mHTTPConnectionPool._make_request\u001b[0;34m(self, conn, method, url, timeout, chunked, **httplib_request_kw)\u001b[0m\n\u001b[1;32m    385\u001b[0m \u001b[38;5;28;01mtry\u001b[39;00m:\n\u001b[0;32m--> 386\u001b[0m     \u001b[38;5;28;43mself\u001b[39;49m\u001b[38;5;241;43m.\u001b[39;49m\u001b[43m_validate_conn\u001b[49m\u001b[43m(\u001b[49m\u001b[43mconn\u001b[49m\u001b[43m)\u001b[49m\n\u001b[1;32m    387\u001b[0m \u001b[38;5;28;01mexcept\u001b[39;00m (SocketTimeout, BaseSSLError) \u001b[38;5;28;01mas\u001b[39;00m e:\n\u001b[1;32m    388\u001b[0m     \u001b[38;5;66;03m# Py2 raises this as a BaseSSLError, Py3 raises it as socket timeout.\u001b[39;00m\n",
      "File \u001b[0;32m~/miniconda3/envs/aero/lib/python3.9/site-packages/urllib3/connectionpool.py:1042\u001b[0m, in \u001b[0;36mHTTPSConnectionPool._validate_conn\u001b[0;34m(self, conn)\u001b[0m\n\u001b[1;32m   1041\u001b[0m \u001b[38;5;28;01mif\u001b[39;00m \u001b[38;5;129;01mnot\u001b[39;00m \u001b[38;5;28mgetattr\u001b[39m(conn, \u001b[38;5;124m\"\u001b[39m\u001b[38;5;124msock\u001b[39m\u001b[38;5;124m\"\u001b[39m, \u001b[38;5;28;01mNone\u001b[39;00m):  \u001b[38;5;66;03m# AppEngine might not have  `.sock`\u001b[39;00m\n\u001b[0;32m-> 1042\u001b[0m     \u001b[43mconn\u001b[49m\u001b[38;5;241;43m.\u001b[39;49m\u001b[43mconnect\u001b[49m\u001b[43m(\u001b[49m\u001b[43m)\u001b[49m\n\u001b[1;32m   1044\u001b[0m \u001b[38;5;28;01mif\u001b[39;00m \u001b[38;5;129;01mnot\u001b[39;00m conn\u001b[38;5;241m.\u001b[39mis_verified:\n",
      "File \u001b[0;32m~/miniconda3/envs/aero/lib/python3.9/site-packages/urllib3/connection.py:358\u001b[0m, in \u001b[0;36mHTTPSConnection.connect\u001b[0;34m(self)\u001b[0m\n\u001b[1;32m    356\u001b[0m \u001b[38;5;28;01mdef\u001b[39;00m \u001b[38;5;21mconnect\u001b[39m(\u001b[38;5;28mself\u001b[39m):\n\u001b[1;32m    357\u001b[0m     \u001b[38;5;66;03m# Add certificate verification\u001b[39;00m\n\u001b[0;32m--> 358\u001b[0m     \u001b[38;5;28mself\u001b[39m\u001b[38;5;241m.\u001b[39msock \u001b[38;5;241m=\u001b[39m conn \u001b[38;5;241m=\u001b[39m \u001b[38;5;28;43mself\u001b[39;49m\u001b[38;5;241;43m.\u001b[39;49m\u001b[43m_new_conn\u001b[49m\u001b[43m(\u001b[49m\u001b[43m)\u001b[49m\n\u001b[1;32m    359\u001b[0m     hostname \u001b[38;5;241m=\u001b[39m \u001b[38;5;28mself\u001b[39m\u001b[38;5;241m.\u001b[39mhost\n",
      "File \u001b[0;32m~/miniconda3/envs/aero/lib/python3.9/site-packages/urllib3/connection.py:186\u001b[0m, in \u001b[0;36mHTTPConnection._new_conn\u001b[0;34m(self)\u001b[0m\n\u001b[1;32m    185\u001b[0m \u001b[38;5;28;01mexcept\u001b[39;00m SocketError \u001b[38;5;28;01mas\u001b[39;00m e:\n\u001b[0;32m--> 186\u001b[0m     \u001b[38;5;28;01mraise\u001b[39;00m NewConnectionError(\n\u001b[1;32m    187\u001b[0m         \u001b[38;5;28mself\u001b[39m, \u001b[38;5;124m\"\u001b[39m\u001b[38;5;124mFailed to establish a new connection: \u001b[39m\u001b[38;5;132;01m%s\u001b[39;00m\u001b[38;5;124m\"\u001b[39m \u001b[38;5;241m%\u001b[39m e\n\u001b[1;32m    188\u001b[0m     )\n\u001b[1;32m    190\u001b[0m \u001b[38;5;28;01mreturn\u001b[39;00m conn\n",
      "\u001b[0;31mNewConnectionError\u001b[0m: <urllib3.connection.HTTPSConnection object at 0x7f86ec9fff70>: Failed to establish a new connection: [Errno -3] Temporary failure in name resolution",
      "\nDuring handling of the above exception, another exception occurred:\n",
      "\u001b[0;31mMaxRetryError\u001b[0m                             Traceback (most recent call last)",
      "File \u001b[0;32m~/miniconda3/envs/aero/lib/python3.9/site-packages/requests/adapters.py:489\u001b[0m, in \u001b[0;36mHTTPAdapter.send\u001b[0;34m(self, request, stream, timeout, verify, cert, proxies)\u001b[0m\n\u001b[1;32m    488\u001b[0m \u001b[38;5;28;01mif\u001b[39;00m \u001b[38;5;129;01mnot\u001b[39;00m chunked:\n\u001b[0;32m--> 489\u001b[0m     resp \u001b[38;5;241m=\u001b[39m \u001b[43mconn\u001b[49m\u001b[38;5;241;43m.\u001b[39;49m\u001b[43murlopen\u001b[49m\u001b[43m(\u001b[49m\n\u001b[1;32m    490\u001b[0m \u001b[43m        \u001b[49m\u001b[43mmethod\u001b[49m\u001b[38;5;241;43m=\u001b[39;49m\u001b[43mrequest\u001b[49m\u001b[38;5;241;43m.\u001b[39;49m\u001b[43mmethod\u001b[49m\u001b[43m,\u001b[49m\n\u001b[1;32m    491\u001b[0m \u001b[43m        \u001b[49m\u001b[43murl\u001b[49m\u001b[38;5;241;43m=\u001b[39;49m\u001b[43murl\u001b[49m\u001b[43m,\u001b[49m\n\u001b[1;32m    492\u001b[0m \u001b[43m        \u001b[49m\u001b[43mbody\u001b[49m\u001b[38;5;241;43m=\u001b[39;49m\u001b[43mrequest\u001b[49m\u001b[38;5;241;43m.\u001b[39;49m\u001b[43mbody\u001b[49m\u001b[43m,\u001b[49m\n\u001b[1;32m    493\u001b[0m \u001b[43m        \u001b[49m\u001b[43mheaders\u001b[49m\u001b[38;5;241;43m=\u001b[39;49m\u001b[43mrequest\u001b[49m\u001b[38;5;241;43m.\u001b[39;49m\u001b[43mheaders\u001b[49m\u001b[43m,\u001b[49m\n\u001b[1;32m    494\u001b[0m \u001b[43m        \u001b[49m\u001b[43mredirect\u001b[49m\u001b[38;5;241;43m=\u001b[39;49m\u001b[38;5;28;43;01mFalse\u001b[39;49;00m\u001b[43m,\u001b[49m\n\u001b[1;32m    495\u001b[0m \u001b[43m        \u001b[49m\u001b[43massert_same_host\u001b[49m\u001b[38;5;241;43m=\u001b[39;49m\u001b[38;5;28;43;01mFalse\u001b[39;49;00m\u001b[43m,\u001b[49m\n\u001b[1;32m    496\u001b[0m \u001b[43m        \u001b[49m\u001b[43mpreload_content\u001b[49m\u001b[38;5;241;43m=\u001b[39;49m\u001b[38;5;28;43;01mFalse\u001b[39;49;00m\u001b[43m,\u001b[49m\n\u001b[1;32m    497\u001b[0m \u001b[43m        \u001b[49m\u001b[43mdecode_content\u001b[49m\u001b[38;5;241;43m=\u001b[39;49m\u001b[38;5;28;43;01mFalse\u001b[39;49;00m\u001b[43m,\u001b[49m\n\u001b[1;32m    498\u001b[0m \u001b[43m        \u001b[49m\u001b[43mretries\u001b[49m\u001b[38;5;241;43m=\u001b[39;49m\u001b[38;5;28;43mself\u001b[39;49m\u001b[38;5;241;43m.\u001b[39;49m\u001b[43mmax_retries\u001b[49m\u001b[43m,\u001b[49m\n\u001b[1;32m    499\u001b[0m \u001b[43m        \u001b[49m\u001b[43mtimeout\u001b[49m\u001b[38;5;241;43m=\u001b[39;49m\u001b[43mtimeout\u001b[49m\u001b[43m,\u001b[49m\n\u001b[1;32m    500\u001b[0m \u001b[43m    \u001b[49m\u001b[43m)\u001b[49m\n\u001b[1;32m    502\u001b[0m \u001b[38;5;66;03m# Send the request.\u001b[39;00m\n\u001b[1;32m    503\u001b[0m \u001b[38;5;28;01melse\u001b[39;00m:\n",
      "File \u001b[0;32m~/miniconda3/envs/aero/lib/python3.9/site-packages/urllib3/connectionpool.py:787\u001b[0m, in \u001b[0;36mHTTPConnectionPool.urlopen\u001b[0;34m(self, method, url, body, headers, retries, redirect, assert_same_host, timeout, pool_timeout, release_conn, chunked, body_pos, **response_kw)\u001b[0m\n\u001b[1;32m    785\u001b[0m     e \u001b[38;5;241m=\u001b[39m ProtocolError(\u001b[38;5;124m\"\u001b[39m\u001b[38;5;124mConnection aborted.\u001b[39m\u001b[38;5;124m\"\u001b[39m, e)\n\u001b[0;32m--> 787\u001b[0m retries \u001b[38;5;241m=\u001b[39m \u001b[43mretries\u001b[49m\u001b[38;5;241;43m.\u001b[39;49m\u001b[43mincrement\u001b[49m\u001b[43m(\u001b[49m\n\u001b[1;32m    788\u001b[0m \u001b[43m    \u001b[49m\u001b[43mmethod\u001b[49m\u001b[43m,\u001b[49m\u001b[43m \u001b[49m\u001b[43murl\u001b[49m\u001b[43m,\u001b[49m\u001b[43m \u001b[49m\u001b[43merror\u001b[49m\u001b[38;5;241;43m=\u001b[39;49m\u001b[43me\u001b[49m\u001b[43m,\u001b[49m\u001b[43m \u001b[49m\u001b[43m_pool\u001b[49m\u001b[38;5;241;43m=\u001b[39;49m\u001b[38;5;28;43mself\u001b[39;49m\u001b[43m,\u001b[49m\u001b[43m \u001b[49m\u001b[43m_stacktrace\u001b[49m\u001b[38;5;241;43m=\u001b[39;49m\u001b[43msys\u001b[49m\u001b[38;5;241;43m.\u001b[39;49m\u001b[43mexc_info\u001b[49m\u001b[43m(\u001b[49m\u001b[43m)\u001b[49m\u001b[43m[\u001b[49m\u001b[38;5;241;43m2\u001b[39;49m\u001b[43m]\u001b[49m\n\u001b[1;32m    789\u001b[0m \u001b[43m\u001b[49m\u001b[43m)\u001b[49m\n\u001b[1;32m    790\u001b[0m retries\u001b[38;5;241m.\u001b[39msleep()\n",
      "File \u001b[0;32m~/miniconda3/envs/aero/lib/python3.9/site-packages/urllib3/util/retry.py:592\u001b[0m, in \u001b[0;36mRetry.increment\u001b[0;34m(self, method, url, response, error, _pool, _stacktrace)\u001b[0m\n\u001b[1;32m    591\u001b[0m \u001b[38;5;28;01mif\u001b[39;00m new_retry\u001b[38;5;241m.\u001b[39mis_exhausted():\n\u001b[0;32m--> 592\u001b[0m     \u001b[38;5;28;01mraise\u001b[39;00m MaxRetryError(_pool, url, error \u001b[38;5;129;01mor\u001b[39;00m ResponseError(cause))\n\u001b[1;32m    594\u001b[0m log\u001b[38;5;241m.\u001b[39mdebug(\u001b[38;5;124m\"\u001b[39m\u001b[38;5;124mIncremented Retry for (url=\u001b[39m\u001b[38;5;124m'\u001b[39m\u001b[38;5;132;01m%s\u001b[39;00m\u001b[38;5;124m'\u001b[39m\u001b[38;5;124m): \u001b[39m\u001b[38;5;132;01m%r\u001b[39;00m\u001b[38;5;124m\"\u001b[39m, url, new_retry)\n",
      "\u001b[0;31mMaxRetryError\u001b[0m: HTTPSConnectionPool(host='api.twilio.com', port=443): Max retries exceeded with url: /2010-04-01/Accounts/AC5c24c3260ed6b1c8289de1897f4e5b39/Messages.json (Caused by NewConnectionError('<urllib3.connection.HTTPSConnection object at 0x7f86ec9fff70>: Failed to establish a new connection: [Errno -3] Temporary failure in name resolution'))",
      "\nDuring handling of the above exception, another exception occurred:\n",
      "\u001b[0;31mConnectionError\u001b[0m                           Traceback (most recent call last)",
      "Input \u001b[0;32mIn [19]\u001b[0m, in \u001b[0;36m<cell line: 2>\u001b[0;34m()\u001b[0m\n\u001b[1;32m     49\u001b[0m         writer\u001b[38;5;241m.\u001b[39mwrite_segmentation(masks)\n\u001b[1;32m     50\u001b[0m \u001b[38;5;28mprint\u001b[39m(\u001b[38;5;124mf\u001b[39m\u001b[38;5;124m\"\u001b[39m\u001b[38;5;124mChecking time indices: \u001b[39m\u001b[38;5;132;01m{\u001b[39;00mrow, column, tracks[\u001b[38;5;241m0\u001b[39m][\u001b[38;5;124m'\u001b[39m\u001b[38;5;124mt\u001b[39m\u001b[38;5;124m'\u001b[39m]\u001b[38;5;132;01m}\u001b[39;00m\u001b[38;5;124m\"\u001b[39m)\n\u001b[0;32m---> 51\u001b[0m \u001b[43msend_sms\u001b[49m\u001b[43m(\u001b[49m\u001b[38;5;124;43mf\u001b[39;49m\u001b[38;5;124;43m\"\u001b[39;49m\u001b[38;5;124;43mPosition \u001b[39;49m\u001b[38;5;132;43;01m{\u001b[39;49;00m\u001b[43mrow\u001b[49m\u001b[43m,\u001b[49m\u001b[43m \u001b[49m\u001b[43mcolumn\u001b[49m\u001b[38;5;132;43;01m}\u001b[39;49;00m\u001b[38;5;124;43m otsu segmentation saved out, \u001b[39;49m\u001b[38;5;132;43;01m{\u001b[39;49;00m\u001b[43mtracks\u001b[49m\u001b[43m[\u001b[49m\u001b[38;5;241;43m0\u001b[39;49m\u001b[43m]\u001b[49m\u001b[43m[\u001b[49m\u001b[38;5;124;43m'\u001b[39;49m\u001b[38;5;124;43mt\u001b[39;49m\u001b[38;5;124;43m'\u001b[39;49m\u001b[43m]\u001b[49m\u001b[38;5;132;43;01m}\u001b[39;49;00m\u001b[38;5;124;43m\"\u001b[39;49m\u001b[43m)\u001b[49m\n",
      "File \u001b[0;32m~/analysis/macrohet/macrohet/notify.py:8\u001b[0m, in \u001b[0;36msend_sms\u001b[0;34m(msg)\u001b[0m\n\u001b[1;32m      7\u001b[0m \u001b[38;5;28;01mdef\u001b[39;00m \u001b[38;5;21msend_sms\u001b[39m(msg):\n\u001b[0;32m----> 8\u001b[0m     message \u001b[38;5;241m=\u001b[39m \u001b[43mclient\u001b[49m\u001b[38;5;241;43m.\u001b[39;49m\u001b[43mmessages\u001b[49m\u001b[43m \u001b[49m\u001b[43m\\\u001b[49m\n\u001b[1;32m      9\u001b[0m \u001b[43m    \u001b[49m\u001b[38;5;241;43m.\u001b[39;49m\u001b[43mcreate\u001b[49m\u001b[43m(\u001b[49m\n\u001b[1;32m     10\u001b[0m \u001b[43m         \u001b[49m\u001b[43mbody\u001b[49m\u001b[38;5;241;43m=\u001b[39;49m\u001b[43mmsg\u001b[49m\u001b[43m,\u001b[49m\n\u001b[1;32m     11\u001b[0m \u001b[43m         \u001b[49m\u001b[43mfrom_\u001b[49m\u001b[43m \u001b[49m\u001b[38;5;241;43m=\u001b[39;49m\u001b[43m \u001b[49m\u001b[38;5;124;43m'\u001b[39;49m\u001b[38;5;124;43m+447897036683\u001b[39;49m\u001b[38;5;124;43m'\u001b[39;49m\u001b[43m,\u001b[49m\n\u001b[1;32m     12\u001b[0m \u001b[43m         \u001b[49m\u001b[43mto\u001b[49m\u001b[43m \u001b[49m\u001b[38;5;241;43m=\u001b[39;49m\u001b[43m \u001b[49m\u001b[38;5;124;43m'\u001b[39;49m\u001b[38;5;124;43m+447421002410\u001b[39;49m\u001b[38;5;124;43m'\u001b[39;49m\n\u001b[1;32m     13\u001b[0m \u001b[43m     \u001b[49m\u001b[43m)\u001b[49m\n",
      "File \u001b[0;32m~/miniconda3/envs/aero/lib/python3.9/site-packages/twilio/rest/api/v2010/account/message/__init__.py:103\u001b[0m, in \u001b[0;36mMessageList.create\u001b[0;34m(self, to, status_callback, application_sid, max_price, provide_feedback, attempt, validity_period, force_delivery, content_retention, address_retention, smart_encoded, persistent_action, shorten_urls, schedule_type, send_at, send_as_mms, content_sid, content_variables, from_, messaging_service_sid, body, media_url)\u001b[0m\n\u001b[1;32m     49\u001b[0m \u001b[38;5;124;03m\"\"\"\u001b[39;00m\n\u001b[1;32m     50\u001b[0m \u001b[38;5;124;03mCreate the MessageInstance\u001b[39;00m\n\u001b[1;32m     51\u001b[0m \n\u001b[0;32m   (...)\u001b[0m\n\u001b[1;32m     76\u001b[0m \u001b[38;5;124;03m:rtype: twilio.rest.api.v2010.account.message.MessageInstance\u001b[39;00m\n\u001b[1;32m     77\u001b[0m \u001b[38;5;124;03m\"\"\"\u001b[39;00m\n\u001b[1;32m     78\u001b[0m data \u001b[38;5;241m=\u001b[39m values\u001b[38;5;241m.\u001b[39mof({\n\u001b[1;32m     79\u001b[0m     \u001b[38;5;124m'\u001b[39m\u001b[38;5;124mTo\u001b[39m\u001b[38;5;124m'\u001b[39m: to,\n\u001b[1;32m     80\u001b[0m     \u001b[38;5;124m'\u001b[39m\u001b[38;5;124mFrom\u001b[39m\u001b[38;5;124m'\u001b[39m: from_,\n\u001b[0;32m   (...)\u001b[0m\n\u001b[1;32m    100\u001b[0m     \u001b[38;5;124m'\u001b[39m\u001b[38;5;124mContentVariables\u001b[39m\u001b[38;5;124m'\u001b[39m: content_variables,\n\u001b[1;32m    101\u001b[0m })\n\u001b[0;32m--> 103\u001b[0m payload \u001b[38;5;241m=\u001b[39m \u001b[38;5;28;43mself\u001b[39;49m\u001b[38;5;241;43m.\u001b[39;49m\u001b[43m_version\u001b[49m\u001b[38;5;241;43m.\u001b[39;49m\u001b[43mcreate\u001b[49m\u001b[43m(\u001b[49m\u001b[43mmethod\u001b[49m\u001b[38;5;241;43m=\u001b[39;49m\u001b[38;5;124;43m'\u001b[39;49m\u001b[38;5;124;43mPOST\u001b[39;49m\u001b[38;5;124;43m'\u001b[39;49m\u001b[43m,\u001b[49m\u001b[43m \u001b[49m\u001b[43muri\u001b[49m\u001b[38;5;241;43m=\u001b[39;49m\u001b[38;5;28;43mself\u001b[39;49m\u001b[38;5;241;43m.\u001b[39;49m\u001b[43m_uri\u001b[49m\u001b[43m,\u001b[49m\u001b[43m \u001b[49m\u001b[43mdata\u001b[49m\u001b[38;5;241;43m=\u001b[39;49m\u001b[43mdata\u001b[49m\u001b[43m,\u001b[49m\u001b[43m \u001b[49m\u001b[43m)\u001b[49m\n\u001b[1;32m    105\u001b[0m \u001b[38;5;28;01mreturn\u001b[39;00m MessageInstance(\u001b[38;5;28mself\u001b[39m\u001b[38;5;241m.\u001b[39m_version, payload, account_sid\u001b[38;5;241m=\u001b[39m\u001b[38;5;28mself\u001b[39m\u001b[38;5;241m.\u001b[39m_solution[\u001b[38;5;124m'\u001b[39m\u001b[38;5;124maccount_sid\u001b[39m\u001b[38;5;124m'\u001b[39m], )\n",
      "File \u001b[0;32m~/miniconda3/envs/aero/lib/python3.9/site-packages/twilio/base/version.py:193\u001b[0m, in \u001b[0;36mVersion.create\u001b[0;34m(self, method, uri, params, data, headers, auth, timeout, allow_redirects)\u001b[0m\n\u001b[1;32m    188\u001b[0m \u001b[38;5;28;01mdef\u001b[39;00m \u001b[38;5;21mcreate\u001b[39m(\u001b[38;5;28mself\u001b[39m, method, uri, params\u001b[38;5;241m=\u001b[39m\u001b[38;5;28;01mNone\u001b[39;00m, data\u001b[38;5;241m=\u001b[39m\u001b[38;5;28;01mNone\u001b[39;00m, headers\u001b[38;5;241m=\u001b[39m\u001b[38;5;28;01mNone\u001b[39;00m, auth\u001b[38;5;241m=\u001b[39m\u001b[38;5;28;01mNone\u001b[39;00m, timeout\u001b[38;5;241m=\u001b[39m\u001b[38;5;28;01mNone\u001b[39;00m,\n\u001b[1;32m    189\u001b[0m            allow_redirects\u001b[38;5;241m=\u001b[39m\u001b[38;5;28;01mFalse\u001b[39;00m):\n\u001b[1;32m    190\u001b[0m     \u001b[38;5;124;03m\"\"\"\u001b[39;00m\n\u001b[1;32m    191\u001b[0m \u001b[38;5;124;03m    Create a resource instance.\u001b[39;00m\n\u001b[1;32m    192\u001b[0m \u001b[38;5;124;03m    \"\"\"\u001b[39;00m\n\u001b[0;32m--> 193\u001b[0m     response \u001b[38;5;241m=\u001b[39m \u001b[38;5;28;43mself\u001b[39;49m\u001b[38;5;241;43m.\u001b[39;49m\u001b[43mrequest\u001b[49m\u001b[43m(\u001b[49m\n\u001b[1;32m    194\u001b[0m \u001b[43m        \u001b[49m\u001b[43mmethod\u001b[49m\u001b[43m,\u001b[49m\n\u001b[1;32m    195\u001b[0m \u001b[43m        \u001b[49m\u001b[43muri\u001b[49m\u001b[43m,\u001b[49m\n\u001b[1;32m    196\u001b[0m \u001b[43m        \u001b[49m\u001b[43mparams\u001b[49m\u001b[38;5;241;43m=\u001b[39;49m\u001b[43mparams\u001b[49m\u001b[43m,\u001b[49m\n\u001b[1;32m    197\u001b[0m \u001b[43m        \u001b[49m\u001b[43mdata\u001b[49m\u001b[38;5;241;43m=\u001b[39;49m\u001b[43mdata\u001b[49m\u001b[43m,\u001b[49m\n\u001b[1;32m    198\u001b[0m \u001b[43m        \u001b[49m\u001b[43mheaders\u001b[49m\u001b[38;5;241;43m=\u001b[39;49m\u001b[43mheaders\u001b[49m\u001b[43m,\u001b[49m\n\u001b[1;32m    199\u001b[0m \u001b[43m        \u001b[49m\u001b[43mauth\u001b[49m\u001b[38;5;241;43m=\u001b[39;49m\u001b[43mauth\u001b[49m\u001b[43m,\u001b[49m\n\u001b[1;32m    200\u001b[0m \u001b[43m        \u001b[49m\u001b[43mtimeout\u001b[49m\u001b[38;5;241;43m=\u001b[39;49m\u001b[43mtimeout\u001b[49m\u001b[43m,\u001b[49m\n\u001b[1;32m    201\u001b[0m \u001b[43m        \u001b[49m\u001b[43mallow_redirects\u001b[49m\u001b[38;5;241;43m=\u001b[39;49m\u001b[43mallow_redirects\u001b[49m\u001b[43m,\u001b[49m\n\u001b[1;32m    202\u001b[0m \u001b[43m    \u001b[49m\u001b[43m)\u001b[49m\n\u001b[1;32m    204\u001b[0m     \u001b[38;5;28;01mif\u001b[39;00m response\u001b[38;5;241m.\u001b[39mstatus_code \u001b[38;5;241m<\u001b[39m \u001b[38;5;241m200\u001b[39m \u001b[38;5;129;01mor\u001b[39;00m response\u001b[38;5;241m.\u001b[39mstatus_code \u001b[38;5;241m>\u001b[39m\u001b[38;5;241m=\u001b[39m \u001b[38;5;241m300\u001b[39m:\n\u001b[1;32m    205\u001b[0m         \u001b[38;5;28;01mraise\u001b[39;00m \u001b[38;5;28mself\u001b[39m\u001b[38;5;241m.\u001b[39mexception(method, uri, response, \u001b[38;5;124m'\u001b[39m\u001b[38;5;124mUnable to create record\u001b[39m\u001b[38;5;124m'\u001b[39m)\n",
      "File \u001b[0;32m~/miniconda3/envs/aero/lib/python3.9/site-packages/twilio/base/version.py:39\u001b[0m, in \u001b[0;36mVersion.request\u001b[0;34m(self, method, uri, params, data, headers, auth, timeout, allow_redirects)\u001b[0m\n\u001b[1;32m     35\u001b[0m \u001b[38;5;124;03m\"\"\"\u001b[39;00m\n\u001b[1;32m     36\u001b[0m \u001b[38;5;124;03mMake an HTTP request.\u001b[39;00m\n\u001b[1;32m     37\u001b[0m \u001b[38;5;124;03m\"\"\"\u001b[39;00m\n\u001b[1;32m     38\u001b[0m url \u001b[38;5;241m=\u001b[39m \u001b[38;5;28mself\u001b[39m\u001b[38;5;241m.\u001b[39mrelative_uri(uri)\n\u001b[0;32m---> 39\u001b[0m \u001b[38;5;28;01mreturn\u001b[39;00m \u001b[38;5;28;43mself\u001b[39;49m\u001b[38;5;241;43m.\u001b[39;49m\u001b[43mdomain\u001b[49m\u001b[38;5;241;43m.\u001b[39;49m\u001b[43mrequest\u001b[49m\u001b[43m(\u001b[49m\n\u001b[1;32m     40\u001b[0m \u001b[43m    \u001b[49m\u001b[43mmethod\u001b[49m\u001b[43m,\u001b[49m\n\u001b[1;32m     41\u001b[0m \u001b[43m    \u001b[49m\u001b[43murl\u001b[49m\u001b[43m,\u001b[49m\n\u001b[1;32m     42\u001b[0m \u001b[43m    \u001b[49m\u001b[43mparams\u001b[49m\u001b[38;5;241;43m=\u001b[39;49m\u001b[43mparams\u001b[49m\u001b[43m,\u001b[49m\n\u001b[1;32m     43\u001b[0m \u001b[43m    \u001b[49m\u001b[43mdata\u001b[49m\u001b[38;5;241;43m=\u001b[39;49m\u001b[43mdata\u001b[49m\u001b[43m,\u001b[49m\n\u001b[1;32m     44\u001b[0m \u001b[43m    \u001b[49m\u001b[43mheaders\u001b[49m\u001b[38;5;241;43m=\u001b[39;49m\u001b[43mheaders\u001b[49m\u001b[43m,\u001b[49m\n\u001b[1;32m     45\u001b[0m \u001b[43m    \u001b[49m\u001b[43mauth\u001b[49m\u001b[38;5;241;43m=\u001b[39;49m\u001b[43mauth\u001b[49m\u001b[43m,\u001b[49m\n\u001b[1;32m     46\u001b[0m \u001b[43m    \u001b[49m\u001b[43mtimeout\u001b[49m\u001b[38;5;241;43m=\u001b[39;49m\u001b[43mtimeout\u001b[49m\u001b[43m,\u001b[49m\n\u001b[1;32m     47\u001b[0m \u001b[43m    \u001b[49m\u001b[43mallow_redirects\u001b[49m\u001b[38;5;241;43m=\u001b[39;49m\u001b[43mallow_redirects\u001b[49m\n\u001b[1;32m     48\u001b[0m \u001b[43m\u001b[49m\u001b[43m)\u001b[49m\n",
      "File \u001b[0;32m~/miniconda3/envs/aero/lib/python3.9/site-packages/twilio/base/domain.py:39\u001b[0m, in \u001b[0;36mDomain.request\u001b[0;34m(self, method, uri, params, data, headers, auth, timeout, allow_redirects)\u001b[0m\n\u001b[1;32m     26\u001b[0m \u001b[38;5;124;03m\"\"\"\u001b[39;00m\n\u001b[1;32m     27\u001b[0m \u001b[38;5;124;03mMakes an HTTP request to this domain.\u001b[39;00m\n\u001b[1;32m     28\u001b[0m \u001b[38;5;124;03m:param string method: The HTTP method.\u001b[39;00m\n\u001b[0;32m   (...)\u001b[0m\n\u001b[1;32m     36\u001b[0m \u001b[38;5;124;03mredirects.\u001b[39;00m\n\u001b[1;32m     37\u001b[0m \u001b[38;5;124;03m\"\"\"\u001b[39;00m\n\u001b[1;32m     38\u001b[0m url \u001b[38;5;241m=\u001b[39m \u001b[38;5;28mself\u001b[39m\u001b[38;5;241m.\u001b[39mabsolute_url(uri)\n\u001b[0;32m---> 39\u001b[0m \u001b[38;5;28;01mreturn\u001b[39;00m \u001b[38;5;28;43mself\u001b[39;49m\u001b[38;5;241;43m.\u001b[39;49m\u001b[43mtwilio\u001b[49m\u001b[38;5;241;43m.\u001b[39;49m\u001b[43mrequest\u001b[49m\u001b[43m(\u001b[49m\n\u001b[1;32m     40\u001b[0m \u001b[43m    \u001b[49m\u001b[43mmethod\u001b[49m\u001b[43m,\u001b[49m\n\u001b[1;32m     41\u001b[0m \u001b[43m    \u001b[49m\u001b[43murl\u001b[49m\u001b[43m,\u001b[49m\n\u001b[1;32m     42\u001b[0m \u001b[43m    \u001b[49m\u001b[43mparams\u001b[49m\u001b[38;5;241;43m=\u001b[39;49m\u001b[43mparams\u001b[49m\u001b[43m,\u001b[49m\n\u001b[1;32m     43\u001b[0m \u001b[43m    \u001b[49m\u001b[43mdata\u001b[49m\u001b[38;5;241;43m=\u001b[39;49m\u001b[43mdata\u001b[49m\u001b[43m,\u001b[49m\n\u001b[1;32m     44\u001b[0m \u001b[43m    \u001b[49m\u001b[43mheaders\u001b[49m\u001b[38;5;241;43m=\u001b[39;49m\u001b[43mheaders\u001b[49m\u001b[43m,\u001b[49m\n\u001b[1;32m     45\u001b[0m \u001b[43m    \u001b[49m\u001b[43mauth\u001b[49m\u001b[38;5;241;43m=\u001b[39;49m\u001b[43mauth\u001b[49m\u001b[43m,\u001b[49m\n\u001b[1;32m     46\u001b[0m \u001b[43m    \u001b[49m\u001b[43mtimeout\u001b[49m\u001b[38;5;241;43m=\u001b[39;49m\u001b[43mtimeout\u001b[49m\u001b[43m,\u001b[49m\n\u001b[1;32m     47\u001b[0m \u001b[43m    \u001b[49m\u001b[43mallow_redirects\u001b[49m\u001b[38;5;241;43m=\u001b[39;49m\u001b[43mallow_redirects\u001b[49m\n\u001b[1;32m     48\u001b[0m \u001b[43m\u001b[49m\u001b[43m)\u001b[49m\n",
      "File \u001b[0;32m~/miniconda3/envs/aero/lib/python3.9/site-packages/twilio/rest/__init__.py:146\u001b[0m, in \u001b[0;36mClient.request\u001b[0;34m(self, method, uri, params, data, headers, auth, timeout, allow_redirects)\u001b[0m\n\u001b[1;32m    142\u001b[0m     headers[\u001b[38;5;124m'\u001b[39m\u001b[38;5;124mAccept\u001b[39m\u001b[38;5;124m'\u001b[39m] \u001b[38;5;241m=\u001b[39m \u001b[38;5;124m'\u001b[39m\u001b[38;5;124mapplication/json\u001b[39m\u001b[38;5;124m'\u001b[39m\n\u001b[1;32m    144\u001b[0m uri \u001b[38;5;241m=\u001b[39m \u001b[38;5;28mself\u001b[39m\u001b[38;5;241m.\u001b[39mget_hostname(uri)\n\u001b[0;32m--> 146\u001b[0m \u001b[38;5;28;01mreturn\u001b[39;00m \u001b[38;5;28;43mself\u001b[39;49m\u001b[38;5;241;43m.\u001b[39;49m\u001b[43mhttp_client\u001b[49m\u001b[38;5;241;43m.\u001b[39;49m\u001b[43mrequest\u001b[49m\u001b[43m(\u001b[49m\n\u001b[1;32m    147\u001b[0m \u001b[43m    \u001b[49m\u001b[43mmethod\u001b[49m\u001b[43m,\u001b[49m\n\u001b[1;32m    148\u001b[0m \u001b[43m    \u001b[49m\u001b[43muri\u001b[49m\u001b[43m,\u001b[49m\n\u001b[1;32m    149\u001b[0m \u001b[43m    \u001b[49m\u001b[43mparams\u001b[49m\u001b[38;5;241;43m=\u001b[39;49m\u001b[43mparams\u001b[49m\u001b[43m,\u001b[49m\n\u001b[1;32m    150\u001b[0m \u001b[43m    \u001b[49m\u001b[43mdata\u001b[49m\u001b[38;5;241;43m=\u001b[39;49m\u001b[43mdata\u001b[49m\u001b[43m,\u001b[49m\n\u001b[1;32m    151\u001b[0m \u001b[43m    \u001b[49m\u001b[43mheaders\u001b[49m\u001b[38;5;241;43m=\u001b[39;49m\u001b[43mheaders\u001b[49m\u001b[43m,\u001b[49m\n\u001b[1;32m    152\u001b[0m \u001b[43m    \u001b[49m\u001b[43mauth\u001b[49m\u001b[38;5;241;43m=\u001b[39;49m\u001b[43mauth\u001b[49m\u001b[43m,\u001b[49m\n\u001b[1;32m    153\u001b[0m \u001b[43m    \u001b[49m\u001b[43mtimeout\u001b[49m\u001b[38;5;241;43m=\u001b[39;49m\u001b[43mtimeout\u001b[49m\u001b[43m,\u001b[49m\n\u001b[1;32m    154\u001b[0m \u001b[43m    \u001b[49m\u001b[43mallow_redirects\u001b[49m\u001b[38;5;241;43m=\u001b[39;49m\u001b[43mallow_redirects\u001b[49m\n\u001b[1;32m    155\u001b[0m \u001b[43m\u001b[49m\u001b[43m)\u001b[49m\n",
      "File \u001b[0;32m~/miniconda3/envs/aero/lib/python3.9/site-packages/twilio/http/http_client.py:89\u001b[0m, in \u001b[0;36mTwilioHttpClient.request\u001b[0;34m(self, method, url, params, data, headers, auth, timeout, allow_redirects)\u001b[0m\n\u001b[1;32m     86\u001b[0m settings[\u001b[38;5;124m'\u001b[39m\u001b[38;5;124mallow_redirects\u001b[39m\u001b[38;5;124m'\u001b[39m] \u001b[38;5;241m=\u001b[39m allow_redirects\n\u001b[1;32m     87\u001b[0m settings[\u001b[38;5;124m'\u001b[39m\u001b[38;5;124mtimeout\u001b[39m\u001b[38;5;124m'\u001b[39m] \u001b[38;5;241m=\u001b[39m timeout \u001b[38;5;28;01mif\u001b[39;00m timeout \u001b[38;5;129;01mis\u001b[39;00m \u001b[38;5;129;01mnot\u001b[39;00m \u001b[38;5;28;01mNone\u001b[39;00m \u001b[38;5;28;01melse\u001b[39;00m \u001b[38;5;28mself\u001b[39m\u001b[38;5;241m.\u001b[39mtimeout\n\u001b[0;32m---> 89\u001b[0m response \u001b[38;5;241m=\u001b[39m \u001b[43msession\u001b[49m\u001b[38;5;241;43m.\u001b[39;49m\u001b[43msend\u001b[49m\u001b[43m(\u001b[49m\u001b[43mprepped_request\u001b[49m\u001b[43m,\u001b[49m\u001b[43m \u001b[49m\u001b[38;5;241;43m*\u001b[39;49m\u001b[38;5;241;43m*\u001b[39;49m\u001b[43msettings\u001b[49m\u001b[43m)\u001b[49m\n\u001b[1;32m     91\u001b[0m \u001b[38;5;28mself\u001b[39m\u001b[38;5;241m.\u001b[39m_log_response(response)\n\u001b[1;32m     93\u001b[0m \u001b[38;5;28mself\u001b[39m\u001b[38;5;241m.\u001b[39mlast_response \u001b[38;5;241m=\u001b[39m Response(\u001b[38;5;28mint\u001b[39m(response\u001b[38;5;241m.\u001b[39mstatus_code), response\u001b[38;5;241m.\u001b[39mtext, response\u001b[38;5;241m.\u001b[39mheaders)\n",
      "File \u001b[0;32m~/miniconda3/envs/aero/lib/python3.9/site-packages/requests/sessions.py:701\u001b[0m, in \u001b[0;36mSession.send\u001b[0;34m(self, request, **kwargs)\u001b[0m\n\u001b[1;32m    698\u001b[0m start \u001b[38;5;241m=\u001b[39m preferred_clock()\n\u001b[1;32m    700\u001b[0m \u001b[38;5;66;03m# Send the request\u001b[39;00m\n\u001b[0;32m--> 701\u001b[0m r \u001b[38;5;241m=\u001b[39m \u001b[43madapter\u001b[49m\u001b[38;5;241;43m.\u001b[39;49m\u001b[43msend\u001b[49m\u001b[43m(\u001b[49m\u001b[43mrequest\u001b[49m\u001b[43m,\u001b[49m\u001b[43m \u001b[49m\u001b[38;5;241;43m*\u001b[39;49m\u001b[38;5;241;43m*\u001b[39;49m\u001b[43mkwargs\u001b[49m\u001b[43m)\u001b[49m\n\u001b[1;32m    703\u001b[0m \u001b[38;5;66;03m# Total elapsed time of the request (approximately)\u001b[39;00m\n\u001b[1;32m    704\u001b[0m elapsed \u001b[38;5;241m=\u001b[39m preferred_clock() \u001b[38;5;241m-\u001b[39m start\n",
      "File \u001b[0;32m~/miniconda3/envs/aero/lib/python3.9/site-packages/requests/adapters.py:565\u001b[0m, in \u001b[0;36mHTTPAdapter.send\u001b[0;34m(self, request, stream, timeout, verify, cert, proxies)\u001b[0m\n\u001b[1;32m    561\u001b[0m     \u001b[38;5;28;01mif\u001b[39;00m \u001b[38;5;28misinstance\u001b[39m(e\u001b[38;5;241m.\u001b[39mreason, _SSLError):\n\u001b[1;32m    562\u001b[0m         \u001b[38;5;66;03m# This branch is for urllib3 v1.22 and later.\u001b[39;00m\n\u001b[1;32m    563\u001b[0m         \u001b[38;5;28;01mraise\u001b[39;00m SSLError(e, request\u001b[38;5;241m=\u001b[39mrequest)\n\u001b[0;32m--> 565\u001b[0m     \u001b[38;5;28;01mraise\u001b[39;00m \u001b[38;5;167;01mConnectionError\u001b[39;00m(e, request\u001b[38;5;241m=\u001b[39mrequest)\n\u001b[1;32m    567\u001b[0m \u001b[38;5;28;01mexcept\u001b[39;00m ClosedPoolError \u001b[38;5;28;01mas\u001b[39;00m e:\n\u001b[1;32m    568\u001b[0m     \u001b[38;5;28;01mraise\u001b[39;00m \u001b[38;5;167;01mConnectionError\u001b[39;00m(e, request\u001b[38;5;241m=\u001b[39mrequest)\n",
      "\u001b[0;31mConnectionError\u001b[0m: HTTPSConnectionPool(host='api.twilio.com', port=443): Max retries exceeded with url: /2010-04-01/Accounts/AC5c24c3260ed6b1c8289de1897f4e5b39/Messages.json (Caused by NewConnectionError('<urllib3.connection.HTTPSConnection object at 0x7f86ec9fff70>: Failed to establish a new connection: [Errno -3] Temporary failure in name resolution'))"
     ]
    }
   ],
   "source": [
    "### iterate over positions\n",
    "for (row, column), info in tqdm(assay_layout.iterrows(), \n",
    "                                desc = 'Progress through positions',\n",
    "                                total = len(assay_layout)):\n",
    "    if (row, column) == (3, 4):\n",
    "        continue\n",
    "    # tile images\n",
    "    images = tile.compile_mosaic(image_dir, \n",
    "                                 metadata, \n",
    "                                 row, \n",
    "                                 column, \n",
    "                                 set_plane = 'sum_proj',\n",
    "                                 ).astype(np.uint16)\n",
    "\n",
    "    # reload seg\n",
    "    tracks_fn = os.path.join(base_dir, f'labels/full_localisation/{row,column}_objs_masks_tracks.h5')\n",
    "    with btrack.io.HDF5FileHandler(tracks_fn, 'r') as hdf:\n",
    "        masks = hdf.segmentation\n",
    "        \n",
    "    # get an otsu segmentation of the Mtb channel\n",
    "    otsu_mtb = otsu_threshold_stack(images[:,1,...])\n",
    "    # get a manual thresholding of the mtb channel\n",
    "    manual_mtb_thresh = images[:,1,...] > 480\n",
    "    \n",
    "    # reshape intensity image to be gfp, rfp on last axis for regionprops\n",
    "    intensity_image = np.stack([images[:,0,...], \n",
    "                                images[:,1,...], \n",
    "                                otsu_mtb, \n",
    "                                manual_mtb_thresh], axis = -1)\n",
    "\n",
    "    # localise objects\n",
    "    objects = localise(masks, \n",
    "                       intensity_image, \n",
    "                       )\n",
    "    \n",
    "    # filter out small objects\n",
    "    objects = [o for o in objects if o.properties['area'] > 500]\n",
    "\n",
    "    # track on upscaled config fn\n",
    "    tracks = track(objects, masks, config_fn, search_radius = 20)\n",
    "\n",
    "    # save out \n",
    "    with btrack.io.HDF5FileHandler(os.path.join(base_dir, f'labels/relocalisation/thresh_{row, column}.h5'), \n",
    "                                       'w', \n",
    "                                       obj_type='obj_type_1'\n",
    "                                       ) as writer:\n",
    "#             writer.write_objects(objects)\n",
    "            writer.write_tracks(tracks)\n",
    "            writer.write_segmentation(masks)\n",
    "    print(f\"Checking time indices: {row, column, tracks[0]['t']}\")\n",
    "    send_sms(f\"Position {row, column} otsu segmentation saved out, {tracks[0]['t']}\")"
   ]
  },
  {
   "cell_type": "code",
   "execution_count": 7,
   "id": "49676827",
   "metadata": {},
   "outputs": [],
   "source": [
    "row, column = 3, 5"
   ]
  },
  {
   "cell_type": "code",
   "execution_count": 8,
   "id": "99ecd9bb",
   "metadata": {},
   "outputs": [
    {
     "name": "stderr",
     "output_type": "stream",
     "text": [
      "[INFO][2023/05/03 04:29:42 PM] Opening HDF file: /mnt/DATA/macrohet/labels/full_localisation/(3, 5)_objs_masks_tracks.h5...\n",
      "[INFO][2023/05/03 04:29:54 PM] Loading segmentation (75, 6048, 6048)\n",
      "[INFO][2023/05/03 04:29:54 PM] Closing HDF file: /mnt/DATA/macrohet/labels/full_localisation/(3, 5)_objs_masks_tracks.h5\n"
     ]
    }
   ],
   "source": [
    "images = tile.compile_mosaic(image_dir, \n",
    "                                 metadata, \n",
    "                                 row, \n",
    "                                 column, \n",
    "                                 set_plane = 'sum_proj',\n",
    "                                 ).astype(np.uint16)\n",
    "\n",
    "# reload seg\n",
    "tracks_fn = os.path.join(base_dir, f'labels/full_localisation/{row,column}_objs_masks_tracks.h5')\n",
    "with btrack.io.HDF5FileHandler(tracks_fn, 'r') as hdf:\n",
    "    masks = hdf.segmentation\n",
    "\n",
    "# reshape intensity image to be gfp, rfp on last axis for regionprops\n",
    "intensity_image = np.stack([images[:,0,...], \n",
    "                            images[:,1,...]], axis = -1)"
   ]
  },
  {
   "cell_type": "code",
   "execution_count": 31,
   "id": "106e3900",
   "metadata": {},
   "outputs": [
    {
     "name": "stderr",
     "output_type": "stream",
     "text": [
      "[INFO][2023/05/03 04:41:17 pm] Localizing objects from segmentation...\n",
      "03-May-23 16:41:17 - btrack.io._localization - INFO     - Localizing objects from segmentation...\n",
      " 50%|███████████████████████████████████▌                                   | 1/2 [00:14<00:14, 14.68s/it]<__array_function__ internals>:180: VisibleDeprecationWarning: Creating an ndarray from ragged nested sequences (which is a list-or-tuple of lists-or-tuples-or ndarrays with different lengths or shapes) is deprecated. If you meant to do this, you must specify 'dtype=object' when creating the ndarray.\n",
      "100%|███████████████████████████████████████████████████████████████████████| 2/2 [00:29<00:00, 14.66s/it]\n",
      "[INFO][2023/05/03 04:41:47 pm] Objects are of type: <class 'dict'>\n",
      "03-May-23 16:41:47 - btrack.io.utils - INFO     - Objects are of type: <class 'dict'>\n",
      "[INFO][2023/05/03 04:41:47 pm] ...Found 1080 objects in 2 frames.\n",
      "03-May-23 16:41:47 - btrack.io._localization - INFO     - ...Found 1080 objects in 2 frames.\n"
     ]
    }
   ],
   "source": [
    "objects = localise(masks[0:2], \n",
    "                       intensity_image[0:2], \n",
    "                       )"
   ]
  },
  {
   "cell_type": "code",
   "execution_count": 33,
   "id": "21d7be06",
   "metadata": {},
   "outputs": [],
   "source": [
    "# seperate array for t0 objs\n",
    "objs = [o for o in objects_t0 if o.t == 0]"
   ]
  },
  {
   "cell_type": "markdown",
   "id": "70619d4d",
   "metadata": {},
   "source": [
    "# Adding Mtb threshold to objects"
   ]
  },
  {
   "cell_type": "code",
   "execution_count": 10,
   "id": "a79530e2",
   "metadata": {},
   "outputs": [],
   "source": [
    "features_to_add = {\"my_feature\": 0.1}\n",
    "\n",
    "obj = objects[0]\n",
    "obj.properties = features_to_add"
   ]
  },
  {
   "cell_type": "code",
   "execution_count": 11,
   "id": "cdad5b50",
   "metadata": {},
   "outputs": [
    {
     "data": {
      "text/html": [
       "<table border=\"1\" class=\"dataframe\">\n",
       "  <thead>\n",
       "    <tr style=\"text-align: right;\">\n",
       "      <th></th>\n",
       "      <th>ID</th>\n",
       "      <th>x</th>\n",
       "      <th>y</th>\n",
       "      <th>z</th>\n",
       "      <th>t</th>\n",
       "      <th>dummy</th>\n",
       "      <th>states</th>\n",
       "      <th>label</th>\n",
       "      <th>area</th>\n",
       "      <th>major_axis_length</th>\n",
       "      <th>minor_axis_length</th>\n",
       "      <th>orientation</th>\n",
       "      <th>mean_intensity</th>\n",
       "      <th>intensity_image</th>\n",
       "      <th>my_feature</th>\n",
       "    </tr>\n",
       "  </thead>\n",
       "  <tbody>\n",
       "    <tr>\n",
       "      <th>0</th>\n",
       "      <td>0</td>\n",
       "      <td>71.709602</td>\n",
       "      <td>16.420708</td>\n",
       "      <td>0.0</td>\n",
       "      <td>0</td>\n",
       "      <td>False</td>\n",
       "      <td>7</td>\n",
       "      <td>5</td>\n",
       "      <td>21045</td>\n",
       "      <td>214.41384</td>\n",
       "      <td>129.839618</td>\n",
       "      <td>0.75574</td>\n",
       "      <td>(2,) array</td>\n",
       "      <td>(192, 177, 2) array</td>\n",
       "      <td>0.1</td>\n",
       "    </tr>\n",
       "  </tbody>\n",
       "</table>"
      ],
      "text/plain": [
       "{'ID': 0, 'x': 71.7096018735363, 'y': 16.42070845919741, 'z': 0.0, 't': 0, 'dummy': False, 'states': 7, 'label': 5, 'area': 21045, 'major_axis_length': 214.4138396227172, 'minor_axis_length': 129.83961848323756, 'orientation': 0.7557404606768471, 'mean_intensity': array([1194.51385127,  344.16593015]), 'intensity_image': array([[[0, 0],\n",
       "        [0, 0],\n",
       "        [0, 0],\n",
       "        ...,\n",
       "        [0, 0],\n",
       "        [0, 0],\n",
       "        [0, 0]],\n",
       "\n",
       "       [[0, 0],\n",
       "        [0, 0],\n",
       "        [0, 0],\n",
       "        ...,\n",
       "        [0, 0],\n",
       "        [0, 0],\n",
       "        [0, 0]],\n",
       "\n",
       "       [[0, 0],\n",
       "        [0, 0],\n",
       "        [0, 0],\n",
       "        ...,\n",
       "        [0, 0],\n",
       "        [0, 0],\n",
       "        [0, 0]],\n",
       "\n",
       "       ...,\n",
       "\n",
       "       [[0, 0],\n",
       "        [0, 0],\n",
       "        [0, 0],\n",
       "        ...,\n",
       "        [0, 0],\n",
       "        [0, 0],\n",
       "        [0, 0]],\n",
       "\n",
       "       [[0, 0],\n",
       "        [0, 0],\n",
       "        [0, 0],\n",
       "        ...,\n",
       "        [0, 0],\n",
       "        [0, 0],\n",
       "        [0, 0]],\n",
       "\n",
       "       [[0, 0],\n",
       "        [0, 0],\n",
       "        [0, 0],\n",
       "        ...,\n",
       "        [0, 0],\n",
       "        [0, 0],\n",
       "        [0, 0]]], dtype=uint16), 'my_feature': 0.1}"
      ]
     },
     "execution_count": 11,
     "metadata": {},
     "output_type": "execute_result"
    }
   ],
   "source": [
    "objects[0]"
   ]
  },
  {
   "cell_type": "code",
   "execution_count": 13,
   "id": "33171f97",
   "metadata": {},
   "outputs": [],
   "source": [
    "import napari"
   ]
  },
  {
   "cell_type": "code",
   "execution_count": 15,
   "id": "7842e36b",
   "metadata": {},
   "outputs": [
    {
     "data": {
      "text/plain": [
       "[<Image layer 'Image' at 0x7faa90e00f70>,\n",
       " <Image layer 'Image [1]' at 0x7faa99138ca0>]"
      ]
     },
     "execution_count": 15,
     "metadata": {},
     "output_type": "execute_result"
    }
   ],
   "source": [
    "# v = napari.Viewer()\n",
    "v.add_image(objects[0].properties['intensity_image'], channel_axis=-1, colormap=['green', 'magenta'])"
   ]
  },
  {
   "cell_type": "code",
   "execution_count": 16,
   "id": "ec5c1a6d",
   "metadata": {},
   "outputs": [],
   "source": [
    "rfp_glimpse = objects[0].properties['intensity_image'][...,-1]"
   ]
  },
  {
   "cell_type": "code",
   "execution_count": 22,
   "id": "606539e0",
   "metadata": {},
   "outputs": [],
   "source": [
    "for obj in objects:\n",
    "    v.add_image(obj.properties['intensity_image'], channel_axis=-1, colormap=['green', 'magenta'], name = obj.ID)\n",
    "    if obj.ID == 10:\n",
    "        break"
   ]
  },
  {
   "cell_type": "markdown",
   "id": "768f65e0",
   "metadata": {},
   "source": [
    "### obj 0 and obj 1 are negative and positive respectively"
   ]
  },
  {
   "cell_type": "code",
   "execution_count": 26,
   "id": "9606f394",
   "metadata": {},
   "outputs": [
    {
     "data": {
      "text/plain": [
       "array([1194.51385127,  344.16593015])"
      ]
     },
     "execution_count": 26,
     "metadata": {},
     "output_type": "execute_result"
    }
   ],
   "source": [
    "objects[0].properties['mean_intensity'][-1]"
   ]
  },
  {
   "cell_type": "code",
   "execution_count": 27,
   "id": "fa1937bb",
   "metadata": {},
   "outputs": [
    {
     "data": {
      "text/plain": [
       "array([1148.94431453,  361.85228883])"
      ]
     },
     "execution_count": 27,
     "metadata": {},
     "output_type": "execute_result"
    }
   ],
   "source": [
    "objects[1].properties['mean_intensity'][-1]"
   ]
  },
  {
   "cell_type": "code",
   "execution_count": 35,
   "id": "1621513f",
   "metadata": {},
   "outputs": [
    {
     "data": {
      "text/plain": [
       "536"
      ]
     },
     "execution_count": 35,
     "metadata": {},
     "output_type": "execute_result"
    }
   ],
   "source": [
    "len(objs)"
   ]
  },
  {
   "cell_type": "markdown",
   "id": "a30dc696",
   "metadata": {},
   "source": [
    "# Apply a thresholding"
   ]
  },
  {
   "cell_type": "code",
   "execution_count": 38,
   "id": "aba569e1",
   "metadata": {},
   "outputs": [],
   "source": [
    "rfp_t0 = images[0,1]"
   ]
  },
  {
   "cell_type": "code",
   "execution_count": 79,
   "id": "9cd88dde",
   "metadata": {},
   "outputs": [
    {
     "data": {
      "text/plain": [
       "(75, 2, 6048, 6048)"
      ]
     },
     "execution_count": 79,
     "metadata": {},
     "output_type": "execute_result"
    }
   ],
   "source": [
    "images.shape"
   ]
  },
  {
   "cell_type": "code",
   "execution_count": 80,
   "id": "1c7212b2",
   "metadata": {},
   "outputs": [
    {
     "data": {
      "text/html": [
       "<table>\n",
       "    <tr>\n",
       "        <td>\n",
       "            <table>\n",
       "                <thead>\n",
       "                    <tr>\n",
       "                        <td> </td>\n",
       "                        <th> Array </th>\n",
       "                        <th> Chunk </th>\n",
       "                    </tr>\n",
       "                </thead>\n",
       "                <tbody>\n",
       "                    \n",
       "                    <tr>\n",
       "                        <th> Bytes </th>\n",
       "                        <td> 5.11 GiB </td>\n",
       "                        <td> 7.75 MiB </td>\n",
       "                    </tr>\n",
       "                    \n",
       "                    <tr>\n",
       "                        <th> Shape </th>\n",
       "                        <td> (75, 6048, 6048) </td>\n",
       "                        <td> (1, 2016, 2016) </td>\n",
       "                    </tr>\n",
       "                    <tr>\n",
       "                        <th> Count </th>\n",
       "                        <td> 17550 Tasks </td>\n",
       "                        <td> 675 Chunks </td>\n",
       "                    </tr>\n",
       "                    <tr>\n",
       "                    <th> Type </th>\n",
       "                    <td> uint16 </td>\n",
       "                    <td> numpy.ndarray </td>\n",
       "                    </tr>\n",
       "                </tbody>\n",
       "            </table>\n",
       "        </td>\n",
       "        <td>\n",
       "        <svg width=\"195\" height=\"185\" style=\"stroke:rgb(0,0,0);stroke-width:1\" >\n",
       "\n",
       "  <!-- Horizontal lines -->\n",
       "  <line x1=\"10\" y1=\"0\" x2=\"25\" y2=\"15\" style=\"stroke-width:2\" />\n",
       "  <line x1=\"10\" y1=\"40\" x2=\"25\" y2=\"55\" />\n",
       "  <line x1=\"10\" y1=\"80\" x2=\"25\" y2=\"95\" />\n",
       "  <line x1=\"10\" y1=\"120\" x2=\"25\" y2=\"135\" style=\"stroke-width:2\" />\n",
       "\n",
       "  <!-- Vertical lines -->\n",
       "  <line x1=\"10\" y1=\"0\" x2=\"10\" y2=\"120\" style=\"stroke-width:2\" />\n",
       "  <line x1=\"10\" y1=\"0\" x2=\"10\" y2=\"120\" />\n",
       "  <line x1=\"11\" y1=\"1\" x2=\"11\" y2=\"121\" />\n",
       "  <line x1=\"12\" y1=\"2\" x2=\"12\" y2=\"122\" />\n",
       "  <line x1=\"13\" y1=\"3\" x2=\"13\" y2=\"123\" />\n",
       "  <line x1=\"13\" y1=\"3\" x2=\"13\" y2=\"123\" />\n",
       "  <line x1=\"14\" y1=\"4\" x2=\"14\" y2=\"124\" />\n",
       "  <line x1=\"15\" y1=\"5\" x2=\"15\" y2=\"125\" />\n",
       "  <line x1=\"16\" y1=\"6\" x2=\"16\" y2=\"126\" />\n",
       "  <line x1=\"17\" y1=\"7\" x2=\"17\" y2=\"127\" />\n",
       "  <line x1=\"18\" y1=\"8\" x2=\"18\" y2=\"128\" />\n",
       "  <line x1=\"18\" y1=\"8\" x2=\"18\" y2=\"128\" />\n",
       "  <line x1=\"19\" y1=\"9\" x2=\"19\" y2=\"129\" />\n",
       "  <line x1=\"20\" y1=\"10\" x2=\"20\" y2=\"130\" />\n",
       "  <line x1=\"21\" y1=\"11\" x2=\"21\" y2=\"131\" />\n",
       "  <line x1=\"22\" y1=\"12\" x2=\"22\" y2=\"132\" />\n",
       "  <line x1=\"23\" y1=\"13\" x2=\"23\" y2=\"133\" />\n",
       "  <line x1=\"23\" y1=\"13\" x2=\"23\" y2=\"133\" />\n",
       "  <line x1=\"24\" y1=\"14\" x2=\"24\" y2=\"134\" />\n",
       "  <line x1=\"25\" y1=\"15\" x2=\"25\" y2=\"135\" style=\"stroke-width:2\" />\n",
       "\n",
       "  <!-- Colored Rectangle -->\n",
       "  <polygon points=\"10.0,0.0 25.57197789387105,15.57197789387105 25.57197789387105,135.57197789387106 10.0,120.0\" style=\"fill:#8B4903A0;stroke-width:0\"/>\n",
       "\n",
       "  <!-- Horizontal lines -->\n",
       "  <line x1=\"10\" y1=\"0\" x2=\"130\" y2=\"0\" style=\"stroke-width:2\" />\n",
       "  <line x1=\"10\" y1=\"0\" x2=\"130\" y2=\"0\" />\n",
       "  <line x1=\"11\" y1=\"1\" x2=\"131\" y2=\"1\" />\n",
       "  <line x1=\"12\" y1=\"2\" x2=\"132\" y2=\"2\" />\n",
       "  <line x1=\"13\" y1=\"3\" x2=\"133\" y2=\"3\" />\n",
       "  <line x1=\"13\" y1=\"3\" x2=\"133\" y2=\"3\" />\n",
       "  <line x1=\"14\" y1=\"4\" x2=\"134\" y2=\"4\" />\n",
       "  <line x1=\"15\" y1=\"5\" x2=\"135\" y2=\"5\" />\n",
       "  <line x1=\"16\" y1=\"6\" x2=\"136\" y2=\"6\" />\n",
       "  <line x1=\"17\" y1=\"7\" x2=\"137\" y2=\"7\" />\n",
       "  <line x1=\"18\" y1=\"8\" x2=\"138\" y2=\"8\" />\n",
       "  <line x1=\"18\" y1=\"8\" x2=\"138\" y2=\"8\" />\n",
       "  <line x1=\"19\" y1=\"9\" x2=\"139\" y2=\"9\" />\n",
       "  <line x1=\"20\" y1=\"10\" x2=\"140\" y2=\"10\" />\n",
       "  <line x1=\"21\" y1=\"11\" x2=\"141\" y2=\"11\" />\n",
       "  <line x1=\"22\" y1=\"12\" x2=\"142\" y2=\"12\" />\n",
       "  <line x1=\"23\" y1=\"13\" x2=\"143\" y2=\"13\" />\n",
       "  <line x1=\"23\" y1=\"13\" x2=\"143\" y2=\"13\" />\n",
       "  <line x1=\"24\" y1=\"14\" x2=\"144\" y2=\"14\" />\n",
       "  <line x1=\"25\" y1=\"15\" x2=\"145\" y2=\"15\" style=\"stroke-width:2\" />\n",
       "\n",
       "  <!-- Vertical lines -->\n",
       "  <line x1=\"10\" y1=\"0\" x2=\"25\" y2=\"15\" style=\"stroke-width:2\" />\n",
       "  <line x1=\"50\" y1=\"0\" x2=\"65\" y2=\"15\" />\n",
       "  <line x1=\"90\" y1=\"0\" x2=\"105\" y2=\"15\" />\n",
       "  <line x1=\"130\" y1=\"0\" x2=\"145\" y2=\"15\" style=\"stroke-width:2\" />\n",
       "\n",
       "  <!-- Colored Rectangle -->\n",
       "  <polygon points=\"10.0,0.0 130.0,0.0 145.57197789387106,15.57197789387105 25.57197789387105,15.57197789387105\" style=\"fill:#8B4903A0;stroke-width:0\"/>\n",
       "\n",
       "  <!-- Horizontal lines -->\n",
       "  <line x1=\"25\" y1=\"15\" x2=\"145\" y2=\"15\" style=\"stroke-width:2\" />\n",
       "  <line x1=\"25\" y1=\"55\" x2=\"145\" y2=\"55\" />\n",
       "  <line x1=\"25\" y1=\"95\" x2=\"145\" y2=\"95\" />\n",
       "  <line x1=\"25\" y1=\"135\" x2=\"145\" y2=\"135\" style=\"stroke-width:2\" />\n",
       "\n",
       "  <!-- Vertical lines -->\n",
       "  <line x1=\"25\" y1=\"15\" x2=\"25\" y2=\"135\" style=\"stroke-width:2\" />\n",
       "  <line x1=\"65\" y1=\"15\" x2=\"65\" y2=\"135\" />\n",
       "  <line x1=\"105\" y1=\"15\" x2=\"105\" y2=\"135\" />\n",
       "  <line x1=\"145\" y1=\"15\" x2=\"145\" y2=\"135\" style=\"stroke-width:2\" />\n",
       "\n",
       "  <!-- Colored Rectangle -->\n",
       "  <polygon points=\"25.57197789387105,15.57197789387105 145.57197789387106,15.57197789387105 145.57197789387106,135.57197789387106 25.57197789387105,135.57197789387106\" style=\"fill:#ECB172A0;stroke-width:0\"/>\n",
       "\n",
       "  <!-- Text -->\n",
       "  <text x=\"85.571978\" y=\"155.571978\" font-size=\"1.0rem\" font-weight=\"100\" text-anchor=\"middle\" >6048</text>\n",
       "  <text x=\"165.571978\" y=\"75.571978\" font-size=\"1.0rem\" font-weight=\"100\" text-anchor=\"middle\" transform=\"rotate(-90,165.571978,75.571978)\">6048</text>\n",
       "  <text x=\"7.785989\" y=\"147.785989\" font-size=\"1.0rem\" font-weight=\"100\" text-anchor=\"middle\" transform=\"rotate(45,7.785989,147.785989)\">75</text>\n",
       "</svg>\n",
       "        </td>\n",
       "    </tr>\n",
       "</table>"
      ],
      "text/plain": [
       "dask.array<getitem, shape=(75, 6048, 6048), dtype=uint16, chunksize=(1, 2016, 2016), chunktype=numpy.ndarray>"
      ]
     },
     "execution_count": 80,
     "metadata": {},
     "output_type": "execute_result"
    }
   ],
   "source": [
    "images[:,1,...]"
   ]
  },
  {
   "cell_type": "code",
   "execution_count": 84,
   "id": "adda19b2",
   "metadata": {},
   "outputs": [
    {
     "ename": "TypeError",
     "evalue": "'>=' not supported between instances of 'str' and 'int'",
     "output_type": "error",
     "traceback": [
      "\u001b[0;31m---------------------------------------------------------------------------\u001b[0m",
      "\u001b[0;31mTypeError\u001b[0m                                 Traceback (most recent call last)",
      "Input \u001b[0;32mIn [84]\u001b[0m, in \u001b[0;36m<cell line: 1>\u001b[0;34m()\u001b[0m\n\u001b[0;32m----> 1\u001b[0m \u001b[43motsu_threshold\u001b[49m\u001b[43m(\u001b[49m\u001b[43mimages\u001b[49m\u001b[43m[\u001b[49m\u001b[38;5;241;43m0\u001b[39;49m\u001b[43m:\u001b[49m\u001b[38;5;241;43m2\u001b[39;49m\u001b[43m,\u001b[49m\u001b[38;5;241;43m1\u001b[39;49m\u001b[43m,\u001b[49m\u001b[38;5;241;43m0\u001b[39;49m\u001b[43m:\u001b[49m\u001b[38;5;241;43m100\u001b[39;49m\u001b[43m,\u001b[49m\u001b[38;5;241;43m0\u001b[39;49m\u001b[43m:\u001b[49m\u001b[38;5;241;43m100\u001b[39;49m\u001b[43m]\u001b[49m\u001b[43m)\u001b[49m\n",
      "Input \u001b[0;32mIn [83]\u001b[0m, in \u001b[0;36motsu_threshold\u001b[0;34m(images)\u001b[0m\n\u001b[1;32m     21\u001b[0m segmentations \u001b[38;5;241m=\u001b[39m np\u001b[38;5;241m.\u001b[39mzeros(images\u001b[38;5;241m.\u001b[39mshape, dtype\u001b[38;5;241m=\u001b[39m\u001b[38;5;28mbool\u001b[39m)\n\u001b[1;32m     22\u001b[0m \u001b[38;5;28;01mfor\u001b[39;00m i, image \u001b[38;5;129;01min\u001b[39;00m \u001b[38;5;28menumerate\u001b[39m(images):\n\u001b[0;32m---> 23\u001b[0m     threshold \u001b[38;5;241m=\u001b[39m \u001b[43mthreshold_otsu\u001b[49m\u001b[43m(\u001b[49m\u001b[43mimage\u001b[49m\u001b[43m)\u001b[49m\n\u001b[1;32m     24\u001b[0m     segmentations[i] \u001b[38;5;241m=\u001b[39m image \u001b[38;5;241m>\u001b[39m threshold\n\u001b[1;32m     25\u001b[0m \u001b[38;5;28;01mreturn\u001b[39;00m segmentations\n",
      "File \u001b[0;32m~/miniconda3/envs/aero/lib/python3.9/site-packages/skimage/filters/thresholding.py:379\u001b[0m, in \u001b[0;36mthreshold_otsu\u001b[0;34m(image, nbins, hist)\u001b[0m\n\u001b[1;32m    376\u001b[0m variance12 \u001b[38;5;241m=\u001b[39m weight1[:\u001b[38;5;241m-\u001b[39m\u001b[38;5;241m1\u001b[39m] \u001b[38;5;241m*\u001b[39m weight2[\u001b[38;5;241m1\u001b[39m:] \u001b[38;5;241m*\u001b[39m (mean1[:\u001b[38;5;241m-\u001b[39m\u001b[38;5;241m1\u001b[39m] \u001b[38;5;241m-\u001b[39m mean2[\u001b[38;5;241m1\u001b[39m:]) \u001b[38;5;241m*\u001b[39m\u001b[38;5;241m*\u001b[39m \u001b[38;5;241m2\u001b[39m\n\u001b[1;32m    378\u001b[0m idx \u001b[38;5;241m=\u001b[39m np\u001b[38;5;241m.\u001b[39margmax(variance12)\n\u001b[0;32m--> 379\u001b[0m threshold \u001b[38;5;241m=\u001b[39m \u001b[43mbin_centers\u001b[49m\u001b[43m[\u001b[49m\u001b[43midx\u001b[49m\u001b[43m]\u001b[49m\n\u001b[1;32m    381\u001b[0m \u001b[38;5;28;01mreturn\u001b[39;00m threshold\n",
      "File \u001b[0;32m~/miniconda3/envs/aero/lib/python3.9/site-packages/dask/array/core.py:1689\u001b[0m, in \u001b[0;36mArray.__array__\u001b[0;34m(self, dtype, **kwargs)\u001b[0m\n\u001b[1;32m   1688\u001b[0m \u001b[38;5;28;01mdef\u001b[39;00m \u001b[38;5;21m__array__\u001b[39m(\u001b[38;5;28mself\u001b[39m, dtype\u001b[38;5;241m=\u001b[39m\u001b[38;5;28;01mNone\u001b[39;00m, \u001b[38;5;241m*\u001b[39m\u001b[38;5;241m*\u001b[39mkwargs):\n\u001b[0;32m-> 1689\u001b[0m     x \u001b[38;5;241m=\u001b[39m \u001b[38;5;28;43mself\u001b[39;49m\u001b[38;5;241;43m.\u001b[39;49m\u001b[43mcompute\u001b[49m\u001b[43m(\u001b[49m\u001b[43m)\u001b[49m\n\u001b[1;32m   1690\u001b[0m     \u001b[38;5;28;01mif\u001b[39;00m dtype \u001b[38;5;129;01mand\u001b[39;00m x\u001b[38;5;241m.\u001b[39mdtype \u001b[38;5;241m!=\u001b[39m dtype:\n\u001b[1;32m   1691\u001b[0m         x \u001b[38;5;241m=\u001b[39m x\u001b[38;5;241m.\u001b[39mastype(dtype)\n",
      "File \u001b[0;32m~/miniconda3/envs/aero/lib/python3.9/site-packages/dask/base.py:315\u001b[0m, in \u001b[0;36mDaskMethodsMixin.compute\u001b[0;34m(self, **kwargs)\u001b[0m\n\u001b[1;32m    291\u001b[0m \u001b[38;5;28;01mdef\u001b[39;00m \u001b[38;5;21mcompute\u001b[39m(\u001b[38;5;28mself\u001b[39m, \u001b[38;5;241m*\u001b[39m\u001b[38;5;241m*\u001b[39mkwargs):\n\u001b[1;32m    292\u001b[0m     \u001b[38;5;124;03m\"\"\"Compute this dask collection\u001b[39;00m\n\u001b[1;32m    293\u001b[0m \n\u001b[1;32m    294\u001b[0m \u001b[38;5;124;03m    This turns a lazy Dask collection into its in-memory equivalent.\u001b[39;00m\n\u001b[0;32m   (...)\u001b[0m\n\u001b[1;32m    313\u001b[0m \u001b[38;5;124;03m    dask.base.compute\u001b[39;00m\n\u001b[1;32m    314\u001b[0m \u001b[38;5;124;03m    \"\"\"\u001b[39;00m\n\u001b[0;32m--> 315\u001b[0m     (result,) \u001b[38;5;241m=\u001b[39m \u001b[43mcompute\u001b[49m\u001b[43m(\u001b[49m\u001b[38;5;28;43mself\u001b[39;49m\u001b[43m,\u001b[49m\u001b[43m \u001b[49m\u001b[43mtraverse\u001b[49m\u001b[38;5;241;43m=\u001b[39;49m\u001b[38;5;28;43;01mFalse\u001b[39;49;00m\u001b[43m,\u001b[49m\u001b[43m \u001b[49m\u001b[38;5;241;43m*\u001b[39;49m\u001b[38;5;241;43m*\u001b[39;49m\u001b[43mkwargs\u001b[49m\u001b[43m)\u001b[49m\n\u001b[1;32m    316\u001b[0m     \u001b[38;5;28;01mreturn\u001b[39;00m result\n",
      "File \u001b[0;32m~/miniconda3/envs/aero/lib/python3.9/site-packages/dask/base.py:603\u001b[0m, in \u001b[0;36mcompute\u001b[0;34m(traverse, optimize_graph, scheduler, get, *args, **kwargs)\u001b[0m\n\u001b[1;32m    600\u001b[0m     keys\u001b[38;5;241m.\u001b[39mappend(x\u001b[38;5;241m.\u001b[39m__dask_keys__())\n\u001b[1;32m    601\u001b[0m     postcomputes\u001b[38;5;241m.\u001b[39mappend(x\u001b[38;5;241m.\u001b[39m__dask_postcompute__())\n\u001b[0;32m--> 603\u001b[0m results \u001b[38;5;241m=\u001b[39m \u001b[43mschedule\u001b[49m\u001b[43m(\u001b[49m\u001b[43mdsk\u001b[49m\u001b[43m,\u001b[49m\u001b[43m \u001b[49m\u001b[43mkeys\u001b[49m\u001b[43m,\u001b[49m\u001b[43m \u001b[49m\u001b[38;5;241;43m*\u001b[39;49m\u001b[38;5;241;43m*\u001b[39;49m\u001b[43mkwargs\u001b[49m\u001b[43m)\u001b[49m\n\u001b[1;32m    604\u001b[0m \u001b[38;5;28;01mreturn\u001b[39;00m repack([f(r, \u001b[38;5;241m*\u001b[39ma) \u001b[38;5;28;01mfor\u001b[39;00m r, (f, a) \u001b[38;5;129;01min\u001b[39;00m \u001b[38;5;28mzip\u001b[39m(results, postcomputes)])\n",
      "File \u001b[0;32m~/miniconda3/envs/aero/lib/python3.9/site-packages/dask/threaded.py:89\u001b[0m, in \u001b[0;36mget\u001b[0;34m(dsk, keys, cache, num_workers, pool, **kwargs)\u001b[0m\n\u001b[1;32m     86\u001b[0m     \u001b[38;5;28;01melif\u001b[39;00m \u001b[38;5;28misinstance\u001b[39m(pool, multiprocessing\u001b[38;5;241m.\u001b[39mpool\u001b[38;5;241m.\u001b[39mPool):\n\u001b[1;32m     87\u001b[0m         pool \u001b[38;5;241m=\u001b[39m MultiprocessingPoolExecutor(pool)\n\u001b[0;32m---> 89\u001b[0m results \u001b[38;5;241m=\u001b[39m \u001b[43mget_async\u001b[49m\u001b[43m(\u001b[49m\n\u001b[1;32m     90\u001b[0m \u001b[43m    \u001b[49m\u001b[43mpool\u001b[49m\u001b[38;5;241;43m.\u001b[39;49m\u001b[43msubmit\u001b[49m\u001b[43m,\u001b[49m\n\u001b[1;32m     91\u001b[0m \u001b[43m    \u001b[49m\u001b[43mpool\u001b[49m\u001b[38;5;241;43m.\u001b[39;49m\u001b[43m_max_workers\u001b[49m\u001b[43m,\u001b[49m\n\u001b[1;32m     92\u001b[0m \u001b[43m    \u001b[49m\u001b[43mdsk\u001b[49m\u001b[43m,\u001b[49m\n\u001b[1;32m     93\u001b[0m \u001b[43m    \u001b[49m\u001b[43mkeys\u001b[49m\u001b[43m,\u001b[49m\n\u001b[1;32m     94\u001b[0m \u001b[43m    \u001b[49m\u001b[43mcache\u001b[49m\u001b[38;5;241;43m=\u001b[39;49m\u001b[43mcache\u001b[49m\u001b[43m,\u001b[49m\n\u001b[1;32m     95\u001b[0m \u001b[43m    \u001b[49m\u001b[43mget_id\u001b[49m\u001b[38;5;241;43m=\u001b[39;49m\u001b[43m_thread_get_id\u001b[49m\u001b[43m,\u001b[49m\n\u001b[1;32m     96\u001b[0m \u001b[43m    \u001b[49m\u001b[43mpack_exception\u001b[49m\u001b[38;5;241;43m=\u001b[39;49m\u001b[43mpack_exception\u001b[49m\u001b[43m,\u001b[49m\n\u001b[1;32m     97\u001b[0m \u001b[43m    \u001b[49m\u001b[38;5;241;43m*\u001b[39;49m\u001b[38;5;241;43m*\u001b[39;49m\u001b[43mkwargs\u001b[49m\u001b[43m,\u001b[49m\n\u001b[1;32m     98\u001b[0m \u001b[43m\u001b[49m\u001b[43m)\u001b[49m\n\u001b[1;32m    100\u001b[0m \u001b[38;5;66;03m# Cleanup pools associated to dead threads\u001b[39;00m\n\u001b[1;32m    101\u001b[0m \u001b[38;5;28;01mwith\u001b[39;00m pools_lock:\n",
      "File \u001b[0;32m~/miniconda3/envs/aero/lib/python3.9/site-packages/dask/local.py:511\u001b[0m, in \u001b[0;36mget_async\u001b[0;34m(submit, num_workers, dsk, result, cache, get_id, rerun_exceptions_locally, pack_exception, raise_exception, callbacks, dumps, loads, chunksize, **kwargs)\u001b[0m\n\u001b[1;32m    509\u001b[0m         _execute_task(task, data)  \u001b[38;5;66;03m# Re-execute locally\u001b[39;00m\n\u001b[1;32m    510\u001b[0m     \u001b[38;5;28;01melse\u001b[39;00m:\n\u001b[0;32m--> 511\u001b[0m         \u001b[43mraise_exception\u001b[49m\u001b[43m(\u001b[49m\u001b[43mexc\u001b[49m\u001b[43m,\u001b[49m\u001b[43m \u001b[49m\u001b[43mtb\u001b[49m\u001b[43m)\u001b[49m\n\u001b[1;32m    512\u001b[0m res, worker_id \u001b[38;5;241m=\u001b[39m loads(res_info)\n\u001b[1;32m    513\u001b[0m state[\u001b[38;5;124m\"\u001b[39m\u001b[38;5;124mcache\u001b[39m\u001b[38;5;124m\"\u001b[39m][key] \u001b[38;5;241m=\u001b[39m res\n",
      "File \u001b[0;32m~/miniconda3/envs/aero/lib/python3.9/site-packages/dask/local.py:319\u001b[0m, in \u001b[0;36mreraise\u001b[0;34m(exc, tb)\u001b[0m\n\u001b[1;32m    317\u001b[0m \u001b[38;5;28;01mif\u001b[39;00m exc\u001b[38;5;241m.\u001b[39m__traceback__ \u001b[38;5;129;01mis\u001b[39;00m \u001b[38;5;129;01mnot\u001b[39;00m tb:\n\u001b[1;32m    318\u001b[0m     \u001b[38;5;28;01mraise\u001b[39;00m exc\u001b[38;5;241m.\u001b[39mwith_traceback(tb)\n\u001b[0;32m--> 319\u001b[0m \u001b[38;5;28;01mraise\u001b[39;00m exc\n",
      "File \u001b[0;32m~/miniconda3/envs/aero/lib/python3.9/site-packages/dask/local.py:224\u001b[0m, in \u001b[0;36mexecute_task\u001b[0;34m(key, task_info, dumps, loads, get_id, pack_exception)\u001b[0m\n\u001b[1;32m    222\u001b[0m \u001b[38;5;28;01mtry\u001b[39;00m:\n\u001b[1;32m    223\u001b[0m     task, data \u001b[38;5;241m=\u001b[39m loads(task_info)\n\u001b[0;32m--> 224\u001b[0m     result \u001b[38;5;241m=\u001b[39m \u001b[43m_execute_task\u001b[49m\u001b[43m(\u001b[49m\u001b[43mtask\u001b[49m\u001b[43m,\u001b[49m\u001b[43m \u001b[49m\u001b[43mdata\u001b[49m\u001b[43m)\u001b[49m\n\u001b[1;32m    225\u001b[0m     \u001b[38;5;28mid\u001b[39m \u001b[38;5;241m=\u001b[39m get_id()\n\u001b[1;32m    226\u001b[0m     result \u001b[38;5;241m=\u001b[39m dumps((result, \u001b[38;5;28mid\u001b[39m))\n",
      "File \u001b[0;32m~/miniconda3/envs/aero/lib/python3.9/site-packages/dask/core.py:119\u001b[0m, in \u001b[0;36m_execute_task\u001b[0;34m(arg, cache, dsk)\u001b[0m\n\u001b[1;32m    115\u001b[0m     func, args \u001b[38;5;241m=\u001b[39m arg[\u001b[38;5;241m0\u001b[39m], arg[\u001b[38;5;241m1\u001b[39m:]\n\u001b[1;32m    116\u001b[0m     \u001b[38;5;66;03m# Note: Don't assign the subtask results to a variable. numpy detects\u001b[39;00m\n\u001b[1;32m    117\u001b[0m     \u001b[38;5;66;03m# temporaries by their reference count and can execute certain\u001b[39;00m\n\u001b[1;32m    118\u001b[0m     \u001b[38;5;66;03m# operations in-place.\u001b[39;00m\n\u001b[0;32m--> 119\u001b[0m     \u001b[38;5;28;01mreturn\u001b[39;00m \u001b[43mfunc\u001b[49m\u001b[43m(\u001b[49m\u001b[38;5;241;43m*\u001b[39;49m\u001b[43m(\u001b[49m\u001b[43m_execute_task\u001b[49m\u001b[43m(\u001b[49m\u001b[43ma\u001b[49m\u001b[43m,\u001b[49m\u001b[43m \u001b[49m\u001b[43mcache\u001b[49m\u001b[43m)\u001b[49m\u001b[43m \u001b[49m\u001b[38;5;28;43;01mfor\u001b[39;49;00m\u001b[43m \u001b[49m\u001b[43ma\u001b[49m\u001b[43m \u001b[49m\u001b[38;5;129;43;01min\u001b[39;49;00m\u001b[43m \u001b[49m\u001b[43margs\u001b[49m\u001b[43m)\u001b[49m\u001b[43m)\u001b[49m\n\u001b[1;32m    120\u001b[0m \u001b[38;5;28;01melif\u001b[39;00m \u001b[38;5;129;01mnot\u001b[39;00m ishashable(arg):\n\u001b[1;32m    121\u001b[0m     \u001b[38;5;28;01mreturn\u001b[39;00m arg\n",
      "File \u001b[0;32m~/miniconda3/envs/aero/lib/python3.9/site-packages/dask/array/reductions.py:1058\u001b[0m, in \u001b[0;36marg_chunk\u001b[0;34m(func, argfunc, x, axis, offset_info)\u001b[0m\n\u001b[1;32m   1054\u001b[0m \u001b[38;5;28;01mexcept\u001b[39;00m \u001b[38;5;167;01mTypeError\u001b[39;00m:\n\u001b[1;32m   1055\u001b[0m     \u001b[38;5;66;03m# Array type doesn't support structured arrays (e.g., CuPy)\u001b[39;00m\n\u001b[1;32m   1056\u001b[0m     result \u001b[38;5;241m=\u001b[39m \u001b[38;5;28mdict\u001b[39m()\n\u001b[0;32m-> 1058\u001b[0m result[\u001b[38;5;124m\"\u001b[39m\u001b[38;5;124mvals\u001b[39m\u001b[38;5;124m\"\u001b[39m] \u001b[38;5;241m=\u001b[39m vals\n\u001b[1;32m   1059\u001b[0m result[\u001b[38;5;124m\"\u001b[39m\u001b[38;5;124marg\u001b[39m\u001b[38;5;124m\"\u001b[39m] \u001b[38;5;241m=\u001b[39m arg\n\u001b[1;32m   1060\u001b[0m \u001b[38;5;28;01mreturn\u001b[39;00m result\n",
      "File \u001b[0;32m~/miniconda3/envs/aero/lib/python3.9/site-packages/dask/array/core.py:1893\u001b[0m, in \u001b[0;36mArray.__setitem__\u001b[0;34m(self, key, value)\u001b[0m\n\u001b[1;32m   1890\u001b[0m value \u001b[38;5;241m=\u001b[39m asanyarray(value)\n\u001b[1;32m   1892\u001b[0m out \u001b[38;5;241m=\u001b[39m \u001b[38;5;124m\"\u001b[39m\u001b[38;5;124msetitem-\u001b[39m\u001b[38;5;124m\"\u001b[39m \u001b[38;5;241m+\u001b[39m tokenize(\u001b[38;5;28mself\u001b[39m, key, value)\n\u001b[0;32m-> 1893\u001b[0m dsk \u001b[38;5;241m=\u001b[39m \u001b[43msetitem_array\u001b[49m\u001b[43m(\u001b[49m\u001b[43mout\u001b[49m\u001b[43m,\u001b[49m\u001b[43m \u001b[49m\u001b[38;5;28;43mself\u001b[39;49m\u001b[43m,\u001b[49m\u001b[43m \u001b[49m\u001b[43mkey\u001b[49m\u001b[43m,\u001b[49m\u001b[43m \u001b[49m\u001b[43mvalue\u001b[49m\u001b[43m)\u001b[49m\n\u001b[1;32m   1895\u001b[0m meta \u001b[38;5;241m=\u001b[39m meta_from_array(\u001b[38;5;28mself\u001b[39m\u001b[38;5;241m.\u001b[39m_meta)\n\u001b[1;32m   1896\u001b[0m \u001b[38;5;28;01mif\u001b[39;00m np\u001b[38;5;241m.\u001b[39misscalar(meta):\n",
      "File \u001b[0;32m~/miniconda3/envs/aero/lib/python3.9/site-packages/dask/array/slicing.py:1757\u001b[0m, in \u001b[0;36msetitem_array\u001b[0;34m(out_name, array, indices, value)\u001b[0m\n\u001b[1;32m   1754\u001b[0m value_ndim \u001b[38;5;241m=\u001b[39m \u001b[38;5;28mlen\u001b[39m(value_shape)\n\u001b[1;32m   1756\u001b[0m \u001b[38;5;66;03m# Reformat input indices\u001b[39;00m\n\u001b[0;32m-> 1757\u001b[0m indices, implied_shape, reverse, implied_shape_positions \u001b[38;5;241m=\u001b[39m \u001b[43mparse_assignment_indices\u001b[49m\u001b[43m(\u001b[49m\n\u001b[1;32m   1758\u001b[0m \u001b[43m    \u001b[49m\u001b[43mindices\u001b[49m\u001b[43m,\u001b[49m\u001b[43m \u001b[49m\u001b[43marray_shape\u001b[49m\n\u001b[1;32m   1759\u001b[0m \u001b[43m\u001b[49m\u001b[43m)\u001b[49m\n\u001b[1;32m   1761\u001b[0m \u001b[38;5;66;03m# Empty slices can only be assigned size 1 values\u001b[39;00m\n\u001b[1;32m   1762\u001b[0m \u001b[38;5;28;01mif\u001b[39;00m \u001b[38;5;241m0\u001b[39m \u001b[38;5;129;01min\u001b[39;00m implied_shape \u001b[38;5;129;01mand\u001b[39;00m value_shape \u001b[38;5;129;01mand\u001b[39;00m \u001b[38;5;28mmax\u001b[39m(value_shape) \u001b[38;5;241m>\u001b[39m \u001b[38;5;241m1\u001b[39m:\n",
      "File \u001b[0;32m~/miniconda3/envs/aero/lib/python3.9/site-packages/dask/array/slicing.py:1378\u001b[0m, in \u001b[0;36mparse_assignment_indices\u001b[0;34m(indices, shape)\u001b[0m\n\u001b[1;32m   1376\u001b[0m implied_shape_positions \u001b[38;5;241m=\u001b[39m []\n\u001b[1;32m   1377\u001b[0m reverse \u001b[38;5;241m=\u001b[39m []\n\u001b[0;32m-> 1378\u001b[0m parsed_indices \u001b[38;5;241m=\u001b[39m \u001b[38;5;28mlist\u001b[39m(\u001b[43mnormalize_index\u001b[49m\u001b[43m(\u001b[49m\u001b[43mindices\u001b[49m\u001b[43m,\u001b[49m\u001b[43m \u001b[49m\u001b[43mshape\u001b[49m\u001b[43m)\u001b[49m)\n\u001b[1;32m   1380\u001b[0m n_lists \u001b[38;5;241m=\u001b[39m \u001b[38;5;241m0\u001b[39m\n\u001b[1;32m   1382\u001b[0m \u001b[38;5;28;01mfor\u001b[39;00m i, (index, size) \u001b[38;5;129;01min\u001b[39;00m \u001b[38;5;28menumerate\u001b[39m(\u001b[38;5;28mzip\u001b[39m(parsed_indices, shape)):\n",
      "File \u001b[0;32m~/miniconda3/envs/aero/lib/python3.9/site-packages/dask/array/slicing.py:917\u001b[0m, in \u001b[0;36mnormalize_index\u001b[0;34m(idx, shape)\u001b[0m\n\u001b[1;32m    915\u001b[0m \u001b[38;5;28;01mfor\u001b[39;00m axis, (i, d) \u001b[38;5;129;01min\u001b[39;00m \u001b[38;5;28menumerate\u001b[39m(\u001b[38;5;28mzip\u001b[39m(idx, none_shape)):\n\u001b[1;32m    916\u001b[0m     \u001b[38;5;28;01mif\u001b[39;00m d \u001b[38;5;129;01mis\u001b[39;00m \u001b[38;5;129;01mnot\u001b[39;00m \u001b[38;5;28;01mNone\u001b[39;00m:\n\u001b[0;32m--> 917\u001b[0m         \u001b[43mcheck_index\u001b[49m\u001b[43m(\u001b[49m\u001b[43maxis\u001b[49m\u001b[43m,\u001b[49m\u001b[43m \u001b[49m\u001b[43mi\u001b[49m\u001b[43m,\u001b[49m\u001b[43m \u001b[49m\u001b[43md\u001b[49m\u001b[43m)\u001b[49m\n\u001b[1;32m    918\u001b[0m idx \u001b[38;5;241m=\u001b[39m \u001b[38;5;28mtuple\u001b[39m(\u001b[38;5;28mmap\u001b[39m(sanitize_index, idx))\n\u001b[1;32m    919\u001b[0m idx \u001b[38;5;241m=\u001b[39m \u001b[38;5;28mtuple\u001b[39m(\u001b[38;5;28mmap\u001b[39m(normalize_slice, idx, none_shape))\n",
      "File \u001b[0;32m~/miniconda3/envs/aero/lib/python3.9/site-packages/dask/array/slicing.py:988\u001b[0m, in \u001b[0;36mcheck_index\u001b[0;34m(axis, ind, dimension)\u001b[0m\n\u001b[1;32m    985\u001b[0m \u001b[38;5;28;01melif\u001b[39;00m ind \u001b[38;5;129;01mis\u001b[39;00m \u001b[38;5;28;01mNone\u001b[39;00m:\n\u001b[1;32m    986\u001b[0m     \u001b[38;5;28;01mreturn\u001b[39;00m\n\u001b[0;32m--> 988\u001b[0m \u001b[38;5;28;01melif\u001b[39;00m \u001b[43mind\u001b[49m\u001b[43m \u001b[49m\u001b[38;5;241;43m>\u001b[39;49m\u001b[38;5;241;43m=\u001b[39;49m\u001b[43m \u001b[49m\u001b[43mdimension\u001b[49m \u001b[38;5;129;01mor\u001b[39;00m ind \u001b[38;5;241m<\u001b[39m \u001b[38;5;241m-\u001b[39mdimension:\n\u001b[1;32m    989\u001b[0m     \u001b[38;5;28;01mraise\u001b[39;00m \u001b[38;5;167;01mIndexError\u001b[39;00m(\n\u001b[1;32m    990\u001b[0m         \u001b[38;5;124mf\u001b[39m\u001b[38;5;124m\"\u001b[39m\u001b[38;5;124mIndex \u001b[39m\u001b[38;5;132;01m{\u001b[39;00mind\u001b[38;5;132;01m}\u001b[39;00m\u001b[38;5;124m is out of bounds for axis \u001b[39m\u001b[38;5;132;01m{\u001b[39;00maxis\u001b[38;5;132;01m}\u001b[39;00m\u001b[38;5;124m with size \u001b[39m\u001b[38;5;132;01m{\u001b[39;00mdimension\u001b[38;5;132;01m}\u001b[39;00m\u001b[38;5;124m\"\u001b[39m\n\u001b[1;32m    991\u001b[0m     )\n",
      "\u001b[0;31mTypeError\u001b[0m: '>=' not supported between instances of 'str' and 'int'"
     ]
    }
   ],
   "source": [
    "otsu_threshold(images[0:2,1,0:100,0:100])"
   ]
  },
  {
   "cell_type": "code",
   "execution_count": 99,
   "id": "9c2d477b",
   "metadata": {},
   "outputs": [],
   "source": [
    "import skimage.filters as filters\n",
    "\n",
    "def otsu_threshold_single_frame(image):\n",
    "    \"\"\"\n",
    "    Applies Otsu's thresholding segmentation to a grayscale image.\n",
    "\n",
    "    Parameters:\n",
    "    -----------\n",
    "    image : ndarray\n",
    "        A grayscale image.\n",
    "\n",
    "    Returns:\n",
    "    --------\n",
    "    ndarray\n",
    "        A binary image with the same shape as the input image.\n",
    "    \"\"\"\n",
    "    # Compute Otsu's threshold value\n",
    "    thresh = filters.threshold_otsu(image)\n",
    "\n",
    "    # Apply binary thresholding using the threshold value\n",
    "    binary_image = image > thresh\n",
    "\n",
    "    return binary_image\n"
   ]
  },
  {
   "cell_type": "code",
   "execution_count": 47,
   "id": "a7545dd3",
   "metadata": {},
   "outputs": [],
   "source": [
    "image = rfp_t0.compute().compute()"
   ]
  },
  {
   "cell_type": "code",
   "execution_count": 49,
   "id": "db0d6fa0",
   "metadata": {},
   "outputs": [
    {
     "data": {
      "text/plain": [
       "(6048, 6048)"
      ]
     },
     "execution_count": 49,
     "metadata": {},
     "output_type": "execute_result"
    }
   ],
   "source": [
    "image.shape"
   ]
  },
  {
   "cell_type": "code",
   "execution_count": 67,
   "id": "0898a2bc",
   "metadata": {
    "scrolled": true
   },
   "outputs": [
    {
     "name": "stdout",
     "output_type": "stream",
     "text": [
      "Help on function threshold_otsu in module skimage.filters.thresholding:\n",
      "\n",
      "threshold_otsu(image=None, nbins=256, *, hist=None)\n",
      "    Return threshold value based on Otsu's method.\n",
      "    \n",
      "    Either image or hist must be provided. If hist is provided, the actual\n",
      "    histogram of the image is ignored.\n",
      "    \n",
      "    Parameters\n",
      "    ----------\n",
      "    image : (N, M[, ..., P]) ndarray, optional\n",
      "        Grayscale input image.\n",
      "    nbins : int, optional\n",
      "        Number of bins used to calculate histogram. This value is ignored for\n",
      "        integer arrays.\n",
      "    hist : array, or 2-tuple of arrays, optional\n",
      "        Histogram from which to determine the threshold, and optionally a\n",
      "        corresponding array of bin center intensities. If no hist provided,\n",
      "        this function will compute it from the image.\n",
      "    \n",
      "    \n",
      "    Returns\n",
      "    -------\n",
      "    threshold : float\n",
      "        Upper threshold value. All pixels with an intensity higher than\n",
      "        this value are assumed to be foreground.\n",
      "    \n",
      "    References\n",
      "    ----------\n",
      "    .. [1] Wikipedia, https://en.wikipedia.org/wiki/Otsu's_Method\n",
      "    \n",
      "    Examples\n",
      "    --------\n",
      "    >>> from skimage.data import camera\n",
      "    >>> image = camera()\n",
      "    >>> thresh = threshold_otsu(image)\n",
      "    >>> binary = image <= thresh\n",
      "    \n",
      "    Notes\n",
      "    -----\n",
      "    The input image must be grayscale.\n",
      "\n"
     ]
    }
   ],
   "source": [
    "help(filters.threshold_otsu)"
   ]
  },
  {
   "cell_type": "code",
   "execution_count": 50,
   "id": "7b7841d9",
   "metadata": {},
   "outputs": [
    {
     "name": "stdout",
     "output_type": "stream",
     "text": [
      "1260\n"
     ]
    }
   ],
   "source": [
    "# image = rfp_t0[0:100, 0:100]\n",
    "\n",
    "# Compute Otsu's threshold value\n",
    "thresh = filters.threshold_otsu(image)\n",
    "print(thresh)\n",
    "# Apply binary thresholding using the threshold value\n",
    "binary_image = image > thresh"
   ]
  },
  {
   "cell_type": "code",
   "execution_count": 51,
   "id": "7984940f",
   "metadata": {},
   "outputs": [
    {
     "data": {
      "text/plain": [
       "<Image layer 'binary_image' at 0x7fa99d690190>"
      ]
     },
     "execution_count": 51,
     "metadata": {},
     "output_type": "execute_result"
    }
   ],
   "source": [
    "v.add_image(binary_image)"
   ]
  },
  {
   "cell_type": "code",
   "execution_count": 52,
   "id": "3575a62f",
   "metadata": {},
   "outputs": [
    {
     "data": {
      "text/plain": [
       "<Image layer 'rfp_t0' at 0x7fa97e773be0>"
      ]
     },
     "execution_count": 52,
     "metadata": {},
     "output_type": "execute_result"
    }
   ],
   "source": [
    "v.add_image(rfp_t0)"
   ]
  },
  {
   "cell_type": "code",
   "execution_count": 56,
   "id": "20892da2",
   "metadata": {
    "scrolled": true
   },
   "outputs": [
    {
     "data": {
      "text/plain": [
       "<Image layer 'Image [1]' at 0x7fa976db3eb0>"
      ]
     },
     "execution_count": 56,
     "metadata": {},
     "output_type": "execute_result"
    }
   ],
   "source": [
    "v.add_image(rfp_t0>480)"
   ]
  },
  {
   "cell_type": "markdown",
   "id": "57913899",
   "metadata": {},
   "source": [
    "# Apply otsu and basic thresholding to glimpse - cannot do"
   ]
  },
  {
   "cell_type": "code",
   "execution_count": 70,
   "id": "20fbd9d1",
   "metadata": {},
   "outputs": [
    {
     "data": {
      "text/plain": [
       "<Image layer 'rfp_glimpse' at 0x7fa9917aaaf0>"
      ]
     },
     "execution_count": 70,
     "metadata": {},
     "output_type": "execute_result"
    }
   ],
   "source": [
    "v.add_image(rfp_glimpse)"
   ]
  },
  {
   "cell_type": "code",
   "execution_count": 71,
   "id": "fdc5b453",
   "metadata": {},
   "outputs": [],
   "source": [
    "image = rfp_glimpse"
   ]
  },
  {
   "cell_type": "code",
   "execution_count": 72,
   "id": "f9440644",
   "metadata": {},
   "outputs": [
    {
     "name": "stdout",
     "output_type": "stream",
     "text": [
      "0\n"
     ]
    }
   ],
   "source": [
    "thresh = filters.threshold_otsu(image)\n",
    "print(thresh)\n",
    "# Apply binary thresholding using the threshold value\n",
    "binary_image = image > thresh"
   ]
  },
  {
   "cell_type": "code",
   "execution_count": 74,
   "id": "cb1d4020",
   "metadata": {
    "scrolled": true
   },
   "outputs": [
    {
     "data": {
      "text/plain": [
       "<Image layer 'Image' at 0x7fa9688c6700>"
      ]
     },
     "execution_count": 74,
     "metadata": {},
     "output_type": "execute_result"
    }
   ],
   "source": [
    "v.add_image(image>480)"
   ]
  },
  {
   "cell_type": "markdown",
   "id": "9b4ae7ba",
   "metadata": {},
   "source": [
    "# Apply image wide"
   ]
  },
  {
   "cell_type": "code",
   "execution_count": null,
   "id": "11f0ce59",
   "metadata": {},
   "outputs": [],
   "source": [
    "%%time\n",
    "otsu_threshold_single_frame(images[0,1,...])"
   ]
  },
  {
   "cell_type": "code",
   "execution_count": 96,
   "id": "4c8d2b24",
   "metadata": {
    "scrolled": true
   },
   "outputs": [
    {
     "data": {
      "application/vnd.jupyter.widget-view+json": {
       "model_id": "5509a09b7f8144b2952c3350d48e0d0a",
       "version_major": 2,
       "version_minor": 0
      },
      "text/plain": [
       "0it [00:00, ?it/s]"
      ]
     },
     "metadata": {},
     "output_type": "display_data"
    },
    {
     "name": "stdout",
     "output_type": "stream",
     "text": [
      "0\n",
      "1\n",
      "2\n",
      "3\n",
      "4\n",
      "5\n",
      "6\n",
      "7\n",
      "8\n",
      "9\n",
      "10\n",
      "11\n",
      "12\n",
      "13\n",
      "14\n",
      "15\n",
      "16\n",
      "17\n",
      "18\n",
      "19\n",
      "20\n",
      "21\n",
      "22\n",
      "23\n",
      "24\n",
      "25\n",
      "26\n",
      "27\n",
      "28\n",
      "29\n",
      "30\n",
      "31\n",
      "32\n",
      "33\n",
      "34\n",
      "35\n",
      "36\n",
      "37\n",
      "38\n",
      "39\n",
      "40\n",
      "41\n",
      "42\n",
      "43\n",
      "44\n",
      "45\n",
      "46\n",
      "47\n",
      "48\n",
      "49\n",
      "50\n",
      "51\n",
      "52\n",
      "53\n",
      "54\n",
      "55\n",
      "56\n",
      "57\n",
      "58\n",
      "59\n",
      "60\n",
      "61\n",
      "62\n",
      "63\n",
      "64\n",
      "65\n",
      "66\n",
      "67\n",
      "68\n",
      "69\n",
      "70\n",
      "71\n",
      "72\n",
      "73\n",
      "74\n"
     ]
    }
   ],
   "source": [
    "for i, image in tqdm(enumerate(images[:,1,...])):\n",
    "    print(i)"
   ]
  },
  {
   "cell_type": "code",
   "execution_count": 94,
   "id": "ac33c700",
   "metadata": {},
   "outputs": [
    {
     "data": {
      "application/vnd.jupyter.widget-view+json": {
       "model_id": "157c2c8d881e4823b860e686b38322f2",
       "version_major": 2,
       "version_minor": 0
      },
      "text/plain": [
       "0it [00:00, ?it/s]"
      ]
     },
     "metadata": {},
     "output_type": "display_data"
    },
    {
     "name": "stderr",
     "output_type": "stream",
     "text": [
      "Exception ignored in: <generator object tqdm_notebook.__iter__ at 0x7fa97117a040>\n",
      "Traceback (most recent call last):\n",
      "  File \"/home/dayn/miniconda3/envs/aero/lib/python3.9/site-packages/tqdm/notebook.py\", line 264, in __iter__\n",
      "    self.disp(bar_style='danger')\n",
      "  File \"/home/dayn/miniconda3/envs/aero/lib/python3.9/site-packages/tqdm/notebook.py\", line 187, in display\n",
      "    pbar.bar_style = bar_style\n",
      "  File \"/home/dayn/miniconda3/envs/aero/lib/python3.9/site-packages/traitlets/traitlets.py\", line 729, in __set__\n",
      "    self.set(obj, value)\n",
      "  File \"/home/dayn/miniconda3/envs/aero/lib/python3.9/site-packages/traitlets/traitlets.py\", line 718, in set\n",
      "    obj._notify_trait(self.name, old_value, new_value)\n",
      "  File \"/home/dayn/miniconda3/envs/aero/lib/python3.9/site-packages/traitlets/traitlets.py\", line 1501, in _notify_trait\n",
      "    self.notify_change(\n",
      "  File \"/home/dayn/miniconda3/envs/aero/lib/python3.9/site-packages/ipywidgets/widgets/widget.py\", line 685, in notify_change\n",
      "    self.send_state(key=name)\n",
      "  File \"/home/dayn/miniconda3/envs/aero/lib/python3.9/site-packages/ipywidgets/widgets/widget.py\", line 554, in send_state\n",
      "    self._send(msg, buffers=buffers)\n",
      "  File \"/home/dayn/miniconda3/envs/aero/lib/python3.9/site-packages/ipywidgets/widgets/widget.py\", line 817, in _send\n",
      "    self.comm.send(data=msg, buffers=buffers)\n",
      "  File \"/home/dayn/miniconda3/envs/aero/lib/python3.9/site-packages/ipykernel/comm/comm.py\", line 122, in send\n",
      "    self._publish_msg('comm_msg',\n",
      "  File \"/home/dayn/miniconda3/envs/aero/lib/python3.9/site-packages/ipykernel/comm/comm.py\", line 66, in _publish_msg\n",
      "    self.kernel.session.send(self.kernel.iopub_socket, msg_type,\n",
      "  File \"/home/dayn/miniconda3/envs/aero/lib/python3.9/site-packages/jupyter_client/session.py\", line 855, in send\n",
      "    stream.send_multipart(to_send, copy=copy)\n",
      "  File \"/home/dayn/miniconda3/envs/aero/lib/python3.9/site-packages/ipykernel/iostream.py\", line 285, in send_multipart\n",
      "    return self.io_thread.send_multipart(*args, **kwargs)\n",
      "  File \"/home/dayn/miniconda3/envs/aero/lib/python3.9/site-packages/ipykernel/iostream.py\", line 225, in send_multipart\n",
      "    self.schedule(lambda : self._really_send(*args, **kwargs))\n",
      "  File \"/home/dayn/miniconda3/envs/aero/lib/python3.9/site-packages/ipykernel/iostream.py\", line 216, in schedule\n",
      "    self._event_pipe.send(b'')\n",
      "  File \"/home/dayn/miniconda3/envs/aero/lib/python3.9/site-packages/zmq/sugar/socket.py\", line 618, in send\n",
      "    return super().send(data, flags=flags, copy=copy, track=track)\n",
      "  File \"zmq/backend/cython/socket.pyx\", line 740, in zmq.backend.cython.socket.Socket.send\n",
      "  File \"zmq/backend/cython/socket.pyx\", line 787, in zmq.backend.cython.socket.Socket.send\n",
      "  File \"zmq/backend/cython/socket.pyx\", line 244, in zmq.backend.cython.socket._send_copy\n",
      "  File \"zmq/backend/cython/checkrc.pxd\", line 13, in zmq.backend.cython.checkrc._check_rc\n",
      "KeyboardInterrupt: \n"
     ]
    },
    {
     "ename": "KeyboardInterrupt",
     "evalue": "",
     "output_type": "error",
     "traceback": [
      "\u001b[0;31m---------------------------------------------------------------------------\u001b[0m",
      "\u001b[0;31mKeyboardInterrupt\u001b[0m                         Traceback (most recent call last)",
      "Input \u001b[0;32mIn [94]\u001b[0m, in \u001b[0;36m<cell line: 2>\u001b[0;34m()\u001b[0m\n\u001b[1;32m      1\u001b[0m segmentations \u001b[38;5;241m=\u001b[39m np\u001b[38;5;241m.\u001b[39mzeros(rfp_t0\u001b[38;5;241m.\u001b[39mshape, dtype\u001b[38;5;241m=\u001b[39m\u001b[38;5;28mbool\u001b[39m)\n\u001b[1;32m      2\u001b[0m \u001b[38;5;28;01mfor\u001b[39;00m i, image \u001b[38;5;129;01min\u001b[39;00m tqdm(\u001b[38;5;28menumerate\u001b[39m(rfp_t0)):\n\u001b[0;32m----> 3\u001b[0m     threshold \u001b[38;5;241m=\u001b[39m \u001b[43mthreshold_otsu\u001b[49m\u001b[43m(\u001b[49m\u001b[43mrfp_t0\u001b[49m\u001b[43m)\u001b[49m\n\u001b[1;32m      4\u001b[0m     segmentations[i] \u001b[38;5;241m=\u001b[39m rfp_t0 \u001b[38;5;241m>\u001b[39m threshold\n",
      "File \u001b[0;32m~/miniconda3/envs/aero/lib/python3.9/site-packages/skimage/filters/thresholding.py:364\u001b[0m, in \u001b[0;36mthreshold_otsu\u001b[0;34m(image, nbins, hist)\u001b[0m\n\u001b[1;32m    361\u001b[0m     \u001b[38;5;28;01mif\u001b[39;00m np\u001b[38;5;241m.\u001b[39mall(image \u001b[38;5;241m==\u001b[39m first_pixel):\n\u001b[1;32m    362\u001b[0m         \u001b[38;5;28;01mreturn\u001b[39;00m first_pixel\n\u001b[0;32m--> 364\u001b[0m counts, bin_centers \u001b[38;5;241m=\u001b[39m \u001b[43m_validate_image_histogram\u001b[49m\u001b[43m(\u001b[49m\u001b[43mimage\u001b[49m\u001b[43m,\u001b[49m\u001b[43m \u001b[49m\u001b[43mhist\u001b[49m\u001b[43m,\u001b[49m\u001b[43m \u001b[49m\u001b[43mnbins\u001b[49m\u001b[43m)\u001b[49m\n\u001b[1;32m    366\u001b[0m \u001b[38;5;66;03m# class probabilities for all possible thresholds\u001b[39;00m\n\u001b[1;32m    367\u001b[0m weight1 \u001b[38;5;241m=\u001b[39m np\u001b[38;5;241m.\u001b[39mcumsum(counts)\n",
      "File \u001b[0;32m~/miniconda3/envs/aero/lib/python3.9/site-packages/skimage/filters/thresholding.py:306\u001b[0m, in \u001b[0;36m_validate_image_histogram\u001b[0;34m(image, hist, nbins, normalize)\u001b[0m\n\u001b[1;32m    304\u001b[0m         counts, bin_centers \u001b[38;5;241m=\u001b[39m counts[start:end], bin_centers[start:end]\n\u001b[1;32m    305\u001b[0m \u001b[38;5;28;01melse\u001b[39;00m:\n\u001b[0;32m--> 306\u001b[0m     counts, bin_centers \u001b[38;5;241m=\u001b[39m \u001b[43mhistogram\u001b[49m\u001b[43m(\u001b[49m\n\u001b[1;32m    307\u001b[0m \u001b[43m            \u001b[49m\u001b[43mimage\u001b[49m\u001b[38;5;241;43m.\u001b[39;49m\u001b[43mravel\u001b[49m\u001b[43m(\u001b[49m\u001b[43m)\u001b[49m\u001b[43m,\u001b[49m\u001b[43m \u001b[49m\u001b[43mnbins\u001b[49m\u001b[43m,\u001b[49m\u001b[43m \u001b[49m\u001b[43msource_range\u001b[49m\u001b[38;5;241;43m=\u001b[39;49m\u001b[38;5;124;43m'\u001b[39;49m\u001b[38;5;124;43mimage\u001b[39;49m\u001b[38;5;124;43m'\u001b[39;49m\u001b[43m,\u001b[49m\u001b[43m \u001b[49m\u001b[43mnormalize\u001b[49m\u001b[38;5;241;43m=\u001b[39;49m\u001b[43mnormalize\u001b[49m\n\u001b[1;32m    308\u001b[0m \u001b[43m        \u001b[49m\u001b[43m)\u001b[49m\n\u001b[1;32m    309\u001b[0m \u001b[38;5;28;01mreturn\u001b[39;00m counts\u001b[38;5;241m.\u001b[39mastype(\u001b[38;5;28mfloat\u001b[39m), bin_centers\n",
      "File \u001b[0;32m~/miniconda3/envs/aero/lib/python3.9/site-packages/skimage/_shared/utils.py:394\u001b[0m, in \u001b[0;36mchannel_as_last_axis.__call__.<locals>.fixed_func\u001b[0;34m(*args, **kwargs)\u001b[0m\n\u001b[1;32m    391\u001b[0m channel_axis \u001b[38;5;241m=\u001b[39m kwargs\u001b[38;5;241m.\u001b[39mget(\u001b[38;5;124m'\u001b[39m\u001b[38;5;124mchannel_axis\u001b[39m\u001b[38;5;124m'\u001b[39m, \u001b[38;5;28;01mNone\u001b[39;00m)\n\u001b[1;32m    393\u001b[0m \u001b[38;5;28;01mif\u001b[39;00m channel_axis \u001b[38;5;129;01mis\u001b[39;00m \u001b[38;5;28;01mNone\u001b[39;00m:\n\u001b[0;32m--> 394\u001b[0m     \u001b[38;5;28;01mreturn\u001b[39;00m \u001b[43mfunc\u001b[49m\u001b[43m(\u001b[49m\u001b[38;5;241;43m*\u001b[39;49m\u001b[43margs\u001b[49m\u001b[43m,\u001b[49m\u001b[43m \u001b[49m\u001b[38;5;241;43m*\u001b[39;49m\u001b[38;5;241;43m*\u001b[39;49m\u001b[43mkwargs\u001b[49m\u001b[43m)\u001b[49m\n\u001b[1;32m    396\u001b[0m \u001b[38;5;66;03m# TODO: convert scalars to a tuple in anticipation of eventually\u001b[39;00m\n\u001b[1;32m    397\u001b[0m \u001b[38;5;66;03m#       supporting a tuple of channel axes. Right now, only an\u001b[39;00m\n\u001b[1;32m    398\u001b[0m \u001b[38;5;66;03m#       integer or a single-element tuple is supported, though.\u001b[39;00m\n\u001b[1;32m    399\u001b[0m \u001b[38;5;28;01mif\u001b[39;00m np\u001b[38;5;241m.\u001b[39misscalar(channel_axis):\n",
      "File \u001b[0;32m~/miniconda3/envs/aero/lib/python3.9/site-packages/skimage/exposure/exposure.py:266\u001b[0m, in \u001b[0;36mhistogram\u001b[0;34m(image, nbins, source_range, normalize, channel_axis)\u001b[0m\n\u001b[1;32m    264\u001b[0m     hist \u001b[38;5;241m=\u001b[39m np\u001b[38;5;241m.\u001b[39mstack(hist, axis\u001b[38;5;241m=\u001b[39m\u001b[38;5;241m0\u001b[39m)\n\u001b[1;32m    265\u001b[0m \u001b[38;5;28;01melse\u001b[39;00m:\n\u001b[0;32m--> 266\u001b[0m     hist, bin_centers \u001b[38;5;241m=\u001b[39m \u001b[43m_histogram\u001b[49m\u001b[43m(\u001b[49m\u001b[43mimage\u001b[49m\u001b[43m,\u001b[49m\u001b[43m \u001b[49m\u001b[43mnbins\u001b[49m\u001b[43m,\u001b[49m\u001b[43m \u001b[49m\u001b[43msource_range\u001b[49m\u001b[43m,\u001b[49m\u001b[43m \u001b[49m\u001b[43mnormalize\u001b[49m\u001b[43m)\u001b[49m\n\u001b[1;32m    268\u001b[0m \u001b[38;5;28;01mreturn\u001b[39;00m hist, bin_centers\n",
      "File \u001b[0;32m~/miniconda3/envs/aero/lib/python3.9/site-packages/skimage/exposure/exposure.py:295\u001b[0m, in \u001b[0;36m_histogram\u001b[0;34m(image, bins, source_range, normalize)\u001b[0m\n\u001b[1;32m    293\u001b[0m \u001b[38;5;28;01mif\u001b[39;00m np\u001b[38;5;241m.\u001b[39missubdtype(image\u001b[38;5;241m.\u001b[39mdtype, np\u001b[38;5;241m.\u001b[39minteger):\n\u001b[1;32m    294\u001b[0m     bin_centers \u001b[38;5;241m=\u001b[39m bins \u001b[38;5;28;01mif\u001b[39;00m \u001b[38;5;28misinstance\u001b[39m(bins, np\u001b[38;5;241m.\u001b[39mndarray) \u001b[38;5;28;01melse\u001b[39;00m \u001b[38;5;28;01mNone\u001b[39;00m\n\u001b[0;32m--> 295\u001b[0m     hist, bin_centers \u001b[38;5;241m=\u001b[39m \u001b[43m_bincount_histogram\u001b[49m\u001b[43m(\u001b[49m\n\u001b[1;32m    296\u001b[0m \u001b[43m        \u001b[49m\u001b[43mimage\u001b[49m\u001b[43m,\u001b[49m\u001b[43m \u001b[49m\u001b[43msource_range\u001b[49m\u001b[43m,\u001b[49m\u001b[43m \u001b[49m\u001b[43mbin_centers\u001b[49m\n\u001b[1;32m    297\u001b[0m \u001b[43m    \u001b[49m\u001b[43m)\u001b[49m\n\u001b[1;32m    298\u001b[0m \u001b[38;5;28;01melse\u001b[39;00m:\n\u001b[1;32m    299\u001b[0m     hist_range \u001b[38;5;241m=\u001b[39m _get_numpy_hist_range(image, source_range)\n",
      "File \u001b[0;32m~/miniconda3/envs/aero/lib/python3.9/site-packages/skimage/exposure/exposure.py:74\u001b[0m, in \u001b[0;36m_bincount_histogram\u001b[0;34m(image, source_range, bin_centers)\u001b[0m\n\u001b[1;32m     51\u001b[0m \u001b[38;5;124;03m\"\"\"\u001b[39;00m\n\u001b[1;32m     52\u001b[0m \u001b[38;5;124;03mEfficient histogram calculation for an image of integers.\u001b[39;00m\n\u001b[1;32m     53\u001b[0m \n\u001b[0;32m   (...)\u001b[0m\n\u001b[1;32m     71\u001b[0m \u001b[38;5;124;03m    The values at the center of the bins.\u001b[39;00m\n\u001b[1;32m     72\u001b[0m \u001b[38;5;124;03m\"\"\"\u001b[39;00m\n\u001b[1;32m     73\u001b[0m \u001b[38;5;28;01mif\u001b[39;00m bin_centers \u001b[38;5;129;01mis\u001b[39;00m \u001b[38;5;28;01mNone\u001b[39;00m:\n\u001b[0;32m---> 74\u001b[0m     bin_centers \u001b[38;5;241m=\u001b[39m \u001b[43m_bincount_histogram_centers\u001b[49m\u001b[43m(\u001b[49m\u001b[43mimage\u001b[49m\u001b[43m,\u001b[49m\u001b[43m \u001b[49m\u001b[43msource_range\u001b[49m\u001b[43m)\u001b[49m\n\u001b[1;32m     75\u001b[0m image_min, image_max \u001b[38;5;241m=\u001b[39m bin_centers[\u001b[38;5;241m0\u001b[39m], bin_centers[\u001b[38;5;241m-\u001b[39m\u001b[38;5;241m1\u001b[39m]\n\u001b[1;32m     76\u001b[0m image \u001b[38;5;241m=\u001b[39m _offset_array(image, image_min, image_max)\n",
      "File \u001b[0;32m~/miniconda3/envs/aero/lib/python3.9/site-packages/skimage/exposure/exposure.py:42\u001b[0m, in \u001b[0;36m_bincount_histogram_centers\u001b[0;34m(image, source_range)\u001b[0m\n\u001b[1;32m     38\u001b[0m     \u001b[38;5;28;01mraise\u001b[39;00m \u001b[38;5;167;01mValueError\u001b[39;00m(\n\u001b[1;32m     39\u001b[0m         \u001b[38;5;124mf\u001b[39m\u001b[38;5;124m'\u001b[39m\u001b[38;5;124mIncorrect value for `source_range` argument: \u001b[39m\u001b[38;5;132;01m{\u001b[39;00msource_range\u001b[38;5;132;01m}\u001b[39;00m\u001b[38;5;124m'\u001b[39m\n\u001b[1;32m     40\u001b[0m     )\n\u001b[1;32m     41\u001b[0m \u001b[38;5;28;01mif\u001b[39;00m source_range \u001b[38;5;241m==\u001b[39m \u001b[38;5;124m'\u001b[39m\u001b[38;5;124mimage\u001b[39m\u001b[38;5;124m'\u001b[39m:\n\u001b[0;32m---> 42\u001b[0m     image_min \u001b[38;5;241m=\u001b[39m \u001b[38;5;28;43mint\u001b[39;49m\u001b[43m(\u001b[49m\u001b[43mimage\u001b[49m\u001b[38;5;241;43m.\u001b[39;49m\u001b[43mmin\u001b[49m\u001b[43m(\u001b[49m\u001b[43m)\u001b[49m\u001b[38;5;241;43m.\u001b[39;49m\u001b[43mastype\u001b[49m\u001b[43m(\u001b[49m\u001b[43mnp\u001b[49m\u001b[38;5;241;43m.\u001b[39;49m\u001b[43mint64\u001b[49m\u001b[43m)\u001b[49m\u001b[43m)\u001b[49m\n\u001b[1;32m     43\u001b[0m     image_max \u001b[38;5;241m=\u001b[39m \u001b[38;5;28mint\u001b[39m(image\u001b[38;5;241m.\u001b[39mmax()\u001b[38;5;241m.\u001b[39mastype(np\u001b[38;5;241m.\u001b[39mint64))\n\u001b[1;32m     44\u001b[0m \u001b[38;5;28;01melif\u001b[39;00m source_range \u001b[38;5;241m==\u001b[39m \u001b[38;5;124m'\u001b[39m\u001b[38;5;124mdtype\u001b[39m\u001b[38;5;124m'\u001b[39m:\n",
      "File \u001b[0;32m~/miniconda3/envs/aero/lib/python3.9/site-packages/dask/array/core.py:1845\u001b[0m, in \u001b[0;36mArray.__int__\u001b[0;34m(self)\u001b[0m\n\u001b[1;32m   1844\u001b[0m \u001b[38;5;28;01mdef\u001b[39;00m \u001b[38;5;21m__int__\u001b[39m(\u001b[38;5;28mself\u001b[39m):\n\u001b[0;32m-> 1845\u001b[0m     \u001b[38;5;28;01mreturn\u001b[39;00m \u001b[38;5;28;43mself\u001b[39;49m\u001b[38;5;241;43m.\u001b[39;49m\u001b[43m_scalarfunc\u001b[49m\u001b[43m(\u001b[49m\u001b[38;5;28;43mint\u001b[39;49m\u001b[43m)\u001b[49m\n",
      "File \u001b[0;32m~/miniconda3/envs/aero/lib/python3.9/site-packages/dask/array/core.py:1842\u001b[0m, in \u001b[0;36mArray._scalarfunc\u001b[0;34m(self, cast_type)\u001b[0m\n\u001b[1;32m   1840\u001b[0m     \u001b[38;5;28;01mraise\u001b[39;00m \u001b[38;5;167;01mTypeError\u001b[39;00m(\u001b[38;5;124m\"\u001b[39m\u001b[38;5;124mOnly length-1 arrays can be converted to Python scalars\u001b[39m\u001b[38;5;124m\"\u001b[39m)\n\u001b[1;32m   1841\u001b[0m \u001b[38;5;28;01melse\u001b[39;00m:\n\u001b[0;32m-> 1842\u001b[0m     \u001b[38;5;28;01mreturn\u001b[39;00m cast_type(\u001b[38;5;28;43mself\u001b[39;49m\u001b[38;5;241;43m.\u001b[39;49m\u001b[43mcompute\u001b[49m\u001b[43m(\u001b[49m\u001b[43m)\u001b[49m)\n",
      "File \u001b[0;32m~/miniconda3/envs/aero/lib/python3.9/site-packages/dask/base.py:315\u001b[0m, in \u001b[0;36mDaskMethodsMixin.compute\u001b[0;34m(self, **kwargs)\u001b[0m\n\u001b[1;32m    291\u001b[0m \u001b[38;5;28;01mdef\u001b[39;00m \u001b[38;5;21mcompute\u001b[39m(\u001b[38;5;28mself\u001b[39m, \u001b[38;5;241m*\u001b[39m\u001b[38;5;241m*\u001b[39mkwargs):\n\u001b[1;32m    292\u001b[0m     \u001b[38;5;124;03m\"\"\"Compute this dask collection\u001b[39;00m\n\u001b[1;32m    293\u001b[0m \n\u001b[1;32m    294\u001b[0m \u001b[38;5;124;03m    This turns a lazy Dask collection into its in-memory equivalent.\u001b[39;00m\n\u001b[0;32m   (...)\u001b[0m\n\u001b[1;32m    313\u001b[0m \u001b[38;5;124;03m    dask.base.compute\u001b[39;00m\n\u001b[1;32m    314\u001b[0m \u001b[38;5;124;03m    \"\"\"\u001b[39;00m\n\u001b[0;32m--> 315\u001b[0m     (result,) \u001b[38;5;241m=\u001b[39m \u001b[43mcompute\u001b[49m\u001b[43m(\u001b[49m\u001b[38;5;28;43mself\u001b[39;49m\u001b[43m,\u001b[49m\u001b[43m \u001b[49m\u001b[43mtraverse\u001b[49m\u001b[38;5;241;43m=\u001b[39;49m\u001b[38;5;28;43;01mFalse\u001b[39;49;00m\u001b[43m,\u001b[49m\u001b[43m \u001b[49m\u001b[38;5;241;43m*\u001b[39;49m\u001b[38;5;241;43m*\u001b[39;49m\u001b[43mkwargs\u001b[49m\u001b[43m)\u001b[49m\n\u001b[1;32m    316\u001b[0m     \u001b[38;5;28;01mreturn\u001b[39;00m result\n",
      "File \u001b[0;32m~/miniconda3/envs/aero/lib/python3.9/site-packages/dask/base.py:603\u001b[0m, in \u001b[0;36mcompute\u001b[0;34m(traverse, optimize_graph, scheduler, get, *args, **kwargs)\u001b[0m\n\u001b[1;32m    600\u001b[0m     keys\u001b[38;5;241m.\u001b[39mappend(x\u001b[38;5;241m.\u001b[39m__dask_keys__())\n\u001b[1;32m    601\u001b[0m     postcomputes\u001b[38;5;241m.\u001b[39mappend(x\u001b[38;5;241m.\u001b[39m__dask_postcompute__())\n\u001b[0;32m--> 603\u001b[0m results \u001b[38;5;241m=\u001b[39m \u001b[43mschedule\u001b[49m\u001b[43m(\u001b[49m\u001b[43mdsk\u001b[49m\u001b[43m,\u001b[49m\u001b[43m \u001b[49m\u001b[43mkeys\u001b[49m\u001b[43m,\u001b[49m\u001b[43m \u001b[49m\u001b[38;5;241;43m*\u001b[39;49m\u001b[38;5;241;43m*\u001b[39;49m\u001b[43mkwargs\u001b[49m\u001b[43m)\u001b[49m\n\u001b[1;32m    604\u001b[0m \u001b[38;5;28;01mreturn\u001b[39;00m repack([f(r, \u001b[38;5;241m*\u001b[39ma) \u001b[38;5;28;01mfor\u001b[39;00m r, (f, a) \u001b[38;5;129;01min\u001b[39;00m \u001b[38;5;28mzip\u001b[39m(results, postcomputes)])\n",
      "File \u001b[0;32m~/miniconda3/envs/aero/lib/python3.9/site-packages/dask/threaded.py:89\u001b[0m, in \u001b[0;36mget\u001b[0;34m(dsk, keys, cache, num_workers, pool, **kwargs)\u001b[0m\n\u001b[1;32m     86\u001b[0m     \u001b[38;5;28;01melif\u001b[39;00m \u001b[38;5;28misinstance\u001b[39m(pool, multiprocessing\u001b[38;5;241m.\u001b[39mpool\u001b[38;5;241m.\u001b[39mPool):\n\u001b[1;32m     87\u001b[0m         pool \u001b[38;5;241m=\u001b[39m MultiprocessingPoolExecutor(pool)\n\u001b[0;32m---> 89\u001b[0m results \u001b[38;5;241m=\u001b[39m \u001b[43mget_async\u001b[49m\u001b[43m(\u001b[49m\n\u001b[1;32m     90\u001b[0m \u001b[43m    \u001b[49m\u001b[43mpool\u001b[49m\u001b[38;5;241;43m.\u001b[39;49m\u001b[43msubmit\u001b[49m\u001b[43m,\u001b[49m\n\u001b[1;32m     91\u001b[0m \u001b[43m    \u001b[49m\u001b[43mpool\u001b[49m\u001b[38;5;241;43m.\u001b[39;49m\u001b[43m_max_workers\u001b[49m\u001b[43m,\u001b[49m\n\u001b[1;32m     92\u001b[0m \u001b[43m    \u001b[49m\u001b[43mdsk\u001b[49m\u001b[43m,\u001b[49m\n\u001b[1;32m     93\u001b[0m \u001b[43m    \u001b[49m\u001b[43mkeys\u001b[49m\u001b[43m,\u001b[49m\n\u001b[1;32m     94\u001b[0m \u001b[43m    \u001b[49m\u001b[43mcache\u001b[49m\u001b[38;5;241;43m=\u001b[39;49m\u001b[43mcache\u001b[49m\u001b[43m,\u001b[49m\n\u001b[1;32m     95\u001b[0m \u001b[43m    \u001b[49m\u001b[43mget_id\u001b[49m\u001b[38;5;241;43m=\u001b[39;49m\u001b[43m_thread_get_id\u001b[49m\u001b[43m,\u001b[49m\n\u001b[1;32m     96\u001b[0m \u001b[43m    \u001b[49m\u001b[43mpack_exception\u001b[49m\u001b[38;5;241;43m=\u001b[39;49m\u001b[43mpack_exception\u001b[49m\u001b[43m,\u001b[49m\n\u001b[1;32m     97\u001b[0m \u001b[43m    \u001b[49m\u001b[38;5;241;43m*\u001b[39;49m\u001b[38;5;241;43m*\u001b[39;49m\u001b[43mkwargs\u001b[49m\u001b[43m,\u001b[49m\n\u001b[1;32m     98\u001b[0m \u001b[43m\u001b[49m\u001b[43m)\u001b[49m\n\u001b[1;32m    100\u001b[0m \u001b[38;5;66;03m# Cleanup pools associated to dead threads\u001b[39;00m\n\u001b[1;32m    101\u001b[0m \u001b[38;5;28;01mwith\u001b[39;00m pools_lock:\n",
      "File \u001b[0;32m~/miniconda3/envs/aero/lib/python3.9/site-packages/dask/local.py:500\u001b[0m, in \u001b[0;36mget_async\u001b[0;34m(submit, num_workers, dsk, result, cache, get_id, rerun_exceptions_locally, pack_exception, raise_exception, callbacks, dumps, loads, chunksize, **kwargs)\u001b[0m\n\u001b[1;32m    498\u001b[0m \u001b[38;5;28;01mwhile\u001b[39;00m state[\u001b[38;5;124m\"\u001b[39m\u001b[38;5;124mwaiting\u001b[39m\u001b[38;5;124m\"\u001b[39m] \u001b[38;5;129;01mor\u001b[39;00m state[\u001b[38;5;124m\"\u001b[39m\u001b[38;5;124mready\u001b[39m\u001b[38;5;124m\"\u001b[39m] \u001b[38;5;129;01mor\u001b[39;00m state[\u001b[38;5;124m\"\u001b[39m\u001b[38;5;124mrunning\u001b[39m\u001b[38;5;124m\"\u001b[39m]:\n\u001b[1;32m    499\u001b[0m     fire_tasks(chunksize)\n\u001b[0;32m--> 500\u001b[0m     \u001b[38;5;28;01mfor\u001b[39;00m key, res_info, failed \u001b[38;5;129;01min\u001b[39;00m \u001b[43mqueue_get\u001b[49m\u001b[43m(\u001b[49m\u001b[43mqueue\u001b[49m\u001b[43m)\u001b[49m\u001b[38;5;241m.\u001b[39mresult():\n\u001b[1;32m    501\u001b[0m         \u001b[38;5;28;01mif\u001b[39;00m failed:\n\u001b[1;32m    502\u001b[0m             exc, tb \u001b[38;5;241m=\u001b[39m loads(res_info)\n",
      "File \u001b[0;32m~/miniconda3/envs/aero/lib/python3.9/site-packages/dask/local.py:137\u001b[0m, in \u001b[0;36mqueue_get\u001b[0;34m(q)\u001b[0m\n\u001b[1;32m    136\u001b[0m \u001b[38;5;28;01mdef\u001b[39;00m \u001b[38;5;21mqueue_get\u001b[39m(q):\n\u001b[0;32m--> 137\u001b[0m     \u001b[38;5;28;01mreturn\u001b[39;00m \u001b[43mq\u001b[49m\u001b[38;5;241;43m.\u001b[39;49m\u001b[43mget\u001b[49m\u001b[43m(\u001b[49m\u001b[43m)\u001b[49m\n",
      "File \u001b[0;32m~/miniconda3/envs/aero/lib/python3.9/queue.py:171\u001b[0m, in \u001b[0;36mQueue.get\u001b[0;34m(self, block, timeout)\u001b[0m\n\u001b[1;32m    169\u001b[0m \u001b[38;5;28;01melif\u001b[39;00m timeout \u001b[38;5;129;01mis\u001b[39;00m \u001b[38;5;28;01mNone\u001b[39;00m:\n\u001b[1;32m    170\u001b[0m     \u001b[38;5;28;01mwhile\u001b[39;00m \u001b[38;5;129;01mnot\u001b[39;00m \u001b[38;5;28mself\u001b[39m\u001b[38;5;241m.\u001b[39m_qsize():\n\u001b[0;32m--> 171\u001b[0m         \u001b[38;5;28;43mself\u001b[39;49m\u001b[38;5;241;43m.\u001b[39;49m\u001b[43mnot_empty\u001b[49m\u001b[38;5;241;43m.\u001b[39;49m\u001b[43mwait\u001b[49m\u001b[43m(\u001b[49m\u001b[43m)\u001b[49m\n\u001b[1;32m    172\u001b[0m \u001b[38;5;28;01melif\u001b[39;00m timeout \u001b[38;5;241m<\u001b[39m \u001b[38;5;241m0\u001b[39m:\n\u001b[1;32m    173\u001b[0m     \u001b[38;5;28;01mraise\u001b[39;00m \u001b[38;5;167;01mValueError\u001b[39;00m(\u001b[38;5;124m\"\u001b[39m\u001b[38;5;124m'\u001b[39m\u001b[38;5;124mtimeout\u001b[39m\u001b[38;5;124m'\u001b[39m\u001b[38;5;124m must be a non-negative number\u001b[39m\u001b[38;5;124m\"\u001b[39m)\n",
      "File \u001b[0;32m~/miniconda3/envs/aero/lib/python3.9/threading.py:312\u001b[0m, in \u001b[0;36mCondition.wait\u001b[0;34m(self, timeout)\u001b[0m\n\u001b[1;32m    310\u001b[0m \u001b[38;5;28;01mtry\u001b[39;00m:    \u001b[38;5;66;03m# restore state no matter what (e.g., KeyboardInterrupt)\u001b[39;00m\n\u001b[1;32m    311\u001b[0m     \u001b[38;5;28;01mif\u001b[39;00m timeout \u001b[38;5;129;01mis\u001b[39;00m \u001b[38;5;28;01mNone\u001b[39;00m:\n\u001b[0;32m--> 312\u001b[0m         \u001b[43mwaiter\u001b[49m\u001b[38;5;241;43m.\u001b[39;49m\u001b[43macquire\u001b[49m\u001b[43m(\u001b[49m\u001b[43m)\u001b[49m\n\u001b[1;32m    313\u001b[0m         gotit \u001b[38;5;241m=\u001b[39m \u001b[38;5;28;01mTrue\u001b[39;00m\n\u001b[1;32m    314\u001b[0m     \u001b[38;5;28;01melse\u001b[39;00m:\n",
      "\u001b[0;31mKeyboardInterrupt\u001b[0m: "
     ]
    }
   ],
   "source": [
    "segmentations = np.zeros(rfp_t0.shape, dtype=bool)\n",
    "for i, image in tqdm(enumerate(rfp_t0)):\n",
    "    threshold = threshold_otsu(rfp_t0)\n",
    "    segmentations[i] = rfp_t0 > threshold"
   ]
  },
  {
   "cell_type": "code",
   "execution_count": 87,
   "id": "8daf5cc3",
   "metadata": {},
   "outputs": [
    {
     "name": "stderr",
     "output_type": "stream",
     "text": [
      "\n",
      "KeyboardInterrupt\n",
      "\n"
     ]
    }
   ],
   "source": [
    "# get an otsu segmentation of the Mtb channel\n",
    "otsu_mtb = otsu_threshold(images[:,1,...])\n",
    "# get a manual thresholding of the mtb channel\n",
    "manual_mtb_thresh = images[:,1,...] > 480\n",
    "\n",
    "# reshape intensity image to be gfp, rfp on last axis for regionprops\n",
    "intensity_image = np.stack([images[:,0,...], \n",
    "                            images[:,1,...], \n",
    "                            otsu_mtb, \n",
    "                            manual_mtb_thresh], axis = -1)\n",
    "\n",
    "# localise objects\n",
    "objects = localise(masks[0:2], \n",
    "                   intensity_image[0:2], \n",
    "                   )"
   ]
  }
 ],
 "metadata": {
  "kernelspec": {
   "display_name": "aero",
   "language": "python",
   "name": "aero"
  },
  "language_info": {
   "codemirror_mode": {
    "name": "ipython",
    "version": 3
   },
   "file_extension": ".py",
   "mimetype": "text/x-python",
   "name": "python",
   "nbconvert_exporter": "python",
   "pygments_lexer": "ipython3",
   "version": "3.9.12"
  }
 },
 "nbformat": 4,
 "nbformat_minor": 5
}
