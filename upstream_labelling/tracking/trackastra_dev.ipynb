{
 "cells": [
  {
   "cell_type": "markdown",
   "id": "3e8c43bb-3630-491b-9b1e-d26ddd82d176",
   "metadata": {},
   "source": [
    "# Testing trackastra"
   ]
  },
  {
   "cell_type": "code",
   "execution_count": 9,
   "id": "fb8d3728-5003-424c-b02e-1f311ffd3c1d",
   "metadata": {},
   "outputs": [],
   "source": [
    "import torch\n",
    "import btrack\n",
    "import os\n",
    "import zarr\n",
    "from trackastra.model import Trackastra\n",
    "from trackastra.tracking import graph_to_ctc, graph_to_napari_tracks\n",
    "from trackastra.data import example_data_bacteria"
   ]
  },
  {
   "cell_type": "code",
   "execution_count": 21,
   "id": "eeda149b-3821-4b99-81e8-d088d5e30307",
   "metadata": {},
   "outputs": [
    {
     "name": "stderr",
     "output_type": "stream",
     "text": [
      "[INFO][2024/06/25 04:38:05 pm] Opening HDF file: /mnt/SYNO/macrohet_syno/data/ND0003/labels/cpv3/(3, 6).h5...\n",
      "INFO:btrack.io.hdf:Opening HDF file: /mnt/SYNO/macrohet_syno/data/ND0003/labels/cpv3/(3, 6).h5...\n",
      "[INFO][2024/06/25 04:38:24 pm] Loading segmentation (154, 6048, 6048)\n",
      "INFO:btrack.io.hdf:Loading segmentation (154, 6048, 6048)\n",
      "[INFO][2024/06/25 04:38:24 pm] Closing HDF file: /mnt/SYNO/macrohet_syno/data/ND0003/labels/cpv3/(3, 6).h5\n",
      "INFO:btrack.io.hdf:Closing HDF file: /mnt/SYNO/macrohet_syno/data/ND0003/labels/cpv3/(3, 6).h5\n"
     ]
    }
   ],
   "source": [
    "acq_ID = (3, 6)\n",
    "expt_ID = 'ND0003'\n",
    "base_dir = f'/mnt/SYNO/macrohet_syno/data/{expt_ID}/'\n",
    "image_dir = os.path.join(base_dir, f'acquisition/zarr/{acq_ID}.zarr')\n",
    "zarr_group = zarr.open(image_dir, mode='r')\n",
    "imgs = zarr_group.images[:,1,0,...]\n",
    "tracks_fn = os.path.join(base_dir, f'labels/cpv3/{acq_ID}.h5')\n",
    "with btrack.io.HDF5FileHandler(tracks_fn, 'r') as hdf:\n",
    "        masks = hdf.segmentation"
   ]
  },
  {
   "cell_type": "code",
   "execution_count": 22,
   "id": "e7d8431a-d0d5-426e-8a62-104a1e5d03e5",
   "metadata": {},
   "outputs": [
    {
     "name": "stderr",
     "output_type": "stream",
     "text": [
      "INFO:trackastra.model.model:Loading model state from /home/dayn/.trackastra/.models/general_2d/model.pt\n",
      "INFO:trackastra.model.model_api:Predicting weights for candidate graph\n"
     ]
    },
    {
     "name": "stdout",
     "output_type": "stream",
     "text": [
      "/home/dayn/.trackastra/.models/general_2d already downloaded, skipping.\n",
      "Using device cuda\n"
     ]
    },
    {
     "name": "stderr",
     "output_type": "stream",
     "text": [
      "INFO:trackastra.data.wrfeat:Extracting features from 154 detections\n",
      "INFO:trackastra.data.wrfeat:Using single process for feature extraction\n",
      "Extracting features: 100%|███████████████████████████████████████████████████████████| 154/154 [08:34<00:00,  3.34s/it]\n",
      "INFO:trackastra.model.model_api:Building windows\n",
      "Building windows: 100%|███████████████████████████████████████████████████████████| 151/151 [00:00<00:00, 12246.74it/s]\n",
      "INFO:trackastra.model.model_api:Predicting windows\n",
      "Computing associations: 100%|████████████████████████████████████████████████████████| 151/151 [00:15<00:00,  9.64it/s]\n",
      "INFO:trackastra.model.model_api:Running greedy tracker\n",
      "INFO:trackastra.tracking.tracking:Build candidate graph with delta_t=1\n",
      "INFO:trackastra.tracking.tracking:Added 60541 vertices, 60418 edges                                                    \n",
      "INFO:trackastra.tracking.tracking:Running greedy tracker\n",
      "Greedily matched edges:  89%|███████████████████████████████████████████▊     | 53973/60418 [00:00<00:00, 54018.30it/s]\n",
      "Converting graph to CTC results: 100%|████████████████████████████████████████████| 7755/7755 [00:18<00:00, 416.29it/s]\n",
      "Saving masks: 100%|██████████████████████████████████████████████████████████████████| 154/154 [00:09<00:00, 16.94it/s]\n"
     ]
    }
   ],
   "source": [
    "device = \"cuda\" if torch.cuda.is_available() else \"cpu\"\n",
    "\n",
    "# Load a pretrained model\n",
    "model = Trackastra.from_pretrained(\"general_2d\", device=device)\n",
    "\n",
    "# or from a local folder\n",
    "# model = Trackastra.from_folder('path/my_model_folder/', device=device)\n",
    "\n",
    "# Track the cells\n",
    "track_graph = model.track(imgs, masks, mode=\"greedy\")  # or mode=\"ilp\", or \"greedy_nodiv\"\n",
    "\n",
    "\n",
    "# Write to cell tracking challenge format\n",
    "ctc_tracks, masks_tracked = graph_to_ctc(\n",
    "      track_graph,\n",
    "      masks,\n",
    "      outdir=\"tracked\",\n",
    ")"
   ]
  },
  {
   "cell_type": "code",
   "execution_count": 23,
   "id": "7bf64cab-951c-4e6b-9aeb-dd2b97c567b2",
   "metadata": {},
   "outputs": [
    {
     "name": "stderr",
     "output_type": "stream",
     "text": [
      "100%|███████████████████████████████████████████████████████████████████████████| 7633/7633 [00:00<00:00, 48260.68it/s]\n"
     ]
    },
    {
     "data": {
      "text/plain": [
       "<Tracks layer 'napari_tracks' at 0x7f55db725150>"
      ]
     },
     "execution_count": 23,
     "metadata": {},
     "output_type": "execute_result"
    }
   ],
   "source": [
    "# Visualise in napari\n",
    "napari_tracks, napari_tracks_graph, _ = graph_to_napari_tracks(track_graph)\n",
    "\n",
    "import napari\n",
    "v = napari.Viewer()\n",
    "v.add_image(imgs)\n",
    "v.add_labels(masks_tracked)\n",
    "v.add_tracks(data=napari_tracks, graph=napari_tracks_graph)"
   ]
  },
  {
   "cell_type": "markdown",
   "id": "5532cb20-0f0d-4797-b7b1-3d495494c5b6",
   "metadata": {},
   "source": [
    "# Compare to previous tracks"
   ]
  },
  {
   "cell_type": "code",
   "execution_count": 25,
   "id": "d5b4eb1a-4936-4afc-af93-fba4b195f813",
   "metadata": {},
   "outputs": [
    {
     "name": "stderr",
     "output_type": "stream",
     "text": [
      "[INFO][2024/06/26 09:43:57 am] Opening HDF file: /mnt/SYNO/macrohet_syno/data/ND0003/labels/cpv3/(3, 6).h5...\n",
      "INFO:btrack.io.hdf:Opening HDF file: /mnt/SYNO/macrohet_syno/data/ND0003/labels/cpv3/(3, 6).h5...\n",
      "[INFO][2024/06/26 09:43:58 am] Loading tracks/obj_type_1\n",
      "INFO:btrack.io.hdf:Loading tracks/obj_type_1\n",
      "[INFO][2024/06/26 09:43:58 am] Loading LBEP/obj_type_1\n",
      "INFO:btrack.io.hdf:Loading LBEP/obj_type_1\n",
      "[INFO][2024/06/26 09:43:58 am] Loading objects/obj_type_1 (55107, 5) (55107 filtered: None)\n",
      "INFO:btrack.io.hdf:Loading objects/obj_type_1 (55107, 5) (55107 filtered: None)\n",
      "[INFO][2024/06/26 09:43:59 am] Closing HDF file: /mnt/SYNO/macrohet_syno/data/ND0003/labels/cpv3/(3, 6).h5\n",
      "INFO:btrack.io.hdf:Closing HDF file: /mnt/SYNO/macrohet_syno/data/ND0003/labels/cpv3/(3, 6).h5\n"
     ]
    }
   ],
   "source": [
    "with btrack.io.HDF5FileHandler(tracks_fn, 'r') as hdf:\n",
    "        tracks = hdf.tracks"
   ]
  },
  {
   "cell_type": "code",
   "execution_count": 27,
   "id": "1f60fa16-b1a2-42a4-b0f3-a417b0936910",
   "metadata": {},
   "outputs": [],
   "source": [
    "napari_btracks, _, _ = btrack.utils.tracks_to_napari(tracks)\n"
   ]
  },
  {
   "cell_type": "code",
   "execution_count": 28,
   "id": "9ff7f229-ab71-4084-9325-819d072ea831",
   "metadata": {},
   "outputs": [
    {
     "data": {
      "text/plain": [
       "<Tracks layer 'napari_btracks' at 0x7f59c372d270>"
      ]
     },
     "execution_count": 28,
     "metadata": {},
     "output_type": "execute_result"
    }
   ],
   "source": [
    "v.add_tracks(napari_btracks, scale = (5.04, 5.04))"
   ]
  },
  {
   "cell_type": "code",
   "execution_count": 35,
   "id": "34023161-116f-4f0a-852c-07ba45793b79",
   "metadata": {},
   "outputs": [],
   "source": [
    "import seaborn as sns\n",
    "import numpy as np"
   ]
  },
  {
   "cell_type": "code",
   "execution_count": 37,
   "id": "09481db2-6d2e-4561-b342-df342a8da599",
   "metadata": {},
   "outputs": [
    {
     "data": {
      "text/plain": [
       "<Axes: ylabel='Count'>"
      ]
     },
     "execution_count": 37,
     "metadata": {},
     "output_type": "execute_result"
    },
    {
     "data": {
      "image/png": "[encoded data removed]",
      "text/plain": [
       "<Figure size 640x480 with 1 Axes>"
      ]
     },
     "metadata": {},
     "output_type": "display_data"
    }
   ],
   "source": [
    "sns.histplot([len(t) for t in tracks], color='green', bins = 100)"
   ]
  },
  {
   "cell_type": "code",
   "execution_count": 38,
   "id": "1db736e0-90cf-4807-ab76-0200506c0d42",
   "metadata": {},
   "outputs": [],
   "source": [
    "# Extract unique IDs\n",
    "unique_ids = np.unique(napari_tracks[:, 0])\n",
    "\n",
    "# Calculate track lengths\n",
    "track_lengths = []\n",
    "for uid in unique_ids:\n",
    "    track_length = len(np.unique(napari_tracks[napari_tracks[:, 0] == uid][:, 1]))\n",
    "    track_lengths.append(track_length)\n",
    "\n"
   ]
  },
  {
   "cell_type": "code",
   "execution_count": 39,
   "id": "f1092252-66bc-4835-8888-c505f5796e5c",
   "metadata": {},
   "outputs": [
    {
     "data": {
      "text/plain": [
       "<Axes: ylabel='Count'>"
      ]
     },
     "execution_count": 39,
     "metadata": {},
     "output_type": "execute_result"
    },
    {
     "data": {
      "image/png": "[encoded data removed]",
      "text/plain": [
       "<Figure size 640x480 with 1 Axes>"
      ]
     },
     "metadata": {},
     "output_type": "display_data"
    }
   ],
   "source": [
    "sns.histplot(track_lengths, color = 'magenta', bins = 100)"
   ]
  }
 ],
 "metadata": {
  "kernelspec": {
   "display_name": "trackastra",
   "language": "python",
   "name": "trackastra"
  },
  "language_info": {
   "codemirror_mode": {
    "name": "ipython",
    "version": 3
   },
   "file_extension": ".py",
   "mimetype": "text/x-python",
   "name": "python",
   "nbconvert_exporter": "python",
   "pygments_lexer": "ipython3",
   "version": "3.10.13"
  }
 },
 "nbformat": 4,
 "nbformat_minor": 5
}
