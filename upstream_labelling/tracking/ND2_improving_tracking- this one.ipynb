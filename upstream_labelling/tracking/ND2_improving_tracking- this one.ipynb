{
 "cells": [
  {
   "cell_type": "markdown",
   "id": "e7452ae6",
   "metadata": {},
   "source": [
    "# Image viewer\n",
    "\n",
    "This notebook is for inspecting timelapse microscopy data, with associated sinhgle-cell labels and tracks, showing the infection of human macrophages with Mycobacterium Tuberculosis (Mtb), acquired on an Opera Phenix confocal microscope. "
   ]
  },
  {
   "cell_type": "code",
   "execution_count": 1,
   "id": "83d383f0",
   "metadata": {},
   "outputs": [],
   "source": [
    "import napari\n",
    "from macrohet import dataio, tile, visualise, tools\n",
    "import os, glob\n",
    "from tqdm.auto import tqdm\n",
    "from skimage import io\n",
    "import numpy as np\n",
    "from macrohet.notify import send_sys_message as notify\n",
    "import btrack\n",
    "import zarr\n",
    "import matplotlib.pyplot as plt\n",
    "import json"
   ]
  },
  {
   "cell_type": "code",
   "execution_count": 2,
   "id": "f9f86294-9a60-4cfd-986e-9ac78efca9ee",
   "metadata": {},
   "outputs": [
    {
     "data": {
      "text/plain": [
       "16903"
      ]
     },
     "execution_count": 2,
     "metadata": {},
     "output_type": "execute_result"
    }
   ],
   "source": [
    "os.getpid()"
   ]
  },
  {
   "cell_type": "code",
   "execution_count": 3,
   "id": "a6199097-93d7-4dc9-a3bd-7bb528a77136",
   "metadata": {},
   "outputs": [],
   "source": [
    "def update_slider(event):\n",
    "    # only trigger if update comes from first axis (optional\n",
    "        #ind_lambda = viewer.dims.indices[0]\n",
    "    time = viewer.dims.current_step[0]\n",
    "    viewer.text_overlay.text = f\"{time/2:1.1f} hours\"\n",
    "text_size = 24\n",
    "napari_scale = [1.4949402023919043e-07, 1.4949402023919043e-07]\n",
    "\n",
    "label_text_size = 15\n",
    "### glimpse size\n",
    "size = 500\n",
    "### resized images are to this scale\n",
    "scale = 6048/1200\n",
    "scale_factor = 1/5.04\n",
    "from napari_animation import Animation\n"
   ]
  },
  {
   "cell_type": "markdown",
   "id": "cb28dcb6",
   "metadata": {},
   "source": [
    "### Load experiment of choice\n",
    "\n",
    "The Opera Phenix is a high-throughput confocal microscope that acquires very large 5-dimensional (TCZXY) images over several fields of view in any one experiment. Therefore, a lazy-loading approach is chosen to mosaic, view and annotate these images. This approach depends upon Dask and DaskFusion. The first step is to load the main metadata file (typically called `Index.idx.xml` and located in the main `Images` directory) that contains the image filenames and associated TCXZY information used to organise the images.\n"
   ]
  },
  {
   "cell_type": "code",
   "execution_count": 4,
   "id": "644aeec8-86fc-4f99-958e-32c606243074",
   "metadata": {},
   "outputs": [
    {
     "name": "stdout",
     "output_type": "stream",
     "text": [
      "Reading metadata XML file...\n"
     ]
    },
    {
     "data": {
      "application/vnd.jupyter.widget-view+json": {
       "model_id": "7ee1d7c4ae154b008592adf3e62c006a",
       "version_major": 2,
       "version_minor": 0
      },
      "text/plain": [
       "0it [00:00, ?it/s]"
      ]
     },
     "metadata": {},
     "output_type": "display_data"
    },
    {
     "name": "stdout",
     "output_type": "stream",
     "text": [
      "Extracting metadata complete!\n",
      "CPU times: user 37.7 s, sys: 3.08 s, total: 40.8 s\n",
      "Wall time: 40.7 s\n"
     ]
    },
    {
     "data": {
      "text/html": [
       "<div>\n",
       "<style scoped>\n",
       "    .dataframe tbody tr th:only-of-type {\n",
       "        vertical-align: middle;\n",
       "    }\n",
       "\n",
       "    .dataframe tbody tr th {\n",
       "        vertical-align: top;\n",
       "    }\n",
       "\n",
       "    .dataframe thead th {\n",
       "        text-align: right;\n",
       "    }\n",
       "</style>\n",
       "<table border=\"1\" class=\"dataframe\">\n",
       "  <thead>\n",
       "    <tr style=\"text-align: right;\">\n",
       "      <th></th>\n",
       "      <th>id</th>\n",
       "      <th>State</th>\n",
       "      <th>URL</th>\n",
       "      <th>Row</th>\n",
       "      <th>Col</th>\n",
       "      <th>FieldID</th>\n",
       "      <th>PlaneID</th>\n",
       "      <th>TimepointID</th>\n",
       "      <th>ChannelID</th>\n",
       "      <th>FlimID</th>\n",
       "      <th>...</th>\n",
       "      <th>PositionZ</th>\n",
       "      <th>AbsPositionZ</th>\n",
       "      <th>MeasurementTimeOffset</th>\n",
       "      <th>AbsTime</th>\n",
       "      <th>MainExcitationWavelength</th>\n",
       "      <th>MainEmissionWavelength</th>\n",
       "      <th>ObjectiveMagnification</th>\n",
       "      <th>ObjectiveNA</th>\n",
       "      <th>ExposureTime</th>\n",
       "      <th>OrientationMatrix</th>\n",
       "    </tr>\n",
       "  </thead>\n",
       "  <tbody>\n",
       "    <tr>\n",
       "      <th>0</th>\n",
       "      <td>0103K1F1P1R1</td>\n",
       "      <td>Ok</td>\n",
       "      <td>r01c03f01p01-ch1sk1fk1fl1.tiff</td>\n",
       "      <td>1</td>\n",
       "      <td>3</td>\n",
       "      <td>1</td>\n",
       "      <td>1</td>\n",
       "      <td>0</td>\n",
       "      <td>1</td>\n",
       "      <td>1</td>\n",
       "      <td>...</td>\n",
       "      <td>-2E-06</td>\n",
       "      <td>0.135466397</td>\n",
       "      <td>0</td>\n",
       "      <td>2023-11-30T17:22:09.49+00:00</td>\n",
       "      <td>640</td>\n",
       "      <td>706</td>\n",
       "      <td>40</td>\n",
       "      <td>1.1</td>\n",
       "      <td>0.2</td>\n",
       "      <td>[[1.000989,0,0,10.0],[0,-1.000989,0,-6.8],[0,0...</td>\n",
       "    </tr>\n",
       "    <tr>\n",
       "      <th>1</th>\n",
       "      <td>0103K1F1P1R2</td>\n",
       "      <td>Ok</td>\n",
       "      <td>r01c03f01p01-ch2sk1fk1fl1.tiff</td>\n",
       "      <td>1</td>\n",
       "      <td>3</td>\n",
       "      <td>1</td>\n",
       "      <td>1</td>\n",
       "      <td>0</td>\n",
       "      <td>2</td>\n",
       "      <td>1</td>\n",
       "      <td>...</td>\n",
       "      <td>-2E-06</td>\n",
       "      <td>0.135466397</td>\n",
       "      <td>0</td>\n",
       "      <td>2023-11-30T17:22:09.723+00:00</td>\n",
       "      <td>488</td>\n",
       "      <td>522</td>\n",
       "      <td>40</td>\n",
       "      <td>1.1</td>\n",
       "      <td>0.1</td>\n",
       "      <td>[[1.000989,0,0,10.0],[0,-1.000989,0,-6.8],[0,0...</td>\n",
       "    </tr>\n",
       "    <tr>\n",
       "      <th>2</th>\n",
       "      <td>0103K1F1P2R1</td>\n",
       "      <td>Ok</td>\n",
       "      <td>r01c03f01p02-ch1sk1fk1fl1.tiff</td>\n",
       "      <td>1</td>\n",
       "      <td>3</td>\n",
       "      <td>1</td>\n",
       "      <td>2</td>\n",
       "      <td>0</td>\n",
       "      <td>1</td>\n",
       "      <td>1</td>\n",
       "      <td>...</td>\n",
       "      <td>0</td>\n",
       "      <td>0.135468394</td>\n",
       "      <td>0</td>\n",
       "      <td>2023-11-30T17:22:10.067+00:00</td>\n",
       "      <td>640</td>\n",
       "      <td>706</td>\n",
       "      <td>40</td>\n",
       "      <td>1.1</td>\n",
       "      <td>0.2</td>\n",
       "      <td>[[1.000989,0,0,10.0],[0,-1.000989,0,-6.8],[0,0...</td>\n",
       "    </tr>\n",
       "    <tr>\n",
       "      <th>3</th>\n",
       "      <td>0103K1F1P2R2</td>\n",
       "      <td>Ok</td>\n",
       "      <td>r01c03f01p02-ch2sk1fk1fl1.tiff</td>\n",
       "      <td>1</td>\n",
       "      <td>3</td>\n",
       "      <td>1</td>\n",
       "      <td>2</td>\n",
       "      <td>0</td>\n",
       "      <td>2</td>\n",
       "      <td>1</td>\n",
       "      <td>...</td>\n",
       "      <td>0</td>\n",
       "      <td>0.135468394</td>\n",
       "      <td>0</td>\n",
       "      <td>2023-11-30T17:22:10.287+00:00</td>\n",
       "      <td>488</td>\n",
       "      <td>522</td>\n",
       "      <td>40</td>\n",
       "      <td>1.1</td>\n",
       "      <td>0.1</td>\n",
       "      <td>[[1.000989,0,0,10.0],[0,-1.000989,0,-6.8],[0,0...</td>\n",
       "    </tr>\n",
       "    <tr>\n",
       "      <th>4</th>\n",
       "      <td>0103K1F1P3R1</td>\n",
       "      <td>Ok</td>\n",
       "      <td>r01c03f01p03-ch1sk1fk1fl1.tiff</td>\n",
       "      <td>1</td>\n",
       "      <td>3</td>\n",
       "      <td>1</td>\n",
       "      <td>3</td>\n",
       "      <td>0</td>\n",
       "      <td>1</td>\n",
       "      <td>1</td>\n",
       "      <td>...</td>\n",
       "      <td>2E-06</td>\n",
       "      <td>0.135470405</td>\n",
       "      <td>0</td>\n",
       "      <td>2023-11-30T17:22:10.627+00:00</td>\n",
       "      <td>640</td>\n",
       "      <td>706</td>\n",
       "      <td>40</td>\n",
       "      <td>1.1</td>\n",
       "      <td>0.2</td>\n",
       "      <td>[[1.000989,0,0,10.0],[0,-1.000989,0,-6.8],[0,0...</td>\n",
       "    </tr>\n",
       "    <tr>\n",
       "      <th>...</th>\n",
       "      <td>...</td>\n",
       "      <td>...</td>\n",
       "      <td>...</td>\n",
       "      <td>...</td>\n",
       "      <td>...</td>\n",
       "      <td>...</td>\n",
       "      <td>...</td>\n",
       "      <td>...</td>\n",
       "      <td>...</td>\n",
       "      <td>...</td>\n",
       "      <td>...</td>\n",
       "      <td>...</td>\n",
       "      <td>...</td>\n",
       "      <td>...</td>\n",
       "      <td>...</td>\n",
       "      <td>...</td>\n",
       "      <td>...</td>\n",
       "      <td>...</td>\n",
       "      <td>...</td>\n",
       "      <td>...</td>\n",
       "      <td>...</td>\n",
       "    </tr>\n",
       "    <tr>\n",
       "      <th>388615</th>\n",
       "      <td>0612K150F9P1R2</td>\n",
       "      <td>Ok</td>\n",
       "      <td>r06c12f09p01-ch2sk150fk1fl1.tiff</td>\n",
       "      <td>6</td>\n",
       "      <td>12</td>\n",
       "      <td>9</td>\n",
       "      <td>1</td>\n",
       "      <td>149</td>\n",
       "      <td>2</td>\n",
       "      <td>1</td>\n",
       "      <td>...</td>\n",
       "      <td>-2E-06</td>\n",
       "      <td>0.1351538</td>\n",
       "      <td>268191.66</td>\n",
       "      <td>2023-12-03T20:06:16.08+00:00</td>\n",
       "      <td>488</td>\n",
       "      <td>522</td>\n",
       "      <td>40</td>\n",
       "      <td>1.1</td>\n",
       "      <td>0.1</td>\n",
       "      <td>[[1.000989,0,0,10.0],[0,-1.000989,0,-6.8],[0,0...</td>\n",
       "    </tr>\n",
       "    <tr>\n",
       "      <th>388616</th>\n",
       "      <td>0612K150F9P2R1</td>\n",
       "      <td>Ok</td>\n",
       "      <td>r06c12f09p02-ch1sk150fk1fl1.tiff</td>\n",
       "      <td>6</td>\n",
       "      <td>12</td>\n",
       "      <td>9</td>\n",
       "      <td>2</td>\n",
       "      <td>149</td>\n",
       "      <td>1</td>\n",
       "      <td>1</td>\n",
       "      <td>...</td>\n",
       "      <td>0</td>\n",
       "      <td>0.135155797</td>\n",
       "      <td>268191.66</td>\n",
       "      <td>2023-12-03T20:06:16.423+00:00</td>\n",
       "      <td>640</td>\n",
       "      <td>706</td>\n",
       "      <td>40</td>\n",
       "      <td>1.1</td>\n",
       "      <td>0.2</td>\n",
       "      <td>[[1.000989,0,0,10.0],[0,-1.000989,0,-6.8],[0,0...</td>\n",
       "    </tr>\n",
       "    <tr>\n",
       "      <th>388617</th>\n",
       "      <td>0612K150F9P2R2</td>\n",
       "      <td>Ok</td>\n",
       "      <td>r06c12f09p02-ch2sk150fk1fl1.tiff</td>\n",
       "      <td>6</td>\n",
       "      <td>12</td>\n",
       "      <td>9</td>\n",
       "      <td>2</td>\n",
       "      <td>149</td>\n",
       "      <td>2</td>\n",
       "      <td>1</td>\n",
       "      <td>...</td>\n",
       "      <td>0</td>\n",
       "      <td>0.135155797</td>\n",
       "      <td>268191.66</td>\n",
       "      <td>2023-12-03T20:06:16.657+00:00</td>\n",
       "      <td>488</td>\n",
       "      <td>522</td>\n",
       "      <td>40</td>\n",
       "      <td>1.1</td>\n",
       "      <td>0.1</td>\n",
       "      <td>[[1.000989,0,0,10.0],[0,-1.000989,0,-6.8],[0,0...</td>\n",
       "    </tr>\n",
       "    <tr>\n",
       "      <th>388618</th>\n",
       "      <td>0612K150F9P3R1</td>\n",
       "      <td>Ok</td>\n",
       "      <td>r06c12f09p03-ch1sk150fk1fl1.tiff</td>\n",
       "      <td>6</td>\n",
       "      <td>12</td>\n",
       "      <td>9</td>\n",
       "      <td>3</td>\n",
       "      <td>149</td>\n",
       "      <td>1</td>\n",
       "      <td>1</td>\n",
       "      <td>...</td>\n",
       "      <td>2E-06</td>\n",
       "      <td>0.135157794</td>\n",
       "      <td>268191.66</td>\n",
       "      <td>2023-12-03T20:06:17+00:00</td>\n",
       "      <td>640</td>\n",
       "      <td>706</td>\n",
       "      <td>40</td>\n",
       "      <td>1.1</td>\n",
       "      <td>0.2</td>\n",
       "      <td>[[1.000989,0,0,10.0],[0,-1.000989,0,-6.8],[0,0...</td>\n",
       "    </tr>\n",
       "    <tr>\n",
       "      <th>388619</th>\n",
       "      <td>0612K150F9P3R2</td>\n",
       "      <td>Ok</td>\n",
       "      <td>r06c12f09p03-ch2sk150fk1fl1.tiff</td>\n",
       "      <td>6</td>\n",
       "      <td>12</td>\n",
       "      <td>9</td>\n",
       "      <td>3</td>\n",
       "      <td>149</td>\n",
       "      <td>2</td>\n",
       "      <td>1</td>\n",
       "      <td>...</td>\n",
       "      <td>2E-06</td>\n",
       "      <td>0.135157794</td>\n",
       "      <td>268191.66</td>\n",
       "      <td>2023-12-03T20:06:17.217+00:00</td>\n",
       "      <td>488</td>\n",
       "      <td>522</td>\n",
       "      <td>40</td>\n",
       "      <td>1.1</td>\n",
       "      <td>0.1</td>\n",
       "      <td>[[1.000989,0,0,10.0],[0,-1.000989,0,-6.8],[0,0...</td>\n",
       "    </tr>\n",
       "  </tbody>\n",
       "</table>\n",
       "<p>388620 rows × 35 columns</p>\n",
       "</div>"
      ],
      "text/plain": [
       "                    id State                               URL Row Col  \\\n",
       "0         0103K1F1P1R1    Ok    r01c03f01p01-ch1sk1fk1fl1.tiff   1   3   \n",
       "1         0103K1F1P1R2    Ok    r01c03f01p01-ch2sk1fk1fl1.tiff   1   3   \n",
       "2         0103K1F1P2R1    Ok    r01c03f01p02-ch1sk1fk1fl1.tiff   1   3   \n",
       "3         0103K1F1P2R2    Ok    r01c03f01p02-ch2sk1fk1fl1.tiff   1   3   \n",
       "4         0103K1F1P3R1    Ok    r01c03f01p03-ch1sk1fk1fl1.tiff   1   3   \n",
       "...                ...   ...                               ...  ..  ..   \n",
       "388615  0612K150F9P1R2    Ok  r06c12f09p01-ch2sk150fk1fl1.tiff   6  12   \n",
       "388616  0612K150F9P2R1    Ok  r06c12f09p02-ch1sk150fk1fl1.tiff   6  12   \n",
       "388617  0612K150F9P2R2    Ok  r06c12f09p02-ch2sk150fk1fl1.tiff   6  12   \n",
       "388618  0612K150F9P3R1    Ok  r06c12f09p03-ch1sk150fk1fl1.tiff   6  12   \n",
       "388619  0612K150F9P3R2    Ok  r06c12f09p03-ch2sk150fk1fl1.tiff   6  12   \n",
       "\n",
       "       FieldID PlaneID TimepointID ChannelID FlimID  ... PositionZ  \\\n",
       "0            1       1           0         1      1  ...    -2E-06   \n",
       "1            1       1           0         2      1  ...    -2E-06   \n",
       "2            1       2           0         1      1  ...         0   \n",
       "3            1       2           0         2      1  ...         0   \n",
       "4            1       3           0         1      1  ...     2E-06   \n",
       "...        ...     ...         ...       ...    ...  ...       ...   \n",
       "388615       9       1         149         2      1  ...    -2E-06   \n",
       "388616       9       2         149         1      1  ...         0   \n",
       "388617       9       2         149         2      1  ...         0   \n",
       "388618       9       3         149         1      1  ...     2E-06   \n",
       "388619       9       3         149         2      1  ...     2E-06   \n",
       "\n",
       "       AbsPositionZ MeasurementTimeOffset                        AbsTime  \\\n",
       "0       0.135466397                     0   2023-11-30T17:22:09.49+00:00   \n",
       "1       0.135466397                     0  2023-11-30T17:22:09.723+00:00   \n",
       "2       0.135468394                     0  2023-11-30T17:22:10.067+00:00   \n",
       "3       0.135468394                     0  2023-11-30T17:22:10.287+00:00   \n",
       "4       0.135470405                     0  2023-11-30T17:22:10.627+00:00   \n",
       "...             ...                   ...                            ...   \n",
       "388615    0.1351538             268191.66   2023-12-03T20:06:16.08+00:00   \n",
       "388616  0.135155797             268191.66  2023-12-03T20:06:16.423+00:00   \n",
       "388617  0.135155797             268191.66  2023-12-03T20:06:16.657+00:00   \n",
       "388618  0.135157794             268191.66      2023-12-03T20:06:17+00:00   \n",
       "388619  0.135157794             268191.66  2023-12-03T20:06:17.217+00:00   \n",
       "\n",
       "       MainExcitationWavelength MainEmissionWavelength ObjectiveMagnification  \\\n",
       "0                           640                    706                     40   \n",
       "1                           488                    522                     40   \n",
       "2                           640                    706                     40   \n",
       "3                           488                    522                     40   \n",
       "4                           640                    706                     40   \n",
       "...                         ...                    ...                    ...   \n",
       "388615                      488                    522                     40   \n",
       "388616                      640                    706                     40   \n",
       "388617                      488                    522                     40   \n",
       "388618                      640                    706                     40   \n",
       "388619                      488                    522                     40   \n",
       "\n",
       "       ObjectiveNA ExposureTime  \\\n",
       "0              1.1          0.2   \n",
       "1              1.1          0.1   \n",
       "2              1.1          0.2   \n",
       "3              1.1          0.1   \n",
       "4              1.1          0.2   \n",
       "...            ...          ...   \n",
       "388615         1.1          0.1   \n",
       "388616         1.1          0.2   \n",
       "388617         1.1          0.1   \n",
       "388618         1.1          0.2   \n",
       "388619         1.1          0.1   \n",
       "\n",
       "                                        OrientationMatrix  \n",
       "0       [[1.000989,0,0,10.0],[0,-1.000989,0,-6.8],[0,0...  \n",
       "1       [[1.000989,0,0,10.0],[0,-1.000989,0,-6.8],[0,0...  \n",
       "2       [[1.000989,0,0,10.0],[0,-1.000989,0,-6.8],[0,0...  \n",
       "3       [[1.000989,0,0,10.0],[0,-1.000989,0,-6.8],[0,0...  \n",
       "4       [[1.000989,0,0,10.0],[0,-1.000989,0,-6.8],[0,0...  \n",
       "...                                                   ...  \n",
       "388615  [[1.000989,0,0,10.0],[0,-1.000989,0,-6.8],[0,0...  \n",
       "388616  [[1.000989,0,0,10.0],[0,-1.000989,0,-6.8],[0,0...  \n",
       "388617  [[1.000989,0,0,10.0],[0,-1.000989,0,-6.8],[0,0...  \n",
       "388618  [[1.000989,0,0,10.0],[0,-1.000989,0,-6.8],[0,0...  \n",
       "388619  [[1.000989,0,0,10.0],[0,-1.000989,0,-6.8],[0,0...  \n",
       "\n",
       "[388620 rows x 35 columns]"
      ]
     },
     "execution_count": 4,
     "metadata": {},
     "output_type": "execute_result"
    }
   ],
   "source": [
    "\n",
    "%%time\n",
    "expt_ID = 'ND0002'\n",
    "# base_dir = f'/mnt/DATA/macrohet/{expt_ID}/'\n",
    "base_dir = f'/mnt/SYNO/macrohet_syno/{expt_ID}/'\n",
    "metadata_fn = glob.glob(os.path.join(base_dir, 'acquisition/Images/Index*xml'))[0]\n",
    "# metadata_fn = '/mnt/SYNO/macrohet_syno/ND0001/acquisition/ND0001__2023-10-27T14_12_54-Measurement 1/Images/Index.idx.xml'#glob.glob(os.path.join(base_dir, 'Images/Index*xml'))[0]\n",
    "metadata = dataio.read_harmony_metadata(metadata_fn)  \n",
    "# temporary hack to fix URL from incorrectly exported metadata\n",
    "# metadata['URL'] = metadata.apply(dataio.generate_url, axis=1)\n",
    "metadata"
   ]
  },
  {
   "cell_type": "markdown",
   "id": "4779c1f0",
   "metadata": {},
   "source": [
    "### View assay layout and mask information (optional)\n",
    "\n",
    "The Opera Phenix acquires many time lapse series from a range of positions. The first step is to inspect the image metadata, presented in the form of an `Assaylayout/experiment_ID.xml` file, to show which positions correspond to which experimental assays."
   ]
  },
  {
   "cell_type": "code",
   "execution_count": 5,
   "id": "4b75643e",
   "metadata": {},
   "outputs": [
    {
     "name": "stdout",
     "output_type": "stream",
     "text": [
      "Reading metadata XML file...\n",
      "Extracting metadata complete!\n"
     ]
    },
    {
     "data": {
      "text/html": [
       "<div>\n",
       "<style scoped>\n",
       "    .dataframe tbody tr th:only-of-type {\n",
       "        vertical-align: middle;\n",
       "    }\n",
       "\n",
       "    .dataframe tbody tr th {\n",
       "        vertical-align: top;\n",
       "    }\n",
       "\n",
       "    .dataframe thead th {\n",
       "        text-align: right;\n",
       "    }\n",
       "</style>\n",
       "<table border=\"1\" class=\"dataframe\">\n",
       "  <thead>\n",
       "    <tr style=\"text-align: right;\">\n",
       "      <th></th>\n",
       "      <th></th>\n",
       "      <th>Strain</th>\n",
       "      <th>Compound</th>\n",
       "      <th>Concentration</th>\n",
       "      <th>ConcentrationEC</th>\n",
       "    </tr>\n",
       "    <tr>\n",
       "      <th>Row</th>\n",
       "      <th>Column</th>\n",
       "      <th></th>\n",
       "      <th></th>\n",
       "      <th></th>\n",
       "      <th></th>\n",
       "    </tr>\n",
       "  </thead>\n",
       "  <tbody>\n",
       "    <tr>\n",
       "      <th rowspan=\"12\" valign=\"top\">3</th>\n",
       "      <th>1</th>\n",
       "      <td>UNI</td>\n",
       "      <td>CTRL</td>\n",
       "      <td>0</td>\n",
       "      <td>EC0</td>\n",
       "    </tr>\n",
       "    <tr>\n",
       "      <th>2</th>\n",
       "      <td>UNI</td>\n",
       "      <td>CTRL</td>\n",
       "      <td>0</td>\n",
       "      <td>EC0</td>\n",
       "    </tr>\n",
       "    <tr>\n",
       "      <th>3</th>\n",
       "      <td>WT</td>\n",
       "      <td>CTRL</td>\n",
       "      <td>0</td>\n",
       "      <td>EC0</td>\n",
       "    </tr>\n",
       "    <tr>\n",
       "      <th>4</th>\n",
       "      <td>WT</td>\n",
       "      <td>CTRL</td>\n",
       "      <td>0</td>\n",
       "      <td>EC0</td>\n",
       "    </tr>\n",
       "    <tr>\n",
       "      <th>5</th>\n",
       "      <td>WT</td>\n",
       "      <td>PZA</td>\n",
       "      <td>60</td>\n",
       "      <td>EC50</td>\n",
       "    </tr>\n",
       "    <tr>\n",
       "      <th>6</th>\n",
       "      <td>WT</td>\n",
       "      <td>PZA</td>\n",
       "      <td>60</td>\n",
       "      <td>EC50</td>\n",
       "    </tr>\n",
       "    <tr>\n",
       "      <th>7</th>\n",
       "      <td>WT</td>\n",
       "      <td>RIF</td>\n",
       "      <td>0.1</td>\n",
       "      <td>EC50</td>\n",
       "    </tr>\n",
       "    <tr>\n",
       "      <th>8</th>\n",
       "      <td>WT</td>\n",
       "      <td>RIF</td>\n",
       "      <td>0.1</td>\n",
       "      <td>EC50</td>\n",
       "    </tr>\n",
       "    <tr>\n",
       "      <th>9</th>\n",
       "      <td>WT</td>\n",
       "      <td>INH</td>\n",
       "      <td>0.04</td>\n",
       "      <td>EC50</td>\n",
       "    </tr>\n",
       "    <tr>\n",
       "      <th>10</th>\n",
       "      <td>WT</td>\n",
       "      <td>INH</td>\n",
       "      <td>0.04</td>\n",
       "      <td>EC50</td>\n",
       "    </tr>\n",
       "    <tr>\n",
       "      <th>11</th>\n",
       "      <td>WT</td>\n",
       "      <td>BDQ</td>\n",
       "      <td>0.02</td>\n",
       "      <td>EC50</td>\n",
       "    </tr>\n",
       "    <tr>\n",
       "      <th>12</th>\n",
       "      <td>WT</td>\n",
       "      <td>BDQ</td>\n",
       "      <td>0.02</td>\n",
       "      <td>EC50</td>\n",
       "    </tr>\n",
       "    <tr>\n",
       "      <th rowspan=\"10\" valign=\"top\">4</th>\n",
       "      <th>3</th>\n",
       "      <td>WT</td>\n",
       "      <td>CTRL</td>\n",
       "      <td>0</td>\n",
       "      <td>EC0</td>\n",
       "    </tr>\n",
       "    <tr>\n",
       "      <th>4</th>\n",
       "      <td>WT</td>\n",
       "      <td>CTRL</td>\n",
       "      <td>0</td>\n",
       "      <td>EC0</td>\n",
       "    </tr>\n",
       "    <tr>\n",
       "      <th>5</th>\n",
       "      <td>WT</td>\n",
       "      <td>PZA</td>\n",
       "      <td>400</td>\n",
       "      <td>EC99</td>\n",
       "    </tr>\n",
       "    <tr>\n",
       "      <th>6</th>\n",
       "      <td>WT</td>\n",
       "      <td>PZA</td>\n",
       "      <td>400</td>\n",
       "      <td>EC99</td>\n",
       "    </tr>\n",
       "    <tr>\n",
       "      <th>7</th>\n",
       "      <td>WT</td>\n",
       "      <td>RIF</td>\n",
       "      <td>2</td>\n",
       "      <td>EC99</td>\n",
       "    </tr>\n",
       "    <tr>\n",
       "      <th>8</th>\n",
       "      <td>WT</td>\n",
       "      <td>RIF</td>\n",
       "      <td>2</td>\n",
       "      <td>EC99</td>\n",
       "    </tr>\n",
       "    <tr>\n",
       "      <th>9</th>\n",
       "      <td>WT</td>\n",
       "      <td>INH</td>\n",
       "      <td>2</td>\n",
       "      <td>EC99</td>\n",
       "    </tr>\n",
       "    <tr>\n",
       "      <th>10</th>\n",
       "      <td>WT</td>\n",
       "      <td>INH</td>\n",
       "      <td>2</td>\n",
       "      <td>EC99</td>\n",
       "    </tr>\n",
       "    <tr>\n",
       "      <th>11</th>\n",
       "      <td>WT</td>\n",
       "      <td>BDQ</td>\n",
       "      <td>2.5</td>\n",
       "      <td>EC99</td>\n",
       "    </tr>\n",
       "    <tr>\n",
       "      <th>12</th>\n",
       "      <td>WT</td>\n",
       "      <td>BDQ</td>\n",
       "      <td>2.5</td>\n",
       "      <td>EC99</td>\n",
       "    </tr>\n",
       "    <tr>\n",
       "      <th rowspan=\"10\" valign=\"top\">5</th>\n",
       "      <th>3</th>\n",
       "      <td>RD1</td>\n",
       "      <td>CTRL</td>\n",
       "      <td>0</td>\n",
       "      <td>EC0</td>\n",
       "    </tr>\n",
       "    <tr>\n",
       "      <th>4</th>\n",
       "      <td>RD1</td>\n",
       "      <td>CTRL</td>\n",
       "      <td>0</td>\n",
       "      <td>EC0</td>\n",
       "    </tr>\n",
       "    <tr>\n",
       "      <th>5</th>\n",
       "      <td>RD1</td>\n",
       "      <td>PZA</td>\n",
       "      <td>60</td>\n",
       "      <td>EC50</td>\n",
       "    </tr>\n",
       "    <tr>\n",
       "      <th>6</th>\n",
       "      <td>RD1</td>\n",
       "      <td>PZA</td>\n",
       "      <td>60</td>\n",
       "      <td>EC50</td>\n",
       "    </tr>\n",
       "    <tr>\n",
       "      <th>7</th>\n",
       "      <td>RD1</td>\n",
       "      <td>RIF</td>\n",
       "      <td>0.1</td>\n",
       "      <td>EC50</td>\n",
       "    </tr>\n",
       "    <tr>\n",
       "      <th>8</th>\n",
       "      <td>RD1</td>\n",
       "      <td>RIF</td>\n",
       "      <td>0.1</td>\n",
       "      <td>EC50</td>\n",
       "    </tr>\n",
       "    <tr>\n",
       "      <th>9</th>\n",
       "      <td>RD1</td>\n",
       "      <td>INH</td>\n",
       "      <td>0.04</td>\n",
       "      <td>EC50</td>\n",
       "    </tr>\n",
       "    <tr>\n",
       "      <th>10</th>\n",
       "      <td>RD1</td>\n",
       "      <td>INH</td>\n",
       "      <td>0.04</td>\n",
       "      <td>EC50</td>\n",
       "    </tr>\n",
       "    <tr>\n",
       "      <th>11</th>\n",
       "      <td>RD1</td>\n",
       "      <td>BDQ</td>\n",
       "      <td>0.02</td>\n",
       "      <td>EC50</td>\n",
       "    </tr>\n",
       "    <tr>\n",
       "      <th>12</th>\n",
       "      <td>RD1</td>\n",
       "      <td>BDQ</td>\n",
       "      <td>0.02</td>\n",
       "      <td>EC50</td>\n",
       "    </tr>\n",
       "    <tr>\n",
       "      <th rowspan=\"10\" valign=\"top\">6</th>\n",
       "      <th>3</th>\n",
       "      <td>RD1</td>\n",
       "      <td>CTRL</td>\n",
       "      <td>0</td>\n",
       "      <td>EC0</td>\n",
       "    </tr>\n",
       "    <tr>\n",
       "      <th>4</th>\n",
       "      <td>RD1</td>\n",
       "      <td>CTRL</td>\n",
       "      <td>0</td>\n",
       "      <td>EC0</td>\n",
       "    </tr>\n",
       "    <tr>\n",
       "      <th>5</th>\n",
       "      <td>RD1</td>\n",
       "      <td>PZA</td>\n",
       "      <td>400</td>\n",
       "      <td>EC99</td>\n",
       "    </tr>\n",
       "    <tr>\n",
       "      <th>6</th>\n",
       "      <td>RD1</td>\n",
       "      <td>PZA</td>\n",
       "      <td>400</td>\n",
       "      <td>EC99</td>\n",
       "    </tr>\n",
       "    <tr>\n",
       "      <th>7</th>\n",
       "      <td>RD1</td>\n",
       "      <td>RIF</td>\n",
       "      <td>2</td>\n",
       "      <td>EC99</td>\n",
       "    </tr>\n",
       "    <tr>\n",
       "      <th>8</th>\n",
       "      <td>RD1</td>\n",
       "      <td>RIF</td>\n",
       "      <td>2</td>\n",
       "      <td>EC99</td>\n",
       "    </tr>\n",
       "    <tr>\n",
       "      <th>9</th>\n",
       "      <td>RD1</td>\n",
       "      <td>INH</td>\n",
       "      <td>2</td>\n",
       "      <td>EC99</td>\n",
       "    </tr>\n",
       "    <tr>\n",
       "      <th>10</th>\n",
       "      <td>RD1</td>\n",
       "      <td>INH</td>\n",
       "      <td>2</td>\n",
       "      <td>EC99</td>\n",
       "    </tr>\n",
       "    <tr>\n",
       "      <th>11</th>\n",
       "      <td>RD1</td>\n",
       "      <td>BDQ</td>\n",
       "      <td>2.5</td>\n",
       "      <td>EC99</td>\n",
       "    </tr>\n",
       "    <tr>\n",
       "      <th>12</th>\n",
       "      <td>RD1</td>\n",
       "      <td>BDQ</td>\n",
       "      <td>2.5</td>\n",
       "      <td>EC99</td>\n",
       "    </tr>\n",
       "  </tbody>\n",
       "</table>\n",
       "</div>"
      ],
      "text/plain": [
       "           Strain Compound Concentration ConcentrationEC\n",
       "Row Column                                              \n",
       "3   1         UNI     CTRL             0             EC0\n",
       "    2         UNI     CTRL             0             EC0\n",
       "    3          WT     CTRL             0             EC0\n",
       "    4          WT     CTRL             0             EC0\n",
       "    5          WT      PZA            60            EC50\n",
       "    6          WT      PZA            60            EC50\n",
       "    7          WT      RIF           0.1            EC50\n",
       "    8          WT      RIF           0.1            EC50\n",
       "    9          WT      INH          0.04            EC50\n",
       "    10         WT      INH          0.04            EC50\n",
       "    11         WT      BDQ          0.02            EC50\n",
       "    12         WT      BDQ          0.02            EC50\n",
       "4   3          WT     CTRL             0             EC0\n",
       "    4          WT     CTRL             0             EC0\n",
       "    5          WT      PZA           400            EC99\n",
       "    6          WT      PZA           400            EC99\n",
       "    7          WT      RIF             2            EC99\n",
       "    8          WT      RIF             2            EC99\n",
       "    9          WT      INH             2            EC99\n",
       "    10         WT      INH             2            EC99\n",
       "    11         WT      BDQ           2.5            EC99\n",
       "    12         WT      BDQ           2.5            EC99\n",
       "5   3         RD1     CTRL             0             EC0\n",
       "    4         RD1     CTRL             0             EC0\n",
       "    5         RD1      PZA            60            EC50\n",
       "    6         RD1      PZA            60            EC50\n",
       "    7         RD1      RIF           0.1            EC50\n",
       "    8         RD1      RIF           0.1            EC50\n",
       "    9         RD1      INH          0.04            EC50\n",
       "    10        RD1      INH          0.04            EC50\n",
       "    11        RD1      BDQ          0.02            EC50\n",
       "    12        RD1      BDQ          0.02            EC50\n",
       "6   3         RD1     CTRL             0             EC0\n",
       "    4         RD1     CTRL             0             EC0\n",
       "    5         RD1      PZA           400            EC99\n",
       "    6         RD1      PZA           400            EC99\n",
       "    7         RD1      RIF             2            EC99\n",
       "    8         RD1      RIF             2            EC99\n",
       "    9         RD1      INH             2            EC99\n",
       "    10        RD1      INH             2            EC99\n",
       "    11        RD1      BDQ           2.5            EC99\n",
       "    12        RD1      BDQ           2.5            EC99"
      ]
     },
     "execution_count": 5,
     "metadata": {},
     "output_type": "execute_result"
    }
   ],
   "source": [
    "metadata_path = glob.glob(os.path.join(base_dir, 'acquisition/Assaylayout/*AssayLayout.xml'))[0]\n",
    "assay_layout = dataio.read_harmony_metadata(metadata_path, assay_layout=True,)# mask_exist=True,  image_dir = image_dir, image_metadata = metadata)\n",
    "assay_layout"
   ]
  },
  {
   "cell_type": "markdown",
   "id": "e9d4dc7f",
   "metadata": {},
   "source": [
    "### Define row and column of choice"
   ]
  },
  {
   "cell_type": "code",
   "execution_count": 6,
   "id": "661b558f",
   "metadata": {},
   "outputs": [],
   "source": [
    "acq_ID = row, column = (3, 4)"
   ]
  },
  {
   "cell_type": "markdown",
   "id": "0158ed52-8b43-46ea-8b3d-10521e153cab",
   "metadata": {},
   "source": [
    "### Load images using zarr"
   ]
  },
  {
   "cell_type": "code",
   "execution_count": 7,
   "id": "976f516e-4d0a-4c8e-bff5-e7e295219093",
   "metadata": {},
   "outputs": [],
   "source": [
    "zarr_image_dir = os.path.join(base_dir, f'acquisition/zarr/{acq_ID}.zarr')\n",
    "zarr_store = zarr.open(zarr_image_dir, mode='r')"
   ]
  },
  {
   "cell_type": "code",
   "execution_count": 8,
   "id": "9a627218-79fe-407e-b1c9-3cb2361e1fa1",
   "metadata": {},
   "outputs": [
    {
     "name": "stdout",
     "output_type": "stream",
     "text": [
      "CPU times: user 5.22 s, sys: 3.04 s, total: 8.26 s\n",
      "Wall time: 2.3 s\n"
     ]
    }
   ],
   "source": [
    "%%time\n",
    "zarr_images = zarr_store.images[0:20] #.compute()"
   ]
  },
  {
   "cell_type": "code",
   "execution_count": 9,
   "id": "aa881488-bedb-4415-b730-bf6700e1c45f",
   "metadata": {},
   "outputs": [
    {
     "data": {
      "text/plain": [
       "(20, 2, 3, 6048, 6048)"
      ]
     },
     "execution_count": 9,
     "metadata": {},
     "output_type": "execute_result"
    }
   ],
   "source": [
    "zarr_images.shape"
   ]
  },
  {
   "cell_type": "code",
   "execution_count": 10,
   "id": "aa27266a-e43e-4e0d-8b5d-87d3b16adadc",
   "metadata": {},
   "outputs": [],
   "source": [
    "images = zarr_images = np.max(zarr_images, axis = 2)"
   ]
  },
  {
   "cell_type": "code",
   "execution_count": 11,
   "id": "0c9d500a-3ac3-4c65-bd16-26b3d6c5b264",
   "metadata": {},
   "outputs": [
    {
     "data": {
      "text/plain": [
       "(20, 2, 6048, 6048)"
      ]
     },
     "execution_count": 11,
     "metadata": {},
     "output_type": "execute_result"
    }
   ],
   "source": [
    "images.shape\n"
   ]
  },
  {
   "cell_type": "markdown",
   "id": "f25ed36c-d21e-45b6-baae-0479ee649f9a",
   "metadata": {},
   "source": [
    "### Launch napari"
   ]
  },
  {
   "cell_type": "code",
   "execution_count": 12,
   "id": "621371fc-0a9e-423d-9f79-cd1a977c1edd",
   "metadata": {},
   "outputs": [
    {
     "data": {
      "text/plain": [
       "<function __main__.update_slider(event)>"
      ]
     },
     "execution_count": 12,
     "metadata": {},
     "output_type": "execute_result"
    }
   ],
   "source": [
    "viewer = napari.Viewer(title = f'{expt_ID} vis with tracks')\n",
    "\n",
    "viewer.add_image(images, channel_axis = 1, \n",
    "                 scale = napari_scale, contrast_limits=[[280, 1000],[0,3000]])\n",
    "# viewer.theme = 'light'\n",
    "viewer.scale_bar.visible = True\n",
    "viewer.scale_bar.unit = 'm'\n",
    "viewer.scale_bar.font_size = text_size\n",
    "viewer.text_overlay.visible = True\n",
    "viewer.text_overlay.color = 'white'\n",
    "viewer.text_overlay.position = 'bottom_left'\n",
    "viewer.text_overlay.font_size = text_size\n",
    "viewer.dims.events.current_step.connect(update_slider)"
   ]
  },
  {
   "cell_type": "code",
   "execution_count": 13,
   "id": "72561ec6",
   "metadata": {},
   "outputs": [
    {
     "name": "stdout",
     "output_type": "stream",
     "text": [
      "CPU times: user 1.23 s, sys: 375 ms, total: 1.61 s\n",
      "Wall time: 1.5 s\n"
     ]
    },
    {
     "data": {
      "text/html": [
       "<table>\n",
       "    <tr>\n",
       "        <td>\n",
       "            <table style=\"border-collapse: collapse;\">\n",
       "                <thead>\n",
       "                    <tr>\n",
       "                        <td> </td>\n",
       "                        <th> Array </th>\n",
       "                        <th> Chunk </th>\n",
       "                    </tr>\n",
       "                </thead>\n",
       "                <tbody>\n",
       "                    \n",
       "                    <tr>\n",
       "                        <th> Bytes </th>\n",
       "                        <td> 20.44 GiB </td>\n",
       "                        <td> 17.80 MiB </td>\n",
       "                    </tr>\n",
       "                    \n",
       "                    <tr>\n",
       "                        <th> Shape </th>\n",
       "                        <td> (150, 2, 6048, 6048) </td>\n",
       "                        <td> (1, 2, 2160, 2160) </td>\n",
       "                    </tr>\n",
       "                    <tr>\n",
       "                        <th> Dask graph </th>\n",
       "                        <td colspan=\"2\"> 1350 chunks in 3605 graph layers </td>\n",
       "                    </tr>\n",
       "                    <tr>\n",
       "                        <th> Data type </th>\n",
       "                        <td colspan=\"2\"> uint16 numpy.ndarray </td>\n",
       "                    </tr>\n",
       "                </tbody>\n",
       "            </table>\n",
       "        </td>\n",
       "        <td>\n",
       "        <svg width=\"384\" height=\"184\" style=\"stroke:rgb(0,0,0);stroke-width:1\" >\n",
       "\n",
       "  <!-- Horizontal lines -->\n",
       "  <line x1=\"0\" y1=\"0\" x2=\"30\" y2=\"0\" style=\"stroke-width:2\" />\n",
       "  <line x1=\"0\" y1=\"25\" x2=\"30\" y2=\"25\" style=\"stroke-width:2\" />\n",
       "\n",
       "  <!-- Vertical lines -->\n",
       "  <line x1=\"0\" y1=\"0\" x2=\"0\" y2=\"25\" style=\"stroke-width:2\" />\n",
       "  <line x1=\"0\" y1=\"0\" x2=\"0\" y2=\"25\" />\n",
       "  <line x1=\"1\" y1=\"0\" x2=\"1\" y2=\"25\" />\n",
       "  <line x1=\"2\" y1=\"0\" x2=\"2\" y2=\"25\" />\n",
       "  <line x1=\"3\" y1=\"0\" x2=\"3\" y2=\"25\" />\n",
       "  <line x1=\"4\" y1=\"0\" x2=\"4\" y2=\"25\" />\n",
       "  <line x1=\"5\" y1=\"0\" x2=\"5\" y2=\"25\" />\n",
       "  <line x1=\"6\" y1=\"0\" x2=\"6\" y2=\"25\" />\n",
       "  <line x1=\"7\" y1=\"0\" x2=\"7\" y2=\"25\" />\n",
       "  <line x1=\"8\" y1=\"0\" x2=\"8\" y2=\"25\" />\n",
       "  <line x1=\"9\" y1=\"0\" x2=\"9\" y2=\"25\" />\n",
       "  <line x1=\"10\" y1=\"0\" x2=\"10\" y2=\"25\" />\n",
       "  <line x1=\"11\" y1=\"0\" x2=\"11\" y2=\"25\" />\n",
       "  <line x1=\"12\" y1=\"0\" x2=\"12\" y2=\"25\" />\n",
       "  <line x1=\"13\" y1=\"0\" x2=\"13\" y2=\"25\" />\n",
       "  <line x1=\"14\" y1=\"0\" x2=\"14\" y2=\"25\" />\n",
       "  <line x1=\"15\" y1=\"0\" x2=\"15\" y2=\"25\" />\n",
       "  <line x1=\"15\" y1=\"0\" x2=\"15\" y2=\"25\" />\n",
       "  <line x1=\"16\" y1=\"0\" x2=\"16\" y2=\"25\" />\n",
       "  <line x1=\"17\" y1=\"0\" x2=\"17\" y2=\"25\" />\n",
       "  <line x1=\"18\" y1=\"0\" x2=\"18\" y2=\"25\" />\n",
       "  <line x1=\"19\" y1=\"0\" x2=\"19\" y2=\"25\" />\n",
       "  <line x1=\"20\" y1=\"0\" x2=\"20\" y2=\"25\" />\n",
       "  <line x1=\"21\" y1=\"0\" x2=\"21\" y2=\"25\" />\n",
       "  <line x1=\"22\" y1=\"0\" x2=\"22\" y2=\"25\" />\n",
       "  <line x1=\"23\" y1=\"0\" x2=\"23\" y2=\"25\" />\n",
       "  <line x1=\"24\" y1=\"0\" x2=\"24\" y2=\"25\" />\n",
       "  <line x1=\"25\" y1=\"0\" x2=\"25\" y2=\"25\" />\n",
       "  <line x1=\"26\" y1=\"0\" x2=\"26\" y2=\"25\" />\n",
       "  <line x1=\"27\" y1=\"0\" x2=\"27\" y2=\"25\" />\n",
       "  <line x1=\"28\" y1=\"0\" x2=\"28\" y2=\"25\" />\n",
       "  <line x1=\"29\" y1=\"0\" x2=\"29\" y2=\"25\" />\n",
       "  <line x1=\"30\" y1=\"0\" x2=\"30\" y2=\"25\" style=\"stroke-width:2\" />\n",
       "\n",
       "  <!-- Colored Rectangle -->\n",
       "  <polygon points=\"0.0,0.0 30.2648561532247,0.0 30.2648561532247,25.412616514582485 0.0,25.412616514582485\" style=\"fill:#8B4903A0;stroke-width:0\"/>\n",
       "\n",
       "  <!-- Text -->\n",
       "  <text x=\"15.132428\" y=\"45.412617\" font-size=\"1.0rem\" font-weight=\"100\" text-anchor=\"middle\" >150</text>\n",
       "  <text x=\"50.264856\" y=\"12.706308\" font-size=\"1.0rem\" font-weight=\"100\" text-anchor=\"middle\" transform=\"rotate(0,50.264856,12.706308)\">1</text>\n",
       "\n",
       "\n",
       "  <!-- Horizontal lines -->\n",
       "  <line x1=\"100\" y1=\"0\" x2=\"114\" y2=\"14\" style=\"stroke-width:2\" />\n",
       "  <line x1=\"100\" y1=\"42\" x2=\"114\" y2=\"57\" />\n",
       "  <line x1=\"100\" y1=\"85\" x2=\"114\" y2=\"100\" />\n",
       "  <line x1=\"100\" y1=\"120\" x2=\"114\" y2=\"134\" style=\"stroke-width:2\" />\n",
       "\n",
       "  <!-- Vertical lines -->\n",
       "  <line x1=\"100\" y1=\"0\" x2=\"100\" y2=\"120\" style=\"stroke-width:2\" />\n",
       "  <line x1=\"114\" y1=\"14\" x2=\"114\" y2=\"134\" style=\"stroke-width:2\" />\n",
       "\n",
       "  <!-- Colored Rectangle -->\n",
       "  <polygon points=\"100.0,0.0 114.9485979497544,14.948597949754403 114.9485979497544,134.9485979497544 100.0,120.0\" style=\"fill:#ECB172A0;stroke-width:0\"/>\n",
       "\n",
       "  <!-- Horizontal lines -->\n",
       "  <line x1=\"100\" y1=\"0\" x2=\"220\" y2=\"0\" style=\"stroke-width:2\" />\n",
       "  <line x1=\"114\" y1=\"14\" x2=\"234\" y2=\"14\" style=\"stroke-width:2\" />\n",
       "\n",
       "  <!-- Vertical lines -->\n",
       "  <line x1=\"100\" y1=\"0\" x2=\"114\" y2=\"14\" style=\"stroke-width:2\" />\n",
       "  <line x1=\"142\" y1=\"0\" x2=\"157\" y2=\"14\" />\n",
       "  <line x1=\"185\" y1=\"0\" x2=\"200\" y2=\"14\" />\n",
       "  <line x1=\"220\" y1=\"0\" x2=\"234\" y2=\"14\" style=\"stroke-width:2\" />\n",
       "\n",
       "  <!-- Colored Rectangle -->\n",
       "  <polygon points=\"100.0,0.0 220.0,0.0 234.9485979497544,14.948597949754403 114.9485979497544,14.948597949754403\" style=\"fill:#ECB172A0;stroke-width:0\"/>\n",
       "\n",
       "  <!-- Horizontal lines -->\n",
       "  <line x1=\"114\" y1=\"14\" x2=\"234\" y2=\"14\" style=\"stroke-width:2\" />\n",
       "  <line x1=\"114\" y1=\"57\" x2=\"234\" y2=\"57\" />\n",
       "  <line x1=\"114\" y1=\"100\" x2=\"234\" y2=\"100\" />\n",
       "  <line x1=\"114\" y1=\"134\" x2=\"234\" y2=\"134\" style=\"stroke-width:2\" />\n",
       "\n",
       "  <!-- Vertical lines -->\n",
       "  <line x1=\"114\" y1=\"14\" x2=\"114\" y2=\"134\" style=\"stroke-width:2\" />\n",
       "  <line x1=\"157\" y1=\"14\" x2=\"157\" y2=\"134\" />\n",
       "  <line x1=\"200\" y1=\"14\" x2=\"200\" y2=\"134\" />\n",
       "  <line x1=\"234\" y1=\"14\" x2=\"234\" y2=\"134\" style=\"stroke-width:2\" />\n",
       "\n",
       "  <!-- Colored Rectangle -->\n",
       "  <polygon points=\"114.9485979497544,14.948597949754403 234.9485979497544,14.948597949754403 234.9485979497544,134.9485979497544 114.9485979497544,134.9485979497544\" style=\"fill:#ECB172A0;stroke-width:0\"/>\n",
       "\n",
       "  <!-- Text -->\n",
       "  <text x=\"174.948598\" y=\"154.948598\" font-size=\"1.0rem\" font-weight=\"100\" text-anchor=\"middle\" >6048</text>\n",
       "  <text x=\"254.948598\" y=\"74.948598\" font-size=\"1.0rem\" font-weight=\"100\" text-anchor=\"middle\" transform=\"rotate(-90,254.948598,74.948598)\">6048</text>\n",
       "  <text x=\"97.474299\" y=\"147.474299\" font-size=\"1.0rem\" font-weight=\"100\" text-anchor=\"middle\" transform=\"rotate(45,97.474299,147.474299)\">2</text>\n",
       "</svg>\n",
       "        </td>\n",
       "    </tr>\n",
       "</table>"
      ],
      "text/plain": [
       "dask.array<max-aggregate, shape=(150, 2, 6048, 6048), dtype=uint16, chunksize=(1, 2, 2160, 2160), chunktype=numpy.ndarray>"
      ]
     },
     "execution_count": 13,
     "metadata": {},
     "output_type": "execute_result"
    }
   ],
   "source": [
    "%%time\n",
    "# image_dir = os.path.join(base_dir, 'macrohet_images/Images_8bit')\n",
    "image_dir = os.path.join(base_dir, 'acquisition/Images')\n",
    "images = tile.compile_mosaic(image_dir, \n",
    "                             metadata, \n",
    "                             row, column, \n",
    "                             # subset_field_IDs=['16', '17',  '20', '21'], \n",
    "                             # n_tile_rows = 2, n_tile_cols = 2,\n",
    "                             set_plane='max_proj',\n",
    "                             # set_channel=1,\n",
    "                             # set_time = 1,\n",
    "#                             input_transforms = [input_transforms]\n",
    "                            )#.compute().compute()\n",
    "images"
   ]
  },
  {
   "cell_type": "code",
   "execution_count": 14,
   "id": "c4fb8dee-1183-4557-af6d-ed3bfc61aa0d",
   "metadata": {},
   "outputs": [
    {
     "name": "stdout",
     "output_type": "stream",
     "text": [
      "CPU times: user 6min 44s, sys: 20.5 s, total: 7min 4s\n",
      "Wall time: 4min 59s\n"
     ]
    }
   ],
   "source": [
    "%%time\n",
    "images = images.compute()"
   ]
  },
  {
   "cell_type": "markdown",
   "id": "4d4d481b-9b0c-400d-b24e-08feda319c85",
   "metadata": {},
   "source": [
    "### Load default segmentation "
   ]
  },
  {
   "cell_type": "code",
   "execution_count": 4,
   "id": "485cd287-99cd-4b60-aad2-6be5decdad74",
   "metadata": {
    "scrolled": true
   },
   "outputs": [
    {
     "name": "stderr",
     "output_type": "stream",
     "text": [
      "[INFO][2024/01/26 09:37:07 AM] Opening HDF file: /mnt/SYNO/macrohet_syno/ND0002/labels/(3, 4)_dev/testing_(3, 4)_config_segrate_0.05_probass_0.05.json.h5...\n",
      "INFO:btrack.io.hdf:Opening HDF file: /mnt/SYNO/macrohet_syno/ND0002/labels/(3, 4)_dev/testing_(3, 4)_config_segrate_0.05_probass_0.05.json.h5...\n",
      "[INFO][2024/01/26 09:37:27 AM] Loading segmentation (150, 6048, 6048)\n",
      "INFO:btrack.io.hdf:Loading segmentation (150, 6048, 6048)\n",
      "[INFO][2024/01/26 09:37:27 AM] Loading tracks/obj_type_1\n",
      "INFO:btrack.io.hdf:Loading tracks/obj_type_1\n",
      "[INFO][2024/01/26 09:37:27 AM] Loading LBEP/obj_type_1\n",
      "INFO:btrack.io.hdf:Loading LBEP/obj_type_1\n",
      "[INFO][2024/01/26 09:37:27 AM] Loading objects/obj_type_1 (72015, 5) (72015 filtered: None)\n",
      "INFO:btrack.io.hdf:Loading objects/obj_type_1 (72015, 5) (72015 filtered: None)\n",
      "[INFO][2024/01/26 09:37:29 AM] Loading objects/obj_type_1 (72015, 5) (72015 filtered: None)\n",
      "INFO:btrack.io.hdf:Loading objects/obj_type_1 (72015, 5) (72015 filtered: None)\n",
      "[INFO][2024/01/26 09:37:30 AM] Closing HDF file: /mnt/SYNO/macrohet_syno/ND0002/labels/(3, 4)_dev/testing_(3, 4)_config_segrate_0.05_probass_0.05.json.h5\n",
      "INFO:btrack.io.hdf:Closing HDF file: /mnt/SYNO/macrohet_syno/ND0002/labels/(3, 4)_dev/testing_(3, 4)_config_segrate_0.05_probass_0.05.json.h5\n"
     ]
    }
   ],
   "source": [
    "fn = '/mnt/SYNO/macrohet_syno/ND0002/labels/(3, 4)_dev/testing_(3, 4)_config_segrate_0.05_probass_0.05.json.h5'\n",
    "with btrack.io.HDF5FileHandler(fn, 'r', obj_type='obj_type_1') as reader:\n",
    "    segmentation = reader.segmentation\n",
    "    tracks = reader.tracks\n",
    "    objects = reader.objects\n",
    "# recolored_segmentation = btrack.utils.update_segmentation(seg, tracks ,scale = (1/scale_factor,1/scale_factor))\n"
   ]
  },
  {
   "cell_type": "code",
   "execution_count": 5,
   "id": "04320200-22c1-4581-9bd0-413005b997e8",
   "metadata": {},
   "outputs": [
    {
     "data": {
      "text/plain": [
       "27742"
      ]
     },
     "execution_count": 5,
     "metadata": {},
     "output_type": "execute_result"
    }
   ],
   "source": [
    "len(tracks)"
   ]
  },
  {
   "cell_type": "code",
   "execution_count": 6,
   "id": "ca8008e1-15f1-462d-abed-dd926374a234",
   "metadata": {},
   "outputs": [
    {
     "data": {
      "text/plain": [
       "102"
      ]
     },
     "execution_count": 6,
     "metadata": {},
     "output_type": "execute_result"
    }
   ],
   "source": [
    "len([t for t in tracks if len(t) > 70])"
   ]
  },
  {
   "cell_type": "code",
   "execution_count": 8,
   "id": "66307697-c98f-4a89-a8f1-ef39352bf9c9",
   "metadata": {},
   "outputs": [
    {
     "data": {
      "text/plain": [
       "13"
      ]
     },
     "execution_count": 8,
     "metadata": {},
     "output_type": "execute_result"
    }
   ],
   "source": [
    "len([t for t in tracks if len(t) > 140])"
   ]
  },
  {
   "cell_type": "code",
   "execution_count": 9,
   "id": "9d5db2e9-88ff-45fa-9ba4-a310bf4c3c5a",
   "metadata": {},
   "outputs": [
    {
     "data": {
      "text/html": [
       "<table border=\"1\" class=\"dataframe\">\n",
       "  <thead>\n",
       "    <tr style=\"text-align: right;\">\n",
       "      <th></th>\n",
       "      <th>ID</th>\n",
       "      <th>x</th>\n",
       "      <th>y</th>\n",
       "      <th>z</th>\n",
       "      <th>t</th>\n",
       "      <th>dummy</th>\n",
       "      <th>states</th>\n",
       "      <th>label</th>\n",
       "      <th>orientation</th>\n",
       "      <th>class_id</th>\n",
       "      <th>area</th>\n",
       "      <th>minor_axis_length</th>\n",
       "      <th>major_axis_length</th>\n",
       "      <th>eccentricity</th>\n",
       "    </tr>\n",
       "  </thead>\n",
       "  <tbody>\n",
       "    <tr>\n",
       "      <th>0</th>\n",
       "      <td>0</td>\n",
       "      <td>817.460327</td>\n",
       "      <td>561.904785</td>\n",
       "      <td>0.0</td>\n",
       "      <td>0</td>\n",
       "      <td>False</td>\n",
       "      <td>7</td>\n",
       "      <td>5</td>\n",
       "      <td>0.785398</td>\n",
       "      <td>186.0</td>\n",
       "      <td>1.0</td>\n",
       "      <td>0.0</td>\n",
       "      <td>0.0</td>\n",
       "      <td>0.0</td>\n",
       "    </tr>\n",
       "  </tbody>\n",
       "</table>"
      ],
      "text/plain": [
       "{'ID': 0, 'x': 817.4603271484375, 'y': 561.90478515625, 'z': 0.0, 't': 0, 'dummy': False, 'states': 7, 'label': 5, 'orientation': 0.7853982, 'class_id': 186.0, 'area': 1.0, 'minor_axis_length': 0.0, 'major_axis_length': 0.0, 'eccentricity': 0.0}"
      ]
     },
     "execution_count": 9,
     "metadata": {},
     "output_type": "execute_result"
    }
   ],
   "source": [
    "objects[0]"
   ]
  },
  {
   "cell_type": "code",
   "execution_count": 11,
   "id": "a5dc1fea-8618-4014-879e-928cf5ac7399",
   "metadata": {},
   "outputs": [
    {
     "data": {
      "text/plain": [
       "391"
      ]
     },
     "execution_count": 11,
     "metadata": {},
     "output_type": "execute_result"
    }
   ],
   "source": [
    "len([o for o in objects if o.properties['area']>5000 and o.t==0])"
   ]
  },
  {
   "cell_type": "markdown",
   "id": "be24e727-fa7c-45f4-8c52-b8d501858297",
   "metadata": {},
   "source": [
    "# adding fluorescence measurements"
   ]
  },
  {
   "cell_type": "code",
   "execution_count": 16,
   "id": "fabbc28c-9540-4643-acdb-100fd6b0d984",
   "metadata": {},
   "outputs": [],
   "source": [
    "intensity_image = images = np.stack([images[:,0,...], images[:,1,...]], axis = -1)"
   ]
  },
  {
   "cell_type": "code",
   "execution_count": 17,
   "id": "da1f6787-adca-4d3c-adb3-a10209e66004",
   "metadata": {},
   "outputs": [
    {
     "data": {
      "text/plain": [
       "(150, 6048, 6048, 2)"
      ]
     },
     "execution_count": 17,
     "metadata": {},
     "output_type": "execute_result"
    }
   ],
   "source": [
    "intensity_image.shape"
   ]
  },
  {
   "cell_type": "code",
   "execution_count": 18,
   "id": "c8186d6d-54d2-4343-9236-c90de7ad72cc",
   "metadata": {},
   "outputs": [],
   "source": [
    "properties = tuple(['major_axis_length',\n",
    "                    'area',\n",
    "                    'minor_axis_length',\n",
    "                    'orientation',\n",
    "                    'eccentricity', \n",
    "                    'mean_intensity', \n",
    "                    'max_intensity', \n",
    "                    'min_intensity']\n",
    "                  )"
   ]
  },
  {
   "cell_type": "code",
   "execution_count": 19,
   "id": "593c8e96-bec9-4001-8d28-641345c3f9d4",
   "metadata": {},
   "outputs": [],
   "source": [
    "use_weighted_centroid = False"
   ]
  },
  {
   "cell_type": "code",
   "execution_count": 20,
   "id": "938e94c8-e99d-43d7-9695-1d7fd5282ae3",
   "metadata": {},
   "outputs": [
    {
     "data": {
      "application/vnd.jupyter.widget-view+json": {
       "model_id": "a0837403d4964ba997d18c2a2b14ee1c",
       "version_major": 2,
       "version_minor": 0
      },
      "text/plain": [
       "Iterating over frames:   0%|          | 0/150 [00:00<?, ?it/s]"
      ]
     },
     "metadata": {},
     "output_type": "display_data"
    }
   ],
   "source": [
    "filtered_masks = tools.remove_small_segments(segmentation, threshold_size=5000)"
   ]
  },
  {
   "cell_type": "code",
   "execution_count": 21,
   "id": "ce68066e-9836-4aa8-b08a-e10fc933898d",
   "metadata": {},
   "outputs": [
    {
     "data": {
      "text/plain": [
       "<matplotlib.image.AxesImage at 0x7f18ea4bc4f0>"
      ]
     },
     "execution_count": 21,
     "metadata": {},
     "output_type": "execute_result"
    },
    {
     "data": {
      "image/png": "[encoded data removed]",
      "text/plain": [
       "<Figure size 640x480 with 1 Axes>"
      ]
     },
     "metadata": {},
     "output_type": "display_data"
    }
   ],
   "source": [
    "plt.imshow(filtered_masks[0])"
   ]
  },
  {
   "cell_type": "markdown",
   "id": "0507e986-4b25-41dd-b69b-63240547745d",
   "metadata": {},
   "source": [
    "### FULLY RELOCALISE and add flo int"
   ]
  },
  {
   "cell_type": "code",
   "execution_count": 22,
   "id": "6595097e-4bca-4fd6-ac9b-a2b0b12465a3",
   "metadata": {},
   "outputs": [],
   "source": [
    "tracking_scale_factor = 1800/6048"
   ]
  },
  {
   "cell_type": "code",
   "execution_count": 23,
   "id": "63042ab3-c5fa-4597-84ec-066a44750b94",
   "metadata": {},
   "outputs": [],
   "source": [
    "filtered_masks = filtered_masks[0:20]"
   ]
  },
  {
   "cell_type": "code",
   "execution_count": 24,
   "id": "be0690e1-56a8-4e18-ad93-d8b2bd843fa9",
   "metadata": {},
   "outputs": [
    {
     "name": "stderr",
     "output_type": "stream",
     "text": [
      "[INFO][2024/01/25 04:56:32 pm] Localizing objects from segmentation...\n",
      "INFO:btrack.io._localization:Localizing objects from segmentation...\n",
      "[WARNING][2024/01/25 04:56:32 pm] Multichannel intensity image detected, using unweighted centroid.\n",
      "WARNING:btrack.io._localization:Multichannel intensity image detected, using unweighted centroid.\n",
      "100%|██████████████████████████████████████████████████████████| 20/20 [03:47<00:00, 11.38s/it]\n",
      "[INFO][2024/01/25 05:00:19 pm] Objects are of type: <class 'dict'>\n",
      "INFO:btrack.io.utils:Objects are of type: <class 'dict'>\n",
      "[INFO][2024/01/25 05:00:19 pm] ...Found 6745 objects in 20 frames.\n",
      "INFO:btrack.io._localization:...Found 6745 objects in 20 frames.\n"
     ]
    }
   ],
   "source": [
    "objects = btrack.utils.segmentation_to_objects(segmentation=filtered_masks,\n",
    "                                               intensity_image=intensity_image, \n",
    "                                               properties=properties,\n",
    "                                               scale=(tracking_scale_factor,tracking_scale_factor),\n",
    "                                               use_weighted_centroid=False, \n",
    "                                               assign_class_ID=True, \n",
    "                                             \n",
    "                                           )"
   ]
  },
  {
   "cell_type": "markdown",
   "id": "fb787056-dc57-4844-a368-db0276d8af92",
   "metadata": {},
   "source": [
    "### scaling objects back down "
   ]
  },
  {
   "cell_type": "code",
   "execution_count": 25,
   "id": "a52781f8-e51b-47aa-b8fc-b52e59941215",
   "metadata": {},
   "outputs": [],
   "source": [
    "import datetime"
   ]
  },
  {
   "cell_type": "code",
   "execution_count": 26,
   "id": "7352024b-a27c-43a5-85b9-3f4928f77797",
   "metadata": {},
   "outputs": [],
   "source": [
    "\n",
    "area_threshold = 5000\n",
    "\n",
    "filtered_objs = [obj for obj in objects if obj.properties['area'] > area_threshold]\n",
    "# initialise a tracker session using a context manager"
   ]
  },
  {
   "cell_type": "code",
   "execution_count": 27,
   "id": "a4b082bc-b223-47a9-9a65-5335f0bb5043",
   "metadata": {},
   "outputs": [
    {
     "data": {
      "text/plain": [
       "['major_axis_length',\n",
       " 'area',\n",
       " 'minor_axis_length',\n",
       " 'orientation',\n",
       " 'eccentricity',\n",
       " 'mean_intensity',\n",
       " 'max_intensity',\n",
       " 'min_intensity',\n",
       " 'class_id']"
      ]
     },
     "execution_count": 27,
     "metadata": {},
     "output_type": "execute_result"
    }
   ],
   "source": [
    "list(filtered_objs[0].properties.keys())"
   ]
  },
  {
   "cell_type": "code",
   "execution_count": 28,
   "id": "ae89e561-4ae2-401d-92e8-52f08bb7800b",
   "metadata": {},
   "outputs": [],
   "source": [
    "img_props = [ 'mean_intensity',\n",
    "             'max_intensity',\n",
    "             'min_intensity',]"
   ]
  },
  {
   "cell_type": "code",
   "execution_count": 29,
   "id": "da384ec9-ca32-4443-8ca5-c92e52e7db75",
   "metadata": {},
   "outputs": [
    {
     "data": {
      "text/plain": [
       "<Labels layer 'filtered_masks' at 0x7f19057551c0>"
      ]
     },
     "execution_count": 29,
     "metadata": {},
     "output_type": "execute_result"
    }
   ],
   "source": [
    "viewer.add_labels(filtered_masks, scale=napari_scale)"
   ]
  },
  {
   "cell_type": "code",
   "execution_count": null,
   "id": "0cfa4ece-457c-4baf-9fac-dde6856e8019",
   "metadata": {},
   "outputs": [
    {
     "name": "stderr",
     "output_type": "stream",
     "text": [
      "[INFO][2024/01/25 05:00:20 pm] Loaded btrack: /home/dayn/analysis/btrack/btrack/libs/libtracker.so\n",
      "INFO:btrack.libwrapper:Loaded btrack: /home/dayn/analysis/btrack/btrack/libs/libtracker.so\n",
      "[INFO][2024/01/25 05:00:20 pm] Starting BayesianTracker session\n",
      "INFO:btrack.core:Starting BayesianTracker session\n",
      "[INFO][2024/01/25 05:00:20 pm] Loading configuration file: test_config.json\n",
      "INFO:btrack.config:Loading configuration file: test_config.json\n",
      "[INFO][2024/01/25 05:00:20 pm] Objects are of type: <class 'list'>\n",
      "INFO:btrack.io.utils:Objects are of type: <class 'list'>\n",
      "[INFO][2024/01/25 05:00:20 pm] Starting tracking... \n",
      "INFO:btrack.core:Starting tracking... \n",
      "[INFO][2024/01/25 05:00:20 pm] Update using: ['MOTION', 'VISUAL']\n",
      "INFO:btrack.core:Update using: ['MOTION', 'VISUAL']\n"
     ]
    }
   ],
   "source": [
    "new_config_fn = config_fn = '/home/dayn/analysis/models/btrack/particle_config_pnassign.json'\n",
    "\n",
    "# Load the JSON data from the original file\n",
    "with open(config_fn, 'r') as json_file:\n",
    "    data = json.load(json_file)\n",
    "\n",
    "# Edit the parameters\n",
    "data['TrackerConfig']['MotionModel']['prob_not_assign'] = 1  # Change the value of prob_not_assign\n",
    "data['TrackerConfig']['HypothesisModel']['lambda_time'] = 6.0  # Change the value of lambda_time\n",
    "data['TrackerConfig']['HypothesisModel']['lambda_dist'] = 4 #4.0   # Change the value of lambda_dist\n",
    "data['TrackerConfig']['HypothesisModel']['lambda_link'] = 11 #11.0  # Change the value of lambda_link\n",
    "data['TrackerConfig']['HypothesisModel']['lambda_branch'] = 0 # dont matter unless you have classifications # 55.0  # Change the value of lambda_branch\n",
    "data['TrackerConfig']['HypothesisModel']['eta'] = 1e-11  # Change the value of eta\n",
    "data['TrackerConfig']['HypothesisModel']['theta_dist'] = 25.0 # 25.0 # Change the value of theta_dist\n",
    "data['TrackerConfig']['HypothesisModel']['theta_time'] = 6.0  # Change the value of theta_time\n",
    "data['TrackerConfig']['HypothesisModel']['dist_thresh'] = 20 #45  # Change the value of dist_thresh\n",
    "data['TrackerConfig']['HypothesisModel']['time_thresh'] = 3  # Change the value of time_thresh\n",
    "data['TrackerConfig']['HypothesisModel']['apop_thresh'] = 0 # doesnt matter unless oyu have classificiation # 6  # Change the value of apop_thresh\n",
    "data['TrackerConfig']['HypothesisModel']['segmentation_miss_rate'] = 0.05  # Change the value of segmentation_miss_rate\n",
    "data['TrackerConfig']['HypothesisModel']['apoptosis_rate'] = 0 # 0.00002 # doesnt matter unless you have apop classification # Change the value of apoptosis_rate\n",
    "\n",
    "new_config_fn = 'test_config.json' #'/home/dayn/analysis/models/btrack/particle_config_pnassign.json'\n",
    "# Save the modified data to a new JSON file\n",
    "with open('test_config.json', 'w') as json_file:\n",
    "    json.dump(data, json_file, indent=4)\n",
    "\n",
    "# search radius\n",
    "search_radius = 20\n",
    "\n",
    "with btrack.BayesianTracker() as tracker:\n",
    "    # configure the tracker using a config file\n",
    "    tracker.configure(new_config_fn)\n",
    "    # set max search radius\n",
    "    tracker.max_search_radius = search_radius\n",
    "    # define tracking method\n",
    "    tracker.tracking_updates = [\"MOTION\", \"VISUAL\"]\n",
    "    # redefine features so that both channels are included in track measurements\n",
    "    tracker.features = ['mean_intensity'] # img_props #list(filtered_objs[0].properties.keys())\n",
    "    # append the objects to be tracked\n",
    "    tracker.append(filtered_objs)\n",
    "    # set the tracking volume\n",
    "    tracker.volume=((0, filtered_masks.shape[-2]*tracking_scale_factor), (0, filtered_masks.shape[-1]*tracking_scale_factor))\n",
    "    # track them (in interactive mode)\n",
    "    tracker.track(step_size=25)\n",
    "    # generate hypotheses and run the global optimizer\n",
    "    tracker.optimize()\n",
    "    # store the tracks\n",
    "    tracks = tracker.tracks\n",
    "time_stamp = datetime.datetime.now().strftime(\"%H:%M\")\n",
    "with btrack.io.HDF5FileHandler(os.path.join(base_dir, f'labels/test_{time_stamp}.h5'), \n",
    "                                   'w', \n",
    "                                   obj_type='obj_type_1'\n",
    "                                   ) as writer:\n",
    "#             writer.write_objects(objects)\n",
    "        writer.write_tracks(tracks)\n",
    "        # writer.write_segmentation(recolored_segmentation)\n",
    "napari_tracks, _, _ = btrack.utils.tracks_to_napari(tracks, ndim = 2)\n",
    "viewer.add_tracks(napari_tracks, name = f'tracks from {time_stamp}', scale = (napari_scale[0]/tracking_scale_factor,napari_scale[0]/tracking_scale_factor))"
   ]
  },
  {
   "cell_type": "code",
   "execution_count": null,
   "id": "56bf6e01-e793-49e2-bfff-ece6982b0cc2",
   "metadata": {},
   "outputs": [],
   "source": [
    "tools.track_euc_dist(t1)"
   ]
  },
  {
   "cell_type": "code",
   "execution_count": 1,
   "id": "1ddc68ad-9822-461e-8b74-5b8f928595a4",
   "metadata": {},
   "outputs": [
    {
     "ename": "NameError",
     "evalue": "name 'tracks' is not defined",
     "output_type": "error",
     "traceback": [
      "\u001b[0;31m---------------------------------------------------------------------------\u001b[0m",
      "\u001b[0;31mNameError\u001b[0m                                 Traceback (most recent call last)",
      "Cell \u001b[0;32mIn[1], line 1\u001b[0m\n\u001b[0;32m----> 1\u001b[0m \u001b[43mtracks\u001b[49m\n",
      "\u001b[0;31mNameError\u001b[0m: name 'tracks' is not defined"
     ]
    }
   ],
   "source": [
    "tracks"
   ]
  },
  {
   "cell_type": "code",
   "execution_count": 10,
   "id": "d6dcccc6-c06c-4389-85b8-391e526df426",
   "metadata": {},
   "outputs": [
    {
     "name": "stderr",
     "output_type": "stream",
     "text": [
      "[INFO][2024/01/26 04:28:45 PM] Opening HDF file: /mnt/SYNO/macrohet_syno/ND0002/labels/big scale.h5...\n",
      "INFO:btrack.io.hdf:Opening HDF file: /mnt/SYNO/macrohet_syno/ND0002/labels/big scale.h5...\n",
      "[INFO][2024/01/26 04:28:45 PM] Loading objects/obj_type_1 (49773, 5) (49773 filtered: None)\n",
      "INFO:btrack.io.hdf:Loading objects/obj_type_1 (49773, 5) (49773 filtered: None)\n",
      "[INFO][2024/01/26 04:28:46 PM] Closing HDF file: /mnt/SYNO/macrohet_syno/ND0002/labels/big scale.h5\n",
      "INFO:btrack.io.hdf:Closing HDF file: /mnt/SYNO/macrohet_syno/ND0002/labels/big scale.h5\n"
     ]
    }
   ],
   "source": [
    "fn = '/mnt/SYNO/macrohet_syno/ND0002/labels/big scale.h5'\n",
    "with btrack.io.HDF5FileHandler(fn, 'r', obj_type='obj_type_1') as reader:\n",
    "    # segmentation = reader.segmentation\n",
    "    # tracks = reader.tracks\n",
    "    objects = reader.objects"
   ]
  },
  {
   "cell_type": "code",
   "execution_count": 13,
   "id": "adc1a13a-b090-4426-944b-0510dc255994",
   "metadata": {},
   "outputs": [],
   "source": [
    "obj = objects[0]"
   ]
  },
  {
   "cell_type": "code",
   "execution_count": 15,
   "id": "7d28f873-ede5-44bd-9912-79c0199265da",
   "metadata": {},
   "outputs": [
    {
     "data": {
      "text/plain": [
       "116.670746"
      ]
     },
     "execution_count": 15,
     "metadata": {},
     "output_type": "execute_result"
    }
   ],
   "source": [
    "obj.properties['mean_intensity'][0]"
   ]
  },
  {
   "cell_type": "code",
   "execution_count": 12,
   "id": "a9084960-1342-492b-b0fd-8b04a734baaa",
   "metadata": {},
   "outputs": [
    {
     "name": "stdout",
     "output_type": "stream",
     "text": [
      "\n"
     ]
    }
   ],
   "source": [
    "print()"
   ]
  }
 ],
 "metadata": {
  "kernelspec": {
   "display_name": "egg",
   "language": "python",
   "name": "egg"
  },
  "language_info": {
   "codemirror_mode": {
    "name": "ipython",
    "version": 3
   },
   "file_extension": ".py",
   "mimetype": "text/x-python",
   "name": "python",
   "nbconvert_exporter": "python",
   "pygments_lexer": "ipython3",
   "version": "3.9.17"
  }
 },
 "nbformat": 4,
 "nbformat_minor": 5
}
