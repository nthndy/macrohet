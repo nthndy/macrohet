{
 "cells": [
  {
   "cell_type": "code",
   "execution_count": 3,
   "id": "6a22e0f7-2f1d-47c5-88c3-a2da330e2240",
   "metadata": {},
   "outputs": [
    {
     "name": "stdout",
     "output_type": "stream",
     "text": [
      "ICS file saved to: cdc2024_schedule.ics\n"
     ]
    }
   ],
   "source": [
    "from icalendar import Calendar, Event\n",
    "from datetime import datetime\n",
    "import pytz\n",
    "\n",
    "# Create a new calendar\n",
    "cal = Calendar()\n",
    "cal.add('prodid', '-//CDC2024 Full Schedule//mxm.dk//')\n",
    "cal.add('version', '2.0')\n",
    "\n",
    "# Set timezone\n",
    "timezone = pytz.timezone('Europe/London')\n",
    "\n",
    "# Define the events for all 3 days\n",
    "events = [\n",
    "    # Day 1 (October 16, 2024)\n",
    "    {\"summary\": \"Registration\", \"start\": datetime(2024, 10, 16, 9, 30), \"end\": datetime(2024, 10, 16, 10, 0)},\n",
    "    {\"summary\": \"Welcome remarks\", \"start\": datetime(2024, 10, 16, 10, 0), \"end\": datetime(2024, 10, 16, 10, 45), \"location\": \"Auditorium 2\"},\n",
    "    {\"summary\": \"Project Pitches\", \"start\": datetime(2024, 10, 16, 10, 45), \"end\": datetime(2024, 10, 16, 11, 45), \"location\": \"Auditorium 2\"},\n",
    "    {\"summary\": \"Networking + Q&A with project leads\", \"start\": datetime(2024, 10, 16, 11, 45), \"end\": datetime(2024, 10, 16, 13, 0), \"location\": \"Atrium\"},\n",
    "    {\"summary\": \"Lunch\", \"start\": datetime(2024, 10, 16, 11, 45), \"end\": datetime(2024, 10, 16, 13, 0)},\n",
    "    {\"summary\": \"Project selection\", \"start\": datetime(2024, 10, 16, 13, 0), \"end\": datetime(2024, 10, 16, 13, 0)},\n",
    "    {\"summary\": \"Keynote lecture: Dr.Kristina Ulcina\", \"start\": datetime(2024, 10, 16, 13, 0), \"end\": datetime(2024, 10, 16, 14, 0), \"location\": \"Auditorium 2\"},\n",
    "    {\"summary\": \"Coffee break + networking\", \"start\": datetime(2024, 10, 16, 14, 0), \"end\": datetime(2024, 10, 16, 14, 30), \"location\": \"Atrium\"},\n",
    "    {\"summary\": \"Brainstorm + Hacking with team\", \"start\": datetime(2024, 10, 16, 14, 30), \"end\": datetime(2024, 10, 16, 17, 0), \"location\": \"Various rooms\"},\n",
    "    {\"summary\": \"Pizza/Pubquiz social\", \"start\": datetime(2024, 10, 16, 17, 0), \"end\": datetime(2024, 10, 16, 19, 0), \"location\": \"Restaurant\"},\n",
    "\n",
    "    # Day 2 (October 17, 2024)\n",
    "    {\"summary\": \"Hacking\", \"start\": datetime(2024, 10, 17, 9, 0), \"end\": datetime(2024, 10, 17, 17, 0), \"location\": \"Various rooms\"},\n",
    "    {\"summary\": \"Lunch anytime between\", \"start\": datetime(2024, 10, 17, 12, 0), \"end\": datetime(2024, 10, 17, 14, 30), \"location\": \"Crick Restaurant\"},\n",
    "\n",
    "    # Day 3 (October 18, 2024)\n",
    "    {\"summary\": \"Hacking\", \"start\": datetime(2024, 10, 18, 9, 0), \"end\": datetime(2024, 10, 18, 15, 45), \"location\": \"Various rooms\"},\n",
    "    {\"summary\": \"Lunch anytime between\", \"start\": datetime(2024, 10, 18, 12, 0), \"end\": datetime(2024, 10, 17, 14, 30), \"location\": \"Crick Restaurant\"},\n",
    "    {\"summary\": \"Wrap-up presentations\", \"start\": datetime(2024, 10, 18, 15, 45), \"end\": datetime(2024, 10, 18, 16, 45), \"location\": \"Auditorium 2\"},\n",
    "    {\"summary\": \"Closing remarks\", \"start\": datetime(2024, 10, 18, 16, 45), \"end\": datetime(2024, 10, 18, 17, 0), \"location\": \"Auditorium 2\"},\n",
    "    {\"summary\": \"Drinks reception\", \"start\": datetime(2024, 10, 18, 17, 0), \"end\": datetime(2024, 10, 18, 19, 0), \"location\": \"Atrium\"}\n",
    "]\n",
    "\n",
    "# Add events to the calendar\n",
    "for event in events:\n",
    "    e = Event()\n",
    "    e.add('summary', event[\"summary\"])\n",
    "    e.add('dtstart', timezone.localize(event[\"start\"]))\n",
    "    e.add('dtend', timezone.localize(event[\"end\"]))\n",
    "    if \"location\" in event:\n",
    "        e.add('location', event[\"location\"])\n",
    "    cal.add_component(e)\n",
    "\n",
    "# Save the full calendar to an .ics file\n",
    "ics_file_path = 'cdc2024_schedule.ics'\n",
    "with open(ics_file_path, 'wb') as f:\n",
    "    f.write(cal.to_ical())\n",
    "\n",
    "print(f'ICS file saved to: {ics_file_path}')\n"
   ]
  }
 ],
 "metadata": {
  "kernelspec": {
   "display_name": "godspeed",
   "language": "python",
   "name": "godspeed"
  },
  "language_info": {
   "codemirror_mode": {
    "name": "ipython",
    "version": 3
   },
   "file_extension": ".py",
   "mimetype": "text/x-python",
   "name": "python",
   "nbconvert_exporter": "python",
   "pygments_lexer": "ipython3",
   "version": "3.10.13"
  }
 },
 "nbformat": 4,
 "nbformat_minor": 5
}
