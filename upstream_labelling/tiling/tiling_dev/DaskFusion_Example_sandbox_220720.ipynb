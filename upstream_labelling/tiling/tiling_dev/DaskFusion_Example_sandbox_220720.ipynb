{
 "cells": [
  {
   "cell_type": "code",
   "execution_count": null,
   "metadata": {},
   "outputs": [],
   "source": [
    "import time\n",
    "from functools import partial\n",
    "from pathlib import Path\n",
    "from zipfile import ZipFile\n",
    "\n",
    "import dask.array as da\n",
    "from dask.array.core import normalize_chunks\n",
    "import numpy as np\n",
    "from shapely.geometry import GeometryCollection, Point\n",
    "from skimage.transform import AffineTransform\n",
    "\n",
    "from fuse.fuse import fuse_func\n",
    "from utils.download_sample import download_from_dropbox\n",
    "from utils.metadata import extract_coordinates, normalize_coords_to_pixel\n",
    "from utils.imutils import crop_black_border, load_image, transpose\n",
    "from utils.shapely_and_napari_utils import get_transformed_array_corners, numpy_shape_to_shapely\n",
    "from utils.chunks import get_chunk_coordinates, get_rect_from_chunk_boundary, find_chunk_tile_intersections"
   ]
  },
  {
   "cell_type": "code",
   "execution_count": null,
   "metadata": {},
   "outputs": [],
   "source": [
    "import pandas as pd\n",
    "from tqdm.auto import tqdm\n",
    "import re \n",
    "import os\n",
    "from natsort import natsorted"
   ]
  },
  {
   "cell_type": "markdown",
   "metadata": {},
   "source": [
    "## Overview: creating a single, fused array from many image tiles that have associated affine transfomations.\n",
    "\n",
    "This notebook demonstrates how dask's `map_blocks` can be leveraged to combine many images that have associated affine or perspective transforms into a single array. \n",
    "\n",
    "This is a scenario that is common when building image mosaics, e.g. a landscape panorama from multiple photos or a picture of part of a microscope slide combined from many individual microscope images.\n",
    "\n",
    "For the sake of the notebook we assume that the spatial transformations that map the individual tiles into a common coordinate system are already known. Here, we don't discuss how to find these transforms, which could be done  through methods such as feature point matching and bundle adjustment or normalized cross corellation.\n",
    "\n",
    "Instead, we focus on how dasks `map_blocks` can help with the process of fusing the individual tiles into a single array efficiently, especially for cases when the resulting output array is too large to fit in RAM.\n",
    "\n",
    "To visualize the position of individual image tiles in this notebook we represent them as shapely objects.\n",
    "This also facilitates finding image tiles intersecting chunks in a dask array, which we also represent as shapely objects.\n"
   ]
  },
  {
   "cell_type": "markdown",
   "metadata": {},
   "source": [
    "# Download sample dataset\n",
    "\n",
    "The following code cell downloads the sample dataset used in this notebook.\n",
    "\n",
    "### Dataset description\n",
    "The sample dataset consists of a number of brighfield microscopy images. These are individual image tiles captured of a microscope slide that has previously been used for MALDI imaging. On the slide there are some visible pen-marks (used as fiducials) and a grid of laser ablation marks from the MALDI laser. \n",
    "\n",
    "To reduce the download size of the example dataset the image tiles have been converted to `.jpg`, which is not part of the usual workflow. Also the dataset here contains only 72 tiles, covering only a small part of a microscope slide. The outlined workflow scales to much larger numbers of tiles.\n",
    "\n",
    "In addition to the image tiles there is an `out.txt` file that contains image metadata. Of this metadata we use the pixel scale and the stage position for each tile. Note that the stage positions are not accurate enough to enable pixel-accurate registration of the tiles. \n",
    "\n",
    "The sample has been prepared and imaged by Mohammed Shahraz from the Alexandrov lab at EMBL Heidelberg.\n"
   ]
  },
  {
   "cell_type": "code",
   "execution_count": null,
   "metadata": {},
   "outputs": [],
   "source": [
    "if not Path(\"Stiching_Example_Dataset\").exists():\n",
    "    # Download and extract sample data\n",
    "    example_dataset=\"https://www.dropbox.com/s/rhggl54sbpx9llj/Stiching_Example_Dataset.zip?dl=0\"\n",
    "    print(\"Downloading sample file from dropbox\")\n",
    "    download_from_dropbox(example_dataset, \"_sample.zip\")\n",
    "    print(\"Extracting sample file\")\n",
    "    ZipFile(\"_sample.zip\").extractall()"
   ]
  },
  {
   "cell_type": "markdown",
   "metadata": {},
   "source": [
    "## Get a list of the input tile filenames"
   ]
  },
  {
   "cell_type": "code",
   "execution_count": null,
   "metadata": {},
   "outputs": [],
   "source": [
    "files = sorted(list(Path(\"Stiching_Example_Dataset\").glob(\"*.jpg\")))"
   ]
  },
  {
   "cell_type": "code",
   "execution_count": null,
   "metadata": {},
   "outputs": [],
   "source": [
    "files = sorted(list(Path(\"/mnt/DATA/sandbox/pierre_live_cell_data/outputs/Replication_IPSDM_GFP/Images/\").glob(\"*f01p01-ch1sk1fk*\")))"
   ]
  },
  {
   "cell_type": "code",
   "execution_count": null,
   "metadata": {},
   "outputs": [],
   "source": [
    "files = sorted(list(Path(\"/mnt/DATA/sandbox/pierre_live_cell_data/outputs/Replication_IPSDM_GFP/Images/\").glob(\"r03c03f*p01-ch1sk1fk*\")))"
   ]
  },
  {
   "cell_type": "code",
   "execution_count": null,
   "metadata": {},
   "outputs": [],
   "source": [
    "len(files)"
   ]
  },
  {
   "cell_type": "code",
   "execution_count": 391,
   "metadata": {},
   "outputs": [
    {
     "name": "stdout",
     "output_type": "stream",
     "text": [
      "/mnt/DATA/sandbox/pierre_live_cell_data/outputs/Replication_IPSDM_GFP/Images/r03c03f01p01-ch1sk1fk1fl1.tiff\n",
      "/mnt/DATA/sandbox/pierre_live_cell_data/outputs/Replication_IPSDM_GFP/Images/r03c03f02p01-ch1sk1fk1fl1.tiff\n",
      "/mnt/DATA/sandbox/pierre_live_cell_data/outputs/Replication_IPSDM_GFP/Images/r03c03f03p01-ch1sk1fk1fl1.tiff\n",
      "/mnt/DATA/sandbox/pierre_live_cell_data/outputs/Replication_IPSDM_GFP/Images/r03c03f04p01-ch1sk1fk1fl1.tiff\n",
      "/mnt/DATA/sandbox/pierre_live_cell_data/outputs/Replication_IPSDM_GFP/Images/r03c03f05p01-ch1sk1fk1fl1.tiff\n",
      "/mnt/DATA/sandbox/pierre_live_cell_data/outputs/Replication_IPSDM_GFP/Images/r03c03f06p01-ch1sk1fk1fl1.tiff\n",
      "/mnt/DATA/sandbox/pierre_live_cell_data/outputs/Replication_IPSDM_GFP/Images/r03c03f07p01-ch1sk1fk1fl1.tiff\n",
      "/mnt/DATA/sandbox/pierre_live_cell_data/outputs/Replication_IPSDM_GFP/Images/r03c03f08p01-ch1sk1fk1fl1.tiff\n",
      "/mnt/DATA/sandbox/pierre_live_cell_data/outputs/Replication_IPSDM_GFP/Images/r03c03f09p01-ch1sk1fk1fl1.tiff\n"
     ]
    }
   ],
   "source": [
    "for fn in files:\n",
    "    print(fn)"
   ]
  },
  {
   "cell_type": "code",
   "execution_count": null,
   "metadata": {},
   "outputs": [],
   "source": [
    "matrix = np.zeros((11,11))\n",
    "for fn in files:\n",
    "    fn = os.path.basename(fn)\n",
    "    row = int(re.findall(r'r(\\d+)', fn)[0])\n",
    "    col = int(re.findall(r'c(\\d+)', fn)[0])\n",
    "    matrix[row, col] = 1"
   ]
  },
  {
   "cell_type": "code",
   "execution_count": null,
   "metadata": {},
   "outputs": [],
   "source": [
    "matrix"
   ]
  },
  {
   "cell_type": "markdown",
   "metadata": {},
   "source": [
    "## Extract the required metadata and return it as a Dataframe\n",
    "\n",
    "We obtain the pixel scale factor in micrometers per pixel as well as the stage position for each image tile in micrometers."
   ]
  },
  {
   "cell_type": "code",
   "execution_count": null,
   "metadata": {},
   "outputs": [],
   "source": [
    "coords = extract_coordinates(\"Stiching_Example_Dataset/out.txt\")\n",
    "coords"
   ]
  },
  {
   "cell_type": "code",
   "execution_count": 356,
   "metadata": {},
   "outputs": [
    {
     "data": {
      "application/vnd.jupyter.widget-view+json": {
       "model_id": "986e001e972e479e8b3c8979677137a8",
       "version_major": 2,
       "version_minor": 0
      },
      "text/plain": [
       "  0%|          | 0/9 [00:00<?, ?it/s]"
      ]
     },
     "metadata": {},
     "output_type": "display_data"
    }
   ],
   "source": [
    "counts = []\n",
    "for fn in tqdm(natsorted(files)):\n",
    "    fn = os.path.basename(fn)\n",
    "    counts.append(list(map(int, re.findall(r'\\d+', fn))))"
   ]
  },
  {
   "cell_type": "code",
   "execution_count": 357,
   "metadata": {},
   "outputs": [],
   "source": [
    "coords = pd.DataFrame(counts, columns= ['r', 'c', 'f', 'p', 'ch', 'sk', 'fk', 'fl'], dtype=np.uint8)"
   ]
  },
  {
   "cell_type": "code",
   "execution_count": 358,
   "metadata": {},
   "outputs": [],
   "source": [
    "coords['name'] = natsorted(files)"
   ]
  },
  {
   "cell_type": "code",
   "execution_count": 359,
   "metadata": {},
   "outputs": [],
   "source": [
    "### lazy hack to register the row/col number as x/y location shifted by the amount of pixels in each image\n",
    "coords['um/px'] = 1/2160"
   ]
  },
  {
   "cell_type": "code",
   "execution_count": 360,
   "metadata": {},
   "outputs": [
    {
     "data": {
      "text/html": [
       "<div>\n",
       "<style scoped>\n",
       "    .dataframe tbody tr th:only-of-type {\n",
       "        vertical-align: middle;\n",
       "    }\n",
       "\n",
       "    .dataframe tbody tr th {\n",
       "        vertical-align: top;\n",
       "    }\n",
       "\n",
       "    .dataframe thead th {\n",
       "        text-align: right;\n",
       "    }\n",
       "</style>\n",
       "<table border=\"1\" class=\"dataframe\">\n",
       "  <thead>\n",
       "    <tr style=\"text-align: right;\">\n",
       "      <th></th>\n",
       "      <th>r</th>\n",
       "      <th>c</th>\n",
       "      <th>f</th>\n",
       "      <th>p</th>\n",
       "      <th>ch</th>\n",
       "      <th>sk</th>\n",
       "      <th>fk</th>\n",
       "      <th>fl</th>\n",
       "      <th>name</th>\n",
       "      <th>um/px</th>\n",
       "    </tr>\n",
       "  </thead>\n",
       "  <tbody>\n",
       "    <tr>\n",
       "      <th>0</th>\n",
       "      <td>3</td>\n",
       "      <td>3</td>\n",
       "      <td>1</td>\n",
       "      <td>1</td>\n",
       "      <td>1</td>\n",
       "      <td>1</td>\n",
       "      <td>1</td>\n",
       "      <td>1</td>\n",
       "      <td>/mnt/DATA/sandbox/pierre_live_cell_data/output...</td>\n",
       "      <td>0.000463</td>\n",
       "    </tr>\n",
       "    <tr>\n",
       "      <th>1</th>\n",
       "      <td>3</td>\n",
       "      <td>3</td>\n",
       "      <td>2</td>\n",
       "      <td>1</td>\n",
       "      <td>1</td>\n",
       "      <td>1</td>\n",
       "      <td>1</td>\n",
       "      <td>1</td>\n",
       "      <td>/mnt/DATA/sandbox/pierre_live_cell_data/output...</td>\n",
       "      <td>0.000463</td>\n",
       "    </tr>\n",
       "    <tr>\n",
       "      <th>2</th>\n",
       "      <td>3</td>\n",
       "      <td>3</td>\n",
       "      <td>3</td>\n",
       "      <td>1</td>\n",
       "      <td>1</td>\n",
       "      <td>1</td>\n",
       "      <td>1</td>\n",
       "      <td>1</td>\n",
       "      <td>/mnt/DATA/sandbox/pierre_live_cell_data/output...</td>\n",
       "      <td>0.000463</td>\n",
       "    </tr>\n",
       "    <tr>\n",
       "      <th>3</th>\n",
       "      <td>3</td>\n",
       "      <td>3</td>\n",
       "      <td>4</td>\n",
       "      <td>1</td>\n",
       "      <td>1</td>\n",
       "      <td>1</td>\n",
       "      <td>1</td>\n",
       "      <td>1</td>\n",
       "      <td>/mnt/DATA/sandbox/pierre_live_cell_data/output...</td>\n",
       "      <td>0.000463</td>\n",
       "    </tr>\n",
       "    <tr>\n",
       "      <th>4</th>\n",
       "      <td>3</td>\n",
       "      <td>3</td>\n",
       "      <td>5</td>\n",
       "      <td>1</td>\n",
       "      <td>1</td>\n",
       "      <td>1</td>\n",
       "      <td>1</td>\n",
       "      <td>1</td>\n",
       "      <td>/mnt/DATA/sandbox/pierre_live_cell_data/output...</td>\n",
       "      <td>0.000463</td>\n",
       "    </tr>\n",
       "    <tr>\n",
       "      <th>5</th>\n",
       "      <td>3</td>\n",
       "      <td>3</td>\n",
       "      <td>6</td>\n",
       "      <td>1</td>\n",
       "      <td>1</td>\n",
       "      <td>1</td>\n",
       "      <td>1</td>\n",
       "      <td>1</td>\n",
       "      <td>/mnt/DATA/sandbox/pierre_live_cell_data/output...</td>\n",
       "      <td>0.000463</td>\n",
       "    </tr>\n",
       "    <tr>\n",
       "      <th>6</th>\n",
       "      <td>3</td>\n",
       "      <td>3</td>\n",
       "      <td>7</td>\n",
       "      <td>1</td>\n",
       "      <td>1</td>\n",
       "      <td>1</td>\n",
       "      <td>1</td>\n",
       "      <td>1</td>\n",
       "      <td>/mnt/DATA/sandbox/pierre_live_cell_data/output...</td>\n",
       "      <td>0.000463</td>\n",
       "    </tr>\n",
       "    <tr>\n",
       "      <th>7</th>\n",
       "      <td>3</td>\n",
       "      <td>3</td>\n",
       "      <td>8</td>\n",
       "      <td>1</td>\n",
       "      <td>1</td>\n",
       "      <td>1</td>\n",
       "      <td>1</td>\n",
       "      <td>1</td>\n",
       "      <td>/mnt/DATA/sandbox/pierre_live_cell_data/output...</td>\n",
       "      <td>0.000463</td>\n",
       "    </tr>\n",
       "    <tr>\n",
       "      <th>8</th>\n",
       "      <td>3</td>\n",
       "      <td>3</td>\n",
       "      <td>9</td>\n",
       "      <td>1</td>\n",
       "      <td>1</td>\n",
       "      <td>1</td>\n",
       "      <td>1</td>\n",
       "      <td>1</td>\n",
       "      <td>/mnt/DATA/sandbox/pierre_live_cell_data/output...</td>\n",
       "      <td>0.000463</td>\n",
       "    </tr>\n",
       "  </tbody>\n",
       "</table>\n",
       "</div>"
      ],
      "text/plain": [
       "   r  c  f  p  ch  sk  fk  fl  \\\n",
       "0  3  3  1  1   1   1   1   1   \n",
       "1  3  3  2  1   1   1   1   1   \n",
       "2  3  3  3  1   1   1   1   1   \n",
       "3  3  3  4  1   1   1   1   1   \n",
       "4  3  3  5  1   1   1   1   1   \n",
       "5  3  3  6  1   1   1   1   1   \n",
       "6  3  3  7  1   1   1   1   1   \n",
       "7  3  3  8  1   1   1   1   1   \n",
       "8  3  3  9  1   1   1   1   1   \n",
       "\n",
       "                                                name     um/px  \n",
       "0  /mnt/DATA/sandbox/pierre_live_cell_data/output...  0.000463  \n",
       "1  /mnt/DATA/sandbox/pierre_live_cell_data/output...  0.000463  \n",
       "2  /mnt/DATA/sandbox/pierre_live_cell_data/output...  0.000463  \n",
       "3  /mnt/DATA/sandbox/pierre_live_cell_data/output...  0.000463  \n",
       "4  /mnt/DATA/sandbox/pierre_live_cell_data/output...  0.000463  \n",
       "5  /mnt/DATA/sandbox/pierre_live_cell_data/output...  0.000463  \n",
       "6  /mnt/DATA/sandbox/pierre_live_cell_data/output...  0.000463  \n",
       "7  /mnt/DATA/sandbox/pierre_live_cell_data/output...  0.000463  \n",
       "8  /mnt/DATA/sandbox/pierre_live_cell_data/output...  0.000463  "
      ]
     },
     "execution_count": 360,
     "metadata": {},
     "output_type": "execute_result"
    }
   ],
   "source": [
    "coords"
   ]
  },
  {
   "cell_type": "markdown",
   "metadata": {},
   "source": [
    "#### Convert the FOV index into a XY position"
   ]
  },
  {
   "cell_type": "code",
   "execution_count": 362,
   "metadata": {},
   "outputs": [],
   "source": [
    "for i, row in coords.iterrows():\n",
    "    n_rcs = int(np.sqrt(max(coords['f'])))\n",
    "    zero_index = row['f'] - 1 \n",
    "    rc = np.unravel_index(zero_index, [n_rcs,n_rcs], 'F')\n",
    "    coords.at[i, 'c'] = rc[0]\n",
    "    coords.at[i, 'r'] = rc[1]"
   ]
  },
  {
   "cell_type": "code",
   "execution_count": 363,
   "metadata": {},
   "outputs": [],
   "source": [
    "coords = coords.rename(columns = {'c':'Y', 'r':'X', \n",
    "                                  'p':'Z', 'sk':'T'})\n",
    "del coords['ch'], coords['fk'], coords['fl']"
   ]
  },
  {
   "cell_type": "code",
   "execution_count": 364,
   "metadata": {
    "scrolled": false
   },
   "outputs": [
    {
     "data": {
      "text/html": [
       "<div>\n",
       "<style scoped>\n",
       "    .dataframe tbody tr th:only-of-type {\n",
       "        vertical-align: middle;\n",
       "    }\n",
       "\n",
       "    .dataframe tbody tr th {\n",
       "        vertical-align: top;\n",
       "    }\n",
       "\n",
       "    .dataframe thead th {\n",
       "        text-align: right;\n",
       "    }\n",
       "</style>\n",
       "<table border=\"1\" class=\"dataframe\">\n",
       "  <thead>\n",
       "    <tr style=\"text-align: right;\">\n",
       "      <th></th>\n",
       "      <th>X</th>\n",
       "      <th>Y</th>\n",
       "      <th>f</th>\n",
       "      <th>Z</th>\n",
       "      <th>T</th>\n",
       "      <th>name</th>\n",
       "      <th>um/px</th>\n",
       "    </tr>\n",
       "  </thead>\n",
       "  <tbody>\n",
       "    <tr>\n",
       "      <th>0</th>\n",
       "      <td>0</td>\n",
       "      <td>0</td>\n",
       "      <td>1</td>\n",
       "      <td>1</td>\n",
       "      <td>1</td>\n",
       "      <td>/mnt/DATA/sandbox/pierre_live_cell_data/output...</td>\n",
       "      <td>0.000463</td>\n",
       "    </tr>\n",
       "    <tr>\n",
       "      <th>1</th>\n",
       "      <td>0</td>\n",
       "      <td>1</td>\n",
       "      <td>2</td>\n",
       "      <td>1</td>\n",
       "      <td>1</td>\n",
       "      <td>/mnt/DATA/sandbox/pierre_live_cell_data/output...</td>\n",
       "      <td>0.000463</td>\n",
       "    </tr>\n",
       "    <tr>\n",
       "      <th>2</th>\n",
       "      <td>0</td>\n",
       "      <td>2</td>\n",
       "      <td>3</td>\n",
       "      <td>1</td>\n",
       "      <td>1</td>\n",
       "      <td>/mnt/DATA/sandbox/pierre_live_cell_data/output...</td>\n",
       "      <td>0.000463</td>\n",
       "    </tr>\n",
       "    <tr>\n",
       "      <th>3</th>\n",
       "      <td>1</td>\n",
       "      <td>0</td>\n",
       "      <td>4</td>\n",
       "      <td>1</td>\n",
       "      <td>1</td>\n",
       "      <td>/mnt/DATA/sandbox/pierre_live_cell_data/output...</td>\n",
       "      <td>0.000463</td>\n",
       "    </tr>\n",
       "    <tr>\n",
       "      <th>4</th>\n",
       "      <td>1</td>\n",
       "      <td>1</td>\n",
       "      <td>5</td>\n",
       "      <td>1</td>\n",
       "      <td>1</td>\n",
       "      <td>/mnt/DATA/sandbox/pierre_live_cell_data/output...</td>\n",
       "      <td>0.000463</td>\n",
       "    </tr>\n",
       "    <tr>\n",
       "      <th>5</th>\n",
       "      <td>1</td>\n",
       "      <td>2</td>\n",
       "      <td>6</td>\n",
       "      <td>1</td>\n",
       "      <td>1</td>\n",
       "      <td>/mnt/DATA/sandbox/pierre_live_cell_data/output...</td>\n",
       "      <td>0.000463</td>\n",
       "    </tr>\n",
       "    <tr>\n",
       "      <th>6</th>\n",
       "      <td>2</td>\n",
       "      <td>0</td>\n",
       "      <td>7</td>\n",
       "      <td>1</td>\n",
       "      <td>1</td>\n",
       "      <td>/mnt/DATA/sandbox/pierre_live_cell_data/output...</td>\n",
       "      <td>0.000463</td>\n",
       "    </tr>\n",
       "    <tr>\n",
       "      <th>7</th>\n",
       "      <td>2</td>\n",
       "      <td>1</td>\n",
       "      <td>8</td>\n",
       "      <td>1</td>\n",
       "      <td>1</td>\n",
       "      <td>/mnt/DATA/sandbox/pierre_live_cell_data/output...</td>\n",
       "      <td>0.000463</td>\n",
       "    </tr>\n",
       "    <tr>\n",
       "      <th>8</th>\n",
       "      <td>2</td>\n",
       "      <td>2</td>\n",
       "      <td>9</td>\n",
       "      <td>1</td>\n",
       "      <td>1</td>\n",
       "      <td>/mnt/DATA/sandbox/pierre_live_cell_data/output...</td>\n",
       "      <td>0.000463</td>\n",
       "    </tr>\n",
       "  </tbody>\n",
       "</table>\n",
       "</div>"
      ],
      "text/plain": [
       "   X  Y  f  Z  T                                               name     um/px\n",
       "0  0  0  1  1  1  /mnt/DATA/sandbox/pierre_live_cell_data/output...  0.000463\n",
       "1  0  1  2  1  1  /mnt/DATA/sandbox/pierre_live_cell_data/output...  0.000463\n",
       "2  0  2  3  1  1  /mnt/DATA/sandbox/pierre_live_cell_data/output...  0.000463\n",
       "3  1  0  4  1  1  /mnt/DATA/sandbox/pierre_live_cell_data/output...  0.000463\n",
       "4  1  1  5  1  1  /mnt/DATA/sandbox/pierre_live_cell_data/output...  0.000463\n",
       "5  1  2  6  1  1  /mnt/DATA/sandbox/pierre_live_cell_data/output...  0.000463\n",
       "6  2  0  7  1  1  /mnt/DATA/sandbox/pierre_live_cell_data/output...  0.000463\n",
       "7  2  1  8  1  1  /mnt/DATA/sandbox/pierre_live_cell_data/output...  0.000463\n",
       "8  2  2  9  1  1  /mnt/DATA/sandbox/pierre_live_cell_data/output...  0.000463"
      ]
     },
     "execution_count": 364,
     "metadata": {},
     "output_type": "execute_result"
    }
   ],
   "source": [
    "coords"
   ]
  },
  {
   "cell_type": "markdown",
   "metadata": {},
   "source": [
    "## Dataset cleaning\n",
    "In this particular dataset, the first tile is actually an outlier with incorrect metadata. We remove it:"
   ]
  },
  {
   "cell_type": "code",
   "execution_count": null,
   "metadata": {},
   "outputs": [],
   "source": [
    "files = files[1:]\n",
    "coords = coords[1:]"
   ]
  },
  {
   "cell_type": "markdown",
   "metadata": {},
   "source": [
    "In the following, we work with pixel coordinates, therefore we convert the stage coordinates accordingly."
   ]
  },
  {
   "cell_type": "code",
   "execution_count": 365,
   "metadata": {},
   "outputs": [
    {
     "data": {
      "text/plain": [
       "array([[   0.,    0.],\n",
       "       [   0., 2160.],\n",
       "       [   0., 4320.],\n",
       "       [2160.,    0.],\n",
       "       [2160., 2160.],\n",
       "       [2160., 4320.],\n",
       "       [4320.,    0.],\n",
       "       [4320., 2160.],\n",
       "       [4320., 4320.]])"
      ]
     },
     "execution_count": 365,
     "metadata": {},
     "output_type": "execute_result"
    }
   ],
   "source": [
    "normalized_coords = normalize_coords_to_pixel(coords).to_numpy()\n",
    "normalized_coords"
   ]
  },
  {
   "cell_type": "code",
   "execution_count": 366,
   "metadata": {},
   "outputs": [
    {
     "data": {
      "text/plain": [
       "array([[   0.,    0.],\n",
       "       [   0., 2160.],\n",
       "       [   0., 4320.],\n",
       "       [2160.,    0.],\n",
       "       [2160., 2160.],\n",
       "       [2160., 4320.],\n",
       "       [4320.,    0.],\n",
       "       [4320., 2160.],\n",
       "       [4320., 4320.]])"
      ]
     },
     "execution_count": 366,
     "metadata": {},
     "output_type": "execute_result"
    }
   ],
   "source": [
    "normalized_coords = normalize_coords_to_pixel(coords).to_numpy()\n",
    "normalized_coords"
   ]
  },
  {
   "cell_type": "markdown",
   "metadata": {},
   "source": [
    "For this particular data set, we need to perform a few pre-processing steps on each image, such as cropping away a black border on one side of the image and transposing the image to account for the camera orientation relative to the stage. \n",
    "We configure a `_load_image` image function that performs these pre-processing steps for us:"
   ]
  },
  {
   "cell_type": "code",
   "execution_count": 367,
   "metadata": {},
   "outputs": [],
   "source": [
    "input_transforms = None#[crop_black_border, \n",
    "                    #transpose]\n",
    "_load_image = partial(load_image, transforms=input_transforms)"
   ]
  },
  {
   "cell_type": "markdown",
   "metadata": {},
   "source": [
    "In the next step we load the first image to determine the shape of the image after the pre-processing steps. \n",
    "Here, we assume that all tiles have the same shape. (This is not strictly necessary). "
   ]
  },
  {
   "cell_type": "code",
   "execution_count": 368,
   "metadata": {},
   "outputs": [
    {
     "data": {
      "text/plain": [
       "(2160, 2160)"
      ]
     },
     "execution_count": 368,
     "metadata": {},
     "output_type": "execute_result"
    }
   ],
   "source": [
    "tile_shape=_load_image(str(files[0])).shape\n",
    "tile_shape"
   ]
  },
  {
   "cell_type": "markdown",
   "metadata": {},
   "source": [
    "For each input tile, find out where its corners map after the transformation that puts it in a joint coordinate system.\n",
    "Here, the transformation is a simple translation, but in general it could also be a more general affine transform (i.e. including rotations and scaling) or even a perspective transform (for photo mosaics). "
   ]
  },
  {
   "cell_type": "code",
   "execution_count": 369,
   "metadata": {},
   "outputs": [],
   "source": [
    "transforms = [AffineTransform(translation=stage_coord).params for stage_coord in normalized_coords]\n",
    "tiles = [get_transformed_array_corners(tile_shape, transform) for transform in transforms]"
   ]
  },
  {
   "cell_type": "markdown",
   "metadata": {},
   "source": [
    "Let's create shapely objects from the numpy arrays that hold the corner points.\n",
    "If we also include the a shapely Point at (0,0) we can visualize where the tiles are with respect to the origin of the joint coordinate system. (As it may be hard to spot: look for the origin at he bottom left of the next cell's output)."
   ]
  },
  {
   "cell_type": "code",
   "execution_count": 370,
   "metadata": {
    "scrolled": true
   },
   "outputs": [
    {
     "data": {
      "image/svg+xml": [
       "<svg xmlns=\"http://www.w3.org/2000/svg\" xmlns:xlink=\"http://www.w3.org/1999/xlink\" width=\"300\" height=\"300\" viewBox=\"-259.2 -6739.2 6998.4 6998.4\" preserveAspectRatio=\"xMinYMin meet\"><g transform=\"matrix(1,0,0,-1,0,-6480.0)\"><g><circle cx=\"0.0\" cy=\"0.0\" r=\"69.984\" stroke=\"#555555\" stroke-width=\"23.328\" fill=\"#66cc99\" opacity=\"0.6\" /><g><path fill-rule=\"evenodd\" fill=\"#66cc99\" stroke=\"#555555\" stroke-width=\"46.656\" opacity=\"0.6\" d=\"M 0.0,-0.0 L 0.0,-2160.0 L 2160.0,-2160.0 L 2160.0,-0.0 L 0.0,-0.0 z\" /><path fill-rule=\"evenodd\" fill=\"#66cc99\" stroke=\"#555555\" stroke-width=\"46.656\" opacity=\"0.6\" d=\"M 2160.0,-0.0 L 2160.0,-2160.0 L 4320.0,-2160.0 L 4320.0,-0.0 L 2160.0,-0.0 z\" /><path fill-rule=\"evenodd\" fill=\"#66cc99\" stroke=\"#555555\" stroke-width=\"46.656\" opacity=\"0.6\" d=\"M 4320.0,-0.0 L 4320.0,-2160.0 L 6480.0,-2160.0 L 6480.0,-0.0 L 4320.0,-0.0 z\" /><path fill-rule=\"evenodd\" fill=\"#66cc99\" stroke=\"#555555\" stroke-width=\"46.656\" opacity=\"0.6\" d=\"M 0.0,-2160.0 L 0.0,-4320.0 L 2160.0,-4320.0 L 2160.0,-2160.0 L 0.0,-2160.0 z\" /><path fill-rule=\"evenodd\" fill=\"#66cc99\" stroke=\"#555555\" stroke-width=\"46.656\" opacity=\"0.6\" d=\"M 2160.0,-2160.0 L 2160.0,-4320.0 L 4320.0,-4320.0 L 4320.0,-2160.0 L 2160.0,-2160.0 z\" /><path fill-rule=\"evenodd\" fill=\"#66cc99\" stroke=\"#555555\" stroke-width=\"46.656\" opacity=\"0.6\" d=\"M 4320.0,-2160.0 L 4320.0,-4320.0 L 6480.0,-4320.0 L 6480.0,-2160.0 L 4320.0,-2160.0 z\" /><path fill-rule=\"evenodd\" fill=\"#66cc99\" stroke=\"#555555\" stroke-width=\"46.656\" opacity=\"0.6\" d=\"M 0.0,-4320.0 L 0.0,-6480.0 L 2160.0,-6480.0 L 2160.0,-4320.0 L 0.0,-4320.0 z\" /><path fill-rule=\"evenodd\" fill=\"#66cc99\" stroke=\"#555555\" stroke-width=\"46.656\" opacity=\"0.6\" d=\"M 2160.0,-4320.0 L 2160.0,-6480.0 L 4320.0,-6480.0 L 4320.0,-4320.0 L 2160.0,-4320.0 z\" /><path fill-rule=\"evenodd\" fill=\"#66cc99\" stroke=\"#555555\" stroke-width=\"46.656\" opacity=\"0.6\" d=\"M 4320.0,-4320.0 L 4320.0,-6480.0 L 6480.0,-6480.0 L 6480.0,-4320.0 L 4320.0,-4320.0 z\" /></g></g></g></svg>"
      ],
      "text/plain": [
       "<shapely.geometry.collection.GeometryCollection at 0x7f1af9196af0>"
      ]
     },
     "execution_count": 370,
     "metadata": {},
     "output_type": "execute_result"
    }
   ],
   "source": [
    "tiles_shapely = [numpy_shape_to_shapely(s) for s in tiles]\n",
    "origin = Point(0,0)\n",
    "GeometryCollection((origin, GeometryCollection(tiles_shapely)))"
   ]
  },
  {
   "cell_type": "markdown",
   "metadata": {},
   "source": [
    "## Determine required shape of the dask output array.\n",
    "\n",
    "As we can see above, the image tiles are a fair way away from the origin. In the fused imgage, we don't want to include a lot of empty space.\n",
    "\n",
    "We examine bounds of the stitched area to determine the size of the Zarr array we require.\n",
    "We also find a translation that shifts the top-left corner of all tiles to (0,0) and update the initial transforms by chaining them with this translation."
   ]
  },
  {
   "cell_type": "code",
   "execution_count": 371,
   "metadata": {},
   "outputs": [
    {
     "data": {
      "text/plain": [
       "(6480, 6480)"
      ]
     },
     "execution_count": 371,
     "metadata": {},
     "output_type": "execute_result"
    }
   ],
   "source": [
    "all_bboxes = np.vstack(tiles)\n",
    "all_min = all_bboxes.min(axis=0)\n",
    "all_max = all_bboxes.max(axis=0)\n",
    "stitched_shape=tuple(np.ceil(all_max-all_min).astype(int))\n",
    "stitched_shape"
   ]
  },
  {
   "cell_type": "code",
   "execution_count": 372,
   "metadata": {},
   "outputs": [
    {
     "data": {
      "text/plain": [
       "array([[ 1., -0., -0.],\n",
       "       [ 0.,  1., -0.],\n",
       "       [ 0.,  0.,  1.]])"
      ]
     },
     "execution_count": 372,
     "metadata": {},
     "output_type": "execute_result"
    }
   ],
   "source": [
    "shift_to_origin = AffineTransform(translation=-all_min)\n",
    "shift_to_origin.params"
   ]
  },
  {
   "cell_type": "code",
   "execution_count": 373,
   "metadata": {},
   "outputs": [],
   "source": [
    "transforms_with_shift = [t @ shift_to_origin.params for t in transforms]\n",
    "shifted_tiles = [get_transformed_array_corners(tile_shape, t) for t in transforms_with_shift]"
   ]
  },
  {
   "cell_type": "markdown",
   "metadata": {},
   "source": [
    "We visualize the tile boundaries after the additional translation to verify that the corner of the mosaic is now at the origin."
   ]
  },
  {
   "cell_type": "code",
   "execution_count": 374,
   "metadata": {},
   "outputs": [
    {
     "data": {
      "image/svg+xml": [
       "<svg xmlns=\"http://www.w3.org/2000/svg\" xmlns:xlink=\"http://www.w3.org/1999/xlink\" width=\"300\" height=\"300\" viewBox=\"-259.2 -6739.2 6998.4 6998.4\" preserveAspectRatio=\"xMinYMin meet\"><g transform=\"matrix(1,0,0,-1,0,-6480.0)\"><g><circle cx=\"0.0\" cy=\"0.0\" r=\"69.984\" stroke=\"#555555\" stroke-width=\"23.328\" fill=\"#66cc99\" opacity=\"0.6\" /><g><path fill-rule=\"evenodd\" fill=\"#66cc99\" stroke=\"#555555\" stroke-width=\"46.656\" opacity=\"0.6\" d=\"M 0.0,-0.0 L 0.0,-2160.0 L 2160.0,-2160.0 L 2160.0,-0.0 L 0.0,-0.0 z\" /><path fill-rule=\"evenodd\" fill=\"#66cc99\" stroke=\"#555555\" stroke-width=\"46.656\" opacity=\"0.6\" d=\"M 2160.0,-0.0 L 2160.0,-2160.0 L 4320.0,-2160.0 L 4320.0,-0.0 L 2160.0,-0.0 z\" /><path fill-rule=\"evenodd\" fill=\"#66cc99\" stroke=\"#555555\" stroke-width=\"46.656\" opacity=\"0.6\" d=\"M 4320.0,-0.0 L 4320.0,-2160.0 L 6480.0,-2160.0 L 6480.0,-0.0 L 4320.0,-0.0 z\" /><path fill-rule=\"evenodd\" fill=\"#66cc99\" stroke=\"#555555\" stroke-width=\"46.656\" opacity=\"0.6\" d=\"M 0.0,-2160.0 L 0.0,-4320.0 L 2160.0,-4320.0 L 2160.0,-2160.0 L 0.0,-2160.0 z\" /><path fill-rule=\"evenodd\" fill=\"#66cc99\" stroke=\"#555555\" stroke-width=\"46.656\" opacity=\"0.6\" d=\"M 2160.0,-2160.0 L 2160.0,-4320.0 L 4320.0,-4320.0 L 4320.0,-2160.0 L 2160.0,-2160.0 z\" /><path fill-rule=\"evenodd\" fill=\"#66cc99\" stroke=\"#555555\" stroke-width=\"46.656\" opacity=\"0.6\" d=\"M 4320.0,-2160.0 L 4320.0,-4320.0 L 6480.0,-4320.0 L 6480.0,-2160.0 L 4320.0,-2160.0 z\" /><path fill-rule=\"evenodd\" fill=\"#66cc99\" stroke=\"#555555\" stroke-width=\"46.656\" opacity=\"0.6\" d=\"M 0.0,-4320.0 L 0.0,-6480.0 L 2160.0,-6480.0 L 2160.0,-4320.0 L 0.0,-4320.0 z\" /><path fill-rule=\"evenodd\" fill=\"#66cc99\" stroke=\"#555555\" stroke-width=\"46.656\" opacity=\"0.6\" d=\"M 2160.0,-4320.0 L 2160.0,-6480.0 L 4320.0,-6480.0 L 4320.0,-4320.0 L 2160.0,-4320.0 z\" /><path fill-rule=\"evenodd\" fill=\"#66cc99\" stroke=\"#555555\" stroke-width=\"46.656\" opacity=\"0.6\" d=\"M 4320.0,-4320.0 L 4320.0,-6480.0 L 6480.0,-6480.0 L 6480.0,-4320.0 L 4320.0,-4320.0 z\" /></g></g></g></svg>"
      ],
      "text/plain": [
       "<shapely.geometry.collection.GeometryCollection at 0x7f1af916b730>"
      ]
     },
     "execution_count": 374,
     "metadata": {},
     "output_type": "execute_result"
    }
   ],
   "source": [
    "tiles_shifted_shapely = [numpy_shape_to_shapely(s) for s in shifted_tiles]\n",
    "origin = Point(0,0)\n",
    "GeometryCollection((origin, GeometryCollection(tiles_shifted_shapely)))"
   ]
  },
  {
   "cell_type": "markdown",
   "metadata": {},
   "source": [
    "## Create a dask array for the fused image\n",
    "\n",
    "We need to decide on a suitable chunk size. Later, each chunk will be processed separately and possibly in parallel using `map_blocks`. Choosing a chunk size is a trade-off between memory and performance. \n",
    "If we choose the chunk size too large, the memory requirements for each chunk increase. \n",
    "If we choose the chunk size too small, the situation where a tile intersects multiple chunks will occur more often. This potentially leads to multiple disk access for the same tile.\n",
    "\n",
    "Other considerations for the chunk size is the chunking that is needed in the output file (we use a zarr array), e.g. for a viewer such as napari.\n",
    "\n",
    "On my machine I empirically found (4096, 4096)  a good trade-off, but you can experiment with other chunk sizes."
   ]
  },
  {
   "cell_type": "code",
   "execution_count": 375,
   "metadata": {},
   "outputs": [],
   "source": [
    "chunk_size = (2160,2160)"
   ]
  },
  {
   "cell_type": "code",
   "execution_count": 376,
   "metadata": {},
   "outputs": [
    {
     "data": {
      "text/plain": [
       "((2160, 2160, 2160), (2160, 2160, 2160))"
      ]
     },
     "execution_count": 376,
     "metadata": {},
     "output_type": "execute_result"
    }
   ],
   "source": [
    "chunks = normalize_chunks(chunk_size,shape=tuple(stitched_shape))\n",
    "chunks"
   ]
  },
  {
   "cell_type": "markdown",
   "metadata": {},
   "source": [
    "We just convince ourselves that all the chunks taken together have the same size as `stitched_shape`:"
   ]
  },
  {
   "cell_type": "code",
   "execution_count": 377,
   "metadata": {},
   "outputs": [
    {
     "data": {
      "text/plain": [
       "(array([6480, 6480]), (6480, 6480))"
      ]
     },
     "execution_count": 377,
     "metadata": {},
     "output_type": "execute_result"
    }
   ],
   "source": [
    "computed_shape = np.array(list(map(sum, chunks)))\n",
    "assert np.all(np.array(stitched_shape) == computed_shape)\n",
    "computed_shape, stitched_shape"
   ]
  },
  {
   "cell_type": "markdown",
   "metadata": {},
   "source": [
    "Compute tuples of coorindates with which we can slice the destination array to get a single chunk:"
   ]
  },
  {
   "cell_type": "code",
   "execution_count": 378,
   "metadata": {},
   "outputs": [
    {
     "data": {
      "text/plain": [
       "[((0, 2160), (0, 2160)),\n",
       " ((0, 2160), (2160, 4320)),\n",
       " ((0, 2160), (4320, 6480)),\n",
       " ((2160, 4320), (0, 2160)),\n",
       " ((2160, 4320), (2160, 4320)),\n",
       " ((2160, 4320), (4320, 6480)),\n",
       " ((4320, 6480), (0, 2160)),\n",
       " ((4320, 6480), (2160, 4320)),\n",
       " ((4320, 6480), (4320, 6480))]"
      ]
     },
     "execution_count": 378,
     "metadata": {},
     "output_type": "execute_result"
    }
   ],
   "source": [
    "chunk_boundaries = list(get_chunk_coordinates(stitched_shape, chunk_size))\n",
    "chunk_boundaries"
   ]
  },
  {
   "cell_type": "markdown",
   "metadata": {},
   "source": [
    "We also create shapely objects of the chunks so we can visualize them in the notebook and to make it easier to determine which tiles intersect a given chunk and therefore need to be processed in that block."
   ]
  },
  {
   "cell_type": "code",
   "execution_count": 379,
   "metadata": {},
   "outputs": [],
   "source": [
    "chunk_shapes = list(map(get_rect_from_chunk_boundary, chunk_boundaries))\n",
    "chunks_shapely = [numpy_shape_to_shapely(c) for c in chunk_shapes]"
   ]
  },
  {
   "cell_type": "markdown",
   "metadata": {},
   "source": [
    "Now we can visualize both the chunks and the tiles to see the overlaps:"
   ]
  },
  {
   "cell_type": "code",
   "execution_count": 380,
   "metadata": {},
   "outputs": [
    {
     "data": {
      "image/svg+xml": [
       "<svg xmlns=\"http://www.w3.org/2000/svg\" xmlns:xlink=\"http://www.w3.org/1999/xlink\" width=\"300\" height=\"300\" viewBox=\"-259.2 -6739.2 6998.4 6998.4\" preserveAspectRatio=\"xMinYMin meet\"><g transform=\"matrix(1,0,0,-1,0,-6480.0)\"><g><circle cx=\"0.0\" cy=\"0.0\" r=\"69.984\" stroke=\"#555555\" stroke-width=\"23.328\" fill=\"#66cc99\" opacity=\"0.6\" /><g><path fill-rule=\"evenodd\" fill=\"#66cc99\" stroke=\"#555555\" stroke-width=\"46.656\" opacity=\"0.6\" d=\"M 0.0,-0.0 L 0.0,-2160.0 L 2160.0,-2160.0 L 2160.0,-0.0 L 0.0,-0.0 z\" /><path fill-rule=\"evenodd\" fill=\"#66cc99\" stroke=\"#555555\" stroke-width=\"46.656\" opacity=\"0.6\" d=\"M 2160.0,-0.0 L 2160.0,-2160.0 L 4320.0,-2160.0 L 4320.0,-0.0 L 2160.0,-0.0 z\" /><path fill-rule=\"evenodd\" fill=\"#66cc99\" stroke=\"#555555\" stroke-width=\"46.656\" opacity=\"0.6\" d=\"M 4320.0,-0.0 L 4320.0,-2160.0 L 6480.0,-2160.0 L 6480.0,-0.0 L 4320.0,-0.0 z\" /><path fill-rule=\"evenodd\" fill=\"#66cc99\" stroke=\"#555555\" stroke-width=\"46.656\" opacity=\"0.6\" d=\"M 0.0,-2160.0 L 0.0,-4320.0 L 2160.0,-4320.0 L 2160.0,-2160.0 L 0.0,-2160.0 z\" /><path fill-rule=\"evenodd\" fill=\"#66cc99\" stroke=\"#555555\" stroke-width=\"46.656\" opacity=\"0.6\" d=\"M 2160.0,-2160.0 L 2160.0,-4320.0 L 4320.0,-4320.0 L 4320.0,-2160.0 L 2160.0,-2160.0 z\" /><path fill-rule=\"evenodd\" fill=\"#66cc99\" stroke=\"#555555\" stroke-width=\"46.656\" opacity=\"0.6\" d=\"M 4320.0,-2160.0 L 4320.0,-4320.0 L 6480.0,-4320.0 L 6480.0,-2160.0 L 4320.0,-2160.0 z\" /><path fill-rule=\"evenodd\" fill=\"#66cc99\" stroke=\"#555555\" stroke-width=\"46.656\" opacity=\"0.6\" d=\"M 0.0,-4320.0 L 0.0,-6480.0 L 2160.0,-6480.0 L 2160.0,-4320.0 L 0.0,-4320.0 z\" /><path fill-rule=\"evenodd\" fill=\"#66cc99\" stroke=\"#555555\" stroke-width=\"46.656\" opacity=\"0.6\" d=\"M 2160.0,-4320.0 L 2160.0,-6480.0 L 4320.0,-6480.0 L 4320.0,-4320.0 L 2160.0,-4320.0 z\" /><path fill-rule=\"evenodd\" fill=\"#66cc99\" stroke=\"#555555\" stroke-width=\"46.656\" opacity=\"0.6\" d=\"M 4320.0,-4320.0 L 4320.0,-6480.0 L 6480.0,-6480.0 L 6480.0,-4320.0 L 4320.0,-4320.0 z\" /></g><g><path fill-rule=\"evenodd\" fill=\"#66cc99\" stroke=\"#555555\" stroke-width=\"46.656\" opacity=\"0.6\" d=\"M 0.0,0.0 L 0.0,-2159.0 L 2159.0,-2159.0 L 2159.0,0.0 L 0.0,0.0 z\" /><path fill-rule=\"evenodd\" fill=\"#66cc99\" stroke=\"#555555\" stroke-width=\"46.656\" opacity=\"0.6\" d=\"M 2160.0,0.0 L 2160.0,-2159.0 L 4319.0,-2159.0 L 4319.0,0.0 L 2160.0,0.0 z\" /><path fill-rule=\"evenodd\" fill=\"#66cc99\" stroke=\"#555555\" stroke-width=\"46.656\" opacity=\"0.6\" d=\"M 4320.0,0.0 L 4320.0,-2159.0 L 6479.0,-2159.0 L 6479.0,0.0 L 4320.0,0.0 z\" /><path fill-rule=\"evenodd\" fill=\"#66cc99\" stroke=\"#555555\" stroke-width=\"46.656\" opacity=\"0.6\" d=\"M 0.0,-2160.0 L 0.0,-4319.0 L 2159.0,-4319.0 L 2159.0,-2160.0 L 0.0,-2160.0 z\" /><path fill-rule=\"evenodd\" fill=\"#66cc99\" stroke=\"#555555\" stroke-width=\"46.656\" opacity=\"0.6\" d=\"M 2160.0,-2160.0 L 2160.0,-4319.0 L 4319.0,-4319.0 L 4319.0,-2160.0 L 2160.0,-2160.0 z\" /><path fill-rule=\"evenodd\" fill=\"#66cc99\" stroke=\"#555555\" stroke-width=\"46.656\" opacity=\"0.6\" d=\"M 4320.0,-2160.0 L 4320.0,-4319.0 L 6479.0,-4319.0 L 6479.0,-2160.0 L 4320.0,-2160.0 z\" /><path fill-rule=\"evenodd\" fill=\"#66cc99\" stroke=\"#555555\" stroke-width=\"46.656\" opacity=\"0.6\" d=\"M 0.0,-4320.0 L 0.0,-6479.0 L 2159.0,-6479.0 L 2159.0,-4320.0 L 0.0,-4320.0 z\" /><path fill-rule=\"evenodd\" fill=\"#66cc99\" stroke=\"#555555\" stroke-width=\"46.656\" opacity=\"0.6\" d=\"M 2160.0,-4320.0 L 2160.0,-6479.0 L 4319.0,-6479.0 L 4319.0,-4320.0 L 2160.0,-4320.0 z\" /><path fill-rule=\"evenodd\" fill=\"#66cc99\" stroke=\"#555555\" stroke-width=\"46.656\" opacity=\"0.6\" d=\"M 4320.0,-4320.0 L 4320.0,-6479.0 L 6479.0,-6479.0 L 6479.0,-4320.0 L 4320.0,-4320.0 z\" /></g></g></g></svg>"
      ],
      "text/plain": [
       "<shapely.geometry.collection.GeometryCollection at 0x7f19cc2f8280>"
      ]
     },
     "execution_count": 380,
     "metadata": {},
     "output_type": "execute_result"
    }
   ],
   "source": [
    "GeometryCollection([origin, \n",
    "                    GeometryCollection(tiles_shifted_shapely), \n",
    "                    GeometryCollection(chunks_shapely),])"
   ]
  },
  {
   "cell_type": "code",
   "execution_count": 381,
   "metadata": {},
   "outputs": [
    {
     "name": "stderr",
     "output_type": "stream",
     "text": [
      "/tmp/ipykernel_176742/2267014653.py:4: ShapelyDeprecationWarning: Setting custom attributes on geometry objects is deprecated, and will raise an AttributeError in Shapely 2.0\n",
      "  tile_shifted_shapely.fuse_info = {'file':file, 'transform':transform}\n"
     ]
    }
   ],
   "source": [
    "for tile_shifted_shapely, file, transform in zip(tiles_shifted_shapely, \n",
    "                                                 files, \n",
    "                                                 transforms_with_shift):\n",
    "    tile_shifted_shapely.fuse_info = {'file':file, 'transform':transform}"
   ]
  },
  {
   "cell_type": "code",
   "execution_count": 382,
   "metadata": {},
   "outputs": [
    {
     "name": "stderr",
     "output_type": "stream",
     "text": [
      "/tmp/ipykernel_176742/1780256429.py:2: ShapelyDeprecationWarning: Setting custom attributes on geometry objects is deprecated, and will raise an AttributeError in Shapely 2.0\n",
      "  chunk_shapely.fuse_info = {'chunk_boundary': chunk_boundary}\n"
     ]
    }
   ],
   "source": [
    "for chunk_shapely, chunk_boundary  in zip(chunks_shapely, chunk_boundaries):\n",
    "    chunk_shapely.fuse_info = {'chunk_boundary': chunk_boundary}"
   ]
  },
  {
   "cell_type": "markdown",
   "metadata": {},
   "source": [
    "Next, we create a data structure that holds alls the information regarding the tiles that are needed to perform the fusion of arrays ins a given chunk.\n",
    "\n",
    "We choose a dictionary that is indexed by the top-left coordinate tuple of each chunk."
   ]
  },
  {
   "cell_type": "code",
   "execution_count": 383,
   "metadata": {},
   "outputs": [
    {
     "data": {
      "text/plain": [
       "{(0,\n",
       "  0): [(PosixPath('/mnt/DATA/sandbox/pierre_live_cell_data/outputs/Replication_IPSDM_GFP/Images/r03c03f01p01-ch1sk1fk1fl1.tiff'),\n",
       "   array([[1., 0., 0.],\n",
       "          [0., 1., 0.],\n",
       "          [0., 0., 1.]]))],\n",
       " (0,\n",
       "  2160): [(PosixPath('/mnt/DATA/sandbox/pierre_live_cell_data/outputs/Replication_IPSDM_GFP/Images/r03c03f01p01-ch1sk1fk1fl1.tiff'),\n",
       "   array([[1., 0., 0.],\n",
       "          [0., 1., 0.],\n",
       "          [0., 0., 1.]])), (PosixPath('/mnt/DATA/sandbox/pierre_live_cell_data/outputs/Replication_IPSDM_GFP/Images/r03c03f02p01-ch1sk1fk1fl1.tiff'),\n",
       "   array([[1.00e+00, 0.00e+00, 0.00e+00],\n",
       "          [0.00e+00, 1.00e+00, 2.16e+03],\n",
       "          [0.00e+00, 0.00e+00, 1.00e+00]]))],\n",
       " (0,\n",
       "  4320): [(PosixPath('/mnt/DATA/sandbox/pierre_live_cell_data/outputs/Replication_IPSDM_GFP/Images/r03c03f02p01-ch1sk1fk1fl1.tiff'),\n",
       "   array([[1.00e+00, 0.00e+00, 0.00e+00],\n",
       "          [0.00e+00, 1.00e+00, 2.16e+03],\n",
       "          [0.00e+00, 0.00e+00, 1.00e+00]])), (PosixPath('/mnt/DATA/sandbox/pierre_live_cell_data/outputs/Replication_IPSDM_GFP/Images/r03c03f03p01-ch1sk1fk1fl1.tiff'),\n",
       "   array([[1.00e+00, 0.00e+00, 0.00e+00],\n",
       "          [0.00e+00, 1.00e+00, 4.32e+03],\n",
       "          [0.00e+00, 0.00e+00, 1.00e+00]]))],\n",
       " (2160,\n",
       "  0): [(PosixPath('/mnt/DATA/sandbox/pierre_live_cell_data/outputs/Replication_IPSDM_GFP/Images/r03c03f04p01-ch1sk1fk1fl1.tiff'),\n",
       "   array([[1.00e+00, 0.00e+00, 2.16e+03],\n",
       "          [0.00e+00, 1.00e+00, 0.00e+00],\n",
       "          [0.00e+00, 0.00e+00, 1.00e+00]])), (PosixPath('/mnt/DATA/sandbox/pierre_live_cell_data/outputs/Replication_IPSDM_GFP/Images/r03c03f01p01-ch1sk1fk1fl1.tiff'),\n",
       "   array([[1., 0., 0.],\n",
       "          [0., 1., 0.],\n",
       "          [0., 0., 1.]]))],\n",
       " (2160,\n",
       "  2160): [(PosixPath('/mnt/DATA/sandbox/pierre_live_cell_data/outputs/Replication_IPSDM_GFP/Images/r03c03f04p01-ch1sk1fk1fl1.tiff'),\n",
       "   array([[1.00e+00, 0.00e+00, 2.16e+03],\n",
       "          [0.00e+00, 1.00e+00, 0.00e+00],\n",
       "          [0.00e+00, 0.00e+00, 1.00e+00]])), (PosixPath('/mnt/DATA/sandbox/pierre_live_cell_data/outputs/Replication_IPSDM_GFP/Images/r03c03f05p01-ch1sk1fk1fl1.tiff'),\n",
       "   array([[1.00e+00, 0.00e+00, 2.16e+03],\n",
       "          [0.00e+00, 1.00e+00, 2.16e+03],\n",
       "          [0.00e+00, 0.00e+00, 1.00e+00]])), (PosixPath('/mnt/DATA/sandbox/pierre_live_cell_data/outputs/Replication_IPSDM_GFP/Images/r03c03f01p01-ch1sk1fk1fl1.tiff'),\n",
       "   array([[1., 0., 0.],\n",
       "          [0., 1., 0.],\n",
       "          [0., 0., 1.]])), (PosixPath('/mnt/DATA/sandbox/pierre_live_cell_data/outputs/Replication_IPSDM_GFP/Images/r03c03f02p01-ch1sk1fk1fl1.tiff'),\n",
       "   array([[1.00e+00, 0.00e+00, 0.00e+00],\n",
       "          [0.00e+00, 1.00e+00, 2.16e+03],\n",
       "          [0.00e+00, 0.00e+00, 1.00e+00]]))],\n",
       " (2160,\n",
       "  4320): [(PosixPath('/mnt/DATA/sandbox/pierre_live_cell_data/outputs/Replication_IPSDM_GFP/Images/r03c03f05p01-ch1sk1fk1fl1.tiff'),\n",
       "   array([[1.00e+00, 0.00e+00, 2.16e+03],\n",
       "          [0.00e+00, 1.00e+00, 2.16e+03],\n",
       "          [0.00e+00, 0.00e+00, 1.00e+00]])), (PosixPath('/mnt/DATA/sandbox/pierre_live_cell_data/outputs/Replication_IPSDM_GFP/Images/r03c03f06p01-ch1sk1fk1fl1.tiff'),\n",
       "   array([[1.00e+00, 0.00e+00, 2.16e+03],\n",
       "          [0.00e+00, 1.00e+00, 4.32e+03],\n",
       "          [0.00e+00, 0.00e+00, 1.00e+00]])), (PosixPath('/mnt/DATA/sandbox/pierre_live_cell_data/outputs/Replication_IPSDM_GFP/Images/r03c03f02p01-ch1sk1fk1fl1.tiff'),\n",
       "   array([[1.00e+00, 0.00e+00, 0.00e+00],\n",
       "          [0.00e+00, 1.00e+00, 2.16e+03],\n",
       "          [0.00e+00, 0.00e+00, 1.00e+00]])), (PosixPath('/mnt/DATA/sandbox/pierre_live_cell_data/outputs/Replication_IPSDM_GFP/Images/r03c03f03p01-ch1sk1fk1fl1.tiff'),\n",
       "   array([[1.00e+00, 0.00e+00, 0.00e+00],\n",
       "          [0.00e+00, 1.00e+00, 4.32e+03],\n",
       "          [0.00e+00, 0.00e+00, 1.00e+00]]))],\n",
       " (4320,\n",
       "  0): [(PosixPath('/mnt/DATA/sandbox/pierre_live_cell_data/outputs/Replication_IPSDM_GFP/Images/r03c03f07p01-ch1sk1fk1fl1.tiff'),\n",
       "   array([[1.00e+00, 0.00e+00, 4.32e+03],\n",
       "          [0.00e+00, 1.00e+00, 0.00e+00],\n",
       "          [0.00e+00, 0.00e+00, 1.00e+00]])), (PosixPath('/mnt/DATA/sandbox/pierre_live_cell_data/outputs/Replication_IPSDM_GFP/Images/r03c03f04p01-ch1sk1fk1fl1.tiff'),\n",
       "   array([[1.00e+00, 0.00e+00, 2.16e+03],\n",
       "          [0.00e+00, 1.00e+00, 0.00e+00],\n",
       "          [0.00e+00, 0.00e+00, 1.00e+00]]))],\n",
       " (4320,\n",
       "  2160): [(PosixPath('/mnt/DATA/sandbox/pierre_live_cell_data/outputs/Replication_IPSDM_GFP/Images/r03c03f07p01-ch1sk1fk1fl1.tiff'),\n",
       "   array([[1.00e+00, 0.00e+00, 4.32e+03],\n",
       "          [0.00e+00, 1.00e+00, 0.00e+00],\n",
       "          [0.00e+00, 0.00e+00, 1.00e+00]])), (PosixPath('/mnt/DATA/sandbox/pierre_live_cell_data/outputs/Replication_IPSDM_GFP/Images/r03c03f08p01-ch1sk1fk1fl1.tiff'),\n",
       "   array([[1.00e+00, 0.00e+00, 4.32e+03],\n",
       "          [0.00e+00, 1.00e+00, 2.16e+03],\n",
       "          [0.00e+00, 0.00e+00, 1.00e+00]])), (PosixPath('/mnt/DATA/sandbox/pierre_live_cell_data/outputs/Replication_IPSDM_GFP/Images/r03c03f04p01-ch1sk1fk1fl1.tiff'),\n",
       "   array([[1.00e+00, 0.00e+00, 2.16e+03],\n",
       "          [0.00e+00, 1.00e+00, 0.00e+00],\n",
       "          [0.00e+00, 0.00e+00, 1.00e+00]])), (PosixPath('/mnt/DATA/sandbox/pierre_live_cell_data/outputs/Replication_IPSDM_GFP/Images/r03c03f05p01-ch1sk1fk1fl1.tiff'),\n",
       "   array([[1.00e+00, 0.00e+00, 2.16e+03],\n",
       "          [0.00e+00, 1.00e+00, 2.16e+03],\n",
       "          [0.00e+00, 0.00e+00, 1.00e+00]]))],\n",
       " (4320,\n",
       "  4320): [(PosixPath('/mnt/DATA/sandbox/pierre_live_cell_data/outputs/Replication_IPSDM_GFP/Images/r03c03f08p01-ch1sk1fk1fl1.tiff'),\n",
       "   array([[1.00e+00, 0.00e+00, 4.32e+03],\n",
       "          [0.00e+00, 1.00e+00, 2.16e+03],\n",
       "          [0.00e+00, 0.00e+00, 1.00e+00]])), (PosixPath('/mnt/DATA/sandbox/pierre_live_cell_data/outputs/Replication_IPSDM_GFP/Images/r03c03f09p01-ch1sk1fk1fl1.tiff'),\n",
       "   array([[1.00e+00, 0.00e+00, 4.32e+03],\n",
       "          [0.00e+00, 1.00e+00, 4.32e+03],\n",
       "          [0.00e+00, 0.00e+00, 1.00e+00]])), (PosixPath('/mnt/DATA/sandbox/pierre_live_cell_data/outputs/Replication_IPSDM_GFP/Images/r03c03f05p01-ch1sk1fk1fl1.tiff'),\n",
       "   array([[1.00e+00, 0.00e+00, 2.16e+03],\n",
       "          [0.00e+00, 1.00e+00, 2.16e+03],\n",
       "          [0.00e+00, 0.00e+00, 1.00e+00]])), (PosixPath('/mnt/DATA/sandbox/pierre_live_cell_data/outputs/Replication_IPSDM_GFP/Images/r03c03f06p01-ch1sk1fk1fl1.tiff'),\n",
       "   array([[1.00e+00, 0.00e+00, 2.16e+03],\n",
       "          [0.00e+00, 1.00e+00, 4.32e+03],\n",
       "          [0.00e+00, 0.00e+00, 1.00e+00]]))]}"
      ]
     },
     "execution_count": 383,
     "metadata": {},
     "output_type": "execute_result"
    }
   ],
   "source": [
    "chunk_tiles = find_chunk_tile_intersections(tiles_shifted_shapely, chunks_shapely)\n",
    "chunk_tiles"
   ]
  },
  {
   "cell_type": "markdown",
   "metadata": {},
   "source": [
    "We inspect one of these dict entries to see that it contains a list of tuples with information about each intersecting tile: file path and affine transformation matrix for that particular tile."
   ]
  },
  {
   "cell_type": "code",
   "execution_count": 384,
   "metadata": {},
   "outputs": [
    {
     "data": {
      "text/plain": [
       "[(PosixPath('/mnt/DATA/sandbox/pierre_live_cell_data/outputs/Replication_IPSDM_GFP/Images/r03c03f04p01-ch1sk1fk1fl1.tiff'),\n",
       "  array([[1.00e+00, 0.00e+00, 2.16e+03],\n",
       "         [0.00e+00, 1.00e+00, 0.00e+00],\n",
       "         [0.00e+00, 0.00e+00, 1.00e+00]])),\n",
       " (PosixPath('/mnt/DATA/sandbox/pierre_live_cell_data/outputs/Replication_IPSDM_GFP/Images/r03c03f05p01-ch1sk1fk1fl1.tiff'),\n",
       "  array([[1.00e+00, 0.00e+00, 2.16e+03],\n",
       "         [0.00e+00, 1.00e+00, 2.16e+03],\n",
       "         [0.00e+00, 0.00e+00, 1.00e+00]])),\n",
       " (PosixPath('/mnt/DATA/sandbox/pierre_live_cell_data/outputs/Replication_IPSDM_GFP/Images/r03c03f01p01-ch1sk1fk1fl1.tiff'),\n",
       "  array([[1., 0., 0.],\n",
       "         [0., 1., 0.],\n",
       "         [0., 0., 1.]])),\n",
       " (PosixPath('/mnt/DATA/sandbox/pierre_live_cell_data/outputs/Replication_IPSDM_GFP/Images/r03c03f02p01-ch1sk1fk1fl1.tiff'),\n",
       "  array([[1.00e+00, 0.00e+00, 0.00e+00],\n",
       "         [0.00e+00, 1.00e+00, 2.16e+03],\n",
       "         [0.00e+00, 0.00e+00, 1.00e+00]]))]"
      ]
     },
     "execution_count": 384,
     "metadata": {},
     "output_type": "execute_result"
    }
   ],
   "source": [
    "chunk_tiles[(2160,2160)]"
   ]
  },
  {
   "cell_type": "markdown",
   "metadata": {},
   "source": [
    "At this stage, we can use `map_blocks` to calculate the fused image chunk by chunk.\n",
    "To do so, we pass a function `_fuse_func` to `map_blocks` that will get called for each chunk.\n",
    "\n",
    "You may want to closely inspect `fuse_func` that we imported in `fuse.py`. It takes \n",
    "care of loading all the tiles for the particular chunk it is processing and applying \n",
    "the respective affine transforms. It also applies an additional translation to the individual affine\n",
    "transforms, to account for the fact that the coordinates in the chunk are relative to the chunks location\n",
    "in the target array.\n",
    "\n",
    "By processing each chunk individually, only the source tiles overlapping that particular chunk will have to be loaded into memory. Thus we can generate a large fused array even on a machine with limited RAM. This is an example of using dask for [\"out-of-core\"](https://en.wikipedia.org/wiki/External_memory_algorithm) processing.\n",
    "\n",
    "Using `partial` function evaluation we set some of the arguments of `fuse_func`, for example the image file loader. It is this partially evaluated function we pass to `map_blocks`."
   ]
  },
  {
   "cell_type": "code",
   "execution_count": 385,
   "metadata": {},
   "outputs": [],
   "source": [
    "_fuse_func=partial(fuse_func, \n",
    "                   imload_fn=_load_image,\n",
    "                   dtype=np.uint16)\n",
    "\n",
    "\n",
    "target_array = da.map_blocks(func=_fuse_func,\n",
    "                             chunks=chunks, \n",
    "                             input_tile_info=chunk_tiles,\n",
    "                             dtype=np.uint16)"
   ]
  },
  {
   "cell_type": "code",
   "execution_count": 386,
   "metadata": {},
   "outputs": [
    {
     "data": {
      "text/html": [
       "<table>\n",
       "    <tr>\n",
       "        <td>\n",
       "            <table>\n",
       "                <thead>\n",
       "                    <tr>\n",
       "                        <td> </td>\n",
       "                        <th> Array </th>\n",
       "                        <th> Chunk </th>\n",
       "                    </tr>\n",
       "                </thead>\n",
       "                <tbody>\n",
       "                    \n",
       "                    <tr>\n",
       "                        <th> Bytes </th>\n",
       "                        <td> 80.09 MiB </td>\n",
       "                        <td> 8.90 MiB </td>\n",
       "                    </tr>\n",
       "                    \n",
       "                    <tr>\n",
       "                        <th> Shape </th>\n",
       "                        <td> (6480, 6480) </td>\n",
       "                        <td> (2160, 2160) </td>\n",
       "                    </tr>\n",
       "                    <tr>\n",
       "                        <th> Count </th>\n",
       "                        <td> 18 Tasks </td>\n",
       "                        <td> 9 Chunks </td>\n",
       "                    </tr>\n",
       "                    <tr>\n",
       "                    <th> Type </th>\n",
       "                    <td> uint16 </td>\n",
       "                    <td> numpy.ndarray </td>\n",
       "                    </tr>\n",
       "                </tbody>\n",
       "            </table>\n",
       "        </td>\n",
       "        <td>\n",
       "        <svg width=\"170\" height=\"170\" style=\"stroke:rgb(0,0,0);stroke-width:1\" >\n",
       "\n",
       "  <!-- Horizontal lines -->\n",
       "  <line x1=\"0\" y1=\"0\" x2=\"120\" y2=\"0\" style=\"stroke-width:2\" />\n",
       "  <line x1=\"0\" y1=\"40\" x2=\"120\" y2=\"40\" />\n",
       "  <line x1=\"0\" y1=\"80\" x2=\"120\" y2=\"80\" />\n",
       "  <line x1=\"0\" y1=\"120\" x2=\"120\" y2=\"120\" style=\"stroke-width:2\" />\n",
       "\n",
       "  <!-- Vertical lines -->\n",
       "  <line x1=\"0\" y1=\"0\" x2=\"0\" y2=\"120\" style=\"stroke-width:2\" />\n",
       "  <line x1=\"40\" y1=\"0\" x2=\"40\" y2=\"120\" />\n",
       "  <line x1=\"80\" y1=\"0\" x2=\"80\" y2=\"120\" />\n",
       "  <line x1=\"120\" y1=\"0\" x2=\"120\" y2=\"120\" style=\"stroke-width:2\" />\n",
       "\n",
       "  <!-- Colored Rectangle -->\n",
       "  <polygon points=\"0.0,0.0 120.0,0.0 120.0,120.0 0.0,120.0\" style=\"fill:#ECB172A0;stroke-width:0\"/>\n",
       "\n",
       "  <!-- Text -->\n",
       "  <text x=\"60.000000\" y=\"140.000000\" font-size=\"1.0rem\" font-weight=\"100\" text-anchor=\"middle\" >6480</text>\n",
       "  <text x=\"140.000000\" y=\"60.000000\" font-size=\"1.0rem\" font-weight=\"100\" text-anchor=\"middle\" transform=\"rotate(-90,140.000000,60.000000)\">6480</text>\n",
       "</svg>\n",
       "        </td>\n",
       "    </tr>\n",
       "</table>"
      ],
      "text/plain": [
       "dask.array<fuse_func, shape=(6480, 6480), dtype=uint16, chunksize=(2160, 2160), chunktype=numpy.ndarray>"
      ]
     },
     "execution_count": 386,
     "metadata": {},
     "output_type": "execute_result"
    }
   ],
   "source": [
    "target_array"
   ]
  },
  {
   "cell_type": "markdown",
   "metadata": {},
   "source": [
    "Up to this point, the computation that maps the tiles into the destination array hasn't been computed.\n",
    "We can trigger the computation by writing the array into a `zarr` file on disk."
   ]
  },
  {
   "cell_type": "code",
   "execution_count": 392,
   "metadata": {},
   "outputs": [
    {
     "name": "stdout",
     "output_type": "stream",
     "text": [
      "Processing chunk at (0, 0)Processing chunk at (0, 2160)\n",
      "\n",
      "Processing chunk at (0, 4320)\n",
      "Processing chunk at (2160, 0)\n",
      "Processing chunk at (2160, 2160)\n",
      "Processing chunk at (2160, 4320)\n",
      "Processing chunk at (4320, 0)\n",
      "Processing chunk at (4320, 2160)\n",
      "Processing chunk at (4320, 4320)\n"
     ]
    }
   ],
   "source": [
    "target_array.to_zarr(\"fused.zarr\", overwrite=True)"
   ]
  },
  {
   "cell_type": "markdown",
   "metadata": {},
   "source": [
    "The command above writes a simple chunked zarr array. For large mosaics it may be useful to write a multi-resolution image pyramid, e.g. using this https://github.com/aeisenbarth/ngff-writer package to write the dask array to a multi-resolution `.ome.zarr` (an emerging NGFF file format).\n"
   ]
  },
  {
   "cell_type": "markdown",
   "metadata": {},
   "source": [
    "If you want to look at at the zarr array, you can use napari which supports loading zarr files:"
   ]
  },
  {
   "cell_type": "code",
   "execution_count": 388,
   "metadata": {},
   "outputs": [],
   "source": [
    "import napari\n",
    "from napari.utils import nbscreenshot"
   ]
  },
  {
   "cell_type": "code",
   "execution_count": 393,
   "metadata": {},
   "outputs": [
    {
     "name": "stderr",
     "output_type": "stream",
     "text": [
      "__init__.py (179): Public access to Window.qt_viewer is deprecated and will be removed in\n",
      "v0.5.0. It is considered an \"implementation detail\" of the napari\n",
      "application, not part of the napari viewer model. If your use case\n",
      "requires access to qt_viewer, please open an issue to discuss.\n"
     ]
    },
    {
     "data": {
      "text/plain": [
       "<Image layer 'Fused' at 0x7f1afa6b1610>"
      ]
     },
     "execution_count": 393,
     "metadata": {},
     "output_type": "execute_result"
    }
   ],
   "source": [
    "v = napari.Viewer()\n",
    "v.add_image(da.from_zarr(\"fused.zarr\"), name=\"Fused\")"
   ]
  },
  {
   "cell_type": "code",
   "execution_count": null,
   "metadata": {},
   "outputs": [],
   "source": [
    "nbscreenshot(v)"
   ]
  }
 ],
 "metadata": {
  "interpreter": {
   "hash": "8c1da9b333bd16eca91c483de28cf1e3bdef92ae84368abdb550f55cbacd6d65"
  },
  "kernelspec": {
   "display_name": "Python 3 (ipykernel)",
   "language": "python",
   "name": "python3"
  },
  "language_info": {
   "codemirror_mode": {
    "name": "ipython",
    "version": 3
   },
   "file_extension": ".py",
   "mimetype": "text/x-python",
   "name": "python",
   "nbconvert_exporter": "python",
   "pygments_lexer": "ipython3",
   "version": "3.9.12"
  }
 },
 "nbformat": 4,
 "nbformat_minor": 2
}
