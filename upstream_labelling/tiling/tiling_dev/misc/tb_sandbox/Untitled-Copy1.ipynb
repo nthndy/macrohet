{
 "cells": [
  {
   "cell_type": "code",
   "execution_count": 1,
   "id": "350a317a",
   "metadata": {},
   "outputs": [],
   "source": [
    "import napari"
   ]
  },
  {
   "cell_type": "code",
   "execution_count": 2,
   "id": "ac5f1264",
   "metadata": {},
   "outputs": [],
   "source": [
    "image_fn = '/mnt/DATA/sandbox/day 14_side-by-side .tif'"
   ]
  },
  {
   "cell_type": "code",
   "execution_count": 6,
   "id": "9e913931",
   "metadata": {},
   "outputs": [],
   "source": [
    "image_fn = '/run/user/30046150/gvfs/smb-share:server=data.thecrick.org,share=lab-gutierrezm/home/shared/Lab Electron microscopy/221207_sampleA_D21_static+ALI/221208/D21_ALI_static_003_SA-MAG_X2000.tif'"
   ]
  },
  {
   "cell_type": "code",
   "execution_count": 3,
   "id": "9f708c7c",
   "metadata": {},
   "outputs": [],
   "source": [
    "from skimage.io import imread"
   ]
  },
  {
   "cell_type": "code",
   "execution_count": 7,
   "id": "fea3c678",
   "metadata": {},
   "outputs": [],
   "source": [
    "image = imread(image_fn)"
   ]
  },
  {
   "cell_type": "code",
   "execution_count": 8,
   "id": "cceba986",
   "metadata": {},
   "outputs": [
    {
     "name": "stderr",
     "output_type": "stream",
     "text": [
      "/home/dayn/miniconda3/envs/aero/lib/python3.9/site-packages/napari_tools_menu/__init__.py:194: FutureWarning: Public access to Window.qt_viewer is deprecated and will be removed in\n",
      "v0.5.0. It is considered an \"implementation detail\" of the napari\n",
      "application, not part of the napari viewer model. If your use case\n",
      "requires access to qt_viewer, please open an issue to discuss.\n",
      "  self.tools_menu = ToolsMenu(self, self.qt_viewer.viewer)\n",
      "/home/dayn/miniconda3/envs/aero/lib/python3.9/site-packages/napari/_vispy/layers/image.py:259: UserWarning: data shape (5776, 56113) exceeds GL_MAX_TEXTURE_SIZE 32768 in at least one axis and will be downsampled. Rendering is currently in 2D mode.\n",
      "  warnings.warn(\n",
      "/home/dayn/miniconda3/envs/aero/lib/python3.9/site-packages/napari/_vispy/layers/image.py:259: UserWarning: data shape (5776, 56113) exceeds GL_MAX_TEXTURE_SIZE 32768 in at least one axis and will be downsampled. Rendering is currently in 2D mode.\n",
      "  warnings.warn(\n"
     ]
    },
    {
     "data": {
      "text/plain": [
       "<Image layer 'image' at 0x7fea2c51d9d0>"
      ]
     },
     "execution_count": 8,
     "metadata": {},
     "output_type": "execute_result"
    },
    {
     "name": "stderr",
     "output_type": "stream",
     "text": [
      "Traceback (most recent call last):\n",
      "  File \"/home/dayn/miniconda3/envs/aero/lib/python3.9/site-packages/vispy/app/backends/_qt.py\", line 532, in mouseMoveEvent\n",
      "    self._vispy_mouse_move(\n",
      "  File \"/home/dayn/miniconda3/envs/aero/lib/python3.9/site-packages/vispy/app/base.py\", line 216, in _vispy_mouse_move\n",
      "    ev = self._vispy_canvas.events.mouse_move(**kwargs)\n",
      "  File \"/home/dayn/miniconda3/envs/aero/lib/python3.9/site-packages/vispy/util/event.py\", line 453, in __call__\n",
      "    self._invoke_callback(cb, event)\n",
      "  File \"/home/dayn/miniconda3/envs/aero/lib/python3.9/site-packages/vispy/util/event.py\", line 471, in _invoke_callback\n",
      "    _handle_exception(self.ignore_callback_errors,\n",
      "  File \"/home/dayn/miniconda3/envs/aero/lib/python3.9/site-packages/vispy/util/event.py\", line 469, in _invoke_callback\n",
      "    cb(event)\n",
      "  File \"/home/dayn/miniconda3/envs/aero/lib/python3.9/site-packages/napari/_qt/qt_viewer.py\", line 1077, in on_mouse_move\n",
      "    self._process_mouse_event(mouse_move_callbacks, event)\n",
      "  File \"/home/dayn/miniconda3/envs/aero/lib/python3.9/site-packages/napari/_qt/qt_viewer.py\", line 1026, in _process_mouse_event\n",
      "    mouse_callbacks(layer, event)\n",
      "  File \"/home/dayn/miniconda3/envs/aero/lib/python3.9/site-packages/napari/utils/interactions.py\", line 172, in mouse_move_callbacks\n",
      "    next(gen)\n",
      "  File \"/home/dayn/miniconda3/envs/aero/lib/python3.9/site-packages/napari/layers/shapes/_shapes_mouse_bindings.py\", line 63, in select\n",
      "    _move(layer, coordinates)\n",
      "  File \"/home/dayn/miniconda3/envs/aero/lib/python3.9/site-packages/napari/layers/shapes/_shapes_mouse_bindings.py\", line 492, in _move\n",
      "    new_offset = coord - layer._fixed_vertex\n",
      "TypeError: unsupported operand type(s) for -: 'list' and 'NoneType'\n",
      "Traceback (most recent call last):\n",
      "  File \"/home/dayn/miniconda3/envs/aero/lib/python3.9/site-packages/vispy/app/backends/_qt.py\", line 532, in mouseMoveEvent\n",
      "    self._vispy_mouse_move(\n",
      "  File \"/home/dayn/miniconda3/envs/aero/lib/python3.9/site-packages/vispy/app/base.py\", line 216, in _vispy_mouse_move\n",
      "    ev = self._vispy_canvas.events.mouse_move(**kwargs)\n",
      "  File \"/home/dayn/miniconda3/envs/aero/lib/python3.9/site-packages/vispy/util/event.py\", line 453, in __call__\n",
      "    self._invoke_callback(cb, event)\n",
      "  File \"/home/dayn/miniconda3/envs/aero/lib/python3.9/site-packages/vispy/util/event.py\", line 471, in _invoke_callback\n",
      "    _handle_exception(self.ignore_callback_errors,\n",
      "  File \"/home/dayn/miniconda3/envs/aero/lib/python3.9/site-packages/vispy/util/event.py\", line 469, in _invoke_callback\n",
      "    cb(event)\n",
      "  File \"/home/dayn/miniconda3/envs/aero/lib/python3.9/site-packages/napari/_qt/qt_viewer.py\", line 1077, in on_mouse_move\n",
      "    self._process_mouse_event(mouse_move_callbacks, event)\n",
      "  File \"/home/dayn/miniconda3/envs/aero/lib/python3.9/site-packages/napari/_qt/qt_viewer.py\", line 1026, in _process_mouse_event\n",
      "    mouse_callbacks(layer, event)\n",
      "  File \"/home/dayn/miniconda3/envs/aero/lib/python3.9/site-packages/napari/utils/interactions.py\", line 172, in mouse_move_callbacks\n",
      "    next(gen)\n",
      "  File \"/home/dayn/miniconda3/envs/aero/lib/python3.9/site-packages/napari/layers/shapes/_shapes_mouse_bindings.py\", line 63, in select\n",
      "    _move(layer, coordinates)\n",
      "  File \"/home/dayn/miniconda3/envs/aero/lib/python3.9/site-packages/napari/layers/shapes/_shapes_mouse_bindings.py\", line 492, in _move\n",
      "    new_offset = coord - layer._fixed_vertex\n",
      "TypeError: unsupported operand type(s) for -: 'list' and 'NoneType'\n",
      "Traceback (most recent call last):\n",
      "  File \"/home/dayn/miniconda3/envs/aero/lib/python3.9/site-packages/vispy/app/backends/_qt.py\", line 532, in mouseMoveEvent\n",
      "    self._vispy_mouse_move(\n",
      "  File \"/home/dayn/miniconda3/envs/aero/lib/python3.9/site-packages/vispy/app/base.py\", line 216, in _vispy_mouse_move\n",
      "    ev = self._vispy_canvas.events.mouse_move(**kwargs)\n",
      "  File \"/home/dayn/miniconda3/envs/aero/lib/python3.9/site-packages/vispy/util/event.py\", line 453, in __call__\n",
      "    self._invoke_callback(cb, event)\n",
      "  File \"/home/dayn/miniconda3/envs/aero/lib/python3.9/site-packages/vispy/util/event.py\", line 471, in _invoke_callback\n",
      "    _handle_exception(self.ignore_callback_errors,\n",
      "  File \"/home/dayn/miniconda3/envs/aero/lib/python3.9/site-packages/vispy/util/event.py\", line 469, in _invoke_callback\n",
      "    cb(event)\n",
      "  File \"/home/dayn/miniconda3/envs/aero/lib/python3.9/site-packages/napari/_qt/qt_viewer.py\", line 1077, in on_mouse_move\n",
      "    self._process_mouse_event(mouse_move_callbacks, event)\n",
      "  File \"/home/dayn/miniconda3/envs/aero/lib/python3.9/site-packages/napari/_qt/qt_viewer.py\", line 1026, in _process_mouse_event\n",
      "    mouse_callbacks(layer, event)\n",
      "  File \"/home/dayn/miniconda3/envs/aero/lib/python3.9/site-packages/napari/utils/interactions.py\", line 172, in mouse_move_callbacks\n",
      "    next(gen)\n",
      "  File \"/home/dayn/miniconda3/envs/aero/lib/python3.9/site-packages/napari/layers/shapes/_shapes_mouse_bindings.py\", line 63, in select\n",
      "    _move(layer, coordinates)\n",
      "  File \"/home/dayn/miniconda3/envs/aero/lib/python3.9/site-packages/napari/layers/shapes/_shapes_mouse_bindings.py\", line 492, in _move\n",
      "    new_offset = coord - layer._fixed_vertex\n",
      "TypeError: unsupported operand type(s) for -: 'list' and 'NoneType'\n"
     ]
    },
    {
     "name": "stdout",
     "output_type": "stream",
     "text": [
      "Rendering frames...\n"
     ]
    },
    {
     "name": "stderr",
     "output_type": "stream",
     "text": [
      "  0%|                                                                                   | 0/901 [00:00<?, ?it/s]14-Dec-22 13:56:14 - imageio_ffmpeg - WARNING  - IMAGEIO FFMPEG_WRITER WARNING: input image is not divisible by macro_block_size=16, resizing from (1368, 1110) to (1376, 1120) to ensure video compatibility with most codecs and players. To prevent resizing, make your input image divisible by the macro_block_size or set the macro_block_size to 1 (risking incompatibility).\n",
      "100%|█████████████████████████████████████████████████████████████████████████| 901/901 [00:47<00:00, 18.84it/s]\n"
     ]
    },
    {
     "name": "stdout",
     "output_type": "stream",
     "text": [
      "Rendering frames...\n"
     ]
    },
    {
     "name": "stderr",
     "output_type": "stream",
     "text": [
      "  0%|                                                                                   | 0/901 [00:00<?, ?it/s]14-Dec-22 13:58:56 - imageio_ffmpeg - WARNING  - IMAGEIO FFMPEG_WRITER WARNING: input image is not divisible by macro_block_size=16, resizing from (1368, 1110) to (1376, 1120) to ensure video compatibility with most codecs and players. To prevent resizing, make your input image divisible by the macro_block_size or set the macro_block_size to 1 (risking incompatibility).\n",
      "100%|█████████████████████████████████████████████████████████████████████████| 901/901 [00:46<00:00, 19.36it/s]\n"
     ]
    },
    {
     "name": "stdout",
     "output_type": "stream",
     "text": [
      "Rendering frames...\n"
     ]
    },
    {
     "name": "stderr",
     "output_type": "stream",
     "text": [
      "  0%|                                                                                   | 0/901 [00:00<?, ?it/s]14-Dec-22 14:00:40 - imageio_ffmpeg - WARNING  - IMAGEIO FFMPEG_WRITER WARNING: input image is not divisible by macro_block_size=16, resizing from (1368, 1110) to (1376, 1120) to ensure video compatibility with most codecs and players. To prevent resizing, make your input image divisible by the macro_block_size or set the macro_block_size to 1 (risking incompatibility).\n",
      "100%|█████████████████████████████████████████████████████████████████████████| 901/901 [00:46<00:00, 19.24it/s]\n"
     ]
    }
   ],
   "source": [
    "v = napari.Viewer()\n",
    "\n",
    "v.add_image(image)"
   ]
  },
  {
   "cell_type": "code",
   "execution_count": 8,
   "id": "1b0d05ae",
   "metadata": {},
   "outputs": [
    {
     "data": {
      "text/plain": [
       "(3500, 28639)"
      ]
     },
     "execution_count": 8,
     "metadata": {},
     "output_type": "execute_result"
    }
   ],
   "source": [
    "image.shape"
   ]
  }
 ],
 "metadata": {
  "kernelspec": {
   "display_name": "aero",
   "language": "python",
   "name": "aero"
  },
  "language_info": {
   "codemirror_mode": {
    "name": "ipython",
    "version": 3
   },
   "file_extension": ".py",
   "mimetype": "text/x-python",
   "name": "python",
   "nbconvert_exporter": "python",
   "pygments_lexer": "ipython3",
   "version": "3.9.12"
  }
 },
 "nbformat": 4,
 "nbformat_minor": 5
}
