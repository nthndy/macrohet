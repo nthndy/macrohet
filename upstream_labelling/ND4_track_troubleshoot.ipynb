{
 "cells": [
  {
   "cell_type": "code",
   "execution_count": 1,
   "id": "7a60b3d0-6a76-4657-afd9-bccbeab47fcb",
   "metadata": {},
   "outputs": [],
   "source": [
    "import btrack\n",
    "import zarr\n",
    "import os\n",
    "import napari\n",
    "from macrohet import dataio\n",
    "import glob\n",
    "import numpy as np"
   ]
  },
  {
   "cell_type": "code",
   "execution_count": 2,
   "id": "0d6fbe32-5e33-49a0-98c9-642aaf3b5839",
   "metadata": {},
   "outputs": [
    {
     "name": "stdout",
     "output_type": "stream",
     "text": [
      "Reading metadata XML file...\n"
     ]
    },
    {
     "data": {
      "application/vnd.jupyter.widget-view+json": {
       "model_id": "3272e403ab85406c853cccacd6c72df6",
       "version_major": 2,
       "version_minor": 0
      },
      "text/plain": [
       "0it [00:00, ?it/s]"
      ]
     },
     "metadata": {},
     "output_type": "display_data"
    },
    {
     "name": "stdout",
     "output_type": "stream",
     "text": [
      "Extracting metadata complete!\n",
      "Reading metadata XML file...\n",
      "Extracting metadata complete!\n"
     ]
    }
   ],
   "source": [
    "expt_ID = 'ND0004'\n",
    "base_dir = f'/mnt/SYNO/macrohet_syno/data/{expt_ID}/'\n",
    "metadata_fn = glob.glob(os.path.join(base_dir, 'acquisition/Images/Index*xml'))[0]\n",
    "metadata = dataio.read_harmony_metadata(metadata_fn)  \n",
    "metadata_path = glob.glob(os.path.join(base_dir, 'acquisition/Assaylayout/*.xml'))[0]\n",
    "assay_layout = dataio.read_harmony_metadata(metadata_path, assay_layout=True,replicate_number=False)# mask_exist=True,  image_dir = image_dir, image_metadata = metadata)\n",
    "acq_ID = (3, 4)\n",
    "image_dir = os.path.join(base_dir, f'acquisition/zarr/{acq_ID}.zarr')\n",
    "zarr_group = zarr.open(image_dir, mode='r')\n"
   ]
  },
  {
   "cell_type": "code",
   "execution_count": 8,
   "id": "676d7fc3-800b-4db6-9233-b70ec9f7dd9d",
   "metadata": {},
   "outputs": [
    {
     "name": "stdout",
     "output_type": "stream",
     "text": [
      "CPU times: user 9.33 s, sys: 4.35 s, total: 13.7 s\n",
      "Wall time: 4.24 s\n"
     ]
    }
   ],
   "source": [
    "%%time\n",
    "images = zarr_group.images[:,1,2,...]"
   ]
  },
  {
   "cell_type": "code",
   "execution_count": 9,
   "id": "27f7bdcb-1125-44cd-a044-cc0b94826ac5",
   "metadata": {},
   "outputs": [
    {
     "data": {
      "text/plain": [
       "(154, 6048, 6048)"
      ]
     },
     "execution_count": 9,
     "metadata": {},
     "output_type": "execute_result"
    }
   ],
   "source": [
    "images.shape"
   ]
  },
  {
   "cell_type": "markdown",
   "id": "c3a4aeba-2ba6-495c-b056-6f02088399f1",
   "metadata": {},
   "source": [
    "# comparing btrack to trackastra"
   ]
  },
  {
   "cell_type": "code",
   "execution_count": 12,
   "id": "a5f866db-a919-4a51-ac5c-0bc9d6290a13",
   "metadata": {},
   "outputs": [
    {
     "name": "stderr",
     "output_type": "stream",
     "text": [
      "[INFO][2024/10/23 12:37:24 pm] Opening HDF file: /mnt/SYNO/macrohet_syno/data/ND0004/labels/cpv3/(3, 4).h5...\n",
      "INFO:btrack.io.hdf:Opening HDF file: /mnt/SYNO/macrohet_syno/data/ND0004/labels/cpv3/(3, 4).h5...\n",
      "[INFO][2024/10/23 12:37:43 pm] Loading segmentation (154, 6048, 6048)\n",
      "INFO:btrack.io.hdf:Loading segmentation (154, 6048, 6048)\n",
      "[INFO][2024/10/23 12:37:43 pm] Loading tracks/obj_type_1\n",
      "INFO:btrack.io.hdf:Loading tracks/obj_type_1\n",
      "[INFO][2024/10/23 12:37:43 pm] Loading LBEP/obj_type_1\n",
      "INFO:btrack.io.hdf:Loading LBEP/obj_type_1\n",
      "[INFO][2024/10/23 12:37:43 pm] Loading objects/obj_type_1 (71403, 5) (71403 filtered: None)\n",
      "INFO:btrack.io.hdf:Loading objects/obj_type_1 (71403, 5) (71403 filtered: None)\n",
      "[INFO][2024/10/23 12:37:45 pm] Closing HDF file: /mnt/SYNO/macrohet_syno/data/ND0004/labels/cpv3/(3, 4).h5\n",
      "INFO:btrack.io.hdf:Closing HDF file: /mnt/SYNO/macrohet_syno/data/ND0004/labels/cpv3/(3, 4).h5\n"
     ]
    }
   ],
   "source": [
    "with btrack.io.HDF5FileHandler(os.path.join(f'/mnt/SYNO/macrohet_syno/data/{expt_ID}/labels/cpv3/{acq_ID}.h5'), #macrohet_seg_model \n",
    "                                           'r', \n",
    "                                           obj_type='obj_type_1'\n",
    "                                           ) as reader:\n",
    "                bsegmentation = reader.segmentation\n",
    "                btracks = reader.tracks"
   ]
  },
  {
   "cell_type": "code",
   "execution_count": 46,
   "id": "3cbfd93a-e156-48f5-b7ff-fb4ffd7c0235",
   "metadata": {
    "scrolled": true
   },
   "outputs": [],
   "source": [
    "\n",
    "# Initialize a list to hold the rows of tracking data\n",
    "btracks_data = []\n",
    "\n",
    "# Loop through each track in btracks and extract the ID, t, x, and y values\n",
    "for track in btracks:\n",
    "    track_id = track.ID\n",
    "    for t, y, x in zip(track.t, track.y, track.x):\n",
    "        # Append each observation as a row: ID, T (time), X, Y\n",
    "        btracks_data.append([track_id, t, x, y])\n",
    "\n",
    "# Convert the collected data into a DataFrame\n",
    "btracks_df = pd.DataFrame(btracks_data, columns=['ID', 'T', 'X', 'Y'])\n"
   ]
  },
  {
   "cell_type": "code",
   "execution_count": 80,
   "id": "b4dc4474-84a8-48c3-8781-b6af2c25618d",
   "metadata": {},
   "outputs": [],
   "source": [
    "btracks_df['Method'] = 'z0 btrack'"
   ]
  },
  {
   "cell_type": "code",
   "execution_count": 30,
   "id": "5e718367-552f-4867-b279-976863edd52c",
   "metadata": {},
   "outputs": [],
   "source": [
    "viewer.title = 'comparing btrack and ztrack'"
   ]
  },
  {
   "cell_type": "code",
   "execution_count": 5,
   "id": "ef9a4779-ec73-4bb5-aca5-4e5cc72790af",
   "metadata": {},
   "outputs": [
    {
     "data": {
      "text/plain": [
       "<Labels layer 'segmentation' at 0x7fb491c12260>"
      ]
     },
     "execution_count": 5,
     "metadata": {},
     "output_type": "execute_result"
    }
   ],
   "source": [
    "viewer = napari.Viewer(title = 'testing nd4 segmentation and tracking')\n",
    "\n",
    "\n",
    "viewer.add_labels(segmentation)"
   ]
  },
  {
   "cell_type": "code",
   "execution_count": 10,
   "id": "dbb05350-c389-49da-9447-4d67fa9549ee",
   "metadata": {},
   "outputs": [
    {
     "data": {
      "text/plain": [
       "<Image layer 'images' at 0x7fb4402eaa40>"
      ]
     },
     "execution_count": 10,
     "metadata": {},
     "output_type": "execute_result"
    },
    {
     "name": "stderr",
     "output_type": "stream",
     "text": [
      "INFO:trackastra.model.model:Loading model state from /home/dayn/.trackastra/.models/general_2d/model.pt\n"
     ]
    },
    {
     "name": "stdout",
     "output_type": "stream",
     "text": [
      "/home/dayn/.trackastra/.models/general_2d already downloaded, skipping.\n"
     ]
    },
    {
     "name": "stderr",
     "output_type": "stream",
     "text": [
      "INFO:trackastra.model.model_api:Using device cuda\n",
      "INFO:trackastra.model.model_api:Predicting weights for candidate graph\n"
     ]
    },
    {
     "name": "stdout",
     "output_type": "stream",
     "text": [
      "Tracking with mode greedy_nodiv...\n"
     ]
    },
    {
     "name": "stderr",
     "output_type": "stream",
     "text": [
      "INFO:trackastra.data.wrfeat:Extracting features from 154 detections\n",
      "INFO:trackastra.data.wrfeat:Using single process for feature extraction\n",
      "INFO:trackastra.model.model_api:Building windows\n",
      "INFO:trackastra.model.model_api:Predicting windows\n",
      "INFO:trackastra.model.model_api:Running greedy tracker\n",
      "INFO:trackastra.tracking.tracking:Build candidate graph with delta_t=1\n",
      "INFO:trackastra.tracking.tracking:Added 75704 vertices, 70043 edges                                                    \n",
      "INFO:trackastra.tracking.tracking:Running greedy tracker\n",
      "Greedily matched edges:  96%|███████████████████████████████████████████████  | 67251/70043 [00:01<00:00, 44485.61it/s]\n",
      "Converting graph to CTC results: 100%|████████████████████████████████████████████| 7061/7061 [00:14<00:00, 493.39it/s]\n",
      "                                                                                                                       \r"
     ]
    }
   ],
   "source": [
    "viewer.add_image(images,\n",
    "                 # channel_axis = 0, \n",
    "                 # colormap=['magenta', 'green'],\n",
    "                 # blending = 'additive', \n",
    "                 # contrast_limits=[[0, 1000], [0, 2400]]\n",
    "                )"
   ]
  },
  {
   "cell_type": "code",
   "execution_count": 21,
   "id": "1e8ffa04-44b6-47fc-b8d0-ae3e98ed0e1e",
   "metadata": {},
   "outputs": [],
   "source": [
    "from skimage import measure"
   ]
  },
  {
   "cell_type": "code",
   "execution_count": 25,
   "id": "3a05452a-803e-49f7-9265-33c2f8f423b1",
   "metadata": {},
   "outputs": [],
   "source": [
    "zlabelled = measure.label(zsegmentation[0])"
   ]
  },
  {
   "cell_type": "code",
   "execution_count": 26,
   "id": "43772c54-a3e0-4032-84dc-fbcb3a285a37",
   "metadata": {},
   "outputs": [
    {
     "data": {
      "text/plain": [
       "890"
      ]
     },
     "execution_count": 26,
     "metadata": {},
     "output_type": "execute_result"
    }
   ],
   "source": [
    "zlabelled.max()"
   ]
  },
  {
   "cell_type": "code",
   "execution_count": 28,
   "id": "e140a9fb-f9b5-4a6e-a32f-7b4b57f52842",
   "metadata": {},
   "outputs": [],
   "source": [
    "blabelled = measure.label(bsegmentation[0])"
   ]
  },
  {
   "cell_type": "code",
   "execution_count": 29,
   "id": "48b574af-52f9-46fd-808c-fe6da8a31bc9",
   "metadata": {},
   "outputs": [
    {
     "data": {
      "text/plain": [
       "704"
      ]
     },
     "execution_count": 29,
     "metadata": {},
     "output_type": "execute_result"
    }
   ],
   "source": [
    "blabelled.max()\n"
   ]
  },
  {
   "cell_type": "code",
   "execution_count": 32,
   "id": "c50550f8-73b5-4ad2-a529-0070589651a8",
   "metadata": {},
   "outputs": [],
   "source": [
    "from skimage import io\n",
    "from tqdm.auto import tqdm\n",
    "import pandas as pd"
   ]
  },
  {
   "cell_type": "code",
   "execution_count": 69,
   "id": "10ed6755-e64a-4111-bac2-6b32df25ff1d",
   "metadata": {},
   "outputs": [],
   "source": [
    "z0tracks = viewer.layers['tracks'].data"
   ]
  },
  {
   "cell_type": "code",
   "execution_count": 70,
   "id": "84ca79c9-b306-42d9-ba24-49b7a3ada497",
   "metadata": {},
   "outputs": [],
   "source": [
    "z0tracks_df = pd.DataFrame(tracks, columns=['ID', 'T', 'X', 'Y'])\n"
   ]
  },
  {
   "cell_type": "code",
   "execution_count": 71,
   "id": "a499fa92-87aa-4862-bbda-5983348d19a1",
   "metadata": {},
   "outputs": [],
   "source": [
    "z0tracks_df['Method'] = 'z0 trackastra'"
   ]
  },
  {
   "cell_type": "markdown",
   "id": "b7addff4-a3e9-4448-9088-8099f2cfbc77",
   "metadata": {},
   "source": [
    "# ztracks"
   ]
  },
  {
   "cell_type": "code",
   "execution_count": 17,
   "id": "9fb3884a-daac-4a6c-8f48-713cc3891be4",
   "metadata": {},
   "outputs": [
    {
     "data": {
      "application/vnd.jupyter.widget-view+json": {
       "model_id": "7989c2f684c24c9eae0a396999944290",
       "version_major": 2,
       "version_minor": 0
      },
      "text/plain": [
       "Loading images:   0%|          | 0/154 [00:00<?, ?it/s]"
      ]
     },
     "metadata": {},
     "output_type": "display_data"
    },
    {
     "name": "stdout",
     "output_type": "stream",
     "text": [
      "Loaded and stacked 154 images into a NumPy array with shape: (154, 6048, 6048)\n"
     ]
    }
   ],
   "source": [
    "# np.load('/mnt/SYNO/macrohet_syno/data/ND0004/labels/testing_trackastra/temp_cellpose_masks.npy')\n",
    "# Define the directory containing the segmentation images\n",
    "image_dir = '/mnt/SYNO/macrohet_syno/data/ND0004/labels/testing_trackastra/tracks/'\n",
    "\n",
    "# Get a sorted list of all image files (filter by extension if needed, e.g., '.tif', '.png')\n",
    "image_files = sorted([f for f in os.listdir(image_dir) if f.endswith(('.tif', '.png'))])\n",
    "\n",
    "# Load the images and stack them into a 3D NumPy array (time, height, width)\n",
    "zsegmentation = np.stack([io.imread(os.path.join(image_dir, fn)) for fn in tqdm(image_files, desc=\"Loading images\")])\n",
    "\n",
    "print(f\"Loaded and stacked {zsegmentation.shape[0]} images into a NumPy array with shape: {zsegmentation.shape}\")"
   ]
  },
  {
   "cell_type": "code",
   "execution_count": 63,
   "id": "02870c84-902f-48c2-a918-c6cd5c297b36",
   "metadata": {},
   "outputs": [],
   "source": [
    "z3tracks_df = pd.read_csv('/mnt/SYNO/macrohet_syno/data/ND0004/labels/testing_trackastra/ztracks.csv')"
   ]
  },
  {
   "cell_type": "code",
   "execution_count": 64,
   "id": "a8216fd4-dd81-4770-a961-de67140cd8cb",
   "metadata": {},
   "outputs": [],
   "source": [
    "z3tracks_df['Method'] = 'z3 trackastra'"
   ]
  },
  {
   "cell_type": "code",
   "execution_count": 65,
   "id": "a4c7ac90-a758-45c6-a0ef-f426ee5cecaa",
   "metadata": {},
   "outputs": [],
   "source": [
    "del z3tracks_df['Unnamed: 0']"
   ]
  },
  {
   "cell_type": "code",
   "execution_count": 81,
   "id": "d0957432-59de-47b8-adf0-0ca79f8dbd55",
   "metadata": {},
   "outputs": [
    {
     "data": {
      "text/html": [
       "<div>\n",
       "<style scoped>\n",
       "    .dataframe tbody tr th:only-of-type {\n",
       "        vertical-align: middle;\n",
       "    }\n",
       "\n",
       "    .dataframe tbody tr th {\n",
       "        vertical-align: top;\n",
       "    }\n",
       "\n",
       "    .dataframe thead th {\n",
       "        text-align: right;\n",
       "    }\n",
       "</style>\n",
       "<table border=\"1\" class=\"dataframe\">\n",
       "  <thead>\n",
       "    <tr style=\"text-align: right;\">\n",
       "      <th></th>\n",
       "      <th>ID</th>\n",
       "      <th>T</th>\n",
       "      <th>X</th>\n",
       "      <th>Y</th>\n",
       "      <th>Method</th>\n",
       "    </tr>\n",
       "  </thead>\n",
       "  <tbody>\n",
       "    <tr>\n",
       "      <th>0</th>\n",
       "      <td>449</td>\n",
       "      <td>0</td>\n",
       "      <td>879.097290</td>\n",
       "      <td>8.900498</td>\n",
       "      <td>z0 btrack</td>\n",
       "    </tr>\n",
       "    <tr>\n",
       "      <th>1</th>\n",
       "      <td>449</td>\n",
       "      <td>1</td>\n",
       "      <td>865.449463</td>\n",
       "      <td>9.161473</td>\n",
       "      <td>z0 btrack</td>\n",
       "    </tr>\n",
       "    <tr>\n",
       "      <th>2</th>\n",
       "      <td>449</td>\n",
       "      <td>2</td>\n",
       "      <td>864.838135</td>\n",
       "      <td>12.094993</td>\n",
       "      <td>z0 btrack</td>\n",
       "    </tr>\n",
       "    <tr>\n",
       "      <th>3</th>\n",
       "      <td>449</td>\n",
       "      <td>3</td>\n",
       "      <td>866.300598</td>\n",
       "      <td>7.906256</td>\n",
       "      <td>z0 btrack</td>\n",
       "    </tr>\n",
       "    <tr>\n",
       "      <th>4</th>\n",
       "      <td>449</td>\n",
       "      <td>4</td>\n",
       "      <td>862.710571</td>\n",
       "      <td>7.761329</td>\n",
       "      <td>z0 btrack</td>\n",
       "    </tr>\n",
       "    <tr>\n",
       "      <th>...</th>\n",
       "      <td>...</td>\n",
       "      <td>...</td>\n",
       "      <td>...</td>\n",
       "      <td>...</td>\n",
       "      <td>...</td>\n",
       "    </tr>\n",
       "    <tr>\n",
       "      <th>89067</th>\n",
       "      <td>6270</td>\n",
       "      <td>153</td>\n",
       "      <td>756.300659</td>\n",
       "      <td>1023.587708</td>\n",
       "      <td>z0 btrack</td>\n",
       "    </tr>\n",
       "    <tr>\n",
       "      <th>89068</th>\n",
       "      <td>6269</td>\n",
       "      <td>153</td>\n",
       "      <td>214.844070</td>\n",
       "      <td>962.912354</td>\n",
       "      <td>z0 btrack</td>\n",
       "    </tr>\n",
       "    <tr>\n",
       "      <th>89069</th>\n",
       "      <td>6267</td>\n",
       "      <td>153</td>\n",
       "      <td>80.262039</td>\n",
       "      <td>1190.712402</td>\n",
       "      <td>z0 btrack</td>\n",
       "    </tr>\n",
       "    <tr>\n",
       "      <th>89070</th>\n",
       "      <td>6266</td>\n",
       "      <td>153</td>\n",
       "      <td>436.238312</td>\n",
       "      <td>1116.003540</td>\n",
       "      <td>z0 btrack</td>\n",
       "    </tr>\n",
       "    <tr>\n",
       "      <th>89071</th>\n",
       "      <td>6264</td>\n",
       "      <td>153</td>\n",
       "      <td>19.141851</td>\n",
       "      <td>768.960266</td>\n",
       "      <td>z0 btrack</td>\n",
       "    </tr>\n",
       "  </tbody>\n",
       "</table>\n",
       "<p>89072 rows × 5 columns</p>\n",
       "</div>"
      ],
      "text/plain": [
       "         ID    T           X            Y     Method\n",
       "0       449    0  879.097290     8.900498  z0 btrack\n",
       "1       449    1  865.449463     9.161473  z0 btrack\n",
       "2       449    2  864.838135    12.094993  z0 btrack\n",
       "3       449    3  866.300598     7.906256  z0 btrack\n",
       "4       449    4  862.710571     7.761329  z0 btrack\n",
       "...     ...  ...         ...          ...        ...\n",
       "89067  6270  153  756.300659  1023.587708  z0 btrack\n",
       "89068  6269  153  214.844070   962.912354  z0 btrack\n",
       "89069  6267  153   80.262039  1190.712402  z0 btrack\n",
       "89070  6266  153  436.238312  1116.003540  z0 btrack\n",
       "89071  6264  153   19.141851   768.960266  z0 btrack\n",
       "\n",
       "[89072 rows x 5 columns]"
      ]
     },
     "execution_count": 81,
     "metadata": {},
     "output_type": "execute_result"
    }
   ],
   "source": [
    "btracks_df"
   ]
  },
  {
   "cell_type": "code",
   "execution_count": 72,
   "id": "0298176f-1b06-4b8e-b48e-adb4533e3296",
   "metadata": {},
   "outputs": [
    {
     "data": {
      "text/html": [
       "<div>\n",
       "<style scoped>\n",
       "    .dataframe tbody tr th:only-of-type {\n",
       "        vertical-align: middle;\n",
       "    }\n",
       "\n",
       "    .dataframe tbody tr th {\n",
       "        vertical-align: top;\n",
       "    }\n",
       "\n",
       "    .dataframe thead th {\n",
       "        text-align: right;\n",
       "    }\n",
       "</style>\n",
       "<table border=\"1\" class=\"dataframe\">\n",
       "  <thead>\n",
       "    <tr style=\"text-align: right;\">\n",
       "      <th></th>\n",
       "      <th>ID</th>\n",
       "      <th>T</th>\n",
       "      <th>X</th>\n",
       "      <th>Y</th>\n",
       "      <th>Method</th>\n",
       "    </tr>\n",
       "  </thead>\n",
       "  <tbody>\n",
       "    <tr>\n",
       "      <th>0</th>\n",
       "      <td>1.0</td>\n",
       "      <td>0.0</td>\n",
       "      <td>2910.059936</td>\n",
       "      <td>1085.671462</td>\n",
       "      <td>z0 trackastra</td>\n",
       "    </tr>\n",
       "    <tr>\n",
       "      <th>1</th>\n",
       "      <td>1.0</td>\n",
       "      <td>1.0</td>\n",
       "      <td>2896.990119</td>\n",
       "      <td>1073.767899</td>\n",
       "      <td>z0 trackastra</td>\n",
       "    </tr>\n",
       "    <tr>\n",
       "      <th>2</th>\n",
       "      <td>1.0</td>\n",
       "      <td>2.0</td>\n",
       "      <td>2907.020262</td>\n",
       "      <td>1001.881129</td>\n",
       "      <td>z0 trackastra</td>\n",
       "    </tr>\n",
       "    <tr>\n",
       "      <th>3</th>\n",
       "      <td>1.0</td>\n",
       "      <td>3.0</td>\n",
       "      <td>2884.775397</td>\n",
       "      <td>1009.194640</td>\n",
       "      <td>z0 trackastra</td>\n",
       "    </tr>\n",
       "    <tr>\n",
       "      <th>4</th>\n",
       "      <td>1.0</td>\n",
       "      <td>4.0</td>\n",
       "      <td>2913.683490</td>\n",
       "      <td>980.473298</td>\n",
       "      <td>z0 trackastra</td>\n",
       "    </tr>\n",
       "    <tr>\n",
       "      <th>...</th>\n",
       "      <td>...</td>\n",
       "      <td>...</td>\n",
       "      <td>...</td>\n",
       "      <td>...</td>\n",
       "      <td>...</td>\n",
       "    </tr>\n",
       "    <tr>\n",
       "      <th>71457</th>\n",
       "      <td>7059.0</td>\n",
       "      <td>153.0</td>\n",
       "      <td>2789.689238</td>\n",
       "      <td>5911.146153</td>\n",
       "      <td>z0 trackastra</td>\n",
       "    </tr>\n",
       "    <tr>\n",
       "      <th>71458</th>\n",
       "      <td>7060.0</td>\n",
       "      <td>152.0</td>\n",
       "      <td>5465.478275</td>\n",
       "      <td>931.314339</td>\n",
       "      <td>z0 trackastra</td>\n",
       "    </tr>\n",
       "    <tr>\n",
       "      <th>71459</th>\n",
       "      <td>7060.0</td>\n",
       "      <td>153.0</td>\n",
       "      <td>5483.275428</td>\n",
       "      <td>936.344285</td>\n",
       "      <td>z0 trackastra</td>\n",
       "    </tr>\n",
       "    <tr>\n",
       "      <th>71460</th>\n",
       "      <td>7061.0</td>\n",
       "      <td>152.0</td>\n",
       "      <td>5600.064681</td>\n",
       "      <td>187.344340</td>\n",
       "      <td>z0 trackastra</td>\n",
       "    </tr>\n",
       "    <tr>\n",
       "      <th>71461</th>\n",
       "      <td>7061.0</td>\n",
       "      <td>153.0</td>\n",
       "      <td>5650.620092</td>\n",
       "      <td>161.905407</td>\n",
       "      <td>z0 trackastra</td>\n",
       "    </tr>\n",
       "  </tbody>\n",
       "</table>\n",
       "<p>71462 rows × 5 columns</p>\n",
       "</div>"
      ],
      "text/plain": [
       "           ID      T            X            Y         Method\n",
       "0         1.0    0.0  2910.059936  1085.671462  z0 trackastra\n",
       "1         1.0    1.0  2896.990119  1073.767899  z0 trackastra\n",
       "2         1.0    2.0  2907.020262  1001.881129  z0 trackastra\n",
       "3         1.0    3.0  2884.775397  1009.194640  z0 trackastra\n",
       "4         1.0    4.0  2913.683490   980.473298  z0 trackastra\n",
       "...       ...    ...          ...          ...            ...\n",
       "71457  7059.0  153.0  2789.689238  5911.146153  z0 trackastra\n",
       "71458  7060.0  152.0  5465.478275   931.314339  z0 trackastra\n",
       "71459  7060.0  153.0  5483.275428   936.344285  z0 trackastra\n",
       "71460  7061.0  152.0  5600.064681   187.344340  z0 trackastra\n",
       "71461  7061.0  153.0  5650.620092   161.905407  z0 trackastra\n",
       "\n",
       "[71462 rows x 5 columns]"
      ]
     },
     "execution_count": 72,
     "metadata": {},
     "output_type": "execute_result"
    }
   ],
   "source": [
    "z0tracks_df"
   ]
  },
  {
   "cell_type": "code",
   "execution_count": 68,
   "id": "7af8c13f-ee58-4895-9c93-a8c7d949debd",
   "metadata": {},
   "outputs": [
    {
     "data": {
      "text/html": [
       "<div>\n",
       "<style scoped>\n",
       "    .dataframe tbody tr th:only-of-type {\n",
       "        vertical-align: middle;\n",
       "    }\n",
       "\n",
       "    .dataframe tbody tr th {\n",
       "        vertical-align: top;\n",
       "    }\n",
       "\n",
       "    .dataframe thead th {\n",
       "        text-align: right;\n",
       "    }\n",
       "</style>\n",
       "<table border=\"1\" class=\"dataframe\">\n",
       "  <thead>\n",
       "    <tr style=\"text-align: right;\">\n",
       "      <th></th>\n",
       "      <th>ID</th>\n",
       "      <th>T</th>\n",
       "      <th>X</th>\n",
       "      <th>Y</th>\n",
       "      <th>Method</th>\n",
       "    </tr>\n",
       "  </thead>\n",
       "  <tbody>\n",
       "    <tr>\n",
       "      <th>0</th>\n",
       "      <td>1.0</td>\n",
       "      <td>0.0</td>\n",
       "      <td>5634.992622</td>\n",
       "      <td>5981.603725</td>\n",
       "      <td>z3 trackastra</td>\n",
       "    </tr>\n",
       "    <tr>\n",
       "      <th>1</th>\n",
       "      <td>1.0</td>\n",
       "      <td>1.0</td>\n",
       "      <td>5625.366020</td>\n",
       "      <td>5969.172972</td>\n",
       "      <td>z3 trackastra</td>\n",
       "    </tr>\n",
       "    <tr>\n",
       "      <th>2</th>\n",
       "      <td>1.0</td>\n",
       "      <td>2.0</td>\n",
       "      <td>5612.635863</td>\n",
       "      <td>5952.626192</td>\n",
       "      <td>z3 trackastra</td>\n",
       "    </tr>\n",
       "    <tr>\n",
       "      <th>3</th>\n",
       "      <td>1.0</td>\n",
       "      <td>3.0</td>\n",
       "      <td>5603.629704</td>\n",
       "      <td>5972.794765</td>\n",
       "      <td>z3 trackastra</td>\n",
       "    </tr>\n",
       "    <tr>\n",
       "      <th>4</th>\n",
       "      <td>1.0</td>\n",
       "      <td>4.0</td>\n",
       "      <td>5610.096183</td>\n",
       "      <td>6003.386241</td>\n",
       "      <td>z3 trackastra</td>\n",
       "    </tr>\n",
       "    <tr>\n",
       "      <th>...</th>\n",
       "      <td>...</td>\n",
       "      <td>...</td>\n",
       "      <td>...</td>\n",
       "      <td>...</td>\n",
       "      <td>...</td>\n",
       "    </tr>\n",
       "    <tr>\n",
       "      <th>126130</th>\n",
       "      <td>6977.0</td>\n",
       "      <td>153.0</td>\n",
       "      <td>2615.379869</td>\n",
       "      <td>4551.932644</td>\n",
       "      <td>z3 trackastra</td>\n",
       "    </tr>\n",
       "    <tr>\n",
       "      <th>126131</th>\n",
       "      <td>6978.0</td>\n",
       "      <td>152.0</td>\n",
       "      <td>5031.533171</td>\n",
       "      <td>5312.234936</td>\n",
       "      <td>z3 trackastra</td>\n",
       "    </tr>\n",
       "    <tr>\n",
       "      <th>126132</th>\n",
       "      <td>6978.0</td>\n",
       "      <td>153.0</td>\n",
       "      <td>5034.169569</td>\n",
       "      <td>5254.250189</td>\n",
       "      <td>z3 trackastra</td>\n",
       "    </tr>\n",
       "    <tr>\n",
       "      <th>126133</th>\n",
       "      <td>6979.0</td>\n",
       "      <td>152.0</td>\n",
       "      <td>5296.441637</td>\n",
       "      <td>623.781633</td>\n",
       "      <td>z3 trackastra</td>\n",
       "    </tr>\n",
       "    <tr>\n",
       "      <th>126134</th>\n",
       "      <td>6979.0</td>\n",
       "      <td>153.0</td>\n",
       "      <td>5323.092059</td>\n",
       "      <td>678.151989</td>\n",
       "      <td>z3 trackastra</td>\n",
       "    </tr>\n",
       "  </tbody>\n",
       "</table>\n",
       "<p>126135 rows × 5 columns</p>\n",
       "</div>"
      ],
      "text/plain": [
       "            ID      T            X            Y         Method\n",
       "0          1.0    0.0  5634.992622  5981.603725  z3 trackastra\n",
       "1          1.0    1.0  5625.366020  5969.172972  z3 trackastra\n",
       "2          1.0    2.0  5612.635863  5952.626192  z3 trackastra\n",
       "3          1.0    3.0  5603.629704  5972.794765  z3 trackastra\n",
       "4          1.0    4.0  5610.096183  6003.386241  z3 trackastra\n",
       "...        ...    ...          ...          ...            ...\n",
       "126130  6977.0  153.0  2615.379869  4551.932644  z3 trackastra\n",
       "126131  6978.0  152.0  5031.533171  5312.234936  z3 trackastra\n",
       "126132  6978.0  153.0  5034.169569  5254.250189  z3 trackastra\n",
       "126133  6979.0  152.0  5296.441637   623.781633  z3 trackastra\n",
       "126134  6979.0  153.0  5323.092059   678.151989  z3 trackastra\n",
       "\n",
       "[126135 rows x 5 columns]"
      ]
     },
     "execution_count": 68,
     "metadata": {},
     "output_type": "execute_result"
    }
   ],
   "source": [
    "z3tracks_df"
   ]
  },
  {
   "cell_type": "code",
   "execution_count": 82,
   "id": "c0f2c43d-e27e-45e6-a09d-d34ad27c1de1",
   "metadata": {},
   "outputs": [],
   "source": [
    "tracks_df = pd.concat([btracks_df, z0tracks_df, z3tracks_df])"
   ]
  },
  {
   "cell_type": "code",
   "execution_count": 83,
   "id": "7b3504c9-5145-4bb5-843d-e98b32d6b941",
   "metadata": {},
   "outputs": [
    {
     "data": {
      "text/html": [
       "<div>\n",
       "<style scoped>\n",
       "    .dataframe tbody tr th:only-of-type {\n",
       "        vertical-align: middle;\n",
       "    }\n",
       "\n",
       "    .dataframe tbody tr th {\n",
       "        vertical-align: top;\n",
       "    }\n",
       "\n",
       "    .dataframe thead th {\n",
       "        text-align: right;\n",
       "    }\n",
       "</style>\n",
       "<table border=\"1\" class=\"dataframe\">\n",
       "  <thead>\n",
       "    <tr style=\"text-align: right;\">\n",
       "      <th></th>\n",
       "      <th>ID</th>\n",
       "      <th>Method</th>\n",
       "      <th>Track Length</th>\n",
       "    </tr>\n",
       "  </thead>\n",
       "  <tbody>\n",
       "    <tr>\n",
       "      <th>0</th>\n",
       "      <td>1.0</td>\n",
       "      <td>z0 trackastra</td>\n",
       "      <td>12</td>\n",
       "    </tr>\n",
       "    <tr>\n",
       "      <th>1</th>\n",
       "      <td>1.0</td>\n",
       "      <td>z0pose btrack</td>\n",
       "      <td>8</td>\n",
       "    </tr>\n",
       "    <tr>\n",
       "      <th>2</th>\n",
       "      <td>1.0</td>\n",
       "      <td>z3 trackastra</td>\n",
       "      <td>10</td>\n",
       "    </tr>\n",
       "    <tr>\n",
       "      <th>3</th>\n",
       "      <td>2.0</td>\n",
       "      <td>z0 trackastra</td>\n",
       "      <td>5</td>\n",
       "    </tr>\n",
       "    <tr>\n",
       "      <th>4</th>\n",
       "      <td>2.0</td>\n",
       "      <td>z0pose btrack</td>\n",
       "      <td>59</td>\n",
       "    </tr>\n",
       "    <tr>\n",
       "      <th>...</th>\n",
       "      <td>...</td>\n",
       "      <td>...</td>\n",
       "      <td>...</td>\n",
       "    </tr>\n",
       "    <tr>\n",
       "      <th>18170</th>\n",
       "      <td>7057.0</td>\n",
       "      <td>z0 trackastra</td>\n",
       "      <td>2</td>\n",
       "    </tr>\n",
       "    <tr>\n",
       "      <th>18171</th>\n",
       "      <td>7058.0</td>\n",
       "      <td>z0 trackastra</td>\n",
       "      <td>2</td>\n",
       "    </tr>\n",
       "    <tr>\n",
       "      <th>18172</th>\n",
       "      <td>7059.0</td>\n",
       "      <td>z0 trackastra</td>\n",
       "      <td>2</td>\n",
       "    </tr>\n",
       "    <tr>\n",
       "      <th>18173</th>\n",
       "      <td>7060.0</td>\n",
       "      <td>z0 trackastra</td>\n",
       "      <td>2</td>\n",
       "    </tr>\n",
       "    <tr>\n",
       "      <th>18174</th>\n",
       "      <td>7061.0</td>\n",
       "      <td>z0 trackastra</td>\n",
       "      <td>2</td>\n",
       "    </tr>\n",
       "  </tbody>\n",
       "</table>\n",
       "<p>18175 rows × 3 columns</p>\n",
       "</div>"
      ],
      "text/plain": [
       "           ID         Method  Track Length\n",
       "0         1.0  z0 trackastra            12\n",
       "1         1.0  z0pose btrack             8\n",
       "2         1.0  z3 trackastra            10\n",
       "3         2.0  z0 trackastra             5\n",
       "4         2.0  z0pose btrack            59\n",
       "...       ...            ...           ...\n",
       "18170  7057.0  z0 trackastra             2\n",
       "18171  7058.0  z0 trackastra             2\n",
       "18172  7059.0  z0 trackastra             2\n",
       "18173  7060.0  z0 trackastra             2\n",
       "18174  7061.0  z0 trackastra             2\n",
       "\n",
       "[18175 rows x 3 columns]"
      ]
     },
     "execution_count": 83,
     "metadata": {},
     "output_type": "execute_result"
    }
   ],
   "source": [
    "# Step 1: Calculate track length for each track (based on the number of unique time points per ID)\n",
    "track_lengths = tracks_df.groupby(['ID', 'Method'])['T'].count().reset_index(name='Track Length')\n",
    "\n",
    "track_lengths"
   ]
  },
  {
   "cell_type": "code",
   "execution_count": 84,
   "id": "5f6a8969-5145-4049-93cb-bfc4af404160",
   "metadata": {},
   "outputs": [
    {
     "data": {
      "text/plain": [
       "<Axes: xlabel='Track Length', ylabel='Count'>"
      ]
     },
     "execution_count": 84,
     "metadata": {},
     "output_type": "execute_result"
    },
    {
     "data": {
      "image/png": "[encoded data removed]",
      "text/plain": [
       "<Figure size 640x480 with 1 Axes>"
      ]
     },
     "metadata": {},
     "output_type": "display_data"
    }
   ],
   "source": [
    "sns.histplot(data = track_lengths, x = 'Track Length', hue = 'Method')"
   ]
  },
  {
   "cell_type": "code",
   "execution_count": 95,
   "id": "094ba209-c41b-4f54-8c2c-2ed465c51dcf",
   "metadata": {},
   "outputs": [
    {
     "data": {
      "text/plain": [
       "<Axes: xlabel='Track Length', ylabel='Count'>"
      ]
     },
     "execution_count": 95,
     "metadata": {},
     "output_type": "execute_result"
    },
    {
     "data": {
      "image/png": "[encoded data removed]",
      "text/plain": [
       "<Figure size 640x480 with 1 Axes>"
      ]
     },
     "metadata": {},
     "output_type": "display_data"
    }
   ],
   "source": [
    "data = track_lengths[track_lengths['Track Length'] > 75]\n",
    "sns.histplot(data = data, x = 'Track Length', hue = 'Method', multiple = 'stack')"
   ]
  },
  {
   "cell_type": "code",
   "execution_count": 94,
   "id": "91ff3cd1-780f-49e3-a271-2a286c99d66c",
   "metadata": {},
   "outputs": [
    {
     "data": {
      "text/html": [
       "<div>\n",
       "<style scoped>\n",
       "    .dataframe tbody tr th:only-of-type {\n",
       "        vertical-align: middle;\n",
       "    }\n",
       "\n",
       "    .dataframe tbody tr th {\n",
       "        vertical-align: top;\n",
       "    }\n",
       "\n",
       "    .dataframe thead th {\n",
       "        text-align: right;\n",
       "    }\n",
       "</style>\n",
       "<table border=\"1\" class=\"dataframe\">\n",
       "  <thead>\n",
       "    <tr style=\"text-align: right;\">\n",
       "      <th></th>\n",
       "      <th>ID</th>\n",
       "      <th>T</th>\n",
       "      <th>X</th>\n",
       "      <th>Y</th>\n",
       "      <th>Method</th>\n",
       "    </tr>\n",
       "  </thead>\n",
       "  <tbody>\n",
       "    <tr>\n",
       "      <th>0</th>\n",
       "      <td>1.0</td>\n",
       "      <td>0.0</td>\n",
       "      <td>5634.992622</td>\n",
       "      <td>5981.603725</td>\n",
       "      <td>z3 trackastra</td>\n",
       "    </tr>\n",
       "    <tr>\n",
       "      <th>1</th>\n",
       "      <td>1.0</td>\n",
       "      <td>1.0</td>\n",
       "      <td>5625.366020</td>\n",
       "      <td>5969.172972</td>\n",
       "      <td>z3 trackastra</td>\n",
       "    </tr>\n",
       "    <tr>\n",
       "      <th>2</th>\n",
       "      <td>1.0</td>\n",
       "      <td>2.0</td>\n",
       "      <td>5612.635863</td>\n",
       "      <td>5952.626192</td>\n",
       "      <td>z3 trackastra</td>\n",
       "    </tr>\n",
       "    <tr>\n",
       "      <th>3</th>\n",
       "      <td>1.0</td>\n",
       "      <td>3.0</td>\n",
       "      <td>5603.629704</td>\n",
       "      <td>5972.794765</td>\n",
       "      <td>z3 trackastra</td>\n",
       "    </tr>\n",
       "    <tr>\n",
       "      <th>4</th>\n",
       "      <td>1.0</td>\n",
       "      <td>4.0</td>\n",
       "      <td>5610.096183</td>\n",
       "      <td>6003.386241</td>\n",
       "      <td>z3 trackastra</td>\n",
       "    </tr>\n",
       "    <tr>\n",
       "      <th>...</th>\n",
       "      <td>...</td>\n",
       "      <td>...</td>\n",
       "      <td>...</td>\n",
       "      <td>...</td>\n",
       "      <td>...</td>\n",
       "    </tr>\n",
       "    <tr>\n",
       "      <th>126130</th>\n",
       "      <td>6977.0</td>\n",
       "      <td>153.0</td>\n",
       "      <td>2615.379869</td>\n",
       "      <td>4551.932644</td>\n",
       "      <td>z3 trackastra</td>\n",
       "    </tr>\n",
       "    <tr>\n",
       "      <th>126131</th>\n",
       "      <td>6978.0</td>\n",
       "      <td>152.0</td>\n",
       "      <td>5031.533171</td>\n",
       "      <td>5312.234936</td>\n",
       "      <td>z3 trackastra</td>\n",
       "    </tr>\n",
       "    <tr>\n",
       "      <th>126132</th>\n",
       "      <td>6978.0</td>\n",
       "      <td>153.0</td>\n",
       "      <td>5034.169569</td>\n",
       "      <td>5254.250189</td>\n",
       "      <td>z3 trackastra</td>\n",
       "    </tr>\n",
       "    <tr>\n",
       "      <th>126133</th>\n",
       "      <td>6979.0</td>\n",
       "      <td>152.0</td>\n",
       "      <td>5296.441637</td>\n",
       "      <td>623.781633</td>\n",
       "      <td>z3 trackastra</td>\n",
       "    </tr>\n",
       "    <tr>\n",
       "      <th>126134</th>\n",
       "      <td>6979.0</td>\n",
       "      <td>153.0</td>\n",
       "      <td>5323.092059</td>\n",
       "      <td>678.151989</td>\n",
       "      <td>z3 trackastra</td>\n",
       "    </tr>\n",
       "  </tbody>\n",
       "</table>\n",
       "<p>126135 rows × 5 columns</p>\n",
       "</div>"
      ],
      "text/plain": [
       "            ID      T            X            Y         Method\n",
       "0          1.0    0.0  5634.992622  5981.603725  z3 trackastra\n",
       "1          1.0    1.0  5625.366020  5969.172972  z3 trackastra\n",
       "2          1.0    2.0  5612.635863  5952.626192  z3 trackastra\n",
       "3          1.0    3.0  5603.629704  5972.794765  z3 trackastra\n",
       "4          1.0    4.0  5610.096183  6003.386241  z3 trackastra\n",
       "...        ...    ...          ...          ...            ...\n",
       "126130  6977.0  153.0  2615.379869  4551.932644  z3 trackastra\n",
       "126131  6978.0  152.0  5031.533171  5312.234936  z3 trackastra\n",
       "126132  6978.0  153.0  5034.169569  5254.250189  z3 trackastra\n",
       "126133  6979.0  152.0  5296.441637   623.781633  z3 trackastra\n",
       "126134  6979.0  153.0  5323.092059   678.151989  z3 trackastra\n",
       "\n",
       "[126135 rows x 5 columns]"
      ]
     },
     "execution_count": 94,
     "metadata": {},
     "output_type": "execute_result"
    }
   ],
   "source": [
    "z3tracks_df"
   ]
  },
  {
   "cell_type": "code",
   "execution_count": 93,
   "id": "6ec450cf-3350-452c-bc8c-616047d710d0",
   "metadata": {},
   "outputs": [
    {
     "data": {
      "text/plain": [
       "<Tracks layer 'z3_tracks' at 0x7fb44a0636d0>"
      ]
     },
     "execution_count": 93,
     "metadata": {},
     "output_type": "execute_result"
    }
   ],
   "source": [
    "viewer.add_tracks(z3tracks_df[['ID', 'T', 'X', 'Y']].values, name = 'z3_tracks')"
   ]
  },
  {
   "cell_type": "code",
   "execution_count": 122,
   "id": "7bb95306-af1b-4e59-b77b-954c4af98bcc",
   "metadata": {},
   "outputs": [],
   "source": [
    "filtered_tracks = z3tracks_df[z3tracks_df.groupby('ID')['T'].transform('count') >= 130]\n"
   ]
  },
  {
   "cell_type": "code",
   "execution_count": 123,
   "id": "313e70b3-d208-4030-84ed-e0e1d5abc360",
   "metadata": {},
   "outputs": [
    {
     "data": {
      "text/plain": [
       "162"
      ]
     },
     "execution_count": 123,
     "metadata": {},
     "output_type": "execute_result"
    }
   ],
   "source": [
    "len(filtered_tracks.ID.unique())"
   ]
  },
  {
   "cell_type": "code",
   "execution_count": 124,
   "id": "06d04329-62d6-45c3-adb8-612b23e95843",
   "metadata": {},
   "outputs": [
    {
     "data": {
      "text/plain": [
       "<Tracks layer 'filtered at 130 frames' at 0x7fb481b61510>"
      ]
     },
     "execution_count": 124,
     "metadata": {},
     "output_type": "execute_result"
    }
   ],
   "source": [
    "viewer.add_tracks(filtered_tracks[['ID', 'T', 'X', 'Y']].values, name = 'filtered at 130 frames')"
   ]
  },
  {
   "cell_type": "markdown",
   "id": "1de329c9-c9f2-4e4a-8e67-72bcf151ecdb",
   "metadata": {},
   "source": [
    "### ultrafilter"
   ]
  },
  {
   "cell_type": "code",
   "execution_count": 111,
   "id": "d214e14e-6de6-453c-931e-051fbefcfc51",
   "metadata": {},
   "outputs": [],
   "source": [
    "# Imposing both lower and upper bounds on track length\n",
    "ultrafiltered_tracks = z3tracks_df[(z3tracks_df.groupby('ID')['T'].transform('count') >= 75) & \n",
    "                                   (z3tracks_df.groupby('ID')['T'].transform('count') <= 130)]\n"
   ]
  },
  {
   "cell_type": "code",
   "execution_count": 113,
   "id": "bdb4ec12-6597-4e28-b4db-3549c48cb780",
   "metadata": {},
   "outputs": [
    {
     "data": {
      "text/plain": [
       "267"
      ]
     },
     "execution_count": 113,
     "metadata": {},
     "output_type": "execute_result"
    }
   ],
   "source": [
    "len(ultrafiltered_tracks.ID.unique())"
   ]
  },
  {
   "cell_type": "code",
   "execution_count": 115,
   "id": "be86bd97-982b-49fd-a2ad-ebf408991c77",
   "metadata": {},
   "outputs": [
    {
     "data": {
      "text/plain": [
       "<Tracks layer 'ultrafiltered [1]' at 0x7fb449bf1420>"
      ]
     },
     "execution_count": 115,
     "metadata": {},
     "output_type": "execute_result"
    }
   ],
   "source": [
    "viewer.add_tracks(ultrafiltered_tracks[['ID', 'T', 'X', 'Y']].values, name = 'ultrafiltered')"
   ]
  },
  {
   "cell_type": "markdown",
   "id": "f60087b0-932e-4683-876c-9d5c727e103d",
   "metadata": {},
   "source": [
    "# doubling times from trackastra\n",
    "\n",
    "need to unite trackastra tracks with segmentation from cellpose Z0"
   ]
  },
  {
   "cell_type": "code",
   "execution_count": 125,
   "id": "15f28e5a-0711-409d-bf52-b9d3164e7cbd",
   "metadata": {},
   "outputs": [],
   "source": [
    "tracks = z3tracks_df[z3tracks_df.groupby('ID')['T'].transform('count') >= 130]"
   ]
  },
  {
   "cell_type": "code",
   "execution_count": 127,
   "id": "dfeb9d9c-8621-4429-a059-88d499af5797",
   "metadata": {},
   "outputs": [
    {
     "name": "stderr",
     "output_type": "stream",
     "text": [
      "INFO:OpenGL.acceleratesupport:No OpenGL_accelerate module loaded: No module named 'OpenGL_accelerate'\n"
     ]
    }
   ],
   "source": [
    "viewer.layers['filtered at 130 frames'].scale = (10,1,1)"
   ]
  },
  {
   "cell_type": "code",
   "execution_count": 126,
   "id": "5795ff5e-5e65-42a7-9a1a-74d3049ed9b3",
   "metadata": {},
   "outputs": [
    {
     "data": {
      "text/html": [
       "<div>\n",
       "<style scoped>\n",
       "    .dataframe tbody tr th:only-of-type {\n",
       "        vertical-align: middle;\n",
       "    }\n",
       "\n",
       "    .dataframe tbody tr th {\n",
       "        vertical-align: top;\n",
       "    }\n",
       "\n",
       "    .dataframe thead th {\n",
       "        text-align: right;\n",
       "    }\n",
       "</style>\n",
       "<table border=\"1\" class=\"dataframe\">\n",
       "  <thead>\n",
       "    <tr style=\"text-align: right;\">\n",
       "      <th></th>\n",
       "      <th>ID</th>\n",
       "      <th>T</th>\n",
       "      <th>X</th>\n",
       "      <th>Y</th>\n",
       "      <th>Method</th>\n",
       "    </tr>\n",
       "  </thead>\n",
       "  <tbody>\n",
       "    <tr>\n",
       "      <th>245</th>\n",
       "      <td>8.0</td>\n",
       "      <td>0.0</td>\n",
       "      <td>1316.925443</td>\n",
       "      <td>1308.419429</td>\n",
       "      <td>z3 trackastra</td>\n",
       "    </tr>\n",
       "    <tr>\n",
       "      <th>246</th>\n",
       "      <td>8.0</td>\n",
       "      <td>1.0</td>\n",
       "      <td>1296.484605</td>\n",
       "      <td>1236.577458</td>\n",
       "      <td>z3 trackastra</td>\n",
       "    </tr>\n",
       "    <tr>\n",
       "      <th>247</th>\n",
       "      <td>8.0</td>\n",
       "      <td>2.0</td>\n",
       "      <td>1301.557163</td>\n",
       "      <td>1220.274875</td>\n",
       "      <td>z3 trackastra</td>\n",
       "    </tr>\n",
       "    <tr>\n",
       "      <th>248</th>\n",
       "      <td>8.0</td>\n",
       "      <td>3.0</td>\n",
       "      <td>1290.174829</td>\n",
       "      <td>1210.652110</td>\n",
       "      <td>z3 trackastra</td>\n",
       "    </tr>\n",
       "    <tr>\n",
       "      <th>249</th>\n",
       "      <td>8.0</td>\n",
       "      <td>4.0</td>\n",
       "      <td>1330.836471</td>\n",
       "      <td>1218.764602</td>\n",
       "      <td>z3 trackastra</td>\n",
       "    </tr>\n",
       "    <tr>\n",
       "      <th>...</th>\n",
       "      <td>...</td>\n",
       "      <td>...</td>\n",
       "      <td>...</td>\n",
       "      <td>...</td>\n",
       "      <td>...</td>\n",
       "    </tr>\n",
       "    <tr>\n",
       "      <th>61876</th>\n",
       "      <td>2283.0</td>\n",
       "      <td>149.0</td>\n",
       "      <td>4957.993444</td>\n",
       "      <td>2788.832197</td>\n",
       "      <td>z3 trackastra</td>\n",
       "    </tr>\n",
       "    <tr>\n",
       "      <th>61877</th>\n",
       "      <td>2283.0</td>\n",
       "      <td>150.0</td>\n",
       "      <td>4961.470775</td>\n",
       "      <td>2788.063490</td>\n",
       "      <td>z3 trackastra</td>\n",
       "    </tr>\n",
       "    <tr>\n",
       "      <th>61878</th>\n",
       "      <td>2283.0</td>\n",
       "      <td>151.0</td>\n",
       "      <td>4957.135691</td>\n",
       "      <td>2776.889461</td>\n",
       "      <td>z3 trackastra</td>\n",
       "    </tr>\n",
       "    <tr>\n",
       "      <th>61879</th>\n",
       "      <td>2283.0</td>\n",
       "      <td>152.0</td>\n",
       "      <td>4963.660649</td>\n",
       "      <td>2778.348608</td>\n",
       "      <td>z3 trackastra</td>\n",
       "    </tr>\n",
       "    <tr>\n",
       "      <th>61880</th>\n",
       "      <td>2283.0</td>\n",
       "      <td>153.0</td>\n",
       "      <td>4952.174035</td>\n",
       "      <td>2777.332276</td>\n",
       "      <td>z3 trackastra</td>\n",
       "    </tr>\n",
       "  </tbody>\n",
       "</table>\n",
       "<p>24481 rows × 5 columns</p>\n",
       "</div>"
      ],
      "text/plain": [
       "           ID      T            X            Y         Method\n",
       "245       8.0    0.0  1316.925443  1308.419429  z3 trackastra\n",
       "246       8.0    1.0  1296.484605  1236.577458  z3 trackastra\n",
       "247       8.0    2.0  1301.557163  1220.274875  z3 trackastra\n",
       "248       8.0    3.0  1290.174829  1210.652110  z3 trackastra\n",
       "249       8.0    4.0  1330.836471  1218.764602  z3 trackastra\n",
       "...       ...    ...          ...          ...            ...\n",
       "61876  2283.0  149.0  4957.993444  2788.832197  z3 trackastra\n",
       "61877  2283.0  150.0  4961.470775  2788.063490  z3 trackastra\n",
       "61878  2283.0  151.0  4957.135691  2776.889461  z3 trackastra\n",
       "61879  2283.0  152.0  4963.660649  2778.348608  z3 trackastra\n",
       "61880  2283.0  153.0  4952.174035  2777.332276  z3 trackastra\n",
       "\n",
       "[24481 rows x 5 columns]"
      ]
     },
     "execution_count": 126,
     "metadata": {},
     "output_type": "execute_result"
    }
   ],
   "source": [
    "tracks"
   ]
  }
 ],
 "metadata": {
  "kernelspec": {
   "display_name": "godspeed",
   "language": "python",
   "name": "godspeed"
  },
  "language_info": {
   "codemirror_mode": {
    "name": "ipython",
    "version": 3
   },
   "file_extension": ".py",
   "mimetype": "text/x-python",
   "name": "python",
   "nbconvert_exporter": "python",
   "pygments_lexer": "ipython3",
   "version": "3.10.13"
  }
 },
 "nbformat": 4,
 "nbformat_minor": 5
}
