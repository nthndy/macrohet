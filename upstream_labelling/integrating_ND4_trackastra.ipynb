{
 "cells": [
  {
   "cell_type": "markdown",
   "id": "6e2d20ef-21f8-485d-8f49-3ca647f135c7",
   "metadata": {},
   "source": [
    "# Integrating ND4"
   ]
  },
  {
   "cell_type": "code",
   "execution_count": 19,
   "id": "a3089ac6-d631-41ce-ad09-341d3204b2f3",
   "metadata": {},
   "outputs": [],
   "source": [
    "import pandas as pd\n",
    "from tqdm.auto import tqdm \n",
    "import numpy as np\n",
    "import statsmodels.api as sm\n",
    "import matplotlib.pyplot as plt\n",
    "from sklearn.metrics import r2_score\n",
    "import seaborn as sns\n",
    "import os\n",
    "import logging\n",
    "import traceback\n",
    "import glob\n",
    "from macrohet import dataio, colours, tools\n",
    "colours = expanded_piyg = colours.expanded_piyg"
   ]
  },
  {
   "cell_type": "code",
   "execution_count": 1,
   "id": "99b8050c-8d70-4283-b498-378dca0d411c",
   "metadata": {},
   "outputs": [],
   "source": [
    "acq_ID = (6, 7)"
   ]
  },
  {
   "cell_type": "code",
   "execution_count": 61,
   "id": "a67b1500-9654-4203-8b18-f0204f5c1cb5",
   "metadata": {},
   "outputs": [],
   "source": [
    "df_acq_ID = pd.read_pickle(f'/mnt/SYNO/macrohet_syno/results/dfs/ND0004/sc_df_{acq_ID[0]}.{acq_ID[1]}.ND0004.pkl')"
   ]
  },
  {
   "cell_type": "code",
   "execution_count": 62,
   "id": "4d4dc7ff-6a33-407e-956e-9f20f727d364",
   "metadata": {},
   "outputs": [
    {
     "data": {
      "text/html": [
       "<div>\n",
       "<style scoped>\n",
       "    .dataframe tbody tr th:only-of-type {\n",
       "        vertical-align: middle;\n",
       "    }\n",
       "\n",
       "    .dataframe tbody tr th {\n",
       "        vertical-align: top;\n",
       "    }\n",
       "\n",
       "    .dataframe thead th {\n",
       "        text-align: right;\n",
       "    }\n",
       "</style>\n",
       "<table border=\"1\" class=\"dataframe\">\n",
       "  <thead>\n",
       "    <tr style=\"text-align: right;\">\n",
       "      <th></th>\n",
       "      <th>ID</th>\n",
       "      <th>t</th>\n",
       "      <th>x</th>\n",
       "      <th>y</th>\n",
       "      <th>Mtb Area (µm)</th>\n",
       "      <th>Mphi Area (µm)</th>\n",
       "      <th>Infection Status</th>\n",
       "      <th>Initial Infection Status</th>\n",
       "      <th>Final Infection Status</th>\n",
       "      <th>Unique_ID</th>\n",
       "    </tr>\n",
       "  </thead>\n",
       "  <tbody>\n",
       "    <tr>\n",
       "      <th>0</th>\n",
       "      <td>9</td>\n",
       "      <td>0</td>\n",
       "      <td>2402</td>\n",
       "      <td>952</td>\n",
       "      <td>NaN</td>\n",
       "      <td>NaN</td>\n",
       "      <td>False</td>\n",
       "      <td>False</td>\n",
       "      <td>False</td>\n",
       "      <td>9.6.7.ND0004</td>\n",
       "    </tr>\n",
       "    <tr>\n",
       "      <th>1</th>\n",
       "      <td>9</td>\n",
       "      <td>1</td>\n",
       "      <td>2403</td>\n",
       "      <td>937</td>\n",
       "      <td>5.497722</td>\n",
       "      <td>760.249983</td>\n",
       "      <td>True</td>\n",
       "      <td>False</td>\n",
       "      <td>False</td>\n",
       "      <td>9.6.7.ND0004</td>\n",
       "    </tr>\n",
       "    <tr>\n",
       "      <th>2</th>\n",
       "      <td>9</td>\n",
       "      <td>2</td>\n",
       "      <td>2399</td>\n",
       "      <td>923</td>\n",
       "      <td>8.112492</td>\n",
       "      <td>1447.264056</td>\n",
       "      <td>True</td>\n",
       "      <td>False</td>\n",
       "      <td>False</td>\n",
       "      <td>9.6.7.ND0004</td>\n",
       "    </tr>\n",
       "    <tr>\n",
       "      <th>3</th>\n",
       "      <td>9</td>\n",
       "      <td>3</td>\n",
       "      <td>2407</td>\n",
       "      <td>923</td>\n",
       "      <td>6.503402</td>\n",
       "      <td>415.860183</td>\n",
       "      <td>True</td>\n",
       "      <td>False</td>\n",
       "      <td>False</td>\n",
       "      <td>9.6.7.ND0004</td>\n",
       "    </tr>\n",
       "    <tr>\n",
       "      <th>4</th>\n",
       "      <td>9</td>\n",
       "      <td>4</td>\n",
       "      <td>2393</td>\n",
       "      <td>912</td>\n",
       "      <td>5.967039</td>\n",
       "      <td>1338.136516</td>\n",
       "      <td>True</td>\n",
       "      <td>False</td>\n",
       "      <td>False</td>\n",
       "      <td>9.6.7.ND0004</td>\n",
       "    </tr>\n",
       "    <tr>\n",
       "      <th>...</th>\n",
       "      <td>...</td>\n",
       "      <td>...</td>\n",
       "      <td>...</td>\n",
       "      <td>...</td>\n",
       "      <td>...</td>\n",
       "      <td>...</td>\n",
       "      <td>...</td>\n",
       "      <td>...</td>\n",
       "      <td>...</td>\n",
       "      <td>...</td>\n",
       "    </tr>\n",
       "    <tr>\n",
       "      <th>14457</th>\n",
       "      <td>16539</td>\n",
       "      <td>126</td>\n",
       "      <td>455</td>\n",
       "      <td>5997</td>\n",
       "      <td>NaN</td>\n",
       "      <td>NaN</td>\n",
       "      <td>False</td>\n",
       "      <td>False</td>\n",
       "      <td>True</td>\n",
       "      <td>16539.6.7.ND0004</td>\n",
       "    </tr>\n",
       "    <tr>\n",
       "      <th>14458</th>\n",
       "      <td>16539</td>\n",
       "      <td>127</td>\n",
       "      <td>449</td>\n",
       "      <td>6003</td>\n",
       "      <td>0.000000</td>\n",
       "      <td>459.104457</td>\n",
       "      <td>False</td>\n",
       "      <td>False</td>\n",
       "      <td>True</td>\n",
       "      <td>16539.6.7.ND0004</td>\n",
       "    </tr>\n",
       "    <tr>\n",
       "      <th>14459</th>\n",
       "      <td>16539</td>\n",
       "      <td>128</td>\n",
       "      <td>408</td>\n",
       "      <td>5976</td>\n",
       "      <td>4.022723</td>\n",
       "      <td>1094.471234</td>\n",
       "      <td>True</td>\n",
       "      <td>False</td>\n",
       "      <td>True</td>\n",
       "      <td>16539.6.7.ND0004</td>\n",
       "    </tr>\n",
       "    <tr>\n",
       "      <th>14460</th>\n",
       "      <td>16539</td>\n",
       "      <td>129</td>\n",
       "      <td>394</td>\n",
       "      <td>6021</td>\n",
       "      <td>0.000000</td>\n",
       "      <td>347.920858</td>\n",
       "      <td>False</td>\n",
       "      <td>False</td>\n",
       "      <td>True</td>\n",
       "      <td>16539.6.7.ND0004</td>\n",
       "    </tr>\n",
       "    <tr>\n",
       "      <th>14461</th>\n",
       "      <td>16539</td>\n",
       "      <td>130</td>\n",
       "      <td>369</td>\n",
       "      <td>6015</td>\n",
       "      <td>5.587116</td>\n",
       "      <td>1207.755588</td>\n",
       "      <td>True</td>\n",
       "      <td>False</td>\n",
       "      <td>True</td>\n",
       "      <td>16539.6.7.ND0004</td>\n",
       "    </tr>\n",
       "  </tbody>\n",
       "</table>\n",
       "<p>14462 rows × 10 columns</p>\n",
       "</div>"
      ],
      "text/plain": [
       "          ID    t     x     y  Mtb Area (µm)  Mphi Area (µm)  \\\n",
       "0          9    0  2402   952            NaN             NaN   \n",
       "1          9    1  2403   937       5.497722      760.249983   \n",
       "2          9    2  2399   923       8.112492     1447.264056   \n",
       "3          9    3  2407   923       6.503402      415.860183   \n",
       "4          9    4  2393   912       5.967039     1338.136516   \n",
       "...      ...  ...   ...   ...            ...             ...   \n",
       "14457  16539  126   455  5997            NaN             NaN   \n",
       "14458  16539  127   449  6003       0.000000      459.104457   \n",
       "14459  16539  128   408  5976       4.022723     1094.471234   \n",
       "14460  16539  129   394  6021       0.000000      347.920858   \n",
       "14461  16539  130   369  6015       5.587116     1207.755588   \n",
       "\n",
       "       Infection Status  Initial Infection Status  Final Infection Status  \\\n",
       "0                 False                     False                   False   \n",
       "1                  True                     False                   False   \n",
       "2                  True                     False                   False   \n",
       "3                  True                     False                   False   \n",
       "4                  True                     False                   False   \n",
       "...                 ...                       ...                     ...   \n",
       "14457             False                     False                    True   \n",
       "14458             False                     False                    True   \n",
       "14459              True                     False                    True   \n",
       "14460             False                     False                    True   \n",
       "14461              True                     False                    True   \n",
       "\n",
       "              Unique_ID  \n",
       "0          9.6.7.ND0004  \n",
       "1          9.6.7.ND0004  \n",
       "2          9.6.7.ND0004  \n",
       "3          9.6.7.ND0004  \n",
       "4          9.6.7.ND0004  \n",
       "...                 ...  \n",
       "14457  16539.6.7.ND0004  \n",
       "14458  16539.6.7.ND0004  \n",
       "14459  16539.6.7.ND0004  \n",
       "14460  16539.6.7.ND0004  \n",
       "14461  16539.6.7.ND0004  \n",
       "\n",
       "[14462 rows x 10 columns]"
      ]
     },
     "execution_count": 62,
     "metadata": {},
     "output_type": "execute_result"
    }
   ],
   "source": [
    "df_acq_ID"
   ]
  },
  {
   "cell_type": "markdown",
   "id": "46b31b8f-7544-4e35-8fc9-d9be854f2199",
   "metadata": {},
   "source": [
    "### Add in condiotion information"
   ]
  },
  {
   "cell_type": "code",
   "execution_count": 63,
   "id": "f5daf193-fafd-44cc-9937-ad5e5485ffdf",
   "metadata": {},
   "outputs": [
    {
     "name": "stdout",
     "output_type": "stream",
     "text": [
      "Reading metadata XML file...\n",
      "Extracting metadata complete!\n"
     ]
    }
   ],
   "source": [
    "expt_ID = 'ND0004'\n",
    "base_dir = f'/mnt/SYNO/macrohet_syno/data/{expt_ID}/'\n",
    "metadata_path = glob.glob(os.path.join(base_dir, 'acquisition/Assaylayout/*.xml'))[0]\n",
    "assay_layout = dataio.read_harmony_metadata(metadata_path, assay_layout=True,replicate_number=True)# mask_exist=True,  image_dir = image_dir, image_metadata = metadata)"
   ]
  },
  {
   "cell_type": "code",
   "execution_count": 64,
   "id": "b3d731e5-e8d9-4ffa-af9b-fe9e5cdb5d2e",
   "metadata": {},
   "outputs": [
    {
     "data": {
      "text/html": [
       "<div>\n",
       "<style scoped>\n",
       "    .dataframe tbody tr th:only-of-type {\n",
       "        vertical-align: middle;\n",
       "    }\n",
       "\n",
       "    .dataframe tbody tr th {\n",
       "        vertical-align: top;\n",
       "    }\n",
       "\n",
       "    .dataframe thead th {\n",
       "        text-align: right;\n",
       "    }\n",
       "</style>\n",
       "<table border=\"1\" class=\"dataframe\">\n",
       "  <thead>\n",
       "    <tr style=\"text-align: right;\">\n",
       "      <th></th>\n",
       "      <th></th>\n",
       "      <th>Strain</th>\n",
       "      <th>Compound</th>\n",
       "      <th>Concentration</th>\n",
       "      <th>ConcentrationEC</th>\n",
       "      <th>Replicate #</th>\n",
       "    </tr>\n",
       "    <tr>\n",
       "      <th>Row</th>\n",
       "      <th>Column</th>\n",
       "      <th></th>\n",
       "      <th></th>\n",
       "      <th></th>\n",
       "      <th></th>\n",
       "      <th></th>\n",
       "    </tr>\n",
       "  </thead>\n",
       "  <tbody>\n",
       "    <tr>\n",
       "      <th rowspan=\"12\" valign=\"top\">3</th>\n",
       "      <th>1</th>\n",
       "      <td>UNI</td>\n",
       "      <td>CTRL</td>\n",
       "      <td>0</td>\n",
       "      <td>EC0</td>\n",
       "      <td>1</td>\n",
       "    </tr>\n",
       "    <tr>\n",
       "      <th>2</th>\n",
       "      <td>UNI</td>\n",
       "      <td>CTRL</td>\n",
       "      <td>0</td>\n",
       "      <td>EC0</td>\n",
       "      <td>2</td>\n",
       "    </tr>\n",
       "    <tr>\n",
       "      <th>3</th>\n",
       "      <td>WT</td>\n",
       "      <td>CTRL</td>\n",
       "      <td>0</td>\n",
       "      <td>EC0</td>\n",
       "      <td>1</td>\n",
       "    </tr>\n",
       "    <tr>\n",
       "      <th>4</th>\n",
       "      <td>WT</td>\n",
       "      <td>CTRL</td>\n",
       "      <td>0</td>\n",
       "      <td>EC0</td>\n",
       "      <td>2</td>\n",
       "    </tr>\n",
       "    <tr>\n",
       "      <th>5</th>\n",
       "      <td>WT</td>\n",
       "      <td>PZA</td>\n",
       "      <td>60</td>\n",
       "      <td>EC50</td>\n",
       "      <td>1</td>\n",
       "    </tr>\n",
       "    <tr>\n",
       "      <th>6</th>\n",
       "      <td>WT</td>\n",
       "      <td>PZA</td>\n",
       "      <td>60</td>\n",
       "      <td>EC50</td>\n",
       "      <td>2</td>\n",
       "    </tr>\n",
       "    <tr>\n",
       "      <th>7</th>\n",
       "      <td>WT</td>\n",
       "      <td>RIF</td>\n",
       "      <td>0.1</td>\n",
       "      <td>EC50</td>\n",
       "      <td>1</td>\n",
       "    </tr>\n",
       "    <tr>\n",
       "      <th>8</th>\n",
       "      <td>WT</td>\n",
       "      <td>RIF</td>\n",
       "      <td>0.1</td>\n",
       "      <td>EC50</td>\n",
       "      <td>2</td>\n",
       "    </tr>\n",
       "    <tr>\n",
       "      <th>9</th>\n",
       "      <td>WT</td>\n",
       "      <td>INH</td>\n",
       "      <td>0.04</td>\n",
       "      <td>EC50</td>\n",
       "      <td>1</td>\n",
       "    </tr>\n",
       "    <tr>\n",
       "      <th>10</th>\n",
       "      <td>WT</td>\n",
       "      <td>INH</td>\n",
       "      <td>0.04</td>\n",
       "      <td>EC50</td>\n",
       "      <td>2</td>\n",
       "    </tr>\n",
       "    <tr>\n",
       "      <th>11</th>\n",
       "      <td>WT</td>\n",
       "      <td>BDQ</td>\n",
       "      <td>0.02</td>\n",
       "      <td>EC50</td>\n",
       "      <td>1</td>\n",
       "    </tr>\n",
       "    <tr>\n",
       "      <th>12</th>\n",
       "      <td>WT</td>\n",
       "      <td>BDQ</td>\n",
       "      <td>0.02</td>\n",
       "      <td>EC50</td>\n",
       "      <td>2</td>\n",
       "    </tr>\n",
       "    <tr>\n",
       "      <th rowspan=\"10\" valign=\"top\">4</th>\n",
       "      <th>3</th>\n",
       "      <td>WT</td>\n",
       "      <td>CTRL</td>\n",
       "      <td>0</td>\n",
       "      <td>EC0</td>\n",
       "      <td>3</td>\n",
       "    </tr>\n",
       "    <tr>\n",
       "      <th>4</th>\n",
       "      <td>WT</td>\n",
       "      <td>CTRL</td>\n",
       "      <td>0</td>\n",
       "      <td>EC0</td>\n",
       "      <td>4</td>\n",
       "    </tr>\n",
       "    <tr>\n",
       "      <th>5</th>\n",
       "      <td>WT</td>\n",
       "      <td>PZA</td>\n",
       "      <td>400</td>\n",
       "      <td>EC99</td>\n",
       "      <td>1</td>\n",
       "    </tr>\n",
       "    <tr>\n",
       "      <th>6</th>\n",
       "      <td>WT</td>\n",
       "      <td>PZA</td>\n",
       "      <td>400</td>\n",
       "      <td>EC99</td>\n",
       "      <td>2</td>\n",
       "    </tr>\n",
       "    <tr>\n",
       "      <th>7</th>\n",
       "      <td>WT</td>\n",
       "      <td>RIF</td>\n",
       "      <td>2</td>\n",
       "      <td>EC99</td>\n",
       "      <td>1</td>\n",
       "    </tr>\n",
       "    <tr>\n",
       "      <th>8</th>\n",
       "      <td>WT</td>\n",
       "      <td>RIF</td>\n",
       "      <td>2</td>\n",
       "      <td>EC99</td>\n",
       "      <td>2</td>\n",
       "    </tr>\n",
       "    <tr>\n",
       "      <th>9</th>\n",
       "      <td>WT</td>\n",
       "      <td>INH</td>\n",
       "      <td>2</td>\n",
       "      <td>EC99</td>\n",
       "      <td>1</td>\n",
       "    </tr>\n",
       "    <tr>\n",
       "      <th>10</th>\n",
       "      <td>WT</td>\n",
       "      <td>INH</td>\n",
       "      <td>2</td>\n",
       "      <td>EC99</td>\n",
       "      <td>2</td>\n",
       "    </tr>\n",
       "    <tr>\n",
       "      <th>11</th>\n",
       "      <td>WT</td>\n",
       "      <td>BDQ</td>\n",
       "      <td>2.5</td>\n",
       "      <td>EC99</td>\n",
       "      <td>1</td>\n",
       "    </tr>\n",
       "    <tr>\n",
       "      <th>12</th>\n",
       "      <td>WT</td>\n",
       "      <td>BDQ</td>\n",
       "      <td>2.5</td>\n",
       "      <td>EC99</td>\n",
       "      <td>2</td>\n",
       "    </tr>\n",
       "    <tr>\n",
       "      <th rowspan=\"10\" valign=\"top\">5</th>\n",
       "      <th>3</th>\n",
       "      <td>RD1</td>\n",
       "      <td>CTRL</td>\n",
       "      <td>0</td>\n",
       "      <td>EC0</td>\n",
       "      <td>1</td>\n",
       "    </tr>\n",
       "    <tr>\n",
       "      <th>4</th>\n",
       "      <td>RD1</td>\n",
       "      <td>CTRL</td>\n",
       "      <td>0</td>\n",
       "      <td>EC0</td>\n",
       "      <td>2</td>\n",
       "    </tr>\n",
       "    <tr>\n",
       "      <th>5</th>\n",
       "      <td>RD1</td>\n",
       "      <td>PZA</td>\n",
       "      <td>60</td>\n",
       "      <td>EC50</td>\n",
       "      <td>1</td>\n",
       "    </tr>\n",
       "    <tr>\n",
       "      <th>6</th>\n",
       "      <td>RD1</td>\n",
       "      <td>PZA</td>\n",
       "      <td>60</td>\n",
       "      <td>EC50</td>\n",
       "      <td>2</td>\n",
       "    </tr>\n",
       "    <tr>\n",
       "      <th>7</th>\n",
       "      <td>RD1</td>\n",
       "      <td>RIF</td>\n",
       "      <td>0.1</td>\n",
       "      <td>EC50</td>\n",
       "      <td>1</td>\n",
       "    </tr>\n",
       "    <tr>\n",
       "      <th>8</th>\n",
       "      <td>RD1</td>\n",
       "      <td>RIF</td>\n",
       "      <td>0.1</td>\n",
       "      <td>EC50</td>\n",
       "      <td>2</td>\n",
       "    </tr>\n",
       "    <tr>\n",
       "      <th>9</th>\n",
       "      <td>RD1</td>\n",
       "      <td>INH</td>\n",
       "      <td>0.04</td>\n",
       "      <td>EC50</td>\n",
       "      <td>1</td>\n",
       "    </tr>\n",
       "    <tr>\n",
       "      <th>10</th>\n",
       "      <td>RD1</td>\n",
       "      <td>INH</td>\n",
       "      <td>0.04</td>\n",
       "      <td>EC50</td>\n",
       "      <td>2</td>\n",
       "    </tr>\n",
       "    <tr>\n",
       "      <th>11</th>\n",
       "      <td>RD1</td>\n",
       "      <td>BDQ</td>\n",
       "      <td>0.02</td>\n",
       "      <td>EC50</td>\n",
       "      <td>1</td>\n",
       "    </tr>\n",
       "    <tr>\n",
       "      <th>12</th>\n",
       "      <td>RD1</td>\n",
       "      <td>BDQ</td>\n",
       "      <td>0.02</td>\n",
       "      <td>EC50</td>\n",
       "      <td>2</td>\n",
       "    </tr>\n",
       "    <tr>\n",
       "      <th rowspan=\"10\" valign=\"top\">6</th>\n",
       "      <th>3</th>\n",
       "      <td>RD1</td>\n",
       "      <td>CTRL</td>\n",
       "      <td>0</td>\n",
       "      <td>EC0</td>\n",
       "      <td>3</td>\n",
       "    </tr>\n",
       "    <tr>\n",
       "      <th>4</th>\n",
       "      <td>RD1</td>\n",
       "      <td>CTRL</td>\n",
       "      <td>0</td>\n",
       "      <td>EC0</td>\n",
       "      <td>4</td>\n",
       "    </tr>\n",
       "    <tr>\n",
       "      <th>5</th>\n",
       "      <td>RD1</td>\n",
       "      <td>PZA</td>\n",
       "      <td>400</td>\n",
       "      <td>EC99</td>\n",
       "      <td>1</td>\n",
       "    </tr>\n",
       "    <tr>\n",
       "      <th>6</th>\n",
       "      <td>RD1</td>\n",
       "      <td>PZA</td>\n",
       "      <td>400</td>\n",
       "      <td>EC99</td>\n",
       "      <td>2</td>\n",
       "    </tr>\n",
       "    <tr>\n",
       "      <th>7</th>\n",
       "      <td>RD1</td>\n",
       "      <td>RIF</td>\n",
       "      <td>2</td>\n",
       "      <td>EC99</td>\n",
       "      <td>1</td>\n",
       "    </tr>\n",
       "    <tr>\n",
       "      <th>8</th>\n",
       "      <td>RD1</td>\n",
       "      <td>RIF</td>\n",
       "      <td>2</td>\n",
       "      <td>EC99</td>\n",
       "      <td>2</td>\n",
       "    </tr>\n",
       "    <tr>\n",
       "      <th>9</th>\n",
       "      <td>RD1</td>\n",
       "      <td>INH</td>\n",
       "      <td>2</td>\n",
       "      <td>EC99</td>\n",
       "      <td>1</td>\n",
       "    </tr>\n",
       "    <tr>\n",
       "      <th>10</th>\n",
       "      <td>RD1</td>\n",
       "      <td>INH</td>\n",
       "      <td>2</td>\n",
       "      <td>EC99</td>\n",
       "      <td>2</td>\n",
       "    </tr>\n",
       "    <tr>\n",
       "      <th>11</th>\n",
       "      <td>RD1</td>\n",
       "      <td>BDQ</td>\n",
       "      <td>2.5</td>\n",
       "      <td>EC99</td>\n",
       "      <td>1</td>\n",
       "    </tr>\n",
       "    <tr>\n",
       "      <th>12</th>\n",
       "      <td>RD1</td>\n",
       "      <td>BDQ</td>\n",
       "      <td>2.5</td>\n",
       "      <td>EC99</td>\n",
       "      <td>2</td>\n",
       "    </tr>\n",
       "  </tbody>\n",
       "</table>\n",
       "</div>"
      ],
      "text/plain": [
       "           Strain Compound Concentration ConcentrationEC  Replicate #\n",
       "Row Column                                                           \n",
       "3   1         UNI     CTRL             0             EC0            1\n",
       "    2         UNI     CTRL             0             EC0            2\n",
       "    3          WT     CTRL             0             EC0            1\n",
       "    4          WT     CTRL             0             EC0            2\n",
       "    5          WT      PZA            60            EC50            1\n",
       "    6          WT      PZA            60            EC50            2\n",
       "    7          WT      RIF           0.1            EC50            1\n",
       "    8          WT      RIF           0.1            EC50            2\n",
       "    9          WT      INH          0.04            EC50            1\n",
       "    10         WT      INH          0.04            EC50            2\n",
       "    11         WT      BDQ          0.02            EC50            1\n",
       "    12         WT      BDQ          0.02            EC50            2\n",
       "4   3          WT     CTRL             0             EC0            3\n",
       "    4          WT     CTRL             0             EC0            4\n",
       "    5          WT      PZA           400            EC99            1\n",
       "    6          WT      PZA           400            EC99            2\n",
       "    7          WT      RIF             2            EC99            1\n",
       "    8          WT      RIF             2            EC99            2\n",
       "    9          WT      INH             2            EC99            1\n",
       "    10         WT      INH             2            EC99            2\n",
       "    11         WT      BDQ           2.5            EC99            1\n",
       "    12         WT      BDQ           2.5            EC99            2\n",
       "5   3         RD1     CTRL             0             EC0            1\n",
       "    4         RD1     CTRL             0             EC0            2\n",
       "    5         RD1      PZA            60            EC50            1\n",
       "    6         RD1      PZA            60            EC50            2\n",
       "    7         RD1      RIF           0.1            EC50            1\n",
       "    8         RD1      RIF           0.1            EC50            2\n",
       "    9         RD1      INH          0.04            EC50            1\n",
       "    10        RD1      INH          0.04            EC50            2\n",
       "    11        RD1      BDQ          0.02            EC50            1\n",
       "    12        RD1      BDQ          0.02            EC50            2\n",
       "6   3         RD1     CTRL             0             EC0            3\n",
       "    4         RD1     CTRL             0             EC0            4\n",
       "    5         RD1      PZA           400            EC99            1\n",
       "    6         RD1      PZA           400            EC99            2\n",
       "    7         RD1      RIF             2            EC99            1\n",
       "    8         RD1      RIF             2            EC99            2\n",
       "    9         RD1      INH             2            EC99            1\n",
       "    10        RD1      INH             2            EC99            2\n",
       "    11        RD1      BDQ           2.5            EC99            1\n",
       "    12        RD1      BDQ           2.5            EC99            2"
      ]
     },
     "execution_count": 64,
     "metadata": {},
     "output_type": "execute_result"
    }
   ],
   "source": [
    "assay_layout"
   ]
  },
  {
   "cell_type": "code",
   "execution_count": 65,
   "id": "c793ad3b-d077-492e-8d63-42e09cb61a33",
   "metadata": {},
   "outputs": [],
   "source": [
    "df_acq_ID['Strain'] = assay_layout.loc[(acq_ID), 'Strain']\n",
    "df_acq_ID['Compound'] = assay_layout.loc[(acq_ID), 'Compound']\n",
    "df_acq_ID['Concentration'] = assay_layout.loc[(acq_ID), 'ConcentrationEC']"
   ]
  },
  {
   "cell_type": "markdown",
   "id": "2079c609-e68c-485a-a801-ac9164d759bf",
   "metadata": {},
   "source": [
    "### Add various details"
   ]
  },
  {
   "cell_type": "code",
   "execution_count": 66,
   "id": "130e8f14-d877-4ead-b7ef-a394b167a157",
   "metadata": {},
   "outputs": [],
   "source": [
    "df_acq_ID['Time (hours)'] = df_acq_ID['t'] / 2\n",
    "df_acq_ID['Frame'] = df_acq_ID['t']"
   ]
  },
  {
   "cell_type": "code",
   "execution_count": 67,
   "id": "d1f13a94-29c6-4aa5-8f5e-6e2c18498973",
   "metadata": {},
   "outputs": [],
   "source": [
    "df_acq_ID['Cell ID'] = df_acq_ID['ID']\n",
    "df_acq_ID['ID'] = df_acq_ID['Unique_ID']"
   ]
  },
  {
   "cell_type": "code",
   "execution_count": 68,
   "id": "fbf50f29-4a61-479d-b041-8abf8b7ba8a8",
   "metadata": {},
   "outputs": [],
   "source": [
    "df_acq_ID['Acquisition ID'] = [acq_ID for i in range(len(df_acq_ID))]"
   ]
  },
  {
   "cell_type": "code",
   "execution_count": 69,
   "id": "0bf2ff45-c1bd-4628-87f7-e6dc4bd24dad",
   "metadata": {},
   "outputs": [],
   "source": [
    "df_acq_ID['Experiment ID'] = 'ND0004'"
   ]
  },
  {
   "cell_type": "code",
   "execution_count": 70,
   "id": "0ec7a8c1-26fa-42bc-b31c-77dd65a54d4a",
   "metadata": {},
   "outputs": [
    {
     "data": {
      "text/html": [
       "<div>\n",
       "<style scoped>\n",
       "    .dataframe tbody tr th:only-of-type {\n",
       "        vertical-align: middle;\n",
       "    }\n",
       "\n",
       "    .dataframe tbody tr th {\n",
       "        vertical-align: top;\n",
       "    }\n",
       "\n",
       "    .dataframe thead th {\n",
       "        text-align: right;\n",
       "    }\n",
       "</style>\n",
       "<table border=\"1\" class=\"dataframe\">\n",
       "  <thead>\n",
       "    <tr style=\"text-align: right;\">\n",
       "      <th></th>\n",
       "      <th>ID</th>\n",
       "      <th>t</th>\n",
       "      <th>x</th>\n",
       "      <th>y</th>\n",
       "      <th>Mtb Area (µm)</th>\n",
       "      <th>Mphi Area (µm)</th>\n",
       "      <th>Infection Status</th>\n",
       "      <th>Initial Infection Status</th>\n",
       "      <th>Final Infection Status</th>\n",
       "      <th>Unique_ID</th>\n",
       "      <th>Strain</th>\n",
       "      <th>Compound</th>\n",
       "      <th>Concentration</th>\n",
       "      <th>Time (hours)</th>\n",
       "      <th>Frame</th>\n",
       "      <th>Cell ID</th>\n",
       "      <th>Acquisition ID</th>\n",
       "      <th>Experiment ID</th>\n",
       "    </tr>\n",
       "  </thead>\n",
       "  <tbody>\n",
       "    <tr>\n",
       "      <th>0</th>\n",
       "      <td>9.6.7.ND0004</td>\n",
       "      <td>0</td>\n",
       "      <td>2402</td>\n",
       "      <td>952</td>\n",
       "      <td>NaN</td>\n",
       "      <td>NaN</td>\n",
       "      <td>False</td>\n",
       "      <td>False</td>\n",
       "      <td>False</td>\n",
       "      <td>9.6.7.ND0004</td>\n",
       "      <td>RD1</td>\n",
       "      <td>RIF</td>\n",
       "      <td>EC99</td>\n",
       "      <td>0.0</td>\n",
       "      <td>0</td>\n",
       "      <td>9</td>\n",
       "      <td>(6, 7)</td>\n",
       "      <td>ND0004</td>\n",
       "    </tr>\n",
       "    <tr>\n",
       "      <th>1</th>\n",
       "      <td>9.6.7.ND0004</td>\n",
       "      <td>1</td>\n",
       "      <td>2403</td>\n",
       "      <td>937</td>\n",
       "      <td>5.497722</td>\n",
       "      <td>760.249983</td>\n",
       "      <td>True</td>\n",
       "      <td>False</td>\n",
       "      <td>False</td>\n",
       "      <td>9.6.7.ND0004</td>\n",
       "      <td>RD1</td>\n",
       "      <td>RIF</td>\n",
       "      <td>EC99</td>\n",
       "      <td>0.5</td>\n",
       "      <td>1</td>\n",
       "      <td>9</td>\n",
       "      <td>(6, 7)</td>\n",
       "      <td>ND0004</td>\n",
       "    </tr>\n",
       "    <tr>\n",
       "      <th>2</th>\n",
       "      <td>9.6.7.ND0004</td>\n",
       "      <td>2</td>\n",
       "      <td>2399</td>\n",
       "      <td>923</td>\n",
       "      <td>8.112492</td>\n",
       "      <td>1447.264056</td>\n",
       "      <td>True</td>\n",
       "      <td>False</td>\n",
       "      <td>False</td>\n",
       "      <td>9.6.7.ND0004</td>\n",
       "      <td>RD1</td>\n",
       "      <td>RIF</td>\n",
       "      <td>EC99</td>\n",
       "      <td>1.0</td>\n",
       "      <td>2</td>\n",
       "      <td>9</td>\n",
       "      <td>(6, 7)</td>\n",
       "      <td>ND0004</td>\n",
       "    </tr>\n",
       "    <tr>\n",
       "      <th>3</th>\n",
       "      <td>9.6.7.ND0004</td>\n",
       "      <td>3</td>\n",
       "      <td>2407</td>\n",
       "      <td>923</td>\n",
       "      <td>6.503402</td>\n",
       "      <td>415.860183</td>\n",
       "      <td>True</td>\n",
       "      <td>False</td>\n",
       "      <td>False</td>\n",
       "      <td>9.6.7.ND0004</td>\n",
       "      <td>RD1</td>\n",
       "      <td>RIF</td>\n",
       "      <td>EC99</td>\n",
       "      <td>1.5</td>\n",
       "      <td>3</td>\n",
       "      <td>9</td>\n",
       "      <td>(6, 7)</td>\n",
       "      <td>ND0004</td>\n",
       "    </tr>\n",
       "    <tr>\n",
       "      <th>4</th>\n",
       "      <td>9.6.7.ND0004</td>\n",
       "      <td>4</td>\n",
       "      <td>2393</td>\n",
       "      <td>912</td>\n",
       "      <td>5.967039</td>\n",
       "      <td>1338.136516</td>\n",
       "      <td>True</td>\n",
       "      <td>False</td>\n",
       "      <td>False</td>\n",
       "      <td>9.6.7.ND0004</td>\n",
       "      <td>RD1</td>\n",
       "      <td>RIF</td>\n",
       "      <td>EC99</td>\n",
       "      <td>2.0</td>\n",
       "      <td>4</td>\n",
       "      <td>9</td>\n",
       "      <td>(6, 7)</td>\n",
       "      <td>ND0004</td>\n",
       "    </tr>\n",
       "    <tr>\n",
       "      <th>...</th>\n",
       "      <td>...</td>\n",
       "      <td>...</td>\n",
       "      <td>...</td>\n",
       "      <td>...</td>\n",
       "      <td>...</td>\n",
       "      <td>...</td>\n",
       "      <td>...</td>\n",
       "      <td>...</td>\n",
       "      <td>...</td>\n",
       "      <td>...</td>\n",
       "      <td>...</td>\n",
       "      <td>...</td>\n",
       "      <td>...</td>\n",
       "      <td>...</td>\n",
       "      <td>...</td>\n",
       "      <td>...</td>\n",
       "      <td>...</td>\n",
       "      <td>...</td>\n",
       "    </tr>\n",
       "    <tr>\n",
       "      <th>14457</th>\n",
       "      <td>16539.6.7.ND0004</td>\n",
       "      <td>126</td>\n",
       "      <td>455</td>\n",
       "      <td>5997</td>\n",
       "      <td>NaN</td>\n",
       "      <td>NaN</td>\n",
       "      <td>False</td>\n",
       "      <td>False</td>\n",
       "      <td>True</td>\n",
       "      <td>16539.6.7.ND0004</td>\n",
       "      <td>RD1</td>\n",
       "      <td>RIF</td>\n",
       "      <td>EC99</td>\n",
       "      <td>63.0</td>\n",
       "      <td>126</td>\n",
       "      <td>16539</td>\n",
       "      <td>(6, 7)</td>\n",
       "      <td>ND0004</td>\n",
       "    </tr>\n",
       "    <tr>\n",
       "      <th>14458</th>\n",
       "      <td>16539.6.7.ND0004</td>\n",
       "      <td>127</td>\n",
       "      <td>449</td>\n",
       "      <td>6003</td>\n",
       "      <td>0.000000</td>\n",
       "      <td>459.104457</td>\n",
       "      <td>False</td>\n",
       "      <td>False</td>\n",
       "      <td>True</td>\n",
       "      <td>16539.6.7.ND0004</td>\n",
       "      <td>RD1</td>\n",
       "      <td>RIF</td>\n",
       "      <td>EC99</td>\n",
       "      <td>63.5</td>\n",
       "      <td>127</td>\n",
       "      <td>16539</td>\n",
       "      <td>(6, 7)</td>\n",
       "      <td>ND0004</td>\n",
       "    </tr>\n",
       "    <tr>\n",
       "      <th>14459</th>\n",
       "      <td>16539.6.7.ND0004</td>\n",
       "      <td>128</td>\n",
       "      <td>408</td>\n",
       "      <td>5976</td>\n",
       "      <td>4.022723</td>\n",
       "      <td>1094.471234</td>\n",
       "      <td>True</td>\n",
       "      <td>False</td>\n",
       "      <td>True</td>\n",
       "      <td>16539.6.7.ND0004</td>\n",
       "      <td>RD1</td>\n",
       "      <td>RIF</td>\n",
       "      <td>EC99</td>\n",
       "      <td>64.0</td>\n",
       "      <td>128</td>\n",
       "      <td>16539</td>\n",
       "      <td>(6, 7)</td>\n",
       "      <td>ND0004</td>\n",
       "    </tr>\n",
       "    <tr>\n",
       "      <th>14460</th>\n",
       "      <td>16539.6.7.ND0004</td>\n",
       "      <td>129</td>\n",
       "      <td>394</td>\n",
       "      <td>6021</td>\n",
       "      <td>0.000000</td>\n",
       "      <td>347.920858</td>\n",
       "      <td>False</td>\n",
       "      <td>False</td>\n",
       "      <td>True</td>\n",
       "      <td>16539.6.7.ND0004</td>\n",
       "      <td>RD1</td>\n",
       "      <td>RIF</td>\n",
       "      <td>EC99</td>\n",
       "      <td>64.5</td>\n",
       "      <td>129</td>\n",
       "      <td>16539</td>\n",
       "      <td>(6, 7)</td>\n",
       "      <td>ND0004</td>\n",
       "    </tr>\n",
       "    <tr>\n",
       "      <th>14461</th>\n",
       "      <td>16539.6.7.ND0004</td>\n",
       "      <td>130</td>\n",
       "      <td>369</td>\n",
       "      <td>6015</td>\n",
       "      <td>5.587116</td>\n",
       "      <td>1207.755588</td>\n",
       "      <td>True</td>\n",
       "      <td>False</td>\n",
       "      <td>True</td>\n",
       "      <td>16539.6.7.ND0004</td>\n",
       "      <td>RD1</td>\n",
       "      <td>RIF</td>\n",
       "      <td>EC99</td>\n",
       "      <td>65.0</td>\n",
       "      <td>130</td>\n",
       "      <td>16539</td>\n",
       "      <td>(6, 7)</td>\n",
       "      <td>ND0004</td>\n",
       "    </tr>\n",
       "  </tbody>\n",
       "</table>\n",
       "<p>14462 rows × 18 columns</p>\n",
       "</div>"
      ],
      "text/plain": [
       "                     ID    t     x     y  Mtb Area (µm)  Mphi Area (µm)  \\\n",
       "0          9.6.7.ND0004    0  2402   952            NaN             NaN   \n",
       "1          9.6.7.ND0004    1  2403   937       5.497722      760.249983   \n",
       "2          9.6.7.ND0004    2  2399   923       8.112492     1447.264056   \n",
       "3          9.6.7.ND0004    3  2407   923       6.503402      415.860183   \n",
       "4          9.6.7.ND0004    4  2393   912       5.967039     1338.136516   \n",
       "...                 ...  ...   ...   ...            ...             ...   \n",
       "14457  16539.6.7.ND0004  126   455  5997            NaN             NaN   \n",
       "14458  16539.6.7.ND0004  127   449  6003       0.000000      459.104457   \n",
       "14459  16539.6.7.ND0004  128   408  5976       4.022723     1094.471234   \n",
       "14460  16539.6.7.ND0004  129   394  6021       0.000000      347.920858   \n",
       "14461  16539.6.7.ND0004  130   369  6015       5.587116     1207.755588   \n",
       "\n",
       "       Infection Status  Initial Infection Status  Final Infection Status  \\\n",
       "0                 False                     False                   False   \n",
       "1                  True                     False                   False   \n",
       "2                  True                     False                   False   \n",
       "3                  True                     False                   False   \n",
       "4                  True                     False                   False   \n",
       "...                 ...                       ...                     ...   \n",
       "14457             False                     False                    True   \n",
       "14458             False                     False                    True   \n",
       "14459              True                     False                    True   \n",
       "14460             False                     False                    True   \n",
       "14461              True                     False                    True   \n",
       "\n",
       "              Unique_ID Strain Compound Concentration  Time (hours)  Frame  \\\n",
       "0          9.6.7.ND0004    RD1      RIF          EC99           0.0      0   \n",
       "1          9.6.7.ND0004    RD1      RIF          EC99           0.5      1   \n",
       "2          9.6.7.ND0004    RD1      RIF          EC99           1.0      2   \n",
       "3          9.6.7.ND0004    RD1      RIF          EC99           1.5      3   \n",
       "4          9.6.7.ND0004    RD1      RIF          EC99           2.0      4   \n",
       "...                 ...    ...      ...           ...           ...    ...   \n",
       "14457  16539.6.7.ND0004    RD1      RIF          EC99          63.0    126   \n",
       "14458  16539.6.7.ND0004    RD1      RIF          EC99          63.5    127   \n",
       "14459  16539.6.7.ND0004    RD1      RIF          EC99          64.0    128   \n",
       "14460  16539.6.7.ND0004    RD1      RIF          EC99          64.5    129   \n",
       "14461  16539.6.7.ND0004    RD1      RIF          EC99          65.0    130   \n",
       "\n",
       "       Cell ID Acquisition ID Experiment ID  \n",
       "0            9         (6, 7)        ND0004  \n",
       "1            9         (6, 7)        ND0004  \n",
       "2            9         (6, 7)        ND0004  \n",
       "3            9         (6, 7)        ND0004  \n",
       "4            9         (6, 7)        ND0004  \n",
       "...        ...            ...           ...  \n",
       "14457    16539         (6, 7)        ND0004  \n",
       "14458    16539         (6, 7)        ND0004  \n",
       "14459    16539         (6, 7)        ND0004  \n",
       "14460    16539         (6, 7)        ND0004  \n",
       "14461    16539         (6, 7)        ND0004  \n",
       "\n",
       "[14462 rows x 18 columns]"
      ]
     },
     "execution_count": 70,
     "metadata": {},
     "output_type": "execute_result"
    }
   ],
   "source": [
    "df_acq_ID"
   ]
  },
  {
   "cell_type": "markdown",
   "id": "0cbdbdc9-1c7d-4543-ba0d-9b52521aa8d3",
   "metadata": {},
   "source": [
    "### Process the mtb signal"
   ]
  },
  {
   "cell_type": "code",
   "execution_count": 71,
   "id": "ecd0409e-29ff-44c5-8746-b86a5f57a502",
   "metadata": {},
   "outputs": [],
   "source": [
    "window = 10"
   ]
  },
  {
   "cell_type": "code",
   "execution_count": 72,
   "id": "c5e2fd63-47de-4192-a06f-69d1512bcb38",
   "metadata": {
    "scrolled": true
   },
   "outputs": [
    {
     "data": {
      "application/vnd.jupyter.widget-view+json": {
       "model_id": "661bb5a67792414086b176d6ea5bf52d",
       "version_major": 2,
       "version_minor": 0
      },
      "text/plain": [
       "  0%|          | 0/127 [00:00<?, ?it/s]"
      ]
     },
     "metadata": {},
     "output_type": "display_data"
    },
    {
     "name": "stderr",
     "output_type": "stream",
     "text": [
      "/tmp/ipykernel_10817/526970481.py:6: FutureWarning: Series.interpolate with method=backfill is deprecated and will raise in a future version. Use obj.ffill() or obj.bfill() instead.\n",
      "  df_acq_ID.loc[df_acq_ID['ID'] == ID, 'Mtb Area Processed (µm)'] =  sc_df['Mtb Area (µm)'].interpolate(method='linear').interpolate(method='backfill').rolling(window=window).median().values\n",
      "/tmp/ipykernel_10817/526970481.py:6: FutureWarning: Series.interpolate with method=backfill is deprecated and will raise in a future version. Use obj.ffill() or obj.bfill() instead.\n",
      "  df_acq_ID.loc[df_acq_ID['ID'] == ID, 'Mtb Area Processed (µm)'] =  sc_df['Mtb Area (µm)'].interpolate(method='linear').interpolate(method='backfill').rolling(window=window).median().values\n",
      "/tmp/ipykernel_10817/526970481.py:6: FutureWarning: Series.interpolate with method=backfill is deprecated and will raise in a future version. Use obj.ffill() or obj.bfill() instead.\n",
      "  df_acq_ID.loc[df_acq_ID['ID'] == ID, 'Mtb Area Processed (µm)'] =  sc_df['Mtb Area (µm)'].interpolate(method='linear').interpolate(method='backfill').rolling(window=window).median().values\n",
      "/tmp/ipykernel_10817/526970481.py:6: FutureWarning: Series.interpolate with method=backfill is deprecated and will raise in a future version. Use obj.ffill() or obj.bfill() instead.\n",
      "  df_acq_ID.loc[df_acq_ID['ID'] == ID, 'Mtb Area Processed (µm)'] =  sc_df['Mtb Area (µm)'].interpolate(method='linear').interpolate(method='backfill').rolling(window=window).median().values\n",
      "/tmp/ipykernel_10817/526970481.py:6: FutureWarning: Series.interpolate with method=backfill is deprecated and will raise in a future version. Use obj.ffill() or obj.bfill() instead.\n",
      "  df_acq_ID.loc[df_acq_ID['ID'] == ID, 'Mtb Area Processed (µm)'] =  sc_df['Mtb Area (µm)'].interpolate(method='linear').interpolate(method='backfill').rolling(window=window).median().values\n",
      "/tmp/ipykernel_10817/526970481.py:6: FutureWarning: Series.interpolate with method=backfill is deprecated and will raise in a future version. Use obj.ffill() or obj.bfill() instead.\n",
      "  df_acq_ID.loc[df_acq_ID['ID'] == ID, 'Mtb Area Processed (µm)'] =  sc_df['Mtb Area (µm)'].interpolate(method='linear').interpolate(method='backfill').rolling(window=window).median().values\n",
      "/tmp/ipykernel_10817/526970481.py:6: FutureWarning: Series.interpolate with method=backfill is deprecated and will raise in a future version. Use obj.ffill() or obj.bfill() instead.\n",
      "  df_acq_ID.loc[df_acq_ID['ID'] == ID, 'Mtb Area Processed (µm)'] =  sc_df['Mtb Area (µm)'].interpolate(method='linear').interpolate(method='backfill').rolling(window=window).median().values\n",
      "/tmp/ipykernel_10817/526970481.py:6: FutureWarning: Series.interpolate with method=backfill is deprecated and will raise in a future version. Use obj.ffill() or obj.bfill() instead.\n",
      "  df_acq_ID.loc[df_acq_ID['ID'] == ID, 'Mtb Area Processed (µm)'] =  sc_df['Mtb Area (µm)'].interpolate(method='linear').interpolate(method='backfill').rolling(window=window).median().values\n",
      "/tmp/ipykernel_10817/526970481.py:6: FutureWarning: Series.interpolate with method=backfill is deprecated and will raise in a future version. Use obj.ffill() or obj.bfill() instead.\n",
      "  df_acq_ID.loc[df_acq_ID['ID'] == ID, 'Mtb Area Processed (µm)'] =  sc_df['Mtb Area (µm)'].interpolate(method='linear').interpolate(method='backfill').rolling(window=window).median().values\n",
      "/tmp/ipykernel_10817/526970481.py:6: FutureWarning: Series.interpolate with method=backfill is deprecated and will raise in a future version. Use obj.ffill() or obj.bfill() instead.\n",
      "  df_acq_ID.loc[df_acq_ID['ID'] == ID, 'Mtb Area Processed (µm)'] =  sc_df['Mtb Area (µm)'].interpolate(method='linear').interpolate(method='backfill').rolling(window=window).median().values\n",
      "/tmp/ipykernel_10817/526970481.py:6: FutureWarning: Series.interpolate with method=backfill is deprecated and will raise in a future version. Use obj.ffill() or obj.bfill() instead.\n",
      "  df_acq_ID.loc[df_acq_ID['ID'] == ID, 'Mtb Area Processed (µm)'] =  sc_df['Mtb Area (µm)'].interpolate(method='linear').interpolate(method='backfill').rolling(window=window).median().values\n",
      "/tmp/ipykernel_10817/526970481.py:6: FutureWarning: Series.interpolate with method=backfill is deprecated and will raise in a future version. Use obj.ffill() or obj.bfill() instead.\n",
      "  df_acq_ID.loc[df_acq_ID['ID'] == ID, 'Mtb Area Processed (µm)'] =  sc_df['Mtb Area (µm)'].interpolate(method='linear').interpolate(method='backfill').rolling(window=window).median().values\n",
      "/tmp/ipykernel_10817/526970481.py:6: FutureWarning: Series.interpolate with method=backfill is deprecated and will raise in a future version. Use obj.ffill() or obj.bfill() instead.\n",
      "  df_acq_ID.loc[df_acq_ID['ID'] == ID, 'Mtb Area Processed (µm)'] =  sc_df['Mtb Area (µm)'].interpolate(method='linear').interpolate(method='backfill').rolling(window=window).median().values\n",
      "/tmp/ipykernel_10817/526970481.py:6: FutureWarning: Series.interpolate with method=backfill is deprecated and will raise in a future version. Use obj.ffill() or obj.bfill() instead.\n",
      "  df_acq_ID.loc[df_acq_ID['ID'] == ID, 'Mtb Area Processed (µm)'] =  sc_df['Mtb Area (µm)'].interpolate(method='linear').interpolate(method='backfill').rolling(window=window).median().values\n",
      "/tmp/ipykernel_10817/526970481.py:6: FutureWarning: Series.interpolate with method=backfill is deprecated and will raise in a future version. Use obj.ffill() or obj.bfill() instead.\n",
      "  df_acq_ID.loc[df_acq_ID['ID'] == ID, 'Mtb Area Processed (µm)'] =  sc_df['Mtb Area (µm)'].interpolate(method='linear').interpolate(method='backfill').rolling(window=window).median().values\n",
      "/tmp/ipykernel_10817/526970481.py:6: FutureWarning: Series.interpolate with method=backfill is deprecated and will raise in a future version. Use obj.ffill() or obj.bfill() instead.\n",
      "  df_acq_ID.loc[df_acq_ID['ID'] == ID, 'Mtb Area Processed (µm)'] =  sc_df['Mtb Area (µm)'].interpolate(method='linear').interpolate(method='backfill').rolling(window=window).median().values\n",
      "/tmp/ipykernel_10817/526970481.py:6: FutureWarning: Series.interpolate with method=backfill is deprecated and will raise in a future version. Use obj.ffill() or obj.bfill() instead.\n",
      "  df_acq_ID.loc[df_acq_ID['ID'] == ID, 'Mtb Area Processed (µm)'] =  sc_df['Mtb Area (µm)'].interpolate(method='linear').interpolate(method='backfill').rolling(window=window).median().values\n",
      "/tmp/ipykernel_10817/526970481.py:6: FutureWarning: Series.interpolate with method=backfill is deprecated and will raise in a future version. Use obj.ffill() or obj.bfill() instead.\n",
      "  df_acq_ID.loc[df_acq_ID['ID'] == ID, 'Mtb Area Processed (µm)'] =  sc_df['Mtb Area (µm)'].interpolate(method='linear').interpolate(method='backfill').rolling(window=window).median().values\n",
      "/tmp/ipykernel_10817/526970481.py:6: FutureWarning: Series.interpolate with method=backfill is deprecated and will raise in a future version. Use obj.ffill() or obj.bfill() instead.\n",
      "  df_acq_ID.loc[df_acq_ID['ID'] == ID, 'Mtb Area Processed (µm)'] =  sc_df['Mtb Area (µm)'].interpolate(method='linear').interpolate(method='backfill').rolling(window=window).median().values\n",
      "/tmp/ipykernel_10817/526970481.py:6: FutureWarning: Series.interpolate with method=backfill is deprecated and will raise in a future version. Use obj.ffill() or obj.bfill() instead.\n",
      "  df_acq_ID.loc[df_acq_ID['ID'] == ID, 'Mtb Area Processed (µm)'] =  sc_df['Mtb Area (µm)'].interpolate(method='linear').interpolate(method='backfill').rolling(window=window).median().values\n",
      "/tmp/ipykernel_10817/526970481.py:6: FutureWarning: Series.interpolate with method=backfill is deprecated and will raise in a future version. Use obj.ffill() or obj.bfill() instead.\n",
      "  df_acq_ID.loc[df_acq_ID['ID'] == ID, 'Mtb Area Processed (µm)'] =  sc_df['Mtb Area (µm)'].interpolate(method='linear').interpolate(method='backfill').rolling(window=window).median().values\n",
      "/tmp/ipykernel_10817/526970481.py:6: FutureWarning: Series.interpolate with method=backfill is deprecated and will raise in a future version. Use obj.ffill() or obj.bfill() instead.\n",
      "  df_acq_ID.loc[df_acq_ID['ID'] == ID, 'Mtb Area Processed (µm)'] =  sc_df['Mtb Area (µm)'].interpolate(method='linear').interpolate(method='backfill').rolling(window=window).median().values\n",
      "/tmp/ipykernel_10817/526970481.py:6: FutureWarning: Series.interpolate with method=backfill is deprecated and will raise in a future version. Use obj.ffill() or obj.bfill() instead.\n",
      "  df_acq_ID.loc[df_acq_ID['ID'] == ID, 'Mtb Area Processed (µm)'] =  sc_df['Mtb Area (µm)'].interpolate(method='linear').interpolate(method='backfill').rolling(window=window).median().values\n",
      "/tmp/ipykernel_10817/526970481.py:6: FutureWarning: Series.interpolate with method=backfill is deprecated and will raise in a future version. Use obj.ffill() or obj.bfill() instead.\n",
      "  df_acq_ID.loc[df_acq_ID['ID'] == ID, 'Mtb Area Processed (µm)'] =  sc_df['Mtb Area (µm)'].interpolate(method='linear').interpolate(method='backfill').rolling(window=window).median().values\n",
      "/tmp/ipykernel_10817/526970481.py:6: FutureWarning: Series.interpolate with method=backfill is deprecated and will raise in a future version. Use obj.ffill() or obj.bfill() instead.\n",
      "  df_acq_ID.loc[df_acq_ID['ID'] == ID, 'Mtb Area Processed (µm)'] =  sc_df['Mtb Area (µm)'].interpolate(method='linear').interpolate(method='backfill').rolling(window=window).median().values\n",
      "/tmp/ipykernel_10817/526970481.py:6: FutureWarning: Series.interpolate with method=backfill is deprecated and will raise in a future version. Use obj.ffill() or obj.bfill() instead.\n",
      "  df_acq_ID.loc[df_acq_ID['ID'] == ID, 'Mtb Area Processed (µm)'] =  sc_df['Mtb Area (µm)'].interpolate(method='linear').interpolate(method='backfill').rolling(window=window).median().values\n",
      "/tmp/ipykernel_10817/526970481.py:6: FutureWarning: Series.interpolate with method=backfill is deprecated and will raise in a future version. Use obj.ffill() or obj.bfill() instead.\n",
      "  df_acq_ID.loc[df_acq_ID['ID'] == ID, 'Mtb Area Processed (µm)'] =  sc_df['Mtb Area (µm)'].interpolate(method='linear').interpolate(method='backfill').rolling(window=window).median().values\n",
      "/tmp/ipykernel_10817/526970481.py:6: FutureWarning: Series.interpolate with method=backfill is deprecated and will raise in a future version. Use obj.ffill() or obj.bfill() instead.\n",
      "  df_acq_ID.loc[df_acq_ID['ID'] == ID, 'Mtb Area Processed (µm)'] =  sc_df['Mtb Area (µm)'].interpolate(method='linear').interpolate(method='backfill').rolling(window=window).median().values\n",
      "/tmp/ipykernel_10817/526970481.py:6: FutureWarning: Series.interpolate with method=backfill is deprecated and will raise in a future version. Use obj.ffill() or obj.bfill() instead.\n",
      "  df_acq_ID.loc[df_acq_ID['ID'] == ID, 'Mtb Area Processed (µm)'] =  sc_df['Mtb Area (µm)'].interpolate(method='linear').interpolate(method='backfill').rolling(window=window).median().values\n",
      "/tmp/ipykernel_10817/526970481.py:6: FutureWarning: Series.interpolate with method=backfill is deprecated and will raise in a future version. Use obj.ffill() or obj.bfill() instead.\n",
      "  df_acq_ID.loc[df_acq_ID['ID'] == ID, 'Mtb Area Processed (µm)'] =  sc_df['Mtb Area (µm)'].interpolate(method='linear').interpolate(method='backfill').rolling(window=window).median().values\n",
      "/tmp/ipykernel_10817/526970481.py:6: FutureWarning: Series.interpolate with method=backfill is deprecated and will raise in a future version. Use obj.ffill() or obj.bfill() instead.\n",
      "  df_acq_ID.loc[df_acq_ID['ID'] == ID, 'Mtb Area Processed (µm)'] =  sc_df['Mtb Area (µm)'].interpolate(method='linear').interpolate(method='backfill').rolling(window=window).median().values\n",
      "/tmp/ipykernel_10817/526970481.py:6: FutureWarning: Series.interpolate with method=backfill is deprecated and will raise in a future version. Use obj.ffill() or obj.bfill() instead.\n",
      "  df_acq_ID.loc[df_acq_ID['ID'] == ID, 'Mtb Area Processed (µm)'] =  sc_df['Mtb Area (µm)'].interpolate(method='linear').interpolate(method='backfill').rolling(window=window).median().values\n",
      "/tmp/ipykernel_10817/526970481.py:6: FutureWarning: Series.interpolate with method=backfill is deprecated and will raise in a future version. Use obj.ffill() or obj.bfill() instead.\n",
      "  df_acq_ID.loc[df_acq_ID['ID'] == ID, 'Mtb Area Processed (µm)'] =  sc_df['Mtb Area (µm)'].interpolate(method='linear').interpolate(method='backfill').rolling(window=window).median().values\n",
      "/tmp/ipykernel_10817/526970481.py:6: FutureWarning: Series.interpolate with method=backfill is deprecated and will raise in a future version. Use obj.ffill() or obj.bfill() instead.\n",
      "  df_acq_ID.loc[df_acq_ID['ID'] == ID, 'Mtb Area Processed (µm)'] =  sc_df['Mtb Area (µm)'].interpolate(method='linear').interpolate(method='backfill').rolling(window=window).median().values\n",
      "/tmp/ipykernel_10817/526970481.py:6: FutureWarning: Series.interpolate with method=backfill is deprecated and will raise in a future version. Use obj.ffill() or obj.bfill() instead.\n",
      "  df_acq_ID.loc[df_acq_ID['ID'] == ID, 'Mtb Area Processed (µm)'] =  sc_df['Mtb Area (µm)'].interpolate(method='linear').interpolate(method='backfill').rolling(window=window).median().values\n",
      "/tmp/ipykernel_10817/526970481.py:6: FutureWarning: Series.interpolate with method=backfill is deprecated and will raise in a future version. Use obj.ffill() or obj.bfill() instead.\n",
      "  df_acq_ID.loc[df_acq_ID['ID'] == ID, 'Mtb Area Processed (µm)'] =  sc_df['Mtb Area (µm)'].interpolate(method='linear').interpolate(method='backfill').rolling(window=window).median().values\n",
      "/tmp/ipykernel_10817/526970481.py:6: FutureWarning: Series.interpolate with method=backfill is deprecated and will raise in a future version. Use obj.ffill() or obj.bfill() instead.\n",
      "  df_acq_ID.loc[df_acq_ID['ID'] == ID, 'Mtb Area Processed (µm)'] =  sc_df['Mtb Area (µm)'].interpolate(method='linear').interpolate(method='backfill').rolling(window=window).median().values\n",
      "/tmp/ipykernel_10817/526970481.py:6: FutureWarning: Series.interpolate with method=backfill is deprecated and will raise in a future version. Use obj.ffill() or obj.bfill() instead.\n",
      "  df_acq_ID.loc[df_acq_ID['ID'] == ID, 'Mtb Area Processed (µm)'] =  sc_df['Mtb Area (µm)'].interpolate(method='linear').interpolate(method='backfill').rolling(window=window).median().values\n",
      "/tmp/ipykernel_10817/526970481.py:6: FutureWarning: Series.interpolate with method=backfill is deprecated and will raise in a future version. Use obj.ffill() or obj.bfill() instead.\n",
      "  df_acq_ID.loc[df_acq_ID['ID'] == ID, 'Mtb Area Processed (µm)'] =  sc_df['Mtb Area (µm)'].interpolate(method='linear').interpolate(method='backfill').rolling(window=window).median().values\n",
      "/tmp/ipykernel_10817/526970481.py:6: FutureWarning: Series.interpolate with method=backfill is deprecated and will raise in a future version. Use obj.ffill() or obj.bfill() instead.\n",
      "  df_acq_ID.loc[df_acq_ID['ID'] == ID, 'Mtb Area Processed (µm)'] =  sc_df['Mtb Area (µm)'].interpolate(method='linear').interpolate(method='backfill').rolling(window=window).median().values\n",
      "/tmp/ipykernel_10817/526970481.py:6: FutureWarning: Series.interpolate with method=backfill is deprecated and will raise in a future version. Use obj.ffill() or obj.bfill() instead.\n",
      "  df_acq_ID.loc[df_acq_ID['ID'] == ID, 'Mtb Area Processed (µm)'] =  sc_df['Mtb Area (µm)'].interpolate(method='linear').interpolate(method='backfill').rolling(window=window).median().values\n",
      "/tmp/ipykernel_10817/526970481.py:6: FutureWarning: Series.interpolate with method=backfill is deprecated and will raise in a future version. Use obj.ffill() or obj.bfill() instead.\n",
      "  df_acq_ID.loc[df_acq_ID['ID'] == ID, 'Mtb Area Processed (µm)'] =  sc_df['Mtb Area (µm)'].interpolate(method='linear').interpolate(method='backfill').rolling(window=window).median().values\n",
      "/tmp/ipykernel_10817/526970481.py:6: FutureWarning: Series.interpolate with method=backfill is deprecated and will raise in a future version. Use obj.ffill() or obj.bfill() instead.\n",
      "  df_acq_ID.loc[df_acq_ID['ID'] == ID, 'Mtb Area Processed (µm)'] =  sc_df['Mtb Area (µm)'].interpolate(method='linear').interpolate(method='backfill').rolling(window=window).median().values\n",
      "/tmp/ipykernel_10817/526970481.py:6: FutureWarning: Series.interpolate with method=backfill is deprecated and will raise in a future version. Use obj.ffill() or obj.bfill() instead.\n",
      "  df_acq_ID.loc[df_acq_ID['ID'] == ID, 'Mtb Area Processed (µm)'] =  sc_df['Mtb Area (µm)'].interpolate(method='linear').interpolate(method='backfill').rolling(window=window).median().values\n",
      "/tmp/ipykernel_10817/526970481.py:6: FutureWarning: Series.interpolate with method=backfill is deprecated and will raise in a future version. Use obj.ffill() or obj.bfill() instead.\n",
      "  df_acq_ID.loc[df_acq_ID['ID'] == ID, 'Mtb Area Processed (µm)'] =  sc_df['Mtb Area (µm)'].interpolate(method='linear').interpolate(method='backfill').rolling(window=window).median().values\n",
      "/tmp/ipykernel_10817/526970481.py:6: FutureWarning: Series.interpolate with method=backfill is deprecated and will raise in a future version. Use obj.ffill() or obj.bfill() instead.\n",
      "  df_acq_ID.loc[df_acq_ID['ID'] == ID, 'Mtb Area Processed (µm)'] =  sc_df['Mtb Area (µm)'].interpolate(method='linear').interpolate(method='backfill').rolling(window=window).median().values\n",
      "/tmp/ipykernel_10817/526970481.py:6: FutureWarning: Series.interpolate with method=backfill is deprecated and will raise in a future version. Use obj.ffill() or obj.bfill() instead.\n",
      "  df_acq_ID.loc[df_acq_ID['ID'] == ID, 'Mtb Area Processed (µm)'] =  sc_df['Mtb Area (µm)'].interpolate(method='linear').interpolate(method='backfill').rolling(window=window).median().values\n",
      "/tmp/ipykernel_10817/526970481.py:6: FutureWarning: Series.interpolate with method=backfill is deprecated and will raise in a future version. Use obj.ffill() or obj.bfill() instead.\n",
      "  df_acq_ID.loc[df_acq_ID['ID'] == ID, 'Mtb Area Processed (µm)'] =  sc_df['Mtb Area (µm)'].interpolate(method='linear').interpolate(method='backfill').rolling(window=window).median().values\n",
      "/tmp/ipykernel_10817/526970481.py:6: FutureWarning: Series.interpolate with method=backfill is deprecated and will raise in a future version. Use obj.ffill() or obj.bfill() instead.\n",
      "  df_acq_ID.loc[df_acq_ID['ID'] == ID, 'Mtb Area Processed (µm)'] =  sc_df['Mtb Area (µm)'].interpolate(method='linear').interpolate(method='backfill').rolling(window=window).median().values\n",
      "/tmp/ipykernel_10817/526970481.py:6: FutureWarning: Series.interpolate with method=backfill is deprecated and will raise in a future version. Use obj.ffill() or obj.bfill() instead.\n",
      "  df_acq_ID.loc[df_acq_ID['ID'] == ID, 'Mtb Area Processed (µm)'] =  sc_df['Mtb Area (µm)'].interpolate(method='linear').interpolate(method='backfill').rolling(window=window).median().values\n",
      "/tmp/ipykernel_10817/526970481.py:6: FutureWarning: Series.interpolate with method=backfill is deprecated and will raise in a future version. Use obj.ffill() or obj.bfill() instead.\n",
      "  df_acq_ID.loc[df_acq_ID['ID'] == ID, 'Mtb Area Processed (µm)'] =  sc_df['Mtb Area (µm)'].interpolate(method='linear').interpolate(method='backfill').rolling(window=window).median().values\n",
      "/tmp/ipykernel_10817/526970481.py:6: FutureWarning: Series.interpolate with method=backfill is deprecated and will raise in a future version. Use obj.ffill() or obj.bfill() instead.\n",
      "  df_acq_ID.loc[df_acq_ID['ID'] == ID, 'Mtb Area Processed (µm)'] =  sc_df['Mtb Area (µm)'].interpolate(method='linear').interpolate(method='backfill').rolling(window=window).median().values\n",
      "/tmp/ipykernel_10817/526970481.py:6: FutureWarning: Series.interpolate with method=backfill is deprecated and will raise in a future version. Use obj.ffill() or obj.bfill() instead.\n",
      "  df_acq_ID.loc[df_acq_ID['ID'] == ID, 'Mtb Area Processed (µm)'] =  sc_df['Mtb Area (µm)'].interpolate(method='linear').interpolate(method='backfill').rolling(window=window).median().values\n",
      "/tmp/ipykernel_10817/526970481.py:6: FutureWarning: Series.interpolate with method=backfill is deprecated and will raise in a future version. Use obj.ffill() or obj.bfill() instead.\n",
      "  df_acq_ID.loc[df_acq_ID['ID'] == ID, 'Mtb Area Processed (µm)'] =  sc_df['Mtb Area (µm)'].interpolate(method='linear').interpolate(method='backfill').rolling(window=window).median().values\n",
      "/tmp/ipykernel_10817/526970481.py:6: FutureWarning: Series.interpolate with method=backfill is deprecated and will raise in a future version. Use obj.ffill() or obj.bfill() instead.\n",
      "  df_acq_ID.loc[df_acq_ID['ID'] == ID, 'Mtb Area Processed (µm)'] =  sc_df['Mtb Area (µm)'].interpolate(method='linear').interpolate(method='backfill').rolling(window=window).median().values\n",
      "/tmp/ipykernel_10817/526970481.py:6: FutureWarning: Series.interpolate with method=backfill is deprecated and will raise in a future version. Use obj.ffill() or obj.bfill() instead.\n",
      "  df_acq_ID.loc[df_acq_ID['ID'] == ID, 'Mtb Area Processed (µm)'] =  sc_df['Mtb Area (µm)'].interpolate(method='linear').interpolate(method='backfill').rolling(window=window).median().values\n",
      "/tmp/ipykernel_10817/526970481.py:6: FutureWarning: Series.interpolate with method=backfill is deprecated and will raise in a future version. Use obj.ffill() or obj.bfill() instead.\n",
      "  df_acq_ID.loc[df_acq_ID['ID'] == ID, 'Mtb Area Processed (µm)'] =  sc_df['Mtb Area (µm)'].interpolate(method='linear').interpolate(method='backfill').rolling(window=window).median().values\n",
      "/tmp/ipykernel_10817/526970481.py:6: FutureWarning: Series.interpolate with method=backfill is deprecated and will raise in a future version. Use obj.ffill() or obj.bfill() instead.\n",
      "  df_acq_ID.loc[df_acq_ID['ID'] == ID, 'Mtb Area Processed (µm)'] =  sc_df['Mtb Area (µm)'].interpolate(method='linear').interpolate(method='backfill').rolling(window=window).median().values\n",
      "/tmp/ipykernel_10817/526970481.py:6: FutureWarning: Series.interpolate with method=backfill is deprecated and will raise in a future version. Use obj.ffill() or obj.bfill() instead.\n",
      "  df_acq_ID.loc[df_acq_ID['ID'] == ID, 'Mtb Area Processed (µm)'] =  sc_df['Mtb Area (µm)'].interpolate(method='linear').interpolate(method='backfill').rolling(window=window).median().values\n",
      "/tmp/ipykernel_10817/526970481.py:6: FutureWarning: Series.interpolate with method=backfill is deprecated and will raise in a future version. Use obj.ffill() or obj.bfill() instead.\n",
      "  df_acq_ID.loc[df_acq_ID['ID'] == ID, 'Mtb Area Processed (µm)'] =  sc_df['Mtb Area (µm)'].interpolate(method='linear').interpolate(method='backfill').rolling(window=window).median().values\n",
      "/tmp/ipykernel_10817/526970481.py:6: FutureWarning: Series.interpolate with method=backfill is deprecated and will raise in a future version. Use obj.ffill() or obj.bfill() instead.\n",
      "  df_acq_ID.loc[df_acq_ID['ID'] == ID, 'Mtb Area Processed (µm)'] =  sc_df['Mtb Area (µm)'].interpolate(method='linear').interpolate(method='backfill').rolling(window=window).median().values\n",
      "/tmp/ipykernel_10817/526970481.py:6: FutureWarning: Series.interpolate with method=backfill is deprecated and will raise in a future version. Use obj.ffill() or obj.bfill() instead.\n",
      "  df_acq_ID.loc[df_acq_ID['ID'] == ID, 'Mtb Area Processed (µm)'] =  sc_df['Mtb Area (µm)'].interpolate(method='linear').interpolate(method='backfill').rolling(window=window).median().values\n",
      "/tmp/ipykernel_10817/526970481.py:6: FutureWarning: Series.interpolate with method=backfill is deprecated and will raise in a future version. Use obj.ffill() or obj.bfill() instead.\n",
      "  df_acq_ID.loc[df_acq_ID['ID'] == ID, 'Mtb Area Processed (µm)'] =  sc_df['Mtb Area (µm)'].interpolate(method='linear').interpolate(method='backfill').rolling(window=window).median().values\n",
      "/tmp/ipykernel_10817/526970481.py:6: FutureWarning: Series.interpolate with method=backfill is deprecated and will raise in a future version. Use obj.ffill() or obj.bfill() instead.\n",
      "  df_acq_ID.loc[df_acq_ID['ID'] == ID, 'Mtb Area Processed (µm)'] =  sc_df['Mtb Area (µm)'].interpolate(method='linear').interpolate(method='backfill').rolling(window=window).median().values\n",
      "/tmp/ipykernel_10817/526970481.py:6: FutureWarning: Series.interpolate with method=backfill is deprecated and will raise in a future version. Use obj.ffill() or obj.bfill() instead.\n",
      "  df_acq_ID.loc[df_acq_ID['ID'] == ID, 'Mtb Area Processed (µm)'] =  sc_df['Mtb Area (µm)'].interpolate(method='linear').interpolate(method='backfill').rolling(window=window).median().values\n",
      "/tmp/ipykernel_10817/526970481.py:6: FutureWarning: Series.interpolate with method=backfill is deprecated and will raise in a future version. Use obj.ffill() or obj.bfill() instead.\n",
      "  df_acq_ID.loc[df_acq_ID['ID'] == ID, 'Mtb Area Processed (µm)'] =  sc_df['Mtb Area (µm)'].interpolate(method='linear').interpolate(method='backfill').rolling(window=window).median().values\n",
      "/tmp/ipykernel_10817/526970481.py:6: FutureWarning: Series.interpolate with method=backfill is deprecated and will raise in a future version. Use obj.ffill() or obj.bfill() instead.\n",
      "  df_acq_ID.loc[df_acq_ID['ID'] == ID, 'Mtb Area Processed (µm)'] =  sc_df['Mtb Area (µm)'].interpolate(method='linear').interpolate(method='backfill').rolling(window=window).median().values\n",
      "/tmp/ipykernel_10817/526970481.py:6: FutureWarning: Series.interpolate with method=backfill is deprecated and will raise in a future version. Use obj.ffill() or obj.bfill() instead.\n",
      "  df_acq_ID.loc[df_acq_ID['ID'] == ID, 'Mtb Area Processed (µm)'] =  sc_df['Mtb Area (µm)'].interpolate(method='linear').interpolate(method='backfill').rolling(window=window).median().values\n",
      "/tmp/ipykernel_10817/526970481.py:6: FutureWarning: Series.interpolate with method=backfill is deprecated and will raise in a future version. Use obj.ffill() or obj.bfill() instead.\n",
      "  df_acq_ID.loc[df_acq_ID['ID'] == ID, 'Mtb Area Processed (µm)'] =  sc_df['Mtb Area (µm)'].interpolate(method='linear').interpolate(method='backfill').rolling(window=window).median().values\n",
      "/tmp/ipykernel_10817/526970481.py:6: FutureWarning: Series.interpolate with method=backfill is deprecated and will raise in a future version. Use obj.ffill() or obj.bfill() instead.\n",
      "  df_acq_ID.loc[df_acq_ID['ID'] == ID, 'Mtb Area Processed (µm)'] =  sc_df['Mtb Area (µm)'].interpolate(method='linear').interpolate(method='backfill').rolling(window=window).median().values\n",
      "/tmp/ipykernel_10817/526970481.py:6: FutureWarning: Series.interpolate with method=backfill is deprecated and will raise in a future version. Use obj.ffill() or obj.bfill() instead.\n",
      "  df_acq_ID.loc[df_acq_ID['ID'] == ID, 'Mtb Area Processed (µm)'] =  sc_df['Mtb Area (µm)'].interpolate(method='linear').interpolate(method='backfill').rolling(window=window).median().values\n",
      "/tmp/ipykernel_10817/526970481.py:6: FutureWarning: Series.interpolate with method=backfill is deprecated and will raise in a future version. Use obj.ffill() or obj.bfill() instead.\n",
      "  df_acq_ID.loc[df_acq_ID['ID'] == ID, 'Mtb Area Processed (µm)'] =  sc_df['Mtb Area (µm)'].interpolate(method='linear').interpolate(method='backfill').rolling(window=window).median().values\n",
      "/tmp/ipykernel_10817/526970481.py:6: FutureWarning: Series.interpolate with method=backfill is deprecated and will raise in a future version. Use obj.ffill() or obj.bfill() instead.\n",
      "  df_acq_ID.loc[df_acq_ID['ID'] == ID, 'Mtb Area Processed (µm)'] =  sc_df['Mtb Area (µm)'].interpolate(method='linear').interpolate(method='backfill').rolling(window=window).median().values\n",
      "/tmp/ipykernel_10817/526970481.py:6: FutureWarning: Series.interpolate with method=backfill is deprecated and will raise in a future version. Use obj.ffill() or obj.bfill() instead.\n",
      "  df_acq_ID.loc[df_acq_ID['ID'] == ID, 'Mtb Area Processed (µm)'] =  sc_df['Mtb Area (µm)'].interpolate(method='linear').interpolate(method='backfill').rolling(window=window).median().values\n",
      "/tmp/ipykernel_10817/526970481.py:6: FutureWarning: Series.interpolate with method=backfill is deprecated and will raise in a future version. Use obj.ffill() or obj.bfill() instead.\n",
      "  df_acq_ID.loc[df_acq_ID['ID'] == ID, 'Mtb Area Processed (µm)'] =  sc_df['Mtb Area (µm)'].interpolate(method='linear').interpolate(method='backfill').rolling(window=window).median().values\n",
      "/tmp/ipykernel_10817/526970481.py:6: FutureWarning: Series.interpolate with method=backfill is deprecated and will raise in a future version. Use obj.ffill() or obj.bfill() instead.\n",
      "  df_acq_ID.loc[df_acq_ID['ID'] == ID, 'Mtb Area Processed (µm)'] =  sc_df['Mtb Area (µm)'].interpolate(method='linear').interpolate(method='backfill').rolling(window=window).median().values\n",
      "/tmp/ipykernel_10817/526970481.py:6: FutureWarning: Series.interpolate with method=backfill is deprecated and will raise in a future version. Use obj.ffill() or obj.bfill() instead.\n",
      "  df_acq_ID.loc[df_acq_ID['ID'] == ID, 'Mtb Area Processed (µm)'] =  sc_df['Mtb Area (µm)'].interpolate(method='linear').interpolate(method='backfill').rolling(window=window).median().values\n",
      "/tmp/ipykernel_10817/526970481.py:6: FutureWarning: Series.interpolate with method=backfill is deprecated and will raise in a future version. Use obj.ffill() or obj.bfill() instead.\n",
      "  df_acq_ID.loc[df_acq_ID['ID'] == ID, 'Mtb Area Processed (µm)'] =  sc_df['Mtb Area (µm)'].interpolate(method='linear').interpolate(method='backfill').rolling(window=window).median().values\n",
      "/tmp/ipykernel_10817/526970481.py:6: FutureWarning: Series.interpolate with method=backfill is deprecated and will raise in a future version. Use obj.ffill() or obj.bfill() instead.\n",
      "  df_acq_ID.loc[df_acq_ID['ID'] == ID, 'Mtb Area Processed (µm)'] =  sc_df['Mtb Area (µm)'].interpolate(method='linear').interpolate(method='backfill').rolling(window=window).median().values\n",
      "/tmp/ipykernel_10817/526970481.py:6: FutureWarning: Series.interpolate with method=backfill is deprecated and will raise in a future version. Use obj.ffill() or obj.bfill() instead.\n",
      "  df_acq_ID.loc[df_acq_ID['ID'] == ID, 'Mtb Area Processed (µm)'] =  sc_df['Mtb Area (µm)'].interpolate(method='linear').interpolate(method='backfill').rolling(window=window).median().values\n",
      "/tmp/ipykernel_10817/526970481.py:6: FutureWarning: Series.interpolate with method=backfill is deprecated and will raise in a future version. Use obj.ffill() or obj.bfill() instead.\n",
      "  df_acq_ID.loc[df_acq_ID['ID'] == ID, 'Mtb Area Processed (µm)'] =  sc_df['Mtb Area (µm)'].interpolate(method='linear').interpolate(method='backfill').rolling(window=window).median().values\n",
      "/tmp/ipykernel_10817/526970481.py:6: FutureWarning: Series.interpolate with method=backfill is deprecated and will raise in a future version. Use obj.ffill() or obj.bfill() instead.\n",
      "  df_acq_ID.loc[df_acq_ID['ID'] == ID, 'Mtb Area Processed (µm)'] =  sc_df['Mtb Area (µm)'].interpolate(method='linear').interpolate(method='backfill').rolling(window=window).median().values\n",
      "/tmp/ipykernel_10817/526970481.py:6: FutureWarning: Series.interpolate with method=backfill is deprecated and will raise in a future version. Use obj.ffill() or obj.bfill() instead.\n",
      "  df_acq_ID.loc[df_acq_ID['ID'] == ID, 'Mtb Area Processed (µm)'] =  sc_df['Mtb Area (µm)'].interpolate(method='linear').interpolate(method='backfill').rolling(window=window).median().values\n",
      "/tmp/ipykernel_10817/526970481.py:6: FutureWarning: Series.interpolate with method=backfill is deprecated and will raise in a future version. Use obj.ffill() or obj.bfill() instead.\n",
      "  df_acq_ID.loc[df_acq_ID['ID'] == ID, 'Mtb Area Processed (µm)'] =  sc_df['Mtb Area (µm)'].interpolate(method='linear').interpolate(method='backfill').rolling(window=window).median().values\n",
      "/tmp/ipykernel_10817/526970481.py:6: FutureWarning: Series.interpolate with method=backfill is deprecated and will raise in a future version. Use obj.ffill() or obj.bfill() instead.\n",
      "  df_acq_ID.loc[df_acq_ID['ID'] == ID, 'Mtb Area Processed (µm)'] =  sc_df['Mtb Area (µm)'].interpolate(method='linear').interpolate(method='backfill').rolling(window=window).median().values\n",
      "/tmp/ipykernel_10817/526970481.py:6: FutureWarning: Series.interpolate with method=backfill is deprecated and will raise in a future version. Use obj.ffill() or obj.bfill() instead.\n",
      "  df_acq_ID.loc[df_acq_ID['ID'] == ID, 'Mtb Area Processed (µm)'] =  sc_df['Mtb Area (µm)'].interpolate(method='linear').interpolate(method='backfill').rolling(window=window).median().values\n",
      "/tmp/ipykernel_10817/526970481.py:6: FutureWarning: Series.interpolate with method=backfill is deprecated and will raise in a future version. Use obj.ffill() or obj.bfill() instead.\n",
      "  df_acq_ID.loc[df_acq_ID['ID'] == ID, 'Mtb Area Processed (µm)'] =  sc_df['Mtb Area (µm)'].interpolate(method='linear').interpolate(method='backfill').rolling(window=window).median().values\n",
      "/tmp/ipykernel_10817/526970481.py:6: FutureWarning: Series.interpolate with method=backfill is deprecated and will raise in a future version. Use obj.ffill() or obj.bfill() instead.\n",
      "  df_acq_ID.loc[df_acq_ID['ID'] == ID, 'Mtb Area Processed (µm)'] =  sc_df['Mtb Area (µm)'].interpolate(method='linear').interpolate(method='backfill').rolling(window=window).median().values\n",
      "/tmp/ipykernel_10817/526970481.py:6: FutureWarning: Series.interpolate with method=backfill is deprecated and will raise in a future version. Use obj.ffill() or obj.bfill() instead.\n",
      "  df_acq_ID.loc[df_acq_ID['ID'] == ID, 'Mtb Area Processed (µm)'] =  sc_df['Mtb Area (µm)'].interpolate(method='linear').interpolate(method='backfill').rolling(window=window).median().values\n",
      "/tmp/ipykernel_10817/526970481.py:6: FutureWarning: Series.interpolate with method=backfill is deprecated and will raise in a future version. Use obj.ffill() or obj.bfill() instead.\n",
      "  df_acq_ID.loc[df_acq_ID['ID'] == ID, 'Mtb Area Processed (µm)'] =  sc_df['Mtb Area (µm)'].interpolate(method='linear').interpolate(method='backfill').rolling(window=window).median().values\n",
      "/tmp/ipykernel_10817/526970481.py:6: FutureWarning: Series.interpolate with method=backfill is deprecated and will raise in a future version. Use obj.ffill() or obj.bfill() instead.\n",
      "  df_acq_ID.loc[df_acq_ID['ID'] == ID, 'Mtb Area Processed (µm)'] =  sc_df['Mtb Area (µm)'].interpolate(method='linear').interpolate(method='backfill').rolling(window=window).median().values\n",
      "/tmp/ipykernel_10817/526970481.py:6: FutureWarning: Series.interpolate with method=backfill is deprecated and will raise in a future version. Use obj.ffill() or obj.bfill() instead.\n",
      "  df_acq_ID.loc[df_acq_ID['ID'] == ID, 'Mtb Area Processed (µm)'] =  sc_df['Mtb Area (µm)'].interpolate(method='linear').interpolate(method='backfill').rolling(window=window).median().values\n",
      "/tmp/ipykernel_10817/526970481.py:6: FutureWarning: Series.interpolate with method=backfill is deprecated and will raise in a future version. Use obj.ffill() or obj.bfill() instead.\n",
      "  df_acq_ID.loc[df_acq_ID['ID'] == ID, 'Mtb Area Processed (µm)'] =  sc_df['Mtb Area (µm)'].interpolate(method='linear').interpolate(method='backfill').rolling(window=window).median().values\n",
      "/tmp/ipykernel_10817/526970481.py:6: FutureWarning: Series.interpolate with method=backfill is deprecated and will raise in a future version. Use obj.ffill() or obj.bfill() instead.\n",
      "  df_acq_ID.loc[df_acq_ID['ID'] == ID, 'Mtb Area Processed (µm)'] =  sc_df['Mtb Area (µm)'].interpolate(method='linear').interpolate(method='backfill').rolling(window=window).median().values\n",
      "/tmp/ipykernel_10817/526970481.py:6: FutureWarning: Series.interpolate with method=backfill is deprecated and will raise in a future version. Use obj.ffill() or obj.bfill() instead.\n",
      "  df_acq_ID.loc[df_acq_ID['ID'] == ID, 'Mtb Area Processed (µm)'] =  sc_df['Mtb Area (µm)'].interpolate(method='linear').interpolate(method='backfill').rolling(window=window).median().values\n",
      "/tmp/ipykernel_10817/526970481.py:6: FutureWarning: Series.interpolate with method=backfill is deprecated and will raise in a future version. Use obj.ffill() or obj.bfill() instead.\n",
      "  df_acq_ID.loc[df_acq_ID['ID'] == ID, 'Mtb Area Processed (µm)'] =  sc_df['Mtb Area (µm)'].interpolate(method='linear').interpolate(method='backfill').rolling(window=window).median().values\n",
      "/tmp/ipykernel_10817/526970481.py:6: FutureWarning: Series.interpolate with method=backfill is deprecated and will raise in a future version. Use obj.ffill() or obj.bfill() instead.\n",
      "  df_acq_ID.loc[df_acq_ID['ID'] == ID, 'Mtb Area Processed (µm)'] =  sc_df['Mtb Area (µm)'].interpolate(method='linear').interpolate(method='backfill').rolling(window=window).median().values\n",
      "/tmp/ipykernel_10817/526970481.py:6: FutureWarning: Series.interpolate with method=backfill is deprecated and will raise in a future version. Use obj.ffill() or obj.bfill() instead.\n",
      "  df_acq_ID.loc[df_acq_ID['ID'] == ID, 'Mtb Area Processed (µm)'] =  sc_df['Mtb Area (µm)'].interpolate(method='linear').interpolate(method='backfill').rolling(window=window).median().values\n",
      "/tmp/ipykernel_10817/526970481.py:6: FutureWarning: Series.interpolate with method=backfill is deprecated and will raise in a future version. Use obj.ffill() or obj.bfill() instead.\n",
      "  df_acq_ID.loc[df_acq_ID['ID'] == ID, 'Mtb Area Processed (µm)'] =  sc_df['Mtb Area (µm)'].interpolate(method='linear').interpolate(method='backfill').rolling(window=window).median().values\n",
      "/tmp/ipykernel_10817/526970481.py:6: FutureWarning: Series.interpolate with method=backfill is deprecated and will raise in a future version. Use obj.ffill() or obj.bfill() instead.\n",
      "  df_acq_ID.loc[df_acq_ID['ID'] == ID, 'Mtb Area Processed (µm)'] =  sc_df['Mtb Area (µm)'].interpolate(method='linear').interpolate(method='backfill').rolling(window=window).median().values\n",
      "/tmp/ipykernel_10817/526970481.py:6: FutureWarning: Series.interpolate with method=backfill is deprecated and will raise in a future version. Use obj.ffill() or obj.bfill() instead.\n",
      "  df_acq_ID.loc[df_acq_ID['ID'] == ID, 'Mtb Area Processed (µm)'] =  sc_df['Mtb Area (µm)'].interpolate(method='linear').interpolate(method='backfill').rolling(window=window).median().values\n",
      "/tmp/ipykernel_10817/526970481.py:6: FutureWarning: Series.interpolate with method=backfill is deprecated and will raise in a future version. Use obj.ffill() or obj.bfill() instead.\n",
      "  df_acq_ID.loc[df_acq_ID['ID'] == ID, 'Mtb Area Processed (µm)'] =  sc_df['Mtb Area (µm)'].interpolate(method='linear').interpolate(method='backfill').rolling(window=window).median().values\n",
      "/tmp/ipykernel_10817/526970481.py:6: FutureWarning: Series.interpolate with method=backfill is deprecated and will raise in a future version. Use obj.ffill() or obj.bfill() instead.\n",
      "  df_acq_ID.loc[df_acq_ID['ID'] == ID, 'Mtb Area Processed (µm)'] =  sc_df['Mtb Area (µm)'].interpolate(method='linear').interpolate(method='backfill').rolling(window=window).median().values\n",
      "/tmp/ipykernel_10817/526970481.py:6: FutureWarning: Series.interpolate with method=backfill is deprecated and will raise in a future version. Use obj.ffill() or obj.bfill() instead.\n",
      "  df_acq_ID.loc[df_acq_ID['ID'] == ID, 'Mtb Area Processed (µm)'] =  sc_df['Mtb Area (µm)'].interpolate(method='linear').interpolate(method='backfill').rolling(window=window).median().values\n",
      "/tmp/ipykernel_10817/526970481.py:6: FutureWarning: Series.interpolate with method=backfill is deprecated and will raise in a future version. Use obj.ffill() or obj.bfill() instead.\n",
      "  df_acq_ID.loc[df_acq_ID['ID'] == ID, 'Mtb Area Processed (µm)'] =  sc_df['Mtb Area (µm)'].interpolate(method='linear').interpolate(method='backfill').rolling(window=window).median().values\n",
      "/tmp/ipykernel_10817/526970481.py:6: FutureWarning: Series.interpolate with method=backfill is deprecated and will raise in a future version. Use obj.ffill() or obj.bfill() instead.\n",
      "  df_acq_ID.loc[df_acq_ID['ID'] == ID, 'Mtb Area Processed (µm)'] =  sc_df['Mtb Area (µm)'].interpolate(method='linear').interpolate(method='backfill').rolling(window=window).median().values\n",
      "/tmp/ipykernel_10817/526970481.py:6: FutureWarning: Series.interpolate with method=backfill is deprecated and will raise in a future version. Use obj.ffill() or obj.bfill() instead.\n",
      "  df_acq_ID.loc[df_acq_ID['ID'] == ID, 'Mtb Area Processed (µm)'] =  sc_df['Mtb Area (µm)'].interpolate(method='linear').interpolate(method='backfill').rolling(window=window).median().values\n",
      "/tmp/ipykernel_10817/526970481.py:6: FutureWarning: Series.interpolate with method=backfill is deprecated and will raise in a future version. Use obj.ffill() or obj.bfill() instead.\n",
      "  df_acq_ID.loc[df_acq_ID['ID'] == ID, 'Mtb Area Processed (µm)'] =  sc_df['Mtb Area (µm)'].interpolate(method='linear').interpolate(method='backfill').rolling(window=window).median().values\n",
      "/tmp/ipykernel_10817/526970481.py:6: FutureWarning: Series.interpolate with method=backfill is deprecated and will raise in a future version. Use obj.ffill() or obj.bfill() instead.\n",
      "  df_acq_ID.loc[df_acq_ID['ID'] == ID, 'Mtb Area Processed (µm)'] =  sc_df['Mtb Area (µm)'].interpolate(method='linear').interpolate(method='backfill').rolling(window=window).median().values\n",
      "/tmp/ipykernel_10817/526970481.py:6: FutureWarning: Series.interpolate with method=backfill is deprecated and will raise in a future version. Use obj.ffill() or obj.bfill() instead.\n",
      "  df_acq_ID.loc[df_acq_ID['ID'] == ID, 'Mtb Area Processed (µm)'] =  sc_df['Mtb Area (µm)'].interpolate(method='linear').interpolate(method='backfill').rolling(window=window).median().values\n",
      "/tmp/ipykernel_10817/526970481.py:6: FutureWarning: Series.interpolate with method=backfill is deprecated and will raise in a future version. Use obj.ffill() or obj.bfill() instead.\n",
      "  df_acq_ID.loc[df_acq_ID['ID'] == ID, 'Mtb Area Processed (µm)'] =  sc_df['Mtb Area (µm)'].interpolate(method='linear').interpolate(method='backfill').rolling(window=window).median().values\n",
      "/tmp/ipykernel_10817/526970481.py:6: FutureWarning: Series.interpolate with method=backfill is deprecated and will raise in a future version. Use obj.ffill() or obj.bfill() instead.\n",
      "  df_acq_ID.loc[df_acq_ID['ID'] == ID, 'Mtb Area Processed (µm)'] =  sc_df['Mtb Area (µm)'].interpolate(method='linear').interpolate(method='backfill').rolling(window=window).median().values\n",
      "/tmp/ipykernel_10817/526970481.py:6: FutureWarning: Series.interpolate with method=backfill is deprecated and will raise in a future version. Use obj.ffill() or obj.bfill() instead.\n",
      "  df_acq_ID.loc[df_acq_ID['ID'] == ID, 'Mtb Area Processed (µm)'] =  sc_df['Mtb Area (µm)'].interpolate(method='linear').interpolate(method='backfill').rolling(window=window).median().values\n",
      "/tmp/ipykernel_10817/526970481.py:6: FutureWarning: Series.interpolate with method=backfill is deprecated and will raise in a future version. Use obj.ffill() or obj.bfill() instead.\n",
      "  df_acq_ID.loc[df_acq_ID['ID'] == ID, 'Mtb Area Processed (µm)'] =  sc_df['Mtb Area (µm)'].interpolate(method='linear').interpolate(method='backfill').rolling(window=window).median().values\n",
      "/tmp/ipykernel_10817/526970481.py:6: FutureWarning: Series.interpolate with method=backfill is deprecated and will raise in a future version. Use obj.ffill() or obj.bfill() instead.\n",
      "  df_acq_ID.loc[df_acq_ID['ID'] == ID, 'Mtb Area Processed (µm)'] =  sc_df['Mtb Area (µm)'].interpolate(method='linear').interpolate(method='backfill').rolling(window=window).median().values\n",
      "/tmp/ipykernel_10817/526970481.py:6: FutureWarning: Series.interpolate with method=backfill is deprecated and will raise in a future version. Use obj.ffill() or obj.bfill() instead.\n",
      "  df_acq_ID.loc[df_acq_ID['ID'] == ID, 'Mtb Area Processed (µm)'] =  sc_df['Mtb Area (µm)'].interpolate(method='linear').interpolate(method='backfill').rolling(window=window).median().values\n",
      "/tmp/ipykernel_10817/526970481.py:6: FutureWarning: Series.interpolate with method=backfill is deprecated and will raise in a future version. Use obj.ffill() or obj.bfill() instead.\n",
      "  df_acq_ID.loc[df_acq_ID['ID'] == ID, 'Mtb Area Processed (µm)'] =  sc_df['Mtb Area (µm)'].interpolate(method='linear').interpolate(method='backfill').rolling(window=window).median().values\n",
      "/tmp/ipykernel_10817/526970481.py:6: FutureWarning: Series.interpolate with method=backfill is deprecated and will raise in a future version. Use obj.ffill() or obj.bfill() instead.\n",
      "  df_acq_ID.loc[df_acq_ID['ID'] == ID, 'Mtb Area Processed (µm)'] =  sc_df['Mtb Area (µm)'].interpolate(method='linear').interpolate(method='backfill').rolling(window=window).median().values\n",
      "/tmp/ipykernel_10817/526970481.py:6: FutureWarning: Series.interpolate with method=backfill is deprecated and will raise in a future version. Use obj.ffill() or obj.bfill() instead.\n",
      "  df_acq_ID.loc[df_acq_ID['ID'] == ID, 'Mtb Area Processed (µm)'] =  sc_df['Mtb Area (µm)'].interpolate(method='linear').interpolate(method='backfill').rolling(window=window).median().values\n",
      "/tmp/ipykernel_10817/526970481.py:6: FutureWarning: Series.interpolate with method=backfill is deprecated and will raise in a future version. Use obj.ffill() or obj.bfill() instead.\n",
      "  df_acq_ID.loc[df_acq_ID['ID'] == ID, 'Mtb Area Processed (µm)'] =  sc_df['Mtb Area (µm)'].interpolate(method='linear').interpolate(method='backfill').rolling(window=window).median().values\n",
      "/tmp/ipykernel_10817/526970481.py:6: FutureWarning: Series.interpolate with method=backfill is deprecated and will raise in a future version. Use obj.ffill() or obj.bfill() instead.\n",
      "  df_acq_ID.loc[df_acq_ID['ID'] == ID, 'Mtb Area Processed (µm)'] =  sc_df['Mtb Area (µm)'].interpolate(method='linear').interpolate(method='backfill').rolling(window=window).median().values\n",
      "/tmp/ipykernel_10817/526970481.py:6: FutureWarning: Series.interpolate with method=backfill is deprecated and will raise in a future version. Use obj.ffill() or obj.bfill() instead.\n",
      "  df_acq_ID.loc[df_acq_ID['ID'] == ID, 'Mtb Area Processed (µm)'] =  sc_df['Mtb Area (µm)'].interpolate(method='linear').interpolate(method='backfill').rolling(window=window).median().values\n",
      "/tmp/ipykernel_10817/526970481.py:6: FutureWarning: Series.interpolate with method=backfill is deprecated and will raise in a future version. Use obj.ffill() or obj.bfill() instead.\n",
      "  df_acq_ID.loc[df_acq_ID['ID'] == ID, 'Mtb Area Processed (µm)'] =  sc_df['Mtb Area (µm)'].interpolate(method='linear').interpolate(method='backfill').rolling(window=window).median().values\n",
      "/tmp/ipykernel_10817/526970481.py:6: FutureWarning: Series.interpolate with method=backfill is deprecated and will raise in a future version. Use obj.ffill() or obj.bfill() instead.\n",
      "  df_acq_ID.loc[df_acq_ID['ID'] == ID, 'Mtb Area Processed (µm)'] =  sc_df['Mtb Area (µm)'].interpolate(method='linear').interpolate(method='backfill').rolling(window=window).median().values\n",
      "/tmp/ipykernel_10817/526970481.py:6: FutureWarning: Series.interpolate with method=backfill is deprecated and will raise in a future version. Use obj.ffill() or obj.bfill() instead.\n",
      "  df_acq_ID.loc[df_acq_ID['ID'] == ID, 'Mtb Area Processed (µm)'] =  sc_df['Mtb Area (µm)'].interpolate(method='linear').interpolate(method='backfill').rolling(window=window).median().values\n",
      "/tmp/ipykernel_10817/526970481.py:6: FutureWarning: Series.interpolate with method=backfill is deprecated and will raise in a future version. Use obj.ffill() or obj.bfill() instead.\n",
      "  df_acq_ID.loc[df_acq_ID['ID'] == ID, 'Mtb Area Processed (µm)'] =  sc_df['Mtb Area (µm)'].interpolate(method='linear').interpolate(method='backfill').rolling(window=window).median().values\n",
      "/tmp/ipykernel_10817/526970481.py:6: FutureWarning: Series.interpolate with method=backfill is deprecated and will raise in a future version. Use obj.ffill() or obj.bfill() instead.\n",
      "  df_acq_ID.loc[df_acq_ID['ID'] == ID, 'Mtb Area Processed (µm)'] =  sc_df['Mtb Area (µm)'].interpolate(method='linear').interpolate(method='backfill').rolling(window=window).median().values\n"
     ]
    }
   ],
   "source": [
    "# Iterate over each unique ID in the DataFrame\n",
    "for ID in tqdm(df_acq_ID['ID'].unique()):\n",
    "    # Filter the DataFrame for the current ID\n",
    "    sc_df = df_acq_ID[df_acq_ID['ID'] == ID].copy()\n",
    "    \n",
    "    df_acq_ID.loc[df_acq_ID['ID'] == ID, 'Mtb Area Processed (µm)'] =  sc_df['Mtb Area (µm)'].interpolate(method='linear').interpolate(method='backfill').rolling(window=window).median().values"
   ]
  },
  {
   "cell_type": "markdown",
   "id": "fd3c03a9-b52d-44ac-ba7d-dd49047c24b9",
   "metadata": {},
   "source": [
    "### Calculate a growth model for each trajectory based on the processed signal "
   ]
  },
  {
   "cell_type": "code",
   "execution_count": 73,
   "id": "a0c1f38b-7bd4-491a-b7e8-fb5234116476",
   "metadata": {
    "scrolled": true
   },
   "outputs": [
    {
     "data": {
      "application/vnd.jupyter.widget-view+json": {
       "model_id": "a3269e4490974128bbb5cec8dc05a066",
       "version_major": 2,
       "version_minor": 0
      },
      "text/plain": [
       "  0%|          | 0/127 [00:00<?, ?it/s]"
      ]
     },
     "metadata": {},
     "output_type": "display_data"
    }
   ],
   "source": [
    "# Iterate over each unique ID in the DataFrame\n",
    "for ID in tqdm(df_acq_ID['ID'].unique()):\n",
    "    # Filter the DataFrame for the current ID\n",
    "    sc_df = df_acq_ID[df_acq_ID['ID'] == ID].copy()\n",
    "    \n",
    "    # Determine the window size based on the ID\n",
    "    window = 5 if 'PS0000' in ID else 10\n",
    "    \n",
    "    # Extract time points and bacterial population values\n",
    "    time_points = sc_df['Time (hours)'].values\n",
    "    bacterial_population = sc_df['Mtb Area Processed (µm)'].values\n",
    "    \n",
    "    # Fit the population model using LOWESS\n",
    "    model = sm.nonparametric.lowess(endog=bacterial_population, exog=time_points, frac=0.25)\n",
    "    time_model = model[:, 0] -(window / 2) + 0.5 ## shifting the time model back to account for the shift from rolling average\n",
    "    population_model = np.clip(model[:, 1], 0, None) # clipping any population models above 0\n",
    "\n",
    "    if len(sc_df) < len(population_model):\n",
    "        print('trouble with', ID)\n",
    "        break\n",
    "    # Padding population_model with NaNs if it is shorter than sc_df\n",
    "    if len(sc_df) > len(population_model):\n",
    "        length_diff = len(sc_df) - len(population_model)\n",
    "        pad_front = length_diff // 2\n",
    "        pad_end = length_diff - pad_front\n",
    "        \n",
    "        population_model = np.concatenate([\n",
    "            np.full(pad_front, np.nan),\n",
    "            population_model,\n",
    "            np.full(pad_end, np.nan)\n",
    "        ])\n",
    "        \n",
    "        time_model = np.concatenate([\n",
    "            np.full(pad_front, np.nan),\n",
    "            time_model,\n",
    "            np.full(pad_end, np.nan)\n",
    "        ])\n",
    "\n",
    "    # Add the new columns to the original DataFrame for this specific ID\n",
    "    df_acq_ID.loc[df_acq_ID['ID'] == ID, 'Time Model (hours)'] = time_model\n",
    "    df_acq_ID.loc[df_acq_ID['ID'] == ID, 'Mtb Area Model (µm)'] = population_model"
   ]
  },
  {
   "cell_type": "code",
   "execution_count": 74,
   "id": "d6f84e7d-ebe5-4c3f-ab6d-2a96ba401fd4",
   "metadata": {},
   "outputs": [
    {
     "data": {
      "text/html": [
       "<div>\n",
       "<style scoped>\n",
       "    .dataframe tbody tr th:only-of-type {\n",
       "        vertical-align: middle;\n",
       "    }\n",
       "\n",
       "    .dataframe tbody tr th {\n",
       "        vertical-align: top;\n",
       "    }\n",
       "\n",
       "    .dataframe thead th {\n",
       "        text-align: right;\n",
       "    }\n",
       "</style>\n",
       "<table border=\"1\" class=\"dataframe\">\n",
       "  <thead>\n",
       "    <tr style=\"text-align: right;\">\n",
       "      <th></th>\n",
       "      <th>ID</th>\n",
       "      <th>t</th>\n",
       "      <th>x</th>\n",
       "      <th>y</th>\n",
       "      <th>Mtb Area (µm)</th>\n",
       "      <th>Mphi Area (µm)</th>\n",
       "      <th>Infection Status</th>\n",
       "      <th>Initial Infection Status</th>\n",
       "      <th>Final Infection Status</th>\n",
       "      <th>Unique_ID</th>\n",
       "      <th>...</th>\n",
       "      <th>Compound</th>\n",
       "      <th>Concentration</th>\n",
       "      <th>Time (hours)</th>\n",
       "      <th>Frame</th>\n",
       "      <th>Cell ID</th>\n",
       "      <th>Acquisition ID</th>\n",
       "      <th>Experiment ID</th>\n",
       "      <th>Mtb Area Processed (µm)</th>\n",
       "      <th>Time Model (hours)</th>\n",
       "      <th>Mtb Area Model (µm)</th>\n",
       "    </tr>\n",
       "  </thead>\n",
       "  <tbody>\n",
       "    <tr>\n",
       "      <th>0</th>\n",
       "      <td>9.6.7.ND0004</td>\n",
       "      <td>0</td>\n",
       "      <td>2402</td>\n",
       "      <td>952</td>\n",
       "      <td>NaN</td>\n",
       "      <td>NaN</td>\n",
       "      <td>False</td>\n",
       "      <td>False</td>\n",
       "      <td>False</td>\n",
       "      <td>9.6.7.ND0004</td>\n",
       "      <td>...</td>\n",
       "      <td>RIF</td>\n",
       "      <td>EC99</td>\n",
       "      <td>0.0</td>\n",
       "      <td>0</td>\n",
       "      <td>9</td>\n",
       "      <td>(6, 7)</td>\n",
       "      <td>ND0004</td>\n",
       "      <td>NaN</td>\n",
       "      <td>NaN</td>\n",
       "      <td>NaN</td>\n",
       "    </tr>\n",
       "    <tr>\n",
       "      <th>1</th>\n",
       "      <td>9.6.7.ND0004</td>\n",
       "      <td>1</td>\n",
       "      <td>2403</td>\n",
       "      <td>937</td>\n",
       "      <td>5.497722</td>\n",
       "      <td>760.249983</td>\n",
       "      <td>True</td>\n",
       "      <td>False</td>\n",
       "      <td>False</td>\n",
       "      <td>9.6.7.ND0004</td>\n",
       "      <td>...</td>\n",
       "      <td>RIF</td>\n",
       "      <td>EC99</td>\n",
       "      <td>0.5</td>\n",
       "      <td>1</td>\n",
       "      <td>9</td>\n",
       "      <td>(6, 7)</td>\n",
       "      <td>ND0004</td>\n",
       "      <td>NaN</td>\n",
       "      <td>NaN</td>\n",
       "      <td>NaN</td>\n",
       "    </tr>\n",
       "    <tr>\n",
       "      <th>2</th>\n",
       "      <td>9.6.7.ND0004</td>\n",
       "      <td>2</td>\n",
       "      <td>2399</td>\n",
       "      <td>923</td>\n",
       "      <td>8.112492</td>\n",
       "      <td>1447.264056</td>\n",
       "      <td>True</td>\n",
       "      <td>False</td>\n",
       "      <td>False</td>\n",
       "      <td>9.6.7.ND0004</td>\n",
       "      <td>...</td>\n",
       "      <td>RIF</td>\n",
       "      <td>EC99</td>\n",
       "      <td>1.0</td>\n",
       "      <td>2</td>\n",
       "      <td>9</td>\n",
       "      <td>(6, 7)</td>\n",
       "      <td>ND0004</td>\n",
       "      <td>NaN</td>\n",
       "      <td>NaN</td>\n",
       "      <td>NaN</td>\n",
       "    </tr>\n",
       "    <tr>\n",
       "      <th>3</th>\n",
       "      <td>9.6.7.ND0004</td>\n",
       "      <td>3</td>\n",
       "      <td>2407</td>\n",
       "      <td>923</td>\n",
       "      <td>6.503402</td>\n",
       "      <td>415.860183</td>\n",
       "      <td>True</td>\n",
       "      <td>False</td>\n",
       "      <td>False</td>\n",
       "      <td>9.6.7.ND0004</td>\n",
       "      <td>...</td>\n",
       "      <td>RIF</td>\n",
       "      <td>EC99</td>\n",
       "      <td>1.5</td>\n",
       "      <td>3</td>\n",
       "      <td>9</td>\n",
       "      <td>(6, 7)</td>\n",
       "      <td>ND0004</td>\n",
       "      <td>NaN</td>\n",
       "      <td>NaN</td>\n",
       "      <td>NaN</td>\n",
       "    </tr>\n",
       "    <tr>\n",
       "      <th>4</th>\n",
       "      <td>9.6.7.ND0004</td>\n",
       "      <td>4</td>\n",
       "      <td>2393</td>\n",
       "      <td>912</td>\n",
       "      <td>5.967039</td>\n",
       "      <td>1338.136516</td>\n",
       "      <td>True</td>\n",
       "      <td>False</td>\n",
       "      <td>False</td>\n",
       "      <td>9.6.7.ND0004</td>\n",
       "      <td>...</td>\n",
       "      <td>RIF</td>\n",
       "      <td>EC99</td>\n",
       "      <td>2.0</td>\n",
       "      <td>4</td>\n",
       "      <td>9</td>\n",
       "      <td>(6, 7)</td>\n",
       "      <td>ND0004</td>\n",
       "      <td>NaN</td>\n",
       "      <td>0.0</td>\n",
       "      <td>6.105074</td>\n",
       "    </tr>\n",
       "    <tr>\n",
       "      <th>...</th>\n",
       "      <td>...</td>\n",
       "      <td>...</td>\n",
       "      <td>...</td>\n",
       "      <td>...</td>\n",
       "      <td>...</td>\n",
       "      <td>...</td>\n",
       "      <td>...</td>\n",
       "      <td>...</td>\n",
       "      <td>...</td>\n",
       "      <td>...</td>\n",
       "      <td>...</td>\n",
       "      <td>...</td>\n",
       "      <td>...</td>\n",
       "      <td>...</td>\n",
       "      <td>...</td>\n",
       "      <td>...</td>\n",
       "      <td>...</td>\n",
       "      <td>...</td>\n",
       "      <td>...</td>\n",
       "      <td>...</td>\n",
       "      <td>...</td>\n",
       "    </tr>\n",
       "    <tr>\n",
       "      <th>14457</th>\n",
       "      <td>16539.6.7.ND0004</td>\n",
       "      <td>126</td>\n",
       "      <td>455</td>\n",
       "      <td>5997</td>\n",
       "      <td>NaN</td>\n",
       "      <td>NaN</td>\n",
       "      <td>False</td>\n",
       "      <td>False</td>\n",
       "      <td>True</td>\n",
       "      <td>16539.6.7.ND0004</td>\n",
       "      <td>...</td>\n",
       "      <td>RIF</td>\n",
       "      <td>EC99</td>\n",
       "      <td>63.0</td>\n",
       "      <td>126</td>\n",
       "      <td>16539</td>\n",
       "      <td>(6, 7)</td>\n",
       "      <td>ND0004</td>\n",
       "      <td>0.0</td>\n",
       "      <td>NaN</td>\n",
       "      <td>NaN</td>\n",
       "    </tr>\n",
       "    <tr>\n",
       "      <th>14458</th>\n",
       "      <td>16539.6.7.ND0004</td>\n",
       "      <td>127</td>\n",
       "      <td>449</td>\n",
       "      <td>6003</td>\n",
       "      <td>0.000000</td>\n",
       "      <td>459.104457</td>\n",
       "      <td>False</td>\n",
       "      <td>False</td>\n",
       "      <td>True</td>\n",
       "      <td>16539.6.7.ND0004</td>\n",
       "      <td>...</td>\n",
       "      <td>RIF</td>\n",
       "      <td>EC99</td>\n",
       "      <td>63.5</td>\n",
       "      <td>127</td>\n",
       "      <td>16539</td>\n",
       "      <td>(6, 7)</td>\n",
       "      <td>ND0004</td>\n",
       "      <td>0.0</td>\n",
       "      <td>NaN</td>\n",
       "      <td>NaN</td>\n",
       "    </tr>\n",
       "    <tr>\n",
       "      <th>14459</th>\n",
       "      <td>16539.6.7.ND0004</td>\n",
       "      <td>128</td>\n",
       "      <td>408</td>\n",
       "      <td>5976</td>\n",
       "      <td>4.022723</td>\n",
       "      <td>1094.471234</td>\n",
       "      <td>True</td>\n",
       "      <td>False</td>\n",
       "      <td>True</td>\n",
       "      <td>16539.6.7.ND0004</td>\n",
       "      <td>...</td>\n",
       "      <td>RIF</td>\n",
       "      <td>EC99</td>\n",
       "      <td>64.0</td>\n",
       "      <td>128</td>\n",
       "      <td>16539</td>\n",
       "      <td>(6, 7)</td>\n",
       "      <td>ND0004</td>\n",
       "      <td>0.0</td>\n",
       "      <td>NaN</td>\n",
       "      <td>NaN</td>\n",
       "    </tr>\n",
       "    <tr>\n",
       "      <th>14460</th>\n",
       "      <td>16539.6.7.ND0004</td>\n",
       "      <td>129</td>\n",
       "      <td>394</td>\n",
       "      <td>6021</td>\n",
       "      <td>0.000000</td>\n",
       "      <td>347.920858</td>\n",
       "      <td>False</td>\n",
       "      <td>False</td>\n",
       "      <td>True</td>\n",
       "      <td>16539.6.7.ND0004</td>\n",
       "      <td>...</td>\n",
       "      <td>RIF</td>\n",
       "      <td>EC99</td>\n",
       "      <td>64.5</td>\n",
       "      <td>129</td>\n",
       "      <td>16539</td>\n",
       "      <td>(6, 7)</td>\n",
       "      <td>ND0004</td>\n",
       "      <td>0.0</td>\n",
       "      <td>NaN</td>\n",
       "      <td>NaN</td>\n",
       "    </tr>\n",
       "    <tr>\n",
       "      <th>14461</th>\n",
       "      <td>16539.6.7.ND0004</td>\n",
       "      <td>130</td>\n",
       "      <td>369</td>\n",
       "      <td>6015</td>\n",
       "      <td>5.587116</td>\n",
       "      <td>1207.755588</td>\n",
       "      <td>True</td>\n",
       "      <td>False</td>\n",
       "      <td>True</td>\n",
       "      <td>16539.6.7.ND0004</td>\n",
       "      <td>...</td>\n",
       "      <td>RIF</td>\n",
       "      <td>EC99</td>\n",
       "      <td>65.0</td>\n",
       "      <td>130</td>\n",
       "      <td>16539</td>\n",
       "      <td>(6, 7)</td>\n",
       "      <td>ND0004</td>\n",
       "      <td>0.0</td>\n",
       "      <td>NaN</td>\n",
       "      <td>NaN</td>\n",
       "    </tr>\n",
       "  </tbody>\n",
       "</table>\n",
       "<p>14462 rows × 21 columns</p>\n",
       "</div>"
      ],
      "text/plain": [
       "                     ID    t     x     y  Mtb Area (µm)  Mphi Area (µm)  \\\n",
       "0          9.6.7.ND0004    0  2402   952            NaN             NaN   \n",
       "1          9.6.7.ND0004    1  2403   937       5.497722      760.249983   \n",
       "2          9.6.7.ND0004    2  2399   923       8.112492     1447.264056   \n",
       "3          9.6.7.ND0004    3  2407   923       6.503402      415.860183   \n",
       "4          9.6.7.ND0004    4  2393   912       5.967039     1338.136516   \n",
       "...                 ...  ...   ...   ...            ...             ...   \n",
       "14457  16539.6.7.ND0004  126   455  5997            NaN             NaN   \n",
       "14458  16539.6.7.ND0004  127   449  6003       0.000000      459.104457   \n",
       "14459  16539.6.7.ND0004  128   408  5976       4.022723     1094.471234   \n",
       "14460  16539.6.7.ND0004  129   394  6021       0.000000      347.920858   \n",
       "14461  16539.6.7.ND0004  130   369  6015       5.587116     1207.755588   \n",
       "\n",
       "       Infection Status  Initial Infection Status  Final Infection Status  \\\n",
       "0                 False                     False                   False   \n",
       "1                  True                     False                   False   \n",
       "2                  True                     False                   False   \n",
       "3                  True                     False                   False   \n",
       "4                  True                     False                   False   \n",
       "...                 ...                       ...                     ...   \n",
       "14457             False                     False                    True   \n",
       "14458             False                     False                    True   \n",
       "14459              True                     False                    True   \n",
       "14460             False                     False                    True   \n",
       "14461              True                     False                    True   \n",
       "\n",
       "              Unique_ID  ... Compound Concentration Time (hours)  Frame  \\\n",
       "0          9.6.7.ND0004  ...      RIF          EC99          0.0      0   \n",
       "1          9.6.7.ND0004  ...      RIF          EC99          0.5      1   \n",
       "2          9.6.7.ND0004  ...      RIF          EC99          1.0      2   \n",
       "3          9.6.7.ND0004  ...      RIF          EC99          1.5      3   \n",
       "4          9.6.7.ND0004  ...      RIF          EC99          2.0      4   \n",
       "...                 ...  ...      ...           ...          ...    ...   \n",
       "14457  16539.6.7.ND0004  ...      RIF          EC99         63.0    126   \n",
       "14458  16539.6.7.ND0004  ...      RIF          EC99         63.5    127   \n",
       "14459  16539.6.7.ND0004  ...      RIF          EC99         64.0    128   \n",
       "14460  16539.6.7.ND0004  ...      RIF          EC99         64.5    129   \n",
       "14461  16539.6.7.ND0004  ...      RIF          EC99         65.0    130   \n",
       "\n",
       "       Cell ID  Acquisition ID Experiment ID Mtb Area Processed (µm)  \\\n",
       "0            9          (6, 7)        ND0004                     NaN   \n",
       "1            9          (6, 7)        ND0004                     NaN   \n",
       "2            9          (6, 7)        ND0004                     NaN   \n",
       "3            9          (6, 7)        ND0004                     NaN   \n",
       "4            9          (6, 7)        ND0004                     NaN   \n",
       "...        ...             ...           ...                     ...   \n",
       "14457    16539          (6, 7)        ND0004                     0.0   \n",
       "14458    16539          (6, 7)        ND0004                     0.0   \n",
       "14459    16539          (6, 7)        ND0004                     0.0   \n",
       "14460    16539          (6, 7)        ND0004                     0.0   \n",
       "14461    16539          (6, 7)        ND0004                     0.0   \n",
       "\n",
       "       Time Model (hours)  Mtb Area Model (µm)  \n",
       "0                     NaN                  NaN  \n",
       "1                     NaN                  NaN  \n",
       "2                     NaN                  NaN  \n",
       "3                     NaN                  NaN  \n",
       "4                     0.0             6.105074  \n",
       "...                   ...                  ...  \n",
       "14457                 NaN                  NaN  \n",
       "14458                 NaN                  NaN  \n",
       "14459                 NaN                  NaN  \n",
       "14460                 NaN                  NaN  \n",
       "14461                 NaN                  NaN  \n",
       "\n",
       "[14462 rows x 21 columns]"
      ]
     },
     "execution_count": 74,
     "metadata": {},
     "output_type": "execute_result"
    }
   ],
   "source": [
    "df_acq_ID"
   ]
  },
  {
   "cell_type": "markdown",
   "id": "0fd516d6-c606-4708-8acb-7ce182011282",
   "metadata": {},
   "source": [
    "### Add infection status"
   ]
  },
  {
   "cell_type": "code",
   "execution_count": 75,
   "id": "24b8e713-44e9-4313-964a-64062ee34b1c",
   "metadata": {},
   "outputs": [
    {
     "name": "stderr",
     "output_type": "stream",
     "text": [
      "/tmp/ipykernel_10817/624102987.py:2: DeprecationWarning: DataFrameGroupBy.apply operated on the grouping columns. This behavior is deprecated, and in a future version of pandas the grouping columns will be excluded from the operation. Either pass `include_groups=False` to exclude the groupings or explicitly select the grouping columns after groupby to silence this warning.\n",
      "  df_acq_ID = df_acq_ID.groupby('ID').apply(tools.mark_infection_status)\n"
     ]
    }
   ],
   "source": [
    "# Apply the function to each group\n",
    "df_acq_ID = df_acq_ID.groupby('ID').apply(tools.mark_infection_status)"
   ]
  },
  {
   "cell_type": "code",
   "execution_count": 77,
   "id": "396f47ed-f02f-4e9b-8a09-32da80639e8d",
   "metadata": {},
   "outputs": [
    {
     "data": {
      "text/html": [
       "<div>\n",
       "<style scoped>\n",
       "    .dataframe tbody tr th:only-of-type {\n",
       "        vertical-align: middle;\n",
       "    }\n",
       "\n",
       "    .dataframe tbody tr th {\n",
       "        vertical-align: top;\n",
       "    }\n",
       "\n",
       "    .dataframe thead th {\n",
       "        text-align: right;\n",
       "    }\n",
       "</style>\n",
       "<table border=\"1\" class=\"dataframe\">\n",
       "  <thead>\n",
       "    <tr style=\"text-align: right;\">\n",
       "      <th></th>\n",
       "      <th></th>\n",
       "      <th>ID</th>\n",
       "      <th>t</th>\n",
       "      <th>x</th>\n",
       "      <th>y</th>\n",
       "      <th>Mtb Area (µm)</th>\n",
       "      <th>Mphi Area (µm)</th>\n",
       "      <th>Infection Status</th>\n",
       "      <th>Initial Infection Status</th>\n",
       "      <th>Final Infection Status</th>\n",
       "      <th>Unique_ID</th>\n",
       "      <th>...</th>\n",
       "      <th>Compound</th>\n",
       "      <th>Concentration</th>\n",
       "      <th>Time (hours)</th>\n",
       "      <th>Frame</th>\n",
       "      <th>Cell ID</th>\n",
       "      <th>Acquisition ID</th>\n",
       "      <th>Experiment ID</th>\n",
       "      <th>Mtb Area Processed (µm)</th>\n",
       "      <th>Time Model (hours)</th>\n",
       "      <th>Mtb Area Model (µm)</th>\n",
       "    </tr>\n",
       "    <tr>\n",
       "      <th>ID</th>\n",
       "      <th></th>\n",
       "      <th></th>\n",
       "      <th></th>\n",
       "      <th></th>\n",
       "      <th></th>\n",
       "      <th></th>\n",
       "      <th></th>\n",
       "      <th></th>\n",
       "      <th></th>\n",
       "      <th></th>\n",
       "      <th></th>\n",
       "      <th></th>\n",
       "      <th></th>\n",
       "      <th></th>\n",
       "      <th></th>\n",
       "      <th></th>\n",
       "      <th></th>\n",
       "      <th></th>\n",
       "      <th></th>\n",
       "      <th></th>\n",
       "      <th></th>\n",
       "      <th></th>\n",
       "    </tr>\n",
       "  </thead>\n",
       "  <tbody>\n",
       "    <tr>\n",
       "      <th rowspan=\"5\" valign=\"top\">10009.6.7.ND0004</th>\n",
       "      <th>10438</th>\n",
       "      <td>10009.6.7.ND0004</td>\n",
       "      <td>22</td>\n",
       "      <td>5349</td>\n",
       "      <td>2139</td>\n",
       "      <td>38.618142</td>\n",
       "      <td>3622.775098</td>\n",
       "      <td>NaN</td>\n",
       "      <td>False</td>\n",
       "      <td>False</td>\n",
       "      <td>10009.6.7.ND0004</td>\n",
       "      <td>...</td>\n",
       "      <td>RIF</td>\n",
       "      <td>EC99</td>\n",
       "      <td>11.0</td>\n",
       "      <td>22</td>\n",
       "      <td>10009</td>\n",
       "      <td>(6, 7)</td>\n",
       "      <td>ND0004</td>\n",
       "      <td>NaN</td>\n",
       "      <td>NaN</td>\n",
       "      <td>NaN</td>\n",
       "    </tr>\n",
       "    <tr>\n",
       "      <th>10439</th>\n",
       "      <td>10009.6.7.ND0004</td>\n",
       "      <td>23</td>\n",
       "      <td>5334</td>\n",
       "      <td>2087</td>\n",
       "      <td>NaN</td>\n",
       "      <td>NaN</td>\n",
       "      <td>NaN</td>\n",
       "      <td>False</td>\n",
       "      <td>False</td>\n",
       "      <td>10009.6.7.ND0004</td>\n",
       "      <td>...</td>\n",
       "      <td>RIF</td>\n",
       "      <td>EC99</td>\n",
       "      <td>11.5</td>\n",
       "      <td>23</td>\n",
       "      <td>10009</td>\n",
       "      <td>(6, 7)</td>\n",
       "      <td>ND0004</td>\n",
       "      <td>NaN</td>\n",
       "      <td>NaN</td>\n",
       "      <td>NaN</td>\n",
       "    </tr>\n",
       "    <tr>\n",
       "      <th>10440</th>\n",
       "      <td>10009.6.7.ND0004</td>\n",
       "      <td>24</td>\n",
       "      <td>5258</td>\n",
       "      <td>2079</td>\n",
       "      <td>0.000000</td>\n",
       "      <td>787.492759</td>\n",
       "      <td>NaN</td>\n",
       "      <td>False</td>\n",
       "      <td>False</td>\n",
       "      <td>10009.6.7.ND0004</td>\n",
       "      <td>...</td>\n",
       "      <td>RIF</td>\n",
       "      <td>EC99</td>\n",
       "      <td>12.0</td>\n",
       "      <td>24</td>\n",
       "      <td>10009</td>\n",
       "      <td>(6, 7)</td>\n",
       "      <td>ND0004</td>\n",
       "      <td>NaN</td>\n",
       "      <td>NaN</td>\n",
       "      <td>NaN</td>\n",
       "    </tr>\n",
       "    <tr>\n",
       "      <th>10441</th>\n",
       "      <td>10009.6.7.ND0004</td>\n",
       "      <td>25</td>\n",
       "      <td>5308</td>\n",
       "      <td>2070</td>\n",
       "      <td>38.886324</td>\n",
       "      <td>3313.159504</td>\n",
       "      <td>NaN</td>\n",
       "      <td>False</td>\n",
       "      <td>False</td>\n",
       "      <td>10009.6.7.ND0004</td>\n",
       "      <td>...</td>\n",
       "      <td>RIF</td>\n",
       "      <td>EC99</td>\n",
       "      <td>12.5</td>\n",
       "      <td>25</td>\n",
       "      <td>10009</td>\n",
       "      <td>(6, 7)</td>\n",
       "      <td>ND0004</td>\n",
       "      <td>NaN</td>\n",
       "      <td>NaN</td>\n",
       "      <td>NaN</td>\n",
       "    </tr>\n",
       "    <tr>\n",
       "      <th>10442</th>\n",
       "      <td>10009.6.7.ND0004</td>\n",
       "      <td>26</td>\n",
       "      <td>5306</td>\n",
       "      <td>2126</td>\n",
       "      <td>38.037082</td>\n",
       "      <td>3562.054327</td>\n",
       "      <td>False</td>\n",
       "      <td>False</td>\n",
       "      <td>False</td>\n",
       "      <td>10009.6.7.ND0004</td>\n",
       "      <td>...</td>\n",
       "      <td>RIF</td>\n",
       "      <td>EC99</td>\n",
       "      <td>13.0</td>\n",
       "      <td>26</td>\n",
       "      <td>10009</td>\n",
       "      <td>(6, 7)</td>\n",
       "      <td>ND0004</td>\n",
       "      <td>NaN</td>\n",
       "      <td>11.0</td>\n",
       "      <td>0.0</td>\n",
       "    </tr>\n",
       "    <tr>\n",
       "      <th>...</th>\n",
       "      <th>...</th>\n",
       "      <td>...</td>\n",
       "      <td>...</td>\n",
       "      <td>...</td>\n",
       "      <td>...</td>\n",
       "      <td>...</td>\n",
       "      <td>...</td>\n",
       "      <td>...</td>\n",
       "      <td>...</td>\n",
       "      <td>...</td>\n",
       "      <td>...</td>\n",
       "      <td>...</td>\n",
       "      <td>...</td>\n",
       "      <td>...</td>\n",
       "      <td>...</td>\n",
       "      <td>...</td>\n",
       "      <td>...</td>\n",
       "      <td>...</td>\n",
       "      <td>...</td>\n",
       "      <td>...</td>\n",
       "      <td>...</td>\n",
       "      <td>...</td>\n",
       "    </tr>\n",
       "    <tr>\n",
       "      <th rowspan=\"5\" valign=\"top\">999.6.7.ND0004</th>\n",
       "      <th>1725</th>\n",
       "      <td>999.6.7.ND0004</td>\n",
       "      <td>149</td>\n",
       "      <td>2145</td>\n",
       "      <td>1460</td>\n",
       "      <td>0.000000</td>\n",
       "      <td>422.006010</td>\n",
       "      <td>NaN</td>\n",
       "      <td>False</td>\n",
       "      <td>False</td>\n",
       "      <td>999.6.7.ND0004</td>\n",
       "      <td>...</td>\n",
       "      <td>RIF</td>\n",
       "      <td>EC99</td>\n",
       "      <td>74.5</td>\n",
       "      <td>149</td>\n",
       "      <td>999</td>\n",
       "      <td>(6, 7)</td>\n",
       "      <td>ND0004</td>\n",
       "      <td>0.0</td>\n",
       "      <td>NaN</td>\n",
       "      <td>NaN</td>\n",
       "    </tr>\n",
       "    <tr>\n",
       "      <th>1726</th>\n",
       "      <td>999.6.7.ND0004</td>\n",
       "      <td>150</td>\n",
       "      <td>2152</td>\n",
       "      <td>1465</td>\n",
       "      <td>0.000000</td>\n",
       "      <td>405.222315</td>\n",
       "      <td>NaN</td>\n",
       "      <td>False</td>\n",
       "      <td>False</td>\n",
       "      <td>999.6.7.ND0004</td>\n",
       "      <td>...</td>\n",
       "      <td>RIF</td>\n",
       "      <td>EC99</td>\n",
       "      <td>75.0</td>\n",
       "      <td>150</td>\n",
       "      <td>999</td>\n",
       "      <td>(6, 7)</td>\n",
       "      <td>ND0004</td>\n",
       "      <td>0.0</td>\n",
       "      <td>NaN</td>\n",
       "      <td>NaN</td>\n",
       "    </tr>\n",
       "    <tr>\n",
       "      <th>1727</th>\n",
       "      <td>999.6.7.ND0004</td>\n",
       "      <td>151</td>\n",
       "      <td>2152</td>\n",
       "      <td>1469</td>\n",
       "      <td>0.000000</td>\n",
       "      <td>472.737019</td>\n",
       "      <td>NaN</td>\n",
       "      <td>False</td>\n",
       "      <td>False</td>\n",
       "      <td>999.6.7.ND0004</td>\n",
       "      <td>...</td>\n",
       "      <td>RIF</td>\n",
       "      <td>EC99</td>\n",
       "      <td>75.5</td>\n",
       "      <td>151</td>\n",
       "      <td>999</td>\n",
       "      <td>(6, 7)</td>\n",
       "      <td>ND0004</td>\n",
       "      <td>0.0</td>\n",
       "      <td>NaN</td>\n",
       "      <td>NaN</td>\n",
       "    </tr>\n",
       "    <tr>\n",
       "      <th>1728</th>\n",
       "      <td>999.6.7.ND0004</td>\n",
       "      <td>152</td>\n",
       "      <td>2141</td>\n",
       "      <td>1471</td>\n",
       "      <td>0.000000</td>\n",
       "      <td>484.022992</td>\n",
       "      <td>NaN</td>\n",
       "      <td>False</td>\n",
       "      <td>False</td>\n",
       "      <td>999.6.7.ND0004</td>\n",
       "      <td>...</td>\n",
       "      <td>RIF</td>\n",
       "      <td>EC99</td>\n",
       "      <td>76.0</td>\n",
       "      <td>152</td>\n",
       "      <td>999</td>\n",
       "      <td>(6, 7)</td>\n",
       "      <td>ND0004</td>\n",
       "      <td>0.0</td>\n",
       "      <td>NaN</td>\n",
       "      <td>NaN</td>\n",
       "    </tr>\n",
       "    <tr>\n",
       "      <th>1729</th>\n",
       "      <td>999.6.7.ND0004</td>\n",
       "      <td>153</td>\n",
       "      <td>2147</td>\n",
       "      <td>1469</td>\n",
       "      <td>0.000000</td>\n",
       "      <td>443.974548</td>\n",
       "      <td>NaN</td>\n",
       "      <td>False</td>\n",
       "      <td>False</td>\n",
       "      <td>999.6.7.ND0004</td>\n",
       "      <td>...</td>\n",
       "      <td>RIF</td>\n",
       "      <td>EC99</td>\n",
       "      <td>76.5</td>\n",
       "      <td>153</td>\n",
       "      <td>999</td>\n",
       "      <td>(6, 7)</td>\n",
       "      <td>ND0004</td>\n",
       "      <td>0.0</td>\n",
       "      <td>NaN</td>\n",
       "      <td>NaN</td>\n",
       "    </tr>\n",
       "  </tbody>\n",
       "</table>\n",
       "<p>14462 rows × 21 columns</p>\n",
       "</div>"
      ],
      "text/plain": [
       "                                      ID    t     x     y  Mtb Area (µm)  \\\n",
       "ID                                                                         \n",
       "10009.6.7.ND0004 10438  10009.6.7.ND0004   22  5349  2139      38.618142   \n",
       "                 10439  10009.6.7.ND0004   23  5334  2087            NaN   \n",
       "                 10440  10009.6.7.ND0004   24  5258  2079       0.000000   \n",
       "                 10441  10009.6.7.ND0004   25  5308  2070      38.886324   \n",
       "                 10442  10009.6.7.ND0004   26  5306  2126      38.037082   \n",
       "...                                  ...  ...   ...   ...            ...   \n",
       "999.6.7.ND0004   1725     999.6.7.ND0004  149  2145  1460       0.000000   \n",
       "                 1726     999.6.7.ND0004  150  2152  1465       0.000000   \n",
       "                 1727     999.6.7.ND0004  151  2152  1469       0.000000   \n",
       "                 1728     999.6.7.ND0004  152  2141  1471       0.000000   \n",
       "                 1729     999.6.7.ND0004  153  2147  1469       0.000000   \n",
       "\n",
       "                        Mphi Area (µm) Infection Status  \\\n",
       "ID                                                        \n",
       "10009.6.7.ND0004 10438     3622.775098              NaN   \n",
       "                 10439             NaN              NaN   \n",
       "                 10440      787.492759              NaN   \n",
       "                 10441     3313.159504              NaN   \n",
       "                 10442     3562.054327            False   \n",
       "...                                ...              ...   \n",
       "999.6.7.ND0004   1725       422.006010              NaN   \n",
       "                 1726       405.222315              NaN   \n",
       "                 1727       472.737019              NaN   \n",
       "                 1728       484.022992              NaN   \n",
       "                 1729       443.974548              NaN   \n",
       "\n",
       "                        Initial Infection Status  Final Infection Status  \\\n",
       "ID                                                                         \n",
       "10009.6.7.ND0004 10438                     False                   False   \n",
       "                 10439                     False                   False   \n",
       "                 10440                     False                   False   \n",
       "                 10441                     False                   False   \n",
       "                 10442                     False                   False   \n",
       "...                                          ...                     ...   \n",
       "999.6.7.ND0004   1725                      False                   False   \n",
       "                 1726                      False                   False   \n",
       "                 1727                      False                   False   \n",
       "                 1728                      False                   False   \n",
       "                 1729                      False                   False   \n",
       "\n",
       "                               Unique_ID  ... Compound Concentration  \\\n",
       "ID                                        ...                          \n",
       "10009.6.7.ND0004 10438  10009.6.7.ND0004  ...      RIF          EC99   \n",
       "                 10439  10009.6.7.ND0004  ...      RIF          EC99   \n",
       "                 10440  10009.6.7.ND0004  ...      RIF          EC99   \n",
       "                 10441  10009.6.7.ND0004  ...      RIF          EC99   \n",
       "                 10442  10009.6.7.ND0004  ...      RIF          EC99   \n",
       "...                                  ...  ...      ...           ...   \n",
       "999.6.7.ND0004   1725     999.6.7.ND0004  ...      RIF          EC99   \n",
       "                 1726     999.6.7.ND0004  ...      RIF          EC99   \n",
       "                 1727     999.6.7.ND0004  ...      RIF          EC99   \n",
       "                 1728     999.6.7.ND0004  ...      RIF          EC99   \n",
       "                 1729     999.6.7.ND0004  ...      RIF          EC99   \n",
       "\n",
       "                       Time (hours)  Frame  Cell ID  Acquisition ID  \\\n",
       "ID                                                                    \n",
       "10009.6.7.ND0004 10438         11.0     22    10009          (6, 7)   \n",
       "                 10439         11.5     23    10009          (6, 7)   \n",
       "                 10440         12.0     24    10009          (6, 7)   \n",
       "                 10441         12.5     25    10009          (6, 7)   \n",
       "                 10442         13.0     26    10009          (6, 7)   \n",
       "...                             ...    ...      ...             ...   \n",
       "999.6.7.ND0004   1725          74.5    149      999          (6, 7)   \n",
       "                 1726          75.0    150      999          (6, 7)   \n",
       "                 1727          75.5    151      999          (6, 7)   \n",
       "                 1728          76.0    152      999          (6, 7)   \n",
       "                 1729          76.5    153      999          (6, 7)   \n",
       "\n",
       "                       Experiment ID Mtb Area Processed (µm)  \\\n",
       "ID                                                             \n",
       "10009.6.7.ND0004 10438        ND0004                     NaN   \n",
       "                 10439        ND0004                     NaN   \n",
       "                 10440        ND0004                     NaN   \n",
       "                 10441        ND0004                     NaN   \n",
       "                 10442        ND0004                     NaN   \n",
       "...                              ...                     ...   \n",
       "999.6.7.ND0004   1725         ND0004                     0.0   \n",
       "                 1726         ND0004                     0.0   \n",
       "                 1727         ND0004                     0.0   \n",
       "                 1728         ND0004                     0.0   \n",
       "                 1729         ND0004                     0.0   \n",
       "\n",
       "                        Time Model (hours)  Mtb Area Model (µm)  \n",
       "ID                                                               \n",
       "10009.6.7.ND0004 10438                 NaN                  NaN  \n",
       "                 10439                 NaN                  NaN  \n",
       "                 10440                 NaN                  NaN  \n",
       "                 10441                 NaN                  NaN  \n",
       "                 10442                11.0                  0.0  \n",
       "...                                    ...                  ...  \n",
       "999.6.7.ND0004   1725                  NaN                  NaN  \n",
       "                 1726                  NaN                  NaN  \n",
       "                 1727                  NaN                  NaN  \n",
       "                 1728                  NaN                  NaN  \n",
       "                 1729                  NaN                  NaN  \n",
       "\n",
       "[14462 rows x 21 columns]"
      ]
     },
     "execution_count": 77,
     "metadata": {},
     "output_type": "execute_result"
    }
   ],
   "source": [
    "df_acq_ID"
   ]
  },
  {
   "cell_type": "markdown",
   "id": "fb0c87b6-ae5d-4ece-ad78-91e6f4b57429",
   "metadata": {},
   "source": [
    "### Iteratively calculate the doubling times from the processed Mtb model "
   ]
  },
  {
   "cell_type": "code",
   "execution_count": 78,
   "id": "10275181-0b94-45a6-8eea-289a520d09b0",
   "metadata": {},
   "outputs": [],
   "source": [
    "output_dir = '/mnt/SYNO/macrohet_syno/results/glimpse_dt_graphs/ND4_graphs_trackastra/'#/mnt/DATA/macrohet/results/preliminary_sc_measures/cumulative_sc_plots/thresholded_480/'#'/Users/dayn/data/macrohet_mac/temp_results/'#\n",
    "ill_fitting_curves = {}\n",
    "non_doubling_curves = []"
   ]
  },
  {
   "cell_type": "code",
   "execution_count": 79,
   "id": "dff0ccc6-d5d9-4b4f-a6c5-3101bfc51c5f",
   "metadata": {
    "scrolled": true
   },
   "outputs": [
    {
     "data": {
      "application/vnd.jupyter.widget-view+json": {
       "model_id": "7734cf8908b44d03bca81ac88eadf06c",
       "version_major": 2,
       "version_minor": 0
      },
      "text/plain": [
       "  0%|          | 0/127 [00:00<?, ?it/s]"
      ]
     },
     "metadata": {},
     "output_type": "display_data"
    },
    {
     "name": "stdout",
     "output_type": "stream",
     "text": [
      "Nee fitting (-0.06)\n",
      "Nee fitting (-0.07)\n",
      "No population doubling for ID 10151.6.7.ND0004\n",
      "Nee fitting (0.62)\n",
      "Nee fitting (0.52)\n",
      "Nee fitting (0.14)\n",
      "Nee fitting (0.11)\n",
      "Nee fitting (0.43)\n",
      "Nee fitting (0.24)\n",
      "Nee fitting (-0.11)\n",
      "Nee fitting (0.36)\n",
      "No population doubling for ID 11143.6.7.ND0004\n",
      "No population doubling for ID 11143.6.7.ND0004\n",
      "Nee fitting (0.4)\n",
      "Nee fitting (-0.03)\n",
      "Nee fitting (-0.42)\n",
      "No population doubling for ID 11366.6.7.ND0004\n",
      "No population doubling for ID 11366.6.7.ND0004\n",
      "Nee fitting (0.53)\n",
      "Nee fitting (-0.08)\n",
      "Nee fitting (-0.32)\n",
      "No population doubling for ID 12553.6.7.ND0004\n",
      "Nee fitting (0.17)\n",
      "Nee fitting (0.6)\n",
      "Nee fitting (-1.98)\n",
      "Nee fitting (-0.38)\n",
      "Nee fitting (0.19)\n",
      "Nee fitting (0.57)\n",
      "Nee fitting (0.01)\n",
      "Nee fitting (0.28)\n",
      "Nee fitting (0.52)\n",
      "Nee fitting (0.1)\n",
      "Nee fitting (0.63)\n",
      "Nee fitting (0.68)\n",
      "Nee fitting (0.6)\n",
      "No population doubling for ID 14438.6.7.ND0004\n",
      "No population doubling for ID 14438.6.7.ND0004\n",
      "Nee fitting (0.41)\n",
      "Nee fitting (0.27)\n",
      "Nee fitting (0.07)\n",
      "Nee fitting (0.26)\n",
      "Nee fitting (-0.88)\n",
      "Nee fitting (0.19)\n",
      "No population doubling for ID 16022.6.7.ND0004\n",
      "No population doubling for ID 16022.6.7.ND0004\n",
      "No population doubling for ID 16315.6.7.ND0004\n",
      "No population doubling for ID 16315.6.7.ND0004\n",
      "Nee fitting (0.57)\n",
      "No population doubling for ID 16484.6.7.ND0004\n",
      "No population doubling for ID 16484.6.7.ND0004\n",
      "Nee fitting (0.66)\n",
      "Nee fitting (0.21)\n",
      "Nee fitting (-1.03)\n",
      "Nee fitting (0.32)\n",
      "No population doubling for ID 1937.6.7.ND0004\n",
      "No population doubling for ID 1937.6.7.ND0004\n",
      "Nee fitting (0.08)\n",
      "Nee fitting (0.43)\n",
      "Nee fitting (-7.1)\n",
      "Nee fitting (-0.15)\n",
      "Nee fitting (0.44)\n",
      "Nee fitting (0.04)\n",
      "Nee fitting (0.57)\n",
      "No population doubling for ID 2419.6.7.ND0004\n",
      "Nee fitting (0.42)\n",
      "Nee fitting (0.32)\n",
      "No population doubling for ID 2591.6.7.ND0004\n",
      "No population doubling for ID 2591.6.7.ND0004\n",
      "Nee fitting (0.27)\n",
      "Nee fitting (0.53)\n",
      "No population doubling for ID 2896.6.7.ND0004\n",
      "No population doubling for ID 2896.6.7.ND0004\n",
      "Nee fitting (-0.21)\n",
      "Nee fitting (0.36)\n",
      "Nee fitting (0.02)\n",
      "Nee fitting (0.58)\n",
      "Nee fitting (0.47)\n",
      "Nee fitting (0.55)\n",
      "Nee fitting (0.46)\n",
      "Nee fitting (-1.06)\n",
      "Nee fitting (0.49)\n",
      "No population doubling for ID 356.6.7.ND0004\n",
      "Nee fitting (0.26)\n",
      "Nee fitting (-0.03)\n",
      "Nee fitting (0.36)\n",
      "No population doubling for ID 383.6.7.ND0004\n",
      "No population doubling for ID 383.6.7.ND0004\n",
      "Nee fitting (-1.12)\n",
      "Nee fitting (0.66)\n",
      "Nee fitting (0.62)\n",
      "No population doubling for ID 3981.6.7.ND0004\n",
      "No population doubling for ID 4229.6.7.ND0004\n",
      "Nee fitting (0.13)\n",
      "No population doubling for ID 439.6.7.ND0004\n",
      "Nee fitting (0.54)\n",
      "Nee fitting (-1.07)\n",
      "Nee fitting (-0.76)\n",
      "Nee fitting (0.66)\n",
      "Nee fitting (0.13)\n",
      "Nee fitting (0.03)\n",
      "Nee fitting (0.61)\n",
      "Nee fitting (0.38)\n",
      "Nee fitting (-0.04)\n",
      "No population doubling for ID 5875.6.7.ND0004\n",
      "No population doubling for ID 5875.6.7.ND0004\n",
      "Nee fitting (0.33)\n",
      "Nee fitting (0.52)\n",
      "Nee fitting (-1.05)\n",
      "No population doubling for ID 6546.6.7.ND0004\n",
      "Nee fitting (0.58)\n",
      "Nee fitting (0.67)\n",
      "Nee fitting (0.38)\n",
      "Nee fitting (0.41)\n",
      "Nee fitting (0.47)\n",
      "Nee fitting (-0.5)\n",
      "Nee fitting (-3.41)\n",
      "Nee fitting (-0.42)\n",
      "Nee fitting (-0.01)\n",
      "Nee fitting (-0.05)\n",
      "Nee fitting (-0.88)\n",
      "Nee fitting (0.41)\n",
      "Nee fitting (0.06)\n",
      "Nee fitting (0.52)\n",
      "Nee fitting (0.11)\n",
      "Nee fitting (-0.05)\n",
      "Nee fitting (0.62)\n",
      "Nee fitting (0.28)\n",
      "Nee fitting (0.69)\n",
      "Nee fitting (0.37)\n",
      "Nee fitting (-0.25)\n",
      "Nee fitting (0.18)\n"
     ]
    },
    {
     "data": {
      "image/png": "[encoded data removed]",
      "text/plain": [
       "<Figure size 800x600 with 1 Axes>"
      ]
     },
     "metadata": {},
     "output_type": "display_data"
    },
    {
     "data": {
      "image/png": "[encoded data removed]",
      "text/plain": [
       "<Figure size 800x600 with 1 Axes>"
      ]
     },
     "metadata": {},
     "output_type": "display_data"
    },
    {
     "data": {
      "image/png": "[encoded data removed]",
      "text/plain": [
       "<Figure size 800x600 with 1 Axes>"
      ]
     },
     "metadata": {},
     "output_type": "display_data"
    },
    {
     "data": {
      "image/png": "[encoded data removed]",
      "text/plain": [
       "<Figure size 800x600 with 1 Axes>"
      ]
     },
     "metadata": {},
     "output_type": "display_data"
    },
    {
     "data": {
      "image/png": "[encoded data removed]",
      "text/plain": [
       "<Figure size 800x600 with 1 Axes>"
      ]
     },
     "metadata": {},
     "output_type": "display_data"
    },
    {
     "data": {
      "image/png": "[encoded data removed]",
      "text/plain": [
       "<Figure size 800x600 with 1 Axes>"
      ]
     },
     "metadata": {},
     "output_type": "display_data"
    },
    {
     "data": {
      "image/png": "[encoded data removed]",
      "text/plain": [
       "<Figure size 800x600 with 1 Axes>"
      ]
     },
     "metadata": {},
     "output_type": "display_data"
    }
   ],
   "source": [
    "N = 0\n",
    "for ID in tqdm(df_acq_ID['ID'].unique()):\n",
    "    try:\n",
    "        # Get single-cell trajectory in df format\n",
    "        sc_df = df_acq_ID[df_acq_ID['ID'] == ID]\n",
    "        # Drop NaN values specifically from the required columns\n",
    "        sc_df = sc_df.dropna(subset=['Time Model (hours)', 'Mtb Area Model (µm)', 'Mtb Area Processed (µm)'])\n",
    "        # Ensure there is temporal order\n",
    "        sc_df = sc_df.sort_values(by='Time Model (hours)')\n",
    "        \n",
    "        # Extract Strain, Compound, and Concentration for the title\n",
    "        strain, compound, concentration = sc_df[['Strain', 'Compound', 'Concentration']].iloc[0].values\n",
    "        \n",
    "        # Calculate the R2 value and skip plotting if R2 < 0.7\n",
    "        r2 = round(r2_score(sc_df['Mtb Area Processed (µm)'], sc_df['Mtb Area Model (µm)']), 2)\n",
    "        df_acq_ID.loc[df_acq_ID['ID'] == ID, 'r2'] = r2\n",
    "        if r2 < 0.7:\n",
    "            ill_fitting_curves[ID] = r2\n",
    "            df_acq_ID.loc[df_acq_ID['ID'] == ID, 'Doubling Amounts'] = None\n",
    "            df_acq_ID.loc[df_acq_ID['ID'] == ID, 'Doubling Times'] = None\n",
    "            print(f'Nee fitting ({r2})')\n",
    "            continue\n",
    "        \n",
    "        # Find the temporal order of the minimum and maximum\n",
    "        min_value = max(sc_df['Mtb Area Model (µm)'].round(1).min(), 1.92) # has to be above the minimum threshold\n",
    "        max_value = sc_df['Mtb Area Model (µm)'].round(1).max()\n",
    "        \n",
    "        # perform a check on the data\n",
    "        if max_value <= min_value:\n",
    "            non_doubling_curves.append(ID)\n",
    "            print(f'No population doubling for ID {ID}')\n",
    "        \n",
    "        # Find the time indices of the minimum and maximum\n",
    "        min_index = sc_df['Mtb Area Model (µm)'].round(1).idxmin()\n",
    "        max_index = sc_df['Mtb Area Model (µm)'].round(1).idxmax()\n",
    "        \n",
    "        # Check if maximum occurs before minimum\n",
    "        if max_index > min_index:\n",
    "            growth = True\n",
    "            # Minimum occurs before the maximum (indicating growth)\n",
    "            # Start from the minimum and double\n",
    "            N_i = min_value\n",
    "            N_series = []\n",
    "            \n",
    "            # Generate the doubling series\n",
    "            while N_i <= max_value:\n",
    "                N_series.append(N_i)\n",
    "                N_i *= 2\n",
    "            \n",
    "        else:\n",
    "            growth = False\n",
    "            non_doubling_curves.append(ID)\n",
    "            print(f'No population doubling for ID {ID}')\n",
    "            df_acq_ID.loc[df_acq_ID['ID'] == ID, 'Doubling Amounts'] = None\n",
    "            df_acq_ID.loc[df_acq_ID['ID'] == ID, 'Doubling Times'] = None\n",
    "            continue\n",
    "            # Maximum occurs before the minimum (indicating a reduction)\n",
    "            # Start from the maximum and halve\n",
    "            # N_i = max_value\n",
    "            # N_series = []\n",
    "            \n",
    "            # # Generate the halving series\n",
    "            # while N_i >= min_value:\n",
    "            #     N_series.append(N_i)\n",
    "            #     N_i /= 2\n",
    "        \n",
    "        \n",
    "        # Check if there are no valid doubling points\n",
    "        if len(N_series) < 2:\n",
    "            non_doubling_curves.append(ID)\n",
    "            print(f'No population doubling for ID {ID}')\n",
    "            df_acq_ID.loc[df_acq_ID['ID'] == ID, 'Doubling Amounts'] = None\n",
    "            df_acq_ID.loc[df_acq_ID['ID'] == ID, 'Doubling Times'] = None\n",
    "            continue\n",
    "            \n",
    "        # Find the indices and corresponding times for each doubling point\n",
    "        doubling_time_indices = np.clip(np.searchsorted(sc_df['Mtb Area Model (µm)'], N_series), 0, len(sc_df) - 1)\n",
    "        doubling_time_indices = [np.abs(sc_df['Mtb Area Model (µm)'] - value).idxmin() for value in N_series]\n",
    "        doubling_time_points = sc_df['Time Model (hours)'].loc[doubling_time_indices]\n",
    "        doubling_times = doubling_time_points.diff().dropna().values.tolist()\n",
    "        \n",
    "        if not growth:\n",
    "            doubling_times = [-t for t in doubling_times]\n",
    "            N_series = [-n for n in N_series]  \n",
    "        \n",
    "        # Incorporate N_series and doubling_times into the main DataFrame\n",
    "        # Assign lists to all entries in df with the same ID\n",
    "        df_acq_ID.loc[df_acq_ID['ID'] == ID, 'Doubling Amounts'] = df_acq_ID.loc[df_acq_ID['ID'] == ID].apply(lambda x: N_series, axis=1)\n",
    "        df_acq_ID.loc[df_acq_ID['ID'] == ID, 'Doubling Times'] = df_acq_ID.loc[df_acq_ID['ID'] == ID].apply(lambda x: doubling_times, axis=1)\n",
    "        # df.to_pickle('/mnt/SYNO/macrohet_syno/results/dfs/dt_df_v2.pkl')\n",
    "            \n",
    "        # Plot the experimental data and the fitted model\n",
    "        plt.figure(figsize=(8, 6))\n",
    "        plt.plot(sc_df['Time Model (hours)'], sc_df['Mtb Area Model (µm)'], label='Lowess Growth Model', color=colours[-2])\n",
    "        plt.scatter(sc_df['Time Model (hours)'], sc_df['Mtb Area Processed (µm)'], label='Processed Data', color=colours[0], s=5)\n",
    "        \n",
    "        # Annotate doubling times and draw faint lines\n",
    "        for i, (time, population) in enumerate(zip(doubling_time_points, N_series)):\n",
    "            time = abs(time)\n",
    "            population = abs(population)\n",
    "            color_index = i % len(expanded_piyg)  # This ensures the color index wraps around\n",
    "            # Draw faint vertical lines at doubling time points\n",
    "            plt.axvline(x=time, color=expanded_piyg[color_index], linestyle='--', linewidth=1, alpha=0.5)\n",
    "            plt.axhline(y=population, color=expanded_piyg[color_index], linestyle='--', linewidth=1, alpha=0.5)\n",
    "            \n",
    "            # Place a text label indicating the doubling time\n",
    "            if i > 0:  # Start labeling from the second point\n",
    "                previous_time = doubling_time_points.iloc[i-1]\n",
    "                \n",
    "                # Midpoint between the two lines\n",
    "                label_x_pos = time  # Correct the label position\n",
    "                # Adjust y-position to place the label just above the horizontal line\n",
    "                label_y_pos = population + (population * 0.01)  # Slightly above the horizontal line\n",
    "        \n",
    "                # Calculate the gap between the lines and scale the font size\n",
    "                gap = time - previous_time\n",
    "                scaled_fontsize = max(8, min(12, gap))  # Scale font size within a reasonable range (e.g., 8 to 12)\n",
    "                \n",
    "                # Draw the horizontal doubling time label\n",
    "                plt.text(label_x_pos, label_y_pos, f'{abs(doubling_times[i-1]):.2f}h', \n",
    "                         ha='right', va='bottom', alpha=0.5, fontsize=scaled_fontsize, color=expanded_piyg[0])\n",
    "                \n",
    "                # Draw vertical arrow showing the change in N_series (doubling amount)\n",
    "                deltaMtb = population - N_series[i-1]\n",
    "                \n",
    "                # Midpoint for the vertical delta annotation\n",
    "                text_y_pos = (population + N_series[i-1]) / 2  # Midway between current and previous population\n",
    "                text_x_pos = (population + N_series[i-1]) / 2  # Midway between current and previous population\n",
    "        \n",
    "                # Midpoint between the two lines\n",
    "                label_x_pos = time + 0.1  # Adjust x-position\n",
    "                # Adjust y-position to place the label just above the horizontal line\n",
    "                label_y_pos = population - (max_value * 0.01)\n",
    "                \n",
    "                # Place the vertical label using plt.text\n",
    "                plt.text(label_x_pos, label_y_pos, f'Δ {abs(deltaMtb):.1f}µm²',\n",
    "                         fontsize=scaled_fontsize, color=expanded_piyg[0], ha='left', va='top', rotation=270, alpha=0.5)\n",
    "        \n",
    "        # Add labels, legend, and titles\n",
    "        plt.xlabel('Time (Hours)')\n",
    "        plt.ylabel('Mtb Area µm$^{2}$')\n",
    "        plt.legend()\n",
    "        # Main title\n",
    "        plt.suptitle('Single-Macrophage Intracellular Mtb Dynamics', \n",
    "                     weight='bold', fontsize=16)\n",
    "        # Subtitle\n",
    "        plt.title(f'Cell ID {ID} | Strain: {strain} | Compound: {compound} | Concentration: {concentration} | R² = {r2}', fontsize=12, pad=10)\n",
    "        \n",
    "        sns.despine(offset=10)\n",
    "        plt.grid(False)\n",
    "        \n",
    "        plt.savefig(os.path.join(output_dir, f'{ID}_dtmin{np.min(doubling_times)}_r2{r2}_graph.pdf'), bbox_inches = 'tight', dpi = 314)\n",
    "        plt.close\n",
    "        N+=1\n",
    "    \n",
    "    except Exception as e:\n",
    "        # Log the exception with traceback\n",
    "        logging.error(f\"Error while processing ID {ID}: {e}\")\n",
    "        logging.error(traceback.format_exc())\n",
    "        print(f\"An error occurred while processing ID {ID}. Check error_log.log for details.\")"
   ]
  },
  {
   "cell_type": "markdown",
   "id": "41035b37-fb65-4cbf-85f8-2b8ddf7dc646",
   "metadata": {},
   "source": [
    "# Checking with glimpses"
   ]
  },
  {
   "cell_type": "code",
   "execution_count": 200,
   "id": "9d152ab3-d0fd-4104-a073-c7b7d6da6cb1",
   "metadata": {},
   "outputs": [],
   "source": [
    "import os\n",
    "import numpy as np\n",
    "import pandas as pd\n",
    "import zarr\n",
    "import glob\n",
    "import btrack\n",
    "import cv2\n",
    "from PIL import Image, ImageDraw, ImageFont\n",
    "from tqdm.auto import tqdm"
   ]
  },
  {
   "cell_type": "code",
   "execution_count": 201,
   "id": "96bc55d4-51c8-4150-93ee-7a73f7f43474",
   "metadata": {},
   "outputs": [],
   "source": [
    "N_skipped = 0\n",
    "N_processed = 0\n",
    "side_length = False"
   ]
  },
  {
   "cell_type": "code",
   "execution_count": 202,
   "id": "6bd036b6-a519-4198-853d-4ec97bd94fb1",
   "metadata": {},
   "outputs": [],
   "source": [
    "# Prepare font and color settings\n",
    "font_path = \"/usr/share/fonts/truetype/liberation/LiberationSans-Regular.ttf\"  # Update this path to your font file\n",
    "font = ImageFont.truetype(font_path, 42)\n",
    "text_color = (0, 255, 255)  # Yellow color in RGB format\n",
    "# Define the side length\n",
    "side_length = 750\n",
    "# and other image properties\n",
    "track_scale_factor = 1 # 5.04\n",
    "image_scale_m_per_pixel = 1.4949402023919043e-07\n",
    "image_scale_um_per_pixel = image_scale_m_per_pixel*1E6\n",
    "image_width = image_height = 6048\n",
    "last_seg_fn = []"
   ]
  },
  {
   "cell_type": "code",
   "execution_count": 203,
   "id": "fd38a7ea-7c4c-4db6-ac40-692b6f2083ff",
   "metadata": {},
   "outputs": [
    {
     "data": {
      "text/plain": [
       "'/mnt/SYNO/macrohet_syno/results/glimpse_dt_graphs/ND4_graphs_trackastra/'"
      ]
     },
     "execution_count": 203,
     "metadata": {},
     "output_type": "execute_result"
    }
   ],
   "source": [
    "output_dir"
   ]
  },
  {
   "cell_type": "code",
   "execution_count": 204,
   "id": "5e1286da-0fb4-40b1-b794-ff55b44e99f1",
   "metadata": {
    "scrolled": true
   },
   "outputs": [
    {
     "data": {
      "application/vnd.jupyter.widget-view+json": {
       "model_id": "0e2c673dc5d6485f907d3173eabb3134",
       "version_major": 2,
       "version_minor": 0
      },
      "text/plain": [
       "  0%|          | 0/312 [00:00<?, ?it/s]"
      ]
     },
     "metadata": {},
     "output_type": "display_data"
    },
    {
     "name": "stderr",
     "output_type": "stream",
     "text": [
      "[INFO][2024/10/28 04:24:08 pm] Opening HDF file: /mnt/SYNO/macrohet_syno/data/ND0004/labels/cpv3/(4, 8).h5...\n",
      "INFO:btrack.io.hdf:Opening HDF file: /mnt/SYNO/macrohet_syno/data/ND0004/labels/cpv3/(4, 8).h5...\n",
      "[INFO][2024/10/28 04:24:46 pm] Loading segmentation (154, 6048, 6048)\n",
      "INFO:btrack.io.hdf:Loading segmentation (154, 6048, 6048)\n",
      "[INFO][2024/10/28 04:24:46 pm] Closing HDF file: /mnt/SYNO/macrohet_syno/data/ND0004/labels/cpv3/(4, 8).h5\n",
      "INFO:btrack.io.hdf:Closing HDF file: /mnt/SYNO/macrohet_syno/data/ND0004/labels/cpv3/(4, 8).h5\n"
     ]
    },
    {
     "data": {
      "application/vnd.jupyter.widget-view+json": {
       "model_id": "",
       "version_major": 2,
       "version_minor": 0
      },
      "text/plain": [
       "Creating glimpse 1015.4.8.ND0004:   0%|          | 0/79 [00:00<?, ?it/s]"
      ]
     },
     "metadata": {},
     "output_type": "display_data"
    },
    {
     "name": "stdout",
     "output_type": "stream",
     "text": [
      "Video 1015.4.8.ND0004 saved successfully.\n",
      "Skipping ID 1029.4.8.ND0004 as r2 = 0.14\n",
      "Skipping ID 109.4.8.ND0004 as r2 = 0.67\n"
     ]
    },
    {
     "data": {
      "application/vnd.jupyter.widget-view+json": {
       "model_id": "",
       "version_major": 2,
       "version_minor": 0
      },
      "text/plain": [
       "Creating glimpse 1104.4.8.ND0004:   0%|          | 0/95 [00:00<?, ?it/s]"
      ]
     },
     "metadata": {},
     "output_type": "display_data"
    },
    {
     "name": "stdout",
     "output_type": "stream",
     "text": [
      "Video 1104.4.8.ND0004 saved successfully.\n"
     ]
    },
    {
     "data": {
      "application/vnd.jupyter.widget-view+json": {
       "model_id": "",
       "version_major": 2,
       "version_minor": 0
      },
      "text/plain": [
       "Creating glimpse 1119.4.8.ND0004:   0%|          | 0/129 [00:00<?, ?it/s]"
      ]
     },
     "metadata": {},
     "output_type": "display_data"
    },
    {
     "name": "stdout",
     "output_type": "stream",
     "text": [
      "Video 1119.4.8.ND0004 saved successfully.\n",
      "Skipping ID 1146.4.8.ND0004 as r2 = 0.65\n",
      "Skipping ID 1176.4.8.ND0004 as r2 = 0.41\n",
      "Skipping ID 1181.4.8.ND0004 as r2 = 0.51\n",
      "Skipping ID 1187.4.8.ND0004 as r2 = 0.15\n",
      "Skipping ID 1191.4.8.ND0004 as r2 = 0.59\n",
      "Skipping ID 121.4.8.ND0004 as r2 = 0.16\n"
     ]
    },
    {
     "data": {
      "application/vnd.jupyter.widget-view+json": {
       "model_id": "",
       "version_major": 2,
       "version_minor": 0
      },
      "text/plain": [
       "Creating glimpse 1218.4.8.ND0004:   0%|          | 0/77 [00:00<?, ?it/s]"
      ]
     },
     "metadata": {},
     "output_type": "display_data"
    },
    {
     "name": "stdout",
     "output_type": "stream",
     "text": [
      "Video 1218.4.8.ND0004 saved successfully.\n"
     ]
    },
    {
     "data": {
      "application/vnd.jupyter.widget-view+json": {
       "model_id": "",
       "version_major": 2,
       "version_minor": 0
      },
      "text/plain": [
       "Creating glimpse 1255.4.8.ND0004:   0%|          | 0/154 [00:00<?, ?it/s]"
      ]
     },
     "metadata": {},
     "output_type": "display_data"
    },
    {
     "name": "stdout",
     "output_type": "stream",
     "text": [
      "Video 1255.4.8.ND0004 saved successfully.\n",
      "Skipping ID 1269.4.8.ND0004 as r2 = 0.67\n",
      "Skipping ID 1275.4.8.ND0004 as r2 = 0.53\n",
      "Skipping ID 1278.4.8.ND0004 as r2 = 0.56\n"
     ]
    },
    {
     "data": {
      "application/vnd.jupyter.widget-view+json": {
       "model_id": "",
       "version_major": 2,
       "version_minor": 0
      },
      "text/plain": [
       "Creating glimpse 1343.4.8.ND0004:   0%|          | 0/94 [00:00<?, ?it/s]"
      ]
     },
     "metadata": {},
     "output_type": "display_data"
    },
    {
     "name": "stdout",
     "output_type": "stream",
     "text": [
      "Video 1343.4.8.ND0004 saved successfully.\n"
     ]
    },
    {
     "data": {
      "application/vnd.jupyter.widget-view+json": {
       "model_id": "",
       "version_major": 2,
       "version_minor": 0
      },
      "text/plain": [
       "Creating glimpse 1351.4.8.ND0004:   0%|          | 0/110 [00:00<?, ?it/s]"
      ]
     },
     "metadata": {},
     "output_type": "display_data"
    },
    {
     "name": "stdout",
     "output_type": "stream",
     "text": [
      "Video 1351.4.8.ND0004 saved successfully.\n",
      "Skipping ID 1352.4.8.ND0004 as r2 = 0.68\n"
     ]
    },
    {
     "data": {
      "application/vnd.jupyter.widget-view+json": {
       "model_id": "",
       "version_major": 2,
       "version_minor": 0
      },
      "text/plain": [
       "Creating glimpse 1365.4.8.ND0004:   0%|          | 0/117 [00:00<?, ?it/s]"
      ]
     },
     "metadata": {},
     "output_type": "display_data"
    },
    {
     "name": "stdout",
     "output_type": "stream",
     "text": [
      "Video 1365.4.8.ND0004 saved successfully.\n",
      "Skipping ID 1383.4.8.ND0004 as r2 = 0.68\n",
      "Skipping ID 14.4.8.ND0004 as r2 = 0.54\n",
      "Skipping ID 1410.4.8.ND0004 as r2 = 0.1\n",
      "Skipping ID 1448.4.8.ND0004 as r2 = 0.67\n"
     ]
    },
    {
     "data": {
      "application/vnd.jupyter.widget-view+json": {
       "model_id": "",
       "version_major": 2,
       "version_minor": 0
      },
      "text/plain": [
       "Creating glimpse 1454.4.8.ND0004:   0%|          | 0/103 [00:00<?, ?it/s]"
      ]
     },
     "metadata": {},
     "output_type": "display_data"
    },
    {
     "name": "stdout",
     "output_type": "stream",
     "text": [
      "Video 1454.4.8.ND0004 saved successfully.\n",
      "Skipping ID 1455.4.8.ND0004 as r2 = 0.63\n",
      "Skipping ID 1479.4.8.ND0004 as r2 = 0.58\n",
      "Skipping ID 1482.4.8.ND0004 as r2 = 0.29\n",
      "Skipping ID 1485.4.8.ND0004 as r2 = 0.11\n"
     ]
    },
    {
     "data": {
      "application/vnd.jupyter.widget-view+json": {
       "model_id": "",
       "version_major": 2,
       "version_minor": 0
      },
      "text/plain": [
       "Creating glimpse 1494.4.8.ND0004:   0%|          | 0/152 [00:00<?, ?it/s]"
      ]
     },
     "metadata": {},
     "output_type": "display_data"
    },
    {
     "name": "stdout",
     "output_type": "stream",
     "text": [
      "Video 1494.4.8.ND0004 saved successfully.\n",
      "Skipping ID 15.4.8.ND0004 as r2 = 0.16\n",
      "Skipping ID 1537.4.8.ND0004 as r2 = -0.59\n"
     ]
    },
    {
     "data": {
      "application/vnd.jupyter.widget-view+json": {
       "model_id": "",
       "version_major": 2,
       "version_minor": 0
      },
      "text/plain": [
       "Creating glimpse 1548.4.8.ND0004:   0%|          | 0/154 [00:00<?, ?it/s]"
      ]
     },
     "metadata": {},
     "output_type": "display_data"
    },
    {
     "name": "stdout",
     "output_type": "stream",
     "text": [
      "Video 1548.4.8.ND0004 saved successfully.\n",
      "Skipping ID 156.4.8.ND0004 as r2 = 0.22\n"
     ]
    },
    {
     "data": {
      "application/vnd.jupyter.widget-view+json": {
       "model_id": "",
       "version_major": 2,
       "version_minor": 0
      },
      "text/plain": [
       "Creating glimpse 1562.4.8.ND0004:   0%|          | 0/131 [00:00<?, ?it/s]"
      ]
     },
     "metadata": {},
     "output_type": "display_data"
    },
    {
     "name": "stdout",
     "output_type": "stream",
     "text": [
      "Video 1562.4.8.ND0004 saved successfully.\n",
      "Skipping ID 1566.4.8.ND0004 as r2 = 0.49\n",
      "Skipping ID 1579.4.8.ND0004 as r2 = -0.07\n",
      "Skipping ID 1594.4.8.ND0004 as r2 = 0.34\n"
     ]
    },
    {
     "data": {
      "application/vnd.jupyter.widget-view+json": {
       "model_id": "",
       "version_major": 2,
       "version_minor": 0
      },
      "text/plain": [
       "Creating glimpse 1635.4.8.ND0004:   0%|          | 0/154 [00:00<?, ?it/s]"
      ]
     },
     "metadata": {},
     "output_type": "display_data"
    },
    {
     "name": "stdout",
     "output_type": "stream",
     "text": [
      "Video 1635.4.8.ND0004 saved successfully.\n"
     ]
    },
    {
     "data": {
      "application/vnd.jupyter.widget-view+json": {
       "model_id": "",
       "version_major": 2,
       "version_minor": 0
      },
      "text/plain": [
       "Creating glimpse 1636.4.8.ND0004:   0%|          | 0/154 [00:00<?, ?it/s]"
      ]
     },
     "metadata": {},
     "output_type": "display_data"
    },
    {
     "name": "stdout",
     "output_type": "stream",
     "text": [
      "Video 1636.4.8.ND0004 saved successfully.\n",
      "Skipping ID 1653.4.8.ND0004 as r2 = 0.22\n",
      "Skipping ID 1673.4.8.ND0004 as r2 = 0.55\n"
     ]
    },
    {
     "data": {
      "application/vnd.jupyter.widget-view+json": {
       "model_id": "",
       "version_major": 2,
       "version_minor": 0
      },
      "text/plain": [
       "Creating glimpse 1674.4.8.ND0004:   0%|          | 0/89 [00:00<?, ?it/s]"
      ]
     },
     "metadata": {},
     "output_type": "display_data"
    },
    {
     "name": "stdout",
     "output_type": "stream",
     "text": [
      "Video 1674.4.8.ND0004 saved successfully.\n",
      "Skipping ID 1684.4.8.ND0004 as r2 = 0.67\n"
     ]
    },
    {
     "data": {
      "application/vnd.jupyter.widget-view+json": {
       "model_id": "",
       "version_major": 2,
       "version_minor": 0
      },
      "text/plain": [
       "Creating glimpse 1685.4.8.ND0004:   0%|          | 0/100 [00:00<?, ?it/s]"
      ]
     },
     "metadata": {},
     "output_type": "display_data"
    },
    {
     "name": "stdout",
     "output_type": "stream",
     "text": [
      "Video 1685.4.8.ND0004 saved successfully.\n",
      "Skipping ID 1690.4.8.ND0004 as r2 = 0.61\n",
      "Skipping ID 1701.4.8.ND0004 as r2 = 0.53\n"
     ]
    },
    {
     "data": {
      "application/vnd.jupyter.widget-view+json": {
       "model_id": "",
       "version_major": 2,
       "version_minor": 0
      },
      "text/plain": [
       "Creating glimpse 1709.4.8.ND0004:   0%|          | 0/154 [00:00<?, ?it/s]"
      ]
     },
     "metadata": {},
     "output_type": "display_data"
    },
    {
     "name": "stdout",
     "output_type": "stream",
     "text": [
      "Video 1709.4.8.ND0004 saved successfully.\n",
      "Skipping ID 1714.4.8.ND0004 as r2 = -0.32\n"
     ]
    },
    {
     "data": {
      "application/vnd.jupyter.widget-view+json": {
       "model_id": "",
       "version_major": 2,
       "version_minor": 0
      },
      "text/plain": [
       "Creating glimpse 1722.4.8.ND0004:   0%|          | 0/154 [00:00<?, ?it/s]"
      ]
     },
     "metadata": {},
     "output_type": "display_data"
    },
    {
     "name": "stdout",
     "output_type": "stream",
     "text": [
      "Video 1722.4.8.ND0004 saved successfully.\n"
     ]
    },
    {
     "data": {
      "application/vnd.jupyter.widget-view+json": {
       "model_id": "",
       "version_major": 2,
       "version_minor": 0
      },
      "text/plain": [
       "Creating glimpse 1741.4.8.ND0004:   0%|          | 0/154 [00:00<?, ?it/s]"
      ]
     },
     "metadata": {},
     "output_type": "display_data"
    },
    {
     "name": "stdout",
     "output_type": "stream",
     "text": [
      "Video 1741.4.8.ND0004 saved successfully.\n",
      "Skipping ID 175.4.8.ND0004 as r2 = 0.56\n",
      "Skipping ID 1755.4.8.ND0004 as r2 = 0.55\n"
     ]
    },
    {
     "data": {
      "application/vnd.jupyter.widget-view+json": {
       "model_id": "",
       "version_major": 2,
       "version_minor": 0
      },
      "text/plain": [
       "Creating glimpse 1768.4.8.ND0004:   0%|          | 0/99 [00:00<?, ?it/s]"
      ]
     },
     "metadata": {},
     "output_type": "display_data"
    },
    {
     "name": "stdout",
     "output_type": "stream",
     "text": [
      "Video 1768.4.8.ND0004 saved successfully.\n"
     ]
    },
    {
     "data": {
      "application/vnd.jupyter.widget-view+json": {
       "model_id": "",
       "version_major": 2,
       "version_minor": 0
      },
      "text/plain": [
       "Creating glimpse 177.4.8.ND0004:   0%|          | 0/154 [00:00<?, ?it/s]"
      ]
     },
     "metadata": {},
     "output_type": "display_data"
    },
    {
     "name": "stdout",
     "output_type": "stream",
     "text": [
      "Video 177.4.8.ND0004 saved successfully.\n",
      "Skipping ID 178.4.8.ND0004 as r2 = 0.67\n"
     ]
    },
    {
     "data": {
      "application/vnd.jupyter.widget-view+json": {
       "model_id": "",
       "version_major": 2,
       "version_minor": 0
      },
      "text/plain": [
       "Creating glimpse 181.4.8.ND0004:   0%|          | 0/154 [00:00<?, ?it/s]"
      ]
     },
     "metadata": {},
     "output_type": "display_data"
    },
    {
     "name": "stdout",
     "output_type": "stream",
     "text": [
      "Video 181.4.8.ND0004 saved successfully.\n",
      "Skipping ID 1816.4.8.ND0004 as r2 = 0.67\n",
      "Skipping ID 1818.4.8.ND0004 as r2 = 0.3\n",
      "Skipping ID 185.4.8.ND0004 as r2 = 0.2\n",
      "Skipping ID 186.4.8.ND0004 as r2 = 0.31\n"
     ]
    },
    {
     "data": {
      "application/vnd.jupyter.widget-view+json": {
       "model_id": "",
       "version_major": 2,
       "version_minor": 0
      },
      "text/plain": [
       "Creating glimpse 187.4.8.ND0004:   0%|          | 0/154 [00:00<?, ?it/s]"
      ]
     },
     "metadata": {},
     "output_type": "display_data"
    },
    {
     "name": "stdout",
     "output_type": "stream",
     "text": [
      "Video 187.4.8.ND0004 saved successfully.\n",
      "Skipping ID 1882.4.8.ND0004 as r2 = -0.09\n",
      "Skipping ID 189.4.8.ND0004 as r2 = 0.58\n",
      "Skipping ID 1896.4.8.ND0004 as r2 = 0.44\n",
      "Skipping ID 1902.4.8.ND0004 as r2 = 0.51\n",
      "Skipping ID 1903.4.8.ND0004 as r2 = -3.76\n"
     ]
    },
    {
     "data": {
      "application/vnd.jupyter.widget-view+json": {
       "model_id": "",
       "version_major": 2,
       "version_minor": 0
      },
      "text/plain": [
       "Creating glimpse 191.4.8.ND0004:   0%|          | 0/82 [00:00<?, ?it/s]"
      ]
     },
     "metadata": {},
     "output_type": "display_data"
    },
    {
     "name": "stdout",
     "output_type": "stream",
     "text": [
      "Video 191.4.8.ND0004 saved successfully.\n"
     ]
    },
    {
     "data": {
      "application/vnd.jupyter.widget-view+json": {
       "model_id": "9e2e2fcbed8a4293be876d492da311a8",
       "version_major": 2,
       "version_minor": 0
      },
      "text/plain": [
       "Creating glimpse 192.4.8.ND0004:   0%|          | 0/140 [00:00<?, ?it/s]"
      ]
     },
     "metadata": {},
     "output_type": "display_data"
    },
    {
     "name": "stdout",
     "output_type": "stream",
     "text": [
      "Video 192.4.8.ND0004 saved successfully.\n",
      "Skipping ID 1925.4.8.ND0004 as r2 = 0.69\n"
     ]
    },
    {
     "data": {
      "application/vnd.jupyter.widget-view+json": {
       "model_id": "6e6e5d3e706f4c8f95a267a911004b93",
       "version_major": 2,
       "version_minor": 0
      },
      "text/plain": [
       "Creating glimpse 193.4.8.ND0004:   0%|          | 0/86 [00:00<?, ?it/s]"
      ]
     },
     "metadata": {},
     "output_type": "display_data"
    },
    {
     "name": "stdout",
     "output_type": "stream",
     "text": [
      "Video 193.4.8.ND0004 saved successfully.\n",
      "Skipping ID 1931.4.8.ND0004 as r2 = 0.45\n",
      "Skipping ID 1956.4.8.ND0004 as r2 = 0.28\n",
      "Skipping ID 1976.4.8.ND0004 as r2 = 0.58\n",
      "Skipping ID 1989.4.8.ND0004 as r2 = 0.42\n",
      "Skipping ID 20.4.8.ND0004 as r2 = -0.09\n",
      "Skipping ID 2031.4.8.ND0004 as r2 = 0.56\n"
     ]
    },
    {
     "data": {
      "application/vnd.jupyter.widget-view+json": {
       "model_id": "",
       "version_major": 2,
       "version_minor": 0
      },
      "text/plain": [
       "Creating glimpse 2032.4.8.ND0004:   0%|          | 0/133 [00:00<?, ?it/s]"
      ]
     },
     "metadata": {},
     "output_type": "display_data"
    },
    {
     "name": "stdout",
     "output_type": "stream",
     "text": [
      "Video 2032.4.8.ND0004 saved successfully.\n",
      "Skipping ID 2049.4.8.ND0004 as r2 = 0.37\n"
     ]
    },
    {
     "data": {
      "application/vnd.jupyter.widget-view+json": {
       "model_id": "",
       "version_major": 2,
       "version_minor": 0
      },
      "text/plain": [
       "Creating glimpse 2057.4.8.ND0004:   0%|          | 0/154 [00:00<?, ?it/s]"
      ]
     },
     "metadata": {},
     "output_type": "display_data"
    },
    {
     "name": "stdout",
     "output_type": "stream",
     "text": [
      "Video 2057.4.8.ND0004 saved successfully.\n"
     ]
    },
    {
     "data": {
      "application/vnd.jupyter.widget-view+json": {
       "model_id": "",
       "version_major": 2,
       "version_minor": 0
      },
      "text/plain": [
       "Creating glimpse 2061.4.8.ND0004:   0%|          | 0/127 [00:00<?, ?it/s]"
      ]
     },
     "metadata": {},
     "output_type": "display_data"
    },
    {
     "name": "stdout",
     "output_type": "stream",
     "text": [
      "Video 2061.4.8.ND0004 saved successfully.\n"
     ]
    },
    {
     "data": {
      "application/vnd.jupyter.widget-view+json": {
       "model_id": "",
       "version_major": 2,
       "version_minor": 0
      },
      "text/plain": [
       "Creating glimpse 2065.4.8.ND0004:   0%|          | 0/154 [00:00<?, ?it/s]"
      ]
     },
     "metadata": {},
     "output_type": "display_data"
    },
    {
     "name": "stdout",
     "output_type": "stream",
     "text": [
      "Video 2065.4.8.ND0004 saved successfully.\n",
      "Skipping ID 2096.4.8.ND0004 as r2 = 0.15\n",
      "Skipping ID 2121.4.8.ND0004 as r2 = -1.13\n",
      "Skipping ID 2127.4.8.ND0004 as r2 = 0.49\n",
      "Skipping ID 213.4.8.ND0004 as r2 = 0.5\n",
      "Skipping ID 2174.4.8.ND0004 as r2 = -0.6\n",
      "Skipping ID 2190.4.8.ND0004 as r2 = 0.25\n"
     ]
    },
    {
     "data": {
      "application/vnd.jupyter.widget-view+json": {
       "model_id": "",
       "version_major": 2,
       "version_minor": 0
      },
      "text/plain": [
       "Creating glimpse 23.4.8.ND0004:   0%|          | 0/113 [00:00<?, ?it/s]"
      ]
     },
     "metadata": {},
     "output_type": "display_data"
    },
    {
     "name": "stdout",
     "output_type": "stream",
     "text": [
      "Video 23.4.8.ND0004 saved successfully.\n",
      "Skipping ID 2331.4.8.ND0004 as r2 = 0.07\n"
     ]
    },
    {
     "data": {
      "application/vnd.jupyter.widget-view+json": {
       "model_id": "",
       "version_major": 2,
       "version_minor": 0
      },
      "text/plain": [
       "Creating glimpse 2334.4.8.ND0004:   0%|          | 0/84 [00:00<?, ?it/s]"
      ]
     },
     "metadata": {},
     "output_type": "display_data"
    },
    {
     "name": "stdout",
     "output_type": "stream",
     "text": [
      "Video 2334.4.8.ND0004 saved successfully.\n",
      "Skipping ID 2348.4.8.ND0004 as r2 = 0.09\n",
      "Skipping ID 2357.4.8.ND0004 as r2 = 0.43\n",
      "Skipping ID 236.4.8.ND0004 as r2 = 0.59\n"
     ]
    },
    {
     "data": {
      "application/vnd.jupyter.widget-view+json": {
       "model_id": "",
       "version_major": 2,
       "version_minor": 0
      },
      "text/plain": [
       "Creating glimpse 237.4.8.ND0004:   0%|          | 0/154 [00:00<?, ?it/s]"
      ]
     },
     "metadata": {},
     "output_type": "display_data"
    },
    {
     "name": "stdout",
     "output_type": "stream",
     "text": [
      "Video 237.4.8.ND0004 saved successfully.\n",
      "Skipping ID 2377.4.8.ND0004 as r2 = -0.06\n"
     ]
    },
    {
     "data": {
      "application/vnd.jupyter.widget-view+json": {
       "model_id": "",
       "version_major": 2,
       "version_minor": 0
      },
      "text/plain": [
       "Creating glimpse 239.4.8.ND0004:   0%|          | 0/86 [00:00<?, ?it/s]"
      ]
     },
     "metadata": {},
     "output_type": "display_data"
    },
    {
     "name": "stdout",
     "output_type": "stream",
     "text": [
      "Video 239.4.8.ND0004 saved successfully.\n",
      "Skipping ID 24.4.8.ND0004 as r2 = 0.57\n"
     ]
    },
    {
     "data": {
      "application/vnd.jupyter.widget-view+json": {
       "model_id": "",
       "version_major": 2,
       "version_minor": 0
      },
      "text/plain": [
       "Creating glimpse 241.4.8.ND0004:   0%|          | 0/84 [00:00<?, ?it/s]"
      ]
     },
     "metadata": {},
     "output_type": "display_data"
    },
    {
     "name": "stdout",
     "output_type": "stream",
     "text": [
      "Video 241.4.8.ND0004 saved successfully.\n",
      "Skipping ID 2412.4.8.ND0004 as r2 = -0.01\n"
     ]
    },
    {
     "data": {
      "application/vnd.jupyter.widget-view+json": {
       "model_id": "",
       "version_major": 2,
       "version_minor": 0
      },
      "text/plain": [
       "Creating glimpse 243.4.8.ND0004:   0%|          | 0/154 [00:00<?, ?it/s]"
      ]
     },
     "metadata": {},
     "output_type": "display_data"
    },
    {
     "name": "stdout",
     "output_type": "stream",
     "text": [
      "Video 243.4.8.ND0004 saved successfully.\n",
      "Skipping ID 2434.4.8.ND0004 as r2 = 0.35\n"
     ]
    },
    {
     "data": {
      "application/vnd.jupyter.widget-view+json": {
       "model_id": "",
       "version_major": 2,
       "version_minor": 0
      },
      "text/plain": [
       "Creating glimpse 2445.4.8.ND0004:   0%|          | 0/145 [00:00<?, ?it/s]"
      ]
     },
     "metadata": {},
     "output_type": "display_data"
    },
    {
     "name": "stdout",
     "output_type": "stream",
     "text": [
      "Video 2445.4.8.ND0004 saved successfully.\n"
     ]
    },
    {
     "data": {
      "application/vnd.jupyter.widget-view+json": {
       "model_id": "",
       "version_major": 2,
       "version_minor": 0
      },
      "text/plain": [
       "Creating glimpse 2451.4.8.ND0004:   0%|          | 0/124 [00:00<?, ?it/s]"
      ]
     },
     "metadata": {},
     "output_type": "display_data"
    },
    {
     "name": "stdout",
     "output_type": "stream",
     "text": [
      "Video 2451.4.8.ND0004 saved successfully.\n",
      "Skipping ID 2454.4.8.ND0004 as r2 = 0.29\n"
     ]
    },
    {
     "data": {
      "application/vnd.jupyter.widget-view+json": {
       "model_id": "",
       "version_major": 2,
       "version_minor": 0
      },
      "text/plain": [
       "Creating glimpse 2479.4.8.ND0004:   0%|          | 0/154 [00:00<?, ?it/s]"
      ]
     },
     "metadata": {},
     "output_type": "display_data"
    },
    {
     "name": "stdout",
     "output_type": "stream",
     "text": [
      "Video 2479.4.8.ND0004 saved successfully.\n"
     ]
    },
    {
     "data": {
      "application/vnd.jupyter.widget-view+json": {
       "model_id": "",
       "version_major": 2,
       "version_minor": 0
      },
      "text/plain": [
       "Creating glimpse 25.4.8.ND0004:   0%|          | 0/154 [00:00<?, ?it/s]"
      ]
     },
     "metadata": {},
     "output_type": "display_data"
    },
    {
     "name": "stdout",
     "output_type": "stream",
     "text": [
      "Video 25.4.8.ND0004 saved successfully.\n",
      "Skipping ID 2506.4.8.ND0004 as r2 = 0.15\n",
      "Skipping ID 2515.4.8.ND0004 as r2 = 0.3\n",
      "Skipping ID 2522.4.8.ND0004 as r2 = 0.31\n"
     ]
    },
    {
     "data": {
      "application/vnd.jupyter.widget-view+json": {
       "model_id": "",
       "version_major": 2,
       "version_minor": 0
      },
      "text/plain": [
       "Creating glimpse 2546.4.8.ND0004:   0%|          | 0/105 [00:00<?, ?it/s]"
      ]
     },
     "metadata": {},
     "output_type": "display_data"
    },
    {
     "name": "stdout",
     "output_type": "stream",
     "text": [
      "Video 2546.4.8.ND0004 saved successfully.\n",
      "Skipping ID 2558.4.8.ND0004 as r2 = 0.28\n",
      "Skipping ID 2574.4.8.ND0004 as r2 = -0.07\n",
      "Skipping ID 2591.4.8.ND0004 as r2 = 0.16\n",
      "Skipping ID 26.4.8.ND0004 as r2 = 0.3\n",
      "Skipping ID 2649.4.8.ND0004 as r2 = 0.3\n",
      "Skipping ID 2668.4.8.ND0004 as r2 = 0.2\n"
     ]
    },
    {
     "data": {
      "application/vnd.jupyter.widget-view+json": {
       "model_id": "",
       "version_major": 2,
       "version_minor": 0
      },
      "text/plain": [
       "Creating glimpse 2675.4.8.ND0004:   0%|          | 0/154 [00:00<?, ?it/s]"
      ]
     },
     "metadata": {},
     "output_type": "display_data"
    },
    {
     "name": "stdout",
     "output_type": "stream",
     "text": [
      "Video 2675.4.8.ND0004 saved successfully.\n",
      "Skipping ID 2732.4.8.ND0004 as r2 = 0.45\n",
      "Skipping ID 2751.4.8.ND0004 as r2 = 0.41\n",
      "Skipping ID 2800.4.8.ND0004 as r2 = 0.54\n",
      "Skipping ID 2814.4.8.ND0004 as r2 = 0.4\n",
      "Skipping ID 2818.4.8.ND0004 as r2 = 0.38\n",
      "Skipping ID 2860.4.8.ND0004 as r2 = 0.51\n"
     ]
    },
    {
     "data": {
      "application/vnd.jupyter.widget-view+json": {
       "model_id": "",
       "version_major": 2,
       "version_minor": 0
      },
      "text/plain": [
       "Creating glimpse 2880.4.8.ND0004:   0%|          | 0/121 [00:00<?, ?it/s]"
      ]
     },
     "metadata": {},
     "output_type": "display_data"
    },
    {
     "name": "stdout",
     "output_type": "stream",
     "text": [
      "Video 2880.4.8.ND0004 saved successfully.\n",
      "Skipping ID 29.4.8.ND0004 as r2 = 0.35\n"
     ]
    },
    {
     "data": {
      "application/vnd.jupyter.widget-view+json": {
       "model_id": "",
       "version_major": 2,
       "version_minor": 0
      },
      "text/plain": [
       "Creating glimpse 2908.4.8.ND0004:   0%|          | 0/154 [00:00<?, ?it/s]"
      ]
     },
     "metadata": {},
     "output_type": "display_data"
    },
    {
     "name": "stdout",
     "output_type": "stream",
     "text": [
      "Video 2908.4.8.ND0004 saved successfully.\n",
      "Skipping ID 2939.4.8.ND0004 as r2 = 0.07\n"
     ]
    },
    {
     "data": {
      "application/vnd.jupyter.widget-view+json": {
       "model_id": "",
       "version_major": 2,
       "version_minor": 0
      },
      "text/plain": [
       "Creating glimpse 2962.4.8.ND0004:   0%|          | 0/94 [00:00<?, ?it/s]"
      ]
     },
     "metadata": {},
     "output_type": "display_data"
    },
    {
     "name": "stdout",
     "output_type": "stream",
     "text": [
      "Video 2962.4.8.ND0004 saved successfully.\n",
      "Skipping ID 2988.4.8.ND0004 as r2 = -0.01\n"
     ]
    },
    {
     "data": {
      "application/vnd.jupyter.widget-view+json": {
       "model_id": "",
       "version_major": 2,
       "version_minor": 0
      },
      "text/plain": [
       "Creating glimpse 304.4.8.ND0004:   0%|          | 0/154 [00:00<?, ?it/s]"
      ]
     },
     "metadata": {},
     "output_type": "display_data"
    },
    {
     "name": "stdout",
     "output_type": "stream",
     "text": [
      "Video 304.4.8.ND0004 saved successfully.\n"
     ]
    },
    {
     "data": {
      "application/vnd.jupyter.widget-view+json": {
       "model_id": "",
       "version_major": 2,
       "version_minor": 0
      },
      "text/plain": [
       "Creating glimpse 305.4.8.ND0004:   0%|          | 0/154 [00:00<?, ?it/s]"
      ]
     },
     "metadata": {},
     "output_type": "display_data"
    },
    {
     "name": "stdout",
     "output_type": "stream",
     "text": [
      "Video 305.4.8.ND0004 saved successfully.\n",
      "Skipping ID 307.4.8.ND0004 as r2 = 0.53\n",
      "Skipping ID 3071.4.8.ND0004 as r2 = 0.61\n",
      "Skipping ID 3078.4.8.ND0004 as r2 = 0.65\n"
     ]
    },
    {
     "data": {
      "application/vnd.jupyter.widget-view+json": {
       "model_id": "",
       "version_major": 2,
       "version_minor": 0
      },
      "text/plain": [
       "Creating glimpse 3098.4.8.ND0004:   0%|          | 0/109 [00:00<?, ?it/s]"
      ]
     },
     "metadata": {},
     "output_type": "display_data"
    },
    {
     "name": "stdout",
     "output_type": "stream",
     "text": [
      "Video 3098.4.8.ND0004 saved successfully.\n",
      "Skipping ID 311.4.8.ND0004 as r2 = 0.03\n",
      "Skipping ID 3135.4.8.ND0004 as r2 = 0.61\n",
      "Skipping ID 3160.4.8.ND0004 as r2 = 0.5\n",
      "Skipping ID 3167.4.8.ND0004 as r2 = 0.42\n"
     ]
    },
    {
     "data": {
      "application/vnd.jupyter.widget-view+json": {
       "model_id": "",
       "version_major": 2,
       "version_minor": 0
      },
      "text/plain": [
       "Creating glimpse 3195.4.8.ND0004:   0%|          | 0/106 [00:00<?, ?it/s]"
      ]
     },
     "metadata": {},
     "output_type": "display_data"
    },
    {
     "name": "stdout",
     "output_type": "stream",
     "text": [
      "Video 3195.4.8.ND0004 saved successfully.\n",
      "Skipping ID 33.4.8.ND0004 as r2 = -0.09\n"
     ]
    },
    {
     "data": {
      "application/vnd.jupyter.widget-view+json": {
       "model_id": "",
       "version_major": 2,
       "version_minor": 0
      },
      "text/plain": [
       "Creating glimpse 3329.4.8.ND0004:   0%|          | 0/98 [00:00<?, ?it/s]"
      ]
     },
     "metadata": {},
     "output_type": "display_data"
    },
    {
     "name": "stdout",
     "output_type": "stream",
     "text": [
      "Video 3329.4.8.ND0004 saved successfully.\n",
      "Skipping ID 333.4.8.ND0004 as r2 = 0.41\n",
      "Skipping ID 3399.4.8.ND0004 as r2 = 0.4\n",
      "Skipping ID 341.4.8.ND0004 as r2 = 0.63\n",
      "Skipping ID 346.4.8.ND0004 as r2 = 0.38\n"
     ]
    },
    {
     "data": {
      "application/vnd.jupyter.widget-view+json": {
       "model_id": "",
       "version_major": 2,
       "version_minor": 0
      },
      "text/plain": [
       "Creating glimpse 3483.4.8.ND0004:   0%|          | 0/106 [00:00<?, ?it/s]"
      ]
     },
     "metadata": {},
     "output_type": "display_data"
    },
    {
     "name": "stdout",
     "output_type": "stream",
     "text": [
      "Video 3483.4.8.ND0004 saved successfully.\n",
      "Skipping ID 3514.4.8.ND0004 as r2 = 0.36\n",
      "Skipping ID 3556.4.8.ND0004 as r2 = 0.6\n",
      "Skipping ID 3587.4.8.ND0004 as r2 = 0.38\n",
      "Skipping ID 36.4.8.ND0004 as r2 = 0.57\n",
      "Skipping ID 364.4.8.ND0004 as r2 = -0.86\n",
      "Skipping ID 366.4.8.ND0004 as r2 = 0.66\n"
     ]
    },
    {
     "data": {
      "application/vnd.jupyter.widget-view+json": {
       "model_id": "",
       "version_major": 2,
       "version_minor": 0
      },
      "text/plain": [
       "Creating glimpse 369.4.8.ND0004:   0%|          | 0/154 [00:00<?, ?it/s]"
      ]
     },
     "metadata": {},
     "output_type": "display_data"
    },
    {
     "name": "stdout",
     "output_type": "stream",
     "text": [
      "Video 369.4.8.ND0004 saved successfully.\n",
      "Skipping ID 3703.4.8.ND0004 as r2 = 0.49\n",
      "Skipping ID 3708.4.8.ND0004 as r2 = 0.53\n"
     ]
    },
    {
     "data": {
      "application/vnd.jupyter.widget-view+json": {
       "model_id": "",
       "version_major": 2,
       "version_minor": 0
      },
      "text/plain": [
       "Creating glimpse 372.4.8.ND0004:   0%|          | 0/112 [00:00<?, ?it/s]"
      ]
     },
     "metadata": {},
     "output_type": "display_data"
    },
    {
     "name": "stdout",
     "output_type": "stream",
     "text": [
      "Video 372.4.8.ND0004 saved successfully.\n",
      "Skipping ID 3723.4.8.ND0004 as r2 = -0.01\n"
     ]
    },
    {
     "data": {
      "application/vnd.jupyter.widget-view+json": {
       "model_id": "",
       "version_major": 2,
       "version_minor": 0
      },
      "text/plain": [
       "Creating glimpse 3783.4.8.ND0004:   0%|          | 0/76 [00:00<?, ?it/s]"
      ]
     },
     "metadata": {},
     "output_type": "display_data"
    },
    {
     "name": "stdout",
     "output_type": "stream",
     "text": [
      "Video 3783.4.8.ND0004 saved successfully.\n"
     ]
    },
    {
     "data": {
      "application/vnd.jupyter.widget-view+json": {
       "model_id": "",
       "version_major": 2,
       "version_minor": 0
      },
      "text/plain": [
       "Creating glimpse 3798.4.8.ND0004:   0%|          | 0/100 [00:00<?, ?it/s]"
      ]
     },
     "metadata": {},
     "output_type": "display_data"
    },
    {
     "name": "stdout",
     "output_type": "stream",
     "text": [
      "Video 3798.4.8.ND0004 saved successfully.\n",
      "Skipping ID 38.4.8.ND0004 as r2 = 0.29\n",
      "Skipping ID 3889.4.8.ND0004 as r2 = -0.75\n"
     ]
    },
    {
     "data": {
      "application/vnd.jupyter.widget-view+json": {
       "model_id": "",
       "version_major": 2,
       "version_minor": 0
      },
      "text/plain": [
       "Creating glimpse 3897.4.8.ND0004:   0%|          | 0/154 [00:00<?, ?it/s]"
      ]
     },
     "metadata": {},
     "output_type": "display_data"
    },
    {
     "name": "stdout",
     "output_type": "stream",
     "text": [
      "Video 3897.4.8.ND0004 saved successfully.\n"
     ]
    },
    {
     "data": {
      "application/vnd.jupyter.widget-view+json": {
       "model_id": "",
       "version_major": 2,
       "version_minor": 0
      },
      "text/plain": [
       "Creating glimpse 3899.4.8.ND0004:   0%|          | 0/154 [00:00<?, ?it/s]"
      ]
     },
     "metadata": {},
     "output_type": "display_data"
    },
    {
     "name": "stdout",
     "output_type": "stream",
     "text": [
      "Video 3899.4.8.ND0004 saved successfully.\n",
      "Skipping ID 391.4.8.ND0004 as r2 = 0.59\n"
     ]
    },
    {
     "data": {
      "application/vnd.jupyter.widget-view+json": {
       "model_id": "",
       "version_major": 2,
       "version_minor": 0
      },
      "text/plain": [
       "Creating glimpse 3913.4.8.ND0004:   0%|          | 0/105 [00:00<?, ?it/s]"
      ]
     },
     "metadata": {},
     "output_type": "display_data"
    },
    {
     "name": "stdout",
     "output_type": "stream",
     "text": [
      "Video 3913.4.8.ND0004 saved successfully.\n",
      "Skipping ID 392.4.8.ND0004 as r2 = 0.33\n",
      "Skipping ID 3957.4.8.ND0004 as r2 = 0.37\n",
      "Skipping ID 3997.4.8.ND0004 as r2 = 0.27\n",
      "Skipping ID 4.4.8.ND0004 as r2 = 0.18\n",
      "Skipping ID 400.4.8.ND0004 as r2 = 0.39\n",
      "Skipping ID 403.4.8.ND0004 as r2 = 0.22\n",
      "Skipping ID 406.4.8.ND0004 as r2 = -0.03\n",
      "Skipping ID 4073.4.8.ND0004 as r2 = 0.14\n",
      "Skipping ID 41.4.8.ND0004 as r2 = 0.6\n",
      "Skipping ID 4101.4.8.ND0004 as r2 = 0.48\n",
      "Skipping ID 4109.4.8.ND0004 as r2 = 0.37\n",
      "Skipping ID 4170.4.8.ND0004 as r2 = 0.09\n",
      "Skipping ID 4174.4.8.ND0004 as r2 = 0.28\n",
      "Skipping ID 4183.4.8.ND0004 as r2 = 0.31\n",
      "Skipping ID 420.4.8.ND0004 as r2 = 0.46\n",
      "Skipping ID 4204.4.8.ND0004 as r2 = 0.37\n"
     ]
    },
    {
     "data": {
      "application/vnd.jupyter.widget-view+json": {
       "model_id": "",
       "version_major": 2,
       "version_minor": 0
      },
      "text/plain": [
       "Creating glimpse 423.4.8.ND0004:   0%|          | 0/113 [00:00<?, ?it/s]"
      ]
     },
     "metadata": {},
     "output_type": "display_data"
    },
    {
     "name": "stdout",
     "output_type": "stream",
     "text": [
      "Video 423.4.8.ND0004 saved successfully.\n",
      "Skipping ID 424.4.8.ND0004 as r2 = 0.6\n",
      "Skipping ID 425.4.8.ND0004 as r2 = -0.06\n",
      "Skipping ID 4289.4.8.ND0004 as r2 = 0.54\n",
      "Skipping ID 43.4.8.ND0004 as r2 = 0.38\n",
      "Skipping ID 4303.4.8.ND0004 as r2 = -0.03\n"
     ]
    },
    {
     "data": {
      "application/vnd.jupyter.widget-view+json": {
       "model_id": "",
       "version_major": 2,
       "version_minor": 0
      },
      "text/plain": [
       "Creating glimpse 4333.4.8.ND0004:   0%|          | 0/79 [00:00<?, ?it/s]"
      ]
     },
     "metadata": {},
     "output_type": "display_data"
    },
    {
     "name": "stdout",
     "output_type": "stream",
     "text": [
      "Video 4333.4.8.ND0004 saved successfully.\n"
     ]
    },
    {
     "data": {
      "application/vnd.jupyter.widget-view+json": {
       "model_id": "",
       "version_major": 2,
       "version_minor": 0
      },
      "text/plain": [
       "Creating glimpse 4347.4.8.ND0004:   0%|          | 0/106 [00:00<?, ?it/s]"
      ]
     },
     "metadata": {},
     "output_type": "display_data"
    },
    {
     "name": "stdout",
     "output_type": "stream",
     "text": [
      "Video 4347.4.8.ND0004 saved successfully.\n",
      "Skipping ID 4388.4.8.ND0004 as r2 = 0.62\n",
      "Skipping ID 4392.4.8.ND0004 as r2 = 0.51\n"
     ]
    },
    {
     "data": {
      "application/vnd.jupyter.widget-view+json": {
       "model_id": "",
       "version_major": 2,
       "version_minor": 0
      },
      "text/plain": [
       "Creating glimpse 4402.4.8.ND0004:   0%|          | 0/78 [00:00<?, ?it/s]"
      ]
     },
     "metadata": {},
     "output_type": "display_data"
    },
    {
     "name": "stdout",
     "output_type": "stream",
     "text": [
      "Video 4402.4.8.ND0004 saved successfully.\n"
     ]
    },
    {
     "data": {
      "application/vnd.jupyter.widget-view+json": {
       "model_id": "",
       "version_major": 2,
       "version_minor": 0
      },
      "text/plain": [
       "Creating glimpse 444.4.8.ND0004:   0%|          | 0/93 [00:00<?, ?it/s]"
      ]
     },
     "metadata": {},
     "output_type": "display_data"
    },
    {
     "name": "stdout",
     "output_type": "stream",
     "text": [
      "Video 444.4.8.ND0004 saved successfully.\n",
      "Skipping ID 4445.4.8.ND0004 as r2 = 0.29\n",
      "Skipping ID 4463.4.8.ND0004 as r2 = -1.06\n",
      "Skipping ID 4464.4.8.ND0004 as r2 = 0.09\n"
     ]
    },
    {
     "data": {
      "application/vnd.jupyter.widget-view+json": {
       "model_id": "",
       "version_major": 2,
       "version_minor": 0
      },
      "text/plain": [
       "Creating glimpse 4475.4.8.ND0004:   0%|          | 0/154 [00:00<?, ?it/s]"
      ]
     },
     "metadata": {},
     "output_type": "display_data"
    },
    {
     "name": "stdout",
     "output_type": "stream",
     "text": [
      "Video 4475.4.8.ND0004 saved successfully.\n",
      "Skipping ID 4479.4.8.ND0004 as r2 = 0.19\n"
     ]
    },
    {
     "data": {
      "application/vnd.jupyter.widget-view+json": {
       "model_id": "",
       "version_major": 2,
       "version_minor": 0
      },
      "text/plain": [
       "Creating glimpse 4487.4.8.ND0004:   0%|          | 0/154 [00:00<?, ?it/s]"
      ]
     },
     "metadata": {},
     "output_type": "display_data"
    },
    {
     "name": "stdout",
     "output_type": "stream",
     "text": [
      "Video 4487.4.8.ND0004 saved successfully.\n",
      "Skipping ID 4506.4.8.ND0004 as r2 = 0.35\n",
      "Skipping ID 454.4.8.ND0004 as r2 = 0.47\n",
      "Skipping ID 4555.4.8.ND0004 as r2 = 0.46\n",
      "Skipping ID 4561.4.8.ND0004 as r2 = 0.53\n",
      "Skipping ID 4571.4.8.ND0004 as r2 = 0.46\n",
      "Skipping ID 465.4.8.ND0004 as r2 = 0.27\n",
      "Skipping ID 4735.4.8.ND0004 as r2 = 0.29\n",
      "Skipping ID 479.4.8.ND0004 as r2 = 0.66\n",
      "Skipping ID 480.4.8.ND0004 as r2 = 0.58\n",
      "Skipping ID 5031.4.8.ND0004 as r2 = 0.69\n",
      "Skipping ID 5059.4.8.ND0004 as r2 = 0.53\n",
      "Skipping ID 51.4.8.ND0004 as r2 = 0.09\n",
      "Skipping ID 5112.4.8.ND0004 as r2 = 0.17\n",
      "Skipping ID 5219.4.8.ND0004 as r2 = 0.31\n",
      "Skipping ID 5308.4.8.ND0004 as r2 = 0.06\n",
      "Skipping ID 5383.4.8.ND0004 as r2 = -0.09\n",
      "Skipping ID 5423.4.8.ND0004 as r2 = 0.54\n",
      "Skipping ID 5475.4.8.ND0004 as r2 = 0.2\n",
      "Skipping ID 5498.4.8.ND0004 as r2 = 0.26\n"
     ]
    },
    {
     "data": {
      "application/vnd.jupyter.widget-view+json": {
       "model_id": "",
       "version_major": 2,
       "version_minor": 0
      },
      "text/plain": [
       "Creating glimpse 55.4.8.ND0004:   0%|          | 0/154 [00:00<?, ?it/s]"
      ]
     },
     "metadata": {},
     "output_type": "display_data"
    },
    {
     "name": "stdout",
     "output_type": "stream",
     "text": [
      "Video 55.4.8.ND0004 saved successfully.\n",
      "Skipping ID 5512.4.8.ND0004 as r2 = 0.69\n",
      "Skipping ID 5533.4.8.ND0004 as r2 = -1.03\n",
      "Skipping ID 5557.4.8.ND0004 as r2 = 0.28\n",
      "Skipping ID 557.4.8.ND0004 as r2 = 0.31\n",
      "Skipping ID 561.4.8.ND0004 as r2 = 0.44\n",
      "Skipping ID 57.4.8.ND0004 as r2 = 0.5\n",
      "Skipping ID 576.4.8.ND0004 as r2 = 0.12\n"
     ]
    },
    {
     "data": {
      "application/vnd.jupyter.widget-view+json": {
       "model_id": "",
       "version_major": 2,
       "version_minor": 0
      },
      "text/plain": [
       "Creating glimpse 578.4.8.ND0004:   0%|          | 0/154 [00:00<?, ?it/s]"
      ]
     },
     "metadata": {},
     "output_type": "display_data"
    },
    {
     "name": "stdout",
     "output_type": "stream",
     "text": [
      "Video 578.4.8.ND0004 saved successfully.\n",
      "Skipping ID 5814.4.8.ND0004 as r2 = 0.5\n"
     ]
    },
    {
     "data": {
      "application/vnd.jupyter.widget-view+json": {
       "model_id": "",
       "version_major": 2,
       "version_minor": 0
      },
      "text/plain": [
       "Creating glimpse 584.4.8.ND0004:   0%|          | 0/154 [00:00<?, ?it/s]"
      ]
     },
     "metadata": {},
     "output_type": "display_data"
    },
    {
     "name": "stdout",
     "output_type": "stream",
     "text": [
      "Video 584.4.8.ND0004 saved successfully.\n",
      "Skipping ID 5914.4.8.ND0004 as r2 = 0.12\n",
      "Skipping ID 5920.4.8.ND0004 as r2 = 0.2\n"
     ]
    },
    {
     "data": {
      "application/vnd.jupyter.widget-view+json": {
       "model_id": "",
       "version_major": 2,
       "version_minor": 0
      },
      "text/plain": [
       "Creating glimpse 594.4.8.ND0004:   0%|          | 0/154 [00:00<?, ?it/s]"
      ]
     },
     "metadata": {},
     "output_type": "display_data"
    },
    {
     "name": "stdout",
     "output_type": "stream",
     "text": [
      "Video 594.4.8.ND0004 saved successfully.\n",
      "Skipping ID 6040.4.8.ND0004 as r2 = 0.36\n",
      "Skipping ID 606.4.8.ND0004 as r2 = 0.57\n"
     ]
    },
    {
     "data": {
      "application/vnd.jupyter.widget-view+json": {
       "model_id": "",
       "version_major": 2,
       "version_minor": 0
      },
      "text/plain": [
       "Creating glimpse 6064.4.8.ND0004:   0%|          | 0/154 [00:00<?, ?it/s]"
      ]
     },
     "metadata": {},
     "output_type": "display_data"
    },
    {
     "name": "stdout",
     "output_type": "stream",
     "text": [
      "Video 6064.4.8.ND0004 saved successfully.\n",
      "Skipping ID 6078.4.8.ND0004 as r2 = -0.22\n",
      "Skipping ID 6116.4.8.ND0004 as r2 = 0.69\n",
      "Skipping ID 613.4.8.ND0004 as r2 = -0.35\n",
      "Skipping ID 6211.4.8.ND0004 as r2 = -1.06\n",
      "Skipping ID 6347.4.8.ND0004 as r2 = 0.44\n",
      "Skipping ID 6444.4.8.ND0004 as r2 = -0.05\n",
      "Skipping ID 6472.4.8.ND0004 as r2 = 0.15\n",
      "Skipping ID 65.4.8.ND0004 as r2 = 0.2\n"
     ]
    },
    {
     "data": {
      "application/vnd.jupyter.widget-view+json": {
       "model_id": "",
       "version_major": 2,
       "version_minor": 0
      },
      "text/plain": [
       "Creating glimpse 652.4.8.ND0004:   0%|          | 0/154 [00:00<?, ?it/s]"
      ]
     },
     "metadata": {},
     "output_type": "display_data"
    },
    {
     "name": "stdout",
     "output_type": "stream",
     "text": [
      "Video 652.4.8.ND0004 saved successfully.\n"
     ]
    },
    {
     "data": {
      "application/vnd.jupyter.widget-view+json": {
       "model_id": "",
       "version_major": 2,
       "version_minor": 0
      },
      "text/plain": [
       "Creating glimpse 653.4.8.ND0004:   0%|          | 0/154 [00:00<?, ?it/s]"
      ]
     },
     "metadata": {},
     "output_type": "display_data"
    },
    {
     "name": "stdout",
     "output_type": "stream",
     "text": [
      "Video 653.4.8.ND0004 saved successfully.\n",
      "Skipping ID 6581.4.8.ND0004 as r2 = 0.45\n"
     ]
    },
    {
     "data": {
      "application/vnd.jupyter.widget-view+json": {
       "model_id": "",
       "version_major": 2,
       "version_minor": 0
      },
      "text/plain": [
       "Creating glimpse 66.4.8.ND0004:   0%|          | 0/98 [00:00<?, ?it/s]"
      ]
     },
     "metadata": {},
     "output_type": "display_data"
    },
    {
     "name": "stdout",
     "output_type": "stream",
     "text": [
      "Video 66.4.8.ND0004 saved successfully.\n",
      "Skipping ID 664.4.8.ND0004 as r2 = 0.6\n",
      "Skipping ID 680.4.8.ND0004 as r2 = 0.57\n",
      "Skipping ID 6825.4.8.ND0004 as r2 = 0.46\n",
      "Skipping ID 6845.4.8.ND0004 as r2 = 0.35\n",
      "Skipping ID 69.4.8.ND0004 as r2 = 0.49\n",
      "Skipping ID 692.4.8.ND0004 as r2 = -0.28\n"
     ]
    },
    {
     "data": {
      "application/vnd.jupyter.widget-view+json": {
       "model_id": "",
       "version_major": 2,
       "version_minor": 0
      },
      "text/plain": [
       "Creating glimpse 6923.4.8.ND0004:   0%|          | 0/77 [00:00<?, ?it/s]"
      ]
     },
     "metadata": {},
     "output_type": "display_data"
    },
    {
     "name": "stdout",
     "output_type": "stream",
     "text": [
      "Video 6923.4.8.ND0004 saved successfully.\n",
      "Skipping ID 6928.4.8.ND0004 as r2 = 0.41\n",
      "Skipping ID 7261.4.8.ND0004 as r2 = 0.68\n",
      "Skipping ID 7329.4.8.ND0004 as r2 = 0.69\n"
     ]
    },
    {
     "data": {
      "application/vnd.jupyter.widget-view+json": {
       "model_id": "",
       "version_major": 2,
       "version_minor": 0
      },
      "text/plain": [
       "Creating glimpse 7352.4.8.ND0004:   0%|          | 0/117 [00:00<?, ?it/s]"
      ]
     },
     "metadata": {},
     "output_type": "display_data"
    },
    {
     "name": "stdout",
     "output_type": "stream",
     "text": [
      "Video 7352.4.8.ND0004 saved successfully.\n",
      "Skipping ID 737.4.8.ND0004 as r2 = -1.06\n",
      "Skipping ID 740.4.8.ND0004 as r2 = 0.54\n"
     ]
    },
    {
     "data": {
      "application/vnd.jupyter.widget-view+json": {
       "model_id": "",
       "version_major": 2,
       "version_minor": 0
      },
      "text/plain": [
       "Creating glimpse 742.4.8.ND0004:   0%|          | 0/154 [00:00<?, ?it/s]"
      ]
     },
     "metadata": {},
     "output_type": "display_data"
    },
    {
     "name": "stdout",
     "output_type": "stream",
     "text": [
      "Video 742.4.8.ND0004 saved successfully.\n",
      "Skipping ID 7443.4.8.ND0004 as r2 = 0.4\n"
     ]
    },
    {
     "data": {
      "application/vnd.jupyter.widget-view+json": {
       "model_id": "",
       "version_major": 2,
       "version_minor": 0
      },
      "text/plain": [
       "Creating glimpse 7450.4.8.ND0004:   0%|          | 0/91 [00:00<?, ?it/s]"
      ]
     },
     "metadata": {},
     "output_type": "display_data"
    },
    {
     "name": "stdout",
     "output_type": "stream",
     "text": [
      "Video 7450.4.8.ND0004 saved successfully.\n",
      "Skipping ID 7494.4.8.ND0004 as r2 = 0.23\n",
      "Skipping ID 75.4.8.ND0004 as r2 = 0.69\n",
      "Skipping ID 7503.4.8.ND0004 as r2 = 0.14\n",
      "Skipping ID 7551.4.8.ND0004 as r2 = 0.51\n",
      "Skipping ID 7578.4.8.ND0004 as r2 = 0.57\n",
      "Skipping ID 763.4.8.ND0004 as r2 = 0.51\n"
     ]
    },
    {
     "data": {
      "application/vnd.jupyter.widget-view+json": {
       "model_id": "",
       "version_major": 2,
       "version_minor": 0
      },
      "text/plain": [
       "Creating glimpse 765.4.8.ND0004:   0%|          | 0/104 [00:00<?, ?it/s]"
      ]
     },
     "metadata": {},
     "output_type": "display_data"
    },
    {
     "name": "stdout",
     "output_type": "stream",
     "text": [
      "Video 765.4.8.ND0004 saved successfully.\n"
     ]
    },
    {
     "data": {
      "application/vnd.jupyter.widget-view+json": {
       "model_id": "",
       "version_major": 2,
       "version_minor": 0
      },
      "text/plain": [
       "Creating glimpse 766.4.8.ND0004:   0%|          | 0/154 [00:00<?, ?it/s]"
      ]
     },
     "metadata": {},
     "output_type": "display_data"
    },
    {
     "name": "stdout",
     "output_type": "stream",
     "text": [
      "Video 766.4.8.ND0004 saved successfully.\n",
      "Skipping ID 77.4.8.ND0004 as r2 = 0.59\n",
      "Skipping ID 7705.4.8.ND0004 as r2 = 0.58\n"
     ]
    },
    {
     "data": {
      "application/vnd.jupyter.widget-view+json": {
       "model_id": "",
       "version_major": 2,
       "version_minor": 0
      },
      "text/plain": [
       "Creating glimpse 7709.4.8.ND0004:   0%|          | 0/114 [00:00<?, ?it/s]"
      ]
     },
     "metadata": {},
     "output_type": "display_data"
    },
    {
     "name": "stdout",
     "output_type": "stream",
     "text": [
      "Video 7709.4.8.ND0004 saved successfully.\n"
     ]
    },
    {
     "data": {
      "application/vnd.jupyter.widget-view+json": {
       "model_id": "",
       "version_major": 2,
       "version_minor": 0
      },
      "text/plain": [
       "Creating glimpse 7736.4.8.ND0004:   0%|          | 0/147 [00:00<?, ?it/s]"
      ]
     },
     "metadata": {},
     "output_type": "display_data"
    },
    {
     "name": "stdout",
     "output_type": "stream",
     "text": [
      "Video 7736.4.8.ND0004 saved successfully.\n",
      "Skipping ID 776.4.8.ND0004 as r2 = 0.67\n",
      "Skipping ID 777.4.8.ND0004 as r2 = 0.53\n",
      "Skipping ID 778.4.8.ND0004 as r2 = -0.02\n",
      "Skipping ID 78.4.8.ND0004 as r2 = 0.33\n",
      "Skipping ID 786.4.8.ND0004 as r2 = 0.54\n",
      "Skipping ID 7874.4.8.ND0004 as r2 = 0.62\n",
      "Skipping ID 79.4.8.ND0004 as r2 = 0.15\n",
      "Skipping ID 7942.4.8.ND0004 as r2 = 0.69\n",
      "Skipping ID 7982.4.8.ND0004 as r2 = 0.2\n"
     ]
    },
    {
     "data": {
      "application/vnd.jupyter.widget-view+json": {
       "model_id": "",
       "version_major": 2,
       "version_minor": 0
      },
      "text/plain": [
       "Creating glimpse 7989.4.8.ND0004:   0%|          | 0/89 [00:00<?, ?it/s]"
      ]
     },
     "metadata": {},
     "output_type": "display_data"
    },
    {
     "name": "stdout",
     "output_type": "stream",
     "text": [
      "Video 7989.4.8.ND0004 saved successfully.\n"
     ]
    },
    {
     "data": {
      "application/vnd.jupyter.widget-view+json": {
       "model_id": "",
       "version_major": 2,
       "version_minor": 0
      },
      "text/plain": [
       "Creating glimpse 80.4.8.ND0004:   0%|          | 0/154 [00:00<?, ?it/s]"
      ]
     },
     "metadata": {},
     "output_type": "display_data"
    },
    {
     "name": "stdout",
     "output_type": "stream",
     "text": [
      "Video 80.4.8.ND0004 saved successfully.\n"
     ]
    },
    {
     "data": {
      "application/vnd.jupyter.widget-view+json": {
       "model_id": "",
       "version_major": 2,
       "version_minor": 0
      },
      "text/plain": [
       "Creating glimpse 808.4.8.ND0004:   0%|          | 0/78 [00:00<?, ?it/s]"
      ]
     },
     "metadata": {},
     "output_type": "display_data"
    },
    {
     "name": "stdout",
     "output_type": "stream",
     "text": [
      "Video 808.4.8.ND0004 saved successfully.\n",
      "Skipping ID 8091.4.8.ND0004 as r2 = 0.42\n",
      "Skipping ID 81.4.8.ND0004 as r2 = -1.03\n",
      "Skipping ID 8112.4.8.ND0004 as r2 = -0.36\n",
      "Skipping ID 8113.4.8.ND0004 as r2 = 0.63\n",
      "Skipping ID 812.4.8.ND0004 as r2 = -0.08\n",
      "Skipping ID 819.4.8.ND0004 as r2 = 0.11\n",
      "Skipping ID 8218.4.8.ND0004 as r2 = 0.47\n"
     ]
    },
    {
     "data": {
      "application/vnd.jupyter.widget-view+json": {
       "model_id": "",
       "version_major": 2,
       "version_minor": 0
      },
      "text/plain": [
       "Creating glimpse 826.4.8.ND0004:   0%|          | 0/102 [00:00<?, ?it/s]"
      ]
     },
     "metadata": {},
     "output_type": "display_data"
    },
    {
     "name": "stdout",
     "output_type": "stream",
     "text": [
      "Video 826.4.8.ND0004 saved successfully.\n"
     ]
    },
    {
     "data": {
      "application/vnd.jupyter.widget-view+json": {
       "model_id": "",
       "version_major": 2,
       "version_minor": 0
      },
      "text/plain": [
       "Creating glimpse 8265.4.8.ND0004:   0%|          | 0/125 [00:00<?, ?it/s]"
      ]
     },
     "metadata": {},
     "output_type": "display_data"
    },
    {
     "name": "stdout",
     "output_type": "stream",
     "text": [
      "Video 8265.4.8.ND0004 saved successfully.\n"
     ]
    },
    {
     "data": {
      "application/vnd.jupyter.widget-view+json": {
       "model_id": "",
       "version_major": 2,
       "version_minor": 0
      },
      "text/plain": [
       "Creating glimpse 8268.4.8.ND0004:   0%|          | 0/95 [00:00<?, ?it/s]"
      ]
     },
     "metadata": {},
     "output_type": "display_data"
    },
    {
     "name": "stdout",
     "output_type": "stream",
     "text": [
      "Video 8268.4.8.ND0004 saved successfully.\n",
      "Skipping ID 8287.4.8.ND0004 as r2 = 0.28\n",
      "Skipping ID 8376.4.8.ND0004 as r2 = -0.33\n"
     ]
    },
    {
     "data": {
      "application/vnd.jupyter.widget-view+json": {
       "model_id": "",
       "version_major": 2,
       "version_minor": 0
      },
      "text/plain": [
       "Creating glimpse 8446.4.8.ND0004:   0%|          | 0/82 [00:00<?, ?it/s]"
      ]
     },
     "metadata": {},
     "output_type": "display_data"
    },
    {
     "name": "stdout",
     "output_type": "stream",
     "text": [
      "Video 8446.4.8.ND0004 saved successfully.\n",
      "Skipping ID 8447.4.8.ND0004 as r2 = 0.62\n",
      "Skipping ID 8461.4.8.ND0004 as r2 = 0.45\n",
      "Skipping ID 862.4.8.ND0004 as r2 = -0.1\n"
     ]
    },
    {
     "data": {
      "application/vnd.jupyter.widget-view+json": {
       "model_id": "",
       "version_major": 2,
       "version_minor": 0
      },
      "text/plain": [
       "Creating glimpse 890.4.8.ND0004:   0%|          | 0/95 [00:00<?, ?it/s]"
      ]
     },
     "metadata": {},
     "output_type": "display_data"
    },
    {
     "name": "stdout",
     "output_type": "stream",
     "text": [
      "Video 890.4.8.ND0004 saved successfully.\n",
      "Skipping ID 908.4.8.ND0004 as r2 = 0.41\n"
     ]
    },
    {
     "data": {
      "application/vnd.jupyter.widget-view+json": {
       "model_id": "",
       "version_major": 2,
       "version_minor": 0
      },
      "text/plain": [
       "Creating glimpse 927.4.8.ND0004:   0%|          | 0/85 [00:00<?, ?it/s]"
      ]
     },
     "metadata": {},
     "output_type": "display_data"
    },
    {
     "name": "stdout",
     "output_type": "stream",
     "text": [
      "Video 927.4.8.ND0004 saved successfully.\n",
      "Skipping ID 928.4.8.ND0004 as r2 = 0.66\n",
      "Skipping ID 953.4.8.ND0004 as r2 = 0.56\n",
      "Skipping ID 989.4.8.ND0004 as r2 = 0.18\n"
     ]
    },
    {
     "data": {
      "application/vnd.jupyter.widget-view+json": {
       "model_id": "",
       "version_major": 2,
       "version_minor": 0
      },
      "text/plain": [
       "Creating glimpse 994.4.8.ND0004:   0%|          | 0/154 [00:00<?, ?it/s]"
      ]
     },
     "metadata": {},
     "output_type": "display_data"
    },
    {
     "name": "stdout",
     "output_type": "stream",
     "text": [
      "Video 994.4.8.ND0004 saved successfully.\n"
     ]
    }
   ],
   "source": [
    "for unique_ID in tqdm(df_acq_ID['ID'].unique(), total = len(df_acq_ID['ID'].unique())):\n",
    "    \n",
    "    # try: \n",
    "    # if 'ND0003' not in unique_ID:\n",
    "    #     continue\n",
    "    # if os.path.exists(f\"/mnt/SYNO/macrohet_syno/results/glimpse_dt_graphs/ND4_newmodel_glimpses/{unique_ID}.mp4\"):\n",
    "    # # if os.path.exists(f\"/mnt/SYNO/macrohet_syno/data/glimpses/{unique_ID}.mp4\"):\n",
    "    #     print(f'Path exists {unique_ID}')\n",
    "    #     continue \n",
    "        \n",
    "    sc_df = df_acq_ID[df_acq_ID['ID'] == unique_ID]\n",
    "    r2 = sc_df['r2'].iloc[0]\n",
    "    if r2 < 0.7:\n",
    "        print(f'Skipping ID {unique_ID} as r2 = {r2}')\n",
    "        N_skipped += 1\n",
    "        continue\n",
    "\n",
    "    N_processed +=1\n",
    "    \n",
    "    # get the acq id information\n",
    "    acq_ID = row, column = int(unique_ID.split('.')[1]), int(unique_ID.split('.')[2]) \n",
    "    cell_ID = int(unique_ID.split('.')[0])\n",
    "    expt_ID = unique_ID.split('.')[-1]\n",
    "    \n",
    "    # assign the proper channel enumeration\n",
    "    mphi_channel = 0 if expt_ID == 'PS0000' else 1\n",
    "    mtb_channel = 1 if expt_ID == 'PS0000' else 0\n",
    "    \n",
    "    # if no side length provided then estimate based on max mphi area\n",
    "    if not side_length:\n",
    "        # Calculate the side length for cropping based on the square root of the area\n",
    "        side_length = int(np.sqrt(sc_df['Mphi Area (µm)'].max())) * 2\n",
    "    \n",
    "    # preload the images\n",
    "    image_dir = f'/mnt/SYNO/macrohet_syno/data/{expt_ID}/acquisition/zarr/{acq_ID}.zarr'\n",
    "    zarr_group = zarr.open(image_dir, mode='r')\n",
    "    images = zarr_group.images\n",
    "    sample_image = images[0,0,0,...]\n",
    "    \n",
    "    \n",
    "    # Load segmentation if necessary\n",
    "    seg_fn = glob.glob(f'/mnt/SYNO/macrohet_syno/data/{expt_ID}/labels/*/{acq_ID}.h5')[0]\n",
    "    if seg_fn != last_seg_fn:\n",
    "        with btrack.io.HDF5FileHandler(seg_fn, 'r', obj_type='obj_type_1') as reader:\n",
    "            segmentation = reader.segmentation\n",
    "        last_seg_fn = seg_fn\n",
    "    \n",
    "    # load the segmentation \n",
    "    rgb_stack = []\n",
    "    \n",
    "    # iterate over each frame/data point\n",
    "    for i, t in tqdm(enumerate(sc_df['Time (hours)']), total = len(sc_df), leave = False, desc = f'Creating glimpse {unique_ID}'):\n",
    "        \n",
    "        sc_df_t = sc_df[sc_df['Time (hours)'] == t]\n",
    "        # Extract xy coordinates and transpose for python and area from the cell information\n",
    "        x_coord, y_coord, area, t, f, mtb = sc_df_t.loc[:, ['x', 'y', 'Mphi Area (µm)', 'Time (hours)', 'Frame', 'Mtb Area (µm)']].values[0]\n",
    "    \n",
    "        # Scale according to tracking shrinkage\n",
    "        y_coord, x_coord = y_coord * track_scale_factor, x_coord * track_scale_factor\n",
    "    \n",
    "        # Calculate the cropping boundaries\n",
    "        x_start = int(x_coord - side_length / 2)\n",
    "        x_end = int(x_coord + side_length / 2)\n",
    "        y_start = int(y_coord - side_length / 2)\n",
    "        y_end = int(y_coord + side_length / 2)\n",
    "        \n",
    "        # Pad the boundaries if they exceed the image dimensions\n",
    "        if x_start < 0:\n",
    "            x_pad = abs(x_start)\n",
    "            x_start = 0\n",
    "        else:\n",
    "            x_pad = 0\n",
    "    \n",
    "        if x_end > sample_image.shape[0]:\n",
    "            x_pad_end = x_end - sample_image.shape[0]\n",
    "            x_end = sample_image.shape[0]\n",
    "        else:\n",
    "            x_pad_end = 0\n",
    "    \n",
    "        if y_start < 0:\n",
    "            y_pad = abs(y_start)\n",
    "            y_start = 0\n",
    "        else:\n",
    "            y_pad = 0\n",
    "    \n",
    "        if y_end > sample_image.shape[1]:\n",
    "            y_pad_end = y_end - sample_image.shape[1]\n",
    "            y_end = sample_image.shape[1]\n",
    "        else:\n",
    "            y_pad_end = 0\n",
    "    \n",
    "        # Crop the image\n",
    "        cropped_image = images[int(f), :, 0, x_start:x_end, y_start:y_end]\n",
    "    \n",
    "        # Pad the cropped image if necessary\n",
    "        cropped_image = np.pad(cropped_image, ((0, 0), (x_pad, x_pad_end), (y_pad, y_pad_end)), mode='constant')\n",
    "        \n",
    "        # extract the gfp and rfp channels to apply some vis techn\n",
    "        gfp = cropped_image[mphi_channel, ...]\n",
    "        rfp = cropped_image[mtb_channel, ...]\n",
    "        \n",
    "        # clip the images so that the contrast is more apparent\n",
    "        contrast_lim_gfp = np.clip(gfp, 358, 5886)\n",
    "        contrast_lim_rfp = np.clip(rfp, 480, 1300)\n",
    "        \n",
    "        norm_gfp = cv2.normalize(contrast_lim_gfp, None, 0, 65535, cv2.NORM_MINMAX, dtype=cv2.CV_16U)\n",
    "        norm_rfp = cv2.normalize(contrast_lim_rfp, None, 0, 65535, cv2.NORM_MINMAX, dtype=cv2.CV_16U)\n",
    "        \n",
    "        # Create an empty RGB image with the same shape as the input image\n",
    "        rgb_image = np.zeros((contrast_lim_gfp.shape[0], contrast_lim_gfp.shape[1], 3), dtype=np.uint16)\n",
    "        \n",
    "        # Assign the first channel to the green channel of the RGB image\n",
    "        rgb_image[..., 1] = norm_gfp\n",
    "        \n",
    "        # Assign the second channel to the red and blue channels of the RGB image to create magenta\n",
    "        rgb_image[..., 0] = norm_rfp\n",
    "        rgb_image[..., 2] = norm_rfp\n",
    "        \n",
    "        # scale down to 8bit\n",
    "        rgb_image = np.uint8(rgb_image >> 8)\n",
    "    \n",
    "        \n",
    "        # load mask (singular)\n",
    "        cropped_masks = segmentation[int(f), x_start:x_end, y_start:y_end]\n",
    "        \n",
    "        # Pad the cropped image if necessary\n",
    "        cropped_masks = np.pad(cropped_masks, ((x_pad, x_pad_end), (y_pad, y_pad_end)), mode='constant')\n",
    "    \n",
    "        # extract only that segment\n",
    "        seg_ID = cropped_masks[int(cropped_masks.shape[0] / 2), int(cropped_masks.shape[1] / 2)]\n",
    "       \n",
    "        if seg_ID == 0:\n",
    "            instance_mask = np.zeros((side_length, side_length), dtype = np.uint8)\n",
    "        else:\n",
    "            instance_mask = (cropped_masks == seg_ID).astype(np.uint8)\n",
    "    \n",
    "        # draw outline\n",
    "        contours, _ = cv2.findContours(instance_mask, cv2.RETR_EXTERNAL, cv2.CHAIN_APPROX_SIMPLE)\n",
    "        cv2.drawContours(rgb_image, contours, -1, (0, 2 ** 8, 2 ** 8), thickness=2)  # make 8bit\n",
    "        \n",
    "        # Convert to PIL image for text overlay\n",
    "        pil_image = Image.fromarray(rgb_image)\n",
    "        draw = ImageDraw.Draw(pil_image)\n",
    "    \n",
    "        # Bottom left corner text\n",
    "        bottom_left_text = f\"{t} hours\"\n",
    "        draw.text((10, rgb_image.shape[0] - 80), bottom_left_text, font=font, fill=text_color)\n",
    "    \n",
    "        # Bottom right corner text\n",
    "        bottom_right_text = '20µm'\n",
    "        text_size = font.getbbox(bottom_right_text)\n",
    "        text_width = text_size[2] - text_size[0]  # Calculate text width\n",
    "        bottom_right_text_position = (rgb_image.shape[1] - text_width - 40, rgb_image.shape[0] - 80)\n",
    "        draw.text(bottom_right_text_position, bottom_right_text, font=font, fill=text_color)\n",
    "    \n",
    "        # Calculate line length in pixels for a 20 micrometer scale bar\n",
    "        line_length_pixels = int(20 / image_scale_um_per_pixel)\n",
    "        line_start = (bottom_right_text_position[0], bottom_right_text_position[1] + 55)\n",
    "        line_end = (line_start[0] + line_length_pixels, line_start[1])\n",
    "        draw.line([line_start, line_end], fill=text_color, width=10)\n",
    "    \n",
    "        # Top left corner text\n",
    "        draw.text((10, 10), unique_ID, font=font, fill=text_color)\n",
    "    \n",
    "        # Top right corner text\n",
    "        mtb_value = f\"Mtb:{mtb:.2f}µm²\"\n",
    "        text_size = font.getbbox(mtb_value)\n",
    "        text_width = text_size[2] - text_size[0]  # Calculate text width\n",
    "        top_right_text_position = (rgb_image.shape[1] - text_width - 10, 10)\n",
    "        draw.text(top_right_text_position, mtb_value, font=font, fill=text_color)\n",
    "    \n",
    "        # Convert back to OpenCV image\n",
    "        rgb_image = np.array(pil_image)\n",
    "        \n",
    "        # Resize image to consistent shape\n",
    "        rgb_image_resized = cv2.resize(rgb_image, (side_length, side_length), interpolation=cv2.INTER_AREA)\n",
    "\n",
    "        # add to stack\n",
    "        rgb_stack.append(rgb_image_resized)\n",
    "\n",
    "    # compile into array\n",
    "    rgb_stack = np.stack(rgb_stack, axis = 0)\n",
    "    \n",
    "    # Get the dimensions of the first frame\n",
    "    height, width, _ = rgb_stack[0].shape\n",
    "    \n",
    "    # Define the frame rate (number of frames per second)\n",
    "    frame_rate = len(rgb_stack) / 20  # Total frames divided by total seconds\n",
    "    output_file = f\"/mnt/SYNO/macrohet_syno/results/glimpse_dt_graphs/ND4_newmodel_glimpses/{unique_ID}.mp4\"\n",
    "    # output_file = f\"/mnt/SYNO/macrohet_syno/glimpses/{unique_ID}.mp4\"\n",
    "    # Initialize VideoWriter object\n",
    "    fourcc = cv2.VideoWriter_fourcc(*'mp4v')\n",
    "    out = cv2.VideoWriter(output_file, fourcc, frame_rate, (width, height))\n",
    "    \n",
    "    # Write each frame to the video file\n",
    "    for frame in rgb_stack:\n",
    "        out.write(frame)\n",
    "    \n",
    "    # Release the VideoWriter object\n",
    "    out.release()\n",
    "    \n",
    "    print(f\"Video {unique_ID} saved successfully.\")\n",
    "\n",
    "# except Exception as e:\n",
    "#     error_message = f\"Error: {e}\\nUnique ID: {unique_ID}\\n\"\n",
    "#     with open(\"error_log.txt\", \"a\") as file:\n",
    "#         file.write(error_message)\n",
    "        "
   ]
  },
  {
   "cell_type": "code",
   "execution_count": 205,
   "id": "30108424-7d31-4238-b887-b0e05bd2692a",
   "metadata": {},
   "outputs": [],
   "source": [
    "df_acq_ID.to_pickle(f'/mnt/SYNO/macrohet_syno/results/dfs/ND0004/sc_df_{acq_ID[0]}.{acq_ID[1]}.ND0004.pkl')"
   ]
  },
  {
   "cell_type": "markdown",
   "id": "353e3f05-cc15-4033-b90f-824e675a7064",
   "metadata": {},
   "source": [
    "# Reload after some manual classification"
   ]
  },
  {
   "cell_type": "code",
   "execution_count": 232,
   "id": "8904f5aa-5946-4205-82e8-a7354d7d0647",
   "metadata": {},
   "outputs": [],
   "source": [
    "df_new = pd.read_pickle('/mnt/SYNO/macrohet_syno/results/dfs/ND0004/sc_df_4.8.ND0004.pkl')"
   ]
  },
  {
   "cell_type": "code",
   "execution_count": 233,
   "id": "71e909b4-2aa0-45dc-8465-473bc34b12cc",
   "metadata": {},
   "outputs": [
    {
     "data": {
      "text/html": [
       "<div>\n",
       "<style scoped>\n",
       "    .dataframe tbody tr th:only-of-type {\n",
       "        vertical-align: middle;\n",
       "    }\n",
       "\n",
       "    .dataframe tbody tr th {\n",
       "        vertical-align: top;\n",
       "    }\n",
       "\n",
       "    .dataframe thead th {\n",
       "        text-align: right;\n",
       "    }\n",
       "</style>\n",
       "<table border=\"1\" class=\"dataframe\">\n",
       "  <thead>\n",
       "    <tr style=\"text-align: right;\">\n",
       "      <th></th>\n",
       "      <th></th>\n",
       "      <th>ID</th>\n",
       "      <th>t</th>\n",
       "      <th>x</th>\n",
       "      <th>y</th>\n",
       "      <th>Mtb Area (µm)</th>\n",
       "      <th>Mphi Area (µm)</th>\n",
       "      <th>Infection Status</th>\n",
       "      <th>Initial Infection Status</th>\n",
       "      <th>Final Infection Status</th>\n",
       "      <th>Unique_ID</th>\n",
       "      <th>...</th>\n",
       "      <th>Acquisition ID</th>\n",
       "      <th>Experiment ID</th>\n",
       "      <th>Mtb Area Processed (µm)</th>\n",
       "      <th>Time Model (hours)</th>\n",
       "      <th>Mtb Area Model (µm)</th>\n",
       "      <th>r2</th>\n",
       "      <th>Doubling Amounts</th>\n",
       "      <th>Doubling Times</th>\n",
       "      <th>mtb_origin</th>\n",
       "      <th>Edge Status</th>\n",
       "    </tr>\n",
       "    <tr>\n",
       "      <th>ID</th>\n",
       "      <th></th>\n",
       "      <th></th>\n",
       "      <th></th>\n",
       "      <th></th>\n",
       "      <th></th>\n",
       "      <th></th>\n",
       "      <th></th>\n",
       "      <th></th>\n",
       "      <th></th>\n",
       "      <th></th>\n",
       "      <th></th>\n",
       "      <th></th>\n",
       "      <th></th>\n",
       "      <th></th>\n",
       "      <th></th>\n",
       "      <th></th>\n",
       "      <th></th>\n",
       "      <th></th>\n",
       "      <th></th>\n",
       "      <th></th>\n",
       "      <th></th>\n",
       "      <th></th>\n",
       "    </tr>\n",
       "  </thead>\n",
       "  <tbody>\n",
       "    <tr>\n",
       "      <th rowspan=\"5\" valign=\"top\">1015.4.8.ND0004</th>\n",
       "      <th>13866</th>\n",
       "      <td>1015.4.8.ND0004</td>\n",
       "      <td>0</td>\n",
       "      <td>2874</td>\n",
       "      <td>636</td>\n",
       "      <td>NaN</td>\n",
       "      <td>NaN</td>\n",
       "      <td>NaN</td>\n",
       "      <td>False</td>\n",
       "      <td>False</td>\n",
       "      <td>1015.4.8.ND0004</td>\n",
       "      <td>...</td>\n",
       "      <td>(4, 8)</td>\n",
       "      <td>ND0004</td>\n",
       "      <td>NaN</td>\n",
       "      <td>NaN</td>\n",
       "      <td>NaN</td>\n",
       "      <td>1.0</td>\n",
       "      <td>None</td>\n",
       "      <td>None</td>\n",
       "      <td>NaN</td>\n",
       "      <td>NaN</td>\n",
       "    </tr>\n",
       "    <tr>\n",
       "      <th>13867</th>\n",
       "      <td>1015.4.8.ND0004</td>\n",
       "      <td>1</td>\n",
       "      <td>2871</td>\n",
       "      <td>599</td>\n",
       "      <td>0.0</td>\n",
       "      <td>937.450939</td>\n",
       "      <td>NaN</td>\n",
       "      <td>False</td>\n",
       "      <td>False</td>\n",
       "      <td>1015.4.8.ND0004</td>\n",
       "      <td>...</td>\n",
       "      <td>(4, 8)</td>\n",
       "      <td>ND0004</td>\n",
       "      <td>NaN</td>\n",
       "      <td>NaN</td>\n",
       "      <td>NaN</td>\n",
       "      <td>1.0</td>\n",
       "      <td>None</td>\n",
       "      <td>None</td>\n",
       "      <td>NaN</td>\n",
       "      <td>NaN</td>\n",
       "    </tr>\n",
       "    <tr>\n",
       "      <th>13868</th>\n",
       "      <td>1015.4.8.ND0004</td>\n",
       "      <td>2</td>\n",
       "      <td>2855</td>\n",
       "      <td>619</td>\n",
       "      <td>0.0</td>\n",
       "      <td>292.608414</td>\n",
       "      <td>NaN</td>\n",
       "      <td>False</td>\n",
       "      <td>False</td>\n",
       "      <td>1015.4.8.ND0004</td>\n",
       "      <td>...</td>\n",
       "      <td>(4, 8)</td>\n",
       "      <td>ND0004</td>\n",
       "      <td>NaN</td>\n",
       "      <td>NaN</td>\n",
       "      <td>NaN</td>\n",
       "      <td>1.0</td>\n",
       "      <td>None</td>\n",
       "      <td>None</td>\n",
       "      <td>NaN</td>\n",
       "      <td>NaN</td>\n",
       "    </tr>\n",
       "    <tr>\n",
       "      <th>13869</th>\n",
       "      <td>1015.4.8.ND0004</td>\n",
       "      <td>3</td>\n",
       "      <td>2855</td>\n",
       "      <td>614</td>\n",
       "      <td>0.0</td>\n",
       "      <td>344.948512</td>\n",
       "      <td>NaN</td>\n",
       "      <td>False</td>\n",
       "      <td>False</td>\n",
       "      <td>1015.4.8.ND0004</td>\n",
       "      <td>...</td>\n",
       "      <td>(4, 8)</td>\n",
       "      <td>ND0004</td>\n",
       "      <td>NaN</td>\n",
       "      <td>NaN</td>\n",
       "      <td>NaN</td>\n",
       "      <td>1.0</td>\n",
       "      <td>None</td>\n",
       "      <td>None</td>\n",
       "      <td>NaN</td>\n",
       "      <td>NaN</td>\n",
       "    </tr>\n",
       "    <tr>\n",
       "      <th>13870</th>\n",
       "      <td>1015.4.8.ND0004</td>\n",
       "      <td>4</td>\n",
       "      <td>2855</td>\n",
       "      <td>607</td>\n",
       "      <td>0.0</td>\n",
       "      <td>911.727859</td>\n",
       "      <td>False</td>\n",
       "      <td>False</td>\n",
       "      <td>False</td>\n",
       "      <td>1015.4.8.ND0004</td>\n",
       "      <td>...</td>\n",
       "      <td>(4, 8)</td>\n",
       "      <td>ND0004</td>\n",
       "      <td>NaN</td>\n",
       "      <td>0.0</td>\n",
       "      <td>0.0</td>\n",
       "      <td>1.0</td>\n",
       "      <td>None</td>\n",
       "      <td>None</td>\n",
       "      <td>NaN</td>\n",
       "      <td>NaN</td>\n",
       "    </tr>\n",
       "    <tr>\n",
       "      <th>...</th>\n",
       "      <th>...</th>\n",
       "      <td>...</td>\n",
       "      <td>...</td>\n",
       "      <td>...</td>\n",
       "      <td>...</td>\n",
       "      <td>...</td>\n",
       "      <td>...</td>\n",
       "      <td>...</td>\n",
       "      <td>...</td>\n",
       "      <td>...</td>\n",
       "      <td>...</td>\n",
       "      <td>...</td>\n",
       "      <td>...</td>\n",
       "      <td>...</td>\n",
       "      <td>...</td>\n",
       "      <td>...</td>\n",
       "      <td>...</td>\n",
       "      <td>...</td>\n",
       "      <td>...</td>\n",
       "      <td>...</td>\n",
       "      <td>...</td>\n",
       "      <td>...</td>\n",
       "    </tr>\n",
       "    <tr>\n",
       "      <th rowspan=\"5\" valign=\"top\">994.4.8.ND0004</th>\n",
       "      <th>13861</th>\n",
       "      <td>994.4.8.ND0004</td>\n",
       "      <td>149</td>\n",
       "      <td>4308</td>\n",
       "      <td>3006</td>\n",
       "      <td>0.0</td>\n",
       "      <td>311.939834</td>\n",
       "      <td>NaN</td>\n",
       "      <td>False</td>\n",
       "      <td>False</td>\n",
       "      <td>994.4.8.ND0004</td>\n",
       "      <td>...</td>\n",
       "      <td>(4, 8)</td>\n",
       "      <td>ND0004</td>\n",
       "      <td>0.0</td>\n",
       "      <td>NaN</td>\n",
       "      <td>NaN</td>\n",
       "      <td>1.0</td>\n",
       "      <td>None</td>\n",
       "      <td>None</td>\n",
       "      <td>NaN</td>\n",
       "      <td>NaN</td>\n",
       "    </tr>\n",
       "    <tr>\n",
       "      <th>13862</th>\n",
       "      <td>994.4.8.ND0004</td>\n",
       "      <td>150</td>\n",
       "      <td>4303</td>\n",
       "      <td>3006</td>\n",
       "      <td>0.0</td>\n",
       "      <td>1598.697235</td>\n",
       "      <td>NaN</td>\n",
       "      <td>False</td>\n",
       "      <td>False</td>\n",
       "      <td>994.4.8.ND0004</td>\n",
       "      <td>...</td>\n",
       "      <td>(4, 8)</td>\n",
       "      <td>ND0004</td>\n",
       "      <td>0.0</td>\n",
       "      <td>NaN</td>\n",
       "      <td>NaN</td>\n",
       "      <td>1.0</td>\n",
       "      <td>None</td>\n",
       "      <td>None</td>\n",
       "      <td>NaN</td>\n",
       "      <td>NaN</td>\n",
       "    </tr>\n",
       "    <tr>\n",
       "      <th>13863</th>\n",
       "      <td>994.4.8.ND0004</td>\n",
       "      <td>151</td>\n",
       "      <td>4293</td>\n",
       "      <td>3045</td>\n",
       "      <td>NaN</td>\n",
       "      <td>NaN</td>\n",
       "      <td>NaN</td>\n",
       "      <td>False</td>\n",
       "      <td>False</td>\n",
       "      <td>994.4.8.ND0004</td>\n",
       "      <td>...</td>\n",
       "      <td>(4, 8)</td>\n",
       "      <td>ND0004</td>\n",
       "      <td>0.0</td>\n",
       "      <td>NaN</td>\n",
       "      <td>NaN</td>\n",
       "      <td>1.0</td>\n",
       "      <td>None</td>\n",
       "      <td>None</td>\n",
       "      <td>NaN</td>\n",
       "      <td>NaN</td>\n",
       "    </tr>\n",
       "    <tr>\n",
       "      <th>13864</th>\n",
       "      <td>994.4.8.ND0004</td>\n",
       "      <td>152</td>\n",
       "      <td>4299</td>\n",
       "      <td>3044</td>\n",
       "      <td>NaN</td>\n",
       "      <td>NaN</td>\n",
       "      <td>NaN</td>\n",
       "      <td>False</td>\n",
       "      <td>False</td>\n",
       "      <td>994.4.8.ND0004</td>\n",
       "      <td>...</td>\n",
       "      <td>(4, 8)</td>\n",
       "      <td>ND0004</td>\n",
       "      <td>0.0</td>\n",
       "      <td>NaN</td>\n",
       "      <td>NaN</td>\n",
       "      <td>1.0</td>\n",
       "      <td>None</td>\n",
       "      <td>None</td>\n",
       "      <td>NaN</td>\n",
       "      <td>NaN</td>\n",
       "    </tr>\n",
       "    <tr>\n",
       "      <th>13865</th>\n",
       "      <td>994.4.8.ND0004</td>\n",
       "      <td>153</td>\n",
       "      <td>4303</td>\n",
       "      <td>3003</td>\n",
       "      <td>0.0</td>\n",
       "      <td>339.584881</td>\n",
       "      <td>NaN</td>\n",
       "      <td>False</td>\n",
       "      <td>False</td>\n",
       "      <td>994.4.8.ND0004</td>\n",
       "      <td>...</td>\n",
       "      <td>(4, 8)</td>\n",
       "      <td>ND0004</td>\n",
       "      <td>0.0</td>\n",
       "      <td>NaN</td>\n",
       "      <td>NaN</td>\n",
       "      <td>1.0</td>\n",
       "      <td>None</td>\n",
       "      <td>None</td>\n",
       "      <td>NaN</td>\n",
       "      <td>NaN</td>\n",
       "    </tr>\n",
       "  </tbody>\n",
       "</table>\n",
       "<p>36725 rows × 26 columns</p>\n",
       "</div>"
      ],
      "text/plain": [
       "                                    ID    t     x     y  Mtb Area (µm)  \\\n",
       "ID                                                                       \n",
       "1015.4.8.ND0004 13866  1015.4.8.ND0004    0  2874   636            NaN   \n",
       "                13867  1015.4.8.ND0004    1  2871   599            0.0   \n",
       "                13868  1015.4.8.ND0004    2  2855   619            0.0   \n",
       "                13869  1015.4.8.ND0004    3  2855   614            0.0   \n",
       "                13870  1015.4.8.ND0004    4  2855   607            0.0   \n",
       "...                                ...  ...   ...   ...            ...   \n",
       "994.4.8.ND0004  13861   994.4.8.ND0004  149  4308  3006            0.0   \n",
       "                13862   994.4.8.ND0004  150  4303  3006            0.0   \n",
       "                13863   994.4.8.ND0004  151  4293  3045            NaN   \n",
       "                13864   994.4.8.ND0004  152  4299  3044            NaN   \n",
       "                13865   994.4.8.ND0004  153  4303  3003            0.0   \n",
       "\n",
       "                       Mphi Area (µm) Infection Status  \\\n",
       "ID                                                       \n",
       "1015.4.8.ND0004 13866             NaN              NaN   \n",
       "                13867      937.450939              NaN   \n",
       "                13868      292.608414              NaN   \n",
       "                13869      344.948512              NaN   \n",
       "                13870      911.727859            False   \n",
       "...                               ...              ...   \n",
       "994.4.8.ND0004  13861      311.939834              NaN   \n",
       "                13862     1598.697235              NaN   \n",
       "                13863             NaN              NaN   \n",
       "                13864             NaN              NaN   \n",
       "                13865      339.584881              NaN   \n",
       "\n",
       "                       Initial Infection Status  Final Infection Status  \\\n",
       "ID                                                                        \n",
       "1015.4.8.ND0004 13866                     False                   False   \n",
       "                13867                     False                   False   \n",
       "                13868                     False                   False   \n",
       "                13869                     False                   False   \n",
       "                13870                     False                   False   \n",
       "...                                         ...                     ...   \n",
       "994.4.8.ND0004  13861                     False                   False   \n",
       "                13862                     False                   False   \n",
       "                13863                     False                   False   \n",
       "                13864                     False                   False   \n",
       "                13865                     False                   False   \n",
       "\n",
       "                             Unique_ID  ... Acquisition ID Experiment ID  \\\n",
       "ID                                      ...                                \n",
       "1015.4.8.ND0004 13866  1015.4.8.ND0004  ...         (4, 8)        ND0004   \n",
       "                13867  1015.4.8.ND0004  ...         (4, 8)        ND0004   \n",
       "                13868  1015.4.8.ND0004  ...         (4, 8)        ND0004   \n",
       "                13869  1015.4.8.ND0004  ...         (4, 8)        ND0004   \n",
       "                13870  1015.4.8.ND0004  ...         (4, 8)        ND0004   \n",
       "...                                ...  ...            ...           ...   \n",
       "994.4.8.ND0004  13861   994.4.8.ND0004  ...         (4, 8)        ND0004   \n",
       "                13862   994.4.8.ND0004  ...         (4, 8)        ND0004   \n",
       "                13863   994.4.8.ND0004  ...         (4, 8)        ND0004   \n",
       "                13864   994.4.8.ND0004  ...         (4, 8)        ND0004   \n",
       "                13865   994.4.8.ND0004  ...         (4, 8)        ND0004   \n",
       "\n",
       "                      Mtb Area Processed (µm)  Time Model (hours)  \\\n",
       "ID                                                                  \n",
       "1015.4.8.ND0004 13866                     NaN                 NaN   \n",
       "                13867                     NaN                 NaN   \n",
       "                13868                     NaN                 NaN   \n",
       "                13869                     NaN                 NaN   \n",
       "                13870                     NaN                 0.0   \n",
       "...                                       ...                 ...   \n",
       "994.4.8.ND0004  13861                     0.0                 NaN   \n",
       "                13862                     0.0                 NaN   \n",
       "                13863                     0.0                 NaN   \n",
       "                13864                     0.0                 NaN   \n",
       "                13865                     0.0                 NaN   \n",
       "\n",
       "                       Mtb Area Model (µm)   r2 Doubling Amounts  \\\n",
       "ID                                                                 \n",
       "1015.4.8.ND0004 13866                  NaN  1.0             None   \n",
       "                13867                  NaN  1.0             None   \n",
       "                13868                  NaN  1.0             None   \n",
       "                13869                  NaN  1.0             None   \n",
       "                13870                  0.0  1.0             None   \n",
       "...                                    ...  ...              ...   \n",
       "994.4.8.ND0004  13861                  NaN  1.0             None   \n",
       "                13862                  NaN  1.0             None   \n",
       "                13863                  NaN  1.0             None   \n",
       "                13864                  NaN  1.0             None   \n",
       "                13865                  NaN  1.0             None   \n",
       "\n",
       "                      Doubling Times  mtb_origin  Edge Status  \n",
       "ID                                                             \n",
       "1015.4.8.ND0004 13866           None         NaN          NaN  \n",
       "                13867           None         NaN          NaN  \n",
       "                13868           None         NaN          NaN  \n",
       "                13869           None         NaN          NaN  \n",
       "                13870           None         NaN          NaN  \n",
       "...                              ...         ...          ...  \n",
       "994.4.8.ND0004  13861           None         NaN          NaN  \n",
       "                13862           None         NaN          NaN  \n",
       "                13863           None         NaN          NaN  \n",
       "                13864           None         NaN          NaN  \n",
       "                13865           None         NaN          NaN  \n",
       "\n",
       "[36725 rows x 26 columns]"
      ]
     },
     "execution_count": 233,
     "metadata": {},
     "output_type": "execute_result"
    }
   ],
   "source": [
    "df_new"
   ]
  },
  {
   "cell_type": "code",
   "execution_count": 235,
   "id": "076edd7d-cefc-46e9-a3b3-bd44a0baa1d2",
   "metadata": {},
   "outputs": [],
   "source": [
    "df_new.loc[       (df_new['mtb_origin'] == 'Growth') & \n",
    "                   (df_new['Edge Status'] != True), 'Edge Status'] = False"
   ]
  },
  {
   "cell_type": "markdown",
   "id": "40024290-4b1b-4437-b375-eecedeb1084b",
   "metadata": {},
   "source": [
    "# INTEGRATE"
   ]
  },
  {
   "cell_type": "code",
   "execution_count": 236,
   "id": "49f8c6e0-be8e-4429-8743-2735f2ad8267",
   "metadata": {},
   "outputs": [],
   "source": [
    "df = pd.read_pickle('/mnt/SYNO/macrohet_syno/results/dfs/sc_df_partialND4.pkl')"
   ]
  },
  {
   "cell_type": "code",
   "execution_count": 237,
   "id": "02fbd307-36b3-4fd9-9bbc-453639c2c731",
   "metadata": {},
   "outputs": [
    {
     "data": {
      "text/plain": [
       "Index(['ID', 'Time (hours)', 'Mtb Area (µm)', 'dMtb Area (µm)',\n",
       "       'Mphi Area (µm)', 'dMphi Area (µm)', 'Infection Status',\n",
       "       'Initial Infection Status', 'Final Infection Status', 'x', 'y', 'GFP',\n",
       "       'RFP', 'Eccentricity', 'MSD', 'Technical Replicate',\n",
       "       'Biological Replicate', 'Strain', 'Compound', 'Concentration',\n",
       "       'Cell ID', 'Acquisition ID', 'Experiment ID', 'Unique ID',\n",
       "       'Edge Status', 'Uptake', 'dMtb Area between frames (µm)',\n",
       "       'Mtb Area Processed (µm)', 'Time Model (hours)', 'Mtb Area Model (µm)',\n",
       "       'mtb_origin', 'Doubling Amounts', 'Doubling Times', 'r2', 'level_1',\n",
       "       't', 'Unique_ID', 'Frame'],\n",
       "      dtype='object')"
      ]
     },
     "execution_count": 237,
     "metadata": {},
     "output_type": "execute_result"
    }
   ],
   "source": [
    "df.keys()"
   ]
  },
  {
   "cell_type": "code",
   "execution_count": 238,
   "id": "bb7f5b47-640b-4cd0-baf9-0b5d9e77971b",
   "metadata": {},
   "outputs": [
    {
     "data": {
      "text/plain": [
       "(4, 8)"
      ]
     },
     "execution_count": 238,
     "metadata": {},
     "output_type": "execute_result"
    }
   ],
   "source": [
    "df_new['Acquisition ID'].iloc[0]"
   ]
  },
  {
   "cell_type": "code",
   "execution_count": 239,
   "id": "6a320b8d-9bb4-4b91-9ad9-e7b4f9458466",
   "metadata": {},
   "outputs": [
    {
     "data": {
      "text/plain": [
       "Index(['ID', 't', 'x', 'y', 'Mtb Area (µm)', 'Mphi Area (µm)',\n",
       "       'Infection Status', 'Initial Infection Status',\n",
       "       'Final Infection Status', 'Unique_ID', 'Strain', 'Compound',\n",
       "       'Concentration', 'Time (hours)', 'Frame', 'Cell ID', 'Acquisition ID',\n",
       "       'Experiment ID', 'Mtb Area Processed (µm)', 'Time Model (hours)',\n",
       "       'Mtb Area Model (µm)', 'r2', 'Doubling Amounts', 'Doubling Times',\n",
       "       'mtb_origin', 'Edge Status'],\n",
       "      dtype='object')"
      ]
     },
     "execution_count": 239,
     "metadata": {},
     "output_type": "execute_result"
    }
   ],
   "source": [
    "df_new.keys()"
   ]
  },
  {
   "cell_type": "code",
   "execution_count": 240,
   "id": "9dd49677-6d8d-48be-91ff-2ec647562838",
   "metadata": {},
   "outputs": [],
   "source": [
    "del df_new['ID']\n",
    "df_new = df_new.reset_index()"
   ]
  },
  {
   "cell_type": "code",
   "execution_count": 241,
   "id": "b2d03d3e-c859-4499-a714-fdc8d2c5997e",
   "metadata": {},
   "outputs": [
    {
     "data": {
      "text/html": [
       "<div>\n",
       "<style scoped>\n",
       "    .dataframe tbody tr th:only-of-type {\n",
       "        vertical-align: middle;\n",
       "    }\n",
       "\n",
       "    .dataframe tbody tr th {\n",
       "        vertical-align: top;\n",
       "    }\n",
       "\n",
       "    .dataframe thead th {\n",
       "        text-align: right;\n",
       "    }\n",
       "</style>\n",
       "<table border=\"1\" class=\"dataframe\">\n",
       "  <thead>\n",
       "    <tr style=\"text-align: right;\">\n",
       "      <th></th>\n",
       "      <th>ID</th>\n",
       "      <th>level_1</th>\n",
       "      <th>t</th>\n",
       "      <th>x</th>\n",
       "      <th>y</th>\n",
       "      <th>Mtb Area (µm)</th>\n",
       "      <th>Mphi Area (µm)</th>\n",
       "      <th>Infection Status</th>\n",
       "      <th>Initial Infection Status</th>\n",
       "      <th>Final Infection Status</th>\n",
       "      <th>...</th>\n",
       "      <th>Acquisition ID</th>\n",
       "      <th>Experiment ID</th>\n",
       "      <th>Mtb Area Processed (µm)</th>\n",
       "      <th>Time Model (hours)</th>\n",
       "      <th>Mtb Area Model (µm)</th>\n",
       "      <th>r2</th>\n",
       "      <th>Doubling Amounts</th>\n",
       "      <th>Doubling Times</th>\n",
       "      <th>mtb_origin</th>\n",
       "      <th>Edge Status</th>\n",
       "    </tr>\n",
       "  </thead>\n",
       "  <tbody>\n",
       "    <tr>\n",
       "      <th>0</th>\n",
       "      <td>1015.4.8.ND0004</td>\n",
       "      <td>13866</td>\n",
       "      <td>0</td>\n",
       "      <td>2874</td>\n",
       "      <td>636</td>\n",
       "      <td>NaN</td>\n",
       "      <td>NaN</td>\n",
       "      <td>NaN</td>\n",
       "      <td>False</td>\n",
       "      <td>False</td>\n",
       "      <td>...</td>\n",
       "      <td>(4, 8)</td>\n",
       "      <td>ND0004</td>\n",
       "      <td>NaN</td>\n",
       "      <td>NaN</td>\n",
       "      <td>NaN</td>\n",
       "      <td>1.0</td>\n",
       "      <td>None</td>\n",
       "      <td>None</td>\n",
       "      <td>NaN</td>\n",
       "      <td>NaN</td>\n",
       "    </tr>\n",
       "    <tr>\n",
       "      <th>1</th>\n",
       "      <td>1015.4.8.ND0004</td>\n",
       "      <td>13867</td>\n",
       "      <td>1</td>\n",
       "      <td>2871</td>\n",
       "      <td>599</td>\n",
       "      <td>0.0</td>\n",
       "      <td>937.450939</td>\n",
       "      <td>NaN</td>\n",
       "      <td>False</td>\n",
       "      <td>False</td>\n",
       "      <td>...</td>\n",
       "      <td>(4, 8)</td>\n",
       "      <td>ND0004</td>\n",
       "      <td>NaN</td>\n",
       "      <td>NaN</td>\n",
       "      <td>NaN</td>\n",
       "      <td>1.0</td>\n",
       "      <td>None</td>\n",
       "      <td>None</td>\n",
       "      <td>NaN</td>\n",
       "      <td>NaN</td>\n",
       "    </tr>\n",
       "    <tr>\n",
       "      <th>2</th>\n",
       "      <td>1015.4.8.ND0004</td>\n",
       "      <td>13868</td>\n",
       "      <td>2</td>\n",
       "      <td>2855</td>\n",
       "      <td>619</td>\n",
       "      <td>0.0</td>\n",
       "      <td>292.608414</td>\n",
       "      <td>NaN</td>\n",
       "      <td>False</td>\n",
       "      <td>False</td>\n",
       "      <td>...</td>\n",
       "      <td>(4, 8)</td>\n",
       "      <td>ND0004</td>\n",
       "      <td>NaN</td>\n",
       "      <td>NaN</td>\n",
       "      <td>NaN</td>\n",
       "      <td>1.0</td>\n",
       "      <td>None</td>\n",
       "      <td>None</td>\n",
       "      <td>NaN</td>\n",
       "      <td>NaN</td>\n",
       "    </tr>\n",
       "    <tr>\n",
       "      <th>3</th>\n",
       "      <td>1015.4.8.ND0004</td>\n",
       "      <td>13869</td>\n",
       "      <td>3</td>\n",
       "      <td>2855</td>\n",
       "      <td>614</td>\n",
       "      <td>0.0</td>\n",
       "      <td>344.948512</td>\n",
       "      <td>NaN</td>\n",
       "      <td>False</td>\n",
       "      <td>False</td>\n",
       "      <td>...</td>\n",
       "      <td>(4, 8)</td>\n",
       "      <td>ND0004</td>\n",
       "      <td>NaN</td>\n",
       "      <td>NaN</td>\n",
       "      <td>NaN</td>\n",
       "      <td>1.0</td>\n",
       "      <td>None</td>\n",
       "      <td>None</td>\n",
       "      <td>NaN</td>\n",
       "      <td>NaN</td>\n",
       "    </tr>\n",
       "    <tr>\n",
       "      <th>4</th>\n",
       "      <td>1015.4.8.ND0004</td>\n",
       "      <td>13870</td>\n",
       "      <td>4</td>\n",
       "      <td>2855</td>\n",
       "      <td>607</td>\n",
       "      <td>0.0</td>\n",
       "      <td>911.727859</td>\n",
       "      <td>False</td>\n",
       "      <td>False</td>\n",
       "      <td>False</td>\n",
       "      <td>...</td>\n",
       "      <td>(4, 8)</td>\n",
       "      <td>ND0004</td>\n",
       "      <td>NaN</td>\n",
       "      <td>0.0</td>\n",
       "      <td>0.0</td>\n",
       "      <td>1.0</td>\n",
       "      <td>None</td>\n",
       "      <td>None</td>\n",
       "      <td>NaN</td>\n",
       "      <td>NaN</td>\n",
       "    </tr>\n",
       "    <tr>\n",
       "      <th>...</th>\n",
       "      <td>...</td>\n",
       "      <td>...</td>\n",
       "      <td>...</td>\n",
       "      <td>...</td>\n",
       "      <td>...</td>\n",
       "      <td>...</td>\n",
       "      <td>...</td>\n",
       "      <td>...</td>\n",
       "      <td>...</td>\n",
       "      <td>...</td>\n",
       "      <td>...</td>\n",
       "      <td>...</td>\n",
       "      <td>...</td>\n",
       "      <td>...</td>\n",
       "      <td>...</td>\n",
       "      <td>...</td>\n",
       "      <td>...</td>\n",
       "      <td>...</td>\n",
       "      <td>...</td>\n",
       "      <td>...</td>\n",
       "      <td>...</td>\n",
       "    </tr>\n",
       "    <tr>\n",
       "      <th>36720</th>\n",
       "      <td>994.4.8.ND0004</td>\n",
       "      <td>13861</td>\n",
       "      <td>149</td>\n",
       "      <td>4308</td>\n",
       "      <td>3006</td>\n",
       "      <td>0.0</td>\n",
       "      <td>311.939834</td>\n",
       "      <td>NaN</td>\n",
       "      <td>False</td>\n",
       "      <td>False</td>\n",
       "      <td>...</td>\n",
       "      <td>(4, 8)</td>\n",
       "      <td>ND0004</td>\n",
       "      <td>0.0</td>\n",
       "      <td>NaN</td>\n",
       "      <td>NaN</td>\n",
       "      <td>1.0</td>\n",
       "      <td>None</td>\n",
       "      <td>None</td>\n",
       "      <td>NaN</td>\n",
       "      <td>NaN</td>\n",
       "    </tr>\n",
       "    <tr>\n",
       "      <th>36721</th>\n",
       "      <td>994.4.8.ND0004</td>\n",
       "      <td>13862</td>\n",
       "      <td>150</td>\n",
       "      <td>4303</td>\n",
       "      <td>3006</td>\n",
       "      <td>0.0</td>\n",
       "      <td>1598.697235</td>\n",
       "      <td>NaN</td>\n",
       "      <td>False</td>\n",
       "      <td>False</td>\n",
       "      <td>...</td>\n",
       "      <td>(4, 8)</td>\n",
       "      <td>ND0004</td>\n",
       "      <td>0.0</td>\n",
       "      <td>NaN</td>\n",
       "      <td>NaN</td>\n",
       "      <td>1.0</td>\n",
       "      <td>None</td>\n",
       "      <td>None</td>\n",
       "      <td>NaN</td>\n",
       "      <td>NaN</td>\n",
       "    </tr>\n",
       "    <tr>\n",
       "      <th>36722</th>\n",
       "      <td>994.4.8.ND0004</td>\n",
       "      <td>13863</td>\n",
       "      <td>151</td>\n",
       "      <td>4293</td>\n",
       "      <td>3045</td>\n",
       "      <td>NaN</td>\n",
       "      <td>NaN</td>\n",
       "      <td>NaN</td>\n",
       "      <td>False</td>\n",
       "      <td>False</td>\n",
       "      <td>...</td>\n",
       "      <td>(4, 8)</td>\n",
       "      <td>ND0004</td>\n",
       "      <td>0.0</td>\n",
       "      <td>NaN</td>\n",
       "      <td>NaN</td>\n",
       "      <td>1.0</td>\n",
       "      <td>None</td>\n",
       "      <td>None</td>\n",
       "      <td>NaN</td>\n",
       "      <td>NaN</td>\n",
       "    </tr>\n",
       "    <tr>\n",
       "      <th>36723</th>\n",
       "      <td>994.4.8.ND0004</td>\n",
       "      <td>13864</td>\n",
       "      <td>152</td>\n",
       "      <td>4299</td>\n",
       "      <td>3044</td>\n",
       "      <td>NaN</td>\n",
       "      <td>NaN</td>\n",
       "      <td>NaN</td>\n",
       "      <td>False</td>\n",
       "      <td>False</td>\n",
       "      <td>...</td>\n",
       "      <td>(4, 8)</td>\n",
       "      <td>ND0004</td>\n",
       "      <td>0.0</td>\n",
       "      <td>NaN</td>\n",
       "      <td>NaN</td>\n",
       "      <td>1.0</td>\n",
       "      <td>None</td>\n",
       "      <td>None</td>\n",
       "      <td>NaN</td>\n",
       "      <td>NaN</td>\n",
       "    </tr>\n",
       "    <tr>\n",
       "      <th>36724</th>\n",
       "      <td>994.4.8.ND0004</td>\n",
       "      <td>13865</td>\n",
       "      <td>153</td>\n",
       "      <td>4303</td>\n",
       "      <td>3003</td>\n",
       "      <td>0.0</td>\n",
       "      <td>339.584881</td>\n",
       "      <td>NaN</td>\n",
       "      <td>False</td>\n",
       "      <td>False</td>\n",
       "      <td>...</td>\n",
       "      <td>(4, 8)</td>\n",
       "      <td>ND0004</td>\n",
       "      <td>0.0</td>\n",
       "      <td>NaN</td>\n",
       "      <td>NaN</td>\n",
       "      <td>1.0</td>\n",
       "      <td>None</td>\n",
       "      <td>None</td>\n",
       "      <td>NaN</td>\n",
       "      <td>NaN</td>\n",
       "    </tr>\n",
       "  </tbody>\n",
       "</table>\n",
       "<p>36725 rows × 27 columns</p>\n",
       "</div>"
      ],
      "text/plain": [
       "                    ID  level_1    t     x     y  Mtb Area (µm)  \\\n",
       "0      1015.4.8.ND0004    13866    0  2874   636            NaN   \n",
       "1      1015.4.8.ND0004    13867    1  2871   599            0.0   \n",
       "2      1015.4.8.ND0004    13868    2  2855   619            0.0   \n",
       "3      1015.4.8.ND0004    13869    3  2855   614            0.0   \n",
       "4      1015.4.8.ND0004    13870    4  2855   607            0.0   \n",
       "...                ...      ...  ...   ...   ...            ...   \n",
       "36720   994.4.8.ND0004    13861  149  4308  3006            0.0   \n",
       "36721   994.4.8.ND0004    13862  150  4303  3006            0.0   \n",
       "36722   994.4.8.ND0004    13863  151  4293  3045            NaN   \n",
       "36723   994.4.8.ND0004    13864  152  4299  3044            NaN   \n",
       "36724   994.4.8.ND0004    13865  153  4303  3003            0.0   \n",
       "\n",
       "       Mphi Area (µm) Infection Status  Initial Infection Status  \\\n",
       "0                 NaN              NaN                     False   \n",
       "1          937.450939              NaN                     False   \n",
       "2          292.608414              NaN                     False   \n",
       "3          344.948512              NaN                     False   \n",
       "4          911.727859            False                     False   \n",
       "...               ...              ...                       ...   \n",
       "36720      311.939834              NaN                     False   \n",
       "36721     1598.697235              NaN                     False   \n",
       "36722             NaN              NaN                     False   \n",
       "36723             NaN              NaN                     False   \n",
       "36724      339.584881              NaN                     False   \n",
       "\n",
       "       Final Infection Status  ... Acquisition ID Experiment ID  \\\n",
       "0                       False  ...         (4, 8)        ND0004   \n",
       "1                       False  ...         (4, 8)        ND0004   \n",
       "2                       False  ...         (4, 8)        ND0004   \n",
       "3                       False  ...         (4, 8)        ND0004   \n",
       "4                       False  ...         (4, 8)        ND0004   \n",
       "...                       ...  ...            ...           ...   \n",
       "36720                   False  ...         (4, 8)        ND0004   \n",
       "36721                   False  ...         (4, 8)        ND0004   \n",
       "36722                   False  ...         (4, 8)        ND0004   \n",
       "36723                   False  ...         (4, 8)        ND0004   \n",
       "36724                   False  ...         (4, 8)        ND0004   \n",
       "\n",
       "      Mtb Area Processed (µm) Time Model (hours)  Mtb Area Model (µm)   r2  \\\n",
       "0                         NaN                NaN                  NaN  1.0   \n",
       "1                         NaN                NaN                  NaN  1.0   \n",
       "2                         NaN                NaN                  NaN  1.0   \n",
       "3                         NaN                NaN                  NaN  1.0   \n",
       "4                         NaN                0.0                  0.0  1.0   \n",
       "...                       ...                ...                  ...  ...   \n",
       "36720                     0.0                NaN                  NaN  1.0   \n",
       "36721                     0.0                NaN                  NaN  1.0   \n",
       "36722                     0.0                NaN                  NaN  1.0   \n",
       "36723                     0.0                NaN                  NaN  1.0   \n",
       "36724                     0.0                NaN                  NaN  1.0   \n",
       "\n",
       "       Doubling Amounts Doubling Times mtb_origin  Edge Status  \n",
       "0                  None           None        NaN          NaN  \n",
       "1                  None           None        NaN          NaN  \n",
       "2                  None           None        NaN          NaN  \n",
       "3                  None           None        NaN          NaN  \n",
       "4                  None           None        NaN          NaN  \n",
       "...                 ...            ...        ...          ...  \n",
       "36720              None           None        NaN          NaN  \n",
       "36721              None           None        NaN          NaN  \n",
       "36722              None           None        NaN          NaN  \n",
       "36723              None           None        NaN          NaN  \n",
       "36724              None           None        NaN          NaN  \n",
       "\n",
       "[36725 rows x 27 columns]"
      ]
     },
     "execution_count": 241,
     "metadata": {},
     "output_type": "execute_result"
    }
   ],
   "source": [
    "df_new"
   ]
  },
  {
   "cell_type": "code",
   "execution_count": 242,
   "id": "bbbcda54-724f-4aa8-94a9-1c821c67738a",
   "metadata": {},
   "outputs": [
    {
     "data": {
      "text/html": [
       "<div>\n",
       "<style scoped>\n",
       "    .dataframe tbody tr th:only-of-type {\n",
       "        vertical-align: middle;\n",
       "    }\n",
       "\n",
       "    .dataframe tbody tr th {\n",
       "        vertical-align: top;\n",
       "    }\n",
       "\n",
       "    .dataframe thead th {\n",
       "        text-align: right;\n",
       "    }\n",
       "</style>\n",
       "<table border=\"1\" class=\"dataframe\">\n",
       "  <thead>\n",
       "    <tr style=\"text-align: right;\">\n",
       "      <th></th>\n",
       "      <th>ID</th>\n",
       "      <th>Time (hours)</th>\n",
       "      <th>Mtb Area (µm)</th>\n",
       "      <th>dMtb Area (µm)</th>\n",
       "      <th>Mphi Area (µm)</th>\n",
       "      <th>dMphi Area (µm)</th>\n",
       "      <th>Infection Status</th>\n",
       "      <th>Initial Infection Status</th>\n",
       "      <th>Final Infection Status</th>\n",
       "      <th>x</th>\n",
       "      <th>...</th>\n",
       "      <th>Time Model (hours)</th>\n",
       "      <th>Mtb Area Model (µm)</th>\n",
       "      <th>mtb_origin</th>\n",
       "      <th>Doubling Amounts</th>\n",
       "      <th>Doubling Times</th>\n",
       "      <th>r2</th>\n",
       "      <th>level_1</th>\n",
       "      <th>t</th>\n",
       "      <th>Unique_ID</th>\n",
       "      <th>Frame</th>\n",
       "    </tr>\n",
       "  </thead>\n",
       "  <tbody>\n",
       "    <tr>\n",
       "      <th>0</th>\n",
       "      <td>1.3.2.ND0002</td>\n",
       "      <td>0.0</td>\n",
       "      <td>0.0</td>\n",
       "      <td>0.0</td>\n",
       "      <td>4649.351562</td>\n",
       "      <td>2080.574775</td>\n",
       "      <td>NaN</td>\n",
       "      <td>False</td>\n",
       "      <td>False</td>\n",
       "      <td>107.845200</td>\n",
       "      <td>...</td>\n",
       "      <td>NaN</td>\n",
       "      <td>NaN</td>\n",
       "      <td>None</td>\n",
       "      <td>None</td>\n",
       "      <td>None</td>\n",
       "      <td>1.0</td>\n",
       "      <td>NaN</td>\n",
       "      <td>NaN</td>\n",
       "      <td>NaN</td>\n",
       "      <td>NaN</td>\n",
       "    </tr>\n",
       "    <tr>\n",
       "      <th>1</th>\n",
       "      <td>1.3.2.ND0002</td>\n",
       "      <td>0.5</td>\n",
       "      <td>0.0</td>\n",
       "      <td>0.0</td>\n",
       "      <td>4973.001953</td>\n",
       "      <td>2080.574775</td>\n",
       "      <td>NaN</td>\n",
       "      <td>False</td>\n",
       "      <td>False</td>\n",
       "      <td>113.264671</td>\n",
       "      <td>...</td>\n",
       "      <td>NaN</td>\n",
       "      <td>NaN</td>\n",
       "      <td>None</td>\n",
       "      <td>None</td>\n",
       "      <td>None</td>\n",
       "      <td>1.0</td>\n",
       "      <td>NaN</td>\n",
       "      <td>NaN</td>\n",
       "      <td>NaN</td>\n",
       "      <td>NaN</td>\n",
       "    </tr>\n",
       "    <tr>\n",
       "      <th>2</th>\n",
       "      <td>1.3.2.ND0002</td>\n",
       "      <td>1.0</td>\n",
       "      <td>0.0</td>\n",
       "      <td>0.0</td>\n",
       "      <td>4687.857910</td>\n",
       "      <td>2080.574775</td>\n",
       "      <td>NaN</td>\n",
       "      <td>False</td>\n",
       "      <td>False</td>\n",
       "      <td>116.562256</td>\n",
       "      <td>...</td>\n",
       "      <td>NaN</td>\n",
       "      <td>NaN</td>\n",
       "      <td>None</td>\n",
       "      <td>None</td>\n",
       "      <td>None</td>\n",
       "      <td>1.0</td>\n",
       "      <td>NaN</td>\n",
       "      <td>NaN</td>\n",
       "      <td>NaN</td>\n",
       "      <td>NaN</td>\n",
       "    </tr>\n",
       "    <tr>\n",
       "      <th>3</th>\n",
       "      <td>1.3.2.ND0002</td>\n",
       "      <td>1.5</td>\n",
       "      <td>0.0</td>\n",
       "      <td>0.0</td>\n",
       "      <td>4209.064453</td>\n",
       "      <td>2080.574775</td>\n",
       "      <td>NaN</td>\n",
       "      <td>False</td>\n",
       "      <td>False</td>\n",
       "      <td>111.890106</td>\n",
       "      <td>...</td>\n",
       "      <td>NaN</td>\n",
       "      <td>NaN</td>\n",
       "      <td>None</td>\n",
       "      <td>None</td>\n",
       "      <td>None</td>\n",
       "      <td>1.0</td>\n",
       "      <td>NaN</td>\n",
       "      <td>NaN</td>\n",
       "      <td>NaN</td>\n",
       "      <td>NaN</td>\n",
       "    </tr>\n",
       "    <tr>\n",
       "      <th>4</th>\n",
       "      <td>1.3.2.ND0002</td>\n",
       "      <td>2.0</td>\n",
       "      <td>0.0</td>\n",
       "      <td>0.0</td>\n",
       "      <td>4061.855225</td>\n",
       "      <td>2080.574775</td>\n",
       "      <td>False</td>\n",
       "      <td>False</td>\n",
       "      <td>False</td>\n",
       "      <td>114.113556</td>\n",
       "      <td>...</td>\n",
       "      <td>0.0</td>\n",
       "      <td>0.0</td>\n",
       "      <td>None</td>\n",
       "      <td>None</td>\n",
       "      <td>None</td>\n",
       "      <td>1.0</td>\n",
       "      <td>NaN</td>\n",
       "      <td>NaN</td>\n",
       "      <td>NaN</td>\n",
       "      <td>NaN</td>\n",
       "    </tr>\n",
       "    <tr>\n",
       "      <th>...</th>\n",
       "      <td>...</td>\n",
       "      <td>...</td>\n",
       "      <td>...</td>\n",
       "      <td>...</td>\n",
       "      <td>...</td>\n",
       "      <td>...</td>\n",
       "      <td>...</td>\n",
       "      <td>...</td>\n",
       "      <td>...</td>\n",
       "      <td>...</td>\n",
       "      <td>...</td>\n",
       "      <td>...</td>\n",
       "      <td>...</td>\n",
       "      <td>...</td>\n",
       "      <td>...</td>\n",
       "      <td>...</td>\n",
       "      <td>...</td>\n",
       "      <td>...</td>\n",
       "      <td>...</td>\n",
       "      <td>...</td>\n",
       "      <td>...</td>\n",
       "    </tr>\n",
       "    <tr>\n",
       "      <th>1173424</th>\n",
       "      <td>994.4.8.ND0004</td>\n",
       "      <td>74.5</td>\n",
       "      <td>0.0</td>\n",
       "      <td>NaN</td>\n",
       "      <td>311.939834</td>\n",
       "      <td>NaN</td>\n",
       "      <td>NaN</td>\n",
       "      <td>False</td>\n",
       "      <td>False</td>\n",
       "      <td>4308.000000</td>\n",
       "      <td>...</td>\n",
       "      <td>NaN</td>\n",
       "      <td>NaN</td>\n",
       "      <td>NaN</td>\n",
       "      <td>None</td>\n",
       "      <td>None</td>\n",
       "      <td>1.0</td>\n",
       "      <td>13861.0</td>\n",
       "      <td>149.0</td>\n",
       "      <td>994.4.8.ND0004</td>\n",
       "      <td>149.0</td>\n",
       "    </tr>\n",
       "    <tr>\n",
       "      <th>1173425</th>\n",
       "      <td>994.4.8.ND0004</td>\n",
       "      <td>75.0</td>\n",
       "      <td>0.0</td>\n",
       "      <td>NaN</td>\n",
       "      <td>1598.697235</td>\n",
       "      <td>NaN</td>\n",
       "      <td>NaN</td>\n",
       "      <td>False</td>\n",
       "      <td>False</td>\n",
       "      <td>4303.000000</td>\n",
       "      <td>...</td>\n",
       "      <td>NaN</td>\n",
       "      <td>NaN</td>\n",
       "      <td>NaN</td>\n",
       "      <td>None</td>\n",
       "      <td>None</td>\n",
       "      <td>1.0</td>\n",
       "      <td>13862.0</td>\n",
       "      <td>150.0</td>\n",
       "      <td>994.4.8.ND0004</td>\n",
       "      <td>150.0</td>\n",
       "    </tr>\n",
       "    <tr>\n",
       "      <th>1173426</th>\n",
       "      <td>994.4.8.ND0004</td>\n",
       "      <td>75.5</td>\n",
       "      <td>NaN</td>\n",
       "      <td>NaN</td>\n",
       "      <td>NaN</td>\n",
       "      <td>NaN</td>\n",
       "      <td>NaN</td>\n",
       "      <td>False</td>\n",
       "      <td>False</td>\n",
       "      <td>4293.000000</td>\n",
       "      <td>...</td>\n",
       "      <td>NaN</td>\n",
       "      <td>NaN</td>\n",
       "      <td>NaN</td>\n",
       "      <td>None</td>\n",
       "      <td>None</td>\n",
       "      <td>1.0</td>\n",
       "      <td>13863.0</td>\n",
       "      <td>151.0</td>\n",
       "      <td>994.4.8.ND0004</td>\n",
       "      <td>151.0</td>\n",
       "    </tr>\n",
       "    <tr>\n",
       "      <th>1173427</th>\n",
       "      <td>994.4.8.ND0004</td>\n",
       "      <td>76.0</td>\n",
       "      <td>NaN</td>\n",
       "      <td>NaN</td>\n",
       "      <td>NaN</td>\n",
       "      <td>NaN</td>\n",
       "      <td>NaN</td>\n",
       "      <td>False</td>\n",
       "      <td>False</td>\n",
       "      <td>4299.000000</td>\n",
       "      <td>...</td>\n",
       "      <td>NaN</td>\n",
       "      <td>NaN</td>\n",
       "      <td>NaN</td>\n",
       "      <td>None</td>\n",
       "      <td>None</td>\n",
       "      <td>1.0</td>\n",
       "      <td>13864.0</td>\n",
       "      <td>152.0</td>\n",
       "      <td>994.4.8.ND0004</td>\n",
       "      <td>152.0</td>\n",
       "    </tr>\n",
       "    <tr>\n",
       "      <th>1173428</th>\n",
       "      <td>994.4.8.ND0004</td>\n",
       "      <td>76.5</td>\n",
       "      <td>0.0</td>\n",
       "      <td>NaN</td>\n",
       "      <td>339.584881</td>\n",
       "      <td>NaN</td>\n",
       "      <td>NaN</td>\n",
       "      <td>False</td>\n",
       "      <td>False</td>\n",
       "      <td>4303.000000</td>\n",
       "      <td>...</td>\n",
       "      <td>NaN</td>\n",
       "      <td>NaN</td>\n",
       "      <td>NaN</td>\n",
       "      <td>None</td>\n",
       "      <td>None</td>\n",
       "      <td>1.0</td>\n",
       "      <td>13865.0</td>\n",
       "      <td>153.0</td>\n",
       "      <td>994.4.8.ND0004</td>\n",
       "      <td>153.0</td>\n",
       "    </tr>\n",
       "  </tbody>\n",
       "</table>\n",
       "<p>1173429 rows × 38 columns</p>\n",
       "</div>"
      ],
      "text/plain": [
       "                     ID  Time (hours)  Mtb Area (µm)  dMtb Area (µm)  \\\n",
       "0          1.3.2.ND0002           0.0            0.0             0.0   \n",
       "1          1.3.2.ND0002           0.5            0.0             0.0   \n",
       "2          1.3.2.ND0002           1.0            0.0             0.0   \n",
       "3          1.3.2.ND0002           1.5            0.0             0.0   \n",
       "4          1.3.2.ND0002           2.0            0.0             0.0   \n",
       "...                 ...           ...            ...             ...   \n",
       "1173424  994.4.8.ND0004          74.5            0.0             NaN   \n",
       "1173425  994.4.8.ND0004          75.0            0.0             NaN   \n",
       "1173426  994.4.8.ND0004          75.5            NaN             NaN   \n",
       "1173427  994.4.8.ND0004          76.0            NaN             NaN   \n",
       "1173428  994.4.8.ND0004          76.5            0.0             NaN   \n",
       "\n",
       "         Mphi Area (µm)  dMphi Area (µm) Infection Status  \\\n",
       "0           4649.351562      2080.574775              NaN   \n",
       "1           4973.001953      2080.574775              NaN   \n",
       "2           4687.857910      2080.574775              NaN   \n",
       "3           4209.064453      2080.574775              NaN   \n",
       "4           4061.855225      2080.574775            False   \n",
       "...                 ...              ...              ...   \n",
       "1173424      311.939834              NaN              NaN   \n",
       "1173425     1598.697235              NaN              NaN   \n",
       "1173426             NaN              NaN              NaN   \n",
       "1173427             NaN              NaN              NaN   \n",
       "1173428      339.584881              NaN              NaN   \n",
       "\n",
       "         Initial Infection Status  Final Infection Status            x  ...  \\\n",
       "0                           False                   False   107.845200  ...   \n",
       "1                           False                   False   113.264671  ...   \n",
       "2                           False                   False   116.562256  ...   \n",
       "3                           False                   False   111.890106  ...   \n",
       "4                           False                   False   114.113556  ...   \n",
       "...                           ...                     ...          ...  ...   \n",
       "1173424                     False                   False  4308.000000  ...   \n",
       "1173425                     False                   False  4303.000000  ...   \n",
       "1173426                     False                   False  4293.000000  ...   \n",
       "1173427                     False                   False  4299.000000  ...   \n",
       "1173428                     False                   False  4303.000000  ...   \n",
       "\n",
       "         Time Model (hours)  Mtb Area Model (µm)  mtb_origin  \\\n",
       "0                       NaN                  NaN        None   \n",
       "1                       NaN                  NaN        None   \n",
       "2                       NaN                  NaN        None   \n",
       "3                       NaN                  NaN        None   \n",
       "4                       0.0                  0.0        None   \n",
       "...                     ...                  ...         ...   \n",
       "1173424                 NaN                  NaN         NaN   \n",
       "1173425                 NaN                  NaN         NaN   \n",
       "1173426                 NaN                  NaN         NaN   \n",
       "1173427                 NaN                  NaN         NaN   \n",
       "1173428                 NaN                  NaN         NaN   \n",
       "\n",
       "         Doubling Amounts  Doubling Times   r2  level_1      t  \\\n",
       "0                    None            None  1.0      NaN    NaN   \n",
       "1                    None            None  1.0      NaN    NaN   \n",
       "2                    None            None  1.0      NaN    NaN   \n",
       "3                    None            None  1.0      NaN    NaN   \n",
       "4                    None            None  1.0      NaN    NaN   \n",
       "...                   ...             ...  ...      ...    ...   \n",
       "1173424              None            None  1.0  13861.0  149.0   \n",
       "1173425              None            None  1.0  13862.0  150.0   \n",
       "1173426              None            None  1.0  13863.0  151.0   \n",
       "1173427              None            None  1.0  13864.0  152.0   \n",
       "1173428              None            None  1.0  13865.0  153.0   \n",
       "\n",
       "              Unique_ID  Frame  \n",
       "0                   NaN    NaN  \n",
       "1                   NaN    NaN  \n",
       "2                   NaN    NaN  \n",
       "3                   NaN    NaN  \n",
       "4                   NaN    NaN  \n",
       "...                 ...    ...  \n",
       "1173424  994.4.8.ND0004  149.0  \n",
       "1173425  994.4.8.ND0004  150.0  \n",
       "1173426  994.4.8.ND0004  151.0  \n",
       "1173427  994.4.8.ND0004  152.0  \n",
       "1173428  994.4.8.ND0004  153.0  \n",
       "\n",
       "[1173429 rows x 38 columns]"
      ]
     },
     "execution_count": 242,
     "metadata": {},
     "output_type": "execute_result"
    }
   ],
   "source": [
    "df"
   ]
  },
  {
   "cell_type": "code",
   "execution_count": 243,
   "id": "597d45ed-7d7c-48ea-aaee-82db8a8298e3",
   "metadata": {},
   "outputs": [],
   "source": [
    "df = pd.concat([df, df_new], ignore_index=True)\n"
   ]
  },
  {
   "cell_type": "code",
   "execution_count": 244,
   "id": "30acc178-1206-4575-8c24-40a949116ae5",
   "metadata": {},
   "outputs": [
    {
     "data": {
      "text/html": [
       "<div>\n",
       "<style scoped>\n",
       "    .dataframe tbody tr th:only-of-type {\n",
       "        vertical-align: middle;\n",
       "    }\n",
       "\n",
       "    .dataframe tbody tr th {\n",
       "        vertical-align: top;\n",
       "    }\n",
       "\n",
       "    .dataframe thead th {\n",
       "        text-align: right;\n",
       "    }\n",
       "</style>\n",
       "<table border=\"1\" class=\"dataframe\">\n",
       "  <thead>\n",
       "    <tr style=\"text-align: right;\">\n",
       "      <th></th>\n",
       "      <th>ID</th>\n",
       "      <th>Time (hours)</th>\n",
       "      <th>Mtb Area (µm)</th>\n",
       "      <th>dMtb Area (µm)</th>\n",
       "      <th>Mphi Area (µm)</th>\n",
       "      <th>dMphi Area (µm)</th>\n",
       "      <th>Infection Status</th>\n",
       "      <th>Initial Infection Status</th>\n",
       "      <th>Final Infection Status</th>\n",
       "      <th>x</th>\n",
       "      <th>...</th>\n",
       "      <th>Time Model (hours)</th>\n",
       "      <th>Mtb Area Model (µm)</th>\n",
       "      <th>mtb_origin</th>\n",
       "      <th>Doubling Amounts</th>\n",
       "      <th>Doubling Times</th>\n",
       "      <th>r2</th>\n",
       "      <th>level_1</th>\n",
       "      <th>t</th>\n",
       "      <th>Unique_ID</th>\n",
       "      <th>Frame</th>\n",
       "    </tr>\n",
       "  </thead>\n",
       "  <tbody>\n",
       "    <tr>\n",
       "      <th>0</th>\n",
       "      <td>1.3.2.ND0002</td>\n",
       "      <td>0.0</td>\n",
       "      <td>0.0</td>\n",
       "      <td>0.0</td>\n",
       "      <td>4649.351562</td>\n",
       "      <td>2080.574775</td>\n",
       "      <td>NaN</td>\n",
       "      <td>False</td>\n",
       "      <td>False</td>\n",
       "      <td>107.845200</td>\n",
       "      <td>...</td>\n",
       "      <td>NaN</td>\n",
       "      <td>NaN</td>\n",
       "      <td>None</td>\n",
       "      <td>None</td>\n",
       "      <td>None</td>\n",
       "      <td>1.0</td>\n",
       "      <td>NaN</td>\n",
       "      <td>NaN</td>\n",
       "      <td>NaN</td>\n",
       "      <td>NaN</td>\n",
       "    </tr>\n",
       "    <tr>\n",
       "      <th>1</th>\n",
       "      <td>1.3.2.ND0002</td>\n",
       "      <td>0.5</td>\n",
       "      <td>0.0</td>\n",
       "      <td>0.0</td>\n",
       "      <td>4973.001953</td>\n",
       "      <td>2080.574775</td>\n",
       "      <td>NaN</td>\n",
       "      <td>False</td>\n",
       "      <td>False</td>\n",
       "      <td>113.264671</td>\n",
       "      <td>...</td>\n",
       "      <td>NaN</td>\n",
       "      <td>NaN</td>\n",
       "      <td>None</td>\n",
       "      <td>None</td>\n",
       "      <td>None</td>\n",
       "      <td>1.0</td>\n",
       "      <td>NaN</td>\n",
       "      <td>NaN</td>\n",
       "      <td>NaN</td>\n",
       "      <td>NaN</td>\n",
       "    </tr>\n",
       "    <tr>\n",
       "      <th>2</th>\n",
       "      <td>1.3.2.ND0002</td>\n",
       "      <td>1.0</td>\n",
       "      <td>0.0</td>\n",
       "      <td>0.0</td>\n",
       "      <td>4687.857910</td>\n",
       "      <td>2080.574775</td>\n",
       "      <td>NaN</td>\n",
       "      <td>False</td>\n",
       "      <td>False</td>\n",
       "      <td>116.562256</td>\n",
       "      <td>...</td>\n",
       "      <td>NaN</td>\n",
       "      <td>NaN</td>\n",
       "      <td>None</td>\n",
       "      <td>None</td>\n",
       "      <td>None</td>\n",
       "      <td>1.0</td>\n",
       "      <td>NaN</td>\n",
       "      <td>NaN</td>\n",
       "      <td>NaN</td>\n",
       "      <td>NaN</td>\n",
       "    </tr>\n",
       "    <tr>\n",
       "      <th>3</th>\n",
       "      <td>1.3.2.ND0002</td>\n",
       "      <td>1.5</td>\n",
       "      <td>0.0</td>\n",
       "      <td>0.0</td>\n",
       "      <td>4209.064453</td>\n",
       "      <td>2080.574775</td>\n",
       "      <td>NaN</td>\n",
       "      <td>False</td>\n",
       "      <td>False</td>\n",
       "      <td>111.890106</td>\n",
       "      <td>...</td>\n",
       "      <td>NaN</td>\n",
       "      <td>NaN</td>\n",
       "      <td>None</td>\n",
       "      <td>None</td>\n",
       "      <td>None</td>\n",
       "      <td>1.0</td>\n",
       "      <td>NaN</td>\n",
       "      <td>NaN</td>\n",
       "      <td>NaN</td>\n",
       "      <td>NaN</td>\n",
       "    </tr>\n",
       "    <tr>\n",
       "      <th>4</th>\n",
       "      <td>1.3.2.ND0002</td>\n",
       "      <td>2.0</td>\n",
       "      <td>0.0</td>\n",
       "      <td>0.0</td>\n",
       "      <td>4061.855225</td>\n",
       "      <td>2080.574775</td>\n",
       "      <td>False</td>\n",
       "      <td>False</td>\n",
       "      <td>False</td>\n",
       "      <td>114.113556</td>\n",
       "      <td>...</td>\n",
       "      <td>0.0</td>\n",
       "      <td>0.0</td>\n",
       "      <td>None</td>\n",
       "      <td>None</td>\n",
       "      <td>None</td>\n",
       "      <td>1.0</td>\n",
       "      <td>NaN</td>\n",
       "      <td>NaN</td>\n",
       "      <td>NaN</td>\n",
       "      <td>NaN</td>\n",
       "    </tr>\n",
       "    <tr>\n",
       "      <th>...</th>\n",
       "      <td>...</td>\n",
       "      <td>...</td>\n",
       "      <td>...</td>\n",
       "      <td>...</td>\n",
       "      <td>...</td>\n",
       "      <td>...</td>\n",
       "      <td>...</td>\n",
       "      <td>...</td>\n",
       "      <td>...</td>\n",
       "      <td>...</td>\n",
       "      <td>...</td>\n",
       "      <td>...</td>\n",
       "      <td>...</td>\n",
       "      <td>...</td>\n",
       "      <td>...</td>\n",
       "      <td>...</td>\n",
       "      <td>...</td>\n",
       "      <td>...</td>\n",
       "      <td>...</td>\n",
       "      <td>...</td>\n",
       "      <td>...</td>\n",
       "    </tr>\n",
       "    <tr>\n",
       "      <th>1210149</th>\n",
       "      <td>994.4.8.ND0004</td>\n",
       "      <td>74.5</td>\n",
       "      <td>0.0</td>\n",
       "      <td>NaN</td>\n",
       "      <td>311.939834</td>\n",
       "      <td>NaN</td>\n",
       "      <td>NaN</td>\n",
       "      <td>False</td>\n",
       "      <td>False</td>\n",
       "      <td>4308.000000</td>\n",
       "      <td>...</td>\n",
       "      <td>NaN</td>\n",
       "      <td>NaN</td>\n",
       "      <td>NaN</td>\n",
       "      <td>None</td>\n",
       "      <td>None</td>\n",
       "      <td>1.0</td>\n",
       "      <td>13861.0</td>\n",
       "      <td>149.0</td>\n",
       "      <td>994.4.8.ND0004</td>\n",
       "      <td>149.0</td>\n",
       "    </tr>\n",
       "    <tr>\n",
       "      <th>1210150</th>\n",
       "      <td>994.4.8.ND0004</td>\n",
       "      <td>75.0</td>\n",
       "      <td>0.0</td>\n",
       "      <td>NaN</td>\n",
       "      <td>1598.697235</td>\n",
       "      <td>NaN</td>\n",
       "      <td>NaN</td>\n",
       "      <td>False</td>\n",
       "      <td>False</td>\n",
       "      <td>4303.000000</td>\n",
       "      <td>...</td>\n",
       "      <td>NaN</td>\n",
       "      <td>NaN</td>\n",
       "      <td>NaN</td>\n",
       "      <td>None</td>\n",
       "      <td>None</td>\n",
       "      <td>1.0</td>\n",
       "      <td>13862.0</td>\n",
       "      <td>150.0</td>\n",
       "      <td>994.4.8.ND0004</td>\n",
       "      <td>150.0</td>\n",
       "    </tr>\n",
       "    <tr>\n",
       "      <th>1210151</th>\n",
       "      <td>994.4.8.ND0004</td>\n",
       "      <td>75.5</td>\n",
       "      <td>NaN</td>\n",
       "      <td>NaN</td>\n",
       "      <td>NaN</td>\n",
       "      <td>NaN</td>\n",
       "      <td>NaN</td>\n",
       "      <td>False</td>\n",
       "      <td>False</td>\n",
       "      <td>4293.000000</td>\n",
       "      <td>...</td>\n",
       "      <td>NaN</td>\n",
       "      <td>NaN</td>\n",
       "      <td>NaN</td>\n",
       "      <td>None</td>\n",
       "      <td>None</td>\n",
       "      <td>1.0</td>\n",
       "      <td>13863.0</td>\n",
       "      <td>151.0</td>\n",
       "      <td>994.4.8.ND0004</td>\n",
       "      <td>151.0</td>\n",
       "    </tr>\n",
       "    <tr>\n",
       "      <th>1210152</th>\n",
       "      <td>994.4.8.ND0004</td>\n",
       "      <td>76.0</td>\n",
       "      <td>NaN</td>\n",
       "      <td>NaN</td>\n",
       "      <td>NaN</td>\n",
       "      <td>NaN</td>\n",
       "      <td>NaN</td>\n",
       "      <td>False</td>\n",
       "      <td>False</td>\n",
       "      <td>4299.000000</td>\n",
       "      <td>...</td>\n",
       "      <td>NaN</td>\n",
       "      <td>NaN</td>\n",
       "      <td>NaN</td>\n",
       "      <td>None</td>\n",
       "      <td>None</td>\n",
       "      <td>1.0</td>\n",
       "      <td>13864.0</td>\n",
       "      <td>152.0</td>\n",
       "      <td>994.4.8.ND0004</td>\n",
       "      <td>152.0</td>\n",
       "    </tr>\n",
       "    <tr>\n",
       "      <th>1210153</th>\n",
       "      <td>994.4.8.ND0004</td>\n",
       "      <td>76.5</td>\n",
       "      <td>0.0</td>\n",
       "      <td>NaN</td>\n",
       "      <td>339.584881</td>\n",
       "      <td>NaN</td>\n",
       "      <td>NaN</td>\n",
       "      <td>False</td>\n",
       "      <td>False</td>\n",
       "      <td>4303.000000</td>\n",
       "      <td>...</td>\n",
       "      <td>NaN</td>\n",
       "      <td>NaN</td>\n",
       "      <td>NaN</td>\n",
       "      <td>None</td>\n",
       "      <td>None</td>\n",
       "      <td>1.0</td>\n",
       "      <td>13865.0</td>\n",
       "      <td>153.0</td>\n",
       "      <td>994.4.8.ND0004</td>\n",
       "      <td>153.0</td>\n",
       "    </tr>\n",
       "  </tbody>\n",
       "</table>\n",
       "<p>1210154 rows × 38 columns</p>\n",
       "</div>"
      ],
      "text/plain": [
       "                     ID  Time (hours)  Mtb Area (µm)  dMtb Area (µm)  \\\n",
       "0          1.3.2.ND0002           0.0            0.0             0.0   \n",
       "1          1.3.2.ND0002           0.5            0.0             0.0   \n",
       "2          1.3.2.ND0002           1.0            0.0             0.0   \n",
       "3          1.3.2.ND0002           1.5            0.0             0.0   \n",
       "4          1.3.2.ND0002           2.0            0.0             0.0   \n",
       "...                 ...           ...            ...             ...   \n",
       "1210149  994.4.8.ND0004          74.5            0.0             NaN   \n",
       "1210150  994.4.8.ND0004          75.0            0.0             NaN   \n",
       "1210151  994.4.8.ND0004          75.5            NaN             NaN   \n",
       "1210152  994.4.8.ND0004          76.0            NaN             NaN   \n",
       "1210153  994.4.8.ND0004          76.5            0.0             NaN   \n",
       "\n",
       "         Mphi Area (µm)  dMphi Area (µm) Infection Status  \\\n",
       "0           4649.351562      2080.574775              NaN   \n",
       "1           4973.001953      2080.574775              NaN   \n",
       "2           4687.857910      2080.574775              NaN   \n",
       "3           4209.064453      2080.574775              NaN   \n",
       "4           4061.855225      2080.574775            False   \n",
       "...                 ...              ...              ...   \n",
       "1210149      311.939834              NaN              NaN   \n",
       "1210150     1598.697235              NaN              NaN   \n",
       "1210151             NaN              NaN              NaN   \n",
       "1210152             NaN              NaN              NaN   \n",
       "1210153      339.584881              NaN              NaN   \n",
       "\n",
       "         Initial Infection Status  Final Infection Status            x  ...  \\\n",
       "0                           False                   False   107.845200  ...   \n",
       "1                           False                   False   113.264671  ...   \n",
       "2                           False                   False   116.562256  ...   \n",
       "3                           False                   False   111.890106  ...   \n",
       "4                           False                   False   114.113556  ...   \n",
       "...                           ...                     ...          ...  ...   \n",
       "1210149                     False                   False  4308.000000  ...   \n",
       "1210150                     False                   False  4303.000000  ...   \n",
       "1210151                     False                   False  4293.000000  ...   \n",
       "1210152                     False                   False  4299.000000  ...   \n",
       "1210153                     False                   False  4303.000000  ...   \n",
       "\n",
       "         Time Model (hours)  Mtb Area Model (µm)  mtb_origin  \\\n",
       "0                       NaN                  NaN        None   \n",
       "1                       NaN                  NaN        None   \n",
       "2                       NaN                  NaN        None   \n",
       "3                       NaN                  NaN        None   \n",
       "4                       0.0                  0.0        None   \n",
       "...                     ...                  ...         ...   \n",
       "1210149                 NaN                  NaN         NaN   \n",
       "1210150                 NaN                  NaN         NaN   \n",
       "1210151                 NaN                  NaN         NaN   \n",
       "1210152                 NaN                  NaN         NaN   \n",
       "1210153                 NaN                  NaN         NaN   \n",
       "\n",
       "         Doubling Amounts  Doubling Times   r2  level_1      t  \\\n",
       "0                    None            None  1.0      NaN    NaN   \n",
       "1                    None            None  1.0      NaN    NaN   \n",
       "2                    None            None  1.0      NaN    NaN   \n",
       "3                    None            None  1.0      NaN    NaN   \n",
       "4                    None            None  1.0      NaN    NaN   \n",
       "...                   ...             ...  ...      ...    ...   \n",
       "1210149              None            None  1.0  13861.0  149.0   \n",
       "1210150              None            None  1.0  13862.0  150.0   \n",
       "1210151              None            None  1.0  13863.0  151.0   \n",
       "1210152              None            None  1.0  13864.0  152.0   \n",
       "1210153              None            None  1.0  13865.0  153.0   \n",
       "\n",
       "              Unique_ID  Frame  \n",
       "0                   NaN    NaN  \n",
       "1                   NaN    NaN  \n",
       "2                   NaN    NaN  \n",
       "3                   NaN    NaN  \n",
       "4                   NaN    NaN  \n",
       "...                 ...    ...  \n",
       "1210149  994.4.8.ND0004  149.0  \n",
       "1210150  994.4.8.ND0004  150.0  \n",
       "1210151  994.4.8.ND0004  151.0  \n",
       "1210152  994.4.8.ND0004  152.0  \n",
       "1210153  994.4.8.ND0004  153.0  \n",
       "\n",
       "[1210154 rows x 38 columns]"
      ]
     },
     "execution_count": 244,
     "metadata": {},
     "output_type": "execute_result"
    }
   ],
   "source": [
    "df"
   ]
  },
  {
   "cell_type": "code",
   "execution_count": 245,
   "id": "a10298ea-b0a4-473f-ac33-ff7ad3574047",
   "metadata": {},
   "outputs": [],
   "source": [
    "df.to_pickle('/mnt/SYNO/macrohet_syno/results/dfs/sc_df_partialND4.pkl')"
   ]
  },
  {
   "cell_type": "markdown",
   "id": "18f08991-6f40-4e80-953a-82968129c02e",
   "metadata": {},
   "source": [
    "### Inspect individual graphs"
   ]
  },
  {
   "cell_type": "code",
   "execution_count": 143,
   "id": "1d3a4cba-62c6-4711-aa81-4e5539384d4a",
   "metadata": {},
   "outputs": [],
   "source": [
    "dts = df[\n",
    "\n",
    "# (df['Final Infection Status'] == True)\n",
    "  (df['r2'] >= 0.7)\n",
    "& (df['mtb_origin'] == 'Growth')\n",
    "].sort_values('r2', ascending = False).drop_duplicates('ID').explode('Doubling Times')['Doubling Times']"
   ]
  },
  {
   "cell_type": "code",
   "execution_count": 144,
   "id": "2d163b38-6a4a-4085-b1be-2420f7fb3dde",
   "metadata": {},
   "outputs": [
    {
     "data": {
      "text/plain": [
       "ID                    \n",
       "2747.4.7.ND0004  22244     3.0\n",
       "                 22244     6.0\n",
       "9711.4.7.ND0004  42327     5.0\n",
       "4131.4.7.ND0004  28947    17.0\n",
       "2073.4.7.ND0004  17061     1.5\n",
       "                 17061     3.0\n",
       "                 17061     4.0\n",
       "Name: Doubling Times, dtype: object"
      ]
     },
     "execution_count": 144,
     "metadata": {},
     "output_type": "execute_result"
    }
   ],
   "source": [
    "dts"
   ]
  },
  {
   "cell_type": "code",
   "execution_count": 145,
   "id": "b3462d1d-3972-44a1-a8e7-8bd8d36a475c",
   "metadata": {},
   "outputs": [
    {
     "data": {
      "image/png": "[encoded data removed]",
      "text/plain": [
       "<Figure size 800x600 with 1 Axes>"
      ]
     },
     "metadata": {},
     "output_type": "display_data"
    }
   ],
   "source": [
    "ID = '2073.4.7.ND0004'\n",
    "# Get single-cell trajectory in df format\n",
    "sc_df = df[df['ID'] == ID]\n",
    "# Drop NaN values specifically from the required columns\n",
    "sc_df = sc_df.dropna(subset=['Time Model (hours)', 'Mtb Area Model (µm)', 'Mtb Area Processed (µm)'])\n",
    "# Ensure there is temporal order\n",
    "sc_df = sc_df.sort_values(by='Time Model (hours)')\n",
    "# Extract Strain, Compound, and Concentration for the title\n",
    "strain, compound, concentration = sc_df[['Strain', 'Compound', 'Concentration']].iloc[0].values\n",
    "# Calculate the R2 value and skip plotting if R2 < 0.7\n",
    "r2 = round(r2_score(sc_df['Mtb Area Processed (µm)'], sc_df['Mtb Area Model (µm)']), 2)\n",
    "df.loc[df['ID'] == ID, 'r2'] = r2\n",
    "if r2 < 0.7:\n",
    "    print(f'Nee fitting ({r2})')\n",
    "# Find the temporal order of the minimum and maximum\n",
    "min_value = max(sc_df['Mtb Area Model (µm)'].round(1).min(), 1.92) # has to be above the minimum threshold\n",
    "max_value = sc_df['Mtb Area Model (µm)'].round(1).max()\n",
    "# perform a check on the data\n",
    "if max_value <= min_value:\n",
    "    print(f'No population doubling for ID {ID}')\n",
    "# Find the time indices of the minimum and maximum\n",
    "min_index = sc_df['Mtb Area Model (µm)'].round(1).idxmin()\n",
    "max_index = sc_df['Mtb Area Model (µm)'].round(1).idxmax()\n",
    "# Check if maximum occurs before minimum\n",
    "if max_index > min_index:\n",
    "    growth = True\n",
    "    # Minimum occurs before the maximum (indicating growth)\n",
    "    # Start from the minimum and double\n",
    "    N_i = min_value\n",
    "    N_series = []\n",
    "    # Generate the doubling series\n",
    "    while N_i <= max_value:\n",
    "        N_series.append(N_i)\n",
    "        N_i *= 2\n",
    "else:\n",
    "    growth = False\n",
    "    # non_doubling_curves.append(ID)\n",
    "    print(f'No obvious growth for ID {ID}')\n",
    "# Check if there are no valid doubling points\n",
    "if len(N_series) < 2:\n",
    "    print(f'No population doubling for ID {ID}')\n",
    "    \n",
    "# Find the indices and corresponding times for each doubling point\n",
    "# doubling_time_indices = np.clip(np.searchsorted(sc_df['Mtb Area Model (µm)'], N_series), 0, len(sc_df) - 1) # old method\n",
    "doubling_time_indices = [np.abs(sc_df['Mtb Area Model (µm)'] - value).idxmin() for value in N_series]\n",
    "doubling_time_points = sc_df['Time Model (hours)'].loc[doubling_time_indices]\n",
    "doubling_times = doubling_time_points.diff().dropna().values.tolist()\n",
    "    \n",
    "# Plot the experimental data and the fitted model\n",
    "plt.figure(figsize=(8, 6))\n",
    "plt.plot(sc_df['Time Model (hours)'], sc_df['Mtb Area Model (µm)'], label='Lowess Growth Model', color=colours[-2])\n",
    "plt.scatter(sc_df['Time Model (hours)'], sc_df['Mtb Area Processed (µm)'], label='Processed Data', color=colours[0], s=5)\n",
    "\n",
    "# Annotate doubling times and draw faint lines\n",
    "for i, (time, population) in enumerate(zip(doubling_time_points, N_series)):\n",
    "    time = abs(time)\n",
    "    population = abs(population)\n",
    "    color_index = i % len(expanded_piyg)  # This ensures the color index wraps around\n",
    "    # Draw faint vertical lines at doubling time points\n",
    "    plt.axvline(x=time, color=expanded_piyg[color_index], linestyle='--', linewidth=1, alpha=0.5)\n",
    "    plt.axhline(y=population, color=expanded_piyg[color_index], linestyle='--', linewidth=1, alpha=0.5)\n",
    "    \n",
    "    # Place a text label indicating the doubling time\n",
    "    if i > 0:  # Start labeling from the second point\n",
    "        previous_time = doubling_time_points.iloc[i-1]\n",
    "        \n",
    "        # Midpoint between the two lines\n",
    "        label_x_pos = time  # Correct the label position\n",
    "        # Adjust y-position to place the label just above the horizontal line\n",
    "        label_y_pos = population + (population * 0.01)  # Slightly above the horizontal line\n",
    "\n",
    "        # Calculate the gap between the lines and scale the font size\n",
    "        gap = time - previous_time\n",
    "        scaled_fontsize = max(8, min(12, gap))  # Scale font size within a reasonable range (e.g., 8 to 12)\n",
    "        \n",
    "        # Draw the horizontal doubling time label\n",
    "        plt.text(label_x_pos, label_y_pos, f'{abs(doubling_times[i-1]):.2f}h', \n",
    "                 ha='right', va='bottom', alpha=0.5, fontsize=scaled_fontsize, color=expanded_piyg[0])\n",
    "        \n",
    "        # Draw vertical arrow showing the change in N_series (doubling amount)\n",
    "        deltaMtb = population - N_series[i-1]\n",
    "        \n",
    "        # Midpoint for the vertical delta annotation\n",
    "        text_y_pos = (population + N_series[i-1]) / 2  # Midway between current and previous population\n",
    "        text_x_pos = (population + N_series[i-1]) / 2  # Midway between current and previous population\n",
    "\n",
    "        # Midpoint between the two lines\n",
    "        label_x_pos = time + 0.1  # Adjust x-position\n",
    "        # Adjust y-position to place the label just above the horizontal line\n",
    "        label_y_pos = population - (max_value * 0.01)\n",
    "        \n",
    "        # Place the vertical label using plt.text\n",
    "        plt.text(label_x_pos, label_y_pos, f'Δ {abs(deltaMtb):.1f}µm²',\n",
    "                 fontsize=scaled_fontsize, color=expanded_piyg[0], ha='left', va='top', rotation=270, alpha=0.5)\n",
    "\n",
    "# Add labels, legend, and titles\n",
    "plt.xlabel('Time (Hours)')\n",
    "plt.ylabel('Mtb Area µm$^{2}$')\n",
    "plt.legend()\n",
    "    # Main title\n",
    "plt.suptitle('Single-Macrophage Intracellular Mtb Dynamics', \n",
    "             weight='bold', fontsize=16)\n",
    "# Subtitle\n",
    "plt.title(f'Cell ID {ID} | Strain: {strain} | Compound: {compound} | Concentration: {concentration} | R² = {r2}', fontsize=12, pad=10)\n",
    "\n",
    "sns.despine(offset=10)\n",
    "plt.grid(False)"
   ]
  },
  {
   "cell_type": "code",
   "execution_count": 49,
   "id": "3e86cd10-7638-4e73-b3fe-d4d5878fe4fa",
   "metadata": {},
   "outputs": [
    {
     "data": {
      "text/plain": [
       "0"
      ]
     },
     "execution_count": 49,
     "metadata": {},
     "output_type": "execute_result"
    }
   ],
   "source": [
    "N"
   ]
  }
 ],
 "metadata": {
  "kernelspec": {
   "display_name": "godspeed",
   "language": "python",
   "name": "godspeed"
  },
  "language_info": {
   "codemirror_mode": {
    "name": "ipython",
    "version": 3
   },
   "file_extension": ".py",
   "mimetype": "text/x-python",
   "name": "python",
   "nbconvert_exporter": "python",
   "pygments_lexer": "ipython3",
   "version": "3.10.13"
  }
 },
 "nbformat": 4,
 "nbformat_minor": 5
}
