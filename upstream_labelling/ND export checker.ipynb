{
 "cells": [
  {
   "cell_type": "markdown",
   "id": "e7452ae6",
   "metadata": {},
   "source": [
    "# Time comparison for synology vs Nemo\n"
   ]
  },
  {
   "cell_type": "code",
   "execution_count": 2,
   "id": "83d383f0",
   "metadata": {},
   "outputs": [],
   "source": [
    "import napari\n",
    "from macrohet import dataio, tile, visualise\n",
    "import os, glob\n",
    "from tqdm.auto import tqdm\n",
    "import pandas as pd"
   ]
  },
  {
   "cell_type": "markdown",
   "id": "cb28dcb6",
   "metadata": {},
   "source": [
    "### Load experiment of choice\n",
    "\n",
    "The Opera Phenix is a high-throughput confocal microscope that acquires very large 5-dimensional (TCZXY) images over several fields of view in any one experiment. Therefore, a lazy-loading approach is chosen to mosaic, view and annotate these images. This approach depends upon Dask and DaskFusion. The first step is to load the main metadata file (typically called `Index.idx.xml` and located in the main `Images` directory) that contains the image filenames and associated TCXZY information used to organise the images."
   ]
  },
  {
   "cell_type": "code",
   "execution_count": 35,
   "id": "3cfb0b70-cecb-4c9c-9975-a6b0943b34aa",
   "metadata": {},
   "outputs": [
    {
     "data": {
      "text/plain": [
       "871304"
      ]
     },
     "execution_count": 35,
     "metadata": {},
     "output_type": "execute_result"
    }
   ],
   "source": [
    "os.getpid()"
   ]
  },
  {
   "cell_type": "code",
   "execution_count": null,
   "id": "da932bec-8ac8-40cc-ad35-9e0b957a0f0b",
   "metadata": {},
   "outputs": [
    {
     "name": "stdout",
     "output_type": "stream",
     "text": [
      "Reading metadata XML file...\n"
     ]
    },
    {
     "data": {
      "application/vnd.jupyter.widget-view+json": {
       "model_id": "0c8c2b8e06a24acca060d303a8e17fb8",
       "version_major": 2,
       "version_minor": 0
      },
      "text/plain": [
       "0it [00:00, ?it/s]"
      ]
     },
     "metadata": {},
     "output_type": "display_data"
    }
   ],
   "source": [
    "%%time\n",
    "expt_ID = 'ND0001'\n",
    "# base_dir = f'/mnt/DATA/macrohet/{expt_ID}/'\n",
    "base_dir = f'/mnt/SYNO/macrohet_syno/{expt_ID}/'\n",
    "metadata_fn = glob.glob(os.path.join(base_dir, 'acquisition/Images/Index*xml'))[0]\n",
    "metadata_fn = glob.glob(os.path.join(base_dir, 'acquisition/*/Images/Index*xml'))[0]\n",
    "\n",
    "# metadata_fn = '/mnt/SYNO/macrohet_syno/ND0001/acquisition/ND0001__2023-10-27T14_12_54-Measurement 1/Images/Index.idx.xml'#glob.glob(os.path.join(base_dir, 'Images/Index*xml'))[0]\n",
    "metadata = dataio.read_harmony_metadata(metadata_fn)  \n",
    "# temporary hack to fix URL from incorrectly exported metadata\n",
    "# metadata['URL'] = metadata.apply(dataio.generate_url, axis=1)\n",
    "metadata"
   ]
  },
  {
   "cell_type": "code",
   "execution_count": 3,
   "id": "253d5954-ef48-41cd-bdd6-392a64be3a8d",
   "metadata": {},
   "outputs": [
    {
     "data": {
      "text/plain": [
       "14.847333333333331"
      ]
     },
     "execution_count": 3,
     "metadata": {},
     "output_type": "execute_result"
    }
   ],
   "source": [
    "float(metadata['MeasurementTimeOffset'].unique()[1])/60"
   ]
  },
  {
   "cell_type": "code",
   "execution_count": 4,
   "id": "78e879b5-973a-40cc-a4d3-858b2501600e",
   "metadata": {},
   "outputs": [
    {
     "data": {
      "text/plain": [
       "array(['1', '2', '3'], dtype=object)"
      ]
     },
     "execution_count": 4,
     "metadata": {},
     "output_type": "execute_result"
    }
   ],
   "source": [
    "metadata['ChannelID'].unique()"
   ]
  },
  {
   "cell_type": "code",
   "execution_count": 5,
   "id": "68b1fc4b-6bd0-453d-9f0a-3267d873b1d8",
   "metadata": {},
   "outputs": [
    {
     "data": {
      "text/plain": [
       "array(['1', '2', '3'], dtype=object)"
      ]
     },
     "execution_count": 5,
     "metadata": {},
     "output_type": "execute_result"
    }
   ],
   "source": [
    "metadata['PlaneID'].unique()"
   ]
  },
  {
   "cell_type": "markdown",
   "id": "919e751d-7257-432e-9806-c24533d55cb8",
   "metadata": {},
   "source": [
    "# ND0000"
   ]
  },
  {
   "cell_type": "code",
   "execution_count": 25,
   "id": "d13e3b60-825e-4800-b9ce-1a3504f4f490",
   "metadata": {},
   "outputs": [
    {
     "data": {
      "application/vnd.jupyter.widget-view+json": {
       "model_id": "c7382b02997a4366ad6e8e0edb5b69de",
       "version_major": 2,
       "version_minor": 0
      },
      "text/plain": [
       "  0%|          | 0/243648 [00:00<?, ?it/s]"
      ]
     },
     "metadata": {},
     "output_type": "display_data"
    }
   ],
   "source": [
    "missing_fns = []\n",
    "for fn in tqdm(metadata['URL']):\n",
    "    if not os.path.exists(os.path.join(base_dir, f'Images/{fn}')):\n",
    "        missing_fns.append(fn)"
   ]
  },
  {
   "cell_type": "code",
   "execution_count": 27,
   "id": "4202e368-fc0c-4ed6-b2a0-74a8dff3c45c",
   "metadata": {},
   "outputs": [
    {
     "data": {
      "text/plain": [
       "85041"
      ]
     },
     "execution_count": 27,
     "metadata": {},
     "output_type": "execute_result"
    }
   ],
   "source": [
    "len(missing_fns)"
   ]
  },
  {
   "cell_type": "code",
   "execution_count": 13,
   "id": "e452977a-9f88-4092-aeb6-b839bd30ada4",
   "metadata": {},
   "outputs": [
    {
     "data": {
      "text/plain": [
       "0.536174317653067"
      ]
     },
     "execution_count": 13,
     "metadata": {},
     "output_type": "execute_result"
    }
   ],
   "source": [
    "85041/158607"
   ]
  },
  {
   "cell_type": "code",
   "execution_count": 49,
   "id": "ded500a8-bcfb-49b1-aaab-74905384c932",
   "metadata": {},
   "outputs": [
    {
     "data": {
      "text/plain": [
       "158607"
      ]
     },
     "execution_count": 49,
     "metadata": {},
     "output_type": "execute_result"
    }
   ],
   "source": [
    "len(metadata)- len(missing_fns)"
   ]
  },
  {
   "cell_type": "markdown",
   "id": "6089eeea-76f1-44dc-b7a3-17e510c5952a",
   "metadata": {},
   "source": [
    "# ND0001"
   ]
  },
  {
   "cell_type": "code",
   "execution_count": 16,
   "id": "a2e18160-0b58-459f-9498-67522d618c75",
   "metadata": {},
   "outputs": [
    {
     "data": {
      "text/plain": [
       "'/mnt/SYNO/macrohet_syno/ND0001/acquisition/ND0001__2023-10-27T14_12_54-Measurement 1/Images/Index.idx.xml'"
      ]
     },
     "execution_count": 16,
     "metadata": {},
     "output_type": "execute_result"
    }
   ],
   "source": [
    "metadata_fn"
   ]
  },
  {
   "cell_type": "code",
   "execution_count": 17,
   "id": "4a0aa938-ef6a-42a9-baad-864360405c5f",
   "metadata": {},
   "outputs": [
    {
     "data": {
      "text/plain": [
       "'/mnt/SYNO/macrohet_syno/ND0001/'"
      ]
     },
     "execution_count": 17,
     "metadata": {},
     "output_type": "execute_result"
    }
   ],
   "source": [
    "base_dir"
   ]
  },
  {
   "cell_type": "code",
   "execution_count": 18,
   "id": "a9c75649-1f21-4a8c-abe7-f529b9897a8e",
   "metadata": {},
   "outputs": [
    {
     "data": {
      "application/vnd.jupyter.widget-view+json": {
       "model_id": "7f13bc6cbf474d98a1a73a702ac0cf84",
       "version_major": 2,
       "version_minor": 0
      },
      "text/plain": [
       "  0%|          | 0/1020600 [00:00<?, ?it/s]"
      ]
     },
     "metadata": {},
     "output_type": "display_data"
    }
   ],
   "source": [
    "missing_fns = []\n",
    "for fn in tqdm(metadata['URL']):\n",
    "    if not os.path.exists(os.path.join(base_dir, f'acquisition/ND0001__2023-10-27T14_12_54-Measurement 1/Images/{fn}')):\n",
    "        missing_fns.append(fn)"
   ]
  },
  {
   "cell_type": "code",
   "execution_count": 19,
   "id": "e8e11d30-eecd-4625-ad52-e495e1b2c617",
   "metadata": {},
   "outputs": [
    {
     "data": {
      "text/plain": [
       "45441"
      ]
     },
     "execution_count": 19,
     "metadata": {},
     "output_type": "execute_result"
    }
   ],
   "source": [
    "len(missing_fns)"
   ]
  },
  {
   "cell_type": "code",
   "execution_count": 22,
   "id": "61315c7c-561f-438b-a631-14ac27137158",
   "metadata": {},
   "outputs": [],
   "source": [
    "import re"
   ]
  },
  {
   "cell_type": "code",
   "execution_count": 33,
   "id": "ab4e6c81-cee5-49f3-95e3-feaf3d61fdac",
   "metadata": {},
   "outputs": [
    {
     "name": "stdout",
     "output_type": "stream",
     "text": [
      "Unique Rows:\n",
      "Unique Columns:\n"
     ]
    }
   ],
   "source": [
    "# Regular expression pattern to extract rows and columns\n",
    "pattern = r'r(\\d+)c(\\d+)f(\\d+)p(\\d+)-ch(\\d+)sk(\\d+)fk(\\d+)fl(\\d+)'\n",
    "\n",
    "# Extract rows and columns from filenames and store them in a set to ensure uniqueness\n",
    "unique_values = set()\n",
    "data = []\n",
    "for filename in missing_fns:\n",
    "    match = re.search(pattern, filename)\n",
    "    if match:\n",
    "        row = match.group(1)\n",
    "        column = match.group(2)\n",
    "        plane = match.group(4)\n",
    "        time = match.group(6)\n",
    "        channel = match.group(5)\n",
    "        data.append((row, column, plane, time, channel))\n",
    "\n",
    "# Create a set of unique rows and columns\n",
    "unique_rows = set()\n",
    "unique_columns = set()\n",
    "\n",
    "for row, column, plane, time, channel in data:\n",
    "    unique_rows.add(row)\n",
    "    unique_columns.add(column)\n",
    "\n",
    "# Check for missing planes, times, or channels in rows and columns\n",
    "missing_planes = set()\n",
    "missing_times = set()\n",
    "missing_channels = set()\n",
    "\n",
    "for row, column, plane, time, channel in data:\n",
    "    if plane not in missing_planes:\n",
    "        missing_planes.add(plane)\n",
    "    if time not in missing_times:\n",
    "        missing_times.add(time)\n",
    "    if channel not in missing_channels:\n",
    "        missing_channels.add(channel)\n",
    "\n",
    "# Print the unique rows and columns without missing planes, times, or channels\n",
    "print(\"Unique Rows:\")\n",
    "for row in unique_rows:\n",
    "    if all(plane in missing_planes for plane in unique_rows):\n",
    "        print(row)\n",
    "\n",
    "print(\"Unique Columns:\")\n",
    "for column in unique_columns:\n",
    "    if all(channel in missing_channels for channel in unique_columns):\n",
    "        print(column)"
   ]
  },
  {
   "cell_type": "code",
   "execution_count": 29,
   "id": "14572cc2-0537-47b5-ac1c-f13fbb13a942",
   "metadata": {},
   "outputs": [
    {
     "data": {
      "text/plain": [
       "42"
      ]
     },
     "execution_count": 29,
     "metadata": {},
     "output_type": "execute_result"
    }
   ],
   "source": [
    "len(unique_values)"
   ]
  },
  {
   "cell_type": "code",
   "execution_count": 30,
   "id": "19ecccb4-5579-4fed-9329-431ebda5119f",
   "metadata": {},
   "outputs": [
    {
     "data": {
      "text/plain": [
       "{('03', '01'),\n",
       " ('03', '02'),\n",
       " ('03', '03'),\n",
       " ('03', '04'),\n",
       " ('03', '05'),\n",
       " ('03', '06'),\n",
       " ('03', '07'),\n",
       " ('03', '08'),\n",
       " ('03', '09'),\n",
       " ('03', '10'),\n",
       " ('03', '11'),\n",
       " ('03', '12'),\n",
       " ('04', '03'),\n",
       " ('04', '04'),\n",
       " ('04', '05'),\n",
       " ('04', '06'),\n",
       " ('04', '07'),\n",
       " ('04', '08'),\n",
       " ('04', '09'),\n",
       " ('04', '10'),\n",
       " ('04', '11'),\n",
       " ('04', '12'),\n",
       " ('05', '03'),\n",
       " ('05', '04'),\n",
       " ('05', '05'),\n",
       " ('05', '06'),\n",
       " ('05', '07'),\n",
       " ('05', '08'),\n",
       " ('05', '09'),\n",
       " ('05', '10'),\n",
       " ('05', '11'),\n",
       " ('05', '12'),\n",
       " ('06', '03'),\n",
       " ('06', '04'),\n",
       " ('06', '05'),\n",
       " ('06', '06'),\n",
       " ('06', '07'),\n",
       " ('06', '08'),\n",
       " ('06', '09'),\n",
       " ('06', '10'),\n",
       " ('06', '11'),\n",
       " ('06', '12')}"
      ]
     },
     "execution_count": 30,
     "metadata": {},
     "output_type": "execute_result"
    }
   ],
   "source": [
    "unique_values"
   ]
  },
  {
   "cell_type": "markdown",
   "id": "96a77603-3475-4b40-82f3-b9b7aed1cb8d",
   "metadata": {},
   "source": [
    "### which positions are missing"
   ]
  },
  {
   "cell_type": "code",
   "execution_count": null,
   "id": "fb30ffbb-e079-48ce-9f56-d86ab8793f92",
   "metadata": {},
   "outputs": [],
   "source": [
    "len(metadata)- len(missing_fns)"
   ]
  },
  {
   "cell_type": "code",
   "execution_count": null,
   "id": "659bd231-3756-48a5-a674-7bd1a2e7cd10",
   "metadata": {},
   "outputs": [],
   "source": [
    "len(missing_fns)/len(metadata)*100"
   ]
  },
  {
   "cell_type": "markdown",
   "id": "8241d5c1-92ef-44cf-991b-32ae9ce7b9ed",
   "metadata": {},
   "source": [
    "# Testing time to read all fns"
   ]
  },
  {
   "cell_type": "code",
   "execution_count": 73,
   "id": "5d1f48e6-cacb-47a5-a019-4fffb4111bca",
   "metadata": {},
   "outputs": [
    {
     "data": {
      "text/plain": [
       "4050"
      ]
     },
     "execution_count": 73,
     "metadata": {},
     "output_type": "execute_result"
    }
   ],
   "source": [
    "75*2*3*9"
   ]
  },
  {
   "cell_type": "code",
   "execution_count": null,
   "id": "842e1ded-6635-4db7-9ba2-7e9a7f6a7ff4",
   "metadata": {},
   "outputs": [],
   "source": [
    "r03c01f01p01-ch1sk1fk1fl1"
   ]
  },
  {
   "cell_type": "code",
   "execution_count": 106,
   "id": "3dbbadfd-4a1b-4fb9-98ca-d16168edd3f1",
   "metadata": {},
   "outputs": [
    {
     "name": "stdout",
     "output_type": "stream",
     "text": [
      "164 ms ± 2.59 ms per loop (mean ± std. dev. of 7 runs, 1 loop each)\n"
     ]
    }
   ],
   "source": [
    "%%timeit\n",
    "fns = glob.glob('/mnt/DATA/macrohet/PS0000/acquisition/Images/*r03c04*ch*')"
   ]
  },
  {
   "cell_type": "code",
   "execution_count": 107,
   "id": "c97415c3-22d8-4d54-ae53-80b36b97550b",
   "metadata": {},
   "outputs": [
    {
     "data": {
      "text/plain": [
       "4050"
      ]
     },
     "execution_count": 107,
     "metadata": {},
     "output_type": "execute_result"
    }
   ],
   "source": [
    "len(fns)"
   ]
  },
  {
   "cell_type": "code",
   "execution_count": 108,
   "id": "a8f08688-c86d-4d0f-8772-7ddb6ffe5dd6",
   "metadata": {},
   "outputs": [
    {
     "name": "stdout",
     "output_type": "stream",
     "text": [
      "488 ms ± 110 ms per loop (mean ± std. dev. of 7 runs, 1 loop each)\n"
     ]
    }
   ],
   "source": [
    "%%timeit\n",
    "fns = glob.glob('/mnt/NEMO/home/users/dayn/macrohet_nemo/PS0000/acquisition/Images/*.tif*')"
   ]
  },
  {
   "cell_type": "code",
   "execution_count": 109,
   "id": "16a39cbc-d937-467f-8f6a-ed7dd9efb86c",
   "metadata": {},
   "outputs": [
    {
     "data": {
      "text/plain": [
       "4050"
      ]
     },
     "execution_count": 109,
     "metadata": {},
     "output_type": "execute_result"
    }
   ],
   "source": [
    "len(fns)"
   ]
  },
  {
   "cell_type": "code",
   "execution_count": 110,
   "id": "22f3c3e7-40df-4812-8dad-0a08239be1e0",
   "metadata": {},
   "outputs": [
    {
     "name": "stdout",
     "output_type": "stream",
     "text": [
      "9.67 ms ± 294 µs per loop (mean ± std. dev. of 7 runs, 100 loops each)\n"
     ]
    }
   ],
   "source": [
    "%%timeit\n",
    "fns = glob.glob('/mnt/SYNO/macrohet_syno/PS0000/acquisition/Images/*.tif*')"
   ]
  },
  {
   "cell_type": "code",
   "execution_count": 111,
   "id": "81ed76a5-c7d0-43cc-a128-c33ad60c15c5",
   "metadata": {},
   "outputs": [
    {
     "name": "stdout",
     "output_type": "stream",
     "text": [
      "4050\n"
     ]
    }
   ],
   "source": [
    "print(len(fns))"
   ]
  },
  {
   "cell_type": "code",
   "execution_count": 33,
   "id": "33641dca-15cb-4497-9528-d6110cda9dad",
   "metadata": {},
   "outputs": [
    {
     "data": {
      "text/plain": [
       "44.45544554455446"
      ]
     },
     "execution_count": 33,
     "metadata": {},
     "output_type": "execute_result"
    }
   ],
   "source": [
    "449/10.1 # syno times quicker than nemo ???"
   ]
  },
  {
   "cell_type": "code",
   "execution_count": 112,
   "id": "281e2a1e-b8ce-48fa-8dfd-d8fa39c6d39e",
   "metadata": {},
   "outputs": [
    {
     "data": {
      "text/plain": [
       "16.959669079627716"
      ]
     },
     "execution_count": 112,
     "metadata": {},
     "output_type": "execute_result"
    }
   ],
   "source": [
    "164/9.67 # syno times quicker than my local harddrive!?"
   ]
  },
  {
   "cell_type": "code",
   "execution_count": 113,
   "id": "4f0d5296-bbcc-49e2-b685-3f636f19621b",
   "metadata": {},
   "outputs": [
    {
     "data": {
      "text/plain": [
       "2.975609756097561"
      ]
     },
     "execution_count": 113,
     "metadata": {},
     "output_type": "execute_result"
    }
   ],
   "source": [
    "488/164 # local times quicker than nemo!?"
   ]
  },
  {
   "cell_type": "markdown",
   "id": "4779c1f0",
   "metadata": {},
   "source": [
    "### View assay layout and mask information (optional)\n",
    "\n",
    "The Opera Phenix acquires many time lapse series from a range of positions. The first step is to inspect the image metadata, presented in the form of an `Assaylayout/experiment_ID.xml` file, to show which positions correspond to which experimental assays."
   ]
  },
  {
   "cell_type": "code",
   "execution_count": 120,
   "id": "4b75643e",
   "metadata": {},
   "outputs": [
    {
     "name": "stdout",
     "output_type": "stream",
     "text": [
      "Reading metadata XML file...\n",
      "Extracting metadata complete!\n"
     ]
    },
    {
     "data": {
      "text/html": [
       "<div>\n",
       "<style scoped>\n",
       "    .dataframe tbody tr th:only-of-type {\n",
       "        vertical-align: middle;\n",
       "    }\n",
       "\n",
       "    .dataframe tbody tr th {\n",
       "        vertical-align: top;\n",
       "    }\n",
       "\n",
       "    .dataframe thead th {\n",
       "        text-align: right;\n",
       "    }\n",
       "</style>\n",
       "<table border=\"1\" class=\"dataframe\">\n",
       "  <thead>\n",
       "    <tr style=\"text-align: right;\">\n",
       "      <th></th>\n",
       "      <th></th>\n",
       "      <th>Strain</th>\n",
       "      <th>Compound</th>\n",
       "      <th>Concentration</th>\n",
       "      <th>ConcentrationEC</th>\n",
       "    </tr>\n",
       "    <tr>\n",
       "      <th>Row</th>\n",
       "      <th>Column</th>\n",
       "      <th></th>\n",
       "      <th></th>\n",
       "      <th></th>\n",
       "      <th></th>\n",
       "    </tr>\n",
       "  </thead>\n",
       "  <tbody>\n",
       "    <tr>\n",
       "      <th rowspan=\"12\" valign=\"top\">3</th>\n",
       "      <th>1</th>\n",
       "      <td>UNI</td>\n",
       "      <td>CTRL</td>\n",
       "      <td>0</td>\n",
       "      <td>EC0</td>\n",
       "    </tr>\n",
       "    <tr>\n",
       "      <th>2</th>\n",
       "      <td>UNI</td>\n",
       "      <td>CTRL</td>\n",
       "      <td>0</td>\n",
       "      <td>EC0</td>\n",
       "    </tr>\n",
       "    <tr>\n",
       "      <th>3</th>\n",
       "      <td>WT</td>\n",
       "      <td>CTRL</td>\n",
       "      <td>0</td>\n",
       "      <td>EC0</td>\n",
       "    </tr>\n",
       "    <tr>\n",
       "      <th>4</th>\n",
       "      <td>WT</td>\n",
       "      <td>CTRL</td>\n",
       "      <td>0</td>\n",
       "      <td>EC0</td>\n",
       "    </tr>\n",
       "    <tr>\n",
       "      <th>5</th>\n",
       "      <td>WT</td>\n",
       "      <td>PZA</td>\n",
       "      <td>60</td>\n",
       "      <td>EC50</td>\n",
       "    </tr>\n",
       "    <tr>\n",
       "      <th>6</th>\n",
       "      <td>WT</td>\n",
       "      <td>PZA</td>\n",
       "      <td>60</td>\n",
       "      <td>EC50</td>\n",
       "    </tr>\n",
       "    <tr>\n",
       "      <th>7</th>\n",
       "      <td>WT</td>\n",
       "      <td>RIF</td>\n",
       "      <td>0.1</td>\n",
       "      <td>EC50</td>\n",
       "    </tr>\n",
       "    <tr>\n",
       "      <th>8</th>\n",
       "      <td>WT</td>\n",
       "      <td>RIF</td>\n",
       "      <td>0.1</td>\n",
       "      <td>EC50</td>\n",
       "    </tr>\n",
       "    <tr>\n",
       "      <th>9</th>\n",
       "      <td>WT</td>\n",
       "      <td>INH</td>\n",
       "      <td>0.04</td>\n",
       "      <td>EC50</td>\n",
       "    </tr>\n",
       "    <tr>\n",
       "      <th>10</th>\n",
       "      <td>WT</td>\n",
       "      <td>INH</td>\n",
       "      <td>0.04</td>\n",
       "      <td>EC50</td>\n",
       "    </tr>\n",
       "    <tr>\n",
       "      <th>11</th>\n",
       "      <td>WT</td>\n",
       "      <td>BDQ</td>\n",
       "      <td>0.02</td>\n",
       "      <td>EC50</td>\n",
       "    </tr>\n",
       "    <tr>\n",
       "      <th>12</th>\n",
       "      <td>WT</td>\n",
       "      <td>BDQ</td>\n",
       "      <td>0.02</td>\n",
       "      <td>EC50</td>\n",
       "    </tr>\n",
       "    <tr>\n",
       "      <th rowspan=\"10\" valign=\"top\">4</th>\n",
       "      <th>3</th>\n",
       "      <td>WT</td>\n",
       "      <td>CTRL</td>\n",
       "      <td>0</td>\n",
       "      <td>EC0</td>\n",
       "    </tr>\n",
       "    <tr>\n",
       "      <th>4</th>\n",
       "      <td>WT</td>\n",
       "      <td>CTRL</td>\n",
       "      <td>0</td>\n",
       "      <td>EC0</td>\n",
       "    </tr>\n",
       "    <tr>\n",
       "      <th>5</th>\n",
       "      <td>WT</td>\n",
       "      <td>PZA</td>\n",
       "      <td>400</td>\n",
       "      <td>EC99</td>\n",
       "    </tr>\n",
       "    <tr>\n",
       "      <th>6</th>\n",
       "      <td>WT</td>\n",
       "      <td>PZA</td>\n",
       "      <td>400</td>\n",
       "      <td>EC99</td>\n",
       "    </tr>\n",
       "    <tr>\n",
       "      <th>7</th>\n",
       "      <td>WT</td>\n",
       "      <td>RIF</td>\n",
       "      <td>2</td>\n",
       "      <td>EC99</td>\n",
       "    </tr>\n",
       "    <tr>\n",
       "      <th>8</th>\n",
       "      <td>WT</td>\n",
       "      <td>RIF</td>\n",
       "      <td>2</td>\n",
       "      <td>EC99</td>\n",
       "    </tr>\n",
       "    <tr>\n",
       "      <th>9</th>\n",
       "      <td>WT</td>\n",
       "      <td>INH</td>\n",
       "      <td>2</td>\n",
       "      <td>EC99</td>\n",
       "    </tr>\n",
       "    <tr>\n",
       "      <th>10</th>\n",
       "      <td>WT</td>\n",
       "      <td>INH</td>\n",
       "      <td>2</td>\n",
       "      <td>EC99</td>\n",
       "    </tr>\n",
       "    <tr>\n",
       "      <th>11</th>\n",
       "      <td>WT</td>\n",
       "      <td>BDQ</td>\n",
       "      <td>2.5</td>\n",
       "      <td>EC99</td>\n",
       "    </tr>\n",
       "    <tr>\n",
       "      <th>12</th>\n",
       "      <td>WT</td>\n",
       "      <td>BDQ</td>\n",
       "      <td>2.5</td>\n",
       "      <td>EC99</td>\n",
       "    </tr>\n",
       "    <tr>\n",
       "      <th rowspan=\"10\" valign=\"top\">5</th>\n",
       "      <th>3</th>\n",
       "      <td>RD1</td>\n",
       "      <td>CTRL</td>\n",
       "      <td>0</td>\n",
       "      <td>EC0</td>\n",
       "    </tr>\n",
       "    <tr>\n",
       "      <th>4</th>\n",
       "      <td>RD1</td>\n",
       "      <td>CTRL</td>\n",
       "      <td>0</td>\n",
       "      <td>EC0</td>\n",
       "    </tr>\n",
       "    <tr>\n",
       "      <th>5</th>\n",
       "      <td>RD1</td>\n",
       "      <td>PZA</td>\n",
       "      <td>60</td>\n",
       "      <td>EC50</td>\n",
       "    </tr>\n",
       "    <tr>\n",
       "      <th>6</th>\n",
       "      <td>RD1</td>\n",
       "      <td>PZA</td>\n",
       "      <td>60</td>\n",
       "      <td>EC50</td>\n",
       "    </tr>\n",
       "    <tr>\n",
       "      <th>7</th>\n",
       "      <td>RD1</td>\n",
       "      <td>RIF</td>\n",
       "      <td>0.1</td>\n",
       "      <td>EC50</td>\n",
       "    </tr>\n",
       "    <tr>\n",
       "      <th>8</th>\n",
       "      <td>RD1</td>\n",
       "      <td>RIF</td>\n",
       "      <td>0.1</td>\n",
       "      <td>EC50</td>\n",
       "    </tr>\n",
       "    <tr>\n",
       "      <th>9</th>\n",
       "      <td>RD1</td>\n",
       "      <td>INH</td>\n",
       "      <td>0.04</td>\n",
       "      <td>EC50</td>\n",
       "    </tr>\n",
       "    <tr>\n",
       "      <th>10</th>\n",
       "      <td>RD1</td>\n",
       "      <td>INH</td>\n",
       "      <td>0.04</td>\n",
       "      <td>EC50</td>\n",
       "    </tr>\n",
       "    <tr>\n",
       "      <th>11</th>\n",
       "      <td>RD1</td>\n",
       "      <td>BDQ</td>\n",
       "      <td>0.02</td>\n",
       "      <td>EC50</td>\n",
       "    </tr>\n",
       "    <tr>\n",
       "      <th>12</th>\n",
       "      <td>RD1</td>\n",
       "      <td>BDQ</td>\n",
       "      <td>0.02</td>\n",
       "      <td>EC50</td>\n",
       "    </tr>\n",
       "    <tr>\n",
       "      <th rowspan=\"10\" valign=\"top\">6</th>\n",
       "      <th>3</th>\n",
       "      <td>RD1</td>\n",
       "      <td>CTRL</td>\n",
       "      <td>0</td>\n",
       "      <td>EC0</td>\n",
       "    </tr>\n",
       "    <tr>\n",
       "      <th>4</th>\n",
       "      <td>RD1</td>\n",
       "      <td>CTRL</td>\n",
       "      <td>0</td>\n",
       "      <td>EC0</td>\n",
       "    </tr>\n",
       "    <tr>\n",
       "      <th>5</th>\n",
       "      <td>RD1</td>\n",
       "      <td>PZA</td>\n",
       "      <td>400</td>\n",
       "      <td>EC99</td>\n",
       "    </tr>\n",
       "    <tr>\n",
       "      <th>6</th>\n",
       "      <td>RD1</td>\n",
       "      <td>PZA</td>\n",
       "      <td>400</td>\n",
       "      <td>EC99</td>\n",
       "    </tr>\n",
       "    <tr>\n",
       "      <th>7</th>\n",
       "      <td>RD1</td>\n",
       "      <td>RIF</td>\n",
       "      <td>2</td>\n",
       "      <td>EC99</td>\n",
       "    </tr>\n",
       "    <tr>\n",
       "      <th>8</th>\n",
       "      <td>RD1</td>\n",
       "      <td>RIF</td>\n",
       "      <td>2</td>\n",
       "      <td>EC99</td>\n",
       "    </tr>\n",
       "    <tr>\n",
       "      <th>9</th>\n",
       "      <td>RD1</td>\n",
       "      <td>INH</td>\n",
       "      <td>2</td>\n",
       "      <td>EC99</td>\n",
       "    </tr>\n",
       "    <tr>\n",
       "      <th>10</th>\n",
       "      <td>RD1</td>\n",
       "      <td>INH</td>\n",
       "      <td>2</td>\n",
       "      <td>EC99</td>\n",
       "    </tr>\n",
       "    <tr>\n",
       "      <th>11</th>\n",
       "      <td>RD1</td>\n",
       "      <td>BDQ</td>\n",
       "      <td>2.5</td>\n",
       "      <td>EC99</td>\n",
       "    </tr>\n",
       "    <tr>\n",
       "      <th>12</th>\n",
       "      <td>RD1</td>\n",
       "      <td>BDQ</td>\n",
       "      <td>2.5</td>\n",
       "      <td>EC99</td>\n",
       "    </tr>\n",
       "  </tbody>\n",
       "</table>\n",
       "</div>"
      ],
      "text/plain": [
       "           Strain Compound Concentration ConcentrationEC\n",
       "Row Column                                              \n",
       "3   1         UNI     CTRL             0             EC0\n",
       "    2         UNI     CTRL             0             EC0\n",
       "    3          WT     CTRL             0             EC0\n",
       "    4          WT     CTRL             0             EC0\n",
       "    5          WT      PZA            60            EC50\n",
       "    6          WT      PZA            60            EC50\n",
       "    7          WT      RIF           0.1            EC50\n",
       "    8          WT      RIF           0.1            EC50\n",
       "    9          WT      INH          0.04            EC50\n",
       "    10         WT      INH          0.04            EC50\n",
       "    11         WT      BDQ          0.02            EC50\n",
       "    12         WT      BDQ          0.02            EC50\n",
       "4   3          WT     CTRL             0             EC0\n",
       "    4          WT     CTRL             0             EC0\n",
       "    5          WT      PZA           400            EC99\n",
       "    6          WT      PZA           400            EC99\n",
       "    7          WT      RIF             2            EC99\n",
       "    8          WT      RIF             2            EC99\n",
       "    9          WT      INH             2            EC99\n",
       "    10         WT      INH             2            EC99\n",
       "    11         WT      BDQ           2.5            EC99\n",
       "    12         WT      BDQ           2.5            EC99\n",
       "5   3         RD1     CTRL             0             EC0\n",
       "    4         RD1     CTRL             0             EC0\n",
       "    5         RD1      PZA            60            EC50\n",
       "    6         RD1      PZA            60            EC50\n",
       "    7         RD1      RIF           0.1            EC50\n",
       "    8         RD1      RIF           0.1            EC50\n",
       "    9         RD1      INH          0.04            EC50\n",
       "    10        RD1      INH          0.04            EC50\n",
       "    11        RD1      BDQ          0.02            EC50\n",
       "    12        RD1      BDQ          0.02            EC50\n",
       "6   3         RD1     CTRL             0             EC0\n",
       "    4         RD1     CTRL             0             EC0\n",
       "    5         RD1      PZA           400            EC99\n",
       "    6         RD1      PZA           400            EC99\n",
       "    7         RD1      RIF             2            EC99\n",
       "    8         RD1      RIF             2            EC99\n",
       "    9         RD1      INH             2            EC99\n",
       "    10        RD1      INH             2            EC99\n",
       "    11        RD1      BDQ           2.5            EC99\n",
       "    12        RD1      BDQ           2.5            EC99"
      ]
     },
     "execution_count": 120,
     "metadata": {},
     "output_type": "execute_result"
    }
   ],
   "source": [
    "metadata_path = glob.glob(os.path.join(base_dir, 'acquisition/Assaylayout/*AssayLayout.xml'))[0]\n",
    "assay_layout = dataio.read_harmony_metadata(metadata_path, assay_layout=True,)# mask_exist=True,  image_dir = image_dir, image_metadata = metadata)\n",
    "assay_layout"
   ]
  },
  {
   "cell_type": "markdown",
   "id": "e9d4dc7f",
   "metadata": {},
   "source": [
    "### Define row and column of choice"
   ]
  },
  {
   "cell_type": "code",
   "execution_count": 122,
   "id": "661b558f",
   "metadata": {},
   "outputs": [],
   "source": [
    "acq_ID = row, column = (3, 4)"
   ]
  },
  {
   "cell_type": "markdown",
   "id": "f4408023-8136-455a-9bcf-ae1c08e5486b",
   "metadata": {},
   "source": [
    "### Define subset if non-square tiling or more than one contiguous region of images in imaging well. "
   ]
  },
  {
   "cell_type": "code",
   "execution_count": 5,
   "id": "0e4254eb-8006-4939-acdf-6cbf4b28c335",
   "metadata": {},
   "outputs": [],
   "source": [
    "# subset_field_IDs = ['1','6','7','8','11','12','13','14','15']"
   ]
  },
  {
   "cell_type": "markdown",
   "id": "bee546c2",
   "metadata": {},
   "source": [
    "### Now to lazily mosaic the images using Dask prior to viewing them.\n",
    "\n",
    "1x (75,2,3) [TCZ] image stack takes approximately 1 minute to stitch together, so only load the one field of view I want."
   ]
  },
  {
   "cell_type": "code",
   "execution_count": 123,
   "id": "72561ec6",
   "metadata": {},
   "outputs": [
    {
     "name": "stdout",
     "output_type": "stream",
     "text": [
      "CPU times: user 1.66 s, sys: 0 ns, total: 1.66 s\n",
      "Wall time: 2.53 s\n"
     ]
    },
    {
     "data": {
      "text/html": [
       "<table>\n",
       "    <tr>\n",
       "        <td>\n",
       "            <table style=\"border-collapse: collapse;\">\n",
       "                <thead>\n",
       "                    <tr>\n",
       "                        <td> </td>\n",
       "                        <th> Array </th>\n",
       "                        <th> Chunk </th>\n",
       "                    </tr>\n",
       "                </thead>\n",
       "                <tbody>\n",
       "                    \n",
       "                    <tr>\n",
       "                        <th> Bytes </th>\n",
       "                        <td> 20.44 GiB </td>\n",
       "                        <td> 17.80 MiB </td>\n",
       "                    </tr>\n",
       "                    \n",
       "                    <tr>\n",
       "                        <th> Shape </th>\n",
       "                        <td> (150, 2, 6048, 6048) </td>\n",
       "                        <td> (1, 2, 2160, 2160) </td>\n",
       "                    </tr>\n",
       "                    <tr>\n",
       "                        <th> Dask graph </th>\n",
       "                        <td colspan=\"2\"> 1350 chunks in 3605 graph layers </td>\n",
       "                    </tr>\n",
       "                    <tr>\n",
       "                        <th> Data type </th>\n",
       "                        <td colspan=\"2\"> uint16 numpy.ndarray </td>\n",
       "                    </tr>\n",
       "                </tbody>\n",
       "            </table>\n",
       "        </td>\n",
       "        <td>\n",
       "        <svg width=\"384\" height=\"184\" style=\"stroke:rgb(0,0,0);stroke-width:1\" >\n",
       "\n",
       "  <!-- Horizontal lines -->\n",
       "  <line x1=\"0\" y1=\"0\" x2=\"30\" y2=\"0\" style=\"stroke-width:2\" />\n",
       "  <line x1=\"0\" y1=\"25\" x2=\"30\" y2=\"25\" style=\"stroke-width:2\" />\n",
       "\n",
       "  <!-- Vertical lines -->\n",
       "  <line x1=\"0\" y1=\"0\" x2=\"0\" y2=\"25\" style=\"stroke-width:2\" />\n",
       "  <line x1=\"0\" y1=\"0\" x2=\"0\" y2=\"25\" />\n",
       "  <line x1=\"1\" y1=\"0\" x2=\"1\" y2=\"25\" />\n",
       "  <line x1=\"2\" y1=\"0\" x2=\"2\" y2=\"25\" />\n",
       "  <line x1=\"3\" y1=\"0\" x2=\"3\" y2=\"25\" />\n",
       "  <line x1=\"4\" y1=\"0\" x2=\"4\" y2=\"25\" />\n",
       "  <line x1=\"5\" y1=\"0\" x2=\"5\" y2=\"25\" />\n",
       "  <line x1=\"6\" y1=\"0\" x2=\"6\" y2=\"25\" />\n",
       "  <line x1=\"7\" y1=\"0\" x2=\"7\" y2=\"25\" />\n",
       "  <line x1=\"8\" y1=\"0\" x2=\"8\" y2=\"25\" />\n",
       "  <line x1=\"9\" y1=\"0\" x2=\"9\" y2=\"25\" />\n",
       "  <line x1=\"10\" y1=\"0\" x2=\"10\" y2=\"25\" />\n",
       "  <line x1=\"11\" y1=\"0\" x2=\"11\" y2=\"25\" />\n",
       "  <line x1=\"12\" y1=\"0\" x2=\"12\" y2=\"25\" />\n",
       "  <line x1=\"13\" y1=\"0\" x2=\"13\" y2=\"25\" />\n",
       "  <line x1=\"14\" y1=\"0\" x2=\"14\" y2=\"25\" />\n",
       "  <line x1=\"15\" y1=\"0\" x2=\"15\" y2=\"25\" />\n",
       "  <line x1=\"15\" y1=\"0\" x2=\"15\" y2=\"25\" />\n",
       "  <line x1=\"16\" y1=\"0\" x2=\"16\" y2=\"25\" />\n",
       "  <line x1=\"17\" y1=\"0\" x2=\"17\" y2=\"25\" />\n",
       "  <line x1=\"18\" y1=\"0\" x2=\"18\" y2=\"25\" />\n",
       "  <line x1=\"19\" y1=\"0\" x2=\"19\" y2=\"25\" />\n",
       "  <line x1=\"20\" y1=\"0\" x2=\"20\" y2=\"25\" />\n",
       "  <line x1=\"21\" y1=\"0\" x2=\"21\" y2=\"25\" />\n",
       "  <line x1=\"22\" y1=\"0\" x2=\"22\" y2=\"25\" />\n",
       "  <line x1=\"23\" y1=\"0\" x2=\"23\" y2=\"25\" />\n",
       "  <line x1=\"24\" y1=\"0\" x2=\"24\" y2=\"25\" />\n",
       "  <line x1=\"25\" y1=\"0\" x2=\"25\" y2=\"25\" />\n",
       "  <line x1=\"26\" y1=\"0\" x2=\"26\" y2=\"25\" />\n",
       "  <line x1=\"27\" y1=\"0\" x2=\"27\" y2=\"25\" />\n",
       "  <line x1=\"28\" y1=\"0\" x2=\"28\" y2=\"25\" />\n",
       "  <line x1=\"29\" y1=\"0\" x2=\"29\" y2=\"25\" />\n",
       "  <line x1=\"30\" y1=\"0\" x2=\"30\" y2=\"25\" style=\"stroke-width:2\" />\n",
       "\n",
       "  <!-- Colored Rectangle -->\n",
       "  <polygon points=\"0.0,0.0 30.2648561532247,0.0 30.2648561532247,25.412616514582485 0.0,25.412616514582485\" style=\"fill:#8B4903A0;stroke-width:0\"/>\n",
       "\n",
       "  <!-- Text -->\n",
       "  <text x=\"15.132428\" y=\"45.412617\" font-size=\"1.0rem\" font-weight=\"100\" text-anchor=\"middle\" >150</text>\n",
       "  <text x=\"50.264856\" y=\"12.706308\" font-size=\"1.0rem\" font-weight=\"100\" text-anchor=\"middle\" transform=\"rotate(0,50.264856,12.706308)\">1</text>\n",
       "\n",
       "\n",
       "  <!-- Horizontal lines -->\n",
       "  <line x1=\"100\" y1=\"0\" x2=\"114\" y2=\"14\" style=\"stroke-width:2\" />\n",
       "  <line x1=\"100\" y1=\"42\" x2=\"114\" y2=\"57\" />\n",
       "  <line x1=\"100\" y1=\"85\" x2=\"114\" y2=\"100\" />\n",
       "  <line x1=\"100\" y1=\"120\" x2=\"114\" y2=\"134\" style=\"stroke-width:2\" />\n",
       "\n",
       "  <!-- Vertical lines -->\n",
       "  <line x1=\"100\" y1=\"0\" x2=\"100\" y2=\"120\" style=\"stroke-width:2\" />\n",
       "  <line x1=\"114\" y1=\"14\" x2=\"114\" y2=\"134\" style=\"stroke-width:2\" />\n",
       "\n",
       "  <!-- Colored Rectangle -->\n",
       "  <polygon points=\"100.0,0.0 114.9485979497544,14.948597949754403 114.9485979497544,134.9485979497544 100.0,120.0\" style=\"fill:#ECB172A0;stroke-width:0\"/>\n",
       "\n",
       "  <!-- Horizontal lines -->\n",
       "  <line x1=\"100\" y1=\"0\" x2=\"220\" y2=\"0\" style=\"stroke-width:2\" />\n",
       "  <line x1=\"114\" y1=\"14\" x2=\"234\" y2=\"14\" style=\"stroke-width:2\" />\n",
       "\n",
       "  <!-- Vertical lines -->\n",
       "  <line x1=\"100\" y1=\"0\" x2=\"114\" y2=\"14\" style=\"stroke-width:2\" />\n",
       "  <line x1=\"142\" y1=\"0\" x2=\"157\" y2=\"14\" />\n",
       "  <line x1=\"185\" y1=\"0\" x2=\"200\" y2=\"14\" />\n",
       "  <line x1=\"220\" y1=\"0\" x2=\"234\" y2=\"14\" style=\"stroke-width:2\" />\n",
       "\n",
       "  <!-- Colored Rectangle -->\n",
       "  <polygon points=\"100.0,0.0 220.0,0.0 234.9485979497544,14.948597949754403 114.9485979497544,14.948597949754403\" style=\"fill:#ECB172A0;stroke-width:0\"/>\n",
       "\n",
       "  <!-- Horizontal lines -->\n",
       "  <line x1=\"114\" y1=\"14\" x2=\"234\" y2=\"14\" style=\"stroke-width:2\" />\n",
       "  <line x1=\"114\" y1=\"57\" x2=\"234\" y2=\"57\" />\n",
       "  <line x1=\"114\" y1=\"100\" x2=\"234\" y2=\"100\" />\n",
       "  <line x1=\"114\" y1=\"134\" x2=\"234\" y2=\"134\" style=\"stroke-width:2\" />\n",
       "\n",
       "  <!-- Vertical lines -->\n",
       "  <line x1=\"114\" y1=\"14\" x2=\"114\" y2=\"134\" style=\"stroke-width:2\" />\n",
       "  <line x1=\"157\" y1=\"14\" x2=\"157\" y2=\"134\" />\n",
       "  <line x1=\"200\" y1=\"14\" x2=\"200\" y2=\"134\" />\n",
       "  <line x1=\"234\" y1=\"14\" x2=\"234\" y2=\"134\" style=\"stroke-width:2\" />\n",
       "\n",
       "  <!-- Colored Rectangle -->\n",
       "  <polygon points=\"114.9485979497544,14.948597949754403 234.9485979497544,14.948597949754403 234.9485979497544,134.9485979497544 114.9485979497544,134.9485979497544\" style=\"fill:#ECB172A0;stroke-width:0\"/>\n",
       "\n",
       "  <!-- Text -->\n",
       "  <text x=\"174.948598\" y=\"154.948598\" font-size=\"1.0rem\" font-weight=\"100\" text-anchor=\"middle\" >6048</text>\n",
       "  <text x=\"254.948598\" y=\"74.948598\" font-size=\"1.0rem\" font-weight=\"100\" text-anchor=\"middle\" transform=\"rotate(-90,254.948598,74.948598)\">6048</text>\n",
       "  <text x=\"97.474299\" y=\"147.474299\" font-size=\"1.0rem\" font-weight=\"100\" text-anchor=\"middle\" transform=\"rotate(45,97.474299,147.474299)\">2</text>\n",
       "</svg>\n",
       "        </td>\n",
       "    </tr>\n",
       "</table>"
      ],
      "text/plain": [
       "dask.array<max-aggregate, shape=(150, 2, 6048, 6048), dtype=uint16, chunksize=(1, 2, 2160, 2160), chunktype=numpy.ndarray>"
      ]
     },
     "execution_count": 123,
     "metadata": {},
     "output_type": "execute_result"
    }
   ],
   "source": [
    "%%time\n",
    "# image_dir = os.path.join(base_dir, 'macrohet_images/Images_8bit')\n",
    "image_dir = os.path.join(base_dir, 'acquisition/Images')\n",
    "images = tile.compile_mosaic(image_dir, \n",
    "                             metadata, \n",
    "                             row, column, \n",
    "                             # subset_field_IDs=['16', '17',  '20', '21'], \n",
    "                             # n_tile_rows = 2, n_tile_cols = 2,\n",
    "                             set_plane='max_proj',\n",
    "                             # set_channel=1,\n",
    "                             # set_time = 1,\n",
    "#                             input_transforms = [input_transforms]\n",
    "                            )#.compute().compute()\n",
    "images"
   ]
  },
  {
   "cell_type": "code",
   "execution_count": 101,
   "id": "c4fb8dee-1183-4557-af6d-ed3bfc61aa0d",
   "metadata": {},
   "outputs": [
    {
     "name": "stdout",
     "output_type": "stream",
     "text": [
      "CPU times: user 6h 36min 7s, sys: 49min 7s, total: 7h 25min 14s\n",
      "Wall time: 53min 52s\n"
     ]
    }
   ],
   "source": [
    "%%time \n",
    "### this is NEMO\n",
    "images = images.compute().compute()"
   ]
  },
  {
   "cell_type": "code",
   "execution_count": 125,
   "id": "57b12472-db2d-4a03-b0fa-a6bdd5437cda",
   "metadata": {},
   "outputs": [
    {
     "name": "stdout",
     "output_type": "stream",
     "text": [
      "CPU times: user 6h 29min 13s, sys: 48min 21s, total: 7h 17min 35s\n",
      "Wall time: 29min 14s\n"
     ]
    }
   ],
   "source": [
    "%%time \n",
    "### this is SYNO\n",
    "images = images.compute().compute()"
   ]
  },
  {
   "cell_type": "code",
   "execution_count": 154,
   "id": "177b6605",
   "metadata": {},
   "outputs": [
    {
     "data": {
      "text/plain": [
       "(150, 2, 6048, 6048)"
      ]
     },
     "execution_count": 154,
     "metadata": {},
     "output_type": "execute_result"
    }
   ],
   "source": [
    "images.shape"
   ]
  },
  {
   "cell_type": "code",
   "execution_count": 127,
   "id": "025c5596-b983-4df8-adfd-e779356e7ef6",
   "metadata": {},
   "outputs": [
    {
     "data": {
      "text/plain": [
       "[<Image layer 'Image' at 0x7f59a772ea60>,\n",
       " <Image layer 'Image [1]' at 0x7f599434e040>]"
      ]
     },
     "execution_count": 127,
     "metadata": {},
     "output_type": "execute_result"
    }
   ],
   "source": [
    "viewer = napari.Viewer(title = f'testing speed of image load fgrom syno {expt_ID}')\n",
    "\n",
    "viewer.add_image(images, channel_axis = 1)"
   ]
  },
  {
   "cell_type": "code",
   "execution_count": 137,
   "id": "ec40363c-45c5-4661-8d45-77a699fe02ab",
   "metadata": {},
   "outputs": [],
   "source": [
    "import btrack\n",
    "scale_factor = 1/5.04"
   ]
  },
  {
   "cell_type": "code",
   "execution_count": 135,
   "id": "a4b78e44-90d3-4240-b3aa-d5792a92549e",
   "metadata": {},
   "outputs": [
    {
     "name": "stderr",
     "output_type": "stream",
     "text": [
      "[INFO][2024/01/16 04:38:30 pm] Opening HDF file: /mnt/SYNO/macrohet_syno/ND0002/labels/testing_(3, 4).h5...\n",
      "INFO:btrack.io.hdf:Opening HDF file: /mnt/SYNO/macrohet_syno/ND0002/labels/testing_(3, 4).h5...\n",
      "[INFO][2024/01/16 04:38:30 pm] Loading tracks/obj_type_1\n",
      "INFO:btrack.io.hdf:Loading tracks/obj_type_1\n",
      "[INFO][2024/01/16 04:38:30 pm] Loading LBEP/obj_type_1\n",
      "INFO:btrack.io.hdf:Loading LBEP/obj_type_1\n",
      "[INFO][2024/01/16 04:38:31 pm] Loading objects/obj_type_1 (72361, 5) (72361 filtered: None)\n",
      "INFO:btrack.io.hdf:Loading objects/obj_type_1 (72361, 5) (72361 filtered: None)\n",
      "[INFO][2024/01/16 04:39:26 pm] Loading segmentation (150, 6048, 6048)\n",
      "INFO:btrack.io.hdf:Loading segmentation (150, 6048, 6048)\n",
      "[INFO][2024/01/16 04:39:26 pm] Closing HDF file: /mnt/SYNO/macrohet_syno/ND0002/labels/testing_(3, 4).h5\n",
      "INFO:btrack.io.hdf:Closing HDF file: /mnt/SYNO/macrohet_syno/ND0002/labels/testing_(3, 4).h5\n"
     ]
    }
   ],
   "source": [
    "with btrack.io.HDF5FileHandler(os.path.join(base_dir, f'labels/testing_{row, column}.h5'), \n",
    "                                   'r', \n",
    "                                   obj_type='obj_type_1'\n",
    "                                   ) as reader:\n",
    "#             writer.write_objects(objects)\n",
    "        tracks = reader.tracks\n",
    "        segmentation = reader.segmentation"
   ]
  },
  {
   "cell_type": "code",
   "execution_count": 138,
   "id": "28cf47a0-7968-4829-a95c-4e63caa8f651",
   "metadata": {},
   "outputs": [],
   "source": [
    "recolored_segmentation = btrack.utils.update_segmentation(segmentation, tracks ,scale = (1/scale_factor,1/scale_factor))"
   ]
  },
  {
   "cell_type": "code",
   "execution_count": 139,
   "id": "3bceba35-dca8-44d5-bade-8dcab6e7fb4c",
   "metadata": {},
   "outputs": [],
   "source": [
    "filtered_tracks = [t for t in tracks if len(t)>15]"
   ]
  },
  {
   "cell_type": "code",
   "execution_count": 140,
   "id": "ca558672-ef0b-418a-8caa-013c6f643c5f",
   "metadata": {},
   "outputs": [],
   "source": [
    "napari_tracks, _, _ = btrack.utils.tracks_to_napari(filtered_tracks, ndim = 2)"
   ]
  },
  {
   "cell_type": "code",
   "execution_count": 148,
   "id": "f303654d-a4bd-4632-b380-f2ffc22eb102",
   "metadata": {},
   "outputs": [
    {
     "data": {
      "text/plain": [
       "<Tracks layer 'napari_tracks [2]' at 0x7f59308f8f10>"
      ]
     },
     "execution_count": 148,
     "metadata": {},
     "output_type": "execute_result"
    }
   ],
   "source": [
    "viewer.add_tracks(napari_tracks, scale = (20, 1/scale_factor,1/scale_factor,))"
   ]
  },
  {
   "cell_type": "code",
   "execution_count": 143,
   "id": "29ac43dd-89ed-4a24-b948-d28cadd29e98",
   "metadata": {},
   "outputs": [
    {
     "data": {
      "text/plain": [
       "<Labels layer 'recolored_segmentation' at 0x7f59302664c0>"
      ]
     },
     "execution_count": 143,
     "metadata": {},
     "output_type": "execute_result"
    }
   ],
   "source": [
    "viewer.add_labels(recolored_segmentation)"
   ]
  },
  {
   "cell_type": "code",
   "execution_count": 150,
   "id": "9faf0749-a921-415c-b871-4d33abecba61",
   "metadata": {},
   "outputs": [
    {
     "data": {
      "text/plain": [
       "(2, 6048, 6048)"
      ]
     },
     "execution_count": 150,
     "metadata": {},
     "output_type": "execute_result"
    }
   ],
   "source": [
    ".shape"
   ]
  },
  {
   "cell_type": "code",
   "execution_count": 153,
   "id": "ef52f821-ca8c-460d-b4b6-3605af309bd6",
   "metadata": {},
   "outputs": [
    {
     "data": {
      "text/plain": [
       "[<Image layer 'Image [2]' at 0x7f5930e65f10>,\n",
       " <Image layer 'Image [3]' at 0x7f59308a8790>]"
      ]
     },
     "execution_count": 153,
     "metadata": {},
     "output_type": "execute_result"
    }
   ],
   "source": [
    "viewer.add_image(images[14], channel_axis=0)"
   ]
  },
  {
   "cell_type": "code",
   "execution_count": 142,
   "id": "1abfa6e6-9edd-4210-b304-c358e9af054f",
   "metadata": {},
   "outputs": [
    {
     "name": "stdout",
     "output_type": "stream",
     "text": [
      "\n"
     ]
    }
   ],
   "source": [
    "print()"
   ]
  },
  {
   "cell_type": "code",
   "execution_count": 155,
   "id": "a334f7cc-11ce-43c7-a924-0c699cd28a6e",
   "metadata": {},
   "outputs": [
    {
     "data": {
      "text/plain": [
       "'/mnt/SYNO/macrohet_syno/ND0002/'"
      ]
     },
     "execution_count": 155,
     "metadata": {},
     "output_type": "execute_result"
    }
   ],
   "source": [
    "base_dir"
   ]
  },
  {
   "cell_type": "code",
   "execution_count": 156,
   "id": "c60f217c-e303-4cd9-ac48-bc96ca74ba41",
   "metadata": {
    "scrolled": true
   },
   "outputs": [
    {
     "name": "stderr",
     "output_type": "stream",
     "text": [
      "[INFO][2024/01/17 09:36:12 am] Opening HDF file: /mnt/SYNO/macrohet_syno/ND0002/labels/testing_(3, 4).h5...\n",
      "INFO:btrack.io.hdf:Opening HDF file: /mnt/SYNO/macrohet_syno/ND0002/labels/testing_(3, 4).h5...\n",
      "[INFO][2024/01/17 09:36:12 am] Loading tracks/obj_type_1\n",
      "INFO:btrack.io.hdf:Loading tracks/obj_type_1\n",
      "[INFO][2024/01/17 09:36:12 am] Loading LBEP/obj_type_1\n",
      "INFO:btrack.io.hdf:Loading LBEP/obj_type_1\n",
      "[INFO][2024/01/17 09:36:13 am] Loading objects/obj_type_1 (72361, 5) (72361 filtered: None)\n",
      "INFO:btrack.io.hdf:Loading objects/obj_type_1 (72361, 5) (72361 filtered: None)\n",
      "[INFO][2024/01/17 09:36:15 am] Closing HDF file: /mnt/SYNO/macrohet_syno/ND0002/labels/testing_(3, 4).h5\n",
      "INFO:btrack.io.hdf:Closing HDF file: /mnt/SYNO/macrohet_syno/ND0002/labels/testing_(3, 4).h5\n",
      "[INFO][2024/01/17 09:36:15 am] Opening HDF file: /mnt/SYNO/macrohet_syno/ND0002/labels/testing_(3, 4)_config_segrate_0.05_probass_0.05.json.h5...\n",
      "INFO:btrack.io.hdf:Opening HDF file: /mnt/SYNO/macrohet_syno/ND0002/labels/testing_(3, 4)_config_segrate_0.05_probass_0.05.json.h5...\n",
      "[INFO][2024/01/17 09:36:16 am] Loading tracks/obj_type_1\n",
      "INFO:btrack.io.hdf:Loading tracks/obj_type_1\n",
      "[INFO][2024/01/17 09:36:16 am] Loading LBEP/obj_type_1\n",
      "INFO:btrack.io.hdf:Loading LBEP/obj_type_1\n",
      "[INFO][2024/01/17 09:36:16 am] Loading objects/obj_type_1 (72015, 5) (72015 filtered: None)\n",
      "INFO:btrack.io.hdf:Loading objects/obj_type_1 (72015, 5) (72015 filtered: None)\n",
      "[INFO][2024/01/17 09:36:18 am] Closing HDF file: /mnt/SYNO/macrohet_syno/ND0002/labels/testing_(3, 4)_config_segrate_0.05_probass_0.05.json.h5\n",
      "INFO:btrack.io.hdf:Closing HDF file: /mnt/SYNO/macrohet_syno/ND0002/labels/testing_(3, 4)_config_segrate_0.05_probass_0.05.json.h5\n",
      "[INFO][2024/01/17 09:36:18 am] Opening HDF file: /mnt/SYNO/macrohet_syno/ND0002/labels/testing_(3, 4)_config_segrate_0.05_probass_0.1.json.h5...\n",
      "INFO:btrack.io.hdf:Opening HDF file: /mnt/SYNO/macrohet_syno/ND0002/labels/testing_(3, 4)_config_segrate_0.05_probass_0.1.json.h5...\n",
      "[INFO][2024/01/17 09:36:18 am] Loading tracks/obj_type_1\n",
      "INFO:btrack.io.hdf:Loading tracks/obj_type_1\n",
      "[INFO][2024/01/17 09:36:19 am] Loading LBEP/obj_type_1\n",
      "INFO:btrack.io.hdf:Loading LBEP/obj_type_1\n",
      "[INFO][2024/01/17 09:36:19 am] Loading objects/obj_type_1 (72361, 5) (72361 filtered: None)\n",
      "INFO:btrack.io.hdf:Loading objects/obj_type_1 (72361, 5) (72361 filtered: None)\n",
      "[INFO][2024/01/17 09:36:21 am] Closing HDF file: /mnt/SYNO/macrohet_syno/ND0002/labels/testing_(3, 4)_config_segrate_0.05_probass_0.1.json.h5\n",
      "INFO:btrack.io.hdf:Closing HDF file: /mnt/SYNO/macrohet_syno/ND0002/labels/testing_(3, 4)_config_segrate_0.05_probass_0.1.json.h5\n",
      "[INFO][2024/01/17 09:36:21 am] Opening HDF file: /mnt/SYNO/macrohet_syno/ND0002/labels/testing_(3, 4)_config_segrate_0.05_probass_0.15000000000000002.json.h5...\n",
      "INFO:btrack.io.hdf:Opening HDF file: /mnt/SYNO/macrohet_syno/ND0002/labels/testing_(3, 4)_config_segrate_0.05_probass_0.15000000000000002.json.h5...\n",
      "[INFO][2024/01/17 09:36:21 am] Loading tracks/obj_type_1\n",
      "INFO:btrack.io.hdf:Loading tracks/obj_type_1\n",
      "[INFO][2024/01/17 09:36:21 am] Loading LBEP/obj_type_1\n",
      "INFO:btrack.io.hdf:Loading LBEP/obj_type_1\n",
      "[INFO][2024/01/17 09:36:22 am] Loading objects/obj_type_1 (72365, 5) (72365 filtered: None)\n",
      "INFO:btrack.io.hdf:Loading objects/obj_type_1 (72365, 5) (72365 filtered: None)\n",
      "[INFO][2024/01/17 09:36:23 am] Closing HDF file: /mnt/SYNO/macrohet_syno/ND0002/labels/testing_(3, 4)_config_segrate_0.05_probass_0.15000000000000002.json.h5\n",
      "INFO:btrack.io.hdf:Closing HDF file: /mnt/SYNO/macrohet_syno/ND0002/labels/testing_(3, 4)_config_segrate_0.05_probass_0.15000000000000002.json.h5\n",
      "[INFO][2024/01/17 09:36:24 am] Opening HDF file: /mnt/SYNO/macrohet_syno/ND0002/labels/testing_(3, 4)_config_segrate_0.1_probass_0.05.json.h5...\n",
      "INFO:btrack.io.hdf:Opening HDF file: /mnt/SYNO/macrohet_syno/ND0002/labels/testing_(3, 4)_config_segrate_0.1_probass_0.05.json.h5...\n",
      "[INFO][2024/01/17 09:36:24 am] Loading tracks/obj_type_1\n",
      "INFO:btrack.io.hdf:Loading tracks/obj_type_1\n",
      "[INFO][2024/01/17 09:36:24 am] Loading LBEP/obj_type_1\n",
      "INFO:btrack.io.hdf:Loading LBEP/obj_type_1\n",
      "[INFO][2024/01/17 09:36:25 am] Loading objects/obj_type_1 (72015, 5) (72015 filtered: None)\n",
      "INFO:btrack.io.hdf:Loading objects/obj_type_1 (72015, 5) (72015 filtered: None)\n",
      "[INFO][2024/01/17 09:36:27 am] Closing HDF file: /mnt/SYNO/macrohet_syno/ND0002/labels/testing_(3, 4)_config_segrate_0.1_probass_0.05.json.h5\n",
      "INFO:btrack.io.hdf:Closing HDF file: /mnt/SYNO/macrohet_syno/ND0002/labels/testing_(3, 4)_config_segrate_0.1_probass_0.05.json.h5\n",
      "[INFO][2024/01/17 09:36:27 am] Opening HDF file: /mnt/SYNO/macrohet_syno/ND0002/labels/testing_(3, 4)_config_segrate_0.1_probass_0.1.json.h5...\n",
      "INFO:btrack.io.hdf:Opening HDF file: /mnt/SYNO/macrohet_syno/ND0002/labels/testing_(3, 4)_config_segrate_0.1_probass_0.1.json.h5...\n",
      "[INFO][2024/01/17 09:36:27 am] Loading tracks/obj_type_1\n",
      "INFO:btrack.io.hdf:Loading tracks/obj_type_1\n",
      "[INFO][2024/01/17 09:36:27 am] Loading LBEP/obj_type_1\n",
      "INFO:btrack.io.hdf:Loading LBEP/obj_type_1\n",
      "[INFO][2024/01/17 09:36:28 am] Loading objects/obj_type_1 (72361, 5) (72361 filtered: None)\n",
      "INFO:btrack.io.hdf:Loading objects/obj_type_1 (72361, 5) (72361 filtered: None)\n",
      "[INFO][2024/01/17 09:36:30 am] Closing HDF file: /mnt/SYNO/macrohet_syno/ND0002/labels/testing_(3, 4)_config_segrate_0.1_probass_0.1.json.h5\n",
      "INFO:btrack.io.hdf:Closing HDF file: /mnt/SYNO/macrohet_syno/ND0002/labels/testing_(3, 4)_config_segrate_0.1_probass_0.1.json.h5\n",
      "[INFO][2024/01/17 09:36:30 am] Opening HDF file: /mnt/SYNO/macrohet_syno/ND0002/labels/testing_(3, 4)_config_segrate_0.1_probass_0.15000000000000002.json.h5...\n",
      "INFO:btrack.io.hdf:Opening HDF file: /mnt/SYNO/macrohet_syno/ND0002/labels/testing_(3, 4)_config_segrate_0.1_probass_0.15000000000000002.json.h5...\n",
      "[INFO][2024/01/17 09:36:30 am] Loading tracks/obj_type_1\n",
      "INFO:btrack.io.hdf:Loading tracks/obj_type_1\n",
      "[INFO][2024/01/17 09:36:30 am] Loading LBEP/obj_type_1\n",
      "INFO:btrack.io.hdf:Loading LBEP/obj_type_1\n",
      "[INFO][2024/01/17 09:36:30 am] Loading objects/obj_type_1 (72365, 5) (72365 filtered: None)\n",
      "INFO:btrack.io.hdf:Loading objects/obj_type_1 (72365, 5) (72365 filtered: None)\n",
      "[INFO][2024/01/17 09:36:32 am] Closing HDF file: /mnt/SYNO/macrohet_syno/ND0002/labels/testing_(3, 4)_config_segrate_0.1_probass_0.15000000000000002.json.h5\n",
      "INFO:btrack.io.hdf:Closing HDF file: /mnt/SYNO/macrohet_syno/ND0002/labels/testing_(3, 4)_config_segrate_0.1_probass_0.15000000000000002.json.h5\n",
      "[INFO][2024/01/17 09:36:32 am] Opening HDF file: /mnt/SYNO/macrohet_syno/ND0002/labels/testing_(3, 4)_config_segrate_0.15000000000000002_probass_0.05.json.h5...\n",
      "INFO:btrack.io.hdf:Opening HDF file: /mnt/SYNO/macrohet_syno/ND0002/labels/testing_(3, 4)_config_segrate_0.15000000000000002_probass_0.05.json.h5...\n",
      "[INFO][2024/01/17 09:36:32 am] Loading tracks/obj_type_1\n",
      "INFO:btrack.io.hdf:Loading tracks/obj_type_1\n",
      "[INFO][2024/01/17 09:36:32 am] Loading LBEP/obj_type_1\n",
      "INFO:btrack.io.hdf:Loading LBEP/obj_type_1\n",
      "[INFO][2024/01/17 09:36:33 am] Loading objects/obj_type_1 (72015, 5) (72015 filtered: None)\n",
      "INFO:btrack.io.hdf:Loading objects/obj_type_1 (72015, 5) (72015 filtered: None)\n",
      "[INFO][2024/01/17 09:36:35 am] Closing HDF file: /mnt/SYNO/macrohet_syno/ND0002/labels/testing_(3, 4)_config_segrate_0.15000000000000002_probass_0.05.json.h5\n",
      "INFO:btrack.io.hdf:Closing HDF file: /mnt/SYNO/macrohet_syno/ND0002/labels/testing_(3, 4)_config_segrate_0.15000000000000002_probass_0.05.json.h5\n",
      "[INFO][2024/01/17 09:36:36 am] Opening HDF file: /mnt/SYNO/macrohet_syno/ND0002/labels/testing_(3, 4)_config_segrate_0.15000000000000002_probass_0.1.json.h5...\n",
      "INFO:btrack.io.hdf:Opening HDF file: /mnt/SYNO/macrohet_syno/ND0002/labels/testing_(3, 4)_config_segrate_0.15000000000000002_probass_0.1.json.h5...\n",
      "[INFO][2024/01/17 09:36:36 am] Loading tracks/obj_type_1\n",
      "INFO:btrack.io.hdf:Loading tracks/obj_type_1\n",
      "[INFO][2024/01/17 09:36:36 am] Loading LBEP/obj_type_1\n",
      "INFO:btrack.io.hdf:Loading LBEP/obj_type_1\n",
      "[INFO][2024/01/17 09:36:36 am] Loading objects/obj_type_1 (72361, 5) (72361 filtered: None)\n",
      "INFO:btrack.io.hdf:Loading objects/obj_type_1 (72361, 5) (72361 filtered: None)\n",
      "[INFO][2024/01/17 09:36:38 am] Closing HDF file: /mnt/SYNO/macrohet_syno/ND0002/labels/testing_(3, 4)_config_segrate_0.15000000000000002_probass_0.1.json.h5\n",
      "INFO:btrack.io.hdf:Closing HDF file: /mnt/SYNO/macrohet_syno/ND0002/labels/testing_(3, 4)_config_segrate_0.15000000000000002_probass_0.1.json.h5\n",
      "[INFO][2024/01/17 09:36:39 am] Opening HDF file: /mnt/SYNO/macrohet_syno/ND0002/labels/testing_(3, 4)_config_segrate_0.15000000000000002_probass_0.15000000000000002.json.h5...\n",
      "INFO:btrack.io.hdf:Opening HDF file: /mnt/SYNO/macrohet_syno/ND0002/labels/testing_(3, 4)_config_segrate_0.15000000000000002_probass_0.15000000000000002.json.h5...\n",
      "[INFO][2024/01/17 09:36:39 am] Loading tracks/obj_type_1\n",
      "INFO:btrack.io.hdf:Loading tracks/obj_type_1\n",
      "[INFO][2024/01/17 09:36:39 am] Loading LBEP/obj_type_1\n",
      "INFO:btrack.io.hdf:Loading LBEP/obj_type_1\n",
      "[INFO][2024/01/17 09:36:39 am] Loading objects/obj_type_1 (72365, 5) (72365 filtered: None)\n",
      "INFO:btrack.io.hdf:Loading objects/obj_type_1 (72365, 5) (72365 filtered: None)\n",
      "[INFO][2024/01/17 09:36:40 am] Closing HDF file: /mnt/SYNO/macrohet_syno/ND0002/labels/testing_(3, 4)_config_segrate_0.15000000000000002_probass_0.15000000000000002.json.h5\n",
      "INFO:btrack.io.hdf:Closing HDF file: /mnt/SYNO/macrohet_syno/ND0002/labels/testing_(3, 4)_config_segrate_0.15000000000000002_probass_0.15000000000000002.json.h5\n"
     ]
    }
   ],
   "source": [
    "for fn in glob.glob(os.path.join(base_dir, 'labels/testing*')):\n",
    "    \n",
    "    with btrack.io.HDF5FileHandler(fn, \n",
    "                                       'r', \n",
    "                                       obj_type='obj_type_1'\n",
    "                                       ) as reader:\n",
    "    #             writer.write_objects(objects)\n",
    "            tracks = reader.tracks\n",
    "            # segmentation = reader.segmentation\n",
    "    filtered_tracks = [t for t in tracks if len(t)>15]\n",
    "    napari_tracks, _, _ = btrack.utils.tracks_to_napari(filtered_tracks, ndim = 2)\n",
    "    viewer.add_tracks(napari_tracks, scale = (1/scale_factor,1/scale_factor,), name = os.path.basename(fn))"
   ]
  },
  {
   "cell_type": "markdown",
   "id": "d2dfd790-7941-44f9-ab31-2e2633e02cbb",
   "metadata": {},
   "source": [
    "### Coarse measure of cell tracking performance"
   ]
  },
  {
   "cell_type": "code",
   "execution_count": 157,
   "id": "6a2a1da0-da68-4867-a53e-eb9ab1f636ff",
   "metadata": {},
   "outputs": [],
   "source": [
    "import matplotlib.pyplot as plt"
   ]
  },
  {
   "cell_type": "code",
   "execution_count": null,
   "id": "dc87bcac-7217-4947-b48c-f4747c89198a",
   "metadata": {},
   "outputs": [],
   "source": []
  },
  {
   "cell_type": "code",
   "execution_count": 161,
   "id": "0b242fe9-5c08-4727-b869-2ed2077f7249",
   "metadata": {},
   "outputs": [
    {
     "name": "stderr",
     "output_type": "stream",
     "text": [
      "[INFO][2024/01/17 10:00:41 am] Opening HDF file: /mnt/SYNO/macrohet_syno/ND0002/labels/testing_(3, 4).h5...\n",
      "INFO:btrack.io.hdf:Opening HDF file: /mnt/SYNO/macrohet_syno/ND0002/labels/testing_(3, 4).h5...\n",
      "[INFO][2024/01/17 10:00:41 am] Loading tracks/obj_type_1\n",
      "INFO:btrack.io.hdf:Loading tracks/obj_type_1\n",
      "[INFO][2024/01/17 10:00:41 am] Loading LBEP/obj_type_1\n",
      "INFO:btrack.io.hdf:Loading LBEP/obj_type_1\n",
      "[INFO][2024/01/17 10:00:42 am] Loading objects/obj_type_1 (72361, 5) (72361 filtered: None)\n",
      "INFO:btrack.io.hdf:Loading objects/obj_type_1 (72361, 5) (72361 filtered: None)\n",
      "[INFO][2024/01/17 10:00:43 am] Closing HDF file: /mnt/SYNO/macrohet_syno/ND0002/labels/testing_(3, 4).h5\n",
      "INFO:btrack.io.hdf:Closing HDF file: /mnt/SYNO/macrohet_syno/ND0002/labels/testing_(3, 4).h5\n",
      "[INFO][2024/01/17 10:00:43 am] Opening HDF file: /mnt/SYNO/macrohet_syno/ND0002/labels/testing_(3, 4)_config_segrate_0.05_probass_0.05.json.h5...\n",
      "INFO:btrack.io.hdf:Opening HDF file: /mnt/SYNO/macrohet_syno/ND0002/labels/testing_(3, 4)_config_segrate_0.05_probass_0.05.json.h5...\n",
      "[INFO][2024/01/17 10:00:43 am] Loading tracks/obj_type_1\n",
      "INFO:btrack.io.hdf:Loading tracks/obj_type_1\n",
      "[INFO][2024/01/17 10:00:43 am] Loading LBEP/obj_type_1\n",
      "INFO:btrack.io.hdf:Loading LBEP/obj_type_1\n",
      "[INFO][2024/01/17 10:00:44 am] Loading objects/obj_type_1 (72015, 5) (72015 filtered: None)\n",
      "INFO:btrack.io.hdf:Loading objects/obj_type_1 (72015, 5) (72015 filtered: None)\n",
      "[INFO][2024/01/17 10:00:45 am] Closing HDF file: /mnt/SYNO/macrohet_syno/ND0002/labels/testing_(3, 4)_config_segrate_0.05_probass_0.05.json.h5\n",
      "INFO:btrack.io.hdf:Closing HDF file: /mnt/SYNO/macrohet_syno/ND0002/labels/testing_(3, 4)_config_segrate_0.05_probass_0.05.json.h5\n",
      "[INFO][2024/01/17 10:00:45 am] Opening HDF file: /mnt/SYNO/macrohet_syno/ND0002/labels/testing_(3, 4)_config_segrate_0.05_probass_0.1.json.h5...\n",
      "INFO:btrack.io.hdf:Opening HDF file: /mnt/SYNO/macrohet_syno/ND0002/labels/testing_(3, 4)_config_segrate_0.05_probass_0.1.json.h5...\n",
      "[INFO][2024/01/17 10:00:45 am] Loading tracks/obj_type_1\n",
      "INFO:btrack.io.hdf:Loading tracks/obj_type_1\n",
      "[INFO][2024/01/17 10:00:45 am] Loading LBEP/obj_type_1\n",
      "INFO:btrack.io.hdf:Loading LBEP/obj_type_1\n",
      "[INFO][2024/01/17 10:00:46 am] Loading objects/obj_type_1 (72361, 5) (72361 filtered: None)\n",
      "INFO:btrack.io.hdf:Loading objects/obj_type_1 (72361, 5) (72361 filtered: None)\n",
      "[INFO][2024/01/17 10:00:48 am] Closing HDF file: /mnt/SYNO/macrohet_syno/ND0002/labels/testing_(3, 4)_config_segrate_0.05_probass_0.1.json.h5\n",
      "INFO:btrack.io.hdf:Closing HDF file: /mnt/SYNO/macrohet_syno/ND0002/labels/testing_(3, 4)_config_segrate_0.05_probass_0.1.json.h5\n",
      "[INFO][2024/01/17 10:00:48 am] Opening HDF file: /mnt/SYNO/macrohet_syno/ND0002/labels/testing_(3, 4)_config_segrate_0.05_probass_0.15000000000000002.json.h5...\n",
      "INFO:btrack.io.hdf:Opening HDF file: /mnt/SYNO/macrohet_syno/ND0002/labels/testing_(3, 4)_config_segrate_0.05_probass_0.15000000000000002.json.h5...\n",
      "[INFO][2024/01/17 10:00:48 am] Loading tracks/obj_type_1\n",
      "INFO:btrack.io.hdf:Loading tracks/obj_type_1\n",
      "[INFO][2024/01/17 10:00:48 am] Loading LBEP/obj_type_1\n",
      "INFO:btrack.io.hdf:Loading LBEP/obj_type_1\n",
      "[INFO][2024/01/17 10:00:48 am] Loading objects/obj_type_1 (72365, 5) (72365 filtered: None)\n",
      "INFO:btrack.io.hdf:Loading objects/obj_type_1 (72365, 5) (72365 filtered: None)\n",
      "[INFO][2024/01/17 10:00:50 am] Closing HDF file: /mnt/SYNO/macrohet_syno/ND0002/labels/testing_(3, 4)_config_segrate_0.05_probass_0.15000000000000002.json.h5\n",
      "INFO:btrack.io.hdf:Closing HDF file: /mnt/SYNO/macrohet_syno/ND0002/labels/testing_(3, 4)_config_segrate_0.05_probass_0.15000000000000002.json.h5\n",
      "[INFO][2024/01/17 10:00:50 am] Opening HDF file: /mnt/SYNO/macrohet_syno/ND0002/labels/testing_(3, 4)_config_segrate_0.1_probass_0.05.json.h5...\n",
      "INFO:btrack.io.hdf:Opening HDF file: /mnt/SYNO/macrohet_syno/ND0002/labels/testing_(3, 4)_config_segrate_0.1_probass_0.05.json.h5...\n",
      "[INFO][2024/01/17 10:00:50 am] Loading tracks/obj_type_1\n",
      "INFO:btrack.io.hdf:Loading tracks/obj_type_1\n",
      "[INFO][2024/01/17 10:00:50 am] Loading LBEP/obj_type_1\n",
      "INFO:btrack.io.hdf:Loading LBEP/obj_type_1\n",
      "[INFO][2024/01/17 10:00:50 am] Loading objects/obj_type_1 (72015, 5) (72015 filtered: None)\n",
      "INFO:btrack.io.hdf:Loading objects/obj_type_1 (72015, 5) (72015 filtered: None)\n",
      "[INFO][2024/01/17 10:00:52 am] Closing HDF file: /mnt/SYNO/macrohet_syno/ND0002/labels/testing_(3, 4)_config_segrate_0.1_probass_0.05.json.h5\n",
      "INFO:btrack.io.hdf:Closing HDF file: /mnt/SYNO/macrohet_syno/ND0002/labels/testing_(3, 4)_config_segrate_0.1_probass_0.05.json.h5\n",
      "[INFO][2024/01/17 10:00:52 am] Opening HDF file: /mnt/SYNO/macrohet_syno/ND0002/labels/testing_(3, 4)_config_segrate_0.1_probass_0.1.json.h5...\n",
      "INFO:btrack.io.hdf:Opening HDF file: /mnt/SYNO/macrohet_syno/ND0002/labels/testing_(3, 4)_config_segrate_0.1_probass_0.1.json.h5...\n",
      "[INFO][2024/01/17 10:00:52 am] Loading tracks/obj_type_1\n",
      "INFO:btrack.io.hdf:Loading tracks/obj_type_1\n",
      "[INFO][2024/01/17 10:00:52 am] Loading LBEP/obj_type_1\n",
      "INFO:btrack.io.hdf:Loading LBEP/obj_type_1\n",
      "[INFO][2024/01/17 10:00:52 am] Loading objects/obj_type_1 (72361, 5) (72361 filtered: None)\n",
      "INFO:btrack.io.hdf:Loading objects/obj_type_1 (72361, 5) (72361 filtered: None)\n",
      "[INFO][2024/01/17 10:00:54 am] Closing HDF file: /mnt/SYNO/macrohet_syno/ND0002/labels/testing_(3, 4)_config_segrate_0.1_probass_0.1.json.h5\n",
      "INFO:btrack.io.hdf:Closing HDF file: /mnt/SYNO/macrohet_syno/ND0002/labels/testing_(3, 4)_config_segrate_0.1_probass_0.1.json.h5\n",
      "[INFO][2024/01/17 10:00:54 am] Opening HDF file: /mnt/SYNO/macrohet_syno/ND0002/labels/testing_(3, 4)_config_segrate_0.1_probass_0.15000000000000002.json.h5...\n",
      "INFO:btrack.io.hdf:Opening HDF file: /mnt/SYNO/macrohet_syno/ND0002/labels/testing_(3, 4)_config_segrate_0.1_probass_0.15000000000000002.json.h5...\n",
      "[INFO][2024/01/17 10:00:54 am] Loading tracks/obj_type_1\n",
      "INFO:btrack.io.hdf:Loading tracks/obj_type_1\n",
      "[INFO][2024/01/17 10:00:54 am] Loading LBEP/obj_type_1\n",
      "INFO:btrack.io.hdf:Loading LBEP/obj_type_1\n",
      "[INFO][2024/01/17 10:00:54 am] Loading objects/obj_type_1 (72365, 5) (72365 filtered: None)\n",
      "INFO:btrack.io.hdf:Loading objects/obj_type_1 (72365, 5) (72365 filtered: None)\n",
      "[INFO][2024/01/17 10:00:56 am] Closing HDF file: /mnt/SYNO/macrohet_syno/ND0002/labels/testing_(3, 4)_config_segrate_0.1_probass_0.15000000000000002.json.h5\n",
      "INFO:btrack.io.hdf:Closing HDF file: /mnt/SYNO/macrohet_syno/ND0002/labels/testing_(3, 4)_config_segrate_0.1_probass_0.15000000000000002.json.h5\n",
      "[INFO][2024/01/17 10:00:56 am] Opening HDF file: /mnt/SYNO/macrohet_syno/ND0002/labels/testing_(3, 4)_config_segrate_0.15000000000000002_probass_0.05.json.h5...\n",
      "INFO:btrack.io.hdf:Opening HDF file: /mnt/SYNO/macrohet_syno/ND0002/labels/testing_(3, 4)_config_segrate_0.15000000000000002_probass_0.05.json.h5...\n",
      "[INFO][2024/01/17 10:00:56 am] Loading tracks/obj_type_1\n",
      "INFO:btrack.io.hdf:Loading tracks/obj_type_1\n",
      "[INFO][2024/01/17 10:00:56 am] Loading LBEP/obj_type_1\n",
      "INFO:btrack.io.hdf:Loading LBEP/obj_type_1\n",
      "[INFO][2024/01/17 10:00:56 am] Loading objects/obj_type_1 (72015, 5) (72015 filtered: None)\n",
      "INFO:btrack.io.hdf:Loading objects/obj_type_1 (72015, 5) (72015 filtered: None)\n",
      "[INFO][2024/01/17 10:00:57 am] Closing HDF file: /mnt/SYNO/macrohet_syno/ND0002/labels/testing_(3, 4)_config_segrate_0.15000000000000002_probass_0.05.json.h5\n",
      "INFO:btrack.io.hdf:Closing HDF file: /mnt/SYNO/macrohet_syno/ND0002/labels/testing_(3, 4)_config_segrate_0.15000000000000002_probass_0.05.json.h5\n",
      "[INFO][2024/01/17 10:00:57 am] Opening HDF file: /mnt/SYNO/macrohet_syno/ND0002/labels/testing_(3, 4)_config_segrate_0.15000000000000002_probass_0.1.json.h5...\n",
      "INFO:btrack.io.hdf:Opening HDF file: /mnt/SYNO/macrohet_syno/ND0002/labels/testing_(3, 4)_config_segrate_0.15000000000000002_probass_0.1.json.h5...\n",
      "[INFO][2024/01/17 10:00:57 am] Loading tracks/obj_type_1\n",
      "INFO:btrack.io.hdf:Loading tracks/obj_type_1\n",
      "[INFO][2024/01/17 10:00:57 am] Loading LBEP/obj_type_1\n",
      "INFO:btrack.io.hdf:Loading LBEP/obj_type_1\n",
      "[INFO][2024/01/17 10:00:58 am] Loading objects/obj_type_1 (72361, 5) (72361 filtered: None)\n",
      "INFO:btrack.io.hdf:Loading objects/obj_type_1 (72361, 5) (72361 filtered: None)\n",
      "[INFO][2024/01/17 10:00:59 am] Closing HDF file: /mnt/SYNO/macrohet_syno/ND0002/labels/testing_(3, 4)_config_segrate_0.15000000000000002_probass_0.1.json.h5\n",
      "INFO:btrack.io.hdf:Closing HDF file: /mnt/SYNO/macrohet_syno/ND0002/labels/testing_(3, 4)_config_segrate_0.15000000000000002_probass_0.1.json.h5\n",
      "[INFO][2024/01/17 10:00:59 am] Opening HDF file: /mnt/SYNO/macrohet_syno/ND0002/labels/testing_(3, 4)_config_segrate_0.15000000000000002_probass_0.15000000000000002.json.h5...\n",
      "INFO:btrack.io.hdf:Opening HDF file: /mnt/SYNO/macrohet_syno/ND0002/labels/testing_(3, 4)_config_segrate_0.15000000000000002_probass_0.15000000000000002.json.h5...\n",
      "[INFO][2024/01/17 10:00:59 am] Loading tracks/obj_type_1\n",
      "INFO:btrack.io.hdf:Loading tracks/obj_type_1\n",
      "[INFO][2024/01/17 10:00:59 am] Loading LBEP/obj_type_1\n",
      "INFO:btrack.io.hdf:Loading LBEP/obj_type_1\n",
      "[INFO][2024/01/17 10:00:59 am] Loading objects/obj_type_1 (72365, 5) (72365 filtered: None)\n",
      "INFO:btrack.io.hdf:Loading objects/obj_type_1 (72365, 5) (72365 filtered: None)\n",
      "[INFO][2024/01/17 10:01:01 am] Closing HDF file: /mnt/SYNO/macrohet_syno/ND0002/labels/testing_(3, 4)_config_segrate_0.15000000000000002_probass_0.15000000000000002.json.h5\n",
      "INFO:btrack.io.hdf:Closing HDF file: /mnt/SYNO/macrohet_syno/ND0002/labels/testing_(3, 4)_config_segrate_0.15000000000000002_probass_0.15000000000000002.json.h5\n"
     ]
    },
    {
     "data": {
      "image/png": "[encoded data removed]",
      "text/plain": [
       "<Figure size 640x480 with 1 Axes>"
      ]
     },
     "metadata": {},
     "output_type": "display_data"
    }
   ],
   "source": [
    "# Optional: Define a list of colors if you want specific colors\n",
    "colors = ['red', 'green', 'blue', 'orange', 'purple', 'brown', 'pink', 'gray', 'olive', 'cyan']\n",
    "color_idx = 0\n",
    "\n",
    "for fn in glob.glob(os.path.join(base_dir, 'labels/testing*')):\n",
    "    with btrack.io.HDF5FileHandler(fn, 'r', obj_type='obj_type_1') as reader:\n",
    "        tracks = reader.tracks\n",
    "\n",
    "    # Plotting with varying colors and transparency\n",
    "    plt.hist([len(track) for track in tracks], color=colors[color_idx % len(colors)], alpha=0.1)\n",
    "\n",
    "    # Increment color index for next iteration\n",
    "    color_idx += 1\n",
    "\n",
    "# Set y-axis limit\n",
    "plt.ylim(0, 1000)\n",
    "\n",
    "# Display the plot\n",
    "plt.show()"
   ]
  },
  {
   "cell_type": "markdown",
   "id": "b239ce5f-a425-4ae6-93c4-3fa759ccc007",
   "metadata": {},
   "source": [
    "# Trying two channel segmentation"
   ]
  },
  {
   "cell_type": "code",
   "execution_count": 43,
   "id": "5f422cc4-0b28-4cfa-b477-39f222b19960",
   "metadata": {},
   "outputs": [
    {
     "name": "stdout",
     "output_type": "stream",
     "text": [
      "nvcc: NVIDIA (R) Cuda compiler driver\n",
      "Copyright (c) 2005-2019 NVIDIA Corporation\n",
      "Built on Sun_Jul_28_19:07:16_PDT_2019\n",
      "Cuda compilation tools, release 10.1, V10.1.243\n",
      "Thu Jan  4 15:27:14 2024       \n",
      "+---------------------------------------------------------------------------------------+\n",
      "| NVIDIA-SMI 545.23.08              Driver Version: 545.23.08    CUDA Version: 12.3     |\n",
      "|-----------------------------------------+----------------------+----------------------+\n",
      "| GPU  Name                 Persistence-M | Bus-Id        Disp.A | Volatile Uncorr. ECC |\n",
      "| Fan  Temp   Perf          Pwr:Usage/Cap |         Memory-Usage | GPU-Util  Compute M. |\n",
      "|                                         |                      |               MIG M. |\n",
      "|=========================================+======================+======================|\n",
      "|   0  NVIDIA RTX A6000               On  | 00000000:65:00.0  On |                  Off |\n",
      "| 30%   47C    P8              35W / 300W |   3352MiB / 49140MiB |      0%      Default |\n",
      "|                                         |                      |                  N/A |\n",
      "+-----------------------------------------+----------------------+----------------------+\n",
      "                                                                                         \n",
      "+---------------------------------------------------------------------------------------+\n",
      "| Processes:                                                                            |\n",
      "|  GPU   GI   CI        PID   Type   Process name                            GPU Memory |\n",
      "|        ID   ID                                                             Usage      |\n",
      "|=======================================================================================|\n",
      "|    0   N/A  N/A      2167      G   /usr/lib/xorg/Xorg                          426MiB |\n",
      "|    0   N/A  N/A      4155      G   /usr/bin/gnome-shell                        215MiB |\n",
      "|    0   N/A  N/A      4983    C+G   ...seed-version=20240102-180110.117000      132MiB |\n",
      "|    0   N/A  N/A      5561      G   ...miniconda3/envs/brassica/bin/python      237MiB |\n",
      "|    0   N/A  N/A     12577      G   ...AAAAAAAACAAAAAAAAAA= --shared-files       55MiB |\n",
      "|    0   N/A  N/A     12803    C+G   ...miniconda3/envs/brassica/bin/python     2239MiB |\n",
      "+---------------------------------------------------------------------------------------+\n"
     ]
    },
    {
     "name": "stderr",
     "output_type": "stream",
     "text": [
      "INFO:cellpose.core:** TORCH CUDA version installed and working. **\n"
     ]
    },
    {
     "name": "stdout",
     "output_type": "stream",
     "text": [
      ">>> GPU activated? YES\n"
     ]
    },
    {
     "name": "stderr",
     "output_type": "stream",
     "text": [
      "WARNING:cellpose.models:pretrained model has incorrect path\n",
      "INFO:cellpose.models:>> cyto << model set to be used\n",
      "INFO:cellpose.core:** TORCH CUDA version installed and working. **\n",
      "INFO:cellpose.core:>>>> using GPU\n",
      "INFO:cellpose.models:>>>> model diam_mean =  30.000 (ROIs rescaled to this size during training)\n"
     ]
    }
   ],
   "source": [
    "!nvcc --version\n",
    "!nvidia-smi\n",
    "\n",
    "from cellpose import core, utils, io, models, metrics\n",
    "\n",
    "use_GPU = core.use_gpu()\n",
    "yn = ['NO', 'YES']\n",
    "print(f'>>> GPU activated? {yn[use_GPU]}')\n",
    "\n",
    "# model = models.Cellpose(gpu=True, model_type='cyto')\n",
    "model_path = '/mnt/DATA/macrohet/upstream_development/segmentation/cellpose_training/models/models/macrohet_seg'\n",
    "model = models.CellposeModel(gpu=True, \n",
    "                             pretrained_model=model_path)\n",
    "def segment(img, diameter = 30, channels = [0,0]):\n",
    "    masks, flows, styles, diams = model.eval(img, diameter=diameter, channels=channels,\n",
    "                                             flow_threshold=None, cellprob_threshold=0)\n",
    "    return masks"
   ]
  },
  {
   "cell_type": "code",
   "execution_count": 36,
   "id": "99f150e6-3a67-49ad-89a1-7fa76b9b3e7c",
   "metadata": {},
   "outputs": [],
   "source": [
    "img = images[0]"
   ]
  },
  {
   "cell_type": "code",
   "execution_count": 37,
   "id": "e132b247-8959-421d-8be9-5bbbb5ea4e3d",
   "metadata": {},
   "outputs": [
    {
     "data": {
      "text/plain": [
       "(2, 6048, 6048)"
      ]
     },
     "execution_count": 37,
     "metadata": {},
     "output_type": "execute_result"
    }
   ],
   "source": [
    "img.shape"
   ]
  },
  {
   "cell_type": "code",
   "execution_count": 44,
   "id": "b1e06e6e-2c92-42e5-8fc4-bfece40a4c7e",
   "metadata": {},
   "outputs": [
    {
     "ename": "ValueError",
     "evalue": "not enough values to unpack (expected 4, got 3)",
     "output_type": "error",
     "traceback": [
      "\u001b[0;31m---------------------------------------------------------------------------\u001b[0m",
      "\u001b[0;31mValueError\u001b[0m                                Traceback (most recent call last)",
      "Cell \u001b[0;32mIn[44], line 1\u001b[0m\n\u001b[0;32m----> 1\u001b[0m masks \u001b[38;5;241m=\u001b[39m \u001b[43msegment\u001b[49m\u001b[43m(\u001b[49m\u001b[43mimg\u001b[49m\u001b[43m,\u001b[49m\u001b[43m \u001b[49m\u001b[43mdiameter\u001b[49m\u001b[43m \u001b[49m\u001b[38;5;241;43m=\u001b[39;49m\u001b[43m \u001b[49m\u001b[38;5;28;43;01mNone\u001b[39;49;00m\u001b[43m)\u001b[49m\n",
      "Cell \u001b[0;32mIn[43], line 15\u001b[0m, in \u001b[0;36msegment\u001b[0;34m(img, diameter, channels)\u001b[0m\n\u001b[1;32m     14\u001b[0m \u001b[38;5;28;01mdef\u001b[39;00m \u001b[38;5;21msegment\u001b[39m(img, diameter \u001b[38;5;241m=\u001b[39m \u001b[38;5;241m30\u001b[39m, channels \u001b[38;5;241m=\u001b[39m [\u001b[38;5;241m0\u001b[39m,\u001b[38;5;241m0\u001b[39m]):\n\u001b[0;32m---> 15\u001b[0m     masks, flows, styles, diams \u001b[38;5;241m=\u001b[39m model\u001b[38;5;241m.\u001b[39meval(img, diameter\u001b[38;5;241m=\u001b[39mdiameter, channels\u001b[38;5;241m=\u001b[39mchannels,\n\u001b[1;32m     16\u001b[0m                                              flow_threshold\u001b[38;5;241m=\u001b[39m\u001b[38;5;28;01mNone\u001b[39;00m, cellprob_threshold\u001b[38;5;241m=\u001b[39m\u001b[38;5;241m0\u001b[39m)\n\u001b[1;32m     17\u001b[0m     \u001b[38;5;28;01mreturn\u001b[39;00m masks\n",
      "\u001b[0;31mValueError\u001b[0m: not enough values to unpack (expected 4, got 3)"
     ]
    }
   ],
   "source": [
    "masks = segment(img, diameter = None)"
   ]
  },
  {
   "cell_type": "code",
   "execution_count": 57,
   "id": "bdb4c260-1781-458e-968f-bc50f6c1c57b",
   "metadata": {},
   "outputs": [
    {
     "name": "stderr",
     "output_type": "stream",
     "text": [
      "INFO:cellpose.core:** TORCH CUDA version installed and working. **\n",
      "INFO:cellpose.core:>>>> using GPU\n",
      "INFO:cellpose.models:>> cyto << model set to be used\n",
      "INFO:cellpose.models:>>>> model diam_mean =  30.000 (ROIs rescaled to this size during training)\n",
      "INFO:cellpose.models:~~~ FINDING MASKS ~~~\n",
      "INFO:cellpose.models:>>>> TOTAL TIME 112.45 sec\n"
     ]
    }
   ],
   "source": [
    "model = models.Cellpose(gpu=True, model_type='cyto')\n",
    "output = model.eval(img, diameter = 300)#, diameter=diameter, channels=channels,\n",
    "                                             # flow_threshold=None, cellprob_threshold=0)"
   ]
  },
  {
   "cell_type": "code",
   "execution_count": 58,
   "id": "93834733-eb5d-44aa-b9ea-4c48fc473c80",
   "metadata": {},
   "outputs": [],
   "source": [
    "output[0].shape\n",
    "masks = output[0]"
   ]
  },
  {
   "cell_type": "code",
   "execution_count": 59,
   "id": "37e962e0-a40f-45e3-b156-c21101cb63fa",
   "metadata": {},
   "outputs": [
    {
     "data": {
      "text/plain": [
       "<Labels layer 'masks [3]' at 0x7effa00f3d90>"
      ]
     },
     "execution_count": 59,
     "metadata": {},
     "output_type": "execute_result"
    }
   ],
   "source": [
    "viewer.add_labels(masks)"
   ]
  },
  {
   "cell_type": "code",
   "execution_count": 48,
   "id": "2400e600-d8c3-4c64-ba98-068f18eff1f4",
   "metadata": {},
   "outputs": [
    {
     "name": "stdout",
     "output_type": "stream",
     "text": [
      "\n"
     ]
    }
   ],
   "source": [
    "print()"
   ]
  },
  {
   "cell_type": "code",
   "execution_count": 72,
   "id": "7e5f1305-5323-4f4d-9a2e-649cf6858222",
   "metadata": {},
   "outputs": [
    {
     "data": {
      "text/html": [
       "<table>\n",
       "    <tr>\n",
       "        <td>\n",
       "            <table style=\"border-collapse: collapse;\">\n",
       "                <thead>\n",
       "                    <tr>\n",
       "                        <td> </td>\n",
       "                        <th> Array </th>\n",
       "                        <th> Chunk </th>\n",
       "                    </tr>\n",
       "                </thead>\n",
       "                <tbody>\n",
       "                    \n",
       "                    <tr>\n",
       "                        <th> Bytes </th>\n",
       "                        <td> 139.54 MiB </td>\n",
       "                        <td> 17.80 MiB </td>\n",
       "                    </tr>\n",
       "                    \n",
       "                    <tr>\n",
       "                        <th> Shape </th>\n",
       "                        <td> (2, 6048, 6048) </td>\n",
       "                        <td> (2, 2160, 2160) </td>\n",
       "                    </tr>\n",
       "                    <tr>\n",
       "                        <th> Dask graph </th>\n",
       "                        <td colspan=\"2\"> 9 chunks in 3606 graph layers </td>\n",
       "                    </tr>\n",
       "                    <tr>\n",
       "                        <th> Data type </th>\n",
       "                        <td colspan=\"2\"> uint16 numpy.ndarray </td>\n",
       "                    </tr>\n",
       "                </tbody>\n",
       "            </table>\n",
       "        </td>\n",
       "        <td>\n",
       "        <svg width=\"194\" height=\"184\" style=\"stroke:rgb(0,0,0);stroke-width:1\" >\n",
       "\n",
       "  <!-- Horizontal lines -->\n",
       "  <line x1=\"10\" y1=\"0\" x2=\"24\" y2=\"14\" style=\"stroke-width:2\" />\n",
       "  <line x1=\"10\" y1=\"42\" x2=\"24\" y2=\"57\" />\n",
       "  <line x1=\"10\" y1=\"85\" x2=\"24\" y2=\"100\" />\n",
       "  <line x1=\"10\" y1=\"120\" x2=\"24\" y2=\"134\" style=\"stroke-width:2\" />\n",
       "\n",
       "  <!-- Vertical lines -->\n",
       "  <line x1=\"10\" y1=\"0\" x2=\"10\" y2=\"120\" style=\"stroke-width:2\" />\n",
       "  <line x1=\"24\" y1=\"14\" x2=\"24\" y2=\"134\" style=\"stroke-width:2\" />\n",
       "\n",
       "  <!-- Colored Rectangle -->\n",
       "  <polygon points=\"10.0,0.0 24.9485979497544,14.948597949754403 24.9485979497544,134.9485979497544 10.0,120.0\" style=\"fill:#ECB172A0;stroke-width:0\"/>\n",
       "\n",
       "  <!-- Horizontal lines -->\n",
       "  <line x1=\"10\" y1=\"0\" x2=\"130\" y2=\"0\" style=\"stroke-width:2\" />\n",
       "  <line x1=\"24\" y1=\"14\" x2=\"144\" y2=\"14\" style=\"stroke-width:2\" />\n",
       "\n",
       "  <!-- Vertical lines -->\n",
       "  <line x1=\"10\" y1=\"0\" x2=\"24\" y2=\"14\" style=\"stroke-width:2\" />\n",
       "  <line x1=\"52\" y1=\"0\" x2=\"67\" y2=\"14\" />\n",
       "  <line x1=\"95\" y1=\"0\" x2=\"110\" y2=\"14\" />\n",
       "  <line x1=\"130\" y1=\"0\" x2=\"144\" y2=\"14\" style=\"stroke-width:2\" />\n",
       "\n",
       "  <!-- Colored Rectangle -->\n",
       "  <polygon points=\"10.0,0.0 130.0,0.0 144.9485979497544,14.948597949754403 24.9485979497544,14.948597949754403\" style=\"fill:#ECB172A0;stroke-width:0\"/>\n",
       "\n",
       "  <!-- Horizontal lines -->\n",
       "  <line x1=\"24\" y1=\"14\" x2=\"144\" y2=\"14\" style=\"stroke-width:2\" />\n",
       "  <line x1=\"24\" y1=\"57\" x2=\"144\" y2=\"57\" />\n",
       "  <line x1=\"24\" y1=\"100\" x2=\"144\" y2=\"100\" />\n",
       "  <line x1=\"24\" y1=\"134\" x2=\"144\" y2=\"134\" style=\"stroke-width:2\" />\n",
       "\n",
       "  <!-- Vertical lines -->\n",
       "  <line x1=\"24\" y1=\"14\" x2=\"24\" y2=\"134\" style=\"stroke-width:2\" />\n",
       "  <line x1=\"67\" y1=\"14\" x2=\"67\" y2=\"134\" />\n",
       "  <line x1=\"110\" y1=\"14\" x2=\"110\" y2=\"134\" />\n",
       "  <line x1=\"144\" y1=\"14\" x2=\"144\" y2=\"134\" style=\"stroke-width:2\" />\n",
       "\n",
       "  <!-- Colored Rectangle -->\n",
       "  <polygon points=\"24.9485979497544,14.948597949754403 144.9485979497544,14.948597949754403 144.9485979497544,134.9485979497544 24.9485979497544,134.9485979497544\" style=\"fill:#ECB172A0;stroke-width:0\"/>\n",
       "\n",
       "  <!-- Text -->\n",
       "  <text x=\"84.948598\" y=\"154.948598\" font-size=\"1.0rem\" font-weight=\"100\" text-anchor=\"middle\" >6048</text>\n",
       "  <text x=\"164.948598\" y=\"74.948598\" font-size=\"1.0rem\" font-weight=\"100\" text-anchor=\"middle\" transform=\"rotate(-90,164.948598,74.948598)\">6048</text>\n",
       "  <text x=\"7.474299\" y=\"147.474299\" font-size=\"1.0rem\" font-weight=\"100\" text-anchor=\"middle\" transform=\"rotate(45,7.474299,147.474299)\">2</text>\n",
       "</svg>\n",
       "        </td>\n",
       "    </tr>\n",
       "</table>"
      ],
      "text/plain": [
       "dask.array<getitem, shape=(2, 6048, 6048), dtype=uint16, chunksize=(2, 2160, 2160), chunktype=numpy.ndarray>"
      ]
     },
     "execution_count": 72,
     "metadata": {},
     "output_type": "execute_result"
    }
   ],
   "source": [
    "img"
   ]
  },
  {
   "cell_type": "markdown",
   "id": "cc843eb2-5ec4-488b-a3c3-817d1698307a",
   "metadata": {},
   "source": [
    "# Trying a new segmentation approach"
   ]
  },
  {
   "cell_type": "code",
   "execution_count": 69,
   "id": "60e46d51-ac64-4c72-a31f-89794b539d89",
   "metadata": {},
   "outputs": [
    {
     "name": "stdout",
     "output_type": "stream",
     "text": [
      "2.1.1+cu121\n"
     ]
    }
   ],
   "source": [
    "import torch\n",
    "print(torch.__version__)"
   ]
  },
  {
   "cell_type": "code",
   "execution_count": 71,
   "id": "c6a261b0-55b5-4d4f-a2a8-0b7da1b5ccd9",
   "metadata": {},
   "outputs": [
    {
     "ename": "ModuleNotFoundError",
     "evalue": "No module named 'torchvision.ops'",
     "output_type": "error",
     "traceback": [
      "\u001b[0;31m---------------------------------------------------------------------------\u001b[0m",
      "\u001b[0;31mModuleNotFoundError\u001b[0m                       Traceback (most recent call last)",
      "Cell \u001b[0;32mIn[71], line 1\u001b[0m\n\u001b[0;32m----> 1\u001b[0m \u001b[38;5;28;01mfrom\u001b[39;00m \u001b[38;5;21;01msegment_anything\u001b[39;00m \u001b[38;5;28;01mimport\u001b[39;00m SamPredictor, sam_model_registry\n",
      "File \u001b[0;32m~/miniconda3/envs/brassica/lib/python3.9/site-packages/segment_anything/__init__.py:15\u001b[0m\n\u001b[1;32m      7\u001b[0m \u001b[38;5;28;01mfrom\u001b[39;00m \u001b[38;5;21;01m.\u001b[39;00m\u001b[38;5;21;01mbuild_sam\u001b[39;00m \u001b[38;5;28;01mimport\u001b[39;00m (\n\u001b[1;32m      8\u001b[0m     build_sam,\n\u001b[1;32m      9\u001b[0m     build_sam_vit_h,\n\u001b[0;32m   (...)\u001b[0m\n\u001b[1;32m     12\u001b[0m     sam_model_registry,\n\u001b[1;32m     13\u001b[0m )\n\u001b[1;32m     14\u001b[0m \u001b[38;5;28;01mfrom\u001b[39;00m \u001b[38;5;21;01m.\u001b[39;00m\u001b[38;5;21;01mpredictor\u001b[39;00m \u001b[38;5;28;01mimport\u001b[39;00m SamPredictor\n\u001b[0;32m---> 15\u001b[0m \u001b[38;5;28;01mfrom\u001b[39;00m \u001b[38;5;21;01m.\u001b[39;00m\u001b[38;5;21;01mautomatic_mask_generator\u001b[39;00m \u001b[38;5;28;01mimport\u001b[39;00m SamAutomaticMaskGenerator\n",
      "File \u001b[0;32m~/miniconda3/envs/brassica/lib/python3.9/site-packages/segment_anything/automatic_mask_generator.py:9\u001b[0m\n\u001b[1;32m      7\u001b[0m \u001b[38;5;28;01mimport\u001b[39;00m \u001b[38;5;21;01mnumpy\u001b[39;00m \u001b[38;5;28;01mas\u001b[39;00m \u001b[38;5;21;01mnp\u001b[39;00m\n\u001b[1;32m      8\u001b[0m \u001b[38;5;28;01mimport\u001b[39;00m \u001b[38;5;21;01mtorch\u001b[39;00m\n\u001b[0;32m----> 9\u001b[0m \u001b[38;5;28;01mfrom\u001b[39;00m \u001b[38;5;21;01mtorchvision\u001b[39;00m\u001b[38;5;21;01m.\u001b[39;00m\u001b[38;5;21;01mops\u001b[39;00m\u001b[38;5;21;01m.\u001b[39;00m\u001b[38;5;21;01mboxes\u001b[39;00m \u001b[38;5;28;01mimport\u001b[39;00m batched_nms, box_area  \u001b[38;5;66;03m# type: ignore\u001b[39;00m\n\u001b[1;32m     11\u001b[0m \u001b[38;5;28;01mfrom\u001b[39;00m \u001b[38;5;21;01mtyping\u001b[39;00m \u001b[38;5;28;01mimport\u001b[39;00m Any, Dict, List, Optional, Tuple\n\u001b[1;32m     13\u001b[0m \u001b[38;5;28;01mfrom\u001b[39;00m \u001b[38;5;21;01m.\u001b[39;00m\u001b[38;5;21;01mmodeling\u001b[39;00m \u001b[38;5;28;01mimport\u001b[39;00m Sam\n",
      "\u001b[0;31mModuleNotFoundError\u001b[0m: No module named 'torchvision.ops'"
     ]
    }
   ],
   "source": [
    "from segment_anything import SamPredictor, sam_model_registry\n"
   ]
  },
  {
   "cell_type": "code",
   "execution_count": 77,
   "id": "02ce1e28-e7e5-49fd-8c67-7f95041985ec",
   "metadata": {},
   "outputs": [],
   "source": [
    "import numpy as np"
   ]
  },
  {
   "cell_type": "code",
   "execution_count": 78,
   "id": "8e41373c-575a-4144-a598-4e7eb070acf2",
   "metadata": {},
   "outputs": [],
   "source": [
    "np.save('t0_ND2.npy', cut_images[0])"
   ]
  }
 ],
 "metadata": {
  "kernelspec": {
   "display_name": "egg",
   "language": "python",
   "name": "egg"
  },
  "language_info": {
   "codemirror_mode": {
    "name": "ipython",
    "version": 3
   },
   "file_extension": ".py",
   "mimetype": "text/x-python",
   "name": "python",
   "nbconvert_exporter": "python",
   "pygments_lexer": "ipython3",
   "version": "3.9.17"
  }
 },
 "nbformat": 4,
 "nbformat_minor": 5
}
