{
 "cells": [
  {
   "cell_type": "markdown",
   "id": "ff89393c-ec76-442c-a0d0-38230113f32a",
   "metadata": {},
   "source": [
    "# Fitting growth models to intracellular Mtb load"
   ]
  },
  {
   "cell_type": "code",
   "execution_count": null,
   "id": "fbbc8ee5-a33a-4215-9bd3-17f6456f691b",
   "metadata": {},
   "outputs": [],
   "source": [
    "import pandas as pd\n",
    "import zarr\n",
    "from pathlib import Path\n",
    "from macrohet.growth_model import (\n",
    "    collate_tracks_to_df,\n",
    "    process_mtb_area,\n",
    "    fit_lowess,\n",
    "    compute_doubling_metrics,\n",
    ")\n",
    "\n",
    "# Conversion constant: pixel area in µm²\n",
    "image_resolution = 1.4949402023919043e-7  # meters per pixel\n",
    "microns_per_pixel = image_resolution * 1e6  # µm per pixel\n",
    "pixel_to_mum_sq_scale_factor = microns_per_pixel ** 2  # µm² per pixel"
   ]
  },
  {
   "cell_type": "markdown",
   "id": "5869493f-93c4-47bc-84d3-27acae7a0f6b",
   "metadata": {},
   "source": [
    "### Convert tracks to DataFrame\n"
   ]
  },
  {
   "cell_type": "code",
   "execution_count": null,
   "id": "4fe436ce-37e0-4f62-a91d-17b7e85e3386",
   "metadata": {},
   "outputs": [],
   "source": [
    "df = collate_tracks_to_df(tracks, expt_ID=\"EXP1\", acq_ID=(1, 1), pixel_to_mum_sq_scale_factor=pixel_to_mum_sq)"
   ]
  },
  {
   "cell_type": "code",
   "execution_count": 1,
   "id": "abd6cd06-f444-4fc9-bf2f-d5e0a661e62f",
   "metadata": {},
   "outputs": [
    {
     "ename": "NameError",
     "evalue": "name 'df' is not defined",
     "output_type": "error",
     "traceback": [
      "\u001b[0;31m---------------------------------------------------------------------------\u001b[0m",
      "\u001b[0;31mNameError\u001b[0m                                 Traceback (most recent call last)",
      "Cell \u001b[0;32mIn[1], line 1\u001b[0m\n\u001b[0;32m----> 1\u001b[0m \u001b[43mdf\u001b[49m\n",
      "\u001b[0;31mNameError\u001b[0m: name 'df' is not defined"
     ]
    }
   ],
   "source": [
    "df"
   ]
  },
  {
   "cell_type": "markdown",
   "id": "fc1856af-2182-4847-b79d-82bcf2a1e3c1",
   "metadata": {},
   "source": [
    "### Clean and smooth intracellular Mtb area"
   ]
  },
  {
   "cell_type": "code",
   "execution_count": null,
   "id": "58869d22-14ef-4b4c-80e8-63511a19ea87",
   "metadata": {},
   "outputs": [],
   "source": [
    "df = process_mtb_area(df, window=10, spike_threshold=2.0)"
   ]
  },
  {
   "cell_type": "markdown",
   "id": "0257fbbd-1b95-4b35-ae72-fa8391babb7e",
   "metadata": {},
   "source": [
    "### Fit LOWESS growth models to Mtb growth"
   ]
  },
  {
   "cell_type": "code",
   "execution_count": null,
   "id": "4c144263-14e2-4478-bc6b-8ab45a150b1b",
   "metadata": {},
   "outputs": [],
   "source": [
    "df = fit_lowess(df, frac=0.25)"
   ]
  },
  {
   "cell_type": "markdown",
   "id": "bbe92392-30ce-4cb6-b3c8-2aa05f437db6",
   "metadata": {},
   "source": [
    "### Compute doubling metrics from growth model"
   ]
  },
  {
   "cell_type": "code",
   "execution_count": null,
   "id": "3a275362-9b9d-433e-9b58-4c3403ccbb0b",
   "metadata": {},
   "outputs": [],
   "source": [
    "df = compute_doubling_metrics(df)"
   ]
  },
  {
   "cell_type": "markdown",
   "id": "7f165da9-53b5-43aa-9867-6d5c2b698fdc",
   "metadata": {},
   "source": [
    "### Export tracks with single-cell quantifications"
   ]
  },
  {
   "cell_type": "markdown",
   "id": "e63b56eb-d260-4a35-909f-714ae8666bbd",
   "metadata": {},
   "source": [
    "#### Use CSV"
   ]
  },
  {
   "cell_type": "code",
   "execution_count": null,
   "id": "3b474077-4fc6-49d5-9ffa-50cc816aab68",
   "metadata": {},
   "outputs": [],
   "source": [
    "# Save as CSV\n",
    "single_cell_df.to_csv(\"../data/single_cell_df.csv\", index=False)"
   ]
  },
  {
   "cell_type": "markdown",
   "id": "d4562955-e2b5-41c2-a72f-b11188feeff5",
   "metadata": {},
   "source": [
    "#### Use Zarr"
   ]
  },
  {
   "cell_type": "code",
   "execution_count": null,
   "id": "b1bae90e-e609-48f9-bc2e-8392e6f7861f",
   "metadata": {},
   "outputs": [],
   "source": [
    "# Save as Zarr (column-wise store)\n",
    "df_zarr_path = Path(\"../data/single_cell_df.zarr\")\n",
    "zarr.save_group(str(df_zarr_path), single_cell_df.to_dict(orient=\"list\"), overwrite=True)"
   ]
  }
 ],
 "metadata": {
  "kernelspec": {
   "display_name": "macrohet",
   "language": "python",
   "name": "macrohet"
  },
  "language_info": {
   "codemirror_mode": {
    "name": "ipython",
    "version": 3
   },
   "file_extension": ".py",
   "mimetype": "text/x-python",
   "name": "python",
   "nbconvert_exporter": "python",
   "pygments_lexer": "ipython3",
   "version": "3.10.18"
  }
 },
 "nbformat": 4,
 "nbformat_minor": 5
}
