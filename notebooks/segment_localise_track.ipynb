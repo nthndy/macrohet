{
 "cells": [
  {
   "cell_type": "markdown",
   "id": "d2e295e0",
   "metadata": {},
   "source": [
    "# Segment, localise and track\n"
   ]
  },
  {
   "cell_type": "code",
   "execution_count": 25,
   "id": "9ea4d582-6d99-4e52-8013-80960fdd8456",
   "metadata": {},
   "outputs": [],
   "source": [
    "import btrack\n",
    "import numpy as np\n",
    "from cellpose import models\n",
    "from tqdm.auto import tqdm\n",
    "\n",
    "from macrohet import dataio, tile"
   ]
  },
  {
   "cell_type": "markdown",
   "id": "70c3160f-3585-4d8b-b7d3-5279128d5e96",
   "metadata": {},
   "source": [
    "### 1. Lazily load the images as a Dask array. \n",
    "This enables rapid initialisation of the segmentation workflow by avoiding loading the full image volume into memory."
   ]
  },
  {
   "cell_type": "code",
   "execution_count": 2,
   "id": "73d180d7-e11a-4487-aff9-fffd88d5c592",
   "metadata": {},
   "outputs": [
    {
     "name": "stdout",
     "output_type": "stream",
     "text": [
      "Reading metadata XML file...\n"
     ]
    },
    {
     "data": {
      "application/vnd.jupyter.widget-view+json": {
       "model_id": "f7e6946e99594d4da9b4d009943479e9",
       "version_major": 2,
       "version_minor": 0
      },
      "text/plain": [
       "0it [00:00, ?it/s]"
      ]
     },
     "metadata": {},
     "output_type": "display_data"
    },
    {
     "name": "stdout",
     "output_type": "stream",
     "text": [
      "Extracting metadata complete!\n"
     ]
    }
   ],
   "source": [
    "metadata = dataio.read_harmony_metadata('../data/untiled_images/Index.idx.xml')"
   ]
  },
  {
   "cell_type": "code",
   "execution_count": 3,
   "id": "6f5a8462-3ab0-48aa-952e-078c718df123",
   "metadata": {
    "scrolled": true
   },
   "outputs": [
    {
     "data": {
      "text/html": [
       "<div>\n",
       "<style scoped>\n",
       "    .dataframe tbody tr th:only-of-type {\n",
       "        vertical-align: middle;\n",
       "    }\n",
       "\n",
       "    .dataframe tbody tr th {\n",
       "        vertical-align: top;\n",
       "    }\n",
       "\n",
       "    .dataframe thead th {\n",
       "        text-align: right;\n",
       "    }\n",
       "</style>\n",
       "<table border=\"1\" class=\"dataframe\">\n",
       "  <thead>\n",
       "    <tr style=\"text-align: right;\">\n",
       "      <th></th>\n",
       "      <th>id</th>\n",
       "      <th>State</th>\n",
       "      <th>URL</th>\n",
       "      <th>Row</th>\n",
       "      <th>Col</th>\n",
       "      <th>FieldID</th>\n",
       "      <th>PlaneID</th>\n",
       "      <th>TimepointID</th>\n",
       "      <th>ChannelID</th>\n",
       "      <th>FlimID</th>\n",
       "      <th>...</th>\n",
       "      <th>PositionZ</th>\n",
       "      <th>AbsPositionZ</th>\n",
       "      <th>MeasurementTimeOffset</th>\n",
       "      <th>AbsTime</th>\n",
       "      <th>MainExcitationWavelength</th>\n",
       "      <th>MainEmissionWavelength</th>\n",
       "      <th>ObjectiveMagnification</th>\n",
       "      <th>ObjectiveNA</th>\n",
       "      <th>ExposureTime</th>\n",
       "      <th>OrientationMatrix</th>\n",
       "    </tr>\n",
       "  </thead>\n",
       "  <tbody>\n",
       "    <tr>\n",
       "      <th>0</th>\n",
       "      <td>0305K1F1P1R1</td>\n",
       "      <td>Ok</td>\n",
       "      <td>r03c05f01p01-ch1sk1fk1fl1.tiff</td>\n",
       "      <td>3</td>\n",
       "      <td>5</td>\n",
       "      <td>1</td>\n",
       "      <td>1</td>\n",
       "      <td>0</td>\n",
       "      <td>1</td>\n",
       "      <td>1</td>\n",
       "      <td>...</td>\n",
       "      <td>0</td>\n",
       "      <td>0.135621503</td>\n",
       "      <td>0</td>\n",
       "      <td>2021-04-16T19:11:18.61+01:00</td>\n",
       "      <td>488</td>\n",
       "      <td>522</td>\n",
       "      <td>40</td>\n",
       "      <td>1.1</td>\n",
       "      <td>0.1</td>\n",
       "      <td>[[0.990860,0,0,-15.9],[0,-0.990860,0,-44.8],[0...</td>\n",
       "    </tr>\n",
       "    <tr>\n",
       "      <th>1</th>\n",
       "      <td>0305K1F1P1R2</td>\n",
       "      <td>Ok</td>\n",
       "      <td>r03c05f01p01-ch2sk1fk1fl1.tiff</td>\n",
       "      <td>3</td>\n",
       "      <td>5</td>\n",
       "      <td>1</td>\n",
       "      <td>1</td>\n",
       "      <td>0</td>\n",
       "      <td>2</td>\n",
       "      <td>1</td>\n",
       "      <td>...</td>\n",
       "      <td>0</td>\n",
       "      <td>0.135621503</td>\n",
       "      <td>0</td>\n",
       "      <td>2021-04-16T19:11:18.61+01:00</td>\n",
       "      <td>640</td>\n",
       "      <td>706</td>\n",
       "      <td>40</td>\n",
       "      <td>1.1</td>\n",
       "      <td>0.2</td>\n",
       "      <td>[[0.990860,0,0,-15.9],[0,-0.990860,0,-44.8],[0...</td>\n",
       "    </tr>\n",
       "    <tr>\n",
       "      <th>2</th>\n",
       "      <td>0305K1F1P2R1</td>\n",
       "      <td>Ok</td>\n",
       "      <td>r03c05f01p02-ch1sk1fk1fl1.tiff</td>\n",
       "      <td>3</td>\n",
       "      <td>5</td>\n",
       "      <td>1</td>\n",
       "      <td>2</td>\n",
       "      <td>0</td>\n",
       "      <td>1</td>\n",
       "      <td>1</td>\n",
       "      <td>...</td>\n",
       "      <td>2E-06</td>\n",
       "      <td>0.1356235</td>\n",
       "      <td>0</td>\n",
       "      <td>2021-04-16T19:11:18.89+01:00</td>\n",
       "      <td>488</td>\n",
       "      <td>522</td>\n",
       "      <td>40</td>\n",
       "      <td>1.1</td>\n",
       "      <td>0.1</td>\n",
       "      <td>[[0.990860,0,0,-15.9],[0,-0.990860,0,-44.8],[0...</td>\n",
       "    </tr>\n",
       "    <tr>\n",
       "      <th>3</th>\n",
       "      <td>0305K1F1P2R2</td>\n",
       "      <td>Ok</td>\n",
       "      <td>r03c05f01p02-ch2sk1fk1fl1.tiff</td>\n",
       "      <td>3</td>\n",
       "      <td>5</td>\n",
       "      <td>1</td>\n",
       "      <td>2</td>\n",
       "      <td>0</td>\n",
       "      <td>2</td>\n",
       "      <td>1</td>\n",
       "      <td>...</td>\n",
       "      <td>2E-06</td>\n",
       "      <td>0.1356235</td>\n",
       "      <td>0</td>\n",
       "      <td>2021-04-16T19:11:18.89+01:00</td>\n",
       "      <td>640</td>\n",
       "      <td>706</td>\n",
       "      <td>40</td>\n",
       "      <td>1.1</td>\n",
       "      <td>0.2</td>\n",
       "      <td>[[0.990860,0,0,-15.9],[0,-0.990860,0,-44.8],[0...</td>\n",
       "    </tr>\n",
       "    <tr>\n",
       "      <th>4</th>\n",
       "      <td>0305K1F1P3R1</td>\n",
       "      <td>Ok</td>\n",
       "      <td>r03c05f01p03-ch1sk1fk1fl1.tiff</td>\n",
       "      <td>3</td>\n",
       "      <td>5</td>\n",
       "      <td>1</td>\n",
       "      <td>3</td>\n",
       "      <td>0</td>\n",
       "      <td>1</td>\n",
       "      <td>1</td>\n",
       "      <td>...</td>\n",
       "      <td>4E-06</td>\n",
       "      <td>0.135625601</td>\n",
       "      <td>0</td>\n",
       "      <td>2021-04-16T19:11:19.17+01:00</td>\n",
       "      <td>488</td>\n",
       "      <td>522</td>\n",
       "      <td>40</td>\n",
       "      <td>1.1</td>\n",
       "      <td>0.1</td>\n",
       "      <td>[[0.990860,0,0,-15.9],[0,-0.990860,0,-44.8],[0...</td>\n",
       "    </tr>\n",
       "    <tr>\n",
       "      <th>...</th>\n",
       "      <td>...</td>\n",
       "      <td>...</td>\n",
       "      <td>...</td>\n",
       "      <td>...</td>\n",
       "      <td>...</td>\n",
       "      <td>...</td>\n",
       "      <td>...</td>\n",
       "      <td>...</td>\n",
       "      <td>...</td>\n",
       "      <td>...</td>\n",
       "      <td>...</td>\n",
       "      <td>...</td>\n",
       "      <td>...</td>\n",
       "      <td>...</td>\n",
       "      <td>...</td>\n",
       "      <td>...</td>\n",
       "      <td>...</td>\n",
       "      <td>...</td>\n",
       "      <td>...</td>\n",
       "      <td>...</td>\n",
       "      <td>...</td>\n",
       "    </tr>\n",
       "    <tr>\n",
       "      <th>4044</th>\n",
       "      <td>0305K75F9P1R2</td>\n",
       "      <td>Ok</td>\n",
       "      <td>r03c05f09p01-ch2sk75fk1fl1.tiff</td>\n",
       "      <td>3</td>\n",
       "      <td>5</td>\n",
       "      <td>9</td>\n",
       "      <td>1</td>\n",
       "      <td>74</td>\n",
       "      <td>2</td>\n",
       "      <td>1</td>\n",
       "      <td>...</td>\n",
       "      <td>0</td>\n",
       "      <td>0.135624304</td>\n",
       "      <td>266400.56</td>\n",
       "      <td>2021-04-19T21:11:30.447+01:00</td>\n",
       "      <td>640</td>\n",
       "      <td>706</td>\n",
       "      <td>40</td>\n",
       "      <td>1.1</td>\n",
       "      <td>0.2</td>\n",
       "      <td>[[0.990860,0,0,-15.9],[0,-0.990860,0,-44.8],[0...</td>\n",
       "    </tr>\n",
       "    <tr>\n",
       "      <th>4045</th>\n",
       "      <td>0305K75F9P2R1</td>\n",
       "      <td>Ok</td>\n",
       "      <td>r03c05f09p02-ch1sk75fk1fl1.tiff</td>\n",
       "      <td>3</td>\n",
       "      <td>5</td>\n",
       "      <td>9</td>\n",
       "      <td>2</td>\n",
       "      <td>74</td>\n",
       "      <td>1</td>\n",
       "      <td>1</td>\n",
       "      <td>...</td>\n",
       "      <td>2E-06</td>\n",
       "      <td>0.135626301</td>\n",
       "      <td>266400.56</td>\n",
       "      <td>2021-04-19T21:11:30.713+01:00</td>\n",
       "      <td>488</td>\n",
       "      <td>522</td>\n",
       "      <td>40</td>\n",
       "      <td>1.1</td>\n",
       "      <td>0.1</td>\n",
       "      <td>[[0.990860,0,0,-15.9],[0,-0.990860,0,-44.8],[0...</td>\n",
       "    </tr>\n",
       "    <tr>\n",
       "      <th>4046</th>\n",
       "      <td>0305K75F9P2R2</td>\n",
       "      <td>Ok</td>\n",
       "      <td>r03c05f09p02-ch2sk75fk1fl1.tiff</td>\n",
       "      <td>3</td>\n",
       "      <td>5</td>\n",
       "      <td>9</td>\n",
       "      <td>2</td>\n",
       "      <td>74</td>\n",
       "      <td>2</td>\n",
       "      <td>1</td>\n",
       "      <td>...</td>\n",
       "      <td>2E-06</td>\n",
       "      <td>0.135626301</td>\n",
       "      <td>266400.56</td>\n",
       "      <td>2021-04-19T21:11:30.713+01:00</td>\n",
       "      <td>640</td>\n",
       "      <td>706</td>\n",
       "      <td>40</td>\n",
       "      <td>1.1</td>\n",
       "      <td>0.2</td>\n",
       "      <td>[[0.990860,0,0,-15.9],[0,-0.990860,0,-44.8],[0...</td>\n",
       "    </tr>\n",
       "    <tr>\n",
       "      <th>4047</th>\n",
       "      <td>0305K75F9P3R1</td>\n",
       "      <td>Ok</td>\n",
       "      <td>r03c05f09p03-ch1sk75fk1fl1.tiff</td>\n",
       "      <td>3</td>\n",
       "      <td>5</td>\n",
       "      <td>9</td>\n",
       "      <td>3</td>\n",
       "      <td>74</td>\n",
       "      <td>1</td>\n",
       "      <td>1</td>\n",
       "      <td>...</td>\n",
       "      <td>4E-06</td>\n",
       "      <td>0.135628298</td>\n",
       "      <td>266400.56</td>\n",
       "      <td>2021-04-19T21:11:30.993+01:00</td>\n",
       "      <td>488</td>\n",
       "      <td>522</td>\n",
       "      <td>40</td>\n",
       "      <td>1.1</td>\n",
       "      <td>0.1</td>\n",
       "      <td>[[0.990860,0,0,-15.9],[0,-0.990860,0,-44.8],[0...</td>\n",
       "    </tr>\n",
       "    <tr>\n",
       "      <th>4048</th>\n",
       "      <td>0305K75F9P3R2</td>\n",
       "      <td>Ok</td>\n",
       "      <td>r03c05f09p03-ch2sk75fk1fl1.tiff</td>\n",
       "      <td>3</td>\n",
       "      <td>5</td>\n",
       "      <td>9</td>\n",
       "      <td>3</td>\n",
       "      <td>74</td>\n",
       "      <td>2</td>\n",
       "      <td>1</td>\n",
       "      <td>...</td>\n",
       "      <td>4E-06</td>\n",
       "      <td>0.135628298</td>\n",
       "      <td>266400.56</td>\n",
       "      <td>2021-04-19T21:11:31.01+01:00</td>\n",
       "      <td>640</td>\n",
       "      <td>706</td>\n",
       "      <td>40</td>\n",
       "      <td>1.1</td>\n",
       "      <td>0.2</td>\n",
       "      <td>[[0.990860,0,0,-15.9],[0,-0.990860,0,-44.8],[0...</td>\n",
       "    </tr>\n",
       "  </tbody>\n",
       "</table>\n",
       "<p>4049 rows × 35 columns</p>\n",
       "</div>"
      ],
      "text/plain": [
       "                 id State                              URL Row Col FieldID  \\\n",
       "0      0305K1F1P1R1    Ok   r03c05f01p01-ch1sk1fk1fl1.tiff   3   5       1   \n",
       "1      0305K1F1P1R2    Ok   r03c05f01p01-ch2sk1fk1fl1.tiff   3   5       1   \n",
       "2      0305K1F1P2R1    Ok   r03c05f01p02-ch1sk1fk1fl1.tiff   3   5       1   \n",
       "3      0305K1F1P2R2    Ok   r03c05f01p02-ch2sk1fk1fl1.tiff   3   5       1   \n",
       "4      0305K1F1P3R1    Ok   r03c05f01p03-ch1sk1fk1fl1.tiff   3   5       1   \n",
       "...             ...   ...                              ...  ..  ..     ...   \n",
       "4044  0305K75F9P1R2    Ok  r03c05f09p01-ch2sk75fk1fl1.tiff   3   5       9   \n",
       "4045  0305K75F9P2R1    Ok  r03c05f09p02-ch1sk75fk1fl1.tiff   3   5       9   \n",
       "4046  0305K75F9P2R2    Ok  r03c05f09p02-ch2sk75fk1fl1.tiff   3   5       9   \n",
       "4047  0305K75F9P3R1    Ok  r03c05f09p03-ch1sk75fk1fl1.tiff   3   5       9   \n",
       "4048  0305K75F9P3R2    Ok  r03c05f09p03-ch2sk75fk1fl1.tiff   3   5       9   \n",
       "\n",
       "     PlaneID TimepointID ChannelID FlimID  ... PositionZ AbsPositionZ  \\\n",
       "0          1           0         1      1  ...         0  0.135621503   \n",
       "1          1           0         2      1  ...         0  0.135621503   \n",
       "2          2           0         1      1  ...     2E-06    0.1356235   \n",
       "3          2           0         2      1  ...     2E-06    0.1356235   \n",
       "4          3           0         1      1  ...     4E-06  0.135625601   \n",
       "...      ...         ...       ...    ...  ...       ...          ...   \n",
       "4044       1          74         2      1  ...         0  0.135624304   \n",
       "4045       2          74         1      1  ...     2E-06  0.135626301   \n",
       "4046       2          74         2      1  ...     2E-06  0.135626301   \n",
       "4047       3          74         1      1  ...     4E-06  0.135628298   \n",
       "4048       3          74         2      1  ...     4E-06  0.135628298   \n",
       "\n",
       "     MeasurementTimeOffset                        AbsTime  \\\n",
       "0                        0   2021-04-16T19:11:18.61+01:00   \n",
       "1                        0   2021-04-16T19:11:18.61+01:00   \n",
       "2                        0   2021-04-16T19:11:18.89+01:00   \n",
       "3                        0   2021-04-16T19:11:18.89+01:00   \n",
       "4                        0   2021-04-16T19:11:19.17+01:00   \n",
       "...                    ...                            ...   \n",
       "4044             266400.56  2021-04-19T21:11:30.447+01:00   \n",
       "4045             266400.56  2021-04-19T21:11:30.713+01:00   \n",
       "4046             266400.56  2021-04-19T21:11:30.713+01:00   \n",
       "4047             266400.56  2021-04-19T21:11:30.993+01:00   \n",
       "4048             266400.56   2021-04-19T21:11:31.01+01:00   \n",
       "\n",
       "     MainExcitationWavelength MainEmissionWavelength ObjectiveMagnification  \\\n",
       "0                         488                    522                     40   \n",
       "1                         640                    706                     40   \n",
       "2                         488                    522                     40   \n",
       "3                         640                    706                     40   \n",
       "4                         488                    522                     40   \n",
       "...                       ...                    ...                    ...   \n",
       "4044                      640                    706                     40   \n",
       "4045                      488                    522                     40   \n",
       "4046                      640                    706                     40   \n",
       "4047                      488                    522                     40   \n",
       "4048                      640                    706                     40   \n",
       "\n",
       "     ObjectiveNA ExposureTime  \\\n",
       "0            1.1          0.1   \n",
       "1            1.1          0.2   \n",
       "2            1.1          0.1   \n",
       "3            1.1          0.2   \n",
       "4            1.1          0.1   \n",
       "...          ...          ...   \n",
       "4044         1.1          0.2   \n",
       "4045         1.1          0.1   \n",
       "4046         1.1          0.2   \n",
       "4047         1.1          0.1   \n",
       "4048         1.1          0.2   \n",
       "\n",
       "                                      OrientationMatrix  \n",
       "0     [[0.990860,0,0,-15.9],[0,-0.990860,0,-44.8],[0...  \n",
       "1     [[0.990860,0,0,-15.9],[0,-0.990860,0,-44.8],[0...  \n",
       "2     [[0.990860,0,0,-15.9],[0,-0.990860,0,-44.8],[0...  \n",
       "3     [[0.990860,0,0,-15.9],[0,-0.990860,0,-44.8],[0...  \n",
       "4     [[0.990860,0,0,-15.9],[0,-0.990860,0,-44.8],[0...  \n",
       "...                                                 ...  \n",
       "4044  [[0.990860,0,0,-15.9],[0,-0.990860,0,-44.8],[0...  \n",
       "4045  [[0.990860,0,0,-15.9],[0,-0.990860,0,-44.8],[0...  \n",
       "4046  [[0.990860,0,0,-15.9],[0,-0.990860,0,-44.8],[0...  \n",
       "4047  [[0.990860,0,0,-15.9],[0,-0.990860,0,-44.8],[0...  \n",
       "4048  [[0.990860,0,0,-15.9],[0,-0.990860,0,-44.8],[0...  \n",
       "\n",
       "[4049 rows x 35 columns]"
      ]
     },
     "execution_count": 3,
     "metadata": {},
     "output_type": "execute_result"
    }
   ],
   "source": [
    "metadata"
   ]
  },
  {
   "cell_type": "code",
   "execution_count": 4,
   "id": "65be499c-0e83-4145-9cf7-d9cab72a7e92",
   "metadata": {
    "scrolled": true
   },
   "outputs": [],
   "source": [
    "image_dir = '../data/untiled_images/'\n",
    "images = tile.compile_mosaic(image_dir, metadata, row=3, col=5, n_tile_cols=3, n_tile_rows=3, set_plane='max_proj')"
   ]
  },
  {
   "cell_type": "code",
   "execution_count": 5,
   "id": "031e8c50-35d8-4045-969d-a6463b6c3827",
   "metadata": {},
   "outputs": [
    {
     "data": {
      "text/html": [
       "<table>\n",
       "    <tr>\n",
       "        <td>\n",
       "            <table style=\"border-collapse: collapse;\">\n",
       "                <thead>\n",
       "                    <tr>\n",
       "                        <td> </td>\n",
       "                        <th> Array </th>\n",
       "                        <th> Chunk </th>\n",
       "                    </tr>\n",
       "                </thead>\n",
       "                <tbody>\n",
       "                    \n",
       "                    <tr>\n",
       "                        <th> Bytes </th>\n",
       "                        <td> 410.62 MiB </td>\n",
       "                        <td> 357.78 kiB </td>\n",
       "                    </tr>\n",
       "                    \n",
       "                    <tr>\n",
       "                        <th> Shape </th>\n",
       "                        <td> (75, 2, 1198, 1198) </td>\n",
       "                        <td> (1, 1, 428, 428) </td>\n",
       "                    </tr>\n",
       "                    <tr>\n",
       "                        <th> Dask graph </th>\n",
       "                        <td colspan=\"2\"> 1350 chunks in 1804 graph layers </td>\n",
       "                    </tr>\n",
       "                    <tr>\n",
       "                        <th> Data type </th>\n",
       "                        <td colspan=\"2\"> uint16 numpy.ndarray </td>\n",
       "                    </tr>\n",
       "                </tbody>\n",
       "            </table>\n",
       "        </td>\n",
       "        <td>\n",
       "        <svg width=\"394\" height=\"184\" style=\"stroke:rgb(0,0,0);stroke-width:1\" >\n",
       "\n",
       "  <!-- Horizontal lines -->\n",
       "  <line x1=\"0\" y1=\"0\" x2=\"35\" y2=\"0\" style=\"stroke-width:2\" />\n",
       "  <line x1=\"0\" y1=\"25\" x2=\"35\" y2=\"25\" style=\"stroke-width:2\" />\n",
       "\n",
       "  <!-- Vertical lines -->\n",
       "  <line x1=\"0\" y1=\"0\" x2=\"0\" y2=\"25\" style=\"stroke-width:2\" />\n",
       "  <line x1=\"0\" y1=\"0\" x2=\"0\" y2=\"25\" />\n",
       "  <line x1=\"1\" y1=\"0\" x2=\"1\" y2=\"25\" />\n",
       "  <line x1=\"3\" y1=\"0\" x2=\"3\" y2=\"25\" />\n",
       "  <line x1=\"4\" y1=\"0\" x2=\"4\" y2=\"25\" />\n",
       "  <line x1=\"5\" y1=\"0\" x2=\"5\" y2=\"25\" />\n",
       "  <line x1=\"6\" y1=\"0\" x2=\"6\" y2=\"25\" />\n",
       "  <line x1=\"7\" y1=\"0\" x2=\"7\" y2=\"25\" />\n",
       "  <line x1=\"8\" y1=\"0\" x2=\"8\" y2=\"25\" />\n",
       "  <line x1=\"10\" y1=\"0\" x2=\"10\" y2=\"25\" />\n",
       "  <line x1=\"11\" y1=\"0\" x2=\"11\" y2=\"25\" />\n",
       "  <line x1=\"11\" y1=\"0\" x2=\"11\" y2=\"25\" />\n",
       "  <line x1=\"13\" y1=\"0\" x2=\"13\" y2=\"25\" />\n",
       "  <line x1=\"14\" y1=\"0\" x2=\"14\" y2=\"25\" />\n",
       "  <line x1=\"15\" y1=\"0\" x2=\"15\" y2=\"25\" />\n",
       "  <line x1=\"16\" y1=\"0\" x2=\"16\" y2=\"25\" />\n",
       "  <line x1=\"17\" y1=\"0\" x2=\"17\" y2=\"25\" />\n",
       "  <line x1=\"18\" y1=\"0\" x2=\"18\" y2=\"25\" />\n",
       "  <line x1=\"20\" y1=\"0\" x2=\"20\" y2=\"25\" />\n",
       "  <line x1=\"21\" y1=\"0\" x2=\"21\" y2=\"25\" />\n",
       "  <line x1=\"22\" y1=\"0\" x2=\"22\" y2=\"25\" />\n",
       "  <line x1=\"23\" y1=\"0\" x2=\"23\" y2=\"25\" />\n",
       "  <line x1=\"24\" y1=\"0\" x2=\"24\" y2=\"25\" />\n",
       "  <line x1=\"25\" y1=\"0\" x2=\"25\" y2=\"25\" />\n",
       "  <line x1=\"26\" y1=\"0\" x2=\"26\" y2=\"25\" />\n",
       "  <line x1=\"27\" y1=\"0\" x2=\"27\" y2=\"25\" />\n",
       "  <line x1=\"28\" y1=\"0\" x2=\"28\" y2=\"25\" />\n",
       "  <line x1=\"30\" y1=\"0\" x2=\"30\" y2=\"25\" />\n",
       "  <line x1=\"31\" y1=\"0\" x2=\"31\" y2=\"25\" />\n",
       "  <line x1=\"32\" y1=\"0\" x2=\"32\" y2=\"25\" />\n",
       "  <line x1=\"33\" y1=\"0\" x2=\"33\" y2=\"25\" />\n",
       "  <line x1=\"34\" y1=\"0\" x2=\"34\" y2=\"25\" />\n",
       "  <line x1=\"35\" y1=\"0\" x2=\"35\" y2=\"25\" style=\"stroke-width:2\" />\n",
       "\n",
       "  <!-- Colored Rectangle -->\n",
       "  <polygon points=\"0.0,0.0 35.869616773944124,0.0 35.869616773944124,25.412616514582485 0.0,25.412616514582485\" style=\"fill:#8B4903A0;stroke-width:0\"/>\n",
       "\n",
       "  <!-- Text -->\n",
       "  <text x=\"17.934808\" y=\"45.412617\" font-size=\"1.0rem\" font-weight=\"100\" text-anchor=\"middle\" >75</text>\n",
       "  <text x=\"55.869617\" y=\"12.706308\" font-size=\"1.0rem\" font-weight=\"100\" text-anchor=\"middle\" transform=\"rotate(0,55.869617,12.706308)\">1</text>\n",
       "\n",
       "\n",
       "  <!-- Horizontal lines -->\n",
       "  <line x1=\"105\" y1=\"0\" x2=\"119\" y2=\"14\" style=\"stroke-width:2\" />\n",
       "  <line x1=\"105\" y1=\"42\" x2=\"119\" y2=\"57\" />\n",
       "  <line x1=\"105\" y1=\"85\" x2=\"119\" y2=\"100\" />\n",
       "  <line x1=\"105\" y1=\"120\" x2=\"119\" y2=\"134\" style=\"stroke-width:2\" />\n",
       "\n",
       "  <!-- Vertical lines -->\n",
       "  <line x1=\"105\" y1=\"0\" x2=\"105\" y2=\"120\" style=\"stroke-width:2\" />\n",
       "  <line x1=\"112\" y1=\"7\" x2=\"112\" y2=\"127\" />\n",
       "  <line x1=\"119\" y1=\"14\" x2=\"119\" y2=\"134\" style=\"stroke-width:2\" />\n",
       "\n",
       "  <!-- Colored Rectangle -->\n",
       "  <polygon points=\"105.0,0.0 119.9485979497544,14.948597949754403 119.9485979497544,134.9485979497544 105.0,120.0\" style=\"fill:#ECB172A0;stroke-width:0\"/>\n",
       "\n",
       "  <!-- Horizontal lines -->\n",
       "  <line x1=\"105\" y1=\"0\" x2=\"225\" y2=\"0\" style=\"stroke-width:2\" />\n",
       "  <line x1=\"112\" y1=\"7\" x2=\"232\" y2=\"7\" />\n",
       "  <line x1=\"119\" y1=\"14\" x2=\"239\" y2=\"14\" style=\"stroke-width:2\" />\n",
       "\n",
       "  <!-- Vertical lines -->\n",
       "  <line x1=\"105\" y1=\"0\" x2=\"119\" y2=\"14\" style=\"stroke-width:2\" />\n",
       "  <line x1=\"147\" y1=\"0\" x2=\"162\" y2=\"14\" />\n",
       "  <line x1=\"190\" y1=\"0\" x2=\"205\" y2=\"14\" />\n",
       "  <line x1=\"225\" y1=\"0\" x2=\"239\" y2=\"14\" style=\"stroke-width:2\" />\n",
       "\n",
       "  <!-- Colored Rectangle -->\n",
       "  <polygon points=\"105.0,0.0 225.0,0.0 239.9485979497544,14.948597949754403 119.9485979497544,14.948597949754403\" style=\"fill:#ECB172A0;stroke-width:0\"/>\n",
       "\n",
       "  <!-- Horizontal lines -->\n",
       "  <line x1=\"119\" y1=\"14\" x2=\"239\" y2=\"14\" style=\"stroke-width:2\" />\n",
       "  <line x1=\"119\" y1=\"57\" x2=\"239\" y2=\"57\" />\n",
       "  <line x1=\"119\" y1=\"100\" x2=\"239\" y2=\"100\" />\n",
       "  <line x1=\"119\" y1=\"134\" x2=\"239\" y2=\"134\" style=\"stroke-width:2\" />\n",
       "\n",
       "  <!-- Vertical lines -->\n",
       "  <line x1=\"119\" y1=\"14\" x2=\"119\" y2=\"134\" style=\"stroke-width:2\" />\n",
       "  <line x1=\"162\" y1=\"14\" x2=\"162\" y2=\"134\" />\n",
       "  <line x1=\"205\" y1=\"14\" x2=\"205\" y2=\"134\" />\n",
       "  <line x1=\"239\" y1=\"14\" x2=\"239\" y2=\"134\" style=\"stroke-width:2\" />\n",
       "\n",
       "  <!-- Colored Rectangle -->\n",
       "  <polygon points=\"119.9485979497544,14.948597949754403 239.9485979497544,14.948597949754403 239.9485979497544,134.9485979497544 119.9485979497544,134.9485979497544\" style=\"fill:#ECB172A0;stroke-width:0\"/>\n",
       "\n",
       "  <!-- Text -->\n",
       "  <text x=\"179.948598\" y=\"154.948598\" font-size=\"1.0rem\" font-weight=\"100\" text-anchor=\"middle\" >1198</text>\n",
       "  <text x=\"259.948598\" y=\"74.948598\" font-size=\"1.0rem\" font-weight=\"100\" text-anchor=\"middle\" transform=\"rotate(-90,259.948598,74.948598)\">1198</text>\n",
       "  <text x=\"102.474299\" y=\"147.474299\" font-size=\"1.0rem\" font-weight=\"100\" text-anchor=\"middle\" transform=\"rotate(45,102.474299,147.474299)\">2</text>\n",
       "</svg>\n",
       "        </td>\n",
       "    </tr>\n",
       "</table>"
      ],
      "text/plain": [
       "dask.array<max-aggregate, shape=(75, 2, 1198, 1198), dtype=uint16, chunksize=(1, 1, 428, 428), chunktype=numpy.ndarray>"
      ]
     },
     "execution_count": 5,
     "metadata": {},
     "output_type": "execute_result"
    }
   ],
   "source": [
    "images\n"
   ]
  },
  {
   "cell_type": "markdown",
   "id": "6ebb5511-1501-484c-8919-df39dd4659e2",
   "metadata": {},
   "source": [
    "### 2. Load segmentation model\n",
    "Note: At the time this segmentation pipeline was developed, the default pretrained Cellpose models did not yield satisfactory performance on our images. Accordingly, we trained a custom model on full-scale image data to improve segmentation accuracy. However, recent advances (particularly the release of Cellpose 2.0 and the CellposeSAM model) have significantly improved the general performance of the default models. For many applications, these newer models may now perform on par with or better than custom-trained models, and should be considered before undertaking bespoke training."
   ]
  },
  {
   "cell_type": "code",
   "execution_count": 20,
   "id": "4cb8389b-53ff-4072-ae52-64eddde1eeb0",
   "metadata": {},
   "outputs": [
    {
     "name": "stderr",
     "output_type": "stream",
     "text": [
      "INFO:cellpose.core:** TORCH CUDA version installed and working. **\n",
      "INFO:cellpose.core:>>>> using GPU (CUDA)\n",
      "INFO:cellpose.models:>>>> loading model /home/dayn/.cellpose/models/cpsam\n"
     ]
    }
   ],
   "source": [
    "# defining personal trained cellpose model to use\n",
    "model_path = '../models/segmentation_model'\n",
    "segmentation_model = models.CellposeModel(gpu=True, \n",
    "                             pretrained_model=model_path)\n",
    "\n",
    "# Or use a default cellpose model\n",
    "# segmentation_model = models.CellposeModel(gpu=True)"
   ]
  },
  {
   "cell_type": "markdown",
   "id": "be66bd67-5528-443a-8402-1d8f8bc994b6",
   "metadata": {},
   "source": [
    "### 3. Segment entire array\n",
    "Using the cytoplasmic GFP channel (enumerated 0) as input to the segmentation"
   ]
  },
  {
   "cell_type": "code",
   "execution_count": 22,
   "id": "aa4fb73e-487f-4cb9-bbee-ed19fabe70e9",
   "metadata": {
    "scrolled": true
   },
   "outputs": [
    {
     "data": {
      "application/vnd.jupyter.widget-view+json": {
       "model_id": "8a86ab0ca7774643bb3cc985977d4214",
       "version_major": 2,
       "version_minor": 0
      },
      "text/plain": [
       "Segmenting GFP channel:   0%|          | 0/75 [00:00<?, ?it/s]"
      ]
     },
     "metadata": {},
     "output_type": "display_data"
    }
   ],
   "source": [
    "masks_list = []\n",
    "\n",
    "for gfp_frame in tqdm(images[:, 0, ...], desc=\"Segmenting GFP channel\"):\n",
    "    masks_frame, _, _ = segmentation_model.eval(gfp_frame,                    \n",
    "                                   diameter=None,\n",
    "                                   min_size=0\n",
    "                                   )\n",
    "    masks_list.append(masks_frame)\n",
    "masks = np.stack(masks_list)"
   ]
  },
  {
   "cell_type": "code",
   "execution_count": 23,
   "id": "c77be7e9-474e-4615-9a31-dd472a2dc49f",
   "metadata": {},
   "outputs": [
    {
     "data": {
      "text/plain": [
       "(75, 1198, 1198)"
      ]
     },
     "execution_count": 23,
     "metadata": {},
     "output_type": "execute_result"
    }
   ],
   "source": [
    "masks.shape"
   ]
  },
  {
   "cell_type": "markdown",
   "id": "2f1fb9ab-8cc3-4483-975b-09e0e2642c8d",
   "metadata": {},
   "source": [
    "### 4. Localise objects and quantify Mtb per cell\n",
    "With a few pre-defined parameters to speed up calculation."
   ]
  },
  {
   "cell_type": "code",
   "execution_count": 31,
   "id": "95873d29-307c-42ee-b40a-fff45f00e5e6",
   "metadata": {},
   "outputs": [],
   "source": [
    "# define thresholds\n",
    "segment_size_thresh = 1000 # minimum size expected of Macrophage\n",
    "mtb_load_thresh = 480 # determined via blind thresholding\n",
    "properties=('area', 'mean_intensity')\n",
    "# scale_factor = 1 # optional scale factor if images are large"
   ]
  },
  {
   "cell_type": "code",
   "execution_count": 32,
   "id": "25413452-9c6b-4877-9820-1c085628a243",
   "metadata": {},
   "outputs": [
    {
     "name": "stderr",
     "output_type": "stream",
     "text": [
      "[INFO][2025/06/19 03:51:12 pm] Localizing objects from segmentation...\n",
      "INFO:btrack.io._localization:Localizing objects from segmentation...\n",
      "[WARNING][2025/06/19 03:51:12 pm] Multichannel intensity image detected, using unweighted centroid.\n",
      "WARNING:btrack.io._localization:Multichannel intensity image detected, using unweighted centroid.\n",
      "progress: 100%|███████████████████████████████████████████████████████████████████████████████████████████████████████████████████████████████████████████| 75/75 [08:14<00:00,  6.59s/it]\n",
      "[INFO][2025/06/19 03:59:26 pm] Objects are of type: <class 'dict'>\n",
      "INFO:btrack.io.utils:Objects are of type: <class 'dict'>\n",
      "[INFO][2025/06/19 03:59:27 pm] ...Found 47218 objects in 75 frames.\n",
      "INFO:btrack.io._localization:...Found 47218 objects in 75 frames.\n"
     ]
    }
   ],
   "source": [
    "# Determine thresholded Mtb presence across the specified Mtb channel\n",
    "manual_mtb_thresh = images[:, 1, ...] >= mtb_load_thresh\n",
    "\n",
    "# Construct a composite intensity image with GFP, RFP, and thresholded Mtb signal\n",
    "# Shape: (T, Y, X, 3) — last axis channels: GFP, RFP, Mtb mask for regionprops inside btrack\n",
    "intensity_image = np.stack([\n",
    "    images[:, 0, ...],                # GFP channel\n",
    "    images[:, 1, ...],                # RFP channel\n",
    "    manual_mtb_thresh.astype(bool)    # Thresholded Mtb presence (binary)\n",
    "], axis=-1)\n",
    "\n",
    "objects = btrack.utils.segmentation_to_objects(\n",
    "        segmentation=masks,\n",
    "        intensity_image=intensity_image,\n",
    "        properties=properties,\n",
    "        # scale=(scale_factor, scale_factor),\n",
    "        use_weighted_centroid=False\n",
    "    )\n",
    "\n",
    "# filter out objects that are too small to be cells\n",
    "objects = [o for o in objects if o.properties['area'] > segment_size_thresh]\n",
    "\n",
    "# add label for infection\n",
    "for obj in objects:\n",
    "    obj.properties = ({\"Infected\": True} \n",
    "                        if obj.properties['mean_intensity'][2] > 0 # index 2 for manual mtb channel \n",
    "                        else {\"Infected\": False})\n",
    "    obj.properties = ({\"Mtb area px\": obj.properties['mean_intensity'][2]*obj.properties['area']}) # index 2 for manual mtb channel "
   ]
  },
  {
   "cell_type": "code",
   "execution_count": 34,
   "id": "43e2e488-4993-451b-8765-f0b79b3b581b",
   "metadata": {},
   "outputs": [
    {
     "data": {
      "text/html": [
       "<table border=\"1\" class=\"dataframe\">\n",
       "  <thead>\n",
       "    <tr style=\"text-align: right;\">\n",
       "      <th></th>\n",
       "      <th>ID</th>\n",
       "      <th>x</th>\n",
       "      <th>y</th>\n",
       "      <th>z</th>\n",
       "      <th>t</th>\n",
       "      <th>dummy</th>\n",
       "      <th>states</th>\n",
       "      <th>label</th>\n",
       "      <th>area</th>\n",
       "      <th>mean_intensity</th>\n",
       "      <th>Infected</th>\n",
       "      <th>Mtb area px</th>\n",
       "    </tr>\n",
       "  </thead>\n",
       "  <tbody>\n",
       "    <tr>\n",
       "      <th>0</th>\n",
       "      <td>6</td>\n",
       "      <td>952.848564</td>\n",
       "      <td>21.314186</td>\n",
       "      <td>0.0</td>\n",
       "      <td>0</td>\n",
       "      <td>False</td>\n",
       "      <td>7</td>\n",
       "      <td>5</td>\n",
       "      <td>1149.0</td>\n",
       "      <td>(3,) array</td>\n",
       "      <td>False</td>\n",
       "      <td>0.0</td>\n",
       "    </tr>\n",
       "  </tbody>\n",
       "</table>"
      ],
      "text/plain": [
       "{'ID': 6, 'x': 952.8485639686684, 'y': 21.314186248912097, 'z': 0.0, 't': 0, 'dummy': False, 'states': 7, 'label': 5, 'area': np.float64(1149.0), 'mean_intensity': array([581.95474326, 122.10530896,   0.        ]), 'Infected': False, 'Mtb area px': np.float64(0.0)}"
      ]
     },
     "execution_count": 34,
     "metadata": {},
     "output_type": "execute_result"
    }
   ],
   "source": [
    "# Inspect a single object prior to linking across time with btrack\n",
    "objects[0]"
   ]
  },
  {
   "cell_type": "markdown",
   "id": "1802d663-90aa-42c9-991b-2d4954888688",
   "metadata": {},
   "source": [
    "### 5. Track across time\n",
    "Supply btrack with the list of objects to link using Bayesian Tracking approach"
   ]
  },
  {
   "cell_type": "code",
   "execution_count": null,
   "id": "ceeaf452-684d-461e-862a-0ca4a7ae6bc3",
   "metadata": {},
   "outputs": [],
   "source": [
    "tracking_model = '../models/tracking_model.json'\n"
   ]
  },
  {
   "cell_type": "code",
   "execution_count": 41,
   "id": "0833de8f-72a5-474e-8011-1374239d4dca",
   "metadata": {},
   "outputs": [],
   "source": [
    "np.save('temp_output.npy', masks)"
   ]
  },
  {
   "cell_type": "code",
   "execution_count": 44,
   "id": "deb37e00-d3f2-45b3-a946-5f226f48a45f",
   "metadata": {},
   "outputs": [
    {
     "data": {
      "text/plain": [
       "<module 'btrack' from '/home/dayn/miniconda3/envs/macrohet/lib/python3.10/site-packages/btrack/__init__.py'>"
      ]
     },
     "execution_count": 44,
     "metadata": {},
     "output_type": "execute_result"
    }
   ],
   "source": [
    "import importlib\n",
    "\n",
    "import btrack\n",
    "\n",
    "# Reload the module to pick up the new shared library\n",
    "importlib.reload(btrack)\n"
   ]
  },
  {
   "cell_type": "code",
   "execution_count": 45,
   "id": "592d5ddd-e6bb-4792-8913-b882e65e7ada",
   "metadata": {},
   "outputs": [
    {
     "name": "stderr",
     "output_type": "stream",
     "text": [
      "[ERROR][2025/06/19 04:30:57 pm] Exception caught:\n",
      " - btrack_version: 0.6.6rc2\n",
      " - system_platform: Linux-5.15.0-139-generic-x86_64-with-glibc2.31\n",
      " - system_python: 3.10.18\n",
      " - function: <function load_library at 0x7f0c94a0a710>\n",
      " - exception: /home/dayn/miniconda3/envs/macrohet/lib/python3.10/site-packages/btrack/libs/libtracker.so: cannot open shared object file: No such file or directory\n",
      " - arguments: (PosixPath('/home/dayn/miniconda3/envs/macrohet/lib/python3.10/site-packages/btrack/libs/libtracker'),)\n",
      " - keywords: {}\n",
      "ERROR:btrack.utils:Exception caught:\n",
      " - btrack_version: 0.6.6rc2\n",
      " - system_platform: Linux-5.15.0-139-generic-x86_64-with-glibc2.31\n",
      " - system_python: 3.10.18\n",
      " - function: <function load_library at 0x7f0c94a0a710>\n",
      " - exception: /home/dayn/miniconda3/envs/macrohet/lib/python3.10/site-packages/btrack/libs/libtracker.so: cannot open shared object file: No such file or directory\n",
      " - arguments: (PosixPath('/home/dayn/miniconda3/envs/macrohet/lib/python3.10/site-packages/btrack/libs/libtracker'),)\n",
      " - keywords: {}\n"
     ]
    },
    {
     "ename": "Exception",
     "evalue": "",
     "output_type": "error",
     "traceback": [
      "\u001b[0;31m---------------------------------------------------------------------------\u001b[0m",
      "\u001b[0;31mOSError\u001b[0m                                   Traceback (most recent call last)",
      "File \u001b[0;32m~/miniconda3/envs/macrohet/lib/python3.10/site-packages/btrack/utils.py:416\u001b[0m, in \u001b[0;36mlog_debug_info.<locals>.wrapped_func_to_debug\u001b[0;34m(*args, **kwargs)\u001b[0m\n\u001b[1;32m    415\u001b[0m \u001b[38;5;28;01mtry\u001b[39;00m:\n\u001b[0;32m--> 416\u001b[0m     \u001b[38;5;28;01mreturn\u001b[39;00m \u001b[43mfn\u001b[49m\u001b[43m(\u001b[49m\u001b[38;5;241;43m*\u001b[39;49m\u001b[43margs\u001b[49m\u001b[43m,\u001b[49m\u001b[43m \u001b[49m\u001b[38;5;241;43m*\u001b[39;49m\u001b[38;5;241;43m*\u001b[39;49m\u001b[43mkwargs\u001b[49m\u001b[43m)\u001b[49m\n\u001b[1;32m    417\u001b[0m \u001b[38;5;28;01mexcept\u001b[39;00m \u001b[38;5;167;01mException\u001b[39;00m \u001b[38;5;28;01mas\u001b[39;00m err:\n",
      "File \u001b[0;32m~/miniconda3/envs/macrohet/lib/python3.10/site-packages/btrack/libwrapper.py:74\u001b[0m, in \u001b[0;36mload_library\u001b[0;34m(filename)\u001b[0m\n\u001b[1;32m     72\u001b[0m full_lib_file \u001b[38;5;241m=\u001b[39m \u001b[38;5;28mstr\u001b[39m(lib_file\u001b[38;5;241m.\u001b[39mwith_suffix(file_ext[system]))\n\u001b[0;32m---> 74\u001b[0m lib \u001b[38;5;241m=\u001b[39m \u001b[43mctypes\u001b[49m\u001b[38;5;241;43m.\u001b[39;49m\u001b[43mcdll\u001b[49m\u001b[38;5;241;43m.\u001b[39;49m\u001b[43mLoadLibrary\u001b[49m\u001b[43m(\u001b[49m\u001b[43mfull_lib_file\u001b[49m\u001b[43m)\u001b[49m\n\u001b[1;32m     75\u001b[0m logger\u001b[38;5;241m.\u001b[39minfo(\u001b[38;5;124mf\u001b[39m\u001b[38;5;124m\"\u001b[39m\u001b[38;5;124mLoaded btrack: \u001b[39m\u001b[38;5;132;01m{\u001b[39;00mfull_lib_file\u001b[38;5;132;01m}\u001b[39;00m\u001b[38;5;124m\"\u001b[39m)\n",
      "File \u001b[0;32m~/miniconda3/envs/macrohet/lib/python3.10/ctypes/__init__.py:452\u001b[0m, in \u001b[0;36mLibraryLoader.LoadLibrary\u001b[0;34m(self, name)\u001b[0m\n\u001b[1;32m    451\u001b[0m \u001b[38;5;28;01mdef\u001b[39;00m\u001b[38;5;250m \u001b[39m\u001b[38;5;21mLoadLibrary\u001b[39m(\u001b[38;5;28mself\u001b[39m, name):\n\u001b[0;32m--> 452\u001b[0m     \u001b[38;5;28;01mreturn\u001b[39;00m \u001b[38;5;28;43mself\u001b[39;49m\u001b[38;5;241;43m.\u001b[39;49m\u001b[43m_dlltype\u001b[49m\u001b[43m(\u001b[49m\u001b[43mname\u001b[49m\u001b[43m)\u001b[49m\n",
      "File \u001b[0;32m~/miniconda3/envs/macrohet/lib/python3.10/ctypes/__init__.py:374\u001b[0m, in \u001b[0;36mCDLL.__init__\u001b[0;34m(self, name, mode, handle, use_errno, use_last_error, winmode)\u001b[0m\n\u001b[1;32m    373\u001b[0m \u001b[38;5;28;01mif\u001b[39;00m handle \u001b[38;5;129;01mis\u001b[39;00m \u001b[38;5;28;01mNone\u001b[39;00m:\n\u001b[0;32m--> 374\u001b[0m     \u001b[38;5;28mself\u001b[39m\u001b[38;5;241m.\u001b[39m_handle \u001b[38;5;241m=\u001b[39m \u001b[43m_dlopen\u001b[49m\u001b[43m(\u001b[49m\u001b[38;5;28;43mself\u001b[39;49m\u001b[38;5;241;43m.\u001b[39;49m\u001b[43m_name\u001b[49m\u001b[43m,\u001b[49m\u001b[43m \u001b[49m\u001b[43mmode\u001b[49m\u001b[43m)\u001b[49m\n\u001b[1;32m    375\u001b[0m \u001b[38;5;28;01melse\u001b[39;00m:\n",
      "\u001b[0;31mOSError\u001b[0m: /home/dayn/miniconda3/envs/macrohet/lib/python3.10/site-packages/btrack/libs/libtracker.so: cannot open shared object file: No such file or directory",
      "\nThe above exception was the direct cause of the following exception:\n",
      "\u001b[0;31mException\u001b[0m                                 Traceback (most recent call last)",
      "Cell \u001b[0;32mIn[45], line 1\u001b[0m\n\u001b[0;32m----> 1\u001b[0m \u001b[38;5;28;01mwith\u001b[39;00m \u001b[43mbtrack\u001b[49m\u001b[38;5;241;43m.\u001b[39;49m\u001b[43mBayesianTracker\u001b[49m\u001b[43m(\u001b[49m\u001b[43m)\u001b[49m \u001b[38;5;28;01mas\u001b[39;00m tracker:\n\u001b[1;32m      2\u001b[0m \n\u001b[1;32m      3\u001b[0m     \u001b[38;5;66;03m# configure the tracker using a config file\u001b[39;00m\n\u001b[1;32m      4\u001b[0m     tracker\u001b[38;5;241m.\u001b[39mconfigure(tracking_model)\n\u001b[1;32m      6\u001b[0m     \u001b[38;5;66;03m# set tracking parameters\u001b[39;00m\n",
      "File \u001b[0;32m~/miniconda3/envs/macrohet/lib/python3.10/site-packages/btrack/core.py:131\u001b[0m, in \u001b[0;36mBayesianTracker.__init__\u001b[0;34m(self, verbose)\u001b[0m\n\u001b[1;32m    129\u001b[0m \u001b[38;5;66;03m# load the library, get an instance of the engine\u001b[39;00m\n\u001b[1;32m    130\u001b[0m \u001b[38;5;28mself\u001b[39m\u001b[38;5;241m.\u001b[39m_initialised \u001b[38;5;241m=\u001b[39m \u001b[38;5;28;01mFalse\u001b[39;00m\n\u001b[0;32m--> 131\u001b[0m \u001b[38;5;28mself\u001b[39m\u001b[38;5;241m.\u001b[39m_lib \u001b[38;5;241m=\u001b[39m \u001b[43mlibwrapper\u001b[49m\u001b[38;5;241;43m.\u001b[39;49m\u001b[43mget_library\u001b[49m\u001b[43m(\u001b[49m\u001b[43m)\u001b[49m\n\u001b[1;32m    132\u001b[0m \u001b[38;5;28mself\u001b[39m\u001b[38;5;241m.\u001b[39m_engine \u001b[38;5;241m=\u001b[39m \u001b[38;5;28mself\u001b[39m\u001b[38;5;241m.\u001b[39m_lib\u001b[38;5;241m.\u001b[39mnew_interface(verbose)\n\u001b[1;32m    134\u001b[0m \u001b[38;5;28;01mif\u001b[39;00m \u001b[38;5;129;01mnot\u001b[39;00m verbose:\n",
      "File \u001b[0;32m~/miniconda3/envs/macrohet/lib/python3.10/site-packages/btrack/libwrapper.py:83\u001b[0m, in \u001b[0;36mget_library\u001b[0;34m()\u001b[0m\n\u001b[1;32m     80\u001b[0m \u001b[38;5;28;01mdef\u001b[39;00m\u001b[38;5;250m \u001b[39m\u001b[38;5;21mget_library\u001b[39m() \u001b[38;5;241m-\u001b[39m\u001b[38;5;241m>\u001b[39m ctypes\u001b[38;5;241m.\u001b[39mCDLL:  \u001b[38;5;66;03m# noqa: PLR0915\u001b[39;00m\n\u001b[1;32m     81\u001b[0m \u001b[38;5;250m    \u001b[39m\u001b[38;5;124;03m\"\"\"Loads and returns the btrack shared library.\"\"\"\u001b[39;00m\n\u001b[0;32m---> 83\u001b[0m     lib \u001b[38;5;241m=\u001b[39m \u001b[43mload_library\u001b[49m\u001b[43m(\u001b[49m\u001b[43mBTRACK_LIB_PATH\u001b[49m\u001b[43m)\u001b[49m\n\u001b[1;32m     85\u001b[0m     \u001b[38;5;66;03m# deal with constructors/destructors\u001b[39;00m\n\u001b[1;32m     86\u001b[0m     lib\u001b[38;5;241m.\u001b[39mnew_interface\u001b[38;5;241m.\u001b[39mrestype \u001b[38;5;241m=\u001b[39m ctypes\u001b[38;5;241m.\u001b[39mc_void_p\n",
      "File \u001b[0;32m~/miniconda3/envs/macrohet/lib/python3.10/site-packages/btrack/utils.py:433\u001b[0m, in \u001b[0;36mlog_debug_info.<locals>.wrapped_func_to_debug\u001b[0;34m(*args, **kwargs)\u001b[0m\n\u001b[1;32m    427\u001b[0m debug_str \u001b[38;5;241m=\u001b[39m \u001b[38;5;124m\"\u001b[39m\u001b[38;5;130;01m\\n\u001b[39;00m\u001b[38;5;124m\"\u001b[39m\u001b[38;5;241m.\u001b[39mjoin(\n\u001b[1;32m    428\u001b[0m     [\u001b[38;5;124mf\u001b[39m\u001b[38;5;124m\"\u001b[39m\u001b[38;5;124m - \u001b[39m\u001b[38;5;132;01m{\u001b[39;00mkey\u001b[38;5;132;01m}\u001b[39;00m\u001b[38;5;124m: \u001b[39m\u001b[38;5;132;01m{\u001b[39;00mvalue\u001b[38;5;132;01m}\u001b[39;00m\u001b[38;5;124m\"\u001b[39m \u001b[38;5;28;01mfor\u001b[39;00m key, value \u001b[38;5;129;01min\u001b[39;00m debug_info\u001b[38;5;241m.\u001b[39mitems()]\n\u001b[1;32m    429\u001b[0m )\n\u001b[1;32m    431\u001b[0m logger\u001b[38;5;241m.\u001b[39merror(\u001b[38;5;124mf\u001b[39m\u001b[38;5;124m\"\u001b[39m\u001b[38;5;124mException caught:\u001b[39m\u001b[38;5;130;01m\\n\u001b[39;00m\u001b[38;5;132;01m{\u001b[39;00mdebug_str\u001b[38;5;132;01m}\u001b[39;00m\u001b[38;5;124m\"\u001b[39m)\n\u001b[0;32m--> 433\u001b[0m \u001b[38;5;28;01mraise\u001b[39;00m \u001b[38;5;167;01mException\u001b[39;00m \u001b[38;5;28;01mfrom\u001b[39;00m\u001b[38;5;250m \u001b[39m\u001b[38;5;21;01merr\u001b[39;00m\n",
      "\u001b[0;31mException\u001b[0m: "
     ]
    }
   ],
   "source": [
    "with btrack.BayesianTracker() as tracker:\n",
    "\n",
    "    # configure the tracker using a config file\n",
    "    tracker.configure(tracking_model)\n",
    "    \n",
    "    # set tracking parameters\n",
    "    tracker.max_search_radius = 4\n",
    "    tracker.tracking_updates = [\"MOTION\", \"VISUAL\"]\n",
    "    \n",
    "    # Set feature keys from first object\n",
    "    tracker.features = list(objects[0].properties.keys())\n",
    "    \n",
    "    # Append segmented object list\n",
    "    tracker.append(objects)\n",
    "    \n",
    "    # Define spatial volume in physical units using scale factor\n",
    "    y_max, x_max = masks.shape[-2], masks.shape[-1]\n",
    "    tracker.volume = (\n",
    "        (0, masks.shape[-2]), # * scale_factor),\n",
    "        (0, masks.shape[-1]) # * scale_factor)\n",
    "    )\n",
    "    \n",
    "    # track them (in interactive mode)\n",
    "    tracker.track(step_size=100)\n",
    "    # generate hypotheses and run the global optimizer\n",
    "    tracker.optimize()\n",
    "    # store the tracks\n",
    "    tracks = tracker.tracks\n"
   ]
  },
  {
   "cell_type": "markdown",
   "id": "0535cd46-5c60-4978-a480-a84ea97be972",
   "metadata": {},
   "source": [
    "# TBC"
   ]
  },
  {
   "cell_type": "code",
   "execution_count": 28,
   "id": "00bec1a4-27f1-4cd4-b841-81b1ee878e45",
   "metadata": {},
   "outputs": [
    {
     "ename": "ModuleNotFoundError",
     "evalue": "No module named 'cellpose'",
     "output_type": "error",
     "traceback": [
      "\u001b[0;31m---------------------------------------------------------------------------\u001b[0m",
      "\u001b[0;31mModuleNotFoundError\u001b[0m                       Traceback (most recent call last)",
      "Cell \u001b[0;32mIn[28], line 4\u001b[0m\n\u001b[1;32m      2\u001b[0m \u001b[38;5;28;01mimport\u001b[39;00m\u001b[38;5;250m \u001b[39m\u001b[38;5;21;01mzarr\u001b[39;00m\n\u001b[1;32m      3\u001b[0m \u001b[38;5;28;01mfrom\u001b[39;00m\u001b[38;5;250m \u001b[39m\u001b[38;5;21;01mtqdm\u001b[39;00m\u001b[38;5;21;01m.\u001b[39;00m\u001b[38;5;21;01mauto\u001b[39;00m\u001b[38;5;250m \u001b[39m\u001b[38;5;28;01mimport\u001b[39;00m tqdm\n\u001b[0;32m----> 4\u001b[0m \u001b[38;5;28;01mfrom\u001b[39;00m\u001b[38;5;250m \u001b[39m\u001b[38;5;21;01mcellpose\u001b[39;00m\u001b[38;5;250m \u001b[39m\u001b[38;5;28;01mimport\u001b[39;00m models\n\u001b[1;32m      5\u001b[0m \u001b[38;5;28;01mimport\u001b[39;00m\u001b[38;5;250m \u001b[39m\u001b[38;5;21;01mtorch\u001b[39;00m\n\u001b[1;32m      7\u001b[0m \u001b[38;5;66;03m# setting device on GPU if available, else CPU\u001b[39;00m\n",
      "\u001b[0;31mModuleNotFoundError\u001b[0m: No module named 'cellpose'"
     ]
    }
   ],
   "source": [
    "from pathlib import Path\n",
    "\n",
    "import btrack\n",
    "import btrack.io\n",
    "import btrack.utils\n",
    "import numpy as np\n",
    "import torch\n",
    "import zarr\n",
    "from cellpose import models\n",
    "from tqdm.auto import tqdm\n",
    "\n",
    "from macrohet.label import localise, segment, track\n",
    "\n",
    "# setting device on GPU if available, else CPU\n",
    "device = torch.device('cuda' if torch.cuda.is_available() else 'cpu')\n",
    "#Additional Info when using cuda\n",
    "if device.type == 'cuda':\n",
    "    print(torch.cuda.get_device_name(0))\n",
    "    print('Memory Usage:')\n",
    "    print('Allocated:', round(torch.cuda.memory_allocated(0)/1024**3,1), 'GB')\n",
    "    print('Cached:   ', round(torch.cuda.memory_reserved(0)/1024**3,1), 'GB')"
   ]
  },
  {
   "cell_type": "markdown",
   "id": "b45641d0-7da5-4c89-84a0-bcdf26987d96",
   "metadata": {},
   "source": [
    "### Load images"
   ]
  },
  {
   "cell_type": "markdown",
   "id": "06f99d78-2129-43a9-8aa6-a6937964448a",
   "metadata": {},
   "source": [
    "# WIP - deciding which example data and how to host it \n",
    "\n",
    "think downsizing the images by a factor of 5 will make sharing and archiving over github/zenodo much more practical"
   ]
  },
  {
   "cell_type": "code",
   "execution_count": 25,
   "id": "66424cf0-e941-4183-9bcc-71483d319215",
   "metadata": {},
   "outputs": [],
   "source": [
    "zarr_path = Path(\"../data/example_data.zarr\")"
   ]
  },
  {
   "cell_type": "code",
   "execution_count": 27,
   "id": "6ef2a16a-c9a9-433a-b650-6535558c61c4",
   "metadata": {},
   "outputs": [
    {
     "ename": "KeyError",
     "evalue": "'images'",
     "output_type": "error",
     "traceback": [
      "\u001b[0;31m---------------------------------------------------------------------------\u001b[0m",
      "\u001b[0;31mKeyError\u001b[0m                                  Traceback (most recent call last)",
      "Cell \u001b[0;32mIn[27], line 2\u001b[0m\n\u001b[1;32m      1\u001b[0m zarr_root \u001b[38;5;241m=\u001b[39m zarr\u001b[38;5;241m.\u001b[39mopen_group(zarr_path, mode\u001b[38;5;241m=\u001b[39m\u001b[38;5;124m\"\u001b[39m\u001b[38;5;124mr\u001b[39m\u001b[38;5;124m\"\u001b[39m)  \u001b[38;5;66;03m# important: open_group, not open_array\u001b[39;00m\n\u001b[0;32m----> 2\u001b[0m image_array \u001b[38;5;241m=\u001b[39m \u001b[43mzarr_root\u001b[49m\u001b[43m[\u001b[49m\u001b[38;5;124;43m\"\u001b[39;49m\u001b[38;5;124;43mimages\u001b[39;49m\u001b[38;5;124;43m\"\u001b[39;49m\u001b[43m]\u001b[49m  \u001b[38;5;66;03m# now this will work\u001b[39;00m\n",
      "File \u001b[0;32m~/miniconda3/envs/macrohet/lib/python3.10/site-packages/zarr/hierarchy.py:511\u001b[0m, in \u001b[0;36mGroup.__getitem__\u001b[0;34m(self, item)\u001b[0m\n\u001b[1;32m    509\u001b[0m         \u001b[38;5;28;01mraise\u001b[39;00m \u001b[38;5;167;01mKeyError\u001b[39;00m(item)\n\u001b[1;32m    510\u001b[0m \u001b[38;5;28;01melse\u001b[39;00m:\n\u001b[0;32m--> 511\u001b[0m     \u001b[38;5;28;01mraise\u001b[39;00m \u001b[38;5;167;01mKeyError\u001b[39;00m(item)\n",
      "\u001b[0;31mKeyError\u001b[0m: 'images'"
     ]
    }
   ],
   "source": [
    "zarr_root = zarr.open_group(zarr_path, mode=\"r\")  # important: open_group, not open_array\n",
    "images = zarr_root[\"images\"]  # now this will work"
   ]
  },
  {
   "cell_type": "markdown",
   "id": "aeed050f-fc69-4c7b-8bad-7e4e57477edd",
   "metadata": {},
   "source": [
    "### Create segmentation map"
   ]
  },
  {
   "cell_type": "code",
   "execution_count": null,
   "id": "f6c51dd6-ffc2-4b41-8921-6caefbb24b42",
   "metadata": {},
   "outputs": [],
   "source": [
    "masks = np.stack([segment(frame, model=segmentation_model) \n",
    "                  for frame in tqdm(images[:,0,...],  # segmenting the GFP channel \n",
    "                                    desc = 'Segmenting')])"
   ]
  },
  {
   "cell_type": "markdown",
   "id": "40b6d9af-beec-477b-b7af-3fb92348e470",
   "metadata": {},
   "source": [
    "### Save segmentation out "
   ]
  },
  {
   "cell_type": "markdown",
   "id": "a1f3f3fd-034e-4c4e-98c2-5dccec0cc6e6",
   "metadata": {},
   "source": [
    "#### Option 1: using btrack and h5 compression"
   ]
  },
  {
   "cell_type": "code",
   "execution_count": null,
   "id": "9835a3ee-45e5-43ee-9b38-3c4224b67902",
   "metadata": {},
   "outputs": [],
   "source": [
    "segmentation_output_fn = '../data/segmentation.h5'\n",
    "\n",
    "with btrack.io.HDF5FileHandler(segmentation_output_fn, \n",
    "                                   'w', \n",
    "                                   obj_type='obj_type_1'\n",
    "                                   ) as writer:\n",
    "        writer.write_segmentation(masks)"
   ]
  },
  {
   "cell_type": "markdown",
   "id": "c19a0ec9-0536-4c7f-8d9a-d5b7e7c94e67",
   "metadata": {},
   "source": [
    "#### Option 2: using Zarr (NGFF-style layout)"
   ]
  },
  {
   "cell_type": "code",
   "execution_count": null,
   "id": "515174d7-9c76-4aaa-880b-cc846ad987e8",
   "metadata": {},
   "outputs": [],
   "source": [
    "segmentation_output_fn = '../data/example_data.zarr'\n",
    "label_group_path = Path(segmentation_output_fn) / 'labels' / '0'\n",
    "\n",
    "label_group_path.mkdir(parents=True, exist_ok=True)\n",
    "\n",
    "zarr.save_array(\n",
    "    store=label_group_path,\n",
    "    arr=masks,  # this should be your stacked segmentation array\n",
    "    compressor=zarr.Blosc(cname='zstd', clevel=5),\n",
    "    overwrite=True\n",
    ")\n",
    "\n",
    "# attach NGFF label metadata to Zarr root\n",
    "zarr_root = zarr.open_group(segmentation_output_fn, mode='a')\n",
    "zarr_root.attrs['labels'] = [{\"path\": \"labels/0\", \"type\": \"label\"}]"
   ]
  },
  {
   "cell_type": "markdown",
   "id": "7dcb0f22-3429-4703-8f65-de53dc9232b5",
   "metadata": {},
   "source": [
    "### Quantify intracellular Mtb for each cell segment"
   ]
  },
  {
   "cell_type": "code",
   "execution_count": null,
   "id": "684cf88b-56e5-404e-ae66-4f78f9ef838c",
   "metadata": {},
   "outputs": [],
   "source": [
    "# define thresholds\n",
    "segment_size_thresh = 5000\n",
    "mtb_load_thresh = 480 # determined via blind thresholding"
   ]
  },
  {
   "cell_type": "code",
   "execution_count": null,
   "id": "86e4f686-66b8-4a6e-b351-1671ecb3fe4b",
   "metadata": {},
   "outputs": [],
   "source": [
    "# Determine thresholded Mtb presence across the specified Mtb channel\n",
    "manual_mtb_thresh = images[:, 1, ...] >= mtb_load_thresh\n",
    "\n",
    "# Construct a composite intensity image with GFP, RFP, and thresholded Mtb signal\n",
    "# Shape: (T, Y, X, 3) — last axis channels: GFP, RFP, Mtb mask for regionprops \n",
    "intensity_image = np.stack([\n",
    "    images[:, 0, ...],                # GFP channel\n",
    "    images[:, 1, ...],                # RFP channel\n",
    "    manual_mtb_thresh.astype(bool)    # Thresholded Mtb presence (binary)\n",
    "], axis=-1)\n",
    "\n",
    "# localise objects\n",
    "objects = localise(masks, \n",
    "                   intensity_image, \n",
    "                   )\n",
    "\n",
    "# filter out objects that are too small to be cells\n",
    "objects = [o for o in objects if o.properties['area'] > segment_size_thresh]\n",
    "\n",
    "# add label for infection\n",
    "for obj in objects:\n",
    "    obj.properties = ({\"Infected\": True} \n",
    "                        if obj.properties['mean_intensity'][2] > 0 # index 2 for manual mtb channel \n",
    "                        else {\"Infected\": False})\n",
    "    obj.properties = ({\"Mtb area px\": obj.properties['mean_intensity'][2]*obj.properties['area']}) # index 2 for manual mtb channel "
   ]
  },
  {
   "cell_type": "markdown",
   "id": "dbbfb430-3213-4878-a690-a9e38629364e",
   "metadata": {},
   "source": [
    "### Save out single-cell quantifications prior to tracking across time"
   ]
  },
  {
   "cell_type": "code",
   "execution_count": null,
   "id": "69f0186e-0459-4e75-a389-1a3e90b4e560",
   "metadata": {},
   "outputs": [],
   "source": [
    "objects_output_fn = '../data/objects.h5'\n",
    "\n",
    "with btrack.io.HDF5FileHandler(\n",
    "    objects_output_fn, \n",
    "    'w', \n",
    "    obj_type='obj_type_1'\n",
    ") as writer:\n",
    "    writer.write_objects(objects)\n"
   ]
  },
  {
   "cell_type": "markdown",
   "id": "05af455b-a2cb-48ce-b113-f788e55950b7",
   "metadata": {},
   "source": [
    "### Track single-cell objects across the time lapse"
   ]
  },
  {
   "cell_type": "code",
   "execution_count": null,
   "id": "82b256b9-52dd-41d6-ac92-f2f51219a149",
   "metadata": {},
   "outputs": [],
   "source": [
    "config_fn = '../models/tracking_model.json'\n",
    "tracks = track(objects, masks, config_fn, search_radius = 20)"
   ]
  },
  {
   "cell_type": "markdown",
   "id": "ebf59a72-0aa7-48c7-99e4-1d1693a79807",
   "metadata": {},
   "source": [
    "### Save out tracks"
   ]
  },
  {
   "cell_type": "markdown",
   "id": "ed4a888e-3ded-48f7-a63e-dbaf3ba39ccf",
   "metadata": {},
   "source": [
    "#### Option 1: using btrack and h5 compression"
   ]
  },
  {
   "cell_type": "code",
   "execution_count": null,
   "id": "34459913-b69c-40a1-9cac-16c88ad93a33",
   "metadata": {},
   "outputs": [],
   "source": [
    "tracks_output_fn = '../data/tracks.h5'\n",
    "\n",
    "with btrack.io.HDF5FileHandler(\n",
    "    tracks_output_fn, \n",
    "    'w', \n",
    "    obj_type='obj_type_1'\n",
    ") as writer:\n",
    "    writer.write_tracks(tracks)\n"
   ]
  },
  {
   "cell_type": "markdown",
   "id": "d757f797-529f-4067-b5f1-0e3d67c3d808",
   "metadata": {},
   "source": [
    "#### Option 2: using Zarr (NGFF-style layout)"
   ]
  },
  {
   "cell_type": "code",
   "execution_count": null,
   "id": "dae4bf27-c034-46f7-ae5a-3d11eac37245",
   "metadata": {},
   "outputs": [],
   "source": [
    "# Flatten all timepoints from all tracks\n",
    "tracklets = [\n",
    "    (track_id, p.t, p.y, p.x, p.properties)\n",
    "    for track_id, track in enumerate(tracks)\n",
    "    for p in track\n",
    "]\n",
    "\n",
    "# Extract main track array: [track_id, t, y, x]\n",
    "track_array = np.array([\n",
    "    (tid, t, y, x)\n",
    "    for tid, t, y, x, _ in tracklets\n",
    "], dtype=np.float32)\n",
    "\n",
    "# Extract features\n",
    "features = {\n",
    "    \"area\": np.array([p[\"area\"] for _, _, _, _, p in tracklets], dtype=np.float32),\n",
    "    \"orientation\": np.array([p[\"orientation\"] for _, _, _, _, p in tracklets], dtype=np.float32),\n",
    "    \"major_axis_length\": np.array([p[\"major_axis_length\"] for _, _, _, _, p in tracklets], dtype=np.float32),\n",
    "    \"minor_axis_length\": np.array([p[\"minor_axis_length\"] for _, _, _, _, p in tracklets], dtype=np.float32),\n",
    "    \"mean_intensity\": np.stack([p[\"mean_intensity\"] for _, _, _, _, p in tracklets]).astype(np.float32)\n",
    "}\n",
    "\n",
    "# Write to Zarr\n",
    "store = zarr.open(zarr_path, mode=\"a\")\n",
    "\n",
    "# Main Napari-compatible tracks array\n",
    "store.create_dataset(\"tracks\", data=track_array, compressor=zarr.Blosc(), overwrite=True)\n",
    "\n",
    "# Features group\n",
    "feat_grp = store.require_group(\"features\")\n",
    "for key, arr in features.items():\n",
    "    feat_grp.create_dataset(key, data=arr, compressor=zarr.Blosc(), overwrite=True)\n",
    "\n",
    "# Add Napari track metadata\n",
    "store.attrs[\"tracks_metadata\"] = {\n",
    "    \"format_version\": \"0.1\",\n",
    "    \"type\": \"napari_tracks\",\n",
    "    \"columns\": [\"track_id\", \"time\", \"y\", \"x\"]\n",
    "}\n"
   ]
  }
 ],
 "metadata": {
  "kernelspec": {
   "display_name": "macrohet",
   "language": "python",
   "name": "macrohet"
  },
  "language_info": {
   "codemirror_mode": {
    "name": "ipython",
    "version": 3
   },
   "file_extension": ".py",
   "mimetype": "text/x-python",
   "name": "python",
   "nbconvert_exporter": "python",
   "pygments_lexer": "ipython3",
   "version": "3.10.18"
  }
 },
 "nbformat": 4,
 "nbformat_minor": 5
}
