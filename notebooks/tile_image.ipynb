{
 "cells": [
  {
   "cell_type": "markdown",
   "id": "e7327596-95d0-478c-84ad-d757ac3b4c43",
   "metadata": {},
   "source": [
    "# Tile mosaic image acquisitions from Opera Phenix "
   ]
  },
  {
   "cell_type": "markdown",
   "id": "4ac2009a-6944-44d5-a2ac-749d2ab088fd",
   "metadata": {},
   "source": [
    "temp downsizing code "
   ]
  },
  {
   "cell_type": "code",
   "execution_count": null,
   "id": "36079621-d34e-43e4-8c89-705fec111031",
   "metadata": {},
   "outputs": [
    {
     "data": {
      "application/vnd.jupyter.widget-view+json": {
       "model_id": "cbdde449dc6f497ea0bb7f96faf40e03",
       "version_major": 2,
       "version_minor": 0
      },
      "text/plain": [
       "  0%|          | 0/4050 [00:00<?, ?it/s]"
      ]
     },
     "metadata": {},
     "output_type": "display_data"
    }
   ],
   "source": [
    "import os\n",
    "from glob import glob\n",
    "from tifffile import imread, imwrite\n",
    "from skimage.transform import resize\n",
    "import numpy as np\n",
    "from tqdm.auto import tqdm\n",
    "\n",
    "# Set your source and output directory\n",
    "src_dir = '/home/dayn/analysis/macrohet/data/untiled_images/Images/'\n",
    "out_dir = '/home/dayn/analysis/macrohet/data/untiled_images/ds'\n",
    "scale_factor = 1 / 5.04\n",
    "\n",
    "os.makedirs(out_dir, exist_ok=True)\n",
    "\n",
    "# Get all TIFF files in the directory\n",
    "tiff_paths = sorted(glob(os.path.join(src_dir, \"*.tiff\")))\n",
    "\n",
    "for path in tqdm(tiff_paths):\n",
    "    img = imread(path)\n",
    "    \n",
    "    # Resize with anti-aliasing for downscaling\n",
    "    downscaled = resize(\n",
    "        img,\n",
    "        output_shape=(int(img.shape[0] * scale_factor), int(img.shape[1] * scale_factor)),\n",
    "        order=1,  # bilinear\n",
    "        preserve_range=True,\n",
    "        anti_aliasing=True\n",
    "    ).astype(img.dtype)\n",
    "\n",
    "    # Save to output directory with same name\n",
    "    out_path = os.path.join(out_dir, os.path.basename(path))\n",
    "    imwrite(out_path, downscaled)\n"
   ]
  }
 ],
 "metadata": {
  "kernelspec": {
   "display_name": "macrohet",
   "language": "python",
   "name": "macrohet"
  },
  "language_info": {
   "codemirror_mode": {
    "name": "ipython",
    "version": 3
   },
   "file_extension": ".py",
   "mimetype": "text/x-python",
   "name": "python",
   "nbconvert_exporter": "python",
   "pygments_lexer": "ipython3",
   "version": "3.10.18"
  }
 },
 "nbformat": 4,
 "nbformat_minor": 5
}
