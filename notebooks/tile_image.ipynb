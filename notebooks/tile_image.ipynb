{
 "cells": [
  {
   "cell_type": "markdown",
   "id": "e7327596-95d0-478c-84ad-d757ac3b4c43",
   "metadata": {},
   "source": [
    "# Tile mosaic image acquisitions from Opera Phenix "
   ]
  },
  {
   "cell_type": "markdown",
   "id": "4ac2009a-6944-44d5-a2ac-749d2ab088fd",
   "metadata": {},
   "source": [
    "temp downsizing code "
   ]
  },
  {
   "cell_type": "code",
   "execution_count": 2,
   "id": "36079621-d34e-43e4-8c89-705fec111031",
   "metadata": {},
   "outputs": [
    {
     "data": {
      "application/vnd.jupyter.widget-view+json": {
       "model_id": "cbdde449dc6f497ea0bb7f96faf40e03",
       "version_major": 2,
       "version_minor": 0
      },
      "text/plain": [
       "  0%|          | 0/4050 [00:00<?, ?it/s]"
      ]
     },
     "metadata": {},
     "output_type": "display_data"
    }
   ],
   "source": [
    "import os\n",
    "from glob import glob\n",
    "from tifffile import imread, imwrite\n",
    "from skimage.transform import resize\n",
    "import numpy as np\n",
    "from tqdm.auto import tqdm\n",
    "\n",
    "# Set your source and output directory\n",
    "src_dir = '/home/dayn/analysis/macrohet/data/untiled_images/Images/'\n",
    "out_dir = '/home/dayn/analysis/macrohet/data/untiled_images/ds'\n",
    "scale_factor = 1 / 5.04\n",
    "\n",
    "os.makedirs(out_dir, exist_ok=True)\n",
    "\n",
    "# Get all TIFF files in the directory\n",
    "tiff_paths = sorted(glob(os.path.join(src_dir, \"*.tiff\")))\n",
    "\n",
    "for path in tqdm(tiff_paths):\n",
    "    img = imread(path)\n",
    "    \n",
    "    # Resize with anti-aliasing for downscaling\n",
    "    downscaled = resize(\n",
    "        img,\n",
    "        output_shape=(int(img.shape[0] * scale_factor), int(img.shape[1] * scale_factor)),\n",
    "        order=1,  # bilinear\n",
    "        preserve_range=True,\n",
    "        anti_aliasing=True\n",
    "    ).astype(img.dtype)\n",
    "\n",
    "    # Save to output directory with same name\n",
    "    out_path = os.path.join(out_dir, os.path.basename(path))\n",
    "    imwrite(out_path, downscaled)\n"
   ]
  },
  {
   "cell_type": "code",
   "execution_count": 3,
   "id": "e93f0c02-a733-484e-b0d0-5bf786394278",
   "metadata": {},
   "outputs": [],
   "source": [
    "from skimage import io "
   ]
  },
  {
   "cell_type": "code",
   "execution_count": 9,
   "id": "a683eeaa-a3b6-49ad-852c-ae0d0354b92e",
   "metadata": {},
   "outputs": [],
   "source": [
    "fns = glob('/home/dayn/analysis/macrohet/data/untiled_images/ds/*f01p01-ch1*.tif*')"
   ]
  },
  {
   "cell_type": "code",
   "execution_count": 14,
   "id": "90024572-a64c-47cf-abed-b68bcc5cd4b6",
   "metadata": {
    "scrolled": true
   },
   "outputs": [
    {
     "data": {
      "text/plain": [
       "['/home/dayn/analysis/macrohet/data/untiled_images/ds/r03c05f01p01-ch1sk10fk1fl1.tiff',\n",
       " '/home/dayn/analysis/macrohet/data/untiled_images/ds/r03c05f01p01-ch1sk11fk1fl1.tiff',\n",
       " '/home/dayn/analysis/macrohet/data/untiled_images/ds/r03c05f01p01-ch1sk12fk1fl1.tiff',\n",
       " '/home/dayn/analysis/macrohet/data/untiled_images/ds/r03c05f01p01-ch1sk13fk1fl1.tiff',\n",
       " '/home/dayn/analysis/macrohet/data/untiled_images/ds/r03c05f01p01-ch1sk14fk1fl1.tiff',\n",
       " '/home/dayn/analysis/macrohet/data/untiled_images/ds/r03c05f01p01-ch1sk15fk1fl1.tiff',\n",
       " '/home/dayn/analysis/macrohet/data/untiled_images/ds/r03c05f01p01-ch1sk16fk1fl1.tiff',\n",
       " '/home/dayn/analysis/macrohet/data/untiled_images/ds/r03c05f01p01-ch1sk17fk1fl1.tiff',\n",
       " '/home/dayn/analysis/macrohet/data/untiled_images/ds/r03c05f01p01-ch1sk18fk1fl1.tiff',\n",
       " '/home/dayn/analysis/macrohet/data/untiled_images/ds/r03c05f01p01-ch1sk19fk1fl1.tiff',\n",
       " '/home/dayn/analysis/macrohet/data/untiled_images/ds/r03c05f01p01-ch1sk1fk1fl1.tiff',\n",
       " '/home/dayn/analysis/macrohet/data/untiled_images/ds/r03c05f01p01-ch1sk20fk1fl1.tiff',\n",
       " '/home/dayn/analysis/macrohet/data/untiled_images/ds/r03c05f01p01-ch1sk21fk1fl1.tiff',\n",
       " '/home/dayn/analysis/macrohet/data/untiled_images/ds/r03c05f01p01-ch1sk22fk1fl1.tiff',\n",
       " '/home/dayn/analysis/macrohet/data/untiled_images/ds/r03c05f01p01-ch1sk23fk1fl1.tiff',\n",
       " '/home/dayn/analysis/macrohet/data/untiled_images/ds/r03c05f01p01-ch1sk24fk1fl1.tiff',\n",
       " '/home/dayn/analysis/macrohet/data/untiled_images/ds/r03c05f01p01-ch1sk25fk1fl1.tiff',\n",
       " '/home/dayn/analysis/macrohet/data/untiled_images/ds/r03c05f01p01-ch1sk26fk1fl1.tiff',\n",
       " '/home/dayn/analysis/macrohet/data/untiled_images/ds/r03c05f01p01-ch1sk27fk1fl1.tiff',\n",
       " '/home/dayn/analysis/macrohet/data/untiled_images/ds/r03c05f01p01-ch1sk28fk1fl1.tiff',\n",
       " '/home/dayn/analysis/macrohet/data/untiled_images/ds/r03c05f01p01-ch1sk29fk1fl1.tiff',\n",
       " '/home/dayn/analysis/macrohet/data/untiled_images/ds/r03c05f01p01-ch1sk2fk1fl1.tiff',\n",
       " '/home/dayn/analysis/macrohet/data/untiled_images/ds/r03c05f01p01-ch1sk30fk1fl1.tiff',\n",
       " '/home/dayn/analysis/macrohet/data/untiled_images/ds/r03c05f01p01-ch1sk31fk1fl1.tiff',\n",
       " '/home/dayn/analysis/macrohet/data/untiled_images/ds/r03c05f01p01-ch1sk32fk1fl1.tiff',\n",
       " '/home/dayn/analysis/macrohet/data/untiled_images/ds/r03c05f01p01-ch1sk33fk1fl1.tiff',\n",
       " '/home/dayn/analysis/macrohet/data/untiled_images/ds/r03c05f01p01-ch1sk34fk1fl1.tiff',\n",
       " '/home/dayn/analysis/macrohet/data/untiled_images/ds/r03c05f01p01-ch1sk35fk1fl1.tiff',\n",
       " '/home/dayn/analysis/macrohet/data/untiled_images/ds/r03c05f01p01-ch1sk36fk1fl1.tiff',\n",
       " '/home/dayn/analysis/macrohet/data/untiled_images/ds/r03c05f01p01-ch1sk37fk1fl1.tiff',\n",
       " '/home/dayn/analysis/macrohet/data/untiled_images/ds/r03c05f01p01-ch1sk38fk1fl1.tiff',\n",
       " '/home/dayn/analysis/macrohet/data/untiled_images/ds/r03c05f01p01-ch1sk39fk1fl1.tiff',\n",
       " '/home/dayn/analysis/macrohet/data/untiled_images/ds/r03c05f01p01-ch1sk3fk1fl1.tiff',\n",
       " '/home/dayn/analysis/macrohet/data/untiled_images/ds/r03c05f01p01-ch1sk40fk1fl1.tiff',\n",
       " '/home/dayn/analysis/macrohet/data/untiled_images/ds/r03c05f01p01-ch1sk41fk1fl1.tiff',\n",
       " '/home/dayn/analysis/macrohet/data/untiled_images/ds/r03c05f01p01-ch1sk42fk1fl1.tiff',\n",
       " '/home/dayn/analysis/macrohet/data/untiled_images/ds/r03c05f01p01-ch1sk43fk1fl1.tiff',\n",
       " '/home/dayn/analysis/macrohet/data/untiled_images/ds/r03c05f01p01-ch1sk44fk1fl1.tiff',\n",
       " '/home/dayn/analysis/macrohet/data/untiled_images/ds/r03c05f01p01-ch1sk45fk1fl1.tiff',\n",
       " '/home/dayn/analysis/macrohet/data/untiled_images/ds/r03c05f01p01-ch1sk46fk1fl1.tiff',\n",
       " '/home/dayn/analysis/macrohet/data/untiled_images/ds/r03c05f01p01-ch1sk47fk1fl1.tiff',\n",
       " '/home/dayn/analysis/macrohet/data/untiled_images/ds/r03c05f01p01-ch1sk48fk1fl1.tiff',\n",
       " '/home/dayn/analysis/macrohet/data/untiled_images/ds/r03c05f01p01-ch1sk49fk1fl1.tiff',\n",
       " '/home/dayn/analysis/macrohet/data/untiled_images/ds/r03c05f01p01-ch1sk4fk1fl1.tiff',\n",
       " '/home/dayn/analysis/macrohet/data/untiled_images/ds/r03c05f01p01-ch1sk50fk1fl1.tiff',\n",
       " '/home/dayn/analysis/macrohet/data/untiled_images/ds/r03c05f01p01-ch1sk51fk1fl1.tiff',\n",
       " '/home/dayn/analysis/macrohet/data/untiled_images/ds/r03c05f01p01-ch1sk52fk1fl1.tiff',\n",
       " '/home/dayn/analysis/macrohet/data/untiled_images/ds/r03c05f01p01-ch1sk53fk1fl1.tiff',\n",
       " '/home/dayn/analysis/macrohet/data/untiled_images/ds/r03c05f01p01-ch1sk54fk1fl1.tiff',\n",
       " '/home/dayn/analysis/macrohet/data/untiled_images/ds/r03c05f01p01-ch1sk55fk1fl1.tiff',\n",
       " '/home/dayn/analysis/macrohet/data/untiled_images/ds/r03c05f01p01-ch1sk56fk1fl1.tiff',\n",
       " '/home/dayn/analysis/macrohet/data/untiled_images/ds/r03c05f01p01-ch1sk57fk1fl1.tiff',\n",
       " '/home/dayn/analysis/macrohet/data/untiled_images/ds/r03c05f01p01-ch1sk58fk1fl1.tiff',\n",
       " '/home/dayn/analysis/macrohet/data/untiled_images/ds/r03c05f01p01-ch1sk59fk1fl1.tiff',\n",
       " '/home/dayn/analysis/macrohet/data/untiled_images/ds/r03c05f01p01-ch1sk5fk1fl1.tiff',\n",
       " '/home/dayn/analysis/macrohet/data/untiled_images/ds/r03c05f01p01-ch1sk60fk1fl1.tiff',\n",
       " '/home/dayn/analysis/macrohet/data/untiled_images/ds/r03c05f01p01-ch1sk61fk1fl1.tiff',\n",
       " '/home/dayn/analysis/macrohet/data/untiled_images/ds/r03c05f01p01-ch1sk62fk1fl1.tiff',\n",
       " '/home/dayn/analysis/macrohet/data/untiled_images/ds/r03c05f01p01-ch1sk63fk1fl1.tiff',\n",
       " '/home/dayn/analysis/macrohet/data/untiled_images/ds/r03c05f01p01-ch1sk64fk1fl1.tiff',\n",
       " '/home/dayn/analysis/macrohet/data/untiled_images/ds/r03c05f01p01-ch1sk65fk1fl1.tiff',\n",
       " '/home/dayn/analysis/macrohet/data/untiled_images/ds/r03c05f01p01-ch1sk66fk1fl1.tiff',\n",
       " '/home/dayn/analysis/macrohet/data/untiled_images/ds/r03c05f01p01-ch1sk67fk1fl1.tiff',\n",
       " '/home/dayn/analysis/macrohet/data/untiled_images/ds/r03c05f01p01-ch1sk68fk1fl1.tiff',\n",
       " '/home/dayn/analysis/macrohet/data/untiled_images/ds/r03c05f01p01-ch1sk69fk1fl1.tiff',\n",
       " '/home/dayn/analysis/macrohet/data/untiled_images/ds/r03c05f01p01-ch1sk6fk1fl1.tiff',\n",
       " '/home/dayn/analysis/macrohet/data/untiled_images/ds/r03c05f01p01-ch1sk70fk1fl1.tiff',\n",
       " '/home/dayn/analysis/macrohet/data/untiled_images/ds/r03c05f01p01-ch1sk71fk1fl1.tiff',\n",
       " '/home/dayn/analysis/macrohet/data/untiled_images/ds/r03c05f01p01-ch1sk72fk1fl1.tiff',\n",
       " '/home/dayn/analysis/macrohet/data/untiled_images/ds/r03c05f01p01-ch1sk73fk1fl1.tiff',\n",
       " '/home/dayn/analysis/macrohet/data/untiled_images/ds/r03c05f01p01-ch1sk74fk1fl1.tiff',\n",
       " '/home/dayn/analysis/macrohet/data/untiled_images/ds/r03c05f01p01-ch1sk75fk1fl1.tiff',\n",
       " '/home/dayn/analysis/macrohet/data/untiled_images/ds/r03c05f01p01-ch1sk7fk1fl1.tiff',\n",
       " '/home/dayn/analysis/macrohet/data/untiled_images/ds/r03c05f01p01-ch1sk8fk1fl1.tiff',\n",
       " '/home/dayn/analysis/macrohet/data/untiled_images/ds/r03c05f01p01-ch1sk9fk1fl1.tiff']"
      ]
     },
     "execution_count": 14,
     "metadata": {},
     "output_type": "execute_result"
    }
   ],
   "source": [
    "sorted(fns)"
   ]
  },
  {
   "cell_type": "code",
   "execution_count": 15,
   "id": "ae17f661-7ff4-4625-9855-faf771439ccb",
   "metadata": {},
   "outputs": [],
   "source": [
    "image = np.stack([io.imread(fn) for fn in sorted(fns)])"
   ]
  },
  {
   "cell_type": "code",
   "execution_count": 16,
   "id": "d5baac88-9f28-45cf-b27f-852d220f5313",
   "metadata": {},
   "outputs": [],
   "source": [
    "import napari"
   ]
  },
  {
   "cell_type": "code",
   "execution_count": 17,
   "id": "4614bc6c-742e-48c5-ae04-012461b385e5",
   "metadata": {},
   "outputs": [
    {
     "data": {
      "text/plain": [
       "<Image layer 'image' at 0x7fb90be15180>"
      ]
     },
     "execution_count": 17,
     "metadata": {},
     "output_type": "execute_result"
    }
   ],
   "source": [
    "v = napari.Viewer(title='testing downscale')\n",
    "v.add_image(image)"
   ]
  },
  {
   "cell_type": "markdown",
   "id": "23148671-c102-4660-b450-8c14e1e75e48",
   "metadata": {},
   "source": [
    "### Cropping index metadata file"
   ]
  },
  {
   "cell_type": "code",
   "execution_count": 18,
   "id": "cacfac73-fa51-49d4-a3a1-5d70e53f5f14",
   "metadata": {},
   "outputs": [
    {
     "name": "stdout",
     "output_type": "stream",
     "text": [
      "﻿<?xml version=\"1.0\" encoding=\"utf-8\"?>\n",
      "<EvaluationInputData xmlns:xsd=\"http://www.w3.org/2001/XMLSchema\" xmlns:xsi=\"http://www.w3.org/2001/XMLSchema-instance\" Version=\"1\" xmlns=\"http://www.perkinelmer.com/PEHH/HarmonyV5\">\n",
      "  <User>santucp</User>\n",
      "  <InstrumentType>Phenix</InstrumentType>\n",
      "  <Plates>\n",
      "    <Plate>\n",
      "      <PlateID>Live_Cell_ATB_PS_20210416</PlateID>\n",
      "      <MeasurementID>6c52e048-2e42-45e6-b7af-a6d7f8f2d6cb</MeasurementID>\n",
      "      <MeasurementStartTime>2021-04-16T19:09:04.1429235+01:00</MeasurementStartTime>\n",
      "      <Name>Live_Cell_ATB_PS_20210416</Name>\n",
      "      <PlateTypeName>96 PerkinElmer ViewPlate Glass</PlateTypeName>\n",
      "      <PlateRows>8</PlateRows>\n",
      "      <PlateColumns>12</PlateColumns>\n",
      "      <Well id=\"0303\" />\n",
      "      <Well id=\"0304\" />\n",
      "      <Well id=\"0305\" />\n",
      "      <Well id=\"0306\" />\n",
      "      <Well id=\"0307\" />\n",
      "      <Well id=\"0308\" />\n",
      "      <Well id=\"0309\" />\n",
      "      <Well id=\"0310\" />\n",
      "      <Well id=\"0403\" />\n",
      "      <Well id=\"0404\" />\n",
      "      <Well id=\"0405\" />\n",
      "      <Well id=\"0406\" />\n",
      "      <Well id=\"0407\" />\n",
      "      <Well id=\"0408\" />\n",
      "      <Well id=\"0409\" />\n",
      "      <Well id=\"0410\" />\n",
      "      <Well id=\"0504\" />\n"
     ]
    }
   ],
   "source": [
    "!head -n 30 ../data/untiled_images/Index.idx.xml\n"
   ]
  },
  {
   "cell_type": "code",
   "execution_count": 20,
   "id": "b9805a18-4cc2-42a5-af38-ab9c83c8d574",
   "metadata": {},
   "outputs": [
    {
     "name": "stdout",
     "output_type": "stream",
     "text": [
      "MH0DBstIFwoo1WuyM7m/c5Fcrw2YiutLIm1wyrRN5P3MHrViAqLym9SeGx5LgOip\n",
      "nv0/ZKdKFymNc/3jBKdmUlmIx0HCo+ZnrkfIxAfxsRAIbrKFRhlvYXYGS0BaXJDv\n",
      "pVDO9Gv+Qj7upBiRjwB+SzHIREJnM2PLvJvO0Wpuz/q25fD86rF333KGw+sySfiU\n",
      "f4PPtLvmeDa3hXD1ZD2XT2ZDxTf9PS/yK5w/tPIr+PxUIyTJ/9KVFNUb2TUfoyRC\n",
      "8WO20wN533jwhG3Z9pjW12d9kTFPAcfoO6WXGVm2L+1vUCm2C29hO8W+XssULdWT\n",
      "riKORbPxPMc7lRWmgppnUCpv8I7VyztTZuZykWm5uXF6y54yzW8yKwlms2Wx4us1\n",
      "fqqpD7pzZSH9v5L/r+S7x/rtSr59Vf3y0L0u3M+PntHYdUJoUW5I3vJjJ7ziKRVx\n",
      "+27szPixy/PrJ14Rr6z4CUbRGF3qBu86f4TI0S/NCh8R/7H9X0NaTR9LzuvovRgp\n",
      "oO/145U2lySe70eOKV7XOyo2l57ZP8bmzthslKanSO3N0p7jSNveG+liseT5pelI\n",
      "+2u6R1WWP84JY5SGh4GWiHycAN6K+Ph1GldHA+Z10h3VvgMtZxXVHAsAAA==\n",
      "</SkewcropParameters>\n",
      "      </Entry>\n",
      "      <Entry ChannelID=\"2\">\n",
      "        <SkewcropParameters>H4sIAAAAAAAEC+1WXY+iShB9N/E/EF7NLuC3ibq3UQQdFZ0BHX1roEFGaBgaUPj1\n",
      "2+KM436ZG3NvNpvsG02d7upTp6qrul+OvsekKCJugHus8JlnGYTNwHKx02N1bfSp\n",
      "zX7pl7pSinD8TKHAhCHyPLh631Kvsv0uOpktGMN+12foOZc1y5g91gxwDF2MIoqE\n",
      "J/M/LgkiC0XIYpm4x7psX+hykLoprG9Hv5uqVyYtC1Hxn7D9GQyvLIvAy3Dgu9Aj\n",
      "BcCnvoqr+Mg3vMDcFzdJkRkHUQEI6Ya4OG7fY08cCt+UPr3Qzzf/QAPeALs+dBA9\n",
      "NT1FhaEuhGaBtoLE8CiHCOLCL2O5PnFzxPfYOvu+EIqFRjHERtEn6SJI7rkGY0CC\n",
      "mnW2X0JAnkIj8tJUmYgA5Zvjdt6xnjXFynhbXqmtYbXNcbVa1eRUsVUR5rnHoQV6\n",
      "8lpj9bifVMul6rM5f0nqHJHDLcrt/DXlZ/po2KzHSaMzi14qFWQOFT1+wjEZHlWF\n"
     ]
    }
   ],
   "source": [
    "!grep -A20 -m1 -i \".tif\" ../data/untiled_images/Index.idx.xml\n"
   ]
  },
  {
   "cell_type": "code",
   "execution_count": 24,
   "id": "b334626f-3974-419e-a905-46620a592d33",
   "metadata": {},
   "outputs": [],
   "source": [
    "from xml.etree import ElementTree as ET\n",
    "import os\n",
    "\n",
    "\n",
    "input_path = \"../data/untiled_images/Index.idx.xml\"\n",
    "output_path = \"../data/untiled_images/Index_0305.idx.xml\"\n",
    "target_well_id = \"0305\"\n",
    "\n",
    "\n",
    "tiff_dir = \"../data/untiled_images/\"\n",
    "\n",
    "# Get list of actual TIFFs present\n",
    "valid_tiffs = set(os.listdir(tiff_dir))\n",
    "\n",
    "tree = ET.parse(input_path)\n",
    "root = tree.getroot()\n",
    "\n",
    "# Strip namespaces\n",
    "for el in root.iter():\n",
    "    if '}' in el.tag:\n",
    "        el.tag = el.tag.split('}', 1)[1]\n",
    "\n",
    "for parent in root.findall(\".//*\"):\n",
    "    for img in list(parent.findall(\"Image\")):  # make a static list to avoid mutation during iteration\n",
    "        url_tag = img.find(\"URL\")\n",
    "        if url_tag is not None:\n",
    "            tif_name = os.path.basename(url_tag.text.strip())\n",
    "            if tif_name not in valid_tiffs:\n",
    "                parent.remove(img)\n",
    "\n",
    "# Write minimal file\n",
    "tree.write(output_path, encoding=\"utf-8\", xml_declaration=True)\n"
   ]
  }
 ],
 "metadata": {
  "kernelspec": {
   "display_name": "macrohet",
   "language": "python",
   "name": "macrohet"
  },
  "language_info": {
   "codemirror_mode": {
    "name": "ipython",
    "version": 3
   },
   "file_extension": ".py",
   "mimetype": "text/x-python",
   "name": "python",
   "nbconvert_exporter": "python",
   "pygments_lexer": "ipython3",
   "version": "3.10.18"
  }
 },
 "nbformat": 4,
 "nbformat_minor": 5
}
