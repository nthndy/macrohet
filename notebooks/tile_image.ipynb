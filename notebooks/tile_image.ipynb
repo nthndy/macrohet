{
 "cells": [
  {
   "cell_type": "markdown",
   "id": "e7327596-95d0-478c-84ad-d757ac3b4c43",
   "metadata": {},
   "source": [
    "# Tile mosaic image acquisitions from Opera Phenix "
   ]
  },
  {
   "cell_type": "markdown",
   "id": "4ac2009a-6944-44d5-a2ac-749d2ab088fd",
   "metadata": {},
   "source": [
    "This notebook exhibits the original tiling code used to compile Opera Phenix acquisition into contiguous mosaic images for tracking cells across tiles. "
   ]
  },
  {
   "cell_type": "markdown",
   "id": "b68cb697-8efd-4ed9-bd23-376f237af5b0",
   "metadata": {},
   "source": [
    "### Original approach"
   ]
  },
  {
   "cell_type": "code",
   "execution_count": 1,
   "id": "c2d95d47-a01e-4802-9cdb-e67e57ea7a8d",
   "metadata": {},
   "outputs": [
    {
     "name": "stderr",
     "output_type": "stream",
     "text": [
      "/home/dayn/analysis/macrohet/macrohet/tile.py:14: UserWarning: pkg_resources is deprecated as an API. See https://setuptools.pypa.io/en/latest/pkg_resources.html. The pkg_resources package is slated for removal as early as 2025-11-30. Refrain from using this package or pin to Setuptools<81.\n",
      "  import pkg_resources\n"
     ]
    }
   ],
   "source": [
    "from macrohet import dataio, tile"
   ]
  },
  {
   "cell_type": "code",
   "execution_count": 2,
   "id": "46bfc730-2e17-42ba-86b2-88a7a3a7fb48",
   "metadata": {},
   "outputs": [
    {
     "name": "stdout",
     "output_type": "stream",
     "text": [
      "Reading metadata XML file...\n"
     ]
    },
    {
     "data": {
      "application/vnd.jupyter.widget-view+json": {
       "model_id": "4391f1722d974b878bb4b4ad4ebce252",
       "version_major": 2,
       "version_minor": 0
      },
      "text/plain": [
       "0it [00:00, ?it/s]"
      ]
     },
     "metadata": {},
     "output_type": "display_data"
    },
    {
     "name": "stdout",
     "output_type": "stream",
     "text": [
      "Extracting metadata complete!\n"
     ]
    }
   ],
   "source": [
    "metadata = dataio.read_harmony_metadata('../data/untiled_images/Index_0305.idx.xml')"
   ]
  },
  {
   "cell_type": "code",
   "execution_count": 3,
   "id": "d489e66c-baac-406f-915e-879d3ca6674e",
   "metadata": {
    "scrolled": true
   },
   "outputs": [
    {
     "data": {
      "text/html": [
       "<div>\n",
       "<style scoped>\n",
       "    .dataframe tbody tr th:only-of-type {\n",
       "        vertical-align: middle;\n",
       "    }\n",
       "\n",
       "    .dataframe tbody tr th {\n",
       "        vertical-align: top;\n",
       "    }\n",
       "\n",
       "    .dataframe thead th {\n",
       "        text-align: right;\n",
       "    }\n",
       "</style>\n",
       "<table border=\"1\" class=\"dataframe\">\n",
       "  <thead>\n",
       "    <tr style=\"text-align: right;\">\n",
       "      <th></th>\n",
       "      <th>id</th>\n",
       "      <th>State</th>\n",
       "      <th>URL</th>\n",
       "      <th>Row</th>\n",
       "      <th>Col</th>\n",
       "      <th>FieldID</th>\n",
       "      <th>PlaneID</th>\n",
       "      <th>TimepointID</th>\n",
       "      <th>ChannelID</th>\n",
       "      <th>FlimID</th>\n",
       "      <th>...</th>\n",
       "      <th>PositionZ</th>\n",
       "      <th>AbsPositionZ</th>\n",
       "      <th>MeasurementTimeOffset</th>\n",
       "      <th>AbsTime</th>\n",
       "      <th>MainExcitationWavelength</th>\n",
       "      <th>MainEmissionWavelength</th>\n",
       "      <th>ObjectiveMagnification</th>\n",
       "      <th>ObjectiveNA</th>\n",
       "      <th>ExposureTime</th>\n",
       "      <th>OrientationMatrix</th>\n",
       "    </tr>\n",
       "  </thead>\n",
       "  <tbody>\n",
       "    <tr>\n",
       "      <th>0</th>\n",
       "      <td>0305K1F1P1R1</td>\n",
       "      <td>Ok</td>\n",
       "      <td>r03c05f01p01-ch1sk1fk1fl1.tiff</td>\n",
       "      <td>3</td>\n",
       "      <td>5</td>\n",
       "      <td>1</td>\n",
       "      <td>1</td>\n",
       "      <td>0</td>\n",
       "      <td>1</td>\n",
       "      <td>1</td>\n",
       "      <td>...</td>\n",
       "      <td>0</td>\n",
       "      <td>0.135621503</td>\n",
       "      <td>0</td>\n",
       "      <td>2021-04-16T19:11:18.61+01:00</td>\n",
       "      <td>488</td>\n",
       "      <td>522</td>\n",
       "      <td>40</td>\n",
       "      <td>1.1</td>\n",
       "      <td>0.1</td>\n",
       "      <td>[[0.990860,0,0,-15.9],[0,-0.990860,0,-44.8],[0...</td>\n",
       "    </tr>\n",
       "    <tr>\n",
       "      <th>1</th>\n",
       "      <td>0305K1F1P1R2</td>\n",
       "      <td>Ok</td>\n",
       "      <td>r03c05f01p01-ch2sk1fk1fl1.tiff</td>\n",
       "      <td>3</td>\n",
       "      <td>5</td>\n",
       "      <td>1</td>\n",
       "      <td>1</td>\n",
       "      <td>0</td>\n",
       "      <td>2</td>\n",
       "      <td>1</td>\n",
       "      <td>...</td>\n",
       "      <td>0</td>\n",
       "      <td>0.135621503</td>\n",
       "      <td>0</td>\n",
       "      <td>2021-04-16T19:11:18.61+01:00</td>\n",
       "      <td>640</td>\n",
       "      <td>706</td>\n",
       "      <td>40</td>\n",
       "      <td>1.1</td>\n",
       "      <td>0.2</td>\n",
       "      <td>[[0.990860,0,0,-15.9],[0,-0.990860,0,-44.8],[0...</td>\n",
       "    </tr>\n",
       "    <tr>\n",
       "      <th>2</th>\n",
       "      <td>0305K1F1P2R1</td>\n",
       "      <td>Ok</td>\n",
       "      <td>r03c05f01p02-ch1sk1fk1fl1.tiff</td>\n",
       "      <td>3</td>\n",
       "      <td>5</td>\n",
       "      <td>1</td>\n",
       "      <td>2</td>\n",
       "      <td>0</td>\n",
       "      <td>1</td>\n",
       "      <td>1</td>\n",
       "      <td>...</td>\n",
       "      <td>2E-06</td>\n",
       "      <td>0.1356235</td>\n",
       "      <td>0</td>\n",
       "      <td>2021-04-16T19:11:18.89+01:00</td>\n",
       "      <td>488</td>\n",
       "      <td>522</td>\n",
       "      <td>40</td>\n",
       "      <td>1.1</td>\n",
       "      <td>0.1</td>\n",
       "      <td>[[0.990860,0,0,-15.9],[0,-0.990860,0,-44.8],[0...</td>\n",
       "    </tr>\n",
       "    <tr>\n",
       "      <th>3</th>\n",
       "      <td>0305K1F1P2R2</td>\n",
       "      <td>Ok</td>\n",
       "      <td>r03c05f01p02-ch2sk1fk1fl1.tiff</td>\n",
       "      <td>3</td>\n",
       "      <td>5</td>\n",
       "      <td>1</td>\n",
       "      <td>2</td>\n",
       "      <td>0</td>\n",
       "      <td>2</td>\n",
       "      <td>1</td>\n",
       "      <td>...</td>\n",
       "      <td>2E-06</td>\n",
       "      <td>0.1356235</td>\n",
       "      <td>0</td>\n",
       "      <td>2021-04-16T19:11:18.89+01:00</td>\n",
       "      <td>640</td>\n",
       "      <td>706</td>\n",
       "      <td>40</td>\n",
       "      <td>1.1</td>\n",
       "      <td>0.2</td>\n",
       "      <td>[[0.990860,0,0,-15.9],[0,-0.990860,0,-44.8],[0...</td>\n",
       "    </tr>\n",
       "    <tr>\n",
       "      <th>4</th>\n",
       "      <td>0305K1F1P3R1</td>\n",
       "      <td>Ok</td>\n",
       "      <td>r03c05f01p03-ch1sk1fk1fl1.tiff</td>\n",
       "      <td>3</td>\n",
       "      <td>5</td>\n",
       "      <td>1</td>\n",
       "      <td>3</td>\n",
       "      <td>0</td>\n",
       "      <td>1</td>\n",
       "      <td>1</td>\n",
       "      <td>...</td>\n",
       "      <td>4E-06</td>\n",
       "      <td>0.135625601</td>\n",
       "      <td>0</td>\n",
       "      <td>2021-04-16T19:11:19.17+01:00</td>\n",
       "      <td>488</td>\n",
       "      <td>522</td>\n",
       "      <td>40</td>\n",
       "      <td>1.1</td>\n",
       "      <td>0.1</td>\n",
       "      <td>[[0.990860,0,0,-15.9],[0,-0.990860,0,-44.8],[0...</td>\n",
       "    </tr>\n",
       "    <tr>\n",
       "      <th>...</th>\n",
       "      <td>...</td>\n",
       "      <td>...</td>\n",
       "      <td>...</td>\n",
       "      <td>...</td>\n",
       "      <td>...</td>\n",
       "      <td>...</td>\n",
       "      <td>...</td>\n",
       "      <td>...</td>\n",
       "      <td>...</td>\n",
       "      <td>...</td>\n",
       "      <td>...</td>\n",
       "      <td>...</td>\n",
       "      <td>...</td>\n",
       "      <td>...</td>\n",
       "      <td>...</td>\n",
       "      <td>...</td>\n",
       "      <td>...</td>\n",
       "      <td>...</td>\n",
       "      <td>...</td>\n",
       "      <td>...</td>\n",
       "      <td>...</td>\n",
       "    </tr>\n",
       "    <tr>\n",
       "      <th>4044</th>\n",
       "      <td>0305K75F9P1R2</td>\n",
       "      <td>Ok</td>\n",
       "      <td>r03c05f09p01-ch2sk75fk1fl1.tiff</td>\n",
       "      <td>3</td>\n",
       "      <td>5</td>\n",
       "      <td>9</td>\n",
       "      <td>1</td>\n",
       "      <td>74</td>\n",
       "      <td>2</td>\n",
       "      <td>1</td>\n",
       "      <td>...</td>\n",
       "      <td>0</td>\n",
       "      <td>0.135624304</td>\n",
       "      <td>266400.56</td>\n",
       "      <td>2021-04-19T21:11:30.447+01:00</td>\n",
       "      <td>640</td>\n",
       "      <td>706</td>\n",
       "      <td>40</td>\n",
       "      <td>1.1</td>\n",
       "      <td>0.2</td>\n",
       "      <td>[[0.990860,0,0,-15.9],[0,-0.990860,0,-44.8],[0...</td>\n",
       "    </tr>\n",
       "    <tr>\n",
       "      <th>4045</th>\n",
       "      <td>0305K75F9P2R1</td>\n",
       "      <td>Ok</td>\n",
       "      <td>r03c05f09p02-ch1sk75fk1fl1.tiff</td>\n",
       "      <td>3</td>\n",
       "      <td>5</td>\n",
       "      <td>9</td>\n",
       "      <td>2</td>\n",
       "      <td>74</td>\n",
       "      <td>1</td>\n",
       "      <td>1</td>\n",
       "      <td>...</td>\n",
       "      <td>2E-06</td>\n",
       "      <td>0.135626301</td>\n",
       "      <td>266400.56</td>\n",
       "      <td>2021-04-19T21:11:30.713+01:00</td>\n",
       "      <td>488</td>\n",
       "      <td>522</td>\n",
       "      <td>40</td>\n",
       "      <td>1.1</td>\n",
       "      <td>0.1</td>\n",
       "      <td>[[0.990860,0,0,-15.9],[0,-0.990860,0,-44.8],[0...</td>\n",
       "    </tr>\n",
       "    <tr>\n",
       "      <th>4046</th>\n",
       "      <td>0305K75F9P2R2</td>\n",
       "      <td>Ok</td>\n",
       "      <td>r03c05f09p02-ch2sk75fk1fl1.tiff</td>\n",
       "      <td>3</td>\n",
       "      <td>5</td>\n",
       "      <td>9</td>\n",
       "      <td>2</td>\n",
       "      <td>74</td>\n",
       "      <td>2</td>\n",
       "      <td>1</td>\n",
       "      <td>...</td>\n",
       "      <td>2E-06</td>\n",
       "      <td>0.135626301</td>\n",
       "      <td>266400.56</td>\n",
       "      <td>2021-04-19T21:11:30.713+01:00</td>\n",
       "      <td>640</td>\n",
       "      <td>706</td>\n",
       "      <td>40</td>\n",
       "      <td>1.1</td>\n",
       "      <td>0.2</td>\n",
       "      <td>[[0.990860,0,0,-15.9],[0,-0.990860,0,-44.8],[0...</td>\n",
       "    </tr>\n",
       "    <tr>\n",
       "      <th>4047</th>\n",
       "      <td>0305K75F9P3R1</td>\n",
       "      <td>Ok</td>\n",
       "      <td>r03c05f09p03-ch1sk75fk1fl1.tiff</td>\n",
       "      <td>3</td>\n",
       "      <td>5</td>\n",
       "      <td>9</td>\n",
       "      <td>3</td>\n",
       "      <td>74</td>\n",
       "      <td>1</td>\n",
       "      <td>1</td>\n",
       "      <td>...</td>\n",
       "      <td>4E-06</td>\n",
       "      <td>0.135628298</td>\n",
       "      <td>266400.56</td>\n",
       "      <td>2021-04-19T21:11:30.993+01:00</td>\n",
       "      <td>488</td>\n",
       "      <td>522</td>\n",
       "      <td>40</td>\n",
       "      <td>1.1</td>\n",
       "      <td>0.1</td>\n",
       "      <td>[[0.990860,0,0,-15.9],[0,-0.990860,0,-44.8],[0...</td>\n",
       "    </tr>\n",
       "    <tr>\n",
       "      <th>4048</th>\n",
       "      <td>0305K75F9P3R2</td>\n",
       "      <td>Ok</td>\n",
       "      <td>r03c05f09p03-ch2sk75fk1fl1.tiff</td>\n",
       "      <td>3</td>\n",
       "      <td>5</td>\n",
       "      <td>9</td>\n",
       "      <td>3</td>\n",
       "      <td>74</td>\n",
       "      <td>2</td>\n",
       "      <td>1</td>\n",
       "      <td>...</td>\n",
       "      <td>4E-06</td>\n",
       "      <td>0.135628298</td>\n",
       "      <td>266400.56</td>\n",
       "      <td>2021-04-19T21:11:31.01+01:00</td>\n",
       "      <td>640</td>\n",
       "      <td>706</td>\n",
       "      <td>40</td>\n",
       "      <td>1.1</td>\n",
       "      <td>0.2</td>\n",
       "      <td>[[0.990860,0,0,-15.9],[0,-0.990860,0,-44.8],[0...</td>\n",
       "    </tr>\n",
       "  </tbody>\n",
       "</table>\n",
       "<p>4049 rows × 35 columns</p>\n",
       "</div>"
      ],
      "text/plain": [
       "                 id State                              URL Row Col FieldID  \\\n",
       "0      0305K1F1P1R1    Ok   r03c05f01p01-ch1sk1fk1fl1.tiff   3   5       1   \n",
       "1      0305K1F1P1R2    Ok   r03c05f01p01-ch2sk1fk1fl1.tiff   3   5       1   \n",
       "2      0305K1F1P2R1    Ok   r03c05f01p02-ch1sk1fk1fl1.tiff   3   5       1   \n",
       "3      0305K1F1P2R2    Ok   r03c05f01p02-ch2sk1fk1fl1.tiff   3   5       1   \n",
       "4      0305K1F1P3R1    Ok   r03c05f01p03-ch1sk1fk1fl1.tiff   3   5       1   \n",
       "...             ...   ...                              ...  ..  ..     ...   \n",
       "4044  0305K75F9P1R2    Ok  r03c05f09p01-ch2sk75fk1fl1.tiff   3   5       9   \n",
       "4045  0305K75F9P2R1    Ok  r03c05f09p02-ch1sk75fk1fl1.tiff   3   5       9   \n",
       "4046  0305K75F9P2R2    Ok  r03c05f09p02-ch2sk75fk1fl1.tiff   3   5       9   \n",
       "4047  0305K75F9P3R1    Ok  r03c05f09p03-ch1sk75fk1fl1.tiff   3   5       9   \n",
       "4048  0305K75F9P3R2    Ok  r03c05f09p03-ch2sk75fk1fl1.tiff   3   5       9   \n",
       "\n",
       "     PlaneID TimepointID ChannelID FlimID  ... PositionZ AbsPositionZ  \\\n",
       "0          1           0         1      1  ...         0  0.135621503   \n",
       "1          1           0         2      1  ...         0  0.135621503   \n",
       "2          2           0         1      1  ...     2E-06    0.1356235   \n",
       "3          2           0         2      1  ...     2E-06    0.1356235   \n",
       "4          3           0         1      1  ...     4E-06  0.135625601   \n",
       "...      ...         ...       ...    ...  ...       ...          ...   \n",
       "4044       1          74         2      1  ...         0  0.135624304   \n",
       "4045       2          74         1      1  ...     2E-06  0.135626301   \n",
       "4046       2          74         2      1  ...     2E-06  0.135626301   \n",
       "4047       3          74         1      1  ...     4E-06  0.135628298   \n",
       "4048       3          74         2      1  ...     4E-06  0.135628298   \n",
       "\n",
       "     MeasurementTimeOffset                        AbsTime  \\\n",
       "0                        0   2021-04-16T19:11:18.61+01:00   \n",
       "1                        0   2021-04-16T19:11:18.61+01:00   \n",
       "2                        0   2021-04-16T19:11:18.89+01:00   \n",
       "3                        0   2021-04-16T19:11:18.89+01:00   \n",
       "4                        0   2021-04-16T19:11:19.17+01:00   \n",
       "...                    ...                            ...   \n",
       "4044             266400.56  2021-04-19T21:11:30.447+01:00   \n",
       "4045             266400.56  2021-04-19T21:11:30.713+01:00   \n",
       "4046             266400.56  2021-04-19T21:11:30.713+01:00   \n",
       "4047             266400.56  2021-04-19T21:11:30.993+01:00   \n",
       "4048             266400.56   2021-04-19T21:11:31.01+01:00   \n",
       "\n",
       "     MainExcitationWavelength MainEmissionWavelength ObjectiveMagnification  \\\n",
       "0                         488                    522                     40   \n",
       "1                         640                    706                     40   \n",
       "2                         488                    522                     40   \n",
       "3                         640                    706                     40   \n",
       "4                         488                    522                     40   \n",
       "...                       ...                    ...                    ...   \n",
       "4044                      640                    706                     40   \n",
       "4045                      488                    522                     40   \n",
       "4046                      640                    706                     40   \n",
       "4047                      488                    522                     40   \n",
       "4048                      640                    706                     40   \n",
       "\n",
       "     ObjectiveNA ExposureTime  \\\n",
       "0            1.1          0.1   \n",
       "1            1.1          0.2   \n",
       "2            1.1          0.1   \n",
       "3            1.1          0.2   \n",
       "4            1.1          0.1   \n",
       "...          ...          ...   \n",
       "4044         1.1          0.2   \n",
       "4045         1.1          0.1   \n",
       "4046         1.1          0.2   \n",
       "4047         1.1          0.1   \n",
       "4048         1.1          0.2   \n",
       "\n",
       "                                      OrientationMatrix  \n",
       "0     [[0.990860,0,0,-15.9],[0,-0.990860,0,-44.8],[0...  \n",
       "1     [[0.990860,0,0,-15.9],[0,-0.990860,0,-44.8],[0...  \n",
       "2     [[0.990860,0,0,-15.9],[0,-0.990860,0,-44.8],[0...  \n",
       "3     [[0.990860,0,0,-15.9],[0,-0.990860,0,-44.8],[0...  \n",
       "4     [[0.990860,0,0,-15.9],[0,-0.990860,0,-44.8],[0...  \n",
       "...                                                 ...  \n",
       "4044  [[0.990860,0,0,-15.9],[0,-0.990860,0,-44.8],[0...  \n",
       "4045  [[0.990860,0,0,-15.9],[0,-0.990860,0,-44.8],[0...  \n",
       "4046  [[0.990860,0,0,-15.9],[0,-0.990860,0,-44.8],[0...  \n",
       "4047  [[0.990860,0,0,-15.9],[0,-0.990860,0,-44.8],[0...  \n",
       "4048  [[0.990860,0,0,-15.9],[0,-0.990860,0,-44.8],[0...  \n",
       "\n",
       "[4049 rows x 35 columns]"
      ]
     },
     "execution_count": 3,
     "metadata": {},
     "output_type": "execute_result"
    }
   ],
   "source": [
    "metadata"
   ]
  },
  {
   "cell_type": "code",
   "execution_count": 4,
   "id": "cda0c08a-ca30-461a-86c2-c63ccdcd5896",
   "metadata": {
    "scrolled": true
   },
   "outputs": [
    {
     "data": {
      "text/plain": [
       "Index(['id', 'State', 'URL', 'Row', 'Col', 'FieldID', 'PlaneID', 'TimepointID',\n",
       "       'ChannelID', 'FlimID', 'ChannelName', 'ImageType', 'AcquisitionType',\n",
       "       'IlluminationType', 'ChannelType', 'ImageResolutionX',\n",
       "       'ImageResolutionY', 'ImageSizeX', 'ImageSizeY', 'BinningX', 'BinningY',\n",
       "       'MaxIntensity', 'CameraType', 'PositionX', 'PositionY', 'PositionZ',\n",
       "       'AbsPositionZ', 'MeasurementTimeOffset', 'AbsTime',\n",
       "       'MainExcitationWavelength', 'MainEmissionWavelength',\n",
       "       'ObjectiveMagnification', 'ObjectiveNA', 'ExposureTime',\n",
       "       'OrientationMatrix'],\n",
       "      dtype='object')"
      ]
     },
     "execution_count": 4,
     "metadata": {},
     "output_type": "execute_result"
    }
   ],
   "source": [
    "metadata.keys()"
   ]
  },
  {
   "cell_type": "code",
   "execution_count": 5,
   "id": "990f391d-9933-4937-ba61-284c6cb39831",
   "metadata": {},
   "outputs": [
    {
     "data": {
      "text/plain": [
       "'2160'"
      ]
     },
     "execution_count": 5,
     "metadata": {},
     "output_type": "execute_result"
    }
   ],
   "source": [
    "metadata['ImageSizeX'].iloc[0]"
   ]
  },
  {
   "cell_type": "code",
   "execution_count": 21,
   "id": "74073231-dfd3-443b-9d07-bce392ffd738",
   "metadata": {},
   "outputs": [
    {
     "data": {
      "text/plain": [
       "428.57142857142856"
      ]
     },
     "execution_count": 21,
     "metadata": {},
     "output_type": "execute_result"
    }
   ],
   "source": [
    "float(metadata['ImageSizeX'].iloc[0])/5.04"
   ]
  },
  {
   "cell_type": "code",
   "execution_count": 89,
   "id": "49336a01-c06e-4c12-84b9-9bf413ff589f",
   "metadata": {},
   "outputs": [
    {
     "data": {
      "text/plain": [
       "'1.4949402023919043E-07'"
      ]
     },
     "execution_count": 89,
     "metadata": {},
     "output_type": "execute_result"
    }
   ],
   "source": [
    "metadata['ImageResolutionX'].iloc[0]"
   ]
  },
  {
   "cell_type": "code",
   "execution_count": 17,
   "id": "08ba62a6-37d6-47be-a816-ef2034a60002",
   "metadata": {},
   "outputs": [
    {
     "data": {
      "text/plain": [
       "(428, 428)"
      ]
     },
     "execution_count": 17,
     "metadata": {},
     "output_type": "execute_result"
    }
   ],
   "source": [
    "from skimage import io\n",
    "\n",
    "io.imread('../data/untiled_images/r03c05f01p01-ch1sk66fk1fl1.tiff').shape"
   ]
  },
  {
   "cell_type": "code",
   "execution_count": 3,
   "id": "9b746662-6771-4d7e-be23-398bf40c9f6f",
   "metadata": {},
   "outputs": [],
   "source": []
  },
  {
   "cell_type": "code",
   "execution_count": 3,
   "id": "a0ec8e50-f057-4a5f-90c3-2886db65d825",
   "metadata": {},
   "outputs": [],
   "source": [
    "import numpy as np\n",
    "import pandas as pd\n",
    "\n",
    "columns_to_scale = [\n",
    "    'ImageSizeX', 'ImageSizeY',\n",
    "    # 'ImageResolutionX', 'ImageResolutionY',\n",
    "    'PositionX', 'PositionY', 'PositionZ'\n",
    "]\n",
    "\n",
    "# Ensure they're numeric, floor-divide, cast to int then str\n",
    "metadata[columns_to_scale] = (\n",
    "    metadata[columns_to_scale]\n",
    "    .apply(pd.to_numeric, errors='coerce')\n",
    "    .div(5.04)\n",
    "    .apply(np.floor)\n",
    "    .astype(int)\n",
    "    .astype(str)\n",
    ")\n"
   ]
  },
  {
   "cell_type": "code",
   "execution_count": 4,
   "id": "50e06311-3a23-44f3-a66e-807ed03e9a82",
   "metadata": {
    "scrolled": true
   },
   "outputs": [
    {
     "name": "stdout",
     "output_type": "stream",
     "text": [
      "Stacked shape: (450, 428, 1198)\n",
      "Expected reshape: (75, 2, 3, 428, 1198)\n"
     ]
    }
   ],
   "source": [
    "image_dir = '../data/untiled_images/'\n",
    "images = tile.compile_mosaic(image_dir, metadata, row=3, col=5,  n_tile_cols=3, n_tile_rows=3)"
   ]
  },
  {
   "cell_type": "code",
   "execution_count": 5,
   "id": "68c10251-0e4b-443f-8d2c-bb81bc470dbe",
   "metadata": {},
   "outputs": [
    {
     "data": {
      "text/html": [
       "<table>\n",
       "    <tr>\n",
       "        <td>\n",
       "            <table style=\"border-collapse: collapse;\">\n",
       "                <thead>\n",
       "                    <tr>\n",
       "                        <td> </td>\n",
       "                        <th> Array </th>\n",
       "                        <th> Chunk </th>\n",
       "                    </tr>\n",
       "                </thead>\n",
       "                <tbody>\n",
       "                    \n",
       "                    <tr>\n",
       "                        <th> Bytes </th>\n",
       "                        <td> 1.20 GiB </td>\n",
       "                        <td> 357.78 kiB </td>\n",
       "                    </tr>\n",
       "                    \n",
       "                    <tr>\n",
       "                        <th> Shape </th>\n",
       "                        <td> (75, 2, 3, 1198, 1198) </td>\n",
       "                        <td> (1, 1, 1, 428, 428) </td>\n",
       "                    </tr>\n",
       "                    <tr>\n",
       "                        <th> Dask graph </th>\n",
       "                        <td colspan=\"2\"> 4050 chunks in 1802 graph layers </td>\n",
       "                    </tr>\n",
       "                    <tr>\n",
       "                        <th> Data type </th>\n",
       "                        <td colspan=\"2\"> uint16 numpy.ndarray </td>\n",
       "                    </tr>\n",
       "                </tbody>\n",
       "            </table>\n",
       "        </td>\n",
       "        <td>\n",
       "        <svg width=\"374\" height=\"184\" style=\"stroke:rgb(0,0,0);stroke-width:1\" >\n",
       "\n",
       "  <!-- Horizontal lines -->\n",
       "  <line x1=\"0\" y1=\"0\" x2=\"25\" y2=\"0\" style=\"stroke-width:2\" />\n",
       "  <line x1=\"0\" y1=\"0\" x2=\"25\" y2=\"0\" />\n",
       "  <line x1=\"0\" y1=\"1\" x2=\"25\" y2=\"1\" />\n",
       "  <line x1=\"0\" y1=\"3\" x2=\"25\" y2=\"3\" />\n",
       "  <line x1=\"0\" y1=\"4\" x2=\"25\" y2=\"4\" />\n",
       "  <line x1=\"0\" y1=\"5\" x2=\"25\" y2=\"5\" />\n",
       "  <line x1=\"0\" y1=\"6\" x2=\"25\" y2=\"6\" />\n",
       "  <line x1=\"0\" y1=\"7\" x2=\"25\" y2=\"7\" />\n",
       "  <line x1=\"0\" y1=\"8\" x2=\"25\" y2=\"8\" />\n",
       "  <line x1=\"0\" y1=\"10\" x2=\"25\" y2=\"10\" />\n",
       "  <line x1=\"0\" y1=\"11\" x2=\"25\" y2=\"11\" />\n",
       "  <line x1=\"0\" y1=\"11\" x2=\"25\" y2=\"11\" />\n",
       "  <line x1=\"0\" y1=\"13\" x2=\"25\" y2=\"13\" />\n",
       "  <line x1=\"0\" y1=\"14\" x2=\"25\" y2=\"14\" />\n",
       "  <line x1=\"0\" y1=\"15\" x2=\"25\" y2=\"15\" />\n",
       "  <line x1=\"0\" y1=\"16\" x2=\"25\" y2=\"16\" />\n",
       "  <line x1=\"0\" y1=\"17\" x2=\"25\" y2=\"17\" />\n",
       "  <line x1=\"0\" y1=\"18\" x2=\"25\" y2=\"18\" />\n",
       "  <line x1=\"0\" y1=\"20\" x2=\"25\" y2=\"20\" />\n",
       "  <line x1=\"0\" y1=\"21\" x2=\"25\" y2=\"21\" />\n",
       "  <line x1=\"0\" y1=\"22\" x2=\"25\" y2=\"22\" />\n",
       "  <line x1=\"0\" y1=\"23\" x2=\"25\" y2=\"23\" />\n",
       "  <line x1=\"0\" y1=\"24\" x2=\"25\" y2=\"24\" />\n",
       "  <line x1=\"0\" y1=\"25\" x2=\"25\" y2=\"25\" />\n",
       "  <line x1=\"0\" y1=\"26\" x2=\"25\" y2=\"26\" />\n",
       "  <line x1=\"0\" y1=\"27\" x2=\"25\" y2=\"27\" />\n",
       "  <line x1=\"0\" y1=\"28\" x2=\"25\" y2=\"28\" />\n",
       "  <line x1=\"0\" y1=\"30\" x2=\"25\" y2=\"30\" />\n",
       "  <line x1=\"0\" y1=\"31\" x2=\"25\" y2=\"31\" />\n",
       "  <line x1=\"0\" y1=\"32\" x2=\"25\" y2=\"32\" />\n",
       "  <line x1=\"0\" y1=\"33\" x2=\"25\" y2=\"33\" />\n",
       "  <line x1=\"0\" y1=\"34\" x2=\"25\" y2=\"34\" />\n",
       "  <line x1=\"0\" y1=\"35\" x2=\"25\" y2=\"35\" style=\"stroke-width:2\" />\n",
       "\n",
       "  <!-- Vertical lines -->\n",
       "  <line x1=\"0\" y1=\"0\" x2=\"0\" y2=\"35\" style=\"stroke-width:2\" />\n",
       "  <line x1=\"12\" y1=\"0\" x2=\"12\" y2=\"35\" />\n",
       "  <line x1=\"25\" y1=\"0\" x2=\"25\" y2=\"35\" style=\"stroke-width:2\" />\n",
       "\n",
       "  <!-- Colored Rectangle -->\n",
       "  <polygon points=\"0.0,0.0 25.412616514582485,0.0 25.412616514582485,35.869616773944124 0.0,35.869616773944124\" style=\"fill:#8B4903A0;stroke-width:0\"/>\n",
       "\n",
       "  <!-- Text -->\n",
       "  <text x=\"12.706308\" y=\"55.869617\" font-size=\"1.0rem\" font-weight=\"100\" text-anchor=\"middle\" >2</text>\n",
       "  <text x=\"45.412617\" y=\"17.934808\" font-size=\"1.0rem\" font-weight=\"100\" text-anchor=\"middle\" transform=\"rotate(0,45.412617,17.934808)\">75</text>\n",
       "\n",
       "\n",
       "  <!-- Horizontal lines -->\n",
       "  <line x1=\"95\" y1=\"0\" x2=\"109\" y2=\"14\" style=\"stroke-width:2\" />\n",
       "  <line x1=\"95\" y1=\"42\" x2=\"109\" y2=\"57\" />\n",
       "  <line x1=\"95\" y1=\"85\" x2=\"109\" y2=\"100\" />\n",
       "  <line x1=\"95\" y1=\"120\" x2=\"109\" y2=\"134\" style=\"stroke-width:2\" />\n",
       "\n",
       "  <!-- Vertical lines -->\n",
       "  <line x1=\"95\" y1=\"0\" x2=\"95\" y2=\"120\" style=\"stroke-width:2\" />\n",
       "  <line x1=\"99\" y1=\"4\" x2=\"99\" y2=\"124\" />\n",
       "  <line x1=\"104\" y1=\"9\" x2=\"104\" y2=\"129\" />\n",
       "  <line x1=\"109\" y1=\"14\" x2=\"109\" y2=\"134\" style=\"stroke-width:2\" />\n",
       "\n",
       "  <!-- Colored Rectangle -->\n",
       "  <polygon points=\"95.0,0.0 109.9485979497544,14.948597949754403 109.9485979497544,134.9485979497544 95.0,120.0\" style=\"fill:#ECB172A0;stroke-width:0\"/>\n",
       "\n",
       "  <!-- Horizontal lines -->\n",
       "  <line x1=\"95\" y1=\"0\" x2=\"215\" y2=\"0\" style=\"stroke-width:2\" />\n",
       "  <line x1=\"99\" y1=\"4\" x2=\"219\" y2=\"4\" />\n",
       "  <line x1=\"104\" y1=\"9\" x2=\"224\" y2=\"9\" />\n",
       "  <line x1=\"109\" y1=\"14\" x2=\"229\" y2=\"14\" style=\"stroke-width:2\" />\n",
       "\n",
       "  <!-- Vertical lines -->\n",
       "  <line x1=\"95\" y1=\"0\" x2=\"109\" y2=\"14\" style=\"stroke-width:2\" />\n",
       "  <line x1=\"137\" y1=\"0\" x2=\"152\" y2=\"14\" />\n",
       "  <line x1=\"180\" y1=\"0\" x2=\"195\" y2=\"14\" />\n",
       "  <line x1=\"215\" y1=\"0\" x2=\"229\" y2=\"14\" style=\"stroke-width:2\" />\n",
       "\n",
       "  <!-- Colored Rectangle -->\n",
       "  <polygon points=\"95.0,0.0 215.0,0.0 229.9485979497544,14.948597949754403 109.9485979497544,14.948597949754403\" style=\"fill:#ECB172A0;stroke-width:0\"/>\n",
       "\n",
       "  <!-- Horizontal lines -->\n",
       "  <line x1=\"109\" y1=\"14\" x2=\"229\" y2=\"14\" style=\"stroke-width:2\" />\n",
       "  <line x1=\"109\" y1=\"57\" x2=\"229\" y2=\"57\" />\n",
       "  <line x1=\"109\" y1=\"100\" x2=\"229\" y2=\"100\" />\n",
       "  <line x1=\"109\" y1=\"134\" x2=\"229\" y2=\"134\" style=\"stroke-width:2\" />\n",
       "\n",
       "  <!-- Vertical lines -->\n",
       "  <line x1=\"109\" y1=\"14\" x2=\"109\" y2=\"134\" style=\"stroke-width:2\" />\n",
       "  <line x1=\"152\" y1=\"14\" x2=\"152\" y2=\"134\" />\n",
       "  <line x1=\"195\" y1=\"14\" x2=\"195\" y2=\"134\" />\n",
       "  <line x1=\"229\" y1=\"14\" x2=\"229\" y2=\"134\" style=\"stroke-width:2\" />\n",
       "\n",
       "  <!-- Colored Rectangle -->\n",
       "  <polygon points=\"109.9485979497544,14.948597949754403 229.9485979497544,14.948597949754403 229.9485979497544,134.9485979497544 109.9485979497544,134.9485979497544\" style=\"fill:#ECB172A0;stroke-width:0\"/>\n",
       "\n",
       "  <!-- Text -->\n",
       "  <text x=\"169.948598\" y=\"154.948598\" font-size=\"1.0rem\" font-weight=\"100\" text-anchor=\"middle\" >1198</text>\n",
       "  <text x=\"249.948598\" y=\"74.948598\" font-size=\"1.0rem\" font-weight=\"100\" text-anchor=\"middle\" transform=\"rotate(-90,249.948598,74.948598)\">1198</text>\n",
       "  <text x=\"92.474299\" y=\"147.474299\" font-size=\"1.0rem\" font-weight=\"100\" text-anchor=\"middle\" transform=\"rotate(45,92.474299,147.474299)\">3</text>\n",
       "</svg>\n",
       "        </td>\n",
       "    </tr>\n",
       "</table>"
      ],
      "text/plain": [
       "dask.array<reshape, shape=(75, 2, 3, 1198, 1198), dtype=uint16, chunksize=(1, 1, 1, 428, 428), chunktype=numpy.ndarray>"
      ]
     },
     "execution_count": 5,
     "metadata": {},
     "output_type": "execute_result"
    }
   ],
   "source": [
    "images"
   ]
  },
  {
   "cell_type": "code",
   "execution_count": 6,
   "id": "097f8f90-aec6-4230-844d-fa4ef4b0f78b",
   "metadata": {},
   "outputs": [
    {
     "ename": "ValueError",
     "evalue": "total size of new array must be unchanged",
     "output_type": "error",
     "traceback": [
      "\u001b[0;31m---------------------------------------------------------------------------\u001b[0m",
      "\u001b[0;31mValueError\u001b[0m                                Traceback (most recent call last)",
      "Cell \u001b[0;32mIn[6], line 1\u001b[0m\n\u001b[0;32m----> 1\u001b[0m \u001b[43mimages\u001b[49m\u001b[43m[\u001b[49m\u001b[38;5;241;43m0\u001b[39;49m\u001b[43m,\u001b[49m\u001b[38;5;241;43m0\u001b[39;49m\u001b[43m,\u001b[49m\u001b[38;5;241;43m0\u001b[39;49m\u001b[43m]\u001b[49m\u001b[38;5;241;43m.\u001b[39;49m\u001b[43mcompute\u001b[49m\u001b[43m(\u001b[49m\u001b[43m)\u001b[49m\n",
      "File \u001b[0;32m~/miniconda3/envs/macrohet/lib/python3.10/site-packages/dask/base.py:373\u001b[0m, in \u001b[0;36mDaskMethodsMixin.compute\u001b[0;34m(self, **kwargs)\u001b[0m\n\u001b[1;32m    349\u001b[0m \u001b[38;5;28;01mdef\u001b[39;00m\u001b[38;5;250m \u001b[39m\u001b[38;5;21mcompute\u001b[39m(\u001b[38;5;28mself\u001b[39m, \u001b[38;5;241m*\u001b[39m\u001b[38;5;241m*\u001b[39mkwargs):\n\u001b[1;32m    350\u001b[0m \u001b[38;5;250m    \u001b[39m\u001b[38;5;124;03m\"\"\"Compute this dask collection\u001b[39;00m\n\u001b[1;32m    351\u001b[0m \n\u001b[1;32m    352\u001b[0m \u001b[38;5;124;03m    This turns a lazy Dask collection into its in-memory equivalent.\u001b[39;00m\n\u001b[0;32m   (...)\u001b[0m\n\u001b[1;32m    371\u001b[0m \u001b[38;5;124;03m    dask.compute\u001b[39;00m\n\u001b[1;32m    372\u001b[0m \u001b[38;5;124;03m    \"\"\"\u001b[39;00m\n\u001b[0;32m--> 373\u001b[0m     (result,) \u001b[38;5;241m=\u001b[39m \u001b[43mcompute\u001b[49m\u001b[43m(\u001b[49m\u001b[38;5;28;43mself\u001b[39;49m\u001b[43m,\u001b[49m\u001b[43m \u001b[49m\u001b[43mtraverse\u001b[49m\u001b[38;5;241;43m=\u001b[39;49m\u001b[38;5;28;43;01mFalse\u001b[39;49;00m\u001b[43m,\u001b[49m\u001b[43m \u001b[49m\u001b[38;5;241;43m*\u001b[39;49m\u001b[38;5;241;43m*\u001b[39;49m\u001b[43mkwargs\u001b[49m\u001b[43m)\u001b[49m\n\u001b[1;32m    374\u001b[0m     \u001b[38;5;28;01mreturn\u001b[39;00m result\n",
      "File \u001b[0;32m~/miniconda3/envs/macrohet/lib/python3.10/site-packages/dask/base.py:681\u001b[0m, in \u001b[0;36mcompute\u001b[0;34m(traverse, optimize_graph, scheduler, get, *args, **kwargs)\u001b[0m\n\u001b[1;32m    678\u001b[0m     expr \u001b[38;5;241m=\u001b[39m expr\u001b[38;5;241m.\u001b[39moptimize()\n\u001b[1;32m    679\u001b[0m     keys \u001b[38;5;241m=\u001b[39m \u001b[38;5;28mlist\u001b[39m(flatten(expr\u001b[38;5;241m.\u001b[39m__dask_keys__()))\n\u001b[0;32m--> 681\u001b[0m     results \u001b[38;5;241m=\u001b[39m \u001b[43mschedule\u001b[49m\u001b[43m(\u001b[49m\u001b[43mexpr\u001b[49m\u001b[43m,\u001b[49m\u001b[43m \u001b[49m\u001b[43mkeys\u001b[49m\u001b[43m,\u001b[49m\u001b[43m \u001b[49m\u001b[38;5;241;43m*\u001b[39;49m\u001b[38;5;241;43m*\u001b[39;49m\u001b[43mkwargs\u001b[49m\u001b[43m)\u001b[49m\n\u001b[1;32m    683\u001b[0m \u001b[38;5;28;01mreturn\u001b[39;00m repack(results)\n",
      "File \u001b[0;32m~/miniconda3/envs/macrohet/lib/python3.10/site-packages/dask/array/reshape.py:339\u001b[0m, in \u001b[0;36mreshape\u001b[0;34m(x, shape, merge_chunks, limit)\u001b[0m\n\u001b[1;32m    336\u001b[0m     missing_size \u001b[38;5;241m=\u001b[39m sanitize_index(x\u001b[38;5;241m.\u001b[39msize \u001b[38;5;241m/\u001b[39m reduce(mul, known_sizes, \u001b[38;5;241m1\u001b[39m))\n\u001b[1;32m    337\u001b[0m     shape \u001b[38;5;241m=\u001b[39m \u001b[38;5;28mtuple\u001b[39m(missing_size \u001b[38;5;28;01mif\u001b[39;00m s \u001b[38;5;241m==\u001b[39m \u001b[38;5;241m-\u001b[39m\u001b[38;5;241m1\u001b[39m \u001b[38;5;28;01melse\u001b[39;00m s \u001b[38;5;28;01mfor\u001b[39;00m s \u001b[38;5;129;01min\u001b[39;00m shape)\n\u001b[0;32m--> 339\u001b[0m \u001b[43m_sanity_checks\u001b[49m\u001b[43m(\u001b[49m\u001b[43mx\u001b[49m\u001b[43m,\u001b[49m\u001b[43m \u001b[49m\u001b[43mshape\u001b[49m\u001b[43m)\u001b[49m\n\u001b[1;32m    341\u001b[0m \u001b[38;5;28;01mif\u001b[39;00m x\u001b[38;5;241m.\u001b[39mshape \u001b[38;5;241m==\u001b[39m shape:\n\u001b[1;32m    342\u001b[0m     \u001b[38;5;28;01mreturn\u001b[39;00m x\n",
      "File \u001b[0;32m~/miniconda3/envs/macrohet/lib/python3.10/site-packages/dask/array/reshape.py:386\u001b[0m, in \u001b[0;36m_sanity_checks\u001b[0;34m(x, shape)\u001b[0m\n\u001b[1;32m    380\u001b[0m     \u001b[38;5;28;01mraise\u001b[39;00m \u001b[38;5;167;01mValueError\u001b[39;00m(\n\u001b[1;32m    381\u001b[0m         \u001b[38;5;124m\"\u001b[39m\u001b[38;5;124mArray chunk size or shape is unknown. shape: \u001b[39m\u001b[38;5;132;01m%s\u001b[39;00m\u001b[38;5;130;01m\\n\u001b[39;00m\u001b[38;5;130;01m\\n\u001b[39;00m\u001b[38;5;124m\"\u001b[39m\n\u001b[1;32m    382\u001b[0m         \u001b[38;5;124m\"\u001b[39m\u001b[38;5;124mPossible solution with x.compute_chunk_sizes()\u001b[39m\u001b[38;5;124m\"\u001b[39m \u001b[38;5;241m%\u001b[39m \u001b[38;5;28mstr\u001b[39m(x\u001b[38;5;241m.\u001b[39mshape)\n\u001b[1;32m    383\u001b[0m     )\n\u001b[1;32m    385\u001b[0m \u001b[38;5;28;01mif\u001b[39;00m reduce(mul, shape, \u001b[38;5;241m1\u001b[39m) \u001b[38;5;241m!=\u001b[39m x\u001b[38;5;241m.\u001b[39msize:\n\u001b[0;32m--> 386\u001b[0m     \u001b[38;5;28;01mraise\u001b[39;00m \u001b[38;5;167;01mValueError\u001b[39;00m(\u001b[38;5;124m\"\u001b[39m\u001b[38;5;124mtotal size of new array must be unchanged\u001b[39m\u001b[38;5;124m\"\u001b[39m)\n",
      "\u001b[0;31mValueError\u001b[0m: total size of new array must be unchanged"
     ]
    }
   ],
   "source": [
    "images[0,0,0].compute()"
   ]
  },
  {
   "cell_type": "code",
   "execution_count": 8,
   "id": "c0817b77-f3c3-4e93-8df6-c96bc4087f96",
   "metadata": {},
   "outputs": [
    {
     "data": {
      "text/plain": [
       "(75, 2, 3, 428, 1198)"
      ]
     },
     "execution_count": 8,
     "metadata": {},
     "output_type": "execute_result"
    }
   ],
   "source": [
    "images.shape"
   ]
  },
  {
   "cell_type": "code",
   "execution_count": 8,
   "id": "d8555077-3134-49d9-a038-ed8d2388ee58",
   "metadata": {},
   "outputs": [
    {
     "ename": "ValueError",
     "evalue": "total size of new array must be unchanged",
     "output_type": "error",
     "traceback": [
      "\u001b[0;31m---------------------------------------------------------------------------\u001b[0m",
      "\u001b[0;31mValueError\u001b[0m                                Traceback (most recent call last)",
      "Cell \u001b[0;32mIn[8], line 1\u001b[0m\n\u001b[0;32m----> 1\u001b[0m \u001b[43mimages\u001b[49m\u001b[38;5;241;43m.\u001b[39;49m\u001b[43mcompute_chunk_sizes\u001b[49m\u001b[43m(\u001b[49m\u001b[43m)\u001b[49m\n",
      "File \u001b[0;32m~/miniconda3/envs/macrohet/lib/python3.10/site-packages/dask/array/core.py:1518\u001b[0m, in \u001b[0;36mArray.compute_chunk_sizes\u001b[0;34m(self)\u001b[0m\n\u001b[1;32m   1513\u001b[0m     c\u001b[38;5;241m.\u001b[39mappend(\u001b[38;5;28mtuple\u001b[39m(chunk_shapes[s]))\n\u001b[1;32m   1515\u001b[0m \u001b[38;5;66;03m# `map_blocks` assigns numpy dtypes\u001b[39;00m\n\u001b[1;32m   1516\u001b[0m \u001b[38;5;66;03m# cast chunk dimensions back to python int before returning\u001b[39;00m\n\u001b[1;32m   1517\u001b[0m x\u001b[38;5;241m.\u001b[39m_chunks \u001b[38;5;241m=\u001b[39m \u001b[38;5;28mtuple\u001b[39m(\n\u001b[0;32m-> 1518\u001b[0m     \u001b[38;5;28mtuple\u001b[39m(\u001b[38;5;28mint\u001b[39m(chunk) \u001b[38;5;28;01mfor\u001b[39;00m chunk \u001b[38;5;129;01min\u001b[39;00m chunks) \u001b[38;5;28;01mfor\u001b[39;00m chunks \u001b[38;5;129;01min\u001b[39;00m \u001b[43mcompute\u001b[49m\u001b[43m(\u001b[49m\u001b[38;5;28;43mtuple\u001b[39;49m\u001b[43m(\u001b[49m\u001b[43mc\u001b[49m\u001b[43m)\u001b[49m\u001b[43m)\u001b[49m[\u001b[38;5;241m0\u001b[39m]\n\u001b[1;32m   1519\u001b[0m )\n\u001b[1;32m   1520\u001b[0m \u001b[38;5;28;01mreturn\u001b[39;00m x\n",
      "File \u001b[0;32m~/miniconda3/envs/macrohet/lib/python3.10/site-packages/dask/base.py:681\u001b[0m, in \u001b[0;36mcompute\u001b[0;34m(traverse, optimize_graph, scheduler, get, *args, **kwargs)\u001b[0m\n\u001b[1;32m    678\u001b[0m     expr \u001b[38;5;241m=\u001b[39m expr\u001b[38;5;241m.\u001b[39moptimize()\n\u001b[1;32m    679\u001b[0m     keys \u001b[38;5;241m=\u001b[39m \u001b[38;5;28mlist\u001b[39m(flatten(expr\u001b[38;5;241m.\u001b[39m__dask_keys__()))\n\u001b[0;32m--> 681\u001b[0m     results \u001b[38;5;241m=\u001b[39m \u001b[43mschedule\u001b[49m\u001b[43m(\u001b[49m\u001b[43mexpr\u001b[49m\u001b[43m,\u001b[49m\u001b[43m \u001b[49m\u001b[43mkeys\u001b[49m\u001b[43m,\u001b[49m\u001b[43m \u001b[49m\u001b[38;5;241;43m*\u001b[39;49m\u001b[38;5;241;43m*\u001b[39;49m\u001b[43mkwargs\u001b[49m\u001b[43m)\u001b[49m\n\u001b[1;32m    683\u001b[0m \u001b[38;5;28;01mreturn\u001b[39;00m repack(results)\n",
      "File \u001b[0;32m~/miniconda3/envs/macrohet/lib/python3.10/site-packages/dask/array/reshape.py:339\u001b[0m, in \u001b[0;36mreshape\u001b[0;34m(x, shape, merge_chunks, limit)\u001b[0m\n\u001b[1;32m    336\u001b[0m     missing_size \u001b[38;5;241m=\u001b[39m sanitize_index(x\u001b[38;5;241m.\u001b[39msize \u001b[38;5;241m/\u001b[39m reduce(mul, known_sizes, \u001b[38;5;241m1\u001b[39m))\n\u001b[1;32m    337\u001b[0m     shape \u001b[38;5;241m=\u001b[39m \u001b[38;5;28mtuple\u001b[39m(missing_size \u001b[38;5;28;01mif\u001b[39;00m s \u001b[38;5;241m==\u001b[39m \u001b[38;5;241m-\u001b[39m\u001b[38;5;241m1\u001b[39m \u001b[38;5;28;01melse\u001b[39;00m s \u001b[38;5;28;01mfor\u001b[39;00m s \u001b[38;5;129;01min\u001b[39;00m shape)\n\u001b[0;32m--> 339\u001b[0m \u001b[43m_sanity_checks\u001b[49m\u001b[43m(\u001b[49m\u001b[43mx\u001b[49m\u001b[43m,\u001b[49m\u001b[43m \u001b[49m\u001b[43mshape\u001b[49m\u001b[43m)\u001b[49m\n\u001b[1;32m    341\u001b[0m \u001b[38;5;28;01mif\u001b[39;00m x\u001b[38;5;241m.\u001b[39mshape \u001b[38;5;241m==\u001b[39m shape:\n\u001b[1;32m    342\u001b[0m     \u001b[38;5;28;01mreturn\u001b[39;00m x\n",
      "File \u001b[0;32m~/miniconda3/envs/macrohet/lib/python3.10/site-packages/dask/array/reshape.py:386\u001b[0m, in \u001b[0;36m_sanity_checks\u001b[0;34m(x, shape)\u001b[0m\n\u001b[1;32m    380\u001b[0m     \u001b[38;5;28;01mraise\u001b[39;00m \u001b[38;5;167;01mValueError\u001b[39;00m(\n\u001b[1;32m    381\u001b[0m         \u001b[38;5;124m\"\u001b[39m\u001b[38;5;124mArray chunk size or shape is unknown. shape: \u001b[39m\u001b[38;5;132;01m%s\u001b[39;00m\u001b[38;5;130;01m\\n\u001b[39;00m\u001b[38;5;130;01m\\n\u001b[39;00m\u001b[38;5;124m\"\u001b[39m\n\u001b[1;32m    382\u001b[0m         \u001b[38;5;124m\"\u001b[39m\u001b[38;5;124mPossible solution with x.compute_chunk_sizes()\u001b[39m\u001b[38;5;124m\"\u001b[39m \u001b[38;5;241m%\u001b[39m \u001b[38;5;28mstr\u001b[39m(x\u001b[38;5;241m.\u001b[39mshape)\n\u001b[1;32m    383\u001b[0m     )\n\u001b[1;32m    385\u001b[0m \u001b[38;5;28;01mif\u001b[39;00m reduce(mul, shape, \u001b[38;5;241m1\u001b[39m) \u001b[38;5;241m!=\u001b[39m x\u001b[38;5;241m.\u001b[39msize:\n\u001b[0;32m--> 386\u001b[0m     \u001b[38;5;28;01mraise\u001b[39;00m \u001b[38;5;167;01mValueError\u001b[39;00m(\u001b[38;5;124m\"\u001b[39m\u001b[38;5;124mtotal size of new array must be unchanged\u001b[39m\u001b[38;5;124m\"\u001b[39m)\n",
      "\u001b[0;31mValueError\u001b[0m: total size of new array must be unchanged"
     ]
    }
   ],
   "source": [
    "images.compute_chunk_sizes()"
   ]
  },
  {
   "cell_type": "code",
   "execution_count": 9,
   "id": "482ee0fc-6e8c-4199-b69f-ed84b21421f9",
   "metadata": {},
   "outputs": [
    {
     "data": {
      "text/plain": [
       "(2, 3, 428, 1198)"
      ]
     },
     "execution_count": 9,
     "metadata": {},
     "output_type": "execute_result"
    }
   ],
   "source": [
    "images[0].shape"
   ]
  },
  {
   "cell_type": "code",
   "execution_count": 17,
   "id": "89783024-d8c0-4aa5-a9b8-9e375d559736",
   "metadata": {},
   "outputs": [
    {
     "name": "stdout",
     "output_type": "stream",
     "text": [
      "CPU times: user 1min 13s, sys: 1min 46s, total: 3min\n",
      "Wall time: 49.6 s\n"
     ]
    }
   ],
   "source": [
    "%%time\n",
    "test = images[0].compute().compute()"
   ]
  },
  {
   "cell_type": "code",
   "execution_count": 18,
   "id": "05da640a-2eb5-42bf-9ab9-fc0a7ed3e356",
   "metadata": {},
   "outputs": [
    {
     "data": {
      "text/plain": [
       "array([[356, 376, 268, ...,   0,   0,   0],\n",
       "       [457, 489, 329, ...,   0,   0,   0],\n",
       "       [579, 661, 538, ...,   0,   0,   0],\n",
       "       ...,\n",
       "       [575, 402, 413, ...,   0,   0,   0],\n",
       "       [497, 333, 358, ...,   0,   0,   0],\n",
       "       [454, 293, 243, ...,   0,   0,   0]],\n",
       "      shape=(428, 1198), dtype=uint16)"
      ]
     },
     "execution_count": 18,
     "metadata": {},
     "output_type": "execute_result"
    }
   ],
   "source": [
    "test"
   ]
  },
  {
   "cell_type": "code",
   "execution_count": 20,
   "id": "b5f4ca44-71e3-4c1a-bc6f-644ee8fea78e",
   "metadata": {},
   "outputs": [
    {
     "data": {
      "text/plain": [
       "(428, 1198)"
      ]
     },
     "execution_count": 20,
     "metadata": {},
     "output_type": "execute_result"
    }
   ],
   "source": [
    "test.shape"
   ]
  },
  {
   "cell_type": "code",
   "execution_count": 19,
   "id": "731114c6-0c7c-437f-a5a7-cc42b659164e",
   "metadata": {},
   "outputs": [
    {
     "data": {
      "text/plain": [
       "<Image layer 'test' at 0x7fc1ef17b910>"
      ]
     },
     "execution_count": 19,
     "metadata": {},
     "output_type": "execute_result"
    }
   ],
   "source": [
    "import napari\n",
    "\n",
    "viewer = napari.Viewer(title = 'testing tiling')\n",
    "viewer.add_image(test)"
   ]
  },
  {
   "cell_type": "code",
   "execution_count": null,
   "id": "d09efd7a-8d9a-4641-8bd3-088749d36a15",
   "metadata": {},
   "outputs": [],
   "source": []
  },
  {
   "cell_type": "markdown",
   "id": "12622b9d-c192-4ee6-aa1b-1789ef7e444b",
   "metadata": {},
   "source": [
    "## Downsizing images for sharing on github"
   ]
  },
  {
   "cell_type": "code",
   "execution_count": 2,
   "id": "36079621-d34e-43e4-8c89-705fec111031",
   "metadata": {},
   "outputs": [
    {
     "data": {
      "application/vnd.jupyter.widget-view+json": {
       "model_id": "cbdde449dc6f497ea0bb7f96faf40e03",
       "version_major": 2,
       "version_minor": 0
      },
      "text/plain": [
       "  0%|          | 0/4050 [00:00<?, ?it/s]"
      ]
     },
     "metadata": {},
     "output_type": "display_data"
    }
   ],
   "source": [
    "import os\n",
    "from glob import glob\n",
    "\n",
    "import numpy as np\n",
    "from skimage.transform import resize\n",
    "from tifffile import imread, imwrite\n",
    "from tqdm.auto import tqdm\n",
    "\n",
    "# Set your source and output directory\n",
    "src_dir = '/home/dayn/analysis/macrohet/data/untiled_images/Images/'\n",
    "out_dir = '/home/dayn/analysis/macrohet/data/untiled_images/ds'\n",
    "scale_factor = 1 / 5.04\n",
    "\n",
    "os.makedirs(out_dir, exist_ok=True)\n",
    "\n",
    "# Get all TIFF files in the directory\n",
    "tiff_paths = sorted(glob(os.path.join(src_dir, \"*.tiff\")))\n",
    "\n",
    "for path in tqdm(tiff_paths):\n",
    "    img = imread(path)\n",
    "    \n",
    "    # Resize with anti-aliasing for downscaling\n",
    "    downscaled = resize(\n",
    "        img,\n",
    "        output_shape=(int(img.shape[0] * scale_factor), int(img.shape[1] * scale_factor)),\n",
    "        order=1,  # bilinear\n",
    "        preserve_range=True,\n",
    "        anti_aliasing=True\n",
    "    ).astype(img.dtype)\n",
    "\n",
    "    # Save to output directory with same name\n",
    "    out_path = os.path.join(out_dir, os.path.basename(path))\n",
    "    imwrite(out_path, downscaled)\n"
   ]
  },
  {
   "cell_type": "code",
   "execution_count": 3,
   "id": "e93f0c02-a733-484e-b0d0-5bf786394278",
   "metadata": {},
   "outputs": [],
   "source": [
    "from skimage import io"
   ]
  },
  {
   "cell_type": "code",
   "execution_count": 9,
   "id": "a683eeaa-a3b6-49ad-852c-ae0d0354b92e",
   "metadata": {},
   "outputs": [],
   "source": [
    "fns = glob('/home/dayn/analysis/macrohet/data/untiled_images/ds/*f01p01-ch1*.tif*')"
   ]
  },
  {
   "cell_type": "code",
   "execution_count": 14,
   "id": "90024572-a64c-47cf-abed-b68bcc5cd4b6",
   "metadata": {
    "scrolled": true
   },
   "outputs": [
    {
     "data": {
      "text/plain": [
       "['/home/dayn/analysis/macrohet/data/untiled_images/ds/r03c05f01p01-ch1sk10fk1fl1.tiff',\n",
       " '/home/dayn/analysis/macrohet/data/untiled_images/ds/r03c05f01p01-ch1sk11fk1fl1.tiff',\n",
       " '/home/dayn/analysis/macrohet/data/untiled_images/ds/r03c05f01p01-ch1sk12fk1fl1.tiff',\n",
       " '/home/dayn/analysis/macrohet/data/untiled_images/ds/r03c05f01p01-ch1sk13fk1fl1.tiff',\n",
       " '/home/dayn/analysis/macrohet/data/untiled_images/ds/r03c05f01p01-ch1sk14fk1fl1.tiff',\n",
       " '/home/dayn/analysis/macrohet/data/untiled_images/ds/r03c05f01p01-ch1sk15fk1fl1.tiff',\n",
       " '/home/dayn/analysis/macrohet/data/untiled_images/ds/r03c05f01p01-ch1sk16fk1fl1.tiff',\n",
       " '/home/dayn/analysis/macrohet/data/untiled_images/ds/r03c05f01p01-ch1sk17fk1fl1.tiff',\n",
       " '/home/dayn/analysis/macrohet/data/untiled_images/ds/r03c05f01p01-ch1sk18fk1fl1.tiff',\n",
       " '/home/dayn/analysis/macrohet/data/untiled_images/ds/r03c05f01p01-ch1sk19fk1fl1.tiff',\n",
       " '/home/dayn/analysis/macrohet/data/untiled_images/ds/r03c05f01p01-ch1sk1fk1fl1.tiff',\n",
       " '/home/dayn/analysis/macrohet/data/untiled_images/ds/r03c05f01p01-ch1sk20fk1fl1.tiff',\n",
       " '/home/dayn/analysis/macrohet/data/untiled_images/ds/r03c05f01p01-ch1sk21fk1fl1.tiff',\n",
       " '/home/dayn/analysis/macrohet/data/untiled_images/ds/r03c05f01p01-ch1sk22fk1fl1.tiff',\n",
       " '/home/dayn/analysis/macrohet/data/untiled_images/ds/r03c05f01p01-ch1sk23fk1fl1.tiff',\n",
       " '/home/dayn/analysis/macrohet/data/untiled_images/ds/r03c05f01p01-ch1sk24fk1fl1.tiff',\n",
       " '/home/dayn/analysis/macrohet/data/untiled_images/ds/r03c05f01p01-ch1sk25fk1fl1.tiff',\n",
       " '/home/dayn/analysis/macrohet/data/untiled_images/ds/r03c05f01p01-ch1sk26fk1fl1.tiff',\n",
       " '/home/dayn/analysis/macrohet/data/untiled_images/ds/r03c05f01p01-ch1sk27fk1fl1.tiff',\n",
       " '/home/dayn/analysis/macrohet/data/untiled_images/ds/r03c05f01p01-ch1sk28fk1fl1.tiff',\n",
       " '/home/dayn/analysis/macrohet/data/untiled_images/ds/r03c05f01p01-ch1sk29fk1fl1.tiff',\n",
       " '/home/dayn/analysis/macrohet/data/untiled_images/ds/r03c05f01p01-ch1sk2fk1fl1.tiff',\n",
       " '/home/dayn/analysis/macrohet/data/untiled_images/ds/r03c05f01p01-ch1sk30fk1fl1.tiff',\n",
       " '/home/dayn/analysis/macrohet/data/untiled_images/ds/r03c05f01p01-ch1sk31fk1fl1.tiff',\n",
       " '/home/dayn/analysis/macrohet/data/untiled_images/ds/r03c05f01p01-ch1sk32fk1fl1.tiff',\n",
       " '/home/dayn/analysis/macrohet/data/untiled_images/ds/r03c05f01p01-ch1sk33fk1fl1.tiff',\n",
       " '/home/dayn/analysis/macrohet/data/untiled_images/ds/r03c05f01p01-ch1sk34fk1fl1.tiff',\n",
       " '/home/dayn/analysis/macrohet/data/untiled_images/ds/r03c05f01p01-ch1sk35fk1fl1.tiff',\n",
       " '/home/dayn/analysis/macrohet/data/untiled_images/ds/r03c05f01p01-ch1sk36fk1fl1.tiff',\n",
       " '/home/dayn/analysis/macrohet/data/untiled_images/ds/r03c05f01p01-ch1sk37fk1fl1.tiff',\n",
       " '/home/dayn/analysis/macrohet/data/untiled_images/ds/r03c05f01p01-ch1sk38fk1fl1.tiff',\n",
       " '/home/dayn/analysis/macrohet/data/untiled_images/ds/r03c05f01p01-ch1sk39fk1fl1.tiff',\n",
       " '/home/dayn/analysis/macrohet/data/untiled_images/ds/r03c05f01p01-ch1sk3fk1fl1.tiff',\n",
       " '/home/dayn/analysis/macrohet/data/untiled_images/ds/r03c05f01p01-ch1sk40fk1fl1.tiff',\n",
       " '/home/dayn/analysis/macrohet/data/untiled_images/ds/r03c05f01p01-ch1sk41fk1fl1.tiff',\n",
       " '/home/dayn/analysis/macrohet/data/untiled_images/ds/r03c05f01p01-ch1sk42fk1fl1.tiff',\n",
       " '/home/dayn/analysis/macrohet/data/untiled_images/ds/r03c05f01p01-ch1sk43fk1fl1.tiff',\n",
       " '/home/dayn/analysis/macrohet/data/untiled_images/ds/r03c05f01p01-ch1sk44fk1fl1.tiff',\n",
       " '/home/dayn/analysis/macrohet/data/untiled_images/ds/r03c05f01p01-ch1sk45fk1fl1.tiff',\n",
       " '/home/dayn/analysis/macrohet/data/untiled_images/ds/r03c05f01p01-ch1sk46fk1fl1.tiff',\n",
       " '/home/dayn/analysis/macrohet/data/untiled_images/ds/r03c05f01p01-ch1sk47fk1fl1.tiff',\n",
       " '/home/dayn/analysis/macrohet/data/untiled_images/ds/r03c05f01p01-ch1sk48fk1fl1.tiff',\n",
       " '/home/dayn/analysis/macrohet/data/untiled_images/ds/r03c05f01p01-ch1sk49fk1fl1.tiff',\n",
       " '/home/dayn/analysis/macrohet/data/untiled_images/ds/r03c05f01p01-ch1sk4fk1fl1.tiff',\n",
       " '/home/dayn/analysis/macrohet/data/untiled_images/ds/r03c05f01p01-ch1sk50fk1fl1.tiff',\n",
       " '/home/dayn/analysis/macrohet/data/untiled_images/ds/r03c05f01p01-ch1sk51fk1fl1.tiff',\n",
       " '/home/dayn/analysis/macrohet/data/untiled_images/ds/r03c05f01p01-ch1sk52fk1fl1.tiff',\n",
       " '/home/dayn/analysis/macrohet/data/untiled_images/ds/r03c05f01p01-ch1sk53fk1fl1.tiff',\n",
       " '/home/dayn/analysis/macrohet/data/untiled_images/ds/r03c05f01p01-ch1sk54fk1fl1.tiff',\n",
       " '/home/dayn/analysis/macrohet/data/untiled_images/ds/r03c05f01p01-ch1sk55fk1fl1.tiff',\n",
       " '/home/dayn/analysis/macrohet/data/untiled_images/ds/r03c05f01p01-ch1sk56fk1fl1.tiff',\n",
       " '/home/dayn/analysis/macrohet/data/untiled_images/ds/r03c05f01p01-ch1sk57fk1fl1.tiff',\n",
       " '/home/dayn/analysis/macrohet/data/untiled_images/ds/r03c05f01p01-ch1sk58fk1fl1.tiff',\n",
       " '/home/dayn/analysis/macrohet/data/untiled_images/ds/r03c05f01p01-ch1sk59fk1fl1.tiff',\n",
       " '/home/dayn/analysis/macrohet/data/untiled_images/ds/r03c05f01p01-ch1sk5fk1fl1.tiff',\n",
       " '/home/dayn/analysis/macrohet/data/untiled_images/ds/r03c05f01p01-ch1sk60fk1fl1.tiff',\n",
       " '/home/dayn/analysis/macrohet/data/untiled_images/ds/r03c05f01p01-ch1sk61fk1fl1.tiff',\n",
       " '/home/dayn/analysis/macrohet/data/untiled_images/ds/r03c05f01p01-ch1sk62fk1fl1.tiff',\n",
       " '/home/dayn/analysis/macrohet/data/untiled_images/ds/r03c05f01p01-ch1sk63fk1fl1.tiff',\n",
       " '/home/dayn/analysis/macrohet/data/untiled_images/ds/r03c05f01p01-ch1sk64fk1fl1.tiff',\n",
       " '/home/dayn/analysis/macrohet/data/untiled_images/ds/r03c05f01p01-ch1sk65fk1fl1.tiff',\n",
       " '/home/dayn/analysis/macrohet/data/untiled_images/ds/r03c05f01p01-ch1sk66fk1fl1.tiff',\n",
       " '/home/dayn/analysis/macrohet/data/untiled_images/ds/r03c05f01p01-ch1sk67fk1fl1.tiff',\n",
       " '/home/dayn/analysis/macrohet/data/untiled_images/ds/r03c05f01p01-ch1sk68fk1fl1.tiff',\n",
       " '/home/dayn/analysis/macrohet/data/untiled_images/ds/r03c05f01p01-ch1sk69fk1fl1.tiff',\n",
       " '/home/dayn/analysis/macrohet/data/untiled_images/ds/r03c05f01p01-ch1sk6fk1fl1.tiff',\n",
       " '/home/dayn/analysis/macrohet/data/untiled_images/ds/r03c05f01p01-ch1sk70fk1fl1.tiff',\n",
       " '/home/dayn/analysis/macrohet/data/untiled_images/ds/r03c05f01p01-ch1sk71fk1fl1.tiff',\n",
       " '/home/dayn/analysis/macrohet/data/untiled_images/ds/r03c05f01p01-ch1sk72fk1fl1.tiff',\n",
       " '/home/dayn/analysis/macrohet/data/untiled_images/ds/r03c05f01p01-ch1sk73fk1fl1.tiff',\n",
       " '/home/dayn/analysis/macrohet/data/untiled_images/ds/r03c05f01p01-ch1sk74fk1fl1.tiff',\n",
       " '/home/dayn/analysis/macrohet/data/untiled_images/ds/r03c05f01p01-ch1sk75fk1fl1.tiff',\n",
       " '/home/dayn/analysis/macrohet/data/untiled_images/ds/r03c05f01p01-ch1sk7fk1fl1.tiff',\n",
       " '/home/dayn/analysis/macrohet/data/untiled_images/ds/r03c05f01p01-ch1sk8fk1fl1.tiff',\n",
       " '/home/dayn/analysis/macrohet/data/untiled_images/ds/r03c05f01p01-ch1sk9fk1fl1.tiff']"
      ]
     },
     "execution_count": 14,
     "metadata": {},
     "output_type": "execute_result"
    }
   ],
   "source": [
    "sorted(fns)"
   ]
  },
  {
   "cell_type": "code",
   "execution_count": 15,
   "id": "ae17f661-7ff4-4625-9855-faf771439ccb",
   "metadata": {},
   "outputs": [],
   "source": [
    "image = np.stack([io.imread(fn) for fn in sorted(fns)])"
   ]
  },
  {
   "cell_type": "code",
   "execution_count": 16,
   "id": "d5baac88-9f28-45cf-b27f-852d220f5313",
   "metadata": {},
   "outputs": [],
   "source": [
    "import napari"
   ]
  },
  {
   "cell_type": "code",
   "execution_count": 17,
   "id": "4614bc6c-742e-48c5-ae04-012461b385e5",
   "metadata": {},
   "outputs": [
    {
     "data": {
      "text/plain": [
       "<Image layer 'image' at 0x7fb90be15180>"
      ]
     },
     "execution_count": 17,
     "metadata": {},
     "output_type": "execute_result"
    }
   ],
   "source": [
    "v = napari.Viewer(title='testing downscale')\n",
    "v.add_image(image)"
   ]
  },
  {
   "cell_type": "markdown",
   "id": "23148671-c102-4660-b450-8c14e1e75e48",
   "metadata": {},
   "source": [
    "### Cropping index metadata file"
   ]
  },
  {
   "cell_type": "code",
   "execution_count": 18,
   "id": "cacfac73-fa51-49d4-a3a1-5d70e53f5f14",
   "metadata": {},
   "outputs": [
    {
     "name": "stdout",
     "output_type": "stream",
     "text": [
      "﻿<?xml version=\"1.0\" encoding=\"utf-8\"?>\n",
      "<EvaluationInputData xmlns:xsd=\"http://www.w3.org/2001/XMLSchema\" xmlns:xsi=\"http://www.w3.org/2001/XMLSchema-instance\" Version=\"1\" xmlns=\"http://www.perkinelmer.com/PEHH/HarmonyV5\">\n",
      "  <User>santucp</User>\n",
      "  <InstrumentType>Phenix</InstrumentType>\n",
      "  <Plates>\n",
      "    <Plate>\n",
      "      <PlateID>Live_Cell_ATB_PS_20210416</PlateID>\n",
      "      <MeasurementID>6c52e048-2e42-45e6-b7af-a6d7f8f2d6cb</MeasurementID>\n",
      "      <MeasurementStartTime>2021-04-16T19:09:04.1429235+01:00</MeasurementStartTime>\n",
      "      <Name>Live_Cell_ATB_PS_20210416</Name>\n",
      "      <PlateTypeName>96 PerkinElmer ViewPlate Glass</PlateTypeName>\n",
      "      <PlateRows>8</PlateRows>\n",
      "      <PlateColumns>12</PlateColumns>\n",
      "      <Well id=\"0303\" />\n",
      "      <Well id=\"0304\" />\n",
      "      <Well id=\"0305\" />\n",
      "      <Well id=\"0306\" />\n",
      "      <Well id=\"0307\" />\n",
      "      <Well id=\"0308\" />\n",
      "      <Well id=\"0309\" />\n",
      "      <Well id=\"0310\" />\n",
      "      <Well id=\"0403\" />\n",
      "      <Well id=\"0404\" />\n",
      "      <Well id=\"0405\" />\n",
      "      <Well id=\"0406\" />\n",
      "      <Well id=\"0407\" />\n",
      "      <Well id=\"0408\" />\n",
      "      <Well id=\"0409\" />\n",
      "      <Well id=\"0410\" />\n",
      "      <Well id=\"0504\" />\n"
     ]
    }
   ],
   "source": [
    "!head -n 30 ../data/untiled_images/Index.idx.xml\n"
   ]
  },
  {
   "cell_type": "code",
   "execution_count": 20,
   "id": "b9805a18-4cc2-42a5-af38-ab9c83c8d574",
   "metadata": {},
   "outputs": [
    {
     "name": "stdout",
     "output_type": "stream",
     "text": [
      "MH0DBstIFwoo1WuyM7m/c5Fcrw2YiutLIm1wyrRN5P3MHrViAqLym9SeGx5LgOip\n",
      "nv0/ZKdKFymNc/3jBKdmUlmIx0HCo+ZnrkfIxAfxsRAIbrKFRhlvYXYGS0BaXJDv\n",
      "pVDO9Gv+Qj7upBiRjwB+SzHIREJnM2PLvJvO0Wpuz/q25fD86rF333KGw+sySfiU\n",
      "f4PPtLvmeDa3hXD1ZD2XT2ZDxTf9PS/yK5w/tPIr+PxUIyTJ/9KVFNUb2TUfoyRC\n",
      "8WO20wN533jwhG3Z9pjW12d9kTFPAcfoO6WXGVm2L+1vUCm2C29hO8W+XssULdWT\n",
      "riKORbPxPMc7lRWmgppnUCpv8I7VyztTZuZykWm5uXF6y54yzW8yKwlms2Wx4us1\n",
      "fqqpD7pzZSH9v5L/r+S7x/rtSr59Vf3y0L0u3M+PntHYdUJoUW5I3vJjJ7ziKRVx\n",
      "+27szPixy/PrJ14Rr6z4CUbRGF3qBu86f4TI0S/NCh8R/7H9X0NaTR9LzuvovRgp\n",
      "oO/145U2lySe70eOKV7XOyo2l57ZP8bmzthslKanSO3N0p7jSNveG+liseT5pelI\n",
      "+2u6R1WWP84JY5SGh4GWiHycAN6K+Ph1GldHA+Z10h3VvgMtZxXVHAsAAA==\n",
      "</SkewcropParameters>\n",
      "      </Entry>\n",
      "      <Entry ChannelID=\"2\">\n",
      "        <SkewcropParameters>H4sIAAAAAAAEC+1WXY+iShB9N/E/EF7NLuC3ibq3UQQdFZ0BHX1roEFGaBgaUPj1\n",
      "2+KM436ZG3NvNpvsG02d7upTp6qrul+OvsekKCJugHus8JlnGYTNwHKx02N1bfSp\n",
      "zX7pl7pSinD8TKHAhCHyPLh631Kvsv0uOpktGMN+12foOZc1y5g91gxwDF2MIoqE\n",
      "J/M/LgkiC0XIYpm4x7psX+hykLoprG9Hv5uqVyYtC1Hxn7D9GQyvLIvAy3Dgu9Aj\n",
      "BcCnvoqr+Mg3vMDcFzdJkRkHUQEI6Ya4OG7fY08cCt+UPr3Qzzf/QAPeALs+dBA9\n",
      "NT1FhaEuhGaBtoLE8CiHCOLCL2O5PnFzxPfYOvu+EIqFRjHERtEn6SJI7rkGY0CC\n",
      "mnW2X0JAnkIj8tJUmYgA5Zvjdt6xnjXFynhbXqmtYbXNcbVa1eRUsVUR5rnHoQV6\n",
      "8lpj9bifVMul6rM5f0nqHJHDLcrt/DXlZ/po2KzHSaMzi14qFWQOFT1+wjEZHlWF\n"
     ]
    }
   ],
   "source": [
    "!grep -A20 -m1 -i \".tif\" ../data/untiled_images/Index.idx.xml\n"
   ]
  },
  {
   "cell_type": "code",
   "execution_count": 24,
   "id": "b334626f-3974-419e-a905-46620a592d33",
   "metadata": {},
   "outputs": [],
   "source": [
    "import os\n",
    "from xml.etree import ElementTree as ET\n",
    "\n",
    "input_path = \"../data/untiled_images/Index.idx.xml\"\n",
    "output_path = \"../data/untiled_images/Index_0305.idx.xml\"\n",
    "target_well_id = \"0305\"\n",
    "\n",
    "\n",
    "tiff_dir = \"../data/untiled_images/\"\n",
    "\n",
    "# Get list of actual TIFFs present\n",
    "valid_tiffs = set(os.listdir(tiff_dir))\n",
    "\n",
    "tree = ET.parse(input_path)\n",
    "root = tree.getroot()\n",
    "\n",
    "# Strip namespaces\n",
    "for el in root.iter():\n",
    "    if '}' in el.tag:\n",
    "        el.tag = el.tag.split('}', 1)[1]\n",
    "\n",
    "for parent in root.findall(\".//*\"):\n",
    "    for img in list(parent.findall(\"Image\")):  # make a static list to avoid mutation during iteration\n",
    "        url_tag = img.find(\"URL\")\n",
    "        if url_tag is not None:\n",
    "            tif_name = os.path.basename(url_tag.text.strip())\n",
    "            if tif_name not in valid_tiffs:\n",
    "                parent.remove(img)\n",
    "\n",
    "# Write minimal file\n",
    "tree.write(output_path, encoding=\"utf-8\", xml_declaration=True)\n"
   ]
  }
 ],
 "metadata": {
  "kernelspec": {
   "display_name": "macrohet",
   "language": "python",
   "name": "macrohet"
  },
  "language_info": {
   "codemirror_mode": {
    "name": "ipython",
    "version": 3
   },
   "file_extension": ".py",
   "mimetype": "text/x-python",
   "name": "python",
   "nbconvert_exporter": "python",
   "pygments_lexer": "ipython3",
   "version": "3.10.18"
  }
 },
 "nbformat": 4,
 "nbformat_minor": 5
}
