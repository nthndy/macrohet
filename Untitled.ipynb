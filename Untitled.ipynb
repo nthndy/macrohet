{
 "cells": [
  {
   "cell_type": "code",
   "execution_count": null,
   "id": "d5b1d8a0-90c5-474a-8093-5e5e6607f0ec",
   "metadata": {},
   "outputs": [],
   "source": [
    "import os\n",
    "import hashlib\n",
    "from tqdm.auto import tqdm\n",
    "\n",
    "def calculate_file_checksum(file_path, block_size=65536, hash_algorithm=hashlib.md5):\n",
    "    \"\"\"Calculate the checksum of a file.\"\"\"\n",
    "    hash_object = hash_algorithm()\n",
    "    with open(file_path, 'rb') as file:\n",
    "        while True:\n",
    "            data = file.read(block_size)\n",
    "            if not data:\n",
    "                break\n",
    "            hash_object.update(data)\n",
    "    return hash_object.hexdigest()\n",
    "\n",
    "def find_duplicate_files(directory):\n",
    "    \"\"\"Find and return a dictionary of duplicate files in a directory.\"\"\"\n",
    "    duplicate_files = {}\n",
    "    seen_files = set()\n",
    "\n",
    "    for root, _, files in os.walk(directory):\n",
    "        for file_name in files:\n",
    "            file_path = os.path.join(root, file_name)\n",
    "            file_checksum = calculate_file_checksum(file_path)\n",
    "\n",
    "            if file_checksum in seen_files:\n",
    "                duplicate_files.setdefault(file_checksum, []).append(file_path)\n",
    "            else:\n",
    "                seen_files.add(file_checksum)\n",
    "\n",
    "    return duplicate_files\n",
    "\n",
    "if __name__ == \"__main__\":\n",
    "    target_directory = \"/run/user/30046150/gvfs/smb-share:server=data2.thecrick.org,share=lab-gutierrezm/data/STPs/electron_microscopy/inputs/gutierrezm\"\n",
    "    duplicate_files = find_duplicate_files(target_directory)\n",
    "\n",
    "    for checksum, file_paths in tqdm(duplicate_files.items()):\n",
    "        if len(file_paths) > 1:\n",
    "            print(f\"Duplicates with checksum {checksum}:\")\n",
    "            for file_path in tqdm(file_paths):\n",
    "                print(f\"  - {file_path}\")\n"
   ]
  }
 ],
 "metadata": {
  "kernelspec": {
   "display_name": "egg",
   "language": "python",
   "name": "egg"
  },
  "language_info": {
   "codemirror_mode": {
    "name": "ipython",
    "version": 3
   },
   "file_extension": ".py",
   "mimetype": "text/x-python",
   "name": "python",
   "nbconvert_exporter": "python",
   "pygments_lexer": "ipython3",
   "version": "3.9.17"
  }
 },
 "nbformat": 4,
 "nbformat_minor": 5
}
