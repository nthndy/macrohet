{
 "cells": [
  {
   "cell_type": "markdown",
   "id": "436cc723-43dd-48f3-9d56-1e1192142281",
   "metadata": {},
   "source": [
    "# Image viewer\n",
    "\n",
    "This notebook is for inspecting timelapse microscopy data, with associated sinhgle-cell labels and tracks, showing the infection of human macrophages with Mycobacterium Tuberculosis (Mtb), acquired on an Opera Phenix confocal microscope. "
   ]
  },
  {
   "cell_type": "code",
   "execution_count": 1,
   "id": "038f21c9-ab18-4688-8de0-829dc749c642",
   "metadata": {},
   "outputs": [],
   "source": [
    "import napari\n",
    "import os, glob\n",
    "from macrohet import dataio, tile, visualise, notify\n",
    "\n",
    "from macrohet import visualise\n",
    "import os\n",
    "import re\n",
    "import numpy as np\n",
    "import cv2\n",
    "import btrack"
   ]
  },
  {
   "cell_type": "markdown",
   "id": "146e7f4c-fcb4-4136-a21d-14725bdaa946",
   "metadata": {},
   "source": [
    "### Load experiment of choice\n",
    "\n",
    "The Opera Phenix is a high-throughput confocal microscope that acquires very large 5-dimensional (TCZXY) images over several fields of view in any one experiment. Therefore, a lazy-loading approach is chosen to mosaic, view and annotate these images. This approach depends upon Dask and DaskFusion. The first step is to load the main metadata file (typically called `Index.idx.xml` and located in the main `Images` directory) that contains the image filenames and associated TCXZY information used to organise the images."
   ]
  },
  {
   "cell_type": "code",
   "execution_count": 2,
   "id": "1374af15-828d-4702-80f5-0069aedb019a",
   "metadata": {},
   "outputs": [
    {
     "name": "stdout",
     "output_type": "stream",
     "text": [
      "Reading metadata XML file...\n"
     ]
    },
    {
     "data": {
      "application/vnd.jupyter.widget-view+json": {
       "model_id": "13282420d02a4c77be4b997f67b65980",
       "version_major": 2,
       "version_minor": 0
      },
      "text/plain": [
       "0it [00:00, ?it/s]"
      ]
     },
     "metadata": {},
     "output_type": "display_data"
    },
    {
     "name": "stdout",
     "output_type": "stream",
     "text": [
      "Extracting metadata complete!\n",
      "CPU times: user 11.6 s, sys: 915 ms, total: 12.5 s\n",
      "Wall time: 12.7 s\n"
     ]
    },
    {
     "data": {
      "text/html": [
       "<div>\n",
       "<style scoped>\n",
       "    .dataframe tbody tr th:only-of-type {\n",
       "        vertical-align: middle;\n",
       "    }\n",
       "\n",
       "    .dataframe tbody tr th {\n",
       "        vertical-align: top;\n",
       "    }\n",
       "\n",
       "    .dataframe thead th {\n",
       "        text-align: right;\n",
       "    }\n",
       "</style>\n",
       "<table border=\"1\" class=\"dataframe\">\n",
       "  <thead>\n",
       "    <tr style=\"text-align: right;\">\n",
       "      <th></th>\n",
       "      <th>id</th>\n",
       "      <th>State</th>\n",
       "      <th>URL</th>\n",
       "      <th>Row</th>\n",
       "      <th>Col</th>\n",
       "      <th>FieldID</th>\n",
       "      <th>PlaneID</th>\n",
       "      <th>TimepointID</th>\n",
       "      <th>ChannelID</th>\n",
       "      <th>FlimID</th>\n",
       "      <th>...</th>\n",
       "      <th>PositionZ</th>\n",
       "      <th>AbsPositionZ</th>\n",
       "      <th>MeasurementTimeOffset</th>\n",
       "      <th>AbsTime</th>\n",
       "      <th>MainExcitationWavelength</th>\n",
       "      <th>MainEmissionWavelength</th>\n",
       "      <th>ObjectiveMagnification</th>\n",
       "      <th>ObjectiveNA</th>\n",
       "      <th>ExposureTime</th>\n",
       "      <th>OrientationMatrix</th>\n",
       "    </tr>\n",
       "  </thead>\n",
       "  <tbody>\n",
       "    <tr>\n",
       "      <th>0</th>\n",
       "      <td>0303K1F1P1R1</td>\n",
       "      <td>Ok</td>\n",
       "      <td>r03c03f01p01-ch1sk1fk1fl1.tiff</td>\n",
       "      <td>3</td>\n",
       "      <td>3</td>\n",
       "      <td>1</td>\n",
       "      <td>1</td>\n",
       "      <td>0</td>\n",
       "      <td>1</td>\n",
       "      <td>1</td>\n",
       "      <td>...</td>\n",
       "      <td>0</td>\n",
       "      <td>0.135583505</td>\n",
       "      <td>0</td>\n",
       "      <td>2021-04-16T19:09:33.84+01:00</td>\n",
       "      <td>488</td>\n",
       "      <td>522</td>\n",
       "      <td>40</td>\n",
       "      <td>1.1</td>\n",
       "      <td>0.1</td>\n",
       "      <td>[[0.990860,0,0,-15.9],[0,-0.990860,0,-44.8],[0...</td>\n",
       "    </tr>\n",
       "    <tr>\n",
       "      <th>1</th>\n",
       "      <td>0303K1F1P1R2</td>\n",
       "      <td>Ok</td>\n",
       "      <td>r03c03f01p01-ch2sk1fk1fl1.tiff</td>\n",
       "      <td>3</td>\n",
       "      <td>3</td>\n",
       "      <td>1</td>\n",
       "      <td>1</td>\n",
       "      <td>0</td>\n",
       "      <td>2</td>\n",
       "      <td>1</td>\n",
       "      <td>...</td>\n",
       "      <td>0</td>\n",
       "      <td>0.135583505</td>\n",
       "      <td>0</td>\n",
       "      <td>2021-04-16T19:09:33.84+01:00</td>\n",
       "      <td>640</td>\n",
       "      <td>706</td>\n",
       "      <td>40</td>\n",
       "      <td>1.1</td>\n",
       "      <td>0.2</td>\n",
       "      <td>[[0.990860,0,0,-15.9],[0,-0.990860,0,-44.8],[0...</td>\n",
       "    </tr>\n",
       "    <tr>\n",
       "      <th>2</th>\n",
       "      <td>0303K1F1P2R1</td>\n",
       "      <td>Ok</td>\n",
       "      <td>r03c03f01p02-ch1sk1fk1fl1.tiff</td>\n",
       "      <td>3</td>\n",
       "      <td>3</td>\n",
       "      <td>1</td>\n",
       "      <td>2</td>\n",
       "      <td>0</td>\n",
       "      <td>1</td>\n",
       "      <td>1</td>\n",
       "      <td>...</td>\n",
       "      <td>2E-06</td>\n",
       "      <td>0.135585502</td>\n",
       "      <td>0</td>\n",
       "      <td>2021-04-16T19:09:34.12+01:00</td>\n",
       "      <td>488</td>\n",
       "      <td>522</td>\n",
       "      <td>40</td>\n",
       "      <td>1.1</td>\n",
       "      <td>0.1</td>\n",
       "      <td>[[0.990860,0,0,-15.9],[0,-0.990860,0,-44.8],[0...</td>\n",
       "    </tr>\n",
       "    <tr>\n",
       "      <th>3</th>\n",
       "      <td>0303K1F1P2R2</td>\n",
       "      <td>Ok</td>\n",
       "      <td>r03c03f01p02-ch2sk1fk1fl1.tiff</td>\n",
       "      <td>3</td>\n",
       "      <td>3</td>\n",
       "      <td>1</td>\n",
       "      <td>2</td>\n",
       "      <td>0</td>\n",
       "      <td>2</td>\n",
       "      <td>1</td>\n",
       "      <td>...</td>\n",
       "      <td>2E-06</td>\n",
       "      <td>0.135585502</td>\n",
       "      <td>0</td>\n",
       "      <td>2021-04-16T19:09:34.12+01:00</td>\n",
       "      <td>640</td>\n",
       "      <td>706</td>\n",
       "      <td>40</td>\n",
       "      <td>1.1</td>\n",
       "      <td>0.2</td>\n",
       "      <td>[[0.990860,0,0,-15.9],[0,-0.990860,0,-44.8],[0...</td>\n",
       "    </tr>\n",
       "    <tr>\n",
       "      <th>4</th>\n",
       "      <td>0303K1F1P3R1</td>\n",
       "      <td>Ok</td>\n",
       "      <td>r03c03f01p03-ch1sk1fk1fl1.tiff</td>\n",
       "      <td>3</td>\n",
       "      <td>3</td>\n",
       "      <td>1</td>\n",
       "      <td>3</td>\n",
       "      <td>0</td>\n",
       "      <td>1</td>\n",
       "      <td>1</td>\n",
       "      <td>...</td>\n",
       "      <td>4E-06</td>\n",
       "      <td>0.135587499</td>\n",
       "      <td>0</td>\n",
       "      <td>2021-04-16T19:09:34.4+01:00</td>\n",
       "      <td>488</td>\n",
       "      <td>522</td>\n",
       "      <td>40</td>\n",
       "      <td>1.1</td>\n",
       "      <td>0.1</td>\n",
       "      <td>[[0.990860,0,0,-15.9],[0,-0.990860,0,-44.8],[0...</td>\n",
       "    </tr>\n",
       "    <tr>\n",
       "      <th>...</th>\n",
       "      <td>...</td>\n",
       "      <td>...</td>\n",
       "      <td>...</td>\n",
       "      <td>...</td>\n",
       "      <td>...</td>\n",
       "      <td>...</td>\n",
       "      <td>...</td>\n",
       "      <td>...</td>\n",
       "      <td>...</td>\n",
       "      <td>...</td>\n",
       "      <td>...</td>\n",
       "      <td>...</td>\n",
       "      <td>...</td>\n",
       "      <td>...</td>\n",
       "      <td>...</td>\n",
       "      <td>...</td>\n",
       "      <td>...</td>\n",
       "      <td>...</td>\n",
       "      <td>...</td>\n",
       "      <td>...</td>\n",
       "      <td>...</td>\n",
       "    </tr>\n",
       "    <tr>\n",
       "      <th>113395</th>\n",
       "      <td>0609K75F9P1R2</td>\n",
       "      <td>Ok</td>\n",
       "      <td>r06c09f09p01-ch2sk75fk1fl1.tiff</td>\n",
       "      <td>6</td>\n",
       "      <td>9</td>\n",
       "      <td>9</td>\n",
       "      <td>1</td>\n",
       "      <td>74</td>\n",
       "      <td>2</td>\n",
       "      <td>1</td>\n",
       "      <td>...</td>\n",
       "      <td>0</td>\n",
       "      <td>0.135533601</td>\n",
       "      <td>266399.61</td>\n",
       "      <td>2021-04-19T21:14:19.477+01:00</td>\n",
       "      <td>640</td>\n",
       "      <td>706</td>\n",
       "      <td>40</td>\n",
       "      <td>1.1</td>\n",
       "      <td>0.2</td>\n",
       "      <td>[[0.990860,0,0,-15.9],[0,-0.990860,0,-44.8],[0...</td>\n",
       "    </tr>\n",
       "    <tr>\n",
       "      <th>113396</th>\n",
       "      <td>0609K75F9P2R1</td>\n",
       "      <td>Ok</td>\n",
       "      <td>r06c09f09p02-ch1sk75fk1fl1.tiff</td>\n",
       "      <td>6</td>\n",
       "      <td>9</td>\n",
       "      <td>9</td>\n",
       "      <td>2</td>\n",
       "      <td>74</td>\n",
       "      <td>1</td>\n",
       "      <td>1</td>\n",
       "      <td>...</td>\n",
       "      <td>2E-06</td>\n",
       "      <td>0.135535598</td>\n",
       "      <td>266399.61</td>\n",
       "      <td>2021-04-19T21:14:19.757+01:00</td>\n",
       "      <td>488</td>\n",
       "      <td>522</td>\n",
       "      <td>40</td>\n",
       "      <td>1.1</td>\n",
       "      <td>0.1</td>\n",
       "      <td>[[0.990860,0,0,-15.9],[0,-0.990860,0,-44.8],[0...</td>\n",
       "    </tr>\n",
       "    <tr>\n",
       "      <th>113397</th>\n",
       "      <td>0609K75F9P2R2</td>\n",
       "      <td>Ok</td>\n",
       "      <td>r06c09f09p02-ch2sk75fk1fl1.tiff</td>\n",
       "      <td>6</td>\n",
       "      <td>9</td>\n",
       "      <td>9</td>\n",
       "      <td>2</td>\n",
       "      <td>74</td>\n",
       "      <td>2</td>\n",
       "      <td>1</td>\n",
       "      <td>...</td>\n",
       "      <td>2E-06</td>\n",
       "      <td>0.135535598</td>\n",
       "      <td>266399.61</td>\n",
       "      <td>2021-04-19T21:14:19.757+01:00</td>\n",
       "      <td>640</td>\n",
       "      <td>706</td>\n",
       "      <td>40</td>\n",
       "      <td>1.1</td>\n",
       "      <td>0.2</td>\n",
       "      <td>[[0.990860,0,0,-15.9],[0,-0.990860,0,-44.8],[0...</td>\n",
       "    </tr>\n",
       "    <tr>\n",
       "      <th>113398</th>\n",
       "      <td>0609K75F9P3R1</td>\n",
       "      <td>Ok</td>\n",
       "      <td>r06c09f09p03-ch1sk75fk1fl1.tiff</td>\n",
       "      <td>6</td>\n",
       "      <td>9</td>\n",
       "      <td>9</td>\n",
       "      <td>3</td>\n",
       "      <td>74</td>\n",
       "      <td>1</td>\n",
       "      <td>1</td>\n",
       "      <td>...</td>\n",
       "      <td>4E-06</td>\n",
       "      <td>0.135537595</td>\n",
       "      <td>266399.61</td>\n",
       "      <td>2021-04-19T21:14:20.037+01:00</td>\n",
       "      <td>488</td>\n",
       "      <td>522</td>\n",
       "      <td>40</td>\n",
       "      <td>1.1</td>\n",
       "      <td>0.1</td>\n",
       "      <td>[[0.990860,0,0,-15.9],[0,-0.990860,0,-44.8],[0...</td>\n",
       "    </tr>\n",
       "    <tr>\n",
       "      <th>113399</th>\n",
       "      <td>0609K75F9P3R2</td>\n",
       "      <td>Ok</td>\n",
       "      <td>r06c09f09p03-ch2sk75fk1fl1.tiff</td>\n",
       "      <td>6</td>\n",
       "      <td>9</td>\n",
       "      <td>9</td>\n",
       "      <td>3</td>\n",
       "      <td>74</td>\n",
       "      <td>2</td>\n",
       "      <td>1</td>\n",
       "      <td>...</td>\n",
       "      <td>4E-06</td>\n",
       "      <td>0.135537595</td>\n",
       "      <td>266399.61</td>\n",
       "      <td>2021-04-19T21:14:20.037+01:00</td>\n",
       "      <td>640</td>\n",
       "      <td>706</td>\n",
       "      <td>40</td>\n",
       "      <td>1.1</td>\n",
       "      <td>0.2</td>\n",
       "      <td>[[0.990860,0,0,-15.9],[0,-0.990860,0,-44.8],[0...</td>\n",
       "    </tr>\n",
       "  </tbody>\n",
       "</table>\n",
       "<p>113400 rows × 35 columns</p>\n",
       "</div>"
      ],
      "text/plain": [
       "                   id State                              URL Row Col FieldID  \\\n",
       "0        0303K1F1P1R1    Ok   r03c03f01p01-ch1sk1fk1fl1.tiff   3   3       1   \n",
       "1        0303K1F1P1R2    Ok   r03c03f01p01-ch2sk1fk1fl1.tiff   3   3       1   \n",
       "2        0303K1F1P2R1    Ok   r03c03f01p02-ch1sk1fk1fl1.tiff   3   3       1   \n",
       "3        0303K1F1P2R2    Ok   r03c03f01p02-ch2sk1fk1fl1.tiff   3   3       1   \n",
       "4        0303K1F1P3R1    Ok   r03c03f01p03-ch1sk1fk1fl1.tiff   3   3       1   \n",
       "...               ...   ...                              ...  ..  ..     ...   \n",
       "113395  0609K75F9P1R2    Ok  r06c09f09p01-ch2sk75fk1fl1.tiff   6   9       9   \n",
       "113396  0609K75F9P2R1    Ok  r06c09f09p02-ch1sk75fk1fl1.tiff   6   9       9   \n",
       "113397  0609K75F9P2R2    Ok  r06c09f09p02-ch2sk75fk1fl1.tiff   6   9       9   \n",
       "113398  0609K75F9P3R1    Ok  r06c09f09p03-ch1sk75fk1fl1.tiff   6   9       9   \n",
       "113399  0609K75F9P3R2    Ok  r06c09f09p03-ch2sk75fk1fl1.tiff   6   9       9   \n",
       "\n",
       "       PlaneID TimepointID ChannelID FlimID  ... PositionZ AbsPositionZ  \\\n",
       "0            1           0         1      1  ...         0  0.135583505   \n",
       "1            1           0         2      1  ...         0  0.135583505   \n",
       "2            2           0         1      1  ...     2E-06  0.135585502   \n",
       "3            2           0         2      1  ...     2E-06  0.135585502   \n",
       "4            3           0         1      1  ...     4E-06  0.135587499   \n",
       "...        ...         ...       ...    ...  ...       ...          ...   \n",
       "113395       1          74         2      1  ...         0  0.135533601   \n",
       "113396       2          74         1      1  ...     2E-06  0.135535598   \n",
       "113397       2          74         2      1  ...     2E-06  0.135535598   \n",
       "113398       3          74         1      1  ...     4E-06  0.135537595   \n",
       "113399       3          74         2      1  ...     4E-06  0.135537595   \n",
       "\n",
       "       MeasurementTimeOffset                        AbsTime  \\\n",
       "0                          0   2021-04-16T19:09:33.84+01:00   \n",
       "1                          0   2021-04-16T19:09:33.84+01:00   \n",
       "2                          0   2021-04-16T19:09:34.12+01:00   \n",
       "3                          0   2021-04-16T19:09:34.12+01:00   \n",
       "4                          0    2021-04-16T19:09:34.4+01:00   \n",
       "...                      ...                            ...   \n",
       "113395             266399.61  2021-04-19T21:14:19.477+01:00   \n",
       "113396             266399.61  2021-04-19T21:14:19.757+01:00   \n",
       "113397             266399.61  2021-04-19T21:14:19.757+01:00   \n",
       "113398             266399.61  2021-04-19T21:14:20.037+01:00   \n",
       "113399             266399.61  2021-04-19T21:14:20.037+01:00   \n",
       "\n",
       "       MainExcitationWavelength MainEmissionWavelength ObjectiveMagnification  \\\n",
       "0                           488                    522                     40   \n",
       "1                           640                    706                     40   \n",
       "2                           488                    522                     40   \n",
       "3                           640                    706                     40   \n",
       "4                           488                    522                     40   \n",
       "...                         ...                    ...                    ...   \n",
       "113395                      640                    706                     40   \n",
       "113396                      488                    522                     40   \n",
       "113397                      640                    706                     40   \n",
       "113398                      488                    522                     40   \n",
       "113399                      640                    706                     40   \n",
       "\n",
       "       ObjectiveNA ExposureTime  \\\n",
       "0              1.1          0.1   \n",
       "1              1.1          0.2   \n",
       "2              1.1          0.1   \n",
       "3              1.1          0.2   \n",
       "4              1.1          0.1   \n",
       "...            ...          ...   \n",
       "113395         1.1          0.2   \n",
       "113396         1.1          0.1   \n",
       "113397         1.1          0.2   \n",
       "113398         1.1          0.1   \n",
       "113399         1.1          0.2   \n",
       "\n",
       "                                        OrientationMatrix  \n",
       "0       [[0.990860,0,0,-15.9],[0,-0.990860,0,-44.8],[0...  \n",
       "1       [[0.990860,0,0,-15.9],[0,-0.990860,0,-44.8],[0...  \n",
       "2       [[0.990860,0,0,-15.9],[0,-0.990860,0,-44.8],[0...  \n",
       "3       [[0.990860,0,0,-15.9],[0,-0.990860,0,-44.8],[0...  \n",
       "4       [[0.990860,0,0,-15.9],[0,-0.990860,0,-44.8],[0...  \n",
       "...                                                   ...  \n",
       "113395  [[0.990860,0,0,-15.9],[0,-0.990860,0,-44.8],[0...  \n",
       "113396  [[0.990860,0,0,-15.9],[0,-0.990860,0,-44.8],[0...  \n",
       "113397  [[0.990860,0,0,-15.9],[0,-0.990860,0,-44.8],[0...  \n",
       "113398  [[0.990860,0,0,-15.9],[0,-0.990860,0,-44.8],[0...  \n",
       "113399  [[0.990860,0,0,-15.9],[0,-0.990860,0,-44.8],[0...  \n",
       "\n",
       "[113400 rows x 35 columns]"
      ]
     },
     "execution_count": 2,
     "metadata": {},
     "output_type": "execute_result"
    }
   ],
   "source": [
    "%%time\n",
    "expt_ID = 'PS0000'\n",
    "\n",
    "base_dir = f'/mnt/SYNO/macrohet_syno/{expt_ID}/'\n",
    "# base_dir = f'/mnt/DATA/macrohet/{expt_ID}/'\n",
    "\n",
    "metadata_fn = glob.glob(os.path.join(base_dir, 'acquisition/Images/Index*xml'))[0]\n",
    "metadata = dataio.read_harmony_metadata(metadata_fn)  \n",
    "metadata"
   ]
  },
  {
   "cell_type": "markdown",
   "id": "526ff388-5289-4f56-a417-1fa03a99fd85",
   "metadata": {},
   "source": [
    "### View assay layout and mask information (optional)\n",
    "\n",
    "The Opera Phenix acquires many time lapse series from a range of positions. The first step is to inspect the image metadata, presented in the form of an `Assaylayout/experiment_ID.xml` file, to show which positions correspond to which experimental assays."
   ]
  },
  {
   "cell_type": "code",
   "execution_count": 3,
   "id": "e7c525cd-32aa-4946-a1e5-d45e02c3411f",
   "metadata": {
    "scrolled": true
   },
   "outputs": [
    {
     "name": "stdout",
     "output_type": "stream",
     "text": [
      "Reading metadata XML file...\n",
      "Extracting metadata complete!\n"
     ]
    },
    {
     "data": {
      "text/html": [
       "<div>\n",
       "<style scoped>\n",
       "    .dataframe tbody tr th:only-of-type {\n",
       "        vertical-align: middle;\n",
       "    }\n",
       "\n",
       "    .dataframe tbody tr th {\n",
       "        vertical-align: top;\n",
       "    }\n",
       "\n",
       "    .dataframe thead th {\n",
       "        text-align: right;\n",
       "    }\n",
       "</style>\n",
       "<table border=\"1\" class=\"dataframe\">\n",
       "  <thead>\n",
       "    <tr style=\"text-align: right;\">\n",
       "      <th></th>\n",
       "      <th></th>\n",
       "      <th>Strain</th>\n",
       "      <th>Compound</th>\n",
       "      <th>Concentration</th>\n",
       "      <th>ConcentrationEC</th>\n",
       "    </tr>\n",
       "    <tr>\n",
       "      <th>Row</th>\n",
       "      <th>Column</th>\n",
       "      <th></th>\n",
       "      <th></th>\n",
       "      <th></th>\n",
       "      <th></th>\n",
       "    </tr>\n",
       "  </thead>\n",
       "  <tbody>\n",
       "    <tr>\n",
       "      <th rowspan=\"6\" valign=\"top\">3</th>\n",
       "      <th>4</th>\n",
       "      <td>RD1</td>\n",
       "      <td>CTRL</td>\n",
       "      <td>0</td>\n",
       "      <td>EC0</td>\n",
       "    </tr>\n",
       "    <tr>\n",
       "      <th>5</th>\n",
       "      <td>WT</td>\n",
       "      <td>CTRL</td>\n",
       "      <td>0</td>\n",
       "      <td>EC0</td>\n",
       "    </tr>\n",
       "    <tr>\n",
       "      <th>6</th>\n",
       "      <td>WT</td>\n",
       "      <td>PZA</td>\n",
       "      <td>60</td>\n",
       "      <td>EC50</td>\n",
       "    </tr>\n",
       "    <tr>\n",
       "      <th>7</th>\n",
       "      <td>WT</td>\n",
       "      <td>RIF</td>\n",
       "      <td>0.1</td>\n",
       "      <td>EC50</td>\n",
       "    </tr>\n",
       "    <tr>\n",
       "      <th>8</th>\n",
       "      <td>WT</td>\n",
       "      <td>INH</td>\n",
       "      <td>0.04</td>\n",
       "      <td>EC50</td>\n",
       "    </tr>\n",
       "    <tr>\n",
       "      <th>9</th>\n",
       "      <td>WT</td>\n",
       "      <td>BDQ</td>\n",
       "      <td>0.02</td>\n",
       "      <td>EC50</td>\n",
       "    </tr>\n",
       "    <tr>\n",
       "      <th rowspan=\"6\" valign=\"top\">4</th>\n",
       "      <th>4</th>\n",
       "      <td>RD1</td>\n",
       "      <td>CTRL</td>\n",
       "      <td>0</td>\n",
       "      <td>EC0</td>\n",
       "    </tr>\n",
       "    <tr>\n",
       "      <th>5</th>\n",
       "      <td>WT</td>\n",
       "      <td>CTRL</td>\n",
       "      <td>0</td>\n",
       "      <td>EC0</td>\n",
       "    </tr>\n",
       "    <tr>\n",
       "      <th>6</th>\n",
       "      <td>WT</td>\n",
       "      <td>PZA</td>\n",
       "      <td>60</td>\n",
       "      <td>EC50</td>\n",
       "    </tr>\n",
       "    <tr>\n",
       "      <th>7</th>\n",
       "      <td>WT</td>\n",
       "      <td>RIF</td>\n",
       "      <td>0.1</td>\n",
       "      <td>EC50</td>\n",
       "    </tr>\n",
       "    <tr>\n",
       "      <th>8</th>\n",
       "      <td>WT</td>\n",
       "      <td>INH</td>\n",
       "      <td>0.04</td>\n",
       "      <td>EC50</td>\n",
       "    </tr>\n",
       "    <tr>\n",
       "      <th>9</th>\n",
       "      <td>WT</td>\n",
       "      <td>BDQ</td>\n",
       "      <td>0.02</td>\n",
       "      <td>EC50</td>\n",
       "    </tr>\n",
       "    <tr>\n",
       "      <th rowspan=\"6\" valign=\"top\">5</th>\n",
       "      <th>4</th>\n",
       "      <td>RD1</td>\n",
       "      <td>CTRL</td>\n",
       "      <td>0</td>\n",
       "      <td>EC0</td>\n",
       "    </tr>\n",
       "    <tr>\n",
       "      <th>5</th>\n",
       "      <td>WT</td>\n",
       "      <td>CTRL</td>\n",
       "      <td>0</td>\n",
       "      <td>EC0</td>\n",
       "    </tr>\n",
       "    <tr>\n",
       "      <th>6</th>\n",
       "      <td>WT</td>\n",
       "      <td>PZA</td>\n",
       "      <td>400</td>\n",
       "      <td>EC99</td>\n",
       "    </tr>\n",
       "    <tr>\n",
       "      <th>7</th>\n",
       "      <td>WT</td>\n",
       "      <td>RIF</td>\n",
       "      <td>2</td>\n",
       "      <td>EC99</td>\n",
       "    </tr>\n",
       "    <tr>\n",
       "      <th>8</th>\n",
       "      <td>WT</td>\n",
       "      <td>INH</td>\n",
       "      <td>2</td>\n",
       "      <td>EC99</td>\n",
       "    </tr>\n",
       "    <tr>\n",
       "      <th>9</th>\n",
       "      <td>WT</td>\n",
       "      <td>BDQ</td>\n",
       "      <td>2.5</td>\n",
       "      <td>EC99</td>\n",
       "    </tr>\n",
       "    <tr>\n",
       "      <th rowspan=\"6\" valign=\"top\">6</th>\n",
       "      <th>4</th>\n",
       "      <td>RD1</td>\n",
       "      <td>CTRL</td>\n",
       "      <td>0</td>\n",
       "      <td>EC0</td>\n",
       "    </tr>\n",
       "    <tr>\n",
       "      <th>5</th>\n",
       "      <td>WT</td>\n",
       "      <td>CTRL</td>\n",
       "      <td>0</td>\n",
       "      <td>EC0</td>\n",
       "    </tr>\n",
       "    <tr>\n",
       "      <th>6</th>\n",
       "      <td>WT</td>\n",
       "      <td>PZA</td>\n",
       "      <td>400</td>\n",
       "      <td>EC99</td>\n",
       "    </tr>\n",
       "    <tr>\n",
       "      <th>7</th>\n",
       "      <td>WT</td>\n",
       "      <td>RIF</td>\n",
       "      <td>2</td>\n",
       "      <td>EC99</td>\n",
       "    </tr>\n",
       "    <tr>\n",
       "      <th>8</th>\n",
       "      <td>WT</td>\n",
       "      <td>INH</td>\n",
       "      <td>2</td>\n",
       "      <td>EC99</td>\n",
       "    </tr>\n",
       "    <tr>\n",
       "      <th>9</th>\n",
       "      <td>WT</td>\n",
       "      <td>BDQ</td>\n",
       "      <td>2.5</td>\n",
       "      <td>EC99</td>\n",
       "    </tr>\n",
       "  </tbody>\n",
       "</table>\n",
       "</div>"
      ],
      "text/plain": [
       "           Strain Compound Concentration ConcentrationEC\n",
       "Row Column                                              \n",
       "3   4         RD1     CTRL             0             EC0\n",
       "    5          WT     CTRL             0             EC0\n",
       "    6          WT      PZA            60            EC50\n",
       "    7          WT      RIF           0.1            EC50\n",
       "    8          WT      INH          0.04            EC50\n",
       "    9          WT      BDQ          0.02            EC50\n",
       "4   4         RD1     CTRL             0             EC0\n",
       "    5          WT     CTRL             0             EC0\n",
       "    6          WT      PZA            60            EC50\n",
       "    7          WT      RIF           0.1            EC50\n",
       "    8          WT      INH          0.04            EC50\n",
       "    9          WT      BDQ          0.02            EC50\n",
       "5   4         RD1     CTRL             0             EC0\n",
       "    5          WT     CTRL             0             EC0\n",
       "    6          WT      PZA           400            EC99\n",
       "    7          WT      RIF             2            EC99\n",
       "    8          WT      INH             2            EC99\n",
       "    9          WT      BDQ           2.5            EC99\n",
       "6   4         RD1     CTRL             0             EC0\n",
       "    5          WT     CTRL             0             EC0\n",
       "    6          WT      PZA           400            EC99\n",
       "    7          WT      RIF             2            EC99\n",
       "    8          WT      INH             2            EC99\n",
       "    9          WT      BDQ           2.5            EC99"
      ]
     },
     "execution_count": 3,
     "metadata": {},
     "output_type": "execute_result"
    }
   ],
   "source": [
    "metadata_path = glob.glob(os.path.join(base_dir, 'acquisition/Assaylayout/*.xml'))[0]\n",
    "assay_layout = dataio.read_harmony_metadata(metadata_path, assay_layout=True,)# mask_exist=True,  image_dir = image_dir, image_metadata = metadata)\n",
    "assay_layout"
   ]
  },
  {
   "cell_type": "markdown",
   "id": "3c0d598c-9877-4731-82ed-7be58ea55c21",
   "metadata": {},
   "source": [
    "#### Load images using Zarr (WIP)"
   ]
  },
  {
   "cell_type": "code",
   "execution_count": 4,
   "id": "d6bc78ac-c1a9-418b-9909-1c5727eac752",
   "metadata": {},
   "outputs": [],
   "source": [
    "import zarr"
   ]
  },
  {
   "cell_type": "markdown",
   "id": "57854230-8d4f-435b-8741-8415d64359c5",
   "metadata": {},
   "source": [
    "### Now to lazily mosaic the images using Dask prior to viewing them.\n",
    "\n",
    "1x (75,2,3) [TCZ] image stack takes approximately 1 minute to stitch together, so only load the one field of view I want."
   ]
  },
  {
   "cell_type": "code",
   "execution_count": 12,
   "id": "4e7453ab-9170-4d94-96de-ece22a4ca45c",
   "metadata": {},
   "outputs": [],
   "source": [
    "import numpy as np\n",
    "from tqdm.auto import tqdm"
   ]
  },
  {
   "cell_type": "markdown",
   "id": "73fb1e2a-8321-4225-b5c9-93f4a1c59162",
   "metadata": {},
   "source": [
    "# Make some glimpses"
   ]
  },
  {
   "cell_type": "code",
   "execution_count": 6,
   "id": "3162d8e7-fe46-40c2-a0e5-e427c4ae01da",
   "metadata": {},
   "outputs": [],
   "source": [
    "# Define the pattern to match the file names\n",
    "pattern = re.compile(r'\\[(.*?)\\]')\n"
   ]
  },
  {
   "cell_type": "code",
   "execution_count": 7,
   "id": "b8df84e9-fc99-4635-9bc6-33e399bd9d8d",
   "metadata": {},
   "outputs": [],
   "source": [
    "unique_IDs = [pattern.search(filename).group(1).replace(\"'\", \"\") for filename in glob.glob('/mnt/SYNO/macrohet_syno/manuscript/dt_dev/*pdf')]\n",
    "# unique_IDs = "
   ]
  },
  {
   "cell_type": "code",
   "execution_count": 14,
   "id": "8f12eb6b-2380-407e-a1ff-f4e6c1cbbfbe",
   "metadata": {},
   "outputs": [],
   "source": [
    "import pandas as pd\n",
    "PS_sc_df_fn = '/mnt/SYNO/macrohet_syno/PS0000/results/preliminary_sc_measures/sc_dfs/sc_df_GT_70_area_false_outliers_removed.pkl'\n",
    "\n",
    "sc_df = df = pd.read_pickle(PS_sc_df_fn)\n",
    "image_dir = os.path.join(base_dir, 'acquisition/Images')\n"
   ]
  },
  {
   "cell_type": "code",
   "execution_count": 8,
   "id": "fc34b7d7-df68-4727-b0de-6ee175490862",
   "metadata": {},
   "outputs": [],
   "source": [
    "segmentation=None\n",
    "crop_size=side_length=500\n",
    "track_scale_factor=5.04\n",
    "mask_outline=True"
   ]
  },
  {
   "cell_type": "code",
   "execution_count": 10,
   "id": "77387c22-9747-43dc-8880-caaa998c1aa0",
   "metadata": {
    "scrolled": true
   },
   "outputs": [],
   "source": [
    "# Sort the IDs based on their last two indices\n",
    "sorted_ids = sorted(unique_IDs, key=lambda x: tuple(map(int, x.split('.')[-2:])))"
   ]
  },
  {
   "cell_type": "code",
   "execution_count": 24,
   "id": "5184381a-5b0c-4d2e-8cb7-058121966ae9",
   "metadata": {},
   "outputs": [
    {
     "data": {
      "text/plain": [
       "True"
      ]
     },
     "execution_count": 24,
     "metadata": {},
     "output_type": "execute_result"
    }
   ],
   "source": [
    "str(acq_ID) in loaded_image "
   ]
  },
  {
   "cell_type": "code",
   "execution_count": 25,
   "id": "e8276a15-0ce9-4db1-9aab-b5928dc8327f",
   "metadata": {},
   "outputs": [
    {
     "data": {
      "text/plain": [
       "(75, 2, 1, 6048, 6048)"
      ]
     },
     "execution_count": 25,
     "metadata": {},
     "output_type": "execute_result"
    }
   ],
   "source": [
    "images.shape"
   ]
  },
  {
   "cell_type": "code",
   "execution_count": 27,
   "id": "2cc1319a-d87c-445e-a4ab-1f8f80e44fef",
   "metadata": {},
   "outputs": [],
   "source": [
    "images = images[:,:,0,...]\n",
    "loaded_image = str(acq_ID)"
   ]
  },
  {
   "cell_type": "code",
   "execution_count": 31,
   "id": "b52e2175-7e56-4ce0-ab6e-306624f81b06",
   "metadata": {},
   "outputs": [],
   "source": [
    "loaded_image = ''"
   ]
  },
  {
   "cell_type": "code",
   "execution_count": 32,
   "id": "6cbf007f-dcf1-4c14-b067-dc605a404cef",
   "metadata": {
    "scrolled": true
   },
   "outputs": [
    {
     "data": {
      "application/vnd.jupyter.widget-view+json": {
       "model_id": "15e46cb46b6b493ca8dd743d0c88aef4",
       "version_major": 2,
       "version_minor": 0
      },
      "text/plain": [
       "  0%|          | 0/672 [00:00<?, ?it/s]"
      ]
     },
     "metadata": {},
     "output_type": "display_data"
    },
    {
     "data": {
      "application/vnd.jupyter.widget-view+json": {
       "model_id": "560fdea8f1074d04b14959e0a742b62c",
       "version_major": 2,
       "version_minor": 0
      },
      "text/plain": [
       "  0%|          | 0/75 [00:00<?, ?it/s]"
      ]
     },
     "metadata": {},
     "output_type": "display_data"
    },
    {
     "name": "stdout",
     "output_type": "stream",
     "text": [
      "Video 159.5.6 saved successfully.\n"
     ]
    },
    {
     "data": {
      "application/vnd.jupyter.widget-view+json": {
       "model_id": "aedffe7d4aba477e868196a0f605ebee",
       "version_major": 2,
       "version_minor": 0
      },
      "text/plain": [
       "  0%|          | 0/75 [00:00<?, ?it/s]"
      ]
     },
     "metadata": {},
     "output_type": "display_data"
    },
    {
     "name": "stdout",
     "output_type": "stream",
     "text": [
      "Video 207.5.6 saved successfully.\n"
     ]
    },
    {
     "data": {
      "application/vnd.jupyter.widget-view+json": {
       "model_id": "29962249bcd44296b0422565f0a35f95",
       "version_major": 2,
       "version_minor": 0
      },
      "text/plain": [
       "  0%|          | 0/75 [00:00<?, ?it/s]"
      ]
     },
     "metadata": {},
     "output_type": "display_data"
    },
    {
     "name": "stdout",
     "output_type": "stream",
     "text": [
      "Video 244.5.6 saved successfully.\n"
     ]
    },
    {
     "data": {
      "application/vnd.jupyter.widget-view+json": {
       "model_id": "b90a62eb5d0c4a30b607ad7b1be658d8",
       "version_major": 2,
       "version_minor": 0
      },
      "text/plain": [
       "  0%|          | 0/75 [00:00<?, ?it/s]"
      ]
     },
     "metadata": {},
     "output_type": "display_data"
    },
    {
     "name": "stdout",
     "output_type": "stream",
     "text": [
      "Video 379.5.6 saved successfully.\n"
     ]
    },
    {
     "data": {
      "application/vnd.jupyter.widget-view+json": {
       "model_id": "fb891d3646624f14816b8523446e1066",
       "version_major": 2,
       "version_minor": 0
      },
      "text/plain": [
       "  0%|          | 0/71 [00:00<?, ?it/s]"
      ]
     },
     "metadata": {},
     "output_type": "display_data"
    },
    {
     "name": "stdout",
     "output_type": "stream",
     "text": [
      "Video 38.5.6 saved successfully.\n"
     ]
    },
    {
     "data": {
      "application/vnd.jupyter.widget-view+json": {
       "model_id": "f9209c93e7de4e55a587db33ab1efdd2",
       "version_major": 2,
       "version_minor": 0
      },
      "text/plain": [
       "  0%|          | 0/75 [00:00<?, ?it/s]"
      ]
     },
     "metadata": {},
     "output_type": "display_data"
    },
    {
     "name": "stdout",
     "output_type": "stream",
     "text": [
      "Video 399.5.6 saved successfully.\n"
     ]
    },
    {
     "data": {
      "application/vnd.jupyter.widget-view+json": {
       "model_id": "66e0f9d62b5f48eb8bb7201705083566",
       "version_major": 2,
       "version_minor": 0
      },
      "text/plain": [
       "  0%|          | 0/75 [00:00<?, ?it/s]"
      ]
     },
     "metadata": {},
     "output_type": "display_data"
    },
    {
     "name": "stdout",
     "output_type": "stream",
     "text": [
      "Video 4.5.6 saved successfully.\n"
     ]
    },
    {
     "data": {
      "application/vnd.jupyter.widget-view+json": {
       "model_id": "5c2a9a02c39645209fcfcbfb7f231909",
       "version_major": 2,
       "version_minor": 0
      },
      "text/plain": [
       "  0%|          | 0/75 [00:00<?, ?it/s]"
      ]
     },
     "metadata": {},
     "output_type": "display_data"
    },
    {
     "name": "stdout",
     "output_type": "stream",
     "text": [
      "Video 456.5.6 saved successfully.\n"
     ]
    },
    {
     "data": {
      "application/vnd.jupyter.widget-view+json": {
       "model_id": "5856c9dc9f3c4d22a83990f827199e7f",
       "version_major": 2,
       "version_minor": 0
      },
      "text/plain": [
       "  0%|          | 0/73 [00:00<?, ?it/s]"
      ]
     },
     "metadata": {},
     "output_type": "display_data"
    },
    {
     "name": "stdout",
     "output_type": "stream",
     "text": [
      "Video 502.5.6 saved successfully.\n"
     ]
    },
    {
     "data": {
      "application/vnd.jupyter.widget-view+json": {
       "model_id": "7cd51cce900c46c4822530dca3696ca3",
       "version_major": 2,
       "version_minor": 0
      },
      "text/plain": [
       "  0%|          | 0/75 [00:00<?, ?it/s]"
      ]
     },
     "metadata": {},
     "output_type": "display_data"
    },
    {
     "name": "stdout",
     "output_type": "stream",
     "text": [
      "Video 51.5.6 saved successfully.\n"
     ]
    },
    {
     "data": {
      "application/vnd.jupyter.widget-view+json": {
       "model_id": "49090c00f8e549caa589aef37020a4aa",
       "version_major": 2,
       "version_minor": 0
      },
      "text/plain": [
       "  0%|          | 0/75 [00:00<?, ?it/s]"
      ]
     },
     "metadata": {},
     "output_type": "display_data"
    },
    {
     "name": "stdout",
     "output_type": "stream",
     "text": [
      "Video 512.5.6 saved successfully.\n"
     ]
    },
    {
     "data": {
      "application/vnd.jupyter.widget-view+json": {
       "model_id": "6221538543274374be493d0d34890bb8",
       "version_major": 2,
       "version_minor": 0
      },
      "text/plain": [
       "  0%|          | 0/75 [00:00<?, ?it/s]"
      ]
     },
     "metadata": {},
     "output_type": "display_data"
    },
    {
     "name": "stdout",
     "output_type": "stream",
     "text": [
      "Video 632.5.6 saved successfully.\n"
     ]
    },
    {
     "data": {
      "application/vnd.jupyter.widget-view+json": {
       "model_id": "eeebc565218f4cd6b9b15412822da6c5",
       "version_major": 2,
       "version_minor": 0
      },
      "text/plain": [
       "  0%|          | 0/74 [00:00<?, ?it/s]"
      ]
     },
     "metadata": {},
     "output_type": "display_data"
    },
    {
     "name": "stdout",
     "output_type": "stream",
     "text": [
      "Video 677.5.6 saved successfully.\n"
     ]
    },
    {
     "data": {
      "application/vnd.jupyter.widget-view+json": {
       "model_id": "1048453bff2443ac9e51d56b24a69d18",
       "version_major": 2,
       "version_minor": 0
      },
      "text/plain": [
       "  0%|          | 0/72 [00:00<?, ?it/s]"
      ]
     },
     "metadata": {},
     "output_type": "display_data"
    },
    {
     "name": "stdout",
     "output_type": "stream",
     "text": [
      "Video 833.5.6 saved successfully.\n"
     ]
    },
    {
     "data": {
      "application/vnd.jupyter.widget-view+json": {
       "model_id": "7380bc8cabba4cdeb2070005588e9c2e",
       "version_major": 2,
       "version_minor": 0
      },
      "text/plain": [
       "  0%|          | 0/72 [00:00<?, ?it/s]"
      ]
     },
     "metadata": {},
     "output_type": "display_data"
    },
    {
     "name": "stdout",
     "output_type": "stream",
     "text": [
      "Video 897.5.6 saved successfully.\n"
     ]
    },
    {
     "data": {
      "application/vnd.jupyter.widget-view+json": {
       "model_id": "4e1460ff974e459ca1886e5b89e22316",
       "version_major": 2,
       "version_minor": 0
      },
      "text/plain": [
       "  0%|          | 0/75 [00:00<?, ?it/s]"
      ]
     },
     "metadata": {},
     "output_type": "display_data"
    },
    {
     "name": "stdout",
     "output_type": "stream",
     "text": [
      "Video 97.5.6 saved successfully.\n"
     ]
    },
    {
     "data": {
      "application/vnd.jupyter.widget-view+json": {
       "model_id": "40b56f5b56a54b518bed4d65f21042c5",
       "version_major": 2,
       "version_minor": 0
      },
      "text/plain": [
       "  0%|          | 0/75 [00:00<?, ?it/s]"
      ]
     },
     "metadata": {},
     "output_type": "display_data"
    },
    {
     "name": "stdout",
     "output_type": "stream",
     "text": [
      "Video 116.5.7 saved successfully.\n"
     ]
    },
    {
     "data": {
      "application/vnd.jupyter.widget-view+json": {
       "model_id": "edca88821a0645bf87bf44d5e1422242",
       "version_major": 2,
       "version_minor": 0
      },
      "text/plain": [
       "  0%|          | 0/75 [00:00<?, ?it/s]"
      ]
     },
     "metadata": {},
     "output_type": "display_data"
    },
    {
     "name": "stdout",
     "output_type": "stream",
     "text": [
      "Video 257.5.7 saved successfully.\n"
     ]
    },
    {
     "data": {
      "application/vnd.jupyter.widget-view+json": {
       "model_id": "e38bba9d1cb346fea1acc602562d58cc",
       "version_major": 2,
       "version_minor": 0
      },
      "text/plain": [
       "  0%|          | 0/75 [00:00<?, ?it/s]"
      ]
     },
     "metadata": {},
     "output_type": "display_data"
    },
    {
     "name": "stdout",
     "output_type": "stream",
     "text": [
      "Video 292.5.7 saved successfully.\n"
     ]
    },
    {
     "data": {
      "application/vnd.jupyter.widget-view+json": {
       "model_id": "71241f56cdfd4b88aa25997e17edc9c7",
       "version_major": 2,
       "version_minor": 0
      },
      "text/plain": [
       "  0%|          | 0/75 [00:00<?, ?it/s]"
      ]
     },
     "metadata": {},
     "output_type": "display_data"
    },
    {
     "name": "stdout",
     "output_type": "stream",
     "text": [
      "Video 321.5.7 saved successfully.\n"
     ]
    },
    {
     "data": {
      "application/vnd.jupyter.widget-view+json": {
       "model_id": "ece898255b434e58892825e10d9d87f1",
       "version_major": 2,
       "version_minor": 0
      },
      "text/plain": [
       "  0%|          | 0/75 [00:00<?, ?it/s]"
      ]
     },
     "metadata": {},
     "output_type": "display_data"
    },
    {
     "name": "stdout",
     "output_type": "stream",
     "text": [
      "Video 423.5.7 saved successfully.\n"
     ]
    },
    {
     "data": {
      "application/vnd.jupyter.widget-view+json": {
       "model_id": "4740b68c9ca64877860f996f89d7a83f",
       "version_major": 2,
       "version_minor": 0
      },
      "text/plain": [
       "  0%|          | 0/75 [00:00<?, ?it/s]"
      ]
     },
     "metadata": {},
     "output_type": "display_data"
    },
    {
     "name": "stdout",
     "output_type": "stream",
     "text": [
      "Video 435.5.7 saved successfully.\n"
     ]
    },
    {
     "data": {
      "application/vnd.jupyter.widget-view+json": {
       "model_id": "a773b3b03dde4f62a9c22e90aba49461",
       "version_major": 2,
       "version_minor": 0
      },
      "text/plain": [
       "  0%|          | 0/75 [00:00<?, ?it/s]"
      ]
     },
     "metadata": {},
     "output_type": "display_data"
    },
    {
     "name": "stdout",
     "output_type": "stream",
     "text": [
      "Video 454.5.7 saved successfully.\n"
     ]
    },
    {
     "data": {
      "application/vnd.jupyter.widget-view+json": {
       "model_id": "ebd3e3ff0a764f3d8b73f9f9bb86dd58",
       "version_major": 2,
       "version_minor": 0
      },
      "text/plain": [
       "  0%|          | 0/75 [00:00<?, ?it/s]"
      ]
     },
     "metadata": {},
     "output_type": "display_data"
    },
    {
     "name": "stdout",
     "output_type": "stream",
     "text": [
      "Video 499.5.7 saved successfully.\n"
     ]
    },
    {
     "data": {
      "application/vnd.jupyter.widget-view+json": {
       "model_id": "d4ac41d1a5824e758a9d2cc0ee798277",
       "version_major": 2,
       "version_minor": 0
      },
      "text/plain": [
       "  0%|          | 0/75 [00:00<?, ?it/s]"
      ]
     },
     "metadata": {},
     "output_type": "display_data"
    },
    {
     "name": "stdout",
     "output_type": "stream",
     "text": [
      "Video 635.5.7 saved successfully.\n"
     ]
    },
    {
     "data": {
      "application/vnd.jupyter.widget-view+json": {
       "model_id": "51acc3349f4342679f24a8cbd426fe5c",
       "version_major": 2,
       "version_minor": 0
      },
      "text/plain": [
       "  0%|          | 0/71 [00:00<?, ?it/s]"
      ]
     },
     "metadata": {},
     "output_type": "display_data"
    },
    {
     "name": "stdout",
     "output_type": "stream",
     "text": [
      "Video 677.5.7 saved successfully.\n"
     ]
    },
    {
     "data": {
      "application/vnd.jupyter.widget-view+json": {
       "model_id": "1b9c7220535b48e9b6ccca21245882f0",
       "version_major": 2,
       "version_minor": 0
      },
      "text/plain": [
       "  0%|          | 0/75 [00:00<?, ?it/s]"
      ]
     },
     "metadata": {},
     "output_type": "display_data"
    },
    {
     "name": "stdout",
     "output_type": "stream",
     "text": [
      "Video 700.5.7 saved successfully.\n"
     ]
    },
    {
     "data": {
      "application/vnd.jupyter.widget-view+json": {
       "model_id": "52696798d95240afa67cd0f90169a1c7",
       "version_major": 2,
       "version_minor": 0
      },
      "text/plain": [
       "  0%|          | 0/71 [00:00<?, ?it/s]"
      ]
     },
     "metadata": {},
     "output_type": "display_data"
    },
    {
     "name": "stdout",
     "output_type": "stream",
     "text": [
      "Video 102.5.8 saved successfully.\n"
     ]
    },
    {
     "data": {
      "application/vnd.jupyter.widget-view+json": {
       "model_id": "d1a6b46f888e4acfa92de340a552fa11",
       "version_major": 2,
       "version_minor": 0
      },
      "text/plain": [
       "  0%|          | 0/75 [00:00<?, ?it/s]"
      ]
     },
     "metadata": {},
     "output_type": "display_data"
    },
    {
     "name": "stdout",
     "output_type": "stream",
     "text": [
      "Video 11.5.8 saved successfully.\n"
     ]
    },
    {
     "data": {
      "application/vnd.jupyter.widget-view+json": {
       "model_id": "979c2a28bfbf4f4eb2cc76879f19582e",
       "version_major": 2,
       "version_minor": 0
      },
      "text/plain": [
       "  0%|          | 0/75 [00:00<?, ?it/s]"
      ]
     },
     "metadata": {},
     "output_type": "display_data"
    },
    {
     "name": "stdout",
     "output_type": "stream",
     "text": [
      "Video 119.5.8 saved successfully.\n"
     ]
    },
    {
     "data": {
      "application/vnd.jupyter.widget-view+json": {
       "model_id": "e2784fe12dfa4718981410e2b30ff5c9",
       "version_major": 2,
       "version_minor": 0
      },
      "text/plain": [
       "  0%|          | 0/75 [00:00<?, ?it/s]"
      ]
     },
     "metadata": {},
     "output_type": "display_data"
    },
    {
     "name": "stdout",
     "output_type": "stream",
     "text": [
      "Video 154.5.8 saved successfully.\n"
     ]
    },
    {
     "data": {
      "application/vnd.jupyter.widget-view+json": {
       "model_id": "a40ec2944eed405dadbe6f0ba785cb96",
       "version_major": 2,
       "version_minor": 0
      },
      "text/plain": [
       "  0%|          | 0/75 [00:00<?, ?it/s]"
      ]
     },
     "metadata": {},
     "output_type": "display_data"
    },
    {
     "name": "stdout",
     "output_type": "stream",
     "text": [
      "Video 159.5.8 saved successfully.\n"
     ]
    },
    {
     "data": {
      "application/vnd.jupyter.widget-view+json": {
       "model_id": "c9a981581df04a419971e5631aaa6d1e",
       "version_major": 2,
       "version_minor": 0
      },
      "text/plain": [
       "  0%|          | 0/75 [00:00<?, ?it/s]"
      ]
     },
     "metadata": {},
     "output_type": "display_data"
    },
    {
     "name": "stdout",
     "output_type": "stream",
     "text": [
      "Video 167.5.8 saved successfully.\n"
     ]
    },
    {
     "data": {
      "application/vnd.jupyter.widget-view+json": {
       "model_id": "f9ce7925c57440098e9249d21e0eab9f",
       "version_major": 2,
       "version_minor": 0
      },
      "text/plain": [
       "  0%|          | 0/75 [00:00<?, ?it/s]"
      ]
     },
     "metadata": {},
     "output_type": "display_data"
    },
    {
     "name": "stdout",
     "output_type": "stream",
     "text": [
      "Video 205.5.8 saved successfully.\n"
     ]
    },
    {
     "data": {
      "application/vnd.jupyter.widget-view+json": {
       "model_id": "3fb94e8dd43442589ed2246e87c2ccc7",
       "version_major": 2,
       "version_minor": 0
      },
      "text/plain": [
       "  0%|          | 0/75 [00:00<?, ?it/s]"
      ]
     },
     "metadata": {},
     "output_type": "display_data"
    },
    {
     "name": "stdout",
     "output_type": "stream",
     "text": [
      "Video 22.5.8 saved successfully.\n"
     ]
    },
    {
     "data": {
      "application/vnd.jupyter.widget-view+json": {
       "model_id": "18fa9475a5204b70b437e7b0a402b81c",
       "version_major": 2,
       "version_minor": 0
      },
      "text/plain": [
       "  0%|          | 0/75 [00:00<?, ?it/s]"
      ]
     },
     "metadata": {},
     "output_type": "display_data"
    },
    {
     "name": "stdout",
     "output_type": "stream",
     "text": [
      "Video 220.5.8 saved successfully.\n"
     ]
    },
    {
     "data": {
      "application/vnd.jupyter.widget-view+json": {
       "model_id": "0adcbfcc96444abea7c7c65f3ade6daa",
       "version_major": 2,
       "version_minor": 0
      },
      "text/plain": [
       "  0%|          | 0/75 [00:00<?, ?it/s]"
      ]
     },
     "metadata": {},
     "output_type": "display_data"
    },
    {
     "name": "stdout",
     "output_type": "stream",
     "text": [
      "Video 224.5.8 saved successfully.\n"
     ]
    },
    {
     "data": {
      "application/vnd.jupyter.widget-view+json": {
       "model_id": "063201a583a94083a860948321a6bf00",
       "version_major": 2,
       "version_minor": 0
      },
      "text/plain": [
       "  0%|          | 0/75 [00:00<?, ?it/s]"
      ]
     },
     "metadata": {},
     "output_type": "display_data"
    },
    {
     "name": "stdout",
     "output_type": "stream",
     "text": [
      "Video 232.5.8 saved successfully.\n"
     ]
    },
    {
     "data": {
      "application/vnd.jupyter.widget-view+json": {
       "model_id": "d6ebdfc2f9fd46989e0a1d3f7c95871d",
       "version_major": 2,
       "version_minor": 0
      },
      "text/plain": [
       "  0%|          | 0/75 [00:00<?, ?it/s]"
      ]
     },
     "metadata": {},
     "output_type": "display_data"
    },
    {
     "name": "stdout",
     "output_type": "stream",
     "text": [
      "Video 309.5.8 saved successfully.\n"
     ]
    },
    {
     "data": {
      "application/vnd.jupyter.widget-view+json": {
       "model_id": "867f4a5702d64bc496ddcbe71ee0b4de",
       "version_major": 2,
       "version_minor": 0
      },
      "text/plain": [
       "  0%|          | 0/75 [00:00<?, ?it/s]"
      ]
     },
     "metadata": {},
     "output_type": "display_data"
    },
    {
     "name": "stdout",
     "output_type": "stream",
     "text": [
      "Video 310.5.8 saved successfully.\n"
     ]
    },
    {
     "data": {
      "application/vnd.jupyter.widget-view+json": {
       "model_id": "71232a8baed24d0eb2ea13afd340c9ef",
       "version_major": 2,
       "version_minor": 0
      },
      "text/plain": [
       "  0%|          | 0/75 [00:00<?, ?it/s]"
      ]
     },
     "metadata": {},
     "output_type": "display_data"
    },
    {
     "name": "stdout",
     "output_type": "stream",
     "text": [
      "Video 317.5.8 saved successfully.\n"
     ]
    },
    {
     "data": {
      "application/vnd.jupyter.widget-view+json": {
       "model_id": "940a5a69460e430a9e4e686ff760be52",
       "version_major": 2,
       "version_minor": 0
      },
      "text/plain": [
       "  0%|          | 0/75 [00:00<?, ?it/s]"
      ]
     },
     "metadata": {},
     "output_type": "display_data"
    },
    {
     "name": "stdout",
     "output_type": "stream",
     "text": [
      "Video 341.5.8 saved successfully.\n"
     ]
    },
    {
     "data": {
      "application/vnd.jupyter.widget-view+json": {
       "model_id": "b6d73c5814294501bf19abbee3a66d57",
       "version_major": 2,
       "version_minor": 0
      },
      "text/plain": [
       "  0%|          | 0/75 [00:00<?, ?it/s]"
      ]
     },
     "metadata": {},
     "output_type": "display_data"
    },
    {
     "name": "stdout",
     "output_type": "stream",
     "text": [
      "Video 349.5.8 saved successfully.\n"
     ]
    },
    {
     "data": {
      "application/vnd.jupyter.widget-view+json": {
       "model_id": "e329ad151b16417a80deea1970d6a869",
       "version_major": 2,
       "version_minor": 0
      },
      "text/plain": [
       "  0%|          | 0/75 [00:00<?, ?it/s]"
      ]
     },
     "metadata": {},
     "output_type": "display_data"
    },
    {
     "name": "stdout",
     "output_type": "stream",
     "text": [
      "Video 369.5.8 saved successfully.\n"
     ]
    },
    {
     "data": {
      "application/vnd.jupyter.widget-view+json": {
       "model_id": "a085e78192104ac48048bd3dad4b26c9",
       "version_major": 2,
       "version_minor": 0
      },
      "text/plain": [
       "  0%|          | 0/71 [00:00<?, ?it/s]"
      ]
     },
     "metadata": {},
     "output_type": "display_data"
    },
    {
     "name": "stdout",
     "output_type": "stream",
     "text": [
      "Video 417.5.8 saved successfully.\n"
     ]
    },
    {
     "data": {
      "application/vnd.jupyter.widget-view+json": {
       "model_id": "9542363c2804465d8617e695db961e0b",
       "version_major": 2,
       "version_minor": 0
      },
      "text/plain": [
       "  0%|          | 0/75 [00:00<?, ?it/s]"
      ]
     },
     "metadata": {},
     "output_type": "display_data"
    },
    {
     "name": "stdout",
     "output_type": "stream",
     "text": [
      "Video 487.5.8 saved successfully.\n"
     ]
    },
    {
     "data": {
      "application/vnd.jupyter.widget-view+json": {
       "model_id": "7ae10291a4994a4c8953921dfe4bf8b1",
       "version_major": 2,
       "version_minor": 0
      },
      "text/plain": [
       "  0%|          | 0/75 [00:00<?, ?it/s]"
      ]
     },
     "metadata": {},
     "output_type": "display_data"
    },
    {
     "name": "stdout",
     "output_type": "stream",
     "text": [
      "Video 488.5.8 saved successfully.\n"
     ]
    },
    {
     "data": {
      "application/vnd.jupyter.widget-view+json": {
       "model_id": "ebdb699a84a544a89f12d25ab591c615",
       "version_major": 2,
       "version_minor": 0
      },
      "text/plain": [
       "  0%|          | 0/75 [00:00<?, ?it/s]"
      ]
     },
     "metadata": {},
     "output_type": "display_data"
    },
    {
     "name": "stdout",
     "output_type": "stream",
     "text": [
      "Video 512.5.8 saved successfully.\n"
     ]
    },
    {
     "data": {
      "application/vnd.jupyter.widget-view+json": {
       "model_id": "46b99151042b415d8b2d6a4b752cddc1",
       "version_major": 2,
       "version_minor": 0
      },
      "text/plain": [
       "  0%|          | 0/74 [00:00<?, ?it/s]"
      ]
     },
     "metadata": {},
     "output_type": "display_data"
    },
    {
     "name": "stdout",
     "output_type": "stream",
     "text": [
      "Video 515.5.8 saved successfully.\n"
     ]
    },
    {
     "data": {
      "application/vnd.jupyter.widget-view+json": {
       "model_id": "223b7617f0304c7d8d05a70791be0ae6",
       "version_major": 2,
       "version_minor": 0
      },
      "text/plain": [
       "  0%|          | 0/75 [00:00<?, ?it/s]"
      ]
     },
     "metadata": {},
     "output_type": "display_data"
    },
    {
     "name": "stdout",
     "output_type": "stream",
     "text": [
      "Video 533.5.8 saved successfully.\n"
     ]
    },
    {
     "data": {
      "application/vnd.jupyter.widget-view+json": {
       "model_id": "7baa6bd25c2c4cafa43eea40439e874c",
       "version_major": 2,
       "version_minor": 0
      },
      "text/plain": [
       "  0%|          | 0/75 [00:00<?, ?it/s]"
      ]
     },
     "metadata": {},
     "output_type": "display_data"
    },
    {
     "name": "stdout",
     "output_type": "stream",
     "text": [
      "Video 549.5.8 saved successfully.\n"
     ]
    },
    {
     "data": {
      "application/vnd.jupyter.widget-view+json": {
       "model_id": "2230d4fe039f410c96a2696a15390314",
       "version_major": 2,
       "version_minor": 0
      },
      "text/plain": [
       "  0%|          | 0/75 [00:00<?, ?it/s]"
      ]
     },
     "metadata": {},
     "output_type": "display_data"
    },
    {
     "name": "stdout",
     "output_type": "stream",
     "text": [
      "Video 579.5.8 saved successfully.\n"
     ]
    },
    {
     "data": {
      "application/vnd.jupyter.widget-view+json": {
       "model_id": "fdece2e72b6e428a9b81734c6c805a03",
       "version_major": 2,
       "version_minor": 0
      },
      "text/plain": [
       "  0%|          | 0/75 [00:00<?, ?it/s]"
      ]
     },
     "metadata": {},
     "output_type": "display_data"
    },
    {
     "name": "stdout",
     "output_type": "stream",
     "text": [
      "Video 583.5.8 saved successfully.\n"
     ]
    },
    {
     "data": {
      "application/vnd.jupyter.widget-view+json": {
       "model_id": "40b7b28ae8924f1897242ad1c62aa787",
       "version_major": 2,
       "version_minor": 0
      },
      "text/plain": [
       "  0%|          | 0/74 [00:00<?, ?it/s]"
      ]
     },
     "metadata": {},
     "output_type": "display_data"
    },
    {
     "name": "stdout",
     "output_type": "stream",
     "text": [
      "Video 655.5.8 saved successfully.\n"
     ]
    },
    {
     "data": {
      "application/vnd.jupyter.widget-view+json": {
       "model_id": "98fb435a1fcd417e916807a0cc9bde58",
       "version_major": 2,
       "version_minor": 0
      },
      "text/plain": [
       "  0%|          | 0/74 [00:00<?, ?it/s]"
      ]
     },
     "metadata": {},
     "output_type": "display_data"
    },
    {
     "name": "stdout",
     "output_type": "stream",
     "text": [
      "Video 73.5.8 saved successfully.\n"
     ]
    },
    {
     "data": {
      "application/vnd.jupyter.widget-view+json": {
       "model_id": "5c6cd0228e054116a92bf5223d8928e2",
       "version_major": 2,
       "version_minor": 0
      },
      "text/plain": [
       "  0%|          | 0/73 [00:00<?, ?it/s]"
      ]
     },
     "metadata": {},
     "output_type": "display_data"
    },
    {
     "name": "stdout",
     "output_type": "stream",
     "text": [
      "Video 774.5.8 saved successfully.\n"
     ]
    },
    {
     "data": {
      "application/vnd.jupyter.widget-view+json": {
       "model_id": "833b1be080324b08a14d1f35c809e53c",
       "version_major": 2,
       "version_minor": 0
      },
      "text/plain": [
       "  0%|          | 0/75 [00:00<?, ?it/s]"
      ]
     },
     "metadata": {},
     "output_type": "display_data"
    },
    {
     "name": "stdout",
     "output_type": "stream",
     "text": [
      "Video 80.5.8 saved successfully.\n"
     ]
    },
    {
     "data": {
      "application/vnd.jupyter.widget-view+json": {
       "model_id": "39fa126b2c364710becfd6911a3ca512",
       "version_major": 2,
       "version_minor": 0
      },
      "text/plain": [
       "  0%|          | 0/75 [00:00<?, ?it/s]"
      ]
     },
     "metadata": {},
     "output_type": "display_data"
    },
    {
     "name": "stdout",
     "output_type": "stream",
     "text": [
      "Video 85.5.8 saved successfully.\n"
     ]
    },
    {
     "data": {
      "application/vnd.jupyter.widget-view+json": {
       "model_id": "2f2381ba5d4f4a728d1a778d3e3f995a",
       "version_major": 2,
       "version_minor": 0
      },
      "text/plain": [
       "  0%|          | 0/74 [00:00<?, ?it/s]"
      ]
     },
     "metadata": {},
     "output_type": "display_data"
    },
    {
     "name": "stdout",
     "output_type": "stream",
     "text": [
      "Video 99.5.8 saved successfully.\n"
     ]
    },
    {
     "data": {
      "application/vnd.jupyter.widget-view+json": {
       "model_id": "5ddc04d51bd049fbaefd3db56ec2658e",
       "version_major": 2,
       "version_minor": 0
      },
      "text/plain": [
       "  0%|          | 0/75 [00:00<?, ?it/s]"
      ]
     },
     "metadata": {},
     "output_type": "display_data"
    },
    {
     "name": "stdout",
     "output_type": "stream",
     "text": [
      "Video 187.5.9 saved successfully.\n"
     ]
    },
    {
     "data": {
      "application/vnd.jupyter.widget-view+json": {
       "model_id": "f7f703f9dab14ac88915d5dd3f3145e4",
       "version_major": 2,
       "version_minor": 0
      },
      "text/plain": [
       "  0%|          | 0/75 [00:00<?, ?it/s]"
      ]
     },
     "metadata": {},
     "output_type": "display_data"
    },
    {
     "name": "stdout",
     "output_type": "stream",
     "text": [
      "Video 240.5.9 saved successfully.\n"
     ]
    },
    {
     "data": {
      "application/vnd.jupyter.widget-view+json": {
       "model_id": "ad7fd69e2b4f48e08654df0aca21bb23",
       "version_major": 2,
       "version_minor": 0
      },
      "text/plain": [
       "  0%|          | 0/75 [00:00<?, ?it/s]"
      ]
     },
     "metadata": {},
     "output_type": "display_data"
    },
    {
     "name": "stdout",
     "output_type": "stream",
     "text": [
      "Video 261.5.9 saved successfully.\n"
     ]
    },
    {
     "data": {
      "application/vnd.jupyter.widget-view+json": {
       "model_id": "211e94e41e4040f981b8dc85fe6a068f",
       "version_major": 2,
       "version_minor": 0
      },
      "text/plain": [
       "  0%|          | 0/75 [00:00<?, ?it/s]"
      ]
     },
     "metadata": {},
     "output_type": "display_data"
    },
    {
     "name": "stdout",
     "output_type": "stream",
     "text": [
      "Video 336.5.9 saved successfully.\n"
     ]
    },
    {
     "data": {
      "application/vnd.jupyter.widget-view+json": {
       "model_id": "1fce327acc3b418bb10da946b4cf694f",
       "version_major": 2,
       "version_minor": 0
      },
      "text/plain": [
       "  0%|          | 0/75 [00:00<?, ?it/s]"
      ]
     },
     "metadata": {},
     "output_type": "display_data"
    },
    {
     "name": "stdout",
     "output_type": "stream",
     "text": [
      "Video 37.5.9 saved successfully.\n"
     ]
    },
    {
     "data": {
      "application/vnd.jupyter.widget-view+json": {
       "model_id": "8187379f95244970be8c58c0485126f6",
       "version_major": 2,
       "version_minor": 0
      },
      "text/plain": [
       "  0%|          | 0/75 [00:00<?, ?it/s]"
      ]
     },
     "metadata": {},
     "output_type": "display_data"
    },
    {
     "name": "stdout",
     "output_type": "stream",
     "text": [
      "Video 538.5.9 saved successfully.\n"
     ]
    },
    {
     "data": {
      "application/vnd.jupyter.widget-view+json": {
       "model_id": "6bec28199c4944b985f60912e9a58185",
       "version_major": 2,
       "version_minor": 0
      },
      "text/plain": [
       "  0%|          | 0/75 [00:00<?, ?it/s]"
      ]
     },
     "metadata": {},
     "output_type": "display_data"
    },
    {
     "name": "stdout",
     "output_type": "stream",
     "text": [
      "Video 550.5.9 saved successfully.\n"
     ]
    },
    {
     "data": {
      "application/vnd.jupyter.widget-view+json": {
       "model_id": "3cf300f174ce4be988a3f9472bb3541a",
       "version_major": 2,
       "version_minor": 0
      },
      "text/plain": [
       "  0%|          | 0/75 [00:00<?, ?it/s]"
      ]
     },
     "metadata": {},
     "output_type": "display_data"
    },
    {
     "name": "stdout",
     "output_type": "stream",
     "text": [
      "Video 563.5.9 saved successfully.\n"
     ]
    },
    {
     "data": {
      "application/vnd.jupyter.widget-view+json": {
       "model_id": "25627b90260d4c34bca7794ea0beb06b",
       "version_major": 2,
       "version_minor": 0
      },
      "text/plain": [
       "  0%|          | 0/75 [00:00<?, ?it/s]"
      ]
     },
     "metadata": {},
     "output_type": "display_data"
    },
    {
     "name": "stdout",
     "output_type": "stream",
     "text": [
      "Video 105.6.4 saved successfully.\n"
     ]
    },
    {
     "data": {
      "application/vnd.jupyter.widget-view+json": {
       "model_id": "c48d0154ce954f2fb418290d1388c391",
       "version_major": 2,
       "version_minor": 0
      },
      "text/plain": [
       "  0%|          | 0/75 [00:00<?, ?it/s]"
      ]
     },
     "metadata": {},
     "output_type": "display_data"
    },
    {
     "name": "stdout",
     "output_type": "stream",
     "text": [
      "Video 106.6.4 saved successfully.\n"
     ]
    },
    {
     "data": {
      "application/vnd.jupyter.widget-view+json": {
       "model_id": "454506f22f1d4be3b56c61653eb11145",
       "version_major": 2,
       "version_minor": 0
      },
      "text/plain": [
       "  0%|          | 0/75 [00:00<?, ?it/s]"
      ]
     },
     "metadata": {},
     "output_type": "display_data"
    },
    {
     "name": "stdout",
     "output_type": "stream",
     "text": [
      "Video 146.6.4 saved successfully.\n"
     ]
    },
    {
     "data": {
      "application/vnd.jupyter.widget-view+json": {
       "model_id": "db36bd0c55b44e26b9cac03c6b6e4f45",
       "version_major": 2,
       "version_minor": 0
      },
      "text/plain": [
       "  0%|          | 0/75 [00:00<?, ?it/s]"
      ]
     },
     "metadata": {},
     "output_type": "display_data"
    },
    {
     "name": "stdout",
     "output_type": "stream",
     "text": [
      "Video 149.6.4 saved successfully.\n"
     ]
    },
    {
     "data": {
      "application/vnd.jupyter.widget-view+json": {
       "model_id": "e74003b942b14d31a0824525f583f14d",
       "version_major": 2,
       "version_minor": 0
      },
      "text/plain": [
       "  0%|          | 0/75 [00:00<?, ?it/s]"
      ]
     },
     "metadata": {},
     "output_type": "display_data"
    },
    {
     "name": "stdout",
     "output_type": "stream",
     "text": [
      "Video 156.6.4 saved successfully.\n"
     ]
    },
    {
     "data": {
      "application/vnd.jupyter.widget-view+json": {
       "model_id": "1784ce87687d4837b3ea980ddf5bf04f",
       "version_major": 2,
       "version_minor": 0
      },
      "text/plain": [
       "  0%|          | 0/75 [00:00<?, ?it/s]"
      ]
     },
     "metadata": {},
     "output_type": "display_data"
    },
    {
     "name": "stdout",
     "output_type": "stream",
     "text": [
      "Video 159.6.4 saved successfully.\n"
     ]
    },
    {
     "data": {
      "application/vnd.jupyter.widget-view+json": {
       "model_id": "04405bd1ae29496b94eeaa7741cb6926",
       "version_major": 2,
       "version_minor": 0
      },
      "text/plain": [
       "  0%|          | 0/72 [00:00<?, ?it/s]"
      ]
     },
     "metadata": {},
     "output_type": "display_data"
    },
    {
     "name": "stdout",
     "output_type": "stream",
     "text": [
      "Video 171.6.4 saved successfully.\n"
     ]
    },
    {
     "data": {
      "application/vnd.jupyter.widget-view+json": {
       "model_id": "cc7bb56d976545b6992b31b7fc11b21d",
       "version_major": 2,
       "version_minor": 0
      },
      "text/plain": [
       "  0%|          | 0/75 [00:00<?, ?it/s]"
      ]
     },
     "metadata": {},
     "output_type": "display_data"
    },
    {
     "name": "stdout",
     "output_type": "stream",
     "text": [
      "Video 256.6.4 saved successfully.\n"
     ]
    },
    {
     "data": {
      "application/vnd.jupyter.widget-view+json": {
       "model_id": "350147274a524d4a8e49ebdd4b21cc92",
       "version_major": 2,
       "version_minor": 0
      },
      "text/plain": [
       "  0%|          | 0/75 [00:00<?, ?it/s]"
      ]
     },
     "metadata": {},
     "output_type": "display_data"
    },
    {
     "name": "stdout",
     "output_type": "stream",
     "text": [
      "Video 292.6.4 saved successfully.\n"
     ]
    },
    {
     "data": {
      "application/vnd.jupyter.widget-view+json": {
       "model_id": "d8223275001e4c248c3a066b6929b5de",
       "version_major": 2,
       "version_minor": 0
      },
      "text/plain": [
       "  0%|          | 0/74 [00:00<?, ?it/s]"
      ]
     },
     "metadata": {},
     "output_type": "display_data"
    },
    {
     "name": "stdout",
     "output_type": "stream",
     "text": [
      "Video 295.6.4 saved successfully.\n"
     ]
    },
    {
     "data": {
      "application/vnd.jupyter.widget-view+json": {
       "model_id": "29110ce4f9ba436a939f48ccaf22277f",
       "version_major": 2,
       "version_minor": 0
      },
      "text/plain": [
       "  0%|          | 0/75 [00:00<?, ?it/s]"
      ]
     },
     "metadata": {},
     "output_type": "display_data"
    },
    {
     "name": "stdout",
     "output_type": "stream",
     "text": [
      "Video 329.6.4 saved successfully.\n"
     ]
    },
    {
     "data": {
      "application/vnd.jupyter.widget-view+json": {
       "model_id": "c0fcd7e3de54425195b62af3c16694cf",
       "version_major": 2,
       "version_minor": 0
      },
      "text/plain": [
       "  0%|          | 0/74 [00:00<?, ?it/s]"
      ]
     },
     "metadata": {},
     "output_type": "display_data"
    },
    {
     "name": "stdout",
     "output_type": "stream",
     "text": [
      "Video 337.6.4 saved successfully.\n"
     ]
    },
    {
     "data": {
      "application/vnd.jupyter.widget-view+json": {
       "model_id": "0501871e880a40269c07e01712dfcbcf",
       "version_major": 2,
       "version_minor": 0
      },
      "text/plain": [
       "  0%|          | 0/75 [00:00<?, ?it/s]"
      ]
     },
     "metadata": {},
     "output_type": "display_data"
    },
    {
     "name": "stdout",
     "output_type": "stream",
     "text": [
      "Video 339.6.4 saved successfully.\n"
     ]
    },
    {
     "data": {
      "application/vnd.jupyter.widget-view+json": {
       "model_id": "2fc1b8d35db84fdebf0be52898c5bdec",
       "version_major": 2,
       "version_minor": 0
      },
      "text/plain": [
       "  0%|          | 0/75 [00:00<?, ?it/s]"
      ]
     },
     "metadata": {},
     "output_type": "display_data"
    },
    {
     "name": "stdout",
     "output_type": "stream",
     "text": [
      "Video 340.6.4 saved successfully.\n"
     ]
    },
    {
     "data": {
      "application/vnd.jupyter.widget-view+json": {
       "model_id": "33f9e98db4f84f2fa03f2e6efba6002c",
       "version_major": 2,
       "version_minor": 0
      },
      "text/plain": [
       "  0%|          | 0/75 [00:00<?, ?it/s]"
      ]
     },
     "metadata": {},
     "output_type": "display_data"
    },
    {
     "name": "stdout",
     "output_type": "stream",
     "text": [
      "Video 345.6.4 saved successfully.\n"
     ]
    },
    {
     "data": {
      "application/vnd.jupyter.widget-view+json": {
       "model_id": "112aff0c908d40eda585f23e3ccb523a",
       "version_major": 2,
       "version_minor": 0
      },
      "text/plain": [
       "  0%|          | 0/75 [00:00<?, ?it/s]"
      ]
     },
     "metadata": {},
     "output_type": "display_data"
    },
    {
     "name": "stdout",
     "output_type": "stream",
     "text": [
      "Video 401.6.4 saved successfully.\n"
     ]
    },
    {
     "data": {
      "application/vnd.jupyter.widget-view+json": {
       "model_id": "592bf6b3a1344265921cd32261629332",
       "version_major": 2,
       "version_minor": 0
      },
      "text/plain": [
       "  0%|          | 0/75 [00:00<?, ?it/s]"
      ]
     },
     "metadata": {},
     "output_type": "display_data"
    },
    {
     "name": "stdout",
     "output_type": "stream",
     "text": [
      "Video 430.6.4 saved successfully.\n"
     ]
    },
    {
     "data": {
      "application/vnd.jupyter.widget-view+json": {
       "model_id": "5a1f765213044313b3c21124d79ea41f",
       "version_major": 2,
       "version_minor": 0
      },
      "text/plain": [
       "  0%|          | 0/75 [00:00<?, ?it/s]"
      ]
     },
     "metadata": {},
     "output_type": "display_data"
    },
    {
     "name": "stdout",
     "output_type": "stream",
     "text": [
      "Video 440.6.4 saved successfully.\n"
     ]
    },
    {
     "data": {
      "application/vnd.jupyter.widget-view+json": {
       "model_id": "e638caaf0d28434c9adfe936370bd485",
       "version_major": 2,
       "version_minor": 0
      },
      "text/plain": [
       "  0%|          | 0/75 [00:00<?, ?it/s]"
      ]
     },
     "metadata": {},
     "output_type": "display_data"
    },
    {
     "name": "stdout",
     "output_type": "stream",
     "text": [
      "Video 444.6.4 saved successfully.\n"
     ]
    },
    {
     "data": {
      "application/vnd.jupyter.widget-view+json": {
       "model_id": "9851b20325764c6fa442869371230bf5",
       "version_major": 2,
       "version_minor": 0
      },
      "text/plain": [
       "  0%|          | 0/75 [00:00<?, ?it/s]"
      ]
     },
     "metadata": {},
     "output_type": "display_data"
    },
    {
     "name": "stdout",
     "output_type": "stream",
     "text": [
      "Video 462.6.4 saved successfully.\n"
     ]
    },
    {
     "data": {
      "application/vnd.jupyter.widget-view+json": {
       "model_id": "3a016bf772b0466ebbdb3154cb174e8f",
       "version_major": 2,
       "version_minor": 0
      },
      "text/plain": [
       "  0%|          | 0/75 [00:00<?, ?it/s]"
      ]
     },
     "metadata": {},
     "output_type": "display_data"
    },
    {
     "name": "stdout",
     "output_type": "stream",
     "text": [
      "Video 465.6.4 saved successfully.\n"
     ]
    },
    {
     "data": {
      "application/vnd.jupyter.widget-view+json": {
       "model_id": "1a41c6394d1e48aa90d0955adce67ec1",
       "version_major": 2,
       "version_minor": 0
      },
      "text/plain": [
       "  0%|          | 0/75 [00:00<?, ?it/s]"
      ]
     },
     "metadata": {},
     "output_type": "display_data"
    },
    {
     "name": "stdout",
     "output_type": "stream",
     "text": [
      "Video 471.6.4 saved successfully.\n"
     ]
    },
    {
     "data": {
      "application/vnd.jupyter.widget-view+json": {
       "model_id": "8be0fcf57af14a26a0561ff9adc1beeb",
       "version_major": 2,
       "version_minor": 0
      },
      "text/plain": [
       "  0%|          | 0/73 [00:00<?, ?it/s]"
      ]
     },
     "metadata": {},
     "output_type": "display_data"
    },
    {
     "name": "stdout",
     "output_type": "stream",
     "text": [
      "Video 48.6.4 saved successfully.\n"
     ]
    },
    {
     "data": {
      "application/vnd.jupyter.widget-view+json": {
       "model_id": "75c5ec45b7aa44d29aa2a02967a28da4",
       "version_major": 2,
       "version_minor": 0
      },
      "text/plain": [
       "  0%|          | 0/75 [00:00<?, ?it/s]"
      ]
     },
     "metadata": {},
     "output_type": "display_data"
    },
    {
     "name": "stdout",
     "output_type": "stream",
     "text": [
      "Video 53.6.4 saved successfully.\n"
     ]
    },
    {
     "data": {
      "application/vnd.jupyter.widget-view+json": {
       "model_id": "29ba3211aa7c48dc8293e5a46534eb78",
       "version_major": 2,
       "version_minor": 0
      },
      "text/plain": [
       "  0%|          | 0/75 [00:00<?, ?it/s]"
      ]
     },
     "metadata": {},
     "output_type": "display_data"
    },
    {
     "name": "stdout",
     "output_type": "stream",
     "text": [
      "Video 540.6.4 saved successfully.\n"
     ]
    },
    {
     "data": {
      "application/vnd.jupyter.widget-view+json": {
       "model_id": "20972650116a45cb8df9fd1338d61a99",
       "version_major": 2,
       "version_minor": 0
      },
      "text/plain": [
       "  0%|          | 0/75 [00:00<?, ?it/s]"
      ]
     },
     "metadata": {},
     "output_type": "display_data"
    },
    {
     "name": "stdout",
     "output_type": "stream",
     "text": [
      "Video 591.6.4 saved successfully.\n"
     ]
    },
    {
     "data": {
      "application/vnd.jupyter.widget-view+json": {
       "model_id": "1c97147b018440d2ba3b2f26e7469f06",
       "version_major": 2,
       "version_minor": 0
      },
      "text/plain": [
       "  0%|          | 0/75 [00:00<?, ?it/s]"
      ]
     },
     "metadata": {},
     "output_type": "display_data"
    },
    {
     "name": "stdout",
     "output_type": "stream",
     "text": [
      "Video 612.6.4 saved successfully.\n"
     ]
    },
    {
     "data": {
      "application/vnd.jupyter.widget-view+json": {
       "model_id": "f8589fb1c4624f5eb8bad9809e536f86",
       "version_major": 2,
       "version_minor": 0
      },
      "text/plain": [
       "  0%|          | 0/74 [00:00<?, ?it/s]"
      ]
     },
     "metadata": {},
     "output_type": "display_data"
    },
    {
     "name": "stdout",
     "output_type": "stream",
     "text": [
      "Video 618.6.4 saved successfully.\n"
     ]
    },
    {
     "data": {
      "application/vnd.jupyter.widget-view+json": {
       "model_id": "03cf912fe5914f8d97f2c5060ddfbb8e",
       "version_major": 2,
       "version_minor": 0
      },
      "text/plain": [
       "  0%|          | 0/75 [00:00<?, ?it/s]"
      ]
     },
     "metadata": {},
     "output_type": "display_data"
    },
    {
     "name": "stdout",
     "output_type": "stream",
     "text": [
      "Video 619.6.4 saved successfully.\n"
     ]
    },
    {
     "data": {
      "application/vnd.jupyter.widget-view+json": {
       "model_id": "e20304e0d31c4a15987c1c4b641f56a4",
       "version_major": 2,
       "version_minor": 0
      },
      "text/plain": [
       "  0%|          | 0/73 [00:00<?, ?it/s]"
      ]
     },
     "metadata": {},
     "output_type": "display_data"
    },
    {
     "name": "stdout",
     "output_type": "stream",
     "text": [
      "Video 633.6.4 saved successfully.\n"
     ]
    },
    {
     "data": {
      "application/vnd.jupyter.widget-view+json": {
       "model_id": "fee18e041f4641dfab30b9036ce0b372",
       "version_major": 2,
       "version_minor": 0
      },
      "text/plain": [
       "  0%|          | 0/72 [00:00<?, ?it/s]"
      ]
     },
     "metadata": {},
     "output_type": "display_data"
    },
    {
     "name": "stdout",
     "output_type": "stream",
     "text": [
      "Video 88.6.4 saved successfully.\n"
     ]
    },
    {
     "data": {
      "application/vnd.jupyter.widget-view+json": {
       "model_id": "8fa594910ab840929b0632c58d13fd02",
       "version_major": 2,
       "version_minor": 0
      },
      "text/plain": [
       "  0%|          | 0/75 [00:00<?, ?it/s]"
      ]
     },
     "metadata": {},
     "output_type": "display_data"
    },
    {
     "name": "stdout",
     "output_type": "stream",
     "text": [
      "Video 103.6.5 saved successfully.\n"
     ]
    },
    {
     "data": {
      "application/vnd.jupyter.widget-view+json": {
       "model_id": "c0f116be5c474a1e971a7040ef292639",
       "version_major": 2,
       "version_minor": 0
      },
      "text/plain": [
       "  0%|          | 0/75 [00:00<?, ?it/s]"
      ]
     },
     "metadata": {},
     "output_type": "display_data"
    },
    {
     "name": "stdout",
     "output_type": "stream",
     "text": [
      "Video 105.6.5 saved successfully.\n"
     ]
    },
    {
     "data": {
      "application/vnd.jupyter.widget-view+json": {
       "model_id": "13fcada4af10488fb6e972c8826679f7",
       "version_major": 2,
       "version_minor": 0
      },
      "text/plain": [
       "  0%|          | 0/75 [00:00<?, ?it/s]"
      ]
     },
     "metadata": {},
     "output_type": "display_data"
    },
    {
     "name": "stdout",
     "output_type": "stream",
     "text": [
      "Video 130.6.5 saved successfully.\n"
     ]
    },
    {
     "data": {
      "application/vnd.jupyter.widget-view+json": {
       "model_id": "7fc16f8b0b7d487fb98fe708c7db89ae",
       "version_major": 2,
       "version_minor": 0
      },
      "text/plain": [
       "  0%|          | 0/75 [00:00<?, ?it/s]"
      ]
     },
     "metadata": {},
     "output_type": "display_data"
    },
    {
     "name": "stdout",
     "output_type": "stream",
     "text": [
      "Video 146.6.5 saved successfully.\n"
     ]
    },
    {
     "data": {
      "application/vnd.jupyter.widget-view+json": {
       "model_id": "69867b27429e44028d539ffad14fbbe5",
       "version_major": 2,
       "version_minor": 0
      },
      "text/plain": [
       "  0%|          | 0/73 [00:00<?, ?it/s]"
      ]
     },
     "metadata": {},
     "output_type": "display_data"
    },
    {
     "name": "stdout",
     "output_type": "stream",
     "text": [
      "Video 177.6.5 saved successfully.\n"
     ]
    },
    {
     "data": {
      "application/vnd.jupyter.widget-view+json": {
       "model_id": "dc382f00232e40ef84775258c7887d32",
       "version_major": 2,
       "version_minor": 0
      },
      "text/plain": [
       "  0%|          | 0/75 [00:00<?, ?it/s]"
      ]
     },
     "metadata": {},
     "output_type": "display_data"
    },
    {
     "name": "stdout",
     "output_type": "stream",
     "text": [
      "Video 247.6.5 saved successfully.\n"
     ]
    },
    {
     "data": {
      "application/vnd.jupyter.widget-view+json": {
       "model_id": "bda1ce5912f949339a7a81fa52c0e64a",
       "version_major": 2,
       "version_minor": 0
      },
      "text/plain": [
       "  0%|          | 0/75 [00:00<?, ?it/s]"
      ]
     },
     "metadata": {},
     "output_type": "display_data"
    },
    {
     "name": "stdout",
     "output_type": "stream",
     "text": [
      "Video 262.6.5 saved successfully.\n"
     ]
    },
    {
     "data": {
      "application/vnd.jupyter.widget-view+json": {
       "model_id": "18d31beaded2445cbb54b648cfcf2877",
       "version_major": 2,
       "version_minor": 0
      },
      "text/plain": [
       "  0%|          | 0/75 [00:00<?, ?it/s]"
      ]
     },
     "metadata": {},
     "output_type": "display_data"
    },
    {
     "name": "stdout",
     "output_type": "stream",
     "text": [
      "Video 283.6.5 saved successfully.\n"
     ]
    },
    {
     "data": {
      "application/vnd.jupyter.widget-view+json": {
       "model_id": "a891a0e33ffd40fbaea9d76e27d5ad28",
       "version_major": 2,
       "version_minor": 0
      },
      "text/plain": [
       "  0%|          | 0/75 [00:00<?, ?it/s]"
      ]
     },
     "metadata": {},
     "output_type": "display_data"
    },
    {
     "name": "stdout",
     "output_type": "stream",
     "text": [
      "Video 284.6.5 saved successfully.\n"
     ]
    },
    {
     "data": {
      "application/vnd.jupyter.widget-view+json": {
       "model_id": "8d0140b42db4453fa0d6aef919173b82",
       "version_major": 2,
       "version_minor": 0
      },
      "text/plain": [
       "  0%|          | 0/75 [00:00<?, ?it/s]"
      ]
     },
     "metadata": {},
     "output_type": "display_data"
    },
    {
     "name": "stdout",
     "output_type": "stream",
     "text": [
      "Video 322.6.5 saved successfully.\n"
     ]
    },
    {
     "data": {
      "application/vnd.jupyter.widget-view+json": {
       "model_id": "38508676992e49578afe95a5212cbc0e",
       "version_major": 2,
       "version_minor": 0
      },
      "text/plain": [
       "  0%|          | 0/75 [00:00<?, ?it/s]"
      ]
     },
     "metadata": {},
     "output_type": "display_data"
    },
    {
     "name": "stdout",
     "output_type": "stream",
     "text": [
      "Video 327.6.5 saved successfully.\n"
     ]
    },
    {
     "data": {
      "application/vnd.jupyter.widget-view+json": {
       "model_id": "e83341fda6b84082a11c11a547b5edf2",
       "version_major": 2,
       "version_minor": 0
      },
      "text/plain": [
       "  0%|          | 0/75 [00:00<?, ?it/s]"
      ]
     },
     "metadata": {},
     "output_type": "display_data"
    },
    {
     "name": "stdout",
     "output_type": "stream",
     "text": [
      "Video 388.6.5 saved successfully.\n"
     ]
    },
    {
     "data": {
      "application/vnd.jupyter.widget-view+json": {
       "model_id": "dc819b0db4cd4018b608ae86fe1ff2f1",
       "version_major": 2,
       "version_minor": 0
      },
      "text/plain": [
       "  0%|          | 0/75 [00:00<?, ?it/s]"
      ]
     },
     "metadata": {},
     "output_type": "display_data"
    },
    {
     "name": "stdout",
     "output_type": "stream",
     "text": [
      "Video 389.6.5 saved successfully.\n"
     ]
    },
    {
     "data": {
      "application/vnd.jupyter.widget-view+json": {
       "model_id": "8632cf0f9f9341029e181921e60ace4b",
       "version_major": 2,
       "version_minor": 0
      },
      "text/plain": [
       "  0%|          | 0/74 [00:00<?, ?it/s]"
      ]
     },
     "metadata": {},
     "output_type": "display_data"
    },
    {
     "name": "stdout",
     "output_type": "stream",
     "text": [
      "Video 391.6.5 saved successfully.\n"
     ]
    },
    {
     "data": {
      "application/vnd.jupyter.widget-view+json": {
       "model_id": "a8ded2ba30de44a8a7f92d31fc032c38",
       "version_major": 2,
       "version_minor": 0
      },
      "text/plain": [
       "  0%|          | 0/75 [00:00<?, ?it/s]"
      ]
     },
     "metadata": {},
     "output_type": "display_data"
    },
    {
     "name": "stdout",
     "output_type": "stream",
     "text": [
      "Video 40.6.5 saved successfully.\n"
     ]
    },
    {
     "data": {
      "application/vnd.jupyter.widget-view+json": {
       "model_id": "eccd13178dcc42c6b98ff8870ba2987c",
       "version_major": 2,
       "version_minor": 0
      },
      "text/plain": [
       "  0%|          | 0/75 [00:00<?, ?it/s]"
      ]
     },
     "metadata": {},
     "output_type": "display_data"
    },
    {
     "name": "stdout",
     "output_type": "stream",
     "text": [
      "Video 417.6.5 saved successfully.\n"
     ]
    },
    {
     "data": {
      "application/vnd.jupyter.widget-view+json": {
       "model_id": "0025841481ae4ddf89f4cd190e6d48e3",
       "version_major": 2,
       "version_minor": 0
      },
      "text/plain": [
       "  0%|          | 0/75 [00:00<?, ?it/s]"
      ]
     },
     "metadata": {},
     "output_type": "display_data"
    },
    {
     "name": "stdout",
     "output_type": "stream",
     "text": [
      "Video 439.6.5 saved successfully.\n"
     ]
    },
    {
     "data": {
      "application/vnd.jupyter.widget-view+json": {
       "model_id": "663d5bc8dbe346fc85d58ab72338943e",
       "version_major": 2,
       "version_minor": 0
      },
      "text/plain": [
       "  0%|          | 0/75 [00:00<?, ?it/s]"
      ]
     },
     "metadata": {},
     "output_type": "display_data"
    },
    {
     "name": "stdout",
     "output_type": "stream",
     "text": [
      "Video 447.6.5 saved successfully.\n"
     ]
    },
    {
     "data": {
      "application/vnd.jupyter.widget-view+json": {
       "model_id": "2552c970f61f47ab970bf67f3cc96ec5",
       "version_major": 2,
       "version_minor": 0
      },
      "text/plain": [
       "  0%|          | 0/75 [00:00<?, ?it/s]"
      ]
     },
     "metadata": {},
     "output_type": "display_data"
    },
    {
     "name": "stdout",
     "output_type": "stream",
     "text": [
      "Video 465.6.5 saved successfully.\n"
     ]
    },
    {
     "data": {
      "application/vnd.jupyter.widget-view+json": {
       "model_id": "7dc3b424ba52483399f462228dfcffad",
       "version_major": 2,
       "version_minor": 0
      },
      "text/plain": [
       "  0%|          | 0/75 [00:00<?, ?it/s]"
      ]
     },
     "metadata": {},
     "output_type": "display_data"
    },
    {
     "name": "stdout",
     "output_type": "stream",
     "text": [
      "Video 488.6.5 saved successfully.\n"
     ]
    },
    {
     "data": {
      "application/vnd.jupyter.widget-view+json": {
       "model_id": "06d5c4092e3f4422996f89441047427d",
       "version_major": 2,
       "version_minor": 0
      },
      "text/plain": [
       "  0%|          | 0/75 [00:00<?, ?it/s]"
      ]
     },
     "metadata": {},
     "output_type": "display_data"
    },
    {
     "name": "stdout",
     "output_type": "stream",
     "text": [
      "Video 555.6.5 saved successfully.\n"
     ]
    },
    {
     "data": {
      "application/vnd.jupyter.widget-view+json": {
       "model_id": "09981cb1133347718e27bd6122474941",
       "version_major": 2,
       "version_minor": 0
      },
      "text/plain": [
       "  0%|          | 0/75 [00:00<?, ?it/s]"
      ]
     },
     "metadata": {},
     "output_type": "display_data"
    },
    {
     "name": "stdout",
     "output_type": "stream",
     "text": [
      "Video 575.6.5 saved successfully.\n"
     ]
    },
    {
     "data": {
      "application/vnd.jupyter.widget-view+json": {
       "model_id": "c55694b932624b13a6d554eb0e6576cc",
       "version_major": 2,
       "version_minor": 0
      },
      "text/plain": [
       "  0%|          | 0/75 [00:00<?, ?it/s]"
      ]
     },
     "metadata": {},
     "output_type": "display_data"
    },
    {
     "name": "stdout",
     "output_type": "stream",
     "text": [
      "Video 625.6.5 saved successfully.\n"
     ]
    },
    {
     "data": {
      "application/vnd.jupyter.widget-view+json": {
       "model_id": "fe589993d279497bb6211ac459bc084b",
       "version_major": 2,
       "version_minor": 0
      },
      "text/plain": [
       "  0%|          | 0/75 [00:00<?, ?it/s]"
      ]
     },
     "metadata": {},
     "output_type": "display_data"
    },
    {
     "name": "stdout",
     "output_type": "stream",
     "text": [
      "Video 651.6.5 saved successfully.\n"
     ]
    },
    {
     "data": {
      "application/vnd.jupyter.widget-view+json": {
       "model_id": "18d3e1308a7a42ae931a9416b334ed79",
       "version_major": 2,
       "version_minor": 0
      },
      "text/plain": [
       "  0%|          | 0/75 [00:00<?, ?it/s]"
      ]
     },
     "metadata": {},
     "output_type": "display_data"
    },
    {
     "name": "stdout",
     "output_type": "stream",
     "text": [
      "Video 685.6.5 saved successfully.\n"
     ]
    },
    {
     "data": {
      "application/vnd.jupyter.widget-view+json": {
       "model_id": "3c5f5814b45d470888427a2f4fb7d99c",
       "version_major": 2,
       "version_minor": 0
      },
      "text/plain": [
       "  0%|          | 0/75 [00:00<?, ?it/s]"
      ]
     },
     "metadata": {},
     "output_type": "display_data"
    },
    {
     "name": "stdout",
     "output_type": "stream",
     "text": [
      "Video 69.6.5 saved successfully.\n"
     ]
    },
    {
     "data": {
      "application/vnd.jupyter.widget-view+json": {
       "model_id": "1d284f2f5a76489fbe35b0f8adf336f1",
       "version_major": 2,
       "version_minor": 0
      },
      "text/plain": [
       "  0%|          | 0/74 [00:00<?, ?it/s]"
      ]
     },
     "metadata": {},
     "output_type": "display_data"
    },
    {
     "name": "stdout",
     "output_type": "stream",
     "text": [
      "Video 810.6.5 saved successfully.\n"
     ]
    },
    {
     "data": {
      "application/vnd.jupyter.widget-view+json": {
       "model_id": "9d5e5f0c1000419581e06357c81be3cc",
       "version_major": 2,
       "version_minor": 0
      },
      "text/plain": [
       "  0%|          | 0/72 [00:00<?, ?it/s]"
      ]
     },
     "metadata": {},
     "output_type": "display_data"
    },
    {
     "name": "stdout",
     "output_type": "stream",
     "text": [
      "Video 812.6.5 saved successfully.\n"
     ]
    },
    {
     "data": {
      "application/vnd.jupyter.widget-view+json": {
       "model_id": "97dd60441f59454d8e04f67cf148a4cb",
       "version_major": 2,
       "version_minor": 0
      },
      "text/plain": [
       "  0%|          | 0/75 [00:00<?, ?it/s]"
      ]
     },
     "metadata": {},
     "output_type": "display_data"
    },
    {
     "name": "stdout",
     "output_type": "stream",
     "text": [
      "Video 138.6.6 saved successfully.\n"
     ]
    },
    {
     "data": {
      "application/vnd.jupyter.widget-view+json": {
       "model_id": "a06dbc7aa2944e7daf315310fbae93c5",
       "version_major": 2,
       "version_minor": 0
      },
      "text/plain": [
       "  0%|          | 0/75 [00:00<?, ?it/s]"
      ]
     },
     "metadata": {},
     "output_type": "display_data"
    },
    {
     "name": "stdout",
     "output_type": "stream",
     "text": [
      "Video 147.6.6 saved successfully.\n"
     ]
    },
    {
     "data": {
      "application/vnd.jupyter.widget-view+json": {
       "model_id": "16417f7bbc214b53affe05faeec4c587",
       "version_major": 2,
       "version_minor": 0
      },
      "text/plain": [
       "  0%|          | 0/74 [00:00<?, ?it/s]"
      ]
     },
     "metadata": {},
     "output_type": "display_data"
    },
    {
     "name": "stdout",
     "output_type": "stream",
     "text": [
      "Video 248.6.6 saved successfully.\n"
     ]
    },
    {
     "data": {
      "application/vnd.jupyter.widget-view+json": {
       "model_id": "b0e2340a825c436b81b011fb7d5e3aab",
       "version_major": 2,
       "version_minor": 0
      },
      "text/plain": [
       "  0%|          | 0/75 [00:00<?, ?it/s]"
      ]
     },
     "metadata": {},
     "output_type": "display_data"
    },
    {
     "name": "stdout",
     "output_type": "stream",
     "text": [
      "Video 251.6.6 saved successfully.\n"
     ]
    },
    {
     "data": {
      "application/vnd.jupyter.widget-view+json": {
       "model_id": "01ddbc59923241a2b73f8cd48f195aae",
       "version_major": 2,
       "version_minor": 0
      },
      "text/plain": [
       "  0%|          | 0/75 [00:00<?, ?it/s]"
      ]
     },
     "metadata": {},
     "output_type": "display_data"
    },
    {
     "name": "stdout",
     "output_type": "stream",
     "text": [
      "Video 28.6.6 saved successfully.\n"
     ]
    },
    {
     "data": {
      "application/vnd.jupyter.widget-view+json": {
       "model_id": "99e78508dd5c401483e7c6fd54dd8a35",
       "version_major": 2,
       "version_minor": 0
      },
      "text/plain": [
       "  0%|          | 0/75 [00:00<?, ?it/s]"
      ]
     },
     "metadata": {},
     "output_type": "display_data"
    },
    {
     "name": "stdout",
     "output_type": "stream",
     "text": [
      "Video 283.6.6 saved successfully.\n"
     ]
    },
    {
     "data": {
      "application/vnd.jupyter.widget-view+json": {
       "model_id": "c321c341c6574df283fb828c9682620b",
       "version_major": 2,
       "version_minor": 0
      },
      "text/plain": [
       "  0%|          | 0/75 [00:00<?, ?it/s]"
      ]
     },
     "metadata": {},
     "output_type": "display_data"
    },
    {
     "name": "stdout",
     "output_type": "stream",
     "text": [
      "Video 284.6.6 saved successfully.\n"
     ]
    },
    {
     "data": {
      "application/vnd.jupyter.widget-view+json": {
       "model_id": "1f32710e6fe946f7905f18bf7cefc515",
       "version_major": 2,
       "version_minor": 0
      },
      "text/plain": [
       "  0%|          | 0/74 [00:00<?, ?it/s]"
      ]
     },
     "metadata": {},
     "output_type": "display_data"
    },
    {
     "name": "stdout",
     "output_type": "stream",
     "text": [
      "Video 405.6.6 saved successfully.\n"
     ]
    },
    {
     "data": {
      "application/vnd.jupyter.widget-view+json": {
       "model_id": "8d0517a477ba46bfab17929ec6ab27db",
       "version_major": 2,
       "version_minor": 0
      },
      "text/plain": [
       "  0%|          | 0/75 [00:00<?, ?it/s]"
      ]
     },
     "metadata": {},
     "output_type": "display_data"
    },
    {
     "name": "stdout",
     "output_type": "stream",
     "text": [
      "Video 407.6.6 saved successfully.\n"
     ]
    },
    {
     "data": {
      "application/vnd.jupyter.widget-view+json": {
       "model_id": "24e816fb67af4cbf914bca14a0857c39",
       "version_major": 2,
       "version_minor": 0
      },
      "text/plain": [
       "  0%|          | 0/75 [00:00<?, ?it/s]"
      ]
     },
     "metadata": {},
     "output_type": "display_data"
    },
    {
     "name": "stdout",
     "output_type": "stream",
     "text": [
      "Video 572.6.6 saved successfully.\n"
     ]
    },
    {
     "data": {
      "application/vnd.jupyter.widget-view+json": {
       "model_id": "ad99767fe1694636b95257a1ebe39715",
       "version_major": 2,
       "version_minor": 0
      },
      "text/plain": [
       "  0%|          | 0/75 [00:00<?, ?it/s]"
      ]
     },
     "metadata": {},
     "output_type": "display_data"
    },
    {
     "name": "stdout",
     "output_type": "stream",
     "text": [
      "Video 650.6.6 saved successfully.\n"
     ]
    },
    {
     "data": {
      "application/vnd.jupyter.widget-view+json": {
       "model_id": "b3ab77787cca483a8c13b1a897f4863c",
       "version_major": 2,
       "version_minor": 0
      },
      "text/plain": [
       "  0%|          | 0/75 [00:00<?, ?it/s]"
      ]
     },
     "metadata": {},
     "output_type": "display_data"
    },
    {
     "name": "stdout",
     "output_type": "stream",
     "text": [
      "Video 657.6.6 saved successfully.\n"
     ]
    },
    {
     "data": {
      "application/vnd.jupyter.widget-view+json": {
       "model_id": "abf7860d8e5c42bf9c11867199043e9f",
       "version_major": 2,
       "version_minor": 0
      },
      "text/plain": [
       "  0%|          | 0/75 [00:00<?, ?it/s]"
      ]
     },
     "metadata": {},
     "output_type": "display_data"
    },
    {
     "name": "stdout",
     "output_type": "stream",
     "text": [
      "Video 660.6.6 saved successfully.\n"
     ]
    },
    {
     "data": {
      "application/vnd.jupyter.widget-view+json": {
       "model_id": "f75234105b6d4e4883fa4ab58c744d7b",
       "version_major": 2,
       "version_minor": 0
      },
      "text/plain": [
       "  0%|          | 0/71 [00:00<?, ?it/s]"
      ]
     },
     "metadata": {},
     "output_type": "display_data"
    },
    {
     "name": "stdout",
     "output_type": "stream",
     "text": [
      "Video 104.6.7 saved successfully.\n"
     ]
    },
    {
     "data": {
      "application/vnd.jupyter.widget-view+json": {
       "model_id": "34816d3ccd5e4908875f3c0c730bde75",
       "version_major": 2,
       "version_minor": 0
      },
      "text/plain": [
       "  0%|          | 0/74 [00:00<?, ?it/s]"
      ]
     },
     "metadata": {},
     "output_type": "display_data"
    },
    {
     "name": "stdout",
     "output_type": "stream",
     "text": [
      "Video 161.6.7 saved successfully.\n"
     ]
    },
    {
     "data": {
      "application/vnd.jupyter.widget-view+json": {
       "model_id": "5fdbb054770741f49d069a6ef2e57e54",
       "version_major": 2,
       "version_minor": 0
      },
      "text/plain": [
       "  0%|          | 0/75 [00:00<?, ?it/s]"
      ]
     },
     "metadata": {},
     "output_type": "display_data"
    },
    {
     "name": "stdout",
     "output_type": "stream",
     "text": [
      "Video 220.6.7 saved successfully.\n"
     ]
    },
    {
     "data": {
      "application/vnd.jupyter.widget-view+json": {
       "model_id": "b2d2a65b8ed445fa8a814fce34420f4e",
       "version_major": 2,
       "version_minor": 0
      },
      "text/plain": [
       "  0%|          | 0/75 [00:00<?, ?it/s]"
      ]
     },
     "metadata": {},
     "output_type": "display_data"
    },
    {
     "name": "stdout",
     "output_type": "stream",
     "text": [
      "Video 24.6.7 saved successfully.\n"
     ]
    },
    {
     "data": {
      "application/vnd.jupyter.widget-view+json": {
       "model_id": "747bf7dc1d55492d91a33e9fd2680ad1",
       "version_major": 2,
       "version_minor": 0
      },
      "text/plain": [
       "  0%|          | 0/75 [00:00<?, ?it/s]"
      ]
     },
     "metadata": {},
     "output_type": "display_data"
    },
    {
     "name": "stdout",
     "output_type": "stream",
     "text": [
      "Video 270.6.7 saved successfully.\n"
     ]
    },
    {
     "data": {
      "application/vnd.jupyter.widget-view+json": {
       "model_id": "0f92abf130da4f12bcc6367b8c5026b9",
       "version_major": 2,
       "version_minor": 0
      },
      "text/plain": [
       "  0%|          | 0/75 [00:00<?, ?it/s]"
      ]
     },
     "metadata": {},
     "output_type": "display_data"
    },
    {
     "name": "stdout",
     "output_type": "stream",
     "text": [
      "Video 500.6.7 saved successfully.\n"
     ]
    },
    {
     "data": {
      "application/vnd.jupyter.widget-view+json": {
       "model_id": "f39ca0249b6a4463b8487616294ef990",
       "version_major": 2,
       "version_minor": 0
      },
      "text/plain": [
       "  0%|          | 0/75 [00:00<?, ?it/s]"
      ]
     },
     "metadata": {},
     "output_type": "display_data"
    },
    {
     "name": "stdout",
     "output_type": "stream",
     "text": [
      "Video 518.6.7 saved successfully.\n"
     ]
    },
    {
     "data": {
      "application/vnd.jupyter.widget-view+json": {
       "model_id": "8ec22b22ba0641c285326300ee1ef924",
       "version_major": 2,
       "version_minor": 0
      },
      "text/plain": [
       "  0%|          | 0/74 [00:00<?, ?it/s]"
      ]
     },
     "metadata": {},
     "output_type": "display_data"
    },
    {
     "name": "stdout",
     "output_type": "stream",
     "text": [
      "Video 530.6.7 saved successfully.\n"
     ]
    },
    {
     "data": {
      "application/vnd.jupyter.widget-view+json": {
       "model_id": "56775eaab4fb4549826b722375529def",
       "version_major": 2,
       "version_minor": 0
      },
      "text/plain": [
       "  0%|          | 0/73 [00:00<?, ?it/s]"
      ]
     },
     "metadata": {},
     "output_type": "display_data"
    },
    {
     "name": "stdout",
     "output_type": "stream",
     "text": [
      "Video 834.6.7 saved successfully.\n"
     ]
    },
    {
     "data": {
      "application/vnd.jupyter.widget-view+json": {
       "model_id": "e5898f6be6b34bebbb3d8c4bfc9fc755",
       "version_major": 2,
       "version_minor": 0
      },
      "text/plain": [
       "  0%|          | 0/75 [00:00<?, ?it/s]"
      ]
     },
     "metadata": {},
     "output_type": "display_data"
    },
    {
     "name": "stdout",
     "output_type": "stream",
     "text": [
      "Video 85.6.7 saved successfully.\n"
     ]
    },
    {
     "data": {
      "application/vnd.jupyter.widget-view+json": {
       "model_id": "c770b42b0dc44cff825d5c0ec376f3c4",
       "version_major": 2,
       "version_minor": 0
      },
      "text/plain": [
       "  0%|          | 0/75 [00:00<?, ?it/s]"
      ]
     },
     "metadata": {},
     "output_type": "display_data"
    },
    {
     "name": "stdout",
     "output_type": "stream",
     "text": [
      "Video 102.6.8 saved successfully.\n"
     ]
    },
    {
     "data": {
      "application/vnd.jupyter.widget-view+json": {
       "model_id": "981fbdfc89634f30969cea9a913b86d5",
       "version_major": 2,
       "version_minor": 0
      },
      "text/plain": [
       "  0%|          | 0/75 [00:00<?, ?it/s]"
      ]
     },
     "metadata": {},
     "output_type": "display_data"
    },
    {
     "name": "stdout",
     "output_type": "stream",
     "text": [
      "Video 154.6.8 saved successfully.\n"
     ]
    },
    {
     "data": {
      "application/vnd.jupyter.widget-view+json": {
       "model_id": "915a883a183c475682d3318ab0e38d9b",
       "version_major": 2,
       "version_minor": 0
      },
      "text/plain": [
       "  0%|          | 0/75 [00:00<?, ?it/s]"
      ]
     },
     "metadata": {},
     "output_type": "display_data"
    },
    {
     "name": "stdout",
     "output_type": "stream",
     "text": [
      "Video 164.6.8 saved successfully.\n"
     ]
    },
    {
     "data": {
      "application/vnd.jupyter.widget-view+json": {
       "model_id": "c704405a789c44e0b2eeb9afe5e8eb9c",
       "version_major": 2,
       "version_minor": 0
      },
      "text/plain": [
       "  0%|          | 0/75 [00:00<?, ?it/s]"
      ]
     },
     "metadata": {},
     "output_type": "display_data"
    },
    {
     "name": "stdout",
     "output_type": "stream",
     "text": [
      "Video 203.6.8 saved successfully.\n"
     ]
    },
    {
     "data": {
      "application/vnd.jupyter.widget-view+json": {
       "model_id": "7269291a98a54b9bb7dc99a625e27054",
       "version_major": 2,
       "version_minor": 0
      },
      "text/plain": [
       "  0%|          | 0/74 [00:00<?, ?it/s]"
      ]
     },
     "metadata": {},
     "output_type": "display_data"
    },
    {
     "name": "stdout",
     "output_type": "stream",
     "text": [
      "Video 267.6.8 saved successfully.\n"
     ]
    },
    {
     "data": {
      "application/vnd.jupyter.widget-view+json": {
       "model_id": "57b61eec6e7b4190b8d17911a060183d",
       "version_major": 2,
       "version_minor": 0
      },
      "text/plain": [
       "  0%|          | 0/74 [00:00<?, ?it/s]"
      ]
     },
     "metadata": {},
     "output_type": "display_data"
    },
    {
     "name": "stdout",
     "output_type": "stream",
     "text": [
      "Video 311.6.8 saved successfully.\n"
     ]
    },
    {
     "data": {
      "application/vnd.jupyter.widget-view+json": {
       "model_id": "7928d50eda9a47e195899ff8341808ef",
       "version_major": 2,
       "version_minor": 0
      },
      "text/plain": [
       "  0%|          | 0/75 [00:00<?, ?it/s]"
      ]
     },
     "metadata": {},
     "output_type": "display_data"
    },
    {
     "name": "stdout",
     "output_type": "stream",
     "text": [
      "Video 36.6.8 saved successfully.\n"
     ]
    },
    {
     "data": {
      "application/vnd.jupyter.widget-view+json": {
       "model_id": "3de77c7e65b347aca7e51ca8dd008927",
       "version_major": 2,
       "version_minor": 0
      },
      "text/plain": [
       "  0%|          | 0/75 [00:00<?, ?it/s]"
      ]
     },
     "metadata": {},
     "output_type": "display_data"
    },
    {
     "name": "stdout",
     "output_type": "stream",
     "text": [
      "Video 367.6.8 saved successfully.\n"
     ]
    },
    {
     "data": {
      "application/vnd.jupyter.widget-view+json": {
       "model_id": "1a8799f972444f138c679011dade98e8",
       "version_major": 2,
       "version_minor": 0
      },
      "text/plain": [
       "  0%|          | 0/75 [00:00<?, ?it/s]"
      ]
     },
     "metadata": {},
     "output_type": "display_data"
    },
    {
     "name": "stdout",
     "output_type": "stream",
     "text": [
      "Video 414.6.8 saved successfully.\n"
     ]
    },
    {
     "data": {
      "application/vnd.jupyter.widget-view+json": {
       "model_id": "509cc433c8ab49be964acaabfb21320d",
       "version_major": 2,
       "version_minor": 0
      },
      "text/plain": [
       "  0%|          | 0/75 [00:00<?, ?it/s]"
      ]
     },
     "metadata": {},
     "output_type": "display_data"
    },
    {
     "name": "stdout",
     "output_type": "stream",
     "text": [
      "Video 416.6.8 saved successfully.\n"
     ]
    },
    {
     "data": {
      "application/vnd.jupyter.widget-view+json": {
       "model_id": "58fe2fac215448b69ed7db56b5df5659",
       "version_major": 2,
       "version_minor": 0
      },
      "text/plain": [
       "  0%|          | 0/75 [00:00<?, ?it/s]"
      ]
     },
     "metadata": {},
     "output_type": "display_data"
    },
    {
     "name": "stdout",
     "output_type": "stream",
     "text": [
      "Video 444.6.8 saved successfully.\n"
     ]
    },
    {
     "data": {
      "application/vnd.jupyter.widget-view+json": {
       "model_id": "9f1549398e8b443ba24306f624e3d157",
       "version_major": 2,
       "version_minor": 0
      },
      "text/plain": [
       "  0%|          | 0/75 [00:00<?, ?it/s]"
      ]
     },
     "metadata": {},
     "output_type": "display_data"
    },
    {
     "name": "stdout",
     "output_type": "stream",
     "text": [
      "Video 464.6.8 saved successfully.\n"
     ]
    },
    {
     "data": {
      "application/vnd.jupyter.widget-view+json": {
       "model_id": "8a3d2623bb91473a9d2501231d4bb196",
       "version_major": 2,
       "version_minor": 0
      },
      "text/plain": [
       "  0%|          | 0/75 [00:00<?, ?it/s]"
      ]
     },
     "metadata": {},
     "output_type": "display_data"
    },
    {
     "name": "stdout",
     "output_type": "stream",
     "text": [
      "Video 465.6.8 saved successfully.\n"
     ]
    },
    {
     "data": {
      "application/vnd.jupyter.widget-view+json": {
       "model_id": "62eade0d6b784003ae049c3c9d7208d3",
       "version_major": 2,
       "version_minor": 0
      },
      "text/plain": [
       "  0%|          | 0/75 [00:00<?, ?it/s]"
      ]
     },
     "metadata": {},
     "output_type": "display_data"
    },
    {
     "name": "stdout",
     "output_type": "stream",
     "text": [
      "Video 477.6.8 saved successfully.\n"
     ]
    },
    {
     "data": {
      "application/vnd.jupyter.widget-view+json": {
       "model_id": "564d32f3e51a462c9720f8771943f03d",
       "version_major": 2,
       "version_minor": 0
      },
      "text/plain": [
       "  0%|          | 0/74 [00:00<?, ?it/s]"
      ]
     },
     "metadata": {},
     "output_type": "display_data"
    },
    {
     "name": "stdout",
     "output_type": "stream",
     "text": [
      "Video 524.6.8 saved successfully.\n"
     ]
    },
    {
     "data": {
      "application/vnd.jupyter.widget-view+json": {
       "model_id": "fc452ef39ff9455c8eb09b94f082ef26",
       "version_major": 2,
       "version_minor": 0
      },
      "text/plain": [
       "  0%|          | 0/74 [00:00<?, ?it/s]"
      ]
     },
     "metadata": {},
     "output_type": "display_data"
    },
    {
     "name": "stdout",
     "output_type": "stream",
     "text": [
      "Video 548.6.8 saved successfully.\n"
     ]
    },
    {
     "data": {
      "application/vnd.jupyter.widget-view+json": {
       "model_id": "d3753c55e5ec49e8b9d06ba748a52a73",
       "version_major": 2,
       "version_minor": 0
      },
      "text/plain": [
       "  0%|          | 0/75 [00:00<?, ?it/s]"
      ]
     },
     "metadata": {},
     "output_type": "display_data"
    },
    {
     "name": "stdout",
     "output_type": "stream",
     "text": [
      "Video 625.6.8 saved successfully.\n"
     ]
    },
    {
     "data": {
      "application/vnd.jupyter.widget-view+json": {
       "model_id": "95794a87cad842d383837c82349fc872",
       "version_major": 2,
       "version_minor": 0
      },
      "text/plain": [
       "  0%|          | 0/75 [00:00<?, ?it/s]"
      ]
     },
     "metadata": {},
     "output_type": "display_data"
    },
    {
     "name": "stdout",
     "output_type": "stream",
     "text": [
      "Video 653.6.8 saved successfully.\n"
     ]
    },
    {
     "data": {
      "application/vnd.jupyter.widget-view+json": {
       "model_id": "66bd765d4487453bb51f2d8dfcf7612c",
       "version_major": 2,
       "version_minor": 0
      },
      "text/plain": [
       "  0%|          | 0/75 [00:00<?, ?it/s]"
      ]
     },
     "metadata": {},
     "output_type": "display_data"
    },
    {
     "name": "stdout",
     "output_type": "stream",
     "text": [
      "Video 658.6.8 saved successfully.\n"
     ]
    },
    {
     "data": {
      "application/vnd.jupyter.widget-view+json": {
       "model_id": "21a24563693945a2bf6a8c25216d8b78",
       "version_major": 2,
       "version_minor": 0
      },
      "text/plain": [
       "  0%|          | 0/74 [00:00<?, ?it/s]"
      ]
     },
     "metadata": {},
     "output_type": "display_data"
    },
    {
     "name": "stdout",
     "output_type": "stream",
     "text": [
      "Video 663.6.8 saved successfully.\n"
     ]
    },
    {
     "data": {
      "application/vnd.jupyter.widget-view+json": {
       "model_id": "609941248e1949799ac2ce7e108cc3ce",
       "version_major": 2,
       "version_minor": 0
      },
      "text/plain": [
       "  0%|          | 0/75 [00:00<?, ?it/s]"
      ]
     },
     "metadata": {},
     "output_type": "display_data"
    },
    {
     "name": "stdout",
     "output_type": "stream",
     "text": [
      "Video 689.6.8 saved successfully.\n"
     ]
    },
    {
     "data": {
      "application/vnd.jupyter.widget-view+json": {
       "model_id": "191cd7a45a844622be8963e2fcc9fb9b",
       "version_major": 2,
       "version_minor": 0
      },
      "text/plain": [
       "  0%|          | 0/71 [00:00<?, ?it/s]"
      ]
     },
     "metadata": {},
     "output_type": "display_data"
    },
    {
     "name": "stdout",
     "output_type": "stream",
     "text": [
      "Video 801.6.8 saved successfully.\n"
     ]
    },
    {
     "data": {
      "application/vnd.jupyter.widget-view+json": {
       "model_id": "882a55563260486e82cbd8a21a4ff18d",
       "version_major": 2,
       "version_minor": 0
      },
      "text/plain": [
       "  0%|          | 0/71 [00:00<?, ?it/s]"
      ]
     },
     "metadata": {},
     "output_type": "display_data"
    },
    {
     "name": "stdout",
     "output_type": "stream",
     "text": [
      "Video 840.6.8 saved successfully.\n"
     ]
    },
    {
     "data": {
      "application/vnd.jupyter.widget-view+json": {
       "model_id": "e73252232da14397afc1a4967aadf649",
       "version_major": 2,
       "version_minor": 0
      },
      "text/plain": [
       "  0%|          | 0/72 [00:00<?, ?it/s]"
      ]
     },
     "metadata": {},
     "output_type": "display_data"
    },
    {
     "name": "stdout",
     "output_type": "stream",
     "text": [
      "Video 881.6.8 saved successfully.\n"
     ]
    },
    {
     "data": {
      "application/vnd.jupyter.widget-view+json": {
       "model_id": "0567d530b60b4424abf5ef31579ab603",
       "version_major": 2,
       "version_minor": 0
      },
      "text/plain": [
       "  0%|          | 0/75 [00:00<?, ?it/s]"
      ]
     },
     "metadata": {},
     "output_type": "display_data"
    },
    {
     "name": "stdout",
     "output_type": "stream",
     "text": [
      "Video 139.6.9 saved successfully.\n"
     ]
    },
    {
     "data": {
      "application/vnd.jupyter.widget-view+json": {
       "model_id": "459a0b9c31e24d0495d341f5935d97ea",
       "version_major": 2,
       "version_minor": 0
      },
      "text/plain": [
       "  0%|          | 0/75 [00:00<?, ?it/s]"
      ]
     },
     "metadata": {},
     "output_type": "display_data"
    },
    {
     "name": "stdout",
     "output_type": "stream",
     "text": [
      "Video 142.6.9 saved successfully.\n"
     ]
    },
    {
     "data": {
      "application/vnd.jupyter.widget-view+json": {
       "model_id": "60a33420c3eb4b68942ae2d90e81b95d",
       "version_major": 2,
       "version_minor": 0
      },
      "text/plain": [
       "  0%|          | 0/74 [00:00<?, ?it/s]"
      ]
     },
     "metadata": {},
     "output_type": "display_data"
    },
    {
     "name": "stdout",
     "output_type": "stream",
     "text": [
      "Video 160.6.9 saved successfully.\n"
     ]
    },
    {
     "data": {
      "application/vnd.jupyter.widget-view+json": {
       "model_id": "a71d1ccca46b496eaf01a62408960a7a",
       "version_major": 2,
       "version_minor": 0
      },
      "text/plain": [
       "  0%|          | 0/75 [00:00<?, ?it/s]"
      ]
     },
     "metadata": {},
     "output_type": "display_data"
    },
    {
     "name": "stdout",
     "output_type": "stream",
     "text": [
      "Video 312.6.9 saved successfully.\n"
     ]
    },
    {
     "data": {
      "application/vnd.jupyter.widget-view+json": {
       "model_id": "0642f808283a43dabcafe1c667aaf9fc",
       "version_major": 2,
       "version_minor": 0
      },
      "text/plain": [
       "  0%|          | 0/75 [00:00<?, ?it/s]"
      ]
     },
     "metadata": {},
     "output_type": "display_data"
    },
    {
     "name": "stdout",
     "output_type": "stream",
     "text": [
      "Video 365.6.9 saved successfully.\n"
     ]
    },
    {
     "data": {
      "application/vnd.jupyter.widget-view+json": {
       "model_id": "5802f150157a4f05a3bc511e87b496af",
       "version_major": 2,
       "version_minor": 0
      },
      "text/plain": [
       "  0%|          | 0/73 [00:00<?, ?it/s]"
      ]
     },
     "metadata": {},
     "output_type": "display_data"
    },
    {
     "name": "stdout",
     "output_type": "stream",
     "text": [
      "Video 740.6.9 saved successfully.\n",
      "CPU times: user 12h 10min 1s, sys: 1h 5min 3s, total: 13h 15min 5s\n",
      "Wall time: 52min 36s\n"
     ]
    }
   ],
   "source": [
    "%%time\n",
    "for unique_ID in tqdm(sorted_ids, total = len(unique_IDs)):\n",
    "    if os.path.exists(f\"/mnt/SYNO/macrohet_syno/manuscript/dt_dev_glimpses/{unique_ID}.mp4\"):\n",
    "        continue\n",
    "    acq_ID= row, column = int(unique_ID.split('.')[1]), int(unique_ID.split('.')[2]) \n",
    "    ID = int(unique_ID.split('.')[0])\n",
    "    if str(acq_ID) not in loaded_image:\n",
    "        # print(f'Loading images for {unique_ID}')\n",
    "        # image_dir = os.path.join(base_dir, f'acquisition/zarr/{acq_ID}.zarr')\n",
    "        # zarr_group = zarr.open(image_dir, mode='r')\n",
    "        # images = (zarr_group.images[:,:,0,...])\n",
    "        base_dir = f'/mnt/DATA/macrohet/{expt_ID}/'\n",
    "        loaded_image = str(acq_ID)\n",
    "        image_dir = os.path.join(base_dir, 'acquisition/Images')\n",
    "        images = tile.compile_mosaic(image_dir, \n",
    "                                     metadata, \n",
    "                                     row, column, \n",
    "                                     # subset_field_IDs=['16', '17',  '20', '21'], \n",
    "                                     # n_tile_rows = 2, n_tile_cols = 2,\n",
    "                                     set_plane=1,\n",
    "                                     # set_channel=1,\n",
    "                                     # set_time = 1,\n",
    "        #                             input_transforms = [input_transforms]\n",
    "                                    ).compute().compute()\n",
    "        images = images[:,:,0,...]\n",
    "    rgb_stack = []\n",
    "    # if segmentation is None:\n",
    "    #     # load segmentation\n",
    "    #     with btrack.io.HDF5FileHandler(os.path.join(base_dir,\n",
    "    #                                                 f'labels/macrohet_seg_model/{acq_ID}.h5'),\n",
    "    #                                    'r',\n",
    "    #                                    obj_type='obj_type_1') as reader:\n",
    "    #         segmentation = reader.segmentation\n",
    "    \n",
    "    # extract single cell df\n",
    "    sc_df = df[df['Unique ID'] == unique_ID]\n",
    "    \n",
    "    time_values = sc_df['Time (hours)']\n",
    "    for t in tqdm(time_values):\n",
    "        t = int(t)\n",
    "        sc_df_t = sc_df[sc_df['Time (hours)'] == t]\n",
    "    \n",
    "        # Extract xy coordinates and transpose for python and area from the cell information\n",
    "        y_coord, x_coord, area, t = sc_df_t.loc[:, ['x', 'y', 'Mphi Area', 'Time (hours)']].values[0]\n",
    "    \n",
    "        # Scale according to tracking shrinkage\n",
    "        y_coord, x_coord = y_coord * track_scale_factor, x_coord * track_scale_factor\n",
    "    \n",
    "        if not crop_size:\n",
    "            # Calculate the side length for cropping based on the square root of the area\n",
    "            side_length = int(np.sqrt(area)) * 2\n",
    "    \n",
    "        # Calculate the cropping boundaries\n",
    "        x_start = int(x_coord - side_length / 2)\n",
    "        x_end = int(x_coord + side_length / 2)\n",
    "        y_start = int(y_coord - side_length / 2)\n",
    "        y_end = int(y_coord + side_length / 2)\n",
    "    \n",
    "        # Pad the boundaries if they exceed the image dimensions\n",
    "        if x_start < 0:\n",
    "            x_pad = abs(x_start)\n",
    "            x_start = 0\n",
    "        else:\n",
    "            x_pad = 0\n",
    "    \n",
    "        if x_end > images.shape[2]:\n",
    "            x_pad_end = x_end - images.shape[2]\n",
    "            x_end = images.shape[2]\n",
    "        else:\n",
    "            x_pad_end = 0\n",
    "    \n",
    "        if y_start < 0:\n",
    "            y_pad = abs(y_start)\n",
    "            y_start = 0\n",
    "        else:\n",
    "            y_pad = 0\n",
    "    \n",
    "        if y_end > images.shape[3]:\n",
    "            y_pad_end = y_end - images.shape[3]\n",
    "            y_end = images.shape[3]\n",
    "        else:\n",
    "            y_pad_end = 0\n",
    "    \n",
    "        # Crop the image\n",
    "        cropped_image = images[int(t), :, x_start:x_end, y_start:y_end]\n",
    "    \n",
    "        # Pad the cropped image if necessary\n",
    "        cropped_image = np.pad(cropped_image, ((0, 0), (x_pad, x_pad_end), (y_pad, y_pad_end)), mode='constant')\n",
    "    \n",
    "        # extract the gfp and rfp channels to apply some vis techn\n",
    "        gfp = cropped_image[0, ...]#.compute().compute()\n",
    "        rfp = cropped_image[1, ...]#.compute().compute()\n",
    "    \n",
    "        # clip the images so that the contrast is more apparent\n",
    "        contrast_lim_gfp = np.clip(gfp, 358, 5886)\n",
    "        contrast_lim_rfp = np.clip(rfp, 480, 1300)\n",
    "    \n",
    "        norm_gfp = cv2.normalize(contrast_lim_gfp, None, 0, 65535, cv2.NORM_MINMAX, dtype=cv2.CV_16U)\n",
    "        norm_rfp = cv2.normalize(contrast_lim_rfp, None, 0, 65535, cv2.NORM_MINMAX, dtype=cv2.CV_16U)\n",
    "    \n",
    "        # put the modified gfp rfp back in place\n",
    "        cropped_image[0, ...] = norm_gfp\n",
    "        cropped_image[1, ...] = norm_rfp\n",
    "    \n",
    "        # Create an empty RGB image with the same shape as the input image\n",
    "        rgb_image = np.zeros((cropped_image.shape[1], cropped_image.shape[2], 3), dtype=np.uint16)\n",
    "    \n",
    "        # Assign the first channel to the green channel of the RGB image\n",
    "        rgb_image[:, :, 1] = cropped_image[0]\n",
    "    \n",
    "        # Assign the second channel to the red and blue channels of the RGB image to create magenta\n",
    "        rgb_image[:, :, 0] = cropped_image[1]\n",
    "        rgb_image[:, :, 2] = cropped_image[1]\n",
    "    \n",
    "        # scale down to 8bit\n",
    "        rgb_image = np.uint8(rgb_image >> 8)\n",
    "    \n",
    "        # if mask_outline:\n",
    "        #     # load mask (singular)\n",
    "        #     cropped_masks = segmentation[int(t), x_start:x_end, y_start:y_end]\n",
    "    \n",
    "        #     # Pad the cropped image if necessary\n",
    "        #     cropped_masks = np.pad(cropped_masks, ((x_pad, x_pad_end), (y_pad, y_pad_end)), mode='constant')\n",
    "    \n",
    "        #     # extract only that segment\n",
    "        #     seg_ID = cropped_masks[int(cropped_masks.shape[0] / 2), int(cropped_masks.shape[1] / 2)]\n",
    "        #     instance_mask = (cropped_masks == seg_ID).astype(np.uint8)\n",
    "    \n",
    "        #     # draw outline\n",
    "        #     contours, _ = cv2.findContours(instance_mask, cv2.RETR_EXTERNAL, cv2.CHAIN_APPROX_SIMPLE)\n",
    "        #     cv2.drawContours(rgb_image, contours, -1, (0, 2 ** 8, 2 ** 8), thickness=2)  # make 8bit\n",
    "    \n",
    "        # downsize image to reduce storage demands\n",
    "        rgb_image = cv2.resize(rgb_image, (rgb_image.shape[1] // 2, rgb_image.shape[0] // 2))\n",
    "        rgb_stack.append(rgb_image)\n",
    "    \n",
    "    max_height = max(rgb_image.shape[0] for rgb_image in rgb_stack)\n",
    "    max_width = max(rgb_image.shape[1] for rgb_image in rgb_stack)\n",
    "    \n",
    "    # Resize each image to the maximum dimensions\n",
    "    resized_rgb_stack = [cv2.resize(rgb_image, (max_width, max_height)) for rgb_image in rgb_stack]\n",
    "    \n",
    "    # Stack the resized images\n",
    "    rgb_stack = np.stack(resized_rgb_stack, axis=0)\n",
    "    \n",
    "    # Get the dimensions of the first frame\n",
    "    height, width, _ = rgb_stack[0].shape\n",
    "    \n",
    "    # Define the frame rate (number of frames per second)\n",
    "    frame_rate = len(rgb_stack) / 20  # Total frames divided by total seconds\n",
    "    output_file = f\"/mnt/SYNO/macrohet_syno/manuscript/dt_dev_glimpses/{unique_ID}.mp4\"\n",
    "    # Initialize VideoWriter object\n",
    "    fourcc = cv2.VideoWriter_fourcc(*'mp4v')\n",
    "    out = cv2.VideoWriter(output_file, fourcc, frame_rate, (width, height))\n",
    "    \n",
    "    # Write each frame to the video file\n",
    "    for frame in rgb_stack:\n",
    "        out.write(frame)\n",
    "    \n",
    "    # Release the VideoWriter object\n",
    "    out.release()\n",
    "    \n",
    "    print(f\"Video {unique_ID} saved successfully.\")"
   ]
  },
  {
   "cell_type": "code",
   "execution_count": 249,
   "id": "fefe7cf6-750d-4db2-80f2-a3837b028345",
   "metadata": {},
   "outputs": [
    {
     "data": {
      "text/plain": [
       "<Image layer 'rgb_stack' at 0x7f05e7ff61f0>"
      ]
     },
     "execution_count": 249,
     "metadata": {},
     "output_type": "execute_result"
    }
   ],
   "source": [
    "viewer = napari.Viewer()\n",
    "\n",
    "viewer.add_image(rgb_stack)"
   ]
  },
  {
   "cell_type": "code",
   "execution_count": 250,
   "id": "92832382-2e35-42eb-8482-c021b26761cd",
   "metadata": {},
   "outputs": [
    {
     "data": {
      "text/plain": [
       "(75, 191, 191, 3)"
      ]
     },
     "execution_count": 250,
     "metadata": {},
     "output_type": "execute_result"
    }
   ],
   "source": [
    "rgb_stack.shape"
   ]
  },
  {
   "cell_type": "code",
   "execution_count": 203,
   "id": "0b9fabf3-5dd3-4524-bb8e-b17ed33fee67",
   "metadata": {},
   "outputs": [],
   "source": [
    "from macrohet import notify"
   ]
  },
  {
   "cell_type": "code",
   "execution_count": 204,
   "id": "ce4f3a68-c9ae-435a-a4a6-1568a4f07dfc",
   "metadata": {},
   "outputs": [],
   "source": [
    "notify.send_sys_message()"
   ]
  },
  {
   "cell_type": "code",
   "execution_count": 18,
   "id": "40ca16a6-e102-47c8-bbbb-ca892824b195",
   "metadata": {},
   "outputs": [],
   "source": [
    "import btrack"
   ]
  },
  {
   "cell_type": "code",
   "execution_count": 96,
   "id": "c4906915-5051-44e6-aabb-a043d143f0a3",
   "metadata": {},
   "outputs": [
    {
     "name": "stderr",
     "output_type": "stream",
     "text": [
      "[INFO][2024/02/06 04:46:19 pm] Opening HDF file: /mnt/SYNO/macrohet_syno/PS0000/labels/macrohet_seg_model/(3, 5).h5...\n",
      "INFO:btrack.io.hdf:Opening HDF file: /mnt/SYNO/macrohet_syno/PS0000/labels/macrohet_seg_model/(3, 5).h5...\n",
      "[INFO][2024/02/06 04:46:29 pm] Loading segmentation (75, 6048, 6048)\n",
      "INFO:btrack.io.hdf:Loading segmentation (75, 6048, 6048)\n",
      "[INFO][2024/02/06 04:46:29 pm] Loading tracks/obj_type_1\n",
      "INFO:btrack.io.hdf:Loading tracks/obj_type_1\n",
      "[INFO][2024/02/06 04:46:29 pm] Loading LBEP/obj_type_1\n",
      "INFO:btrack.io.hdf:Loading LBEP/obj_type_1\n",
      "[INFO][2024/02/06 04:46:29 pm] Loading objects/obj_type_1 (41424, 5) (41424 filtered: None)\n",
      "INFO:btrack.io.hdf:Loading objects/obj_type_1 (41424, 5) (41424 filtered: None)\n",
      "[INFO][2024/02/06 04:46:30 pm] Closing HDF file: /mnt/SYNO/macrohet_syno/PS0000/labels/macrohet_seg_model/(3, 5).h5\n",
      "INFO:btrack.io.hdf:Closing HDF file: /mnt/SYNO/macrohet_syno/PS0000/labels/macrohet_seg_model/(3, 5).h5\n"
     ]
    }
   ],
   "source": [
    "with btrack.io.HDF5FileHandler(os.path.join(f'/mnt/SYNO/macrohet_syno/{expt_ID}/labels/macrohet_seg_model/{row, column}.h5'), \n",
    "                                           'r', \n",
    "                                           obj_type='obj_type_1'\n",
    "                                           ) as reader:\n",
    "                segmentation = reader.segmentation\n",
    "                tracks = reader.tracks"
   ]
  },
  {
   "cell_type": "code",
   "execution_count": 97,
   "id": "a3caf4ee-8bb8-47db-9a2b-2aa5cc4819c2",
   "metadata": {},
   "outputs": [
    {
     "data": {
      "text/plain": [
       "<Labels layer 'segmentation' at 0x7f07748ff490>"
      ]
     },
     "execution_count": 97,
     "metadata": {},
     "output_type": "execute_result"
    }
   ],
   "source": [
    "viewer.add_labels(segmentation,)"
   ]
  },
  {
   "cell_type": "code",
   "execution_count": 158,
   "id": "132934af-b770-4c77-990e-166946773bd7",
   "metadata": {
    "scrolled": true
   },
   "outputs": [
    {
     "data": {
      "text/html": [
       "<table border=\"1\" class=\"dataframe\">\n",
       "  <thead>\n",
       "    <tr style=\"text-align: right;\">\n",
       "      <th></th>\n",
       "      <th>ID</th>\n",
       "      <th>t</th>\n",
       "      <th>x</th>\n",
       "      <th>y</th>\n",
       "      <th>z</th>\n",
       "      <th>parent</th>\n",
       "      <th>root</th>\n",
       "      <th>state</th>\n",
       "      <th>generation</th>\n",
       "      <th>dummy</th>\n",
       "      <th>minor_axis_length</th>\n",
       "      <th>major_axis_length</th>\n",
       "      <th>Infected</th>\n",
       "      <th>area</th>\n",
       "      <th>orientation</th>\n",
       "      <th>mean_intensity</th>\n",
       "    </tr>\n",
       "  </thead>\n",
       "  <tbody>\n",
       "    <tr>\n",
       "      <th>0</th>\n",
       "      <td>1</td>\n",
       "      <td>0</td>\n",
       "      <td>519.922607</td>\n",
       "      <td>876.779602</td>\n",
       "      <td>0.000000</td>\n",
       "      <td>1</td>\n",
       "      <td>1</td>\n",
       "      <td>5</td>\n",
       "      <td>0</td>\n",
       "      <td>False</td>\n",
       "      <td>139.338257</td>\n",
       "      <td>272.300110</td>\n",
       "      <td>1.0</td>\n",
       "      <td>29567.0</td>\n",
       "      <td>-1.259609</td>\n",
       "      <td>(3,) array</td>\n",
       "    </tr>\n",
       "    <tr>\n",
       "      <th>1</th>\n",
       "      <td>1</td>\n",
       "      <td>1</td>\n",
       "      <td>522.290833</td>\n",
       "      <td>876.766357</td>\n",
       "      <td>0.000000</td>\n",
       "      <td>1</td>\n",
       "      <td>1</td>\n",
       "      <td>5</td>\n",
       "      <td>0</td>\n",
       "      <td>False</td>\n",
       "      <td>133.214874</td>\n",
       "      <td>251.294281</td>\n",
       "      <td>1.0</td>\n",
       "      <td>26181.0</td>\n",
       "      <td>-1.247703</td>\n",
       "      <td>(3,) array</td>\n",
       "    </tr>\n",
       "    <tr>\n",
       "      <th>2</th>\n",
       "      <td>1</td>\n",
       "      <td>2</td>\n",
       "      <td>524.336243</td>\n",
       "      <td>874.563110</td>\n",
       "      <td>0.000000</td>\n",
       "      <td>1</td>\n",
       "      <td>1</td>\n",
       "      <td>5</td>\n",
       "      <td>0</td>\n",
       "      <td>False</td>\n",
       "      <td>130.527573</td>\n",
       "      <td>256.213470</td>\n",
       "      <td>1.0</td>\n",
       "      <td>26043.0</td>\n",
       "      <td>-1.220798</td>\n",
       "      <td>(3,) array</td>\n",
       "    </tr>\n",
       "    <tr>\n",
       "      <th>3</th>\n",
       "      <td>1</td>\n",
       "      <td>3</td>\n",
       "      <td>516.952454</td>\n",
       "      <td>876.656799</td>\n",
       "      <td>0.000000</td>\n",
       "      <td>1</td>\n",
       "      <td>1</td>\n",
       "      <td>5</td>\n",
       "      <td>0</td>\n",
       "      <td>False</td>\n",
       "      <td>151.449524</td>\n",
       "      <td>221.050552</td>\n",
       "      <td>1.0</td>\n",
       "      <td>25605.0</td>\n",
       "      <td>-1.213046</td>\n",
       "      <td>(3,) array</td>\n",
       "    </tr>\n",
       "    <tr>\n",
       "      <th>4</th>\n",
       "      <td>1</td>\n",
       "      <td>4</td>\n",
       "      <td>521.947449</td>\n",
       "      <td>880.909363</td>\n",
       "      <td>0.000000</td>\n",
       "      <td>1</td>\n",
       "      <td>1</td>\n",
       "      <td>5</td>\n",
       "      <td>0</td>\n",
       "      <td>False</td>\n",
       "      <td>170.013687</td>\n",
       "      <td>200.579819</td>\n",
       "      <td>1.0</td>\n",
       "      <td>26430.0</td>\n",
       "      <td>1.540157</td>\n",
       "      <td>(3,) array</td>\n",
       "    </tr>\n",
       "    <tr>\n",
       "      <th>5</th>\n",
       "      <td>1</td>\n",
       "      <td>5</td>\n",
       "      <td>523.277527</td>\n",
       "      <td>878.426208</td>\n",
       "      <td>0.000000</td>\n",
       "      <td>1</td>\n",
       "      <td>1</td>\n",
       "      <td>5</td>\n",
       "      <td>0</td>\n",
       "      <td>False</td>\n",
       "      <td>124.448059</td>\n",
       "      <td>217.377197</td>\n",
       "      <td>1.0</td>\n",
       "      <td>21047.0</td>\n",
       "      <td>-1.195608</td>\n",
       "      <td>(3,) array</td>\n",
       "    </tr>\n",
       "    <tr>\n",
       "      <th>6</th>\n",
       "      <td>1</td>\n",
       "      <td>6</td>\n",
       "      <td>521.043518</td>\n",
       "      <td>877.680420</td>\n",
       "      <td>0.000000</td>\n",
       "      <td>1</td>\n",
       "      <td>1</td>\n",
       "      <td>5</td>\n",
       "      <td>0</td>\n",
       "      <td>False</td>\n",
       "      <td>110.176552</td>\n",
       "      <td>147.966309</td>\n",
       "      <td>1.0</td>\n",
       "      <td>12742.0</td>\n",
       "      <td>-1.193765</td>\n",
       "      <td>(3,) array</td>\n",
       "    </tr>\n",
       "    <tr>\n",
       "      <th>7</th>\n",
       "      <td>1</td>\n",
       "      <td>7</td>\n",
       "      <td>522.131592</td>\n",
       "      <td>878.283936</td>\n",
       "      <td>0.000000</td>\n",
       "      <td>1</td>\n",
       "      <td>1</td>\n",
       "      <td>5</td>\n",
       "      <td>0</td>\n",
       "      <td>False</td>\n",
       "      <td>112.954071</td>\n",
       "      <td>165.080383</td>\n",
       "      <td>1.0</td>\n",
       "      <td>14611.0</td>\n",
       "      <td>-1.565078</td>\n",
       "      <td>(3,) array</td>\n",
       "    </tr>\n",
       "    <tr>\n",
       "      <th>8</th>\n",
       "      <td>1</td>\n",
       "      <td>8</td>\n",
       "      <td>518.135559</td>\n",
       "      <td>877.770569</td>\n",
       "      <td>0.000000</td>\n",
       "      <td>1</td>\n",
       "      <td>1</td>\n",
       "      <td>5</td>\n",
       "      <td>0</td>\n",
       "      <td>False</td>\n",
       "      <td>123.692322</td>\n",
       "      <td>160.646317</td>\n",
       "      <td>1.0</td>\n",
       "      <td>15471.0</td>\n",
       "      <td>-1.518471</td>\n",
       "      <td>(3,) array</td>\n",
       "    </tr>\n",
       "    <tr>\n",
       "      <th>9</th>\n",
       "      <td>1</td>\n",
       "      <td>9</td>\n",
       "      <td>516.401733</td>\n",
       "      <td>876.479553</td>\n",
       "      <td>-1.314526</td>\n",
       "      <td>1</td>\n",
       "      <td>1</td>\n",
       "      <td>5</td>\n",
       "      <td>0</td>\n",
       "      <td>True</td>\n",
       "      <td>NaN</td>\n",
       "      <td>NaN</td>\n",
       "      <td>NaN</td>\n",
       "      <td>NaN</td>\n",
       "      <td>NaN</td>\n",
       "      <td>(3,) array</td>\n",
       "    </tr>\n",
       "    <tr>\n",
       "      <th>10</th>\n",
       "      <td>1</td>\n",
       "      <td>10</td>\n",
       "      <td>516.838684</td>\n",
       "      <td>878.295837</td>\n",
       "      <td>0.000000</td>\n",
       "      <td>1</td>\n",
       "      <td>1</td>\n",
       "      <td>5</td>\n",
       "      <td>0</td>\n",
       "      <td>False</td>\n",
       "      <td>148.844620</td>\n",
       "      <td>165.885666</td>\n",
       "      <td>1.0</td>\n",
       "      <td>19264.0</td>\n",
       "      <td>-0.199149</td>\n",
       "      <td>(3,) array</td>\n",
       "    </tr>\n",
       "    <tr>\n",
       "      <th>11</th>\n",
       "      <td>1</td>\n",
       "      <td>11</td>\n",
       "      <td>510.961243</td>\n",
       "      <td>873.416626</td>\n",
       "      <td>0.000000</td>\n",
       "      <td>1</td>\n",
       "      <td>1</td>\n",
       "      <td>5</td>\n",
       "      <td>0</td>\n",
       "      <td>False</td>\n",
       "      <td>150.771210</td>\n",
       "      <td>293.275848</td>\n",
       "      <td>1.0</td>\n",
       "      <td>30042.0</td>\n",
       "      <td>0.353954</td>\n",
       "      <td>(3,) array</td>\n",
       "    </tr>\n",
       "    <tr>\n",
       "      <th>12</th>\n",
       "      <td>1</td>\n",
       "      <td>12</td>\n",
       "      <td>514.739380</td>\n",
       "      <td>871.379822</td>\n",
       "      <td>0.000000</td>\n",
       "      <td>1</td>\n",
       "      <td>1</td>\n",
       "      <td>5</td>\n",
       "      <td>0</td>\n",
       "      <td>False</td>\n",
       "      <td>145.633850</td>\n",
       "      <td>248.300842</td>\n",
       "      <td>1.0</td>\n",
       "      <td>25870.0</td>\n",
       "      <td>0.454288</td>\n",
       "      <td>(3,) array</td>\n",
       "    </tr>\n",
       "    <tr>\n",
       "      <th>13</th>\n",
       "      <td>1</td>\n",
       "      <td>13</td>\n",
       "      <td>519.341431</td>\n",
       "      <td>881.346863</td>\n",
       "      <td>0.000000</td>\n",
       "      <td>1</td>\n",
       "      <td>1</td>\n",
       "      <td>5</td>\n",
       "      <td>0</td>\n",
       "      <td>False</td>\n",
       "      <td>187.712067</td>\n",
       "      <td>303.560272</td>\n",
       "      <td>1.0</td>\n",
       "      <td>40388.0</td>\n",
       "      <td>0.526560</td>\n",
       "      <td>(3,) array</td>\n",
       "    </tr>\n",
       "    <tr>\n",
       "      <th>14</th>\n",
       "      <td>1</td>\n",
       "      <td>14</td>\n",
       "      <td>510.579071</td>\n",
       "      <td>865.558289</td>\n",
       "      <td>0.000000</td>\n",
       "      <td>1</td>\n",
       "      <td>1</td>\n",
       "      <td>5</td>\n",
       "      <td>0</td>\n",
       "      <td>False</td>\n",
       "      <td>125.113670</td>\n",
       "      <td>347.573975</td>\n",
       "      <td>1.0</td>\n",
       "      <td>32405.0</td>\n",
       "      <td>0.490107</td>\n",
       "      <td>(3,) array</td>\n",
       "    </tr>\n",
       "    <tr>\n",
       "      <th>15</th>\n",
       "      <td>1</td>\n",
       "      <td>15</td>\n",
       "      <td>519.550964</td>\n",
       "      <td>879.585693</td>\n",
       "      <td>0.000000</td>\n",
       "      <td>1</td>\n",
       "      <td>1</td>\n",
       "      <td>5</td>\n",
       "      <td>0</td>\n",
       "      <td>False</td>\n",
       "      <td>135.761063</td>\n",
       "      <td>363.030212</td>\n",
       "      <td>1.0</td>\n",
       "      <td>37074.0</td>\n",
       "      <td>0.597124</td>\n",
       "      <td>(3,) array</td>\n",
       "    </tr>\n",
       "    <tr>\n",
       "      <th>16</th>\n",
       "      <td>1</td>\n",
       "      <td>17</td>\n",
       "      <td>515.054688</td>\n",
       "      <td>868.873413</td>\n",
       "      <td>0.000000</td>\n",
       "      <td>1</td>\n",
       "      <td>1</td>\n",
       "      <td>5</td>\n",
       "      <td>0</td>\n",
       "      <td>False</td>\n",
       "      <td>126.040192</td>\n",
       "      <td>287.970032</td>\n",
       "      <td>1.0</td>\n",
       "      <td>27854.0</td>\n",
       "      <td>0.473974</td>\n",
       "      <td>(3,) array</td>\n",
       "    </tr>\n",
       "    <tr>\n",
       "      <th>17</th>\n",
       "      <td>1</td>\n",
       "      <td>18</td>\n",
       "      <td>517.746826</td>\n",
       "      <td>869.915161</td>\n",
       "      <td>0.000000</td>\n",
       "      <td>1</td>\n",
       "      <td>1</td>\n",
       "      <td>5</td>\n",
       "      <td>0</td>\n",
       "      <td>False</td>\n",
       "      <td>176.728958</td>\n",
       "      <td>279.737183</td>\n",
       "      <td>1.0</td>\n",
       "      <td>36877.0</td>\n",
       "      <td>0.462790</td>\n",
       "      <td>(3,) array</td>\n",
       "    </tr>\n",
       "    <tr>\n",
       "      <th>18</th>\n",
       "      <td>1</td>\n",
       "      <td>19</td>\n",
       "      <td>519.943665</td>\n",
       "      <td>868.029297</td>\n",
       "      <td>0.000000</td>\n",
       "      <td>1</td>\n",
       "      <td>1</td>\n",
       "      <td>5</td>\n",
       "      <td>0</td>\n",
       "      <td>False</td>\n",
       "      <td>174.141815</td>\n",
       "      <td>231.374832</td>\n",
       "      <td>1.0</td>\n",
       "      <td>29594.0</td>\n",
       "      <td>0.450321</td>\n",
       "      <td>(3,) array</td>\n",
       "    </tr>\n",
       "    <tr>\n",
       "      <th>19</th>\n",
       "      <td>1</td>\n",
       "      <td>20</td>\n",
       "      <td>521.177979</td>\n",
       "      <td>869.968872</td>\n",
       "      <td>0.000000</td>\n",
       "      <td>1</td>\n",
       "      <td>1</td>\n",
       "      <td>5</td>\n",
       "      <td>0</td>\n",
       "      <td>False</td>\n",
       "      <td>153.825089</td>\n",
       "      <td>187.183960</td>\n",
       "      <td>1.0</td>\n",
       "      <td>22534.0</td>\n",
       "      <td>1.043880</td>\n",
       "      <td>(3,) array</td>\n",
       "    </tr>\n",
       "    <tr>\n",
       "      <th>20</th>\n",
       "      <td>1</td>\n",
       "      <td>21</td>\n",
       "      <td>516.295288</td>\n",
       "      <td>872.343384</td>\n",
       "      <td>0.000000</td>\n",
       "      <td>1</td>\n",
       "      <td>1</td>\n",
       "      <td>5</td>\n",
       "      <td>0</td>\n",
       "      <td>False</td>\n",
       "      <td>159.391403</td>\n",
       "      <td>238.255615</td>\n",
       "      <td>1.0</td>\n",
       "      <td>29746.0</td>\n",
       "      <td>-0.146140</td>\n",
       "      <td>(3,) array</td>\n",
       "    </tr>\n",
       "    <tr>\n",
       "      <th>21</th>\n",
       "      <td>1</td>\n",
       "      <td>22</td>\n",
       "      <td>513.571594</td>\n",
       "      <td>876.279236</td>\n",
       "      <td>0.000000</td>\n",
       "      <td>1</td>\n",
       "      <td>1</td>\n",
       "      <td>5</td>\n",
       "      <td>0</td>\n",
       "      <td>False</td>\n",
       "      <td>140.725937</td>\n",
       "      <td>290.735962</td>\n",
       "      <td>1.0</td>\n",
       "      <td>31081.0</td>\n",
       "      <td>-0.246369</td>\n",
       "      <td>(3,) array</td>\n",
       "    </tr>\n",
       "    <tr>\n",
       "      <th>22</th>\n",
       "      <td>1</td>\n",
       "      <td>23</td>\n",
       "      <td>513.716125</td>\n",
       "      <td>873.484558</td>\n",
       "      <td>0.000000</td>\n",
       "      <td>1</td>\n",
       "      <td>1</td>\n",
       "      <td>5</td>\n",
       "      <td>0</td>\n",
       "      <td>False</td>\n",
       "      <td>136.852539</td>\n",
       "      <td>297.447784</td>\n",
       "      <td>1.0</td>\n",
       "      <td>29857.0</td>\n",
       "      <td>-0.217024</td>\n",
       "      <td>(3,) array</td>\n",
       "    </tr>\n",
       "    <tr>\n",
       "      <th>23</th>\n",
       "      <td>1</td>\n",
       "      <td>24</td>\n",
       "      <td>511.129883</td>\n",
       "      <td>872.662659</td>\n",
       "      <td>0.000000</td>\n",
       "      <td>1</td>\n",
       "      <td>1</td>\n",
       "      <td>5</td>\n",
       "      <td>0</td>\n",
       "      <td>False</td>\n",
       "      <td>160.959030</td>\n",
       "      <td>395.595520</td>\n",
       "      <td>1.0</td>\n",
       "      <td>43822.0</td>\n",
       "      <td>-0.122258</td>\n",
       "      <td>(3,) array</td>\n",
       "    </tr>\n",
       "    <tr>\n",
       "      <th>24</th>\n",
       "      <td>1</td>\n",
       "      <td>25</td>\n",
       "      <td>511.827301</td>\n",
       "      <td>872.724792</td>\n",
       "      <td>0.000000</td>\n",
       "      <td>1</td>\n",
       "      <td>1</td>\n",
       "      <td>5</td>\n",
       "      <td>0</td>\n",
       "      <td>False</td>\n",
       "      <td>134.295135</td>\n",
       "      <td>375.873535</td>\n",
       "      <td>1.0</td>\n",
       "      <td>38123.0</td>\n",
       "      <td>-0.088352</td>\n",
       "      <td>(3,) array</td>\n",
       "    </tr>\n",
       "    <tr>\n",
       "      <th>25</th>\n",
       "      <td>1</td>\n",
       "      <td>26</td>\n",
       "      <td>512.077698</td>\n",
       "      <td>872.620483</td>\n",
       "      <td>0.000000</td>\n",
       "      <td>1</td>\n",
       "      <td>1</td>\n",
       "      <td>5</td>\n",
       "      <td>0</td>\n",
       "      <td>False</td>\n",
       "      <td>133.440155</td>\n",
       "      <td>383.244263</td>\n",
       "      <td>1.0</td>\n",
       "      <td>37530.0</td>\n",
       "      <td>-0.114083</td>\n",
       "      <td>(3,) array</td>\n",
       "    </tr>\n",
       "    <tr>\n",
       "      <th>26</th>\n",
       "      <td>1</td>\n",
       "      <td>27</td>\n",
       "      <td>514.153809</td>\n",
       "      <td>870.414429</td>\n",
       "      <td>0.000000</td>\n",
       "      <td>1</td>\n",
       "      <td>1</td>\n",
       "      <td>5</td>\n",
       "      <td>0</td>\n",
       "      <td>False</td>\n",
       "      <td>132.591095</td>\n",
       "      <td>390.875092</td>\n",
       "      <td>1.0</td>\n",
       "      <td>39385.0</td>\n",
       "      <td>-0.146745</td>\n",
       "      <td>(3,) array</td>\n",
       "    </tr>\n",
       "    <tr>\n",
       "      <th>27</th>\n",
       "      <td>1</td>\n",
       "      <td>28</td>\n",
       "      <td>515.687988</td>\n",
       "      <td>870.686096</td>\n",
       "      <td>0.000000</td>\n",
       "      <td>1</td>\n",
       "      <td>1</td>\n",
       "      <td>5</td>\n",
       "      <td>0</td>\n",
       "      <td>False</td>\n",
       "      <td>165.276077</td>\n",
       "      <td>376.709106</td>\n",
       "      <td>1.0</td>\n",
       "      <td>44539.0</td>\n",
       "      <td>-0.141874</td>\n",
       "      <td>(3,) array</td>\n",
       "    </tr>\n",
       "    <tr>\n",
       "      <th>28</th>\n",
       "      <td>1</td>\n",
       "      <td>29</td>\n",
       "      <td>514.212769</td>\n",
       "      <td>873.523499</td>\n",
       "      <td>0.000000</td>\n",
       "      <td>1</td>\n",
       "      <td>1</td>\n",
       "      <td>5</td>\n",
       "      <td>0</td>\n",
       "      <td>False</td>\n",
       "      <td>133.608261</td>\n",
       "      <td>332.508392</td>\n",
       "      <td>1.0</td>\n",
       "      <td>34252.0</td>\n",
       "      <td>-0.170464</td>\n",
       "      <td>(3,) array</td>\n",
       "    </tr>\n",
       "    <tr>\n",
       "      <th>29</th>\n",
       "      <td>1</td>\n",
       "      <td>30</td>\n",
       "      <td>512.163147</td>\n",
       "      <td>876.974243</td>\n",
       "      <td>0.000000</td>\n",
       "      <td>1</td>\n",
       "      <td>1</td>\n",
       "      <td>5</td>\n",
       "      <td>0</td>\n",
       "      <td>False</td>\n",
       "      <td>139.044708</td>\n",
       "      <td>341.304993</td>\n",
       "      <td>1.0</td>\n",
       "      <td>35153.0</td>\n",
       "      <td>-0.250910</td>\n",
       "      <td>(3,) array</td>\n",
       "    </tr>\n",
       "    <tr>\n",
       "      <th>30</th>\n",
       "      <td>1</td>\n",
       "      <td>31</td>\n",
       "      <td>513.892517</td>\n",
       "      <td>875.301819</td>\n",
       "      <td>0.000000</td>\n",
       "      <td>1</td>\n",
       "      <td>1</td>\n",
       "      <td>5</td>\n",
       "      <td>0</td>\n",
       "      <td>False</td>\n",
       "      <td>127.315109</td>\n",
       "      <td>294.806122</td>\n",
       "      <td>1.0</td>\n",
       "      <td>28938.0</td>\n",
       "      <td>-0.159277</td>\n",
       "      <td>(3,) array</td>\n",
       "    </tr>\n",
       "    <tr>\n",
       "      <th>31</th>\n",
       "      <td>1</td>\n",
       "      <td>32</td>\n",
       "      <td>513.981567</td>\n",
       "      <td>875.489868</td>\n",
       "      <td>0.000000</td>\n",
       "      <td>1</td>\n",
       "      <td>1</td>\n",
       "      <td>5</td>\n",
       "      <td>0</td>\n",
       "      <td>False</td>\n",
       "      <td>129.327820</td>\n",
       "      <td>298.931244</td>\n",
       "      <td>1.0</td>\n",
       "      <td>29984.0</td>\n",
       "      <td>-0.156164</td>\n",
       "      <td>(3,) array</td>\n",
       "    </tr>\n",
       "    <tr>\n",
       "      <th>32</th>\n",
       "      <td>1</td>\n",
       "      <td>33</td>\n",
       "      <td>513.745056</td>\n",
       "      <td>877.068115</td>\n",
       "      <td>0.000000</td>\n",
       "      <td>1</td>\n",
       "      <td>1</td>\n",
       "      <td>5</td>\n",
       "      <td>0</td>\n",
       "      <td>False</td>\n",
       "      <td>130.820938</td>\n",
       "      <td>290.749390</td>\n",
       "      <td>1.0</td>\n",
       "      <td>28993.0</td>\n",
       "      <td>-0.208903</td>\n",
       "      <td>(3,) array</td>\n",
       "    </tr>\n",
       "    <tr>\n",
       "      <th>33</th>\n",
       "      <td>1</td>\n",
       "      <td>34</td>\n",
       "      <td>513.621033</td>\n",
       "      <td>878.031433</td>\n",
       "      <td>0.000000</td>\n",
       "      <td>1</td>\n",
       "      <td>1</td>\n",
       "      <td>5</td>\n",
       "      <td>0</td>\n",
       "      <td>False</td>\n",
       "      <td>133.967880</td>\n",
       "      <td>300.985718</td>\n",
       "      <td>1.0</td>\n",
       "      <td>30672.0</td>\n",
       "      <td>-0.161239</td>\n",
       "      <td>(3,) array</td>\n",
       "    </tr>\n",
       "    <tr>\n",
       "      <th>34</th>\n",
       "      <td>1</td>\n",
       "      <td>35</td>\n",
       "      <td>513.132446</td>\n",
       "      <td>879.835083</td>\n",
       "      <td>0.000000</td>\n",
       "      <td>1</td>\n",
       "      <td>1</td>\n",
       "      <td>5</td>\n",
       "      <td>0</td>\n",
       "      <td>False</td>\n",
       "      <td>142.304123</td>\n",
       "      <td>334.059540</td>\n",
       "      <td>1.0</td>\n",
       "      <td>35103.0</td>\n",
       "      <td>-0.251591</td>\n",
       "      <td>(3,) array</td>\n",
       "    </tr>\n",
       "    <tr>\n",
       "      <th>35</th>\n",
       "      <td>1</td>\n",
       "      <td>36</td>\n",
       "      <td>514.394775</td>\n",
       "      <td>869.820068</td>\n",
       "      <td>0.000000</td>\n",
       "      <td>1</td>\n",
       "      <td>1</td>\n",
       "      <td>5</td>\n",
       "      <td>0</td>\n",
       "      <td>False</td>\n",
       "      <td>126.816910</td>\n",
       "      <td>286.337128</td>\n",
       "      <td>1.0</td>\n",
       "      <td>27520.0</td>\n",
       "      <td>-0.087186</td>\n",
       "      <td>(3,) array</td>\n",
       "    </tr>\n",
       "    <tr>\n",
       "      <th>36</th>\n",
       "      <td>1</td>\n",
       "      <td>37</td>\n",
       "      <td>513.503052</td>\n",
       "      <td>878.166260</td>\n",
       "      <td>0.000000</td>\n",
       "      <td>1</td>\n",
       "      <td>1</td>\n",
       "      <td>5</td>\n",
       "      <td>0</td>\n",
       "      <td>False</td>\n",
       "      <td>123.607513</td>\n",
       "      <td>249.035172</td>\n",
       "      <td>1.0</td>\n",
       "      <td>23864.0</td>\n",
       "      <td>-0.205382</td>\n",
       "      <td>(3,) array</td>\n",
       "    </tr>\n",
       "    <tr>\n",
       "      <th>37</th>\n",
       "      <td>1</td>\n",
       "      <td>38</td>\n",
       "      <td>505.858978</td>\n",
       "      <td>890.621887</td>\n",
       "      <td>0.000000</td>\n",
       "      <td>1</td>\n",
       "      <td>1</td>\n",
       "      <td>5</td>\n",
       "      <td>0</td>\n",
       "      <td>False</td>\n",
       "      <td>218.048462</td>\n",
       "      <td>477.828339</td>\n",
       "      <td>1.0</td>\n",
       "      <td>42984.0</td>\n",
       "      <td>-0.609963</td>\n",
       "      <td>(3,) array</td>\n",
       "    </tr>\n",
       "    <tr>\n",
       "      <th>38</th>\n",
       "      <td>1</td>\n",
       "      <td>39</td>\n",
       "      <td>513.627930</td>\n",
       "      <td>873.371033</td>\n",
       "      <td>0.000000</td>\n",
       "      <td>1</td>\n",
       "      <td>1</td>\n",
       "      <td>5</td>\n",
       "      <td>0</td>\n",
       "      <td>False</td>\n",
       "      <td>108.662415</td>\n",
       "      <td>239.169434</td>\n",
       "      <td>1.0</td>\n",
       "      <td>20075.0</td>\n",
       "      <td>-0.221568</td>\n",
       "      <td>(3,) array</td>\n",
       "    </tr>\n",
       "    <tr>\n",
       "      <th>39</th>\n",
       "      <td>1</td>\n",
       "      <td>40</td>\n",
       "      <td>511.558685</td>\n",
       "      <td>883.503906</td>\n",
       "      <td>0.000000</td>\n",
       "      <td>1</td>\n",
       "      <td>1</td>\n",
       "      <td>5</td>\n",
       "      <td>0</td>\n",
       "      <td>False</td>\n",
       "      <td>116.502693</td>\n",
       "      <td>264.681458</td>\n",
       "      <td>1.0</td>\n",
       "      <td>24094.0</td>\n",
       "      <td>-0.233790</td>\n",
       "      <td>(3,) array</td>\n",
       "    </tr>\n",
       "    <tr>\n",
       "      <th>40</th>\n",
       "      <td>1</td>\n",
       "      <td>42</td>\n",
       "      <td>513.170959</td>\n",
       "      <td>875.774048</td>\n",
       "      <td>0.000000</td>\n",
       "      <td>1</td>\n",
       "      <td>1</td>\n",
       "      <td>5</td>\n",
       "      <td>0</td>\n",
       "      <td>False</td>\n",
       "      <td>117.558777</td>\n",
       "      <td>226.287064</td>\n",
       "      <td>1.0</td>\n",
       "      <td>20793.0</td>\n",
       "      <td>-0.132572</td>\n",
       "      <td>(3,) array</td>\n",
       "    </tr>\n",
       "    <tr>\n",
       "      <th>41</th>\n",
       "      <td>1</td>\n",
       "      <td>43</td>\n",
       "      <td>511.865662</td>\n",
       "      <td>880.878723</td>\n",
       "      <td>0.000000</td>\n",
       "      <td>1</td>\n",
       "      <td>1</td>\n",
       "      <td>5</td>\n",
       "      <td>0</td>\n",
       "      <td>False</td>\n",
       "      <td>115.028381</td>\n",
       "      <td>248.110229</td>\n",
       "      <td>1.0</td>\n",
       "      <td>22101.0</td>\n",
       "      <td>-0.193689</td>\n",
       "      <td>(3,) array</td>\n",
       "    </tr>\n",
       "    <tr>\n",
       "      <th>42</th>\n",
       "      <td>1</td>\n",
       "      <td>44</td>\n",
       "      <td>512.827576</td>\n",
       "      <td>870.900696</td>\n",
       "      <td>0.000000</td>\n",
       "      <td>1</td>\n",
       "      <td>1</td>\n",
       "      <td>5</td>\n",
       "      <td>0</td>\n",
       "      <td>False</td>\n",
       "      <td>119.035049</td>\n",
       "      <td>228.479782</td>\n",
       "      <td>1.0</td>\n",
       "      <td>21033.0</td>\n",
       "      <td>-0.197741</td>\n",
       "      <td>(3,) array</td>\n",
       "    </tr>\n",
       "    <tr>\n",
       "      <th>43</th>\n",
       "      <td>1</td>\n",
       "      <td>45</td>\n",
       "      <td>512.182922</td>\n",
       "      <td>880.471008</td>\n",
       "      <td>0.000000</td>\n",
       "      <td>1</td>\n",
       "      <td>1</td>\n",
       "      <td>5</td>\n",
       "      <td>0</td>\n",
       "      <td>False</td>\n",
       "      <td>117.467300</td>\n",
       "      <td>234.584152</td>\n",
       "      <td>1.0</td>\n",
       "      <td>21064.0</td>\n",
       "      <td>-0.347877</td>\n",
       "      <td>(3,) array</td>\n",
       "    </tr>\n",
       "    <tr>\n",
       "      <th>44</th>\n",
       "      <td>1</td>\n",
       "      <td>46</td>\n",
       "      <td>516.731995</td>\n",
       "      <td>871.336731</td>\n",
       "      <td>0.000000</td>\n",
       "      <td>1</td>\n",
       "      <td>1</td>\n",
       "      <td>5</td>\n",
       "      <td>0</td>\n",
       "      <td>False</td>\n",
       "      <td>127.990501</td>\n",
       "      <td>229.036942</td>\n",
       "      <td>1.0</td>\n",
       "      <td>22736.0</td>\n",
       "      <td>-0.290509</td>\n",
       "      <td>(3,) array</td>\n",
       "    </tr>\n",
       "    <tr>\n",
       "      <th>45</th>\n",
       "      <td>1</td>\n",
       "      <td>47</td>\n",
       "      <td>511.839783</td>\n",
       "      <td>878.918701</td>\n",
       "      <td>0.000000</td>\n",
       "      <td>1</td>\n",
       "      <td>1</td>\n",
       "      <td>5</td>\n",
       "      <td>0</td>\n",
       "      <td>False</td>\n",
       "      <td>119.333786</td>\n",
       "      <td>218.648590</td>\n",
       "      <td>1.0</td>\n",
       "      <td>20469.0</td>\n",
       "      <td>-0.267666</td>\n",
       "      <td>(3,) array</td>\n",
       "    </tr>\n",
       "    <tr>\n",
       "      <th>46</th>\n",
       "      <td>1</td>\n",
       "      <td>48</td>\n",
       "      <td>511.567291</td>\n",
       "      <td>881.167358</td>\n",
       "      <td>0.000000</td>\n",
       "      <td>1</td>\n",
       "      <td>1</td>\n",
       "      <td>5</td>\n",
       "      <td>0</td>\n",
       "      <td>False</td>\n",
       "      <td>125.188324</td>\n",
       "      <td>233.122803</td>\n",
       "      <td>1.0</td>\n",
       "      <td>22778.0</td>\n",
       "      <td>-0.309109</td>\n",
       "      <td>(3,) array</td>\n",
       "    </tr>\n",
       "    <tr>\n",
       "      <th>47</th>\n",
       "      <td>1</td>\n",
       "      <td>49</td>\n",
       "      <td>511.822083</td>\n",
       "      <td>882.407288</td>\n",
       "      <td>0.495980</td>\n",
       "      <td>1</td>\n",
       "      <td>1</td>\n",
       "      <td>5</td>\n",
       "      <td>0</td>\n",
       "      <td>True</td>\n",
       "      <td>NaN</td>\n",
       "      <td>NaN</td>\n",
       "      <td>NaN</td>\n",
       "      <td>NaN</td>\n",
       "      <td>NaN</td>\n",
       "      <td>(3,) array</td>\n",
       "    </tr>\n",
       "    <tr>\n",
       "      <th>48</th>\n",
       "      <td>1</td>\n",
       "      <td>50</td>\n",
       "      <td>515.826355</td>\n",
       "      <td>875.648254</td>\n",
       "      <td>0.000000</td>\n",
       "      <td>1</td>\n",
       "      <td>1</td>\n",
       "      <td>5</td>\n",
       "      <td>0</td>\n",
       "      <td>False</td>\n",
       "      <td>136.947357</td>\n",
       "      <td>294.634521</td>\n",
       "      <td>1.0</td>\n",
       "      <td>30660.0</td>\n",
       "      <td>-0.106276</td>\n",
       "      <td>(3,) array</td>\n",
       "    </tr>\n",
       "    <tr>\n",
       "      <th>49</th>\n",
       "      <td>1</td>\n",
       "      <td>51</td>\n",
       "      <td>516.871948</td>\n",
       "      <td>862.935852</td>\n",
       "      <td>0.000000</td>\n",
       "      <td>1</td>\n",
       "      <td>1</td>\n",
       "      <td>5</td>\n",
       "      <td>0</td>\n",
       "      <td>False</td>\n",
       "      <td>137.593201</td>\n",
       "      <td>223.646561</td>\n",
       "      <td>1.0</td>\n",
       "      <td>23771.0</td>\n",
       "      <td>-0.308520</td>\n",
       "      <td>(3,) array</td>\n",
       "    </tr>\n",
       "    <tr>\n",
       "      <th>50</th>\n",
       "      <td>1</td>\n",
       "      <td>52</td>\n",
       "      <td>518.336182</td>\n",
       "      <td>864.690857</td>\n",
       "      <td>0.000000</td>\n",
       "      <td>1</td>\n",
       "      <td>1</td>\n",
       "      <td>5</td>\n",
       "      <td>0</td>\n",
       "      <td>False</td>\n",
       "      <td>149.109528</td>\n",
       "      <td>231.407990</td>\n",
       "      <td>1.0</td>\n",
       "      <td>26822.0</td>\n",
       "      <td>-0.156843</td>\n",
       "      <td>(3,) array</td>\n",
       "    </tr>\n",
       "    <tr>\n",
       "      <th>51</th>\n",
       "      <td>1</td>\n",
       "      <td>53</td>\n",
       "      <td>518.986328</td>\n",
       "      <td>859.139648</td>\n",
       "      <td>0.000000</td>\n",
       "      <td>1</td>\n",
       "      <td>1</td>\n",
       "      <td>5</td>\n",
       "      <td>0</td>\n",
       "      <td>False</td>\n",
       "      <td>129.462982</td>\n",
       "      <td>226.003998</td>\n",
       "      <td>1.0</td>\n",
       "      <td>22927.0</td>\n",
       "      <td>-0.229714</td>\n",
       "      <td>(3,) array</td>\n",
       "    </tr>\n",
       "    <tr>\n",
       "      <th>52</th>\n",
       "      <td>1</td>\n",
       "      <td>54</td>\n",
       "      <td>520.680969</td>\n",
       "      <td>853.600647</td>\n",
       "      <td>0.000000</td>\n",
       "      <td>1</td>\n",
       "      <td>1</td>\n",
       "      <td>5</td>\n",
       "      <td>0</td>\n",
       "      <td>False</td>\n",
       "      <td>137.140625</td>\n",
       "      <td>230.764420</td>\n",
       "      <td>1.0</td>\n",
       "      <td>24458.0</td>\n",
       "      <td>-0.359794</td>\n",
       "      <td>(3,) array</td>\n",
       "    </tr>\n",
       "    <tr>\n",
       "      <th>53</th>\n",
       "      <td>1</td>\n",
       "      <td>55</td>\n",
       "      <td>520.836243</td>\n",
       "      <td>852.021057</td>\n",
       "      <td>0.000000</td>\n",
       "      <td>1</td>\n",
       "      <td>1</td>\n",
       "      <td>5</td>\n",
       "      <td>0</td>\n",
       "      <td>False</td>\n",
       "      <td>125.119164</td>\n",
       "      <td>254.047043</td>\n",
       "      <td>1.0</td>\n",
       "      <td>24666.0</td>\n",
       "      <td>-0.247628</td>\n",
       "      <td>(3,) array</td>\n",
       "    </tr>\n",
       "    <tr>\n",
       "      <th>54</th>\n",
       "      <td>1</td>\n",
       "      <td>56</td>\n",
       "      <td>521.946716</td>\n",
       "      <td>848.378601</td>\n",
       "      <td>0.000000</td>\n",
       "      <td>1</td>\n",
       "      <td>1</td>\n",
       "      <td>5</td>\n",
       "      <td>0</td>\n",
       "      <td>False</td>\n",
       "      <td>123.765259</td>\n",
       "      <td>257.686249</td>\n",
       "      <td>1.0</td>\n",
       "      <td>24836.0</td>\n",
       "      <td>-0.215144</td>\n",
       "      <td>(3,) array</td>\n",
       "    </tr>\n",
       "    <tr>\n",
       "      <th>55</th>\n",
       "      <td>1</td>\n",
       "      <td>57</td>\n",
       "      <td>523.309692</td>\n",
       "      <td>844.450195</td>\n",
       "      <td>0.000000</td>\n",
       "      <td>1</td>\n",
       "      <td>1</td>\n",
       "      <td>5</td>\n",
       "      <td>0</td>\n",
       "      <td>False</td>\n",
       "      <td>121.738403</td>\n",
       "      <td>230.414566</td>\n",
       "      <td>1.0</td>\n",
       "      <td>21839.0</td>\n",
       "      <td>-0.277976</td>\n",
       "      <td>(3,) array</td>\n",
       "    </tr>\n",
       "    <tr>\n",
       "      <th>56</th>\n",
       "      <td>1</td>\n",
       "      <td>58</td>\n",
       "      <td>523.087891</td>\n",
       "      <td>846.409485</td>\n",
       "      <td>0.000000</td>\n",
       "      <td>1</td>\n",
       "      <td>1</td>\n",
       "      <td>5</td>\n",
       "      <td>0</td>\n",
       "      <td>False</td>\n",
       "      <td>150.722778</td>\n",
       "      <td>233.592102</td>\n",
       "      <td>1.0</td>\n",
       "      <td>26879.0</td>\n",
       "      <td>-0.224927</td>\n",
       "      <td>(3,) array</td>\n",
       "    </tr>\n",
       "    <tr>\n",
       "      <th>57</th>\n",
       "      <td>1</td>\n",
       "      <td>59</td>\n",
       "      <td>522.027222</td>\n",
       "      <td>850.193665</td>\n",
       "      <td>0.000000</td>\n",
       "      <td>1</td>\n",
       "      <td>1</td>\n",
       "      <td>5</td>\n",
       "      <td>0</td>\n",
       "      <td>False</td>\n",
       "      <td>123.367989</td>\n",
       "      <td>349.738617</td>\n",
       "      <td>1.0</td>\n",
       "      <td>33144.0</td>\n",
       "      <td>-0.205168</td>\n",
       "      <td>(3,) array</td>\n",
       "    </tr>\n",
       "    <tr>\n",
       "      <th>58</th>\n",
       "      <td>1</td>\n",
       "      <td>60</td>\n",
       "      <td>524.570618</td>\n",
       "      <td>844.339417</td>\n",
       "      <td>0.000000</td>\n",
       "      <td>1</td>\n",
       "      <td>1</td>\n",
       "      <td>5</td>\n",
       "      <td>0</td>\n",
       "      <td>False</td>\n",
       "      <td>112.754120</td>\n",
       "      <td>243.553925</td>\n",
       "      <td>1.0</td>\n",
       "      <td>21339.0</td>\n",
       "      <td>-0.361101</td>\n",
       "      <td>(3,) array</td>\n",
       "    </tr>\n",
       "    <tr>\n",
       "      <th>59</th>\n",
       "      <td>1</td>\n",
       "      <td>61</td>\n",
       "      <td>523.070190</td>\n",
       "      <td>838.837769</td>\n",
       "      <td>0.000000</td>\n",
       "      <td>1</td>\n",
       "      <td>1</td>\n",
       "      <td>5</td>\n",
       "      <td>0</td>\n",
       "      <td>False</td>\n",
       "      <td>160.102707</td>\n",
       "      <td>282.018341</td>\n",
       "      <td>1.0</td>\n",
       "      <td>31416.0</td>\n",
       "      <td>-0.119236</td>\n",
       "      <td>(3,) array</td>\n",
       "    </tr>\n",
       "    <tr>\n",
       "      <th>60</th>\n",
       "      <td>1</td>\n",
       "      <td>62</td>\n",
       "      <td>523.416809</td>\n",
       "      <td>839.090454</td>\n",
       "      <td>0.000000</td>\n",
       "      <td>1</td>\n",
       "      <td>1</td>\n",
       "      <td>5</td>\n",
       "      <td>0</td>\n",
       "      <td>False</td>\n",
       "      <td>146.469574</td>\n",
       "      <td>245.348480</td>\n",
       "      <td>1.0</td>\n",
       "      <td>25894.0</td>\n",
       "      <td>-0.199743</td>\n",
       "      <td>(3,) array</td>\n",
       "    </tr>\n",
       "    <tr>\n",
       "      <th>61</th>\n",
       "      <td>1</td>\n",
       "      <td>63</td>\n",
       "      <td>522.844849</td>\n",
       "      <td>845.718262</td>\n",
       "      <td>0.000000</td>\n",
       "      <td>1</td>\n",
       "      <td>1</td>\n",
       "      <td>5</td>\n",
       "      <td>0</td>\n",
       "      <td>False</td>\n",
       "      <td>116.888718</td>\n",
       "      <td>316.395386</td>\n",
       "      <td>1.0</td>\n",
       "      <td>27244.0</td>\n",
       "      <td>-0.387361</td>\n",
       "      <td>(3,) array</td>\n",
       "    </tr>\n",
       "    <tr>\n",
       "      <th>62</th>\n",
       "      <td>1</td>\n",
       "      <td>64</td>\n",
       "      <td>525.962830</td>\n",
       "      <td>842.407654</td>\n",
       "      <td>0.000000</td>\n",
       "      <td>1</td>\n",
       "      <td>1</td>\n",
       "      <td>5</td>\n",
       "      <td>0</td>\n",
       "      <td>False</td>\n",
       "      <td>121.609650</td>\n",
       "      <td>251.343033</td>\n",
       "      <td>1.0</td>\n",
       "      <td>23532.0</td>\n",
       "      <td>-0.354956</td>\n",
       "      <td>(3,) array</td>\n",
       "    </tr>\n",
       "    <tr>\n",
       "      <th>63</th>\n",
       "      <td>1</td>\n",
       "      <td>65</td>\n",
       "      <td>525.362549</td>\n",
       "      <td>843.634094</td>\n",
       "      <td>0.000000</td>\n",
       "      <td>1</td>\n",
       "      <td>1</td>\n",
       "      <td>5</td>\n",
       "      <td>0</td>\n",
       "      <td>False</td>\n",
       "      <td>122.595947</td>\n",
       "      <td>297.906494</td>\n",
       "      <td>1.0</td>\n",
       "      <td>27840.0</td>\n",
       "      <td>-0.309988</td>\n",
       "      <td>(3,) array</td>\n",
       "    </tr>\n",
       "    <tr>\n",
       "      <th>64</th>\n",
       "      <td>1</td>\n",
       "      <td>66</td>\n",
       "      <td>526.748596</td>\n",
       "      <td>842.475830</td>\n",
       "      <td>0.000000</td>\n",
       "      <td>1</td>\n",
       "      <td>1</td>\n",
       "      <td>5</td>\n",
       "      <td>0</td>\n",
       "      <td>False</td>\n",
       "      <td>131.313309</td>\n",
       "      <td>255.229095</td>\n",
       "      <td>1.0</td>\n",
       "      <td>25520.0</td>\n",
       "      <td>-0.373075</td>\n",
       "      <td>(3,) array</td>\n",
       "    </tr>\n",
       "    <tr>\n",
       "      <th>65</th>\n",
       "      <td>1</td>\n",
       "      <td>67</td>\n",
       "      <td>527.200500</td>\n",
       "      <td>845.965881</td>\n",
       "      <td>0.000000</td>\n",
       "      <td>1</td>\n",
       "      <td>1</td>\n",
       "      <td>5</td>\n",
       "      <td>0</td>\n",
       "      <td>False</td>\n",
       "      <td>138.810364</td>\n",
       "      <td>270.402313</td>\n",
       "      <td>1.0</td>\n",
       "      <td>28918.0</td>\n",
       "      <td>-0.291208</td>\n",
       "      <td>(3,) array</td>\n",
       "    </tr>\n",
       "    <tr>\n",
       "      <th>66</th>\n",
       "      <td>1</td>\n",
       "      <td>68</td>\n",
       "      <td>526.729248</td>\n",
       "      <td>843.555664</td>\n",
       "      <td>0.000000</td>\n",
       "      <td>1</td>\n",
       "      <td>1</td>\n",
       "      <td>5</td>\n",
       "      <td>0</td>\n",
       "      <td>False</td>\n",
       "      <td>131.357971</td>\n",
       "      <td>290.928223</td>\n",
       "      <td>1.0</td>\n",
       "      <td>27668.0</td>\n",
       "      <td>-0.404710</td>\n",
       "      <td>(3,) array</td>\n",
       "    </tr>\n",
       "    <tr>\n",
       "      <th>67</th>\n",
       "      <td>1</td>\n",
       "      <td>69</td>\n",
       "      <td>525.619141</td>\n",
       "      <td>845.901672</td>\n",
       "      <td>0.000000</td>\n",
       "      <td>1</td>\n",
       "      <td>1</td>\n",
       "      <td>5</td>\n",
       "      <td>0</td>\n",
       "      <td>False</td>\n",
       "      <td>130.791611</td>\n",
       "      <td>328.738220</td>\n",
       "      <td>1.0</td>\n",
       "      <td>30423.0</td>\n",
       "      <td>-0.355197</td>\n",
       "      <td>(3,) array</td>\n",
       "    </tr>\n",
       "    <tr>\n",
       "      <th>68</th>\n",
       "      <td>1</td>\n",
       "      <td>70</td>\n",
       "      <td>526.011353</td>\n",
       "      <td>846.571777</td>\n",
       "      <td>0.000000</td>\n",
       "      <td>1</td>\n",
       "      <td>1</td>\n",
       "      <td>5</td>\n",
       "      <td>0</td>\n",
       "      <td>False</td>\n",
       "      <td>123.927399</td>\n",
       "      <td>284.666992</td>\n",
       "      <td>1.0</td>\n",
       "      <td>25142.0</td>\n",
       "      <td>-0.402709</td>\n",
       "      <td>(3,) array</td>\n",
       "    </tr>\n",
       "    <tr>\n",
       "      <th>69</th>\n",
       "      <td>1</td>\n",
       "      <td>71</td>\n",
       "      <td>524.708801</td>\n",
       "      <td>847.689758</td>\n",
       "      <td>0.000000</td>\n",
       "      <td>1</td>\n",
       "      <td>1</td>\n",
       "      <td>5</td>\n",
       "      <td>0</td>\n",
       "      <td>False</td>\n",
       "      <td>126.831177</td>\n",
       "      <td>272.838043</td>\n",
       "      <td>1.0</td>\n",
       "      <td>25147.0</td>\n",
       "      <td>-0.409605</td>\n",
       "      <td>(3,) array</td>\n",
       "    </tr>\n",
       "    <tr>\n",
       "      <th>70</th>\n",
       "      <td>1</td>\n",
       "      <td>72</td>\n",
       "      <td>524.800598</td>\n",
       "      <td>849.129272</td>\n",
       "      <td>0.000000</td>\n",
       "      <td>1</td>\n",
       "      <td>1</td>\n",
       "      <td>5</td>\n",
       "      <td>0</td>\n",
       "      <td>False</td>\n",
       "      <td>125.489853</td>\n",
       "      <td>265.096222</td>\n",
       "      <td>1.0</td>\n",
       "      <td>24532.0</td>\n",
       "      <td>-0.463031</td>\n",
       "      <td>(3,) array</td>\n",
       "    </tr>\n",
       "    <tr>\n",
       "      <th>71</th>\n",
       "      <td>1</td>\n",
       "      <td>73</td>\n",
       "      <td>524.987671</td>\n",
       "      <td>848.533813</td>\n",
       "      <td>0.000000</td>\n",
       "      <td>1</td>\n",
       "      <td>1</td>\n",
       "      <td>5</td>\n",
       "      <td>0</td>\n",
       "      <td>False</td>\n",
       "      <td>124.751350</td>\n",
       "      <td>262.038147</td>\n",
       "      <td>1.0</td>\n",
       "      <td>24277.0</td>\n",
       "      <td>-0.422368</td>\n",
       "      <td>(3,) array</td>\n",
       "    </tr>\n",
       "    <tr>\n",
       "      <th>72</th>\n",
       "      <td>1</td>\n",
       "      <td>74</td>\n",
       "      <td>524.805664</td>\n",
       "      <td>849.218445</td>\n",
       "      <td>0.000000</td>\n",
       "      <td>1</td>\n",
       "      <td>1</td>\n",
       "      <td>5</td>\n",
       "      <td>0</td>\n",
       "      <td>False</td>\n",
       "      <td>127.714394</td>\n",
       "      <td>281.560699</td>\n",
       "      <td>1.0</td>\n",
       "      <td>26507.0</td>\n",
       "      <td>-0.379719</td>\n",
       "      <td>(3,) array</td>\n",
       "    </tr>\n",
       "  </tbody>\n",
       "</table>"
      ],
      "text/plain": [
       "OrderedDict([('ID', 1), ('t', [0, 1, 2, 3, 4, 5, 6, 7, 8, 9, 10, 11, 12, 13, 14, 15, 17, 18, 19, 20, 21, 22, 23, 24, 25, 26, 27, 28, 29, 30, 31, 32, 33, 34, 35, 36, 37, 38, 39, 40, 42, 43, 44, 45, 46, 47, 48, 49, 50, 51, 52, 53, 54, 55, 56, 57, 58, 59, 60, 61, 62, 63, 64, 65, 66, 67, 68, 69, 70, 71, 72, 73, 74]), ('x', [519.922607421875, 522.2908325195312, 524.3362426757812, 516.9524536132812, 521.9474487304688, 523.2775268554688, 521.0435180664062, 522.131591796875, 518.1355590820312, 516.4017333984375, 516.8386840820312, 510.96124267578125, 514.7393798828125, 519.3414306640625, 510.5790710449219, 519.5509643554688, 515.0546875, 517.746826171875, 519.9436645507812, 521.177978515625, 516.2952880859375, 513.5715942382812, 513.7161254882812, 511.1298828125, 511.8273010253906, 512.0776977539062, 514.15380859375, 515.68798828125, 514.2127685546875, 512.1631469726562, 513.8925170898438, 513.9815673828125, 513.7450561523438, 513.6210327148438, 513.1324462890625, 514.394775390625, 513.5030517578125, 505.8589782714844, 513.6279296875, 511.5586853027344, 513.1709594726562, 511.86566162109375, 512.8275756835938, 512.1829223632812, 516.7319946289062, 511.83978271484375, 511.5672912597656, 511.82208251953125, 515.8263549804688, 516.8719482421875, 518.336181640625, 518.986328125, 520.6809692382812, 520.8362426757812, 521.9467163085938, 523.3096923828125, 523.087890625, 522.0272216796875, 524.5706176757812, 523.0701904296875, 523.4168090820312, 522.8448486328125, 525.9628295898438, 525.362548828125, 526.7485961914062, 527.2005004882812, 526.729248046875, 525.619140625, 526.0113525390625, 524.7088012695312, 524.8005981445312, 524.9876708984375, 524.8056640625]), ('y', [876.7796020507812, 876.766357421875, 874.5631103515625, 876.6567993164062, 880.9093627929688, 878.4262084960938, 877.680419921875, 878.283935546875, 877.7705688476562, 876.4795532226562, 878.2958374023438, 873.4166259765625, 871.3798217773438, 881.3468627929688, 865.5582885742188, 879.585693359375, 868.8734130859375, 869.9151611328125, 868.029296875, 869.9688720703125, 872.3433837890625, 876.2792358398438, 873.4845581054688, 872.6626586914062, 872.7247924804688, 872.6204833984375, 870.4144287109375, 870.6860961914062, 873.5234985351562, 876.9742431640625, 875.3018188476562, 875.4898681640625, 877.068115234375, 878.0314331054688, 879.8350830078125, 869.820068359375, 878.166259765625, 890.6218872070312, 873.3710327148438, 883.50390625, 875.7740478515625, 880.8787231445312, 870.9006958007812, 880.4710083007812, 871.3367309570312, 878.918701171875, 881.1673583984375, 882.4072875976562, 875.6482543945312, 862.9358520507812, 864.6908569335938, 859.1396484375, 853.6006469726562, 852.0210571289062, 848.3786010742188, 844.4501953125, 846.4094848632812, 850.1936645507812, 844.3394165039062, 838.8377685546875, 839.0904541015625, 845.71826171875, 842.4076538085938, 843.6340942382812, 842.475830078125, 845.9658813476562, 843.5556640625, 845.9016723632812, 846.57177734375, 847.6897583007812, 849.1292724609375, 848.5338134765625, 849.2184448242188]), ('z', [0.0, 0.0, 0.0, 0.0, 0.0, 0.0, 0.0, 0.0, 0.0, -1.3145259618759155, 0.0, 0.0, 0.0, 0.0, 0.0, 0.0, 0.0, 0.0, 0.0, 0.0, 0.0, 0.0, 0.0, 0.0, 0.0, 0.0, 0.0, 0.0, 0.0, 0.0, 0.0, 0.0, 0.0, 0.0, 0.0, 0.0, 0.0, 0.0, 0.0, 0.0, 0.0, 0.0, 0.0, 0.0, 0.0, 0.0, 0.0, 0.49598029255867004, 0.0, 0.0, 0.0, 0.0, 0.0, 0.0, 0.0, 0.0, 0.0, 0.0, 0.0, 0.0, 0.0, 0.0, 0.0, 0.0, 0.0, 0.0, 0.0, 0.0, 0.0, 0.0, 0.0, 0.0, 0.0]), ('parent', 1), ('root', 1), ('state', [5, 5, 5, 5, 5, 5, 5, 5, 5, 5, 5, 5, 5, 5, 5, 5, 5, 5, 5, 5, 5, 5, 5, 5, 5, 5, 5, 5, 5, 5, 5, 5, 5, 5, 5, 5, 5, 5, 5, 5, 5, 5, 5, 5, 5, 5, 5, 5, 5, 5, 5, 5, 5, 5, 5, 5, 5, 5, 5, 5, 5, 5, 5, 5, 5, 5, 5, 5, 5, 5, 5, 5, 5]), ('generation', 0), ('dummy', [False, False, False, False, False, False, False, False, False, True, False, False, False, False, False, False, False, False, False, False, False, False, False, False, False, False, False, False, False, False, False, False, False, False, False, False, False, False, False, False, False, False, False, False, False, False, False, True, False, False, False, False, False, False, False, False, False, False, False, False, False, False, False, False, False, False, False, False, False, False, False, False, False]), ('minor_axis_length', array([139.33825684, 133.21487427, 130.52757263, 151.44952393,\n",
       "       170.01368713, 124.44805908, 110.17655182, 112.95407104,\n",
       "       123.69232178,          nan, 148.84461975, 150.77120972,\n",
       "       145.6338501 , 187.71206665, 125.11367035, 135.76106262,\n",
       "       126.04019165, 176.72895813, 174.14181519, 153.8250885 ,\n",
       "       159.3914032 , 140.72593689, 136.85253906, 160.95903015,\n",
       "       134.2951355 , 133.44015503, 132.59109497, 165.27607727,\n",
       "       133.60826111, 139.04470825, 127.31510925, 129.32781982,\n",
       "       130.82093811, 133.96788025, 142.30412292, 126.81690979,\n",
       "       123.60751343, 218.04846191, 108.66241455, 116.50269318,\n",
       "       117.55877686, 115.02838135, 119.03504944, 117.46730042,\n",
       "       127.9905014 , 119.33378601, 125.18832397,          nan,\n",
       "       136.94735718, 137.59320068, 149.10952759, 129.46298218,\n",
       "       137.140625  , 125.11916351, 123.76525879, 121.73840332,\n",
       "       150.72277832, 123.36798859, 112.75411987, 160.10270691,\n",
       "       146.46957397, 116.88871765, 121.60964966, 122.59594727,\n",
       "       131.31330872, 138.81036377, 131.35797119, 130.79161072,\n",
       "       123.92739868, 126.83117676, 125.48985291, 124.7513504 ,\n",
       "       127.71439362])), ('major_axis_length', array([272.30010986, 251.29428101, 256.21347046, 221.05055237,\n",
       "       200.57981873, 217.37719727, 147.96630859, 165.0803833 ,\n",
       "       160.64631653,          nan, 165.88566589, 293.27584839,\n",
       "       248.30084229, 303.56027222, 347.57397461, 363.0302124 ,\n",
       "       287.97003174, 279.73718262, 231.37483215, 187.18395996,\n",
       "       238.25561523, 290.73596191, 297.44778442, 395.59552002,\n",
       "       375.87353516, 383.2442627 , 390.87509155, 376.70910645,\n",
       "       332.50839233, 341.30499268, 294.80612183, 298.9312439 ,\n",
       "       290.74938965, 300.98571777, 334.05953979, 286.33712769,\n",
       "       249.03517151, 477.82833862, 239.16943359, 264.68145752,\n",
       "       226.2870636 , 248.11022949, 228.4797821 , 234.58415222,\n",
       "       229.03694153, 218.64859009, 233.12280273,          nan,\n",
       "       294.63452148, 223.64656067, 231.4079895 , 226.0039978 ,\n",
       "       230.76441956, 254.04704285, 257.68624878, 230.41456604,\n",
       "       233.59210205, 349.73861694, 243.55392456, 282.01834106,\n",
       "       245.34848022, 316.39538574, 251.34303284, 297.90649414,\n",
       "       255.22909546, 270.40231323, 290.92822266, 328.73822021,\n",
       "       284.66699219, 272.83804321, 265.09622192, 262.03814697,\n",
       "       281.56069946])), ('Infected', array([ 1.,  1.,  1.,  1.,  1.,  1.,  1.,  1.,  1., nan,  1.,  1.,  1.,\n",
       "        1.,  1.,  1.,  1.,  1.,  1.,  1.,  1.,  1.,  1.,  1.,  1.,  1.,\n",
       "        1.,  1.,  1.,  1.,  1.,  1.,  1.,  1.,  1.,  1.,  1.,  1.,  1.,\n",
       "        1.,  1.,  1.,  1.,  1.,  1.,  1.,  1., nan,  1.,  1.,  1.,  1.,\n",
       "        1.,  1.,  1.,  1.,  1.,  1.,  1.,  1.,  1.,  1.,  1.,  1.,  1.,\n",
       "        1.,  1.,  1.,  1.,  1.,  1.,  1.,  1.])), ('area', array([29567., 26181., 26043., 25605., 26430., 21047., 12742., 14611.,\n",
       "       15471.,    nan, 19264., 30042., 25870., 40388., 32405., 37074.,\n",
       "       27854., 36877., 29594., 22534., 29746., 31081., 29857., 43822.,\n",
       "       38123., 37530., 39385., 44539., 34252., 35153., 28938., 29984.,\n",
       "       28993., 30672., 35103., 27520., 23864., 42984., 20075., 24094.,\n",
       "       20793., 22101., 21033., 21064., 22736., 20469., 22778.,    nan,\n",
       "       30660., 23771., 26822., 22927., 24458., 24666., 24836., 21839.,\n",
       "       26879., 33144., 21339., 31416., 25894., 27244., 23532., 27840.,\n",
       "       25520., 28918., 27668., 30423., 25142., 25147., 24532., 24277.,\n",
       "       26507.])), ('orientation', array([-1.25960875, -1.24770272, -1.22079802, -1.21304572,  1.5401566 ,\n",
       "       -1.1956079 , -1.19376528, -1.56507802, -1.518471  ,         nan,\n",
       "       -0.19914897,  0.35395384,  0.45428783,  0.52655977,  0.49010727,\n",
       "        0.59712398,  0.47397444,  0.46279034,  0.45032102,  1.04387987,\n",
       "       -0.14614031, -0.24636853, -0.21702416, -0.12225845, -0.08835245,\n",
       "       -0.11408316, -0.14674494, -0.14187416, -0.1704635 , -0.25090981,\n",
       "       -0.15927739, -0.15616365, -0.20890348, -0.16123925, -0.251591  ,\n",
       "       -0.08718638, -0.20538184, -0.60996258, -0.2215679 , -0.23378995,\n",
       "       -0.13257214, -0.1936886 , -0.19774143, -0.347877  , -0.29050869,\n",
       "       -0.26766619, -0.30910856,         nan, -0.10627609, -0.30852032,\n",
       "       -0.1568429 , -0.22971441, -0.35979381, -0.247628  , -0.21514417,\n",
       "       -0.27797562, -0.22492681, -0.20516753, -0.361101  , -0.11923638,\n",
       "       -0.19974314, -0.3873609 , -0.35495615, -0.30998757, -0.3730748 ,\n",
       "       -0.29120818, -0.40470996, -0.35519743, -0.40270901, -0.40960515,\n",
       "       -0.46303052, -0.42236823, -0.37971881])), ('mean_intensity', array([[2220.02539062,  473.16897583,  167.32542419],\n",
       "       [2549.69238281,  498.70181274,  202.66197205],\n",
       "       [2653.45874023,  502.46835327,  210.38287354],\n",
       "       [2736.91162109,  501.90518188,  212.07096863],\n",
       "       [2490.94726562,  502.56442261,  204.56584167],\n",
       "       [2874.94213867,  491.78152466,  194.77839661],\n",
       "       [3846.3269043 ,  620.78747559,  374.18365479],\n",
       "       [3843.484375  ,  589.83666992,  316.76126099],\n",
       "       [3873.73706055,  599.49688721,  326.61529541],\n",
       "       [          nan,           nan,           nan],\n",
       "       [3224.58666992,  575.63549805,  312.10107422],\n",
       "       [2647.68676758,  508.27984619,  214.22186279],\n",
       "       [2830.63769531,  528.24023438,  239.4868927 ],\n",
       "       [2050.76147461,  476.90484619,  170.54632568],\n",
       "       [2425.42529297,  501.46609497,  203.90190125],\n",
       "       [2238.22875977,  491.09738159,  188.59886169],\n",
       "       [2371.50292969,  531.08093262,  241.79483032],\n",
       "       [2402.54199219,  511.90707397,  213.61198425],\n",
       "       [2430.87451172,  533.47381592,  241.08427429],\n",
       "       [2793.39550781,  584.39001465,  320.20150757],\n",
       "       [2432.38208008,  542.76135254,  255.20352173],\n",
       "       [2294.19555664,  537.85449219,  253.08126831],\n",
       "       [2591.26220703,  556.10345459,  273.29605103],\n",
       "       [1989.4407959 ,  496.21435547,  194.30897522],\n",
       "       [2041.21203613,  504.11004639,  212.14962769],\n",
       "       [2029.37207031,  516.97515869,  226.85787964],\n",
       "       [2025.37121582,  517.81201172,  218.4294281 ],\n",
       "       [1906.00964355,  503.96899414,  200.301651  ],\n",
       "       [1973.61694336,  541.12554932,  260.2779541 ],\n",
       "       [2127.53955078,  548.31408691,  263.85293579],\n",
       "       [2244.49658203,  554.28765869,  280.24133301],\n",
       "       [2414.89892578,  591.25402832,  323.30447388],\n",
       "       [2483.20092773,  598.01171875,  335.45251465],\n",
       "       [2665.25537109,  636.07000732,  360.28848267],\n",
       "       [2371.42553711,  572.82739258,  292.8288269 ],\n",
       "       [2651.85424805,  637.62097168,  385.15701294],\n",
       "       [3138.56030273,  708.34057617,  461.84780884],\n",
       "       [2490.94140625,  551.39404297,  246.57551575],\n",
       "       [3498.91235352,  799.6005249 ,  563.98480225],\n",
       "       [3145.16650391,  748.21002197,  492.35302734],\n",
       "       [3765.77636719,  838.37554932,  598.43780518],\n",
       "       [3248.64257812,  805.96124268,  565.32794189],\n",
       "       [3461.99902344,  855.81231689,  632.05560303],\n",
       "       [3416.77709961,  873.08483887,  636.90350342],\n",
       "       [3177.76049805,  818.18444824,  583.95117188],\n",
       "       [2947.17773438,  802.69439697,  574.75427246],\n",
       "       [3279.39477539,  830.68505859,  583.00854492],\n",
       "       [          nan,           nan,           nan],\n",
       "       [2895.62329102,  757.61151123,  486.33905029],\n",
       "       [2839.68969727,  794.51806641,  540.50610352],\n",
       "       [3403.66625977,  786.42431641,  534.50482178],\n",
       "       [3263.33227539,  848.36761475,  614.26806641],\n",
       "       [3127.92431641,  796.87994385,  550.92645264],\n",
       "       [3146.39990234,  864.00115967,  617.6854248 ],\n",
       "       [3052.4050293 ,  873.94134521,  633.18426514],\n",
       "       [2924.79077148,  903.44012451,  685.84796143],\n",
       "       [2972.09204102,  774.72705078,  527.86071777],\n",
       "       [3074.81738281,  758.50915527,  492.81170654],\n",
       "       [2692.50366211,  892.69702148,  687.95623779],\n",
       "       [2662.09692383,  781.77770996,  521.15081787],\n",
       "       [2697.68310547,  866.86071777,  628.9753418 ],\n",
       "       [2533.96899414,  894.78485107,  655.31091309],\n",
       "       [2669.66357422,  942.35974121,  721.11523438],\n",
       "       [2799.29443359,  927.48120117,  689.40875244],\n",
       "       [2299.09277344,  862.98364258,  634.40985107],\n",
       "       [2808.5300293 ,  906.4822998 ,  658.4776001 ],\n",
       "       [2335.39746094,  896.71026611,  663.12768555],\n",
       "       [2464.17016602,  939.39379883,  696.51586914],\n",
       "       [2736.6027832 , 1060.7869873 ,  850.66082764],\n",
       "       [2517.76806641, 1014.57299805,  803.55181885],\n",
       "       [2525.80102539, 1024.83422852,  811.44018555],\n",
       "       [2644.07885742, 1105.39599609,  912.10028076],\n",
       "       [2475.10107422, 1029.28918457,  825.16540527]]))])"
      ]
     },
     "execution_count": 158,
     "metadata": {},
     "output_type": "execute_result"
    }
   ],
   "source": [
    "[t for t in tracks if t.ID == 1][0]"
   ]
  },
  {
   "cell_type": "code",
   "execution_count": 159,
   "id": "f2e9874a-1779-4f43-99da-26b3e36c12c0",
   "metadata": {},
   "outputs": [
    {
     "data": {
      "text/plain": [
       "<Points layer 'Points [3]' at 0x7f0785e82970>"
      ]
     },
     "execution_count": 159,
     "metadata": {},
     "output_type": "execute_result"
    }
   ],
   "source": [
    "viewer.add_points((876*5.04, 519*5.04), size=100)"
   ]
  },
  {
   "cell_type": "code",
   "execution_count": 105,
   "id": "5df749d8-3bf2-4195-bda3-e1026d085468",
   "metadata": {},
   "outputs": [],
   "source": [
    "frame = segmentation[0]"
   ]
  },
  {
   "cell_type": "code",
   "execution_count": 161,
   "id": "61de7d02-99e7-4a44-aa4a-4b952b4f7226",
   "metadata": {},
   "outputs": [],
   "source": [
    "mask = frame == 423"
   ]
  },
  {
   "cell_type": "code",
   "execution_count": 162,
   "id": "10db899f-52ee-4ecb-975e-d160a6198f3d",
   "metadata": {},
   "outputs": [],
   "source": [
    "rfp_frame = images"
   ]
  },
  {
   "cell_type": "code",
   "execution_count": 163,
   "id": "e4c8fc35-9d64-43e3-bcec-c1f1f6ad9cc4",
   "metadata": {},
   "outputs": [],
   "source": [
    "masked_image = rfp_frame * mask\n"
   ]
  },
  {
   "cell_type": "code",
   "execution_count": 164,
   "id": "52aeb7b3-c473-474a-b412-f914e2f2c59c",
   "metadata": {},
   "outputs": [],
   "source": [
    "threshold = 480"
   ]
  },
  {
   "cell_type": "code",
   "execution_count": 165,
   "id": "7d368727-8d44-4656-b9b8-4ba7efb98578",
   "metadata": {},
   "outputs": [
    {
     "data": {
      "text/plain": [
       "<Image layer 'masked_image [2]' at 0x7f075b16cc10>"
      ]
     },
     "execution_count": 165,
     "metadata": {},
     "output_type": "execute_result"
    }
   ],
   "source": [
    "viewer.add_image(masked_image)"
   ]
  },
  {
   "cell_type": "code",
   "execution_count": 166,
   "id": "6c790477-47aa-497c-9c7f-d08b3c256236",
   "metadata": {},
   "outputs": [],
   "source": [
    "# Apply threshold to identify mtb region\n",
    "thresholded_masked_image = masked_image >= threshold\n",
    "\n"
   ]
  },
  {
   "cell_type": "code",
   "execution_count": 167,
   "id": "dc127808-5bcb-4329-a777-4b985f8b8de9",
   "metadata": {},
   "outputs": [],
   "source": [
    "# Calculate the area of the microtubule region\n",
    "mtb_area = np.sum(thresholded_masked_image)"
   ]
  },
  {
   "cell_type": "code",
   "execution_count": 173,
   "id": "e0154ec7-b535-42e5-ac36-57b8cb01b7eb",
   "metadata": {},
   "outputs": [
    {
     "data": {
      "text/plain": [
       "<Image layer 'thresholded_masked_image [1]' at 0x7f05e6cbd6d0>"
      ]
     },
     "execution_count": 173,
     "metadata": {},
     "output_type": "execute_result"
    }
   ],
   "source": [
    "viewer.add_image(thresholded_masked_image)"
   ]
  },
  {
   "cell_type": "code",
   "execution_count": 175,
   "id": "aff4131f-cc7d-465b-85b8-a46166fafa6f",
   "metadata": {},
   "outputs": [
    {
     "data": {
      "text/plain": [
       "5471"
      ]
     },
     "execution_count": 175,
     "metadata": {},
     "output_type": "execute_result"
    }
   ],
   "source": [
    "np.sum(thresholded_masked_image)"
   ]
  },
  {
   "cell_type": "code",
   "execution_count": 177,
   "id": "fe040cc6-2ccd-4041-a51b-4b57da0e00e3",
   "metadata": {},
   "outputs": [],
   "source": [
    "from macrohet import tools "
   ]
  },
  {
   "cell_type": "code",
   "execution_count": 178,
   "id": "18f8d867-2d5c-4c68-9fbb-b03ae8b5f04e",
   "metadata": {},
   "outputs": [],
   "source": [
    "track = [t for t in tracks if t.ID ==1][0]"
   ]
  },
  {
   "cell_type": "code",
   "execution_count": 191,
   "id": "6f8c2093-6f6a-405c-b217-b9ad6a891638",
   "metadata": {},
   "outputs": [
    {
     "ename": "NameError",
     "evalue": "name 'fake_stack' is not defined",
     "output_type": "error",
     "traceback": [
      "\u001b[0;31m---------------------------------------------------------------------------\u001b[0m",
      "\u001b[0;31mNameError\u001b[0m                                 Traceback (most recent call last)",
      "Cell \u001b[0;32mIn[191], line 1\u001b[0m\n\u001b[0;32m----> 1\u001b[0m \u001b[38;5;28;01mdel\u001b[39;00m fake_stack\n",
      "\u001b[0;31mNameError\u001b[0m: name 'fake_stack' is not defined"
     ]
    }
   ],
   "source": [
    "del fake_stack"
   ]
  },
  {
   "cell_type": "code",
   "execution_count": 179,
   "id": "f15a8ec9-a133-4318-a851-bd9c86c5fa5f",
   "metadata": {},
   "outputs": [
    {
     "name": "stdout",
     "output_type": "stream",
     "text": [
      "Help on function measure_mtb_area in module macrohet.tools:\n",
      "\n",
      "measure_mtb_area(track, masks, rfp_images, threshold=480, scale_factor=5.04, image_resolution=1.4949402023919043e-07)\n",
      "    Measures the area of a region in each frame of an image sequence.\n",
      "    \n",
      "    Parameters:\n",
      "    - track (object): An object containing tracking information with attributes 't', 'x', 'y', and 'ID'.\n",
      "    - masks (array): A numpy array representing the segmented masks of the images.\n",
      "    - rfp_images (array): A numpy array of RFP (red fluorescent protein) images.\n",
      "    - threshold (int): The intensity threshold for considering a pixel as part of the region.\n",
      "    - scale_factor (float): Factor for scaling the coordinates from the track object.\n",
      "    - image_resolution (float): The resolution of the images in pixels per meter.\n",
      "    \n",
      "    Returns:\n",
      "    - mtb_areas (list): A list of areas (in micrometers squared) of the region for each frame.\n",
      "    \n",
      "    The function iterates over each frame specified in the track object, scales the coordinates,\n",
      "    and selects the corresponding mask. If a mask exists at the specified coordinates, it calculates\n",
      "    the area of the region with intensity above the threshold in the RFP image. The area is then converted\n",
      "    from pixels to micrometers squared using the image resolution.\n",
      "\n"
     ]
    }
   ],
   "source": [
    "help(tools.measure_mtb_area)"
   ]
  },
  {
   "cell_type": "code",
   "execution_count": 185,
   "id": "2d7fe36e-7454-42c3-b685-36c72d5ae44d",
   "metadata": {},
   "outputs": [],
   "source": [
    "from tqdm.auto import tqdm"
   ]
  },
  {
   "cell_type": "code",
   "execution_count": 186,
   "id": "31afcf8b-513b-41be-a87f-bb98218864a3",
   "metadata": {},
   "outputs": [
    {
     "data": {
      "application/vnd.jupyter.widget-view+json": {
       "model_id": "adcc1ab18f2241efb3d3b9fb136b61c9",
       "version_major": 2,
       "version_minor": 0
      },
      "text/plain": [
       "  0%|          | 0/75 [00:00<?, ?it/s]"
      ]
     },
     "metadata": {},
     "output_type": "display_data"
    }
   ],
   "source": [
    "fake_stack = np.stack([rfp_frame for frame in tqdm(range(75))], axis = 0)"
   ]
  },
  {
   "cell_type": "code",
   "execution_count": 187,
   "id": "90e6b00c-1737-40d0-9820-68f4fb056e83",
   "metadata": {},
   "outputs": [
    {
     "data": {
      "application/vnd.jupyter.widget-view+json": {
       "model_id": "",
       "version_major": 2,
       "version_minor": 0
      },
      "text/plain": [
       "Calculating mtb area for every frame in track: 1:   0%|          | 0/73 [00:00<?, ?it/s]"
      ]
     },
     "metadata": {},
     "output_type": "display_data"
    }
   ],
   "source": [
    "mtb_values = tools.measure_mtb_area(track, segmentation, fake_stack)"
   ]
  },
  {
   "cell_type": "code",
   "execution_count": 189,
   "id": "5f310f19-a365-4a1f-b152-abc73e07a7e3",
   "metadata": {
    "scrolled": true
   },
   "outputs": [
    {
     "data": {
      "text/plain": [
       "122.26843607948412"
      ]
     },
     "execution_count": 189,
     "metadata": {},
     "output_type": "execute_result"
    }
   ],
   "source": [
    "mtb_values[0]"
   ]
  },
  {
   "cell_type": "code",
   "execution_count": 168,
   "id": "470d1704-703a-4f6f-99a0-77c8d7ba60d8",
   "metadata": {},
   "outputs": [
    {
     "name": "stdout",
     "output_type": "stream",
     "text": [
      "5471\n"
     ]
    }
   ],
   "source": [
    "print(mtb_area)"
   ]
  },
  {
   "cell_type": "code",
   "execution_count": 169,
   "id": "7c3f12d6-48f7-4f90-ae67-f5ee5482ae24",
   "metadata": {},
   "outputs": [],
   "source": [
    " image_resolution=1.4949402023919043e-07"
   ]
  },
  {
   "cell_type": "code",
   "execution_count": 170,
   "id": "aca135ce-8c3c-4eec-b522-082bd839c3f3",
   "metadata": {},
   "outputs": [],
   "source": [
    "# Convert the resolution to pixels per micrometer\n",
    "resolution_micrometers_per_pixel = image_resolution * 1_000_000\n",
    "\n",
    "# Convert area from pixels to micrometers squared\n",
    "mtb_area = mtb_area * (resolution_micrometers_per_pixel ** 2)"
   ]
  },
  {
   "cell_type": "code",
   "execution_count": 171,
   "id": "e682bad0-9569-4dc6-87bc-bfb5c047869e",
   "metadata": {},
   "outputs": [
    {
     "data": {
      "text/plain": [
       "0.022348462087275475"
      ]
     },
     "execution_count": 171,
     "metadata": {},
     "output_type": "execute_result"
    }
   ],
   "source": [
    "(resolution_micrometers_per_pixel ** 2)"
   ]
  },
  {
   "cell_type": "code",
   "execution_count": 172,
   "id": "e8f6aff5-96a5-4d36-a7a7-71fb46484b52",
   "metadata": {},
   "outputs": [
    {
     "data": {
      "text/plain": [
       "122.26843607948412"
      ]
     },
     "execution_count": 172,
     "metadata": {},
     "output_type": "execute_result"
    }
   ],
   "source": [
    "mtb_area"
   ]
  },
  {
   "cell_type": "code",
   "execution_count": 157,
   "id": "403235b5-69ce-44e5-be8e-6fbe707d7f10",
   "metadata": {},
   "outputs": [
    {
     "data": {
      "text/plain": [
       "2.23584903890829"
      ]
     },
     "execution_count": 157,
     "metadata": {},
     "output_type": "execute_result"
    }
   ],
   "source": [
    "mtb_area/2.368937"
   ]
  },
  {
   "cell_type": "code",
   "execution_count": 129,
   "id": "c9fc8a47-7008-4007-b132-ac3748099431",
   "metadata": {},
   "outputs": [],
   "source": [
    "manual_mask = viewer.layers['Labels'].data[0]"
   ]
  },
  {
   "cell_type": "code",
   "execution_count": 130,
   "id": "5d3514d6-5e9a-4739-9a93-4b3f85cdfa78",
   "metadata": {},
   "outputs": [
    {
     "data": {
      "text/plain": [
       "(6048, 6048)"
      ]
     },
     "execution_count": 130,
     "metadata": {},
     "output_type": "execute_result"
    }
   ],
   "source": [
    "manual_mask.shape"
   ]
  },
  {
   "cell_type": "code",
   "execution_count": 131,
   "id": "9fa445cc-c0c3-4397-aec3-d79f5e369d12",
   "metadata": {},
   "outputs": [
    {
     "data": {
      "text/plain": [
       "5817"
      ]
     },
     "execution_count": 131,
     "metadata": {},
     "output_type": "execute_result"
    }
   ],
   "source": [
    "np.sum(manual_mask)"
   ]
  },
  {
   "cell_type": "code",
   "execution_count": 25,
   "id": "edfb9a62-3556-4ef1-9edc-c7f0479b2b36",
   "metadata": {},
   "outputs": [
    {
     "data": {
      "text/plain": [
       "<Labels layer 'segmentation' at 0x7fed26e6c0d0>"
      ]
     },
     "execution_count": 25,
     "metadata": {},
     "output_type": "execute_result"
    }
   ],
   "source": [
    "# Select the corresponding frame from the masks\n",
    "frame = masks[t, ...]\n",
    "\n",
    "# Check to see if mask exists at the specified coordinates\n",
    "if frame[y, x]:\n",
    "    # Select the specific cell of interest based on the mask\n",
    "    mask = frame == frame[y, x]\n",
    "\n",
    "    # Apply mask to the corresponding RFP frame\n",
    "    rfp_frame = rfp_images[t]\n",
    "    masked_image = rfp_frame * mask\n",
    "\n",
    "    # Apply threshold to identify mtb region\n",
    "    thresholded_masked_image = masked_image >= threshold\n",
    "\n",
    "    # Calculate the area of the microtubule region\n",
    "    mtb_area = np.sum(thresholded_masked_image)\n",
    "\n",
    "    # Convert the resolution to pixels per micrometer\n",
    "    resolution_micrometers_per_pixel = image_resolution * 1_000_000\n",
    "\n",
    "    # Convert area from pixels to micrometers squared\n",
    "    mtb_area = mtb_area * (resolution_micrometers_per_pixel ** 2)\n",
    "\n",
    "    # Append the calculated area to the list\n",
    "    mtb_areas.append(mtb_area)"
   ]
  },
  {
   "cell_type": "markdown",
   "id": "a3dc303d-7f24-45e7-82a0-4e9b73c4448c",
   "metadata": {},
   "source": [
    "# Previous ND2"
   ]
  },
  {
   "cell_type": "code",
   "execution_count": 91,
   "id": "5a804a99-74e5-4ddd-ae92-80b459202255",
   "metadata": {},
   "outputs": [],
   "source": [
    "image_dir = os.path.join(base_dir, f'acquisition/zarr/{acq_ID}.zarr')\n",
    "zarr_group = zarr.open(image_dir, mode='r')"
   ]
  },
  {
   "cell_type": "markdown",
   "id": "7f403fb5-3106-402c-ae2f-c8fc1644f634",
   "metadata": {},
   "source": [
    "### Now to lazily mosaic the images using Dask prior to viewing them.\n",
    "\n",
    "1x (75,2,3) [TCZ] image stack takes approximately 1 minute to stitch together, so only load the one field of view I want."
   ]
  },
  {
   "cell_type": "code",
   "execution_count": 9,
   "id": "9742bea3-bb1a-45df-83b8-037647040c9f",
   "metadata": {},
   "outputs": [
    {
     "name": "stdout",
     "output_type": "stream",
     "text": [
      "CPU times: user 658 ms, sys: 3.96 ms, total: 662 ms\n",
      "Wall time: 670 ms\n"
     ]
    },
    {
     "data": {
      "text/html": [
       "<table>\n",
       "    <tr>\n",
       "        <td>\n",
       "            <table style=\"border-collapse: collapse;\">\n",
       "                <thead>\n",
       "                    <tr>\n",
       "                        <td> </td>\n",
       "                        <th> Array </th>\n",
       "                        <th> Chunk </th>\n",
       "                    </tr>\n",
       "                </thead>\n",
       "                <tbody>\n",
       "                    \n",
       "                    <tr>\n",
       "                        <th> Bytes </th>\n",
       "                        <td> 10.22 GiB </td>\n",
       "                        <td> 17.80 MiB </td>\n",
       "                    </tr>\n",
       "                    \n",
       "                    <tr>\n",
       "                        <th> Shape </th>\n",
       "                        <td> (75, 2, 6048, 6048) </td>\n",
       "                        <td> (1, 2, 2160, 2160) </td>\n",
       "                    </tr>\n",
       "                    <tr>\n",
       "                        <th> Dask graph </th>\n",
       "                        <td colspan=\"2\"> 675 chunks in 1805 graph layers </td>\n",
       "                    </tr>\n",
       "                    <tr>\n",
       "                        <th> Data type </th>\n",
       "                        <td colspan=\"2\"> uint16 numpy.ndarray </td>\n",
       "                    </tr>\n",
       "                </tbody>\n",
       "            </table>\n",
       "        </td>\n",
       "        <td>\n",
       "        <svg width=\"376\" height=\"184\" style=\"stroke:rgb(0,0,0);stroke-width:1\" >\n",
       "\n",
       "  <!-- Horizontal lines -->\n",
       "  <line x1=\"0\" y1=\"0\" x2=\"26\" y2=\"0\" style=\"stroke-width:2\" />\n",
       "  <line x1=\"0\" y1=\"25\" x2=\"26\" y2=\"25\" style=\"stroke-width:2\" />\n",
       "\n",
       "  <!-- Vertical lines -->\n",
       "  <line x1=\"0\" y1=\"0\" x2=\"0\" y2=\"25\" style=\"stroke-width:2\" />\n",
       "  <line x1=\"0\" y1=\"0\" x2=\"0\" y2=\"25\" />\n",
       "  <line x1=\"1\" y1=\"0\" x2=\"1\" y2=\"25\" />\n",
       "  <line x1=\"2\" y1=\"0\" x2=\"2\" y2=\"25\" />\n",
       "  <line x1=\"3\" y1=\"0\" x2=\"3\" y2=\"25\" />\n",
       "  <line x1=\"3\" y1=\"0\" x2=\"3\" y2=\"25\" />\n",
       "  <line x1=\"4\" y1=\"0\" x2=\"4\" y2=\"25\" />\n",
       "  <line x1=\"5\" y1=\"0\" x2=\"5\" y2=\"25\" />\n",
       "  <line x1=\"6\" y1=\"0\" x2=\"6\" y2=\"25\" />\n",
       "  <line x1=\"7\" y1=\"0\" x2=\"7\" y2=\"25\" />\n",
       "  <line x1=\"8\" y1=\"0\" x2=\"8\" y2=\"25\" />\n",
       "  <line x1=\"8\" y1=\"0\" x2=\"8\" y2=\"25\" />\n",
       "  <line x1=\"9\" y1=\"0\" x2=\"9\" y2=\"25\" />\n",
       "  <line x1=\"10\" y1=\"0\" x2=\"10\" y2=\"25\" />\n",
       "  <line x1=\"11\" y1=\"0\" x2=\"11\" y2=\"25\" />\n",
       "  <line x1=\"12\" y1=\"0\" x2=\"12\" y2=\"25\" />\n",
       "  <line x1=\"13\" y1=\"0\" x2=\"13\" y2=\"25\" />\n",
       "  <line x1=\"13\" y1=\"0\" x2=\"13\" y2=\"25\" />\n",
       "  <line x1=\"14\" y1=\"0\" x2=\"14\" y2=\"25\" />\n",
       "  <line x1=\"15\" y1=\"0\" x2=\"15\" y2=\"25\" />\n",
       "  <line x1=\"16\" y1=\"0\" x2=\"16\" y2=\"25\" />\n",
       "  <line x1=\"17\" y1=\"0\" x2=\"17\" y2=\"25\" />\n",
       "  <line x1=\"18\" y1=\"0\" x2=\"18\" y2=\"25\" />\n",
       "  <line x1=\"18\" y1=\"0\" x2=\"18\" y2=\"25\" />\n",
       "  <line x1=\"19\" y1=\"0\" x2=\"19\" y2=\"25\" />\n",
       "  <line x1=\"20\" y1=\"0\" x2=\"20\" y2=\"25\" />\n",
       "  <line x1=\"21\" y1=\"0\" x2=\"21\" y2=\"25\" />\n",
       "  <line x1=\"22\" y1=\"0\" x2=\"22\" y2=\"25\" />\n",
       "  <line x1=\"22\" y1=\"0\" x2=\"22\" y2=\"25\" />\n",
       "  <line x1=\"23\" y1=\"0\" x2=\"23\" y2=\"25\" />\n",
       "  <line x1=\"24\" y1=\"0\" x2=\"24\" y2=\"25\" />\n",
       "  <line x1=\"25\" y1=\"0\" x2=\"25\" y2=\"25\" />\n",
       "  <line x1=\"26\" y1=\"0\" x2=\"26\" y2=\"25\" style=\"stroke-width:2\" />\n",
       "\n",
       "  <!-- Colored Rectangle -->\n",
       "  <polygon points=\"0.0,0.0 26.472362419580787,0.0 26.472362419580787,25.412616514582485 0.0,25.412616514582485\" style=\"fill:#8B4903A0;stroke-width:0\"/>\n",
       "\n",
       "  <!-- Text -->\n",
       "  <text x=\"13.236181\" y=\"45.412617\" font-size=\"1.0rem\" font-weight=\"100\" text-anchor=\"middle\" >75</text>\n",
       "  <text x=\"46.472362\" y=\"12.706308\" font-size=\"1.0rem\" font-weight=\"100\" text-anchor=\"middle\" transform=\"rotate(0,46.472362,12.706308)\">1</text>\n",
       "\n",
       "\n",
       "  <!-- Horizontal lines -->\n",
       "  <line x1=\"96\" y1=\"0\" x2=\"110\" y2=\"14\" style=\"stroke-width:2\" />\n",
       "  <line x1=\"96\" y1=\"42\" x2=\"110\" y2=\"57\" />\n",
       "  <line x1=\"96\" y1=\"85\" x2=\"110\" y2=\"100\" />\n",
       "  <line x1=\"96\" y1=\"120\" x2=\"110\" y2=\"134\" style=\"stroke-width:2\" />\n",
       "\n",
       "  <!-- Vertical lines -->\n",
       "  <line x1=\"96\" y1=\"0\" x2=\"96\" y2=\"120\" style=\"stroke-width:2\" />\n",
       "  <line x1=\"110\" y1=\"14\" x2=\"110\" y2=\"134\" style=\"stroke-width:2\" />\n",
       "\n",
       "  <!-- Colored Rectangle -->\n",
       "  <polygon points=\"96.0,0.0 110.9485979497544,14.948597949754403 110.9485979497544,134.9485979497544 96.0,120.0\" style=\"fill:#ECB172A0;stroke-width:0\"/>\n",
       "\n",
       "  <!-- Horizontal lines -->\n",
       "  <line x1=\"96\" y1=\"0\" x2=\"216\" y2=\"0\" style=\"stroke-width:2\" />\n",
       "  <line x1=\"110\" y1=\"14\" x2=\"230\" y2=\"14\" style=\"stroke-width:2\" />\n",
       "\n",
       "  <!-- Vertical lines -->\n",
       "  <line x1=\"96\" y1=\"0\" x2=\"110\" y2=\"14\" style=\"stroke-width:2\" />\n",
       "  <line x1=\"138\" y1=\"0\" x2=\"153\" y2=\"14\" />\n",
       "  <line x1=\"181\" y1=\"0\" x2=\"196\" y2=\"14\" />\n",
       "  <line x1=\"216\" y1=\"0\" x2=\"230\" y2=\"14\" style=\"stroke-width:2\" />\n",
       "\n",
       "  <!-- Colored Rectangle -->\n",
       "  <polygon points=\"96.0,0.0 216.0,0.0 230.9485979497544,14.948597949754403 110.9485979497544,14.948597949754403\" style=\"fill:#ECB172A0;stroke-width:0\"/>\n",
       "\n",
       "  <!-- Horizontal lines -->\n",
       "  <line x1=\"110\" y1=\"14\" x2=\"230\" y2=\"14\" style=\"stroke-width:2\" />\n",
       "  <line x1=\"110\" y1=\"57\" x2=\"230\" y2=\"57\" />\n",
       "  <line x1=\"110\" y1=\"100\" x2=\"230\" y2=\"100\" />\n",
       "  <line x1=\"110\" y1=\"134\" x2=\"230\" y2=\"134\" style=\"stroke-width:2\" />\n",
       "\n",
       "  <!-- Vertical lines -->\n",
       "  <line x1=\"110\" y1=\"14\" x2=\"110\" y2=\"134\" style=\"stroke-width:2\" />\n",
       "  <line x1=\"153\" y1=\"14\" x2=\"153\" y2=\"134\" />\n",
       "  <line x1=\"196\" y1=\"14\" x2=\"196\" y2=\"134\" />\n",
       "  <line x1=\"230\" y1=\"14\" x2=\"230\" y2=\"134\" style=\"stroke-width:2\" />\n",
       "\n",
       "  <!-- Colored Rectangle -->\n",
       "  <polygon points=\"110.9485979497544,14.948597949754403 230.9485979497544,14.948597949754403 230.9485979497544,134.9485979497544 110.9485979497544,134.9485979497544\" style=\"fill:#ECB172A0;stroke-width:0\"/>\n",
       "\n",
       "  <!-- Text -->\n",
       "  <text x=\"170.948598\" y=\"154.948598\" font-size=\"1.0rem\" font-weight=\"100\" text-anchor=\"middle\" >6048</text>\n",
       "  <text x=\"250.948598\" y=\"74.948598\" font-size=\"1.0rem\" font-weight=\"100\" text-anchor=\"middle\" transform=\"rotate(-90,250.948598,74.948598)\">6048</text>\n",
       "  <text x=\"93.474299\" y=\"147.474299\" font-size=\"1.0rem\" font-weight=\"100\" text-anchor=\"middle\" transform=\"rotate(45,93.474299,147.474299)\">2</text>\n",
       "</svg>\n",
       "        </td>\n",
       "    </tr>\n",
       "</table>"
      ],
      "text/plain": [
       "dask.array<max-aggregate, shape=(75, 2, 6048, 6048), dtype=uint16, chunksize=(1, 2, 2160, 2160), chunktype=numpy.ndarray>"
      ]
     },
     "execution_count": 9,
     "metadata": {},
     "output_type": "execute_result"
    }
   ],
   "source": [
    "%%time\n",
    "# image_dir = os.path.join(base_dir, 'macrohet_images/Images_8bit')\n",
    "image_dir = os.path.join(base_dir, 'acquisition/Images')\n",
    "dask_images = tile.compile_mosaic(image_dir, \n",
    "                             metadata, \n",
    "                             row, column, \n",
    "                             # subset_field_IDs=['16', '17',  '20', '21'], \n",
    "                             # n_tile_rows = 2, n_tile_cols = 2,\n",
    "                             set_plane='max_proj',\n",
    "                             # set_channel=1,\n",
    "                             # set_time = 1,\n",
    "#                             input_transforms = [input_transforms]\n",
    "                            )#.compute().compute()\n",
    "dask_images"
   ]
  },
  {
   "cell_type": "code",
   "execution_count": 11,
   "id": "88764bc6-f0ed-435c-87f4-dc31575ae270",
   "metadata": {},
   "outputs": [
    {
     "data": {
      "text/plain": [
       "(3, 6048, 6048)"
      ]
     },
     "execution_count": 11,
     "metadata": {},
     "output_type": "execute_result"
    }
   ],
   "source": [
    "images = zarr_group.images[0,0,...]\n",
    "images.shape"
   ]
  },
  {
   "cell_type": "code",
   "execution_count": 13,
   "id": "59877fc9-66df-4ce6-b029-731e6e2df675",
   "metadata": {},
   "outputs": [],
   "source": [
    "import numpy as np"
   ]
  },
  {
   "cell_type": "code",
   "execution_count": 14,
   "id": "7bb911a4-13ce-43c9-a7ae-83d41b2e0262",
   "metadata": {},
   "outputs": [],
   "source": [
    "images = np.sum(images, axis = 0)"
   ]
  },
  {
   "cell_type": "code",
   "execution_count": 15,
   "id": "4112efc3-4d79-4629-a7e5-83a2ebccd08d",
   "metadata": {},
   "outputs": [
    {
     "data": {
      "text/plain": [
       "<Image layer 'images' at 0x7efe45a439a0>"
      ]
     },
     "execution_count": 15,
     "metadata": {},
     "output_type": "execute_result"
    }
   ],
   "source": [
    "viewer = napari.Viewer(title = f'{expt_ID, acq_ID}')\n",
    "\n",
    "viewer.add_image(images,)\n",
    "                 # channel_axis = 1, \n",
    "                 # # scale = napari_scale, \n",
    "                 # contrast_limits=[[280, 1000],[0,3000]])"
   ]
  },
  {
   "cell_type": "code",
   "execution_count": 23,
   "id": "4f6f9402-b0f4-4c8b-8241-1d9b7b773b0e",
   "metadata": {},
   "outputs": [
    {
     "name": "stdout",
     "output_type": "stream",
     "text": [
      "CPU times: user 18.4 s, sys: 59.3 s, total: 1min 17s\n",
      "Wall time: 3min 46s\n"
     ]
    }
   ],
   "source": [
    "%%time\n",
    "z1 = images[:,:,0,...]"
   ]
  },
  {
   "cell_type": "code",
   "execution_count": 18,
   "id": "3520b9da-f89a-4cf0-bc39-597cc3b99ebd",
   "metadata": {},
   "outputs": [],
   "source": [
    "import btrack"
   ]
  },
  {
   "cell_type": "code",
   "execution_count": 19,
   "id": "9fd9fab4-1f5c-4031-9724-cdd884dc8ac5",
   "metadata": {},
   "outputs": [
    {
     "name": "stderr",
     "output_type": "stream",
     "text": [
      "[INFO][2024/02/06 03:13:25 pm] Opening HDF file: /mnt/SYNO/macrohet_syno/ND0002/labels/macrohet_seg_model/(3, 3)_first_pass.h5...\n",
      "INFO:btrack.io.hdf:Opening HDF file: /mnt/SYNO/macrohet_syno/ND0002/labels/macrohet_seg_model/(3, 3)_first_pass.h5...\n",
      "[INFO][2024/02/06 03:13:44 pm] Loading segmentation (150, 6048, 6048)\n",
      "INFO:btrack.io.hdf:Loading segmentation (150, 6048, 6048)\n",
      "[INFO][2024/02/06 03:13:44 pm] Closing HDF file: /mnt/SYNO/macrohet_syno/ND0002/labels/macrohet_seg_model/(3, 3)_first_pass.h5\n",
      "INFO:btrack.io.hdf:Closing HDF file: /mnt/SYNO/macrohet_syno/ND0002/labels/macrohet_seg_model/(3, 3)_first_pass.h5\n"
     ]
    }
   ],
   "source": [
    "with btrack.io.HDF5FileHandler(os.path.join(f'/mnt/SYNO/macrohet_syno/{expt_ID}/labels/macrohet_seg_model/{row, column}_first_pass.h5'), \n",
    "                                           'r', \n",
    "                                           obj_type='obj_type_1'\n",
    "                                           ) as reader:\n",
    "                segmentation = reader.segmentation\n",
    "                # tracks = reader.tracks"
   ]
  },
  {
   "cell_type": "code",
   "execution_count": 20,
   "id": "a2713d6c-8a21-47f7-a372-cfe8ef164ad5",
   "metadata": {},
   "outputs": [
    {
     "data": {
      "text/plain": [
       "<Labels layer 'segmentation' at 0x7efd8dabbe80>"
      ]
     },
     "execution_count": 20,
     "metadata": {},
     "output_type": "execute_result"
    }
   ],
   "source": [
    "viewer.add_labels(segmentation,)"
   ]
  },
  {
   "cell_type": "code",
   "execution_count": 27,
   "id": "9c41f336-56f4-40d1-b105-4813fa46881b",
   "metadata": {},
   "outputs": [],
   "source": [
    "x_coords = [int(xi) for xi in [5472.746246039399,\n",
    " 5472.746246039399,\n",
    " 5486.096242254647,\n",
    " 5500.329572263822,\n",
    " 5510.675596905509,\n",
    " 5438.693065970174,\n",
    " 5480.530829671062,\n",
    " 5461.236876504988,\n",
    " 5469.6922642972995,\n",
    " 5474.665007505728,\n",
    " 5474.372622724507,\n",
    " 5441.25071849947,\n",
    " 5431.163245356794,\n",
    " 5447.638106650689,\n",
    " 5401.097859501309,\n",
    " 5458.2037895123185,\n",
    " 5423.897505528184,\n",
    " 5450.797177441847,\n",
    " 5393.217742272784,\n",
    " 5411.22176165803,\n",
    " 5416.824555429435,\n",
    " 5383.79879462216,\n",
    " 5413.5038321727325,\n",
    " 5393.169633749054,\n",
    " 5373.554017938861,\n",
    " 5368.331506843434,\n",
    " 5430.211934875269,\n",
    " 5381.755155770074,\n",
    " 5392.150312435623,\n",
    " 5392.317724801933,\n",
    " 5374.908793911906,\n",
    " 5390.2561899213515,\n",
    " 5379.819480780841,\n",
    " 5390.4406485903555,\n",
    " 5377.032280935897,\n",
    " 5371.854852826017,\n",
    " 5405.003818615752,\n",
    " 5405.07407552645,\n",
    " 5376.475064387731,\n",
    " 5390.252700798497,\n",
    " 5351.455846406826,\n",
    " 5377.990615856705,\n",
    " 5391.0602309372725,\n",
    " 5361.77590530645,\n",
    " 5389.48476871004,\n",
    " 5386.070360673001,\n",
    " 5310.099368625545,\n",
    " 5285.215779825395,\n",
    " 5260.332191025245,\n",
    " 5235.448602225095,\n",
    " 5205.790368271954,\n",
    " 5198.133702975856,\n",
    " 5179.958051782966,\n",
    " 5163.646741327221,\n",
    " 5147.335430871476,\n",
    " 5220.276700434152,\n",
    " 5202.920935330654,\n",
    " 5231.698149715806,\n",
    " 5211.194877699849,\n",
    " 5213.240591151092,\n",
    " 5223.266544335267,\n",
    " 5227.718656605586,\n",
    " 5232.170768875904,\n",
    " 5236.622881146222,\n",
    " 5241.0749934165415,\n",
    " 5173.338289859115,\n",
    " 5170.376619479919,\n",
    " 5167.414949100722,\n",
    " 5164.453278721526,\n",
    " 5240.135933745719,\n",
    " 5228.750556912424,\n",
    " 5245.063622820085,\n",
    " 5207.907769862495,\n",
    " 5260.609250112258,\n",
    " 5326.639073867809,\n",
    " 5349.205111306505,\n",
    " 5376.345633825899,\n",
    " 5410.764567821455,\n",
    " 5369.3243895167625,\n",
    " 5359.88331446765,\n",
    " 5329.831735933239,\n",
    " 5319.949738754902,\n",
    " 5388.253754230118,\n",
    " 5424.675502518108,\n",
    " 5397.988879274428,\n",
    " 5434.800431358973,\n",
    " 5471.611983443518,\n",
    " 5508.4235355280625,\n",
    " 5544.107951509484,\n",
    " 5551.395430473596,\n",
    " 5550.066381082342,\n",
    " 5548.452303643447,\n",
    " 5549.155080029634,\n",
    " 5561.186685412471,\n",
    " 5567.791950712697,\n",
    " 5557.699342445248,\n",
    " 5557.823387269993,\n",
    " 5558.007319352159,\n",
    " 5560.183715182935,\n",
    " 5546.057975010771,\n",
    " 5550.868006259876,\n",
    " 5555.678037508981,\n",
    " 5557.046358524208,\n",
    " 5553.236282307818,\n",
    " 5549.426206091429,\n",
    " 5551.121324224907,\n",
    " 5557.426843742876,\n",
    " 5553.940335205612,\n",
    " 5553.498974602256,\n",
    " 5549.4003826054495,\n",
    " 5544.361776162036,\n",
    " 5492.424959871588,\n",
    " 5492.424959871588,\n",
    " 5402.656685734716,\n",
    " 5373.853899728852,\n",
    " 5369.858697374676,\n",
    " 5371.848683878138,\n",
    " 5373.860857176777,\n",
    " 5365.598916852501,\n",
    " 5363.3692751718145,\n",
    " 5361.139633491127,\n",
    " 5358.90999181044,\n",
    " 5356.680350129753,\n",
    " 5371.074742777998,\n",
    " 5380.688404950957,\n",
    " 5414.278243208936,\n",
    " 5398.956768986181,\n",
    " 5389.825679978848,\n",
    " 5380.694590971516,\n",
    " 5320.5197714285705,\n",
    " 5366.895837873175,\n",
    " 5366.895837873175,\n",
    " 5367.842764753435,\n",
    " 5373.271641791045,\n",
    " 5369.232279495761,\n",
    " 5387.294447560292,\n",
    " 5411.240868057632,\n",
    " 5399.933467336684]]"
   ]
  },
  {
   "cell_type": "code",
   "execution_count": null,
   "id": "137ee2c4-6c41-445c-967e-af92cb1e36b7",
   "metadata": {},
   "outputs": [],
   "source": []
  },
  {
   "cell_type": "code",
   "execution_count": 26,
   "id": "fde5e46b-2121-4e9b-89bf-34469d90fb1b",
   "metadata": {},
   "outputs": [],
   "source": [
    "y_coords = [int(xi) for xi in [191.1370712219314,\n",
    " 191.1370712219314,\n",
    " 176.7415550669598,\n",
    " 177.87167914657914,\n",
    " 179.62931063593308,\n",
    " 159.53955682871342,\n",
    " 140.08889332800638,\n",
    " 142.64451324389404,\n",
    " 119.53324871306678,\n",
    " 106.82223275657739,\n",
    " 99.73373315589187,\n",
    " 128.2833913175011,\n",
    " 140.42372794155477,\n",
    " 161.27786099460755,\n",
    " 222.99925993396334,\n",
    " 174.0992797173923,\n",
    " 172.9274935019591,\n",
    " 161.60818876554913,\n",
    " 205.59324940399014,\n",
    " 162.8885334534805,\n",
    " 202.30953461975028,\n",
    " 216.17217645590387,\n",
    " 193.67551351114614,\n",
    " 215.42851031623286,\n",
    " 228.06040637012632,\n",
    " 228.67406285768715,\n",
    " 192.86506882817412,\n",
    " 232.19053566003984,\n",
    " 204.6973837808144,\n",
    " 207.60944327992325,\n",
    " 209.83373049427317,\n",
    " 188.7638362947859,\n",
    " 182.99219158784464,\n",
    " 180.22003543367737,\n",
    " 204.85189973724817,\n",
    " 194.98424616518494,\n",
    " 179.14793158313444,\n",
    " 196.07419316889533,\n",
    " 219.35397643018806,\n",
    " 187.26384559545667,\n",
    " 216.75721079063152,\n",
    " 213.6554627845572,\n",
    " 167.37204826797043,\n",
    " 217.32174741699268,\n",
    " 179.59289206468597,\n",
    " 176.6345965743065,\n",
    " 188.62671199611458,\n",
    " 166.31634045849256,\n",
    " 144.00596892087054,\n",
    " 121.69559738324854,\n",
    " 55.39108011912544,\n",
    " 58.18816676024704,\n",
    " 40.3980062888874,\n",
    " 24.37581387428953,\n",
    " 8.35362145969166,\n",
    " 43.919247467438495,\n",
    " 48.26949214468395,\n",
    " 67.73374450759866,\n",
    " 97.71024808960534,\n",
    " 125.01220855516797,\n",
    " 132.79794601633716,\n",
    " 143.92312942545448,\n",
    " 155.04831283457176,\n",
    " 166.17349624368907,\n",
    " 177.29867965280638,\n",
    " 196.6720323615567,\n",
    " 212.43817694641277,\n",
    " 228.20432153126882,\n",
    " 243.97046611612487,\n",
    " 232.906702111344,\n",
    " 223.76657988673875,\n",
    " 203.4379765138901,\n",
    " 215.9927579106809,\n",
    " 196.31953300404132,\n",
    " 186.89895016233382,\n",
    " 205.2625718766837,\n",
    " 225.94766600202124,\n",
    " 256.01724866433636,\n",
    " 188.86383716833345,\n",
    " 173.76541801915985,\n",
    " 191.20998925886144,\n",
    " 178.73719570397313,\n",
    " 233.2043675972927,\n",
    " 266.42189875207697,\n",
    " 328.1910713713425,\n",
    " 366.5394414776547,\n",
    " 404.88781158396694,\n",
    " 443.2361816902791,\n",
    " 472.3920818861875,\n",
    " 490.6148433953699,\n",
    " 469.9704454770006,\n",
    " 466.6909563196391,\n",
    " 455.62502369015004,\n",
    " 442.6712391230003,\n",
    " 418.6171120265393,\n",
    " 428.84796051107503,\n",
    " 427.82691343882004,\n",
    " 413.25553709856035,\n",
    " 355.02471338053033,\n",
    " 382.6373632055148,\n",
    " 383.5781971575975,\n",
    " 384.5190311096802,\n",
    " 352.77941493426334,\n",
    " 342.17885284520594,\n",
    " 331.57829075614853,\n",
    " 374.90753547031005,\n",
    " 377.7983091086394,\n",
    " 366.92456745843765,\n",
    " 362.7705244329434,\n",
    " 411.162420679358,\n",
    " 388.93939236561926,\n",
    " 257.54574638844304,\n",
    " 257.54574638844304,\n",
    " 279.8389345727565,\n",
    " 358.6855760540167,\n",
    " 410.2059056573873,\n",
    " 406.9155762138129,\n",
    " 395.71221654992286,\n",
    " 411.70356801529147,\n",
    " 420.2770395907584,\n",
    " 428.85051116622543,\n",
    " 437.4239827416924,\n",
    " 445.9974543171594,\n",
    " 394.71413731697663,\n",
    " 358.1511560018683,\n",
    " 257.45715917745616,\n",
    " 304.4553014553014,\n",
    " 342.063924823419,\n",
    " 379.67254819153646,\n",
    " 341.3584,\n",
    " 429.78562867727175,\n",
    " 429.78562867727175,\n",
    " 410.51114447395776,\n",
    " 366.2247416762342,\n",
    " 338.7122511211395,\n",
    " 325.2351654514862,\n",
    " 244.36659293358045,\n",
    " 172.72020100502513]]"
   ]
  },
  {
   "cell_type": "code",
   "execution_count": 32,
   "id": "83d0f7df-11a2-4ad9-b5de-1bca0b575a4f",
   "metadata": {},
   "outputs": [],
   "source": [
    "xy_coords = [(ti, xi, yi )for (ti, xi, yi) in zip(range(0, len(y_coords)), y_coords, x_coords)]"
   ]
  },
  {
   "cell_type": "code",
   "execution_count": 33,
   "id": "e06b73e1-f722-4274-96fe-610acbdf7ea2",
   "metadata": {
    "scrolled": true
   },
   "outputs": [
    {
     "data": {
      "text/plain": [
       "[(0, 191, 5472),\n",
       " (1, 191, 5472),\n",
       " (2, 176, 5486),\n",
       " (3, 177, 5500),\n",
       " (4, 179, 5510),\n",
       " (5, 159, 5438),\n",
       " (6, 140, 5480),\n",
       " (7, 142, 5461),\n",
       " (8, 119, 5469),\n",
       " (9, 106, 5474),\n",
       " (10, 99, 5474),\n",
       " (11, 128, 5441),\n",
       " (12, 140, 5431),\n",
       " (13, 161, 5447),\n",
       " (14, 222, 5401),\n",
       " (15, 174, 5458),\n",
       " (16, 172, 5423),\n",
       " (17, 161, 5450),\n",
       " (18, 205, 5393),\n",
       " (19, 162, 5411),\n",
       " (20, 202, 5416),\n",
       " (21, 216, 5383),\n",
       " (22, 193, 5413),\n",
       " (23, 215, 5393),\n",
       " (24, 228, 5373),\n",
       " (25, 228, 5368),\n",
       " (26, 192, 5430),\n",
       " (27, 232, 5381),\n",
       " (28, 204, 5392),\n",
       " (29, 207, 5392),\n",
       " (30, 209, 5374),\n",
       " (31, 188, 5390),\n",
       " (32, 182, 5379),\n",
       " (33, 180, 5390),\n",
       " (34, 204, 5377),\n",
       " (35, 194, 5371),\n",
       " (36, 179, 5405),\n",
       " (37, 196, 5405),\n",
       " (38, 219, 5376),\n",
       " (39, 187, 5390),\n",
       " (40, 216, 5351),\n",
       " (41, 213, 5377),\n",
       " (42, 167, 5391),\n",
       " (43, 217, 5361),\n",
       " (44, 179, 5389),\n",
       " (45, 176, 5386),\n",
       " (46, 188, 5310),\n",
       " (47, 166, 5285),\n",
       " (48, 144, 5260),\n",
       " (49, 121, 5235),\n",
       " (50, 55, 5205),\n",
       " (51, 58, 5198),\n",
       " (52, 40, 5179),\n",
       " (53, 24, 5163),\n",
       " (54, 8, 5147),\n",
       " (55, 43, 5220),\n",
       " (56, 48, 5202),\n",
       " (57, 67, 5231),\n",
       " (58, 97, 5211),\n",
       " (59, 125, 5213),\n",
       " (60, 132, 5223),\n",
       " (61, 143, 5227),\n",
       " (62, 155, 5232),\n",
       " (63, 166, 5236),\n",
       " (64, 177, 5241),\n",
       " (65, 196, 5173),\n",
       " (66, 212, 5170),\n",
       " (67, 228, 5167),\n",
       " (68, 243, 5164),\n",
       " (69, 232, 5240),\n",
       " (70, 223, 5228),\n",
       " (71, 203, 5245),\n",
       " (72, 215, 5207),\n",
       " (73, 196, 5260),\n",
       " (74, 186, 5326),\n",
       " (75, 205, 5349),\n",
       " (76, 225, 5376),\n",
       " (77, 256, 5410),\n",
       " (78, 188, 5369),\n",
       " (79, 173, 5359),\n",
       " (80, 191, 5329),\n",
       " (81, 178, 5319),\n",
       " (82, 233, 5388),\n",
       " (83, 266, 5424),\n",
       " (84, 328, 5397),\n",
       " (85, 366, 5434),\n",
       " (86, 404, 5471),\n",
       " (87, 443, 5508),\n",
       " (88, 472, 5544),\n",
       " (89, 490, 5551),\n",
       " (90, 469, 5550),\n",
       " (91, 466, 5548),\n",
       " (92, 455, 5549),\n",
       " (93, 442, 5561),\n",
       " (94, 418, 5567),\n",
       " (95, 428, 5557),\n",
       " (96, 427, 5557),\n",
       " (97, 413, 5558),\n",
       " (98, 355, 5560),\n",
       " (99, 382, 5546),\n",
       " (100, 383, 5550),\n",
       " (101, 384, 5555),\n",
       " (102, 352, 5557),\n",
       " (103, 342, 5553),\n",
       " (104, 331, 5549),\n",
       " (105, 374, 5551),\n",
       " (106, 377, 5557),\n",
       " (107, 366, 5553),\n",
       " (108, 362, 5553),\n",
       " (109, 411, 5549),\n",
       " (110, 388, 5544),\n",
       " (111, 257, 5492),\n",
       " (112, 257, 5492),\n",
       " (113, 279, 5402),\n",
       " (114, 358, 5373),\n",
       " (115, 410, 5369),\n",
       " (116, 406, 5371),\n",
       " (117, 395, 5373),\n",
       " (118, 411, 5365),\n",
       " (119, 420, 5363),\n",
       " (120, 428, 5361),\n",
       " (121, 437, 5358),\n",
       " (122, 445, 5356),\n",
       " (123, 394, 5371),\n",
       " (124, 358, 5380),\n",
       " (125, 257, 5414),\n",
       " (126, 304, 5398),\n",
       " (127, 342, 5389),\n",
       " (128, 379, 5380),\n",
       " (129, 341, 5320),\n",
       " (130, 429, 5366),\n",
       " (131, 429, 5366),\n",
       " (132, 410, 5367),\n",
       " (133, 366, 5373),\n",
       " (134, 338, 5369),\n",
       " (135, 325, 5387),\n",
       " (136, 244, 5411),\n",
       " (137, 172, 5399)]"
      ]
     },
     "execution_count": 33,
     "metadata": {},
     "output_type": "execute_result"
    }
   ],
   "source": [
    "xy_coords"
   ]
  },
  {
   "cell_type": "code",
   "execution_count": 34,
   "id": "62021ef3-35a9-4ade-beff-6e4f76448d0c",
   "metadata": {},
   "outputs": [
    {
     "data": {
      "text/plain": [
       "<Points layer 'Points [6]' at 0x7f076c4ec640>"
      ]
     },
     "execution_count": 34,
     "metadata": {},
     "output_type": "execute_result"
    }
   ],
   "source": [
    "viewer.add_points(xy_coords, size=10)"
   ]
  },
  {
   "cell_type": "code",
   "execution_count": 51,
   "id": "809a761e-8827-4f78-b0e1-7a239326466b",
   "metadata": {},
   "outputs": [],
   "source": [
    "frame = segmentation[0]"
   ]
  },
  {
   "cell_type": "code",
   "execution_count": 52,
   "id": "eb3b6ca3-20a3-425a-bae5-6b3789ca9ba7",
   "metadata": {},
   "outputs": [],
   "source": [
    "mask = frame == 21"
   ]
  },
  {
   "cell_type": "code",
   "execution_count": 53,
   "id": "a317f8fd-ca20-494e-b1dd-c934ed642c91",
   "metadata": {},
   "outputs": [],
   "source": [
    "rfp_frame = images"
   ]
  },
  {
   "cell_type": "code",
   "execution_count": 54,
   "id": "6d456aec-ac67-4a71-8022-5e1d0eb3558f",
   "metadata": {},
   "outputs": [],
   "source": [
    "masked_image = rfp_frame * mask\n"
   ]
  },
  {
   "cell_type": "code",
   "execution_count": 55,
   "id": "a21f72c4-9bed-4a18-a094-d249a97da255",
   "metadata": {},
   "outputs": [],
   "source": [
    "threshold = 480"
   ]
  },
  {
   "cell_type": "code",
   "execution_count": null,
   "id": "addc3e03-bde5-4369-9b08-5303f0d1f5b0",
   "metadata": {},
   "outputs": [],
   "source": []
  },
  {
   "cell_type": "code",
   "execution_count": 72,
   "id": "96a4759b-191f-4a81-ba09-87e2e4746904",
   "metadata": {},
   "outputs": [],
   "source": [
    "# Apply threshold to identify mtb region\n",
    "thresholded_masked_image = masked_image >= threshold\n",
    "\n"
   ]
  },
  {
   "cell_type": "code",
   "execution_count": 73,
   "id": "af94b3a4-0cd5-4432-80cf-8bba8b994af7",
   "metadata": {},
   "outputs": [],
   "source": [
    "# Calculate the area of the microtubule region\n",
    "mtb_area = np.sum(thresholded_masked_image)"
   ]
  },
  {
   "cell_type": "code",
   "execution_count": 74,
   "id": "ebfd4d9b-8c1e-4f8a-92dd-335ea2f1d0ed",
   "metadata": {},
   "outputs": [
    {
     "name": "stdout",
     "output_type": "stream",
     "text": [
      "439\n"
     ]
    }
   ],
   "source": [
    "print(mtb_area)"
   ]
  },
  {
   "cell_type": "code",
   "execution_count": 75,
   "id": "92dc11c5-ec96-4eb3-9400-95e6d5a3c266",
   "metadata": {},
   "outputs": [],
   "source": [
    " image_resolution=1.4949402023919043e-07"
   ]
  },
  {
   "cell_type": "code",
   "execution_count": 76,
   "id": "9bfe2d1b-5e20-4365-b96f-a6236c995b5d",
   "metadata": {},
   "outputs": [],
   "source": [
    "# Convert the resolution to pixels per micrometer\n",
    "resolution_micrometers_per_pixel = image_resolution * 1_000_000\n",
    "\n",
    "# Convert area from pixels to micrometers squared\n",
    "mtb_area = mtb_area * (resolution_micrometers_per_pixel ** 2)"
   ]
  },
  {
   "cell_type": "code",
   "execution_count": 77,
   "id": "cf588e11-5c52-4e61-ac80-5fba78d68dfa",
   "metadata": {},
   "outputs": [
    {
     "data": {
      "text/plain": [
       "0.022348462087275475"
      ]
     },
     "execution_count": 77,
     "metadata": {},
     "output_type": "execute_result"
    }
   ],
   "source": [
    "(resolution_micrometers_per_pixel ** 2)"
   ]
  },
  {
   "cell_type": "code",
   "execution_count": 78,
   "id": "ecdceab1-95c8-402b-92b3-59ee159abd0d",
   "metadata": {},
   "outputs": [
    {
     "data": {
      "text/plain": [
       "9.810974856313933"
      ]
     },
     "execution_count": 78,
     "metadata": {},
     "output_type": "execute_result"
    }
   ],
   "source": [
    "mtb_area"
   ]
  },
  {
   "cell_type": "code",
   "execution_count": 84,
   "id": "9554f5ef-93fc-442d-8d16-97013df51822",
   "metadata": {},
   "outputs": [],
   "source": [
    "manual_mask = viewer.layers['Labels'].data[0]"
   ]
  },
  {
   "cell_type": "code",
   "execution_count": 85,
   "id": "ffcaa213-88a6-4c7d-a888-93082a930f5f",
   "metadata": {},
   "outputs": [
    {
     "data": {
      "text/plain": [
       "(6048, 6048)"
      ]
     },
     "execution_count": 85,
     "metadata": {},
     "output_type": "execute_result"
    }
   ],
   "source": [
    "manual_mask.shape"
   ]
  },
  {
   "cell_type": "code",
   "execution_count": 87,
   "id": "11a93f29-65b7-496d-a779-ab1e66c23e06",
   "metadata": {},
   "outputs": [
    {
     "data": {
      "text/plain": [
       "435.0"
      ]
     },
     "execution_count": 87,
     "metadata": {},
     "output_type": "execute_result"
    }
   ],
   "source": [
    "np.sum(manual_mask)/2"
   ]
  },
  {
   "cell_type": "code",
   "execution_count": 25,
   "id": "5c0f3d2d-454d-4836-bd0a-cf55c3ca1ff0",
   "metadata": {},
   "outputs": [
    {
     "data": {
      "text/plain": [
       "<Labels layer 'segmentation' at 0x7fed26e6c0d0>"
      ]
     },
     "execution_count": 25,
     "metadata": {},
     "output_type": "execute_result"
    }
   ],
   "source": [
    "# Select the corresponding frame from the masks\n",
    "frame = masks[t, ...]\n",
    "\n",
    "# Check to see if mask exists at the specified coordinates\n",
    "if frame[y, x]:\n",
    "    # Select the specific cell of interest based on the mask\n",
    "    mask = frame == frame[y, x]\n",
    "\n",
    "    # Apply mask to the corresponding RFP frame\n",
    "    rfp_frame = rfp_images[t]\n",
    "    masked_image = rfp_frame * mask\n",
    "\n",
    "    # Apply threshold to identify mtb region\n",
    "    thresholded_masked_image = masked_image >= threshold\n",
    "\n",
    "    # Calculate the area of the microtubule region\n",
    "    mtb_area = np.sum(thresholded_masked_image)\n",
    "\n",
    "    # Convert the resolution to pixels per micrometer\n",
    "    resolution_micrometers_per_pixel = image_resolution * 1_000_000\n",
    "\n",
    "    # Convert area from pixels to micrometers squared\n",
    "    mtb_area = mtb_area * (resolution_micrometers_per_pixel ** 2)\n",
    "\n",
    "    # Append the calculated area to the list\n",
    "    mtb_areas.append(mtb_area)"
   ]
  }
 ],
 "metadata": {
  "kernelspec": {
   "display_name": "egg",
   "language": "python",
   "name": "egg"
  },
  "language_info": {
   "codemirror_mode": {
    "name": "ipython",
    "version": 3
   },
   "file_extension": ".py",
   "mimetype": "text/x-python",
   "name": "python",
   "nbconvert_exporter": "python",
   "pygments_lexer": "ipython3",
   "version": "3.9.17"
  }
 },
 "nbformat": 4,
 "nbformat_minor": 5
}
