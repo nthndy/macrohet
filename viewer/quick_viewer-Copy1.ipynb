{
 "cells": [
  {
   "cell_type": "code",
   "execution_count": 1,
   "id": "82c918c9-a69f-4c6c-b6f4-9066e4705f47",
   "metadata": {},
   "outputs": [],
   "source": [
    "import napari\n",
    "from skimage import io\n",
    "import os\n",
    "from glob import glob\n",
    "import numpy as np\n",
    "from natsort import natsorted"
   ]
  },
  {
   "cell_type": "code",
   "execution_count": 2,
   "id": "87200971-1c12-4fb2-9ae7-c9d388d01e1b",
   "metadata": {},
   "outputs": [],
   "source": [
    "image = np.stack([io.imread(fn) for fn in natsorted(glob('/Users/dayn/data/macrohet_mac/NDX_animation_dev/ND0000.2.10/*.png'))], axis = 0)"
   ]
  },
  {
   "cell_type": "code",
   "execution_count": 3,
   "id": "abc77dc5-713c-4b06-b1f4-7ba97b07e94a",
   "metadata": {},
   "outputs": [
    {
     "data": {
      "text/plain": [
       "<Image layer 'image' at 0x16a70a910>"
      ]
     },
     "execution_count": 3,
     "metadata": {},
     "output_type": "execute_result"
    }
   ],
   "source": [
    "viewer = napari.Viewer(title = '50k seeding density')\n",
    "\n",
    "viewer.add_image(image)"
   ]
  },
  {
   "cell_type": "code",
   "execution_count": 4,
   "id": "95820e4d-3fc6-4e2d-a972-10eb87f01b99",
   "metadata": {},
   "outputs": [
    {
     "name": "stdout",
     "output_type": "stream",
     "text": [
      "\n"
     ]
    }
   ],
   "source": [
    "print()"
   ]
  }
 ],
 "metadata": {
  "kernelspec": {
   "display_name": "Python 3 (ipykernel)",
   "language": "python",
   "name": "python3"
  },
  "language_info": {
   "codemirror_mode": {
    "name": "ipython",
    "version": 3
   },
   "file_extension": ".py",
   "mimetype": "text/x-python",
   "name": "python",
   "nbconvert_exporter": "python",
   "pygments_lexer": "ipython3",
   "version": "3.11.2"
  }
 },
 "nbformat": 4,
 "nbformat_minor": 5
}
