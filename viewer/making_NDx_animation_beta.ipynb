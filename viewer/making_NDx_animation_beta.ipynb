{
 "cells": [
  {
   "cell_type": "markdown",
   "id": "e7452ae6",
   "metadata": {},
   "source": [
    "# NDX Animation creation \n",
    "\n",
    "NDX image volumes are MASSIVE so trying a different approach for making movies."
   ]
  },
  {
   "cell_type": "code",
   "execution_count": 1,
   "id": "83d383f0",
   "metadata": {},
   "outputs": [
    {
     "name": "stdout",
     "output_type": "stream",
     "text": [
      "0.6.1.dev83\n"
     ]
    }
   ],
   "source": [
    "import napari\n",
    "from macrohet import dataio, tile, visualise\n",
    "import btrack\n",
    "print(btrack.__version__)\n",
    "import os, glob"
   ]
  },
  {
   "cell_type": "markdown",
   "id": "cb28dcb6",
   "metadata": {},
   "source": [
    "### Load experiment of choice\n",
    "\n",
    "The Opera Phenix is a high-throughput confocal microscope that acquires very large 5-dimensional (TCZXY) images over several fields of view in any one experiment. Therefore, a lazy-loading approach is chosen to mosaic, view and annotate these images. This approach depends upon Dask and DaskFusion. The first step is to load the main metadata file (typically called `Index.idx.xml` and located in the main `Images` directory) that contains the image filenames and associated TCXZY information used to organise the images."
   ]
  },
  {
   "cell_type": "code",
   "execution_count": 3,
   "id": "2f90d81a",
   "metadata": {},
   "outputs": [
    {
     "name": "stdout",
     "output_type": "stream",
     "text": [
      "Reading metadata XML file...\n"
     ]
    },
    {
     "data": {
      "application/vnd.jupyter.widget-view+json": {
       "model_id": "b111d9c58e1b4a2bbbfe84f6208180d7",
       "version_major": 2,
       "version_minor": 0
      },
      "text/plain": [
       "Extracting HarmonyV5 metadata:   0%|          | 0/243648 [00:00<?, ?it/s]"
      ]
     },
     "metadata": {},
     "output_type": "display_data"
    },
    {
     "name": "stdout",
     "output_type": "stream",
     "text": [
      "Extracting metadata complete!\n"
     ]
    },
    {
     "data": {
      "text/html": [
       "<div>\n",
       "<style scoped>\n",
       "    .dataframe tbody tr th:only-of-type {\n",
       "        vertical-align: middle;\n",
       "    }\n",
       "\n",
       "    .dataframe tbody tr th {\n",
       "        vertical-align: top;\n",
       "    }\n",
       "\n",
       "    .dataframe thead th {\n",
       "        text-align: right;\n",
       "    }\n",
       "</style>\n",
       "<table border=\"1\" class=\"dataframe\">\n",
       "  <thead>\n",
       "    <tr style=\"text-align: right;\">\n",
       "      <th></th>\n",
       "      <th>id</th>\n",
       "      <th>State</th>\n",
       "      <th>URL</th>\n",
       "      <th>Row</th>\n",
       "      <th>Col</th>\n",
       "      <th>FieldID</th>\n",
       "      <th>PlaneID</th>\n",
       "      <th>TimepointID</th>\n",
       "      <th>ChannelID</th>\n",
       "      <th>FlimID</th>\n",
       "      <th>...</th>\n",
       "      <th>PositionZ</th>\n",
       "      <th>AbsPositionZ</th>\n",
       "      <th>MeasurementTimeOffset</th>\n",
       "      <th>AbsTime</th>\n",
       "      <th>MainExcitationWavelength</th>\n",
       "      <th>MainEmissionWavelength</th>\n",
       "      <th>ObjectiveMagnification</th>\n",
       "      <th>ObjectiveNA</th>\n",
       "      <th>ExposureTime</th>\n",
       "      <th>OrientationMatrix</th>\n",
       "    </tr>\n",
       "  </thead>\n",
       "  <tbody>\n",
       "    <tr>\n",
       "      <th>0</th>\n",
       "      <td>0203K1F1P1R1</td>\n",
       "      <td>Ok</td>\n",
       "      <td>r02c03f01p01-ch1sk1fk1fl1.tiff</td>\n",
       "      <td>2</td>\n",
       "      <td>3</td>\n",
       "      <td>1</td>\n",
       "      <td>1</td>\n",
       "      <td>0</td>\n",
       "      <td>1</td>\n",
       "      <td>1</td>\n",
       "      <td>...</td>\n",
       "      <td>0</td>\n",
       "      <td>0.135205805</td>\n",
       "      <td>0</td>\n",
       "      <td>2023-08-04T15:28:16.5+01:00</td>\n",
       "      <td>561</td>\n",
       "      <td>599</td>\n",
       "      <td>40</td>\n",
       "      <td>1.1</td>\n",
       "      <td>0.2</td>\n",
       "      <td>[[0.994928,0,0,15.1],[0,-0.994928,0,-5.3],[0,0...</td>\n",
       "    </tr>\n",
       "    <tr>\n",
       "      <th>1</th>\n",
       "      <td>0203K1F1P1R2</td>\n",
       "      <td>Ok</td>\n",
       "      <td>r02c03f01p01-ch2sk1fk1fl1.tiff</td>\n",
       "      <td>2</td>\n",
       "      <td>3</td>\n",
       "      <td>1</td>\n",
       "      <td>1</td>\n",
       "      <td>0</td>\n",
       "      <td>2</td>\n",
       "      <td>1</td>\n",
       "      <td>...</td>\n",
       "      <td>0</td>\n",
       "      <td>0.135205805</td>\n",
       "      <td>0</td>\n",
       "      <td>2023-08-04T15:28:16.5+01:00</td>\n",
       "      <td>740</td>\n",
       "      <td>0</td>\n",
       "      <td>40</td>\n",
       "      <td>1.1</td>\n",
       "      <td>0.2</td>\n",
       "      <td>[[0.994928,0,0,15.1],[0,-0.994928,0,-5.3],[0,0...</td>\n",
       "    </tr>\n",
       "    <tr>\n",
       "      <th>2</th>\n",
       "      <td>0203K1F1P1R3</td>\n",
       "      <td>Ok</td>\n",
       "      <td>r02c03f01p01-ch3sk1fk1fl1.tiff</td>\n",
       "      <td>2</td>\n",
       "      <td>3</td>\n",
       "      <td>1</td>\n",
       "      <td>1</td>\n",
       "      <td>0</td>\n",
       "      <td>3</td>\n",
       "      <td>1</td>\n",
       "      <td>...</td>\n",
       "      <td>0</td>\n",
       "      <td>0.135205805</td>\n",
       "      <td>0</td>\n",
       "      <td>2023-08-04T15:28:16.767+01:00</td>\n",
       "      <td>640</td>\n",
       "      <td>706</td>\n",
       "      <td>40</td>\n",
       "      <td>1.1</td>\n",
       "      <td>0.2</td>\n",
       "      <td>[[0.994928,0,0,15.1],[0,-0.994928,0,-5.3],[0,0...</td>\n",
       "    </tr>\n",
       "    <tr>\n",
       "      <th>3</th>\n",
       "      <td>0203K1F1P2R1</td>\n",
       "      <td>Ok</td>\n",
       "      <td>r02c03f01p02-ch1sk1fk1fl1.tiff</td>\n",
       "      <td>2</td>\n",
       "      <td>3</td>\n",
       "      <td>1</td>\n",
       "      <td>2</td>\n",
       "      <td>0</td>\n",
       "      <td>1</td>\n",
       "      <td>1</td>\n",
       "      <td>...</td>\n",
       "      <td>2E-06</td>\n",
       "      <td>0.135207802</td>\n",
       "      <td>0</td>\n",
       "      <td>2023-08-04T15:28:17.047+01:00</td>\n",
       "      <td>561</td>\n",
       "      <td>599</td>\n",
       "      <td>40</td>\n",
       "      <td>1.1</td>\n",
       "      <td>0.2</td>\n",
       "      <td>[[0.994928,0,0,15.1],[0,-0.994928,0,-5.3],[0,0...</td>\n",
       "    </tr>\n",
       "    <tr>\n",
       "      <th>4</th>\n",
       "      <td>0203K1F1P2R2</td>\n",
       "      <td>Ok</td>\n",
       "      <td>r02c03f01p02-ch2sk1fk1fl1.tiff</td>\n",
       "      <td>2</td>\n",
       "      <td>3</td>\n",
       "      <td>1</td>\n",
       "      <td>2</td>\n",
       "      <td>0</td>\n",
       "      <td>2</td>\n",
       "      <td>1</td>\n",
       "      <td>...</td>\n",
       "      <td>2E-06</td>\n",
       "      <td>0.135207802</td>\n",
       "      <td>0</td>\n",
       "      <td>2023-08-04T15:28:17.047+01:00</td>\n",
       "      <td>740</td>\n",
       "      <td>0</td>\n",
       "      <td>40</td>\n",
       "      <td>1.1</td>\n",
       "      <td>0.2</td>\n",
       "      <td>[[0.994928,0,0,15.1],[0,-0.994928,0,-5.3],[0,0...</td>\n",
       "    </tr>\n",
       "    <tr>\n",
       "      <th>...</th>\n",
       "      <td>...</td>\n",
       "      <td>...</td>\n",
       "      <td>...</td>\n",
       "      <td>...</td>\n",
       "      <td>...</td>\n",
       "      <td>...</td>\n",
       "      <td>...</td>\n",
       "      <td>...</td>\n",
       "      <td>...</td>\n",
       "      <td>...</td>\n",
       "      <td>...</td>\n",
       "      <td>...</td>\n",
       "      <td>...</td>\n",
       "      <td>...</td>\n",
       "      <td>...</td>\n",
       "      <td>...</td>\n",
       "      <td>...</td>\n",
       "      <td>...</td>\n",
       "      <td>...</td>\n",
       "      <td>...</td>\n",
       "      <td>...</td>\n",
       "    </tr>\n",
       "    <tr>\n",
       "      <th>243643</th>\n",
       "      <td>0310K376F9P2R2</td>\n",
       "      <td>Ok</td>\n",
       "      <td>r03c10f09p02-ch2sk376fk1fl1.tiff</td>\n",
       "      <td>3</td>\n",
       "      <td>10</td>\n",
       "      <td>9</td>\n",
       "      <td>2</td>\n",
       "      <td>375</td>\n",
       "      <td>2</td>\n",
       "      <td>1</td>\n",
       "      <td>...</td>\n",
       "      <td>2E-06</td>\n",
       "      <td>0.135064006</td>\n",
       "      <td>337503.973</td>\n",
       "      <td>2023-08-08T13:15:47.533+01:00</td>\n",
       "      <td>740</td>\n",
       "      <td>0</td>\n",
       "      <td>40</td>\n",
       "      <td>1.1</td>\n",
       "      <td>0.2</td>\n",
       "      <td>[[0.994928,0,0,15.1],[0,-0.994928,0,-5.3],[0,0...</td>\n",
       "    </tr>\n",
       "    <tr>\n",
       "      <th>243644</th>\n",
       "      <td>0310K376F9P2R3</td>\n",
       "      <td>Ok</td>\n",
       "      <td>r03c10f09p02-ch3sk376fk1fl1.tiff</td>\n",
       "      <td>3</td>\n",
       "      <td>10</td>\n",
       "      <td>9</td>\n",
       "      <td>2</td>\n",
       "      <td>375</td>\n",
       "      <td>3</td>\n",
       "      <td>1</td>\n",
       "      <td>...</td>\n",
       "      <td>2E-06</td>\n",
       "      <td>0.135064006</td>\n",
       "      <td>337503.973</td>\n",
       "      <td>2023-08-08T13:15:47.8+01:00</td>\n",
       "      <td>640</td>\n",
       "      <td>706</td>\n",
       "      <td>40</td>\n",
       "      <td>1.1</td>\n",
       "      <td>0.2</td>\n",
       "      <td>[[0.994928,0,0,15.1],[0,-0.994928,0,-5.3],[0,0...</td>\n",
       "    </tr>\n",
       "    <tr>\n",
       "      <th>243645</th>\n",
       "      <td>0310K376F9P3R1</td>\n",
       "      <td>Ok</td>\n",
       "      <td>r03c10f09p03-ch1sk376fk1fl1.tiff</td>\n",
       "      <td>3</td>\n",
       "      <td>10</td>\n",
       "      <td>9</td>\n",
       "      <td>3</td>\n",
       "      <td>375</td>\n",
       "      <td>1</td>\n",
       "      <td>1</td>\n",
       "      <td>...</td>\n",
       "      <td>4E-06</td>\n",
       "      <td>0.135066003</td>\n",
       "      <td>337503.973</td>\n",
       "      <td>2023-08-08T13:15:48.08+01:00</td>\n",
       "      <td>561</td>\n",
       "      <td>599</td>\n",
       "      <td>40</td>\n",
       "      <td>1.1</td>\n",
       "      <td>0.2</td>\n",
       "      <td>[[0.994928,0,0,15.1],[0,-0.994928,0,-5.3],[0,0...</td>\n",
       "    </tr>\n",
       "    <tr>\n",
       "      <th>243646</th>\n",
       "      <td>0310K376F9P3R2</td>\n",
       "      <td>Ok</td>\n",
       "      <td>r03c10f09p03-ch2sk376fk1fl1.tiff</td>\n",
       "      <td>3</td>\n",
       "      <td>10</td>\n",
       "      <td>9</td>\n",
       "      <td>3</td>\n",
       "      <td>375</td>\n",
       "      <td>2</td>\n",
       "      <td>1</td>\n",
       "      <td>...</td>\n",
       "      <td>4E-06</td>\n",
       "      <td>0.135066003</td>\n",
       "      <td>337503.973</td>\n",
       "      <td>2023-08-08T13:15:48.097+01:00</td>\n",
       "      <td>740</td>\n",
       "      <td>0</td>\n",
       "      <td>40</td>\n",
       "      <td>1.1</td>\n",
       "      <td>0.2</td>\n",
       "      <td>[[0.994928,0,0,15.1],[0,-0.994928,0,-5.3],[0,0...</td>\n",
       "    </tr>\n",
       "    <tr>\n",
       "      <th>243647</th>\n",
       "      <td>0310K376F9P3R3</td>\n",
       "      <td>Ok</td>\n",
       "      <td>r03c10f09p03-ch3sk376fk1fl1.tiff</td>\n",
       "      <td>3</td>\n",
       "      <td>10</td>\n",
       "      <td>9</td>\n",
       "      <td>3</td>\n",
       "      <td>375</td>\n",
       "      <td>3</td>\n",
       "      <td>1</td>\n",
       "      <td>...</td>\n",
       "      <td>4E-06</td>\n",
       "      <td>0.135066003</td>\n",
       "      <td>337503.973</td>\n",
       "      <td>2023-08-08T13:15:48.36+01:00</td>\n",
       "      <td>640</td>\n",
       "      <td>706</td>\n",
       "      <td>40</td>\n",
       "      <td>1.1</td>\n",
       "      <td>0.2</td>\n",
       "      <td>[[0.994928,0,0,15.1],[0,-0.994928,0,-5.3],[0,0...</td>\n",
       "    </tr>\n",
       "  </tbody>\n",
       "</table>\n",
       "<p>243648 rows × 35 columns</p>\n",
       "</div>"
      ],
      "text/plain": [
       "                    id State                               URL Row Col  \\\n",
       "0         0203K1F1P1R1    Ok    r02c03f01p01-ch1sk1fk1fl1.tiff   2   3   \n",
       "1         0203K1F1P1R2    Ok    r02c03f01p01-ch2sk1fk1fl1.tiff   2   3   \n",
       "2         0203K1F1P1R3    Ok    r02c03f01p01-ch3sk1fk1fl1.tiff   2   3   \n",
       "3         0203K1F1P2R1    Ok    r02c03f01p02-ch1sk1fk1fl1.tiff   2   3   \n",
       "4         0203K1F1P2R2    Ok    r02c03f01p02-ch2sk1fk1fl1.tiff   2   3   \n",
       "...                ...   ...                               ...  ..  ..   \n",
       "243643  0310K376F9P2R2    Ok  r03c10f09p02-ch2sk376fk1fl1.tiff   3  10   \n",
       "243644  0310K376F9P2R3    Ok  r03c10f09p02-ch3sk376fk1fl1.tiff   3  10   \n",
       "243645  0310K376F9P3R1    Ok  r03c10f09p03-ch1sk376fk1fl1.tiff   3  10   \n",
       "243646  0310K376F9P3R2    Ok  r03c10f09p03-ch2sk376fk1fl1.tiff   3  10   \n",
       "243647  0310K376F9P3R3    Ok  r03c10f09p03-ch3sk376fk1fl1.tiff   3  10   \n",
       "\n",
       "       FieldID PlaneID TimepointID ChannelID FlimID  ... PositionZ  \\\n",
       "0            1       1           0         1      1  ...         0   \n",
       "1            1       1           0         2      1  ...         0   \n",
       "2            1       1           0         3      1  ...         0   \n",
       "3            1       2           0         1      1  ...     2E-06   \n",
       "4            1       2           0         2      1  ...     2E-06   \n",
       "...        ...     ...         ...       ...    ...  ...       ...   \n",
       "243643       9       2         375         2      1  ...     2E-06   \n",
       "243644       9       2         375         3      1  ...     2E-06   \n",
       "243645       9       3         375         1      1  ...     4E-06   \n",
       "243646       9       3         375         2      1  ...     4E-06   \n",
       "243647       9       3         375         3      1  ...     4E-06   \n",
       "\n",
       "       AbsPositionZ MeasurementTimeOffset                        AbsTime  \\\n",
       "0       0.135205805                     0    2023-08-04T15:28:16.5+01:00   \n",
       "1       0.135205805                     0    2023-08-04T15:28:16.5+01:00   \n",
       "2       0.135205805                     0  2023-08-04T15:28:16.767+01:00   \n",
       "3       0.135207802                     0  2023-08-04T15:28:17.047+01:00   \n",
       "4       0.135207802                     0  2023-08-04T15:28:17.047+01:00   \n",
       "...             ...                   ...                            ...   \n",
       "243643  0.135064006            337503.973  2023-08-08T13:15:47.533+01:00   \n",
       "243644  0.135064006            337503.973    2023-08-08T13:15:47.8+01:00   \n",
       "243645  0.135066003            337503.973   2023-08-08T13:15:48.08+01:00   \n",
       "243646  0.135066003            337503.973  2023-08-08T13:15:48.097+01:00   \n",
       "243647  0.135066003            337503.973   2023-08-08T13:15:48.36+01:00   \n",
       "\n",
       "       MainExcitationWavelength MainEmissionWavelength ObjectiveMagnification  \\\n",
       "0                           561                    599                     40   \n",
       "1                           740                      0                     40   \n",
       "2                           640                    706                     40   \n",
       "3                           561                    599                     40   \n",
       "4                           740                      0                     40   \n",
       "...                         ...                    ...                    ...   \n",
       "243643                      740                      0                     40   \n",
       "243644                      640                    706                     40   \n",
       "243645                      561                    599                     40   \n",
       "243646                      740                      0                     40   \n",
       "243647                      640                    706                     40   \n",
       "\n",
       "       ObjectiveNA ExposureTime  \\\n",
       "0              1.1          0.2   \n",
       "1              1.1          0.2   \n",
       "2              1.1          0.2   \n",
       "3              1.1          0.2   \n",
       "4              1.1          0.2   \n",
       "...            ...          ...   \n",
       "243643         1.1          0.2   \n",
       "243644         1.1          0.2   \n",
       "243645         1.1          0.2   \n",
       "243646         1.1          0.2   \n",
       "243647         1.1          0.2   \n",
       "\n",
       "                                        OrientationMatrix  \n",
       "0       [[0.994928,0,0,15.1],[0,-0.994928,0,-5.3],[0,0...  \n",
       "1       [[0.994928,0,0,15.1],[0,-0.994928,0,-5.3],[0,0...  \n",
       "2       [[0.994928,0,0,15.1],[0,-0.994928,0,-5.3],[0,0...  \n",
       "3       [[0.994928,0,0,15.1],[0,-0.994928,0,-5.3],[0,0...  \n",
       "4       [[0.994928,0,0,15.1],[0,-0.994928,0,-5.3],[0,0...  \n",
       "...                                                   ...  \n",
       "243643  [[0.994928,0,0,15.1],[0,-0.994928,0,-5.3],[0,0...  \n",
       "243644  [[0.994928,0,0,15.1],[0,-0.994928,0,-5.3],[0,0...  \n",
       "243645  [[0.994928,0,0,15.1],[0,-0.994928,0,-5.3],[0,0...  \n",
       "243646  [[0.994928,0,0,15.1],[0,-0.994928,0,-5.3],[0,0...  \n",
       "243647  [[0.994928,0,0,15.1],[0,-0.994928,0,-5.3],[0,0...  \n",
       "\n",
       "[243648 rows x 35 columns]"
      ]
     },
     "execution_count": 3,
     "metadata": {},
     "output_type": "execute_result"
    }
   ],
   "source": [
    "# base_dir = '/mnt/DATA/macrohet/'\n",
    "base_dir = '/run/user/30046150/gvfs/smb-share:server=data2.thecrick.org,share=lab-gutierrezm/home/users/dayn/macrohet_nemo/macrohet_images/NDXXXX_optimisation/ND0000__2023-08-04T15_27_41-Measurement 1/'\n",
    "# base_dir = '/Volumes/lab-gutierrezm/home/users/dayn/macrohet_nemo/macrohet_images/NDXXXX_optimisation/ND0000__2023-08-04T15_27_41-Measurement 1/'\n",
    "# metadata_fn = os.path.join(base_dir, 'macrohet_images/Index.idx.xml')\n",
    "metadata_fn = os.path.join(base_dir, 'Images/Index.idx.xml')\n",
    "metadata = dataio.read_harmony_metadata(metadata_fn)  \n",
    "metadata"
   ]
  },
  {
   "cell_type": "markdown",
   "id": "4779c1f0",
   "metadata": {},
   "source": [
    "### View assay layout and mask information (optional)\n",
    "\n",
    "The Opera Phenix acquires many time lapse series from a range of positions. The first step is to inspect the image metadata, presented in the form of an `Assaylayout/experiment_ID.xml` file, to show which positions correspond to which experimental assays."
   ]
  },
  {
   "cell_type": "code",
   "execution_count": 4,
   "id": "4b75643e",
   "metadata": {},
   "outputs": [
    {
     "name": "stdout",
     "output_type": "stream",
     "text": [
      "Reading metadata XML file...\n",
      "Extracting metadata complete!\n"
     ]
    },
    {
     "data": {
      "text/html": [
       "<div>\n",
       "<style scoped>\n",
       "    .dataframe tbody tr th:only-of-type {\n",
       "        vertical-align: middle;\n",
       "    }\n",
       "\n",
       "    .dataframe tbody tr th {\n",
       "        vertical-align: top;\n",
       "    }\n",
       "\n",
       "    .dataframe thead th {\n",
       "        text-align: right;\n",
       "    }\n",
       "</style>\n",
       "<table border=\"1\" class=\"dataframe\">\n",
       "  <thead>\n",
       "    <tr style=\"text-align: right;\">\n",
       "      <th></th>\n",
       "      <th></th>\n",
       "      <th>Cell Count</th>\n",
       "      <th>double</th>\n",
       "      <th>Staining</th>\n",
       "      <th>Infection</th>\n",
       "    </tr>\n",
       "  </thead>\n",
       "  <tbody>\n",
       "    <tr>\n",
       "      <th rowspan=\"4\" valign=\"top\">2</th>\n",
       "      <th>3</th>\n",
       "      <td>NaN</td>\n",
       "      <td>50000</td>\n",
       "      <td>False</td>\n",
       "      <td>False</td>\n",
       "    </tr>\n",
       "    <tr>\n",
       "      <th>4</th>\n",
       "      <td>NaN</td>\n",
       "      <td>50000</td>\n",
       "      <td>False</td>\n",
       "      <td>True</td>\n",
       "    </tr>\n",
       "    <tr>\n",
       "      <th>9</th>\n",
       "      <td>NaN</td>\n",
       "      <td>50000</td>\n",
       "      <td>True</td>\n",
       "      <td>False</td>\n",
       "    </tr>\n",
       "    <tr>\n",
       "      <th>10</th>\n",
       "      <td>NaN</td>\n",
       "      <td>50000</td>\n",
       "      <td>True</td>\n",
       "      <td>True</td>\n",
       "    </tr>\n",
       "    <tr>\n",
       "      <th rowspan=\"4\" valign=\"top\">3</th>\n",
       "      <th>3</th>\n",
       "      <td>NaN</td>\n",
       "      <td>25000</td>\n",
       "      <td>False</td>\n",
       "      <td>False</td>\n",
       "    </tr>\n",
       "    <tr>\n",
       "      <th>4</th>\n",
       "      <td>NaN</td>\n",
       "      <td>25000</td>\n",
       "      <td>False</td>\n",
       "      <td>True</td>\n",
       "    </tr>\n",
       "    <tr>\n",
       "      <th>9</th>\n",
       "      <td>NaN</td>\n",
       "      <td>25000</td>\n",
       "      <td>True</td>\n",
       "      <td>False</td>\n",
       "    </tr>\n",
       "    <tr>\n",
       "      <th>10</th>\n",
       "      <td>NaN</td>\n",
       "      <td>25000</td>\n",
       "      <td>True</td>\n",
       "      <td>True</td>\n",
       "    </tr>\n",
       "  </tbody>\n",
       "</table>\n",
       "</div>"
      ],
      "text/plain": [
       "      Cell Count double Staining Infection\n",
       "2 3          NaN  50000    False     False\n",
       "  4          NaN  50000    False      True\n",
       "  9          NaN  50000     True     False\n",
       "  10         NaN  50000     True      True\n",
       "3 3          NaN  25000    False     False\n",
       "  4          NaN  25000    False      True\n",
       "  9          NaN  25000     True     False\n",
       "  10         NaN  25000     True      True"
      ]
     },
     "execution_count": 4,
     "metadata": {},
     "output_type": "execute_result"
    }
   ],
   "source": [
    "# metadata_path = os.path.join(base_dir, 'macrohet_images/Assaylayout/20210602_Live_cell_IPSDMGFP_ATB.xml')\n",
    "metadata_path = glob.glob(os.path.join(base_dir, 'Assaylayout/*.xml'))[0]\n",
    "assay_layout = dataio.read_harmony_metadata(metadata_path, assay_layout=True,)# mask_exist=True,  image_dir = image_dir, image_metadata = metadata)\n",
    "# TEMP FIX FOR BUG IN ASSAY LAYOUT READER - ends up displaying more rows cols then there are so\n",
    "assay_layout = assay_layout.loc[[idx for idx in assay_layout.index if str(idx[0]) in list(metadata['Row'].unique()) and str(idx[1]) in list(metadata['Col'].unique())]]\n",
    "assay_layout"
   ]
  },
  {
   "cell_type": "markdown",
   "id": "e9d4dc7f",
   "metadata": {},
   "source": [
    "### Define row and column of choice"
   ]
  },
  {
   "cell_type": "code",
   "execution_count": 5,
   "id": "661b558f",
   "metadata": {},
   "outputs": [],
   "source": [
    "row = 3\n",
    "column = 9"
   ]
  },
  {
   "cell_type": "markdown",
   "id": "bee546c2",
   "metadata": {},
   "source": [
    "### Now to lazily mosaic the images using Dask prior to viewing them.\n",
    "\n",
    "1x (75,2,3) [TCZ] image stack takes approximately 1 minute to stitch together, so only load the one field of view I want."
   ]
  },
  {
   "cell_type": "code",
   "execution_count": 6,
   "id": "72561ec6",
   "metadata": {},
   "outputs": [
    {
     "name": "stdout",
     "output_type": "stream",
     "text": [
      "CPU times: user 2.15 s, sys: 37.8 ms, total: 2.19 s\n",
      "Wall time: 2.37 s\n"
     ]
    }
   ],
   "source": [
    "%%time\n",
    "# image_dir = os.path.join(base_dir, 'macrohet_images/Images_8bit')\n",
    "image_dir = os.path.join(base_dir, 'Images')\n",
    "images = tile.compile_mosaic(image_dir, \n",
    "                             metadata, \n",
    "                             row, column, \n",
    "                             set_plane='sum_proj',\n",
    "                             # set_channel=[0,2],\n",
    "                             # set_time = 1,\n",
    "#                             input_transforms = [input_transforms]\n",
    "                            )#.compute().compute()"
   ]
  },
  {
   "cell_type": "code",
   "execution_count": null,
   "id": "bfaf74f7-9712-4f79-bfa7-e5da51d51410",
   "metadata": {
    "scrolled": true
   },
   "outputs": [],
   "source": [
    "images"
   ]
  },
  {
   "cell_type": "code",
   "execution_count": null,
   "id": "15caac8c-0bdd-47ea-811b-ccc541c3a83b",
   "metadata": {},
   "outputs": [],
   "source": [
    "import dask.array as da"
   ]
  },
  {
   "cell_type": "code",
   "execution_count": null,
   "id": "c8810f02-bedc-45bf-bfe5-d381f2df674a",
   "metadata": {},
   "outputs": [],
   "source": [
    "images = da.stack([images[:,0,...], images[:,2,...]], axis = 1)"
   ]
  },
  {
   "cell_type": "code",
   "execution_count": null,
   "id": "1caced5b-cd94-4642-8f8d-b5bf49f14709",
   "metadata": {},
   "outputs": [],
   "source": [
    "images"
   ]
  },
  {
   "cell_type": "markdown",
   "id": "52971987",
   "metadata": {},
   "source": [
    "# Launch napari image viewer"
   ]
  },
  {
   "cell_type": "code",
   "execution_count": null,
   "id": "6818a45d",
   "metadata": {},
   "outputs": [],
   "source": [
    "%time\n",
    "viewer = napari.Viewer(title = '3,9 making movie')\n",
    "\n",
    "# viewer.add_image(images, \n",
    "#                  channel_axis=1,\n",
    "#                  name=[\"macrophage\", \"mtb\"],\n",
    "#                  colormap=[\"green\",  \"magenta\"],\n",
    "# #                  contrast_limits=[[100, 6000], [100, 2000]],\n",
    "#                  contrast_limits=[[0,450], [0,450]], \n",
    "#                  visible = True\n",
    "#                  )\n",
    "viewer.add_image(images, \n",
    "                 channel_axis=1,\n",
    "#                  name=[\"macrophage\", \"mtb\"],\n",
    "                 colormap=[\"green\",  \"magenta\"],\n",
    "# #                  contrast_limits=[[100, 6000], [100, 2000]],\n",
    "                 contrast_limits=[[0,6876], [0,5000]], \n",
    "                 visible = True, \n",
    "                 scale = napari_scale\n",
    "                 )\n",
    "# viewer.add_labels(segmentation, \n",
    "# #                   num_colors= 1,\n",
    "#                   #scale=(10, 1, 1,), \n",
    "#                   #color='yellow'\n",
    "#                   name = 'segmentation'\n",
    "#                  )\n",
    "# viewer.add_labels(col_segmentation, \n",
    "#                   name = 'recolored segmentation'\n",
    "#                   #scale=(10, 1, 1,), \n",
    "#                   #color='yellow'\n",
    "#                  )\n",
    "# viewer.add_tracks(napari_tracks, scale = (1,5.04,5.04)\n",
    "# #                     properties=properties, \n",
    "# #                     graph=graph, \n",
    "# #                     name=\"Properly downscaled tracks\", \n",
    "# #                     blending=\"translucent\",\n",
    "# #                     visible=True,\n",
    "# # #                     scale = (100,1,1)\n",
    "#                  )\n",
    "# viewer.add_tracks(napari_tracks, scale = (1,5.04,5.04),\n",
    "# #                     properties=properties, \n",
    "# #                     graph=graph, \n",
    "# #                     name=\"Properly downscaled tracks\", \n",
    "# #                     blending=\"translucent\",\n",
    "# #                     visible=True,\n",
    "# # #                     scale = (100,1,1)\n",
    "#                  )"
   ]
  },
  {
   "cell_type": "markdown",
   "id": "021de925-a921-43db-a55a-97d5fb03fe45",
   "metadata": {},
   "source": [
    "## Animate"
   ]
  },
  {
   "cell_type": "code",
   "execution_count": 15,
   "id": "96f72da2-6b4e-4465-b74d-d9b9905b9337",
   "metadata": {},
   "outputs": [],
   "source": [
    "output_dir = '/run/user/30046150/gvfs/smb-share:server=data2.thecrick.org,share=lab-gutierrezm/home/users/dayn/macrohet_nemo/videos/NDX'"
   ]
  },
  {
   "cell_type": "code",
   "execution_count": null,
   "id": "a4c7acc7-3cb2-45dd-9b8d-5032165e4d3b",
   "metadata": {},
   "outputs": [],
   "source": [
    "output_dir = '/home/dayn/'"
   ]
  },
  {
   "cell_type": "code",
   "execution_count": null,
   "id": "7517855d-aae1-4e28-b51f-1d4ea84ac41c",
   "metadata": {},
   "outputs": [],
   "source": [
    "from napari_animation import Animation"
   ]
  },
  {
   "cell_type": "code",
   "execution_count": null,
   "id": "d4b19dab-90f5-4193-af81-d322037b7e21",
   "metadata": {},
   "outputs": [],
   "source": [
    "animation = Animation(viewer)"
   ]
  },
  {
   "cell_type": "code",
   "execution_count": null,
   "id": "352ae46b-2deb-43ec-8c63-ae79140d32c3",
   "metadata": {},
   "outputs": [],
   "source": [
    "def update_slider(event):\n",
    "    # only trigger if update comes from first axis (optional)\n",
    "        #ind_lambda = viewer.dims.indices[0]\n",
    "    time = viewer.dims.current_step[0] / (60/15)\n",
    "    viewer.text_overlay.text = f\"{time:1.2f} hours\"\n",
    "text_size = 24\n",
    "napari_scale = [1.4949402023919043e-07, 1.4949402023919043e-07]\n"
   ]
  },
  {
   "cell_type": "code",
   "execution_count": null,
   "id": "86cc3cd8-9491-4c33-ae88-729b613c0ba7",
   "metadata": {},
   "outputs": [],
   "source": [
    "viewer.theme = 'dark'\n",
    "viewer.scale_bar.visible = True\n",
    "viewer.scale_bar.unit = 'm'\n",
    "viewer.scale_bar.font_size = text_size\n",
    "viewer.text_overlay.visible = True\n",
    "viewer.text_overlay.color = 'white'\n",
    "viewer.text_overlay.position = 'bottom_left'\n",
    "viewer.text_overlay.font_size = text_size\n",
    "viewer.dims.events.current_step.connect(update_slider)"
   ]
  },
  {
   "cell_type": "code",
   "execution_count": null,
   "id": "7901e717-1728-4099-a88f-09c13bf5f923",
   "metadata": {},
   "outputs": [],
   "source": [
    "zoom = viewer.camera.zoom\n",
    "cam_coords = viewer.camera.center\n",
    "print(zoom, cam_coords)"
   ]
  },
  {
   "cell_type": "code",
   "execution_count": null,
   "id": "3d97da61-fa49-424b-9ea3-44da1f66059e",
   "metadata": {},
   "outputs": [],
   "source": [
    "len(images)"
   ]
  },
  {
   "cell_type": "code",
   "execution_count": null,
   "id": "e8619c85-5f43-4efd-a946-e491d771892c",
   "metadata": {},
   "outputs": [],
   "source": [
    "from skimage.io import imsave\n",
    "from tqdm.auto import tqdm"
   ]
  },
  {
   "cell_type": "code",
   "execution_count": 55,
   "id": "7a0d40b0-0d80-4bfe-8b23-c60fa1ad44f7",
   "metadata": {},
   "outputs": [],
   "source": [
    "viewer.dims.current_step = (187, cam_coords[-2], cam_coords[-1])\n",
    "viewer.camera.zoom = zoom#*0.95\n",
    "fn = os.path.join('/home/dayn/test.png')\n",
    "imsave(fn, viewer.screenshot())"
   ]
  },
  {
   "cell_type": "code",
   "execution_count": 60,
   "id": "5c21ef5c-42c5-49b5-acc5-9611bf0bd876",
   "metadata": {},
   "outputs": [
    {
     "data": {
      "application/vnd.jupyter.widget-view+json": {
       "model_id": "6198dd65f08f4e83994234a3e2abc13a",
       "version_major": 2,
       "version_minor": 0
      },
      "text/plain": [
       "Saving animation:   0%|          | 0/376 [00:00<?, ?it/s]"
      ]
     },
     "metadata": {},
     "output_type": "display_data"
    },
    {
     "ename": "Exception",
     "evalue": "[Errno 5] Input/output error \n Could not load file: /run/user/30046150/gvfs/smb-share:server=data2.thecrick.org,share=lab-gutierrezm/home/users/dayn/macrohet_nemo/macrohet_images/NDXXXX_optimisation/ND0000__2023-08-04T15_27_41-Measurement 1/Images/r03c10f02p02-ch3sk212fk1fl1.tiff",
     "output_type": "error",
     "traceback": [
      "\u001b[0;31m---------------------------------------------------------------------------\u001b[0m",
      "\u001b[0;31mOSError\u001b[0m                                   Traceback (most recent call last)",
      "\u001b[0;32m~/analysis/macrohet/macrohet/tile.py\u001b[0m in \u001b[0;36m?\u001b[0;34m(file, transforms)\u001b[0m\n\u001b[1;32m    506\u001b[0m         \u001b[0mimg\u001b[0m \u001b[0;34m=\u001b[0m \u001b[0mimread\u001b[0m\u001b[0;34m(\u001b[0m\u001b[0mfile\u001b[0m\u001b[0;34m)\u001b[0m\u001b[0;34m\u001b[0m\u001b[0;34m\u001b[0m\u001b[0m\n\u001b[1;32m    507\u001b[0m     \u001b[0;32mexcept\u001b[0m \u001b[0mException\u001b[0m \u001b[0;32mas\u001b[0m \u001b[0me\u001b[0m\u001b[0;34m:\u001b[0m\u001b[0;34m\u001b[0m\u001b[0;34m\u001b[0m\u001b[0m\n\u001b[0;32m--> 508\u001b[0;31m         \u001b[0;32mraise\u001b[0m \u001b[0mException\u001b[0m\u001b[0;34m(\u001b[0m\u001b[0;34mf'{e} \\n Could not load file: {file}'\u001b[0m\u001b[0;34m)\u001b[0m\u001b[0;34m\u001b[0m\u001b[0;34m\u001b[0m\u001b[0m\n\u001b[0m\u001b[1;32m    509\u001b[0m     \u001b[0;31m# TO-DO remove this hacky fix\u001b[0m\u001b[0;34m\u001b[0m\u001b[0;34m\u001b[0m\u001b[0m\n",
      "\u001b[0;32m~/miniconda3/envs/brassica/lib/python3.9/site-packages/skimage/io/_io.py\u001b[0m in \u001b[0;36m?\u001b[0;34m(fname, as_gray, plugin, **plugin_args)\u001b[0m\n\u001b[1;32m     51\u001b[0m \u001b[0;34m\u001b[0m\u001b[0m\n\u001b[1;32m     52\u001b[0m     \u001b[0;32mwith\u001b[0m \u001b[0mfile_or_url_context\u001b[0m\u001b[0;34m(\u001b[0m\u001b[0mfname\u001b[0m\u001b[0;34m)\u001b[0m \u001b[0;32mas\u001b[0m \u001b[0mfname\u001b[0m\u001b[0;34m:\u001b[0m\u001b[0;34m\u001b[0m\u001b[0;34m\u001b[0m\u001b[0m\n\u001b[0;32m---> 53\u001b[0;31m         \u001b[0mimg\u001b[0m \u001b[0;34m=\u001b[0m \u001b[0mcall_plugin\u001b[0m\u001b[0;34m(\u001b[0m\u001b[0;34m'imread'\u001b[0m\u001b[0;34m,\u001b[0m \u001b[0mfname\u001b[0m\u001b[0;34m,\u001b[0m \u001b[0mplugin\u001b[0m\u001b[0;34m=\u001b[0m\u001b[0mplugin\u001b[0m\u001b[0;34m,\u001b[0m \u001b[0;34m**\u001b[0m\u001b[0mplugin_args\u001b[0m\u001b[0;34m)\u001b[0m\u001b[0;34m\u001b[0m\u001b[0;34m\u001b[0m\u001b[0m\n\u001b[0m\u001b[1;32m     54\u001b[0m \u001b[0;34m\u001b[0m\u001b[0m\n",
      "\u001b[0;32m~/miniconda3/envs/brassica/lib/python3.9/site-packages/skimage/io/manage_plugins.py\u001b[0m in \u001b[0;36m?\u001b[0;34m(kind, *args, **kwargs)\u001b[0m\n\u001b[1;32m    205\u001b[0m                                (plugin, kind))\n\u001b[1;32m    206\u001b[0m \u001b[0;34m\u001b[0m\u001b[0m\n\u001b[0;32m--> 207\u001b[0;31m     \u001b[0;32mreturn\u001b[0m \u001b[0mfunc\u001b[0m\u001b[0;34m(\u001b[0m\u001b[0;34m*\u001b[0m\u001b[0margs\u001b[0m\u001b[0;34m,\u001b[0m \u001b[0;34m**\u001b[0m\u001b[0mkwargs\u001b[0m\u001b[0;34m)\u001b[0m\u001b[0;34m\u001b[0m\u001b[0;34m\u001b[0m\u001b[0m\n\u001b[0m",
      "\u001b[0;32m~/miniconda3/envs/brassica/lib/python3.9/site-packages/skimage/io/_plugins/tifffile_plugin.py\u001b[0m in \u001b[0;36m?\u001b[0;34m(fname, **kwargs)\u001b[0m\n\u001b[1;32m     28\u001b[0m         \u001b[0mkwargs\u001b[0m\u001b[0;34m[\u001b[0m\u001b[0;34m'key'\u001b[0m\u001b[0;34m]\u001b[0m \u001b[0;34m=\u001b[0m \u001b[0mkwargs\u001b[0m\u001b[0;34m.\u001b[0m\u001b[0mpop\u001b[0m\u001b[0;34m(\u001b[0m\u001b[0;34m'img_num'\u001b[0m\u001b[0;34m)\u001b[0m\u001b[0;34m\u001b[0m\u001b[0;34m\u001b[0m\u001b[0m\n\u001b[1;32m     29\u001b[0m \u001b[0;34m\u001b[0m\u001b[0m\n\u001b[0;32m---> 30\u001b[0;31m     \u001b[0;32mreturn\u001b[0m \u001b[0mtifffile_imread\u001b[0m\u001b[0;34m(\u001b[0m\u001b[0mfname\u001b[0m\u001b[0;34m,\u001b[0m \u001b[0;34m**\u001b[0m\u001b[0mkwargs\u001b[0m\u001b[0;34m)\u001b[0m\u001b[0;34m\u001b[0m\u001b[0;34m\u001b[0m\u001b[0m\n\u001b[0m",
      "\u001b[0;32m~/miniconda3/envs/brassica/lib/python3.9/site-packages/tifffile/tifffile.py\u001b[0m in \u001b[0;36m?\u001b[0;34m(files, aszarr, **kwargs)\u001b[0m\n\u001b[1;32m    779\u001b[0m \u001b[0;34m\u001b[0m\u001b[0m\n\u001b[1;32m    780\u001b[0m         \u001b[0;32mif\u001b[0m \u001b[0misinstance\u001b[0m\u001b[0;34m(\u001b[0m\u001b[0mfiles\u001b[0m\u001b[0;34m,\u001b[0m \u001b[0;34m(\u001b[0m\u001b[0mstr\u001b[0m\u001b[0;34m,\u001b[0m \u001b[0mos\u001b[0m\u001b[0;34m.\u001b[0m\u001b[0mPathLike\u001b[0m\u001b[0;34m)\u001b[0m\u001b[0;34m)\u001b[0m \u001b[0;32mor\u001b[0m \u001b[0mhasattr\u001b[0m\u001b[0;34m(\u001b[0m\u001b[0mfiles\u001b[0m\u001b[0;34m,\u001b[0m \u001b[0;34m'seek'\u001b[0m\u001b[0;34m)\u001b[0m\u001b[0;34m:\u001b[0m\u001b[0;34m\u001b[0m\u001b[0;34m\u001b[0m\u001b[0m\n\u001b[0;32m--> 781\u001b[0;31m             \u001b[0;32mwith\u001b[0m \u001b[0mTiffFile\u001b[0m\u001b[0;34m(\u001b[0m\u001b[0mfiles\u001b[0m\u001b[0;34m,\u001b[0m \u001b[0;34m**\u001b[0m\u001b[0mkwargs_file\u001b[0m\u001b[0;34m)\u001b[0m \u001b[0;32mas\u001b[0m \u001b[0mtif\u001b[0m\u001b[0;34m:\u001b[0m\u001b[0;34m\u001b[0m\u001b[0;34m\u001b[0m\u001b[0m\n\u001b[0m\u001b[1;32m    782\u001b[0m                 \u001b[0;32mif\u001b[0m \u001b[0maszarr\u001b[0m\u001b[0;34m:\u001b[0m\u001b[0;34m\u001b[0m\u001b[0;34m\u001b[0m\u001b[0m\n",
      "\u001b[0;32m~/miniconda3/envs/brassica/lib/python3.9/site-packages/tifffile/tifffile.py\u001b[0m in \u001b[0;36m?\u001b[0;34m(self, arg, mode, name, offset, size, _multifile, _useframes, _master, **kwargs)\u001b[0m\n\u001b[1;32m   2971\u001b[0m         \u001b[0;32mexcept\u001b[0m \u001b[0mException\u001b[0m\u001b[0;34m:\u001b[0m\u001b[0;34m\u001b[0m\u001b[0;34m\u001b[0m\u001b[0m\n\u001b[1;32m   2972\u001b[0m             \u001b[0mfh\u001b[0m\u001b[0;34m.\u001b[0m\u001b[0mclose\u001b[0m\u001b[0;34m(\u001b[0m\u001b[0;34m)\u001b[0m\u001b[0;34m\u001b[0m\u001b[0;34m\u001b[0m\u001b[0m\n\u001b[0;32m-> 2973\u001b[0;31m             \u001b[0;32mraise\u001b[0m\u001b[0;34m\u001b[0m\u001b[0;34m\u001b[0m\u001b[0m\n\u001b[0m",
      "\u001b[0;32m~/miniconda3/envs/brassica/lib/python3.9/site-packages/tifffile/tifffile.py\u001b[0m in \u001b[0;36m?\u001b[0;34m(self, size)\u001b[0m\n\u001b[1;32m   9307\u001b[0m         \u001b[0;32mif\u001b[0m \u001b[0msize\u001b[0m \u001b[0;34m<\u001b[0m \u001b[0;36m0\u001b[0m \u001b[0;32mand\u001b[0m \u001b[0mself\u001b[0m\u001b[0;34m.\u001b[0m\u001b[0m_offset\u001b[0m\u001b[0;34m:\u001b[0m\u001b[0;34m\u001b[0m\u001b[0;34m\u001b[0m\u001b[0m\n\u001b[1;32m   9308\u001b[0m             \u001b[0msize\u001b[0m \u001b[0;34m=\u001b[0m \u001b[0mself\u001b[0m\u001b[0;34m.\u001b[0m\u001b[0m_size\u001b[0m\u001b[0;34m\u001b[0m\u001b[0;34m\u001b[0m\u001b[0m\n\u001b[0;32m-> 9309\u001b[0;31m         \u001b[0;32mreturn\u001b[0m \u001b[0mself\u001b[0m\u001b[0;34m.\u001b[0m\u001b[0m_fh\u001b[0m\u001b[0;34m.\u001b[0m\u001b[0mread\u001b[0m\u001b[0;34m(\u001b[0m\u001b[0msize\u001b[0m\u001b[0;34m)\u001b[0m\u001b[0;34m\u001b[0m\u001b[0;34m\u001b[0m\u001b[0m\n\u001b[0m",
      "\u001b[0;31mOSError\u001b[0m: [Errno 5] Input/output error",
      "\nDuring handling of the above exception, another exception occurred:\n",
      "\u001b[0;31mException\u001b[0m                                 Traceback (most recent call last)",
      "Cell \u001b[0;32mIn[60], line 3\u001b[0m\n\u001b[1;32m      1\u001b[0m \u001b[38;5;66;03m### save image sequence\u001b[39;00m\n\u001b[1;32m      2\u001b[0m \u001b[38;5;28;01mfor\u001b[39;00m t \u001b[38;5;129;01min\u001b[39;00m tqdm(\u001b[38;5;28mrange\u001b[39m(\u001b[38;5;28mlen\u001b[39m(images)), desc \u001b[38;5;241m=\u001b[39m \u001b[38;5;124mf\u001b[39m\u001b[38;5;124m'\u001b[39m\u001b[38;5;124mSaving animation\u001b[39m\u001b[38;5;124m'\u001b[39m):\n\u001b[0;32m----> 3\u001b[0m     \u001b[43mviewer\u001b[49m\u001b[38;5;241;43m.\u001b[39;49m\u001b[43mdims\u001b[49m\u001b[38;5;241;43m.\u001b[39;49m\u001b[43mcurrent_step\u001b[49m \u001b[38;5;241m=\u001b[39m (t, cam_coords[\u001b[38;5;241m-\u001b[39m\u001b[38;5;241m2\u001b[39m], cam_coords[\u001b[38;5;241m-\u001b[39m\u001b[38;5;241m1\u001b[39m])\n\u001b[1;32m      4\u001b[0m     viewer\u001b[38;5;241m.\u001b[39mcamera\u001b[38;5;241m.\u001b[39mzoom \u001b[38;5;241m=\u001b[39m zoom\u001b[38;5;66;03m#*0.95\u001b[39;00m\n\u001b[1;32m      5\u001b[0m     fn \u001b[38;5;241m=\u001b[39m os\u001b[38;5;241m.\u001b[39mpath\u001b[38;5;241m.\u001b[39mjoin(\u001b[38;5;124mf\u001b[39m\u001b[38;5;124m'\u001b[39m\u001b[38;5;124m/home/dayn/ND0000_animation_test/t_\u001b[39m\u001b[38;5;132;01m{\u001b[39;00mt\u001b[38;5;132;01m}\u001b[39;00m\u001b[38;5;124m.png\u001b[39m\u001b[38;5;124m'\u001b[39m)\n",
      "File \u001b[0;32m~/miniconda3/envs/brassica/lib/python3.9/site-packages/napari/utils/events/evented_model.py:326\u001b[0m, in \u001b[0;36mEventedModel.__setattr__\u001b[0;34m(self, name, value)\u001b[0m\n\u001b[1;32m    323\u001b[0m \u001b[38;5;28;01mif\u001b[39;00m are_equal(after, before):\n\u001b[1;32m    324\u001b[0m     \u001b[38;5;66;03m# no change\u001b[39;00m\n\u001b[1;32m    325\u001b[0m     \u001b[38;5;28;01mreturn\u001b[39;00m\n\u001b[0;32m--> 326\u001b[0m \u001b[43memitter\u001b[49m\u001b[43m(\u001b[49m\u001b[43mvalue\u001b[49m\u001b[38;5;241;43m=\u001b[39;49m\u001b[43mafter\u001b[49m\u001b[43m)\u001b[49m  \u001b[38;5;66;03m# emit event\u001b[39;00m\n\u001b[1;32m    328\u001b[0m \u001b[38;5;66;03m# emit events for any dependent computed properties as well\u001b[39;00m\n\u001b[1;32m    329\u001b[0m \u001b[38;5;28;01mfor\u001b[39;00m dep, value_ \u001b[38;5;129;01min\u001b[39;00m before_deps\u001b[38;5;241m.\u001b[39mitems():\n",
      "File \u001b[0;32m~/miniconda3/envs/brassica/lib/python3.9/site-packages/napari/utils/events/event.py:768\u001b[0m, in \u001b[0;36mEventEmitter.__call__\u001b[0;34m(self, *args, **kwargs)\u001b[0m\n\u001b[1;32m    765\u001b[0m     \u001b[38;5;28mself\u001b[39m\u001b[38;5;241m.\u001b[39m_block_counter\u001b[38;5;241m.\u001b[39mupdate([cb])\n\u001b[1;32m    766\u001b[0m     \u001b[38;5;28;01mcontinue\u001b[39;00m\n\u001b[0;32m--> 768\u001b[0m \u001b[38;5;28;43mself\u001b[39;49m\u001b[38;5;241;43m.\u001b[39;49m\u001b[43m_invoke_callback\u001b[49m\u001b[43m(\u001b[49m\u001b[43mcb\u001b[49m\u001b[43m,\u001b[49m\u001b[43m \u001b[49m\u001b[43mevent\u001b[49m\u001b[43m \u001b[49m\u001b[38;5;28;43;01mif\u001b[39;49;00m\u001b[43m \u001b[49m\u001b[43mpass_event\u001b[49m\u001b[43m \u001b[49m\u001b[38;5;28;43;01melse\u001b[39;49;00m\u001b[43m \u001b[49m\u001b[38;5;28;43;01mNone\u001b[39;49;00m\u001b[43m)\u001b[49m\n\u001b[1;32m    769\u001b[0m \u001b[38;5;28;01mif\u001b[39;00m event\u001b[38;5;241m.\u001b[39mblocked:\n\u001b[1;32m    770\u001b[0m     \u001b[38;5;28;01mbreak\u001b[39;00m\n",
      "File \u001b[0;32m~/miniconda3/envs/brassica/lib/python3.9/site-packages/napari/utils/events/event.py:806\u001b[0m, in \u001b[0;36mEventEmitter._invoke_callback\u001b[0;34m(self, cb, event)\u001b[0m\n\u001b[1;32m    804\u001b[0m     \u001b[38;5;28mself\u001b[39m\u001b[38;5;241m.\u001b[39mdisconnect(cb)\n\u001b[1;32m    805\u001b[0m     \u001b[38;5;28;01mreturn\u001b[39;00m\n\u001b[0;32m--> 806\u001b[0m \u001b[43m_handle_exception\u001b[49m\u001b[43m(\u001b[49m\n\u001b[1;32m    807\u001b[0m \u001b[43m    \u001b[49m\u001b[38;5;28;43mself\u001b[39;49m\u001b[38;5;241;43m.\u001b[39;49m\u001b[43mignore_callback_errors\u001b[49m\u001b[43m,\u001b[49m\n\u001b[1;32m    808\u001b[0m \u001b[43m    \u001b[49m\u001b[38;5;28;43mself\u001b[39;49m\u001b[38;5;241;43m.\u001b[39;49m\u001b[43mprint_callback_errors\u001b[49m\u001b[43m,\u001b[49m\n\u001b[1;32m    809\u001b[0m \u001b[43m    \u001b[49m\u001b[38;5;28;43mself\u001b[39;49m\u001b[43m,\u001b[49m\n\u001b[1;32m    810\u001b[0m \u001b[43m    \u001b[49m\u001b[43mcb_event\u001b[49m\u001b[38;5;241;43m=\u001b[39;49m\u001b[43m(\u001b[49m\u001b[43mcb\u001b[49m\u001b[43m,\u001b[49m\u001b[43m \u001b[49m\u001b[43mevent\u001b[49m\u001b[43m)\u001b[49m\u001b[43m,\u001b[49m\n\u001b[1;32m    811\u001b[0m \u001b[43m\u001b[49m\u001b[43m)\u001b[49m\n",
      "File \u001b[0;32m~/miniconda3/envs/brassica/lib/python3.9/site-packages/napari/utils/events/event.py:795\u001b[0m, in \u001b[0;36mEventEmitter._invoke_callback\u001b[0;34m(self, cb, event)\u001b[0m\n\u001b[1;32m    793\u001b[0m         cb(event)\n\u001b[1;32m    794\u001b[0m     \u001b[38;5;28;01melse\u001b[39;00m:\n\u001b[0;32m--> 795\u001b[0m         \u001b[43mcb\u001b[49m\u001b[43m(\u001b[49m\u001b[43m)\u001b[49m\n\u001b[1;32m    796\u001b[0m \u001b[38;5;28;01mexcept\u001b[39;00m \u001b[38;5;167;01mException\u001b[39;00m \u001b[38;5;28;01mas\u001b[39;00m e:  \u001b[38;5;66;03m# noqa: BLE001\u001b[39;00m\n\u001b[1;32m    797\u001b[0m     \u001b[38;5;66;03m# dead Qt object with living python pointer. not importing Qt\u001b[39;00m\n\u001b[1;32m    798\u001b[0m     \u001b[38;5;66;03m# here... but this error is consistent across backends\u001b[39;00m\n\u001b[1;32m    799\u001b[0m     \u001b[38;5;28;01mif\u001b[39;00m (\n\u001b[1;32m    800\u001b[0m         \u001b[38;5;28misinstance\u001b[39m(e, \u001b[38;5;167;01mRuntimeError\u001b[39;00m)\n\u001b[1;32m    801\u001b[0m         \u001b[38;5;129;01mand\u001b[39;00m \u001b[38;5;124m'\u001b[39m\u001b[38;5;124mC++\u001b[39m\u001b[38;5;124m'\u001b[39m \u001b[38;5;129;01min\u001b[39;00m \u001b[38;5;28mstr\u001b[39m(e)\n\u001b[1;32m    802\u001b[0m         \u001b[38;5;129;01mand\u001b[39;00m \u001b[38;5;28mstr\u001b[39m(e)\u001b[38;5;241m.\u001b[39mendswith((\u001b[38;5;124m'\u001b[39m\u001b[38;5;124mhas been deleted\u001b[39m\u001b[38;5;124m'\u001b[39m, \u001b[38;5;124m'\u001b[39m\u001b[38;5;124malready deleted.\u001b[39m\u001b[38;5;124m'\u001b[39m))\n\u001b[1;32m    803\u001b[0m     ):\n",
      "File \u001b[0;32m~/miniconda3/envs/brassica/lib/python3.9/site-packages/napari/components/viewer_model.py:393\u001b[0m, in \u001b[0;36mViewerModel._update_layers\u001b[0;34m(self, layers)\u001b[0m\n\u001b[1;32m    391\u001b[0m layers \u001b[38;5;241m=\u001b[39m layers \u001b[38;5;129;01mor\u001b[39;00m \u001b[38;5;28mself\u001b[39m\u001b[38;5;241m.\u001b[39mlayers\n\u001b[1;32m    392\u001b[0m \u001b[38;5;28;01mfor\u001b[39;00m layer \u001b[38;5;129;01min\u001b[39;00m layers:\n\u001b[0;32m--> 393\u001b[0m     \u001b[43mlayer\u001b[49m\u001b[38;5;241;43m.\u001b[39;49m\u001b[43m_slice_dims\u001b[49m\u001b[43m(\u001b[49m\n\u001b[1;32m    394\u001b[0m \u001b[43m        \u001b[49m\u001b[38;5;28;43mself\u001b[39;49m\u001b[38;5;241;43m.\u001b[39;49m\u001b[43mdims\u001b[49m\u001b[38;5;241;43m.\u001b[39;49m\u001b[43mpoint\u001b[49m\u001b[43m,\u001b[49m\u001b[43m \u001b[49m\u001b[38;5;28;43mself\u001b[39;49m\u001b[38;5;241;43m.\u001b[39;49m\u001b[43mdims\u001b[49m\u001b[38;5;241;43m.\u001b[39;49m\u001b[43mndisplay\u001b[49m\u001b[43m,\u001b[49m\u001b[43m \u001b[49m\u001b[38;5;28;43mself\u001b[39;49m\u001b[38;5;241;43m.\u001b[39;49m\u001b[43mdims\u001b[49m\u001b[38;5;241;43m.\u001b[39;49m\u001b[43morder\u001b[49m\n\u001b[1;32m    395\u001b[0m \u001b[43m    \u001b[49m\u001b[43m)\u001b[49m\n\u001b[1;32m    396\u001b[0m position \u001b[38;5;241m=\u001b[39m \u001b[38;5;28mlist\u001b[39m(\u001b[38;5;28mself\u001b[39m\u001b[38;5;241m.\u001b[39mcursor\u001b[38;5;241m.\u001b[39mposition)\n\u001b[1;32m    397\u001b[0m \u001b[38;5;28;01mfor\u001b[39;00m ind \u001b[38;5;129;01min\u001b[39;00m \u001b[38;5;28mself\u001b[39m\u001b[38;5;241m.\u001b[39mdims\u001b[38;5;241m.\u001b[39morder[: \u001b[38;5;241m-\u001b[39m\u001b[38;5;28mself\u001b[39m\u001b[38;5;241m.\u001b[39mdims\u001b[38;5;241m.\u001b[39mndisplay]:\n",
      "File \u001b[0;32m~/miniconda3/envs/brassica/lib/python3.9/site-packages/napari/layers/base/base.py:1076\u001b[0m, in \u001b[0;36mLayer._slice_dims\u001b[0;34m(self, point, ndisplay, order)\u001b[0m\n\u001b[1;32m   1073\u001b[0m \u001b[38;5;28mself\u001b[39m\u001b[38;5;241m.\u001b[39m_slice_input \u001b[38;5;241m=\u001b[39m slice_input\n\u001b[1;32m   1075\u001b[0m \u001b[38;5;66;03m# Update the point values\u001b[39;00m\n\u001b[0;32m-> 1076\u001b[0m \u001b[38;5;28;43mself\u001b[39;49m\u001b[38;5;241;43m.\u001b[39;49m\u001b[43mrefresh\u001b[49m\u001b[43m(\u001b[49m\u001b[43m)\u001b[49m\n\u001b[1;32m   1077\u001b[0m \u001b[38;5;28mself\u001b[39m\u001b[38;5;241m.\u001b[39m_reset_editable()\n",
      "File \u001b[0;32m~/miniconda3/envs/brassica/lib/python3.9/site-packages/napari/layers/base/base.py:1264\u001b[0m, in \u001b[0;36mLayer.refresh\u001b[0;34m(self, event)\u001b[0m\n\u001b[1;32m   1262\u001b[0m \u001b[38;5;250m\u001b[39m\u001b[38;5;124;03m\"\"\"Refresh all layer data based on current view slice.\"\"\"\u001b[39;00m\n\u001b[1;32m   1263\u001b[0m \u001b[38;5;28;01mif\u001b[39;00m \u001b[38;5;28mself\u001b[39m\u001b[38;5;241m.\u001b[39mvisible:\n\u001b[0;32m-> 1264\u001b[0m     \u001b[38;5;28;43mself\u001b[39;49m\u001b[38;5;241;43m.\u001b[39;49m\u001b[43mset_view_slice\u001b[49m\u001b[43m(\u001b[49m\u001b[43m)\u001b[49m\n\u001b[1;32m   1265\u001b[0m     \u001b[38;5;28mself\u001b[39m\u001b[38;5;241m.\u001b[39mevents\u001b[38;5;241m.\u001b[39mset_data()\n\u001b[1;32m   1266\u001b[0m     \u001b[38;5;28mself\u001b[39m\u001b[38;5;241m.\u001b[39m_update_thumbnail()\n",
      "File \u001b[0;32m~/miniconda3/envs/brassica/lib/python3.9/site-packages/napari/layers/base/base.py:1029\u001b[0m, in \u001b[0;36mLayer.set_view_slice\u001b[0;34m(self)\u001b[0m\n\u001b[1;32m   1027\u001b[0m \u001b[38;5;28;01mdef\u001b[39;00m \u001b[38;5;21mset_view_slice\u001b[39m(\u001b[38;5;28mself\u001b[39m):\n\u001b[1;32m   1028\u001b[0m     \u001b[38;5;28;01mwith\u001b[39;00m \u001b[38;5;28mself\u001b[39m\u001b[38;5;241m.\u001b[39mdask_optimized_slicing():\n\u001b[0;32m-> 1029\u001b[0m         \u001b[38;5;28;43mself\u001b[39;49m\u001b[38;5;241;43m.\u001b[39;49m\u001b[43m_set_view_slice\u001b[49m\u001b[43m(\u001b[49m\u001b[43m)\u001b[49m\n",
      "File \u001b[0;32m~/miniconda3/envs/brassica/lib/python3.9/site-packages/napari/layers/image/image.py:834\u001b[0m, in \u001b[0;36m_ImageBase._set_view_slice\u001b[0;34m(self)\u001b[0m\n\u001b[1;32m    830\u001b[0m \u001b[38;5;66;03m# Load our images, might be sync or async.\u001b[39;00m\n\u001b[1;32m    831\u001b[0m data \u001b[38;5;241m=\u001b[39m \u001b[38;5;28mself\u001b[39m\u001b[38;5;241m.\u001b[39m_SliceDataClass(\n\u001b[1;32m    832\u001b[0m     \u001b[38;5;28mself\u001b[39m, image_indices, image, thumbnail_source\n\u001b[1;32m    833\u001b[0m )\n\u001b[0;32m--> 834\u001b[0m \u001b[38;5;28;43mself\u001b[39;49m\u001b[38;5;241;43m.\u001b[39;49m\u001b[43m_load_slice\u001b[49m\u001b[43m(\u001b[49m\u001b[43mdata\u001b[49m\u001b[43m)\u001b[49m\n\u001b[1;32m    835\u001b[0m \u001b[38;5;28;01mif\u001b[39;00m \u001b[38;5;28mself\u001b[39m\u001b[38;5;241m.\u001b[39m_should_calc_clims:\n\u001b[1;32m    836\u001b[0m     \u001b[38;5;28mself\u001b[39m\u001b[38;5;241m.\u001b[39mreset_contrast_limits_range()\n",
      "File \u001b[0;32m~/miniconda3/envs/brassica/lib/python3.9/site-packages/napari/layers/image/image.py:860\u001b[0m, in \u001b[0;36m_ImageBase._load_slice\u001b[0;34m(self, data)\u001b[0m\n\u001b[1;32m    853\u001b[0m \u001b[38;5;28;01mdef\u001b[39;00m \u001b[38;5;21m_load_slice\u001b[39m(\u001b[38;5;28mself\u001b[39m, data: ImageSliceData):\n\u001b[1;32m    854\u001b[0m \u001b[38;5;250m    \u001b[39m\u001b[38;5;124;03m\"\"\"Load the image and maybe thumbnail source.\u001b[39;00m\n\u001b[1;32m    855\u001b[0m \n\u001b[1;32m    856\u001b[0m \u001b[38;5;124;03m    Parameters\u001b[39;00m\n\u001b[1;32m    857\u001b[0m \u001b[38;5;124;03m    ----------\u001b[39;00m\n\u001b[1;32m    858\u001b[0m \u001b[38;5;124;03m    data : Slice\u001b[39;00m\n\u001b[1;32m    859\u001b[0m \u001b[38;5;124;03m    \"\"\"\u001b[39;00m\n\u001b[0;32m--> 860\u001b[0m     \u001b[38;5;28;01mif\u001b[39;00m \u001b[38;5;28;43mself\u001b[39;49m\u001b[38;5;241;43m.\u001b[39;49m\u001b[43m_slice\u001b[49m\u001b[38;5;241;43m.\u001b[39;49m\u001b[43mload\u001b[49m\u001b[43m(\u001b[49m\u001b[43mdata\u001b[49m\u001b[43m)\u001b[49m:\n\u001b[1;32m    861\u001b[0m         \u001b[38;5;66;03m# The load was synchronous.\u001b[39;00m\n\u001b[1;32m    862\u001b[0m         \u001b[38;5;28mself\u001b[39m\u001b[38;5;241m.\u001b[39m_on_data_loaded(data, sync\u001b[38;5;241m=\u001b[39m\u001b[38;5;28;01mTrue\u001b[39;00m)\n\u001b[1;32m    863\u001b[0m     \u001b[38;5;28;01melse\u001b[39;00m:\n\u001b[1;32m    864\u001b[0m         \u001b[38;5;66;03m# The load will be asynchronous. Signal that our self.loaded\u001b[39;00m\n\u001b[1;32m    865\u001b[0m         \u001b[38;5;66;03m# property is now false, since the load is in progress.\u001b[39;00m\n",
      "File \u001b[0;32m~/miniconda3/envs/brassica/lib/python3.9/site-packages/napari/layers/image/_image_slice.py:125\u001b[0m, in \u001b[0;36mImageSlice.load\u001b[0;34m(self, data)\u001b[0m\n\u001b[1;32m    112\u001b[0m \u001b[38;5;250m\u001b[39m\u001b[38;5;124;03m\"\"\"Load this data into the slice.\u001b[39;00m\n\u001b[1;32m    113\u001b[0m \n\u001b[1;32m    114\u001b[0m \u001b[38;5;124;03mParameters\u001b[39;00m\n\u001b[0;32m   (...)\u001b[0m\n\u001b[1;32m    122\u001b[0m \u001b[38;5;124;03m    Return True if load was synchronous.\u001b[39;00m\n\u001b[1;32m    123\u001b[0m \u001b[38;5;124;03m\"\"\"\u001b[39;00m\n\u001b[1;32m    124\u001b[0m \u001b[38;5;28mself\u001b[39m\u001b[38;5;241m.\u001b[39mloaded \u001b[38;5;241m=\u001b[39m \u001b[38;5;28;01mFalse\u001b[39;00m  \u001b[38;5;66;03m# False until self._on_loaded is calls\u001b[39;00m\n\u001b[0;32m--> 125\u001b[0m \u001b[38;5;28;01mreturn\u001b[39;00m \u001b[38;5;28;43mself\u001b[39;49m\u001b[38;5;241;43m.\u001b[39;49m\u001b[43mloader\u001b[49m\u001b[38;5;241;43m.\u001b[39;49m\u001b[43mload\u001b[49m\u001b[43m(\u001b[49m\u001b[43mdata\u001b[49m\u001b[43m)\u001b[49m\n",
      "File \u001b[0;32m~/miniconda3/envs/brassica/lib/python3.9/site-packages/napari/layers/image/_image_loader.py:22\u001b[0m, in \u001b[0;36mImageLoader.load\u001b[0;34m(self, data)\u001b[0m\n\u001b[1;32m      9\u001b[0m \u001b[38;5;28;01mdef\u001b[39;00m \u001b[38;5;21mload\u001b[39m(\u001b[38;5;28mself\u001b[39m, data: ImageSliceData) \u001b[38;5;241m-\u001b[39m\u001b[38;5;241m>\u001b[39m \u001b[38;5;28mbool\u001b[39m:\n\u001b[1;32m     10\u001b[0m \u001b[38;5;250m    \u001b[39m\u001b[38;5;124;03m\"\"\"Load the ImageSliceData synchronously.\u001b[39;00m\n\u001b[1;32m     11\u001b[0m \n\u001b[1;32m     12\u001b[0m \u001b[38;5;124;03m    Parameters\u001b[39;00m\n\u001b[0;32m   (...)\u001b[0m\n\u001b[1;32m     20\u001b[0m \u001b[38;5;124;03m        True if load happened synchronously.\u001b[39;00m\n\u001b[1;32m     21\u001b[0m \u001b[38;5;124;03m    \"\"\"\u001b[39;00m\n\u001b[0;32m---> 22\u001b[0m     \u001b[43mdata\u001b[49m\u001b[38;5;241;43m.\u001b[39;49m\u001b[43mload_sync\u001b[49m\u001b[43m(\u001b[49m\u001b[43m)\u001b[49m\n\u001b[1;32m     23\u001b[0m     \u001b[38;5;28;01mreturn\u001b[39;00m \u001b[38;5;28;01mTrue\u001b[39;00m\n",
      "File \u001b[0;32m~/miniconda3/envs/brassica/lib/python3.9/site-packages/napari/layers/image/_image_slice_data.py:44\u001b[0m, in \u001b[0;36mImageSliceData.load_sync\u001b[0;34m(self)\u001b[0m\n\u001b[1;32m     42\u001b[0m \u001b[38;5;28;01mdef\u001b[39;00m \u001b[38;5;21mload_sync\u001b[39m(\u001b[38;5;28mself\u001b[39m) \u001b[38;5;241m-\u001b[39m\u001b[38;5;241m>\u001b[39m \u001b[38;5;28;01mNone\u001b[39;00m:\n\u001b[1;32m     43\u001b[0m \u001b[38;5;250m    \u001b[39m\u001b[38;5;124;03m\"\"\"Call asarray on our images to load them.\"\"\"\u001b[39;00m\n\u001b[0;32m---> 44\u001b[0m     \u001b[38;5;28mself\u001b[39m\u001b[38;5;241m.\u001b[39mimage \u001b[38;5;241m=\u001b[39m \u001b[43mnp\u001b[49m\u001b[38;5;241;43m.\u001b[39;49m\u001b[43masarray\u001b[49m\u001b[43m(\u001b[49m\u001b[38;5;28;43mself\u001b[39;49m\u001b[38;5;241;43m.\u001b[39;49m\u001b[43mimage\u001b[49m\u001b[43m)\u001b[49m\n\u001b[1;32m     46\u001b[0m     \u001b[38;5;28;01mif\u001b[39;00m \u001b[38;5;28mself\u001b[39m\u001b[38;5;241m.\u001b[39mthumbnail_source \u001b[38;5;129;01mis\u001b[39;00m \u001b[38;5;129;01mnot\u001b[39;00m \u001b[38;5;28;01mNone\u001b[39;00m:\n\u001b[1;32m     47\u001b[0m         \u001b[38;5;28mself\u001b[39m\u001b[38;5;241m.\u001b[39mthumbnail_source \u001b[38;5;241m=\u001b[39m np\u001b[38;5;241m.\u001b[39masarray(\u001b[38;5;28mself\u001b[39m\u001b[38;5;241m.\u001b[39mthumbnail_source)\n",
      "File \u001b[0;32m~/miniconda3/envs/brassica/lib/python3.9/site-packages/dask/threaded.py:89\u001b[0m, in \u001b[0;36mget\u001b[0;34m(dsk, keys, cache, num_workers, pool, **kwargs)\u001b[0m\n\u001b[1;32m     86\u001b[0m     \u001b[38;5;28;01melif\u001b[39;00m \u001b[38;5;28misinstance\u001b[39m(pool, multiprocessing\u001b[38;5;241m.\u001b[39mpool\u001b[38;5;241m.\u001b[39mPool):\n\u001b[1;32m     87\u001b[0m         pool \u001b[38;5;241m=\u001b[39m MultiprocessingPoolExecutor(pool)\n\u001b[0;32m---> 89\u001b[0m results \u001b[38;5;241m=\u001b[39m \u001b[43mget_async\u001b[49m\u001b[43m(\u001b[49m\n\u001b[1;32m     90\u001b[0m \u001b[43m    \u001b[49m\u001b[43mpool\u001b[49m\u001b[38;5;241;43m.\u001b[39;49m\u001b[43msubmit\u001b[49m\u001b[43m,\u001b[49m\n\u001b[1;32m     91\u001b[0m \u001b[43m    \u001b[49m\u001b[43mpool\u001b[49m\u001b[38;5;241;43m.\u001b[39;49m\u001b[43m_max_workers\u001b[49m\u001b[43m,\u001b[49m\n\u001b[1;32m     92\u001b[0m \u001b[43m    \u001b[49m\u001b[43mdsk\u001b[49m\u001b[43m,\u001b[49m\n\u001b[1;32m     93\u001b[0m \u001b[43m    \u001b[49m\u001b[43mkeys\u001b[49m\u001b[43m,\u001b[49m\n\u001b[1;32m     94\u001b[0m \u001b[43m    \u001b[49m\u001b[43mcache\u001b[49m\u001b[38;5;241;43m=\u001b[39;49m\u001b[43mcache\u001b[49m\u001b[43m,\u001b[49m\n\u001b[1;32m     95\u001b[0m \u001b[43m    \u001b[49m\u001b[43mget_id\u001b[49m\u001b[38;5;241;43m=\u001b[39;49m\u001b[43m_thread_get_id\u001b[49m\u001b[43m,\u001b[49m\n\u001b[1;32m     96\u001b[0m \u001b[43m    \u001b[49m\u001b[43mpack_exception\u001b[49m\u001b[38;5;241;43m=\u001b[39;49m\u001b[43mpack_exception\u001b[49m\u001b[43m,\u001b[49m\n\u001b[1;32m     97\u001b[0m \u001b[43m    \u001b[49m\u001b[38;5;241;43m*\u001b[39;49m\u001b[38;5;241;43m*\u001b[39;49m\u001b[43mkwargs\u001b[49m\u001b[43m,\u001b[49m\n\u001b[1;32m     98\u001b[0m \u001b[43m\u001b[49m\u001b[43m)\u001b[49m\n\u001b[1;32m    100\u001b[0m \u001b[38;5;66;03m# Cleanup pools associated to dead threads\u001b[39;00m\n\u001b[1;32m    101\u001b[0m \u001b[38;5;28;01mwith\u001b[39;00m pools_lock:\n",
      "File \u001b[0;32m~/miniconda3/envs/brassica/lib/python3.9/site-packages/dask/local.py:511\u001b[0m, in \u001b[0;36mget_async\u001b[0;34m(submit, num_workers, dsk, result, cache, get_id, rerun_exceptions_locally, pack_exception, raise_exception, callbacks, dumps, loads, chunksize, **kwargs)\u001b[0m\n\u001b[1;32m    509\u001b[0m         _execute_task(task, data)  \u001b[38;5;66;03m# Re-execute locally\u001b[39;00m\n\u001b[1;32m    510\u001b[0m     \u001b[38;5;28;01melse\u001b[39;00m:\n\u001b[0;32m--> 511\u001b[0m         \u001b[43mraise_exception\u001b[49m\u001b[43m(\u001b[49m\u001b[43mexc\u001b[49m\u001b[43m,\u001b[49m\u001b[43m \u001b[49m\u001b[43mtb\u001b[49m\u001b[43m)\u001b[49m\n\u001b[1;32m    512\u001b[0m res, worker_id \u001b[38;5;241m=\u001b[39m loads(res_info)\n\u001b[1;32m    513\u001b[0m state[\u001b[38;5;124m\"\u001b[39m\u001b[38;5;124mcache\u001b[39m\u001b[38;5;124m\"\u001b[39m][key] \u001b[38;5;241m=\u001b[39m res\n",
      "File \u001b[0;32m~/miniconda3/envs/brassica/lib/python3.9/site-packages/dask/local.py:319\u001b[0m, in \u001b[0;36mreraise\u001b[0;34m(exc, tb)\u001b[0m\n\u001b[1;32m    317\u001b[0m \u001b[38;5;28;01mif\u001b[39;00m exc\u001b[38;5;241m.\u001b[39m__traceback__ \u001b[38;5;129;01mis\u001b[39;00m \u001b[38;5;129;01mnot\u001b[39;00m tb:\n\u001b[1;32m    318\u001b[0m     \u001b[38;5;28;01mraise\u001b[39;00m exc\u001b[38;5;241m.\u001b[39mwith_traceback(tb)\n\u001b[0;32m--> 319\u001b[0m \u001b[38;5;28;01mraise\u001b[39;00m exc\n",
      "File \u001b[0;32m~/miniconda3/envs/brassica/lib/python3.9/site-packages/dask/local.py:224\u001b[0m, in \u001b[0;36mexecute_task\u001b[0;34m(key, task_info, dumps, loads, get_id, pack_exception)\u001b[0m\n\u001b[1;32m    222\u001b[0m \u001b[38;5;28;01mtry\u001b[39;00m:\n\u001b[1;32m    223\u001b[0m     task, data \u001b[38;5;241m=\u001b[39m loads(task_info)\n\u001b[0;32m--> 224\u001b[0m     result \u001b[38;5;241m=\u001b[39m \u001b[43m_execute_task\u001b[49m\u001b[43m(\u001b[49m\u001b[43mtask\u001b[49m\u001b[43m,\u001b[49m\u001b[43m \u001b[49m\u001b[43mdata\u001b[49m\u001b[43m)\u001b[49m\n\u001b[1;32m    225\u001b[0m     \u001b[38;5;28mid\u001b[39m \u001b[38;5;241m=\u001b[39m get_id()\n\u001b[1;32m    226\u001b[0m     result \u001b[38;5;241m=\u001b[39m dumps((result, \u001b[38;5;28mid\u001b[39m))\n",
      "File \u001b[0;32m~/analysis/macrohet/macrohet/tile.py:480\u001b[0m, in \u001b[0;36mfuse_func\u001b[0;34m(input_tile_info, imload_fn, block_info, dtype)\u001b[0m\n\u001b[1;32m    477\u001b[0m \u001b[38;5;28;01mif\u001b[39;00m imload_fn \u001b[38;5;129;01mis\u001b[39;00m \u001b[38;5;129;01mnot\u001b[39;00m \u001b[38;5;28;01mNone\u001b[39;00m:\n\u001b[1;32m    478\u001b[0m     \u001b[38;5;66;03m# When imload_fn is provided we assume we have been given strings representing files\u001b[39;00m\n\u001b[1;32m    479\u001b[0m     tile_path \u001b[38;5;241m=\u001b[39m image_representation\n\u001b[0;32m--> 480\u001b[0m     im \u001b[38;5;241m=\u001b[39m \u001b[43mimload_fn\u001b[49m\u001b[43m(\u001b[49m\u001b[43mtile_path\u001b[49m\u001b[43m)\u001b[49m\n\u001b[1;32m    481\u001b[0m \u001b[38;5;28;01melse\u001b[39;00m:\n\u001b[1;32m    482\u001b[0m     \u001b[38;5;66;03m# Without imload function we assume images are passed\u001b[39;00m\n\u001b[1;32m    483\u001b[0m     im \u001b[38;5;241m=\u001b[39m image_representation\n",
      "File \u001b[0;32m~/analysis/macrohet/macrohet/tile.py:508\u001b[0m, in \u001b[0;36mload_image\u001b[0;34m(file, transforms)\u001b[0m\n\u001b[1;32m    506\u001b[0m     img \u001b[38;5;241m=\u001b[39m imread(file)\n\u001b[1;32m    507\u001b[0m \u001b[38;5;28;01mexcept\u001b[39;00m \u001b[38;5;167;01mException\u001b[39;00m \u001b[38;5;28;01mas\u001b[39;00m e:\n\u001b[0;32m--> 508\u001b[0m     \u001b[38;5;28;01mraise\u001b[39;00m \u001b[38;5;167;01mException\u001b[39;00m(\u001b[38;5;124mf\u001b[39m\u001b[38;5;124m'\u001b[39m\u001b[38;5;132;01m{\u001b[39;00me\u001b[38;5;132;01m}\u001b[39;00m\u001b[38;5;124m \u001b[39m\u001b[38;5;130;01m\\n\u001b[39;00m\u001b[38;5;124m Could not load file: \u001b[39m\u001b[38;5;132;01m{\u001b[39;00mfile\u001b[38;5;132;01m}\u001b[39;00m\u001b[38;5;124m'\u001b[39m)\n\u001b[1;32m    509\u001b[0m \u001b[38;5;66;03m# TO-DO remove this hacky fix\u001b[39;00m\n\u001b[1;32m    510\u001b[0m \u001b[38;5;66;03m# WHY IS THIS NECESSARY FOR PROPER TILING\u001b[39;00m\n\u001b[1;32m    511\u001b[0m img \u001b[38;5;241m=\u001b[39m np\u001b[38;5;241m.\u001b[39mrot90(img, k\u001b[38;5;241m=\u001b[39m\u001b[38;5;241m3\u001b[39m)\n",
      "\u001b[0;31mException\u001b[0m: [Errno 5] Input/output error \n Could not load file: /run/user/30046150/gvfs/smb-share:server=data2.thecrick.org,share=lab-gutierrezm/home/users/dayn/macrohet_nemo/macrohet_images/NDXXXX_optimisation/ND0000__2023-08-04T15_27_41-Measurement 1/Images/r03c10f02p02-ch3sk212fk1fl1.tiff"
     ]
    }
   ],
   "source": [
    "### save image sequence\n",
    "for t in tqdm(range(len(images)), desc = f'Saving animation'):\n",
    "    viewer.dims.current_step = (t, cam_coords[-2], cam_coords[-1])\n",
    "    viewer.camera.zoom = zoom#*0.95\n",
    "    fn = os.path.join(f'/home/dayn/ND0000_animation_test/t_{t}.png')\n",
    "    imsave(fn, viewer.screenshot())\n",
    "    animation.capture_keyframe(steps = 1)\n",
    "animation.animate(os.path.join(output_dir, 'test_fullstack_labels.mp4'), canvas_only=True, fps = 20, quality = 9)"
   ]
  },
  {
   "cell_type": "code",
   "execution_count": null,
   "id": "cc54f14b-1692-4ed3-95ce-8a3a64624492",
   "metadata": {},
   "outputs": [],
   "source": [
    "### save image sequence\n",
    "for t in tqdm(range(len(images)), desc = f'Saving animation'):\n",
    "    viewer.dims.current_step = (t, cam_coords[-2], cam_coords[-1])\n",
    "    viewer.camera.zoom = zoom#*0.95\n",
    "    fn = os.path.join(f'/home/dayn/ND0000_animation_test/t_{t}.png')\n",
    "    imsave(fn, viewer.screenshot())\n",
    "    animation.capture_keyframe(steps = 1)\n",
    "animation.animate(os.path.join(output_dir, '3.9.test_fullstack_labels.mp4'), canvas_only=True, fps = 20, quality = 9)"
   ]
  },
  {
   "cell_type": "code",
   "execution_count": 20,
   "id": "20725cb6-ce09-4e85-a92a-f6cbdfe25fa0",
   "metadata": {},
   "outputs": [
    {
     "name": "stdout",
     "output_type": "stream",
     "text": [
      "Rendering frames...\n"
     ]
    },
    {
     "name": "stderr",
     "output_type": "stream",
     "text": [
      "  0%|                                                               | 0/766 [00:00<?, ?it/s]IMAGEIO FFMPEG_WRITER WARNING: input image is not divisible by macro_block_size=16, resizing from (1506, 1057) to (1520, 1072) to ensure video compatibility with most codecs and players. To prevent resizing, make your input image divisible by the macro_block_size or set the macro_block_size to 1 (risking incompatibility).\n",
      "  0%|                                                       | 1/766 [00:01<24:30,  1.92s/it][swscaler @ 0x69a6580] Warning: data is not aligned! This can lead to a speed loss\n",
      "100%|███████████████████████████████████████████████████| 766/766 [6:31:43<00:00, 30.68s/it]\n"
     ]
    }
   ],
   "source": [
    "# viewer.camera.center = (0, 3023.5, 3023.5)\n",
    "viewer.dims.current_step = (0, 3023, 3023)\n",
    "animation.capture_keyframe()\n",
    "viewer.dims.current_step = (375, 3023, 3023)\n",
    "animation.capture_keyframe(steps = 375)\n",
    "animation.animate(os.path.join(output_dir, 'test_fullstack_labels.mp4'), canvas_only=True, fps = 20, quality = 9)"
   ]
  },
  {
   "cell_type": "code",
   "execution_count": null,
   "id": "362c7afa-da53-4510-a29c-79068cc56471",
   "metadata": {},
   "outputs": [],
   "source": [
    "from macrohet import notify"
   ]
  },
  {
   "cell_type": "code",
   "execution_count": null,
   "id": "8d056b5e-6f56-4ff3-b567-7ebcd8a9efbb",
   "metadata": {},
   "outputs": [],
   "source": [
    "notify.send_sms('two videos saved out')"
   ]
  },
  {
   "cell_type": "code",
   "execution_count": null,
   "id": "bcffc1ce-f47e-4643-b30f-f66ea60fff92",
   "metadata": {},
   "outputs": [],
   "source": [
    "output_dir = '/run/user/30046150/gvfs/google-drive:host=gmail.com,user=nthndy/13iZkrWWM5tgb0r0IG-waR97cjBGOM8mi'"
   ]
  },
  {
   "cell_type": "code",
   "execution_count": null,
   "id": "fb63d8b5-5622-4e87-87b6-cc82f1cd8a49",
   "metadata": {},
   "outputs": [],
   "source": [
    "animation = Animation(viewer)"
   ]
  },
  {
   "cell_type": "code",
   "execution_count": null,
   "id": "5679173a-2d97-48b3-b1d2-633378d116ff",
   "metadata": {},
   "outputs": [],
   "source": [
    "viewer.camera.center = (0, 3023.5, 3023.5)\n",
    "viewer.dims.current_step = (0, 3023, 3023)\n",
    "animation.capture_keyframe()\n",
    "viewer.dims.current_step = (375, 3023, 3023)\n",
    "animation.capture_keyframe(steps = 375)\n",
    "animation.animate(os.path.join(output_dir, 'test_fullstack.mp4'), canvas_only=True, fps = 20, quality = 9)"
   ]
  },
  {
   "cell_type": "code",
   "execution_count": null,
   "id": "471841e8-9138-4d45-bb75-25b254f41d15",
   "metadata": {},
   "outputs": [],
   "source": [
    "from macrohet import notify"
   ]
  },
  {
   "cell_type": "code",
   "execution_count": null,
   "id": "aba50aff-8bb7-4f53-983f-c231fa950dc4",
   "metadata": {},
   "outputs": [],
   "source": [
    "notify.send_sms('quick version complete online')"
   ]
  },
  {
   "cell_type": "markdown",
   "id": "8edf3bde-7c1f-4f67-8506-2236673a747b",
   "metadata": {},
   "source": [
    "### Add additional annotations"
   ]
  },
  {
   "cell_type": "code",
   "execution_count": 25,
   "id": "f34cc29d",
   "metadata": {},
   "outputs": [
    {
     "data": {
      "text/plain": [
       "<Points layer 'cell 1251' at 0x7f235d482790>"
      ]
     },
     "execution_count": 25,
     "metadata": {},
     "output_type": "execute_result"
    }
   ],
   "source": [
    "visualise.highlight_cell(1251, viewer, tracks)"
   ]
  },
  {
   "cell_type": "code",
   "execution_count": 62,
   "id": "e0f86387",
   "metadata": {},
   "outputs": [
    {
     "data": {
      "text/plain": [
       "<Tracks layer 'napari_filtered_tracks [2]' at 0x7ff4e5a32430>"
      ]
     },
     "execution_count": 62,
     "metadata": {},
     "output_type": "execute_result"
    }
   ],
   "source": [
    "viewer.add_tracks(napari_filtered_tracks, scale = (1,5.04,5.04),)"
   ]
  },
  {
   "cell_type": "code",
   "execution_count": 25,
   "id": "5df733bf",
   "metadata": {},
   "outputs": [
    {
     "name": "stderr",
     "output_type": "stream",
     "text": [
      "Traceback (most recent call last):\n",
      "  File \"/home/dayn/miniconda3/envs/aero/lib/python3.9/site-packages/napari/utils/action_manager.py\", line 227, in <lambda>\n",
      "    button.clicked.connect(lambda: self.trigger(name))\n",
      "  File \"/home/dayn/miniconda3/envs/aero/lib/python3.9/site-packages/napari/utils/action_manager.py\", line 427, in trigger\n",
      "    return self._actions[name].injected()\n",
      "  File \"/home/dayn/miniconda3/envs/aero/lib/python3.9/site-packages/in_n_out/_store.py\", line 773, in _exec\n",
      "    result = func(**{**_kwargs, **bound.arguments})\n",
      "  File \"/home/dayn/miniconda3/envs/aero/lib/python3.9/site-packages/napari/layers/image/_image_key_bindings.py\", line 33, in orient_plane_normal_along_x\n",
      "    orient_plane_normal_around_cursor(layer, plane_normal=(0, 0, 1))\n",
      "  File \"/home/dayn/miniconda3/envs/aero/lib/python3.9/site-packages/napari/layers/utils/interactivity_utils.py\", line 126, in orient_plane_normal_around_cursor\n",
      "    view_direction = layer._world_to_displayed_data_ray(\n",
      "  File \"/home/dayn/miniconda3/envs/aero/lib/python3.9/site-packages/napari/layers/base/base.py\", line 1330, in _world_to_displayed_data_ray\n",
      "    vector_data_ndisplay = vector_data_nd[dims_displayed]\n",
      "IndexError: index -3 is out of bounds for axis 0 with size 2\n",
      "Traceback (most recent call last):\n",
      "  File \"/home/dayn/miniconda3/envs/aero/lib/python3.9/site-packages/napari/utils/action_manager.py\", line 227, in <lambda>\n",
      "    button.clicked.connect(lambda: self.trigger(name))\n",
      "  File \"/home/dayn/miniconda3/envs/aero/lib/python3.9/site-packages/napari/utils/action_manager.py\", line 427, in trigger\n",
      "    return self._actions[name].injected()\n",
      "  File \"/home/dayn/miniconda3/envs/aero/lib/python3.9/site-packages/in_n_out/_store.py\", line 773, in _exec\n",
      "    result = func(**{**_kwargs, **bound.arguments})\n",
      "  File \"/home/dayn/miniconda3/envs/aero/lib/python3.9/site-packages/napari/layers/image/_image_key_bindings.py\", line 27, in orient_plane_normal_along_y\n",
      "    orient_plane_normal_around_cursor(layer, plane_normal=(0, 1, 0))\n",
      "  File \"/home/dayn/miniconda3/envs/aero/lib/python3.9/site-packages/napari/layers/utils/interactivity_utils.py\", line 126, in orient_plane_normal_around_cursor\n",
      "    view_direction = layer._world_to_displayed_data_ray(\n",
      "  File \"/home/dayn/miniconda3/envs/aero/lib/python3.9/site-packages/napari/layers/base/base.py\", line 1330, in _world_to_displayed_data_ray\n",
      "    vector_data_ndisplay = vector_data_nd[dims_displayed]\n",
      "IndexError: index -3 is out of bounds for axis 0 with size 2\n"
     ]
    }
   ],
   "source": [
    "viewer.layers['napari_filtered_tracks'].scale = (30, 5.04, 5.04)"
   ]
  },
  {
   "cell_type": "code",
   "execution_count": 32,
   "id": "1ab82bb4",
   "metadata": {},
   "outputs": [],
   "source": [
    "viewer.layers['napari_filtered_tracks'].axis_labels=[\"time\", \"y\", \"x\"]"
   ]
  },
  {
   "cell_type": "code",
   "execution_count": 29,
   "id": "80b39d85",
   "metadata": {},
   "outputs": [
    {
     "data": {
      "text/plain": [
       "<Labels layer 'downscaled coloured segmentation new tracks' at 0x7f15c273ca30>"
      ]
     },
     "execution_count": 29,
     "metadata": {},
     "output_type": "execute_result"
    }
   ],
   "source": [
    "viewer.add_tracks(ds_napari_tracks,\n",
    "#                     properties=properties, \n",
    "#                     graph=graph, \n",
    "                    name=\"hacky downscaled tracks\", \n",
    "                    blending=\"translucent\",\n",
    "                    visible=True,\n",
    "#                     scale = (1,1,1)\n",
    "                )\n",
    "# viewer.add_labels(ds_segmentation, \n",
    "#                  name = 'downscaled segmentation')\n",
    "\n",
    "viewer.add_labels(ds_col_segmentation, \n",
    "                  name = 'downscaled coloured segmentation',\n",
    "                  scale=(1, 1, 1,), \n",
    "#                   color={1:'yellow'}\n",
    "                 )\n",
    "\n",
    "viewer.add_labels(ds_col_segmentation_new_tracks, \n",
    "                  name = 'downscaled coloured segmentation new tracks',\n",
    "                  scale=(1, 1, 1,), \n",
    "#                   color={1:'yellow'}\n",
    "                 )"
   ]
  }
 ],
 "metadata": {
  "kernelspec": {
   "display_name": "Python 3 (ipykernel)",
   "language": "python",
   "name": "python3"
  },
  "language_info": {
   "codemirror_mode": {
    "name": "ipython",
    "version": 3
   },
   "file_extension": ".py",
   "mimetype": "text/x-python",
   "name": "python",
   "nbconvert_exporter": "python",
   "pygments_lexer": "ipython3",
   "version": "3.9.17"
  }
 },
 "nbformat": 4,
 "nbformat_minor": 5
}
