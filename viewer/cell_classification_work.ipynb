{
 "cells": [
  {
   "cell_type": "markdown",
   "id": "e7452ae6",
   "metadata": {},
   "source": [
    "# Classifying stuff"
   ]
  },
  {
   "cell_type": "code",
   "execution_count": 1,
   "id": "83d383f0",
   "metadata": {},
   "outputs": [],
   "source": [
    "import napari\n",
    "from macrohet import dataio, tile, visualise\n",
    "import os, glob"
   ]
  },
  {
   "cell_type": "markdown",
   "id": "cb28dcb6",
   "metadata": {},
   "source": [
    "### Load experiment of choice\n",
    "\n",
    "The Opera Phenix is a high-throughput confocal microscope that acquires very large 5-dimensional (TCZXY) images over several fields of view in any one experiment. Therefore, a lazy-loading approach is chosen to mosaic, view and annotate these images. This approach depends upon Dask and DaskFusion. The first step is to load the main metadata file (typically called `Index.idx.xml` and located in the main `Images` directory) that contains the image filenames and associated TCXZY information used to organise the images."
   ]
  },
  {
   "cell_type": "code",
   "execution_count": 2,
   "id": "2f90d81a",
   "metadata": {},
   "outputs": [
    {
     "name": "stdout",
     "output_type": "stream",
     "text": [
      "Reading metadata XML file...\n"
     ]
    },
    {
     "data": {
      "application/vnd.jupyter.widget-view+json": {
       "model_id": "dab8c6eedb2f456ea33637252266aed3",
       "version_major": 2,
       "version_minor": 0
      },
      "text/plain": [
       "Extracting HarmonyV5 metadata:   0%|          | 0/113400 [00:00<?, ?it/s]"
      ]
     },
     "metadata": {},
     "output_type": "display_data"
    },
    {
     "name": "stdout",
     "output_type": "stream",
     "text": [
      "Extracting metadata complete!\n"
     ]
    },
    {
     "data": {
      "text/html": [
       "<div>\n",
       "<style scoped>\n",
       "    .dataframe tbody tr th:only-of-type {\n",
       "        vertical-align: middle;\n",
       "    }\n",
       "\n",
       "    .dataframe tbody tr th {\n",
       "        vertical-align: top;\n",
       "    }\n",
       "\n",
       "    .dataframe thead th {\n",
       "        text-align: right;\n",
       "    }\n",
       "</style>\n",
       "<table border=\"1\" class=\"dataframe\">\n",
       "  <thead>\n",
       "    <tr style=\"text-align: right;\">\n",
       "      <th></th>\n",
       "      <th>id</th>\n",
       "      <th>State</th>\n",
       "      <th>URL</th>\n",
       "      <th>Row</th>\n",
       "      <th>Col</th>\n",
       "      <th>FieldID</th>\n",
       "      <th>PlaneID</th>\n",
       "      <th>TimepointID</th>\n",
       "      <th>ChannelID</th>\n",
       "      <th>FlimID</th>\n",
       "      <th>...</th>\n",
       "      <th>PositionZ</th>\n",
       "      <th>AbsPositionZ</th>\n",
       "      <th>MeasurementTimeOffset</th>\n",
       "      <th>AbsTime</th>\n",
       "      <th>MainExcitationWavelength</th>\n",
       "      <th>MainEmissionWavelength</th>\n",
       "      <th>ObjectiveMagnification</th>\n",
       "      <th>ObjectiveNA</th>\n",
       "      <th>ExposureTime</th>\n",
       "      <th>OrientationMatrix</th>\n",
       "    </tr>\n",
       "  </thead>\n",
       "  <tbody>\n",
       "    <tr>\n",
       "      <th>0</th>\n",
       "      <td>0303K1F1P1R1</td>\n",
       "      <td>Ok</td>\n",
       "      <td>r03c03f01p01-ch1sk1fk1fl1.tiff</td>\n",
       "      <td>3</td>\n",
       "      <td>3</td>\n",
       "      <td>1</td>\n",
       "      <td>1</td>\n",
       "      <td>0</td>\n",
       "      <td>1</td>\n",
       "      <td>1</td>\n",
       "      <td>...</td>\n",
       "      <td>0</td>\n",
       "      <td>0.135583505</td>\n",
       "      <td>0</td>\n",
       "      <td>2021-04-16T19:09:33.84+01:00</td>\n",
       "      <td>488</td>\n",
       "      <td>522</td>\n",
       "      <td>40</td>\n",
       "      <td>1.1</td>\n",
       "      <td>0.1</td>\n",
       "      <td>[[0.990860,0,0,-15.9],[0,-0.990860,0,-44.8],[0...</td>\n",
       "    </tr>\n",
       "    <tr>\n",
       "      <th>1</th>\n",
       "      <td>0303K1F1P1R2</td>\n",
       "      <td>Ok</td>\n",
       "      <td>r03c03f01p01-ch2sk1fk1fl1.tiff</td>\n",
       "      <td>3</td>\n",
       "      <td>3</td>\n",
       "      <td>1</td>\n",
       "      <td>1</td>\n",
       "      <td>0</td>\n",
       "      <td>2</td>\n",
       "      <td>1</td>\n",
       "      <td>...</td>\n",
       "      <td>0</td>\n",
       "      <td>0.135583505</td>\n",
       "      <td>0</td>\n",
       "      <td>2021-04-16T19:09:33.84+01:00</td>\n",
       "      <td>640</td>\n",
       "      <td>706</td>\n",
       "      <td>40</td>\n",
       "      <td>1.1</td>\n",
       "      <td>0.2</td>\n",
       "      <td>[[0.990860,0,0,-15.9],[0,-0.990860,0,-44.8],[0...</td>\n",
       "    </tr>\n",
       "    <tr>\n",
       "      <th>2</th>\n",
       "      <td>0303K1F1P2R1</td>\n",
       "      <td>Ok</td>\n",
       "      <td>r03c03f01p02-ch1sk1fk1fl1.tiff</td>\n",
       "      <td>3</td>\n",
       "      <td>3</td>\n",
       "      <td>1</td>\n",
       "      <td>2</td>\n",
       "      <td>0</td>\n",
       "      <td>1</td>\n",
       "      <td>1</td>\n",
       "      <td>...</td>\n",
       "      <td>2E-06</td>\n",
       "      <td>0.135585502</td>\n",
       "      <td>0</td>\n",
       "      <td>2021-04-16T19:09:34.12+01:00</td>\n",
       "      <td>488</td>\n",
       "      <td>522</td>\n",
       "      <td>40</td>\n",
       "      <td>1.1</td>\n",
       "      <td>0.1</td>\n",
       "      <td>[[0.990860,0,0,-15.9],[0,-0.990860,0,-44.8],[0...</td>\n",
       "    </tr>\n",
       "    <tr>\n",
       "      <th>3</th>\n",
       "      <td>0303K1F1P2R2</td>\n",
       "      <td>Ok</td>\n",
       "      <td>r03c03f01p02-ch2sk1fk1fl1.tiff</td>\n",
       "      <td>3</td>\n",
       "      <td>3</td>\n",
       "      <td>1</td>\n",
       "      <td>2</td>\n",
       "      <td>0</td>\n",
       "      <td>2</td>\n",
       "      <td>1</td>\n",
       "      <td>...</td>\n",
       "      <td>2E-06</td>\n",
       "      <td>0.135585502</td>\n",
       "      <td>0</td>\n",
       "      <td>2021-04-16T19:09:34.12+01:00</td>\n",
       "      <td>640</td>\n",
       "      <td>706</td>\n",
       "      <td>40</td>\n",
       "      <td>1.1</td>\n",
       "      <td>0.2</td>\n",
       "      <td>[[0.990860,0,0,-15.9],[0,-0.990860,0,-44.8],[0...</td>\n",
       "    </tr>\n",
       "    <tr>\n",
       "      <th>4</th>\n",
       "      <td>0303K1F1P3R1</td>\n",
       "      <td>Ok</td>\n",
       "      <td>r03c03f01p03-ch1sk1fk1fl1.tiff</td>\n",
       "      <td>3</td>\n",
       "      <td>3</td>\n",
       "      <td>1</td>\n",
       "      <td>3</td>\n",
       "      <td>0</td>\n",
       "      <td>1</td>\n",
       "      <td>1</td>\n",
       "      <td>...</td>\n",
       "      <td>4E-06</td>\n",
       "      <td>0.135587499</td>\n",
       "      <td>0</td>\n",
       "      <td>2021-04-16T19:09:34.4+01:00</td>\n",
       "      <td>488</td>\n",
       "      <td>522</td>\n",
       "      <td>40</td>\n",
       "      <td>1.1</td>\n",
       "      <td>0.1</td>\n",
       "      <td>[[0.990860,0,0,-15.9],[0,-0.990860,0,-44.8],[0...</td>\n",
       "    </tr>\n",
       "    <tr>\n",
       "      <th>...</th>\n",
       "      <td>...</td>\n",
       "      <td>...</td>\n",
       "      <td>...</td>\n",
       "      <td>...</td>\n",
       "      <td>...</td>\n",
       "      <td>...</td>\n",
       "      <td>...</td>\n",
       "      <td>...</td>\n",
       "      <td>...</td>\n",
       "      <td>...</td>\n",
       "      <td>...</td>\n",
       "      <td>...</td>\n",
       "      <td>...</td>\n",
       "      <td>...</td>\n",
       "      <td>...</td>\n",
       "      <td>...</td>\n",
       "      <td>...</td>\n",
       "      <td>...</td>\n",
       "      <td>...</td>\n",
       "      <td>...</td>\n",
       "      <td>...</td>\n",
       "    </tr>\n",
       "    <tr>\n",
       "      <th>113395</th>\n",
       "      <td>0609K75F9P1R2</td>\n",
       "      <td>Ok</td>\n",
       "      <td>r06c09f09p01-ch2sk75fk1fl1.tiff</td>\n",
       "      <td>6</td>\n",
       "      <td>9</td>\n",
       "      <td>9</td>\n",
       "      <td>1</td>\n",
       "      <td>74</td>\n",
       "      <td>2</td>\n",
       "      <td>1</td>\n",
       "      <td>...</td>\n",
       "      <td>0</td>\n",
       "      <td>0.135533601</td>\n",
       "      <td>266399.61</td>\n",
       "      <td>2021-04-19T21:14:19.477+01:00</td>\n",
       "      <td>640</td>\n",
       "      <td>706</td>\n",
       "      <td>40</td>\n",
       "      <td>1.1</td>\n",
       "      <td>0.2</td>\n",
       "      <td>[[0.990860,0,0,-15.9],[0,-0.990860,0,-44.8],[0...</td>\n",
       "    </tr>\n",
       "    <tr>\n",
       "      <th>113396</th>\n",
       "      <td>0609K75F9P2R1</td>\n",
       "      <td>Ok</td>\n",
       "      <td>r06c09f09p02-ch1sk75fk1fl1.tiff</td>\n",
       "      <td>6</td>\n",
       "      <td>9</td>\n",
       "      <td>9</td>\n",
       "      <td>2</td>\n",
       "      <td>74</td>\n",
       "      <td>1</td>\n",
       "      <td>1</td>\n",
       "      <td>...</td>\n",
       "      <td>2E-06</td>\n",
       "      <td>0.135535598</td>\n",
       "      <td>266399.61</td>\n",
       "      <td>2021-04-19T21:14:19.757+01:00</td>\n",
       "      <td>488</td>\n",
       "      <td>522</td>\n",
       "      <td>40</td>\n",
       "      <td>1.1</td>\n",
       "      <td>0.1</td>\n",
       "      <td>[[0.990860,0,0,-15.9],[0,-0.990860,0,-44.8],[0...</td>\n",
       "    </tr>\n",
       "    <tr>\n",
       "      <th>113397</th>\n",
       "      <td>0609K75F9P2R2</td>\n",
       "      <td>Ok</td>\n",
       "      <td>r06c09f09p02-ch2sk75fk1fl1.tiff</td>\n",
       "      <td>6</td>\n",
       "      <td>9</td>\n",
       "      <td>9</td>\n",
       "      <td>2</td>\n",
       "      <td>74</td>\n",
       "      <td>2</td>\n",
       "      <td>1</td>\n",
       "      <td>...</td>\n",
       "      <td>2E-06</td>\n",
       "      <td>0.135535598</td>\n",
       "      <td>266399.61</td>\n",
       "      <td>2021-04-19T21:14:19.757+01:00</td>\n",
       "      <td>640</td>\n",
       "      <td>706</td>\n",
       "      <td>40</td>\n",
       "      <td>1.1</td>\n",
       "      <td>0.2</td>\n",
       "      <td>[[0.990860,0,0,-15.9],[0,-0.990860,0,-44.8],[0...</td>\n",
       "    </tr>\n",
       "    <tr>\n",
       "      <th>113398</th>\n",
       "      <td>0609K75F9P3R1</td>\n",
       "      <td>Ok</td>\n",
       "      <td>r06c09f09p03-ch1sk75fk1fl1.tiff</td>\n",
       "      <td>6</td>\n",
       "      <td>9</td>\n",
       "      <td>9</td>\n",
       "      <td>3</td>\n",
       "      <td>74</td>\n",
       "      <td>1</td>\n",
       "      <td>1</td>\n",
       "      <td>...</td>\n",
       "      <td>4E-06</td>\n",
       "      <td>0.135537595</td>\n",
       "      <td>266399.61</td>\n",
       "      <td>2021-04-19T21:14:20.037+01:00</td>\n",
       "      <td>488</td>\n",
       "      <td>522</td>\n",
       "      <td>40</td>\n",
       "      <td>1.1</td>\n",
       "      <td>0.1</td>\n",
       "      <td>[[0.990860,0,0,-15.9],[0,-0.990860,0,-44.8],[0...</td>\n",
       "    </tr>\n",
       "    <tr>\n",
       "      <th>113399</th>\n",
       "      <td>0609K75F9P3R2</td>\n",
       "      <td>Ok</td>\n",
       "      <td>r06c09f09p03-ch2sk75fk1fl1.tiff</td>\n",
       "      <td>6</td>\n",
       "      <td>9</td>\n",
       "      <td>9</td>\n",
       "      <td>3</td>\n",
       "      <td>74</td>\n",
       "      <td>2</td>\n",
       "      <td>1</td>\n",
       "      <td>...</td>\n",
       "      <td>4E-06</td>\n",
       "      <td>0.135537595</td>\n",
       "      <td>266399.61</td>\n",
       "      <td>2021-04-19T21:14:20.037+01:00</td>\n",
       "      <td>640</td>\n",
       "      <td>706</td>\n",
       "      <td>40</td>\n",
       "      <td>1.1</td>\n",
       "      <td>0.2</td>\n",
       "      <td>[[0.990860,0,0,-15.9],[0,-0.990860,0,-44.8],[0...</td>\n",
       "    </tr>\n",
       "  </tbody>\n",
       "</table>\n",
       "<p>113400 rows × 35 columns</p>\n",
       "</div>"
      ],
      "text/plain": [
       "                   id State                              URL Row Col FieldID  \\\n",
       "0        0303K1F1P1R1    Ok   r03c03f01p01-ch1sk1fk1fl1.tiff   3   3       1   \n",
       "1        0303K1F1P1R2    Ok   r03c03f01p01-ch2sk1fk1fl1.tiff   3   3       1   \n",
       "2        0303K1F1P2R1    Ok   r03c03f01p02-ch1sk1fk1fl1.tiff   3   3       1   \n",
       "3        0303K1F1P2R2    Ok   r03c03f01p02-ch2sk1fk1fl1.tiff   3   3       1   \n",
       "4        0303K1F1P3R1    Ok   r03c03f01p03-ch1sk1fk1fl1.tiff   3   3       1   \n",
       "...               ...   ...                              ...  ..  ..     ...   \n",
       "113395  0609K75F9P1R2    Ok  r06c09f09p01-ch2sk75fk1fl1.tiff   6   9       9   \n",
       "113396  0609K75F9P2R1    Ok  r06c09f09p02-ch1sk75fk1fl1.tiff   6   9       9   \n",
       "113397  0609K75F9P2R2    Ok  r06c09f09p02-ch2sk75fk1fl1.tiff   6   9       9   \n",
       "113398  0609K75F9P3R1    Ok  r06c09f09p03-ch1sk75fk1fl1.tiff   6   9       9   \n",
       "113399  0609K75F9P3R2    Ok  r06c09f09p03-ch2sk75fk1fl1.tiff   6   9       9   \n",
       "\n",
       "       PlaneID TimepointID ChannelID FlimID  ... PositionZ AbsPositionZ  \\\n",
       "0            1           0         1      1  ...         0  0.135583505   \n",
       "1            1           0         2      1  ...         0  0.135583505   \n",
       "2            2           0         1      1  ...     2E-06  0.135585502   \n",
       "3            2           0         2      1  ...     2E-06  0.135585502   \n",
       "4            3           0         1      1  ...     4E-06  0.135587499   \n",
       "...        ...         ...       ...    ...  ...       ...          ...   \n",
       "113395       1          74         2      1  ...         0  0.135533601   \n",
       "113396       2          74         1      1  ...     2E-06  0.135535598   \n",
       "113397       2          74         2      1  ...     2E-06  0.135535598   \n",
       "113398       3          74         1      1  ...     4E-06  0.135537595   \n",
       "113399       3          74         2      1  ...     4E-06  0.135537595   \n",
       "\n",
       "       MeasurementTimeOffset                        AbsTime  \\\n",
       "0                          0   2021-04-16T19:09:33.84+01:00   \n",
       "1                          0   2021-04-16T19:09:33.84+01:00   \n",
       "2                          0   2021-04-16T19:09:34.12+01:00   \n",
       "3                          0   2021-04-16T19:09:34.12+01:00   \n",
       "4                          0    2021-04-16T19:09:34.4+01:00   \n",
       "...                      ...                            ...   \n",
       "113395             266399.61  2021-04-19T21:14:19.477+01:00   \n",
       "113396             266399.61  2021-04-19T21:14:19.757+01:00   \n",
       "113397             266399.61  2021-04-19T21:14:19.757+01:00   \n",
       "113398             266399.61  2021-04-19T21:14:20.037+01:00   \n",
       "113399             266399.61  2021-04-19T21:14:20.037+01:00   \n",
       "\n",
       "       MainExcitationWavelength MainEmissionWavelength ObjectiveMagnification  \\\n",
       "0                           488                    522                     40   \n",
       "1                           640                    706                     40   \n",
       "2                           488                    522                     40   \n",
       "3                           640                    706                     40   \n",
       "4                           488                    522                     40   \n",
       "...                         ...                    ...                    ...   \n",
       "113395                      640                    706                     40   \n",
       "113396                      488                    522                     40   \n",
       "113397                      640                    706                     40   \n",
       "113398                      488                    522                     40   \n",
       "113399                      640                    706                     40   \n",
       "\n",
       "       ObjectiveNA ExposureTime  \\\n",
       "0              1.1          0.1   \n",
       "1              1.1          0.2   \n",
       "2              1.1          0.1   \n",
       "3              1.1          0.2   \n",
       "4              1.1          0.1   \n",
       "...            ...          ...   \n",
       "113395         1.1          0.2   \n",
       "113396         1.1          0.1   \n",
       "113397         1.1          0.2   \n",
       "113398         1.1          0.1   \n",
       "113399         1.1          0.2   \n",
       "\n",
       "                                        OrientationMatrix  \n",
       "0       [[0.990860,0,0,-15.9],[0,-0.990860,0,-44.8],[0...  \n",
       "1       [[0.990860,0,0,-15.9],[0,-0.990860,0,-44.8],[0...  \n",
       "2       [[0.990860,0,0,-15.9],[0,-0.990860,0,-44.8],[0...  \n",
       "3       [[0.990860,0,0,-15.9],[0,-0.990860,0,-44.8],[0...  \n",
       "4       [[0.990860,0,0,-15.9],[0,-0.990860,0,-44.8],[0...  \n",
       "...                                                   ...  \n",
       "113395  [[0.990860,0,0,-15.9],[0,-0.990860,0,-44.8],[0...  \n",
       "113396  [[0.990860,0,0,-15.9],[0,-0.990860,0,-44.8],[0...  \n",
       "113397  [[0.990860,0,0,-15.9],[0,-0.990860,0,-44.8],[0...  \n",
       "113398  [[0.990860,0,0,-15.9],[0,-0.990860,0,-44.8],[0...  \n",
       "113399  [[0.990860,0,0,-15.9],[0,-0.990860,0,-44.8],[0...  \n",
       "\n",
       "[113400 rows x 35 columns]"
      ]
     },
     "execution_count": 2,
     "metadata": {},
     "output_type": "execute_result"
    }
   ],
   "source": [
    "expt_ID = 'PS0000'\n",
    "base_dir = f'/mnt/DATA/macrohet/{expt_ID}/'\n",
    "metadata_fn = os.path.join(base_dir, 'acquisition/Images/Index.idx.xml')\n",
    "metadata = dataio.read_harmony_metadata(metadata_fn)  \n",
    "metadata"
   ]
  },
  {
   "cell_type": "markdown",
   "id": "4779c1f0",
   "metadata": {},
   "source": [
    "### View assay layout and mask information (optional)\n",
    "\n",
    "The Opera Phenix acquires many time lapse series from a range of positions. The first step is to inspect the image metadata, presented in the form of an `Assaylayout/experiment_ID.xml` file, to show which positions correspond to which experimental assays."
   ]
  },
  {
   "cell_type": "code",
   "execution_count": 3,
   "id": "4b75643e",
   "metadata": {},
   "outputs": [
    {
     "name": "stdout",
     "output_type": "stream",
     "text": [
      "Reading metadata XML file...\n",
      "Extracting metadata complete!\n"
     ]
    },
    {
     "data": {
      "text/html": [
       "<div>\n",
       "<style scoped>\n",
       "    .dataframe tbody tr th:only-of-type {\n",
       "        vertical-align: middle;\n",
       "    }\n",
       "\n",
       "    .dataframe tbody tr th {\n",
       "        vertical-align: top;\n",
       "    }\n",
       "\n",
       "    .dataframe thead th {\n",
       "        text-align: right;\n",
       "    }\n",
       "</style>\n",
       "<table border=\"1\" class=\"dataframe\">\n",
       "  <thead>\n",
       "    <tr style=\"text-align: right;\">\n",
       "      <th></th>\n",
       "      <th></th>\n",
       "      <th>Strain</th>\n",
       "      <th>Compound</th>\n",
       "      <th>Concentration</th>\n",
       "      <th>ConcentrationEC</th>\n",
       "    </tr>\n",
       "    <tr>\n",
       "      <th>Row</th>\n",
       "      <th>Column</th>\n",
       "      <th></th>\n",
       "      <th></th>\n",
       "      <th></th>\n",
       "      <th></th>\n",
       "    </tr>\n",
       "  </thead>\n",
       "  <tbody>\n",
       "    <tr>\n",
       "      <th rowspan=\"6\" valign=\"top\">3</th>\n",
       "      <th>4</th>\n",
       "      <td>RD1</td>\n",
       "      <td>CTRL</td>\n",
       "      <td>0</td>\n",
       "      <td>EC0</td>\n",
       "    </tr>\n",
       "    <tr>\n",
       "      <th>5</th>\n",
       "      <td>WT</td>\n",
       "      <td>CTRL</td>\n",
       "      <td>0</td>\n",
       "      <td>EC0</td>\n",
       "    </tr>\n",
       "    <tr>\n",
       "      <th>6</th>\n",
       "      <td>WT</td>\n",
       "      <td>PZA</td>\n",
       "      <td>60</td>\n",
       "      <td>EC50</td>\n",
       "    </tr>\n",
       "    <tr>\n",
       "      <th>7</th>\n",
       "      <td>WT</td>\n",
       "      <td>RIF</td>\n",
       "      <td>0.1</td>\n",
       "      <td>EC50</td>\n",
       "    </tr>\n",
       "    <tr>\n",
       "      <th>8</th>\n",
       "      <td>WT</td>\n",
       "      <td>INH</td>\n",
       "      <td>0.04</td>\n",
       "      <td>EC50</td>\n",
       "    </tr>\n",
       "    <tr>\n",
       "      <th>9</th>\n",
       "      <td>WT</td>\n",
       "      <td>BDQ</td>\n",
       "      <td>0.02</td>\n",
       "      <td>EC50</td>\n",
       "    </tr>\n",
       "    <tr>\n",
       "      <th rowspan=\"6\" valign=\"top\">4</th>\n",
       "      <th>4</th>\n",
       "      <td>RD1</td>\n",
       "      <td>CTRL</td>\n",
       "      <td>0</td>\n",
       "      <td>EC0</td>\n",
       "    </tr>\n",
       "    <tr>\n",
       "      <th>5</th>\n",
       "      <td>WT</td>\n",
       "      <td>CTRL</td>\n",
       "      <td>0</td>\n",
       "      <td>EC0</td>\n",
       "    </tr>\n",
       "    <tr>\n",
       "      <th>6</th>\n",
       "      <td>WT</td>\n",
       "      <td>PZA</td>\n",
       "      <td>60</td>\n",
       "      <td>EC50</td>\n",
       "    </tr>\n",
       "    <tr>\n",
       "      <th>7</th>\n",
       "      <td>WT</td>\n",
       "      <td>RIF</td>\n",
       "      <td>0.1</td>\n",
       "      <td>EC50</td>\n",
       "    </tr>\n",
       "    <tr>\n",
       "      <th>8</th>\n",
       "      <td>WT</td>\n",
       "      <td>INH</td>\n",
       "      <td>0.04</td>\n",
       "      <td>EC50</td>\n",
       "    </tr>\n",
       "    <tr>\n",
       "      <th>9</th>\n",
       "      <td>WT</td>\n",
       "      <td>BDQ</td>\n",
       "      <td>0.02</td>\n",
       "      <td>EC50</td>\n",
       "    </tr>\n",
       "    <tr>\n",
       "      <th rowspan=\"6\" valign=\"top\">5</th>\n",
       "      <th>4</th>\n",
       "      <td>RD1</td>\n",
       "      <td>CTRL</td>\n",
       "      <td>0</td>\n",
       "      <td>EC0</td>\n",
       "    </tr>\n",
       "    <tr>\n",
       "      <th>5</th>\n",
       "      <td>WT</td>\n",
       "      <td>CTRL</td>\n",
       "      <td>0</td>\n",
       "      <td>EC0</td>\n",
       "    </tr>\n",
       "    <tr>\n",
       "      <th>6</th>\n",
       "      <td>WT</td>\n",
       "      <td>PZA</td>\n",
       "      <td>400</td>\n",
       "      <td>EC99</td>\n",
       "    </tr>\n",
       "    <tr>\n",
       "      <th>7</th>\n",
       "      <td>WT</td>\n",
       "      <td>RIF</td>\n",
       "      <td>2</td>\n",
       "      <td>EC99</td>\n",
       "    </tr>\n",
       "    <tr>\n",
       "      <th>8</th>\n",
       "      <td>WT</td>\n",
       "      <td>INH</td>\n",
       "      <td>2</td>\n",
       "      <td>EC99</td>\n",
       "    </tr>\n",
       "    <tr>\n",
       "      <th>9</th>\n",
       "      <td>WT</td>\n",
       "      <td>BDQ</td>\n",
       "      <td>2.5</td>\n",
       "      <td>EC99</td>\n",
       "    </tr>\n",
       "    <tr>\n",
       "      <th rowspan=\"6\" valign=\"top\">6</th>\n",
       "      <th>4</th>\n",
       "      <td>RD1</td>\n",
       "      <td>CTRL</td>\n",
       "      <td>0</td>\n",
       "      <td>EC0</td>\n",
       "    </tr>\n",
       "    <tr>\n",
       "      <th>5</th>\n",
       "      <td>WT</td>\n",
       "      <td>CTRL</td>\n",
       "      <td>0</td>\n",
       "      <td>EC0</td>\n",
       "    </tr>\n",
       "    <tr>\n",
       "      <th>6</th>\n",
       "      <td>WT</td>\n",
       "      <td>PZA</td>\n",
       "      <td>400</td>\n",
       "      <td>EC99</td>\n",
       "    </tr>\n",
       "    <tr>\n",
       "      <th>7</th>\n",
       "      <td>WT</td>\n",
       "      <td>RIF</td>\n",
       "      <td>2</td>\n",
       "      <td>EC99</td>\n",
       "    </tr>\n",
       "    <tr>\n",
       "      <th>8</th>\n",
       "      <td>WT</td>\n",
       "      <td>INH</td>\n",
       "      <td>2</td>\n",
       "      <td>EC99</td>\n",
       "    </tr>\n",
       "    <tr>\n",
       "      <th>9</th>\n",
       "      <td>WT</td>\n",
       "      <td>BDQ</td>\n",
       "      <td>2.5</td>\n",
       "      <td>EC99</td>\n",
       "    </tr>\n",
       "  </tbody>\n",
       "</table>\n",
       "</div>"
      ],
      "text/plain": [
       "           Strain Compound Concentration ConcentrationEC\n",
       "Row Column                                              \n",
       "3   4         RD1     CTRL             0             EC0\n",
       "    5          WT     CTRL             0             EC0\n",
       "    6          WT      PZA            60            EC50\n",
       "    7          WT      RIF           0.1            EC50\n",
       "    8          WT      INH          0.04            EC50\n",
       "    9          WT      BDQ          0.02            EC50\n",
       "4   4         RD1     CTRL             0             EC0\n",
       "    5          WT     CTRL             0             EC0\n",
       "    6          WT      PZA            60            EC50\n",
       "    7          WT      RIF           0.1            EC50\n",
       "    8          WT      INH          0.04            EC50\n",
       "    9          WT      BDQ          0.02            EC50\n",
       "5   4         RD1     CTRL             0             EC0\n",
       "    5          WT     CTRL             0             EC0\n",
       "    6          WT      PZA           400            EC99\n",
       "    7          WT      RIF             2            EC99\n",
       "    8          WT      INH             2            EC99\n",
       "    9          WT      BDQ           2.5            EC99\n",
       "6   4         RD1     CTRL             0             EC0\n",
       "    5          WT     CTRL             0             EC0\n",
       "    6          WT      PZA           400            EC99\n",
       "    7          WT      RIF             2            EC99\n",
       "    8          WT      INH             2            EC99\n",
       "    9          WT      BDQ           2.5            EC99"
      ]
     },
     "execution_count": 3,
     "metadata": {},
     "output_type": "execute_result"
    }
   ],
   "source": [
    "metadata_path = os.path.join(base_dir, 'acquisition/Assaylayout/20210602_Live_cell_IPSDMGFP_ATB.xml')\n",
    "assay_layout = dataio.read_harmony_metadata(metadata_path, assay_layout=True,)# mask_exist=True,  image_dir = image_dir, image_metadata = metadata)\n",
    "assay_layout"
   ]
  },
  {
   "cell_type": "markdown",
   "id": "e9d4dc7f",
   "metadata": {},
   "source": [
    "### Define row and column of choice"
   ]
  },
  {
   "cell_type": "code",
   "execution_count": 4,
   "id": "661b558f",
   "metadata": {},
   "outputs": [],
   "source": [
    "acq_ID = row, column = (3, 5)"
   ]
  },
  {
   "cell_type": "markdown",
   "id": "f4408023-8136-455a-9bcf-ae1c08e5486b",
   "metadata": {},
   "source": [
    "### Define subset if non-square tiling or more than one contiguous region of images in imaging well. "
   ]
  },
  {
   "cell_type": "code",
   "execution_count": 5,
   "id": "0e4254eb-8006-4939-acdf-6cbf4b28c335",
   "metadata": {},
   "outputs": [],
   "source": [
    "# subset_field_IDs = ['1','6','7','8','11','12','13','14','15']"
   ]
  },
  {
   "cell_type": "markdown",
   "id": "bee546c2",
   "metadata": {},
   "source": [
    "### Now to lazily mosaic the images using Dask prior to viewing them.\n",
    "\n",
    "1x (75,2,3) [TCZ] image stack takes approximately 1 minute to stitch together, so only load the one field of view I want."
   ]
  },
  {
   "cell_type": "code",
   "execution_count": 5,
   "id": "72561ec6",
   "metadata": {},
   "outputs": [
    {
     "name": "stdout",
     "output_type": "stream",
     "text": [
      "CPU times: user 604 ms, sys: 3.3 ms, total: 608 ms\n",
      "Wall time: 607 ms\n"
     ]
    },
    {
     "data": {
      "text/html": [
       "<table>\n",
       "    <tr>\n",
       "        <td>\n",
       "            <table style=\"border-collapse: collapse;\">\n",
       "                <thead>\n",
       "                    <tr>\n",
       "                        <td> </td>\n",
       "                        <th> Array </th>\n",
       "                        <th> Chunk </th>\n",
       "                    </tr>\n",
       "                </thead>\n",
       "                <tbody>\n",
       "                    \n",
       "                    <tr>\n",
       "                        <th> Bytes </th>\n",
       "                        <td> 10.22 GiB </td>\n",
       "                        <td> 17.80 MiB </td>\n",
       "                    </tr>\n",
       "                    \n",
       "                    <tr>\n",
       "                        <th> Shape </th>\n",
       "                        <td> (75, 2, 6048, 6048) </td>\n",
       "                        <td> (1, 2, 2160, 2160) </td>\n",
       "                    </tr>\n",
       "                    <tr>\n",
       "                        <th> Dask graph </th>\n",
       "                        <td colspan=\"2\"> 675 chunks in 1805 graph layers </td>\n",
       "                    </tr>\n",
       "                    <tr>\n",
       "                        <th> Data type </th>\n",
       "                        <td colspan=\"2\"> uint16 numpy.ndarray </td>\n",
       "                    </tr>\n",
       "                </tbody>\n",
       "            </table>\n",
       "        </td>\n",
       "        <td>\n",
       "        <svg width=\"376\" height=\"184\" style=\"stroke:rgb(0,0,0);stroke-width:1\" >\n",
       "\n",
       "  <!-- Horizontal lines -->\n",
       "  <line x1=\"0\" y1=\"0\" x2=\"26\" y2=\"0\" style=\"stroke-width:2\" />\n",
       "  <line x1=\"0\" y1=\"25\" x2=\"26\" y2=\"25\" style=\"stroke-width:2\" />\n",
       "\n",
       "  <!-- Vertical lines -->\n",
       "  <line x1=\"0\" y1=\"0\" x2=\"0\" y2=\"25\" style=\"stroke-width:2\" />\n",
       "  <line x1=\"0\" y1=\"0\" x2=\"0\" y2=\"25\" />\n",
       "  <line x1=\"1\" y1=\"0\" x2=\"1\" y2=\"25\" />\n",
       "  <line x1=\"2\" y1=\"0\" x2=\"2\" y2=\"25\" />\n",
       "  <line x1=\"3\" y1=\"0\" x2=\"3\" y2=\"25\" />\n",
       "  <line x1=\"3\" y1=\"0\" x2=\"3\" y2=\"25\" />\n",
       "  <line x1=\"4\" y1=\"0\" x2=\"4\" y2=\"25\" />\n",
       "  <line x1=\"5\" y1=\"0\" x2=\"5\" y2=\"25\" />\n",
       "  <line x1=\"6\" y1=\"0\" x2=\"6\" y2=\"25\" />\n",
       "  <line x1=\"7\" y1=\"0\" x2=\"7\" y2=\"25\" />\n",
       "  <line x1=\"8\" y1=\"0\" x2=\"8\" y2=\"25\" />\n",
       "  <line x1=\"8\" y1=\"0\" x2=\"8\" y2=\"25\" />\n",
       "  <line x1=\"9\" y1=\"0\" x2=\"9\" y2=\"25\" />\n",
       "  <line x1=\"10\" y1=\"0\" x2=\"10\" y2=\"25\" />\n",
       "  <line x1=\"11\" y1=\"0\" x2=\"11\" y2=\"25\" />\n",
       "  <line x1=\"12\" y1=\"0\" x2=\"12\" y2=\"25\" />\n",
       "  <line x1=\"13\" y1=\"0\" x2=\"13\" y2=\"25\" />\n",
       "  <line x1=\"13\" y1=\"0\" x2=\"13\" y2=\"25\" />\n",
       "  <line x1=\"14\" y1=\"0\" x2=\"14\" y2=\"25\" />\n",
       "  <line x1=\"15\" y1=\"0\" x2=\"15\" y2=\"25\" />\n",
       "  <line x1=\"16\" y1=\"0\" x2=\"16\" y2=\"25\" />\n",
       "  <line x1=\"17\" y1=\"0\" x2=\"17\" y2=\"25\" />\n",
       "  <line x1=\"18\" y1=\"0\" x2=\"18\" y2=\"25\" />\n",
       "  <line x1=\"18\" y1=\"0\" x2=\"18\" y2=\"25\" />\n",
       "  <line x1=\"19\" y1=\"0\" x2=\"19\" y2=\"25\" />\n",
       "  <line x1=\"20\" y1=\"0\" x2=\"20\" y2=\"25\" />\n",
       "  <line x1=\"21\" y1=\"0\" x2=\"21\" y2=\"25\" />\n",
       "  <line x1=\"22\" y1=\"0\" x2=\"22\" y2=\"25\" />\n",
       "  <line x1=\"22\" y1=\"0\" x2=\"22\" y2=\"25\" />\n",
       "  <line x1=\"23\" y1=\"0\" x2=\"23\" y2=\"25\" />\n",
       "  <line x1=\"24\" y1=\"0\" x2=\"24\" y2=\"25\" />\n",
       "  <line x1=\"25\" y1=\"0\" x2=\"25\" y2=\"25\" />\n",
       "  <line x1=\"26\" y1=\"0\" x2=\"26\" y2=\"25\" style=\"stroke-width:2\" />\n",
       "\n",
       "  <!-- Colored Rectangle -->\n",
       "  <polygon points=\"0.0,0.0 26.472362419580787,0.0 26.472362419580787,25.412616514582485 0.0,25.412616514582485\" style=\"fill:#8B4903A0;stroke-width:0\"/>\n",
       "\n",
       "  <!-- Text -->\n",
       "  <text x=\"13.236181\" y=\"45.412617\" font-size=\"1.0rem\" font-weight=\"100\" text-anchor=\"middle\" >75</text>\n",
       "  <text x=\"46.472362\" y=\"12.706308\" font-size=\"1.0rem\" font-weight=\"100\" text-anchor=\"middle\" transform=\"rotate(0,46.472362,12.706308)\">1</text>\n",
       "\n",
       "\n",
       "  <!-- Horizontal lines -->\n",
       "  <line x1=\"96\" y1=\"0\" x2=\"110\" y2=\"14\" style=\"stroke-width:2\" />\n",
       "  <line x1=\"96\" y1=\"42\" x2=\"110\" y2=\"57\" />\n",
       "  <line x1=\"96\" y1=\"85\" x2=\"110\" y2=\"100\" />\n",
       "  <line x1=\"96\" y1=\"120\" x2=\"110\" y2=\"134\" style=\"stroke-width:2\" />\n",
       "\n",
       "  <!-- Vertical lines -->\n",
       "  <line x1=\"96\" y1=\"0\" x2=\"96\" y2=\"120\" style=\"stroke-width:2\" />\n",
       "  <line x1=\"110\" y1=\"14\" x2=\"110\" y2=\"134\" style=\"stroke-width:2\" />\n",
       "\n",
       "  <!-- Colored Rectangle -->\n",
       "  <polygon points=\"96.0,0.0 110.9485979497544,14.948597949754403 110.9485979497544,134.9485979497544 96.0,120.0\" style=\"fill:#ECB172A0;stroke-width:0\"/>\n",
       "\n",
       "  <!-- Horizontal lines -->\n",
       "  <line x1=\"96\" y1=\"0\" x2=\"216\" y2=\"0\" style=\"stroke-width:2\" />\n",
       "  <line x1=\"110\" y1=\"14\" x2=\"230\" y2=\"14\" style=\"stroke-width:2\" />\n",
       "\n",
       "  <!-- Vertical lines -->\n",
       "  <line x1=\"96\" y1=\"0\" x2=\"110\" y2=\"14\" style=\"stroke-width:2\" />\n",
       "  <line x1=\"138\" y1=\"0\" x2=\"153\" y2=\"14\" />\n",
       "  <line x1=\"181\" y1=\"0\" x2=\"196\" y2=\"14\" />\n",
       "  <line x1=\"216\" y1=\"0\" x2=\"230\" y2=\"14\" style=\"stroke-width:2\" />\n",
       "\n",
       "  <!-- Colored Rectangle -->\n",
       "  <polygon points=\"96.0,0.0 216.0,0.0 230.9485979497544,14.948597949754403 110.9485979497544,14.948597949754403\" style=\"fill:#ECB172A0;stroke-width:0\"/>\n",
       "\n",
       "  <!-- Horizontal lines -->\n",
       "  <line x1=\"110\" y1=\"14\" x2=\"230\" y2=\"14\" style=\"stroke-width:2\" />\n",
       "  <line x1=\"110\" y1=\"57\" x2=\"230\" y2=\"57\" />\n",
       "  <line x1=\"110\" y1=\"100\" x2=\"230\" y2=\"100\" />\n",
       "  <line x1=\"110\" y1=\"134\" x2=\"230\" y2=\"134\" style=\"stroke-width:2\" />\n",
       "\n",
       "  <!-- Vertical lines -->\n",
       "  <line x1=\"110\" y1=\"14\" x2=\"110\" y2=\"134\" style=\"stroke-width:2\" />\n",
       "  <line x1=\"153\" y1=\"14\" x2=\"153\" y2=\"134\" />\n",
       "  <line x1=\"196\" y1=\"14\" x2=\"196\" y2=\"134\" />\n",
       "  <line x1=\"230\" y1=\"14\" x2=\"230\" y2=\"134\" style=\"stroke-width:2\" />\n",
       "\n",
       "  <!-- Colored Rectangle -->\n",
       "  <polygon points=\"110.9485979497544,14.948597949754403 230.9485979497544,14.948597949754403 230.9485979497544,134.9485979497544 110.9485979497544,134.9485979497544\" style=\"fill:#ECB172A0;stroke-width:0\"/>\n",
       "\n",
       "  <!-- Text -->\n",
       "  <text x=\"170.948598\" y=\"154.948598\" font-size=\"1.0rem\" font-weight=\"100\" text-anchor=\"middle\" >6048</text>\n",
       "  <text x=\"250.948598\" y=\"74.948598\" font-size=\"1.0rem\" font-weight=\"100\" text-anchor=\"middle\" transform=\"rotate(-90,250.948598,74.948598)\">6048</text>\n",
       "  <text x=\"93.474299\" y=\"147.474299\" font-size=\"1.0rem\" font-weight=\"100\" text-anchor=\"middle\" transform=\"rotate(45,93.474299,147.474299)\">2</text>\n",
       "</svg>\n",
       "        </td>\n",
       "    </tr>\n",
       "</table>"
      ],
      "text/plain": [
       "dask.array<max-aggregate, shape=(75, 2, 6048, 6048), dtype=uint16, chunksize=(1, 2, 2160, 2160), chunktype=numpy.ndarray>"
      ]
     },
     "execution_count": 5,
     "metadata": {},
     "output_type": "execute_result"
    }
   ],
   "source": [
    "%%time\n",
    "# image_dir = os.path.join(base_dir, 'macrohet_images/Images_8bit')\n",
    "image_dir = os.path.join(base_dir, 'acquisition/Images')\n",
    "images = tile.compile_mosaic(image_dir, \n",
    "                             metadata, \n",
    "                             row, column, \n",
    "                             # subset_field_IDs=['16', '17',  '20', '21'], \n",
    "                             # n_tile_rows = 2, n_tile_cols = 2,\n",
    "                             set_plane='max_proj',\n",
    "                             # set_channel=1,\n",
    "                             # set_time = 1,\n",
    "#                             input_transforms = [input_transforms]\n",
    "                            )#.compute().compute()\n",
    "images"
   ]
  },
  {
   "cell_type": "code",
   "execution_count": 6,
   "id": "c4fb8dee-1183-4557-af6d-ed3bfc61aa0d",
   "metadata": {},
   "outputs": [
    {
     "name": "stdout",
     "output_type": "stream",
     "text": [
      "CPU times: user 3h 28min 19s, sys: 19min 41s, total: 3h 48min\n",
      "Wall time: 8min 49s\n"
     ]
    }
   ],
   "source": [
    "%%time\n",
    "images = images.compute().compute()"
   ]
  },
  {
   "cell_type": "code",
   "execution_count": 7,
   "id": "177b6605",
   "metadata": {},
   "outputs": [
    {
     "data": {
      "text/plain": [
       "(75, 2, 6048, 6048)"
      ]
     },
     "execution_count": 7,
     "metadata": {},
     "output_type": "execute_result"
    }
   ],
   "source": [
    "images.shape"
   ]
  },
  {
   "cell_type": "code",
   "execution_count": 8,
   "id": "025c5596-b983-4df8-adfd-e779356e7ef6",
   "metadata": {},
   "outputs": [
    {
     "data": {
      "text/plain": [
       "[<Image layer 'Image' at 0x7fb550ca6940>,\n",
       " <Image layer 'Image [1]' at 0x7fb52caa9040>]"
      ]
     },
     "execution_count": 8,
     "metadata": {},
     "output_type": "execute_result"
    }
   ],
   "source": [
    "viewer = napari.Viewer()\n",
    "\n",
    "viewer.add_image(images, channel_axis = 1)"
   ]
  },
  {
   "cell_type": "code",
   "execution_count": 9,
   "id": "ca558672-ef0b-418a-8caa-013c6f643c5f",
   "metadata": {},
   "outputs": [
    {
     "name": "stdout",
     "output_type": "stream",
     "text": [
      "\n"
     ]
    }
   ],
   "source": [
    "print()"
   ]
  },
  {
   "cell_type": "markdown",
   "id": "a12c9446",
   "metadata": {},
   "source": [
    "# Load tracks"
   ]
  },
  {
   "cell_type": "code",
   "execution_count": 10,
   "id": "0457f6e0-db3f-4fdb-bef1-cecfcb809faa",
   "metadata": {},
   "outputs": [
    {
     "name": "stdout",
     "output_type": "stream",
     "text": [
      "0.6.1.dev116\n"
     ]
    }
   ],
   "source": [
    "import btrack\n",
    "print(btrack.__version__)"
   ]
  },
  {
   "cell_type": "code",
   "execution_count": 11,
   "id": "42d4db6e",
   "metadata": {
    "scrolled": true
   },
   "outputs": [
    {
     "name": "stderr",
     "output_type": "stream",
     "text": [
      "[INFO][2024/01/04 01:26:35 pm] Opening HDF file: /mnt/DATA/macrohet/PS0000/labels/macrohet_seg_model/(3, 5).h5...\n",
      "INFO:btrack.io.hdf:Opening HDF file: /mnt/DATA/macrohet/PS0000/labels/macrohet_seg_model/(3, 5).h5...\n",
      "[INFO][2024/01/04 01:26:35 pm] Loading tracks/obj_type_1\n",
      "INFO:btrack.io.hdf:Loading tracks/obj_type_1\n",
      "[INFO][2024/01/04 01:26:35 pm] Loading LBEP/obj_type_1\n",
      "INFO:btrack.io.hdf:Loading LBEP/obj_type_1\n",
      "[INFO][2024/01/04 01:26:35 pm] Loading objects/obj_type_1 (41424, 5) (41424 filtered: None)\n",
      "INFO:btrack.io.hdf:Loading objects/obj_type_1 (41424, 5) (41424 filtered: None)\n",
      "[INFO][2024/01/04 01:26:45 pm] Loading segmentation (75, 6048, 6048)\n",
      "INFO:btrack.io.hdf:Loading segmentation (75, 6048, 6048)\n",
      "[INFO][2024/01/04 01:26:45 pm] Closing HDF file: /mnt/DATA/macrohet/PS0000/labels/macrohet_seg_model/(3, 5).h5\n",
      "INFO:btrack.io.hdf:Closing HDF file: /mnt/DATA/macrohet/PS0000/labels/macrohet_seg_model/(3, 5).h5\n"
     ]
    }
   ],
   "source": [
    "tracks_fn = os.path.join(base_dir, f'labels/macrohet_seg_model/{row, column}.h5')\n",
    "with btrack.io.HDF5FileHandler(tracks_fn, 'r') as hdf:\n",
    "    tracks = hdf.tracks\n",
    "    segmentation = hdf.segmentation\n",
    "napari_tracks, properties, graph = btrack.utils.tracks_to_napari(tracks, ndim=2)"
   ]
  },
  {
   "cell_type": "code",
   "execution_count": 59,
   "id": "0e7dfae0",
   "metadata": {},
   "outputs": [],
   "source": [
    "filtered_tracks = [t for t in tracks if len(t) > 25]"
   ]
  },
  {
   "cell_type": "code",
   "execution_count": 61,
   "id": "750fb7df",
   "metadata": {},
   "outputs": [],
   "source": [
    "napari_filtered_tracks, properties, graph = btrack.utils.tracks_to_napari(filtered_tracks, \n",
    "                                                                    ndim=2)"
   ]
  },
  {
   "cell_type": "code",
   "execution_count": 12,
   "id": "fd1c5c33-4269-4dd3-afa3-a4ec5bc28829",
   "metadata": {},
   "outputs": [],
   "source": [
    "import json\n",
    "dict_fn = f'/mnt/DATA/macrohet/{expt_ID}/upstream_development/tracking/tracking_performance/v1>70/{row},{column}/{acq_ID}_track_assessment.json'\n",
    "with open(dict_fn) as json_data:\n",
    "    track_dict = json.load(json_data)\n",
    "true_IDs = [int(ID) for ID in track_dict.keys() if track_dict[ID] == True]\n",
    "true_tracks = [t for t in tracks if t.ID in true_IDs]\n",
    "napari_true_tracks, properties, graph = btrack.utils.tracks_to_napari(true_tracks, ndim=2)"
   ]
  },
  {
   "cell_type": "markdown",
   "id": "ade31bfa",
   "metadata": {},
   "source": [
    "### Recolour tracks"
   ]
  },
  {
   "cell_type": "code",
   "execution_count": 13,
   "id": "db8d9444",
   "metadata": {},
   "outputs": [],
   "source": [
    "col_segmentation = btrack.utils.update_segmentation(segmentation, true_tracks, scale = (5.04, 5.04))"
   ]
  },
  {
   "cell_type": "markdown",
   "id": "52971987",
   "metadata": {},
   "source": [
    "# Launch napari image viewer"
   ]
  },
  {
   "cell_type": "code",
   "execution_count": 14,
   "id": "6818a45d",
   "metadata": {},
   "outputs": [
    {
     "data": {
      "text/plain": [
       "<Tracks layer 'napari_true_tracks' at 0x7fb5632619d0>"
      ]
     },
     "execution_count": 14,
     "metadata": {},
     "output_type": "execute_result"
    }
   ],
   "source": [
    "# # %time\n",
    "# viewer = napari.Viewer(title = f'{row, column}')\n",
    "\n",
    "# viewer.add_image(images, \n",
    "#                  channel_axis=1,\n",
    "#                  name=[\"macrophage\", \"mtb\"],\n",
    "#                  colormap=[\"green\",  \"magenta\"],\n",
    "# #                  contrast_limits=[[100, 6000], [100, 2000]],\n",
    "#                  contrast_limits=[[0,450], [0,450]], \n",
    "#                  visible = True\n",
    "#                  )\n",
    "# viewer.add_image(images, \n",
    "#                  channel_axis=1,\n",
    "#                  name=[\"macrophage\", \"mtb\"],\n",
    "#                  colormap=[\"green\",  \"magenta\"],\n",
    "# #                  contrast_limits=[[100, 6000], [100, 2000]],\n",
    "# #                  contrast_limits=[[0,450], [0,450]], \n",
    "#                  visible = True\n",
    "#                  )\n",
    "viewer.add_labels(segmentation, \n",
    "#                   num_colors= 1,\n",
    "                  #scale=(10, 1, 1,), \n",
    "                  #color='yellow'\n",
    "                  name = 'segmentation'\n",
    "                 )\n",
    "# viewer.add_labels(col_segmentation, \n",
    "#                   name = 'recolored segmentation'\n",
    "#                   #scale=(10, 1, 1,), \n",
    "#                   #color='yellow'\n",
    "#                  )\n",
    "# viewer.add_tracks(napari_tracks, scale = (1,5.04,5.04)\n",
    "# #                     properties=properties, \n",
    "# #                     graph=graph, \n",
    "# #                     name=\"Properly downscaled tracks\", \n",
    "# #                     blending=\"translucent\",\n",
    "# #                     visible=True,\n",
    "# # #                     scale = (100,1,1)\n",
    "#                  )\n",
    "viewer.add_tracks(napari_true_tracks, scale = (1,5.04,5.04),\n",
    "#                     properties=properties, \n",
    "#                     graph=graph, \n",
    "#                     name=\"Properly downscaled tracks\", \n",
    "#                     blending=\"translucent\",\n",
    "#                     visible=True,\n",
    "# #                     scale = (100,1,1)\n",
    "                 )"
   ]
  },
  {
   "cell_type": "code",
   "execution_count": 26,
   "id": "f34cc29d",
   "metadata": {},
   "outputs": [
    {
     "data": {
      "text/plain": [
       "<Points layer 'cell 507 [1]' at 0x7f7586e5af10>"
      ]
     },
     "execution_count": 26,
     "metadata": {},
     "output_type": "execute_result"
    }
   ],
   "source": [
    "visualise.highlight_cell(507, viewer, tracks)"
   ]
  },
  {
   "cell_type": "code",
   "execution_count": 17,
   "id": "79176449-b11a-42fa-83d9-9cbde1a6daee",
   "metadata": {},
   "outputs": [],
   "source": [
    "sd_2_75 = ['444.3.5',\n",
    " '530.3.5',\n",
    " '542.3.5',\n",
    " '552.3.5',\n",
    " '602.3.5',\n",
    " '1118.3.5',\n",
    " '1129.3.5',\n",
    " '628.3.5',\n",
    " '642.3.5',\n",
    " '131.3.5',\n",
    " '204.3.5',\n",
    " '1356.3.5',\n",
    " '344.3.5',\n",
    " '410.3.5',\n",
    " '461.3.5',\n",
    " '997.3.5',\n",
    " '493.3.5']\n",
    "\n",
    "sd_2_5 = ['218.3.5',\n",
    " '44.3.5',\n",
    " '444.3.5',\n",
    " '447.3.5',\n",
    " '507.3.5',\n",
    " '51.3.5',\n",
    " '530.3.5',\n",
    " '542.3.5',\n",
    " '552.3.5',\n",
    " '602.3.5',\n",
    " '64.3.5',\n",
    " '585.3.5',\n",
    " '1611.3.5',\n",
    " '89.3.5',\n",
    " '1118.3.5',\n",
    " '1129.3.5',\n",
    " '628.3.5',\n",
    " '642.3.5',\n",
    " '131.3.5',\n",
    " '204.3.5',\n",
    " '1356.3.5',\n",
    " '344.3.5',\n",
    " '410.3.5',\n",
    " '461.3.5',\n",
    " '997.3.5',\n",
    " '493.3.5']\n",
    "\n",
    "sd_3 = ['444.3.5',\n",
    " '530.3.5',\n",
    " '542.3.5',\n",
    " '552.3.5',\n",
    " '1118.3.5',\n",
    " '1129.3.5',\n",
    " '628.3.5',\n",
    " '642.3.5',\n",
    " '131.3.5',\n",
    " '204.3.5',\n",
    " '1356.3.5',\n",
    " '344.3.5',\n",
    " '461.3.5',\n",
    " '997.3.5',\n",
    " '493.3.5']"
   ]
  },
  {
   "cell_type": "code",
   "execution_count": 38,
   "id": "89a523d3-5f66-4975-9b27-96a072a647bb",
   "metadata": {},
   "outputs": [
    {
     "data": {
      "text/plain": [
       "{'1611.3.5',\n",
       " '218.3.5',\n",
       " '410.3.5',\n",
       " '44.3.5',\n",
       " '447.3.5',\n",
       " '507.3.5',\n",
       " '51.3.5',\n",
       " '585.3.5',\n",
       " '602.3.5',\n",
       " '64.3.5',\n",
       " '89.3.5'}"
      ]
     },
     "execution_count": 38,
     "metadata": {},
     "output_type": "execute_result"
    }
   ],
   "source": [
    "set(sd_2_5) - set(sd_3)"
   ]
  },
  {
   "cell_type": "code",
   "execution_count": 19,
   "id": "1bd448c9-ce45-43d3-af9a-2e719a3a2d10",
   "metadata": {},
   "outputs": [
    {
     "data": {
      "text/plain": [
       "11.76470588235294"
      ]
     },
     "execution_count": 19,
     "metadata": {},
     "output_type": "execute_result"
    }
   ],
   "source": [
    "2/len(sd_2_75)*100"
   ]
  },
  {
   "cell_type": "code",
   "execution_count": 16,
   "id": "b94023af-d65a-4b7c-93a1-73a0e62dc026",
   "metadata": {},
   "outputs": [],
   "source": [
    "for ID in ['444.3.5',\n",
    " '530.3.5',\n",
    " '542.3.5',\n",
    " '552.3.5',\n",
    " '602.3.5', # think it probably is death, but not evidently \n",
    " '1118.3.5',\n",
    " '1129.3.5', # false, last min ID switch\n",
    " '628.3.5', # false, looses track\n",
    " '642.3.5',\n",
    " '131.3.5',\n",
    " '204.3.5',\n",
    " '1356.3.5',\n",
    " '344.3.5',\n",
    " '410.3.5',\n",
    " '461.3.5',\n",
    " '997.3.5',\n",
    " '493.3.5']:\n",
    "    visualise.highlight_cell(int(ID.split('.')[0]), viewer, tracks)"
   ]
  },
  {
   "cell_type": "markdown",
   "id": "df259146-05c8-441a-b307-b9c7f26a356b",
   "metadata": {},
   "source": [
    "# Shall I train CNN on isolated cell death examples?\n",
    "\n",
    "surely this would require perfect tracks? what if i use TAP? "
   ]
  },
  {
   "cell_type": "code",
   "execution_count": 22,
   "id": "5ee51242-d7f8-4ee2-a81a-52c7f2f1d642",
   "metadata": {},
   "outputs": [
    {
     "data": {
      "text/plain": [
       "<Shapes layer 'grid_lines [1]' at 0x7fb54038c0a0>"
      ]
     },
     "execution_count": 22,
     "metadata": {},
     "output_type": "execute_result"
    }
   ],
   "source": [
    "# first try and understand how many cell deaths are caught by my janky catch 'all'\n",
    "visualise.add_napari_grid_overlay(viewer, N_rows_cols=5)"
   ]
  },
  {
   "cell_type": "code",
   "execution_count": 28,
   "id": "f2677058-f966-4c33-be0c-6de4585c5e07",
   "metadata": {},
   "outputs": [
    {
     "data": {
      "text/plain": [
       "70.83333333333334"
      ]
     },
     "execution_count": 28,
     "metadata": {},
     "output_type": "execute_result"
    }
   ],
   "source": [
    "#IDs not caught by my definition@\n",
    "\n",
    "missed_deaths = [432, \n",
    "                 431, 354, 397, 426, 424, 1308, 384, 1611, 473, 491, 3179, 486, 515, 15, 34, 119, 112, 26, 110, 144, 252, 286, 107]\n",
    "len(sd_2_75)/len(missed_deaths)*100"
   ]
  },
  {
   "cell_type": "code",
   "execution_count": 31,
   "id": "6e176b53-2fe4-408f-8064-c1bffa5c9f1d",
   "metadata": {},
   "outputs": [],
   "source": [
    "death_cells = missed_deaths + [int(ID.split('.')[0]) for ID in ['444.3.5',\n",
    " '530.3.5',\n",
    " '542.3.5',\n",
    " '552.3.5',\n",
    " '1118.3.5',\n",
    "'642.3.5',\n",
    " '131.3.5',\n",
    " '204.3.5',\n",
    " '1356.3.5',\n",
    " '344.3.5',\n",
    " '410.3.5',\n",
    " '461.3.5',\n",
    " '997.3.5',\n",
    " '493.3.5']]"
   ]
  },
  {
   "cell_type": "code",
   "execution_count": 32,
   "id": "45f422bb-e7db-4fc4-8ffd-8acdd69a3e1f",
   "metadata": {},
   "outputs": [
    {
     "data": {
      "text/plain": [
       "[432,\n",
       " 431,\n",
       " 354,\n",
       " 397,\n",
       " 426,\n",
       " 424,\n",
       " 1308,\n",
       " 384,\n",
       " 1611,\n",
       " 473,\n",
       " 491,\n",
       " 3179,\n",
       " 486,\n",
       " 515,\n",
       " 15,\n",
       " 34,\n",
       " 119,\n",
       " 112,\n",
       " 26,\n",
       " 110,\n",
       " 144,\n",
       " 252,\n",
       " 286,\n",
       " 107,\n",
       " 444,\n",
       " 530,\n",
       " 542,\n",
       " 552,\n",
       " 1118,\n",
       " 642,\n",
       " 131,\n",
       " 204,\n",
       " 1356,\n",
       " 344,\n",
       " 410,\n",
       " 461,\n",
       " 997,\n",
       " 493]"
      ]
     },
     "execution_count": 32,
     "metadata": {},
     "output_type": "execute_result"
    }
   ],
   "source": [
    "death_cells"
   ]
  },
  {
   "cell_type": "code",
   "execution_count": 33,
   "id": "18b24ff3-c953-4915-88b5-3f09a442b3f8",
   "metadata": {},
   "outputs": [],
   "source": [
    "for ID in death_cells:\n",
    "    visualise.highlight_cell(ID, viewer, tracks)"
   ]
  },
  {
   "cell_type": "code",
   "execution_count": 45,
   "id": "7fdb7f27-1daf-4e13-ae17-d23acb92c3ac",
   "metadata": {},
   "outputs": [
    {
     "data": {
      "text/plain": [
       "<Points layer 'cell 441' at 0x7fb52a24a070>"
      ]
     },
     "execution_count": 45,
     "metadata": {},
     "output_type": "execute_result"
    }
   ],
   "source": [
    "visualise.highlight_cell(441, viewer, tracks)"
   ]
  },
  {
   "cell_type": "markdown",
   "id": "40b6624c-05e3-4507-9ea3-71e8b3126378",
   "metadata": {},
   "source": [
    "# Isolating efferoctyoses\n",
    "\n",
    "from whole list of tracks"
   ]
  },
  {
   "cell_type": "code",
   "execution_count": 47,
   "id": "5ae799db-4801-4690-9f02-095e1f6d29ac",
   "metadata": {},
   "outputs": [
    {
     "data": {
      "text/plain": [
       "2420"
      ]
     },
     "execution_count": 47,
     "metadata": {},
     "output_type": "execute_result"
    }
   ],
   "source": [
    "len(tracks)"
   ]
  },
  {
   "cell_type": "code",
   "execution_count": 94,
   "id": "30956aca-9a9f-406d-96ab-4f6ac08bb0ca",
   "metadata": {},
   "outputs": [],
   "source": [
    "import matplotlib.pyplot as plt\n",
    "from skimage.measure import label\n",
    "import numpy as np\n",
    "\n",
    "import matplotlib.pyplot as plt\n",
    "import numpy as np\n",
    "from scipy.signal import savgol_filter\n",
    "\n",
    "import pandas as pd"
   ]
  },
  {
   "cell_type": "code",
   "execution_count": 58,
   "id": "37785f25-761b-4703-812d-c5938d87a3c1",
   "metadata": {},
   "outputs": [
    {
     "data": {
      "text/plain": [
       "670"
      ]
     },
     "execution_count": 58,
     "metadata": {},
     "output_type": "execute_result"
    }
   ],
   "source": [
    "np.max(label(segmentation[0]))"
   ]
  },
  {
   "cell_type": "code",
   "execution_count": 61,
   "id": "1691a969-b441-41bb-9c2d-8c49f7fcaa77",
   "metadata": {},
   "outputs": [],
   "source": [
    "n_masks_per_frame = [np.max(label(segmentation[i])) for i in range(len(segmentation))]"
   ]
  },
  {
   "cell_type": "code",
   "execution_count": 76,
   "id": "b88e68a2-4109-4205-9497-6c29ea5ac4d3",
   "metadata": {
    "jupyter": {
     "source_hidden": true
    }
   },
   "outputs": [
    {
     "data": {
      "image/png": "[encoded data removed]",
      "text/plain": [
       "<Figure size 1500x500 with 1 Axes>"
      ]
     },
     "metadata": {},
     "output_type": "display_data"
    }
   ],
   "source": [
    "# Smooth the data using a Savitzky-Golay filter\n",
    "window_length = 15  # Adjust the window length as needed\n",
    "smoothed_data = savgol_filter(n_masks_per_frame, window_length, 2)  # The '2' is the order of the smoothing\n",
    "\n",
    "# Set the figure size\n",
    "plt.figure(figsize=(15, 5))  # Adjust the width (10) and height (5) as needed\n",
    "\n",
    "# Plot the original data\n",
    "plt.plot(n_masks_per_frame, label='Original Data')\n",
    "\n",
    "# Plot the smoothed data on top\n",
    "plt.plot(smoothed_data, label='Smoothed Data', linestyle='--')\n",
    "\n",
    "# Specify the locations of vertical grid lines\n",
    "x_values = range(len(n_masks_per_frame))\n",
    "plt.xticks(x_values, rotation=90)  # Rotate x-labels by 90 degrees\n",
    "\n",
    "# Add grid lines\n",
    "plt.grid()\n",
    "\n",
    "# Add a legend to differentiate between the original and smoothed data\n",
    "plt.legend()\n",
    "\n",
    "# Show the plot\n",
    "plt.show()"
   ]
  },
  {
   "cell_type": "code",
   "execution_count": 52,
   "id": "acbe008b-7155-4057-ac13-23fc9c768cea",
   "metadata": {},
   "outputs": [
    {
     "data": {
      "text/plain": [
       "(array([832., 244., 199., 117.,  68.,  70.,  86.,  66.,  69.,  49.]),\n",
       " array([ 1. ,  3.8,  6.6,  9.4, 12.2, 15. , 17.8, 20.6, 23.4, 26.2, 29. ]),\n",
       " <BarContainer object of 10 artists>)"
      ]
     },
     "execution_count": 52,
     "metadata": {},
     "output_type": "execute_result"
    },
    {
     "data": {
      "image/png": "[encoded data removed]",
      "text/plain": [
       "<Figure size 640x480 with 1 Axes>"
      ]
     },
     "metadata": {},
     "output_type": "display_data"
    }
   ],
   "source": [
    "plt.hist([len(t) for t in tracks if len(t) <30])"
   ]
  },
  {
   "cell_type": "code",
   "execution_count": 85,
   "id": "95824e02-83ca-4749-ab1f-fdee7b2b1e3a",
   "metadata": {},
   "outputs": [],
   "source": [
    "# broadly speaking efferocytotic tracks will not last the whole time lapse... \n",
    "# also they will need at least 3 frame to guarantee merging\n",
    "# and i want them to be at least 10 frames long as it looks like \n",
    "poss_eff_tracks = [t for t in tracks if 15 <= len(t) < 71]"
   ]
  },
  {
   "cell_type": "code",
   "execution_count": 86,
   "id": "972e6486-e8ca-487c-a05c-824d074f6f22",
   "metadata": {},
   "outputs": [
    {
     "data": {
      "text/plain": [
       "756"
      ]
     },
     "execution_count": 86,
     "metadata": {},
     "output_type": "execute_result"
    }
   ],
   "source": [
    "len(poss_eff_tracks)"
   ]
  },
  {
   "cell_type": "code",
   "execution_count": 103,
   "id": "05aac7e6-7094-4d5e-84e3-4f29b5ec584d",
   "metadata": {},
   "outputs": [
    {
     "data": {
      "text/plain": [
       "377"
      ]
     },
     "execution_count": 103,
     "metadata": {},
     "output_type": "execute_result"
    }
   ],
   "source": [
    "len(set(df['Cell ID'].unique()))"
   ]
  },
  {
   "cell_type": "code",
   "execution_count": 91,
   "id": "d4a4cbd9-4984-4d03-9a07-27e0623d5524",
   "metadata": {},
   "outputs": [],
   "source": [
    "ids = [ID.ID for ID in poss_eff_tracks]"
   ]
  },
  {
   "cell_type": "code",
   "execution_count": 95,
   "id": "c75853e2-c710-4b54-bc0f-92e0b92b6c17",
   "metadata": {},
   "outputs": [],
   "source": [
    "df = pd.read_pickle(f'/mnt/DATA/macrohet/{expt_ID}/results/preliminary_sc_measures/sc_dfs/{acq_ID}_<70_sc_df_GT_dev.pkl')\n"
   ]
  },
  {
   "cell_type": "code",
   "execution_count": 105,
   "id": "b6e8ca64-3a87-4067-90d5-ead617f840b8",
   "metadata": {},
   "outputs": [],
   "source": [
    "poss_eff_IDs = list(set(ids).difference(set(df['Cell ID'].unique())))"
   ]
  },
  {
   "cell_type": "code",
   "execution_count": 106,
   "id": "6852d27c-e259-491b-bb48-6092d90734a1",
   "metadata": {},
   "outputs": [
    {
     "data": {
      "text/plain": [
       "567"
      ]
     },
     "execution_count": 106,
     "metadata": {},
     "output_type": "execute_result"
    }
   ],
   "source": [
    "len(poss_eff_IDs)"
   ]
  },
  {
   "cell_type": "markdown",
   "id": "da28a2bd-4af0-499d-98c2-9dff3c78e338",
   "metadata": {},
   "source": [
    "so now this set of tracks is filtered to not include true tracks which by definition would not have included an efferocytosis? as well as all other tracks that "
   ]
  },
  {
   "cell_type": "code",
   "execution_count": 107,
   "id": "e3c424b8-2f9f-4af7-a263-1bf45e35164a",
   "metadata": {},
   "outputs": [],
   "source": [
    "poss_eff_tracks = [t for t in tracks if t.ID in poss_eff_IDs]"
   ]
  },
  {
   "cell_type": "code",
   "execution_count": 114,
   "id": "057cca1a-63a8-4a1b-b9c8-ce8c16c643a3",
   "metadata": {},
   "outputs": [
    {
     "data": {
      "text/plain": [
       "(array([141., 100.,  95.,  75.,  34.,  32.,  38.,  22.,  20.,  10.]),\n",
       " array([15. , 20.4, 25.8, 31.2, 36.6, 42. , 47.4, 52.8, 58.2, 63.6, 69. ]),\n",
       " <BarContainer object of 10 artists>)"
      ]
     },
     "execution_count": 114,
     "metadata": {},
     "output_type": "execute_result"
    },
    {
     "data": {
      "image/png": "[encoded data removed]",
      "text/plain": [
       "<Figure size 640x480 with 1 Axes>"
      ]
     },
     "metadata": {},
     "output_type": "display_data"
    }
   ],
   "source": [
    "plt.hist([len(t) for t in poss_eff_tracks])"
   ]
  },
  {
   "cell_type": "markdown",
   "id": "f15e370a-abc8-4879-b20c-2cdcc736751e",
   "metadata": {},
   "source": [
    "### Need to further filter these tracks... efferocytosis would involve a sudden change in mtb or gfp fluorescence but so would a false ID switch\n",
    "\n",
    "What about a small area and large area colocalising?"
   ]
  },
  {
   "cell_type": "code",
   "execution_count": 112,
   "id": "8f0767ad-5a31-41d1-9b4c-72e68f1fd1af",
   "metadata": {},
   "outputs": [],
   "source": [
    "napari_poss_eff_tracks, properties, graph = btrack.utils.tracks_to_napari(poss_eff_tracks, ndim=2)"
   ]
  },
  {
   "cell_type": "code",
   "execution_count": 113,
   "id": "fba1d689-c6fe-453d-b8b7-2216c2cd15a1",
   "metadata": {},
   "outputs": [
    {
     "data": {
      "text/plain": [
       "<Tracks layer 'napari_poss_eff_tracks' at 0x7fb52e9bc6d0>"
      ]
     },
     "execution_count": 113,
     "metadata": {},
     "output_type": "execute_result"
    }
   ],
   "source": [
    "viewer.add_tracks(napari_poss_eff_tracks, scale = (1,5.04,5.04),)"
   ]
  },
  {
   "cell_type": "code",
   "execution_count": 111,
   "id": "2d0f5713-b316-40df-9923-73cde0b69d6c",
   "metadata": {},
   "outputs": [],
   "source": [
    "for n, ID in enumerate(poss_eff_IDs):\n",
    "    visualise.highlight_cell(ID, viewer, tracks)\n",
    "    if n == 10:\n",
    "        break"
   ]
  },
  {
   "cell_type": "markdown",
   "id": "d17773d0-a30a-48bd-a634-589c9e6df729",
   "metadata": {},
   "source": [
    "# This is potentially the wrong approach, need to classify true tracks that have died or survided as a whether or not they were efferocytosed on the way... or efferocytosis is a fate for one type of cell or ex cell"
   ]
  },
  {
   "cell_type": "code",
   "execution_count": 117,
   "id": "80adb6b0-8d39-413a-a8d5-3a565280544b",
   "metadata": {},
   "outputs": [
    {
     "data": {
      "text/plain": [
       "'252'"
      ]
     },
     "execution_count": 117,
     "metadata": {},
     "output_type": "execute_result"
    }
   ],
   "source": [
    "ID"
   ]
  },
  {
   "cell_type": "code",
   "execution_count": 119,
   "id": "23310037-c588-4ffc-85c5-f4c47f362d8a",
   "metadata": {},
   "outputs": [],
   "source": [
    "for ID in ['252.3.5',\n",
    " '486.3.5',\n",
    " '507.3.5',\n",
    " '515.3.5',\n",
    " '530.3.5',\n",
    " '542.3.5',\n",
    " '1611.3.5',\n",
    " '1118.3.5',\n",
    " '3179.3.5',\n",
    " '110.3.5',\n",
    " '112.3.5',\n",
    " '119.3.5',\n",
    " '1356.3.5',\n",
    " '384.3.5',\n",
    " '410.3.5',\n",
    " '426.3.5',\n",
    " '431.3.5',\n",
    " '432.3.5',\n",
    " '461.3.5',\n",
    " '473.3.5',\n",
    " '997.3.5',\n",
    " '491.3.5']:\n",
    "    ID =int( ID.split('.')[0])\n",
    "    visualise.highlight_cell(ID, viewer, tracks)"
   ]
  },
  {
   "cell_type": "code",
   "execution_count": 329,
   "id": "8cbbbf03-b376-4b63-abc6-c90c6d971b43",
   "metadata": {},
   "outputs": [
    {
     "data": {
      "text/plain": [
       "<napari._qt.widgets.qt_viewer_dock_widget.QtViewerDockWidget at 0x7fb567be8ca0>"
      ]
     },
     "execution_count": 329,
     "metadata": {},
     "output_type": "execute_result"
    }
   ],
   "source": [
    "viewer.window.add_dock_widget(visualise.highlight_cell_gui(tracks))"
   ]
  }
 ],
 "metadata": {
  "kernelspec": {
   "display_name": "brassica",
   "language": "python",
   "name": "brassica"
  },
  "language_info": {
   "codemirror_mode": {
    "name": "ipython",
    "version": 3
   },
   "file_extension": ".py",
   "mimetype": "text/x-python",
   "name": "python",
   "nbconvert_exporter": "python",
   "pygments_lexer": "ipython3",
   "version": "3.9.17"
  }
 },
 "nbformat": 4,
 "nbformat_minor": 5
}
