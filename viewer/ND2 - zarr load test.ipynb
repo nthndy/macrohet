{
 "cells": [
  {
   "cell_type": "markdown",
   "id": "e7452ae6",
   "metadata": {},
   "source": [
    "# Image viewer\n",
    "\n",
    "This notebook is for inspecting timelapse microscopy data, with associated sinhgle-cell labels and tracks, showing the infection of human macrophages with Mycobacterium Tuberculosis (Mtb), acquired on an Opera Phenix confocal microscope. "
   ]
  },
  {
   "cell_type": "code",
   "execution_count": 2,
   "id": "83d383f0",
   "metadata": {},
   "outputs": [],
   "source": [
    "import napari\n",
    "from macrohet import dataio, tile, visualise\n",
    "import os, glob\n",
    "from tqdm.auto import tqdm\n",
    "from skimage import io\n",
    "import numpy as np\n",
    "import zarr"
   ]
  },
  {
   "cell_type": "markdown",
   "id": "cb28dcb6",
   "metadata": {},
   "source": [
    "### Load experiment of choice\n",
    "\n",
    "The Opera Phenix is a high-throughput confocal microscope that acquires very large 5-dimensional (TCZXY) images over several fields of view in any one experiment. Therefore, a lazy-loading approach is chosen to mosaic, view and annotate these images. This approach depends upon Dask and DaskFusion. The first step is to load the main metadata file (typically called `Index.idx.xml` and located in the main `Images` directory) that contains the image filenames and associated TCXZY information used to organise the images."
   ]
  },
  {
   "cell_type": "code",
   "execution_count": 3,
   "id": "644aeec8-86fc-4f99-958e-32c606243074",
   "metadata": {},
   "outputs": [
    {
     "name": "stdout",
     "output_type": "stream",
     "text": [
      "Reading metadata XML file...\n"
     ]
    },
    {
     "data": {
      "application/vnd.jupyter.widget-view+json": {
       "model_id": "39738c33d0d34a83ba2808baef6d9e69",
       "version_major": 2,
       "version_minor": 0
      },
      "text/plain": [
       "Extracting HarmonyV5 metadata:   0%|          | 0/388620 [00:00<?, ?it/s]"
      ]
     },
     "metadata": {},
     "output_type": "display_data"
    },
    {
     "name": "stdout",
     "output_type": "stream",
     "text": [
      "Extracting metadata complete!\n",
      "CPU times: user 49.9 s, sys: 5.66 s, total: 55.5 s\n",
      "Wall time: 3min 34s\n"
     ]
    },
    {
     "data": {
      "text/html": [
       "<div>\n",
       "<style scoped>\n",
       "    .dataframe tbody tr th:only-of-type {\n",
       "        vertical-align: middle;\n",
       "    }\n",
       "\n",
       "    .dataframe tbody tr th {\n",
       "        vertical-align: top;\n",
       "    }\n",
       "\n",
       "    .dataframe thead th {\n",
       "        text-align: right;\n",
       "    }\n",
       "</style>\n",
       "<table border=\"1\" class=\"dataframe\">\n",
       "  <thead>\n",
       "    <tr style=\"text-align: right;\">\n",
       "      <th></th>\n",
       "      <th>id</th>\n",
       "      <th>State</th>\n",
       "      <th>URL</th>\n",
       "      <th>Row</th>\n",
       "      <th>Col</th>\n",
       "      <th>FieldID</th>\n",
       "      <th>PlaneID</th>\n",
       "      <th>TimepointID</th>\n",
       "      <th>ChannelID</th>\n",
       "      <th>FlimID</th>\n",
       "      <th>...</th>\n",
       "      <th>PositionZ</th>\n",
       "      <th>AbsPositionZ</th>\n",
       "      <th>MeasurementTimeOffset</th>\n",
       "      <th>AbsTime</th>\n",
       "      <th>MainExcitationWavelength</th>\n",
       "      <th>MainEmissionWavelength</th>\n",
       "      <th>ObjectiveMagnification</th>\n",
       "      <th>ObjectiveNA</th>\n",
       "      <th>ExposureTime</th>\n",
       "      <th>OrientationMatrix</th>\n",
       "    </tr>\n",
       "  </thead>\n",
       "  <tbody>\n",
       "    <tr>\n",
       "      <th>0</th>\n",
       "      <td>0103K1F1P1R1</td>\n",
       "      <td>Ok</td>\n",
       "      <td>r01c03f01p01-ch1sk1fk1fl1.tiff</td>\n",
       "      <td>1</td>\n",
       "      <td>3</td>\n",
       "      <td>1</td>\n",
       "      <td>1</td>\n",
       "      <td>0</td>\n",
       "      <td>1</td>\n",
       "      <td>1</td>\n",
       "      <td>...</td>\n",
       "      <td>-2E-06</td>\n",
       "      <td>0.135466397</td>\n",
       "      <td>0</td>\n",
       "      <td>2023-11-30T17:22:09.49+00:00</td>\n",
       "      <td>640</td>\n",
       "      <td>706</td>\n",
       "      <td>40</td>\n",
       "      <td>1.1</td>\n",
       "      <td>0.2</td>\n",
       "      <td>[[1.000989,0,0,10.0],[0,-1.000989,0,-6.8],[0,0...</td>\n",
       "    </tr>\n",
       "    <tr>\n",
       "      <th>1</th>\n",
       "      <td>0103K1F1P1R2</td>\n",
       "      <td>Ok</td>\n",
       "      <td>r01c03f01p01-ch2sk1fk1fl1.tiff</td>\n",
       "      <td>1</td>\n",
       "      <td>3</td>\n",
       "      <td>1</td>\n",
       "      <td>1</td>\n",
       "      <td>0</td>\n",
       "      <td>2</td>\n",
       "      <td>1</td>\n",
       "      <td>...</td>\n",
       "      <td>-2E-06</td>\n",
       "      <td>0.135466397</td>\n",
       "      <td>0</td>\n",
       "      <td>2023-11-30T17:22:09.723+00:00</td>\n",
       "      <td>488</td>\n",
       "      <td>522</td>\n",
       "      <td>40</td>\n",
       "      <td>1.1</td>\n",
       "      <td>0.1</td>\n",
       "      <td>[[1.000989,0,0,10.0],[0,-1.000989,0,-6.8],[0,0...</td>\n",
       "    </tr>\n",
       "    <tr>\n",
       "      <th>2</th>\n",
       "      <td>0103K1F1P2R1</td>\n",
       "      <td>Ok</td>\n",
       "      <td>r01c03f01p02-ch1sk1fk1fl1.tiff</td>\n",
       "      <td>1</td>\n",
       "      <td>3</td>\n",
       "      <td>1</td>\n",
       "      <td>2</td>\n",
       "      <td>0</td>\n",
       "      <td>1</td>\n",
       "      <td>1</td>\n",
       "      <td>...</td>\n",
       "      <td>0</td>\n",
       "      <td>0.135468394</td>\n",
       "      <td>0</td>\n",
       "      <td>2023-11-30T17:22:10.067+00:00</td>\n",
       "      <td>640</td>\n",
       "      <td>706</td>\n",
       "      <td>40</td>\n",
       "      <td>1.1</td>\n",
       "      <td>0.2</td>\n",
       "      <td>[[1.000989,0,0,10.0],[0,-1.000989,0,-6.8],[0,0...</td>\n",
       "    </tr>\n",
       "    <tr>\n",
       "      <th>3</th>\n",
       "      <td>0103K1F1P2R2</td>\n",
       "      <td>Ok</td>\n",
       "      <td>r01c03f01p02-ch2sk1fk1fl1.tiff</td>\n",
       "      <td>1</td>\n",
       "      <td>3</td>\n",
       "      <td>1</td>\n",
       "      <td>2</td>\n",
       "      <td>0</td>\n",
       "      <td>2</td>\n",
       "      <td>1</td>\n",
       "      <td>...</td>\n",
       "      <td>0</td>\n",
       "      <td>0.135468394</td>\n",
       "      <td>0</td>\n",
       "      <td>2023-11-30T17:22:10.287+00:00</td>\n",
       "      <td>488</td>\n",
       "      <td>522</td>\n",
       "      <td>40</td>\n",
       "      <td>1.1</td>\n",
       "      <td>0.1</td>\n",
       "      <td>[[1.000989,0,0,10.0],[0,-1.000989,0,-6.8],[0,0...</td>\n",
       "    </tr>\n",
       "    <tr>\n",
       "      <th>4</th>\n",
       "      <td>0103K1F1P3R1</td>\n",
       "      <td>Ok</td>\n",
       "      <td>r01c03f01p03-ch1sk1fk1fl1.tiff</td>\n",
       "      <td>1</td>\n",
       "      <td>3</td>\n",
       "      <td>1</td>\n",
       "      <td>3</td>\n",
       "      <td>0</td>\n",
       "      <td>1</td>\n",
       "      <td>1</td>\n",
       "      <td>...</td>\n",
       "      <td>2E-06</td>\n",
       "      <td>0.135470405</td>\n",
       "      <td>0</td>\n",
       "      <td>2023-11-30T17:22:10.627+00:00</td>\n",
       "      <td>640</td>\n",
       "      <td>706</td>\n",
       "      <td>40</td>\n",
       "      <td>1.1</td>\n",
       "      <td>0.2</td>\n",
       "      <td>[[1.000989,0,0,10.0],[0,-1.000989,0,-6.8],[0,0...</td>\n",
       "    </tr>\n",
       "    <tr>\n",
       "      <th>...</th>\n",
       "      <td>...</td>\n",
       "      <td>...</td>\n",
       "      <td>...</td>\n",
       "      <td>...</td>\n",
       "      <td>...</td>\n",
       "      <td>...</td>\n",
       "      <td>...</td>\n",
       "      <td>...</td>\n",
       "      <td>...</td>\n",
       "      <td>...</td>\n",
       "      <td>...</td>\n",
       "      <td>...</td>\n",
       "      <td>...</td>\n",
       "      <td>...</td>\n",
       "      <td>...</td>\n",
       "      <td>...</td>\n",
       "      <td>...</td>\n",
       "      <td>...</td>\n",
       "      <td>...</td>\n",
       "      <td>...</td>\n",
       "      <td>...</td>\n",
       "    </tr>\n",
       "    <tr>\n",
       "      <th>388615</th>\n",
       "      <td>0612K150F9P1R2</td>\n",
       "      <td>Ok</td>\n",
       "      <td>r06c12f09p01-ch2sk150fk1fl1.tiff</td>\n",
       "      <td>6</td>\n",
       "      <td>12</td>\n",
       "      <td>9</td>\n",
       "      <td>1</td>\n",
       "      <td>149</td>\n",
       "      <td>2</td>\n",
       "      <td>1</td>\n",
       "      <td>...</td>\n",
       "      <td>-2E-06</td>\n",
       "      <td>0.1351538</td>\n",
       "      <td>268191.66</td>\n",
       "      <td>2023-12-03T20:06:16.08+00:00</td>\n",
       "      <td>488</td>\n",
       "      <td>522</td>\n",
       "      <td>40</td>\n",
       "      <td>1.1</td>\n",
       "      <td>0.1</td>\n",
       "      <td>[[1.000989,0,0,10.0],[0,-1.000989,0,-6.8],[0,0...</td>\n",
       "    </tr>\n",
       "    <tr>\n",
       "      <th>388616</th>\n",
       "      <td>0612K150F9P2R1</td>\n",
       "      <td>Ok</td>\n",
       "      <td>r06c12f09p02-ch1sk150fk1fl1.tiff</td>\n",
       "      <td>6</td>\n",
       "      <td>12</td>\n",
       "      <td>9</td>\n",
       "      <td>2</td>\n",
       "      <td>149</td>\n",
       "      <td>1</td>\n",
       "      <td>1</td>\n",
       "      <td>...</td>\n",
       "      <td>0</td>\n",
       "      <td>0.135155797</td>\n",
       "      <td>268191.66</td>\n",
       "      <td>2023-12-03T20:06:16.423+00:00</td>\n",
       "      <td>640</td>\n",
       "      <td>706</td>\n",
       "      <td>40</td>\n",
       "      <td>1.1</td>\n",
       "      <td>0.2</td>\n",
       "      <td>[[1.000989,0,0,10.0],[0,-1.000989,0,-6.8],[0,0...</td>\n",
       "    </tr>\n",
       "    <tr>\n",
       "      <th>388617</th>\n",
       "      <td>0612K150F9P2R2</td>\n",
       "      <td>Ok</td>\n",
       "      <td>r06c12f09p02-ch2sk150fk1fl1.tiff</td>\n",
       "      <td>6</td>\n",
       "      <td>12</td>\n",
       "      <td>9</td>\n",
       "      <td>2</td>\n",
       "      <td>149</td>\n",
       "      <td>2</td>\n",
       "      <td>1</td>\n",
       "      <td>...</td>\n",
       "      <td>0</td>\n",
       "      <td>0.135155797</td>\n",
       "      <td>268191.66</td>\n",
       "      <td>2023-12-03T20:06:16.657+00:00</td>\n",
       "      <td>488</td>\n",
       "      <td>522</td>\n",
       "      <td>40</td>\n",
       "      <td>1.1</td>\n",
       "      <td>0.1</td>\n",
       "      <td>[[1.000989,0,0,10.0],[0,-1.000989,0,-6.8],[0,0...</td>\n",
       "    </tr>\n",
       "    <tr>\n",
       "      <th>388618</th>\n",
       "      <td>0612K150F9P3R1</td>\n",
       "      <td>Ok</td>\n",
       "      <td>r06c12f09p03-ch1sk150fk1fl1.tiff</td>\n",
       "      <td>6</td>\n",
       "      <td>12</td>\n",
       "      <td>9</td>\n",
       "      <td>3</td>\n",
       "      <td>149</td>\n",
       "      <td>1</td>\n",
       "      <td>1</td>\n",
       "      <td>...</td>\n",
       "      <td>2E-06</td>\n",
       "      <td>0.135157794</td>\n",
       "      <td>268191.66</td>\n",
       "      <td>2023-12-03T20:06:17+00:00</td>\n",
       "      <td>640</td>\n",
       "      <td>706</td>\n",
       "      <td>40</td>\n",
       "      <td>1.1</td>\n",
       "      <td>0.2</td>\n",
       "      <td>[[1.000989,0,0,10.0],[0,-1.000989,0,-6.8],[0,0...</td>\n",
       "    </tr>\n",
       "    <tr>\n",
       "      <th>388619</th>\n",
       "      <td>0612K150F9P3R2</td>\n",
       "      <td>Ok</td>\n",
       "      <td>r06c12f09p03-ch2sk150fk1fl1.tiff</td>\n",
       "      <td>6</td>\n",
       "      <td>12</td>\n",
       "      <td>9</td>\n",
       "      <td>3</td>\n",
       "      <td>149</td>\n",
       "      <td>2</td>\n",
       "      <td>1</td>\n",
       "      <td>...</td>\n",
       "      <td>2E-06</td>\n",
       "      <td>0.135157794</td>\n",
       "      <td>268191.66</td>\n",
       "      <td>2023-12-03T20:06:17.217+00:00</td>\n",
       "      <td>488</td>\n",
       "      <td>522</td>\n",
       "      <td>40</td>\n",
       "      <td>1.1</td>\n",
       "      <td>0.1</td>\n",
       "      <td>[[1.000989,0,0,10.0],[0,-1.000989,0,-6.8],[0,0...</td>\n",
       "    </tr>\n",
       "  </tbody>\n",
       "</table>\n",
       "<p>388620 rows × 35 columns</p>\n",
       "</div>"
      ],
      "text/plain": [
       "                    id State                               URL Row Col  \\\n",
       "0         0103K1F1P1R1    Ok    r01c03f01p01-ch1sk1fk1fl1.tiff   1   3   \n",
       "1         0103K1F1P1R2    Ok    r01c03f01p01-ch2sk1fk1fl1.tiff   1   3   \n",
       "2         0103K1F1P2R1    Ok    r01c03f01p02-ch1sk1fk1fl1.tiff   1   3   \n",
       "3         0103K1F1P2R2    Ok    r01c03f01p02-ch2sk1fk1fl1.tiff   1   3   \n",
       "4         0103K1F1P3R1    Ok    r01c03f01p03-ch1sk1fk1fl1.tiff   1   3   \n",
       "...                ...   ...                               ...  ..  ..   \n",
       "388615  0612K150F9P1R2    Ok  r06c12f09p01-ch2sk150fk1fl1.tiff   6  12   \n",
       "388616  0612K150F9P2R1    Ok  r06c12f09p02-ch1sk150fk1fl1.tiff   6  12   \n",
       "388617  0612K150F9P2R2    Ok  r06c12f09p02-ch2sk150fk1fl1.tiff   6  12   \n",
       "388618  0612K150F9P3R1    Ok  r06c12f09p03-ch1sk150fk1fl1.tiff   6  12   \n",
       "388619  0612K150F9P3R2    Ok  r06c12f09p03-ch2sk150fk1fl1.tiff   6  12   \n",
       "\n",
       "       FieldID PlaneID TimepointID ChannelID FlimID  ... PositionZ  \\\n",
       "0            1       1           0         1      1  ...    -2E-06   \n",
       "1            1       1           0         2      1  ...    -2E-06   \n",
       "2            1       2           0         1      1  ...         0   \n",
       "3            1       2           0         2      1  ...         0   \n",
       "4            1       3           0         1      1  ...     2E-06   \n",
       "...        ...     ...         ...       ...    ...  ...       ...   \n",
       "388615       9       1         149         2      1  ...    -2E-06   \n",
       "388616       9       2         149         1      1  ...         0   \n",
       "388617       9       2         149         2      1  ...         0   \n",
       "388618       9       3         149         1      1  ...     2E-06   \n",
       "388619       9       3         149         2      1  ...     2E-06   \n",
       "\n",
       "       AbsPositionZ MeasurementTimeOffset                        AbsTime  \\\n",
       "0       0.135466397                     0   2023-11-30T17:22:09.49+00:00   \n",
       "1       0.135466397                     0  2023-11-30T17:22:09.723+00:00   \n",
       "2       0.135468394                     0  2023-11-30T17:22:10.067+00:00   \n",
       "3       0.135468394                     0  2023-11-30T17:22:10.287+00:00   \n",
       "4       0.135470405                     0  2023-11-30T17:22:10.627+00:00   \n",
       "...             ...                   ...                            ...   \n",
       "388615    0.1351538             268191.66   2023-12-03T20:06:16.08+00:00   \n",
       "388616  0.135155797             268191.66  2023-12-03T20:06:16.423+00:00   \n",
       "388617  0.135155797             268191.66  2023-12-03T20:06:16.657+00:00   \n",
       "388618  0.135157794             268191.66      2023-12-03T20:06:17+00:00   \n",
       "388619  0.135157794             268191.66  2023-12-03T20:06:17.217+00:00   \n",
       "\n",
       "       MainExcitationWavelength MainEmissionWavelength ObjectiveMagnification  \\\n",
       "0                           640                    706                     40   \n",
       "1                           488                    522                     40   \n",
       "2                           640                    706                     40   \n",
       "3                           488                    522                     40   \n",
       "4                           640                    706                     40   \n",
       "...                         ...                    ...                    ...   \n",
       "388615                      488                    522                     40   \n",
       "388616                      640                    706                     40   \n",
       "388617                      488                    522                     40   \n",
       "388618                      640                    706                     40   \n",
       "388619                      488                    522                     40   \n",
       "\n",
       "       ObjectiveNA ExposureTime  \\\n",
       "0              1.1          0.2   \n",
       "1              1.1          0.1   \n",
       "2              1.1          0.2   \n",
       "3              1.1          0.1   \n",
       "4              1.1          0.2   \n",
       "...            ...          ...   \n",
       "388615         1.1          0.1   \n",
       "388616         1.1          0.2   \n",
       "388617         1.1          0.1   \n",
       "388618         1.1          0.2   \n",
       "388619         1.1          0.1   \n",
       "\n",
       "                                        OrientationMatrix  \n",
       "0       [[1.000989,0,0,10.0],[0,-1.000989,0,-6.8],[0,0...  \n",
       "1       [[1.000989,0,0,10.0],[0,-1.000989,0,-6.8],[0,0...  \n",
       "2       [[1.000989,0,0,10.0],[0,-1.000989,0,-6.8],[0,0...  \n",
       "3       [[1.000989,0,0,10.0],[0,-1.000989,0,-6.8],[0,0...  \n",
       "4       [[1.000989,0,0,10.0],[0,-1.000989,0,-6.8],[0,0...  \n",
       "...                                                   ...  \n",
       "388615  [[1.000989,0,0,10.0],[0,-1.000989,0,-6.8],[0,0...  \n",
       "388616  [[1.000989,0,0,10.0],[0,-1.000989,0,-6.8],[0,0...  \n",
       "388617  [[1.000989,0,0,10.0],[0,-1.000989,0,-6.8],[0,0...  \n",
       "388618  [[1.000989,0,0,10.0],[0,-1.000989,0,-6.8],[0,0...  \n",
       "388619  [[1.000989,0,0,10.0],[0,-1.000989,0,-6.8],[0,0...  \n",
       "\n",
       "[388620 rows x 35 columns]"
      ]
     },
     "execution_count": 3,
     "metadata": {},
     "output_type": "execute_result"
    }
   ],
   "source": [
    "%%time\n",
    "expt_ID = 'ND0002'\n",
    "# base_dir = f'/mnt/DATA/macrohet/{expt_ID}/'\n",
    "base_dir = f'/mnt/NEMO/home/users/dayn/macrohet_nemo/{expt_ID}/'\n",
    "metadata_fn = glob.glob(os.path.join(base_dir, 'acquisition/Images/Index*xml'))[0]\n",
    "metadata = dataio.read_harmony_metadata(metadata_fn)  \n",
    "# temporary hack to fix URL from incorrectly exported metadata\n",
    "# metadata['URL'] = metadata.apply(dataio.generate_url, axis=1)\n",
    "metadata"
   ]
  },
  {
   "cell_type": "markdown",
   "id": "4779c1f0",
   "metadata": {},
   "source": [
    "### View assay layout and mask information (optional)\n",
    "\n",
    "The Opera Phenix acquires many time lapse series from a range of positions. The first step is to inspect the image metadata, presented in the form of an `Assaylayout/experiment_ID.xml` file, to show which positions correspond to which experimental assays."
   ]
  },
  {
   "cell_type": "code",
   "execution_count": 4,
   "id": "4b75643e",
   "metadata": {},
   "outputs": [
    {
     "name": "stdout",
     "output_type": "stream",
     "text": [
      "Reading metadata XML file...\n",
      "Extracting metadata complete!\n"
     ]
    },
    {
     "data": {
      "text/html": [
       "<div>\n",
       "<style scoped>\n",
       "    .dataframe tbody tr th:only-of-type {\n",
       "        vertical-align: middle;\n",
       "    }\n",
       "\n",
       "    .dataframe tbody tr th {\n",
       "        vertical-align: top;\n",
       "    }\n",
       "\n",
       "    .dataframe thead th {\n",
       "        text-align: right;\n",
       "    }\n",
       "</style>\n",
       "<table border=\"1\" class=\"dataframe\">\n",
       "  <thead>\n",
       "    <tr style=\"text-align: right;\">\n",
       "      <th></th>\n",
       "      <th></th>\n",
       "      <th>Strain</th>\n",
       "      <th>Compound</th>\n",
       "      <th>Concentration</th>\n",
       "      <th>ConcentrationEC</th>\n",
       "    </tr>\n",
       "    <tr>\n",
       "      <th>Row</th>\n",
       "      <th>Column</th>\n",
       "      <th></th>\n",
       "      <th></th>\n",
       "      <th></th>\n",
       "      <th></th>\n",
       "    </tr>\n",
       "  </thead>\n",
       "  <tbody>\n",
       "    <tr>\n",
       "      <th rowspan=\"12\" valign=\"top\">3</th>\n",
       "      <th>1</th>\n",
       "      <td>UNI</td>\n",
       "      <td>CTRL</td>\n",
       "      <td>0</td>\n",
       "      <td>EC0</td>\n",
       "    </tr>\n",
       "    <tr>\n",
       "      <th>2</th>\n",
       "      <td>UNI</td>\n",
       "      <td>CTRL</td>\n",
       "      <td>0</td>\n",
       "      <td>EC0</td>\n",
       "    </tr>\n",
       "    <tr>\n",
       "      <th>3</th>\n",
       "      <td>WT</td>\n",
       "      <td>CTRL</td>\n",
       "      <td>0</td>\n",
       "      <td>EC0</td>\n",
       "    </tr>\n",
       "    <tr>\n",
       "      <th>4</th>\n",
       "      <td>WT</td>\n",
       "      <td>CTRL</td>\n",
       "      <td>0</td>\n",
       "      <td>EC0</td>\n",
       "    </tr>\n",
       "    <tr>\n",
       "      <th>5</th>\n",
       "      <td>WT</td>\n",
       "      <td>PZA</td>\n",
       "      <td>60</td>\n",
       "      <td>EC50</td>\n",
       "    </tr>\n",
       "    <tr>\n",
       "      <th>6</th>\n",
       "      <td>WT</td>\n",
       "      <td>PZA</td>\n",
       "      <td>60</td>\n",
       "      <td>EC50</td>\n",
       "    </tr>\n",
       "    <tr>\n",
       "      <th>7</th>\n",
       "      <td>WT</td>\n",
       "      <td>RIF</td>\n",
       "      <td>0.1</td>\n",
       "      <td>EC50</td>\n",
       "    </tr>\n",
       "    <tr>\n",
       "      <th>8</th>\n",
       "      <td>WT</td>\n",
       "      <td>RIF</td>\n",
       "      <td>0.1</td>\n",
       "      <td>EC50</td>\n",
       "    </tr>\n",
       "    <tr>\n",
       "      <th>9</th>\n",
       "      <td>WT</td>\n",
       "      <td>INH</td>\n",
       "      <td>0.04</td>\n",
       "      <td>EC50</td>\n",
       "    </tr>\n",
       "    <tr>\n",
       "      <th>10</th>\n",
       "      <td>WT</td>\n",
       "      <td>INH</td>\n",
       "      <td>0.04</td>\n",
       "      <td>EC50</td>\n",
       "    </tr>\n",
       "    <tr>\n",
       "      <th>11</th>\n",
       "      <td>WT</td>\n",
       "      <td>BDQ</td>\n",
       "      <td>0.02</td>\n",
       "      <td>EC50</td>\n",
       "    </tr>\n",
       "    <tr>\n",
       "      <th>12</th>\n",
       "      <td>WT</td>\n",
       "      <td>BDQ</td>\n",
       "      <td>0.02</td>\n",
       "      <td>EC50</td>\n",
       "    </tr>\n",
       "    <tr>\n",
       "      <th rowspan=\"10\" valign=\"top\">4</th>\n",
       "      <th>3</th>\n",
       "      <td>WT</td>\n",
       "      <td>CTRL</td>\n",
       "      <td>0</td>\n",
       "      <td>EC0</td>\n",
       "    </tr>\n",
       "    <tr>\n",
       "      <th>4</th>\n",
       "      <td>WT</td>\n",
       "      <td>CTRL</td>\n",
       "      <td>0</td>\n",
       "      <td>EC0</td>\n",
       "    </tr>\n",
       "    <tr>\n",
       "      <th>5</th>\n",
       "      <td>WT</td>\n",
       "      <td>PZA</td>\n",
       "      <td>400</td>\n",
       "      <td>EC99</td>\n",
       "    </tr>\n",
       "    <tr>\n",
       "      <th>6</th>\n",
       "      <td>WT</td>\n",
       "      <td>PZA</td>\n",
       "      <td>400</td>\n",
       "      <td>EC99</td>\n",
       "    </tr>\n",
       "    <tr>\n",
       "      <th>7</th>\n",
       "      <td>WT</td>\n",
       "      <td>RIF</td>\n",
       "      <td>2</td>\n",
       "      <td>EC99</td>\n",
       "    </tr>\n",
       "    <tr>\n",
       "      <th>8</th>\n",
       "      <td>WT</td>\n",
       "      <td>RIF</td>\n",
       "      <td>2</td>\n",
       "      <td>EC99</td>\n",
       "    </tr>\n",
       "    <tr>\n",
       "      <th>9</th>\n",
       "      <td>WT</td>\n",
       "      <td>INH</td>\n",
       "      <td>2</td>\n",
       "      <td>EC99</td>\n",
       "    </tr>\n",
       "    <tr>\n",
       "      <th>10</th>\n",
       "      <td>WT</td>\n",
       "      <td>INH</td>\n",
       "      <td>2</td>\n",
       "      <td>EC99</td>\n",
       "    </tr>\n",
       "    <tr>\n",
       "      <th>11</th>\n",
       "      <td>WT</td>\n",
       "      <td>BDQ</td>\n",
       "      <td>2.5</td>\n",
       "      <td>EC99</td>\n",
       "    </tr>\n",
       "    <tr>\n",
       "      <th>12</th>\n",
       "      <td>WT</td>\n",
       "      <td>BDQ</td>\n",
       "      <td>2.5</td>\n",
       "      <td>EC99</td>\n",
       "    </tr>\n",
       "    <tr>\n",
       "      <th rowspan=\"10\" valign=\"top\">5</th>\n",
       "      <th>3</th>\n",
       "      <td>RD1</td>\n",
       "      <td>CTRL</td>\n",
       "      <td>0</td>\n",
       "      <td>EC0</td>\n",
       "    </tr>\n",
       "    <tr>\n",
       "      <th>4</th>\n",
       "      <td>RD1</td>\n",
       "      <td>CTRL</td>\n",
       "      <td>0</td>\n",
       "      <td>EC0</td>\n",
       "    </tr>\n",
       "    <tr>\n",
       "      <th>5</th>\n",
       "      <td>RD1</td>\n",
       "      <td>PZA</td>\n",
       "      <td>60</td>\n",
       "      <td>EC50</td>\n",
       "    </tr>\n",
       "    <tr>\n",
       "      <th>6</th>\n",
       "      <td>RD1</td>\n",
       "      <td>PZA</td>\n",
       "      <td>60</td>\n",
       "      <td>EC50</td>\n",
       "    </tr>\n",
       "    <tr>\n",
       "      <th>7</th>\n",
       "      <td>RD1</td>\n",
       "      <td>RIF</td>\n",
       "      <td>0.1</td>\n",
       "      <td>EC50</td>\n",
       "    </tr>\n",
       "    <tr>\n",
       "      <th>8</th>\n",
       "      <td>RD1</td>\n",
       "      <td>RIF</td>\n",
       "      <td>0.1</td>\n",
       "      <td>EC50</td>\n",
       "    </tr>\n",
       "    <tr>\n",
       "      <th>9</th>\n",
       "      <td>RD1</td>\n",
       "      <td>INH</td>\n",
       "      <td>0.04</td>\n",
       "      <td>EC50</td>\n",
       "    </tr>\n",
       "    <tr>\n",
       "      <th>10</th>\n",
       "      <td>RD1</td>\n",
       "      <td>INH</td>\n",
       "      <td>0.04</td>\n",
       "      <td>EC50</td>\n",
       "    </tr>\n",
       "    <tr>\n",
       "      <th>11</th>\n",
       "      <td>RD1</td>\n",
       "      <td>BDQ</td>\n",
       "      <td>0.02</td>\n",
       "      <td>EC50</td>\n",
       "    </tr>\n",
       "    <tr>\n",
       "      <th>12</th>\n",
       "      <td>RD1</td>\n",
       "      <td>BDQ</td>\n",
       "      <td>0.02</td>\n",
       "      <td>EC50</td>\n",
       "    </tr>\n",
       "    <tr>\n",
       "      <th rowspan=\"10\" valign=\"top\">6</th>\n",
       "      <th>3</th>\n",
       "      <td>RD1</td>\n",
       "      <td>CTRL</td>\n",
       "      <td>0</td>\n",
       "      <td>EC0</td>\n",
       "    </tr>\n",
       "    <tr>\n",
       "      <th>4</th>\n",
       "      <td>RD1</td>\n",
       "      <td>CTRL</td>\n",
       "      <td>0</td>\n",
       "      <td>EC0</td>\n",
       "    </tr>\n",
       "    <tr>\n",
       "      <th>5</th>\n",
       "      <td>RD1</td>\n",
       "      <td>PZA</td>\n",
       "      <td>400</td>\n",
       "      <td>EC99</td>\n",
       "    </tr>\n",
       "    <tr>\n",
       "      <th>6</th>\n",
       "      <td>RD1</td>\n",
       "      <td>PZA</td>\n",
       "      <td>400</td>\n",
       "      <td>EC99</td>\n",
       "    </tr>\n",
       "    <tr>\n",
       "      <th>7</th>\n",
       "      <td>RD1</td>\n",
       "      <td>RIF</td>\n",
       "      <td>2</td>\n",
       "      <td>EC99</td>\n",
       "    </tr>\n",
       "    <tr>\n",
       "      <th>8</th>\n",
       "      <td>RD1</td>\n",
       "      <td>RIF</td>\n",
       "      <td>2</td>\n",
       "      <td>EC99</td>\n",
       "    </tr>\n",
       "    <tr>\n",
       "      <th>9</th>\n",
       "      <td>RD1</td>\n",
       "      <td>INH</td>\n",
       "      <td>2</td>\n",
       "      <td>EC99</td>\n",
       "    </tr>\n",
       "    <tr>\n",
       "      <th>10</th>\n",
       "      <td>RD1</td>\n",
       "      <td>INH</td>\n",
       "      <td>2</td>\n",
       "      <td>EC99</td>\n",
       "    </tr>\n",
       "    <tr>\n",
       "      <th>11</th>\n",
       "      <td>RD1</td>\n",
       "      <td>BDQ</td>\n",
       "      <td>2.5</td>\n",
       "      <td>EC99</td>\n",
       "    </tr>\n",
       "    <tr>\n",
       "      <th>12</th>\n",
       "      <td>RD1</td>\n",
       "      <td>BDQ</td>\n",
       "      <td>2.5</td>\n",
       "      <td>EC99</td>\n",
       "    </tr>\n",
       "  </tbody>\n",
       "</table>\n",
       "</div>"
      ],
      "text/plain": [
       "           Strain Compound Concentration ConcentrationEC\n",
       "Row Column                                              \n",
       "3   1         UNI     CTRL             0             EC0\n",
       "    2         UNI     CTRL             0             EC0\n",
       "    3          WT     CTRL             0             EC0\n",
       "    4          WT     CTRL             0             EC0\n",
       "    5          WT      PZA            60            EC50\n",
       "    6          WT      PZA            60            EC50\n",
       "    7          WT      RIF           0.1            EC50\n",
       "    8          WT      RIF           0.1            EC50\n",
       "    9          WT      INH          0.04            EC50\n",
       "    10         WT      INH          0.04            EC50\n",
       "    11         WT      BDQ          0.02            EC50\n",
       "    12         WT      BDQ          0.02            EC50\n",
       "4   3          WT     CTRL             0             EC0\n",
       "    4          WT     CTRL             0             EC0\n",
       "    5          WT      PZA           400            EC99\n",
       "    6          WT      PZA           400            EC99\n",
       "    7          WT      RIF             2            EC99\n",
       "    8          WT      RIF             2            EC99\n",
       "    9          WT      INH             2            EC99\n",
       "    10         WT      INH             2            EC99\n",
       "    11         WT      BDQ           2.5            EC99\n",
       "    12         WT      BDQ           2.5            EC99\n",
       "5   3         RD1     CTRL             0             EC0\n",
       "    4         RD1     CTRL             0             EC0\n",
       "    5         RD1      PZA            60            EC50\n",
       "    6         RD1      PZA            60            EC50\n",
       "    7         RD1      RIF           0.1            EC50\n",
       "    8         RD1      RIF           0.1            EC50\n",
       "    9         RD1      INH          0.04            EC50\n",
       "    10        RD1      INH          0.04            EC50\n",
       "    11        RD1      BDQ          0.02            EC50\n",
       "    12        RD1      BDQ          0.02            EC50\n",
       "6   3         RD1     CTRL             0             EC0\n",
       "    4         RD1     CTRL             0             EC0\n",
       "    5         RD1      PZA           400            EC99\n",
       "    6         RD1      PZA           400            EC99\n",
       "    7         RD1      RIF             2            EC99\n",
       "    8         RD1      RIF             2            EC99\n",
       "    9         RD1      INH             2            EC99\n",
       "    10        RD1      INH             2            EC99\n",
       "    11        RD1      BDQ           2.5            EC99\n",
       "    12        RD1      BDQ           2.5            EC99"
      ]
     },
     "execution_count": 4,
     "metadata": {},
     "output_type": "execute_result"
    }
   ],
   "source": [
    "metadata_path = glob.glob(os.path.join(base_dir, 'acquisition/Assaylayout/*AssayLayout.xml'))[0]\n",
    "assay_layout = dataio.read_harmony_metadata(metadata_path, assay_layout=True,)# mask_exist=True,  image_dir = image_dir, image_metadata = metadata)\n",
    "assay_layout"
   ]
  },
  {
   "cell_type": "markdown",
   "id": "e9d4dc7f",
   "metadata": {},
   "source": [
    "### Define row and column of choice"
   ]
  },
  {
   "cell_type": "code",
   "execution_count": 5,
   "id": "661b558f",
   "metadata": {},
   "outputs": [],
   "source": [
    "acq_ID = row, column = (3, 4)"
   ]
  },
  {
   "cell_type": "markdown",
   "id": "f4408023-8136-455a-9bcf-ae1c08e5486b",
   "metadata": {},
   "source": [
    "### Define subset if non-square tiling or more than one contiguous region of images in imaging well. "
   ]
  },
  {
   "cell_type": "code",
   "execution_count": 5,
   "id": "0e4254eb-8006-4939-acdf-6cbf4b28c335",
   "metadata": {},
   "outputs": [],
   "source": [
    "# subset_field_IDs = ['1','6','7','8','11','12','13','14','15']"
   ]
  },
  {
   "cell_type": "markdown",
   "id": "bee546c2",
   "metadata": {},
   "source": [
    "### Now to lazily mosaic the images using Dask prior to viewing them.\n",
    "\n",
    "1x (75,2,3) [TCZ] image stack takes approximately 1 minute to stitch together, so only load the one field of view I want."
   ]
  },
  {
   "cell_type": "code",
   "execution_count": 11,
   "id": "72561ec6",
   "metadata": {},
   "outputs": [
    {
     "name": "stdout",
     "output_type": "stream",
     "text": [
      "CPU times: user 1.21 s, sys: 11.2 ms, total: 1.22 s\n",
      "Wall time: 2.42 s\n"
     ]
    },
    {
     "data": {
      "text/html": [
       "<table>\n",
       "    <tr>\n",
       "        <td>\n",
       "            <table style=\"border-collapse: collapse;\">\n",
       "                <thead>\n",
       "                    <tr>\n",
       "                        <td> </td>\n",
       "                        <th> Array </th>\n",
       "                        <th> Chunk </th>\n",
       "                    </tr>\n",
       "                </thead>\n",
       "                <tbody>\n",
       "                    \n",
       "                    <tr>\n",
       "                        <th> Bytes </th>\n",
       "                        <td> 20.44 GiB </td>\n",
       "                        <td> 17.80 MiB </td>\n",
       "                    </tr>\n",
       "                    \n",
       "                    <tr>\n",
       "                        <th> Shape </th>\n",
       "                        <td> (150, 2, 6048, 6048) </td>\n",
       "                        <td> (1, 2, 2160, 2160) </td>\n",
       "                    </tr>\n",
       "                    <tr>\n",
       "                        <th> Dask graph </th>\n",
       "                        <td colspan=\"2\"> 1350 chunks in 3605 graph layers </td>\n",
       "                    </tr>\n",
       "                    <tr>\n",
       "                        <th> Data type </th>\n",
       "                        <td colspan=\"2\"> uint16 numpy.ndarray </td>\n",
       "                    </tr>\n",
       "                </tbody>\n",
       "            </table>\n",
       "        </td>\n",
       "        <td>\n",
       "        <svg width=\"384\" height=\"184\" style=\"stroke:rgb(0,0,0);stroke-width:1\" >\n",
       "\n",
       "  <!-- Horizontal lines -->\n",
       "  <line x1=\"0\" y1=\"0\" x2=\"30\" y2=\"0\" style=\"stroke-width:2\" />\n",
       "  <line x1=\"0\" y1=\"25\" x2=\"30\" y2=\"25\" style=\"stroke-width:2\" />\n",
       "\n",
       "  <!-- Vertical lines -->\n",
       "  <line x1=\"0\" y1=\"0\" x2=\"0\" y2=\"25\" style=\"stroke-width:2\" />\n",
       "  <line x1=\"0\" y1=\"0\" x2=\"0\" y2=\"25\" />\n",
       "  <line x1=\"1\" y1=\"0\" x2=\"1\" y2=\"25\" />\n",
       "  <line x1=\"2\" y1=\"0\" x2=\"2\" y2=\"25\" />\n",
       "  <line x1=\"3\" y1=\"0\" x2=\"3\" y2=\"25\" />\n",
       "  <line x1=\"4\" y1=\"0\" x2=\"4\" y2=\"25\" />\n",
       "  <line x1=\"5\" y1=\"0\" x2=\"5\" y2=\"25\" />\n",
       "  <line x1=\"6\" y1=\"0\" x2=\"6\" y2=\"25\" />\n",
       "  <line x1=\"7\" y1=\"0\" x2=\"7\" y2=\"25\" />\n",
       "  <line x1=\"8\" y1=\"0\" x2=\"8\" y2=\"25\" />\n",
       "  <line x1=\"9\" y1=\"0\" x2=\"9\" y2=\"25\" />\n",
       "  <line x1=\"10\" y1=\"0\" x2=\"10\" y2=\"25\" />\n",
       "  <line x1=\"11\" y1=\"0\" x2=\"11\" y2=\"25\" />\n",
       "  <line x1=\"12\" y1=\"0\" x2=\"12\" y2=\"25\" />\n",
       "  <line x1=\"13\" y1=\"0\" x2=\"13\" y2=\"25\" />\n",
       "  <line x1=\"14\" y1=\"0\" x2=\"14\" y2=\"25\" />\n",
       "  <line x1=\"15\" y1=\"0\" x2=\"15\" y2=\"25\" />\n",
       "  <line x1=\"15\" y1=\"0\" x2=\"15\" y2=\"25\" />\n",
       "  <line x1=\"16\" y1=\"0\" x2=\"16\" y2=\"25\" />\n",
       "  <line x1=\"17\" y1=\"0\" x2=\"17\" y2=\"25\" />\n",
       "  <line x1=\"18\" y1=\"0\" x2=\"18\" y2=\"25\" />\n",
       "  <line x1=\"19\" y1=\"0\" x2=\"19\" y2=\"25\" />\n",
       "  <line x1=\"20\" y1=\"0\" x2=\"20\" y2=\"25\" />\n",
       "  <line x1=\"21\" y1=\"0\" x2=\"21\" y2=\"25\" />\n",
       "  <line x1=\"22\" y1=\"0\" x2=\"22\" y2=\"25\" />\n",
       "  <line x1=\"23\" y1=\"0\" x2=\"23\" y2=\"25\" />\n",
       "  <line x1=\"24\" y1=\"0\" x2=\"24\" y2=\"25\" />\n",
       "  <line x1=\"25\" y1=\"0\" x2=\"25\" y2=\"25\" />\n",
       "  <line x1=\"26\" y1=\"0\" x2=\"26\" y2=\"25\" />\n",
       "  <line x1=\"27\" y1=\"0\" x2=\"27\" y2=\"25\" />\n",
       "  <line x1=\"28\" y1=\"0\" x2=\"28\" y2=\"25\" />\n",
       "  <line x1=\"29\" y1=\"0\" x2=\"29\" y2=\"25\" />\n",
       "  <line x1=\"30\" y1=\"0\" x2=\"30\" y2=\"25\" style=\"stroke-width:2\" />\n",
       "\n",
       "  <!-- Colored Rectangle -->\n",
       "  <polygon points=\"0.0,0.0 30.2648561532247,0.0 30.2648561532247,25.412616514582485 0.0,25.412616514582485\" style=\"fill:#8B4903A0;stroke-width:0\"/>\n",
       "\n",
       "  <!-- Text -->\n",
       "  <text x=\"15.132428\" y=\"45.412617\" font-size=\"1.0rem\" font-weight=\"100\" text-anchor=\"middle\" >150</text>\n",
       "  <text x=\"50.264856\" y=\"12.706308\" font-size=\"1.0rem\" font-weight=\"100\" text-anchor=\"middle\" transform=\"rotate(0,50.264856,12.706308)\">1</text>\n",
       "\n",
       "\n",
       "  <!-- Horizontal lines -->\n",
       "  <line x1=\"100\" y1=\"0\" x2=\"114\" y2=\"14\" style=\"stroke-width:2\" />\n",
       "  <line x1=\"100\" y1=\"42\" x2=\"114\" y2=\"57\" />\n",
       "  <line x1=\"100\" y1=\"85\" x2=\"114\" y2=\"100\" />\n",
       "  <line x1=\"100\" y1=\"120\" x2=\"114\" y2=\"134\" style=\"stroke-width:2\" />\n",
       "\n",
       "  <!-- Vertical lines -->\n",
       "  <line x1=\"100\" y1=\"0\" x2=\"100\" y2=\"120\" style=\"stroke-width:2\" />\n",
       "  <line x1=\"114\" y1=\"14\" x2=\"114\" y2=\"134\" style=\"stroke-width:2\" />\n",
       "\n",
       "  <!-- Colored Rectangle -->\n",
       "  <polygon points=\"100.0,0.0 114.9485979497544,14.948597949754403 114.9485979497544,134.9485979497544 100.0,120.0\" style=\"fill:#ECB172A0;stroke-width:0\"/>\n",
       "\n",
       "  <!-- Horizontal lines -->\n",
       "  <line x1=\"100\" y1=\"0\" x2=\"220\" y2=\"0\" style=\"stroke-width:2\" />\n",
       "  <line x1=\"114\" y1=\"14\" x2=\"234\" y2=\"14\" style=\"stroke-width:2\" />\n",
       "\n",
       "  <!-- Vertical lines -->\n",
       "  <line x1=\"100\" y1=\"0\" x2=\"114\" y2=\"14\" style=\"stroke-width:2\" />\n",
       "  <line x1=\"142\" y1=\"0\" x2=\"157\" y2=\"14\" />\n",
       "  <line x1=\"185\" y1=\"0\" x2=\"200\" y2=\"14\" />\n",
       "  <line x1=\"220\" y1=\"0\" x2=\"234\" y2=\"14\" style=\"stroke-width:2\" />\n",
       "\n",
       "  <!-- Colored Rectangle -->\n",
       "  <polygon points=\"100.0,0.0 220.0,0.0 234.9485979497544,14.948597949754403 114.9485979497544,14.948597949754403\" style=\"fill:#ECB172A0;stroke-width:0\"/>\n",
       "\n",
       "  <!-- Horizontal lines -->\n",
       "  <line x1=\"114\" y1=\"14\" x2=\"234\" y2=\"14\" style=\"stroke-width:2\" />\n",
       "  <line x1=\"114\" y1=\"57\" x2=\"234\" y2=\"57\" />\n",
       "  <line x1=\"114\" y1=\"100\" x2=\"234\" y2=\"100\" />\n",
       "  <line x1=\"114\" y1=\"134\" x2=\"234\" y2=\"134\" style=\"stroke-width:2\" />\n",
       "\n",
       "  <!-- Vertical lines -->\n",
       "  <line x1=\"114\" y1=\"14\" x2=\"114\" y2=\"134\" style=\"stroke-width:2\" />\n",
       "  <line x1=\"157\" y1=\"14\" x2=\"157\" y2=\"134\" />\n",
       "  <line x1=\"200\" y1=\"14\" x2=\"200\" y2=\"134\" />\n",
       "  <line x1=\"234\" y1=\"14\" x2=\"234\" y2=\"134\" style=\"stroke-width:2\" />\n",
       "\n",
       "  <!-- Colored Rectangle -->\n",
       "  <polygon points=\"114.9485979497544,14.948597949754403 234.9485979497544,14.948597949754403 234.9485979497544,134.9485979497544 114.9485979497544,134.9485979497544\" style=\"fill:#ECB172A0;stroke-width:0\"/>\n",
       "\n",
       "  <!-- Text -->\n",
       "  <text x=\"174.948598\" y=\"154.948598\" font-size=\"1.0rem\" font-weight=\"100\" text-anchor=\"middle\" >6048</text>\n",
       "  <text x=\"254.948598\" y=\"74.948598\" font-size=\"1.0rem\" font-weight=\"100\" text-anchor=\"middle\" transform=\"rotate(-90,254.948598,74.948598)\">6048</text>\n",
       "  <text x=\"97.474299\" y=\"147.474299\" font-size=\"1.0rem\" font-weight=\"100\" text-anchor=\"middle\" transform=\"rotate(45,97.474299,147.474299)\">2</text>\n",
       "</svg>\n",
       "        </td>\n",
       "    </tr>\n",
       "</table>"
      ],
      "text/plain": [
       "dask.array<max-aggregate, shape=(150, 2, 6048, 6048), dtype=uint16, chunksize=(1, 2, 2160, 2160), chunktype=numpy.ndarray>"
      ]
     },
     "execution_count": 11,
     "metadata": {},
     "output_type": "execute_result"
    }
   ],
   "source": [
    "%%time\n",
    "# image_dir = os.path.join(base_dir, 'macrohet_images/Images_8bit')\n",
    "image_dir = os.path.join(base_dir, 'acquisition/Images')\n",
    "images = tile.compile_mosaic(image_dir, \n",
    "                             metadata, \n",
    "                             row, column, \n",
    "                             # subset_field_IDs=['16', '17',  '20', '21'], \n",
    "                             # n_tile_rows = 2, n_tile_cols = 2,\n",
    "                             set_plane='max_proj',\n",
    "                             # set_channel=1,\n",
    "                             # set_time = 1,\n",
    "#                             input_transforms = [input_transforms]\n",
    "                            )#.compute().compute()\n",
    "images"
   ]
  },
  {
   "cell_type": "code",
   "execution_count": 101,
   "id": "c4fb8dee-1183-4557-af6d-ed3bfc61aa0d",
   "metadata": {},
   "outputs": [
    {
     "name": "stdout",
     "output_type": "stream",
     "text": [
      "CPU times: user 6h 36min 7s, sys: 49min 7s, total: 7h 25min 14s\n",
      "Wall time: 53min 52s\n"
     ]
    }
   ],
   "source": [
    "%%time\n",
    "images = images.compute().compute()"
   ]
  },
  {
   "cell_type": "markdown",
   "id": "d52acc72-6d19-468f-a1b0-cf6edd23712e",
   "metadata": {},
   "source": [
    "# Testing ZARR"
   ]
  },
  {
   "cell_type": "code",
   "execution_count": 6,
   "id": "2c607a73-ff74-4a3f-8052-d3bf8227700e",
   "metadata": {},
   "outputs": [],
   "source": [
    "import zarr"
   ]
  },
  {
   "cell_type": "code",
   "execution_count": 7,
   "id": "177b6605",
   "metadata": {},
   "outputs": [],
   "source": [
    "zarr_fn = f'/mnt/NEMO/home/users/dayn/macrohet_nemo/{expt_ID}/acquisition/zarr/{row, column}.zarr'"
   ]
  },
  {
   "cell_type": "code",
   "execution_count": 8,
   "id": "ed10673a-04c3-4a88-b5ec-3d2a39861544",
   "metadata": {},
   "outputs": [],
   "source": [
    "# Open the Zarr array (assuming it's a single dataset within the Zarr store)\n",
    "zarr_images = zarr.open(zarr_fn, mode='r')"
   ]
  },
  {
   "cell_type": "code",
   "execution_count": 9,
   "id": "3e9c27a5-a68e-458b-b114-80c4c94c9975",
   "metadata": {},
   "outputs": [
    {
     "data": {
      "text/plain": [
       "<zarr.core.Array (150, 2, 3, 6048, 6048) uint16 read-only>"
      ]
     },
     "execution_count": 9,
     "metadata": {},
     "output_type": "execute_result"
    }
   ],
   "source": [
    "zarr_images"
   ]
  },
  {
   "cell_type": "code",
   "execution_count": 11,
   "id": "d2870a48-4a03-466c-ac94-ff66db110606",
   "metadata": {},
   "outputs": [
    {
     "name": "stdout",
     "output_type": "stream",
     "text": [
      "CPU times: user 32.5 s, sys: 58.3 s, total: 1min 30s\n",
      "Wall time: 6min 44s\n"
     ]
    }
   ],
   "source": [
    "%%time\n",
    "test = zarr_images[0, 0, 0]"
   ]
  },
  {
   "cell_type": "code",
   "execution_count": 12,
   "id": "7b13f5fd-aa04-4638-adbc-acae1fc1e9b4",
   "metadata": {},
   "outputs": [
    {
     "data": {
      "text/plain": [
       "array([[  0,   0,   0, ...,   0,   0,   0],\n",
       "       [ 93,  97, 101, ...,  98, 104, 106],\n",
       "       [101,  99,  98, ..., 105, 105, 108],\n",
       "       ...,\n",
       "       [ 99,  97, 103, ..., 107, 101, 104],\n",
       "       [ 98, 102, 101, ..., 107, 105, 113],\n",
       "       [104, 103,  96, ..., 102, 106, 113]], dtype=uint16)"
      ]
     },
     "execution_count": 12,
     "metadata": {},
     "output_type": "execute_result"
    }
   ],
   "source": [
    "test"
   ]
  },
  {
   "cell_type": "code",
   "execution_count": 102,
   "id": "025c5596-b983-4df8-adfd-e779356e7ef6",
   "metadata": {},
   "outputs": [
    {
     "data": {
      "text/plain": [
       "[<Image layer 'Image' at 0x7efe5e23c9a0>,\n",
       " <Image layer 'Image [1]' at 0x7ef2b8dfbe20>]"
      ]
     },
     "execution_count": 102,
     "metadata": {},
     "output_type": "execute_result"
    }
   ],
   "source": [
    "viewer = napari.Viewer(title = f'{expt_ID}')\n",
    "\n",
    "viewer.add_image(images, channel_axis = 1)"
   ]
  },
  {
   "cell_type": "code",
   "execution_count": 13,
   "id": "ca558672-ef0b-418a-8caa-013c6f643c5f",
   "metadata": {},
   "outputs": [
    {
     "name": "stdout",
     "output_type": "stream",
     "text": [
      "\n"
     ]
    }
   ],
   "source": [
    "print()"
   ]
  },
  {
   "cell_type": "markdown",
   "id": "b239ce5f-a425-4ae6-93c4-3fa759ccc007",
   "metadata": {},
   "source": [
    "# Trying two channel segmentation"
   ]
  },
  {
   "cell_type": "code",
   "execution_count": 104,
   "id": "5f422cc4-0b28-4cfa-b477-39f222b19960",
   "metadata": {},
   "outputs": [
    {
     "name": "stdout",
     "output_type": "stream",
     "text": [
      "nvcc: NVIDIA (R) Cuda compiler driver\n",
      "Copyright (c) 2005-2019 NVIDIA Corporation\n",
      "Built on Sun_Jul_28_19:07:16_PDT_2019\n",
      "Cuda compilation tools, release 10.1, V10.1.243\n",
      "Thu Jan 11 13:30:49 2024       \n",
      "+---------------------------------------------------------------------------------------+\n",
      "| NVIDIA-SMI 545.23.08              Driver Version: 545.23.08    CUDA Version: 12.3     |\n",
      "|-----------------------------------------+----------------------+----------------------+\n",
      "| GPU  Name                 Persistence-M | Bus-Id        Disp.A | Volatile Uncorr. ECC |\n",
      "| Fan  Temp   Perf          Pwr:Usage/Cap |         Memory-Usage | GPU-Util  Compute M. |\n",
      "|                                         |                      |               MIG M. |\n",
      "|=========================================+======================+======================|\n",
      "|   0  NVIDIA RTX A6000               On  | 00000000:65:00.0  On |                  Off |\n",
      "| 30%   38C    P8              33W / 300W |   9319MiB / 49140MiB |      4%      Default |\n",
      "|                                         |                      |                  N/A |\n",
      "+-----------------------------------------+----------------------+----------------------+\n",
      "                                                                                         \n",
      "+---------------------------------------------------------------------------------------+\n",
      "| Processes:                                                                            |\n",
      "|  GPU   GI   CI        PID   Type   Process name                            GPU Memory |\n",
      "|        ID   ID                                                             Usage      |\n",
      "|=======================================================================================|\n",
      "|    0   N/A  N/A      2167      G   /usr/lib/xorg/Xorg                          530MiB |\n",
      "|    0   N/A  N/A      4155      G   /usr/bin/gnome-shell                        174MiB |\n",
      "|    0   N/A  N/A      5561      G   ...miniconda3/envs/brassica/bin/python       25MiB |\n",
      "|    0   N/A  N/A     12577      G   ...AAAAAAAACAAAAAAAAAA= --shared-files      126MiB |\n",
      "|    0   N/A  N/A     12803    C+G   ...miniconda3/envs/brassica/bin/python     8347MiB |\n",
      "|    0   N/A  N/A     58573      G   ...dayn/miniconda3/envs/sam/bin/python       51MiB |\n",
      "|    0   N/A  N/A    320738    C+G   ...seed-version=20240102-180110.117000       23MiB |\n",
      "+---------------------------------------------------------------------------------------+\n"
     ]
    },
    {
     "name": "stderr",
     "output_type": "stream",
     "text": [
      "INFO:cellpose.core:** TORCH CUDA version installed and working. **\n",
      "WARNING:cellpose.models:pretrained model has incorrect path\n",
      "INFO:cellpose.models:>> cyto << model set to be used\n",
      "INFO:cellpose.core:** TORCH CUDA version installed and working. **\n",
      "INFO:cellpose.core:>>>> using GPU\n"
     ]
    },
    {
     "name": "stdout",
     "output_type": "stream",
     "text": [
      ">>> GPU activated? YES\n"
     ]
    },
    {
     "name": "stderr",
     "output_type": "stream",
     "text": [
      "INFO:cellpose.models:>>>> model diam_mean =  30.000 (ROIs rescaled to this size during training)\n"
     ]
    }
   ],
   "source": [
    "!nvcc --version\n",
    "!nvidia-smi\n",
    "\n",
    "from cellpose import core, utils, io, models, metrics\n",
    "\n",
    "use_GPU = core.use_gpu()\n",
    "yn = ['NO', 'YES']\n",
    "print(f'>>> GPU activated? {yn[use_GPU]}')\n",
    "\n",
    "# model = models.Cellpose(gpu=True, model_type='cyto')\n",
    "model_path = '/mnt/DATA/macrohet/PS0000/upstream_development/segmentation/cellpose_training/models/macrohet_seg'\n",
    "model = models.CellposeModel(gpu=True, \n",
    "                             pretrained_model=model_path)\n",
    "def segment(img, diameter = 30, channels = [0,0]):\n",
    "    masks, flows, styles, diams = model.eval(img, diameter=diameter, channels=channels,\n",
    "                                             flow_threshold=None, cellprob_threshold=0)\n",
    "    return masks"
   ]
  },
  {
   "cell_type": "code",
   "execution_count": 36,
   "id": "99f150e6-3a67-49ad-89a1-7fa76b9b3e7c",
   "metadata": {},
   "outputs": [],
   "source": [
    "img = images[0]"
   ]
  },
  {
   "cell_type": "code",
   "execution_count": 106,
   "id": "e132b247-8959-421d-8be9-5bbbb5ea4e3d",
   "metadata": {},
   "outputs": [
    {
     "data": {
      "text/plain": [
       "(2, 6048, 6048)"
      ]
     },
     "execution_count": 106,
     "metadata": {},
     "output_type": "execute_result"
    }
   ],
   "source": [
    "img.shape"
   ]
  },
  {
   "cell_type": "code",
   "execution_count": 130,
   "id": "f3303ad2-79d5-4107-98ad-17f735a5d006",
   "metadata": {},
   "outputs": [],
   "source": [
    "rfp_t0 = img[0]\n",
    "gfp_t0= img[1]"
   ]
  },
  {
   "cell_type": "markdown",
   "id": "026c1496-555c-4b5b-ac46-8ae0bae9ccfc",
   "metadata": {},
   "source": [
    "## 2ch segmentation - default model"
   ]
  },
  {
   "cell_type": "code",
   "execution_count": 110,
   "id": "fb5e80a8-4edd-4d32-b946-33962637efb2",
   "metadata": {},
   "outputs": [
    {
     "name": "stderr",
     "output_type": "stream",
     "text": [
      "INFO:cellpose.models:>> cyto << model set to be used\n",
      "INFO:cellpose.core:** TORCH CUDA version installed and working. **\n",
      "INFO:cellpose.core:>>>> using GPU\n",
      "INFO:cellpose.models:>>>> model diam_mean =  30.000 (ROIs rescaled to this size during training)\n"
     ]
    }
   ],
   "source": [
    "model = models.CellposeModel(gpu=True, \n",
    "                             model_type='cyto'\n",
    "                             # pretrained_model=model_path\n",
    "                            )"
   ]
  },
  {
   "cell_type": "markdown",
   "id": "96e891a8-294c-44d0-b996-f79d6c4cef45",
   "metadata": {},
   "source": [
    "### Create RGB green/red image of 2ch image"
   ]
  },
  {
   "cell_type": "code",
   "execution_count": 111,
   "id": "6be1c9d2-ff46-4314-b7ca-4d537b833292",
   "metadata": {},
   "outputs": [],
   "source": [
    "import numpy as np\n",
    "import matplotlib.pyplot as plt"
   ]
  },
  {
   "cell_type": "code",
   "execution_count": 136,
   "id": "731b3bbf-87de-41ff-90e6-75a886c7f747",
   "metadata": {},
   "outputs": [
    {
     "name": "stdout",
     "output_type": "stream",
     "text": [
      "CPU times: user 2min 29s, sys: 21 s, total: 2min 50s\n",
      "Wall time: 55.8 s\n"
     ]
    }
   ],
   "source": [
    "%%time\n",
    "\n",
    "# rgb_image = np.zeros((6048, 6048, 3), dtype=img.dtype)\n",
    "\n",
    "# Assign the first channel of img to the green channel in the RGB image\n",
    "rgb_image[:, :, 0] = img[0]\n",
    "\n",
    "# Assign the second channel of img to the red channel in the RGB image\n",
    "rgb_image[:, :, 1] = img[1]"
   ]
  },
  {
   "cell_type": "code",
   "execution_count": 138,
   "id": "81f5adea-633a-4b1d-83db-732e41a9e5d2",
   "metadata": {},
   "outputs": [
    {
     "data": {
      "text/plain": [
       "<Image layer 'rgb_image' at 0x7efff3a09fd0>"
      ]
     },
     "execution_count": 138,
     "metadata": {},
     "output_type": "execute_result"
    }
   ],
   "source": [
    "viewer.add_image(rgb_image)"
   ]
  },
  {
   "cell_type": "code",
   "execution_count": 139,
   "id": "b9bc741c-e75b-4388-a0a5-8f3fde9d4734",
   "metadata": {},
   "outputs": [
    {
     "name": "stdout",
     "output_type": "stream",
     "text": [
      "CPU times: user 19.4 s, sys: 5.23 s, total: 24.6 s\n",
      "Wall time: 24.6 s\n"
     ]
    }
   ],
   "source": [
    "%%time\n",
    "masks, _,_ = model.eval(rgb_image, diameter=None, channels=[2,1],\n",
    "                                         flow_threshold=0.4, do_3D=False)"
   ]
  },
  {
   "cell_type": "markdown",
   "id": "e79d194f-12ca-42b9-8d5f-20322e768b5c",
   "metadata": {},
   "source": [
    "### Default model of cellpose no way in hell going to work on this"
   ]
  },
  {
   "cell_type": "code",
   "execution_count": 140,
   "id": "ab6ebb80-a696-4054-aebd-c723252b7ff6",
   "metadata": {},
   "outputs": [
    {
     "data": {
      "text/plain": [
       "<Labels layer 'masks' at 0x7ef2b7f48fa0>"
      ]
     },
     "execution_count": 140,
     "metadata": {},
     "output_type": "execute_result"
    }
   ],
   "source": [
    "viewer.add_labels(masks)"
   ]
  },
  {
   "cell_type": "code",
   "execution_count": 141,
   "id": "8a45fc36-958e-4789-987c-9cdb3676779a",
   "metadata": {},
   "outputs": [
    {
     "data": {
      "text/plain": [
       "<matplotlib.image.AxesImage at 0x7ef2b921e520>"
      ]
     },
     "execution_count": 141,
     "metadata": {},
     "output_type": "execute_result"
    },
    {
     "data": {
      "image/png": "[encoded data removed]",
      "text/plain": [
       "<Figure size 1000x500 with 2 Axes>"
      ]
     },
     "metadata": {},
     "output_type": "display_data"
    }
   ],
   "source": [
    "# Plotting the two images side by side\n",
    "fig, axs = plt.subplots(1, 2, figsize=(10, 5))  # 1 row, 2 columns\n",
    "\n",
    "axs[0].imshow(masks)\n",
    "axs[1].imshow(gfp_t0)"
   ]
  },
  {
   "cell_type": "markdown",
   "id": "00eaa90f-fb5e-4182-bd11-c61def6f178d",
   "metadata": {},
   "source": [
    "### Trying my previous macrohet cellpose model "
   ]
  },
  {
   "cell_type": "code",
   "execution_count": 150,
   "id": "88c651e7-6b33-434e-84b3-2adf61df7b23",
   "metadata": {},
   "outputs": [
    {
     "data": {
      "text/plain": [
       "'/home/dayn/analysis/models/cellpose/PS0000/macrohet_seg'"
      ]
     },
     "execution_count": 150,
     "metadata": {},
     "output_type": "execute_result"
    }
   ],
   "source": [
    "model_path = f'/mnt/DATA/macrohet/PS0000/upstream_development/segmentation/cellpose_training/models'\n",
    "model_path"
   ]
  },
  {
   "cell_type": "code",
   "execution_count": 151,
   "id": "55244e32-8d39-4e61-aa90-f4c50d9da6c3",
   "metadata": {},
   "outputs": [
    {
     "name": "stderr",
     "output_type": "stream",
     "text": [
      "INFO:cellpose.models:>>>> loading model /home/dayn/analysis/models/cellpose/PS0000/macrohet_seg\n",
      "INFO:cellpose.core:** TORCH CUDA version installed and working. **\n",
      "INFO:cellpose.core:>>>> using GPU\n",
      "INFO:cellpose.models:>>>> model diam_mean =  30.000 (ROIs rescaled to this size during training)\n",
      "INFO:cellpose.models:>>>> model diam_labels =  188.746 (mean diameter of training ROIs)\n"
     ]
    }
   ],
   "source": [
    "model = models.CellposeModel(gpu=True, \n",
    "                            pretrained_model=model_path\n",
    "                            )"
   ]
  },
  {
   "cell_type": "code",
   "execution_count": 152,
   "id": "32e674ef-07d4-4177-9588-d3ee925c1fc2",
   "metadata": {},
   "outputs": [
    {
     "data": {
      "text/plain": [
       "<Image layer 'gfp_t0' at 0x7efe5e527be0>"
      ]
     },
     "execution_count": 152,
     "metadata": {},
     "output_type": "execute_result"
    }
   ],
   "source": [
    "viewer.add_image(gfp_t0)"
   ]
  },
  {
   "cell_type": "code",
   "execution_count": 166,
   "id": "eec21ca5-2bb7-4e6d-85d6-1fea0b66bcc9",
   "metadata": {},
   "outputs": [
    {
     "name": "stdout",
     "output_type": "stream",
     "text": [
      "CPU times: user 2min 14s, sys: 51.6 s, total: 3min 5s\n",
      "Wall time: 2min 1s\n"
     ]
    }
   ],
   "source": [
    "%%time\n",
    "masks, _,_ = model.eval(gfp_t0, diameter=None,\n",
    "                        channels = [0,0],\n",
    "                        # cellprob_threshold = -3 # didnt do anything noticeable\n",
    "                        flow_threshold=2.5\n",
    "                       )"
   ]
  },
  {
   "cell_type": "code",
   "execution_count": 167,
   "id": "23994130-7caf-4852-b78f-1145c598e132",
   "metadata": {},
   "outputs": [
    {
     "data": {
      "text/plain": [
       "<Labels layer 'masks [2]' at 0x7ef2b8a17d90>"
      ]
     },
     "execution_count": 167,
     "metadata": {},
     "output_type": "execute_result"
    }
   ],
   "source": [
    "viewer.add_labels(masks)"
   ]
  },
  {
   "cell_type": "markdown",
   "id": "e4853c99-12a4-41a3-847a-96ef75e85452",
   "metadata": {},
   "source": [
    "# Testing whole stack"
   ]
  },
  {
   "cell_type": "code",
   "execution_count": null,
   "id": "780a73de-0627-4229-a41f-a50b8d9f6b68",
   "metadata": {
    "scrolled": true
   },
   "outputs": [
    {
     "data": {
      "application/vnd.jupyter.widget-view+json": {
       "model_id": "c17122958a744fe8bd3caea4b4b3510c",
       "version_major": 2,
       "version_minor": 0
      },
      "text/plain": [
       "  0%|          | 0/150 [00:00<?, ?it/s]"
      ]
     },
     "metadata": {},
     "output_type": "display_data"
    },
    {
     "name": "stderr",
     "output_type": "stream",
     "text": [
      "/tmp/ipykernel_12803/4010209518.py:10: UserWarning: /mnt/DATA/macrohet/ND0002/upstream_development/segmentation/cellpose/(3, 4)/t0000_mphi_model_mask.tif is a low contrast image\n",
      "  io.imsave(fn, masks)\n",
      "/tmp/ipykernel_12803/4010209518.py:10: UserWarning: /mnt/DATA/macrohet/ND0002/upstream_development/segmentation/cellpose/(3, 4)/t0001_mphi_model_mask.tif is a low contrast image\n",
      "  io.imsave(fn, masks)\n",
      "/tmp/ipykernel_12803/4010209518.py:10: UserWarning: /mnt/DATA/macrohet/ND0002/upstream_development/segmentation/cellpose/(3, 4)/t0002_mphi_model_mask.tif is a low contrast image\n",
      "  io.imsave(fn, masks)\n",
      "/tmp/ipykernel_12803/4010209518.py:10: UserWarning: /mnt/DATA/macrohet/ND0002/upstream_development/segmentation/cellpose/(3, 4)/t0003_mphi_model_mask.tif is a low contrast image\n",
      "  io.imsave(fn, masks)\n",
      "/tmp/ipykernel_12803/4010209518.py:10: UserWarning: /mnt/DATA/macrohet/ND0002/upstream_development/segmentation/cellpose/(3, 4)/t0004_mphi_model_mask.tif is a low contrast image\n",
      "  io.imsave(fn, masks)\n",
      "/tmp/ipykernel_12803/4010209518.py:10: UserWarning: /mnt/DATA/macrohet/ND0002/upstream_development/segmentation/cellpose/(3, 4)/t0005_mphi_model_mask.tif is a low contrast image\n",
      "  io.imsave(fn, masks)\n",
      "/tmp/ipykernel_12803/4010209518.py:10: UserWarning: /mnt/DATA/macrohet/ND0002/upstream_development/segmentation/cellpose/(3, 4)/t0006_mphi_model_mask.tif is a low contrast image\n",
      "  io.imsave(fn, masks)\n",
      "/tmp/ipykernel_12803/4010209518.py:10: UserWarning: /mnt/DATA/macrohet/ND0002/upstream_development/segmentation/cellpose/(3, 4)/t0007_mphi_model_mask.tif is a low contrast image\n",
      "  io.imsave(fn, masks)\n",
      "/tmp/ipykernel_12803/4010209518.py:10: UserWarning: /mnt/DATA/macrohet/ND0002/upstream_development/segmentation/cellpose/(3, 4)/t0008_mphi_model_mask.tif is a low contrast image\n",
      "  io.imsave(fn, masks)\n",
      "/tmp/ipykernel_12803/4010209518.py:10: UserWarning: /mnt/DATA/macrohet/ND0002/upstream_development/segmentation/cellpose/(3, 4)/t0009_mphi_model_mask.tif is a low contrast image\n",
      "  io.imsave(fn, masks)\n",
      "/tmp/ipykernel_12803/4010209518.py:10: UserWarning: /mnt/DATA/macrohet/ND0002/upstream_development/segmentation/cellpose/(3, 4)/t0010_mphi_model_mask.tif is a low contrast image\n",
      "  io.imsave(fn, masks)\n",
      "/tmp/ipykernel_12803/4010209518.py:10: UserWarning: /mnt/DATA/macrohet/ND0002/upstream_development/segmentation/cellpose/(3, 4)/t0011_mphi_model_mask.tif is a low contrast image\n",
      "  io.imsave(fn, masks)\n",
      "/tmp/ipykernel_12803/4010209518.py:10: UserWarning: /mnt/DATA/macrohet/ND0002/upstream_development/segmentation/cellpose/(3, 4)/t0012_mphi_model_mask.tif is a low contrast image\n",
      "  io.imsave(fn, masks)\n",
      "/tmp/ipykernel_12803/4010209518.py:10: UserWarning: /mnt/DATA/macrohet/ND0002/upstream_development/segmentation/cellpose/(3, 4)/t0013_mphi_model_mask.tif is a low contrast image\n",
      "  io.imsave(fn, masks)\n",
      "/tmp/ipykernel_12803/4010209518.py:10: UserWarning: /mnt/DATA/macrohet/ND0002/upstream_development/segmentation/cellpose/(3, 4)/t0014_mphi_model_mask.tif is a low contrast image\n",
      "  io.imsave(fn, masks)\n",
      "/tmp/ipykernel_12803/4010209518.py:10: UserWarning: /mnt/DATA/macrohet/ND0002/upstream_development/segmentation/cellpose/(3, 4)/t0015_mphi_model_mask.tif is a low contrast image\n",
      "  io.imsave(fn, masks)\n",
      "/tmp/ipykernel_12803/4010209518.py:10: UserWarning: /mnt/DATA/macrohet/ND0002/upstream_development/segmentation/cellpose/(3, 4)/t0016_mphi_model_mask.tif is a low contrast image\n",
      "  io.imsave(fn, masks)\n",
      "/tmp/ipykernel_12803/4010209518.py:10: UserWarning: /mnt/DATA/macrohet/ND0002/upstream_development/segmentation/cellpose/(3, 4)/t0017_mphi_model_mask.tif is a low contrast image\n",
      "  io.imsave(fn, masks)\n",
      "/tmp/ipykernel_12803/4010209518.py:10: UserWarning: /mnt/DATA/macrohet/ND0002/upstream_development/segmentation/cellpose/(3, 4)/t0018_mphi_model_mask.tif is a low contrast image\n",
      "  io.imsave(fn, masks)\n",
      "/tmp/ipykernel_12803/4010209518.py:10: UserWarning: /mnt/DATA/macrohet/ND0002/upstream_development/segmentation/cellpose/(3, 4)/t0019_mphi_model_mask.tif is a low contrast image\n",
      "  io.imsave(fn, masks)\n",
      "/tmp/ipykernel_12803/4010209518.py:10: UserWarning: /mnt/DATA/macrohet/ND0002/upstream_development/segmentation/cellpose/(3, 4)/t0020_mphi_model_mask.tif is a low contrast image\n",
      "  io.imsave(fn, masks)\n",
      "/tmp/ipykernel_12803/4010209518.py:10: UserWarning: /mnt/DATA/macrohet/ND0002/upstream_development/segmentation/cellpose/(3, 4)/t0021_mphi_model_mask.tif is a low contrast image\n",
      "  io.imsave(fn, masks)\n",
      "/tmp/ipykernel_12803/4010209518.py:10: UserWarning: /mnt/DATA/macrohet/ND0002/upstream_development/segmentation/cellpose/(3, 4)/t0022_mphi_model_mask.tif is a low contrast image\n",
      "  io.imsave(fn, masks)\n",
      "/tmp/ipykernel_12803/4010209518.py:10: UserWarning: /mnt/DATA/macrohet/ND0002/upstream_development/segmentation/cellpose/(3, 4)/t0023_mphi_model_mask.tif is a low contrast image\n",
      "  io.imsave(fn, masks)\n",
      "/tmp/ipykernel_12803/4010209518.py:10: UserWarning: /mnt/DATA/macrohet/ND0002/upstream_development/segmentation/cellpose/(3, 4)/t0024_mphi_model_mask.tif is a low contrast image\n",
      "  io.imsave(fn, masks)\n",
      "/tmp/ipykernel_12803/4010209518.py:10: UserWarning: /mnt/DATA/macrohet/ND0002/upstream_development/segmentation/cellpose/(3, 4)/t0025_mphi_model_mask.tif is a low contrast image\n",
      "  io.imsave(fn, masks)\n",
      "/tmp/ipykernel_12803/4010209518.py:10: UserWarning: /mnt/DATA/macrohet/ND0002/upstream_development/segmentation/cellpose/(3, 4)/t0026_mphi_model_mask.tif is a low contrast image\n",
      "  io.imsave(fn, masks)\n",
      "/tmp/ipykernel_12803/4010209518.py:10: UserWarning: /mnt/DATA/macrohet/ND0002/upstream_development/segmentation/cellpose/(3, 4)/t0027_mphi_model_mask.tif is a low contrast image\n",
      "  io.imsave(fn, masks)\n",
      "/tmp/ipykernel_12803/4010209518.py:10: UserWarning: /mnt/DATA/macrohet/ND0002/upstream_development/segmentation/cellpose/(3, 4)/t0028_mphi_model_mask.tif is a low contrast image\n",
      "  io.imsave(fn, masks)\n",
      "/tmp/ipykernel_12803/4010209518.py:10: UserWarning: /mnt/DATA/macrohet/ND0002/upstream_development/segmentation/cellpose/(3, 4)/t0029_mphi_model_mask.tif is a low contrast image\n",
      "  io.imsave(fn, masks)\n",
      "/tmp/ipykernel_12803/4010209518.py:10: UserWarning: /mnt/DATA/macrohet/ND0002/upstream_development/segmentation/cellpose/(3, 4)/t0030_mphi_model_mask.tif is a low contrast image\n",
      "  io.imsave(fn, masks)\n",
      "/tmp/ipykernel_12803/4010209518.py:10: UserWarning: /mnt/DATA/macrohet/ND0002/upstream_development/segmentation/cellpose/(3, 4)/t0031_mphi_model_mask.tif is a low contrast image\n",
      "  io.imsave(fn, masks)\n",
      "/tmp/ipykernel_12803/4010209518.py:10: UserWarning: /mnt/DATA/macrohet/ND0002/upstream_development/segmentation/cellpose/(3, 4)/t0032_mphi_model_mask.tif is a low contrast image\n",
      "  io.imsave(fn, masks)\n",
      "/tmp/ipykernel_12803/4010209518.py:10: UserWarning: /mnt/DATA/macrohet/ND0002/upstream_development/segmentation/cellpose/(3, 4)/t0033_mphi_model_mask.tif is a low contrast image\n",
      "  io.imsave(fn, masks)\n",
      "/tmp/ipykernel_12803/4010209518.py:10: UserWarning: /mnt/DATA/macrohet/ND0002/upstream_development/segmentation/cellpose/(3, 4)/t0034_mphi_model_mask.tif is a low contrast image\n",
      "  io.imsave(fn, masks)\n",
      "/tmp/ipykernel_12803/4010209518.py:10: UserWarning: /mnt/DATA/macrohet/ND0002/upstream_development/segmentation/cellpose/(3, 4)/t0035_mphi_model_mask.tif is a low contrast image\n",
      "  io.imsave(fn, masks)\n",
      "/tmp/ipykernel_12803/4010209518.py:10: UserWarning: /mnt/DATA/macrohet/ND0002/upstream_development/segmentation/cellpose/(3, 4)/t0036_mphi_model_mask.tif is a low contrast image\n",
      "  io.imsave(fn, masks)\n",
      "/tmp/ipykernel_12803/4010209518.py:10: UserWarning: /mnt/DATA/macrohet/ND0002/upstream_development/segmentation/cellpose/(3, 4)/t0037_mphi_model_mask.tif is a low contrast image\n",
      "  io.imsave(fn, masks)\n",
      "/tmp/ipykernel_12803/4010209518.py:10: UserWarning: /mnt/DATA/macrohet/ND0002/upstream_development/segmentation/cellpose/(3, 4)/t0038_mphi_model_mask.tif is a low contrast image\n",
      "  io.imsave(fn, masks)\n",
      "/tmp/ipykernel_12803/4010209518.py:10: UserWarning: /mnt/DATA/macrohet/ND0002/upstream_development/segmentation/cellpose/(3, 4)/t0039_mphi_model_mask.tif is a low contrast image\n",
      "  io.imsave(fn, masks)\n",
      "/tmp/ipykernel_12803/4010209518.py:10: UserWarning: /mnt/DATA/macrohet/ND0002/upstream_development/segmentation/cellpose/(3, 4)/t0040_mphi_model_mask.tif is a low contrast image\n",
      "  io.imsave(fn, masks)\n",
      "/tmp/ipykernel_12803/4010209518.py:10: UserWarning: /mnt/DATA/macrohet/ND0002/upstream_development/segmentation/cellpose/(3, 4)/t0041_mphi_model_mask.tif is a low contrast image\n",
      "  io.imsave(fn, masks)\n",
      "/tmp/ipykernel_12803/4010209518.py:10: UserWarning: /mnt/DATA/macrohet/ND0002/upstream_development/segmentation/cellpose/(3, 4)/t0042_mphi_model_mask.tif is a low contrast image\n",
      "  io.imsave(fn, masks)\n",
      "/tmp/ipykernel_12803/4010209518.py:10: UserWarning: /mnt/DATA/macrohet/ND0002/upstream_development/segmentation/cellpose/(3, 4)/t0043_mphi_model_mask.tif is a low contrast image\n",
      "  io.imsave(fn, masks)\n",
      "/tmp/ipykernel_12803/4010209518.py:10: UserWarning: /mnt/DATA/macrohet/ND0002/upstream_development/segmentation/cellpose/(3, 4)/t0044_mphi_model_mask.tif is a low contrast image\n",
      "  io.imsave(fn, masks)\n",
      "/tmp/ipykernel_12803/4010209518.py:10: UserWarning: /mnt/DATA/macrohet/ND0002/upstream_development/segmentation/cellpose/(3, 4)/t0045_mphi_model_mask.tif is a low contrast image\n",
      "  io.imsave(fn, masks)\n",
      "/tmp/ipykernel_12803/4010209518.py:10: UserWarning: /mnt/DATA/macrohet/ND0002/upstream_development/segmentation/cellpose/(3, 4)/t0046_mphi_model_mask.tif is a low contrast image\n",
      "  io.imsave(fn, masks)\n",
      "/tmp/ipykernel_12803/4010209518.py:10: UserWarning: /mnt/DATA/macrohet/ND0002/upstream_development/segmentation/cellpose/(3, 4)/t0047_mphi_model_mask.tif is a low contrast image\n",
      "  io.imsave(fn, masks)\n",
      "/tmp/ipykernel_12803/4010209518.py:10: UserWarning: /mnt/DATA/macrohet/ND0002/upstream_development/segmentation/cellpose/(3, 4)/t0048_mphi_model_mask.tif is a low contrast image\n",
      "  io.imsave(fn, masks)\n",
      "/tmp/ipykernel_12803/4010209518.py:10: UserWarning: /mnt/DATA/macrohet/ND0002/upstream_development/segmentation/cellpose/(3, 4)/t0049_mphi_model_mask.tif is a low contrast image\n",
      "  io.imsave(fn, masks)\n",
      "/tmp/ipykernel_12803/4010209518.py:10: UserWarning: /mnt/DATA/macrohet/ND0002/upstream_development/segmentation/cellpose/(3, 4)/t0050_mphi_model_mask.tif is a low contrast image\n",
      "  io.imsave(fn, masks)\n",
      "/tmp/ipykernel_12803/4010209518.py:10: UserWarning: /mnt/DATA/macrohet/ND0002/upstream_development/segmentation/cellpose/(3, 4)/t0051_mphi_model_mask.tif is a low contrast image\n",
      "  io.imsave(fn, masks)\n",
      "/tmp/ipykernel_12803/4010209518.py:10: UserWarning: /mnt/DATA/macrohet/ND0002/upstream_development/segmentation/cellpose/(3, 4)/t0052_mphi_model_mask.tif is a low contrast image\n",
      "  io.imsave(fn, masks)\n",
      "/tmp/ipykernel_12803/4010209518.py:10: UserWarning: /mnt/DATA/macrohet/ND0002/upstream_development/segmentation/cellpose/(3, 4)/t0053_mphi_model_mask.tif is a low contrast image\n",
      "  io.imsave(fn, masks)\n",
      "/tmp/ipykernel_12803/4010209518.py:10: UserWarning: /mnt/DATA/macrohet/ND0002/upstream_development/segmentation/cellpose/(3, 4)/t0054_mphi_model_mask.tif is a low contrast image\n",
      "  io.imsave(fn, masks)\n",
      "/tmp/ipykernel_12803/4010209518.py:10: UserWarning: /mnt/DATA/macrohet/ND0002/upstream_development/segmentation/cellpose/(3, 4)/t0055_mphi_model_mask.tif is a low contrast image\n",
      "  io.imsave(fn, masks)\n",
      "/tmp/ipykernel_12803/4010209518.py:10: UserWarning: /mnt/DATA/macrohet/ND0002/upstream_development/segmentation/cellpose/(3, 4)/t0056_mphi_model_mask.tif is a low contrast image\n",
      "  io.imsave(fn, masks)\n",
      "/tmp/ipykernel_12803/4010209518.py:10: UserWarning: /mnt/DATA/macrohet/ND0002/upstream_development/segmentation/cellpose/(3, 4)/t0057_mphi_model_mask.tif is a low contrast image\n",
      "  io.imsave(fn, masks)\n",
      "/tmp/ipykernel_12803/4010209518.py:10: UserWarning: /mnt/DATA/macrohet/ND0002/upstream_development/segmentation/cellpose/(3, 4)/t0058_mphi_model_mask.tif is a low contrast image\n",
      "  io.imsave(fn, masks)\n",
      "/tmp/ipykernel_12803/4010209518.py:10: UserWarning: /mnt/DATA/macrohet/ND0002/upstream_development/segmentation/cellpose/(3, 4)/t0059_mphi_model_mask.tif is a low contrast image\n",
      "  io.imsave(fn, masks)\n",
      "/tmp/ipykernel_12803/4010209518.py:10: UserWarning: /mnt/DATA/macrohet/ND0002/upstream_development/segmentation/cellpose/(3, 4)/t0060_mphi_model_mask.tif is a low contrast image\n",
      "  io.imsave(fn, masks)\n",
      "/tmp/ipykernel_12803/4010209518.py:10: UserWarning: /mnt/DATA/macrohet/ND0002/upstream_development/segmentation/cellpose/(3, 4)/t0061_mphi_model_mask.tif is a low contrast image\n",
      "  io.imsave(fn, masks)\n",
      "/tmp/ipykernel_12803/4010209518.py:10: UserWarning: /mnt/DATA/macrohet/ND0002/upstream_development/segmentation/cellpose/(3, 4)/t0062_mphi_model_mask.tif is a low contrast image\n",
      "  io.imsave(fn, masks)\n",
      "/tmp/ipykernel_12803/4010209518.py:10: UserWarning: /mnt/DATA/macrohet/ND0002/upstream_development/segmentation/cellpose/(3, 4)/t0063_mphi_model_mask.tif is a low contrast image\n",
      "  io.imsave(fn, masks)\n",
      "/tmp/ipykernel_12803/4010209518.py:10: UserWarning: /mnt/DATA/macrohet/ND0002/upstream_development/segmentation/cellpose/(3, 4)/t0064_mphi_model_mask.tif is a low contrast image\n",
      "  io.imsave(fn, masks)\n",
      "/tmp/ipykernel_12803/4010209518.py:10: UserWarning: /mnt/DATA/macrohet/ND0002/upstream_development/segmentation/cellpose/(3, 4)/t0065_mphi_model_mask.tif is a low contrast image\n",
      "  io.imsave(fn, masks)\n",
      "/tmp/ipykernel_12803/4010209518.py:10: UserWarning: /mnt/DATA/macrohet/ND0002/upstream_development/segmentation/cellpose/(3, 4)/t0066_mphi_model_mask.tif is a low contrast image\n",
      "  io.imsave(fn, masks)\n",
      "/tmp/ipykernel_12803/4010209518.py:10: UserWarning: /mnt/DATA/macrohet/ND0002/upstream_development/segmentation/cellpose/(3, 4)/t0067_mphi_model_mask.tif is a low contrast image\n",
      "  io.imsave(fn, masks)\n",
      "/tmp/ipykernel_12803/4010209518.py:10: UserWarning: /mnt/DATA/macrohet/ND0002/upstream_development/segmentation/cellpose/(3, 4)/t0068_mphi_model_mask.tif is a low contrast image\n",
      "  io.imsave(fn, masks)\n",
      "/tmp/ipykernel_12803/4010209518.py:10: UserWarning: /mnt/DATA/macrohet/ND0002/upstream_development/segmentation/cellpose/(3, 4)/t0069_mphi_model_mask.tif is a low contrast image\n",
      "  io.imsave(fn, masks)\n",
      "/tmp/ipykernel_12803/4010209518.py:10: UserWarning: /mnt/DATA/macrohet/ND0002/upstream_development/segmentation/cellpose/(3, 4)/t0070_mphi_model_mask.tif is a low contrast image\n",
      "  io.imsave(fn, masks)\n",
      "/tmp/ipykernel_12803/4010209518.py:10: UserWarning: /mnt/DATA/macrohet/ND0002/upstream_development/segmentation/cellpose/(3, 4)/t0071_mphi_model_mask.tif is a low contrast image\n",
      "  io.imsave(fn, masks)\n",
      "/tmp/ipykernel_12803/4010209518.py:10: UserWarning: /mnt/DATA/macrohet/ND0002/upstream_development/segmentation/cellpose/(3, 4)/t0072_mphi_model_mask.tif is a low contrast image\n",
      "  io.imsave(fn, masks)\n",
      "/tmp/ipykernel_12803/4010209518.py:10: UserWarning: /mnt/DATA/macrohet/ND0002/upstream_development/segmentation/cellpose/(3, 4)/t0073_mphi_model_mask.tif is a low contrast image\n",
      "  io.imsave(fn, masks)\n",
      "/tmp/ipykernel_12803/4010209518.py:10: UserWarning: /mnt/DATA/macrohet/ND0002/upstream_development/segmentation/cellpose/(3, 4)/t0074_mphi_model_mask.tif is a low contrast image\n",
      "  io.imsave(fn, masks)\n",
      "/tmp/ipykernel_12803/4010209518.py:10: UserWarning: /mnt/DATA/macrohet/ND0002/upstream_development/segmentation/cellpose/(3, 4)/t0075_mphi_model_mask.tif is a low contrast image\n",
      "  io.imsave(fn, masks)\n",
      "/tmp/ipykernel_12803/4010209518.py:10: UserWarning: /mnt/DATA/macrohet/ND0002/upstream_development/segmentation/cellpose/(3, 4)/t0076_mphi_model_mask.tif is a low contrast image\n",
      "  io.imsave(fn, masks)\n",
      "/tmp/ipykernel_12803/4010209518.py:10: UserWarning: /mnt/DATA/macrohet/ND0002/upstream_development/segmentation/cellpose/(3, 4)/t0077_mphi_model_mask.tif is a low contrast image\n",
      "  io.imsave(fn, masks)\n",
      "/tmp/ipykernel_12803/4010209518.py:10: UserWarning: /mnt/DATA/macrohet/ND0002/upstream_development/segmentation/cellpose/(3, 4)/t0078_mphi_model_mask.tif is a low contrast image\n",
      "  io.imsave(fn, masks)\n",
      "/tmp/ipykernel_12803/4010209518.py:10: UserWarning: /mnt/DATA/macrohet/ND0002/upstream_development/segmentation/cellpose/(3, 4)/t0079_mphi_model_mask.tif is a low contrast image\n",
      "  io.imsave(fn, masks)\n",
      "/tmp/ipykernel_12803/4010209518.py:10: UserWarning: /mnt/DATA/macrohet/ND0002/upstream_development/segmentation/cellpose/(3, 4)/t0080_mphi_model_mask.tif is a low contrast image\n",
      "  io.imsave(fn, masks)\n",
      "/tmp/ipykernel_12803/4010209518.py:10: UserWarning: /mnt/DATA/macrohet/ND0002/upstream_development/segmentation/cellpose/(3, 4)/t0081_mphi_model_mask.tif is a low contrast image\n",
      "  io.imsave(fn, masks)\n",
      "/tmp/ipykernel_12803/4010209518.py:10: UserWarning: /mnt/DATA/macrohet/ND0002/upstream_development/segmentation/cellpose/(3, 4)/t0082_mphi_model_mask.tif is a low contrast image\n",
      "  io.imsave(fn, masks)\n",
      "/tmp/ipykernel_12803/4010209518.py:10: UserWarning: /mnt/DATA/macrohet/ND0002/upstream_development/segmentation/cellpose/(3, 4)/t0083_mphi_model_mask.tif is a low contrast image\n",
      "  io.imsave(fn, masks)\n",
      "/tmp/ipykernel_12803/4010209518.py:10: UserWarning: /mnt/DATA/macrohet/ND0002/upstream_development/segmentation/cellpose/(3, 4)/t0084_mphi_model_mask.tif is a low contrast image\n",
      "  io.imsave(fn, masks)\n",
      "/tmp/ipykernel_12803/4010209518.py:10: UserWarning: /mnt/DATA/macrohet/ND0002/upstream_development/segmentation/cellpose/(3, 4)/t0085_mphi_model_mask.tif is a low contrast image\n",
      "  io.imsave(fn, masks)\n",
      "/tmp/ipykernel_12803/4010209518.py:10: UserWarning: /mnt/DATA/macrohet/ND0002/upstream_development/segmentation/cellpose/(3, 4)/t0086_mphi_model_mask.tif is a low contrast image\n",
      "  io.imsave(fn, masks)\n",
      "/tmp/ipykernel_12803/4010209518.py:10: UserWarning: /mnt/DATA/macrohet/ND0002/upstream_development/segmentation/cellpose/(3, 4)/t0087_mphi_model_mask.tif is a low contrast image\n",
      "  io.imsave(fn, masks)\n",
      "/tmp/ipykernel_12803/4010209518.py:10: UserWarning: /mnt/DATA/macrohet/ND0002/upstream_development/segmentation/cellpose/(3, 4)/t0088_mphi_model_mask.tif is a low contrast image\n",
      "  io.imsave(fn, masks)\n",
      "/tmp/ipykernel_12803/4010209518.py:10: UserWarning: /mnt/DATA/macrohet/ND0002/upstream_development/segmentation/cellpose/(3, 4)/t0089_mphi_model_mask.tif is a low contrast image\n",
      "  io.imsave(fn, masks)\n",
      "/tmp/ipykernel_12803/4010209518.py:10: UserWarning: /mnt/DATA/macrohet/ND0002/upstream_development/segmentation/cellpose/(3, 4)/t0090_mphi_model_mask.tif is a low contrast image\n",
      "  io.imsave(fn, masks)\n",
      "/tmp/ipykernel_12803/4010209518.py:10: UserWarning: /mnt/DATA/macrohet/ND0002/upstream_development/segmentation/cellpose/(3, 4)/t0091_mphi_model_mask.tif is a low contrast image\n",
      "  io.imsave(fn, masks)\n",
      "/tmp/ipykernel_12803/4010209518.py:10: UserWarning: /mnt/DATA/macrohet/ND0002/upstream_development/segmentation/cellpose/(3, 4)/t0092_mphi_model_mask.tif is a low contrast image\n",
      "  io.imsave(fn, masks)\n",
      "/tmp/ipykernel_12803/4010209518.py:10: UserWarning: /mnt/DATA/macrohet/ND0002/upstream_development/segmentation/cellpose/(3, 4)/t0093_mphi_model_mask.tif is a low contrast image\n",
      "  io.imsave(fn, masks)\n",
      "/tmp/ipykernel_12803/4010209518.py:10: UserWarning: /mnt/DATA/macrohet/ND0002/upstream_development/segmentation/cellpose/(3, 4)/t0094_mphi_model_mask.tif is a low contrast image\n",
      "  io.imsave(fn, masks)\n",
      "/tmp/ipykernel_12803/4010209518.py:10: UserWarning: /mnt/DATA/macrohet/ND0002/upstream_development/segmentation/cellpose/(3, 4)/t0095_mphi_model_mask.tif is a low contrast image\n",
      "  io.imsave(fn, masks)\n",
      "/tmp/ipykernel_12803/4010209518.py:10: UserWarning: /mnt/DATA/macrohet/ND0002/upstream_development/segmentation/cellpose/(3, 4)/t0096_mphi_model_mask.tif is a low contrast image\n",
      "  io.imsave(fn, masks)\n",
      "/tmp/ipykernel_12803/4010209518.py:10: UserWarning: /mnt/DATA/macrohet/ND0002/upstream_development/segmentation/cellpose/(3, 4)/t0097_mphi_model_mask.tif is a low contrast image\n",
      "  io.imsave(fn, masks)\n",
      "/tmp/ipykernel_12803/4010209518.py:10: UserWarning: /mnt/DATA/macrohet/ND0002/upstream_development/segmentation/cellpose/(3, 4)/t0098_mphi_model_mask.tif is a low contrast image\n",
      "  io.imsave(fn, masks)\n",
      "/tmp/ipykernel_12803/4010209518.py:10: UserWarning: /mnt/DATA/macrohet/ND0002/upstream_development/segmentation/cellpose/(3, 4)/t0099_mphi_model_mask.tif is a low contrast image\n",
      "  io.imsave(fn, masks)\n",
      "/tmp/ipykernel_12803/4010209518.py:10: UserWarning: /mnt/DATA/macrohet/ND0002/upstream_development/segmentation/cellpose/(3, 4)/t0100_mphi_model_mask.tif is a low contrast image\n",
      "  io.imsave(fn, masks)\n"
     ]
    }
   ],
   "source": [
    "mask_stack = []\n",
    "for t, frame in tqdm(enumerate(images), total = 150):\n",
    "    gfp_frame = frame[1]\n",
    "    masks, _,_ = model.eval(gfp_frame, diameter=None,\n",
    "                        channels = [0,0]    \n",
    "                       )\n",
    "    # save out mask in case kernel crashes \n",
    "    t_fn = f'{t}'.zfill(4)\n",
    "    fn = f'/mnt/DATA/macrohet/{expt_ID}/upstream_development/segmentation/cellpose/{acq_ID}/t{t_fn}_mphi_model_mask.tif'\n",
    "    io.imsave(fn, masks)\n",
    "    mask_stack.append(masks)\n",
    "mask_stack = np.stack(mask_stack, axis = 0)"
   ]
  },
  {
   "cell_type": "code",
   "execution_count": null,
   "id": "d05693bb-a852-4772-ad22-96f1b36cd775",
   "metadata": {},
   "outputs": [],
   "source": [
    "viewer.add_image(mask_stack)"
   ]
  },
  {
   "cell_type": "markdown",
   "id": "fd43900e-1435-40d6-a660-79d8679d468e",
   "metadata": {},
   "source": [
    "### Load masks"
   ]
  },
  {
   "cell_type": "code",
   "execution_count": 18,
   "id": "f4982d7a-b8d4-42f2-94ef-7ead0f3f1222",
   "metadata": {},
   "outputs": [
    {
     "data": {
      "application/vnd.jupyter.widget-view+json": {
       "model_id": "03ca402f7ad94248bb5cc4f30d4911a2",
       "version_major": 2,
       "version_minor": 0
      },
      "text/plain": [
       "  0%|          | 0/150 [00:00<?, ?it/s]"
      ]
     },
     "metadata": {},
     "output_type": "display_data"
    }
   ],
   "source": [
    "mask_stack = []\n",
    "# load masks \n",
    "for t, frame in tqdm(enumerate(images), total = 150):\n",
    "    # gfp_frame = frame[1]\n",
    "    # masks, _,_ = model.eval(gfp_frame, diameter=None,\n",
    "    #                     channels = [0,0]    \n",
    "    #                    )\n",
    "    # # save out mask in case kernel crashes \n",
    "    t_fn = f'{t}'.zfill(4)\n",
    "    fn = f'/mnt/DATA/macrohet/{expt_ID}/upstream_development/segmentation/cellpose/{acq_ID}/t{t_fn}_mphi_model_mask.tif'\n",
    "    masks = io.imread(fn)\n",
    "    mask_stack.append(masks)\n",
    "mask_stack = np.stack(mask_stack, axis = 0)"
   ]
  },
  {
   "cell_type": "code",
   "execution_count": 19,
   "id": "c12afd62-9b0c-4b5c-aef5-6920017654ea",
   "metadata": {},
   "outputs": [
    {
     "data": {
      "text/plain": [
       "<Labels layer 'mask_stack' at 0x7efa712f8340>"
      ]
     },
     "execution_count": 19,
     "metadata": {},
     "output_type": "execute_result"
    }
   ],
   "source": [
    "viewer = napari.Viewer()\n",
    "\n",
    "viewer.add_labels(mask_stack)"
   ]
  },
  {
   "cell_type": "markdown",
   "id": "b540740f-ccfd-4968-82a4-68e1ef45e93b",
   "metadata": {},
   "source": [
    "# Test track"
   ]
  },
  {
   "cell_type": "code",
   "execution_count": null,
   "id": "32b19b1d-6118-4ceb-9cdc-593e1635088a",
   "metadata": {},
   "outputs": [],
   "source": [
    "import "
   ]
  }
 ],
 "metadata": {
  "kernelspec": {
   "display_name": "brassica",
   "language": "python",
   "name": "brassica"
  },
  "language_info": {
   "codemirror_mode": {
    "name": "ipython",
    "version": 3
   },
   "file_extension": ".py",
   "mimetype": "text/x-python",
   "name": "python",
   "nbconvert_exporter": "python",
   "pygments_lexer": "ipython3",
   "version": "3.9.17"
  }
 },
 "nbformat": 4,
 "nbformat_minor": 5
}
