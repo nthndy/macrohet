{
 "cells": [
  {
   "cell_type": "markdown",
   "id": "436cc723-43dd-48f3-9d56-1e1192142281",
   "metadata": {},
   "source": [
    "# Quick glimpse viewer"
   ]
  },
  {
   "cell_type": "code",
   "execution_count": 13,
   "id": "038f21c9-ab18-4688-8de0-829dc749c642",
   "metadata": {},
   "outputs": [],
   "source": [
    "import napari\n",
    "import pandas as pd\n",
    "import os, glob\n",
    "import zarr\n",
    "from tqdm.auto import tqdm\n",
    "from macrohet import dataio, tile, visualise, notify\n",
    "from datetime import datetime\n",
    "current_date = datetime.now().strftime('%d-%m-%Y')\n",
    "import btrack \n",
    "import cv2\n",
    "import numpy as np\n",
    "import re\n",
    "import time"
   ]
  },
  {
   "cell_type": "code",
   "execution_count": 8,
   "id": "170cc967-1488-41b0-9608-f862f128e2d4",
   "metadata": {},
   "outputs": [],
   "source": [
    "sc_df_fn = f'/mnt/SYNO/macrohet_syno/manuscript/results/sc_df.pkl'"
   ]
  },
  {
   "cell_type": "code",
   "execution_count": 9,
   "id": "33162b98-bfd9-4770-86a2-688b6871b6ee",
   "metadata": {},
   "outputs": [],
   "source": [
    "df = pd.read_pickle(sc_df_fn)"
   ]
  },
  {
   "cell_type": "code",
   "execution_count": 10,
   "id": "1374af15-828d-4702-80f5-0069aedb019a",
   "metadata": {},
   "outputs": [
    {
     "data": {
      "text/html": [
       "<div>\n",
       "<style scoped>\n",
       "    .dataframe tbody tr th:only-of-type {\n",
       "        vertical-align: middle;\n",
       "    }\n",
       "\n",
       "    .dataframe tbody tr th {\n",
       "        vertical-align: top;\n",
       "    }\n",
       "\n",
       "    .dataframe thead th {\n",
       "        text-align: right;\n",
       "    }\n",
       "</style>\n",
       "<table border=\"1\" class=\"dataframe\">\n",
       "  <thead>\n",
       "    <tr style=\"text-align: right;\">\n",
       "      <th></th>\n",
       "      <th>Time (hours)</th>\n",
       "      <th>Mtb Area (µm)</th>\n",
       "      <th>dMtb Area (µm)</th>\n",
       "      <th>Mphi Area (µm)</th>\n",
       "      <th>dMphi Area (µm)</th>\n",
       "      <th>Infection Status</th>\n",
       "      <th>Initial Infection Status</th>\n",
       "      <th>Final Infection Status</th>\n",
       "      <th>x</th>\n",
       "      <th>y</th>\n",
       "      <th>...</th>\n",
       "      <th>Technical Replicate</th>\n",
       "      <th>Biological Replicate</th>\n",
       "      <th>Strain</th>\n",
       "      <th>Compound</th>\n",
       "      <th>Concentration</th>\n",
       "      <th>Cell ID</th>\n",
       "      <th>Acquisition ID</th>\n",
       "      <th>Experiment ID</th>\n",
       "      <th>Unique ID</th>\n",
       "      <th>ID</th>\n",
       "    </tr>\n",
       "  </thead>\n",
       "  <tbody>\n",
       "    <tr>\n",
       "      <th>0</th>\n",
       "      <td>0.0</td>\n",
       "      <td>0.424621</td>\n",
       "      <td>-0.424621</td>\n",
       "      <td>459.082108</td>\n",
       "      <td>-92.746118</td>\n",
       "      <td>1.0</td>\n",
       "      <td>1.0</td>\n",
       "      <td>0.0</td>\n",
       "      <td>457.172943</td>\n",
       "      <td>8.791715</td>\n",
       "      <td>...</td>\n",
       "      <td>1</td>\n",
       "      <td>1</td>\n",
       "      <td>RD1</td>\n",
       "      <td>CTRL</td>\n",
       "      <td>EC0</td>\n",
       "      <td>426</td>\n",
       "      <td>(3, 4)</td>\n",
       "      <td>PS0000</td>\n",
       "      <td>426.3.4</td>\n",
       "      <td>426.3.4.PS0000</td>\n",
       "    </tr>\n",
       "    <tr>\n",
       "      <th>1</th>\n",
       "      <td>1.0</td>\n",
       "      <td>0.000000</td>\n",
       "      <td>-0.424621</td>\n",
       "      <td>372.839393</td>\n",
       "      <td>-92.746118</td>\n",
       "      <td>0.0</td>\n",
       "      <td>1.0</td>\n",
       "      <td>0.0</td>\n",
       "      <td>459.138947</td>\n",
       "      <td>6.718642</td>\n",
       "      <td>...</td>\n",
       "      <td>1</td>\n",
       "      <td>1</td>\n",
       "      <td>RD1</td>\n",
       "      <td>CTRL</td>\n",
       "      <td>EC0</td>\n",
       "      <td>426</td>\n",
       "      <td>(3, 4)</td>\n",
       "      <td>PS0000</td>\n",
       "      <td>426.3.4</td>\n",
       "      <td>426.3.4.PS0000</td>\n",
       "    </tr>\n",
       "    <tr>\n",
       "      <th>2</th>\n",
       "      <td>2.0</td>\n",
       "      <td>0.000000</td>\n",
       "      <td>-0.424621</td>\n",
       "      <td>423.168130</td>\n",
       "      <td>-92.746118</td>\n",
       "      <td>0.0</td>\n",
       "      <td>1.0</td>\n",
       "      <td>0.0</td>\n",
       "      <td>460.555237</td>\n",
       "      <td>10.785886</td>\n",
       "      <td>...</td>\n",
       "      <td>1</td>\n",
       "      <td>1</td>\n",
       "      <td>RD1</td>\n",
       "      <td>CTRL</td>\n",
       "      <td>EC0</td>\n",
       "      <td>426</td>\n",
       "      <td>(3, 4)</td>\n",
       "      <td>PS0000</td>\n",
       "      <td>426.3.4</td>\n",
       "      <td>426.3.4.PS0000</td>\n",
       "    </tr>\n",
       "    <tr>\n",
       "      <th>3</th>\n",
       "      <td>3.0</td>\n",
       "      <td>0.335227</td>\n",
       "      <td>-0.424621</td>\n",
       "      <td>445.561289</td>\n",
       "      <td>-92.746118</td>\n",
       "      <td>1.0</td>\n",
       "      <td>1.0</td>\n",
       "      <td>0.0</td>\n",
       "      <td>455.878815</td>\n",
       "      <td>11.143067</td>\n",
       "      <td>...</td>\n",
       "      <td>1</td>\n",
       "      <td>1</td>\n",
       "      <td>RD1</td>\n",
       "      <td>CTRL</td>\n",
       "      <td>EC0</td>\n",
       "      <td>426</td>\n",
       "      <td>(3, 4)</td>\n",
       "      <td>PS0000</td>\n",
       "      <td>426.3.4</td>\n",
       "      <td>426.3.4.PS0000</td>\n",
       "    </tr>\n",
       "    <tr>\n",
       "      <th>4</th>\n",
       "      <td>4.0</td>\n",
       "      <td>0.000000</td>\n",
       "      <td>-0.424621</td>\n",
       "      <td>487.040034</td>\n",
       "      <td>-92.746118</td>\n",
       "      <td>1.0</td>\n",
       "      <td>1.0</td>\n",
       "      <td>0.0</td>\n",
       "      <td>462.634186</td>\n",
       "      <td>14.050420</td>\n",
       "      <td>...</td>\n",
       "      <td>1</td>\n",
       "      <td>1</td>\n",
       "      <td>RD1</td>\n",
       "      <td>CTRL</td>\n",
       "      <td>EC0</td>\n",
       "      <td>426</td>\n",
       "      <td>(3, 4)</td>\n",
       "      <td>PS0000</td>\n",
       "      <td>426.3.4</td>\n",
       "      <td>426.3.4.PS0000</td>\n",
       "    </tr>\n",
       "    <tr>\n",
       "      <th>...</th>\n",
       "      <td>...</td>\n",
       "      <td>...</td>\n",
       "      <td>...</td>\n",
       "      <td>...</td>\n",
       "      <td>...</td>\n",
       "      <td>...</td>\n",
       "      <td>...</td>\n",
       "      <td>...</td>\n",
       "      <td>...</td>\n",
       "      <td>...</td>\n",
       "      <td>...</td>\n",
       "      <td>...</td>\n",
       "      <td>...</td>\n",
       "      <td>...</td>\n",
       "      <td>...</td>\n",
       "      <td>...</td>\n",
       "      <td>...</td>\n",
       "      <td>...</td>\n",
       "      <td>...</td>\n",
       "      <td>...</td>\n",
       "      <td>...</td>\n",
       "    </tr>\n",
       "    <tr>\n",
       "      <th>1722130</th>\n",
       "      <td>74.5</td>\n",
       "      <td>1.117423</td>\n",
       "      <td>1.095075</td>\n",
       "      <td>752.584461</td>\n",
       "      <td>55.088959</td>\n",
       "      <td>1.0</td>\n",
       "      <td>1.0</td>\n",
       "      <td>1.0</td>\n",
       "      <td>227.093262</td>\n",
       "      <td>130.358139</td>\n",
       "      <td>...</td>\n",
       "      <td>2</td>\n",
       "      <td>3</td>\n",
       "      <td>RD1</td>\n",
       "      <td>BDQ</td>\n",
       "      <td>EC99</td>\n",
       "      <td>1874</td>\n",
       "      <td>(6, 12)</td>\n",
       "      <td>ND0003</td>\n",
       "      <td>1874.6.12</td>\n",
       "      <td>1874.6.12.ND0003</td>\n",
       "    </tr>\n",
       "    <tr>\n",
       "      <th>1722131</th>\n",
       "      <td>75.0</td>\n",
       "      <td>2.033710</td>\n",
       "      <td>1.095075</td>\n",
       "      <td>616.035357</td>\n",
       "      <td>55.088959</td>\n",
       "      <td>1.0</td>\n",
       "      <td>1.0</td>\n",
       "      <td>1.0</td>\n",
       "      <td>226.622925</td>\n",
       "      <td>130.532120</td>\n",
       "      <td>...</td>\n",
       "      <td>2</td>\n",
       "      <td>3</td>\n",
       "      <td>RD1</td>\n",
       "      <td>BDQ</td>\n",
       "      <td>EC99</td>\n",
       "      <td>1874</td>\n",
       "      <td>(6, 12)</td>\n",
       "      <td>ND0003</td>\n",
       "      <td>1874.6.12</td>\n",
       "      <td>1874.6.12.ND0003</td>\n",
       "    </tr>\n",
       "    <tr>\n",
       "      <th>1722132</th>\n",
       "      <td>75.5</td>\n",
       "      <td>1.430302</td>\n",
       "      <td>1.095075</td>\n",
       "      <td>579.182743</td>\n",
       "      <td>55.088959</td>\n",
       "      <td>1.0</td>\n",
       "      <td>1.0</td>\n",
       "      <td>1.0</td>\n",
       "      <td>225.366608</td>\n",
       "      <td>129.932709</td>\n",
       "      <td>...</td>\n",
       "      <td>2</td>\n",
       "      <td>3</td>\n",
       "      <td>RD1</td>\n",
       "      <td>BDQ</td>\n",
       "      <td>EC99</td>\n",
       "      <td>1874</td>\n",
       "      <td>(6, 12)</td>\n",
       "      <td>ND0003</td>\n",
       "      <td>1874.6.12</td>\n",
       "      <td>1874.6.12.ND0003</td>\n",
       "    </tr>\n",
       "    <tr>\n",
       "      <th>1722133</th>\n",
       "      <td>76.0</td>\n",
       "      <td>1.989013</td>\n",
       "      <td>1.095075</td>\n",
       "      <td>679.147414</td>\n",
       "      <td>55.088959</td>\n",
       "      <td>1.0</td>\n",
       "      <td>1.0</td>\n",
       "      <td>1.0</td>\n",
       "      <td>226.424683</td>\n",
       "      <td>128.489410</td>\n",
       "      <td>...</td>\n",
       "      <td>2</td>\n",
       "      <td>3</td>\n",
       "      <td>RD1</td>\n",
       "      <td>BDQ</td>\n",
       "      <td>EC99</td>\n",
       "      <td>1874</td>\n",
       "      <td>(6, 12)</td>\n",
       "      <td>ND0003</td>\n",
       "      <td>1874.6.12</td>\n",
       "      <td>1874.6.12.ND0003</td>\n",
       "    </tr>\n",
       "    <tr>\n",
       "      <th>1722134</th>\n",
       "      <td>76.5</td>\n",
       "      <td>2.123104</td>\n",
       "      <td>1.095075</td>\n",
       "      <td>770.686715</td>\n",
       "      <td>55.088959</td>\n",
       "      <td>1.0</td>\n",
       "      <td>1.0</td>\n",
       "      <td>1.0</td>\n",
       "      <td>225.741119</td>\n",
       "      <td>126.533669</td>\n",
       "      <td>...</td>\n",
       "      <td>2</td>\n",
       "      <td>3</td>\n",
       "      <td>RD1</td>\n",
       "      <td>BDQ</td>\n",
       "      <td>EC99</td>\n",
       "      <td>1874</td>\n",
       "      <td>(6, 12)</td>\n",
       "      <td>ND0003</td>\n",
       "      <td>1874.6.12</td>\n",
       "      <td>1874.6.12.ND0003</td>\n",
       "    </tr>\n",
       "  </tbody>\n",
       "</table>\n",
       "<p>1240033 rows × 24 columns</p>\n",
       "</div>"
      ],
      "text/plain": [
       "         Time (hours)  Mtb Area (µm)  dMtb Area (µm)  Mphi Area (µm)  \\\n",
       "0                 0.0       0.424621       -0.424621      459.082108   \n",
       "1                 1.0       0.000000       -0.424621      372.839393   \n",
       "2                 2.0       0.000000       -0.424621      423.168130   \n",
       "3                 3.0       0.335227       -0.424621      445.561289   \n",
       "4                 4.0       0.000000       -0.424621      487.040034   \n",
       "...               ...            ...             ...             ...   \n",
       "1722130          74.5       1.117423        1.095075      752.584461   \n",
       "1722131          75.0       2.033710        1.095075      616.035357   \n",
       "1722132          75.5       1.430302        1.095075      579.182743   \n",
       "1722133          76.0       1.989013        1.095075      679.147414   \n",
       "1722134          76.5       2.123104        1.095075      770.686715   \n",
       "\n",
       "         dMphi Area (µm)  Infection Status  Initial Infection Status  \\\n",
       "0             -92.746118               1.0                       1.0   \n",
       "1             -92.746118               0.0                       1.0   \n",
       "2             -92.746118               0.0                       1.0   \n",
       "3             -92.746118               1.0                       1.0   \n",
       "4             -92.746118               1.0                       1.0   \n",
       "...                  ...               ...                       ...   \n",
       "1722130        55.088959               1.0                       1.0   \n",
       "1722131        55.088959               1.0                       1.0   \n",
       "1722132        55.088959               1.0                       1.0   \n",
       "1722133        55.088959               1.0                       1.0   \n",
       "1722134        55.088959               1.0                       1.0   \n",
       "\n",
       "         Final Infection Status           x           y  ...  \\\n",
       "0                           0.0  457.172943    8.791715  ...   \n",
       "1                           0.0  459.138947    6.718642  ...   \n",
       "2                           0.0  460.555237   10.785886  ...   \n",
       "3                           0.0  455.878815   11.143067  ...   \n",
       "4                           0.0  462.634186   14.050420  ...   \n",
       "...                         ...         ...         ...  ...   \n",
       "1722130                     1.0  227.093262  130.358139  ...   \n",
       "1722131                     1.0  226.622925  130.532120  ...   \n",
       "1722132                     1.0  225.366608  129.932709  ...   \n",
       "1722133                     1.0  226.424683  128.489410  ...   \n",
       "1722134                     1.0  225.741119  126.533669  ...   \n",
       "\n",
       "         Technical Replicate  Biological Replicate  Strain  Compound  \\\n",
       "0                          1                     1     RD1      CTRL   \n",
       "1                          1                     1     RD1      CTRL   \n",
       "2                          1                     1     RD1      CTRL   \n",
       "3                          1                     1     RD1      CTRL   \n",
       "4                          1                     1     RD1      CTRL   \n",
       "...                      ...                   ...     ...       ...   \n",
       "1722130                    2                     3     RD1       BDQ   \n",
       "1722131                    2                     3     RD1       BDQ   \n",
       "1722132                    2                     3     RD1       BDQ   \n",
       "1722133                    2                     3     RD1       BDQ   \n",
       "1722134                    2                     3     RD1       BDQ   \n",
       "\n",
       "         Concentration  Cell ID Acquisition ID Experiment ID  Unique ID  \\\n",
       "0                  EC0      426         (3, 4)        PS0000    426.3.4   \n",
       "1                  EC0      426         (3, 4)        PS0000    426.3.4   \n",
       "2                  EC0      426         (3, 4)        PS0000    426.3.4   \n",
       "3                  EC0      426         (3, 4)        PS0000    426.3.4   \n",
       "4                  EC0      426         (3, 4)        PS0000    426.3.4   \n",
       "...                ...      ...            ...           ...        ...   \n",
       "1722130           EC99     1874        (6, 12)        ND0003  1874.6.12   \n",
       "1722131           EC99     1874        (6, 12)        ND0003  1874.6.12   \n",
       "1722132           EC99     1874        (6, 12)        ND0003  1874.6.12   \n",
       "1722133           EC99     1874        (6, 12)        ND0003  1874.6.12   \n",
       "1722134           EC99     1874        (6, 12)        ND0003  1874.6.12   \n",
       "\n",
       "                       ID  \n",
       "0          426.3.4.PS0000  \n",
       "1          426.3.4.PS0000  \n",
       "2          426.3.4.PS0000  \n",
       "3          426.3.4.PS0000  \n",
       "4          426.3.4.PS0000  \n",
       "...                   ...  \n",
       "1722130  1874.6.12.ND0003  \n",
       "1722131  1874.6.12.ND0003  \n",
       "1722132  1874.6.12.ND0003  \n",
       "1722133  1874.6.12.ND0003  \n",
       "1722134  1874.6.12.ND0003  \n",
       "\n",
       "[1240033 rows x 24 columns]"
      ]
     },
     "execution_count": 10,
     "metadata": {},
     "output_type": "execute_result"
    }
   ],
   "source": [
    "df"
   ]
  },
  {
   "cell_type": "code",
   "execution_count": 14,
   "id": "8894139b-af70-4000-9236-55103f3c18fd",
   "metadata": {},
   "outputs": [],
   "source": [
    "crop_size = 750\n",
    "track_scale_factor = 5.04\n",
    "mask_outline = True\n",
    "pattern = r\"cell_ID\\.(.*?)_dt\"\n",
    "pattern = r\"cell_ID\\.(.*?).mp4\"\n",
    "seg_fn = []\n",
    "gfp_channel = 1\n",
    "rfp_channel = 0\n",
    "image_scale_m_per_pixel = 1.4949402023919043e-07\n",
    "image_scale_um_per_pixel = image_scale_m_per_pixel*1E6\n",
    "add_labels = True\n",
    "boundary_buffer = 150\n",
    "image_width = image_height = 6048"
   ]
  },
  {
   "cell_type": "code",
   "execution_count": null,
   "id": "28e15465-6f5e-4079-8a25-9628344f78a9",
   "metadata": {
    "scrolled": true
   },
   "outputs": [
    {
     "name": "stdout",
     "output_type": "stream",
     "text": [
      "Checking for new files\n"
     ]
    },
    {
     "data": {
      "application/vnd.jupyter.widget-view+json": {
       "model_id": "58b244b89aad4cbf85495698cc445ec0",
       "version_major": 2,
       "version_minor": 0
      },
      "text/plain": [
       "  0%|          | 0/90 [00:00<?, ?it/s]"
      ]
     },
     "metadata": {},
     "output_type": "display_data"
    },
    {
     "name": "stdout",
     "output_type": "stream",
     "text": [
      "Video 2953.3.3.ND0003 saved successfully.\n"
     ]
    },
    {
     "name": "stderr",
     "output_type": "stream",
     "text": [
      "[INFO][2024/04/17 05:03:14 PM] Opening HDF file: /mnt/SYNO/macrohet_syno/ND0003/labels/cpv3/(4, 6).h5...\n",
      "INFO:btrack.io.hdf:Opening HDF file: /mnt/SYNO/macrohet_syno/ND0003/labels/cpv3/(4, 6).h5...\n",
      "[INFO][2024/04/17 05:03:59 PM] Loading segmentation (154, 6048, 6048)\n",
      "INFO:btrack.io.hdf:Loading segmentation (154, 6048, 6048)\n",
      "[INFO][2024/04/17 05:03:59 PM] Closing HDF file: /mnt/SYNO/macrohet_syno/ND0003/labels/cpv3/(4, 6).h5\n",
      "INFO:btrack.io.hdf:Closing HDF file: /mnt/SYNO/macrohet_syno/ND0003/labels/cpv3/(4, 6).h5\n"
     ]
    },
    {
     "data": {
      "application/vnd.jupyter.widget-view+json": {
       "model_id": "b8da171adbd94de585aedb31ce408149",
       "version_major": 2,
       "version_minor": 0
      },
      "text/plain": [
       "  0%|          | 0/116 [00:00<?, ?it/s]"
      ]
     },
     "metadata": {},
     "output_type": "display_data"
    },
    {
     "name": "stdout",
     "output_type": "stream",
     "text": [
      "Video 234.4.6.ND0003 saved successfully.\n"
     ]
    },
    {
     "name": "stderr",
     "output_type": "stream",
     "text": [
      "[INFO][2024/04/17 05:25:52 PM] Opening HDF file: /mnt/SYNO/macrohet_syno/ND0002/labels/cpv3/(4, 5).h5...\n",
      "INFO:btrack.io.hdf:Opening HDF file: /mnt/SYNO/macrohet_syno/ND0002/labels/cpv3/(4, 5).h5...\n",
      "[INFO][2024/04/17 05:26:15 PM] Loading segmentation (150, 6048, 6048)\n",
      "INFO:btrack.io.hdf:Loading segmentation (150, 6048, 6048)\n",
      "[INFO][2024/04/17 05:26:15 PM] Closing HDF file: /mnt/SYNO/macrohet_syno/ND0002/labels/cpv3/(4, 5).h5\n",
      "INFO:btrack.io.hdf:Closing HDF file: /mnt/SYNO/macrohet_syno/ND0002/labels/cpv3/(4, 5).h5\n"
     ]
    },
    {
     "data": {
      "application/vnd.jupyter.widget-view+json": {
       "model_id": "db8d043dc2a74a4498a08dbd95466b6a",
       "version_major": 2,
       "version_minor": 0
      },
      "text/plain": [
       "  0%|          | 0/71 [00:00<?, ?it/s]"
      ]
     },
     "metadata": {},
     "output_type": "display_data"
    },
    {
     "name": "stdout",
     "output_type": "stream",
     "text": [
      "Video 1057.4.5.ND0002 saved successfully.\n"
     ]
    },
    {
     "name": "stderr",
     "output_type": "stream",
     "text": [
      "[INFO][2024/04/17 05:37:48 PM] Opening HDF file: /mnt/SYNO/macrohet_syno/ND0003/labels/cpv3/(6, 6).h5...\n",
      "INFO:btrack.io.hdf:Opening HDF file: /mnt/SYNO/macrohet_syno/ND0003/labels/cpv3/(6, 6).h5...\n",
      "[INFO][2024/04/17 05:38:58 PM] Loading segmentation (154, 6048, 6048)\n",
      "INFO:btrack.io.hdf:Loading segmentation (154, 6048, 6048)\n",
      "[INFO][2024/04/17 05:38:58 PM] Closing HDF file: /mnt/SYNO/macrohet_syno/ND0003/labels/cpv3/(6, 6).h5\n",
      "INFO:btrack.io.hdf:Closing HDF file: /mnt/SYNO/macrohet_syno/ND0003/labels/cpv3/(6, 6).h5\n"
     ]
    },
    {
     "data": {
      "application/vnd.jupyter.widget-view+json": {
       "model_id": "614a6306c06346d7b24137678e095942",
       "version_major": 2,
       "version_minor": 0
      },
      "text/plain": [
       "  0%|          | 0/73 [00:00<?, ?it/s]"
      ]
     },
     "metadata": {},
     "output_type": "display_data"
    },
    {
     "name": "stdout",
     "output_type": "stream",
     "text": [
      "Video 812.6.6.ND0003 saved successfully.\n"
     ]
    },
    {
     "name": "stderr",
     "output_type": "stream",
     "text": [
      "[INFO][2024/04/17 05:46:47 PM] Opening HDF file: /mnt/SYNO/macrohet_syno/ND0003/labels/cpv3/(3, 5).h5...\n",
      "INFO:btrack.io.hdf:Opening HDF file: /mnt/SYNO/macrohet_syno/ND0003/labels/cpv3/(3, 5).h5...\n",
      "[INFO][2024/04/17 05:47:09 PM] Loading segmentation (154, 6048, 6048)\n",
      "INFO:btrack.io.hdf:Loading segmentation (154, 6048, 6048)\n",
      "[INFO][2024/04/17 05:47:10 PM] Closing HDF file: /mnt/SYNO/macrohet_syno/ND0003/labels/cpv3/(3, 5).h5\n",
      "INFO:btrack.io.hdf:Closing HDF file: /mnt/SYNO/macrohet_syno/ND0003/labels/cpv3/(3, 5).h5\n"
     ]
    },
    {
     "data": {
      "application/vnd.jupyter.widget-view+json": {
       "model_id": "40ed34361a4944a68047b4c5f3b49a66",
       "version_major": 2,
       "version_minor": 0
      },
      "text/plain": [
       "  0%|          | 0/70 [00:00<?, ?it/s]"
      ]
     },
     "metadata": {},
     "output_type": "display_data"
    },
    {
     "name": "stdout",
     "output_type": "stream",
     "text": [
      "Video 14.3.5.ND0003 saved successfully.\n"
     ]
    },
    {
     "name": "stderr",
     "output_type": "stream",
     "text": [
      "[INFO][2024/04/17 05:55:06 PM] Opening HDF file: /mnt/SYNO/macrohet_syno/ND0002/labels/cpv3/(3, 4).h5...\n",
      "INFO:btrack.io.hdf:Opening HDF file: /mnt/SYNO/macrohet_syno/ND0002/labels/cpv3/(3, 4).h5...\n",
      "[INFO][2024/04/17 05:55:57 PM] Loading segmentation (150, 6048, 6048)\n",
      "INFO:btrack.io.hdf:Loading segmentation (150, 6048, 6048)\n",
      "[INFO][2024/04/17 05:55:57 PM] Closing HDF file: /mnt/SYNO/macrohet_syno/ND0002/labels/cpv3/(3, 4).h5\n",
      "INFO:btrack.io.hdf:Closing HDF file: /mnt/SYNO/macrohet_syno/ND0002/labels/cpv3/(3, 4).h5\n"
     ]
    },
    {
     "data": {
      "application/vnd.jupyter.widget-view+json": {
       "model_id": "8ef63ba1fe7c4ca1abc14829368f7603",
       "version_major": 2,
       "version_minor": 0
      },
      "text/plain": [
       "  0%|          | 0/104 [00:00<?, ?it/s]"
      ]
     },
     "metadata": {},
     "output_type": "display_data"
    },
    {
     "name": "stdout",
     "output_type": "stream",
     "text": [
      "Video 106.3.4.ND0002 saved successfully.\n"
     ]
    },
    {
     "name": "stderr",
     "output_type": "stream",
     "text": [
      "[INFO][2024/04/17 06:07:18 PM] Opening HDF file: /mnt/SYNO/macrohet_syno/ND0003/labels/cpv3/(6, 3).h5...\n",
      "INFO:btrack.io.hdf:Opening HDF file: /mnt/SYNO/macrohet_syno/ND0003/labels/cpv3/(6, 3).h5...\n",
      "[INFO][2024/04/17 06:08:07 PM] Loading segmentation (154, 6048, 6048)\n",
      "INFO:btrack.io.hdf:Loading segmentation (154, 6048, 6048)\n",
      "[INFO][2024/04/17 06:08:08 PM] Closing HDF file: /mnt/SYNO/macrohet_syno/ND0003/labels/cpv3/(6, 3).h5\n",
      "INFO:btrack.io.hdf:Closing HDF file: /mnt/SYNO/macrohet_syno/ND0003/labels/cpv3/(6, 3).h5\n"
     ]
    },
    {
     "data": {
      "application/vnd.jupyter.widget-view+json": {
       "model_id": "54ae740e7b7e425bbe26af689ae6edc5",
       "version_major": 2,
       "version_minor": 0
      },
      "text/plain": [
       "  0%|          | 0/74 [00:00<?, ?it/s]"
      ]
     },
     "metadata": {},
     "output_type": "display_data"
    },
    {
     "name": "stdout",
     "output_type": "stream",
     "text": [
      "Video 1566.6.3.ND0003 saved successfully.\n"
     ]
    },
    {
     "name": "stderr",
     "output_type": "stream",
     "text": [
      "[INFO][2024/04/17 06:16:12 PM] Opening HDF file: /mnt/SYNO/macrohet_syno/ND0003/labels/cpv3/(3, 11).h5...\n",
      "INFO:btrack.io.hdf:Opening HDF file: /mnt/SYNO/macrohet_syno/ND0003/labels/cpv3/(3, 11).h5...\n",
      "[INFO][2024/04/17 06:17:13 PM] Loading segmentation (154, 6048, 6048)\n",
      "INFO:btrack.io.hdf:Loading segmentation (154, 6048, 6048)\n",
      "[INFO][2024/04/17 06:17:14 PM] Closing HDF file: /mnt/SYNO/macrohet_syno/ND0003/labels/cpv3/(3, 11).h5\n",
      "INFO:btrack.io.hdf:Closing HDF file: /mnt/SYNO/macrohet_syno/ND0003/labels/cpv3/(3, 11).h5\n"
     ]
    },
    {
     "data": {
      "application/vnd.jupyter.widget-view+json": {
       "model_id": "3106e006701b472fba9fa569ab9ff3f1",
       "version_major": 2,
       "version_minor": 0
      },
      "text/plain": [
       "  0%|          | 0/94 [00:00<?, ?it/s]"
      ]
     },
     "metadata": {},
     "output_type": "display_data"
    },
    {
     "name": "stdout",
     "output_type": "stream",
     "text": [
      "Video 464.3.11.ND0003 saved successfully.\n"
     ]
    },
    {
     "data": {
      "application/vnd.jupyter.widget-view+json": {
       "model_id": "6f71029fd26e4bec8c645f5581735d8a",
       "version_major": 2,
       "version_minor": 0
      },
      "text/plain": [
       "  0%|          | 0/131 [00:00<?, ?it/s]"
      ]
     },
     "metadata": {},
     "output_type": "display_data"
    },
    {
     "name": "stdout",
     "output_type": "stream",
     "text": [
      "Video 1532.3.11.ND0003 saved successfully.\n"
     ]
    },
    {
     "name": "stderr",
     "output_type": "stream",
     "text": [
      "[INFO][2024/04/17 06:40:35 PM] Opening HDF file: /mnt/SYNO/macrohet_syno/ND0002/labels/cpv3/(3, 4).h5...\n",
      "INFO:btrack.io.hdf:Opening HDF file: /mnt/SYNO/macrohet_syno/ND0002/labels/cpv3/(3, 4).h5...\n",
      "[INFO][2024/04/17 06:41:16 PM] Loading segmentation (150, 6048, 6048)\n",
      "INFO:btrack.io.hdf:Loading segmentation (150, 6048, 6048)\n",
      "[INFO][2024/04/17 06:41:17 PM] Closing HDF file: /mnt/SYNO/macrohet_syno/ND0002/labels/cpv3/(3, 4).h5\n",
      "INFO:btrack.io.hdf:Closing HDF file: /mnt/SYNO/macrohet_syno/ND0002/labels/cpv3/(3, 4).h5\n"
     ]
    },
    {
     "data": {
      "application/vnd.jupyter.widget-view+json": {
       "model_id": "7f197128129e4d69ac725bc8a565bce0",
       "version_major": 2,
       "version_minor": 0
      },
      "text/plain": [
       "  0%|          | 0/70 [00:00<?, ?it/s]"
      ]
     },
     "metadata": {},
     "output_type": "display_data"
    },
    {
     "name": "stdout",
     "output_type": "stream",
     "text": [
      "Video 191.3.4.ND0002 saved successfully.\n"
     ]
    },
    {
     "name": "stderr",
     "output_type": "stream",
     "text": [
      "[INFO][2024/04/17 06:49:02 PM] Opening HDF file: /mnt/SYNO/macrohet_syno/ND0002/labels/cpv3/(3, 9).h5...\n",
      "INFO:btrack.io.hdf:Opening HDF file: /mnt/SYNO/macrohet_syno/ND0002/labels/cpv3/(3, 9).h5...\n",
      "[INFO][2024/04/17 06:49:53 PM] Loading segmentation (150, 6048, 6048)\n",
      "INFO:btrack.io.hdf:Loading segmentation (150, 6048, 6048)\n",
      "[INFO][2024/04/17 06:49:53 PM] Closing HDF file: /mnt/SYNO/macrohet_syno/ND0002/labels/cpv3/(3, 9).h5\n",
      "INFO:btrack.io.hdf:Closing HDF file: /mnt/SYNO/macrohet_syno/ND0002/labels/cpv3/(3, 9).h5\n"
     ]
    },
    {
     "data": {
      "application/vnd.jupyter.widget-view+json": {
       "model_id": "da7916b6a5ba4aa1a35260c82c4a68a1",
       "version_major": 2,
       "version_minor": 0
      },
      "text/plain": [
       "  0%|          | 0/88 [00:00<?, ?it/s]"
      ]
     },
     "metadata": {},
     "output_type": "display_data"
    },
    {
     "name": "stdout",
     "output_type": "stream",
     "text": [
      "Video 1167.3.9.ND0002 saved successfully.\n"
     ]
    },
    {
     "name": "stderr",
     "output_type": "stream",
     "text": [
      "[INFO][2024/04/17 06:56:38 PM] Opening HDF file: /mnt/SYNO/macrohet_syno/ND0003/labels/cpv3/(4, 12).h5...\n",
      "INFO:btrack.io.hdf:Opening HDF file: /mnt/SYNO/macrohet_syno/ND0003/labels/cpv3/(4, 12).h5...\n",
      "[INFO][2024/04/17 06:57:26 PM] Loading segmentation (154, 6048, 6048)\n",
      "INFO:btrack.io.hdf:Loading segmentation (154, 6048, 6048)\n",
      "[INFO][2024/04/17 06:57:27 PM] Closing HDF file: /mnt/SYNO/macrohet_syno/ND0003/labels/cpv3/(4, 12).h5\n",
      "INFO:btrack.io.hdf:Closing HDF file: /mnt/SYNO/macrohet_syno/ND0003/labels/cpv3/(4, 12).h5\n"
     ]
    },
    {
     "data": {
      "application/vnd.jupyter.widget-view+json": {
       "model_id": "e49c7a1a57ea4f03930193a49498579f",
       "version_major": 2,
       "version_minor": 0
      },
      "text/plain": [
       "  0%|          | 0/152 [00:00<?, ?it/s]"
      ]
     },
     "metadata": {},
     "output_type": "display_data"
    },
    {
     "name": "stdout",
     "output_type": "stream",
     "text": [
      "Video 209.4.12.ND0003 saved successfully.\n"
     ]
    },
    {
     "name": "stderr",
     "output_type": "stream",
     "text": [
      "[INFO][2024/04/17 07:11:25 PM] Opening HDF file: /mnt/SYNO/macrohet_syno/ND0003/labels/cpv3/(3, 3).h5...\n",
      "INFO:btrack.io.hdf:Opening HDF file: /mnt/SYNO/macrohet_syno/ND0003/labels/cpv3/(3, 3).h5...\n",
      "[INFO][2024/04/17 07:12:21 PM] Loading segmentation (154, 6048, 6048)\n",
      "INFO:btrack.io.hdf:Loading segmentation (154, 6048, 6048)\n",
      "[INFO][2024/04/17 07:12:22 PM] Closing HDF file: /mnt/SYNO/macrohet_syno/ND0003/labels/cpv3/(3, 3).h5\n",
      "INFO:btrack.io.hdf:Closing HDF file: /mnt/SYNO/macrohet_syno/ND0003/labels/cpv3/(3, 3).h5\n"
     ]
    },
    {
     "data": {
      "application/vnd.jupyter.widget-view+json": {
       "model_id": "62df3f2bd15c4c24abac0bbb58a23f58",
       "version_major": 2,
       "version_minor": 0
      },
      "text/plain": [
       "  0%|          | 0/146 [00:00<?, ?it/s]"
      ]
     },
     "metadata": {},
     "output_type": "display_data"
    },
    {
     "name": "stdout",
     "output_type": "stream",
     "text": [
      "Video 800.3.3.ND0003 saved successfully.\n"
     ]
    },
    {
     "name": "stderr",
     "output_type": "stream",
     "text": [
      "[INFO][2024/04/17 07:28:13 PM] Opening HDF file: /mnt/SYNO/macrohet_syno/ND0003/labels/cpv3/(3, 5).h5...\n",
      "INFO:btrack.io.hdf:Opening HDF file: /mnt/SYNO/macrohet_syno/ND0003/labels/cpv3/(3, 5).h5...\n",
      "[INFO][2024/04/17 07:29:06 PM] Loading segmentation (154, 6048, 6048)\n",
      "INFO:btrack.io.hdf:Loading segmentation (154, 6048, 6048)\n",
      "[INFO][2024/04/17 07:29:07 PM] Closing HDF file: /mnt/SYNO/macrohet_syno/ND0003/labels/cpv3/(3, 5).h5\n",
      "INFO:btrack.io.hdf:Closing HDF file: /mnt/SYNO/macrohet_syno/ND0003/labels/cpv3/(3, 5).h5\n"
     ]
    },
    {
     "data": {
      "application/vnd.jupyter.widget-view+json": {
       "model_id": "80e09b3cafad459a9438613e0256f753",
       "version_major": 2,
       "version_minor": 0
      },
      "text/plain": [
       "  0%|          | 0/154 [00:00<?, ?it/s]"
      ]
     },
     "metadata": {},
     "output_type": "display_data"
    },
    {
     "name": "stdout",
     "output_type": "stream",
     "text": [
      "Video 341.3.5.ND0003 saved successfully.\n"
     ]
    },
    {
     "name": "stderr",
     "output_type": "stream",
     "text": [
      "[INFO][2024/04/17 07:45:19 PM] Opening HDF file: /mnt/SYNO/macrohet_syno/ND0003/labels/cpv3/(3, 9).h5...\n",
      "INFO:btrack.io.hdf:Opening HDF file: /mnt/SYNO/macrohet_syno/ND0003/labels/cpv3/(3, 9).h5...\n",
      "[INFO][2024/04/17 07:46:07 PM] Loading segmentation (154, 6048, 6048)\n",
      "INFO:btrack.io.hdf:Loading segmentation (154, 6048, 6048)\n",
      "[INFO][2024/04/17 07:46:07 PM] Closing HDF file: /mnt/SYNO/macrohet_syno/ND0003/labels/cpv3/(3, 9).h5\n",
      "INFO:btrack.io.hdf:Closing HDF file: /mnt/SYNO/macrohet_syno/ND0003/labels/cpv3/(3, 9).h5\n"
     ]
    },
    {
     "data": {
      "application/vnd.jupyter.widget-view+json": {
       "model_id": "24f617582dc54ab7aecddebb3ef4f524",
       "version_major": 2,
       "version_minor": 0
      },
      "text/plain": [
       "  0%|          | 0/85 [00:00<?, ?it/s]"
      ]
     },
     "metadata": {},
     "output_type": "display_data"
    },
    {
     "name": "stdout",
     "output_type": "stream",
     "text": [
      "Video 119.3.9.ND0003 saved successfully.\n"
     ]
    },
    {
     "name": "stderr",
     "output_type": "stream",
     "text": [
      "[INFO][2024/04/17 07:55:10 PM] Opening HDF file: /mnt/SYNO/macrohet_syno/ND0003/labels/cpv3/(4, 3).h5...\n",
      "INFO:btrack.io.hdf:Opening HDF file: /mnt/SYNO/macrohet_syno/ND0003/labels/cpv3/(4, 3).h5...\n",
      "[INFO][2024/04/17 07:56:08 PM] Loading segmentation (154, 6048, 6048)\n",
      "INFO:btrack.io.hdf:Loading segmentation (154, 6048, 6048)\n",
      "[INFO][2024/04/17 07:56:08 PM] Closing HDF file: /mnt/SYNO/macrohet_syno/ND0003/labels/cpv3/(4, 3).h5\n",
      "INFO:btrack.io.hdf:Closing HDF file: /mnt/SYNO/macrohet_syno/ND0003/labels/cpv3/(4, 3).h5\n"
     ]
    },
    {
     "data": {
      "application/vnd.jupyter.widget-view+json": {
       "model_id": "b94cf69c08564586a0eb2812338f1507",
       "version_major": 2,
       "version_minor": 0
      },
      "text/plain": [
       "  0%|          | 0/108 [00:00<?, ?it/s]"
      ]
     },
     "metadata": {},
     "output_type": "display_data"
    },
    {
     "name": "stdout",
     "output_type": "stream",
     "text": [
      "Video 195.4.3.ND0003 saved successfully.\n"
     ]
    },
    {
     "name": "stderr",
     "output_type": "stream",
     "text": [
      "[INFO][2024/04/17 08:07:05 PM] Opening HDF file: /mnt/SYNO/macrohet_syno/ND0003/labels/cpv3/(3, 11).h5...\n",
      "INFO:btrack.io.hdf:Opening HDF file: /mnt/SYNO/macrohet_syno/ND0003/labels/cpv3/(3, 11).h5...\n",
      "[INFO][2024/04/17 08:07:59 PM] Loading segmentation (154, 6048, 6048)\n",
      "INFO:btrack.io.hdf:Loading segmentation (154, 6048, 6048)\n",
      "[INFO][2024/04/17 08:08:00 PM] Closing HDF file: /mnt/SYNO/macrohet_syno/ND0003/labels/cpv3/(3, 11).h5\n",
      "INFO:btrack.io.hdf:Closing HDF file: /mnt/SYNO/macrohet_syno/ND0003/labels/cpv3/(3, 11).h5\n"
     ]
    },
    {
     "data": {
      "application/vnd.jupyter.widget-view+json": {
       "model_id": "5b449071a2c640d088a32f4a80c48106",
       "version_major": 2,
       "version_minor": 0
      },
      "text/plain": [
       "  0%|          | 0/129 [00:00<?, ?it/s]"
      ]
     },
     "metadata": {},
     "output_type": "display_data"
    },
    {
     "name": "stdout",
     "output_type": "stream",
     "text": [
      "Video 288.3.11.ND0003 saved successfully.\n"
     ]
    },
    {
     "name": "stderr",
     "output_type": "stream",
     "text": [
      "[INFO][2024/04/17 08:21:30 PM] Opening HDF file: /mnt/SYNO/macrohet_syno/ND0003/labels/cpv3/(4, 8).h5...\n",
      "INFO:btrack.io.hdf:Opening HDF file: /mnt/SYNO/macrohet_syno/ND0003/labels/cpv3/(4, 8).h5...\n",
      "[INFO][2024/04/17 08:22:25 PM] Loading segmentation (154, 6048, 6048)\n",
      "INFO:btrack.io.hdf:Loading segmentation (154, 6048, 6048)\n",
      "[INFO][2024/04/17 08:22:26 PM] Closing HDF file: /mnt/SYNO/macrohet_syno/ND0003/labels/cpv3/(4, 8).h5\n",
      "INFO:btrack.io.hdf:Closing HDF file: /mnt/SYNO/macrohet_syno/ND0003/labels/cpv3/(4, 8).h5\n"
     ]
    },
    {
     "data": {
      "application/vnd.jupyter.widget-view+json": {
       "model_id": "3395499344fe4fa9920fd61422732f8e",
       "version_major": 2,
       "version_minor": 0
      },
      "text/plain": [
       "  0%|          | 0/109 [00:00<?, ?it/s]"
      ]
     },
     "metadata": {},
     "output_type": "display_data"
    },
    {
     "name": "stdout",
     "output_type": "stream",
     "text": [
      "Video 1766.4.8.ND0003 saved successfully.\n"
     ]
    },
    {
     "name": "stderr",
     "output_type": "stream",
     "text": [
      "[INFO][2024/04/17 08:33:25 PM] Opening HDF file: /mnt/SYNO/macrohet_syno/ND0002/labels/cpv3/(3, 6).h5...\n",
      "INFO:btrack.io.hdf:Opening HDF file: /mnt/SYNO/macrohet_syno/ND0002/labels/cpv3/(3, 6).h5...\n",
      "[INFO][2024/04/17 08:34:25 PM] Loading segmentation (150, 6048, 6048)\n",
      "INFO:btrack.io.hdf:Loading segmentation (150, 6048, 6048)\n",
      "[INFO][2024/04/17 08:34:26 PM] Closing HDF file: /mnt/SYNO/macrohet_syno/ND0002/labels/cpv3/(3, 6).h5\n",
      "INFO:btrack.io.hdf:Closing HDF file: /mnt/SYNO/macrohet_syno/ND0002/labels/cpv3/(3, 6).h5\n"
     ]
    },
    {
     "data": {
      "application/vnd.jupyter.widget-view+json": {
       "model_id": "0340ee87fdc14e67b9b33497458db01b",
       "version_major": 2,
       "version_minor": 0
      },
      "text/plain": [
       "  0%|          | 0/71 [00:00<?, ?it/s]"
      ]
     },
     "metadata": {},
     "output_type": "display_data"
    },
    {
     "name": "stdout",
     "output_type": "stream",
     "text": [
      "Video 56.3.6.ND0002 saved successfully.\n"
     ]
    },
    {
     "name": "stderr",
     "output_type": "stream",
     "text": [
      "[INFO][2024/04/17 08:41:12 PM] Opening HDF file: /mnt/SYNO/macrohet_syno/ND0002/labels/cpv3/(3, 3).h5...\n",
      "INFO:btrack.io.hdf:Opening HDF file: /mnt/SYNO/macrohet_syno/ND0002/labels/cpv3/(3, 3).h5...\n",
      "[INFO][2024/04/17 08:42:07 PM] Loading segmentation (150, 6048, 6048)\n",
      "INFO:btrack.io.hdf:Loading segmentation (150, 6048, 6048)\n",
      "[INFO][2024/04/17 08:42:08 PM] Closing HDF file: /mnt/SYNO/macrohet_syno/ND0002/labels/cpv3/(3, 3).h5\n",
      "INFO:btrack.io.hdf:Closing HDF file: /mnt/SYNO/macrohet_syno/ND0002/labels/cpv3/(3, 3).h5\n"
     ]
    },
    {
     "data": {
      "application/vnd.jupyter.widget-view+json": {
       "model_id": "62e47477a9144877b2c051dc1d8cc026",
       "version_major": 2,
       "version_minor": 0
      },
      "text/plain": [
       "  0%|          | 0/148 [00:00<?, ?it/s]"
      ]
     },
     "metadata": {},
     "output_type": "display_data"
    },
    {
     "name": "stdout",
     "output_type": "stream",
     "text": [
      "Video 305.3.3.ND0002 saved successfully.\n"
     ]
    },
    {
     "name": "stderr",
     "output_type": "stream",
     "text": [
      "[INFO][2024/04/17 08:57:29 PM] Opening HDF file: /mnt/SYNO/macrohet_syno/ND0003/labels/cpv3/(3, 6).h5...\n",
      "INFO:btrack.io.hdf:Opening HDF file: /mnt/SYNO/macrohet_syno/ND0003/labels/cpv3/(3, 6).h5...\n",
      "[INFO][2024/04/17 08:58:28 PM] Loading segmentation (154, 6048, 6048)\n",
      "INFO:btrack.io.hdf:Loading segmentation (154, 6048, 6048)\n",
      "[INFO][2024/04/17 08:58:29 PM] Closing HDF file: /mnt/SYNO/macrohet_syno/ND0003/labels/cpv3/(3, 6).h5\n",
      "INFO:btrack.io.hdf:Closing HDF file: /mnt/SYNO/macrohet_syno/ND0003/labels/cpv3/(3, 6).h5\n"
     ]
    },
    {
     "data": {
      "application/vnd.jupyter.widget-view+json": {
       "model_id": "2442bc8667eb4cefaf9fef1fc244c30e",
       "version_major": 2,
       "version_minor": 0
      },
      "text/plain": [
       "  0%|          | 0/88 [00:00<?, ?it/s]"
      ]
     },
     "metadata": {},
     "output_type": "display_data"
    },
    {
     "name": "stdout",
     "output_type": "stream",
     "text": [
      "Video 2826.3.6.ND0003 saved successfully.\n"
     ]
    },
    {
     "name": "stderr",
     "output_type": "stream",
     "text": [
      "[INFO][2024/04/17 09:07:34 PM] Opening HDF file: /mnt/SYNO/macrohet_syno/ND0003/labels/cpv3/(4, 8).h5...\n",
      "INFO:btrack.io.hdf:Opening HDF file: /mnt/SYNO/macrohet_syno/ND0003/labels/cpv3/(4, 8).h5...\n",
      "[INFO][2024/04/17 09:08:29 PM] Loading segmentation (154, 6048, 6048)\n",
      "INFO:btrack.io.hdf:Loading segmentation (154, 6048, 6048)\n",
      "[INFO][2024/04/17 09:08:30 PM] Closing HDF file: /mnt/SYNO/macrohet_syno/ND0003/labels/cpv3/(4, 8).h5\n",
      "INFO:btrack.io.hdf:Closing HDF file: /mnt/SYNO/macrohet_syno/ND0003/labels/cpv3/(4, 8).h5\n"
     ]
    },
    {
     "data": {
      "application/vnd.jupyter.widget-view+json": {
       "model_id": "42a7370d14ef46debe7e88355af299e6",
       "version_major": 2,
       "version_minor": 0
      },
      "text/plain": [
       "  0%|          | 0/86 [00:00<?, ?it/s]"
      ]
     },
     "metadata": {},
     "output_type": "display_data"
    },
    {
     "name": "stdout",
     "output_type": "stream",
     "text": [
      "Video 3043.4.8.ND0003 saved successfully.\n"
     ]
    },
    {
     "name": "stderr",
     "output_type": "stream",
     "text": [
      "[INFO][2024/04/17 09:17:44 PM] Opening HDF file: /mnt/SYNO/macrohet_syno/ND0002/labels/cpv3/(4, 12).h5...\n",
      "INFO:btrack.io.hdf:Opening HDF file: /mnt/SYNO/macrohet_syno/ND0002/labels/cpv3/(4, 12).h5...\n",
      "[INFO][2024/04/17 09:18:37 PM] Loading segmentation (150, 6048, 6048)\n",
      "INFO:btrack.io.hdf:Loading segmentation (150, 6048, 6048)\n",
      "[INFO][2024/04/17 09:18:38 PM] Closing HDF file: /mnt/SYNO/macrohet_syno/ND0002/labels/cpv3/(4, 12).h5\n",
      "INFO:btrack.io.hdf:Closing HDF file: /mnt/SYNO/macrohet_syno/ND0002/labels/cpv3/(4, 12).h5\n"
     ]
    },
    {
     "data": {
      "application/vnd.jupyter.widget-view+json": {
       "model_id": "f313786add274678bdc9cdf890ac9294",
       "version_major": 2,
       "version_minor": 0
      },
      "text/plain": [
       "  0%|          | 0/117 [00:00<?, ?it/s]"
      ]
     },
     "metadata": {},
     "output_type": "display_data"
    },
    {
     "name": "stdout",
     "output_type": "stream",
     "text": [
      "Video 447.4.12.ND0002 saved successfully.\n"
     ]
    },
    {
     "name": "stderr",
     "output_type": "stream",
     "text": [
      "[INFO][2024/04/17 09:31:06 PM] Opening HDF file: /mnt/SYNO/macrohet_syno/ND0003/labels/cpv3/(4, 4).h5...\n",
      "INFO:btrack.io.hdf:Opening HDF file: /mnt/SYNO/macrohet_syno/ND0003/labels/cpv3/(4, 4).h5...\n",
      "[INFO][2024/04/17 09:31:57 PM] Loading segmentation (154, 6048, 6048)\n",
      "INFO:btrack.io.hdf:Loading segmentation (154, 6048, 6048)\n",
      "[INFO][2024/04/17 09:31:58 PM] Closing HDF file: /mnt/SYNO/macrohet_syno/ND0003/labels/cpv3/(4, 4).h5\n",
      "INFO:btrack.io.hdf:Closing HDF file: /mnt/SYNO/macrohet_syno/ND0003/labels/cpv3/(4, 4).h5\n"
     ]
    },
    {
     "data": {
      "application/vnd.jupyter.widget-view+json": {
       "model_id": "19852fed6a9e43d0811d05f7601843c8",
       "version_major": 2,
       "version_minor": 0
      },
      "text/plain": [
       "  0%|          | 0/110 [00:00<?, ?it/s]"
      ]
     },
     "metadata": {},
     "output_type": "display_data"
    },
    {
     "name": "stdout",
     "output_type": "stream",
     "text": [
      "Video 2295.4.4.ND0003 saved successfully.\n"
     ]
    },
    {
     "name": "stderr",
     "output_type": "stream",
     "text": [
      "[INFO][2024/04/17 09:43:33 PM] Opening HDF file: /mnt/SYNO/macrohet_syno/ND0003/labels/cpv3/(5, 3).h5...\n",
      "INFO:btrack.io.hdf:Opening HDF file: /mnt/SYNO/macrohet_syno/ND0003/labels/cpv3/(5, 3).h5...\n",
      "[INFO][2024/04/17 09:44:25 PM] Loading segmentation (154, 6048, 6048)\n",
      "INFO:btrack.io.hdf:Loading segmentation (154, 6048, 6048)\n",
      "[INFO][2024/04/17 09:44:25 PM] Closing HDF file: /mnt/SYNO/macrohet_syno/ND0003/labels/cpv3/(5, 3).h5\n",
      "INFO:btrack.io.hdf:Closing HDF file: /mnt/SYNO/macrohet_syno/ND0003/labels/cpv3/(5, 3).h5\n"
     ]
    },
    {
     "data": {
      "application/vnd.jupyter.widget-view+json": {
       "model_id": "e5ce4545b5f749ebb4abef0edde4d3ea",
       "version_major": 2,
       "version_minor": 0
      },
      "text/plain": [
       "  0%|          | 0/85 [00:00<?, ?it/s]"
      ]
     },
     "metadata": {},
     "output_type": "display_data"
    },
    {
     "name": "stdout",
     "output_type": "stream",
     "text": [
      "Video 2321.5.3.ND0003 saved successfully.\n"
     ]
    },
    {
     "name": "stderr",
     "output_type": "stream",
     "text": [
      "[INFO][2024/04/17 09:49:28 PM] Opening HDF file: /mnt/SYNO/macrohet_syno/ND0002/labels/cpv3/(4, 9).h5...\n",
      "INFO:btrack.io.hdf:Opening HDF file: /mnt/SYNO/macrohet_syno/ND0002/labels/cpv3/(4, 9).h5...\n",
      "[INFO][2024/04/17 09:50:15 PM] Loading segmentation (150, 6048, 6048)\n",
      "INFO:btrack.io.hdf:Loading segmentation (150, 6048, 6048)\n",
      "[INFO][2024/04/17 09:50:16 PM] Closing HDF file: /mnt/SYNO/macrohet_syno/ND0002/labels/cpv3/(4, 9).h5\n",
      "INFO:btrack.io.hdf:Closing HDF file: /mnt/SYNO/macrohet_syno/ND0002/labels/cpv3/(4, 9).h5\n"
     ]
    },
    {
     "data": {
      "application/vnd.jupyter.widget-view+json": {
       "model_id": "b001086e0da94054a49c5d045591d141",
       "version_major": 2,
       "version_minor": 0
      },
      "text/plain": [
       "  0%|          | 0/119 [00:00<?, ?it/s]"
      ]
     },
     "metadata": {},
     "output_type": "display_data"
    },
    {
     "name": "stdout",
     "output_type": "stream",
     "text": [
      "Video 471.4.9.ND0002 saved successfully.\n"
     ]
    },
    {
     "name": "stderr",
     "output_type": "stream",
     "text": [
      "[INFO][2024/04/17 10:03:20 PM] Opening HDF file: /mnt/SYNO/macrohet_syno/ND0003/labels/cpv3/(4, 6).h5...\n",
      "INFO:btrack.io.hdf:Opening HDF file: /mnt/SYNO/macrohet_syno/ND0003/labels/cpv3/(4, 6).h5...\n",
      "[INFO][2024/04/17 10:04:04 PM] Loading segmentation (154, 6048, 6048)\n",
      "INFO:btrack.io.hdf:Loading segmentation (154, 6048, 6048)\n",
      "[INFO][2024/04/17 10:04:05 PM] Closing HDF file: /mnt/SYNO/macrohet_syno/ND0003/labels/cpv3/(4, 6).h5\n",
      "INFO:btrack.io.hdf:Closing HDF file: /mnt/SYNO/macrohet_syno/ND0003/labels/cpv3/(4, 6).h5\n"
     ]
    },
    {
     "data": {
      "application/vnd.jupyter.widget-view+json": {
       "model_id": "836a9cac87204272a3dab5235dda8e9a",
       "version_major": 2,
       "version_minor": 0
      },
      "text/plain": [
       "  0%|          | 0/102 [00:00<?, ?it/s]"
      ]
     },
     "metadata": {},
     "output_type": "display_data"
    },
    {
     "name": "stdout",
     "output_type": "stream",
     "text": [
      "Video 322.4.6.ND0003 saved successfully.\n"
     ]
    },
    {
     "name": "stderr",
     "output_type": "stream",
     "text": [
      "[INFO][2024/04/17 10:15:03 PM] Opening HDF file: /mnt/SYNO/macrohet_syno/ND0003/labels/cpv3/(4, 3).h5...\n",
      "INFO:btrack.io.hdf:Opening HDF file: /mnt/SYNO/macrohet_syno/ND0003/labels/cpv3/(4, 3).h5...\n",
      "[INFO][2024/04/17 10:15:55 PM] Loading segmentation (154, 6048, 6048)\n",
      "INFO:btrack.io.hdf:Loading segmentation (154, 6048, 6048)\n",
      "[INFO][2024/04/17 10:15:55 PM] Closing HDF file: /mnt/SYNO/macrohet_syno/ND0003/labels/cpv3/(4, 3).h5\n",
      "INFO:btrack.io.hdf:Closing HDF file: /mnt/SYNO/macrohet_syno/ND0003/labels/cpv3/(4, 3).h5\n"
     ]
    },
    {
     "data": {
      "application/vnd.jupyter.widget-view+json": {
       "model_id": "a11032d127604bcaa1e1e11db2974e3d",
       "version_major": 2,
       "version_minor": 0
      },
      "text/plain": [
       "  0%|          | 0/109 [00:00<?, ?it/s]"
      ]
     },
     "metadata": {},
     "output_type": "display_data"
    },
    {
     "name": "stdout",
     "output_type": "stream",
     "text": [
      "Video 2494.4.3.ND0003 saved successfully.\n"
     ]
    },
    {
     "name": "stderr",
     "output_type": "stream",
     "text": [
      "[INFO][2024/04/17 10:27:34 PM] Opening HDF file: /mnt/SYNO/macrohet_syno/ND0003/labels/cpv3/(3, 4).h5...\n",
      "INFO:btrack.io.hdf:Opening HDF file: /mnt/SYNO/macrohet_syno/ND0003/labels/cpv3/(3, 4).h5...\n",
      "[INFO][2024/04/17 10:28:35 PM] Loading segmentation (154, 6048, 6048)\n",
      "INFO:btrack.io.hdf:Loading segmentation (154, 6048, 6048)\n",
      "[INFO][2024/04/17 10:28:36 PM] Closing HDF file: /mnt/SYNO/macrohet_syno/ND0003/labels/cpv3/(3, 4).h5\n",
      "INFO:btrack.io.hdf:Closing HDF file: /mnt/SYNO/macrohet_syno/ND0003/labels/cpv3/(3, 4).h5\n"
     ]
    },
    {
     "data": {
      "application/vnd.jupyter.widget-view+json": {
       "model_id": "3471d4a9407740f998c8253ab51fb0eb",
       "version_major": 2,
       "version_minor": 0
      },
      "text/plain": [
       "  0%|          | 0/150 [00:00<?, ?it/s]"
      ]
     },
     "metadata": {},
     "output_type": "display_data"
    },
    {
     "name": "stdout",
     "output_type": "stream",
     "text": [
      "Video 582.3.4.ND0003 saved successfully.\n"
     ]
    },
    {
     "name": "stderr",
     "output_type": "stream",
     "text": [
      "[INFO][2024/04/17 10:44:07 PM] Opening HDF file: /mnt/SYNO/macrohet_syno/ND0002/labels/cpv3/(4, 4).h5...\n",
      "INFO:btrack.io.hdf:Opening HDF file: /mnt/SYNO/macrohet_syno/ND0002/labels/cpv3/(4, 4).h5...\n",
      "[INFO][2024/04/17 10:44:50 PM] Loading segmentation (150, 6048, 6048)\n",
      "INFO:btrack.io.hdf:Loading segmentation (150, 6048, 6048)\n",
      "[INFO][2024/04/17 10:44:51 PM] Closing HDF file: /mnt/SYNO/macrohet_syno/ND0002/labels/cpv3/(4, 4).h5\n",
      "INFO:btrack.io.hdf:Closing HDF file: /mnt/SYNO/macrohet_syno/ND0002/labels/cpv3/(4, 4).h5\n"
     ]
    },
    {
     "data": {
      "application/vnd.jupyter.widget-view+json": {
       "model_id": "0330795d67bf4d96b7bce1e72c4203ad",
       "version_major": 2,
       "version_minor": 0
      },
      "text/plain": [
       "  0%|          | 0/90 [00:00<?, ?it/s]"
      ]
     },
     "metadata": {},
     "output_type": "display_data"
    },
    {
     "name": "stdout",
     "output_type": "stream",
     "text": [
      "Video 798.4.4.ND0002 saved successfully.\n"
     ]
    },
    {
     "name": "stderr",
     "output_type": "stream",
     "text": [
      "[INFO][2024/04/17 10:51:47 PM] Opening HDF file: /mnt/SYNO/macrohet_syno/ND0002/labels/cpv3/(5, 6).h5...\n",
      "INFO:btrack.io.hdf:Opening HDF file: /mnt/SYNO/macrohet_syno/ND0002/labels/cpv3/(5, 6).h5...\n",
      "[INFO][2024/04/17 10:52:33 PM] Loading segmentation (150, 6048, 6048)\n",
      "INFO:btrack.io.hdf:Loading segmentation (150, 6048, 6048)\n",
      "[INFO][2024/04/17 10:52:34 PM] Closing HDF file: /mnt/SYNO/macrohet_syno/ND0002/labels/cpv3/(5, 6).h5\n",
      "INFO:btrack.io.hdf:Closing HDF file: /mnt/SYNO/macrohet_syno/ND0002/labels/cpv3/(5, 6).h5\n"
     ]
    },
    {
     "data": {
      "application/vnd.jupyter.widget-view+json": {
       "model_id": "7381fc042cbe48e6a03e2c770b4a441d",
       "version_major": 2,
       "version_minor": 0
      },
      "text/plain": [
       "  0%|          | 0/116 [00:00<?, ?it/s]"
      ]
     },
     "metadata": {},
     "output_type": "display_data"
    },
    {
     "name": "stdout",
     "output_type": "stream",
     "text": [
      "Video 903.5.6.ND0002 saved successfully.\n"
     ]
    },
    {
     "name": "stderr",
     "output_type": "stream",
     "text": [
      "[INFO][2024/04/17 11:04:13 PM] Opening HDF file: /mnt/SYNO/macrohet_syno/ND0003/labels/cpv3/(4, 4).h5...\n",
      "INFO:btrack.io.hdf:Opening HDF file: /mnt/SYNO/macrohet_syno/ND0003/labels/cpv3/(4, 4).h5...\n",
      "[INFO][2024/04/17 11:04:49 PM] Loading segmentation (154, 6048, 6048)\n",
      "INFO:btrack.io.hdf:Loading segmentation (154, 6048, 6048)\n",
      "[INFO][2024/04/17 11:04:49 PM] Closing HDF file: /mnt/SYNO/macrohet_syno/ND0003/labels/cpv3/(4, 4).h5\n",
      "INFO:btrack.io.hdf:Closing HDF file: /mnt/SYNO/macrohet_syno/ND0003/labels/cpv3/(4, 4).h5\n"
     ]
    },
    {
     "data": {
      "application/vnd.jupyter.widget-view+json": {
       "model_id": "8822ec346de24d848c121a9a57339044",
       "version_major": 2,
       "version_minor": 0
      },
      "text/plain": [
       "  0%|          | 0/111 [00:00<?, ?it/s]"
      ]
     },
     "metadata": {},
     "output_type": "display_data"
    },
    {
     "name": "stdout",
     "output_type": "stream",
     "text": [
      "Video 269.4.4.ND0003 saved successfully.\n"
     ]
    },
    {
     "name": "stderr",
     "output_type": "stream",
     "text": [
      "[INFO][2024/04/17 11:17:10 PM] Opening HDF file: /mnt/SYNO/macrohet_syno/ND0003/labels/cpv3/(4, 11).h5...\n",
      "INFO:btrack.io.hdf:Opening HDF file: /mnt/SYNO/macrohet_syno/ND0003/labels/cpv3/(4, 11).h5...\n",
      "[INFO][2024/04/17 11:17:55 PM] Loading segmentation (154, 6048, 6048)\n",
      "INFO:btrack.io.hdf:Loading segmentation (154, 6048, 6048)\n",
      "[INFO][2024/04/17 11:17:55 PM] Closing HDF file: /mnt/SYNO/macrohet_syno/ND0003/labels/cpv3/(4, 11).h5\n",
      "INFO:btrack.io.hdf:Closing HDF file: /mnt/SYNO/macrohet_syno/ND0003/labels/cpv3/(4, 11).h5\n"
     ]
    },
    {
     "data": {
      "application/vnd.jupyter.widget-view+json": {
       "model_id": "0d1e1af10d1a4fb9a494e1f862879c0e",
       "version_major": 2,
       "version_minor": 0
      },
      "text/plain": [
       "  0%|          | 0/76 [00:00<?, ?it/s]"
      ]
     },
     "metadata": {},
     "output_type": "display_data"
    },
    {
     "name": "stdout",
     "output_type": "stream",
     "text": [
      "Video 1532.4.11.ND0003 saved successfully.\n"
     ]
    },
    {
     "name": "stderr",
     "output_type": "stream",
     "text": [
      "[INFO][2024/04/17 11:26:05 PM] Opening HDF file: /mnt/SYNO/macrohet_syno/ND0002/labels/cpv3/(5, 7).h5...\n",
      "INFO:btrack.io.hdf:Opening HDF file: /mnt/SYNO/macrohet_syno/ND0002/labels/cpv3/(5, 7).h5...\n",
      "[INFO][2024/04/17 11:26:47 PM] Loading segmentation (150, 6048, 6048)\n",
      "INFO:btrack.io.hdf:Loading segmentation (150, 6048, 6048)\n",
      "[INFO][2024/04/17 11:26:48 PM] Closing HDF file: /mnt/SYNO/macrohet_syno/ND0002/labels/cpv3/(5, 7).h5\n",
      "INFO:btrack.io.hdf:Closing HDF file: /mnt/SYNO/macrohet_syno/ND0002/labels/cpv3/(5, 7).h5\n"
     ]
    },
    {
     "data": {
      "application/vnd.jupyter.widget-view+json": {
       "model_id": "d10c185d58814ddab48bc006b4d3ee66",
       "version_major": 2,
       "version_minor": 0
      },
      "text/plain": [
       "  0%|          | 0/85 [00:00<?, ?it/s]"
      ]
     },
     "metadata": {},
     "output_type": "display_data"
    },
    {
     "name": "stdout",
     "output_type": "stream",
     "text": [
      "Video 273.5.7.ND0002 saved successfully.\n"
     ]
    },
    {
     "name": "stderr",
     "output_type": "stream",
     "text": [
      "[INFO][2024/04/17 11:35:52 PM] Opening HDF file: /mnt/SYNO/macrohet_syno/ND0002/labels/cpv3/(5, 4).h5...\n",
      "INFO:btrack.io.hdf:Opening HDF file: /mnt/SYNO/macrohet_syno/ND0002/labels/cpv3/(5, 4).h5...\n",
      "[INFO][2024/04/17 11:36:41 PM] Loading segmentation (150, 6048, 6048)\n",
      "INFO:btrack.io.hdf:Loading segmentation (150, 6048, 6048)\n",
      "[INFO][2024/04/17 11:36:41 PM] Closing HDF file: /mnt/SYNO/macrohet_syno/ND0002/labels/cpv3/(5, 4).h5\n",
      "INFO:btrack.io.hdf:Closing HDF file: /mnt/SYNO/macrohet_syno/ND0002/labels/cpv3/(5, 4).h5\n"
     ]
    },
    {
     "data": {
      "application/vnd.jupyter.widget-view+json": {
       "model_id": "04c5010ff537402992b8408811e1ea95",
       "version_major": 2,
       "version_minor": 0
      },
      "text/plain": [
       "  0%|          | 0/97 [00:00<?, ?it/s]"
      ]
     },
     "metadata": {},
     "output_type": "display_data"
    },
    {
     "name": "stdout",
     "output_type": "stream",
     "text": [
      "Video 1479.5.4.ND0002 saved successfully.\n"
     ]
    },
    {
     "name": "stderr",
     "output_type": "stream",
     "text": [
      "[INFO][2024/04/17 11:47:23 PM] Opening HDF file: /mnt/SYNO/macrohet_syno/ND0003/labels/cpv3/(3, 4).h5...\n",
      "INFO:btrack.io.hdf:Opening HDF file: /mnt/SYNO/macrohet_syno/ND0003/labels/cpv3/(3, 4).h5...\n",
      "[INFO][2024/04/17 11:48:22 PM] Loading segmentation (154, 6048, 6048)\n",
      "INFO:btrack.io.hdf:Loading segmentation (154, 6048, 6048)\n",
      "[INFO][2024/04/17 11:48:23 PM] Closing HDF file: /mnt/SYNO/macrohet_syno/ND0003/labels/cpv3/(3, 4).h5\n",
      "INFO:btrack.io.hdf:Closing HDF file: /mnt/SYNO/macrohet_syno/ND0003/labels/cpv3/(3, 4).h5\n"
     ]
    },
    {
     "data": {
      "application/vnd.jupyter.widget-view+json": {
       "model_id": "3a43efe5245f45359dc6c0ff3c8bf1bd",
       "version_major": 2,
       "version_minor": 0
      },
      "text/plain": [
       "  0%|          | 0/152 [00:00<?, ?it/s]"
      ]
     },
     "metadata": {},
     "output_type": "display_data"
    },
    {
     "name": "stdout",
     "output_type": "stream",
     "text": [
      "Video 481.3.4.ND0003 saved successfully.\n"
     ]
    },
    {
     "name": "stderr",
     "output_type": "stream",
     "text": [
      "[INFO][2024/04/18 12:05:10 AM] Opening HDF file: /mnt/SYNO/macrohet_syno/ND0003/labels/cpv3/(5, 3).h5...\n",
      "INFO:btrack.io.hdf:Opening HDF file: /mnt/SYNO/macrohet_syno/ND0003/labels/cpv3/(5, 3).h5...\n",
      "[INFO][2024/04/18 12:05:38 AM] Loading segmentation (154, 6048, 6048)\n",
      "INFO:btrack.io.hdf:Loading segmentation (154, 6048, 6048)\n",
      "[INFO][2024/04/18 12:05:39 AM] Closing HDF file: /mnt/SYNO/macrohet_syno/ND0003/labels/cpv3/(5, 3).h5\n",
      "INFO:btrack.io.hdf:Closing HDF file: /mnt/SYNO/macrohet_syno/ND0003/labels/cpv3/(5, 3).h5\n"
     ]
    },
    {
     "data": {
      "application/vnd.jupyter.widget-view+json": {
       "model_id": "469b01bc427f4864b9d9dd2121ae05bd",
       "version_major": 2,
       "version_minor": 0
      },
      "text/plain": [
       "  0%|          | 0/149 [00:00<?, ?it/s]"
      ]
     },
     "metadata": {},
     "output_type": "display_data"
    },
    {
     "name": "stdout",
     "output_type": "stream",
     "text": [
      "Video 188.5.3.ND0003 saved successfully.\n"
     ]
    },
    {
     "name": "stderr",
     "output_type": "stream",
     "text": [
      "[INFO][2024/04/18 12:14:45 AM] Opening HDF file: /mnt/SYNO/macrohet_syno/ND0002/labels/cpv3/(4, 5).h5...\n",
      "INFO:btrack.io.hdf:Opening HDF file: /mnt/SYNO/macrohet_syno/ND0002/labels/cpv3/(4, 5).h5...\n",
      "[INFO][2024/04/18 12:15:38 AM] Loading segmentation (150, 6048, 6048)\n",
      "INFO:btrack.io.hdf:Loading segmentation (150, 6048, 6048)\n",
      "[INFO][2024/04/18 12:15:38 AM] Closing HDF file: /mnt/SYNO/macrohet_syno/ND0002/labels/cpv3/(4, 5).h5\n",
      "INFO:btrack.io.hdf:Closing HDF file: /mnt/SYNO/macrohet_syno/ND0002/labels/cpv3/(4, 5).h5\n"
     ]
    },
    {
     "data": {
      "application/vnd.jupyter.widget-view+json": {
       "model_id": "d9c2793790d146598c8a9e9f083bd837",
       "version_major": 2,
       "version_minor": 0
      },
      "text/plain": [
       "  0%|          | 0/96 [00:00<?, ?it/s]"
      ]
     },
     "metadata": {},
     "output_type": "display_data"
    },
    {
     "name": "stdout",
     "output_type": "stream",
     "text": [
      "Video 1808.4.5.ND0002 saved successfully.\n"
     ]
    },
    {
     "name": "stderr",
     "output_type": "stream",
     "text": [
      "[INFO][2024/04/18 12:25:17 AM] Opening HDF file: /mnt/SYNO/macrohet_syno/ND0003/labels/cpv3/(3, 4).h5...\n",
      "INFO:btrack.io.hdf:Opening HDF file: /mnt/SYNO/macrohet_syno/ND0003/labels/cpv3/(3, 4).h5...\n",
      "[INFO][2024/04/18 12:25:50 AM] Loading segmentation (154, 6048, 6048)\n",
      "INFO:btrack.io.hdf:Loading segmentation (154, 6048, 6048)\n",
      "[INFO][2024/04/18 12:25:51 AM] Closing HDF file: /mnt/SYNO/macrohet_syno/ND0003/labels/cpv3/(3, 4).h5\n",
      "INFO:btrack.io.hdf:Closing HDF file: /mnt/SYNO/macrohet_syno/ND0003/labels/cpv3/(3, 4).h5\n"
     ]
    },
    {
     "data": {
      "application/vnd.jupyter.widget-view+json": {
       "model_id": "840e182a4bad4d05b4b27ccb2ce8f605",
       "version_major": 2,
       "version_minor": 0
      },
      "text/plain": [
       "  0%|          | 0/108 [00:00<?, ?it/s]"
      ]
     },
     "metadata": {},
     "output_type": "display_data"
    },
    {
     "name": "stdout",
     "output_type": "stream",
     "text": [
      "Video 1232.3.4.ND0003 saved successfully.\n"
     ]
    },
    {
     "name": "stderr",
     "output_type": "stream",
     "text": [
      "[INFO][2024/04/18 12:36:34 AM] Opening HDF file: /mnt/SYNO/macrohet_syno/ND0003/labels/cpv3/(4, 4).h5...\n",
      "INFO:btrack.io.hdf:Opening HDF file: /mnt/SYNO/macrohet_syno/ND0003/labels/cpv3/(4, 4).h5...\n",
      "[INFO][2024/04/18 12:37:08 AM] Loading segmentation (154, 6048, 6048)\n",
      "INFO:btrack.io.hdf:Loading segmentation (154, 6048, 6048)\n",
      "[INFO][2024/04/18 12:37:08 AM] Closing HDF file: /mnt/SYNO/macrohet_syno/ND0003/labels/cpv3/(4, 4).h5\n",
      "INFO:btrack.io.hdf:Closing HDF file: /mnt/SYNO/macrohet_syno/ND0003/labels/cpv3/(4, 4).h5\n"
     ]
    },
    {
     "data": {
      "application/vnd.jupyter.widget-view+json": {
       "model_id": "81953606f8be43dd873a8c1ef1fd4c5a",
       "version_major": 2,
       "version_minor": 0
      },
      "text/plain": [
       "  0%|          | 0/85 [00:00<?, ?it/s]"
      ]
     },
     "metadata": {},
     "output_type": "display_data"
    },
    {
     "name": "stdout",
     "output_type": "stream",
     "text": [
      "Video 394.4.4.ND0003 saved successfully.\n"
     ]
    },
    {
     "data": {
      "application/vnd.jupyter.widget-view+json": {
       "model_id": "967c82e7b21444aa96a80e51aa88621f",
       "version_major": 2,
       "version_minor": 0
      },
      "text/plain": [
       "  0%|          | 0/71 [00:00<?, ?it/s]"
      ]
     },
     "metadata": {},
     "output_type": "display_data"
    },
    {
     "name": "stdout",
     "output_type": "stream",
     "text": [
      "Video 3744.4.4.ND0003 saved successfully.\n"
     ]
    },
    {
     "name": "stderr",
     "output_type": "stream",
     "text": [
      "[INFO][2024/04/18 12:51:59 AM] Opening HDF file: /mnt/SYNO/macrohet_syno/ND0003/labels/cpv3/(3, 12).h5...\n",
      "INFO:btrack.io.hdf:Opening HDF file: /mnt/SYNO/macrohet_syno/ND0003/labels/cpv3/(3, 12).h5...\n",
      "[INFO][2024/04/18 12:52:51 AM] Loading segmentation (154, 6048, 6048)\n",
      "INFO:btrack.io.hdf:Loading segmentation (154, 6048, 6048)\n",
      "[INFO][2024/04/18 12:52:51 AM] Closing HDF file: /mnt/SYNO/macrohet_syno/ND0003/labels/cpv3/(3, 12).h5\n",
      "INFO:btrack.io.hdf:Closing HDF file: /mnt/SYNO/macrohet_syno/ND0003/labels/cpv3/(3, 12).h5\n"
     ]
    },
    {
     "data": {
      "application/vnd.jupyter.widget-view+json": {
       "model_id": "ffe310ecb0224525a090142a36064295",
       "version_major": 2,
       "version_minor": 0
      },
      "text/plain": [
       "  0%|          | 0/127 [00:00<?, ?it/s]"
      ]
     },
     "metadata": {},
     "output_type": "display_data"
    },
    {
     "name": "stdout",
     "output_type": "stream",
     "text": [
      "Video 242.3.12.ND0003 saved successfully.\n"
     ]
    },
    {
     "name": "stderr",
     "output_type": "stream",
     "text": [
      "[INFO][2024/04/18 01:06:08 AM] Opening HDF file: /mnt/SYNO/macrohet_syno/ND0003/labels/cpv3/(4, 4).h5...\n",
      "INFO:btrack.io.hdf:Opening HDF file: /mnt/SYNO/macrohet_syno/ND0003/labels/cpv3/(4, 4).h5...\n",
      "[INFO][2024/04/18 01:07:01 AM] Loading segmentation (154, 6048, 6048)\n",
      "INFO:btrack.io.hdf:Loading segmentation (154, 6048, 6048)\n",
      "[INFO][2024/04/18 01:07:01 AM] Closing HDF file: /mnt/SYNO/macrohet_syno/ND0003/labels/cpv3/(4, 4).h5\n",
      "INFO:btrack.io.hdf:Closing HDF file: /mnt/SYNO/macrohet_syno/ND0003/labels/cpv3/(4, 4).h5\n"
     ]
    },
    {
     "data": {
      "application/vnd.jupyter.widget-view+json": {
       "model_id": "1b23011d52c2411d973d19b2ae637e16",
       "version_major": 2,
       "version_minor": 0
      },
      "text/plain": [
       "  0%|          | 0/132 [00:00<?, ?it/s]"
      ]
     },
     "metadata": {},
     "output_type": "display_data"
    },
    {
     "name": "stdout",
     "output_type": "stream",
     "text": [
      "Video 1354.4.4.ND0003 saved successfully.\n"
     ]
    },
    {
     "name": "stderr",
     "output_type": "stream",
     "text": [
      "[INFO][2024/04/18 01:20:23 AM] Opening HDF file: /mnt/SYNO/macrohet_syno/ND0003/labels/cpv3/(4, 7).h5...\n",
      "INFO:btrack.io.hdf:Opening HDF file: /mnt/SYNO/macrohet_syno/ND0003/labels/cpv3/(4, 7).h5...\n",
      "[INFO][2024/04/18 01:21:08 AM] Loading segmentation (154, 6048, 6048)\n",
      "INFO:btrack.io.hdf:Loading segmentation (154, 6048, 6048)\n",
      "[INFO][2024/04/18 01:21:09 AM] Closing HDF file: /mnt/SYNO/macrohet_syno/ND0003/labels/cpv3/(4, 7).h5\n",
      "INFO:btrack.io.hdf:Closing HDF file: /mnt/SYNO/macrohet_syno/ND0003/labels/cpv3/(4, 7).h5\n"
     ]
    },
    {
     "data": {
      "application/vnd.jupyter.widget-view+json": {
       "model_id": "b5e2f5595b574bc7877ca58f448105ae",
       "version_major": 2,
       "version_minor": 0
      },
      "text/plain": [
       "  0%|          | 0/77 [00:00<?, ?it/s]"
      ]
     },
     "metadata": {},
     "output_type": "display_data"
    },
    {
     "name": "stdout",
     "output_type": "stream",
     "text": [
      "Video 1688.4.7.ND0003 saved successfully.\n"
     ]
    },
    {
     "name": "stderr",
     "output_type": "stream",
     "text": [
      "[INFO][2024/04/18 01:27:47 AM] Opening HDF file: /mnt/SYNO/macrohet_syno/ND0003/labels/cpv3/(3, 4).h5...\n",
      "INFO:btrack.io.hdf:Opening HDF file: /mnt/SYNO/macrohet_syno/ND0003/labels/cpv3/(3, 4).h5...\n",
      "[INFO][2024/04/18 01:28:30 AM] Loading segmentation (154, 6048, 6048)\n",
      "INFO:btrack.io.hdf:Loading segmentation (154, 6048, 6048)\n",
      "[INFO][2024/04/18 01:28:30 AM] Closing HDF file: /mnt/SYNO/macrohet_syno/ND0003/labels/cpv3/(3, 4).h5\n",
      "INFO:btrack.io.hdf:Closing HDF file: /mnt/SYNO/macrohet_syno/ND0003/labels/cpv3/(3, 4).h5\n"
     ]
    },
    {
     "data": {
      "application/vnd.jupyter.widget-view+json": {
       "model_id": "2ec97922414c4a8aa71e4cb68083f88a",
       "version_major": 2,
       "version_minor": 0
      },
      "text/plain": [
       "  0%|          | 0/145 [00:00<?, ?it/s]"
      ]
     },
     "metadata": {},
     "output_type": "display_data"
    },
    {
     "name": "stdout",
     "output_type": "stream",
     "text": [
      "Video 785.3.4.ND0003 saved successfully.\n"
     ]
    },
    {
     "name": "stderr",
     "output_type": "stream",
     "text": [
      "[INFO][2024/04/18 01:44:47 AM] Opening HDF file: /mnt/SYNO/macrohet_syno/ND0003/labels/cpv3/(3, 9).h5...\n",
      "INFO:btrack.io.hdf:Opening HDF file: /mnt/SYNO/macrohet_syno/ND0003/labels/cpv3/(3, 9).h5...\n",
      "[INFO][2024/04/18 01:45:37 AM] Loading segmentation (154, 6048, 6048)\n",
      "INFO:btrack.io.hdf:Loading segmentation (154, 6048, 6048)\n",
      "[INFO][2024/04/18 01:45:37 AM] Closing HDF file: /mnt/SYNO/macrohet_syno/ND0003/labels/cpv3/(3, 9).h5\n",
      "INFO:btrack.io.hdf:Closing HDF file: /mnt/SYNO/macrohet_syno/ND0003/labels/cpv3/(3, 9).h5\n"
     ]
    },
    {
     "data": {
      "application/vnd.jupyter.widget-view+json": {
       "model_id": "47bcac3d31d246edab67e08b9e146ac1",
       "version_major": 2,
       "version_minor": 0
      },
      "text/plain": [
       "  0%|          | 0/105 [00:00<?, ?it/s]"
      ]
     },
     "metadata": {},
     "output_type": "display_data"
    },
    {
     "name": "stdout",
     "output_type": "stream",
     "text": [
      "Video 1073.3.9.ND0003 saved successfully.\n"
     ]
    },
    {
     "name": "stderr",
     "output_type": "stream",
     "text": [
      "[INFO][2024/04/18 01:56:44 AM] Opening HDF file: /mnt/SYNO/macrohet_syno/ND0002/labels/cpv3/(3, 4).h5...\n",
      "INFO:btrack.io.hdf:Opening HDF file: /mnt/SYNO/macrohet_syno/ND0002/labels/cpv3/(3, 4).h5...\n",
      "[INFO][2024/04/18 01:57:32 AM] Loading segmentation (150, 6048, 6048)\n",
      "INFO:btrack.io.hdf:Loading segmentation (150, 6048, 6048)\n",
      "[INFO][2024/04/18 01:57:33 AM] Closing HDF file: /mnt/SYNO/macrohet_syno/ND0002/labels/cpv3/(3, 4).h5\n",
      "INFO:btrack.io.hdf:Closing HDF file: /mnt/SYNO/macrohet_syno/ND0002/labels/cpv3/(3, 4).h5\n"
     ]
    },
    {
     "data": {
      "application/vnd.jupyter.widget-view+json": {
       "model_id": "7ab6276fced74a14a59c2d8bf9b07f37",
       "version_major": 2,
       "version_minor": 0
      },
      "text/plain": [
       "  0%|          | 0/150 [00:00<?, ?it/s]"
      ]
     },
     "metadata": {},
     "output_type": "display_data"
    },
    {
     "name": "stdout",
     "output_type": "stream",
     "text": [
      "Video 131.3.4.ND0002 saved successfully.\n"
     ]
    },
    {
     "name": "stderr",
     "output_type": "stream",
     "text": [
      "[INFO][2024/04/18 02:10:25 AM] Opening HDF file: /mnt/SYNO/macrohet_syno/ND0003/labels/cpv3/(6, 7).h5...\n",
      "INFO:btrack.io.hdf:Opening HDF file: /mnt/SYNO/macrohet_syno/ND0003/labels/cpv3/(6, 7).h5...\n",
      "[INFO][2024/04/18 02:11:40 AM] Loading segmentation (154, 6048, 6048)\n",
      "INFO:btrack.io.hdf:Loading segmentation (154, 6048, 6048)\n",
      "[INFO][2024/04/18 02:11:40 AM] Closing HDF file: /mnt/SYNO/macrohet_syno/ND0003/labels/cpv3/(6, 7).h5\n",
      "INFO:btrack.io.hdf:Closing HDF file: /mnt/SYNO/macrohet_syno/ND0003/labels/cpv3/(6, 7).h5\n"
     ]
    },
    {
     "data": {
      "application/vnd.jupyter.widget-view+json": {
       "model_id": "26b2366d2fe948c68706601ef3825adc",
       "version_major": 2,
       "version_minor": 0
      },
      "text/plain": [
       "  0%|          | 0/154 [00:00<?, ?it/s]"
      ]
     },
     "metadata": {},
     "output_type": "display_data"
    },
    {
     "name": "stdout",
     "output_type": "stream",
     "text": [
      "Video 133.6.7.ND0003 saved successfully.\n"
     ]
    },
    {
     "name": "stderr",
     "output_type": "stream",
     "text": [
      "[INFO][2024/04/18 02:25:55 AM] Opening HDF file: /mnt/SYNO/macrohet_syno/ND0003/labels/cpv3/(3, 9).h5...\n",
      "INFO:btrack.io.hdf:Opening HDF file: /mnt/SYNO/macrohet_syno/ND0003/labels/cpv3/(3, 9).h5...\n",
      "[INFO][2024/04/18 02:26:30 AM] Loading segmentation (154, 6048, 6048)\n",
      "INFO:btrack.io.hdf:Loading segmentation (154, 6048, 6048)\n",
      "[INFO][2024/04/18 02:26:30 AM] Closing HDF file: /mnt/SYNO/macrohet_syno/ND0003/labels/cpv3/(3, 9).h5\n",
      "INFO:btrack.io.hdf:Closing HDF file: /mnt/SYNO/macrohet_syno/ND0003/labels/cpv3/(3, 9).h5\n"
     ]
    },
    {
     "data": {
      "application/vnd.jupyter.widget-view+json": {
       "model_id": "3c635a33c11242d2baa59dd3f7b24592",
       "version_major": 2,
       "version_minor": 0
      },
      "text/plain": [
       "  0%|          | 0/154 [00:00<?, ?it/s]"
      ]
     },
     "metadata": {},
     "output_type": "display_data"
    },
    {
     "name": "stdout",
     "output_type": "stream",
     "text": [
      "Video 331.3.9.ND0003 saved successfully.\n"
     ]
    },
    {
     "name": "stderr",
     "output_type": "stream",
     "text": [
      "[INFO][2024/04/18 02:42:56 AM] Opening HDF file: /mnt/SYNO/macrohet_syno/ND0002/labels/cpv3/(3, 10).h5...\n",
      "INFO:btrack.io.hdf:Opening HDF file: /mnt/SYNO/macrohet_syno/ND0002/labels/cpv3/(3, 10).h5...\n",
      "[INFO][2024/04/18 02:43:25 AM] Loading segmentation (150, 6048, 6048)\n",
      "INFO:btrack.io.hdf:Loading segmentation (150, 6048, 6048)\n",
      "[INFO][2024/04/18 02:43:25 AM] Closing HDF file: /mnt/SYNO/macrohet_syno/ND0002/labels/cpv3/(3, 10).h5\n",
      "INFO:btrack.io.hdf:Closing HDF file: /mnt/SYNO/macrohet_syno/ND0002/labels/cpv3/(3, 10).h5\n"
     ]
    },
    {
     "data": {
      "application/vnd.jupyter.widget-view+json": {
       "model_id": "8d43c9c6bab24dc4a077ee5598b91938",
       "version_major": 2,
       "version_minor": 0
      },
      "text/plain": [
       "  0%|          | 0/140 [00:00<?, ?it/s]"
      ]
     },
     "metadata": {},
     "output_type": "display_data"
    },
    {
     "name": "stdout",
     "output_type": "stream",
     "text": [
      "Video 342.3.10.ND0002 saved successfully.\n"
     ]
    },
    {
     "name": "stderr",
     "output_type": "stream",
     "text": [
      "[INFO][2024/04/18 02:58:14 AM] Opening HDF file: /mnt/SYNO/macrohet_syno/ND0003/labels/cpv3/(3, 8).h5...\n",
      "INFO:btrack.io.hdf:Opening HDF file: /mnt/SYNO/macrohet_syno/ND0003/labels/cpv3/(3, 8).h5...\n",
      "[INFO][2024/04/18 02:58:59 AM] Loading segmentation (154, 6048, 6048)\n",
      "INFO:btrack.io.hdf:Loading segmentation (154, 6048, 6048)\n",
      "[INFO][2024/04/18 02:58:59 AM] Closing HDF file: /mnt/SYNO/macrohet_syno/ND0003/labels/cpv3/(3, 8).h5\n",
      "INFO:btrack.io.hdf:Closing HDF file: /mnt/SYNO/macrohet_syno/ND0003/labels/cpv3/(3, 8).h5\n"
     ]
    },
    {
     "data": {
      "application/vnd.jupyter.widget-view+json": {
       "model_id": "f493677e874647c59c345f87d142a73c",
       "version_major": 2,
       "version_minor": 0
      },
      "text/plain": [
       "  0%|          | 0/75 [00:00<?, ?it/s]"
      ]
     },
     "metadata": {},
     "output_type": "display_data"
    },
    {
     "name": "stdout",
     "output_type": "stream",
     "text": [
      "Video 3376.3.8.ND0003 saved successfully.\n"
     ]
    },
    {
     "name": "stderr",
     "output_type": "stream",
     "text": [
      "[INFO][2024/04/18 03:04:52 AM] Opening HDF file: /mnt/SYNO/macrohet_syno/ND0003/labels/cpv3/(4, 4).h5...\n",
      "INFO:btrack.io.hdf:Opening HDF file: /mnt/SYNO/macrohet_syno/ND0003/labels/cpv3/(4, 4).h5...\n",
      "[INFO][2024/04/18 03:05:43 AM] Loading segmentation (154, 6048, 6048)\n",
      "INFO:btrack.io.hdf:Loading segmentation (154, 6048, 6048)\n",
      "[INFO][2024/04/18 03:05:44 AM] Closing HDF file: /mnt/SYNO/macrohet_syno/ND0003/labels/cpv3/(4, 4).h5\n",
      "INFO:btrack.io.hdf:Closing HDF file: /mnt/SYNO/macrohet_syno/ND0003/labels/cpv3/(4, 4).h5\n"
     ]
    },
    {
     "data": {
      "application/vnd.jupyter.widget-view+json": {
       "model_id": "7164110e50bb44448962bcebeb498fe2",
       "version_major": 2,
       "version_minor": 0
      },
      "text/plain": [
       "  0%|          | 0/96 [00:00<?, ?it/s]"
      ]
     },
     "metadata": {},
     "output_type": "display_data"
    },
    {
     "name": "stdout",
     "output_type": "stream",
     "text": [
      "Video 90.4.4.ND0003 saved successfully.\n"
     ]
    },
    {
     "name": "stderr",
     "output_type": "stream",
     "text": [
      "[INFO][2024/04/18 03:15:18 AM] Opening HDF file: /mnt/SYNO/macrohet_syno/ND0002/labels/cpv3/(3, 9).h5...\n",
      "INFO:btrack.io.hdf:Opening HDF file: /mnt/SYNO/macrohet_syno/ND0002/labels/cpv3/(3, 9).h5...\n",
      "[INFO][2024/04/18 03:16:10 AM] Loading segmentation (150, 6048, 6048)\n",
      "INFO:btrack.io.hdf:Loading segmentation (150, 6048, 6048)\n",
      "[INFO][2024/04/18 03:16:10 AM] Closing HDF file: /mnt/SYNO/macrohet_syno/ND0002/labels/cpv3/(3, 9).h5\n",
      "INFO:btrack.io.hdf:Closing HDF file: /mnt/SYNO/macrohet_syno/ND0002/labels/cpv3/(3, 9).h5\n"
     ]
    },
    {
     "data": {
      "application/vnd.jupyter.widget-view+json": {
       "model_id": "e66f462555e340d49951080c9b2b72ac",
       "version_major": 2,
       "version_minor": 0
      },
      "text/plain": [
       "  0%|          | 0/132 [00:00<?, ?it/s]"
      ]
     },
     "metadata": {},
     "output_type": "display_data"
    },
    {
     "name": "stdout",
     "output_type": "stream",
     "text": [
      "Video 34.3.9.ND0002 saved successfully.\n"
     ]
    },
    {
     "name": "stderr",
     "output_type": "stream",
     "text": [
      "[INFO][2024/04/18 03:28:38 AM] Opening HDF file: /mnt/SYNO/macrohet_syno/ND0002/labels/cpv3/(4, 3).h5...\n",
      "INFO:btrack.io.hdf:Opening HDF file: /mnt/SYNO/macrohet_syno/ND0002/labels/cpv3/(4, 3).h5...\n",
      "[INFO][2024/04/18 03:29:20 AM] Loading segmentation (150, 6048, 6048)\n",
      "INFO:btrack.io.hdf:Loading segmentation (150, 6048, 6048)\n",
      "[INFO][2024/04/18 03:29:20 AM] Closing HDF file: /mnt/SYNO/macrohet_syno/ND0002/labels/cpv3/(4, 3).h5\n",
      "INFO:btrack.io.hdf:Closing HDF file: /mnt/SYNO/macrohet_syno/ND0002/labels/cpv3/(4, 3).h5\n"
     ]
    },
    {
     "data": {
      "application/vnd.jupyter.widget-view+json": {
       "model_id": "f3b5017b23a647ee83b1f43e6d29c815",
       "version_major": 2,
       "version_minor": 0
      },
      "text/plain": [
       "  0%|          | 0/70 [00:00<?, ?it/s]"
      ]
     },
     "metadata": {},
     "output_type": "display_data"
    },
    {
     "name": "stdout",
     "output_type": "stream",
     "text": [
      "Video 2563.4.3.ND0002 saved successfully.\n"
     ]
    },
    {
     "name": "stderr",
     "output_type": "stream",
     "text": [
      "[INFO][2024/04/18 03:35:36 AM] Opening HDF file: /mnt/SYNO/macrohet_syno/ND0003/labels/cpv3/(5, 9).h5...\n",
      "INFO:btrack.io.hdf:Opening HDF file: /mnt/SYNO/macrohet_syno/ND0003/labels/cpv3/(5, 9).h5...\n",
      "[INFO][2024/04/18 03:36:31 AM] Loading segmentation (154, 6048, 6048)\n",
      "INFO:btrack.io.hdf:Loading segmentation (154, 6048, 6048)\n",
      "[INFO][2024/04/18 03:36:32 AM] Closing HDF file: /mnt/SYNO/macrohet_syno/ND0003/labels/cpv3/(5, 9).h5\n",
      "INFO:btrack.io.hdf:Closing HDF file: /mnt/SYNO/macrohet_syno/ND0003/labels/cpv3/(5, 9).h5\n"
     ]
    },
    {
     "data": {
      "application/vnd.jupyter.widget-view+json": {
       "model_id": "302ce52fff0040d38f4a63b185dafd8c",
       "version_major": 2,
       "version_minor": 0
      },
      "text/plain": [
       "  0%|          | 0/92 [00:00<?, ?it/s]"
      ]
     },
     "metadata": {},
     "output_type": "display_data"
    },
    {
     "name": "stdout",
     "output_type": "stream",
     "text": [
      "Video 286.5.9.ND0003 saved successfully.\n"
     ]
    },
    {
     "name": "stderr",
     "output_type": "stream",
     "text": [
      "[INFO][2024/04/18 03:46:00 AM] Opening HDF file: /mnt/SYNO/macrohet_syno/ND0002/labels/cpv3/(4, 3).h5...\n",
      "INFO:btrack.io.hdf:Opening HDF file: /mnt/SYNO/macrohet_syno/ND0002/labels/cpv3/(4, 3).h5...\n",
      "[INFO][2024/04/18 03:46:50 AM] Loading segmentation (150, 6048, 6048)\n",
      "INFO:btrack.io.hdf:Loading segmentation (150, 6048, 6048)\n",
      "[INFO][2024/04/18 03:46:50 AM] Closing HDF file: /mnt/SYNO/macrohet_syno/ND0002/labels/cpv3/(4, 3).h5\n",
      "INFO:btrack.io.hdf:Closing HDF file: /mnt/SYNO/macrohet_syno/ND0002/labels/cpv3/(4, 3).h5\n"
     ]
    },
    {
     "data": {
      "application/vnd.jupyter.widget-view+json": {
       "model_id": "e127c58760db4bf8b26e6a4f3efd1a9d",
       "version_major": 2,
       "version_minor": 0
      },
      "text/plain": [
       "  0%|          | 0/96 [00:00<?, ?it/s]"
      ]
     },
     "metadata": {},
     "output_type": "display_data"
    },
    {
     "name": "stdout",
     "output_type": "stream",
     "text": [
      "Video 1311.4.3.ND0002 saved successfully.\n"
     ]
    },
    {
     "name": "stderr",
     "output_type": "stream",
     "text": [
      "[INFO][2024/04/18 03:56:58 AM] Opening HDF file: /mnt/SYNO/macrohet_syno/ND0002/labels/cpv3/(3, 3).h5...\n",
      "INFO:btrack.io.hdf:Opening HDF file: /mnt/SYNO/macrohet_syno/ND0002/labels/cpv3/(3, 3).h5...\n",
      "[INFO][2024/04/18 03:57:55 AM] Loading segmentation (150, 6048, 6048)\n",
      "INFO:btrack.io.hdf:Loading segmentation (150, 6048, 6048)\n",
      "[INFO][2024/04/18 03:57:56 AM] Closing HDF file: /mnt/SYNO/macrohet_syno/ND0002/labels/cpv3/(3, 3).h5\n",
      "INFO:btrack.io.hdf:Closing HDF file: /mnt/SYNO/macrohet_syno/ND0002/labels/cpv3/(3, 3).h5\n"
     ]
    },
    {
     "data": {
      "application/vnd.jupyter.widget-view+json": {
       "model_id": "ac20ae602c4d481da12ccefc5c4923ca",
       "version_major": 2,
       "version_minor": 0
      },
      "text/plain": [
       "  0%|          | 0/86 [00:00<?, ?it/s]"
      ]
     },
     "metadata": {},
     "output_type": "display_data"
    },
    {
     "name": "stdout",
     "output_type": "stream",
     "text": [
      "Video 23.3.3.ND0002 saved successfully.\n"
     ]
    },
    {
     "name": "stderr",
     "output_type": "stream",
     "text": [
      "[INFO][2024/04/18 04:06:45 AM] Opening HDF file: /mnt/SYNO/macrohet_syno/ND0003/labels/cpv3/(3, 10).h5...\n",
      "INFO:btrack.io.hdf:Opening HDF file: /mnt/SYNO/macrohet_syno/ND0003/labels/cpv3/(3, 10).h5...\n",
      "[INFO][2024/04/18 04:07:19 AM] Loading segmentation (154, 6048, 6048)\n",
      "INFO:btrack.io.hdf:Loading segmentation (154, 6048, 6048)\n",
      "[INFO][2024/04/18 04:07:19 AM] Closing HDF file: /mnt/SYNO/macrohet_syno/ND0003/labels/cpv3/(3, 10).h5\n",
      "INFO:btrack.io.hdf:Closing HDF file: /mnt/SYNO/macrohet_syno/ND0003/labels/cpv3/(3, 10).h5\n"
     ]
    },
    {
     "data": {
      "application/vnd.jupyter.widget-view+json": {
       "model_id": "463865161a75433198918eef184d6522",
       "version_major": 2,
       "version_minor": 0
      },
      "text/plain": [
       "  0%|          | 0/153 [00:00<?, ?it/s]"
      ]
     },
     "metadata": {},
     "output_type": "display_data"
    },
    {
     "name": "stdout",
     "output_type": "stream",
     "text": [
      "Video 237.3.10.ND0003 saved successfully.\n"
     ]
    },
    {
     "name": "stderr",
     "output_type": "stream",
     "text": [
      "[INFO][2024/04/18 04:24:34 AM] Opening HDF file: /mnt/SYNO/macrohet_syno/ND0003/labels/cpv3/(3, 9).h5...\n",
      "INFO:btrack.io.hdf:Opening HDF file: /mnt/SYNO/macrohet_syno/ND0003/labels/cpv3/(3, 9).h5...\n",
      "[INFO][2024/04/18 04:25:27 AM] Loading segmentation (154, 6048, 6048)\n",
      "INFO:btrack.io.hdf:Loading segmentation (154, 6048, 6048)\n",
      "[INFO][2024/04/18 04:25:27 AM] Closing HDF file: /mnt/SYNO/macrohet_syno/ND0003/labels/cpv3/(3, 9).h5\n",
      "INFO:btrack.io.hdf:Closing HDF file: /mnt/SYNO/macrohet_syno/ND0003/labels/cpv3/(3, 9).h5\n"
     ]
    },
    {
     "data": {
      "application/vnd.jupyter.widget-view+json": {
       "model_id": "5b6bfae1001a44efb68930dfe3121764",
       "version_major": 2,
       "version_minor": 0
      },
      "text/plain": [
       "  0%|          | 0/117 [00:00<?, ?it/s]"
      ]
     },
     "metadata": {},
     "output_type": "display_data"
    },
    {
     "name": "stdout",
     "output_type": "stream",
     "text": [
      "Video 413.3.9.ND0003 saved successfully.\n"
     ]
    },
    {
     "name": "stderr",
     "output_type": "stream",
     "text": [
      "[INFO][2024/04/18 04:38:28 AM] Opening HDF file: /mnt/SYNO/macrohet_syno/ND0003/labels/cpv3/(3, 4).h5...\n",
      "INFO:btrack.io.hdf:Opening HDF file: /mnt/SYNO/macrohet_syno/ND0003/labels/cpv3/(3, 4).h5...\n",
      "[INFO][2024/04/18 04:39:18 AM] Loading segmentation (154, 6048, 6048)\n",
      "INFO:btrack.io.hdf:Loading segmentation (154, 6048, 6048)\n",
      "[INFO][2024/04/18 04:39:18 AM] Closing HDF file: /mnt/SYNO/macrohet_syno/ND0003/labels/cpv3/(3, 4).h5\n",
      "INFO:btrack.io.hdf:Closing HDF file: /mnt/SYNO/macrohet_syno/ND0003/labels/cpv3/(3, 4).h5\n"
     ]
    },
    {
     "data": {
      "application/vnd.jupyter.widget-view+json": {
       "model_id": "ded2e62a517b49bfa139113f16daf9cc",
       "version_major": 2,
       "version_minor": 0
      },
      "text/plain": [
       "  0%|          | 0/125 [00:00<?, ?it/s]"
      ]
     },
     "metadata": {},
     "output_type": "display_data"
    },
    {
     "name": "stdout",
     "output_type": "stream",
     "text": [
      "Video 1538.3.4.ND0003 saved successfully.\n"
     ]
    },
    {
     "name": "stderr",
     "output_type": "stream",
     "text": [
      "[INFO][2024/04/18 04:51:41 AM] Opening HDF file: /mnt/SYNO/macrohet_syno/ND0003/labels/cpv3/(4, 4).h5...\n",
      "INFO:btrack.io.hdf:Opening HDF file: /mnt/SYNO/macrohet_syno/ND0003/labels/cpv3/(4, 4).h5...\n",
      "[INFO][2024/04/18 04:52:38 AM] Loading segmentation (154, 6048, 6048)\n",
      "INFO:btrack.io.hdf:Loading segmentation (154, 6048, 6048)\n",
      "[INFO][2024/04/18 04:52:38 AM] Closing HDF file: /mnt/SYNO/macrohet_syno/ND0003/labels/cpv3/(4, 4).h5\n",
      "INFO:btrack.io.hdf:Closing HDF file: /mnt/SYNO/macrohet_syno/ND0003/labels/cpv3/(4, 4).h5\n"
     ]
    },
    {
     "data": {
      "application/vnd.jupyter.widget-view+json": {
       "model_id": "b51ac549e14a433b9be57f727ccc93e7",
       "version_major": 2,
       "version_minor": 0
      },
      "text/plain": [
       "  0%|          | 0/97 [00:00<?, ?it/s]"
      ]
     },
     "metadata": {},
     "output_type": "display_data"
    },
    {
     "name": "stdout",
     "output_type": "stream",
     "text": [
      "Video 2748.4.4.ND0003 saved successfully.\n"
     ]
    },
    {
     "name": "stderr",
     "output_type": "stream",
     "text": [
      "[INFO][2024/04/18 05:01:58 AM] Opening HDF file: /mnt/SYNO/macrohet_syno/ND0003/labels/cpv3/(4, 7).h5...\n",
      "INFO:btrack.io.hdf:Opening HDF file: /mnt/SYNO/macrohet_syno/ND0003/labels/cpv3/(4, 7).h5...\n",
      "[INFO][2024/04/18 05:02:51 AM] Loading segmentation (154, 6048, 6048)\n",
      "INFO:btrack.io.hdf:Loading segmentation (154, 6048, 6048)\n",
      "[INFO][2024/04/18 05:02:52 AM] Closing HDF file: /mnt/SYNO/macrohet_syno/ND0003/labels/cpv3/(4, 7).h5\n",
      "INFO:btrack.io.hdf:Closing HDF file: /mnt/SYNO/macrohet_syno/ND0003/labels/cpv3/(4, 7).h5\n"
     ]
    },
    {
     "data": {
      "application/vnd.jupyter.widget-view+json": {
       "model_id": "bad1acf66a804062a7b74ca49011fae2",
       "version_major": 2,
       "version_minor": 0
      },
      "text/plain": [
       "  0%|          | 0/154 [00:00<?, ?it/s]"
      ]
     },
     "metadata": {},
     "output_type": "display_data"
    },
    {
     "name": "stdout",
     "output_type": "stream",
     "text": [
      "Video 167.4.7.ND0003 saved successfully.\n"
     ]
    },
    {
     "name": "stderr",
     "output_type": "stream",
     "text": [
      "[INFO][2024/04/18 05:19:39 AM] Opening HDF file: /mnt/SYNO/macrohet_syno/ND0003/labels/cpv3/(4, 9).h5...\n",
      "INFO:btrack.io.hdf:Opening HDF file: /mnt/SYNO/macrohet_syno/ND0003/labels/cpv3/(4, 9).h5...\n",
      "[INFO][2024/04/18 05:20:25 AM] Loading segmentation (154, 6048, 6048)\n",
      "INFO:btrack.io.hdf:Loading segmentation (154, 6048, 6048)\n",
      "[INFO][2024/04/18 05:20:25 AM] Closing HDF file: /mnt/SYNO/macrohet_syno/ND0003/labels/cpv3/(4, 9).h5\n",
      "INFO:btrack.io.hdf:Closing HDF file: /mnt/SYNO/macrohet_syno/ND0003/labels/cpv3/(4, 9).h5\n"
     ]
    },
    {
     "data": {
      "application/vnd.jupyter.widget-view+json": {
       "model_id": "ab261e8ba5a04ca5a0e732f59fd4bb6f",
       "version_major": 2,
       "version_minor": 0
      },
      "text/plain": [
       "  0%|          | 0/71 [00:00<?, ?it/s]"
      ]
     },
     "metadata": {},
     "output_type": "display_data"
    },
    {
     "name": "stdout",
     "output_type": "stream",
     "text": [
      "Video 389.4.9.ND0003 saved successfully.\n"
     ]
    },
    {
     "name": "stderr",
     "output_type": "stream",
     "text": [
      "[INFO][2024/04/18 05:28:21 AM] Opening HDF file: /mnt/SYNO/macrohet_syno/ND0003/labels/cpv3/(3, 11).h5...\n",
      "INFO:btrack.io.hdf:Opening HDF file: /mnt/SYNO/macrohet_syno/ND0003/labels/cpv3/(3, 11).h5...\n",
      "[INFO][2024/04/18 05:29:19 AM] Loading segmentation (154, 6048, 6048)\n",
      "INFO:btrack.io.hdf:Loading segmentation (154, 6048, 6048)\n",
      "[INFO][2024/04/18 05:29:19 AM] Closing HDF file: /mnt/SYNO/macrohet_syno/ND0003/labels/cpv3/(3, 11).h5\n",
      "INFO:btrack.io.hdf:Closing HDF file: /mnt/SYNO/macrohet_syno/ND0003/labels/cpv3/(3, 11).h5\n"
     ]
    },
    {
     "data": {
      "application/vnd.jupyter.widget-view+json": {
       "model_id": "996f4b55065b4870bd673bda11b94814",
       "version_major": 2,
       "version_minor": 0
      },
      "text/plain": [
       "  0%|          | 0/106 [00:00<?, ?it/s]"
      ]
     },
     "metadata": {},
     "output_type": "display_data"
    },
    {
     "name": "stdout",
     "output_type": "stream",
     "text": [
      "Video 2555.3.11.ND0003 saved successfully.\n"
     ]
    },
    {
     "name": "stderr",
     "output_type": "stream",
     "text": [
      "[INFO][2024/04/18 05:41:12 AM] Opening HDF file: /mnt/SYNO/macrohet_syno/ND0003/labels/cpv3/(6, 12).h5...\n",
      "INFO:btrack.io.hdf:Opening HDF file: /mnt/SYNO/macrohet_syno/ND0003/labels/cpv3/(6, 12).h5...\n",
      "[INFO][2024/04/18 05:41:58 AM] Loading segmentation (154, 6048, 6048)\n",
      "INFO:btrack.io.hdf:Loading segmentation (154, 6048, 6048)\n",
      "[INFO][2024/04/18 05:41:58 AM] Closing HDF file: /mnt/SYNO/macrohet_syno/ND0003/labels/cpv3/(6, 12).h5\n",
      "INFO:btrack.io.hdf:Closing HDF file: /mnt/SYNO/macrohet_syno/ND0003/labels/cpv3/(6, 12).h5\n"
     ]
    },
    {
     "data": {
      "application/vnd.jupyter.widget-view+json": {
       "model_id": "c4736cb39b6c4a0f889db8c6c0af4090",
       "version_major": 2,
       "version_minor": 0
      },
      "text/plain": [
       "  0%|          | 0/78 [00:00<?, ?it/s]"
      ]
     },
     "metadata": {},
     "output_type": "display_data"
    },
    {
     "name": "stdout",
     "output_type": "stream",
     "text": [
      "Video 412.6.12.ND0003 saved successfully.\n"
     ]
    },
    {
     "name": "stderr",
     "output_type": "stream",
     "text": [
      "[INFO][2024/04/18 05:50:10 AM] Opening HDF file: /mnt/SYNO/macrohet_syno/ND0003/labels/cpv3/(4, 6).h5...\n",
      "INFO:btrack.io.hdf:Opening HDF file: /mnt/SYNO/macrohet_syno/ND0003/labels/cpv3/(4, 6).h5...\n",
      "[INFO][2024/04/18 05:51:14 AM] Loading segmentation (154, 6048, 6048)\n",
      "INFO:btrack.io.hdf:Loading segmentation (154, 6048, 6048)\n",
      "[INFO][2024/04/18 05:51:14 AM] Closing HDF file: /mnt/SYNO/macrohet_syno/ND0003/labels/cpv3/(4, 6).h5\n",
      "INFO:btrack.io.hdf:Closing HDF file: /mnt/SYNO/macrohet_syno/ND0003/labels/cpv3/(4, 6).h5\n"
     ]
    },
    {
     "data": {
      "application/vnd.jupyter.widget-view+json": {
       "model_id": "f69dad26ee844a53995072e91ff511c9",
       "version_major": 2,
       "version_minor": 0
      },
      "text/plain": [
       "  0%|          | 0/76 [00:00<?, ?it/s]"
      ]
     },
     "metadata": {},
     "output_type": "display_data"
    },
    {
     "name": "stdout",
     "output_type": "stream",
     "text": [
      "Video 1065.4.6.ND0003 saved successfully.\n"
     ]
    },
    {
     "name": "stderr",
     "output_type": "stream",
     "text": [
      "[INFO][2024/04/18 05:59:33 AM] Opening HDF file: /mnt/SYNO/macrohet_syno/ND0003/labels/cpv3/(4, 11).h5...\n",
      "INFO:btrack.io.hdf:Opening HDF file: /mnt/SYNO/macrohet_syno/ND0003/labels/cpv3/(4, 11).h5...\n",
      "[INFO][2024/04/18 06:00:35 AM] Loading segmentation (154, 6048, 6048)\n",
      "INFO:btrack.io.hdf:Loading segmentation (154, 6048, 6048)\n",
      "[INFO][2024/04/18 06:00:36 AM] Closing HDF file: /mnt/SYNO/macrohet_syno/ND0003/labels/cpv3/(4, 11).h5\n",
      "INFO:btrack.io.hdf:Closing HDF file: /mnt/SYNO/macrohet_syno/ND0003/labels/cpv3/(4, 11).h5\n"
     ]
    },
    {
     "data": {
      "application/vnd.jupyter.widget-view+json": {
       "model_id": "88768336e6ef48308ac9fc4ceb729960",
       "version_major": 2,
       "version_minor": 0
      },
      "text/plain": [
       "  0%|          | 0/119 [00:00<?, ?it/s]"
      ]
     },
     "metadata": {},
     "output_type": "display_data"
    },
    {
     "name": "stdout",
     "output_type": "stream",
     "text": [
      "Video 1848.4.11.ND0003 saved successfully.\n"
     ]
    },
    {
     "name": "stderr",
     "output_type": "stream",
     "text": [
      "[INFO][2024/04/18 06:14:01 AM] Opening HDF file: /mnt/SYNO/macrohet_syno/ND0003/labels/cpv3/(6, 11).h5...\n",
      "INFO:btrack.io.hdf:Opening HDF file: /mnt/SYNO/macrohet_syno/ND0003/labels/cpv3/(6, 11).h5...\n",
      "[INFO][2024/04/18 06:14:55 AM] Loading segmentation (154, 6048, 6048)\n",
      "INFO:btrack.io.hdf:Loading segmentation (154, 6048, 6048)\n",
      "[INFO][2024/04/18 06:14:56 AM] Closing HDF file: /mnt/SYNO/macrohet_syno/ND0003/labels/cpv3/(6, 11).h5\n",
      "INFO:btrack.io.hdf:Closing HDF file: /mnt/SYNO/macrohet_syno/ND0003/labels/cpv3/(6, 11).h5\n"
     ]
    },
    {
     "data": {
      "application/vnd.jupyter.widget-view+json": {
       "model_id": "e15df915117e46eeb43e06c14b6bcf11",
       "version_major": 2,
       "version_minor": 0
      },
      "text/plain": [
       "  0%|          | 0/116 [00:00<?, ?it/s]"
      ]
     },
     "metadata": {},
     "output_type": "display_data"
    },
    {
     "name": "stdout",
     "output_type": "stream",
     "text": [
      "Video 1342.6.11.ND0003 saved successfully.\n"
     ]
    },
    {
     "name": "stderr",
     "output_type": "stream",
     "text": [
      "[INFO][2024/04/18 06:26:54 AM] Opening HDF file: /mnt/SYNO/macrohet_syno/ND0003/labels/cpv3/(5, 3).h5...\n",
      "INFO:btrack.io.hdf:Opening HDF file: /mnt/SYNO/macrohet_syno/ND0003/labels/cpv3/(5, 3).h5...\n",
      "[INFO][2024/04/18 06:27:50 AM] Loading segmentation (154, 6048, 6048)\n",
      "INFO:btrack.io.hdf:Loading segmentation (154, 6048, 6048)\n",
      "[INFO][2024/04/18 06:27:51 AM] Closing HDF file: /mnt/SYNO/macrohet_syno/ND0003/labels/cpv3/(5, 3).h5\n",
      "INFO:btrack.io.hdf:Closing HDF file: /mnt/SYNO/macrohet_syno/ND0003/labels/cpv3/(5, 3).h5\n"
     ]
    },
    {
     "data": {
      "application/vnd.jupyter.widget-view+json": {
       "model_id": "7d7cf43c06fc45478d764ad22d033cae",
       "version_major": 2,
       "version_minor": 0
      },
      "text/plain": [
       "  0%|          | 0/106 [00:00<?, ?it/s]"
      ]
     },
     "metadata": {},
     "output_type": "display_data"
    },
    {
     "name": "stdout",
     "output_type": "stream",
     "text": [
      "Video 1893.5.3.ND0003 saved successfully.\n"
     ]
    },
    {
     "name": "stderr",
     "output_type": "stream",
     "text": [
      "[INFO][2024/04/18 06:34:38 AM] Opening HDF file: /mnt/SYNO/macrohet_syno/ND0002/labels/cpv3/(5, 4).h5...\n",
      "INFO:btrack.io.hdf:Opening HDF file: /mnt/SYNO/macrohet_syno/ND0002/labels/cpv3/(5, 4).h5...\n",
      "[INFO][2024/04/18 06:35:33 AM] Loading segmentation (150, 6048, 6048)\n",
      "INFO:btrack.io.hdf:Loading segmentation (150, 6048, 6048)\n",
      "[INFO][2024/04/18 06:35:34 AM] Closing HDF file: /mnt/SYNO/macrohet_syno/ND0002/labels/cpv3/(5, 4).h5\n",
      "INFO:btrack.io.hdf:Closing HDF file: /mnt/SYNO/macrohet_syno/ND0002/labels/cpv3/(5, 4).h5\n"
     ]
    },
    {
     "data": {
      "application/vnd.jupyter.widget-view+json": {
       "model_id": "bf9bd214fdb34bf6a178869e54dc979c",
       "version_major": 2,
       "version_minor": 0
      },
      "text/plain": [
       "  0%|          | 0/96 [00:00<?, ?it/s]"
      ]
     },
     "metadata": {},
     "output_type": "display_data"
    },
    {
     "name": "stdout",
     "output_type": "stream",
     "text": [
      "Video 1307.5.4.ND0002 saved successfully.\n"
     ]
    },
    {
     "name": "stderr",
     "output_type": "stream",
     "text": [
      "[INFO][2024/04/18 06:45:42 AM] Opening HDF file: /mnt/SYNO/macrohet_syno/ND0002/labels/cpv3/(6, 8).h5...\n",
      "INFO:btrack.io.hdf:Opening HDF file: /mnt/SYNO/macrohet_syno/ND0002/labels/cpv3/(6, 8).h5...\n",
      "[INFO][2024/04/18 06:46:34 AM] Loading segmentation (150, 6048, 6048)\n",
      "INFO:btrack.io.hdf:Loading segmentation (150, 6048, 6048)\n",
      "[INFO][2024/04/18 06:46:34 AM] Closing HDF file: /mnt/SYNO/macrohet_syno/ND0002/labels/cpv3/(6, 8).h5\n",
      "INFO:btrack.io.hdf:Closing HDF file: /mnt/SYNO/macrohet_syno/ND0002/labels/cpv3/(6, 8).h5\n"
     ]
    },
    {
     "data": {
      "application/vnd.jupyter.widget-view+json": {
       "model_id": "a0df6f444343470d86f0205eab704a33",
       "version_major": 2,
       "version_minor": 0
      },
      "text/plain": [
       "  0%|          | 0/106 [00:00<?, ?it/s]"
      ]
     },
     "metadata": {},
     "output_type": "display_data"
    },
    {
     "name": "stdout",
     "output_type": "stream",
     "text": [
      "Video 102.6.8.ND0002 saved successfully.\n"
     ]
    },
    {
     "name": "stderr",
     "output_type": "stream",
     "text": [
      "[INFO][2024/04/18 06:58:17 AM] Opening HDF file: /mnt/SYNO/macrohet_syno/ND0003/labels/cpv3/(4, 8).h5...\n",
      "INFO:btrack.io.hdf:Opening HDF file: /mnt/SYNO/macrohet_syno/ND0003/labels/cpv3/(4, 8).h5...\n",
      "[INFO][2024/04/18 06:59:17 AM] Loading segmentation (154, 6048, 6048)\n",
      "INFO:btrack.io.hdf:Loading segmentation (154, 6048, 6048)\n",
      "[INFO][2024/04/18 06:59:18 AM] Closing HDF file: /mnt/SYNO/macrohet_syno/ND0003/labels/cpv3/(4, 8).h5\n",
      "INFO:btrack.io.hdf:Closing HDF file: /mnt/SYNO/macrohet_syno/ND0003/labels/cpv3/(4, 8).h5\n"
     ]
    },
    {
     "data": {
      "application/vnd.jupyter.widget-view+json": {
       "model_id": "989de30e01d64b748beefaa6af61a0ed",
       "version_major": 2,
       "version_minor": 0
      },
      "text/plain": [
       "  0%|          | 0/72 [00:00<?, ?it/s]"
      ]
     },
     "metadata": {},
     "output_type": "display_data"
    },
    {
     "name": "stdout",
     "output_type": "stream",
     "text": [
      "Video 438.4.8.ND0003 saved successfully.\n"
     ]
    },
    {
     "name": "stderr",
     "output_type": "stream",
     "text": [
      "[INFO][2024/04/18 07:06:51 AM] Opening HDF file: /mnt/SYNO/macrohet_syno/ND0003/labels/cpv3/(5, 10).h5...\n",
      "INFO:btrack.io.hdf:Opening HDF file: /mnt/SYNO/macrohet_syno/ND0003/labels/cpv3/(5, 10).h5...\n",
      "[INFO][2024/04/18 07:07:50 AM] Loading segmentation (154, 6048, 6048)\n",
      "INFO:btrack.io.hdf:Loading segmentation (154, 6048, 6048)\n",
      "[INFO][2024/04/18 07:07:51 AM] Closing HDF file: /mnt/SYNO/macrohet_syno/ND0003/labels/cpv3/(5, 10).h5\n",
      "INFO:btrack.io.hdf:Closing HDF file: /mnt/SYNO/macrohet_syno/ND0003/labels/cpv3/(5, 10).h5\n"
     ]
    },
    {
     "data": {
      "application/vnd.jupyter.widget-view+json": {
       "model_id": "db07f5efaf714d79a1402b9762f4f260",
       "version_major": 2,
       "version_minor": 0
      },
      "text/plain": [
       "  0%|          | 0/83 [00:00<?, ?it/s]"
      ]
     },
     "metadata": {},
     "output_type": "display_data"
    },
    {
     "name": "stdout",
     "output_type": "stream",
     "text": [
      "Video 1947.5.10.ND0003 saved successfully.\n"
     ]
    },
    {
     "name": "stderr",
     "output_type": "stream",
     "text": [
      "[INFO][2024/04/18 07:16:12 AM] Opening HDF file: /mnt/SYNO/macrohet_syno/ND0003/labels/cpv3/(3, 6).h5...\n",
      "INFO:btrack.io.hdf:Opening HDF file: /mnt/SYNO/macrohet_syno/ND0003/labels/cpv3/(3, 6).h5...\n",
      "[INFO][2024/04/18 07:16:58 AM] Loading segmentation (154, 6048, 6048)\n",
      "INFO:btrack.io.hdf:Loading segmentation (154, 6048, 6048)\n",
      "[INFO][2024/04/18 07:16:59 AM] Closing HDF file: /mnt/SYNO/macrohet_syno/ND0003/labels/cpv3/(3, 6).h5\n",
      "INFO:btrack.io.hdf:Closing HDF file: /mnt/SYNO/macrohet_syno/ND0003/labels/cpv3/(3, 6).h5\n"
     ]
    },
    {
     "data": {
      "application/vnd.jupyter.widget-view+json": {
       "model_id": "d2bce306a98243a682ddc85fd11ee9cc",
       "version_major": 2,
       "version_minor": 0
      },
      "text/plain": [
       "  0%|          | 0/132 [00:00<?, ?it/s]"
      ]
     },
     "metadata": {},
     "output_type": "display_data"
    },
    {
     "name": "stdout",
     "output_type": "stream",
     "text": [
      "Video 1448.3.6.ND0003 saved successfully.\n"
     ]
    },
    {
     "name": "stderr",
     "output_type": "stream",
     "text": [
      "[INFO][2024/04/18 07:30:04 AM] Opening HDF file: /mnt/SYNO/macrohet_syno/ND0003/labels/cpv3/(5, 3).h5...\n",
      "INFO:btrack.io.hdf:Opening HDF file: /mnt/SYNO/macrohet_syno/ND0003/labels/cpv3/(5, 3).h5...\n",
      "[INFO][2024/04/18 07:31:07 AM] Loading segmentation (154, 6048, 6048)\n",
      "INFO:btrack.io.hdf:Loading segmentation (154, 6048, 6048)\n",
      "[INFO][2024/04/18 07:31:08 AM] Closing HDF file: /mnt/SYNO/macrohet_syno/ND0003/labels/cpv3/(5, 3).h5\n",
      "INFO:btrack.io.hdf:Closing HDF file: /mnt/SYNO/macrohet_syno/ND0003/labels/cpv3/(5, 3).h5\n"
     ]
    },
    {
     "data": {
      "application/vnd.jupyter.widget-view+json": {
       "model_id": "681b531b09b64994944b5ff02672ca15",
       "version_major": 2,
       "version_minor": 0
      },
      "text/plain": [
       "  0%|          | 0/75 [00:00<?, ?it/s]"
      ]
     },
     "metadata": {},
     "output_type": "display_data"
    },
    {
     "name": "stdout",
     "output_type": "stream",
     "text": [
      "Video 1377.5.3.ND0003 saved successfully.\n"
     ]
    },
    {
     "name": "stderr",
     "output_type": "stream",
     "text": [
      "[INFO][2024/04/18 07:35:12 AM] Opening HDF file: /mnt/SYNO/macrohet_syno/ND0002/labels/cpv3/(3, 4).h5...\n",
      "INFO:btrack.io.hdf:Opening HDF file: /mnt/SYNO/macrohet_syno/ND0002/labels/cpv3/(3, 4).h5...\n",
      "[INFO][2024/04/18 07:36:01 AM] Loading segmentation (150, 6048, 6048)\n",
      "INFO:btrack.io.hdf:Loading segmentation (150, 6048, 6048)\n",
      "[INFO][2024/04/18 07:36:02 AM] Closing HDF file: /mnt/SYNO/macrohet_syno/ND0002/labels/cpv3/(3, 4).h5\n",
      "INFO:btrack.io.hdf:Closing HDF file: /mnt/SYNO/macrohet_syno/ND0002/labels/cpv3/(3, 4).h5\n"
     ]
    },
    {
     "data": {
      "application/vnd.jupyter.widget-view+json": {
       "model_id": "4691c5cfd02c41bcbbf61313ea1996c1",
       "version_major": 2,
       "version_minor": 0
      },
      "text/plain": [
       "  0%|          | 0/98 [00:00<?, ?it/s]"
      ]
     },
     "metadata": {},
     "output_type": "display_data"
    },
    {
     "name": "stdout",
     "output_type": "stream",
     "text": [
      "Video 10.3.4.ND0002 saved successfully.\n"
     ]
    },
    {
     "name": "stderr",
     "output_type": "stream",
     "text": [
      "[INFO][2024/04/18 07:47:04 AM] Opening HDF file: /mnt/SYNO/macrohet_syno/ND0003/labels/cpv3/(6, 12).h5...\n",
      "INFO:btrack.io.hdf:Opening HDF file: /mnt/SYNO/macrohet_syno/ND0003/labels/cpv3/(6, 12).h5...\n",
      "[INFO][2024/04/18 07:48:10 AM] Loading segmentation (154, 6048, 6048)\n",
      "INFO:btrack.io.hdf:Loading segmentation (154, 6048, 6048)\n",
      "[INFO][2024/04/18 07:48:11 AM] Closing HDF file: /mnt/SYNO/macrohet_syno/ND0003/labels/cpv3/(6, 12).h5\n",
      "INFO:btrack.io.hdf:Closing HDF file: /mnt/SYNO/macrohet_syno/ND0003/labels/cpv3/(6, 12).h5\n"
     ]
    },
    {
     "data": {
      "application/vnd.jupyter.widget-view+json": {
       "model_id": "d9775009b2134906b51b9822ac84af74",
       "version_major": 2,
       "version_minor": 0
      },
      "text/plain": [
       "  0%|          | 0/92 [00:00<?, ?it/s]"
      ]
     },
     "metadata": {},
     "output_type": "display_data"
    },
    {
     "name": "stdout",
     "output_type": "stream",
     "text": [
      "Video 1650.6.12.ND0003 saved successfully.\n"
     ]
    },
    {
     "name": "stderr",
     "output_type": "stream",
     "text": [
      "[INFO][2024/04/18 07:57:59 AM] Opening HDF file: /mnt/SYNO/macrohet_syno/ND0003/labels/cpv3/(5, 12).h5...\n",
      "INFO:btrack.io.hdf:Opening HDF file: /mnt/SYNO/macrohet_syno/ND0003/labels/cpv3/(5, 12).h5...\n",
      "[INFO][2024/04/18 07:58:54 AM] Loading segmentation (154, 6048, 6048)\n",
      "INFO:btrack.io.hdf:Loading segmentation (154, 6048, 6048)\n",
      "[INFO][2024/04/18 07:58:55 AM] Closing HDF file: /mnt/SYNO/macrohet_syno/ND0003/labels/cpv3/(5, 12).h5\n",
      "INFO:btrack.io.hdf:Closing HDF file: /mnt/SYNO/macrohet_syno/ND0003/labels/cpv3/(5, 12).h5\n"
     ]
    },
    {
     "data": {
      "application/vnd.jupyter.widget-view+json": {
       "model_id": "75caa9ea5f864bff9bf27ef6e3bad262",
       "version_major": 2,
       "version_minor": 0
      },
      "text/plain": [
       "  0%|          | 0/73 [00:00<?, ?it/s]"
      ]
     },
     "metadata": {},
     "output_type": "display_data"
    },
    {
     "name": "stdout",
     "output_type": "stream",
     "text": [
      "Video 2799.5.12.ND0003 saved successfully.\n"
     ]
    },
    {
     "name": "stderr",
     "output_type": "stream",
     "text": [
      "[INFO][2024/04/18 08:06:18 AM] Opening HDF file: /mnt/SYNO/macrohet_syno/ND0003/labels/cpv3/(4, 4).h5...\n",
      "INFO:btrack.io.hdf:Opening HDF file: /mnt/SYNO/macrohet_syno/ND0003/labels/cpv3/(4, 4).h5...\n",
      "[INFO][2024/04/18 08:07:08 AM] Loading segmentation (154, 6048, 6048)\n",
      "INFO:btrack.io.hdf:Loading segmentation (154, 6048, 6048)\n",
      "[INFO][2024/04/18 08:07:09 AM] Closing HDF file: /mnt/SYNO/macrohet_syno/ND0003/labels/cpv3/(4, 4).h5\n",
      "INFO:btrack.io.hdf:Closing HDF file: /mnt/SYNO/macrohet_syno/ND0003/labels/cpv3/(4, 4).h5\n"
     ]
    },
    {
     "data": {
      "application/vnd.jupyter.widget-view+json": {
       "model_id": "6034cbec950d4676abe1354921db4bbc",
       "version_major": 2,
       "version_minor": 0
      },
      "text/plain": [
       "  0%|          | 0/86 [00:00<?, ?it/s]"
      ]
     },
     "metadata": {},
     "output_type": "display_data"
    },
    {
     "name": "stdout",
     "output_type": "stream",
     "text": [
      "Video 3228.4.4.ND0003 saved successfully.\n"
     ]
    },
    {
     "data": {
      "application/vnd.jupyter.widget-view+json": {
       "model_id": "9040578c56e741d9a337cf02ffa6b429",
       "version_major": 2,
       "version_minor": 0
      },
      "text/plain": [
       "  0%|          | 0/154 [00:00<?, ?it/s]"
      ]
     },
     "metadata": {},
     "output_type": "display_data"
    },
    {
     "name": "stdout",
     "output_type": "stream",
     "text": [
      "Video 84.4.4.ND0003 saved successfully.\n"
     ]
    },
    {
     "data": {
      "application/vnd.jupyter.widget-view+json": {
       "model_id": "2406454245c6466792ba915b51c24954",
       "version_major": 2,
       "version_minor": 0
      },
      "text/plain": [
       "  0%|          | 0/73 [00:00<?, ?it/s]"
      ]
     },
     "metadata": {},
     "output_type": "display_data"
    },
    {
     "name": "stdout",
     "output_type": "stream",
     "text": [
      "Video 2239.4.4.ND0002 saved successfully.\n"
     ]
    },
    {
     "data": {
      "application/vnd.jupyter.widget-view+json": {
       "model_id": "c59d6a35a1f54a67a70b06f273b6bf25",
       "version_major": 2,
       "version_minor": 0
      },
      "text/plain": [
       "  0%|          | 0/154 [00:00<?, ?it/s]"
      ]
     },
     "metadata": {},
     "output_type": "display_data"
    },
    {
     "name": "stdout",
     "output_type": "stream",
     "text": [
      "Video 134.4.4.ND0003 saved successfully.\n"
     ]
    },
    {
     "name": "stderr",
     "output_type": "stream",
     "text": [
      "[INFO][2024/04/18 08:56:09 AM] Opening HDF file: /mnt/SYNO/macrohet_syno/ND0002/labels/cpv3/(6, 4).h5...\n",
      "INFO:btrack.io.hdf:Opening HDF file: /mnt/SYNO/macrohet_syno/ND0002/labels/cpv3/(6, 4).h5...\n",
      "[INFO][2024/04/18 08:56:55 AM] Loading segmentation (150, 6048, 6048)\n",
      "INFO:btrack.io.hdf:Loading segmentation (150, 6048, 6048)\n",
      "[INFO][2024/04/18 08:56:56 AM] Closing HDF file: /mnt/SYNO/macrohet_syno/ND0002/labels/cpv3/(6, 4).h5\n",
      "INFO:btrack.io.hdf:Closing HDF file: /mnt/SYNO/macrohet_syno/ND0002/labels/cpv3/(6, 4).h5\n"
     ]
    },
    {
     "data": {
      "application/vnd.jupyter.widget-view+json": {
       "model_id": "406be485c6024575b145b7b6e99bad28",
       "version_major": 2,
       "version_minor": 0
      },
      "text/plain": [
       "  0%|          | 0/102 [00:00<?, ?it/s]"
      ]
     },
     "metadata": {},
     "output_type": "display_data"
    },
    {
     "name": "stdout",
     "output_type": "stream",
     "text": [
      "Video 64.6.4.ND0002 saved successfully.\n"
     ]
    },
    {
     "name": "stderr",
     "output_type": "stream",
     "text": [
      "[INFO][2024/04/18 09:06:36 AM] Opening HDF file: /mnt/SYNO/macrohet_syno/ND0002/labels/cpv3/(4, 4).h5...\n",
      "INFO:btrack.io.hdf:Opening HDF file: /mnt/SYNO/macrohet_syno/ND0002/labels/cpv3/(4, 4).h5...\n",
      "[INFO][2024/04/18 09:07:23 AM] Loading segmentation (150, 6048, 6048)\n",
      "INFO:btrack.io.hdf:Loading segmentation (150, 6048, 6048)\n",
      "[INFO][2024/04/18 09:07:23 AM] Closing HDF file: /mnt/SYNO/macrohet_syno/ND0002/labels/cpv3/(4, 4).h5\n",
      "INFO:btrack.io.hdf:Closing HDF file: /mnt/SYNO/macrohet_syno/ND0002/labels/cpv3/(4, 4).h5\n"
     ]
    },
    {
     "data": {
      "application/vnd.jupyter.widget-view+json": {
       "model_id": "c77cdf88bc8740d29ede3449b26f7719",
       "version_major": 2,
       "version_minor": 0
      },
      "text/plain": [
       "  0%|          | 0/117 [00:00<?, ?it/s]"
      ]
     },
     "metadata": {},
     "output_type": "display_data"
    },
    {
     "name": "stdout",
     "output_type": "stream",
     "text": [
      "Video 1369.4.4.ND0002 saved successfully.\n"
     ]
    },
    {
     "name": "stderr",
     "output_type": "stream",
     "text": [
      "[INFO][2024/04/18 09:19:18 AM] Opening HDF file: /mnt/SYNO/macrohet_syno/ND0003/labels/cpv3/(5, 11).h5...\n",
      "INFO:btrack.io.hdf:Opening HDF file: /mnt/SYNO/macrohet_syno/ND0003/labels/cpv3/(5, 11).h5...\n",
      "[INFO][2024/04/18 09:20:06 AM] Loading segmentation (154, 6048, 6048)\n",
      "INFO:btrack.io.hdf:Loading segmentation (154, 6048, 6048)\n",
      "[INFO][2024/04/18 09:20:06 AM] Closing HDF file: /mnt/SYNO/macrohet_syno/ND0003/labels/cpv3/(5, 11).h5\n",
      "INFO:btrack.io.hdf:Closing HDF file: /mnt/SYNO/macrohet_syno/ND0003/labels/cpv3/(5, 11).h5\n"
     ]
    },
    {
     "data": {
      "application/vnd.jupyter.widget-view+json": {
       "model_id": "7c7d01759f53463eb9cb52278927de8a",
       "version_major": 2,
       "version_minor": 0
      },
      "text/plain": [
       "  0%|          | 0/130 [00:00<?, ?it/s]"
      ]
     },
     "metadata": {},
     "output_type": "display_data"
    },
    {
     "name": "stdout",
     "output_type": "stream",
     "text": [
      "Video 908.5.11.ND0003 saved successfully.\n"
     ]
    },
    {
     "name": "stderr",
     "output_type": "stream",
     "text": [
      "[INFO][2024/04/18 09:34:20 AM] Opening HDF file: /mnt/SYNO/macrohet_syno/ND0003/labels/cpv3/(3, 11).h5...\n",
      "INFO:btrack.io.hdf:Opening HDF file: /mnt/SYNO/macrohet_syno/ND0003/labels/cpv3/(3, 11).h5...\n",
      "[INFO][2024/04/18 09:35:22 AM] Loading segmentation (154, 6048, 6048)\n",
      "INFO:btrack.io.hdf:Loading segmentation (154, 6048, 6048)\n",
      "[INFO][2024/04/18 09:35:22 AM] Closing HDF file: /mnt/SYNO/macrohet_syno/ND0003/labels/cpv3/(3, 11).h5\n",
      "INFO:btrack.io.hdf:Closing HDF file: /mnt/SYNO/macrohet_syno/ND0003/labels/cpv3/(3, 11).h5\n"
     ]
    },
    {
     "data": {
      "application/vnd.jupyter.widget-view+json": {
       "model_id": "5db9526be3ab48fc922c417e5fde970f",
       "version_major": 2,
       "version_minor": 0
      },
      "text/plain": [
       "  0%|          | 0/99 [00:00<?, ?it/s]"
      ]
     },
     "metadata": {},
     "output_type": "display_data"
    },
    {
     "name": "stdout",
     "output_type": "stream",
     "text": [
      "Video 849.3.11.ND0003 saved successfully.\n"
     ]
    },
    {
     "name": "stderr",
     "output_type": "stream",
     "text": [
      "[INFO][2024/04/18 09:44:47 AM] Opening HDF file: /mnt/SYNO/macrohet_syno/ND0003/labels/cpv3/(5, 11).h5...\n",
      "INFO:btrack.io.hdf:Opening HDF file: /mnt/SYNO/macrohet_syno/ND0003/labels/cpv3/(5, 11).h5...\n",
      "[INFO][2024/04/18 09:45:20 AM] Loading segmentation (154, 6048, 6048)\n",
      "INFO:btrack.io.hdf:Loading segmentation (154, 6048, 6048)\n",
      "[INFO][2024/04/18 09:45:21 AM] Closing HDF file: /mnt/SYNO/macrohet_syno/ND0003/labels/cpv3/(5, 11).h5\n",
      "INFO:btrack.io.hdf:Closing HDF file: /mnt/SYNO/macrohet_syno/ND0003/labels/cpv3/(5, 11).h5\n"
     ]
    },
    {
     "data": {
      "application/vnd.jupyter.widget-view+json": {
       "model_id": "1edadcc3ac1c42c5892d0b6528fcd5d7",
       "version_major": 2,
       "version_minor": 0
      },
      "text/plain": [
       "  0%|          | 0/77 [00:00<?, ?it/s]"
      ]
     },
     "metadata": {},
     "output_type": "display_data"
    },
    {
     "name": "stdout",
     "output_type": "stream",
     "text": [
      "Video 29.5.11.ND0003 saved successfully.\n"
     ]
    },
    {
     "name": "stderr",
     "output_type": "stream",
     "text": [
      "[INFO][2024/04/18 09:49:39 AM] Opening HDF file: /mnt/SYNO/macrohet_syno/ND0003/labels/cpv3/(3, 3).h5...\n",
      "INFO:btrack.io.hdf:Opening HDF file: /mnt/SYNO/macrohet_syno/ND0003/labels/cpv3/(3, 3).h5...\n",
      "[INFO][2024/04/18 09:50:33 AM] Loading segmentation (154, 6048, 6048)\n",
      "INFO:btrack.io.hdf:Loading segmentation (154, 6048, 6048)\n",
      "[INFO][2024/04/18 09:50:33 AM] Closing HDF file: /mnt/SYNO/macrohet_syno/ND0003/labels/cpv3/(3, 3).h5\n",
      "INFO:btrack.io.hdf:Closing HDF file: /mnt/SYNO/macrohet_syno/ND0003/labels/cpv3/(3, 3).h5\n"
     ]
    },
    {
     "data": {
      "application/vnd.jupyter.widget-view+json": {
       "model_id": "8889346bc1f348eab171fd066f103a4a",
       "version_major": 2,
       "version_minor": 0
      },
      "text/plain": [
       "  0%|          | 0/113 [00:00<?, ?it/s]"
      ]
     },
     "metadata": {},
     "output_type": "display_data"
    },
    {
     "name": "stdout",
     "output_type": "stream",
     "text": [
      "Video 2120.3.3.ND0003 saved successfully.\n"
     ]
    },
    {
     "name": "stderr",
     "output_type": "stream",
     "text": [
      "[INFO][2024/04/18 09:58:49 AM] Opening HDF file: /mnt/SYNO/macrohet_syno/ND0003/labels/cpv3/(6, 9).h5...\n",
      "INFO:btrack.io.hdf:Opening HDF file: /mnt/SYNO/macrohet_syno/ND0003/labels/cpv3/(6, 9).h5...\n",
      "[INFO][2024/04/18 09:59:49 AM] Loading segmentation (154, 6048, 6048)\n",
      "INFO:btrack.io.hdf:Loading segmentation (154, 6048, 6048)\n",
      "[INFO][2024/04/18 09:59:50 AM] Closing HDF file: /mnt/SYNO/macrohet_syno/ND0003/labels/cpv3/(6, 9).h5\n",
      "INFO:btrack.io.hdf:Closing HDF file: /mnt/SYNO/macrohet_syno/ND0003/labels/cpv3/(6, 9).h5\n"
     ]
    },
    {
     "data": {
      "application/vnd.jupyter.widget-view+json": {
       "model_id": "d2f1ee248ae94f7faad8d388dd7981b4",
       "version_major": 2,
       "version_minor": 0
      },
      "text/plain": [
       "  0%|          | 0/76 [00:00<?, ?it/s]"
      ]
     },
     "metadata": {},
     "output_type": "display_data"
    },
    {
     "name": "stdout",
     "output_type": "stream",
     "text": [
      "Video 156.6.9.ND0003 saved successfully.\n"
     ]
    },
    {
     "name": "stderr",
     "output_type": "stream",
     "text": [
      "[INFO][2024/04/18 10:04:51 AM] Opening HDF file: /mnt/SYNO/macrohet_syno/ND0003/labels/cpv3/(3, 11).h5...\n",
      "INFO:btrack.io.hdf:Opening HDF file: /mnt/SYNO/macrohet_syno/ND0003/labels/cpv3/(3, 11).h5...\n",
      "[INFO][2024/04/18 10:05:48 AM] Loading segmentation (154, 6048, 6048)\n",
      "INFO:btrack.io.hdf:Loading segmentation (154, 6048, 6048)\n",
      "[INFO][2024/04/18 10:05:49 AM] Closing HDF file: /mnt/SYNO/macrohet_syno/ND0003/labels/cpv3/(3, 11).h5\n",
      "INFO:btrack.io.hdf:Closing HDF file: /mnt/SYNO/macrohet_syno/ND0003/labels/cpv3/(3, 11).h5\n"
     ]
    },
    {
     "data": {
      "application/vnd.jupyter.widget-view+json": {
       "model_id": "ddb74e3682064d1fab291eb9175f0679",
       "version_major": 2,
       "version_minor": 0
      },
      "text/plain": [
       "  0%|          | 0/154 [00:00<?, ?it/s]"
      ]
     },
     "metadata": {},
     "output_type": "display_data"
    },
    {
     "name": "stdout",
     "output_type": "stream",
     "text": [
      "Video 163.3.11.ND0003 saved successfully.\n"
     ]
    },
    {
     "data": {
      "application/vnd.jupyter.widget-view+json": {
       "model_id": "63d0c586c5bc4f1fa5059f9283be09be",
       "version_major": 2,
       "version_minor": 0
      },
      "text/plain": [
       "  0%|          | 0/154 [00:00<?, ?it/s]"
      ]
     },
     "metadata": {},
     "output_type": "display_data"
    },
    {
     "name": "stdout",
     "output_type": "stream",
     "text": [
      "Video 93.3.11.ND0003 saved successfully.\n"
     ]
    },
    {
     "name": "stderr",
     "output_type": "stream",
     "text": [
      "[INFO][2024/04/18 10:29:20 AM] Opening HDF file: /mnt/SYNO/macrohet_syno/ND0003/labels/cpv3/(5, 12).h5...\n",
      "INFO:btrack.io.hdf:Opening HDF file: /mnt/SYNO/macrohet_syno/ND0003/labels/cpv3/(5, 12).h5...\n",
      "[INFO][2024/04/18 10:30:19 AM] Loading segmentation (154, 6048, 6048)\n",
      "INFO:btrack.io.hdf:Loading segmentation (154, 6048, 6048)\n",
      "[INFO][2024/04/18 10:30:20 AM] Closing HDF file: /mnt/SYNO/macrohet_syno/ND0003/labels/cpv3/(5, 12).h5\n",
      "INFO:btrack.io.hdf:Closing HDF file: /mnt/SYNO/macrohet_syno/ND0003/labels/cpv3/(5, 12).h5\n"
     ]
    },
    {
     "data": {
      "application/vnd.jupyter.widget-view+json": {
       "model_id": "123ef99d841c4e43ac0afed264e9a87d",
       "version_major": 2,
       "version_minor": 0
      },
      "text/plain": [
       "  0%|          | 0/90 [00:00<?, ?it/s]"
      ]
     },
     "metadata": {},
     "output_type": "display_data"
    },
    {
     "name": "stdout",
     "output_type": "stream",
     "text": [
      "Video 2647.5.12.ND0003 saved successfully.\n"
     ]
    },
    {
     "name": "stderr",
     "output_type": "stream",
     "text": [
      "[INFO][2024/04/18 10:39:32 AM] Opening HDF file: /mnt/SYNO/macrohet_syno/ND0003/labels/cpv3/(4, 7).h5...\n",
      "INFO:btrack.io.hdf:Opening HDF file: /mnt/SYNO/macrohet_syno/ND0003/labels/cpv3/(4, 7).h5...\n",
      "[INFO][2024/04/18 10:40:35 AM] Loading segmentation (154, 6048, 6048)\n",
      "INFO:btrack.io.hdf:Loading segmentation (154, 6048, 6048)\n",
      "[INFO][2024/04/18 10:40:36 AM] Closing HDF file: /mnt/SYNO/macrohet_syno/ND0003/labels/cpv3/(4, 7).h5\n",
      "INFO:btrack.io.hdf:Closing HDF file: /mnt/SYNO/macrohet_syno/ND0003/labels/cpv3/(4, 7).h5\n"
     ]
    },
    {
     "data": {
      "application/vnd.jupyter.widget-view+json": {
       "model_id": "af9ec7d3b73f470b830f286f4b3034fc",
       "version_major": 2,
       "version_minor": 0
      },
      "text/plain": [
       "  0%|          | 0/99 [00:00<?, ?it/s]"
      ]
     },
     "metadata": {},
     "output_type": "display_data"
    },
    {
     "name": "stdout",
     "output_type": "stream",
     "text": [
      "Video 2768.4.7.ND0003 saved successfully.\n"
     ]
    },
    {
     "name": "stderr",
     "output_type": "stream",
     "text": [
      "[INFO][2024/04/18 10:50:50 AM] Opening HDF file: /mnt/SYNO/macrohet_syno/ND0003/labels/cpv3/(4, 12).h5...\n",
      "INFO:btrack.io.hdf:Opening HDF file: /mnt/SYNO/macrohet_syno/ND0003/labels/cpv3/(4, 12).h5...\n",
      "[INFO][2024/04/18 10:51:36 AM] Loading segmentation (154, 6048, 6048)\n",
      "INFO:btrack.io.hdf:Loading segmentation (154, 6048, 6048)\n",
      "[INFO][2024/04/18 10:51:37 AM] Closing HDF file: /mnt/SYNO/macrohet_syno/ND0003/labels/cpv3/(4, 12).h5\n",
      "INFO:btrack.io.hdf:Closing HDF file: /mnt/SYNO/macrohet_syno/ND0003/labels/cpv3/(4, 12).h5\n"
     ]
    },
    {
     "data": {
      "application/vnd.jupyter.widget-view+json": {
       "model_id": "3e1de18338084811882a3931dc538955",
       "version_major": 2,
       "version_minor": 0
      },
      "text/plain": [
       "  0%|          | 0/96 [00:00<?, ?it/s]"
      ]
     },
     "metadata": {},
     "output_type": "display_data"
    },
    {
     "name": "stdout",
     "output_type": "stream",
     "text": [
      "Video 2542.4.12.ND0003 saved successfully.\n"
     ]
    },
    {
     "name": "stderr",
     "output_type": "stream",
     "text": [
      "[INFO][2024/04/18 11:02:22 AM] Opening HDF file: /mnt/SYNO/macrohet_syno/ND0003/labels/cpv3/(5, 11).h5...\n",
      "INFO:btrack.io.hdf:Opening HDF file: /mnt/SYNO/macrohet_syno/ND0003/labels/cpv3/(5, 11).h5...\n",
      "[INFO][2024/04/18 11:03:10 AM] Loading segmentation (154, 6048, 6048)\n",
      "INFO:btrack.io.hdf:Loading segmentation (154, 6048, 6048)\n",
      "[INFO][2024/04/18 11:03:11 AM] Closing HDF file: /mnt/SYNO/macrohet_syno/ND0003/labels/cpv3/(5, 11).h5\n",
      "INFO:btrack.io.hdf:Closing HDF file: /mnt/SYNO/macrohet_syno/ND0003/labels/cpv3/(5, 11).h5\n"
     ]
    },
    {
     "data": {
      "application/vnd.jupyter.widget-view+json": {
       "model_id": "35517981c1a64b5ea3d37a5a09184319",
       "version_major": 2,
       "version_minor": 0
      },
      "text/plain": [
       "  0%|          | 0/126 [00:00<?, ?it/s]"
      ]
     },
     "metadata": {},
     "output_type": "display_data"
    },
    {
     "name": "stdout",
     "output_type": "stream",
     "text": [
      "Video 1009.5.11.ND0003 saved successfully.\n"
     ]
    },
    {
     "name": "stderr",
     "output_type": "stream",
     "text": [
      "[INFO][2024/04/18 11:14:31 AM] Opening HDF file: /mnt/SYNO/macrohet_syno/ND0003/labels/cpv3/(3, 3).h5...\n",
      "INFO:btrack.io.hdf:Opening HDF file: /mnt/SYNO/macrohet_syno/ND0003/labels/cpv3/(3, 3).h5...\n",
      "[INFO][2024/04/18 11:15:13 AM] Loading segmentation (154, 6048, 6048)\n",
      "INFO:btrack.io.hdf:Loading segmentation (154, 6048, 6048)\n",
      "[INFO][2024/04/18 11:15:14 AM] Closing HDF file: /mnt/SYNO/macrohet_syno/ND0003/labels/cpv3/(3, 3).h5\n",
      "INFO:btrack.io.hdf:Closing HDF file: /mnt/SYNO/macrohet_syno/ND0003/labels/cpv3/(3, 3).h5\n"
     ]
    },
    {
     "data": {
      "application/vnd.jupyter.widget-view+json": {
       "model_id": "d3a34af786664e84b3819c4440ff29f5",
       "version_major": 2,
       "version_minor": 0
      },
      "text/plain": [
       "  0%|          | 0/154 [00:00<?, ?it/s]"
      ]
     },
     "metadata": {},
     "output_type": "display_data"
    },
    {
     "name": "stdout",
     "output_type": "stream",
     "text": [
      "Video 256.3.3.ND0003 saved successfully.\n"
     ]
    },
    {
     "name": "stderr",
     "output_type": "stream",
     "text": [
      "[INFO][2024/04/18 11:32:27 AM] Opening HDF file: /mnt/SYNO/macrohet_syno/ND0002/labels/cpv3/(5, 8).h5...\n",
      "INFO:btrack.io.hdf:Opening HDF file: /mnt/SYNO/macrohet_syno/ND0002/labels/cpv3/(5, 8).h5...\n",
      "[INFO][2024/04/18 11:33:21 AM] Loading segmentation (150, 6048, 6048)\n",
      "INFO:btrack.io.hdf:Loading segmentation (150, 6048, 6048)\n",
      "[INFO][2024/04/18 11:33:22 AM] Closing HDF file: /mnt/SYNO/macrohet_syno/ND0002/labels/cpv3/(5, 8).h5\n",
      "INFO:btrack.io.hdf:Closing HDF file: /mnt/SYNO/macrohet_syno/ND0002/labels/cpv3/(5, 8).h5\n"
     ]
    },
    {
     "data": {
      "application/vnd.jupyter.widget-view+json": {
       "model_id": "99204518fa404bd180a36e8a7420eb02",
       "version_major": 2,
       "version_minor": 0
      },
      "text/plain": [
       "  0%|          | 0/150 [00:00<?, ?it/s]"
      ]
     },
     "metadata": {},
     "output_type": "display_data"
    },
    {
     "name": "stdout",
     "output_type": "stream",
     "text": [
      "Video 161.5.8.ND0002 saved successfully.\n"
     ]
    },
    {
     "name": "stderr",
     "output_type": "stream",
     "text": [
      "[INFO][2024/04/18 11:54:53 AM] Opening HDF file: /mnt/SYNO/macrohet_syno/ND0003/labels/cpv3/(4, 4).h5...\n",
      "INFO:btrack.io.hdf:Opening HDF file: /mnt/SYNO/macrohet_syno/ND0003/labels/cpv3/(4, 4).h5...\n",
      "[INFO][2024/04/18 11:55:56 AM] Loading segmentation (154, 6048, 6048)\n",
      "INFO:btrack.io.hdf:Loading segmentation (154, 6048, 6048)\n",
      "[INFO][2024/04/18 11:55:57 AM] Closing HDF file: /mnt/SYNO/macrohet_syno/ND0003/labels/cpv3/(4, 4).h5\n",
      "INFO:btrack.io.hdf:Closing HDF file: /mnt/SYNO/macrohet_syno/ND0003/labels/cpv3/(4, 4).h5\n"
     ]
    },
    {
     "data": {
      "application/vnd.jupyter.widget-view+json": {
       "model_id": "8ef4a287aa614002b7a2cd3f0a4768b2",
       "version_major": 2,
       "version_minor": 0
      },
      "text/plain": [
       "  0%|          | 0/154 [00:00<?, ?it/s]"
      ]
     },
     "metadata": {},
     "output_type": "display_data"
    },
    {
     "name": "stdout",
     "output_type": "stream",
     "text": [
      "Video 48.4.4.ND0003 saved successfully.\n"
     ]
    },
    {
     "name": "stderr",
     "output_type": "stream",
     "text": [
      "[INFO][2024/04/18 12:13:00 PM] Opening HDF file: /mnt/SYNO/macrohet_syno/ND0002/labels/cpv3/(4, 6).h5...\n",
      "INFO:btrack.io.hdf:Opening HDF file: /mnt/SYNO/macrohet_syno/ND0002/labels/cpv3/(4, 6).h5...\n",
      "[INFO][2024/04/18 12:13:22 PM] Loading segmentation (150, 6048, 6048)\n",
      "INFO:btrack.io.hdf:Loading segmentation (150, 6048, 6048)\n",
      "[INFO][2024/04/18 12:13:22 PM] Closing HDF file: /mnt/SYNO/macrohet_syno/ND0002/labels/cpv3/(4, 6).h5\n",
      "INFO:btrack.io.hdf:Closing HDF file: /mnt/SYNO/macrohet_syno/ND0002/labels/cpv3/(4, 6).h5\n"
     ]
    },
    {
     "data": {
      "application/vnd.jupyter.widget-view+json": {
       "model_id": "674e104825a84d1bac96d938a5a8d9c8",
       "version_major": 2,
       "version_minor": 0
      },
      "text/plain": [
       "  0%|          | 0/104 [00:00<?, ?it/s]"
      ]
     },
     "metadata": {},
     "output_type": "display_data"
    },
    {
     "name": "stdout",
     "output_type": "stream",
     "text": [
      "Video 1911.4.6.ND0002 saved successfully.\n"
     ]
    },
    {
     "name": "stderr",
     "output_type": "stream",
     "text": [
      "[INFO][2024/04/18 12:28:39 PM] Opening HDF file: /mnt/SYNO/macrohet_syno/ND0003/labels/cpv3/(3, 5).h5...\n",
      "INFO:btrack.io.hdf:Opening HDF file: /mnt/SYNO/macrohet_syno/ND0003/labels/cpv3/(3, 5).h5...\n",
      "[INFO][2024/04/18 12:29:49 PM] Loading segmentation (154, 6048, 6048)\n",
      "INFO:btrack.io.hdf:Loading segmentation (154, 6048, 6048)\n",
      "[INFO][2024/04/18 12:29:49 PM] Closing HDF file: /mnt/SYNO/macrohet_syno/ND0003/labels/cpv3/(3, 5).h5\n",
      "INFO:btrack.io.hdf:Closing HDF file: /mnt/SYNO/macrohet_syno/ND0003/labels/cpv3/(3, 5).h5\n"
     ]
    },
    {
     "data": {
      "application/vnd.jupyter.widget-view+json": {
       "model_id": "ee7cdba264974890993a24a98170b6d0",
       "version_major": 2,
       "version_minor": 0
      },
      "text/plain": [
       "  0%|          | 0/99 [00:00<?, ?it/s]"
      ]
     },
     "metadata": {},
     "output_type": "display_data"
    },
    {
     "name": "stdout",
     "output_type": "stream",
     "text": [
      "Video 2447.3.5.ND0003 saved successfully.\n"
     ]
    },
    {
     "name": "stderr",
     "output_type": "stream",
     "text": [
      "[INFO][2024/04/18 12:44:04 PM] Opening HDF file: /mnt/SYNO/macrohet_syno/ND0003/labels/cpv3/(3, 4).h5...\n",
      "INFO:btrack.io.hdf:Opening HDF file: /mnt/SYNO/macrohet_syno/ND0003/labels/cpv3/(3, 4).h5...\n",
      "[INFO][2024/04/18 12:45:02 PM] Loading segmentation (154, 6048, 6048)\n",
      "INFO:btrack.io.hdf:Loading segmentation (154, 6048, 6048)\n",
      "[INFO][2024/04/18 12:45:03 PM] Closing HDF file: /mnt/SYNO/macrohet_syno/ND0003/labels/cpv3/(3, 4).h5\n",
      "INFO:btrack.io.hdf:Closing HDF file: /mnt/SYNO/macrohet_syno/ND0003/labels/cpv3/(3, 4).h5\n"
     ]
    },
    {
     "data": {
      "application/vnd.jupyter.widget-view+json": {
       "model_id": "f62a3f1fc1e14a4eb08ba974f128e6b7",
       "version_major": 2,
       "version_minor": 0
      },
      "text/plain": [
       "  0%|          | 0/86 [00:00<?, ?it/s]"
      ]
     },
     "metadata": {},
     "output_type": "display_data"
    },
    {
     "name": "stdout",
     "output_type": "stream",
     "text": [
      "Video 2720.3.4.ND0003 saved successfully.\n"
     ]
    },
    {
     "name": "stderr",
     "output_type": "stream",
     "text": [
      "[INFO][2024/04/18 12:54:19 PM] Opening HDF file: /mnt/SYNO/macrohet_syno/ND0003/labels/cpv3/(5, 10).h5...\n",
      "INFO:btrack.io.hdf:Opening HDF file: /mnt/SYNO/macrohet_syno/ND0003/labels/cpv3/(5, 10).h5...\n",
      "[INFO][2024/04/18 12:54:42 PM] Loading segmentation (154, 6048, 6048)\n",
      "INFO:btrack.io.hdf:Loading segmentation (154, 6048, 6048)\n",
      "[INFO][2024/04/18 12:54:43 PM] Closing HDF file: /mnt/SYNO/macrohet_syno/ND0003/labels/cpv3/(5, 10).h5\n",
      "INFO:btrack.io.hdf:Closing HDF file: /mnt/SYNO/macrohet_syno/ND0003/labels/cpv3/(5, 10).h5\n"
     ]
    },
    {
     "data": {
      "application/vnd.jupyter.widget-view+json": {
       "model_id": "ee2962574b904127bad2af959728a710",
       "version_major": 2,
       "version_minor": 0
      },
      "text/plain": [
       "  0%|          | 0/153 [00:00<?, ?it/s]"
      ]
     },
     "metadata": {},
     "output_type": "display_data"
    },
    {
     "name": "stdout",
     "output_type": "stream",
     "text": [
      "Video 360.5.10.ND0003 saved successfully.\n"
     ]
    },
    {
     "name": "stderr",
     "output_type": "stream",
     "text": [
      "[INFO][2024/04/18 01:16:53 PM] Opening HDF file: /mnt/SYNO/macrohet_syno/ND0002/labels/cpv3/(4, 5).h5...\n",
      "INFO:btrack.io.hdf:Opening HDF file: /mnt/SYNO/macrohet_syno/ND0002/labels/cpv3/(4, 5).h5...\n",
      "[INFO][2024/04/18 01:17:28 PM] Loading segmentation (150, 6048, 6048)\n",
      "INFO:btrack.io.hdf:Loading segmentation (150, 6048, 6048)\n",
      "[INFO][2024/04/18 01:17:28 PM] Closing HDF file: /mnt/SYNO/macrohet_syno/ND0002/labels/cpv3/(4, 5).h5\n",
      "INFO:btrack.io.hdf:Closing HDF file: /mnt/SYNO/macrohet_syno/ND0002/labels/cpv3/(4, 5).h5\n"
     ]
    },
    {
     "data": {
      "application/vnd.jupyter.widget-view+json": {
       "model_id": "61e086909f3545eb8d5e13b0488693b1",
       "version_major": 2,
       "version_minor": 0
      },
      "text/plain": [
       "  0%|          | 0/131 [00:00<?, ?it/s]"
      ]
     },
     "metadata": {},
     "output_type": "display_data"
    },
    {
     "name": "stdout",
     "output_type": "stream",
     "text": [
      "Video 219.4.5.ND0002 saved successfully.\n"
     ]
    },
    {
     "name": "stderr",
     "output_type": "stream",
     "text": [
      "[INFO][2024/04/18 01:36:06 PM] Opening HDF file: /mnt/SYNO/macrohet_syno/ND0002/labels/cpv3/(3, 4).h5...\n",
      "INFO:btrack.io.hdf:Opening HDF file: /mnt/SYNO/macrohet_syno/ND0002/labels/cpv3/(3, 4).h5...\n",
      "[INFO][2024/04/18 01:37:00 PM] Loading segmentation (150, 6048, 6048)\n",
      "INFO:btrack.io.hdf:Loading segmentation (150, 6048, 6048)\n",
      "[INFO][2024/04/18 01:37:00 PM] Closing HDF file: /mnt/SYNO/macrohet_syno/ND0002/labels/cpv3/(3, 4).h5\n",
      "INFO:btrack.io.hdf:Closing HDF file: /mnt/SYNO/macrohet_syno/ND0002/labels/cpv3/(3, 4).h5\n"
     ]
    },
    {
     "data": {
      "application/vnd.jupyter.widget-view+json": {
       "model_id": "22dab517f1a746a9a74547fad0e1cc32",
       "version_major": 2,
       "version_minor": 0
      },
      "text/plain": [
       "  0%|          | 0/101 [00:00<?, ?it/s]"
      ]
     },
     "metadata": {},
     "output_type": "display_data"
    },
    {
     "name": "stdout",
     "output_type": "stream",
     "text": [
      "Video 1754.3.4.ND0002 saved successfully.\n"
     ]
    },
    {
     "name": "stderr",
     "output_type": "stream",
     "text": [
      "[INFO][2024/04/18 01:56:31 PM] Opening HDF file: /mnt/SYNO/macrohet_syno/ND0002/labels/cpv3/(4, 4).h5...\n",
      "INFO:btrack.io.hdf:Opening HDF file: /mnt/SYNO/macrohet_syno/ND0002/labels/cpv3/(4, 4).h5...\n",
      "[INFO][2024/04/18 01:57:33 PM] Loading segmentation (150, 6048, 6048)\n",
      "INFO:btrack.io.hdf:Loading segmentation (150, 6048, 6048)\n",
      "[INFO][2024/04/18 01:57:33 PM] Closing HDF file: /mnt/SYNO/macrohet_syno/ND0002/labels/cpv3/(4, 4).h5\n",
      "INFO:btrack.io.hdf:Closing HDF file: /mnt/SYNO/macrohet_syno/ND0002/labels/cpv3/(4, 4).h5\n"
     ]
    },
    {
     "data": {
      "application/vnd.jupyter.widget-view+json": {
       "model_id": "921e9b4b7b124a37819189bf23e9836a",
       "version_major": 2,
       "version_minor": 0
      },
      "text/plain": [
       "  0%|          | 0/95 [00:00<?, ?it/s]"
      ]
     },
     "metadata": {},
     "output_type": "display_data"
    },
    {
     "name": "stdout",
     "output_type": "stream",
     "text": [
      "Video 329.4.4.ND0002 saved successfully.\n"
     ]
    },
    {
     "data": {
      "application/vnd.jupyter.widget-view+json": {
       "model_id": "33a982db8d8d4e62bc88683f2ac21a11",
       "version_major": 2,
       "version_minor": 0
      },
      "text/plain": [
       "  0%|          | 0/110 [00:00<?, ?it/s]"
      ]
     },
     "metadata": {},
     "output_type": "display_data"
    }
   ],
   "source": [
    "pattern = r\"cell_ID\\.(.*?)_dt\"\n",
    "# fns = glob.glob('/mnt/SYNO/macrohet_syno/manuscript/results/dt_dev_09-04-2024/glimpses/*.mp4')\n",
    "# pattern = r\"cell_ID\\.(.*?).mp4\"\n",
    "\n",
    "previous_files = set() \n",
    "\n",
    "while True:\n",
    "    print('Checking for new files')\n",
    "    # Find all PNG files matching the pattern\n",
    "    fns = glob.glob(f'/mnt/SYNO/macrohet_syno/manuscript/results/dt_dev/dt_dev_16-04-2024/accurate/*ND*.png')\n",
    "    new_files = set(fns) - previous_files  # Get the set difference to find new files\n",
    "    \n",
    "    for fn in new_files:\n",
    "        ID = re.search(pattern, fn).group(1)\n",
    "        # Add your processing logic here\n",
    " \n",
    "    # for fn in tqdm(fns):\n",
    "    #     ID = re.search(pattern, fn).group(1)\n",
    "        # ID = '407.3.12.ND0003'\n",
    "        output_dirname = '/mnt/SYNO/macrohet_syno/manuscript/results/dt_dev/glimpses' #os.path.dirname(fn)\n",
    "        output_file = os.path.join(output_dirname, f'glimpses/cell_ID.{ID}.mp4')\n",
    "        if os.path.exists(output_file):\n",
    "            continue\n",
    "        \n",
    "        # set empty image array \n",
    "        rgb_stack = []\n",
    "        \n",
    "        # get single cell information \n",
    "        sc_df = df[df['ID']==ID]\n",
    "    \n",
    "        # Scale the x and y coordinates\n",
    "        scaled_x_coords = sc_df.x * track_scale_factor\n",
    "        scaled_y_coords = sc_df.y * track_scale_factor\n",
    "        \n",
    "        # if (any(scaled_x_coords < boundary_buffer) or \n",
    "        #     any(scaled_y_coords < boundary_buffer) or\n",
    "        #     any(scaled_x_coords > image_width-boundary_buffer) or \n",
    "        #     any(scaled_y_coords > image_height-boundary_buffer)):\n",
    "        #     # Save empty text file with \"boundary_case\" at the beginning\n",
    "        #     boundary_file = os.path.join(output_dirname, f'glimpses/boundary_case_cell_ID_{ID}.txt')\n",
    "        #     with open(boundary_file, 'w') as f:\n",
    "        #         f.write(\"boundary_case\\n\")\n",
    "        #     continue\n",
    "        \n",
    "        acq_ID = sc_df['Acquisition ID'].iloc[0] #  tuple(int(x) for x in ID.split('.')[1:3])\n",
    "        expt_ID = sc_df['Experiment ID'].iloc[0] #ID.split('.')[-1]\n",
    "        base_dir = f'/mnt/SYNO/macrohet_syno/{expt_ID}'\n",
    "        # convert to frames\n",
    "        time_values = sc_df['Time (hours)']\n",
    "        if expt_ID != 'PS0000':\n",
    "            frames = time_values*2 # if expt_ID != 'PS0000' else time_values\n",
    "        else:\n",
    "            frames = time_values.values\n",
    "        # check channel enum\n",
    "        gfp_channel = 0 if expt_ID == 'PS0000' else 1\n",
    "        rfp_channel = 1 if expt_ID == 'PS0000' else 0\n",
    "        \n",
    "        # load images\n",
    "        image_dir = os.path.join(base_dir, f'acquisition/zarr/{acq_ID}.zarr')\n",
    "        zarr_group = zarr.open(image_dir, mode='r')\n",
    "        images = zarr_group.images\n",
    "        \n",
    "        # check if segmentation already loaded\n",
    "        if str(acq_ID) not in seg_fn:\n",
    "            # define seg path\n",
    "            if expt_ID == 'PS0000':\n",
    "                seg_fn = os.path.join(base_dir, f'labels/macrohet_seg_model/{acq_ID}.h5')\n",
    "            else:\n",
    "                seg_fn = os.path.join(base_dir, f'labels/cpv3/{acq_ID}.h5')\n",
    "            # load segmentation\n",
    "            with btrack.io.HDF5FileHandler(seg_fn,\n",
    "                                           'r',\n",
    "                                           obj_type='obj_type_1') as reader:\n",
    "                segmentation = reader.segmentation\n",
    "        \n",
    "        # iterate over time values creating\n",
    "        for t, frame_number in tqdm(zip(time_values, frames), total = len(frames)):\n",
    "            # # set to int\n",
    "            # t = int(t)\n",
    "            frame_number = int(frame_number)\n",
    "            # get precise time point information \n",
    "            sc_df_t = sc_df[sc_df['Time (hours)'] == t]\n",
    "            # Extract xy coordinates and transpose for python and area from the cell information\n",
    "            y_coord, x_coord, area, t = sc_df_t.loc[:, ['x', 'y', 'Mphi Area (µm)', 'Time (hours)']].values[0]\n",
    "            # Scale according to tracking shrinkage\n",
    "            y_coord, x_coord = y_coord * track_scale_factor, x_coord * track_scale_factor\n",
    "       \n",
    "            if not crop_size:\n",
    "                # Calculate the side length for cropping based on the square root of the area\n",
    "                crop_size = int(np.sqrt(area)) * 2\n",
    "        \n",
    "            # Calculate the cropping boundaries\n",
    "            x_start = int(x_coord - crop_size / 2)\n",
    "            x_end = int(x_coord + crop_size / 2)\n",
    "            y_start = int(y_coord - crop_size / 2)\n",
    "            y_end = int(y_coord + crop_size / 2)\n",
    "            # Pad the boundaries if they exceed the image dimensions\n",
    "            if x_start < 0:\n",
    "                x_pad = abs(x_start)\n",
    "                x_start = 0\n",
    "            else:\n",
    "                x_pad = 0\n",
    "        \n",
    "            if x_end > images.shape[-1]:\n",
    "                x_pad_end = x_end - images.shape[-1]\n",
    "                x_end = images.shape[-1]\n",
    "            else:\n",
    "                x_pad_end = 0\n",
    "        \n",
    "            if y_start < 0:\n",
    "                y_pad = abs(y_start)\n",
    "                y_start = 0\n",
    "            else:\n",
    "                y_pad = 0\n",
    "        \n",
    "            if y_end > images.shape[-2]:\n",
    "                y_pad_end = y_end - images.shape[-2]\n",
    "                y_end = images.shape[-2]\n",
    "            else:\n",
    "                y_pad_end = 0\n",
    "        \n",
    "            # Crop the image\n",
    "            cropped_image = images[frame_number, ..., x_start:x_end, y_start:y_end]\n",
    "            # max projection \n",
    "            cropped_image = np.max(images[frame_number, ..., x_start:x_end, y_start:y_end], axis = 1)\n",
    "            # Pad the cropped image if necessary\n",
    "            cropped_image = np.pad(cropped_image, ((0, 0), (x_pad, x_pad_end), (y_pad, y_pad_end)), mode='constant')\n",
    "            \n",
    "            # extract the gfp and rfp channels to apply some vis techn\n",
    "            gfp = cropped_image[gfp_channel, ...]#.compute().compute()\n",
    "            rfp = cropped_image[rfp_channel, ...]#.compute().compute()\n",
    "        \n",
    "            # clip the images so that the contrast is more apparent\n",
    "            contrast_lim_gfp = np.clip(gfp, 358, 5886)\n",
    "            contrast_lim_rfp = np.clip(rfp, 480, 1300)\n",
    "        \n",
    "            norm_gfp = cv2.normalize(contrast_lim_gfp, None, 0, 65535, cv2.NORM_MINMAX, dtype=cv2.CV_16U)\n",
    "            norm_rfp = cv2.normalize(contrast_lim_rfp, None, 0, 65535, cv2.NORM_MINMAX, dtype=cv2.CV_16U)\n",
    "        \n",
    "            # put the modified gfp rfp back in place\n",
    "            cropped_image[gfp_channel, ...] = norm_gfp\n",
    "            cropped_image[rfp_channel, ...] = norm_rfp\n",
    "        \n",
    "            # Create an empty RGB image with the same shape as the input image\n",
    "            rgb_image = np.zeros((cropped_image.shape[1], cropped_image.shape[2], 3), dtype=np.uint16)\n",
    "        \n",
    "            # Assign the first channel to the green channel of the RGB image\n",
    "            rgb_image[:, :, 1] = cropped_image[gfp_channel]\n",
    "        \n",
    "            # Assign the second channel to the red and blue channels of the RGB image to create magenta\n",
    "            rgb_image[:, :, 0] = cropped_image[rfp_channel]\n",
    "            rgb_image[:, :, 2] = cropped_image[rfp_channel]\n",
    "            \n",
    "            # scale down to 8bit\n",
    "            rgb_image = np.uint8(rgb_image >> 8)\n",
    "            \n",
    "            if mask_outline:\n",
    "                # load mask (singular)\n",
    "                \n",
    "                cropped_masks = segmentation[frame_number, x_start:x_end, y_start:y_end]\n",
    "                \n",
    "                # Pad the cropped image if necessary\n",
    "                cropped_masks = np.pad(cropped_masks, ((x_pad, x_pad_end), (y_pad, y_pad_end)), mode='constant')\n",
    "        \n",
    "                # extract only that segment\n",
    "                seg_ID = cropped_masks[int(cropped_masks.shape[0] / 2), int(cropped_masks.shape[1] / 2)]\n",
    "                \n",
    "                if seg_ID == 0:\n",
    "                    instance_mask = np.zeros((crop_size, crop_size), dtype = np.uint8)\n",
    "                else:\n",
    "                    instance_mask = (cropped_masks == seg_ID).astype(np.uint8)\n",
    "        \n",
    "                # draw outline\n",
    "                contours, _ = cv2.findContours(instance_mask, cv2.RETR_EXTERNAL, cv2.CHAIN_APPROX_SIMPLE)\n",
    "                cv2.drawContours(rgb_image, contours, -1, (0, 2 ** 8, 2 ** 8), thickness=2)  # make 8bit\n",
    "        \n",
    "            # # downsize image to reduce storage demands\n",
    "            # rgb_image = cv2.resize(rgb_image, (rgb_image.shape[1] // 2, rgb_image.shape[0] // 2))\n",
    "            \n",
    "            # add labels \n",
    "            if add_labels:\n",
    "                # Add text overlay\n",
    "                text_color = (255, 255, 0)  # Cyan color in BGR format\n",
    "                font_scale = 1.2\n",
    "                font_thickness = 2\n",
    "                text_thickness = 1\n",
    "                font = cv2.FONT_HERSHEY_SIMPLEX\n",
    "                \n",
    "                # Bottom left corner text\n",
    "                bottom_left_text = f\"{t}hr\"\n",
    "                cv2.putText(rgb_image, bottom_left_text, (10, rgb_image.shape[0] - 20),\n",
    "                            font, font_scale, text_color, font_thickness)\n",
    "                \n",
    "                # Bottom right corner text\n",
    "                bottom_right_text = scale_bar_text = '20mu'\n",
    "                text_size = cv2.getTextSize(bottom_right_text, font, font_scale, text_thickness)[0]\n",
    "                bottom_right_text_position = (rgb_image.shape[1] - text_size[0] - 40, rgb_image.shape[0] - 20)\n",
    "                cv2.putText(rgb_image, bottom_right_text, bottom_right_text_position,\n",
    "                            font, font_scale, text_color, font_thickness)\n",
    "                \n",
    "                # Calculate line length in pixels for a 20 micrometer scale bar\n",
    "                micrometer_scale_bar_length = 20\n",
    "                line_length_pixels = int(micrometer_scale_bar_length / image_scale_um_per_pixel)\n",
    "                \n",
    "                # Draw line under bottom right text\n",
    "                line_color = (255, 255, 0)  # Yellow color in BGR format\n",
    "                line_thickness = 2\n",
    "                line_start = (bottom_right_text_position[0], bottom_right_text_position[1] + 5)  # Adjusted by 5 pixels\n",
    "                line_end = (line_start[0] + line_length_pixels, line_start[1])\n",
    "                cv2.line(rgb_image, line_start, line_end,\n",
    "                         line_color, line_thickness)\n",
    "                \n",
    "                # Top left corner text\n",
    "                top_left_variable1 = ID\n",
    "                cv2.putText(rgb_image, top_left_variable1, (10, 30),\n",
    "                            font, font_scale, text_color, font_thickness)\n",
    "                \n",
    "                # Top right corner text\n",
    "                mtb_value = sc_df_t['Mtb Area (µm)'].iloc[0]\n",
    "                mtb_value = f\"{mtb_value:.2f}mu sq\"\n",
    "                text_size = cv2.getTextSize(mtb_value, font, font_scale, text_thickness)[0]\n",
    "                cv2.putText(rgb_image, mtb_value, (rgb_image.shape[1] - text_size[0] - 10, 30),\n",
    "                            font, font_scale, text_color, font_thickness)\n",
    "    \n",
    "            \n",
    "            rgb_stack.append(rgb_image)\n",
    "    \n",
    "        max_height = max(rgb_image.shape[0] for rgb_image in rgb_stack)\n",
    "        max_width = max(rgb_image.shape[1] for rgb_image in rgb_stack)\n",
    "        \n",
    "        # Resize each image to the maximum dimensions\n",
    "        resized_rgb_stack = [cv2.resize(rgb_image, (max_width, max_height)) for rgb_image in rgb_stack]\n",
    "        \n",
    "        # Stack the resized images\n",
    "        rgb_stack = np.stack(resized_rgb_stack, axis=0)\n",
    "        # Get the dimensions of the first frame\n",
    "        height, width, _ = rgb_stack[0].shape\n",
    "        \n",
    "        # Define the frame rate (number of frames per second)\n",
    "        frame_rate = len(rgb_stack) / 20  # Total frames divided by total seconds\n",
    "        ## hacky fix to put outside of subdir\n",
    "        output_file = os.path.join(output_dirname, f'cell_ID.{ID}.mp4')\n",
    "        # output_file = f\"/mnt/SYNO/macrohet_syno/manuscript/results/dt_dev_{current_date}/glimpses/{ID}_wmask.mp4\"\n",
    "        # Initialize VideoWriter object\n",
    "        fourcc = cv2.VideoWriter_fourcc(*'mp4v')\n",
    "        out = cv2.VideoWriter(output_file, fourcc, frame_rate, (width, height))\n",
    "        \n",
    "        # Write each frame to the video file\n",
    "        for frame in rgb_stack:\n",
    "            out.write(frame)\n",
    "        \n",
    "        # Release the VideoWriter object\n",
    "        out.release()\n",
    "        \n",
    "        print(f\"Video {ID} saved successfully.\")\n",
    "\n",
    "               \n",
    "        previous_files = set(fns)  # Update the set of previous file paths\n",
    "        time.sleep(1) "
   ]
  }
 ],
 "metadata": {
  "kernelspec": {
   "display_name": "egg",
   "language": "python",
   "name": "egg"
  },
  "language_info": {
   "codemirror_mode": {
    "name": "ipython",
    "version": 3
   },
   "file_extension": ".py",
   "mimetype": "text/x-python",
   "name": "python",
   "nbconvert_exporter": "python",
   "pygments_lexer": "ipython3",
   "version": "3.9.17"
  }
 },
 "nbformat": 4,
 "nbformat_minor": 5
}
