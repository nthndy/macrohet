{
 "cells": [
  {
   "cell_type": "markdown",
   "id": "436cc723-43dd-48f3-9d56-1e1192142281",
   "metadata": {},
   "source": [
    "# Image viewer\n",
    "\n",
    "This notebook is for inspecting timelapse microscopy data, with associated sinhgle-cell labels and tracks, showing the infection of human macrophages with Mycobacterium Tuberculosis (Mtb), acquired on an Opera Phenix confocal microscope. "
   ]
  },
  {
   "cell_type": "code",
   "execution_count": 1,
   "id": "038f21c9-ab18-4688-8de0-829dc749c642",
   "metadata": {},
   "outputs": [],
   "source": [
    "import napari\n",
    "import os, glob\n",
    "from macrohet import dataio #, visualise, notify\n",
    "import numpy as np\n",
    "import os\n",
    "import re\n",
    "import numpy as np\n",
    "import cv2\n",
    "import btrack\n",
    "import zarr\n"
   ]
  },
  {
   "cell_type": "markdown",
   "id": "146e7f4c-fcb4-4136-a21d-14725bdaa946",
   "metadata": {},
   "source": [
    "### Load experiment of choice\n",
    "\n",
    "The Opera Phenix is a high-throughput confocal microscope that acquires very large 5-dimensional (TCZXY) images over several fields of view in any one experiment. Therefore, a lazy-loading approach is chosen to mosaic, view and annotate these images. This approach depends upon Dask and DaskFusion. The first step is to load the main metadata file (typically called `Index.idx.xml` and located in the main `Images` directory) that contains the image filenames and associated TCXZY information used to organise the images."
   ]
  },
  {
   "cell_type": "code",
   "execution_count": 2,
   "id": "1374af15-828d-4702-80f5-0069aedb019a",
   "metadata": {},
   "outputs": [
    {
     "name": "stdout",
     "output_type": "stream",
     "text": [
      "Reading metadata XML file...\n"
     ]
    },
    {
     "data": {
      "application/vnd.jupyter.widget-view+json": {
       "model_id": "0ad16cf2638c496c9161f10866a64486",
       "version_major": 2,
       "version_minor": 0
      },
      "text/plain": [
       "0it [00:00, ?it/s]"
      ]
     },
     "metadata": {},
     "output_type": "display_data"
    },
    {
     "name": "stdout",
     "output_type": "stream",
     "text": [
      "Extracting metadata complete!\n",
      "CPU times: user 33.1 s, sys: 2.92 s, total: 36 s\n",
      "Wall time: 36 s\n"
     ]
    },
    {
     "data": {
      "text/html": [
       "<div>\n",
       "<style scoped>\n",
       "    .dataframe tbody tr th:only-of-type {\n",
       "        vertical-align: middle;\n",
       "    }\n",
       "\n",
       "    .dataframe tbody tr th {\n",
       "        vertical-align: top;\n",
       "    }\n",
       "\n",
       "    .dataframe thead th {\n",
       "        text-align: right;\n",
       "    }\n",
       "</style>\n",
       "<table border=\"1\" class=\"dataframe\">\n",
       "  <thead>\n",
       "    <tr style=\"text-align: right;\">\n",
       "      <th></th>\n",
       "      <th>id</th>\n",
       "      <th>State</th>\n",
       "      <th>URL</th>\n",
       "      <th>Row</th>\n",
       "      <th>Col</th>\n",
       "      <th>FieldID</th>\n",
       "      <th>PlaneID</th>\n",
       "      <th>TimepointID</th>\n",
       "      <th>ChannelID</th>\n",
       "      <th>FlimID</th>\n",
       "      <th>...</th>\n",
       "      <th>PositionZ</th>\n",
       "      <th>AbsPositionZ</th>\n",
       "      <th>MeasurementTimeOffset</th>\n",
       "      <th>AbsTime</th>\n",
       "      <th>MainExcitationWavelength</th>\n",
       "      <th>MainEmissionWavelength</th>\n",
       "      <th>ObjectiveMagnification</th>\n",
       "      <th>ObjectiveNA</th>\n",
       "      <th>ExposureTime</th>\n",
       "      <th>OrientationMatrix</th>\n",
       "    </tr>\n",
       "  </thead>\n",
       "  <tbody>\n",
       "    <tr>\n",
       "      <th>0</th>\n",
       "      <td>0103K1F1P1R1</td>\n",
       "      <td>Ok</td>\n",
       "      <td>r01c03f01p01-ch1sk1fk1fl1.tiff</td>\n",
       "      <td>1</td>\n",
       "      <td>3</td>\n",
       "      <td>1</td>\n",
       "      <td>1</td>\n",
       "      <td>0</td>\n",
       "      <td>1</td>\n",
       "      <td>1</td>\n",
       "      <td>...</td>\n",
       "      <td>-2E-06</td>\n",
       "      <td>0.135466397</td>\n",
       "      <td>0</td>\n",
       "      <td>2023-11-30T17:22:09.49+00:00</td>\n",
       "      <td>640</td>\n",
       "      <td>706</td>\n",
       "      <td>40</td>\n",
       "      <td>1.1</td>\n",
       "      <td>0.2</td>\n",
       "      <td>[[1.000989,0,0,10.0],[0,-1.000989,0,-6.8],[0,0...</td>\n",
       "    </tr>\n",
       "    <tr>\n",
       "      <th>1</th>\n",
       "      <td>0103K1F1P1R2</td>\n",
       "      <td>Ok</td>\n",
       "      <td>r01c03f01p01-ch2sk1fk1fl1.tiff</td>\n",
       "      <td>1</td>\n",
       "      <td>3</td>\n",
       "      <td>1</td>\n",
       "      <td>1</td>\n",
       "      <td>0</td>\n",
       "      <td>2</td>\n",
       "      <td>1</td>\n",
       "      <td>...</td>\n",
       "      <td>-2E-06</td>\n",
       "      <td>0.135466397</td>\n",
       "      <td>0</td>\n",
       "      <td>2023-11-30T17:22:09.723+00:00</td>\n",
       "      <td>488</td>\n",
       "      <td>522</td>\n",
       "      <td>40</td>\n",
       "      <td>1.1</td>\n",
       "      <td>0.1</td>\n",
       "      <td>[[1.000989,0,0,10.0],[0,-1.000989,0,-6.8],[0,0...</td>\n",
       "    </tr>\n",
       "    <tr>\n",
       "      <th>2</th>\n",
       "      <td>0103K1F1P2R1</td>\n",
       "      <td>Ok</td>\n",
       "      <td>r01c03f01p02-ch1sk1fk1fl1.tiff</td>\n",
       "      <td>1</td>\n",
       "      <td>3</td>\n",
       "      <td>1</td>\n",
       "      <td>2</td>\n",
       "      <td>0</td>\n",
       "      <td>1</td>\n",
       "      <td>1</td>\n",
       "      <td>...</td>\n",
       "      <td>0</td>\n",
       "      <td>0.135468394</td>\n",
       "      <td>0</td>\n",
       "      <td>2023-11-30T17:22:10.067+00:00</td>\n",
       "      <td>640</td>\n",
       "      <td>706</td>\n",
       "      <td>40</td>\n",
       "      <td>1.1</td>\n",
       "      <td>0.2</td>\n",
       "      <td>[[1.000989,0,0,10.0],[0,-1.000989,0,-6.8],[0,0...</td>\n",
       "    </tr>\n",
       "    <tr>\n",
       "      <th>3</th>\n",
       "      <td>0103K1F1P2R2</td>\n",
       "      <td>Ok</td>\n",
       "      <td>r01c03f01p02-ch2sk1fk1fl1.tiff</td>\n",
       "      <td>1</td>\n",
       "      <td>3</td>\n",
       "      <td>1</td>\n",
       "      <td>2</td>\n",
       "      <td>0</td>\n",
       "      <td>2</td>\n",
       "      <td>1</td>\n",
       "      <td>...</td>\n",
       "      <td>0</td>\n",
       "      <td>0.135468394</td>\n",
       "      <td>0</td>\n",
       "      <td>2023-11-30T17:22:10.287+00:00</td>\n",
       "      <td>488</td>\n",
       "      <td>522</td>\n",
       "      <td>40</td>\n",
       "      <td>1.1</td>\n",
       "      <td>0.1</td>\n",
       "      <td>[[1.000989,0,0,10.0],[0,-1.000989,0,-6.8],[0,0...</td>\n",
       "    </tr>\n",
       "    <tr>\n",
       "      <th>4</th>\n",
       "      <td>0103K1F1P3R1</td>\n",
       "      <td>Ok</td>\n",
       "      <td>r01c03f01p03-ch1sk1fk1fl1.tiff</td>\n",
       "      <td>1</td>\n",
       "      <td>3</td>\n",
       "      <td>1</td>\n",
       "      <td>3</td>\n",
       "      <td>0</td>\n",
       "      <td>1</td>\n",
       "      <td>1</td>\n",
       "      <td>...</td>\n",
       "      <td>2E-06</td>\n",
       "      <td>0.135470405</td>\n",
       "      <td>0</td>\n",
       "      <td>2023-11-30T17:22:10.627+00:00</td>\n",
       "      <td>640</td>\n",
       "      <td>706</td>\n",
       "      <td>40</td>\n",
       "      <td>1.1</td>\n",
       "      <td>0.2</td>\n",
       "      <td>[[1.000989,0,0,10.0],[0,-1.000989,0,-6.8],[0,0...</td>\n",
       "    </tr>\n",
       "    <tr>\n",
       "      <th>...</th>\n",
       "      <td>...</td>\n",
       "      <td>...</td>\n",
       "      <td>...</td>\n",
       "      <td>...</td>\n",
       "      <td>...</td>\n",
       "      <td>...</td>\n",
       "      <td>...</td>\n",
       "      <td>...</td>\n",
       "      <td>...</td>\n",
       "      <td>...</td>\n",
       "      <td>...</td>\n",
       "      <td>...</td>\n",
       "      <td>...</td>\n",
       "      <td>...</td>\n",
       "      <td>...</td>\n",
       "      <td>...</td>\n",
       "      <td>...</td>\n",
       "      <td>...</td>\n",
       "      <td>...</td>\n",
       "      <td>...</td>\n",
       "      <td>...</td>\n",
       "    </tr>\n",
       "    <tr>\n",
       "      <th>388615</th>\n",
       "      <td>0612K150F9P1R2</td>\n",
       "      <td>Ok</td>\n",
       "      <td>r06c12f09p01-ch2sk150fk1fl1.tiff</td>\n",
       "      <td>6</td>\n",
       "      <td>12</td>\n",
       "      <td>9</td>\n",
       "      <td>1</td>\n",
       "      <td>149</td>\n",
       "      <td>2</td>\n",
       "      <td>1</td>\n",
       "      <td>...</td>\n",
       "      <td>-2E-06</td>\n",
       "      <td>0.1351538</td>\n",
       "      <td>268191.66</td>\n",
       "      <td>2023-12-03T20:06:16.08+00:00</td>\n",
       "      <td>488</td>\n",
       "      <td>522</td>\n",
       "      <td>40</td>\n",
       "      <td>1.1</td>\n",
       "      <td>0.1</td>\n",
       "      <td>[[1.000989,0,0,10.0],[0,-1.000989,0,-6.8],[0,0...</td>\n",
       "    </tr>\n",
       "    <tr>\n",
       "      <th>388616</th>\n",
       "      <td>0612K150F9P2R1</td>\n",
       "      <td>Ok</td>\n",
       "      <td>r06c12f09p02-ch1sk150fk1fl1.tiff</td>\n",
       "      <td>6</td>\n",
       "      <td>12</td>\n",
       "      <td>9</td>\n",
       "      <td>2</td>\n",
       "      <td>149</td>\n",
       "      <td>1</td>\n",
       "      <td>1</td>\n",
       "      <td>...</td>\n",
       "      <td>0</td>\n",
       "      <td>0.135155797</td>\n",
       "      <td>268191.66</td>\n",
       "      <td>2023-12-03T20:06:16.423+00:00</td>\n",
       "      <td>640</td>\n",
       "      <td>706</td>\n",
       "      <td>40</td>\n",
       "      <td>1.1</td>\n",
       "      <td>0.2</td>\n",
       "      <td>[[1.000989,0,0,10.0],[0,-1.000989,0,-6.8],[0,0...</td>\n",
       "    </tr>\n",
       "    <tr>\n",
       "      <th>388617</th>\n",
       "      <td>0612K150F9P2R2</td>\n",
       "      <td>Ok</td>\n",
       "      <td>r06c12f09p02-ch2sk150fk1fl1.tiff</td>\n",
       "      <td>6</td>\n",
       "      <td>12</td>\n",
       "      <td>9</td>\n",
       "      <td>2</td>\n",
       "      <td>149</td>\n",
       "      <td>2</td>\n",
       "      <td>1</td>\n",
       "      <td>...</td>\n",
       "      <td>0</td>\n",
       "      <td>0.135155797</td>\n",
       "      <td>268191.66</td>\n",
       "      <td>2023-12-03T20:06:16.657+00:00</td>\n",
       "      <td>488</td>\n",
       "      <td>522</td>\n",
       "      <td>40</td>\n",
       "      <td>1.1</td>\n",
       "      <td>0.1</td>\n",
       "      <td>[[1.000989,0,0,10.0],[0,-1.000989,0,-6.8],[0,0...</td>\n",
       "    </tr>\n",
       "    <tr>\n",
       "      <th>388618</th>\n",
       "      <td>0612K150F9P3R1</td>\n",
       "      <td>Ok</td>\n",
       "      <td>r06c12f09p03-ch1sk150fk1fl1.tiff</td>\n",
       "      <td>6</td>\n",
       "      <td>12</td>\n",
       "      <td>9</td>\n",
       "      <td>3</td>\n",
       "      <td>149</td>\n",
       "      <td>1</td>\n",
       "      <td>1</td>\n",
       "      <td>...</td>\n",
       "      <td>2E-06</td>\n",
       "      <td>0.135157794</td>\n",
       "      <td>268191.66</td>\n",
       "      <td>2023-12-03T20:06:17+00:00</td>\n",
       "      <td>640</td>\n",
       "      <td>706</td>\n",
       "      <td>40</td>\n",
       "      <td>1.1</td>\n",
       "      <td>0.2</td>\n",
       "      <td>[[1.000989,0,0,10.0],[0,-1.000989,0,-6.8],[0,0...</td>\n",
       "    </tr>\n",
       "    <tr>\n",
       "      <th>388619</th>\n",
       "      <td>0612K150F9P3R2</td>\n",
       "      <td>Ok</td>\n",
       "      <td>r06c12f09p03-ch2sk150fk1fl1.tiff</td>\n",
       "      <td>6</td>\n",
       "      <td>12</td>\n",
       "      <td>9</td>\n",
       "      <td>3</td>\n",
       "      <td>149</td>\n",
       "      <td>2</td>\n",
       "      <td>1</td>\n",
       "      <td>...</td>\n",
       "      <td>2E-06</td>\n",
       "      <td>0.135157794</td>\n",
       "      <td>268191.66</td>\n",
       "      <td>2023-12-03T20:06:17.217+00:00</td>\n",
       "      <td>488</td>\n",
       "      <td>522</td>\n",
       "      <td>40</td>\n",
       "      <td>1.1</td>\n",
       "      <td>0.1</td>\n",
       "      <td>[[1.000989,0,0,10.0],[0,-1.000989,0,-6.8],[0,0...</td>\n",
       "    </tr>\n",
       "  </tbody>\n",
       "</table>\n",
       "<p>388620 rows × 35 columns</p>\n",
       "</div>"
      ],
      "text/plain": [
       "                    id State                               URL Row Col  \\\n",
       "0         0103K1F1P1R1    Ok    r01c03f01p01-ch1sk1fk1fl1.tiff   1   3   \n",
       "1         0103K1F1P1R2    Ok    r01c03f01p01-ch2sk1fk1fl1.tiff   1   3   \n",
       "2         0103K1F1P2R1    Ok    r01c03f01p02-ch1sk1fk1fl1.tiff   1   3   \n",
       "3         0103K1F1P2R2    Ok    r01c03f01p02-ch2sk1fk1fl1.tiff   1   3   \n",
       "4         0103K1F1P3R1    Ok    r01c03f01p03-ch1sk1fk1fl1.tiff   1   3   \n",
       "...                ...   ...                               ...  ..  ..   \n",
       "388615  0612K150F9P1R2    Ok  r06c12f09p01-ch2sk150fk1fl1.tiff   6  12   \n",
       "388616  0612K150F9P2R1    Ok  r06c12f09p02-ch1sk150fk1fl1.tiff   6  12   \n",
       "388617  0612K150F9P2R2    Ok  r06c12f09p02-ch2sk150fk1fl1.tiff   6  12   \n",
       "388618  0612K150F9P3R1    Ok  r06c12f09p03-ch1sk150fk1fl1.tiff   6  12   \n",
       "388619  0612K150F9P3R2    Ok  r06c12f09p03-ch2sk150fk1fl1.tiff   6  12   \n",
       "\n",
       "       FieldID PlaneID TimepointID ChannelID FlimID  ... PositionZ  \\\n",
       "0            1       1           0         1      1  ...    -2E-06   \n",
       "1            1       1           0         2      1  ...    -2E-06   \n",
       "2            1       2           0         1      1  ...         0   \n",
       "3            1       2           0         2      1  ...         0   \n",
       "4            1       3           0         1      1  ...     2E-06   \n",
       "...        ...     ...         ...       ...    ...  ...       ...   \n",
       "388615       9       1         149         2      1  ...    -2E-06   \n",
       "388616       9       2         149         1      1  ...         0   \n",
       "388617       9       2         149         2      1  ...         0   \n",
       "388618       9       3         149         1      1  ...     2E-06   \n",
       "388619       9       3         149         2      1  ...     2E-06   \n",
       "\n",
       "       AbsPositionZ MeasurementTimeOffset                        AbsTime  \\\n",
       "0       0.135466397                     0   2023-11-30T17:22:09.49+00:00   \n",
       "1       0.135466397                     0  2023-11-30T17:22:09.723+00:00   \n",
       "2       0.135468394                     0  2023-11-30T17:22:10.067+00:00   \n",
       "3       0.135468394                     0  2023-11-30T17:22:10.287+00:00   \n",
       "4       0.135470405                     0  2023-11-30T17:22:10.627+00:00   \n",
       "...             ...                   ...                            ...   \n",
       "388615    0.1351538             268191.66   2023-12-03T20:06:16.08+00:00   \n",
       "388616  0.135155797             268191.66  2023-12-03T20:06:16.423+00:00   \n",
       "388617  0.135155797             268191.66  2023-12-03T20:06:16.657+00:00   \n",
       "388618  0.135157794             268191.66      2023-12-03T20:06:17+00:00   \n",
       "388619  0.135157794             268191.66  2023-12-03T20:06:17.217+00:00   \n",
       "\n",
       "       MainExcitationWavelength MainEmissionWavelength ObjectiveMagnification  \\\n",
       "0                           640                    706                     40   \n",
       "1                           488                    522                     40   \n",
       "2                           640                    706                     40   \n",
       "3                           488                    522                     40   \n",
       "4                           640                    706                     40   \n",
       "...                         ...                    ...                    ...   \n",
       "388615                      488                    522                     40   \n",
       "388616                      640                    706                     40   \n",
       "388617                      488                    522                     40   \n",
       "388618                      640                    706                     40   \n",
       "388619                      488                    522                     40   \n",
       "\n",
       "       ObjectiveNA ExposureTime  \\\n",
       "0              1.1          0.2   \n",
       "1              1.1          0.1   \n",
       "2              1.1          0.2   \n",
       "3              1.1          0.1   \n",
       "4              1.1          0.2   \n",
       "...            ...          ...   \n",
       "388615         1.1          0.1   \n",
       "388616         1.1          0.2   \n",
       "388617         1.1          0.1   \n",
       "388618         1.1          0.2   \n",
       "388619         1.1          0.1   \n",
       "\n",
       "                                        OrientationMatrix  \n",
       "0       [[1.000989,0,0,10.0],[0,-1.000989,0,-6.8],[0,0...  \n",
       "1       [[1.000989,0,0,10.0],[0,-1.000989,0,-6.8],[0,0...  \n",
       "2       [[1.000989,0,0,10.0],[0,-1.000989,0,-6.8],[0,0...  \n",
       "3       [[1.000989,0,0,10.0],[0,-1.000989,0,-6.8],[0,0...  \n",
       "4       [[1.000989,0,0,10.0],[0,-1.000989,0,-6.8],[0,0...  \n",
       "...                                                   ...  \n",
       "388615  [[1.000989,0,0,10.0],[0,-1.000989,0,-6.8],[0,0...  \n",
       "388616  [[1.000989,0,0,10.0],[0,-1.000989,0,-6.8],[0,0...  \n",
       "388617  [[1.000989,0,0,10.0],[0,-1.000989,0,-6.8],[0,0...  \n",
       "388618  [[1.000989,0,0,10.0],[0,-1.000989,0,-6.8],[0,0...  \n",
       "388619  [[1.000989,0,0,10.0],[0,-1.000989,0,-6.8],[0,0...  \n",
       "\n",
       "[388620 rows x 35 columns]"
      ]
     },
     "execution_count": 2,
     "metadata": {},
     "output_type": "execute_result"
    }
   ],
   "source": [
    "%%time\n",
    "expt_ID = 'ND0002'\n",
    "\n",
    "base_dir = f'/mnt/SYNO/macrohet_syno/data/{expt_ID}/'\n",
    "# base_dir = f'/mnt/DATA/macrohet/{expt_ID}/'\n",
    "\n",
    "metadata_fn = glob.glob(os.path.join(base_dir, 'acquisition/Images/Index*xml'))[0]\n",
    "metadata = dataio.read_harmony_metadata(metadata_fn)  \n",
    "metadata"
   ]
  },
  {
   "cell_type": "markdown",
   "id": "526ff388-5289-4f56-a417-1fa03a99fd85",
   "metadata": {},
   "source": [
    "### View assay layout and mask information (optional)\n",
    "\n",
    "The Opera Phenix acquires many time lapse series from a range of positions. The first step is to inspect the image metadata, presented in the form of an `Assaylayout/experiment_ID.xml` file, to show which positions correspond to which experimental assays."
   ]
  },
  {
   "cell_type": "code",
   "execution_count": 3,
   "id": "e7c525cd-32aa-4946-a1e5-d45e02c3411f",
   "metadata": {},
   "outputs": [
    {
     "name": "stdout",
     "output_type": "stream",
     "text": [
      "Reading metadata XML file...\n",
      "Extracting metadata complete!\n"
     ]
    },
    {
     "data": {
      "text/html": [
       "<div>\n",
       "<style scoped>\n",
       "    .dataframe tbody tr th:only-of-type {\n",
       "        vertical-align: middle;\n",
       "    }\n",
       "\n",
       "    .dataframe tbody tr th {\n",
       "        vertical-align: top;\n",
       "    }\n",
       "\n",
       "    .dataframe thead th {\n",
       "        text-align: right;\n",
       "    }\n",
       "</style>\n",
       "<table border=\"1\" class=\"dataframe\">\n",
       "  <thead>\n",
       "    <tr style=\"text-align: right;\">\n",
       "      <th></th>\n",
       "      <th></th>\n",
       "      <th>Strain</th>\n",
       "      <th>Compound</th>\n",
       "      <th>Concentration</th>\n",
       "      <th>ConcentrationEC</th>\n",
       "    </tr>\n",
       "    <tr>\n",
       "      <th>Row</th>\n",
       "      <th>Column</th>\n",
       "      <th></th>\n",
       "      <th></th>\n",
       "      <th></th>\n",
       "      <th></th>\n",
       "    </tr>\n",
       "  </thead>\n",
       "  <tbody>\n",
       "    <tr>\n",
       "      <th rowspan=\"12\" valign=\"top\">3</th>\n",
       "      <th>1</th>\n",
       "      <td>UNI</td>\n",
       "      <td>CTRL</td>\n",
       "      <td>0</td>\n",
       "      <td>EC0</td>\n",
       "    </tr>\n",
       "    <tr>\n",
       "      <th>2</th>\n",
       "      <td>UNI</td>\n",
       "      <td>CTRL</td>\n",
       "      <td>0</td>\n",
       "      <td>EC0</td>\n",
       "    </tr>\n",
       "    <tr>\n",
       "      <th>3</th>\n",
       "      <td>WT</td>\n",
       "      <td>CTRL</td>\n",
       "      <td>0</td>\n",
       "      <td>EC0</td>\n",
       "    </tr>\n",
       "    <tr>\n",
       "      <th>4</th>\n",
       "      <td>WT</td>\n",
       "      <td>CTRL</td>\n",
       "      <td>0</td>\n",
       "      <td>EC0</td>\n",
       "    </tr>\n",
       "    <tr>\n",
       "      <th>5</th>\n",
       "      <td>WT</td>\n",
       "      <td>PZA</td>\n",
       "      <td>60</td>\n",
       "      <td>EC50</td>\n",
       "    </tr>\n",
       "    <tr>\n",
       "      <th>6</th>\n",
       "      <td>WT</td>\n",
       "      <td>PZA</td>\n",
       "      <td>60</td>\n",
       "      <td>EC50</td>\n",
       "    </tr>\n",
       "    <tr>\n",
       "      <th>7</th>\n",
       "      <td>WT</td>\n",
       "      <td>RIF</td>\n",
       "      <td>0.1</td>\n",
       "      <td>EC50</td>\n",
       "    </tr>\n",
       "    <tr>\n",
       "      <th>8</th>\n",
       "      <td>WT</td>\n",
       "      <td>RIF</td>\n",
       "      <td>0.1</td>\n",
       "      <td>EC50</td>\n",
       "    </tr>\n",
       "    <tr>\n",
       "      <th>9</th>\n",
       "      <td>WT</td>\n",
       "      <td>INH</td>\n",
       "      <td>0.04</td>\n",
       "      <td>EC50</td>\n",
       "    </tr>\n",
       "    <tr>\n",
       "      <th>10</th>\n",
       "      <td>WT</td>\n",
       "      <td>INH</td>\n",
       "      <td>0.04</td>\n",
       "      <td>EC50</td>\n",
       "    </tr>\n",
       "    <tr>\n",
       "      <th>11</th>\n",
       "      <td>WT</td>\n",
       "      <td>BDQ</td>\n",
       "      <td>0.02</td>\n",
       "      <td>EC50</td>\n",
       "    </tr>\n",
       "    <tr>\n",
       "      <th>12</th>\n",
       "      <td>WT</td>\n",
       "      <td>BDQ</td>\n",
       "      <td>0.02</td>\n",
       "      <td>EC50</td>\n",
       "    </tr>\n",
       "    <tr>\n",
       "      <th rowspan=\"10\" valign=\"top\">4</th>\n",
       "      <th>3</th>\n",
       "      <td>WT</td>\n",
       "      <td>CTRL</td>\n",
       "      <td>0</td>\n",
       "      <td>EC0</td>\n",
       "    </tr>\n",
       "    <tr>\n",
       "      <th>4</th>\n",
       "      <td>WT</td>\n",
       "      <td>CTRL</td>\n",
       "      <td>0</td>\n",
       "      <td>EC0</td>\n",
       "    </tr>\n",
       "    <tr>\n",
       "      <th>5</th>\n",
       "      <td>WT</td>\n",
       "      <td>PZA</td>\n",
       "      <td>400</td>\n",
       "      <td>EC99</td>\n",
       "    </tr>\n",
       "    <tr>\n",
       "      <th>6</th>\n",
       "      <td>WT</td>\n",
       "      <td>PZA</td>\n",
       "      <td>400</td>\n",
       "      <td>EC99</td>\n",
       "    </tr>\n",
       "    <tr>\n",
       "      <th>7</th>\n",
       "      <td>WT</td>\n",
       "      <td>RIF</td>\n",
       "      <td>2</td>\n",
       "      <td>EC99</td>\n",
       "    </tr>\n",
       "    <tr>\n",
       "      <th>8</th>\n",
       "      <td>WT</td>\n",
       "      <td>RIF</td>\n",
       "      <td>2</td>\n",
       "      <td>EC99</td>\n",
       "    </tr>\n",
       "    <tr>\n",
       "      <th>9</th>\n",
       "      <td>WT</td>\n",
       "      <td>INH</td>\n",
       "      <td>2</td>\n",
       "      <td>EC99</td>\n",
       "    </tr>\n",
       "    <tr>\n",
       "      <th>10</th>\n",
       "      <td>WT</td>\n",
       "      <td>INH</td>\n",
       "      <td>2</td>\n",
       "      <td>EC99</td>\n",
       "    </tr>\n",
       "    <tr>\n",
       "      <th>11</th>\n",
       "      <td>WT</td>\n",
       "      <td>BDQ</td>\n",
       "      <td>2.5</td>\n",
       "      <td>EC99</td>\n",
       "    </tr>\n",
       "    <tr>\n",
       "      <th>12</th>\n",
       "      <td>WT</td>\n",
       "      <td>BDQ</td>\n",
       "      <td>2.5</td>\n",
       "      <td>EC99</td>\n",
       "    </tr>\n",
       "    <tr>\n",
       "      <th rowspan=\"10\" valign=\"top\">5</th>\n",
       "      <th>3</th>\n",
       "      <td>RD1</td>\n",
       "      <td>CTRL</td>\n",
       "      <td>0</td>\n",
       "      <td>EC0</td>\n",
       "    </tr>\n",
       "    <tr>\n",
       "      <th>4</th>\n",
       "      <td>RD1</td>\n",
       "      <td>CTRL</td>\n",
       "      <td>0</td>\n",
       "      <td>EC0</td>\n",
       "    </tr>\n",
       "    <tr>\n",
       "      <th>5</th>\n",
       "      <td>RD1</td>\n",
       "      <td>PZA</td>\n",
       "      <td>60</td>\n",
       "      <td>EC50</td>\n",
       "    </tr>\n",
       "    <tr>\n",
       "      <th>6</th>\n",
       "      <td>RD1</td>\n",
       "      <td>PZA</td>\n",
       "      <td>60</td>\n",
       "      <td>EC50</td>\n",
       "    </tr>\n",
       "    <tr>\n",
       "      <th>7</th>\n",
       "      <td>RD1</td>\n",
       "      <td>RIF</td>\n",
       "      <td>0.1</td>\n",
       "      <td>EC50</td>\n",
       "    </tr>\n",
       "    <tr>\n",
       "      <th>8</th>\n",
       "      <td>RD1</td>\n",
       "      <td>RIF</td>\n",
       "      <td>0.1</td>\n",
       "      <td>EC50</td>\n",
       "    </tr>\n",
       "    <tr>\n",
       "      <th>9</th>\n",
       "      <td>RD1</td>\n",
       "      <td>INH</td>\n",
       "      <td>0.04</td>\n",
       "      <td>EC50</td>\n",
       "    </tr>\n",
       "    <tr>\n",
       "      <th>10</th>\n",
       "      <td>RD1</td>\n",
       "      <td>INH</td>\n",
       "      <td>0.04</td>\n",
       "      <td>EC50</td>\n",
       "    </tr>\n",
       "    <tr>\n",
       "      <th>11</th>\n",
       "      <td>RD1</td>\n",
       "      <td>BDQ</td>\n",
       "      <td>0.02</td>\n",
       "      <td>EC50</td>\n",
       "    </tr>\n",
       "    <tr>\n",
       "      <th>12</th>\n",
       "      <td>RD1</td>\n",
       "      <td>BDQ</td>\n",
       "      <td>0.02</td>\n",
       "      <td>EC50</td>\n",
       "    </tr>\n",
       "    <tr>\n",
       "      <th rowspan=\"10\" valign=\"top\">6</th>\n",
       "      <th>3</th>\n",
       "      <td>RD1</td>\n",
       "      <td>CTRL</td>\n",
       "      <td>0</td>\n",
       "      <td>EC0</td>\n",
       "    </tr>\n",
       "    <tr>\n",
       "      <th>4</th>\n",
       "      <td>RD1</td>\n",
       "      <td>CTRL</td>\n",
       "      <td>0</td>\n",
       "      <td>EC0</td>\n",
       "    </tr>\n",
       "    <tr>\n",
       "      <th>5</th>\n",
       "      <td>RD1</td>\n",
       "      <td>PZA</td>\n",
       "      <td>400</td>\n",
       "      <td>EC99</td>\n",
       "    </tr>\n",
       "    <tr>\n",
       "      <th>6</th>\n",
       "      <td>RD1</td>\n",
       "      <td>PZA</td>\n",
       "      <td>400</td>\n",
       "      <td>EC99</td>\n",
       "    </tr>\n",
       "    <tr>\n",
       "      <th>7</th>\n",
       "      <td>RD1</td>\n",
       "      <td>RIF</td>\n",
       "      <td>2</td>\n",
       "      <td>EC99</td>\n",
       "    </tr>\n",
       "    <tr>\n",
       "      <th>8</th>\n",
       "      <td>RD1</td>\n",
       "      <td>RIF</td>\n",
       "      <td>2</td>\n",
       "      <td>EC99</td>\n",
       "    </tr>\n",
       "    <tr>\n",
       "      <th>9</th>\n",
       "      <td>RD1</td>\n",
       "      <td>INH</td>\n",
       "      <td>2</td>\n",
       "      <td>EC99</td>\n",
       "    </tr>\n",
       "    <tr>\n",
       "      <th>10</th>\n",
       "      <td>RD1</td>\n",
       "      <td>INH</td>\n",
       "      <td>2</td>\n",
       "      <td>EC99</td>\n",
       "    </tr>\n",
       "    <tr>\n",
       "      <th>11</th>\n",
       "      <td>RD1</td>\n",
       "      <td>BDQ</td>\n",
       "      <td>2.5</td>\n",
       "      <td>EC99</td>\n",
       "    </tr>\n",
       "    <tr>\n",
       "      <th>12</th>\n",
       "      <td>RD1</td>\n",
       "      <td>BDQ</td>\n",
       "      <td>2.5</td>\n",
       "      <td>EC99</td>\n",
       "    </tr>\n",
       "  </tbody>\n",
       "</table>\n",
       "</div>"
      ],
      "text/plain": [
       "           Strain Compound Concentration ConcentrationEC\n",
       "Row Column                                              \n",
       "3   1         UNI     CTRL             0             EC0\n",
       "    2         UNI     CTRL             0             EC0\n",
       "    3          WT     CTRL             0             EC0\n",
       "    4          WT     CTRL             0             EC0\n",
       "    5          WT      PZA            60            EC50\n",
       "    6          WT      PZA            60            EC50\n",
       "    7          WT      RIF           0.1            EC50\n",
       "    8          WT      RIF           0.1            EC50\n",
       "    9          WT      INH          0.04            EC50\n",
       "    10         WT      INH          0.04            EC50\n",
       "    11         WT      BDQ          0.02            EC50\n",
       "    12         WT      BDQ          0.02            EC50\n",
       "4   3          WT     CTRL             0             EC0\n",
       "    4          WT     CTRL             0             EC0\n",
       "    5          WT      PZA           400            EC99\n",
       "    6          WT      PZA           400            EC99\n",
       "    7          WT      RIF             2            EC99\n",
       "    8          WT      RIF             2            EC99\n",
       "    9          WT      INH             2            EC99\n",
       "    10         WT      INH             2            EC99\n",
       "    11         WT      BDQ           2.5            EC99\n",
       "    12         WT      BDQ           2.5            EC99\n",
       "5   3         RD1     CTRL             0             EC0\n",
       "    4         RD1     CTRL             0             EC0\n",
       "    5         RD1      PZA            60            EC50\n",
       "    6         RD1      PZA            60            EC50\n",
       "    7         RD1      RIF           0.1            EC50\n",
       "    8         RD1      RIF           0.1            EC50\n",
       "    9         RD1      INH          0.04            EC50\n",
       "    10        RD1      INH          0.04            EC50\n",
       "    11        RD1      BDQ          0.02            EC50\n",
       "    12        RD1      BDQ          0.02            EC50\n",
       "6   3         RD1     CTRL             0             EC0\n",
       "    4         RD1     CTRL             0             EC0\n",
       "    5         RD1      PZA           400            EC99\n",
       "    6         RD1      PZA           400            EC99\n",
       "    7         RD1      RIF             2            EC99\n",
       "    8         RD1      RIF             2            EC99\n",
       "    9         RD1      INH             2            EC99\n",
       "    10        RD1      INH             2            EC99\n",
       "    11        RD1      BDQ           2.5            EC99\n",
       "    12        RD1      BDQ           2.5            EC99"
      ]
     },
     "execution_count": 3,
     "metadata": {},
     "output_type": "execute_result"
    }
   ],
   "source": [
    "metadata_path = glob.glob(os.path.join(base_dir, 'acquisition/Assaylayout/*.xml'))[0]\n",
    "assay_layout = dataio.read_harmony_metadata(metadata_path, assay_layout=True,replicate_number=False)# mask_exist=True,  image_dir = image_dir, image_metadata = metadata)\n",
    "assay_layout"
   ]
  },
  {
   "cell_type": "markdown",
   "id": "57854230-8d4f-435b-8741-8415d64359c5",
   "metadata": {},
   "source": [
    "### Load using Zarr"
   ]
  },
  {
   "cell_type": "code",
   "execution_count": 4,
   "id": "6adad2b2-b195-4f96-b120-79b776ed37d9",
   "metadata": {},
   "outputs": [],
   "source": [
    "acq_ID = (4, 4)"
   ]
  },
  {
   "cell_type": "code",
   "execution_count": 5,
   "id": "5a804a99-74e5-4ddd-ae92-80b459202255",
   "metadata": {},
   "outputs": [],
   "source": [
    "image_dir = os.path.join(base_dir, f'acquisition/zarr/{acq_ID}.zarr')\n",
    "\n",
    "zarr_group = zarr.open(image_dir, mode='r')"
   ]
  },
  {
   "cell_type": "code",
   "execution_count": 6,
   "id": "88764bc6-f0ed-435c-87f4-dc31575ae270",
   "metadata": {},
   "outputs": [
    {
     "name": "stdout",
     "output_type": "stream",
     "text": [
      "CPU times: user 9.75 s, sys: 4.12 s, total: 13.9 s\n",
      "Wall time: 3.67 s\n"
     ]
    },
    {
     "data": {
      "text/plain": [
       "(150, 6048, 6048)"
      ]
     },
     "execution_count": 6,
     "metadata": {},
     "output_type": "execute_result"
    }
   ],
   "source": [
    "%%time\n",
    "images = zarr_group.images[:,1,1,...]\n",
    "images.shape"
   ]
  },
  {
   "cell_type": "code",
   "execution_count": null,
   "id": "3ebc2d6a-4a95-431d-b556-fa70037291e3",
   "metadata": {},
   "outputs": [],
   "source": [
    "images_max_proj = np.max(zarr_group.images, axis = 2)"
   ]
  },
  {
   "cell_type": "code",
   "execution_count": 8,
   "id": "0cdd3023-4252-42ff-98e4-3cb74e14aae9",
   "metadata": {},
   "outputs": [
    {
     "data": {
      "text/plain": [
       "(154, 2, 6048, 6048)"
      ]
     },
     "execution_count": 8,
     "metadata": {},
     "output_type": "execute_result"
    }
   ],
   "source": [
    "images_max_proj.shape"
   ]
  },
  {
   "cell_type": "code",
   "execution_count": 7,
   "id": "2c3e21a1-01e2-4abe-9603-8d1f004a9ef7",
   "metadata": {},
   "outputs": [
    {
     "data": {
      "text/plain": [
       "(150, 6048, 6048)"
      ]
     },
     "execution_count": 7,
     "metadata": {},
     "output_type": "execute_result"
    }
   ],
   "source": [
    "images.shape"
   ]
  },
  {
   "cell_type": "markdown",
   "id": "31afe91f-d9c1-4188-adc3-82fe552d47c1",
   "metadata": {},
   "source": [
    "#### Load downscaled version from mp4 videos"
   ]
  },
  {
   "cell_type": "code",
   "execution_count": 8,
   "id": "fa9cb80a-3678-43f8-b0c4-12623f4f90a4",
   "metadata": {},
   "outputs": [],
   "source": [
    "mp4_path = glob.glob(f'/mnt/SYNO/videos/macrohet_videos/{expt_ID}/{expt_ID}_{acq_ID}*')[0]"
   ]
  },
  {
   "cell_type": "markdown",
   "id": "2ccb7e40-d488-4a70-a124-0df7ad9a2e14",
   "metadata": {},
   "source": [
    "# Launch napari"
   ]
  },
  {
   "cell_type": "code",
   "execution_count": 8,
   "id": "cbd21fce-7457-4895-a60c-49bb1b3fb938",
   "metadata": {},
   "outputs": [
    {
     "data": {
      "text/plain": [
       "<Image layer 'images' at 0x7f55ea6ef460>"
      ]
     },
     "execution_count": 8,
     "metadata": {},
     "output_type": "execute_result"
    }
   ],
   "source": [
    "viewer = napari.Viewer(title = f'{expt_ID, acq_ID}, max_proj')\n",
    "\n",
    "\n",
    "viewer.add_image(images, #_max_proj,\n",
    "                 # channel_axis = 1, \n",
    "                 # colormap=['magenta', 'green'],\n",
    "                 blending = 'additive', \n",
    "                 # contrast_limits=[[350, 1000],[0, 7000]]\n",
    "                )"
   ]
  },
  {
   "cell_type": "code",
   "execution_count": 9,
   "id": "70debaf4-3417-408e-aaf2-8770249f64a6",
   "metadata": {},
   "outputs": [
    {
     "name": "stderr",
     "output_type": "stream",
     "text": [
      "[INFO][2024/10/02 04:20:52 pm] Opening HDF file: /mnt/SYNO/macrohet_syno/data/ND0002/labels/cpv3/(4, 4).h5...\n",
      "[INFO][2024/10/02 04:21:12 pm] Loading segmentation (150, 6048, 6048)\n",
      "[INFO][2024/10/02 04:21:12 pm] Loading tracks/obj_type_1\n",
      "[INFO][2024/10/02 04:21:12 pm] Loading LBEP/obj_type_1\n",
      "[INFO][2024/10/02 04:21:12 pm] Loading objects/obj_type_1 (27406, 5) (27406 filtered: None)\n",
      "[INFO][2024/10/02 04:21:12 pm] Closing HDF file: /mnt/SYNO/macrohet_syno/data/ND0002/labels/cpv3/(4, 4).h5\n"
     ]
    }
   ],
   "source": [
    "with btrack.io.HDF5FileHandler(os.path.join(f'/mnt/SYNO/macrohet_syno/data/{expt_ID}/labels/cpv3/{acq_ID}.h5'), #macrohet_seg_model \n",
    "                                           'r', \n",
    "                                           obj_type='obj_type_1'\n",
    "                                           ) as reader:\n",
    "                segmentation = reader.segmentation\n",
    "                tracks = reader.tracks"
   ]
  },
  {
   "cell_type": "markdown",
   "id": "3eda6d31-1a45-4f09-8789-1b89f99c5fc6",
   "metadata": {},
   "source": [
    "### Add tracks"
   ]
  },
  {
   "cell_type": "code",
   "execution_count": 10,
   "id": "a19cb4ca-5bcd-4e5e-9e1a-2aa1e2a40f59",
   "metadata": {},
   "outputs": [],
   "source": [
    "filtered_tracks = [track for track in tracks if len(track) > 35]"
   ]
  },
  {
   "cell_type": "code",
   "execution_count": 27,
   "id": "2d4b5a2d-a97b-4523-8393-fd8445cd08d6",
   "metadata": {},
   "outputs": [],
   "source": [
    "recoloured_seg = btrack.utils.update_segmentation(segmentation, filtered_tracks, scale = (5.04, 5.04))"
   ]
  },
  {
   "cell_type": "code",
   "execution_count": 11,
   "id": "2f4f3e1b-afb5-4652-9ff9-4d6e156e3c29",
   "metadata": {},
   "outputs": [],
   "source": [
    "napari_tracks, _, _ = btrack.utils.tracks_to_napari(filtered_tracks, ndim = 2)"
   ]
  },
  {
   "cell_type": "code",
   "execution_count": 12,
   "id": "fe30bbe5-27f6-4958-93d6-6a2b5a256ddf",
   "metadata": {},
   "outputs": [
    {
     "data": {
      "text/plain": [
       "<Tracks layer 'filtered' at 0x7f530c8426b0>"
      ]
     },
     "execution_count": 12,
     "metadata": {},
     "output_type": "execute_result"
    }
   ],
   "source": [
    "viewer.add_tracks(napari_tracks, scale=(1, 5.04, 5.04), name = 'filtered')"
   ]
  },
  {
   "cell_type": "markdown",
   "id": "7f834d02-1006-4bfe-99de-277f5952c3db",
   "metadata": {},
   "source": [
    "### Add segmentation"
   ]
  },
  {
   "cell_type": "code",
   "execution_count": 13,
   "id": "895eb2b2-b6c4-4ba5-8a12-831e919aecaa",
   "metadata": {},
   "outputs": [
    {
     "data": {
      "text/plain": [
       "<Labels layer 'segmentation' at 0x7f530c30d750>"
      ]
     },
     "execution_count": 13,
     "metadata": {},
     "output_type": "execute_result"
    },
    {
     "name": "stderr",
     "output_type": "stream",
     "text": [
      "/home/dayn/miniconda3/envs/godspeed/lib/python3.10/site-packages/kornia/feature/lightglue.py:44: FutureWarning: `torch.cuda.amp.custom_fwd(args...)` is deprecated. Please use `torch.amp.custom_fwd(args..., device_type='cuda')` instead.\n",
      "  @torch.cuda.amp.custom_fwd(cast_inputs=torch.float32)\n",
      "INFO:trackastra.model.model:Loading model state from /home/dayn/.trackastra/.models/general_2d/model.pt\n"
     ]
    },
    {
     "name": "stdout",
     "output_type": "stream",
     "text": [
      "/home/dayn/.trackastra/.models/general_2d already downloaded, skipping.\n"
     ]
    },
    {
     "name": "stderr",
     "output_type": "stream",
     "text": [
      "/home/dayn/miniconda3/envs/godspeed/lib/python3.10/site-packages/trackastra/model/model.py:498: FutureWarning: You are using `torch.load` with `weights_only=False` (the current default value), which uses the default pickle module implicitly. It is possible to construct malicious pickle data which will execute arbitrary code during unpickling (See https://github.com/pytorch/pytorch/blob/main/SECURITY.md#untrusted-models for more details). In a future release, the default value for `weights_only` will be flipped to `True`. This limits the functions that could be executed during unpickling. Arbitrary objects will no longer be allowed to be loaded via this mode unless they are explicitly allowlisted by the user via `torch.serialization.add_safe_globals`. We recommend you start setting `weights_only=True` for any use case where you don't have full control of the loaded file. Please open an issue on GitHub for any issues related to this experimental feature.\n",
      "  state = torch.load(fpath, map_location=map_location)\n",
      "INFO:trackastra.model.model_api:Using device cuda\n",
      "INFO:trackastra.model.model_api:Predicting weights for candidate graph\n"
     ]
    },
    {
     "name": "stdout",
     "output_type": "stream",
     "text": [
      "Tracking with mode greedy...\n"
     ]
    },
    {
     "name": "stderr",
     "output_type": "stream",
     "text": [
      "INFO:trackastra.data.wrfeat:Extracting features from 150 detections\n",
      "INFO:trackastra.data.wrfeat:Using single process for feature extraction\n",
      "INFO:trackastra.model.model_api:Building windows\n",
      "INFO:trackastra.model.model_api:Predicting windows\n",
      "INFO:trackastra.model.model_api:Running greedy tracker\n",
      "INFO:trackastra.tracking.tracking:Build candidate graph with delta_t=1\n",
      "INFO:trackastra.tracking.tracking:Added 33107 vertices, 24877 edges                                                    \n",
      "INFO:trackastra.tracking.tracking:Running greedy tracker\n",
      "Greedily matched edges:  98%|███████████████████████████████████████████████▉ | 24315/24877 [00:00<00:00, 66066.04it/s]\n",
      "Converting graph to CTC results: 100%|████████████████████████████████████████████| 4613/4613 [00:12<00:00, 380.21it/s]\n",
      "                                                                                                                       \r"
     ]
    }
   ],
   "source": [
    "viewer.add_labels(segmentation)\n",
    "# viewer.add_labels(recoloured_seg)"
   ]
  },
  {
   "cell_type": "code",
   "execution_count": 28,
   "id": "bb5bad4a-1d5b-4c7e-857a-2c42558855ed",
   "metadata": {},
   "outputs": [
    {
     "data": {
      "text/plain": [
       "[<Image layer 'Image [4]' at 0x7fa481516460>,\n",
       " <Image layer 'Image [5]' at 0x7fa4823087f0>]"
      ]
     },
     "execution_count": 28,
     "metadata": {},
     "output_type": "execute_result"
    }
   ],
   "source": [
    "viewer.add_image(images_max_proj[-5],\n",
    "                 channel_axis = 0, \n",
    "                 colormap=['green', 'magenta'],\n",
    "                 blending = 'additive', \n",
    "                 contrast_limits=[[0, 2400],[0, 1000]]\n",
    "                )"
   ]
  },
  {
   "cell_type": "code",
   "execution_count": null,
   "id": "92bef8d5-7f4d-4de3-84ee-2a18046493d6",
   "metadata": {},
   "outputs": [],
   "source": [
    "viewer.camera.reset()\n",
    "`"
   ]
  },
  {
   "cell_type": "code",
   "execution_count": 14,
   "id": "fd3aabbc-fe84-4d7c-9e9e-07d205892a75",
   "metadata": {},
   "outputs": [
    {
     "data": {
      "text/plain": [
       "<Points layer 'cell 126' at 0x7f248be4fa60>"
      ]
     },
     "execution_count": 14,
     "metadata": {},
     "output_type": "execute_result"
    }
   ],
   "source": [
    "visualise.highlight_cell(126, viewer, filtered_tracks, scale_factor=5.02)"
   ]
  },
  {
   "cell_type": "code",
   "execution_count": 20,
   "id": "1b702041-5cd8-4c57-a97e-fe473c182b48",
   "metadata": {},
   "outputs": [],
   "source": [
    "for layer in viewer.layers:\n",
    "    viewer.layers[layer.name].scale = (10, 1, 1)"
   ]
  },
  {
   "cell_type": "code",
   "execution_count": 21,
   "id": "dff942c0-5352-4ea9-b5f9-89c1bf44d61e",
   "metadata": {},
   "outputs": [
    {
     "data": {
      "text/plain": [
       "'filtered'"
      ]
     },
     "execution_count": 21,
     "metadata": {},
     "output_type": "execute_result"
    }
   ],
   "source": [
    "viewer.layers[2].name"
   ]
  },
  {
   "cell_type": "code",
   "execution_count": 22,
   "id": "440699aa-d084-4de0-98a2-ad6f13f52267",
   "metadata": {},
   "outputs": [],
   "source": [
    "viewer.layers[2].scale = (10,5.04, 5.04)"
   ]
  }
 ],
 "metadata": {
  "kernelspec": {
   "display_name": "godspeed",
   "language": "python",
   "name": "godspeed"
  },
  "language_info": {
   "codemirror_mode": {
    "name": "ipython",
    "version": 3
   },
   "file_extension": ".py",
   "mimetype": "text/x-python",
   "name": "python",
   "nbconvert_exporter": "python",
   "pygments_lexer": "ipython3",
   "version": "3.10.13"
  }
 },
 "nbformat": 4,
 "nbformat_minor": 5
}
