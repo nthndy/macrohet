{
 "cells": [
  {
   "cell_type": "markdown",
   "id": "e7452ae6",
   "metadata": {},
   "source": [
    "# Image viewer\n",
    "\n",
    "This notebook is for inspecting timelapse microscopy data, with associated sinhgle-cell labels and tracks, showing the infection of human macrophages with Mycobacterium Tuberculosis (Mtb), acquired on an Opera Phenix confocal microscope. "
   ]
  },
  {
   "cell_type": "code",
   "execution_count": 5,
   "id": "83d383f0",
   "metadata": {},
   "outputs": [
    {
     "name": "stdout",
     "output_type": "stream",
     "text": [
      "0.6.1.dev83\n"
     ]
    }
   ],
   "source": [
    "import napari\n",
    "from macrohet import dataio, tile, visualise\n",
    "import btrack\n",
    "print(btrack.__version__)\n",
    "import os, glob"
   ]
  },
  {
   "cell_type": "markdown",
   "id": "cb28dcb6",
   "metadata": {},
   "source": [
    "### Load experiment of choice\n",
    "\n",
    "The Opera Phenix is a high-throughput confocal microscope that acquires very large 5-dimensional (TCZXY) images over several fields of view in any one experiment. Therefore, a lazy-loading approach is chosen to mosaic, view and annotate these images. This approach depends upon Dask and DaskFusion. The first step is to load the main metadata file (typically called `Index.idx.xml` and located in the main `Images` directory) that contains the image filenames and associated TCXZY information used to organise the images."
   ]
  },
  {
   "cell_type": "code",
   "execution_count": 10,
   "id": "2f90d81a",
   "metadata": {},
   "outputs": [
    {
     "name": "stdout",
     "output_type": "stream",
     "text": [
      "Reading metadata XML file...\n"
     ]
    },
    {
     "data": {
      "application/vnd.jupyter.widget-view+json": {
       "model_id": "73bd8a8f2ceb42afa8da8a994639f38c",
       "version_major": 2,
       "version_minor": 0
      },
      "text/plain": [
       "Extracting HarmonyV5 metadata:   0%|          | 0/243648 [00:00<?, ?it/s]"
      ]
     },
     "metadata": {},
     "output_type": "display_data"
    },
    {
     "name": "stdout",
     "output_type": "stream",
     "text": [
      "Extracting metadata complete!\n"
     ]
    },
    {
     "data": {
      "text/html": [
       "<div>\n",
       "<style scoped>\n",
       "    .dataframe tbody tr th:only-of-type {\n",
       "        vertical-align: middle;\n",
       "    }\n",
       "\n",
       "    .dataframe tbody tr th {\n",
       "        vertical-align: top;\n",
       "    }\n",
       "\n",
       "    .dataframe thead th {\n",
       "        text-align: right;\n",
       "    }\n",
       "</style>\n",
       "<table border=\"1\" class=\"dataframe\">\n",
       "  <thead>\n",
       "    <tr style=\"text-align: right;\">\n",
       "      <th></th>\n",
       "      <th>id</th>\n",
       "      <th>State</th>\n",
       "      <th>URL</th>\n",
       "      <th>Row</th>\n",
       "      <th>Col</th>\n",
       "      <th>FieldID</th>\n",
       "      <th>PlaneID</th>\n",
       "      <th>TimepointID</th>\n",
       "      <th>ChannelID</th>\n",
       "      <th>FlimID</th>\n",
       "      <th>...</th>\n",
       "      <th>PositionZ</th>\n",
       "      <th>AbsPositionZ</th>\n",
       "      <th>MeasurementTimeOffset</th>\n",
       "      <th>AbsTime</th>\n",
       "      <th>MainExcitationWavelength</th>\n",
       "      <th>MainEmissionWavelength</th>\n",
       "      <th>ObjectiveMagnification</th>\n",
       "      <th>ObjectiveNA</th>\n",
       "      <th>ExposureTime</th>\n",
       "      <th>OrientationMatrix</th>\n",
       "    </tr>\n",
       "  </thead>\n",
       "  <tbody>\n",
       "    <tr>\n",
       "      <th>0</th>\n",
       "      <td>0203K1F1P1R1</td>\n",
       "      <td>Ok</td>\n",
       "      <td>r02c03f01p01-ch1sk1fk1fl1.tiff</td>\n",
       "      <td>2</td>\n",
       "      <td>3</td>\n",
       "      <td>1</td>\n",
       "      <td>1</td>\n",
       "      <td>0</td>\n",
       "      <td>1</td>\n",
       "      <td>1</td>\n",
       "      <td>...</td>\n",
       "      <td>0</td>\n",
       "      <td>0.135205805</td>\n",
       "      <td>0</td>\n",
       "      <td>2023-08-04T15:28:16.5+01:00</td>\n",
       "      <td>561</td>\n",
       "      <td>599</td>\n",
       "      <td>40</td>\n",
       "      <td>1.1</td>\n",
       "      <td>0.2</td>\n",
       "      <td>[[0.994928,0,0,15.1],[0,-0.994928,0,-5.3],[0,0...</td>\n",
       "    </tr>\n",
       "    <tr>\n",
       "      <th>1</th>\n",
       "      <td>0203K1F1P1R2</td>\n",
       "      <td>Ok</td>\n",
       "      <td>r02c03f01p01-ch2sk1fk1fl1.tiff</td>\n",
       "      <td>2</td>\n",
       "      <td>3</td>\n",
       "      <td>1</td>\n",
       "      <td>1</td>\n",
       "      <td>0</td>\n",
       "      <td>2</td>\n",
       "      <td>1</td>\n",
       "      <td>...</td>\n",
       "      <td>0</td>\n",
       "      <td>0.135205805</td>\n",
       "      <td>0</td>\n",
       "      <td>2023-08-04T15:28:16.5+01:00</td>\n",
       "      <td>740</td>\n",
       "      <td>0</td>\n",
       "      <td>40</td>\n",
       "      <td>1.1</td>\n",
       "      <td>0.2</td>\n",
       "      <td>[[0.994928,0,0,15.1],[0,-0.994928,0,-5.3],[0,0...</td>\n",
       "    </tr>\n",
       "    <tr>\n",
       "      <th>2</th>\n",
       "      <td>0203K1F1P1R3</td>\n",
       "      <td>Ok</td>\n",
       "      <td>r02c03f01p01-ch3sk1fk1fl1.tiff</td>\n",
       "      <td>2</td>\n",
       "      <td>3</td>\n",
       "      <td>1</td>\n",
       "      <td>1</td>\n",
       "      <td>0</td>\n",
       "      <td>3</td>\n",
       "      <td>1</td>\n",
       "      <td>...</td>\n",
       "      <td>0</td>\n",
       "      <td>0.135205805</td>\n",
       "      <td>0</td>\n",
       "      <td>2023-08-04T15:28:16.767+01:00</td>\n",
       "      <td>640</td>\n",
       "      <td>706</td>\n",
       "      <td>40</td>\n",
       "      <td>1.1</td>\n",
       "      <td>0.2</td>\n",
       "      <td>[[0.994928,0,0,15.1],[0,-0.994928,0,-5.3],[0,0...</td>\n",
       "    </tr>\n",
       "    <tr>\n",
       "      <th>3</th>\n",
       "      <td>0203K1F1P2R1</td>\n",
       "      <td>Ok</td>\n",
       "      <td>r02c03f01p02-ch1sk1fk1fl1.tiff</td>\n",
       "      <td>2</td>\n",
       "      <td>3</td>\n",
       "      <td>1</td>\n",
       "      <td>2</td>\n",
       "      <td>0</td>\n",
       "      <td>1</td>\n",
       "      <td>1</td>\n",
       "      <td>...</td>\n",
       "      <td>2E-06</td>\n",
       "      <td>0.135207802</td>\n",
       "      <td>0</td>\n",
       "      <td>2023-08-04T15:28:17.047+01:00</td>\n",
       "      <td>561</td>\n",
       "      <td>599</td>\n",
       "      <td>40</td>\n",
       "      <td>1.1</td>\n",
       "      <td>0.2</td>\n",
       "      <td>[[0.994928,0,0,15.1],[0,-0.994928,0,-5.3],[0,0...</td>\n",
       "    </tr>\n",
       "    <tr>\n",
       "      <th>4</th>\n",
       "      <td>0203K1F1P2R2</td>\n",
       "      <td>Ok</td>\n",
       "      <td>r02c03f01p02-ch2sk1fk1fl1.tiff</td>\n",
       "      <td>2</td>\n",
       "      <td>3</td>\n",
       "      <td>1</td>\n",
       "      <td>2</td>\n",
       "      <td>0</td>\n",
       "      <td>2</td>\n",
       "      <td>1</td>\n",
       "      <td>...</td>\n",
       "      <td>2E-06</td>\n",
       "      <td>0.135207802</td>\n",
       "      <td>0</td>\n",
       "      <td>2023-08-04T15:28:17.047+01:00</td>\n",
       "      <td>740</td>\n",
       "      <td>0</td>\n",
       "      <td>40</td>\n",
       "      <td>1.1</td>\n",
       "      <td>0.2</td>\n",
       "      <td>[[0.994928,0,0,15.1],[0,-0.994928,0,-5.3],[0,0...</td>\n",
       "    </tr>\n",
       "    <tr>\n",
       "      <th>...</th>\n",
       "      <td>...</td>\n",
       "      <td>...</td>\n",
       "      <td>...</td>\n",
       "      <td>...</td>\n",
       "      <td>...</td>\n",
       "      <td>...</td>\n",
       "      <td>...</td>\n",
       "      <td>...</td>\n",
       "      <td>...</td>\n",
       "      <td>...</td>\n",
       "      <td>...</td>\n",
       "      <td>...</td>\n",
       "      <td>...</td>\n",
       "      <td>...</td>\n",
       "      <td>...</td>\n",
       "      <td>...</td>\n",
       "      <td>...</td>\n",
       "      <td>...</td>\n",
       "      <td>...</td>\n",
       "      <td>...</td>\n",
       "      <td>...</td>\n",
       "    </tr>\n",
       "    <tr>\n",
       "      <th>243643</th>\n",
       "      <td>0310K376F9P2R2</td>\n",
       "      <td>Ok</td>\n",
       "      <td>r03c10f09p02-ch2sk376fk1fl1.tiff</td>\n",
       "      <td>3</td>\n",
       "      <td>10</td>\n",
       "      <td>9</td>\n",
       "      <td>2</td>\n",
       "      <td>375</td>\n",
       "      <td>2</td>\n",
       "      <td>1</td>\n",
       "      <td>...</td>\n",
       "      <td>2E-06</td>\n",
       "      <td>0.135064006</td>\n",
       "      <td>337503.973</td>\n",
       "      <td>2023-08-08T13:15:47.533+01:00</td>\n",
       "      <td>740</td>\n",
       "      <td>0</td>\n",
       "      <td>40</td>\n",
       "      <td>1.1</td>\n",
       "      <td>0.2</td>\n",
       "      <td>[[0.994928,0,0,15.1],[0,-0.994928,0,-5.3],[0,0...</td>\n",
       "    </tr>\n",
       "    <tr>\n",
       "      <th>243644</th>\n",
       "      <td>0310K376F9P2R3</td>\n",
       "      <td>Ok</td>\n",
       "      <td>r03c10f09p02-ch3sk376fk1fl1.tiff</td>\n",
       "      <td>3</td>\n",
       "      <td>10</td>\n",
       "      <td>9</td>\n",
       "      <td>2</td>\n",
       "      <td>375</td>\n",
       "      <td>3</td>\n",
       "      <td>1</td>\n",
       "      <td>...</td>\n",
       "      <td>2E-06</td>\n",
       "      <td>0.135064006</td>\n",
       "      <td>337503.973</td>\n",
       "      <td>2023-08-08T13:15:47.8+01:00</td>\n",
       "      <td>640</td>\n",
       "      <td>706</td>\n",
       "      <td>40</td>\n",
       "      <td>1.1</td>\n",
       "      <td>0.2</td>\n",
       "      <td>[[0.994928,0,0,15.1],[0,-0.994928,0,-5.3],[0,0...</td>\n",
       "    </tr>\n",
       "    <tr>\n",
       "      <th>243645</th>\n",
       "      <td>0310K376F9P3R1</td>\n",
       "      <td>Ok</td>\n",
       "      <td>r03c10f09p03-ch1sk376fk1fl1.tiff</td>\n",
       "      <td>3</td>\n",
       "      <td>10</td>\n",
       "      <td>9</td>\n",
       "      <td>3</td>\n",
       "      <td>375</td>\n",
       "      <td>1</td>\n",
       "      <td>1</td>\n",
       "      <td>...</td>\n",
       "      <td>4E-06</td>\n",
       "      <td>0.135066003</td>\n",
       "      <td>337503.973</td>\n",
       "      <td>2023-08-08T13:15:48.08+01:00</td>\n",
       "      <td>561</td>\n",
       "      <td>599</td>\n",
       "      <td>40</td>\n",
       "      <td>1.1</td>\n",
       "      <td>0.2</td>\n",
       "      <td>[[0.994928,0,0,15.1],[0,-0.994928,0,-5.3],[0,0...</td>\n",
       "    </tr>\n",
       "    <tr>\n",
       "      <th>243646</th>\n",
       "      <td>0310K376F9P3R2</td>\n",
       "      <td>Ok</td>\n",
       "      <td>r03c10f09p03-ch2sk376fk1fl1.tiff</td>\n",
       "      <td>3</td>\n",
       "      <td>10</td>\n",
       "      <td>9</td>\n",
       "      <td>3</td>\n",
       "      <td>375</td>\n",
       "      <td>2</td>\n",
       "      <td>1</td>\n",
       "      <td>...</td>\n",
       "      <td>4E-06</td>\n",
       "      <td>0.135066003</td>\n",
       "      <td>337503.973</td>\n",
       "      <td>2023-08-08T13:15:48.097+01:00</td>\n",
       "      <td>740</td>\n",
       "      <td>0</td>\n",
       "      <td>40</td>\n",
       "      <td>1.1</td>\n",
       "      <td>0.2</td>\n",
       "      <td>[[0.994928,0,0,15.1],[0,-0.994928,0,-5.3],[0,0...</td>\n",
       "    </tr>\n",
       "    <tr>\n",
       "      <th>243647</th>\n",
       "      <td>0310K376F9P3R3</td>\n",
       "      <td>Ok</td>\n",
       "      <td>r03c10f09p03-ch3sk376fk1fl1.tiff</td>\n",
       "      <td>3</td>\n",
       "      <td>10</td>\n",
       "      <td>9</td>\n",
       "      <td>3</td>\n",
       "      <td>375</td>\n",
       "      <td>3</td>\n",
       "      <td>1</td>\n",
       "      <td>...</td>\n",
       "      <td>4E-06</td>\n",
       "      <td>0.135066003</td>\n",
       "      <td>337503.973</td>\n",
       "      <td>2023-08-08T13:15:48.36+01:00</td>\n",
       "      <td>640</td>\n",
       "      <td>706</td>\n",
       "      <td>40</td>\n",
       "      <td>1.1</td>\n",
       "      <td>0.2</td>\n",
       "      <td>[[0.994928,0,0,15.1],[0,-0.994928,0,-5.3],[0,0...</td>\n",
       "    </tr>\n",
       "  </tbody>\n",
       "</table>\n",
       "<p>243648 rows × 35 columns</p>\n",
       "</div>"
      ],
      "text/plain": [
       "                    id State                               URL Row Col  \\\n",
       "0         0203K1F1P1R1    Ok    r02c03f01p01-ch1sk1fk1fl1.tiff   2   3   \n",
       "1         0203K1F1P1R2    Ok    r02c03f01p01-ch2sk1fk1fl1.tiff   2   3   \n",
       "2         0203K1F1P1R3    Ok    r02c03f01p01-ch3sk1fk1fl1.tiff   2   3   \n",
       "3         0203K1F1P2R1    Ok    r02c03f01p02-ch1sk1fk1fl1.tiff   2   3   \n",
       "4         0203K1F1P2R2    Ok    r02c03f01p02-ch2sk1fk1fl1.tiff   2   3   \n",
       "...                ...   ...                               ...  ..  ..   \n",
       "243643  0310K376F9P2R2    Ok  r03c10f09p02-ch2sk376fk1fl1.tiff   3  10   \n",
       "243644  0310K376F9P2R3    Ok  r03c10f09p02-ch3sk376fk1fl1.tiff   3  10   \n",
       "243645  0310K376F9P3R1    Ok  r03c10f09p03-ch1sk376fk1fl1.tiff   3  10   \n",
       "243646  0310K376F9P3R2    Ok  r03c10f09p03-ch2sk376fk1fl1.tiff   3  10   \n",
       "243647  0310K376F9P3R3    Ok  r03c10f09p03-ch3sk376fk1fl1.tiff   3  10   \n",
       "\n",
       "       FieldID PlaneID TimepointID ChannelID FlimID  ... PositionZ  \\\n",
       "0            1       1           0         1      1  ...         0   \n",
       "1            1       1           0         2      1  ...         0   \n",
       "2            1       1           0         3      1  ...         0   \n",
       "3            1       2           0         1      1  ...     2E-06   \n",
       "4            1       2           0         2      1  ...     2E-06   \n",
       "...        ...     ...         ...       ...    ...  ...       ...   \n",
       "243643       9       2         375         2      1  ...     2E-06   \n",
       "243644       9       2         375         3      1  ...     2E-06   \n",
       "243645       9       3         375         1      1  ...     4E-06   \n",
       "243646       9       3         375         2      1  ...     4E-06   \n",
       "243647       9       3         375         3      1  ...     4E-06   \n",
       "\n",
       "       AbsPositionZ MeasurementTimeOffset                        AbsTime  \\\n",
       "0       0.135205805                     0    2023-08-04T15:28:16.5+01:00   \n",
       "1       0.135205805                     0    2023-08-04T15:28:16.5+01:00   \n",
       "2       0.135205805                     0  2023-08-04T15:28:16.767+01:00   \n",
       "3       0.135207802                     0  2023-08-04T15:28:17.047+01:00   \n",
       "4       0.135207802                     0  2023-08-04T15:28:17.047+01:00   \n",
       "...             ...                   ...                            ...   \n",
       "243643  0.135064006            337503.973  2023-08-08T13:15:47.533+01:00   \n",
       "243644  0.135064006            337503.973    2023-08-08T13:15:47.8+01:00   \n",
       "243645  0.135066003            337503.973   2023-08-08T13:15:48.08+01:00   \n",
       "243646  0.135066003            337503.973  2023-08-08T13:15:48.097+01:00   \n",
       "243647  0.135066003            337503.973   2023-08-08T13:15:48.36+01:00   \n",
       "\n",
       "       MainExcitationWavelength MainEmissionWavelength ObjectiveMagnification  \\\n",
       "0                           561                    599                     40   \n",
       "1                           740                      0                     40   \n",
       "2                           640                    706                     40   \n",
       "3                           561                    599                     40   \n",
       "4                           740                      0                     40   \n",
       "...                         ...                    ...                    ...   \n",
       "243643                      740                      0                     40   \n",
       "243644                      640                    706                     40   \n",
       "243645                      561                    599                     40   \n",
       "243646                      740                      0                     40   \n",
       "243647                      640                    706                     40   \n",
       "\n",
       "       ObjectiveNA ExposureTime  \\\n",
       "0              1.1          0.2   \n",
       "1              1.1          0.2   \n",
       "2              1.1          0.2   \n",
       "3              1.1          0.2   \n",
       "4              1.1          0.2   \n",
       "...            ...          ...   \n",
       "243643         1.1          0.2   \n",
       "243644         1.1          0.2   \n",
       "243645         1.1          0.2   \n",
       "243646         1.1          0.2   \n",
       "243647         1.1          0.2   \n",
       "\n",
       "                                        OrientationMatrix  \n",
       "0       [[0.994928,0,0,15.1],[0,-0.994928,0,-5.3],[0,0...  \n",
       "1       [[0.994928,0,0,15.1],[0,-0.994928,0,-5.3],[0,0...  \n",
       "2       [[0.994928,0,0,15.1],[0,-0.994928,0,-5.3],[0,0...  \n",
       "3       [[0.994928,0,0,15.1],[0,-0.994928,0,-5.3],[0,0...  \n",
       "4       [[0.994928,0,0,15.1],[0,-0.994928,0,-5.3],[0,0...  \n",
       "...                                                   ...  \n",
       "243643  [[0.994928,0,0,15.1],[0,-0.994928,0,-5.3],[0,0...  \n",
       "243644  [[0.994928,0,0,15.1],[0,-0.994928,0,-5.3],[0,0...  \n",
       "243645  [[0.994928,0,0,15.1],[0,-0.994928,0,-5.3],[0,0...  \n",
       "243646  [[0.994928,0,0,15.1],[0,-0.994928,0,-5.3],[0,0...  \n",
       "243647  [[0.994928,0,0,15.1],[0,-0.994928,0,-5.3],[0,0...  \n",
       "\n",
       "[243648 rows x 35 columns]"
      ]
     },
     "execution_count": 10,
     "metadata": {},
     "output_type": "execute_result"
    }
   ],
   "source": [
    "# base_dir = '/mnt/DATA/macrohet/'\n",
    "base_dir = '/run/user/30046150/gvfs/smb-share:server=data2.thecrick.org,share=lab-gutierrezm/home/users/dayn/macrohet_nemo/macrohet_images/NDXXXX_optimisation/ND0000__2023-08-04T15_27_41-Measurement 1'\n",
    "# base_dir = '/Volumes/lab-gutierrezm/home/users/dayn/macrohet_nemo/'\n",
    "# metadata_fn = os.path.join(base_dir, 'macrohet_images/Index.idx.xml')\n",
    "metadata_fn = os.path.join(base_dir, 'Images/Index.idx.xml')\n",
    "metadata = dataio.read_harmony_metadata(metadata_fn)  \n",
    "metadata"
   ]
  },
  {
   "cell_type": "markdown",
   "id": "4779c1f0",
   "metadata": {},
   "source": [
    "### View assay layout and mask information (optional)\n",
    "\n",
    "The Opera Phenix acquires many time lapse series from a range of positions. The first step is to inspect the image metadata, presented in the form of an `Assaylayout/experiment_ID.xml` file, to show which positions correspond to which experimental assays."
   ]
  },
  {
   "cell_type": "code",
   "execution_count": 7,
   "id": "4b75643e",
   "metadata": {},
   "outputs": [
    {
     "name": "stdout",
     "output_type": "stream",
     "text": [
      "Reading metadata XML file...\n",
      "Extracting metadata complete!\n"
     ]
    },
    {
     "data": {
      "text/html": [
       "<div>\n",
       "<style scoped>\n",
       "    .dataframe tbody tr th:only-of-type {\n",
       "        vertical-align: middle;\n",
       "    }\n",
       "\n",
       "    .dataframe tbody tr th {\n",
       "        vertical-align: top;\n",
       "    }\n",
       "\n",
       "    .dataframe thead th {\n",
       "        text-align: right;\n",
       "    }\n",
       "</style>\n",
       "<table border=\"1\" class=\"dataframe\">\n",
       "  <thead>\n",
       "    <tr style=\"text-align: right;\">\n",
       "      <th></th>\n",
       "      <th></th>\n",
       "      <th>Cell Count</th>\n",
       "      <th>double</th>\n",
       "      <th>Staining</th>\n",
       "      <th>Infection</th>\n",
       "    </tr>\n",
       "  </thead>\n",
       "  <tbody>\n",
       "    <tr>\n",
       "      <th rowspan=\"12\" valign=\"top\">2</th>\n",
       "      <th>1</th>\n",
       "      <td>NaN</td>\n",
       "      <td>50000</td>\n",
       "      <td>False</td>\n",
       "      <td>False</td>\n",
       "    </tr>\n",
       "    <tr>\n",
       "      <th>2</th>\n",
       "      <td>NaN</td>\n",
       "      <td>50000</td>\n",
       "      <td>False</td>\n",
       "      <td>False</td>\n",
       "    </tr>\n",
       "    <tr>\n",
       "      <th>3</th>\n",
       "      <td>NaN</td>\n",
       "      <td>50000</td>\n",
       "      <td>False</td>\n",
       "      <td>False</td>\n",
       "    </tr>\n",
       "    <tr>\n",
       "      <th>4</th>\n",
       "      <td>NaN</td>\n",
       "      <td>50000</td>\n",
       "      <td>False</td>\n",
       "      <td>True</td>\n",
       "    </tr>\n",
       "    <tr>\n",
       "      <th>5</th>\n",
       "      <td>NaN</td>\n",
       "      <td>50000</td>\n",
       "      <td>False</td>\n",
       "      <td>True</td>\n",
       "    </tr>\n",
       "    <tr>\n",
       "      <th>6</th>\n",
       "      <td>NaN</td>\n",
       "      <td>50000</td>\n",
       "      <td>False</td>\n",
       "      <td>True</td>\n",
       "    </tr>\n",
       "    <tr>\n",
       "      <th>7</th>\n",
       "      <td>NaN</td>\n",
       "      <td>50000</td>\n",
       "      <td>True</td>\n",
       "      <td>False</td>\n",
       "    </tr>\n",
       "    <tr>\n",
       "      <th>8</th>\n",
       "      <td>NaN</td>\n",
       "      <td>50000</td>\n",
       "      <td>True</td>\n",
       "      <td>False</td>\n",
       "    </tr>\n",
       "    <tr>\n",
       "      <th>9</th>\n",
       "      <td>NaN</td>\n",
       "      <td>50000</td>\n",
       "      <td>True</td>\n",
       "      <td>False</td>\n",
       "    </tr>\n",
       "    <tr>\n",
       "      <th>10</th>\n",
       "      <td>NaN</td>\n",
       "      <td>50000</td>\n",
       "      <td>True</td>\n",
       "      <td>True</td>\n",
       "    </tr>\n",
       "    <tr>\n",
       "      <th>11</th>\n",
       "      <td>NaN</td>\n",
       "      <td>50000</td>\n",
       "      <td>True</td>\n",
       "      <td>True</td>\n",
       "    </tr>\n",
       "    <tr>\n",
       "      <th>12</th>\n",
       "      <td>NaN</td>\n",
       "      <td>50000</td>\n",
       "      <td>True</td>\n",
       "      <td>True</td>\n",
       "    </tr>\n",
       "    <tr>\n",
       "      <th rowspan=\"12\" valign=\"top\">3</th>\n",
       "      <th>1</th>\n",
       "      <td>NaN</td>\n",
       "      <td>25000</td>\n",
       "      <td>False</td>\n",
       "      <td>False</td>\n",
       "    </tr>\n",
       "    <tr>\n",
       "      <th>2</th>\n",
       "      <td>NaN</td>\n",
       "      <td>25000</td>\n",
       "      <td>False</td>\n",
       "      <td>False</td>\n",
       "    </tr>\n",
       "    <tr>\n",
       "      <th>3</th>\n",
       "      <td>NaN</td>\n",
       "      <td>25000</td>\n",
       "      <td>False</td>\n",
       "      <td>False</td>\n",
       "    </tr>\n",
       "    <tr>\n",
       "      <th>4</th>\n",
       "      <td>NaN</td>\n",
       "      <td>25000</td>\n",
       "      <td>False</td>\n",
       "      <td>True</td>\n",
       "    </tr>\n",
       "    <tr>\n",
       "      <th>5</th>\n",
       "      <td>NaN</td>\n",
       "      <td>25000</td>\n",
       "      <td>False</td>\n",
       "      <td>True</td>\n",
       "    </tr>\n",
       "    <tr>\n",
       "      <th>6</th>\n",
       "      <td>NaN</td>\n",
       "      <td>25000</td>\n",
       "      <td>False</td>\n",
       "      <td>True</td>\n",
       "    </tr>\n",
       "    <tr>\n",
       "      <th>7</th>\n",
       "      <td>NaN</td>\n",
       "      <td>25000</td>\n",
       "      <td>True</td>\n",
       "      <td>False</td>\n",
       "    </tr>\n",
       "    <tr>\n",
       "      <th>8</th>\n",
       "      <td>NaN</td>\n",
       "      <td>25000</td>\n",
       "      <td>True</td>\n",
       "      <td>False</td>\n",
       "    </tr>\n",
       "    <tr>\n",
       "      <th>9</th>\n",
       "      <td>NaN</td>\n",
       "      <td>25000</td>\n",
       "      <td>True</td>\n",
       "      <td>False</td>\n",
       "    </tr>\n",
       "    <tr>\n",
       "      <th>10</th>\n",
       "      <td>NaN</td>\n",
       "      <td>25000</td>\n",
       "      <td>True</td>\n",
       "      <td>True</td>\n",
       "    </tr>\n",
       "    <tr>\n",
       "      <th>11</th>\n",
       "      <td>NaN</td>\n",
       "      <td>25000</td>\n",
       "      <td>True</td>\n",
       "      <td>True</td>\n",
       "    </tr>\n",
       "    <tr>\n",
       "      <th>12</th>\n",
       "      <td>NaN</td>\n",
       "      <td>25000</td>\n",
       "      <td>True</td>\n",
       "      <td>True</td>\n",
       "    </tr>\n",
       "  </tbody>\n",
       "</table>\n",
       "</div>"
      ],
      "text/plain": [
       "      Cell Count double Staining Infection\n",
       "2 1          NaN  50000    False     False\n",
       "  2          NaN  50000    False     False\n",
       "  3          NaN  50000    False     False\n",
       "  4          NaN  50000    False      True\n",
       "  5          NaN  50000    False      True\n",
       "  6          NaN  50000    False      True\n",
       "  7          NaN  50000     True     False\n",
       "  8          NaN  50000     True     False\n",
       "  9          NaN  50000     True     False\n",
       "  10         NaN  50000     True      True\n",
       "  11         NaN  50000     True      True\n",
       "  12         NaN  50000     True      True\n",
       "3 1          NaN  25000    False     False\n",
       "  2          NaN  25000    False     False\n",
       "  3          NaN  25000    False     False\n",
       "  4          NaN  25000    False      True\n",
       "  5          NaN  25000    False      True\n",
       "  6          NaN  25000    False      True\n",
       "  7          NaN  25000     True     False\n",
       "  8          NaN  25000     True     False\n",
       "  9          NaN  25000     True     False\n",
       "  10         NaN  25000     True      True\n",
       "  11         NaN  25000     True      True\n",
       "  12         NaN  25000     True      True"
      ]
     },
     "execution_count": 7,
     "metadata": {},
     "output_type": "execute_result"
    }
   ],
   "source": [
    "# metadata_path = os.path.join(base_dir, 'macrohet_images/Assaylayout/20210602_Live_cell_IPSDMGFP_ATB.xml')\n",
    "metadata_path = glob.glob(os.path.join(base_dir, 'Assaylayout/*.xml'))[0]\n",
    "assay_layout = dataio.read_harmony_metadata(metadata_path, assay_layout=True,)# mask_exist=True,  image_dir = image_dir, image_metadata = metadata)\n",
    "assay_layout"
   ]
  },
  {
   "cell_type": "markdown",
   "id": "e9d4dc7f",
   "metadata": {},
   "source": [
    "### Define row and column of choice"
   ]
  },
  {
   "cell_type": "code",
   "execution_count": 11,
   "id": "661b558f",
   "metadata": {},
   "outputs": [],
   "source": [
    "row = 2\n",
    "column = 1"
   ]
  },
  {
   "cell_type": "markdown",
   "id": "bee546c2",
   "metadata": {},
   "source": [
    "### Now to lazily mosaic the images using Dask prior to viewing them.\n",
    "\n",
    "1x (75,2,3) [TCZ] image stack takes approximately 1 minute to stitch together, so only load the one field of view I want."
   ]
  },
  {
   "cell_type": "code",
   "execution_count": 15,
   "id": "5f10418d-a483-4e30-aff5-a7b1667a951e",
   "metadata": {},
   "outputs": [
    {
     "data": {
      "text/plain": [
       "[]"
      ]
     },
     "execution_count": 15,
     "metadata": {},
     "output_type": "execute_result"
    }
   ],
   "source": [
    "glob.glob(os.path.join(image_dir, '*r02c01*.tif'))"
   ]
  },
  {
   "cell_type": "code",
   "execution_count": 16,
   "id": "1d918415-b675-45fc-898f-4bf7a0501d8c",
   "metadata": {},
   "outputs": [
    {
     "ename": "OSError",
     "evalue": "[Errno 5] Input/output error: '/run/user/30046150/gvfs/smb-share:server=data2.thecrick.org,share=lab-gutierrezm/home/users/dayn/macrohet_nemo/macrohet_images/NDXXXX_optimisation/ND0000__2023-08-04T15_27_41-Measurement 1/Images'",
     "output_type": "error",
     "traceback": [
      "\u001b[0;31m---------------------------------------------------------------------------\u001b[0m",
      "\u001b[0;31mOSError\u001b[0m                                   Traceback (most recent call last)",
      "Input \u001b[0;32mIn [16]\u001b[0m, in \u001b[0;36m<cell line: 1>\u001b[0;34m()\u001b[0m\n\u001b[0;32m----> 1\u001b[0m fns \u001b[38;5;241m=\u001b[39m \u001b[43mos\u001b[49m\u001b[38;5;241;43m.\u001b[39;49m\u001b[43mlistdir\u001b[49m\u001b[43m(\u001b[49m\u001b[43mimage_dir\u001b[49m\u001b[43m)\u001b[49m\n",
      "\u001b[0;31mOSError\u001b[0m: [Errno 5] Input/output error: '/run/user/30046150/gvfs/smb-share:server=data2.thecrick.org,share=lab-gutierrezm/home/users/dayn/macrohet_nemo/macrohet_images/NDXXXX_optimisation/ND0000__2023-08-04T15_27_41-Measurement 1/Images'"
     ]
    }
   ],
   "source": [
    "fns = os.listdir(image_dir)"
   ]
  },
  {
   "cell_type": "code",
   "execution_count": 24,
   "id": "09c8ee3e-4c8e-431a-8589-2a320daa8d37",
   "metadata": {},
   "outputs": [],
   "source": [
    "sd = os.scandir(image_dir)"
   ]
  },
  {
   "cell_type": "code",
   "execution_count": 29,
   "id": "265a979e-04e6-4b82-8b5e-1dc5cb971309",
   "metadata": {},
   "outputs": [
    {
     "name": "stdout",
     "output_type": "stream",
     "text": [
      "No matching files found in the directory.\n"
     ]
    }
   ],
   "source": [
    "def get_first_filename(directory, pattern=\"*.tif\"):\n",
    "    \"\"\"\n",
    "    Retrieves the first filename from a directory matching a specific pattern.\n",
    "    \n",
    "    :param directory: Directory to inspect.\n",
    "    :param pattern: Pattern to match (default is \"*\", which matches all files).\n",
    "    :return: The first filename matching the pattern or None if no matches are found.\n",
    "    \"\"\"\n",
    "    iterator = glob.iglob(f\"{directory}/{pattern}\")\n",
    "    for filename in iterator:\n",
    "        return filename\n",
    "    return None\n",
    "\n",
    "# Usage:\n",
    "directory_path = image_dir\n",
    "filename = get_first_filename(directory_path)\n",
    "if filename:\n",
    "    print(f\"First filename in the directory: {filename}\")\n",
    "else:\n",
    "    print(\"No matching files found in the directory.\")"
   ]
  },
  {
   "cell_type": "code",
   "execution_count": null,
   "id": "9a13ab35-d773-42c1-b207-44c0b6d4b806",
   "metadata": {},
   "outputs": [],
   "source": [
    "print(fns[0])"
   ]
  },
  {
   "cell_type": "code",
   "execution_count": 27,
   "id": "72561ec6",
   "metadata": {},
   "outputs": [
    {
     "ename": "IndexError",
     "evalue": "list index out of range",
     "output_type": "error",
     "traceback": [
      "\u001b[0;31m---------------------------------------------------------------------------\u001b[0m",
      "\u001b[0;31mIndexError\u001b[0m                                Traceback (most recent call last)",
      "Input \u001b[0;32mIn [27]\u001b[0m, in \u001b[0;36m<cell line: 3>\u001b[0;34m()\u001b[0m\n\u001b[1;32m      1\u001b[0m \u001b[38;5;66;03m# image_dir = os.path.join(base_dir, 'macrohet_images/Images_8bit')\u001b[39;00m\n\u001b[1;32m      2\u001b[0m image_dir \u001b[38;5;241m=\u001b[39m os\u001b[38;5;241m.\u001b[39mpath\u001b[38;5;241m.\u001b[39mjoin(base_dir, \u001b[38;5;124m'\u001b[39m\u001b[38;5;124mImages\u001b[39m\u001b[38;5;124m'\u001b[39m)\n\u001b[0;32m----> 3\u001b[0m images \u001b[38;5;241m=\u001b[39m \u001b[43mtile\u001b[49m\u001b[38;5;241;43m.\u001b[39;49m\u001b[43mcompile_mosaic\u001b[49m\u001b[43m(\u001b[49m\u001b[43mimage_dir\u001b[49m\u001b[43m,\u001b[49m\u001b[43m \u001b[49m\n\u001b[1;32m      4\u001b[0m \u001b[43m                             \u001b[49m\u001b[43mmetadata\u001b[49m\u001b[43m,\u001b[49m\u001b[43m \u001b[49m\n\u001b[1;32m      5\u001b[0m \u001b[43m                             \u001b[49m\u001b[43mrow\u001b[49m\u001b[43m,\u001b[49m\u001b[43m \u001b[49m\u001b[43mcolumn\u001b[49m\u001b[43m,\u001b[49m\u001b[43m \u001b[49m\n\u001b[1;32m      6\u001b[0m \u001b[43m                             \u001b[49m\u001b[43mset_plane\u001b[49m\u001b[38;5;241;43m=\u001b[39;49m\u001b[38;5;241;43m1\u001b[39;49m\u001b[43m,\u001b[49m\n\u001b[1;32m      7\u001b[0m \u001b[43m                             \u001b[49m\u001b[43mset_channel\u001b[49m\u001b[38;5;241;43m=\u001b[39;49m\u001b[38;5;241;43m1\u001b[39;49m\u001b[43m,\u001b[49m\n\u001b[1;32m      8\u001b[0m \u001b[43m                             \u001b[49m\u001b[43mset_time\u001b[49m\u001b[43m \u001b[49m\u001b[38;5;241;43m=\u001b[39;49m\u001b[43m \u001b[49m\u001b[38;5;241;43m0\u001b[39;49m\u001b[43m,\u001b[49m\n\u001b[1;32m      9\u001b[0m \u001b[38;5;66;43;03m#                             input_transforms = [input_transforms]\u001b[39;49;00m\n\u001b[1;32m     10\u001b[0m \u001b[43m                            \u001b[49m\u001b[43m)\u001b[49m\n",
      "File \u001b[0;32m~/analysis/macrohet/macrohet/tile.py:141\u001b[0m, in \u001b[0;36mcompile_mosaic\u001b[0;34m(image_dir, metadata, row, col, input_transforms, set_plane, set_channel, set_time)\u001b[0m\n\u001b[1;32m    138\u001b[0m timepoint_IDs \u001b[38;5;241m=\u001b[39m (metadata[\u001b[38;5;124m'\u001b[39m\u001b[38;5;124mTimepointID\u001b[39m\u001b[38;5;124m'\u001b[39m]\u001b[38;5;241m.\u001b[39munique()\n\u001b[1;32m    139\u001b[0m                  \u001b[38;5;28;01mif\u001b[39;00m set_time \u001b[38;5;129;01mis\u001b[39;00m \u001b[38;5;28;01mNone\u001b[39;00m \u001b[38;5;28;01melse\u001b[39;00m [set_time])\n\u001b[1;32m    140\u001b[0m \u001b[38;5;66;03m# take a sample image to find dtype and image shape\u001b[39;00m\n\u001b[0;32m--> 141\u001b[0m dtype \u001b[38;5;241m=\u001b[39m imread(\u001b[43mglob\u001b[49m\u001b[38;5;241;43m.\u001b[39;49m\u001b[43mglob\u001b[49m\u001b[43m(\u001b[49m\u001b[43mimage_dir\u001b[49m\u001b[43m \u001b[49m\u001b[38;5;241;43m+\u001b[39;49m\u001b[43m \u001b[49m\u001b[38;5;124;43m'\u001b[39;49m\u001b[38;5;124;43m/*.tif*\u001b[39;49m\u001b[38;5;124;43m'\u001b[39;49m\u001b[43m)\u001b[49m\u001b[43m[\u001b[49m\u001b[38;5;241;43m0\u001b[39;49m\u001b[43m]\u001b[49m)\u001b[38;5;241m.\u001b[39mdtype\n\u001b[1;32m    142\u001b[0m \u001b[38;5;66;03m# set a few parameters for the tiling approach, remove this hardcoded val\u001b[39;00m\n\u001b[1;32m    143\u001b[0m chunk_fraction \u001b[38;5;241m=\u001b[39m \u001b[38;5;241m9\u001b[39m\n",
      "\u001b[0;31mIndexError\u001b[0m: list index out of range"
     ]
    }
   ],
   "source": [
    "# image_dir = os.path.join(base_dir, 'macrohet_images/Images_8bit')\n",
    "image_dir = os.path.join(base_dir, 'Images')\n",
    "images = tile.compile_mosaic(image_dir, \n",
    "                             metadata, \n",
    "                             row, column, \n",
    "                             set_plane=1,\n",
    "                             set_channel=1,\n",
    "                             set_time = 0,\n",
    "#                             input_transforms = [input_transforms]\n",
    "                            )#.compute().compute()"
   ]
  },
  {
   "cell_type": "code",
   "execution_count": 31,
   "id": "05a6613b-aadd-4369-b1fa-fe811294f8ed",
   "metadata": {},
   "outputs": [],
   "source": [
    "from skimage.io import imread"
   ]
  },
  {
   "cell_type": "code",
   "execution_count": 32,
   "id": "89cbcb09-9314-4a0d-87a1-39c5fe54c516",
   "metadata": {},
   "outputs": [
    {
     "ename": "IndexError",
     "evalue": "list index out of range",
     "output_type": "error",
     "traceback": [
      "\u001b[0;31m---------------------------------------------------------------------------\u001b[0m",
      "\u001b[0;31mIndexError\u001b[0m                                Traceback (most recent call last)",
      "Input \u001b[0;32mIn [32]\u001b[0m, in \u001b[0;36m<cell line: 1>\u001b[0;34m()\u001b[0m\n\u001b[0;32m----> 1\u001b[0m dtype \u001b[38;5;241m=\u001b[39m imread(\u001b[43mglob\u001b[49m\u001b[38;5;241;43m.\u001b[39;49m\u001b[43mglob\u001b[49m\u001b[43m(\u001b[49m\u001b[43mimage_dir\u001b[49m\u001b[43m \u001b[49m\u001b[38;5;241;43m+\u001b[39;49m\u001b[43m \u001b[49m\u001b[38;5;124;43m'\u001b[39;49m\u001b[38;5;124;43m/*.tif*\u001b[39;49m\u001b[38;5;124;43m'\u001b[39;49m\u001b[43m)\u001b[49m\u001b[43m[\u001b[49m\u001b[38;5;241;43m0\u001b[39;49m\u001b[43m]\u001b[49m)\u001b[38;5;241m.\u001b[39mdtype\n",
      "\u001b[0;31mIndexError\u001b[0m: list index out of range"
     ]
    }
   ],
   "source": [
    "dtype = imread(glob.glob(image_dir + '/*.tif*')[0]).dtype\n"
   ]
  },
  {
   "cell_type": "code",
   "execution_count": 42,
   "id": "c627d2f5-40ef-4adb-a942-a58bdfb871ae",
   "metadata": {},
   "outputs": [],
   "source": [
    "image_files = glob.iglob(image_dir + '/*')\n",
    "first_image_file = next(image_files, None)"
   ]
  },
  {
   "cell_type": "code",
   "execution_count": 43,
   "id": "d15d40f4-94a2-4724-9c5d-f437646616d4",
   "metadata": {},
   "outputs": [
    {
     "name": "stdout",
     "output_type": "stream",
     "text": [
      "True\n"
     ]
    }
   ],
   "source": [
    "if not first_image_file:\n",
    "    print(True)"
   ]
  },
  {
   "cell_type": "code",
   "execution_count": null,
   "id": "80876cf8-a8ea-40fb-88d4-4802a1a6fe25",
   "metadata": {},
   "outputs": [],
   "source": [
    "image_files = glob.iglob('/mnt/DATA/macrohet/' + 'macrohet_images/Images_8bit/*')\n",
    "first_image_file = next(image_files, None)"
   ]
  },
  {
   "cell_type": "code",
   "execution_count": 43,
   "id": "7da42f1d-9b68-473d-992b-d8f366f262d0",
   "metadata": {},
   "outputs": [
    {
     "name": "stdout",
     "output_type": "stream",
     "text": [
      "True\n"
     ]
    }
   ],
   "source": [
    "if not first_image_file:\n",
    "    print(True)"
   ]
  },
  {
   "cell_type": "code",
   "execution_count": 46,
   "id": "19414c30-f745-478e-9854-00e880f40a98",
   "metadata": {},
   "outputs": [],
   "source": [
    "first_image_file"
   ]
  },
  {
   "cell_type": "code",
   "execution_count": null,
   "id": "1324c4ad-4d66-4918-bf33-fac21d35db3f",
   "metadata": {},
   "outputs": [],
   "source": [
    "print(dtype)"
   ]
  },
  {
   "cell_type": "code",
   "execution_count": 36,
   "id": "a8bcbbda",
   "metadata": {},
   "outputs": [
    {
     "name": "stdout",
     "output_type": "stream",
     "text": [
      "CPU times: user 2h 50min 29s, sys: 25min 42s, total: 3h 16min 12s\n",
      "Wall time: 12min 1s\n"
     ]
    }
   ],
   "source": [
    "%%time\n",
    "images = images.compute().compute()"
   ]
  },
  {
   "cell_type": "code",
   "execution_count": null,
   "id": "177b6605",
   "metadata": {},
   "outputs": [],
   "source": [
    "images.shape"
   ]
  },
  {
   "cell_type": "markdown",
   "id": "a12c9446",
   "metadata": {},
   "source": [
    "# Load tracks"
   ]
  },
  {
   "cell_type": "code",
   "execution_count": 21,
   "id": "42d4db6e",
   "metadata": {},
   "outputs": [
    {
     "name": "stderr",
     "output_type": "stream",
     "text": [
      "[INFO][2023/06/07 01:09:01 pm] Opening HDF file: /mnt/DATA/macrohet/labels/macrohet_seg_model/(3, 6).h5...\n",
      "07-Jun-23 13:09:01 - btrack.io.hdf - INFO     - Opening HDF file: /mnt/DATA/macrohet/labels/macrohet_seg_model/(3, 6).h5...\n",
      "[INFO][2023/06/07 01:09:01 pm] Loading tracks/obj_type_1\n",
      "07-Jun-23 13:09:01 - btrack.io.hdf - INFO     - Loading tracks/obj_type_1\n",
      "[INFO][2023/06/07 01:09:01 pm] Loading LBEP/obj_type_1\n",
      "07-Jun-23 13:09:01 - btrack.io.hdf - INFO     - Loading LBEP/obj_type_1\n",
      "[INFO][2023/06/07 01:09:01 pm] Loading objects/obj_type_1 (46507, 5) (46507 filtered: None)\n",
      "07-Jun-23 13:09:01 - btrack.io.hdf - INFO     - Loading objects/obj_type_1 (46507, 5) (46507 filtered: None)\n",
      "[INFO][2023/06/07 01:09:11 pm] Loading segmentation (75, 6048, 6048)\n",
      "07-Jun-23 13:09:11 - btrack.io.hdf - INFO     - Loading segmentation (75, 6048, 6048)\n",
      "[INFO][2023/06/07 01:09:11 pm] Closing HDF file: /mnt/DATA/macrohet/labels/macrohet_seg_model/(3, 6).h5\n",
      "07-Jun-23 13:09:11 - btrack.io.hdf - INFO     - Closing HDF file: /mnt/DATA/macrohet/labels/macrohet_seg_model/(3, 6).h5\n"
     ]
    }
   ],
   "source": [
    "tracks_fn = os.path.join(base_dir, f'labels/macrohet_seg_model/{row, column}.h5')\n",
    "with btrack.io.HDF5FileHandler(tracks_fn, 'r') as hdf:\n",
    "    tracks = hdf.tracks\n",
    "    segmentation = hdf.segmentation\n",
    "napari_tracks, properties, graph = btrack.utils.tracks_to_napari(tracks, ndim=2)"
   ]
  },
  {
   "cell_type": "code",
   "execution_count": 59,
   "id": "0e7dfae0",
   "metadata": {},
   "outputs": [],
   "source": [
    "filtered_tracks = [t for t in tracks if len(t) > 25]"
   ]
  },
  {
   "cell_type": "code",
   "execution_count": 60,
   "id": "5083c185",
   "metadata": {
    "scrolled": true
   },
   "outputs": [
    {
     "data": {
      "text/plain": [
       "658"
      ]
     },
     "execution_count": 60,
     "metadata": {},
     "output_type": "execute_result"
    }
   ],
   "source": [
    "len(filtered_tracks)"
   ]
  },
  {
   "cell_type": "code",
   "execution_count": 54,
   "id": "767c8932",
   "metadata": {},
   "outputs": [
    {
     "data": {
      "text/plain": [
       "642"
      ]
     },
     "execution_count": 54,
     "metadata": {},
     "output_type": "execute_result"
    }
   ],
   "source": [
    "import numpy as np \n",
    "np.max(segmentation[0])"
   ]
  },
  {
   "cell_type": "code",
   "execution_count": 61,
   "id": "750fb7df",
   "metadata": {},
   "outputs": [],
   "source": [
    "napari_filtered_tracks, properties, graph = btrack.utils.tracks_to_napari(filtered_tracks, \n",
    "                                                                    ndim=2)"
   ]
  },
  {
   "cell_type": "markdown",
   "id": "ade31bfa",
   "metadata": {},
   "source": [
    "### Recolour tracks"
   ]
  },
  {
   "cell_type": "code",
   "execution_count": 41,
   "id": "db8d9444",
   "metadata": {},
   "outputs": [],
   "source": [
    "col_segmentation = btrack.utils.update_segmentation(segmentation, filtered_tracks, scale = (5.04, 5.04))"
   ]
  },
  {
   "cell_type": "markdown",
   "id": "52971987",
   "metadata": {},
   "source": [
    "# Launch napari image viewer"
   ]
  },
  {
   "cell_type": "code",
   "execution_count": 42,
   "id": "a5afa52b",
   "metadata": {},
   "outputs": [
    {
     "data": {
      "text/plain": [
       "(75, 2, 6048, 6048)"
      ]
     },
     "execution_count": 42,
     "metadata": {},
     "output_type": "execute_result"
    }
   ],
   "source": [
    "images.shape"
   ]
  },
  {
   "cell_type": "code",
   "execution_count": 22,
   "id": "6818a45d",
   "metadata": {},
   "outputs": [
    {
     "data": {
      "text/plain": [
       "<Tracks layer 'napari_tracks' at 0x7f23608b8bb0>"
      ]
     },
     "execution_count": 22,
     "metadata": {},
     "output_type": "execute_result"
    }
   ],
   "source": [
    "viewer = napari.Viewer()\n",
    "\n",
    "# viewer.add_image(images, \n",
    "#                  channel_axis=1,\n",
    "#                  name=[\"macrophage\", \"mtb\"],\n",
    "#                  colormap=[\"green\",  \"magenta\"],\n",
    "# #                  contrast_limits=[[100, 6000], [100, 2000]],\n",
    "#                  contrast_limits=[[0,450], [0,450]], \n",
    "#                  visible = True\n",
    "#                  )\n",
    "viewer.add_image(images, \n",
    "                 channel_axis=1,\n",
    "                 name=[\"macrophage\", \"mtb\"],\n",
    "                 colormap=[\"green\",  \"magenta\"],\n",
    "#                  contrast_limits=[[100, 6000], [100, 2000]],\n",
    "                 contrast_limits=[[0,450], [0,450]], \n",
    "                 visible = True\n",
    "                 )\n",
    "viewer.add_labels(segmentation, \n",
    "#                   num_colors= 1,\n",
    "                  #scale=(10, 1, 1,), \n",
    "                  #color='yellow'\n",
    "                  name = 'segmentation'\n",
    "                 )\n",
    "# viewer.add_labels(col_segmentation, \n",
    "#                   name = 'recolored segmentation'\n",
    "#                   #scale=(10, 1, 1,), \n",
    "#                   #color='yellow'\n",
    "#                  )\n",
    "# viewer.add_tracks(napari_tracks, scale = (1,5.04,5.04)\n",
    "# #                     properties=properties, \n",
    "# #                     graph=graph, \n",
    "# #                     name=\"Properly downscaled tracks\", \n",
    "# #                     blending=\"translucent\",\n",
    "# #                     visible=True,\n",
    "# # #                     scale = (100,1,1)\n",
    "#                  )\n",
    "viewer.add_tracks(napari_tracks, scale = (1,5.04,5.04),\n",
    "#                     properties=properties, \n",
    "#                     graph=graph, \n",
    "#                     name=\"Properly downscaled tracks\", \n",
    "#                     blending=\"translucent\",\n",
    "#                     visible=True,\n",
    "# #                     scale = (100,1,1)\n",
    "                 )"
   ]
  },
  {
   "cell_type": "code",
   "execution_count": 25,
   "id": "f34cc29d",
   "metadata": {},
   "outputs": [
    {
     "data": {
      "text/plain": [
       "<Points layer 'cell 1251' at 0x7f235d482790>"
      ]
     },
     "execution_count": 25,
     "metadata": {},
     "output_type": "execute_result"
    }
   ],
   "source": [
    "visualise.highlight_cell(1251, viewer, tracks)"
   ]
  },
  {
   "cell_type": "code",
   "execution_count": 26,
   "id": "98838f33",
   "metadata": {},
   "outputs": [
    {
     "name": "stdout",
     "output_type": "stream",
     "text": [
      "\n"
     ]
    }
   ],
   "source": [
    "print()"
   ]
  },
  {
   "cell_type": "code",
   "execution_count": 62,
   "id": "e0f86387",
   "metadata": {},
   "outputs": [
    {
     "data": {
      "text/plain": [
       "<Tracks layer 'napari_filtered_tracks [2]' at 0x7ff4e5a32430>"
      ]
     },
     "execution_count": 62,
     "metadata": {},
     "output_type": "execute_result"
    }
   ],
   "source": [
    "viewer.add_tracks(napari_filtered_tracks, scale = (1,5.04,5.04),)"
   ]
  },
  {
   "cell_type": "code",
   "execution_count": 25,
   "id": "5df733bf",
   "metadata": {},
   "outputs": [
    {
     "name": "stderr",
     "output_type": "stream",
     "text": [
      "Traceback (most recent call last):\n",
      "  File \"/home/dayn/miniconda3/envs/aero/lib/python3.9/site-packages/napari/utils/action_manager.py\", line 227, in <lambda>\n",
      "    button.clicked.connect(lambda: self.trigger(name))\n",
      "  File \"/home/dayn/miniconda3/envs/aero/lib/python3.9/site-packages/napari/utils/action_manager.py\", line 427, in trigger\n",
      "    return self._actions[name].injected()\n",
      "  File \"/home/dayn/miniconda3/envs/aero/lib/python3.9/site-packages/in_n_out/_store.py\", line 773, in _exec\n",
      "    result = func(**{**_kwargs, **bound.arguments})\n",
      "  File \"/home/dayn/miniconda3/envs/aero/lib/python3.9/site-packages/napari/layers/image/_image_key_bindings.py\", line 33, in orient_plane_normal_along_x\n",
      "    orient_plane_normal_around_cursor(layer, plane_normal=(0, 0, 1))\n",
      "  File \"/home/dayn/miniconda3/envs/aero/lib/python3.9/site-packages/napari/layers/utils/interactivity_utils.py\", line 126, in orient_plane_normal_around_cursor\n",
      "    view_direction = layer._world_to_displayed_data_ray(\n",
      "  File \"/home/dayn/miniconda3/envs/aero/lib/python3.9/site-packages/napari/layers/base/base.py\", line 1330, in _world_to_displayed_data_ray\n",
      "    vector_data_ndisplay = vector_data_nd[dims_displayed]\n",
      "IndexError: index -3 is out of bounds for axis 0 with size 2\n",
      "Traceback (most recent call last):\n",
      "  File \"/home/dayn/miniconda3/envs/aero/lib/python3.9/site-packages/napari/utils/action_manager.py\", line 227, in <lambda>\n",
      "    button.clicked.connect(lambda: self.trigger(name))\n",
      "  File \"/home/dayn/miniconda3/envs/aero/lib/python3.9/site-packages/napari/utils/action_manager.py\", line 427, in trigger\n",
      "    return self._actions[name].injected()\n",
      "  File \"/home/dayn/miniconda3/envs/aero/lib/python3.9/site-packages/in_n_out/_store.py\", line 773, in _exec\n",
      "    result = func(**{**_kwargs, **bound.arguments})\n",
      "  File \"/home/dayn/miniconda3/envs/aero/lib/python3.9/site-packages/napari/layers/image/_image_key_bindings.py\", line 27, in orient_plane_normal_along_y\n",
      "    orient_plane_normal_around_cursor(layer, plane_normal=(0, 1, 0))\n",
      "  File \"/home/dayn/miniconda3/envs/aero/lib/python3.9/site-packages/napari/layers/utils/interactivity_utils.py\", line 126, in orient_plane_normal_around_cursor\n",
      "    view_direction = layer._world_to_displayed_data_ray(\n",
      "  File \"/home/dayn/miniconda3/envs/aero/lib/python3.9/site-packages/napari/layers/base/base.py\", line 1330, in _world_to_displayed_data_ray\n",
      "    vector_data_ndisplay = vector_data_nd[dims_displayed]\n",
      "IndexError: index -3 is out of bounds for axis 0 with size 2\n"
     ]
    }
   ],
   "source": [
    "viewer.layers['napari_filtered_tracks'].scale = (30, 5.04, 5.04)"
   ]
  },
  {
   "cell_type": "code",
   "execution_count": 32,
   "id": "1ab82bb4",
   "metadata": {},
   "outputs": [],
   "source": [
    "viewer.layers['napari_filtered_tracks'].axis_labels=[\"time\", \"y\", \"x\"]"
   ]
  },
  {
   "cell_type": "code",
   "execution_count": 29,
   "id": "80b39d85",
   "metadata": {},
   "outputs": [
    {
     "data": {
      "text/plain": [
       "<Labels layer 'downscaled coloured segmentation new tracks' at 0x7f15c273ca30>"
      ]
     },
     "execution_count": 29,
     "metadata": {},
     "output_type": "execute_result"
    }
   ],
   "source": [
    "viewer.add_tracks(ds_napari_tracks,\n",
    "#                     properties=properties, \n",
    "#                     graph=graph, \n",
    "                    name=\"hacky downscaled tracks\", \n",
    "                    blending=\"translucent\",\n",
    "                    visible=True,\n",
    "#                     scale = (1,1,1)\n",
    "                )\n",
    "# viewer.add_labels(ds_segmentation, \n",
    "#                  name = 'downscaled segmentation')\n",
    "\n",
    "viewer.add_labels(ds_col_segmentation, \n",
    "                  name = 'downscaled coloured segmentation',\n",
    "                  scale=(1, 1, 1,), \n",
    "#                   color={1:'yellow'}\n",
    "                 )\n",
    "\n",
    "viewer.add_labels(ds_col_segmentation_new_tracks, \n",
    "                  name = 'downscaled coloured segmentation new tracks',\n",
    "                  scale=(1, 1, 1,), \n",
    "#                   color={1:'yellow'}\n",
    "                 )"
   ]
  }
 ],
 "metadata": {
  "kernelspec": {
   "display_name": "aero",
   "language": "python",
   "name": "aero"
  },
  "language_info": {
   "codemirror_mode": {
    "name": "ipython",
    "version": 3
   },
   "file_extension": ".py",
   "mimetype": "text/x-python",
   "name": "python",
   "nbconvert_exporter": "python",
   "pygments_lexer": "ipython3",
   "version": "3.9.12"
  }
 },
 "nbformat": 4,
 "nbformat_minor": 5
}
