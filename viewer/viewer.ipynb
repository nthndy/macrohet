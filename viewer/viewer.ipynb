{
 "cells": [
  {
   "cell_type": "markdown",
   "id": "e7452ae6",
   "metadata": {},
   "source": [
    "# Image viewer\n",
    "\n",
    "This notebook is for inspecting timelapse microscopy data, with associated sinhgle-cell labels and tracks, showing the infection of human macrophages with Mycobacterium Tuberculosis (Mtb), acquired on an Opera Phenix confocal microscope. "
   ]
  },
  {
   "cell_type": "code",
   "execution_count": 172,
   "id": "83d383f0",
   "metadata": {},
   "outputs": [],
   "source": [
    "import napari\n",
    "from macrohet import dataio, tile, visualise\n",
    "# import btrack\n",
    "# print(btrack.__version__)\n",
    "import os, glob"
   ]
  },
  {
   "cell_type": "markdown",
   "id": "cb28dcb6",
   "metadata": {},
   "source": [
    "### Load experiment of choice\n",
    "\n",
    "The Opera Phenix is a high-throughput confocal microscope that acquires very large 5-dimensional (TCZXY) images over several fields of view in any one experiment. Therefore, a lazy-loading approach is chosen to mosaic, view and annotate these images. This approach depends upon Dask and DaskFusion. The first step is to load the main metadata file (typically called `Index.idx.xml` and located in the main `Images` directory) that contains the image filenames and associated TCXZY information used to organise the images."
   ]
  },
  {
   "cell_type": "code",
   "execution_count": 173,
   "id": "2f90d81a",
   "metadata": {},
   "outputs": [
    {
     "name": "stdout",
     "output_type": "stream",
     "text": [
      "Reading metadata XML file...\n"
     ]
    },
    {
     "data": {
      "application/vnd.jupyter.widget-view+json": {
       "model_id": "629efb9c7dd348faa3259183483be0d0",
       "version_major": 2,
       "version_minor": 0
      },
      "text/plain": [
       "Extracting HarmonyV5 metadata:   0%|          | 0/22680 [00:00<?, ?it/s]"
      ]
     },
     "metadata": {},
     "output_type": "display_data"
    },
    {
     "name": "stdout",
     "output_type": "stream",
     "text": [
      "Extracting metadata complete!\n"
     ]
    },
    {
     "data": {
      "text/html": [
       "<div>\n",
       "<style scoped>\n",
       "    .dataframe tbody tr th:only-of-type {\n",
       "        vertical-align: middle;\n",
       "    }\n",
       "\n",
       "    .dataframe tbody tr th {\n",
       "        vertical-align: top;\n",
       "    }\n",
       "\n",
       "    .dataframe thead th {\n",
       "        text-align: right;\n",
       "    }\n",
       "</style>\n",
       "<table border=\"1\" class=\"dataframe\">\n",
       "  <thead>\n",
       "    <tr style=\"text-align: right;\">\n",
       "      <th></th>\n",
       "      <th>id</th>\n",
       "      <th>State</th>\n",
       "      <th>URL</th>\n",
       "      <th>Row</th>\n",
       "      <th>Col</th>\n",
       "      <th>FieldID</th>\n",
       "      <th>PlaneID</th>\n",
       "      <th>TimepointID</th>\n",
       "      <th>ChannelID</th>\n",
       "      <th>FlimID</th>\n",
       "      <th>...</th>\n",
       "      <th>PositionZ</th>\n",
       "      <th>AbsPositionZ</th>\n",
       "      <th>MeasurementTimeOffset</th>\n",
       "      <th>AbsTime</th>\n",
       "      <th>MainExcitationWavelength</th>\n",
       "      <th>MainEmissionWavelength</th>\n",
       "      <th>ObjectiveMagnification</th>\n",
       "      <th>ObjectiveNA</th>\n",
       "      <th>ExposureTime</th>\n",
       "      <th>OrientationMatrix</th>\n",
       "    </tr>\n",
       "  </thead>\n",
       "  <tbody>\n",
       "    <tr>\n",
       "      <th>0</th>\n",
       "      <td>0102K1F1P1R1</td>\n",
       "      <td>Ok</td>\n",
       "      <td>r01c02f01p01-ch1sk1fk1fl1.tiff</td>\n",
       "      <td>1</td>\n",
       "      <td>2</td>\n",
       "      <td>1</td>\n",
       "      <td>1</td>\n",
       "      <td>0</td>\n",
       "      <td>1</td>\n",
       "      <td>1</td>\n",
       "      <td>...</td>\n",
       "      <td>-1.5E-06</td>\n",
       "      <td>0.135257497</td>\n",
       "      <td>0</td>\n",
       "      <td>2023-11-07T08:31:49.7+00:00</td>\n",
       "      <td>640</td>\n",
       "      <td>706</td>\n",
       "      <td>40</td>\n",
       "      <td>1.1</td>\n",
       "      <td>0.16</td>\n",
       "      <td>[[0.995580,0,0,14.6],[0,-0.995580,0,-7.9],[0,0...</td>\n",
       "    </tr>\n",
       "    <tr>\n",
       "      <th>1</th>\n",
       "      <td>0102K1F1P1R2</td>\n",
       "      <td>Ok</td>\n",
       "      <td>r01c02f01p01-ch2sk1fk1fl1.tiff</td>\n",
       "      <td>1</td>\n",
       "      <td>2</td>\n",
       "      <td>1</td>\n",
       "      <td>1</td>\n",
       "      <td>0</td>\n",
       "      <td>2</td>\n",
       "      <td>1</td>\n",
       "      <td>...</td>\n",
       "      <td>-1.5E-06</td>\n",
       "      <td>0.135257497</td>\n",
       "      <td>0</td>\n",
       "      <td>2023-11-07T08:31:50.01+00:00</td>\n",
       "      <td>405</td>\n",
       "      <td>456</td>\n",
       "      <td>40</td>\n",
       "      <td>1.1</td>\n",
       "      <td>0.1</td>\n",
       "      <td>[[0.995580,0,0,14.6],[0,-0.995580,0,-7.9],[0,0...</td>\n",
       "    </tr>\n",
       "    <tr>\n",
       "      <th>2</th>\n",
       "      <td>0102K1F1P1R3</td>\n",
       "      <td>Ok</td>\n",
       "      <td>r01c02f01p01-ch3sk1fk1fl1.tiff</td>\n",
       "      <td>1</td>\n",
       "      <td>2</td>\n",
       "      <td>1</td>\n",
       "      <td>1</td>\n",
       "      <td>0</td>\n",
       "      <td>3</td>\n",
       "      <td>1</td>\n",
       "      <td>...</td>\n",
       "      <td>-1.5E-06</td>\n",
       "      <td>0.135257497</td>\n",
       "      <td>0</td>\n",
       "      <td>2023-11-07T08:31:50.23+00:00</td>\n",
       "      <td>488</td>\n",
       "      <td>522</td>\n",
       "      <td>40</td>\n",
       "      <td>1.1</td>\n",
       "      <td>0.1</td>\n",
       "      <td>[[0.995580,0,0,14.6],[0,-0.995580,0,-7.9],[0,0...</td>\n",
       "    </tr>\n",
       "    <tr>\n",
       "      <th>3</th>\n",
       "      <td>0102K1F1P2R1</td>\n",
       "      <td>Ok</td>\n",
       "      <td>r01c02f01p02-ch1sk1fk1fl1.tiff</td>\n",
       "      <td>1</td>\n",
       "      <td>2</td>\n",
       "      <td>1</td>\n",
       "      <td>2</td>\n",
       "      <td>0</td>\n",
       "      <td>1</td>\n",
       "      <td>1</td>\n",
       "      <td>...</td>\n",
       "      <td>-5E-07</td>\n",
       "      <td>0.135258496</td>\n",
       "      <td>0</td>\n",
       "      <td>2023-11-07T08:31:50.527+00:00</td>\n",
       "      <td>640</td>\n",
       "      <td>706</td>\n",
       "      <td>40</td>\n",
       "      <td>1.1</td>\n",
       "      <td>0.16</td>\n",
       "      <td>[[0.995580,0,0,14.6],[0,-0.995580,0,-7.9],[0,0...</td>\n",
       "    </tr>\n",
       "    <tr>\n",
       "      <th>4</th>\n",
       "      <td>0102K1F1P2R2</td>\n",
       "      <td>Ok</td>\n",
       "      <td>r01c02f01p02-ch2sk1fk1fl1.tiff</td>\n",
       "      <td>1</td>\n",
       "      <td>2</td>\n",
       "      <td>1</td>\n",
       "      <td>2</td>\n",
       "      <td>0</td>\n",
       "      <td>2</td>\n",
       "      <td>1</td>\n",
       "      <td>...</td>\n",
       "      <td>-5E-07</td>\n",
       "      <td>0.135258496</td>\n",
       "      <td>0</td>\n",
       "      <td>2023-11-07T08:31:50.667+00:00</td>\n",
       "      <td>405</td>\n",
       "      <td>456</td>\n",
       "      <td>40</td>\n",
       "      <td>1.1</td>\n",
       "      <td>0.1</td>\n",
       "      <td>[[0.995580,0,0,14.6],[0,-0.995580,0,-7.9],[0,0...</td>\n",
       "    </tr>\n",
       "    <tr>\n",
       "      <th>...</th>\n",
       "      <td>...</td>\n",
       "      <td>...</td>\n",
       "      <td>...</td>\n",
       "      <td>...</td>\n",
       "      <td>...</td>\n",
       "      <td>...</td>\n",
       "      <td>...</td>\n",
       "      <td>...</td>\n",
       "      <td>...</td>\n",
       "      <td>...</td>\n",
       "      <td>...</td>\n",
       "      <td>...</td>\n",
       "      <td>...</td>\n",
       "      <td>...</td>\n",
       "      <td>...</td>\n",
       "      <td>...</td>\n",
       "      <td>...</td>\n",
       "      <td>...</td>\n",
       "      <td>...</td>\n",
       "      <td>...</td>\n",
       "      <td>...</td>\n",
       "    </tr>\n",
       "    <tr>\n",
       "      <th>22675</th>\n",
       "      <td>0810K1F21P4R2</td>\n",
       "      <td>Ok</td>\n",
       "      <td>r08c10f21p04-ch2sk1fk1fl1.tiff</td>\n",
       "      <td>8</td>\n",
       "      <td>10</td>\n",
       "      <td>21</td>\n",
       "      <td>4</td>\n",
       "      <td>0</td>\n",
       "      <td>2</td>\n",
       "      <td>1</td>\n",
       "      <td>...</td>\n",
       "      <td>1.5E-06</td>\n",
       "      <td>0.134975299</td>\n",
       "      <td>0</td>\n",
       "      <td>2023-11-07T10:10:34.637+00:00</td>\n",
       "      <td>405</td>\n",
       "      <td>456</td>\n",
       "      <td>40</td>\n",
       "      <td>1.1</td>\n",
       "      <td>0.1</td>\n",
       "      <td>[[0.995580,0,0,14.6],[0,-0.995580,0,-7.9],[0,0...</td>\n",
       "    </tr>\n",
       "    <tr>\n",
       "      <th>22676</th>\n",
       "      <td>0810K1F21P4R3</td>\n",
       "      <td>Ok</td>\n",
       "      <td>r08c10f21p04-ch3sk1fk1fl1.tiff</td>\n",
       "      <td>8</td>\n",
       "      <td>10</td>\n",
       "      <td>21</td>\n",
       "      <td>4</td>\n",
       "      <td>0</td>\n",
       "      <td>3</td>\n",
       "      <td>1</td>\n",
       "      <td>...</td>\n",
       "      <td>1.5E-06</td>\n",
       "      <td>0.134975299</td>\n",
       "      <td>0</td>\n",
       "      <td>2023-11-07T10:10:34.87+00:00</td>\n",
       "      <td>488</td>\n",
       "      <td>522</td>\n",
       "      <td>40</td>\n",
       "      <td>1.1</td>\n",
       "      <td>0.1</td>\n",
       "      <td>[[0.995580,0,0,14.6],[0,-0.995580,0,-7.9],[0,0...</td>\n",
       "    </tr>\n",
       "    <tr>\n",
       "      <th>22677</th>\n",
       "      <td>0810K1F21P5R1</td>\n",
       "      <td>Ok</td>\n",
       "      <td>r08c10f21p05-ch1sk1fk1fl1.tiff</td>\n",
       "      <td>8</td>\n",
       "      <td>10</td>\n",
       "      <td>21</td>\n",
       "      <td>5</td>\n",
       "      <td>0</td>\n",
       "      <td>1</td>\n",
       "      <td>1</td>\n",
       "      <td>...</td>\n",
       "      <td>2.5E-06</td>\n",
       "      <td>0.134976298</td>\n",
       "      <td>0</td>\n",
       "      <td>2023-11-07T10:10:35.167+00:00</td>\n",
       "      <td>640</td>\n",
       "      <td>706</td>\n",
       "      <td>40</td>\n",
       "      <td>1.1</td>\n",
       "      <td>0.16</td>\n",
       "      <td>[[0.995580,0,0,14.6],[0,-0.995580,0,-7.9],[0,0...</td>\n",
       "    </tr>\n",
       "    <tr>\n",
       "      <th>22678</th>\n",
       "      <td>0810K1F21P5R2</td>\n",
       "      <td>Ok</td>\n",
       "      <td>r08c10f21p05-ch2sk1fk1fl1.tiff</td>\n",
       "      <td>8</td>\n",
       "      <td>10</td>\n",
       "      <td>21</td>\n",
       "      <td>5</td>\n",
       "      <td>0</td>\n",
       "      <td>2</td>\n",
       "      <td>1</td>\n",
       "      <td>...</td>\n",
       "      <td>2.5E-06</td>\n",
       "      <td>0.134976298</td>\n",
       "      <td>0</td>\n",
       "      <td>2023-11-07T10:10:35.307+00:00</td>\n",
       "      <td>405</td>\n",
       "      <td>456</td>\n",
       "      <td>40</td>\n",
       "      <td>1.1</td>\n",
       "      <td>0.1</td>\n",
       "      <td>[[0.995580,0,0,14.6],[0,-0.995580,0,-7.9],[0,0...</td>\n",
       "    </tr>\n",
       "    <tr>\n",
       "      <th>22679</th>\n",
       "      <td>0810K1F21P5R3</td>\n",
       "      <td>Ok</td>\n",
       "      <td>r08c10f21p05-ch3sk1fk1fl1.tiff</td>\n",
       "      <td>8</td>\n",
       "      <td>10</td>\n",
       "      <td>21</td>\n",
       "      <td>5</td>\n",
       "      <td>0</td>\n",
       "      <td>3</td>\n",
       "      <td>1</td>\n",
       "      <td>...</td>\n",
       "      <td>2.5E-06</td>\n",
       "      <td>0.134976298</td>\n",
       "      <td>0</td>\n",
       "      <td>2023-11-07T10:10:35.527+00:00</td>\n",
       "      <td>488</td>\n",
       "      <td>522</td>\n",
       "      <td>40</td>\n",
       "      <td>1.1</td>\n",
       "      <td>0.1</td>\n",
       "      <td>[[0.995580,0,0,14.6],[0,-0.995580,0,-7.9],[0,0...</td>\n",
       "    </tr>\n",
       "  </tbody>\n",
       "</table>\n",
       "<p>22680 rows × 35 columns</p>\n",
       "</div>"
      ],
      "text/plain": [
       "                  id State                             URL Row Col FieldID  \\\n",
       "0       0102K1F1P1R1    Ok  r01c02f01p01-ch1sk1fk1fl1.tiff   1   2       1   \n",
       "1       0102K1F1P1R2    Ok  r01c02f01p01-ch2sk1fk1fl1.tiff   1   2       1   \n",
       "2       0102K1F1P1R3    Ok  r01c02f01p01-ch3sk1fk1fl1.tiff   1   2       1   \n",
       "3       0102K1F1P2R1    Ok  r01c02f01p02-ch1sk1fk1fl1.tiff   1   2       1   \n",
       "4       0102K1F1P2R2    Ok  r01c02f01p02-ch2sk1fk1fl1.tiff   1   2       1   \n",
       "...              ...   ...                             ...  ..  ..     ...   \n",
       "22675  0810K1F21P4R2    Ok  r08c10f21p04-ch2sk1fk1fl1.tiff   8  10      21   \n",
       "22676  0810K1F21P4R3    Ok  r08c10f21p04-ch3sk1fk1fl1.tiff   8  10      21   \n",
       "22677  0810K1F21P5R1    Ok  r08c10f21p05-ch1sk1fk1fl1.tiff   8  10      21   \n",
       "22678  0810K1F21P5R2    Ok  r08c10f21p05-ch2sk1fk1fl1.tiff   8  10      21   \n",
       "22679  0810K1F21P5R3    Ok  r08c10f21p05-ch3sk1fk1fl1.tiff   8  10      21   \n",
       "\n",
       "      PlaneID TimepointID ChannelID FlimID  ... PositionZ AbsPositionZ  \\\n",
       "0           1           0         1      1  ...  -1.5E-06  0.135257497   \n",
       "1           1           0         2      1  ...  -1.5E-06  0.135257497   \n",
       "2           1           0         3      1  ...  -1.5E-06  0.135257497   \n",
       "3           2           0         1      1  ...    -5E-07  0.135258496   \n",
       "4           2           0         2      1  ...    -5E-07  0.135258496   \n",
       "...       ...         ...       ...    ...  ...       ...          ...   \n",
       "22675       4           0         2      1  ...   1.5E-06  0.134975299   \n",
       "22676       4           0         3      1  ...   1.5E-06  0.134975299   \n",
       "22677       5           0         1      1  ...   2.5E-06  0.134976298   \n",
       "22678       5           0         2      1  ...   2.5E-06  0.134976298   \n",
       "22679       5           0         3      1  ...   2.5E-06  0.134976298   \n",
       "\n",
       "      MeasurementTimeOffset                        AbsTime  \\\n",
       "0                         0    2023-11-07T08:31:49.7+00:00   \n",
       "1                         0   2023-11-07T08:31:50.01+00:00   \n",
       "2                         0   2023-11-07T08:31:50.23+00:00   \n",
       "3                         0  2023-11-07T08:31:50.527+00:00   \n",
       "4                         0  2023-11-07T08:31:50.667+00:00   \n",
       "...                     ...                            ...   \n",
       "22675                     0  2023-11-07T10:10:34.637+00:00   \n",
       "22676                     0   2023-11-07T10:10:34.87+00:00   \n",
       "22677                     0  2023-11-07T10:10:35.167+00:00   \n",
       "22678                     0  2023-11-07T10:10:35.307+00:00   \n",
       "22679                     0  2023-11-07T10:10:35.527+00:00   \n",
       "\n",
       "      MainExcitationWavelength MainEmissionWavelength ObjectiveMagnification  \\\n",
       "0                          640                    706                     40   \n",
       "1                          405                    456                     40   \n",
       "2                          488                    522                     40   \n",
       "3                          640                    706                     40   \n",
       "4                          405                    456                     40   \n",
       "...                        ...                    ...                    ...   \n",
       "22675                      405                    456                     40   \n",
       "22676                      488                    522                     40   \n",
       "22677                      640                    706                     40   \n",
       "22678                      405                    456                     40   \n",
       "22679                      488                    522                     40   \n",
       "\n",
       "      ObjectiveNA ExposureTime  \\\n",
       "0             1.1         0.16   \n",
       "1             1.1          0.1   \n",
       "2             1.1          0.1   \n",
       "3             1.1         0.16   \n",
       "4             1.1          0.1   \n",
       "...           ...          ...   \n",
       "22675         1.1          0.1   \n",
       "22676         1.1          0.1   \n",
       "22677         1.1         0.16   \n",
       "22678         1.1          0.1   \n",
       "22679         1.1          0.1   \n",
       "\n",
       "                                       OrientationMatrix  \n",
       "0      [[0.995580,0,0,14.6],[0,-0.995580,0,-7.9],[0,0...  \n",
       "1      [[0.995580,0,0,14.6],[0,-0.995580,0,-7.9],[0,0...  \n",
       "2      [[0.995580,0,0,14.6],[0,-0.995580,0,-7.9],[0,0...  \n",
       "3      [[0.995580,0,0,14.6],[0,-0.995580,0,-7.9],[0,0...  \n",
       "4      [[0.995580,0,0,14.6],[0,-0.995580,0,-7.9],[0,0...  \n",
       "...                                                  ...  \n",
       "22675  [[0.995580,0,0,14.6],[0,-0.995580,0,-7.9],[0,0...  \n",
       "22676  [[0.995580,0,0,14.6],[0,-0.995580,0,-7.9],[0,0...  \n",
       "22677  [[0.995580,0,0,14.6],[0,-0.995580,0,-7.9],[0,0...  \n",
       "22678  [[0.995580,0,0,14.6],[0,-0.995580,0,-7.9],[0,0...  \n",
       "22679  [[0.995580,0,0,14.6],[0,-0.995580,0,-7.9],[0,0...  \n",
       "\n",
       "[22680 rows x 35 columns]"
      ]
     },
     "execution_count": 173,
     "metadata": {},
     "output_type": "execute_result"
    }
   ],
   "source": [
    "# base_dir = '/mnt/DATA/macrohet/'\n",
    "base_dir = '/run/user/30046150/gvfs/smb-share:server=data2.thecrick.org,share=lab-gutierrezm/home/users/lockwop/Harmony_images/20231205_Gal3/20231107_HMDM_Gal3_003_2h__2023-11-07T08_31_36-Measurement 1'\n",
    "# base_dir = '/Volumes/lab-gutierrezm/home/users/dayn/macrohet_nemo/macrohet_images/NDXXXX_optimisation/ND0000__2023-08-04T15_27_41-Measurement 1/'\n",
    "# metadata_fn = os.path.join(base_dir, 'macrohet_images/Index.idx.xml')\n",
    "metadata_fn = os.path.join(base_dir, 'Images/Index.idx.xml')\n",
    "metadata = dataio.read_harmony_metadata(metadata_fn)  \n",
    "metadata"
   ]
  },
  {
   "cell_type": "markdown",
   "id": "4779c1f0",
   "metadata": {},
   "source": [
    "### View assay layout and mask information (optional)\n",
    "\n",
    "The Opera Phenix acquires many time lapse series from a range of positions. The first step is to inspect the image metadata, presented in the form of an `Assaylayout/experiment_ID.xml` file, to show which positions correspond to which experimental assays."
   ]
  },
  {
   "cell_type": "code",
   "execution_count": 4,
   "id": "4b75643e",
   "metadata": {},
   "outputs": [
    {
     "name": "stdout",
     "output_type": "stream",
     "text": [
      "Reading metadata XML file...\n",
      "Extracting metadata complete!\n"
     ]
    },
    {
     "data": {
      "text/html": [
       "<div>\n",
       "<style scoped>\n",
       "    .dataframe tbody tr th:only-of-type {\n",
       "        vertical-align: middle;\n",
       "    }\n",
       "\n",
       "    .dataframe tbody tr th {\n",
       "        vertical-align: top;\n",
       "    }\n",
       "\n",
       "    .dataframe thead th {\n",
       "        text-align: right;\n",
       "    }\n",
       "</style>\n",
       "<table border=\"1\" class=\"dataframe\">\n",
       "  <thead>\n",
       "    <tr style=\"text-align: right;\">\n",
       "      <th></th>\n",
       "      <th></th>\n",
       "      <th>Bacteria</th>\n",
       "      <th>Time</th>\n",
       "      <th>Cell Count</th>\n",
       "      <th>donor</th>\n",
       "    </tr>\n",
       "    <tr>\n",
       "      <th>Row</th>\n",
       "      <th>Column</th>\n",
       "      <th></th>\n",
       "      <th></th>\n",
       "      <th></th>\n",
       "      <th></th>\n",
       "    </tr>\n",
       "  </thead>\n",
       "  <tbody>\n",
       "    <tr>\n",
       "      <th rowspan=\"5\" valign=\"top\">1</th>\n",
       "      <th>2</th>\n",
       "      <td>auru</td>\n",
       "      <td>NaN</td>\n",
       "      <td>2</td>\n",
       "      <td>1</td>\n",
       "    </tr>\n",
       "    <tr>\n",
       "      <th>3</th>\n",
       "      <td>conf</td>\n",
       "      <td>NaN</td>\n",
       "      <td>2</td>\n",
       "      <td>1</td>\n",
       "    </tr>\n",
       "    <tr>\n",
       "      <th>4</th>\n",
       "      <td>flav</td>\n",
       "      <td>NaN</td>\n",
       "      <td>2</td>\n",
       "      <td>1</td>\n",
       "    </tr>\n",
       "    <tr>\n",
       "      <th>5</th>\n",
       "      <td>gord</td>\n",
       "      <td>NaN</td>\n",
       "      <td>2</td>\n",
       "      <td>1</td>\n",
       "    </tr>\n",
       "    <tr>\n",
       "      <th>6</th>\n",
       "      <td>lito</td>\n",
       "      <td>NaN</td>\n",
       "      <td>2</td>\n",
       "      <td>1</td>\n",
       "    </tr>\n",
       "    <tr>\n",
       "      <th>...</th>\n",
       "      <th>...</th>\n",
       "      <td>...</td>\n",
       "      <td>...</td>\n",
       "      <td>...</td>\n",
       "      <td>...</td>\n",
       "    </tr>\n",
       "    <tr>\n",
       "      <th rowspan=\"5\" valign=\"top\">8</th>\n",
       "      <th>6</th>\n",
       "      <td>lito</td>\n",
       "      <td>NaN</td>\n",
       "      <td>2</td>\n",
       "      <td>2</td>\n",
       "    </tr>\n",
       "    <tr>\n",
       "      <th>7</th>\n",
       "      <td>mari</td>\n",
       "      <td>NaN</td>\n",
       "      <td>2</td>\n",
       "      <td>2</td>\n",
       "    </tr>\n",
       "    <tr>\n",
       "      <th>8</th>\n",
       "      <td>muco</td>\n",
       "      <td>NaN</td>\n",
       "      <td>2</td>\n",
       "      <td>2</td>\n",
       "    </tr>\n",
       "    <tr>\n",
       "      <th>9</th>\n",
       "      <td>smeg</td>\n",
       "      <td>NaN</td>\n",
       "      <td>2</td>\n",
       "      <td>2</td>\n",
       "    </tr>\n",
       "    <tr>\n",
       "      <th>10</th>\n",
       "      <td>control</td>\n",
       "      <td>NaN</td>\n",
       "      <td>2</td>\n",
       "      <td>2</td>\n",
       "    </tr>\n",
       "  </tbody>\n",
       "</table>\n",
       "<p>72 rows × 4 columns</p>\n",
       "</div>"
      ],
      "text/plain": [
       "           Bacteria  Time Cell Count donor\n",
       "Row Column                                \n",
       "1   2          auru   NaN          2     1\n",
       "    3          conf   NaN          2     1\n",
       "    4          flav   NaN          2     1\n",
       "    5          gord   NaN          2     1\n",
       "    6          lito   NaN          2     1\n",
       "...             ...   ...        ...   ...\n",
       "8   6          lito   NaN          2     2\n",
       "    7          mari   NaN          2     2\n",
       "    8          muco   NaN          2     2\n",
       "    9          smeg   NaN          2     2\n",
       "    10      control   NaN          2     2\n",
       "\n",
       "[72 rows x 4 columns]"
      ]
     },
     "execution_count": 4,
     "metadata": {},
     "output_type": "execute_result"
    }
   ],
   "source": [
    "# metadata_path = os.path.join(base_dir, 'macrohet_images/Assaylayout/20210602_Live_cell_IPSDMGFP_ATB.xml')\n",
    "metadata_path = glob.glob(os.path.join(base_dir, 'Assaylayout/*.xml'))[0]\n",
    "assay_layout = dataio.read_harmony_metadata(metadata_path, assay_layout=True,)# mask_exist=True,  image_dir = image_dir, image_metadata = metadata)\n",
    "# TEMP FIX FOR BUG IN ASSAY LAYOUT READER - ends up displaying more rows cols then there are so\n",
    "# assay_layout = assay_layout.loc[[idx for idx in assay_layout.index if str(idx[0]) in list(metadata['Row'].unique()) and str(idx[1]) in list(metadata['Col'].unique())]]\n",
    "assay_layout"
   ]
  },
  {
   "cell_type": "markdown",
   "id": "e9d4dc7f",
   "metadata": {},
   "source": [
    "### Define row and column of choice"
   ]
  },
  {
   "cell_type": "code",
   "execution_count": 6,
   "id": "661b558f",
   "metadata": {},
   "outputs": [],
   "source": [
    "row = 1\n",
    "column = 3"
   ]
  },
  {
   "cell_type": "markdown",
   "id": "f4408023-8136-455a-9bcf-ae1c08e5486b",
   "metadata": {},
   "source": [
    "### Define subset if non-square tiling or more than one contiguous region of images in imaging well. "
   ]
  },
  {
   "cell_type": "code",
   "execution_count": 7,
   "id": "0e4254eb-8006-4939-acdf-6cbf4b28c335",
   "metadata": {},
   "outputs": [],
   "source": [
    "subset_field_IDs = ['1','6','7','8','11','12','13','14','15']"
   ]
  },
  {
   "cell_type": "markdown",
   "id": "bee546c2",
   "metadata": {},
   "source": [
    "### Now to lazily mosaic the images using Dask prior to viewing them.\n",
    "\n",
    "1x (75,2,3) [TCZ] image stack takes approximately 1 minute to stitch together, so only load the one field of view I want."
   ]
  },
  {
   "cell_type": "code",
   "execution_count": 175,
   "id": "72561ec6",
   "metadata": {},
   "outputs": [
    {
     "name": "stdout",
     "output_type": "stream",
     "text": [
      "CPU times: user 119 ms, sys: 3.34 ms, total: 123 ms\n",
      "Wall time: 217 ms\n"
     ]
    }
   ],
   "source": [
    "%%time\n",
    "# image_dir = os.path.join(base_dir, 'macrohet_images/Images_8bit')\n",
    "image_dir = os.path.join(base_dir, 'Images')\n",
    "images = tile.compile_mosaic(image_dir, \n",
    "                             metadata, \n",
    "                             row, column, \n",
    "                             subset_field_IDs=['16', '17',  '20', '21'], \n",
    "                             n_tile_rows = 2, n_tile_cols = 2,\n",
    "                             set_plane='max_proj',\n",
    "                             # set_channel=1,\n",
    "                             # set_time = 1,\n",
    "#                             input_transforms = [input_transforms]\n",
    "                            )#.compute().compute()"
   ]
  },
  {
   "cell_type": "code",
   "execution_count": 176,
   "id": "bfaf74f7-9712-4f79-bfa7-e5da51d51410",
   "metadata": {
    "scrolled": true
   },
   "outputs": [
    {
     "data": {
      "text/html": [
       "<table>\n",
       "    <tr>\n",
       "        <td>\n",
       "            <table style=\"border-collapse: collapse;\">\n",
       "                <thead>\n",
       "                    <tr>\n",
       "                        <td> </td>\n",
       "                        <th> Array </th>\n",
       "                        <th> Chunk </th>\n",
       "                    </tr>\n",
       "                </thead>\n",
       "                <tbody>\n",
       "                    \n",
       "                    <tr>\n",
       "                        <th> Bytes </th>\n",
       "                        <td> 24.09 MiB </td>\n",
       "                        <td> 2.22 MiB </td>\n",
       "                    </tr>\n",
       "                    \n",
       "                    <tr>\n",
       "                        <th> Shape </th>\n",
       "                        <td> (1, 3, 2052, 2052) </td>\n",
       "                        <td> (1, 1, 1080, 1080) </td>\n",
       "                    </tr>\n",
       "                    <tr>\n",
       "                        <th> Dask graph </th>\n",
       "                        <td colspan=\"2\"> 12 chunks in 65 graph layers </td>\n",
       "                    </tr>\n",
       "                    <tr>\n",
       "                        <th> Data type </th>\n",
       "                        <td colspan=\"2\"> uint16 numpy.ndarray </td>\n",
       "                    </tr>\n",
       "                </tbody>\n",
       "            </table>\n",
       "        </td>\n",
       "        <td>\n",
       "        <svg width=\"374\" height=\"184\" style=\"stroke:rgb(0,0,0);stroke-width:1\" >\n",
       "\n",
       "  <!-- Horizontal lines -->\n",
       "  <line x1=\"0\" y1=\"0\" x2=\"25\" y2=\"0\" style=\"stroke-width:2\" />\n",
       "  <line x1=\"0\" y1=\"25\" x2=\"25\" y2=\"25\" style=\"stroke-width:2\" />\n",
       "\n",
       "  <!-- Vertical lines -->\n",
       "  <line x1=\"0\" y1=\"0\" x2=\"0\" y2=\"25\" style=\"stroke-width:2\" />\n",
       "  <line x1=\"25\" y1=\"0\" x2=\"25\" y2=\"25\" style=\"stroke-width:2\" />\n",
       "\n",
       "  <!-- Colored Rectangle -->\n",
       "  <polygon points=\"0.0,0.0 25.412616514582485,0.0 25.412616514582485,25.412616514582485 0.0,25.412616514582485\" style=\"fill:#ECB172A0;stroke-width:0\"/>\n",
       "\n",
       "  <!-- Text -->\n",
       "  <text x=\"12.706308\" y=\"45.412617\" font-size=\"1.0rem\" font-weight=\"100\" text-anchor=\"middle\" >1</text>\n",
       "  <text x=\"45.412617\" y=\"12.706308\" font-size=\"1.0rem\" font-weight=\"100\" text-anchor=\"middle\" transform=\"rotate(0,45.412617,12.706308)\">1</text>\n",
       "\n",
       "\n",
       "  <!-- Horizontal lines -->\n",
       "  <line x1=\"95\" y1=\"0\" x2=\"109\" y2=\"14\" style=\"stroke-width:2\" />\n",
       "  <line x1=\"95\" y1=\"63\" x2=\"109\" y2=\"78\" />\n",
       "  <line x1=\"95\" y1=\"120\" x2=\"109\" y2=\"134\" style=\"stroke-width:2\" />\n",
       "\n",
       "  <!-- Vertical lines -->\n",
       "  <line x1=\"95\" y1=\"0\" x2=\"95\" y2=\"120\" style=\"stroke-width:2\" />\n",
       "  <line x1=\"99\" y1=\"4\" x2=\"99\" y2=\"124\" />\n",
       "  <line x1=\"104\" y1=\"9\" x2=\"104\" y2=\"129\" />\n",
       "  <line x1=\"109\" y1=\"14\" x2=\"109\" y2=\"134\" style=\"stroke-width:2\" />\n",
       "\n",
       "  <!-- Colored Rectangle -->\n",
       "  <polygon points=\"95.0,0.0 109.9485979497544,14.948597949754403 109.9485979497544,134.9485979497544 95.0,120.0\" style=\"fill:#ECB172A0;stroke-width:0\"/>\n",
       "\n",
       "  <!-- Horizontal lines -->\n",
       "  <line x1=\"95\" y1=\"0\" x2=\"215\" y2=\"0\" style=\"stroke-width:2\" />\n",
       "  <line x1=\"99\" y1=\"4\" x2=\"219\" y2=\"4\" />\n",
       "  <line x1=\"104\" y1=\"9\" x2=\"224\" y2=\"9\" />\n",
       "  <line x1=\"109\" y1=\"14\" x2=\"229\" y2=\"14\" style=\"stroke-width:2\" />\n",
       "\n",
       "  <!-- Vertical lines -->\n",
       "  <line x1=\"95\" y1=\"0\" x2=\"109\" y2=\"14\" style=\"stroke-width:2\" />\n",
       "  <line x1=\"158\" y1=\"0\" x2=\"173\" y2=\"14\" />\n",
       "  <line x1=\"215\" y1=\"0\" x2=\"229\" y2=\"14\" style=\"stroke-width:2\" />\n",
       "\n",
       "  <!-- Colored Rectangle -->\n",
       "  <polygon points=\"95.0,0.0 215.0,0.0 229.9485979497544,14.948597949754403 109.9485979497544,14.948597949754403\" style=\"fill:#ECB172A0;stroke-width:0\"/>\n",
       "\n",
       "  <!-- Horizontal lines -->\n",
       "  <line x1=\"109\" y1=\"14\" x2=\"229\" y2=\"14\" style=\"stroke-width:2\" />\n",
       "  <line x1=\"109\" y1=\"78\" x2=\"229\" y2=\"78\" />\n",
       "  <line x1=\"109\" y1=\"134\" x2=\"229\" y2=\"134\" style=\"stroke-width:2\" />\n",
       "\n",
       "  <!-- Vertical lines -->\n",
       "  <line x1=\"109\" y1=\"14\" x2=\"109\" y2=\"134\" style=\"stroke-width:2\" />\n",
       "  <line x1=\"173\" y1=\"14\" x2=\"173\" y2=\"134\" />\n",
       "  <line x1=\"229\" y1=\"14\" x2=\"229\" y2=\"134\" style=\"stroke-width:2\" />\n",
       "\n",
       "  <!-- Colored Rectangle -->\n",
       "  <polygon points=\"109.9485979497544,14.948597949754403 229.9485979497544,14.948597949754403 229.9485979497544,134.9485979497544 109.9485979497544,134.9485979497544\" style=\"fill:#ECB172A0;stroke-width:0\"/>\n",
       "\n",
       "  <!-- Text -->\n",
       "  <text x=\"169.948598\" y=\"154.948598\" font-size=\"1.0rem\" font-weight=\"100\" text-anchor=\"middle\" >2052</text>\n",
       "  <text x=\"249.948598\" y=\"74.948598\" font-size=\"1.0rem\" font-weight=\"100\" text-anchor=\"middle\" transform=\"rotate(-90,249.948598,74.948598)\">2052</text>\n",
       "  <text x=\"92.474299\" y=\"147.474299\" font-size=\"1.0rem\" font-weight=\"100\" text-anchor=\"middle\" transform=\"rotate(45,92.474299,147.474299)\">3</text>\n",
       "</svg>\n",
       "        </td>\n",
       "    </tr>\n",
       "</table>"
      ],
      "text/plain": [
       "dask.array<max-aggregate, shape=(1, 3, 2052, 2052), dtype=uint16, chunksize=(1, 1, 1080, 1080), chunktype=numpy.ndarray>"
      ]
     },
     "execution_count": 176,
     "metadata": {},
     "output_type": "execute_result"
    }
   ],
   "source": [
    "images"
   ]
  },
  {
   "cell_type": "code",
   "execution_count": 177,
   "id": "c4fb8dee-1183-4557-af6d-ed3bfc61aa0d",
   "metadata": {},
   "outputs": [
    {
     "name": "stdout",
     "output_type": "stream",
     "text": [
      "CPU times: user 46.7 s, sys: 9.25 s, total: 56 s\n",
      "Wall time: 13.7 s\n"
     ]
    }
   ],
   "source": [
    "%%time\n",
    "images = images.compute().compute()"
   ]
  },
  {
   "cell_type": "code",
   "execution_count": 178,
   "id": "177b6605",
   "metadata": {},
   "outputs": [
    {
     "data": {
      "text/plain": [
       "(1, 3, 2052, 2052)"
      ]
     },
     "execution_count": 178,
     "metadata": {},
     "output_type": "execute_result"
    }
   ],
   "source": [
    "images.shape"
   ]
  },
  {
   "cell_type": "code",
   "execution_count": 179,
   "id": "025c5596-b983-4df8-adfd-e779356e7ef6",
   "metadata": {},
   "outputs": [
    {
     "data": {
      "text/plain": [
       "[<Image layer 'Image' at 0x7fa02aeb7d60>,\n",
       " <Image layer 'Image [1]' at 0x7fa03a8c5ca0>,\n",
       " <Image layer 'Image [2]' at 0x7fa03a2c6490>]"
      ]
     },
     "execution_count": 179,
     "metadata": {},
     "output_type": "execute_result"
    }
   ],
   "source": [
    "viewer = napari.Viewer()\n",
    "\n",
    "viewer.add_image(images, channel_axis = 1)"
   ]
  },
  {
   "cell_type": "code",
   "execution_count": 180,
   "id": "ca558672-ef0b-418a-8caa-013c6f643c5f",
   "metadata": {},
   "outputs": [
    {
     "name": "stdout",
     "output_type": "stream",
     "text": [
      "\n"
     ]
    }
   ],
   "source": [
    "print()"
   ]
  },
  {
   "cell_type": "markdown",
   "id": "a12c9446",
   "metadata": {},
   "source": [
    "# Load tracks"
   ]
  },
  {
   "cell_type": "code",
   "execution_count": 21,
   "id": "42d4db6e",
   "metadata": {},
   "outputs": [
    {
     "name": "stderr",
     "output_type": "stream",
     "text": [
      "[INFO][2023/06/07 01:09:01 pm] Opening HDF file: /mnt/DATA/macrohet/labels/macrohet_seg_model/(3, 6).h5...\n",
      "07-Jun-23 13:09:01 - btrack.io.hdf - INFO     - Opening HDF file: /mnt/DATA/macrohet/labels/macrohet_seg_model/(3, 6).h5...\n",
      "[INFO][2023/06/07 01:09:01 pm] Loading tracks/obj_type_1\n",
      "07-Jun-23 13:09:01 - btrack.io.hdf - INFO     - Loading tracks/obj_type_1\n",
      "[INFO][2023/06/07 01:09:01 pm] Loading LBEP/obj_type_1\n",
      "07-Jun-23 13:09:01 - btrack.io.hdf - INFO     - Loading LBEP/obj_type_1\n",
      "[INFO][2023/06/07 01:09:01 pm] Loading objects/obj_type_1 (46507, 5) (46507 filtered: None)\n",
      "07-Jun-23 13:09:01 - btrack.io.hdf - INFO     - Loading objects/obj_type_1 (46507, 5) (46507 filtered: None)\n",
      "[INFO][2023/06/07 01:09:11 pm] Loading segmentation (75, 6048, 6048)\n",
      "07-Jun-23 13:09:11 - btrack.io.hdf - INFO     - Loading segmentation (75, 6048, 6048)\n",
      "[INFO][2023/06/07 01:09:11 pm] Closing HDF file: /mnt/DATA/macrohet/labels/macrohet_seg_model/(3, 6).h5\n",
      "07-Jun-23 13:09:11 - btrack.io.hdf - INFO     - Closing HDF file: /mnt/DATA/macrohet/labels/macrohet_seg_model/(3, 6).h5\n"
     ]
    }
   ],
   "source": [
    "tracks_fn = os.path.join(base_dir, f'labels/macrohet_seg_model/{row, column}.h5')\n",
    "with btrack.io.HDF5FileHandler(tracks_fn, 'r') as hdf:\n",
    "    tracks = hdf.tracks\n",
    "    segmentation = hdf.segmentation\n",
    "napari_tracks, properties, graph = btrack.utils.tracks_to_napari(tracks, ndim=2)"
   ]
  },
  {
   "cell_type": "code",
   "execution_count": 59,
   "id": "0e7dfae0",
   "metadata": {},
   "outputs": [],
   "source": [
    "filtered_tracks = [t for t in tracks if len(t) > 25]"
   ]
  },
  {
   "cell_type": "code",
   "execution_count": 61,
   "id": "750fb7df",
   "metadata": {},
   "outputs": [],
   "source": [
    "napari_filtered_tracks, properties, graph = btrack.utils.tracks_to_napari(filtered_tracks, \n",
    "                                                                    ndim=2)"
   ]
  },
  {
   "cell_type": "markdown",
   "id": "ade31bfa",
   "metadata": {},
   "source": [
    "### Recolour tracks"
   ]
  },
  {
   "cell_type": "code",
   "execution_count": 41,
   "id": "db8d9444",
   "metadata": {},
   "outputs": [],
   "source": [
    "col_segmentation = btrack.utils.update_segmentation(segmentation, filtered_tracks, scale = (5.04, 5.04))"
   ]
  },
  {
   "cell_type": "markdown",
   "id": "52971987",
   "metadata": {},
   "source": [
    "# Launch napari image viewer"
   ]
  },
  {
   "cell_type": "code",
   "execution_count": 93,
   "id": "6818a45d",
   "metadata": {},
   "outputs": [
    {
     "name": "stdout",
     "output_type": "stream",
     "text": [
      "CPU times: user 13 µs, sys: 3 µs, total: 16 µs\n",
      "Wall time: 38.9 µs\n"
     ]
    },
    {
     "data": {
      "text/plain": [
       "[<Image layer 'Image' at 0x7f1fad5f1970>,\n",
       " <Image layer 'Image [1]' at 0x7f207d2ee880>,\n",
       " <Image layer 'Image [2]' at 0x7f1f924f0880>]"
      ]
     },
     "execution_count": 93,
     "metadata": {},
     "output_type": "execute_result"
    },
    {
     "name": "stdout",
     "output_type": "stream",
     "text": [
      "Rendering frames...\n"
     ]
    },
    {
     "name": "stderr",
     "output_type": "stream",
     "text": [
      "  0%|                                                               | 0/100 [00:00<?, ?it/s]IMAGEIO FFMPEG_WRITER WARNING: input image is not divisible by macro_block_size=16, resizing from (1228, 1057) to (1232, 1072) to ensure video compatibility with most codecs and players. To prevent resizing, make your input image divisible by the macro_block_size or set the macro_block_size to 1 (risking incompatibility).\n",
      "  4%|██                                                   | 4/100 [02:21<1:02:44, 39.22s/it]"
     ]
    }
   ],
   "source": [
    "%time\n",
    "viewer = napari.Viewer(title = '3,10 sum projection')\n",
    "\n",
    "# viewer.add_image(images, \n",
    "#                  channel_axis=1,\n",
    "#                  name=[\"macrophage\", \"mtb\"],\n",
    "#                  colormap=[\"green\",  \"magenta\"],\n",
    "# #                  contrast_limits=[[100, 6000], [100, 2000]],\n",
    "#                  contrast_limits=[[0,450], [0,450]], \n",
    "#                  visible = True\n",
    "#                  )\n",
    "viewer.add_image(images, \n",
    "                 channel_axis=1,\n",
    "#                  name=[\"macrophage\", \"mtb\"],\n",
    "#                  colormap=[\"green\",  \"magenta\"],\n",
    "# #                  contrast_limits=[[100, 6000], [100, 2000]],\n",
    "#                  contrast_limits=[[0,450], [0,450]], \n",
    "                 visible = True\n",
    "                 )\n",
    "# viewer.add_labels(segmentation, \n",
    "# #                   num_colors= 1,\n",
    "#                   #scale=(10, 1, 1,), \n",
    "#                   #color='yellow'\n",
    "#                   name = 'segmentation'\n",
    "#                  )\n",
    "# viewer.add_labels(col_segmentation, \n",
    "#                   name = 'recolored segmentation'\n",
    "#                   #scale=(10, 1, 1,), \n",
    "#                   #color='yellow'\n",
    "#                  )\n",
    "# viewer.add_tracks(napari_tracks, scale = (1,5.04,5.04)\n",
    "# #                     properties=properties, \n",
    "# #                     graph=graph, \n",
    "# #                     name=\"Properly downscaled tracks\", \n",
    "# #                     blending=\"translucent\",\n",
    "# #                     visible=True,\n",
    "# # #                     scale = (100,1,1)\n",
    "#                  )\n",
    "# viewer.add_tracks(napari_tracks, scale = (1,5.04,5.04),\n",
    "# #                     properties=properties, \n",
    "# #                     graph=graph, \n",
    "# #                     name=\"Properly downscaled tracks\", \n",
    "# #                     blending=\"translucent\",\n",
    "# #                     visible=True,\n",
    "# # #                     scale = (100,1,1)\n",
    "#                  )"
   ]
  },
  {
   "cell_type": "code",
   "execution_count": 25,
   "id": "f34cc29d",
   "metadata": {},
   "outputs": [
    {
     "data": {
      "text/plain": [
       "<Points layer 'cell 1251' at 0x7f235d482790>"
      ]
     },
     "execution_count": 25,
     "metadata": {},
     "output_type": "execute_result"
    }
   ],
   "source": [
    "visualise.highlight_cell(1251, viewer, tracks)"
   ]
  },
  {
   "cell_type": "code",
   "execution_count": 62,
   "id": "e0f86387",
   "metadata": {},
   "outputs": [
    {
     "data": {
      "text/plain": [
       "<Tracks layer 'napari_filtered_tracks [2]' at 0x7ff4e5a32430>"
      ]
     },
     "execution_count": 62,
     "metadata": {},
     "output_type": "execute_result"
    }
   ],
   "source": [
    "viewer.add_tracks(napari_filtered_tracks, scale = (1,5.04,5.04),)"
   ]
  },
  {
   "cell_type": "code",
   "execution_count": 25,
   "id": "5df733bf",
   "metadata": {},
   "outputs": [
    {
     "name": "stderr",
     "output_type": "stream",
     "text": [
      "Traceback (most recent call last):\n",
      "  File \"/home/dayn/miniconda3/envs/aero/lib/python3.9/site-packages/napari/utils/action_manager.py\", line 227, in <lambda>\n",
      "    button.clicked.connect(lambda: self.trigger(name))\n",
      "  File \"/home/dayn/miniconda3/envs/aero/lib/python3.9/site-packages/napari/utils/action_manager.py\", line 427, in trigger\n",
      "    return self._actions[name].injected()\n",
      "  File \"/home/dayn/miniconda3/envs/aero/lib/python3.9/site-packages/in_n_out/_store.py\", line 773, in _exec\n",
      "    result = func(**{**_kwargs, **bound.arguments})\n",
      "  File \"/home/dayn/miniconda3/envs/aero/lib/python3.9/site-packages/napari/layers/image/_image_key_bindings.py\", line 33, in orient_plane_normal_along_x\n",
      "    orient_plane_normal_around_cursor(layer, plane_normal=(0, 0, 1))\n",
      "  File \"/home/dayn/miniconda3/envs/aero/lib/python3.9/site-packages/napari/layers/utils/interactivity_utils.py\", line 126, in orient_plane_normal_around_cursor\n",
      "    view_direction = layer._world_to_displayed_data_ray(\n",
      "  File \"/home/dayn/miniconda3/envs/aero/lib/python3.9/site-packages/napari/layers/base/base.py\", line 1330, in _world_to_displayed_data_ray\n",
      "    vector_data_ndisplay = vector_data_nd[dims_displayed]\n",
      "IndexError: index -3 is out of bounds for axis 0 with size 2\n",
      "Traceback (most recent call last):\n",
      "  File \"/home/dayn/miniconda3/envs/aero/lib/python3.9/site-packages/napari/utils/action_manager.py\", line 227, in <lambda>\n",
      "    button.clicked.connect(lambda: self.trigger(name))\n",
      "  File \"/home/dayn/miniconda3/envs/aero/lib/python3.9/site-packages/napari/utils/action_manager.py\", line 427, in trigger\n",
      "    return self._actions[name].injected()\n",
      "  File \"/home/dayn/miniconda3/envs/aero/lib/python3.9/site-packages/in_n_out/_store.py\", line 773, in _exec\n",
      "    result = func(**{**_kwargs, **bound.arguments})\n",
      "  File \"/home/dayn/miniconda3/envs/aero/lib/python3.9/site-packages/napari/layers/image/_image_key_bindings.py\", line 27, in orient_plane_normal_along_y\n",
      "    orient_plane_normal_around_cursor(layer, plane_normal=(0, 1, 0))\n",
      "  File \"/home/dayn/miniconda3/envs/aero/lib/python3.9/site-packages/napari/layers/utils/interactivity_utils.py\", line 126, in orient_plane_normal_around_cursor\n",
      "    view_direction = layer._world_to_displayed_data_ray(\n",
      "  File \"/home/dayn/miniconda3/envs/aero/lib/python3.9/site-packages/napari/layers/base/base.py\", line 1330, in _world_to_displayed_data_ray\n",
      "    vector_data_ndisplay = vector_data_nd[dims_displayed]\n",
      "IndexError: index -3 is out of bounds for axis 0 with size 2\n"
     ]
    }
   ],
   "source": [
    "viewer.layers['napari_filtered_tracks'].scale = (30, 5.04, 5.04)"
   ]
  },
  {
   "cell_type": "code",
   "execution_count": 32,
   "id": "1ab82bb4",
   "metadata": {},
   "outputs": [],
   "source": [
    "viewer.layers['napari_filtered_tracks'].axis_labels=[\"time\", \"y\", \"x\"]"
   ]
  },
  {
   "cell_type": "code",
   "execution_count": 29,
   "id": "80b39d85",
   "metadata": {},
   "outputs": [
    {
     "data": {
      "text/plain": [
       "<Labels layer 'downscaled coloured segmentation new tracks' at 0x7f15c273ca30>"
      ]
     },
     "execution_count": 29,
     "metadata": {},
     "output_type": "execute_result"
    }
   ],
   "source": [
    "viewer.add_tracks(ds_napari_tracks,\n",
    "#                     properties=properties, \n",
    "#                     graph=graph, \n",
    "                    name=\"hacky downscaled tracks\", \n",
    "                    blending=\"translucent\",\n",
    "                    visible=True,\n",
    "#                     scale = (1,1,1)\n",
    "                )\n",
    "# viewer.add_labels(ds_segmentation, \n",
    "#                  name = 'downscaled segmentation')\n",
    "\n",
    "viewer.add_labels(ds_col_segmentation, \n",
    "                  name = 'downscaled coloured segmentation',\n",
    "                  scale=(1, 1, 1,), \n",
    "#                   color={1:'yellow'}\n",
    "                 )\n",
    "\n",
    "viewer.add_labels(ds_col_segmentation_new_tracks, \n",
    "                  name = 'downscaled coloured segmentation new tracks',\n",
    "                  scale=(1, 1, 1,), \n",
    "#                   color={1:'yellow'}\n",
    "                 )"
   ]
  }
 ],
 "metadata": {
  "kernelspec": {
   "display_name": "brassica",
   "language": "python",
   "name": "brassica"
  },
  "language_info": {
   "codemirror_mode": {
    "name": "ipython",
    "version": 3
   },
   "file_extension": ".py",
   "mimetype": "text/x-python",
   "name": "python",
   "nbconvert_exporter": "python",
   "pygments_lexer": "ipython3",
   "version": "3.9.17"
  }
 },
 "nbformat": 4,
 "nbformat_minor": 5
}
