{
 "cells": [
  {
   "cell_type": "markdown",
   "id": "e7452ae6",
   "metadata": {},
   "source": [
    "# Image viewer\n",
    "\n",
    "This notebook is for inspecting timelapse microscopy data, with associated sinhgle-cell labels and tracks, showing the infection of human macrophages with Mycobacterium Tuberculosis (Mtb), acquired on an Opera Phenix confocal microscope. "
   ]
  },
  {
   "cell_type": "code",
   "execution_count": 1,
   "id": "83d383f0",
   "metadata": {},
   "outputs": [
    {
     "name": "stdout",
     "output_type": "stream",
     "text": [
      "0.6.1.dev83\n"
     ]
    }
   ],
   "source": [
    "import napari\n",
    "from macrohet import dataio, tile, visualise\n",
    "import btrack\n",
    "print(btrack.__version__)\n",
    "import os, glob"
   ]
  },
  {
   "cell_type": "markdown",
   "id": "cb28dcb6",
   "metadata": {},
   "source": [
    "### Load experiment of choice\n",
    "\n",
    "The Opera Phenix is a high-throughput confocal microscope that acquires very large 5-dimensional (TCZXY) images over several fields of view in any one experiment. Therefore, a lazy-loading approach is chosen to mosaic, view and annotate these images. This approach depends upon Dask and DaskFusion. The first step is to load the main metadata file (typically called `Index.idx.xml` and located in the main `Images` directory) that contains the image filenames and associated TCXZY information used to organise the images."
   ]
  },
  {
   "cell_type": "code",
   "execution_count": 2,
   "id": "2f90d81a",
   "metadata": {},
   "outputs": [
    {
     "name": "stdout",
     "output_type": "stream",
     "text": [
      "Reading metadata XML file...\n"
     ]
    },
    {
     "data": {
      "application/vnd.jupyter.widget-view+json": {
       "model_id": "dc11657cd36145778ee2aeef3697c886",
       "version_major": 2,
       "version_minor": 0
      },
      "text/plain": [
       "Extracting HarmonyV5 metadata:   0%|          | 0/243648 [00:00<?, ?it/s]"
      ]
     },
     "metadata": {},
     "output_type": "display_data"
    },
    {
     "name": "stdout",
     "output_type": "stream",
     "text": [
      "Extracting metadata complete!\n"
     ]
    },
    {
     "data": {
      "text/html": [
       "<div>\n",
       "<style scoped>\n",
       "    .dataframe tbody tr th:only-of-type {\n",
       "        vertical-align: middle;\n",
       "    }\n",
       "\n",
       "    .dataframe tbody tr th {\n",
       "        vertical-align: top;\n",
       "    }\n",
       "\n",
       "    .dataframe thead th {\n",
       "        text-align: right;\n",
       "    }\n",
       "</style>\n",
       "<table border=\"1\" class=\"dataframe\">\n",
       "  <thead>\n",
       "    <tr style=\"text-align: right;\">\n",
       "      <th></th>\n",
       "      <th>id</th>\n",
       "      <th>State</th>\n",
       "      <th>URL</th>\n",
       "      <th>Row</th>\n",
       "      <th>Col</th>\n",
       "      <th>FieldID</th>\n",
       "      <th>PlaneID</th>\n",
       "      <th>TimepointID</th>\n",
       "      <th>ChannelID</th>\n",
       "      <th>FlimID</th>\n",
       "      <th>...</th>\n",
       "      <th>PositionZ</th>\n",
       "      <th>AbsPositionZ</th>\n",
       "      <th>MeasurementTimeOffset</th>\n",
       "      <th>AbsTime</th>\n",
       "      <th>MainExcitationWavelength</th>\n",
       "      <th>MainEmissionWavelength</th>\n",
       "      <th>ObjectiveMagnification</th>\n",
       "      <th>ObjectiveNA</th>\n",
       "      <th>ExposureTime</th>\n",
       "      <th>OrientationMatrix</th>\n",
       "    </tr>\n",
       "  </thead>\n",
       "  <tbody>\n",
       "    <tr>\n",
       "      <th>0</th>\n",
       "      <td>0203K1F1P1R1</td>\n",
       "      <td>Ok</td>\n",
       "      <td>r02c03f01p01-ch1sk1fk1fl1.tiff</td>\n",
       "      <td>2</td>\n",
       "      <td>3</td>\n",
       "      <td>1</td>\n",
       "      <td>1</td>\n",
       "      <td>0</td>\n",
       "      <td>1</td>\n",
       "      <td>1</td>\n",
       "      <td>...</td>\n",
       "      <td>0</td>\n",
       "      <td>0.135205805</td>\n",
       "      <td>0</td>\n",
       "      <td>2023-08-04T15:28:16.5+01:00</td>\n",
       "      <td>561</td>\n",
       "      <td>599</td>\n",
       "      <td>40</td>\n",
       "      <td>1.1</td>\n",
       "      <td>0.2</td>\n",
       "      <td>[[0.994928,0,0,15.1],[0,-0.994928,0,-5.3],[0,0...</td>\n",
       "    </tr>\n",
       "    <tr>\n",
       "      <th>1</th>\n",
       "      <td>0203K1F1P1R2</td>\n",
       "      <td>Ok</td>\n",
       "      <td>r02c03f01p01-ch2sk1fk1fl1.tiff</td>\n",
       "      <td>2</td>\n",
       "      <td>3</td>\n",
       "      <td>1</td>\n",
       "      <td>1</td>\n",
       "      <td>0</td>\n",
       "      <td>2</td>\n",
       "      <td>1</td>\n",
       "      <td>...</td>\n",
       "      <td>0</td>\n",
       "      <td>0.135205805</td>\n",
       "      <td>0</td>\n",
       "      <td>2023-08-04T15:28:16.5+01:00</td>\n",
       "      <td>740</td>\n",
       "      <td>0</td>\n",
       "      <td>40</td>\n",
       "      <td>1.1</td>\n",
       "      <td>0.2</td>\n",
       "      <td>[[0.994928,0,0,15.1],[0,-0.994928,0,-5.3],[0,0...</td>\n",
       "    </tr>\n",
       "    <tr>\n",
       "      <th>2</th>\n",
       "      <td>0203K1F1P1R3</td>\n",
       "      <td>Ok</td>\n",
       "      <td>r02c03f01p01-ch3sk1fk1fl1.tiff</td>\n",
       "      <td>2</td>\n",
       "      <td>3</td>\n",
       "      <td>1</td>\n",
       "      <td>1</td>\n",
       "      <td>0</td>\n",
       "      <td>3</td>\n",
       "      <td>1</td>\n",
       "      <td>...</td>\n",
       "      <td>0</td>\n",
       "      <td>0.135205805</td>\n",
       "      <td>0</td>\n",
       "      <td>2023-08-04T15:28:16.767+01:00</td>\n",
       "      <td>640</td>\n",
       "      <td>706</td>\n",
       "      <td>40</td>\n",
       "      <td>1.1</td>\n",
       "      <td>0.2</td>\n",
       "      <td>[[0.994928,0,0,15.1],[0,-0.994928,0,-5.3],[0,0...</td>\n",
       "    </tr>\n",
       "    <tr>\n",
       "      <th>3</th>\n",
       "      <td>0203K1F1P2R1</td>\n",
       "      <td>Ok</td>\n",
       "      <td>r02c03f01p02-ch1sk1fk1fl1.tiff</td>\n",
       "      <td>2</td>\n",
       "      <td>3</td>\n",
       "      <td>1</td>\n",
       "      <td>2</td>\n",
       "      <td>0</td>\n",
       "      <td>1</td>\n",
       "      <td>1</td>\n",
       "      <td>...</td>\n",
       "      <td>2E-06</td>\n",
       "      <td>0.135207802</td>\n",
       "      <td>0</td>\n",
       "      <td>2023-08-04T15:28:17.047+01:00</td>\n",
       "      <td>561</td>\n",
       "      <td>599</td>\n",
       "      <td>40</td>\n",
       "      <td>1.1</td>\n",
       "      <td>0.2</td>\n",
       "      <td>[[0.994928,0,0,15.1],[0,-0.994928,0,-5.3],[0,0...</td>\n",
       "    </tr>\n",
       "    <tr>\n",
       "      <th>4</th>\n",
       "      <td>0203K1F1P2R2</td>\n",
       "      <td>Ok</td>\n",
       "      <td>r02c03f01p02-ch2sk1fk1fl1.tiff</td>\n",
       "      <td>2</td>\n",
       "      <td>3</td>\n",
       "      <td>1</td>\n",
       "      <td>2</td>\n",
       "      <td>0</td>\n",
       "      <td>2</td>\n",
       "      <td>1</td>\n",
       "      <td>...</td>\n",
       "      <td>2E-06</td>\n",
       "      <td>0.135207802</td>\n",
       "      <td>0</td>\n",
       "      <td>2023-08-04T15:28:17.047+01:00</td>\n",
       "      <td>740</td>\n",
       "      <td>0</td>\n",
       "      <td>40</td>\n",
       "      <td>1.1</td>\n",
       "      <td>0.2</td>\n",
       "      <td>[[0.994928,0,0,15.1],[0,-0.994928,0,-5.3],[0,0...</td>\n",
       "    </tr>\n",
       "    <tr>\n",
       "      <th>...</th>\n",
       "      <td>...</td>\n",
       "      <td>...</td>\n",
       "      <td>...</td>\n",
       "      <td>...</td>\n",
       "      <td>...</td>\n",
       "      <td>...</td>\n",
       "      <td>...</td>\n",
       "      <td>...</td>\n",
       "      <td>...</td>\n",
       "      <td>...</td>\n",
       "      <td>...</td>\n",
       "      <td>...</td>\n",
       "      <td>...</td>\n",
       "      <td>...</td>\n",
       "      <td>...</td>\n",
       "      <td>...</td>\n",
       "      <td>...</td>\n",
       "      <td>...</td>\n",
       "      <td>...</td>\n",
       "      <td>...</td>\n",
       "      <td>...</td>\n",
       "    </tr>\n",
       "    <tr>\n",
       "      <th>243643</th>\n",
       "      <td>0310K376F9P2R2</td>\n",
       "      <td>Ok</td>\n",
       "      <td>r03c10f09p02-ch2sk376fk1fl1.tiff</td>\n",
       "      <td>3</td>\n",
       "      <td>10</td>\n",
       "      <td>9</td>\n",
       "      <td>2</td>\n",
       "      <td>375</td>\n",
       "      <td>2</td>\n",
       "      <td>1</td>\n",
       "      <td>...</td>\n",
       "      <td>2E-06</td>\n",
       "      <td>0.135064006</td>\n",
       "      <td>337503.973</td>\n",
       "      <td>2023-08-08T13:15:47.533+01:00</td>\n",
       "      <td>740</td>\n",
       "      <td>0</td>\n",
       "      <td>40</td>\n",
       "      <td>1.1</td>\n",
       "      <td>0.2</td>\n",
       "      <td>[[0.994928,0,0,15.1],[0,-0.994928,0,-5.3],[0,0...</td>\n",
       "    </tr>\n",
       "    <tr>\n",
       "      <th>243644</th>\n",
       "      <td>0310K376F9P2R3</td>\n",
       "      <td>Ok</td>\n",
       "      <td>r03c10f09p02-ch3sk376fk1fl1.tiff</td>\n",
       "      <td>3</td>\n",
       "      <td>10</td>\n",
       "      <td>9</td>\n",
       "      <td>2</td>\n",
       "      <td>375</td>\n",
       "      <td>3</td>\n",
       "      <td>1</td>\n",
       "      <td>...</td>\n",
       "      <td>2E-06</td>\n",
       "      <td>0.135064006</td>\n",
       "      <td>337503.973</td>\n",
       "      <td>2023-08-08T13:15:47.8+01:00</td>\n",
       "      <td>640</td>\n",
       "      <td>706</td>\n",
       "      <td>40</td>\n",
       "      <td>1.1</td>\n",
       "      <td>0.2</td>\n",
       "      <td>[[0.994928,0,0,15.1],[0,-0.994928,0,-5.3],[0,0...</td>\n",
       "    </tr>\n",
       "    <tr>\n",
       "      <th>243645</th>\n",
       "      <td>0310K376F9P3R1</td>\n",
       "      <td>Ok</td>\n",
       "      <td>r03c10f09p03-ch1sk376fk1fl1.tiff</td>\n",
       "      <td>3</td>\n",
       "      <td>10</td>\n",
       "      <td>9</td>\n",
       "      <td>3</td>\n",
       "      <td>375</td>\n",
       "      <td>1</td>\n",
       "      <td>1</td>\n",
       "      <td>...</td>\n",
       "      <td>4E-06</td>\n",
       "      <td>0.135066003</td>\n",
       "      <td>337503.973</td>\n",
       "      <td>2023-08-08T13:15:48.08+01:00</td>\n",
       "      <td>561</td>\n",
       "      <td>599</td>\n",
       "      <td>40</td>\n",
       "      <td>1.1</td>\n",
       "      <td>0.2</td>\n",
       "      <td>[[0.994928,0,0,15.1],[0,-0.994928,0,-5.3],[0,0...</td>\n",
       "    </tr>\n",
       "    <tr>\n",
       "      <th>243646</th>\n",
       "      <td>0310K376F9P3R2</td>\n",
       "      <td>Ok</td>\n",
       "      <td>r03c10f09p03-ch2sk376fk1fl1.tiff</td>\n",
       "      <td>3</td>\n",
       "      <td>10</td>\n",
       "      <td>9</td>\n",
       "      <td>3</td>\n",
       "      <td>375</td>\n",
       "      <td>2</td>\n",
       "      <td>1</td>\n",
       "      <td>...</td>\n",
       "      <td>4E-06</td>\n",
       "      <td>0.135066003</td>\n",
       "      <td>337503.973</td>\n",
       "      <td>2023-08-08T13:15:48.097+01:00</td>\n",
       "      <td>740</td>\n",
       "      <td>0</td>\n",
       "      <td>40</td>\n",
       "      <td>1.1</td>\n",
       "      <td>0.2</td>\n",
       "      <td>[[0.994928,0,0,15.1],[0,-0.994928,0,-5.3],[0,0...</td>\n",
       "    </tr>\n",
       "    <tr>\n",
       "      <th>243647</th>\n",
       "      <td>0310K376F9P3R3</td>\n",
       "      <td>Ok</td>\n",
       "      <td>r03c10f09p03-ch3sk376fk1fl1.tiff</td>\n",
       "      <td>3</td>\n",
       "      <td>10</td>\n",
       "      <td>9</td>\n",
       "      <td>3</td>\n",
       "      <td>375</td>\n",
       "      <td>3</td>\n",
       "      <td>1</td>\n",
       "      <td>...</td>\n",
       "      <td>4E-06</td>\n",
       "      <td>0.135066003</td>\n",
       "      <td>337503.973</td>\n",
       "      <td>2023-08-08T13:15:48.36+01:00</td>\n",
       "      <td>640</td>\n",
       "      <td>706</td>\n",
       "      <td>40</td>\n",
       "      <td>1.1</td>\n",
       "      <td>0.2</td>\n",
       "      <td>[[0.994928,0,0,15.1],[0,-0.994928,0,-5.3],[0,0...</td>\n",
       "    </tr>\n",
       "  </tbody>\n",
       "</table>\n",
       "<p>243648 rows × 35 columns</p>\n",
       "</div>"
      ],
      "text/plain": [
       "                    id State                               URL Row Col  \\\n",
       "0         0203K1F1P1R1    Ok    r02c03f01p01-ch1sk1fk1fl1.tiff   2   3   \n",
       "1         0203K1F1P1R2    Ok    r02c03f01p01-ch2sk1fk1fl1.tiff   2   3   \n",
       "2         0203K1F1P1R3    Ok    r02c03f01p01-ch3sk1fk1fl1.tiff   2   3   \n",
       "3         0203K1F1P2R1    Ok    r02c03f01p02-ch1sk1fk1fl1.tiff   2   3   \n",
       "4         0203K1F1P2R2    Ok    r02c03f01p02-ch2sk1fk1fl1.tiff   2   3   \n",
       "...                ...   ...                               ...  ..  ..   \n",
       "243643  0310K376F9P2R2    Ok  r03c10f09p02-ch2sk376fk1fl1.tiff   3  10   \n",
       "243644  0310K376F9P2R3    Ok  r03c10f09p02-ch3sk376fk1fl1.tiff   3  10   \n",
       "243645  0310K376F9P3R1    Ok  r03c10f09p03-ch1sk376fk1fl1.tiff   3  10   \n",
       "243646  0310K376F9P3R2    Ok  r03c10f09p03-ch2sk376fk1fl1.tiff   3  10   \n",
       "243647  0310K376F9P3R3    Ok  r03c10f09p03-ch3sk376fk1fl1.tiff   3  10   \n",
       "\n",
       "       FieldID PlaneID TimepointID ChannelID FlimID  ... PositionZ  \\\n",
       "0            1       1           0         1      1  ...         0   \n",
       "1            1       1           0         2      1  ...         0   \n",
       "2            1       1           0         3      1  ...         0   \n",
       "3            1       2           0         1      1  ...     2E-06   \n",
       "4            1       2           0         2      1  ...     2E-06   \n",
       "...        ...     ...         ...       ...    ...  ...       ...   \n",
       "243643       9       2         375         2      1  ...     2E-06   \n",
       "243644       9       2         375         3      1  ...     2E-06   \n",
       "243645       9       3         375         1      1  ...     4E-06   \n",
       "243646       9       3         375         2      1  ...     4E-06   \n",
       "243647       9       3         375         3      1  ...     4E-06   \n",
       "\n",
       "       AbsPositionZ MeasurementTimeOffset                        AbsTime  \\\n",
       "0       0.135205805                     0    2023-08-04T15:28:16.5+01:00   \n",
       "1       0.135205805                     0    2023-08-04T15:28:16.5+01:00   \n",
       "2       0.135205805                     0  2023-08-04T15:28:16.767+01:00   \n",
       "3       0.135207802                     0  2023-08-04T15:28:17.047+01:00   \n",
       "4       0.135207802                     0  2023-08-04T15:28:17.047+01:00   \n",
       "...             ...                   ...                            ...   \n",
       "243643  0.135064006            337503.973  2023-08-08T13:15:47.533+01:00   \n",
       "243644  0.135064006            337503.973    2023-08-08T13:15:47.8+01:00   \n",
       "243645  0.135066003            337503.973   2023-08-08T13:15:48.08+01:00   \n",
       "243646  0.135066003            337503.973  2023-08-08T13:15:48.097+01:00   \n",
       "243647  0.135066003            337503.973   2023-08-08T13:15:48.36+01:00   \n",
       "\n",
       "       MainExcitationWavelength MainEmissionWavelength ObjectiveMagnification  \\\n",
       "0                           561                    599                     40   \n",
       "1                           740                      0                     40   \n",
       "2                           640                    706                     40   \n",
       "3                           561                    599                     40   \n",
       "4                           740                      0                     40   \n",
       "...                         ...                    ...                    ...   \n",
       "243643                      740                      0                     40   \n",
       "243644                      640                    706                     40   \n",
       "243645                      561                    599                     40   \n",
       "243646                      740                      0                     40   \n",
       "243647                      640                    706                     40   \n",
       "\n",
       "       ObjectiveNA ExposureTime  \\\n",
       "0              1.1          0.2   \n",
       "1              1.1          0.2   \n",
       "2              1.1          0.2   \n",
       "3              1.1          0.2   \n",
       "4              1.1          0.2   \n",
       "...            ...          ...   \n",
       "243643         1.1          0.2   \n",
       "243644         1.1          0.2   \n",
       "243645         1.1          0.2   \n",
       "243646         1.1          0.2   \n",
       "243647         1.1          0.2   \n",
       "\n",
       "                                        OrientationMatrix  \n",
       "0       [[0.994928,0,0,15.1],[0,-0.994928,0,-5.3],[0,0...  \n",
       "1       [[0.994928,0,0,15.1],[0,-0.994928,0,-5.3],[0,0...  \n",
       "2       [[0.994928,0,0,15.1],[0,-0.994928,0,-5.3],[0,0...  \n",
       "3       [[0.994928,0,0,15.1],[0,-0.994928,0,-5.3],[0,0...  \n",
       "4       [[0.994928,0,0,15.1],[0,-0.994928,0,-5.3],[0,0...  \n",
       "...                                                   ...  \n",
       "243643  [[0.994928,0,0,15.1],[0,-0.994928,0,-5.3],[0,0...  \n",
       "243644  [[0.994928,0,0,15.1],[0,-0.994928,0,-5.3],[0,0...  \n",
       "243645  [[0.994928,0,0,15.1],[0,-0.994928,0,-5.3],[0,0...  \n",
       "243646  [[0.994928,0,0,15.1],[0,-0.994928,0,-5.3],[0,0...  \n",
       "243647  [[0.994928,0,0,15.1],[0,-0.994928,0,-5.3],[0,0...  \n",
       "\n",
       "[243648 rows x 35 columns]"
      ]
     },
     "execution_count": 2,
     "metadata": {},
     "output_type": "execute_result"
    }
   ],
   "source": [
    "# base_dir = '/mnt/DATA/macrohet/'\n",
    "base_dir = '/run/user/30046150/gvfs/smb-share:server=data2.thecrick.org,share=lab-gutierrezm/home/users/dayn/macrohet_nemo/macrohet_images/NDXXXX_optimisation/ND0000__2023-08-04T15_27_41-Measurement 1/'\n",
    "# base_dir = '/Volumes/lab-gutierrezm/home/users/dayn/macrohet_nemo/macrohet_images/NDXXXX_optimisation/ND0000__2023-08-04T15_27_41-Measurement 1/'\n",
    "# metadata_fn = os.path.join(base_dir, 'macrohet_images/Index.idx.xml')\n",
    "metadata_fn = os.path.join(base_dir, 'Images/Index.idx.xml')\n",
    "metadata = dataio.read_harmony_metadata(metadata_fn)  \n",
    "metadata"
   ]
  },
  {
   "cell_type": "markdown",
   "id": "4779c1f0",
   "metadata": {},
   "source": [
    "### View assay layout and mask information (optional)\n",
    "\n",
    "The Opera Phenix acquires many time lapse series from a range of positions. The first step is to inspect the image metadata, presented in the form of an `Assaylayout/experiment_ID.xml` file, to show which positions correspond to which experimental assays."
   ]
  },
  {
   "cell_type": "code",
   "execution_count": 3,
   "id": "4b75643e",
   "metadata": {},
   "outputs": [
    {
     "name": "stdout",
     "output_type": "stream",
     "text": [
      "Reading metadata XML file...\n",
      "Extracting metadata complete!\n"
     ]
    },
    {
     "data": {
      "text/html": [
       "<div>\n",
       "<style scoped>\n",
       "    .dataframe tbody tr th:only-of-type {\n",
       "        vertical-align: middle;\n",
       "    }\n",
       "\n",
       "    .dataframe tbody tr th {\n",
       "        vertical-align: top;\n",
       "    }\n",
       "\n",
       "    .dataframe thead th {\n",
       "        text-align: right;\n",
       "    }\n",
       "</style>\n",
       "<table border=\"1\" class=\"dataframe\">\n",
       "  <thead>\n",
       "    <tr style=\"text-align: right;\">\n",
       "      <th></th>\n",
       "      <th></th>\n",
       "      <th>Cell Count</th>\n",
       "      <th>double</th>\n",
       "      <th>Staining</th>\n",
       "      <th>Infection</th>\n",
       "    </tr>\n",
       "  </thead>\n",
       "  <tbody>\n",
       "    <tr>\n",
       "      <th rowspan=\"4\" valign=\"top\">2</th>\n",
       "      <th>3</th>\n",
       "      <td>NaN</td>\n",
       "      <td>50000</td>\n",
       "      <td>False</td>\n",
       "      <td>False</td>\n",
       "    </tr>\n",
       "    <tr>\n",
       "      <th>4</th>\n",
       "      <td>NaN</td>\n",
       "      <td>50000</td>\n",
       "      <td>False</td>\n",
       "      <td>True</td>\n",
       "    </tr>\n",
       "    <tr>\n",
       "      <th>9</th>\n",
       "      <td>NaN</td>\n",
       "      <td>50000</td>\n",
       "      <td>True</td>\n",
       "      <td>False</td>\n",
       "    </tr>\n",
       "    <tr>\n",
       "      <th>10</th>\n",
       "      <td>NaN</td>\n",
       "      <td>50000</td>\n",
       "      <td>True</td>\n",
       "      <td>True</td>\n",
       "    </tr>\n",
       "    <tr>\n",
       "      <th rowspan=\"4\" valign=\"top\">3</th>\n",
       "      <th>3</th>\n",
       "      <td>NaN</td>\n",
       "      <td>25000</td>\n",
       "      <td>False</td>\n",
       "      <td>False</td>\n",
       "    </tr>\n",
       "    <tr>\n",
       "      <th>4</th>\n",
       "      <td>NaN</td>\n",
       "      <td>25000</td>\n",
       "      <td>False</td>\n",
       "      <td>True</td>\n",
       "    </tr>\n",
       "    <tr>\n",
       "      <th>9</th>\n",
       "      <td>NaN</td>\n",
       "      <td>25000</td>\n",
       "      <td>True</td>\n",
       "      <td>False</td>\n",
       "    </tr>\n",
       "    <tr>\n",
       "      <th>10</th>\n",
       "      <td>NaN</td>\n",
       "      <td>25000</td>\n",
       "      <td>True</td>\n",
       "      <td>True</td>\n",
       "    </tr>\n",
       "  </tbody>\n",
       "</table>\n",
       "</div>"
      ],
      "text/plain": [
       "      Cell Count double Staining Infection\n",
       "2 3          NaN  50000    False     False\n",
       "  4          NaN  50000    False      True\n",
       "  9          NaN  50000     True     False\n",
       "  10         NaN  50000     True      True\n",
       "3 3          NaN  25000    False     False\n",
       "  4          NaN  25000    False      True\n",
       "  9          NaN  25000     True     False\n",
       "  10         NaN  25000     True      True"
      ]
     },
     "execution_count": 3,
     "metadata": {},
     "output_type": "execute_result"
    }
   ],
   "source": [
    "# metadata_path = os.path.join(base_dir, 'macrohet_images/Assaylayout/20210602_Live_cell_IPSDMGFP_ATB.xml')\n",
    "metadata_path = glob.glob(os.path.join(base_dir, 'Assaylayout/*.xml'))[0]\n",
    "assay_layout = dataio.read_harmony_metadata(metadata_path, assay_layout=True,)# mask_exist=True,  image_dir = image_dir, image_metadata = metadata)\n",
    "# TEMP FIX FOR BUG IN ASSAY LAYOUT READER - ends up displaying more rows cols then there are so\n",
    "assay_layout = assay_layout.loc[[idx for idx in assay_layout.index if str(idx[0]) in list(metadata['Row'].unique()) and str(idx[1]) in list(metadata['Col'].unique())]]\n",
    "assay_layout"
   ]
  },
  {
   "cell_type": "markdown",
   "id": "e9d4dc7f",
   "metadata": {},
   "source": [
    "### Define row and column of choice"
   ]
  },
  {
   "cell_type": "code",
   "execution_count": 4,
   "id": "661b558f",
   "metadata": {},
   "outputs": [],
   "source": [
    "row = 3\n",
    "column = 10"
   ]
  },
  {
   "cell_type": "markdown",
   "id": "bee546c2",
   "metadata": {},
   "source": [
    "### Now to lazily mosaic the images using Dask prior to viewing them.\n",
    "\n",
    "1x (75,2,3) [TCZ] image stack takes approximately 1 minute to stitch together, so only load the one field of view I want."
   ]
  },
  {
   "cell_type": "code",
   "execution_count": 5,
   "id": "72561ec6",
   "metadata": {},
   "outputs": [
    {
     "name": "stdout",
     "output_type": "stream",
     "text": [
      "CPU times: user 2.11 s, sys: 42 ms, total: 2.15 s\n",
      "Wall time: 5.99 s\n"
     ]
    }
   ],
   "source": [
    "%%time\n",
    "# image_dir = os.path.join(base_dir, 'macrohet_images/Images_8bit')\n",
    "image_dir = os.path.join(base_dir, 'Images')\n",
    "images = tile.compile_mosaic(image_dir, \n",
    "                             metadata, \n",
    "                             row, column, \n",
    "                             set_plane='sum_proj',\n",
    "                             # set_channel=1,\n",
    "                             # set_time = 1,\n",
    "#                             input_transforms = [input_transforms]\n",
    "                            )#.compute().compute()"
   ]
  },
  {
   "cell_type": "code",
   "execution_count": 7,
   "id": "c7e1b0d0-d163-4e61-9a52-15036cd5be29",
   "metadata": {},
   "outputs": [],
   "source": [
    "import dask.array as da"
   ]
  },
  {
   "cell_type": "code",
   "execution_count": 8,
   "id": "52f4e389-c29a-49da-9a5d-c70880dcb64d",
   "metadata": {},
   "outputs": [],
   "source": [
    "images = da.stack([images[:,0,...], images[:,2,...]], axis = 1)"
   ]
  },
  {
   "cell_type": "code",
   "execution_count": 9,
   "id": "bfaf74f7-9712-4f79-bfa7-e5da51d51410",
   "metadata": {
    "scrolled": true
   },
   "outputs": [
    {
     "data": {
      "text/html": [
       "<table>\n",
       "    <tr>\n",
       "        <td>\n",
       "            <table style=\"border-collapse: collapse;\">\n",
       "                <thead>\n",
       "                    <tr>\n",
       "                        <td> </td>\n",
       "                        <th> Array </th>\n",
       "                        <th> Chunk </th>\n",
       "                    </tr>\n",
       "                </thead>\n",
       "                <tbody>\n",
       "                    \n",
       "                    <tr>\n",
       "                        <th> Bytes </th>\n",
       "                        <td> 51.24 GiB </td>\n",
       "                        <td> 7.75 MiB </td>\n",
       "                    </tr>\n",
       "                    \n",
       "                    <tr>\n",
       "                        <th> Shape </th>\n",
       "                        <td> (376, 2, 6048, 6048) </td>\n",
       "                        <td> (1, 1, 2016, 2016) </td>\n",
       "                    </tr>\n",
       "                    <tr>\n",
       "                        <th> Dask graph </th>\n",
       "                        <td colspan=\"2\"> 6768 chunks in 13546 graph layers </td>\n",
       "                    </tr>\n",
       "                    <tr>\n",
       "                        <th> Data type </th>\n",
       "                        <td colspan=\"2\"> uint16 numpy.ndarray </td>\n",
       "                    </tr>\n",
       "                </tbody>\n",
       "            </table>\n",
       "        </td>\n",
       "        <td>\n",
       "        <svg width=\"394\" height=\"184\" style=\"stroke:rgb(0,0,0);stroke-width:1\" >\n",
       "\n",
       "  <!-- Horizontal lines -->\n",
       "  <line x1=\"0\" y1=\"0\" x2=\"35\" y2=\"0\" style=\"stroke-width:2\" />\n",
       "  <line x1=\"0\" y1=\"25\" x2=\"35\" y2=\"25\" style=\"stroke-width:2\" />\n",
       "\n",
       "  <!-- Vertical lines -->\n",
       "  <line x1=\"0\" y1=\"0\" x2=\"0\" y2=\"25\" style=\"stroke-width:2\" />\n",
       "  <line x1=\"1\" y1=\"0\" x2=\"1\" y2=\"25\" />\n",
       "  <line x1=\"2\" y1=\"0\" x2=\"2\" y2=\"25\" />\n",
       "  <line x1=\"3\" y1=\"0\" x2=\"3\" y2=\"25\" />\n",
       "  <line x1=\"4\" y1=\"0\" x2=\"4\" y2=\"25\" />\n",
       "  <line x1=\"5\" y1=\"0\" x2=\"5\" y2=\"25\" />\n",
       "  <line x1=\"6\" y1=\"0\" x2=\"6\" y2=\"25\" />\n",
       "  <line x1=\"7\" y1=\"0\" x2=\"7\" y2=\"25\" />\n",
       "  <line x1=\"8\" y1=\"0\" x2=\"8\" y2=\"25\" />\n",
       "  <line x1=\"10\" y1=\"0\" x2=\"10\" y2=\"25\" />\n",
       "  <line x1=\"11\" y1=\"0\" x2=\"11\" y2=\"25\" />\n",
       "  <line x1=\"12\" y1=\"0\" x2=\"12\" y2=\"25\" />\n",
       "  <line x1=\"13\" y1=\"0\" x2=\"13\" y2=\"25\" />\n",
       "  <line x1=\"14\" y1=\"0\" x2=\"14\" y2=\"25\" />\n",
       "  <line x1=\"15\" y1=\"0\" x2=\"15\" y2=\"25\" />\n",
       "  <line x1=\"16\" y1=\"0\" x2=\"16\" y2=\"25\" />\n",
       "  <line x1=\"17\" y1=\"0\" x2=\"17\" y2=\"25\" />\n",
       "  <line x1=\"18\" y1=\"0\" x2=\"18\" y2=\"25\" />\n",
       "  <line x1=\"20\" y1=\"0\" x2=\"20\" y2=\"25\" />\n",
       "  <line x1=\"21\" y1=\"0\" x2=\"21\" y2=\"25\" />\n",
       "  <line x1=\"22\" y1=\"0\" x2=\"22\" y2=\"25\" />\n",
       "  <line x1=\"23\" y1=\"0\" x2=\"23\" y2=\"25\" />\n",
       "  <line x1=\"24\" y1=\"0\" x2=\"24\" y2=\"25\" />\n",
       "  <line x1=\"25\" y1=\"0\" x2=\"25\" y2=\"25\" />\n",
       "  <line x1=\"26\" y1=\"0\" x2=\"26\" y2=\"25\" />\n",
       "  <line x1=\"27\" y1=\"0\" x2=\"27\" y2=\"25\" />\n",
       "  <line x1=\"29\" y1=\"0\" x2=\"29\" y2=\"25\" />\n",
       "  <line x1=\"30\" y1=\"0\" x2=\"30\" y2=\"25\" />\n",
       "  <line x1=\"31\" y1=\"0\" x2=\"31\" y2=\"25\" />\n",
       "  <line x1=\"32\" y1=\"0\" x2=\"32\" y2=\"25\" />\n",
       "  <line x1=\"33\" y1=\"0\" x2=\"33\" y2=\"25\" />\n",
       "  <line x1=\"34\" y1=\"0\" x2=\"34\" y2=\"25\" />\n",
       "  <line x1=\"35\" y1=\"0\" x2=\"35\" y2=\"25\" style=\"stroke-width:2\" />\n",
       "\n",
       "  <!-- Colored Rectangle -->\n",
       "  <polygon points=\"0.0,0.0 35.827511659269376,0.0 35.827511659269376,25.412616514582485 0.0,25.412616514582485\" style=\"fill:#8B4903A0;stroke-width:0\"/>\n",
       "\n",
       "  <!-- Text -->\n",
       "  <text x=\"17.913756\" y=\"45.412617\" font-size=\"1.0rem\" font-weight=\"100\" text-anchor=\"middle\" >376</text>\n",
       "  <text x=\"55.827512\" y=\"12.706308\" font-size=\"1.0rem\" font-weight=\"100\" text-anchor=\"middle\" transform=\"rotate(0,55.827512,12.706308)\">1</text>\n",
       "\n",
       "\n",
       "  <!-- Horizontal lines -->\n",
       "  <line x1=\"105\" y1=\"0\" x2=\"119\" y2=\"14\" style=\"stroke-width:2\" />\n",
       "  <line x1=\"105\" y1=\"40\" x2=\"119\" y2=\"54\" />\n",
       "  <line x1=\"105\" y1=\"80\" x2=\"119\" y2=\"94\" />\n",
       "  <line x1=\"105\" y1=\"120\" x2=\"119\" y2=\"134\" style=\"stroke-width:2\" />\n",
       "\n",
       "  <!-- Vertical lines -->\n",
       "  <line x1=\"105\" y1=\"0\" x2=\"105\" y2=\"120\" style=\"stroke-width:2\" />\n",
       "  <line x1=\"112\" y1=\"7\" x2=\"112\" y2=\"127\" />\n",
       "  <line x1=\"119\" y1=\"14\" x2=\"119\" y2=\"134\" style=\"stroke-width:2\" />\n",
       "\n",
       "  <!-- Colored Rectangle -->\n",
       "  <polygon points=\"105.0,0.0 119.9485979497544,14.948597949754403 119.9485979497544,134.9485979497544 105.0,120.0\" style=\"fill:#ECB172A0;stroke-width:0\"/>\n",
       "\n",
       "  <!-- Horizontal lines -->\n",
       "  <line x1=\"105\" y1=\"0\" x2=\"225\" y2=\"0\" style=\"stroke-width:2\" />\n",
       "  <line x1=\"112\" y1=\"7\" x2=\"232\" y2=\"7\" />\n",
       "  <line x1=\"119\" y1=\"14\" x2=\"239\" y2=\"14\" style=\"stroke-width:2\" />\n",
       "\n",
       "  <!-- Vertical lines -->\n",
       "  <line x1=\"105\" y1=\"0\" x2=\"119\" y2=\"14\" style=\"stroke-width:2\" />\n",
       "  <line x1=\"145\" y1=\"0\" x2=\"159\" y2=\"14\" />\n",
       "  <line x1=\"185\" y1=\"0\" x2=\"199\" y2=\"14\" />\n",
       "  <line x1=\"225\" y1=\"0\" x2=\"239\" y2=\"14\" style=\"stroke-width:2\" />\n",
       "\n",
       "  <!-- Colored Rectangle -->\n",
       "  <polygon points=\"105.0,0.0 225.0,0.0 239.9485979497544,14.948597949754403 119.9485979497544,14.948597949754403\" style=\"fill:#ECB172A0;stroke-width:0\"/>\n",
       "\n",
       "  <!-- Horizontal lines -->\n",
       "  <line x1=\"119\" y1=\"14\" x2=\"239\" y2=\"14\" style=\"stroke-width:2\" />\n",
       "  <line x1=\"119\" y1=\"54\" x2=\"239\" y2=\"54\" />\n",
       "  <line x1=\"119\" y1=\"94\" x2=\"239\" y2=\"94\" />\n",
       "  <line x1=\"119\" y1=\"134\" x2=\"239\" y2=\"134\" style=\"stroke-width:2\" />\n",
       "\n",
       "  <!-- Vertical lines -->\n",
       "  <line x1=\"119\" y1=\"14\" x2=\"119\" y2=\"134\" style=\"stroke-width:2\" />\n",
       "  <line x1=\"159\" y1=\"14\" x2=\"159\" y2=\"134\" />\n",
       "  <line x1=\"199\" y1=\"14\" x2=\"199\" y2=\"134\" />\n",
       "  <line x1=\"239\" y1=\"14\" x2=\"239\" y2=\"134\" style=\"stroke-width:2\" />\n",
       "\n",
       "  <!-- Colored Rectangle -->\n",
       "  <polygon points=\"119.9485979497544,14.948597949754403 239.9485979497544,14.948597949754403 239.9485979497544,134.9485979497544 119.9485979497544,134.9485979497544\" style=\"fill:#ECB172A0;stroke-width:0\"/>\n",
       "\n",
       "  <!-- Text -->\n",
       "  <text x=\"179.948598\" y=\"154.948598\" font-size=\"1.0rem\" font-weight=\"100\" text-anchor=\"middle\" >6048</text>\n",
       "  <text x=\"259.948598\" y=\"74.948598\" font-size=\"1.0rem\" font-weight=\"100\" text-anchor=\"middle\" transform=\"rotate(-90,259.948598,74.948598)\">6048</text>\n",
       "  <text x=\"102.474299\" y=\"147.474299\" font-size=\"1.0rem\" font-weight=\"100\" text-anchor=\"middle\" transform=\"rotate(45,102.474299,147.474299)\">2</text>\n",
       "</svg>\n",
       "        </td>\n",
       "    </tr>\n",
       "</table>"
      ],
      "text/plain": [
       "dask.array<stack, shape=(376, 2, 6048, 6048), dtype=uint16, chunksize=(1, 1, 2016, 2016), chunktype=numpy.ndarray>"
      ]
     },
     "execution_count": 9,
     "metadata": {},
     "output_type": "execute_result"
    }
   ],
   "source": [
    "images"
   ]
  },
  {
   "cell_type": "markdown",
   "id": "52971987",
   "metadata": {},
   "source": [
    "# Launch napari image viewer"
   ]
  },
  {
   "cell_type": "code",
   "execution_count": 10,
   "id": "6818a45d",
   "metadata": {},
   "outputs": [
    {
     "name": "stdout",
     "output_type": "stream",
     "text": [
      "CPU times: user 9 µs, sys: 2 µs, total: 11 µs\n",
      "Wall time: 21.5 µs\n"
     ]
    },
    {
     "data": {
      "text/plain": [
       "[<Image layer 'Image' at 0x7f86c1c43d00>,\n",
       " <Image layer 'Image [1]' at 0x7f86c1c493a0>]"
      ]
     },
     "execution_count": 10,
     "metadata": {},
     "output_type": "execute_result"
    }
   ],
   "source": [
    "%time\n",
    "viewer = napari.Viewer(title = 'copy2 animating over whole t slowly')\n",
    "\n",
    "# viewer.add_image(images, \n",
    "#                  channel_axis=1,\n",
    "#                  name=[\"macrophage\", \"mtb\"],\n",
    "#                  colormap=[\"green\",  \"magenta\"],\n",
    "# #                  contrast_limits=[[100, 6000], [100, 2000]],\n",
    "#                  contrast_limits=[[0,450], [0,450]], \n",
    "#                  visible = True\n",
    "#                  )\n",
    "viewer.add_image(images, \n",
    "                 channel_axis=1,\n",
    "#                  name=[\"macrophage\", \"mtb\"],\n",
    "                 colormap=[\"green\",  \"magenta\"],\n",
    "# #                  contrast_limits=[[100, 6000], [100, 2000]],\n",
    "                 contrast_limits=[[0,6876], [0,5000]], \n",
    "                 visible = True\n",
    "                 )\n",
    "# viewer.add_labels(segmentation, \n",
    "# #                   num_colors= 1,\n",
    "#                   #scale=(10, 1, 1,), \n",
    "#                   #color='yellow'\n",
    "#                   name = 'segmentation'\n",
    "#                  )\n",
    "# viewer.add_labels(col_segmentation, \n",
    "#                   name = 'recolored segmentation'\n",
    "#                   #scale=(10, 1, 1,), \n",
    "#                   #color='yellow'\n",
    "#                  )\n",
    "# viewer.add_tracks(napari_tracks, scale = (1,5.04,5.04)\n",
    "# #                     properties=properties, \n",
    "# #                     graph=graph, \n",
    "# #                     name=\"Properly downscaled tracks\", \n",
    "# #                     blending=\"translucent\",\n",
    "# #                     visible=True,\n",
    "# # #                     scale = (100,1,1)\n",
    "#                  )\n",
    "# viewer.add_tracks(napari_tracks, scale = (1,5.04,5.04),\n",
    "# #                     properties=properties, \n",
    "# #                     graph=graph, \n",
    "# #                     name=\"Properly downscaled tracks\", \n",
    "# #                     blending=\"translucent\",\n",
    "# #                     visible=True,\n",
    "# # #                     scale = (100,1,1)\n",
    "#                  )"
   ]
  },
  {
   "cell_type": "markdown",
   "id": "7bd36a14-8d5b-4bbe-8263-02ada276c44e",
   "metadata": {},
   "source": [
    "## Animate"
   ]
  },
  {
   "cell_type": "code",
   "execution_count": 11,
   "id": "abdca8f2-bdcb-4437-b516-e1e370823202",
   "metadata": {},
   "outputs": [],
   "source": [
    "output_dir = '/run/user/30046150/gvfs/smb-share:server=data2.thecrick.org,share=lab-gutierrezm/home/users/dayn/macrohet_nemo/videos/NDX'"
   ]
  },
  {
   "cell_type": "code",
   "execution_count": 12,
   "id": "3dce626f-8244-4a0b-9cc2-1d025f1cebf6",
   "metadata": {},
   "outputs": [],
   "source": [
    "from napari_animation import Animation"
   ]
  },
  {
   "cell_type": "code",
   "execution_count": 14,
   "id": "463ff311-b405-47b8-998e-dc0622c21e6f",
   "metadata": {},
   "outputs": [],
   "source": [
    "animation = Animation(viewer)"
   ]
  },
  {
   "cell_type": "code",
   "execution_count": 15,
   "id": "9c8eeba4-3dd0-4fec-b8b7-8208f73454d8",
   "metadata": {},
   "outputs": [
    {
     "name": "stdout",
     "output_type": "stream",
     "text": [
      "Rendering frames...\n"
     ]
    },
    {
     "name": "stderr",
     "output_type": "stream",
     "text": [
      "  0%|                                                               | 0/376 [00:00<?, ?it/s]IMAGEIO FFMPEG_WRITER WARNING: input image is not divisible by macro_block_size=16, resizing from (1506, 1057) to (1520, 1072) to ensure video compatibility with most codecs and players. To prevent resizing, make your input image divisible by the macro_block_size or set the macro_block_size to 1 (risking incompatibility).\n",
      "  0%|▏                                                      | 1/376 [00:02<15:17,  2.45s/it][swscaler @ 0x65e54c0] Warning: data is not aligned! This can lead to a speed loss\n",
      "  2%|█                                                  | 8/376 [30:40<23:30:54, 230.04s/it]\n"
     ]
    },
    {
     "ename": "Exception",
     "evalue": "[Errno 5] Input/output error \n Could not load file: /run/user/30046150/gvfs/smb-share:server=data2.thecrick.org,share=lab-gutierrezm/home/users/dayn/macrohet_nemo/macrohet_images/NDXXXX_optimisation/ND0000__2023-08-04T15_27_41-Measurement 1/Images/r03c10f01p02-ch3sk9fk1fl1.tiff",
     "output_type": "error",
     "traceback": [
      "\u001b[0;31m---------------------------------------------------------------------------\u001b[0m",
      "\u001b[0;31mOSError\u001b[0m                                   Traceback (most recent call last)",
      "\u001b[0;32m~/analysis/macrohet/macrohet/tile.py\u001b[0m in \u001b[0;36m?\u001b[0;34m(file, transforms)\u001b[0m\n\u001b[1;32m    506\u001b[0m         \u001b[0mimg\u001b[0m \u001b[0;34m=\u001b[0m \u001b[0mimread\u001b[0m\u001b[0;34m(\u001b[0m\u001b[0mfile\u001b[0m\u001b[0;34m)\u001b[0m\u001b[0;34m\u001b[0m\u001b[0;34m\u001b[0m\u001b[0m\n\u001b[1;32m    507\u001b[0m     \u001b[0;32mexcept\u001b[0m \u001b[0mException\u001b[0m \u001b[0;32mas\u001b[0m \u001b[0me\u001b[0m\u001b[0;34m:\u001b[0m\u001b[0;34m\u001b[0m\u001b[0;34m\u001b[0m\u001b[0m\n\u001b[0;32m--> 508\u001b[0;31m         \u001b[0;32mraise\u001b[0m \u001b[0mException\u001b[0m\u001b[0;34m(\u001b[0m\u001b[0;34mf'{e} \\n Could not load file: {file}'\u001b[0m\u001b[0;34m)\u001b[0m\u001b[0;34m\u001b[0m\u001b[0;34m\u001b[0m\u001b[0m\n\u001b[0m\u001b[1;32m    509\u001b[0m     \u001b[0;31m# TO-DO remove this hacky fix\u001b[0m\u001b[0;34m\u001b[0m\u001b[0;34m\u001b[0m\u001b[0m\n",
      "\u001b[0;32m~/miniconda3/envs/brassica/lib/python3.9/site-packages/skimage/io/_io.py\u001b[0m in \u001b[0;36m?\u001b[0;34m(fname, as_gray, plugin, **plugin_args)\u001b[0m\n\u001b[1;32m     51\u001b[0m \u001b[0;34m\u001b[0m\u001b[0m\n\u001b[1;32m     52\u001b[0m     \u001b[0;32mwith\u001b[0m \u001b[0mfile_or_url_context\u001b[0m\u001b[0;34m(\u001b[0m\u001b[0mfname\u001b[0m\u001b[0;34m)\u001b[0m \u001b[0;32mas\u001b[0m \u001b[0mfname\u001b[0m\u001b[0;34m:\u001b[0m\u001b[0;34m\u001b[0m\u001b[0;34m\u001b[0m\u001b[0m\n\u001b[0;32m---> 53\u001b[0;31m         \u001b[0mimg\u001b[0m \u001b[0;34m=\u001b[0m \u001b[0mcall_plugin\u001b[0m\u001b[0;34m(\u001b[0m\u001b[0;34m'imread'\u001b[0m\u001b[0;34m,\u001b[0m \u001b[0mfname\u001b[0m\u001b[0;34m,\u001b[0m \u001b[0mplugin\u001b[0m\u001b[0;34m=\u001b[0m\u001b[0mplugin\u001b[0m\u001b[0;34m,\u001b[0m \u001b[0;34m**\u001b[0m\u001b[0mplugin_args\u001b[0m\u001b[0;34m)\u001b[0m\u001b[0;34m\u001b[0m\u001b[0;34m\u001b[0m\u001b[0m\n\u001b[0m\u001b[1;32m     54\u001b[0m \u001b[0;34m\u001b[0m\u001b[0m\n",
      "\u001b[0;32m~/miniconda3/envs/brassica/lib/python3.9/site-packages/skimage/io/manage_plugins.py\u001b[0m in \u001b[0;36m?\u001b[0;34m(kind, *args, **kwargs)\u001b[0m\n\u001b[1;32m    205\u001b[0m                                (plugin, kind))\n\u001b[1;32m    206\u001b[0m \u001b[0;34m\u001b[0m\u001b[0m\n\u001b[0;32m--> 207\u001b[0;31m     \u001b[0;32mreturn\u001b[0m \u001b[0mfunc\u001b[0m\u001b[0;34m(\u001b[0m\u001b[0;34m*\u001b[0m\u001b[0margs\u001b[0m\u001b[0;34m,\u001b[0m \u001b[0;34m**\u001b[0m\u001b[0mkwargs\u001b[0m\u001b[0;34m)\u001b[0m\u001b[0;34m\u001b[0m\u001b[0;34m\u001b[0m\u001b[0m\n\u001b[0m",
      "\u001b[0;32m~/miniconda3/envs/brassica/lib/python3.9/site-packages/skimage/io/_plugins/tifffile_plugin.py\u001b[0m in \u001b[0;36m?\u001b[0;34m(fname, **kwargs)\u001b[0m\n\u001b[1;32m     28\u001b[0m         \u001b[0mkwargs\u001b[0m\u001b[0;34m[\u001b[0m\u001b[0;34m'key'\u001b[0m\u001b[0;34m]\u001b[0m \u001b[0;34m=\u001b[0m \u001b[0mkwargs\u001b[0m\u001b[0;34m.\u001b[0m\u001b[0mpop\u001b[0m\u001b[0;34m(\u001b[0m\u001b[0;34m'img_num'\u001b[0m\u001b[0;34m)\u001b[0m\u001b[0;34m\u001b[0m\u001b[0;34m\u001b[0m\u001b[0m\n\u001b[1;32m     29\u001b[0m \u001b[0;34m\u001b[0m\u001b[0m\n\u001b[0;32m---> 30\u001b[0;31m     \u001b[0;32mreturn\u001b[0m \u001b[0mtifffile_imread\u001b[0m\u001b[0;34m(\u001b[0m\u001b[0mfname\u001b[0m\u001b[0;34m,\u001b[0m \u001b[0;34m**\u001b[0m\u001b[0mkwargs\u001b[0m\u001b[0;34m)\u001b[0m\u001b[0;34m\u001b[0m\u001b[0;34m\u001b[0m\u001b[0m\n\u001b[0m",
      "\u001b[0;32m~/miniconda3/envs/brassica/lib/python3.9/site-packages/tifffile/tifffile.py\u001b[0m in \u001b[0;36m?\u001b[0;34m(files, aszarr, **kwargs)\u001b[0m\n\u001b[1;32m    782\u001b[0m                 \u001b[0;32mif\u001b[0m \u001b[0maszarr\u001b[0m\u001b[0;34m:\u001b[0m\u001b[0;34m\u001b[0m\u001b[0;34m\u001b[0m\u001b[0m\n\u001b[1;32m    783\u001b[0m                     \u001b[0;32mreturn\u001b[0m \u001b[0mtif\u001b[0m\u001b[0;34m.\u001b[0m\u001b[0maszarr\u001b[0m\u001b[0;34m(\u001b[0m\u001b[0;34m**\u001b[0m\u001b[0mkwargs\u001b[0m\u001b[0;34m)\u001b[0m\u001b[0;34m\u001b[0m\u001b[0;34m\u001b[0m\u001b[0m\n\u001b[0;32m--> 784\u001b[0;31m                 \u001b[0;32mreturn\u001b[0m \u001b[0mtif\u001b[0m\u001b[0;34m.\u001b[0m\u001b[0masarray\u001b[0m\u001b[0;34m(\u001b[0m\u001b[0;34m**\u001b[0m\u001b[0mkwargs\u001b[0m\u001b[0;34m)\u001b[0m\u001b[0;34m\u001b[0m\u001b[0;34m\u001b[0m\u001b[0m\n\u001b[0m\u001b[1;32m    785\u001b[0m \u001b[0;34m\u001b[0m\u001b[0m\n",
      "\u001b[0;32m~/miniconda3/envs/brassica/lib/python3.9/site-packages/tifffile/tifffile.py\u001b[0m in \u001b[0;36m?\u001b[0;34m(self, key, series, level, squeeze, out, maxworkers)\u001b[0m\n\u001b[1;32m   3117\u001b[0m                 )\n\u001b[1;32m   3118\u001b[0m         \u001b[0;32melif\u001b[0m \u001b[0mlen\u001b[0m\u001b[0;34m(\u001b[0m\u001b[0mpages\u001b[0m\u001b[0;34m)\u001b[0m \u001b[0;34m==\u001b[0m \u001b[0;36m1\u001b[0m\u001b[0;34m:\u001b[0m\u001b[0;34m\u001b[0m\u001b[0;34m\u001b[0m\u001b[0m\n\u001b[0;32m-> 3119\u001b[0;31m             \u001b[0mresult\u001b[0m \u001b[0;34m=\u001b[0m \u001b[0mpages\u001b[0m\u001b[0;34m[\u001b[0m\u001b[0;36m0\u001b[0m\u001b[0;34m]\u001b[0m\u001b[0;34m.\u001b[0m\u001b[0masarray\u001b[0m\u001b[0;34m(\u001b[0m\u001b[0mout\u001b[0m\u001b[0;34m=\u001b[0m\u001b[0mout\u001b[0m\u001b[0;34m,\u001b[0m \u001b[0mmaxworkers\u001b[0m\u001b[0;34m=\u001b[0m\u001b[0mmaxworkers\u001b[0m\u001b[0;34m)\u001b[0m\u001b[0;34m\u001b[0m\u001b[0;34m\u001b[0m\u001b[0m\n\u001b[0m\u001b[1;32m   3120\u001b[0m         \u001b[0;32melse\u001b[0m\u001b[0;34m:\u001b[0m\u001b[0;34m\u001b[0m\u001b[0;34m\u001b[0m\u001b[0m\n",
      "\u001b[0;32m~/miniconda3/envs/brassica/lib/python3.9/site-packages/tifffile/tifffile.py\u001b[0m in \u001b[0;36m?\u001b[0;34m(self, out, squeeze, lock, maxworkers)\u001b[0m\n\u001b[1;32m   6315\u001b[0m                 \u001b[0;31m#     pass  # corrupted files e.g. with too many strips\u001b[0m\u001b[0;34m\u001b[0m\u001b[0;34m\u001b[0m\u001b[0m\n\u001b[1;32m   6316\u001b[0m \u001b[0;34m\u001b[0m\u001b[0m\n\u001b[0;32m-> 6317\u001b[0;31m             for _ in self.segments(\n\u001b[0m\u001b[1;32m   6318\u001b[0m                 \u001b[0mfunc\u001b[0m\u001b[0;34m=\u001b[0m\u001b[0mfunc\u001b[0m\u001b[0;34m,\u001b[0m\u001b[0;34m\u001b[0m\u001b[0;34m\u001b[0m\u001b[0m\n",
      "\u001b[0;32m~/miniconda3/envs/brassica/lib/python3.9/site-packages/tifffile/tifffile.py\u001b[0m in \u001b[0;36m?\u001b[0;34m(self, lock, maxworkers, func, sort, _fullsize)\u001b[0m\n\u001b[1;32m   6161\u001b[0m             \u001b[0mmaxworkers\u001b[0m \u001b[0;34m=\u001b[0m \u001b[0mkeyframe\u001b[0m\u001b[0;34m.\u001b[0m\u001b[0mmaxworkers\u001b[0m\u001b[0;34m\u001b[0m\u001b[0;34m\u001b[0m\u001b[0m\n\u001b[1;32m   6162\u001b[0m         \u001b[0;32mif\u001b[0m \u001b[0mmaxworkers\u001b[0m \u001b[0;34m<\u001b[0m \u001b[0;36m2\u001b[0m\u001b[0;34m:\u001b[0m\u001b[0;34m\u001b[0m\u001b[0;34m\u001b[0m\u001b[0m\n\u001b[0;32m-> 6163\u001b[0;31m             for segment in fh.read_segments(\n\u001b[0m\u001b[1;32m   6164\u001b[0m                 \u001b[0mself\u001b[0m\u001b[0;34m.\u001b[0m\u001b[0mdataoffsets\u001b[0m\u001b[0;34m,\u001b[0m\u001b[0;34m\u001b[0m\u001b[0;34m\u001b[0m\u001b[0m\n",
      "\u001b[0;32m~/miniconda3/envs/brassica/lib/python3.9/site-packages/tifffile/tifffile.py\u001b[0m in \u001b[0;36m?\u001b[0;34m(self, offsets, bytecounts, indices, sort, lock, buffersize, flat)\u001b[0m\n\u001b[1;32m   9462\u001b[0m                 \u001b[0;32mwith\u001b[0m \u001b[0mlock\u001b[0m\u001b[0;34m:\u001b[0m\u001b[0;34m\u001b[0m\u001b[0;34m\u001b[0m\u001b[0m\n\u001b[1;32m   9463\u001b[0m                     \u001b[0mself\u001b[0m\u001b[0;34m.\u001b[0m\u001b[0mseek\u001b[0m\u001b[0;34m(\u001b[0m\u001b[0moffsets\u001b[0m\u001b[0;34m[\u001b[0m\u001b[0mindex\u001b[0m\u001b[0;34m]\u001b[0m\u001b[0;34m)\u001b[0m\u001b[0;34m\u001b[0m\u001b[0;34m\u001b[0m\u001b[0m\n\u001b[0;32m-> 9464\u001b[0;31m                     \u001b[0mdata\u001b[0m \u001b[0;34m=\u001b[0m \u001b[0mself\u001b[0m\u001b[0;34m.\u001b[0m\u001b[0m_fh\u001b[0m\u001b[0;34m.\u001b[0m\u001b[0mread\u001b[0m\u001b[0;34m(\u001b[0m\u001b[0mbytecounts\u001b[0m\u001b[0;34m[\u001b[0m\u001b[0mindex\u001b[0m\u001b[0;34m]\u001b[0m\u001b[0;34m)\u001b[0m\u001b[0;34m\u001b[0m\u001b[0;34m\u001b[0m\u001b[0m\n\u001b[0m\u001b[1;32m   9465\u001b[0m             \u001b[0;32melse\u001b[0m\u001b[0;34m:\u001b[0m\u001b[0;34m\u001b[0m\u001b[0;34m\u001b[0m\u001b[0m\n",
      "\u001b[0;31mOSError\u001b[0m: [Errno 5] Input/output error",
      "\nDuring handling of the above exception, another exception occurred:\n",
      "\u001b[0;31mException\u001b[0m                                 Traceback (most recent call last)",
      "Cell \u001b[0;32mIn[15], line 6\u001b[0m\n\u001b[1;32m      4\u001b[0m viewer\u001b[38;5;241m.\u001b[39mdims\u001b[38;5;241m.\u001b[39mcurrent_step \u001b[38;5;241m=\u001b[39m (\u001b[38;5;241m375\u001b[39m, \u001b[38;5;241m3023\u001b[39m, \u001b[38;5;241m3023\u001b[39m)\n\u001b[1;32m      5\u001b[0m animation\u001b[38;5;241m.\u001b[39mcapture_keyframe(steps \u001b[38;5;241m=\u001b[39m \u001b[38;5;241m375\u001b[39m)\n\u001b[0;32m----> 6\u001b[0m \u001b[43manimation\u001b[49m\u001b[38;5;241;43m.\u001b[39;49m\u001b[43manimate\u001b[49m\u001b[43m(\u001b[49m\u001b[43mos\u001b[49m\u001b[38;5;241;43m.\u001b[39;49m\u001b[43mpath\u001b[49m\u001b[38;5;241;43m.\u001b[39;49m\u001b[43mjoin\u001b[49m\u001b[43m(\u001b[49m\u001b[43moutput_dir\u001b[49m\u001b[43m,\u001b[49m\u001b[43m \u001b[49m\u001b[38;5;124;43m'\u001b[39;49m\u001b[38;5;124;43mtest_fullstack_slow.mp4\u001b[39;49m\u001b[38;5;124;43m'\u001b[39;49m\u001b[43m)\u001b[49m\u001b[43m,\u001b[49m\u001b[43m \u001b[49m\u001b[43mcanvas_only\u001b[49m\u001b[38;5;241;43m=\u001b[39;49m\u001b[38;5;28;43;01mTrue\u001b[39;49;00m\u001b[43m,\u001b[49m\u001b[43m \u001b[49m\u001b[43mfps\u001b[49m\u001b[43m \u001b[49m\u001b[38;5;241;43m=\u001b[39;49m\u001b[43m \u001b[49m\u001b[38;5;241;43m7\u001b[39;49m\u001b[43m,\u001b[49m\u001b[43m \u001b[49m\u001b[43mquality\u001b[49m\u001b[43m \u001b[49m\u001b[38;5;241;43m=\u001b[39;49m\u001b[43m \u001b[49m\u001b[38;5;241;43m9\u001b[39;49m\u001b[43m)\u001b[49m\n",
      "File \u001b[0;32m~/miniconda3/envs/brassica/lib/python3.9/site-packages/napari_animation/animation.py:225\u001b[0m, in \u001b[0;36mAnimation.animate\u001b[0;34m(self, filename, fps, quality, format, canvas_only, scale_factor)\u001b[0m\n\u001b[1;32m    223\u001b[0m sleep(\u001b[38;5;241m0.05\u001b[39m)\n\u001b[1;32m    224\u001b[0m \u001b[38;5;28;01mwith\u001b[39;00m tqdm(total\u001b[38;5;241m=\u001b[39mn_frames) \u001b[38;5;28;01mas\u001b[39;00m pbar:\n\u001b[0;32m--> 225\u001b[0m     \u001b[38;5;28;01mfor\u001b[39;00m frame_index, image \u001b[38;5;129;01min\u001b[39;00m \u001b[38;5;28menumerate\u001b[39m(frame_generator):\n\u001b[1;32m    226\u001b[0m         \u001b[38;5;28;01mif\u001b[39;00m save_as_folder \u001b[38;5;129;01mis\u001b[39;00m \u001b[38;5;28;01mTrue\u001b[39;00m:\n\u001b[1;32m    227\u001b[0m             frame_filename \u001b[38;5;241m=\u001b[39m (\n\u001b[1;32m    228\u001b[0m                 folder_path \u001b[38;5;241m/\u001b[39m \u001b[38;5;124mf\u001b[39m\u001b[38;5;124m\"\u001b[39m\u001b[38;5;132;01m{\u001b[39;00mfile_path\u001b[38;5;241m.\u001b[39mstem\u001b[38;5;132;01m}\u001b[39;00m\u001b[38;5;124m_\u001b[39m\u001b[38;5;132;01m{\u001b[39;00mframe_index\u001b[38;5;132;01m:\u001b[39;00m\u001b[38;5;124m06d\u001b[39m\u001b[38;5;132;01m}\u001b[39;00m\u001b[38;5;124m.png\u001b[39m\u001b[38;5;124m\"\u001b[39m\n\u001b[1;32m    229\u001b[0m             )\n",
      "File \u001b[0;32m~/miniconda3/envs/brassica/lib/python3.9/site-packages/napari_animation/frame_sequence.py:152\u001b[0m, in \u001b[0;36mFrameSequence.iter_frames\u001b[0;34m(self, viewer, canvas_only, scale_factor)\u001b[0m\n\u001b[1;32m    150\u001b[0m \u001b[38;5;250m\u001b[39m\u001b[38;5;124;03m\"\"\"Iterate over interpolated viewer states, and yield rendered frames.\"\"\"\u001b[39;00m\n\u001b[1;32m    151\u001b[0m \u001b[38;5;28;01mfor\u001b[39;00m i, state \u001b[38;5;129;01min\u001b[39;00m \u001b[38;5;28menumerate\u001b[39m(\u001b[38;5;28mself\u001b[39m):\n\u001b[0;32m--> 152\u001b[0m     frame \u001b[38;5;241m=\u001b[39m \u001b[43mstate\u001b[49m\u001b[38;5;241;43m.\u001b[39;49m\u001b[43mrender\u001b[49m\u001b[43m(\u001b[49m\u001b[43mviewer\u001b[49m\u001b[43m,\u001b[49m\u001b[43m \u001b[49m\u001b[43mcanvas_only\u001b[49m\u001b[38;5;241;43m=\u001b[39;49m\u001b[43mcanvas_only\u001b[49m\u001b[43m)\u001b[49m\n\u001b[1;32m    153\u001b[0m     \u001b[38;5;28;01mif\u001b[39;00m scale_factor \u001b[38;5;129;01mnot\u001b[39;00m \u001b[38;5;129;01min\u001b[39;00m (\u001b[38;5;28;01mNone\u001b[39;00m, \u001b[38;5;241m1\u001b[39m):\n\u001b[1;32m    154\u001b[0m         \u001b[38;5;28;01mfrom\u001b[39;00m \u001b[38;5;21;01mscipy\u001b[39;00m \u001b[38;5;28;01mimport\u001b[39;00m ndimage \u001b[38;5;28;01mas\u001b[39;00m ndi\n",
      "File \u001b[0;32m~/miniconda3/envs/brassica/lib/python3.9/site-packages/napari_animation/viewer_state.py:79\u001b[0m, in \u001b[0;36mViewerState.render\u001b[0;34m(self, viewer, canvas_only)\u001b[0m\n\u001b[1;32m     61\u001b[0m \u001b[38;5;28;01mdef\u001b[39;00m \u001b[38;5;21mrender\u001b[39m(\n\u001b[1;32m     62\u001b[0m     \u001b[38;5;28mself\u001b[39m, viewer: napari\u001b[38;5;241m.\u001b[39mviewer\u001b[38;5;241m.\u001b[39mViewer, canvas_only: \u001b[38;5;28mbool\u001b[39m \u001b[38;5;241m=\u001b[39m \u001b[38;5;28;01mTrue\u001b[39;00m\n\u001b[1;32m     63\u001b[0m ) \u001b[38;5;241m-\u001b[39m\u001b[38;5;241m>\u001b[39m np\u001b[38;5;241m.\u001b[39mndarray:\n\u001b[1;32m     64\u001b[0m \u001b[38;5;250m    \u001b[39m\u001b[38;5;124;03m\"\"\"Render this ViewerState to an image.\u001b[39;00m\n\u001b[1;32m     65\u001b[0m \n\u001b[1;32m     66\u001b[0m \u001b[38;5;124;03m    Parameters\u001b[39;00m\n\u001b[0;32m   (...)\u001b[0m\n\u001b[1;32m     77\u001b[0m \u001b[38;5;124;03m        An RGBA image of shape (h, w, 4).\u001b[39;00m\n\u001b[1;32m     78\u001b[0m \u001b[38;5;124;03m    \"\"\"\u001b[39;00m\n\u001b[0;32m---> 79\u001b[0m     \u001b[38;5;28;43mself\u001b[39;49m\u001b[38;5;241;43m.\u001b[39;49m\u001b[43mapply\u001b[49m\u001b[43m(\u001b[49m\u001b[43mviewer\u001b[49m\u001b[43m)\u001b[49m\n\u001b[1;32m     80\u001b[0m     \u001b[38;5;28;01mreturn\u001b[39;00m viewer\u001b[38;5;241m.\u001b[39mscreenshot(canvas_only\u001b[38;5;241m=\u001b[39mcanvas_only, flash\u001b[38;5;241m=\u001b[39m\u001b[38;5;28;01mFalse\u001b[39;00m)\n",
      "File \u001b[0;32m~/miniconda3/envs/brassica/lib/python3.9/site-packages/napari_animation/viewer_state.py:50\u001b[0m, in \u001b[0;36mViewerState.apply\u001b[0;34m(self, viewer)\u001b[0m\n\u001b[1;32m     41\u001b[0m \u001b[38;5;250m\u001b[39m\u001b[38;5;124;03m\"\"\"Update `viewer` to match this ViewerState.\u001b[39;00m\n\u001b[1;32m     42\u001b[0m \n\u001b[1;32m     43\u001b[0m \u001b[38;5;124;03mParameters\u001b[39;00m\n\u001b[0;32m   (...)\u001b[0m\n\u001b[1;32m     46\u001b[0m \u001b[38;5;124;03m    A napari viewer. (viewer state will be directly modified)\u001b[39;00m\n\u001b[1;32m     47\u001b[0m \u001b[38;5;124;03m\"\"\"\u001b[39;00m\n\u001b[1;32m     49\u001b[0m viewer\u001b[38;5;241m.\u001b[39mcamera\u001b[38;5;241m.\u001b[39mupdate(\u001b[38;5;28mself\u001b[39m\u001b[38;5;241m.\u001b[39mcamera)\n\u001b[0;32m---> 50\u001b[0m \u001b[43mviewer\u001b[49m\u001b[38;5;241;43m.\u001b[39;49m\u001b[43mdims\u001b[49m\u001b[38;5;241;43m.\u001b[39;49m\u001b[43mupdate\u001b[49m\u001b[43m(\u001b[49m\u001b[38;5;28;43mself\u001b[39;49m\u001b[38;5;241;43m.\u001b[39;49m\u001b[43mdims\u001b[49m\u001b[43m)\u001b[49m\n\u001b[1;32m     52\u001b[0m \u001b[38;5;28;01mfor\u001b[39;00m layer_name, layer_state \u001b[38;5;129;01min\u001b[39;00m \u001b[38;5;28mself\u001b[39m\u001b[38;5;241m.\u001b[39mlayers\u001b[38;5;241m.\u001b[39mitems():\n\u001b[1;32m     53\u001b[0m     layer \u001b[38;5;241m=\u001b[39m viewer\u001b[38;5;241m.\u001b[39mlayers[layer_name]\n",
      "File \u001b[0;32m~/miniconda3/envs/brassica/lib/python3.9/site-packages/napari/utils/events/evented_model.py:406\u001b[0m, in \u001b[0;36mEventedModel.update\u001b[0;34m(self, values, recurse)\u001b[0m\n\u001b[1;32m    404\u001b[0m             field\u001b[38;5;241m.\u001b[39mupdate(value, recurse\u001b[38;5;241m=\u001b[39mrecurse)\n\u001b[1;32m    405\u001b[0m         \u001b[38;5;28;01melse\u001b[39;00m:\n\u001b[0;32m--> 406\u001b[0m             \u001b[38;5;28;43msetattr\u001b[39;49m\u001b[43m(\u001b[49m\u001b[38;5;28;43mself\u001b[39;49m\u001b[43m,\u001b[49m\u001b[43m \u001b[49m\u001b[43mkey\u001b[49m\u001b[43m,\u001b[49m\u001b[43m \u001b[49m\u001b[43mvalue\u001b[49m\u001b[43m)\u001b[49m\n\u001b[1;32m    408\u001b[0m \u001b[38;5;28;01mif\u001b[39;00m block\u001b[38;5;241m.\u001b[39mcount:\n\u001b[1;32m    409\u001b[0m     \u001b[38;5;28mself\u001b[39m\u001b[38;5;241m.\u001b[39mevents(Event(\u001b[38;5;28mself\u001b[39m))\n",
      "File \u001b[0;32m~/miniconda3/envs/brassica/lib/python3.9/site-packages/napari/utils/events/evented_model.py:326\u001b[0m, in \u001b[0;36mEventedModel.__setattr__\u001b[0;34m(self, name, value)\u001b[0m\n\u001b[1;32m    323\u001b[0m \u001b[38;5;28;01mif\u001b[39;00m are_equal(after, before):\n\u001b[1;32m    324\u001b[0m     \u001b[38;5;66;03m# no change\u001b[39;00m\n\u001b[1;32m    325\u001b[0m     \u001b[38;5;28;01mreturn\u001b[39;00m\n\u001b[0;32m--> 326\u001b[0m \u001b[43memitter\u001b[49m\u001b[43m(\u001b[49m\u001b[43mvalue\u001b[49m\u001b[38;5;241;43m=\u001b[39;49m\u001b[43mafter\u001b[49m\u001b[43m)\u001b[49m  \u001b[38;5;66;03m# emit event\u001b[39;00m\n\u001b[1;32m    328\u001b[0m \u001b[38;5;66;03m# emit events for any dependent computed properties as well\u001b[39;00m\n\u001b[1;32m    329\u001b[0m \u001b[38;5;28;01mfor\u001b[39;00m dep, value_ \u001b[38;5;129;01min\u001b[39;00m before_deps\u001b[38;5;241m.\u001b[39mitems():\n",
      "File \u001b[0;32m~/miniconda3/envs/brassica/lib/python3.9/site-packages/napari/utils/events/event.py:768\u001b[0m, in \u001b[0;36mEventEmitter.__call__\u001b[0;34m(self, *args, **kwargs)\u001b[0m\n\u001b[1;32m    765\u001b[0m     \u001b[38;5;28mself\u001b[39m\u001b[38;5;241m.\u001b[39m_block_counter\u001b[38;5;241m.\u001b[39mupdate([cb])\n\u001b[1;32m    766\u001b[0m     \u001b[38;5;28;01mcontinue\u001b[39;00m\n\u001b[0;32m--> 768\u001b[0m \u001b[38;5;28;43mself\u001b[39;49m\u001b[38;5;241;43m.\u001b[39;49m\u001b[43m_invoke_callback\u001b[49m\u001b[43m(\u001b[49m\u001b[43mcb\u001b[49m\u001b[43m,\u001b[49m\u001b[43m \u001b[49m\u001b[43mevent\u001b[49m\u001b[43m \u001b[49m\u001b[38;5;28;43;01mif\u001b[39;49;00m\u001b[43m \u001b[49m\u001b[43mpass_event\u001b[49m\u001b[43m \u001b[49m\u001b[38;5;28;43;01melse\u001b[39;49;00m\u001b[43m \u001b[49m\u001b[38;5;28;43;01mNone\u001b[39;49;00m\u001b[43m)\u001b[49m\n\u001b[1;32m    769\u001b[0m \u001b[38;5;28;01mif\u001b[39;00m event\u001b[38;5;241m.\u001b[39mblocked:\n\u001b[1;32m    770\u001b[0m     \u001b[38;5;28;01mbreak\u001b[39;00m\n",
      "File \u001b[0;32m~/miniconda3/envs/brassica/lib/python3.9/site-packages/napari/utils/events/event.py:806\u001b[0m, in \u001b[0;36mEventEmitter._invoke_callback\u001b[0;34m(self, cb, event)\u001b[0m\n\u001b[1;32m    804\u001b[0m     \u001b[38;5;28mself\u001b[39m\u001b[38;5;241m.\u001b[39mdisconnect(cb)\n\u001b[1;32m    805\u001b[0m     \u001b[38;5;28;01mreturn\u001b[39;00m\n\u001b[0;32m--> 806\u001b[0m \u001b[43m_handle_exception\u001b[49m\u001b[43m(\u001b[49m\n\u001b[1;32m    807\u001b[0m \u001b[43m    \u001b[49m\u001b[38;5;28;43mself\u001b[39;49m\u001b[38;5;241;43m.\u001b[39;49m\u001b[43mignore_callback_errors\u001b[49m\u001b[43m,\u001b[49m\n\u001b[1;32m    808\u001b[0m \u001b[43m    \u001b[49m\u001b[38;5;28;43mself\u001b[39;49m\u001b[38;5;241;43m.\u001b[39;49m\u001b[43mprint_callback_errors\u001b[49m\u001b[43m,\u001b[49m\n\u001b[1;32m    809\u001b[0m \u001b[43m    \u001b[49m\u001b[38;5;28;43mself\u001b[39;49m\u001b[43m,\u001b[49m\n\u001b[1;32m    810\u001b[0m \u001b[43m    \u001b[49m\u001b[43mcb_event\u001b[49m\u001b[38;5;241;43m=\u001b[39;49m\u001b[43m(\u001b[49m\u001b[43mcb\u001b[49m\u001b[43m,\u001b[49m\u001b[43m \u001b[49m\u001b[43mevent\u001b[49m\u001b[43m)\u001b[49m\u001b[43m,\u001b[49m\n\u001b[1;32m    811\u001b[0m \u001b[43m\u001b[49m\u001b[43m)\u001b[49m\n",
      "File \u001b[0;32m~/miniconda3/envs/brassica/lib/python3.9/site-packages/napari/utils/events/event.py:795\u001b[0m, in \u001b[0;36mEventEmitter._invoke_callback\u001b[0;34m(self, cb, event)\u001b[0m\n\u001b[1;32m    793\u001b[0m         cb(event)\n\u001b[1;32m    794\u001b[0m     \u001b[38;5;28;01melse\u001b[39;00m:\n\u001b[0;32m--> 795\u001b[0m         \u001b[43mcb\u001b[49m\u001b[43m(\u001b[49m\u001b[43m)\u001b[49m\n\u001b[1;32m    796\u001b[0m \u001b[38;5;28;01mexcept\u001b[39;00m \u001b[38;5;167;01mException\u001b[39;00m \u001b[38;5;28;01mas\u001b[39;00m e:  \u001b[38;5;66;03m# noqa: BLE001\u001b[39;00m\n\u001b[1;32m    797\u001b[0m     \u001b[38;5;66;03m# dead Qt object with living python pointer. not importing Qt\u001b[39;00m\n\u001b[1;32m    798\u001b[0m     \u001b[38;5;66;03m# here... but this error is consistent across backends\u001b[39;00m\n\u001b[1;32m    799\u001b[0m     \u001b[38;5;28;01mif\u001b[39;00m (\n\u001b[1;32m    800\u001b[0m         \u001b[38;5;28misinstance\u001b[39m(e, \u001b[38;5;167;01mRuntimeError\u001b[39;00m)\n\u001b[1;32m    801\u001b[0m         \u001b[38;5;129;01mand\u001b[39;00m \u001b[38;5;124m'\u001b[39m\u001b[38;5;124mC++\u001b[39m\u001b[38;5;124m'\u001b[39m \u001b[38;5;129;01min\u001b[39;00m \u001b[38;5;28mstr\u001b[39m(e)\n\u001b[1;32m    802\u001b[0m         \u001b[38;5;129;01mand\u001b[39;00m \u001b[38;5;28mstr\u001b[39m(e)\u001b[38;5;241m.\u001b[39mendswith((\u001b[38;5;124m'\u001b[39m\u001b[38;5;124mhas been deleted\u001b[39m\u001b[38;5;124m'\u001b[39m, \u001b[38;5;124m'\u001b[39m\u001b[38;5;124malready deleted.\u001b[39m\u001b[38;5;124m'\u001b[39m))\n\u001b[1;32m    803\u001b[0m     ):\n",
      "File \u001b[0;32m~/miniconda3/envs/brassica/lib/python3.9/site-packages/napari/components/viewer_model.py:393\u001b[0m, in \u001b[0;36mViewerModel._update_layers\u001b[0;34m(self, layers)\u001b[0m\n\u001b[1;32m    391\u001b[0m layers \u001b[38;5;241m=\u001b[39m layers \u001b[38;5;129;01mor\u001b[39;00m \u001b[38;5;28mself\u001b[39m\u001b[38;5;241m.\u001b[39mlayers\n\u001b[1;32m    392\u001b[0m \u001b[38;5;28;01mfor\u001b[39;00m layer \u001b[38;5;129;01min\u001b[39;00m layers:\n\u001b[0;32m--> 393\u001b[0m     \u001b[43mlayer\u001b[49m\u001b[38;5;241;43m.\u001b[39;49m\u001b[43m_slice_dims\u001b[49m\u001b[43m(\u001b[49m\n\u001b[1;32m    394\u001b[0m \u001b[43m        \u001b[49m\u001b[38;5;28;43mself\u001b[39;49m\u001b[38;5;241;43m.\u001b[39;49m\u001b[43mdims\u001b[49m\u001b[38;5;241;43m.\u001b[39;49m\u001b[43mpoint\u001b[49m\u001b[43m,\u001b[49m\u001b[43m \u001b[49m\u001b[38;5;28;43mself\u001b[39;49m\u001b[38;5;241;43m.\u001b[39;49m\u001b[43mdims\u001b[49m\u001b[38;5;241;43m.\u001b[39;49m\u001b[43mndisplay\u001b[49m\u001b[43m,\u001b[49m\u001b[43m \u001b[49m\u001b[38;5;28;43mself\u001b[39;49m\u001b[38;5;241;43m.\u001b[39;49m\u001b[43mdims\u001b[49m\u001b[38;5;241;43m.\u001b[39;49m\u001b[43morder\u001b[49m\n\u001b[1;32m    395\u001b[0m \u001b[43m    \u001b[49m\u001b[43m)\u001b[49m\n\u001b[1;32m    396\u001b[0m position \u001b[38;5;241m=\u001b[39m \u001b[38;5;28mlist\u001b[39m(\u001b[38;5;28mself\u001b[39m\u001b[38;5;241m.\u001b[39mcursor\u001b[38;5;241m.\u001b[39mposition)\n\u001b[1;32m    397\u001b[0m \u001b[38;5;28;01mfor\u001b[39;00m ind \u001b[38;5;129;01min\u001b[39;00m \u001b[38;5;28mself\u001b[39m\u001b[38;5;241m.\u001b[39mdims\u001b[38;5;241m.\u001b[39morder[: \u001b[38;5;241m-\u001b[39m\u001b[38;5;28mself\u001b[39m\u001b[38;5;241m.\u001b[39mdims\u001b[38;5;241m.\u001b[39mndisplay]:\n",
      "File \u001b[0;32m~/miniconda3/envs/brassica/lib/python3.9/site-packages/napari/layers/base/base.py:1076\u001b[0m, in \u001b[0;36mLayer._slice_dims\u001b[0;34m(self, point, ndisplay, order)\u001b[0m\n\u001b[1;32m   1073\u001b[0m \u001b[38;5;28mself\u001b[39m\u001b[38;5;241m.\u001b[39m_slice_input \u001b[38;5;241m=\u001b[39m slice_input\n\u001b[1;32m   1075\u001b[0m \u001b[38;5;66;03m# Update the point values\u001b[39;00m\n\u001b[0;32m-> 1076\u001b[0m \u001b[38;5;28;43mself\u001b[39;49m\u001b[38;5;241;43m.\u001b[39;49m\u001b[43mrefresh\u001b[49m\u001b[43m(\u001b[49m\u001b[43m)\u001b[49m\n\u001b[1;32m   1077\u001b[0m \u001b[38;5;28mself\u001b[39m\u001b[38;5;241m.\u001b[39m_reset_editable()\n",
      "File \u001b[0;32m~/miniconda3/envs/brassica/lib/python3.9/site-packages/napari/layers/base/base.py:1264\u001b[0m, in \u001b[0;36mLayer.refresh\u001b[0;34m(self, event)\u001b[0m\n\u001b[1;32m   1262\u001b[0m \u001b[38;5;250m\u001b[39m\u001b[38;5;124;03m\"\"\"Refresh all layer data based on current view slice.\"\"\"\u001b[39;00m\n\u001b[1;32m   1263\u001b[0m \u001b[38;5;28;01mif\u001b[39;00m \u001b[38;5;28mself\u001b[39m\u001b[38;5;241m.\u001b[39mvisible:\n\u001b[0;32m-> 1264\u001b[0m     \u001b[38;5;28;43mself\u001b[39;49m\u001b[38;5;241;43m.\u001b[39;49m\u001b[43mset_view_slice\u001b[49m\u001b[43m(\u001b[49m\u001b[43m)\u001b[49m\n\u001b[1;32m   1265\u001b[0m     \u001b[38;5;28mself\u001b[39m\u001b[38;5;241m.\u001b[39mevents\u001b[38;5;241m.\u001b[39mset_data()\n\u001b[1;32m   1266\u001b[0m     \u001b[38;5;28mself\u001b[39m\u001b[38;5;241m.\u001b[39m_update_thumbnail()\n",
      "File \u001b[0;32m~/miniconda3/envs/brassica/lib/python3.9/site-packages/napari/layers/base/base.py:1029\u001b[0m, in \u001b[0;36mLayer.set_view_slice\u001b[0;34m(self)\u001b[0m\n\u001b[1;32m   1027\u001b[0m \u001b[38;5;28;01mdef\u001b[39;00m \u001b[38;5;21mset_view_slice\u001b[39m(\u001b[38;5;28mself\u001b[39m):\n\u001b[1;32m   1028\u001b[0m     \u001b[38;5;28;01mwith\u001b[39;00m \u001b[38;5;28mself\u001b[39m\u001b[38;5;241m.\u001b[39mdask_optimized_slicing():\n\u001b[0;32m-> 1029\u001b[0m         \u001b[38;5;28;43mself\u001b[39;49m\u001b[38;5;241;43m.\u001b[39;49m\u001b[43m_set_view_slice\u001b[49m\u001b[43m(\u001b[49m\u001b[43m)\u001b[49m\n",
      "File \u001b[0;32m~/miniconda3/envs/brassica/lib/python3.9/site-packages/napari/layers/image/image.py:834\u001b[0m, in \u001b[0;36m_ImageBase._set_view_slice\u001b[0;34m(self)\u001b[0m\n\u001b[1;32m    830\u001b[0m \u001b[38;5;66;03m# Load our images, might be sync or async.\u001b[39;00m\n\u001b[1;32m    831\u001b[0m data \u001b[38;5;241m=\u001b[39m \u001b[38;5;28mself\u001b[39m\u001b[38;5;241m.\u001b[39m_SliceDataClass(\n\u001b[1;32m    832\u001b[0m     \u001b[38;5;28mself\u001b[39m, image_indices, image, thumbnail_source\n\u001b[1;32m    833\u001b[0m )\n\u001b[0;32m--> 834\u001b[0m \u001b[38;5;28;43mself\u001b[39;49m\u001b[38;5;241;43m.\u001b[39;49m\u001b[43m_load_slice\u001b[49m\u001b[43m(\u001b[49m\u001b[43mdata\u001b[49m\u001b[43m)\u001b[49m\n\u001b[1;32m    835\u001b[0m \u001b[38;5;28;01mif\u001b[39;00m \u001b[38;5;28mself\u001b[39m\u001b[38;5;241m.\u001b[39m_should_calc_clims:\n\u001b[1;32m    836\u001b[0m     \u001b[38;5;28mself\u001b[39m\u001b[38;5;241m.\u001b[39mreset_contrast_limits_range()\n",
      "File \u001b[0;32m~/miniconda3/envs/brassica/lib/python3.9/site-packages/napari/layers/image/image.py:860\u001b[0m, in \u001b[0;36m_ImageBase._load_slice\u001b[0;34m(self, data)\u001b[0m\n\u001b[1;32m    853\u001b[0m \u001b[38;5;28;01mdef\u001b[39;00m \u001b[38;5;21m_load_slice\u001b[39m(\u001b[38;5;28mself\u001b[39m, data: ImageSliceData):\n\u001b[1;32m    854\u001b[0m \u001b[38;5;250m    \u001b[39m\u001b[38;5;124;03m\"\"\"Load the image and maybe thumbnail source.\u001b[39;00m\n\u001b[1;32m    855\u001b[0m \n\u001b[1;32m    856\u001b[0m \u001b[38;5;124;03m    Parameters\u001b[39;00m\n\u001b[1;32m    857\u001b[0m \u001b[38;5;124;03m    ----------\u001b[39;00m\n\u001b[1;32m    858\u001b[0m \u001b[38;5;124;03m    data : Slice\u001b[39;00m\n\u001b[1;32m    859\u001b[0m \u001b[38;5;124;03m    \"\"\"\u001b[39;00m\n\u001b[0;32m--> 860\u001b[0m     \u001b[38;5;28;01mif\u001b[39;00m \u001b[38;5;28;43mself\u001b[39;49m\u001b[38;5;241;43m.\u001b[39;49m\u001b[43m_slice\u001b[49m\u001b[38;5;241;43m.\u001b[39;49m\u001b[43mload\u001b[49m\u001b[43m(\u001b[49m\u001b[43mdata\u001b[49m\u001b[43m)\u001b[49m:\n\u001b[1;32m    861\u001b[0m         \u001b[38;5;66;03m# The load was synchronous.\u001b[39;00m\n\u001b[1;32m    862\u001b[0m         \u001b[38;5;28mself\u001b[39m\u001b[38;5;241m.\u001b[39m_on_data_loaded(data, sync\u001b[38;5;241m=\u001b[39m\u001b[38;5;28;01mTrue\u001b[39;00m)\n\u001b[1;32m    863\u001b[0m     \u001b[38;5;28;01melse\u001b[39;00m:\n\u001b[1;32m    864\u001b[0m         \u001b[38;5;66;03m# The load will be asynchronous. Signal that our self.loaded\u001b[39;00m\n\u001b[1;32m    865\u001b[0m         \u001b[38;5;66;03m# property is now false, since the load is in progress.\u001b[39;00m\n",
      "File \u001b[0;32m~/miniconda3/envs/brassica/lib/python3.9/site-packages/napari/layers/image/_image_slice.py:125\u001b[0m, in \u001b[0;36mImageSlice.load\u001b[0;34m(self, data)\u001b[0m\n\u001b[1;32m    112\u001b[0m \u001b[38;5;250m\u001b[39m\u001b[38;5;124;03m\"\"\"Load this data into the slice.\u001b[39;00m\n\u001b[1;32m    113\u001b[0m \n\u001b[1;32m    114\u001b[0m \u001b[38;5;124;03mParameters\u001b[39;00m\n\u001b[0;32m   (...)\u001b[0m\n\u001b[1;32m    122\u001b[0m \u001b[38;5;124;03m    Return True if load was synchronous.\u001b[39;00m\n\u001b[1;32m    123\u001b[0m \u001b[38;5;124;03m\"\"\"\u001b[39;00m\n\u001b[1;32m    124\u001b[0m \u001b[38;5;28mself\u001b[39m\u001b[38;5;241m.\u001b[39mloaded \u001b[38;5;241m=\u001b[39m \u001b[38;5;28;01mFalse\u001b[39;00m  \u001b[38;5;66;03m# False until self._on_loaded is calls\u001b[39;00m\n\u001b[0;32m--> 125\u001b[0m \u001b[38;5;28;01mreturn\u001b[39;00m \u001b[38;5;28;43mself\u001b[39;49m\u001b[38;5;241;43m.\u001b[39;49m\u001b[43mloader\u001b[49m\u001b[38;5;241;43m.\u001b[39;49m\u001b[43mload\u001b[49m\u001b[43m(\u001b[49m\u001b[43mdata\u001b[49m\u001b[43m)\u001b[49m\n",
      "File \u001b[0;32m~/miniconda3/envs/brassica/lib/python3.9/site-packages/napari/layers/image/_image_loader.py:22\u001b[0m, in \u001b[0;36mImageLoader.load\u001b[0;34m(self, data)\u001b[0m\n\u001b[1;32m      9\u001b[0m \u001b[38;5;28;01mdef\u001b[39;00m \u001b[38;5;21mload\u001b[39m(\u001b[38;5;28mself\u001b[39m, data: ImageSliceData) \u001b[38;5;241m-\u001b[39m\u001b[38;5;241m>\u001b[39m \u001b[38;5;28mbool\u001b[39m:\n\u001b[1;32m     10\u001b[0m \u001b[38;5;250m    \u001b[39m\u001b[38;5;124;03m\"\"\"Load the ImageSliceData synchronously.\u001b[39;00m\n\u001b[1;32m     11\u001b[0m \n\u001b[1;32m     12\u001b[0m \u001b[38;5;124;03m    Parameters\u001b[39;00m\n\u001b[0;32m   (...)\u001b[0m\n\u001b[1;32m     20\u001b[0m \u001b[38;5;124;03m        True if load happened synchronously.\u001b[39;00m\n\u001b[1;32m     21\u001b[0m \u001b[38;5;124;03m    \"\"\"\u001b[39;00m\n\u001b[0;32m---> 22\u001b[0m     \u001b[43mdata\u001b[49m\u001b[38;5;241;43m.\u001b[39;49m\u001b[43mload_sync\u001b[49m\u001b[43m(\u001b[49m\u001b[43m)\u001b[49m\n\u001b[1;32m     23\u001b[0m     \u001b[38;5;28;01mreturn\u001b[39;00m \u001b[38;5;28;01mTrue\u001b[39;00m\n",
      "File \u001b[0;32m~/miniconda3/envs/brassica/lib/python3.9/site-packages/napari/layers/image/_image_slice_data.py:44\u001b[0m, in \u001b[0;36mImageSliceData.load_sync\u001b[0;34m(self)\u001b[0m\n\u001b[1;32m     42\u001b[0m \u001b[38;5;28;01mdef\u001b[39;00m \u001b[38;5;21mload_sync\u001b[39m(\u001b[38;5;28mself\u001b[39m) \u001b[38;5;241m-\u001b[39m\u001b[38;5;241m>\u001b[39m \u001b[38;5;28;01mNone\u001b[39;00m:\n\u001b[1;32m     43\u001b[0m \u001b[38;5;250m    \u001b[39m\u001b[38;5;124;03m\"\"\"Call asarray on our images to load them.\"\"\"\u001b[39;00m\n\u001b[0;32m---> 44\u001b[0m     \u001b[38;5;28mself\u001b[39m\u001b[38;5;241m.\u001b[39mimage \u001b[38;5;241m=\u001b[39m \u001b[43mnp\u001b[49m\u001b[38;5;241;43m.\u001b[39;49m\u001b[43masarray\u001b[49m\u001b[43m(\u001b[49m\u001b[38;5;28;43mself\u001b[39;49m\u001b[38;5;241;43m.\u001b[39;49m\u001b[43mimage\u001b[49m\u001b[43m)\u001b[49m\n\u001b[1;32m     46\u001b[0m     \u001b[38;5;28;01mif\u001b[39;00m \u001b[38;5;28mself\u001b[39m\u001b[38;5;241m.\u001b[39mthumbnail_source \u001b[38;5;129;01mis\u001b[39;00m \u001b[38;5;129;01mnot\u001b[39;00m \u001b[38;5;28;01mNone\u001b[39;00m:\n\u001b[1;32m     47\u001b[0m         \u001b[38;5;28mself\u001b[39m\u001b[38;5;241m.\u001b[39mthumbnail_source \u001b[38;5;241m=\u001b[39m np\u001b[38;5;241m.\u001b[39masarray(\u001b[38;5;28mself\u001b[39m\u001b[38;5;241m.\u001b[39mthumbnail_source)\n",
      "File \u001b[0;32m~/miniconda3/envs/brassica/lib/python3.9/site-packages/dask/threaded.py:89\u001b[0m, in \u001b[0;36mget\u001b[0;34m(dsk, keys, cache, num_workers, pool, **kwargs)\u001b[0m\n\u001b[1;32m     86\u001b[0m     \u001b[38;5;28;01melif\u001b[39;00m \u001b[38;5;28misinstance\u001b[39m(pool, multiprocessing\u001b[38;5;241m.\u001b[39mpool\u001b[38;5;241m.\u001b[39mPool):\n\u001b[1;32m     87\u001b[0m         pool \u001b[38;5;241m=\u001b[39m MultiprocessingPoolExecutor(pool)\n\u001b[0;32m---> 89\u001b[0m results \u001b[38;5;241m=\u001b[39m \u001b[43mget_async\u001b[49m\u001b[43m(\u001b[49m\n\u001b[1;32m     90\u001b[0m \u001b[43m    \u001b[49m\u001b[43mpool\u001b[49m\u001b[38;5;241;43m.\u001b[39;49m\u001b[43msubmit\u001b[49m\u001b[43m,\u001b[49m\n\u001b[1;32m     91\u001b[0m \u001b[43m    \u001b[49m\u001b[43mpool\u001b[49m\u001b[38;5;241;43m.\u001b[39;49m\u001b[43m_max_workers\u001b[49m\u001b[43m,\u001b[49m\n\u001b[1;32m     92\u001b[0m \u001b[43m    \u001b[49m\u001b[43mdsk\u001b[49m\u001b[43m,\u001b[49m\n\u001b[1;32m     93\u001b[0m \u001b[43m    \u001b[49m\u001b[43mkeys\u001b[49m\u001b[43m,\u001b[49m\n\u001b[1;32m     94\u001b[0m \u001b[43m    \u001b[49m\u001b[43mcache\u001b[49m\u001b[38;5;241;43m=\u001b[39;49m\u001b[43mcache\u001b[49m\u001b[43m,\u001b[49m\n\u001b[1;32m     95\u001b[0m \u001b[43m    \u001b[49m\u001b[43mget_id\u001b[49m\u001b[38;5;241;43m=\u001b[39;49m\u001b[43m_thread_get_id\u001b[49m\u001b[43m,\u001b[49m\n\u001b[1;32m     96\u001b[0m \u001b[43m    \u001b[49m\u001b[43mpack_exception\u001b[49m\u001b[38;5;241;43m=\u001b[39;49m\u001b[43mpack_exception\u001b[49m\u001b[43m,\u001b[49m\n\u001b[1;32m     97\u001b[0m \u001b[43m    \u001b[49m\u001b[38;5;241;43m*\u001b[39;49m\u001b[38;5;241;43m*\u001b[39;49m\u001b[43mkwargs\u001b[49m\u001b[43m,\u001b[49m\n\u001b[1;32m     98\u001b[0m \u001b[43m\u001b[49m\u001b[43m)\u001b[49m\n\u001b[1;32m    100\u001b[0m \u001b[38;5;66;03m# Cleanup pools associated to dead threads\u001b[39;00m\n\u001b[1;32m    101\u001b[0m \u001b[38;5;28;01mwith\u001b[39;00m pools_lock:\n",
      "File \u001b[0;32m~/miniconda3/envs/brassica/lib/python3.9/site-packages/dask/local.py:511\u001b[0m, in \u001b[0;36mget_async\u001b[0;34m(submit, num_workers, dsk, result, cache, get_id, rerun_exceptions_locally, pack_exception, raise_exception, callbacks, dumps, loads, chunksize, **kwargs)\u001b[0m\n\u001b[1;32m    509\u001b[0m         _execute_task(task, data)  \u001b[38;5;66;03m# Re-execute locally\u001b[39;00m\n\u001b[1;32m    510\u001b[0m     \u001b[38;5;28;01melse\u001b[39;00m:\n\u001b[0;32m--> 511\u001b[0m         \u001b[43mraise_exception\u001b[49m\u001b[43m(\u001b[49m\u001b[43mexc\u001b[49m\u001b[43m,\u001b[49m\u001b[43m \u001b[49m\u001b[43mtb\u001b[49m\u001b[43m)\u001b[49m\n\u001b[1;32m    512\u001b[0m res, worker_id \u001b[38;5;241m=\u001b[39m loads(res_info)\n\u001b[1;32m    513\u001b[0m state[\u001b[38;5;124m\"\u001b[39m\u001b[38;5;124mcache\u001b[39m\u001b[38;5;124m\"\u001b[39m][key] \u001b[38;5;241m=\u001b[39m res\n",
      "File \u001b[0;32m~/miniconda3/envs/brassica/lib/python3.9/site-packages/dask/local.py:319\u001b[0m, in \u001b[0;36mreraise\u001b[0;34m(exc, tb)\u001b[0m\n\u001b[1;32m    317\u001b[0m \u001b[38;5;28;01mif\u001b[39;00m exc\u001b[38;5;241m.\u001b[39m__traceback__ \u001b[38;5;129;01mis\u001b[39;00m \u001b[38;5;129;01mnot\u001b[39;00m tb:\n\u001b[1;32m    318\u001b[0m     \u001b[38;5;28;01mraise\u001b[39;00m exc\u001b[38;5;241m.\u001b[39mwith_traceback(tb)\n\u001b[0;32m--> 319\u001b[0m \u001b[38;5;28;01mraise\u001b[39;00m exc\n",
      "File \u001b[0;32m~/miniconda3/envs/brassica/lib/python3.9/site-packages/dask/local.py:224\u001b[0m, in \u001b[0;36mexecute_task\u001b[0;34m(key, task_info, dumps, loads, get_id, pack_exception)\u001b[0m\n\u001b[1;32m    222\u001b[0m \u001b[38;5;28;01mtry\u001b[39;00m:\n\u001b[1;32m    223\u001b[0m     task, data \u001b[38;5;241m=\u001b[39m loads(task_info)\n\u001b[0;32m--> 224\u001b[0m     result \u001b[38;5;241m=\u001b[39m \u001b[43m_execute_task\u001b[49m\u001b[43m(\u001b[49m\u001b[43mtask\u001b[49m\u001b[43m,\u001b[49m\u001b[43m \u001b[49m\u001b[43mdata\u001b[49m\u001b[43m)\u001b[49m\n\u001b[1;32m    225\u001b[0m     \u001b[38;5;28mid\u001b[39m \u001b[38;5;241m=\u001b[39m get_id()\n\u001b[1;32m    226\u001b[0m     result \u001b[38;5;241m=\u001b[39m dumps((result, \u001b[38;5;28mid\u001b[39m))\n",
      "File \u001b[0;32m~/analysis/macrohet/macrohet/tile.py:480\u001b[0m, in \u001b[0;36mfuse_func\u001b[0;34m(input_tile_info, imload_fn, block_info, dtype)\u001b[0m\n\u001b[1;32m    477\u001b[0m \u001b[38;5;28;01mif\u001b[39;00m imload_fn \u001b[38;5;129;01mis\u001b[39;00m \u001b[38;5;129;01mnot\u001b[39;00m \u001b[38;5;28;01mNone\u001b[39;00m:\n\u001b[1;32m    478\u001b[0m     \u001b[38;5;66;03m# When imload_fn is provided we assume we have been given strings representing files\u001b[39;00m\n\u001b[1;32m    479\u001b[0m     tile_path \u001b[38;5;241m=\u001b[39m image_representation\n\u001b[0;32m--> 480\u001b[0m     im \u001b[38;5;241m=\u001b[39m \u001b[43mimload_fn\u001b[49m\u001b[43m(\u001b[49m\u001b[43mtile_path\u001b[49m\u001b[43m)\u001b[49m\n\u001b[1;32m    481\u001b[0m \u001b[38;5;28;01melse\u001b[39;00m:\n\u001b[1;32m    482\u001b[0m     \u001b[38;5;66;03m# Without imload function we assume images are passed\u001b[39;00m\n\u001b[1;32m    483\u001b[0m     im \u001b[38;5;241m=\u001b[39m image_representation\n",
      "File \u001b[0;32m~/analysis/macrohet/macrohet/tile.py:508\u001b[0m, in \u001b[0;36mload_image\u001b[0;34m(file, transforms)\u001b[0m\n\u001b[1;32m    506\u001b[0m     img \u001b[38;5;241m=\u001b[39m imread(file)\n\u001b[1;32m    507\u001b[0m \u001b[38;5;28;01mexcept\u001b[39;00m \u001b[38;5;167;01mException\u001b[39;00m \u001b[38;5;28;01mas\u001b[39;00m e:\n\u001b[0;32m--> 508\u001b[0m     \u001b[38;5;28;01mraise\u001b[39;00m \u001b[38;5;167;01mException\u001b[39;00m(\u001b[38;5;124mf\u001b[39m\u001b[38;5;124m'\u001b[39m\u001b[38;5;132;01m{\u001b[39;00me\u001b[38;5;132;01m}\u001b[39;00m\u001b[38;5;124m \u001b[39m\u001b[38;5;130;01m\\n\u001b[39;00m\u001b[38;5;124m Could not load file: \u001b[39m\u001b[38;5;132;01m{\u001b[39;00mfile\u001b[38;5;132;01m}\u001b[39;00m\u001b[38;5;124m'\u001b[39m)\n\u001b[1;32m    509\u001b[0m \u001b[38;5;66;03m# TO-DO remove this hacky fix\u001b[39;00m\n\u001b[1;32m    510\u001b[0m \u001b[38;5;66;03m# WHY IS THIS NECESSARY FOR PROPER TILING\u001b[39;00m\n\u001b[1;32m    511\u001b[0m img \u001b[38;5;241m=\u001b[39m np\u001b[38;5;241m.\u001b[39mrot90(img, k\u001b[38;5;241m=\u001b[39m\u001b[38;5;241m3\u001b[39m)\n",
      "\u001b[0;31mException\u001b[0m: [Errno 5] Input/output error \n Could not load file: /run/user/30046150/gvfs/smb-share:server=data2.thecrick.org,share=lab-gutierrezm/home/users/dayn/macrohet_nemo/macrohet_images/NDXXXX_optimisation/ND0000__2023-08-04T15_27_41-Measurement 1/Images/r03c10f01p02-ch3sk9fk1fl1.tiff"
     ]
    }
   ],
   "source": [
    "viewer.camera.center = (0, 3023.5, 3023.5)\n",
    "viewer.dims.current_step = (0, 3023, 3023)\n",
    "animation.capture_keyframe()\n",
    "viewer.dims.current_step = (375, 3023, 3023)\n",
    "animation.capture_keyframe(steps = 375)\n",
    "animation.animate(os.path.join(output_dir, 'test_fullstack_slow.mp4'), canvas_only=True, fps = 7, quality = 9)"
   ]
  },
  {
   "cell_type": "code",
   "execution_count": null,
   "id": "1217fc32-b15c-4f0e-8cdf-9712024afc4b",
   "metadata": {},
   "outputs": [],
   "source": [
    "from macrohet import notify"
   ]
  },
  {
   "cell_type": "code",
   "execution_count": null,
   "id": "5813dcdb-c869-4305-a6a5-66292a9b4883",
   "metadata": {},
   "outputs": [],
   "source": [
    "notify.send_sms('slow version complete locally')"
   ]
  },
  {
   "cell_type": "code",
   "execution_count": null,
   "id": "93025d14-ca9f-4f9b-baf2-1ef3e07f6442",
   "metadata": {},
   "outputs": [],
   "source": [
    "output_dir = '/run/user/30046150/gvfs/google-drive:host=gmail.com,user=nthndy/13iZkrWWM5tgb0r0IG-waR97cjBGOM8mi'"
   ]
  },
  {
   "cell_type": "code",
   "execution_count": null,
   "id": "35cabcd2-0ce5-4ad1-bad9-6aaabf31e97e",
   "metadata": {},
   "outputs": [],
   "source": [
    "animation = Animation(viewer)"
   ]
  },
  {
   "cell_type": "code",
   "execution_count": null,
   "id": "8163cafa-eab8-461b-8249-1f4b705a0b60",
   "metadata": {},
   "outputs": [],
   "source": [
    "viewer.camera.center = (0, 3023.5, 3023.5)\n",
    "viewer.dims.current_step = (0, 3023, 3023)\n",
    "animation.capture_keyframe()\n",
    "viewer.dims.current_step = (375, 3023, 3023)\n",
    "animation.capture_keyframe(steps = 375)\n",
    "animation.animate(os.path.join(output_dir, 'test_fullstack_slow.mp4'), canvas_only=True, fps = 7, quality = 9)"
   ]
  },
  {
   "cell_type": "code",
   "execution_count": null,
   "id": "d69f61f8-8b9c-43bb-8eb6-a1689d3e025f",
   "metadata": {},
   "outputs": [],
   "source": [
    "from macrohet import notify"
   ]
  },
  {
   "cell_type": "code",
   "execution_count": null,
   "id": "fa533a59-c1ae-44ce-9f04-b413cf1961d9",
   "metadata": {},
   "outputs": [],
   "source": [
    "notify.send_sms('slow version complete online')"
   ]
  },
  {
   "cell_type": "markdown",
   "id": "4f903d8c-0b62-4e5e-9899-853eb9d174df",
   "metadata": {},
   "source": [
    "### Annotations"
   ]
  },
  {
   "cell_type": "code",
   "execution_count": 25,
   "id": "f34cc29d",
   "metadata": {},
   "outputs": [
    {
     "data": {
      "text/plain": [
       "<Points layer 'cell 1251' at 0x7f235d482790>"
      ]
     },
     "execution_count": 25,
     "metadata": {},
     "output_type": "execute_result"
    }
   ],
   "source": [
    "visualise.highlight_cell(1251, viewer, tracks)"
   ]
  },
  {
   "cell_type": "code",
   "execution_count": 62,
   "id": "e0f86387",
   "metadata": {},
   "outputs": [
    {
     "data": {
      "text/plain": [
       "<Tracks layer 'napari_filtered_tracks [2]' at 0x7ff4e5a32430>"
      ]
     },
     "execution_count": 62,
     "metadata": {},
     "output_type": "execute_result"
    }
   ],
   "source": [
    "viewer.add_tracks(napari_filtered_tracks, scale = (1,5.04,5.04),)"
   ]
  },
  {
   "cell_type": "code",
   "execution_count": 25,
   "id": "5df733bf",
   "metadata": {},
   "outputs": [
    {
     "name": "stderr",
     "output_type": "stream",
     "text": [
      "Traceback (most recent call last):\n",
      "  File \"/home/dayn/miniconda3/envs/aero/lib/python3.9/site-packages/napari/utils/action_manager.py\", line 227, in <lambda>\n",
      "    button.clicked.connect(lambda: self.trigger(name))\n",
      "  File \"/home/dayn/miniconda3/envs/aero/lib/python3.9/site-packages/napari/utils/action_manager.py\", line 427, in trigger\n",
      "    return self._actions[name].injected()\n",
      "  File \"/home/dayn/miniconda3/envs/aero/lib/python3.9/site-packages/in_n_out/_store.py\", line 773, in _exec\n",
      "    result = func(**{**_kwargs, **bound.arguments})\n",
      "  File \"/home/dayn/miniconda3/envs/aero/lib/python3.9/site-packages/napari/layers/image/_image_key_bindings.py\", line 33, in orient_plane_normal_along_x\n",
      "    orient_plane_normal_around_cursor(layer, plane_normal=(0, 0, 1))\n",
      "  File \"/home/dayn/miniconda3/envs/aero/lib/python3.9/site-packages/napari/layers/utils/interactivity_utils.py\", line 126, in orient_plane_normal_around_cursor\n",
      "    view_direction = layer._world_to_displayed_data_ray(\n",
      "  File \"/home/dayn/miniconda3/envs/aero/lib/python3.9/site-packages/napari/layers/base/base.py\", line 1330, in _world_to_displayed_data_ray\n",
      "    vector_data_ndisplay = vector_data_nd[dims_displayed]\n",
      "IndexError: index -3 is out of bounds for axis 0 with size 2\n",
      "Traceback (most recent call last):\n",
      "  File \"/home/dayn/miniconda3/envs/aero/lib/python3.9/site-packages/napari/utils/action_manager.py\", line 227, in <lambda>\n",
      "    button.clicked.connect(lambda: self.trigger(name))\n",
      "  File \"/home/dayn/miniconda3/envs/aero/lib/python3.9/site-packages/napari/utils/action_manager.py\", line 427, in trigger\n",
      "    return self._actions[name].injected()\n",
      "  File \"/home/dayn/miniconda3/envs/aero/lib/python3.9/site-packages/in_n_out/_store.py\", line 773, in _exec\n",
      "    result = func(**{**_kwargs, **bound.arguments})\n",
      "  File \"/home/dayn/miniconda3/envs/aero/lib/python3.9/site-packages/napari/layers/image/_image_key_bindings.py\", line 27, in orient_plane_normal_along_y\n",
      "    orient_plane_normal_around_cursor(layer, plane_normal=(0, 1, 0))\n",
      "  File \"/home/dayn/miniconda3/envs/aero/lib/python3.9/site-packages/napari/layers/utils/interactivity_utils.py\", line 126, in orient_plane_normal_around_cursor\n",
      "    view_direction = layer._world_to_displayed_data_ray(\n",
      "  File \"/home/dayn/miniconda3/envs/aero/lib/python3.9/site-packages/napari/layers/base/base.py\", line 1330, in _world_to_displayed_data_ray\n",
      "    vector_data_ndisplay = vector_data_nd[dims_displayed]\n",
      "IndexError: index -3 is out of bounds for axis 0 with size 2\n"
     ]
    }
   ],
   "source": [
    "viewer.layers['napari_filtered_tracks'].scale = (30, 5.04, 5.04)"
   ]
  },
  {
   "cell_type": "code",
   "execution_count": 32,
   "id": "1ab82bb4",
   "metadata": {},
   "outputs": [],
   "source": [
    "viewer.layers['napari_filtered_tracks'].axis_labels=[\"time\", \"y\", \"x\"]"
   ]
  },
  {
   "cell_type": "code",
   "execution_count": 29,
   "id": "80b39d85",
   "metadata": {},
   "outputs": [
    {
     "data": {
      "text/plain": [
       "<Labels layer 'downscaled coloured segmentation new tracks' at 0x7f15c273ca30>"
      ]
     },
     "execution_count": 29,
     "metadata": {},
     "output_type": "execute_result"
    }
   ],
   "source": [
    "viewer.add_tracks(ds_napari_tracks,\n",
    "#                     properties=properties, \n",
    "#                     graph=graph, \n",
    "                    name=\"hacky downscaled tracks\", \n",
    "                    blending=\"translucent\",\n",
    "                    visible=True,\n",
    "#                     scale = (1,1,1)\n",
    "                )\n",
    "# viewer.add_labels(ds_segmentation, \n",
    "#                  name = 'downscaled segmentation')\n",
    "\n",
    "viewer.add_labels(ds_col_segmentation, \n",
    "                  name = 'downscaled coloured segmentation',\n",
    "                  scale=(1, 1, 1,), \n",
    "#                   color={1:'yellow'}\n",
    "                 )\n",
    "\n",
    "viewer.add_labels(ds_col_segmentation_new_tracks, \n",
    "                  name = 'downscaled coloured segmentation new tracks',\n",
    "                  scale=(1, 1, 1,), \n",
    "#                   color={1:'yellow'}\n",
    "                 )"
   ]
  }
 ],
 "metadata": {
  "kernelspec": {
   "display_name": "Python 3 (ipykernel)",
   "language": "python",
   "name": "python3"
  },
  "language_info": {
   "codemirror_mode": {
    "name": "ipython",
    "version": 3
   },
   "file_extension": ".py",
   "mimetype": "text/x-python",
   "name": "python",
   "nbconvert_exporter": "python",
   "pygments_lexer": "ipython3",
   "version": "3.9.17"
  }
 },
 "nbformat": 4,
 "nbformat_minor": 5
}
