{
 "cells": [
  {
   "cell_type": "code",
   "execution_count": 6,
   "id": "37677947-3196-48d6-8c1d-8549925ced5b",
   "metadata": {},
   "outputs": [],
   "source": [
    "import os, glob\n",
    "from skimage import io"
   ]
  },
  {
   "cell_type": "code",
   "execution_count": 3,
   "id": "3f181153-39bc-4a98-96f0-3f506aac31a9",
   "metadata": {},
   "outputs": [
    {
     "data": {
      "text/plain": [
       "array([[104, 106, 110, ..., 110, 109, 111],\n",
       "       [106, 107, 115, ..., 108, 108, 113],\n",
       "       [103, 111, 116, ..., 111, 113, 121],\n",
       "       ...,\n",
       "       [103, 106, 107, ..., 103, 103,  96],\n",
       "       [107, 103, 104, ..., 102, 102, 101],\n",
       "       [104, 103, 102, ...,  99, 100, 103]], dtype=uint16)"
      ]
     },
     "execution_count": 3,
     "metadata": {},
     "output_type": "execute_result"
    }
   ],
   "source": [
    "io.imread('/run/user/30046150/gvfs/smb-share:server=data2.thecrick.org,share=lab-gutierrezm/home/users/dayn/macrohet_nemo/macrohet_images/NDXXXX_optimisation/ND0000__2023-08-04T15_27_41-Measurement 1/Images/r02c03f01p01-ch1sk1fk1fl1.tiff')"
   ]
  },
  {
   "cell_type": "code",
   "execution_count": 9,
   "id": "31fb5c0d-4ee9-4842-8167-4550fdb0ce91",
   "metadata": {},
   "outputs": [],
   "source": [
    "fns = glob.glob('/run/user/30046150/gvfs/smb-share:server=data2.thecrick.org,share=lab-gutierrezm/home/users/dayn/macrohet_nemo/macrohet_images/NDXXXX_optimisation/ND0000__2023-08-04T15_27_41-Measurement 1/Images/r0*c03f01p01-ch1sk1fk1fl1.tif')"
   ]
  },
  {
   "cell_type": "code",
   "execution_count": 10,
   "id": "d7189884-ac68-4c9a-ad22-e18c7b959ecf",
   "metadata": {},
   "outputs": [
    {
     "data": {
      "text/plain": [
       "[]"
      ]
     },
     "execution_count": 10,
     "metadata": {},
     "output_type": "execute_result"
    }
   ],
   "source": [
    "fns"
   ]
  },
  {
   "cell_type": "code",
   "execution_count": 11,
   "id": "0afe70b5-5461-421b-bcaa-25dc5b6087ca",
   "metadata": {},
   "outputs": [],
   "source": [
    "fns = glob.iglob('/run/user/30046150/gvfs/smb-share:server=data2.thecrick.org,share=lab-gutierrezm/home/users/dayn/macrohet_nemo/macrohet_images/NDXXXX_optimisation/ND0000__2023-08-04T15_27_41-Measurement 1/Images/r0*c03f01p01-ch1sk1fk1fl1.tif')"
   ]
  },
  {
   "cell_type": "code",
   "execution_count": 14,
   "id": "dda106cd-7f5c-4b9e-9801-f88e9541bd50",
   "metadata": {},
   "outputs": [],
   "source": [
    "def test_fn(fns):\n",
    "    for fn in fns:\n",
    "        return fn"
   ]
  },
  {
   "cell_type": "code",
   "execution_count": 15,
   "id": "b1d1e86c-e1d5-4a68-b817-009a26078739",
   "metadata": {},
   "outputs": [],
   "source": [
    "test_fn(fns)"
   ]
  },
  {
   "cell_type": "code",
   "execution_count": 18,
   "id": "c744d167-4d2b-4e64-bbde-1d5efb1d1c12",
   "metadata": {},
   "outputs": [],
   "source": [
    "for fn in glob.iglob('/run/user/30046150/gvfs/smb-share:server=data2.thecrick.org,share=lab-gutierrezm/home/users/dayn/macrohet_nemo/macrohet_images/NDXXXX_optimisation/ND0000__2023-08-04T15_27_41-Measurement 1/Images/r0*c03f01p01-ch1sk1fk1fl1.tif'):\n",
    "    print(fn)"
   ]
  },
  {
   "cell_type": "code",
   "execution_count": 4,
   "id": "f3bb62ef-24ab-4f2a-bc07-047bcac3a4ce",
   "metadata": {},
   "outputs": [
    {
     "data": {
      "text/plain": [
       "40500"
      ]
     },
     "execution_count": 4,
     "metadata": {},
     "output_type": "execute_result"
    }
   ],
   "source": [
    "375*3*9*4"
   ]
  },
  {
   "cell_type": "code",
   "execution_count": 20,
   "id": "2d2cec7c-896c-4d06-84cc-848e2ff01444",
   "metadata": {},
   "outputs": [
    {
     "data": {
      "text/plain": [
       "880.3687500000001"
      ]
     },
     "execution_count": 20,
     "metadata": {},
     "output_type": "execute_result"
    }
   ],
   "source": [
    "243648*3.7/1024"
   ]
  },
  {
   "cell_type": "code",
   "execution_count": 5,
   "id": "928e884c-f3e1-450e-916a-9b3e448266a4",
   "metadata": {},
   "outputs": [
    {
     "data": {
      "text/plain": [
       "4050"
      ]
     },
     "execution_count": 5,
     "metadata": {},
     "output_type": "execute_result"
    }
   ],
   "source": [
    "75*3*2*9"
   ]
  },
  {
   "cell_type": "code",
   "execution_count": 22,
   "id": "b611ce34-d0bf-4c2d-bc38-a8c1ff2d1874",
   "metadata": {},
   "outputs": [],
   "source": [
    "image_dir = '/run/user/30046150/gvfs/smb-share:server=data2.thecrick.org,share=lab-gutierrezm/home/users/dayn/macrohet_nemo/macrohet_images/NDXXXX_optimisation/ND0000__2023-08-04T15_27_41-Measurement 1/Images'"
   ]
  },
  {
   "cell_type": "code",
   "execution_count": 23,
   "id": "8ff6557d-f678-4186-aa5c-7c52251fa8cd",
   "metadata": {},
   "outputs": [
    {
     "name": "stdout",
     "output_type": "stream",
     "text": [
      "No matching files found in the directory.\n"
     ]
    }
   ],
   "source": [
    "def get_first_filename(directory, pattern=\"*.tiff\"):\n",
    "    \"\"\"\n",
    "    Retrieves the first filename from a directory matching a specific pattern.\n",
    "    \n",
    "    :param directory: Directory to inspect.\n",
    "    :param pattern: Pattern to match (default is \"*\", which matches all files).\n",
    "    :return: The first filename matching the pattern or None if no matches are found.\n",
    "    \"\"\"\n",
    "    iterator = glob.iglob(f\"{directory}/{pattern}\")\n",
    "    for filename in iterator:\n",
    "        return filename\n",
    "    return None\n",
    "\n",
    "# Usage:\n",
    "directory_path = image_dir\n",
    "filename = get_first_filename(directory_path)\n",
    "if filename:\n",
    "    print(f\"First filename in the directory: {filename}\")\n",
    "else:\n",
    "    print(\"No matching files found in the directory.\")"
   ]
  }
 ],
 "metadata": {
  "kernelspec": {
   "display_name": "Python 3 (ipykernel)",
   "language": "python",
   "name": "python3"
  },
  "language_info": {
   "codemirror_mode": {
    "name": "ipython",
    "version": 3
   },
   "file_extension": ".py",
   "mimetype": "text/x-python",
   "name": "python",
   "nbconvert_exporter": "python",
   "pygments_lexer": "ipython3",
   "version": "3.9.17"
  }
 },
 "nbformat": 4,
 "nbformat_minor": 5
}
