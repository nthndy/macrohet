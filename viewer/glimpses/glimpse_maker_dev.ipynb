{
 "cells": [
  {
   "cell_type": "markdown",
   "id": "49e2d4e9-12ea-4ec7-8ef9-547c78918e91",
   "metadata": {},
   "source": [
    "### dev"
   ]
  },
  {
   "cell_type": "code",
   "execution_count": 2,
   "id": "0aa82da0-5408-4387-b2cf-b826e0696e60",
   "metadata": {},
   "outputs": [],
   "source": [
    "import os\n",
    "import numpy as np\n",
    "import pandas as pd\n",
    "import zarr\n",
    "import glob\n",
    "import btrack\n",
    "import cv2\n",
    "from PIL import Image, ImageDraw, ImageFont\n",
    "from tqdm.auto import tqdm"
   ]
  },
  {
   "cell_type": "code",
   "execution_count": 8,
   "id": "123e1033-8d8c-4195-b582-bb80f1df27ba",
   "metadata": {},
   "outputs": [],
   "source": [
    "# extract single cell df\n",
    "# sc_df_fn = '/mnt/SYNO/macrohet_syno/results/dfs/ND4_sc_df.pkl' # time intensive step\n",
    "acq_ID = (4, 7)\n",
    "sc_df_fn = f'/mnt/SYNO/macrohet_syno/results/dfs/ND0004/sc_df_{acq_ID[0]}.{acq_ID[1]}.ND0004.pkl'\n",
    "df = pd.read_pickle(sc_df_fn)\n"
   ]
  },
  {
   "cell_type": "code",
   "execution_count": 3,
   "id": "8d94d021-be67-405f-ab11-f1762e659c15",
   "metadata": {},
   "outputs": [],
   "source": [
    "# Prepare font and color settings\n",
    "font_path = \"/usr/share/fonts/truetype/liberation/LiberationSans-Regular.ttf\"  # Update this path to your font file\n",
    "font = ImageFont.truetype(font_path, 42)\n",
    "text_color = (0, 255, 255)  # Yellow color in RGB format\n",
    "# Define the side length\n",
    "side_length = 750\n",
    "# and other image properties\n",
    "track_scale_factor = 5.04\n",
    "image_scale_m_per_pixel = 1.4949402023919043e-07\n",
    "image_scale_um_per_pixel = image_scale_m_per_pixel*1E6\n",
    "image_width = image_height = 6048\n",
    "last_seg_fn = []"
   ]
  },
  {
   "cell_type": "markdown",
   "id": "ea4f830f-51cb-4a41-9805-af4718e42042",
   "metadata": {},
   "source": [
    "# Bulk generation"
   ]
  },
  {
   "cell_type": "code",
   "execution_count": 5,
   "id": "923fdb7d-735d-4072-b448-1defaead5d54",
   "metadata": {},
   "outputs": [
    {
     "data": {
      "text/plain": [
       "Index(['ID', 't', 'x', 'y', 'Mtb Area (µm)', 'Mphi Area (µm)',\n",
       "       'Infection Status', 'Initial Infection Status',\n",
       "       'Final Infection Status', 'Unique_ID', 'Strain', 'Compound',\n",
       "       'Concentration', 'Cell ID', 'Time (hours)', 'Mtb Area Processed (µm)',\n",
       "       'Time Model (hours)', 'Mtb Area Model (µm)', 'r2', 'Doubling Amounts',\n",
       "       'Doubling Times'],\n",
       "      dtype='object')"
      ]
     },
     "execution_count": 5,
     "metadata": {},
     "output_type": "execute_result"
    }
   ],
   "source": [
    "df.keys()"
   ]
  },
  {
   "cell_type": "code",
   "execution_count": 9,
   "id": "07cea45d-9f92-41b1-afb0-6f2d6e61d664",
   "metadata": {},
   "outputs": [
    {
     "data": {
      "text/html": [
       "<div>\n",
       "<style scoped>\n",
       "    .dataframe tbody tr th:only-of-type {\n",
       "        vertical-align: middle;\n",
       "    }\n",
       "\n",
       "    .dataframe tbody tr th {\n",
       "        vertical-align: top;\n",
       "    }\n",
       "\n",
       "    .dataframe thead th {\n",
       "        text-align: right;\n",
       "    }\n",
       "</style>\n",
       "<table border=\"1\" class=\"dataframe\">\n",
       "  <thead>\n",
       "    <tr style=\"text-align: right;\">\n",
       "      <th></th>\n",
       "      <th></th>\n",
       "      <th>ID</th>\n",
       "      <th>t</th>\n",
       "      <th>x</th>\n",
       "      <th>y</th>\n",
       "      <th>Mtb Area (µm)</th>\n",
       "      <th>Mphi Area (µm)</th>\n",
       "      <th>Infection Status</th>\n",
       "      <th>Initial Infection Status</th>\n",
       "      <th>Final Infection Status</th>\n",
       "      <th>Unique_ID</th>\n",
       "      <th>...</th>\n",
       "      <th>Compound</th>\n",
       "      <th>Concentration</th>\n",
       "      <th>Cell ID</th>\n",
       "      <th>Time (hours)</th>\n",
       "      <th>Mtb Area Processed (µm)</th>\n",
       "      <th>Time Model (hours)</th>\n",
       "      <th>Mtb Area Model (µm)</th>\n",
       "      <th>r2</th>\n",
       "      <th>Doubling Amounts</th>\n",
       "      <th>Doubling Times</th>\n",
       "    </tr>\n",
       "    <tr>\n",
       "      <th>ID</th>\n",
       "      <th></th>\n",
       "      <th></th>\n",
       "      <th></th>\n",
       "      <th></th>\n",
       "      <th></th>\n",
       "      <th></th>\n",
       "      <th></th>\n",
       "      <th></th>\n",
       "      <th></th>\n",
       "      <th></th>\n",
       "      <th></th>\n",
       "      <th></th>\n",
       "      <th></th>\n",
       "      <th></th>\n",
       "      <th></th>\n",
       "      <th></th>\n",
       "      <th></th>\n",
       "      <th></th>\n",
       "      <th></th>\n",
       "      <th></th>\n",
       "      <th></th>\n",
       "      <th></th>\n",
       "    </tr>\n",
       "  </thead>\n",
       "  <tbody>\n",
       "    <tr>\n",
       "      <th rowspan=\"5\" valign=\"top\">1.4.7.ND0004</th>\n",
       "      <th>0</th>\n",
       "      <td>1.4.7.ND0004</td>\n",
       "      <td>0</td>\n",
       "      <td>70</td>\n",
       "      <td>4350</td>\n",
       "      <td>NaN</td>\n",
       "      <td>NaN</td>\n",
       "      <td>NaN</td>\n",
       "      <td>True</td>\n",
       "      <td>True</td>\n",
       "      <td>1.4.7.ND0004</td>\n",
       "      <td>...</td>\n",
       "      <td>RIF</td>\n",
       "      <td>EC99</td>\n",
       "      <td>1</td>\n",
       "      <td>0.0</td>\n",
       "      <td>NaN</td>\n",
       "      <td>NaN</td>\n",
       "      <td>NaN</td>\n",
       "      <td>-0.18</td>\n",
       "      <td>None</td>\n",
       "      <td>None</td>\n",
       "    </tr>\n",
       "    <tr>\n",
       "      <th>1</th>\n",
       "      <td>1.4.7.ND0004</td>\n",
       "      <td>1</td>\n",
       "      <td>81</td>\n",
       "      <td>4329</td>\n",
       "      <td>146.225987</td>\n",
       "      <td>1424.178095</td>\n",
       "      <td>NaN</td>\n",
       "      <td>True</td>\n",
       "      <td>True</td>\n",
       "      <td>1.4.7.ND0004</td>\n",
       "      <td>...</td>\n",
       "      <td>RIF</td>\n",
       "      <td>EC99</td>\n",
       "      <td>1</td>\n",
       "      <td>0.5</td>\n",
       "      <td>NaN</td>\n",
       "      <td>NaN</td>\n",
       "      <td>NaN</td>\n",
       "      <td>-0.18</td>\n",
       "      <td>None</td>\n",
       "      <td>None</td>\n",
       "    </tr>\n",
       "    <tr>\n",
       "      <th>2</th>\n",
       "      <td>1.4.7.ND0004</td>\n",
       "      <td>2</td>\n",
       "      <td>50</td>\n",
       "      <td>4323</td>\n",
       "      <td>175.413079</td>\n",
       "      <td>1445.319740</td>\n",
       "      <td>NaN</td>\n",
       "      <td>True</td>\n",
       "      <td>True</td>\n",
       "      <td>1.4.7.ND0004</td>\n",
       "      <td>...</td>\n",
       "      <td>RIF</td>\n",
       "      <td>EC99</td>\n",
       "      <td>1</td>\n",
       "      <td>1.0</td>\n",
       "      <td>NaN</td>\n",
       "      <td>NaN</td>\n",
       "      <td>NaN</td>\n",
       "      <td>-0.18</td>\n",
       "      <td>None</td>\n",
       "      <td>None</td>\n",
       "    </tr>\n",
       "    <tr>\n",
       "      <th>3</th>\n",
       "      <td>1.4.7.ND0004</td>\n",
       "      <td>3</td>\n",
       "      <td>77</td>\n",
       "      <td>4317</td>\n",
       "      <td>187.861172</td>\n",
       "      <td>1603.904427</td>\n",
       "      <td>NaN</td>\n",
       "      <td>True</td>\n",
       "      <td>True</td>\n",
       "      <td>1.4.7.ND0004</td>\n",
       "      <td>...</td>\n",
       "      <td>RIF</td>\n",
       "      <td>EC99</td>\n",
       "      <td>1</td>\n",
       "      <td>1.5</td>\n",
       "      <td>NaN</td>\n",
       "      <td>NaN</td>\n",
       "      <td>NaN</td>\n",
       "      <td>-0.18</td>\n",
       "      <td>None</td>\n",
       "      <td>None</td>\n",
       "    </tr>\n",
       "    <tr>\n",
       "      <th>4</th>\n",
       "      <td>1.4.7.ND0004</td>\n",
       "      <td>4</td>\n",
       "      <td>56</td>\n",
       "      <td>4312</td>\n",
       "      <td>NaN</td>\n",
       "      <td>NaN</td>\n",
       "      <td>True</td>\n",
       "      <td>True</td>\n",
       "      <td>True</td>\n",
       "      <td>1.4.7.ND0004</td>\n",
       "      <td>...</td>\n",
       "      <td>RIF</td>\n",
       "      <td>EC99</td>\n",
       "      <td>1</td>\n",
       "      <td>2.0</td>\n",
       "      <td>NaN</td>\n",
       "      <td>0.0</td>\n",
       "      <td>216.739739</td>\n",
       "      <td>-0.18</td>\n",
       "      <td>None</td>\n",
       "      <td>None</td>\n",
       "    </tr>\n",
       "    <tr>\n",
       "      <th>...</th>\n",
       "      <th>...</th>\n",
       "      <td>...</td>\n",
       "      <td>...</td>\n",
       "      <td>...</td>\n",
       "      <td>...</td>\n",
       "      <td>...</td>\n",
       "      <td>...</td>\n",
       "      <td>...</td>\n",
       "      <td>...</td>\n",
       "      <td>...</td>\n",
       "      <td>...</td>\n",
       "      <td>...</td>\n",
       "      <td>...</td>\n",
       "      <td>...</td>\n",
       "      <td>...</td>\n",
       "      <td>...</td>\n",
       "      <td>...</td>\n",
       "      <td>...</td>\n",
       "      <td>...</td>\n",
       "      <td>...</td>\n",
       "      <td>...</td>\n",
       "      <td>...</td>\n",
       "    </tr>\n",
       "    <tr>\n",
       "      <th rowspan=\"5\" valign=\"top\">9992.4.7.ND0004</th>\n",
       "      <th>42631</th>\n",
       "      <td>9992.4.7.ND0004</td>\n",
       "      <td>149</td>\n",
       "      <td>2744</td>\n",
       "      <td>523</td>\n",
       "      <td>NaN</td>\n",
       "      <td>NaN</td>\n",
       "      <td>NaN</td>\n",
       "      <td>True</td>\n",
       "      <td>True</td>\n",
       "      <td>9992.4.7.ND0004</td>\n",
       "      <td>...</td>\n",
       "      <td>RIF</td>\n",
       "      <td>EC99</td>\n",
       "      <td>9992</td>\n",
       "      <td>74.5</td>\n",
       "      <td>59.405006</td>\n",
       "      <td>NaN</td>\n",
       "      <td>NaN</td>\n",
       "      <td>-0.11</td>\n",
       "      <td>None</td>\n",
       "      <td>None</td>\n",
       "    </tr>\n",
       "    <tr>\n",
       "      <th>42632</th>\n",
       "      <td>9992.4.7.ND0004</td>\n",
       "      <td>150</td>\n",
       "      <td>2744</td>\n",
       "      <td>531</td>\n",
       "      <td>NaN</td>\n",
       "      <td>NaN</td>\n",
       "      <td>NaN</td>\n",
       "      <td>True</td>\n",
       "      <td>True</td>\n",
       "      <td>9992.4.7.ND0004</td>\n",
       "      <td>...</td>\n",
       "      <td>RIF</td>\n",
       "      <td>EC99</td>\n",
       "      <td>9992</td>\n",
       "      <td>75.0</td>\n",
       "      <td>62.807559</td>\n",
       "      <td>NaN</td>\n",
       "      <td>NaN</td>\n",
       "      <td>-0.11</td>\n",
       "      <td>None</td>\n",
       "      <td>None</td>\n",
       "    </tr>\n",
       "    <tr>\n",
       "      <th>42633</th>\n",
       "      <td>9992.4.7.ND0004</td>\n",
       "      <td>151</td>\n",
       "      <td>2748</td>\n",
       "      <td>543</td>\n",
       "      <td>75.582499</td>\n",
       "      <td>2539.723929</td>\n",
       "      <td>NaN</td>\n",
       "      <td>True</td>\n",
       "      <td>True</td>\n",
       "      <td>9992.4.7.ND0004</td>\n",
       "      <td>...</td>\n",
       "      <td>RIF</td>\n",
       "      <td>EC99</td>\n",
       "      <td>9992</td>\n",
       "      <td>75.5</td>\n",
       "      <td>66.210112</td>\n",
       "      <td>NaN</td>\n",
       "      <td>NaN</td>\n",
       "      <td>-0.11</td>\n",
       "      <td>None</td>\n",
       "      <td>None</td>\n",
       "    </tr>\n",
       "    <tr>\n",
       "      <th>42634</th>\n",
       "      <td>9992.4.7.ND0004</td>\n",
       "      <td>152</td>\n",
       "      <td>2741</td>\n",
       "      <td>579</td>\n",
       "      <td>73.794622</td>\n",
       "      <td>2473.147860</td>\n",
       "      <td>NaN</td>\n",
       "      <td>True</td>\n",
       "      <td>True</td>\n",
       "      <td>9992.4.7.ND0004</td>\n",
       "      <td>...</td>\n",
       "      <td>RIF</td>\n",
       "      <td>EC99</td>\n",
       "      <td>9992</td>\n",
       "      <td>76.0</td>\n",
       "      <td>69.612666</td>\n",
       "      <td>NaN</td>\n",
       "      <td>NaN</td>\n",
       "      <td>-0.11</td>\n",
       "      <td>None</td>\n",
       "      <td>None</td>\n",
       "    </tr>\n",
       "    <tr>\n",
       "      <th>42635</th>\n",
       "      <td>9992.4.7.ND0004</td>\n",
       "      <td>153</td>\n",
       "      <td>2739</td>\n",
       "      <td>535</td>\n",
       "      <td>NaN</td>\n",
       "      <td>NaN</td>\n",
       "      <td>NaN</td>\n",
       "      <td>True</td>\n",
       "      <td>True</td>\n",
       "      <td>9992.4.7.ND0004</td>\n",
       "      <td>...</td>\n",
       "      <td>RIF</td>\n",
       "      <td>EC99</td>\n",
       "      <td>9992</td>\n",
       "      <td>76.5</td>\n",
       "      <td>72.025369</td>\n",
       "      <td>NaN</td>\n",
       "      <td>NaN</td>\n",
       "      <td>-0.11</td>\n",
       "      <td>None</td>\n",
       "      <td>None</td>\n",
       "    </tr>\n",
       "  </tbody>\n",
       "</table>\n",
       "<p>44159 rows × 21 columns</p>\n",
       "</div>"
      ],
      "text/plain": [
       "                                    ID    t     x     y  Mtb Area (µm)  \\\n",
       "ID                                                                       \n",
       "1.4.7.ND0004    0         1.4.7.ND0004    0    70  4350            NaN   \n",
       "                1         1.4.7.ND0004    1    81  4329     146.225987   \n",
       "                2         1.4.7.ND0004    2    50  4323     175.413079   \n",
       "                3         1.4.7.ND0004    3    77  4317     187.861172   \n",
       "                4         1.4.7.ND0004    4    56  4312            NaN   \n",
       "...                                ...  ...   ...   ...            ...   \n",
       "9992.4.7.ND0004 42631  9992.4.7.ND0004  149  2744   523            NaN   \n",
       "                42632  9992.4.7.ND0004  150  2744   531            NaN   \n",
       "                42633  9992.4.7.ND0004  151  2748   543      75.582499   \n",
       "                42634  9992.4.7.ND0004  152  2741   579      73.794622   \n",
       "                42635  9992.4.7.ND0004  153  2739   535            NaN   \n",
       "\n",
       "                       Mphi Area (µm) Infection Status  \\\n",
       "ID                                                       \n",
       "1.4.7.ND0004    0                 NaN              NaN   \n",
       "                1         1424.178095              NaN   \n",
       "                2         1445.319740              NaN   \n",
       "                3         1603.904427              NaN   \n",
       "                4                 NaN             True   \n",
       "...                               ...              ...   \n",
       "9992.4.7.ND0004 42631             NaN              NaN   \n",
       "                42632             NaN              NaN   \n",
       "                42633     2539.723929              NaN   \n",
       "                42634     2473.147860              NaN   \n",
       "                42635             NaN              NaN   \n",
       "\n",
       "                       Initial Infection Status  Final Infection Status  \\\n",
       "ID                                                                        \n",
       "1.4.7.ND0004    0                          True                    True   \n",
       "                1                          True                    True   \n",
       "                2                          True                    True   \n",
       "                3                          True                    True   \n",
       "                4                          True                    True   \n",
       "...                                         ...                     ...   \n",
       "9992.4.7.ND0004 42631                      True                    True   \n",
       "                42632                      True                    True   \n",
       "                42633                      True                    True   \n",
       "                42634                      True                    True   \n",
       "                42635                      True                    True   \n",
       "\n",
       "                             Unique_ID  ... Compound Concentration Cell ID  \\\n",
       "ID                                      ...                                  \n",
       "1.4.7.ND0004    0         1.4.7.ND0004  ...      RIF          EC99       1   \n",
       "                1         1.4.7.ND0004  ...      RIF          EC99       1   \n",
       "                2         1.4.7.ND0004  ...      RIF          EC99       1   \n",
       "                3         1.4.7.ND0004  ...      RIF          EC99       1   \n",
       "                4         1.4.7.ND0004  ...      RIF          EC99       1   \n",
       "...                                ...  ...      ...           ...     ...   \n",
       "9992.4.7.ND0004 42631  9992.4.7.ND0004  ...      RIF          EC99    9992   \n",
       "                42632  9992.4.7.ND0004  ...      RIF          EC99    9992   \n",
       "                42633  9992.4.7.ND0004  ...      RIF          EC99    9992   \n",
       "                42634  9992.4.7.ND0004  ...      RIF          EC99    9992   \n",
       "                42635  9992.4.7.ND0004  ...      RIF          EC99    9992   \n",
       "\n",
       "                       Time (hours)  Mtb Area Processed (µm)  \\\n",
       "ID                                                             \n",
       "1.4.7.ND0004    0               0.0                      NaN   \n",
       "                1               0.5                      NaN   \n",
       "                2               1.0                      NaN   \n",
       "                3               1.5                      NaN   \n",
       "                4               2.0                      NaN   \n",
       "...                             ...                      ...   \n",
       "9992.4.7.ND0004 42631          74.5                59.405006   \n",
       "                42632          75.0                62.807559   \n",
       "                42633          75.5                66.210112   \n",
       "                42634          76.0                69.612666   \n",
       "                42635          76.5                72.025369   \n",
       "\n",
       "                       Time Model (hours)  Mtb Area Model (µm)    r2  \\\n",
       "ID                                                                     \n",
       "1.4.7.ND0004    0                     NaN                  NaN -0.18   \n",
       "                1                     NaN                  NaN -0.18   \n",
       "                2                     NaN                  NaN -0.18   \n",
       "                3                     NaN                  NaN -0.18   \n",
       "                4                     0.0           216.739739 -0.18   \n",
       "...                                   ...                  ...   ...   \n",
       "9992.4.7.ND0004 42631                 NaN                  NaN -0.11   \n",
       "                42632                 NaN                  NaN -0.11   \n",
       "                42633                 NaN                  NaN -0.11   \n",
       "                42634                 NaN                  NaN -0.11   \n",
       "                42635                 NaN                  NaN -0.11   \n",
       "\n",
       "                       Doubling Amounts Doubling Times  \n",
       "ID                                                      \n",
       "1.4.7.ND0004    0                  None           None  \n",
       "                1                  None           None  \n",
       "                2                  None           None  \n",
       "                3                  None           None  \n",
       "                4                  None           None  \n",
       "...                                 ...            ...  \n",
       "9992.4.7.ND0004 42631              None           None  \n",
       "                42632              None           None  \n",
       "                42633              None           None  \n",
       "                42634              None           None  \n",
       "                42635              None           None  \n",
       "\n",
       "[44159 rows x 21 columns]"
      ]
     },
     "execution_count": 9,
     "metadata": {},
     "output_type": "execute_result"
    }
   ],
   "source": [
    "df"
   ]
  },
  {
   "cell_type": "code",
   "execution_count": 6,
   "id": "a0d99f9c-251e-49d3-ad82-d18ca79a3b6e",
   "metadata": {},
   "outputs": [],
   "source": [
    "N_skipped = 0\n",
    "N_processed = 0"
   ]
  },
  {
   "cell_type": "code",
   "execution_count": 10,
   "id": "827a517c-87ee-4fc9-bf10-4a039e28e178",
   "metadata": {
    "scrolled": true
   },
   "outputs": [
    {
     "data": {
      "application/vnd.jupyter.widget-view+json": {
       "model_id": "a470a84e7d4a47f5b20b10703e43f5c3",
       "version_major": 2,
       "version_minor": 0
      },
      "text/plain": [
       "  0%|          | 0/396 [00:00<?, ?it/s]"
      ]
     },
     "metadata": {},
     "output_type": "display_data"
    },
    {
     "name": "stderr",
     "output_type": "stream",
     "text": [
      "[INFO][2024/10/28 11:16:35 AM] Opening HDF file: /mnt/SYNO/macrohet_syno/data/ND0004/labels/cpv3/(4, 7).h5...\n"
     ]
    },
    {
     "name": "stdout",
     "output_type": "stream",
     "text": [
      "Skipping ID 1.4.7.ND0004 as r2 = -0.18\n",
      "Skipping ID 10.4.7.ND0004 as r2 = 0.27\n",
      "Skipping ID 1018.4.7.ND0004 as r2 = 0.04\n",
      "Skipping ID 10207.4.7.ND0004 as r2 = -1.14\n"
     ]
    },
    {
     "name": "stderr",
     "output_type": "stream",
     "text": [
      "[INFO][2024/10/28 11:16:55 AM] Loading segmentation (154, 6048, 6048)\n",
      "[INFO][2024/10/28 11:16:55 AM] Closing HDF file: /mnt/SYNO/macrohet_syno/data/ND0004/labels/cpv3/(4, 7).h5\n"
     ]
    },
    {
     "data": {
      "application/vnd.jupyter.widget-view+json": {
       "model_id": "5b22db31bd5c4c7b926bbc5263c85e58",
       "version_major": 2,
       "version_minor": 0
      },
      "text/plain": [
       "Creating glimpse 10224.4.7.ND0004:   0%|          | 0/103 [00:00<?, ?it/s]"
      ]
     },
     "metadata": {},
     "output_type": "display_data"
    },
    {
     "data": {
      "application/vnd.jupyter.widget-view+json": {
       "model_id": "7c922fe04fce4d87ab30ad7a0d59af40",
       "version_major": 2,
       "version_minor": 0
      },
      "text/plain": [
       "Creating glimpse 1042.4.7.ND0004:   0%|          | 0/142 [00:00<?, ?it/s]"
      ]
     },
     "metadata": {},
     "output_type": "display_data"
    },
    {
     "name": "stdout",
     "output_type": "stream",
     "text": [
      "Skipping ID 10428.4.7.ND0004 as r2 = -0.63\n",
      "Skipping ID 10448.4.7.ND0004 as r2 = 0.09\n",
      "Skipping ID 10484.4.7.ND0004 as r2 = -2.31\n",
      "Skipping ID 10516.4.7.ND0004 as r2 = -0.01\n",
      "Skipping ID 10529.4.7.ND0004 as r2 = 0.69\n",
      "Skipping ID 10653.4.7.ND0004 as r2 = 0.32\n",
      "Skipping ID 10659.4.7.ND0004 as r2 = 0.15\n",
      "Skipping ID 1074.4.7.ND0004 as r2 = 0.33\n",
      "Skipping ID 10823.4.7.ND0004 as r2 = 0.47\n",
      "Skipping ID 1084.4.7.ND0004 as r2 = 0.62\n",
      "Skipping ID 1089.4.7.ND0004 as r2 = -0.03\n",
      "Skipping ID 10928.4.7.ND0004 as r2 = 0.58\n",
      "Skipping ID 10977.4.7.ND0004 as r2 = 0.66\n",
      "Skipping ID 10998.4.7.ND0004 as r2 = 0.45\n"
     ]
    },
    {
     "data": {
      "application/vnd.jupyter.widget-view+json": {
       "model_id": "b41939ae74834ca0bf1ea152c3999ce4",
       "version_major": 2,
       "version_minor": 0
      },
      "text/plain": [
       "Creating glimpse 11.4.7.ND0004:   0%|          | 0/9 [00:00<?, ?it/s]"
      ]
     },
     "metadata": {},
     "output_type": "display_data"
    },
    {
     "name": "stdout",
     "output_type": "stream",
     "text": [
      "Skipping ID 1103.4.7.ND0004 as r2 = 0.6\n",
      "Skipping ID 11101.4.7.ND0004 as r2 = 0.53\n"
     ]
    },
    {
     "data": {
      "application/vnd.jupyter.widget-view+json": {
       "model_id": "ae2843d6e42b45f1a6ab81ae0e1d6203",
       "version_major": 2,
       "version_minor": 0
      },
      "text/plain": [
       "Creating glimpse 11128.4.7.ND0004:   0%|          | 0/97 [00:00<?, ?it/s]"
      ]
     },
     "metadata": {},
     "output_type": "display_data"
    },
    {
     "name": "stdout",
     "output_type": "stream",
     "text": [
      "Skipping ID 1113.4.7.ND0004 as r2 = 0.41\n",
      "Skipping ID 1140.4.7.ND0004 as r2 = 0.43\n"
     ]
    },
    {
     "data": {
      "application/vnd.jupyter.widget-view+json": {
       "model_id": "0b12d69325e54e8494821d531d92f923",
       "version_major": 2,
       "version_minor": 0
      },
      "text/plain": [
       "Creating glimpse 1153.4.7.ND0004:   0%|          | 0/136 [00:00<?, ?it/s]"
      ]
     },
     "metadata": {},
     "output_type": "display_data"
    },
    {
     "data": {
      "application/vnd.jupyter.widget-view+json": {
       "model_id": "be734a5792414daf85e07728f99125f8",
       "version_major": 2,
       "version_minor": 0
      },
      "text/plain": [
       "Creating glimpse 1155.4.7.ND0004:   0%|          | 0/154 [00:00<?, ?it/s]"
      ]
     },
     "metadata": {},
     "output_type": "display_data"
    },
    {
     "data": {
      "application/vnd.jupyter.widget-view+json": {
       "model_id": "0b59ea664fd04cd7afe863a2a457359e",
       "version_major": 2,
       "version_minor": 0
      },
      "text/plain": [
       "Creating glimpse 12.4.7.ND0004:   0%|          | 0/4 [00:00<?, ?it/s]"
      ]
     },
     "metadata": {},
     "output_type": "display_data"
    },
    {
     "name": "stdout",
     "output_type": "stream",
     "text": [
      "Skipping ID 120.4.7.ND0004 as r2 = -0.05\n"
     ]
    },
    {
     "data": {
      "application/vnd.jupyter.widget-view+json": {
       "model_id": "bf15c9978eca4f7898b961b9bafd4615",
       "version_major": 2,
       "version_minor": 0
      },
      "text/plain": [
       "Creating glimpse 1209.4.7.ND0004:   0%|          | 0/79 [00:00<?, ?it/s]"
      ]
     },
     "metadata": {},
     "output_type": "display_data"
    },
    {
     "name": "stdout",
     "output_type": "stream",
     "text": [
      "Skipping ID 128.4.7.ND0004 as r2 = 0.69\n"
     ]
    },
    {
     "data": {
      "application/vnd.jupyter.widget-view+json": {
       "model_id": "1605c0c642564a4e891d85903d027a34",
       "version_major": 2,
       "version_minor": 0
      },
      "text/plain": [
       "Creating glimpse 1287.4.7.ND0004:   0%|          | 0/80 [00:00<?, ?it/s]"
      ]
     },
     "metadata": {},
     "output_type": "display_data"
    },
    {
     "name": "stdout",
     "output_type": "stream",
     "text": [
      "Skipping ID 1292.4.7.ND0004 as r2 = 0.57\n",
      "Skipping ID 13.4.7.ND0004 as r2 = -0.23\n"
     ]
    },
    {
     "data": {
      "application/vnd.jupyter.widget-view+json": {
       "model_id": "52dbcebb664647f5ae643510e08a00d2",
       "version_major": 2,
       "version_minor": 0
      },
      "text/plain": [
       "Creating glimpse 1352.4.7.ND0004:   0%|          | 0/131 [00:00<?, ?it/s]"
      ]
     },
     "metadata": {},
     "output_type": "display_data"
    },
    {
     "name": "stdout",
     "output_type": "stream",
     "text": [
      "Skipping ID 1384.4.7.ND0004 as r2 = 0.23\n",
      "Skipping ID 1393.4.7.ND0004 as r2 = 0.64\n",
      "Skipping ID 14.4.7.ND0004 as r2 = -0.93\n"
     ]
    },
    {
     "data": {
      "application/vnd.jupyter.widget-view+json": {
       "model_id": "6bffaeddb0ff4215a749347b8c5700ad",
       "version_major": 2,
       "version_minor": 0
      },
      "text/plain": [
       "Creating glimpse 1444.4.7.ND0004:   0%|          | 0/93 [00:00<?, ?it/s]"
      ]
     },
     "metadata": {},
     "output_type": "display_data"
    },
    {
     "name": "stdout",
     "output_type": "stream",
     "text": [
      "Skipping ID 1481.4.7.ND0004 as r2 = -0.86\n",
      "Skipping ID 1489.4.7.ND0004 as r2 = 0.68\n",
      "Skipping ID 1490.4.7.ND0004 as r2 = 0.63\n",
      "Skipping ID 15.4.7.ND0004 as r2 = -0.01\n",
      "Skipping ID 1505.4.7.ND0004 as r2 = -0.28\n",
      "Skipping ID 1509.4.7.ND0004 as r2 = -0.03\n"
     ]
    },
    {
     "data": {
      "application/vnd.jupyter.widget-view+json": {
       "model_id": "e2215eba7def4ca9ae3f58873c53f043",
       "version_major": 2,
       "version_minor": 0
      },
      "text/plain": [
       "Creating glimpse 1510.4.7.ND0004:   0%|          | 0/113 [00:00<?, ?it/s]"
      ]
     },
     "metadata": {},
     "output_type": "display_data"
    },
    {
     "name": "stdout",
     "output_type": "stream",
     "text": [
      "Skipping ID 1528.4.7.ND0004 as r2 = -0.06\n",
      "Skipping ID 1540.4.7.ND0004 as r2 = 0.61\n",
      "Skipping ID 1581.4.7.ND0004 as r2 = 0.31\n",
      "Skipping ID 1588.4.7.ND0004 as r2 = 0.64\n"
     ]
    },
    {
     "data": {
      "application/vnd.jupyter.widget-view+json": {
       "model_id": "626082818d4b4e2db8e9c537ea80f6a0",
       "version_major": 2,
       "version_minor": 0
      },
      "text/plain": [
       "Creating glimpse 1593.4.7.ND0004:   0%|          | 0/154 [00:00<?, ?it/s]"
      ]
     },
     "metadata": {},
     "output_type": "display_data"
    },
    {
     "name": "stdout",
     "output_type": "stream",
     "text": [
      "Skipping ID 1594.4.7.ND0004 as r2 = -0.83\n",
      "Skipping ID 16.4.7.ND0004 as r2 = -0.03\n",
      "Skipping ID 1625.4.7.ND0004 as r2 = -1.04\n",
      "Skipping ID 1650.4.7.ND0004 as r2 = 0.63\n",
      "Skipping ID 17.4.7.ND0004 as r2 = -0.27\n",
      "Skipping ID 1703.4.7.ND0004 as r2 = 0.42\n",
      "Skipping ID 1723.4.7.ND0004 as r2 = 0.68\n",
      "Skipping ID 1740.4.7.ND0004 as r2 = 0.53\n",
      "Skipping ID 1745.4.7.ND0004 as r2 = 0.36\n"
     ]
    },
    {
     "data": {
      "application/vnd.jupyter.widget-view+json": {
       "model_id": "f836a07cec704f368f80e2b9d2f577a6",
       "version_major": 2,
       "version_minor": 0
      },
      "text/plain": [
       "Creating glimpse 1753.4.7.ND0004:   0%|          | 0/154 [00:00<?, ?it/s]"
      ]
     },
     "metadata": {},
     "output_type": "display_data"
    },
    {
     "name": "stdout",
     "output_type": "stream",
     "text": [
      "Skipping ID 1767.4.7.ND0004 as r2 = 0.34\n",
      "Skipping ID 1775.4.7.ND0004 as r2 = 0.66\n"
     ]
    },
    {
     "data": {
      "application/vnd.jupyter.widget-view+json": {
       "model_id": "3d3414bb5bb948b8ad7ea3bf2fc3a29f",
       "version_major": 2,
       "version_minor": 0
      },
      "text/plain": [
       "Creating glimpse 1778.4.7.ND0004:   0%|          | 0/154 [00:00<?, ?it/s]"
      ]
     },
     "metadata": {},
     "output_type": "display_data"
    },
    {
     "data": {
      "application/vnd.jupyter.widget-view+json": {
       "model_id": "451e378c91eb4bc6a18f2cd055d1ae26",
       "version_major": 2,
       "version_minor": 0
      },
      "text/plain": [
       "Creating glimpse 18.4.7.ND0004:   0%|          | 0/2 [00:00<?, ?it/s]"
      ]
     },
     "metadata": {},
     "output_type": "display_data"
    },
    {
     "name": "stdout",
     "output_type": "stream",
     "text": [
      "Skipping ID 1801.4.7.ND0004 as r2 = -0.02\n"
     ]
    },
    {
     "data": {
      "application/vnd.jupyter.widget-view+json": {
       "model_id": "3332168ba38e46108dfcdd955f6cbe56",
       "version_major": 2,
       "version_minor": 0
      },
      "text/plain": [
       "Creating glimpse 1808.4.7.ND0004:   0%|          | 0/90 [00:00<?, ?it/s]"
      ]
     },
     "metadata": {},
     "output_type": "display_data"
    },
    {
     "name": "stdout",
     "output_type": "stream",
     "text": [
      "Skipping ID 1823.4.7.ND0004 as r2 = -0.03\n"
     ]
    },
    {
     "data": {
      "application/vnd.jupyter.widget-view+json": {
       "model_id": "281c0e9626004e7bad760e2ce1d054f9",
       "version_major": 2,
       "version_minor": 0
      },
      "text/plain": [
       "Creating glimpse 1833.4.7.ND0004:   0%|          | 0/154 [00:00<?, ?it/s]"
      ]
     },
     "metadata": {},
     "output_type": "display_data"
    },
    {
     "name": "stdout",
     "output_type": "stream",
     "text": [
      "Skipping ID 1846.4.7.ND0004 as r2 = 0.53\n",
      "Skipping ID 1871.4.7.ND0004 as r2 = 0.43\n",
      "Skipping ID 1874.4.7.ND0004 as r2 = 0.51\n"
     ]
    },
    {
     "data": {
      "application/vnd.jupyter.widget-view+json": {
       "model_id": "122eecc7248b463dbcc49a2a9a984315",
       "version_major": 2,
       "version_minor": 0
      },
      "text/plain": [
       "Creating glimpse 1897.4.7.ND0004:   0%|          | 0/120 [00:00<?, ?it/s]"
      ]
     },
     "metadata": {},
     "output_type": "display_data"
    },
    {
     "data": {
      "application/vnd.jupyter.widget-view+json": {
       "model_id": "7238dcb41dea451dbef2c470b57a16c1",
       "version_major": 2,
       "version_minor": 0
      },
      "text/plain": [
       "Creating glimpse 19.4.7.ND0004:   0%|          | 0/2 [00:00<?, ?it/s]"
      ]
     },
     "metadata": {},
     "output_type": "display_data"
    },
    {
     "name": "stdout",
     "output_type": "stream",
     "text": [
      "Skipping ID 1920.4.7.ND0004 as r2 = -0.03\n",
      "Skipping ID 1926.4.7.ND0004 as r2 = -0.13\n"
     ]
    },
    {
     "data": {
      "application/vnd.jupyter.widget-view+json": {
       "model_id": "1480ec5840fb49eeba776d789ed2f6c0",
       "version_major": 2,
       "version_minor": 0
      },
      "text/plain": [
       "Creating glimpse 1929.4.7.ND0004:   0%|          | 0/154 [00:00<?, ?it/s]"
      ]
     },
     "metadata": {},
     "output_type": "display_data"
    },
    {
     "name": "stdout",
     "output_type": "stream",
     "text": [
      "Skipping ID 1940.4.7.ND0004 as r2 = -0.14\n"
     ]
    },
    {
     "data": {
      "application/vnd.jupyter.widget-view+json": {
       "model_id": "9a35d79b413041c4bec4eb5835bf2bac",
       "version_major": 2,
       "version_minor": 0
      },
      "text/plain": [
       "Creating glimpse 1941.4.7.ND0004:   0%|          | 0/154 [00:00<?, ?it/s]"
      ]
     },
     "metadata": {},
     "output_type": "display_data"
    },
    {
     "name": "stdout",
     "output_type": "stream",
     "text": [
      "Skipping ID 1950.4.7.ND0004 as r2 = 0.51\n",
      "Skipping ID 1972.4.7.ND0004 as r2 = 0.3\n",
      "Skipping ID 1982.4.7.ND0004 as r2 = -0.09\n",
      "Skipping ID 2.4.7.ND0004 as r2 = -2.18\n",
      "Skipping ID 20.4.7.ND0004 as r2 = -0.37\n",
      "Skipping ID 2012.4.7.ND0004 as r2 = 0.28\n"
     ]
    },
    {
     "data": {
      "application/vnd.jupyter.widget-view+json": {
       "model_id": "cde6cebf521745498c5746746e034590",
       "version_major": 2,
       "version_minor": 0
      },
      "text/plain": [
       "Creating glimpse 2073.4.7.ND0004:   0%|          | 0/154 [00:00<?, ?it/s]"
      ]
     },
     "metadata": {},
     "output_type": "display_data"
    },
    {
     "data": {
      "application/vnd.jupyter.widget-view+json": {
       "model_id": "cfc86e7e34e94e81888bead5be461b92",
       "version_major": 2,
       "version_minor": 0
      },
      "text/plain": [
       "Creating glimpse 2080.4.7.ND0004:   0%|          | 0/76 [00:00<?, ?it/s]"
      ]
     },
     "metadata": {},
     "output_type": "display_data"
    },
    {
     "name": "stdout",
     "output_type": "stream",
     "text": [
      "Skipping ID 2088.4.7.ND0004 as r2 = 0.23\n"
     ]
    },
    {
     "data": {
      "application/vnd.jupyter.widget-view+json": {
       "model_id": "60c3868b82f348d99ae79c46bf602b25",
       "version_major": 2,
       "version_minor": 0
      },
      "text/plain": [
       "Creating glimpse 2096.4.7.ND0004:   0%|          | 0/77 [00:00<?, ?it/s]"
      ]
     },
     "metadata": {},
     "output_type": "display_data"
    },
    {
     "name": "stdout",
     "output_type": "stream",
     "text": [
      "Skipping ID 21.4.7.ND0004 as r2 = -0.13\n"
     ]
    },
    {
     "data": {
      "application/vnd.jupyter.widget-view+json": {
       "model_id": "ccf02fb256b646a0b36e92117fb2c658",
       "version_major": 2,
       "version_minor": 0
      },
      "text/plain": [
       "Creating glimpse 2100.4.7.ND0004:   0%|          | 0/79 [00:00<?, ?it/s]"
      ]
     },
     "metadata": {},
     "output_type": "display_data"
    },
    {
     "name": "stdout",
     "output_type": "stream",
     "text": [
      "Skipping ID 2122.4.7.ND0004 as r2 = 0.55\n",
      "Skipping ID 2129.4.7.ND0004 as r2 = -0.29\n",
      "Skipping ID 2132.4.7.ND0004 as r2 = 0.64\n"
     ]
    },
    {
     "data": {
      "application/vnd.jupyter.widget-view+json": {
       "model_id": "f1ac57c64894455585a25f84dc7f968c",
       "version_major": 2,
       "version_minor": 0
      },
      "text/plain": [
       "Creating glimpse 2136.4.7.ND0004:   0%|          | 0/109 [00:00<?, ?it/s]"
      ]
     },
     "metadata": {},
     "output_type": "display_data"
    },
    {
     "data": {
      "application/vnd.jupyter.widget-view+json": {
       "model_id": "96aa61f309a749e2b2a3996e3820c86f",
       "version_major": 2,
       "version_minor": 0
      },
      "text/plain": [
       "Creating glimpse 2142.4.7.ND0004:   0%|          | 0/86 [00:00<?, ?it/s]"
      ]
     },
     "metadata": {},
     "output_type": "display_data"
    },
    {
     "name": "stdout",
     "output_type": "stream",
     "text": [
      "Skipping ID 2152.4.7.ND0004 as r2 = 0.14\n",
      "Skipping ID 2155.4.7.ND0004 as r2 = 0.56\n",
      "Skipping ID 2161.4.7.ND0004 as r2 = 0.62\n"
     ]
    },
    {
     "data": {
      "application/vnd.jupyter.widget-view+json": {
       "model_id": "f442be95147c403fadf683066ea65ab5",
       "version_major": 2,
       "version_minor": 0
      },
      "text/plain": [
       "Creating glimpse 2187.4.7.ND0004:   0%|          | 0/154 [00:00<?, ?it/s]"
      ]
     },
     "metadata": {},
     "output_type": "display_data"
    },
    {
     "data": {
      "application/vnd.jupyter.widget-view+json": {
       "model_id": "11d5375d491b41f688276709b58458e9",
       "version_major": 2,
       "version_minor": 0
      },
      "text/plain": [
       "Creating glimpse 2194.4.7.ND0004:   0%|          | 0/154 [00:00<?, ?it/s]"
      ]
     },
     "metadata": {},
     "output_type": "display_data"
    },
    {
     "data": {
      "application/vnd.jupyter.widget-view+json": {
       "model_id": "1c38c86848a7453bbb2bda06c18f80a0",
       "version_major": 2,
       "version_minor": 0
      },
      "text/plain": [
       "Creating glimpse 2197.4.7.ND0004:   0%|          | 0/94 [00:00<?, ?it/s]"
      ]
     },
     "metadata": {},
     "output_type": "display_data"
    },
    {
     "name": "stdout",
     "output_type": "stream",
     "text": [
      "Skipping ID 22.4.7.ND0004 as r2 = 0.14\n",
      "Skipping ID 2205.4.7.ND0004 as r2 = -0.87\n"
     ]
    },
    {
     "data": {
      "application/vnd.jupyter.widget-view+json": {
       "model_id": "76ec5d52a96644eb95865c5248845bf4",
       "version_major": 2,
       "version_minor": 0
      },
      "text/plain": [
       "Creating glimpse 2228.4.7.ND0004:   0%|          | 0/154 [00:00<?, ?it/s]"
      ]
     },
     "metadata": {},
     "output_type": "display_data"
    },
    {
     "name": "stdout",
     "output_type": "stream",
     "text": [
      "Skipping ID 2249.4.7.ND0004 as r2 = 0.46\n",
      "Skipping ID 2287.4.7.ND0004 as r2 = 0.62\n"
     ]
    },
    {
     "data": {
      "application/vnd.jupyter.widget-view+json": {
       "model_id": "5dc906080eef4120980e40a89506546a",
       "version_major": 2,
       "version_minor": 0
      },
      "text/plain": [
       "Creating glimpse 23.4.7.ND0004:   0%|          | 0/8 [00:00<?, ?it/s]"
      ]
     },
     "metadata": {},
     "output_type": "display_data"
    },
    {
     "name": "stdout",
     "output_type": "stream",
     "text": [
      "Skipping ID 2310.4.7.ND0004 as r2 = 0.44\n",
      "Skipping ID 2332.4.7.ND0004 as r2 = 0.5\n"
     ]
    },
    {
     "data": {
      "application/vnd.jupyter.widget-view+json": {
       "model_id": "419b627b1586496f8dd716a565e5073c",
       "version_major": 2,
       "version_minor": 0
      },
      "text/plain": [
       "Creating glimpse 2334.4.7.ND0004:   0%|          | 0/154 [00:00<?, ?it/s]"
      ]
     },
     "metadata": {},
     "output_type": "display_data"
    },
    {
     "name": "stdout",
     "output_type": "stream",
     "text": [
      "Skipping ID 2335.4.7.ND0004 as r2 = 0.54\n"
     ]
    },
    {
     "data": {
      "application/vnd.jupyter.widget-view+json": {
       "model_id": "0600fc16f20a49978969d086edca1ef6",
       "version_major": 2,
       "version_minor": 0
      },
      "text/plain": [
       "Creating glimpse 2374.4.7.ND0004:   0%|          | 0/97 [00:00<?, ?it/s]"
      ]
     },
     "metadata": {},
     "output_type": "display_data"
    },
    {
     "data": {
      "application/vnd.jupyter.widget-view+json": {
       "model_id": "19314184e08d4b93b8fff4c806b17d00",
       "version_major": 2,
       "version_minor": 0
      },
      "text/plain": [
       "Creating glimpse 2399.4.7.ND0004:   0%|          | 0/154 [00:00<?, ?it/s]"
      ]
     },
     "metadata": {},
     "output_type": "display_data"
    },
    {
     "name": "stdout",
     "output_type": "stream",
     "text": [
      "Skipping ID 24.4.7.ND0004 as r2 = 0.44\n"
     ]
    },
    {
     "data": {
      "application/vnd.jupyter.widget-view+json": {
       "model_id": "db67c85c25a24ccfb5e299fe1a24249d",
       "version_major": 2,
       "version_minor": 0
      },
      "text/plain": [
       "Creating glimpse 2418.4.7.ND0004:   0%|          | 0/154 [00:00<?, ?it/s]"
      ]
     },
     "metadata": {},
     "output_type": "display_data"
    },
    {
     "name": "stdout",
     "output_type": "stream",
     "text": [
      "Skipping ID 2428.4.7.ND0004 as r2 = -0.01\n"
     ]
    },
    {
     "data": {
      "application/vnd.jupyter.widget-view+json": {
       "model_id": "f523d4ff9d03429eb5c68bfd4c0bf909",
       "version_major": 2,
       "version_minor": 0
      },
      "text/plain": [
       "Creating glimpse 2437.4.7.ND0004:   0%|          | 0/154 [00:00<?, ?it/s]"
      ]
     },
     "metadata": {},
     "output_type": "display_data"
    },
    {
     "data": {
      "application/vnd.jupyter.widget-view+json": {
       "model_id": "330748f672fa42c7938d866ef0ab1b60",
       "version_major": 2,
       "version_minor": 0
      },
      "text/plain": [
       "Creating glimpse 2439.4.7.ND0004:   0%|          | 0/154 [00:00<?, ?it/s]"
      ]
     },
     "metadata": {},
     "output_type": "display_data"
    },
    {
     "data": {
      "application/vnd.jupyter.widget-view+json": {
       "model_id": "2a7fd10d303d4b17917e33de88dd8433",
       "version_major": 2,
       "version_minor": 0
      },
      "text/plain": [
       "Creating glimpse 2449.4.7.ND0004:   0%|          | 0/78 [00:00<?, ?it/s]"
      ]
     },
     "metadata": {},
     "output_type": "display_data"
    },
    {
     "data": {
      "application/vnd.jupyter.widget-view+json": {
       "model_id": "f3a4eaa4eac84c60ae51d70b11705ad0",
       "version_major": 2,
       "version_minor": 0
      },
      "text/plain": [
       "Creating glimpse 2493.4.7.ND0004:   0%|          | 0/154 [00:00<?, ?it/s]"
      ]
     },
     "metadata": {},
     "output_type": "display_data"
    },
    {
     "data": {
      "application/vnd.jupyter.widget-view+json": {
       "model_id": "f3ebcb33a8594c9787f1f2eec90914a7",
       "version_major": 2,
       "version_minor": 0
      },
      "text/plain": [
       "Creating glimpse 25.4.7.ND0004:   0%|          | 0/42 [00:00<?, ?it/s]"
      ]
     },
     "metadata": {},
     "output_type": "display_data"
    },
    {
     "name": "stdout",
     "output_type": "stream",
     "text": [
      "Skipping ID 2508.4.7.ND0004 as r2 = 0.57\n",
      "Skipping ID 253.4.7.ND0004 as r2 = 0.43\n",
      "Skipping ID 2559.4.7.ND0004 as r2 = 0.66\n"
     ]
    },
    {
     "data": {
      "application/vnd.jupyter.widget-view+json": {
       "model_id": "ce86821ab93745adb3d256a6d6ab0081",
       "version_major": 2,
       "version_minor": 0
      },
      "text/plain": [
       "Creating glimpse 258.4.7.ND0004:   0%|          | 0/154 [00:00<?, ?it/s]"
      ]
     },
     "metadata": {},
     "output_type": "display_data"
    },
    {
     "name": "stdout",
     "output_type": "stream",
     "text": [
      "Skipping ID 259.4.7.ND0004 as r2 = 0.69\n",
      "Skipping ID 2596.4.7.ND0004 as r2 = 0.16\n"
     ]
    },
    {
     "data": {
      "application/vnd.jupyter.widget-view+json": {
       "model_id": "999ebf61a378487292ede4d740acbfe0",
       "version_major": 2,
       "version_minor": 0
      },
      "text/plain": [
       "Creating glimpse 26.4.7.ND0004:   0%|          | 0/5 [00:00<?, ?it/s]"
      ]
     },
     "metadata": {},
     "output_type": "display_data"
    },
    {
     "data": {
      "application/vnd.jupyter.widget-view+json": {
       "model_id": "713f32195ee74e64b4282cb51146de60",
       "version_major": 2,
       "version_minor": 0
      },
      "text/plain": [
       "Creating glimpse 2605.4.7.ND0004:   0%|          | 0/106 [00:00<?, ?it/s]"
      ]
     },
     "metadata": {},
     "output_type": "display_data"
    },
    {
     "data": {
      "application/vnd.jupyter.widget-view+json": {
       "model_id": "c13ef7bb5bbc463b883ceae30d6af0ff",
       "version_major": 2,
       "version_minor": 0
      },
      "text/plain": [
       "Creating glimpse 2611.4.7.ND0004:   0%|          | 0/80 [00:00<?, ?it/s]"
      ]
     },
     "metadata": {},
     "output_type": "display_data"
    },
    {
     "name": "stdout",
     "output_type": "stream",
     "text": [
      "Skipping ID 2615.4.7.ND0004 as r2 = 0.32\n",
      "Skipping ID 2618.4.7.ND0004 as r2 = 0.66\n"
     ]
    },
    {
     "data": {
      "application/vnd.jupyter.widget-view+json": {
       "model_id": "494287945aae4310acde61abe6ac74d4",
       "version_major": 2,
       "version_minor": 0
      },
      "text/plain": [
       "Creating glimpse 262.4.7.ND0004:   0%|          | 0/106 [00:00<?, ?it/s]"
      ]
     },
     "metadata": {},
     "output_type": "display_data"
    },
    {
     "name": "stdout",
     "output_type": "stream",
     "text": [
      "Skipping ID 2620.4.7.ND0004 as r2 = 0.64\n"
     ]
    },
    {
     "data": {
      "application/vnd.jupyter.widget-view+json": {
       "model_id": "34de7b5d1f254b97b8c34594161345c1",
       "version_major": 2,
       "version_minor": 0
      },
      "text/plain": [
       "Creating glimpse 2627.4.7.ND0004:   0%|          | 0/112 [00:00<?, ?it/s]"
      ]
     },
     "metadata": {},
     "output_type": "display_data"
    },
    {
     "data": {
      "application/vnd.jupyter.widget-view+json": {
       "model_id": "5d9102284afe4e27902e0bcd9367f552",
       "version_major": 2,
       "version_minor": 0
      },
      "text/plain": [
       "Creating glimpse 2637.4.7.ND0004:   0%|          | 0/154 [00:00<?, ?it/s]"
      ]
     },
     "metadata": {},
     "output_type": "display_data"
    },
    {
     "data": {
      "application/vnd.jupyter.widget-view+json": {
       "model_id": "f5f66bca99ce4715a6d249a6d3b1f1d7",
       "version_major": 2,
       "version_minor": 0
      },
      "text/plain": [
       "Creating glimpse 264.4.7.ND0004:   0%|          | 0/106 [00:00<?, ?it/s]"
      ]
     },
     "metadata": {},
     "output_type": "display_data"
    },
    {
     "data": {
      "application/vnd.jupyter.widget-view+json": {
       "model_id": "db88daa108dc43d3bfffc2aa815ecb99",
       "version_major": 2,
       "version_minor": 0
      },
      "text/plain": [
       "Creating glimpse 2642.4.7.ND0004:   0%|          | 0/92 [00:00<?, ?it/s]"
      ]
     },
     "metadata": {},
     "output_type": "display_data"
    },
    {
     "data": {
      "application/vnd.jupyter.widget-view+json": {
       "model_id": "d9b6559b504749ae8227c7e11ca60c50",
       "version_major": 2,
       "version_minor": 0
      },
      "text/plain": [
       "Creating glimpse 266.4.7.ND0004:   0%|          | 0/103 [00:00<?, ?it/s]"
      ]
     },
     "metadata": {},
     "output_type": "display_data"
    },
    {
     "data": {
      "application/vnd.jupyter.widget-view+json": {
       "model_id": "673a53da3bb94d9abcff148b30766893",
       "version_major": 2,
       "version_minor": 0
      },
      "text/plain": [
       "Creating glimpse 27.4.7.ND0004:   0%|          | 0/2 [00:00<?, ?it/s]"
      ]
     },
     "metadata": {},
     "output_type": "display_data"
    },
    {
     "name": "stdout",
     "output_type": "stream",
     "text": [
      "Skipping ID 271.4.7.ND0004 as r2 = 0.42\n",
      "Skipping ID 274.4.7.ND0004 as r2 = 0.1\n"
     ]
    },
    {
     "data": {
      "application/vnd.jupyter.widget-view+json": {
       "model_id": "b57adf430de343c29c75718706484e88",
       "version_major": 2,
       "version_minor": 0
      },
      "text/plain": [
       "Creating glimpse 2747.4.7.ND0004:   0%|          | 0/137 [00:00<?, ?it/s]"
      ]
     },
     "metadata": {},
     "output_type": "display_data"
    },
    {
     "data": {
      "application/vnd.jupyter.widget-view+json": {
       "model_id": "7965db45fd90434090de41895132de0a",
       "version_major": 2,
       "version_minor": 0
      },
      "text/plain": [
       "Creating glimpse 277.4.7.ND0004:   0%|          | 0/80 [00:00<?, ?it/s]"
      ]
     },
     "metadata": {},
     "output_type": "display_data"
    },
    {
     "name": "stdout",
     "output_type": "stream",
     "text": [
      "Skipping ID 2779.4.7.ND0004 as r2 = -0.09\n",
      "Skipping ID 279.4.7.ND0004 as r2 = 0.51\n",
      "Skipping ID 2798.4.7.ND0004 as r2 = 0.03\n"
     ]
    },
    {
     "data": {
      "application/vnd.jupyter.widget-view+json": {
       "model_id": "478dd4b27f3e44109f36601bea07d2a9",
       "version_major": 2,
       "version_minor": 0
      },
      "text/plain": [
       "Creating glimpse 28.4.7.ND0004:   0%|          | 0/3 [00:00<?, ?it/s]"
      ]
     },
     "metadata": {},
     "output_type": "display_data"
    },
    {
     "name": "stdout",
     "output_type": "stream",
     "text": [
      "Skipping ID 2821.4.7.ND0004 as r2 = 0.04\n"
     ]
    },
    {
     "data": {
      "application/vnd.jupyter.widget-view+json": {
       "model_id": "04bdd04d43544136b89c80cf2481f290",
       "version_major": 2,
       "version_minor": 0
      },
      "text/plain": [
       "Creating glimpse 2826.4.7.ND0004:   0%|          | 0/108 [00:00<?, ?it/s]"
      ]
     },
     "metadata": {},
     "output_type": "display_data"
    },
    {
     "data": {
      "application/vnd.jupyter.widget-view+json": {
       "model_id": "fa7da2d086364941aa42536b67ab6eb5",
       "version_major": 2,
       "version_minor": 0
      },
      "text/plain": [
       "Creating glimpse 2833.4.7.ND0004:   0%|          | 0/96 [00:00<?, ?it/s]"
      ]
     },
     "metadata": {},
     "output_type": "display_data"
    },
    {
     "data": {
      "application/vnd.jupyter.widget-view+json": {
       "model_id": "df71fa1b589642fbbb24d43c42e117c2",
       "version_major": 2,
       "version_minor": 0
      },
      "text/plain": [
       "Creating glimpse 2842.4.7.ND0004:   0%|          | 0/127 [00:00<?, ?it/s]"
      ]
     },
     "metadata": {},
     "output_type": "display_data"
    },
    {
     "data": {
      "application/vnd.jupyter.widget-view+json": {
       "model_id": "8e143c6ad60b43e8a3b27a5b4cbb6262",
       "version_major": 2,
       "version_minor": 0
      },
      "text/plain": [
       "Creating glimpse 2845.4.7.ND0004:   0%|          | 0/154 [00:00<?, ?it/s]"
      ]
     },
     "metadata": {},
     "output_type": "display_data"
    },
    {
     "name": "stdout",
     "output_type": "stream",
     "text": [
      "Skipping ID 2853.4.7.ND0004 as r2 = 0.28\n",
      "Skipping ID 2871.4.7.ND0004 as r2 = 0.45\n"
     ]
    },
    {
     "data": {
      "application/vnd.jupyter.widget-view+json": {
       "model_id": "9f4971f3c608440fb5995d276bef913d",
       "version_major": 2,
       "version_minor": 0
      },
      "text/plain": [
       "Creating glimpse 2893.4.7.ND0004:   0%|          | 0/154 [00:00<?, ?it/s]"
      ]
     },
     "metadata": {},
     "output_type": "display_data"
    },
    {
     "data": {
      "application/vnd.jupyter.widget-view+json": {
       "model_id": "800d69e0162449babacd233fa87a529c",
       "version_major": 2,
       "version_minor": 0
      },
      "text/plain": [
       "Creating glimpse 29.4.7.ND0004:   0%|          | 0/5 [00:00<?, ?it/s]"
      ]
     },
     "metadata": {},
     "output_type": "display_data"
    },
    {
     "name": "stdout",
     "output_type": "stream",
     "text": [
      "Skipping ID 2906.4.7.ND0004 as r2 = 0.43\n",
      "Skipping ID 2924.4.7.ND0004 as r2 = -0.16\n"
     ]
    },
    {
     "data": {
      "application/vnd.jupyter.widget-view+json": {
       "model_id": "907f4ce7f95b49858e9260ce72509945",
       "version_major": 2,
       "version_minor": 0
      },
      "text/plain": [
       "Creating glimpse 2936.4.7.ND0004:   0%|          | 0/76 [00:00<?, ?it/s]"
      ]
     },
     "metadata": {},
     "output_type": "display_data"
    },
    {
     "name": "stdout",
     "output_type": "stream",
     "text": [
      "Skipping ID 2957.4.7.ND0004 as r2 = -0.36\n",
      "Skipping ID 3.4.7.ND0004 as r2 = 0.36\n",
      "Skipping ID 30.4.7.ND0004 as r2 = -0.29\n"
     ]
    },
    {
     "data": {
      "application/vnd.jupyter.widget-view+json": {
       "model_id": "333ca11ee5284f8896aa2f7aab4142b9",
       "version_major": 2,
       "version_minor": 0
      },
      "text/plain": [
       "Creating glimpse 3009.4.7.ND0004:   0%|          | 0/80 [00:00<?, ?it/s]"
      ]
     },
     "metadata": {},
     "output_type": "display_data"
    },
    {
     "name": "stdout",
     "output_type": "stream",
     "text": [
      "Skipping ID 3073.4.7.ND0004 as r2 = 0.46\n",
      "Skipping ID 3080.4.7.ND0004 as r2 = -0.02\n"
     ]
    },
    {
     "data": {
      "application/vnd.jupyter.widget-view+json": {
       "model_id": "dd8ae4045d8a46b19fd0266bf96c1b7f",
       "version_major": 2,
       "version_minor": 0
      },
      "text/plain": [
       "Creating glimpse 31.4.7.ND0004:   0%|          | 0/10 [00:00<?, ?it/s]"
      ]
     },
     "metadata": {},
     "output_type": "display_data"
    },
    {
     "name": "stdout",
     "output_type": "stream",
     "text": [
      "Skipping ID 3102.4.7.ND0004 as r2 = 0.64\n"
     ]
    },
    {
     "data": {
      "application/vnd.jupyter.widget-view+json": {
       "model_id": "677ead3d27684761ae1c1515192a04a6",
       "version_major": 2,
       "version_minor": 0
      },
      "text/plain": [
       "Creating glimpse 3116.4.7.ND0004:   0%|          | 0/84 [00:00<?, ?it/s]"
      ]
     },
     "metadata": {},
     "output_type": "display_data"
    },
    {
     "name": "stdout",
     "output_type": "stream",
     "text": [
      "Skipping ID 3118.4.7.ND0004 as r2 = 0.54\n",
      "Skipping ID 3148.4.7.ND0004 as r2 = 0.6\n",
      "Skipping ID 3170.4.7.ND0004 as r2 = 0.58\n"
     ]
    },
    {
     "data": {
      "application/vnd.jupyter.widget-view+json": {
       "model_id": "da4953e27eaf49168a97f7f916026ab1",
       "version_major": 2,
       "version_minor": 0
      },
      "text/plain": [
       "Creating glimpse 32.4.7.ND0004:   0%|          | 0/198 [00:00<?, ?it/s]"
      ]
     },
     "metadata": {},
     "output_type": "display_data"
    },
    {
     "data": {
      "application/vnd.jupyter.widget-view+json": {
       "model_id": "db6336d185264e828ebfc6bc5938bb4e",
       "version_major": 2,
       "version_minor": 0
      },
      "text/plain": [
       "Creating glimpse 3244.4.7.ND0004:   0%|          | 0/141 [00:00<?, ?it/s]"
      ]
     },
     "metadata": {},
     "output_type": "display_data"
    },
    {
     "name": "stdout",
     "output_type": "stream",
     "text": [
      "Skipping ID 3246.4.7.ND0004 as r2 = 0.34\n",
      "Skipping ID 3265.4.7.ND0004 as r2 = 0.61\n"
     ]
    },
    {
     "data": {
      "application/vnd.jupyter.widget-view+json": {
       "model_id": "c435d2c66f2d49bbaa3ac57a5576e443",
       "version_major": 2,
       "version_minor": 0
      },
      "text/plain": [
       "Creating glimpse 33.4.7.ND0004:   0%|          | 0/42 [00:00<?, ?it/s]"
      ]
     },
     "metadata": {},
     "output_type": "display_data"
    },
    {
     "data": {
      "application/vnd.jupyter.widget-view+json": {
       "model_id": "c1c45978de104eb785405b7cbbee99c4",
       "version_major": 2,
       "version_minor": 0
      },
      "text/plain": [
       "Creating glimpse 3372.4.7.ND0004:   0%|          | 0/77 [00:00<?, ?it/s]"
      ]
     },
     "metadata": {},
     "output_type": "display_data"
    },
    {
     "name": "stdout",
     "output_type": "stream",
     "text": [
      "Skipping ID 3379.4.7.ND0004 as r2 = -0.02\n"
     ]
    },
    {
     "data": {
      "application/vnd.jupyter.widget-view+json": {
       "model_id": "95efb9f04c714191a2ffa6eb3135c240",
       "version_major": 2,
       "version_minor": 0
      },
      "text/plain": [
       "Creating glimpse 3380.4.7.ND0004:   0%|          | 0/154 [00:00<?, ?it/s]"
      ]
     },
     "metadata": {},
     "output_type": "display_data"
    },
    {
     "data": {
      "application/vnd.jupyter.widget-view+json": {
       "model_id": "02c7ec67d46540af90ce7576ea511136",
       "version_major": 2,
       "version_minor": 0
      },
      "text/plain": [
       "Creating glimpse 34.4.7.ND0004:   0%|          | 0/15 [00:00<?, ?it/s]"
      ]
     },
     "metadata": {},
     "output_type": "display_data"
    },
    {
     "data": {
      "application/vnd.jupyter.widget-view+json": {
       "model_id": "67fd2c4588934f0383e3f5b6b534650c",
       "version_major": 2,
       "version_minor": 0
      },
      "text/plain": [
       "Creating glimpse 3412.4.7.ND0004:   0%|          | 0/100 [00:00<?, ?it/s]"
      ]
     },
     "metadata": {},
     "output_type": "display_data"
    },
    {
     "name": "stdout",
     "output_type": "stream",
     "text": [
      "Skipping ID 3434.4.7.ND0004 as r2 = 0.57\n",
      "Skipping ID 3499.4.7.ND0004 as r2 = 0.44\n",
      "Skipping ID 35.4.7.ND0004 as r2 = -0.33\n",
      "Skipping ID 3500.4.7.ND0004 as r2 = 0.3\n",
      "Skipping ID 3536.4.7.ND0004 as r2 = 0.52\n",
      "Skipping ID 357.4.7.ND0004 as r2 = 0.47\n"
     ]
    },
    {
     "data": {
      "application/vnd.jupyter.widget-view+json": {
       "model_id": "7f314246a6d34995af70dd691e93e7ea",
       "version_major": 2,
       "version_minor": 0
      },
      "text/plain": [
       "Creating glimpse 3587.4.7.ND0004:   0%|          | 0/86 [00:00<?, ?it/s]"
      ]
     },
     "metadata": {},
     "output_type": "display_data"
    },
    {
     "data": {
      "application/vnd.jupyter.widget-view+json": {
       "model_id": "4a173a22258f42e6bb2585030b86b684",
       "version_major": 2,
       "version_minor": 0
      },
      "text/plain": [
       "Creating glimpse 36.4.7.ND0004:   0%|          | 0/59 [00:00<?, ?it/s]"
      ]
     },
     "metadata": {},
     "output_type": "display_data"
    },
    {
     "data": {
      "application/vnd.jupyter.widget-view+json": {
       "model_id": "a9e18c546b464154b4502afece8ce1d0",
       "version_major": 2,
       "version_minor": 0
      },
      "text/plain": [
       "Creating glimpse 361.4.7.ND0004:   0%|          | 0/111 [00:00<?, ?it/s]"
      ]
     },
     "metadata": {},
     "output_type": "display_data"
    },
    {
     "data": {
      "application/vnd.jupyter.widget-view+json": {
       "model_id": "3b401ee13b834c04961215d1ac3b5bbe",
       "version_major": 2,
       "version_minor": 0
      },
      "text/plain": [
       "Creating glimpse 3616.4.7.ND0004:   0%|          | 0/154 [00:00<?, ?it/s]"
      ]
     },
     "metadata": {},
     "output_type": "display_data"
    },
    {
     "name": "stdout",
     "output_type": "stream",
     "text": [
      "Skipping ID 366.4.7.ND0004 as r2 = 0.4\n",
      "Skipping ID 3663.4.7.ND0004 as r2 = 0.42\n",
      "Skipping ID 3671.4.7.ND0004 as r2 = 0.39\n",
      "Skipping ID 3697.4.7.ND0004 as r2 = 0.04\n",
      "Skipping ID 37.4.7.ND0004 as r2 = -0.95\n",
      "Skipping ID 3711.4.7.ND0004 as r2 = 0.66\n"
     ]
    },
    {
     "data": {
      "application/vnd.jupyter.widget-view+json": {
       "model_id": "6beb0a119bb34646aff2d15284b6b29f",
       "version_major": 2,
       "version_minor": 0
      },
      "text/plain": [
       "Creating glimpse 3758.4.7.ND0004:   0%|          | 0/85 [00:00<?, ?it/s]"
      ]
     },
     "metadata": {},
     "output_type": "display_data"
    },
    {
     "name": "stdout",
     "output_type": "stream",
     "text": [
      "Skipping ID 3764.4.7.ND0004 as r2 = 0.46\n",
      "Skipping ID 3765.4.7.ND0004 as r2 = 0.68\n"
     ]
    },
    {
     "data": {
      "application/vnd.jupyter.widget-view+json": {
       "model_id": "707e2827526e43989bbfb37eb046b84b",
       "version_major": 2,
       "version_minor": 0
      },
      "text/plain": [
       "Creating glimpse 3784.4.7.ND0004:   0%|          | 0/115 [00:00<?, ?it/s]"
      ]
     },
     "metadata": {},
     "output_type": "display_data"
    },
    {
     "data": {
      "application/vnd.jupyter.widget-view+json": {
       "model_id": "56fa00594f314dddb153e9c1ab9da9f1",
       "version_major": 2,
       "version_minor": 0
      },
      "text/plain": [
       "Creating glimpse 3791.4.7.ND0004:   0%|          | 0/141 [00:00<?, ?it/s]"
      ]
     },
     "metadata": {},
     "output_type": "display_data"
    },
    {
     "name": "stdout",
     "output_type": "stream",
     "text": [
      "Skipping ID 38.4.7.ND0004 as r2 = -0.07\n",
      "Skipping ID 39.4.7.ND0004 as r2 = -33.91\n"
     ]
    },
    {
     "data": {
      "application/vnd.jupyter.widget-view+json": {
       "model_id": "0e154ba026e04a3dbfbf247d443109ab",
       "version_major": 2,
       "version_minor": 0
      },
      "text/plain": [
       "Creating glimpse 3903.4.7.ND0004:   0%|          | 0/91 [00:00<?, ?it/s]"
      ]
     },
     "metadata": {},
     "output_type": "display_data"
    },
    {
     "data": {
      "application/vnd.jupyter.widget-view+json": {
       "model_id": "99fb5d7f35764bcdaedb6b9ce3a2bdd5",
       "version_major": 2,
       "version_minor": 0
      },
      "text/plain": [
       "Creating glimpse 3912.4.7.ND0004:   0%|          | 0/154 [00:00<?, ?it/s]"
      ]
     },
     "metadata": {},
     "output_type": "display_data"
    },
    {
     "data": {
      "application/vnd.jupyter.widget-view+json": {
       "model_id": "8f7cb54436074520a674ee3e2c578211",
       "version_major": 2,
       "version_minor": 0
      },
      "text/plain": [
       "Creating glimpse 3918.4.7.ND0004:   0%|          | 0/154 [00:00<?, ?it/s]"
      ]
     },
     "metadata": {},
     "output_type": "display_data"
    },
    {
     "name": "stdout",
     "output_type": "stream",
     "text": [
      "Skipping ID 3934.4.7.ND0004 as r2 = 0.56\n"
     ]
    },
    {
     "data": {
      "application/vnd.jupyter.widget-view+json": {
       "model_id": "b6df7f6432534f938570d7f9cdd6f44e",
       "version_major": 2,
       "version_minor": 0
      },
      "text/plain": [
       "Creating glimpse 3990.4.7.ND0004:   0%|          | 0/154 [00:00<?, ?it/s]"
      ]
     },
     "metadata": {},
     "output_type": "display_data"
    },
    {
     "data": {
      "application/vnd.jupyter.widget-view+json": {
       "model_id": "3c1ce8d767a04c7dbbae1c8898fab042",
       "version_major": 2,
       "version_minor": 0
      },
      "text/plain": [
       "Creating glimpse 4.4.7.ND0004:   0%|          | 0/11 [00:00<?, ?it/s]"
      ]
     },
     "metadata": {},
     "output_type": "display_data"
    },
    {
     "name": "stdout",
     "output_type": "stream",
     "text": [
      "Skipping ID 40.4.7.ND0004 as r2 = -0.61\n"
     ]
    },
    {
     "data": {
      "application/vnd.jupyter.widget-view+json": {
       "model_id": "32c402608c1d45418ffde0772b7c8021",
       "version_major": 2,
       "version_minor": 0
      },
      "text/plain": [
       "Creating glimpse 4013.4.7.ND0004:   0%|          | 0/154 [00:00<?, ?it/s]"
      ]
     },
     "metadata": {},
     "output_type": "display_data"
    },
    {
     "name": "stdout",
     "output_type": "stream",
     "text": [
      "Skipping ID 4014.4.7.ND0004 as r2 = -0.26\n",
      "Skipping ID 4049.4.7.ND0004 as r2 = 0.41\n",
      "Skipping ID 4062.4.7.ND0004 as r2 = 0.57\n",
      "Skipping ID 4094.4.7.ND0004 as r2 = 0.58\n",
      "Skipping ID 4096.4.7.ND0004 as r2 = 0.43\n",
      "Skipping ID 41.4.7.ND0004 as r2 = -0.15\n",
      "Skipping ID 4110.4.7.ND0004 as r2 = -0.06\n",
      "Skipping ID 4111.4.7.ND0004 as r2 = 0.31\n"
     ]
    },
    {
     "data": {
      "application/vnd.jupyter.widget-view+json": {
       "model_id": "e40d1a7fc9e54457af421ef1506b69c6",
       "version_major": 2,
       "version_minor": 0
      },
      "text/plain": [
       "Creating glimpse 4131.4.7.ND0004:   0%|          | 0/154 [00:00<?, ?it/s]"
      ]
     },
     "metadata": {},
     "output_type": "display_data"
    },
    {
     "data": {
      "application/vnd.jupyter.widget-view+json": {
       "model_id": "a5c1af8eb9b94fddac7b370d8ec0162c",
       "version_major": 2,
       "version_minor": 0
      },
      "text/plain": [
       "Creating glimpse 42.4.7.ND0004:   0%|          | 0/3 [00:00<?, ?it/s]"
      ]
     },
     "metadata": {},
     "output_type": "display_data"
    },
    {
     "name": "stdout",
     "output_type": "stream",
     "text": [
      "Skipping ID 4222.4.7.ND0004 as r2 = 0.32\n"
     ]
    },
    {
     "data": {
      "application/vnd.jupyter.widget-view+json": {
       "model_id": "aaebbdc37f02426ea8afd277fb8cff45",
       "version_major": 2,
       "version_minor": 0
      },
      "text/plain": [
       "Creating glimpse 4224.4.7.ND0004:   0%|          | 0/78 [00:00<?, ?it/s]"
      ]
     },
     "metadata": {},
     "output_type": "display_data"
    },
    {
     "name": "stdout",
     "output_type": "stream",
     "text": [
      "Skipping ID 43.4.7.ND0004 as r2 = -6.85\n"
     ]
    },
    {
     "data": {
      "application/vnd.jupyter.widget-view+json": {
       "model_id": "15d2e35d617b41da82dd926724e56ced",
       "version_major": 2,
       "version_minor": 0
      },
      "text/plain": [
       "Creating glimpse 4339.4.7.ND0004:   0%|          | 0/84 [00:00<?, ?it/s]"
      ]
     },
     "metadata": {},
     "output_type": "display_data"
    },
    {
     "name": "stdout",
     "output_type": "stream",
     "text": [
      "Skipping ID 4348.4.7.ND0004 as r2 = -0.1\n",
      "Skipping ID 4377.4.7.ND0004 as r2 = 0.59\n",
      "Skipping ID 4397.4.7.ND0004 as r2 = 0.22\n",
      "Skipping ID 44.4.7.ND0004 as r2 = -3.2\n",
      "Skipping ID 442.4.7.ND0004 as r2 = 0.2\n"
     ]
    },
    {
     "data": {
      "application/vnd.jupyter.widget-view+json": {
       "model_id": "e58a1ba45e244bdd9d7230f3778a4466",
       "version_major": 2,
       "version_minor": 0
      },
      "text/plain": [
       "Creating glimpse 4438.4.7.ND0004:   0%|          | 0/79 [00:00<?, ?it/s]"
      ]
     },
     "metadata": {},
     "output_type": "display_data"
    },
    {
     "name": "stdout",
     "output_type": "stream",
     "text": [
      "Skipping ID 446.4.7.ND0004 as r2 = 0.68\n",
      "Skipping ID 4479.4.7.ND0004 as r2 = 0.47\n",
      "Skipping ID 4497.4.7.ND0004 as r2 = 0.61\n"
     ]
    },
    {
     "data": {
      "application/vnd.jupyter.widget-view+json": {
       "model_id": "106ff05b14fb40799fbab706a3f19a76",
       "version_major": 2,
       "version_minor": 0
      },
      "text/plain": [
       "Creating glimpse 4499.4.7.ND0004:   0%|          | 0/154 [00:00<?, ?it/s]"
      ]
     },
     "metadata": {},
     "output_type": "display_data"
    },
    {
     "name": "stdout",
     "output_type": "stream",
     "text": [
      "Skipping ID 45.4.7.ND0004 as r2 = 0.0\n",
      "Skipping ID 450.4.7.ND0004 as r2 = 0.35\n",
      "Skipping ID 46.4.7.ND0004 as r2 = 0.37\n",
      "Skipping ID 4633.4.7.ND0004 as r2 = -0.06\n"
     ]
    },
    {
     "data": {
      "application/vnd.jupyter.widget-view+json": {
       "model_id": "8a6652347ff74772973453d471e656d0",
       "version_major": 2,
       "version_minor": 0
      },
      "text/plain": [
       "Creating glimpse 466.4.7.ND0004:   0%|          | 0/154 [00:00<?, ?it/s]"
      ]
     },
     "metadata": {},
     "output_type": "display_data"
    },
    {
     "name": "stdout",
     "output_type": "stream",
     "text": [
      "Skipping ID 4668.4.7.ND0004 as r2 = 0.53\n",
      "Skipping ID 4673.4.7.ND0004 as r2 = 0.55\n"
     ]
    },
    {
     "data": {
      "application/vnd.jupyter.widget-view+json": {
       "model_id": "a2378d10c3884cdabd62d4c221c85b91",
       "version_major": 2,
       "version_minor": 0
      },
      "text/plain": [
       "Creating glimpse 4697.4.7.ND0004:   0%|          | 0/145 [00:00<?, ?it/s]"
      ]
     },
     "metadata": {},
     "output_type": "display_data"
    },
    {
     "name": "stdout",
     "output_type": "stream",
     "text": [
      "Skipping ID 4705.4.7.ND0004 as r2 = -0.99\n",
      "Skipping ID 4719.4.7.ND0004 as r2 = -0.32\n",
      "Skipping ID 4734.4.7.ND0004 as r2 = 0.29\n",
      "Skipping ID 4763.4.7.ND0004 as r2 = 0.52\n",
      "Skipping ID 481.4.7.ND0004 as r2 = 0.4\n",
      "Skipping ID 4818.4.7.ND0004 as r2 = 0.69\n",
      "Skipping ID 4878.4.7.ND0004 as r2 = 0.37\n",
      "Skipping ID 4881.4.7.ND0004 as r2 = 0.22\n",
      "Skipping ID 4914.4.7.ND0004 as r2 = 0.35\n"
     ]
    },
    {
     "data": {
      "application/vnd.jupyter.widget-view+json": {
       "model_id": "4e7f6c66092f43a7be6619ea0f5182dd",
       "version_major": 2,
       "version_minor": 0
      },
      "text/plain": [
       "Creating glimpse 4945.4.7.ND0004:   0%|          | 0/154 [00:00<?, ?it/s]"
      ]
     },
     "metadata": {},
     "output_type": "display_data"
    },
    {
     "name": "stdout",
     "output_type": "stream",
     "text": [
      "Skipping ID 4962.4.7.ND0004 as r2 = 0.64\n",
      "Skipping ID 4994.4.7.ND0004 as r2 = 0.15\n",
      "Skipping ID 5.4.7.ND0004 as r2 = -0.5\n"
     ]
    },
    {
     "data": {
      "application/vnd.jupyter.widget-view+json": {
       "model_id": "8be3c63add3241e0bae79322eb8d0955",
       "version_major": 2,
       "version_minor": 0
      },
      "text/plain": [
       "Creating glimpse 5125.4.7.ND0004:   0%|          | 0/101 [00:00<?, ?it/s]"
      ]
     },
     "metadata": {},
     "output_type": "display_data"
    },
    {
     "data": {
      "application/vnd.jupyter.widget-view+json": {
       "model_id": "0f2342146f2d45c98981d112cdd34651",
       "version_major": 2,
       "version_minor": 0
      },
      "text/plain": [
       "Creating glimpse 5137.4.7.ND0004:   0%|          | 0/154 [00:00<?, ?it/s]"
      ]
     },
     "metadata": {},
     "output_type": "display_data"
    },
    {
     "name": "stdout",
     "output_type": "stream",
     "text": [
      "Skipping ID 5158.4.7.ND0004 as r2 = -0.92\n"
     ]
    },
    {
     "data": {
      "application/vnd.jupyter.widget-view+json": {
       "model_id": "09db2c8f423b4eb2a8973b82f6a73fe4",
       "version_major": 2,
       "version_minor": 0
      },
      "text/plain": [
       "Creating glimpse 5176.4.7.ND0004:   0%|          | 0/140 [00:00<?, ?it/s]"
      ]
     },
     "metadata": {},
     "output_type": "display_data"
    },
    {
     "name": "stdout",
     "output_type": "stream",
     "text": [
      "Skipping ID 518.4.7.ND0004 as r2 = 0.56\n",
      "Skipping ID 5269.4.7.ND0004 as r2 = -1.1\n",
      "Skipping ID 53.4.7.ND0004 as r2 = 0.49\n",
      "Skipping ID 5304.4.7.ND0004 as r2 = -0.77\n",
      "Skipping ID 5467.4.7.ND0004 as r2 = 0.61\n"
     ]
    },
    {
     "data": {
      "application/vnd.jupyter.widget-view+json": {
       "model_id": "c503ee14764649b183d0d7596432e458",
       "version_major": 2,
       "version_minor": 0
      },
      "text/plain": [
       "Creating glimpse 5513.4.7.ND0004:   0%|          | 0/86 [00:00<?, ?it/s]"
      ]
     },
     "metadata": {},
     "output_type": "display_data"
    },
    {
     "name": "stdout",
     "output_type": "stream",
     "text": [
      "Skipping ID 5565.4.7.ND0004 as r2 = 0.48\n",
      "Skipping ID 5572.4.7.ND0004 as r2 = 0.69\n",
      "Skipping ID 56.4.7.ND0004 as r2 = 0.5\n",
      "Skipping ID 561.4.7.ND0004 as r2 = 0.38\n",
      "Skipping ID 5610.4.7.ND0004 as r2 = 0.45\n",
      "Skipping ID 562.4.7.ND0004 as r2 = 0.34\n",
      "Skipping ID 564.4.7.ND0004 as r2 = 0.59\n",
      "Skipping ID 567.4.7.ND0004 as r2 = 0.39\n",
      "Skipping ID 5690.4.7.ND0004 as r2 = 0.55\n",
      "Skipping ID 5727.4.7.ND0004 as r2 = -0.06\n",
      "Skipping ID 5736.4.7.ND0004 as r2 = -0.45\n",
      "Skipping ID 5750.4.7.ND0004 as r2 = 0.56\n",
      "Skipping ID 5760.4.7.ND0004 as r2 = -0.47\n",
      "Skipping ID 5770.4.7.ND0004 as r2 = -0.04\n"
     ]
    },
    {
     "data": {
      "application/vnd.jupyter.widget-view+json": {
       "model_id": "fd41d925e94248a3b1e64d6ee18dbae3",
       "version_major": 2,
       "version_minor": 0
      },
      "text/plain": [
       "Creating glimpse 5773.4.7.ND0004:   0%|          | 0/91 [00:00<?, ?it/s]"
      ]
     },
     "metadata": {},
     "output_type": "display_data"
    },
    {
     "name": "stdout",
     "output_type": "stream",
     "text": [
      "Skipping ID 5776.4.7.ND0004 as r2 = 0.33\n",
      "Skipping ID 5869.4.7.ND0004 as r2 = 0.65\n",
      "Skipping ID 5885.4.7.ND0004 as r2 = 0.38\n",
      "Skipping ID 5998.4.7.ND0004 as r2 = 0.37\n"
     ]
    },
    {
     "data": {
      "application/vnd.jupyter.widget-view+json": {
       "model_id": "7cbf86d2a1654c749778cb99d0eb3147",
       "version_major": 2,
       "version_minor": 0
      },
      "text/plain": [
       "Creating glimpse 5999.4.7.ND0004:   0%|          | 0/154 [00:00<?, ?it/s]"
      ]
     },
     "metadata": {},
     "output_type": "display_data"
    },
    {
     "data": {
      "application/vnd.jupyter.widget-view+json": {
       "model_id": "b1bb63652d8a4511bc8ff1a08daf1640",
       "version_major": 2,
       "version_minor": 0
      },
      "text/plain": [
       "Creating glimpse 6.4.7.ND0004:   0%|          | 0/12 [00:00<?, ?it/s]"
      ]
     },
     "metadata": {},
     "output_type": "display_data"
    },
    {
     "name": "stdout",
     "output_type": "stream",
     "text": [
      "Skipping ID 6075.4.7.ND0004 as r2 = 0.61\n",
      "Skipping ID 6085.4.7.ND0004 as r2 = 0.44\n"
     ]
    },
    {
     "data": {
      "application/vnd.jupyter.widget-view+json": {
       "model_id": "48a269b79c4345728d25fd7387513a44",
       "version_major": 2,
       "version_minor": 0
      },
      "text/plain": [
       "Creating glimpse 6096.4.7.ND0004:   0%|          | 0/154 [00:00<?, ?it/s]"
      ]
     },
     "metadata": {},
     "output_type": "display_data"
    },
    {
     "data": {
      "application/vnd.jupyter.widget-view+json": {
       "model_id": "47ed0f27d7a449fcbf72ff8d0d3b6850",
       "version_major": 2,
       "version_minor": 0
      },
      "text/plain": [
       "Creating glimpse 6128.4.7.ND0004:   0%|          | 0/98 [00:00<?, ?it/s]"
      ]
     },
     "metadata": {},
     "output_type": "display_data"
    },
    {
     "name": "stdout",
     "output_type": "stream",
     "text": [
      "Skipping ID 6157.4.7.ND0004 as r2 = 0.24\n",
      "Skipping ID 6174.4.7.ND0004 as r2 = 0.45\n",
      "Skipping ID 6194.4.7.ND0004 as r2 = 0.22\n"
     ]
    },
    {
     "data": {
      "application/vnd.jupyter.widget-view+json": {
       "model_id": "d39fc7a72f40499e908e40e5cb8deec8",
       "version_major": 2,
       "version_minor": 0
      },
      "text/plain": [
       "Creating glimpse 6209.4.7.ND0004:   0%|          | 0/76 [00:00<?, ?it/s]"
      ]
     },
     "metadata": {},
     "output_type": "display_data"
    },
    {
     "name": "stdout",
     "output_type": "stream",
     "text": [
      "Skipping ID 6368.4.7.ND0004 as r2 = 0.65\n",
      "Skipping ID 6369.4.7.ND0004 as r2 = 0.25\n",
      "Skipping ID 64.4.7.ND0004 as r2 = 0.13\n",
      "Skipping ID 6413.4.7.ND0004 as r2 = 0.44\n",
      "Skipping ID 6432.4.7.ND0004 as r2 = 0.51\n"
     ]
    },
    {
     "data": {
      "application/vnd.jupyter.widget-view+json": {
       "model_id": "545a621fe0a24b849c996d053a3fd622",
       "version_major": 2,
       "version_minor": 0
      },
      "text/plain": [
       "Creating glimpse 644.4.7.ND0004:   0%|          | 0/154 [00:00<?, ?it/s]"
      ]
     },
     "metadata": {},
     "output_type": "display_data"
    },
    {
     "name": "stdout",
     "output_type": "stream",
     "text": [
      "Skipping ID 645.4.7.ND0004 as r2 = 0.24\n",
      "Skipping ID 6452.4.7.ND0004 as r2 = 0.11\n",
      "Skipping ID 646.4.7.ND0004 as r2 = 0.31\n",
      "Skipping ID 65.4.7.ND0004 as r2 = 0.43\n",
      "Skipping ID 6524.4.7.ND0004 as r2 = -0.02\n"
     ]
    },
    {
     "data": {
      "application/vnd.jupyter.widget-view+json": {
       "model_id": "56d494ee2bd746cf857230d7b03a638e",
       "version_major": 2,
       "version_minor": 0
      },
      "text/plain": [
       "Creating glimpse 6556.4.7.ND0004:   0%|          | 0/78 [00:00<?, ?it/s]"
      ]
     },
     "metadata": {},
     "output_type": "display_data"
    },
    {
     "name": "stdout",
     "output_type": "stream",
     "text": [
      "Skipping ID 6561.4.7.ND0004 as r2 = -0.08\n",
      "Skipping ID 6565.4.7.ND0004 as r2 = 0.27\n"
     ]
    },
    {
     "data": {
      "application/vnd.jupyter.widget-view+json": {
       "model_id": "47436d948da449e19280b9185071f26c",
       "version_major": 2,
       "version_minor": 0
      },
      "text/plain": [
       "Creating glimpse 6598.4.7.ND0004:   0%|          | 0/149 [00:00<?, ?it/s]"
      ]
     },
     "metadata": {},
     "output_type": "display_data"
    },
    {
     "name": "stdout",
     "output_type": "stream",
     "text": [
      "Skipping ID 6646.4.7.ND0004 as r2 = 0.66\n"
     ]
    },
    {
     "data": {
      "application/vnd.jupyter.widget-view+json": {
       "model_id": "8dcbd8407f2a46fbaf630ef5579bac9d",
       "version_major": 2,
       "version_minor": 0
      },
      "text/plain": [
       "Creating glimpse 6653.4.7.ND0004:   0%|          | 0/107 [00:00<?, ?it/s]"
      ]
     },
     "metadata": {},
     "output_type": "display_data"
    },
    {
     "data": {
      "application/vnd.jupyter.widget-view+json": {
       "model_id": "a00c483cb6b54c91a55bf42a05b354d6",
       "version_major": 2,
       "version_minor": 0
      },
      "text/plain": [
       "Creating glimpse 6654.4.7.ND0004:   0%|          | 0/154 [00:00<?, ?it/s]"
      ]
     },
     "metadata": {},
     "output_type": "display_data"
    },
    {
     "name": "stdout",
     "output_type": "stream",
     "text": [
      "Skipping ID 6657.4.7.ND0004 as r2 = 0.65\n",
      "Skipping ID 667.4.7.ND0004 as r2 = -0.23\n"
     ]
    },
    {
     "data": {
      "application/vnd.jupyter.widget-view+json": {
       "model_id": "ce6b066d311846d78319ab36a2dcf7e4",
       "version_major": 2,
       "version_minor": 0
      },
      "text/plain": [
       "Creating glimpse 6697.4.7.ND0004:   0%|          | 0/103 [00:00<?, ?it/s]"
      ]
     },
     "metadata": {},
     "output_type": "display_data"
    },
    {
     "name": "stdout",
     "output_type": "stream",
     "text": [
      "Skipping ID 670.4.7.ND0004 as r2 = 0.54\n"
     ]
    },
    {
     "data": {
      "application/vnd.jupyter.widget-view+json": {
       "model_id": "2de2510d915d40eb97ddaaf5b72673db",
       "version_major": 2,
       "version_minor": 0
      },
      "text/plain": [
       "Creating glimpse 6719.4.7.ND0004:   0%|          | 0/86 [00:00<?, ?it/s]"
      ]
     },
     "metadata": {},
     "output_type": "display_data"
    },
    {
     "data": {
      "application/vnd.jupyter.widget-view+json": {
       "model_id": "12a27386e89642f49a6d79f06d2f8475",
       "version_major": 2,
       "version_minor": 0
      },
      "text/plain": [
       "Creating glimpse 6780.4.7.ND0004:   0%|          | 0/97 [00:00<?, ?it/s]"
      ]
     },
     "metadata": {},
     "output_type": "display_data"
    },
    {
     "name": "stdout",
     "output_type": "stream",
     "text": [
      "Skipping ID 6863.4.7.ND0004 as r2 = 0.52\n",
      "Skipping ID 6926.4.7.ND0004 as r2 = 0.08\n",
      "Skipping ID 7.4.7.ND0004 as r2 = -0.47\n"
     ]
    },
    {
     "data": {
      "application/vnd.jupyter.widget-view+json": {
       "model_id": "a37898ee1c8043e7aabac150d5793f34",
       "version_major": 2,
       "version_minor": 0
      },
      "text/plain": [
       "Creating glimpse 7006.4.7.ND0004:   0%|          | 0/134 [00:00<?, ?it/s]"
      ]
     },
     "metadata": {},
     "output_type": "display_data"
    },
    {
     "name": "stdout",
     "output_type": "stream",
     "text": [
      "Skipping ID 7033.4.7.ND0004 as r2 = 0.25\n"
     ]
    },
    {
     "data": {
      "application/vnd.jupyter.widget-view+json": {
       "model_id": "2145134c475d4859af2cd3492dbbf1b5",
       "version_major": 2,
       "version_minor": 0
      },
      "text/plain": [
       "Creating glimpse 7066.4.7.ND0004:   0%|          | 0/135 [00:00<?, ?it/s]"
      ]
     },
     "metadata": {},
     "output_type": "display_data"
    },
    {
     "name": "stdout",
     "output_type": "stream",
     "text": [
      "Skipping ID 7114.4.7.ND0004 as r2 = 0.4\n",
      "Skipping ID 715.4.7.ND0004 as r2 = 0.16\n",
      "Skipping ID 716.4.7.ND0004 as r2 = -1.13\n",
      "Skipping ID 718.4.7.ND0004 as r2 = 0.58\n"
     ]
    },
    {
     "data": {
      "application/vnd.jupyter.widget-view+json": {
       "model_id": "1980621b4fc445bc8d3ccffd76fe81d4",
       "version_major": 2,
       "version_minor": 0
      },
      "text/plain": [
       "Creating glimpse 7222.4.7.ND0004:   0%|          | 0/139 [00:00<?, ?it/s]"
      ]
     },
     "metadata": {},
     "output_type": "display_data"
    },
    {
     "data": {
      "application/vnd.jupyter.widget-view+json": {
       "model_id": "474bc1e4ba3d4f6e95394f41f451a023",
       "version_major": 2,
       "version_minor": 0
      },
      "text/plain": [
       "Creating glimpse 7311.4.7.ND0004:   0%|          | 0/94 [00:00<?, ?it/s]"
      ]
     },
     "metadata": {},
     "output_type": "display_data"
    },
    {
     "name": "stdout",
     "output_type": "stream",
     "text": [
      "Skipping ID 7349.4.7.ND0004 as r2 = 0.57\n",
      "Skipping ID 7372.4.7.ND0004 as r2 = 0.64\n",
      "Skipping ID 74.4.7.ND0004 as r2 = 0.42\n"
     ]
    },
    {
     "data": {
      "application/vnd.jupyter.widget-view+json": {
       "model_id": "30f42bb6ee60454d966d97eb1bbaf037",
       "version_major": 2,
       "version_minor": 0
      },
      "text/plain": [
       "Creating glimpse 7424.4.7.ND0004:   0%|          | 0/102 [00:00<?, ?it/s]"
      ]
     },
     "metadata": {},
     "output_type": "display_data"
    },
    {
     "name": "stdout",
     "output_type": "stream",
     "text": [
      "Skipping ID 750.4.7.ND0004 as r2 = 0.5\n",
      "Skipping ID 756.4.7.ND0004 as r2 = 0.48\n",
      "Skipping ID 7562.4.7.ND0004 as r2 = -0.49\n",
      "Skipping ID 7716.4.7.ND0004 as r2 = 0.19\n"
     ]
    },
    {
     "data": {
      "application/vnd.jupyter.widget-view+json": {
       "model_id": "7b28550977214bd9b34fad73b7ba4e1a",
       "version_major": 2,
       "version_minor": 0
      },
      "text/plain": [
       "Creating glimpse 7827.4.7.ND0004:   0%|          | 0/110 [00:00<?, ?it/s]"
      ]
     },
     "metadata": {},
     "output_type": "display_data"
    },
    {
     "data": {
      "application/vnd.jupyter.widget-view+json": {
       "model_id": "ca812f88f73a41b4a124c649587d09f1",
       "version_major": 2,
       "version_minor": 0
      },
      "text/plain": [
       "Creating glimpse 7859.4.7.ND0004:   0%|          | 0/105 [00:00<?, ?it/s]"
      ]
     },
     "metadata": {},
     "output_type": "display_data"
    },
    {
     "name": "stdout",
     "output_type": "stream",
     "text": [
      "Skipping ID 7877.4.7.ND0004 as r2 = 0.41\n"
     ]
    },
    {
     "data": {
      "application/vnd.jupyter.widget-view+json": {
       "model_id": "dafc2a4611564652956b006c2b8da9c6",
       "version_major": 2,
       "version_minor": 0
      },
      "text/plain": [
       "Creating glimpse 79.4.7.ND0004:   0%|          | 0/117 [00:00<?, ?it/s]"
      ]
     },
     "metadata": {},
     "output_type": "display_data"
    },
    {
     "name": "stdout",
     "output_type": "stream",
     "text": [
      "Skipping ID 7945.4.7.ND0004 as r2 = 0.25\n",
      "Skipping ID 7962.4.7.ND0004 as r2 = 0.69\n"
     ]
    },
    {
     "data": {
      "application/vnd.jupyter.widget-view+json": {
       "model_id": "44858ae598524354adbcdc00d9a7d70f",
       "version_major": 2,
       "version_minor": 0
      },
      "text/plain": [
       "Creating glimpse 8.4.7.ND0004:   0%|          | 0/52 [00:00<?, ?it/s]"
      ]
     },
     "metadata": {},
     "output_type": "display_data"
    },
    {
     "name": "stdout",
     "output_type": "stream",
     "text": [
      "Skipping ID 803.4.7.ND0004 as r2 = 0.49\n",
      "Skipping ID 8076.4.7.ND0004 as r2 = -0.51\n",
      "Skipping ID 811.4.7.ND0004 as r2 = 0.07\n",
      "Skipping ID 8173.4.7.ND0004 as r2 = 0.65\n",
      "Skipping ID 8184.4.7.ND0004 as r2 = -0.04\n",
      "Skipping ID 8242.4.7.ND0004 as r2 = 0.03\n",
      "Skipping ID 8253.4.7.ND0004 as r2 = 0.41\n"
     ]
    },
    {
     "data": {
      "application/vnd.jupyter.widget-view+json": {
       "model_id": "d03fbe03bffb468c993d56787fdc7ce5",
       "version_major": 2,
       "version_minor": 0
      },
      "text/plain": [
       "Creating glimpse 8273.4.7.ND0004:   0%|          | 0/112 [00:00<?, ?it/s]"
      ]
     },
     "metadata": {},
     "output_type": "display_data"
    },
    {
     "name": "stdout",
     "output_type": "stream",
     "text": [
      "Skipping ID 8284.4.7.ND0004 as r2 = -0.77\n"
     ]
    },
    {
     "data": {
      "application/vnd.jupyter.widget-view+json": {
       "model_id": "130b47e7b515421b9daa5d9d338162b1",
       "version_major": 2,
       "version_minor": 0
      },
      "text/plain": [
       "Creating glimpse 834.4.7.ND0004:   0%|          | 0/89 [00:00<?, ?it/s]"
      ]
     },
     "metadata": {},
     "output_type": "display_data"
    },
    {
     "name": "stdout",
     "output_type": "stream",
     "text": [
      "Skipping ID 8357.4.7.ND0004 as r2 = 0.54\n"
     ]
    },
    {
     "data": {
      "application/vnd.jupyter.widget-view+json": {
       "model_id": "53030ef1c24445f9b7c41e9ef0e6e331",
       "version_major": 2,
       "version_minor": 0
      },
      "text/plain": [
       "Creating glimpse 8358.4.7.ND0004:   0%|          | 0/131 [00:00<?, ?it/s]"
      ]
     },
     "metadata": {},
     "output_type": "display_data"
    },
    {
     "data": {
      "application/vnd.jupyter.widget-view+json": {
       "model_id": "bdf461fd7d9d4c02883c31d6efb0c715",
       "version_major": 2,
       "version_minor": 0
      },
      "text/plain": [
       "Creating glimpse 837.4.7.ND0004:   0%|          | 0/92 [00:00<?, ?it/s]"
      ]
     },
     "metadata": {},
     "output_type": "display_data"
    },
    {
     "name": "stdout",
     "output_type": "stream",
     "text": [
      "Skipping ID 8411.4.7.ND0004 as r2 = -0.41\n",
      "Skipping ID 8425.4.7.ND0004 as r2 = 0.69\n",
      "Skipping ID 8589.4.7.ND0004 as r2 = -0.08\n"
     ]
    },
    {
     "data": {
      "application/vnd.jupyter.widget-view+json": {
       "model_id": "7fca49ad4b5246839333761aee58fa73",
       "version_major": 2,
       "version_minor": 0
      },
      "text/plain": [
       "Creating glimpse 8607.4.7.ND0004:   0%|          | 0/90 [00:00<?, ?it/s]"
      ]
     },
     "metadata": {},
     "output_type": "display_data"
    },
    {
     "name": "stdout",
     "output_type": "stream",
     "text": [
      "Skipping ID 8637.4.7.ND0004 as r2 = 0.4\n",
      "Skipping ID 868.4.7.ND0004 as r2 = 0.28\n"
     ]
    },
    {
     "data": {
      "application/vnd.jupyter.widget-view+json": {
       "model_id": "6253e4a006b849c0a9134c01460bfa37",
       "version_major": 2,
       "version_minor": 0
      },
      "text/plain": [
       "Creating glimpse 8687.4.7.ND0004:   0%|          | 0/92 [00:00<?, ?it/s]"
      ]
     },
     "metadata": {},
     "output_type": "display_data"
    },
    {
     "name": "stdout",
     "output_type": "stream",
     "text": [
      "Skipping ID 8698.4.7.ND0004 as r2 = 0.01\n",
      "Skipping ID 8712.4.7.ND0004 as r2 = 0.46\n",
      "Skipping ID 8743.4.7.ND0004 as r2 = 0.16\n",
      "Skipping ID 8784.4.7.ND0004 as r2 = 0.13\n",
      "Skipping ID 884.4.7.ND0004 as r2 = -0.42\n",
      "Skipping ID 885.4.7.ND0004 as r2 = 0.44\n"
     ]
    },
    {
     "data": {
      "application/vnd.jupyter.widget-view+json": {
       "model_id": "caa576c8f4ea4990baff4c53e4d29d69",
       "version_major": 2,
       "version_minor": 0
      },
      "text/plain": [
       "Creating glimpse 8877.4.7.ND0004:   0%|          | 0/102 [00:00<?, ?it/s]"
      ]
     },
     "metadata": {},
     "output_type": "display_data"
    },
    {
     "name": "stdout",
     "output_type": "stream",
     "text": [
      "Skipping ID 897.4.7.ND0004 as r2 = -42.12\n",
      "Skipping ID 898.4.7.ND0004 as r2 = 0.58\n"
     ]
    },
    {
     "data": {
      "application/vnd.jupyter.widget-view+json": {
       "model_id": "b0f0c3da291c426d9b5217fd32709654",
       "version_major": 2,
       "version_minor": 0
      },
      "text/plain": [
       "Creating glimpse 9.4.7.ND0004:   0%|          | 0/308 [00:00<?, ?it/s]"
      ]
     },
     "metadata": {},
     "output_type": "display_data"
    },
    {
     "name": "stdout",
     "output_type": "stream",
     "text": [
      "Skipping ID 9045.4.7.ND0004 as r2 = 0.25\n",
      "Skipping ID 9167.4.7.ND0004 as r2 = 0.65\n",
      "Skipping ID 9211.4.7.ND0004 as r2 = 0.58\n",
      "Skipping ID 924.4.7.ND0004 as r2 = 0.05\n",
      "Skipping ID 9316.4.7.ND0004 as r2 = -0.04\n"
     ]
    },
    {
     "data": {
      "application/vnd.jupyter.widget-view+json": {
       "model_id": "6fd1b906da4342f087460aab3894ba2a",
       "version_major": 2,
       "version_minor": 0
      },
      "text/plain": [
       "Creating glimpse 9328.4.7.ND0004:   0%|          | 0/144 [00:00<?, ?it/s]"
      ]
     },
     "metadata": {},
     "output_type": "display_data"
    },
    {
     "data": {
      "application/vnd.jupyter.widget-view+json": {
       "model_id": "bbeba748456743628d102f630e4983ff",
       "version_major": 2,
       "version_minor": 0
      },
      "text/plain": [
       "Creating glimpse 937.4.7.ND0004:   0%|          | 0/154 [00:00<?, ?it/s]"
      ]
     },
     "metadata": {},
     "output_type": "display_data"
    },
    {
     "data": {
      "application/vnd.jupyter.widget-view+json": {
       "model_id": "20c68842a596429b81eb54e6cef28051",
       "version_major": 2,
       "version_minor": 0
      },
      "text/plain": [
       "Creating glimpse 9435.4.7.ND0004:   0%|          | 0/83 [00:00<?, ?it/s]"
      ]
     },
     "metadata": {},
     "output_type": "display_data"
    },
    {
     "data": {
      "application/vnd.jupyter.widget-view+json": {
       "model_id": "48b9b327a28e47a5a1e1b9f8e244fa5f",
       "version_major": 2,
       "version_minor": 0
      },
      "text/plain": [
       "Creating glimpse 9464.4.7.ND0004:   0%|          | 0/154 [00:00<?, ?it/s]"
      ]
     },
     "metadata": {},
     "output_type": "display_data"
    },
    {
     "data": {
      "application/vnd.jupyter.widget-view+json": {
       "model_id": "6e442b027f964a2e945e5b02578cce78",
       "version_major": 2,
       "version_minor": 0
      },
      "text/plain": [
       "Creating glimpse 9481.4.7.ND0004:   0%|          | 0/105 [00:00<?, ?it/s]"
      ]
     },
     "metadata": {},
     "output_type": "display_data"
    },
    {
     "name": "stdout",
     "output_type": "stream",
     "text": [
      "Skipping ID 9499.4.7.ND0004 as r2 = 0.46\n",
      "Skipping ID 9549.4.7.ND0004 as r2 = 0.42\n"
     ]
    },
    {
     "data": {
      "application/vnd.jupyter.widget-view+json": {
       "model_id": "e302e533f4964eeab9cee84297434aeb",
       "version_major": 2,
       "version_minor": 0
      },
      "text/plain": [
       "Creating glimpse 9711.4.7.ND0004:   0%|          | 0/81 [00:00<?, ?it/s]"
      ]
     },
     "metadata": {},
     "output_type": "display_data"
    },
    {
     "name": "stdout",
     "output_type": "stream",
     "text": [
      "Skipping ID 9826.4.7.ND0004 as r2 = 0.16\n",
      "Skipping ID 9984.4.7.ND0004 as r2 = 0.47\n",
      "Skipping ID 9992.4.7.ND0004 as r2 = -0.11\n"
     ]
    }
   ],
   "source": [
    "for unique_ID in tqdm(df['ID'].unique(), total = len(df['ID'].unique())):\n",
    "    \n",
    "    try: \n",
    "        # if 'ND0003' not in unique_ID:\n",
    "        #     continue\n",
    "        if os.path.exists(f\"/mnt/SYNO/macrohet_syno/data/glimpses/{unique_ID}.mp4\"):\n",
    "            print(f'Path exists {unique_ID}')\n",
    "            continue \n",
    "            \n",
    "        sc_df = df[df['ID'] == unique_ID]\n",
    "        r2 = sc_df['r2'].iloc[0]\n",
    "        if r2 < 0.7:\n",
    "            print(f'Skipping ID {unique_ID} as r2 = {r2}')\n",
    "            N_skipped += 1\n",
    "            continue\n",
    "\n",
    "        N_processed +=1\n",
    "        \n",
    "        # get the acq id information\n",
    "        acq_ID = row, column = int(unique_ID.split('.')[1]), int(unique_ID.split('.')[2]) \n",
    "        cell_ID = int(unique_ID.split('.')[0])\n",
    "        expt_ID = unique_ID.split('.')[-1]\n",
    "        \n",
    "        # assign the proper channel enumeration\n",
    "        mphi_channel = 0 if expt_ID == 'PS0000' else 1\n",
    "        mtb_channel = 1 if expt_ID == 'PS0000' else 0\n",
    "        \n",
    "        # if no side length provided then estimate based on max mphi area\n",
    "        if not side_length:\n",
    "            # Calculate the side length for cropping based on the square root of the area\n",
    "            side_length = int(np.sqrt(sc_df['Mphi Area (µm)'].max())) * 2\n",
    "        \n",
    "        # preload the images\n",
    "        image_dir = f'/mnt/SYNO/macrohet_syno/data/{expt_ID}/acquisition/zarr/{acq_ID}.zarr'\n",
    "        zarr_group = zarr.open(image_dir, mode='r')\n",
    "        images = zarr_group.images\n",
    "        sample_image = images[0,0,0,...]\n",
    "        \n",
    "        \n",
    "        # Load segmentation if necessary\n",
    "        seg_fn = glob.glob(f'/mnt/SYNO/macrohet_syno/data/{expt_ID}/labels/*/{acq_ID}.h5')[0]\n",
    "        if seg_fn != last_seg_fn:\n",
    "            with btrack.io.HDF5FileHandler(seg_fn, 'r', obj_type='obj_type_1') as reader:\n",
    "                segmentation = reader.segmentation\n",
    "            last_seg_fn = seg_fn\n",
    "        \n",
    "        # load the segmentation \n",
    "        rgb_stack = []\n",
    "        \n",
    "        # iterate over each frame/data point\n",
    "        for i, t in tqdm(enumerate(sc_df['Time (hours)']), total = len(sc_df), leave = False, desc = f'Creating glimpse {unique_ID}'):\n",
    "            \n",
    "            sc_df_t = sc_df[sc_df['Time (hours)'] == t]\n",
    "            # Extract xy coordinates and transpose for python and area from the cell information\n",
    "            y_coord, x_coord, area, t, f, mtb = sc_df_t.loc[:, ['x', 'y', 'Mphi Area (µm)', 'Time (hours)', 'Frame', 'Mtb Area (µm)']].values[0]\n",
    "        \n",
    "            # Scale according to tracking shrinkage\n",
    "            y_coord, x_coord = y_coord * track_scale_factor, x_coord * track_scale_factor\n",
    "        \n",
    "            # Calculate the cropping boundaries\n",
    "            x_start = int(x_coord - side_length / 2)\n",
    "            x_end = int(x_coord + side_length / 2)\n",
    "            y_start = int(y_coord - side_length / 2)\n",
    "            y_end = int(y_coord + side_length / 2)\n",
    "            \n",
    "            # Pad the boundaries if they exceed the image dimensions\n",
    "            if x_start < 0:\n",
    "                x_pad = abs(x_start)\n",
    "                x_start = 0\n",
    "            else:\n",
    "                x_pad = 0\n",
    "        \n",
    "            if x_end > sample_image.shape[0]:\n",
    "                x_pad_end = x_end - sample_image.shape[0]\n",
    "                x_end = sample_image.shape[0]\n",
    "            else:\n",
    "                x_pad_end = 0\n",
    "        \n",
    "            if y_start < 0:\n",
    "                y_pad = abs(y_start)\n",
    "                y_start = 0\n",
    "            else:\n",
    "                y_pad = 0\n",
    "        \n",
    "            if y_end > sample_image.shape[1]:\n",
    "                y_pad_end = y_end - sample_image.shape[1]\n",
    "                y_end = sample_image.shape[1]\n",
    "            else:\n",
    "                y_pad_end = 0\n",
    "        \n",
    "            # Crop the image\n",
    "            cropped_image = images[int(f), :, 0, x_start:x_end, y_start:y_end]\n",
    "        \n",
    "            # Pad the cropped image if necessary\n",
    "            cropped_image = np.pad(cropped_image, ((0, 0), (x_pad, x_pad_end), (y_pad, y_pad_end)), mode='constant')\n",
    "            \n",
    "            # extract the gfp and rfp channels to apply some vis techn\n",
    "            gfp = cropped_image[mphi_channel, ...]\n",
    "            rfp = cropped_image[mtb_channel, ...]\n",
    "            \n",
    "            # clip the images so that the contrast is more apparent\n",
    "            contrast_lim_gfp = np.clip(gfp, 358, 5886)\n",
    "            contrast_lim_rfp = np.clip(rfp, 480, 1300)\n",
    "            \n",
    "            norm_gfp = cv2.normalize(contrast_lim_gfp, None, 0, 65535, cv2.NORM_MINMAX, dtype=cv2.CV_16U)\n",
    "            norm_rfp = cv2.normalize(contrast_lim_rfp, None, 0, 65535, cv2.NORM_MINMAX, dtype=cv2.CV_16U)\n",
    "            \n",
    "            # Create an empty RGB image with the same shape as the input image\n",
    "            rgb_image = np.zeros((contrast_lim_gfp.shape[0], contrast_lim_gfp.shape[1], 3), dtype=np.uint16)\n",
    "            \n",
    "            # Assign the first channel to the green channel of the RGB image\n",
    "            rgb_image[..., 1] = norm_gfp\n",
    "            \n",
    "            # Assign the second channel to the red and blue channels of the RGB image to create magenta\n",
    "            rgb_image[..., 0] = norm_rfp\n",
    "            rgb_image[..., 2] = norm_rfp\n",
    "            \n",
    "            # scale down to 8bit\n",
    "            rgb_image = np.uint8(rgb_image >> 8)\n",
    "        \n",
    "            \n",
    "            # load mask (singular)\n",
    "            cropped_masks = segmentation[int(f), x_start:x_end, y_start:y_end]\n",
    "            \n",
    "            # Pad the cropped image if necessary\n",
    "            cropped_masks = np.pad(cropped_masks, ((x_pad, x_pad_end), (y_pad, y_pad_end)), mode='constant')\n",
    "        \n",
    "            # extract only that segment\n",
    "            seg_ID = cropped_masks[int(cropped_masks.shape[0] / 2), int(cropped_masks.shape[1] / 2)]\n",
    "           \n",
    "            if seg_ID == 0:\n",
    "                instance_mask = np.zeros((side_length, side_length), dtype = np.uint8)\n",
    "            else:\n",
    "                instance_mask = (cropped_masks == seg_ID).astype(np.uint8)\n",
    "        \n",
    "            # draw outline\n",
    "            contours, _ = cv2.findContours(instance_mask, cv2.RETR_EXTERNAL, cv2.CHAIN_APPROX_SIMPLE)\n",
    "            cv2.drawContours(rgb_image, contours, -1, (0, 2 ** 8, 2 ** 8), thickness=2)  # make 8bit\n",
    "            \n",
    "            # Convert to PIL image for text overlay\n",
    "            pil_image = Image.fromarray(rgb_image)\n",
    "            draw = ImageDraw.Draw(pil_image)\n",
    "        \n",
    "            # Bottom left corner text\n",
    "            bottom_left_text = f\"{t} hours\"\n",
    "            draw.text((10, rgb_image.shape[0] - 80), bottom_left_text, font=font, fill=text_color)\n",
    "        \n",
    "            # Bottom right corner text\n",
    "            bottom_right_text = '20µm'\n",
    "            text_size = font.getbbox(bottom_right_text)\n",
    "            text_width = text_size[2] - text_size[0]  # Calculate text width\n",
    "            bottom_right_text_position = (rgb_image.shape[1] - text_width - 40, rgb_image.shape[0] - 80)\n",
    "            draw.text(bottom_right_text_position, bottom_right_text, font=font, fill=text_color)\n",
    "        \n",
    "            # Calculate line length in pixels for a 20 micrometer scale bar\n",
    "            line_length_pixels = int(20 / image_scale_um_per_pixel)\n",
    "            line_start = (bottom_right_text_position[0], bottom_right_text_position[1] + 55)\n",
    "            line_end = (line_start[0] + line_length_pixels, line_start[1])\n",
    "            draw.line([line_start, line_end], fill=text_color, width=10)\n",
    "        \n",
    "            # Top left corner text\n",
    "            draw.text((10, 10), unique_ID, font=font, fill=text_color)\n",
    "        \n",
    "            # Top right corner text\n",
    "            mtb_value = f\"Mtb:{mtb:.2f}µm²\"\n",
    "            text_size = font.getbbox(mtb_value)\n",
    "            text_width = text_size[2] - text_size[0]  # Calculate text width\n",
    "            top_right_text_position = (rgb_image.shape[1] - text_width - 10, 10)\n",
    "            draw.text(top_right_text_position, mtb_value, font=font, fill=text_color)\n",
    "        \n",
    "            # Convert back to OpenCV image\n",
    "            rgb_image = np.array(pil_image)\n",
    "            \n",
    "            # Resize image to consistent shape\n",
    "            rgb_image_resized = cv2.resize(rgb_image, (side_length, side_length), interpolation=cv2.INTER_AREA)\n",
    "\n",
    "            # add to stack\n",
    "            rgb_stack.append(rgb_image_resized)\n",
    "    \n",
    "        # compile into array\n",
    "        rgb_stack = np.stack(rgb_stack, axis = 0)\n",
    "        \n",
    "        # Get the dimensions of the first frame\n",
    "        height, width, _ = rgb_stack[0].shape\n",
    "        \n",
    "        # Define the frame rate (number of frames per second)\n",
    "        frame_rate = len(rgb_stack) / 20  # Total frames divided by total seconds\n",
    "        output_file = f\"/mnt/SYNO/macrohet_syno/glimpses/{unique_ID}.mp4\"\n",
    "        # Initialize VideoWriter object\n",
    "        fourcc = cv2.VideoWriter_fourcc(*'mp4v')\n",
    "        out = cv2.VideoWriter(output_file, fourcc, frame_rate, (width, height))\n",
    "        \n",
    "        # Write each frame to the video file\n",
    "        for frame in rgb_stack:\n",
    "            out.write(frame)\n",
    "        \n",
    "        # Release the VideoWriter object\n",
    "        out.release()\n",
    "        \n",
    "        print(f\"Video {unique_ID} saved successfully.\")\n",
    "\n",
    "    except Exception as e:\n",
    "        error_message = f\"Error: {e}\\nUnique ID: {unique_ID}\\n\"\n",
    "        with open(\"error_log.txt\", \"a\") as file:\n",
    "            file.write(error_message)\n",
    "        "
   ]
  },
  {
   "cell_type": "code",
   "execution_count": 37,
   "id": "c84d7cfd-31fd-44c5-bd3a-c8af00b2a7a2",
   "metadata": {},
   "outputs": [
    {
     "data": {
      "text/html": [
       "<div>\n",
       "<style scoped>\n",
       "    .dataframe tbody tr th:only-of-type {\n",
       "        vertical-align: middle;\n",
       "    }\n",
       "\n",
       "    .dataframe tbody tr th {\n",
       "        vertical-align: top;\n",
       "    }\n",
       "\n",
       "    .dataframe thead th {\n",
       "        text-align: right;\n",
       "    }\n",
       "</style>\n",
       "<table border=\"1\" class=\"dataframe\">\n",
       "  <thead>\n",
       "    <tr style=\"text-align: right;\">\n",
       "      <th></th>\n",
       "      <th>Time (hours)</th>\n",
       "      <th>Mtb Area (µm)</th>\n",
       "      <th>dMtb Area (µm)</th>\n",
       "      <th>Mphi Area (µm)</th>\n",
       "      <th>dMphi Area (µm)</th>\n",
       "      <th>Infection Status</th>\n",
       "      <th>Initial Infection Status</th>\n",
       "      <th>Final Infection Status</th>\n",
       "      <th>x</th>\n",
       "      <th>y</th>\n",
       "      <th>...</th>\n",
       "      <th>Unique ID</th>\n",
       "      <th>ID</th>\n",
       "      <th>Mtb Area Processed (µm)</th>\n",
       "      <th>Time Model (hours)</th>\n",
       "      <th>Mtb Area Model (µm)</th>\n",
       "      <th>Frame</th>\n",
       "      <th>Edge Status</th>\n",
       "      <th>r2</th>\n",
       "      <th>Doubling Amounts</th>\n",
       "      <th>Doubling Times</th>\n",
       "    </tr>\n",
       "  </thead>\n",
       "  <tbody>\n",
       "    <tr>\n",
       "      <th>23744</th>\n",
       "      <td>0.0</td>\n",
       "      <td>38.349961</td>\n",
       "      <td>36.048069</td>\n",
       "      <td>1323.118349</td>\n",
       "      <td>-624.885348</td>\n",
       "      <td>1.0</td>\n",
       "      <td>1.0</td>\n",
       "      <td>1.0</td>\n",
       "      <td>883.533020</td>\n",
       "      <td>68.502769</td>\n",
       "      <td>...</td>\n",
       "      <td>433.3.3</td>\n",
       "      <td>433.3.3.ND0004</td>\n",
       "      <td>NaN</td>\n",
       "      <td>NaN</td>\n",
       "      <td>NaN</td>\n",
       "      <td>0.0</td>\n",
       "      <td>False</td>\n",
       "      <td>0.95</td>\n",
       "      <td>[18.7, 37.4]</td>\n",
       "      <td>[39.0]</td>\n",
       "    </tr>\n",
       "    <tr>\n",
       "      <th>24092</th>\n",
       "      <td>0.0</td>\n",
       "      <td>17.744679</td>\n",
       "      <td>51.356766</td>\n",
       "      <td>693.115203</td>\n",
       "      <td>-261.856930</td>\n",
       "      <td>1.0</td>\n",
       "      <td>1.0</td>\n",
       "      <td>1.0</td>\n",
       "      <td>889.058899</td>\n",
       "      <td>115.861832</td>\n",
       "      <td>...</td>\n",
       "      <td>505.3.3</td>\n",
       "      <td>505.3.3.ND0004</td>\n",
       "      <td>NaN</td>\n",
       "      <td>NaN</td>\n",
       "      <td>NaN</td>\n",
       "      <td>0.0</td>\n",
       "      <td>False</td>\n",
       "      <td>0.82</td>\n",
       "      <td>[15.9, 31.8]</td>\n",
       "      <td>[27.5]</td>\n",
       "    </tr>\n",
       "    <tr>\n",
       "      <th>24211</th>\n",
       "      <td>0.0</td>\n",
       "      <td>83.091582</td>\n",
       "      <td>66.062054</td>\n",
       "      <td>414.899199</td>\n",
       "      <td>-224.266817</td>\n",
       "      <td>1.0</td>\n",
       "      <td>1.0</td>\n",
       "      <td>1.0</td>\n",
       "      <td>245.561722</td>\n",
       "      <td>306.898987</td>\n",
       "      <td>...</td>\n",
       "      <td>424.3.3</td>\n",
       "      <td>424.3.3.ND0004</td>\n",
       "      <td>NaN</td>\n",
       "      <td>NaN</td>\n",
       "      <td>NaN</td>\n",
       "      <td>0.0</td>\n",
       "      <td>False</td>\n",
       "      <td>0.87</td>\n",
       "      <td>None</td>\n",
       "      <td>None</td>\n",
       "    </tr>\n",
       "    <tr>\n",
       "      <th>24298</th>\n",
       "      <td>0.0</td>\n",
       "      <td>0.000000</td>\n",
       "      <td>58.664713</td>\n",
       "      <td>436.063192</td>\n",
       "      <td>404.037846</td>\n",
       "      <td>0.0</td>\n",
       "      <td>0.0</td>\n",
       "      <td>1.0</td>\n",
       "      <td>298.399902</td>\n",
       "      <td>166.023849</td>\n",
       "      <td>...</td>\n",
       "      <td>364.3.3</td>\n",
       "      <td>364.3.3.ND0004</td>\n",
       "      <td>NaN</td>\n",
       "      <td>NaN</td>\n",
       "      <td>NaN</td>\n",
       "      <td>0.0</td>\n",
       "      <td>False</td>\n",
       "      <td>0.88</td>\n",
       "      <td>None</td>\n",
       "      <td>None</td>\n",
       "    </tr>\n",
       "    <tr>\n",
       "      <th>24598</th>\n",
       "      <td>0.0</td>\n",
       "      <td>18.169300</td>\n",
       "      <td>84.231354</td>\n",
       "      <td>634.808066</td>\n",
       "      <td>-53.435173</td>\n",
       "      <td>1.0</td>\n",
       "      <td>1.0</td>\n",
       "      <td>1.0</td>\n",
       "      <td>369.461548</td>\n",
       "      <td>190.425751</td>\n",
       "      <td>...</td>\n",
       "      <td>375.3.3</td>\n",
       "      <td>375.3.3.ND0004</td>\n",
       "      <td>NaN</td>\n",
       "      <td>NaN</td>\n",
       "      <td>NaN</td>\n",
       "      <td>0.0</td>\n",
       "      <td>False</td>\n",
       "      <td>0.88</td>\n",
       "      <td>[18.7, 37.4]</td>\n",
       "      <td>[41.5]</td>\n",
       "    </tr>\n",
       "    <tr>\n",
       "      <th>...</th>\n",
       "      <td>...</td>\n",
       "      <td>...</td>\n",
       "      <td>...</td>\n",
       "      <td>...</td>\n",
       "      <td>...</td>\n",
       "      <td>...</td>\n",
       "      <td>...</td>\n",
       "      <td>...</td>\n",
       "      <td>...</td>\n",
       "      <td>...</td>\n",
       "      <td>...</td>\n",
       "      <td>...</td>\n",
       "      <td>...</td>\n",
       "      <td>...</td>\n",
       "      <td>...</td>\n",
       "      <td>...</td>\n",
       "      <td>...</td>\n",
       "      <td>...</td>\n",
       "      <td>...</td>\n",
       "      <td>...</td>\n",
       "      <td>...</td>\n",
       "    </tr>\n",
       "    <tr>\n",
       "      <th>801374</th>\n",
       "      <td>27.5</td>\n",
       "      <td>13.118547</td>\n",
       "      <td>-8.380673</td>\n",
       "      <td>1299.808903</td>\n",
       "      <td>56.921533</td>\n",
       "      <td>1.0</td>\n",
       "      <td>1.0</td>\n",
       "      <td>1.0</td>\n",
       "      <td>334.461151</td>\n",
       "      <td>1079.291992</td>\n",
       "      <td>...</td>\n",
       "      <td>3728.6.12</td>\n",
       "      <td>3728.6.12.ND0004</td>\n",
       "      <td>NaN</td>\n",
       "      <td>NaN</td>\n",
       "      <td>NaN</td>\n",
       "      <td>55.0</td>\n",
       "      <td>False</td>\n",
       "      <td>0.76</td>\n",
       "      <td>[5.0, 10.0]</td>\n",
       "      <td>[16.5]</td>\n",
       "    </tr>\n",
       "    <tr>\n",
       "      <th>801473</th>\n",
       "      <td>28.0</td>\n",
       "      <td>0.000000</td>\n",
       "      <td>44.853363</td>\n",
       "      <td>978.728549</td>\n",
       "      <td>1634.298336</td>\n",
       "      <td>0.0</td>\n",
       "      <td>0.0</td>\n",
       "      <td>1.0</td>\n",
       "      <td>974.366882</td>\n",
       "      <td>364.910248</td>\n",
       "      <td>...</td>\n",
       "      <td>3804.6.12</td>\n",
       "      <td>3804.6.12.ND0004</td>\n",
       "      <td>NaN</td>\n",
       "      <td>NaN</td>\n",
       "      <td>NaN</td>\n",
       "      <td>56.0</td>\n",
       "      <td>False</td>\n",
       "      <td>0.88</td>\n",
       "      <td>[1.92, 3.84, 7.68, 15.36, 30.72]</td>\n",
       "      <td>[1.5, 4.5, 13.5, 6.0]</td>\n",
       "    </tr>\n",
       "    <tr>\n",
       "      <th>801571</th>\n",
       "      <td>30.0</td>\n",
       "      <td>3.687496</td>\n",
       "      <td>-0.938635</td>\n",
       "      <td>533.994153</td>\n",
       "      <td>295.603108</td>\n",
       "      <td>1.0</td>\n",
       "      <td>1.0</td>\n",
       "      <td>1.0</td>\n",
       "      <td>602.169861</td>\n",
       "      <td>502.689240</td>\n",
       "      <td>...</td>\n",
       "      <td>3984.6.12</td>\n",
       "      <td>3984.6.12.ND0004</td>\n",
       "      <td>NaN</td>\n",
       "      <td>NaN</td>\n",
       "      <td>NaN</td>\n",
       "      <td>60.0</td>\n",
       "      <td>False</td>\n",
       "      <td>0.79</td>\n",
       "      <td>None</td>\n",
       "      <td>None</td>\n",
       "    </tr>\n",
       "    <tr>\n",
       "      <th>802011</th>\n",
       "      <td>37.0</td>\n",
       "      <td>0.000000</td>\n",
       "      <td>27.868532</td>\n",
       "      <td>208.645242</td>\n",
       "      <td>1635.728637</td>\n",
       "      <td>0.0</td>\n",
       "      <td>0.0</td>\n",
       "      <td>1.0</td>\n",
       "      <td>385.296692</td>\n",
       "      <td>1096.364868</td>\n",
       "      <td>...</td>\n",
       "      <td>4585.6.12</td>\n",
       "      <td>4585.6.12.ND0004</td>\n",
       "      <td>NaN</td>\n",
       "      <td>NaN</td>\n",
       "      <td>NaN</td>\n",
       "      <td>74.0</td>\n",
       "      <td>False</td>\n",
       "      <td>0.82</td>\n",
       "      <td>[1.92, 3.84, 7.68, 15.36]</td>\n",
       "      <td>[0.5, 1.5, 2.5]</td>\n",
       "    </tr>\n",
       "    <tr>\n",
       "      <th>802315</th>\n",
       "      <td>39.5</td>\n",
       "      <td>7.933704</td>\n",
       "      <td>-6.436357</td>\n",
       "      <td>2366.322211</td>\n",
       "      <td>-1723.669835</td>\n",
       "      <td>1.0</td>\n",
       "      <td>1.0</td>\n",
       "      <td>1.0</td>\n",
       "      <td>1046.152222</td>\n",
       "      <td>219.165390</td>\n",
       "      <td>...</td>\n",
       "      <td>4832.6.12</td>\n",
       "      <td>4832.6.12.ND0004</td>\n",
       "      <td>NaN</td>\n",
       "      <td>NaN</td>\n",
       "      <td>NaN</td>\n",
       "      <td>79.0</td>\n",
       "      <td>False</td>\n",
       "      <td>0.80</td>\n",
       "      <td>None</td>\n",
       "      <td>None</td>\n",
       "    </tr>\n",
       "  </tbody>\n",
       "</table>\n",
       "<p>1426 rows × 32 columns</p>\n",
       "</div>"
      ],
      "text/plain": [
       "        Time (hours)  Mtb Area (µm)  dMtb Area (µm)  Mphi Area (µm)  \\\n",
       "23744            0.0      38.349961       36.048069     1323.118349   \n",
       "24092            0.0      17.744679       51.356766      693.115203   \n",
       "24211            0.0      83.091582       66.062054      414.899199   \n",
       "24298            0.0       0.000000       58.664713      436.063192   \n",
       "24598            0.0      18.169300       84.231354      634.808066   \n",
       "...              ...            ...             ...             ...   \n",
       "801374          27.5      13.118547       -8.380673     1299.808903   \n",
       "801473          28.0       0.000000       44.853363      978.728549   \n",
       "801571          30.0       3.687496       -0.938635      533.994153   \n",
       "802011          37.0       0.000000       27.868532      208.645242   \n",
       "802315          39.5       7.933704       -6.436357     2366.322211   \n",
       "\n",
       "        dMphi Area (µm)  Infection Status  Initial Infection Status  \\\n",
       "23744       -624.885348               1.0                       1.0   \n",
       "24092       -261.856930               1.0                       1.0   \n",
       "24211       -224.266817               1.0                       1.0   \n",
       "24298        404.037846               0.0                       0.0   \n",
       "24598        -53.435173               1.0                       1.0   \n",
       "...                 ...               ...                       ...   \n",
       "801374        56.921533               1.0                       1.0   \n",
       "801473      1634.298336               0.0                       0.0   \n",
       "801571       295.603108               1.0                       1.0   \n",
       "802011      1635.728637               0.0                       0.0   \n",
       "802315     -1723.669835               1.0                       1.0   \n",
       "\n",
       "        Final Infection Status            x            y  ...  Unique ID  \\\n",
       "23744                      1.0   883.533020    68.502769  ...    433.3.3   \n",
       "24092                      1.0   889.058899   115.861832  ...    505.3.3   \n",
       "24211                      1.0   245.561722   306.898987  ...    424.3.3   \n",
       "24298                      1.0   298.399902   166.023849  ...    364.3.3   \n",
       "24598                      1.0   369.461548   190.425751  ...    375.3.3   \n",
       "...                        ...          ...          ...  ...        ...   \n",
       "801374                     1.0   334.461151  1079.291992  ...  3728.6.12   \n",
       "801473                     1.0   974.366882   364.910248  ...  3804.6.12   \n",
       "801571                     1.0   602.169861   502.689240  ...  3984.6.12   \n",
       "802011                     1.0   385.296692  1096.364868  ...  4585.6.12   \n",
       "802315                     1.0  1046.152222   219.165390  ...  4832.6.12   \n",
       "\n",
       "                      ID  Mtb Area Processed (µm)  Time Model (hours)  \\\n",
       "23744     433.3.3.ND0004                      NaN                 NaN   \n",
       "24092     505.3.3.ND0004                      NaN                 NaN   \n",
       "24211     424.3.3.ND0004                      NaN                 NaN   \n",
       "24298     364.3.3.ND0004                      NaN                 NaN   \n",
       "24598     375.3.3.ND0004                      NaN                 NaN   \n",
       "...                  ...                      ...                 ...   \n",
       "801374  3728.6.12.ND0004                      NaN                 NaN   \n",
       "801473  3804.6.12.ND0004                      NaN                 NaN   \n",
       "801571  3984.6.12.ND0004                      NaN                 NaN   \n",
       "802011  4585.6.12.ND0004                      NaN                 NaN   \n",
       "802315  4832.6.12.ND0004                      NaN                 NaN   \n",
       "\n",
       "        Mtb Area Model (µm)  Frame Edge Status    r2  \\\n",
       "23744                   NaN    0.0       False  0.95   \n",
       "24092                   NaN    0.0       False  0.82   \n",
       "24211                   NaN    0.0       False  0.87   \n",
       "24298                   NaN    0.0       False  0.88   \n",
       "24598                   NaN    0.0       False  0.88   \n",
       "...                     ...    ...         ...   ...   \n",
       "801374                  NaN   55.0       False  0.76   \n",
       "801473                  NaN   56.0       False  0.88   \n",
       "801571                  NaN   60.0       False  0.79   \n",
       "802011                  NaN   74.0       False  0.82   \n",
       "802315                  NaN   79.0       False  0.80   \n",
       "\n",
       "                        Doubling Amounts         Doubling Times  \n",
       "23744                       [18.7, 37.4]                 [39.0]  \n",
       "24092                       [15.9, 31.8]                 [27.5]  \n",
       "24211                               None                   None  \n",
       "24298                               None                   None  \n",
       "24598                       [18.7, 37.4]                 [41.5]  \n",
       "...                                  ...                    ...  \n",
       "801374                       [5.0, 10.0]                 [16.5]  \n",
       "801473  [1.92, 3.84, 7.68, 15.36, 30.72]  [1.5, 4.5, 13.5, 6.0]  \n",
       "801571                              None                   None  \n",
       "802011         [1.92, 3.84, 7.68, 15.36]        [0.5, 1.5, 2.5]  \n",
       "802315                              None                   None  \n",
       "\n",
       "[1426 rows x 32 columns]"
      ]
     },
     "execution_count": 37,
     "metadata": {},
     "output_type": "execute_result"
    }
   ],
   "source": [
    "df[df['r2'] >= 0.7].drop_duplicates('ID')"
   ]
  },
  {
   "cell_type": "markdown",
   "id": "64476777-2da2-44b3-8cb8-58374231c2a6",
   "metadata": {},
   "source": [
    "# Single instance"
   ]
  },
  {
   "cell_type": "code",
   "execution_count": 5,
   "id": "dc0c4bde-f9ca-4301-bc54-3c8b752885ff",
   "metadata": {},
   "outputs": [
    {
     "data": {
      "text/plain": [
       "array(['282.3.1.ND0004', '216.3.1.ND0004', '241.3.1.ND0004', ...,\n",
       "       '4912.6.12.ND0004', '4954.6.12.ND0004', '5015.6.12.ND0004'],\n",
       "      dtype=object)"
      ]
     },
     "execution_count": 5,
     "metadata": {},
     "output_type": "execute_result"
    }
   ],
   "source": [
    "df['ID'].unique()"
   ]
  },
  {
   "cell_type": "code",
   "execution_count": 7,
   "id": "d0a581c8-e470-4534-8ad1-8f22e2c6b684",
   "metadata": {},
   "outputs": [],
   "source": [
    "unique_ID = '282.3.1.ND0004' # '211.3.5.PS0000'"
   ]
  },
  {
   "cell_type": "code",
   "execution_count": 12,
   "id": "79e9b579-67a0-485d-834e-65f8903991f4",
   "metadata": {},
   "outputs": [
    {
     "data": {
      "text/html": [
       "<div>\n",
       "<style scoped>\n",
       "    .dataframe tbody tr th:only-of-type {\n",
       "        vertical-align: middle;\n",
       "    }\n",
       "\n",
       "    .dataframe tbody tr th {\n",
       "        vertical-align: top;\n",
       "    }\n",
       "\n",
       "    .dataframe thead th {\n",
       "        text-align: right;\n",
       "    }\n",
       "</style>\n",
       "<table border=\"1\" class=\"dataframe\">\n",
       "  <thead>\n",
       "    <tr style=\"text-align: right;\">\n",
       "      <th></th>\n",
       "      <th>Time (hours)</th>\n",
       "      <th>Mtb Area (µm)</th>\n",
       "      <th>dMtb Area (µm)</th>\n",
       "      <th>Mphi Area (µm)</th>\n",
       "      <th>dMphi Area (µm)</th>\n",
       "      <th>Infection Status</th>\n",
       "      <th>Initial Infection Status</th>\n",
       "      <th>Final Infection Status</th>\n",
       "      <th>x</th>\n",
       "      <th>y</th>\n",
       "      <th>...</th>\n",
       "      <th>Concentration</th>\n",
       "      <th>Cell ID</th>\n",
       "      <th>Acquisition ID</th>\n",
       "      <th>Experiment ID</th>\n",
       "      <th>Unique ID</th>\n",
       "      <th>ID</th>\n",
       "      <th>Mtb Area Processed (µm)</th>\n",
       "      <th>Time Model (hours)</th>\n",
       "      <th>Mtb Area Model (µm)</th>\n",
       "      <th>Frame</th>\n",
       "    </tr>\n",
       "  </thead>\n",
       "  <tbody>\n",
       "    <tr>\n",
       "      <th>0</th>\n",
       "      <td>0.0</td>\n",
       "      <td>0.000000</td>\n",
       "      <td>0.000000</td>\n",
       "      <td>1430.122786</td>\n",
       "      <td>-684.600439</td>\n",
       "      <td>0.0</td>\n",
       "      <td>0.0</td>\n",
       "      <td>0.0</td>\n",
       "      <td>535.972046</td>\n",
       "      <td>36.392685</td>\n",
       "      <td>...</td>\n",
       "      <td>EC0</td>\n",
       "      <td>282</td>\n",
       "      <td>(3, 1)</td>\n",
       "      <td>ND0004</td>\n",
       "      <td>282.3.1</td>\n",
       "      <td>282.3.1.ND0004</td>\n",
       "      <td>NaN</td>\n",
       "      <td>NaN</td>\n",
       "      <td>NaN</td>\n",
       "      <td>0.0</td>\n",
       "    </tr>\n",
       "    <tr>\n",
       "      <th>1</th>\n",
       "      <td>0.5</td>\n",
       "      <td>0.000000</td>\n",
       "      <td>0.000000</td>\n",
       "      <td>1553.352206</td>\n",
       "      <td>-684.600439</td>\n",
       "      <td>0.0</td>\n",
       "      <td>0.0</td>\n",
       "      <td>0.0</td>\n",
       "      <td>517.281433</td>\n",
       "      <td>31.998940</td>\n",
       "      <td>...</td>\n",
       "      <td>EC0</td>\n",
       "      <td>282</td>\n",
       "      <td>(3, 1)</td>\n",
       "      <td>ND0004</td>\n",
       "      <td>282.3.1</td>\n",
       "      <td>282.3.1.ND0004</td>\n",
       "      <td>NaN</td>\n",
       "      <td>NaN</td>\n",
       "      <td>NaN</td>\n",
       "      <td>1.0</td>\n",
       "    </tr>\n",
       "    <tr>\n",
       "      <th>2</th>\n",
       "      <td>1.0</td>\n",
       "      <td>0.000000</td>\n",
       "      <td>0.000000</td>\n",
       "      <td>2206.284874</td>\n",
       "      <td>-684.600439</td>\n",
       "      <td>0.0</td>\n",
       "      <td>0.0</td>\n",
       "      <td>0.0</td>\n",
       "      <td>503.972534</td>\n",
       "      <td>27.664877</td>\n",
       "      <td>...</td>\n",
       "      <td>EC0</td>\n",
       "      <td>282</td>\n",
       "      <td>(3, 1)</td>\n",
       "      <td>ND0004</td>\n",
       "      <td>282.3.1</td>\n",
       "      <td>282.3.1.ND0004</td>\n",
       "      <td>NaN</td>\n",
       "      <td>NaN</td>\n",
       "      <td>NaN</td>\n",
       "      <td>2.0</td>\n",
       "    </tr>\n",
       "    <tr>\n",
       "      <th>3</th>\n",
       "      <td>1.5</td>\n",
       "      <td>NaN</td>\n",
       "      <td>0.000000</td>\n",
       "      <td>NaN</td>\n",
       "      <td>-684.600439</td>\n",
       "      <td>NaN</td>\n",
       "      <td>0.0</td>\n",
       "      <td>0.0</td>\n",
       "      <td>493.696564</td>\n",
       "      <td>22.767044</td>\n",
       "      <td>...</td>\n",
       "      <td>EC0</td>\n",
       "      <td>282</td>\n",
       "      <td>(3, 1)</td>\n",
       "      <td>ND0004</td>\n",
       "      <td>282.3.1</td>\n",
       "      <td>282.3.1.ND0004</td>\n",
       "      <td>NaN</td>\n",
       "      <td>NaN</td>\n",
       "      <td>NaN</td>\n",
       "      <td>3.0</td>\n",
       "    </tr>\n",
       "    <tr>\n",
       "      <th>4</th>\n",
       "      <td>2.0</td>\n",
       "      <td>0.000000</td>\n",
       "      <td>0.000000</td>\n",
       "      <td>806.824178</td>\n",
       "      <td>-684.600439</td>\n",
       "      <td>0.0</td>\n",
       "      <td>0.0</td>\n",
       "      <td>0.0</td>\n",
       "      <td>477.338898</td>\n",
       "      <td>15.456922</td>\n",
       "      <td>...</td>\n",
       "      <td>EC0</td>\n",
       "      <td>282</td>\n",
       "      <td>(3, 1)</td>\n",
       "      <td>ND0004</td>\n",
       "      <td>282.3.1</td>\n",
       "      <td>282.3.1.ND0004</td>\n",
       "      <td>NaN</td>\n",
       "      <td>0.0</td>\n",
       "      <td>0.0</td>\n",
       "      <td>4.0</td>\n",
       "    </tr>\n",
       "    <tr>\n",
       "      <th>...</th>\n",
       "      <td>...</td>\n",
       "      <td>...</td>\n",
       "      <td>...</td>\n",
       "      <td>...</td>\n",
       "      <td>...</td>\n",
       "      <td>...</td>\n",
       "      <td>...</td>\n",
       "      <td>...</td>\n",
       "      <td>...</td>\n",
       "      <td>...</td>\n",
       "      <td>...</td>\n",
       "      <td>...</td>\n",
       "      <td>...</td>\n",
       "      <td>...</td>\n",
       "      <td>...</td>\n",
       "      <td>...</td>\n",
       "      <td>...</td>\n",
       "      <td>...</td>\n",
       "      <td>...</td>\n",
       "      <td>...</td>\n",
       "      <td>...</td>\n",
       "    </tr>\n",
       "    <tr>\n",
       "      <th>802672</th>\n",
       "      <td>74.5</td>\n",
       "      <td>95.562024</td>\n",
       "      <td>-38.908672</td>\n",
       "      <td>945.518734</td>\n",
       "      <td>-1344.930448</td>\n",
       "      <td>1.0</td>\n",
       "      <td>1.0</td>\n",
       "      <td>1.0</td>\n",
       "      <td>432.996796</td>\n",
       "      <td>159.980438</td>\n",
       "      <td>...</td>\n",
       "      <td>EC99</td>\n",
       "      <td>5015</td>\n",
       "      <td>(6, 12)</td>\n",
       "      <td>ND0004</td>\n",
       "      <td>5015.6.12</td>\n",
       "      <td>5015.6.12.ND0004</td>\n",
       "      <td>85.88514</td>\n",
       "      <td>NaN</td>\n",
       "      <td>NaN</td>\n",
       "      <td>149.0</td>\n",
       "    </tr>\n",
       "    <tr>\n",
       "      <th>802673</th>\n",
       "      <td>75.0</td>\n",
       "      <td>94.623388</td>\n",
       "      <td>-38.908672</td>\n",
       "      <td>1361.825886</td>\n",
       "      <td>-1344.930448</td>\n",
       "      <td>1.0</td>\n",
       "      <td>1.0</td>\n",
       "      <td>1.0</td>\n",
       "      <td>433.311157</td>\n",
       "      <td>166.972198</td>\n",
       "      <td>...</td>\n",
       "      <td>EC99</td>\n",
       "      <td>5015</td>\n",
       "      <td>(6, 12)</td>\n",
       "      <td>ND0004</td>\n",
       "      <td>5015.6.12</td>\n",
       "      <td>5015.6.12.ND0004</td>\n",
       "      <td>85.88514</td>\n",
       "      <td>NaN</td>\n",
       "      <td>NaN</td>\n",
       "      <td>150.0</td>\n",
       "    </tr>\n",
       "    <tr>\n",
       "      <th>802674</th>\n",
       "      <td>75.5</td>\n",
       "      <td>83.091582</td>\n",
       "      <td>-38.908672</td>\n",
       "      <td>1152.510190</td>\n",
       "      <td>-1344.930448</td>\n",
       "      <td>1.0</td>\n",
       "      <td>1.0</td>\n",
       "      <td>1.0</td>\n",
       "      <td>435.046844</td>\n",
       "      <td>160.506119</td>\n",
       "      <td>...</td>\n",
       "      <td>EC99</td>\n",
       "      <td>5015</td>\n",
       "      <td>(6, 12)</td>\n",
       "      <td>ND0004</td>\n",
       "      <td>5015.6.12</td>\n",
       "      <td>5015.6.12.ND0004</td>\n",
       "      <td>85.661655</td>\n",
       "      <td>NaN</td>\n",
       "      <td>NaN</td>\n",
       "      <td>151.0</td>\n",
       "    </tr>\n",
       "    <tr>\n",
       "      <th>802675</th>\n",
       "      <td>76.0</td>\n",
       "      <td>77.750300</td>\n",
       "      <td>-38.908672</td>\n",
       "      <td>1126.139005</td>\n",
       "      <td>-1344.930448</td>\n",
       "      <td>1.0</td>\n",
       "      <td>1.0</td>\n",
       "      <td>1.0</td>\n",
       "      <td>433.829651</td>\n",
       "      <td>157.600281</td>\n",
       "      <td>...</td>\n",
       "      <td>EC99</td>\n",
       "      <td>5015</td>\n",
       "      <td>(6, 12)</td>\n",
       "      <td>ND0004</td>\n",
       "      <td>5015.6.12</td>\n",
       "      <td>5015.6.12.ND0004</td>\n",
       "      <td>84.331922</td>\n",
       "      <td>NaN</td>\n",
       "      <td>NaN</td>\n",
       "      <td>152.0</td>\n",
       "    </tr>\n",
       "    <tr>\n",
       "      <th>802676</th>\n",
       "      <td>76.5</td>\n",
       "      <td>75.448408</td>\n",
       "      <td>-38.908672</td>\n",
       "      <td>1091.990555</td>\n",
       "      <td>-1344.930448</td>\n",
       "      <td>1.0</td>\n",
       "      <td>1.0</td>\n",
       "      <td>1.0</td>\n",
       "      <td>434.416290</td>\n",
       "      <td>160.347900</td>\n",
       "      <td>...</td>\n",
       "      <td>EC99</td>\n",
       "      <td>5015</td>\n",
       "      <td>(6, 12)</td>\n",
       "      <td>ND0004</td>\n",
       "      <td>5015.6.12</td>\n",
       "      <td>5015.6.12.ND0004</td>\n",
       "      <td>84.331922</td>\n",
       "      <td>NaN</td>\n",
       "      <td>NaN</td>\n",
       "      <td>153.0</td>\n",
       "    </tr>\n",
       "  </tbody>\n",
       "</table>\n",
       "<p>802677 rows × 28 columns</p>\n",
       "</div>"
      ],
      "text/plain": [
       "        Time (hours)  Mtb Area (µm)  dMtb Area (µm)  Mphi Area (µm)  \\\n",
       "0                0.0       0.000000        0.000000     1430.122786   \n",
       "1                0.5       0.000000        0.000000     1553.352206   \n",
       "2                1.0       0.000000        0.000000     2206.284874   \n",
       "3                1.5            NaN        0.000000             NaN   \n",
       "4                2.0       0.000000        0.000000      806.824178   \n",
       "...              ...            ...             ...             ...   \n",
       "802672          74.5      95.562024      -38.908672      945.518734   \n",
       "802673          75.0      94.623388      -38.908672     1361.825886   \n",
       "802674          75.5      83.091582      -38.908672     1152.510190   \n",
       "802675          76.0      77.750300      -38.908672     1126.139005   \n",
       "802676          76.5      75.448408      -38.908672     1091.990555   \n",
       "\n",
       "        dMphi Area (µm)  Infection Status  Initial Infection Status  \\\n",
       "0           -684.600439               0.0                       0.0   \n",
       "1           -684.600439               0.0                       0.0   \n",
       "2           -684.600439               0.0                       0.0   \n",
       "3           -684.600439               NaN                       0.0   \n",
       "4           -684.600439               0.0                       0.0   \n",
       "...                 ...               ...                       ...   \n",
       "802672     -1344.930448               1.0                       1.0   \n",
       "802673     -1344.930448               1.0                       1.0   \n",
       "802674     -1344.930448               1.0                       1.0   \n",
       "802675     -1344.930448               1.0                       1.0   \n",
       "802676     -1344.930448               1.0                       1.0   \n",
       "\n",
       "        Final Infection Status           x           y  ...  Concentration  \\\n",
       "0                          0.0  535.972046   36.392685  ...            EC0   \n",
       "1                          0.0  517.281433   31.998940  ...            EC0   \n",
       "2                          0.0  503.972534   27.664877  ...            EC0   \n",
       "3                          0.0  493.696564   22.767044  ...            EC0   \n",
       "4                          0.0  477.338898   15.456922  ...            EC0   \n",
       "...                        ...         ...         ...  ...            ...   \n",
       "802672                     1.0  432.996796  159.980438  ...           EC99   \n",
       "802673                     1.0  433.311157  166.972198  ...           EC99   \n",
       "802674                     1.0  435.046844  160.506119  ...           EC99   \n",
       "802675                     1.0  433.829651  157.600281  ...           EC99   \n",
       "802676                     1.0  434.416290  160.347900  ...           EC99   \n",
       "\n",
       "        Cell ID  Acquisition ID  Experiment ID  Unique ID                ID  \\\n",
       "0           282          (3, 1)         ND0004    282.3.1    282.3.1.ND0004   \n",
       "1           282          (3, 1)         ND0004    282.3.1    282.3.1.ND0004   \n",
       "2           282          (3, 1)         ND0004    282.3.1    282.3.1.ND0004   \n",
       "3           282          (3, 1)         ND0004    282.3.1    282.3.1.ND0004   \n",
       "4           282          (3, 1)         ND0004    282.3.1    282.3.1.ND0004   \n",
       "...         ...             ...            ...        ...               ...   \n",
       "802672     5015         (6, 12)         ND0004  5015.6.12  5015.6.12.ND0004   \n",
       "802673     5015         (6, 12)         ND0004  5015.6.12  5015.6.12.ND0004   \n",
       "802674     5015         (6, 12)         ND0004  5015.6.12  5015.6.12.ND0004   \n",
       "802675     5015         (6, 12)         ND0004  5015.6.12  5015.6.12.ND0004   \n",
       "802676     5015         (6, 12)         ND0004  5015.6.12  5015.6.12.ND0004   \n",
       "\n",
       "       Mtb Area Processed (µm) Time Model (hours) Mtb Area Model (µm)  Frame  \n",
       "0                          NaN                NaN                 NaN    0.0  \n",
       "1                          NaN                NaN                 NaN    1.0  \n",
       "2                          NaN                NaN                 NaN    2.0  \n",
       "3                          NaN                NaN                 NaN    3.0  \n",
       "4                          NaN                0.0                 0.0    4.0  \n",
       "...                        ...                ...                 ...    ...  \n",
       "802672                85.88514                NaN                 NaN  149.0  \n",
       "802673                85.88514                NaN                 NaN  150.0  \n",
       "802674               85.661655                NaN                 NaN  151.0  \n",
       "802675               84.331922                NaN                 NaN  152.0  \n",
       "802676               84.331922                NaN                 NaN  153.0  \n",
       "\n",
       "[802677 rows x 28 columns]"
      ]
     },
     "execution_count": 12,
     "metadata": {},
     "output_type": "execute_result"
    }
   ],
   "source": [
    "df"
   ]
  },
  {
   "cell_type": "code",
   "execution_count": 14,
   "id": "83107f3a-58b0-487a-b06a-479e38c7bd11",
   "metadata": {},
   "outputs": [
    {
     "data": {
      "application/vnd.jupyter.widget-view+json": {
       "model_id": "",
       "version_major": 2,
       "version_minor": 0
      },
      "text/plain": [
       "Creating glimpse 282.3.1.ND0004:   0%|          | 0/121 [00:00<?, ?it/s]"
      ]
     },
     "metadata": {},
     "output_type": "display_data"
    },
    {
     "name": "stdout",
     "output_type": "stream",
     "text": [
      "Video 282.3.1.ND0004 saved successfully.\n"
     ]
    },
    {
     "name": "stderr",
     "output_type": "stream",
     "text": [
      "\n",
      "(python:1361987): GStreamer-CRITICAL **: 14:21:41.351: gst_element_make_from_uri: assertion 'gst_uri_is_valid (uri)' failed\n",
      "[ WARN:0@429.695] global /croot/opencv-suite_1691620365762/work/modules/videoio/src/cap_gstreamer.cpp (2180) open OpenCV | GStreamer warning: cannot link elements\n"
     ]
    }
   ],
   "source": [
    "sc_df = df[df['ID'] == unique_ID]\n",
    "        \n",
    "# get the acq id information\n",
    "acq_ID = row, column = int(unique_ID.split('.')[1]), int(unique_ID.split('.')[2]) \n",
    "cell_ID = int(unique_ID.split('.')[0])\n",
    "expt_ID = unique_ID.split('.')[-1]\n",
    "\n",
    "# assign the proper channel enumeration\n",
    "mphi_channel = 0 if expt_ID == 'PS0000' else 1\n",
    "mtb_channel = 1 if expt_ID == 'PS0000' else 0\n",
    "\n",
    "# if no side length provided then estimate based on max mphi area\n",
    "if not side_length:\n",
    "    # Calculate the side length for cropping based on the square root of the area\n",
    "    side_length = int(np.sqrt(sc_df['Mphi Area (µm)'].max())) * 2\n",
    "\n",
    "# preload the images\n",
    "image_dir = f'/mnt/SYNO/macrohet_syno/data/{expt_ID}/acquisition/zarr/{acq_ID}.zarr'\n",
    "zarr_group = zarr.open(image_dir, mode='r')\n",
    "images = zarr_group.images\n",
    "sample_image = images[0,0,0,...]\n",
    "\n",
    "\n",
    "# Load segmentation if necessary\n",
    "seg_fn = glob.glob(f'/mnt/SYNO/macrohet_syno/data/{expt_ID}/labels/*/{acq_ID}.h5')[0]\n",
    "if seg_fn != last_seg_fn:\n",
    "    with btrack.io.HDF5FileHandler(seg_fn, 'r', obj_type='obj_type_1') as reader:\n",
    "        segmentation = reader.segmentation\n",
    "    last_seg_fn = seg_fn\n",
    "\n",
    "# load the segmentation \n",
    "rgb_stack = []\n",
    "\n",
    "# iterate over each frame/data point\n",
    "for i, t in tqdm(enumerate(sc_df['Time (hours)']), total = len(sc_df), leave = False, desc = f'Creating glimpse {unique_ID}'):\n",
    "    \n",
    "    sc_df_t = sc_df[sc_df['Time (hours)'] == t]\n",
    "    # Extract xy coordinates and transpose for python and area from the cell information\n",
    "    y_coord, x_coord, area, t, f, mtb = sc_df_t.loc[:, ['x', 'y', 'Mphi Area (µm)', 'Time (hours)', 'Frame', 'Mtb Area (µm)']].values[0]\n",
    "\n",
    "    # Scale according to tracking shrinkage\n",
    "    y_coord, x_coord = y_coord * track_scale_factor, x_coord * track_scale_factor\n",
    "\n",
    "    # Calculate the cropping boundaries\n",
    "    x_start = int(x_coord - side_length / 2)\n",
    "    x_end = int(x_coord + side_length / 2)\n",
    "    y_start = int(y_coord - side_length / 2)\n",
    "    y_end = int(y_coord + side_length / 2)\n",
    "    \n",
    "    # Pad the boundaries if they exceed the image dimensions\n",
    "    if x_start < 0:\n",
    "        x_pad = abs(x_start)\n",
    "        x_start = 0\n",
    "    else:\n",
    "        x_pad = 0\n",
    "\n",
    "    if x_end > sample_image.shape[0]:\n",
    "        x_pad_end = x_end - sample_image.shape[0]\n",
    "        x_end = sample_image.shape[0]\n",
    "    else:\n",
    "        x_pad_end = 0\n",
    "\n",
    "    if y_start < 0:\n",
    "        y_pad = abs(y_start)\n",
    "        y_start = 0\n",
    "    else:\n",
    "        y_pad = 0\n",
    "\n",
    "    if y_end > sample_image.shape[1]:\n",
    "        y_pad_end = y_end - sample_image.shape[1]\n",
    "        y_end = sample_image.shape[1]\n",
    "    else:\n",
    "        y_pad_end = 0\n",
    "\n",
    "    # Crop the image\n",
    "    cropped_image = images[int(f), :, 0, x_start:x_end, y_start:y_end]\n",
    "\n",
    "    # Pad the cropped image if necessary\n",
    "    cropped_image = np.pad(cropped_image, ((0, 0), (x_pad, x_pad_end), (y_pad, y_pad_end)), mode='constant')\n",
    "    \n",
    "    # extract the gfp and rfp channels to apply some vis techn\n",
    "    gfp = cropped_image[mphi_channel, ...]\n",
    "    rfp = cropped_image[mtb_channel, ...]\n",
    "    \n",
    "    # clip the images so that the contrast is more apparent\n",
    "    contrast_lim_gfp = np.clip(gfp, 358, 5886)\n",
    "    contrast_lim_rfp = np.clip(rfp, 480, 1300)\n",
    "    \n",
    "    norm_gfp = cv2.normalize(contrast_lim_gfp, None, 0, 65535, cv2.NORM_MINMAX, dtype=cv2.CV_16U)\n",
    "    norm_rfp = cv2.normalize(contrast_lim_rfp, None, 0, 65535, cv2.NORM_MINMAX, dtype=cv2.CV_16U)\n",
    "    \n",
    "    # Create an empty RGB image with the same shape as the input image\n",
    "    rgb_image = np.zeros((contrast_lim_gfp.shape[0], contrast_lim_gfp.shape[1], 3), dtype=np.uint16)\n",
    "    \n",
    "    # Assign the first channel to the green channel of the RGB image\n",
    "    rgb_image[..., 1] = norm_gfp\n",
    "    \n",
    "    # Assign the second channel to the red and blue channels of the RGB image to create magenta\n",
    "    rgb_image[..., 0] = norm_rfp\n",
    "    rgb_image[..., 2] = norm_rfp\n",
    "    \n",
    "    # scale down to 8bit\n",
    "    rgb_image = np.uint8(rgb_image >> 8)\n",
    "\n",
    "    \n",
    "    # load mask (singular)\n",
    "    cropped_masks = segmentation[int(f), x_start:x_end, y_start:y_end]\n",
    "    \n",
    "    # Pad the cropped image if necessary\n",
    "    cropped_masks = np.pad(cropped_masks, ((x_pad, x_pad_end), (y_pad, y_pad_end)), mode='constant')\n",
    "\n",
    "    # extract only that segment\n",
    "    seg_ID = cropped_masks[int(cropped_masks.shape[0] / 2), int(cropped_masks.shape[1] / 2)]\n",
    "   \n",
    "    if seg_ID == 0:\n",
    "        instance_mask = np.zeros((side_length, side_length), dtype = np.uint8)\n",
    "    else:\n",
    "        instance_mask = (cropped_masks == seg_ID).astype(np.uint8)\n",
    "\n",
    "    # draw outline\n",
    "    contours, _ = cv2.findContours(instance_mask, cv2.RETR_EXTERNAL, cv2.CHAIN_APPROX_SIMPLE)\n",
    "    cv2.drawContours(rgb_image, contours, -1, (0, 2 ** 8, 2 ** 8), thickness=2)  # make 8bit\n",
    "    \n",
    "    # Convert to PIL image for text overlay\n",
    "    pil_image = Image.fromarray(rgb_image)\n",
    "    draw = ImageDraw.Draw(pil_image)\n",
    "\n",
    "    # Bottom left corner text\n",
    "    bottom_left_text = f\"{t} hours\"\n",
    "    draw.text((10, rgb_image.shape[0] - 80), bottom_left_text, font=font, fill=text_color)\n",
    "\n",
    "    # Bottom right corner text\n",
    "    bottom_right_text = '20µm'\n",
    "    text_size = font.getbbox(bottom_right_text)\n",
    "    text_width = text_size[2] - text_size[0]  # Calculate text width\n",
    "    bottom_right_text_position = (rgb_image.shape[1] - text_width - 40, rgb_image.shape[0] - 80)\n",
    "    draw.text(bottom_right_text_position, bottom_right_text, font=font, fill=text_color)\n",
    "\n",
    "    # Calculate line length in pixels for a 20 micrometer scale bar\n",
    "    line_length_pixels = int(20 / image_scale_um_per_pixel)\n",
    "    line_start = (bottom_right_text_position[0], bottom_right_text_position[1] + 55)\n",
    "    line_end = (line_start[0] + line_length_pixels, line_start[1])\n",
    "    draw.line([line_start, line_end], fill=text_color, width=10)\n",
    "\n",
    "    # Top left corner text\n",
    "    draw.text((10, 10), unique_ID, font=font, fill=text_color)\n",
    "\n",
    "    # Top right corner text\n",
    "    mtb_value = f\"Mtb:{mtb:.2f}µm²\"\n",
    "    text_size = font.getbbox(mtb_value)\n",
    "    text_width = text_size[2] - text_size[0]  # Calculate text width\n",
    "    top_right_text_position = (rgb_image.shape[1] - text_width - 10, 10)\n",
    "    draw.text(top_right_text_position, mtb_value, font=font, fill=text_color)\n",
    "\n",
    "    # Convert back to OpenCV image\n",
    "    rgb_image = np.array(pil_image)\n",
    "    \n",
    "    # Resize image to consistent shape\n",
    "    rgb_image_resized = cv2.resize(rgb_image, (side_length, side_length), interpolation=cv2.INTER_AREA)\n",
    "\n",
    "    # add to stack\n",
    "    rgb_stack.append(rgb_image_resized)\n",
    "\n",
    "# compile into array\n",
    "rgb_stack = np.stack(rgb_stack, axis = 0)\n",
    "\n",
    "# Get the dimensions of the first frame\n",
    "height, width, _ = rgb_stack[0].shape\n",
    "\n",
    "# Define the frame rate (number of frames per second)\n",
    "frame_rate = len(rgb_stack) / 20  # Total frames divided by total seconds\n",
    "output_file = f\"/mnt/SYNO/macrohet_syno/glimpses/{unique_ID}.mp4\"\n",
    "# Initialize VideoWriter object\n",
    "fourcc = cv2.VideoWriter_fourcc(*'mp4v')\n",
    "out = cv2.VideoWriter(output_file, fourcc, frame_rate, (width, height))\n",
    "\n",
    "# Write each frame to the video file\n",
    "for frame in rgb_stack:\n",
    "    out.write(frame)\n",
    "\n",
    "# Release the VideoWriter object\n",
    "out.release()\n",
    "\n",
    "print(f\"Video {unique_ID} saved successfully.\")"
   ]
  }
 ],
 "metadata": {
  "kernelspec": {
   "display_name": "egg",
   "language": "python",
   "name": "egg"
  },
  "language_info": {
   "codemirror_mode": {
    "name": "ipython",
    "version": 3
   },
   "file_extension": ".py",
   "mimetype": "text/x-python",
   "name": "python",
   "nbconvert_exporter": "python",
   "pygments_lexer": "ipython3",
   "version": "3.9.17"
  }
 },
 "nbformat": 4,
 "nbformat_minor": 5
}
