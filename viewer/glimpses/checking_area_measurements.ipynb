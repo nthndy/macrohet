{
 "cells": [
  {
   "cell_type": "markdown",
   "id": "60236b6c-8874-432b-921a-1edf136fe5a8",
   "metadata": {},
   "source": [
    "# Notebook to establish which Mtb area measurements are correct\n",
    "\n",
    "Could be one of a series of possibilities: \n",
    "1. I selected max projection for one set of images and sum projection for another\n",
    "2. I loaded one set of images using macrohet.tile and one set using Zarr\n",
    "3. The way the intensity image is constructed for the localisation (shall I have 3 channels, quicker to have 1, what is that one channel that's being measured?)\n",
    "\n",
    "\n"
   ]
  },
  {
   "cell_type": "code",
   "execution_count": 69,
   "id": "58956325-3643-4367-9e84-6f9bb88e0192",
   "metadata": {},
   "outputs": [],
   "source": [
    "import zarr\n",
    "from macrohet import notify, dataio, tile\n",
    "import os\n",
    "import btrack\n",
    "import glob\n",
    "import pandas as pd\n",
    "import seaborn as sns\n",
    "import napari\n",
    "import numpy as np\n",
    "from macrohet import tools\n",
    "from tqdm.auto import tqdm"
   ]
  },
  {
   "cell_type": "markdown",
   "id": "3b312371-36e9-4467-b388-51f545dc4ae0",
   "metadata": {},
   "source": [
    "### Firstly load PS0000 to see what is happening with that..."
   ]
  },
  {
   "cell_type": "code",
   "execution_count": 261,
   "id": "17b8c2ca-e62c-4271-9bf0-d93532877621",
   "metadata": {},
   "outputs": [
    {
     "name": "stdout",
     "output_type": "stream",
     "text": [
      "Reading metadata XML file...\n"
     ]
    },
    {
     "data": {
      "application/vnd.jupyter.widget-view+json": {
       "model_id": "a57257f9f2c4491587dc221b28d5bea0",
       "version_major": 2,
       "version_minor": 0
      },
      "text/plain": [
       "0it [00:00, ?it/s]"
      ]
     },
     "metadata": {},
     "output_type": "display_data"
    },
    {
     "name": "stdout",
     "output_type": "stream",
     "text": [
      "Extracting metadata complete!\n",
      "Reading metadata XML file...\n",
      "Extracting metadata complete!\n"
     ]
    }
   ],
   "source": [
    "expt_ID = 'PS0000'\n",
    "location = 'DATA' # 'NEMO' # 'SYNO'\n",
    "base_dir = f'/mnt/{location}/macrohet_{location.lower()}/{expt_ID}/'\n",
    "metadata_fn = os.path.join(base_dir, 'acquisition/Images/Index.idx.xml')\n",
    "metadata = dataio.read_harmony_metadata(metadata_fn)  \n",
    "metadata_fn = glob.glob(os.path.join(base_dir, 'acquisition/Assaylayout/*.xml'))[0]\n",
    "assay_layout = dataio.read_harmony_metadata(metadata_fn, assay_layout=True,)"
   ]
  },
  {
   "cell_type": "code",
   "execution_count": 277,
   "id": "f1601ce9-7d21-418a-ac39-fcbb6a0c033f",
   "metadata": {},
   "outputs": [],
   "source": [
    "acq_ID = row, column = (3, 5) "
   ]
  },
  {
   "cell_type": "markdown",
   "id": "d9759b46-681d-4d24-ab52-34201bdf952a",
   "metadata": {},
   "source": [
    "### Load objects, segmentation and tracks to see what's going on"
   ]
  },
  {
   "cell_type": "code",
   "execution_count": 278,
   "id": "300a1dd0-eb5b-484a-854a-65e084dfc36b",
   "metadata": {},
   "outputs": [
    {
     "name": "stderr",
     "output_type": "stream",
     "text": [
      "[INFO][2024/02/15 01:55:52 pm] Opening HDF file: /mnt/DATA/macrohet_data/PS0000/labels/macrohet_seg_model/(3, 5).h5...\n",
      "INFO:btrack.io.hdf:Opening HDF file: /mnt/DATA/macrohet_data/PS0000/labels/macrohet_seg_model/(3, 5).h5...\n",
      "[INFO][2024/02/15 01:56:02 pm] Loading segmentation (75, 6048, 6048)\n",
      "INFO:btrack.io.hdf:Loading segmentation (75, 6048, 6048)\n",
      "[INFO][2024/02/15 01:56:02 pm] Loading objects/obj_type_1 (41424, 5) (41424 filtered: None)\n",
      "INFO:btrack.io.hdf:Loading objects/obj_type_1 (41424, 5) (41424 filtered: None)\n",
      "[INFO][2024/02/15 01:56:02 pm] Loading tracks/obj_type_1\n",
      "INFO:btrack.io.hdf:Loading tracks/obj_type_1\n",
      "[INFO][2024/02/15 01:56:02 pm] Loading LBEP/obj_type_1\n",
      "INFO:btrack.io.hdf:Loading LBEP/obj_type_1\n",
      "[INFO][2024/02/15 01:56:02 pm] Loading objects/obj_type_1 (41424, 5) (41424 filtered: None)\n",
      "INFO:btrack.io.hdf:Loading objects/obj_type_1 (41424, 5) (41424 filtered: None)\n",
      "[INFO][2024/02/15 01:56:03 pm] Closing HDF file: /mnt/DATA/macrohet_data/PS0000/labels/macrohet_seg_model/(3, 5).h5\n",
      "INFO:btrack.io.hdf:Closing HDF file: /mnt/DATA/macrohet_data/PS0000/labels/macrohet_seg_model/(3, 5).h5\n"
     ]
    }
   ],
   "source": [
    "with btrack.io.HDF5FileHandler(os.path.join(base_dir, f'labels/macrohet_seg_model/{row, column}.h5'), \n",
    "                                           'r', \n",
    "                                           obj_type='obj_type_1'\n",
    "                                           ) as reader:\n",
    "   \n",
    "    segmentation = reader.segmentation\n",
    "    objects = reader.objects\n",
    "    tracks = reader.tracks"
   ]
  },
  {
   "cell_type": "code",
   "execution_count": 22,
   "id": "b0fd2d22-864b-4933-a598-5bc587329d1f",
   "metadata": {
    "scrolled": true
   },
   "outputs": [
    {
     "data": {
      "text/plain": [
       "array([[2220.02539062,  473.16897583,  167.32542419],\n",
       "       [2549.69238281,  498.70181274,  202.66197205],\n",
       "       [2653.45874023,  502.46835327,  210.38287354],\n",
       "       [2736.91162109,  501.90518188,  212.07096863],\n",
       "       [2490.94726562,  502.56442261,  204.56584167],\n",
       "       [2874.94213867,  491.78152466,  194.77839661],\n",
       "       [3846.3269043 ,  620.78747559,  374.18365479],\n",
       "       [3843.484375  ,  589.83666992,  316.76126099],\n",
       "       [3873.73706055,  599.49688721,  326.61529541],\n",
       "       [          nan,           nan,           nan],\n",
       "       [3224.58666992,  575.63549805,  312.10107422],\n",
       "       [2647.68676758,  508.27984619,  214.22186279],\n",
       "       [2830.63769531,  528.24023438,  239.4868927 ],\n",
       "       [2050.76147461,  476.90484619,  170.54632568],\n",
       "       [2425.42529297,  501.46609497,  203.90190125],\n",
       "       [2238.22875977,  491.09738159,  188.59886169],\n",
       "       [2371.50292969,  531.08093262,  241.79483032],\n",
       "       [2402.54199219,  511.90707397,  213.61198425],\n",
       "       [2430.87451172,  533.47381592,  241.08427429],\n",
       "       [2793.39550781,  584.39001465,  320.20150757],\n",
       "       [2432.38208008,  542.76135254,  255.20352173],\n",
       "       [2294.19555664,  537.85449219,  253.08126831],\n",
       "       [2591.26220703,  556.10345459,  273.29605103],\n",
       "       [1989.4407959 ,  496.21435547,  194.30897522],\n",
       "       [2041.21203613,  504.11004639,  212.14962769],\n",
       "       [2029.37207031,  516.97515869,  226.85787964],\n",
       "       [2025.37121582,  517.81201172,  218.4294281 ],\n",
       "       [1906.00964355,  503.96899414,  200.301651  ],\n",
       "       [1973.61694336,  541.12554932,  260.2779541 ],\n",
       "       [2127.53955078,  548.31408691,  263.85293579],\n",
       "       [2244.49658203,  554.28765869,  280.24133301],\n",
       "       [2414.89892578,  591.25402832,  323.30447388],\n",
       "       [2483.20092773,  598.01171875,  335.45251465],\n",
       "       [2665.25537109,  636.07000732,  360.28848267],\n",
       "       [2371.42553711,  572.82739258,  292.8288269 ],\n",
       "       [2651.85424805,  637.62097168,  385.15701294],\n",
       "       [3138.56030273,  708.34057617,  461.84780884],\n",
       "       [2490.94140625,  551.39404297,  246.57551575],\n",
       "       [3498.91235352,  799.6005249 ,  563.98480225],\n",
       "       [3145.16650391,  748.21002197,  492.35302734],\n",
       "       [3765.77636719,  838.37554932,  598.43780518],\n",
       "       [3248.64257812,  805.96124268,  565.32794189],\n",
       "       [3461.99902344,  855.81231689,  632.05560303],\n",
       "       [3416.77709961,  873.08483887,  636.90350342],\n",
       "       [3177.76049805,  818.18444824,  583.95117188],\n",
       "       [2947.17773438,  802.69439697,  574.75427246],\n",
       "       [3279.39477539,  830.68505859,  583.00854492],\n",
       "       [          nan,           nan,           nan],\n",
       "       [2895.62329102,  757.61151123,  486.33905029],\n",
       "       [2839.68969727,  794.51806641,  540.50610352],\n",
       "       [3403.66625977,  786.42431641,  534.50482178],\n",
       "       [3263.33227539,  848.36761475,  614.26806641],\n",
       "       [3127.92431641,  796.87994385,  550.92645264],\n",
       "       [3146.39990234,  864.00115967,  617.6854248 ],\n",
       "       [3052.4050293 ,  873.94134521,  633.18426514],\n",
       "       [2924.79077148,  903.44012451,  685.84796143],\n",
       "       [2972.09204102,  774.72705078,  527.86071777],\n",
       "       [3074.81738281,  758.50915527,  492.81170654],\n",
       "       [2692.50366211,  892.69702148,  687.95623779],\n",
       "       [2662.09692383,  781.77770996,  521.15081787],\n",
       "       [2697.68310547,  866.86071777,  628.9753418 ],\n",
       "       [2533.96899414,  894.78485107,  655.31091309],\n",
       "       [2669.66357422,  942.35974121,  721.11523438],\n",
       "       [2799.29443359,  927.48120117,  689.40875244],\n",
       "       [2299.09277344,  862.98364258,  634.40985107],\n",
       "       [2808.5300293 ,  906.4822998 ,  658.4776001 ],\n",
       "       [2335.39746094,  896.71026611,  663.12768555],\n",
       "       [2464.17016602,  939.39379883,  696.51586914],\n",
       "       [2736.6027832 , 1060.7869873 ,  850.66082764],\n",
       "       [2517.76806641, 1014.57299805,  803.55181885],\n",
       "       [2525.80102539, 1024.83422852,  811.44018555],\n",
       "       [2644.07885742, 1105.39599609,  912.10028076],\n",
       "       [2475.10107422, 1029.28918457,  825.16540527]])"
      ]
     },
     "execution_count": 22,
     "metadata": {},
     "output_type": "execute_result"
    }
   ],
   "source": [
    "track = [t for t in tracks if t.ID == 1][0]\n",
    "track.properties['mean_intensity']"
   ]
  },
  {
   "cell_type": "markdown",
   "id": "24056f39-892b-4919-aa67-92e3c7e27da8",
   "metadata": {},
   "source": [
    "## There isn't a measure of the thresholded _area_ in the raw tracks, but it does exist in the sc_df"
   ]
  },
  {
   "cell_type": "code",
   "execution_count": 279,
   "id": "bf42549d-305b-4bfb-b5e3-fe265f8f24f7",
   "metadata": {},
   "outputs": [],
   "source": [
    "# df = pd.read_pickle('/mnt/DATA/macrohet_data/PS0000/results/preliminary_sc_measures/sc_dfs/(3, 5)_<70_sc_df_GT_dev.pkl')\n",
    "df = pd.read_pickle('/mnt/DATA/macrohet_data/PS0000/results/preliminary_sc_measures/sc_dfs/sc_df_GT_70_area_false_outliers_removed.pkl')"
   ]
  },
  {
   "cell_type": "code",
   "execution_count": 280,
   "id": "636c96db-79b2-49ee-8184-eca7f8c32ca6",
   "metadata": {},
   "outputs": [],
   "source": [
    "sc_df = df[df['Unique ID'] == '1.3.5']"
   ]
  },
  {
   "cell_type": "code",
   "execution_count": 281,
   "id": "16670cc7-f61d-4a09-9740-a10391444b37",
   "metadata": {},
   "outputs": [
    {
     "data": {
      "text/html": [
       "<div>\n",
       "<style scoped>\n",
       "    .dataframe tbody tr th:only-of-type {\n",
       "        vertical-align: middle;\n",
       "    }\n",
       "\n",
       "    .dataframe tbody tr th {\n",
       "        vertical-align: top;\n",
       "    }\n",
       "\n",
       "    .dataframe thead th {\n",
       "        text-align: right;\n",
       "    }\n",
       "</style>\n",
       "<table border=\"1\" class=\"dataframe\">\n",
       "  <thead>\n",
       "    <tr style=\"text-align: right;\">\n",
       "      <th></th>\n",
       "      <th>Time (hours)</th>\n",
       "      <th>Mtb Area</th>\n",
       "      <th>dMtb</th>\n",
       "      <th>Strain</th>\n",
       "      <th>Compound</th>\n",
       "      <th>Concentration</th>\n",
       "      <th>Unique ID</th>\n",
       "      <th>Acquisition ID</th>\n",
       "      <th>Cell ID</th>\n",
       "      <th>Mphi Area</th>\n",
       "      <th>...</th>\n",
       "      <th>dMtb/dt</th>\n",
       "      <th>%dMtb/dt</th>\n",
       "      <th>%dMtb</th>\n",
       "      <th>Mean Mtb Intensity</th>\n",
       "      <th>Thresholded Mean Mtb Intensity</th>\n",
       "      <th>Infection Status</th>\n",
       "      <th>Initial Infection Status</th>\n",
       "      <th>Final Infection Status</th>\n",
       "      <th>dMtb/dt,T=15</th>\n",
       "      <th>Max. dMtb/dt,T=15</th>\n",
       "    </tr>\n",
       "  </thead>\n",
       "  <tbody>\n",
       "    <tr>\n",
       "      <th>0</th>\n",
       "      <td>0</td>\n",
       "      <td>46.797680</td>\n",
       "      <td>136.772588</td>\n",
       "      <td>WT</td>\n",
       "      <td>CTRL</td>\n",
       "      <td>EC0</td>\n",
       "      <td>1.3.5</td>\n",
       "      <td>(3, 5)</td>\n",
       "      <td>1</td>\n",
       "      <td>29567.0</td>\n",
       "      <td>...</td>\n",
       "      <td>0.000000</td>\n",
       "      <td>0.000000</td>\n",
       "      <td>292.26361</td>\n",
       "      <td>473.168976</td>\n",
       "      <td>167.325424</td>\n",
       "      <td>True</td>\n",
       "      <td>True</td>\n",
       "      <td>True</td>\n",
       "      <td>NaN</td>\n",
       "      <td>6.314185</td>\n",
       "    </tr>\n",
       "    <tr>\n",
       "      <th>1</th>\n",
       "      <td>1</td>\n",
       "      <td>48.719647</td>\n",
       "      <td>136.772588</td>\n",
       "      <td>WT</td>\n",
       "      <td>CTRL</td>\n",
       "      <td>EC0</td>\n",
       "      <td>1.3.5</td>\n",
       "      <td>(3, 5)</td>\n",
       "      <td>1</td>\n",
       "      <td>26181.0</td>\n",
       "      <td>...</td>\n",
       "      <td>1.921968</td>\n",
       "      <td>4.106972</td>\n",
       "      <td>292.26361</td>\n",
       "      <td>498.701813</td>\n",
       "      <td>202.661972</td>\n",
       "      <td>True</td>\n",
       "      <td>True</td>\n",
       "      <td>True</td>\n",
       "      <td>NaN</td>\n",
       "      <td>6.314185</td>\n",
       "    </tr>\n",
       "    <tr>\n",
       "      <th>2</th>\n",
       "      <td>2</td>\n",
       "      <td>52.206007</td>\n",
       "      <td>136.772588</td>\n",
       "      <td>WT</td>\n",
       "      <td>CTRL</td>\n",
       "      <td>EC0</td>\n",
       "      <td>1.3.5</td>\n",
       "      <td>(3, 5)</td>\n",
       "      <td>1</td>\n",
       "      <td>26043.0</td>\n",
       "      <td>...</td>\n",
       "      <td>3.486360</td>\n",
       "      <td>7.155963</td>\n",
       "      <td>292.26361</td>\n",
       "      <td>502.468353</td>\n",
       "      <td>210.382874</td>\n",
       "      <td>True</td>\n",
       "      <td>True</td>\n",
       "      <td>True</td>\n",
       "      <td>NaN</td>\n",
       "      <td>6.314185</td>\n",
       "    </tr>\n",
       "    <tr>\n",
       "      <th>3</th>\n",
       "      <td>3</td>\n",
       "      <td>50.552221</td>\n",
       "      <td>136.772588</td>\n",
       "      <td>WT</td>\n",
       "      <td>CTRL</td>\n",
       "      <td>EC0</td>\n",
       "      <td>1.3.5</td>\n",
       "      <td>(3, 5)</td>\n",
       "      <td>1</td>\n",
       "      <td>25605.0</td>\n",
       "      <td>...</td>\n",
       "      <td>-1.653786</td>\n",
       "      <td>-3.167808</td>\n",
       "      <td>292.26361</td>\n",
       "      <td>501.905182</td>\n",
       "      <td>212.070969</td>\n",
       "      <td>True</td>\n",
       "      <td>True</td>\n",
       "      <td>True</td>\n",
       "      <td>NaN</td>\n",
       "      <td>6.314185</td>\n",
       "    </tr>\n",
       "    <tr>\n",
       "      <th>4</th>\n",
       "      <td>4</td>\n",
       "      <td>54.463202</td>\n",
       "      <td>136.772588</td>\n",
       "      <td>WT</td>\n",
       "      <td>CTRL</td>\n",
       "      <td>EC0</td>\n",
       "      <td>1.3.5</td>\n",
       "      <td>(3, 5)</td>\n",
       "      <td>1</td>\n",
       "      <td>26430.0</td>\n",
       "      <td>...</td>\n",
       "      <td>3.910981</td>\n",
       "      <td>7.736516</td>\n",
       "      <td>292.26361</td>\n",
       "      <td>502.564423</td>\n",
       "      <td>204.565842</td>\n",
       "      <td>True</td>\n",
       "      <td>True</td>\n",
       "      <td>True</td>\n",
       "      <td>NaN</td>\n",
       "      <td>6.314185</td>\n",
       "    </tr>\n",
       "    <tr>\n",
       "      <th>...</th>\n",
       "      <td>...</td>\n",
       "      <td>...</td>\n",
       "      <td>...</td>\n",
       "      <td>...</td>\n",
       "      <td>...</td>\n",
       "      <td>...</td>\n",
       "      <td>...</td>\n",
       "      <td>...</td>\n",
       "      <td>...</td>\n",
       "      <td>...</td>\n",
       "      <td>...</td>\n",
       "      <td>...</td>\n",
       "      <td>...</td>\n",
       "      <td>...</td>\n",
       "      <td>...</td>\n",
       "      <td>...</td>\n",
       "      <td>...</td>\n",
       "      <td>...</td>\n",
       "      <td>...</td>\n",
       "      <td>...</td>\n",
       "      <td>...</td>\n",
       "    </tr>\n",
       "    <tr>\n",
       "      <th>68</th>\n",
       "      <td>70</td>\n",
       "      <td>176.239972</td>\n",
       "      <td>136.772588</td>\n",
       "      <td>WT</td>\n",
       "      <td>CTRL</td>\n",
       "      <td>EC0</td>\n",
       "      <td>1.3.5</td>\n",
       "      <td>(3, 5)</td>\n",
       "      <td>1</td>\n",
       "      <td>25142.0</td>\n",
       "      <td>...</td>\n",
       "      <td>7.397341</td>\n",
       "      <td>4.381205</td>\n",
       "      <td>292.26361</td>\n",
       "      <td>1060.786987</td>\n",
       "      <td>850.660828</td>\n",
       "      <td>True</td>\n",
       "      <td>True</td>\n",
       "      <td>True</td>\n",
       "      <td>3.410375</td>\n",
       "      <td>6.314185</td>\n",
       "    </tr>\n",
       "    <tr>\n",
       "      <th>69</th>\n",
       "      <td>71</td>\n",
       "      <td>163.747182</td>\n",
       "      <td>136.772588</td>\n",
       "      <td>WT</td>\n",
       "      <td>CTRL</td>\n",
       "      <td>EC0</td>\n",
       "      <td>1.3.5</td>\n",
       "      <td>(3, 5)</td>\n",
       "      <td>1</td>\n",
       "      <td>25147.0</td>\n",
       "      <td>...</td>\n",
       "      <td>-12.492790</td>\n",
       "      <td>-7.088511</td>\n",
       "      <td>292.26361</td>\n",
       "      <td>1014.572998</td>\n",
       "      <td>803.551819</td>\n",
       "      <td>True</td>\n",
       "      <td>True</td>\n",
       "      <td>True</td>\n",
       "      <td>2.115654</td>\n",
       "      <td>6.314185</td>\n",
       "    </tr>\n",
       "    <tr>\n",
       "      <th>70</th>\n",
       "      <td>72</td>\n",
       "      <td>160.417261</td>\n",
       "      <td>136.772588</td>\n",
       "      <td>WT</td>\n",
       "      <td>CTRL</td>\n",
       "      <td>EC0</td>\n",
       "      <td>1.3.5</td>\n",
       "      <td>(3, 5)</td>\n",
       "      <td>1</td>\n",
       "      <td>24532.0</td>\n",
       "      <td>...</td>\n",
       "      <td>-3.329921</td>\n",
       "      <td>-2.033574</td>\n",
       "      <td>292.26361</td>\n",
       "      <td>1024.834229</td>\n",
       "      <td>811.440186</td>\n",
       "      <td>True</td>\n",
       "      <td>True</td>\n",
       "      <td>True</td>\n",
       "      <td>2.146942</td>\n",
       "      <td>6.314185</td>\n",
       "    </tr>\n",
       "    <tr>\n",
       "      <th>71</th>\n",
       "      <td>73</td>\n",
       "      <td>172.552476</td>\n",
       "      <td>136.772588</td>\n",
       "      <td>WT</td>\n",
       "      <td>CTRL</td>\n",
       "      <td>EC0</td>\n",
       "      <td>1.3.5</td>\n",
       "      <td>(3, 5)</td>\n",
       "      <td>1</td>\n",
       "      <td>24277.0</td>\n",
       "      <td>...</td>\n",
       "      <td>12.135215</td>\n",
       "      <td>7.564781</td>\n",
       "      <td>292.26361</td>\n",
       "      <td>1105.395996</td>\n",
       "      <td>912.100281</td>\n",
       "      <td>True</td>\n",
       "      <td>True</td>\n",
       "      <td>True</td>\n",
       "      <td>3.075148</td>\n",
       "      <td>6.314185</td>\n",
       "    </tr>\n",
       "    <tr>\n",
       "      <th>72</th>\n",
       "      <td>74</td>\n",
       "      <td>183.570268</td>\n",
       "      <td>136.772588</td>\n",
       "      <td>WT</td>\n",
       "      <td>CTRL</td>\n",
       "      <td>EC0</td>\n",
       "      <td>1.3.5</td>\n",
       "      <td>(3, 5)</td>\n",
       "      <td>1</td>\n",
       "      <td>26507.0</td>\n",
       "      <td>...</td>\n",
       "      <td>11.017792</td>\n",
       "      <td>6.385183</td>\n",
       "      <td>292.26361</td>\n",
       "      <td>1029.289185</td>\n",
       "      <td>825.165405</td>\n",
       "      <td>True</td>\n",
       "      <td>True</td>\n",
       "      <td>True</td>\n",
       "      <td>2.309341</td>\n",
       "      <td>6.314185</td>\n",
       "    </tr>\n",
       "  </tbody>\n",
       "</table>\n",
       "<p>73 rows × 27 columns</p>\n",
       "</div>"
      ],
      "text/plain": [
       "    Time (hours)    Mtb Area        dMtb Strain Compound Concentration  \\\n",
       "0              0   46.797680  136.772588     WT     CTRL           EC0   \n",
       "1              1   48.719647  136.772588     WT     CTRL           EC0   \n",
       "2              2   52.206007  136.772588     WT     CTRL           EC0   \n",
       "3              3   50.552221  136.772588     WT     CTRL           EC0   \n",
       "4              4   54.463202  136.772588     WT     CTRL           EC0   \n",
       "..           ...         ...         ...    ...      ...           ...   \n",
       "68            70  176.239972  136.772588     WT     CTRL           EC0   \n",
       "69            71  163.747182  136.772588     WT     CTRL           EC0   \n",
       "70            72  160.417261  136.772588     WT     CTRL           EC0   \n",
       "71            73  172.552476  136.772588     WT     CTRL           EC0   \n",
       "72            74  183.570268  136.772588     WT     CTRL           EC0   \n",
       "\n",
       "   Unique ID Acquisition ID  Cell ID  Mphi Area  ...    dMtb/dt  %dMtb/dt  \\\n",
       "0      1.3.5         (3, 5)        1    29567.0  ...   0.000000  0.000000   \n",
       "1      1.3.5         (3, 5)        1    26181.0  ...   1.921968  4.106972   \n",
       "2      1.3.5         (3, 5)        1    26043.0  ...   3.486360  7.155963   \n",
       "3      1.3.5         (3, 5)        1    25605.0  ...  -1.653786 -3.167808   \n",
       "4      1.3.5         (3, 5)        1    26430.0  ...   3.910981  7.736516   \n",
       "..       ...            ...      ...        ...  ...        ...       ...   \n",
       "68     1.3.5         (3, 5)        1    25142.0  ...   7.397341  4.381205   \n",
       "69     1.3.5         (3, 5)        1    25147.0  ... -12.492790 -7.088511   \n",
       "70     1.3.5         (3, 5)        1    24532.0  ...  -3.329921 -2.033574   \n",
       "71     1.3.5         (3, 5)        1    24277.0  ...  12.135215  7.564781   \n",
       "72     1.3.5         (3, 5)        1    26507.0  ...  11.017792  6.385183   \n",
       "\n",
       "        %dMtb  Mean Mtb Intensity  Thresholded Mean Mtb Intensity  \\\n",
       "0   292.26361          473.168976                      167.325424   \n",
       "1   292.26361          498.701813                      202.661972   \n",
       "2   292.26361          502.468353                      210.382874   \n",
       "3   292.26361          501.905182                      212.070969   \n",
       "4   292.26361          502.564423                      204.565842   \n",
       "..        ...                 ...                             ...   \n",
       "68  292.26361         1060.786987                      850.660828   \n",
       "69  292.26361         1014.572998                      803.551819   \n",
       "70  292.26361         1024.834229                      811.440186   \n",
       "71  292.26361         1105.395996                      912.100281   \n",
       "72  292.26361         1029.289185                      825.165405   \n",
       "\n",
       "    Infection Status Initial Infection Status  Final Infection Status  \\\n",
       "0               True                     True                    True   \n",
       "1               True                     True                    True   \n",
       "2               True                     True                    True   \n",
       "3               True                     True                    True   \n",
       "4               True                     True                    True   \n",
       "..               ...                      ...                     ...   \n",
       "68              True                     True                    True   \n",
       "69              True                     True                    True   \n",
       "70              True                     True                    True   \n",
       "71              True                     True                    True   \n",
       "72              True                     True                    True   \n",
       "\n",
       "    dMtb/dt,T=15  Max. dMtb/dt,T=15  \n",
       "0            NaN           6.314185  \n",
       "1            NaN           6.314185  \n",
       "2            NaN           6.314185  \n",
       "3            NaN           6.314185  \n",
       "4            NaN           6.314185  \n",
       "..           ...                ...  \n",
       "68      3.410375           6.314185  \n",
       "69      2.115654           6.314185  \n",
       "70      2.146942           6.314185  \n",
       "71      3.075148           6.314185  \n",
       "72      2.309341           6.314185  \n",
       "\n",
       "[73 rows x 27 columns]"
      ]
     },
     "execution_count": 281,
     "metadata": {},
     "output_type": "execute_result"
    }
   ],
   "source": [
    "sc_df"
   ]
  },
  {
   "cell_type": "code",
   "execution_count": 42,
   "id": "7c0675fa-3d13-4ae5-904d-daa9267071dd",
   "metadata": {},
   "outputs": [
    {
     "name": "stderr",
     "output_type": "stream",
     "text": [
      "/home/dayn/miniconda3/envs/egg/lib/python3.9/site-packages/seaborn/_oldcore.py:1119: FutureWarning: use_inf_as_na option is deprecated and will be removed in a future version. Convert inf values to NaN before operating instead.\n",
      "  with pd.option_context('mode.use_inf_as_na', True):\n",
      "/home/dayn/miniconda3/envs/egg/lib/python3.9/site-packages/seaborn/_oldcore.py:1119: FutureWarning: use_inf_as_na option is deprecated and will be removed in a future version. Convert inf values to NaN before operating instead.\n",
      "  with pd.option_context('mode.use_inf_as_na', True):\n",
      "/home/dayn/miniconda3/envs/egg/lib/python3.9/site-packages/seaborn/_oldcore.py:1119: FutureWarning: use_inf_as_na option is deprecated and will be removed in a future version. Convert inf values to NaN before operating instead.\n",
      "  with pd.option_context('mode.use_inf_as_na', True):\n",
      "/home/dayn/miniconda3/envs/egg/lib/python3.9/site-packages/seaborn/_oldcore.py:1119: FutureWarning: use_inf_as_na option is deprecated and will be removed in a future version. Convert inf values to NaN before operating instead.\n",
      "  with pd.option_context('mode.use_inf_as_na', True):\n"
     ]
    },
    {
     "data": {
      "image/png": "[encoded data removed]",
      "text/plain": [
       "<Figure size 800x600 with 2 Axes>"
      ]
     },
     "metadata": {},
     "output_type": "display_data"
    }
   ],
   "source": [
    "# Figure and Subplot Setup\n",
    "fig, (ax1, ax2) = plt.subplots(2, 1, figsize=(8, 6))  # Create two subplots\n",
    "\n",
    "# --- Plot 1 ---\n",
    "sns.lineplot(data=sc_df, x='Time (hours)', y='Mtb Area µm2', ax=ax1)\n",
    "sns.despine(offset=10, ax=ax1)  # Apply despine to the top plot\n",
    "\n",
    "# --- Plot 2 --- \n",
    "sns.lineplot(x=range(len(track.properties['mean_intensity'])),\n",
    "             y=track.properties['mean_intensity'][:, 2], ax=ax2)\n",
    "sns.despine(offset=10, ax=ax2)  # Apply despine to the bottom plot\n",
    "ax2.set_ylabel('Mtb region intensity thresholded')\n",
    "\n",
    "# Overall adjustments\n",
    "fig.tight_layout()  # Adjust spacing between subplots\n",
    "plt.show()"
   ]
  },
  {
   "cell_type": "markdown",
   "id": "24787218-7c1d-4ec8-92b5-40de4781ad2e",
   "metadata": {},
   "source": [
    "## This shows that Mtb area is the better choice, but is the area measurement correct? "
   ]
  },
  {
   "cell_type": "code",
   "execution_count": 346,
   "id": "330f5214-bd23-473c-93a9-c5871c791319",
   "metadata": {},
   "outputs": [],
   "source": [
    "image_dir = os.path.join(base_dir, 'acquisition/Images')\n",
    "images = tile.compile_mosaic(image_dir, \n",
    "                             metadata, \n",
    "                             row, column, \n",
    "                             # subset_field_IDs=['16', '17',  '20', '21'], \n",
    "                             # n_tile_rows = 2, n_tile_cols = 2,\n",
    "                             set_plane='max_proj',\n",
    "                             set_channel=2,\n",
    "                             set_time = 0,\n",
    "#                             input_transforms = [input_transforms]\n",
    "                            ).compute().compute()\n",
    "# images = images[:,:,0,...]\n",
    "images[:,0,...]"
   ]
  },
  {
   "cell_type": "code",
   "execution_count": 350,
   "id": "dd5f19de-08c9-41b6-8bf0-d9f75cb83b15",
   "metadata": {},
   "outputs": [
    {
     "data": {
      "text/plain": [
       "<Image layer 'Image' at 0x7f3612b952e0>"
      ]
     },
     "execution_count": 350,
     "metadata": {},
     "output_type": "execute_result"
    }
   ],
   "source": [
    "viewer.add_image(images[:,0,...])"
   ]
  },
  {
   "cell_type": "code",
   "execution_count": 348,
   "id": "82c583e3-90eb-4a49-8c8f-740470d2435a",
   "metadata": {},
   "outputs": [
    {
     "data": {
      "text/plain": [
       "'/mnt/DATA/macrohet_data/PS0000/'"
      ]
     },
     "execution_count": 348,
     "metadata": {},
     "output_type": "execute_result"
    }
   ],
   "source": [
    "base_dir"
   ]
  },
  {
   "cell_type": "code",
   "execution_count": 309,
   "id": "d1d508fd-df2e-4b4c-9f41-694c29e89ac8",
   "metadata": {},
   "outputs": [],
   "source": [
    "images = images[0]"
   ]
  },
  {
   "cell_type": "code",
   "execution_count": 310,
   "id": "b3c1d552-eeb5-4130-86f8-91be0f563b7a",
   "metadata": {},
   "outputs": [],
   "source": [
    "rfp_t0 = images[1,...]"
   ]
  },
  {
   "cell_type": "code",
   "execution_count": 311,
   "id": "6864dba8-81ae-4304-81de-4de2f8b0403e",
   "metadata": {},
   "outputs": [],
   "source": [
    "gfp_t0 = images[0,...]"
   ]
  },
  {
   "cell_type": "code",
   "execution_count": 312,
   "id": "1ad4777c-e4b9-42f9-aa50-965380c16d12",
   "metadata": {},
   "outputs": [
    {
     "data": {
      "text/plain": [
       "(3, 5)"
      ]
     },
     "execution_count": 312,
     "metadata": {},
     "output_type": "execute_result"
    }
   ],
   "source": [
    "row, column"
   ]
  },
  {
   "cell_type": "code",
   "execution_count": 313,
   "id": "4315c927-f55b-4ab5-b5d7-398cf36c9c8b",
   "metadata": {},
   "outputs": [
    {
     "data": {
      "text/plain": [
       "<Labels layer 'Labels' at 0x7f361e37a970>"
      ]
     },
     "execution_count": 313,
     "metadata": {},
     "output_type": "execute_result"
    }
   ],
   "source": [
    "viewer = napari.Viewer(title = 'PS0000, 3,5, checking int area values')\n",
    "\n",
    "viewer.add_image(rfp_t0)\n",
    "viewer.add_labels(segmentation[0])"
   ]
  },
  {
   "cell_type": "code",
   "execution_count": 314,
   "id": "63da9d9a-49d0-4cad-a97a-9edfa2216ed8",
   "metadata": {},
   "outputs": [
    {
     "data": {
      "text/plain": [
       "<Image layer 'gfp_t0' at 0x7f36194c1550>"
      ]
     },
     "execution_count": 314,
     "metadata": {},
     "output_type": "execute_result"
    }
   ],
   "source": [
    "viewer.add_image(gfp_t0)"
   ]
  },
  {
   "cell_type": "code",
   "execution_count": 62,
   "id": "c8e0421e-453a-4128-bc9c-7fdba684eab6",
   "metadata": {},
   "outputs": [
    {
     "data": {
      "text/plain": [
       "<Points layer 'Points [1]' at 0x7f358dd655b0>"
      ]
     },
     "execution_count": 62,
     "metadata": {},
     "output_type": "execute_result"
    }
   ],
   "source": [
    "viewer.add_points([int(876*5.04), int(519*5.04)], size = 100)"
   ]
  },
  {
   "cell_type": "markdown",
   "id": "0221216d-315b-4eaf-96c3-05c42e935963",
   "metadata": {},
   "source": [
    "### Manually checking Mtb area"
   ]
  },
  {
   "cell_type": "code",
   "execution_count": 64,
   "id": "8adfd017-d96e-454f-9722-0b00e81c6ee7",
   "metadata": {},
   "outputs": [],
   "source": [
    "segment_ID = 423\n",
    "mask = segmentation[0] == 423\n",
    "masked_rfp = mask * rfp_t0"
   ]
  },
  {
   "cell_type": "code",
   "execution_count": 65,
   "id": "a8081d14-e228-4233-9a9c-10a53e50cea4",
   "metadata": {},
   "outputs": [
    {
     "data": {
      "text/plain": [
       "<Image layer 'masked_rfp' at 0x7f3772a0c8e0>"
      ]
     },
     "execution_count": 65,
     "metadata": {},
     "output_type": "execute_result"
    }
   ],
   "source": [
    "viewer.add_image(masked_rfp)"
   ]
  },
  {
   "cell_type": "markdown",
   "id": "98034dcd-a62f-4b80-b2db-9aa59a78dcb2",
   "metadata": {},
   "source": [
    "##### The next step is threshold above 480 then count the area of the binary expression"
   ]
  },
  {
   "cell_type": "code",
   "execution_count": 66,
   "id": "9efa8ee0-6346-47c3-925a-5cf53fa0d0dc",
   "metadata": {},
   "outputs": [],
   "source": [
    "masked_threshold_rfp = masked_rfp >= 480"
   ]
  },
  {
   "cell_type": "code",
   "execution_count": 67,
   "id": "a420e3aa-7116-4f69-b85b-99bf8c2e11ec",
   "metadata": {},
   "outputs": [
    {
     "data": {
      "text/plain": [
       "<Image layer 'masked_threshold_rfp' at 0x7f3772eba970>"
      ]
     },
     "execution_count": 67,
     "metadata": {},
     "output_type": "execute_result"
    }
   ],
   "source": [
    "viewer.add_image(masked_threshold_rfp)"
   ]
  },
  {
   "cell_type": "code",
   "execution_count": 70,
   "id": "d6b92cd3-7412-466c-9831-520abe627f0e",
   "metadata": {},
   "outputs": [
    {
     "data": {
      "text/plain": [
       "2094"
      ]
     },
     "execution_count": 70,
     "metadata": {},
     "output_type": "execute_result"
    }
   ],
   "source": [
    "np.sum(masked_threshold_rfp)"
   ]
  },
  {
   "cell_type": "markdown",
   "id": "d190636d-e9ab-4051-b67c-b7f61aabe065",
   "metadata": {},
   "source": [
    "##### Then multiply that number of pixels by the area scaling factor"
   ]
  },
  {
   "cell_type": "code",
   "execution_count": 73,
   "id": "25c8dc0c-5045-4236-97e9-07074bb762da",
   "metadata": {},
   "outputs": [
    {
     "data": {
      "text/plain": [
       "'1.4949402023919043E-07'"
      ]
     },
     "execution_count": 73,
     "metadata": {},
     "output_type": "execute_result"
    }
   ],
   "source": [
    "metadata['ImageResolutionX'].iloc[0]"
   ]
  },
  {
   "cell_type": "code",
   "execution_count": 80,
   "id": "311e108f-d1dd-4962-80b3-aa6c1489c521",
   "metadata": {},
   "outputs": [
    {
     "name": "stdout",
     "output_type": "stream",
     "text": [
      "The area of the Mtb is 46.79767961075484 µm2\n"
     ]
    }
   ],
   "source": [
    "image_resolution = 1.4949402023919043E-07 #= float(metadata['ImageResolutionX'].iloc[0])\n",
    "resolution_micrometers_per_pixel = image_resolution * 1_000_000\n",
    "print(f'The area of the Mtb is {np.sum(masked_threshold_rfp) * (resolution_micrometers_per_pixel ** 2)} µm2')"
   ]
  },
  {
   "cell_type": "markdown",
   "id": "d9da32d7-43e5-4d4e-a88b-c7e468a4ab61",
   "metadata": {},
   "source": [
    "# Double checking all PS0000 area measurements"
   ]
  },
  {
   "cell_type": "code",
   "execution_count": 238,
   "id": "f3d4111b-233c-4a4b-a84a-fdd7cca709a3",
   "metadata": {},
   "outputs": [
    {
     "data": {
      "text/plain": [
       "Index(['Time (hours)', 'Strain', 'Compound', 'Concentration', 'Unique ID',\n",
       "       'Acquisition ID', 'Cell ID', 'Mphi Area', 'Mphi GFP', 'x', 'y',\n",
       "       'Eccentricity', 'MSD', 'Technical Replicate', 'Strain/Compound',\n",
       "       'Mtb Area µm2', 'Mtb RFP', 'Mtb RFP thresholded'],\n",
       "      dtype='object')"
      ]
     },
     "execution_count": 238,
     "metadata": {},
     "output_type": "execute_result"
    }
   ],
   "source": [
    "df.keys()"
   ]
  },
  {
   "cell_type": "code",
   "execution_count": 239,
   "id": "88647adf-ffcd-499b-b3f3-d8cb382fa55f",
   "metadata": {},
   "outputs": [],
   "source": [
    "df['Mphi Area µm2'] = df['Mphi Area'] * (resolution_micrometers_per_pixel ** 2)"
   ]
  },
  {
   "cell_type": "code",
   "execution_count": 241,
   "id": "8c98d803-a210-4a4f-b523-55a54dbf29ae",
   "metadata": {},
   "outputs": [],
   "source": [
    "df['Mtb to Mphi area µm2 ratio'] = df['Mtb Area µm2']/df['Mphi Area µm2'] "
   ]
  },
  {
   "cell_type": "code",
   "execution_count": 247,
   "id": "526a51d3-8aa1-4462-bf6d-c8809e7d6b03",
   "metadata": {},
   "outputs": [
    {
     "data": {
      "text/plain": [
       "array([(3, 5)], dtype=object)"
      ]
     },
     "execution_count": 247,
     "metadata": {},
     "output_type": "execute_result"
    }
   ],
   "source": [
    "df['Acquisition ID'].unique()"
   ]
  },
  {
   "cell_type": "markdown",
   "id": "421bad72-c00b-4a20-9888-893178e468a5",
   "metadata": {},
   "source": [
    "# Checking other positions"
   ]
  },
  {
   "cell_type": "code",
   "execution_count": 248,
   "id": "6556468b-ff5f-46d5-992d-e5931007e686",
   "metadata": {},
   "outputs": [],
   "source": [
    "df = pd.read_pickle('/mnt/DATA/macrohet_data/PS0000/results/preliminary_sc_measures/sc_dfs/sc_df_GT_70_area_false_outliers_removed.pkl')"
   ]
  },
  {
   "cell_type": "code",
   "execution_count": 252,
   "id": "c1e10f23-ae45-436b-986c-98f98c2d2ef0",
   "metadata": {},
   "outputs": [
    {
     "data": {
      "text/plain": [
       "Index(['Time (hours)', 'Mtb Area', 'dMtb', 'Strain', 'Compound',\n",
       "       'Concentration', 'Unique ID', 'Acquisition ID', 'Cell ID', 'Mphi Area',\n",
       "       'Mphi GFP', 'x', 'y', 'Eccentricity', 'MSD', 'Technical Replicate',\n",
       "       'Strain/Compound', 'dMtb/dt', '%dMtb/dt', '%dMtb', 'Mean Mtb Intensity',\n",
       "       'Thresholded Mean Mtb Intensity', 'Infection Status',\n",
       "       'Initial Infection Status', 'Final Infection Status', 'dMtb/dt,T=15',\n",
       "       'Max. dMtb/dt,T=15'],\n",
       "      dtype='object')"
      ]
     },
     "execution_count": 252,
     "metadata": {},
     "output_type": "execute_result"
    }
   ],
   "source": [
    "df.keys()"
   ]
  },
  {
   "cell_type": "code",
   "execution_count": 253,
   "id": "4cf135c6-4df6-4881-b70b-0d62c6f580d2",
   "metadata": {},
   "outputs": [
    {
     "name": "stderr",
     "output_type": "stream",
     "text": [
      "/home/dayn/miniconda3/envs/egg/lib/python3.9/site-packages/seaborn/_oldcore.py:1119: FutureWarning: use_inf_as_na option is deprecated and will be removed in a future version. Convert inf values to NaN before operating instead.\n",
      "  with pd.option_context('mode.use_inf_as_na', True):\n",
      "/home/dayn/miniconda3/envs/egg/lib/python3.9/site-packages/seaborn/_oldcore.py:1119: FutureWarning: use_inf_as_na option is deprecated and will be removed in a future version. Convert inf values to NaN before operating instead.\n",
      "  with pd.option_context('mode.use_inf_as_na', True):\n"
     ]
    },
    {
     "data": {
      "text/plain": [
       "<Axes: xlabel='Time (hours)', ylabel='Mtb Area'>"
      ]
     },
     "execution_count": 253,
     "metadata": {},
     "output_type": "execute_result"
    },
    {
     "data": {
      "image/png": "[encoded data removed]",
      "text/plain": [
       "<Figure size 640x480 with 1 Axes>"
      ]
     },
     "metadata": {},
     "output_type": "display_data"
    }
   ],
   "source": [
    "sns.lineplot(data = df, x = 'Time (hours)', y = 'Mtb Area')"
   ]
  },
  {
   "cell_type": "code",
   "execution_count": 257,
   "id": "20687fb1-1622-4dfa-8743-d3c8436952d2",
   "metadata": {},
   "outputs": [
    {
     "data": {
      "text/plain": [
       "array(['EC0', 'EC50', 'EC99'], dtype=object)"
      ]
     },
     "execution_count": 257,
     "metadata": {},
     "output_type": "execute_result"
    }
   ],
   "source": [
    "df['Concentration'].unique()"
   ]
  },
  {
   "cell_type": "code",
   "execution_count": 259,
   "id": "258c7083-6a8a-4cdd-a9ef-8e9ba90bcda4",
   "metadata": {},
   "outputs": [
    {
     "name": "stderr",
     "output_type": "stream",
     "text": [
      "/home/dayn/miniconda3/envs/egg/lib/python3.9/site-packages/seaborn/_oldcore.py:1119: FutureWarning: use_inf_as_na option is deprecated and will be removed in a future version. Convert inf values to NaN before operating instead.\n",
      "  with pd.option_context('mode.use_inf_as_na', True):\n",
      "/home/dayn/miniconda3/envs/egg/lib/python3.9/site-packages/seaborn/_oldcore.py:1119: FutureWarning: use_inf_as_na option is deprecated and will be removed in a future version. Convert inf values to NaN before operating instead.\n",
      "  with pd.option_context('mode.use_inf_as_na', True):\n"
     ]
    },
    {
     "data": {
      "text/plain": [
       "<Axes: xlabel='Time (hours)', ylabel='Mtb Area'>"
      ]
     },
     "execution_count": 259,
     "metadata": {},
     "output_type": "execute_result"
    },
    {
     "data": {
      "image/png": "[encoded data removed]",
      "text/plain": [
       "<Figure size 640x480 with 1 Axes>"
      ]
     },
     "metadata": {},
     "output_type": "display_data"
    }
   ],
   "source": [
    "sns.lineplot(data = df[(df['Strain']=='WT')&(df['Concentration']=='EC0')], x = 'Time (hours)', y = 'Mtb Area', hue = 'Acquisition ID')"
   ]
  },
  {
   "cell_type": "code",
   "execution_count": 262,
   "id": "80899625-bc7a-43ae-8920-23df558bc1d0",
   "metadata": {},
   "outputs": [
    {
     "data": {
      "text/html": [
       "<div>\n",
       "<style scoped>\n",
       "    .dataframe tbody tr th:only-of-type {\n",
       "        vertical-align: middle;\n",
       "    }\n",
       "\n",
       "    .dataframe tbody tr th {\n",
       "        vertical-align: top;\n",
       "    }\n",
       "\n",
       "    .dataframe thead th {\n",
       "        text-align: right;\n",
       "    }\n",
       "</style>\n",
       "<table border=\"1\" class=\"dataframe\">\n",
       "  <thead>\n",
       "    <tr style=\"text-align: right;\">\n",
       "      <th></th>\n",
       "      <th></th>\n",
       "      <th>Strain</th>\n",
       "      <th>Compound</th>\n",
       "      <th>Concentration</th>\n",
       "      <th>ConcentrationEC</th>\n",
       "    </tr>\n",
       "    <tr>\n",
       "      <th>Row</th>\n",
       "      <th>Column</th>\n",
       "      <th></th>\n",
       "      <th></th>\n",
       "      <th></th>\n",
       "      <th></th>\n",
       "    </tr>\n",
       "  </thead>\n",
       "  <tbody>\n",
       "    <tr>\n",
       "      <th rowspan=\"6\" valign=\"top\">3</th>\n",
       "      <th>4</th>\n",
       "      <td>RD1</td>\n",
       "      <td>CTRL</td>\n",
       "      <td>0</td>\n",
       "      <td>EC0</td>\n",
       "    </tr>\n",
       "    <tr>\n",
       "      <th>5</th>\n",
       "      <td>WT</td>\n",
       "      <td>CTRL</td>\n",
       "      <td>0</td>\n",
       "      <td>EC0</td>\n",
       "    </tr>\n",
       "    <tr>\n",
       "      <th>6</th>\n",
       "      <td>WT</td>\n",
       "      <td>PZA</td>\n",
       "      <td>60</td>\n",
       "      <td>EC50</td>\n",
       "    </tr>\n",
       "    <tr>\n",
       "      <th>7</th>\n",
       "      <td>WT</td>\n",
       "      <td>RIF</td>\n",
       "      <td>0.1</td>\n",
       "      <td>EC50</td>\n",
       "    </tr>\n",
       "    <tr>\n",
       "      <th>8</th>\n",
       "      <td>WT</td>\n",
       "      <td>INH</td>\n",
       "      <td>0.04</td>\n",
       "      <td>EC50</td>\n",
       "    </tr>\n",
       "    <tr>\n",
       "      <th>9</th>\n",
       "      <td>WT</td>\n",
       "      <td>BDQ</td>\n",
       "      <td>0.02</td>\n",
       "      <td>EC50</td>\n",
       "    </tr>\n",
       "    <tr>\n",
       "      <th rowspan=\"6\" valign=\"top\">4</th>\n",
       "      <th>4</th>\n",
       "      <td>RD1</td>\n",
       "      <td>CTRL</td>\n",
       "      <td>0</td>\n",
       "      <td>EC0</td>\n",
       "    </tr>\n",
       "    <tr>\n",
       "      <th>5</th>\n",
       "      <td>WT</td>\n",
       "      <td>CTRL</td>\n",
       "      <td>0</td>\n",
       "      <td>EC0</td>\n",
       "    </tr>\n",
       "    <tr>\n",
       "      <th>6</th>\n",
       "      <td>WT</td>\n",
       "      <td>PZA</td>\n",
       "      <td>60</td>\n",
       "      <td>EC50</td>\n",
       "    </tr>\n",
       "    <tr>\n",
       "      <th>7</th>\n",
       "      <td>WT</td>\n",
       "      <td>RIF</td>\n",
       "      <td>0.1</td>\n",
       "      <td>EC50</td>\n",
       "    </tr>\n",
       "    <tr>\n",
       "      <th>8</th>\n",
       "      <td>WT</td>\n",
       "      <td>INH</td>\n",
       "      <td>0.04</td>\n",
       "      <td>EC50</td>\n",
       "    </tr>\n",
       "    <tr>\n",
       "      <th>9</th>\n",
       "      <td>WT</td>\n",
       "      <td>BDQ</td>\n",
       "      <td>0.02</td>\n",
       "      <td>EC50</td>\n",
       "    </tr>\n",
       "    <tr>\n",
       "      <th rowspan=\"6\" valign=\"top\">5</th>\n",
       "      <th>4</th>\n",
       "      <td>RD1</td>\n",
       "      <td>CTRL</td>\n",
       "      <td>0</td>\n",
       "      <td>EC0</td>\n",
       "    </tr>\n",
       "    <tr>\n",
       "      <th>5</th>\n",
       "      <td>WT</td>\n",
       "      <td>CTRL</td>\n",
       "      <td>0</td>\n",
       "      <td>EC0</td>\n",
       "    </tr>\n",
       "    <tr>\n",
       "      <th>6</th>\n",
       "      <td>WT</td>\n",
       "      <td>PZA</td>\n",
       "      <td>400</td>\n",
       "      <td>EC99</td>\n",
       "    </tr>\n",
       "    <tr>\n",
       "      <th>7</th>\n",
       "      <td>WT</td>\n",
       "      <td>RIF</td>\n",
       "      <td>2</td>\n",
       "      <td>EC99</td>\n",
       "    </tr>\n",
       "    <tr>\n",
       "      <th>8</th>\n",
       "      <td>WT</td>\n",
       "      <td>INH</td>\n",
       "      <td>2</td>\n",
       "      <td>EC99</td>\n",
       "    </tr>\n",
       "    <tr>\n",
       "      <th>9</th>\n",
       "      <td>WT</td>\n",
       "      <td>BDQ</td>\n",
       "      <td>2.5</td>\n",
       "      <td>EC99</td>\n",
       "    </tr>\n",
       "    <tr>\n",
       "      <th rowspan=\"6\" valign=\"top\">6</th>\n",
       "      <th>4</th>\n",
       "      <td>RD1</td>\n",
       "      <td>CTRL</td>\n",
       "      <td>0</td>\n",
       "      <td>EC0</td>\n",
       "    </tr>\n",
       "    <tr>\n",
       "      <th>5</th>\n",
       "      <td>WT</td>\n",
       "      <td>CTRL</td>\n",
       "      <td>0</td>\n",
       "      <td>EC0</td>\n",
       "    </tr>\n",
       "    <tr>\n",
       "      <th>6</th>\n",
       "      <td>WT</td>\n",
       "      <td>PZA</td>\n",
       "      <td>400</td>\n",
       "      <td>EC99</td>\n",
       "    </tr>\n",
       "    <tr>\n",
       "      <th>7</th>\n",
       "      <td>WT</td>\n",
       "      <td>RIF</td>\n",
       "      <td>2</td>\n",
       "      <td>EC99</td>\n",
       "    </tr>\n",
       "    <tr>\n",
       "      <th>8</th>\n",
       "      <td>WT</td>\n",
       "      <td>INH</td>\n",
       "      <td>2</td>\n",
       "      <td>EC99</td>\n",
       "    </tr>\n",
       "    <tr>\n",
       "      <th>9</th>\n",
       "      <td>WT</td>\n",
       "      <td>BDQ</td>\n",
       "      <td>2.5</td>\n",
       "      <td>EC99</td>\n",
       "    </tr>\n",
       "  </tbody>\n",
       "</table>\n",
       "</div>"
      ],
      "text/plain": [
       "           Strain Compound Concentration ConcentrationEC\n",
       "Row Column                                              \n",
       "3   4         RD1     CTRL             0             EC0\n",
       "    5          WT     CTRL             0             EC0\n",
       "    6          WT      PZA            60            EC50\n",
       "    7          WT      RIF           0.1            EC50\n",
       "    8          WT      INH          0.04            EC50\n",
       "    9          WT      BDQ          0.02            EC50\n",
       "4   4         RD1     CTRL             0             EC0\n",
       "    5          WT     CTRL             0             EC0\n",
       "    6          WT      PZA            60            EC50\n",
       "    7          WT      RIF           0.1            EC50\n",
       "    8          WT      INH          0.04            EC50\n",
       "    9          WT      BDQ          0.02            EC50\n",
       "5   4         RD1     CTRL             0             EC0\n",
       "    5          WT     CTRL             0             EC0\n",
       "    6          WT      PZA           400            EC99\n",
       "    7          WT      RIF             2            EC99\n",
       "    8          WT      INH             2            EC99\n",
       "    9          WT      BDQ           2.5            EC99\n",
       "6   4         RD1     CTRL             0             EC0\n",
       "    5          WT     CTRL             0             EC0\n",
       "    6          WT      PZA           400            EC99\n",
       "    7          WT      RIF             2            EC99\n",
       "    8          WT      INH             2            EC99\n",
       "    9          WT      BDQ           2.5            EC99"
      ]
     },
     "execution_count": 262,
     "metadata": {},
     "output_type": "execute_result"
    }
   ],
   "source": [
    "assay_layout"
   ]
  },
  {
   "cell_type": "code",
   "execution_count": 282,
   "id": "4ce2f676-0052-415e-9a06-d33154bef06c",
   "metadata": {},
   "outputs": [
    {
     "name": "stdout",
     "output_type": "stream",
     "text": [
      "(3, 4) 147.23166823097083\n",
      "(3, 5) 9653.0\n",
      "(3, 6) 137.64417799552965\n",
      "(3, 7) 143.67826275909403\n",
      "(3, 8) 6476.0\n",
      "(3, 9) 180.6202705893604\n",
      "(4, 4) 66.44197778546999\n",
      "(4, 5) 13317.0\n",
      "(4, 6) 13492.0\n",
      "(4, 7) 254.66206500000007\n",
      "(4, 8) 165.44566483210033\n",
      "(4, 9) 10004.0\n",
      "(5, 4) 299.0685600000001\n",
      "(5, 5) 23191.0\n",
      "(5, 6) 9345.0\n",
      "(5, 7) 6063.0\n",
      "(5, 8) 148.5278790320328\n",
      "(5, 9) 270.41639125603325\n",
      "(6, 4) 155.0089330373427\n",
      "(6, 5) 8314.0\n",
      "(6, 6) 189.8948823555797\n",
      "(6, 7) 90.77945299851298\n",
      "(6, 8) 140.43773575643908\n",
      "(6, 9) 200.04108414320277\n"
     ]
    }
   ],
   "source": [
    "for acq_ID, info in assay_layout.iterrows():\n",
    "    subset_df = df[df['Acquisition ID'] == acq_ID]\n",
    "    average_mtb_area = np.mean(subset_df['Mtb Area'])\n",
    "    range = np.max(subset_df['Mtb Area']) - np.min(subset_df['Mtb Area'])\n",
    "    # print(acq_ID, average_mtb_area, range)\n",
    "    print(acq_ID, subset_df['Mtb Area'].max())"
   ]
  },
  {
   "cell_type": "code",
   "execution_count": 289,
   "id": "f1c84dd1-8bec-4657-b07e-edbd2038c05d",
   "metadata": {},
   "outputs": [
    {
     "data": {
      "image/png": "[encoded data removed]",
      "text/plain": [
       "<Figure size 1400x800 with 1 Axes>"
      ]
     },
     "metadata": {},
     "output_type": "display_data"
    }
   ],
   "source": [
    "# Initialize a dictionary to store the maximum Mtb Area for each Acquisition ID\n",
    "max_mtb_areas = {}\n",
    "\n",
    "# Loop through assay_layout to calculate the maximum Mtb Area for each Acquisition ID\n",
    "for acq_ID, info in assay_layout.iterrows():\n",
    "    subset_df = df[df['Acquisition ID'] == acq_ID]\n",
    "    max_mtb_area = subset_df['Mtb Area'].max()\n",
    "    max_mtb_areas[acq_ID] = max_mtb_area\n",
    "\n",
    "# Convert the dictionary to a DataFrame for plotting\n",
    "max_areas_df = pd.DataFrame(list(max_mtb_areas.items()), columns=['Acquisition ID', 'Max Mtb Area'])\n",
    "\n",
    "# Convert 'Acquisition ID' tuples to string representation for plotting\n",
    "max_areas_df['Acquisition ID'] = max_areas_df['Acquisition ID'].astype(str)\n",
    "\n",
    "# Plotting with corrected 'Acquisition ID' as string\n",
    "plt.figure(figsize=(14, 8))\n",
    "bars = plt.bar(max_areas_df['Acquisition ID'], max_areas_df['Max Mtb Area'], color='skyblue')\n",
    "plt.xlabel('Acquisition ID')\n",
    "plt.ylabel('Max Mtb Area')\n",
    "plt.title('Maximum Mtb Area per Acquisition ID')\n",
    "plt.xticks(rotation=45)  # Rotate labels to avoid overlap\n",
    "\n",
    "# Overlay the value of max area on the plot\n",
    "for bar in bars:\n",
    "    yval = bar.get_height()\n",
    "    plt.text(bar.get_x() + bar.get_width()/2, yval, f'{yval:.2f}', ha='center', va='bottom', rotation=45)\n",
    "\n",
    "plt.tight_layout()  # Adjust layout to make room for the rotated x-axis labels\n",
    "plt.show()\n"
   ]
  },
  {
   "cell_type": "code",
   "execution_count": 296,
   "id": "ea99b3a7-3d0f-4380-825e-14702f17f23b",
   "metadata": {},
   "outputs": [],
   "source": [
    "subset_df = df[df['Acquisition ID'] == (3,5)]"
   ]
  },
  {
   "cell_type": "code",
   "execution_count": 297,
   "id": "ffc0cfaa-20ee-4765-9f14-6fcee11257e0",
   "metadata": {},
   "outputs": [
    {
     "data": {
      "text/plain": [
       "0         46.797680\n",
       "1         48.719647\n",
       "2         52.206007\n",
       "3         50.552221\n",
       "4         54.463202\n",
       "            ...    \n",
       "296255     0.000000\n",
       "296256     8.872339\n",
       "296257     0.000000\n",
       "296258     0.000000\n",
       "296259     0.000000\n",
       "Name: Mtb Area, Length: 12688, dtype: float64"
      ]
     },
     "execution_count": 297,
     "metadata": {},
     "output_type": "execute_result"
    }
   ],
   "source": [
    "subset_df['Mtb Area']"
   ]
  },
  {
   "cell_type": "code",
   "execution_count": 298,
   "id": "4b5927e5-c476-4402-9a68-87074a9012fb",
   "metadata": {},
   "outputs": [
    {
     "name": "stdout",
     "output_type": "stream",
     "text": [
      "Number of integer values in 'Mtb Area': 5565 out of a total of 291526\n"
     ]
    }
   ],
   "source": [
    "# Count the number of integer values in the 'Mtb Area' series\n",
    "number_of_integers = subset_df['Mtb Area'].astype(int).eq(subset_df['Mtb Area']).sum()\n",
    "\n",
    "# Print the result\n",
    "print(f\"Number of integer values in 'Mtb Area': {number_of_integers} out of a total of {len(df)}\")\n"
   ]
  },
  {
   "cell_type": "code",
   "execution_count": 299,
   "id": "4f9de675-2196-414b-97d3-cdfb60a31bcf",
   "metadata": {},
   "outputs": [
    {
     "data": {
      "text/plain": [
       "array([(3, 5)], dtype=object)"
      ]
     },
     "execution_count": 299,
     "metadata": {},
     "output_type": "execute_result"
    }
   ],
   "source": [
    "subset_df['Acquisition ID'].unique()"
   ]
  },
  {
   "cell_type": "code",
   "execution_count": 300,
   "id": "9efd94d0-3cdd-4c6f-96a4-61cc10d83019",
   "metadata": {},
   "outputs": [
    {
     "data": {
      "text/html": [
       "<div>\n",
       "<style scoped>\n",
       "    .dataframe tbody tr th:only-of-type {\n",
       "        vertical-align: middle;\n",
       "    }\n",
       "\n",
       "    .dataframe tbody tr th {\n",
       "        vertical-align: top;\n",
       "    }\n",
       "\n",
       "    .dataframe thead th {\n",
       "        text-align: right;\n",
       "    }\n",
       "</style>\n",
       "<table border=\"1\" class=\"dataframe\">\n",
       "  <thead>\n",
       "    <tr style=\"text-align: right;\">\n",
       "      <th></th>\n",
       "      <th>Time (hours)</th>\n",
       "      <th>Mtb Area</th>\n",
       "      <th>dMtb</th>\n",
       "      <th>Strain</th>\n",
       "      <th>Compound</th>\n",
       "      <th>Concentration</th>\n",
       "      <th>Unique ID</th>\n",
       "      <th>Acquisition ID</th>\n",
       "      <th>Cell ID</th>\n",
       "      <th>Mphi Area</th>\n",
       "      <th>...</th>\n",
       "      <th>dMtb/dt</th>\n",
       "      <th>%dMtb/dt</th>\n",
       "      <th>%dMtb</th>\n",
       "      <th>Mean Mtb Intensity</th>\n",
       "      <th>Thresholded Mean Mtb Intensity</th>\n",
       "      <th>Infection Status</th>\n",
       "      <th>Initial Infection Status</th>\n",
       "      <th>Final Infection Status</th>\n",
       "      <th>dMtb/dt,T=15</th>\n",
       "      <th>Max. dMtb/dt,T=15</th>\n",
       "    </tr>\n",
       "  </thead>\n",
       "  <tbody>\n",
       "    <tr>\n",
       "      <th>0</th>\n",
       "      <td>0</td>\n",
       "      <td>46.797680</td>\n",
       "      <td>136.772588</td>\n",
       "      <td>WT</td>\n",
       "      <td>CTRL</td>\n",
       "      <td>EC0</td>\n",
       "      <td>1.3.5</td>\n",
       "      <td>(3, 5)</td>\n",
       "      <td>1</td>\n",
       "      <td>29567.0</td>\n",
       "      <td>...</td>\n",
       "      <td>0.000000</td>\n",
       "      <td>0.000000</td>\n",
       "      <td>292.26361</td>\n",
       "      <td>473.168976</td>\n",
       "      <td>167.325424</td>\n",
       "      <td>True</td>\n",
       "      <td>True</td>\n",
       "      <td>True</td>\n",
       "      <td>NaN</td>\n",
       "      <td>6.314185</td>\n",
       "    </tr>\n",
       "    <tr>\n",
       "      <th>1</th>\n",
       "      <td>1</td>\n",
       "      <td>48.719647</td>\n",
       "      <td>136.772588</td>\n",
       "      <td>WT</td>\n",
       "      <td>CTRL</td>\n",
       "      <td>EC0</td>\n",
       "      <td>1.3.5</td>\n",
       "      <td>(3, 5)</td>\n",
       "      <td>1</td>\n",
       "      <td>26181.0</td>\n",
       "      <td>...</td>\n",
       "      <td>1.921968</td>\n",
       "      <td>4.106972</td>\n",
       "      <td>292.26361</td>\n",
       "      <td>498.701813</td>\n",
       "      <td>202.661972</td>\n",
       "      <td>True</td>\n",
       "      <td>True</td>\n",
       "      <td>True</td>\n",
       "      <td>NaN</td>\n",
       "      <td>6.314185</td>\n",
       "    </tr>\n",
       "    <tr>\n",
       "      <th>2</th>\n",
       "      <td>2</td>\n",
       "      <td>52.206007</td>\n",
       "      <td>136.772588</td>\n",
       "      <td>WT</td>\n",
       "      <td>CTRL</td>\n",
       "      <td>EC0</td>\n",
       "      <td>1.3.5</td>\n",
       "      <td>(3, 5)</td>\n",
       "      <td>1</td>\n",
       "      <td>26043.0</td>\n",
       "      <td>...</td>\n",
       "      <td>3.486360</td>\n",
       "      <td>7.155963</td>\n",
       "      <td>292.26361</td>\n",
       "      <td>502.468353</td>\n",
       "      <td>210.382874</td>\n",
       "      <td>True</td>\n",
       "      <td>True</td>\n",
       "      <td>True</td>\n",
       "      <td>NaN</td>\n",
       "      <td>6.314185</td>\n",
       "    </tr>\n",
       "    <tr>\n",
       "      <th>3</th>\n",
       "      <td>3</td>\n",
       "      <td>50.552221</td>\n",
       "      <td>136.772588</td>\n",
       "      <td>WT</td>\n",
       "      <td>CTRL</td>\n",
       "      <td>EC0</td>\n",
       "      <td>1.3.5</td>\n",
       "      <td>(3, 5)</td>\n",
       "      <td>1</td>\n",
       "      <td>25605.0</td>\n",
       "      <td>...</td>\n",
       "      <td>-1.653786</td>\n",
       "      <td>-3.167808</td>\n",
       "      <td>292.26361</td>\n",
       "      <td>501.905182</td>\n",
       "      <td>212.070969</td>\n",
       "      <td>True</td>\n",
       "      <td>True</td>\n",
       "      <td>True</td>\n",
       "      <td>NaN</td>\n",
       "      <td>6.314185</td>\n",
       "    </tr>\n",
       "    <tr>\n",
       "      <th>4</th>\n",
       "      <td>4</td>\n",
       "      <td>54.463202</td>\n",
       "      <td>136.772588</td>\n",
       "      <td>WT</td>\n",
       "      <td>CTRL</td>\n",
       "      <td>EC0</td>\n",
       "      <td>1.3.5</td>\n",
       "      <td>(3, 5)</td>\n",
       "      <td>1</td>\n",
       "      <td>26430.0</td>\n",
       "      <td>...</td>\n",
       "      <td>3.910981</td>\n",
       "      <td>7.736516</td>\n",
       "      <td>292.26361</td>\n",
       "      <td>502.564423</td>\n",
       "      <td>204.565842</td>\n",
       "      <td>True</td>\n",
       "      <td>True</td>\n",
       "      <td>True</td>\n",
       "      <td>NaN</td>\n",
       "      <td>6.314185</td>\n",
       "    </tr>\n",
       "    <tr>\n",
       "      <th>...</th>\n",
       "      <td>...</td>\n",
       "      <td>...</td>\n",
       "      <td>...</td>\n",
       "      <td>...</td>\n",
       "      <td>...</td>\n",
       "      <td>...</td>\n",
       "      <td>...</td>\n",
       "      <td>...</td>\n",
       "      <td>...</td>\n",
       "      <td>...</td>\n",
       "      <td>...</td>\n",
       "      <td>...</td>\n",
       "      <td>...</td>\n",
       "      <td>...</td>\n",
       "      <td>...</td>\n",
       "      <td>...</td>\n",
       "      <td>...</td>\n",
       "      <td>...</td>\n",
       "      <td>...</td>\n",
       "      <td>...</td>\n",
       "      <td>...</td>\n",
       "    </tr>\n",
       "    <tr>\n",
       "      <th>296255</th>\n",
       "      <td>70</td>\n",
       "      <td>0.000000</td>\n",
       "      <td>0.000000</td>\n",
       "      <td>WT</td>\n",
       "      <td>CTRL</td>\n",
       "      <td>EC0</td>\n",
       "      <td>99.3.5</td>\n",
       "      <td>(3, 5)</td>\n",
       "      <td>99</td>\n",
       "      <td>47470.0</td>\n",
       "      <td>...</td>\n",
       "      <td>0.000000</td>\n",
       "      <td>0.000000</td>\n",
       "      <td>0.00000</td>\n",
       "      <td>388.573425</td>\n",
       "      <td>0.000000</td>\n",
       "      <td>True</td>\n",
       "      <td>True</td>\n",
       "      <td>True</td>\n",
       "      <td>0.000000</td>\n",
       "      <td>0.591489</td>\n",
       "    </tr>\n",
       "    <tr>\n",
       "      <th>296256</th>\n",
       "      <td>71</td>\n",
       "      <td>8.872339</td>\n",
       "      <td>0.000000</td>\n",
       "      <td>WT</td>\n",
       "      <td>CTRL</td>\n",
       "      <td>EC0</td>\n",
       "      <td>99.3.5</td>\n",
       "      <td>(3, 5)</td>\n",
       "      <td>99</td>\n",
       "      <td>41936.0</td>\n",
       "      <td>...</td>\n",
       "      <td>8.872339</td>\n",
       "      <td>inf</td>\n",
       "      <td>0.00000</td>\n",
       "      <td>409.822296</td>\n",
       "      <td>21.552986</td>\n",
       "      <td>True</td>\n",
       "      <td>True</td>\n",
       "      <td>True</td>\n",
       "      <td>0.591489</td>\n",
       "      <td>0.591489</td>\n",
       "    </tr>\n",
       "    <tr>\n",
       "      <th>296257</th>\n",
       "      <td>72</td>\n",
       "      <td>0.000000</td>\n",
       "      <td>0.000000</td>\n",
       "      <td>WT</td>\n",
       "      <td>CTRL</td>\n",
       "      <td>EC0</td>\n",
       "      <td>99.3.5</td>\n",
       "      <td>(3, 5)</td>\n",
       "      <td>99</td>\n",
       "      <td>53247.0</td>\n",
       "      <td>...</td>\n",
       "      <td>-8.872339</td>\n",
       "      <td>-100.000000</td>\n",
       "      <td>0.00000</td>\n",
       "      <td>387.400879</td>\n",
       "      <td>0.000000</td>\n",
       "      <td>True</td>\n",
       "      <td>True</td>\n",
       "      <td>True</td>\n",
       "      <td>0.000000</td>\n",
       "      <td>0.591489</td>\n",
       "    </tr>\n",
       "    <tr>\n",
       "      <th>296258</th>\n",
       "      <td>73</td>\n",
       "      <td>0.000000</td>\n",
       "      <td>0.000000</td>\n",
       "      <td>WT</td>\n",
       "      <td>CTRL</td>\n",
       "      <td>EC0</td>\n",
       "      <td>99.3.5</td>\n",
       "      <td>(3, 5)</td>\n",
       "      <td>99</td>\n",
       "      <td>43669.0</td>\n",
       "      <td>...</td>\n",
       "      <td>0.000000</td>\n",
       "      <td>0.000000</td>\n",
       "      <td>0.00000</td>\n",
       "      <td>393.975342</td>\n",
       "      <td>0.000000</td>\n",
       "      <td>True</td>\n",
       "      <td>True</td>\n",
       "      <td>True</td>\n",
       "      <td>0.000000</td>\n",
       "      <td>0.591489</td>\n",
       "    </tr>\n",
       "    <tr>\n",
       "      <th>296259</th>\n",
       "      <td>74</td>\n",
       "      <td>0.000000</td>\n",
       "      <td>0.000000</td>\n",
       "      <td>WT</td>\n",
       "      <td>CTRL</td>\n",
       "      <td>EC0</td>\n",
       "      <td>99.3.5</td>\n",
       "      <td>(3, 5)</td>\n",
       "      <td>99</td>\n",
       "      <td>46767.0</td>\n",
       "      <td>...</td>\n",
       "      <td>0.000000</td>\n",
       "      <td>0.000000</td>\n",
       "      <td>0.00000</td>\n",
       "      <td>390.749146</td>\n",
       "      <td>0.000000</td>\n",
       "      <td>True</td>\n",
       "      <td>True</td>\n",
       "      <td>True</td>\n",
       "      <td>0.000000</td>\n",
       "      <td>0.591489</td>\n",
       "    </tr>\n",
       "  </tbody>\n",
       "</table>\n",
       "<p>12688 rows × 27 columns</p>\n",
       "</div>"
      ],
      "text/plain": [
       "        Time (hours)   Mtb Area        dMtb Strain Compound Concentration  \\\n",
       "0                  0  46.797680  136.772588     WT     CTRL           EC0   \n",
       "1                  1  48.719647  136.772588     WT     CTRL           EC0   \n",
       "2                  2  52.206007  136.772588     WT     CTRL           EC0   \n",
       "3                  3  50.552221  136.772588     WT     CTRL           EC0   \n",
       "4                  4  54.463202  136.772588     WT     CTRL           EC0   \n",
       "...              ...        ...         ...    ...      ...           ...   \n",
       "296255            70   0.000000    0.000000     WT     CTRL           EC0   \n",
       "296256            71   8.872339    0.000000     WT     CTRL           EC0   \n",
       "296257            72   0.000000    0.000000     WT     CTRL           EC0   \n",
       "296258            73   0.000000    0.000000     WT     CTRL           EC0   \n",
       "296259            74   0.000000    0.000000     WT     CTRL           EC0   \n",
       "\n",
       "       Unique ID Acquisition ID  Cell ID  Mphi Area  ...   dMtb/dt  \\\n",
       "0          1.3.5         (3, 5)        1    29567.0  ...  0.000000   \n",
       "1          1.3.5         (3, 5)        1    26181.0  ...  1.921968   \n",
       "2          1.3.5         (3, 5)        1    26043.0  ...  3.486360   \n",
       "3          1.3.5         (3, 5)        1    25605.0  ... -1.653786   \n",
       "4          1.3.5         (3, 5)        1    26430.0  ...  3.910981   \n",
       "...          ...            ...      ...        ...  ...       ...   \n",
       "296255    99.3.5         (3, 5)       99    47470.0  ...  0.000000   \n",
       "296256    99.3.5         (3, 5)       99    41936.0  ...  8.872339   \n",
       "296257    99.3.5         (3, 5)       99    53247.0  ... -8.872339   \n",
       "296258    99.3.5         (3, 5)       99    43669.0  ...  0.000000   \n",
       "296259    99.3.5         (3, 5)       99    46767.0  ...  0.000000   \n",
       "\n",
       "          %dMtb/dt      %dMtb  Mean Mtb Intensity  \\\n",
       "0         0.000000  292.26361          473.168976   \n",
       "1         4.106972  292.26361          498.701813   \n",
       "2         7.155963  292.26361          502.468353   \n",
       "3        -3.167808  292.26361          501.905182   \n",
       "4         7.736516  292.26361          502.564423   \n",
       "...            ...        ...                 ...   \n",
       "296255    0.000000    0.00000          388.573425   \n",
       "296256         inf    0.00000          409.822296   \n",
       "296257 -100.000000    0.00000          387.400879   \n",
       "296258    0.000000    0.00000          393.975342   \n",
       "296259    0.000000    0.00000          390.749146   \n",
       "\n",
       "        Thresholded Mean Mtb Intensity  Infection Status  \\\n",
       "0                           167.325424              True   \n",
       "1                           202.661972              True   \n",
       "2                           210.382874              True   \n",
       "3                           212.070969              True   \n",
       "4                           204.565842              True   \n",
       "...                                ...               ...   \n",
       "296255                        0.000000              True   \n",
       "296256                       21.552986              True   \n",
       "296257                        0.000000              True   \n",
       "296258                        0.000000              True   \n",
       "296259                        0.000000              True   \n",
       "\n",
       "       Initial Infection Status  Final Infection Status  dMtb/dt,T=15  \\\n",
       "0                          True                    True           NaN   \n",
       "1                          True                    True           NaN   \n",
       "2                          True                    True           NaN   \n",
       "3                          True                    True           NaN   \n",
       "4                          True                    True           NaN   \n",
       "...                         ...                     ...           ...   \n",
       "296255                     True                    True      0.000000   \n",
       "296256                     True                    True      0.591489   \n",
       "296257                     True                    True      0.000000   \n",
       "296258                     True                    True      0.000000   \n",
       "296259                     True                    True      0.000000   \n",
       "\n",
       "        Max. dMtb/dt,T=15  \n",
       "0                6.314185  \n",
       "1                6.314185  \n",
       "2                6.314185  \n",
       "3                6.314185  \n",
       "4                6.314185  \n",
       "...                   ...  \n",
       "296255           0.591489  \n",
       "296256           0.591489  \n",
       "296257           0.591489  \n",
       "296258           0.591489  \n",
       "296259           0.591489  \n",
       "\n",
       "[12688 rows x 27 columns]"
      ]
     },
     "execution_count": 300,
     "metadata": {},
     "output_type": "execute_result"
    }
   ],
   "source": [
    "subset_df"
   ]
  },
  {
   "cell_type": "code",
   "execution_count": 301,
   "id": "54b1c5e8-33a8-4c39-9a6f-09afb0b49645",
   "metadata": {},
   "outputs": [
    {
     "name": "stderr",
     "output_type": "stream",
     "text": [
      "/home/dayn/miniconda3/envs/egg/lib/python3.9/site-packages/seaborn/_oldcore.py:1119: FutureWarning: use_inf_as_na option is deprecated and will be removed in a future version. Convert inf values to NaN before operating instead.\n",
      "  with pd.option_context('mode.use_inf_as_na', True):\n",
      "/home/dayn/miniconda3/envs/egg/lib/python3.9/site-packages/seaborn/_oldcore.py:1119: FutureWarning: use_inf_as_na option is deprecated and will be removed in a future version. Convert inf values to NaN before operating instead.\n",
      "  with pd.option_context('mode.use_inf_as_na', True):\n"
     ]
    },
    {
     "data": {
      "text/plain": [
       "<Axes: xlabel='Time (hours)', ylabel='Mtb Area'>"
      ]
     },
     "execution_count": 301,
     "metadata": {},
     "output_type": "execute_result"
    },
    {
     "data": {
      "image/png": "[encoded data removed]",
      "text/plain": [
       "<Figure size 640x480 with 1 Axes>"
      ]
     },
     "metadata": {},
     "output_type": "display_data"
    }
   ],
   "source": [
    "### this is just 3,5 df so looks like it matches the range\n",
    "sns.lineplot(data = subset_df, x = 'Time (hours)', y = 'Mtb Area')"
   ]
  },
  {
   "cell_type": "markdown",
   "id": "609facbd-db6d-4e7b-8913-08c672ace175",
   "metadata": {},
   "source": [
    "### isolating the outliers from this time series and checking the area measurements"
   ]
  },
  {
   "cell_type": "code",
   "execution_count": 307,
   "id": "26f4ec76-6842-49a9-99b7-ad931bb9240b",
   "metadata": {},
   "outputs": [
    {
     "data": {
      "text/html": [
       "<div>\n",
       "<style scoped>\n",
       "    .dataframe tbody tr th:only-of-type {\n",
       "        vertical-align: middle;\n",
       "    }\n",
       "\n",
       "    .dataframe tbody tr th {\n",
       "        vertical-align: top;\n",
       "    }\n",
       "\n",
       "    .dataframe thead th {\n",
       "        text-align: right;\n",
       "    }\n",
       "</style>\n",
       "<table border=\"1\" class=\"dataframe\">\n",
       "  <thead>\n",
       "    <tr style=\"text-align: right;\">\n",
       "      <th></th>\n",
       "      <th>Time (hours)</th>\n",
       "      <th>Mtb Area</th>\n",
       "      <th>dMtb</th>\n",
       "      <th>Strain</th>\n",
       "      <th>Compound</th>\n",
       "      <th>Concentration</th>\n",
       "      <th>Unique ID</th>\n",
       "      <th>Acquisition ID</th>\n",
       "      <th>Cell ID</th>\n",
       "      <th>Mphi Area</th>\n",
       "      <th>...</th>\n",
       "      <th>dMtb/dt</th>\n",
       "      <th>%dMtb/dt</th>\n",
       "      <th>%dMtb</th>\n",
       "      <th>Mean Mtb Intensity</th>\n",
       "      <th>Thresholded Mean Mtb Intensity</th>\n",
       "      <th>Infection Status</th>\n",
       "      <th>Initial Infection Status</th>\n",
       "      <th>Final Infection Status</th>\n",
       "      <th>dMtb/dt,T=15</th>\n",
       "      <th>Max. dMtb/dt,T=15</th>\n",
       "    </tr>\n",
       "  </thead>\n",
       "  <tbody>\n",
       "    <tr>\n",
       "      <th>80070</th>\n",
       "      <td>0</td>\n",
       "      <td>1160.0</td>\n",
       "      <td>5768.0</td>\n",
       "      <td>WT</td>\n",
       "      <td>CTRL</td>\n",
       "      <td>EC0</td>\n",
       "      <td>289.3.5</td>\n",
       "      <td>(3, 5)</td>\n",
       "      <td>289</td>\n",
       "      <td>39609.0</td>\n",
       "      <td>...</td>\n",
       "      <td>0.0</td>\n",
       "      <td>0.000000</td>\n",
       "      <td>497.241379</td>\n",
       "      <td>441.045410</td>\n",
       "      <td>79.187531</td>\n",
       "      <td>True</td>\n",
       "      <td>True</td>\n",
       "      <td>True</td>\n",
       "      <td>NaN</td>\n",
       "      <td>439.0</td>\n",
       "    </tr>\n",
       "    <tr>\n",
       "      <th>80071</th>\n",
       "      <td>1</td>\n",
       "      <td>1202.0</td>\n",
       "      <td>5768.0</td>\n",
       "      <td>WT</td>\n",
       "      <td>CTRL</td>\n",
       "      <td>EC0</td>\n",
       "      <td>289.3.5</td>\n",
       "      <td>(3, 5)</td>\n",
       "      <td>289</td>\n",
       "      <td>29292.0</td>\n",
       "      <td>...</td>\n",
       "      <td>42.0</td>\n",
       "      <td>3.620690</td>\n",
       "      <td>497.241379</td>\n",
       "      <td>468.448669</td>\n",
       "      <td>112.375259</td>\n",
       "      <td>True</td>\n",
       "      <td>True</td>\n",
       "      <td>True</td>\n",
       "      <td>NaN</td>\n",
       "      <td>439.0</td>\n",
       "    </tr>\n",
       "    <tr>\n",
       "      <th>80072</th>\n",
       "      <td>2</td>\n",
       "      <td>936.0</td>\n",
       "      <td>5768.0</td>\n",
       "      <td>WT</td>\n",
       "      <td>CTRL</td>\n",
       "      <td>EC0</td>\n",
       "      <td>289.3.5</td>\n",
       "      <td>(3, 5)</td>\n",
       "      <td>289</td>\n",
       "      <td>18588.0</td>\n",
       "      <td>...</td>\n",
       "      <td>-266.0</td>\n",
       "      <td>-22.129784</td>\n",
       "      <td>497.241379</td>\n",
       "      <td>486.792999</td>\n",
       "      <td>138.834946</td>\n",
       "      <td>True</td>\n",
       "      <td>True</td>\n",
       "      <td>True</td>\n",
       "      <td>NaN</td>\n",
       "      <td>439.0</td>\n",
       "    </tr>\n",
       "    <tr>\n",
       "      <th>80073</th>\n",
       "      <td>3</td>\n",
       "      <td>1178.0</td>\n",
       "      <td>5768.0</td>\n",
       "      <td>WT</td>\n",
       "      <td>CTRL</td>\n",
       "      <td>EC0</td>\n",
       "      <td>289.3.5</td>\n",
       "      <td>(3, 5)</td>\n",
       "      <td>289</td>\n",
       "      <td>32784.0</td>\n",
       "      <td>...</td>\n",
       "      <td>242.0</td>\n",
       "      <td>25.854701</td>\n",
       "      <td>497.241379</td>\n",
       "      <td>451.972839</td>\n",
       "      <td>89.517052</td>\n",
       "      <td>True</td>\n",
       "      <td>True</td>\n",
       "      <td>True</td>\n",
       "      <td>NaN</td>\n",
       "      <td>439.0</td>\n",
       "    </tr>\n",
       "    <tr>\n",
       "      <th>80074</th>\n",
       "      <td>5</td>\n",
       "      <td>26.0</td>\n",
       "      <td>5768.0</td>\n",
       "      <td>WT</td>\n",
       "      <td>CTRL</td>\n",
       "      <td>EC0</td>\n",
       "      <td>289.3.5</td>\n",
       "      <td>(3, 5)</td>\n",
       "      <td>289</td>\n",
       "      <td>10108.0</td>\n",
       "      <td>...</td>\n",
       "      <td>-1152.0</td>\n",
       "      <td>-97.792869</td>\n",
       "      <td>497.241379</td>\n",
       "      <td>395.243774</td>\n",
       "      <td>7.391670</td>\n",
       "      <td>True</td>\n",
       "      <td>True</td>\n",
       "      <td>True</td>\n",
       "      <td>NaN</td>\n",
       "      <td>439.0</td>\n",
       "    </tr>\n",
       "    <tr>\n",
       "      <th>...</th>\n",
       "      <td>...</td>\n",
       "      <td>...</td>\n",
       "      <td>...</td>\n",
       "      <td>...</td>\n",
       "      <td>...</td>\n",
       "      <td>...</td>\n",
       "      <td>...</td>\n",
       "      <td>...</td>\n",
       "      <td>...</td>\n",
       "      <td>...</td>\n",
       "      <td>...</td>\n",
       "      <td>...</td>\n",
       "      <td>...</td>\n",
       "      <td>...</td>\n",
       "      <td>...</td>\n",
       "      <td>...</td>\n",
       "      <td>...</td>\n",
       "      <td>...</td>\n",
       "      <td>...</td>\n",
       "      <td>...</td>\n",
       "      <td>...</td>\n",
       "    </tr>\n",
       "    <tr>\n",
       "      <th>173209</th>\n",
       "      <td>66</td>\n",
       "      <td>3775.0</td>\n",
       "      <td>2550.0</td>\n",
       "      <td>WT</td>\n",
       "      <td>CTRL</td>\n",
       "      <td>EC0</td>\n",
       "      <td>486.3.5</td>\n",
       "      <td>(3, 5)</td>\n",
       "      <td>486</td>\n",
       "      <td>12097.0</td>\n",
       "      <td>...</td>\n",
       "      <td>-263.0</td>\n",
       "      <td>-6.513125</td>\n",
       "      <td>4636.363636</td>\n",
       "      <td>1118.471680</td>\n",
       "      <td>909.679199</td>\n",
       "      <td>True</td>\n",
       "      <td>True</td>\n",
       "      <td>True</td>\n",
       "      <td>119.666667</td>\n",
       "      <td>296.0</td>\n",
       "    </tr>\n",
       "    <tr>\n",
       "      <th>173210</th>\n",
       "      <td>67</td>\n",
       "      <td>3030.0</td>\n",
       "      <td>2550.0</td>\n",
       "      <td>WT</td>\n",
       "      <td>CTRL</td>\n",
       "      <td>EC0</td>\n",
       "      <td>486.3.5</td>\n",
       "      <td>(3, 5)</td>\n",
       "      <td>486</td>\n",
       "      <td>10057.0</td>\n",
       "      <td>...</td>\n",
       "      <td>-745.0</td>\n",
       "      <td>-19.735099</td>\n",
       "      <td>4636.363636</td>\n",
       "      <td>1114.267578</td>\n",
       "      <td>905.143311</td>\n",
       "      <td>True</td>\n",
       "      <td>True</td>\n",
       "      <td>True</td>\n",
       "      <td>64.733333</td>\n",
       "      <td>296.0</td>\n",
       "    </tr>\n",
       "    <tr>\n",
       "      <th>173211</th>\n",
       "      <td>68</td>\n",
       "      <td>2901.0</td>\n",
       "      <td>2550.0</td>\n",
       "      <td>WT</td>\n",
       "      <td>CTRL</td>\n",
       "      <td>EC0</td>\n",
       "      <td>486.3.5</td>\n",
       "      <td>(3, 5)</td>\n",
       "      <td>486</td>\n",
       "      <td>9328.0</td>\n",
       "      <td>...</td>\n",
       "      <td>-129.0</td>\n",
       "      <td>-4.257426</td>\n",
       "      <td>4636.363636</td>\n",
       "      <td>1077.675781</td>\n",
       "      <td>875.497192</td>\n",
       "      <td>True</td>\n",
       "      <td>True</td>\n",
       "      <td>True</td>\n",
       "      <td>28.200000</td>\n",
       "      <td>296.0</td>\n",
       "    </tr>\n",
       "    <tr>\n",
       "      <th>173212</th>\n",
       "      <td>69</td>\n",
       "      <td>2724.0</td>\n",
       "      <td>2550.0</td>\n",
       "      <td>WT</td>\n",
       "      <td>CTRL</td>\n",
       "      <td>EC0</td>\n",
       "      <td>486.3.5</td>\n",
       "      <td>(3, 5)</td>\n",
       "      <td>486</td>\n",
       "      <td>8462.0</td>\n",
       "      <td>...</td>\n",
       "      <td>-177.0</td>\n",
       "      <td>-6.101344</td>\n",
       "      <td>4636.363636</td>\n",
       "      <td>1077.960327</td>\n",
       "      <td>881.356201</td>\n",
       "      <td>True</td>\n",
       "      <td>True</td>\n",
       "      <td>True</td>\n",
       "      <td>21.733333</td>\n",
       "      <td>296.0</td>\n",
       "    </tr>\n",
       "    <tr>\n",
       "      <th>173213</th>\n",
       "      <td>70</td>\n",
       "      <td>2605.0</td>\n",
       "      <td>2550.0</td>\n",
       "      <td>WT</td>\n",
       "      <td>CTRL</td>\n",
       "      <td>EC0</td>\n",
       "      <td>486.3.5</td>\n",
       "      <td>(3, 5)</td>\n",
       "      <td>486</td>\n",
       "      <td>8327.0</td>\n",
       "      <td>...</td>\n",
       "      <td>-119.0</td>\n",
       "      <td>-4.368576</td>\n",
       "      <td>4636.363636</td>\n",
       "      <td>988.615723</td>\n",
       "      <td>821.693787</td>\n",
       "      <td>True</td>\n",
       "      <td>True</td>\n",
       "      <td>True</td>\n",
       "      <td>2.866667</td>\n",
       "      <td>296.0</td>\n",
       "    </tr>\n",
       "  </tbody>\n",
       "</table>\n",
       "<p>199 rows × 27 columns</p>\n",
       "</div>"
      ],
      "text/plain": [
       "        Time (hours)  Mtb Area    dMtb Strain Compound Concentration  \\\n",
       "80070              0    1160.0  5768.0     WT     CTRL           EC0   \n",
       "80071              1    1202.0  5768.0     WT     CTRL           EC0   \n",
       "80072              2     936.0  5768.0     WT     CTRL           EC0   \n",
       "80073              3    1178.0  5768.0     WT     CTRL           EC0   \n",
       "80074              5      26.0  5768.0     WT     CTRL           EC0   \n",
       "...              ...       ...     ...    ...      ...           ...   \n",
       "173209            66    3775.0  2550.0     WT     CTRL           EC0   \n",
       "173210            67    3030.0  2550.0     WT     CTRL           EC0   \n",
       "173211            68    2901.0  2550.0     WT     CTRL           EC0   \n",
       "173212            69    2724.0  2550.0     WT     CTRL           EC0   \n",
       "173213            70    2605.0  2550.0     WT     CTRL           EC0   \n",
       "\n",
       "       Unique ID Acquisition ID  Cell ID  Mphi Area  ...  dMtb/dt   %dMtb/dt  \\\n",
       "80070    289.3.5         (3, 5)      289    39609.0  ...      0.0   0.000000   \n",
       "80071    289.3.5         (3, 5)      289    29292.0  ...     42.0   3.620690   \n",
       "80072    289.3.5         (3, 5)      289    18588.0  ...   -266.0 -22.129784   \n",
       "80073    289.3.5         (3, 5)      289    32784.0  ...    242.0  25.854701   \n",
       "80074    289.3.5         (3, 5)      289    10108.0  ...  -1152.0 -97.792869   \n",
       "...          ...            ...      ...        ...  ...      ...        ...   \n",
       "173209   486.3.5         (3, 5)      486    12097.0  ...   -263.0  -6.513125   \n",
       "173210   486.3.5         (3, 5)      486    10057.0  ...   -745.0 -19.735099   \n",
       "173211   486.3.5         (3, 5)      486     9328.0  ...   -129.0  -4.257426   \n",
       "173212   486.3.5         (3, 5)      486     8462.0  ...   -177.0  -6.101344   \n",
       "173213   486.3.5         (3, 5)      486     8327.0  ...   -119.0  -4.368576   \n",
       "\n",
       "              %dMtb  Mean Mtb Intensity  Thresholded Mean Mtb Intensity  \\\n",
       "80070    497.241379          441.045410                       79.187531   \n",
       "80071    497.241379          468.448669                      112.375259   \n",
       "80072    497.241379          486.792999                      138.834946   \n",
       "80073    497.241379          451.972839                       89.517052   \n",
       "80074    497.241379          395.243774                        7.391670   \n",
       "...             ...                 ...                             ...   \n",
       "173209  4636.363636         1118.471680                      909.679199   \n",
       "173210  4636.363636         1114.267578                      905.143311   \n",
       "173211  4636.363636         1077.675781                      875.497192   \n",
       "173212  4636.363636         1077.960327                      881.356201   \n",
       "173213  4636.363636          988.615723                      821.693787   \n",
       "\n",
       "        Infection Status Initial Infection Status  Final Infection Status  \\\n",
       "80070               True                     True                    True   \n",
       "80071               True                     True                    True   \n",
       "80072               True                     True                    True   \n",
       "80073               True                     True                    True   \n",
       "80074               True                     True                    True   \n",
       "...                  ...                      ...                     ...   \n",
       "173209              True                     True                    True   \n",
       "173210              True                     True                    True   \n",
       "173211              True                     True                    True   \n",
       "173212              True                     True                    True   \n",
       "173213              True                     True                    True   \n",
       "\n",
       "        dMtb/dt,T=15  Max. dMtb/dt,T=15  \n",
       "80070            NaN              439.0  \n",
       "80071            NaN              439.0  \n",
       "80072            NaN              439.0  \n",
       "80073            NaN              439.0  \n",
       "80074            NaN              439.0  \n",
       "...              ...                ...  \n",
       "173209    119.666667              296.0  \n",
       "173210     64.733333              296.0  \n",
       "173211     28.200000              296.0  \n",
       "173212     21.733333              296.0  \n",
       "173213      2.866667              296.0  \n",
       "\n",
       "[199 rows x 27 columns]"
      ]
     },
     "execution_count": 307,
     "metadata": {},
     "output_type": "execute_result"
    }
   ],
   "source": [
    "subset_df[(subset_df['Mtb Area'].astype(int).eq(subset_df['Mtb Area']))&(subset_df['Mtb Area']!=0.0)]"
   ]
  },
  {
   "cell_type": "code",
   "execution_count": 317,
   "id": "f6508fd7-4fdc-45b7-b7f7-eec01dbb8dfb",
   "metadata": {},
   "outputs": [
    {
     "data": {
      "text/plain": [
       "80070    1056.830688\n",
       "80071    1060.568604\n",
       "80072    1056.297119\n",
       "80073    1057.954346\n",
       "80074    1067.251099\n",
       "            ...     \n",
       "80139    1037.674805\n",
       "80140    1035.251953\n",
       "80141    1036.097168\n",
       "80142    1036.338013\n",
       "80143    1036.958740\n",
       "Name: y, Length: 74, dtype: float64"
      ]
     },
     "execution_count": 317,
     "metadata": {},
     "output_type": "execute_result"
    }
   ],
   "source": [
    "subset_df[subset_df['Unique ID'] == '289.3.5']['y']"
   ]
  },
  {
   "cell_type": "code",
   "execution_count": 318,
   "id": "05589cbe-1b91-4691-9b75-5f490cc312e7",
   "metadata": {},
   "outputs": [
    {
     "data": {
      "text/plain": [
       "<Points layer 'Points' at 0x7f3618f68cd0>"
      ]
     },
     "execution_count": 318,
     "metadata": {},
     "output_type": "execute_result"
    }
   ],
   "source": [
    "viewer.add_points([int(1056*5.04), int(203*5.04)], size = 100)"
   ]
  },
  {
   "cell_type": "markdown",
   "id": "8517f186-e787-46b3-bec0-5683df1960d6",
   "metadata": {},
   "source": [
    "### Manually checking Mtb area"
   ]
  },
  {
   "cell_type": "code",
   "execution_count": 319,
   "id": "0460f302-b1ea-47d2-a769-2f01b5878a1c",
   "metadata": {},
   "outputs": [],
   "source": [
    "segment_ID = 543\n",
    "mask = segmentation[0] == segment_ID\n",
    "masked_rfp = mask * rfp_t0"
   ]
  },
  {
   "cell_type": "code",
   "execution_count": 320,
   "id": "af7d0425-7ebc-41df-b769-f8b098d3902d",
   "metadata": {},
   "outputs": [
    {
     "data": {
      "text/plain": [
       "<Image layer 'masked_rfp' at 0x7f3617fb0b20>"
      ]
     },
     "execution_count": 320,
     "metadata": {},
     "output_type": "execute_result"
    }
   ],
   "source": [
    "viewer.add_image(masked_rfp)"
   ]
  },
  {
   "cell_type": "markdown",
   "id": "392376ca-d903-4385-bd65-298b152f5d0e",
   "metadata": {},
   "source": [
    "##### The next step is threshold above 480 then count the area of the binary expression"
   ]
  },
  {
   "cell_type": "code",
   "execution_count": 321,
   "id": "27a51824-847d-4f4a-ac78-734b786a8664",
   "metadata": {},
   "outputs": [],
   "source": [
    "masked_threshold_rfp = masked_rfp >= 480"
   ]
  },
  {
   "cell_type": "code",
   "execution_count": 322,
   "id": "a7f72a8c-533c-4544-bb26-86c6aaec5f19",
   "metadata": {},
   "outputs": [
    {
     "data": {
      "text/plain": [
       "<Image layer 'masked_threshold_rfp' at 0x7f36153c3700>"
      ]
     },
     "execution_count": 322,
     "metadata": {},
     "output_type": "execute_result"
    }
   ],
   "source": [
    "viewer.add_image(masked_threshold_rfp)"
   ]
  },
  {
   "cell_type": "code",
   "execution_count": 323,
   "id": "bfce67e2-2424-4ddd-bb79-f1d038c4af10",
   "metadata": {},
   "outputs": [
    {
     "data": {
      "text/plain": [
       "1160"
      ]
     },
     "execution_count": 323,
     "metadata": {},
     "output_type": "execute_result"
    }
   ],
   "source": [
    "np.sum(masked_threshold_rfp)"
   ]
  },
  {
   "cell_type": "markdown",
   "id": "5c562b26-e5ad-4960-96c7-00c01496c3ab",
   "metadata": {},
   "source": [
    "##### Then multiply that number of pixels by the area scaling factor"
   ]
  },
  {
   "cell_type": "code",
   "execution_count": 73,
   "id": "b26af840-f2b5-4b24-a062-f944b771cfa4",
   "metadata": {},
   "outputs": [
    {
     "data": {
      "text/plain": [
       "'1.4949402023919043E-07'"
      ]
     },
     "execution_count": 73,
     "metadata": {},
     "output_type": "execute_result"
    }
   ],
   "source": [
    "metadata['ImageResolutionX'].iloc[0]"
   ]
  },
  {
   "cell_type": "code",
   "execution_count": 328,
   "id": "adcc4211-2ac8-4a52-97f5-153beb8882b3",
   "metadata": {},
   "outputs": [
    {
     "data": {
      "text/plain": [
       "0.14949402023919042"
      ]
     },
     "execution_count": 328,
     "metadata": {},
     "output_type": "execute_result"
    }
   ],
   "source": [
    "resolution_micrometers_per_pixel"
   ]
  },
  {
   "cell_type": "code",
   "execution_count": 324,
   "id": "9d5d69fe-6584-44a0-9cfa-fb9395da2710",
   "metadata": {},
   "outputs": [
    {
     "name": "stdout",
     "output_type": "stream",
     "text": [
      "The area of the Mtb is 25.924216021239552 µm2\n"
     ]
    }
   ],
   "source": [
    "image_resolution = 1.4949402023919043E-07 #= float(metadata['ImageResolutionX'].iloc[0])\n",
    "resolution_micrometers_per_pixel = image_resolution * 1_000_000\n",
    "print(f'The area of the Mtb is {np.sum(masked_threshold_rfp) * (resolution_micrometers_per_pixel ** 2)} µm2')"
   ]
  },
  {
   "cell_type": "code",
   "execution_count": 335,
   "id": "f2d0677a-ff65-400e-8c3c-88527a38fdaf",
   "metadata": {},
   "outputs": [
    {
     "name": "stdout",
     "output_type": "stream",
     "text": [
      "289.3.5 74\n",
      "352.3.5 75\n",
      "486.3.5 71\n",
      "671.3.8 74\n",
      "985.3.8 71\n",
      "11.4.5 71\n",
      "118.4.5 75\n",
      "254.4.5 73\n",
      "301.4.5 74\n",
      "327.4.5 74\n",
      "795.4.5 73\n",
      "85.4.5 75\n",
      "264.4.6 71\n",
      "131.4.9 75\n",
      "377.4.9 73\n",
      "304.5.5 73\n",
      "376.5.5 75\n",
      "506.5.5 75\n",
      "624.5.5 75\n",
      "161.5.6 75\n",
      "375.5.6 75\n",
      "587.5.7 75\n",
      "130.6.5 75\n",
      "169.6.5 75\n",
      "625.6.5 75\n"
     ]
    }
   ],
   "source": [
    "prob_ids = []\n",
    "for acq_ID, info in assay_layout.iterrows():\n",
    "    subset_df = df[df['Acquisition ID'] == acq_ID]\n",
    "    for unique_ID in subset_df[(subset_df['Mtb Area'].astype(int).eq(subset_df['Mtb Area']))&(subset_df['Mtb Area']!=0.0)]['Unique ID'].unique():\n",
    "        sc_df = df[df['Unique ID']==unique_ID]\n",
    "        prob_ids.append(unique_ID)\n",
    "        print(unique_ID, len(sc_df[(sc_df['Mtb Area'].astype(int).eq(sc_df['Mtb Area']))]))#&(sc_df['Mtb Area']!=0.0)]))"
   ]
  },
  {
   "cell_type": "markdown",
   "id": "5637c40e-6ae1-44e4-b4a8-5c49c1f12c4a",
   "metadata": {},
   "source": [
    "##### So these are the cells taht are problematic... "
   ]
  },
  {
   "cell_type": "code",
   "execution_count": 355,
   "id": "193ecdb7-cba7-4584-847c-b200901304ef",
   "metadata": {},
   "outputs": [
    {
     "data": {
      "text/plain": [
       "['289.3.5', '352.3.5', '486.3.5']"
      ]
     },
     "execution_count": 355,
     "metadata": {},
     "output_type": "execute_result"
    }
   ],
   "source": [
    "[track_ID for track_ID in prob_ids if track_ID[-3:] == f'{row}.{column}'] "
   ]
  },
  {
   "cell_type": "markdown",
   "id": "c5362088-2088-4c11-b3a5-bf247f84bff2",
   "metadata": {},
   "source": [
    "# Fixing these..."
   ]
  },
  {
   "cell_type": "code",
   "execution_count": 359,
   "id": "f1674fcc-afb4-4f55-9ce6-520a25658ccb",
   "metadata": {},
   "outputs": [],
   "source": [
    "acq_IDs = [#(3, 5),\n",
    "           (3, 8), (4, 5), (4, 6), (4, 9), (5, 5), (5, 6), (5, 7), (6, 5)]"
   ]
  },
  {
   "cell_type": "code",
   "execution_count": 360,
   "id": "93643319-a345-4706-a84f-337d5e0367d4",
   "metadata": {
    "scrolled": true
   },
   "outputs": [
    {
     "data": {
      "application/vnd.jupyter.widget-view+json": {
       "model_id": "9b8a8dc41d264ffa967994a85a287d7e",
       "version_major": 2,
       "version_minor": 0
      },
      "text/plain": [
       "Iterating over positions:   0%|          | 0/8 [00:00<?, ?it/s]"
      ]
     },
     "metadata": {},
     "output_type": "display_data"
    },
    {
     "name": "stderr",
     "output_type": "stream",
     "text": [
      "[INFO][2024/02/15 03:26:05 pm] Opening HDF file: /mnt/DATA/macrohet_data/PS0000/labels/macrohet_seg_model/(3, 8).h5...\n",
      "INFO:btrack.io.hdf:Opening HDF file: /mnt/DATA/macrohet_data/PS0000/labels/macrohet_seg_model/(3, 8).h5...\n",
      "[INFO][2024/02/15 03:26:14 pm] Loading segmentation (75, 6048, 6048)\n",
      "INFO:btrack.io.hdf:Loading segmentation (75, 6048, 6048)\n",
      "[INFO][2024/02/15 03:26:14 pm] Loading tracks/obj_type_1\n",
      "INFO:btrack.io.hdf:Loading tracks/obj_type_1\n",
      "[INFO][2024/02/15 03:26:14 pm] Loading LBEP/obj_type_1\n",
      "INFO:btrack.io.hdf:Loading LBEP/obj_type_1\n",
      "[INFO][2024/02/15 03:26:14 pm] Loading objects/obj_type_1 (47396, 5) (47396 filtered: None)\n",
      "INFO:btrack.io.hdf:Loading objects/obj_type_1 (47396, 5) (47396 filtered: None)\n",
      "[INFO][2024/02/15 03:26:15 pm] Closing HDF file: /mnt/DATA/macrohet_data/PS0000/labels/macrohet_seg_model/(3, 8).h5\n",
      "INFO:btrack.io.hdf:Closing HDF file: /mnt/DATA/macrohet_data/PS0000/labels/macrohet_seg_model/(3, 8).h5\n"
     ]
    },
    {
     "data": {
      "application/vnd.jupyter.widget-view+json": {
       "model_id": "",
       "version_major": 2,
       "version_minor": 0
      },
      "text/plain": [
       "Iterating over tracks:   0%|          | 0/2 [00:00<?, ?it/s]"
      ]
     },
     "metadata": {},
     "output_type": "display_data"
    },
    {
     "data": {
      "application/vnd.jupyter.widget-view+json": {
       "model_id": "",
       "version_major": 2,
       "version_minor": 0
      },
      "text/plain": [
       "Calculating mtb area for every frame in track: 671:   0%|          | 0/74 [00:00<?, ?it/s]"
      ]
     },
     "metadata": {},
     "output_type": "display_data"
    },
    {
     "data": {
      "application/vnd.jupyter.widget-view+json": {
       "model_id": "",
       "version_major": 2,
       "version_minor": 0
      },
      "text/plain": [
       "Calculating mtb area for every frame in track: 985:   0%|          | 0/71 [00:00<?, ?it/s]"
      ]
     },
     "metadata": {},
     "output_type": "display_data"
    },
    {
     "name": "stderr",
     "output_type": "stream",
     "text": [
      "[INFO][2024/02/15 03:30:50 pm] Opening HDF file: /mnt/DATA/macrohet_data/PS0000/labels/macrohet_seg_model/(4, 5).h5...\n",
      "INFO:btrack.io.hdf:Opening HDF file: /mnt/DATA/macrohet_data/PS0000/labels/macrohet_seg_model/(4, 5).h5...\n",
      "[INFO][2024/02/15 03:30:58 pm] Loading segmentation (75, 6048, 6048)\n",
      "INFO:btrack.io.hdf:Loading segmentation (75, 6048, 6048)\n",
      "[INFO][2024/02/15 03:30:58 pm] Loading tracks/obj_type_1\n",
      "INFO:btrack.io.hdf:Loading tracks/obj_type_1\n",
      "[INFO][2024/02/15 03:30:58 pm] Loading LBEP/obj_type_1\n",
      "INFO:btrack.io.hdf:Loading LBEP/obj_type_1\n",
      "[INFO][2024/02/15 03:30:58 pm] Loading objects/obj_type_1 (47242, 5) (47242 filtered: None)\n",
      "INFO:btrack.io.hdf:Loading objects/obj_type_1 (47242, 5) (47242 filtered: None)\n",
      "[INFO][2024/02/15 03:30:59 pm] Closing HDF file: /mnt/DATA/macrohet_data/PS0000/labels/macrohet_seg_model/(4, 5).h5\n",
      "INFO:btrack.io.hdf:Closing HDF file: /mnt/DATA/macrohet_data/PS0000/labels/macrohet_seg_model/(4, 5).h5\n"
     ]
    },
    {
     "data": {
      "application/vnd.jupyter.widget-view+json": {
       "model_id": "",
       "version_major": 2,
       "version_minor": 0
      },
      "text/plain": [
       "Iterating over tracks:   0%|          | 0/7 [00:00<?, ?it/s]"
      ]
     },
     "metadata": {},
     "output_type": "display_data"
    },
    {
     "data": {
      "application/vnd.jupyter.widget-view+json": {
       "model_id": "",
       "version_major": 2,
       "version_minor": 0
      },
      "text/plain": [
       "Calculating mtb area for every frame in track: 11:   0%|          | 0/71 [00:00<?, ?it/s]"
      ]
     },
     "metadata": {},
     "output_type": "display_data"
    },
    {
     "data": {
      "application/vnd.jupyter.widget-view+json": {
       "model_id": "",
       "version_major": 2,
       "version_minor": 0
      },
      "text/plain": [
       "Calculating mtb area for every frame in track: 118:   0%|          | 0/75 [00:00<?, ?it/s]"
      ]
     },
     "metadata": {},
     "output_type": "display_data"
    },
    {
     "data": {
      "application/vnd.jupyter.widget-view+json": {
       "model_id": "",
       "version_major": 2,
       "version_minor": 0
      },
      "text/plain": [
       "Calculating mtb area for every frame in track: 254:   0%|          | 0/73 [00:00<?, ?it/s]"
      ]
     },
     "metadata": {},
     "output_type": "display_data"
    },
    {
     "data": {
      "application/vnd.jupyter.widget-view+json": {
       "model_id": "",
       "version_major": 2,
       "version_minor": 0
      },
      "text/plain": [
       "Calculating mtb area for every frame in track: 301:   0%|          | 0/74 [00:00<?, ?it/s]"
      ]
     },
     "metadata": {},
     "output_type": "display_data"
    },
    {
     "data": {
      "application/vnd.jupyter.widget-view+json": {
       "model_id": "",
       "version_major": 2,
       "version_minor": 0
      },
      "text/plain": [
       "Calculating mtb area for every frame in track: 327:   0%|          | 0/74 [00:00<?, ?it/s]"
      ]
     },
     "metadata": {},
     "output_type": "display_data"
    },
    {
     "data": {
      "application/vnd.jupyter.widget-view+json": {
       "model_id": "",
       "version_major": 2,
       "version_minor": 0
      },
      "text/plain": [
       "Calculating mtb area for every frame in track: 795:   0%|          | 0/73 [00:00<?, ?it/s]"
      ]
     },
     "metadata": {},
     "output_type": "display_data"
    },
    {
     "data": {
      "application/vnd.jupyter.widget-view+json": {
       "model_id": "",
       "version_major": 2,
       "version_minor": 0
      },
      "text/plain": [
       "Calculating mtb area for every frame in track: 85:   0%|          | 0/75 [00:00<?, ?it/s]"
      ]
     },
     "metadata": {},
     "output_type": "display_data"
    },
    {
     "name": "stderr",
     "output_type": "stream",
     "text": [
      "[INFO][2024/02/15 03:35:50 pm] Opening HDF file: /mnt/DATA/macrohet_data/PS0000/labels/macrohet_seg_model/(4, 6).h5...\n",
      "INFO:btrack.io.hdf:Opening HDF file: /mnt/DATA/macrohet_data/PS0000/labels/macrohet_seg_model/(4, 6).h5...\n",
      "[INFO][2024/02/15 03:35:59 pm] Loading segmentation (75, 6048, 6048)\n",
      "INFO:btrack.io.hdf:Loading segmentation (75, 6048, 6048)\n",
      "[INFO][2024/02/15 03:35:59 pm] Loading tracks/obj_type_1\n",
      "INFO:btrack.io.hdf:Loading tracks/obj_type_1\n",
      "[INFO][2024/02/15 03:35:59 pm] Loading LBEP/obj_type_1\n",
      "INFO:btrack.io.hdf:Loading LBEP/obj_type_1\n",
      "[INFO][2024/02/15 03:35:59 pm] Loading objects/obj_type_1 (43883, 5) (43883 filtered: None)\n",
      "INFO:btrack.io.hdf:Loading objects/obj_type_1 (43883, 5) (43883 filtered: None)\n",
      "[INFO][2024/02/15 03:35:59 pm] Closing HDF file: /mnt/DATA/macrohet_data/PS0000/labels/macrohet_seg_model/(4, 6).h5\n",
      "INFO:btrack.io.hdf:Closing HDF file: /mnt/DATA/macrohet_data/PS0000/labels/macrohet_seg_model/(4, 6).h5\n"
     ]
    },
    {
     "data": {
      "application/vnd.jupyter.widget-view+json": {
       "model_id": "",
       "version_major": 2,
       "version_minor": 0
      },
      "text/plain": [
       "Iterating over tracks:   0%|          | 0/1 [00:00<?, ?it/s]"
      ]
     },
     "metadata": {},
     "output_type": "display_data"
    },
    {
     "data": {
      "application/vnd.jupyter.widget-view+json": {
       "model_id": "",
       "version_major": 2,
       "version_minor": 0
      },
      "text/plain": [
       "Calculating mtb area for every frame in track: 264:   0%|          | 0/71 [00:00<?, ?it/s]"
      ]
     },
     "metadata": {},
     "output_type": "display_data"
    },
    {
     "name": "stderr",
     "output_type": "stream",
     "text": [
      "[INFO][2024/02/15 03:40:22 pm] Opening HDF file: /mnt/DATA/macrohet_data/PS0000/labels/macrohet_seg_model/(4, 9).h5...\n",
      "INFO:btrack.io.hdf:Opening HDF file: /mnt/DATA/macrohet_data/PS0000/labels/macrohet_seg_model/(4, 9).h5...\n",
      "[INFO][2024/02/15 03:40:30 pm] Loading segmentation (75, 6048, 6048)\n",
      "INFO:btrack.io.hdf:Loading segmentation (75, 6048, 6048)\n",
      "[INFO][2024/02/15 03:40:30 pm] Loading tracks/obj_type_1\n",
      "INFO:btrack.io.hdf:Loading tracks/obj_type_1\n",
      "[INFO][2024/02/15 03:40:30 pm] Loading LBEP/obj_type_1\n",
      "INFO:btrack.io.hdf:Loading LBEP/obj_type_1\n",
      "[INFO][2024/02/15 03:40:31 pm] Loading objects/obj_type_1 (44643, 5) (44643 filtered: None)\n",
      "INFO:btrack.io.hdf:Loading objects/obj_type_1 (44643, 5) (44643 filtered: None)\n",
      "[INFO][2024/02/15 03:40:31 pm] Closing HDF file: /mnt/DATA/macrohet_data/PS0000/labels/macrohet_seg_model/(4, 9).h5\n",
      "INFO:btrack.io.hdf:Closing HDF file: /mnt/DATA/macrohet_data/PS0000/labels/macrohet_seg_model/(4, 9).h5\n"
     ]
    },
    {
     "data": {
      "application/vnd.jupyter.widget-view+json": {
       "model_id": "",
       "version_major": 2,
       "version_minor": 0
      },
      "text/plain": [
       "Iterating over tracks:   0%|          | 0/2 [00:00<?, ?it/s]"
      ]
     },
     "metadata": {},
     "output_type": "display_data"
    },
    {
     "data": {
      "application/vnd.jupyter.widget-view+json": {
       "model_id": "",
       "version_major": 2,
       "version_minor": 0
      },
      "text/plain": [
       "Calculating mtb area for every frame in track: 131:   0%|          | 0/75 [00:00<?, ?it/s]"
      ]
     },
     "metadata": {},
     "output_type": "display_data"
    },
    {
     "data": {
      "application/vnd.jupyter.widget-view+json": {
       "model_id": "",
       "version_major": 2,
       "version_minor": 0
      },
      "text/plain": [
       "Calculating mtb area for every frame in track: 377:   0%|          | 0/73 [00:00<?, ?it/s]"
      ]
     },
     "metadata": {},
     "output_type": "display_data"
    },
    {
     "name": "stderr",
     "output_type": "stream",
     "text": [
      "[INFO][2024/02/15 03:45:49 pm] Opening HDF file: /mnt/DATA/macrohet_data/PS0000/labels/macrohet_seg_model/(5, 5).h5...\n",
      "INFO:btrack.io.hdf:Opening HDF file: /mnt/DATA/macrohet_data/PS0000/labels/macrohet_seg_model/(5, 5).h5...\n",
      "[INFO][2024/02/15 03:46:14 pm] Loading segmentation (75, 6048, 6048)\n",
      "INFO:btrack.io.hdf:Loading segmentation (75, 6048, 6048)\n",
      "[INFO][2024/02/15 03:46:14 pm] Loading tracks/obj_type_1\n",
      "INFO:btrack.io.hdf:Loading tracks/obj_type_1\n",
      "[INFO][2024/02/15 03:46:14 pm] Loading LBEP/obj_type_1\n",
      "INFO:btrack.io.hdf:Loading LBEP/obj_type_1\n",
      "[INFO][2024/02/15 03:46:14 pm] Loading objects/obj_type_1 (42973, 5) (42973 filtered: None)\n",
      "INFO:btrack.io.hdf:Loading objects/obj_type_1 (42973, 5) (42973 filtered: None)\n",
      "[INFO][2024/02/15 03:46:15 pm] Closing HDF file: /mnt/DATA/macrohet_data/PS0000/labels/macrohet_seg_model/(5, 5).h5\n",
      "INFO:btrack.io.hdf:Closing HDF file: /mnt/DATA/macrohet_data/PS0000/labels/macrohet_seg_model/(5, 5).h5\n"
     ]
    },
    {
     "data": {
      "application/vnd.jupyter.widget-view+json": {
       "model_id": "",
       "version_major": 2,
       "version_minor": 0
      },
      "text/plain": [
       "Iterating over tracks:   0%|          | 0/4 [00:00<?, ?it/s]"
      ]
     },
     "metadata": {},
     "output_type": "display_data"
    },
    {
     "data": {
      "application/vnd.jupyter.widget-view+json": {
       "model_id": "",
       "version_major": 2,
       "version_minor": 0
      },
      "text/plain": [
       "Calculating mtb area for every frame in track: 304:   0%|          | 0/73 [00:00<?, ?it/s]"
      ]
     },
     "metadata": {},
     "output_type": "display_data"
    },
    {
     "data": {
      "application/vnd.jupyter.widget-view+json": {
       "model_id": "",
       "version_major": 2,
       "version_minor": 0
      },
      "text/plain": [
       "Calculating mtb area for every frame in track: 376:   0%|          | 0/75 [00:00<?, ?it/s]"
      ]
     },
     "metadata": {},
     "output_type": "display_data"
    },
    {
     "data": {
      "application/vnd.jupyter.widget-view+json": {
       "model_id": "",
       "version_major": 2,
       "version_minor": 0
      },
      "text/plain": [
       "Calculating mtb area for every frame in track: 506:   0%|          | 0/75 [00:00<?, ?it/s]"
      ]
     },
     "metadata": {},
     "output_type": "display_data"
    },
    {
     "data": {
      "application/vnd.jupyter.widget-view+json": {
       "model_id": "",
       "version_major": 2,
       "version_minor": 0
      },
      "text/plain": [
       "Calculating mtb area for every frame in track: 624:   0%|          | 0/75 [00:00<?, ?it/s]"
      ]
     },
     "metadata": {},
     "output_type": "display_data"
    },
    {
     "name": "stderr",
     "output_type": "stream",
     "text": [
      "[INFO][2024/02/15 03:54:15 pm] Opening HDF file: /mnt/DATA/macrohet_data/PS0000/labels/macrohet_seg_model/(5, 6).h5...\n",
      "INFO:btrack.io.hdf:Opening HDF file: /mnt/DATA/macrohet_data/PS0000/labels/macrohet_seg_model/(5, 6).h5...\n",
      "[INFO][2024/02/15 03:54:48 pm] Loading segmentation (75, 6048, 6048)\n",
      "INFO:btrack.io.hdf:Loading segmentation (75, 6048, 6048)\n",
      "[INFO][2024/02/15 03:54:48 pm] Loading tracks/obj_type_1\n",
      "INFO:btrack.io.hdf:Loading tracks/obj_type_1\n",
      "[INFO][2024/02/15 03:54:48 pm] Loading LBEP/obj_type_1\n",
      "INFO:btrack.io.hdf:Loading LBEP/obj_type_1\n",
      "[INFO][2024/02/15 03:54:49 pm] Loading objects/obj_type_1 (45678, 5) (45678 filtered: None)\n",
      "INFO:btrack.io.hdf:Loading objects/obj_type_1 (45678, 5) (45678 filtered: None)\n",
      "[INFO][2024/02/15 03:54:50 pm] Closing HDF file: /mnt/DATA/macrohet_data/PS0000/labels/macrohet_seg_model/(5, 6).h5\n",
      "INFO:btrack.io.hdf:Closing HDF file: /mnt/DATA/macrohet_data/PS0000/labels/macrohet_seg_model/(5, 6).h5\n"
     ]
    },
    {
     "data": {
      "application/vnd.jupyter.widget-view+json": {
       "model_id": "",
       "version_major": 2,
       "version_minor": 0
      },
      "text/plain": [
       "Iterating over tracks:   0%|          | 0/2 [00:00<?, ?it/s]"
      ]
     },
     "metadata": {},
     "output_type": "display_data"
    },
    {
     "data": {
      "application/vnd.jupyter.widget-view+json": {
       "model_id": "",
       "version_major": 2,
       "version_minor": 0
      },
      "text/plain": [
       "Calculating mtb area for every frame in track: 161:   0%|          | 0/75 [00:00<?, ?it/s]"
      ]
     },
     "metadata": {},
     "output_type": "display_data"
    },
    {
     "data": {
      "application/vnd.jupyter.widget-view+json": {
       "model_id": "",
       "version_major": 2,
       "version_minor": 0
      },
      "text/plain": [
       "Calculating mtb area for every frame in track: 375:   0%|          | 0/75 [00:00<?, ?it/s]"
      ]
     },
     "metadata": {},
     "output_type": "display_data"
    },
    {
     "name": "stderr",
     "output_type": "stream",
     "text": [
      "[INFO][2024/02/15 04:00:14 pm] Opening HDF file: /mnt/DATA/macrohet_data/PS0000/labels/macrohet_seg_model/(5, 7).h5...\n",
      "INFO:btrack.io.hdf:Opening HDF file: /mnt/DATA/macrohet_data/PS0000/labels/macrohet_seg_model/(5, 7).h5...\n",
      "[INFO][2024/02/15 04:00:25 pm] Loading segmentation (75, 6048, 6048)\n",
      "INFO:btrack.io.hdf:Loading segmentation (75, 6048, 6048)\n",
      "[INFO][2024/02/15 04:00:26 pm] Loading tracks/obj_type_1\n",
      "INFO:btrack.io.hdf:Loading tracks/obj_type_1\n",
      "[INFO][2024/02/15 04:00:26 pm] Loading LBEP/obj_type_1\n",
      "INFO:btrack.io.hdf:Loading LBEP/obj_type_1\n",
      "[INFO][2024/02/15 04:00:26 pm] Loading objects/obj_type_1 (47880, 5) (47880 filtered: None)\n",
      "INFO:btrack.io.hdf:Loading objects/obj_type_1 (47880, 5) (47880 filtered: None)\n",
      "[INFO][2024/02/15 04:00:30 pm] Closing HDF file: /mnt/DATA/macrohet_data/PS0000/labels/macrohet_seg_model/(5, 7).h5\n",
      "INFO:btrack.io.hdf:Closing HDF file: /mnt/DATA/macrohet_data/PS0000/labels/macrohet_seg_model/(5, 7).h5\n"
     ]
    },
    {
     "data": {
      "application/vnd.jupyter.widget-view+json": {
       "model_id": "",
       "version_major": 2,
       "version_minor": 0
      },
      "text/plain": [
       "Iterating over tracks:   0%|          | 0/1 [00:00<?, ?it/s]"
      ]
     },
     "metadata": {},
     "output_type": "display_data"
    },
    {
     "data": {
      "application/vnd.jupyter.widget-view+json": {
       "model_id": "",
       "version_major": 2,
       "version_minor": 0
      },
      "text/plain": [
       "Calculating mtb area for every frame in track: 587:   0%|          | 0/75 [00:00<?, ?it/s]"
      ]
     },
     "metadata": {},
     "output_type": "display_data"
    },
    {
     "name": "stderr",
     "output_type": "stream",
     "text": [
      "[INFO][2024/02/15 04:08:59 pm] Opening HDF file: /mnt/DATA/macrohet_data/PS0000/labels/macrohet_seg_model/(6, 5).h5...\n",
      "INFO:btrack.io.hdf:Opening HDF file: /mnt/DATA/macrohet_data/PS0000/labels/macrohet_seg_model/(6, 5).h5...\n",
      "[INFO][2024/02/15 04:09:33 pm] Loading segmentation (75, 6048, 6048)\n",
      "INFO:btrack.io.hdf:Loading segmentation (75, 6048, 6048)\n",
      "[INFO][2024/02/15 04:09:33 pm] Loading tracks/obj_type_1\n",
      "INFO:btrack.io.hdf:Loading tracks/obj_type_1\n",
      "[INFO][2024/02/15 04:09:33 pm] Loading LBEP/obj_type_1\n",
      "INFO:btrack.io.hdf:Loading LBEP/obj_type_1\n",
      "[INFO][2024/02/15 04:09:33 pm] Loading objects/obj_type_1 (46808, 5) (46808 filtered: None)\n",
      "INFO:btrack.io.hdf:Loading objects/obj_type_1 (46808, 5) (46808 filtered: None)\n",
      "[INFO][2024/02/15 04:09:34 pm] Closing HDF file: /mnt/DATA/macrohet_data/PS0000/labels/macrohet_seg_model/(6, 5).h5\n",
      "INFO:btrack.io.hdf:Closing HDF file: /mnt/DATA/macrohet_data/PS0000/labels/macrohet_seg_model/(6, 5).h5\n"
     ]
    },
    {
     "data": {
      "application/vnd.jupyter.widget-view+json": {
       "model_id": "",
       "version_major": 2,
       "version_minor": 0
      },
      "text/plain": [
       "Iterating over tracks:   0%|          | 0/3 [00:00<?, ?it/s]"
      ]
     },
     "metadata": {},
     "output_type": "display_data"
    },
    {
     "data": {
      "application/vnd.jupyter.widget-view+json": {
       "model_id": "",
       "version_major": 2,
       "version_minor": 0
      },
      "text/plain": [
       "Calculating mtb area for every frame in track: 130:   0%|          | 0/75 [00:00<?, ?it/s]"
      ]
     },
     "metadata": {},
     "output_type": "display_data"
    },
    {
     "data": {
      "application/vnd.jupyter.widget-view+json": {
       "model_id": "",
       "version_major": 2,
       "version_minor": 0
      },
      "text/plain": [
       "Calculating mtb area for every frame in track: 169:   0%|          | 0/75 [00:00<?, ?it/s]"
      ]
     },
     "metadata": {},
     "output_type": "display_data"
    },
    {
     "data": {
      "application/vnd.jupyter.widget-view+json": {
       "model_id": "",
       "version_major": 2,
       "version_minor": 0
      },
      "text/plain": [
       "Calculating mtb area for every frame in track: 625:   0%|          | 0/75 [00:00<?, ?it/s]"
      ]
     },
     "metadata": {},
     "output_type": "display_data"
    }
   ],
   "source": [
    "# area_dict = {}\n",
    "for acq_ID in tqdm(acq_IDs, desc = 'Iterating over positions'):\n",
    "    row, column = acq_ID\n",
    "    ### load tracks\n",
    "    ### load masks\n",
    "    with btrack.io.HDF5FileHandler(os.path.join(base_dir, f'labels/macrohet_seg_model/{row, column}.h5'), \n",
    "                                           'r', \n",
    "                                           obj_type='obj_type_1'\n",
    "                                           ) as reader:\n",
    "        segmentation = reader.segmentation\n",
    "        tracks = reader.tracks\n",
    "    ### load rfp images\n",
    "    images = tile.compile_mosaic(image_dir, \n",
    "                             metadata, \n",
    "                             row, column, \n",
    "                             set_plane='max_proj',\n",
    "                             set_channel=2,\n",
    "                            ).compute().compute()\n",
    "    rfp_images = images[:,0,...]\n",
    "    ### find tracks in this acq_ID\n",
    "    unique_IDs = [track_ID for track_ID in prob_ids if track_ID[-3:] == f'{row}.{column}'] \n",
    "    ### iterate over tracks\n",
    "    for unique_ID in tqdm(unique_IDs, desc = 'Iterating over tracks', leave = False):\n",
    "        ### get track ID\n",
    "        track_ID = int(unique_ID.split('.')[0])\n",
    "        ### get track \n",
    "        track = [t for t in tracks if t.ID == track_ID][0]\n",
    "        ### calculate mtb area\n",
    "        mtb_areas = tools.measure_mtb_area(track, segmentation, rfp_images)\n",
    "        ### check if len(mtb_areas) matches that of df im trying to integrate into \n",
    "        area_dict[unique_ID] = mtb_areas"
   ]
  },
  {
   "cell_type": "code",
   "execution_count": 361,
   "id": "fae9151a-b6d1-4441-9328-63132aef271e",
   "metadata": {},
   "outputs": [
    {
     "data": {
      "text/plain": [
       "25"
      ]
     },
     "execution_count": 361,
     "metadata": {},
     "output_type": "execute_result"
    }
   ],
   "source": [
    "len(prob_ids)"
   ]
  },
  {
   "cell_type": "code",
   "execution_count": 362,
   "id": "f4ae291f-542a-4366-bf81-c78352f2d218",
   "metadata": {},
   "outputs": [
    {
     "data": {
      "text/plain": [
       "25"
      ]
     },
     "execution_count": 362,
     "metadata": {},
     "output_type": "execute_result"
    }
   ],
   "source": [
    "len(area_dict)"
   ]
  },
  {
   "cell_type": "code",
   "execution_count": 365,
   "id": "af44a4bf-ff0f-4071-91c5-9b073edcd077",
   "metadata": {},
   "outputs": [],
   "source": [
    "for unique_ID in area_dict.keys():\n",
    "    df.loc[df['Unique ID'] == unique_ID, 'Mtb Area'] = area_dict[unique_ID]"
   ]
  },
  {
   "cell_type": "code",
   "execution_count": 366,
   "id": "e818f499-a9ba-4271-85a9-6269cfd6d890",
   "metadata": {},
   "outputs": [
    {
     "data": {
      "image/png": "[encoded data removed]",
      "text/plain": [
       "<Figure size 1400x800 with 1 Axes>"
      ]
     },
     "metadata": {},
     "output_type": "display_data"
    }
   ],
   "source": [
    "# Initialize a dictionary to store the maximum Mtb Area for each Acquisition ID\n",
    "max_mtb_areas = {}\n",
    "\n",
    "# Loop through assay_layout to calculate the maximum Mtb Area for each Acquisition ID\n",
    "for acq_ID, info in assay_layout.iterrows():\n",
    "    subset_df = df[df['Acquisition ID'] == acq_ID]\n",
    "    max_mtb_area = subset_df['Mtb Area'].max()\n",
    "    max_mtb_areas[acq_ID] = max_mtb_area\n",
    "\n",
    "# Convert the dictionary to a DataFrame for plotting\n",
    "max_areas_df = pd.DataFrame(list(max_mtb_areas.items()), columns=['Acquisition ID', 'Max Mtb Area'])\n",
    "\n",
    "# Convert 'Acquisition ID' tuples to string representation for plotting\n",
    "max_areas_df['Acquisition ID'] = max_areas_df['Acquisition ID'].astype(str)\n",
    "\n",
    "# Plotting with corrected 'Acquisition ID' as string\n",
    "plt.figure(figsize=(14, 8))\n",
    "bars = plt.bar(max_areas_df['Acquisition ID'], max_areas_df['Max Mtb Area'], color='skyblue')\n",
    "plt.xlabel('Acquisition ID')\n",
    "plt.ylabel('Max Mtb Area')\n",
    "plt.title('Maximum Mtb Area per Acquisition ID')\n",
    "plt.xticks(rotation=45)  # Rotate labels to avoid overlap\n",
    "\n",
    "# Overlay the value of max area on the plot\n",
    "for bar in bars:\n",
    "    yval = bar.get_height()\n",
    "    plt.text(bar.get_x() + bar.get_width()/2, yval, f'{yval:.2f}', ha='center', va='bottom', rotation=45)\n",
    "\n",
    "plt.tight_layout()  # Adjust layout to make room for the rotated x-axis labels\n",
    "plt.show()\n"
   ]
  },
  {
   "cell_type": "markdown",
   "id": "cd9a00da-4364-4555-b0aa-1053ea7d65a9",
   "metadata": {},
   "source": [
    "# Looks like i fixed the probelm, save out and double check"
   ]
  },
  {
   "cell_type": "code",
   "execution_count": 367,
   "id": "c4e8ff2d-07bb-49cc-83ff-bcb3efb533f0",
   "metadata": {},
   "outputs": [],
   "source": [
    "df.to_pickle('/mnt/DATA/macrohet_data/PS0000/results/preliminary_sc_measures/sc_dfs/sc_df_GT_70_area_false_outliers_removed_correct.pkl')"
   ]
  },
  {
   "cell_type": "code",
   "execution_count": 368,
   "id": "5f1a65f8-f3f2-4636-b500-739990c4e818",
   "metadata": {},
   "outputs": [],
   "source": [
    "df.to_pickle('/mnt/SYNO/macrohet_syno/PS0000/results/preliminary_sc_measures/sc_dfs/sc_df_GT_70_area_false_outliers_removed_correct.pkl')"
   ]
  },
  {
   "cell_type": "markdown",
   "id": "5834a2ad-8a61-45e7-9d10-d3398cb2c612",
   "metadata": {},
   "source": [
    "# The tools.measure_mtb_area() function works as expected\n",
    "\n",
    "### Now load ND0002 to see what is happening with that..."
   ]
  },
  {
   "cell_type": "code",
   "execution_count": 81,
   "id": "9414101e-c0dc-406c-a117-776f4f2146ee",
   "metadata": {},
   "outputs": [
    {
     "name": "stdout",
     "output_type": "stream",
     "text": [
      "Reading metadata XML file...\n"
     ]
    },
    {
     "data": {
      "application/vnd.jupyter.widget-view+json": {
       "model_id": "9e921e7f5a844beb83c325bded572f33",
       "version_major": 2,
       "version_minor": 0
      },
      "text/plain": [
       "0it [00:00, ?it/s]"
      ]
     },
     "metadata": {},
     "output_type": "display_data"
    },
    {
     "name": "stdout",
     "output_type": "stream",
     "text": [
      "Extracting metadata complete!\n",
      "Reading metadata XML file...\n",
      "Extracting metadata complete!\n"
     ]
    }
   ],
   "source": [
    "expt_ID = 'ND0002'\n",
    "location =  'SYNO' #'DATA' # 'NEMO' #\n",
    "base_dir = f'/mnt/{location}/macrohet_{location.lower()}/{expt_ID}/'\n",
    "metadata_fn = os.path.join(base_dir, 'acquisition/Images/Index.idx.xml')\n",
    "metadata = dataio.read_harmony_metadata(metadata_fn)  \n",
    "metadata_fn = glob.glob(os.path.join(base_dir, 'acquisition/Assaylayout/*.xml'))[0]\n",
    "assay_layout = dataio.read_harmony_metadata(metadata_fn, assay_layout=True,)"
   ]
  },
  {
   "cell_type": "code",
   "execution_count": 83,
   "id": "1cd8fda7-5bdb-4389-ab3b-27f3833568b0",
   "metadata": {
    "scrolled": true
   },
   "outputs": [
    {
     "data": {
      "text/html": [
       "<div>\n",
       "<style scoped>\n",
       "    .dataframe tbody tr th:only-of-type {\n",
       "        vertical-align: middle;\n",
       "    }\n",
       "\n",
       "    .dataframe tbody tr th {\n",
       "        vertical-align: top;\n",
       "    }\n",
       "\n",
       "    .dataframe thead th {\n",
       "        text-align: right;\n",
       "    }\n",
       "</style>\n",
       "<table border=\"1\" class=\"dataframe\">\n",
       "  <thead>\n",
       "    <tr style=\"text-align: right;\">\n",
       "      <th></th>\n",
       "      <th></th>\n",
       "      <th>Strain</th>\n",
       "      <th>Compound</th>\n",
       "      <th>Concentration</th>\n",
       "      <th>ConcentrationEC</th>\n",
       "    </tr>\n",
       "    <tr>\n",
       "      <th>Row</th>\n",
       "      <th>Column</th>\n",
       "      <th></th>\n",
       "      <th></th>\n",
       "      <th></th>\n",
       "      <th></th>\n",
       "    </tr>\n",
       "  </thead>\n",
       "  <tbody>\n",
       "    <tr>\n",
       "      <th rowspan=\"12\" valign=\"top\">3</th>\n",
       "      <th>1</th>\n",
       "      <td>UNI</td>\n",
       "      <td>CTRL</td>\n",
       "      <td>0</td>\n",
       "      <td>EC0</td>\n",
       "    </tr>\n",
       "    <tr>\n",
       "      <th>2</th>\n",
       "      <td>UNI</td>\n",
       "      <td>CTRL</td>\n",
       "      <td>0</td>\n",
       "      <td>EC0</td>\n",
       "    </tr>\n",
       "    <tr>\n",
       "      <th>3</th>\n",
       "      <td>WT</td>\n",
       "      <td>CTRL</td>\n",
       "      <td>0</td>\n",
       "      <td>EC0</td>\n",
       "    </tr>\n",
       "    <tr>\n",
       "      <th>4</th>\n",
       "      <td>WT</td>\n",
       "      <td>CTRL</td>\n",
       "      <td>0</td>\n",
       "      <td>EC0</td>\n",
       "    </tr>\n",
       "    <tr>\n",
       "      <th>5</th>\n",
       "      <td>WT</td>\n",
       "      <td>PZA</td>\n",
       "      <td>60</td>\n",
       "      <td>EC50</td>\n",
       "    </tr>\n",
       "    <tr>\n",
       "      <th>6</th>\n",
       "      <td>WT</td>\n",
       "      <td>PZA</td>\n",
       "      <td>60</td>\n",
       "      <td>EC50</td>\n",
       "    </tr>\n",
       "    <tr>\n",
       "      <th>7</th>\n",
       "      <td>WT</td>\n",
       "      <td>RIF</td>\n",
       "      <td>0.1</td>\n",
       "      <td>EC50</td>\n",
       "    </tr>\n",
       "    <tr>\n",
       "      <th>8</th>\n",
       "      <td>WT</td>\n",
       "      <td>RIF</td>\n",
       "      <td>0.1</td>\n",
       "      <td>EC50</td>\n",
       "    </tr>\n",
       "    <tr>\n",
       "      <th>9</th>\n",
       "      <td>WT</td>\n",
       "      <td>INH</td>\n",
       "      <td>0.04</td>\n",
       "      <td>EC50</td>\n",
       "    </tr>\n",
       "    <tr>\n",
       "      <th>10</th>\n",
       "      <td>WT</td>\n",
       "      <td>INH</td>\n",
       "      <td>0.04</td>\n",
       "      <td>EC50</td>\n",
       "    </tr>\n",
       "    <tr>\n",
       "      <th>11</th>\n",
       "      <td>WT</td>\n",
       "      <td>BDQ</td>\n",
       "      <td>0.02</td>\n",
       "      <td>EC50</td>\n",
       "    </tr>\n",
       "    <tr>\n",
       "      <th>12</th>\n",
       "      <td>WT</td>\n",
       "      <td>BDQ</td>\n",
       "      <td>0.02</td>\n",
       "      <td>EC50</td>\n",
       "    </tr>\n",
       "    <tr>\n",
       "      <th rowspan=\"10\" valign=\"top\">4</th>\n",
       "      <th>3</th>\n",
       "      <td>WT</td>\n",
       "      <td>CTRL</td>\n",
       "      <td>0</td>\n",
       "      <td>EC0</td>\n",
       "    </tr>\n",
       "    <tr>\n",
       "      <th>4</th>\n",
       "      <td>WT</td>\n",
       "      <td>CTRL</td>\n",
       "      <td>0</td>\n",
       "      <td>EC0</td>\n",
       "    </tr>\n",
       "    <tr>\n",
       "      <th>5</th>\n",
       "      <td>WT</td>\n",
       "      <td>PZA</td>\n",
       "      <td>400</td>\n",
       "      <td>EC99</td>\n",
       "    </tr>\n",
       "    <tr>\n",
       "      <th>6</th>\n",
       "      <td>WT</td>\n",
       "      <td>PZA</td>\n",
       "      <td>400</td>\n",
       "      <td>EC99</td>\n",
       "    </tr>\n",
       "    <tr>\n",
       "      <th>7</th>\n",
       "      <td>WT</td>\n",
       "      <td>RIF</td>\n",
       "      <td>2</td>\n",
       "      <td>EC99</td>\n",
       "    </tr>\n",
       "    <tr>\n",
       "      <th>8</th>\n",
       "      <td>WT</td>\n",
       "      <td>RIF</td>\n",
       "      <td>2</td>\n",
       "      <td>EC99</td>\n",
       "    </tr>\n",
       "    <tr>\n",
       "      <th>9</th>\n",
       "      <td>WT</td>\n",
       "      <td>INH</td>\n",
       "      <td>2</td>\n",
       "      <td>EC99</td>\n",
       "    </tr>\n",
       "    <tr>\n",
       "      <th>10</th>\n",
       "      <td>WT</td>\n",
       "      <td>INH</td>\n",
       "      <td>2</td>\n",
       "      <td>EC99</td>\n",
       "    </tr>\n",
       "    <tr>\n",
       "      <th>11</th>\n",
       "      <td>WT</td>\n",
       "      <td>BDQ</td>\n",
       "      <td>2.5</td>\n",
       "      <td>EC99</td>\n",
       "    </tr>\n",
       "    <tr>\n",
       "      <th>12</th>\n",
       "      <td>WT</td>\n",
       "      <td>BDQ</td>\n",
       "      <td>2.5</td>\n",
       "      <td>EC99</td>\n",
       "    </tr>\n",
       "    <tr>\n",
       "      <th rowspan=\"10\" valign=\"top\">5</th>\n",
       "      <th>3</th>\n",
       "      <td>RD1</td>\n",
       "      <td>CTRL</td>\n",
       "      <td>0</td>\n",
       "      <td>EC0</td>\n",
       "    </tr>\n",
       "    <tr>\n",
       "      <th>4</th>\n",
       "      <td>RD1</td>\n",
       "      <td>CTRL</td>\n",
       "      <td>0</td>\n",
       "      <td>EC0</td>\n",
       "    </tr>\n",
       "    <tr>\n",
       "      <th>5</th>\n",
       "      <td>RD1</td>\n",
       "      <td>PZA</td>\n",
       "      <td>60</td>\n",
       "      <td>EC50</td>\n",
       "    </tr>\n",
       "    <tr>\n",
       "      <th>6</th>\n",
       "      <td>RD1</td>\n",
       "      <td>PZA</td>\n",
       "      <td>60</td>\n",
       "      <td>EC50</td>\n",
       "    </tr>\n",
       "    <tr>\n",
       "      <th>7</th>\n",
       "      <td>RD1</td>\n",
       "      <td>RIF</td>\n",
       "      <td>0.1</td>\n",
       "      <td>EC50</td>\n",
       "    </tr>\n",
       "    <tr>\n",
       "      <th>8</th>\n",
       "      <td>RD1</td>\n",
       "      <td>RIF</td>\n",
       "      <td>0.1</td>\n",
       "      <td>EC50</td>\n",
       "    </tr>\n",
       "    <tr>\n",
       "      <th>9</th>\n",
       "      <td>RD1</td>\n",
       "      <td>INH</td>\n",
       "      <td>0.04</td>\n",
       "      <td>EC50</td>\n",
       "    </tr>\n",
       "    <tr>\n",
       "      <th>10</th>\n",
       "      <td>RD1</td>\n",
       "      <td>INH</td>\n",
       "      <td>0.04</td>\n",
       "      <td>EC50</td>\n",
       "    </tr>\n",
       "    <tr>\n",
       "      <th>11</th>\n",
       "      <td>RD1</td>\n",
       "      <td>BDQ</td>\n",
       "      <td>0.02</td>\n",
       "      <td>EC50</td>\n",
       "    </tr>\n",
       "    <tr>\n",
       "      <th>12</th>\n",
       "      <td>RD1</td>\n",
       "      <td>BDQ</td>\n",
       "      <td>0.02</td>\n",
       "      <td>EC50</td>\n",
       "    </tr>\n",
       "    <tr>\n",
       "      <th rowspan=\"10\" valign=\"top\">6</th>\n",
       "      <th>3</th>\n",
       "      <td>RD1</td>\n",
       "      <td>CTRL</td>\n",
       "      <td>0</td>\n",
       "      <td>EC0</td>\n",
       "    </tr>\n",
       "    <tr>\n",
       "      <th>4</th>\n",
       "      <td>RD1</td>\n",
       "      <td>CTRL</td>\n",
       "      <td>0</td>\n",
       "      <td>EC0</td>\n",
       "    </tr>\n",
       "    <tr>\n",
       "      <th>5</th>\n",
       "      <td>RD1</td>\n",
       "      <td>PZA</td>\n",
       "      <td>400</td>\n",
       "      <td>EC99</td>\n",
       "    </tr>\n",
       "    <tr>\n",
       "      <th>6</th>\n",
       "      <td>RD1</td>\n",
       "      <td>PZA</td>\n",
       "      <td>400</td>\n",
       "      <td>EC99</td>\n",
       "    </tr>\n",
       "    <tr>\n",
       "      <th>7</th>\n",
       "      <td>RD1</td>\n",
       "      <td>RIF</td>\n",
       "      <td>2</td>\n",
       "      <td>EC99</td>\n",
       "    </tr>\n",
       "    <tr>\n",
       "      <th>8</th>\n",
       "      <td>RD1</td>\n",
       "      <td>RIF</td>\n",
       "      <td>2</td>\n",
       "      <td>EC99</td>\n",
       "    </tr>\n",
       "    <tr>\n",
       "      <th>9</th>\n",
       "      <td>RD1</td>\n",
       "      <td>INH</td>\n",
       "      <td>2</td>\n",
       "      <td>EC99</td>\n",
       "    </tr>\n",
       "    <tr>\n",
       "      <th>10</th>\n",
       "      <td>RD1</td>\n",
       "      <td>INH</td>\n",
       "      <td>2</td>\n",
       "      <td>EC99</td>\n",
       "    </tr>\n",
       "    <tr>\n",
       "      <th>11</th>\n",
       "      <td>RD1</td>\n",
       "      <td>BDQ</td>\n",
       "      <td>2.5</td>\n",
       "      <td>EC99</td>\n",
       "    </tr>\n",
       "    <tr>\n",
       "      <th>12</th>\n",
       "      <td>RD1</td>\n",
       "      <td>BDQ</td>\n",
       "      <td>2.5</td>\n",
       "      <td>EC99</td>\n",
       "    </tr>\n",
       "  </tbody>\n",
       "</table>\n",
       "</div>"
      ],
      "text/plain": [
       "           Strain Compound Concentration ConcentrationEC\n",
       "Row Column                                              \n",
       "3   1         UNI     CTRL             0             EC0\n",
       "    2         UNI     CTRL             0             EC0\n",
       "    3          WT     CTRL             0             EC0\n",
       "    4          WT     CTRL             0             EC0\n",
       "    5          WT      PZA            60            EC50\n",
       "    6          WT      PZA            60            EC50\n",
       "    7          WT      RIF           0.1            EC50\n",
       "    8          WT      RIF           0.1            EC50\n",
       "    9          WT      INH          0.04            EC50\n",
       "    10         WT      INH          0.04            EC50\n",
       "    11         WT      BDQ          0.02            EC50\n",
       "    12         WT      BDQ          0.02            EC50\n",
       "4   3          WT     CTRL             0             EC0\n",
       "    4          WT     CTRL             0             EC0\n",
       "    5          WT      PZA           400            EC99\n",
       "    6          WT      PZA           400            EC99\n",
       "    7          WT      RIF             2            EC99\n",
       "    8          WT      RIF             2            EC99\n",
       "    9          WT      INH             2            EC99\n",
       "    10         WT      INH             2            EC99\n",
       "    11         WT      BDQ           2.5            EC99\n",
       "    12         WT      BDQ           2.5            EC99\n",
       "5   3         RD1     CTRL             0             EC0\n",
       "    4         RD1     CTRL             0             EC0\n",
       "    5         RD1      PZA            60            EC50\n",
       "    6         RD1      PZA            60            EC50\n",
       "    7         RD1      RIF           0.1            EC50\n",
       "    8         RD1      RIF           0.1            EC50\n",
       "    9         RD1      INH          0.04            EC50\n",
       "    10        RD1      INH          0.04            EC50\n",
       "    11        RD1      BDQ          0.02            EC50\n",
       "    12        RD1      BDQ          0.02            EC50\n",
       "6   3         RD1     CTRL             0             EC0\n",
       "    4         RD1     CTRL             0             EC0\n",
       "    5         RD1      PZA           400            EC99\n",
       "    6         RD1      PZA           400            EC99\n",
       "    7         RD1      RIF             2            EC99\n",
       "    8         RD1      RIF             2            EC99\n",
       "    9         RD1      INH             2            EC99\n",
       "    10        RD1      INH             2            EC99\n",
       "    11        RD1      BDQ           2.5            EC99\n",
       "    12        RD1      BDQ           2.5            EC99"
      ]
     },
     "execution_count": 83,
     "metadata": {},
     "output_type": "execute_result"
    }
   ],
   "source": [
    "assay_layout"
   ]
  },
  {
   "cell_type": "code",
   "execution_count": 84,
   "id": "93eb5ef4-19d5-467f-b47c-30211e809385",
   "metadata": {},
   "outputs": [],
   "source": [
    "acq_ID = row, column = (3, 4) "
   ]
  },
  {
   "cell_type": "markdown",
   "id": "7a2ec0db-1b25-404c-84d8-21c76c9c43d6",
   "metadata": {},
   "source": [
    "### Load objects, segmentation and tracks to see what's going on"
   ]
  },
  {
   "cell_type": "code",
   "execution_count": 85,
   "id": "290807db-c526-41e4-bb92-bb06ce26b2e6",
   "metadata": {},
   "outputs": [
    {
     "data": {
      "text/plain": [
       "'/mnt/SYNO/macrohet_syno/ND0002/'"
      ]
     },
     "execution_count": 85,
     "metadata": {},
     "output_type": "execute_result"
    }
   ],
   "source": [
    "'/mnt/SYNO/macrohet_syno/ND0002/labels/macrohet_seg_model/'"
   ]
  },
  {
   "cell_type": "code",
   "execution_count": 88,
   "id": "4489882f-7c54-4571-ba50-630114a8ec2d",
   "metadata": {},
   "outputs": [
    {
     "name": "stderr",
     "output_type": "stream",
     "text": [
      "[INFO][2024/02/14 02:24:16 pm] Opening HDF file: /mnt/SYNO/macrohet_syno/ND0002/labels/macrohet_seg_model/(3, 4)_first_pass_warea.h5...\n",
      "INFO:btrack.io.hdf:Opening HDF file: /mnt/SYNO/macrohet_syno/ND0002/labels/macrohet_seg_model/(3, 4)_first_pass_warea.h5...\n",
      "[INFO][2024/02/14 02:24:35 pm] Loading segmentation (150, 6048, 6048)\n",
      "INFO:btrack.io.hdf:Loading segmentation (150, 6048, 6048)\n",
      "[INFO][2024/02/14 02:24:36 pm] Loading objects/obj_type_1 (50109, 5) (50109 filtered: None)\n",
      "INFO:btrack.io.hdf:Loading objects/obj_type_1 (50109, 5) (50109 filtered: None)\n",
      "[INFO][2024/02/14 02:24:37 pm] Closing HDF file: /mnt/SYNO/macrohet_syno/ND0002/labels/macrohet_seg_model/(3, 4)_first_pass_warea.h5\n",
      "INFO:btrack.io.hdf:Closing HDF file: /mnt/SYNO/macrohet_syno/ND0002/labels/macrohet_seg_model/(3, 4)_first_pass_warea.h5\n"
     ]
    }
   ],
   "source": [
    "with btrack.io.HDF5FileHandler(os.path.join(base_dir, f'labels/macrohet_seg_model/{row, column}_first_pass_warea.h5'), \n",
    "                                           'r', \n",
    "                                           obj_type='obj_type_1'\n",
    "                                           ) as reader:\n",
    "   \n",
    "    segmentation = reader.segmentation\n",
    "    objects = reader.objects\n",
    "    # tracks = reader.tracks"
   ]
  },
  {
   "cell_type": "markdown",
   "id": "1f6f5c6e-32bb-4d64-98df-be7999b45b1e",
   "metadata": {},
   "source": [
    "## There isn't a measure of the thresholded _area_ in the raw tracks, but it does exist in the sc_df"
   ]
  },
  {
   "cell_type": "code",
   "execution_count": 95,
   "id": "06daba2b-bf8d-4203-a09e-3698c524c883",
   "metadata": {},
   "outputs": [],
   "source": [
    "df = pd.read_pickle('/mnt/SYNO/macrohet_syno/ND0002/results/unchecked_74_corrected_area_df.pkl')"
   ]
  },
  {
   "cell_type": "code",
   "execution_count": 99,
   "id": "3a28f69c-4d41-4c6b-a2bb-b3adbb92487c",
   "metadata": {},
   "outputs": [],
   "source": [
    "finding_example_df = df.drop_duplicates(subset='Unique ID', keep = 'first')"
   ]
  },
  {
   "cell_type": "code",
   "execution_count": 106,
   "id": "25935d94-024d-4644-9ba0-10fe01b111c5",
   "metadata": {
    "scrolled": true
   },
   "outputs": [
    {
     "data": {
      "text/html": [
       "<div>\n",
       "<style scoped>\n",
       "    .dataframe tbody tr th:only-of-type {\n",
       "        vertical-align: middle;\n",
       "    }\n",
       "\n",
       "    .dataframe tbody tr th {\n",
       "        vertical-align: top;\n",
       "    }\n",
       "\n",
       "    .dataframe thead th {\n",
       "        text-align: right;\n",
       "    }\n",
       "</style>\n",
       "<table border=\"1\" class=\"dataframe\">\n",
       "  <thead>\n",
       "    <tr style=\"text-align: right;\">\n",
       "      <th></th>\n",
       "      <th>index</th>\n",
       "      <th>Time (hours)</th>\n",
       "      <th>x</th>\n",
       "      <th>y</th>\n",
       "      <th>x scaled</th>\n",
       "      <th>y scaled</th>\n",
       "      <th>Infection status</th>\n",
       "      <th>Initial infection status</th>\n",
       "      <th>Final infection status</th>\n",
       "      <th>Area</th>\n",
       "      <th>Mtb Area</th>\n",
       "      <th>Eccentricity</th>\n",
       "      <th>MSD</th>\n",
       "      <th>Strain</th>\n",
       "      <th>Compound</th>\n",
       "      <th>Concentration</th>\n",
       "      <th>Technical replicate</th>\n",
       "      <th>Cell ID</th>\n",
       "      <th>Acquisition ID</th>\n",
       "      <th>Unique ID</th>\n",
       "    </tr>\n",
       "  </thead>\n",
       "  <tbody>\n",
       "    <tr>\n",
       "      <th>14963</th>\n",
       "      <td>14963</td>\n",
       "      <td>26.0</td>\n",
       "      <td>328.865489</td>\n",
       "      <td>441.229243</td>\n",
       "      <td>1657.482066</td>\n",
       "      <td>2223.795385</td>\n",
       "      <td>1.0</td>\n",
       "      <td>1.0</td>\n",
       "      <td>1.0</td>\n",
       "      <td>42685.0</td>\n",
       "      <td>43.311320</td>\n",
       "      <td>0.717623</td>\n",
       "      <td>0.0</td>\n",
       "      <td>WT</td>\n",
       "      <td>CTRL</td>\n",
       "      <td>EC0</td>\n",
       "      <td>2.0</td>\n",
       "      <td>3168</td>\n",
       "      <td>(3, 4)</td>\n",
       "      <td>3168.3.4</td>\n",
       "    </tr>\n",
       "    <tr>\n",
       "      <th>15663</th>\n",
       "      <td>15663</td>\n",
       "      <td>30.0</td>\n",
       "      <td>1126.028513</td>\n",
       "      <td>132.066935</td>\n",
       "      <td>5675.183706</td>\n",
       "      <td>665.617353</td>\n",
       "      <td>1.0</td>\n",
       "      <td>1.0</td>\n",
       "      <td>1.0</td>\n",
       "      <td>17196.0</td>\n",
       "      <td>40.137838</td>\n",
       "      <td>0.867961</td>\n",
       "      <td>0.0</td>\n",
       "      <td>WT</td>\n",
       "      <td>CTRL</td>\n",
       "      <td>EC0</td>\n",
       "      <td>2.0</td>\n",
       "      <td>3494</td>\n",
       "      <td>(3, 4)</td>\n",
       "      <td>3494.3.4</td>\n",
       "    </tr>\n",
       "    <tr>\n",
       "      <th>20330</th>\n",
       "      <td>20330</td>\n",
       "      <td>0.0</td>\n",
       "      <td>820.921305</td>\n",
       "      <td>799.525282</td>\n",
       "      <td>4137.443377</td>\n",
       "      <td>4029.607423</td>\n",
       "      <td>1.0</td>\n",
       "      <td>1.0</td>\n",
       "      <td>1.0</td>\n",
       "      <td>205710.0</td>\n",
       "      <td>40.227232</td>\n",
       "      <td>0.776407</td>\n",
       "      <td>0.0</td>\n",
       "      <td>WT</td>\n",
       "      <td>CTRL</td>\n",
       "      <td>EC0</td>\n",
       "      <td>3.0</td>\n",
       "      <td>82</td>\n",
       "      <td>(4, 3)</td>\n",
       "      <td>82.4.3</td>\n",
       "    </tr>\n",
       "    <tr>\n",
       "      <th>23846</th>\n",
       "      <td>23846</td>\n",
       "      <td>2.0</td>\n",
       "      <td>854.887918</td>\n",
       "      <td>584.158974</td>\n",
       "      <td>4308.635106</td>\n",
       "      <td>2944.161228</td>\n",
       "      <td>1.0</td>\n",
       "      <td>1.0</td>\n",
       "      <td>0.0</td>\n",
       "      <td>47411.0</td>\n",
       "      <td>42.573820</td>\n",
       "      <td>0.808762</td>\n",
       "      <td>0.0</td>\n",
       "      <td>WT</td>\n",
       "      <td>CTRL</td>\n",
       "      <td>EC0</td>\n",
       "      <td>3.0</td>\n",
       "      <td>738</td>\n",
       "      <td>(4, 3)</td>\n",
       "      <td>738.4.3</td>\n",
       "    </tr>\n",
       "    <tr>\n",
       "      <th>40541</th>\n",
       "      <td>40541</td>\n",
       "      <td>0.5</td>\n",
       "      <td>1032.857515</td>\n",
       "      <td>658.755484</td>\n",
       "      <td>5205.601877</td>\n",
       "      <td>3320.127638</td>\n",
       "      <td>1.0</td>\n",
       "      <td>1.0</td>\n",
       "      <td>1.0</td>\n",
       "      <td>240893.0</td>\n",
       "      <td>44.741621</td>\n",
       "      <td>0.959281</td>\n",
       "      <td>0.0</td>\n",
       "      <td>WT</td>\n",
       "      <td>CTRL</td>\n",
       "      <td>EC0</td>\n",
       "      <td>4.0</td>\n",
       "      <td>481</td>\n",
       "      <td>(4, 4)</td>\n",
       "      <td>481.4.4</td>\n",
       "    </tr>\n",
       "    <tr>\n",
       "      <th>41421</th>\n",
       "      <td>41421</td>\n",
       "      <td>1.5</td>\n",
       "      <td>635.002407</td>\n",
       "      <td>130.621954</td>\n",
       "      <td>3200.412131</td>\n",
       "      <td>658.334648</td>\n",
       "      <td>1.0</td>\n",
       "      <td>1.0</td>\n",
       "      <td>1.0</td>\n",
       "      <td>21811.0</td>\n",
       "      <td>45.322681</td>\n",
       "      <td>0.577085</td>\n",
       "      <td>0.0</td>\n",
       "      <td>WT</td>\n",
       "      <td>CTRL</td>\n",
       "      <td>EC0</td>\n",
       "      <td>4.0</td>\n",
       "      <td>662</td>\n",
       "      <td>(4, 4)</td>\n",
       "      <td>662.4.4</td>\n",
       "    </tr>\n",
       "    <tr>\n",
       "      <th>46124</th>\n",
       "      <td>46124</td>\n",
       "      <td>22.0</td>\n",
       "      <td>923.441636</td>\n",
       "      <td>925.285781</td>\n",
       "      <td>4654.145847</td>\n",
       "      <td>4663.440335</td>\n",
       "      <td>1.0</td>\n",
       "      <td>1.0</td>\n",
       "      <td>1.0</td>\n",
       "      <td>64033.0</td>\n",
       "      <td>42.819653</td>\n",
       "      <td>0.864995</td>\n",
       "      <td>0.0</td>\n",
       "      <td>WT</td>\n",
       "      <td>CTRL</td>\n",
       "      <td>EC0</td>\n",
       "      <td>4.0</td>\n",
       "      <td>2841</td>\n",
       "      <td>(4, 4)</td>\n",
       "      <td>2841.4.4</td>\n",
       "    </tr>\n",
       "    <tr>\n",
       "      <th>46520</th>\n",
       "      <td>46520</td>\n",
       "      <td>24.0</td>\n",
       "      <td>786.505255</td>\n",
       "      <td>1161.891014</td>\n",
       "      <td>3963.986487</td>\n",
       "      <td>5855.930709</td>\n",
       "      <td>1.0</td>\n",
       "      <td>1.0</td>\n",
       "      <td>1.0</td>\n",
       "      <td>56761.0</td>\n",
       "      <td>44.004122</td>\n",
       "      <td>0.959561</td>\n",
       "      <td>0.0</td>\n",
       "      <td>WT</td>\n",
       "      <td>CTRL</td>\n",
       "      <td>EC0</td>\n",
       "      <td>4.0</td>\n",
       "      <td>3057</td>\n",
       "      <td>(4, 4)</td>\n",
       "      <td>3057.4.4</td>\n",
       "    </tr>\n",
       "    <tr>\n",
       "      <th>49434</th>\n",
       "      <td>49434</td>\n",
       "      <td>37.0</td>\n",
       "      <td>197.994990</td>\n",
       "      <td>657.142713</td>\n",
       "      <td>997.894751</td>\n",
       "      <td>3311.999272</td>\n",
       "      <td>1.0</td>\n",
       "      <td>1.0</td>\n",
       "      <td>1.0</td>\n",
       "      <td>417554.0</td>\n",
       "      <td>43.288971</td>\n",
       "      <td>0.906127</td>\n",
       "      <td>0.0</td>\n",
       "      <td>WT</td>\n",
       "      <td>CTRL</td>\n",
       "      <td>EC0</td>\n",
       "      <td>4.0</td>\n",
       "      <td>4342</td>\n",
       "      <td>(4, 4)</td>\n",
       "      <td>4342.4.4</td>\n",
       "    </tr>\n",
       "    <tr>\n",
       "      <th>82227</th>\n",
       "      <td>82227</td>\n",
       "      <td>33.5</td>\n",
       "      <td>1088.034501</td>\n",
       "      <td>459.220877</td>\n",
       "      <td>5483.693884</td>\n",
       "      <td>2314.473218</td>\n",
       "      <td>1.0</td>\n",
       "      <td>1.0</td>\n",
       "      <td>1.0</td>\n",
       "      <td>84553.0</td>\n",
       "      <td>42.551472</td>\n",
       "      <td>0.885875</td>\n",
       "      <td>0.0</td>\n",
       "      <td>WT</td>\n",
       "      <td>PZA</td>\n",
       "      <td>EC50</td>\n",
       "      <td>2.0</td>\n",
       "      <td>3125</td>\n",
       "      <td>(3, 6)</td>\n",
       "      <td>3125.3.6</td>\n",
       "    </tr>\n",
       "    <tr>\n",
       "      <th>100691</th>\n",
       "      <td>100691</td>\n",
       "      <td>19.5</td>\n",
       "      <td>1050.048980</td>\n",
       "      <td>1072.264745</td>\n",
       "      <td>5292.246858</td>\n",
       "      <td>5404.214317</td>\n",
       "      <td>1.0</td>\n",
       "      <td>1.0</td>\n",
       "      <td>1.0</td>\n",
       "      <td>36600.0</td>\n",
       "      <td>43.378365</td>\n",
       "      <td>0.795371</td>\n",
       "      <td>0.0</td>\n",
       "      <td>WT</td>\n",
       "      <td>RIF</td>\n",
       "      <td>EC50</td>\n",
       "      <td>2.0</td>\n",
       "      <td>1352</td>\n",
       "      <td>(3, 8)</td>\n",
       "      <td>1352.3.8</td>\n",
       "    </tr>\n",
       "    <tr>\n",
       "      <th>101004</th>\n",
       "      <td>101004</td>\n",
       "      <td>22.0</td>\n",
       "      <td>512.568584</td>\n",
       "      <td>794.342736</td>\n",
       "      <td>2583.345664</td>\n",
       "      <td>4003.487391</td>\n",
       "      <td>1.0</td>\n",
       "      <td>1.0</td>\n",
       "      <td>1.0</td>\n",
       "      <td>20977.0</td>\n",
       "      <td>44.853363</td>\n",
       "      <td>0.694575</td>\n",
       "      <td>0.0</td>\n",
       "      <td>WT</td>\n",
       "      <td>RIF</td>\n",
       "      <td>EC50</td>\n",
       "      <td>2.0</td>\n",
       "      <td>1483</td>\n",
       "      <td>(3, 8)</td>\n",
       "      <td>1483.3.8</td>\n",
       "    </tr>\n",
       "    <tr>\n",
       "      <th>101747</th>\n",
       "      <td>101747</td>\n",
       "      <td>27.5</td>\n",
       "      <td>1182.836878</td>\n",
       "      <td>171.398161</td>\n",
       "      <td>5961.497864</td>\n",
       "      <td>863.846731</td>\n",
       "      <td>1.0</td>\n",
       "      <td>1.0</td>\n",
       "      <td>1.0</td>\n",
       "      <td>20128.0</td>\n",
       "      <td>40.741246</td>\n",
       "      <td>0.846841</td>\n",
       "      <td>0.0</td>\n",
       "      <td>WT</td>\n",
       "      <td>RIF</td>\n",
       "      <td>EC50</td>\n",
       "      <td>2.0</td>\n",
       "      <td>1797</td>\n",
       "      <td>(3, 8)</td>\n",
       "      <td>1797.3.8</td>\n",
       "    </tr>\n",
       "    <tr>\n",
       "      <th>102780</th>\n",
       "      <td>102780</td>\n",
       "      <td>37.0</td>\n",
       "      <td>216.574111</td>\n",
       "      <td>1096.693490</td>\n",
       "      <td>1091.533519</td>\n",
       "      <td>5527.335192</td>\n",
       "      <td>1.0</td>\n",
       "      <td>1.0</td>\n",
       "      <td>1.0</td>\n",
       "      <td>21525.0</td>\n",
       "      <td>40.070793</td>\n",
       "      <td>0.877141</td>\n",
       "      <td>0.0</td>\n",
       "      <td>WT</td>\n",
       "      <td>RIF</td>\n",
       "      <td>EC50</td>\n",
       "      <td>2.0</td>\n",
       "      <td>2335</td>\n",
       "      <td>(3, 8)</td>\n",
       "      <td>2335.3.8</td>\n",
       "    </tr>\n",
       "    <tr>\n",
       "      <th>107255</th>\n",
       "      <td>107255</td>\n",
       "      <td>0.0</td>\n",
       "      <td>550.107642</td>\n",
       "      <td>1042.656928</td>\n",
       "      <td>2772.542514</td>\n",
       "      <td>5254.990918</td>\n",
       "      <td>1.0</td>\n",
       "      <td>1.0</td>\n",
       "      <td>1.0</td>\n",
       "      <td>11561.0</td>\n",
       "      <td>40.629504</td>\n",
       "      <td>0.452202</td>\n",
       "      <td>0.0</td>\n",
       "      <td>WT</td>\n",
       "      <td>INH</td>\n",
       "      <td>EC50</td>\n",
       "      <td>1.0</td>\n",
       "      <td>114</td>\n",
       "      <td>(3, 9)</td>\n",
       "      <td>114.3.9</td>\n",
       "    </tr>\n",
       "    <tr>\n",
       "      <th>111149</th>\n",
       "      <td>111149</td>\n",
       "      <td>26.0</td>\n",
       "      <td>445.998527</td>\n",
       "      <td>1186.189278</td>\n",
       "      <td>2247.832575</td>\n",
       "      <td>5978.393961</td>\n",
       "      <td>1.0</td>\n",
       "      <td>1.0</td>\n",
       "      <td>1.0</td>\n",
       "      <td>27254.0</td>\n",
       "      <td>43.691243</td>\n",
       "      <td>0.681034</td>\n",
       "      <td>0.0</td>\n",
       "      <td>WT</td>\n",
       "      <td>INH</td>\n",
       "      <td>EC50</td>\n",
       "      <td>1.0</td>\n",
       "      <td>1792</td>\n",
       "      <td>(3, 9)</td>\n",
       "      <td>1792.3.9</td>\n",
       "    </tr>\n",
       "    <tr>\n",
       "      <th>120753</th>\n",
       "      <td>120753</td>\n",
       "      <td>33.5</td>\n",
       "      <td>226.553815</td>\n",
       "      <td>937.860360</td>\n",
       "      <td>1141.831229</td>\n",
       "      <td>4726.816214</td>\n",
       "      <td>1.0</td>\n",
       "      <td>1.0</td>\n",
       "      <td>1.0</td>\n",
       "      <td>71197.0</td>\n",
       "      <td>42.596169</td>\n",
       "      <td>0.830719</td>\n",
       "      <td>0.0</td>\n",
       "      <td>WT</td>\n",
       "      <td>INH</td>\n",
       "      <td>EC50</td>\n",
       "      <td>2.0</td>\n",
       "      <td>1782</td>\n",
       "      <td>(3, 10)</td>\n",
       "      <td>1782.3.10</td>\n",
       "    </tr>\n",
       "    <tr>\n",
       "      <th>169867</th>\n",
       "      <td>169867</td>\n",
       "      <td>0.0</td>\n",
       "      <td>897.252918</td>\n",
       "      <td>941.260978</td>\n",
       "      <td>4522.154708</td>\n",
       "      <td>4743.955328</td>\n",
       "      <td>1.0</td>\n",
       "      <td>1.0</td>\n",
       "      <td>1.0</td>\n",
       "      <td>21602.0</td>\n",
       "      <td>41.858669</td>\n",
       "      <td>0.647338</td>\n",
       "      <td>0.0</td>\n",
       "      <td>WT</td>\n",
       "      <td>RIF</td>\n",
       "      <td>EC99</td>\n",
       "      <td>1.0</td>\n",
       "      <td>171</td>\n",
       "      <td>(4, 7)</td>\n",
       "      <td>171.4.7</td>\n",
       "    </tr>\n",
       "    <tr>\n",
       "      <th>223750</th>\n",
       "      <td>12193</td>\n",
       "      <td>14.0</td>\n",
       "      <td>573.055416</td>\n",
       "      <td>475.681950</td>\n",
       "      <td>2888.199297</td>\n",
       "      <td>2397.437029</td>\n",
       "      <td>1.0</td>\n",
       "      <td>1.0</td>\n",
       "      <td>1.0</td>\n",
       "      <td>21621.0</td>\n",
       "      <td>41.836321</td>\n",
       "      <td>0.936886</td>\n",
       "      <td>0.0</td>\n",
       "      <td>WT</td>\n",
       "      <td>CTRL</td>\n",
       "      <td>EC0</td>\n",
       "      <td>1.0</td>\n",
       "      <td>1577</td>\n",
       "      <td>(3, 3)</td>\n",
       "      <td>1577.3.3</td>\n",
       "    </tr>\n",
       "  </tbody>\n",
       "</table>\n",
       "</div>"
      ],
      "text/plain": [
       "         index  Time (hours)            x            y     x scaled  \\\n",
       "14963    14963          26.0   328.865489   441.229243  1657.482066   \n",
       "15663    15663          30.0  1126.028513   132.066935  5675.183706   \n",
       "20330    20330           0.0   820.921305   799.525282  4137.443377   \n",
       "23846    23846           2.0   854.887918   584.158974  4308.635106   \n",
       "40541    40541           0.5  1032.857515   658.755484  5205.601877   \n",
       "41421    41421           1.5   635.002407   130.621954  3200.412131   \n",
       "46124    46124          22.0   923.441636   925.285781  4654.145847   \n",
       "46520    46520          24.0   786.505255  1161.891014  3963.986487   \n",
       "49434    49434          37.0   197.994990   657.142713   997.894751   \n",
       "82227    82227          33.5  1088.034501   459.220877  5483.693884   \n",
       "100691  100691          19.5  1050.048980  1072.264745  5292.246858   \n",
       "101004  101004          22.0   512.568584   794.342736  2583.345664   \n",
       "101747  101747          27.5  1182.836878   171.398161  5961.497864   \n",
       "102780  102780          37.0   216.574111  1096.693490  1091.533519   \n",
       "107255  107255           0.0   550.107642  1042.656928  2772.542514   \n",
       "111149  111149          26.0   445.998527  1186.189278  2247.832575   \n",
       "120753  120753          33.5   226.553815   937.860360  1141.831229   \n",
       "169867  169867           0.0   897.252918   941.260978  4522.154708   \n",
       "223750   12193          14.0   573.055416   475.681950  2888.199297   \n",
       "\n",
       "           y scaled  Infection status  Initial infection status  \\\n",
       "14963   2223.795385               1.0                       1.0   \n",
       "15663    665.617353               1.0                       1.0   \n",
       "20330   4029.607423               1.0                       1.0   \n",
       "23846   2944.161228               1.0                       1.0   \n",
       "40541   3320.127638               1.0                       1.0   \n",
       "41421    658.334648               1.0                       1.0   \n",
       "46124   4663.440335               1.0                       1.0   \n",
       "46520   5855.930709               1.0                       1.0   \n",
       "49434   3311.999272               1.0                       1.0   \n",
       "82227   2314.473218               1.0                       1.0   \n",
       "100691  5404.214317               1.0                       1.0   \n",
       "101004  4003.487391               1.0                       1.0   \n",
       "101747   863.846731               1.0                       1.0   \n",
       "102780  5527.335192               1.0                       1.0   \n",
       "107255  5254.990918               1.0                       1.0   \n",
       "111149  5978.393961               1.0                       1.0   \n",
       "120753  4726.816214               1.0                       1.0   \n",
       "169867  4743.955328               1.0                       1.0   \n",
       "223750  2397.437029               1.0                       1.0   \n",
       "\n",
       "        Final infection status      Area   Mtb Area  Eccentricity  MSD Strain  \\\n",
       "14963                      1.0   42685.0  43.311320      0.717623  0.0     WT   \n",
       "15663                      1.0   17196.0  40.137838      0.867961  0.0     WT   \n",
       "20330                      1.0  205710.0  40.227232      0.776407  0.0     WT   \n",
       "23846                      0.0   47411.0  42.573820      0.808762  0.0     WT   \n",
       "40541                      1.0  240893.0  44.741621      0.959281  0.0     WT   \n",
       "41421                      1.0   21811.0  45.322681      0.577085  0.0     WT   \n",
       "46124                      1.0   64033.0  42.819653      0.864995  0.0     WT   \n",
       "46520                      1.0   56761.0  44.004122      0.959561  0.0     WT   \n",
       "49434                      1.0  417554.0  43.288971      0.906127  0.0     WT   \n",
       "82227                      1.0   84553.0  42.551472      0.885875  0.0     WT   \n",
       "100691                     1.0   36600.0  43.378365      0.795371  0.0     WT   \n",
       "101004                     1.0   20977.0  44.853363      0.694575  0.0     WT   \n",
       "101747                     1.0   20128.0  40.741246      0.846841  0.0     WT   \n",
       "102780                     1.0   21525.0  40.070793      0.877141  0.0     WT   \n",
       "107255                     1.0   11561.0  40.629504      0.452202  0.0     WT   \n",
       "111149                     1.0   27254.0  43.691243      0.681034  0.0     WT   \n",
       "120753                     1.0   71197.0  42.596169      0.830719  0.0     WT   \n",
       "169867                     1.0   21602.0  41.858669      0.647338  0.0     WT   \n",
       "223750                     1.0   21621.0  41.836321      0.936886  0.0     WT   \n",
       "\n",
       "       Compound Concentration  Technical replicate  Cell ID Acquisition ID  \\\n",
       "14963      CTRL           EC0                  2.0     3168         (3, 4)   \n",
       "15663      CTRL           EC0                  2.0     3494         (3, 4)   \n",
       "20330      CTRL           EC0                  3.0       82         (4, 3)   \n",
       "23846      CTRL           EC0                  3.0      738         (4, 3)   \n",
       "40541      CTRL           EC0                  4.0      481         (4, 4)   \n",
       "41421      CTRL           EC0                  4.0      662         (4, 4)   \n",
       "46124      CTRL           EC0                  4.0     2841         (4, 4)   \n",
       "46520      CTRL           EC0                  4.0     3057         (4, 4)   \n",
       "49434      CTRL           EC0                  4.0     4342         (4, 4)   \n",
       "82227       PZA          EC50                  2.0     3125         (3, 6)   \n",
       "100691      RIF          EC50                  2.0     1352         (3, 8)   \n",
       "101004      RIF          EC50                  2.0     1483         (3, 8)   \n",
       "101747      RIF          EC50                  2.0     1797         (3, 8)   \n",
       "102780      RIF          EC50                  2.0     2335         (3, 8)   \n",
       "107255      INH          EC50                  1.0      114         (3, 9)   \n",
       "111149      INH          EC50                  1.0     1792         (3, 9)   \n",
       "120753      INH          EC50                  2.0     1782        (3, 10)   \n",
       "169867      RIF          EC99                  1.0      171         (4, 7)   \n",
       "223750     CTRL           EC0                  1.0     1577         (3, 3)   \n",
       "\n",
       "        Unique ID  \n",
       "14963    3168.3.4  \n",
       "15663    3494.3.4  \n",
       "20330      82.4.3  \n",
       "23846     738.4.3  \n",
       "40541     481.4.4  \n",
       "41421     662.4.4  \n",
       "46124    2841.4.4  \n",
       "46520    3057.4.4  \n",
       "49434    4342.4.4  \n",
       "82227    3125.3.6  \n",
       "100691   1352.3.8  \n",
       "101004   1483.3.8  \n",
       "101747   1797.3.8  \n",
       "102780   2335.3.8  \n",
       "107255    114.3.9  \n",
       "111149   1792.3.9  \n",
       "120753  1782.3.10  \n",
       "169867    171.4.7  \n",
       "223750   1577.3.3  "
      ]
     },
     "execution_count": 106,
     "metadata": {},
     "output_type": "execute_result"
    }
   ],
   "source": [
    "finding_example_df[ (finding_example_df['Mtb Area'] > 40) & (finding_example_df['Mtb Area'] < 46) ]\n"
   ]
  },
  {
   "cell_type": "code",
   "execution_count": 139,
   "id": "1397209d-1fa1-48ea-9105-26d66115b481",
   "metadata": {},
   "outputs": [],
   "source": [
    "sc_df = df[df['Unique ID'] == '82.4.3'] # doesnt really look like a track\n",
    "sc_df = df[df['Unique ID'] == '3168.3.4']"
   ]
  },
  {
   "cell_type": "code",
   "execution_count": 140,
   "id": "df3ed4a2-1541-429e-9d39-7934c7a475f4",
   "metadata": {},
   "outputs": [
    {
     "data": {
      "text/html": [
       "<div>\n",
       "<style scoped>\n",
       "    .dataframe tbody tr th:only-of-type {\n",
       "        vertical-align: middle;\n",
       "    }\n",
       "\n",
       "    .dataframe tbody tr th {\n",
       "        vertical-align: top;\n",
       "    }\n",
       "\n",
       "    .dataframe thead th {\n",
       "        text-align: right;\n",
       "    }\n",
       "</style>\n",
       "<table border=\"1\" class=\"dataframe\">\n",
       "  <thead>\n",
       "    <tr style=\"text-align: right;\">\n",
       "      <th></th>\n",
       "      <th>index</th>\n",
       "      <th>Time (hours)</th>\n",
       "      <th>x</th>\n",
       "      <th>y</th>\n",
       "      <th>x scaled</th>\n",
       "      <th>y scaled</th>\n",
       "      <th>Infection status</th>\n",
       "      <th>Initial infection status</th>\n",
       "      <th>Final infection status</th>\n",
       "      <th>Area</th>\n",
       "      <th>Mtb Area</th>\n",
       "      <th>Eccentricity</th>\n",
       "      <th>MSD</th>\n",
       "      <th>Strain</th>\n",
       "      <th>Compound</th>\n",
       "      <th>Concentration</th>\n",
       "      <th>Technical replicate</th>\n",
       "      <th>Cell ID</th>\n",
       "      <th>Acquisition ID</th>\n",
       "      <th>Unique ID</th>\n",
       "    </tr>\n",
       "  </thead>\n",
       "  <tbody>\n",
       "    <tr>\n",
       "      <th>14963</th>\n",
       "      <td>14963</td>\n",
       "      <td>26.0</td>\n",
       "      <td>328.865489</td>\n",
       "      <td>441.229243</td>\n",
       "      <td>1657.482066</td>\n",
       "      <td>2223.795385</td>\n",
       "      <td>1.0</td>\n",
       "      <td>1.0</td>\n",
       "      <td>1.0</td>\n",
       "      <td>42685.0</td>\n",
       "      <td>43.311320</td>\n",
       "      <td>0.717623</td>\n",
       "      <td>0.000000</td>\n",
       "      <td>WT</td>\n",
       "      <td>CTRL</td>\n",
       "      <td>EC0</td>\n",
       "      <td>2.0</td>\n",
       "      <td>3168</td>\n",
       "      <td>(3, 4)</td>\n",
       "      <td>3168.3.4</td>\n",
       "    </tr>\n",
       "    <tr>\n",
       "      <th>14964</th>\n",
       "      <td>14964</td>\n",
       "      <td>26.5</td>\n",
       "      <td>320.590183</td>\n",
       "      <td>424.196437</td>\n",
       "      <td>1615.774524</td>\n",
       "      <td>2137.950042</td>\n",
       "      <td>1.0</td>\n",
       "      <td>1.0</td>\n",
       "      <td>1.0</td>\n",
       "      <td>14272.0</td>\n",
       "      <td>26.661715</td>\n",
       "      <td>0.771135</td>\n",
       "      <td>18.936662</td>\n",
       "      <td>WT</td>\n",
       "      <td>CTRL</td>\n",
       "      <td>EC0</td>\n",
       "      <td>2.0</td>\n",
       "      <td>3168</td>\n",
       "      <td>(3, 4)</td>\n",
       "      <td>3168.3.4</td>\n",
       "    </tr>\n",
       "    <tr>\n",
       "      <th>14965</th>\n",
       "      <td>14965</td>\n",
       "      <td>27.0</td>\n",
       "      <td>328.092522</td>\n",
       "      <td>444.224794</td>\n",
       "      <td>1653.586313</td>\n",
       "      <td>2238.892964</td>\n",
       "      <td>1.0</td>\n",
       "      <td>1.0</td>\n",
       "      <td>1.0</td>\n",
       "      <td>41500.0</td>\n",
       "      <td>23.823461</td>\n",
       "      <td>0.710033</td>\n",
       "      <td>21.387384</td>\n",
       "      <td>WT</td>\n",
       "      <td>CTRL</td>\n",
       "      <td>EC0</td>\n",
       "      <td>2.0</td>\n",
       "      <td>3168</td>\n",
       "      <td>(3, 4)</td>\n",
       "      <td>3168.3.4</td>\n",
       "    </tr>\n",
       "    <tr>\n",
       "      <th>14966</th>\n",
       "      <td>14966</td>\n",
       "      <td>27.5</td>\n",
       "      <td>331.781157</td>\n",
       "      <td>450.879288</td>\n",
       "      <td>1672.177033</td>\n",
       "      <td>2272.431610</td>\n",
       "      <td>1.0</td>\n",
       "      <td>1.0</td>\n",
       "      <td>1.0</td>\n",
       "      <td>28023.0</td>\n",
       "      <td>8.917036</td>\n",
       "      <td>0.705864</td>\n",
       "      <td>7.608437</td>\n",
       "      <td>WT</td>\n",
       "      <td>CTRL</td>\n",
       "      <td>EC0</td>\n",
       "      <td>2.0</td>\n",
       "      <td>3168</td>\n",
       "      <td>(3, 4)</td>\n",
       "      <td>3168.3.4</td>\n",
       "    </tr>\n",
       "    <tr>\n",
       "      <th>14967</th>\n",
       "      <td>14967</td>\n",
       "      <td>28.0</td>\n",
       "      <td>321.872104</td>\n",
       "      <td>450.555522</td>\n",
       "      <td>1622.235405</td>\n",
       "      <td>2270.799829</td>\n",
       "      <td>1.0</td>\n",
       "      <td>1.0</td>\n",
       "      <td>1.0</td>\n",
       "      <td>53699.0</td>\n",
       "      <td>36.450342</td>\n",
       "      <td>0.498342</td>\n",
       "      <td>9.914341</td>\n",
       "      <td>WT</td>\n",
       "      <td>CTRL</td>\n",
       "      <td>EC0</td>\n",
       "      <td>2.0</td>\n",
       "      <td>3168</td>\n",
       "      <td>(3, 4)</td>\n",
       "      <td>3168.3.4</td>\n",
       "    </tr>\n",
       "    <tr>\n",
       "      <th>...</th>\n",
       "      <td>...</td>\n",
       "      <td>...</td>\n",
       "      <td>...</td>\n",
       "      <td>...</td>\n",
       "      <td>...</td>\n",
       "      <td>...</td>\n",
       "      <td>...</td>\n",
       "      <td>...</td>\n",
       "      <td>...</td>\n",
       "      <td>...</td>\n",
       "      <td>...</td>\n",
       "      <td>...</td>\n",
       "      <td>...</td>\n",
       "      <td>...</td>\n",
       "      <td>...</td>\n",
       "      <td>...</td>\n",
       "      <td>...</td>\n",
       "      <td>...</td>\n",
       "      <td>...</td>\n",
       "      <td>...</td>\n",
       "    </tr>\n",
       "    <tr>\n",
       "      <th>15049</th>\n",
       "      <td>15049</td>\n",
       "      <td>69.5</td>\n",
       "      <td>334.283129</td>\n",
       "      <td>400.222108</td>\n",
       "      <td>1684.786969</td>\n",
       "      <td>2017.119423</td>\n",
       "      <td>1.0</td>\n",
       "      <td>1.0</td>\n",
       "      <td>1.0</td>\n",
       "      <td>24250.0</td>\n",
       "      <td>19.621950</td>\n",
       "      <td>0.800760</td>\n",
       "      <td>1.049883</td>\n",
       "      <td>WT</td>\n",
       "      <td>CTRL</td>\n",
       "      <td>EC0</td>\n",
       "      <td>2.0</td>\n",
       "      <td>3168</td>\n",
       "      <td>(3, 4)</td>\n",
       "      <td>3168.3.4</td>\n",
       "    </tr>\n",
       "    <tr>\n",
       "      <th>15050</th>\n",
       "      <td>15050</td>\n",
       "      <td>70.0</td>\n",
       "      <td>335.425920</td>\n",
       "      <td>400.578271</td>\n",
       "      <td>1690.546637</td>\n",
       "      <td>2018.914487</td>\n",
       "      <td>1.0</td>\n",
       "      <td>1.0</td>\n",
       "      <td>1.0</td>\n",
       "      <td>22289.0</td>\n",
       "      <td>11.196580</td>\n",
       "      <td>0.823945</td>\n",
       "      <td>1.197006</td>\n",
       "      <td>WT</td>\n",
       "      <td>CTRL</td>\n",
       "      <td>EC0</td>\n",
       "      <td>2.0</td>\n",
       "      <td>3168</td>\n",
       "      <td>(3, 4)</td>\n",
       "      <td>3168.3.4</td>\n",
       "    </tr>\n",
       "    <tr>\n",
       "      <th>15051</th>\n",
       "      <td>15051</td>\n",
       "      <td>70.5</td>\n",
       "      <td>334.516655</td>\n",
       "      <td>399.612296</td>\n",
       "      <td>1685.963940</td>\n",
       "      <td>2014.045972</td>\n",
       "      <td>1.0</td>\n",
       "      <td>1.0</td>\n",
       "      <td>1.0</td>\n",
       "      <td>25929.0</td>\n",
       "      <td>6.458706</td>\n",
       "      <td>0.879888</td>\n",
       "      <td>1.326602</td>\n",
       "      <td>WT</td>\n",
       "      <td>CTRL</td>\n",
       "      <td>EC0</td>\n",
       "      <td>2.0</td>\n",
       "      <td>3168</td>\n",
       "      <td>(3, 4)</td>\n",
       "      <td>3168.3.4</td>\n",
       "    </tr>\n",
       "    <tr>\n",
       "      <th>15052</th>\n",
       "      <td>15052</td>\n",
       "      <td>71.0</td>\n",
       "      <td>335.177300</td>\n",
       "      <td>402.490632</td>\n",
       "      <td>1689.293594</td>\n",
       "      <td>2028.552786</td>\n",
       "      <td>1.0</td>\n",
       "      <td>1.0</td>\n",
       "      <td>1.0</td>\n",
       "      <td>24476.0</td>\n",
       "      <td>16.895437</td>\n",
       "      <td>0.860394</td>\n",
       "      <td>2.953180</td>\n",
       "      <td>WT</td>\n",
       "      <td>CTRL</td>\n",
       "      <td>EC0</td>\n",
       "      <td>2.0</td>\n",
       "      <td>3168</td>\n",
       "      <td>(3, 4)</td>\n",
       "      <td>3168.3.4</td>\n",
       "    </tr>\n",
       "    <tr>\n",
       "      <th>15053</th>\n",
       "      <td>15053</td>\n",
       "      <td>71.5</td>\n",
       "      <td>340.394167</td>\n",
       "      <td>412.660732</td>\n",
       "      <td>1715.586602</td>\n",
       "      <td>2079.810090</td>\n",
       "      <td>1.0</td>\n",
       "      <td>1.0</td>\n",
       "      <td>1.0</td>\n",
       "      <td>47770.0</td>\n",
       "      <td>7.777265</td>\n",
       "      <td>0.931448</td>\n",
       "      <td>11.430076</td>\n",
       "      <td>WT</td>\n",
       "      <td>CTRL</td>\n",
       "      <td>EC0</td>\n",
       "      <td>2.0</td>\n",
       "      <td>3168</td>\n",
       "      <td>(3, 4)</td>\n",
       "      <td>3168.3.4</td>\n",
       "    </tr>\n",
       "  </tbody>\n",
       "</table>\n",
       "<p>91 rows × 20 columns</p>\n",
       "</div>"
      ],
      "text/plain": [
       "       index  Time (hours)           x           y     x scaled     y scaled  \\\n",
       "14963  14963          26.0  328.865489  441.229243  1657.482066  2223.795385   \n",
       "14964  14964          26.5  320.590183  424.196437  1615.774524  2137.950042   \n",
       "14965  14965          27.0  328.092522  444.224794  1653.586313  2238.892964   \n",
       "14966  14966          27.5  331.781157  450.879288  1672.177033  2272.431610   \n",
       "14967  14967          28.0  321.872104  450.555522  1622.235405  2270.799829   \n",
       "...      ...           ...         ...         ...          ...          ...   \n",
       "15049  15049          69.5  334.283129  400.222108  1684.786969  2017.119423   \n",
       "15050  15050          70.0  335.425920  400.578271  1690.546637  2018.914487   \n",
       "15051  15051          70.5  334.516655  399.612296  1685.963940  2014.045972   \n",
       "15052  15052          71.0  335.177300  402.490632  1689.293594  2028.552786   \n",
       "15053  15053          71.5  340.394167  412.660732  1715.586602  2079.810090   \n",
       "\n",
       "       Infection status  Initial infection status  Final infection status  \\\n",
       "14963               1.0                       1.0                     1.0   \n",
       "14964               1.0                       1.0                     1.0   \n",
       "14965               1.0                       1.0                     1.0   \n",
       "14966               1.0                       1.0                     1.0   \n",
       "14967               1.0                       1.0                     1.0   \n",
       "...                 ...                       ...                     ...   \n",
       "15049               1.0                       1.0                     1.0   \n",
       "15050               1.0                       1.0                     1.0   \n",
       "15051               1.0                       1.0                     1.0   \n",
       "15052               1.0                       1.0                     1.0   \n",
       "15053               1.0                       1.0                     1.0   \n",
       "\n",
       "          Area   Mtb Area  Eccentricity        MSD Strain Compound  \\\n",
       "14963  42685.0  43.311320      0.717623   0.000000     WT     CTRL   \n",
       "14964  14272.0  26.661715      0.771135  18.936662     WT     CTRL   \n",
       "14965  41500.0  23.823461      0.710033  21.387384     WT     CTRL   \n",
       "14966  28023.0   8.917036      0.705864   7.608437     WT     CTRL   \n",
       "14967  53699.0  36.450342      0.498342   9.914341     WT     CTRL   \n",
       "...        ...        ...           ...        ...    ...      ...   \n",
       "15049  24250.0  19.621950      0.800760   1.049883     WT     CTRL   \n",
       "15050  22289.0  11.196580      0.823945   1.197006     WT     CTRL   \n",
       "15051  25929.0   6.458706      0.879888   1.326602     WT     CTRL   \n",
       "15052  24476.0  16.895437      0.860394   2.953180     WT     CTRL   \n",
       "15053  47770.0   7.777265      0.931448  11.430076     WT     CTRL   \n",
       "\n",
       "      Concentration  Technical replicate  Cell ID Acquisition ID Unique ID  \n",
       "14963           EC0                  2.0     3168         (3, 4)  3168.3.4  \n",
       "14964           EC0                  2.0     3168         (3, 4)  3168.3.4  \n",
       "14965           EC0                  2.0     3168         (3, 4)  3168.3.4  \n",
       "14966           EC0                  2.0     3168         (3, 4)  3168.3.4  \n",
       "14967           EC0                  2.0     3168         (3, 4)  3168.3.4  \n",
       "...             ...                  ...      ...            ...       ...  \n",
       "15049           EC0                  2.0     3168         (3, 4)  3168.3.4  \n",
       "15050           EC0                  2.0     3168         (3, 4)  3168.3.4  \n",
       "15051           EC0                  2.0     3168         (3, 4)  3168.3.4  \n",
       "15052           EC0                  2.0     3168         (3, 4)  3168.3.4  \n",
       "15053           EC0                  2.0     3168         (3, 4)  3168.3.4  \n",
       "\n",
       "[91 rows x 20 columns]"
      ]
     },
     "execution_count": 140,
     "metadata": {},
     "output_type": "execute_result"
    }
   ],
   "source": [
    "sc_df"
   ]
  },
  {
   "cell_type": "code",
   "execution_count": 141,
   "id": "e7cf0c8a-28a8-4078-9f23-2d8e8aa69d5e",
   "metadata": {},
   "outputs": [
    {
     "name": "stderr",
     "output_type": "stream",
     "text": [
      "/home/dayn/miniconda3/envs/egg/lib/python3.9/site-packages/seaborn/_oldcore.py:1119: FutureWarning: use_inf_as_na option is deprecated and will be removed in a future version. Convert inf values to NaN before operating instead.\n",
      "  with pd.option_context('mode.use_inf_as_na', True):\n",
      "/home/dayn/miniconda3/envs/egg/lib/python3.9/site-packages/seaborn/_oldcore.py:1119: FutureWarning: use_inf_as_na option is deprecated and will be removed in a future version. Convert inf values to NaN before operating instead.\n",
      "  with pd.option_context('mode.use_inf_as_na', True):\n"
     ]
    },
    {
     "data": {
      "image/png": "[encoded data removed]",
      "text/plain": [
       "<Figure size 640x480 with 1 Axes>"
      ]
     },
     "metadata": {},
     "output_type": "display_data"
    }
   ],
   "source": [
    "sns.lineplot(data=sc_df, x='Time (hours)', y='Mtb Area',)# ax=ax1)\n",
    "sns.despine(offset=10, ) #ax=ax1)  # Apply despine to the top plot"
   ]
  },
  {
   "cell_type": "code",
   "execution_count": 127,
   "id": "2e0a95b0-8e58-45d9-94d8-5a1869e0142d",
   "metadata": {},
   "outputs": [
    {
     "name": "stderr",
     "output_type": "stream",
     "text": [
      "/home/dayn/miniconda3/envs/egg/lib/python3.9/site-packages/seaborn/_oldcore.py:1119: FutureWarning: use_inf_as_na option is deprecated and will be removed in a future version. Convert inf values to NaN before operating instead.\n",
      "  with pd.option_context('mode.use_inf_as_na', True):\n",
      "/home/dayn/miniconda3/envs/egg/lib/python3.9/site-packages/seaborn/_oldcore.py:1119: FutureWarning: use_inf_as_na option is deprecated and will be removed in a future version. Convert inf values to NaN before operating instead.\n",
      "  with pd.option_context('mode.use_inf_as_na', True):\n"
     ]
    },
    {
     "data": {
      "image/png": "[encoded data removed]",
      "text/plain": [
       "<Figure size 640x480 with 1 Axes>"
      ]
     },
     "metadata": {},
     "output_type": "display_data"
    }
   ],
   "source": [
    "sns.lineplot(data=df, x='Time (hours)', y='Mtb Area',)# ax=ax1)\n",
    "sns.despine(offset=10, )"
   ]
  },
  {
   "cell_type": "code",
   "execution_count": 233,
   "id": "202fdb56-c898-49aa-b8a6-8760a8536340",
   "metadata": {},
   "outputs": [
    {
     "data": {
      "text/plain": [
       "<Points layer 'Points [7]' at 0x7f35ea70c370>"
      ]
     },
     "execution_count": 233,
     "metadata": {},
     "output_type": "execute_result"
    }
   ],
   "source": [
    "viewer.add_points([13, 2223, 1657], size = 50)"
   ]
  },
  {
   "cell_type": "markdown",
   "id": "eea3d5e7-199e-4c5c-914f-d800387b0828",
   "metadata": {},
   "source": [
    "## Why Area so fluctuating?"
   ]
  },
  {
   "cell_type": "code",
   "execution_count": 112,
   "id": "d86e0133-21f6-4225-b9f2-19a6ff409878",
   "metadata": {},
   "outputs": [],
   "source": [
    "image_dir = os.path.join(base_dir, 'acquisition/Images')\n",
    "images = tile.compile_mosaic(image_dir, \n",
    "                             metadata, \n",
    "                             row, column, \n",
    "                             # subset_field_IDs=['16', '17',  '20', '21'], \n",
    "                             # n_tile_rows = 2, n_tile_cols = 2,\n",
    "                             set_plane='max_proj',\n",
    "                             # set_channel=1,\n",
    "                             # set_time = 0,\n",
    "#                             input_transforms = [input_transforms]\n",
    "                            ).compute().compute()\n",
    "# images = images[:,:,0,...]"
   ]
  },
  {
   "cell_type": "code",
   "execution_count": 113,
   "id": "fd86fb19-3ea2-4f53-b39b-61ea9d138831",
   "metadata": {},
   "outputs": [],
   "source": [
    "images = images[0]"
   ]
  },
  {
   "cell_type": "code",
   "execution_count": 119,
   "id": "6ffeb783-ac42-49ed-9218-904545a2f4a5",
   "metadata": {},
   "outputs": [],
   "source": [
    "rfp_t0 = images[0,...]"
   ]
  },
  {
   "cell_type": "code",
   "execution_count": 120,
   "id": "5cfce3ee-632b-42ce-88f7-aac694974136",
   "metadata": {},
   "outputs": [],
   "source": [
    "gfp_t0 = images[1,...]"
   ]
  },
  {
   "cell_type": "code",
   "execution_count": 121,
   "id": "44956cd9-3518-4f3e-8126-edeff9dfdf92",
   "metadata": {},
   "outputs": [
    {
     "data": {
      "text/plain": [
       "<Labels layer 'Labels' at 0x7f376a7055e0>"
      ]
     },
     "execution_count": 121,
     "metadata": {},
     "output_type": "execute_result"
    }
   ],
   "source": [
    "viewer = napari.Viewer(title = 'ND2, 3,4')\n",
    "\n",
    "viewer.add_image(rfp_t0)\n",
    "viewer.add_labels(segmentation[0])"
   ]
  },
  {
   "cell_type": "code",
   "execution_count": 122,
   "id": "6c151a0c-a69b-45d2-9f86-e3cae272fe60",
   "metadata": {},
   "outputs": [
    {
     "data": {
      "text/plain": [
       "<Image layer 'gfp_t0' at 0x7f376a4eea60>"
      ]
     },
     "execution_count": 122,
     "metadata": {},
     "output_type": "execute_result"
    }
   ],
   "source": [
    "viewer.add_image(gfp_t0)"
   ]
  },
  {
   "cell_type": "code",
   "execution_count": 123,
   "id": "44ce497e-9a7a-463d-a47a-e86e7a7c8bef",
   "metadata": {},
   "outputs": [
    {
     "name": "stdout",
     "output_type": "stream",
     "text": [
      "\n"
     ]
    }
   ],
   "source": [
    "print()"
   ]
  },
  {
   "cell_type": "code",
   "execution_count": 142,
   "id": "bb3a63f8-6fdd-4dbc-88e7-a765acc23937",
   "metadata": {
    "scrolled": true
   },
   "outputs": [],
   "source": [
    "coords = [(y*5.04, x*5.04) for y, x in zip(sc_df['y'].values.astype(int), sc_df['x'].values.astype(int))]"
   ]
  },
  {
   "cell_type": "code",
   "execution_count": 143,
   "id": "614ba634-4922-4031-9009-4c383d89bced",
   "metadata": {},
   "outputs": [
    {
     "data": {
      "text/plain": [
       "<Points layer 'Points [5]' at 0x7f33397e3a00>"
      ]
     },
     "execution_count": 143,
     "metadata": {},
     "output_type": "execute_result"
    }
   ],
   "source": [
    "viewer.add_points(coords)"
   ]
  },
  {
   "cell_type": "code",
   "execution_count": 144,
   "id": "5aec6bf3-0b32-476a-8b98-4d5aea233aa6",
   "metadata": {},
   "outputs": [
    {
     "data": {
      "text/plain": [
       "<Points layer 'Points [6]' at 0x7f3339751160>"
      ]
     },
     "execution_count": 144,
     "metadata": {},
     "output_type": "execute_result"
    }
   ],
   "source": [
    "viewer.add_points(coords[0])"
   ]
  },
  {
   "cell_type": "markdown",
   "id": "720f0653-25c1-4a39-95b9-542e64454da7",
   "metadata": {},
   "source": [
    "### Tracks don't seem to align to segments - do the objects?"
   ]
  },
  {
   "cell_type": "code",
   "execution_count": 150,
   "id": "2bcd3630-59f0-4472-b85c-5df6671988c3",
   "metadata": {},
   "outputs": [],
   "source": [
    "coords = [(int(o.y*5.04), int(o.x*5.04)) for o in objects if o.t == 0]"
   ]
  },
  {
   "cell_type": "code",
   "execution_count": 151,
   "id": "b016f2e1-38bb-4ef8-a8f2-adcb87619fc0",
   "metadata": {},
   "outputs": [
    {
     "data": {
      "text/plain": [
       "<Points layer 'Points [8]' at 0x7f3540619820>"
      ]
     },
     "execution_count": 151,
     "metadata": {},
     "output_type": "execute_result"
    }
   ],
   "source": [
    "viewer.add_points(coords, size = 50)"
   ]
  },
  {
   "cell_type": "markdown",
   "id": "c84cd864-631b-4985-97bf-281ec019aa51",
   "metadata": {},
   "source": [
    "### yes they do, try tracking again"
   ]
  },
  {
   "cell_type": "code",
   "execution_count": 153,
   "id": "0f948e62-3842-4bfe-97bb-d58fa39004fc",
   "metadata": {},
   "outputs": [],
   "source": [
    "scale_factor = 5.04"
   ]
  },
  {
   "cell_type": "code",
   "execution_count": 162,
   "id": "d315ddf6-ca34-4662-a6f2-61fa575cd910",
   "metadata": {},
   "outputs": [
    {
     "data": {
      "text/plain": [
       "1196.084716796875"
      ]
     },
     "execution_count": 162,
     "metadata": {},
     "output_type": "execute_result"
    }
   ],
   "source": [
    "max([o.x for o in objects])"
   ]
  },
  {
   "cell_type": "code",
   "execution_count": 157,
   "id": "131bcc08-bc4d-4eb1-98c1-c0ecc7c8a9b2",
   "metadata": {},
   "outputs": [
    {
     "data": {
      "text/plain": [
       "30481.920000000002"
      ]
     },
     "execution_count": 157,
     "metadata": {},
     "output_type": "execute_result"
    }
   ],
   "source": [
    "segmentation.shape[-2]*scale_factor"
   ]
  },
  {
   "cell_type": "code",
   "execution_count": 159,
   "id": "d2da4968-af0d-423f-8a7e-7c4c03876da3",
   "metadata": {
    "scrolled": true
   },
   "outputs": [
    {
     "name": "stderr",
     "output_type": "stream",
     "text": [
      "[INFO][2024/02/14 03:21:16 pm] Loaded btrack: /home/dayn/analysis/btrack/btrack/libs/libtracker.so\n",
      "INFO:btrack.libwrapper:Loaded btrack: /home/dayn/analysis/btrack/btrack/libs/libtracker.so\n",
      "[INFO][2024/02/14 03:21:16 pm] Starting BayesianTracker session\n",
      "INFO:btrack.core:Starting BayesianTracker session\n",
      "[INFO][2024/02/14 03:21:16 pm] Loading configuration file: /home/dayn/analysis/models/btrack/particle_config_pnassign.json\n",
      "INFO:btrack.config:Loading configuration file: /home/dayn/analysis/models/btrack/particle_config_pnassign.json\n",
      "[INFO][2024/02/14 03:21:16 pm] Objects are of type: <class 'list'>\n",
      "INFO:btrack.io.utils:Objects are of type: <class 'list'>\n",
      "[INFO][2024/02/14 03:21:17 pm] Starting tracking... \n",
      "INFO:btrack.core:Starting tracking... \n",
      "[INFO][2024/02/14 03:21:17 pm] Update using: ['VISUAL', 'MOTION']\n",
      "INFO:btrack.core:Update using: ['VISUAL', 'MOTION']\n",
      "[INFO][2024/02/14 03:21:17 pm] Tracking objects in frames 0 to 24 (of 150)...\n",
      "INFO:btrack.core:Tracking objects in frames 0 to 24 (of 150)...\n",
      "[INFO][2024/02/14 03:21:20 pm]  - Timing (Bayesian updates: 46.70ms, Linking: 2.86ms)\n",
      "INFO:btrack.utils: - Timing (Bayesian updates: 46.70ms, Linking: 2.86ms)\n",
      "[INFO][2024/02/14 03:21:20 pm]  - Probabilities (Link: 1.00000, Lost: 0.97515)\n",
      "INFO:btrack.utils: - Probabilities (Link: 1.00000, Lost: 0.97515)\n",
      "[INFO][2024/02/14 03:21:20 pm]  - Stats (Active: 633, Lost: 3855, Conflicts resolved: 3565)\n",
      "INFO:btrack.utils: - Stats (Active: 633, Lost: 3855, Conflicts resolved: 3565)\n",
      "[INFO][2024/02/14 03:21:20 pm] Tracking objects in frames 25 to 49 (of 150)...\n",
      "INFO:btrack.core:Tracking objects in frames 25 to 49 (of 150)...\n",
      "[INFO][2024/02/14 03:21:23 pm]  - Timing (Bayesian updates: 32.01ms, Linking: 2.16ms)\n",
      "INFO:btrack.utils: - Timing (Bayesian updates: 32.01ms, Linking: 2.16ms)\n",
      "[INFO][2024/02/14 03:21:23 pm]  - Probabilities (Link: 0.99823, Lost: 0.99179)\n",
      "INFO:btrack.utils: - Probabilities (Link: 0.99823, Lost: 0.99179)\n",
      "[INFO][2024/02/14 03:21:23 pm]  - Stats (Active: 626, Lost: 7127, Conflicts resolved: 7321)\n",
      "INFO:btrack.utils: - Stats (Active: 626, Lost: 7127, Conflicts resolved: 7321)\n",
      "[INFO][2024/02/14 03:21:23 pm] Tracking objects in frames 50 to 74 (of 150)...\n",
      "INFO:btrack.core:Tracking objects in frames 50 to 74 (of 150)...\n",
      "[INFO][2024/02/14 03:21:26 pm]  - Timing (Bayesian updates: 33.20ms, Linking: 2.09ms)\n",
      "INFO:btrack.utils: - Timing (Bayesian updates: 33.20ms, Linking: 2.09ms)\n",
      "[INFO][2024/02/14 03:21:26 pm]  - Probabilities (Link: 0.99991, Lost: 1.00000)\n",
      "INFO:btrack.utils: - Probabilities (Link: 0.99991, Lost: 1.00000)\n",
      "[INFO][2024/02/14 03:21:26 pm]  - Stats (Active: 631, Lost: 10270, Conflicts resolved: 10838)\n",
      "INFO:btrack.utils: - Stats (Active: 631, Lost: 10270, Conflicts resolved: 10838)\n",
      "[INFO][2024/02/14 03:21:26 pm] Tracking objects in frames 75 to 99 (of 150)...\n",
      "INFO:btrack.core:Tracking objects in frames 75 to 99 (of 150)...\n",
      "[INFO][2024/02/14 03:21:30 pm]  - Timing (Bayesian updates: 41.15ms, Linking: 2.55ms)\n",
      "INFO:btrack.utils: - Timing (Bayesian updates: 41.15ms, Linking: 2.55ms)\n",
      "[INFO][2024/02/14 03:21:30 pm]  - Probabilities (Link: 1.00000, Lost: 1.00000)\n",
      "INFO:btrack.utils: - Probabilities (Link: 1.00000, Lost: 1.00000)\n",
      "[INFO][2024/02/14 03:21:30 pm]  - Stats (Active: 657, Lost: 13276, Conflicts resolved: 14606)\n",
      "INFO:btrack.utils: - Stats (Active: 657, Lost: 13276, Conflicts resolved: 14606)\n",
      "[INFO][2024/02/14 03:21:30 pm] Tracking objects in frames 100 to 124 (of 150)...\n",
      "INFO:btrack.core:Tracking objects in frames 100 to 124 (of 150)...\n",
      "[INFO][2024/02/14 03:21:34 pm]  - Timing (Bayesian updates: 45.48ms, Linking: 3.38ms)\n",
      "INFO:btrack.utils: - Timing (Bayesian updates: 45.48ms, Linking: 3.38ms)\n",
      "[INFO][2024/02/14 03:21:34 pm]  - Probabilities (Link: 0.99975, Lost: 1.00000)\n",
      "INFO:btrack.utils: - Probabilities (Link: 0.99975, Lost: 1.00000)\n",
      "[INFO][2024/02/14 03:21:34 pm]  - Stats (Active: 645, Lost: 16351, Conflicts resolved: 18304)\n",
      "INFO:btrack.utils: - Stats (Active: 645, Lost: 16351, Conflicts resolved: 18304)\n",
      "[INFO][2024/02/14 03:21:34 pm] Tracking objects in frames 125 to 149 (of 150)...\n",
      "INFO:btrack.core:Tracking objects in frames 125 to 149 (of 150)...\n",
      "[INFO][2024/02/14 03:21:36 pm]  - Timing (Bayesian updates: 30.86ms, Linking: 2.24ms)\n",
      "INFO:btrack.utils: - Timing (Bayesian updates: 30.86ms, Linking: 2.24ms)\n",
      "[INFO][2024/02/14 03:21:36 pm]  - Probabilities (Link: 1.00000, Lost: 1.00000)\n",
      "INFO:btrack.utils: - Probabilities (Link: 1.00000, Lost: 1.00000)\n",
      "[INFO][2024/02/14 03:21:36 pm] SUCCESS.\n",
      "INFO:btrack.core:SUCCESS.\n",
      "[INFO][2024/02/14 03:21:36 pm]  - Found 7090 tracks in 150 frames (in 0.0s)\n",
      "INFO:btrack.core: - Found 7090 tracks in 150 frames (in 0.0s)\n",
      "[INFO][2024/02/14 03:21:36 pm]  - Inserted 14902 dummy objects to fill tracking gaps\n",
      "INFO:btrack.core: - Inserted 14902 dummy objects to fill tracking gaps\n",
      "[INFO][2024/02/14 03:21:36 pm] Loading hypothesis model: particle_hypothesis\n",
      "INFO:btrack.core:Loading hypothesis model: particle_hypothesis\n",
      "[INFO][2024/02/14 03:21:36 pm] Calculating hypotheses (relax: True)...\n",
      "INFO:btrack.core:Calculating hypotheses (relax: True)...\n",
      "[INFO][2024/02/14 03:21:37 pm] Setting up constraints matrix for global optimisation...\n",
      "INFO:btrack.optimise.optimiser:Setting up constraints matrix for global optimisation...\n",
      "[INFO][2024/02/14 03:21:37 pm] Using GLPK options: {'tm_lim': 60000}...\n",
      "INFO:btrack.optimise.optimiser:Using GLPK options: {'tm_lim': 60000}...\n",
      "[INFO][2024/02/14 03:21:37 pm] Optimizing...\n",
      "INFO:btrack.optimise.optimiser:Optimizing...\n",
      "[INFO][2024/02/14 03:21:41 pm] Optimization complete. (Solution: optimal)\n",
      "INFO:btrack.optimise.optimiser:Optimization complete. (Solution: optimal)\n",
      "[INFO][2024/02/14 03:21:41 pm]  - Fates.FALSE_POSITIVE: 3050 (of 7090)\n",
      "INFO:btrack.core: - Fates.FALSE_POSITIVE: 3050 (of 7090)\n",
      "[INFO][2024/02/14 03:21:41 pm]  - Fates.LINK: 1640 (of 3014)\n",
      "INFO:btrack.core: - Fates.LINK: 1640 (of 3014)\n",
      "[INFO][2024/02/14 03:21:41 pm]  - Fates.INITIALIZE_BORDER: 269 (of 609)\n",
      "INFO:btrack.core: - Fates.INITIALIZE_BORDER: 269 (of 609)\n",
      "[INFO][2024/02/14 03:21:41 pm]  - Fates.INITIALIZE_FRONT: 445 (of 690)\n",
      "INFO:btrack.core: - Fates.INITIALIZE_FRONT: 445 (of 690)\n",
      "[INFO][2024/02/14 03:21:41 pm]  - Fates.INITIALIZE_LAZY: 1686 (of 5791)\n",
      "INFO:btrack.core: - Fates.INITIALIZE_LAZY: 1686 (of 5791)\n",
      "[INFO][2024/02/14 03:21:41 pm]  - Fates.TERMINATE_BORDER: 274 (of 642)\n",
      "INFO:btrack.core: - Fates.TERMINATE_BORDER: 274 (of 642)\n",
      "[INFO][2024/02/14 03:21:41 pm]  - Fates.TERMINATE_BACK: 385 (of 532)\n",
      "INFO:btrack.core: - Fates.TERMINATE_BACK: 385 (of 532)\n",
      "[INFO][2024/02/14 03:21:41 pm]  - Fates.TERMINATE_LAZY: 1741 (of 5916)\n",
      "INFO:btrack.core: - Fates.TERMINATE_LAZY: 1741 (of 5916)\n",
      "[INFO][2024/02/14 03:21:41 pm]  - TOTAL: 24284 hypotheses\n",
      "INFO:btrack.core: - TOTAL: 24284 hypotheses\n",
      "[INFO][2024/02/14 03:21:41 pm] Completed optimization with 5450 tracks\n",
      "INFO:btrack.core:Completed optimization with 5450 tracks\n"
     ]
    },
    {
     "name": "stdout",
     "output_type": "stream",
     "text": [
      "GLPK Integer Optimizer 5.0\n",
      "28360 rows, 24284 columns, 34388 non-zeros\n",
      "24284 integer variables, all of which are binary\n",
      "Preprocessing...\n",
      "14180 rows, 24284 columns, 34388 non-zeros\n",
      "24284 integer variables, all of which are binary\n",
      "Scaling...\n",
      " A: min|aij| =  1.000e+00  max|aij| =  1.000e+00  ratio =  1.000e+00\n",
      "Problem data seem to be well scaled\n",
      "Constructing initial basis...\n",
      "Size of triangular part is 14180\n",
      "Solving LP relaxation...\n",
      "GLPK Simplex Optimizer 5.0\n",
      "14180 rows, 24284 columns, 34388 non-zeros\n",
      "*     0: obj =   8.323166831e+04 inf =   0.000e+00 (6970)\n",
      "Perturbing LP to avoid stalling [2555]...\n",
      "Removing LP perturbation [7056]...\n",
      "*  7056: obj =   4.086291182e+04 inf =   0.000e+00 (0) 2\n",
      "OPTIMAL LP SOLUTION FOUND\n",
      "Integer optimization begins...\n",
      "Long-step dual simplex will be used\n",
      "+  7056: mip =     not found yet >=              -inf        (1; 0)\n",
      "+  7056: >>>>>   4.086291182e+04 >=   4.086291182e+04   0.0% (1; 0)\n",
      "+  7056: mip =   4.086291182e+04 >=     tree is empty   0.0% (0; 1)\n",
      "INTEGER OPTIMAL SOLUTION FOUND\n"
     ]
    },
    {
     "name": "stderr",
     "output_type": "stream",
     "text": [
      "[INFO][2024/02/14 03:21:41 pm] Ending BayesianTracker session\n",
      "INFO:btrack.core:Ending BayesianTracker session\n"
     ]
    }
   ],
   "source": [
    "# initialise a tracker session using a context manager\n",
    "with btrack.BayesianTracker() as tracker:\n",
    "    # configure the tracker using a config file\n",
    "    tracker.configure('/home/dayn/analysis/models/btrack/particle_config_pnassign.json')\n",
    "    # set max search radius\n",
    "    tracker.max_search_radius = 20\n",
    "    # define tracking method\n",
    "    tracker.tracking_updates = [\"MOTION\", \"VISUAL\"]\n",
    "    # redefine features so that both channels are included in track measurements\n",
    "    tracker.features = list(objects[0].properties.keys())\n",
    "    # append the objects to be tracked\n",
    "    tracker.append(objects)\n",
    "    # set the tracking volume\n",
    "    tracker.volume=((0, segmentation.shape[-2]/5.04), (0, segmentation.shape[-1]/5.04))\n",
    "    # track them (in interactive mode)\n",
    "    tracker.track(step_size=25)\n",
    "    # generate hypotheses and run the global optimizer\n",
    "    tracker.optimize()\n",
    "    # store the tracks\n",
    "    tracks = tracker.tracks"
   ]
  },
  {
   "cell_type": "code",
   "execution_count": 175,
   "id": "294041f1-3f66-400b-b027-f5135dacaee2",
   "metadata": {},
   "outputs": [],
   "source": [
    "napari_tracks, _, _ = btrack.utils.tracks_to_napari(tracks, ndim=2)"
   ]
  },
  {
   "cell_type": "code",
   "execution_count": 176,
   "id": "e5d2caa2-4a09-47e3-b054-094b785e0bd4",
   "metadata": {},
   "outputs": [
    {
     "data": {
      "text/plain": [
       "<Tracks layer 'napari_tracks' at 0x7f34cc2e7250>"
      ]
     },
     "execution_count": 176,
     "metadata": {},
     "output_type": "execute_result"
    }
   ],
   "source": [
    "viewer.add_tracks(napari_tracks, scale = (scale_factor, scale_factor))"
   ]
  },
  {
   "cell_type": "markdown",
   "id": "4d4f5411-8214-4f1b-8c20-1351d31b1926",
   "metadata": {},
   "source": [
    "### Load all images "
   ]
  },
  {
   "cell_type": "code",
   "execution_count": 177,
   "id": "e8a78ca3-4d57-4ea9-955d-19034f8d06b8",
   "metadata": {},
   "outputs": [
    {
     "data": {
      "text/plain": [
       "'/mnt/SYNO/macrohet_syno/ND0002/'"
      ]
     },
     "execution_count": 177,
     "metadata": {},
     "output_type": "execute_result"
    }
   ],
   "source": [
    "base_dir"
   ]
  },
  {
   "cell_type": "code",
   "execution_count": 180,
   "id": "17042a79-b3c7-4152-821c-9012f1350e1f",
   "metadata": {},
   "outputs": [],
   "source": [
    "zarr_images = zarr.open(f'/mnt/{location}/macrohet_{location.lower()}/{expt_ID}/acquisition/zarr/{acq_ID}.zarr')"
   ]
  },
  {
   "cell_type": "code",
   "execution_count": 182,
   "id": "3fa79c68-fe53-43e7-899a-6062cbb08a02",
   "metadata": {},
   "outputs": [
    {
     "name": "stdout",
     "output_type": "stream",
     "text": [
      "CPU times: user 44.7 s, sys: 1min, total: 1min 45s\n",
      "Wall time: 5min 31s\n"
     ]
    }
   ],
   "source": [
    "%%time\n",
    "images_full_stack = zarr_images.images[:]"
   ]
  },
  {
   "cell_type": "code",
   "execution_count": 185,
   "id": "8f9851a4-9f83-4d55-b833-dc4c6294c5c0",
   "metadata": {},
   "outputs": [
    {
     "data": {
      "text/plain": [
       "(150, 2, 3, 6048, 6048)"
      ]
     },
     "execution_count": 185,
     "metadata": {},
     "output_type": "execute_result"
    }
   ],
   "source": [
    "images_full_stack.shape"
   ]
  },
  {
   "cell_type": "code",
   "execution_count": 186,
   "id": "fb17d1a9-9a9c-419b-bbaa-9df1056f66ca",
   "metadata": {},
   "outputs": [
    {
     "name": "stdout",
     "output_type": "stream",
     "text": [
      "CPU times: user 12.5 s, sys: 2.33 s, total: 14.9 s\n",
      "Wall time: 14.9 s\n"
     ]
    }
   ],
   "source": [
    "%%time\n",
    "images_full_stack_max_proj = np.max(images_full_stack, axis = 2)"
   ]
  },
  {
   "cell_type": "code",
   "execution_count": 188,
   "id": "12ebba19-1424-4fd8-94a4-17171f9c8dc5",
   "metadata": {},
   "outputs": [
    {
     "data": {
      "text/plain": [
       "(150, 2, 6048, 6048)"
      ]
     },
     "execution_count": 188,
     "metadata": {},
     "output_type": "execute_result"
    }
   ],
   "source": [
    "images_full_stack_max_proj"
   ]
  },
  {
   "cell_type": "code",
   "execution_count": 189,
   "id": "58ccbf5a-0a20-465b-ba7a-fd9915e75047",
   "metadata": {},
   "outputs": [
    {
     "data": {
      "text/plain": [
       "[<Image layer 'Image' at 0x7f333ac03c40>,\n",
       " <Image layer 'Image [1]' at 0x7f333a7b1850>]"
      ]
     },
     "execution_count": 189,
     "metadata": {},
     "output_type": "execute_result"
    }
   ],
   "source": [
    "viewer.add_image(images_full_stack_max_proj, channel_axis=1,)"
   ]
  },
  {
   "cell_type": "code",
   "execution_count": 190,
   "id": "0b83d295-9d83-4285-aa28-47ae14fb844c",
   "metadata": {},
   "outputs": [
    {
     "data": {
      "text/plain": [
       "<Labels layer 'segmentation' at 0x7f3772b54b50>"
      ]
     },
     "execution_count": 190,
     "metadata": {},
     "output_type": "execute_result"
    }
   ],
   "source": [
    "viewer.add_labels(segmentation)"
   ]
  },
  {
   "cell_type": "code",
   "execution_count": null,
   "id": "24b56837-bace-446a-ac07-f5527a0b6797",
   "metadata": {},
   "outputs": [],
   "source": [
    "viewer.add"
   ]
  },
  {
   "cell_type": "markdown",
   "id": "872d6498-d17a-4e79-904a-b4e2b02a5b86",
   "metadata": {},
   "source": [
    "### Can't find same cell as in tracks but will work with this one"
   ]
  },
  {
   "cell_type": "code",
   "execution_count": 193,
   "id": "bba70bc7-2708-4be0-8874-739cf303234a",
   "metadata": {},
   "outputs": [],
   "source": [
    "track = [t for t in tracks if t.ID == 68][0]"
   ]
  },
  {
   "cell_type": "code",
   "execution_count": null,
   "id": "b43da050-d5ed-4ff8-9052-89587a6e2713",
   "metadata": {},
   "outputs": [],
   "source": []
  },
  {
   "cell_type": "code",
   "execution_count": 198,
   "id": "21ade455-c881-49ec-a7f0-4539077a98f0",
   "metadata": {},
   "outputs": [
    {
     "data": {
      "text/plain": [
       "10"
      ]
     },
     "execution_count": 198,
     "metadata": {},
     "output_type": "execute_result"
    }
   ],
   "source": [
    "len(track)"
   ]
  },
  {
   "cell_type": "code",
   "execution_count": 220,
   "id": "5927b151-2993-4aa9-b92d-85509cd7f423",
   "metadata": {},
   "outputs": [
    {
     "data": {
      "text/plain": [
       "array([262.38956, 291.4889 , 303.71353, 265.57138, 296.68488, 155.9773 ,\n",
       "       163.48   , 152.00943, 167.80421, 130.8847 ], dtype=float32)"
      ]
     },
     "execution_count": 220,
     "metadata": {},
     "output_type": "execute_result"
    }
   ],
   "source": [
    "track.properties['mean_intensity'][:,0]"
   ]
  },
  {
   "cell_type": "markdown",
   "id": "ac282858-cd48-4ae8-9e0e-bd52d7bff22a",
   "metadata": {},
   "source": [
    "### Manually checking Mtb area"
   ]
  },
  {
   "cell_type": "code",
   "execution_count": 201,
   "id": "55a000fe-ec6c-49c0-b20a-9c7014dbd1ee",
   "metadata": {},
   "outputs": [],
   "source": [
    "segment_ID = 177\n",
    "mask = segmentation[0] == segment_ID\n",
    "masked_rfp = mask * rfp_t0"
   ]
  },
  {
   "cell_type": "code",
   "execution_count": 202,
   "id": "ad6c5cf1-7ddd-42b5-98e8-eee706f1bce6",
   "metadata": {},
   "outputs": [
    {
     "data": {
      "text/plain": [
       "<Image layer 'masked_rfp' at 0x7f35b39e3c10>"
      ]
     },
     "execution_count": 202,
     "metadata": {},
     "output_type": "execute_result"
    }
   ],
   "source": [
    "viewer.add_image(masked_rfp)"
   ]
  },
  {
   "cell_type": "markdown",
   "id": "2addce56-21f0-4d49-a40e-62b293f06292",
   "metadata": {},
   "source": [
    "##### The next step is threshold above 480 then count the area of the binary expression"
   ]
  },
  {
   "cell_type": "code",
   "execution_count": 203,
   "id": "5d8dbd41-df77-44f7-bdb8-928411b87971",
   "metadata": {},
   "outputs": [],
   "source": [
    "masked_threshold_rfp = masked_rfp >= 480"
   ]
  },
  {
   "cell_type": "code",
   "execution_count": 204,
   "id": "549b2b16-9fb8-4f0f-b3c3-ffd4d792b8ea",
   "metadata": {},
   "outputs": [
    {
     "data": {
      "text/plain": [
       "<Image layer 'masked_threshold_rfp' at 0x7f35b3e22340>"
      ]
     },
     "execution_count": 204,
     "metadata": {},
     "output_type": "execute_result"
    }
   ],
   "source": [
    "viewer.add_image(masked_threshold_rfp)"
   ]
  },
  {
   "cell_type": "code",
   "execution_count": 205,
   "id": "cc4e55c0-b7b7-439f-bade-aeac8d5979be",
   "metadata": {},
   "outputs": [
    {
     "data": {
      "text/plain": [
       "1573"
      ]
     },
     "execution_count": 205,
     "metadata": {},
     "output_type": "execute_result"
    }
   ],
   "source": [
    "np.sum(masked_threshold_rfp)"
   ]
  },
  {
   "cell_type": "markdown",
   "id": "4d772eea-fbfc-435d-99fa-6939cbd013c7",
   "metadata": {},
   "source": [
    "##### Then multiply that number of pixels by the area scaling factor"
   ]
  },
  {
   "cell_type": "code",
   "execution_count": 207,
   "id": "ce65f6cf-4712-44d0-8bfc-f58d8fba2c6f",
   "metadata": {},
   "outputs": [
    {
     "name": "stdout",
     "output_type": "stream",
     "text": [
      "The area of the Mtb is 35.15413086328432 µm2\n"
     ]
    }
   ],
   "source": [
    "image_resolution = 1.4949402023919043E-07 #= float(metadata['ImageResolutionX'].iloc[0])\n",
    "resolution_micrometers_per_pixel = image_resolution * 1_000_000\n",
    "print(f'The area of the Mtb is {np.sum(masked_threshold_rfp) * (resolution_micrometers_per_pixel ** 2)} µm2')"
   ]
  },
  {
   "cell_type": "code",
   "execution_count": 209,
   "id": "40b5e1d3-64f5-4483-99de-920d9fa304f0",
   "metadata": {},
   "outputs": [
    {
     "data": {
      "text/plain": [
       "40.135384615384616"
      ]
     },
     "execution_count": 209,
     "metadata": {},
     "output_type": "execute_result"
    }
   ],
   "source": [
    "6/resolution_micrometers_per_pixel"
   ]
  },
  {
   "cell_type": "code",
   "execution_count": 212,
   "id": "281b151d-53d7-4009-a24f-0c1139576e43",
   "metadata": {},
   "outputs": [
    {
     "data": {
      "text/plain": [
       "[array([[   0.        , 2568.44249156, 3401.37303943],\n",
       "        [   0.        , 2568.44249156, 3437.32742164],\n",
       "        [   0.        , 2603.43809025, 3437.32742164],\n",
       "        [   0.        , 2603.43809025, 3401.37303943]])]"
      ]
     },
     "execution_count": 212,
     "metadata": {},
     "output_type": "execute_result"
    }
   ],
   "source": [
    "viewer.layers['Shapes'].data"
   ]
  },
  {
   "cell_type": "code",
   "execution_count": 215,
   "id": "fd452d2f-a1ec-47cc-ba2d-e4e57c28b076",
   "metadata": {},
   "outputs": [
    {
     "data": {
      "text/plain": [
       "34.55750844000022"
      ]
     },
     "execution_count": 215,
     "metadata": {},
     "output_type": "execute_result"
    }
   ],
   "source": [
    "2603 - 2568.44249156"
   ]
  },
  {
   "cell_type": "code",
   "execution_count": 216,
   "id": "eb1109ef-b0b3-442c-9765-344837e6279c",
   "metadata": {},
   "outputs": [
    {
     "data": {
      "text/plain": [
       "36"
      ]
     },
     "execution_count": 216,
     "metadata": {},
     "output_type": "execute_result"
    }
   ],
   "source": [
    "3437-3401"
   ]
  },
  {
   "cell_type": "markdown",
   "id": "670896b9-5fb7-41fe-895b-bdf42a0b55ed",
   "metadata": {
    "jp-MarkdownHeadingCollapsed": true
   },
   "source": [
    "# The area measurement above seems correct, so is the issue with the tracking step?"
   ]
  },
  {
   "cell_type": "code",
   "execution_count": 221,
   "id": "75570ce3-909d-4192-83fe-0d0fe09b89b1",
   "metadata": {},
   "outputs": [
    {
     "data": {
      "text/plain": [
       "[<matplotlib.lines.Line2D at 0x7f354055b5b0>]"
      ]
     },
     "execution_count": 221,
     "metadata": {},
     "output_type": "execute_result"
    },
    {
     "data": {
      "image/png": "[encoded data removed]",
      "text/plain": [
       "<Figure size 640x480 with 1 Axes>"
      ]
     },
     "metadata": {},
     "output_type": "display_data"
    }
   ],
   "source": [
    "plt.plot(track.properties['mean_intensity'][:,0])"
   ]
  },
  {
   "cell_type": "code",
   "execution_count": 224,
   "id": "e115e2af-b9b3-4b02-8a89-08c21f2ebe06",
   "metadata": {},
   "outputs": [
    {
     "data": {
      "text/plain": [
       "(150, 2, 6048, 6048)"
      ]
     },
     "execution_count": 224,
     "metadata": {},
     "output_type": "execute_result"
    }
   ],
   "source": [
    "images_full_stack_max_proj.shape"
   ]
  },
  {
   "cell_type": "code",
   "execution_count": 231,
   "id": "db31e448-1cd7-485d-bbdd-cfb009bb2d7f",
   "metadata": {},
   "outputs": [],
   "source": [
    "areas = []\n",
    "segment_IDs = [177, 166, 190, 184, 187, 174, 179, 182, 191, 173]\n",
    "for i, segment_ID in enumerate(segment_IDs):\n",
    "    # segment_ID = 177\n",
    "    mask = segmentation[i] == segment_ID\n",
    "    masked_rfp = mask * images_full_stack_max_proj[i,0,...]\n",
    "    masked_threshold_rfp = masked_rfp >= 480\n",
    "    areas.append(np.sum(masked_threshold_rfp) * (resolution_micrometers_per_pixel ** 2))\n",
    "    # if i == 3:\n",
    "    #     break"
   ]
  },
  {
   "cell_type": "code",
   "execution_count": 232,
   "id": "fc85a5eb-3de5-418d-a40c-4ad661b14589",
   "metadata": {},
   "outputs": [
    {
     "data": {
      "text/plain": [
       "[<matplotlib.lines.Line2D at 0x7f35e87cb1f0>]"
      ]
     },
     "execution_count": 232,
     "metadata": {},
     "output_type": "execute_result"
    },
    {
     "data": {
      "image/png": "[encoded data removed]",
      "text/plain": [
       "<Figure size 640x480 with 1 Axes>"
      ]
     },
     "metadata": {},
     "output_type": "display_data"
    }
   ],
   "source": [
    "plt.plot(areas)"
   ]
  },
  {
   "cell_type": "code",
   "execution_count": 230,
   "id": "4046fded-545a-4d5d-b405-18556d6bf768",
   "metadata": {},
   "outputs": [
    {
     "data": {
      "text/plain": [
       "<Image layer 'masked_threshold_rfp [2]' at 0x7f35407e9b50>"
      ]
     },
     "execution_count": 230,
     "metadata": {},
     "output_type": "execute_result"
    }
   ],
   "source": [
    "viewer.add_image(masked_threshold_rfp)"
   ]
  },
  {
   "cell_type": "markdown",
   "id": "2d25084c-8453-41b2-aec7-f497326770be",
   "metadata": {},
   "source": [
    "##### Then multiply that number of pixels by the area scaling factor"
   ]
  },
  {
   "cell_type": "code",
   "execution_count": 207,
   "id": "a566ef98-2fb2-4e72-9928-912ba041d9cc",
   "metadata": {},
   "outputs": [
    {
     "name": "stdout",
     "output_type": "stream",
     "text": [
      "The area of the Mtb is 35.15413086328432 µm2\n"
     ]
    }
   ],
   "source": [
    "image_resolution = 1.4949402023919043E-07 #= float(metadata['ImageResolutionX'].iloc[0])\n",
    "resolution_micrometers_per_pixel = image_resolution * 1_000_000\n",
    "print(f'The area of the Mtb is {np.sum(masked_threshold_rfp) * (resolution_micrometers_per_pixel ** 2)} µm2')"
   ]
  },
  {
   "cell_type": "code",
   "execution_count": null,
   "id": "618987c0-be4a-43cd-82dd-5102afe1e55b",
   "metadata": {},
   "outputs": [],
   "source": []
  },
  {
   "cell_type": "markdown",
   "id": "35919958-2057-450f-8943-134243d9e273",
   "metadata": {
    "jp-MarkdownHeadingCollapsed": true
   },
   "source": [
    "### Manually checking Mtb area"
   ]
  },
  {
   "cell_type": "code",
   "execution_count": 64,
   "id": "bcb30d27-8691-4fb0-85a5-cb7fb0cb5d8f",
   "metadata": {},
   "outputs": [],
   "source": [
    "segment_ID = 423\n",
    "mask = segmentation[0] == 423\n",
    "masked_rfp = mask * rfp_t0"
   ]
  },
  {
   "cell_type": "code",
   "execution_count": 65,
   "id": "5ec19ccb-55d5-485c-a603-b5e9bc05719a",
   "metadata": {},
   "outputs": [
    {
     "data": {
      "text/plain": [
       "<Image layer 'masked_rfp' at 0x7f3772a0c8e0>"
      ]
     },
     "execution_count": 65,
     "metadata": {},
     "output_type": "execute_result"
    }
   ],
   "source": [
    "viewer.add_image(masked_rfp)"
   ]
  },
  {
   "cell_type": "markdown",
   "id": "15206a5a-3ed9-4b3a-bbcf-7629ba5394c3",
   "metadata": {},
   "source": [
    "##### The next step is threshold above 480 then count the area of the binary expression"
   ]
  },
  {
   "cell_type": "code",
   "execution_count": 66,
   "id": "5c542f87-5840-4ad6-bba7-d3db56750731",
   "metadata": {},
   "outputs": [],
   "source": [
    "masked_threshold_rfp = masked_rfp >= 480"
   ]
  },
  {
   "cell_type": "code",
   "execution_count": 67,
   "id": "8bce6093-5bf9-4e37-b018-0deda6685707",
   "metadata": {},
   "outputs": [
    {
     "data": {
      "text/plain": [
       "<Image layer 'masked_threshold_rfp' at 0x7f3772eba970>"
      ]
     },
     "execution_count": 67,
     "metadata": {},
     "output_type": "execute_result"
    }
   ],
   "source": [
    "viewer.add_image(masked_threshold_rfp)"
   ]
  },
  {
   "cell_type": "code",
   "execution_count": 70,
   "id": "a6a4c4d6-e063-4847-b837-b873c4a1c372",
   "metadata": {},
   "outputs": [
    {
     "data": {
      "text/plain": [
       "2094"
      ]
     },
     "execution_count": 70,
     "metadata": {},
     "output_type": "execute_result"
    }
   ],
   "source": [
    "np.sum(masked_threshold_rfp)"
   ]
  },
  {
   "cell_type": "markdown",
   "id": "dbca6d44-5b0c-43e9-83ac-1cde73a733ea",
   "metadata": {},
   "source": [
    "##### Then multiply that number of pixels by the area scaling factor"
   ]
  },
  {
   "cell_type": "code",
   "execution_count": 73,
   "id": "747bb7f4-b38e-45b4-b62d-90bc65010be3",
   "metadata": {},
   "outputs": [
    {
     "data": {
      "text/plain": [
       "'1.4949402023919043E-07'"
      ]
     },
     "execution_count": 73,
     "metadata": {},
     "output_type": "execute_result"
    }
   ],
   "source": [
    "metadata['ImageResolutionX'].iloc[0]"
   ]
  },
  {
   "cell_type": "code",
   "execution_count": 80,
   "id": "1c3ab68a-f9f5-4b4e-a128-6fca196192dd",
   "metadata": {},
   "outputs": [
    {
     "name": "stdout",
     "output_type": "stream",
     "text": [
      "The area of the Mtb is 46.79767961075484 µm2\n"
     ]
    }
   ],
   "source": [
    "image_resolution = 1.4949402023919043E-07 #= float(metadata['ImageResolutionX'].iloc[0])\n",
    "resolution_micrometers_per_pixel = image_resolution * 1_000_000\n",
    "print(f'The area of the Mtb is {np.sum(masked_threshold_rfp) * (resolution_micrometers_per_pixel ** 2)} µm2')"
   ]
  }
 ],
 "metadata": {
  "kernelspec": {
   "display_name": "egg",
   "language": "python",
   "name": "egg"
  },
  "language_info": {
   "codemirror_mode": {
    "name": "ipython",
    "version": 3
   },
   "file_extension": ".py",
   "mimetype": "text/x-python",
   "name": "python",
   "nbconvert_exporter": "python",
   "pygments_lexer": "ipython3",
   "version": "3.9.17"
  }
 },
 "nbformat": 4,
 "nbformat_minor": 5
}
