{
 "cells": [
  {
   "cell_type": "markdown",
   "id": "436cc723-43dd-48f3-9d56-1e1192142281",
   "metadata": {},
   "source": [
    "# Quick glimpse viewer"
   ]
  },
  {
   "cell_type": "code",
   "execution_count": 363,
   "id": "038f21c9-ab18-4688-8de0-829dc749c642",
   "metadata": {},
   "outputs": [],
   "source": [
    "import napari\n",
    "import pandas as pd\n",
    "import os, glob\n",
    "import zarr\n",
    "from tqdm.auto import tqdm\n",
    "from macrohet import dataio, tile, visualise, notify\n",
    "from datetime import datetime\n",
    "current_date = datetime.now().strftime('%d-%m-%Y')\n",
    "import btrack \n",
    "import cv2\n",
    "import re\n",
    "import time"
   ]
  },
  {
   "cell_type": "code",
   "execution_count": 369,
   "id": "fe11b337-bf44-4f4a-8b64-859c8333c055",
   "metadata": {},
   "outputs": [
    {
     "data": {
      "text/plain": [
       "342909"
      ]
     },
     "execution_count": 369,
     "metadata": {},
     "output_type": "execute_result"
    }
   ],
   "source": [
    "os.getpid()"
   ]
  },
  {
   "cell_type": "code",
   "execution_count": null,
   "id": "ee772a20-c666-4383-b214-8f65bba52f67",
   "metadata": {},
   "outputs": [],
   "source": []
  },
  {
   "cell_type": "code",
   "execution_count": 364,
   "id": "170cc967-1488-41b0-9608-f862f128e2d4",
   "metadata": {},
   "outputs": [],
   "source": [
    "sc_df_fn = f'/mnt/SYNO/macrohet_syno/manuscript/results/sc_df.pkl'"
   ]
  },
  {
   "cell_type": "code",
   "execution_count": 365,
   "id": "33162b98-bfd9-4770-86a2-688b6871b6ee",
   "metadata": {},
   "outputs": [],
   "source": [
    "df = pd.read_pickle(sc_df_fn)"
   ]
  },
  {
   "cell_type": "code",
   "execution_count": 366,
   "id": "1374af15-828d-4702-80f5-0069aedb019a",
   "metadata": {},
   "outputs": [
    {
     "data": {
      "text/html": [
       "<div>\n",
       "<style scoped>\n",
       "    .dataframe tbody tr th:only-of-type {\n",
       "        vertical-align: middle;\n",
       "    }\n",
       "\n",
       "    .dataframe tbody tr th {\n",
       "        vertical-align: top;\n",
       "    }\n",
       "\n",
       "    .dataframe thead th {\n",
       "        text-align: right;\n",
       "    }\n",
       "</style>\n",
       "<table border=\"1\" class=\"dataframe\">\n",
       "  <thead>\n",
       "    <tr style=\"text-align: right;\">\n",
       "      <th></th>\n",
       "      <th>Time (hours)</th>\n",
       "      <th>Mtb Area (µm)</th>\n",
       "      <th>dMtb Area (µm)</th>\n",
       "      <th>Mphi Area (µm)</th>\n",
       "      <th>dMphi Area (µm)</th>\n",
       "      <th>Infection Status</th>\n",
       "      <th>Initial Infection Status</th>\n",
       "      <th>Final Infection Status</th>\n",
       "      <th>x</th>\n",
       "      <th>y</th>\n",
       "      <th>...</th>\n",
       "      <th>Technical Replicate</th>\n",
       "      <th>Biological Replicate</th>\n",
       "      <th>Strain</th>\n",
       "      <th>Compound</th>\n",
       "      <th>Concentration</th>\n",
       "      <th>Cell ID</th>\n",
       "      <th>Acquisition ID</th>\n",
       "      <th>Experiment ID</th>\n",
       "      <th>Unique ID</th>\n",
       "      <th>ID</th>\n",
       "    </tr>\n",
       "  </thead>\n",
       "  <tbody>\n",
       "    <tr>\n",
       "      <th>0</th>\n",
       "      <td>0.0</td>\n",
       "      <td>0.424621</td>\n",
       "      <td>-0.424621</td>\n",
       "      <td>459.082108</td>\n",
       "      <td>-92.746118</td>\n",
       "      <td>1.0</td>\n",
       "      <td>1.0</td>\n",
       "      <td>0.0</td>\n",
       "      <td>457.172943</td>\n",
       "      <td>8.791715</td>\n",
       "      <td>...</td>\n",
       "      <td>1</td>\n",
       "      <td>1</td>\n",
       "      <td>RD1</td>\n",
       "      <td>CTRL</td>\n",
       "      <td>EC0</td>\n",
       "      <td>426</td>\n",
       "      <td>(3, 4)</td>\n",
       "      <td>PS0000</td>\n",
       "      <td>426.3.4</td>\n",
       "      <td>426.3.4.PS0000</td>\n",
       "    </tr>\n",
       "    <tr>\n",
       "      <th>1</th>\n",
       "      <td>1.0</td>\n",
       "      <td>0.000000</td>\n",
       "      <td>-0.424621</td>\n",
       "      <td>372.839393</td>\n",
       "      <td>-92.746118</td>\n",
       "      <td>0.0</td>\n",
       "      <td>1.0</td>\n",
       "      <td>0.0</td>\n",
       "      <td>459.138947</td>\n",
       "      <td>6.718642</td>\n",
       "      <td>...</td>\n",
       "      <td>1</td>\n",
       "      <td>1</td>\n",
       "      <td>RD1</td>\n",
       "      <td>CTRL</td>\n",
       "      <td>EC0</td>\n",
       "      <td>426</td>\n",
       "      <td>(3, 4)</td>\n",
       "      <td>PS0000</td>\n",
       "      <td>426.3.4</td>\n",
       "      <td>426.3.4.PS0000</td>\n",
       "    </tr>\n",
       "    <tr>\n",
       "      <th>2</th>\n",
       "      <td>2.0</td>\n",
       "      <td>0.000000</td>\n",
       "      <td>-0.424621</td>\n",
       "      <td>423.168130</td>\n",
       "      <td>-92.746118</td>\n",
       "      <td>0.0</td>\n",
       "      <td>1.0</td>\n",
       "      <td>0.0</td>\n",
       "      <td>460.555237</td>\n",
       "      <td>10.785886</td>\n",
       "      <td>...</td>\n",
       "      <td>1</td>\n",
       "      <td>1</td>\n",
       "      <td>RD1</td>\n",
       "      <td>CTRL</td>\n",
       "      <td>EC0</td>\n",
       "      <td>426</td>\n",
       "      <td>(3, 4)</td>\n",
       "      <td>PS0000</td>\n",
       "      <td>426.3.4</td>\n",
       "      <td>426.3.4.PS0000</td>\n",
       "    </tr>\n",
       "    <tr>\n",
       "      <th>3</th>\n",
       "      <td>3.0</td>\n",
       "      <td>0.335227</td>\n",
       "      <td>-0.424621</td>\n",
       "      <td>445.561289</td>\n",
       "      <td>-92.746118</td>\n",
       "      <td>1.0</td>\n",
       "      <td>1.0</td>\n",
       "      <td>0.0</td>\n",
       "      <td>455.878815</td>\n",
       "      <td>11.143067</td>\n",
       "      <td>...</td>\n",
       "      <td>1</td>\n",
       "      <td>1</td>\n",
       "      <td>RD1</td>\n",
       "      <td>CTRL</td>\n",
       "      <td>EC0</td>\n",
       "      <td>426</td>\n",
       "      <td>(3, 4)</td>\n",
       "      <td>PS0000</td>\n",
       "      <td>426.3.4</td>\n",
       "      <td>426.3.4.PS0000</td>\n",
       "    </tr>\n",
       "    <tr>\n",
       "      <th>4</th>\n",
       "      <td>4.0</td>\n",
       "      <td>0.000000</td>\n",
       "      <td>-0.424621</td>\n",
       "      <td>487.040034</td>\n",
       "      <td>-92.746118</td>\n",
       "      <td>1.0</td>\n",
       "      <td>1.0</td>\n",
       "      <td>0.0</td>\n",
       "      <td>462.634186</td>\n",
       "      <td>14.050420</td>\n",
       "      <td>...</td>\n",
       "      <td>1</td>\n",
       "      <td>1</td>\n",
       "      <td>RD1</td>\n",
       "      <td>CTRL</td>\n",
       "      <td>EC0</td>\n",
       "      <td>426</td>\n",
       "      <td>(3, 4)</td>\n",
       "      <td>PS0000</td>\n",
       "      <td>426.3.4</td>\n",
       "      <td>426.3.4.PS0000</td>\n",
       "    </tr>\n",
       "    <tr>\n",
       "      <th>...</th>\n",
       "      <td>...</td>\n",
       "      <td>...</td>\n",
       "      <td>...</td>\n",
       "      <td>...</td>\n",
       "      <td>...</td>\n",
       "      <td>...</td>\n",
       "      <td>...</td>\n",
       "      <td>...</td>\n",
       "      <td>...</td>\n",
       "      <td>...</td>\n",
       "      <td>...</td>\n",
       "      <td>...</td>\n",
       "      <td>...</td>\n",
       "      <td>...</td>\n",
       "      <td>...</td>\n",
       "      <td>...</td>\n",
       "      <td>...</td>\n",
       "      <td>...</td>\n",
       "      <td>...</td>\n",
       "      <td>...</td>\n",
       "      <td>...</td>\n",
       "    </tr>\n",
       "    <tr>\n",
       "      <th>1722130</th>\n",
       "      <td>74.5</td>\n",
       "      <td>1.117423</td>\n",
       "      <td>1.095075</td>\n",
       "      <td>752.584461</td>\n",
       "      <td>55.088959</td>\n",
       "      <td>1.0</td>\n",
       "      <td>1.0</td>\n",
       "      <td>1.0</td>\n",
       "      <td>227.093262</td>\n",
       "      <td>130.358139</td>\n",
       "      <td>...</td>\n",
       "      <td>2</td>\n",
       "      <td>3</td>\n",
       "      <td>RD1</td>\n",
       "      <td>BDQ</td>\n",
       "      <td>EC99</td>\n",
       "      <td>1874</td>\n",
       "      <td>(6, 12)</td>\n",
       "      <td>ND0003</td>\n",
       "      <td>1874.6.12</td>\n",
       "      <td>1874.6.12.ND0003</td>\n",
       "    </tr>\n",
       "    <tr>\n",
       "      <th>1722131</th>\n",
       "      <td>75.0</td>\n",
       "      <td>2.033710</td>\n",
       "      <td>1.095075</td>\n",
       "      <td>616.035357</td>\n",
       "      <td>55.088959</td>\n",
       "      <td>1.0</td>\n",
       "      <td>1.0</td>\n",
       "      <td>1.0</td>\n",
       "      <td>226.622925</td>\n",
       "      <td>130.532120</td>\n",
       "      <td>...</td>\n",
       "      <td>2</td>\n",
       "      <td>3</td>\n",
       "      <td>RD1</td>\n",
       "      <td>BDQ</td>\n",
       "      <td>EC99</td>\n",
       "      <td>1874</td>\n",
       "      <td>(6, 12)</td>\n",
       "      <td>ND0003</td>\n",
       "      <td>1874.6.12</td>\n",
       "      <td>1874.6.12.ND0003</td>\n",
       "    </tr>\n",
       "    <tr>\n",
       "      <th>1722132</th>\n",
       "      <td>75.5</td>\n",
       "      <td>1.430302</td>\n",
       "      <td>1.095075</td>\n",
       "      <td>579.182743</td>\n",
       "      <td>55.088959</td>\n",
       "      <td>1.0</td>\n",
       "      <td>1.0</td>\n",
       "      <td>1.0</td>\n",
       "      <td>225.366608</td>\n",
       "      <td>129.932709</td>\n",
       "      <td>...</td>\n",
       "      <td>2</td>\n",
       "      <td>3</td>\n",
       "      <td>RD1</td>\n",
       "      <td>BDQ</td>\n",
       "      <td>EC99</td>\n",
       "      <td>1874</td>\n",
       "      <td>(6, 12)</td>\n",
       "      <td>ND0003</td>\n",
       "      <td>1874.6.12</td>\n",
       "      <td>1874.6.12.ND0003</td>\n",
       "    </tr>\n",
       "    <tr>\n",
       "      <th>1722133</th>\n",
       "      <td>76.0</td>\n",
       "      <td>1.989013</td>\n",
       "      <td>1.095075</td>\n",
       "      <td>679.147414</td>\n",
       "      <td>55.088959</td>\n",
       "      <td>1.0</td>\n",
       "      <td>1.0</td>\n",
       "      <td>1.0</td>\n",
       "      <td>226.424683</td>\n",
       "      <td>128.489410</td>\n",
       "      <td>...</td>\n",
       "      <td>2</td>\n",
       "      <td>3</td>\n",
       "      <td>RD1</td>\n",
       "      <td>BDQ</td>\n",
       "      <td>EC99</td>\n",
       "      <td>1874</td>\n",
       "      <td>(6, 12)</td>\n",
       "      <td>ND0003</td>\n",
       "      <td>1874.6.12</td>\n",
       "      <td>1874.6.12.ND0003</td>\n",
       "    </tr>\n",
       "    <tr>\n",
       "      <th>1722134</th>\n",
       "      <td>76.5</td>\n",
       "      <td>2.123104</td>\n",
       "      <td>1.095075</td>\n",
       "      <td>770.686715</td>\n",
       "      <td>55.088959</td>\n",
       "      <td>1.0</td>\n",
       "      <td>1.0</td>\n",
       "      <td>1.0</td>\n",
       "      <td>225.741119</td>\n",
       "      <td>126.533669</td>\n",
       "      <td>...</td>\n",
       "      <td>2</td>\n",
       "      <td>3</td>\n",
       "      <td>RD1</td>\n",
       "      <td>BDQ</td>\n",
       "      <td>EC99</td>\n",
       "      <td>1874</td>\n",
       "      <td>(6, 12)</td>\n",
       "      <td>ND0003</td>\n",
       "      <td>1874.6.12</td>\n",
       "      <td>1874.6.12.ND0003</td>\n",
       "    </tr>\n",
       "  </tbody>\n",
       "</table>\n",
       "<p>1240033 rows × 24 columns</p>\n",
       "</div>"
      ],
      "text/plain": [
       "         Time (hours)  Mtb Area (µm)  dMtb Area (µm)  Mphi Area (µm)  \\\n",
       "0                 0.0       0.424621       -0.424621      459.082108   \n",
       "1                 1.0       0.000000       -0.424621      372.839393   \n",
       "2                 2.0       0.000000       -0.424621      423.168130   \n",
       "3                 3.0       0.335227       -0.424621      445.561289   \n",
       "4                 4.0       0.000000       -0.424621      487.040034   \n",
       "...               ...            ...             ...             ...   \n",
       "1722130          74.5       1.117423        1.095075      752.584461   \n",
       "1722131          75.0       2.033710        1.095075      616.035357   \n",
       "1722132          75.5       1.430302        1.095075      579.182743   \n",
       "1722133          76.0       1.989013        1.095075      679.147414   \n",
       "1722134          76.5       2.123104        1.095075      770.686715   \n",
       "\n",
       "         dMphi Area (µm)  Infection Status  Initial Infection Status  \\\n",
       "0             -92.746118               1.0                       1.0   \n",
       "1             -92.746118               0.0                       1.0   \n",
       "2             -92.746118               0.0                       1.0   \n",
       "3             -92.746118               1.0                       1.0   \n",
       "4             -92.746118               1.0                       1.0   \n",
       "...                  ...               ...                       ...   \n",
       "1722130        55.088959               1.0                       1.0   \n",
       "1722131        55.088959               1.0                       1.0   \n",
       "1722132        55.088959               1.0                       1.0   \n",
       "1722133        55.088959               1.0                       1.0   \n",
       "1722134        55.088959               1.0                       1.0   \n",
       "\n",
       "         Final Infection Status           x           y  ...  \\\n",
       "0                           0.0  457.172943    8.791715  ...   \n",
       "1                           0.0  459.138947    6.718642  ...   \n",
       "2                           0.0  460.555237   10.785886  ...   \n",
       "3                           0.0  455.878815   11.143067  ...   \n",
       "4                           0.0  462.634186   14.050420  ...   \n",
       "...                         ...         ...         ...  ...   \n",
       "1722130                     1.0  227.093262  130.358139  ...   \n",
       "1722131                     1.0  226.622925  130.532120  ...   \n",
       "1722132                     1.0  225.366608  129.932709  ...   \n",
       "1722133                     1.0  226.424683  128.489410  ...   \n",
       "1722134                     1.0  225.741119  126.533669  ...   \n",
       "\n",
       "         Technical Replicate  Biological Replicate  Strain  Compound  \\\n",
       "0                          1                     1     RD1      CTRL   \n",
       "1                          1                     1     RD1      CTRL   \n",
       "2                          1                     1     RD1      CTRL   \n",
       "3                          1                     1     RD1      CTRL   \n",
       "4                          1                     1     RD1      CTRL   \n",
       "...                      ...                   ...     ...       ...   \n",
       "1722130                    2                     3     RD1       BDQ   \n",
       "1722131                    2                     3     RD1       BDQ   \n",
       "1722132                    2                     3     RD1       BDQ   \n",
       "1722133                    2                     3     RD1       BDQ   \n",
       "1722134                    2                     3     RD1       BDQ   \n",
       "\n",
       "         Concentration  Cell ID Acquisition ID Experiment ID  Unique ID  \\\n",
       "0                  EC0      426         (3, 4)        PS0000    426.3.4   \n",
       "1                  EC0      426         (3, 4)        PS0000    426.3.4   \n",
       "2                  EC0      426         (3, 4)        PS0000    426.3.4   \n",
       "3                  EC0      426         (3, 4)        PS0000    426.3.4   \n",
       "4                  EC0      426         (3, 4)        PS0000    426.3.4   \n",
       "...                ...      ...            ...           ...        ...   \n",
       "1722130           EC99     1874        (6, 12)        ND0003  1874.6.12   \n",
       "1722131           EC99     1874        (6, 12)        ND0003  1874.6.12   \n",
       "1722132           EC99     1874        (6, 12)        ND0003  1874.6.12   \n",
       "1722133           EC99     1874        (6, 12)        ND0003  1874.6.12   \n",
       "1722134           EC99     1874        (6, 12)        ND0003  1874.6.12   \n",
       "\n",
       "                       ID  \n",
       "0          426.3.4.PS0000  \n",
       "1          426.3.4.PS0000  \n",
       "2          426.3.4.PS0000  \n",
       "3          426.3.4.PS0000  \n",
       "4          426.3.4.PS0000  \n",
       "...                   ...  \n",
       "1722130  1874.6.12.ND0003  \n",
       "1722131  1874.6.12.ND0003  \n",
       "1722132  1874.6.12.ND0003  \n",
       "1722133  1874.6.12.ND0003  \n",
       "1722134  1874.6.12.ND0003  \n",
       "\n",
       "[1240033 rows x 24 columns]"
      ]
     },
     "execution_count": 366,
     "metadata": {},
     "output_type": "execute_result"
    }
   ],
   "source": [
    "df"
   ]
  },
  {
   "cell_type": "code",
   "execution_count": 360,
   "id": "8894139b-af70-4000-9236-55103f3c18fd",
   "metadata": {},
   "outputs": [],
   "source": [
    "crop_size = 750\n",
    "track_scale_factor = 5.04\n",
    "mask_outline = True\n",
    "pattern = r\"cell_ID\\.(.*?)_dt\"\n",
    "pattern = r\"cell_ID\\.(.*?).mp4\"\n",
    "seg_fn = []\n",
    "gfp_channel = 1\n",
    "rfp_channel = 0\n",
    "image_scale_m_per_pixel = 1.4949402023919043e-07\n",
    "image_scale_um_per_pixel = image_scale_m_per_pixel*1E6\n",
    "add_labels = True\n",
    "boundary_buffer = 150\n",
    "image_width = image_height = 6048"
   ]
  },
  {
   "cell_type": "code",
   "execution_count": 368,
   "id": "28e15465-6f5e-4079-8a25-9628344f78a9",
   "metadata": {
    "scrolled": true
   },
   "outputs": [
    {
     "name": "stdout",
     "output_type": "stream",
     "text": [
      "Checking for new files\n"
     ]
    },
    {
     "name": "stderr",
     "output_type": "stream",
     "text": [
      "[INFO][2024/04/19 05:42:05 pm] Opening HDF file: /mnt/SYNO/macrohet_syno/ND0003/labels/cpv3/(3, 11).h5...\n",
      "INFO:btrack.io.hdf:Opening HDF file: /mnt/SYNO/macrohet_syno/ND0003/labels/cpv3/(3, 11).h5...\n",
      "[INFO][2024/04/19 05:42:39 pm] Loading segmentation (154, 6048, 6048)\n",
      "INFO:btrack.io.hdf:Loading segmentation (154, 6048, 6048)\n",
      "[INFO][2024/04/19 05:42:39 pm] Closing HDF file: /mnt/SYNO/macrohet_syno/ND0003/labels/cpv3/(3, 11).h5\n",
      "INFO:btrack.io.hdf:Closing HDF file: /mnt/SYNO/macrohet_syno/ND0003/labels/cpv3/(3, 11).h5\n"
     ]
    },
    {
     "data": {
      "application/vnd.jupyter.widget-view+json": {
       "model_id": "02532ab7e8474dfd85c295d7ed8ce865",
       "version_major": 2,
       "version_minor": 0
      },
      "text/plain": [
       "  0%|          | 0/121 [00:00<?, ?it/s]"
      ]
     },
     "metadata": {},
     "output_type": "display_data"
    },
    {
     "name": "stdout",
     "output_type": "stream",
     "text": [
      "Video 787.3.11.ND0003 saved successfully.\n"
     ]
    },
    {
     "name": "stderr",
     "output_type": "stream",
     "text": [
      "[INFO][2024/04/19 06:07:24 pm] Opening HDF file: /mnt/SYNO/macrohet_syno/ND0003/labels/cpv3/(3, 9).h5...\n",
      "INFO:btrack.io.hdf:Opening HDF file: /mnt/SYNO/macrohet_syno/ND0003/labels/cpv3/(3, 9).h5...\n"
     ]
    },
    {
     "name": "stdout",
     "output_type": "stream",
     "text": [
      "Checking for new files\n"
     ]
    },
    {
     "name": "stderr",
     "output_type": "stream",
     "text": [
      "[INFO][2024/04/19 06:08:06 pm] Loading segmentation (154, 6048, 6048)\n",
      "INFO:btrack.io.hdf:Loading segmentation (154, 6048, 6048)\n",
      "[INFO][2024/04/19 06:08:06 pm] Closing HDF file: /mnt/SYNO/macrohet_syno/ND0003/labels/cpv3/(3, 9).h5\n",
      "INFO:btrack.io.hdf:Closing HDF file: /mnt/SYNO/macrohet_syno/ND0003/labels/cpv3/(3, 9).h5\n"
     ]
    },
    {
     "data": {
      "application/vnd.jupyter.widget-view+json": {
       "model_id": "0e58152bf2a24b1792f55be83ddfed68",
       "version_major": 2,
       "version_minor": 0
      },
      "text/plain": [
       "  0%|          | 0/117 [00:00<?, ?it/s]"
      ]
     },
     "metadata": {},
     "output_type": "display_data"
    },
    {
     "name": "stdout",
     "output_type": "stream",
     "text": [
      "Video 413.3.9.ND0003 saved successfully.\n"
     ]
    },
    {
     "name": "stderr",
     "output_type": "stream",
     "text": [
      "[INFO][2024/04/19 06:26:54 pm] Opening HDF file: /mnt/SYNO/macrohet_syno/PS0000/labels/macrohet_seg_model/(6, 5).h5...\n",
      "INFO:btrack.io.hdf:Opening HDF file: /mnt/SYNO/macrohet_syno/PS0000/labels/macrohet_seg_model/(6, 5).h5...\n",
      "[INFO][2024/04/19 06:27:07 pm] Loading segmentation (75, 6048, 6048)\n",
      "INFO:btrack.io.hdf:Loading segmentation (75, 6048, 6048)\n",
      "[INFO][2024/04/19 06:27:07 pm] Closing HDF file: /mnt/SYNO/macrohet_syno/PS0000/labels/macrohet_seg_model/(6, 5).h5\n",
      "INFO:btrack.io.hdf:Closing HDF file: /mnt/SYNO/macrohet_syno/PS0000/labels/macrohet_seg_model/(6, 5).h5\n"
     ]
    },
    {
     "data": {
      "application/vnd.jupyter.widget-view+json": {
       "model_id": "0501e0838dff4267866445fc97295c9a",
       "version_major": 2,
       "version_minor": 0
      },
      "text/plain": [
       "  0%|          | 0/74 [00:00<?, ?it/s]"
      ]
     },
     "metadata": {},
     "output_type": "display_data"
    },
    {
     "name": "stdout",
     "output_type": "stream",
     "text": [
      "Video 24.6.5.PS0000 saved successfully.\n"
     ]
    },
    {
     "name": "stderr",
     "output_type": "stream",
     "text": [
      "[INFO][2024/04/19 06:37:55 pm] Opening HDF file: /mnt/SYNO/macrohet_syno/PS0000/labels/macrohet_seg_model/(5, 5).h5...\n",
      "INFO:btrack.io.hdf:Opening HDF file: /mnt/SYNO/macrohet_syno/PS0000/labels/macrohet_seg_model/(5, 5).h5...\n",
      "[INFO][2024/04/19 06:38:09 pm] Loading segmentation (75, 6048, 6048)\n",
      "INFO:btrack.io.hdf:Loading segmentation (75, 6048, 6048)\n",
      "[INFO][2024/04/19 06:38:09 pm] Closing HDF file: /mnt/SYNO/macrohet_syno/PS0000/labels/macrohet_seg_model/(5, 5).h5\n",
      "INFO:btrack.io.hdf:Closing HDF file: /mnt/SYNO/macrohet_syno/PS0000/labels/macrohet_seg_model/(5, 5).h5\n"
     ]
    },
    {
     "data": {
      "application/vnd.jupyter.widget-view+json": {
       "model_id": "d3fb988cbf8f497eb8fa7675210e2273",
       "version_major": 2,
       "version_minor": 0
      },
      "text/plain": [
       "  0%|          | 0/75 [00:00<?, ?it/s]"
      ]
     },
     "metadata": {},
     "output_type": "display_data"
    },
    {
     "name": "stdout",
     "output_type": "stream",
     "text": [
      "Video 361.5.5.PS0000 saved successfully.\n"
     ]
    },
    {
     "name": "stderr",
     "output_type": "stream",
     "text": [
      "[INFO][2024/04/19 06:52:07 pm] Opening HDF file: /mnt/SYNO/macrohet_syno/PS0000/labels/macrohet_seg_model/(6, 4).h5...\n",
      "INFO:btrack.io.hdf:Opening HDF file: /mnt/SYNO/macrohet_syno/PS0000/labels/macrohet_seg_model/(6, 4).h5...\n",
      "[INFO][2024/04/19 06:52:23 pm] Loading segmentation (75, 6048, 6048)\n",
      "INFO:btrack.io.hdf:Loading segmentation (75, 6048, 6048)\n",
      "[INFO][2024/04/19 06:52:23 pm] Closing HDF file: /mnt/SYNO/macrohet_syno/PS0000/labels/macrohet_seg_model/(6, 4).h5\n",
      "INFO:btrack.io.hdf:Closing HDF file: /mnt/SYNO/macrohet_syno/PS0000/labels/macrohet_seg_model/(6, 4).h5\n"
     ]
    },
    {
     "data": {
      "application/vnd.jupyter.widget-view+json": {
       "model_id": "146a1966492541b586969b5c1be38ad0",
       "version_major": 2,
       "version_minor": 0
      },
      "text/plain": [
       "  0%|          | 0/75 [00:00<?, ?it/s]"
      ]
     },
     "metadata": {},
     "output_type": "display_data"
    },
    {
     "name": "stdout",
     "output_type": "stream",
     "text": [
      "Video 340.6.4.PS0000 saved successfully.\n"
     ]
    },
    {
     "name": "stderr",
     "output_type": "stream",
     "text": [
      "[INFO][2024/04/19 07:04:19 pm] Opening HDF file: /mnt/SYNO/macrohet_syno/ND0002/labels/cpv3/(3, 3).h5...\n",
      "INFO:btrack.io.hdf:Opening HDF file: /mnt/SYNO/macrohet_syno/ND0002/labels/cpv3/(3, 3).h5...\n",
      "[INFO][2024/04/19 07:04:41 pm] Loading segmentation (150, 6048, 6048)\n",
      "INFO:btrack.io.hdf:Loading segmentation (150, 6048, 6048)\n",
      "[INFO][2024/04/19 07:04:41 pm] Closing HDF file: /mnt/SYNO/macrohet_syno/ND0002/labels/cpv3/(3, 3).h5\n",
      "INFO:btrack.io.hdf:Closing HDF file: /mnt/SYNO/macrohet_syno/ND0002/labels/cpv3/(3, 3).h5\n"
     ]
    },
    {
     "data": {
      "application/vnd.jupyter.widget-view+json": {
       "model_id": "f8e94ab4b3504d8f8b63695bc4e2353a",
       "version_major": 2,
       "version_minor": 0
      },
      "text/plain": [
       "  0%|          | 0/109 [00:00<?, ?it/s]"
      ]
     },
     "metadata": {},
     "output_type": "display_data"
    },
    {
     "name": "stdout",
     "output_type": "stream",
     "text": [
      "Video 1419.3.3.ND0002 saved successfully.\n"
     ]
    },
    {
     "name": "stderr",
     "output_type": "stream",
     "text": [
      "[INFO][2024/04/19 07:23:30 pm] Opening HDF file: /mnt/SYNO/macrohet_syno/ND0002/labels/cpv3/(4, 3).h5...\n",
      "INFO:btrack.io.hdf:Opening HDF file: /mnt/SYNO/macrohet_syno/ND0002/labels/cpv3/(4, 3).h5...\n",
      "[INFO][2024/04/19 07:24:19 pm] Loading segmentation (150, 6048, 6048)\n",
      "INFO:btrack.io.hdf:Loading segmentation (150, 6048, 6048)\n",
      "[INFO][2024/04/19 07:24:19 pm] Closing HDF file: /mnt/SYNO/macrohet_syno/ND0002/labels/cpv3/(4, 3).h5\n",
      "INFO:btrack.io.hdf:Closing HDF file: /mnt/SYNO/macrohet_syno/ND0002/labels/cpv3/(4, 3).h5\n"
     ]
    },
    {
     "data": {
      "application/vnd.jupyter.widget-view+json": {
       "model_id": "f7e750ac5f234240bed9ecd9d438e85e",
       "version_major": 2,
       "version_minor": 0
      },
      "text/plain": [
       "  0%|          | 0/150 [00:00<?, ?it/s]"
      ]
     },
     "metadata": {},
     "output_type": "display_data"
    },
    {
     "name": "stdout",
     "output_type": "stream",
     "text": [
      "Video 106.4.3.ND0002 saved successfully.\n"
     ]
    },
    {
     "name": "stderr",
     "output_type": "stream",
     "text": [
      "[INFO][2024/04/19 07:48:19 pm] Opening HDF file: /mnt/SYNO/macrohet_syno/PS0000/labels/macrohet_seg_model/(4, 5).h5...\n",
      "INFO:btrack.io.hdf:Opening HDF file: /mnt/SYNO/macrohet_syno/PS0000/labels/macrohet_seg_model/(4, 5).h5...\n",
      "[INFO][2024/04/19 07:48:47 pm] Loading segmentation (75, 6048, 6048)\n",
      "INFO:btrack.io.hdf:Loading segmentation (75, 6048, 6048)\n",
      "[INFO][2024/04/19 07:48:47 pm] Closing HDF file: /mnt/SYNO/macrohet_syno/PS0000/labels/macrohet_seg_model/(4, 5).h5\n",
      "INFO:btrack.io.hdf:Closing HDF file: /mnt/SYNO/macrohet_syno/PS0000/labels/macrohet_seg_model/(4, 5).h5\n"
     ]
    },
    {
     "data": {
      "application/vnd.jupyter.widget-view+json": {
       "model_id": "46e555383f2d4fc5a05822311883db67",
       "version_major": 2,
       "version_minor": 0
      },
      "text/plain": [
       "  0%|          | 0/75 [00:00<?, ?it/s]"
      ]
     },
     "metadata": {},
     "output_type": "display_data"
    },
    {
     "name": "stdout",
     "output_type": "stream",
     "text": [
      "Video 432.4.5.PS0000 saved successfully.\n"
     ]
    },
    {
     "name": "stderr",
     "output_type": "stream",
     "text": [
      "[INFO][2024/04/19 08:00:19 pm] Opening HDF file: /mnt/SYNO/macrohet_syno/ND0003/labels/cpv3/(4, 4).h5...\n",
      "INFO:btrack.io.hdf:Opening HDF file: /mnt/SYNO/macrohet_syno/ND0003/labels/cpv3/(4, 4).h5...\n",
      "[INFO][2024/04/19 08:00:44 pm] Loading segmentation (154, 6048, 6048)\n",
      "INFO:btrack.io.hdf:Loading segmentation (154, 6048, 6048)\n",
      "[INFO][2024/04/19 08:00:45 pm] Closing HDF file: /mnt/SYNO/macrohet_syno/ND0003/labels/cpv3/(4, 4).h5\n",
      "INFO:btrack.io.hdf:Closing HDF file: /mnt/SYNO/macrohet_syno/ND0003/labels/cpv3/(4, 4).h5\n"
     ]
    },
    {
     "data": {
      "application/vnd.jupyter.widget-view+json": {
       "model_id": "4cb0907aa47044f0a681405acaca6bc9",
       "version_major": 2,
       "version_minor": 0
      },
      "text/plain": [
       "  0%|          | 0/76 [00:00<?, ?it/s]"
      ]
     },
     "metadata": {},
     "output_type": "display_data"
    },
    {
     "name": "stdout",
     "output_type": "stream",
     "text": [
      "Video 232.4.4.ND0003 saved successfully.\n"
     ]
    },
    {
     "name": "stderr",
     "output_type": "stream",
     "text": [
      "[INFO][2024/04/19 08:14:39 pm] Opening HDF file: /mnt/SYNO/macrohet_syno/ND0003/labels/cpv3/(6, 9).h5...\n",
      "INFO:btrack.io.hdf:Opening HDF file: /mnt/SYNO/macrohet_syno/ND0003/labels/cpv3/(6, 9).h5...\n",
      "[INFO][2024/04/19 08:15:31 pm] Loading segmentation (154, 6048, 6048)\n",
      "INFO:btrack.io.hdf:Loading segmentation (154, 6048, 6048)\n",
      "[INFO][2024/04/19 08:15:31 pm] Closing HDF file: /mnt/SYNO/macrohet_syno/ND0003/labels/cpv3/(6, 9).h5\n",
      "INFO:btrack.io.hdf:Closing HDF file: /mnt/SYNO/macrohet_syno/ND0003/labels/cpv3/(6, 9).h5\n"
     ]
    },
    {
     "data": {
      "application/vnd.jupyter.widget-view+json": {
       "model_id": "c6e159df420546a29bbf897ac1d15414",
       "version_major": 2,
       "version_minor": 0
      },
      "text/plain": [
       "  0%|          | 0/125 [00:00<?, ?it/s]"
      ]
     },
     "metadata": {},
     "output_type": "display_data"
    },
    {
     "name": "stdout",
     "output_type": "stream",
     "text": [
      "Video 1345.6.9.ND0003 saved successfully.\n"
     ]
    },
    {
     "name": "stderr",
     "output_type": "stream",
     "text": [
      "[INFO][2024/04/19 08:34:25 pm] Opening HDF file: /mnt/SYNO/macrohet_syno/PS0000/labels/macrohet_seg_model/(4, 9).h5...\n",
      "INFO:btrack.io.hdf:Opening HDF file: /mnt/SYNO/macrohet_syno/PS0000/labels/macrohet_seg_model/(4, 9).h5...\n",
      "[INFO][2024/04/19 08:34:39 pm] Loading segmentation (75, 6048, 6048)\n",
      "INFO:btrack.io.hdf:Loading segmentation (75, 6048, 6048)\n",
      "[INFO][2024/04/19 08:34:39 pm] Closing HDF file: /mnt/SYNO/macrohet_syno/PS0000/labels/macrohet_seg_model/(4, 9).h5\n",
      "INFO:btrack.io.hdf:Closing HDF file: /mnt/SYNO/macrohet_syno/PS0000/labels/macrohet_seg_model/(4, 9).h5\n"
     ]
    },
    {
     "data": {
      "application/vnd.jupyter.widget-view+json": {
       "model_id": "cbadd4575b6c4914998264561b2a5bd8",
       "version_major": 2,
       "version_minor": 0
      },
      "text/plain": [
       "  0%|          | 0/75 [00:00<?, ?it/s]"
      ]
     },
     "metadata": {},
     "output_type": "display_data"
    },
    {
     "name": "stdout",
     "output_type": "stream",
     "text": [
      "Video 103.4.9.PS0000 saved successfully.\n"
     ]
    },
    {
     "name": "stderr",
     "output_type": "stream",
     "text": [
      "[INFO][2024/04/19 08:48:26 pm] Opening HDF file: /mnt/SYNO/macrohet_syno/ND0003/labels/cpv3/(5, 3).h5...\n",
      "INFO:btrack.io.hdf:Opening HDF file: /mnt/SYNO/macrohet_syno/ND0003/labels/cpv3/(5, 3).h5...\n",
      "[INFO][2024/04/19 08:49:31 pm] Loading segmentation (154, 6048, 6048)\n",
      "INFO:btrack.io.hdf:Loading segmentation (154, 6048, 6048)\n",
      "[INFO][2024/04/19 08:49:32 pm] Closing HDF file: /mnt/SYNO/macrohet_syno/ND0003/labels/cpv3/(5, 3).h5\n",
      "INFO:btrack.io.hdf:Closing HDF file: /mnt/SYNO/macrohet_syno/ND0003/labels/cpv3/(5, 3).h5\n"
     ]
    },
    {
     "data": {
      "application/vnd.jupyter.widget-view+json": {
       "model_id": "70c1e2eefcfa4851ae6f27fca78c2a23",
       "version_major": 2,
       "version_minor": 0
      },
      "text/plain": [
       "  0%|          | 0/81 [00:00<?, ?it/s]"
      ]
     },
     "metadata": {},
     "output_type": "display_data"
    },
    {
     "name": "stdout",
     "output_type": "stream",
     "text": [
      "Video 1392.5.3.ND0003 saved successfully.\n"
     ]
    },
    {
     "name": "stderr",
     "output_type": "stream",
     "text": [
      "[INFO][2024/04/19 08:56:06 pm] Opening HDF file: /mnt/SYNO/macrohet_syno/ND0003/labels/cpv3/(3, 6).h5...\n",
      "INFO:btrack.io.hdf:Opening HDF file: /mnt/SYNO/macrohet_syno/ND0003/labels/cpv3/(3, 6).h5...\n",
      "[INFO][2024/04/19 08:56:35 pm] Loading segmentation (154, 6048, 6048)\n",
      "INFO:btrack.io.hdf:Loading segmentation (154, 6048, 6048)\n",
      "[INFO][2024/04/19 08:56:36 pm] Closing HDF file: /mnt/SYNO/macrohet_syno/ND0003/labels/cpv3/(3, 6).h5\n",
      "INFO:btrack.io.hdf:Closing HDF file: /mnt/SYNO/macrohet_syno/ND0003/labels/cpv3/(3, 6).h5\n"
     ]
    },
    {
     "data": {
      "application/vnd.jupyter.widget-view+json": {
       "model_id": "158fbf0d944b48feac18f367a1a297f0",
       "version_major": 2,
       "version_minor": 0
      },
      "text/plain": [
       "  0%|          | 0/115 [00:00<?, ?it/s]"
      ]
     },
     "metadata": {},
     "output_type": "display_data"
    },
    {
     "name": "stdout",
     "output_type": "stream",
     "text": [
      "Video 2089.3.6.ND0003 saved successfully.\n"
     ]
    },
    {
     "name": "stderr",
     "output_type": "stream",
     "text": [
      "[INFO][2024/04/19 09:16:03 pm] Opening HDF file: /mnt/SYNO/macrohet_syno/PS0000/labels/macrohet_seg_model/(4, 4).h5...\n",
      "INFO:btrack.io.hdf:Opening HDF file: /mnt/SYNO/macrohet_syno/PS0000/labels/macrohet_seg_model/(4, 4).h5...\n",
      "[INFO][2024/04/19 09:16:18 pm] Loading segmentation (75, 6048, 6048)\n",
      "INFO:btrack.io.hdf:Loading segmentation (75, 6048, 6048)\n",
      "[INFO][2024/04/19 09:16:18 pm] Closing HDF file: /mnt/SYNO/macrohet_syno/PS0000/labels/macrohet_seg_model/(4, 4).h5\n",
      "INFO:btrack.io.hdf:Closing HDF file: /mnt/SYNO/macrohet_syno/PS0000/labels/macrohet_seg_model/(4, 4).h5\n"
     ]
    },
    {
     "data": {
      "application/vnd.jupyter.widget-view+json": {
       "model_id": "acb437ba021d4b53a271a556ef39fe64",
       "version_major": 2,
       "version_minor": 0
      },
      "text/plain": [
       "  0%|          | 0/75 [00:00<?, ?it/s]"
      ]
     },
     "metadata": {},
     "output_type": "display_data"
    },
    {
     "name": "stdout",
     "output_type": "stream",
     "text": [
      "Video 58.4.4.PS0000 saved successfully.\n"
     ]
    },
    {
     "name": "stderr",
     "output_type": "stream",
     "text": [
      "[INFO][2024/04/19 09:29:22 pm] Opening HDF file: /mnt/SYNO/macrohet_syno/PS0000/labels/macrohet_seg_model/(5, 5).h5...\n",
      "INFO:btrack.io.hdf:Opening HDF file: /mnt/SYNO/macrohet_syno/PS0000/labels/macrohet_seg_model/(5, 5).h5...\n",
      "[INFO][2024/04/19 09:29:36 pm] Loading segmentation (75, 6048, 6048)\n",
      "INFO:btrack.io.hdf:Loading segmentation (75, 6048, 6048)\n",
      "[INFO][2024/04/19 09:29:36 pm] Closing HDF file: /mnt/SYNO/macrohet_syno/PS0000/labels/macrohet_seg_model/(5, 5).h5\n",
      "INFO:btrack.io.hdf:Closing HDF file: /mnt/SYNO/macrohet_syno/PS0000/labels/macrohet_seg_model/(5, 5).h5\n"
     ]
    },
    {
     "data": {
      "application/vnd.jupyter.widget-view+json": {
       "model_id": "6e517973f56347e1994bed0a699ca56c",
       "version_major": 2,
       "version_minor": 0
      },
      "text/plain": [
       "  0%|          | 0/75 [00:00<?, ?it/s]"
      ]
     },
     "metadata": {},
     "output_type": "display_data"
    },
    {
     "name": "stdout",
     "output_type": "stream",
     "text": [
      "Video 346.5.5.PS0000 saved successfully.\n"
     ]
    },
    {
     "name": "stderr",
     "output_type": "stream",
     "text": [
      "[INFO][2024/04/19 09:42:28 pm] Opening HDF file: /mnt/SYNO/macrohet_syno/ND0002/labels/cpv3/(3, 3).h5...\n",
      "INFO:btrack.io.hdf:Opening HDF file: /mnt/SYNO/macrohet_syno/ND0002/labels/cpv3/(3, 3).h5...\n",
      "[INFO][2024/04/19 09:42:53 pm] Loading segmentation (150, 6048, 6048)\n",
      "INFO:btrack.io.hdf:Loading segmentation (150, 6048, 6048)\n",
      "[INFO][2024/04/19 09:42:53 pm] Closing HDF file: /mnt/SYNO/macrohet_syno/ND0002/labels/cpv3/(3, 3).h5\n",
      "INFO:btrack.io.hdf:Closing HDF file: /mnt/SYNO/macrohet_syno/ND0002/labels/cpv3/(3, 3).h5\n"
     ]
    },
    {
     "data": {
      "application/vnd.jupyter.widget-view+json": {
       "model_id": "23dfaeb2123d438682d846569b2781ae",
       "version_major": 2,
       "version_minor": 0
      },
      "text/plain": [
       "  0%|          | 0/74 [00:00<?, ?it/s]"
      ]
     },
     "metadata": {},
     "output_type": "display_data"
    },
    {
     "name": "stdout",
     "output_type": "stream",
     "text": [
      "Video 2231.3.3.ND0002 saved successfully.\n"
     ]
    },
    {
     "name": "stderr",
     "output_type": "stream",
     "text": [
      "[INFO][2024/04/19 09:55:23 pm] Opening HDF file: /mnt/SYNO/macrohet_syno/PS0000/labels/macrohet_seg_model/(5, 5).h5...\n",
      "INFO:btrack.io.hdf:Opening HDF file: /mnt/SYNO/macrohet_syno/PS0000/labels/macrohet_seg_model/(5, 5).h5...\n",
      "[INFO][2024/04/19 09:55:37 pm] Loading segmentation (75, 6048, 6048)\n",
      "INFO:btrack.io.hdf:Loading segmentation (75, 6048, 6048)\n",
      "[INFO][2024/04/19 09:55:37 pm] Closing HDF file: /mnt/SYNO/macrohet_syno/PS0000/labels/macrohet_seg_model/(5, 5).h5\n",
      "INFO:btrack.io.hdf:Closing HDF file: /mnt/SYNO/macrohet_syno/PS0000/labels/macrohet_seg_model/(5, 5).h5\n"
     ]
    },
    {
     "data": {
      "application/vnd.jupyter.widget-view+json": {
       "model_id": "48bea2ac740f40cba5d6dc5f758c9dbe",
       "version_major": 2,
       "version_minor": 0
      },
      "text/plain": [
       "  0%|          | 0/75 [00:00<?, ?it/s]"
      ]
     },
     "metadata": {},
     "output_type": "display_data"
    },
    {
     "name": "stdout",
     "output_type": "stream",
     "text": [
      "Video 334.5.5.PS0000 saved successfully.\n"
     ]
    },
    {
     "name": "stderr",
     "output_type": "stream",
     "text": [
      "[INFO][2024/04/19 10:06:55 pm] Opening HDF file: /mnt/SYNO/macrohet_syno/ND0003/labels/cpv3/(3, 10).h5...\n",
      "INFO:btrack.io.hdf:Opening HDF file: /mnt/SYNO/macrohet_syno/ND0003/labels/cpv3/(3, 10).h5...\n",
      "[INFO][2024/04/19 10:07:22 pm] Loading segmentation (154, 6048, 6048)\n",
      "INFO:btrack.io.hdf:Loading segmentation (154, 6048, 6048)\n",
      "[INFO][2024/04/19 10:07:22 pm] Closing HDF file: /mnt/SYNO/macrohet_syno/ND0003/labels/cpv3/(3, 10).h5\n",
      "INFO:btrack.io.hdf:Closing HDF file: /mnt/SYNO/macrohet_syno/ND0003/labels/cpv3/(3, 10).h5\n"
     ]
    },
    {
     "data": {
      "application/vnd.jupyter.widget-view+json": {
       "model_id": "62ac626286c547aaa13ff525d7821a5b",
       "version_major": 2,
       "version_minor": 0
      },
      "text/plain": [
       "  0%|          | 0/98 [00:00<?, ?it/s]"
      ]
     },
     "metadata": {},
     "output_type": "display_data"
    },
    {
     "name": "stdout",
     "output_type": "stream",
     "text": [
      "Video 2501.3.10.ND0003 saved successfully.\n"
     ]
    },
    {
     "name": "stderr",
     "output_type": "stream",
     "text": [
      "[INFO][2024/04/19 10:23:25 pm] Opening HDF file: /mnt/SYNO/macrohet_syno/PS0000/labels/macrohet_seg_model/(4, 5).h5...\n",
      "INFO:btrack.io.hdf:Opening HDF file: /mnt/SYNO/macrohet_syno/PS0000/labels/macrohet_seg_model/(4, 5).h5...\n",
      "[INFO][2024/04/19 10:23:48 pm] Loading segmentation (75, 6048, 6048)\n",
      "INFO:btrack.io.hdf:Loading segmentation (75, 6048, 6048)\n",
      "[INFO][2024/04/19 10:23:48 pm] Closing HDF file: /mnt/SYNO/macrohet_syno/PS0000/labels/macrohet_seg_model/(4, 5).h5\n",
      "INFO:btrack.io.hdf:Closing HDF file: /mnt/SYNO/macrohet_syno/PS0000/labels/macrohet_seg_model/(4, 5).h5\n"
     ]
    },
    {
     "data": {
      "application/vnd.jupyter.widget-view+json": {
       "model_id": "a3e65bbf5e844cf58aa051edc92180aa",
       "version_major": 2,
       "version_minor": 0
      },
      "text/plain": [
       "  0%|          | 0/75 [00:00<?, ?it/s]"
      ]
     },
     "metadata": {},
     "output_type": "display_data"
    },
    {
     "name": "stdout",
     "output_type": "stream",
     "text": [
      "Video 160.4.5.PS0000 saved successfully.\n"
     ]
    },
    {
     "data": {
      "application/vnd.jupyter.widget-view+json": {
       "model_id": "b8dabc673dfd42349d0755e9bcac2bb8",
       "version_major": 2,
       "version_minor": 0
      },
      "text/plain": [
       "  0%|          | 0/75 [00:00<?, ?it/s]"
      ]
     },
     "metadata": {},
     "output_type": "display_data"
    },
    {
     "name": "stdout",
     "output_type": "stream",
     "text": [
      "Video 232.4.5.PS0000 saved successfully.\n"
     ]
    },
    {
     "name": "stderr",
     "output_type": "stream",
     "text": [
      "[INFO][2024/04/19 10:42:56 pm] Opening HDF file: /mnt/SYNO/macrohet_syno/PS0000/labels/macrohet_seg_model/(6, 5).h5...\n",
      "INFO:btrack.io.hdf:Opening HDF file: /mnt/SYNO/macrohet_syno/PS0000/labels/macrohet_seg_model/(6, 5).h5...\n",
      "[INFO][2024/04/19 10:43:09 pm] Loading segmentation (75, 6048, 6048)\n",
      "INFO:btrack.io.hdf:Loading segmentation (75, 6048, 6048)\n",
      "[INFO][2024/04/19 10:43:09 pm] Closing HDF file: /mnt/SYNO/macrohet_syno/PS0000/labels/macrohet_seg_model/(6, 5).h5\n",
      "INFO:btrack.io.hdf:Closing HDF file: /mnt/SYNO/macrohet_syno/PS0000/labels/macrohet_seg_model/(6, 5).h5\n"
     ]
    },
    {
     "data": {
      "application/vnd.jupyter.widget-view+json": {
       "model_id": "6488827c1995439296bd875b5e1ee4bc",
       "version_major": 2,
       "version_minor": 0
      },
      "text/plain": [
       "  0%|          | 0/75 [00:00<?, ?it/s]"
      ]
     },
     "metadata": {},
     "output_type": "display_data"
    },
    {
     "name": "stdout",
     "output_type": "stream",
     "text": [
      "Video 488.6.5.PS0000 saved successfully.\n"
     ]
    },
    {
     "name": "stderr",
     "output_type": "stream",
     "text": [
      "[INFO][2024/04/19 10:56:09 pm] Opening HDF file: /mnt/SYNO/macrohet_syno/ND0003/labels/cpv3/(4, 3).h5...\n",
      "INFO:btrack.io.hdf:Opening HDF file: /mnt/SYNO/macrohet_syno/ND0003/labels/cpv3/(4, 3).h5...\n",
      "[INFO][2024/04/19 10:56:34 pm] Loading segmentation (154, 6048, 6048)\n",
      "INFO:btrack.io.hdf:Loading segmentation (154, 6048, 6048)\n",
      "[INFO][2024/04/19 10:56:34 pm] Closing HDF file: /mnt/SYNO/macrohet_syno/ND0003/labels/cpv3/(4, 3).h5\n",
      "INFO:btrack.io.hdf:Closing HDF file: /mnt/SYNO/macrohet_syno/ND0003/labels/cpv3/(4, 3).h5\n"
     ]
    },
    {
     "data": {
      "application/vnd.jupyter.widget-view+json": {
       "model_id": "70a76e99376648048885137376ca45f6",
       "version_major": 2,
       "version_minor": 0
      },
      "text/plain": [
       "  0%|          | 0/83 [00:00<?, ?it/s]"
      ]
     },
     "metadata": {},
     "output_type": "display_data"
    },
    {
     "name": "stdout",
     "output_type": "stream",
     "text": [
      "Video 237.4.3.ND0003 saved successfully.\n"
     ]
    },
    {
     "name": "stderr",
     "output_type": "stream",
     "text": [
      "[INFO][2024/04/19 11:07:42 pm] Opening HDF file: /mnt/SYNO/macrohet_syno/PS0000/labels/macrohet_seg_model/(6, 5).h5...\n",
      "INFO:btrack.io.hdf:Opening HDF file: /mnt/SYNO/macrohet_syno/PS0000/labels/macrohet_seg_model/(6, 5).h5...\n",
      "[INFO][2024/04/19 11:07:55 pm] Loading segmentation (75, 6048, 6048)\n",
      "INFO:btrack.io.hdf:Loading segmentation (75, 6048, 6048)\n",
      "[INFO][2024/04/19 11:07:55 pm] Closing HDF file: /mnt/SYNO/macrohet_syno/PS0000/labels/macrohet_seg_model/(6, 5).h5\n",
      "INFO:btrack.io.hdf:Closing HDF file: /mnt/SYNO/macrohet_syno/PS0000/labels/macrohet_seg_model/(6, 5).h5\n"
     ]
    },
    {
     "data": {
      "application/vnd.jupyter.widget-view+json": {
       "model_id": "43eb4775781343b09fac046a84919ff7",
       "version_major": 2,
       "version_minor": 0
      },
      "text/plain": [
       "  0%|          | 0/75 [00:00<?, ?it/s]"
      ]
     },
     "metadata": {},
     "output_type": "display_data"
    },
    {
     "name": "stdout",
     "output_type": "stream",
     "text": [
      "Video 689.6.5.PS0000 saved successfully.\n"
     ]
    },
    {
     "name": "stderr",
     "output_type": "stream",
     "text": [
      "[INFO][2024/04/19 11:19:14 pm] Opening HDF file: /mnt/SYNO/macrohet_syno/PS0000/labels/macrohet_seg_model/(4, 6).h5...\n",
      "INFO:btrack.io.hdf:Opening HDF file: /mnt/SYNO/macrohet_syno/PS0000/labels/macrohet_seg_model/(4, 6).h5...\n",
      "[INFO][2024/04/19 11:19:28 pm] Loading segmentation (75, 6048, 6048)\n",
      "INFO:btrack.io.hdf:Loading segmentation (75, 6048, 6048)\n",
      "[INFO][2024/04/19 11:19:28 pm] Closing HDF file: /mnt/SYNO/macrohet_syno/PS0000/labels/macrohet_seg_model/(4, 6).h5\n",
      "INFO:btrack.io.hdf:Closing HDF file: /mnt/SYNO/macrohet_syno/PS0000/labels/macrohet_seg_model/(4, 6).h5\n"
     ]
    },
    {
     "data": {
      "application/vnd.jupyter.widget-view+json": {
       "model_id": "bdd1fe58bbb6494291fc5cb36758bdd7",
       "version_major": 2,
       "version_minor": 0
      },
      "text/plain": [
       "  0%|          | 0/75 [00:00<?, ?it/s]"
      ]
     },
     "metadata": {},
     "output_type": "display_data"
    },
    {
     "name": "stdout",
     "output_type": "stream",
     "text": [
      "Video 19.4.6.PS0000 saved successfully.\n"
     ]
    },
    {
     "name": "stderr",
     "output_type": "stream",
     "text": [
      "[INFO][2024/04/19 11:33:12 pm] Opening HDF file: /mnt/SYNO/macrohet_syno/ND0002/labels/cpv3/(3, 7).h5...\n",
      "INFO:btrack.io.hdf:Opening HDF file: /mnt/SYNO/macrohet_syno/ND0002/labels/cpv3/(3, 7).h5...\n",
      "[INFO][2024/04/19 11:33:44 pm] Loading segmentation (150, 6048, 6048)\n",
      "INFO:btrack.io.hdf:Loading segmentation (150, 6048, 6048)\n",
      "[INFO][2024/04/19 11:33:44 pm] Closing HDF file: /mnt/SYNO/macrohet_syno/ND0002/labels/cpv3/(3, 7).h5\n",
      "INFO:btrack.io.hdf:Closing HDF file: /mnt/SYNO/macrohet_syno/ND0002/labels/cpv3/(3, 7).h5\n"
     ]
    },
    {
     "data": {
      "application/vnd.jupyter.widget-view+json": {
       "model_id": "9ca1d706f48b42328af42d65e12a0cd0",
       "version_major": 2,
       "version_minor": 0
      },
      "text/plain": [
       "  0%|          | 0/101 [00:00<?, ?it/s]"
      ]
     },
     "metadata": {},
     "output_type": "display_data"
    },
    {
     "name": "stdout",
     "output_type": "stream",
     "text": [
      "Video 152.3.7.ND0002 saved successfully.\n"
     ]
    },
    {
     "name": "stderr",
     "output_type": "stream",
     "text": [
      "[INFO][2024/04/19 11:49:28 pm] Opening HDF file: /mnt/SYNO/macrohet_syno/ND0003/labels/cpv3/(3, 8).h5...\n",
      "INFO:btrack.io.hdf:Opening HDF file: /mnt/SYNO/macrohet_syno/ND0003/labels/cpv3/(3, 8).h5...\n",
      "[INFO][2024/04/19 11:49:53 pm] Loading segmentation (154, 6048, 6048)\n",
      "INFO:btrack.io.hdf:Loading segmentation (154, 6048, 6048)\n",
      "[INFO][2024/04/19 11:49:53 pm] Closing HDF file: /mnt/SYNO/macrohet_syno/ND0003/labels/cpv3/(3, 8).h5\n",
      "INFO:btrack.io.hdf:Closing HDF file: /mnt/SYNO/macrohet_syno/ND0003/labels/cpv3/(3, 8).h5\n"
     ]
    },
    {
     "data": {
      "application/vnd.jupyter.widget-view+json": {
       "model_id": "15a06698413f4fb7b16c8711b30ae3d9",
       "version_major": 2,
       "version_minor": 0
      },
      "text/plain": [
       "  0%|          | 0/154 [00:00<?, ?it/s]"
      ]
     },
     "metadata": {},
     "output_type": "display_data"
    },
    {
     "name": "stdout",
     "output_type": "stream",
     "text": [
      "Video 268.3.8.ND0003 saved successfully.\n"
     ]
    },
    {
     "name": "stderr",
     "output_type": "stream",
     "text": [
      "[INFO][2024/04/20 12:13:44 am] Opening HDF file: /mnt/SYNO/macrohet_syno/PS0000/labels/macrohet_seg_model/(4, 8).h5...\n",
      "INFO:btrack.io.hdf:Opening HDF file: /mnt/SYNO/macrohet_syno/PS0000/labels/macrohet_seg_model/(4, 8).h5...\n",
      "[INFO][2024/04/20 12:13:57 am] Loading segmentation (75, 6048, 6048)\n",
      "INFO:btrack.io.hdf:Loading segmentation (75, 6048, 6048)\n",
      "[INFO][2024/04/20 12:13:57 am] Closing HDF file: /mnt/SYNO/macrohet_syno/PS0000/labels/macrohet_seg_model/(4, 8).h5\n",
      "INFO:btrack.io.hdf:Closing HDF file: /mnt/SYNO/macrohet_syno/PS0000/labels/macrohet_seg_model/(4, 8).h5\n"
     ]
    },
    {
     "data": {
      "application/vnd.jupyter.widget-view+json": {
       "model_id": "57caf19ba38f42f3a4e4bc4a26fd1f3c",
       "version_major": 2,
       "version_minor": 0
      },
      "text/plain": [
       "  0%|          | 0/75 [00:00<?, ?it/s]"
      ]
     },
     "metadata": {},
     "output_type": "display_data"
    },
    {
     "name": "stdout",
     "output_type": "stream",
     "text": [
      "Video 114.4.8.PS0000 saved successfully.\n"
     ]
    },
    {
     "name": "stderr",
     "output_type": "stream",
     "text": [
      "[INFO][2024/04/20 12:27:44 am] Opening HDF file: /mnt/SYNO/macrohet_syno/PS0000/labels/macrohet_seg_model/(4, 6).h5...\n",
      "INFO:btrack.io.hdf:Opening HDF file: /mnt/SYNO/macrohet_syno/PS0000/labels/macrohet_seg_model/(4, 6).h5...\n",
      "[INFO][2024/04/20 12:27:57 am] Loading segmentation (75, 6048, 6048)\n",
      "INFO:btrack.io.hdf:Loading segmentation (75, 6048, 6048)\n",
      "[INFO][2024/04/20 12:27:57 am] Closing HDF file: /mnt/SYNO/macrohet_syno/PS0000/labels/macrohet_seg_model/(4, 6).h5\n",
      "INFO:btrack.io.hdf:Closing HDF file: /mnt/SYNO/macrohet_syno/PS0000/labels/macrohet_seg_model/(4, 6).h5\n"
     ]
    },
    {
     "data": {
      "application/vnd.jupyter.widget-view+json": {
       "model_id": "4c8048c474b9490387b17c5c8f14baef",
       "version_major": 2,
       "version_minor": 0
      },
      "text/plain": [
       "  0%|          | 0/74 [00:00<?, ?it/s]"
      ]
     },
     "metadata": {},
     "output_type": "display_data"
    },
    {
     "name": "stdout",
     "output_type": "stream",
     "text": [
      "Video 626.4.6.PS0000 saved successfully.\n"
     ]
    },
    {
     "name": "stderr",
     "output_type": "stream",
     "text": [
      "[INFO][2024/04/20 12:39:30 am] Opening HDF file: /mnt/SYNO/macrohet_syno/ND0003/labels/cpv3/(3, 3).h5...\n",
      "INFO:btrack.io.hdf:Opening HDF file: /mnt/SYNO/macrohet_syno/ND0003/labels/cpv3/(3, 3).h5...\n",
      "[INFO][2024/04/20 12:39:54 am] Loading segmentation (154, 6048, 6048)\n",
      "INFO:btrack.io.hdf:Loading segmentation (154, 6048, 6048)\n",
      "[INFO][2024/04/20 12:39:54 am] Closing HDF file: /mnt/SYNO/macrohet_syno/ND0003/labels/cpv3/(3, 3).h5\n",
      "INFO:btrack.io.hdf:Closing HDF file: /mnt/SYNO/macrohet_syno/ND0003/labels/cpv3/(3, 3).h5\n"
     ]
    },
    {
     "data": {
      "application/vnd.jupyter.widget-view+json": {
       "model_id": "2d3774da219c4b70a5f90682b8301b6b",
       "version_major": 2,
       "version_minor": 0
      },
      "text/plain": [
       "  0%|          | 0/90 [00:00<?, ?it/s]"
      ]
     },
     "metadata": {},
     "output_type": "display_data"
    },
    {
     "name": "stdout",
     "output_type": "stream",
     "text": [
      "Video 2953.3.3.ND0003 saved successfully.\n"
     ]
    },
    {
     "name": "stderr",
     "output_type": "stream",
     "text": [
      "[INFO][2024/04/20 12:55:48 am] Opening HDF file: /mnt/SYNO/macrohet_syno/PS0000/labels/macrohet_seg_model/(5, 4).h5...\n",
      "INFO:btrack.io.hdf:Opening HDF file: /mnt/SYNO/macrohet_syno/PS0000/labels/macrohet_seg_model/(5, 4).h5...\n",
      "[INFO][2024/04/20 12:56:13 am] Loading segmentation (75, 6048, 6048)\n",
      "INFO:btrack.io.hdf:Loading segmentation (75, 6048, 6048)\n",
      "[INFO][2024/04/20 12:56:13 am] Closing HDF file: /mnt/SYNO/macrohet_syno/PS0000/labels/macrohet_seg_model/(5, 4).h5\n",
      "INFO:btrack.io.hdf:Closing HDF file: /mnt/SYNO/macrohet_syno/PS0000/labels/macrohet_seg_model/(5, 4).h5\n"
     ]
    },
    {
     "data": {
      "application/vnd.jupyter.widget-view+json": {
       "model_id": "b97a9440fa224432a4aa79857f877a70",
       "version_major": 2,
       "version_minor": 0
      },
      "text/plain": [
       "  0%|          | 0/75 [00:00<?, ?it/s]"
      ]
     },
     "metadata": {},
     "output_type": "display_data"
    },
    {
     "name": "stdout",
     "output_type": "stream",
     "text": [
      "Video 384.5.4.PS0000 saved successfully.\n"
     ]
    },
    {
     "name": "stderr",
     "output_type": "stream",
     "text": [
      "[INFO][2024/04/20 01:07:48 am] Opening HDF file: /mnt/SYNO/macrohet_syno/PS0000/labels/macrohet_seg_model/(6, 7).h5...\n",
      "INFO:btrack.io.hdf:Opening HDF file: /mnt/SYNO/macrohet_syno/PS0000/labels/macrohet_seg_model/(6, 7).h5...\n",
      "[INFO][2024/04/20 01:08:01 am] Loading segmentation (75, 6048, 6048)\n",
      "INFO:btrack.io.hdf:Loading segmentation (75, 6048, 6048)\n",
      "[INFO][2024/04/20 01:08:01 am] Closing HDF file: /mnt/SYNO/macrohet_syno/PS0000/labels/macrohet_seg_model/(6, 7).h5\n",
      "INFO:btrack.io.hdf:Closing HDF file: /mnt/SYNO/macrohet_syno/PS0000/labels/macrohet_seg_model/(6, 7).h5\n"
     ]
    },
    {
     "data": {
      "application/vnd.jupyter.widget-view+json": {
       "model_id": "343df48150ea4a3d8421a5f139320481",
       "version_major": 2,
       "version_minor": 0
      },
      "text/plain": [
       "  0%|          | 0/75 [00:00<?, ?it/s]"
      ]
     },
     "metadata": {},
     "output_type": "display_data"
    },
    {
     "name": "stdout",
     "output_type": "stream",
     "text": [
      "Video 145.6.7.PS0000 saved successfully.\n"
     ]
    },
    {
     "name": "stderr",
     "output_type": "stream",
     "text": [
      "[INFO][2024/04/20 01:21:08 am] Opening HDF file: /mnt/SYNO/macrohet_syno/PS0000/labels/macrohet_seg_model/(3, 5).h5...\n",
      "INFO:btrack.io.hdf:Opening HDF file: /mnt/SYNO/macrohet_syno/PS0000/labels/macrohet_seg_model/(3, 5).h5...\n",
      "[INFO][2024/04/20 01:21:23 am] Loading segmentation (75, 6048, 6048)\n",
      "INFO:btrack.io.hdf:Loading segmentation (75, 6048, 6048)\n",
      "[INFO][2024/04/20 01:21:23 am] Closing HDF file: /mnt/SYNO/macrohet_syno/PS0000/labels/macrohet_seg_model/(3, 5).h5\n",
      "INFO:btrack.io.hdf:Closing HDF file: /mnt/SYNO/macrohet_syno/PS0000/labels/macrohet_seg_model/(3, 5).h5\n"
     ]
    },
    {
     "data": {
      "application/vnd.jupyter.widget-view+json": {
       "model_id": "a5d7a27b6b574cf6968d2b7f358c4983",
       "version_major": 2,
       "version_minor": 0
      },
      "text/plain": [
       "  0%|          | 0/75 [00:00<?, ?it/s]"
      ]
     },
     "metadata": {},
     "output_type": "display_data"
    },
    {
     "name": "stdout",
     "output_type": "stream",
     "text": [
      "Video 337.3.5.PS0000 saved successfully.\n"
     ]
    },
    {
     "name": "stderr",
     "output_type": "stream",
     "text": [
      "[INFO][2024/04/20 01:33:29 am] Opening HDF file: /mnt/SYNO/macrohet_syno/ND0003/labels/cpv3/(4, 7).h5...\n",
      "INFO:btrack.io.hdf:Opening HDF file: /mnt/SYNO/macrohet_syno/ND0003/labels/cpv3/(4, 7).h5...\n",
      "[INFO][2024/04/20 01:33:53 am] Loading segmentation (154, 6048, 6048)\n",
      "INFO:btrack.io.hdf:Loading segmentation (154, 6048, 6048)\n",
      "[INFO][2024/04/20 01:33:53 am] Closing HDF file: /mnt/SYNO/macrohet_syno/ND0003/labels/cpv3/(4, 7).h5\n",
      "INFO:btrack.io.hdf:Closing HDF file: /mnt/SYNO/macrohet_syno/ND0003/labels/cpv3/(4, 7).h5\n"
     ]
    },
    {
     "data": {
      "application/vnd.jupyter.widget-view+json": {
       "model_id": "0d69310e0e184604bccba56a990605e8",
       "version_major": 2,
       "version_minor": 0
      },
      "text/plain": [
       "  0%|          | 0/100 [00:00<?, ?it/s]"
      ]
     },
     "metadata": {},
     "output_type": "display_data"
    },
    {
     "name": "stdout",
     "output_type": "stream",
     "text": [
      "Video 790.4.7.ND0003 saved successfully.\n",
      "Checking for new files\n"
     ]
    },
    {
     "name": "stderr",
     "output_type": "stream",
     "text": [
      "[INFO][2024/04/20 01:46:17 am] Opening HDF file: /mnt/SYNO/macrohet_syno/PS0000/labels/macrohet_seg_model/(4, 5).h5...\n",
      "INFO:btrack.io.hdf:Opening HDF file: /mnt/SYNO/macrohet_syno/PS0000/labels/macrohet_seg_model/(4, 5).h5...\n",
      "[INFO][2024/04/20 01:46:30 am] Loading segmentation (75, 6048, 6048)\n",
      "INFO:btrack.io.hdf:Loading segmentation (75, 6048, 6048)\n",
      "[INFO][2024/04/20 01:46:30 am] Closing HDF file: /mnt/SYNO/macrohet_syno/PS0000/labels/macrohet_seg_model/(4, 5).h5\n",
      "INFO:btrack.io.hdf:Closing HDF file: /mnt/SYNO/macrohet_syno/PS0000/labels/macrohet_seg_model/(4, 5).h5\n"
     ]
    },
    {
     "data": {
      "application/vnd.jupyter.widget-view+json": {
       "model_id": "89e7b94613d848c28bfca6db39601caa",
       "version_major": 2,
       "version_minor": 0
      },
      "text/plain": [
       "  0%|          | 0/75 [00:00<?, ?it/s]"
      ]
     },
     "metadata": {},
     "output_type": "display_data"
    },
    {
     "name": "stdout",
     "output_type": "stream",
     "text": [
      "Video 576.4.5.PS0000 saved successfully.\n"
     ]
    },
    {
     "name": "stderr",
     "output_type": "stream",
     "text": [
      "[INFO][2024/04/20 02:00:00 am] Opening HDF file: /mnt/SYNO/macrohet_syno/PS0000/labels/macrohet_seg_model/(3, 5).h5...\n",
      "INFO:btrack.io.hdf:Opening HDF file: /mnt/SYNO/macrohet_syno/PS0000/labels/macrohet_seg_model/(3, 5).h5...\n",
      "[INFO][2024/04/20 02:00:14 am] Loading segmentation (75, 6048, 6048)\n",
      "INFO:btrack.io.hdf:Loading segmentation (75, 6048, 6048)\n",
      "[INFO][2024/04/20 02:00:14 am] Closing HDF file: /mnt/SYNO/macrohet_syno/PS0000/labels/macrohet_seg_model/(3, 5).h5\n",
      "INFO:btrack.io.hdf:Closing HDF file: /mnt/SYNO/macrohet_syno/PS0000/labels/macrohet_seg_model/(3, 5).h5\n"
     ]
    },
    {
     "data": {
      "application/vnd.jupyter.widget-view+json": {
       "model_id": "81fee7d8302145b7abb123e7bdec71b0",
       "version_major": 2,
       "version_minor": 0
      },
      "text/plain": [
       "  0%|          | 0/75 [00:00<?, ?it/s]"
      ]
     },
     "metadata": {},
     "output_type": "display_data"
    },
    {
     "name": "stdout",
     "output_type": "stream",
     "text": [
      "Video 421.3.5.PS0000 saved successfully.\n"
     ]
    },
    {
     "name": "stderr",
     "output_type": "stream",
     "text": [
      "[INFO][2024/04/20 02:12:51 am] Opening HDF file: /mnt/SYNO/macrohet_syno/PS0000/labels/macrohet_seg_model/(4, 8).h5...\n",
      "INFO:btrack.io.hdf:Opening HDF file: /mnt/SYNO/macrohet_syno/PS0000/labels/macrohet_seg_model/(4, 8).h5...\n",
      "[INFO][2024/04/20 02:13:04 am] Loading segmentation (75, 6048, 6048)\n",
      "INFO:btrack.io.hdf:Loading segmentation (75, 6048, 6048)\n",
      "[INFO][2024/04/20 02:13:04 am] Closing HDF file: /mnt/SYNO/macrohet_syno/PS0000/labels/macrohet_seg_model/(4, 8).h5\n",
      "INFO:btrack.io.hdf:Closing HDF file: /mnt/SYNO/macrohet_syno/PS0000/labels/macrohet_seg_model/(4, 8).h5\n"
     ]
    },
    {
     "data": {
      "application/vnd.jupyter.widget-view+json": {
       "model_id": "d984bf05b75b4f0d8b633fd99a772a4a",
       "version_major": 2,
       "version_minor": 0
      },
      "text/plain": [
       "  0%|          | 0/75 [00:00<?, ?it/s]"
      ]
     },
     "metadata": {},
     "output_type": "display_data"
    },
    {
     "name": "stdout",
     "output_type": "stream",
     "text": [
      "Video 189.4.8.PS0000 saved successfully.\n"
     ]
    },
    {
     "name": "stderr",
     "output_type": "stream",
     "text": [
      "[INFO][2024/04/20 02:25:59 am] Opening HDF file: /mnt/SYNO/macrohet_syno/PS0000/labels/macrohet_seg_model/(5, 8).h5...\n",
      "INFO:btrack.io.hdf:Opening HDF file: /mnt/SYNO/macrohet_syno/PS0000/labels/macrohet_seg_model/(5, 8).h5...\n",
      "[INFO][2024/04/20 02:26:12 am] Loading segmentation (75, 6048, 6048)\n",
      "INFO:btrack.io.hdf:Loading segmentation (75, 6048, 6048)\n",
      "[INFO][2024/04/20 02:26:12 am] Closing HDF file: /mnt/SYNO/macrohet_syno/PS0000/labels/macrohet_seg_model/(5, 8).h5\n",
      "INFO:btrack.io.hdf:Closing HDF file: /mnt/SYNO/macrohet_syno/PS0000/labels/macrohet_seg_model/(5, 8).h5\n"
     ]
    },
    {
     "data": {
      "application/vnd.jupyter.widget-view+json": {
       "model_id": "3a540cfed2e14fe5a75b96774aff4e60",
       "version_major": 2,
       "version_minor": 0
      },
      "text/plain": [
       "  0%|          | 0/75 [00:00<?, ?it/s]"
      ]
     },
     "metadata": {},
     "output_type": "display_data"
    },
    {
     "name": "stdout",
     "output_type": "stream",
     "text": [
      "Video 80.5.8.PS0000 saved successfully.\n"
     ]
    },
    {
     "name": "stderr",
     "output_type": "stream",
     "text": [
      "[INFO][2024/04/20 02:38:36 am] Opening HDF file: /mnt/SYNO/macrohet_syno/PS0000/labels/macrohet_seg_model/(4, 8).h5...\n",
      "INFO:btrack.io.hdf:Opening HDF file: /mnt/SYNO/macrohet_syno/PS0000/labels/macrohet_seg_model/(4, 8).h5...\n",
      "[INFO][2024/04/20 02:38:50 am] Loading segmentation (75, 6048, 6048)\n",
      "INFO:btrack.io.hdf:Loading segmentation (75, 6048, 6048)\n",
      "[INFO][2024/04/20 02:38:50 am] Closing HDF file: /mnt/SYNO/macrohet_syno/PS0000/labels/macrohet_seg_model/(4, 8).h5\n",
      "INFO:btrack.io.hdf:Closing HDF file: /mnt/SYNO/macrohet_syno/PS0000/labels/macrohet_seg_model/(4, 8).h5\n"
     ]
    },
    {
     "data": {
      "application/vnd.jupyter.widget-view+json": {
       "model_id": "ed08983bced74e3182580f8b4d56b934",
       "version_major": 2,
       "version_minor": 0
      },
      "text/plain": [
       "  0%|          | 0/75 [00:00<?, ?it/s]"
      ]
     },
     "metadata": {},
     "output_type": "display_data"
    },
    {
     "name": "stdout",
     "output_type": "stream",
     "text": [
      "Video 346.4.8.PS0000 saved successfully.\n"
     ]
    },
    {
     "name": "stderr",
     "output_type": "stream",
     "text": [
      "[INFO][2024/04/20 02:51:36 am] Opening HDF file: /mnt/SYNO/macrohet_syno/ND0002/labels/cpv3/(3, 3).h5...\n",
      "INFO:btrack.io.hdf:Opening HDF file: /mnt/SYNO/macrohet_syno/ND0002/labels/cpv3/(3, 3).h5...\n",
      "[INFO][2024/04/20 02:52:00 am] Loading segmentation (150, 6048, 6048)\n",
      "INFO:btrack.io.hdf:Loading segmentation (150, 6048, 6048)\n",
      "[INFO][2024/04/20 02:52:00 am] Closing HDF file: /mnt/SYNO/macrohet_syno/ND0002/labels/cpv3/(3, 3).h5\n",
      "INFO:btrack.io.hdf:Closing HDF file: /mnt/SYNO/macrohet_syno/ND0002/labels/cpv3/(3, 3).h5\n"
     ]
    },
    {
     "data": {
      "application/vnd.jupyter.widget-view+json": {
       "model_id": "8d47f9b324a742fdb9406b57dacb4152",
       "version_major": 2,
       "version_minor": 0
      },
      "text/plain": [
       "  0%|          | 0/116 [00:00<?, ?it/s]"
      ]
     },
     "metadata": {},
     "output_type": "display_data"
    },
    {
     "name": "stdout",
     "output_type": "stream",
     "text": [
      "Video 51.3.3.ND0002 saved successfully.\n"
     ]
    },
    {
     "name": "stderr",
     "output_type": "stream",
     "text": [
      "[INFO][2024/04/20 03:09:40 am] Opening HDF file: /mnt/SYNO/macrohet_syno/ND0003/labels/cpv3/(5, 9).h5...\n",
      "INFO:btrack.io.hdf:Opening HDF file: /mnt/SYNO/macrohet_syno/ND0003/labels/cpv3/(5, 9).h5...\n",
      "[INFO][2024/04/20 03:10:06 am] Loading segmentation (154, 6048, 6048)\n",
      "INFO:btrack.io.hdf:Loading segmentation (154, 6048, 6048)\n",
      "[INFO][2024/04/20 03:10:06 am] Closing HDF file: /mnt/SYNO/macrohet_syno/ND0003/labels/cpv3/(5, 9).h5\n",
      "INFO:btrack.io.hdf:Closing HDF file: /mnt/SYNO/macrohet_syno/ND0003/labels/cpv3/(5, 9).h5\n"
     ]
    },
    {
     "data": {
      "application/vnd.jupyter.widget-view+json": {
       "model_id": "cf752dd1457c41098bc190778c892540",
       "version_major": 2,
       "version_minor": 0
      },
      "text/plain": [
       "  0%|          | 0/104 [00:00<?, ?it/s]"
      ]
     },
     "metadata": {},
     "output_type": "display_data"
    },
    {
     "name": "stdout",
     "output_type": "stream",
     "text": [
      "Video 2234.5.9.ND0003 saved successfully.\n"
     ]
    },
    {
     "name": "stderr",
     "output_type": "stream",
     "text": [
      "[INFO][2024/04/20 03:25:54 am] Opening HDF file: /mnt/SYNO/macrohet_syno/ND0003/labels/cpv3/(3, 6).h5...\n",
      "INFO:btrack.io.hdf:Opening HDF file: /mnt/SYNO/macrohet_syno/ND0003/labels/cpv3/(3, 6).h5...\n",
      "[INFO][2024/04/20 03:26:21 am] Loading segmentation (154, 6048, 6048)\n",
      "INFO:btrack.io.hdf:Loading segmentation (154, 6048, 6048)\n",
      "[INFO][2024/04/20 03:26:21 am] Closing HDF file: /mnt/SYNO/macrohet_syno/ND0003/labels/cpv3/(3, 6).h5\n",
      "INFO:btrack.io.hdf:Closing HDF file: /mnt/SYNO/macrohet_syno/ND0003/labels/cpv3/(3, 6).h5\n"
     ]
    },
    {
     "data": {
      "application/vnd.jupyter.widget-view+json": {
       "model_id": "2699094c094f45928824e5a0630cdb1f",
       "version_major": 2,
       "version_minor": 0
      },
      "text/plain": [
       "  0%|          | 0/84 [00:00<?, ?it/s]"
      ]
     },
     "metadata": {},
     "output_type": "display_data"
    },
    {
     "name": "stdout",
     "output_type": "stream",
     "text": [
      "Video 382.3.6.ND0003 saved successfully.\n"
     ]
    },
    {
     "name": "stderr",
     "output_type": "stream",
     "text": [
      "[INFO][2024/04/20 03:41:03 am] Opening HDF file: /mnt/SYNO/macrohet_syno/PS0000/labels/macrohet_seg_model/(6, 5).h5...\n",
      "INFO:btrack.io.hdf:Opening HDF file: /mnt/SYNO/macrohet_syno/PS0000/labels/macrohet_seg_model/(6, 5).h5...\n",
      "[INFO][2024/04/20 03:41:23 am] Loading segmentation (75, 6048, 6048)\n",
      "INFO:btrack.io.hdf:Loading segmentation (75, 6048, 6048)\n",
      "[INFO][2024/04/20 03:41:24 am] Closing HDF file: /mnt/SYNO/macrohet_syno/PS0000/labels/macrohet_seg_model/(6, 5).h5\n",
      "INFO:btrack.io.hdf:Closing HDF file: /mnt/SYNO/macrohet_syno/PS0000/labels/macrohet_seg_model/(6, 5).h5\n"
     ]
    },
    {
     "data": {
      "application/vnd.jupyter.widget-view+json": {
       "model_id": "e0ce8ee2cd1645a7a24383df7f7ac629",
       "version_major": 2,
       "version_minor": 0
      },
      "text/plain": [
       "  0%|          | 0/75 [00:00<?, ?it/s]"
      ]
     },
     "metadata": {},
     "output_type": "display_data"
    },
    {
     "name": "stdout",
     "output_type": "stream",
     "text": [
      "Video 327.6.5.PS0000 saved successfully.\n"
     ]
    },
    {
     "name": "stderr",
     "output_type": "stream",
     "text": [
      "[INFO][2024/04/20 03:53:30 am] Opening HDF file: /mnt/SYNO/macrohet_syno/PS0000/labels/macrohet_seg_model/(5, 4).h5...\n",
      "INFO:btrack.io.hdf:Opening HDF file: /mnt/SYNO/macrohet_syno/PS0000/labels/macrohet_seg_model/(5, 4).h5...\n",
      "[INFO][2024/04/20 03:53:43 am] Loading segmentation (75, 6048, 6048)\n",
      "INFO:btrack.io.hdf:Loading segmentation (75, 6048, 6048)\n",
      "[INFO][2024/04/20 03:53:43 am] Closing HDF file: /mnt/SYNO/macrohet_syno/PS0000/labels/macrohet_seg_model/(5, 4).h5\n",
      "INFO:btrack.io.hdf:Closing HDF file: /mnt/SYNO/macrohet_syno/PS0000/labels/macrohet_seg_model/(5, 4).h5\n"
     ]
    },
    {
     "data": {
      "application/vnd.jupyter.widget-view+json": {
       "model_id": "7c8574e28a7e4f39855037b2e9f17c1c",
       "version_major": 2,
       "version_minor": 0
      },
      "text/plain": [
       "  0%|          | 0/72 [00:00<?, ?it/s]"
      ]
     },
     "metadata": {},
     "output_type": "display_data"
    },
    {
     "name": "stdout",
     "output_type": "stream",
     "text": [
      "Video 705.5.4.PS0000 saved successfully.\n"
     ]
    },
    {
     "name": "stderr",
     "output_type": "stream",
     "text": [
      "[INFO][2024/04/20 04:06:15 am] Opening HDF file: /mnt/SYNO/macrohet_syno/ND0002/labels/cpv3/(3, 4).h5...\n",
      "INFO:btrack.io.hdf:Opening HDF file: /mnt/SYNO/macrohet_syno/ND0002/labels/cpv3/(3, 4).h5...\n",
      "[INFO][2024/04/20 04:07:06 am] Loading segmentation (150, 6048, 6048)\n",
      "INFO:btrack.io.hdf:Loading segmentation (150, 6048, 6048)\n",
      "[INFO][2024/04/20 04:07:06 am] Closing HDF file: /mnt/SYNO/macrohet_syno/ND0002/labels/cpv3/(3, 4).h5\n",
      "INFO:btrack.io.hdf:Closing HDF file: /mnt/SYNO/macrohet_syno/ND0002/labels/cpv3/(3, 4).h5\n"
     ]
    },
    {
     "data": {
      "application/vnd.jupyter.widget-view+json": {
       "model_id": "9e8186206259469eb841981ddc3acedf",
       "version_major": 2,
       "version_minor": 0
      },
      "text/plain": [
       "  0%|          | 0/114 [00:00<?, ?it/s]"
      ]
     },
     "metadata": {},
     "output_type": "display_data"
    },
    {
     "name": "stdout",
     "output_type": "stream",
     "text": [
      "Video 1406.3.4.ND0002 saved successfully.\n"
     ]
    },
    {
     "name": "stderr",
     "output_type": "stream",
     "text": [
      "[INFO][2024/04/20 04:24:56 am] Opening HDF file: /mnt/SYNO/macrohet_syno/ND0003/labels/cpv3/(4, 5).h5...\n",
      "INFO:btrack.io.hdf:Opening HDF file: /mnt/SYNO/macrohet_syno/ND0003/labels/cpv3/(4, 5).h5...\n",
      "[INFO][2024/04/20 04:25:22 am] Loading segmentation (154, 6048, 6048)\n",
      "INFO:btrack.io.hdf:Loading segmentation (154, 6048, 6048)\n",
      "[INFO][2024/04/20 04:25:23 am] Closing HDF file: /mnt/SYNO/macrohet_syno/ND0003/labels/cpv3/(4, 5).h5\n",
      "INFO:btrack.io.hdf:Closing HDF file: /mnt/SYNO/macrohet_syno/ND0003/labels/cpv3/(4, 5).h5\n"
     ]
    },
    {
     "data": {
      "application/vnd.jupyter.widget-view+json": {
       "model_id": "564c25196f3e497c9fa3b690cae15127",
       "version_major": 2,
       "version_minor": 0
      },
      "text/plain": [
       "  0%|          | 0/76 [00:00<?, ?it/s]"
      ]
     },
     "metadata": {},
     "output_type": "display_data"
    },
    {
     "name": "stdout",
     "output_type": "stream",
     "text": [
      "Video 134.4.5.ND0003 saved successfully.\n"
     ]
    },
    {
     "name": "stderr",
     "output_type": "stream",
     "text": [
      "[INFO][2024/04/20 04:38:23 am] Opening HDF file: /mnt/SYNO/macrohet_syno/ND0003/labels/cpv3/(6, 3).h5...\n",
      "INFO:btrack.io.hdf:Opening HDF file: /mnt/SYNO/macrohet_syno/ND0003/labels/cpv3/(6, 3).h5...\n",
      "[INFO][2024/04/20 04:38:56 am] Loading segmentation (154, 6048, 6048)\n",
      "INFO:btrack.io.hdf:Loading segmentation (154, 6048, 6048)\n",
      "[INFO][2024/04/20 04:38:56 am] Closing HDF file: /mnt/SYNO/macrohet_syno/ND0003/labels/cpv3/(6, 3).h5\n",
      "INFO:btrack.io.hdf:Closing HDF file: /mnt/SYNO/macrohet_syno/ND0003/labels/cpv3/(6, 3).h5\n"
     ]
    },
    {
     "data": {
      "application/vnd.jupyter.widget-view+json": {
       "model_id": "937e6b19d1dc4e94a1502a973939fbc5",
       "version_major": 2,
       "version_minor": 0
      },
      "text/plain": [
       "  0%|          | 0/70 [00:00<?, ?it/s]"
      ]
     },
     "metadata": {},
     "output_type": "display_data"
    },
    {
     "name": "stdout",
     "output_type": "stream",
     "text": [
      "Video 2808.6.3.ND0003 saved successfully.\n"
     ]
    },
    {
     "name": "stderr",
     "output_type": "stream",
     "text": [
      "[INFO][2024/04/20 04:50:28 am] Opening HDF file: /mnt/SYNO/macrohet_syno/PS0000/labels/macrohet_seg_model/(5, 4).h5...\n",
      "INFO:btrack.io.hdf:Opening HDF file: /mnt/SYNO/macrohet_syno/PS0000/labels/macrohet_seg_model/(5, 4).h5...\n",
      "[INFO][2024/04/20 04:50:42 am] Loading segmentation (75, 6048, 6048)\n",
      "INFO:btrack.io.hdf:Loading segmentation (75, 6048, 6048)\n",
      "[INFO][2024/04/20 04:50:42 am] Closing HDF file: /mnt/SYNO/macrohet_syno/PS0000/labels/macrohet_seg_model/(5, 4).h5\n",
      "INFO:btrack.io.hdf:Closing HDF file: /mnt/SYNO/macrohet_syno/PS0000/labels/macrohet_seg_model/(5, 4).h5\n"
     ]
    },
    {
     "data": {
      "application/vnd.jupyter.widget-view+json": {
       "model_id": "bdbd58f60a8d44668badb02651bcb550",
       "version_major": 2,
       "version_minor": 0
      },
      "text/plain": [
       "  0%|          | 0/75 [00:00<?, ?it/s]"
      ]
     },
     "metadata": {},
     "output_type": "display_data"
    },
    {
     "name": "stdout",
     "output_type": "stream",
     "text": [
      "Video 497.5.4.PS0000 saved successfully.\n"
     ]
    },
    {
     "name": "stderr",
     "output_type": "stream",
     "text": [
      "[INFO][2024/04/20 05:03:45 am] Opening HDF file: /mnt/SYNO/macrohet_syno/PS0000/labels/macrohet_seg_model/(4, 8).h5...\n",
      "INFO:btrack.io.hdf:Opening HDF file: /mnt/SYNO/macrohet_syno/PS0000/labels/macrohet_seg_model/(4, 8).h5...\n",
      "[INFO][2024/04/20 05:04:19 am] Loading segmentation (75, 6048, 6048)\n",
      "INFO:btrack.io.hdf:Loading segmentation (75, 6048, 6048)\n",
      "[INFO][2024/04/20 05:04:19 am] Closing HDF file: /mnt/SYNO/macrohet_syno/PS0000/labels/macrohet_seg_model/(4, 8).h5\n",
      "INFO:btrack.io.hdf:Closing HDF file: /mnt/SYNO/macrohet_syno/PS0000/labels/macrohet_seg_model/(4, 8).h5\n"
     ]
    },
    {
     "data": {
      "application/vnd.jupyter.widget-view+json": {
       "model_id": "723ee09806c7413385921178c381dda3",
       "version_major": 2,
       "version_minor": 0
      },
      "text/plain": [
       "  0%|          | 0/75 [00:00<?, ?it/s]"
      ]
     },
     "metadata": {},
     "output_type": "display_data"
    },
    {
     "name": "stdout",
     "output_type": "stream",
     "text": [
      "Video 310.4.8.PS0000 saved successfully.\n"
     ]
    },
    {
     "data": {
      "application/vnd.jupyter.widget-view+json": {
       "model_id": "5582662b766a4d5f9a9b3cdfa18a6baf",
       "version_major": 2,
       "version_minor": 0
      },
      "text/plain": [
       "  0%|          | 0/75 [00:00<?, ?it/s]"
      ]
     },
     "metadata": {},
     "output_type": "display_data"
    },
    {
     "name": "stdout",
     "output_type": "stream",
     "text": [
      "Video 297.4.8.PS0000 saved successfully.\n"
     ]
    },
    {
     "name": "stderr",
     "output_type": "stream",
     "text": [
      "[INFO][2024/04/20 05:19:19 am] Opening HDF file: /mnt/SYNO/macrohet_syno/ND0003/labels/cpv3/(3, 3).h5...\n",
      "INFO:btrack.io.hdf:Opening HDF file: /mnt/SYNO/macrohet_syno/ND0003/labels/cpv3/(3, 3).h5...\n",
      "[INFO][2024/04/20 05:19:43 am] Loading segmentation (154, 6048, 6048)\n",
      "INFO:btrack.io.hdf:Loading segmentation (154, 6048, 6048)\n",
      "[INFO][2024/04/20 05:19:43 am] Closing HDF file: /mnt/SYNO/macrohet_syno/ND0003/labels/cpv3/(3, 3).h5\n",
      "INFO:btrack.io.hdf:Closing HDF file: /mnt/SYNO/macrohet_syno/ND0003/labels/cpv3/(3, 3).h5\n"
     ]
    },
    {
     "data": {
      "application/vnd.jupyter.widget-view+json": {
       "model_id": "3b4a88c23ba84cb7ac37c8dfa28294eb",
       "version_major": 2,
       "version_minor": 0
      },
      "text/plain": [
       "  0%|          | 0/154 [00:00<?, ?it/s]"
      ]
     },
     "metadata": {},
     "output_type": "display_data"
    },
    {
     "name": "stdout",
     "output_type": "stream",
     "text": [
      "Video 111.3.3.ND0003 saved successfully.\n"
     ]
    },
    {
     "name": "stderr",
     "output_type": "stream",
     "text": [
      "[INFO][2024/04/20 05:44:23 am] Opening HDF file: /mnt/SYNO/macrohet_syno/ND0003/labels/cpv3/(6, 9).h5...\n",
      "INFO:btrack.io.hdf:Opening HDF file: /mnt/SYNO/macrohet_syno/ND0003/labels/cpv3/(6, 9).h5...\n",
      "[INFO][2024/04/20 05:44:51 am] Loading segmentation (154, 6048, 6048)\n",
      "INFO:btrack.io.hdf:Loading segmentation (154, 6048, 6048)\n",
      "[INFO][2024/04/20 05:44:51 am] Closing HDF file: /mnt/SYNO/macrohet_syno/ND0003/labels/cpv3/(6, 9).h5\n",
      "INFO:btrack.io.hdf:Closing HDF file: /mnt/SYNO/macrohet_syno/ND0003/labels/cpv3/(6, 9).h5\n"
     ]
    },
    {
     "data": {
      "application/vnd.jupyter.widget-view+json": {
       "model_id": "2902c5877b8f4f50b2591fcb8adc8b1c",
       "version_major": 2,
       "version_minor": 0
      },
      "text/plain": [
       "  0%|          | 0/103 [00:00<?, ?it/s]"
      ]
     },
     "metadata": {},
     "output_type": "display_data"
    },
    {
     "name": "stdout",
     "output_type": "stream",
     "text": [
      "Video 150.6.9.ND0003 saved successfully.\n"
     ]
    },
    {
     "name": "stderr",
     "output_type": "stream",
     "text": [
      "[INFO][2024/04/20 06:01:15 am] Opening HDF file: /mnt/SYNO/macrohet_syno/ND0003/labels/cpv3/(4, 8).h5...\n",
      "INFO:btrack.io.hdf:Opening HDF file: /mnt/SYNO/macrohet_syno/ND0003/labels/cpv3/(4, 8).h5...\n",
      "[INFO][2024/04/20 06:01:39 am] Loading segmentation (154, 6048, 6048)\n",
      "INFO:btrack.io.hdf:Loading segmentation (154, 6048, 6048)\n",
      "[INFO][2024/04/20 06:01:39 am] Closing HDF file: /mnt/SYNO/macrohet_syno/ND0003/labels/cpv3/(4, 8).h5\n",
      "INFO:btrack.io.hdf:Closing HDF file: /mnt/SYNO/macrohet_syno/ND0003/labels/cpv3/(4, 8).h5\n"
     ]
    },
    {
     "data": {
      "application/vnd.jupyter.widget-view+json": {
       "model_id": "3d1f3fc5a32f45809e917dcdc9d65753",
       "version_major": 2,
       "version_minor": 0
      },
      "text/plain": [
       "  0%|          | 0/71 [00:00<?, ?it/s]"
      ]
     },
     "metadata": {},
     "output_type": "display_data"
    },
    {
     "name": "stdout",
     "output_type": "stream",
     "text": [
      "Video 2721.4.8.ND0003 saved successfully.\n"
     ]
    },
    {
     "name": "stderr",
     "output_type": "stream",
     "text": [
      "[INFO][2024/04/20 06:14:24 am] Opening HDF file: /mnt/SYNO/macrohet_syno/PS0000/labels/macrohet_seg_model/(3, 9).h5...\n",
      "INFO:btrack.io.hdf:Opening HDF file: /mnt/SYNO/macrohet_syno/PS0000/labels/macrohet_seg_model/(3, 9).h5...\n",
      "[INFO][2024/04/20 06:14:45 am] Loading segmentation (75, 6048, 6048)\n",
      "INFO:btrack.io.hdf:Loading segmentation (75, 6048, 6048)\n",
      "[INFO][2024/04/20 06:14:45 am] Closing HDF file: /mnt/SYNO/macrohet_syno/PS0000/labels/macrohet_seg_model/(3, 9).h5\n",
      "INFO:btrack.io.hdf:Closing HDF file: /mnt/SYNO/macrohet_syno/PS0000/labels/macrohet_seg_model/(3, 9).h5\n"
     ]
    },
    {
     "data": {
      "application/vnd.jupyter.widget-view+json": {
       "model_id": "c6e650f59c9a43b091fd5da1c458ace4",
       "version_major": 2,
       "version_minor": 0
      },
      "text/plain": [
       "  0%|          | 0/75 [00:00<?, ?it/s]"
      ]
     },
     "metadata": {},
     "output_type": "display_data"
    },
    {
     "name": "stdout",
     "output_type": "stream",
     "text": [
      "Video 551.3.9.PS0000 saved successfully.\n"
     ]
    },
    {
     "name": "stderr",
     "output_type": "stream",
     "text": [
      "[INFO][2024/04/20 06:26:57 am] Opening HDF file: /mnt/SYNO/macrohet_syno/PS0000/labels/macrohet_seg_model/(4, 8).h5...\n",
      "INFO:btrack.io.hdf:Opening HDF file: /mnt/SYNO/macrohet_syno/PS0000/labels/macrohet_seg_model/(4, 8).h5...\n",
      "[INFO][2024/04/20 06:27:10 am] Loading segmentation (75, 6048, 6048)\n",
      "INFO:btrack.io.hdf:Loading segmentation (75, 6048, 6048)\n",
      "[INFO][2024/04/20 06:27:11 am] Closing HDF file: /mnt/SYNO/macrohet_syno/PS0000/labels/macrohet_seg_model/(4, 8).h5\n",
      "INFO:btrack.io.hdf:Closing HDF file: /mnt/SYNO/macrohet_syno/PS0000/labels/macrohet_seg_model/(4, 8).h5\n"
     ]
    },
    {
     "data": {
      "application/vnd.jupyter.widget-view+json": {
       "model_id": "05efd93d24604eb682d6e41634fdabf9",
       "version_major": 2,
       "version_minor": 0
      },
      "text/plain": [
       "  0%|          | 0/75 [00:00<?, ?it/s]"
      ]
     },
     "metadata": {},
     "output_type": "display_data"
    },
    {
     "name": "stdout",
     "output_type": "stream",
     "text": [
      "Video 503.4.8.PS0000 saved successfully.\n"
     ]
    },
    {
     "name": "stderr",
     "output_type": "stream",
     "text": [
      "[INFO][2024/04/20 06:40:25 am] Opening HDF file: /mnt/SYNO/macrohet_syno/PS0000/labels/macrohet_seg_model/(4, 7).h5...\n",
      "INFO:btrack.io.hdf:Opening HDF file: /mnt/SYNO/macrohet_syno/PS0000/labels/macrohet_seg_model/(4, 7).h5...\n",
      "[INFO][2024/04/20 06:40:49 am] Loading segmentation (75, 6048, 6048)\n",
      "INFO:btrack.io.hdf:Loading segmentation (75, 6048, 6048)\n",
      "[INFO][2024/04/20 06:40:49 am] Closing HDF file: /mnt/SYNO/macrohet_syno/PS0000/labels/macrohet_seg_model/(4, 7).h5\n",
      "INFO:btrack.io.hdf:Closing HDF file: /mnt/SYNO/macrohet_syno/PS0000/labels/macrohet_seg_model/(4, 7).h5\n"
     ]
    },
    {
     "data": {
      "application/vnd.jupyter.widget-view+json": {
       "model_id": "17d595f9b4bb45159f9a11f133c30273",
       "version_major": 2,
       "version_minor": 0
      },
      "text/plain": [
       "  0%|          | 0/75 [00:00<?, ?it/s]"
      ]
     },
     "metadata": {},
     "output_type": "display_data"
    },
    {
     "name": "stdout",
     "output_type": "stream",
     "text": [
      "Video 328.4.7.PS0000 saved successfully.\n"
     ]
    },
    {
     "name": "stderr",
     "output_type": "stream",
     "text": [
      "[INFO][2024/04/20 06:53:15 am] Opening HDF file: /mnt/SYNO/macrohet_syno/PS0000/labels/macrohet_seg_model/(6, 7).h5...\n",
      "INFO:btrack.io.hdf:Opening HDF file: /mnt/SYNO/macrohet_syno/PS0000/labels/macrohet_seg_model/(6, 7).h5...\n",
      "[INFO][2024/04/20 06:53:29 am] Loading segmentation (75, 6048, 6048)\n",
      "INFO:btrack.io.hdf:Loading segmentation (75, 6048, 6048)\n",
      "[INFO][2024/04/20 06:53:29 am] Closing HDF file: /mnt/SYNO/macrohet_syno/PS0000/labels/macrohet_seg_model/(6, 7).h5\n",
      "INFO:btrack.io.hdf:Closing HDF file: /mnt/SYNO/macrohet_syno/PS0000/labels/macrohet_seg_model/(6, 7).h5\n"
     ]
    },
    {
     "data": {
      "application/vnd.jupyter.widget-view+json": {
       "model_id": "5780b668e9e44af29b364aa9912c1f80",
       "version_major": 2,
       "version_minor": 0
      },
      "text/plain": [
       "  0%|          | 0/75 [00:00<?, ?it/s]"
      ]
     },
     "metadata": {},
     "output_type": "display_data"
    },
    {
     "name": "stdout",
     "output_type": "stream",
     "text": [
      "Video 362.6.7.PS0000 saved successfully.\n"
     ]
    },
    {
     "name": "stderr",
     "output_type": "stream",
     "text": [
      "[INFO][2024/04/20 07:07:15 am] Opening HDF file: /mnt/SYNO/macrohet_syno/PS0000/labels/macrohet_seg_model/(6, 6).h5...\n",
      "INFO:btrack.io.hdf:Opening HDF file: /mnt/SYNO/macrohet_syno/PS0000/labels/macrohet_seg_model/(6, 6).h5...\n",
      "[INFO][2024/04/20 07:07:28 am] Loading segmentation (75, 6048, 6048)\n",
      "INFO:btrack.io.hdf:Loading segmentation (75, 6048, 6048)\n",
      "[INFO][2024/04/20 07:07:28 am] Closing HDF file: /mnt/SYNO/macrohet_syno/PS0000/labels/macrohet_seg_model/(6, 6).h5\n",
      "INFO:btrack.io.hdf:Closing HDF file: /mnt/SYNO/macrohet_syno/PS0000/labels/macrohet_seg_model/(6, 6).h5\n"
     ]
    },
    {
     "data": {
      "application/vnd.jupyter.widget-view+json": {
       "model_id": "5bc93bca3d5d4806a1a651fe6e7e850a",
       "version_major": 2,
       "version_minor": 0
      },
      "text/plain": [
       "  0%|          | 0/75 [00:00<?, ?it/s]"
      ]
     },
     "metadata": {},
     "output_type": "display_data"
    },
    {
     "name": "stdout",
     "output_type": "stream",
     "text": [
      "Video 650.6.6.PS0000 saved successfully.\n"
     ]
    },
    {
     "name": "stderr",
     "output_type": "stream",
     "text": [
      "[INFO][2024/04/20 07:19:50 am] Opening HDF file: /mnt/SYNO/macrohet_syno/PS0000/labels/macrohet_seg_model/(4, 8).h5...\n",
      "INFO:btrack.io.hdf:Opening HDF file: /mnt/SYNO/macrohet_syno/PS0000/labels/macrohet_seg_model/(4, 8).h5...\n",
      "[INFO][2024/04/20 07:20:04 am] Loading segmentation (75, 6048, 6048)\n",
      "INFO:btrack.io.hdf:Loading segmentation (75, 6048, 6048)\n",
      "[INFO][2024/04/20 07:20:04 am] Closing HDF file: /mnt/SYNO/macrohet_syno/PS0000/labels/macrohet_seg_model/(4, 8).h5\n",
      "INFO:btrack.io.hdf:Closing HDF file: /mnt/SYNO/macrohet_syno/PS0000/labels/macrohet_seg_model/(4, 8).h5\n"
     ]
    },
    {
     "data": {
      "application/vnd.jupyter.widget-view+json": {
       "model_id": "1fb0d5fb294446e5b47b3da74d6a5249",
       "version_major": 2,
       "version_minor": 0
      },
      "text/plain": [
       "  0%|          | 0/75 [00:00<?, ?it/s]"
      ]
     },
     "metadata": {},
     "output_type": "display_data"
    },
    {
     "name": "stdout",
     "output_type": "stream",
     "text": [
      "Video 104.4.8.PS0000 saved successfully.\n"
     ]
    },
    {
     "name": "stderr",
     "output_type": "stream",
     "text": [
      "[INFO][2024/04/20 07:33:42 am] Opening HDF file: /mnt/SYNO/macrohet_syno/PS0000/labels/macrohet_seg_model/(6, 8).h5...\n",
      "INFO:btrack.io.hdf:Opening HDF file: /mnt/SYNO/macrohet_syno/PS0000/labels/macrohet_seg_model/(6, 8).h5...\n",
      "[INFO][2024/04/20 07:33:56 am] Loading segmentation (75, 6048, 6048)\n",
      "INFO:btrack.io.hdf:Loading segmentation (75, 6048, 6048)\n",
      "[INFO][2024/04/20 07:33:56 am] Closing HDF file: /mnt/SYNO/macrohet_syno/PS0000/labels/macrohet_seg_model/(6, 8).h5\n",
      "INFO:btrack.io.hdf:Closing HDF file: /mnt/SYNO/macrohet_syno/PS0000/labels/macrohet_seg_model/(6, 8).h5\n"
     ]
    },
    {
     "data": {
      "application/vnd.jupyter.widget-view+json": {
       "model_id": "eaf0c2a1bbe94bca8974c859b90495bc",
       "version_major": 2,
       "version_minor": 0
      },
      "text/plain": [
       "  0%|          | 0/74 [00:00<?, ?it/s]"
      ]
     },
     "metadata": {},
     "output_type": "display_data"
    },
    {
     "name": "stdout",
     "output_type": "stream",
     "text": [
      "Video 663.6.8.PS0000 saved successfully.\n"
     ]
    },
    {
     "name": "stderr",
     "output_type": "stream",
     "text": [
      "[INFO][2024/04/20 07:46:11 am] Opening HDF file: /mnt/SYNO/macrohet_syno/ND0003/labels/cpv3/(4, 7).h5...\n",
      "INFO:btrack.io.hdf:Opening HDF file: /mnt/SYNO/macrohet_syno/ND0003/labels/cpv3/(4, 7).h5...\n",
      "[INFO][2024/04/20 07:46:36 am] Loading segmentation (154, 6048, 6048)\n",
      "INFO:btrack.io.hdf:Loading segmentation (154, 6048, 6048)\n",
      "[INFO][2024/04/20 07:46:36 am] Closing HDF file: /mnt/SYNO/macrohet_syno/ND0003/labels/cpv3/(4, 7).h5\n",
      "INFO:btrack.io.hdf:Closing HDF file: /mnt/SYNO/macrohet_syno/ND0003/labels/cpv3/(4, 7).h5\n"
     ]
    },
    {
     "data": {
      "application/vnd.jupyter.widget-view+json": {
       "model_id": "31531107feab42b2af907cf8c4cc00c3",
       "version_major": 2,
       "version_minor": 0
      },
      "text/plain": [
       "  0%|          | 0/77 [00:00<?, ?it/s]"
      ]
     },
     "metadata": {},
     "output_type": "display_data"
    },
    {
     "name": "stdout",
     "output_type": "stream",
     "text": [
      "Video 1688.4.7.ND0003 saved successfully.\n"
     ]
    },
    {
     "name": "stderr",
     "output_type": "stream",
     "text": [
      "[INFO][2024/04/20 08:00:01 am] Opening HDF file: /mnt/SYNO/macrohet_syno/PS0000/labels/macrohet_seg_model/(6, 5).h5...\n",
      "INFO:btrack.io.hdf:Opening HDF file: /mnt/SYNO/macrohet_syno/PS0000/labels/macrohet_seg_model/(6, 5).h5...\n",
      "[INFO][2024/04/20 08:00:22 am] Loading segmentation (75, 6048, 6048)\n",
      "INFO:btrack.io.hdf:Loading segmentation (75, 6048, 6048)\n",
      "[INFO][2024/04/20 08:00:22 am] Closing HDF file: /mnt/SYNO/macrohet_syno/PS0000/labels/macrohet_seg_model/(6, 5).h5\n",
      "INFO:btrack.io.hdf:Closing HDF file: /mnt/SYNO/macrohet_syno/PS0000/labels/macrohet_seg_model/(6, 5).h5\n"
     ]
    },
    {
     "data": {
      "application/vnd.jupyter.widget-view+json": {
       "model_id": "dcef053f83db4659ab84d63f079c951f",
       "version_major": 2,
       "version_minor": 0
      },
      "text/plain": [
       "  0%|          | 0/75 [00:00<?, ?it/s]"
      ]
     },
     "metadata": {},
     "output_type": "display_data"
    },
    {
     "name": "stdout",
     "output_type": "stream",
     "text": [
      "Video 284.6.5.PS0000 saved successfully.\n"
     ]
    },
    {
     "name": "stderr",
     "output_type": "stream",
     "text": [
      "[INFO][2024/04/20 08:12:21 am] Opening HDF file: /mnt/SYNO/macrohet_syno/PS0000/labels/macrohet_seg_model/(3, 7).h5...\n",
      "INFO:btrack.io.hdf:Opening HDF file: /mnt/SYNO/macrohet_syno/PS0000/labels/macrohet_seg_model/(3, 7).h5...\n",
      "[INFO][2024/04/20 08:12:36 am] Loading segmentation (75, 6048, 6048)\n",
      "INFO:btrack.io.hdf:Loading segmentation (75, 6048, 6048)\n",
      "[INFO][2024/04/20 08:12:36 am] Closing HDF file: /mnt/SYNO/macrohet_syno/PS0000/labels/macrohet_seg_model/(3, 7).h5\n",
      "INFO:btrack.io.hdf:Closing HDF file: /mnt/SYNO/macrohet_syno/PS0000/labels/macrohet_seg_model/(3, 7).h5\n"
     ]
    },
    {
     "data": {
      "application/vnd.jupyter.widget-view+json": {
       "model_id": "d705e083707c4122ae956d893929e5c4",
       "version_major": 2,
       "version_minor": 0
      },
      "text/plain": [
       "  0%|          | 0/75 [00:00<?, ?it/s]"
      ]
     },
     "metadata": {},
     "output_type": "display_data"
    },
    {
     "name": "stdout",
     "output_type": "stream",
     "text": [
      "Video 88.3.7.PS0000 saved successfully.\n"
     ]
    },
    {
     "name": "stderr",
     "output_type": "stream",
     "text": [
      "[INFO][2024/04/20 08:25:58 am] Opening HDF file: /mnt/SYNO/macrohet_syno/PS0000/labels/macrohet_seg_model/(4, 5).h5...\n",
      "INFO:btrack.io.hdf:Opening HDF file: /mnt/SYNO/macrohet_syno/PS0000/labels/macrohet_seg_model/(4, 5).h5...\n",
      "[INFO][2024/04/20 08:26:12 am] Loading segmentation (75, 6048, 6048)\n",
      "INFO:btrack.io.hdf:Loading segmentation (75, 6048, 6048)\n",
      "[INFO][2024/04/20 08:26:12 am] Closing HDF file: /mnt/SYNO/macrohet_syno/PS0000/labels/macrohet_seg_model/(4, 5).h5\n",
      "INFO:btrack.io.hdf:Closing HDF file: /mnt/SYNO/macrohet_syno/PS0000/labels/macrohet_seg_model/(4, 5).h5\n"
     ]
    },
    {
     "data": {
      "application/vnd.jupyter.widget-view+json": {
       "model_id": "5f0cd6d3bb50487fba9ac38c7506c48b",
       "version_major": 2,
       "version_minor": 0
      },
      "text/plain": [
       "  0%|          | 0/73 [00:00<?, ?it/s]"
      ]
     },
     "metadata": {},
     "output_type": "display_data"
    },
    {
     "name": "stdout",
     "output_type": "stream",
     "text": [
      "Video 398.4.5.PS0000 saved successfully.\n"
     ]
    },
    {
     "data": {
      "application/vnd.jupyter.widget-view+json": {
       "model_id": "67265bc815064c218ae83bb17aa7ca7c",
       "version_major": 2,
       "version_minor": 0
      },
      "text/plain": [
       "  0%|          | 0/75 [00:00<?, ?it/s]"
      ]
     },
     "metadata": {},
     "output_type": "display_data"
    },
    {
     "name": "stdout",
     "output_type": "stream",
     "text": [
      "Video 585.4.5.PS0000 saved successfully.\n"
     ]
    },
    {
     "name": "stderr",
     "output_type": "stream",
     "text": [
      "[INFO][2024/04/20 08:50:40 am] Opening HDF file: /mnt/SYNO/macrohet_syno/PS0000/labels/macrohet_seg_model/(3, 9).h5...\n",
      "INFO:btrack.io.hdf:Opening HDF file: /mnt/SYNO/macrohet_syno/PS0000/labels/macrohet_seg_model/(3, 9).h5...\n",
      "[INFO][2024/04/20 08:50:53 am] Loading segmentation (75, 6048, 6048)\n",
      "INFO:btrack.io.hdf:Loading segmentation (75, 6048, 6048)\n",
      "[INFO][2024/04/20 08:50:53 am] Closing HDF file: /mnt/SYNO/macrohet_syno/PS0000/labels/macrohet_seg_model/(3, 9).h5\n",
      "INFO:btrack.io.hdf:Closing HDF file: /mnt/SYNO/macrohet_syno/PS0000/labels/macrohet_seg_model/(3, 9).h5\n"
     ]
    },
    {
     "data": {
      "application/vnd.jupyter.widget-view+json": {
       "model_id": "533e0bb34b9b483a84134ee5ce17cdb7",
       "version_major": 2,
       "version_minor": 0
      },
      "text/plain": [
       "  0%|          | 0/75 [00:00<?, ?it/s]"
      ]
     },
     "metadata": {},
     "output_type": "display_data"
    },
    {
     "name": "stdout",
     "output_type": "stream",
     "text": [
      "Video 104.3.9.PS0000 saved successfully.\n"
     ]
    },
    {
     "name": "stderr",
     "output_type": "stream",
     "text": [
      "[INFO][2024/04/20 09:03:48 am] Opening HDF file: /mnt/SYNO/macrohet_syno/ND0003/labels/cpv3/(3, 8).h5...\n",
      "INFO:btrack.io.hdf:Opening HDF file: /mnt/SYNO/macrohet_syno/ND0003/labels/cpv3/(3, 8).h5...\n",
      "[INFO][2024/04/20 09:04:14 am] Loading segmentation (154, 6048, 6048)\n",
      "INFO:btrack.io.hdf:Loading segmentation (154, 6048, 6048)\n",
      "[INFO][2024/04/20 09:04:14 am] Closing HDF file: /mnt/SYNO/macrohet_syno/ND0003/labels/cpv3/(3, 8).h5\n",
      "INFO:btrack.io.hdf:Closing HDF file: /mnt/SYNO/macrohet_syno/ND0003/labels/cpv3/(3, 8).h5\n"
     ]
    },
    {
     "data": {
      "application/vnd.jupyter.widget-view+json": {
       "model_id": "e6f9753602e2415388a30b7ea122cccb",
       "version_major": 2,
       "version_minor": 0
      },
      "text/plain": [
       "  0%|          | 0/153 [00:00<?, ?it/s]"
      ]
     },
     "metadata": {},
     "output_type": "display_data"
    },
    {
     "name": "stdout",
     "output_type": "stream",
     "text": [
      "Video 84.3.8.ND0003 saved successfully.\n"
     ]
    },
    {
     "data": {
      "application/vnd.jupyter.widget-view+json": {
       "model_id": "6a35ca6341ed4e5b92b9a5792b0d2e6b",
       "version_major": 2,
       "version_minor": 0
      },
      "text/plain": [
       "  0%|          | 0/75 [00:00<?, ?it/s]"
      ]
     },
     "metadata": {},
     "output_type": "display_data"
    },
    {
     "name": "stdout",
     "output_type": "stream",
     "text": [
      "Video 337.3.8.PS0000 saved successfully.\n"
     ]
    },
    {
     "name": "stderr",
     "output_type": "stream",
     "text": [
      "[INFO][2024/04/20 09:41:47 am] Opening HDF file: /mnt/SYNO/macrohet_syno/ND0003/labels/cpv3/(6, 4).h5...\n",
      "INFO:btrack.io.hdf:Opening HDF file: /mnt/SYNO/macrohet_syno/ND0003/labels/cpv3/(6, 4).h5...\n",
      "[INFO][2024/04/20 09:42:11 am] Loading segmentation (154, 6048, 6048)\n",
      "INFO:btrack.io.hdf:Loading segmentation (154, 6048, 6048)\n",
      "[INFO][2024/04/20 09:42:11 am] Closing HDF file: /mnt/SYNO/macrohet_syno/ND0003/labels/cpv3/(6, 4).h5\n",
      "INFO:btrack.io.hdf:Closing HDF file: /mnt/SYNO/macrohet_syno/ND0003/labels/cpv3/(6, 4).h5\n"
     ]
    },
    {
     "data": {
      "application/vnd.jupyter.widget-view+json": {
       "model_id": "7e39dd489b294945ad62fd5c34272ceb",
       "version_major": 2,
       "version_minor": 0
      },
      "text/plain": [
       "  0%|          | 0/114 [00:00<?, ?it/s]"
      ]
     },
     "metadata": {},
     "output_type": "display_data"
    },
    {
     "name": "stdout",
     "output_type": "stream",
     "text": [
      "Video 764.6.4.ND0003 saved successfully.\n"
     ]
    },
    {
     "name": "stderr",
     "output_type": "stream",
     "text": [
      "[INFO][2024/04/20 09:59:50 am] Opening HDF file: /mnt/SYNO/macrohet_syno/ND0003/labels/cpv3/(4, 10).h5...\n",
      "INFO:btrack.io.hdf:Opening HDF file: /mnt/SYNO/macrohet_syno/ND0003/labels/cpv3/(4, 10).h5...\n",
      "[INFO][2024/04/20 10:00:14 am] Loading segmentation (154, 6048, 6048)\n",
      "INFO:btrack.io.hdf:Loading segmentation (154, 6048, 6048)\n",
      "[INFO][2024/04/20 10:00:14 am] Closing HDF file: /mnt/SYNO/macrohet_syno/ND0003/labels/cpv3/(4, 10).h5\n",
      "INFO:btrack.io.hdf:Closing HDF file: /mnt/SYNO/macrohet_syno/ND0003/labels/cpv3/(4, 10).h5\n"
     ]
    },
    {
     "data": {
      "application/vnd.jupyter.widget-view+json": {
       "model_id": "5ec87e224e3d4aee8312587141841a21",
       "version_major": 2,
       "version_minor": 0
      },
      "text/plain": [
       "  0%|          | 0/97 [00:00<?, ?it/s]"
      ]
     },
     "metadata": {},
     "output_type": "display_data"
    },
    {
     "name": "stdout",
     "output_type": "stream",
     "text": [
      "Video 2713.4.10.ND0003 saved successfully.\n"
     ]
    },
    {
     "name": "stderr",
     "output_type": "stream",
     "text": [
      "[INFO][2024/04/20 10:17:26 am] Opening HDF file: /mnt/SYNO/macrohet_syno/ND0002/labels/cpv3/(4, 3).h5...\n",
      "INFO:btrack.io.hdf:Opening HDF file: /mnt/SYNO/macrohet_syno/ND0002/labels/cpv3/(4, 3).h5...\n",
      "[INFO][2024/04/20 10:18:19 am] Loading segmentation (150, 6048, 6048)\n",
      "INFO:btrack.io.hdf:Loading segmentation (150, 6048, 6048)\n",
      "[INFO][2024/04/20 10:18:19 am] Closing HDF file: /mnt/SYNO/macrohet_syno/ND0002/labels/cpv3/(4, 3).h5\n",
      "INFO:btrack.io.hdf:Closing HDF file: /mnt/SYNO/macrohet_syno/ND0002/labels/cpv3/(4, 3).h5\n"
     ]
    },
    {
     "data": {
      "application/vnd.jupyter.widget-view+json": {
       "model_id": "342bb3c4abdb48469a4466f9848dcc17",
       "version_major": 2,
       "version_minor": 0
      },
      "text/plain": [
       "  0%|          | 0/78 [00:00<?, ?it/s]"
      ]
     },
     "metadata": {},
     "output_type": "display_data"
    },
    {
     "name": "stdout",
     "output_type": "stream",
     "text": [
      "Video 2364.4.3.ND0002 saved successfully.\n"
     ]
    },
    {
     "name": "stderr",
     "output_type": "stream",
     "text": [
      "[INFO][2024/04/20 10:31:36 am] Opening HDF file: /mnt/SYNO/macrohet_syno/PS0000/labels/macrohet_seg_model/(3, 4).h5...\n",
      "INFO:btrack.io.hdf:Opening HDF file: /mnt/SYNO/macrohet_syno/PS0000/labels/macrohet_seg_model/(3, 4).h5...\n",
      "[INFO][2024/04/20 10:31:49 am] Loading segmentation (75, 6048, 6048)\n",
      "INFO:btrack.io.hdf:Loading segmentation (75, 6048, 6048)\n",
      "[INFO][2024/04/20 10:31:50 am] Closing HDF file: /mnt/SYNO/macrohet_syno/PS0000/labels/macrohet_seg_model/(3, 4).h5\n",
      "INFO:btrack.io.hdf:Closing HDF file: /mnt/SYNO/macrohet_syno/PS0000/labels/macrohet_seg_model/(3, 4).h5\n"
     ]
    },
    {
     "data": {
      "application/vnd.jupyter.widget-view+json": {
       "model_id": "f287f27c52ed457aa768449f22a99a81",
       "version_major": 2,
       "version_minor": 0
      },
      "text/plain": [
       "  0%|          | 0/75 [00:00<?, ?it/s]"
      ]
     },
     "metadata": {},
     "output_type": "display_data"
    },
    {
     "name": "stdout",
     "output_type": "stream",
     "text": [
      "Video 401.3.4.PS0000 saved successfully.\n"
     ]
    },
    {
     "name": "stderr",
     "output_type": "stream",
     "text": [
      "[INFO][2024/04/20 10:44:02 am] Opening HDF file: /mnt/SYNO/macrohet_syno/PS0000/labels/macrohet_seg_model/(4, 8).h5...\n",
      "INFO:btrack.io.hdf:Opening HDF file: /mnt/SYNO/macrohet_syno/PS0000/labels/macrohet_seg_model/(4, 8).h5...\n",
      "[INFO][2024/04/20 10:44:27 am] Loading segmentation (75, 6048, 6048)\n",
      "INFO:btrack.io.hdf:Loading segmentation (75, 6048, 6048)\n",
      "[INFO][2024/04/20 10:44:27 am] Closing HDF file: /mnt/SYNO/macrohet_syno/PS0000/labels/macrohet_seg_model/(4, 8).h5\n",
      "INFO:btrack.io.hdf:Closing HDF file: /mnt/SYNO/macrohet_syno/PS0000/labels/macrohet_seg_model/(4, 8).h5\n"
     ]
    },
    {
     "data": {
      "application/vnd.jupyter.widget-view+json": {
       "model_id": "c4699a566ac443d896447e1c75d5aa8a",
       "version_major": 2,
       "version_minor": 0
      },
      "text/plain": [
       "  0%|          | 0/75 [00:00<?, ?it/s]"
      ]
     },
     "metadata": {},
     "output_type": "display_data"
    },
    {
     "name": "stdout",
     "output_type": "stream",
     "text": [
      "Video 69.4.8.PS0000 saved successfully.\n"
     ]
    },
    {
     "name": "stderr",
     "output_type": "stream",
     "text": [
      "[INFO][2024/04/20 10:51:37 am] Opening HDF file: /mnt/SYNO/macrohet_syno/ND0003/labels/cpv3/(3, 4).h5...\n",
      "INFO:btrack.io.hdf:Opening HDF file: /mnt/SYNO/macrohet_syno/ND0003/labels/cpv3/(3, 4).h5...\n",
      "[INFO][2024/04/20 10:51:58 am] Loading segmentation (154, 6048, 6048)\n",
      "INFO:btrack.io.hdf:Loading segmentation (154, 6048, 6048)\n",
      "[INFO][2024/04/20 10:51:58 am] Closing HDF file: /mnt/SYNO/macrohet_syno/ND0003/labels/cpv3/(3, 4).h5\n",
      "INFO:btrack.io.hdf:Closing HDF file: /mnt/SYNO/macrohet_syno/ND0003/labels/cpv3/(3, 4).h5\n"
     ]
    },
    {
     "data": {
      "application/vnd.jupyter.widget-view+json": {
       "model_id": "731c8a2773b244afaedfbdb5e628a4ba",
       "version_major": 2,
       "version_minor": 0
      },
      "text/plain": [
       "  0%|          | 0/107 [00:00<?, ?it/s]"
      ]
     },
     "metadata": {},
     "output_type": "display_data"
    },
    {
     "name": "stdout",
     "output_type": "stream",
     "text": [
      "Video 1367.3.4.ND0003 saved successfully.\n"
     ]
    },
    {
     "name": "stderr",
     "output_type": "stream",
     "text": [
      "[INFO][2024/04/20 11:03:44 am] Opening HDF file: /mnt/SYNO/macrohet_syno/PS0000/labels/macrohet_seg_model/(4, 8).h5...\n",
      "INFO:btrack.io.hdf:Opening HDF file: /mnt/SYNO/macrohet_syno/PS0000/labels/macrohet_seg_model/(4, 8).h5...\n",
      "[INFO][2024/04/20 11:03:57 am] Loading segmentation (75, 6048, 6048)\n",
      "INFO:btrack.io.hdf:Loading segmentation (75, 6048, 6048)\n",
      "[INFO][2024/04/20 11:03:57 am] Closing HDF file: /mnt/SYNO/macrohet_syno/PS0000/labels/macrohet_seg_model/(4, 8).h5\n",
      "INFO:btrack.io.hdf:Closing HDF file: /mnt/SYNO/macrohet_syno/PS0000/labels/macrohet_seg_model/(4, 8).h5\n"
     ]
    },
    {
     "data": {
      "application/vnd.jupyter.widget-view+json": {
       "model_id": "1050c848b6414e5eb950f035e8350635",
       "version_major": 2,
       "version_minor": 0
      },
      "text/plain": [
       "  0%|          | 0/71 [00:00<?, ?it/s]"
      ]
     },
     "metadata": {},
     "output_type": "display_data"
    },
    {
     "name": "stdout",
     "output_type": "stream",
     "text": [
      "Video 851.4.8.PS0000 saved successfully.\n"
     ]
    },
    {
     "name": "stderr",
     "output_type": "stream",
     "text": [
      "[INFO][2024/04/20 11:10:13 am] Opening HDF file: /mnt/SYNO/macrohet_syno/PS0000/labels/macrohet_seg_model/(4, 5).h5...\n",
      "INFO:btrack.io.hdf:Opening HDF file: /mnt/SYNO/macrohet_syno/PS0000/labels/macrohet_seg_model/(4, 5).h5...\n",
      "[INFO][2024/04/20 11:10:23 am] Loading segmentation (75, 6048, 6048)\n",
      "INFO:btrack.io.hdf:Loading segmentation (75, 6048, 6048)\n",
      "[INFO][2024/04/20 11:10:23 am] Closing HDF file: /mnt/SYNO/macrohet_syno/PS0000/labels/macrohet_seg_model/(4, 5).h5\n",
      "INFO:btrack.io.hdf:Closing HDF file: /mnt/SYNO/macrohet_syno/PS0000/labels/macrohet_seg_model/(4, 5).h5\n"
     ]
    },
    {
     "data": {
      "application/vnd.jupyter.widget-view+json": {
       "model_id": "554fd853810541b78cf557053b1d84ad",
       "version_major": 2,
       "version_minor": 0
      },
      "text/plain": [
       "  0%|          | 0/73 [00:00<?, ?it/s]"
      ]
     },
     "metadata": {},
     "output_type": "display_data"
    },
    {
     "name": "stdout",
     "output_type": "stream",
     "text": [
      "Video 819.4.5.PS0000 saved successfully.\n"
     ]
    },
    {
     "name": "stderr",
     "output_type": "stream",
     "text": [
      "[INFO][2024/04/20 11:16:22 am] Opening HDF file: /mnt/SYNO/macrohet_syno/ND0003/labels/cpv3/(6, 11).h5...\n",
      "INFO:btrack.io.hdf:Opening HDF file: /mnt/SYNO/macrohet_syno/ND0003/labels/cpv3/(6, 11).h5...\n",
      "[INFO][2024/04/20 11:16:45 am] Loading segmentation (154, 6048, 6048)\n",
      "INFO:btrack.io.hdf:Loading segmentation (154, 6048, 6048)\n",
      "[INFO][2024/04/20 11:16:45 am] Closing HDF file: /mnt/SYNO/macrohet_syno/ND0003/labels/cpv3/(6, 11).h5\n",
      "INFO:btrack.io.hdf:Closing HDF file: /mnt/SYNO/macrohet_syno/ND0003/labels/cpv3/(6, 11).h5\n"
     ]
    },
    {
     "data": {
      "application/vnd.jupyter.widget-view+json": {
       "model_id": "ca6a435a9ca4452b93fa9ffc9b220dbf",
       "version_major": 2,
       "version_minor": 0
      },
      "text/plain": [
       "  0%|          | 0/154 [00:00<?, ?it/s]"
      ]
     },
     "metadata": {},
     "output_type": "display_data"
    },
    {
     "name": "stdout",
     "output_type": "stream",
     "text": [
      "Video 174.6.11.ND0003 saved successfully.\n"
     ]
    },
    {
     "name": "stderr",
     "output_type": "stream",
     "text": [
      "[INFO][2024/04/20 11:28:01 am] Opening HDF file: /mnt/SYNO/macrohet_syno/ND0003/labels/cpv3/(4, 10).h5...\n",
      "INFO:btrack.io.hdf:Opening HDF file: /mnt/SYNO/macrohet_syno/ND0003/labels/cpv3/(4, 10).h5...\n",
      "[INFO][2024/04/20 11:28:47 am] Loading segmentation (154, 6048, 6048)\n",
      "INFO:btrack.io.hdf:Loading segmentation (154, 6048, 6048)\n",
      "[INFO][2024/04/20 11:28:47 am] Closing HDF file: /mnt/SYNO/macrohet_syno/ND0003/labels/cpv3/(4, 10).h5\n",
      "INFO:btrack.io.hdf:Closing HDF file: /mnt/SYNO/macrohet_syno/ND0003/labels/cpv3/(4, 10).h5\n"
     ]
    },
    {
     "data": {
      "application/vnd.jupyter.widget-view+json": {
       "model_id": "8c92bf9c390446afb06c0798b7f203d1",
       "version_major": 2,
       "version_minor": 0
      },
      "text/plain": [
       "  0%|          | 0/70 [00:00<?, ?it/s]"
      ]
     },
     "metadata": {},
     "output_type": "display_data"
    },
    {
     "name": "stdout",
     "output_type": "stream",
     "text": [
      "Video 190.4.10.ND0003 saved successfully.\n"
     ]
    },
    {
     "name": "stderr",
     "output_type": "stream",
     "text": [
      "[INFO][2024/04/20 11:34:16 am] Opening HDF file: /mnt/SYNO/macrohet_syno/PS0000/labels/macrohet_seg_model/(6, 9).h5...\n",
      "INFO:btrack.io.hdf:Opening HDF file: /mnt/SYNO/macrohet_syno/PS0000/labels/macrohet_seg_model/(6, 9).h5...\n",
      "[INFO][2024/04/20 11:34:38 am] Loading segmentation (75, 6048, 6048)\n",
      "INFO:btrack.io.hdf:Loading segmentation (75, 6048, 6048)\n",
      "[INFO][2024/04/20 11:34:39 am] Closing HDF file: /mnt/SYNO/macrohet_syno/PS0000/labels/macrohet_seg_model/(6, 9).h5\n",
      "INFO:btrack.io.hdf:Closing HDF file: /mnt/SYNO/macrohet_syno/PS0000/labels/macrohet_seg_model/(6, 9).h5\n"
     ]
    },
    {
     "data": {
      "application/vnd.jupyter.widget-view+json": {
       "model_id": "66ef1d529cb54cb98da9c0cf3b919e13",
       "version_major": 2,
       "version_minor": 0
      },
      "text/plain": [
       "  0%|          | 0/74 [00:00<?, ?it/s]"
      ]
     },
     "metadata": {},
     "output_type": "display_data"
    },
    {
     "name": "stdout",
     "output_type": "stream",
     "text": [
      "Video 519.6.9.PS0000 saved successfully.\n"
     ]
    },
    {
     "name": "stderr",
     "output_type": "stream",
     "text": [
      "[INFO][2024/04/20 11:40:35 am] Opening HDF file: /mnt/SYNO/macrohet_syno/ND0003/labels/cpv3/(3, 4).h5...\n",
      "INFO:btrack.io.hdf:Opening HDF file: /mnt/SYNO/macrohet_syno/ND0003/labels/cpv3/(3, 4).h5...\n",
      "[INFO][2024/04/20 11:41:09 am] Loading segmentation (154, 6048, 6048)\n",
      "INFO:btrack.io.hdf:Loading segmentation (154, 6048, 6048)\n",
      "[INFO][2024/04/20 11:41:10 am] Closing HDF file: /mnt/SYNO/macrohet_syno/ND0003/labels/cpv3/(3, 4).h5\n",
      "INFO:btrack.io.hdf:Closing HDF file: /mnt/SYNO/macrohet_syno/ND0003/labels/cpv3/(3, 4).h5\n"
     ]
    },
    {
     "data": {
      "application/vnd.jupyter.widget-view+json": {
       "model_id": "f02ec364e8df44fd97b5c4a82e394916",
       "version_major": 2,
       "version_minor": 0
      },
      "text/plain": [
       "  0%|          | 0/154 [00:00<?, ?it/s]"
      ]
     },
     "metadata": {},
     "output_type": "display_data"
    },
    {
     "name": "stdout",
     "output_type": "stream",
     "text": [
      "Video 84.3.4.ND0003 saved successfully.\n"
     ]
    },
    {
     "name": "stderr",
     "output_type": "stream",
     "text": [
      "[INFO][2024/04/20 11:52:53 am] Opening HDF file: /mnt/SYNO/macrohet_syno/PS0000/labels/macrohet_seg_model/(3, 7).h5...\n",
      "INFO:btrack.io.hdf:Opening HDF file: /mnt/SYNO/macrohet_syno/PS0000/labels/macrohet_seg_model/(3, 7).h5...\n",
      "[INFO][2024/04/20 11:53:08 am] Loading segmentation (75, 6048, 6048)\n",
      "INFO:btrack.io.hdf:Loading segmentation (75, 6048, 6048)\n",
      "[INFO][2024/04/20 11:53:09 am] Closing HDF file: /mnt/SYNO/macrohet_syno/PS0000/labels/macrohet_seg_model/(3, 7).h5\n",
      "INFO:btrack.io.hdf:Closing HDF file: /mnt/SYNO/macrohet_syno/PS0000/labels/macrohet_seg_model/(3, 7).h5\n"
     ]
    },
    {
     "data": {
      "application/vnd.jupyter.widget-view+json": {
       "model_id": "3205e99be0774039acf628682bb39656",
       "version_major": 2,
       "version_minor": 0
      },
      "text/plain": [
       "  0%|          | 0/75 [00:00<?, ?it/s]"
      ]
     },
     "metadata": {},
     "output_type": "display_data"
    },
    {
     "name": "stdout",
     "output_type": "stream",
     "text": [
      "Video 526.3.7.PS0000 saved successfully.\n"
     ]
    },
    {
     "name": "stderr",
     "output_type": "stream",
     "text": [
      "[INFO][2024/04/20 11:59:00 am] Opening HDF file: /mnt/SYNO/macrohet_syno/ND0003/labels/cpv3/(4, 4).h5...\n",
      "INFO:btrack.io.hdf:Opening HDF file: /mnt/SYNO/macrohet_syno/ND0003/labels/cpv3/(4, 4).h5...\n",
      "[INFO][2024/04/20 11:59:59 am] Loading segmentation (154, 6048, 6048)\n",
      "INFO:btrack.io.hdf:Loading segmentation (154, 6048, 6048)\n",
      "[INFO][2024/04/20 11:59:59 am] Closing HDF file: /mnt/SYNO/macrohet_syno/ND0003/labels/cpv3/(4, 4).h5\n",
      "INFO:btrack.io.hdf:Closing HDF file: /mnt/SYNO/macrohet_syno/ND0003/labels/cpv3/(4, 4).h5\n"
     ]
    },
    {
     "data": {
      "application/vnd.jupyter.widget-view+json": {
       "model_id": "4134d79c78ff44f2ab816993d71aac7d",
       "version_major": 2,
       "version_minor": 0
      },
      "text/plain": [
       "  0%|          | 0/83 [00:00<?, ?it/s]"
      ]
     },
     "metadata": {},
     "output_type": "display_data"
    },
    {
     "name": "stdout",
     "output_type": "stream",
     "text": [
      "Video 3351.4.4.ND0003 saved successfully.\n"
     ]
    },
    {
     "name": "stderr",
     "output_type": "stream",
     "text": [
      "[INFO][2024/04/20 12:06:34 pm] Opening HDF file: /mnt/SYNO/macrohet_syno/ND0002/labels/cpv3/(6, 8).h5...\n",
      "INFO:btrack.io.hdf:Opening HDF file: /mnt/SYNO/macrohet_syno/ND0002/labels/cpv3/(6, 8).h5...\n",
      "[INFO][2024/04/20 12:07:26 pm] Loading segmentation (150, 6048, 6048)\n",
      "INFO:btrack.io.hdf:Loading segmentation (150, 6048, 6048)\n",
      "[INFO][2024/04/20 12:07:26 pm] Closing HDF file: /mnt/SYNO/macrohet_syno/ND0002/labels/cpv3/(6, 8).h5\n",
      "INFO:btrack.io.hdf:Closing HDF file: /mnt/SYNO/macrohet_syno/ND0002/labels/cpv3/(6, 8).h5\n"
     ]
    },
    {
     "data": {
      "application/vnd.jupyter.widget-view+json": {
       "model_id": "22f4e8070336473eaca1fc763bfcc47f",
       "version_major": 2,
       "version_minor": 0
      },
      "text/plain": [
       "  0%|          | 0/113 [00:00<?, ?it/s]"
      ]
     },
     "metadata": {},
     "output_type": "display_data"
    },
    {
     "name": "stdout",
     "output_type": "stream",
     "text": [
      "Video 839.6.8.ND0002 saved successfully.\n"
     ]
    },
    {
     "name": "stderr",
     "output_type": "stream",
     "text": [
      "[INFO][2024/04/20 12:15:37 pm] Opening HDF file: /mnt/SYNO/macrohet_syno/PS0000/labels/macrohet_seg_model/(5, 4).h5...\n",
      "INFO:btrack.io.hdf:Opening HDF file: /mnt/SYNO/macrohet_syno/PS0000/labels/macrohet_seg_model/(5, 4).h5...\n",
      "[INFO][2024/04/20 12:16:02 pm] Loading segmentation (75, 6048, 6048)\n",
      "INFO:btrack.io.hdf:Loading segmentation (75, 6048, 6048)\n",
      "[INFO][2024/04/20 12:16:03 pm] Closing HDF file: /mnt/SYNO/macrohet_syno/PS0000/labels/macrohet_seg_model/(5, 4).h5\n",
      "INFO:btrack.io.hdf:Closing HDF file: /mnt/SYNO/macrohet_syno/PS0000/labels/macrohet_seg_model/(5, 4).h5\n"
     ]
    },
    {
     "data": {
      "application/vnd.jupyter.widget-view+json": {
       "model_id": "323be4433a354ed1b3d735685b75dc37",
       "version_major": 2,
       "version_minor": 0
      },
      "text/plain": [
       "  0%|          | 0/73 [00:00<?, ?it/s]"
      ]
     },
     "metadata": {},
     "output_type": "display_data"
    },
    {
     "name": "stdout",
     "output_type": "stream",
     "text": [
      "Video 493.5.4.PS0000 saved successfully.\n"
     ]
    },
    {
     "name": "stderr",
     "output_type": "stream",
     "text": [
      "[INFO][2024/04/20 12:21:55 pm] Opening HDF file: /mnt/SYNO/macrohet_syno/PS0000/labels/macrohet_seg_model/(3, 9).h5...\n",
      "INFO:btrack.io.hdf:Opening HDF file: /mnt/SYNO/macrohet_syno/PS0000/labels/macrohet_seg_model/(3, 9).h5...\n",
      "[INFO][2024/04/20 12:22:16 pm] Loading segmentation (75, 6048, 6048)\n",
      "INFO:btrack.io.hdf:Loading segmentation (75, 6048, 6048)\n",
      "[INFO][2024/04/20 12:22:16 pm] Closing HDF file: /mnt/SYNO/macrohet_syno/PS0000/labels/macrohet_seg_model/(3, 9).h5\n",
      "INFO:btrack.io.hdf:Closing HDF file: /mnt/SYNO/macrohet_syno/PS0000/labels/macrohet_seg_model/(3, 9).h5\n"
     ]
    },
    {
     "data": {
      "application/vnd.jupyter.widget-view+json": {
       "model_id": "097f8c6553ea42c28130dd7a4920f309",
       "version_major": 2,
       "version_minor": 0
      },
      "text/plain": [
       "  0%|          | 0/74 [00:00<?, ?it/s]"
      ]
     },
     "metadata": {},
     "output_type": "display_data"
    },
    {
     "name": "stdout",
     "output_type": "stream",
     "text": [
      "Video 264.3.9.PS0000 saved successfully.\n"
     ]
    },
    {
     "name": "stderr",
     "output_type": "stream",
     "text": [
      "[INFO][2024/04/20 12:28:33 pm] Opening HDF file: /mnt/SYNO/macrohet_syno/PS0000/labels/macrohet_seg_model/(4, 5).h5...\n",
      "INFO:btrack.io.hdf:Opening HDF file: /mnt/SYNO/macrohet_syno/PS0000/labels/macrohet_seg_model/(4, 5).h5...\n",
      "[INFO][2024/04/20 12:28:56 pm] Loading segmentation (75, 6048, 6048)\n",
      "INFO:btrack.io.hdf:Loading segmentation (75, 6048, 6048)\n",
      "[INFO][2024/04/20 12:28:56 pm] Closing HDF file: /mnt/SYNO/macrohet_syno/PS0000/labels/macrohet_seg_model/(4, 5).h5\n",
      "INFO:btrack.io.hdf:Closing HDF file: /mnt/SYNO/macrohet_syno/PS0000/labels/macrohet_seg_model/(4, 5).h5\n"
     ]
    },
    {
     "data": {
      "application/vnd.jupyter.widget-view+json": {
       "model_id": "edced0b78ed4470394f715f0a0eb0ded",
       "version_major": 2,
       "version_minor": 0
      },
      "text/plain": [
       "  0%|          | 0/75 [00:00<?, ?it/s]"
      ]
     },
     "metadata": {},
     "output_type": "display_data"
    },
    {
     "name": "stdout",
     "output_type": "stream",
     "text": [
      "Video 68.4.5.PS0000 saved successfully.\n"
     ]
    },
    {
     "data": {
      "application/vnd.jupyter.widget-view+json": {
       "model_id": "f5ef1dd4363941f68a4c421f6da69a67",
       "version_major": 2,
       "version_minor": 0
      },
      "text/plain": [
       "  0%|          | 0/75 [00:00<?, ?it/s]"
      ]
     },
     "metadata": {},
     "output_type": "display_data"
    },
    {
     "name": "stdout",
     "output_type": "stream",
     "text": [
      "Video 624.4.5.PS0000 saved successfully.\n"
     ]
    },
    {
     "name": "stderr",
     "output_type": "stream",
     "text": [
      "[INFO][2024/04/20 12:38:05 pm] Opening HDF file: /mnt/SYNO/macrohet_syno/PS0000/labels/macrohet_seg_model/(3, 7).h5...\n",
      "INFO:btrack.io.hdf:Opening HDF file: /mnt/SYNO/macrohet_syno/PS0000/labels/macrohet_seg_model/(3, 7).h5...\n",
      "[INFO][2024/04/20 12:38:19 pm] Loading segmentation (75, 6048, 6048)\n",
      "INFO:btrack.io.hdf:Loading segmentation (75, 6048, 6048)\n",
      "[INFO][2024/04/20 12:38:19 pm] Closing HDF file: /mnt/SYNO/macrohet_syno/PS0000/labels/macrohet_seg_model/(3, 7).h5\n",
      "INFO:btrack.io.hdf:Closing HDF file: /mnt/SYNO/macrohet_syno/PS0000/labels/macrohet_seg_model/(3, 7).h5\n"
     ]
    },
    {
     "data": {
      "application/vnd.jupyter.widget-view+json": {
       "model_id": "1425b24a569849aa97ac3072a23a911c",
       "version_major": 2,
       "version_minor": 0
      },
      "text/plain": [
       "  0%|          | 0/74 [00:00<?, ?it/s]"
      ]
     },
     "metadata": {},
     "output_type": "display_data"
    },
    {
     "name": "stdout",
     "output_type": "stream",
     "text": [
      "Video 658.3.7.PS0000 saved successfully.\n"
     ]
    },
    {
     "name": "stderr",
     "output_type": "stream",
     "text": [
      "[INFO][2024/04/20 12:44:31 pm] Opening HDF file: /mnt/SYNO/macrohet_syno/PS0000/labels/macrohet_seg_model/(3, 9).h5...\n",
      "INFO:btrack.io.hdf:Opening HDF file: /mnt/SYNO/macrohet_syno/PS0000/labels/macrohet_seg_model/(3, 9).h5...\n",
      "[INFO][2024/04/20 12:44:53 pm] Loading segmentation (75, 6048, 6048)\n",
      "INFO:btrack.io.hdf:Loading segmentation (75, 6048, 6048)\n",
      "[INFO][2024/04/20 12:44:53 pm] Closing HDF file: /mnt/SYNO/macrohet_syno/PS0000/labels/macrohet_seg_model/(3, 9).h5\n",
      "INFO:btrack.io.hdf:Closing HDF file: /mnt/SYNO/macrohet_syno/PS0000/labels/macrohet_seg_model/(3, 9).h5\n"
     ]
    },
    {
     "data": {
      "application/vnd.jupyter.widget-view+json": {
       "model_id": "dd558456dc8f4dd3b5ce0b0babeebb84",
       "version_major": 2,
       "version_minor": 0
      },
      "text/plain": [
       "  0%|          | 0/72 [00:00<?, ?it/s]"
      ]
     },
     "metadata": {},
     "output_type": "display_data"
    },
    {
     "name": "stdout",
     "output_type": "stream",
     "text": [
      "Video 435.3.9.PS0000 saved successfully.\n"
     ]
    },
    {
     "name": "stderr",
     "output_type": "stream",
     "text": [
      "[INFO][2024/04/20 12:50:52 pm] Opening HDF file: /mnt/SYNO/macrohet_syno/ND0003/labels/cpv3/(3, 11).h5...\n",
      "INFO:btrack.io.hdf:Opening HDF file: /mnt/SYNO/macrohet_syno/ND0003/labels/cpv3/(3, 11).h5...\n",
      "[INFO][2024/04/20 12:51:33 pm] Loading segmentation (154, 6048, 6048)\n",
      "INFO:btrack.io.hdf:Loading segmentation (154, 6048, 6048)\n",
      "[INFO][2024/04/20 12:51:33 pm] Closing HDF file: /mnt/SYNO/macrohet_syno/ND0003/labels/cpv3/(3, 11).h5\n",
      "INFO:btrack.io.hdf:Closing HDF file: /mnt/SYNO/macrohet_syno/ND0003/labels/cpv3/(3, 11).h5\n"
     ]
    },
    {
     "data": {
      "application/vnd.jupyter.widget-view+json": {
       "model_id": "f87c8189564946489c95b763a866f82c",
       "version_major": 2,
       "version_minor": 0
      },
      "text/plain": [
       "  0%|          | 0/129 [00:00<?, ?it/s]"
      ]
     },
     "metadata": {},
     "output_type": "display_data"
    },
    {
     "name": "stdout",
     "output_type": "stream",
     "text": [
      "Video 288.3.11.ND0003 saved successfully.\n"
     ]
    },
    {
     "data": {
      "application/vnd.jupyter.widget-view+json": {
       "model_id": "269e0ebbefc24360bb57c768e34b012c",
       "version_major": 2,
       "version_minor": 0
      },
      "text/plain": [
       "  0%|          | 0/143 [00:00<?, ?it/s]"
      ]
     },
     "metadata": {},
     "output_type": "display_data"
    },
    {
     "name": "stdout",
     "output_type": "stream",
     "text": [
      "Video 970.3.11.ND0003 saved successfully.\n"
     ]
    },
    {
     "name": "stderr",
     "output_type": "stream",
     "text": [
      "[INFO][2024/04/20 01:09:30 pm] Opening HDF file: /mnt/SYNO/macrohet_syno/PS0000/labels/macrohet_seg_model/(6, 8).h5...\n",
      "INFO:btrack.io.hdf:Opening HDF file: /mnt/SYNO/macrohet_syno/PS0000/labels/macrohet_seg_model/(6, 8).h5...\n",
      "[INFO][2024/04/20 01:09:40 pm] Loading segmentation (75, 6048, 6048)\n",
      "INFO:btrack.io.hdf:Loading segmentation (75, 6048, 6048)\n",
      "[INFO][2024/04/20 01:09:41 pm] Closing HDF file: /mnt/SYNO/macrohet_syno/PS0000/labels/macrohet_seg_model/(6, 8).h5\n",
      "INFO:btrack.io.hdf:Closing HDF file: /mnt/SYNO/macrohet_syno/PS0000/labels/macrohet_seg_model/(6, 8).h5\n"
     ]
    },
    {
     "data": {
      "application/vnd.jupyter.widget-view+json": {
       "model_id": "bb49de3b111b4d45a21891ddf1368b44",
       "version_major": 2,
       "version_minor": 0
      },
      "text/plain": [
       "  0%|          | 0/71 [00:00<?, ?it/s]"
      ]
     },
     "metadata": {},
     "output_type": "display_data"
    },
    {
     "name": "stdout",
     "output_type": "stream",
     "text": [
      "Video 840.6.8.PS0000 saved successfully.\n"
     ]
    },
    {
     "name": "stderr",
     "output_type": "stream",
     "text": [
      "[INFO][2024/04/20 01:15:10 pm] Opening HDF file: /mnt/SYNO/macrohet_syno/PS0000/labels/macrohet_seg_model/(3, 8).h5...\n",
      "INFO:btrack.io.hdf:Opening HDF file: /mnt/SYNO/macrohet_syno/PS0000/labels/macrohet_seg_model/(3, 8).h5...\n",
      "[INFO][2024/04/20 01:15:21 pm] Loading segmentation (75, 6048, 6048)\n",
      "INFO:btrack.io.hdf:Loading segmentation (75, 6048, 6048)\n",
      "[INFO][2024/04/20 01:15:21 pm] Closing HDF file: /mnt/SYNO/macrohet_syno/PS0000/labels/macrohet_seg_model/(3, 8).h5\n",
      "INFO:btrack.io.hdf:Closing HDF file: /mnt/SYNO/macrohet_syno/PS0000/labels/macrohet_seg_model/(3, 8).h5\n"
     ]
    },
    {
     "data": {
      "application/vnd.jupyter.widget-view+json": {
       "model_id": "fa3d3440ceb74bc890efab8cace70ede",
       "version_major": 2,
       "version_minor": 0
      },
      "text/plain": [
       "  0%|          | 0/75 [00:00<?, ?it/s]"
      ]
     },
     "metadata": {},
     "output_type": "display_data"
    },
    {
     "name": "stdout",
     "output_type": "stream",
     "text": [
      "Video 675.3.8.PS0000 saved successfully.\n"
     ]
    },
    {
     "name": "stderr",
     "output_type": "stream",
     "text": [
      "[INFO][2024/04/20 01:21:06 pm] Opening HDF file: /mnt/SYNO/macrohet_syno/PS0000/labels/macrohet_seg_model/(3, 5).h5...\n",
      "INFO:btrack.io.hdf:Opening HDF file: /mnt/SYNO/macrohet_syno/PS0000/labels/macrohet_seg_model/(3, 5).h5...\n",
      "[INFO][2024/04/20 01:21:16 pm] Loading segmentation (75, 6048, 6048)\n",
      "INFO:btrack.io.hdf:Loading segmentation (75, 6048, 6048)\n",
      "[INFO][2024/04/20 01:21:16 pm] Closing HDF file: /mnt/SYNO/macrohet_syno/PS0000/labels/macrohet_seg_model/(3, 5).h5\n",
      "INFO:btrack.io.hdf:Closing HDF file: /mnt/SYNO/macrohet_syno/PS0000/labels/macrohet_seg_model/(3, 5).h5\n"
     ]
    },
    {
     "data": {
      "application/vnd.jupyter.widget-view+json": {
       "model_id": "420b2b4a4c0840d0aabd7e718d4ffef3",
       "version_major": 2,
       "version_minor": 0
      },
      "text/plain": [
       "  0%|          | 0/75 [00:00<?, ?it/s]"
      ]
     },
     "metadata": {},
     "output_type": "display_data"
    },
    {
     "name": "stdout",
     "output_type": "stream",
     "text": [
      "Video 366.3.5.PS0000 saved successfully.\n"
     ]
    },
    {
     "name": "stderr",
     "output_type": "stream",
     "text": [
      "[INFO][2024/04/20 01:27:30 pm] Opening HDF file: /mnt/SYNO/macrohet_syno/PS0000/labels/macrohet_seg_model/(3, 7).h5...\n",
      "INFO:btrack.io.hdf:Opening HDF file: /mnt/SYNO/macrohet_syno/PS0000/labels/macrohet_seg_model/(3, 7).h5...\n",
      "[INFO][2024/04/20 01:27:53 pm] Loading segmentation (75, 6048, 6048)\n",
      "INFO:btrack.io.hdf:Loading segmentation (75, 6048, 6048)\n",
      "[INFO][2024/04/20 01:27:53 pm] Closing HDF file: /mnt/SYNO/macrohet_syno/PS0000/labels/macrohet_seg_model/(3, 7).h5\n",
      "INFO:btrack.io.hdf:Closing HDF file: /mnt/SYNO/macrohet_syno/PS0000/labels/macrohet_seg_model/(3, 7).h5\n"
     ]
    },
    {
     "data": {
      "application/vnd.jupyter.widget-view+json": {
       "model_id": "72b3e7b3cccd4bdfbbf91c9bb89e4578",
       "version_major": 2,
       "version_minor": 0
      },
      "text/plain": [
       "  0%|          | 0/75 [00:00<?, ?it/s]"
      ]
     },
     "metadata": {},
     "output_type": "display_data"
    },
    {
     "name": "stdout",
     "output_type": "stream",
     "text": [
      "Video 412.3.7.PS0000 saved successfully.\n"
     ]
    },
    {
     "name": "stderr",
     "output_type": "stream",
     "text": [
      "[INFO][2024/04/20 01:33:42 pm] Opening HDF file: /mnt/SYNO/macrohet_syno/PS0000/labels/macrohet_seg_model/(4, 5).h5...\n",
      "INFO:btrack.io.hdf:Opening HDF file: /mnt/SYNO/macrohet_syno/PS0000/labels/macrohet_seg_model/(4, 5).h5...\n",
      "[INFO][2024/04/20 01:33:54 pm] Loading segmentation (75, 6048, 6048)\n",
      "INFO:btrack.io.hdf:Loading segmentation (75, 6048, 6048)\n",
      "[INFO][2024/04/20 01:33:55 pm] Closing HDF file: /mnt/SYNO/macrohet_syno/PS0000/labels/macrohet_seg_model/(4, 5).h5\n",
      "INFO:btrack.io.hdf:Closing HDF file: /mnt/SYNO/macrohet_syno/PS0000/labels/macrohet_seg_model/(4, 5).h5\n"
     ]
    },
    {
     "data": {
      "application/vnd.jupyter.widget-view+json": {
       "model_id": "e5a9f4cb1ba24e3596add939373d6bc3",
       "version_major": 2,
       "version_minor": 0
      },
      "text/plain": [
       "  0%|          | 0/75 [00:00<?, ?it/s]"
      ]
     },
     "metadata": {},
     "output_type": "display_data"
    },
    {
     "name": "stdout",
     "output_type": "stream",
     "text": [
      "Video 331.4.5.PS0000 saved successfully.\n"
     ]
    },
    {
     "name": "stderr",
     "output_type": "stream",
     "text": [
      "[INFO][2024/04/20 01:40:23 pm] Opening HDF file: /mnt/SYNO/macrohet_syno/PS0000/labels/macrohet_seg_model/(3, 8).h5...\n",
      "INFO:btrack.io.hdf:Opening HDF file: /mnt/SYNO/macrohet_syno/PS0000/labels/macrohet_seg_model/(3, 8).h5...\n",
      "[INFO][2024/04/20 01:40:47 pm] Loading segmentation (75, 6048, 6048)\n",
      "INFO:btrack.io.hdf:Loading segmentation (75, 6048, 6048)\n",
      "[INFO][2024/04/20 01:40:47 pm] Closing HDF file: /mnt/SYNO/macrohet_syno/PS0000/labels/macrohet_seg_model/(3, 8).h5\n",
      "INFO:btrack.io.hdf:Closing HDF file: /mnt/SYNO/macrohet_syno/PS0000/labels/macrohet_seg_model/(3, 8).h5\n"
     ]
    },
    {
     "data": {
      "application/vnd.jupyter.widget-view+json": {
       "model_id": "044114c99be6494cbe3bb014c6b17f29",
       "version_major": 2,
       "version_minor": 0
      },
      "text/plain": [
       "  0%|          | 0/74 [00:00<?, ?it/s]"
      ]
     },
     "metadata": {},
     "output_type": "display_data"
    },
    {
     "name": "stdout",
     "output_type": "stream",
     "text": [
      "Video 54.3.8.PS0000 saved successfully.\n"
     ]
    },
    {
     "name": "stderr",
     "output_type": "stream",
     "text": [
      "[INFO][2024/04/20 01:46:13 pm] Opening HDF file: /mnt/SYNO/macrohet_syno/PS0000/labels/macrohet_seg_model/(3, 5).h5...\n",
      "INFO:btrack.io.hdf:Opening HDF file: /mnt/SYNO/macrohet_syno/PS0000/labels/macrohet_seg_model/(3, 5).h5...\n",
      "[INFO][2024/04/20 01:46:26 pm] Loading segmentation (75, 6048, 6048)\n",
      "INFO:btrack.io.hdf:Loading segmentation (75, 6048, 6048)\n",
      "[INFO][2024/04/20 01:46:26 pm] Closing HDF file: /mnt/SYNO/macrohet_syno/PS0000/labels/macrohet_seg_model/(3, 5).h5\n",
      "INFO:btrack.io.hdf:Closing HDF file: /mnt/SYNO/macrohet_syno/PS0000/labels/macrohet_seg_model/(3, 5).h5\n"
     ]
    },
    {
     "data": {
      "application/vnd.jupyter.widget-view+json": {
       "model_id": "2016af2f82844c9c917831fccaa99201",
       "version_major": 2,
       "version_minor": 0
      },
      "text/plain": [
       "  0%|          | 0/75 [00:00<?, ?it/s]"
      ]
     },
     "metadata": {},
     "output_type": "display_data"
    },
    {
     "name": "stdout",
     "output_type": "stream",
     "text": [
      "Video 481.3.5.PS0000 saved successfully.\n"
     ]
    },
    {
     "name": "stderr",
     "output_type": "stream",
     "text": [
      "[INFO][2024/04/20 01:52:02 pm] Opening HDF file: /mnt/SYNO/macrohet_syno/PS0000/labels/macrohet_seg_model/(5, 5).h5...\n",
      "INFO:btrack.io.hdf:Opening HDF file: /mnt/SYNO/macrohet_syno/PS0000/labels/macrohet_seg_model/(5, 5).h5...\n",
      "[INFO][2024/04/20 01:52:13 pm] Loading segmentation (75, 6048, 6048)\n",
      "INFO:btrack.io.hdf:Loading segmentation (75, 6048, 6048)\n",
      "[INFO][2024/04/20 01:52:13 pm] Closing HDF file: /mnt/SYNO/macrohet_syno/PS0000/labels/macrohet_seg_model/(5, 5).h5\n",
      "INFO:btrack.io.hdf:Closing HDF file: /mnt/SYNO/macrohet_syno/PS0000/labels/macrohet_seg_model/(5, 5).h5\n"
     ]
    },
    {
     "data": {
      "application/vnd.jupyter.widget-view+json": {
       "model_id": "70ee93ee26a7406e8c2e4aeb1858cd10",
       "version_major": 2,
       "version_minor": 0
      },
      "text/plain": [
       "  0%|          | 0/74 [00:00<?, ?it/s]"
      ]
     },
     "metadata": {},
     "output_type": "display_data"
    },
    {
     "name": "stdout",
     "output_type": "stream",
     "text": [
      "Video 387.5.5.PS0000 saved successfully.\n"
     ]
    },
    {
     "name": "stderr",
     "output_type": "stream",
     "text": [
      "[INFO][2024/04/20 01:58:27 pm] Opening HDF file: /mnt/SYNO/macrohet_syno/PS0000/labels/macrohet_seg_model/(4, 9).h5...\n",
      "INFO:btrack.io.hdf:Opening HDF file: /mnt/SYNO/macrohet_syno/PS0000/labels/macrohet_seg_model/(4, 9).h5...\n",
      "[INFO][2024/04/20 01:58:38 pm] Loading segmentation (75, 6048, 6048)\n",
      "INFO:btrack.io.hdf:Loading segmentation (75, 6048, 6048)\n",
      "[INFO][2024/04/20 01:58:38 pm] Closing HDF file: /mnt/SYNO/macrohet_syno/PS0000/labels/macrohet_seg_model/(4, 9).h5\n",
      "INFO:btrack.io.hdf:Closing HDF file: /mnt/SYNO/macrohet_syno/PS0000/labels/macrohet_seg_model/(4, 9).h5\n"
     ]
    },
    {
     "data": {
      "application/vnd.jupyter.widget-view+json": {
       "model_id": "7a9afd068f6c45eeb3138029c6ba68e6",
       "version_major": 2,
       "version_minor": 0
      },
      "text/plain": [
       "  0%|          | 0/74 [00:00<?, ?it/s]"
      ]
     },
     "metadata": {},
     "output_type": "display_data"
    },
    {
     "name": "stdout",
     "output_type": "stream",
     "text": [
      "Video 473.4.9.PS0000 saved successfully.\n"
     ]
    },
    {
     "name": "stderr",
     "output_type": "stream",
     "text": [
      "[INFO][2024/04/20 02:04:54 pm] Opening HDF file: /mnt/SYNO/macrohet_syno/ND0003/labels/cpv3/(5, 12).h5...\n",
      "INFO:btrack.io.hdf:Opening HDF file: /mnt/SYNO/macrohet_syno/ND0003/labels/cpv3/(5, 12).h5...\n",
      "[INFO][2024/04/20 02:05:30 pm] Loading segmentation (154, 6048, 6048)\n",
      "INFO:btrack.io.hdf:Loading segmentation (154, 6048, 6048)\n",
      "[INFO][2024/04/20 02:05:30 pm] Closing HDF file: /mnt/SYNO/macrohet_syno/ND0003/labels/cpv3/(5, 12).h5\n",
      "INFO:btrack.io.hdf:Closing HDF file: /mnt/SYNO/macrohet_syno/ND0003/labels/cpv3/(5, 12).h5\n"
     ]
    },
    {
     "data": {
      "application/vnd.jupyter.widget-view+json": {
       "model_id": "b7495e98ac3f49449edea471da3aeef7",
       "version_major": 2,
       "version_minor": 0
      },
      "text/plain": [
       "  0%|          | 0/108 [00:00<?, ?it/s]"
      ]
     },
     "metadata": {},
     "output_type": "display_data"
    },
    {
     "name": "stdout",
     "output_type": "stream",
     "text": [
      "Video 2137.5.12.ND0003 saved successfully.\n"
     ]
    },
    {
     "name": "stderr",
     "output_type": "stream",
     "text": [
      "[INFO][2024/04/20 02:14:03 pm] Opening HDF file: /mnt/SYNO/macrohet_syno/PS0000/labels/macrohet_seg_model/(4, 5).h5...\n",
      "INFO:btrack.io.hdf:Opening HDF file: /mnt/SYNO/macrohet_syno/PS0000/labels/macrohet_seg_model/(4, 5).h5...\n",
      "[INFO][2024/04/20 02:14:15 pm] Loading segmentation (75, 6048, 6048)\n",
      "INFO:btrack.io.hdf:Loading segmentation (75, 6048, 6048)\n",
      "[INFO][2024/04/20 02:14:15 pm] Closing HDF file: /mnt/SYNO/macrohet_syno/PS0000/labels/macrohet_seg_model/(4, 5).h5\n",
      "INFO:btrack.io.hdf:Closing HDF file: /mnt/SYNO/macrohet_syno/PS0000/labels/macrohet_seg_model/(4, 5).h5\n"
     ]
    },
    {
     "data": {
      "application/vnd.jupyter.widget-view+json": {
       "model_id": "a68b6bce7a0e4958836e79c2b3836e83",
       "version_major": 2,
       "version_minor": 0
      },
      "text/plain": [
       "  0%|          | 0/75 [00:00<?, ?it/s]"
      ]
     },
     "metadata": {},
     "output_type": "display_data"
    },
    {
     "name": "stdout",
     "output_type": "stream",
     "text": [
      "Video 542.4.5.PS0000 saved successfully.\n"
     ]
    },
    {
     "name": "stderr",
     "output_type": "stream",
     "text": [
      "[INFO][2024/04/20 02:20:49 pm] Opening HDF file: /mnt/SYNO/macrohet_syno/PS0000/labels/macrohet_seg_model/(3, 5).h5...\n",
      "INFO:btrack.io.hdf:Opening HDF file: /mnt/SYNO/macrohet_syno/PS0000/labels/macrohet_seg_model/(3, 5).h5...\n",
      "[INFO][2024/04/20 02:21:02 pm] Loading segmentation (75, 6048, 6048)\n",
      "INFO:btrack.io.hdf:Loading segmentation (75, 6048, 6048)\n",
      "[INFO][2024/04/20 02:21:02 pm] Closing HDF file: /mnt/SYNO/macrohet_syno/PS0000/labels/macrohet_seg_model/(3, 5).h5\n",
      "INFO:btrack.io.hdf:Closing HDF file: /mnt/SYNO/macrohet_syno/PS0000/labels/macrohet_seg_model/(3, 5).h5\n"
     ]
    },
    {
     "data": {
      "application/vnd.jupyter.widget-view+json": {
       "model_id": "ca83f23765674e09b6aa2c9dcf472a8c",
       "version_major": 2,
       "version_minor": 0
      },
      "text/plain": [
       "  0%|          | 0/75 [00:00<?, ?it/s]"
      ]
     },
     "metadata": {},
     "output_type": "display_data"
    },
    {
     "name": "stdout",
     "output_type": "stream",
     "text": [
      "Video 268.3.5.PS0000 saved successfully.\n"
     ]
    },
    {
     "data": {
      "application/vnd.jupyter.widget-view+json": {
       "model_id": "c8b18061623c4068a67a96649b2de967",
       "version_major": 2,
       "version_minor": 0
      },
      "text/plain": [
       "  0%|          | 0/74 [00:00<?, ?it/s]"
      ]
     },
     "metadata": {},
     "output_type": "display_data"
    },
    {
     "name": "stdout",
     "output_type": "stream",
     "text": [
      "Video 438.3.5.PS0000 saved successfully.\n"
     ]
    },
    {
     "name": "stderr",
     "output_type": "stream",
     "text": [
      "[INFO][2024/04/20 02:32:32 pm] Opening HDF file: /mnt/SYNO/macrohet_syno/ND0003/labels/cpv3/(6, 8).h5...\n",
      "INFO:btrack.io.hdf:Opening HDF file: /mnt/SYNO/macrohet_syno/ND0003/labels/cpv3/(6, 8).h5...\n",
      "[INFO][2024/04/20 02:33:25 pm] Loading segmentation (154, 6048, 6048)\n",
      "INFO:btrack.io.hdf:Loading segmentation (154, 6048, 6048)\n",
      "[INFO][2024/04/20 02:33:25 pm] Closing HDF file: /mnt/SYNO/macrohet_syno/ND0003/labels/cpv3/(6, 8).h5\n",
      "INFO:btrack.io.hdf:Closing HDF file: /mnt/SYNO/macrohet_syno/ND0003/labels/cpv3/(6, 8).h5\n"
     ]
    },
    {
     "data": {
      "application/vnd.jupyter.widget-view+json": {
       "model_id": "2fbd957830ad4fcdaf2a2811124e1224",
       "version_major": 2,
       "version_minor": 0
      },
      "text/plain": [
       "  0%|          | 0/71 [00:00<?, ?it/s]"
      ]
     },
     "metadata": {},
     "output_type": "display_data"
    },
    {
     "name": "stdout",
     "output_type": "stream",
     "text": [
      "Video 2774.6.8.ND0003 saved successfully.\n"
     ]
    },
    {
     "name": "stderr",
     "output_type": "stream",
     "text": [
      "[INFO][2024/04/20 02:39:11 pm] Opening HDF file: /mnt/SYNO/macrohet_syno/ND0003/labels/cpv3/(4, 9).h5...\n",
      "INFO:btrack.io.hdf:Opening HDF file: /mnt/SYNO/macrohet_syno/ND0003/labels/cpv3/(4, 9).h5...\n",
      "[INFO][2024/04/20 02:39:56 pm] Loading segmentation (154, 6048, 6048)\n",
      "INFO:btrack.io.hdf:Loading segmentation (154, 6048, 6048)\n",
      "[INFO][2024/04/20 02:39:57 pm] Closing HDF file: /mnt/SYNO/macrohet_syno/ND0003/labels/cpv3/(4, 9).h5\n",
      "INFO:btrack.io.hdf:Closing HDF file: /mnt/SYNO/macrohet_syno/ND0003/labels/cpv3/(4, 9).h5\n"
     ]
    },
    {
     "data": {
      "application/vnd.jupyter.widget-view+json": {
       "model_id": "1f5ca11d506d409f9aa347feb4927b84",
       "version_major": 2,
       "version_minor": 0
      },
      "text/plain": [
       "  0%|          | 0/70 [00:00<?, ?it/s]"
      ]
     },
     "metadata": {},
     "output_type": "display_data"
    },
    {
     "name": "stdout",
     "output_type": "stream",
     "text": [
      "Video 3151.4.9.ND0003 saved successfully.\n"
     ]
    },
    {
     "name": "stderr",
     "output_type": "stream",
     "text": [
      "[INFO][2024/04/20 02:45:54 pm] Opening HDF file: /mnt/SYNO/macrohet_syno/PS0000/labels/macrohet_seg_model/(6, 5).h5...\n",
      "INFO:btrack.io.hdf:Opening HDF file: /mnt/SYNO/macrohet_syno/PS0000/labels/macrohet_seg_model/(6, 5).h5...\n",
      "[INFO][2024/04/20 02:46:19 pm] Loading segmentation (75, 6048, 6048)\n",
      "INFO:btrack.io.hdf:Loading segmentation (75, 6048, 6048)\n",
      "[INFO][2024/04/20 02:46:20 pm] Closing HDF file: /mnt/SYNO/macrohet_syno/PS0000/labels/macrohet_seg_model/(6, 5).h5\n",
      "INFO:btrack.io.hdf:Closing HDF file: /mnt/SYNO/macrohet_syno/PS0000/labels/macrohet_seg_model/(6, 5).h5\n"
     ]
    },
    {
     "data": {
      "application/vnd.jupyter.widget-view+json": {
       "model_id": "13427237799d432c8f6a50ac5a3ab3d8",
       "version_major": 2,
       "version_minor": 0
      },
      "text/plain": [
       "  0%|          | 0/75 [00:00<?, ?it/s]"
      ]
     },
     "metadata": {},
     "output_type": "display_data"
    },
    {
     "name": "stdout",
     "output_type": "stream",
     "text": [
      "Video 651.6.5.PS0000 saved successfully.\n"
     ]
    },
    {
     "name": "stderr",
     "output_type": "stream",
     "text": [
      "[INFO][2024/04/20 02:52:42 pm] Opening HDF file: /mnt/SYNO/macrohet_syno/PS0000/labels/macrohet_seg_model/(3, 5).h5...\n",
      "INFO:btrack.io.hdf:Opening HDF file: /mnt/SYNO/macrohet_syno/PS0000/labels/macrohet_seg_model/(3, 5).h5...\n",
      "[INFO][2024/04/20 02:53:08 pm] Loading segmentation (75, 6048, 6048)\n",
      "INFO:btrack.io.hdf:Loading segmentation (75, 6048, 6048)\n",
      "[INFO][2024/04/20 02:53:09 pm] Closing HDF file: /mnt/SYNO/macrohet_syno/PS0000/labels/macrohet_seg_model/(3, 5).h5\n",
      "INFO:btrack.io.hdf:Closing HDF file: /mnt/SYNO/macrohet_syno/PS0000/labels/macrohet_seg_model/(3, 5).h5\n"
     ]
    },
    {
     "data": {
      "application/vnd.jupyter.widget-view+json": {
       "model_id": "52ab49263bbd411d9b256b11c0ad01b2",
       "version_major": 2,
       "version_minor": 0
      },
      "text/plain": [
       "  0%|          | 0/75 [00:00<?, ?it/s]"
      ]
     },
     "metadata": {},
     "output_type": "display_data"
    },
    {
     "name": "stdout",
     "output_type": "stream",
     "text": [
      "Video 44.3.5.PS0000 saved successfully.\n"
     ]
    },
    {
     "name": "stderr",
     "output_type": "stream",
     "text": [
      "[INFO][2024/04/20 02:59:01 pm] Opening HDF file: /mnt/SYNO/macrohet_syno/ND0003/labels/cpv3/(3, 4).h5...\n",
      "INFO:btrack.io.hdf:Opening HDF file: /mnt/SYNO/macrohet_syno/ND0003/labels/cpv3/(3, 4).h5...\n",
      "[INFO][2024/04/20 02:59:52 pm] Loading segmentation (154, 6048, 6048)\n",
      "INFO:btrack.io.hdf:Loading segmentation (154, 6048, 6048)\n",
      "[INFO][2024/04/20 02:59:52 pm] Closing HDF file: /mnt/SYNO/macrohet_syno/ND0003/labels/cpv3/(3, 4).h5\n",
      "INFO:btrack.io.hdf:Closing HDF file: /mnt/SYNO/macrohet_syno/ND0003/labels/cpv3/(3, 4).h5\n"
     ]
    },
    {
     "data": {
      "application/vnd.jupyter.widget-view+json": {
       "model_id": "5b00d0a10f964e9abbedbc463401b2f1",
       "version_major": 2,
       "version_minor": 0
      },
      "text/plain": [
       "  0%|          | 0/86 [00:00<?, ?it/s]"
      ]
     },
     "metadata": {},
     "output_type": "display_data"
    },
    {
     "name": "stdout",
     "output_type": "stream",
     "text": [
      "Video 2720.3.4.ND0003 saved successfully.\n"
     ]
    },
    {
     "data": {
      "application/vnd.jupyter.widget-view+json": {
       "model_id": "46e60f3732da4a31b9e6c7501413397e",
       "version_major": 2,
       "version_minor": 0
      },
      "text/plain": [
       "  0%|          | 0/75 [00:00<?, ?it/s]"
      ]
     },
     "metadata": {},
     "output_type": "display_data"
    },
    {
     "name": "stdout",
     "output_type": "stream",
     "text": [
      "Video 552.3.4.PS0000 saved successfully.\n"
     ]
    },
    {
     "name": "stderr",
     "output_type": "stream",
     "text": [
      "[INFO][2024/04/20 03:12:00 pm] Opening HDF file: /mnt/SYNO/macrohet_syno/PS0000/labels/macrohet_seg_model/(3, 9).h5...\n",
      "INFO:btrack.io.hdf:Opening HDF file: /mnt/SYNO/macrohet_syno/PS0000/labels/macrohet_seg_model/(3, 9).h5...\n",
      "[INFO][2024/04/20 03:12:22 pm] Loading segmentation (75, 6048, 6048)\n",
      "INFO:btrack.io.hdf:Loading segmentation (75, 6048, 6048)\n",
      "[INFO][2024/04/20 03:12:23 pm] Closing HDF file: /mnt/SYNO/macrohet_syno/PS0000/labels/macrohet_seg_model/(3, 9).h5\n",
      "INFO:btrack.io.hdf:Closing HDF file: /mnt/SYNO/macrohet_syno/PS0000/labels/macrohet_seg_model/(3, 9).h5\n"
     ]
    },
    {
     "data": {
      "application/vnd.jupyter.widget-view+json": {
       "model_id": "672283926a2b48e7a25135c211e58c90",
       "version_major": 2,
       "version_minor": 0
      },
      "text/plain": [
       "  0%|          | 0/71 [00:00<?, ?it/s]"
      ]
     },
     "metadata": {},
     "output_type": "display_data"
    },
    {
     "name": "stdout",
     "output_type": "stream",
     "text": [
      "Video 931.3.9.PS0000 saved successfully.\n"
     ]
    },
    {
     "name": "stderr",
     "output_type": "stream",
     "text": [
      "[INFO][2024/04/20 03:18:11 pm] Opening HDF file: /mnt/SYNO/macrohet_syno/ND0003/labels/cpv3/(3, 4).h5...\n",
      "INFO:btrack.io.hdf:Opening HDF file: /mnt/SYNO/macrohet_syno/ND0003/labels/cpv3/(3, 4).h5...\n",
      "[INFO][2024/04/20 03:18:58 pm] Loading segmentation (154, 6048, 6048)\n",
      "INFO:btrack.io.hdf:Loading segmentation (154, 6048, 6048)\n",
      "[INFO][2024/04/20 03:18:59 pm] Closing HDF file: /mnt/SYNO/macrohet_syno/ND0003/labels/cpv3/(3, 4).h5\n",
      "INFO:btrack.io.hdf:Closing HDF file: /mnt/SYNO/macrohet_syno/ND0003/labels/cpv3/(3, 4).h5\n"
     ]
    },
    {
     "data": {
      "application/vnd.jupyter.widget-view+json": {
       "model_id": "ec0af4fddcba451c8294ae12fdba6f05",
       "version_major": 2,
       "version_minor": 0
      },
      "text/plain": [
       "  0%|          | 0/154 [00:00<?, ?it/s]"
      ]
     },
     "metadata": {},
     "output_type": "display_data"
    },
    {
     "name": "stdout",
     "output_type": "stream",
     "text": [
      "Video 65.3.4.ND0003 saved successfully.\n"
     ]
    },
    {
     "name": "stderr",
     "output_type": "stream",
     "text": [
      "[INFO][2024/04/20 03:30:39 pm] Opening HDF file: /mnt/SYNO/macrohet_syno/ND0003/labels/cpv3/(3, 8).h5...\n",
      "INFO:btrack.io.hdf:Opening HDF file: /mnt/SYNO/macrohet_syno/ND0003/labels/cpv3/(3, 8).h5...\n",
      "[INFO][2024/04/20 03:31:24 pm] Loading segmentation (154, 6048, 6048)\n",
      "INFO:btrack.io.hdf:Loading segmentation (154, 6048, 6048)\n",
      "[INFO][2024/04/20 03:31:24 pm] Closing HDF file: /mnt/SYNO/macrohet_syno/ND0003/labels/cpv3/(3, 8).h5\n",
      "INFO:btrack.io.hdf:Closing HDF file: /mnt/SYNO/macrohet_syno/ND0003/labels/cpv3/(3, 8).h5\n"
     ]
    },
    {
     "data": {
      "application/vnd.jupyter.widget-view+json": {
       "model_id": "3356627dc8864d3dbc4ddafd7481825b",
       "version_major": 2,
       "version_minor": 0
      },
      "text/plain": [
       "  0%|          | 0/104 [00:00<?, ?it/s]"
      ]
     },
     "metadata": {},
     "output_type": "display_data"
    },
    {
     "name": "stdout",
     "output_type": "stream",
     "text": [
      "Video 2557.3.8.ND0003 saved successfully.\n"
     ]
    },
    {
     "name": "stderr",
     "output_type": "stream",
     "text": [
      "[INFO][2024/04/20 03:39:14 pm] Opening HDF file: /mnt/SYNO/macrohet_syno/ND0003/labels/cpv3/(3, 3).h5...\n",
      "INFO:btrack.io.hdf:Opening HDF file: /mnt/SYNO/macrohet_syno/ND0003/labels/cpv3/(3, 3).h5...\n",
      "[INFO][2024/04/20 03:39:57 pm] Loading segmentation (154, 6048, 6048)\n",
      "INFO:btrack.io.hdf:Loading segmentation (154, 6048, 6048)\n",
      "[INFO][2024/04/20 03:39:57 pm] Closing HDF file: /mnt/SYNO/macrohet_syno/ND0003/labels/cpv3/(3, 3).h5\n",
      "INFO:btrack.io.hdf:Closing HDF file: /mnt/SYNO/macrohet_syno/ND0003/labels/cpv3/(3, 3).h5\n"
     ]
    },
    {
     "data": {
      "application/vnd.jupyter.widget-view+json": {
       "model_id": "ea846cf26017442abb9f3aae1be7079b",
       "version_major": 2,
       "version_minor": 0
      },
      "text/plain": [
       "  0%|          | 0/128 [00:00<?, ?it/s]"
      ]
     },
     "metadata": {},
     "output_type": "display_data"
    },
    {
     "name": "stdout",
     "output_type": "stream",
     "text": [
      "Video 1551.3.3.ND0003 saved successfully.\n"
     ]
    },
    {
     "name": "stderr",
     "output_type": "stream",
     "text": [
      "[INFO][2024/04/20 03:50:18 pm] Opening HDF file: /mnt/SYNO/macrohet_syno/PS0000/labels/macrohet_seg_model/(4, 9).h5...\n",
      "INFO:btrack.io.hdf:Opening HDF file: /mnt/SYNO/macrohet_syno/PS0000/labels/macrohet_seg_model/(4, 9).h5...\n",
      "[INFO][2024/04/20 03:50:41 pm] Loading segmentation (75, 6048, 6048)\n",
      "INFO:btrack.io.hdf:Loading segmentation (75, 6048, 6048)\n",
      "[INFO][2024/04/20 03:50:42 pm] Closing HDF file: /mnt/SYNO/macrohet_syno/PS0000/labels/macrohet_seg_model/(4, 9).h5\n",
      "INFO:btrack.io.hdf:Closing HDF file: /mnt/SYNO/macrohet_syno/PS0000/labels/macrohet_seg_model/(4, 9).h5\n"
     ]
    },
    {
     "data": {
      "application/vnd.jupyter.widget-view+json": {
       "model_id": "4d4287d5b9d94159964d089449e45bbf",
       "version_major": 2,
       "version_minor": 0
      },
      "text/plain": [
       "  0%|          | 0/71 [00:00<?, ?it/s]"
      ]
     },
     "metadata": {},
     "output_type": "display_data"
    },
    {
     "name": "stdout",
     "output_type": "stream",
     "text": [
      "Video 983.4.9.PS0000 saved successfully.\n"
     ]
    },
    {
     "name": "stderr",
     "output_type": "stream",
     "text": [
      "[INFO][2024/04/20 03:56:47 pm] Opening HDF file: /mnt/SYNO/macrohet_syno/ND0003/labels/cpv3/(3, 6).h5...\n",
      "INFO:btrack.io.hdf:Opening HDF file: /mnt/SYNO/macrohet_syno/ND0003/labels/cpv3/(3, 6).h5...\n",
      "[INFO][2024/04/20 03:57:35 pm] Loading segmentation (154, 6048, 6048)\n",
      "INFO:btrack.io.hdf:Loading segmentation (154, 6048, 6048)\n",
      "[INFO][2024/04/20 03:57:35 pm] Closing HDF file: /mnt/SYNO/macrohet_syno/ND0003/labels/cpv3/(3, 6).h5\n",
      "INFO:btrack.io.hdf:Closing HDF file: /mnt/SYNO/macrohet_syno/ND0003/labels/cpv3/(3, 6).h5\n"
     ]
    },
    {
     "data": {
      "application/vnd.jupyter.widget-view+json": {
       "model_id": "de4e072e1f214375a5f0aa5502bca430",
       "version_major": 2,
       "version_minor": 0
      },
      "text/plain": [
       "  0%|          | 0/154 [00:00<?, ?it/s]"
      ]
     },
     "metadata": {},
     "output_type": "display_data"
    },
    {
     "name": "stdout",
     "output_type": "stream",
     "text": [
      "Video 124.3.6.ND0003 saved successfully.\n"
     ]
    },
    {
     "name": "stderr",
     "output_type": "stream",
     "text": [
      "[INFO][2024/04/20 04:09:31 pm] Opening HDF file: /mnt/SYNO/macrohet_syno/ND0003/labels/cpv3/(3, 8).h5...\n",
      "INFO:btrack.io.hdf:Opening HDF file: /mnt/SYNO/macrohet_syno/ND0003/labels/cpv3/(3, 8).h5...\n",
      "[INFO][2024/04/20 04:10:17 pm] Loading segmentation (154, 6048, 6048)\n",
      "INFO:btrack.io.hdf:Loading segmentation (154, 6048, 6048)\n",
      "[INFO][2024/04/20 04:10:18 pm] Closing HDF file: /mnt/SYNO/macrohet_syno/ND0003/labels/cpv3/(3, 8).h5\n",
      "INFO:btrack.io.hdf:Closing HDF file: /mnt/SYNO/macrohet_syno/ND0003/labels/cpv3/(3, 8).h5\n"
     ]
    },
    {
     "data": {
      "application/vnd.jupyter.widget-view+json": {
       "model_id": "9166c690d530496ea798683a026cfcdd",
       "version_major": 2,
       "version_minor": 0
      },
      "text/plain": [
       "  0%|          | 0/75 [00:00<?, ?it/s]"
      ]
     },
     "metadata": {},
     "output_type": "display_data"
    },
    {
     "name": "stdout",
     "output_type": "stream",
     "text": [
      "Video 3376.3.8.ND0003 saved successfully.\n"
     ]
    },
    {
     "name": "stderr",
     "output_type": "stream",
     "text": [
      "[INFO][2024/04/20 04:16:07 pm] Opening HDF file: /mnt/SYNO/macrohet_syno/PS0000/labels/macrohet_seg_model/(5, 4).h5...\n",
      "INFO:btrack.io.hdf:Opening HDF file: /mnt/SYNO/macrohet_syno/PS0000/labels/macrohet_seg_model/(5, 4).h5...\n",
      "[INFO][2024/04/20 04:16:28 pm] Loading segmentation (75, 6048, 6048)\n",
      "INFO:btrack.io.hdf:Loading segmentation (75, 6048, 6048)\n",
      "[INFO][2024/04/20 04:16:29 pm] Closing HDF file: /mnt/SYNO/macrohet_syno/PS0000/labels/macrohet_seg_model/(5, 4).h5\n",
      "INFO:btrack.io.hdf:Closing HDF file: /mnt/SYNO/macrohet_syno/PS0000/labels/macrohet_seg_model/(5, 4).h5\n"
     ]
    },
    {
     "data": {
      "application/vnd.jupyter.widget-view+json": {
       "model_id": "dcf32e2784a144e88612755d32909361",
       "version_major": 2,
       "version_minor": 0
      },
      "text/plain": [
       "  0%|          | 0/75 [00:00<?, ?it/s]"
      ]
     },
     "metadata": {},
     "output_type": "display_data"
    },
    {
     "name": "stdout",
     "output_type": "stream",
     "text": [
      "Video 153.5.4.PS0000 saved successfully.\n"
     ]
    },
    {
     "name": "stderr",
     "output_type": "stream",
     "text": [
      "[INFO][2024/04/20 04:22:07 pm] Opening HDF file: /mnt/SYNO/macrohet_syno/PS0000/labels/macrohet_seg_model/(5, 5).h5...\n",
      "INFO:btrack.io.hdf:Opening HDF file: /mnt/SYNO/macrohet_syno/PS0000/labels/macrohet_seg_model/(5, 5).h5...\n",
      "[INFO][2024/04/20 04:22:17 pm] Loading segmentation (75, 6048, 6048)\n",
      "INFO:btrack.io.hdf:Loading segmentation (75, 6048, 6048)\n",
      "[INFO][2024/04/20 04:22:18 pm] Closing HDF file: /mnt/SYNO/macrohet_syno/PS0000/labels/macrohet_seg_model/(5, 5).h5\n",
      "INFO:btrack.io.hdf:Closing HDF file: /mnt/SYNO/macrohet_syno/PS0000/labels/macrohet_seg_model/(5, 5).h5\n"
     ]
    },
    {
     "data": {
      "application/vnd.jupyter.widget-view+json": {
       "model_id": "ad9fcb98d4794d5e82c2c1ee8a4eb285",
       "version_major": 2,
       "version_minor": 0
      },
      "text/plain": [
       "  0%|          | 0/75 [00:00<?, ?it/s]"
      ]
     },
     "metadata": {},
     "output_type": "display_data"
    },
    {
     "name": "stdout",
     "output_type": "stream",
     "text": [
      "Video 332.5.5.PS0000 saved successfully.\n"
     ]
    },
    {
     "name": "stderr",
     "output_type": "stream",
     "text": [
      "[INFO][2024/04/20 04:29:04 pm] Opening HDF file: /mnt/SYNO/macrohet_syno/ND0003/labels/cpv3/(3, 4).h5...\n",
      "INFO:btrack.io.hdf:Opening HDF file: /mnt/SYNO/macrohet_syno/ND0003/labels/cpv3/(3, 4).h5...\n",
      "[INFO][2024/04/20 04:29:50 pm] Loading segmentation (154, 6048, 6048)\n",
      "INFO:btrack.io.hdf:Loading segmentation (154, 6048, 6048)\n",
      "[INFO][2024/04/20 04:29:50 pm] Closing HDF file: /mnt/SYNO/macrohet_syno/ND0003/labels/cpv3/(3, 4).h5\n",
      "INFO:btrack.io.hdf:Closing HDF file: /mnt/SYNO/macrohet_syno/ND0003/labels/cpv3/(3, 4).h5\n"
     ]
    },
    {
     "data": {
      "application/vnd.jupyter.widget-view+json": {
       "model_id": "691daf588256419c825439684b0c80e4",
       "version_major": 2,
       "version_minor": 0
      },
      "text/plain": [
       "  0%|          | 0/150 [00:00<?, ?it/s]"
      ]
     },
     "metadata": {},
     "output_type": "display_data"
    },
    {
     "name": "stdout",
     "output_type": "stream",
     "text": [
      "Video 582.3.4.ND0003 saved successfully.\n"
     ]
    },
    {
     "name": "stderr",
     "output_type": "stream",
     "text": [
      "[INFO][2024/04/20 04:40:04 pm] Opening HDF file: /mnt/SYNO/macrohet_syno/ND0002/labels/cpv3/(4, 4).h5...\n",
      "INFO:btrack.io.hdf:Opening HDF file: /mnt/SYNO/macrohet_syno/ND0002/labels/cpv3/(4, 4).h5...\n",
      "[INFO][2024/04/20 04:40:54 pm] Loading segmentation (150, 6048, 6048)\n",
      "INFO:btrack.io.hdf:Loading segmentation (150, 6048, 6048)\n",
      "[INFO][2024/04/20 04:40:55 pm] Closing HDF file: /mnt/SYNO/macrohet_syno/ND0002/labels/cpv3/(4, 4).h5\n",
      "INFO:btrack.io.hdf:Closing HDF file: /mnt/SYNO/macrohet_syno/ND0002/labels/cpv3/(4, 4).h5\n"
     ]
    },
    {
     "data": {
      "application/vnd.jupyter.widget-view+json": {
       "model_id": "ad81338305cb43aab529f33517f93be1",
       "version_major": 2,
       "version_minor": 0
      },
      "text/plain": [
       "  0%|          | 0/149 [00:00<?, ?it/s]"
      ]
     },
     "metadata": {},
     "output_type": "display_data"
    },
    {
     "name": "stdout",
     "output_type": "stream",
     "text": [
      "Video 78.4.4.ND0002 saved successfully.\n"
     ]
    },
    {
     "name": "stderr",
     "output_type": "stream",
     "text": [
      "[INFO][2024/04/20 04:52:52 pm] Opening HDF file: /mnt/SYNO/macrohet_syno/PS0000/labels/macrohet_seg_model/(5, 5).h5...\n",
      "INFO:btrack.io.hdf:Opening HDF file: /mnt/SYNO/macrohet_syno/PS0000/labels/macrohet_seg_model/(5, 5).h5...\n",
      "[INFO][2024/04/20 04:53:09 pm] Loading segmentation (75, 6048, 6048)\n",
      "INFO:btrack.io.hdf:Loading segmentation (75, 6048, 6048)\n",
      "[INFO][2024/04/20 04:53:10 pm] Closing HDF file: /mnt/SYNO/macrohet_syno/PS0000/labels/macrohet_seg_model/(5, 5).h5\n",
      "INFO:btrack.io.hdf:Closing HDF file: /mnt/SYNO/macrohet_syno/PS0000/labels/macrohet_seg_model/(5, 5).h5\n"
     ]
    },
    {
     "data": {
      "application/vnd.jupyter.widget-view+json": {
       "model_id": "25bd03f68dee463895d5a90e2eaa82c2",
       "version_major": 2,
       "version_minor": 0
      },
      "text/plain": [
       "  0%|          | 0/75 [00:00<?, ?it/s]"
      ]
     },
     "metadata": {},
     "output_type": "display_data"
    },
    {
     "name": "stdout",
     "output_type": "stream",
     "text": [
      "Video 457.5.5.PS0000 saved successfully.\n"
     ]
    },
    {
     "name": "stderr",
     "output_type": "stream",
     "text": [
      "[INFO][2024/04/20 04:59:19 pm] Opening HDF file: /mnt/SYNO/macrohet_syno/PS0000/labels/macrohet_seg_model/(6, 4).h5...\n",
      "INFO:btrack.io.hdf:Opening HDF file: /mnt/SYNO/macrohet_syno/PS0000/labels/macrohet_seg_model/(6, 4).h5...\n",
      "[INFO][2024/04/20 04:59:32 pm] Loading segmentation (75, 6048, 6048)\n",
      "INFO:btrack.io.hdf:Loading segmentation (75, 6048, 6048)\n",
      "[INFO][2024/04/20 04:59:32 pm] Closing HDF file: /mnt/SYNO/macrohet_syno/PS0000/labels/macrohet_seg_model/(6, 4).h5\n",
      "INFO:btrack.io.hdf:Closing HDF file: /mnt/SYNO/macrohet_syno/PS0000/labels/macrohet_seg_model/(6, 4).h5\n"
     ]
    },
    {
     "data": {
      "application/vnd.jupyter.widget-view+json": {
       "model_id": "9484fdf9b1dd4034a513e0db44782a14",
       "version_major": 2,
       "version_minor": 0
      },
      "text/plain": [
       "  0%|          | 0/75 [00:00<?, ?it/s]"
      ]
     },
     "metadata": {},
     "output_type": "display_data"
    },
    {
     "name": "stdout",
     "output_type": "stream",
     "text": [
      "Video 401.6.4.PS0000 saved successfully.\n"
     ]
    },
    {
     "name": "stderr",
     "output_type": "stream",
     "text": [
      "[INFO][2024/04/20 05:06:07 pm] Opening HDF file: /mnt/SYNO/macrohet_syno/ND0003/labels/cpv3/(4, 5).h5...\n",
      "INFO:btrack.io.hdf:Opening HDF file: /mnt/SYNO/macrohet_syno/ND0003/labels/cpv3/(4, 5).h5...\n",
      "[INFO][2024/04/20 05:06:45 pm] Loading segmentation (154, 6048, 6048)\n",
      "INFO:btrack.io.hdf:Loading segmentation (154, 6048, 6048)\n",
      "[INFO][2024/04/20 05:06:45 pm] Closing HDF file: /mnt/SYNO/macrohet_syno/ND0003/labels/cpv3/(4, 5).h5\n",
      "INFO:btrack.io.hdf:Closing HDF file: /mnt/SYNO/macrohet_syno/ND0003/labels/cpv3/(4, 5).h5\n"
     ]
    },
    {
     "data": {
      "application/vnd.jupyter.widget-view+json": {
       "model_id": "c0ee48eeede249b0aff0ecda32c72239",
       "version_major": 2,
       "version_minor": 0
      },
      "text/plain": [
       "  0%|          | 0/154 [00:00<?, ?it/s]"
      ]
     },
     "metadata": {},
     "output_type": "display_data"
    },
    {
     "name": "stdout",
     "output_type": "stream",
     "text": [
      "Video 11.4.5.ND0003 saved successfully.\n"
     ]
    },
    {
     "name": "stderr",
     "output_type": "stream",
     "text": [
      "[INFO][2024/04/20 05:18:05 pm] Opening HDF file: /mnt/SYNO/macrohet_syno/ND0003/labels/cpv3/(4, 9).h5...\n",
      "INFO:btrack.io.hdf:Opening HDF file: /mnt/SYNO/macrohet_syno/ND0003/labels/cpv3/(4, 9).h5...\n",
      "[INFO][2024/04/20 05:18:58 pm] Loading segmentation (154, 6048, 6048)\n",
      "INFO:btrack.io.hdf:Loading segmentation (154, 6048, 6048)\n",
      "[INFO][2024/04/20 05:18:58 pm] Closing HDF file: /mnt/SYNO/macrohet_syno/ND0003/labels/cpv3/(4, 9).h5\n",
      "INFO:btrack.io.hdf:Closing HDF file: /mnt/SYNO/macrohet_syno/ND0003/labels/cpv3/(4, 9).h5\n"
     ]
    },
    {
     "data": {
      "application/vnd.jupyter.widget-view+json": {
       "model_id": "dc98580ab2944164a9da1a3b9c4d56eb",
       "version_major": 2,
       "version_minor": 0
      },
      "text/plain": [
       "  0%|          | 0/152 [00:00<?, ?it/s]"
      ]
     },
     "metadata": {},
     "output_type": "display_data"
    },
    {
     "name": "stdout",
     "output_type": "stream",
     "text": [
      "Video 3.4.9.ND0003 saved successfully.\n"
     ]
    },
    {
     "name": "stderr",
     "output_type": "stream",
     "text": [
      "[INFO][2024/04/20 05:31:10 pm] Opening HDF file: /mnt/SYNO/macrohet_syno/PS0000/labels/macrohet_seg_model/(4, 5).h5...\n",
      "INFO:btrack.io.hdf:Opening HDF file: /mnt/SYNO/macrohet_syno/PS0000/labels/macrohet_seg_model/(4, 5).h5...\n",
      "[INFO][2024/04/20 05:31:27 pm] Loading segmentation (75, 6048, 6048)\n",
      "INFO:btrack.io.hdf:Loading segmentation (75, 6048, 6048)\n",
      "[INFO][2024/04/20 05:31:27 pm] Closing HDF file: /mnt/SYNO/macrohet_syno/PS0000/labels/macrohet_seg_model/(4, 5).h5\n",
      "INFO:btrack.io.hdf:Closing HDF file: /mnt/SYNO/macrohet_syno/PS0000/labels/macrohet_seg_model/(4, 5).h5\n"
     ]
    },
    {
     "data": {
      "application/vnd.jupyter.widget-view+json": {
       "model_id": "c1bf3d6d296d4c9788c0f077b745f9ec",
       "version_major": 2,
       "version_minor": 0
      },
      "text/plain": [
       "  0%|          | 0/75 [00:00<?, ?it/s]"
      ]
     },
     "metadata": {},
     "output_type": "display_data"
    },
    {
     "name": "stdout",
     "output_type": "stream",
     "text": [
      "Video 474.4.5.PS0000 saved successfully.\n"
     ]
    },
    {
     "data": {
      "application/vnd.jupyter.widget-view+json": {
       "model_id": "a01d8f016b624d91af347ca9ec737cb0",
       "version_major": 2,
       "version_minor": 0
      },
      "text/plain": [
       "  0%|          | 0/75 [00:00<?, ?it/s]"
      ]
     },
     "metadata": {},
     "output_type": "display_data"
    },
    {
     "name": "stdout",
     "output_type": "stream",
     "text": [
      "Video 280.4.5.PS0000 saved successfully.\n"
     ]
    },
    {
     "data": {
      "application/vnd.jupyter.widget-view+json": {
       "model_id": "43b2d8a3719247f4a4689e051c116a30",
       "version_major": 2,
       "version_minor": 0
      },
      "text/plain": [
       "  0%|          | 0/75 [00:00<?, ?it/s]"
      ]
     },
     "metadata": {},
     "output_type": "display_data"
    },
    {
     "name": "stdout",
     "output_type": "stream",
     "text": [
      "Video 150.4.5.PS0000 saved successfully.\n"
     ]
    },
    {
     "name": "stderr",
     "output_type": "stream",
     "text": [
      "[INFO][2024/04/20 05:43:45 pm] Opening HDF file: /mnt/SYNO/macrohet_syno/PS0000/labels/macrohet_seg_model/(5, 5).h5...\n",
      "INFO:btrack.io.hdf:Opening HDF file: /mnt/SYNO/macrohet_syno/PS0000/labels/macrohet_seg_model/(5, 5).h5...\n",
      "[INFO][2024/04/20 05:43:56 pm] Loading segmentation (75, 6048, 6048)\n",
      "INFO:btrack.io.hdf:Loading segmentation (75, 6048, 6048)\n",
      "[INFO][2024/04/20 05:43:56 pm] Closing HDF file: /mnt/SYNO/macrohet_syno/PS0000/labels/macrohet_seg_model/(5, 5).h5\n",
      "INFO:btrack.io.hdf:Closing HDF file: /mnt/SYNO/macrohet_syno/PS0000/labels/macrohet_seg_model/(5, 5).h5\n"
     ]
    },
    {
     "data": {
      "application/vnd.jupyter.widget-view+json": {
       "model_id": "0b2f65aa5740470ebcd6c348d43fbac7",
       "version_major": 2,
       "version_minor": 0
      },
      "text/plain": [
       "  0%|          | 0/71 [00:00<?, ?it/s]"
      ]
     },
     "metadata": {},
     "output_type": "display_data"
    },
    {
     "name": "stdout",
     "output_type": "stream",
     "text": [
      "Video 859.5.5.PS0000 saved successfully.\n"
     ]
    },
    {
     "name": "stderr",
     "output_type": "stream",
     "text": [
      "[INFO][2024/04/20 05:50:22 pm] Opening HDF file: /mnt/SYNO/macrohet_syno/PS0000/labels/macrohet_seg_model/(4, 5).h5...\n",
      "INFO:btrack.io.hdf:Opening HDF file: /mnt/SYNO/macrohet_syno/PS0000/labels/macrohet_seg_model/(4, 5).h5...\n",
      "[INFO][2024/04/20 05:50:45 pm] Loading segmentation (75, 6048, 6048)\n",
      "INFO:btrack.io.hdf:Loading segmentation (75, 6048, 6048)\n",
      "[INFO][2024/04/20 05:50:45 pm] Closing HDF file: /mnt/SYNO/macrohet_syno/PS0000/labels/macrohet_seg_model/(4, 5).h5\n",
      "INFO:btrack.io.hdf:Closing HDF file: /mnt/SYNO/macrohet_syno/PS0000/labels/macrohet_seg_model/(4, 5).h5\n"
     ]
    },
    {
     "data": {
      "application/vnd.jupyter.widget-view+json": {
       "model_id": "17dca49e7fa941f4b6d4bf18476bc6e5",
       "version_major": 2,
       "version_minor": 0
      },
      "text/plain": [
       "  0%|          | 0/75 [00:00<?, ?it/s]"
      ]
     },
     "metadata": {},
     "output_type": "display_data"
    },
    {
     "name": "stdout",
     "output_type": "stream",
     "text": [
      "Video 478.4.5.PS0000 saved successfully.\n"
     ]
    },
    {
     "name": "stderr",
     "output_type": "stream",
     "text": [
      "[INFO][2024/04/20 05:52:27 pm] Opening HDF file: /mnt/SYNO/macrohet_syno/ND0003/labels/cpv3/(3, 11).h5...\n",
      "INFO:btrack.io.hdf:Opening HDF file: /mnt/SYNO/macrohet_syno/ND0003/labels/cpv3/(3, 11).h5...\n",
      "[INFO][2024/04/20 05:53:11 pm] Loading segmentation (154, 6048, 6048)\n",
      "INFO:btrack.io.hdf:Loading segmentation (154, 6048, 6048)\n",
      "[INFO][2024/04/20 05:53:11 pm] Closing HDF file: /mnt/SYNO/macrohet_syno/ND0003/labels/cpv3/(3, 11).h5\n",
      "INFO:btrack.io.hdf:Closing HDF file: /mnt/SYNO/macrohet_syno/ND0003/labels/cpv3/(3, 11).h5\n"
     ]
    },
    {
     "data": {
      "application/vnd.jupyter.widget-view+json": {
       "model_id": "ac457be615684bbc9fc7aac0b9f9e728",
       "version_major": 2,
       "version_minor": 0
      },
      "text/plain": [
       "  0%|          | 0/115 [00:00<?, ?it/s]"
      ]
     },
     "metadata": {},
     "output_type": "display_data"
    },
    {
     "name": "stdout",
     "output_type": "stream",
     "text": [
      "Video 2161.3.11.ND0003 saved successfully.\n"
     ]
    },
    {
     "name": "stderr",
     "output_type": "stream",
     "text": [
      "[INFO][2024/04/20 06:01:41 pm] Opening HDF file: /mnt/SYNO/macrohet_syno/PS0000/labels/macrohet_seg_model/(4, 6).h5...\n",
      "INFO:btrack.io.hdf:Opening HDF file: /mnt/SYNO/macrohet_syno/PS0000/labels/macrohet_seg_model/(4, 6).h5...\n",
      "[INFO][2024/04/20 06:02:05 pm] Loading segmentation (75, 6048, 6048)\n",
      "INFO:btrack.io.hdf:Loading segmentation (75, 6048, 6048)\n",
      "[INFO][2024/04/20 06:02:05 pm] Closing HDF file: /mnt/SYNO/macrohet_syno/PS0000/labels/macrohet_seg_model/(4, 6).h5\n",
      "INFO:btrack.io.hdf:Closing HDF file: /mnt/SYNO/macrohet_syno/PS0000/labels/macrohet_seg_model/(4, 6).h5\n"
     ]
    },
    {
     "data": {
      "application/vnd.jupyter.widget-view+json": {
       "model_id": "6dec1f34cb70416fa47ed97fdb6a5165",
       "version_major": 2,
       "version_minor": 0
      },
      "text/plain": [
       "  0%|          | 0/75 [00:00<?, ?it/s]"
      ]
     },
     "metadata": {},
     "output_type": "display_data"
    },
    {
     "name": "stdout",
     "output_type": "stream",
     "text": [
      "Video 374.4.6.PS0000 saved successfully.\n"
     ]
    },
    {
     "name": "stderr",
     "output_type": "stream",
     "text": [
      "[INFO][2024/04/20 06:08:48 pm] Opening HDF file: /mnt/SYNO/macrohet_syno/PS0000/labels/macrohet_seg_model/(4, 8).h5...\n",
      "INFO:btrack.io.hdf:Opening HDF file: /mnt/SYNO/macrohet_syno/PS0000/labels/macrohet_seg_model/(4, 8).h5...\n",
      "[INFO][2024/04/20 06:09:08 pm] Loading segmentation (75, 6048, 6048)\n",
      "INFO:btrack.io.hdf:Loading segmentation (75, 6048, 6048)\n",
      "[INFO][2024/04/20 06:09:09 pm] Closing HDF file: /mnt/SYNO/macrohet_syno/PS0000/labels/macrohet_seg_model/(4, 8).h5\n",
      "INFO:btrack.io.hdf:Closing HDF file: /mnt/SYNO/macrohet_syno/PS0000/labels/macrohet_seg_model/(4, 8).h5\n"
     ]
    },
    {
     "data": {
      "application/vnd.jupyter.widget-view+json": {
       "model_id": "e2d4353b118f451c9dbf732aee5c54a4",
       "version_major": 2,
       "version_minor": 0
      },
      "text/plain": [
       "  0%|          | 0/75 [00:00<?, ?it/s]"
      ]
     },
     "metadata": {},
     "output_type": "display_data"
    },
    {
     "name": "stdout",
     "output_type": "stream",
     "text": [
      "Video 464.4.8.PS0000 saved successfully.\n"
     ]
    },
    {
     "name": "stderr",
     "output_type": "stream",
     "text": [
      "[INFO][2024/04/20 06:15:27 pm] Opening HDF file: /mnt/SYNO/macrohet_syno/PS0000/labels/macrohet_seg_model/(6, 5).h5...\n",
      "INFO:btrack.io.hdf:Opening HDF file: /mnt/SYNO/macrohet_syno/PS0000/labels/macrohet_seg_model/(6, 5).h5...\n",
      "[INFO][2024/04/20 06:15:48 pm] Loading segmentation (75, 6048, 6048)\n",
      "INFO:btrack.io.hdf:Loading segmentation (75, 6048, 6048)\n",
      "[INFO][2024/04/20 06:15:48 pm] Closing HDF file: /mnt/SYNO/macrohet_syno/PS0000/labels/macrohet_seg_model/(6, 5).h5\n",
      "INFO:btrack.io.hdf:Closing HDF file: /mnt/SYNO/macrohet_syno/PS0000/labels/macrohet_seg_model/(6, 5).h5\n"
     ]
    },
    {
     "data": {
      "application/vnd.jupyter.widget-view+json": {
       "model_id": "6d572a31ff13443fbcf747d43cfe9cf6",
       "version_major": 2,
       "version_minor": 0
      },
      "text/plain": [
       "  0%|          | 0/75 [00:00<?, ?it/s]"
      ]
     },
     "metadata": {},
     "output_type": "display_data"
    },
    {
     "name": "stdout",
     "output_type": "stream",
     "text": [
      "Video 1.6.5.PS0000 saved successfully.\n"
     ]
    },
    {
     "name": "stderr",
     "output_type": "stream",
     "text": [
      "[INFO][2024/04/20 06:20:26 pm] Opening HDF file: /mnt/SYNO/macrohet_syno/PS0000/labels/macrohet_seg_model/(5, 5).h5...\n",
      "INFO:btrack.io.hdf:Opening HDF file: /mnt/SYNO/macrohet_syno/PS0000/labels/macrohet_seg_model/(5, 5).h5...\n",
      "[INFO][2024/04/20 06:20:49 pm] Loading segmentation (75, 6048, 6048)\n",
      "INFO:btrack.io.hdf:Loading segmentation (75, 6048, 6048)\n",
      "[INFO][2024/04/20 06:20:49 pm] Closing HDF file: /mnt/SYNO/macrohet_syno/PS0000/labels/macrohet_seg_model/(5, 5).h5\n",
      "INFO:btrack.io.hdf:Closing HDF file: /mnt/SYNO/macrohet_syno/PS0000/labels/macrohet_seg_model/(5, 5).h5\n"
     ]
    },
    {
     "data": {
      "application/vnd.jupyter.widget-view+json": {
       "model_id": "7903caaeb02b432199258f338344c4d3",
       "version_major": 2,
       "version_minor": 0
      },
      "text/plain": [
       "  0%|          | 0/75 [00:00<?, ?it/s]"
      ]
     },
     "metadata": {},
     "output_type": "display_data"
    },
    {
     "name": "stdout",
     "output_type": "stream",
     "text": [
      "Video 463.5.5.PS0000 saved successfully.\n"
     ]
    },
    {
     "name": "stderr",
     "output_type": "stream",
     "text": [
      "[INFO][2024/04/20 06:26:39 pm] Opening HDF file: /mnt/SYNO/macrohet_syno/PS0000/labels/macrohet_seg_model/(6, 8).h5...\n",
      "INFO:btrack.io.hdf:Opening HDF file: /mnt/SYNO/macrohet_syno/PS0000/labels/macrohet_seg_model/(6, 8).h5...\n",
      "[INFO][2024/04/20 06:26:49 pm] Loading segmentation (75, 6048, 6048)\n",
      "INFO:btrack.io.hdf:Loading segmentation (75, 6048, 6048)\n",
      "[INFO][2024/04/20 06:26:49 pm] Closing HDF file: /mnt/SYNO/macrohet_syno/PS0000/labels/macrohet_seg_model/(6, 8).h5\n",
      "INFO:btrack.io.hdf:Closing HDF file: /mnt/SYNO/macrohet_syno/PS0000/labels/macrohet_seg_model/(6, 8).h5\n"
     ]
    },
    {
     "data": {
      "application/vnd.jupyter.widget-view+json": {
       "model_id": "5205d26af01947e1aa87b3e4cf31d701",
       "version_major": 2,
       "version_minor": 0
      },
      "text/plain": [
       "  0%|          | 0/75 [00:00<?, ?it/s]"
      ]
     },
     "metadata": {},
     "output_type": "display_data"
    },
    {
     "name": "stdout",
     "output_type": "stream",
     "text": [
      "Video 154.6.8.PS0000 saved successfully.\n"
     ]
    },
    {
     "name": "stderr",
     "output_type": "stream",
     "text": [
      "[INFO][2024/04/20 06:33:02 pm] Opening HDF file: /mnt/SYNO/macrohet_syno/PS0000/labels/macrohet_seg_model/(4, 5).h5...\n",
      "INFO:btrack.io.hdf:Opening HDF file: /mnt/SYNO/macrohet_syno/PS0000/labels/macrohet_seg_model/(4, 5).h5...\n",
      "[INFO][2024/04/20 06:33:12 pm] Loading segmentation (75, 6048, 6048)\n",
      "INFO:btrack.io.hdf:Loading segmentation (75, 6048, 6048)\n",
      "[INFO][2024/04/20 06:33:12 pm] Closing HDF file: /mnt/SYNO/macrohet_syno/PS0000/labels/macrohet_seg_model/(4, 5).h5\n",
      "INFO:btrack.io.hdf:Closing HDF file: /mnt/SYNO/macrohet_syno/PS0000/labels/macrohet_seg_model/(4, 5).h5\n"
     ]
    },
    {
     "data": {
      "application/vnd.jupyter.widget-view+json": {
       "model_id": "0d618367af184007b0c54397e59beba1",
       "version_major": 2,
       "version_minor": 0
      },
      "text/plain": [
       "  0%|          | 0/75 [00:00<?, ?it/s]"
      ]
     },
     "metadata": {},
     "output_type": "display_data"
    },
    {
     "name": "stdout",
     "output_type": "stream",
     "text": [
      "Video 313.4.5.PS0000 saved successfully.\n"
     ]
    },
    {
     "name": "stderr",
     "output_type": "stream",
     "text": [
      "[INFO][2024/04/20 06:39:04 pm] Opening HDF file: /mnt/SYNO/macrohet_syno/PS0000/labels/macrohet_seg_model/(3, 5).h5...\n",
      "INFO:btrack.io.hdf:Opening HDF file: /mnt/SYNO/macrohet_syno/PS0000/labels/macrohet_seg_model/(3, 5).h5...\n",
      "[INFO][2024/04/20 06:39:20 pm] Loading segmentation (75, 6048, 6048)\n",
      "INFO:btrack.io.hdf:Loading segmentation (75, 6048, 6048)\n",
      "[INFO][2024/04/20 06:39:20 pm] Closing HDF file: /mnt/SYNO/macrohet_syno/PS0000/labels/macrohet_seg_model/(3, 5).h5\n",
      "INFO:btrack.io.hdf:Closing HDF file: /mnt/SYNO/macrohet_syno/PS0000/labels/macrohet_seg_model/(3, 5).h5\n"
     ]
    },
    {
     "data": {
      "application/vnd.jupyter.widget-view+json": {
       "model_id": "60301106c7f84901af8bd9871ef39476",
       "version_major": 2,
       "version_minor": 0
      },
      "text/plain": [
       "  0%|          | 0/74 [00:00<?, ?it/s]"
      ]
     },
     "metadata": {},
     "output_type": "display_data"
    },
    {
     "name": "stdout",
     "output_type": "stream",
     "text": [
      "Video 401.3.5.PS0000 saved successfully.\n"
     ]
    },
    {
     "name": "stderr",
     "output_type": "stream",
     "text": [
      "[INFO][2024/04/20 06:45:08 pm] Opening HDF file: /mnt/SYNO/macrohet_syno/ND0003/labels/cpv3/(3, 11).h5...\n",
      "INFO:btrack.io.hdf:Opening HDF file: /mnt/SYNO/macrohet_syno/ND0003/labels/cpv3/(3, 11).h5...\n",
      "[INFO][2024/04/20 06:45:46 pm] Loading segmentation (154, 6048, 6048)\n",
      "INFO:btrack.io.hdf:Loading segmentation (154, 6048, 6048)\n",
      "[INFO][2024/04/20 06:45:46 pm] Closing HDF file: /mnt/SYNO/macrohet_syno/ND0003/labels/cpv3/(3, 11).h5\n",
      "INFO:btrack.io.hdf:Closing HDF file: /mnt/SYNO/macrohet_syno/ND0003/labels/cpv3/(3, 11).h5\n"
     ]
    },
    {
     "data": {
      "application/vnd.jupyter.widget-view+json": {
       "model_id": "62e974320e294f88b9c0ec4e66a5e07c",
       "version_major": 2,
       "version_minor": 0
      },
      "text/plain": [
       "  0%|          | 0/94 [00:00<?, ?it/s]"
      ]
     },
     "metadata": {},
     "output_type": "display_data"
    },
    {
     "name": "stdout",
     "output_type": "stream",
     "text": [
      "Video 3022.3.11.ND0003 saved successfully.\n"
     ]
    },
    {
     "name": "stderr",
     "output_type": "stream",
     "text": [
      "[INFO][2024/04/20 06:53:00 pm] Opening HDF file: /mnt/SYNO/macrohet_syno/PS0000/labels/macrohet_seg_model/(4, 4).h5...\n",
      "INFO:btrack.io.hdf:Opening HDF file: /mnt/SYNO/macrohet_syno/PS0000/labels/macrohet_seg_model/(4, 4).h5...\n",
      "[INFO][2024/04/20 06:53:17 pm] Loading segmentation (75, 6048, 6048)\n",
      "INFO:btrack.io.hdf:Loading segmentation (75, 6048, 6048)\n",
      "[INFO][2024/04/20 06:53:18 pm] Closing HDF file: /mnt/SYNO/macrohet_syno/PS0000/labels/macrohet_seg_model/(4, 4).h5\n",
      "INFO:btrack.io.hdf:Closing HDF file: /mnt/SYNO/macrohet_syno/PS0000/labels/macrohet_seg_model/(4, 4).h5\n"
     ]
    },
    {
     "data": {
      "application/vnd.jupyter.widget-view+json": {
       "model_id": "6fc71e41cb8e4656b9c771bdd65208f8",
       "version_major": 2,
       "version_minor": 0
      },
      "text/plain": [
       "  0%|          | 0/75 [00:00<?, ?it/s]"
      ]
     },
     "metadata": {},
     "output_type": "display_data"
    },
    {
     "name": "stdout",
     "output_type": "stream",
     "text": [
      "Video 493.4.4.PS0000 saved successfully.\n"
     ]
    },
    {
     "name": "stderr",
     "output_type": "stream",
     "text": [
      "[INFO][2024/04/20 06:59:17 pm] Opening HDF file: /mnt/SYNO/macrohet_syno/PS0000/labels/macrohet_seg_model/(5, 5).h5...\n",
      "INFO:btrack.io.hdf:Opening HDF file: /mnt/SYNO/macrohet_syno/PS0000/labels/macrohet_seg_model/(5, 5).h5...\n",
      "[INFO][2024/04/20 06:59:39 pm] Loading segmentation (75, 6048, 6048)\n",
      "INFO:btrack.io.hdf:Loading segmentation (75, 6048, 6048)\n",
      "[INFO][2024/04/20 06:59:39 pm] Closing HDF file: /mnt/SYNO/macrohet_syno/PS0000/labels/macrohet_seg_model/(5, 5).h5\n",
      "INFO:btrack.io.hdf:Closing HDF file: /mnt/SYNO/macrohet_syno/PS0000/labels/macrohet_seg_model/(5, 5).h5\n"
     ]
    },
    {
     "data": {
      "application/vnd.jupyter.widget-view+json": {
       "model_id": "3cb74eb3f5ce40fc854af36912123d7f",
       "version_major": 2,
       "version_minor": 0
      },
      "text/plain": [
       "  0%|          | 0/75 [00:00<?, ?it/s]"
      ]
     },
     "metadata": {},
     "output_type": "display_data"
    },
    {
     "name": "stdout",
     "output_type": "stream",
     "text": [
      "Video 308.5.5.PS0000 saved successfully.\n"
     ]
    },
    {
     "name": "stderr",
     "output_type": "stream",
     "text": [
      "[INFO][2024/04/20 07:04:24 pm] Opening HDF file: /mnt/SYNO/macrohet_syno/ND0003/labels/cpv3/(3, 5).h5...\n",
      "INFO:btrack.io.hdf:Opening HDF file: /mnt/SYNO/macrohet_syno/ND0003/labels/cpv3/(3, 5).h5...\n",
      "[INFO][2024/04/20 07:05:02 pm] Loading segmentation (154, 6048, 6048)\n",
      "INFO:btrack.io.hdf:Loading segmentation (154, 6048, 6048)\n",
      "[INFO][2024/04/20 07:05:02 pm] Closing HDF file: /mnt/SYNO/macrohet_syno/ND0003/labels/cpv3/(3, 5).h5\n",
      "INFO:btrack.io.hdf:Closing HDF file: /mnt/SYNO/macrohet_syno/ND0003/labels/cpv3/(3, 5).h5\n"
     ]
    },
    {
     "data": {
      "application/vnd.jupyter.widget-view+json": {
       "model_id": "7412034394074bee9e43454e4c1a1625",
       "version_major": 2,
       "version_minor": 0
      },
      "text/plain": [
       "  0%|          | 0/78 [00:00<?, ?it/s]"
      ]
     },
     "metadata": {},
     "output_type": "display_data"
    },
    {
     "name": "stdout",
     "output_type": "stream",
     "text": [
      "Video 3117.3.5.ND0003 saved successfully.\n"
     ]
    },
    {
     "name": "stderr",
     "output_type": "stream",
     "text": [
      "[INFO][2024/04/20 07:11:51 pm] Opening HDF file: /mnt/SYNO/macrohet_syno/ND0002/labels/cpv3/(3, 9).h5...\n",
      "INFO:btrack.io.hdf:Opening HDF file: /mnt/SYNO/macrohet_syno/ND0002/labels/cpv3/(3, 9).h5...\n",
      "[INFO][2024/04/20 07:12:43 pm] Loading segmentation (150, 6048, 6048)\n",
      "INFO:btrack.io.hdf:Loading segmentation (150, 6048, 6048)\n",
      "[INFO][2024/04/20 07:12:43 pm] Closing HDF file: /mnt/SYNO/macrohet_syno/ND0002/labels/cpv3/(3, 9).h5\n",
      "INFO:btrack.io.hdf:Closing HDF file: /mnt/SYNO/macrohet_syno/ND0002/labels/cpv3/(3, 9).h5\n"
     ]
    },
    {
     "data": {
      "application/vnd.jupyter.widget-view+json": {
       "model_id": "f1d04d3d6e914acba4b24e70affb7a16",
       "version_major": 2,
       "version_minor": 0
      },
      "text/plain": [
       "  0%|          | 0/92 [00:00<?, ?it/s]"
      ]
     },
     "metadata": {},
     "output_type": "display_data"
    },
    {
     "name": "stdout",
     "output_type": "stream",
     "text": [
      "Video 794.3.9.ND0002 saved successfully.\n"
     ]
    },
    {
     "name": "stderr",
     "output_type": "stream",
     "text": [
      "[INFO][2024/04/20 07:19:43 pm] Opening HDF file: /mnt/SYNO/macrohet_syno/PS0000/labels/macrohet_seg_model/(4, 8).h5...\n",
      "INFO:btrack.io.hdf:Opening HDF file: /mnt/SYNO/macrohet_syno/PS0000/labels/macrohet_seg_model/(4, 8).h5...\n",
      "[INFO][2024/04/20 07:20:06 pm] Loading segmentation (75, 6048, 6048)\n",
      "INFO:btrack.io.hdf:Loading segmentation (75, 6048, 6048)\n",
      "[INFO][2024/04/20 07:20:07 pm] Closing HDF file: /mnt/SYNO/macrohet_syno/PS0000/labels/macrohet_seg_model/(4, 8).h5\n",
      "INFO:btrack.io.hdf:Closing HDF file: /mnt/SYNO/macrohet_syno/PS0000/labels/macrohet_seg_model/(4, 8).h5\n"
     ]
    },
    {
     "data": {
      "application/vnd.jupyter.widget-view+json": {
       "model_id": "e9ecaa7808fb464bb946a36e61257bd5",
       "version_major": 2,
       "version_minor": 0
      },
      "text/plain": [
       "  0%|          | 0/75 [00:00<?, ?it/s]"
      ]
     },
     "metadata": {},
     "output_type": "display_data"
    },
    {
     "name": "stdout",
     "output_type": "stream",
     "text": [
      "Video 362.4.8.PS0000 saved successfully.\n"
     ]
    },
    {
     "name": "stderr",
     "output_type": "stream",
     "text": [
      "[INFO][2024/04/20 07:24:27 pm] Opening HDF file: /mnt/SYNO/macrohet_syno/ND0003/labels/cpv3/(3, 7).h5...\n",
      "INFO:btrack.io.hdf:Opening HDF file: /mnt/SYNO/macrohet_syno/ND0003/labels/cpv3/(3, 7).h5...\n",
      "[INFO][2024/04/20 07:25:13 pm] Loading segmentation (154, 6048, 6048)\n",
      "INFO:btrack.io.hdf:Loading segmentation (154, 6048, 6048)\n",
      "[INFO][2024/04/20 07:25:13 pm] Closing HDF file: /mnt/SYNO/macrohet_syno/ND0003/labels/cpv3/(3, 7).h5\n",
      "INFO:btrack.io.hdf:Closing HDF file: /mnt/SYNO/macrohet_syno/ND0003/labels/cpv3/(3, 7).h5\n"
     ]
    },
    {
     "data": {
      "application/vnd.jupyter.widget-view+json": {
       "model_id": "59c7804e1a364ae88357b78f74235365",
       "version_major": 2,
       "version_minor": 0
      },
      "text/plain": [
       "  0%|          | 0/93 [00:00<?, ?it/s]"
      ]
     },
     "metadata": {},
     "output_type": "display_data"
    },
    {
     "name": "stdout",
     "output_type": "stream",
     "text": [
      "Video 2681.3.7.ND0003 saved successfully.\n"
     ]
    },
    {
     "name": "stderr",
     "output_type": "stream",
     "text": [
      "[INFO][2024/04/20 07:32:35 pm] Opening HDF file: /mnt/SYNO/macrohet_syno/ND0003/labels/cpv3/(3, 4).h5...\n",
      "INFO:btrack.io.hdf:Opening HDF file: /mnt/SYNO/macrohet_syno/ND0003/labels/cpv3/(3, 4).h5...\n",
      "[INFO][2024/04/20 07:33:12 pm] Loading segmentation (154, 6048, 6048)\n",
      "INFO:btrack.io.hdf:Loading segmentation (154, 6048, 6048)\n",
      "[INFO][2024/04/20 07:33:12 pm] Closing HDF file: /mnt/SYNO/macrohet_syno/ND0003/labels/cpv3/(3, 4).h5\n",
      "INFO:btrack.io.hdf:Closing HDF file: /mnt/SYNO/macrohet_syno/ND0003/labels/cpv3/(3, 4).h5\n"
     ]
    },
    {
     "data": {
      "application/vnd.jupyter.widget-view+json": {
       "model_id": "5f3b1d2030294a469a015321eed93b6f",
       "version_major": 2,
       "version_minor": 0
      },
      "text/plain": [
       "  0%|          | 0/151 [00:00<?, ?it/s]"
      ]
     },
     "metadata": {},
     "output_type": "display_data"
    },
    {
     "name": "stdout",
     "output_type": "stream",
     "text": [
      "Video 315.3.4.ND0003 saved successfully.\n"
     ]
    },
    {
     "name": "stderr",
     "output_type": "stream",
     "text": [
      "[INFO][2024/04/20 07:44:39 pm] Opening HDF file: /mnt/SYNO/macrohet_syno/PS0000/labels/macrohet_seg_model/(6, 4).h5...\n",
      "INFO:btrack.io.hdf:Opening HDF file: /mnt/SYNO/macrohet_syno/PS0000/labels/macrohet_seg_model/(6, 4).h5...\n",
      "[INFO][2024/04/20 07:45:08 pm] Loading segmentation (75, 6048, 6048)\n",
      "INFO:btrack.io.hdf:Loading segmentation (75, 6048, 6048)\n",
      "[INFO][2024/04/20 07:45:08 pm] Closing HDF file: /mnt/SYNO/macrohet_syno/PS0000/labels/macrohet_seg_model/(6, 4).h5\n",
      "INFO:btrack.io.hdf:Closing HDF file: /mnt/SYNO/macrohet_syno/PS0000/labels/macrohet_seg_model/(6, 4).h5\n"
     ]
    },
    {
     "data": {
      "application/vnd.jupyter.widget-view+json": {
       "model_id": "a381ecaa5277459191765934bda063d9",
       "version_major": 2,
       "version_minor": 0
      },
      "text/plain": [
       "  0%|          | 0/75 [00:00<?, ?it/s]"
      ]
     },
     "metadata": {},
     "output_type": "display_data"
    },
    {
     "name": "stdout",
     "output_type": "stream",
     "text": [
      "Video 444.6.4.PS0000 saved successfully.\n"
     ]
    },
    {
     "name": "stderr",
     "output_type": "stream",
     "text": [
      "[INFO][2024/04/20 07:51:25 pm] Opening HDF file: /mnt/SYNO/macrohet_syno/PS0000/labels/macrohet_seg_model/(5, 4).h5...\n",
      "INFO:btrack.io.hdf:Opening HDF file: /mnt/SYNO/macrohet_syno/PS0000/labels/macrohet_seg_model/(5, 4).h5...\n",
      "[INFO][2024/04/20 07:51:49 pm] Loading segmentation (75, 6048, 6048)\n",
      "INFO:btrack.io.hdf:Loading segmentation (75, 6048, 6048)\n",
      "[INFO][2024/04/20 07:51:49 pm] Closing HDF file: /mnt/SYNO/macrohet_syno/PS0000/labels/macrohet_seg_model/(5, 4).h5\n",
      "INFO:btrack.io.hdf:Closing HDF file: /mnt/SYNO/macrohet_syno/PS0000/labels/macrohet_seg_model/(5, 4).h5\n"
     ]
    },
    {
     "data": {
      "application/vnd.jupyter.widget-view+json": {
       "model_id": "af77682b01b340a2aaa691eb11e1dcfc",
       "version_major": 2,
       "version_minor": 0
      },
      "text/plain": [
       "  0%|          | 0/75 [00:00<?, ?it/s]"
      ]
     },
     "metadata": {},
     "output_type": "display_data"
    },
    {
     "name": "stdout",
     "output_type": "stream",
     "text": [
      "Video 306.5.4.PS0000 saved successfully.\n"
     ]
    },
    {
     "name": "stderr",
     "output_type": "stream",
     "text": [
      "[INFO][2024/04/20 07:57:54 pm] Opening HDF file: /mnt/SYNO/macrohet_syno/PS0000/labels/macrohet_seg_model/(5, 5).h5...\n",
      "INFO:btrack.io.hdf:Opening HDF file: /mnt/SYNO/macrohet_syno/PS0000/labels/macrohet_seg_model/(5, 5).h5...\n",
      "[INFO][2024/04/20 07:58:08 pm] Loading segmentation (75, 6048, 6048)\n",
      "INFO:btrack.io.hdf:Loading segmentation (75, 6048, 6048)\n",
      "[INFO][2024/04/20 07:58:08 pm] Closing HDF file: /mnt/SYNO/macrohet_syno/PS0000/labels/macrohet_seg_model/(5, 5).h5\n",
      "INFO:btrack.io.hdf:Closing HDF file: /mnt/SYNO/macrohet_syno/PS0000/labels/macrohet_seg_model/(5, 5).h5\n"
     ]
    },
    {
     "data": {
      "application/vnd.jupyter.widget-view+json": {
       "model_id": "53225d1e3aa74fe3adafc0bdecb18436",
       "version_major": 2,
       "version_minor": 0
      },
      "text/plain": [
       "  0%|          | 0/73 [00:00<?, ?it/s]"
      ]
     },
     "metadata": {},
     "output_type": "display_data"
    },
    {
     "name": "stdout",
     "output_type": "stream",
     "text": [
      "Video 404.5.5.PS0000 saved successfully.\n"
     ]
    },
    {
     "name": "stderr",
     "output_type": "stream",
     "text": [
      "[INFO][2024/04/20 08:04:20 pm] Opening HDF file: /mnt/SYNO/macrohet_syno/PS0000/labels/macrohet_seg_model/(3, 4).h5...\n",
      "INFO:btrack.io.hdf:Opening HDF file: /mnt/SYNO/macrohet_syno/PS0000/labels/macrohet_seg_model/(3, 4).h5...\n",
      "[INFO][2024/04/20 08:04:32 pm] Loading segmentation (75, 6048, 6048)\n",
      "INFO:btrack.io.hdf:Loading segmentation (75, 6048, 6048)\n",
      "[INFO][2024/04/20 08:04:32 pm] Closing HDF file: /mnt/SYNO/macrohet_syno/PS0000/labels/macrohet_seg_model/(3, 4).h5\n",
      "INFO:btrack.io.hdf:Closing HDF file: /mnt/SYNO/macrohet_syno/PS0000/labels/macrohet_seg_model/(3, 4).h5\n"
     ]
    },
    {
     "data": {
      "application/vnd.jupyter.widget-view+json": {
       "model_id": "316df45174b9482387a2d7510d9a0d90",
       "version_major": 2,
       "version_minor": 0
      },
      "text/plain": [
       "  0%|          | 0/75 [00:00<?, ?it/s]"
      ]
     },
     "metadata": {},
     "output_type": "display_data"
    },
    {
     "name": "stdout",
     "output_type": "stream",
     "text": [
      "Video 634.3.4.PS0000 saved successfully.\n"
     ]
    },
    {
     "name": "stderr",
     "output_type": "stream",
     "text": [
      "[INFO][2024/04/20 08:09:33 pm] Opening HDF file: /mnt/SYNO/macrohet_syno/PS0000/labels/macrohet_seg_model/(4, 4).h5...\n",
      "INFO:btrack.io.hdf:Opening HDF file: /mnt/SYNO/macrohet_syno/PS0000/labels/macrohet_seg_model/(4, 4).h5...\n",
      "[INFO][2024/04/20 08:10:01 pm] Loading segmentation (75, 6048, 6048)\n",
      "INFO:btrack.io.hdf:Loading segmentation (75, 6048, 6048)\n",
      "[INFO][2024/04/20 08:10:01 pm] Closing HDF file: /mnt/SYNO/macrohet_syno/PS0000/labels/macrohet_seg_model/(4, 4).h5\n",
      "INFO:btrack.io.hdf:Closing HDF file: /mnt/SYNO/macrohet_syno/PS0000/labels/macrohet_seg_model/(4, 4).h5\n"
     ]
    },
    {
     "data": {
      "application/vnd.jupyter.widget-view+json": {
       "model_id": "5c737fa928d04aacb6591fcaf9d996ed",
       "version_major": 2,
       "version_minor": 0
      },
      "text/plain": [
       "  0%|          | 0/71 [00:00<?, ?it/s]"
      ]
     },
     "metadata": {},
     "output_type": "display_data"
    },
    {
     "name": "stdout",
     "output_type": "stream",
     "text": [
      "Video 721.4.4.PS0000 saved successfully.\n"
     ]
    },
    {
     "name": "stderr",
     "output_type": "stream",
     "text": [
      "[INFO][2024/04/20 08:15:27 pm] Opening HDF file: /mnt/SYNO/macrohet_syno/PS0000/labels/macrohet_seg_model/(4, 9).h5...\n",
      "INFO:btrack.io.hdf:Opening HDF file: /mnt/SYNO/macrohet_syno/PS0000/labels/macrohet_seg_model/(4, 9).h5...\n",
      "[INFO][2024/04/20 08:15:53 pm] Loading segmentation (75, 6048, 6048)\n",
      "INFO:btrack.io.hdf:Loading segmentation (75, 6048, 6048)\n",
      "[INFO][2024/04/20 08:15:53 pm] Closing HDF file: /mnt/SYNO/macrohet_syno/PS0000/labels/macrohet_seg_model/(4, 9).h5\n",
      "INFO:btrack.io.hdf:Closing HDF file: /mnt/SYNO/macrohet_syno/PS0000/labels/macrohet_seg_model/(4, 9).h5\n"
     ]
    },
    {
     "data": {
      "application/vnd.jupyter.widget-view+json": {
       "model_id": "b5b9e9c87e244d29831477352c06d84c",
       "version_major": 2,
       "version_minor": 0
      },
      "text/plain": [
       "  0%|          | 0/75 [00:00<?, ?it/s]"
      ]
     },
     "metadata": {},
     "output_type": "display_data"
    },
    {
     "name": "stdout",
     "output_type": "stream",
     "text": [
      "Video 1.4.9.PS0000 saved successfully.\n"
     ]
    },
    {
     "name": "stderr",
     "output_type": "stream",
     "text": [
      "[INFO][2024/04/20 08:21:55 pm] Opening HDF file: /mnt/SYNO/macrohet_syno/ND0002/labels/cpv3/(6, 5).h5...\n",
      "INFO:btrack.io.hdf:Opening HDF file: /mnt/SYNO/macrohet_syno/ND0002/labels/cpv3/(6, 5).h5...\n",
      "[INFO][2024/04/20 08:22:42 pm] Loading segmentation (150, 6048, 6048)\n",
      "INFO:btrack.io.hdf:Loading segmentation (150, 6048, 6048)\n",
      "[INFO][2024/04/20 08:22:42 pm] Closing HDF file: /mnt/SYNO/macrohet_syno/ND0002/labels/cpv3/(6, 5).h5\n",
      "INFO:btrack.io.hdf:Closing HDF file: /mnt/SYNO/macrohet_syno/ND0002/labels/cpv3/(6, 5).h5\n"
     ]
    },
    {
     "data": {
      "application/vnd.jupyter.widget-view+json": {
       "model_id": "9dcdfeea20f640aa9593f0cda032ff43",
       "version_major": 2,
       "version_minor": 0
      },
      "text/plain": [
       "  0%|          | 0/150 [00:00<?, ?it/s]"
      ]
     },
     "metadata": {},
     "output_type": "display_data"
    },
    {
     "name": "stdout",
     "output_type": "stream",
     "text": [
      "Video 94.6.5.ND0002 saved successfully.\n"
     ]
    },
    {
     "data": {
      "application/vnd.jupyter.widget-view+json": {
       "model_id": "b9cea857e3df41bd9d8abacc697c9662",
       "version_major": 2,
       "version_minor": 0
      },
      "text/plain": [
       "  0%|          | 0/75 [00:00<?, ?it/s]"
      ]
     },
     "metadata": {},
     "output_type": "display_data"
    },
    {
     "name": "stdout",
     "output_type": "stream",
     "text": [
      "Video 402.6.5.PS0000 saved successfully.\n"
     ]
    },
    {
     "name": "stderr",
     "output_type": "stream",
     "text": [
      "[INFO][2024/04/20 08:39:31 pm] Opening HDF file: /mnt/SYNO/macrohet_syno/PS0000/labels/macrohet_seg_model/(4, 5).h5...\n",
      "INFO:btrack.io.hdf:Opening HDF file: /mnt/SYNO/macrohet_syno/PS0000/labels/macrohet_seg_model/(4, 5).h5...\n",
      "[INFO][2024/04/20 08:39:55 pm] Loading segmentation (75, 6048, 6048)\n",
      "INFO:btrack.io.hdf:Loading segmentation (75, 6048, 6048)\n",
      "[INFO][2024/04/20 08:39:56 pm] Closing HDF file: /mnt/SYNO/macrohet_syno/PS0000/labels/macrohet_seg_model/(4, 5).h5\n",
      "INFO:btrack.io.hdf:Closing HDF file: /mnt/SYNO/macrohet_syno/PS0000/labels/macrohet_seg_model/(4, 5).h5\n"
     ]
    },
    {
     "data": {
      "application/vnd.jupyter.widget-view+json": {
       "model_id": "ac2d9a3648bd43b4bca74911368a7ff0",
       "version_major": 2,
       "version_minor": 0
      },
      "text/plain": [
       "  0%|          | 0/75 [00:00<?, ?it/s]"
      ]
     },
     "metadata": {},
     "output_type": "display_data"
    },
    {
     "name": "stdout",
     "output_type": "stream",
     "text": [
      "Video 543.4.5.PS0000 saved successfully.\n"
     ]
    },
    {
     "name": "stderr",
     "output_type": "stream",
     "text": [
      "[INFO][2024/04/20 08:46:10 pm] Opening HDF file: /mnt/SYNO/macrohet_syno/PS0000/labels/macrohet_seg_model/(3, 4).h5...\n",
      "INFO:btrack.io.hdf:Opening HDF file: /mnt/SYNO/macrohet_syno/PS0000/labels/macrohet_seg_model/(3, 4).h5...\n",
      "[INFO][2024/04/20 08:46:36 pm] Loading segmentation (75, 6048, 6048)\n",
      "INFO:btrack.io.hdf:Loading segmentation (75, 6048, 6048)\n",
      "[INFO][2024/04/20 08:46:36 pm] Closing HDF file: /mnt/SYNO/macrohet_syno/PS0000/labels/macrohet_seg_model/(3, 4).h5\n",
      "INFO:btrack.io.hdf:Closing HDF file: /mnt/SYNO/macrohet_syno/PS0000/labels/macrohet_seg_model/(3, 4).h5\n"
     ]
    },
    {
     "data": {
      "application/vnd.jupyter.widget-view+json": {
       "model_id": "a18e2cce8b3a4da7a47b9908def4b8f8",
       "version_major": 2,
       "version_minor": 0
      },
      "text/plain": [
       "  0%|          | 0/75 [00:00<?, ?it/s]"
      ]
     },
     "metadata": {},
     "output_type": "display_data"
    },
    {
     "name": "stdout",
     "output_type": "stream",
     "text": [
      "Video 241.3.4.PS0000 saved successfully.\n"
     ]
    },
    {
     "name": "stderr",
     "output_type": "stream",
     "text": [
      "[INFO][2024/04/20 08:52:44 pm] Opening HDF file: /mnt/SYNO/macrohet_syno/PS0000/labels/macrohet_seg_model/(3, 5).h5...\n",
      "INFO:btrack.io.hdf:Opening HDF file: /mnt/SYNO/macrohet_syno/PS0000/labels/macrohet_seg_model/(3, 5).h5...\n",
      "[INFO][2024/04/20 08:52:55 pm] Loading segmentation (75, 6048, 6048)\n",
      "INFO:btrack.io.hdf:Loading segmentation (75, 6048, 6048)\n",
      "[INFO][2024/04/20 08:52:55 pm] Closing HDF file: /mnt/SYNO/macrohet_syno/PS0000/labels/macrohet_seg_model/(3, 5).h5\n",
      "INFO:btrack.io.hdf:Closing HDF file: /mnt/SYNO/macrohet_syno/PS0000/labels/macrohet_seg_model/(3, 5).h5\n"
     ]
    },
    {
     "data": {
      "application/vnd.jupyter.widget-view+json": {
       "model_id": "f93e313b0de0464990e42a230e8b0f73",
       "version_major": 2,
       "version_minor": 0
      },
      "text/plain": [
       "  0%|          | 0/75 [00:00<?, ?it/s]"
      ]
     },
     "metadata": {},
     "output_type": "display_data"
    },
    {
     "name": "stdout",
     "output_type": "stream",
     "text": [
      "Video 178.3.5.PS0000 saved successfully.\n"
     ]
    },
    {
     "data": {
      "application/vnd.jupyter.widget-view+json": {
       "model_id": "ac5930b2de95474590dc6d3c484fb9c1",
       "version_major": 2,
       "version_minor": 0
      },
      "text/plain": [
       "  0%|          | 0/75 [00:00<?, ?it/s]"
      ]
     },
     "metadata": {},
     "output_type": "display_data"
    },
    {
     "name": "stdout",
     "output_type": "stream",
     "text": [
      "Video 466.3.5.PS0000 saved successfully.\n"
     ]
    },
    {
     "name": "stderr",
     "output_type": "stream",
     "text": [
      "[INFO][2024/04/20 09:00:34 pm] Opening HDF file: /mnt/SYNO/macrohet_syno/ND0003/labels/cpv3/(4, 9).h5...\n",
      "INFO:btrack.io.hdf:Opening HDF file: /mnt/SYNO/macrohet_syno/ND0003/labels/cpv3/(4, 9).h5...\n",
      "[INFO][2024/04/20 09:01:21 pm] Loading segmentation (154, 6048, 6048)\n",
      "INFO:btrack.io.hdf:Loading segmentation (154, 6048, 6048)\n",
      "[INFO][2024/04/20 09:01:21 pm] Closing HDF file: /mnt/SYNO/macrohet_syno/ND0003/labels/cpv3/(4, 9).h5\n",
      "INFO:btrack.io.hdf:Closing HDF file: /mnt/SYNO/macrohet_syno/ND0003/labels/cpv3/(4, 9).h5\n"
     ]
    },
    {
     "data": {
      "application/vnd.jupyter.widget-view+json": {
       "model_id": "145634ead30f4f00b809717a5368894d",
       "version_major": 2,
       "version_minor": 0
      },
      "text/plain": [
       "  0%|          | 0/144 [00:00<?, ?it/s]"
      ]
     },
     "metadata": {},
     "output_type": "display_data"
    },
    {
     "name": "stdout",
     "output_type": "stream",
     "text": [
      "Video 253.4.9.ND0003 saved successfully.\n"
     ]
    },
    {
     "name": "stderr",
     "output_type": "stream",
     "text": [
      "[INFO][2024/04/20 09:12:23 pm] Opening HDF file: /mnt/SYNO/macrohet_syno/PS0000/labels/macrohet_seg_model/(4, 5).h5...\n",
      "INFO:btrack.io.hdf:Opening HDF file: /mnt/SYNO/macrohet_syno/PS0000/labels/macrohet_seg_model/(4, 5).h5...\n",
      "[INFO][2024/04/20 09:12:38 pm] Loading segmentation (75, 6048, 6048)\n",
      "INFO:btrack.io.hdf:Loading segmentation (75, 6048, 6048)\n",
      "[INFO][2024/04/20 09:12:39 pm] Closing HDF file: /mnt/SYNO/macrohet_syno/PS0000/labels/macrohet_seg_model/(4, 5).h5\n",
      "INFO:btrack.io.hdf:Closing HDF file: /mnt/SYNO/macrohet_syno/PS0000/labels/macrohet_seg_model/(4, 5).h5\n"
     ]
    },
    {
     "data": {
      "application/vnd.jupyter.widget-view+json": {
       "model_id": "5667657a40854e7b930a3d8172594a5c",
       "version_major": 2,
       "version_minor": 0
      },
      "text/plain": [
       "  0%|          | 0/75 [00:00<?, ?it/s]"
      ]
     },
     "metadata": {},
     "output_type": "display_data"
    },
    {
     "name": "stdout",
     "output_type": "stream",
     "text": [
      "Video 559.4.5.PS0000 saved successfully.\n"
     ]
    },
    {
     "name": "stderr",
     "output_type": "stream",
     "text": [
      "[INFO][2024/04/20 09:18:53 pm] Opening HDF file: /mnt/SYNO/macrohet_syno/PS0000/labels/macrohet_seg_model/(4, 9).h5...\n",
      "INFO:btrack.io.hdf:Opening HDF file: /mnt/SYNO/macrohet_syno/PS0000/labels/macrohet_seg_model/(4, 9).h5...\n",
      "[INFO][2024/04/20 09:19:08 pm] Loading segmentation (75, 6048, 6048)\n",
      "INFO:btrack.io.hdf:Loading segmentation (75, 6048, 6048)\n",
      "[INFO][2024/04/20 09:19:08 pm] Closing HDF file: /mnt/SYNO/macrohet_syno/PS0000/labels/macrohet_seg_model/(4, 9).h5\n",
      "INFO:btrack.io.hdf:Closing HDF file: /mnt/SYNO/macrohet_syno/PS0000/labels/macrohet_seg_model/(4, 9).h5\n"
     ]
    },
    {
     "data": {
      "application/vnd.jupyter.widget-view+json": {
       "model_id": "cb987f12c7d7407bba99b82bec17798d",
       "version_major": 2,
       "version_minor": 0
      },
      "text/plain": [
       "  0%|          | 0/75 [00:00<?, ?it/s]"
      ]
     },
     "metadata": {},
     "output_type": "display_data"
    },
    {
     "name": "stdout",
     "output_type": "stream",
     "text": [
      "Video 131.4.9.PS0000 saved successfully.\n"
     ]
    },
    {
     "name": "stderr",
     "output_type": "stream",
     "text": [
      "[INFO][2024/04/20 09:25:30 pm] Opening HDF file: /mnt/SYNO/macrohet_syno/ND0003/labels/cpv3/(3, 10).h5...\n",
      "INFO:btrack.io.hdf:Opening HDF file: /mnt/SYNO/macrohet_syno/ND0003/labels/cpv3/(3, 10).h5...\n",
      "[INFO][2024/04/20 09:26:25 pm] Loading segmentation (154, 6048, 6048)\n",
      "INFO:btrack.io.hdf:Loading segmentation (154, 6048, 6048)\n",
      "[INFO][2024/04/20 09:26:25 pm] Closing HDF file: /mnt/SYNO/macrohet_syno/ND0003/labels/cpv3/(3, 10).h5\n",
      "INFO:btrack.io.hdf:Closing HDF file: /mnt/SYNO/macrohet_syno/ND0003/labels/cpv3/(3, 10).h5\n"
     ]
    },
    {
     "data": {
      "application/vnd.jupyter.widget-view+json": {
       "model_id": "040526fd89994e35ad3c6ba6461f78f0",
       "version_major": 2,
       "version_minor": 0
      },
      "text/plain": [
       "  0%|          | 0/138 [00:00<?, ?it/s]"
      ]
     },
     "metadata": {},
     "output_type": "display_data"
    },
    {
     "name": "stdout",
     "output_type": "stream",
     "text": [
      "Video 1157.3.10.ND0003 saved successfully.\n"
     ]
    },
    {
     "name": "stderr",
     "output_type": "stream",
     "text": [
      "[INFO][2024/04/20 09:37:08 pm] Opening HDF file: /mnt/SYNO/macrohet_syno/ND0002/labels/cpv3/(5, 11).h5...\n",
      "INFO:btrack.io.hdf:Opening HDF file: /mnt/SYNO/macrohet_syno/ND0002/labels/cpv3/(5, 11).h5...\n",
      "[INFO][2024/04/20 09:37:53 pm] Loading segmentation (150, 6048, 6048)\n",
      "INFO:btrack.io.hdf:Loading segmentation (150, 6048, 6048)\n",
      "[INFO][2024/04/20 09:37:53 pm] Closing HDF file: /mnt/SYNO/macrohet_syno/ND0002/labels/cpv3/(5, 11).h5\n",
      "INFO:btrack.io.hdf:Closing HDF file: /mnt/SYNO/macrohet_syno/ND0002/labels/cpv3/(5, 11).h5\n"
     ]
    },
    {
     "data": {
      "application/vnd.jupyter.widget-view+json": {
       "model_id": "197ddb869ea34bd697de38727f56da7c",
       "version_major": 2,
       "version_minor": 0
      },
      "text/plain": [
       "  0%|          | 0/137 [00:00<?, ?it/s]"
      ]
     },
     "metadata": {},
     "output_type": "display_data"
    },
    {
     "name": "stdout",
     "output_type": "stream",
     "text": [
      "Video 316.5.11.ND0002 saved successfully.\n"
     ]
    },
    {
     "name": "stderr",
     "output_type": "stream",
     "text": [
      "[INFO][2024/04/20 09:48:25 pm] Opening HDF file: /mnt/SYNO/macrohet_syno/ND0003/labels/cpv3/(6, 8).h5...\n",
      "INFO:btrack.io.hdf:Opening HDF file: /mnt/SYNO/macrohet_syno/ND0003/labels/cpv3/(6, 8).h5...\n",
      "[INFO][2024/04/20 09:49:00 pm] Loading segmentation (154, 6048, 6048)\n",
      "INFO:btrack.io.hdf:Loading segmentation (154, 6048, 6048)\n",
      "[INFO][2024/04/20 09:49:00 pm] Closing HDF file: /mnt/SYNO/macrohet_syno/ND0003/labels/cpv3/(6, 8).h5\n",
      "INFO:btrack.io.hdf:Closing HDF file: /mnt/SYNO/macrohet_syno/ND0003/labels/cpv3/(6, 8).h5\n"
     ]
    },
    {
     "data": {
      "application/vnd.jupyter.widget-view+json": {
       "model_id": "6ac1d956a9c84d8db7e3e4041d5e31a1",
       "version_major": 2,
       "version_minor": 0
      },
      "text/plain": [
       "  0%|          | 0/79 [00:00<?, ?it/s]"
      ]
     },
     "metadata": {},
     "output_type": "display_data"
    },
    {
     "name": "stdout",
     "output_type": "stream",
     "text": [
      "Video 314.6.8.ND0003 saved successfully.\n"
     ]
    },
    {
     "name": "stderr",
     "output_type": "stream",
     "text": [
      "[INFO][2024/04/20 09:55:20 pm] Opening HDF file: /mnt/SYNO/macrohet_syno/ND0003/labels/cpv3/(3, 8).h5...\n",
      "INFO:btrack.io.hdf:Opening HDF file: /mnt/SYNO/macrohet_syno/ND0003/labels/cpv3/(3, 8).h5...\n",
      "[INFO][2024/04/20 09:56:08 pm] Loading segmentation (154, 6048, 6048)\n",
      "INFO:btrack.io.hdf:Loading segmentation (154, 6048, 6048)\n",
      "[INFO][2024/04/20 09:56:08 pm] Closing HDF file: /mnt/SYNO/macrohet_syno/ND0003/labels/cpv3/(3, 8).h5\n",
      "INFO:btrack.io.hdf:Closing HDF file: /mnt/SYNO/macrohet_syno/ND0003/labels/cpv3/(3, 8).h5\n"
     ]
    },
    {
     "data": {
      "application/vnd.jupyter.widget-view+json": {
       "model_id": "62ec08c6fdbf484794f06d918d9bc7d6",
       "version_major": 2,
       "version_minor": 0
      },
      "text/plain": [
       "  0%|          | 0/80 [00:00<?, ?it/s]"
      ]
     },
     "metadata": {},
     "output_type": "display_data"
    },
    {
     "name": "stdout",
     "output_type": "stream",
     "text": [
      "Video 101.3.8.ND0003 saved successfully.\n"
     ]
    },
    {
     "name": "stderr",
     "output_type": "stream",
     "text": [
      "[INFO][2024/04/20 10:02:59 pm] Opening HDF file: /mnt/SYNO/macrohet_syno/ND0003/labels/cpv3/(3, 3).h5...\n",
      "INFO:btrack.io.hdf:Opening HDF file: /mnt/SYNO/macrohet_syno/ND0003/labels/cpv3/(3, 3).h5...\n",
      "[INFO][2024/04/20 10:03:53 pm] Loading segmentation (154, 6048, 6048)\n",
      "INFO:btrack.io.hdf:Loading segmentation (154, 6048, 6048)\n",
      "[INFO][2024/04/20 10:03:53 pm] Closing HDF file: /mnt/SYNO/macrohet_syno/ND0003/labels/cpv3/(3, 3).h5\n",
      "INFO:btrack.io.hdf:Closing HDF file: /mnt/SYNO/macrohet_syno/ND0003/labels/cpv3/(3, 3).h5\n"
     ]
    },
    {
     "data": {
      "application/vnd.jupyter.widget-view+json": {
       "model_id": "9c4393bc36ff4d3db84b614ca8886541",
       "version_major": 2,
       "version_minor": 0
      },
      "text/plain": [
       "  0%|          | 0/102 [00:00<?, ?it/s]"
      ]
     },
     "metadata": {},
     "output_type": "display_data"
    },
    {
     "name": "stdout",
     "output_type": "stream",
     "text": [
      "Video 63.3.3.ND0003 saved successfully.\n"
     ]
    },
    {
     "name": "stderr",
     "output_type": "stream",
     "text": [
      "[INFO][2024/04/20 10:12:24 pm] Opening HDF file: /mnt/SYNO/macrohet_syno/ND0002/labels/cpv3/(4, 4).h5...\n",
      "INFO:btrack.io.hdf:Opening HDF file: /mnt/SYNO/macrohet_syno/ND0002/labels/cpv3/(4, 4).h5...\n",
      "[INFO][2024/04/20 10:13:03 pm] Loading segmentation (150, 6048, 6048)\n",
      "INFO:btrack.io.hdf:Loading segmentation (150, 6048, 6048)\n",
      "[INFO][2024/04/20 10:13:04 pm] Closing HDF file: /mnt/SYNO/macrohet_syno/ND0002/labels/cpv3/(4, 4).h5\n",
      "INFO:btrack.io.hdf:Closing HDF file: /mnt/SYNO/macrohet_syno/ND0002/labels/cpv3/(4, 4).h5\n"
     ]
    },
    {
     "data": {
      "application/vnd.jupyter.widget-view+json": {
       "model_id": "2eb8f917b9af4d63bc8af90d93ec3e54",
       "version_major": 2,
       "version_minor": 0
      },
      "text/plain": [
       "  0%|          | 0/90 [00:00<?, ?it/s]"
      ]
     },
     "metadata": {},
     "output_type": "display_data"
    },
    {
     "name": "stdout",
     "output_type": "stream",
     "text": [
      "Video 798.4.4.ND0002 saved successfully.\n"
     ]
    },
    {
     "name": "stderr",
     "output_type": "stream",
     "text": [
      "[INFO][2024/04/20 10:19:51 pm] Opening HDF file: /mnt/SYNO/macrohet_syno/PS0000/labels/macrohet_seg_model/(3, 7).h5...\n",
      "INFO:btrack.io.hdf:Opening HDF file: /mnt/SYNO/macrohet_syno/PS0000/labels/macrohet_seg_model/(3, 7).h5...\n",
      "[INFO][2024/04/20 10:20:07 pm] Loading segmentation (75, 6048, 6048)\n",
      "INFO:btrack.io.hdf:Loading segmentation (75, 6048, 6048)\n",
      "[INFO][2024/04/20 10:20:08 pm] Closing HDF file: /mnt/SYNO/macrohet_syno/PS0000/labels/macrohet_seg_model/(3, 7).h5\n",
      "INFO:btrack.io.hdf:Closing HDF file: /mnt/SYNO/macrohet_syno/PS0000/labels/macrohet_seg_model/(3, 7).h5\n"
     ]
    },
    {
     "data": {
      "application/vnd.jupyter.widget-view+json": {
       "model_id": "c69e832dc3b943e5b51b28898e2297b3",
       "version_major": 2,
       "version_minor": 0
      },
      "text/plain": [
       "  0%|          | 0/73 [00:00<?, ?it/s]"
      ]
     },
     "metadata": {},
     "output_type": "display_data"
    },
    {
     "name": "stdout",
     "output_type": "stream",
     "text": [
      "Video 558.3.7.PS0000 saved successfully.\n"
     ]
    },
    {
     "name": "stderr",
     "output_type": "stream",
     "text": [
      "[INFO][2024/04/20 10:26:12 pm] Opening HDF file: /mnt/SYNO/macrohet_syno/PS0000/labels/macrohet_seg_model/(6, 5).h5...\n",
      "INFO:btrack.io.hdf:Opening HDF file: /mnt/SYNO/macrohet_syno/PS0000/labels/macrohet_seg_model/(6, 5).h5...\n",
      "[INFO][2024/04/20 10:26:29 pm] Loading segmentation (75, 6048, 6048)\n",
      "INFO:btrack.io.hdf:Loading segmentation (75, 6048, 6048)\n",
      "[INFO][2024/04/20 10:26:29 pm] Closing HDF file: /mnt/SYNO/macrohet_syno/PS0000/labels/macrohet_seg_model/(6, 5).h5\n",
      "INFO:btrack.io.hdf:Closing HDF file: /mnt/SYNO/macrohet_syno/PS0000/labels/macrohet_seg_model/(6, 5).h5\n"
     ]
    },
    {
     "data": {
      "application/vnd.jupyter.widget-view+json": {
       "model_id": "88e9d03ddc5c43c8aefc4d548063ae48",
       "version_major": 2,
       "version_minor": 0
      },
      "text/plain": [
       "  0%|          | 0/75 [00:00<?, ?it/s]"
      ]
     },
     "metadata": {},
     "output_type": "display_data"
    },
    {
     "name": "stdout",
     "output_type": "stream",
     "text": [
      "Video 139.6.5.PS0000 saved successfully.\n"
     ]
    },
    {
     "name": "stderr",
     "output_type": "stream",
     "text": [
      "[INFO][2024/04/20 10:32:39 pm] Opening HDF file: /mnt/SYNO/macrohet_syno/ND0002/labels/cpv3/(4, 9).h5...\n",
      "INFO:btrack.io.hdf:Opening HDF file: /mnt/SYNO/macrohet_syno/ND0002/labels/cpv3/(4, 9).h5...\n",
      "[INFO][2024/04/20 10:33:35 pm] Loading segmentation (150, 6048, 6048)\n",
      "INFO:btrack.io.hdf:Loading segmentation (150, 6048, 6048)\n",
      "[INFO][2024/04/20 10:33:35 pm] Closing HDF file: /mnt/SYNO/macrohet_syno/ND0002/labels/cpv3/(4, 9).h5\n",
      "INFO:btrack.io.hdf:Closing HDF file: /mnt/SYNO/macrohet_syno/ND0002/labels/cpv3/(4, 9).h5\n"
     ]
    },
    {
     "data": {
      "application/vnd.jupyter.widget-view+json": {
       "model_id": "ef6f21d4656d4ef3a16ebead3dc52742",
       "version_major": 2,
       "version_minor": 0
      },
      "text/plain": [
       "  0%|          | 0/72 [00:00<?, ?it/s]"
      ]
     },
     "metadata": {},
     "output_type": "display_data"
    },
    {
     "name": "stdout",
     "output_type": "stream",
     "text": [
      "Video 218.4.9.ND0002 saved successfully.\n"
     ]
    },
    {
     "name": "stderr",
     "output_type": "stream",
     "text": [
      "[INFO][2024/04/20 10:39:28 pm] Opening HDF file: /mnt/SYNO/macrohet_syno/PS0000/labels/macrohet_seg_model/(3, 5).h5...\n",
      "INFO:btrack.io.hdf:Opening HDF file: /mnt/SYNO/macrohet_syno/PS0000/labels/macrohet_seg_model/(3, 5).h5...\n",
      "[INFO][2024/04/20 10:39:51 pm] Loading segmentation (75, 6048, 6048)\n",
      "INFO:btrack.io.hdf:Loading segmentation (75, 6048, 6048)\n",
      "[INFO][2024/04/20 10:39:52 pm] Closing HDF file: /mnt/SYNO/macrohet_syno/PS0000/labels/macrohet_seg_model/(3, 5).h5\n",
      "INFO:btrack.io.hdf:Closing HDF file: /mnt/SYNO/macrohet_syno/PS0000/labels/macrohet_seg_model/(3, 5).h5\n"
     ]
    },
    {
     "data": {
      "application/vnd.jupyter.widget-view+json": {
       "model_id": "75a9fcd4b39e41d98f1826fd1ebad306",
       "version_major": 2,
       "version_minor": 0
      },
      "text/plain": [
       "  0%|          | 0/75 [00:00<?, ?it/s]"
      ]
     },
     "metadata": {},
     "output_type": "display_data"
    },
    {
     "name": "stdout",
     "output_type": "stream",
     "text": [
      "Video 565.3.5.PS0000 saved successfully.\n"
     ]
    },
    {
     "name": "stderr",
     "output_type": "stream",
     "text": [
      "[INFO][2024/04/20 10:45:09 pm] Opening HDF file: /mnt/SYNO/macrohet_syno/PS0000/labels/macrohet_seg_model/(6, 4).h5...\n",
      "INFO:btrack.io.hdf:Opening HDF file: /mnt/SYNO/macrohet_syno/PS0000/labels/macrohet_seg_model/(6, 4).h5...\n",
      "[INFO][2024/04/20 10:45:19 pm] Loading segmentation (75, 6048, 6048)\n",
      "INFO:btrack.io.hdf:Loading segmentation (75, 6048, 6048)\n",
      "[INFO][2024/04/20 10:45:20 pm] Closing HDF file: /mnt/SYNO/macrohet_syno/PS0000/labels/macrohet_seg_model/(6, 4).h5\n",
      "INFO:btrack.io.hdf:Closing HDF file: /mnt/SYNO/macrohet_syno/PS0000/labels/macrohet_seg_model/(6, 4).h5\n"
     ]
    },
    {
     "data": {
      "application/vnd.jupyter.widget-view+json": {
       "model_id": "f740e8a2eaba4f778c1693575ed68a48",
       "version_major": 2,
       "version_minor": 0
      },
      "text/plain": [
       "  0%|          | 0/75 [00:00<?, ?it/s]"
      ]
     },
     "metadata": {},
     "output_type": "display_data"
    },
    {
     "name": "stdout",
     "output_type": "stream",
     "text": [
      "Video 345.6.4.PS0000 saved successfully.\n"
     ]
    },
    {
     "name": "stderr",
     "output_type": "stream",
     "text": [
      "[INFO][2024/04/20 10:51:03 pm] Opening HDF file: /mnt/SYNO/macrohet_syno/PS0000/labels/macrohet_seg_model/(4, 6).h5...\n",
      "INFO:btrack.io.hdf:Opening HDF file: /mnt/SYNO/macrohet_syno/PS0000/labels/macrohet_seg_model/(4, 6).h5...\n",
      "[INFO][2024/04/20 10:51:29 pm] Loading segmentation (75, 6048, 6048)\n",
      "INFO:btrack.io.hdf:Loading segmentation (75, 6048, 6048)\n",
      "[INFO][2024/04/20 10:51:29 pm] Closing HDF file: /mnt/SYNO/macrohet_syno/PS0000/labels/macrohet_seg_model/(4, 6).h5\n",
      "INFO:btrack.io.hdf:Closing HDF file: /mnt/SYNO/macrohet_syno/PS0000/labels/macrohet_seg_model/(4, 6).h5\n"
     ]
    },
    {
     "data": {
      "application/vnd.jupyter.widget-view+json": {
       "model_id": "d47734ffce0a4d9bb38e33cc947dd72e",
       "version_major": 2,
       "version_minor": 0
      },
      "text/plain": [
       "  0%|          | 0/75 [00:00<?, ?it/s]"
      ]
     },
     "metadata": {},
     "output_type": "display_data"
    },
    {
     "name": "stdout",
     "output_type": "stream",
     "text": [
      "Video 586.4.6.PS0000 saved successfully.\n"
     ]
    },
    {
     "name": "stderr",
     "output_type": "stream",
     "text": [
      "[INFO][2024/04/20 10:57:12 pm] Opening HDF file: /mnt/SYNO/macrohet_syno/ND0003/labels/cpv3/(6, 7).h5...\n",
      "INFO:btrack.io.hdf:Opening HDF file: /mnt/SYNO/macrohet_syno/ND0003/labels/cpv3/(6, 7).h5...\n",
      "[INFO][2024/04/20 10:58:07 pm] Loading segmentation (154, 6048, 6048)\n",
      "INFO:btrack.io.hdf:Loading segmentation (154, 6048, 6048)\n",
      "[INFO][2024/04/20 10:58:07 pm] Closing HDF file: /mnt/SYNO/macrohet_syno/ND0003/labels/cpv3/(6, 7).h5\n",
      "INFO:btrack.io.hdf:Closing HDF file: /mnt/SYNO/macrohet_syno/ND0003/labels/cpv3/(6, 7).h5\n"
     ]
    },
    {
     "data": {
      "application/vnd.jupyter.widget-view+json": {
       "model_id": "798d4489d8f444f6afe029bce8bffe07",
       "version_major": 2,
       "version_minor": 0
      },
      "text/plain": [
       "  0%|          | 0/72 [00:00<?, ?it/s]"
      ]
     },
     "metadata": {},
     "output_type": "display_data"
    },
    {
     "name": "stdout",
     "output_type": "stream",
     "text": [
      "Video 2717.6.7.ND0003 saved successfully.\n"
     ]
    },
    {
     "name": "stderr",
     "output_type": "stream",
     "text": [
      "[INFO][2024/04/20 11:03:45 pm] Opening HDF file: /mnt/SYNO/macrohet_syno/ND0003/labels/cpv3/(3, 4).h5...\n",
      "INFO:btrack.io.hdf:Opening HDF file: /mnt/SYNO/macrohet_syno/ND0003/labels/cpv3/(3, 4).h5...\n",
      "[INFO][2024/04/20 11:04:45 pm] Loading segmentation (154, 6048, 6048)\n",
      "INFO:btrack.io.hdf:Loading segmentation (154, 6048, 6048)\n",
      "[INFO][2024/04/20 11:04:46 pm] Closing HDF file: /mnt/SYNO/macrohet_syno/ND0003/labels/cpv3/(3, 4).h5\n",
      "INFO:btrack.io.hdf:Closing HDF file: /mnt/SYNO/macrohet_syno/ND0003/labels/cpv3/(3, 4).h5\n"
     ]
    },
    {
     "data": {
      "application/vnd.jupyter.widget-view+json": {
       "model_id": "1a1a7c40b9ad43aaa3becaad0fcf1787",
       "version_major": 2,
       "version_minor": 0
      },
      "text/plain": [
       "  0%|          | 0/95 [00:00<?, ?it/s]"
      ]
     },
     "metadata": {},
     "output_type": "display_data"
    },
    {
     "name": "stdout",
     "output_type": "stream",
     "text": [
      "Video 2398.3.4.ND0003 saved successfully.\n"
     ]
    },
    {
     "name": "stderr",
     "output_type": "stream",
     "text": [
      "[INFO][2024/04/20 11:12:30 pm] Opening HDF file: /mnt/SYNO/macrohet_syno/ND0002/labels/cpv3/(4, 7).h5...\n",
      "INFO:btrack.io.hdf:Opening HDF file: /mnt/SYNO/macrohet_syno/ND0002/labels/cpv3/(4, 7).h5...\n",
      "[INFO][2024/04/20 11:13:09 pm] Loading segmentation (150, 6048, 6048)\n",
      "INFO:btrack.io.hdf:Loading segmentation (150, 6048, 6048)\n",
      "[INFO][2024/04/20 11:13:10 pm] Closing HDF file: /mnt/SYNO/macrohet_syno/ND0002/labels/cpv3/(4, 7).h5\n",
      "INFO:btrack.io.hdf:Closing HDF file: /mnt/SYNO/macrohet_syno/ND0002/labels/cpv3/(4, 7).h5\n"
     ]
    },
    {
     "data": {
      "application/vnd.jupyter.widget-view+json": {
       "model_id": "e3b63c713cf34e49ac43bdc8d75b9ff7",
       "version_major": 2,
       "version_minor": 0
      },
      "text/plain": [
       "  0%|          | 0/78 [00:00<?, ?it/s]"
      ]
     },
     "metadata": {},
     "output_type": "display_data"
    },
    {
     "name": "stdout",
     "output_type": "stream",
     "text": [
      "Video 1002.4.7.ND0002 saved successfully.\n"
     ]
    },
    {
     "name": "stderr",
     "output_type": "stream",
     "text": [
      "[INFO][2024/04/20 11:19:18 pm] Opening HDF file: /mnt/SYNO/macrohet_syno/ND0003/labels/cpv3/(3, 5).h5...\n",
      "INFO:btrack.io.hdf:Opening HDF file: /mnt/SYNO/macrohet_syno/ND0003/labels/cpv3/(3, 5).h5...\n",
      "[INFO][2024/04/20 11:20:05 pm] Loading segmentation (154, 6048, 6048)\n",
      "INFO:btrack.io.hdf:Loading segmentation (154, 6048, 6048)\n",
      "[INFO][2024/04/20 11:20:05 pm] Closing HDF file: /mnt/SYNO/macrohet_syno/ND0003/labels/cpv3/(3, 5).h5\n",
      "INFO:btrack.io.hdf:Closing HDF file: /mnt/SYNO/macrohet_syno/ND0003/labels/cpv3/(3, 5).h5\n"
     ]
    },
    {
     "data": {
      "application/vnd.jupyter.widget-view+json": {
       "model_id": "2b828d92955c424883a251f195159080",
       "version_major": 2,
       "version_minor": 0
      },
      "text/plain": [
       "  0%|          | 0/154 [00:00<?, ?it/s]"
      ]
     },
     "metadata": {},
     "output_type": "display_data"
    },
    {
     "name": "stdout",
     "output_type": "stream",
     "text": [
      "Video 341.3.5.ND0003 saved successfully.\n"
     ]
    },
    {
     "name": "stderr",
     "output_type": "stream",
     "text": [
      "[INFO][2024/04/20 11:31:34 pm] Opening HDF file: /mnt/SYNO/macrohet_syno/ND0002/labels/cpv3/(4, 5).h5...\n",
      "INFO:btrack.io.hdf:Opening HDF file: /mnt/SYNO/macrohet_syno/ND0002/labels/cpv3/(4, 5).h5...\n",
      "[INFO][2024/04/20 11:32:16 pm] Loading segmentation (150, 6048, 6048)\n",
      "INFO:btrack.io.hdf:Loading segmentation (150, 6048, 6048)\n",
      "[INFO][2024/04/20 11:32:16 pm] Closing HDF file: /mnt/SYNO/macrohet_syno/ND0002/labels/cpv3/(4, 5).h5\n",
      "INFO:btrack.io.hdf:Closing HDF file: /mnt/SYNO/macrohet_syno/ND0002/labels/cpv3/(4, 5).h5\n"
     ]
    },
    {
     "data": {
      "application/vnd.jupyter.widget-view+json": {
       "model_id": "4bf6cb0018484b4e97bfe007ff764e72",
       "version_major": 2,
       "version_minor": 0
      },
      "text/plain": [
       "  0%|          | 0/75 [00:00<?, ?it/s]"
      ]
     },
     "metadata": {},
     "output_type": "display_data"
    },
    {
     "name": "stdout",
     "output_type": "stream",
     "text": [
      "Video 648.4.5.ND0002 saved successfully.\n"
     ]
    },
    {
     "name": "stderr",
     "output_type": "stream",
     "text": [
      "[INFO][2024/04/20 11:37:51 pm] Opening HDF file: /mnt/SYNO/macrohet_syno/ND0003/labels/cpv3/(6, 8).h5...\n",
      "INFO:btrack.io.hdf:Opening HDF file: /mnt/SYNO/macrohet_syno/ND0003/labels/cpv3/(6, 8).h5...\n",
      "[INFO][2024/04/20 11:38:36 pm] Loading segmentation (154, 6048, 6048)\n",
      "INFO:btrack.io.hdf:Loading segmentation (154, 6048, 6048)\n",
      "[INFO][2024/04/20 11:38:36 pm] Closing HDF file: /mnt/SYNO/macrohet_syno/ND0003/labels/cpv3/(6, 8).h5\n",
      "INFO:btrack.io.hdf:Closing HDF file: /mnt/SYNO/macrohet_syno/ND0003/labels/cpv3/(6, 8).h5\n"
     ]
    },
    {
     "data": {
      "application/vnd.jupyter.widget-view+json": {
       "model_id": "cf2f68ea37824fc79f72bded5dc4db70",
       "version_major": 2,
       "version_minor": 0
      },
      "text/plain": [
       "  0%|          | 0/80 [00:00<?, ?it/s]"
      ]
     },
     "metadata": {},
     "output_type": "display_data"
    },
    {
     "name": "stdout",
     "output_type": "stream",
     "text": [
      "Video 2588.6.8.ND0003 saved successfully.\n"
     ]
    },
    {
     "name": "stderr",
     "output_type": "stream",
     "text": [
      "[INFO][2024/04/20 11:43:16 pm] Opening HDF file: /mnt/SYNO/macrohet_syno/PS0000/labels/macrohet_seg_model/(6, 4).h5...\n",
      "INFO:btrack.io.hdf:Opening HDF file: /mnt/SYNO/macrohet_syno/PS0000/labels/macrohet_seg_model/(6, 4).h5...\n",
      "[INFO][2024/04/20 11:43:29 pm] Loading segmentation (75, 6048, 6048)\n",
      "INFO:btrack.io.hdf:Loading segmentation (75, 6048, 6048)\n",
      "[INFO][2024/04/20 11:43:29 pm] Closing HDF file: /mnt/SYNO/macrohet_syno/PS0000/labels/macrohet_seg_model/(6, 4).h5\n",
      "INFO:btrack.io.hdf:Closing HDF file: /mnt/SYNO/macrohet_syno/PS0000/labels/macrohet_seg_model/(6, 4).h5\n"
     ]
    },
    {
     "data": {
      "application/vnd.jupyter.widget-view+json": {
       "model_id": "61c5479a08394a258ce7cd48ea1be415",
       "version_major": 2,
       "version_minor": 0
      },
      "text/plain": [
       "  0%|          | 0/75 [00:00<?, ?it/s]"
      ]
     },
     "metadata": {},
     "output_type": "display_data"
    },
    {
     "name": "stdout",
     "output_type": "stream",
     "text": [
      "Video 355.6.4.PS0000 saved successfully.\n"
     ]
    },
    {
     "name": "stderr",
     "output_type": "stream",
     "text": [
      "[INFO][2024/04/20 11:49:17 pm] Opening HDF file: /mnt/SYNO/macrohet_syno/ND0003/labels/cpv3/(4, 4).h5...\n",
      "INFO:btrack.io.hdf:Opening HDF file: /mnt/SYNO/macrohet_syno/ND0003/labels/cpv3/(4, 4).h5...\n",
      "[INFO][2024/04/20 11:50:10 pm] Loading segmentation (154, 6048, 6048)\n",
      "INFO:btrack.io.hdf:Loading segmentation (154, 6048, 6048)\n",
      "[INFO][2024/04/20 11:50:10 pm] Closing HDF file: /mnt/SYNO/macrohet_syno/ND0003/labels/cpv3/(4, 4).h5\n",
      "INFO:btrack.io.hdf:Closing HDF file: /mnt/SYNO/macrohet_syno/ND0003/labels/cpv3/(4, 4).h5\n"
     ]
    },
    {
     "data": {
      "application/vnd.jupyter.widget-view+json": {
       "model_id": "2fea1fb89c034d259b165a19752d9b8d",
       "version_major": 2,
       "version_minor": 0
      },
      "text/plain": [
       "  0%|          | 0/154 [00:00<?, ?it/s]"
      ]
     },
     "metadata": {},
     "output_type": "display_data"
    },
    {
     "name": "stdout",
     "output_type": "stream",
     "text": [
      "Video 69.4.4.ND0003 saved successfully.\n"
     ]
    },
    {
     "name": "stderr",
     "output_type": "stream",
     "text": [
      "[INFO][2024/04/21 12:01:50 am] Opening HDF file: /mnt/SYNO/macrohet_syno/ND0003/labels/cpv3/(4, 9).h5...\n",
      "INFO:btrack.io.hdf:Opening HDF file: /mnt/SYNO/macrohet_syno/ND0003/labels/cpv3/(4, 9).h5...\n",
      "[INFO][2024/04/21 12:02:27 am] Loading segmentation (154, 6048, 6048)\n",
      "INFO:btrack.io.hdf:Loading segmentation (154, 6048, 6048)\n",
      "[INFO][2024/04/21 12:02:28 am] Closing HDF file: /mnt/SYNO/macrohet_syno/ND0003/labels/cpv3/(4, 9).h5\n",
      "INFO:btrack.io.hdf:Closing HDF file: /mnt/SYNO/macrohet_syno/ND0003/labels/cpv3/(4, 9).h5\n"
     ]
    },
    {
     "data": {
      "application/vnd.jupyter.widget-view+json": {
       "model_id": "6278455d0e3f4b4d9d1ad3dd5d0ab0e2",
       "version_major": 2,
       "version_minor": 0
      },
      "text/plain": [
       "  0%|          | 0/74 [00:00<?, ?it/s]"
      ]
     },
     "metadata": {},
     "output_type": "display_data"
    },
    {
     "name": "stdout",
     "output_type": "stream",
     "text": [
      "Video 1029.4.9.ND0003 saved successfully.\n"
     ]
    },
    {
     "name": "stderr",
     "output_type": "stream",
     "text": [
      "[INFO][2024/04/21 12:09:06 am] Opening HDF file: /mnt/SYNO/macrohet_syno/ND0003/labels/cpv3/(4, 4).h5...\n",
      "INFO:btrack.io.hdf:Opening HDF file: /mnt/SYNO/macrohet_syno/ND0003/labels/cpv3/(4, 4).h5...\n",
      "[INFO][2024/04/21 12:09:53 am] Loading segmentation (154, 6048, 6048)\n",
      "INFO:btrack.io.hdf:Loading segmentation (154, 6048, 6048)\n",
      "[INFO][2024/04/21 12:09:53 am] Closing HDF file: /mnt/SYNO/macrohet_syno/ND0003/labels/cpv3/(4, 4).h5\n",
      "INFO:btrack.io.hdf:Closing HDF file: /mnt/SYNO/macrohet_syno/ND0003/labels/cpv3/(4, 4).h5\n"
     ]
    },
    {
     "data": {
      "application/vnd.jupyter.widget-view+json": {
       "model_id": "17da066df6674187b034523f7af89bbd",
       "version_major": 2,
       "version_minor": 0
      },
      "text/plain": [
       "  0%|          | 0/154 [00:00<?, ?it/s]"
      ]
     },
     "metadata": {},
     "output_type": "display_data"
    },
    {
     "name": "stdout",
     "output_type": "stream",
     "text": [
      "Video 48.4.4.ND0003 saved successfully.\n"
     ]
    },
    {
     "name": "stderr",
     "output_type": "stream",
     "text": [
      "[INFO][2024/04/21 12:19:27 am] Opening HDF file: /mnt/SYNO/macrohet_syno/PS0000/labels/macrohet_seg_model/(5, 5).h5...\n",
      "INFO:btrack.io.hdf:Opening HDF file: /mnt/SYNO/macrohet_syno/PS0000/labels/macrohet_seg_model/(5, 5).h5...\n",
      "[INFO][2024/04/21 12:19:50 am] Loading segmentation (75, 6048, 6048)\n",
      "INFO:btrack.io.hdf:Loading segmentation (75, 6048, 6048)\n",
      "[INFO][2024/04/21 12:19:50 am] Closing HDF file: /mnt/SYNO/macrohet_syno/PS0000/labels/macrohet_seg_model/(5, 5).h5\n",
      "INFO:btrack.io.hdf:Closing HDF file: /mnt/SYNO/macrohet_syno/PS0000/labels/macrohet_seg_model/(5, 5).h5\n"
     ]
    },
    {
     "data": {
      "application/vnd.jupyter.widget-view+json": {
       "model_id": "47c5b1859fc64fe0be333d162e0cdf49",
       "version_major": 2,
       "version_minor": 0
      },
      "text/plain": [
       "  0%|          | 0/75 [00:00<?, ?it/s]"
      ]
     },
     "metadata": {},
     "output_type": "display_data"
    },
    {
     "name": "stdout",
     "output_type": "stream",
     "text": [
      "Video 30.5.5.PS0000 saved successfully.\n"
     ]
    },
    {
     "name": "stderr",
     "output_type": "stream",
     "text": [
      "[INFO][2024/04/21 12:26:12 am] Opening HDF file: /mnt/SYNO/macrohet_syno/PS0000/labels/macrohet_seg_model/(6, 5).h5...\n",
      "INFO:btrack.io.hdf:Opening HDF file: /mnt/SYNO/macrohet_syno/PS0000/labels/macrohet_seg_model/(6, 5).h5...\n",
      "[INFO][2024/04/21 12:26:24 am] Loading segmentation (75, 6048, 6048)\n",
      "INFO:btrack.io.hdf:Loading segmentation (75, 6048, 6048)\n",
      "[INFO][2024/04/21 12:26:24 am] Closing HDF file: /mnt/SYNO/macrohet_syno/PS0000/labels/macrohet_seg_model/(6, 5).h5\n",
      "INFO:btrack.io.hdf:Closing HDF file: /mnt/SYNO/macrohet_syno/PS0000/labels/macrohet_seg_model/(6, 5).h5\n"
     ]
    },
    {
     "data": {
      "application/vnd.jupyter.widget-view+json": {
       "model_id": "a68573a6b53a40bfbae6926915dc9936",
       "version_major": 2,
       "version_minor": 0
      },
      "text/plain": [
       "  0%|          | 0/75 [00:00<?, ?it/s]"
      ]
     },
     "metadata": {},
     "output_type": "display_data"
    },
    {
     "name": "stdout",
     "output_type": "stream",
     "text": [
      "Video 239.6.5.PS0000 saved successfully.\n"
     ]
    },
    {
     "name": "stderr",
     "output_type": "stream",
     "text": [
      "[INFO][2024/04/21 12:32:47 am] Opening HDF file: /mnt/SYNO/macrohet_syno/ND0003/labels/cpv3/(3, 3).h5...\n",
      "INFO:btrack.io.hdf:Opening HDF file: /mnt/SYNO/macrohet_syno/ND0003/labels/cpv3/(3, 3).h5...\n",
      "[INFO][2024/04/21 12:33:32 am] Loading segmentation (154, 6048, 6048)\n",
      "INFO:btrack.io.hdf:Loading segmentation (154, 6048, 6048)\n",
      "[INFO][2024/04/21 12:33:32 am] Closing HDF file: /mnt/SYNO/macrohet_syno/ND0003/labels/cpv3/(3, 3).h5\n",
      "INFO:btrack.io.hdf:Closing HDF file: /mnt/SYNO/macrohet_syno/ND0003/labels/cpv3/(3, 3).h5\n"
     ]
    },
    {
     "data": {
      "application/vnd.jupyter.widget-view+json": {
       "model_id": "cf29bcf1382d452ba403d2d693c63795",
       "version_major": 2,
       "version_minor": 0
      },
      "text/plain": [
       "  0%|          | 0/149 [00:00<?, ?it/s]"
      ]
     },
     "metadata": {},
     "output_type": "display_data"
    },
    {
     "name": "stdout",
     "output_type": "stream",
     "text": [
      "Video 686.3.3.ND0003 saved successfully.\n"
     ]
    },
    {
     "name": "stderr",
     "output_type": "stream",
     "text": [
      "[INFO][2024/04/21 12:44:11 am] Opening HDF file: /mnt/SYNO/macrohet_syno/ND0002/labels/cpv3/(6, 9).h5...\n",
      "INFO:btrack.io.hdf:Opening HDF file: /mnt/SYNO/macrohet_syno/ND0002/labels/cpv3/(6, 9).h5...\n",
      "[INFO][2024/04/21 12:44:56 am] Loading segmentation (150, 6048, 6048)\n",
      "INFO:btrack.io.hdf:Loading segmentation (150, 6048, 6048)\n",
      "[INFO][2024/04/21 12:44:56 am] Closing HDF file: /mnt/SYNO/macrohet_syno/ND0002/labels/cpv3/(6, 9).h5\n",
      "INFO:btrack.io.hdf:Closing HDF file: /mnt/SYNO/macrohet_syno/ND0002/labels/cpv3/(6, 9).h5\n"
     ]
    },
    {
     "data": {
      "application/vnd.jupyter.widget-view+json": {
       "model_id": "8feb7d0ef0da4a98bf6f59b77eb3abe6",
       "version_major": 2,
       "version_minor": 0
      },
      "text/plain": [
       "  0%|          | 0/133 [00:00<?, ?it/s]"
      ]
     },
     "metadata": {},
     "output_type": "display_data"
    },
    {
     "name": "stdout",
     "output_type": "stream",
     "text": [
      "Video 82.6.9.ND0002 saved successfully.\n"
     ]
    },
    {
     "name": "stderr",
     "output_type": "stream",
     "text": [
      "[INFO][2024/04/21 12:54:54 am] Opening HDF file: /mnt/SYNO/macrohet_syno/PS0000/labels/macrohet_seg_model/(6, 8).h5...\n",
      "INFO:btrack.io.hdf:Opening HDF file: /mnt/SYNO/macrohet_syno/PS0000/labels/macrohet_seg_model/(6, 8).h5...\n",
      "[INFO][2024/04/21 12:55:21 am] Loading segmentation (75, 6048, 6048)\n",
      "INFO:btrack.io.hdf:Loading segmentation (75, 6048, 6048)\n",
      "[INFO][2024/04/21 12:55:21 am] Closing HDF file: /mnt/SYNO/macrohet_syno/PS0000/labels/macrohet_seg_model/(6, 8).h5\n",
      "INFO:btrack.io.hdf:Closing HDF file: /mnt/SYNO/macrohet_syno/PS0000/labels/macrohet_seg_model/(6, 8).h5\n"
     ]
    },
    {
     "data": {
      "application/vnd.jupyter.widget-view+json": {
       "model_id": "14ac00d8834c4f018eddf0d71a13e153",
       "version_major": 2,
       "version_minor": 0
      },
      "text/plain": [
       "  0%|          | 0/75 [00:00<?, ?it/s]"
      ]
     },
     "metadata": {},
     "output_type": "display_data"
    },
    {
     "name": "stdout",
     "output_type": "stream",
     "text": [
      "Video 464.6.8.PS0000 saved successfully.\n"
     ]
    },
    {
     "name": "stderr",
     "output_type": "stream",
     "text": [
      "[INFO][2024/04/21 01:01:06 am] Opening HDF file: /mnt/SYNO/macrohet_syno/ND0003/labels/cpv3/(4, 4).h5...\n",
      "INFO:btrack.io.hdf:Opening HDF file: /mnt/SYNO/macrohet_syno/ND0003/labels/cpv3/(4, 4).h5...\n",
      "[INFO][2024/04/21 01:01:58 am] Loading segmentation (154, 6048, 6048)\n",
      "INFO:btrack.io.hdf:Loading segmentation (154, 6048, 6048)\n",
      "[INFO][2024/04/21 01:01:58 am] Closing HDF file: /mnt/SYNO/macrohet_syno/ND0003/labels/cpv3/(4, 4).h5\n",
      "INFO:btrack.io.hdf:Closing HDF file: /mnt/SYNO/macrohet_syno/ND0003/labels/cpv3/(4, 4).h5\n"
     ]
    },
    {
     "data": {
      "application/vnd.jupyter.widget-view+json": {
       "model_id": "41e3e27f44cc47faaa9f6100727258af",
       "version_major": 2,
       "version_minor": 0
      },
      "text/plain": [
       "  0%|          | 0/113 [00:00<?, ?it/s]"
      ]
     },
     "metadata": {},
     "output_type": "display_data"
    },
    {
     "name": "stdout",
     "output_type": "stream",
     "text": [
      "Video 1472.4.4.ND0003 saved successfully.\n"
     ]
    },
    {
     "name": "stderr",
     "output_type": "stream",
     "text": [
      "[INFO][2024/04/21 01:10:32 am] Opening HDF file: /mnt/SYNO/macrohet_syno/ND0003/labels/cpv3/(3, 3).h5...\n",
      "INFO:btrack.io.hdf:Opening HDF file: /mnt/SYNO/macrohet_syno/ND0003/labels/cpv3/(3, 3).h5...\n",
      "[INFO][2024/04/21 01:11:12 am] Loading segmentation (154, 6048, 6048)\n",
      "INFO:btrack.io.hdf:Loading segmentation (154, 6048, 6048)\n",
      "[INFO][2024/04/21 01:11:13 am] Closing HDF file: /mnt/SYNO/macrohet_syno/ND0003/labels/cpv3/(3, 3).h5\n",
      "INFO:btrack.io.hdf:Closing HDF file: /mnt/SYNO/macrohet_syno/ND0003/labels/cpv3/(3, 3).h5\n"
     ]
    },
    {
     "data": {
      "application/vnd.jupyter.widget-view+json": {
       "model_id": "270894ff10f9492c8d98f9dd9f9f4e74",
       "version_major": 2,
       "version_minor": 0
      },
      "text/plain": [
       "  0%|          | 0/78 [00:00<?, ?it/s]"
      ]
     },
     "metadata": {},
     "output_type": "display_data"
    },
    {
     "name": "stdout",
     "output_type": "stream",
     "text": [
      "Video 1894.3.3.ND0003 saved successfully.\n"
     ]
    },
    {
     "name": "stderr",
     "output_type": "stream",
     "text": [
      "[INFO][2024/04/21 01:17:34 am] Opening HDF file: /mnt/SYNO/macrohet_syno/PS0000/labels/macrohet_seg_model/(4, 8).h5...\n",
      "INFO:btrack.io.hdf:Opening HDF file: /mnt/SYNO/macrohet_syno/PS0000/labels/macrohet_seg_model/(4, 8).h5...\n",
      "[INFO][2024/04/21 01:17:52 am] Loading segmentation (75, 6048, 6048)\n",
      "INFO:btrack.io.hdf:Loading segmentation (75, 6048, 6048)\n",
      "[INFO][2024/04/21 01:17:53 am] Closing HDF file: /mnt/SYNO/macrohet_syno/PS0000/labels/macrohet_seg_model/(4, 8).h5\n",
      "INFO:btrack.io.hdf:Closing HDF file: /mnt/SYNO/macrohet_syno/PS0000/labels/macrohet_seg_model/(4, 8).h5\n"
     ]
    },
    {
     "data": {
      "application/vnd.jupyter.widget-view+json": {
       "model_id": "2695988a27ea41ee9efd03dab061d153",
       "version_major": 2,
       "version_minor": 0
      },
      "text/plain": [
       "  0%|          | 0/75 [00:00<?, ?it/s]"
      ]
     },
     "metadata": {},
     "output_type": "display_data"
    },
    {
     "name": "stdout",
     "output_type": "stream",
     "text": [
      "Video 488.4.8.PS0000 saved successfully.\n"
     ]
    },
    {
     "name": "stderr",
     "output_type": "stream",
     "text": [
      "[INFO][2024/04/21 01:23:28 am] Opening HDF file: /mnt/SYNO/macrohet_syno/PS0000/labels/macrohet_seg_model/(4, 9).h5...\n",
      "INFO:btrack.io.hdf:Opening HDF file: /mnt/SYNO/macrohet_syno/PS0000/labels/macrohet_seg_model/(4, 9).h5...\n",
      "[INFO][2024/04/21 01:23:53 am] Loading segmentation (75, 6048, 6048)\n",
      "INFO:btrack.io.hdf:Loading segmentation (75, 6048, 6048)\n",
      "[INFO][2024/04/21 01:23:54 am] Closing HDF file: /mnt/SYNO/macrohet_syno/PS0000/labels/macrohet_seg_model/(4, 9).h5\n",
      "INFO:btrack.io.hdf:Closing HDF file: /mnt/SYNO/macrohet_syno/PS0000/labels/macrohet_seg_model/(4, 9).h5\n"
     ]
    },
    {
     "data": {
      "application/vnd.jupyter.widget-view+json": {
       "model_id": "74c97d1850b74e1e9b144c7e04d18903",
       "version_major": 2,
       "version_minor": 0
      },
      "text/plain": [
       "  0%|          | 0/75 [00:00<?, ?it/s]"
      ]
     },
     "metadata": {},
     "output_type": "display_data"
    },
    {
     "name": "stdout",
     "output_type": "stream",
     "text": [
      "Video 464.4.9.PS0000 saved successfully.\n"
     ]
    },
    {
     "name": "stderr",
     "output_type": "stream",
     "text": [
      "[INFO][2024/04/21 01:30:12 am] Opening HDF file: /mnt/SYNO/macrohet_syno/PS0000/labels/macrohet_seg_model/(5, 5).h5...\n",
      "INFO:btrack.io.hdf:Opening HDF file: /mnt/SYNO/macrohet_syno/PS0000/labels/macrohet_seg_model/(5, 5).h5...\n",
      "[INFO][2024/04/21 01:30:23 am] Loading segmentation (75, 6048, 6048)\n",
      "INFO:btrack.io.hdf:Loading segmentation (75, 6048, 6048)\n",
      "[INFO][2024/04/21 01:30:23 am] Closing HDF file: /mnt/SYNO/macrohet_syno/PS0000/labels/macrohet_seg_model/(5, 5).h5\n",
      "INFO:btrack.io.hdf:Closing HDF file: /mnt/SYNO/macrohet_syno/PS0000/labels/macrohet_seg_model/(5, 5).h5\n"
     ]
    },
    {
     "data": {
      "application/vnd.jupyter.widget-view+json": {
       "model_id": "73535ac5d46b4c0187925cca25c8925f",
       "version_major": 2,
       "version_minor": 0
      },
      "text/plain": [
       "  0%|          | 0/75 [00:00<?, ?it/s]"
      ]
     },
     "metadata": {},
     "output_type": "display_data"
    },
    {
     "name": "stdout",
     "output_type": "stream",
     "text": [
      "Video 256.5.5.PS0000 saved successfully.\n"
     ]
    },
    {
     "name": "stderr",
     "output_type": "stream",
     "text": [
      "[INFO][2024/04/21 01:36:07 am] Opening HDF file: /mnt/SYNO/macrohet_syno/PS0000/labels/macrohet_seg_model/(3, 4).h5...\n",
      "INFO:btrack.io.hdf:Opening HDF file: /mnt/SYNO/macrohet_syno/PS0000/labels/macrohet_seg_model/(3, 4).h5...\n",
      "[INFO][2024/04/21 01:36:19 am] Loading segmentation (75, 6048, 6048)\n",
      "INFO:btrack.io.hdf:Loading segmentation (75, 6048, 6048)\n",
      "[INFO][2024/04/21 01:36:19 am] Closing HDF file: /mnt/SYNO/macrohet_syno/PS0000/labels/macrohet_seg_model/(3, 4).h5\n",
      "INFO:btrack.io.hdf:Closing HDF file: /mnt/SYNO/macrohet_syno/PS0000/labels/macrohet_seg_model/(3, 4).h5\n"
     ]
    },
    {
     "data": {
      "application/vnd.jupyter.widget-view+json": {
       "model_id": "d32846a5f74d425ba3fea32336994fe7",
       "version_major": 2,
       "version_minor": 0
      },
      "text/plain": [
       "  0%|          | 0/75 [00:00<?, ?it/s]"
      ]
     },
     "metadata": {},
     "output_type": "display_data"
    },
    {
     "name": "stdout",
     "output_type": "stream",
     "text": [
      "Video 553.3.4.PS0000 saved successfully.\n"
     ]
    },
    {
     "name": "stderr",
     "output_type": "stream",
     "text": [
      "[INFO][2024/04/21 01:40:46 am] Opening HDF file: /mnt/SYNO/macrohet_syno/PS0000/labels/macrohet_seg_model/(4, 5).h5...\n",
      "INFO:btrack.io.hdf:Opening HDF file: /mnt/SYNO/macrohet_syno/PS0000/labels/macrohet_seg_model/(4, 5).h5...\n",
      "[INFO][2024/04/21 01:41:01 am] Loading segmentation (75, 6048, 6048)\n",
      "INFO:btrack.io.hdf:Loading segmentation (75, 6048, 6048)\n",
      "[INFO][2024/04/21 01:41:01 am] Closing HDF file: /mnt/SYNO/macrohet_syno/PS0000/labels/macrohet_seg_model/(4, 5).h5\n",
      "INFO:btrack.io.hdf:Closing HDF file: /mnt/SYNO/macrohet_syno/PS0000/labels/macrohet_seg_model/(4, 5).h5\n"
     ]
    },
    {
     "data": {
      "application/vnd.jupyter.widget-view+json": {
       "model_id": "8683597595384c0697c47adfe5984fe9",
       "version_major": 2,
       "version_minor": 0
      },
      "text/plain": [
       "  0%|          | 0/75 [00:00<?, ?it/s]"
      ]
     },
     "metadata": {},
     "output_type": "display_data"
    },
    {
     "name": "stdout",
     "output_type": "stream",
     "text": [
      "Video 522.4.5.PS0000 saved successfully.\n"
     ]
    },
    {
     "name": "stderr",
     "output_type": "stream",
     "text": [
      "[INFO][2024/04/21 01:48:08 am] Opening HDF file: /mnt/SYNO/macrohet_syno/ND0003/labels/cpv3/(4, 10).h5...\n",
      "INFO:btrack.io.hdf:Opening HDF file: /mnt/SYNO/macrohet_syno/ND0003/labels/cpv3/(4, 10).h5...\n",
      "[INFO][2024/04/21 01:48:55 am] Loading segmentation (154, 6048, 6048)\n",
      "INFO:btrack.io.hdf:Loading segmentation (154, 6048, 6048)\n",
      "[INFO][2024/04/21 01:48:55 am] Closing HDF file: /mnt/SYNO/macrohet_syno/ND0003/labels/cpv3/(4, 10).h5\n",
      "INFO:btrack.io.hdf:Closing HDF file: /mnt/SYNO/macrohet_syno/ND0003/labels/cpv3/(4, 10).h5\n"
     ]
    },
    {
     "data": {
      "application/vnd.jupyter.widget-view+json": {
       "model_id": "76087442e7d3434e8822d6538586487b",
       "version_major": 2,
       "version_minor": 0
      },
      "text/plain": [
       "  0%|          | 0/93 [00:00<?, ?it/s]"
      ]
     },
     "metadata": {},
     "output_type": "display_data"
    },
    {
     "name": "stdout",
     "output_type": "stream",
     "text": [
      "Video 2882.4.10.ND0003 saved successfully.\n"
     ]
    },
    {
     "name": "stderr",
     "output_type": "stream",
     "text": [
      "[INFO][2024/04/21 01:55:45 am] Opening HDF file: /mnt/SYNO/macrohet_syno/ND0003/labels/cpv3/(5, 9).h5...\n",
      "INFO:btrack.io.hdf:Opening HDF file: /mnt/SYNO/macrohet_syno/ND0003/labels/cpv3/(5, 9).h5...\n",
      "[INFO][2024/04/21 01:56:42 am] Loading segmentation (154, 6048, 6048)\n",
      "INFO:btrack.io.hdf:Loading segmentation (154, 6048, 6048)\n",
      "[INFO][2024/04/21 01:56:42 am] Closing HDF file: /mnt/SYNO/macrohet_syno/ND0003/labels/cpv3/(5, 9).h5\n",
      "INFO:btrack.io.hdf:Closing HDF file: /mnt/SYNO/macrohet_syno/ND0003/labels/cpv3/(5, 9).h5\n"
     ]
    },
    {
     "data": {
      "application/vnd.jupyter.widget-view+json": {
       "model_id": "0fc7437d535143acbfb910ebc6f9d483",
       "version_major": 2,
       "version_minor": 0
      },
      "text/plain": [
       "  0%|          | 0/154 [00:00<?, ?it/s]"
      ]
     },
     "metadata": {},
     "output_type": "display_data"
    },
    {
     "name": "stdout",
     "output_type": "stream",
     "text": [
      "Video 133.5.9.ND0003 saved successfully.\n"
     ]
    },
    {
     "name": "stderr",
     "output_type": "stream",
     "text": [
      "[INFO][2024/04/21 02:08:17 am] Opening HDF file: /mnt/SYNO/macrohet_syno/ND0003/labels/cpv3/(3, 3).h5...\n",
      "INFO:btrack.io.hdf:Opening HDF file: /mnt/SYNO/macrohet_syno/ND0003/labels/cpv3/(3, 3).h5...\n",
      "[INFO][2024/04/21 02:09:02 am] Loading segmentation (154, 6048, 6048)\n",
      "INFO:btrack.io.hdf:Loading segmentation (154, 6048, 6048)\n",
      "[INFO][2024/04/21 02:09:03 am] Closing HDF file: /mnt/SYNO/macrohet_syno/ND0003/labels/cpv3/(3, 3).h5\n",
      "INFO:btrack.io.hdf:Closing HDF file: /mnt/SYNO/macrohet_syno/ND0003/labels/cpv3/(3, 3).h5\n"
     ]
    },
    {
     "data": {
      "application/vnd.jupyter.widget-view+json": {
       "model_id": "6940d2b82e2d4547a258bae4cf310734",
       "version_major": 2,
       "version_minor": 0
      },
      "text/plain": [
       "  0%|          | 0/113 [00:00<?, ?it/s]"
      ]
     },
     "metadata": {},
     "output_type": "display_data"
    },
    {
     "name": "stdout",
     "output_type": "stream",
     "text": [
      "Video 2133.3.3.ND0003 saved successfully.\n"
     ]
    },
    {
     "name": "stderr",
     "output_type": "stream",
     "text": [
      "[INFO][2024/04/21 02:17:31 am] Opening HDF file: /mnt/SYNO/macrohet_syno/ND0002/labels/cpv3/(3, 9).h5...\n",
      "INFO:btrack.io.hdf:Opening HDF file: /mnt/SYNO/macrohet_syno/ND0002/labels/cpv3/(3, 9).h5...\n",
      "[INFO][2024/04/21 02:18:18 am] Loading segmentation (150, 6048, 6048)\n",
      "INFO:btrack.io.hdf:Loading segmentation (150, 6048, 6048)\n",
      "[INFO][2024/04/21 02:18:18 am] Closing HDF file: /mnt/SYNO/macrohet_syno/ND0002/labels/cpv3/(3, 9).h5\n",
      "INFO:btrack.io.hdf:Closing HDF file: /mnt/SYNO/macrohet_syno/ND0002/labels/cpv3/(3, 9).h5\n"
     ]
    },
    {
     "data": {
      "application/vnd.jupyter.widget-view+json": {
       "model_id": "e5dbb66069994db0b104a86f063105d3",
       "version_major": 2,
       "version_minor": 0
      },
      "text/plain": [
       "  0%|          | 0/88 [00:00<?, ?it/s]"
      ]
     },
     "metadata": {},
     "output_type": "display_data"
    },
    {
     "name": "stdout",
     "output_type": "stream",
     "text": [
      "Video 1167.3.9.ND0002 saved successfully.\n"
     ]
    },
    {
     "name": "stderr",
     "output_type": "stream",
     "text": [
      "[INFO][2024/04/21 02:24:32 am] Opening HDF file: /mnt/SYNO/macrohet_syno/PS0000/labels/macrohet_seg_model/(4, 5).h5...\n",
      "INFO:btrack.io.hdf:Opening HDF file: /mnt/SYNO/macrohet_syno/PS0000/labels/macrohet_seg_model/(4, 5).h5...\n",
      "[INFO][2024/04/21 02:24:52 am] Loading segmentation (75, 6048, 6048)\n",
      "INFO:btrack.io.hdf:Loading segmentation (75, 6048, 6048)\n",
      "[INFO][2024/04/21 02:24:53 am] Closing HDF file: /mnt/SYNO/macrohet_syno/PS0000/labels/macrohet_seg_model/(4, 5).h5\n",
      "INFO:btrack.io.hdf:Closing HDF file: /mnt/SYNO/macrohet_syno/PS0000/labels/macrohet_seg_model/(4, 5).h5\n"
     ]
    },
    {
     "data": {
      "application/vnd.jupyter.widget-view+json": {
       "model_id": "4dfe28f175924f23b83fd046c60ccd2c",
       "version_major": 2,
       "version_minor": 0
      },
      "text/plain": [
       "  0%|          | 0/75 [00:00<?, ?it/s]"
      ]
     },
     "metadata": {},
     "output_type": "display_data"
    },
    {
     "name": "stdout",
     "output_type": "stream",
     "text": [
      "Video 561.4.5.PS0000 saved successfully.\n"
     ]
    },
    {
     "name": "stderr",
     "output_type": "stream",
     "text": [
      "[INFO][2024/04/21 02:30:15 am] Opening HDF file: /mnt/SYNO/macrohet_syno/PS0000/labels/macrohet_seg_model/(6, 5).h5...\n",
      "INFO:btrack.io.hdf:Opening HDF file: /mnt/SYNO/macrohet_syno/PS0000/labels/macrohet_seg_model/(6, 5).h5...\n",
      "[INFO][2024/04/21 02:30:41 am] Loading segmentation (75, 6048, 6048)\n",
      "INFO:btrack.io.hdf:Loading segmentation (75, 6048, 6048)\n",
      "[INFO][2024/04/21 02:30:42 am] Closing HDF file: /mnt/SYNO/macrohet_syno/PS0000/labels/macrohet_seg_model/(6, 5).h5\n",
      "INFO:btrack.io.hdf:Closing HDF file: /mnt/SYNO/macrohet_syno/PS0000/labels/macrohet_seg_model/(6, 5).h5\n"
     ]
    },
    {
     "data": {
      "application/vnd.jupyter.widget-view+json": {
       "model_id": "8b79d631d69747699dc5edbd682c15f7",
       "version_major": 2,
       "version_minor": 0
      },
      "text/plain": [
       "  0%|          | 0/75 [00:00<?, ?it/s]"
      ]
     },
     "metadata": {},
     "output_type": "display_data"
    },
    {
     "name": "stdout",
     "output_type": "stream",
     "text": [
      "Video 583.6.5.PS0000 saved successfully.\n"
     ]
    },
    {
     "name": "stderr",
     "output_type": "stream",
     "text": [
      "[INFO][2024/04/21 02:36:44 am] Opening HDF file: /mnt/SYNO/macrohet_syno/PS0000/labels/macrohet_seg_model/(5, 5).h5...\n",
      "INFO:btrack.io.hdf:Opening HDF file: /mnt/SYNO/macrohet_syno/PS0000/labels/macrohet_seg_model/(5, 5).h5...\n",
      "[INFO][2024/04/21 02:36:56 am] Loading segmentation (75, 6048, 6048)\n",
      "INFO:btrack.io.hdf:Loading segmentation (75, 6048, 6048)\n",
      "[INFO][2024/04/21 02:36:57 am] Closing HDF file: /mnt/SYNO/macrohet_syno/PS0000/labels/macrohet_seg_model/(5, 5).h5\n",
      "INFO:btrack.io.hdf:Closing HDF file: /mnt/SYNO/macrohet_syno/PS0000/labels/macrohet_seg_model/(5, 5).h5\n"
     ]
    },
    {
     "data": {
      "application/vnd.jupyter.widget-view+json": {
       "model_id": "4da466f868a044afa94053c82b9858c2",
       "version_major": 2,
       "version_minor": 0
      },
      "text/plain": [
       "  0%|          | 0/75 [00:00<?, ?it/s]"
      ]
     },
     "metadata": {},
     "output_type": "display_data"
    },
    {
     "name": "stdout",
     "output_type": "stream",
     "text": [
      "Video 419.5.5.PS0000 saved successfully.\n"
     ]
    },
    {
     "name": "stderr",
     "output_type": "stream",
     "text": [
      "[INFO][2024/04/21 02:43:06 am] Opening HDF file: /mnt/SYNO/macrohet_syno/PS0000/labels/macrohet_seg_model/(6, 5).h5...\n",
      "INFO:btrack.io.hdf:Opening HDF file: /mnt/SYNO/macrohet_syno/PS0000/labels/macrohet_seg_model/(6, 5).h5...\n",
      "[INFO][2024/04/21 02:43:18 am] Loading segmentation (75, 6048, 6048)\n",
      "INFO:btrack.io.hdf:Loading segmentation (75, 6048, 6048)\n",
      "[INFO][2024/04/21 02:43:18 am] Closing HDF file: /mnt/SYNO/macrohet_syno/PS0000/labels/macrohet_seg_model/(6, 5).h5\n",
      "INFO:btrack.io.hdf:Closing HDF file: /mnt/SYNO/macrohet_syno/PS0000/labels/macrohet_seg_model/(6, 5).h5\n"
     ]
    },
    {
     "data": {
      "application/vnd.jupyter.widget-view+json": {
       "model_id": "55379e04668d44b0846ce82e13df9f74",
       "version_major": 2,
       "version_minor": 0
      },
      "text/plain": [
       "  0%|          | 0/75 [00:00<?, ?it/s]"
      ]
     },
     "metadata": {},
     "output_type": "display_data"
    },
    {
     "name": "stdout",
     "output_type": "stream",
     "text": [
      "Video 103.6.5.PS0000 saved successfully.\n"
     ]
    },
    {
     "name": "stderr",
     "output_type": "stream",
     "text": [
      "[INFO][2024/04/21 02:48:47 am] Opening HDF file: /mnt/SYNO/macrohet_syno/PS0000/labels/macrohet_seg_model/(5, 8).h5...\n",
      "INFO:btrack.io.hdf:Opening HDF file: /mnt/SYNO/macrohet_syno/PS0000/labels/macrohet_seg_model/(5, 8).h5...\n",
      "[INFO][2024/04/21 02:49:10 am] Loading segmentation (75, 6048, 6048)\n",
      "INFO:btrack.io.hdf:Loading segmentation (75, 6048, 6048)\n",
      "[INFO][2024/04/21 02:49:10 am] Closing HDF file: /mnt/SYNO/macrohet_syno/PS0000/labels/macrohet_seg_model/(5, 8).h5\n",
      "INFO:btrack.io.hdf:Closing HDF file: /mnt/SYNO/macrohet_syno/PS0000/labels/macrohet_seg_model/(5, 8).h5\n"
     ]
    },
    {
     "data": {
      "application/vnd.jupyter.widget-view+json": {
       "model_id": "a3a6e6b0fc594723bc845866db6bb6ff",
       "version_major": 2,
       "version_minor": 0
      },
      "text/plain": [
       "  0%|          | 0/74 [00:00<?, ?it/s]"
      ]
     },
     "metadata": {},
     "output_type": "display_data"
    },
    {
     "name": "stdout",
     "output_type": "stream",
     "text": [
      "Video 215.5.8.PS0000 saved successfully.\n"
     ]
    },
    {
     "name": "stderr",
     "output_type": "stream",
     "text": [
      "[INFO][2024/04/21 02:55:15 am] Opening HDF file: /mnt/SYNO/macrohet_syno/ND0003/labels/cpv3/(3, 5).h5...\n",
      "INFO:btrack.io.hdf:Opening HDF file: /mnt/SYNO/macrohet_syno/ND0003/labels/cpv3/(3, 5).h5...\n",
      "[INFO][2024/04/21 02:55:52 am] Loading segmentation (154, 6048, 6048)\n",
      "INFO:btrack.io.hdf:Loading segmentation (154, 6048, 6048)\n",
      "[INFO][2024/04/21 02:55:52 am] Closing HDF file: /mnt/SYNO/macrohet_syno/ND0003/labels/cpv3/(3, 5).h5\n",
      "INFO:btrack.io.hdf:Closing HDF file: /mnt/SYNO/macrohet_syno/ND0003/labels/cpv3/(3, 5).h5\n"
     ]
    },
    {
     "data": {
      "application/vnd.jupyter.widget-view+json": {
       "model_id": "b773e1f0bec44852b55dbe042fab31b2",
       "version_major": 2,
       "version_minor": 0
      },
      "text/plain": [
       "  0%|          | 0/70 [00:00<?, ?it/s]"
      ]
     },
     "metadata": {},
     "output_type": "display_data"
    },
    {
     "name": "stdout",
     "output_type": "stream",
     "text": [
      "Video 14.3.5.ND0003 saved successfully.\n"
     ]
    },
    {
     "name": "stderr",
     "output_type": "stream",
     "text": [
      "[INFO][2024/04/21 03:01:33 am] Opening HDF file: /mnt/SYNO/macrohet_syno/PS0000/labels/macrohet_seg_model/(4, 5).h5...\n",
      "INFO:btrack.io.hdf:Opening HDF file: /mnt/SYNO/macrohet_syno/PS0000/labels/macrohet_seg_model/(4, 5).h5...\n",
      "[INFO][2024/04/21 03:01:57 am] Loading segmentation (75, 6048, 6048)\n",
      "INFO:btrack.io.hdf:Loading segmentation (75, 6048, 6048)\n",
      "[INFO][2024/04/21 03:01:58 am] Closing HDF file: /mnt/SYNO/macrohet_syno/PS0000/labels/macrohet_seg_model/(4, 5).h5\n",
      "INFO:btrack.io.hdf:Closing HDF file: /mnt/SYNO/macrohet_syno/PS0000/labels/macrohet_seg_model/(4, 5).h5\n"
     ]
    },
    {
     "data": {
      "application/vnd.jupyter.widget-view+json": {
       "model_id": "0b0b584fc2154238b882994ddbe8dabe",
       "version_major": 2,
       "version_minor": 0
      },
      "text/plain": [
       "  0%|          | 0/75 [00:00<?, ?it/s]"
      ]
     },
     "metadata": {},
     "output_type": "display_data"
    },
    {
     "name": "stdout",
     "output_type": "stream",
     "text": [
      "Video 315.4.5.PS0000 saved successfully.\n"
     ]
    },
    {
     "name": "stderr",
     "output_type": "stream",
     "text": [
      "[INFO][2024/04/21 03:08:50 am] Opening HDF file: /mnt/SYNO/macrohet_syno/PS0000/labels/macrohet_seg_model/(4, 9).h5...\n",
      "INFO:btrack.io.hdf:Opening HDF file: /mnt/SYNO/macrohet_syno/PS0000/labels/macrohet_seg_model/(4, 9).h5...\n",
      "[INFO][2024/04/21 03:09:01 am] Loading segmentation (75, 6048, 6048)\n",
      "INFO:btrack.io.hdf:Loading segmentation (75, 6048, 6048)\n",
      "[INFO][2024/04/21 03:09:01 am] Closing HDF file: /mnt/SYNO/macrohet_syno/PS0000/labels/macrohet_seg_model/(4, 9).h5\n",
      "INFO:btrack.io.hdf:Closing HDF file: /mnt/SYNO/macrohet_syno/PS0000/labels/macrohet_seg_model/(4, 9).h5\n"
     ]
    },
    {
     "data": {
      "application/vnd.jupyter.widget-view+json": {
       "model_id": "d5e7f47370e94c2380d45f12e3b05f9e",
       "version_major": 2,
       "version_minor": 0
      },
      "text/plain": [
       "  0%|          | 0/72 [00:00<?, ?it/s]"
      ]
     },
     "metadata": {},
     "output_type": "display_data"
    },
    {
     "name": "stdout",
     "output_type": "stream",
     "text": [
      "Video 921.4.9.PS0000 saved successfully.\n"
     ]
    },
    {
     "name": "stderr",
     "output_type": "stream",
     "text": [
      "[INFO][2024/04/21 03:15:06 am] Opening HDF file: /mnt/SYNO/macrohet_syno/ND0003/labels/cpv3/(4, 4).h5...\n",
      "INFO:btrack.io.hdf:Opening HDF file: /mnt/SYNO/macrohet_syno/ND0003/labels/cpv3/(4, 4).h5...\n",
      "[INFO][2024/04/21 03:15:55 am] Loading segmentation (154, 6048, 6048)\n",
      "INFO:btrack.io.hdf:Loading segmentation (154, 6048, 6048)\n",
      "[INFO][2024/04/21 03:15:55 am] Closing HDF file: /mnt/SYNO/macrohet_syno/ND0003/labels/cpv3/(4, 4).h5\n",
      "INFO:btrack.io.hdf:Closing HDF file: /mnt/SYNO/macrohet_syno/ND0003/labels/cpv3/(4, 4).h5\n"
     ]
    },
    {
     "data": {
      "application/vnd.jupyter.widget-view+json": {
       "model_id": "591dd787782a44e390dc3aeaedcfbcc8",
       "version_major": 2,
       "version_minor": 0
      },
      "text/plain": [
       "  0%|          | 0/154 [00:00<?, ?it/s]"
      ]
     },
     "metadata": {},
     "output_type": "display_data"
    },
    {
     "name": "stdout",
     "output_type": "stream",
     "text": [
      "Video 163.4.4.ND0003 saved successfully.\n"
     ]
    },
    {
     "name": "stderr",
     "output_type": "stream",
     "text": [
      "[INFO][2024/04/21 03:27:20 am] Opening HDF file: /mnt/SYNO/macrohet_syno/PS0000/labels/macrohet_seg_model/(6, 4).h5...\n",
      "INFO:btrack.io.hdf:Opening HDF file: /mnt/SYNO/macrohet_syno/PS0000/labels/macrohet_seg_model/(6, 4).h5...\n",
      "[INFO][2024/04/21 03:27:32 am] Loading segmentation (75, 6048, 6048)\n",
      "INFO:btrack.io.hdf:Loading segmentation (75, 6048, 6048)\n",
      "[INFO][2024/04/21 03:27:32 am] Closing HDF file: /mnt/SYNO/macrohet_syno/PS0000/labels/macrohet_seg_model/(6, 4).h5\n",
      "INFO:btrack.io.hdf:Closing HDF file: /mnt/SYNO/macrohet_syno/PS0000/labels/macrohet_seg_model/(6, 4).h5\n"
     ]
    },
    {
     "data": {
      "application/vnd.jupyter.widget-view+json": {
       "model_id": "47d03d98bc084043a895c92132c7727d",
       "version_major": 2,
       "version_minor": 0
      },
      "text/plain": [
       "  0%|          | 0/75 [00:00<?, ?it/s]"
      ]
     },
     "metadata": {},
     "output_type": "display_data"
    },
    {
     "name": "stdout",
     "output_type": "stream",
     "text": [
      "Video 146.6.4.PS0000 saved successfully.\n"
     ]
    },
    {
     "name": "stderr",
     "output_type": "stream",
     "text": [
      "[INFO][2024/04/21 03:33:20 am] Opening HDF file: /mnt/SYNO/macrohet_syno/PS0000/labels/macrohet_seg_model/(3, 5).h5...\n",
      "INFO:btrack.io.hdf:Opening HDF file: /mnt/SYNO/macrohet_syno/PS0000/labels/macrohet_seg_model/(3, 5).h5...\n",
      "[INFO][2024/04/21 03:33:31 am] Loading segmentation (75, 6048, 6048)\n",
      "INFO:btrack.io.hdf:Loading segmentation (75, 6048, 6048)\n",
      "[INFO][2024/04/21 03:33:31 am] Closing HDF file: /mnt/SYNO/macrohet_syno/PS0000/labels/macrohet_seg_model/(3, 5).h5\n",
      "INFO:btrack.io.hdf:Closing HDF file: /mnt/SYNO/macrohet_syno/PS0000/labels/macrohet_seg_model/(3, 5).h5\n"
     ]
    },
    {
     "data": {
      "application/vnd.jupyter.widget-view+json": {
       "model_id": "84ade921ca244def96eb7075f6e1aba1",
       "version_major": 2,
       "version_minor": 0
      },
      "text/plain": [
       "  0%|          | 0/75 [00:00<?, ?it/s]"
      ]
     },
     "metadata": {},
     "output_type": "display_data"
    },
    {
     "name": "stdout",
     "output_type": "stream",
     "text": [
      "Video 501.3.5.PS0000 saved successfully.\n"
     ]
    },
    {
     "name": "stderr",
     "output_type": "stream",
     "text": [
      "[INFO][2024/04/21 03:39:58 am] Opening HDF file: /mnt/SYNO/macrohet_syno/PS0000/labels/macrohet_seg_model/(5, 5).h5...\n",
      "INFO:btrack.io.hdf:Opening HDF file: /mnt/SYNO/macrohet_syno/PS0000/labels/macrohet_seg_model/(5, 5).h5...\n",
      "[INFO][2024/04/21 03:40:11 am] Loading segmentation (75, 6048, 6048)\n",
      "INFO:btrack.io.hdf:Loading segmentation (75, 6048, 6048)\n",
      "[INFO][2024/04/21 03:40:11 am] Closing HDF file: /mnt/SYNO/macrohet_syno/PS0000/labels/macrohet_seg_model/(5, 5).h5\n",
      "INFO:btrack.io.hdf:Closing HDF file: /mnt/SYNO/macrohet_syno/PS0000/labels/macrohet_seg_model/(5, 5).h5\n"
     ]
    },
    {
     "data": {
      "application/vnd.jupyter.widget-view+json": {
       "model_id": "ca8d3458f62745af966d249cac4534f3",
       "version_major": 2,
       "version_minor": 0
      },
      "text/plain": [
       "  0%|          | 0/74 [00:00<?, ?it/s]"
      ]
     },
     "metadata": {},
     "output_type": "display_data"
    },
    {
     "name": "stdout",
     "output_type": "stream",
     "text": [
      "Video 616.5.5.PS0000 saved successfully.\n"
     ]
    },
    {
     "name": "stderr",
     "output_type": "stream",
     "text": [
      "[INFO][2024/04/21 03:46:38 am] Opening HDF file: /mnt/SYNO/macrohet_syno/PS0000/labels/macrohet_seg_model/(4, 4).h5...\n",
      "INFO:btrack.io.hdf:Opening HDF file: /mnt/SYNO/macrohet_syno/PS0000/labels/macrohet_seg_model/(4, 4).h5...\n",
      "[INFO][2024/04/21 03:47:00 am] Loading segmentation (75, 6048, 6048)\n",
      "INFO:btrack.io.hdf:Loading segmentation (75, 6048, 6048)\n",
      "[INFO][2024/04/21 03:47:00 am] Closing HDF file: /mnt/SYNO/macrohet_syno/PS0000/labels/macrohet_seg_model/(4, 4).h5\n",
      "INFO:btrack.io.hdf:Closing HDF file: /mnt/SYNO/macrohet_syno/PS0000/labels/macrohet_seg_model/(4, 4).h5\n"
     ]
    },
    {
     "data": {
      "application/vnd.jupyter.widget-view+json": {
       "model_id": "c2772fd56beb45aead792b1b395f9218",
       "version_major": 2,
       "version_minor": 0
      },
      "text/plain": [
       "  0%|          | 0/75 [00:00<?, ?it/s]"
      ]
     },
     "metadata": {},
     "output_type": "display_data"
    },
    {
     "name": "stdout",
     "output_type": "stream",
     "text": [
      "Video 641.4.4.PS0000 saved successfully.\n"
     ]
    },
    {
     "data": {
      "application/vnd.jupyter.widget-view+json": {
       "model_id": "b14afbfabb9a44f88770dd4deb66af90",
       "version_major": 2,
       "version_minor": 0
      },
      "text/plain": [
       "  0%|          | 0/75 [00:00<?, ?it/s]"
      ]
     },
     "metadata": {},
     "output_type": "display_data"
    },
    {
     "name": "stdout",
     "output_type": "stream",
     "text": [
      "Video 303.4.4.PS0000 saved successfully.\n"
     ]
    },
    {
     "name": "stderr",
     "output_type": "stream",
     "text": [
      "[INFO][2024/04/21 03:54:51 am] Opening HDF file: /mnt/SYNO/macrohet_syno/ND0003/labels/cpv3/(3, 9).h5...\n",
      "INFO:btrack.io.hdf:Opening HDF file: /mnt/SYNO/macrohet_syno/ND0003/labels/cpv3/(3, 9).h5...\n",
      "[INFO][2024/04/21 03:55:42 am] Loading segmentation (154, 6048, 6048)\n",
      "INFO:btrack.io.hdf:Loading segmentation (154, 6048, 6048)\n",
      "[INFO][2024/04/21 03:55:42 am] Closing HDF file: /mnt/SYNO/macrohet_syno/ND0003/labels/cpv3/(3, 9).h5\n",
      "INFO:btrack.io.hdf:Closing HDF file: /mnt/SYNO/macrohet_syno/ND0003/labels/cpv3/(3, 9).h5\n"
     ]
    },
    {
     "data": {
      "application/vnd.jupyter.widget-view+json": {
       "model_id": "da6cfd5397d24d8fa76e607b4b6e2b36",
       "version_major": 2,
       "version_minor": 0
      },
      "text/plain": [
       "  0%|          | 0/140 [00:00<?, ?it/s]"
      ]
     },
     "metadata": {},
     "output_type": "display_data"
    },
    {
     "name": "stdout",
     "output_type": "stream",
     "text": [
      "Video 1087.3.9.ND0003 saved successfully.\n"
     ]
    },
    {
     "name": "stderr",
     "output_type": "stream",
     "text": [
      "[INFO][2024/04/21 04:05:50 am] Opening HDF file: /mnt/SYNO/macrohet_syno/ND0002/labels/cpv3/(4, 9).h5...\n",
      "INFO:btrack.io.hdf:Opening HDF file: /mnt/SYNO/macrohet_syno/ND0002/labels/cpv3/(4, 9).h5...\n",
      "[INFO][2024/04/21 04:06:56 am] Loading segmentation (150, 6048, 6048)\n",
      "INFO:btrack.io.hdf:Loading segmentation (150, 6048, 6048)\n",
      "[INFO][2024/04/21 04:06:57 am] Closing HDF file: /mnt/SYNO/macrohet_syno/ND0002/labels/cpv3/(4, 9).h5\n",
      "INFO:btrack.io.hdf:Closing HDF file: /mnt/SYNO/macrohet_syno/ND0002/labels/cpv3/(4, 9).h5\n"
     ]
    },
    {
     "data": {
      "application/vnd.jupyter.widget-view+json": {
       "model_id": "636b68dbd44841399c0551ec59527543",
       "version_major": 2,
       "version_minor": 0
      },
      "text/plain": [
       "  0%|          | 0/137 [00:00<?, ?it/s]"
      ]
     },
     "metadata": {},
     "output_type": "display_data"
    },
    {
     "name": "stdout",
     "output_type": "stream",
     "text": [
      "Video 22.4.9.ND0002 saved successfully.\n"
     ]
    },
    {
     "name": "stderr",
     "output_type": "stream",
     "text": [
      "[INFO][2024/04/21 04:16:52 am] Opening HDF file: /mnt/SYNO/macrohet_syno/PS0000/labels/macrohet_seg_model/(3, 5).h5...\n",
      "INFO:btrack.io.hdf:Opening HDF file: /mnt/SYNO/macrohet_syno/PS0000/labels/macrohet_seg_model/(3, 5).h5...\n",
      "[INFO][2024/04/21 04:17:17 am] Loading segmentation (75, 6048, 6048)\n",
      "INFO:btrack.io.hdf:Loading segmentation (75, 6048, 6048)\n",
      "[INFO][2024/04/21 04:17:17 am] Closing HDF file: /mnt/SYNO/macrohet_syno/PS0000/labels/macrohet_seg_model/(3, 5).h5\n",
      "INFO:btrack.io.hdf:Closing HDF file: /mnt/SYNO/macrohet_syno/PS0000/labels/macrohet_seg_model/(3, 5).h5\n"
     ]
    },
    {
     "data": {
      "application/vnd.jupyter.widget-view+json": {
       "model_id": "0438c8e2bdc148eb908a6cbc2a8e9890",
       "version_major": 2,
       "version_minor": 0
      },
      "text/plain": [
       "  0%|          | 0/75 [00:00<?, ?it/s]"
      ]
     },
     "metadata": {},
     "output_type": "display_data"
    },
    {
     "name": "stdout",
     "output_type": "stream",
     "text": [
      "Video 503.3.5.PS0000 saved successfully.\n"
     ]
    },
    {
     "name": "stderr",
     "output_type": "stream",
     "text": [
      "[INFO][2024/04/21 04:22:27 am] Opening HDF file: /mnt/SYNO/macrohet_syno/PS0000/labels/macrohet_seg_model/(3, 8).h5...\n",
      "INFO:btrack.io.hdf:Opening HDF file: /mnt/SYNO/macrohet_syno/PS0000/labels/macrohet_seg_model/(3, 8).h5...\n",
      "[INFO][2024/04/21 04:22:38 am] Loading segmentation (75, 6048, 6048)\n",
      "INFO:btrack.io.hdf:Loading segmentation (75, 6048, 6048)\n",
      "[INFO][2024/04/21 04:22:38 am] Closing HDF file: /mnt/SYNO/macrohet_syno/PS0000/labels/macrohet_seg_model/(3, 8).h5\n",
      "INFO:btrack.io.hdf:Closing HDF file: /mnt/SYNO/macrohet_syno/PS0000/labels/macrohet_seg_model/(3, 8).h5\n"
     ]
    },
    {
     "data": {
      "application/vnd.jupyter.widget-view+json": {
       "model_id": "5533acb833bd468b9713776ff5d0a4e1",
       "version_major": 2,
       "version_minor": 0
      },
      "text/plain": [
       "  0%|          | 0/75 [00:00<?, ?it/s]"
      ]
     },
     "metadata": {},
     "output_type": "display_data"
    },
    {
     "name": "stdout",
     "output_type": "stream",
     "text": [
      "Video 14.3.8.PS0000 saved successfully.\n"
     ]
    },
    {
     "name": "stderr",
     "output_type": "stream",
     "text": [
      "[INFO][2024/04/21 04:28:57 am] Opening HDF file: /mnt/SYNO/macrohet_syno/PS0000/labels/macrohet_seg_model/(4, 8).h5...\n",
      "INFO:btrack.io.hdf:Opening HDF file: /mnt/SYNO/macrohet_syno/PS0000/labels/macrohet_seg_model/(4, 8).h5...\n",
      "[INFO][2024/04/21 04:29:08 am] Loading segmentation (75, 6048, 6048)\n",
      "INFO:btrack.io.hdf:Loading segmentation (75, 6048, 6048)\n",
      "[INFO][2024/04/21 04:29:08 am] Closing HDF file: /mnt/SYNO/macrohet_syno/PS0000/labels/macrohet_seg_model/(4, 8).h5\n",
      "INFO:btrack.io.hdf:Closing HDF file: /mnt/SYNO/macrohet_syno/PS0000/labels/macrohet_seg_model/(4, 8).h5\n"
     ]
    },
    {
     "data": {
      "application/vnd.jupyter.widget-view+json": {
       "model_id": "0f8806df6af249858ab8100be581cf46",
       "version_major": 2,
       "version_minor": 0
      },
      "text/plain": [
       "  0%|          | 0/73 [00:00<?, ?it/s]"
      ]
     },
     "metadata": {},
     "output_type": "display_data"
    },
    {
     "name": "stdout",
     "output_type": "stream",
     "text": [
      "Video 11.4.8.PS0000 saved successfully.\n"
     ]
    },
    {
     "name": "stderr",
     "output_type": "stream",
     "text": [
      "[INFO][2024/04/21 04:34:43 am] Opening HDF file: /mnt/SYNO/macrohet_syno/PS0000/labels/macrohet_seg_model/(6, 4).h5...\n",
      "INFO:btrack.io.hdf:Opening HDF file: /mnt/SYNO/macrohet_syno/PS0000/labels/macrohet_seg_model/(6, 4).h5...\n",
      "[INFO][2024/04/21 04:34:54 am] Loading segmentation (75, 6048, 6048)\n",
      "INFO:btrack.io.hdf:Loading segmentation (75, 6048, 6048)\n",
      "[INFO][2024/04/21 04:34:54 am] Closing HDF file: /mnt/SYNO/macrohet_syno/PS0000/labels/macrohet_seg_model/(6, 4).h5\n",
      "INFO:btrack.io.hdf:Closing HDF file: /mnt/SYNO/macrohet_syno/PS0000/labels/macrohet_seg_model/(6, 4).h5\n"
     ]
    },
    {
     "data": {
      "application/vnd.jupyter.widget-view+json": {
       "model_id": "ffd521057dee44ed966466b0dc2ad97e",
       "version_major": 2,
       "version_minor": 0
      },
      "text/plain": [
       "  0%|          | 0/75 [00:00<?, ?it/s]"
      ]
     },
     "metadata": {},
     "output_type": "display_data"
    },
    {
     "name": "stdout",
     "output_type": "stream",
     "text": [
      "Video 379.6.4.PS0000 saved successfully.\n"
     ]
    },
    {
     "data": {
      "application/vnd.jupyter.widget-view+json": {
       "model_id": "0564bddf88fa45eeae4f419ad7c35f5b",
       "version_major": 2,
       "version_minor": 0
      },
      "text/plain": [
       "  0%|          | 0/73 [00:00<?, ?it/s]"
      ]
     },
     "metadata": {},
     "output_type": "display_data"
    },
    {
     "name": "stdout",
     "output_type": "stream",
     "text": [
      "Video 747.6.4.PS0000 saved successfully.\n"
     ]
    },
    {
     "name": "stderr",
     "output_type": "stream",
     "text": [
      "[INFO][2024/04/21 04:42:28 am] Opening HDF file: /mnt/SYNO/macrohet_syno/PS0000/labels/macrohet_seg_model/(4, 8).h5...\n",
      "INFO:btrack.io.hdf:Opening HDF file: /mnt/SYNO/macrohet_syno/PS0000/labels/macrohet_seg_model/(4, 8).h5...\n",
      "[INFO][2024/04/21 04:42:53 am] Loading segmentation (75, 6048, 6048)\n",
      "INFO:btrack.io.hdf:Loading segmentation (75, 6048, 6048)\n",
      "[INFO][2024/04/21 04:42:53 am] Closing HDF file: /mnt/SYNO/macrohet_syno/PS0000/labels/macrohet_seg_model/(4, 8).h5\n",
      "INFO:btrack.io.hdf:Closing HDF file: /mnt/SYNO/macrohet_syno/PS0000/labels/macrohet_seg_model/(4, 8).h5\n"
     ]
    },
    {
     "data": {
      "application/vnd.jupyter.widget-view+json": {
       "model_id": "d0e59284da9c4c2a9d94c3f45af5c95a",
       "version_major": 2,
       "version_minor": 0
      },
      "text/plain": [
       "  0%|          | 0/74 [00:00<?, ?it/s]"
      ]
     },
     "metadata": {},
     "output_type": "display_data"
    },
    {
     "name": "stdout",
     "output_type": "stream",
     "text": [
      "Video 322.4.8.PS0000 saved successfully.\n"
     ]
    },
    {
     "name": "stderr",
     "output_type": "stream",
     "text": [
      "[INFO][2024/04/21 04:48:02 am] Opening HDF file: /mnt/SYNO/macrohet_syno/PS0000/labels/macrohet_seg_model/(5, 6).h5...\n",
      "INFO:btrack.io.hdf:Opening HDF file: /mnt/SYNO/macrohet_syno/PS0000/labels/macrohet_seg_model/(5, 6).h5...\n",
      "[INFO][2024/04/21 04:48:14 am] Loading segmentation (75, 6048, 6048)\n",
      "INFO:btrack.io.hdf:Loading segmentation (75, 6048, 6048)\n",
      "[INFO][2024/04/21 04:48:14 am] Closing HDF file: /mnt/SYNO/macrohet_syno/PS0000/labels/macrohet_seg_model/(5, 6).h5\n",
      "INFO:btrack.io.hdf:Closing HDF file: /mnt/SYNO/macrohet_syno/PS0000/labels/macrohet_seg_model/(5, 6).h5\n"
     ]
    },
    {
     "data": {
      "application/vnd.jupyter.widget-view+json": {
       "model_id": "664ef01794d343cd854e6260e62f9f9f",
       "version_major": 2,
       "version_minor": 0
      },
      "text/plain": [
       "  0%|          | 0/75 [00:00<?, ?it/s]"
      ]
     },
     "metadata": {},
     "output_type": "display_data"
    },
    {
     "name": "stdout",
     "output_type": "stream",
     "text": [
      "Video 59.5.6.PS0000 saved successfully.\n"
     ]
    },
    {
     "name": "stderr",
     "output_type": "stream",
     "text": [
      "[INFO][2024/04/21 04:54:37 am] Opening HDF file: /mnt/SYNO/macrohet_syno/PS0000/labels/macrohet_seg_model/(4, 4).h5...\n",
      "INFO:btrack.io.hdf:Opening HDF file: /mnt/SYNO/macrohet_syno/PS0000/labels/macrohet_seg_model/(4, 4).h5...\n",
      "[INFO][2024/04/21 04:55:11 am] Loading segmentation (75, 6048, 6048)\n",
      "INFO:btrack.io.hdf:Loading segmentation (75, 6048, 6048)\n",
      "[INFO][2024/04/21 04:55:11 am] Closing HDF file: /mnt/SYNO/macrohet_syno/PS0000/labels/macrohet_seg_model/(4, 4).h5\n",
      "INFO:btrack.io.hdf:Closing HDF file: /mnt/SYNO/macrohet_syno/PS0000/labels/macrohet_seg_model/(4, 4).h5\n"
     ]
    },
    {
     "data": {
      "application/vnd.jupyter.widget-view+json": {
       "model_id": "2b2a82777d6d4b9685a92c3459bcce6c",
       "version_major": 2,
       "version_minor": 0
      },
      "text/plain": [
       "  0%|          | 0/75 [00:00<?, ?it/s]"
      ]
     },
     "metadata": {},
     "output_type": "display_data"
    },
    {
     "name": "stdout",
     "output_type": "stream",
     "text": [
      "Video 369.4.4.PS0000 saved successfully.\n"
     ]
    },
    {
     "name": "stderr",
     "output_type": "stream",
     "text": [
      "[INFO][2024/04/21 05:01:14 am] Opening HDF file: /mnt/SYNO/macrohet_syno/PS0000/labels/macrohet_seg_model/(4, 6).h5...\n",
      "INFO:btrack.io.hdf:Opening HDF file: /mnt/SYNO/macrohet_syno/PS0000/labels/macrohet_seg_model/(4, 6).h5...\n",
      "[INFO][2024/04/21 05:01:39 am] Loading segmentation (75, 6048, 6048)\n",
      "INFO:btrack.io.hdf:Loading segmentation (75, 6048, 6048)\n",
      "[INFO][2024/04/21 05:01:39 am] Closing HDF file: /mnt/SYNO/macrohet_syno/PS0000/labels/macrohet_seg_model/(4, 6).h5\n",
      "INFO:btrack.io.hdf:Closing HDF file: /mnt/SYNO/macrohet_syno/PS0000/labels/macrohet_seg_model/(4, 6).h5\n"
     ]
    },
    {
     "data": {
      "application/vnd.jupyter.widget-view+json": {
       "model_id": "58a1d2adde714f45b51159f8eaf3a3e2",
       "version_major": 2,
       "version_minor": 0
      },
      "text/plain": [
       "  0%|          | 0/75 [00:00<?, ?it/s]"
      ]
     },
     "metadata": {},
     "output_type": "display_data"
    },
    {
     "name": "stdout",
     "output_type": "stream",
     "text": [
      "Video 96.4.6.PS0000 saved successfully.\n"
     ]
    },
    {
     "name": "stderr",
     "output_type": "stream",
     "text": [
      "[INFO][2024/04/21 05:08:08 am] Opening HDF file: /mnt/SYNO/macrohet_syno/PS0000/labels/macrohet_seg_model/(5, 6).h5...\n",
      "INFO:btrack.io.hdf:Opening HDF file: /mnt/SYNO/macrohet_syno/PS0000/labels/macrohet_seg_model/(5, 6).h5...\n",
      "[INFO][2024/04/21 05:08:30 am] Loading segmentation (75, 6048, 6048)\n",
      "INFO:btrack.io.hdf:Loading segmentation (75, 6048, 6048)\n",
      "[INFO][2024/04/21 05:08:30 am] Closing HDF file: /mnt/SYNO/macrohet_syno/PS0000/labels/macrohet_seg_model/(5, 6).h5\n",
      "INFO:btrack.io.hdf:Closing HDF file: /mnt/SYNO/macrohet_syno/PS0000/labels/macrohet_seg_model/(5, 6).h5\n"
     ]
    },
    {
     "data": {
      "application/vnd.jupyter.widget-view+json": {
       "model_id": "1614711b4daf4b3d8385055cfdb0846c",
       "version_major": 2,
       "version_minor": 0
      },
      "text/plain": [
       "  0%|          | 0/75 [00:00<?, ?it/s]"
      ]
     },
     "metadata": {},
     "output_type": "display_data"
    },
    {
     "name": "stdout",
     "output_type": "stream",
     "text": [
      "Video 544.5.6.PS0000 saved successfully.\n"
     ]
    },
    {
     "name": "stderr",
     "output_type": "stream",
     "text": [
      "[INFO][2024/04/21 05:13:37 am] Opening HDF file: /mnt/SYNO/macrohet_syno/ND0003/labels/cpv3/(3, 6).h5...\n",
      "INFO:btrack.io.hdf:Opening HDF file: /mnt/SYNO/macrohet_syno/ND0003/labels/cpv3/(3, 6).h5...\n",
      "[INFO][2024/04/21 05:14:33 am] Loading segmentation (154, 6048, 6048)\n",
      "INFO:btrack.io.hdf:Loading segmentation (154, 6048, 6048)\n",
      "[INFO][2024/04/21 05:14:33 am] Closing HDF file: /mnt/SYNO/macrohet_syno/ND0003/labels/cpv3/(3, 6).h5\n",
      "INFO:btrack.io.hdf:Closing HDF file: /mnt/SYNO/macrohet_syno/ND0003/labels/cpv3/(3, 6).h5\n"
     ]
    },
    {
     "data": {
      "application/vnd.jupyter.widget-view+json": {
       "model_id": "a6b93e47268b40a29be0c6b63951754a",
       "version_major": 2,
       "version_minor": 0
      },
      "text/plain": [
       "  0%|          | 0/106 [00:00<?, ?it/s]"
      ]
     },
     "metadata": {},
     "output_type": "display_data"
    },
    {
     "name": "stdout",
     "output_type": "stream",
     "text": [
      "Video 1646.3.6.ND0003 saved successfully.\n"
     ]
    },
    {
     "name": "stderr",
     "output_type": "stream",
     "text": [
      "[INFO][2024/04/21 05:22:50 am] Opening HDF file: /mnt/SYNO/macrohet_syno/PS0000/labels/macrohet_seg_model/(3, 8).h5...\n",
      "INFO:btrack.io.hdf:Opening HDF file: /mnt/SYNO/macrohet_syno/PS0000/labels/macrohet_seg_model/(3, 8).h5...\n",
      "[INFO][2024/04/21 05:23:07 am] Loading segmentation (75, 6048, 6048)\n",
      "INFO:btrack.io.hdf:Loading segmentation (75, 6048, 6048)\n",
      "[INFO][2024/04/21 05:23:07 am] Closing HDF file: /mnt/SYNO/macrohet_syno/PS0000/labels/macrohet_seg_model/(3, 8).h5\n",
      "INFO:btrack.io.hdf:Closing HDF file: /mnt/SYNO/macrohet_syno/PS0000/labels/macrohet_seg_model/(3, 8).h5\n"
     ]
    },
    {
     "data": {
      "application/vnd.jupyter.widget-view+json": {
       "model_id": "b79706986a3c4b119f031afcbdeea03d",
       "version_major": 2,
       "version_minor": 0
      },
      "text/plain": [
       "  0%|          | 0/75 [00:00<?, ?it/s]"
      ]
     },
     "metadata": {},
     "output_type": "display_data"
    },
    {
     "name": "stdout",
     "output_type": "stream",
     "text": [
      "Video 563.3.8.PS0000 saved successfully.\n"
     ]
    },
    {
     "name": "stderr",
     "output_type": "stream",
     "text": [
      "[INFO][2024/04/21 05:29:52 am] Opening HDF file: /mnt/SYNO/macrohet_syno/ND0003/labels/cpv3/(4, 3).h5...\n",
      "INFO:btrack.io.hdf:Opening HDF file: /mnt/SYNO/macrohet_syno/ND0003/labels/cpv3/(4, 3).h5...\n",
      "[INFO][2024/04/21 05:30:42 am] Loading segmentation (154, 6048, 6048)\n",
      "INFO:btrack.io.hdf:Loading segmentation (154, 6048, 6048)\n",
      "[INFO][2024/04/21 05:30:42 am] Closing HDF file: /mnt/SYNO/macrohet_syno/ND0003/labels/cpv3/(4, 3).h5\n",
      "INFO:btrack.io.hdf:Closing HDF file: /mnt/SYNO/macrohet_syno/ND0003/labels/cpv3/(4, 3).h5\n"
     ]
    },
    {
     "data": {
      "application/vnd.jupyter.widget-view+json": {
       "model_id": "1fbf88f11b0d4b649203fe8c0b761099",
       "version_major": 2,
       "version_minor": 0
      },
      "text/plain": [
       "  0%|          | 0/75 [00:00<?, ?it/s]"
      ]
     },
     "metadata": {},
     "output_type": "display_data"
    },
    {
     "name": "stdout",
     "output_type": "stream",
     "text": [
      "Video 864.4.3.ND0003 saved successfully.\n"
     ]
    },
    {
     "name": "stderr",
     "output_type": "stream",
     "text": [
      "[INFO][2024/04/21 05:36:44 am] Opening HDF file: /mnt/SYNO/macrohet_syno/ND0003/labels/cpv3/(3, 4).h5...\n",
      "INFO:btrack.io.hdf:Opening HDF file: /mnt/SYNO/macrohet_syno/ND0003/labels/cpv3/(3, 4).h5...\n",
      "[INFO][2024/04/21 05:37:38 am] Loading segmentation (154, 6048, 6048)\n",
      "INFO:btrack.io.hdf:Loading segmentation (154, 6048, 6048)\n",
      "[INFO][2024/04/21 05:37:39 am] Closing HDF file: /mnt/SYNO/macrohet_syno/ND0003/labels/cpv3/(3, 4).h5\n",
      "INFO:btrack.io.hdf:Closing HDF file: /mnt/SYNO/macrohet_syno/ND0003/labels/cpv3/(3, 4).h5\n"
     ]
    },
    {
     "data": {
      "application/vnd.jupyter.widget-view+json": {
       "model_id": "9818df12b1284fdd947aca472428e197",
       "version_major": 2,
       "version_minor": 0
      },
      "text/plain": [
       "  0%|          | 0/105 [00:00<?, ?it/s]"
      ]
     },
     "metadata": {},
     "output_type": "display_data"
    },
    {
     "name": "stdout",
     "output_type": "stream",
     "text": [
      "Video 1165.3.4.ND0003 saved successfully.\n"
     ]
    },
    {
     "name": "stderr",
     "output_type": "stream",
     "text": [
      "[INFO][2024/04/21 05:45:26 am] Opening HDF file: /mnt/SYNO/macrohet_syno/PS0000/labels/macrohet_seg_model/(6, 5).h5...\n",
      "INFO:btrack.io.hdf:Opening HDF file: /mnt/SYNO/macrohet_syno/PS0000/labels/macrohet_seg_model/(6, 5).h5...\n",
      "[INFO][2024/04/21 05:45:45 am] Loading segmentation (75, 6048, 6048)\n",
      "INFO:btrack.io.hdf:Loading segmentation (75, 6048, 6048)\n",
      "[INFO][2024/04/21 05:45:46 am] Closing HDF file: /mnt/SYNO/macrohet_syno/PS0000/labels/macrohet_seg_model/(6, 5).h5\n",
      "INFO:btrack.io.hdf:Closing HDF file: /mnt/SYNO/macrohet_syno/PS0000/labels/macrohet_seg_model/(6, 5).h5\n"
     ]
    },
    {
     "data": {
      "application/vnd.jupyter.widget-view+json": {
       "model_id": "a76c47d16eaa453a9fde01f6c89c97c7",
       "version_major": 2,
       "version_minor": 0
      },
      "text/plain": [
       "  0%|          | 0/75 [00:00<?, ?it/s]"
      ]
     },
     "metadata": {},
     "output_type": "display_data"
    },
    {
     "name": "stdout",
     "output_type": "stream",
     "text": [
      "Video 146.6.5.PS0000 saved successfully.\n"
     ]
    },
    {
     "name": "stderr",
     "output_type": "stream",
     "text": [
      "[INFO][2024/04/21 05:52:34 am] Opening HDF file: /mnt/SYNO/macrohet_syno/PS0000/labels/macrohet_seg_model/(4, 5).h5...\n",
      "INFO:btrack.io.hdf:Opening HDF file: /mnt/SYNO/macrohet_syno/PS0000/labels/macrohet_seg_model/(4, 5).h5...\n",
      "[INFO][2024/04/21 05:53:00 am] Loading segmentation (75, 6048, 6048)\n",
      "INFO:btrack.io.hdf:Loading segmentation (75, 6048, 6048)\n",
      "[INFO][2024/04/21 05:53:00 am] Closing HDF file: /mnt/SYNO/macrohet_syno/PS0000/labels/macrohet_seg_model/(4, 5).h5\n",
      "INFO:btrack.io.hdf:Closing HDF file: /mnt/SYNO/macrohet_syno/PS0000/labels/macrohet_seg_model/(4, 5).h5\n"
     ]
    },
    {
     "data": {
      "application/vnd.jupyter.widget-view+json": {
       "model_id": "33ca7b061aae47ebb3d0abdfdc6400bb",
       "version_major": 2,
       "version_minor": 0
      },
      "text/plain": [
       "  0%|          | 0/75 [00:00<?, ?it/s]"
      ]
     },
     "metadata": {},
     "output_type": "display_data"
    },
    {
     "name": "stdout",
     "output_type": "stream",
     "text": [
      "Video 436.4.5.PS0000 saved successfully.\n"
     ]
    },
    {
     "name": "stderr",
     "output_type": "stream",
     "text": [
      "[INFO][2024/04/21 05:58:55 am] Opening HDF file: /mnt/SYNO/macrohet_syno/ND0003/labels/cpv3/(3, 6).h5...\n",
      "INFO:btrack.io.hdf:Opening HDF file: /mnt/SYNO/macrohet_syno/ND0003/labels/cpv3/(3, 6).h5...\n",
      "[INFO][2024/04/21 05:59:48 am] Loading segmentation (154, 6048, 6048)\n",
      "INFO:btrack.io.hdf:Loading segmentation (154, 6048, 6048)\n",
      "[INFO][2024/04/21 05:59:48 am] Closing HDF file: /mnt/SYNO/macrohet_syno/ND0003/labels/cpv3/(3, 6).h5\n",
      "INFO:btrack.io.hdf:Closing HDF file: /mnt/SYNO/macrohet_syno/ND0003/labels/cpv3/(3, 6).h5\n"
     ]
    },
    {
     "data": {
      "application/vnd.jupyter.widget-view+json": {
       "model_id": "1488b70c6aed46feadb98b91999f5d1a",
       "version_major": 2,
       "version_minor": 0
      },
      "text/plain": [
       "  0%|          | 0/123 [00:00<?, ?it/s]"
      ]
     },
     "metadata": {},
     "output_type": "display_data"
    },
    {
     "name": "stdout",
     "output_type": "stream",
     "text": [
      "Video 177.3.6.ND0003 saved successfully.\n"
     ]
    },
    {
     "name": "stderr",
     "output_type": "stream",
     "text": [
      "[INFO][2024/04/21 06:09:20 am] Opening HDF file: /mnt/SYNO/macrohet_syno/ND0003/labels/cpv3/(5, 12).h5...\n",
      "INFO:btrack.io.hdf:Opening HDF file: /mnt/SYNO/macrohet_syno/ND0003/labels/cpv3/(5, 12).h5...\n",
      "[INFO][2024/04/21 06:10:18 am] Loading segmentation (154, 6048, 6048)\n",
      "INFO:btrack.io.hdf:Loading segmentation (154, 6048, 6048)\n",
      "[INFO][2024/04/21 06:10:19 am] Closing HDF file: /mnt/SYNO/macrohet_syno/ND0003/labels/cpv3/(5, 12).h5\n",
      "INFO:btrack.io.hdf:Closing HDF file: /mnt/SYNO/macrohet_syno/ND0003/labels/cpv3/(5, 12).h5\n"
     ]
    },
    {
     "data": {
      "application/vnd.jupyter.widget-view+json": {
       "model_id": "725d8543aded404394666ddc01b126fe",
       "version_major": 2,
       "version_minor": 0
      },
      "text/plain": [
       "  0%|          | 0/131 [00:00<?, ?it/s]"
      ]
     },
     "metadata": {},
     "output_type": "display_data"
    },
    {
     "name": "stdout",
     "output_type": "stream",
     "text": [
      "Video 1366.5.12.ND0003 saved successfully.\n"
     ]
    },
    {
     "name": "stderr",
     "output_type": "stream",
     "text": [
      "[INFO][2024/04/21 06:19:48 am] Opening HDF file: /mnt/SYNO/macrohet_syno/PS0000/labels/macrohet_seg_model/(6, 5).h5...\n",
      "INFO:btrack.io.hdf:Opening HDF file: /mnt/SYNO/macrohet_syno/PS0000/labels/macrohet_seg_model/(6, 5).h5...\n",
      "[INFO][2024/04/21 06:20:05 am] Loading segmentation (75, 6048, 6048)\n",
      "INFO:btrack.io.hdf:Loading segmentation (75, 6048, 6048)\n",
      "[INFO][2024/04/21 06:20:06 am] Closing HDF file: /mnt/SYNO/macrohet_syno/PS0000/labels/macrohet_seg_model/(6, 5).h5\n",
      "INFO:btrack.io.hdf:Closing HDF file: /mnt/SYNO/macrohet_syno/PS0000/labels/macrohet_seg_model/(6, 5).h5\n"
     ]
    },
    {
     "data": {
      "application/vnd.jupyter.widget-view+json": {
       "model_id": "1385ea004ee144519831c663795b36bf",
       "version_major": 2,
       "version_minor": 0
      },
      "text/plain": [
       "  0%|          | 0/75 [00:00<?, ?it/s]"
      ]
     },
     "metadata": {},
     "output_type": "display_data"
    },
    {
     "name": "stdout",
     "output_type": "stream",
     "text": [
      "Video 105.6.5.PS0000 saved successfully.\n"
     ]
    },
    {
     "name": "stderr",
     "output_type": "stream",
     "text": [
      "[INFO][2024/04/21 06:26:35 am] Opening HDF file: /mnt/SYNO/macrohet_syno/PS0000/labels/macrohet_seg_model/(6, 6).h5...\n",
      "INFO:btrack.io.hdf:Opening HDF file: /mnt/SYNO/macrohet_syno/PS0000/labels/macrohet_seg_model/(6, 6).h5...\n",
      "[INFO][2024/04/21 06:26:49 am] Loading segmentation (75, 6048, 6048)\n",
      "INFO:btrack.io.hdf:Loading segmentation (75, 6048, 6048)\n",
      "[INFO][2024/04/21 06:26:49 am] Closing HDF file: /mnt/SYNO/macrohet_syno/PS0000/labels/macrohet_seg_model/(6, 6).h5\n",
      "INFO:btrack.io.hdf:Closing HDF file: /mnt/SYNO/macrohet_syno/PS0000/labels/macrohet_seg_model/(6, 6).h5\n"
     ]
    },
    {
     "data": {
      "application/vnd.jupyter.widget-view+json": {
       "model_id": "a498444e1ced4c1caed2e01f7628ab20",
       "version_major": 2,
       "version_minor": 0
      },
      "text/plain": [
       "  0%|          | 0/75 [00:00<?, ?it/s]"
      ]
     },
     "metadata": {},
     "output_type": "display_data"
    },
    {
     "name": "stdout",
     "output_type": "stream",
     "text": [
      "Video 206.6.6.PS0000 saved successfully.\n"
     ]
    },
    {
     "name": "stderr",
     "output_type": "stream",
     "text": [
      "[INFO][2024/04/21 06:33:07 am] Opening HDF file: /mnt/SYNO/macrohet_syno/ND0003/labels/cpv3/(3, 6).h5...\n",
      "INFO:btrack.io.hdf:Opening HDF file: /mnt/SYNO/macrohet_syno/ND0003/labels/cpv3/(3, 6).h5...\n",
      "[INFO][2024/04/21 06:33:53 am] Loading segmentation (154, 6048, 6048)\n",
      "INFO:btrack.io.hdf:Loading segmentation (154, 6048, 6048)\n",
      "[INFO][2024/04/21 06:33:53 am] Closing HDF file: /mnt/SYNO/macrohet_syno/ND0003/labels/cpv3/(3, 6).h5\n",
      "INFO:btrack.io.hdf:Closing HDF file: /mnt/SYNO/macrohet_syno/ND0003/labels/cpv3/(3, 6).h5\n"
     ]
    },
    {
     "data": {
      "application/vnd.jupyter.widget-view+json": {
       "model_id": "83d5efed8b7247a697a0e1dce0971068",
       "version_major": 2,
       "version_minor": 0
      },
      "text/plain": [
       "  0%|          | 0/98 [00:00<?, ?it/s]"
      ]
     },
     "metadata": {},
     "output_type": "display_data"
    },
    {
     "name": "stdout",
     "output_type": "stream",
     "text": [
      "Video 274.3.6.ND0003 saved successfully.\n"
     ]
    },
    {
     "name": "stderr",
     "output_type": "stream",
     "text": [
      "[INFO][2024/04/21 06:41:17 am] Opening HDF file: /mnt/SYNO/macrohet_syno/ND0003/labels/cpv3/(3, 4).h5...\n",
      "INFO:btrack.io.hdf:Opening HDF file: /mnt/SYNO/macrohet_syno/ND0003/labels/cpv3/(3, 4).h5...\n",
      "[INFO][2024/04/21 06:42:05 am] Loading segmentation (154, 6048, 6048)\n",
      "INFO:btrack.io.hdf:Loading segmentation (154, 6048, 6048)\n",
      "[INFO][2024/04/21 06:42:05 am] Closing HDF file: /mnt/SYNO/macrohet_syno/ND0003/labels/cpv3/(3, 4).h5\n",
      "INFO:btrack.io.hdf:Closing HDF file: /mnt/SYNO/macrohet_syno/ND0003/labels/cpv3/(3, 4).h5\n"
     ]
    },
    {
     "data": {
      "application/vnd.jupyter.widget-view+json": {
       "model_id": "adf78984957c4154a487af689fc48e46",
       "version_major": 2,
       "version_minor": 0
      },
      "text/plain": [
       "  0%|          | 0/126 [00:00<?, ?it/s]"
      ]
     },
     "metadata": {},
     "output_type": "display_data"
    },
    {
     "name": "stdout",
     "output_type": "stream",
     "text": [
      "Video 1508.3.4.ND0003 saved successfully.\n"
     ]
    },
    {
     "name": "stderr",
     "output_type": "stream",
     "text": [
      "[INFO][2024/04/21 06:51:56 am] Opening HDF file: /mnt/SYNO/macrohet_syno/PS0000/labels/macrohet_seg_model/(3, 5).h5...\n",
      "INFO:btrack.io.hdf:Opening HDF file: /mnt/SYNO/macrohet_syno/PS0000/labels/macrohet_seg_model/(3, 5).h5...\n",
      "[INFO][2024/04/21 06:52:19 am] Loading segmentation (75, 6048, 6048)\n",
      "INFO:btrack.io.hdf:Loading segmentation (75, 6048, 6048)\n",
      "[INFO][2024/04/21 06:52:20 am] Closing HDF file: /mnt/SYNO/macrohet_syno/PS0000/labels/macrohet_seg_model/(3, 5).h5\n",
      "INFO:btrack.io.hdf:Closing HDF file: /mnt/SYNO/macrohet_syno/PS0000/labels/macrohet_seg_model/(3, 5).h5\n"
     ]
    },
    {
     "data": {
      "application/vnd.jupyter.widget-view+json": {
       "model_id": "3b84454b28c7488194998a2e1d1c3be6",
       "version_major": 2,
       "version_minor": 0
      },
      "text/plain": [
       "  0%|          | 0/75 [00:00<?, ?it/s]"
      ]
     },
     "metadata": {},
     "output_type": "display_data"
    },
    {
     "name": "stdout",
     "output_type": "stream",
     "text": [
      "Video 483.3.5.PS0000 saved successfully.\n"
     ]
    },
    {
     "name": "stderr",
     "output_type": "stream",
     "text": [
      "[INFO][2024/04/21 06:58:32 am] Opening HDF file: /mnt/SYNO/macrohet_syno/PS0000/labels/macrohet_seg_model/(4, 4).h5...\n",
      "INFO:btrack.io.hdf:Opening HDF file: /mnt/SYNO/macrohet_syno/PS0000/labels/macrohet_seg_model/(4, 4).h5...\n",
      "[INFO][2024/04/21 06:58:56 am] Loading segmentation (75, 6048, 6048)\n",
      "INFO:btrack.io.hdf:Loading segmentation (75, 6048, 6048)\n",
      "[INFO][2024/04/21 06:58:56 am] Closing HDF file: /mnt/SYNO/macrohet_syno/PS0000/labels/macrohet_seg_model/(4, 4).h5\n",
      "INFO:btrack.io.hdf:Closing HDF file: /mnt/SYNO/macrohet_syno/PS0000/labels/macrohet_seg_model/(4, 4).h5\n"
     ]
    },
    {
     "data": {
      "application/vnd.jupyter.widget-view+json": {
       "model_id": "bc20a9d164e34d7fbf9f8b714b814fe2",
       "version_major": 2,
       "version_minor": 0
      },
      "text/plain": [
       "  0%|          | 0/75 [00:00<?, ?it/s]"
      ]
     },
     "metadata": {},
     "output_type": "display_data"
    },
    {
     "name": "stdout",
     "output_type": "stream",
     "text": [
      "Video 637.4.4.PS0000 saved successfully.\n"
     ]
    },
    {
     "name": "stderr",
     "output_type": "stream",
     "text": [
      "[INFO][2024/04/21 07:04:01 am] Opening HDF file: /mnt/SYNO/macrohet_syno/ND0003/labels/cpv3/(3, 3).h5...\n",
      "INFO:btrack.io.hdf:Opening HDF file: /mnt/SYNO/macrohet_syno/ND0003/labels/cpv3/(3, 3).h5...\n",
      "[INFO][2024/04/21 07:04:55 am] Loading segmentation (154, 6048, 6048)\n",
      "INFO:btrack.io.hdf:Loading segmentation (154, 6048, 6048)\n",
      "[INFO][2024/04/21 07:04:55 am] Closing HDF file: /mnt/SYNO/macrohet_syno/ND0003/labels/cpv3/(3, 3).h5\n",
      "INFO:btrack.io.hdf:Closing HDF file: /mnt/SYNO/macrohet_syno/ND0003/labels/cpv3/(3, 3).h5\n"
     ]
    },
    {
     "data": {
      "application/vnd.jupyter.widget-view+json": {
       "model_id": "00162d6bd38344a5b4898f6713d58e69",
       "version_major": 2,
       "version_minor": 0
      },
      "text/plain": [
       "  0%|          | 0/85 [00:00<?, ?it/s]"
      ]
     },
     "metadata": {},
     "output_type": "display_data"
    },
    {
     "name": "stdout",
     "output_type": "stream",
     "text": [
      "Video 158.3.3.ND0003 saved successfully.\n"
     ]
    },
    {
     "name": "stderr",
     "output_type": "stream",
     "text": [
      "[INFO][2024/04/21 07:12:12 am] Opening HDF file: /mnt/SYNO/macrohet_syno/PS0000/labels/macrohet_seg_model/(4, 5).h5...\n",
      "INFO:btrack.io.hdf:Opening HDF file: /mnt/SYNO/macrohet_syno/PS0000/labels/macrohet_seg_model/(4, 5).h5...\n",
      "[INFO][2024/04/21 07:12:29 am] Loading segmentation (75, 6048, 6048)\n",
      "INFO:btrack.io.hdf:Loading segmentation (75, 6048, 6048)\n",
      "[INFO][2024/04/21 07:12:30 am] Closing HDF file: /mnt/SYNO/macrohet_syno/PS0000/labels/macrohet_seg_model/(4, 5).h5\n",
      "INFO:btrack.io.hdf:Closing HDF file: /mnt/SYNO/macrohet_syno/PS0000/labels/macrohet_seg_model/(4, 5).h5\n"
     ]
    },
    {
     "data": {
      "application/vnd.jupyter.widget-view+json": {
       "model_id": "a803b37ffe35477b8e940735b341fedd",
       "version_major": 2,
       "version_minor": 0
      },
      "text/plain": [
       "  0%|          | 0/73 [00:00<?, ?it/s]"
      ]
     },
     "metadata": {},
     "output_type": "display_data"
    },
    {
     "name": "stdout",
     "output_type": "stream",
     "text": [
      "Video 795.4.5.PS0000 saved successfully.\n"
     ]
    },
    {
     "name": "stderr",
     "output_type": "stream",
     "text": [
      "[INFO][2024/04/21 07:16:52 am] Opening HDF file: /mnt/SYNO/macrohet_syno/PS0000/labels/macrohet_seg_model/(3, 8).h5...\n",
      "INFO:btrack.io.hdf:Opening HDF file: /mnt/SYNO/macrohet_syno/PS0000/labels/macrohet_seg_model/(3, 8).h5...\n",
      "[INFO][2024/04/21 07:17:17 am] Loading segmentation (75, 6048, 6048)\n",
      "INFO:btrack.io.hdf:Loading segmentation (75, 6048, 6048)\n",
      "[INFO][2024/04/21 07:17:17 am] Closing HDF file: /mnt/SYNO/macrohet_syno/PS0000/labels/macrohet_seg_model/(3, 8).h5\n",
      "INFO:btrack.io.hdf:Closing HDF file: /mnt/SYNO/macrohet_syno/PS0000/labels/macrohet_seg_model/(3, 8).h5\n"
     ]
    },
    {
     "data": {
      "application/vnd.jupyter.widget-view+json": {
       "model_id": "e157044b8cf7488598d86f09978d355f",
       "version_major": 2,
       "version_minor": 0
      },
      "text/plain": [
       "  0%|          | 0/75 [00:00<?, ?it/s]"
      ]
     },
     "metadata": {},
     "output_type": "display_data"
    },
    {
     "name": "stdout",
     "output_type": "stream",
     "text": [
      "Video 438.3.8.PS0000 saved successfully.\n"
     ]
    },
    {
     "data": {
      "application/vnd.jupyter.widget-view+json": {
       "model_id": "bef38086a5ea4262a9dace0ca81a24c6",
       "version_major": 2,
       "version_minor": 0
      },
      "text/plain": [
       "  0%|          | 0/75 [00:00<?, ?it/s]"
      ]
     },
     "metadata": {},
     "output_type": "display_data"
    },
    {
     "name": "stdout",
     "output_type": "stream",
     "text": [
      "Video 163.3.8.PS0000 saved successfully.\n"
     ]
    },
    {
     "name": "stderr",
     "output_type": "stream",
     "text": [
      "[INFO][2024/04/21 07:28:29 am] Opening HDF file: /mnt/SYNO/macrohet_syno/PS0000/labels/macrohet_seg_model/(5, 5).h5...\n",
      "INFO:btrack.io.hdf:Opening HDF file: /mnt/SYNO/macrohet_syno/PS0000/labels/macrohet_seg_model/(5, 5).h5...\n",
      "[INFO][2024/04/21 07:28:43 am] Loading segmentation (75, 6048, 6048)\n",
      "INFO:btrack.io.hdf:Loading segmentation (75, 6048, 6048)\n",
      "[INFO][2024/04/21 07:28:43 am] Closing HDF file: /mnt/SYNO/macrohet_syno/PS0000/labels/macrohet_seg_model/(5, 5).h5\n",
      "INFO:btrack.io.hdf:Closing HDF file: /mnt/SYNO/macrohet_syno/PS0000/labels/macrohet_seg_model/(5, 5).h5\n"
     ]
    },
    {
     "data": {
      "application/vnd.jupyter.widget-view+json": {
       "model_id": "0b7f8a47b6ee404989a401845a20d0cb",
       "version_major": 2,
       "version_minor": 0
      },
      "text/plain": [
       "  0%|          | 0/75 [00:00<?, ?it/s]"
      ]
     },
     "metadata": {},
     "output_type": "display_data"
    },
    {
     "name": "stdout",
     "output_type": "stream",
     "text": [
      "Video 218.5.5.PS0000 saved successfully.\n"
     ]
    },
    {
     "name": "stderr",
     "output_type": "stream",
     "text": [
      "[INFO][2024/04/21 07:34:54 am] Opening HDF file: /mnt/SYNO/macrohet_syno/PS0000/labels/macrohet_seg_model/(4, 7).h5...\n",
      "INFO:btrack.io.hdf:Opening HDF file: /mnt/SYNO/macrohet_syno/PS0000/labels/macrohet_seg_model/(4, 7).h5...\n",
      "[INFO][2024/04/21 07:35:06 am] Loading segmentation (75, 6048, 6048)\n",
      "INFO:btrack.io.hdf:Loading segmentation (75, 6048, 6048)\n",
      "[INFO][2024/04/21 07:35:06 am] Closing HDF file: /mnt/SYNO/macrohet_syno/PS0000/labels/macrohet_seg_model/(4, 7).h5\n",
      "INFO:btrack.io.hdf:Closing HDF file: /mnt/SYNO/macrohet_syno/PS0000/labels/macrohet_seg_model/(4, 7).h5\n"
     ]
    },
    {
     "data": {
      "application/vnd.jupyter.widget-view+json": {
       "model_id": "bc85e4fd8f694fc7b30c5797448fff45",
       "version_major": 2,
       "version_minor": 0
      },
      "text/plain": [
       "  0%|          | 0/75 [00:00<?, ?it/s]"
      ]
     },
     "metadata": {},
     "output_type": "display_data"
    },
    {
     "name": "stdout",
     "output_type": "stream",
     "text": [
      "Video 212.4.7.PS0000 saved successfully.\n"
     ]
    },
    {
     "name": "stderr",
     "output_type": "stream",
     "text": [
      "[INFO][2024/04/21 07:41:25 am] Opening HDF file: /mnt/SYNO/macrohet_syno/PS0000/labels/macrohet_seg_model/(4, 5).h5...\n",
      "INFO:btrack.io.hdf:Opening HDF file: /mnt/SYNO/macrohet_syno/PS0000/labels/macrohet_seg_model/(4, 5).h5...\n",
      "[INFO][2024/04/21 07:41:46 am] Loading segmentation (75, 6048, 6048)\n",
      "INFO:btrack.io.hdf:Loading segmentation (75, 6048, 6048)\n",
      "[INFO][2024/04/21 07:41:46 am] Closing HDF file: /mnt/SYNO/macrohet_syno/PS0000/labels/macrohet_seg_model/(4, 5).h5\n",
      "INFO:btrack.io.hdf:Closing HDF file: /mnt/SYNO/macrohet_syno/PS0000/labels/macrohet_seg_model/(4, 5).h5\n"
     ]
    },
    {
     "data": {
      "application/vnd.jupyter.widget-view+json": {
       "model_id": "3f73984bb89248798f3bd8ef7f5289a6",
       "version_major": 2,
       "version_minor": 0
      },
      "text/plain": [
       "  0%|          | 0/73 [00:00<?, ?it/s]"
      ]
     },
     "metadata": {},
     "output_type": "display_data"
    },
    {
     "name": "stdout",
     "output_type": "stream",
     "text": [
      "Video 703.4.5.PS0000 saved successfully.\n"
     ]
    },
    {
     "name": "stderr",
     "output_type": "stream",
     "text": [
      "[INFO][2024/04/21 07:47:58 am] Opening HDF file: /mnt/SYNO/macrohet_syno/ND0003/labels/cpv3/(6, 7).h5...\n",
      "INFO:btrack.io.hdf:Opening HDF file: /mnt/SYNO/macrohet_syno/ND0003/labels/cpv3/(6, 7).h5...\n",
      "[INFO][2024/04/21 07:48:47 am] Loading segmentation (154, 6048, 6048)\n",
      "INFO:btrack.io.hdf:Loading segmentation (154, 6048, 6048)\n",
      "[INFO][2024/04/21 07:48:47 am] Closing HDF file: /mnt/SYNO/macrohet_syno/ND0003/labels/cpv3/(6, 7).h5\n",
      "INFO:btrack.io.hdf:Closing HDF file: /mnt/SYNO/macrohet_syno/ND0003/labels/cpv3/(6, 7).h5\n"
     ]
    },
    {
     "data": {
      "application/vnd.jupyter.widget-view+json": {
       "model_id": "da0c2252d2334dce8f6211d946e1843b",
       "version_major": 2,
       "version_minor": 0
      },
      "text/plain": [
       "  0%|          | 0/79 [00:00<?, ?it/s]"
      ]
     },
     "metadata": {},
     "output_type": "display_data"
    },
    {
     "name": "stdout",
     "output_type": "stream",
     "text": [
      "Video 2201.6.7.ND0003 saved successfully.\n"
     ]
    },
    {
     "name": "stderr",
     "output_type": "stream",
     "text": [
      "[INFO][2024/04/21 07:53:14 am] Opening HDF file: /mnt/SYNO/macrohet_syno/ND0003/labels/cpv3/(4, 3).h5...\n",
      "INFO:btrack.io.hdf:Opening HDF file: /mnt/SYNO/macrohet_syno/ND0003/labels/cpv3/(4, 3).h5...\n",
      "[INFO][2024/04/21 07:54:07 am] Loading segmentation (154, 6048, 6048)\n",
      "INFO:btrack.io.hdf:Loading segmentation (154, 6048, 6048)\n",
      "[INFO][2024/04/21 07:54:08 am] Closing HDF file: /mnt/SYNO/macrohet_syno/ND0003/labels/cpv3/(4, 3).h5\n",
      "INFO:btrack.io.hdf:Closing HDF file: /mnt/SYNO/macrohet_syno/ND0003/labels/cpv3/(4, 3).h5\n"
     ]
    },
    {
     "data": {
      "application/vnd.jupyter.widget-view+json": {
       "model_id": "f6a4b3e76957406a952dc5e76102663a",
       "version_major": 2,
       "version_minor": 0
      },
      "text/plain": [
       "  0%|          | 0/74 [00:00<?, ?it/s]"
      ]
     },
     "metadata": {},
     "output_type": "display_data"
    },
    {
     "name": "stdout",
     "output_type": "stream",
     "text": [
      "Video 3920.4.3.ND0003 saved successfully.\n"
     ]
    },
    {
     "name": "stderr",
     "output_type": "stream",
     "text": [
      "[INFO][2024/04/21 08:00:07 am] Opening HDF file: /mnt/SYNO/macrohet_syno/ND0003/labels/cpv3/(4, 4).h5...\n",
      "INFO:btrack.io.hdf:Opening HDF file: /mnt/SYNO/macrohet_syno/ND0003/labels/cpv3/(4, 4).h5...\n",
      "[INFO][2024/04/21 08:00:47 am] Loading segmentation (154, 6048, 6048)\n",
      "INFO:btrack.io.hdf:Loading segmentation (154, 6048, 6048)\n",
      "[INFO][2024/04/21 08:00:48 am] Closing HDF file: /mnt/SYNO/macrohet_syno/ND0003/labels/cpv3/(4, 4).h5\n",
      "INFO:btrack.io.hdf:Closing HDF file: /mnt/SYNO/macrohet_syno/ND0003/labels/cpv3/(4, 4).h5\n"
     ]
    },
    {
     "data": {
      "application/vnd.jupyter.widget-view+json": {
       "model_id": "0a2c177eb98a40098529ee7e3ce3c723",
       "version_major": 2,
       "version_minor": 0
      },
      "text/plain": [
       "  0%|          | 0/154 [00:00<?, ?it/s]"
      ]
     },
     "metadata": {},
     "output_type": "display_data"
    },
    {
     "name": "stdout",
     "output_type": "stream",
     "text": [
      "Video 261.4.4.ND0003 saved successfully.\n"
     ]
    },
    {
     "name": "stderr",
     "output_type": "stream",
     "text": [
      "[INFO][2024/04/21 08:10:13 am] Opening HDF file: /mnt/SYNO/macrohet_syno/ND0002/labels/cpv3/(3, 8).h5...\n",
      "INFO:btrack.io.hdf:Opening HDF file: /mnt/SYNO/macrohet_syno/ND0002/labels/cpv3/(3, 8).h5...\n",
      "[INFO][2024/04/21 08:11:05 am] Loading segmentation (150, 6048, 6048)\n",
      "INFO:btrack.io.hdf:Loading segmentation (150, 6048, 6048)\n",
      "[INFO][2024/04/21 08:11:05 am] Closing HDF file: /mnt/SYNO/macrohet_syno/ND0002/labels/cpv3/(3, 8).h5\n",
      "INFO:btrack.io.hdf:Closing HDF file: /mnt/SYNO/macrohet_syno/ND0002/labels/cpv3/(3, 8).h5\n"
     ]
    },
    {
     "data": {
      "application/vnd.jupyter.widget-view+json": {
       "model_id": "d035bb3ad3734a9bbbadd747207ca571",
       "version_major": 2,
       "version_minor": 0
      },
      "text/plain": [
       "  0%|          | 0/148 [00:00<?, ?it/s]"
      ]
     },
     "metadata": {},
     "output_type": "display_data"
    },
    {
     "name": "stdout",
     "output_type": "stream",
     "text": [
      "Video 168.3.8.ND0002 saved successfully.\n"
     ]
    },
    {
     "name": "stderr",
     "output_type": "stream",
     "text": [
      "[INFO][2024/04/21 08:21:14 am] Opening HDF file: /mnt/SYNO/macrohet_syno/PS0000/labels/macrohet_seg_model/(5, 5).h5...\n",
      "INFO:btrack.io.hdf:Opening HDF file: /mnt/SYNO/macrohet_syno/PS0000/labels/macrohet_seg_model/(5, 5).h5...\n",
      "[INFO][2024/04/21 08:21:29 am] Loading segmentation (75, 6048, 6048)\n",
      "INFO:btrack.io.hdf:Loading segmentation (75, 6048, 6048)\n",
      "[INFO][2024/04/21 08:21:30 am] Closing HDF file: /mnt/SYNO/macrohet_syno/PS0000/labels/macrohet_seg_model/(5, 5).h5\n",
      "INFO:btrack.io.hdf:Closing HDF file: /mnt/SYNO/macrohet_syno/PS0000/labels/macrohet_seg_model/(5, 5).h5\n"
     ]
    },
    {
     "data": {
      "application/vnd.jupyter.widget-view+json": {
       "model_id": "bfb2dce873c0411bb6bc1c153f0bd850",
       "version_major": 2,
       "version_minor": 0
      },
      "text/plain": [
       "  0%|          | 0/75 [00:00<?, ?it/s]"
      ]
     },
     "metadata": {},
     "output_type": "display_data"
    },
    {
     "name": "stdout",
     "output_type": "stream",
     "text": [
      "Video 298.5.5.PS0000 saved successfully.\n"
     ]
    },
    {
     "name": "stderr",
     "output_type": "stream",
     "text": [
      "[INFO][2024/04/21 08:28:12 am] Opening HDF file: /mnt/SYNO/macrohet_syno/PS0000/labels/macrohet_seg_model/(3, 4).h5...\n",
      "INFO:btrack.io.hdf:Opening HDF file: /mnt/SYNO/macrohet_syno/PS0000/labels/macrohet_seg_model/(3, 4).h5...\n",
      "[INFO][2024/04/21 08:28:29 am] Loading segmentation (75, 6048, 6048)\n",
      "INFO:btrack.io.hdf:Loading segmentation (75, 6048, 6048)\n",
      "[INFO][2024/04/21 08:28:29 am] Closing HDF file: /mnt/SYNO/macrohet_syno/PS0000/labels/macrohet_seg_model/(3, 4).h5\n",
      "INFO:btrack.io.hdf:Closing HDF file: /mnt/SYNO/macrohet_syno/PS0000/labels/macrohet_seg_model/(3, 4).h5\n"
     ]
    },
    {
     "data": {
      "application/vnd.jupyter.widget-view+json": {
       "model_id": "c239a4801b8347149839ad56d35a85f4",
       "version_major": 2,
       "version_minor": 0
      },
      "text/plain": [
       "  0%|          | 0/75 [00:00<?, ?it/s]"
      ]
     },
     "metadata": {},
     "output_type": "display_data"
    },
    {
     "name": "stdout",
     "output_type": "stream",
     "text": [
      "Video 137.3.4.PS0000 saved successfully.\n"
     ]
    },
    {
     "name": "stderr",
     "output_type": "stream",
     "text": [
      "[INFO][2024/04/21 08:34:47 am] Opening HDF file: /mnt/SYNO/macrohet_syno/ND0003/labels/cpv3/(3, 3).h5...\n",
      "INFO:btrack.io.hdf:Opening HDF file: /mnt/SYNO/macrohet_syno/ND0003/labels/cpv3/(3, 3).h5...\n",
      "[INFO][2024/04/21 08:35:43 am] Loading segmentation (154, 6048, 6048)\n",
      "INFO:btrack.io.hdf:Loading segmentation (154, 6048, 6048)\n",
      "[INFO][2024/04/21 08:35:43 am] Closing HDF file: /mnt/SYNO/macrohet_syno/ND0003/labels/cpv3/(3, 3).h5\n",
      "INFO:btrack.io.hdf:Closing HDF file: /mnt/SYNO/macrohet_syno/ND0003/labels/cpv3/(3, 3).h5\n"
     ]
    },
    {
     "data": {
      "application/vnd.jupyter.widget-view+json": {
       "model_id": "70c2e35d34b94506a003d2534be56099",
       "version_major": 2,
       "version_minor": 0
      },
      "text/plain": [
       "  0%|          | 0/88 [00:00<?, ?it/s]"
      ]
     },
     "metadata": {},
     "output_type": "display_data"
    },
    {
     "name": "stdout",
     "output_type": "stream",
     "text": [
      "Video 3021.3.3.ND0003 saved successfully.\n"
     ]
    },
    {
     "name": "stderr",
     "output_type": "stream",
     "text": [
      "[INFO][2024/04/21 08:42:23 am] Opening HDF file: /mnt/SYNO/macrohet_syno/PS0000/labels/macrohet_seg_model/(3, 9).h5...\n",
      "INFO:btrack.io.hdf:Opening HDF file: /mnt/SYNO/macrohet_syno/PS0000/labels/macrohet_seg_model/(3, 9).h5...\n",
      "[INFO][2024/04/21 08:42:36 am] Loading segmentation (75, 6048, 6048)\n",
      "INFO:btrack.io.hdf:Loading segmentation (75, 6048, 6048)\n",
      "[INFO][2024/04/21 08:42:37 am] Closing HDF file: /mnt/SYNO/macrohet_syno/PS0000/labels/macrohet_seg_model/(3, 9).h5\n",
      "INFO:btrack.io.hdf:Closing HDF file: /mnt/SYNO/macrohet_syno/PS0000/labels/macrohet_seg_model/(3, 9).h5\n"
     ]
    },
    {
     "data": {
      "application/vnd.jupyter.widget-view+json": {
       "model_id": "282db8c3df984a3aa2b17a08bc776b0a",
       "version_major": 2,
       "version_minor": 0
      },
      "text/plain": [
       "  0%|          | 0/75 [00:00<?, ?it/s]"
      ]
     },
     "metadata": {},
     "output_type": "display_data"
    },
    {
     "name": "stdout",
     "output_type": "stream",
     "text": [
      "Video 438.3.9.PS0000 saved successfully.\n"
     ]
    },
    {
     "name": "stderr",
     "output_type": "stream",
     "text": [
      "[INFO][2024/04/21 08:48:07 am] Opening HDF file: /mnt/SYNO/macrohet_syno/PS0000/labels/macrohet_seg_model/(3, 5).h5...\n",
      "INFO:btrack.io.hdf:Opening HDF file: /mnt/SYNO/macrohet_syno/PS0000/labels/macrohet_seg_model/(3, 5).h5...\n",
      "[INFO][2024/04/21 08:48:35 am] Loading segmentation (75, 6048, 6048)\n",
      "INFO:btrack.io.hdf:Loading segmentation (75, 6048, 6048)\n",
      "[INFO][2024/04/21 08:48:35 am] Closing HDF file: /mnt/SYNO/macrohet_syno/PS0000/labels/macrohet_seg_model/(3, 5).h5\n",
      "INFO:btrack.io.hdf:Closing HDF file: /mnt/SYNO/macrohet_syno/PS0000/labels/macrohet_seg_model/(3, 5).h5\n"
     ]
    },
    {
     "data": {
      "application/vnd.jupyter.widget-view+json": {
       "model_id": "b2507dc45a4d49c183bc5e5a68a40996",
       "version_major": 2,
       "version_minor": 0
      },
      "text/plain": [
       "  0%|          | 0/75 [00:00<?, ?it/s]"
      ]
     },
     "metadata": {},
     "output_type": "display_data"
    },
    {
     "name": "stdout",
     "output_type": "stream",
     "text": [
      "Video 564.3.5.PS0000 saved successfully.\n"
     ]
    },
    {
     "name": "stderr",
     "output_type": "stream",
     "text": [
      "[INFO][2024/04/21 08:55:04 am] Opening HDF file: /mnt/SYNO/macrohet_syno/PS0000/labels/macrohet_seg_model/(4, 6).h5...\n",
      "INFO:btrack.io.hdf:Opening HDF file: /mnt/SYNO/macrohet_syno/PS0000/labels/macrohet_seg_model/(4, 6).h5...\n",
      "[INFO][2024/04/21 08:55:28 am] Loading segmentation (75, 6048, 6048)\n",
      "INFO:btrack.io.hdf:Loading segmentation (75, 6048, 6048)\n",
      "[INFO][2024/04/21 08:55:29 am] Closing HDF file: /mnt/SYNO/macrohet_syno/PS0000/labels/macrohet_seg_model/(4, 6).h5\n",
      "INFO:btrack.io.hdf:Closing HDF file: /mnt/SYNO/macrohet_syno/PS0000/labels/macrohet_seg_model/(4, 6).h5\n"
     ]
    },
    {
     "data": {
      "application/vnd.jupyter.widget-view+json": {
       "model_id": "84f1abe73de14ec19f454a39a74079a6",
       "version_major": 2,
       "version_minor": 0
      },
      "text/plain": [
       "  0%|          | 0/73 [00:00<?, ?it/s]"
      ]
     },
     "metadata": {},
     "output_type": "display_data"
    },
    {
     "name": "stdout",
     "output_type": "stream",
     "text": [
      "Video 779.4.6.PS0000 saved successfully.\n"
     ]
    },
    {
     "name": "stderr",
     "output_type": "stream",
     "text": [
      "[INFO][2024/04/21 09:00:55 am] Opening HDF file: /mnt/SYNO/macrohet_syno/ND0003/labels/cpv3/(3, 11).h5...\n",
      "INFO:btrack.io.hdf:Opening HDF file: /mnt/SYNO/macrohet_syno/ND0003/labels/cpv3/(3, 11).h5...\n",
      "[INFO][2024/04/21 09:01:50 am] Loading segmentation (154, 6048, 6048)\n",
      "INFO:btrack.io.hdf:Loading segmentation (154, 6048, 6048)\n",
      "[INFO][2024/04/21 09:01:51 am] Closing HDF file: /mnt/SYNO/macrohet_syno/ND0003/labels/cpv3/(3, 11).h5\n",
      "INFO:btrack.io.hdf:Closing HDF file: /mnt/SYNO/macrohet_syno/ND0003/labels/cpv3/(3, 11).h5\n"
     ]
    },
    {
     "data": {
      "application/vnd.jupyter.widget-view+json": {
       "model_id": "6cdb2a5e33fe4324840b913e62d38861",
       "version_major": 2,
       "version_minor": 0
      },
      "text/plain": [
       "  0%|          | 0/113 [00:00<?, ?it/s]"
      ]
     },
     "metadata": {},
     "output_type": "display_data"
    },
    {
     "name": "stdout",
     "output_type": "stream",
     "text": [
      "Video 1239.3.11.ND0003 saved successfully.\n"
     ]
    },
    {
     "name": "stderr",
     "output_type": "stream",
     "text": [
      "[INFO][2024/04/21 09:09:28 am] Opening HDF file: /mnt/SYNO/macrohet_syno/ND0003/labels/cpv3/(3, 4).h5...\n",
      "INFO:btrack.io.hdf:Opening HDF file: /mnt/SYNO/macrohet_syno/ND0003/labels/cpv3/(3, 4).h5...\n",
      "[INFO][2024/04/21 09:10:19 am] Loading segmentation (154, 6048, 6048)\n",
      "INFO:btrack.io.hdf:Loading segmentation (154, 6048, 6048)\n",
      "[INFO][2024/04/21 09:10:20 am] Closing HDF file: /mnt/SYNO/macrohet_syno/ND0003/labels/cpv3/(3, 4).h5\n",
      "INFO:btrack.io.hdf:Closing HDF file: /mnt/SYNO/macrohet_syno/ND0003/labels/cpv3/(3, 4).h5\n"
     ]
    },
    {
     "data": {
      "application/vnd.jupyter.widget-view+json": {
       "model_id": "c7f99935339541e1b9ad5b37b110749a",
       "version_major": 2,
       "version_minor": 0
      },
      "text/plain": [
       "  0%|          | 0/108 [00:00<?, ?it/s]"
      ]
     },
     "metadata": {},
     "output_type": "display_data"
    },
    {
     "name": "stdout",
     "output_type": "stream",
     "text": [
      "Video 1232.3.4.ND0003 saved successfully.\n"
     ]
    },
    {
     "name": "stderr",
     "output_type": "stream",
     "text": [
      "[INFO][2024/04/21 09:18:38 am] Opening HDF file: /mnt/SYNO/macrohet_syno/ND0003/labels/cpv3/(4, 4).h5...\n",
      "INFO:btrack.io.hdf:Opening HDF file: /mnt/SYNO/macrohet_syno/ND0003/labels/cpv3/(4, 4).h5...\n",
      "[INFO][2024/04/21 09:19:28 am] Loading segmentation (154, 6048, 6048)\n",
      "INFO:btrack.io.hdf:Loading segmentation (154, 6048, 6048)\n",
      "[INFO][2024/04/21 09:19:29 am] Closing HDF file: /mnt/SYNO/macrohet_syno/ND0003/labels/cpv3/(4, 4).h5\n",
      "INFO:btrack.io.hdf:Closing HDF file: /mnt/SYNO/macrohet_syno/ND0003/labels/cpv3/(4, 4).h5\n"
     ]
    },
    {
     "data": {
      "application/vnd.jupyter.widget-view+json": {
       "model_id": "053e99a5d5cf4323b20f5798e0fb554c",
       "version_major": 2,
       "version_minor": 0
      },
      "text/plain": [
       "  0%|          | 0/90 [00:00<?, ?it/s]"
      ]
     },
     "metadata": {},
     "output_type": "display_data"
    },
    {
     "name": "stdout",
     "output_type": "stream",
     "text": [
      "Video 3085.4.4.ND0003 saved successfully.\n"
     ]
    },
    {
     "name": "stderr",
     "output_type": "stream",
     "text": [
      "[INFO][2024/04/21 09:24:19 am] Opening HDF file: /mnt/SYNO/macrohet_syno/ND0003/labels/cpv3/(3, 6).h5...\n",
      "INFO:btrack.io.hdf:Opening HDF file: /mnt/SYNO/macrohet_syno/ND0003/labels/cpv3/(3, 6).h5...\n",
      "[INFO][2024/04/21 09:25:08 am] Loading segmentation (154, 6048, 6048)\n",
      "INFO:btrack.io.hdf:Loading segmentation (154, 6048, 6048)\n",
      "[INFO][2024/04/21 09:25:09 am] Closing HDF file: /mnt/SYNO/macrohet_syno/ND0003/labels/cpv3/(3, 6).h5\n",
      "INFO:btrack.io.hdf:Closing HDF file: /mnt/SYNO/macrohet_syno/ND0003/labels/cpv3/(3, 6).h5\n"
     ]
    },
    {
     "data": {
      "application/vnd.jupyter.widget-view+json": {
       "model_id": "02b77b930846417d9e233594281800e4",
       "version_major": 2,
       "version_minor": 0
      },
      "text/plain": [
       "  0%|          | 0/95 [00:00<?, ?it/s]"
      ]
     },
     "metadata": {},
     "output_type": "display_data"
    },
    {
     "name": "stdout",
     "output_type": "stream",
     "text": [
      "Video 1786.3.6.ND0003 saved successfully.\n"
     ]
    },
    {
     "name": "stderr",
     "output_type": "stream",
     "text": [
      "[INFO][2024/04/21 09:33:02 am] Opening HDF file: /mnt/SYNO/macrohet_syno/PS0000/labels/macrohet_seg_model/(4, 5).h5...\n",
      "INFO:btrack.io.hdf:Opening HDF file: /mnt/SYNO/macrohet_syno/PS0000/labels/macrohet_seg_model/(4, 5).h5...\n",
      "[INFO][2024/04/21 09:33:25 am] Loading segmentation (75, 6048, 6048)\n",
      "INFO:btrack.io.hdf:Loading segmentation (75, 6048, 6048)\n",
      "[INFO][2024/04/21 09:33:25 am] Closing HDF file: /mnt/SYNO/macrohet_syno/PS0000/labels/macrohet_seg_model/(4, 5).h5\n",
      "INFO:btrack.io.hdf:Closing HDF file: /mnt/SYNO/macrohet_syno/PS0000/labels/macrohet_seg_model/(4, 5).h5\n"
     ]
    },
    {
     "data": {
      "application/vnd.jupyter.widget-view+json": {
       "model_id": "50a33119b7f14a93add07e44158d45a3",
       "version_major": 2,
       "version_minor": 0
      },
      "text/plain": [
       "  0%|          | 0/75 [00:00<?, ?it/s]"
      ]
     },
     "metadata": {},
     "output_type": "display_data"
    },
    {
     "name": "stdout",
     "output_type": "stream",
     "text": [
      "Video 565.4.5.PS0000 saved successfully.\n"
     ]
    },
    {
     "data": {
      "application/vnd.jupyter.widget-view+json": {
       "model_id": "3e7d2ae5ea0348228e8b8b73bf48c11a",
       "version_major": 2,
       "version_minor": 0
      },
      "text/plain": [
       "  0%|          | 0/74 [00:00<?, ?it/s]"
      ]
     },
     "metadata": {},
     "output_type": "display_data"
    },
    {
     "name": "stdout",
     "output_type": "stream",
     "text": [
      "Video 317.4.5.PS0000 saved successfully.\n"
     ]
    },
    {
     "name": "stderr",
     "output_type": "stream",
     "text": [
      "[INFO][2024/04/21 09:44:37 am] Opening HDF file: /mnt/SYNO/macrohet_syno/ND0003/labels/cpv3/(5, 10).h5...\n",
      "INFO:btrack.io.hdf:Opening HDF file: /mnt/SYNO/macrohet_syno/ND0003/labels/cpv3/(5, 10).h5...\n",
      "[INFO][2024/04/21 09:45:14 am] Loading segmentation (154, 6048, 6048)\n",
      "INFO:btrack.io.hdf:Loading segmentation (154, 6048, 6048)\n",
      "[INFO][2024/04/21 09:45:14 am] Closing HDF file: /mnt/SYNO/macrohet_syno/ND0003/labels/cpv3/(5, 10).h5\n",
      "INFO:btrack.io.hdf:Closing HDF file: /mnt/SYNO/macrohet_syno/ND0003/labels/cpv3/(5, 10).h5\n"
     ]
    },
    {
     "data": {
      "application/vnd.jupyter.widget-view+json": {
       "model_id": "4cb42fd0b00c4326aebe882a6c7f1921",
       "version_major": 2,
       "version_minor": 0
      },
      "text/plain": [
       "  0%|          | 0/74 [00:00<?, ?it/s]"
      ]
     },
     "metadata": {},
     "output_type": "display_data"
    },
    {
     "name": "stdout",
     "output_type": "stream",
     "text": [
      "Video 3525.5.10.ND0003 saved successfully.\n"
     ]
    },
    {
     "name": "stderr",
     "output_type": "stream",
     "text": [
      "[INFO][2024/04/21 09:51:18 am] Opening HDF file: /mnt/SYNO/macrohet_syno/ND0003/labels/cpv3/(4, 4).h5...\n",
      "INFO:btrack.io.hdf:Opening HDF file: /mnt/SYNO/macrohet_syno/ND0003/labels/cpv3/(4, 4).h5...\n",
      "[INFO][2024/04/21 09:52:06 am] Loading segmentation (154, 6048, 6048)\n",
      "INFO:btrack.io.hdf:Loading segmentation (154, 6048, 6048)\n",
      "[INFO][2024/04/21 09:52:06 am] Closing HDF file: /mnt/SYNO/macrohet_syno/ND0003/labels/cpv3/(4, 4).h5\n",
      "INFO:btrack.io.hdf:Closing HDF file: /mnt/SYNO/macrohet_syno/ND0003/labels/cpv3/(4, 4).h5\n"
     ]
    },
    {
     "data": {
      "application/vnd.jupyter.widget-view+json": {
       "model_id": "fe9d092c57ab480fbed2d290c8f3a803",
       "version_major": 2,
       "version_minor": 0
      },
      "text/plain": [
       "  0%|          | 0/110 [00:00<?, ?it/s]"
      ]
     },
     "metadata": {},
     "output_type": "display_data"
    },
    {
     "name": "stdout",
     "output_type": "stream",
     "text": [
      "Video 2295.4.4.ND0003 saved successfully.\n"
     ]
    },
    {
     "name": "stderr",
     "output_type": "stream",
     "text": [
      "[INFO][2024/04/21 10:00:27 am] Opening HDF file: /mnt/SYNO/macrohet_syno/ND0003/labels/cpv3/(3, 4).h5...\n",
      "INFO:btrack.io.hdf:Opening HDF file: /mnt/SYNO/macrohet_syno/ND0003/labels/cpv3/(3, 4).h5...\n",
      "[INFO][2024/04/21 10:01:12 am] Loading segmentation (154, 6048, 6048)\n",
      "INFO:btrack.io.hdf:Loading segmentation (154, 6048, 6048)\n",
      "[INFO][2024/04/21 10:01:13 am] Closing HDF file: /mnt/SYNO/macrohet_syno/ND0003/labels/cpv3/(3, 4).h5\n",
      "INFO:btrack.io.hdf:Closing HDF file: /mnt/SYNO/macrohet_syno/ND0003/labels/cpv3/(3, 4).h5\n"
     ]
    },
    {
     "data": {
      "application/vnd.jupyter.widget-view+json": {
       "model_id": "8b3072097e474d3aa44e163bade80802",
       "version_major": 2,
       "version_minor": 0
      },
      "text/plain": [
       "  0%|          | 0/92 [00:00<?, ?it/s]"
      ]
     },
     "metadata": {},
     "output_type": "display_data"
    },
    {
     "name": "stdout",
     "output_type": "stream",
     "text": [
      "Video 342.3.4.ND0003 saved successfully.\n"
     ]
    },
    {
     "name": "stderr",
     "output_type": "stream",
     "text": [
      "[INFO][2024/04/21 10:08:44 am] Opening HDF file: /mnt/SYNO/macrohet_syno/ND0003/labels/cpv3/(6, 7).h5...\n",
      "INFO:btrack.io.hdf:Opening HDF file: /mnt/SYNO/macrohet_syno/ND0003/labels/cpv3/(6, 7).h5...\n",
      "[INFO][2024/04/21 10:09:37 am] Loading segmentation (154, 6048, 6048)\n",
      "INFO:btrack.io.hdf:Loading segmentation (154, 6048, 6048)\n",
      "[INFO][2024/04/21 10:09:38 am] Closing HDF file: /mnt/SYNO/macrohet_syno/ND0003/labels/cpv3/(6, 7).h5\n",
      "INFO:btrack.io.hdf:Closing HDF file: /mnt/SYNO/macrohet_syno/ND0003/labels/cpv3/(6, 7).h5\n"
     ]
    },
    {
     "data": {
      "application/vnd.jupyter.widget-view+json": {
       "model_id": "390f6c0f78ea402e87dcf487cc1941be",
       "version_major": 2,
       "version_minor": 0
      },
      "text/plain": [
       "  0%|          | 0/90 [00:00<?, ?it/s]"
      ]
     },
     "metadata": {},
     "output_type": "display_data"
    },
    {
     "name": "stdout",
     "output_type": "stream",
     "text": [
      "Video 2294.6.7.ND0003 saved successfully.\n"
     ]
    },
    {
     "name": "stderr",
     "output_type": "stream",
     "text": [
      "[INFO][2024/04/21 10:16:12 am] Opening HDF file: /mnt/SYNO/macrohet_syno/ND0003/labels/cpv3/(6, 8).h5...\n",
      "INFO:btrack.io.hdf:Opening HDF file: /mnt/SYNO/macrohet_syno/ND0003/labels/cpv3/(6, 8).h5...\n",
      "[INFO][2024/04/21 10:17:07 am] Loading segmentation (154, 6048, 6048)\n",
      "INFO:btrack.io.hdf:Loading segmentation (154, 6048, 6048)\n",
      "[INFO][2024/04/21 10:17:08 am] Closing HDF file: /mnt/SYNO/macrohet_syno/ND0003/labels/cpv3/(6, 8).h5\n",
      "INFO:btrack.io.hdf:Closing HDF file: /mnt/SYNO/macrohet_syno/ND0003/labels/cpv3/(6, 8).h5\n"
     ]
    },
    {
     "data": {
      "application/vnd.jupyter.widget-view+json": {
       "model_id": "315fe7e4706441269e90208cc81a49af",
       "version_major": 2,
       "version_minor": 0
      },
      "text/plain": [
       "  0%|          | 0/82 [00:00<?, ?it/s]"
      ]
     },
     "metadata": {},
     "output_type": "display_data"
    },
    {
     "name": "stdout",
     "output_type": "stream",
     "text": [
      "Video 1376.6.8.ND0003 saved successfully.\n"
     ]
    },
    {
     "name": "stderr",
     "output_type": "stream",
     "text": [
      "[INFO][2024/04/21 10:23:29 am] Opening HDF file: /mnt/SYNO/macrohet_syno/ND0002/labels/cpv3/(5, 11).h5...\n",
      "INFO:btrack.io.hdf:Opening HDF file: /mnt/SYNO/macrohet_syno/ND0002/labels/cpv3/(5, 11).h5...\n",
      "[INFO][2024/04/21 10:24:04 am] Loading segmentation (150, 6048, 6048)\n",
      "INFO:btrack.io.hdf:Loading segmentation (150, 6048, 6048)\n",
      "[INFO][2024/04/21 10:24:04 am] Closing HDF file: /mnt/SYNO/macrohet_syno/ND0002/labels/cpv3/(5, 11).h5\n",
      "INFO:btrack.io.hdf:Closing HDF file: /mnt/SYNO/macrohet_syno/ND0002/labels/cpv3/(5, 11).h5\n"
     ]
    },
    {
     "data": {
      "application/vnd.jupyter.widget-view+json": {
       "model_id": "8b108341e2c840b693d35ce6b32956ab",
       "version_major": 2,
       "version_minor": 0
      },
      "text/plain": [
       "  0%|          | 0/125 [00:00<?, ?it/s]"
      ]
     },
     "metadata": {},
     "output_type": "display_data"
    },
    {
     "name": "stdout",
     "output_type": "stream",
     "text": [
      "Video 471.5.11.ND0002 saved successfully.\n"
     ]
    },
    {
     "name": "stderr",
     "output_type": "stream",
     "text": [
      "[INFO][2024/04/21 10:33:50 am] Opening HDF file: /mnt/SYNO/macrohet_syno/PS0000/labels/macrohet_seg_model/(3, 9).h5...\n",
      "INFO:btrack.io.hdf:Opening HDF file: /mnt/SYNO/macrohet_syno/PS0000/labels/macrohet_seg_model/(3, 9).h5...\n",
      "[INFO][2024/04/21 10:34:05 am] Loading segmentation (75, 6048, 6048)\n",
      "INFO:btrack.io.hdf:Loading segmentation (75, 6048, 6048)\n",
      "[INFO][2024/04/21 10:34:05 am] Closing HDF file: /mnt/SYNO/macrohet_syno/PS0000/labels/macrohet_seg_model/(3, 9).h5\n",
      "INFO:btrack.io.hdf:Closing HDF file: /mnt/SYNO/macrohet_syno/PS0000/labels/macrohet_seg_model/(3, 9).h5\n"
     ]
    },
    {
     "data": {
      "application/vnd.jupyter.widget-view+json": {
       "model_id": "02a6ef4f7b494afba7230a4bed81f6d3",
       "version_major": 2,
       "version_minor": 0
      },
      "text/plain": [
       "  0%|          | 0/75 [00:00<?, ?it/s]"
      ]
     },
     "metadata": {},
     "output_type": "display_data"
    },
    {
     "name": "stdout",
     "output_type": "stream",
     "text": [
      "Video 89.3.9.PS0000 saved successfully.\n"
     ]
    },
    {
     "name": "stderr",
     "output_type": "stream",
     "text": [
      "[INFO][2024/04/21 10:40:34 am] Opening HDF file: /mnt/SYNO/macrohet_syno/PS0000/labels/macrohet_seg_model/(4, 6).h5...\n",
      "INFO:btrack.io.hdf:Opening HDF file: /mnt/SYNO/macrohet_syno/PS0000/labels/macrohet_seg_model/(4, 6).h5...\n",
      "[INFO][2024/04/21 10:40:49 am] Loading segmentation (75, 6048, 6048)\n",
      "INFO:btrack.io.hdf:Loading segmentation (75, 6048, 6048)\n",
      "[INFO][2024/04/21 10:40:49 am] Closing HDF file: /mnt/SYNO/macrohet_syno/PS0000/labels/macrohet_seg_model/(4, 6).h5\n",
      "INFO:btrack.io.hdf:Closing HDF file: /mnt/SYNO/macrohet_syno/PS0000/labels/macrohet_seg_model/(4, 6).h5\n"
     ]
    },
    {
     "data": {
      "application/vnd.jupyter.widget-view+json": {
       "model_id": "2d15de40eebf4781924e9683750ec65d",
       "version_major": 2,
       "version_minor": 0
      },
      "text/plain": [
       "  0%|          | 0/72 [00:00<?, ?it/s]"
      ]
     },
     "metadata": {},
     "output_type": "display_data"
    },
    {
     "name": "stdout",
     "output_type": "stream",
     "text": [
      "Video 914.4.6.PS0000 saved successfully.\n"
     ]
    },
    {
     "name": "stderr",
     "output_type": "stream",
     "text": [
      "[INFO][2024/04/21 10:46:50 am] Opening HDF file: /mnt/SYNO/macrohet_syno/ND0003/labels/cpv3/(6, 5).h5...\n",
      "INFO:btrack.io.hdf:Opening HDF file: /mnt/SYNO/macrohet_syno/ND0003/labels/cpv3/(6, 5).h5...\n",
      "[INFO][2024/04/21 10:47:29 am] Loading segmentation (154, 6048, 6048)\n",
      "INFO:btrack.io.hdf:Loading segmentation (154, 6048, 6048)\n",
      "[INFO][2024/04/21 10:47:29 am] Closing HDF file: /mnt/SYNO/macrohet_syno/ND0003/labels/cpv3/(6, 5).h5\n",
      "INFO:btrack.io.hdf:Closing HDF file: /mnt/SYNO/macrohet_syno/ND0003/labels/cpv3/(6, 5).h5\n"
     ]
    },
    {
     "data": {
      "application/vnd.jupyter.widget-view+json": {
       "model_id": "136e124f45be402ea3c5fa4bbe0e1dbb",
       "version_major": 2,
       "version_minor": 0
      },
      "text/plain": [
       "  0%|          | 0/153 [00:00<?, ?it/s]"
      ]
     },
     "metadata": {},
     "output_type": "display_data"
    },
    {
     "name": "stdout",
     "output_type": "stream",
     "text": [
      "Video 74.6.5.ND0003 saved successfully.\n"
     ]
    },
    {
     "name": "stderr",
     "output_type": "stream",
     "text": [
      "[INFO][2024/04/21 10:58:00 am] Opening HDF file: /mnt/SYNO/macrohet_syno/ND0003/labels/cpv3/(3, 6).h5...\n",
      "INFO:btrack.io.hdf:Opening HDF file: /mnt/SYNO/macrohet_syno/ND0003/labels/cpv3/(3, 6).h5...\n",
      "[INFO][2024/04/21 10:58:55 am] Loading segmentation (154, 6048, 6048)\n",
      "INFO:btrack.io.hdf:Loading segmentation (154, 6048, 6048)\n",
      "[INFO][2024/04/21 10:58:55 am] Closing HDF file: /mnt/SYNO/macrohet_syno/ND0003/labels/cpv3/(3, 6).h5\n",
      "INFO:btrack.io.hdf:Closing HDF file: /mnt/SYNO/macrohet_syno/ND0003/labels/cpv3/(3, 6).h5\n"
     ]
    },
    {
     "data": {
      "application/vnd.jupyter.widget-view+json": {
       "model_id": "6379021c8d9e402d8e33d8d5b8173fc6",
       "version_major": 2,
       "version_minor": 0
      },
      "text/plain": [
       "  0%|          | 0/132 [00:00<?, ?it/s]"
      ]
     },
     "metadata": {},
     "output_type": "display_data"
    },
    {
     "name": "stdout",
     "output_type": "stream",
     "text": [
      "Video 1448.3.6.ND0003 saved successfully.\n"
     ]
    },
    {
     "name": "stderr",
     "output_type": "stream",
     "text": [
      "[INFO][2024/04/21 11:08:49 am] Opening HDF file: /mnt/SYNO/macrohet_syno/PS0000/labels/macrohet_seg_model/(3, 5).h5...\n",
      "INFO:btrack.io.hdf:Opening HDF file: /mnt/SYNO/macrohet_syno/PS0000/labels/macrohet_seg_model/(3, 5).h5...\n",
      "[INFO][2024/04/21 11:09:19 am] Loading segmentation (75, 6048, 6048)\n",
      "INFO:btrack.io.hdf:Loading segmentation (75, 6048, 6048)\n",
      "[INFO][2024/04/21 11:09:20 am] Closing HDF file: /mnt/SYNO/macrohet_syno/PS0000/labels/macrohet_seg_model/(3, 5).h5\n",
      "INFO:btrack.io.hdf:Closing HDF file: /mnt/SYNO/macrohet_syno/PS0000/labels/macrohet_seg_model/(3, 5).h5\n"
     ]
    },
    {
     "data": {
      "application/vnd.jupyter.widget-view+json": {
       "model_id": "920e8d72711c41ac9dd6fd5543c3aa6a",
       "version_major": 2,
       "version_minor": 0
      },
      "text/plain": [
       "  0%|          | 0/75 [00:00<?, ?it/s]"
      ]
     },
     "metadata": {},
     "output_type": "display_data"
    },
    {
     "name": "stdout",
     "output_type": "stream",
     "text": [
      "Video 254.3.5.PS0000 saved successfully.\n"
     ]
    },
    {
     "name": "stderr",
     "output_type": "stream",
     "text": [
      "[INFO][2024/04/21 11:15:41 am] Opening HDF file: /mnt/SYNO/macrohet_syno/PS0000/labels/macrohet_seg_model/(5, 5).h5...\n",
      "INFO:btrack.io.hdf:Opening HDF file: /mnt/SYNO/macrohet_syno/PS0000/labels/macrohet_seg_model/(5, 5).h5...\n",
      "[INFO][2024/04/21 11:16:02 am] Loading segmentation (75, 6048, 6048)\n",
      "INFO:btrack.io.hdf:Loading segmentation (75, 6048, 6048)\n",
      "[INFO][2024/04/21 11:16:03 am] Closing HDF file: /mnt/SYNO/macrohet_syno/PS0000/labels/macrohet_seg_model/(5, 5).h5\n",
      "INFO:btrack.io.hdf:Closing HDF file: /mnt/SYNO/macrohet_syno/PS0000/labels/macrohet_seg_model/(5, 5).h5\n"
     ]
    },
    {
     "data": {
      "application/vnd.jupyter.widget-view+json": {
       "model_id": "14fa6ace042340e48ee58ab3d11a2542",
       "version_major": 2,
       "version_minor": 0
      },
      "text/plain": [
       "  0%|          | 0/75 [00:00<?, ?it/s]"
      ]
     },
     "metadata": {},
     "output_type": "display_data"
    },
    {
     "name": "stdout",
     "output_type": "stream",
     "text": [
      "Video 397.5.5.PS0000 saved successfully.\n"
     ]
    },
    {
     "name": "stderr",
     "output_type": "stream",
     "text": [
      "[INFO][2024/04/21 11:22:27 am] Opening HDF file: /mnt/SYNO/macrohet_syno/PS0000/labels/macrohet_seg_model/(3, 5).h5...\n",
      "INFO:btrack.io.hdf:Opening HDF file: /mnt/SYNO/macrohet_syno/PS0000/labels/macrohet_seg_model/(3, 5).h5...\n",
      "[INFO][2024/04/21 11:22:52 am] Loading segmentation (75, 6048, 6048)\n",
      "INFO:btrack.io.hdf:Loading segmentation (75, 6048, 6048)\n",
      "[INFO][2024/04/21 11:22:53 am] Closing HDF file: /mnt/SYNO/macrohet_syno/PS0000/labels/macrohet_seg_model/(3, 5).h5\n",
      "INFO:btrack.io.hdf:Closing HDF file: /mnt/SYNO/macrohet_syno/PS0000/labels/macrohet_seg_model/(3, 5).h5\n"
     ]
    },
    {
     "data": {
      "application/vnd.jupyter.widget-view+json": {
       "model_id": "2f417c52cca3427aac62d6e8167a0143",
       "version_major": 2,
       "version_minor": 0
      },
      "text/plain": [
       "  0%|          | 0/75 [00:00<?, ?it/s]"
      ]
     },
     "metadata": {},
     "output_type": "display_data"
    },
    {
     "name": "stdout",
     "output_type": "stream",
     "text": [
      "Video 542.3.5.PS0000 saved successfully.\n"
     ]
    },
    {
     "data": {
      "application/vnd.jupyter.widget-view+json": {
       "model_id": "acc741c18fe342f6b1530cf6a9259a6b",
       "version_major": 2,
       "version_minor": 0
      },
      "text/plain": [
       "  0%|          | 0/79 [00:00<?, ?it/s]"
      ]
     },
     "metadata": {},
     "output_type": "display_data"
    },
    {
     "ename": "IndexError",
     "evalue": "index 75 is out of bounds for axis 0 with size 75",
     "output_type": "error",
     "traceback": [
      "\u001b[0;31m---------------------------------------------------------------------------\u001b[0m",
      "\u001b[0;31mIndexError\u001b[0m                                Traceback (most recent call last)",
      "Cell \u001b[0;32mIn[368], line 160\u001b[0m\n\u001b[1;32m    155\u001b[0m rgb_image \u001b[38;5;241m=\u001b[39m np\u001b[38;5;241m.\u001b[39muint8(rgb_image \u001b[38;5;241m>>\u001b[39m \u001b[38;5;241m8\u001b[39m)\n\u001b[1;32m    157\u001b[0m \u001b[38;5;28;01mif\u001b[39;00m mask_outline:\n\u001b[1;32m    158\u001b[0m     \u001b[38;5;66;03m# load mask (singular)\u001b[39;00m\n\u001b[0;32m--> 160\u001b[0m     cropped_masks \u001b[38;5;241m=\u001b[39m \u001b[43msegmentation\u001b[49m\u001b[43m[\u001b[49m\u001b[43mframe_number\u001b[49m\u001b[43m,\u001b[49m\u001b[43m \u001b[49m\u001b[43mx_start\u001b[49m\u001b[43m:\u001b[49m\u001b[43mx_end\u001b[49m\u001b[43m,\u001b[49m\u001b[43m \u001b[49m\u001b[43my_start\u001b[49m\u001b[43m:\u001b[49m\u001b[43my_end\u001b[49m\u001b[43m]\u001b[49m\n\u001b[1;32m    162\u001b[0m     \u001b[38;5;66;03m# Pad the cropped image if necessary\u001b[39;00m\n\u001b[1;32m    163\u001b[0m     cropped_masks \u001b[38;5;241m=\u001b[39m np\u001b[38;5;241m.\u001b[39mpad(cropped_masks, ((x_pad, x_pad_end), (y_pad, y_pad_end)), mode\u001b[38;5;241m=\u001b[39m\u001b[38;5;124m'\u001b[39m\u001b[38;5;124mconstant\u001b[39m\u001b[38;5;124m'\u001b[39m)\n",
      "\u001b[0;31mIndexError\u001b[0m: index 75 is out of bounds for axis 0 with size 75"
     ]
    }
   ],
   "source": [
    "\n",
    "pattern = r\"cell_ID\\.(.*?)_dt\"\n",
    "# fns = glob.glob('/mnt/SYNO/macrohet_syno/manuscript/results/dt_dev_09-04-2024/glimpses/*.mp4')\n",
    "# pattern = r\"cell_ID\\.(.*?).mp4\"\n",
    "\n",
    "previous_files = set() \n",
    "\n",
    "while True:\n",
    "    print('Checking for new files')\n",
    "    # Find all PNG files matching the pattern\n",
    "    fns = glob.glob(f'/mnt/SYNO/macrohet_syno/manuscript/results/dt_dev/dt_dev_19-04-2024/accurate/*.png')\n",
    "    new_files = set(fns) - previous_files  # Get the set difference to find new files\n",
    "    \n",
    "    for fn in new_files:\n",
    "        ID = re.search(pattern, fn).group(1)\n",
    "        # Add your processing logic here\n",
    " \n",
    "    # for fn in tqdm(fns):\n",
    "    #     ID = re.search(pattern, fn).group(1)\n",
    "        # ID = '407.3.12.ND0003'\n",
    "        output_dirname = '/mnt/SYNO/macrohet_syno/manuscript/results/dt_dev/glimpses' #os.path.dirname(fn)\n",
    "        output_file = os.path.join(output_dirname, f'glimpses/cell_ID.{ID}.mp4')\n",
    "        if os.path.exists(output_file):\n",
    "            continue\n",
    "        \n",
    "        # set empty image array \n",
    "        rgb_stack = []\n",
    "        \n",
    "        # get single cell information \n",
    "        sc_df = df[df['ID']==ID]\n",
    "    \n",
    "        # Scale the x and y coordinates\n",
    "        scaled_x_coords = sc_df.x * track_scale_factor\n",
    "        scaled_y_coords = sc_df.y * track_scale_factor\n",
    "        \n",
    "        # if (any(scaled_x_coords < boundary_buffer) or \n",
    "        #     any(scaled_y_coords < boundary_buffer) or\n",
    "        #     any(scaled_x_coords > image_width-boundary_buffer) or \n",
    "        #     any(scaled_y_coords > image_height-boundary_buffer)):\n",
    "        #     # Save empty text file with \"boundary_case\" at the beginning\n",
    "        #     boundary_file = os.path.join(output_dirname, f'glimpses/boundary_case_cell_ID_{ID}.txt')\n",
    "        #     with open(boundary_file, 'w') as f:\n",
    "        #         f.write(\"boundary_case\\n\")\n",
    "        #     continue\n",
    "        \n",
    "        acq_ID = sc_df['Acquisition ID'].iloc[0] #  tuple(int(x) for x in ID.split('.')[1:3])\n",
    "        expt_ID = sc_df['Experiment ID'].iloc[0] #ID.split('.')[-1]\n",
    "        base_dir = f'/mnt/SYNO/macrohet_syno/{expt_ID}'\n",
    "        # convert to frames\n",
    "        time_values = sc_df['Time (hours)']\n",
    "        if expt_ID != 'PS0000':\n",
    "            frames = time_values*2 # if expt_ID != 'PS0000' else time_values\n",
    "        else:\n",
    "            frames = time_values.values\n",
    "        # check channel enum\n",
    "        gfp_channel = 0 if expt_ID == 'PS0000' else 1\n",
    "        rfp_channel = 1 if expt_ID == 'PS0000' else 0\n",
    "        \n",
    "        # load images\n",
    "        image_dir = os.path.join(base_dir, f'acquisition/zarr/{acq_ID}.zarr')\n",
    "        zarr_group = zarr.open(image_dir, mode='r')\n",
    "        images = zarr_group.images\n",
    "        \n",
    "        # check if segmentation already loaded\n",
    "        if str(acq_ID) not in seg_fn:\n",
    "            # define seg path\n",
    "            if expt_ID == 'PS0000':\n",
    "                seg_fn = os.path.join(base_dir, f'labels/macrohet_seg_model/{acq_ID}.h5')\n",
    "            else:\n",
    "                seg_fn = os.path.join(base_dir, f'labels/cpv3/{acq_ID}.h5')\n",
    "            # load segmentation\n",
    "            with btrack.io.HDF5FileHandler(seg_fn,\n",
    "                                           'r',\n",
    "                                           obj_type='obj_type_1') as reader:\n",
    "                segmentation = reader.segmentation\n",
    "        \n",
    "        # iterate over time values creating\n",
    "        for t, frame_number in tqdm(zip(time_values, frames), total = len(frames)):\n",
    "            # # set to int\n",
    "            # t = int(t)\n",
    "            frame_number = int(frame_number)\n",
    "            # get precise time point information \n",
    "            sc_df_t = sc_df[sc_df['Time (hours)'] == t]\n",
    "            # Extract xy coordinates and transpose for python and area from the cell information\n",
    "            y_coord, x_coord, area, t = sc_df_t.loc[:, ['x', 'y', 'Mphi Area (µm)', 'Time (hours)']].values[0]\n",
    "            # Scale according to tracking shrinkage\n",
    "            y_coord, x_coord = y_coord * track_scale_factor, x_coord * track_scale_factor\n",
    "       \n",
    "            if not crop_size:\n",
    "                # Calculate the side length for cropping based on the square root of the area\n",
    "                crop_size = int(np.sqrt(area)) * 2\n",
    "        \n",
    "            # Calculate the cropping boundaries\n",
    "            x_start = int(x_coord - crop_size / 2)\n",
    "            x_end = int(x_coord + crop_size / 2)\n",
    "            y_start = int(y_coord - crop_size / 2)\n",
    "            y_end = int(y_coord + crop_size / 2)\n",
    "            # Pad the boundaries if they exceed the image dimensions\n",
    "            if x_start < 0:\n",
    "                x_pad = abs(x_start)\n",
    "                x_start = 0\n",
    "            else:\n",
    "                x_pad = 0\n",
    "        \n",
    "            if x_end > images.shape[-1]:\n",
    "                x_pad_end = x_end - images.shape[-1]\n",
    "                x_end = images.shape[-1]\n",
    "            else:\n",
    "                x_pad_end = 0\n",
    "        \n",
    "            if y_start < 0:\n",
    "                y_pad = abs(y_start)\n",
    "                y_start = 0\n",
    "            else:\n",
    "                y_pad = 0\n",
    "        \n",
    "            if y_end > images.shape[-2]:\n",
    "                y_pad_end = y_end - images.shape[-2]\n",
    "                y_end = images.shape[-2]\n",
    "            else:\n",
    "                y_pad_end = 0\n",
    "        \n",
    "            # Crop the image\n",
    "            cropped_image = images[frame_number, ..., x_start:x_end, y_start:y_end]\n",
    "            # max projection \n",
    "            cropped_image = np.max(images[frame_number, ..., x_start:x_end, y_start:y_end], axis = 1)\n",
    "            # Pad the cropped image if necessary\n",
    "            cropped_image = np.pad(cropped_image, ((0, 0), (x_pad, x_pad_end), (y_pad, y_pad_end)), mode='constant')\n",
    "            \n",
    "            # extract the gfp and rfp channels to apply some vis techn\n",
    "            gfp = cropped_image[gfp_channel, ...]#.compute().compute()\n",
    "            rfp = cropped_image[rfp_channel, ...]#.compute().compute()\n",
    "        \n",
    "            # clip the images so that the contrast is more apparent\n",
    "            contrast_lim_gfp = np.clip(gfp, 358, 5886)\n",
    "            contrast_lim_rfp = np.clip(rfp, 480, 1300)\n",
    "        \n",
    "            norm_gfp = cv2.normalize(contrast_lim_gfp, None, 0, 65535, cv2.NORM_MINMAX, dtype=cv2.CV_16U)\n",
    "            norm_rfp = cv2.normalize(contrast_lim_rfp, None, 0, 65535, cv2.NORM_MINMAX, dtype=cv2.CV_16U)\n",
    "        \n",
    "            # put the modified gfp rfp back in place\n",
    "            cropped_image[gfp_channel, ...] = norm_gfp\n",
    "            cropped_image[rfp_channel, ...] = norm_rfp\n",
    "        \n",
    "            # Create an empty RGB image with the same shape as the input image\n",
    "            rgb_image = np.zeros((cropped_image.shape[1], cropped_image.shape[2], 3), dtype=np.uint16)\n",
    "        \n",
    "            # Assign the first channel to the green channel of the RGB image\n",
    "            rgb_image[:, :, 1] = cropped_image[gfp_channel]\n",
    "        \n",
    "            # Assign the second channel to the red and blue channels of the RGB image to create magenta\n",
    "            rgb_image[:, :, 0] = cropped_image[rfp_channel]\n",
    "            rgb_image[:, :, 2] = cropped_image[rfp_channel]\n",
    "            \n",
    "            # scale down to 8bit\n",
    "            rgb_image = np.uint8(rgb_image >> 8)\n",
    "            \n",
    "            if mask_outline:\n",
    "                # load mask (singular)\n",
    "                \n",
    "                cropped_masks = segmentation[frame_number, x_start:x_end, y_start:y_end]\n",
    "                \n",
    "                # Pad the cropped image if necessary\n",
    "                cropped_masks = np.pad(cropped_masks, ((x_pad, x_pad_end), (y_pad, y_pad_end)), mode='constant')\n",
    "        \n",
    "                # extract only that segment\n",
    "                seg_ID = cropped_masks[int(cropped_masks.shape[0] / 2), int(cropped_masks.shape[1] / 2)]\n",
    "                \n",
    "                if seg_ID == 0:\n",
    "                    instance_mask = np.zeros((crop_size, crop_size), dtype = np.uint8)\n",
    "                else:\n",
    "                    instance_mask = (cropped_masks == seg_ID).astype(np.uint8)\n",
    "        \n",
    "                # draw outline\n",
    "                contours, _ = cv2.findContours(instance_mask, cv2.RETR_EXTERNAL, cv2.CHAIN_APPROX_SIMPLE)\n",
    "                cv2.drawContours(rgb_image, contours, -1, (0, 2 ** 8, 2 ** 8), thickness=2)  # make 8bit\n",
    "        \n",
    "            # # downsize image to reduce storage demands\n",
    "            # rgb_image = cv2.resize(rgb_image, (rgb_image.shape[1] // 2, rgb_image.shape[0] // 2))\n",
    "            \n",
    "            # add labels \n",
    "            if add_labels:\n",
    "                # Add text overlay\n",
    "                text_color = (255, 255, 0)  # Cyan color in BGR format\n",
    "                font_scale = 1.2\n",
    "                font_thickness = 2\n",
    "                text_thickness = 1\n",
    "                font = cv2.FONT_HERSHEY_SIMPLEX\n",
    "                \n",
    "                # Bottom left corner text\n",
    "                bottom_left_text = f\"{t}hr\"\n",
    "                cv2.putText(rgb_image, bottom_left_text, (10, rgb_image.shape[0] - 20),\n",
    "                            font, font_scale, text_color, font_thickness)\n",
    "                \n",
    "                # Bottom right corner text\n",
    "                bottom_right_text = scale_bar_text = '20mu'\n",
    "                text_size = cv2.getTextSize(bottom_right_text, font, font_scale, text_thickness)[0]\n",
    "                bottom_right_text_position = (rgb_image.shape[1] - text_size[0] - 40, rgb_image.shape[0] - 20)\n",
    "                cv2.putText(rgb_image, bottom_right_text, bottom_right_text_position,\n",
    "                            font, font_scale, text_color, font_thickness)\n",
    "                \n",
    "                # Calculate line length in pixels for a 20 micrometer scale bar\n",
    "                micrometer_scale_bar_length = 20\n",
    "                line_length_pixels = int(micrometer_scale_bar_length / image_scale_um_per_pixel)\n",
    "                \n",
    "                # Draw line under bottom right text\n",
    "                line_color = (255, 255, 0)  # Yellow color in BGR format\n",
    "                line_thickness = 2\n",
    "                line_start = (bottom_right_text_position[0], bottom_right_text_position[1] + 5)  # Adjusted by 5 pixels\n",
    "                line_end = (line_start[0] + line_length_pixels, line_start[1])\n",
    "                cv2.line(rgb_image, line_start, line_end,\n",
    "                         line_color, line_thickness)\n",
    "                \n",
    "                # Top left corner text\n",
    "                top_left_variable1 = ID\n",
    "                cv2.putText(rgb_image, top_left_variable1, (10, 30),\n",
    "                            font, font_scale, text_color, font_thickness)\n",
    "                \n",
    "                # Top right corner text\n",
    "                mtb_value = sc_df_t['Mtb Area (µm)'].iloc[0]\n",
    "                mtb_value = f\"{mtb_value:.2f}mu sq\"\n",
    "                text_size = cv2.getTextSize(mtb_value, font, font_scale, text_thickness)[0]\n",
    "                cv2.putText(rgb_image, mtb_value, (rgb_image.shape[1] - text_size[0] - 10, 30),\n",
    "                            font, font_scale, text_color, font_thickness)\n",
    "    \n",
    "            \n",
    "            rgb_stack.append(rgb_image)\n",
    "    \n",
    "        max_height = max(rgb_image.shape[0] for rgb_image in rgb_stack)\n",
    "        max_width = max(rgb_image.shape[1] for rgb_image in rgb_stack)\n",
    "        \n",
    "        # Resize each image to the maximum dimensions\n",
    "        resized_rgb_stack = [cv2.resize(rgb_image, (max_width, max_height)) for rgb_image in rgb_stack]\n",
    "        \n",
    "        # Stack the resized images\n",
    "        rgb_stack = np.stack(resized_rgb_stack, axis=0)\n",
    "        # Get the dimensions of the first frame\n",
    "        height, width, _ = rgb_stack[0].shape\n",
    "        \n",
    "        # Define the frame rate (number of frames per second)\n",
    "        frame_rate = len(rgb_stack) / 20  # Total frames divided by total seconds\n",
    "        ## hacky fix to put outside of subdir\n",
    "        output_file = os.path.join(output_dirname, f'cell_ID.{ID}.mp4')\n",
    "        # output_file = f\"/mnt/SYNO/macrohet_syno/manuscript/results/dt_dev_{current_date}/glimpses/{ID}_wmask.mp4\"\n",
    "        # Initialize VideoWriter object\n",
    "        fourcc = cv2.VideoWriter_fourcc(*'mp4v')\n",
    "        out = cv2.VideoWriter(output_file, fourcc, frame_rate, (width, height))\n",
    "        \n",
    "        # Write each frame to the video file\n",
    "        for frame in rgb_stack:\n",
    "            out.write(frame)\n",
    "        \n",
    "        # Release the VideoWriter object\n",
    "        out.release()\n",
    "        \n",
    "        print(f\"Video {ID} saved successfully.\")\n",
    "\n",
    "               \n",
    "        previous_files = set(fns)  # Update the set of previous file paths\n",
    "        time.sleep(60) "
   ]
  },
  {
   "cell_type": "code",
   "execution_count": 359,
   "id": "0fe25f4b-bb84-4c14-ae5d-2569bd74eeaa",
   "metadata": {},
   "outputs": [
    {
     "data": {
      "text/plain": [
       "'/mnt/SYNO/macrohet_syno/PS0000/labels/macrohet_seg_model/(4, 6).h5'"
      ]
     },
     "execution_count": 359,
     "metadata": {},
     "output_type": "execute_result"
    }
   ],
   "source": [
    "seg_fn"
   ]
  },
  {
   "cell_type": "code",
   "execution_count": 357,
   "id": "2180a6ae-30f4-4f93-b6b6-2298e37d1100",
   "metadata": {},
   "outputs": [
    {
     "data": {
      "text/plain": [
       "(75, 6048, 6048)"
      ]
     },
     "execution_count": 357,
     "metadata": {},
     "output_type": "execute_result"
    }
   ],
   "source": [
    "segmentation.shape"
   ]
  },
  {
   "cell_type": "markdown",
   "id": "3d412568-ce94-4721-bc75-79578683079d",
   "metadata": {},
   "source": [
    "## glimpses and graphs "
   ]
  },
  {
   "cell_type": "code",
   "execution_count": 389,
   "id": "b594355d-96f7-41bd-b741-1e962cc37ae8",
   "metadata": {},
   "outputs": [
    {
     "name": "stdout",
     "output_type": "stream",
     "text": [
      "['256.3.3.ND0003', '960.5.6.ND0002', '99.5.8.PS0000', '310.4.8.PS0000', '1891.3.3.ND0003', '3607.4.9.ND0003', '980.5.10.ND0003', '20.6.12.ND0003', '1415.6.11.ND0003', '448.3.7.PS0000', '61.3.8.PS0000', '331.4.5.PS0000', '504.4.6.PS0000', '322.4.6.ND0003', '436.6.5.PS0000', '48.6.4.PS0000', '416.5.6.PS0000', '802.3.5.PS0000', '601.4.5.PS0000', '675.3.8.PS0000', '22.4.9.ND0002', '1900.6.3.ND0003', '84.4.6.ND0003', '63.3.3.ND0003', '810.3.5.PS0000', '1228.3.8.ND0003', '2242.3.4.ND0002', '1449.6.8.ND0003', '562.4.5.PS0000', '280.5.7.ND0002', '715.3.3.ND0002', '874.3.3.ND0003', '88.3.7.PS0000', '463.5.5.PS0000', '160.4.5.PS0000', '438.3.5.PS0000', '1184.3.8.ND0002', '369.5.8.PS0000', '171.4.8.ND0003', '321.5.7.PS0000', '503.4.8.PS0000', '1701.4.11.ND0003', '2121.4.7.ND0003', '475.4.12.ND0002', '477.3.5.PS0000', '293.4.5.PS0000', '593.3.9.PS0000', '1538.3.4.ND0003', '189.4.8.PS0000', '785.3.4.ND0003', '2218.4.12.ND0003', '116.6.3.ND0003', '103.6.5.PS0000', '237.4.3.ND0003', '153.5.4.PS0000', '511.4.7.PS0000', '313.5.10.ND0003', '194.3.5.PS0000', '831.3.4.PS0000', '2593.6.8.ND0003', '346.4.8.PS0000', '8.5.5.PS0000', '394.5.9.PS0000', '230.6.7.ND0003', '1728.4.4.ND0002', '125.5.11.ND0003', '2808.6.3.ND0003', '181.4.5.PS0000', '744.5.10.ND0003', '2460.4.6.ND0003', '464.4.9.PS0000', '446.5.9.PS0000', '663.3.8.PS0000', '371.4.5.PS0000', '1967.6.10.ND0003', '237.3.11.ND0003', '590.5.5.PS0000', '2207.4.6.ND0003', '2295.4.4.ND0003', '322.4.8.PS0000', '497.5.4.PS0000', '177.3.6.ND0003', '758.5.6.PS0000', '84.4.12.ND0003', '2307.3.3.ND0003', '2917.3.4.ND0003', '481.3.5.PS0000', '115.4.8.ND0002', '484.3.9.PS0000', '336.3.7.ND0002', '55.4.4.PS0000', '522.4.5.PS0000', '2161.3.11.ND0003', '25.4.5.PS0000', '54.6.6.ND0003', '264.3.5.PS0000', '161.6.7.PS0000', '98.4.9.PS0000', '551.3.9.PS0000', '109.6.10.ND0003', '467.4.5.PS0000', '794.3.9.ND0002', '219.4.5.ND0002', '579.3.7.PS0000', '23.3.3.ND0002', '1508.3.4.ND0003', '19.3.8.ND0002', '3228.4.4.ND0003', '343.4.12.ND0002', '128.6.4.ND0003', '1280.3.4.ND0002', '216.6.11.ND0003', '827.3.9.ND0003', '145.6.7.PS0000', '337.4.7.PS0000', '96.4.6.PS0000', '1874.6.12.ND0003', '1441.4.7.ND0003', '14.3.8.PS0000', '26.3.7.ND0003', '2433.6.3.ND0003', '1865.4.4.ND0003', '703.4.5.PS0000', '2345.4.12.ND0003', '777.6.6.PS0000', '970.3.11.ND0003', '1878.6.7.ND0003', '1983.3.10.ND0003', '315.3.4.ND0003', '863.3.6.ND0002', '2430.6.8.ND0003', '31.6.3.ND0003', '722.5.5.PS0000', '308.6.5.PS0000', '237.3.10.ND0003', '293.4.9.PS0000', '893.3.5.PS0000', '1164.6.6.ND0002', '387.6.8.PS0000', '2831.4.12.ND0003', '1472.4.4.ND0003', '2510.4.9.ND0003', '2059.5.11.ND0003', '298.5.5.PS0000', '1377.4.5.ND0002', '2874.4.7.ND0002', '2021.6.9.ND0003', '724.4.7.PS0000', '2234.5.9.ND0003', '406.3.8.PS0000', '60.6.8.PS0000', '983.4.9.PS0000', '747.6.4.PS0000', '106.6.4.PS0000', '2273.3.5.ND0003', '419.5.5.PS0000', '312.5.5.ND0002', '625.6.8.PS0000', '583.6.5.PS0000', '186.4.7.PS0000', '80.5.8.PS0000', '543.5.5.PS0000', '2198.6.11.ND0003', '105.6.5.PS0000', '93.3.11.ND0003', '14.3.5.ND0003', '790.4.7.ND0003', '1311.4.3.ND0002', '1646.3.6.ND0003', '401.3.4.PS0000', '1980.4.11.ND0003', '2261.6.8.ND0003', '130.3.5.ND0003', '2375.5.12.ND0003', '319.3.3.ND0003', '547.3.4.PS0000', '307.4.9.ND0002', '715.6.5.ND0002', '256.5.9.ND0003', '351.3.10.ND0003', '134.4.4.ND0003', '181.4.8.ND0002', '59.5.12.ND0002', '273.5.7.ND0002', '1532.3.11.ND0003', '2253.3.4.ND0003', '345.5.6.PS0000', '36.3.5.PS0000', '1008.4.3.ND0003', '562.6.8.ND0002', '292.6.4.PS0000', '104.4.8.PS0000', '1944.5.10.ND0002', '1650.6.12.ND0003', '969.3.8.PS0000', '573.3.7.PS0000', '477.4.5.PS0000', '705.5.5.PS0000', '493.4.4.PS0000', '436.4.5.PS0000', '2557.3.8.ND0003', '953.3.7.PS0000', '778.3.5.ND0002', '428.5.5.PS0000', '190.4.10.ND0003', '1453.4.10.ND0003', '411.6.9.ND0003', '69.4.8.PS0000', '299.4.5.PS0000', '1.6.5.PS0000', '1809.4.6.ND0002', '2855.4.8.ND0003', '3120.4.11.ND0003', '401.3.5.PS0000', '1021.4.8.ND0003', '1960.3.3.ND0003', '678.6.8.PS0000', '539.3.5.PS0000', '1060.3.7.ND0003', '98.3.4.ND0003', '145.6.7.ND0003', '293.6.5.PS0000', '3740.5.11.ND0003', '325.3.8.ND0003', '585.4.5.PS0000', '2473.4.5.ND0003', '118.5.11.ND0003', '917.6.7.ND0003', '727.5.8.PS0000', '1024.4.5.PS0000', '127.4.8.ND0002', '381.4.9.PS0000', '195.4.3.ND0003', '3702.3.9.ND0003', '173.3.3.ND0003', '400.3.9.PS0000', '233.5.5.PS0000', '266.3.10.ND0003', '526.3.7.PS0000', '3050.3.6.ND0003', '480.4.5.PS0000', '387.4.5.ND0003', '1924.4.9.ND0003', '14.4.10.ND0002', '1066.3.4.ND0003', '89.3.9.PS0000', '152.3.7.ND0002', '435.3.9.PS0000', '19.4.6.PS0000', '334.5.5.PS0000', '420.3.12.ND0003', '452.6.6.ND0002', '3920.4.3.ND0003', '239.4.5.PS0000', '1498.3.7.ND0003', '3166.4.7.ND0003', '131.3.7.ND0003', '3571.3.11.ND0003', '1715.3.6.ND0002', '158.3.7.PS0000', '903.5.6.ND0002', '328.4.7.PS0000', '896.5.10.ND0003', '616.5.5.PS0000', '419.4.12.ND0002', '2135.4.4.ND0003', '3525.3.3.ND0003', '24.6.5.PS0000', '1505.3.12.ND0003', '44.3.11.ND0002', '1263.6.4.ND0003', '30.5.5.PS0000', '260.4.12.ND0003', '914.3.4.PS0000', '360.5.10.ND0003', '576.4.5.PS0000', '306.5.4.PS0000', '327.4.8.PS0000', '2591.3.3.ND0003', '337.3.5.PS0000', '344.6.8.ND0003', '178.3.5.PS0000', '519.4.4.PS0000', '337.3.8.PS0000', '95.3.7.PS0000', '685.6.5.PS0000', '819.4.5.PS0000', '466.4.12.ND0002', '1634.3.3.ND0003', '393.6.12.ND0003', '355.6.4.PS0000', '1202.6.7.ND0002', '103.4.9.ND0003', '389.4.9.ND0003', '1219.4.5.ND0003', '2772.4.4.ND0003', '334.3.5.PS0000', '134.4.5.ND0003', '3151.4.9.ND0003', '563.4.6.ND0003', '2836.4.10.ND0003', '33.4.12.ND0002', '585.5.6.PS0000', '252.5.5.PS0000', '97.5.6.PS0000', '401.4.4.PS0000', '1518.3.12.ND0003', '207.4.9.ND0002', '3843.4.3.ND0003', '1419.3.3.ND0002', '625.4.4.PS0000', '843.3.10.ND0003', '1536.3.11.ND0003', '464.4.8.PS0000', '338.4.12.ND0003', '4287.4.6.ND0003', '2577.4.7.ND0002', '90.3.7.ND0003', '2189.3.7.ND0003', '585.5.5.PS0000', '886.4.4.PS0000', '561.4.5.PS0000', '1850.3.12.ND0003', '798.4.4.ND0002', '764.6.4.ND0003', '412.4.8.ND0003', '26.3.4.ND0003', '614.3.8.PS0000', '239.6.5.PS0000', '158.3.7.ND0003', '232.4.4.ND0003', '719.4.8.PS0000', '2.4.4.PS0000', '3600.5.11.ND0003', '101.5.12.ND0003', '345.6.4.PS0000', '12.4.9.PS0000', '696.3.12.ND0003', '591.6.4.PS0000', '2404.6.7.ND0003', '577.4.5.PS0000', '167.6.8.ND0003', '87.3.9.ND0003', '274.3.6.ND0003', '1545.5.12.ND0003', '235.4.8.ND0003', '268.3.5.PS0000', '304.5.5.PS0000', '2941.3.4.ND0003', '1386.4.4.ND0002', '139.6.5.PS0000', '150.6.9.ND0003', '280.4.5.PS0000', '397.3.12.ND0003', '599.3.4.PS0000', '218.4.9.ND0002', '339.4.4.PS0000', '1803.6.12.ND0003', '105.4.6.ND0002', '313.4.5.PS0000', '3771.4.4.ND0003', '2616.4.5.ND0003', '99.4.7.PS0000', '1782.3.11.ND0003', '1415.3.11.ND0003', '3729.4.7.ND0003', '90.4.4.ND0003', '1680.3.6.ND0002', '265.4.9.PS0000', '1214.4.5.ND0003', '689.6.5.PS0000', '880.4.6.PS0000', '1060.6.11.ND0003', '163.4.4.ND0003', '346.3.9.ND0003', '3357.5.10.ND0003', '3492.4.8.ND0003', '31.3.9.ND0002', '223.3.11.ND0003', '530.3.5.PS0000', '2231.3.3.ND0002', '787.3.11.ND0003', '672.6.5.PS0000', '109.6.6.PS0000', '555.5.7.PS0000', '54.3.8.PS0000', '1101.6.5.PS0000', '1701.3.6.ND0002', '3132.3.10.ND0003', '68.4.5.PS0000', '1894.3.3.ND0003', '374.3.5.PS0000', '23.4.12.ND0002', '1585.4.6.ND0002', '305.4.8.PS0000', '1412.3.9.ND0003', '320.4.8.PS0000', '409.4.9.PS0000', '346.4.4.ND0003', '3651.4.3.ND0003', '20.6.10.ND0002', '2565.6.10.ND0003', '2089.3.6.ND0003', '432.4.9.PS0000', '1432.3.12.ND0003', '1099.6.9.ND0003', '901.4.10.ND0003', '43.6.5.PS0000', '126.4.5.ND0002', '686.3.3.ND0003', '165.3.9.PS0000', '1477.4.4.ND0003', '247.3.5.PS0000', '198.4.4.ND0002', '102.6.8.ND0002', '1801.4.12.ND0003', '603.3.8.PS0000', '114.4.8.PS0000', '3431.4.5.ND0003', '1381.5.10.ND0002', '184.6.5.ND0003', '1057.4.5.ND0002', '331.3.5.PS0000', '247.4.11.ND0003', '2578.4.4.ND0002', '1488.3.12.ND0003', '56.6.10.ND0003', '2640.3.11.ND0003', '974.4.5.PS0000', '1145.3.7.ND0003', '2264.6.10.ND0003', '2748.4.4.ND0003', '553.3.4.PS0000', '166.4.8.ND0003', '78.4.4.ND0002', '1496.6.12.ND0003', '3085.4.4.ND0003', '577.5.5.PS0000', '652.3.12.ND0003', '345.3.9.PS0000', '245.3.7.ND0003', '352.3.5.PS0000', '770.3.4.PS0000', '21.6.7.ND0003', '70.3.10.ND0003', '2260.3.4.ND0003', '383.4.8.PS0000', '3214.3.3.ND0003', '1002.4.7.ND0002', '12.5.4.ND0002', '586.4.6.PS0000', '57.4.12.ND0003', '632.3.6.PS0000', '210.3.12.ND0003', '442.4.10.ND0003', '149.4.4.ND0003', '516.5.5.PS0000', '710.3.4.PS0000', '288.4.4.PS0000', '41.5.8.PS0000', '1952.4.10.ND0003', '1376.6.8.ND0003', '663.4.5.PS0000', '447.4.12.ND0002', '215.5.8.PS0000', '432.4.5.PS0000', '1367.3.4.ND0003', '637.4.4.PS0000', '2327.3.11.ND0003', '575.6.5.PS0000', '295.3.7.PS0000', '402.4.9.ND0003', '124.3.6.ND0003', '620.5.5.PS0000', '519.6.9.PS0000', '2727.5.9.ND0003', '2486.5.12.ND0003', '444.6.4.PS0000', '137.4.5.PS0000', '691.5.9.ND0003', '3385.3.7.ND0003', '1004.3.9.ND0003', '197.3.5.PS0000', '346.5.5.PS0000', '628.4.5.PS0000', '185.6.11.ND0003', '1356.6.6.ND0003', '1.3.5.PS0000', '44.3.5.PS0000', '2168.4.6.ND0003', '1110.5.10.ND0003', '178.3.7.PS0000', '1957.3.8.ND0003', '173.3.4.PS0000', '524.4.5.PS0000', '47.3.9.ND0002', '85.5.12.ND0002', '2254.3.11.ND0003', '364.4.6.PS0000', '2076.3.7.ND0003', '3046.3.6.ND0003', '342.3.4.ND0003', '481.3.4.ND0003', '641.4.4.PS0000', '109.4.5.PS0000', '163.3.8.PS0000', '135.4.9.PS0000', '167.4.7.ND0003', '346.3.4.PS0000', '69.6.5.PS0000', '549.4.5.PS0000', '3434.3.10.ND0003', '382.3.3.ND0003', '80.5.6.PS0000', '859.5.5.PS0000', '3103.3.5.ND0003', '134.3.5.PS0000', '424.4.9.PS0000', '302.3.5.PS0000', '178.6.5.ND0003', '84.6.8.PS0000', '1186.5.11.ND0003', '163.5.9.PS0000', '544.6.5.PS0000', '2022.6.6.ND0003', '46.4.6.PS0000', '34.3.3.ND0003', '551.4.9.ND0002', '516.3.4.PS0000', '3242.4.9.ND0003', '493.5.8.PS0000', '59.5.12.ND0003', '3083.4.8.ND0003', '493.5.4.PS0000', '536.3.5.PS0000', '1303.4.4.ND0002', '557.4.5.PS0000', '50.3.4.PS0000', '2542.4.12.ND0003', '247.5.4.PS0000', '2137.5.12.ND0003', '438.3.8.PS0000', '62.3.12.ND0002', '515.4.10.ND0003', '301.6.4.PS0000', '355.4.12.ND0003', '529.4.5.ND0002', '254.3.5.PS0000', '1269.3.10.ND0002', '2190.3.7.ND0003', '327.6.5.PS0000', '20.5.4.ND0002', '657.6.11.ND0002', '147.3.7.PS0000', '623.6.4.PS0000', '2683.5.3.ND0003', '1242.5.12.ND0003', '177.5.5.PS0000', '2117.4.11.ND0003', '1635.6.11.ND0003', '2984.4.7.ND0003', '2330.5.11.ND0003', '125.4.7.PS0000', '205.4.5.PS0000', '1453.4.4.ND0003', '921.4.9.PS0000', '570.3.7.PS0000', '2789.3.4.ND0003', '979.5.4.ND0002', '2720.6.10.ND0003', '64.3.4.PS0000', '462.6.5.PS0000', '2647.3.6.ND0003', '355.3.5.PS0000', '272.3.5.PS0000', '335.3.3.ND0003', '288.4.5.PS0000', '1409.4.9.ND0003', '269.4.4.ND0003', '5.5.3.ND0002', '914.5.8.PS0000', '297.5.10.ND0003', '2204.3.11.ND0003', '615.4.9.PS0000', '340.6.4.PS0000', '264.3.9.PS0000', '56.4.5.PS0000', '2131.3.10.ND0003', '464.6.12.ND0003', '2035.4.11.ND0003', '2023.5.8.ND0002', '532.4.5.PS0000', '317.4.5.PS0000', '3483.5.11.ND0003', '3615.4.6.ND0003', '206.6.6.PS0000', '69.4.4.ND0003', '2.5.5.PS0000', '158.3.3.ND0003', '316.5.11.ND0002', '579.6.4.PS0000', '65.3.4.ND0003', '263.3.6.ND0003', '1160.6.11.ND0003', '121.4.9.ND0003', '366.3.5.PS0000', '698.4.8.ND0003', '280.3.9.PS0000', '542.3.5.PS0000', '76.4.3.ND0003', '2645.4.3.ND0003', '192.4.7.PS0000', '365.4.4.PS0000', '229.4.3.ND0003', '146.6.5.PS0000', '2364.4.3.ND0002', '721.4.4.PS0000', '488.4.8.PS0000', '352.3.10.ND0002', '3357.4.9.ND0003', '297.4.8.PS0000', '552.3.4.PS0000', '18.4.7.ND0003', '1343.3.5.ND0002', '1739.5.10.ND0002', '216.5.11.ND0003', '226.3.3.ND0002', '624.4.5.PS0000', '1074.3.4.ND0002', '510.3.4.PS0000', '1220.3.9.ND0003', '1506.6.6.ND0003', '23.3.4.ND0002', '206.4.6.PS0000', '2398.3.4.ND0003', '48.4.4.ND0003', '1634.5.12.ND0003', '305.4.9.PS0000', '800.3.3.ND0003', '2447.3.5.ND0003', '929.6.3.ND0003', '106.3.4.ND0002', '2627.4.6.ND0003', '2494.4.3.ND0003', '268.3.8.ND0003', '16.3.10.ND0003', '525.3.5.PS0000', '1509.5.11.ND0003', '505.4.6.PS0000', '357.6.3.ND0003', '2957.3.9.ND0003', '17.3.10.ND0003', '795.4.5.PS0000', '356.5.8.PS0000', '488.6.5.PS0000', '384.5.4.PS0000', '3.4.5.PS0000', '884.6.5.PS0000', '185.3.8.ND0002', '1930.6.8.ND0003', '192.3.8.ND0002', '1790.6.4.ND0003', '512.5.5.PS0000', '34.3.9.ND0002', '619.5.5.PS0000', '509.4.9.PS0000', '2467.6.8.ND0003', '969.4.9.PS0000', '3502.5.11.ND0003', '390.6.11.ND0003', '193.4.5.ND0003', '330.3.5.PS0000', '106.4.3.ND0002', '471.5.11.ND0002', '1307.5.4.ND0002', '974.4.3.ND0002', '39.3.4.ND0003', '318.3.7.PS0000', '1217.6.11.ND0003', '702.3.5.PS0000', '109.5.5.PS0000', '651.6.5.PS0000', '1182.3.10.ND0003', '308.5.5.PS0000', '2832.4.10.ND0003', '378.3.8.PS0000', '51.3.3.ND0002', '101.3.8.ND0003', '1186.4.10.ND0003', '104.3.11.ND0003', '174.3.5.PS0000', '1035.4.6.ND0002', '344.3.4.PS0000', '61.3.3.ND0003', '210.5.8.ND0002', '1730.4.4.ND0003', '2441.3.9.ND0003', '658.4.5.PS0000', '3884.3.9.ND0003', '1003.4.10.ND0003', '17.4.5.PS0000', '482.4.8.PS0000', '9.3.7.ND0003', '53.6.4.PS0000', '283.6.5.PS0000', '131.6.5.PS0000', '851.4.8.PS0000', '177.3.9.ND0003', '516.6.5.PS0000', '598.4.3.ND0003', '206.5.5.ND0002', '539.4.5.PS0000', '1697.3.4.ND0003', '2350.5.10.ND0003', '739.5.5.PS0000', '645.4.11.ND0003', '121.3.9.PS0000', '2713.4.10.ND0003', '663.6.8.PS0000', '159.3.6.ND0003', '284.6.5.PS0000', '290.4.8.ND0003', '1493.4.7.ND0003', '1663.6.4.ND0003', '609.6.8.PS0000', '1583.4.4.ND0003', '2167.3.4.ND0003', '3018.4.9.ND0003', '565.3.5.PS0000', '101.3.7.ND0003', '376.5.5.PS0000', '486.3.8.PS0000', '343.3.4.PS0000', '1786.3.6.ND0003', '305.3.3.ND0002', '2097.4.10.ND0003', '1517.4.12.ND0003', '40.6.10.ND0003', '732.3.6.ND0002', '38.4.7.PS0000', '491.5.4.PS0000', '1210.4.9.ND0002', '2799.5.12.ND0003', '303.4.4.PS0000', '1476.3.10.ND0003', '333.4.5.PS0000', '3449.4.7.ND0003', '241.3.4.PS0000', '28.6.6.PS0000', '503.3.5.PS0000', '252.3.5.PS0000', '2945.3.5.ND0003', '615.4.7.PS0000', '330.4.5.PS0000', '2985.4.10.ND0002', '2606.3.3.ND0003', '586.3.5.PS0000', '2999.4.5.ND0003', '2239.4.4.ND0002', '362.4.8.PS0000', '76.4.9.ND0003', '1998.3.4.ND0002', '1722.4.7.ND0003', '522.4.7.PS0000', '2672.3.8.ND0003', '313.3.7.ND0003', '121.4.5.PS0000', '342.3.10.ND0002', '3099.5.10.ND0003', '1101.4.6.ND0002', '251.6.6.PS0000', '11.4.8.PS0000', '331.5.9.PS0000', '1596.4.3.ND0003', '1022.6.4.ND0003', '1013.6.8.ND0003', '3181.3.3.ND0003', '2434.3.11.ND0003', '356.6.5.PS0000', '1232.3.4.ND0003', '658.3.7.PS0000', '564.3.5.PS0000', '3176.4.10.ND0003', '576.3.9.PS0000', '575.3.6.ND0002', '2182.5.3.ND0003', '3323.4.7.ND0003', '364.4.12.ND0003', '212.4.7.PS0000', '2131.4.5.ND0003', '371.4.7.PS0000', '378.3.7.PS0000', '10.4.6.PS0000', '3263.3.9.ND0003', '270.4.12.ND0003', '277.4.11.ND0003', '490.6.4.PS0000', '652.5.5.PS0000', '133.6.6.PS0000', '544.5.6.PS0000', '885.4.4.PS0000', '382.3.6.ND0003', '113.6.4.ND0003', '2720.3.4.ND0003', '69.4.10.ND0003', '108.6.11.ND0003', '451.5.5.PS0000', '257.4.8.ND0003', '1448.3.6.ND0003', '3485.3.8.ND0003', '2201.6.7.ND0003', '62.3.3.ND0003', '620.3.12.ND0003', '650.5.5.PS0000', '1345.6.9.ND0003', '367.3.5.PS0000', '2171.6.10.ND0003', '84.4.4.ND0003', '3049.3.10.ND0003', '400.3.11.ND0003', '773.3.8.PS0000', '243.3.9.ND0003', '235.4.5.PS0000', '1206.6.5.ND0003', '269.3.8.PS0000', '218.4.6.PS0000', '2717.6.7.ND0003', '869.3.5.PS0000', '618.5.6.PS0000', '188.4.7.PS0000', '824.3.4.ND0002', '642.3.4.ND0003', '374.4.6.PS0000', '2152.3.6.ND0003', '41.3.10.ND0003', '125.4.6.PS0000', '484.3.5.PS0000', '86.4.6.PS0000', '2953.3.3.ND0003', '3117.3.5.ND0003', '1645.6.5.ND0003', '3722.3.9.ND0003', '94.6.5.ND0002', '2667.4.9.ND0003', '191.3.4.ND0002', '666.6.5.PS0000', '290.4.5.PS0000', '203.3.8.PS0000', '826.5.7.PS0000', '200.6.4.PS0000', '218.5.5.PS0000', '1379.5.12.ND0003', '412.6.12.ND0003', '7.3.7.ND0003', '457.5.5.PS0000', '840.6.8.PS0000', '152.3.6.ND0002', '650.6.6.PS0000', '238.3.4.ND0003', '849.3.11.ND0003', '1144.4.11.ND0003', '547.3.5.ND0002', '84.3.8.ND0003', '624.5.5.PS0000', '153.6.8.PS0000', '50.4.5.PS0000', '2882.4.10.ND0003', '116.4.8.PS0000', '1098.4.8.ND0003', '3555.4.7.ND0003', '107.3.6.ND0002', '2526.4.6.ND0003', '626.4.6.PS0000', '288.3.11.ND0003', '2612.6.10.ND0003', '3161.4.6.ND0003', '17.4.8.PS0000', '1674.6.5.ND0003', '563.3.4.PS0000', '365.6.9.ND0003', '193.4.9.PS0000', '242.3.12.ND0003', '558.3.7.PS0000', '161.6.9.PS0000', '3513.3.11.ND0003', '628.3.8.PS0000', '256.4.9.PS0000', '184.4.9.ND0002', '76.3.11.ND0002', '348.4.5.PS0000', '929.4.5.ND0003', '450.4.5.PS0000', '252.3.7.PS0000', '466.3.5.PS0000', '739.4.7.PS0000', '2902.3.3.ND0003', '748.5.9.ND0002', '218.3.5.PS0000', '499.4.6.PS0000', '169.4.4.PS0000', '738.4.4.ND0002', '111.3.3.ND0003', '131.4.9.PS0000', '332.6.7.PS0000', '218.6.6.ND0002', '544.3.9.PS0000', '163.3.11.ND0003', '3351.4.4.ND0003', '366.6.6.PS0000', '173.3.8.PS0000', '2472.3.11.ND0003', '241.6.12.ND0003', '190.3.3.ND0002', '560.6.9.PS0000', '474.4.5.PS0000', '857.3.11.ND0003', '77.3.9.ND0002', '421.3.5.PS0000', '289.5.9.PS0000', '2446.3.6.ND0003', '634.3.4.PS0000', '420.4.8.PS0000', '493.4.5.ND0002', '964.3.6.PS0000', '48.4.8.PS0000', '442.3.9.ND0003', '69.4.9.PS0000', '82.3.6.ND0003', '301.5.5.PS0000', '1798.3.12.ND0003', '3268.4.7.ND0003', '361.5.10.ND0002', '2208.4.11.ND0003', '169.6.5.PS0000', '3089.4.6.ND0003', '514.4.5.PS0000', '48.3.4.ND0003', '2003.5.4.ND0002', '58.4.4.PS0000', '473.4.9.PS0000', '2823.4.3.ND0003', '1162.6.11.ND0003', '542.4.5.PS0000', '343.5.9.PS0000', '535.6.11.ND0003', '434.5.10.ND0003', '451.4.7.PS0000', '94.4.10.ND0003', '1566.6.3.ND0003', '839.6.8.ND0002', '1474.3.5.ND0003', '563.3.8.PS0000', '146.6.4.PS0000', '2811.3.9.ND0003', '3011.3.5.ND0003', '796.6.8.PS0000', '2939.4.6.ND0003', '485.4.10.ND0002', '892.3.8.ND0003', '106.6.5.PS0000', '265.3.9.PS0000', '103.4.9.PS0000', '507.3.5.PS0000', '812.4.3.ND0003', '2027.3.11.ND0003', '103.3.10.ND0002', '990.4.8.ND0003', '307.6.7.PS0000', '351.4.9.PS0000', '472.3.4.PS0000', '810.6.5.PS0000', '1174.5.9.ND0003', '369.4.4.PS0000', '2910.5.10.ND0003', '632.4.9.PS0000', '1474.3.12.ND0003', '1029.4.9.ND0003', '397.5.5.PS0000', '427.3.6.ND0003', '379.6.4.PS0000', '337.3.6.ND0003', '389.6.5.PS0000', '2075.4.4.ND0002', '1552.3.7.ND0003', '226.3.5.ND0002', '633.4.9.PS0000', '361.5.5.PS0000', '369.4.3.ND0003', '263.3.5.PS0000', '19.4.5.PS0000', '88.5.4.PS0000', '188.5.3.ND0003', '2824.3.9.ND0003', '257.4.5.PS0000', '84.3.9.ND0003', '559.4.5.PS0000', '818.4.7.ND0003', '692.3.8.PS0000', '129.5.6.PS0000', '2243.3.11.ND0003', '572.3.7.ND0002', '320.4.12.ND0003', '582.3.4.ND0003', '695.5.5.PS0000', '472.4.6.ND0003', '261.4.4.ND0003', '127.4.6.PS0000', '478.4.5.PS0000', '900.4.6.ND0003', '356.4.8.PS0000', '3141.3.11.ND0003', '137.3.4.PS0000', '3248.3.3.ND0003', '562.4.3.ND0002', '1627.3.7.ND0003', '2753.6.3.ND0003', '84.3.4.ND0003', '3376.3.8.ND0003', '1300.3.5.ND0003', '483.3.5.PS0000', '208.6.7.ND0003', '690.3.4.PS0000', '629.5.5.PS0000', '779.4.6.PS0000', '3926.4.3.ND0003', '2448.4.6.ND0003', '596.4.5.PS0000', '2322.3.10.ND0003', '46.6.10.ND0003', '489.4.9.ND0002', '882.6.10.ND0003', '3699.4.6.ND0003', '341.4.8.PS0000', '592.3.12.ND0003', '501.3.5.PS0000', '2175.4.4.ND0003', '131.3.4.ND0002', '1228.3.9.ND0003', '65.3.9.PS0000', '1279.3.6.ND0003', '251.5.4.PS0000', '3263.3.10.ND0003', '339.6.4.PS0000', '2120.3.3.ND0003', '1754.3.4.ND0002', '1739.4.8.ND0003', '291.6.8.PS0000', '4266.4.6.ND0003', '438.4.8.ND0003', '3387.5.10.ND0003', '412.3.7.PS0000', '447.6.5.PS0000', '89.6.4.ND0002', '92.4.3.ND0003', '192.6.9.PS0000', '154.6.8.PS0000', '2171.6.6.ND0003', '909.4.11.ND0002', '669.3.3.ND0002', '619.6.4.PS0000', '1584.6.3.ND0003', '232.4.5.PS0000', '543.4.5.PS0000', '790.3.8.PS0000', '402.6.5.PS0000', '152.3.12.ND0003', '3437.5.9.ND0003', '673.3.10.ND0003', '3375.3.10.ND0003', '541.3.9.ND0002', '291.5.5.PS0000', '329.5.11.ND0003', '1239.3.11.ND0003', '664.5.5.PS0000', '256.5.5.PS0000', '550.5.8.PS0000', '2153.3.8.ND0003', '486.4.8.PS0000', '826.6.5.PS0000', '174.6.11.ND0003', '90.6.11.ND0003', '2557.4.3.ND0002', '2588.6.8.ND0003', '1167.3.9.ND0002', '634.3.8.PS0000', '235.5.4.PS0000', '123.3.8.ND0002', '2111.6.10.ND0003', '1272.5.12.ND0003', '119.3.5.ND0002', '1070.3.12.ND0003', '657.6.6.PS0000', '382.4.5.PS0000', '1479.5.4.ND0002', '932.5.7.PS0000', '628.4.7.PS0000', '348.4.8.PS0000', '2059.3.3.ND0002', '625.5.5.PS0000', '774.3.5.ND0003', '498.4.6.PS0000', '2342.4.7.ND0003', '50.5.5.PS0000', '14.4.10.ND0003', '263.4.11.ND0003', '74.6.5.ND0003', '2315.3.6.ND0003', '50.6.7.ND0003', '282.4.4.ND0003', '335.4.8.PS0000', '504.4.8.PS0000', '1288.4.3.ND0003', '362.6.7.PS0000', '247.6.5.PS0000', '133.3.12.ND0003', '2825.3.7.ND0003', '746.6.6.ND0002', '289.3.8.PS0000', '1718.6.3.ND0003', '657.3.8.PS0000', '3525.5.10.ND0003', '168.3.8.ND0002', '232.3.4.ND0003', '293.3.8.ND0003', '221.6.3.ND0003', '1165.3.4.ND0003', '1503.3.11.ND0003', '406.4.4.ND0003', '1751.6.3.ND0003', '153.4.6.PS0000', '3425.3.5.ND0003', '18.5.5.PS0000', '467.4.8.PS0000', '56.3.6.ND0002', '10.3.4.ND0002', '433.5.7.PS0000', '1087.3.9.ND0003', '2311.5.5.ND0002', '706.5.6.PS0000', '1366.5.12.ND0003', '792.3.8.PS0000', '404.5.5.PS0000', '409.4.9.ND0003', '2563.4.3.ND0002', '234.5.5.PS0000', '329.3.7.ND0003', '705.5.4.PS0000', '3744.4.4.ND0003', '11.4.5.ND0003', '565.4.5.PS0000', '1369.4.4.ND0002', '24.6.8.ND0003', '1342.6.11.ND0003', '971.3.12.ND0003', '1947.5.10.ND0003', '502.4.9.PS0000', '983.4.8.ND0003', '3021.3.3.ND0003', '438.3.9.PS0000', '346.4.6.PS0000', '110.3.7.PS0000', '218.4.8.ND0002', '2248.3.5.ND0003', '413.3.9.ND0003', '2100.3.11.ND0003', '1006.3.10.ND0003', '1772.5.9.ND0003', '304.4.9.PS0000', '117.4.9.ND0002', '895.4.6.PS0000', '3392.4.5.ND0003', '48.4.5.PS0000', '2357.6.3.ND0003', '2160.4.7.ND0002', '728.5.5.PS0000', '2409.4.4.ND0003', '649.6.5.PS0000', '119.3.9.ND0003', '931.3.9.PS0000', '86.4.3.ND0003', '383.5.5.PS0000', '598.4.5.PS0000', '1551.3.3.ND0003', '1057.4.7.ND0003', '283.3.8.PS0000', '391.3.11.ND0003', '155.6.6.ND0003', '104.3.9.PS0000', '189.4.4.PS0000', '464.6.8.PS0000', '401.6.4.PS0000', '171.3.5.ND0003', '43.6.4.ND0003', '2294.6.7.ND0003', '105.4.4.ND0003', '257.3.11.ND0003', '373.4.11.ND0003', '3795.4.7.ND0003', '2588.4.3.ND0003', '109.4.7.ND0003', '613.6.11.ND0002', '341.3.5.ND0003', '1.4.9.PS0000', '750.6.4.PS0000', '690.6.9.ND0003', '35.5.5.PS0000', '1406.3.4.ND0002', '797.5.7.PS0000', '2248.3.3.ND0003', '1392.5.3.ND0003', '91.5.5.PS0000', '977.3.5.ND0002', '4108.4.3.ND0003', '2768.4.7.ND0003', '1581.3.11.ND0003', '2681.3.7.ND0003', '2313.6.3.ND0003', '524.6.8.PS0000', '4.4.7.PS0000', '474.3.5.PS0000', '3285.3.5.ND0003', '2321.5.3.ND0003', '582.4.12.ND0002', '1614.3.3.ND0002', '1511.4.6.ND0003', '301.4.5.PS0000', '2209.3.4.ND0003', '263.4.3.ND0003', '2016.4.5.ND0002', '2774.6.8.ND0003', '1826.3.12.ND0003', '118.3.3.ND0003', '2722.3.9.ND0003', '513.3.5.PS0000', '2038.4.11.ND0003', '3442.3.5.ND0003', '158.5.4.ND0002', '44.4.9.PS0000']\n"
     ]
    }
   ],
   "source": [
    "import os\n",
    "import shutil\n",
    "\n",
    "# Directories\n",
    "video_dir = \"/mnt/SYNO/macrohet_syno/manuscript/results/dt_dev/glimpses\"\n",
    "image_dir = \"/mnt/SYNO/macrohet_syno/manuscript/results/dt_dev/dt_dev_24-04-2024/accurate\"\n",
    "output_dir = \"/mnt/SYNO/macrohet_syno/manuscript/results/hpig_24/accurate_glimpse_matches/\"\n",
    "\n",
    "# Create the output directory if it doesn't exist\n",
    "os.makedirs(output_dir, exist_ok=True)\n",
    "\n",
    "# Get list of mp4 files in the video directory\n",
    "video_files = [f for f in os.listdir(video_dir) if f.endswith('.mp4')]\n",
    "\n",
    "# Get list of png files in the image directory\n",
    "image_files = [f for f in os.listdir(image_dir) if f.endswith('.png')]\n",
    "\n",
    "# Function to extract cell ID part of the filename\n",
    "def extract_video_cell_id(filename):\n",
    "    if 'cell_ID' in filename:\n",
    "        parts = filename.split('cell_ID.')[-1].split('.')\n",
    "        return '.'.join(parts[:4])  # Extract the next 4 parts after 'cell_ID.'\n",
    "    return None\n",
    "\n",
    "def extract_image_cell_id(filename):\n",
    "    if 'cell_ID' in filename:\n",
    "        parts = filename.split('cell_ID.')[-1].split('.')\n",
    "        cell_id = '.'.join(parts[:4])  # Extract the next 4 parts after 'cell_ID.'\n",
    "        if '_dt' in cell_id:\n",
    "            cell_id = cell_id.split('_dt')[0]  # Remove the _dt part if present\n",
    "        return cell_id\n",
    "    return None\n",
    "\n",
    "# Create sets of cell IDs from filenames\n",
    "video_cell_ids = {extract_video_cell_id(f) for f in video_files if extract_video_cell_id(f) is not None}\n",
    "image_cell_ids = {extract_image_cell_id(f) for f in image_files if extract_image_cell_id(f) is not None}\n",
    "\n",
    "# Find common cell IDs\n",
    "common_cell_ids = video_cell_ids.intersection(image_cell_ids)\n",
    "\n",
    "# Copy the files with common cell IDs to the output directory\n",
    "for video_file in video_files:\n",
    "    video_cell_id = extract_video_cell_id(video_file)\n",
    "    if video_cell_id in common_cell_ids:\n",
    "        shutil.copy(os.path.join(video_dir, video_file), os.path.join(output_dir, video_file))\n",
    "\n",
    "for image_file in image_files:\n",
    "    image_cell_id = extract_image_cell_id(image_file)\n",
    "    if image_cell_id in common_cell_ids:\n",
    "        shutil.copy(os.path.join(image_dir, image_file), os.path.join(output_dir, image_file))\n",
    "\n",
    "# Output the list of common cell IDs\n",
    "common_cell_ids = list(common_cell_ids)\n",
    "print(common_cell_ids)\n"
   ]
  },
  {
   "cell_type": "code",
   "execution_count": 378,
   "id": "4c793cf7-7a08-4e17-8cf3-69ccf02c2aea",
   "metadata": {},
   "outputs": [
    {
     "data": {
      "text/plain": [
       "'1101.6.5.PS0000'"
      ]
     },
     "execution_count": 378,
     "metadata": {},
     "output_type": "execute_result"
    }
   ],
   "source": [
    "extract_video_cell_id(video_files[0])"
   ]
  },
  {
   "cell_type": "code",
   "execution_count": 386,
   "id": "3cc9a83c-d306-4b49-9792-40fd880c531f",
   "metadata": {},
   "outputs": [
    {
     "data": {
      "text/plain": [
       "'14.4.5.PS0000_dt42'"
      ]
     },
     "execution_count": 386,
     "metadata": {},
     "output_type": "execute_result"
    }
   ],
   "source": [
    "extract_image_cell_id(image_files[0])"
   ]
  }
 ],
 "metadata": {
  "kernelspec": {
   "display_name": "egg",
   "language": "python",
   "name": "egg"
  },
  "language_info": {
   "codemirror_mode": {
    "name": "ipython",
    "version": 3
   },
   "file_extension": ".py",
   "mimetype": "text/x-python",
   "name": "python",
   "nbconvert_exporter": "python",
   "pygments_lexer": "ipython3",
   "version": "3.9.17"
  }
 },
 "nbformat": 4,
 "nbformat_minor": 5
}
