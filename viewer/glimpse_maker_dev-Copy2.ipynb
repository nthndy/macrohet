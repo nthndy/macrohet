{
 "cells": [
  {
   "cell_type": "markdown",
   "id": "49e2d4e9-12ea-4ec7-8ef9-547c78918e91",
   "metadata": {},
   "source": [
    "### dev"
   ]
  },
  {
   "cell_type": "code",
   "execution_count": 1,
   "id": "0aa82da0-5408-4387-b2cf-b826e0696e60",
   "metadata": {},
   "outputs": [],
   "source": [
    "import os\n",
    "import numpy as np\n",
    "import pandas as pd\n",
    "import zarr\n",
    "import glob\n",
    "import btrack\n",
    "import cv2\n",
    "from PIL import Image, ImageDraw, ImageFont\n",
    "from tqdm.auto import tqdm"
   ]
  },
  {
   "cell_type": "code",
   "execution_count": 2,
   "id": "123e1033-8d8c-4195-b582-bb80f1df27ba",
   "metadata": {},
   "outputs": [],
   "source": [
    "# extract single cell df\n",
    "sc_df_fn = '/mnt/SYNO/macrohet_syno/results/dfs/arx/dt_df.pkl' # time intensive step\n",
    "df = pd.read_pickle(sc_df_fn)\n"
   ]
  },
  {
   "cell_type": "code",
   "execution_count": 3,
   "id": "8d94d021-be67-405f-ab11-f1762e659c15",
   "metadata": {},
   "outputs": [],
   "source": [
    "# Prepare font and color settings\n",
    "font_path = \"/usr/share/fonts/truetype/liberation/LiberationSans-Regular.ttf\"  # Update this path to your font file\n",
    "font = ImageFont.truetype(font_path, 42)\n",
    "text_color = (0, 255, 255)  # Yellow color in RGB format\n",
    "# Define the side length\n",
    "side_length = 750\n",
    "# and other image properties\n",
    "track_scale_factor = 5.04\n",
    "image_scale_m_per_pixel = 1.4949402023919043e-07\n",
    "image_scale_um_per_pixel = image_scale_m_per_pixel*1E6\n",
    "image_width = image_height = 6048\n",
    "last_seg_fn = []"
   ]
  },
  {
   "cell_type": "code",
   "execution_count": 4,
   "id": "88a92bec-a3de-4005-aa38-d6f39722bc85",
   "metadata": {},
   "outputs": [],
   "source": [
    "df = df[\n",
    "    (df['Strain'] == 'RD1') & \n",
    "    (df['Compound'].isin(['RIF', 'INH', 'BDQ'])) &\n",
    "    (df['Concentration'].isin(['EC99']))\n",
    "]"
   ]
  },
  {
   "cell_type": "code",
   "execution_count": 8,
   "id": "05c4c6dc-252a-4735-bbd8-bcb43e843320",
   "metadata": {},
   "outputs": [
    {
     "data": {
      "text/plain": [
       "array([(6, 7), (6, 8), (6, 9), (6, 10), (6, 11), (6, 12)], dtype=object)"
      ]
     },
     "execution_count": 8,
     "metadata": {},
     "output_type": "execute_result"
    }
   ],
   "source": [
    "df['Acquisition ID'].unique()"
   ]
  },
  {
   "cell_type": "markdown",
   "id": "ea4f830f-51cb-4a41-9805-af4718e42042",
   "metadata": {},
   "source": [
    "# Bulk generation"
   ]
  },
  {
   "cell_type": "code",
   "execution_count": 5,
   "id": "827a517c-87ee-4fc9-bf10-4a039e28e178",
   "metadata": {
    "scrolled": true
   },
   "outputs": [
    {
     "data": {
      "application/vnd.jupyter.widget-view+json": {
       "model_id": "e7a0048044b34c09898dc0e0a3f24383",
       "version_major": 2,
       "version_minor": 0
      },
      "text/plain": [
       "  0%|          | 0/964 [00:00<?, ?it/s]"
      ]
     },
     "metadata": {},
     "output_type": "display_data"
    },
    {
     "name": "stderr",
     "output_type": "stream",
     "text": [
      "[INFO][2024/09/10 11:46:51 AM] Opening HDF file: /mnt/SYNO/macrohet_syno/data/ND0003/labels/cpv3/(6, 7).h5...\n",
      "[INFO][2024/09/10 11:47:53 AM] Loading segmentation (154, 6048, 6048)\n",
      "[INFO][2024/09/10 11:47:53 AM] Closing HDF file: /mnt/SYNO/macrohet_syno/data/ND0003/labels/cpv3/(6, 7).h5\n"
     ]
    },
    {
     "data": {
      "application/vnd.jupyter.widget-view+json": {
       "model_id": "",
       "version_major": 2,
       "version_minor": 0
      },
      "text/plain": [
       "Creating glimpse 172.6.7.ND0003:   0%|          | 0/75 [00:00<?, ?it/s]"
      ]
     },
     "metadata": {},
     "output_type": "display_data"
    },
    {
     "name": "stdout",
     "output_type": "stream",
     "text": [
      "Video 172.6.7.ND0003 saved successfully.\n"
     ]
    },
    {
     "data": {
      "application/vnd.jupyter.widget-view+json": {
       "model_id": "",
       "version_major": 2,
       "version_minor": 0
      },
      "text/plain": [
       "Creating glimpse 188.6.7.ND0003:   0%|          | 0/80 [00:00<?, ?it/s]"
      ]
     },
     "metadata": {},
     "output_type": "display_data"
    },
    {
     "name": "stdout",
     "output_type": "stream",
     "text": [
      "Video 188.6.7.ND0003 saved successfully.\n"
     ]
    },
    {
     "data": {
      "application/vnd.jupyter.widget-view+json": {
       "model_id": "",
       "version_major": 2,
       "version_minor": 0
      },
      "text/plain": [
       "Creating glimpse 133.6.7.ND0003:   0%|          | 0/154 [00:00<?, ?it/s]"
      ]
     },
     "metadata": {},
     "output_type": "display_data"
    },
    {
     "name": "stdout",
     "output_type": "stream",
     "text": [
      "Video 133.6.7.ND0003 saved successfully.\n"
     ]
    },
    {
     "data": {
      "application/vnd.jupyter.widget-view+json": {
       "model_id": "",
       "version_major": 2,
       "version_minor": 0
      },
      "text/plain": [
       "Creating glimpse 141.6.7.ND0003:   0%|          | 0/154 [00:00<?, ?it/s]"
      ]
     },
     "metadata": {},
     "output_type": "display_data"
    },
    {
     "name": "stdout",
     "output_type": "stream",
     "text": [
      "Video 141.6.7.ND0003 saved successfully.\n"
     ]
    },
    {
     "data": {
      "application/vnd.jupyter.widget-view+json": {
       "model_id": "",
       "version_major": 2,
       "version_minor": 0
      },
      "text/plain": [
       "Creating glimpse 143.6.7.ND0003:   0%|          | 0/88 [00:00<?, ?it/s]"
      ]
     },
     "metadata": {},
     "output_type": "display_data"
    },
    {
     "name": "stdout",
     "output_type": "stream",
     "text": [
      "Video 143.6.7.ND0003 saved successfully.\n"
     ]
    },
    {
     "data": {
      "application/vnd.jupyter.widget-view+json": {
       "model_id": "",
       "version_major": 2,
       "version_minor": 0
      },
      "text/plain": [
       "Creating glimpse 145.6.7.ND0003:   0%|          | 0/141 [00:00<?, ?it/s]"
      ]
     },
     "metadata": {},
     "output_type": "display_data"
    },
    {
     "name": "stdout",
     "output_type": "stream",
     "text": [
      "Video 145.6.7.ND0003 saved successfully.\n"
     ]
    },
    {
     "data": {
      "application/vnd.jupyter.widget-view+json": {
       "model_id": "",
       "version_major": 2,
       "version_minor": 0
      },
      "text/plain": [
       "Creating glimpse 149.6.7.ND0003:   0%|          | 0/154 [00:00<?, ?it/s]"
      ]
     },
     "metadata": {},
     "output_type": "display_data"
    },
    {
     "name": "stdout",
     "output_type": "stream",
     "text": [
      "Video 149.6.7.ND0003 saved successfully.\n"
     ]
    },
    {
     "data": {
      "application/vnd.jupyter.widget-view+json": {
       "model_id": "",
       "version_major": 2,
       "version_minor": 0
      },
      "text/plain": [
       "Creating glimpse 157.6.7.ND0003:   0%|          | 0/73 [00:00<?, ?it/s]"
      ]
     },
     "metadata": {},
     "output_type": "display_data"
    },
    {
     "name": "stdout",
     "output_type": "stream",
     "text": [
      "Video 157.6.7.ND0003 saved successfully.\n"
     ]
    },
    {
     "data": {
      "application/vnd.jupyter.widget-view+json": {
       "model_id": "",
       "version_major": 2,
       "version_minor": 0
      },
      "text/plain": [
       "Creating glimpse 236.6.7.ND0003:   0%|          | 0/154 [00:00<?, ?it/s]"
      ]
     },
     "metadata": {},
     "output_type": "display_data"
    },
    {
     "name": "stdout",
     "output_type": "stream",
     "text": [
      "Video 236.6.7.ND0003 saved successfully.\n"
     ]
    },
    {
     "data": {
      "application/vnd.jupyter.widget-view+json": {
       "model_id": "",
       "version_major": 2,
       "version_minor": 0
      },
      "text/plain": [
       "Creating glimpse 243.6.7.ND0003:   0%|          | 0/85 [00:00<?, ?it/s]"
      ]
     },
     "metadata": {},
     "output_type": "display_data"
    },
    {
     "name": "stdout",
     "output_type": "stream",
     "text": [
      "Video 243.6.7.ND0003 saved successfully.\n"
     ]
    },
    {
     "data": {
      "application/vnd.jupyter.widget-view+json": {
       "model_id": "",
       "version_major": 2,
       "version_minor": 0
      },
      "text/plain": [
       "Creating glimpse 230.6.7.ND0003:   0%|          | 0/128 [00:00<?, ?it/s]"
      ]
     },
     "metadata": {},
     "output_type": "display_data"
    },
    {
     "name": "stdout",
     "output_type": "stream",
     "text": [
      "Video 230.6.7.ND0003 saved successfully.\n"
     ]
    },
    {
     "data": {
      "application/vnd.jupyter.widget-view+json": {
       "model_id": "",
       "version_major": 2,
       "version_minor": 0
      },
      "text/plain": [
       "Creating glimpse 248.6.7.ND0003:   0%|          | 0/137 [00:00<?, ?it/s]"
      ]
     },
     "metadata": {},
     "output_type": "display_data"
    },
    {
     "name": "stdout",
     "output_type": "stream",
     "text": [
      "Video 248.6.7.ND0003 saved successfully.\n"
     ]
    },
    {
     "data": {
      "application/vnd.jupyter.widget-view+json": {
       "model_id": "",
       "version_major": 2,
       "version_minor": 0
      },
      "text/plain": [
       "Creating glimpse 249.6.7.ND0003:   0%|          | 0/154 [00:00<?, ?it/s]"
      ]
     },
     "metadata": {},
     "output_type": "display_data"
    },
    {
     "name": "stdout",
     "output_type": "stream",
     "text": [
      "Video 249.6.7.ND0003 saved successfully.\n"
     ]
    },
    {
     "data": {
      "application/vnd.jupyter.widget-view+json": {
       "model_id": "",
       "version_major": 2,
       "version_minor": 0
      },
      "text/plain": [
       "Creating glimpse 256.6.7.ND0003:   0%|          | 0/154 [00:00<?, ?it/s]"
      ]
     },
     "metadata": {},
     "output_type": "display_data"
    },
    {
     "name": "stdout",
     "output_type": "stream",
     "text": [
      "Video 256.6.7.ND0003 saved successfully.\n"
     ]
    },
    {
     "data": {
      "application/vnd.jupyter.widget-view+json": {
       "model_id": "",
       "version_major": 2,
       "version_minor": 0
      },
      "text/plain": [
       "Creating glimpse 212.6.7.ND0003:   0%|          | 0/154 [00:00<?, ?it/s]"
      ]
     },
     "metadata": {},
     "output_type": "display_data"
    },
    {
     "name": "stdout",
     "output_type": "stream",
     "text": [
      "Video 212.6.7.ND0003 saved successfully.\n"
     ]
    },
    {
     "data": {
      "application/vnd.jupyter.widget-view+json": {
       "model_id": "",
       "version_major": 2,
       "version_minor": 0
      },
      "text/plain": [
       "Creating glimpse 204.6.7.ND0003:   0%|          | 0/154 [00:00<?, ?it/s]"
      ]
     },
     "metadata": {},
     "output_type": "display_data"
    },
    {
     "name": "stdout",
     "output_type": "stream",
     "text": [
      "Video 204.6.7.ND0003 saved successfully.\n"
     ]
    },
    {
     "data": {
      "application/vnd.jupyter.widget-view+json": {
       "model_id": "",
       "version_major": 2,
       "version_minor": 0
      },
      "text/plain": [
       "Creating glimpse 207.6.7.ND0003:   0%|          | 0/154 [00:00<?, ?it/s]"
      ]
     },
     "metadata": {},
     "output_type": "display_data"
    },
    {
     "name": "stdout",
     "output_type": "stream",
     "text": [
      "Video 207.6.7.ND0003 saved successfully.\n"
     ]
    },
    {
     "data": {
      "application/vnd.jupyter.widget-view+json": {
       "model_id": "",
       "version_major": 2,
       "version_minor": 0
      },
      "text/plain": [
       "Creating glimpse 208.6.7.ND0003:   0%|          | 0/154 [00:00<?, ?it/s]"
      ]
     },
     "metadata": {},
     "output_type": "display_data"
    },
    {
     "name": "stdout",
     "output_type": "stream",
     "text": [
      "Video 208.6.7.ND0003 saved successfully.\n"
     ]
    },
    {
     "data": {
      "application/vnd.jupyter.widget-view+json": {
       "model_id": "",
       "version_major": 2,
       "version_minor": 0
      },
      "text/plain": [
       "Creating glimpse 218.6.7.ND0003:   0%|          | 0/80 [00:00<?, ?it/s]"
      ]
     },
     "metadata": {},
     "output_type": "display_data"
    },
    {
     "name": "stdout",
     "output_type": "stream",
     "text": [
      "Video 218.6.7.ND0003 saved successfully.\n"
     ]
    },
    {
     "data": {
      "application/vnd.jupyter.widget-view+json": {
       "model_id": "",
       "version_major": 2,
       "version_minor": 0
      },
      "text/plain": [
       "Creating glimpse 220.6.7.ND0003:   0%|          | 0/102 [00:00<?, ?it/s]"
      ]
     },
     "metadata": {},
     "output_type": "display_data"
    },
    {
     "name": "stdout",
     "output_type": "stream",
     "text": [
      "Video 220.6.7.ND0003 saved successfully.\n"
     ]
    },
    {
     "data": {
      "application/vnd.jupyter.widget-view+json": {
       "model_id": "",
       "version_major": 2,
       "version_minor": 0
      },
      "text/plain": [
       "Creating glimpse 226.6.7.ND0003:   0%|          | 0/115 [00:00<?, ?it/s]"
      ]
     },
     "metadata": {},
     "output_type": "display_data"
    },
    {
     "name": "stdout",
     "output_type": "stream",
     "text": [
      "Video 226.6.7.ND0003 saved successfully.\n"
     ]
    },
    {
     "data": {
      "application/vnd.jupyter.widget-view+json": {
       "model_id": "",
       "version_major": 2,
       "version_minor": 0
      },
      "text/plain": [
       "Creating glimpse 50.6.7.ND0003:   0%|          | 0/154 [00:00<?, ?it/s]"
      ]
     },
     "metadata": {},
     "output_type": "display_data"
    },
    {
     "name": "stdout",
     "output_type": "stream",
     "text": [
      "Video 50.6.7.ND0003 saved successfully.\n"
     ]
    },
    {
     "data": {
      "application/vnd.jupyter.widget-view+json": {
       "model_id": "",
       "version_major": 2,
       "version_minor": 0
      },
      "text/plain": [
       "Creating glimpse 47.6.7.ND0003:   0%|          | 0/154 [00:00<?, ?it/s]"
      ]
     },
     "metadata": {},
     "output_type": "display_data"
    },
    {
     "name": "stdout",
     "output_type": "stream",
     "text": [
      "Video 47.6.7.ND0003 saved successfully.\n"
     ]
    },
    {
     "data": {
      "application/vnd.jupyter.widget-view+json": {
       "model_id": "",
       "version_major": 2,
       "version_minor": 0
      },
      "text/plain": [
       "Creating glimpse 43.6.7.ND0003:   0%|          | 0/154 [00:00<?, ?it/s]"
      ]
     },
     "metadata": {},
     "output_type": "display_data"
    },
    {
     "name": "stdout",
     "output_type": "stream",
     "text": [
      "Video 43.6.7.ND0003 saved successfully.\n"
     ]
    },
    {
     "data": {
      "application/vnd.jupyter.widget-view+json": {
       "model_id": "f216d359e4fb40f6a4ae76e5997292aa",
       "version_major": 2,
       "version_minor": 0
      },
      "text/plain": [
       "Creating glimpse 58.6.7.ND0003:   0%|          | 0/128 [00:00<?, ?it/s]"
      ]
     },
     "metadata": {},
     "output_type": "display_data"
    },
    {
     "name": "stdout",
     "output_type": "stream",
     "text": [
      "Video 58.6.7.ND0003 saved successfully.\n"
     ]
    },
    {
     "data": {
      "application/vnd.jupyter.widget-view+json": {
       "model_id": "19e2d4d6c3fe42888d3635082d734ca4",
       "version_major": 2,
       "version_minor": 0
      },
      "text/plain": [
       "Creating glimpse 18.6.7.ND0003:   0%|          | 0/95 [00:00<?, ?it/s]"
      ]
     },
     "metadata": {},
     "output_type": "display_data"
    },
    {
     "name": "stdout",
     "output_type": "stream",
     "text": [
      "Video 18.6.7.ND0003 saved successfully.\n"
     ]
    },
    {
     "data": {
      "application/vnd.jupyter.widget-view+json": {
       "model_id": "35ee855cbf564d98bddec94aaeee38f2",
       "version_major": 2,
       "version_minor": 0
      },
      "text/plain": [
       "Creating glimpse 5.6.7.ND0003:   0%|          | 0/154 [00:00<?, ?it/s]"
      ]
     },
     "metadata": {},
     "output_type": "display_data"
    },
    {
     "name": "stdout",
     "output_type": "stream",
     "text": [
      "Video 5.6.7.ND0003 saved successfully.\n"
     ]
    },
    {
     "data": {
      "application/vnd.jupyter.widget-view+json": {
       "model_id": "6d0dbd965a5e46a4b5789645c4595be4",
       "version_major": 2,
       "version_minor": 0
      },
      "text/plain": [
       "Creating glimpse 12.6.7.ND0003:   0%|          | 0/113 [00:00<?, ?it/s]"
      ]
     },
     "metadata": {},
     "output_type": "display_data"
    },
    {
     "name": "stdout",
     "output_type": "stream",
     "text": [
      "Video 12.6.7.ND0003 saved successfully.\n"
     ]
    },
    {
     "data": {
      "application/vnd.jupyter.widget-view+json": {
       "model_id": "f20bc38bae2a416e8c7703d026c26ba4",
       "version_major": 2,
       "version_minor": 0
      },
      "text/plain": [
       "Creating glimpse 13.6.7.ND0003:   0%|          | 0/154 [00:00<?, ?it/s]"
      ]
     },
     "metadata": {},
     "output_type": "display_data"
    },
    {
     "name": "stdout",
     "output_type": "stream",
     "text": [
      "Video 13.6.7.ND0003 saved successfully.\n"
     ]
    },
    {
     "data": {
      "application/vnd.jupyter.widget-view+json": {
       "model_id": "cc88c52dea8a4a049c8abe190648b65e",
       "version_major": 2,
       "version_minor": 0
      },
      "text/plain": [
       "Creating glimpse 21.6.7.ND0003:   0%|          | 0/94 [00:00<?, ?it/s]"
      ]
     },
     "metadata": {},
     "output_type": "display_data"
    },
    {
     "name": "stdout",
     "output_type": "stream",
     "text": [
      "Video 21.6.7.ND0003 saved successfully.\n"
     ]
    },
    {
     "data": {
      "application/vnd.jupyter.widget-view+json": {
       "model_id": "e3f20f7c745c4c1e9493f76feaad6d70",
       "version_major": 2,
       "version_minor": 0
      },
      "text/plain": [
       "Creating glimpse 25.6.7.ND0003:   0%|          | 0/154 [00:00<?, ?it/s]"
      ]
     },
     "metadata": {},
     "output_type": "display_data"
    },
    {
     "name": "stdout",
     "output_type": "stream",
     "text": [
      "Video 25.6.7.ND0003 saved successfully.\n"
     ]
    },
    {
     "data": {
      "application/vnd.jupyter.widget-view+json": {
       "model_id": "be699822f21442e2b8ecbba40b5ed584",
       "version_major": 2,
       "version_minor": 0
      },
      "text/plain": [
       "Creating glimpse 26.6.7.ND0003:   0%|          | 0/154 [00:00<?, ?it/s]"
      ]
     },
     "metadata": {},
     "output_type": "display_data"
    },
    {
     "name": "stdout",
     "output_type": "stream",
     "text": [
      "Video 26.6.7.ND0003 saved successfully.\n"
     ]
    },
    {
     "data": {
      "application/vnd.jupyter.widget-view+json": {
       "model_id": "51a660015e004e94a33f585535778ac3",
       "version_major": 2,
       "version_minor": 0
      },
      "text/plain": [
       "Creating glimpse 28.6.7.ND0003:   0%|          | 0/107 [00:00<?, ?it/s]"
      ]
     },
     "metadata": {},
     "output_type": "display_data"
    },
    {
     "name": "stdout",
     "output_type": "stream",
     "text": [
      "Video 28.6.7.ND0003 saved successfully.\n"
     ]
    },
    {
     "data": {
      "application/vnd.jupyter.widget-view+json": {
       "model_id": "827f525bc30942b1bbc90b07b4768f25",
       "version_major": 2,
       "version_minor": 0
      },
      "text/plain": [
       "Creating glimpse 100.6.7.ND0003:   0%|          | 0/154 [00:00<?, ?it/s]"
      ]
     },
     "metadata": {},
     "output_type": "display_data"
    },
    {
     "name": "stdout",
     "output_type": "stream",
     "text": [
      "Video 100.6.7.ND0003 saved successfully.\n"
     ]
    },
    {
     "data": {
      "application/vnd.jupyter.widget-view+json": {
       "model_id": "d07a5ce0b219455e9c09fe0ed286e820",
       "version_major": 2,
       "version_minor": 0
      },
      "text/plain": [
       "Creating glimpse 104.6.7.ND0003:   0%|          | 0/154 [00:00<?, ?it/s]"
      ]
     },
     "metadata": {},
     "output_type": "display_data"
    },
    {
     "name": "stdout",
     "output_type": "stream",
     "text": [
      "Video 104.6.7.ND0003 saved successfully.\n"
     ]
    },
    {
     "data": {
      "application/vnd.jupyter.widget-view+json": {
       "model_id": "3b474edccec645d290bc017f9426ea8d",
       "version_major": 2,
       "version_minor": 0
      },
      "text/plain": [
       "Creating glimpse 106.6.7.ND0003:   0%|          | 0/95 [00:00<?, ?it/s]"
      ]
     },
     "metadata": {},
     "output_type": "display_data"
    },
    {
     "name": "stdout",
     "output_type": "stream",
     "text": [
      "Video 106.6.7.ND0003 saved successfully.\n"
     ]
    },
    {
     "data": {
      "application/vnd.jupyter.widget-view+json": {
       "model_id": "78c6370343c142ee9a3c0f995b4878ad",
       "version_major": 2,
       "version_minor": 0
      },
      "text/plain": [
       "Creating glimpse 108.6.7.ND0003:   0%|          | 0/154 [00:00<?, ?it/s]"
      ]
     },
     "metadata": {},
     "output_type": "display_data"
    },
    {
     "name": "stdout",
     "output_type": "stream",
     "text": [
      "Video 108.6.7.ND0003 saved successfully.\n"
     ]
    },
    {
     "data": {
      "application/vnd.jupyter.widget-view+json": {
       "model_id": "8e0690001a4248198694432118d41bb2",
       "version_major": 2,
       "version_minor": 0
      },
      "text/plain": [
       "Creating glimpse 112.6.7.ND0003:   0%|          | 0/89 [00:00<?, ?it/s]"
      ]
     },
     "metadata": {},
     "output_type": "display_data"
    },
    {
     "name": "stdout",
     "output_type": "stream",
     "text": [
      "Video 112.6.7.ND0003 saved successfully.\n"
     ]
    },
    {
     "data": {
      "application/vnd.jupyter.widget-view+json": {
       "model_id": "3133676e0a0a4811ad8cc31ef076b79e",
       "version_major": 2,
       "version_minor": 0
      },
      "text/plain": [
       "Creating glimpse 122.6.7.ND0003:   0%|          | 0/74 [00:00<?, ?it/s]"
      ]
     },
     "metadata": {},
     "output_type": "display_data"
    },
    {
     "name": "stdout",
     "output_type": "stream",
     "text": [
      "Video 122.6.7.ND0003 saved successfully.\n"
     ]
    },
    {
     "data": {
      "application/vnd.jupyter.widget-view+json": {
       "model_id": "500a6e6588a34d4cbc76847b802a7bc8",
       "version_major": 2,
       "version_minor": 0
      },
      "text/plain": [
       "Creating glimpse 126.6.7.ND0003:   0%|          | 0/154 [00:00<?, ?it/s]"
      ]
     },
     "metadata": {},
     "output_type": "display_data"
    },
    {
     "name": "stdout",
     "output_type": "stream",
     "text": [
      "Video 126.6.7.ND0003 saved successfully.\n"
     ]
    },
    {
     "data": {
      "application/vnd.jupyter.widget-view+json": {
       "model_id": "cb4a133961534f4485c599083ae02acb",
       "version_major": 2,
       "version_minor": 0
      },
      "text/plain": [
       "Creating glimpse 67.6.7.ND0003:   0%|          | 0/76 [00:00<?, ?it/s]"
      ]
     },
     "metadata": {},
     "output_type": "display_data"
    },
    {
     "name": "stdout",
     "output_type": "stream",
     "text": [
      "Video 67.6.7.ND0003 saved successfully.\n"
     ]
    },
    {
     "data": {
      "application/vnd.jupyter.widget-view+json": {
       "model_id": "a77134d1df654f969390cce7dd39dda7",
       "version_major": 2,
       "version_minor": 0
      },
      "text/plain": [
       "Creating glimpse 77.6.7.ND0003:   0%|          | 0/154 [00:00<?, ?it/s]"
      ]
     },
     "metadata": {},
     "output_type": "display_data"
    },
    {
     "name": "stdout",
     "output_type": "stream",
     "text": [
      "Video 77.6.7.ND0003 saved successfully.\n"
     ]
    },
    {
     "data": {
      "application/vnd.jupyter.widget-view+json": {
       "model_id": "e3c7f74973bc4afc974f2fd828eba988",
       "version_major": 2,
       "version_minor": 0
      },
      "text/plain": [
       "Creating glimpse 73.6.7.ND0003:   0%|          | 0/152 [00:00<?, ?it/s]"
      ]
     },
     "metadata": {},
     "output_type": "display_data"
    },
    {
     "name": "stdout",
     "output_type": "stream",
     "text": [
      "Video 73.6.7.ND0003 saved successfully.\n"
     ]
    },
    {
     "data": {
      "application/vnd.jupyter.widget-view+json": {
       "model_id": "ba51d7550b05464ca4438b3333cdec1a",
       "version_major": 2,
       "version_minor": 0
      },
      "text/plain": [
       "Creating glimpse 99.6.7.ND0003:   0%|          | 0/113 [00:00<?, ?it/s]"
      ]
     },
     "metadata": {},
     "output_type": "display_data"
    },
    {
     "name": "stdout",
     "output_type": "stream",
     "text": [
      "Video 99.6.7.ND0003 saved successfully.\n"
     ]
    },
    {
     "data": {
      "application/vnd.jupyter.widget-view+json": {
       "model_id": "799e789a628b491fa9f1b9e4f27d1c0a",
       "version_major": 2,
       "version_minor": 0
      },
      "text/plain": [
       "Creating glimpse 92.6.7.ND0003:   0%|          | 0/154 [00:00<?, ?it/s]"
      ]
     },
     "metadata": {},
     "output_type": "display_data"
    },
    {
     "name": "stdout",
     "output_type": "stream",
     "text": [
      "Video 92.6.7.ND0003 saved successfully.\n"
     ]
    },
    {
     "data": {
      "application/vnd.jupyter.widget-view+json": {
       "model_id": "51b6d652e6874d09a6d7758b3affc4b4",
       "version_major": 2,
       "version_minor": 0
      },
      "text/plain": [
       "Creating glimpse 89.6.7.ND0003:   0%|          | 0/154 [00:00<?, ?it/s]"
      ]
     },
     "metadata": {},
     "output_type": "display_data"
    },
    {
     "name": "stdout",
     "output_type": "stream",
     "text": [
      "Video 89.6.7.ND0003 saved successfully.\n"
     ]
    },
    {
     "data": {
      "application/vnd.jupyter.widget-view+json": {
       "model_id": "1f54108e7c044a8fb10599eb49424fb0",
       "version_major": 2,
       "version_minor": 0
      },
      "text/plain": [
       "Creating glimpse 295.6.7.ND0003:   0%|          | 0/137 [00:00<?, ?it/s]"
      ]
     },
     "metadata": {},
     "output_type": "display_data"
    },
    {
     "name": "stdout",
     "output_type": "stream",
     "text": [
      "Video 295.6.7.ND0003 saved successfully.\n"
     ]
    },
    {
     "data": {
      "application/vnd.jupyter.widget-view+json": {
       "model_id": "45ff50988bd34e809b4bd073524a6a95",
       "version_major": 2,
       "version_minor": 0
      },
      "text/plain": [
       "Creating glimpse 321.6.7.ND0003:   0%|          | 0/153 [00:00<?, ?it/s]"
      ]
     },
     "metadata": {},
     "output_type": "display_data"
    },
    {
     "name": "stdout",
     "output_type": "stream",
     "text": [
      "Video 321.6.7.ND0003 saved successfully.\n"
     ]
    },
    {
     "data": {
      "application/vnd.jupyter.widget-view+json": {
       "model_id": "8bb69f6110b0469382d7a85dee4fec7a",
       "version_major": 2,
       "version_minor": 0
      },
      "text/plain": [
       "Creating glimpse 283.6.7.ND0003:   0%|          | 0/153 [00:00<?, ?it/s]"
      ]
     },
     "metadata": {},
     "output_type": "display_data"
    },
    {
     "name": "stdout",
     "output_type": "stream",
     "text": [
      "Video 283.6.7.ND0003 saved successfully.\n"
     ]
    },
    {
     "data": {
      "application/vnd.jupyter.widget-view+json": {
       "model_id": "077f8b365d124eed85c7b10f810b34cd",
       "version_major": 2,
       "version_minor": 0
      },
      "text/plain": [
       "Creating glimpse 376.6.7.ND0003:   0%|          | 0/152 [00:00<?, ?it/s]"
      ]
     },
     "metadata": {},
     "output_type": "display_data"
    },
    {
     "name": "stdout",
     "output_type": "stream",
     "text": [
      "Video 376.6.7.ND0003 saved successfully.\n"
     ]
    },
    {
     "data": {
      "application/vnd.jupyter.widget-view+json": {
       "model_id": "a3a1993aa3aa4e5d8234734521170c41",
       "version_major": 2,
       "version_minor": 0
      },
      "text/plain": [
       "Creating glimpse 355.6.7.ND0003:   0%|          | 0/152 [00:00<?, ?it/s]"
      ]
     },
     "metadata": {},
     "output_type": "display_data"
    },
    {
     "name": "stdout",
     "output_type": "stream",
     "text": [
      "Video 355.6.7.ND0003 saved successfully.\n"
     ]
    },
    {
     "data": {
      "application/vnd.jupyter.widget-view+json": {
       "model_id": "e03e56c7ea784ea7a02f24408deb2621",
       "version_major": 2,
       "version_minor": 0
      },
      "text/plain": [
       "Creating glimpse 409.6.7.ND0003:   0%|          | 0/151 [00:00<?, ?it/s]"
      ]
     },
     "metadata": {},
     "output_type": "display_data"
    },
    {
     "name": "stdout",
     "output_type": "stream",
     "text": [
      "Video 409.6.7.ND0003 saved successfully.\n"
     ]
    },
    {
     "data": {
      "application/vnd.jupyter.widget-view+json": {
       "model_id": "7368817dacfe4510879259859beffe08",
       "version_major": 2,
       "version_minor": 0
      },
      "text/plain": [
       "Creating glimpse 428.6.7.ND0003:   0%|          | 0/151 [00:00<?, ?it/s]"
      ]
     },
     "metadata": {},
     "output_type": "display_data"
    },
    {
     "name": "stdout",
     "output_type": "stream",
     "text": [
      "Video 428.6.7.ND0003 saved successfully.\n"
     ]
    },
    {
     "data": {
      "application/vnd.jupyter.widget-view+json": {
       "model_id": "3a935588eb3f46eb82fa9397dc5d08a7",
       "version_major": 2,
       "version_minor": 0
      },
      "text/plain": [
       "Creating glimpse 522.6.7.ND0003:   0%|          | 0/134 [00:00<?, ?it/s]"
      ]
     },
     "metadata": {},
     "output_type": "display_data"
    },
    {
     "name": "stdout",
     "output_type": "stream",
     "text": [
      "Video 522.6.7.ND0003 saved successfully.\n"
     ]
    },
    {
     "data": {
      "application/vnd.jupyter.widget-view+json": {
       "model_id": "387ce4bb00714f6a9963929e4b6a43f2",
       "version_major": 2,
       "version_minor": 0
      },
      "text/plain": [
       "Creating glimpse 556.6.7.ND0003:   0%|          | 0/88 [00:00<?, ?it/s]"
      ]
     },
     "metadata": {},
     "output_type": "display_data"
    },
    {
     "name": "stdout",
     "output_type": "stream",
     "text": [
      "Video 556.6.7.ND0003 saved successfully.\n"
     ]
    },
    {
     "data": {
      "application/vnd.jupyter.widget-view+json": {
       "model_id": "4d81a5689b204f2a8b807d3efe5ee1b3",
       "version_major": 2,
       "version_minor": 0
      },
      "text/plain": [
       "Creating glimpse 623.6.7.ND0003:   0%|          | 0/146 [00:00<?, ?it/s]"
      ]
     },
     "metadata": {},
     "output_type": "display_data"
    },
    {
     "name": "stdout",
     "output_type": "stream",
     "text": [
      "Video 623.6.7.ND0003 saved successfully.\n"
     ]
    },
    {
     "data": {
      "application/vnd.jupyter.widget-view+json": {
       "model_id": "073a9c4028ee444f911dab2beba6af17",
       "version_major": 2,
       "version_minor": 0
      },
      "text/plain": [
       "Creating glimpse 588.6.7.ND0003:   0%|          | 0/145 [00:00<?, ?it/s]"
      ]
     },
     "metadata": {},
     "output_type": "display_data"
    },
    {
     "name": "stdout",
     "output_type": "stream",
     "text": [
      "Video 588.6.7.ND0003 saved successfully.\n"
     ]
    },
    {
     "data": {
      "application/vnd.jupyter.widget-view+json": {
       "model_id": "da1a7982017b46bea522c14aff7239de",
       "version_major": 2,
       "version_minor": 0
      },
      "text/plain": [
       "Creating glimpse 718.6.7.ND0003:   0%|          | 0/143 [00:00<?, ?it/s]"
      ]
     },
     "metadata": {},
     "output_type": "display_data"
    },
    {
     "name": "stdout",
     "output_type": "stream",
     "text": [
      "Video 718.6.7.ND0003 saved successfully.\n"
     ]
    },
    {
     "data": {
      "application/vnd.jupyter.widget-view+json": {
       "model_id": "01343b7f64fe4567a496b1717605c906",
       "version_major": 2,
       "version_minor": 0
      },
      "text/plain": [
       "Creating glimpse 731.6.7.ND0003:   0%|          | 0/95 [00:00<?, ?it/s]"
      ]
     },
     "metadata": {},
     "output_type": "display_data"
    },
    {
     "name": "stdout",
     "output_type": "stream",
     "text": [
      "Video 731.6.7.ND0003 saved successfully.\n"
     ]
    },
    {
     "data": {
      "application/vnd.jupyter.widget-view+json": {
       "model_id": "5fba58da87df42a9a84eb56e4d058ab2",
       "version_major": 2,
       "version_minor": 0
      },
      "text/plain": [
       "Creating glimpse 747.6.7.ND0003:   0%|          | 0/100 [00:00<?, ?it/s]"
      ]
     },
     "metadata": {},
     "output_type": "display_data"
    },
    {
     "name": "stdout",
     "output_type": "stream",
     "text": [
      "Video 747.6.7.ND0003 saved successfully.\n"
     ]
    },
    {
     "data": {
      "application/vnd.jupyter.widget-view+json": {
       "model_id": "9e0f439c4a6d4e0584a123a55c1356c4",
       "version_major": 2,
       "version_minor": 0
      },
      "text/plain": [
       "Creating glimpse 798.6.7.ND0003:   0%|          | 0/72 [00:00<?, ?it/s]"
      ]
     },
     "metadata": {},
     "output_type": "display_data"
    },
    {
     "name": "stdout",
     "output_type": "stream",
     "text": [
      "Video 798.6.7.ND0003 saved successfully.\n"
     ]
    },
    {
     "data": {
      "application/vnd.jupyter.widget-view+json": {
       "model_id": "b647f0e9892d484691b06b8157f3cec7",
       "version_major": 2,
       "version_minor": 0
      },
      "text/plain": [
       "Creating glimpse 845.6.7.ND0003:   0%|          | 0/140 [00:00<?, ?it/s]"
      ]
     },
     "metadata": {},
     "output_type": "display_data"
    },
    {
     "name": "stdout",
     "output_type": "stream",
     "text": [
      "Video 845.6.7.ND0003 saved successfully.\n"
     ]
    },
    {
     "data": {
      "application/vnd.jupyter.widget-view+json": {
       "model_id": "c7410dfd081b4fe18e6b34e0763a8383",
       "version_major": 2,
       "version_minor": 0
      },
      "text/plain": [
       "Creating glimpse 917.6.7.ND0003:   0%|          | 0/90 [00:00<?, ?it/s]"
      ]
     },
     "metadata": {},
     "output_type": "display_data"
    },
    {
     "name": "stdout",
     "output_type": "stream",
     "text": [
      "Video 917.6.7.ND0003 saved successfully.\n"
     ]
    },
    {
     "data": {
      "application/vnd.jupyter.widget-view+json": {
       "model_id": "28b818ff1cd84abe88a868c7f2447775",
       "version_major": 2,
       "version_minor": 0
      },
      "text/plain": [
       "Creating glimpse 928.6.7.ND0003:   0%|          | 0/137 [00:00<?, ?it/s]"
      ]
     },
     "metadata": {},
     "output_type": "display_data"
    },
    {
     "name": "stdout",
     "output_type": "stream",
     "text": [
      "Video 928.6.7.ND0003 saved successfully.\n"
     ]
    },
    {
     "data": {
      "application/vnd.jupyter.widget-view+json": {
       "model_id": "c1bcc8d8b43c4ffba9b2055ebaf34065",
       "version_major": 2,
       "version_minor": 0
      },
      "text/plain": [
       "Creating glimpse 930.6.7.ND0003:   0%|          | 0/137 [00:00<?, ?it/s]"
      ]
     },
     "metadata": {},
     "output_type": "display_data"
    },
    {
     "name": "stdout",
     "output_type": "stream",
     "text": [
      "Video 930.6.7.ND0003 saved successfully.\n"
     ]
    },
    {
     "data": {
      "application/vnd.jupyter.widget-view+json": {
       "model_id": "f7fabf4181f841cfacd2696fe6c68324",
       "version_major": 2,
       "version_minor": 0
      },
      "text/plain": [
       "Creating glimpse 977.6.7.ND0003:   0%|          | 0/73 [00:00<?, ?it/s]"
      ]
     },
     "metadata": {},
     "output_type": "display_data"
    },
    {
     "name": "stdout",
     "output_type": "stream",
     "text": [
      "Video 977.6.7.ND0003 saved successfully.\n"
     ]
    },
    {
     "data": {
      "application/vnd.jupyter.widget-view+json": {
       "model_id": "3aca71d9f49341c986b4942ac589fb3d",
       "version_major": 2,
       "version_minor": 0
      },
      "text/plain": [
       "Creating glimpse 1073.6.7.ND0003:   0%|          | 0/133 [00:00<?, ?it/s]"
      ]
     },
     "metadata": {},
     "output_type": "display_data"
    },
    {
     "name": "stdout",
     "output_type": "stream",
     "text": [
      "Video 1073.6.7.ND0003 saved successfully.\n"
     ]
    },
    {
     "data": {
      "application/vnd.jupyter.widget-view+json": {
       "model_id": "c1a12bd360594277a772da62d1e2c438",
       "version_major": 2,
       "version_minor": 0
      },
      "text/plain": [
       "Creating glimpse 1163.6.7.ND0003:   0%|          | 0/130 [00:00<?, ?it/s]"
      ]
     },
     "metadata": {},
     "output_type": "display_data"
    },
    {
     "name": "stdout",
     "output_type": "stream",
     "text": [
      "Video 1163.6.7.ND0003 saved successfully.\n"
     ]
    },
    {
     "data": {
      "application/vnd.jupyter.widget-view+json": {
       "model_id": "da8d31ab16d94e208f61e9c92f8d9dd6",
       "version_major": 2,
       "version_minor": 0
      },
      "text/plain": [
       "Creating glimpse 1145.6.7.ND0003:   0%|          | 0/83 [00:00<?, ?it/s]"
      ]
     },
     "metadata": {},
     "output_type": "display_data"
    },
    {
     "name": "stdout",
     "output_type": "stream",
     "text": [
      "Video 1145.6.7.ND0003 saved successfully.\n"
     ]
    },
    {
     "data": {
      "application/vnd.jupyter.widget-view+json": {
       "model_id": "8acff00966ff4f588343412808a052d6",
       "version_major": 2,
       "version_minor": 0
      },
      "text/plain": [
       "Creating glimpse 1181.6.7.ND0003:   0%|          | 0/129 [00:00<?, ?it/s]"
      ]
     },
     "metadata": {},
     "output_type": "display_data"
    },
    {
     "name": "stdout",
     "output_type": "stream",
     "text": [
      "Video 1181.6.7.ND0003 saved successfully.\n"
     ]
    },
    {
     "data": {
      "application/vnd.jupyter.widget-view+json": {
       "model_id": "3a1cb918013b4ebbba832e997970e1b3",
       "version_major": 2,
       "version_minor": 0
      },
      "text/plain": [
       "Creating glimpse 1186.6.7.ND0003:   0%|          | 0/100 [00:00<?, ?it/s]"
      ]
     },
     "metadata": {},
     "output_type": "display_data"
    },
    {
     "name": "stdout",
     "output_type": "stream",
     "text": [
      "Video 1186.6.7.ND0003 saved successfully.\n"
     ]
    },
    {
     "data": {
      "application/vnd.jupyter.widget-view+json": {
       "model_id": "04b51409d78a4c06922fc70d32f0348a",
       "version_major": 2,
       "version_minor": 0
      },
      "text/plain": [
       "Creating glimpse 1245.6.7.ND0003:   0%|          | 0/70 [00:00<?, ?it/s]"
      ]
     },
     "metadata": {},
     "output_type": "display_data"
    },
    {
     "name": "stdout",
     "output_type": "stream",
     "text": [
      "Video 1245.6.7.ND0003 saved successfully.\n"
     ]
    },
    {
     "data": {
      "application/vnd.jupyter.widget-view+json": {
       "model_id": "fa23ab21b94044daa0d8f413198cfbcd",
       "version_major": 2,
       "version_minor": 0
      },
      "text/plain": [
       "Creating glimpse 1282.6.7.ND0003:   0%|          | 0/95 [00:00<?, ?it/s]"
      ]
     },
     "metadata": {},
     "output_type": "display_data"
    },
    {
     "name": "stdout",
     "output_type": "stream",
     "text": [
      "Video 1282.6.7.ND0003 saved successfully.\n"
     ]
    },
    {
     "data": {
      "application/vnd.jupyter.widget-view+json": {
       "model_id": "e49610e4c8a44fefa4498f73a8626d3d",
       "version_major": 2,
       "version_minor": 0
      },
      "text/plain": [
       "Creating glimpse 1298.6.7.ND0003:   0%|          | 0/82 [00:00<?, ?it/s]"
      ]
     },
     "metadata": {},
     "output_type": "display_data"
    },
    {
     "name": "stdout",
     "output_type": "stream",
     "text": [
      "Video 1298.6.7.ND0003 saved successfully.\n"
     ]
    },
    {
     "data": {
      "application/vnd.jupyter.widget-view+json": {
       "model_id": "58fa8a9956cd4aa2bf2630a5b61508ea",
       "version_major": 2,
       "version_minor": 0
      },
      "text/plain": [
       "Creating glimpse 1356.6.7.ND0003:   0%|          | 0/86 [00:00<?, ?it/s]"
      ]
     },
     "metadata": {},
     "output_type": "display_data"
    },
    {
     "name": "stdout",
     "output_type": "stream",
     "text": [
      "Video 1356.6.7.ND0003 saved successfully.\n"
     ]
    },
    {
     "data": {
      "application/vnd.jupyter.widget-view+json": {
       "model_id": "38992d8f087545f6b9fef6b9bee1f12a",
       "version_major": 2,
       "version_minor": 0
      },
      "text/plain": [
       "Creating glimpse 1352.6.7.ND0003:   0%|          | 0/83 [00:00<?, ?it/s]"
      ]
     },
     "metadata": {},
     "output_type": "display_data"
    },
    {
     "name": "stdout",
     "output_type": "stream",
     "text": [
      "Video 1352.6.7.ND0003 saved successfully.\n"
     ]
    },
    {
     "data": {
      "application/vnd.jupyter.widget-view+json": {
       "model_id": "863bdcd157bb4d0b9d3943caf7de7cba",
       "version_major": 2,
       "version_minor": 0
      },
      "text/plain": [
       "Creating glimpse 1433.6.7.ND0003:   0%|          | 0/122 [00:00<?, ?it/s]"
      ]
     },
     "metadata": {},
     "output_type": "display_data"
    },
    {
     "name": "stdout",
     "output_type": "stream",
     "text": [
      "Video 1433.6.7.ND0003 saved successfully.\n"
     ]
    },
    {
     "data": {
      "application/vnd.jupyter.widget-view+json": {
       "model_id": "7d06695b27d74d6581410fb44c301087",
       "version_major": 2,
       "version_minor": 0
      },
      "text/plain": [
       "Creating glimpse 1496.6.7.ND0003:   0%|          | 0/120 [00:00<?, ?it/s]"
      ]
     },
     "metadata": {},
     "output_type": "display_data"
    },
    {
     "name": "stdout",
     "output_type": "stream",
     "text": [
      "Video 1496.6.7.ND0003 saved successfully.\n"
     ]
    },
    {
     "data": {
      "application/vnd.jupyter.widget-view+json": {
       "model_id": "794642948984406aa1e5d692b70e5381",
       "version_major": 2,
       "version_minor": 0
      },
      "text/plain": [
       "Creating glimpse 1479.6.7.ND0003:   0%|          | 0/119 [00:00<?, ?it/s]"
      ]
     },
     "metadata": {},
     "output_type": "display_data"
    },
    {
     "name": "stdout",
     "output_type": "stream",
     "text": [
      "Video 1479.6.7.ND0003 saved successfully.\n"
     ]
    },
    {
     "data": {
      "application/vnd.jupyter.widget-view+json": {
       "model_id": "110991c3cc844c169338cfbe34a842f4",
       "version_major": 2,
       "version_minor": 0
      },
      "text/plain": [
       "Creating glimpse 1503.6.7.ND0003:   0%|          | 0/119 [00:00<?, ?it/s]"
      ]
     },
     "metadata": {},
     "output_type": "display_data"
    },
    {
     "name": "stdout",
     "output_type": "stream",
     "text": [
      "Video 1503.6.7.ND0003 saved successfully.\n"
     ]
    },
    {
     "data": {
      "application/vnd.jupyter.widget-view+json": {
       "model_id": "d84f63b4c83d43379310a70b5a408f7f",
       "version_major": 2,
       "version_minor": 0
      },
      "text/plain": [
       "Creating glimpse 1547.6.7.ND0003:   0%|          | 0/118 [00:00<?, ?it/s]"
      ]
     },
     "metadata": {},
     "output_type": "display_data"
    },
    {
     "name": "stdout",
     "output_type": "stream",
     "text": [
      "Video 1547.6.7.ND0003 saved successfully.\n"
     ]
    },
    {
     "data": {
      "application/vnd.jupyter.widget-view+json": {
       "model_id": "4c1241ec669c4408b16e6b2c8dec69f9",
       "version_major": 2,
       "version_minor": 0
      },
      "text/plain": [
       "Creating glimpse 1580.6.7.ND0003:   0%|          | 0/83 [00:00<?, ?it/s]"
      ]
     },
     "metadata": {},
     "output_type": "display_data"
    },
    {
     "name": "stdout",
     "output_type": "stream",
     "text": [
      "Video 1580.6.7.ND0003 saved successfully.\n"
     ]
    },
    {
     "data": {
      "application/vnd.jupyter.widget-view+json": {
       "model_id": "3997467f117d42739d2e4ec06479267f",
       "version_major": 2,
       "version_minor": 0
      },
      "text/plain": [
       "Creating glimpse 1603.6.7.ND0003:   0%|          | 0/74 [00:00<?, ?it/s]"
      ]
     },
     "metadata": {},
     "output_type": "display_data"
    },
    {
     "name": "stdout",
     "output_type": "stream",
     "text": [
      "Video 1603.6.7.ND0003 saved successfully.\n"
     ]
    },
    {
     "data": {
      "application/vnd.jupyter.widget-view+json": {
       "model_id": "15bd41504b8547ca9d2a253eda687010",
       "version_major": 2,
       "version_minor": 0
      },
      "text/plain": [
       "Creating glimpse 1583.6.7.ND0003:   0%|          | 0/115 [00:00<?, ?it/s]"
      ]
     },
     "metadata": {},
     "output_type": "display_data"
    },
    {
     "name": "stdout",
     "output_type": "stream",
     "text": [
      "Video 1583.6.7.ND0003 saved successfully.\n"
     ]
    },
    {
     "data": {
      "application/vnd.jupyter.widget-view+json": {
       "model_id": "22a195f52efd4da08487ae154a0376b7",
       "version_major": 2,
       "version_minor": 0
      },
      "text/plain": [
       "Creating glimpse 1587.6.7.ND0003:   0%|          | 0/116 [00:00<?, ?it/s]"
      ]
     },
     "metadata": {},
     "output_type": "display_data"
    },
    {
     "name": "stdout",
     "output_type": "stream",
     "text": [
      "Video 1587.6.7.ND0003 saved successfully.\n"
     ]
    },
    {
     "data": {
      "application/vnd.jupyter.widget-view+json": {
       "model_id": "bc44835ba0c44330a59b7cbcf835bfbb",
       "version_major": 2,
       "version_minor": 0
      },
      "text/plain": [
       "Creating glimpse 1661.6.7.ND0003:   0%|          | 0/114 [00:00<?, ?it/s]"
      ]
     },
     "metadata": {},
     "output_type": "display_data"
    },
    {
     "name": "stdout",
     "output_type": "stream",
     "text": [
      "Video 1661.6.7.ND0003 saved successfully.\n"
     ]
    },
    {
     "data": {
      "application/vnd.jupyter.widget-view+json": {
       "model_id": "80dad93d2df84276a6e32866519f2b19",
       "version_major": 2,
       "version_minor": 0
      },
      "text/plain": [
       "Creating glimpse 1713.6.7.ND0003:   0%|          | 0/112 [00:00<?, ?it/s]"
      ]
     },
     "metadata": {},
     "output_type": "display_data"
    },
    {
     "name": "stdout",
     "output_type": "stream",
     "text": [
      "Video 1713.6.7.ND0003 saved successfully.\n"
     ]
    },
    {
     "data": {
      "application/vnd.jupyter.widget-view+json": {
       "model_id": "c6f02c0d5c79476c8c03f0a4c098b650",
       "version_major": 2,
       "version_minor": 0
      },
      "text/plain": [
       "Creating glimpse 1732.6.7.ND0003:   0%|          | 0/111 [00:00<?, ?it/s]"
      ]
     },
     "metadata": {},
     "output_type": "display_data"
    },
    {
     "name": "stdout",
     "output_type": "stream",
     "text": [
      "Video 1732.6.7.ND0003 saved successfully.\n"
     ]
    },
    {
     "data": {
      "application/vnd.jupyter.widget-view+json": {
       "model_id": "8ad75f44af1a4fca8461afb9cd6e6603",
       "version_major": 2,
       "version_minor": 0
      },
      "text/plain": [
       "Creating glimpse 1737.6.7.ND0003:   0%|          | 0/110 [00:00<?, ?it/s]"
      ]
     },
     "metadata": {},
     "output_type": "display_data"
    },
    {
     "name": "stdout",
     "output_type": "stream",
     "text": [
      "Video 1737.6.7.ND0003 saved successfully.\n"
     ]
    },
    {
     "data": {
      "application/vnd.jupyter.widget-view+json": {
       "model_id": "6e112a4758fb42b68dc0af05badcd20f",
       "version_major": 2,
       "version_minor": 0
      },
      "text/plain": [
       "Creating glimpse 1760.6.7.ND0003:   0%|          | 0/91 [00:00<?, ?it/s]"
      ]
     },
     "metadata": {},
     "output_type": "display_data"
    },
    {
     "name": "stdout",
     "output_type": "stream",
     "text": [
      "Video 1760.6.7.ND0003 saved successfully.\n"
     ]
    },
    {
     "data": {
      "application/vnd.jupyter.widget-view+json": {
       "model_id": "2860b27c285c429b9b84d0887f121324",
       "version_major": 2,
       "version_minor": 0
      },
      "text/plain": [
       "Creating glimpse 1853.6.7.ND0003:   0%|          | 0/107 [00:00<?, ?it/s]"
      ]
     },
     "metadata": {},
     "output_type": "display_data"
    },
    {
     "name": "stdout",
     "output_type": "stream",
     "text": [
      "Video 1853.6.7.ND0003 saved successfully.\n"
     ]
    },
    {
     "data": {
      "application/vnd.jupyter.widget-view+json": {
       "model_id": "49fce413114b441692a69e3f349704a9",
       "version_major": 2,
       "version_minor": 0
      },
      "text/plain": [
       "Creating glimpse 1873.6.7.ND0003:   0%|          | 0/93 [00:00<?, ?it/s]"
      ]
     },
     "metadata": {},
     "output_type": "display_data"
    },
    {
     "name": "stdout",
     "output_type": "stream",
     "text": [
      "Video 1873.6.7.ND0003 saved successfully.\n"
     ]
    },
    {
     "data": {
      "application/vnd.jupyter.widget-view+json": {
       "model_id": "1a32e671a773481f888dabd2460eecfb",
       "version_major": 2,
       "version_minor": 0
      },
      "text/plain": [
       "Creating glimpse 1878.6.7.ND0003:   0%|          | 0/107 [00:00<?, ?it/s]"
      ]
     },
     "metadata": {},
     "output_type": "display_data"
    },
    {
     "name": "stdout",
     "output_type": "stream",
     "text": [
      "Video 1878.6.7.ND0003 saved successfully.\n"
     ]
    },
    {
     "data": {
      "application/vnd.jupyter.widget-view+json": {
       "model_id": "cd250d2896404aee96d2e487734b34c4",
       "version_major": 2,
       "version_minor": 0
      },
      "text/plain": [
       "Creating glimpse 1860.6.7.ND0003:   0%|          | 0/107 [00:00<?, ?it/s]"
      ]
     },
     "metadata": {},
     "output_type": "display_data"
    },
    {
     "name": "stdout",
     "output_type": "stream",
     "text": [
      "Video 1860.6.7.ND0003 saved successfully.\n"
     ]
    },
    {
     "data": {
      "application/vnd.jupyter.widget-view+json": {
       "model_id": "8af34e9b1e144721935d1e778f331093",
       "version_major": 2,
       "version_minor": 0
      },
      "text/plain": [
       "Creating glimpse 1907.6.7.ND0003:   0%|          | 0/106 [00:00<?, ?it/s]"
      ]
     },
     "metadata": {},
     "output_type": "display_data"
    },
    {
     "name": "stdout",
     "output_type": "stream",
     "text": [
      "Video 1907.6.7.ND0003 saved successfully.\n"
     ]
    },
    {
     "data": {
      "application/vnd.jupyter.widget-view+json": {
       "model_id": "b4ede02feae44c7f989c6a2408654eda",
       "version_major": 2,
       "version_minor": 0
      },
      "text/plain": [
       "Creating glimpse 1937.6.7.ND0003:   0%|          | 0/104 [00:00<?, ?it/s]"
      ]
     },
     "metadata": {},
     "output_type": "display_data"
    },
    {
     "name": "stdout",
     "output_type": "stream",
     "text": [
      "Video 1937.6.7.ND0003 saved successfully.\n"
     ]
    },
    {
     "data": {
      "application/vnd.jupyter.widget-view+json": {
       "model_id": "1affb0aec8394427948e0a2a9b3fb8fb",
       "version_major": 2,
       "version_minor": 0
      },
      "text/plain": [
       "Creating glimpse 1926.6.7.ND0003:   0%|          | 0/103 [00:00<?, ?it/s]"
      ]
     },
     "metadata": {},
     "output_type": "display_data"
    },
    {
     "name": "stdout",
     "output_type": "stream",
     "text": [
      "Video 1926.6.7.ND0003 saved successfully.\n"
     ]
    },
    {
     "data": {
      "application/vnd.jupyter.widget-view+json": {
       "model_id": "2aa9d9bae81741d9b39b42bce6d26fdd",
       "version_major": 2,
       "version_minor": 0
      },
      "text/plain": [
       "Creating glimpse 2010.6.7.ND0003:   0%|          | 0/101 [00:00<?, ?it/s]"
      ]
     },
     "metadata": {},
     "output_type": "display_data"
    },
    {
     "name": "stdout",
     "output_type": "stream",
     "text": [
      "Video 2010.6.7.ND0003 saved successfully.\n"
     ]
    },
    {
     "data": {
      "application/vnd.jupyter.widget-view+json": {
       "model_id": "728bd7e263ef411192c292d43c47e022",
       "version_major": 2,
       "version_minor": 0
      },
      "text/plain": [
       "Creating glimpse 2055.6.7.ND0003:   0%|          | 0/100 [00:00<?, ?it/s]"
      ]
     },
     "metadata": {},
     "output_type": "display_data"
    },
    {
     "name": "stdout",
     "output_type": "stream",
     "text": [
      "Video 2055.6.7.ND0003 saved successfully.\n"
     ]
    },
    {
     "data": {
      "application/vnd.jupyter.widget-view+json": {
       "model_id": "fe4e0e5351e34bf98b7bf0fb05c91b76",
       "version_major": 2,
       "version_minor": 0
      },
      "text/plain": [
       "Creating glimpse 2086.6.7.ND0003:   0%|          | 0/99 [00:00<?, ?it/s]"
      ]
     },
     "metadata": {},
     "output_type": "display_data"
    },
    {
     "name": "stdout",
     "output_type": "stream",
     "text": [
      "Video 2086.6.7.ND0003 saved successfully.\n"
     ]
    },
    {
     "data": {
      "application/vnd.jupyter.widget-view+json": {
       "model_id": "50b86867dcad4a28ac8399179116b470",
       "version_major": 2,
       "version_minor": 0
      },
      "text/plain": [
       "Creating glimpse 2106.6.7.ND0003:   0%|          | 0/71 [00:00<?, ?it/s]"
      ]
     },
     "metadata": {},
     "output_type": "display_data"
    },
    {
     "name": "stdout",
     "output_type": "stream",
     "text": [
      "Video 2106.6.7.ND0003 saved successfully.\n"
     ]
    },
    {
     "data": {
      "application/vnd.jupyter.widget-view+json": {
       "model_id": "22c2fd9f54904278babf27f1d0f706d5",
       "version_major": 2,
       "version_minor": 0
      },
      "text/plain": [
       "Creating glimpse 2135.6.7.ND0003:   0%|          | 0/97 [00:00<?, ?it/s]"
      ]
     },
     "metadata": {},
     "output_type": "display_data"
    },
    {
     "name": "stdout",
     "output_type": "stream",
     "text": [
      "Video 2135.6.7.ND0003 saved successfully.\n"
     ]
    },
    {
     "data": {
      "application/vnd.jupyter.widget-view+json": {
       "model_id": "bebb79e1ef694b908d336b445a87aac0",
       "version_major": 2,
       "version_minor": 0
      },
      "text/plain": [
       "Creating glimpse 2165.6.7.ND0003:   0%|          | 0/96 [00:00<?, ?it/s]"
      ]
     },
     "metadata": {},
     "output_type": "display_data"
    },
    {
     "name": "stdout",
     "output_type": "stream",
     "text": [
      "Video 2165.6.7.ND0003 saved successfully.\n"
     ]
    },
    {
     "data": {
      "application/vnd.jupyter.widget-view+json": {
       "model_id": "fbf380fc74824b0cad16f29dc4fe661f",
       "version_major": 2,
       "version_minor": 0
      },
      "text/plain": [
       "Creating glimpse 2142.6.7.ND0003:   0%|          | 0/82 [00:00<?, ?it/s]"
      ]
     },
     "metadata": {},
     "output_type": "display_data"
    },
    {
     "name": "stdout",
     "output_type": "stream",
     "text": [
      "Video 2142.6.7.ND0003 saved successfully.\n"
     ]
    },
    {
     "data": {
      "application/vnd.jupyter.widget-view+json": {
       "model_id": "29cfc0b54ea64333a6b6db44899e5768",
       "version_major": 2,
       "version_minor": 0
      },
      "text/plain": [
       "Creating glimpse 2193.6.7.ND0003:   0%|          | 0/95 [00:00<?, ?it/s]"
      ]
     },
     "metadata": {},
     "output_type": "display_data"
    },
    {
     "name": "stdout",
     "output_type": "stream",
     "text": [
      "Video 2193.6.7.ND0003 saved successfully.\n"
     ]
    },
    {
     "data": {
      "application/vnd.jupyter.widget-view+json": {
       "model_id": "ebf3e27e8e5f490d899b8d6526561739",
       "version_major": 2,
       "version_minor": 0
      },
      "text/plain": [
       "Creating glimpse 2173.6.7.ND0003:   0%|          | 0/95 [00:00<?, ?it/s]"
      ]
     },
     "metadata": {},
     "output_type": "display_data"
    },
    {
     "name": "stdout",
     "output_type": "stream",
     "text": [
      "Video 2173.6.7.ND0003 saved successfully.\n"
     ]
    },
    {
     "data": {
      "application/vnd.jupyter.widget-view+json": {
       "model_id": "1b90ea2fda9445fd908f2f3cfad3c0e0",
       "version_major": 2,
       "version_minor": 0
      },
      "text/plain": [
       "Creating glimpse 2201.6.7.ND0003:   0%|          | 0/79 [00:00<?, ?it/s]"
      ]
     },
     "metadata": {},
     "output_type": "display_data"
    },
    {
     "name": "stdout",
     "output_type": "stream",
     "text": [
      "Video 2201.6.7.ND0003 saved successfully.\n"
     ]
    },
    {
     "data": {
      "application/vnd.jupyter.widget-view+json": {
       "model_id": "65c559026a114d39892a423eced71e53",
       "version_major": 2,
       "version_minor": 0
      },
      "text/plain": [
       "Creating glimpse 2227.6.7.ND0003:   0%|          | 0/93 [00:00<?, ?it/s]"
      ]
     },
     "metadata": {},
     "output_type": "display_data"
    },
    {
     "name": "stdout",
     "output_type": "stream",
     "text": [
      "Video 2227.6.7.ND0003 saved successfully.\n"
     ]
    },
    {
     "data": {
      "application/vnd.jupyter.widget-view+json": {
       "model_id": "555564daf3a04a6895a85277b26be44f",
       "version_major": 2,
       "version_minor": 0
      },
      "text/plain": [
       "Creating glimpse 2213.6.7.ND0003:   0%|          | 0/93 [00:00<?, ?it/s]"
      ]
     },
     "metadata": {},
     "output_type": "display_data"
    },
    {
     "name": "stdout",
     "output_type": "stream",
     "text": [
      "Video 2213.6.7.ND0003 saved successfully.\n"
     ]
    },
    {
     "data": {
      "application/vnd.jupyter.widget-view+json": {
       "model_id": "7072c34a448d442f835fb4f235d81fba",
       "version_major": 2,
       "version_minor": 0
      },
      "text/plain": [
       "Creating glimpse 2214.6.7.ND0003:   0%|          | 0/76 [00:00<?, ?it/s]"
      ]
     },
     "metadata": {},
     "output_type": "display_data"
    },
    {
     "name": "stdout",
     "output_type": "stream",
     "text": [
      "Video 2214.6.7.ND0003 saved successfully.\n"
     ]
    },
    {
     "data": {
      "application/vnd.jupyter.widget-view+json": {
       "model_id": "a24753201f3144bfa9e4d7d39a1348a8",
       "version_major": 2,
       "version_minor": 0
      },
      "text/plain": [
       "Creating glimpse 2245.6.7.ND0003:   0%|          | 0/92 [00:00<?, ?it/s]"
      ]
     },
     "metadata": {},
     "output_type": "display_data"
    },
    {
     "name": "stdout",
     "output_type": "stream",
     "text": [
      "Video 2245.6.7.ND0003 saved successfully.\n"
     ]
    },
    {
     "data": {
      "application/vnd.jupyter.widget-view+json": {
       "model_id": "5d70f60cbdc54743b298dc5252af1371",
       "version_major": 2,
       "version_minor": 0
      },
      "text/plain": [
       "Creating glimpse 2274.6.7.ND0003:   0%|          | 0/91 [00:00<?, ?it/s]"
      ]
     },
     "metadata": {},
     "output_type": "display_data"
    },
    {
     "name": "stdout",
     "output_type": "stream",
     "text": [
      "Video 2274.6.7.ND0003 saved successfully.\n"
     ]
    },
    {
     "data": {
      "application/vnd.jupyter.widget-view+json": {
       "model_id": "005b3b7f6b264e2283cdf0391b027fbb",
       "version_major": 2,
       "version_minor": 0
      },
      "text/plain": [
       "Creating glimpse 2320.6.7.ND0003:   0%|          | 0/90 [00:00<?, ?it/s]"
      ]
     },
     "metadata": {},
     "output_type": "display_data"
    },
    {
     "name": "stdout",
     "output_type": "stream",
     "text": [
      "Video 2320.6.7.ND0003 saved successfully.\n"
     ]
    },
    {
     "data": {
      "application/vnd.jupyter.widget-view+json": {
       "model_id": "8e37469ee62b458fbd6a1e7aa648be38",
       "version_major": 2,
       "version_minor": 0
      },
      "text/plain": [
       "Creating glimpse 2306.6.7.ND0003:   0%|          | 0/90 [00:00<?, ?it/s]"
      ]
     },
     "metadata": {},
     "output_type": "display_data"
    },
    {
     "name": "stdout",
     "output_type": "stream",
     "text": [
      "Video 2306.6.7.ND0003 saved successfully.\n"
     ]
    },
    {
     "data": {
      "application/vnd.jupyter.widget-view+json": {
       "model_id": "8260039f66fc4f6d842a79ebab7482d8",
       "version_major": 2,
       "version_minor": 0
      },
      "text/plain": [
       "Creating glimpse 2294.6.7.ND0003:   0%|          | 0/90 [00:00<?, ?it/s]"
      ]
     },
     "metadata": {},
     "output_type": "display_data"
    },
    {
     "name": "stdout",
     "output_type": "stream",
     "text": [
      "Video 2294.6.7.ND0003 saved successfully.\n"
     ]
    },
    {
     "data": {
      "application/vnd.jupyter.widget-view+json": {
       "model_id": "319fc5986942443c953a671ee38ce7ea",
       "version_major": 2,
       "version_minor": 0
      },
      "text/plain": [
       "Creating glimpse 2321.6.7.ND0003:   0%|          | 0/89 [00:00<?, ?it/s]"
      ]
     },
     "metadata": {},
     "output_type": "display_data"
    },
    {
     "name": "stdout",
     "output_type": "stream",
     "text": [
      "Video 2321.6.7.ND0003 saved successfully.\n"
     ]
    },
    {
     "data": {
      "application/vnd.jupyter.widget-view+json": {
       "model_id": "c015da659ea24cebbce197069db5e879",
       "version_major": 2,
       "version_minor": 0
      },
      "text/plain": [
       "Creating glimpse 2332.6.7.ND0003:   0%|          | 0/84 [00:00<?, ?it/s]"
      ]
     },
     "metadata": {},
     "output_type": "display_data"
    },
    {
     "name": "stdout",
     "output_type": "stream",
     "text": [
      "Video 2332.6.7.ND0003 saved successfully.\n"
     ]
    },
    {
     "data": {
      "application/vnd.jupyter.widget-view+json": {
       "model_id": "c7ed2f1f9131442c981522386081ed3d",
       "version_major": 2,
       "version_minor": 0
      },
      "text/plain": [
       "Creating glimpse 2350.6.7.ND0003:   0%|          | 0/88 [00:00<?, ?it/s]"
      ]
     },
     "metadata": {},
     "output_type": "display_data"
    },
    {
     "name": "stdout",
     "output_type": "stream",
     "text": [
      "Video 2350.6.7.ND0003 saved successfully.\n"
     ]
    },
    {
     "data": {
      "application/vnd.jupyter.widget-view+json": {
       "model_id": "88bf5630b1a5409798ef05b656d4e8c7",
       "version_major": 2,
       "version_minor": 0
      },
      "text/plain": [
       "Creating glimpse 2386.6.7.ND0003:   0%|          | 0/87 [00:00<?, ?it/s]"
      ]
     },
     "metadata": {},
     "output_type": "display_data"
    },
    {
     "name": "stdout",
     "output_type": "stream",
     "text": [
      "Video 2386.6.7.ND0003 saved successfully.\n"
     ]
    },
    {
     "data": {
      "application/vnd.jupyter.widget-view+json": {
       "model_id": "8e37cb3fcb9d488bb79ea4093b57856f",
       "version_major": 2,
       "version_minor": 0
      },
      "text/plain": [
       "Creating glimpse 2372.6.7.ND0003:   0%|          | 0/87 [00:00<?, ?it/s]"
      ]
     },
     "metadata": {},
     "output_type": "display_data"
    },
    {
     "name": "stdout",
     "output_type": "stream",
     "text": [
      "Video 2372.6.7.ND0003 saved successfully.\n"
     ]
    },
    {
     "data": {
      "application/vnd.jupyter.widget-view+json": {
       "model_id": "3e4431c5b42345aaa318724ab770adf6",
       "version_major": 2,
       "version_minor": 0
      },
      "text/plain": [
       "Creating glimpse 2404.6.7.ND0003:   0%|          | 0/86 [00:00<?, ?it/s]"
      ]
     },
     "metadata": {},
     "output_type": "display_data"
    },
    {
     "name": "stdout",
     "output_type": "stream",
     "text": [
      "Video 2404.6.7.ND0003 saved successfully.\n"
     ]
    },
    {
     "data": {
      "application/vnd.jupyter.widget-view+json": {
       "model_id": "9d498c818c234b75b4d2048d21175371",
       "version_major": 2,
       "version_minor": 0
      },
      "text/plain": [
       "Creating glimpse 2437.6.7.ND0003:   0%|          | 0/85 [00:00<?, ?it/s]"
      ]
     },
     "metadata": {},
     "output_type": "display_data"
    },
    {
     "name": "stdout",
     "output_type": "stream",
     "text": [
      "Video 2437.6.7.ND0003 saved successfully.\n"
     ]
    },
    {
     "data": {
      "application/vnd.jupyter.widget-view+json": {
       "model_id": "8ced35eefaf34f48ba3b87e1f42e7b85",
       "version_major": 2,
       "version_minor": 0
      },
      "text/plain": [
       "Creating glimpse 2428.6.7.ND0003:   0%|          | 0/85 [00:00<?, ?it/s]"
      ]
     },
     "metadata": {},
     "output_type": "display_data"
    },
    {
     "name": "stdout",
     "output_type": "stream",
     "text": [
      "Video 2428.6.7.ND0003 saved successfully.\n"
     ]
    },
    {
     "data": {
      "application/vnd.jupyter.widget-view+json": {
       "model_id": "34c5033ac29b48edac78209df79ef878",
       "version_major": 2,
       "version_minor": 0
      },
      "text/plain": [
       "Creating glimpse 2423.6.7.ND0003:   0%|          | 0/77 [00:00<?, ?it/s]"
      ]
     },
     "metadata": {},
     "output_type": "display_data"
    },
    {
     "name": "stdout",
     "output_type": "stream",
     "text": [
      "Video 2423.6.7.ND0003 saved successfully.\n"
     ]
    },
    {
     "data": {
      "application/vnd.jupyter.widget-view+json": {
       "model_id": "39024d4ac6a744b5a77f83c32407e735",
       "version_major": 2,
       "version_minor": 0
      },
      "text/plain": [
       "Creating glimpse 2469.6.7.ND0003:   0%|          | 0/84 [00:00<?, ?it/s]"
      ]
     },
     "metadata": {},
     "output_type": "display_data"
    },
    {
     "name": "stdout",
     "output_type": "stream",
     "text": [
      "Video 2469.6.7.ND0003 saved successfully.\n"
     ]
    },
    {
     "data": {
      "application/vnd.jupyter.widget-view+json": {
       "model_id": "50b1c830b14b44609763ddf48fec5077",
       "version_major": 2,
       "version_minor": 0
      },
      "text/plain": [
       "Creating glimpse 2440.6.7.ND0003:   0%|          | 0/84 [00:00<?, ?it/s]"
      ]
     },
     "metadata": {},
     "output_type": "display_data"
    },
    {
     "name": "stdout",
     "output_type": "stream",
     "text": [
      "Video 2440.6.7.ND0003 saved successfully.\n"
     ]
    },
    {
     "data": {
      "application/vnd.jupyter.widget-view+json": {
       "model_id": "2aa249bf5f4c46d0aa4eed922c7eaefb",
       "version_major": 2,
       "version_minor": 0
      },
      "text/plain": [
       "Creating glimpse 2445.6.7.ND0003:   0%|          | 0/84 [00:00<?, ?it/s]"
      ]
     },
     "metadata": {},
     "output_type": "display_data"
    },
    {
     "name": "stdout",
     "output_type": "stream",
     "text": [
      "Video 2445.6.7.ND0003 saved successfully.\n"
     ]
    },
    {
     "data": {
      "application/vnd.jupyter.widget-view+json": {
       "model_id": "860e6c88c5c7494e9364ba7427f90ada",
       "version_major": 2,
       "version_minor": 0
      },
      "text/plain": [
       "Creating glimpse 2453.6.7.ND0003:   0%|          | 0/84 [00:00<?, ?it/s]"
      ]
     },
     "metadata": {},
     "output_type": "display_data"
    },
    {
     "name": "stdout",
     "output_type": "stream",
     "text": [
      "Video 2453.6.7.ND0003 saved successfully.\n"
     ]
    },
    {
     "data": {
      "application/vnd.jupyter.widget-view+json": {
       "model_id": "8c42cdc4ff4e453cb0daa9447a18603c",
       "version_major": 2,
       "version_minor": 0
      },
      "text/plain": [
       "Creating glimpse 2478.6.7.ND0003:   0%|          | 0/83 [00:00<?, ?it/s]"
      ]
     },
     "metadata": {},
     "output_type": "display_data"
    },
    {
     "name": "stdout",
     "output_type": "stream",
     "text": [
      "Video 2478.6.7.ND0003 saved successfully.\n"
     ]
    },
    {
     "data": {
      "application/vnd.jupyter.widget-view+json": {
       "model_id": "641060b531b84d4eaabd3e493d50054a",
       "version_major": 2,
       "version_minor": 0
      },
      "text/plain": [
       "Creating glimpse 2511.6.7.ND0003:   0%|          | 0/80 [00:00<?, ?it/s]"
      ]
     },
     "metadata": {},
     "output_type": "display_data"
    },
    {
     "name": "stdout",
     "output_type": "stream",
     "text": [
      "Video 2511.6.7.ND0003 saved successfully.\n"
     ]
    },
    {
     "data": {
      "application/vnd.jupyter.widget-view+json": {
       "model_id": "762dd113cbbb412d8dfc2eea3b6854e7",
       "version_major": 2,
       "version_minor": 0
      },
      "text/plain": [
       "Creating glimpse 2605.6.7.ND0003:   0%|          | 0/78 [00:00<?, ?it/s]"
      ]
     },
     "metadata": {},
     "output_type": "display_data"
    },
    {
     "name": "stdout",
     "output_type": "stream",
     "text": [
      "Video 2605.6.7.ND0003 saved successfully.\n"
     ]
    },
    {
     "data": {
      "application/vnd.jupyter.widget-view+json": {
       "model_id": "b83d894661bf4e959f302fc01098d9d8",
       "version_major": 2,
       "version_minor": 0
      },
      "text/plain": [
       "Creating glimpse 2663.6.7.ND0003:   0%|          | 0/74 [00:00<?, ?it/s]"
      ]
     },
     "metadata": {},
     "output_type": "display_data"
    },
    {
     "name": "stdout",
     "output_type": "stream",
     "text": [
      "Video 2663.6.7.ND0003 saved successfully.\n"
     ]
    },
    {
     "data": {
      "application/vnd.jupyter.widget-view+json": {
       "model_id": "586c710144f94e3a9ab4c15a0114d8a4",
       "version_major": 2,
       "version_minor": 0
      },
      "text/plain": [
       "Creating glimpse 2669.6.7.ND0003:   0%|          | 0/74 [00:00<?, ?it/s]"
      ]
     },
     "metadata": {},
     "output_type": "display_data"
    },
    {
     "name": "stdout",
     "output_type": "stream",
     "text": [
      "Video 2669.6.7.ND0003 saved successfully.\n"
     ]
    },
    {
     "data": {
      "application/vnd.jupyter.widget-view+json": {
       "model_id": "60760ffa6b8e4b55876501232487df90",
       "version_major": 2,
       "version_minor": 0
      },
      "text/plain": [
       "Creating glimpse 2702.6.7.ND0003:   0%|          | 0/73 [00:00<?, ?it/s]"
      ]
     },
     "metadata": {},
     "output_type": "display_data"
    },
    {
     "name": "stdout",
     "output_type": "stream",
     "text": [
      "Video 2702.6.7.ND0003 saved successfully.\n"
     ]
    },
    {
     "data": {
      "application/vnd.jupyter.widget-view+json": {
       "model_id": "5ae794e1fdd74d12a1866d84ddc67b32",
       "version_major": 2,
       "version_minor": 0
      },
      "text/plain": [
       "Creating glimpse 2726.6.7.ND0003:   0%|          | 0/72 [00:00<?, ?it/s]"
      ]
     },
     "metadata": {},
     "output_type": "display_data"
    },
    {
     "name": "stdout",
     "output_type": "stream",
     "text": [
      "Video 2726.6.7.ND0003 saved successfully.\n"
     ]
    },
    {
     "data": {
      "application/vnd.jupyter.widget-view+json": {
       "model_id": "f2d55e64ce1d44c985392e21f07fb93a",
       "version_major": 2,
       "version_minor": 0
      },
      "text/plain": [
       "Creating glimpse 2725.6.7.ND0003:   0%|          | 0/72 [00:00<?, ?it/s]"
      ]
     },
     "metadata": {},
     "output_type": "display_data"
    },
    {
     "name": "stdout",
     "output_type": "stream",
     "text": [
      "Video 2725.6.7.ND0003 saved successfully.\n"
     ]
    },
    {
     "data": {
      "application/vnd.jupyter.widget-view+json": {
       "model_id": "0709965cadc14d36a96363b929b2dff2",
       "version_major": 2,
       "version_minor": 0
      },
      "text/plain": [
       "Creating glimpse 2724.6.7.ND0003:   0%|          | 0/72 [00:00<?, ?it/s]"
      ]
     },
     "metadata": {},
     "output_type": "display_data"
    },
    {
     "name": "stdout",
     "output_type": "stream",
     "text": [
      "Video 2724.6.7.ND0003 saved successfully.\n"
     ]
    },
    {
     "data": {
      "application/vnd.jupyter.widget-view+json": {
       "model_id": "8652951de3e54d3e915506aad6668bbf",
       "version_major": 2,
       "version_minor": 0
      },
      "text/plain": [
       "Creating glimpse 2717.6.7.ND0003:   0%|          | 0/72 [00:00<?, ?it/s]"
      ]
     },
     "metadata": {},
     "output_type": "display_data"
    },
    {
     "name": "stdout",
     "output_type": "stream",
     "text": [
      "Video 2717.6.7.ND0003 saved successfully.\n"
     ]
    },
    {
     "data": {
      "application/vnd.jupyter.widget-view+json": {
       "model_id": "738e755c02ee497a94d43570afb8780b",
       "version_major": 2,
       "version_minor": 0
      },
      "text/plain": [
       "Creating glimpse 2742.6.7.ND0003:   0%|          | 0/71 [00:00<?, ?it/s]"
      ]
     },
     "metadata": {},
     "output_type": "display_data"
    },
    {
     "name": "stdout",
     "output_type": "stream",
     "text": [
      "Video 2742.6.7.ND0003 saved successfully.\n"
     ]
    },
    {
     "data": {
      "application/vnd.jupyter.widget-view+json": {
       "model_id": "d688e1fffa544e8a87c7595b79aa229c",
       "version_major": 2,
       "version_minor": 0
      },
      "text/plain": [
       "Creating glimpse 2746.6.7.ND0003:   0%|          | 0/71 [00:00<?, ?it/s]"
      ]
     },
     "metadata": {},
     "output_type": "display_data"
    },
    {
     "name": "stdout",
     "output_type": "stream",
     "text": [
      "Video 2746.6.7.ND0003 saved successfully.\n"
     ]
    },
    {
     "data": {
      "application/vnd.jupyter.widget-view+json": {
       "model_id": "159ad3f1a599480683307f1d21c0047b",
       "version_major": 2,
       "version_minor": 0
      },
      "text/plain": [
       "Creating glimpse 2750.6.7.ND0003:   0%|          | 0/71 [00:00<?, ?it/s]"
      ]
     },
     "metadata": {},
     "output_type": "display_data"
    },
    {
     "name": "stdout",
     "output_type": "stream",
     "text": [
      "Video 2750.6.7.ND0003 saved successfully.\n"
     ]
    },
    {
     "data": {
      "application/vnd.jupyter.widget-view+json": {
       "model_id": "c1be7dbd060741bfacf5d3ca7c4b2395",
       "version_major": 2,
       "version_minor": 0
      },
      "text/plain": [
       "Creating glimpse 2739.6.7.ND0003:   0%|          | 0/71 [00:00<?, ?it/s]"
      ]
     },
     "metadata": {},
     "output_type": "display_data"
    },
    {
     "name": "stdout",
     "output_type": "stream",
     "text": [
      "Video 2739.6.7.ND0003 saved successfully.\n"
     ]
    },
    {
     "name": "stderr",
     "output_type": "stream",
     "text": [
      "[INFO][2024/09/10 12:24:38 PM] Opening HDF file: /mnt/SYNO/macrohet_syno/data/ND0003/labels/cpv3/(6, 8).h5...\n",
      "[INFO][2024/09/10 12:25:29 PM] Loading segmentation (154, 6048, 6048)\n",
      "[INFO][2024/09/10 12:25:29 PM] Closing HDF file: /mnt/SYNO/macrohet_syno/data/ND0003/labels/cpv3/(6, 8).h5\n"
     ]
    },
    {
     "data": {
      "application/vnd.jupyter.widget-view+json": {
       "model_id": "2033eb5fe4f94d60a94d4642ba994d04",
       "version_major": 2,
       "version_minor": 0
      },
      "text/plain": [
       "Creating glimpse 218.6.8.ND0003:   0%|          | 0/94 [00:00<?, ?it/s]"
      ]
     },
     "metadata": {},
     "output_type": "display_data"
    },
    {
     "name": "stdout",
     "output_type": "stream",
     "text": [
      "Video 218.6.8.ND0003 saved successfully.\n"
     ]
    },
    {
     "data": {
      "application/vnd.jupyter.widget-view+json": {
       "model_id": "7829d2a850d647c4a252c796cbf3f60d",
       "version_major": 2,
       "version_minor": 0
      },
      "text/plain": [
       "Creating glimpse 213.6.8.ND0003:   0%|          | 0/154 [00:00<?, ?it/s]"
      ]
     },
     "metadata": {},
     "output_type": "display_data"
    },
    {
     "name": "stdout",
     "output_type": "stream",
     "text": [
      "Video 213.6.8.ND0003 saved successfully.\n"
     ]
    },
    {
     "data": {
      "application/vnd.jupyter.widget-view+json": {
       "model_id": "c134ac0f66a14f3da5ca107a305ad93d",
       "version_major": 2,
       "version_minor": 0
      },
      "text/plain": [
       "Creating glimpse 210.6.8.ND0003:   0%|          | 0/154 [00:00<?, ?it/s]"
      ]
     },
     "metadata": {},
     "output_type": "display_data"
    },
    {
     "name": "stdout",
     "output_type": "stream",
     "text": [
      "Video 210.6.8.ND0003 saved successfully.\n"
     ]
    },
    {
     "data": {
      "application/vnd.jupyter.widget-view+json": {
       "model_id": "afe2d88620964c47960fb025cb29eaee",
       "version_major": 2,
       "version_minor": 0
      },
      "text/plain": [
       "Creating glimpse 242.6.8.ND0003:   0%|          | 0/119 [00:00<?, ?it/s]"
      ]
     },
     "metadata": {},
     "output_type": "display_data"
    },
    {
     "name": "stdout",
     "output_type": "stream",
     "text": [
      "Video 242.6.8.ND0003 saved successfully.\n"
     ]
    },
    {
     "data": {
      "application/vnd.jupyter.widget-view+json": {
       "model_id": "e2be86f09a7944118ad3edca2401d947",
       "version_major": 2,
       "version_minor": 0
      },
      "text/plain": [
       "Creating glimpse 231.6.8.ND0003:   0%|          | 0/101 [00:00<?, ?it/s]"
      ]
     },
     "metadata": {},
     "output_type": "display_data"
    },
    {
     "name": "stdout",
     "output_type": "stream",
     "text": [
      "Video 231.6.8.ND0003 saved successfully.\n"
     ]
    },
    {
     "data": {
      "application/vnd.jupyter.widget-view+json": {
       "model_id": "9b78625991c442208ecd0f28da47a0b8",
       "version_major": 2,
       "version_minor": 0
      },
      "text/plain": [
       "Creating glimpse 229.6.8.ND0003:   0%|          | 0/154 [00:00<?, ?it/s]"
      ]
     },
     "metadata": {},
     "output_type": "display_data"
    },
    {
     "name": "stdout",
     "output_type": "stream",
     "text": [
      "Video 229.6.8.ND0003 saved successfully.\n"
     ]
    },
    {
     "data": {
      "application/vnd.jupyter.widget-view+json": {
       "model_id": "de53fda67c4f4c03b66ae565e8b2bf91",
       "version_major": 2,
       "version_minor": 0
      },
      "text/plain": [
       "Creating glimpse 227.6.8.ND0003:   0%|          | 0/74 [00:00<?, ?it/s]"
      ]
     },
     "metadata": {},
     "output_type": "display_data"
    },
    {
     "name": "stdout",
     "output_type": "stream",
     "text": [
      "Video 227.6.8.ND0003 saved successfully.\n"
     ]
    },
    {
     "data": {
      "application/vnd.jupyter.widget-view+json": {
       "model_id": "fbe3df5eedfc41778aa9f3a6a1d919f8",
       "version_major": 2,
       "version_minor": 0
      },
      "text/plain": [
       "Creating glimpse 176.6.8.ND0003:   0%|          | 0/78 [00:00<?, ?it/s]"
      ]
     },
     "metadata": {},
     "output_type": "display_data"
    },
    {
     "name": "stdout",
     "output_type": "stream",
     "text": [
      "Video 176.6.8.ND0003 saved successfully.\n"
     ]
    },
    {
     "data": {
      "application/vnd.jupyter.widget-view+json": {
       "model_id": "39c6aa0145ef4d74acdafd8f77046f75",
       "version_major": 2,
       "version_minor": 0
      },
      "text/plain": [
       "Creating glimpse 167.6.8.ND0003:   0%|          | 0/154 [00:00<?, ?it/s]"
      ]
     },
     "metadata": {},
     "output_type": "display_data"
    },
    {
     "name": "stdout",
     "output_type": "stream",
     "text": [
      "Video 167.6.8.ND0003 saved successfully.\n"
     ]
    },
    {
     "data": {
      "application/vnd.jupyter.widget-view+json": {
       "model_id": "d93cd64c30424e4f9216e32c422107f1",
       "version_major": 2,
       "version_minor": 0
      },
      "text/plain": [
       "Creating glimpse 165.6.8.ND0003:   0%|          | 0/152 [00:00<?, ?it/s]"
      ]
     },
     "metadata": {},
     "output_type": "display_data"
    },
    {
     "name": "stdout",
     "output_type": "stream",
     "text": [
      "Video 165.6.8.ND0003 saved successfully.\n"
     ]
    },
    {
     "data": {
      "application/vnd.jupyter.widget-view+json": {
       "model_id": "a85430763d9e49ca9a667e43306e02e6",
       "version_major": 2,
       "version_minor": 0
      },
      "text/plain": [
       "Creating glimpse 163.6.8.ND0003:   0%|          | 0/103 [00:00<?, ?it/s]"
      ]
     },
     "metadata": {},
     "output_type": "display_data"
    },
    {
     "name": "stdout",
     "output_type": "stream",
     "text": [
      "Video 163.6.8.ND0003 saved successfully.\n"
     ]
    },
    {
     "data": {
      "application/vnd.jupyter.widget-view+json": {
       "model_id": "5370e5828c2943cdbffb8e133ac2c1e7",
       "version_major": 2,
       "version_minor": 0
      },
      "text/plain": [
       "Creating glimpse 198.6.8.ND0003:   0%|          | 0/154 [00:00<?, ?it/s]"
      ]
     },
     "metadata": {},
     "output_type": "display_data"
    },
    {
     "name": "stdout",
     "output_type": "stream",
     "text": [
      "Video 198.6.8.ND0003 saved successfully.\n"
     ]
    },
    {
     "data": {
      "application/vnd.jupyter.widget-view+json": {
       "model_id": "d8f3a462e3b346149302a9d1fef2189a",
       "version_major": 2,
       "version_minor": 0
      },
      "text/plain": [
       "Creating glimpse 187.6.8.ND0003:   0%|          | 0/107 [00:00<?, ?it/s]"
      ]
     },
     "metadata": {},
     "output_type": "display_data"
    },
    {
     "name": "stdout",
     "output_type": "stream",
     "text": [
      "Video 187.6.8.ND0003 saved successfully.\n"
     ]
    },
    {
     "data": {
      "application/vnd.jupyter.widget-view+json": {
       "model_id": "c014180d6cf44f658e79700e16cd8026",
       "version_major": 2,
       "version_minor": 0
      },
      "text/plain": [
       "Creating glimpse 185.6.8.ND0003:   0%|          | 0/152 [00:00<?, ?it/s]"
      ]
     },
     "metadata": {},
     "output_type": "display_data"
    },
    {
     "name": "stdout",
     "output_type": "stream",
     "text": [
      "Video 185.6.8.ND0003 saved successfully.\n"
     ]
    },
    {
     "data": {
      "application/vnd.jupyter.widget-view+json": {
       "model_id": "982403f6f7974558a495189cc86b2191",
       "version_major": 2,
       "version_minor": 0
      },
      "text/plain": [
       "Creating glimpse 302.6.8.ND0003:   0%|          | 0/106 [00:00<?, ?it/s]"
      ]
     },
     "metadata": {},
     "output_type": "display_data"
    },
    {
     "name": "stdout",
     "output_type": "stream",
     "text": [
      "Video 302.6.8.ND0003 saved successfully.\n"
     ]
    },
    {
     "data": {
      "application/vnd.jupyter.widget-view+json": {
       "model_id": "91a94929b8f2453f8d93a22c4af0b4c3",
       "version_major": 2,
       "version_minor": 0
      },
      "text/plain": [
       "Creating glimpse 290.6.8.ND0003:   0%|          | 0/154 [00:00<?, ?it/s]"
      ]
     },
     "metadata": {},
     "output_type": "display_data"
    },
    {
     "name": "stdout",
     "output_type": "stream",
     "text": [
      "Video 290.6.8.ND0003 saved successfully.\n"
     ]
    },
    {
     "data": {
      "application/vnd.jupyter.widget-view+json": {
       "model_id": "d6a538a4ce314ac3a8a4065cd46d705f",
       "version_major": 2,
       "version_minor": 0
      },
      "text/plain": [
       "Creating glimpse 287.6.8.ND0003:   0%|          | 0/88 [00:00<?, ?it/s]"
      ]
     },
     "metadata": {},
     "output_type": "display_data"
    },
    {
     "name": "stdout",
     "output_type": "stream",
     "text": [
      "Video 287.6.8.ND0003 saved successfully.\n"
     ]
    },
    {
     "data": {
      "application/vnd.jupyter.widget-view+json": {
       "model_id": "14a62c4954634de4a6ae7f0b0f2de476",
       "version_major": 2,
       "version_minor": 0
      },
      "text/plain": [
       "Creating glimpse 314.6.8.ND0003:   0%|          | 0/79 [00:00<?, ?it/s]"
      ]
     },
     "metadata": {},
     "output_type": "display_data"
    },
    {
     "name": "stdout",
     "output_type": "stream",
     "text": [
      "Video 314.6.8.ND0003 saved successfully.\n"
     ]
    },
    {
     "data": {
      "application/vnd.jupyter.widget-view+json": {
       "model_id": "e43c6d1791ca454cabf9b734c4f4f2e6",
       "version_major": 2,
       "version_minor": 0
      },
      "text/plain": [
       "Creating glimpse 308.6.8.ND0003:   0%|          | 0/154 [00:00<?, ?it/s]"
      ]
     },
     "metadata": {},
     "output_type": "display_data"
    },
    {
     "name": "stdout",
     "output_type": "stream",
     "text": [
      "Video 308.6.8.ND0003 saved successfully.\n"
     ]
    },
    {
     "data": {
      "application/vnd.jupyter.widget-view+json": {
       "model_id": "e5d51959c4344f4691cb14b344ce5cdb",
       "version_major": 2,
       "version_minor": 0
      },
      "text/plain": [
       "Creating glimpse 253.6.8.ND0003:   0%|          | 0/154 [00:00<?, ?it/s]"
      ]
     },
     "metadata": {},
     "output_type": "display_data"
    },
    {
     "name": "stdout",
     "output_type": "stream",
     "text": [
      "Video 253.6.8.ND0003 saved successfully.\n"
     ]
    },
    {
     "data": {
      "application/vnd.jupyter.widget-view+json": {
       "model_id": "ccd079ab81f24361971e57329fe317ce",
       "version_major": 2,
       "version_minor": 0
      },
      "text/plain": [
       "Creating glimpse 262.6.8.ND0003:   0%|          | 0/154 [00:00<?, ?it/s]"
      ]
     },
     "metadata": {},
     "output_type": "display_data"
    },
    {
     "name": "stdout",
     "output_type": "stream",
     "text": [
      "Video 262.6.8.ND0003 saved successfully.\n"
     ]
    },
    {
     "data": {
      "application/vnd.jupyter.widget-view+json": {
       "model_id": "daf10836e04b464d9dc6b147996b2b2c",
       "version_major": 2,
       "version_minor": 0
      },
      "text/plain": [
       "Creating glimpse 257.6.8.ND0003:   0%|          | 0/123 [00:00<?, ?it/s]"
      ]
     },
     "metadata": {},
     "output_type": "display_data"
    },
    {
     "name": "stdout",
     "output_type": "stream",
     "text": [
      "Video 257.6.8.ND0003 saved successfully.\n"
     ]
    },
    {
     "data": {
      "application/vnd.jupyter.widget-view+json": {
       "model_id": "80a9e0f0e8b44ecfb356b20945b6802b",
       "version_major": 2,
       "version_minor": 0
      },
      "text/plain": [
       "Creating glimpse 254.6.8.ND0003:   0%|          | 0/154 [00:00<?, ?it/s]"
      ]
     },
     "metadata": {},
     "output_type": "display_data"
    },
    {
     "name": "stdout",
     "output_type": "stream",
     "text": [
      "Video 254.6.8.ND0003 saved successfully.\n"
     ]
    },
    {
     "data": {
      "application/vnd.jupyter.widget-view+json": {
       "model_id": "a823fdee8cb743699b66954dfc22d55e",
       "version_major": 2,
       "version_minor": 0
      },
      "text/plain": [
       "Creating glimpse 281.6.8.ND0003:   0%|          | 0/76 [00:00<?, ?it/s]"
      ]
     },
     "metadata": {},
     "output_type": "display_data"
    },
    {
     "name": "stdout",
     "output_type": "stream",
     "text": [
      "Video 281.6.8.ND0003 saved successfully.\n"
     ]
    },
    {
     "data": {
      "application/vnd.jupyter.widget-view+json": {
       "model_id": "891073073fe14d28a54b65bc53c0f9c1",
       "version_major": 2,
       "version_minor": 0
      },
      "text/plain": [
       "Creating glimpse 269.6.8.ND0003:   0%|          | 0/154 [00:00<?, ?it/s]"
      ]
     },
     "metadata": {},
     "output_type": "display_data"
    },
    {
     "name": "stdout",
     "output_type": "stream",
     "text": [
      "Video 269.6.8.ND0003 saved successfully.\n"
     ]
    },
    {
     "data": {
      "application/vnd.jupyter.widget-view+json": {
       "model_id": "ad77b8b459d74f948e55a28e8f8f4ad8",
       "version_major": 2,
       "version_minor": 0
      },
      "text/plain": [
       "Creating glimpse 267.6.8.ND0003:   0%|          | 0/78 [00:00<?, ?it/s]"
      ]
     },
     "metadata": {},
     "output_type": "display_data"
    },
    {
     "name": "stdout",
     "output_type": "stream",
     "text": [
      "Video 267.6.8.ND0003 saved successfully.\n"
     ]
    },
    {
     "data": {
      "application/vnd.jupyter.widget-view+json": {
       "model_id": "f6608a27877e48b9b3d080f50cfb573b",
       "version_major": 2,
       "version_minor": 0
      },
      "text/plain": [
       "Creating glimpse 55.6.8.ND0003:   0%|          | 0/154 [00:00<?, ?it/s]"
      ]
     },
     "metadata": {},
     "output_type": "display_data"
    },
    {
     "name": "stdout",
     "output_type": "stream",
     "text": [
      "Video 55.6.8.ND0003 saved successfully.\n"
     ]
    },
    {
     "data": {
      "application/vnd.jupyter.widget-view+json": {
       "model_id": "b3c1c6769fee488b8327a00f03e8975b",
       "version_major": 2,
       "version_minor": 0
      },
      "text/plain": [
       "Creating glimpse 47.6.8.ND0003:   0%|          | 0/154 [00:00<?, ?it/s]"
      ]
     },
     "metadata": {},
     "output_type": "display_data"
    },
    {
     "name": "stdout",
     "output_type": "stream",
     "text": [
      "Video 47.6.8.ND0003 saved successfully.\n"
     ]
    },
    {
     "data": {
      "application/vnd.jupyter.widget-view+json": {
       "model_id": "c24c71566c544194afd8c6db014cf029",
       "version_major": 2,
       "version_minor": 0
      },
      "text/plain": [
       "Creating glimpse 46.6.8.ND0003:   0%|          | 0/72 [00:00<?, ?it/s]"
      ]
     },
     "metadata": {},
     "output_type": "display_data"
    },
    {
     "name": "stdout",
     "output_type": "stream",
     "text": [
      "Video 46.6.8.ND0003 saved successfully.\n"
     ]
    },
    {
     "data": {
      "application/vnd.jupyter.widget-view+json": {
       "model_id": "5e1b6277f3e14924a816aea2f9de1181",
       "version_major": 2,
       "version_minor": 0
      },
      "text/plain": [
       "Creating glimpse 72.6.8.ND0003:   0%|          | 0/142 [00:00<?, ?it/s]"
      ]
     },
     "metadata": {},
     "output_type": "display_data"
    },
    {
     "name": "stdout",
     "output_type": "stream",
     "text": [
      "Video 72.6.8.ND0003 saved successfully.\n"
     ]
    },
    {
     "data": {
      "application/vnd.jupyter.widget-view+json": {
       "model_id": "b62b8f7f31024392a0195a34c4a2a40d",
       "version_major": 2,
       "version_minor": 0
      },
      "text/plain": [
       "Creating glimpse 81.6.8.ND0003:   0%|          | 0/103 [00:00<?, ?it/s]"
      ]
     },
     "metadata": {},
     "output_type": "display_data"
    },
    {
     "name": "stdout",
     "output_type": "stream",
     "text": [
      "Video 81.6.8.ND0003 saved successfully.\n"
     ]
    },
    {
     "data": {
      "application/vnd.jupyter.widget-view+json": {
       "model_id": "bb2c3d59c26641788a33cd19fdcbee4c",
       "version_major": 2,
       "version_minor": 0
      },
      "text/plain": [
       "Creating glimpse 12.6.8.ND0003:   0%|          | 0/154 [00:00<?, ?it/s]"
      ]
     },
     "metadata": {},
     "output_type": "display_data"
    },
    {
     "name": "stdout",
     "output_type": "stream",
     "text": [
      "Video 12.6.8.ND0003 saved successfully.\n"
     ]
    },
    {
     "data": {
      "application/vnd.jupyter.widget-view+json": {
       "model_id": "14128bc4e2194c47950fbac19fee9472",
       "version_major": 2,
       "version_minor": 0
      },
      "text/plain": [
       "Creating glimpse 16.6.8.ND0003:   0%|          | 0/154 [00:00<?, ?it/s]"
      ]
     },
     "metadata": {},
     "output_type": "display_data"
    },
    {
     "name": "stdout",
     "output_type": "stream",
     "text": [
      "Video 16.6.8.ND0003 saved successfully.\n"
     ]
    },
    {
     "data": {
      "application/vnd.jupyter.widget-view+json": {
       "model_id": "fb4860bde1db4375a449d49ab4488473",
       "version_major": 2,
       "version_minor": 0
      },
      "text/plain": [
       "Creating glimpse 22.6.8.ND0003:   0%|          | 0/118 [00:00<?, ?it/s]"
      ]
     },
     "metadata": {},
     "output_type": "display_data"
    },
    {
     "name": "stdout",
     "output_type": "stream",
     "text": [
      "Video 22.6.8.ND0003 saved successfully.\n"
     ]
    },
    {
     "data": {
      "application/vnd.jupyter.widget-view+json": {
       "model_id": "f83fc6d828dd4ac5be0cc073ad1ae6c7",
       "version_major": 2,
       "version_minor": 0
      },
      "text/plain": [
       "Creating glimpse 6.6.8.ND0003:   0%|          | 0/154 [00:00<?, ?it/s]"
      ]
     },
     "metadata": {},
     "output_type": "display_data"
    },
    {
     "name": "stdout",
     "output_type": "stream",
     "text": [
      "Video 6.6.8.ND0003 saved successfully.\n"
     ]
    },
    {
     "data": {
      "application/vnd.jupyter.widget-view+json": {
       "model_id": "1060f1933c094205b5e5cebf3c63ca29",
       "version_major": 2,
       "version_minor": 0
      },
      "text/plain": [
       "Creating glimpse 32.6.8.ND0003:   0%|          | 0/154 [00:00<?, ?it/s]"
      ]
     },
     "metadata": {},
     "output_type": "display_data"
    },
    {
     "name": "stdout",
     "output_type": "stream",
     "text": [
      "Video 32.6.8.ND0003 saved successfully.\n"
     ]
    },
    {
     "data": {
      "application/vnd.jupyter.widget-view+json": {
       "model_id": "d81e7bcf08804ddd84607b051e939b8b",
       "version_major": 2,
       "version_minor": 0
      },
      "text/plain": [
       "Creating glimpse 41.6.8.ND0003:   0%|          | 0/71 [00:00<?, ?it/s]"
      ]
     },
     "metadata": {},
     "output_type": "display_data"
    },
    {
     "name": "stdout",
     "output_type": "stream",
     "text": [
      "Video 41.6.8.ND0003 saved successfully.\n"
     ]
    },
    {
     "data": {
      "application/vnd.jupyter.widget-view+json": {
       "model_id": "2bfe80e6fd62416ba1855b68de624087",
       "version_major": 2,
       "version_minor": 0
      },
      "text/plain": [
       "Creating glimpse 34.6.8.ND0003:   0%|          | 0/154 [00:00<?, ?it/s]"
      ]
     },
     "metadata": {},
     "output_type": "display_data"
    },
    {
     "name": "stdout",
     "output_type": "stream",
     "text": [
      "Video 34.6.8.ND0003 saved successfully.\n"
     ]
    },
    {
     "data": {
      "application/vnd.jupyter.widget-view+json": {
       "model_id": "597b6990cb954a2198ca137ccd2de544",
       "version_major": 2,
       "version_minor": 0
      },
      "text/plain": [
       "Creating glimpse 33.6.8.ND0003:   0%|          | 0/153 [00:00<?, ?it/s]"
      ]
     },
     "metadata": {},
     "output_type": "display_data"
    },
    {
     "name": "stdout",
     "output_type": "stream",
     "text": [
      "Video 33.6.8.ND0003 saved successfully.\n"
     ]
    },
    {
     "data": {
      "application/vnd.jupyter.widget-view+json": {
       "model_id": "2c5f9d7bc3474b05b54e55690401e47b",
       "version_major": 2,
       "version_minor": 0
      },
      "text/plain": [
       "Creating glimpse 161.6.8.ND0003:   0%|          | 0/153 [00:00<?, ?it/s]"
      ]
     },
     "metadata": {},
     "output_type": "display_data"
    },
    {
     "name": "stdout",
     "output_type": "stream",
     "text": [
      "Video 161.6.8.ND0003 saved successfully.\n"
     ]
    },
    {
     "data": {
      "application/vnd.jupyter.widget-view+json": {
       "model_id": "9d783e3464d8499999d804a8fcf9f17a",
       "version_major": 2,
       "version_minor": 0
      },
      "text/plain": [
       "Creating glimpse 30.6.8.ND0003:   0%|          | 0/102 [00:00<?, ?it/s]"
      ]
     },
     "metadata": {},
     "output_type": "display_data"
    },
    {
     "name": "stdout",
     "output_type": "stream",
     "text": [
      "Video 30.6.8.ND0003 saved successfully.\n"
     ]
    },
    {
     "data": {
      "application/vnd.jupyter.widget-view+json": {
       "model_id": "c85d2cf0b47a4eba8ddae1b9b4cd68d3",
       "version_major": 2,
       "version_minor": 0
      },
      "text/plain": [
       "Creating glimpse 25.6.8.ND0003:   0%|          | 0/154 [00:00<?, ?it/s]"
      ]
     },
     "metadata": {},
     "output_type": "display_data"
    },
    {
     "name": "stdout",
     "output_type": "stream",
     "text": [
      "Video 25.6.8.ND0003 saved successfully.\n"
     ]
    },
    {
     "data": {
      "application/vnd.jupyter.widget-view+json": {
       "model_id": "7a7bb92a04fc4eaf9693342e248c9ef3",
       "version_major": 2,
       "version_minor": 0
      },
      "text/plain": [
       "Creating glimpse 24.6.8.ND0003:   0%|          | 0/101 [00:00<?, ?it/s]"
      ]
     },
     "metadata": {},
     "output_type": "display_data"
    },
    {
     "name": "stdout",
     "output_type": "stream",
     "text": [
      "Video 24.6.8.ND0003 saved successfully.\n"
     ]
    },
    {
     "data": {
      "application/vnd.jupyter.widget-view+json": {
       "model_id": "eea5cc1db2b848a994121ad66963a690",
       "version_major": 2,
       "version_minor": 0
      },
      "text/plain": [
       "Creating glimpse 23.6.8.ND0003:   0%|          | 0/106 [00:00<?, ?it/s]"
      ]
     },
     "metadata": {},
     "output_type": "display_data"
    },
    {
     "name": "stdout",
     "output_type": "stream",
     "text": [
      "Video 23.6.8.ND0003 saved successfully.\n"
     ]
    },
    {
     "data": {
      "application/vnd.jupyter.widget-view+json": {
       "model_id": "f29c0c17a53443d5aca0ad9c6634cfc4",
       "version_major": 2,
       "version_minor": 0
      },
      "text/plain": [
       "Creating glimpse 137.6.8.ND0003:   0%|          | 0/78 [00:00<?, ?it/s]"
      ]
     },
     "metadata": {},
     "output_type": "display_data"
    },
    {
     "name": "stdout",
     "output_type": "stream",
     "text": [
      "Video 137.6.8.ND0003 saved successfully.\n"
     ]
    },
    {
     "data": {
      "application/vnd.jupyter.widget-view+json": {
       "model_id": "84954e3cb3744196a5d936fd6bd975af",
       "version_major": 2,
       "version_minor": 0
      },
      "text/plain": [
       "Creating glimpse 131.6.8.ND0003:   0%|          | 0/154 [00:00<?, ?it/s]"
      ]
     },
     "metadata": {},
     "output_type": "display_data"
    },
    {
     "name": "stdout",
     "output_type": "stream",
     "text": [
      "Video 131.6.8.ND0003 saved successfully.\n"
     ]
    },
    {
     "data": {
      "application/vnd.jupyter.widget-view+json": {
       "model_id": "fc29cfd990b14ee7ae490b387a924778",
       "version_major": 2,
       "version_minor": 0
      },
      "text/plain": [
       "Creating glimpse 127.6.8.ND0003:   0%|          | 0/154 [00:00<?, ?it/s]"
      ]
     },
     "metadata": {},
     "output_type": "display_data"
    },
    {
     "name": "stdout",
     "output_type": "stream",
     "text": [
      "Video 127.6.8.ND0003 saved successfully.\n"
     ]
    },
    {
     "data": {
      "application/vnd.jupyter.widget-view+json": {
       "model_id": "aa3412d608eb4e2eb6681df5f207cc24",
       "version_major": 2,
       "version_minor": 0
      },
      "text/plain": [
       "Creating glimpse 100.6.8.ND0003:   0%|          | 0/154 [00:00<?, ?it/s]"
      ]
     },
     "metadata": {},
     "output_type": "display_data"
    },
    {
     "name": "stdout",
     "output_type": "stream",
     "text": [
      "Video 100.6.8.ND0003 saved successfully.\n"
     ]
    },
    {
     "data": {
      "application/vnd.jupyter.widget-view+json": {
       "model_id": "6ac89973effe4f429bcb52b4d38344ea",
       "version_major": 2,
       "version_minor": 0
      },
      "text/plain": [
       "Creating glimpse 99.6.8.ND0003:   0%|          | 0/154 [00:00<?, ?it/s]"
      ]
     },
     "metadata": {},
     "output_type": "display_data"
    },
    {
     "name": "stdout",
     "output_type": "stream",
     "text": [
      "Video 99.6.8.ND0003 saved successfully.\n"
     ]
    },
    {
     "data": {
      "application/vnd.jupyter.widget-view+json": {
       "model_id": "d6c63397ff0e4a2481529523d29b3b83",
       "version_major": 2,
       "version_minor": 0
      },
      "text/plain": [
       "Creating glimpse 121.6.8.ND0003:   0%|          | 0/84 [00:00<?, ?it/s]"
      ]
     },
     "metadata": {},
     "output_type": "display_data"
    },
    {
     "name": "stdout",
     "output_type": "stream",
     "text": [
      "Video 121.6.8.ND0003 saved successfully.\n"
     ]
    },
    {
     "data": {
      "application/vnd.jupyter.widget-view+json": {
       "model_id": "c4fa5df48ff24337a2580220b5127a09",
       "version_major": 2,
       "version_minor": 0
      },
      "text/plain": [
       "Creating glimpse 91.6.8.ND0003:   0%|          | 0/91 [00:00<?, ?it/s]"
      ]
     },
     "metadata": {},
     "output_type": "display_data"
    },
    {
     "name": "stdout",
     "output_type": "stream",
     "text": [
      "Video 91.6.8.ND0003 saved successfully.\n"
     ]
    },
    {
     "data": {
      "application/vnd.jupyter.widget-view+json": {
       "model_id": "45206cbe79bb46e6844c83e70176e5a4",
       "version_major": 2,
       "version_minor": 0
      },
      "text/plain": [
       "Creating glimpse 87.6.8.ND0003:   0%|          | 0/94 [00:00<?, ?it/s]"
      ]
     },
     "metadata": {},
     "output_type": "display_data"
    },
    {
     "name": "stdout",
     "output_type": "stream",
     "text": [
      "Video 87.6.8.ND0003 saved successfully.\n"
     ]
    },
    {
     "data": {
      "application/vnd.jupyter.widget-view+json": {
       "model_id": "924ae4c7e8044a48b349e75365eaea98",
       "version_major": 2,
       "version_minor": 0
      },
      "text/plain": [
       "Creating glimpse 86.6.8.ND0003:   0%|          | 0/154 [00:00<?, ?it/s]"
      ]
     },
     "metadata": {},
     "output_type": "display_data"
    },
    {
     "name": "stdout",
     "output_type": "stream",
     "text": [
      "Video 86.6.8.ND0003 saved successfully.\n"
     ]
    },
    {
     "data": {
      "application/vnd.jupyter.widget-view+json": {
       "model_id": "60d8dacacf0a44beb8f0f6e01a563b47",
       "version_major": 2,
       "version_minor": 0
      },
      "text/plain": [
       "Creating glimpse 103.6.8.ND0003:   0%|          | 0/86 [00:00<?, ?it/s]"
      ]
     },
     "metadata": {},
     "output_type": "display_data"
    },
    {
     "name": "stdout",
     "output_type": "stream",
     "text": [
      "Video 103.6.8.ND0003 saved successfully.\n"
     ]
    },
    {
     "data": {
      "application/vnd.jupyter.widget-view+json": {
       "model_id": "6c0ce3d75bee406ba2582b3c98482cc4",
       "version_major": 2,
       "version_minor": 0
      },
      "text/plain": [
       "Creating glimpse 113.6.8.ND0003:   0%|          | 0/94 [00:00<?, ?it/s]"
      ]
     },
     "metadata": {},
     "output_type": "display_data"
    },
    {
     "name": "stdout",
     "output_type": "stream",
     "text": [
      "Video 113.6.8.ND0003 saved successfully.\n"
     ]
    },
    {
     "data": {
      "application/vnd.jupyter.widget-view+json": {
       "model_id": "db7716c8b22745519e851edaa9dd5286",
       "version_major": 2,
       "version_minor": 0
      },
      "text/plain": [
       "Creating glimpse 108.6.8.ND0003:   0%|          | 0/154 [00:00<?, ?it/s]"
      ]
     },
     "metadata": {},
     "output_type": "display_data"
    },
    {
     "name": "stdout",
     "output_type": "stream",
     "text": [
      "Video 108.6.8.ND0003 saved successfully.\n"
     ]
    },
    {
     "data": {
      "application/vnd.jupyter.widget-view+json": {
       "model_id": "75ca1e02ae354b5e864f4d652312e1b5",
       "version_major": 2,
       "version_minor": 0
      },
      "text/plain": [
       "Creating glimpse 356.6.8.ND0003:   0%|          | 0/79 [00:00<?, ?it/s]"
      ]
     },
     "metadata": {},
     "output_type": "display_data"
    },
    {
     "name": "stdout",
     "output_type": "stream",
     "text": [
      "Video 356.6.8.ND0003 saved successfully.\n"
     ]
    },
    {
     "data": {
      "application/vnd.jupyter.widget-view+json": {
       "model_id": "8bfead935904414e8f2fc85c8d6695d2",
       "version_major": 2,
       "version_minor": 0
      },
      "text/plain": [
       "Creating glimpse 334.6.8.ND0003:   0%|          | 0/94 [00:00<?, ?it/s]"
      ]
     },
     "metadata": {},
     "output_type": "display_data"
    },
    {
     "name": "stdout",
     "output_type": "stream",
     "text": [
      "Video 334.6.8.ND0003 saved successfully.\n"
     ]
    },
    {
     "data": {
      "application/vnd.jupyter.widget-view+json": {
       "model_id": "0e1346961ef84627895aa3a33ed6b031",
       "version_major": 2,
       "version_minor": 0
      },
      "text/plain": [
       "Creating glimpse 344.6.8.ND0003:   0%|          | 0/152 [00:00<?, ?it/s]"
      ]
     },
     "metadata": {},
     "output_type": "display_data"
    },
    {
     "name": "stdout",
     "output_type": "stream",
     "text": [
      "Video 344.6.8.ND0003 saved successfully.\n"
     ]
    },
    {
     "data": {
      "application/vnd.jupyter.widget-view+json": {
       "model_id": "fd15b760d7cb43489235641b527e0fe1",
       "version_major": 2,
       "version_minor": 0
      },
      "text/plain": [
       "Creating glimpse 433.6.8.ND0003:   0%|          | 0/100 [00:00<?, ?it/s]"
      ]
     },
     "metadata": {},
     "output_type": "display_data"
    },
    {
     "name": "stdout",
     "output_type": "stream",
     "text": [
      "Video 433.6.8.ND0003 saved successfully.\n"
     ]
    },
    {
     "data": {
      "application/vnd.jupyter.widget-view+json": {
       "model_id": "c571994318644ae5a082e1b523381bc9",
       "version_major": 2,
       "version_minor": 0
      },
      "text/plain": [
       "Creating glimpse 447.6.8.ND0003:   0%|          | 0/152 [00:00<?, ?it/s]"
      ]
     },
     "metadata": {},
     "output_type": "display_data"
    },
    {
     "name": "stdout",
     "output_type": "stream",
     "text": [
      "Video 447.6.8.ND0003 saved successfully.\n"
     ]
    },
    {
     "data": {
      "application/vnd.jupyter.widget-view+json": {
       "model_id": "4fba5efe8f1944f4a6cd6d97319d43ff",
       "version_major": 2,
       "version_minor": 0
      },
      "text/plain": [
       "Creating glimpse 383.6.8.ND0003:   0%|          | 0/151 [00:00<?, ?it/s]"
      ]
     },
     "metadata": {},
     "output_type": "display_data"
    },
    {
     "name": "stdout",
     "output_type": "stream",
     "text": [
      "Video 383.6.8.ND0003 saved successfully.\n"
     ]
    },
    {
     "data": {
      "application/vnd.jupyter.widget-view+json": {
       "model_id": "16b76dcbdd5d48cd9055450ab5858ffa",
       "version_major": 2,
       "version_minor": 0
      },
      "text/plain": [
       "Creating glimpse 404.6.8.ND0003:   0%|          | 0/79 [00:00<?, ?it/s]"
      ]
     },
     "metadata": {},
     "output_type": "display_data"
    },
    {
     "name": "stdout",
     "output_type": "stream",
     "text": [
      "Video 404.6.8.ND0003 saved successfully.\n"
     ]
    },
    {
     "data": {
      "application/vnd.jupyter.widget-view+json": {
       "model_id": "be170158403f41e19e12a4843c743f87",
       "version_major": 2,
       "version_minor": 0
      },
      "text/plain": [
       "Creating glimpse 501.6.8.ND0003:   0%|          | 0/151 [00:00<?, ?it/s]"
      ]
     },
     "metadata": {},
     "output_type": "display_data"
    },
    {
     "name": "stdout",
     "output_type": "stream",
     "text": [
      "Video 501.6.8.ND0003 saved successfully.\n"
     ]
    },
    {
     "data": {
      "application/vnd.jupyter.widget-view+json": {
       "model_id": "ee1dc7e941d742afaec8c40166e2f76c",
       "version_major": 2,
       "version_minor": 0
      },
      "text/plain": [
       "Creating glimpse 554.6.8.ND0003:   0%|          | 0/147 [00:00<?, ?it/s]"
      ]
     },
     "metadata": {},
     "output_type": "display_data"
    },
    {
     "name": "stdout",
     "output_type": "stream",
     "text": [
      "Video 554.6.8.ND0003 saved successfully.\n"
     ]
    },
    {
     "data": {
      "application/vnd.jupyter.widget-view+json": {
       "model_id": "15ce0eecd64e4efb80e6a4320367dfe1",
       "version_major": 2,
       "version_minor": 0
      },
      "text/plain": [
       "Creating glimpse 575.6.8.ND0003:   0%|          | 0/147 [00:00<?, ?it/s]"
      ]
     },
     "metadata": {},
     "output_type": "display_data"
    },
    {
     "name": "stdout",
     "output_type": "stream",
     "text": [
      "Video 575.6.8.ND0003 saved successfully.\n"
     ]
    },
    {
     "data": {
      "application/vnd.jupyter.widget-view+json": {
       "model_id": "fe738c5771ad400cb7d0d95f229b1ef9",
       "version_major": 2,
       "version_minor": 0
      },
      "text/plain": [
       "Creating glimpse 733.6.8.ND0003:   0%|          | 0/144 [00:00<?, ?it/s]"
      ]
     },
     "metadata": {},
     "output_type": "display_data"
    },
    {
     "name": "stdout",
     "output_type": "stream",
     "text": [
      "Video 733.6.8.ND0003 saved successfully.\n"
     ]
    },
    {
     "data": {
      "application/vnd.jupyter.widget-view+json": {
       "model_id": "332f38daaa1e4bceb8d8a143a59b2076",
       "version_major": 2,
       "version_minor": 0
      },
      "text/plain": [
       "Creating glimpse 714.6.8.ND0003:   0%|          | 0/85 [00:00<?, ?it/s]"
      ]
     },
     "metadata": {},
     "output_type": "display_data"
    },
    {
     "name": "stdout",
     "output_type": "stream",
     "text": [
      "Video 714.6.8.ND0003 saved successfully.\n"
     ]
    },
    {
     "data": {
      "application/vnd.jupyter.widget-view+json": {
       "model_id": "0445bcca3e87470b9f8b6a768e05d5cc",
       "version_major": 2,
       "version_minor": 0
      },
      "text/plain": [
       "Creating glimpse 732.6.8.ND0003:   0%|          | 0/114 [00:00<?, ?it/s]"
      ]
     },
     "metadata": {},
     "output_type": "display_data"
    },
    {
     "name": "stdout",
     "output_type": "stream",
     "text": [
      "Video 732.6.8.ND0003 saved successfully.\n"
     ]
    },
    {
     "data": {
      "application/vnd.jupyter.widget-view+json": {
       "model_id": "f1b869bd27c84810877fb966295869c0",
       "version_major": 2,
       "version_minor": 0
      },
      "text/plain": [
       "Creating glimpse 823.6.8.ND0003:   0%|          | 0/142 [00:00<?, ?it/s]"
      ]
     },
     "metadata": {},
     "output_type": "display_data"
    },
    {
     "name": "stdout",
     "output_type": "stream",
     "text": [
      "Video 823.6.8.ND0003 saved successfully.\n"
     ]
    },
    {
     "data": {
      "application/vnd.jupyter.widget-view+json": {
       "model_id": "9db12f87c3de476a90040e7bb3a90745",
       "version_major": 2,
       "version_minor": 0
      },
      "text/plain": [
       "Creating glimpse 865.6.8.ND0003:   0%|          | 0/73 [00:00<?, ?it/s]"
      ]
     },
     "metadata": {},
     "output_type": "display_data"
    },
    {
     "name": "stdout",
     "output_type": "stream",
     "text": [
      "Video 865.6.8.ND0003 saved successfully.\n"
     ]
    },
    {
     "data": {
      "application/vnd.jupyter.widget-view+json": {
       "model_id": "be97525cb02c40f594b8c60a7391cc43",
       "version_major": 2,
       "version_minor": 0
      },
      "text/plain": [
       "Creating glimpse 1013.6.8.ND0003:   0%|          | 0/137 [00:00<?, ?it/s]"
      ]
     },
     "metadata": {},
     "output_type": "display_data"
    },
    {
     "name": "stdout",
     "output_type": "stream",
     "text": [
      "Video 1013.6.8.ND0003 saved successfully.\n"
     ]
    },
    {
     "data": {
      "application/vnd.jupyter.widget-view+json": {
       "model_id": "dda53ccfb5ee4fe79932d4c2547cf694",
       "version_major": 2,
       "version_minor": 0
      },
      "text/plain": [
       "Creating glimpse 976.6.8.ND0003:   0%|          | 0/137 [00:00<?, ?it/s]"
      ]
     },
     "metadata": {},
     "output_type": "display_data"
    },
    {
     "name": "stdout",
     "output_type": "stream",
     "text": [
      "Video 976.6.8.ND0003 saved successfully.\n"
     ]
    },
    {
     "data": {
      "application/vnd.jupyter.widget-view+json": {
       "model_id": "b913051734cd43148e31436ff2a167ec",
       "version_major": 2,
       "version_minor": 0
      },
      "text/plain": [
       "Creating glimpse 1051.6.8.ND0003:   0%|          | 0/72 [00:00<?, ?it/s]"
      ]
     },
     "metadata": {},
     "output_type": "display_data"
    },
    {
     "name": "stdout",
     "output_type": "stream",
     "text": [
      "Video 1051.6.8.ND0003 saved successfully.\n"
     ]
    },
    {
     "data": {
      "application/vnd.jupyter.widget-view+json": {
       "model_id": "e1dda40f299349558da9cc4fb01038f2",
       "version_major": 2,
       "version_minor": 0
      },
      "text/plain": [
       "Creating glimpse 1078.6.8.ND0003:   0%|          | 0/78 [00:00<?, ?it/s]"
      ]
     },
     "metadata": {},
     "output_type": "display_data"
    },
    {
     "name": "stdout",
     "output_type": "stream",
     "text": [
      "Video 1078.6.8.ND0003 saved successfully.\n"
     ]
    },
    {
     "data": {
      "application/vnd.jupyter.widget-view+json": {
       "model_id": "46280b2753f64090880a70d41400b743",
       "version_major": 2,
       "version_minor": 0
      },
      "text/plain": [
       "Creating glimpse 1092.6.8.ND0003:   0%|          | 0/134 [00:00<?, ?it/s]"
      ]
     },
     "metadata": {},
     "output_type": "display_data"
    },
    {
     "name": "stdout",
     "output_type": "stream",
     "text": [
      "Video 1092.6.8.ND0003 saved successfully.\n"
     ]
    },
    {
     "data": {
      "application/vnd.jupyter.widget-view+json": {
       "model_id": "f043306a403146809217a8912e9f40f6",
       "version_major": 2,
       "version_minor": 0
      },
      "text/plain": [
       "Creating glimpse 1094.6.8.ND0003:   0%|          | 0/79 [00:00<?, ?it/s]"
      ]
     },
     "metadata": {},
     "output_type": "display_data"
    },
    {
     "name": "stdout",
     "output_type": "stream",
     "text": [
      "Video 1094.6.8.ND0003 saved successfully.\n"
     ]
    },
    {
     "data": {
      "application/vnd.jupyter.widget-view+json": {
       "model_id": "00efe842569f41309201adc97a1bd5fb",
       "version_major": 2,
       "version_minor": 0
      },
      "text/plain": [
       "Creating glimpse 1154.6.8.ND0003:   0%|          | 0/133 [00:00<?, ?it/s]"
      ]
     },
     "metadata": {},
     "output_type": "display_data"
    },
    {
     "name": "stdout",
     "output_type": "stream",
     "text": [
      "Video 1154.6.8.ND0003 saved successfully.\n"
     ]
    },
    {
     "data": {
      "application/vnd.jupyter.widget-view+json": {
       "model_id": "e3b5ad5e34c04f459f2dae386a412b37",
       "version_major": 2,
       "version_minor": 0
      },
      "text/plain": [
       "Creating glimpse 1129.6.8.ND0003:   0%|          | 0/133 [00:00<?, ?it/s]"
      ]
     },
     "metadata": {},
     "output_type": "display_data"
    },
    {
     "name": "stdout",
     "output_type": "stream",
     "text": [
      "Video 1129.6.8.ND0003 saved successfully.\n"
     ]
    },
    {
     "data": {
      "application/vnd.jupyter.widget-view+json": {
       "model_id": "7e30487130ca4598841511e77c295285",
       "version_major": 2,
       "version_minor": 0
      },
      "text/plain": [
       "Creating glimpse 1169.6.8.ND0003:   0%|          | 0/93 [00:00<?, ?it/s]"
      ]
     },
     "metadata": {},
     "output_type": "display_data"
    },
    {
     "name": "stdout",
     "output_type": "stream",
     "text": [
      "Video 1169.6.8.ND0003 saved successfully.\n"
     ]
    },
    {
     "data": {
      "application/vnd.jupyter.widget-view+json": {
       "model_id": "2fb2809f8f6042738803d1c3c17734b1",
       "version_major": 2,
       "version_minor": 0
      },
      "text/plain": [
       "Creating glimpse 1171.6.8.ND0003:   0%|          | 0/132 [00:00<?, ?it/s]"
      ]
     },
     "metadata": {},
     "output_type": "display_data"
    },
    {
     "name": "stdout",
     "output_type": "stream",
     "text": [
      "Video 1171.6.8.ND0003 saved successfully.\n"
     ]
    },
    {
     "data": {
      "application/vnd.jupyter.widget-view+json": {
       "model_id": "099483fe6360475a8c6335a1cebe0424",
       "version_major": 2,
       "version_minor": 0
      },
      "text/plain": [
       "Creating glimpse 1258.6.8.ND0003:   0%|          | 0/130 [00:00<?, ?it/s]"
      ]
     },
     "metadata": {},
     "output_type": "display_data"
    },
    {
     "name": "stdout",
     "output_type": "stream",
     "text": [
      "Video 1258.6.8.ND0003 saved successfully.\n"
     ]
    },
    {
     "data": {
      "application/vnd.jupyter.widget-view+json": {
       "model_id": "3a8e787cd01b4332a6f448a3fd3f5ffe",
       "version_major": 2,
       "version_minor": 0
      },
      "text/plain": [
       "Creating glimpse 1261.6.8.ND0003:   0%|          | 0/129 [00:00<?, ?it/s]"
      ]
     },
     "metadata": {},
     "output_type": "display_data"
    },
    {
     "name": "stdout",
     "output_type": "stream",
     "text": [
      "Video 1261.6.8.ND0003 saved successfully.\n"
     ]
    },
    {
     "data": {
      "application/vnd.jupyter.widget-view+json": {
       "model_id": "7e30457fe12046c09244bf38d8093b47",
       "version_major": 2,
       "version_minor": 0
      },
      "text/plain": [
       "Creating glimpse 1285.6.8.ND0003:   0%|          | 0/129 [00:00<?, ?it/s]"
      ]
     },
     "metadata": {},
     "output_type": "display_data"
    },
    {
     "name": "stdout",
     "output_type": "stream",
     "text": [
      "Video 1285.6.8.ND0003 saved successfully.\n"
     ]
    },
    {
     "data": {
      "application/vnd.jupyter.widget-view+json": {
       "model_id": "03ed1d018a9b414eb346380f3b92a37f",
       "version_major": 2,
       "version_minor": 0
      },
      "text/plain": [
       "Creating glimpse 1300.6.8.ND0003:   0%|          | 0/129 [00:00<?, ?it/s]"
      ]
     },
     "metadata": {},
     "output_type": "display_data"
    },
    {
     "name": "stdout",
     "output_type": "stream",
     "text": [
      "Video 1300.6.8.ND0003 saved successfully.\n"
     ]
    },
    {
     "data": {
      "application/vnd.jupyter.widget-view+json": {
       "model_id": "3b43afe457194e5e997e8d79f9770111",
       "version_major": 2,
       "version_minor": 0
      },
      "text/plain": [
       "Creating glimpse 1303.6.8.ND0003:   0%|          | 0/79 [00:00<?, ?it/s]"
      ]
     },
     "metadata": {},
     "output_type": "display_data"
    },
    {
     "name": "stdout",
     "output_type": "stream",
     "text": [
      "Video 1303.6.8.ND0003 saved successfully.\n"
     ]
    },
    {
     "data": {
      "application/vnd.jupyter.widget-view+json": {
       "model_id": "8498e29161a54db6ab0f9622fec43c18",
       "version_major": 2,
       "version_minor": 0
      },
      "text/plain": [
       "Creating glimpse 1356.6.8.ND0003:   0%|          | 0/127 [00:00<?, ?it/s]"
      ]
     },
     "metadata": {},
     "output_type": "display_data"
    },
    {
     "name": "stdout",
     "output_type": "stream",
     "text": [
      "Video 1356.6.8.ND0003 saved successfully.\n"
     ]
    },
    {
     "data": {
      "application/vnd.jupyter.widget-view+json": {
       "model_id": "07a2bb6662a5463f86c809aad4838869",
       "version_major": 2,
       "version_minor": 0
      },
      "text/plain": [
       "Creating glimpse 1338.6.8.ND0003:   0%|          | 0/127 [00:00<?, ?it/s]"
      ]
     },
     "metadata": {},
     "output_type": "display_data"
    },
    {
     "name": "stdout",
     "output_type": "stream",
     "text": [
      "Video 1338.6.8.ND0003 saved successfully.\n"
     ]
    },
    {
     "data": {
      "application/vnd.jupyter.widget-view+json": {
       "model_id": "95d84d6293614b4c8710227f1febf9c1",
       "version_major": 2,
       "version_minor": 0
      },
      "text/plain": [
       "Creating glimpse 1410.6.8.ND0003:   0%|          | 0/126 [00:00<?, ?it/s]"
      ]
     },
     "metadata": {},
     "output_type": "display_data"
    },
    {
     "name": "stdout",
     "output_type": "stream",
     "text": [
      "Video 1410.6.8.ND0003 saved successfully.\n"
     ]
    },
    {
     "data": {
      "application/vnd.jupyter.widget-view+json": {
       "model_id": "dd82c53bd3114e07ae74411a15f31df5",
       "version_major": 2,
       "version_minor": 0
      },
      "text/plain": [
       "Creating glimpse 1376.6.8.ND0003:   0%|          | 0/82 [00:00<?, ?it/s]"
      ]
     },
     "metadata": {},
     "output_type": "display_data"
    },
    {
     "name": "stdout",
     "output_type": "stream",
     "text": [
      "Video 1376.6.8.ND0003 saved successfully.\n"
     ]
    },
    {
     "data": {
      "application/vnd.jupyter.widget-view+json": {
       "model_id": "d378ff63b94940d888f769e130f22926",
       "version_major": 2,
       "version_minor": 0
      },
      "text/plain": [
       "Creating glimpse 1390.6.8.ND0003:   0%|          | 0/126 [00:00<?, ?it/s]"
      ]
     },
     "metadata": {},
     "output_type": "display_data"
    },
    {
     "name": "stdout",
     "output_type": "stream",
     "text": [
      "Video 1390.6.8.ND0003 saved successfully.\n"
     ]
    },
    {
     "data": {
      "application/vnd.jupyter.widget-view+json": {
       "model_id": "6cdf8ca104734c29bb106578d7ab2c8a",
       "version_major": 2,
       "version_minor": 0
      },
      "text/plain": [
       "Creating glimpse 1441.6.8.ND0003:   0%|          | 0/125 [00:00<?, ?it/s]"
      ]
     },
     "metadata": {},
     "output_type": "display_data"
    },
    {
     "name": "stdout",
     "output_type": "stream",
     "text": [
      "Video 1441.6.8.ND0003 saved successfully.\n"
     ]
    },
    {
     "data": {
      "application/vnd.jupyter.widget-view+json": {
       "model_id": "d748f0435426488dbdd910306df856a7",
       "version_major": 2,
       "version_minor": 0
      },
      "text/plain": [
       "Creating glimpse 1449.6.8.ND0003:   0%|          | 0/72 [00:00<?, ?it/s]"
      ]
     },
     "metadata": {},
     "output_type": "display_data"
    },
    {
     "name": "stdout",
     "output_type": "stream",
     "text": [
      "Video 1449.6.8.ND0003 saved successfully.\n"
     ]
    },
    {
     "data": {
      "application/vnd.jupyter.widget-view+json": {
       "model_id": "552b9d8172654a8fa54aa95f5811442a",
       "version_major": 2,
       "version_minor": 0
      },
      "text/plain": [
       "Creating glimpse 1593.6.8.ND0003:   0%|          | 0/106 [00:00<?, ?it/s]"
      ]
     },
     "metadata": {},
     "output_type": "display_data"
    },
    {
     "name": "stdout",
     "output_type": "stream",
     "text": [
      "Video 1593.6.8.ND0003 saved successfully.\n"
     ]
    },
    {
     "data": {
      "application/vnd.jupyter.widget-view+json": {
       "model_id": "617df81a56d54452adebcf97d2eb8011",
       "version_major": 2,
       "version_minor": 0
      },
      "text/plain": [
       "Creating glimpse 1606.6.8.ND0003:   0%|          | 0/72 [00:00<?, ?it/s]"
      ]
     },
     "metadata": {},
     "output_type": "display_data"
    },
    {
     "name": "stdout",
     "output_type": "stream",
     "text": [
      "Video 1606.6.8.ND0003 saved successfully.\n"
     ]
    },
    {
     "data": {
      "application/vnd.jupyter.widget-view+json": {
       "model_id": "cc4cb6f864864c2fabfb0ce10ef99554",
       "version_major": 2,
       "version_minor": 0
      },
      "text/plain": [
       "Creating glimpse 1607.6.8.ND0003:   0%|          | 0/95 [00:00<?, ?it/s]"
      ]
     },
     "metadata": {},
     "output_type": "display_data"
    },
    {
     "name": "stdout",
     "output_type": "stream",
     "text": [
      "Video 1607.6.8.ND0003 saved successfully.\n"
     ]
    },
    {
     "data": {
      "application/vnd.jupyter.widget-view+json": {
       "model_id": "2c54a2690257416cb8f0ae6597456a21",
       "version_major": 2,
       "version_minor": 0
      },
      "text/plain": [
       "Creating glimpse 1656.6.8.ND0003:   0%|          | 0/117 [00:00<?, ?it/s]"
      ]
     },
     "metadata": {},
     "output_type": "display_data"
    },
    {
     "name": "stdout",
     "output_type": "stream",
     "text": [
      "Video 1656.6.8.ND0003 saved successfully.\n"
     ]
    },
    {
     "data": {
      "application/vnd.jupyter.widget-view+json": {
       "model_id": "1437332fadb74dc1ab803e45bb299574",
       "version_major": 2,
       "version_minor": 0
      },
      "text/plain": [
       "Creating glimpse 1638.6.8.ND0003:   0%|          | 0/116 [00:00<?, ?it/s]"
      ]
     },
     "metadata": {},
     "output_type": "display_data"
    },
    {
     "name": "stdout",
     "output_type": "stream",
     "text": [
      "Video 1638.6.8.ND0003 saved successfully.\n"
     ]
    },
    {
     "data": {
      "application/vnd.jupyter.widget-view+json": {
       "model_id": "b1394b34a5774b4fa4591ff2f7c67689",
       "version_major": 2,
       "version_minor": 0
      },
      "text/plain": [
       "Creating glimpse 1702.6.8.ND0003:   0%|          | 0/73 [00:00<?, ?it/s]"
      ]
     },
     "metadata": {},
     "output_type": "display_data"
    },
    {
     "name": "stdout",
     "output_type": "stream",
     "text": [
      "Video 1702.6.8.ND0003 saved successfully.\n"
     ]
    },
    {
     "data": {
      "application/vnd.jupyter.widget-view+json": {
       "model_id": "327cc23a8a1640418e6739bd2d094e84",
       "version_major": 2,
       "version_minor": 0
      },
      "text/plain": [
       "Creating glimpse 1744.6.8.ND0003:   0%|          | 0/113 [00:00<?, ?it/s]"
      ]
     },
     "metadata": {},
     "output_type": "display_data"
    },
    {
     "name": "stdout",
     "output_type": "stream",
     "text": [
      "Video 1744.6.8.ND0003 saved successfully.\n"
     ]
    },
    {
     "data": {
      "application/vnd.jupyter.widget-view+json": {
       "model_id": "4f868910817648038ae23ea4d1347115",
       "version_major": 2,
       "version_minor": 0
      },
      "text/plain": [
       "Creating glimpse 1755.6.8.ND0003:   0%|          | 0/113 [00:00<?, ?it/s]"
      ]
     },
     "metadata": {},
     "output_type": "display_data"
    },
    {
     "name": "stdout",
     "output_type": "stream",
     "text": [
      "Video 1755.6.8.ND0003 saved successfully.\n"
     ]
    },
    {
     "data": {
      "application/vnd.jupyter.widget-view+json": {
       "model_id": "ecc809330d244d848787cbf8b8694e15",
       "version_major": 2,
       "version_minor": 0
      },
      "text/plain": [
       "Creating glimpse 1766.6.8.ND0003:   0%|          | 0/98 [00:00<?, ?it/s]"
      ]
     },
     "metadata": {},
     "output_type": "display_data"
    },
    {
     "name": "stdout",
     "output_type": "stream",
     "text": [
      "Video 1766.6.8.ND0003 saved successfully.\n"
     ]
    },
    {
     "data": {
      "application/vnd.jupyter.widget-view+json": {
       "model_id": "ee2337339d9f4ca0bf1e536a3b70c227",
       "version_major": 2,
       "version_minor": 0
      },
      "text/plain": [
       "Creating glimpse 1826.6.8.ND0003:   0%|          | 0/110 [00:00<?, ?it/s]"
      ]
     },
     "metadata": {},
     "output_type": "display_data"
    },
    {
     "name": "stdout",
     "output_type": "stream",
     "text": [
      "Video 1826.6.8.ND0003 saved successfully.\n"
     ]
    },
    {
     "data": {
      "application/vnd.jupyter.widget-view+json": {
       "model_id": "80bda2003ba447c1bbc7d80f7721b6e6",
       "version_major": 2,
       "version_minor": 0
      },
      "text/plain": [
       "Creating glimpse 1812.6.8.ND0003:   0%|          | 0/111 [00:00<?, ?it/s]"
      ]
     },
     "metadata": {},
     "output_type": "display_data"
    },
    {
     "name": "stdout",
     "output_type": "stream",
     "text": [
      "Video 1812.6.8.ND0003 saved successfully.\n"
     ]
    },
    {
     "data": {
      "application/vnd.jupyter.widget-view+json": {
       "model_id": "b020f6908fb14ea79611552e9fc093f3",
       "version_major": 2,
       "version_minor": 0
      },
      "text/plain": [
       "Creating glimpse 1854.6.8.ND0003:   0%|          | 0/110 [00:00<?, ?it/s]"
      ]
     },
     "metadata": {},
     "output_type": "display_data"
    },
    {
     "name": "stdout",
     "output_type": "stream",
     "text": [
      "Video 1854.6.8.ND0003 saved successfully.\n"
     ]
    },
    {
     "data": {
      "application/vnd.jupyter.widget-view+json": {
       "model_id": "4253008b72754a6fb7e96c085b638e9a",
       "version_major": 2,
       "version_minor": 0
      },
      "text/plain": [
       "Creating glimpse 1831.6.8.ND0003:   0%|          | 0/108 [00:00<?, ?it/s]"
      ]
     },
     "metadata": {},
     "output_type": "display_data"
    },
    {
     "name": "stdout",
     "output_type": "stream",
     "text": [
      "Video 1831.6.8.ND0003 saved successfully.\n"
     ]
    },
    {
     "data": {
      "application/vnd.jupyter.widget-view+json": {
       "model_id": "cdde8d3bc4d34f1093da656d2f6bf7f7",
       "version_major": 2,
       "version_minor": 0
      },
      "text/plain": [
       "Creating glimpse 1862.6.8.ND0003:   0%|          | 0/109 [00:00<?, ?it/s]"
      ]
     },
     "metadata": {},
     "output_type": "display_data"
    },
    {
     "name": "stdout",
     "output_type": "stream",
     "text": [
      "Video 1862.6.8.ND0003 saved successfully.\n"
     ]
    },
    {
     "data": {
      "application/vnd.jupyter.widget-view+json": {
       "model_id": "4c56213ddd0d46acb87e59d98ff798d8",
       "version_major": 2,
       "version_minor": 0
      },
      "text/plain": [
       "Creating glimpse 1890.6.8.ND0003:   0%|          | 0/108 [00:00<?, ?it/s]"
      ]
     },
     "metadata": {},
     "output_type": "display_data"
    },
    {
     "name": "stdout",
     "output_type": "stream",
     "text": [
      "Video 1890.6.8.ND0003 saved successfully.\n"
     ]
    },
    {
     "data": {
      "application/vnd.jupyter.widget-view+json": {
       "model_id": "db32e77c8735497a8d513c486485eb9f",
       "version_major": 2,
       "version_minor": 0
      },
      "text/plain": [
       "Creating glimpse 1878.6.8.ND0003:   0%|          | 0/108 [00:00<?, ?it/s]"
      ]
     },
     "metadata": {},
     "output_type": "display_data"
    },
    {
     "name": "stdout",
     "output_type": "stream",
     "text": [
      "Video 1878.6.8.ND0003 saved successfully.\n"
     ]
    },
    {
     "data": {
      "application/vnd.jupyter.widget-view+json": {
       "model_id": "ca209039ceae4c4ca57b47561eeb6846",
       "version_major": 2,
       "version_minor": 0
      },
      "text/plain": [
       "Creating glimpse 1930.6.8.ND0003:   0%|          | 0/105 [00:00<?, ?it/s]"
      ]
     },
     "metadata": {},
     "output_type": "display_data"
    },
    {
     "name": "stdout",
     "output_type": "stream",
     "text": [
      "Video 1930.6.8.ND0003 saved successfully.\n"
     ]
    },
    {
     "data": {
      "application/vnd.jupyter.widget-view+json": {
       "model_id": "d4b04ffcaea14c6fb360bf27790556d0",
       "version_major": 2,
       "version_minor": 0
      },
      "text/plain": [
       "Creating glimpse 1933.6.8.ND0003:   0%|          | 0/107 [00:00<?, ?it/s]"
      ]
     },
     "metadata": {},
     "output_type": "display_data"
    },
    {
     "name": "stdout",
     "output_type": "stream",
     "text": [
      "Video 1933.6.8.ND0003 saved successfully.\n"
     ]
    },
    {
     "data": {
      "application/vnd.jupyter.widget-view+json": {
       "model_id": "aeb357aeaa6549bb9888e3cc850069fe",
       "version_major": 2,
       "version_minor": 0
      },
      "text/plain": [
       "Creating glimpse 1950.6.8.ND0003:   0%|          | 0/70 [00:00<?, ?it/s]"
      ]
     },
     "metadata": {},
     "output_type": "display_data"
    },
    {
     "name": "stdout",
     "output_type": "stream",
     "text": [
      "Video 1950.6.8.ND0003 saved successfully.\n"
     ]
    },
    {
     "data": {
      "application/vnd.jupyter.widget-view+json": {
       "model_id": "5712fbc40f1742fda9fc7622d11ea1c1",
       "version_major": 2,
       "version_minor": 0
      },
      "text/plain": [
       "Creating glimpse 1989.6.8.ND0003:   0%|          | 0/105 [00:00<?, ?it/s]"
      ]
     },
     "metadata": {},
     "output_type": "display_data"
    },
    {
     "name": "stdout",
     "output_type": "stream",
     "text": [
      "Video 1989.6.8.ND0003 saved successfully.\n"
     ]
    },
    {
     "data": {
      "application/vnd.jupyter.widget-view+json": {
       "model_id": "7d698c10e100428f8213715d6be68db2",
       "version_major": 2,
       "version_minor": 0
      },
      "text/plain": [
       "Creating glimpse 1995.6.8.ND0003:   0%|          | 0/103 [00:00<?, ?it/s]"
      ]
     },
     "metadata": {},
     "output_type": "display_data"
    },
    {
     "name": "stdout",
     "output_type": "stream",
     "text": [
      "Video 1995.6.8.ND0003 saved successfully.\n"
     ]
    },
    {
     "data": {
      "application/vnd.jupyter.widget-view+json": {
       "model_id": "5d197a9c6f5e4f37b61ad1d0cf5fce03",
       "version_major": 2,
       "version_minor": 0
      },
      "text/plain": [
       "Creating glimpse 2032.6.8.ND0003:   0%|          | 0/71 [00:00<?, ?it/s]"
      ]
     },
     "metadata": {},
     "output_type": "display_data"
    },
    {
     "name": "stdout",
     "output_type": "stream",
     "text": [
      "Video 2032.6.8.ND0003 saved successfully.\n"
     ]
    },
    {
     "data": {
      "application/vnd.jupyter.widget-view+json": {
       "model_id": "349efccd79794d1db2d6f767060a7f5f",
       "version_major": 2,
       "version_minor": 0
      },
      "text/plain": [
       "Creating glimpse 2056.6.8.ND0003:   0%|          | 0/102 [00:00<?, ?it/s]"
      ]
     },
     "metadata": {},
     "output_type": "display_data"
    },
    {
     "name": "stdout",
     "output_type": "stream",
     "text": [
      "Video 2056.6.8.ND0003 saved successfully.\n"
     ]
    },
    {
     "data": {
      "application/vnd.jupyter.widget-view+json": {
       "model_id": "f385861380af49ceb38a11e9006edf6b",
       "version_major": 2,
       "version_minor": 0
      },
      "text/plain": [
       "Creating glimpse 2081.6.8.ND0003:   0%|          | 0/101 [00:00<?, ?it/s]"
      ]
     },
     "metadata": {},
     "output_type": "display_data"
    },
    {
     "name": "stdout",
     "output_type": "stream",
     "text": [
      "Video 2081.6.8.ND0003 saved successfully.\n"
     ]
    },
    {
     "data": {
      "application/vnd.jupyter.widget-view+json": {
       "model_id": "72143947e7df473f9e4ee39599bd9ea8",
       "version_major": 2,
       "version_minor": 0
      },
      "text/plain": [
       "Creating glimpse 2087.6.8.ND0003:   0%|          | 0/100 [00:00<?, ?it/s]"
      ]
     },
     "metadata": {},
     "output_type": "display_data"
    },
    {
     "name": "stdout",
     "output_type": "stream",
     "text": [
      "Video 2087.6.8.ND0003 saved successfully.\n"
     ]
    },
    {
     "data": {
      "application/vnd.jupyter.widget-view+json": {
       "model_id": "b1f0de7849e34b6d94e8a961a457ce24",
       "version_major": 2,
       "version_minor": 0
      },
      "text/plain": [
       "Creating glimpse 2072.6.8.ND0003:   0%|          | 0/101 [00:00<?, ?it/s]"
      ]
     },
     "metadata": {},
     "output_type": "display_data"
    },
    {
     "name": "stdout",
     "output_type": "stream",
     "text": [
      "Video 2072.6.8.ND0003 saved successfully.\n"
     ]
    },
    {
     "data": {
      "application/vnd.jupyter.widget-view+json": {
       "model_id": "f6dbec6135aa4cb0a6511e34a5d93fad",
       "version_major": 2,
       "version_minor": 0
      },
      "text/plain": [
       "Creating glimpse 2064.6.8.ND0003:   0%|          | 0/101 [00:00<?, ?it/s]"
      ]
     },
     "metadata": {},
     "output_type": "display_data"
    },
    {
     "name": "stdout",
     "output_type": "stream",
     "text": [
      "Video 2064.6.8.ND0003 saved successfully.\n"
     ]
    },
    {
     "data": {
      "application/vnd.jupyter.widget-view+json": {
       "model_id": "3969b66b6c554d479c1d8e729e0d8a73",
       "version_major": 2,
       "version_minor": 0
      },
      "text/plain": [
       "Creating glimpse 2066.6.8.ND0003:   0%|          | 0/100 [00:00<?, ?it/s]"
      ]
     },
     "metadata": {},
     "output_type": "display_data"
    },
    {
     "name": "stdout",
     "output_type": "stream",
     "text": [
      "Video 2066.6.8.ND0003 saved successfully.\n"
     ]
    },
    {
     "data": {
      "application/vnd.jupyter.widget-view+json": {
       "model_id": "489196219b774e0eaeaa9deb1942ce49",
       "version_major": 2,
       "version_minor": 0
      },
      "text/plain": [
       "Creating glimpse 2101.6.8.ND0003:   0%|          | 0/100 [00:00<?, ?it/s]"
      ]
     },
     "metadata": {},
     "output_type": "display_data"
    },
    {
     "name": "stdout",
     "output_type": "stream",
     "text": [
      "Video 2101.6.8.ND0003 saved successfully.\n"
     ]
    },
    {
     "data": {
      "application/vnd.jupyter.widget-view+json": {
       "model_id": "781063923dc5437b87239b9c69c9565b",
       "version_major": 2,
       "version_minor": 0
      },
      "text/plain": [
       "Creating glimpse 2141.6.8.ND0003:   0%|          | 0/99 [00:00<?, ?it/s]"
      ]
     },
     "metadata": {},
     "output_type": "display_data"
    },
    {
     "name": "stdout",
     "output_type": "stream",
     "text": [
      "Video 2141.6.8.ND0003 saved successfully.\n"
     ]
    },
    {
     "data": {
      "application/vnd.jupyter.widget-view+json": {
       "model_id": "44a14db118b14d2193cbe7f92b544617",
       "version_major": 2,
       "version_minor": 0
      },
      "text/plain": [
       "Creating glimpse 2167.6.8.ND0003:   0%|          | 0/97 [00:00<?, ?it/s]"
      ]
     },
     "metadata": {},
     "output_type": "display_data"
    },
    {
     "name": "stdout",
     "output_type": "stream",
     "text": [
      "Video 2167.6.8.ND0003 saved successfully.\n"
     ]
    },
    {
     "data": {
      "application/vnd.jupyter.widget-view+json": {
       "model_id": "85a4ca366d7d4febb4d276f7d6350226",
       "version_major": 2,
       "version_minor": 0
      },
      "text/plain": [
       "Creating glimpse 2146.6.8.ND0003:   0%|          | 0/98 [00:00<?, ?it/s]"
      ]
     },
     "metadata": {},
     "output_type": "display_data"
    },
    {
     "name": "stdout",
     "output_type": "stream",
     "text": [
      "Video 2146.6.8.ND0003 saved successfully.\n"
     ]
    },
    {
     "data": {
      "application/vnd.jupyter.widget-view+json": {
       "model_id": "8271bc5fe12d406494bf68fc165b0e0c",
       "version_major": 2,
       "version_minor": 0
      },
      "text/plain": [
       "Creating glimpse 2150.6.8.ND0003:   0%|          | 0/97 [00:00<?, ?it/s]"
      ]
     },
     "metadata": {},
     "output_type": "display_data"
    },
    {
     "name": "stdout",
     "output_type": "stream",
     "text": [
      "Video 2150.6.8.ND0003 saved successfully.\n"
     ]
    },
    {
     "data": {
      "application/vnd.jupyter.widget-view+json": {
       "model_id": "32b21a6092584f51be11f3f3081f2275",
       "version_major": 2,
       "version_minor": 0
      },
      "text/plain": [
       "Creating glimpse 2215.6.8.ND0003:   0%|          | 0/94 [00:00<?, ?it/s]"
      ]
     },
     "metadata": {},
     "output_type": "display_data"
    },
    {
     "name": "stdout",
     "output_type": "stream",
     "text": [
      "Video 2215.6.8.ND0003 saved successfully.\n"
     ]
    },
    {
     "data": {
      "application/vnd.jupyter.widget-view+json": {
       "model_id": "3fa6e27e93e749f59e4fb621a1264d56",
       "version_major": 2,
       "version_minor": 0
      },
      "text/plain": [
       "Creating glimpse 2205.6.8.ND0003:   0%|          | 0/96 [00:00<?, ?it/s]"
      ]
     },
     "metadata": {},
     "output_type": "display_data"
    },
    {
     "name": "stdout",
     "output_type": "stream",
     "text": [
      "Video 2205.6.8.ND0003 saved successfully.\n"
     ]
    },
    {
     "data": {
      "application/vnd.jupyter.widget-view+json": {
       "model_id": "e798dceb1e1246f4ab8da92c4684ea64",
       "version_major": 2,
       "version_minor": 0
      },
      "text/plain": [
       "Creating glimpse 2238.6.8.ND0003:   0%|          | 0/79 [00:00<?, ?it/s]"
      ]
     },
     "metadata": {},
     "output_type": "display_data"
    },
    {
     "name": "stdout",
     "output_type": "stream",
     "text": [
      "Video 2238.6.8.ND0003 saved successfully.\n"
     ]
    },
    {
     "data": {
      "application/vnd.jupyter.widget-view+json": {
       "model_id": "444ee0d044bf4abe8eae8408b57ea9d0",
       "version_major": 2,
       "version_minor": 0
      },
      "text/plain": [
       "Creating glimpse 2244.6.8.ND0003:   0%|          | 0/95 [00:00<?, ?it/s]"
      ]
     },
     "metadata": {},
     "output_type": "display_data"
    },
    {
     "name": "stdout",
     "output_type": "stream",
     "text": [
      "Video 2244.6.8.ND0003 saved successfully.\n"
     ]
    },
    {
     "data": {
      "application/vnd.jupyter.widget-view+json": {
       "model_id": "41c982298149479bb26b0cc1769d8109",
       "version_major": 2,
       "version_minor": 0
      },
      "text/plain": [
       "Creating glimpse 2278.6.8.ND0003:   0%|          | 0/94 [00:00<?, ?it/s]"
      ]
     },
     "metadata": {},
     "output_type": "display_data"
    },
    {
     "name": "stdout",
     "output_type": "stream",
     "text": [
      "Video 2278.6.8.ND0003 saved successfully.\n"
     ]
    },
    {
     "data": {
      "application/vnd.jupyter.widget-view+json": {
       "model_id": "82ff312cd44146d581860b745bee24a0",
       "version_major": 2,
       "version_minor": 0
      },
      "text/plain": [
       "Creating glimpse 2261.6.8.ND0003:   0%|          | 0/94 [00:00<?, ?it/s]"
      ]
     },
     "metadata": {},
     "output_type": "display_data"
    },
    {
     "name": "stdout",
     "output_type": "stream",
     "text": [
      "Video 2261.6.8.ND0003 saved successfully.\n"
     ]
    },
    {
     "data": {
      "application/vnd.jupyter.widget-view+json": {
       "model_id": "e2f2c6598b1b4ffda90b45387009c178",
       "version_major": 2,
       "version_minor": 0
      },
      "text/plain": [
       "Creating glimpse 2252.6.8.ND0003:   0%|          | 0/94 [00:00<?, ?it/s]"
      ]
     },
     "metadata": {},
     "output_type": "display_data"
    },
    {
     "name": "stdout",
     "output_type": "stream",
     "text": [
      "Video 2252.6.8.ND0003 saved successfully.\n"
     ]
    },
    {
     "data": {
      "application/vnd.jupyter.widget-view+json": {
       "model_id": "e4080b3a25aa495fbf6fad763561d191",
       "version_major": 2,
       "version_minor": 0
      },
      "text/plain": [
       "Creating glimpse 2254.6.8.ND0003:   0%|          | 0/94 [00:00<?, ?it/s]"
      ]
     },
     "metadata": {},
     "output_type": "display_data"
    },
    {
     "name": "stdout",
     "output_type": "stream",
     "text": [
      "Video 2254.6.8.ND0003 saved successfully.\n"
     ]
    },
    {
     "data": {
      "application/vnd.jupyter.widget-view+json": {
       "model_id": "4119e0856a0d4e1cabdbdc442e543979",
       "version_major": 2,
       "version_minor": 0
      },
      "text/plain": [
       "Creating glimpse 2256.6.8.ND0003:   0%|          | 0/94 [00:00<?, ?it/s]"
      ]
     },
     "metadata": {},
     "output_type": "display_data"
    },
    {
     "name": "stdout",
     "output_type": "stream",
     "text": [
      "Video 2256.6.8.ND0003 saved successfully.\n"
     ]
    },
    {
     "data": {
      "application/vnd.jupyter.widget-view+json": {
       "model_id": "61ce4e8d34224b59843f744c7b2a3d8b",
       "version_major": 2,
       "version_minor": 0
      },
      "text/plain": [
       "Creating glimpse 2258.6.8.ND0003:   0%|          | 0/94 [00:00<?, ?it/s]"
      ]
     },
     "metadata": {},
     "output_type": "display_data"
    },
    {
     "name": "stdout",
     "output_type": "stream",
     "text": [
      "Video 2258.6.8.ND0003 saved successfully.\n"
     ]
    },
    {
     "data": {
      "application/vnd.jupyter.widget-view+json": {
       "model_id": "d8d61cda450d4297947502714743bd35",
       "version_major": 2,
       "version_minor": 0
      },
      "text/plain": [
       "Creating glimpse 2293.6.8.ND0003:   0%|          | 0/93 [00:00<?, ?it/s]"
      ]
     },
     "metadata": {},
     "output_type": "display_data"
    },
    {
     "name": "stdout",
     "output_type": "stream",
     "text": [
      "Video 2293.6.8.ND0003 saved successfully.\n"
     ]
    },
    {
     "data": {
      "application/vnd.jupyter.widget-view+json": {
       "model_id": "8cf2f1a2d3194e28ab9436b3fc8d57ce",
       "version_major": 2,
       "version_minor": 0
      },
      "text/plain": [
       "Creating glimpse 2283.6.8.ND0003:   0%|          | 0/93 [00:00<?, ?it/s]"
      ]
     },
     "metadata": {},
     "output_type": "display_data"
    },
    {
     "name": "stdout",
     "output_type": "stream",
     "text": [
      "Video 2283.6.8.ND0003 saved successfully.\n"
     ]
    },
    {
     "data": {
      "application/vnd.jupyter.widget-view+json": {
       "model_id": "db99a36894f746a582fe636582e0b9de",
       "version_major": 2,
       "version_minor": 0
      },
      "text/plain": [
       "Creating glimpse 2313.6.8.ND0003:   0%|          | 0/92 [00:00<?, ?it/s]"
      ]
     },
     "metadata": {},
     "output_type": "display_data"
    },
    {
     "name": "stdout",
     "output_type": "stream",
     "text": [
      "Video 2313.6.8.ND0003 saved successfully.\n"
     ]
    },
    {
     "data": {
      "application/vnd.jupyter.widget-view+json": {
       "model_id": "1851a6b6ee5a4b069dfeeb7fe2169e1e",
       "version_major": 2,
       "version_minor": 0
      },
      "text/plain": [
       "Creating glimpse 2324.6.8.ND0003:   0%|          | 0/91 [00:00<?, ?it/s]"
      ]
     },
     "metadata": {},
     "output_type": "display_data"
    },
    {
     "name": "stdout",
     "output_type": "stream",
     "text": [
      "Video 2324.6.8.ND0003 saved successfully.\n"
     ]
    },
    {
     "data": {
      "application/vnd.jupyter.widget-view+json": {
       "model_id": "ee7c0a829b2c4ee9a07720eec00f2068",
       "version_major": 2,
       "version_minor": 0
      },
      "text/plain": [
       "Creating glimpse 2318.6.8.ND0003:   0%|          | 0/91 [00:00<?, ?it/s]"
      ]
     },
     "metadata": {},
     "output_type": "display_data"
    },
    {
     "name": "stdout",
     "output_type": "stream",
     "text": [
      "Video 2318.6.8.ND0003 saved successfully.\n"
     ]
    },
    {
     "data": {
      "application/vnd.jupyter.widget-view+json": {
       "model_id": "6330d624c6c0489f9d15926e381099d1",
       "version_major": 2,
       "version_minor": 0
      },
      "text/plain": [
       "Creating glimpse 2317.6.8.ND0003:   0%|          | 0/91 [00:00<?, ?it/s]"
      ]
     },
     "metadata": {},
     "output_type": "display_data"
    },
    {
     "name": "stdout",
     "output_type": "stream",
     "text": [
      "Video 2317.6.8.ND0003 saved successfully.\n"
     ]
    },
    {
     "data": {
      "application/vnd.jupyter.widget-view+json": {
       "model_id": "2775366292a34ee39f7f9d77829761cb",
       "version_major": 2,
       "version_minor": 0
      },
      "text/plain": [
       "Creating glimpse 2326.6.8.ND0003:   0%|          | 0/91 [00:00<?, ?it/s]"
      ]
     },
     "metadata": {},
     "output_type": "display_data"
    },
    {
     "name": "stdout",
     "output_type": "stream",
     "text": [
      "Video 2326.6.8.ND0003 saved successfully.\n"
     ]
    },
    {
     "data": {
      "application/vnd.jupyter.widget-view+json": {
       "model_id": "c0a600bb9967419e966cfebcbde7e6ab",
       "version_major": 2,
       "version_minor": 0
      },
      "text/plain": [
       "Creating glimpse 2357.6.8.ND0003:   0%|          | 0/90 [00:00<?, ?it/s]"
      ]
     },
     "metadata": {},
     "output_type": "display_data"
    },
    {
     "name": "stdout",
     "output_type": "stream",
     "text": [
      "Video 2357.6.8.ND0003 saved successfully.\n"
     ]
    },
    {
     "data": {
      "application/vnd.jupyter.widget-view+json": {
       "model_id": "4d0e4ec3cca04c43bbd8bb6356909866",
       "version_major": 2,
       "version_minor": 0
      },
      "text/plain": [
       "Creating glimpse 2359.6.8.ND0003:   0%|          | 0/90 [00:00<?, ?it/s]"
      ]
     },
     "metadata": {},
     "output_type": "display_data"
    },
    {
     "name": "stdout",
     "output_type": "stream",
     "text": [
      "Video 2359.6.8.ND0003 saved successfully.\n"
     ]
    },
    {
     "data": {
      "application/vnd.jupyter.widget-view+json": {
       "model_id": "d918f2da59ed4c54af2532637c87373f",
       "version_major": 2,
       "version_minor": 0
      },
      "text/plain": [
       "Creating glimpse 2360.6.8.ND0003:   0%|          | 0/90 [00:00<?, ?it/s]"
      ]
     },
     "metadata": {},
     "output_type": "display_data"
    },
    {
     "name": "stdout",
     "output_type": "stream",
     "text": [
      "Video 2360.6.8.ND0003 saved successfully.\n"
     ]
    },
    {
     "data": {
      "application/vnd.jupyter.widget-view+json": {
       "model_id": "2c9cd28b32a44d09b4a6bf784b053c00",
       "version_major": 2,
       "version_minor": 0
      },
      "text/plain": [
       "Creating glimpse 2365.6.8.ND0003:   0%|          | 0/90 [00:00<?, ?it/s]"
      ]
     },
     "metadata": {},
     "output_type": "display_data"
    },
    {
     "name": "stdout",
     "output_type": "stream",
     "text": [
      "Video 2365.6.8.ND0003 saved successfully.\n"
     ]
    },
    {
     "data": {
      "application/vnd.jupyter.widget-view+json": {
       "model_id": "42bda0993d0f4890afe5fdddf8bc0f21",
       "version_major": 2,
       "version_minor": 0
      },
      "text/plain": [
       "Creating glimpse 2349.6.8.ND0003:   0%|          | 0/90 [00:00<?, ?it/s]"
      ]
     },
     "metadata": {},
     "output_type": "display_data"
    },
    {
     "name": "stdout",
     "output_type": "stream",
     "text": [
      "Video 2349.6.8.ND0003 saved successfully.\n"
     ]
    },
    {
     "data": {
      "application/vnd.jupyter.widget-view+json": {
       "model_id": "4f689af645e54d41bdd251ac9ade0b09",
       "version_major": 2,
       "version_minor": 0
      },
      "text/plain": [
       "Creating glimpse 2390.6.8.ND0003:   0%|          | 0/89 [00:00<?, ?it/s]"
      ]
     },
     "metadata": {},
     "output_type": "display_data"
    },
    {
     "name": "stdout",
     "output_type": "stream",
     "text": [
      "Video 2390.6.8.ND0003 saved successfully.\n"
     ]
    },
    {
     "data": {
      "application/vnd.jupyter.widget-view+json": {
       "model_id": "3ed982f0b73041879df40515b6b920e1",
       "version_major": 2,
       "version_minor": 0
      },
      "text/plain": [
       "Creating glimpse 2385.6.8.ND0003:   0%|          | 0/89 [00:00<?, ?it/s]"
      ]
     },
     "metadata": {},
     "output_type": "display_data"
    },
    {
     "name": "stdout",
     "output_type": "stream",
     "text": [
      "Video 2385.6.8.ND0003 saved successfully.\n"
     ]
    },
    {
     "data": {
      "application/vnd.jupyter.widget-view+json": {
       "model_id": "f7740b9c3688429d8b9c29c7e70bb24b",
       "version_major": 2,
       "version_minor": 0
      },
      "text/plain": [
       "Creating glimpse 2368.6.8.ND0003:   0%|          | 0/88 [00:00<?, ?it/s]"
      ]
     },
     "metadata": {},
     "output_type": "display_data"
    },
    {
     "name": "stdout",
     "output_type": "stream",
     "text": [
      "Video 2368.6.8.ND0003 saved successfully.\n"
     ]
    },
    {
     "data": {
      "application/vnd.jupyter.widget-view+json": {
       "model_id": "6a290643adaf43baa6ce942a861a0b83",
       "version_major": 2,
       "version_minor": 0
      },
      "text/plain": [
       "Creating glimpse 2400.6.8.ND0003:   0%|          | 0/88 [00:00<?, ?it/s]"
      ]
     },
     "metadata": {},
     "output_type": "display_data"
    },
    {
     "name": "stdout",
     "output_type": "stream",
     "text": [
      "Video 2400.6.8.ND0003 saved successfully.\n"
     ]
    },
    {
     "data": {
      "application/vnd.jupyter.widget-view+json": {
       "model_id": "bf248d55d4a949e195c659bdab375c2b",
       "version_major": 2,
       "version_minor": 0
      },
      "text/plain": [
       "Creating glimpse 2421.6.8.ND0003:   0%|          | 0/87 [00:00<?, ?it/s]"
      ]
     },
     "metadata": {},
     "output_type": "display_data"
    },
    {
     "name": "stdout",
     "output_type": "stream",
     "text": [
      "Video 2421.6.8.ND0003 saved successfully.\n"
     ]
    },
    {
     "data": {
      "application/vnd.jupyter.widget-view+json": {
       "model_id": "f95bf4ab743a4b2a9fa1962da5c0e074",
       "version_major": 2,
       "version_minor": 0
      },
      "text/plain": [
       "Creating glimpse 2430.6.8.ND0003:   0%|          | 0/77 [00:00<?, ?it/s]"
      ]
     },
     "metadata": {},
     "output_type": "display_data"
    },
    {
     "name": "stdout",
     "output_type": "stream",
     "text": [
      "Video 2430.6.8.ND0003 saved successfully.\n"
     ]
    },
    {
     "data": {
      "application/vnd.jupyter.widget-view+json": {
       "model_id": "1207def9bed747848770cb15d9844874",
       "version_major": 2,
       "version_minor": 0
      },
      "text/plain": [
       "Creating glimpse 2457.6.8.ND0003:   0%|          | 0/86 [00:00<?, ?it/s]"
      ]
     },
     "metadata": {},
     "output_type": "display_data"
    },
    {
     "name": "stdout",
     "output_type": "stream",
     "text": [
      "Video 2457.6.8.ND0003 saved successfully.\n"
     ]
    },
    {
     "data": {
      "application/vnd.jupyter.widget-view+json": {
       "model_id": "2f2b25f2192247f0907b7feedecc6e0f",
       "version_major": 2,
       "version_minor": 0
      },
      "text/plain": [
       "Creating glimpse 2458.6.8.ND0003:   0%|          | 0/86 [00:00<?, ?it/s]"
      ]
     },
     "metadata": {},
     "output_type": "display_data"
    },
    {
     "name": "stdout",
     "output_type": "stream",
     "text": [
      "Video 2458.6.8.ND0003 saved successfully.\n"
     ]
    },
    {
     "data": {
      "application/vnd.jupyter.widget-view+json": {
       "model_id": "bbc10613f694427387fdc712be46b5d7",
       "version_major": 2,
       "version_minor": 0
      },
      "text/plain": [
       "Creating glimpse 2467.6.8.ND0003:   0%|          | 0/84 [00:00<?, ?it/s]"
      ]
     },
     "metadata": {},
     "output_type": "display_data"
    },
    {
     "name": "stdout",
     "output_type": "stream",
     "text": [
      "Video 2467.6.8.ND0003 saved successfully.\n"
     ]
    },
    {
     "data": {
      "application/vnd.jupyter.widget-view+json": {
       "model_id": "3f89b023cb3e48bd968282a25ea9692d",
       "version_major": 2,
       "version_minor": 0
      },
      "text/plain": [
       "Creating glimpse 2507.6.8.ND0003:   0%|          | 0/83 [00:00<?, ?it/s]"
      ]
     },
     "metadata": {},
     "output_type": "display_data"
    },
    {
     "name": "stdout",
     "output_type": "stream",
     "text": [
      "Video 2507.6.8.ND0003 saved successfully.\n"
     ]
    },
    {
     "data": {
      "application/vnd.jupyter.widget-view+json": {
       "model_id": "a9616926a23c4484936943b9132926c5",
       "version_major": 2,
       "version_minor": 0
      },
      "text/plain": [
       "Creating glimpse 2483.6.8.ND0003:   0%|          | 0/84 [00:00<?, ?it/s]"
      ]
     },
     "metadata": {},
     "output_type": "display_data"
    },
    {
     "name": "stdout",
     "output_type": "stream",
     "text": [
      "Video 2483.6.8.ND0003 saved successfully.\n"
     ]
    },
    {
     "data": {
      "application/vnd.jupyter.widget-view+json": {
       "model_id": "fc3a7c78bef14228b19ebbbbb99c2925",
       "version_major": 2,
       "version_minor": 0
      },
      "text/plain": [
       "Creating glimpse 2515.6.8.ND0003:   0%|          | 0/83 [00:00<?, ?it/s]"
      ]
     },
     "metadata": {},
     "output_type": "display_data"
    },
    {
     "name": "stdout",
     "output_type": "stream",
     "text": [
      "Video 2515.6.8.ND0003 saved successfully.\n"
     ]
    },
    {
     "data": {
      "application/vnd.jupyter.widget-view+json": {
       "model_id": "3df9598120de419b8ede1d13b8760316",
       "version_major": 2,
       "version_minor": 0
      },
      "text/plain": [
       "Creating glimpse 2547.6.8.ND0003:   0%|          | 0/82 [00:00<?, ?it/s]"
      ]
     },
     "metadata": {},
     "output_type": "display_data"
    },
    {
     "name": "stdout",
     "output_type": "stream",
     "text": [
      "Video 2547.6.8.ND0003 saved successfully.\n"
     ]
    },
    {
     "data": {
      "application/vnd.jupyter.widget-view+json": {
       "model_id": "9bd65db5b0da4119bee15187a3054aa7",
       "version_major": 2,
       "version_minor": 0
      },
      "text/plain": [
       "Creating glimpse 2546.6.8.ND0003:   0%|          | 0/82 [00:00<?, ?it/s]"
      ]
     },
     "metadata": {},
     "output_type": "display_data"
    },
    {
     "name": "stdout",
     "output_type": "stream",
     "text": [
      "Video 2546.6.8.ND0003 saved successfully.\n"
     ]
    },
    {
     "data": {
      "application/vnd.jupyter.widget-view+json": {
       "model_id": "2dea5edb464f4689bbe43bf68b0dda50",
       "version_major": 2,
       "version_minor": 0
      },
      "text/plain": [
       "Creating glimpse 2542.6.8.ND0003:   0%|          | 0/82 [00:00<?, ?it/s]"
      ]
     },
     "metadata": {},
     "output_type": "display_data"
    },
    {
     "name": "stdout",
     "output_type": "stream",
     "text": [
      "Video 2542.6.8.ND0003 saved successfully.\n"
     ]
    },
    {
     "data": {
      "application/vnd.jupyter.widget-view+json": {
       "model_id": "5915f7f336764f0ab2cb83af2a0ef59a",
       "version_major": 2,
       "version_minor": 0
      },
      "text/plain": [
       "Creating glimpse 2571.6.8.ND0003:   0%|          | 0/81 [00:00<?, ?it/s]"
      ]
     },
     "metadata": {},
     "output_type": "display_data"
    },
    {
     "name": "stdout",
     "output_type": "stream",
     "text": [
      "Video 2571.6.8.ND0003 saved successfully.\n"
     ]
    },
    {
     "data": {
      "application/vnd.jupyter.widget-view+json": {
       "model_id": "d795b5b1940b4d9eb38101db294eefe9",
       "version_major": 2,
       "version_minor": 0
      },
      "text/plain": [
       "Creating glimpse 2562.6.8.ND0003:   0%|          | 0/81 [00:00<?, ?it/s]"
      ]
     },
     "metadata": {},
     "output_type": "display_data"
    },
    {
     "name": "stdout",
     "output_type": "stream",
     "text": [
      "Video 2562.6.8.ND0003 saved successfully.\n"
     ]
    },
    {
     "data": {
      "application/vnd.jupyter.widget-view+json": {
       "model_id": "ec7740b05e0a434e9e61ba0a7af2a988",
       "version_major": 2,
       "version_minor": 0
      },
      "text/plain": [
       "Creating glimpse 2554.6.8.ND0003:   0%|          | 0/80 [00:00<?, ?it/s]"
      ]
     },
     "metadata": {},
     "output_type": "display_data"
    },
    {
     "name": "stdout",
     "output_type": "stream",
     "text": [
      "Video 2554.6.8.ND0003 saved successfully.\n"
     ]
    },
    {
     "data": {
      "application/vnd.jupyter.widget-view+json": {
       "model_id": "89583df983304fa386c266fecfdf961b",
       "version_major": 2,
       "version_minor": 0
      },
      "text/plain": [
       "Creating glimpse 2588.6.8.ND0003:   0%|          | 0/80 [00:00<?, ?it/s]"
      ]
     },
     "metadata": {},
     "output_type": "display_data"
    },
    {
     "name": "stdout",
     "output_type": "stream",
     "text": [
      "Video 2588.6.8.ND0003 saved successfully.\n"
     ]
    },
    {
     "data": {
      "application/vnd.jupyter.widget-view+json": {
       "model_id": "2a4d9aac92c0452d92f26f0e077a0580",
       "version_major": 2,
       "version_minor": 0
      },
      "text/plain": [
       "Creating glimpse 2593.6.8.ND0003:   0%|          | 0/80 [00:00<?, ?it/s]"
      ]
     },
     "metadata": {},
     "output_type": "display_data"
    },
    {
     "name": "stdout",
     "output_type": "stream",
     "text": [
      "Video 2593.6.8.ND0003 saved successfully.\n"
     ]
    },
    {
     "data": {
      "application/vnd.jupyter.widget-view+json": {
       "model_id": "748c72aef99e4c08a5b6a5313cf2d3de",
       "version_major": 2,
       "version_minor": 0
      },
      "text/plain": [
       "Creating glimpse 2620.6.8.ND0003:   0%|          | 0/79 [00:00<?, ?it/s]"
      ]
     },
     "metadata": {},
     "output_type": "display_data"
    },
    {
     "name": "stdout",
     "output_type": "stream",
     "text": [
      "Video 2620.6.8.ND0003 saved successfully.\n"
     ]
    },
    {
     "data": {
      "application/vnd.jupyter.widget-view+json": {
       "model_id": "52c9bb2c5173459daa99da900593be9a",
       "version_major": 2,
       "version_minor": 0
      },
      "text/plain": [
       "Creating glimpse 2665.6.8.ND0003:   0%|          | 0/76 [00:00<?, ?it/s]"
      ]
     },
     "metadata": {},
     "output_type": "display_data"
    },
    {
     "name": "stdout",
     "output_type": "stream",
     "text": [
      "Video 2665.6.8.ND0003 saved successfully.\n"
     ]
    },
    {
     "data": {
      "application/vnd.jupyter.widget-view+json": {
       "model_id": "fc57deea5f32469ca25593d612b94a53",
       "version_major": 2,
       "version_minor": 0
      },
      "text/plain": [
       "Creating glimpse 2693.6.8.ND0003:   0%|          | 0/76 [00:00<?, ?it/s]"
      ]
     },
     "metadata": {},
     "output_type": "display_data"
    },
    {
     "name": "stdout",
     "output_type": "stream",
     "text": [
      "Video 2693.6.8.ND0003 saved successfully.\n"
     ]
    },
    {
     "data": {
      "application/vnd.jupyter.widget-view+json": {
       "model_id": "81bdfaa55ed142dbae702510834bc355",
       "version_major": 2,
       "version_minor": 0
      },
      "text/plain": [
       "Creating glimpse 2681.6.8.ND0003:   0%|          | 0/76 [00:00<?, ?it/s]"
      ]
     },
     "metadata": {},
     "output_type": "display_data"
    },
    {
     "name": "stdout",
     "output_type": "stream",
     "text": [
      "Video 2681.6.8.ND0003 saved successfully.\n"
     ]
    },
    {
     "data": {
      "application/vnd.jupyter.widget-view+json": {
       "model_id": "cd8f5acc0e144ca6b9b7e4ae248b6347",
       "version_major": 2,
       "version_minor": 0
      },
      "text/plain": [
       "Creating glimpse 2730.6.8.ND0003:   0%|          | 0/71 [00:00<?, ?it/s]"
      ]
     },
     "metadata": {},
     "output_type": "display_data"
    },
    {
     "name": "stdout",
     "output_type": "stream",
     "text": [
      "Video 2730.6.8.ND0003 saved successfully.\n"
     ]
    },
    {
     "data": {
      "application/vnd.jupyter.widget-view+json": {
       "model_id": "76c4c71055da4f9db496f7ba87099d0f",
       "version_major": 2,
       "version_minor": 0
      },
      "text/plain": [
       "Creating glimpse 2715.6.8.ND0003:   0%|          | 0/74 [00:00<?, ?it/s]"
      ]
     },
     "metadata": {},
     "output_type": "display_data"
    },
    {
     "name": "stdout",
     "output_type": "stream",
     "text": [
      "Video 2715.6.8.ND0003 saved successfully.\n"
     ]
    },
    {
     "data": {
      "application/vnd.jupyter.widget-view+json": {
       "model_id": "956d5c4fc85c443a80e4a13147f993c7",
       "version_major": 2,
       "version_minor": 0
      },
      "text/plain": [
       "Creating glimpse 2748.6.8.ND0003:   0%|          | 0/73 [00:00<?, ?it/s]"
      ]
     },
     "metadata": {},
     "output_type": "display_data"
    },
    {
     "name": "stdout",
     "output_type": "stream",
     "text": [
      "Video 2748.6.8.ND0003 saved successfully.\n"
     ]
    },
    {
     "data": {
      "application/vnd.jupyter.widget-view+json": {
       "model_id": "b287690e6faf487fb3ec928faed6b481",
       "version_major": 2,
       "version_minor": 0
      },
      "text/plain": [
       "Creating glimpse 2746.6.8.ND0003:   0%|          | 0/73 [00:00<?, ?it/s]"
      ]
     },
     "metadata": {},
     "output_type": "display_data"
    },
    {
     "name": "stdout",
     "output_type": "stream",
     "text": [
      "Video 2746.6.8.ND0003 saved successfully.\n"
     ]
    },
    {
     "data": {
      "application/vnd.jupyter.widget-view+json": {
       "model_id": "dd6fe9678fef4e79a504a1c05b656932",
       "version_major": 2,
       "version_minor": 0
      },
      "text/plain": [
       "Creating glimpse 2764.6.8.ND0003:   0%|          | 0/72 [00:00<?, ?it/s]"
      ]
     },
     "metadata": {},
     "output_type": "display_data"
    },
    {
     "name": "stdout",
     "output_type": "stream",
     "text": [
      "Video 2764.6.8.ND0003 saved successfully.\n"
     ]
    },
    {
     "data": {
      "application/vnd.jupyter.widget-view+json": {
       "model_id": "90946f3006224c4099a21f3424c3b6e1",
       "version_major": 2,
       "version_minor": 0
      },
      "text/plain": [
       "Creating glimpse 2769.6.8.ND0003:   0%|          | 0/72 [00:00<?, ?it/s]"
      ]
     },
     "metadata": {},
     "output_type": "display_data"
    },
    {
     "name": "stdout",
     "output_type": "stream",
     "text": [
      "Video 2769.6.8.ND0003 saved successfully.\n"
     ]
    },
    {
     "data": {
      "application/vnd.jupyter.widget-view+json": {
       "model_id": "158cbd32f0484ba5b30fb1c038327901",
       "version_major": 2,
       "version_minor": 0
      },
      "text/plain": [
       "Creating glimpse 2768.6.8.ND0003:   0%|          | 0/72 [00:00<?, ?it/s]"
      ]
     },
     "metadata": {},
     "output_type": "display_data"
    },
    {
     "name": "stdout",
     "output_type": "stream",
     "text": [
      "Video 2768.6.8.ND0003 saved successfully.\n"
     ]
    },
    {
     "data": {
      "application/vnd.jupyter.widget-view+json": {
       "model_id": "e73f3c912d674acb815a868c57e79b9e",
       "version_major": 2,
       "version_minor": 0
      },
      "text/plain": [
       "Creating glimpse 2765.6.8.ND0003:   0%|          | 0/72 [00:00<?, ?it/s]"
      ]
     },
     "metadata": {},
     "output_type": "display_data"
    },
    {
     "name": "stdout",
     "output_type": "stream",
     "text": [
      "Video 2765.6.8.ND0003 saved successfully.\n"
     ]
    },
    {
     "data": {
      "application/vnd.jupyter.widget-view+json": {
       "model_id": "132e7927214b4c62b5d6e26b01640098",
       "version_major": 2,
       "version_minor": 0
      },
      "text/plain": [
       "Creating glimpse 2791.6.8.ND0003:   0%|          | 0/71 [00:00<?, ?it/s]"
      ]
     },
     "metadata": {},
     "output_type": "display_data"
    },
    {
     "name": "stdout",
     "output_type": "stream",
     "text": [
      "Video 2791.6.8.ND0003 saved successfully.\n"
     ]
    },
    {
     "data": {
      "application/vnd.jupyter.widget-view+json": {
       "model_id": "4ad1f137589d4a9ea48da2c1aae9273a",
       "version_major": 2,
       "version_minor": 0
      },
      "text/plain": [
       "Creating glimpse 2774.6.8.ND0003:   0%|          | 0/71 [00:00<?, ?it/s]"
      ]
     },
     "metadata": {},
     "output_type": "display_data"
    },
    {
     "name": "stdout",
     "output_type": "stream",
     "text": [
      "Video 2774.6.8.ND0003 saved successfully.\n"
     ]
    },
    {
     "data": {
      "application/vnd.jupyter.widget-view+json": {
       "model_id": "9a816be1108041bb8b97e099413c0a7e",
       "version_major": 2,
       "version_minor": 0
      },
      "text/plain": [
       "Creating glimpse 2801.6.8.ND0003:   0%|          | 0/70 [00:00<?, ?it/s]"
      ]
     },
     "metadata": {},
     "output_type": "display_data"
    },
    {
     "name": "stdout",
     "output_type": "stream",
     "text": [
      "Video 2801.6.8.ND0003 saved successfully.\n"
     ]
    },
    {
     "data": {
      "application/vnd.jupyter.widget-view+json": {
       "model_id": "5bde12b798ec4aef870cfd4bb8117db1",
       "version_major": 2,
       "version_minor": 0
      },
      "text/plain": [
       "Creating glimpse 2806.6.8.ND0003:   0%|          | 0/70 [00:00<?, ?it/s]"
      ]
     },
     "metadata": {},
     "output_type": "display_data"
    },
    {
     "name": "stderr",
     "output_type": "stream",
     "text": [
      "[INFO][2024/09/10 01:12:21 PM] Opening HDF file: /mnt/SYNO/macrohet_syno/data/ND0003/labels/cpv3/(6, 9).h5...\n"
     ]
    },
    {
     "name": "stdout",
     "output_type": "stream",
     "text": [
      "Video 2806.6.8.ND0003 saved successfully.\n"
     ]
    },
    {
     "name": "stderr",
     "output_type": "stream",
     "text": [
      "[INFO][2024/09/10 01:13:00 PM] Loading segmentation (154, 6048, 6048)\n",
      "[INFO][2024/09/10 01:13:01 PM] Closing HDF file: /mnt/SYNO/macrohet_syno/data/ND0003/labels/cpv3/(6, 9).h5\n"
     ]
    },
    {
     "data": {
      "application/vnd.jupyter.widget-view+json": {
       "model_id": "5b2261ca1de1467eab014ab540fe10d0",
       "version_major": 2,
       "version_minor": 0
      },
      "text/plain": [
       "Creating glimpse 180.6.9.ND0003:   0%|          | 0/154 [00:00<?, ?it/s]"
      ]
     },
     "metadata": {},
     "output_type": "display_data"
    },
    {
     "name": "stdout",
     "output_type": "stream",
     "text": [
      "Video 180.6.9.ND0003 saved successfully.\n"
     ]
    },
    {
     "data": {
      "application/vnd.jupyter.widget-view+json": {
       "model_id": "2f62be2bb95d42418860b372e08a95c7",
       "version_major": 2,
       "version_minor": 0
      },
      "text/plain": [
       "Creating glimpse 178.6.9.ND0003:   0%|          | 0/154 [00:00<?, ?it/s]"
      ]
     },
     "metadata": {},
     "output_type": "display_data"
    },
    {
     "name": "stdout",
     "output_type": "stream",
     "text": [
      "Video 178.6.9.ND0003 saved successfully.\n"
     ]
    },
    {
     "data": {
      "application/vnd.jupyter.widget-view+json": {
       "model_id": "d0fb74f398464a99966ad3299494bbd9",
       "version_major": 2,
       "version_minor": 0
      },
      "text/plain": [
       "Creating glimpse 184.6.9.ND0003:   0%|          | 0/154 [00:00<?, ?it/s]"
      ]
     },
     "metadata": {},
     "output_type": "display_data"
    },
    {
     "name": "stdout",
     "output_type": "stream",
     "text": [
      "Video 184.6.9.ND0003 saved successfully.\n"
     ]
    },
    {
     "data": {
      "application/vnd.jupyter.widget-view+json": {
       "model_id": "abd3367b9f0b49b8b1635e1cc29e1557",
       "version_major": 2,
       "version_minor": 0
      },
      "text/plain": [
       "Creating glimpse 174.6.9.ND0003:   0%|          | 0/154 [00:00<?, ?it/s]"
      ]
     },
     "metadata": {},
     "output_type": "display_data"
    },
    {
     "name": "stdout",
     "output_type": "stream",
     "text": [
      "Video 174.6.9.ND0003 saved successfully.\n"
     ]
    },
    {
     "data": {
      "application/vnd.jupyter.widget-view+json": {
       "model_id": "3aca3d482aad4f6da6f335cb16c004c0",
       "version_major": 2,
       "version_minor": 0
      },
      "text/plain": [
       "Creating glimpse 196.6.9.ND0003:   0%|          | 0/154 [00:00<?, ?it/s]"
      ]
     },
     "metadata": {},
     "output_type": "display_data"
    },
    {
     "name": "stdout",
     "output_type": "stream",
     "text": [
      "Video 196.6.9.ND0003 saved successfully.\n"
     ]
    },
    {
     "data": {
      "application/vnd.jupyter.widget-view+json": {
       "model_id": "7dea837594524043a4b037d2d577c627",
       "version_major": 2,
       "version_minor": 0
      },
      "text/plain": [
       "Creating glimpse 188.6.9.ND0003:   0%|          | 0/74 [00:00<?, ?it/s]"
      ]
     },
     "metadata": {},
     "output_type": "display_data"
    },
    {
     "name": "stdout",
     "output_type": "stream",
     "text": [
      "Video 188.6.9.ND0003 saved successfully.\n"
     ]
    },
    {
     "data": {
      "application/vnd.jupyter.widget-view+json": {
       "model_id": "286d67a6472241e39ff5f3b7ce181c24",
       "version_major": 2,
       "version_minor": 0
      },
      "text/plain": [
       "Creating glimpse 185.6.9.ND0003:   0%|          | 0/154 [00:00<?, ?it/s]"
      ]
     },
     "metadata": {},
     "output_type": "display_data"
    },
    {
     "name": "stdout",
     "output_type": "stream",
     "text": [
      "Video 185.6.9.ND0003 saved successfully.\n"
     ]
    },
    {
     "data": {
      "application/vnd.jupyter.widget-view+json": {
       "model_id": "973fbbcef5cb40fa96175db2f011cea0",
       "version_major": 2,
       "version_minor": 0
      },
      "text/plain": [
       "Creating glimpse 150.6.9.ND0003:   0%|          | 0/103 [00:00<?, ?it/s]"
      ]
     },
     "metadata": {},
     "output_type": "display_data"
    },
    {
     "name": "stdout",
     "output_type": "stream",
     "text": [
      "Video 150.6.9.ND0003 saved successfully.\n"
     ]
    },
    {
     "data": {
      "application/vnd.jupyter.widget-view+json": {
       "model_id": "78ef940bc46c4d95b3be0d99a88cf1c2",
       "version_major": 2,
       "version_minor": 0
      },
      "text/plain": [
       "Creating glimpse 141.6.9.ND0003:   0%|          | 0/154 [00:00<?, ?it/s]"
      ]
     },
     "metadata": {},
     "output_type": "display_data"
    },
    {
     "name": "stdout",
     "output_type": "stream",
     "text": [
      "Video 141.6.9.ND0003 saved successfully.\n"
     ]
    },
    {
     "data": {
      "application/vnd.jupyter.widget-view+json": {
       "model_id": "6d4b124bb3c34db6a8bc5ed0ca0e64e9",
       "version_major": 2,
       "version_minor": 0
      },
      "text/plain": [
       "Creating glimpse 156.6.9.ND0003:   0%|          | 0/76 [00:00<?, ?it/s]"
      ]
     },
     "metadata": {},
     "output_type": "display_data"
    },
    {
     "name": "stdout",
     "output_type": "stream",
     "text": [
      "Video 156.6.9.ND0003 saved successfully.\n"
     ]
    },
    {
     "data": {
      "application/vnd.jupyter.widget-view+json": {
       "model_id": "b43d17ecd5d34d518736d9bd35bab82d",
       "version_major": 2,
       "version_minor": 0
      },
      "text/plain": [
       "Creating glimpse 247.6.9.ND0003:   0%|          | 0/154 [00:00<?, ?it/s]"
      ]
     },
     "metadata": {},
     "output_type": "display_data"
    },
    {
     "name": "stdout",
     "output_type": "stream",
     "text": [
      "Video 247.6.9.ND0003 saved successfully.\n"
     ]
    },
    {
     "data": {
      "application/vnd.jupyter.widget-view+json": {
       "model_id": "6d623c67456041188b7ede9298a8eedc",
       "version_major": 2,
       "version_minor": 0
      },
      "text/plain": [
       "Creating glimpse 246.6.9.ND0003:   0%|          | 0/92 [00:00<?, ?it/s]"
      ]
     },
     "metadata": {},
     "output_type": "display_data"
    },
    {
     "name": "stdout",
     "output_type": "stream",
     "text": [
      "Video 246.6.9.ND0003 saved successfully.\n"
     ]
    },
    {
     "data": {
      "application/vnd.jupyter.widget-view+json": {
       "model_id": "034b8f8201e64927b1e4e5f6c09a1f35",
       "version_major": 2,
       "version_minor": 0
      },
      "text/plain": [
       "Creating glimpse 254.6.9.ND0003:   0%|          | 0/153 [00:00<?, ?it/s]"
      ]
     },
     "metadata": {},
     "output_type": "display_data"
    },
    {
     "name": "stdout",
     "output_type": "stream",
     "text": [
      "Video 254.6.9.ND0003 saved successfully.\n"
     ]
    },
    {
     "data": {
      "application/vnd.jupyter.widget-view+json": {
       "model_id": "240c4aee52d34e24b4f1d83483afb1e6",
       "version_major": 2,
       "version_minor": 0
      },
      "text/plain": [
       "Creating glimpse 253.6.9.ND0003:   0%|          | 0/104 [00:00<?, ?it/s]"
      ]
     },
     "metadata": {},
     "output_type": "display_data"
    },
    {
     "name": "stdout",
     "output_type": "stream",
     "text": [
      "Video 253.6.9.ND0003 saved successfully.\n"
     ]
    },
    {
     "data": {
      "application/vnd.jupyter.widget-view+json": {
       "model_id": "d100fb59b072438ca959501bd5268f3f",
       "version_major": 2,
       "version_minor": 0
      },
      "text/plain": [
       "Creating glimpse 252.6.9.ND0003:   0%|          | 0/91 [00:00<?, ?it/s]"
      ]
     },
     "metadata": {},
     "output_type": "display_data"
    },
    {
     "name": "stdout",
     "output_type": "stream",
     "text": [
      "Video 252.6.9.ND0003 saved successfully.\n"
     ]
    },
    {
     "data": {
      "application/vnd.jupyter.widget-view+json": {
       "model_id": "9e0127b818a7407ab068826d36399a31",
       "version_major": 2,
       "version_minor": 0
      },
      "text/plain": [
       "Creating glimpse 211.6.9.ND0003:   0%|          | 0/154 [00:00<?, ?it/s]"
      ]
     },
     "metadata": {},
     "output_type": "display_data"
    },
    {
     "name": "stdout",
     "output_type": "stream",
     "text": [
      "Video 211.6.9.ND0003 saved successfully.\n"
     ]
    },
    {
     "data": {
      "application/vnd.jupyter.widget-view+json": {
       "model_id": "21c51b3b6f4f4b53bf48bfac93dfc794",
       "version_major": 2,
       "version_minor": 0
      },
      "text/plain": [
       "Creating glimpse 208.6.9.ND0003:   0%|          | 0/154 [00:00<?, ?it/s]"
      ]
     },
     "metadata": {},
     "output_type": "display_data"
    },
    {
     "name": "stdout",
     "output_type": "stream",
     "text": [
      "Video 208.6.9.ND0003 saved successfully.\n"
     ]
    },
    {
     "data": {
      "application/vnd.jupyter.widget-view+json": {
       "model_id": "0441716c2fd3493bbf4a0e785211af7f",
       "version_major": 2,
       "version_minor": 0
      },
      "text/plain": [
       "Creating glimpse 207.6.9.ND0003:   0%|          | 0/120 [00:00<?, ?it/s]"
      ]
     },
     "metadata": {},
     "output_type": "display_data"
    },
    {
     "name": "stdout",
     "output_type": "stream",
     "text": [
      "Video 207.6.9.ND0003 saved successfully.\n"
     ]
    },
    {
     "data": {
      "application/vnd.jupyter.widget-view+json": {
       "model_id": "3ad2af9b2de64a04a07bd128938b24cf",
       "version_major": 2,
       "version_minor": 0
      },
      "text/plain": [
       "Creating glimpse 206.6.9.ND0003:   0%|          | 0/126 [00:00<?, ?it/s]"
      ]
     },
     "metadata": {},
     "output_type": "display_data"
    },
    {
     "name": "stdout",
     "output_type": "stream",
     "text": [
      "Video 206.6.9.ND0003 saved successfully.\n"
     ]
    },
    {
     "data": {
      "application/vnd.jupyter.widget-view+json": {
       "model_id": "2207646d3adf4a82b3602347bf99bf3c",
       "version_major": 2,
       "version_minor": 0
      },
      "text/plain": [
       "Creating glimpse 205.6.9.ND0003:   0%|          | 0/154 [00:00<?, ?it/s]"
      ]
     },
     "metadata": {},
     "output_type": "display_data"
    },
    {
     "name": "stdout",
     "output_type": "stream",
     "text": [
      "Video 205.6.9.ND0003 saved successfully.\n"
     ]
    },
    {
     "data": {
      "application/vnd.jupyter.widget-view+json": {
       "model_id": "b3cbcce4a5714720a49a40367aeb0615",
       "version_major": 2,
       "version_minor": 0
      },
      "text/plain": [
       "Creating glimpse 204.6.9.ND0003:   0%|          | 0/154 [00:00<?, ?it/s]"
      ]
     },
     "metadata": {},
     "output_type": "display_data"
    },
    {
     "name": "stdout",
     "output_type": "stream",
     "text": [
      "Video 204.6.9.ND0003 saved successfully.\n"
     ]
    },
    {
     "data": {
      "application/vnd.jupyter.widget-view+json": {
       "model_id": "3c4cf1a606c84e19a9711d0f6dd1a0d6",
       "version_major": 2,
       "version_minor": 0
      },
      "text/plain": [
       "Creating glimpse 225.6.9.ND0003:   0%|          | 0/106 [00:00<?, ?it/s]"
      ]
     },
     "metadata": {},
     "output_type": "display_data"
    },
    {
     "name": "stdout",
     "output_type": "stream",
     "text": [
      "Video 225.6.9.ND0003 saved successfully.\n"
     ]
    },
    {
     "data": {
      "application/vnd.jupyter.widget-view+json": {
       "model_id": "de119b251ee746e2b26665820661c5fa",
       "version_major": 2,
       "version_minor": 0
      },
      "text/plain": [
       "Creating glimpse 227.6.9.ND0003:   0%|          | 0/154 [00:00<?, ?it/s]"
      ]
     },
     "metadata": {},
     "output_type": "display_data"
    },
    {
     "name": "stdout",
     "output_type": "stream",
     "text": [
      "Video 227.6.9.ND0003 saved successfully.\n"
     ]
    },
    {
     "data": {
      "application/vnd.jupyter.widget-view+json": {
       "model_id": "f3a43f98c0e64f80847684769a30310f",
       "version_major": 2,
       "version_minor": 0
      },
      "text/plain": [
       "Creating glimpse 228.6.9.ND0003:   0%|          | 0/70 [00:00<?, ?it/s]"
      ]
     },
     "metadata": {},
     "output_type": "display_data"
    },
    {
     "name": "stdout",
     "output_type": "stream",
     "text": [
      "Video 228.6.9.ND0003 saved successfully.\n"
     ]
    },
    {
     "data": {
      "application/vnd.jupyter.widget-view+json": {
       "model_id": "9b8602d178c748fa9547a8b44742c73f",
       "version_major": 2,
       "version_minor": 0
      },
      "text/plain": [
       "Creating glimpse 37.6.9.ND0003:   0%|          | 0/154 [00:00<?, ?it/s]"
      ]
     },
     "metadata": {},
     "output_type": "display_data"
    },
    {
     "name": "stdout",
     "output_type": "stream",
     "text": [
      "Video 37.6.9.ND0003 saved successfully.\n"
     ]
    },
    {
     "data": {
      "application/vnd.jupyter.widget-view+json": {
       "model_id": "0b703a538ca84751b6957ec5051e6680",
       "version_major": 2,
       "version_minor": 0
      },
      "text/plain": [
       "Creating glimpse 35.6.9.ND0003:   0%|          | 0/121 [00:00<?, ?it/s]"
      ]
     },
     "metadata": {},
     "output_type": "display_data"
    },
    {
     "name": "stdout",
     "output_type": "stream",
     "text": [
      "Video 35.6.9.ND0003 saved successfully.\n"
     ]
    },
    {
     "data": {
      "application/vnd.jupyter.widget-view+json": {
       "model_id": "e7b2049648ed4b4f88541e4939d494db",
       "version_major": 2,
       "version_minor": 0
      },
      "text/plain": [
       "Creating glimpse 55.6.9.ND0003:   0%|          | 0/112 [00:00<?, ?it/s]"
      ]
     },
     "metadata": {},
     "output_type": "display_data"
    },
    {
     "name": "stdout",
     "output_type": "stream",
     "text": [
      "Video 55.6.9.ND0003 saved successfully.\n"
     ]
    },
    {
     "data": {
      "application/vnd.jupyter.widget-view+json": {
       "model_id": "994ed5a43ffa402fa900c7d9c6329904",
       "version_major": 2,
       "version_minor": 0
      },
      "text/plain": [
       "Creating glimpse 63.6.9.ND0003:   0%|          | 0/154 [00:00<?, ?it/s]"
      ]
     },
     "metadata": {},
     "output_type": "display_data"
    },
    {
     "name": "stdout",
     "output_type": "stream",
     "text": [
      "Video 63.6.9.ND0003 saved successfully.\n"
     ]
    },
    {
     "data": {
      "application/vnd.jupyter.widget-view+json": {
       "model_id": "e38e5cc6f5434f58ae5fdb140923e5fb",
       "version_major": 2,
       "version_minor": 0
      },
      "text/plain": [
       "Creating glimpse 10.6.9.ND0003:   0%|          | 0/154 [00:00<?, ?it/s]"
      ]
     },
     "metadata": {},
     "output_type": "display_data"
    },
    {
     "name": "stdout",
     "output_type": "stream",
     "text": [
      "Video 10.6.9.ND0003 saved successfully.\n"
     ]
    },
    {
     "data": {
      "application/vnd.jupyter.widget-view+json": {
       "model_id": "c8dc92ad20af4093a7ffd9d36532e640",
       "version_major": 2,
       "version_minor": 0
      },
      "text/plain": [
       "Creating glimpse 17.6.9.ND0003:   0%|          | 0/136 [00:00<?, ?it/s]"
      ]
     },
     "metadata": {},
     "output_type": "display_data"
    },
    {
     "name": "stdout",
     "output_type": "stream",
     "text": [
      "Video 17.6.9.ND0003 saved successfully.\n"
     ]
    },
    {
     "data": {
      "application/vnd.jupyter.widget-view+json": {
       "model_id": "2bd829a8f3c34626916b11923cfb95fb",
       "version_major": 2,
       "version_minor": 0
      },
      "text/plain": [
       "Creating glimpse 20.6.9.ND0003:   0%|          | 0/131 [00:00<?, ?it/s]"
      ]
     },
     "metadata": {},
     "output_type": "display_data"
    },
    {
     "name": "stdout",
     "output_type": "stream",
     "text": [
      "Video 20.6.9.ND0003 saved successfully.\n"
     ]
    },
    {
     "data": {
      "application/vnd.jupyter.widget-view+json": {
       "model_id": "15da76ee68464ef0aad4b9c2a62f8def",
       "version_major": 2,
       "version_minor": 0
      },
      "text/plain": [
       "Creating glimpse 24.6.9.ND0003:   0%|          | 0/154 [00:00<?, ?it/s]"
      ]
     },
     "metadata": {},
     "output_type": "display_data"
    },
    {
     "name": "stdout",
     "output_type": "stream",
     "text": [
      "Video 24.6.9.ND0003 saved successfully.\n"
     ]
    },
    {
     "data": {
      "application/vnd.jupyter.widget-view+json": {
       "model_id": "93ed3943367545738448c23869239bd9",
       "version_major": 2,
       "version_minor": 0
      },
      "text/plain": [
       "Creating glimpse 25.6.9.ND0003:   0%|          | 0/84 [00:00<?, ?it/s]"
      ]
     },
     "metadata": {},
     "output_type": "display_data"
    },
    {
     "name": "stdout",
     "output_type": "stream",
     "text": [
      "Video 25.6.9.ND0003 saved successfully.\n"
     ]
    },
    {
     "data": {
      "application/vnd.jupyter.widget-view+json": {
       "model_id": "9ca361a86734420a94520d4ee1c00fce",
       "version_major": 2,
       "version_minor": 0
      },
      "text/plain": [
       "Creating glimpse 34.6.9.ND0003:   0%|          | 0/153 [00:00<?, ?it/s]"
      ]
     },
     "metadata": {},
     "output_type": "display_data"
    },
    {
     "name": "stdout",
     "output_type": "stream",
     "text": [
      "Video 34.6.9.ND0003 saved successfully.\n"
     ]
    },
    {
     "data": {
      "application/vnd.jupyter.widget-view+json": {
       "model_id": "d59d40f55f45475cbbedb8d0d4573db1",
       "version_major": 2,
       "version_minor": 0
      },
      "text/plain": [
       "Creating glimpse 111.6.9.ND0003:   0%|          | 0/154 [00:00<?, ?it/s]"
      ]
     },
     "metadata": {},
     "output_type": "display_data"
    },
    {
     "name": "stdout",
     "output_type": "stream",
     "text": [
      "Video 111.6.9.ND0003 saved successfully.\n"
     ]
    },
    {
     "data": {
      "application/vnd.jupyter.widget-view+json": {
       "model_id": "e2a9cbda5d6d4188bd6e5f9626a4e913",
       "version_major": 2,
       "version_minor": 0
      },
      "text/plain": [
       "Creating glimpse 110.6.9.ND0003:   0%|          | 0/154 [00:00<?, ?it/s]"
      ]
     },
     "metadata": {},
     "output_type": "display_data"
    },
    {
     "name": "stdout",
     "output_type": "stream",
     "text": [
      "Video 110.6.9.ND0003 saved successfully.\n"
     ]
    },
    {
     "data": {
      "application/vnd.jupyter.widget-view+json": {
       "model_id": "432494af13cf443994686131fa468ba7",
       "version_major": 2,
       "version_minor": 0
      },
      "text/plain": [
       "Creating glimpse 118.6.9.ND0003:   0%|          | 0/109 [00:00<?, ?it/s]"
      ]
     },
     "metadata": {},
     "output_type": "display_data"
    },
    {
     "name": "stdout",
     "output_type": "stream",
     "text": [
      "Video 118.6.9.ND0003 saved successfully.\n"
     ]
    },
    {
     "data": {
      "application/vnd.jupyter.widget-view+json": {
       "model_id": "3f32dbda77b043ff8e19fff1336aca80",
       "version_major": 2,
       "version_minor": 0
      },
      "text/plain": [
       "Creating glimpse 126.6.9.ND0003:   0%|          | 0/154 [00:00<?, ?it/s]"
      ]
     },
     "metadata": {},
     "output_type": "display_data"
    },
    {
     "name": "stdout",
     "output_type": "stream",
     "text": [
      "Video 126.6.9.ND0003 saved successfully.\n"
     ]
    },
    {
     "data": {
      "application/vnd.jupyter.widget-view+json": {
       "model_id": "630c452922a44afd91444869ee27d35c",
       "version_major": 2,
       "version_minor": 0
      },
      "text/plain": [
       "Creating glimpse 129.6.9.ND0003:   0%|          | 0/152 [00:00<?, ?it/s]"
      ]
     },
     "metadata": {},
     "output_type": "display_data"
    },
    {
     "name": "stdout",
     "output_type": "stream",
     "text": [
      "Video 129.6.9.ND0003 saved successfully.\n"
     ]
    },
    {
     "data": {
      "application/vnd.jupyter.widget-view+json": {
       "model_id": "75b21bd39ec1439ebb42d13697e984fd",
       "version_major": 2,
       "version_minor": 0
      },
      "text/plain": [
       "Creating glimpse 69.6.9.ND0003:   0%|          | 0/154 [00:00<?, ?it/s]"
      ]
     },
     "metadata": {},
     "output_type": "display_data"
    },
    {
     "name": "stdout",
     "output_type": "stream",
     "text": [
      "Video 69.6.9.ND0003 saved successfully.\n"
     ]
    },
    {
     "data": {
      "application/vnd.jupyter.widget-view+json": {
       "model_id": "1189f51e62804344878e44039d145f96",
       "version_major": 2,
       "version_minor": 0
      },
      "text/plain": [
       "Creating glimpse 120.6.9.ND0003:   0%|          | 0/98 [00:00<?, ?it/s]"
      ]
     },
     "metadata": {},
     "output_type": "display_data"
    },
    {
     "name": "stdout",
     "output_type": "stream",
     "text": [
      "Video 120.6.9.ND0003 saved successfully.\n"
     ]
    },
    {
     "data": {
      "application/vnd.jupyter.widget-view+json": {
       "model_id": "23e99c49b6ba447da44ef49b421fba2b",
       "version_major": 2,
       "version_minor": 0
      },
      "text/plain": [
       "Creating glimpse 81.6.9.ND0003:   0%|          | 0/142 [00:00<?, ?it/s]"
      ]
     },
     "metadata": {},
     "output_type": "display_data"
    },
    {
     "name": "stdout",
     "output_type": "stream",
     "text": [
      "Video 81.6.9.ND0003 saved successfully.\n"
     ]
    },
    {
     "data": {
      "application/vnd.jupyter.widget-view+json": {
       "model_id": "767ec6e5ef5a4f27b453a726f9498137",
       "version_major": 2,
       "version_minor": 0
      },
      "text/plain": [
       "Creating glimpse 365.6.9.ND0003:   0%|          | 0/152 [00:00<?, ?it/s]"
      ]
     },
     "metadata": {},
     "output_type": "display_data"
    },
    {
     "name": "stdout",
     "output_type": "stream",
     "text": [
      "Video 365.6.9.ND0003 saved successfully.\n"
     ]
    },
    {
     "data": {
      "application/vnd.jupyter.widget-view+json": {
       "model_id": "3c8ff5a800ce411dbe9d09d067c4924c",
       "version_major": 2,
       "version_minor": 0
      },
      "text/plain": [
       "Creating glimpse 436.6.9.ND0003:   0%|          | 0/82 [00:00<?, ?it/s]"
      ]
     },
     "metadata": {},
     "output_type": "display_data"
    },
    {
     "name": "stdout",
     "output_type": "stream",
     "text": [
      "Video 436.6.9.ND0003 saved successfully.\n"
     ]
    },
    {
     "data": {
      "application/vnd.jupyter.widget-view+json": {
       "model_id": "3e3fc9de7e874a8abc039940531e1e63",
       "version_major": 2,
       "version_minor": 0
      },
      "text/plain": [
       "Creating glimpse 411.6.9.ND0003:   0%|          | 0/148 [00:00<?, ?it/s]"
      ]
     },
     "metadata": {},
     "output_type": "display_data"
    },
    {
     "name": "stdout",
     "output_type": "stream",
     "text": [
      "Video 411.6.9.ND0003 saved successfully.\n"
     ]
    },
    {
     "data": {
      "application/vnd.jupyter.widget-view+json": {
       "model_id": "dabf0ad6f7ca4a839a853039f985cb31",
       "version_major": 2,
       "version_minor": 0
      },
      "text/plain": [
       "Creating glimpse 474.6.9.ND0003:   0%|          | 0/104 [00:00<?, ?it/s]"
      ]
     },
     "metadata": {},
     "output_type": "display_data"
    },
    {
     "name": "stdout",
     "output_type": "stream",
     "text": [
      "Video 474.6.9.ND0003 saved successfully.\n"
     ]
    },
    {
     "data": {
      "application/vnd.jupyter.widget-view+json": {
       "model_id": "acc8bc95772248598b5da47cc456f7c4",
       "version_major": 2,
       "version_minor": 0
      },
      "text/plain": [
       "Creating glimpse 503.6.9.ND0003:   0%|          | 0/81 [00:00<?, ?it/s]"
      ]
     },
     "metadata": {},
     "output_type": "display_data"
    },
    {
     "name": "stdout",
     "output_type": "stream",
     "text": [
      "Video 503.6.9.ND0003 saved successfully.\n"
     ]
    },
    {
     "data": {
      "application/vnd.jupyter.widget-view+json": {
       "model_id": "b3c701ea5db848c9a4b34b5e0df72ba2",
       "version_major": 2,
       "version_minor": 0
      },
      "text/plain": [
       "Creating glimpse 538.6.9.ND0003:   0%|          | 0/147 [00:00<?, ?it/s]"
      ]
     },
     "metadata": {},
     "output_type": "display_data"
    },
    {
     "name": "stdout",
     "output_type": "stream",
     "text": [
      "Video 538.6.9.ND0003 saved successfully.\n"
     ]
    },
    {
     "data": {
      "application/vnd.jupyter.widget-view+json": {
       "model_id": "f866223907ea44369ba64913779e766a",
       "version_major": 2,
       "version_minor": 0
      },
      "text/plain": [
       "Creating glimpse 618.6.9.ND0003:   0%|          | 0/145 [00:00<?, ?it/s]"
      ]
     },
     "metadata": {},
     "output_type": "display_data"
    },
    {
     "name": "stdout",
     "output_type": "stream",
     "text": [
      "Video 618.6.9.ND0003 saved successfully.\n"
     ]
    },
    {
     "data": {
      "application/vnd.jupyter.widget-view+json": {
       "model_id": "3c05e95188634a088c83be0d0cf70214",
       "version_major": 2,
       "version_minor": 0
      },
      "text/plain": [
       "Creating glimpse 606.6.9.ND0003:   0%|          | 0/89 [00:00<?, ?it/s]"
      ]
     },
     "metadata": {},
     "output_type": "display_data"
    },
    {
     "name": "stdout",
     "output_type": "stream",
     "text": [
      "Video 606.6.9.ND0003 saved successfully.\n"
     ]
    },
    {
     "data": {
      "application/vnd.jupyter.widget-view+json": {
       "model_id": "0fe33f3ecaad484eb3dc5da185d1e6b2",
       "version_major": 2,
       "version_minor": 0
      },
      "text/plain": [
       "Creating glimpse 690.6.9.ND0003:   0%|          | 0/99 [00:00<?, ?it/s]"
      ]
     },
     "metadata": {},
     "output_type": "display_data"
    },
    {
     "name": "stdout",
     "output_type": "stream",
     "text": [
      "Video 690.6.9.ND0003 saved successfully.\n"
     ]
    },
    {
     "data": {
      "application/vnd.jupyter.widget-view+json": {
       "model_id": "baa9eb0bce1845f4bd5c227af48c53e8",
       "version_major": 2,
       "version_minor": 0
      },
      "text/plain": [
       "Creating glimpse 691.6.9.ND0003:   0%|          | 0/143 [00:00<?, ?it/s]"
      ]
     },
     "metadata": {},
     "output_type": "display_data"
    },
    {
     "name": "stdout",
     "output_type": "stream",
     "text": [
      "Video 691.6.9.ND0003 saved successfully.\n"
     ]
    },
    {
     "data": {
      "application/vnd.jupyter.widget-view+json": {
       "model_id": "aa04f05807cb47cc9cbecb2b3c729119",
       "version_major": 2,
       "version_minor": 0
      },
      "text/plain": [
       "Creating glimpse 693.6.9.ND0003:   0%|          | 0/143 [00:00<?, ?it/s]"
      ]
     },
     "metadata": {},
     "output_type": "display_data"
    },
    {
     "name": "stdout",
     "output_type": "stream",
     "text": [
      "Video 693.6.9.ND0003 saved successfully.\n"
     ]
    },
    {
     "data": {
      "application/vnd.jupyter.widget-view+json": {
       "model_id": "8b68956174494bb99fca71e97c8fee7b",
       "version_major": 2,
       "version_minor": 0
      },
      "text/plain": [
       "Creating glimpse 729.6.9.ND0003:   0%|          | 0/142 [00:00<?, ?it/s]"
      ]
     },
     "metadata": {},
     "output_type": "display_data"
    },
    {
     "name": "stdout",
     "output_type": "stream",
     "text": [
      "Video 729.6.9.ND0003 saved successfully.\n"
     ]
    },
    {
     "data": {
      "application/vnd.jupyter.widget-view+json": {
       "model_id": "cd7405f6ed7f49f18f1e70a700245f94",
       "version_major": 2,
       "version_minor": 0
      },
      "text/plain": [
       "Creating glimpse 855.6.9.ND0003:   0%|          | 0/137 [00:00<?, ?it/s]"
      ]
     },
     "metadata": {},
     "output_type": "display_data"
    },
    {
     "name": "stdout",
     "output_type": "stream",
     "text": [
      "Video 855.6.9.ND0003 saved successfully.\n"
     ]
    },
    {
     "data": {
      "application/vnd.jupyter.widget-view+json": {
       "model_id": "86f681f7848d4d349e577ada17fafa8b",
       "version_major": 2,
       "version_minor": 0
      },
      "text/plain": [
       "Creating glimpse 912.6.9.ND0003:   0%|          | 0/72 [00:00<?, ?it/s]"
      ]
     },
     "metadata": {},
     "output_type": "display_data"
    },
    {
     "name": "stdout",
     "output_type": "stream",
     "text": [
      "Video 912.6.9.ND0003 saved successfully.\n"
     ]
    },
    {
     "data": {
      "application/vnd.jupyter.widget-view+json": {
       "model_id": "d2936706487d463ab8ca881ce4e1280b",
       "version_major": 2,
       "version_minor": 0
      },
      "text/plain": [
       "Creating glimpse 970.6.9.ND0003:   0%|          | 0/136 [00:00<?, ?it/s]"
      ]
     },
     "metadata": {},
     "output_type": "display_data"
    },
    {
     "name": "stdout",
     "output_type": "stream",
     "text": [
      "Video 970.6.9.ND0003 saved successfully.\n"
     ]
    },
    {
     "data": {
      "application/vnd.jupyter.widget-view+json": {
       "model_id": "fd487313db94448191d4b92660d97e3b",
       "version_major": 2,
       "version_minor": 0
      },
      "text/plain": [
       "Creating glimpse 965.6.9.ND0003:   0%|          | 0/134 [00:00<?, ?it/s]"
      ]
     },
     "metadata": {},
     "output_type": "display_data"
    },
    {
     "name": "stdout",
     "output_type": "stream",
     "text": [
      "Video 965.6.9.ND0003 saved successfully.\n"
     ]
    },
    {
     "data": {
      "application/vnd.jupyter.widget-view+json": {
       "model_id": "8d7c510728fb48988d61bfef2294d8b5",
       "version_major": 2,
       "version_minor": 0
      },
      "text/plain": [
       "Creating glimpse 1018.6.9.ND0003:   0%|          | 0/134 [00:00<?, ?it/s]"
      ]
     },
     "metadata": {},
     "output_type": "display_data"
    },
    {
     "name": "stdout",
     "output_type": "stream",
     "text": [
      "Video 1018.6.9.ND0003 saved successfully.\n"
     ]
    },
    {
     "data": {
      "application/vnd.jupyter.widget-view+json": {
       "model_id": "20189954c7d746529ed34e82b0e6256e",
       "version_major": 2,
       "version_minor": 0
      },
      "text/plain": [
       "Creating glimpse 1050.6.9.ND0003:   0%|          | 0/74 [00:00<?, ?it/s]"
      ]
     },
     "metadata": {},
     "output_type": "display_data"
    },
    {
     "name": "stdout",
     "output_type": "stream",
     "text": [
      "Video 1050.6.9.ND0003 saved successfully.\n"
     ]
    },
    {
     "data": {
      "application/vnd.jupyter.widget-view+json": {
       "model_id": "d646e714f1ee471790956597b53622f4",
       "version_major": 2,
       "version_minor": 0
      },
      "text/plain": [
       "Creating glimpse 1084.6.9.ND0003:   0%|          | 0/132 [00:00<?, ?it/s]"
      ]
     },
     "metadata": {},
     "output_type": "display_data"
    },
    {
     "name": "stdout",
     "output_type": "stream",
     "text": [
      "Video 1084.6.9.ND0003 saved successfully.\n"
     ]
    },
    {
     "data": {
      "application/vnd.jupyter.widget-view+json": {
       "model_id": "47c4228228734b5790fecdc990ee505e",
       "version_major": 2,
       "version_minor": 0
      },
      "text/plain": [
       "Creating glimpse 1094.6.9.ND0003:   0%|          | 0/98 [00:00<?, ?it/s]"
      ]
     },
     "metadata": {},
     "output_type": "display_data"
    },
    {
     "name": "stdout",
     "output_type": "stream",
     "text": [
      "Video 1094.6.9.ND0003 saved successfully.\n"
     ]
    },
    {
     "data": {
      "application/vnd.jupyter.widget-view+json": {
       "model_id": "22071acbac4642979a2d4951992e6054",
       "version_major": 2,
       "version_minor": 0
      },
      "text/plain": [
       "Creating glimpse 1099.6.9.ND0003:   0%|          | 0/95 [00:00<?, ?it/s]"
      ]
     },
     "metadata": {},
     "output_type": "display_data"
    },
    {
     "name": "stdout",
     "output_type": "stream",
     "text": [
      "Video 1099.6.9.ND0003 saved successfully.\n"
     ]
    },
    {
     "data": {
      "application/vnd.jupyter.widget-view+json": {
       "model_id": "0f2ca253a4e1411b90c3b19984190020",
       "version_major": 2,
       "version_minor": 0
      },
      "text/plain": [
       "Creating glimpse 1063.6.9.ND0003:   0%|          | 0/103 [00:00<?, ?it/s]"
      ]
     },
     "metadata": {},
     "output_type": "display_data"
    },
    {
     "name": "stdout",
     "output_type": "stream",
     "text": [
      "Video 1063.6.9.ND0003 saved successfully.\n"
     ]
    },
    {
     "data": {
      "application/vnd.jupyter.widget-view+json": {
       "model_id": "af5b9d27e37546c29e21b8596b2b6ac0",
       "version_major": 2,
       "version_minor": 0
      },
      "text/plain": [
       "Creating glimpse 1168.6.9.ND0003:   0%|          | 0/75 [00:00<?, ?it/s]"
      ]
     },
     "metadata": {},
     "output_type": "display_data"
    },
    {
     "name": "stdout",
     "output_type": "stream",
     "text": [
      "Video 1168.6.9.ND0003 saved successfully.\n"
     ]
    },
    {
     "data": {
      "application/vnd.jupyter.widget-view+json": {
       "model_id": "43844b7fc20d4a58991edd2f1f193a67",
       "version_major": 2,
       "version_minor": 0
      },
      "text/plain": [
       "Creating glimpse 1225.6.9.ND0003:   0%|          | 0/70 [00:00<?, ?it/s]"
      ]
     },
     "metadata": {},
     "output_type": "display_data"
    },
    {
     "name": "stdout",
     "output_type": "stream",
     "text": [
      "Video 1225.6.9.ND0003 saved successfully.\n"
     ]
    },
    {
     "data": {
      "application/vnd.jupyter.widget-view+json": {
       "model_id": "c4efff6707904ec2b370c081eb5906f9",
       "version_major": 2,
       "version_minor": 0
      },
      "text/plain": [
       "Creating glimpse 1251.6.9.ND0003:   0%|          | 0/127 [00:00<?, ?it/s]"
      ]
     },
     "metadata": {},
     "output_type": "display_data"
    },
    {
     "name": "stdout",
     "output_type": "stream",
     "text": [
      "Video 1251.6.9.ND0003 saved successfully.\n"
     ]
    },
    {
     "data": {
      "application/vnd.jupyter.widget-view+json": {
       "model_id": "f0ab9e87061b41f3b60a64f032ed4a93",
       "version_major": 2,
       "version_minor": 0
      },
      "text/plain": [
       "Creating glimpse 1311.6.9.ND0003:   0%|          | 0/118 [00:00<?, ?it/s]"
      ]
     },
     "metadata": {},
     "output_type": "display_data"
    },
    {
     "name": "stdout",
     "output_type": "stream",
     "text": [
      "Video 1311.6.9.ND0003 saved successfully.\n"
     ]
    },
    {
     "data": {
      "application/vnd.jupyter.widget-view+json": {
       "model_id": "81970b5a612e43b4a06afb9c723ab581",
       "version_major": 2,
       "version_minor": 0
      },
      "text/plain": [
       "Creating glimpse 1345.6.9.ND0003:   0%|          | 0/125 [00:00<?, ?it/s]"
      ]
     },
     "metadata": {},
     "output_type": "display_data"
    },
    {
     "name": "stdout",
     "output_type": "stream",
     "text": [
      "Video 1345.6.9.ND0003 saved successfully.\n"
     ]
    },
    {
     "data": {
      "application/vnd.jupyter.widget-view+json": {
       "model_id": "b76daa5e7acb40678b61afc642af3e12",
       "version_major": 2,
       "version_minor": 0
      },
      "text/plain": [
       "Creating glimpse 1417.6.9.ND0003:   0%|          | 0/122 [00:00<?, ?it/s]"
      ]
     },
     "metadata": {},
     "output_type": "display_data"
    },
    {
     "name": "stdout",
     "output_type": "stream",
     "text": [
      "Video 1417.6.9.ND0003 saved successfully.\n"
     ]
    },
    {
     "data": {
      "application/vnd.jupyter.widget-view+json": {
       "model_id": "78002a119ccd4ad38840c1df0fbe94d2",
       "version_major": 2,
       "version_minor": 0
      },
      "text/plain": [
       "Creating glimpse 1433.6.9.ND0003:   0%|          | 0/121 [00:00<?, ?it/s]"
      ]
     },
     "metadata": {},
     "output_type": "display_data"
    },
    {
     "name": "stdout",
     "output_type": "stream",
     "text": [
      "Video 1433.6.9.ND0003 saved successfully.\n"
     ]
    },
    {
     "data": {
      "application/vnd.jupyter.widget-view+json": {
       "model_id": "fb4a56e6d0b74e3797f3b7a9c195c1d5",
       "version_major": 2,
       "version_minor": 0
      },
      "text/plain": [
       "Creating glimpse 1511.6.9.ND0003:   0%|          | 0/102 [00:00<?, ?it/s]"
      ]
     },
     "metadata": {},
     "output_type": "display_data"
    },
    {
     "name": "stdout",
     "output_type": "stream",
     "text": [
      "Video 1511.6.9.ND0003 saved successfully.\n"
     ]
    },
    {
     "data": {
      "application/vnd.jupyter.widget-view+json": {
       "model_id": "adc461ca817e444d91044db14fd3944f",
       "version_major": 2,
       "version_minor": 0
      },
      "text/plain": [
       "Creating glimpse 1523.6.9.ND0003:   0%|          | 0/118 [00:00<?, ?it/s]"
      ]
     },
     "metadata": {},
     "output_type": "display_data"
    },
    {
     "name": "stdout",
     "output_type": "stream",
     "text": [
      "Video 1523.6.9.ND0003 saved successfully.\n"
     ]
    },
    {
     "data": {
      "application/vnd.jupyter.widget-view+json": {
       "model_id": "4c668519b5ca40daa1a86cf313c6d9ac",
       "version_major": 2,
       "version_minor": 0
      },
      "text/plain": [
       "Creating glimpse 1562.6.9.ND0003:   0%|          | 0/117 [00:00<?, ?it/s]"
      ]
     },
     "metadata": {},
     "output_type": "display_data"
    },
    {
     "name": "stdout",
     "output_type": "stream",
     "text": [
      "Video 1562.6.9.ND0003 saved successfully.\n"
     ]
    },
    {
     "data": {
      "application/vnd.jupyter.widget-view+json": {
       "model_id": "982fbc61206a4083a3d04b494af14abd",
       "version_major": 2,
       "version_minor": 0
      },
      "text/plain": [
       "Creating glimpse 1571.6.9.ND0003:   0%|          | 0/82 [00:00<?, ?it/s]"
      ]
     },
     "metadata": {},
     "output_type": "display_data"
    },
    {
     "name": "stdout",
     "output_type": "stream",
     "text": [
      "Video 1571.6.9.ND0003 saved successfully.\n"
     ]
    },
    {
     "data": {
      "application/vnd.jupyter.widget-view+json": {
       "model_id": "7d7b6156d08049f1b57e493418607608",
       "version_major": 2,
       "version_minor": 0
      },
      "text/plain": [
       "Creating glimpse 1604.6.9.ND0003:   0%|          | 0/74 [00:00<?, ?it/s]"
      ]
     },
     "metadata": {},
     "output_type": "display_data"
    },
    {
     "name": "stdout",
     "output_type": "stream",
     "text": [
      "Video 1604.6.9.ND0003 saved successfully.\n"
     ]
    },
    {
     "data": {
      "application/vnd.jupyter.widget-view+json": {
       "model_id": "6ccd5120d4a34b16b64faa6d89bb805e",
       "version_major": 2,
       "version_minor": 0
      },
      "text/plain": [
       "Creating glimpse 1636.6.9.ND0003:   0%|          | 0/114 [00:00<?, ?it/s]"
      ]
     },
     "metadata": {},
     "output_type": "display_data"
    },
    {
     "name": "stdout",
     "output_type": "stream",
     "text": [
      "Video 1636.6.9.ND0003 saved successfully.\n"
     ]
    },
    {
     "data": {
      "application/vnd.jupyter.widget-view+json": {
       "model_id": "4e68890883b74589925c9286865eb980",
       "version_major": 2,
       "version_minor": 0
      },
      "text/plain": [
       "Creating glimpse 1638.6.9.ND0003:   0%|          | 0/82 [00:00<?, ?it/s]"
      ]
     },
     "metadata": {},
     "output_type": "display_data"
    },
    {
     "name": "stdout",
     "output_type": "stream",
     "text": [
      "Video 1638.6.9.ND0003 saved successfully.\n"
     ]
    },
    {
     "data": {
      "application/vnd.jupyter.widget-view+json": {
       "model_id": "7eb6646b567f42fd85bd534520390354",
       "version_major": 2,
       "version_minor": 0
      },
      "text/plain": [
       "Creating glimpse 1652.6.9.ND0003:   0%|          | 0/113 [00:00<?, ?it/s]"
      ]
     },
     "metadata": {},
     "output_type": "display_data"
    },
    {
     "name": "stdout",
     "output_type": "stream",
     "text": [
      "Video 1652.6.9.ND0003 saved successfully.\n"
     ]
    },
    {
     "data": {
      "application/vnd.jupyter.widget-view+json": {
       "model_id": "f36d0bc3c21d416bb80c86854acb3b94",
       "version_major": 2,
       "version_minor": 0
      },
      "text/plain": [
       "Creating glimpse 1743.6.9.ND0003:   0%|          | 0/109 [00:00<?, ?it/s]"
      ]
     },
     "metadata": {},
     "output_type": "display_data"
    },
    {
     "name": "stdout",
     "output_type": "stream",
     "text": [
      "Video 1743.6.9.ND0003 saved successfully.\n"
     ]
    },
    {
     "data": {
      "application/vnd.jupyter.widget-view+json": {
       "model_id": "526f7b8ad8b94acc8c82b179416df445",
       "version_major": 2,
       "version_minor": 0
      },
      "text/plain": [
       "Creating glimpse 1741.6.9.ND0003:   0%|          | 0/110 [00:00<?, ?it/s]"
      ]
     },
     "metadata": {},
     "output_type": "display_data"
    },
    {
     "name": "stdout",
     "output_type": "stream",
     "text": [
      "Video 1741.6.9.ND0003 saved successfully.\n"
     ]
    },
    {
     "data": {
      "application/vnd.jupyter.widget-view+json": {
       "model_id": "2919a9cb8d3a4a9dacf50a798c0e423b",
       "version_major": 2,
       "version_minor": 0
      },
      "text/plain": [
       "Creating glimpse 1753.6.9.ND0003:   0%|          | 0/110 [00:00<?, ?it/s]"
      ]
     },
     "metadata": {},
     "output_type": "display_data"
    },
    {
     "name": "stdout",
     "output_type": "stream",
     "text": [
      "Video 1753.6.9.ND0003 saved successfully.\n"
     ]
    },
    {
     "data": {
      "application/vnd.jupyter.widget-view+json": {
       "model_id": "ec99ba6ce39a454c935d54438c54c759",
       "version_major": 2,
       "version_minor": 0
      },
      "text/plain": [
       "Creating glimpse 1809.6.9.ND0003:   0%|          | 0/107 [00:00<?, ?it/s]"
      ]
     },
     "metadata": {},
     "output_type": "display_data"
    },
    {
     "name": "stdout",
     "output_type": "stream",
     "text": [
      "Video 1809.6.9.ND0003 saved successfully.\n"
     ]
    },
    {
     "data": {
      "application/vnd.jupyter.widget-view+json": {
       "model_id": "c03f013b885f4beea40fb4847154db53",
       "version_major": 2,
       "version_minor": 0
      },
      "text/plain": [
       "Creating glimpse 1816.6.9.ND0003:   0%|          | 0/107 [00:00<?, ?it/s]"
      ]
     },
     "metadata": {},
     "output_type": "display_data"
    },
    {
     "name": "stdout",
     "output_type": "stream",
     "text": [
      "Video 1816.6.9.ND0003 saved successfully.\n"
     ]
    },
    {
     "data": {
      "application/vnd.jupyter.widget-view+json": {
       "model_id": "ef9ef2861c634f81ae8eb299812e02cc",
       "version_major": 2,
       "version_minor": 0
      },
      "text/plain": [
       "Creating glimpse 1847.6.9.ND0003:   0%|          | 0/106 [00:00<?, ?it/s]"
      ]
     },
     "metadata": {},
     "output_type": "display_data"
    },
    {
     "name": "stdout",
     "output_type": "stream",
     "text": [
      "Video 1847.6.9.ND0003 saved successfully.\n"
     ]
    },
    {
     "data": {
      "application/vnd.jupyter.widget-view+json": {
       "model_id": "04cf658d18184308be87e41d30b71663",
       "version_major": 2,
       "version_minor": 0
      },
      "text/plain": [
       "Creating glimpse 1844.6.9.ND0003:   0%|          | 0/106 [00:00<?, ?it/s]"
      ]
     },
     "metadata": {},
     "output_type": "display_data"
    },
    {
     "name": "stdout",
     "output_type": "stream",
     "text": [
      "Video 1844.6.9.ND0003 saved successfully.\n"
     ]
    },
    {
     "data": {
      "application/vnd.jupyter.widget-view+json": {
       "model_id": "8f7e7546329f48cda3b46c06ca7d0307",
       "version_major": 2,
       "version_minor": 0
      },
      "text/plain": [
       "Creating glimpse 1842.6.9.ND0003:   0%|          | 0/96 [00:00<?, ?it/s]"
      ]
     },
     "metadata": {},
     "output_type": "display_data"
    },
    {
     "name": "stdout",
     "output_type": "stream",
     "text": [
      "Video 1842.6.9.ND0003 saved successfully.\n"
     ]
    },
    {
     "data": {
      "application/vnd.jupyter.widget-view+json": {
       "model_id": "91086de9abb342a1b1916f2c2f16f3e8",
       "version_major": 2,
       "version_minor": 0
      },
      "text/plain": [
       "Creating glimpse 1858.6.9.ND0003:   0%|          | 0/105 [00:00<?, ?it/s]"
      ]
     },
     "metadata": {},
     "output_type": "display_data"
    },
    {
     "name": "stdout",
     "output_type": "stream",
     "text": [
      "Video 1858.6.9.ND0003 saved successfully.\n"
     ]
    },
    {
     "data": {
      "application/vnd.jupyter.widget-view+json": {
       "model_id": "d2452682d7724f9292f484416a3ac98a",
       "version_major": 2,
       "version_minor": 0
      },
      "text/plain": [
       "Creating glimpse 1900.6.9.ND0003:   0%|          | 0/103 [00:00<?, ?it/s]"
      ]
     },
     "metadata": {},
     "output_type": "display_data"
    },
    {
     "name": "stdout",
     "output_type": "stream",
     "text": [
      "Video 1900.6.9.ND0003 saved successfully.\n"
     ]
    },
    {
     "data": {
      "application/vnd.jupyter.widget-view+json": {
       "model_id": "d412b2b18b944b10aae573bad5b0f89f",
       "version_major": 2,
       "version_minor": 0
      },
      "text/plain": [
       "Creating glimpse 1909.6.9.ND0003:   0%|          | 0/103 [00:00<?, ?it/s]"
      ]
     },
     "metadata": {},
     "output_type": "display_data"
    },
    {
     "name": "stdout",
     "output_type": "stream",
     "text": [
      "Video 1909.6.9.ND0003 saved successfully.\n"
     ]
    },
    {
     "data": {
      "application/vnd.jupyter.widget-view+json": {
       "model_id": "a8a15533d2694613844ec9f55c011027",
       "version_major": 2,
       "version_minor": 0
      },
      "text/plain": [
       "Creating glimpse 1960.6.9.ND0003:   0%|          | 0/73 [00:00<?, ?it/s]"
      ]
     },
     "metadata": {},
     "output_type": "display_data"
    },
    {
     "name": "stdout",
     "output_type": "stream",
     "text": [
      "Video 1960.6.9.ND0003 saved successfully.\n"
     ]
    },
    {
     "data": {
      "application/vnd.jupyter.widget-view+json": {
       "model_id": "ca6eabd82a0c49529b535b2827b65318",
       "version_major": 2,
       "version_minor": 0
      },
      "text/plain": [
       "Creating glimpse 1992.6.9.ND0003:   0%|          | 0/99 [00:00<?, ?it/s]"
      ]
     },
     "metadata": {},
     "output_type": "display_data"
    },
    {
     "name": "stdout",
     "output_type": "stream",
     "text": [
      "Video 1992.6.9.ND0003 saved successfully.\n"
     ]
    },
    {
     "data": {
      "application/vnd.jupyter.widget-view+json": {
       "model_id": "6e85923e5ba842bcab92a402301922a8",
       "version_major": 2,
       "version_minor": 0
      },
      "text/plain": [
       "Creating glimpse 1998.6.9.ND0003:   0%|          | 0/99 [00:00<?, ?it/s]"
      ]
     },
     "metadata": {},
     "output_type": "display_data"
    },
    {
     "name": "stdout",
     "output_type": "stream",
     "text": [
      "Video 1998.6.9.ND0003 saved successfully.\n"
     ]
    },
    {
     "data": {
      "application/vnd.jupyter.widget-view+json": {
       "model_id": "74b9f4082c144dfdb4d2fecbc315aac0",
       "version_major": 2,
       "version_minor": 0
      },
      "text/plain": [
       "Creating glimpse 1989.6.9.ND0003:   0%|          | 0/99 [00:00<?, ?it/s]"
      ]
     },
     "metadata": {},
     "output_type": "display_data"
    },
    {
     "name": "stdout",
     "output_type": "stream",
     "text": [
      "Video 1989.6.9.ND0003 saved successfully.\n"
     ]
    },
    {
     "data": {
      "application/vnd.jupyter.widget-view+json": {
       "model_id": "0f4478c2e2004b1c863aaab423e3e8a4",
       "version_major": 2,
       "version_minor": 0
      },
      "text/plain": [
       "Creating glimpse 2021.6.9.ND0003:   0%|          | 0/93 [00:00<?, ?it/s]"
      ]
     },
     "metadata": {},
     "output_type": "display_data"
    },
    {
     "name": "stdout",
     "output_type": "stream",
     "text": [
      "Video 2021.6.9.ND0003 saved successfully.\n"
     ]
    },
    {
     "data": {
      "application/vnd.jupyter.widget-view+json": {
       "model_id": "7db3a59d90b74186a58b02fd0730a7da",
       "version_major": 2,
       "version_minor": 0
      },
      "text/plain": [
       "Creating glimpse 2077.6.9.ND0003:   0%|          | 0/96 [00:00<?, ?it/s]"
      ]
     },
     "metadata": {},
     "output_type": "display_data"
    },
    {
     "name": "stdout",
     "output_type": "stream",
     "text": [
      "Video 2077.6.9.ND0003 saved successfully.\n"
     ]
    },
    {
     "data": {
      "application/vnd.jupyter.widget-view+json": {
       "model_id": "77acfcc662644c8bbc551ec99cfc51e3",
       "version_major": 2,
       "version_minor": 0
      },
      "text/plain": [
       "Creating glimpse 2075.6.9.ND0003:   0%|          | 0/96 [00:00<?, ?it/s]"
      ]
     },
     "metadata": {},
     "output_type": "display_data"
    },
    {
     "name": "stdout",
     "output_type": "stream",
     "text": [
      "Video 2075.6.9.ND0003 saved successfully.\n"
     ]
    },
    {
     "data": {
      "application/vnd.jupyter.widget-view+json": {
       "model_id": "6e27b3aeabfa46e391ae893f9d6be5e6",
       "version_major": 2,
       "version_minor": 0
      },
      "text/plain": [
       "Creating glimpse 2072.6.9.ND0003:   0%|          | 0/96 [00:00<?, ?it/s]"
      ]
     },
     "metadata": {},
     "output_type": "display_data"
    },
    {
     "name": "stdout",
     "output_type": "stream",
     "text": [
      "Video 2072.6.9.ND0003 saved successfully.\n"
     ]
    },
    {
     "data": {
      "application/vnd.jupyter.widget-view+json": {
       "model_id": "9114fc7c336044a784aaf3bf63773d86",
       "version_major": 2,
       "version_minor": 0
      },
      "text/plain": [
       "Creating glimpse 2116.6.9.ND0003:   0%|          | 0/94 [00:00<?, ?it/s]"
      ]
     },
     "metadata": {},
     "output_type": "display_data"
    },
    {
     "name": "stdout",
     "output_type": "stream",
     "text": [
      "Video 2116.6.9.ND0003 saved successfully.\n"
     ]
    },
    {
     "data": {
      "application/vnd.jupyter.widget-view+json": {
       "model_id": "30aac271df6042a09601902c981517a7",
       "version_major": 2,
       "version_minor": 0
      },
      "text/plain": [
       "Creating glimpse 2145.6.9.ND0003:   0%|          | 0/92 [00:00<?, ?it/s]"
      ]
     },
     "metadata": {},
     "output_type": "display_data"
    },
    {
     "name": "stdout",
     "output_type": "stream",
     "text": [
      "Video 2145.6.9.ND0003 saved successfully.\n"
     ]
    },
    {
     "data": {
      "application/vnd.jupyter.widget-view+json": {
       "model_id": "d3a2573d4db74025b8bb1892214e4828",
       "version_major": 2,
       "version_minor": 0
      },
      "text/plain": [
       "Creating glimpse 2182.6.9.ND0003:   0%|          | 0/91 [00:00<?, ?it/s]"
      ]
     },
     "metadata": {},
     "output_type": "display_data"
    },
    {
     "name": "stdout",
     "output_type": "stream",
     "text": [
      "Video 2182.6.9.ND0003 saved successfully.\n"
     ]
    },
    {
     "data": {
      "application/vnd.jupyter.widget-view+json": {
       "model_id": "dd85605d9202433eb9d3e4b612bf1671",
       "version_major": 2,
       "version_minor": 0
      },
      "text/plain": [
       "Creating glimpse 2158.6.9.ND0003:   0%|          | 0/91 [00:00<?, ?it/s]"
      ]
     },
     "metadata": {},
     "output_type": "display_data"
    },
    {
     "name": "stdout",
     "output_type": "stream",
     "text": [
      "Video 2158.6.9.ND0003 saved successfully.\n"
     ]
    },
    {
     "data": {
      "application/vnd.jupyter.widget-view+json": {
       "model_id": "8afd56ab242c441995abf9847ea9fd83",
       "version_major": 2,
       "version_minor": 0
      },
      "text/plain": [
       "Creating glimpse 2193.6.9.ND0003:   0%|          | 0/90 [00:00<?, ?it/s]"
      ]
     },
     "metadata": {},
     "output_type": "display_data"
    },
    {
     "name": "stdout",
     "output_type": "stream",
     "text": [
      "Video 2193.6.9.ND0003 saved successfully.\n"
     ]
    },
    {
     "data": {
      "application/vnd.jupyter.widget-view+json": {
       "model_id": "e9fd0bb88cb7477b9e0eab170c9c7399",
       "version_major": 2,
       "version_minor": 0
      },
      "text/plain": [
       "Creating glimpse 2213.6.9.ND0003:   0%|          | 0/89 [00:00<?, ?it/s]"
      ]
     },
     "metadata": {},
     "output_type": "display_data"
    },
    {
     "name": "stdout",
     "output_type": "stream",
     "text": [
      "Video 2213.6.9.ND0003 saved successfully.\n"
     ]
    },
    {
     "data": {
      "application/vnd.jupyter.widget-view+json": {
       "model_id": "7e89e85a215b41db830741d69d67843a",
       "version_major": 2,
       "version_minor": 0
      },
      "text/plain": [
       "Creating glimpse 2251.6.9.ND0003:   0%|          | 0/88 [00:00<?, ?it/s]"
      ]
     },
     "metadata": {},
     "output_type": "display_data"
    },
    {
     "name": "stdout",
     "output_type": "stream",
     "text": [
      "Video 2251.6.9.ND0003 saved successfully.\n"
     ]
    },
    {
     "data": {
      "application/vnd.jupyter.widget-view+json": {
       "model_id": "9103b16ba413409c82e5525e7b8e7de4",
       "version_major": 2,
       "version_minor": 0
      },
      "text/plain": [
       "Creating glimpse 2256.6.9.ND0003:   0%|          | 0/87 [00:00<?, ?it/s]"
      ]
     },
     "metadata": {},
     "output_type": "display_data"
    },
    {
     "name": "stdout",
     "output_type": "stream",
     "text": [
      "Video 2256.6.9.ND0003 saved successfully.\n"
     ]
    },
    {
     "data": {
      "application/vnd.jupyter.widget-view+json": {
       "model_id": "a5a874a227f04db3ab63eb3a293432e0",
       "version_major": 2,
       "version_minor": 0
      },
      "text/plain": [
       "Creating glimpse 2290.6.9.ND0003:   0%|          | 0/86 [00:00<?, ?it/s]"
      ]
     },
     "metadata": {},
     "output_type": "display_data"
    },
    {
     "name": "stdout",
     "output_type": "stream",
     "text": [
      "Video 2290.6.9.ND0003 saved successfully.\n"
     ]
    },
    {
     "data": {
      "application/vnd.jupyter.widget-view+json": {
       "model_id": "63a99fb264ee48ba881ebec9250e65b8",
       "version_major": 2,
       "version_minor": 0
      },
      "text/plain": [
       "Creating glimpse 2366.6.9.ND0003:   0%|          | 0/82 [00:00<?, ?it/s]"
      ]
     },
     "metadata": {},
     "output_type": "display_data"
    },
    {
     "name": "stdout",
     "output_type": "stream",
     "text": [
      "Video 2366.6.9.ND0003 saved successfully.\n"
     ]
    },
    {
     "data": {
      "application/vnd.jupyter.widget-view+json": {
       "model_id": "5ff8e452a9bb44da851e04646c5482f7",
       "version_major": 2,
       "version_minor": 0
      },
      "text/plain": [
       "Creating glimpse 2380.6.9.ND0003:   0%|          | 0/80 [00:00<?, ?it/s]"
      ]
     },
     "metadata": {},
     "output_type": "display_data"
    },
    {
     "name": "stdout",
     "output_type": "stream",
     "text": [
      "Video 2380.6.9.ND0003 saved successfully.\n"
     ]
    },
    {
     "data": {
      "application/vnd.jupyter.widget-view+json": {
       "model_id": "06b1440e6c554dad9a7fc28bdf2819c7",
       "version_major": 2,
       "version_minor": 0
      },
      "text/plain": [
       "Creating glimpse 2415.6.9.ND0003:   0%|          | 0/79 [00:00<?, ?it/s]"
      ]
     },
     "metadata": {},
     "output_type": "display_data"
    },
    {
     "name": "stdout",
     "output_type": "stream",
     "text": [
      "Video 2415.6.9.ND0003 saved successfully.\n"
     ]
    },
    {
     "data": {
      "application/vnd.jupyter.widget-view+json": {
       "model_id": "be25ec53786f4a8eabd45d468c4d2dc7",
       "version_major": 2,
       "version_minor": 0
      },
      "text/plain": [
       "Creating glimpse 2428.6.9.ND0003:   0%|          | 0/78 [00:00<?, ?it/s]"
      ]
     },
     "metadata": {},
     "output_type": "display_data"
    },
    {
     "name": "stdout",
     "output_type": "stream",
     "text": [
      "Video 2428.6.9.ND0003 saved successfully.\n"
     ]
    },
    {
     "data": {
      "application/vnd.jupyter.widget-view+json": {
       "model_id": "28d4fd9d9d7e4d1eb30d55dc3dc23541",
       "version_major": 2,
       "version_minor": 0
      },
      "text/plain": [
       "Creating glimpse 2423.6.9.ND0003:   0%|          | 0/78 [00:00<?, ?it/s]"
      ]
     },
     "metadata": {},
     "output_type": "display_data"
    },
    {
     "name": "stdout",
     "output_type": "stream",
     "text": [
      "Video 2423.6.9.ND0003 saved successfully.\n"
     ]
    },
    {
     "data": {
      "application/vnd.jupyter.widget-view+json": {
       "model_id": "6c279ce0c72143819fa7ea14e5cf4567",
       "version_major": 2,
       "version_minor": 0
      },
      "text/plain": [
       "Creating glimpse 2454.6.9.ND0003:   0%|          | 0/77 [00:00<?, ?it/s]"
      ]
     },
     "metadata": {},
     "output_type": "display_data"
    },
    {
     "name": "stdout",
     "output_type": "stream",
     "text": [
      "Video 2454.6.9.ND0003 saved successfully.\n"
     ]
    },
    {
     "data": {
      "application/vnd.jupyter.widget-view+json": {
       "model_id": "69fe23e3243942c4b9e9a85eb3203113",
       "version_major": 2,
       "version_minor": 0
      },
      "text/plain": [
       "Creating glimpse 2444.6.9.ND0003:   0%|          | 0/77 [00:00<?, ?it/s]"
      ]
     },
     "metadata": {},
     "output_type": "display_data"
    },
    {
     "name": "stdout",
     "output_type": "stream",
     "text": [
      "Video 2444.6.9.ND0003 saved successfully.\n"
     ]
    },
    {
     "data": {
      "application/vnd.jupyter.widget-view+json": {
       "model_id": "61929b92406c41398562ee8027b4df8f",
       "version_major": 2,
       "version_minor": 0
      },
      "text/plain": [
       "Creating glimpse 2480.6.9.ND0003:   0%|          | 0/76 [00:00<?, ?it/s]"
      ]
     },
     "metadata": {},
     "output_type": "display_data"
    },
    {
     "name": "stdout",
     "output_type": "stream",
     "text": [
      "Video 2480.6.9.ND0003 saved successfully.\n"
     ]
    },
    {
     "data": {
      "application/vnd.jupyter.widget-view+json": {
       "model_id": "aa10c26f5a1c409c879518e5a8d41c2a",
       "version_major": 2,
       "version_minor": 0
      },
      "text/plain": [
       "Creating glimpse 2462.6.9.ND0003:   0%|          | 0/76 [00:00<?, ?it/s]"
      ]
     },
     "metadata": {},
     "output_type": "display_data"
    },
    {
     "name": "stdout",
     "output_type": "stream",
     "text": [
      "Video 2462.6.9.ND0003 saved successfully.\n"
     ]
    },
    {
     "data": {
      "application/vnd.jupyter.widget-view+json": {
       "model_id": "d13ec689f3d44b33b6eac7d05ebc88d2",
       "version_major": 2,
       "version_minor": 0
      },
      "text/plain": [
       "Creating glimpse 2471.6.9.ND0003:   0%|          | 0/76 [00:00<?, ?it/s]"
      ]
     },
     "metadata": {},
     "output_type": "display_data"
    },
    {
     "name": "stdout",
     "output_type": "stream",
     "text": [
      "Video 2471.6.9.ND0003 saved successfully.\n"
     ]
    },
    {
     "data": {
      "application/vnd.jupyter.widget-view+json": {
       "model_id": "1cee0adf80614616ab77a2dfaed693ce",
       "version_major": 2,
       "version_minor": 0
      },
      "text/plain": [
       "Creating glimpse 2472.6.9.ND0003:   0%|          | 0/76 [00:00<?, ?it/s]"
      ]
     },
     "metadata": {},
     "output_type": "display_data"
    },
    {
     "name": "stdout",
     "output_type": "stream",
     "text": [
      "Video 2472.6.9.ND0003 saved successfully.\n"
     ]
    },
    {
     "data": {
      "application/vnd.jupyter.widget-view+json": {
       "model_id": "7e1611e3b00f43dd8ab8f0e1807a37ac",
       "version_major": 2,
       "version_minor": 0
      },
      "text/plain": [
       "Creating glimpse 2493.6.9.ND0003:   0%|          | 0/75 [00:00<?, ?it/s]"
      ]
     },
     "metadata": {},
     "output_type": "display_data"
    },
    {
     "name": "stdout",
     "output_type": "stream",
     "text": [
      "Video 2493.6.9.ND0003 saved successfully.\n"
     ]
    },
    {
     "data": {
      "application/vnd.jupyter.widget-view+json": {
       "model_id": "d00cc045a57744c4ab4249ec75cf43e4",
       "version_major": 2,
       "version_minor": 0
      },
      "text/plain": [
       "Creating glimpse 2491.6.9.ND0003:   0%|          | 0/74 [00:00<?, ?it/s]"
      ]
     },
     "metadata": {},
     "output_type": "display_data"
    },
    {
     "name": "stdout",
     "output_type": "stream",
     "text": [
      "Video 2491.6.9.ND0003 saved successfully.\n"
     ]
    },
    {
     "data": {
      "application/vnd.jupyter.widget-view+json": {
       "model_id": "a7d04e1b1e4a4e218b6a12ac250b7d26",
       "version_major": 2,
       "version_minor": 0
      },
      "text/plain": [
       "Creating glimpse 2547.6.9.ND0003:   0%|          | 0/72 [00:00<?, ?it/s]"
      ]
     },
     "metadata": {},
     "output_type": "display_data"
    },
    {
     "name": "stdout",
     "output_type": "stream",
     "text": [
      "Video 2547.6.9.ND0003 saved successfully.\n"
     ]
    },
    {
     "data": {
      "application/vnd.jupyter.widget-view+json": {
       "model_id": "b2bbbb5322ce437ba9ba231b5db7e6eb",
       "version_major": 2,
       "version_minor": 0
      },
      "text/plain": [
       "Creating glimpse 2546.6.9.ND0003:   0%|          | 0/72 [00:00<?, ?it/s]"
      ]
     },
     "metadata": {},
     "output_type": "display_data"
    },
    {
     "name": "stdout",
     "output_type": "stream",
     "text": [
      "Video 2546.6.9.ND0003 saved successfully.\n"
     ]
    },
    {
     "data": {
      "application/vnd.jupyter.widget-view+json": {
       "model_id": "f0964b0bd7be4c77b9137173e3249558",
       "version_major": 2,
       "version_minor": 0
      },
      "text/plain": [
       "Creating glimpse 2543.6.9.ND0003:   0%|          | 0/71 [00:00<?, ?it/s]"
      ]
     },
     "metadata": {},
     "output_type": "display_data"
    },
    {
     "name": "stdout",
     "output_type": "stream",
     "text": [
      "Video 2543.6.9.ND0003 saved successfully.\n"
     ]
    },
    {
     "data": {
      "application/vnd.jupyter.widget-view+json": {
       "model_id": "a09c90829e2642059bbd1acb06988198",
       "version_major": 2,
       "version_minor": 0
      },
      "text/plain": [
       "Creating glimpse 2582.6.9.ND0003:   0%|          | 0/70 [00:00<?, ?it/s]"
      ]
     },
     "metadata": {},
     "output_type": "display_data"
    },
    {
     "name": "stderr",
     "output_type": "stream",
     "text": [
      "[INFO][2024/09/10 01:47:32 PM] Opening HDF file: /mnt/SYNO/macrohet_syno/data/ND0003/labels/cpv3/(6, 10).h5...\n"
     ]
    },
    {
     "name": "stdout",
     "output_type": "stream",
     "text": [
      "Video 2582.6.9.ND0003 saved successfully.\n"
     ]
    },
    {
     "name": "stderr",
     "output_type": "stream",
     "text": [
      "[INFO][2024/09/10 01:48:06 PM] Loading segmentation (154, 6048, 6048)\n",
      "[INFO][2024/09/10 01:48:07 PM] Closing HDF file: /mnt/SYNO/macrohet_syno/data/ND0003/labels/cpv3/(6, 10).h5\n"
     ]
    },
    {
     "data": {
      "application/vnd.jupyter.widget-view+json": {
       "model_id": "7ee07090e99a4ef7a505e3abe6e08b89",
       "version_major": 2,
       "version_minor": 0
      },
      "text/plain": [
       "Creating glimpse 193.6.10.ND0003:   0%|          | 0/111 [00:00<?, ?it/s]"
      ]
     },
     "metadata": {},
     "output_type": "display_data"
    },
    {
     "name": "stdout",
     "output_type": "stream",
     "text": [
      "Video 193.6.10.ND0003 saved successfully.\n"
     ]
    },
    {
     "data": {
      "application/vnd.jupyter.widget-view+json": {
       "model_id": "5634ba86050846a4b52ac3076e8d7077",
       "version_major": 2,
       "version_minor": 0
      },
      "text/plain": [
       "Creating glimpse 209.6.10.ND0003:   0%|          | 0/153 [00:00<?, ?it/s]"
      ]
     },
     "metadata": {},
     "output_type": "display_data"
    },
    {
     "name": "stdout",
     "output_type": "stream",
     "text": [
      "Video 209.6.10.ND0003 saved successfully.\n"
     ]
    },
    {
     "data": {
      "application/vnd.jupyter.widget-view+json": {
       "model_id": "59df396144884216a86bb3f2fce86bbe",
       "version_major": 2,
       "version_minor": 0
      },
      "text/plain": [
       "Creating glimpse 205.6.10.ND0003:   0%|          | 0/154 [00:00<?, ?it/s]"
      ]
     },
     "metadata": {},
     "output_type": "display_data"
    },
    {
     "name": "stdout",
     "output_type": "stream",
     "text": [
      "Video 205.6.10.ND0003 saved successfully.\n"
     ]
    },
    {
     "data": {
      "application/vnd.jupyter.widget-view+json": {
       "model_id": "9a03aa7f858146cbbed3b50fc85a2dc6",
       "version_major": 2,
       "version_minor": 0
      },
      "text/plain": [
       "Creating glimpse 155.6.10.ND0003:   0%|          | 0/153 [00:00<?, ?it/s]"
      ]
     },
     "metadata": {},
     "output_type": "display_data"
    },
    {
     "name": "stdout",
     "output_type": "stream",
     "text": [
      "Video 155.6.10.ND0003 saved successfully.\n"
     ]
    },
    {
     "data": {
      "application/vnd.jupyter.widget-view+json": {
       "model_id": "01679ecd0f0d41f0802a92e1cc8d67fb",
       "version_major": 2,
       "version_minor": 0
      },
      "text/plain": [
       "Creating glimpse 153.6.10.ND0003:   0%|          | 0/74 [00:00<?, ?it/s]"
      ]
     },
     "metadata": {},
     "output_type": "display_data"
    },
    {
     "name": "stdout",
     "output_type": "stream",
     "text": [
      "Video 153.6.10.ND0003 saved successfully.\n"
     ]
    },
    {
     "data": {
      "application/vnd.jupyter.widget-view+json": {
       "model_id": "8eaaaaf3fa8844d7ba1053e2523923f9",
       "version_major": 2,
       "version_minor": 0
      },
      "text/plain": [
       "Creating glimpse 150.6.10.ND0003:   0%|          | 0/154 [00:00<?, ?it/s]"
      ]
     },
     "metadata": {},
     "output_type": "display_data"
    },
    {
     "name": "stdout",
     "output_type": "stream",
     "text": [
      "Video 150.6.10.ND0003 saved successfully.\n"
     ]
    },
    {
     "data": {
      "application/vnd.jupyter.widget-view+json": {
       "model_id": "a81d641338ff4a569d2f90a19e693e55",
       "version_major": 2,
       "version_minor": 0
      },
      "text/plain": [
       "Creating glimpse 145.6.10.ND0003:   0%|          | 0/154 [00:00<?, ?it/s]"
      ]
     },
     "metadata": {},
     "output_type": "display_data"
    },
    {
     "name": "stdout",
     "output_type": "stream",
     "text": [
      "Video 145.6.10.ND0003 saved successfully.\n"
     ]
    },
    {
     "data": {
      "application/vnd.jupyter.widget-view+json": {
       "model_id": "30c8aef1948f448080b3790e2da73b0d",
       "version_major": 2,
       "version_minor": 0
      },
      "text/plain": [
       "Creating glimpse 175.6.10.ND0003:   0%|          | 0/154 [00:00<?, ?it/s]"
      ]
     },
     "metadata": {},
     "output_type": "display_data"
    },
    {
     "name": "stdout",
     "output_type": "stream",
     "text": [
      "Video 175.6.10.ND0003 saved successfully.\n"
     ]
    },
    {
     "data": {
      "application/vnd.jupyter.widget-view+json": {
       "model_id": "cd2ab78073584f81bd457ae0fff16dc9",
       "version_major": 2,
       "version_minor": 0
      },
      "text/plain": [
       "Creating glimpse 171.6.10.ND0003:   0%|          | 0/154 [00:00<?, ?it/s]"
      ]
     },
     "metadata": {},
     "output_type": "display_data"
    },
    {
     "name": "stdout",
     "output_type": "stream",
     "text": [
      "Video 171.6.10.ND0003 saved successfully.\n"
     ]
    },
    {
     "data": {
      "application/vnd.jupyter.widget-view+json": {
       "model_id": "071f138150fd4a19b9a018abda601757",
       "version_major": 2,
       "version_minor": 0
      },
      "text/plain": [
       "Creating glimpse 263.6.10.ND0003:   0%|          | 0/77 [00:00<?, ?it/s]"
      ]
     },
     "metadata": {},
     "output_type": "display_data"
    },
    {
     "name": "stdout",
     "output_type": "stream",
     "text": [
      "Video 263.6.10.ND0003 saved successfully.\n"
     ]
    },
    {
     "data": {
      "application/vnd.jupyter.widget-view+json": {
       "model_id": "aa9818af975e49e893da53de9b90d341",
       "version_major": 2,
       "version_minor": 0
      },
      "text/plain": [
       "Creating glimpse 260.6.10.ND0003:   0%|          | 0/154 [00:00<?, ?it/s]"
      ]
     },
     "metadata": {},
     "output_type": "display_data"
    },
    {
     "name": "stdout",
     "output_type": "stream",
     "text": [
      "Video 260.6.10.ND0003 saved successfully.\n"
     ]
    },
    {
     "data": {
      "application/vnd.jupyter.widget-view+json": {
       "model_id": "3a34555bf3684542adf340a31570c92b",
       "version_major": 2,
       "version_minor": 0
      },
      "text/plain": [
       "Creating glimpse 259.6.10.ND0003:   0%|          | 0/153 [00:00<?, ?it/s]"
      ]
     },
     "metadata": {},
     "output_type": "display_data"
    },
    {
     "name": "stdout",
     "output_type": "stream",
     "text": [
      "Video 259.6.10.ND0003 saved successfully.\n"
     ]
    },
    {
     "data": {
      "application/vnd.jupyter.widget-view+json": {
       "model_id": "f6af619f54da4c9093f903fa634c7461",
       "version_major": 2,
       "version_minor": 0
      },
      "text/plain": [
       "Creating glimpse 279.6.10.ND0003:   0%|          | 0/92 [00:00<?, ?it/s]"
      ]
     },
     "metadata": {},
     "output_type": "display_data"
    },
    {
     "name": "stdout",
     "output_type": "stream",
     "text": [
      "Video 279.6.10.ND0003 saved successfully.\n"
     ]
    },
    {
     "data": {
      "application/vnd.jupyter.widget-view+json": {
       "model_id": "46f02570452a452f957d1d460bdb6b18",
       "version_major": 2,
       "version_minor": 0
      },
      "text/plain": [
       "Creating glimpse 273.6.10.ND0003:   0%|          | 0/154 [00:00<?, ?it/s]"
      ]
     },
     "metadata": {},
     "output_type": "display_data"
    },
    {
     "name": "stdout",
     "output_type": "stream",
     "text": [
      "Video 273.6.10.ND0003 saved successfully.\n"
     ]
    },
    {
     "data": {
      "application/vnd.jupyter.widget-view+json": {
       "model_id": "52f1fa012496467c90a1b417ff79707c",
       "version_major": 2,
       "version_minor": 0
      },
      "text/plain": [
       "Creating glimpse 271.6.10.ND0003:   0%|          | 0/91 [00:00<?, ?it/s]"
      ]
     },
     "metadata": {},
     "output_type": "display_data"
    },
    {
     "name": "stdout",
     "output_type": "stream",
     "text": [
      "Video 271.6.10.ND0003 saved successfully.\n"
     ]
    },
    {
     "data": {
      "application/vnd.jupyter.widget-view+json": {
       "model_id": "6765855494194f2d90603808e3e9905d",
       "version_major": 2,
       "version_minor": 0
      },
      "text/plain": [
       "Creating glimpse 219.6.10.ND0003:   0%|          | 0/71 [00:00<?, ?it/s]"
      ]
     },
     "metadata": {},
     "output_type": "display_data"
    },
    {
     "name": "stdout",
     "output_type": "stream",
     "text": [
      "Video 219.6.10.ND0003 saved successfully.\n"
     ]
    },
    {
     "data": {
      "application/vnd.jupyter.widget-view+json": {
       "model_id": "b51e6bca379045a98ddd652bb9b299f8",
       "version_major": 2,
       "version_minor": 0
      },
      "text/plain": [
       "Creating glimpse 217.6.10.ND0003:   0%|          | 0/91 [00:00<?, ?it/s]"
      ]
     },
     "metadata": {},
     "output_type": "display_data"
    },
    {
     "name": "stdout",
     "output_type": "stream",
     "text": [
      "Video 217.6.10.ND0003 saved successfully.\n"
     ]
    },
    {
     "data": {
      "application/vnd.jupyter.widget-view+json": {
       "model_id": "4818c16c2f3b4865b5fb91c1cd62af3f",
       "version_major": 2,
       "version_minor": 0
      },
      "text/plain": [
       "Creating glimpse 239.6.10.ND0003:   0%|          | 0/154 [00:00<?, ?it/s]"
      ]
     },
     "metadata": {},
     "output_type": "display_data"
    },
    {
     "name": "stdout",
     "output_type": "stream",
     "text": [
      "Video 239.6.10.ND0003 saved successfully.\n"
     ]
    },
    {
     "data": {
      "application/vnd.jupyter.widget-view+json": {
       "model_id": "5b4bdc25f3a94190879270bc70d13a53",
       "version_major": 2,
       "version_minor": 0
      },
      "text/plain": [
       "Creating glimpse 240.6.10.ND0003:   0%|          | 0/151 [00:00<?, ?it/s]"
      ]
     },
     "metadata": {},
     "output_type": "display_data"
    },
    {
     "name": "stdout",
     "output_type": "stream",
     "text": [
      "Video 240.6.10.ND0003 saved successfully.\n"
     ]
    },
    {
     "data": {
      "application/vnd.jupyter.widget-view+json": {
       "model_id": "a285ec62317a417b98247adcf1548e82",
       "version_major": 2,
       "version_minor": 0
      },
      "text/plain": [
       "Creating glimpse 236.6.10.ND0003:   0%|          | 0/75 [00:00<?, ?it/s]"
      ]
     },
     "metadata": {},
     "output_type": "display_data"
    },
    {
     "name": "stdout",
     "output_type": "stream",
     "text": [
      "Video 236.6.10.ND0003 saved successfully.\n"
     ]
    },
    {
     "data": {
      "application/vnd.jupyter.widget-view+json": {
       "model_id": "e2bb0b0372d34a4daa7169c37c3919c5",
       "version_major": 2,
       "version_minor": 0
      },
      "text/plain": [
       "Creating glimpse 232.6.10.ND0003:   0%|          | 0/153 [00:00<?, ?it/s]"
      ]
     },
     "metadata": {},
     "output_type": "display_data"
    },
    {
     "name": "stdout",
     "output_type": "stream",
     "text": [
      "Video 232.6.10.ND0003 saved successfully.\n"
     ]
    },
    {
     "data": {
      "application/vnd.jupyter.widget-view+json": {
       "model_id": "4aa986e768fe4b90a67eb93dcd067468",
       "version_major": 2,
       "version_minor": 0
      },
      "text/plain": [
       "Creating glimpse 46.6.10.ND0003:   0%|          | 0/154 [00:00<?, ?it/s]"
      ]
     },
     "metadata": {},
     "output_type": "display_data"
    },
    {
     "name": "stdout",
     "output_type": "stream",
     "text": [
      "Video 46.6.10.ND0003 saved successfully.\n"
     ]
    },
    {
     "data": {
      "application/vnd.jupyter.widget-view+json": {
       "model_id": "ad7d426cbc1c422d8ca0f7cd12057296",
       "version_major": 2,
       "version_minor": 0
      },
      "text/plain": [
       "Creating glimpse 49.6.10.ND0003:   0%|          | 0/154 [00:00<?, ?it/s]"
      ]
     },
     "metadata": {},
     "output_type": "display_data"
    },
    {
     "name": "stdout",
     "output_type": "stream",
     "text": [
      "Video 49.6.10.ND0003 saved successfully.\n"
     ]
    },
    {
     "data": {
      "application/vnd.jupyter.widget-view+json": {
       "model_id": "0c3b1a5eba344b8e823bf4bb72198604",
       "version_major": 2,
       "version_minor": 0
      },
      "text/plain": [
       "Creating glimpse 40.6.10.ND0003:   0%|          | 0/154 [00:00<?, ?it/s]"
      ]
     },
     "metadata": {},
     "output_type": "display_data"
    },
    {
     "name": "stdout",
     "output_type": "stream",
     "text": [
      "Video 40.6.10.ND0003 saved successfully.\n"
     ]
    },
    {
     "data": {
      "application/vnd.jupyter.widget-view+json": {
       "model_id": "4ddf8950c88e45449bf2ab583b6a56b5",
       "version_major": 2,
       "version_minor": 0
      },
      "text/plain": [
       "Creating glimpse 39.6.10.ND0003:   0%|          | 0/80 [00:00<?, ?it/s]"
      ]
     },
     "metadata": {},
     "output_type": "display_data"
    },
    {
     "name": "stdout",
     "output_type": "stream",
     "text": [
      "Video 39.6.10.ND0003 saved successfully.\n"
     ]
    },
    {
     "data": {
      "application/vnd.jupyter.widget-view+json": {
       "model_id": "6b216c2bc3b740cb9401c98a72cd8630",
       "version_major": 2,
       "version_minor": 0
      },
      "text/plain": [
       "Creating glimpse 71.6.10.ND0003:   0%|          | 0/137 [00:00<?, ?it/s]"
      ]
     },
     "metadata": {},
     "output_type": "display_data"
    },
    {
     "name": "stdout",
     "output_type": "stream",
     "text": [
      "Video 71.6.10.ND0003 saved successfully.\n"
     ]
    },
    {
     "data": {
      "application/vnd.jupyter.widget-view+json": {
       "model_id": "24af46de9df9451da8f71fdb5011c588",
       "version_major": 2,
       "version_minor": 0
      },
      "text/plain": [
       "Creating glimpse 67.6.10.ND0003:   0%|          | 0/83 [00:00<?, ?it/s]"
      ]
     },
     "metadata": {},
     "output_type": "display_data"
    },
    {
     "name": "stdout",
     "output_type": "stream",
     "text": [
      "Video 67.6.10.ND0003 saved successfully.\n"
     ]
    },
    {
     "data": {
      "application/vnd.jupyter.widget-view+json": {
       "model_id": "b9bb29df0064496c8d857698b64d55ec",
       "version_major": 2,
       "version_minor": 0
      },
      "text/plain": [
       "Creating glimpse 57.6.10.ND0003:   0%|          | 0/148 [00:00<?, ?it/s]"
      ]
     },
     "metadata": {},
     "output_type": "display_data"
    },
    {
     "name": "stdout",
     "output_type": "stream",
     "text": [
      "Video 57.6.10.ND0003 saved successfully.\n"
     ]
    },
    {
     "data": {
      "application/vnd.jupyter.widget-view+json": {
       "model_id": "086bbe4549584a2496f3851608ac43f0",
       "version_major": 2,
       "version_minor": 0
      },
      "text/plain": [
       "Creating glimpse 56.6.10.ND0003:   0%|          | 0/122 [00:00<?, ?it/s]"
      ]
     },
     "metadata": {},
     "output_type": "display_data"
    },
    {
     "name": "stdout",
     "output_type": "stream",
     "text": [
      "Video 56.6.10.ND0003 saved successfully.\n"
     ]
    },
    {
     "data": {
      "application/vnd.jupyter.widget-view+json": {
       "model_id": "c159dcc13c854389b76e7bb8027470fd",
       "version_major": 2,
       "version_minor": 0
      },
      "text/plain": [
       "Creating glimpse 11.6.10.ND0003:   0%|          | 0/154 [00:00<?, ?it/s]"
      ]
     },
     "metadata": {},
     "output_type": "display_data"
    },
    {
     "name": "stdout",
     "output_type": "stream",
     "text": [
      "Video 11.6.10.ND0003 saved successfully.\n"
     ]
    },
    {
     "data": {
      "application/vnd.jupyter.widget-view+json": {
       "model_id": "8e06f5fd1acf4cdc937b1fdbf5f6d112",
       "version_major": 2,
       "version_minor": 0
      },
      "text/plain": [
       "Creating glimpse 13.6.10.ND0003:   0%|          | 0/154 [00:00<?, ?it/s]"
      ]
     },
     "metadata": {},
     "output_type": "display_data"
    },
    {
     "name": "stdout",
     "output_type": "stream",
     "text": [
      "Video 13.6.10.ND0003 saved successfully.\n"
     ]
    },
    {
     "data": {
      "application/vnd.jupyter.widget-view+json": {
       "model_id": "329e0a8ccd1f490b950f1911f295dcb4",
       "version_major": 2,
       "version_minor": 0
      },
      "text/plain": [
       "Creating glimpse 12.6.10.ND0003:   0%|          | 0/105 [00:00<?, ?it/s]"
      ]
     },
     "metadata": {},
     "output_type": "display_data"
    },
    {
     "name": "stdout",
     "output_type": "stream",
     "text": [
      "Video 12.6.10.ND0003 saved successfully.\n"
     ]
    },
    {
     "data": {
      "application/vnd.jupyter.widget-view+json": {
       "model_id": "5f655fcfc640422c9765508eb15d9cf5",
       "version_major": 2,
       "version_minor": 0
      },
      "text/plain": [
       "Creating glimpse 20.6.10.ND0003:   0%|          | 0/120 [00:00<?, ?it/s]"
      ]
     },
     "metadata": {},
     "output_type": "display_data"
    },
    {
     "name": "stdout",
     "output_type": "stream",
     "text": [
      "Video 20.6.10.ND0003 saved successfully.\n"
     ]
    },
    {
     "data": {
      "application/vnd.jupyter.widget-view+json": {
       "model_id": "7a717392b9674c30bfec4647bba6dbc0",
       "version_major": 2,
       "version_minor": 0
      },
      "text/plain": [
       "Creating glimpse 7.6.10.ND0003:   0%|          | 0/154 [00:00<?, ?it/s]"
      ]
     },
     "metadata": {},
     "output_type": "display_data"
    },
    {
     "name": "stdout",
     "output_type": "stream",
     "text": [
      "Video 7.6.10.ND0003 saved successfully.\n"
     ]
    },
    {
     "data": {
      "application/vnd.jupyter.widget-view+json": {
       "model_id": "14b5265ace5b4671a7da811910c455ae",
       "version_major": 2,
       "version_minor": 0
      },
      "text/plain": [
       "Creating glimpse 5.6.10.ND0003:   0%|          | 0/151 [00:00<?, ?it/s]"
      ]
     },
     "metadata": {},
     "output_type": "display_data"
    },
    {
     "name": "stdout",
     "output_type": "stream",
     "text": [
      "Video 5.6.10.ND0003 saved successfully.\n"
     ]
    },
    {
     "data": {
      "application/vnd.jupyter.widget-view+json": {
       "model_id": "f546a2d5a0d94228aa31eef32fdafd3f",
       "version_major": 2,
       "version_minor": 0
      },
      "text/plain": [
       "Creating glimpse 33.6.10.ND0003:   0%|          | 0/154 [00:00<?, ?it/s]"
      ]
     },
     "metadata": {},
     "output_type": "display_data"
    },
    {
     "name": "stdout",
     "output_type": "stream",
     "text": [
      "Video 33.6.10.ND0003 saved successfully.\n"
     ]
    },
    {
     "data": {
      "application/vnd.jupyter.widget-view+json": {
       "model_id": "26a1380ab0ac4dceaa41c537f0d0b865",
       "version_major": 2,
       "version_minor": 0
      },
      "text/plain": [
       "Creating glimpse 32.6.10.ND0003:   0%|          | 0/154 [00:00<?, ?it/s]"
      ]
     },
     "metadata": {},
     "output_type": "display_data"
    },
    {
     "name": "stdout",
     "output_type": "stream",
     "text": [
      "Video 32.6.10.ND0003 saved successfully.\n"
     ]
    },
    {
     "data": {
      "application/vnd.jupyter.widget-view+json": {
       "model_id": "179cc03693b3447f8af6d4644ff3359f",
       "version_major": 2,
       "version_minor": 0
      },
      "text/plain": [
       "Creating glimpse 22.6.10.ND0003:   0%|          | 0/154 [00:00<?, ?it/s]"
      ]
     },
     "metadata": {},
     "output_type": "display_data"
    },
    {
     "name": "stdout",
     "output_type": "stream",
     "text": [
      "Video 22.6.10.ND0003 saved successfully.\n"
     ]
    },
    {
     "data": {
      "application/vnd.jupyter.widget-view+json": {
       "model_id": "90db26107328463593877a0cee7d8ada",
       "version_major": 2,
       "version_minor": 0
      },
      "text/plain": [
       "Creating glimpse 118.6.10.ND0003:   0%|          | 0/153 [00:00<?, ?it/s]"
      ]
     },
     "metadata": {},
     "output_type": "display_data"
    },
    {
     "name": "stdout",
     "output_type": "stream",
     "text": [
      "Video 118.6.10.ND0003 saved successfully.\n"
     ]
    },
    {
     "data": {
      "application/vnd.jupyter.widget-view+json": {
       "model_id": "fbd6ff0aece146408747723156e1b417",
       "version_major": 2,
       "version_minor": 0
      },
      "text/plain": [
       "Creating glimpse 113.6.10.ND0003:   0%|          | 0/78 [00:00<?, ?it/s]"
      ]
     },
     "metadata": {},
     "output_type": "display_data"
    },
    {
     "name": "stdout",
     "output_type": "stream",
     "text": [
      "Video 113.6.10.ND0003 saved successfully.\n"
     ]
    },
    {
     "data": {
      "application/vnd.jupyter.widget-view+json": {
       "model_id": "0814ee500aad4a9dbb489d946700b14a",
       "version_major": 2,
       "version_minor": 0
      },
      "text/plain": [
       "Creating glimpse 109.6.10.ND0003:   0%|          | 0/117 [00:00<?, ?it/s]"
      ]
     },
     "metadata": {},
     "output_type": "display_data"
    },
    {
     "name": "stdout",
     "output_type": "stream",
     "text": [
      "Video 109.6.10.ND0003 saved successfully.\n"
     ]
    },
    {
     "data": {
      "application/vnd.jupyter.widget-view+json": {
       "model_id": "5f477dbfef8a40d2aa1eae768841849c",
       "version_major": 2,
       "version_minor": 0
      },
      "text/plain": [
       "Creating glimpse 142.6.10.ND0003:   0%|          | 0/154 [00:00<?, ?it/s]"
      ]
     },
     "metadata": {},
     "output_type": "display_data"
    },
    {
     "name": "stdout",
     "output_type": "stream",
     "text": [
      "Video 142.6.10.ND0003 saved successfully.\n"
     ]
    },
    {
     "data": {
      "application/vnd.jupyter.widget-view+json": {
       "model_id": "e986b1498a5a4da4850dba5ea14912af",
       "version_major": 2,
       "version_minor": 0
      },
      "text/plain": [
       "Creating glimpse 132.6.10.ND0003:   0%|          | 0/84 [00:00<?, ?it/s]"
      ]
     },
     "metadata": {},
     "output_type": "display_data"
    },
    {
     "name": "stdout",
     "output_type": "stream",
     "text": [
      "Video 132.6.10.ND0003 saved successfully.\n"
     ]
    },
    {
     "data": {
      "application/vnd.jupyter.widget-view+json": {
       "model_id": "bdd8dbc84d2e4554827b3690008ccd09",
       "version_major": 2,
       "version_minor": 0
      },
      "text/plain": [
       "Creating glimpse 80.6.10.ND0003:   0%|          | 0/88 [00:00<?, ?it/s]"
      ]
     },
     "metadata": {},
     "output_type": "display_data"
    },
    {
     "name": "stdout",
     "output_type": "stream",
     "text": [
      "Video 80.6.10.ND0003 saved successfully.\n"
     ]
    },
    {
     "data": {
      "application/vnd.jupyter.widget-view+json": {
       "model_id": "9013226715b8425bb4ad19d209b392f0",
       "version_major": 2,
       "version_minor": 0
      },
      "text/plain": [
       "Creating glimpse 78.6.10.ND0003:   0%|          | 0/154 [00:00<?, ?it/s]"
      ]
     },
     "metadata": {},
     "output_type": "display_data"
    },
    {
     "name": "stdout",
     "output_type": "stream",
     "text": [
      "Video 78.6.10.ND0003 saved successfully.\n"
     ]
    },
    {
     "data": {
      "application/vnd.jupyter.widget-view+json": {
       "model_id": "86b0aac2e97744cfa7a87e4e11ca1070",
       "version_major": 2,
       "version_minor": 0
      },
      "text/plain": [
       "Creating glimpse 74.6.10.ND0003:   0%|          | 0/154 [00:00<?, ?it/s]"
      ]
     },
     "metadata": {},
     "output_type": "display_data"
    },
    {
     "name": "stdout",
     "output_type": "stream",
     "text": [
      "Video 74.6.10.ND0003 saved successfully.\n"
     ]
    },
    {
     "data": {
      "application/vnd.jupyter.widget-view+json": {
       "model_id": "c4b8e458ec2d45f2b5e44a1da39a40d5",
       "version_major": 2,
       "version_minor": 0
      },
      "text/plain": [
       "Creating glimpse 320.6.10.ND0003:   0%|          | 0/94 [00:00<?, ?it/s]"
      ]
     },
     "metadata": {},
     "output_type": "display_data"
    },
    {
     "name": "stdout",
     "output_type": "stream",
     "text": [
      "Video 320.6.10.ND0003 saved successfully.\n"
     ]
    },
    {
     "data": {
      "application/vnd.jupyter.widget-view+json": {
       "model_id": "32a6d52f17c94671b344fe2e6d962364",
       "version_major": 2,
       "version_minor": 0
      },
      "text/plain": [
       "Creating glimpse 333.6.10.ND0003:   0%|          | 0/72 [00:00<?, ?it/s]"
      ]
     },
     "metadata": {},
     "output_type": "display_data"
    },
    {
     "name": "stdout",
     "output_type": "stream",
     "text": [
      "Video 333.6.10.ND0003 saved successfully.\n"
     ]
    },
    {
     "data": {
      "application/vnd.jupyter.widget-view+json": {
       "model_id": "f618b5c7cd39445d81f58d52e050ff59",
       "version_major": 2,
       "version_minor": 0
      },
      "text/plain": [
       "Creating glimpse 288.6.10.ND0003:   0%|          | 0/133 [00:00<?, ?it/s]"
      ]
     },
     "metadata": {},
     "output_type": "display_data"
    },
    {
     "name": "stdout",
     "output_type": "stream",
     "text": [
      "Video 288.6.10.ND0003 saved successfully.\n"
     ]
    },
    {
     "data": {
      "application/vnd.jupyter.widget-view+json": {
       "model_id": "45c9d1795cfe4f678b57a0a2f02710ee",
       "version_major": 2,
       "version_minor": 0
      },
      "text/plain": [
       "Creating glimpse 297.6.10.ND0003:   0%|          | 0/151 [00:00<?, ?it/s]"
      ]
     },
     "metadata": {},
     "output_type": "display_data"
    },
    {
     "name": "stdout",
     "output_type": "stream",
     "text": [
      "Video 297.6.10.ND0003 saved successfully.\n"
     ]
    },
    {
     "data": {
      "application/vnd.jupyter.widget-view+json": {
       "model_id": "db803283dfbd4adeb6df92316b814474",
       "version_major": 2,
       "version_minor": 0
      },
      "text/plain": [
       "Creating glimpse 406.6.10.ND0003:   0%|          | 0/151 [00:00<?, ?it/s]"
      ]
     },
     "metadata": {},
     "output_type": "display_data"
    },
    {
     "name": "stdout",
     "output_type": "stream",
     "text": [
      "Video 406.6.10.ND0003 saved successfully.\n"
     ]
    },
    {
     "data": {
      "application/vnd.jupyter.widget-view+json": {
       "model_id": "2e811bbcb8064e92832efe6ebdbaf21e",
       "version_major": 2,
       "version_minor": 0
      },
      "text/plain": [
       "Creating glimpse 399.6.10.ND0003:   0%|          | 0/152 [00:00<?, ?it/s]"
      ]
     },
     "metadata": {},
     "output_type": "display_data"
    },
    {
     "name": "stdout",
     "output_type": "stream",
     "text": [
      "Video 399.6.10.ND0003 saved successfully.\n"
     ]
    },
    {
     "data": {
      "application/vnd.jupyter.widget-view+json": {
       "model_id": "fe75c9f3c5eb410484e4c613d2057e0b",
       "version_major": 2,
       "version_minor": 0
      },
      "text/plain": [
       "Creating glimpse 503.6.10.ND0003:   0%|          | 0/150 [00:00<?, ?it/s]"
      ]
     },
     "metadata": {},
     "output_type": "display_data"
    },
    {
     "name": "stdout",
     "output_type": "stream",
     "text": [
      "Video 503.6.10.ND0003 saved successfully.\n"
     ]
    },
    {
     "data": {
      "application/vnd.jupyter.widget-view+json": {
       "model_id": "58377e21be5043c8a0346964cb0eabde",
       "version_major": 2,
       "version_minor": 0
      },
      "text/plain": [
       "Creating glimpse 554.6.10.ND0003:   0%|          | 0/110 [00:00<?, ?it/s]"
      ]
     },
     "metadata": {},
     "output_type": "display_data"
    },
    {
     "name": "stdout",
     "output_type": "stream",
     "text": [
      "Video 554.6.10.ND0003 saved successfully.\n"
     ]
    },
    {
     "data": {
      "application/vnd.jupyter.widget-view+json": {
       "model_id": "c48d30c260e14c98acd86c55b545781f",
       "version_major": 2,
       "version_minor": 0
      },
      "text/plain": [
       "Creating glimpse 588.6.10.ND0003:   0%|          | 0/148 [00:00<?, ?it/s]"
      ]
     },
     "metadata": {},
     "output_type": "display_data"
    },
    {
     "name": "stdout",
     "output_type": "stream",
     "text": [
      "Video 588.6.10.ND0003 saved successfully.\n"
     ]
    },
    {
     "data": {
      "application/vnd.jupyter.widget-view+json": {
       "model_id": "c270dd06bd6e456eaf71765ef2224457",
       "version_major": 2,
       "version_minor": 0
      },
      "text/plain": [
       "Creating glimpse 624.6.10.ND0003:   0%|          | 0/89 [00:00<?, ?it/s]"
      ]
     },
     "metadata": {},
     "output_type": "display_data"
    },
    {
     "name": "stdout",
     "output_type": "stream",
     "text": [
      "Video 624.6.10.ND0003 saved successfully.\n"
     ]
    },
    {
     "data": {
      "application/vnd.jupyter.widget-view+json": {
       "model_id": "935e9a73f78e4793a3aeafc314d4251f",
       "version_major": 2,
       "version_minor": 0
      },
      "text/plain": [
       "Creating glimpse 625.6.10.ND0003:   0%|          | 0/89 [00:00<?, ?it/s]"
      ]
     },
     "metadata": {},
     "output_type": "display_data"
    },
    {
     "name": "stdout",
     "output_type": "stream",
     "text": [
      "Video 625.6.10.ND0003 saved successfully.\n"
     ]
    },
    {
     "data": {
      "application/vnd.jupyter.widget-view+json": {
       "model_id": "066d53d711004a76b8a2262c40bed745",
       "version_major": 2,
       "version_minor": 0
      },
      "text/plain": [
       "Creating glimpse 644.6.10.ND0003:   0%|          | 0/146 [00:00<?, ?it/s]"
      ]
     },
     "metadata": {},
     "output_type": "display_data"
    },
    {
     "name": "stdout",
     "output_type": "stream",
     "text": [
      "Video 644.6.10.ND0003 saved successfully.\n"
     ]
    },
    {
     "data": {
      "application/vnd.jupyter.widget-view+json": {
       "model_id": "d70ff86188e4469ca9150b72c08e6639",
       "version_major": 2,
       "version_minor": 0
      },
      "text/plain": [
       "Creating glimpse 713.6.10.ND0003:   0%|          | 0/145 [00:00<?, ?it/s]"
      ]
     },
     "metadata": {},
     "output_type": "display_data"
    },
    {
     "name": "stdout",
     "output_type": "stream",
     "text": [
      "Video 713.6.10.ND0003 saved successfully.\n"
     ]
    },
    {
     "data": {
      "application/vnd.jupyter.widget-view+json": {
       "model_id": "75db2406ad384b7abf305a440370bca8",
       "version_major": 2,
       "version_minor": 0
      },
      "text/plain": [
       "Creating glimpse 683.6.10.ND0003:   0%|          | 0/128 [00:00<?, ?it/s]"
      ]
     },
     "metadata": {},
     "output_type": "display_data"
    },
    {
     "name": "stdout",
     "output_type": "stream",
     "text": [
      "Video 683.6.10.ND0003 saved successfully.\n"
     ]
    },
    {
     "data": {
      "application/vnd.jupyter.widget-view+json": {
       "model_id": "103784a4644944a9b292b68d1d61f9df",
       "version_major": 2,
       "version_minor": 0
      },
      "text/plain": [
       "Creating glimpse 871.6.10.ND0003:   0%|          | 0/141 [00:00<?, ?it/s]"
      ]
     },
     "metadata": {},
     "output_type": "display_data"
    },
    {
     "name": "stdout",
     "output_type": "stream",
     "text": [
      "Video 871.6.10.ND0003 saved successfully.\n"
     ]
    },
    {
     "data": {
      "application/vnd.jupyter.widget-view+json": {
       "model_id": "4b30b5f828a3423cadcaa96a416d2a26",
       "version_major": 2,
       "version_minor": 0
      },
      "text/plain": [
       "Creating glimpse 882.6.10.ND0003:   0%|          | 0/76 [00:00<?, ?it/s]"
      ]
     },
     "metadata": {},
     "output_type": "display_data"
    },
    {
     "name": "stdout",
     "output_type": "stream",
     "text": [
      "Video 882.6.10.ND0003 saved successfully.\n"
     ]
    },
    {
     "data": {
      "application/vnd.jupyter.widget-view+json": {
       "model_id": "edafdca6c283466d8d5bb8062b172114",
       "version_major": 2,
       "version_minor": 0
      },
      "text/plain": [
       "Creating glimpse 900.6.10.ND0003:   0%|          | 0/93 [00:00<?, ?it/s]"
      ]
     },
     "metadata": {},
     "output_type": "display_data"
    },
    {
     "name": "stdout",
     "output_type": "stream",
     "text": [
      "Video 900.6.10.ND0003 saved successfully.\n"
     ]
    },
    {
     "data": {
      "application/vnd.jupyter.widget-view+json": {
       "model_id": "7b8b7a781fca43f78263411b5d16b685",
       "version_major": 2,
       "version_minor": 0
      },
      "text/plain": [
       "Creating glimpse 942.6.10.ND0003:   0%|          | 0/79 [00:00<?, ?it/s]"
      ]
     },
     "metadata": {},
     "output_type": "display_data"
    },
    {
     "name": "stdout",
     "output_type": "stream",
     "text": [
      "Video 942.6.10.ND0003 saved successfully.\n"
     ]
    },
    {
     "data": {
      "application/vnd.jupyter.widget-view+json": {
       "model_id": "358c5f87bf1c41eb88516c1d4a9065a3",
       "version_major": 2,
       "version_minor": 0
      },
      "text/plain": [
       "Creating glimpse 1015.6.10.ND0003:   0%|          | 0/137 [00:00<?, ?it/s]"
      ]
     },
     "metadata": {},
     "output_type": "display_data"
    },
    {
     "name": "stdout",
     "output_type": "stream",
     "text": [
      "Video 1015.6.10.ND0003 saved successfully.\n"
     ]
    },
    {
     "data": {
      "application/vnd.jupyter.widget-view+json": {
       "model_id": "52006826e0744630afaaea5386813497",
       "version_major": 2,
       "version_minor": 0
      },
      "text/plain": [
       "Creating glimpse 1024.6.10.ND0003:   0%|          | 0/137 [00:00<?, ?it/s]"
      ]
     },
     "metadata": {},
     "output_type": "display_data"
    },
    {
     "name": "stdout",
     "output_type": "stream",
     "text": [
      "Video 1024.6.10.ND0003 saved successfully.\n"
     ]
    },
    {
     "data": {
      "application/vnd.jupyter.widget-view+json": {
       "model_id": "3f014f764a2640d0adc733b9e6c8504f",
       "version_major": 2,
       "version_minor": 0
      },
      "text/plain": [
       "Creating glimpse 1093.6.10.ND0003:   0%|          | 0/135 [00:00<?, ?it/s]"
      ]
     },
     "metadata": {},
     "output_type": "display_data"
    },
    {
     "name": "stdout",
     "output_type": "stream",
     "text": [
      "Video 1093.6.10.ND0003 saved successfully.\n"
     ]
    },
    {
     "data": {
      "application/vnd.jupyter.widget-view+json": {
       "model_id": "0db2ead762f44fc5a265bd3439135eab",
       "version_major": 2,
       "version_minor": 0
      },
      "text/plain": [
       "Creating glimpse 1098.6.10.ND0003:   0%|          | 0/135 [00:00<?, ?it/s]"
      ]
     },
     "metadata": {},
     "output_type": "display_data"
    },
    {
     "name": "stdout",
     "output_type": "stream",
     "text": [
      "Video 1098.6.10.ND0003 saved successfully.\n"
     ]
    },
    {
     "data": {
      "application/vnd.jupyter.widget-view+json": {
       "model_id": "fe96c01307f54164931c580425fe5136",
       "version_major": 2,
       "version_minor": 0
      },
      "text/plain": [
       "Creating glimpse 1070.6.10.ND0003:   0%|          | 0/135 [00:00<?, ?it/s]"
      ]
     },
     "metadata": {},
     "output_type": "display_data"
    },
    {
     "name": "stdout",
     "output_type": "stream",
     "text": [
      "Video 1070.6.10.ND0003 saved successfully.\n"
     ]
    },
    {
     "data": {
      "application/vnd.jupyter.widget-view+json": {
       "model_id": "dfc240d45b6d4c968639d86d857d9bfe",
       "version_major": 2,
       "version_minor": 0
      },
      "text/plain": [
       "Creating glimpse 1074.6.10.ND0003:   0%|          | 0/90 [00:00<?, ?it/s]"
      ]
     },
     "metadata": {},
     "output_type": "display_data"
    },
    {
     "name": "stdout",
     "output_type": "stream",
     "text": [
      "Video 1074.6.10.ND0003 saved successfully.\n"
     ]
    },
    {
     "data": {
      "application/vnd.jupyter.widget-view+json": {
       "model_id": "d09ca510feb545ef9001f1d0923371a0",
       "version_major": 2,
       "version_minor": 0
      },
      "text/plain": [
       "Creating glimpse 1110.6.10.ND0003:   0%|          | 0/132 [00:00<?, ?it/s]"
      ]
     },
     "metadata": {},
     "output_type": "display_data"
    },
    {
     "name": "stdout",
     "output_type": "stream",
     "text": [
      "Video 1110.6.10.ND0003 saved successfully.\n"
     ]
    },
    {
     "data": {
      "application/vnd.jupyter.widget-view+json": {
       "model_id": "f075e502d85d43ba94f57ad95f3cd558",
       "version_major": 2,
       "version_minor": 0
      },
      "text/plain": [
       "Creating glimpse 1120.6.10.ND0003:   0%|          | 0/112 [00:00<?, ?it/s]"
      ]
     },
     "metadata": {},
     "output_type": "display_data"
    },
    {
     "name": "stdout",
     "output_type": "stream",
     "text": [
      "Video 1120.6.10.ND0003 saved successfully.\n"
     ]
    },
    {
     "data": {
      "application/vnd.jupyter.widget-view+json": {
       "model_id": "96ebeb4c74594866899bc23b43427d01",
       "version_major": 2,
       "version_minor": 0
      },
      "text/plain": [
       "Creating glimpse 1171.6.10.ND0003:   0%|          | 0/132 [00:00<?, ?it/s]"
      ]
     },
     "metadata": {},
     "output_type": "display_data"
    },
    {
     "name": "stdout",
     "output_type": "stream",
     "text": [
      "Video 1171.6.10.ND0003 saved successfully.\n"
     ]
    },
    {
     "data": {
      "application/vnd.jupyter.widget-view+json": {
       "model_id": "756a951ee8f34f2da979a51547832655",
       "version_major": 2,
       "version_minor": 0
      },
      "text/plain": [
       "Creating glimpse 1156.6.10.ND0003:   0%|          | 0/132 [00:00<?, ?it/s]"
      ]
     },
     "metadata": {},
     "output_type": "display_data"
    },
    {
     "name": "stdout",
     "output_type": "stream",
     "text": [
      "Video 1156.6.10.ND0003 saved successfully.\n"
     ]
    },
    {
     "data": {
      "application/vnd.jupyter.widget-view+json": {
       "model_id": "3ccc4c8a734748598016f8fec795348a",
       "version_major": 2,
       "version_minor": 0
      },
      "text/plain": [
       "Creating glimpse 1203.6.10.ND0003:   0%|          | 0/130 [00:00<?, ?it/s]"
      ]
     },
     "metadata": {},
     "output_type": "display_data"
    },
    {
     "name": "stdout",
     "output_type": "stream",
     "text": [
      "Video 1203.6.10.ND0003 saved successfully.\n"
     ]
    },
    {
     "data": {
      "application/vnd.jupyter.widget-view+json": {
       "model_id": "9bb076ce1a054d6a807e8c6efe83b1d0",
       "version_major": 2,
       "version_minor": 0
      },
      "text/plain": [
       "Creating glimpse 1229.6.10.ND0003:   0%|          | 0/130 [00:00<?, ?it/s]"
      ]
     },
     "metadata": {},
     "output_type": "display_data"
    },
    {
     "name": "stdout",
     "output_type": "stream",
     "text": [
      "Video 1229.6.10.ND0003 saved successfully.\n"
     ]
    },
    {
     "data": {
      "application/vnd.jupyter.widget-view+json": {
       "model_id": "bb0cb95c53f8493abcfcb8d74970d62c",
       "version_major": 2,
       "version_minor": 0
      },
      "text/plain": [
       "Creating glimpse 1286.6.10.ND0003:   0%|          | 0/76 [00:00<?, ?it/s]"
      ]
     },
     "metadata": {},
     "output_type": "display_data"
    },
    {
     "name": "stdout",
     "output_type": "stream",
     "text": [
      "Video 1286.6.10.ND0003 saved successfully.\n"
     ]
    },
    {
     "data": {
      "application/vnd.jupyter.widget-view+json": {
       "model_id": "5138bb4443eb43ab914e9c2ad4ad4b49",
       "version_major": 2,
       "version_minor": 0
      },
      "text/plain": [
       "Creating glimpse 1327.6.10.ND0003:   0%|          | 0/128 [00:00<?, ?it/s]"
      ]
     },
     "metadata": {},
     "output_type": "display_data"
    },
    {
     "name": "stdout",
     "output_type": "stream",
     "text": [
      "Video 1327.6.10.ND0003 saved successfully.\n"
     ]
    },
    {
     "data": {
      "application/vnd.jupyter.widget-view+json": {
       "model_id": "44f2fdc6644641f2b6aea7bee38f50e6",
       "version_major": 2,
       "version_minor": 0
      },
      "text/plain": [
       "Creating glimpse 1298.6.10.ND0003:   0%|          | 0/94 [00:00<?, ?it/s]"
      ]
     },
     "metadata": {},
     "output_type": "display_data"
    },
    {
     "name": "stdout",
     "output_type": "stream",
     "text": [
      "Video 1298.6.10.ND0003 saved successfully.\n"
     ]
    },
    {
     "data": {
      "application/vnd.jupyter.widget-view+json": {
       "model_id": "c845ac97e40240f4b99c80b324574f9d",
       "version_major": 2,
       "version_minor": 0
      },
      "text/plain": [
       "Creating glimpse 1299.6.10.ND0003:   0%|          | 0/128 [00:00<?, ?it/s]"
      ]
     },
     "metadata": {},
     "output_type": "display_data"
    },
    {
     "name": "stdout",
     "output_type": "stream",
     "text": [
      "Video 1299.6.10.ND0003 saved successfully.\n"
     ]
    },
    {
     "data": {
      "application/vnd.jupyter.widget-view+json": {
       "model_id": "bb02f66c91f24bf98d0d5de883a062a8",
       "version_major": 2,
       "version_minor": 0
      },
      "text/plain": [
       "Creating glimpse 1302.6.10.ND0003:   0%|          | 0/128 [00:00<?, ?it/s]"
      ]
     },
     "metadata": {},
     "output_type": "display_data"
    },
    {
     "name": "stdout",
     "output_type": "stream",
     "text": [
      "Video 1302.6.10.ND0003 saved successfully.\n"
     ]
    },
    {
     "data": {
      "application/vnd.jupyter.widget-view+json": {
       "model_id": "c5a438c0d5e946e8ba52c49e8204a4f3",
       "version_major": 2,
       "version_minor": 0
      },
      "text/plain": [
       "Creating glimpse 1344.6.10.ND0003:   0%|          | 0/127 [00:00<?, ?it/s]"
      ]
     },
     "metadata": {},
     "output_type": "display_data"
    },
    {
     "name": "stdout",
     "output_type": "stream",
     "text": [
      "Video 1344.6.10.ND0003 saved successfully.\n"
     ]
    },
    {
     "data": {
      "application/vnd.jupyter.widget-view+json": {
       "model_id": "7f04f7bbcbee4c669f65182fcd16937a",
       "version_major": 2,
       "version_minor": 0
      },
      "text/plain": [
       "Creating glimpse 1395.6.10.ND0003:   0%|          | 0/126 [00:00<?, ?it/s]"
      ]
     },
     "metadata": {},
     "output_type": "display_data"
    },
    {
     "name": "stdout",
     "output_type": "stream",
     "text": [
      "Video 1395.6.10.ND0003 saved successfully.\n"
     ]
    },
    {
     "data": {
      "application/vnd.jupyter.widget-view+json": {
       "model_id": "3558009180e24035b26ccacc88778180",
       "version_major": 2,
       "version_minor": 0
      },
      "text/plain": [
       "Creating glimpse 1402.6.10.ND0003:   0%|          | 0/126 [00:00<?, ?it/s]"
      ]
     },
     "metadata": {},
     "output_type": "display_data"
    },
    {
     "name": "stdout",
     "output_type": "stream",
     "text": [
      "Video 1402.6.10.ND0003 saved successfully.\n"
     ]
    },
    {
     "data": {
      "application/vnd.jupyter.widget-view+json": {
       "model_id": "da8ed8b66c374f60b3bef51262437c70",
       "version_major": 2,
       "version_minor": 0
      },
      "text/plain": [
       "Creating glimpse 1381.6.10.ND0003:   0%|          | 0/126 [00:00<?, ?it/s]"
      ]
     },
     "metadata": {},
     "output_type": "display_data"
    },
    {
     "name": "stdout",
     "output_type": "stream",
     "text": [
      "Video 1381.6.10.ND0003 saved successfully.\n"
     ]
    },
    {
     "data": {
      "application/vnd.jupyter.widget-view+json": {
       "model_id": "619807dc830147c796fc3f675c245e7d",
       "version_major": 2,
       "version_minor": 0
      },
      "text/plain": [
       "Creating glimpse 1435.6.10.ND0003:   0%|          | 0/125 [00:00<?, ?it/s]"
      ]
     },
     "metadata": {},
     "output_type": "display_data"
    },
    {
     "name": "stdout",
     "output_type": "stream",
     "text": [
      "Video 1435.6.10.ND0003 saved successfully.\n"
     ]
    },
    {
     "data": {
      "application/vnd.jupyter.widget-view+json": {
       "model_id": "5f70c945ea124c88b60ff797c16e40ef",
       "version_major": 2,
       "version_minor": 0
      },
      "text/plain": [
       "Creating glimpse 1446.6.10.ND0003:   0%|          | 0/124 [00:00<?, ?it/s]"
      ]
     },
     "metadata": {},
     "output_type": "display_data"
    },
    {
     "name": "stdout",
     "output_type": "stream",
     "text": [
      "Video 1446.6.10.ND0003 saved successfully.\n"
     ]
    },
    {
     "data": {
      "application/vnd.jupyter.widget-view+json": {
       "model_id": "9f5272d2d8ad4ad285905718a55e8a96",
       "version_major": 2,
       "version_minor": 0
      },
      "text/plain": [
       "Creating glimpse 1468.6.10.ND0003:   0%|          | 0/85 [00:00<?, ?it/s]"
      ]
     },
     "metadata": {},
     "output_type": "display_data"
    },
    {
     "name": "stdout",
     "output_type": "stream",
     "text": [
      "Video 1468.6.10.ND0003 saved successfully.\n"
     ]
    },
    {
     "data": {
      "application/vnd.jupyter.widget-view+json": {
       "model_id": "325ff78596564237955a08fc63c47834",
       "version_major": 2,
       "version_minor": 0
      },
      "text/plain": [
       "Creating glimpse 1516.6.10.ND0003:   0%|          | 0/122 [00:00<?, ?it/s]"
      ]
     },
     "metadata": {},
     "output_type": "display_data"
    },
    {
     "name": "stdout",
     "output_type": "stream",
     "text": [
      "Video 1516.6.10.ND0003 saved successfully.\n"
     ]
    },
    {
     "data": {
      "application/vnd.jupyter.widget-view+json": {
       "model_id": "0d332101095d491192bd567767847a6d",
       "version_major": 2,
       "version_minor": 0
      },
      "text/plain": [
       "Creating glimpse 1522.6.10.ND0003:   0%|          | 0/108 [00:00<?, ?it/s]"
      ]
     },
     "metadata": {},
     "output_type": "display_data"
    },
    {
     "name": "stdout",
     "output_type": "stream",
     "text": [
      "Video 1522.6.10.ND0003 saved successfully.\n"
     ]
    },
    {
     "data": {
      "application/vnd.jupyter.widget-view+json": {
       "model_id": "99da91222fd34d378201561a639fa072",
       "version_major": 2,
       "version_minor": 0
      },
      "text/plain": [
       "Creating glimpse 1528.6.10.ND0003:   0%|          | 0/121 [00:00<?, ?it/s]"
      ]
     },
     "metadata": {},
     "output_type": "display_data"
    },
    {
     "name": "stdout",
     "output_type": "stream",
     "text": [
      "Video 1528.6.10.ND0003 saved successfully.\n"
     ]
    },
    {
     "data": {
      "application/vnd.jupyter.widget-view+json": {
       "model_id": "c104cfb918fc45aa8539bde45325645f",
       "version_major": 2,
       "version_minor": 0
      },
      "text/plain": [
       "Creating glimpse 1645.6.10.ND0003:   0%|          | 0/118 [00:00<?, ?it/s]"
      ]
     },
     "metadata": {},
     "output_type": "display_data"
    },
    {
     "name": "stdout",
     "output_type": "stream",
     "text": [
      "Video 1645.6.10.ND0003 saved successfully.\n"
     ]
    },
    {
     "data": {
      "application/vnd.jupyter.widget-view+json": {
       "model_id": "622ff2b1013d4e3a956b303b94863936",
       "version_major": 2,
       "version_minor": 0
      },
      "text/plain": [
       "Creating glimpse 1651.6.10.ND0003:   0%|          | 0/83 [00:00<?, ?it/s]"
      ]
     },
     "metadata": {},
     "output_type": "display_data"
    },
    {
     "name": "stdout",
     "output_type": "stream",
     "text": [
      "Video 1651.6.10.ND0003 saved successfully.\n"
     ]
    },
    {
     "data": {
      "application/vnd.jupyter.widget-view+json": {
       "model_id": "799aab1aaa42430d84fb95840058d3b7",
       "version_major": 2,
       "version_minor": 0
      },
      "text/plain": [
       "Creating glimpse 1654.6.10.ND0003:   0%|          | 0/118 [00:00<?, ?it/s]"
      ]
     },
     "metadata": {},
     "output_type": "display_data"
    },
    {
     "name": "stdout",
     "output_type": "stream",
     "text": [
      "Video 1654.6.10.ND0003 saved successfully.\n"
     ]
    },
    {
     "data": {
      "application/vnd.jupyter.widget-view+json": {
       "model_id": "cb9251ca0bb140699fd478ea81a3aa45",
       "version_major": 2,
       "version_minor": 0
      },
      "text/plain": [
       "Creating glimpse 1631.6.10.ND0003:   0%|          | 0/86 [00:00<?, ?it/s]"
      ]
     },
     "metadata": {},
     "output_type": "display_data"
    },
    {
     "name": "stdout",
     "output_type": "stream",
     "text": [
      "Video 1631.6.10.ND0003 saved successfully.\n"
     ]
    },
    {
     "data": {
      "application/vnd.jupyter.widget-view+json": {
       "model_id": "ce5c49d40bcf4abd8d47e037799962c2",
       "version_major": 2,
       "version_minor": 0
      },
      "text/plain": [
       "Creating glimpse 1667.6.10.ND0003:   0%|          | 0/117 [00:00<?, ?it/s]"
      ]
     },
     "metadata": {},
     "output_type": "display_data"
    },
    {
     "name": "stdout",
     "output_type": "stream",
     "text": [
      "Video 1667.6.10.ND0003 saved successfully.\n"
     ]
    },
    {
     "data": {
      "application/vnd.jupyter.widget-view+json": {
       "model_id": "361dba52df4941a99db8860ced35fa20",
       "version_major": 2,
       "version_minor": 0
      },
      "text/plain": [
       "Creating glimpse 1733.6.10.ND0003:   0%|          | 0/115 [00:00<?, ?it/s]"
      ]
     },
     "metadata": {},
     "output_type": "display_data"
    },
    {
     "name": "stdout",
     "output_type": "stream",
     "text": [
      "Video 1733.6.10.ND0003 saved successfully.\n"
     ]
    },
    {
     "data": {
      "application/vnd.jupyter.widget-view+json": {
       "model_id": "80b563f38a384628b9f1f0722d2d50c1",
       "version_major": 2,
       "version_minor": 0
      },
      "text/plain": [
       "Creating glimpse 1722.6.10.ND0003:   0%|          | 0/113 [00:00<?, ?it/s]"
      ]
     },
     "metadata": {},
     "output_type": "display_data"
    },
    {
     "name": "stdout",
     "output_type": "stream",
     "text": [
      "Video 1722.6.10.ND0003 saved successfully.\n"
     ]
    },
    {
     "data": {
      "application/vnd.jupyter.widget-view+json": {
       "model_id": "a42cfed9de9b4e21be0fa26f8abc3ef9",
       "version_major": 2,
       "version_minor": 0
      },
      "text/plain": [
       "Creating glimpse 1756.6.10.ND0003:   0%|          | 0/114 [00:00<?, ?it/s]"
      ]
     },
     "metadata": {},
     "output_type": "display_data"
    },
    {
     "name": "stdout",
     "output_type": "stream",
     "text": [
      "Video 1756.6.10.ND0003 saved successfully.\n"
     ]
    },
    {
     "data": {
      "application/vnd.jupyter.widget-view+json": {
       "model_id": "51a708496f03486082156c6de4e81f9b",
       "version_major": 2,
       "version_minor": 0
      },
      "text/plain": [
       "Creating glimpse 1757.6.10.ND0003:   0%|          | 0/113 [00:00<?, ?it/s]"
      ]
     },
     "metadata": {},
     "output_type": "display_data"
    },
    {
     "name": "stdout",
     "output_type": "stream",
     "text": [
      "Video 1757.6.10.ND0003 saved successfully.\n"
     ]
    },
    {
     "data": {
      "application/vnd.jupyter.widget-view+json": {
       "model_id": "5809b5d9351d46d38b124eb1536f44d1",
       "version_major": 2,
       "version_minor": 0
      },
      "text/plain": [
       "Creating glimpse 1759.6.10.ND0003:   0%|          | 0/114 [00:00<?, ?it/s]"
      ]
     },
     "metadata": {},
     "output_type": "display_data"
    },
    {
     "name": "stdout",
     "output_type": "stream",
     "text": [
      "Video 1759.6.10.ND0003 saved successfully.\n"
     ]
    },
    {
     "data": {
      "application/vnd.jupyter.widget-view+json": {
       "model_id": "b2f222b227214d478535007c03bbd799",
       "version_major": 2,
       "version_minor": 0
      },
      "text/plain": [
       "Creating glimpse 1820.6.10.ND0003:   0%|          | 0/111 [00:00<?, ?it/s]"
      ]
     },
     "metadata": {},
     "output_type": "display_data"
    },
    {
     "name": "stdout",
     "output_type": "stream",
     "text": [
      "Video 1820.6.10.ND0003 saved successfully.\n"
     ]
    },
    {
     "data": {
      "application/vnd.jupyter.widget-view+json": {
       "model_id": "e8b825ced2eb48f4868abf18f794068b",
       "version_major": 2,
       "version_minor": 0
      },
      "text/plain": [
       "Creating glimpse 1807.6.10.ND0003:   0%|          | 0/109 [00:00<?, ?it/s]"
      ]
     },
     "metadata": {},
     "output_type": "display_data"
    },
    {
     "name": "stdout",
     "output_type": "stream",
     "text": [
      "Video 1807.6.10.ND0003 saved successfully.\n"
     ]
    },
    {
     "data": {
      "application/vnd.jupyter.widget-view+json": {
       "model_id": "5c042c7984e847059ae7de502dfa471f",
       "version_major": 2,
       "version_minor": 0
      },
      "text/plain": [
       "Creating glimpse 1857.6.10.ND0003:   0%|          | 0/111 [00:00<?, ?it/s]"
      ]
     },
     "metadata": {},
     "output_type": "display_data"
    },
    {
     "name": "stdout",
     "output_type": "stream",
     "text": [
      "Video 1857.6.10.ND0003 saved successfully.\n"
     ]
    },
    {
     "data": {
      "application/vnd.jupyter.widget-view+json": {
       "model_id": "434392e467e54eb395749320ee8a5e84",
       "version_major": 2,
       "version_minor": 0
      },
      "text/plain": [
       "Creating glimpse 1861.6.10.ND0003:   0%|          | 0/70 [00:00<?, ?it/s]"
      ]
     },
     "metadata": {},
     "output_type": "display_data"
    },
    {
     "name": "stdout",
     "output_type": "stream",
     "text": [
      "Video 1861.6.10.ND0003 saved successfully.\n"
     ]
    },
    {
     "data": {
      "application/vnd.jupyter.widget-view+json": {
       "model_id": "2999b369ba9349bf95f5b67543e6d552",
       "version_major": 2,
       "version_minor": 0
      },
      "text/plain": [
       "Creating glimpse 1885.6.10.ND0003:   0%|          | 0/110 [00:00<?, ?it/s]"
      ]
     },
     "metadata": {},
     "output_type": "display_data"
    },
    {
     "name": "stdout",
     "output_type": "stream",
     "text": [
      "Video 1885.6.10.ND0003 saved successfully.\n"
     ]
    },
    {
     "data": {
      "application/vnd.jupyter.widget-view+json": {
       "model_id": "3304566fea20485ea09004a721ef6a0e",
       "version_major": 2,
       "version_minor": 0
      },
      "text/plain": [
       "Creating glimpse 1906.6.10.ND0003:   0%|          | 0/109 [00:00<?, ?it/s]"
      ]
     },
     "metadata": {},
     "output_type": "display_data"
    },
    {
     "name": "stdout",
     "output_type": "stream",
     "text": [
      "Video 1906.6.10.ND0003 saved successfully.\n"
     ]
    },
    {
     "data": {
      "application/vnd.jupyter.widget-view+json": {
       "model_id": "ebe649ab37e54426a1310410ba838691",
       "version_major": 2,
       "version_minor": 0
      },
      "text/plain": [
       "Creating glimpse 1901.6.10.ND0003:   0%|          | 0/109 [00:00<?, ?it/s]"
      ]
     },
     "metadata": {},
     "output_type": "display_data"
    },
    {
     "name": "stdout",
     "output_type": "stream",
     "text": [
      "Video 1901.6.10.ND0003 saved successfully.\n"
     ]
    },
    {
     "data": {
      "application/vnd.jupyter.widget-view+json": {
       "model_id": "8cac529a6b66417fa7b4f0c80f38c409",
       "version_major": 2,
       "version_minor": 0
      },
      "text/plain": [
       "Creating glimpse 1930.6.10.ND0003:   0%|          | 0/108 [00:00<?, ?it/s]"
      ]
     },
     "metadata": {},
     "output_type": "display_data"
    },
    {
     "name": "stdout",
     "output_type": "stream",
     "text": [
      "Video 1930.6.10.ND0003 saved successfully.\n"
     ]
    },
    {
     "data": {
      "application/vnd.jupyter.widget-view+json": {
       "model_id": "0a322d8ddcc8446093757056b0980617",
       "version_major": 2,
       "version_minor": 0
      },
      "text/plain": [
       "Creating glimpse 1967.6.10.ND0003:   0%|          | 0/106 [00:00<?, ?it/s]"
      ]
     },
     "metadata": {},
     "output_type": "display_data"
    },
    {
     "name": "stdout",
     "output_type": "stream",
     "text": [
      "Video 1967.6.10.ND0003 saved successfully.\n"
     ]
    },
    {
     "data": {
      "application/vnd.jupyter.widget-view+json": {
       "model_id": "e28285346f1a430eb2ed830c4b0fa351",
       "version_major": 2,
       "version_minor": 0
      },
      "text/plain": [
       "Creating glimpse 2004.6.10.ND0003:   0%|          | 0/105 [00:00<?, ?it/s]"
      ]
     },
     "metadata": {},
     "output_type": "display_data"
    },
    {
     "name": "stdout",
     "output_type": "stream",
     "text": [
      "Video 2004.6.10.ND0003 saved successfully.\n"
     ]
    },
    {
     "data": {
      "application/vnd.jupyter.widget-view+json": {
       "model_id": "6f0d96ac773c467b9ccf1556d4878455",
       "version_major": 2,
       "version_minor": 0
      },
      "text/plain": [
       "Creating glimpse 2078.6.10.ND0003:   0%|          | 0/102 [00:00<?, ?it/s]"
      ]
     },
     "metadata": {},
     "output_type": "display_data"
    },
    {
     "name": "stdout",
     "output_type": "stream",
     "text": [
      "Video 2078.6.10.ND0003 saved successfully.\n"
     ]
    },
    {
     "data": {
      "application/vnd.jupyter.widget-view+json": {
       "model_id": "f805442914264b7684ee6f878f45cde9",
       "version_major": 2,
       "version_minor": 0
      },
      "text/plain": [
       "Creating glimpse 2111.6.10.ND0003:   0%|          | 0/101 [00:00<?, ?it/s]"
      ]
     },
     "metadata": {},
     "output_type": "display_data"
    },
    {
     "name": "stdout",
     "output_type": "stream",
     "text": [
      "Video 2111.6.10.ND0003 saved successfully.\n"
     ]
    },
    {
     "data": {
      "application/vnd.jupyter.widget-view+json": {
       "model_id": "6fb32d3dbfac4a909ca73229a6c4b741",
       "version_major": 2,
       "version_minor": 0
      },
      "text/plain": [
       "Creating glimpse 2090.6.10.ND0003:   0%|          | 0/101 [00:00<?, ?it/s]"
      ]
     },
     "metadata": {},
     "output_type": "display_data"
    },
    {
     "name": "stdout",
     "output_type": "stream",
     "text": [
      "Video 2090.6.10.ND0003 saved successfully.\n"
     ]
    },
    {
     "data": {
      "application/vnd.jupyter.widget-view+json": {
       "model_id": "dab07a2c91fe45f6adc2fc9ec515ec68",
       "version_major": 2,
       "version_minor": 0
      },
      "text/plain": [
       "Creating glimpse 2120.6.10.ND0003:   0%|          | 0/73 [00:00<?, ?it/s]"
      ]
     },
     "metadata": {},
     "output_type": "display_data"
    },
    {
     "name": "stdout",
     "output_type": "stream",
     "text": [
      "Video 2120.6.10.ND0003 saved successfully.\n"
     ]
    },
    {
     "data": {
      "application/vnd.jupyter.widget-view+json": {
       "model_id": "50fd982ed25d4eb6abb62f7bd2f92e47",
       "version_major": 2,
       "version_minor": 0
      },
      "text/plain": [
       "Creating glimpse 2161.6.10.ND0003:   0%|          | 0/99 [00:00<?, ?it/s]"
      ]
     },
     "metadata": {},
     "output_type": "display_data"
    },
    {
     "name": "stdout",
     "output_type": "stream",
     "text": [
      "Video 2161.6.10.ND0003 saved successfully.\n"
     ]
    },
    {
     "data": {
      "application/vnd.jupyter.widget-view+json": {
       "model_id": "d23fd325bdd44522b28c3a22a35bfb0c",
       "version_major": 2,
       "version_minor": 0
      },
      "text/plain": [
       "Creating glimpse 2171.6.10.ND0003:   0%|          | 0/98 [00:00<?, ?it/s]"
      ]
     },
     "metadata": {},
     "output_type": "display_data"
    },
    {
     "name": "stdout",
     "output_type": "stream",
     "text": [
      "Video 2171.6.10.ND0003 saved successfully.\n"
     ]
    },
    {
     "data": {
      "application/vnd.jupyter.widget-view+json": {
       "model_id": "d475a1665e2d42d0bbdf72612d08c82e",
       "version_major": 2,
       "version_minor": 0
      },
      "text/plain": [
       "Creating glimpse 2169.6.10.ND0003:   0%|          | 0/96 [00:00<?, ?it/s]"
      ]
     },
     "metadata": {},
     "output_type": "display_data"
    },
    {
     "name": "stdout",
     "output_type": "stream",
     "text": [
      "Video 2169.6.10.ND0003 saved successfully.\n"
     ]
    },
    {
     "data": {
      "application/vnd.jupyter.widget-view+json": {
       "model_id": "a926c3adb3e247579beab48f0d96f8bb",
       "version_major": 2,
       "version_minor": 0
      },
      "text/plain": [
       "Creating glimpse 2230.6.10.ND0003:   0%|          | 0/95 [00:00<?, ?it/s]"
      ]
     },
     "metadata": {},
     "output_type": "display_data"
    },
    {
     "name": "stdout",
     "output_type": "stream",
     "text": [
      "Video 2230.6.10.ND0003 saved successfully.\n"
     ]
    },
    {
     "data": {
      "application/vnd.jupyter.widget-view+json": {
       "model_id": "1ed440c290d74337b700b77bc909c25b",
       "version_major": 2,
       "version_minor": 0
      },
      "text/plain": [
       "Creating glimpse 2239.6.10.ND0003:   0%|          | 0/71 [00:00<?, ?it/s]"
      ]
     },
     "metadata": {},
     "output_type": "display_data"
    },
    {
     "name": "stdout",
     "output_type": "stream",
     "text": [
      "Video 2239.6.10.ND0003 saved successfully.\n"
     ]
    },
    {
     "data": {
      "application/vnd.jupyter.widget-view+json": {
       "model_id": "1f76aba3858842b58d989bba030aef45",
       "version_major": 2,
       "version_minor": 0
      },
      "text/plain": [
       "Creating glimpse 2264.6.10.ND0003:   0%|          | 0/95 [00:00<?, ?it/s]"
      ]
     },
     "metadata": {},
     "output_type": "display_data"
    },
    {
     "name": "stdout",
     "output_type": "stream",
     "text": [
      "Video 2264.6.10.ND0003 saved successfully.\n"
     ]
    },
    {
     "data": {
      "application/vnd.jupyter.widget-view+json": {
       "model_id": "4e4ad08376134a9b822ec8e592d90b3d",
       "version_major": 2,
       "version_minor": 0
      },
      "text/plain": [
       "Creating glimpse 2261.6.10.ND0003:   0%|          | 0/94 [00:00<?, ?it/s]"
      ]
     },
     "metadata": {},
     "output_type": "display_data"
    },
    {
     "name": "stdout",
     "output_type": "stream",
     "text": [
      "Video 2261.6.10.ND0003 saved successfully.\n"
     ]
    },
    {
     "data": {
      "application/vnd.jupyter.widget-view+json": {
       "model_id": "f57930c49cce4a42b7173a3af4d415ee",
       "version_major": 2,
       "version_minor": 0
      },
      "text/plain": [
       "Creating glimpse 2271.6.10.ND0003:   0%|          | 0/94 [00:00<?, ?it/s]"
      ]
     },
     "metadata": {},
     "output_type": "display_data"
    },
    {
     "name": "stdout",
     "output_type": "stream",
     "text": [
      "Video 2271.6.10.ND0003 saved successfully.\n"
     ]
    },
    {
     "data": {
      "application/vnd.jupyter.widget-view+json": {
       "model_id": "c5a0203a85bc4cfbb7db41d9386c01d4",
       "version_major": 2,
       "version_minor": 0
      },
      "text/plain": [
       "Creating glimpse 2303.6.10.ND0003:   0%|          | 0/93 [00:00<?, ?it/s]"
      ]
     },
     "metadata": {},
     "output_type": "display_data"
    },
    {
     "name": "stdout",
     "output_type": "stream",
     "text": [
      "Video 2303.6.10.ND0003 saved successfully.\n"
     ]
    },
    {
     "data": {
      "application/vnd.jupyter.widget-view+json": {
       "model_id": "cbec577981ac4bb4ab420815c2afdac4",
       "version_major": 2,
       "version_minor": 0
      },
      "text/plain": [
       "Creating glimpse 2316.6.10.ND0003:   0%|          | 0/92 [00:00<?, ?it/s]"
      ]
     },
     "metadata": {},
     "output_type": "display_data"
    },
    {
     "name": "stdout",
     "output_type": "stream",
     "text": [
      "Video 2316.6.10.ND0003 saved successfully.\n"
     ]
    },
    {
     "data": {
      "application/vnd.jupyter.widget-view+json": {
       "model_id": "a4f73858e20841329ab5bf8f5de0d7bc",
       "version_major": 2,
       "version_minor": 0
      },
      "text/plain": [
       "Creating glimpse 2309.6.10.ND0003:   0%|          | 0/92 [00:00<?, ?it/s]"
      ]
     },
     "metadata": {},
     "output_type": "display_data"
    },
    {
     "name": "stdout",
     "output_type": "stream",
     "text": [
      "Video 2309.6.10.ND0003 saved successfully.\n"
     ]
    },
    {
     "data": {
      "application/vnd.jupyter.widget-view+json": {
       "model_id": "10ee29d6d157430a8e586c65b342cafe",
       "version_major": 2,
       "version_minor": 0
      },
      "text/plain": [
       "Creating glimpse 2335.6.10.ND0003:   0%|          | 0/91 [00:00<?, ?it/s]"
      ]
     },
     "metadata": {},
     "output_type": "display_data"
    },
    {
     "name": "stdout",
     "output_type": "stream",
     "text": [
      "Video 2335.6.10.ND0003 saved successfully.\n"
     ]
    },
    {
     "data": {
      "application/vnd.jupyter.widget-view+json": {
       "model_id": "b38a183f15d8488ea38d542b6579db8f",
       "version_major": 2,
       "version_minor": 0
      },
      "text/plain": [
       "Creating glimpse 2363.6.10.ND0003:   0%|          | 0/89 [00:00<?, ?it/s]"
      ]
     },
     "metadata": {},
     "output_type": "display_data"
    },
    {
     "name": "stdout",
     "output_type": "stream",
     "text": [
      "Video 2363.6.10.ND0003 saved successfully.\n"
     ]
    },
    {
     "data": {
      "application/vnd.jupyter.widget-view+json": {
       "model_id": "e9b3871e8d144b0c9ffe20790ccf15f0",
       "version_major": 2,
       "version_minor": 0
      },
      "text/plain": [
       "Creating glimpse 2391.6.10.ND0003:   0%|          | 0/88 [00:00<?, ?it/s]"
      ]
     },
     "metadata": {},
     "output_type": "display_data"
    },
    {
     "name": "stdout",
     "output_type": "stream",
     "text": [
      "Video 2391.6.10.ND0003 saved successfully.\n"
     ]
    },
    {
     "data": {
      "application/vnd.jupyter.widget-view+json": {
       "model_id": "b66a5f2426fb49f2afff356626e3e2ee",
       "version_major": 2,
       "version_minor": 0
      },
      "text/plain": [
       "Creating glimpse 2389.6.10.ND0003:   0%|          | 0/88 [00:00<?, ?it/s]"
      ]
     },
     "metadata": {},
     "output_type": "display_data"
    },
    {
     "name": "stdout",
     "output_type": "stream",
     "text": [
      "Video 2389.6.10.ND0003 saved successfully.\n"
     ]
    },
    {
     "data": {
      "application/vnd.jupyter.widget-view+json": {
       "model_id": "11cc083ee8ad4f20b0c2199b72b89bf1",
       "version_major": 2,
       "version_minor": 0
      },
      "text/plain": [
       "Creating glimpse 2387.6.10.ND0003:   0%|          | 0/88 [00:00<?, ?it/s]"
      ]
     },
     "metadata": {},
     "output_type": "display_data"
    },
    {
     "name": "stdout",
     "output_type": "stream",
     "text": [
      "Video 2387.6.10.ND0003 saved successfully.\n"
     ]
    },
    {
     "data": {
      "application/vnd.jupyter.widget-view+json": {
       "model_id": "58cacacc7a804c848b1be940530a19d3",
       "version_major": 2,
       "version_minor": 0
      },
      "text/plain": [
       "Creating glimpse 2418.6.10.ND0003:   0%|          | 0/86 [00:00<?, ?it/s]"
      ]
     },
     "metadata": {},
     "output_type": "display_data"
    },
    {
     "name": "stdout",
     "output_type": "stream",
     "text": [
      "Video 2418.6.10.ND0003 saved successfully.\n"
     ]
    },
    {
     "data": {
      "application/vnd.jupyter.widget-view+json": {
       "model_id": "8f2abffc72b84e4b8e6dffcc839431e3",
       "version_major": 2,
       "version_minor": 0
      },
      "text/plain": [
       "Creating glimpse 2405.6.10.ND0003:   0%|          | 0/87 [00:00<?, ?it/s]"
      ]
     },
     "metadata": {},
     "output_type": "display_data"
    },
    {
     "name": "stdout",
     "output_type": "stream",
     "text": [
      "Video 2405.6.10.ND0003 saved successfully.\n"
     ]
    },
    {
     "data": {
      "application/vnd.jupyter.widget-view+json": {
       "model_id": "b71e5423e8c64ece8bdc7171396d5509",
       "version_major": 2,
       "version_minor": 0
      },
      "text/plain": [
       "Creating glimpse 2409.6.10.ND0003:   0%|          | 0/87 [00:00<?, ?it/s]"
      ]
     },
     "metadata": {},
     "output_type": "display_data"
    },
    {
     "name": "stdout",
     "output_type": "stream",
     "text": [
      "Video 2409.6.10.ND0003 saved successfully.\n"
     ]
    },
    {
     "data": {
      "application/vnd.jupyter.widget-view+json": {
       "model_id": "aa7894af1e5b4c8c95f49fa83002c520",
       "version_major": 2,
       "version_minor": 0
      },
      "text/plain": [
       "Creating glimpse 2400.6.10.ND0003:   0%|          | 0/72 [00:00<?, ?it/s]"
      ]
     },
     "metadata": {},
     "output_type": "display_data"
    },
    {
     "name": "stdout",
     "output_type": "stream",
     "text": [
      "Video 2400.6.10.ND0003 saved successfully.\n"
     ]
    },
    {
     "data": {
      "application/vnd.jupyter.widget-view+json": {
       "model_id": "ff0adb96a1154402b66dd8a32d0bee2c",
       "version_major": 2,
       "version_minor": 0
      },
      "text/plain": [
       "Creating glimpse 2434.6.10.ND0003:   0%|          | 0/86 [00:00<?, ?it/s]"
      ]
     },
     "metadata": {},
     "output_type": "display_data"
    },
    {
     "name": "stdout",
     "output_type": "stream",
     "text": [
      "Video 2434.6.10.ND0003 saved successfully.\n"
     ]
    },
    {
     "data": {
      "application/vnd.jupyter.widget-view+json": {
       "model_id": "faf9f2da31fa47e9ae238696cb07cbbd",
       "version_major": 2,
       "version_minor": 0
      },
      "text/plain": [
       "Creating glimpse 2456.6.10.ND0003:   0%|          | 0/85 [00:00<?, ?it/s]"
      ]
     },
     "metadata": {},
     "output_type": "display_data"
    },
    {
     "name": "stdout",
     "output_type": "stream",
     "text": [
      "Video 2456.6.10.ND0003 saved successfully.\n"
     ]
    },
    {
     "data": {
      "application/vnd.jupyter.widget-view+json": {
       "model_id": "f9d066e2f75949549a20c5728fc8ff7b",
       "version_major": 2,
       "version_minor": 0
      },
      "text/plain": [
       "Creating glimpse 2474.6.10.ND0003:   0%|          | 0/84 [00:00<?, ?it/s]"
      ]
     },
     "metadata": {},
     "output_type": "display_data"
    },
    {
     "name": "stdout",
     "output_type": "stream",
     "text": [
      "Video 2474.6.10.ND0003 saved successfully.\n"
     ]
    },
    {
     "data": {
      "application/vnd.jupyter.widget-view+json": {
       "model_id": "fa202af586c844178568f9a7d9463554",
       "version_major": 2,
       "version_minor": 0
      },
      "text/plain": [
       "Creating glimpse 2508.6.10.ND0003:   0%|          | 0/83 [00:00<?, ?it/s]"
      ]
     },
     "metadata": {},
     "output_type": "display_data"
    },
    {
     "name": "stdout",
     "output_type": "stream",
     "text": [
      "Video 2508.6.10.ND0003 saved successfully.\n"
     ]
    },
    {
     "data": {
      "application/vnd.jupyter.widget-view+json": {
       "model_id": "b4dbeb5b991843a090d2dc6882b5c569",
       "version_major": 2,
       "version_minor": 0
      },
      "text/plain": [
       "Creating glimpse 2550.6.10.ND0003:   0%|          | 0/80 [00:00<?, ?it/s]"
      ]
     },
     "metadata": {},
     "output_type": "display_data"
    },
    {
     "name": "stdout",
     "output_type": "stream",
     "text": [
      "Video 2550.6.10.ND0003 saved successfully.\n"
     ]
    },
    {
     "data": {
      "application/vnd.jupyter.widget-view+json": {
       "model_id": "0a900d13910e412ca087eb996c4609d2",
       "version_major": 2,
       "version_minor": 0
      },
      "text/plain": [
       "Creating glimpse 2540.6.10.ND0003:   0%|          | 0/79 [00:00<?, ?it/s]"
      ]
     },
     "metadata": {},
     "output_type": "display_data"
    },
    {
     "name": "stdout",
     "output_type": "stream",
     "text": [
      "Video 2540.6.10.ND0003 saved successfully.\n"
     ]
    },
    {
     "data": {
      "application/vnd.jupyter.widget-view+json": {
       "model_id": "d5a372cbbc8c46928dfb6c316f6dc777",
       "version_major": 2,
       "version_minor": 0
      },
      "text/plain": [
       "Creating glimpse 2535.6.10.ND0003:   0%|          | 0/81 [00:00<?, ?it/s]"
      ]
     },
     "metadata": {},
     "output_type": "display_data"
    },
    {
     "name": "stdout",
     "output_type": "stream",
     "text": [
      "Video 2535.6.10.ND0003 saved successfully.\n"
     ]
    },
    {
     "data": {
      "application/vnd.jupyter.widget-view+json": {
       "model_id": "7992ffb9a0504bd388670d57ed4f52ae",
       "version_major": 2,
       "version_minor": 0
      },
      "text/plain": [
       "Creating glimpse 2565.6.10.ND0003:   0%|          | 0/80 [00:00<?, ?it/s]"
      ]
     },
     "metadata": {},
     "output_type": "display_data"
    },
    {
     "name": "stdout",
     "output_type": "stream",
     "text": [
      "Video 2565.6.10.ND0003 saved successfully.\n"
     ]
    },
    {
     "data": {
      "application/vnd.jupyter.widget-view+json": {
       "model_id": "a068e9d7840a40d2a051bf707003e92f",
       "version_major": 2,
       "version_minor": 0
      },
      "text/plain": [
       "Creating glimpse 2590.6.10.ND0003:   0%|          | 0/79 [00:00<?, ?it/s]"
      ]
     },
     "metadata": {},
     "output_type": "display_data"
    },
    {
     "name": "stdout",
     "output_type": "stream",
     "text": [
      "Video 2590.6.10.ND0003 saved successfully.\n"
     ]
    },
    {
     "data": {
      "application/vnd.jupyter.widget-view+json": {
       "model_id": "0141babf370544bb96f4732cde32eab2",
       "version_major": 2,
       "version_minor": 0
      },
      "text/plain": [
       "Creating glimpse 2577.6.10.ND0003:   0%|          | 0/78 [00:00<?, ?it/s]"
      ]
     },
     "metadata": {},
     "output_type": "display_data"
    },
    {
     "name": "stdout",
     "output_type": "stream",
     "text": [
      "Video 2577.6.10.ND0003 saved successfully.\n"
     ]
    },
    {
     "data": {
      "application/vnd.jupyter.widget-view+json": {
       "model_id": "d0394bf108a04410bdc332352cb48a3a",
       "version_major": 2,
       "version_minor": 0
      },
      "text/plain": [
       "Creating glimpse 2612.6.10.ND0003:   0%|          | 0/78 [00:00<?, ?it/s]"
      ]
     },
     "metadata": {},
     "output_type": "display_data"
    },
    {
     "name": "stdout",
     "output_type": "stream",
     "text": [
      "Video 2612.6.10.ND0003 saved successfully.\n"
     ]
    },
    {
     "data": {
      "application/vnd.jupyter.widget-view+json": {
       "model_id": "78aa8be91b864b4b9fc24ef62f2865be",
       "version_major": 2,
       "version_minor": 0
      },
      "text/plain": [
       "Creating glimpse 2634.6.10.ND0003:   0%|          | 0/76 [00:00<?, ?it/s]"
      ]
     },
     "metadata": {},
     "output_type": "display_data"
    },
    {
     "name": "stdout",
     "output_type": "stream",
     "text": [
      "Video 2634.6.10.ND0003 saved successfully.\n"
     ]
    },
    {
     "data": {
      "application/vnd.jupyter.widget-view+json": {
       "model_id": "aae1006b1064486694e300eb66b45b65",
       "version_major": 2,
       "version_minor": 0
      },
      "text/plain": [
       "Creating glimpse 2616.6.10.ND0003:   0%|          | 0/75 [00:00<?, ?it/s]"
      ]
     },
     "metadata": {},
     "output_type": "display_data"
    },
    {
     "name": "stdout",
     "output_type": "stream",
     "text": [
      "Video 2616.6.10.ND0003 saved successfully.\n"
     ]
    },
    {
     "data": {
      "application/vnd.jupyter.widget-view+json": {
       "model_id": "fff331fd55f54a8dbbb778b2fc8bdf68",
       "version_major": 2,
       "version_minor": 0
      },
      "text/plain": [
       "Creating glimpse 2620.6.10.ND0003:   0%|          | 0/77 [00:00<?, ?it/s]"
      ]
     },
     "metadata": {},
     "output_type": "display_data"
    },
    {
     "name": "stdout",
     "output_type": "stream",
     "text": [
      "Video 2620.6.10.ND0003 saved successfully.\n"
     ]
    },
    {
     "data": {
      "application/vnd.jupyter.widget-view+json": {
       "model_id": "b7e24c9614384337b4a28162b611cd8f",
       "version_major": 2,
       "version_minor": 0
      },
      "text/plain": [
       "Creating glimpse 2675.6.10.ND0003:   0%|          | 0/74 [00:00<?, ?it/s]"
      ]
     },
     "metadata": {},
     "output_type": "display_data"
    },
    {
     "name": "stdout",
     "output_type": "stream",
     "text": [
      "Video 2675.6.10.ND0003 saved successfully.\n"
     ]
    },
    {
     "data": {
      "application/vnd.jupyter.widget-view+json": {
       "model_id": "322fced479864d5fb19d4ca319e54e9b",
       "version_major": 2,
       "version_minor": 0
      },
      "text/plain": [
       "Creating glimpse 2683.6.10.ND0003:   0%|          | 0/75 [00:00<?, ?it/s]"
      ]
     },
     "metadata": {},
     "output_type": "display_data"
    },
    {
     "name": "stdout",
     "output_type": "stream",
     "text": [
      "Video 2683.6.10.ND0003 saved successfully.\n"
     ]
    },
    {
     "data": {
      "application/vnd.jupyter.widget-view+json": {
       "model_id": "be897703b73a4aeba61727146ec72f69",
       "version_major": 2,
       "version_minor": 0
      },
      "text/plain": [
       "Creating glimpse 2685.6.10.ND0003:   0%|          | 0/75 [00:00<?, ?it/s]"
      ]
     },
     "metadata": {},
     "output_type": "display_data"
    },
    {
     "name": "stdout",
     "output_type": "stream",
     "text": [
      "Video 2685.6.10.ND0003 saved successfully.\n"
     ]
    },
    {
     "data": {
      "application/vnd.jupyter.widget-view+json": {
       "model_id": "13690a42775b4d5e933ed23280aecb85",
       "version_major": 2,
       "version_minor": 0
      },
      "text/plain": [
       "Creating glimpse 2725.6.10.ND0003:   0%|          | 0/73 [00:00<?, ?it/s]"
      ]
     },
     "metadata": {},
     "output_type": "display_data"
    },
    {
     "name": "stdout",
     "output_type": "stream",
     "text": [
      "Video 2725.6.10.ND0003 saved successfully.\n"
     ]
    },
    {
     "data": {
      "application/vnd.jupyter.widget-view+json": {
       "model_id": "cb2bd16f02ff43afb0d6263ced46a86c",
       "version_major": 2,
       "version_minor": 0
      },
      "text/plain": [
       "Creating glimpse 2723.6.10.ND0003:   0%|          | 0/73 [00:00<?, ?it/s]"
      ]
     },
     "metadata": {},
     "output_type": "display_data"
    },
    {
     "name": "stdout",
     "output_type": "stream",
     "text": [
      "Video 2723.6.10.ND0003 saved successfully.\n"
     ]
    },
    {
     "data": {
      "application/vnd.jupyter.widget-view+json": {
       "model_id": "10c33db1794f4785ab2407c49d0cebb3",
       "version_major": 2,
       "version_minor": 0
      },
      "text/plain": [
       "Creating glimpse 2720.6.10.ND0003:   0%|          | 0/73 [00:00<?, ?it/s]"
      ]
     },
     "metadata": {},
     "output_type": "display_data"
    },
    {
     "name": "stdout",
     "output_type": "stream",
     "text": [
      "Video 2720.6.10.ND0003 saved successfully.\n"
     ]
    },
    {
     "data": {
      "application/vnd.jupyter.widget-view+json": {
       "model_id": "d71d4dfb828e4d7999a79484b648b46c",
       "version_major": 2,
       "version_minor": 0
      },
      "text/plain": [
       "Creating glimpse 2771.6.10.ND0003:   0%|          | 0/71 [00:00<?, ?it/s]"
      ]
     },
     "metadata": {},
     "output_type": "display_data"
    },
    {
     "name": "stdout",
     "output_type": "stream",
     "text": [
      "Video 2771.6.10.ND0003 saved successfully.\n"
     ]
    },
    {
     "data": {
      "application/vnd.jupyter.widget-view+json": {
       "model_id": "79fbe303482a4071996fbeebde4a50ea",
       "version_major": 2,
       "version_minor": 0
      },
      "text/plain": [
       "Creating glimpse 2764.6.10.ND0003:   0%|          | 0/71 [00:00<?, ?it/s]"
      ]
     },
     "metadata": {},
     "output_type": "display_data"
    },
    {
     "name": "stdout",
     "output_type": "stream",
     "text": [
      "Video 2764.6.10.ND0003 saved successfully.\n"
     ]
    },
    {
     "data": {
      "application/vnd.jupyter.widget-view+json": {
       "model_id": "1a085ac7d042473c98939d6c3cf23184",
       "version_major": 2,
       "version_minor": 0
      },
      "text/plain": [
       "Creating glimpse 2786.6.10.ND0003:   0%|          | 0/70 [00:00<?, ?it/s]"
      ]
     },
     "metadata": {},
     "output_type": "display_data"
    },
    {
     "name": "stdout",
     "output_type": "stream",
     "text": [
      "Video 2786.6.10.ND0003 saved successfully.\n"
     ]
    },
    {
     "name": "stderr",
     "output_type": "stream",
     "text": [
      "[INFO][2024/09/10 02:30:33 PM] Opening HDF file: /mnt/SYNO/macrohet_syno/data/ND0003/labels/cpv3/(6, 11).h5...\n",
      "[INFO][2024/09/10 02:31:33 PM] Loading segmentation (154, 6048, 6048)\n",
      "[INFO][2024/09/10 02:31:33 PM] Closing HDF file: /mnt/SYNO/macrohet_syno/data/ND0003/labels/cpv3/(6, 11).h5\n"
     ]
    },
    {
     "data": {
      "application/vnd.jupyter.widget-view+json": {
       "model_id": "a29a52ca93394fa79faecf55400f754b",
       "version_major": 2,
       "version_minor": 0
      },
      "text/plain": [
       "Creating glimpse 167.6.11.ND0003:   0%|          | 0/154 [00:00<?, ?it/s]"
      ]
     },
     "metadata": {},
     "output_type": "display_data"
    },
    {
     "ename": "KeyboardInterrupt",
     "evalue": "",
     "output_type": "error",
     "traceback": [
      "\u001b[0;31m---------------------------------------------------------------------------\u001b[0m",
      "\u001b[0;31mKeyboardInterrupt\u001b[0m                         Traceback (most recent call last)",
      "Cell \u001b[0;32mIn[5], line 85\u001b[0m\n\u001b[1;32m     82\u001b[0m     y_pad_end \u001b[38;5;241m=\u001b[39m \u001b[38;5;241m0\u001b[39m\n\u001b[1;32m     84\u001b[0m \u001b[38;5;66;03m# Crop the image\u001b[39;00m\n\u001b[0;32m---> 85\u001b[0m cropped_image \u001b[38;5;241m=\u001b[39m \u001b[43mimages\u001b[49m\u001b[43m[\u001b[49m\u001b[38;5;28;43mint\u001b[39;49m\u001b[43m(\u001b[49m\u001b[43mf\u001b[49m\u001b[43m)\u001b[49m\u001b[43m,\u001b[49m\u001b[43m \u001b[49m\u001b[43m:\u001b[49m\u001b[43m,\u001b[49m\u001b[43m \u001b[49m\u001b[38;5;241;43m0\u001b[39;49m\u001b[43m,\u001b[49m\u001b[43m \u001b[49m\u001b[43mx_start\u001b[49m\u001b[43m:\u001b[49m\u001b[43mx_end\u001b[49m\u001b[43m,\u001b[49m\u001b[43m \u001b[49m\u001b[43my_start\u001b[49m\u001b[43m:\u001b[49m\u001b[43my_end\u001b[49m\u001b[43m]\u001b[49m\n\u001b[1;32m     87\u001b[0m \u001b[38;5;66;03m# Pad the cropped image if necessary\u001b[39;00m\n\u001b[1;32m     88\u001b[0m cropped_image \u001b[38;5;241m=\u001b[39m np\u001b[38;5;241m.\u001b[39mpad(cropped_image, ((\u001b[38;5;241m0\u001b[39m, \u001b[38;5;241m0\u001b[39m), (x_pad, x_pad_end), (y_pad, y_pad_end)), mode\u001b[38;5;241m=\u001b[39m\u001b[38;5;124m'\u001b[39m\u001b[38;5;124mconstant\u001b[39m\u001b[38;5;124m'\u001b[39m)\n",
      "File \u001b[0;32m~/miniconda3/envs/egg/lib/python3.9/site-packages/zarr/core.py:842\u001b[0m, in \u001b[0;36mArray.__getitem__\u001b[0;34m(self, selection)\u001b[0m\n\u001b[1;32m    840\u001b[0m     result \u001b[38;5;241m=\u001b[39m \u001b[38;5;28mself\u001b[39m\u001b[38;5;241m.\u001b[39mvindex[selection]\n\u001b[1;32m    841\u001b[0m \u001b[38;5;28;01melif\u001b[39;00m is_pure_orthogonal_indexing(pure_selection, \u001b[38;5;28mself\u001b[39m\u001b[38;5;241m.\u001b[39mndim):\n\u001b[0;32m--> 842\u001b[0m     result \u001b[38;5;241m=\u001b[39m \u001b[38;5;28;43mself\u001b[39;49m\u001b[38;5;241;43m.\u001b[39;49m\u001b[43mget_orthogonal_selection\u001b[49m\u001b[43m(\u001b[49m\u001b[43mpure_selection\u001b[49m\u001b[43m,\u001b[49m\u001b[43m \u001b[49m\u001b[43mfields\u001b[49m\u001b[38;5;241;43m=\u001b[39;49m\u001b[43mfields\u001b[49m\u001b[43m)\u001b[49m\n\u001b[1;32m    843\u001b[0m \u001b[38;5;28;01melse\u001b[39;00m:\n\u001b[1;32m    844\u001b[0m     result \u001b[38;5;241m=\u001b[39m \u001b[38;5;28mself\u001b[39m\u001b[38;5;241m.\u001b[39mget_basic_selection(pure_selection, fields\u001b[38;5;241m=\u001b[39mfields)\n",
      "File \u001b[0;32m~/miniconda3/envs/egg/lib/python3.9/site-packages/zarr/core.py:1124\u001b[0m, in \u001b[0;36mArray.get_orthogonal_selection\u001b[0;34m(self, selection, out, fields)\u001b[0m\n\u001b[1;32m   1121\u001b[0m \u001b[38;5;66;03m# setup indexer\u001b[39;00m\n\u001b[1;32m   1122\u001b[0m indexer \u001b[38;5;241m=\u001b[39m OrthogonalIndexer(selection, \u001b[38;5;28mself\u001b[39m)\n\u001b[0;32m-> 1124\u001b[0m \u001b[38;5;28;01mreturn\u001b[39;00m \u001b[38;5;28;43mself\u001b[39;49m\u001b[38;5;241;43m.\u001b[39;49m\u001b[43m_get_selection\u001b[49m\u001b[43m(\u001b[49m\u001b[43mindexer\u001b[49m\u001b[38;5;241;43m=\u001b[39;49m\u001b[43mindexer\u001b[49m\u001b[43m,\u001b[49m\u001b[43m \u001b[49m\u001b[43mout\u001b[49m\u001b[38;5;241;43m=\u001b[39;49m\u001b[43mout\u001b[49m\u001b[43m,\u001b[49m\u001b[43m \u001b[49m\u001b[43mfields\u001b[49m\u001b[38;5;241;43m=\u001b[39;49m\u001b[43mfields\u001b[49m\u001b[43m)\u001b[49m\n",
      "File \u001b[0;32m~/miniconda3/envs/egg/lib/python3.9/site-packages/zarr/core.py:1388\u001b[0m, in \u001b[0;36mArray._get_selection\u001b[0;34m(self, indexer, out, fields)\u001b[0m\n\u001b[1;32m   1385\u001b[0m \u001b[38;5;28;01mif\u001b[39;00m math\u001b[38;5;241m.\u001b[39mprod(out_shape) \u001b[38;5;241m>\u001b[39m \u001b[38;5;241m0\u001b[39m:\n\u001b[1;32m   1386\u001b[0m     \u001b[38;5;66;03m# allow storage to get multiple items at once\u001b[39;00m\n\u001b[1;32m   1387\u001b[0m     lchunk_coords, lchunk_selection, lout_selection \u001b[38;5;241m=\u001b[39m \u001b[38;5;28mzip\u001b[39m(\u001b[38;5;241m*\u001b[39mindexer)\n\u001b[0;32m-> 1388\u001b[0m     \u001b[38;5;28;43mself\u001b[39;49m\u001b[38;5;241;43m.\u001b[39;49m\u001b[43m_chunk_getitems\u001b[49m\u001b[43m(\u001b[49m\n\u001b[1;32m   1389\u001b[0m \u001b[43m        \u001b[49m\u001b[43mlchunk_coords\u001b[49m\u001b[43m,\u001b[49m\n\u001b[1;32m   1390\u001b[0m \u001b[43m        \u001b[49m\u001b[43mlchunk_selection\u001b[49m\u001b[43m,\u001b[49m\n\u001b[1;32m   1391\u001b[0m \u001b[43m        \u001b[49m\u001b[43mout\u001b[49m\u001b[43m,\u001b[49m\n\u001b[1;32m   1392\u001b[0m \u001b[43m        \u001b[49m\u001b[43mlout_selection\u001b[49m\u001b[43m,\u001b[49m\n\u001b[1;32m   1393\u001b[0m \u001b[43m        \u001b[49m\u001b[43mdrop_axes\u001b[49m\u001b[38;5;241;43m=\u001b[39;49m\u001b[43mindexer\u001b[49m\u001b[38;5;241;43m.\u001b[39;49m\u001b[43mdrop_axes\u001b[49m\u001b[43m,\u001b[49m\n\u001b[1;32m   1394\u001b[0m \u001b[43m        \u001b[49m\u001b[43mfields\u001b[49m\u001b[38;5;241;43m=\u001b[39;49m\u001b[43mfields\u001b[49m\u001b[43m,\u001b[49m\n\u001b[1;32m   1395\u001b[0m \u001b[43m    \u001b[49m\u001b[43m)\u001b[49m\n\u001b[1;32m   1396\u001b[0m \u001b[38;5;28;01mif\u001b[39;00m out\u001b[38;5;241m.\u001b[39mshape:\n\u001b[1;32m   1397\u001b[0m     \u001b[38;5;28;01mreturn\u001b[39;00m out\n",
      "File \u001b[0;32m~/miniconda3/envs/egg/lib/python3.9/site-packages/zarr/core.py:2224\u001b[0m, in \u001b[0;36mArray._chunk_getitems\u001b[0;34m(self, lchunk_coords, lchunk_selection, out, lout_selection, drop_axes, fields)\u001b[0m\n\u001b[1;32m   2222\u001b[0m     \u001b[38;5;28;01mif\u001b[39;00m \u001b[38;5;129;01mnot\u001b[39;00m \u001b[38;5;28misinstance\u001b[39m(\u001b[38;5;28mself\u001b[39m\u001b[38;5;241m.\u001b[39m_meta_array, np\u001b[38;5;241m.\u001b[39mndarray):\n\u001b[1;32m   2223\u001b[0m         contexts \u001b[38;5;241m=\u001b[39m ConstantMap(ckeys, constant\u001b[38;5;241m=\u001b[39mContext(meta_array\u001b[38;5;241m=\u001b[39m\u001b[38;5;28mself\u001b[39m\u001b[38;5;241m.\u001b[39m_meta_array))\n\u001b[0;32m-> 2224\u001b[0m     cdatas \u001b[38;5;241m=\u001b[39m \u001b[38;5;28;43mself\u001b[39;49m\u001b[38;5;241;43m.\u001b[39;49m\u001b[43mchunk_store\u001b[49m\u001b[38;5;241;43m.\u001b[39;49m\u001b[43mgetitems\u001b[49m\u001b[43m(\u001b[49m\u001b[43mckeys\u001b[49m\u001b[43m,\u001b[49m\u001b[43m \u001b[49m\u001b[43mcontexts\u001b[49m\u001b[38;5;241;43m=\u001b[39;49m\u001b[43mcontexts\u001b[49m\u001b[43m)\u001b[49m\n\u001b[1;32m   2226\u001b[0m \u001b[38;5;28;01mfor\u001b[39;00m ckey, chunk_select, out_select \u001b[38;5;129;01min\u001b[39;00m \u001b[38;5;28mzip\u001b[39m(ckeys, lchunk_selection, lout_selection):\n\u001b[1;32m   2227\u001b[0m     \u001b[38;5;28;01mif\u001b[39;00m ckey \u001b[38;5;129;01min\u001b[39;00m cdatas:\n",
      "File \u001b[0;32m~/miniconda3/envs/egg/lib/python3.9/site-packages/zarr/_storage/store.py:160\u001b[0m, in \u001b[0;36mBaseStore.getitems\u001b[0;34m(self, keys, contexts)\u001b[0m\n\u001b[1;32m    135\u001b[0m \u001b[38;5;28;01mdef\u001b[39;00m \u001b[38;5;21mgetitems\u001b[39m(\n\u001b[1;32m    136\u001b[0m     \u001b[38;5;28mself\u001b[39m, keys: Sequence[\u001b[38;5;28mstr\u001b[39m], \u001b[38;5;241m*\u001b[39m, contexts: Mapping[\u001b[38;5;28mstr\u001b[39m, Context]\n\u001b[1;32m    137\u001b[0m ) \u001b[38;5;241m-\u001b[39m\u001b[38;5;241m>\u001b[39m Mapping[\u001b[38;5;28mstr\u001b[39m, Any]:\n\u001b[1;32m    138\u001b[0m \u001b[38;5;250m    \u001b[39m\u001b[38;5;124;03m\"\"\"Retrieve data from multiple keys.\u001b[39;00m\n\u001b[1;32m    139\u001b[0m \n\u001b[1;32m    140\u001b[0m \u001b[38;5;124;03m    Parameters\u001b[39;00m\n\u001b[0;32m   (...)\u001b[0m\n\u001b[1;32m    158\u001b[0m \u001b[38;5;124;03m    keys and/or to utilize the contexts.\u001b[39;00m\n\u001b[1;32m    159\u001b[0m \u001b[38;5;124;03m    \"\"\"\u001b[39;00m\n\u001b[0;32m--> 160\u001b[0m     \u001b[38;5;28;01mreturn\u001b[39;00m {k: \u001b[38;5;28mself\u001b[39m[k] \u001b[38;5;28;01mfor\u001b[39;00m k \u001b[38;5;129;01min\u001b[39;00m keys \u001b[38;5;28;01mif\u001b[39;00m k \u001b[38;5;129;01min\u001b[39;00m \u001b[38;5;28mself\u001b[39m}\n",
      "File \u001b[0;32m~/miniconda3/envs/egg/lib/python3.9/site-packages/zarr/_storage/store.py:160\u001b[0m, in \u001b[0;36m<dictcomp>\u001b[0;34m(.0)\u001b[0m\n\u001b[1;32m    135\u001b[0m \u001b[38;5;28;01mdef\u001b[39;00m \u001b[38;5;21mgetitems\u001b[39m(\n\u001b[1;32m    136\u001b[0m     \u001b[38;5;28mself\u001b[39m, keys: Sequence[\u001b[38;5;28mstr\u001b[39m], \u001b[38;5;241m*\u001b[39m, contexts: Mapping[\u001b[38;5;28mstr\u001b[39m, Context]\n\u001b[1;32m    137\u001b[0m ) \u001b[38;5;241m-\u001b[39m\u001b[38;5;241m>\u001b[39m Mapping[\u001b[38;5;28mstr\u001b[39m, Any]:\n\u001b[1;32m    138\u001b[0m \u001b[38;5;250m    \u001b[39m\u001b[38;5;124;03m\"\"\"Retrieve data from multiple keys.\u001b[39;00m\n\u001b[1;32m    139\u001b[0m \n\u001b[1;32m    140\u001b[0m \u001b[38;5;124;03m    Parameters\u001b[39;00m\n\u001b[0;32m   (...)\u001b[0m\n\u001b[1;32m    158\u001b[0m \u001b[38;5;124;03m    keys and/or to utilize the contexts.\u001b[39;00m\n\u001b[1;32m    159\u001b[0m \u001b[38;5;124;03m    \"\"\"\u001b[39;00m\n\u001b[0;32m--> 160\u001b[0m     \u001b[38;5;28;01mreturn\u001b[39;00m {k: \u001b[38;5;28;43mself\u001b[39;49m\u001b[43m[\u001b[49m\u001b[43mk\u001b[49m\u001b[43m]\u001b[49m \u001b[38;5;28;01mfor\u001b[39;00m k \u001b[38;5;129;01min\u001b[39;00m keys \u001b[38;5;28;01mif\u001b[39;00m k \u001b[38;5;129;01min\u001b[39;00m \u001b[38;5;28mself\u001b[39m}\n",
      "File \u001b[0;32m~/miniconda3/envs/egg/lib/python3.9/site-packages/zarr/storage.py:1111\u001b[0m, in \u001b[0;36mDirectoryStore.__getitem__\u001b[0;34m(self, key)\u001b[0m\n\u001b[1;32m   1109\u001b[0m filepath \u001b[38;5;241m=\u001b[39m os\u001b[38;5;241m.\u001b[39mpath\u001b[38;5;241m.\u001b[39mjoin(\u001b[38;5;28mself\u001b[39m\u001b[38;5;241m.\u001b[39mpath, key)\n\u001b[1;32m   1110\u001b[0m \u001b[38;5;28;01mif\u001b[39;00m os\u001b[38;5;241m.\u001b[39mpath\u001b[38;5;241m.\u001b[39misfile(filepath):\n\u001b[0;32m-> 1111\u001b[0m     \u001b[38;5;28;01mreturn\u001b[39;00m \u001b[38;5;28;43mself\u001b[39;49m\u001b[38;5;241;43m.\u001b[39;49m\u001b[43m_fromfile\u001b[49m\u001b[43m(\u001b[49m\u001b[43mfilepath\u001b[49m\u001b[43m)\u001b[49m\n\u001b[1;32m   1112\u001b[0m \u001b[38;5;28;01melse\u001b[39;00m:\n\u001b[1;32m   1113\u001b[0m     \u001b[38;5;28;01mraise\u001b[39;00m \u001b[38;5;167;01mKeyError\u001b[39;00m(key)\n",
      "File \u001b[0;32m~/miniconda3/envs/egg/lib/python3.9/site-packages/zarr/storage.py:1086\u001b[0m, in \u001b[0;36mDirectoryStore._fromfile\u001b[0;34m(fn)\u001b[0m\n\u001b[1;32m   1073\u001b[0m \u001b[38;5;250m\u001b[39m\u001b[38;5;124;03m\"\"\"Read data from a file\u001b[39;00m\n\u001b[1;32m   1074\u001b[0m \n\u001b[1;32m   1075\u001b[0m \u001b[38;5;124;03mParameters\u001b[39;00m\n\u001b[0;32m   (...)\u001b[0m\n\u001b[1;32m   1083\u001b[0m \u001b[38;5;124;03mfile reading logic.\u001b[39;00m\n\u001b[1;32m   1084\u001b[0m \u001b[38;5;124;03m\"\"\"\u001b[39;00m\n\u001b[1;32m   1085\u001b[0m \u001b[38;5;28;01mwith\u001b[39;00m \u001b[38;5;28mopen\u001b[39m(fn, \u001b[38;5;124m\"\u001b[39m\u001b[38;5;124mrb\u001b[39m\u001b[38;5;124m\"\u001b[39m) \u001b[38;5;28;01mas\u001b[39;00m f:\n\u001b[0;32m-> 1086\u001b[0m     \u001b[38;5;28;01mreturn\u001b[39;00m \u001b[43mf\u001b[49m\u001b[38;5;241;43m.\u001b[39;49m\u001b[43mread\u001b[49m\u001b[43m(\u001b[49m\u001b[43m)\u001b[49m\n",
      "\u001b[0;31mKeyboardInterrupt\u001b[0m: "
     ]
    }
   ],
   "source": [
    "for unique_ID in tqdm(df['ID'].unique(), total = len(df['ID'].unique())):\n",
    "    \n",
    "    try: \n",
    "        if 'ND0003' not in unique_ID:\n",
    "            continue\n",
    "        # if os.path.exists(f\"/mnt/SYNO/macrohet_syno/glimpses/{unique_ID}.mp4\"):\n",
    "        #     print(f'Path exists {unique_ID}')\n",
    "        #     continue \n",
    "            \n",
    "        sc_df = df[df['ID'] == unique_ID]\n",
    "        \n",
    "        # get the acq id information\n",
    "        acq_ID = row, column = int(unique_ID.split('.')[1]), int(unique_ID.split('.')[2]) \n",
    "        cell_ID = int(unique_ID.split('.')[0])\n",
    "        expt_ID = unique_ID.split('.')[-1]\n",
    "        \n",
    "        # assign the proper channel enumeration\n",
    "        mphi_channel = 0 if expt_ID == 'PS0000' else 1\n",
    "        mtb_channel = 1 if expt_ID == 'PS0000' else 0\n",
    "        \n",
    "        # if no side length provided then estimate based on max mphi area\n",
    "        if not side_length:\n",
    "            # Calculate the side length for cropping based on the square root of the area\n",
    "            side_length = int(np.sqrt(sc_df['Mphi Area (µm)'].max())) * 2\n",
    "        \n",
    "        # preload the images\n",
    "        image_dir = f'/mnt/SYNO/macrohet_syno/data/{expt_ID}/acquisition/zarr/{acq_ID}.zarr'\n",
    "        zarr_group = zarr.open(image_dir, mode='r')\n",
    "        images = zarr_group.images\n",
    "        sample_image = images[0,0,0,...]\n",
    "        \n",
    "        \n",
    "        # Load segmentation if necessary\n",
    "        seg_fn = glob.glob(f'/mnt/SYNO/macrohet_syno/data/{expt_ID}/labels/*/{acq_ID}.h5')[0]\n",
    "        if seg_fn != last_seg_fn:\n",
    "            with btrack.io.HDF5FileHandler(seg_fn, 'r', obj_type='obj_type_1') as reader:\n",
    "                segmentation = reader.segmentation\n",
    "            last_seg_fn = seg_fn\n",
    "        \n",
    "        # load the segmentation \n",
    "        rgb_stack = []\n",
    "        \n",
    "        # iterate over each frame/data point\n",
    "        for i, t in tqdm(enumerate(sc_df['Time (hours)']), total = len(sc_df), leave = False, desc = f'Creating glimpse {unique_ID}'):\n",
    "            \n",
    "            sc_df_t = sc_df[sc_df['Time (hours)'] == t]\n",
    "            # Extract xy coordinates and transpose for python and area from the cell information\n",
    "            y_coord, x_coord, area, t, f, mtb = sc_df_t.loc[:, ['x', 'y', 'Mphi Area (µm)', 'Time (hours)', 'Frame', 'Mtb Area (µm)']].values[0]\n",
    "        \n",
    "            # Scale according to tracking shrinkage\n",
    "            y_coord, x_coord = y_coord * track_scale_factor, x_coord * track_scale_factor\n",
    "        \n",
    "            # Calculate the cropping boundaries\n",
    "            x_start = int(x_coord - side_length / 2)\n",
    "            x_end = int(x_coord + side_length / 2)\n",
    "            y_start = int(y_coord - side_length / 2)\n",
    "            y_end = int(y_coord + side_length / 2)\n",
    "            \n",
    "            # Pad the boundaries if they exceed the image dimensions\n",
    "            if x_start < 0:\n",
    "                x_pad = abs(x_start)\n",
    "                x_start = 0\n",
    "            else:\n",
    "                x_pad = 0\n",
    "        \n",
    "            if x_end > sample_image.shape[0]:\n",
    "                x_pad_end = x_end - sample_image.shape[0]\n",
    "                x_end = sample_image.shape[0]\n",
    "            else:\n",
    "                x_pad_end = 0\n",
    "        \n",
    "            if y_start < 0:\n",
    "                y_pad = abs(y_start)\n",
    "                y_start = 0\n",
    "            else:\n",
    "                y_pad = 0\n",
    "        \n",
    "            if y_end > sample_image.shape[1]:\n",
    "                y_pad_end = y_end - sample_image.shape[1]\n",
    "                y_end = sample_image.shape[1]\n",
    "            else:\n",
    "                y_pad_end = 0\n",
    "        \n",
    "            # Crop the image\n",
    "            cropped_image = images[int(f), :, 0, x_start:x_end, y_start:y_end]\n",
    "        \n",
    "            # Pad the cropped image if necessary\n",
    "            cropped_image = np.pad(cropped_image, ((0, 0), (x_pad, x_pad_end), (y_pad, y_pad_end)), mode='constant')\n",
    "            \n",
    "            # extract the gfp and rfp channels to apply some vis techn\n",
    "            gfp = cropped_image[mphi_channel, ...]\n",
    "            rfp = cropped_image[mtb_channel, ...]\n",
    "            \n",
    "            # clip the images so that the contrast is more apparent\n",
    "            contrast_lim_gfp = np.clip(gfp, 358, 5886)\n",
    "            contrast_lim_rfp = np.clip(rfp, 480, 1300)\n",
    "            \n",
    "            norm_gfp = cv2.normalize(contrast_lim_gfp, None, 0, 65535, cv2.NORM_MINMAX, dtype=cv2.CV_16U)\n",
    "            norm_rfp = cv2.normalize(contrast_lim_rfp, None, 0, 65535, cv2.NORM_MINMAX, dtype=cv2.CV_16U)\n",
    "            \n",
    "            # Create an empty RGB image with the same shape as the input image\n",
    "            rgb_image = np.zeros((contrast_lim_gfp.shape[0], contrast_lim_gfp.shape[1], 3), dtype=np.uint16)\n",
    "            \n",
    "            # Assign the first channel to the green channel of the RGB image\n",
    "            rgb_image[..., 1] = norm_gfp\n",
    "            \n",
    "            # Assign the second channel to the red and blue channels of the RGB image to create magenta\n",
    "            rgb_image[..., 0] = norm_rfp\n",
    "            rgb_image[..., 2] = norm_rfp\n",
    "            \n",
    "            # scale down to 8bit\n",
    "            rgb_image = np.uint8(rgb_image >> 8)\n",
    "        \n",
    "            \n",
    "            # load mask (singular)\n",
    "            cropped_masks = segmentation[int(f), x_start:x_end, y_start:y_end]\n",
    "            \n",
    "            # Pad the cropped image if necessary\n",
    "            cropped_masks = np.pad(cropped_masks, ((x_pad, x_pad_end), (y_pad, y_pad_end)), mode='constant')\n",
    "        \n",
    "            # extract only that segment\n",
    "            seg_ID = cropped_masks[int(cropped_masks.shape[0] / 2), int(cropped_masks.shape[1] / 2)]\n",
    "           \n",
    "            if seg_ID == 0:\n",
    "                instance_mask = np.zeros((side_length, side_length), dtype = np.uint8)\n",
    "            else:\n",
    "                instance_mask = (cropped_masks == seg_ID).astype(np.uint8)\n",
    "        \n",
    "            # draw outline\n",
    "            contours, _ = cv2.findContours(instance_mask, cv2.RETR_EXTERNAL, cv2.CHAIN_APPROX_SIMPLE)\n",
    "            cv2.drawContours(rgb_image, contours, -1, (0, 2 ** 8, 2 ** 8), thickness=2)  # make 8bit\n",
    "            \n",
    "            # Convert to PIL image for text overlay\n",
    "            pil_image = Image.fromarray(rgb_image)\n",
    "            draw = ImageDraw.Draw(pil_image)\n",
    "        \n",
    "            # Bottom left corner text\n",
    "            bottom_left_text = f\"{t} hours\"\n",
    "            draw.text((10, rgb_image.shape[0] - 80), bottom_left_text, font=font, fill=text_color)\n",
    "        \n",
    "            # Bottom right corner text\n",
    "            bottom_right_text = '20µm'\n",
    "            text_size = font.getbbox(bottom_right_text)\n",
    "            text_width = text_size[2] - text_size[0]  # Calculate text width\n",
    "            bottom_right_text_position = (rgb_image.shape[1] - text_width - 40, rgb_image.shape[0] - 80)\n",
    "            draw.text(bottom_right_text_position, bottom_right_text, font=font, fill=text_color)\n",
    "        \n",
    "            # Calculate line length in pixels for a 20 micrometer scale bar\n",
    "            line_length_pixels = int(20 / image_scale_um_per_pixel)\n",
    "            line_start = (bottom_right_text_position[0], bottom_right_text_position[1] + 55)\n",
    "            line_end = (line_start[0] + line_length_pixels, line_start[1])\n",
    "            draw.line([line_start, line_end], fill=text_color, width=10)\n",
    "        \n",
    "            # Top left corner text\n",
    "            draw.text((10, 10), unique_ID, font=font, fill=text_color)\n",
    "        \n",
    "            # Top right corner text\n",
    "            mtb_value = f\"Mtb:{mtb:.2f}µm²\"\n",
    "            text_size = font.getbbox(mtb_value)\n",
    "            text_width = text_size[2] - text_size[0]  # Calculate text width\n",
    "            top_right_text_position = (rgb_image.shape[1] - text_width - 10, 10)\n",
    "            draw.text(top_right_text_position, mtb_value, font=font, fill=text_color)\n",
    "        \n",
    "            # Convert back to OpenCV image\n",
    "            rgb_image = np.array(pil_image)\n",
    "            \n",
    "            # Resize image to consistent shape\n",
    "            rgb_image_resized = cv2.resize(rgb_image, (side_length, side_length), interpolation=cv2.INTER_AREA)\n",
    "\n",
    "            # add to stack\n",
    "            rgb_stack.append(rgb_image_resized)\n",
    "    \n",
    "        # compile into array\n",
    "        rgb_stack = np.stack(rgb_stack, axis = 0)\n",
    "        \n",
    "        # Get the dimensions of the first frame\n",
    "        height, width, _ = rgb_stack[0].shape\n",
    "        \n",
    "        # Define the frame rate (number of frames per second)\n",
    "        frame_rate = len(rgb_stack) / 20  # Total frames divided by total seconds\n",
    "        output_file = f\"/mnt/SYNO/macrohet_syno/results/glimpse_dt_graphs/glimpses/{unique_ID}.mp4\"\n",
    "        # Initialize VideoWriter object\n",
    "        fourcc = cv2.VideoWriter_fourcc(*'mp4v')\n",
    "        out = cv2.VideoWriter(output_file, fourcc, frame_rate, (width, height))\n",
    "        \n",
    "        # Write each frame to the video file\n",
    "        for frame in rgb_stack:\n",
    "            out.write(frame)\n",
    "        \n",
    "        # Release the VideoWriter object\n",
    "        out.release()\n",
    "        \n",
    "        print(f\"Video {unique_ID} saved successfully.\")\n",
    "\n",
    "    except Exception as e:\n",
    "        error_message = f\"Error: {e}\\nUnique ID: {unique_ID}\\n\"\n",
    "        with open(\"error_log.txt\", \"a\") as file:\n",
    "            file.write(error_message)\n",
    "        "
   ]
  },
  {
   "cell_type": "code",
   "execution_count": 11,
   "id": "c84d7cfd-31fd-44c5-bd3a-c8af00b2a7a2",
   "metadata": {},
   "outputs": [
    {
     "data": {
      "text/plain": [
       "\"Error: nothing found at path ''\\nUnique ID: 2768.4.12.ND0003\\n\""
      ]
     },
     "execution_count": 11,
     "metadata": {},
     "output_type": "execute_result"
    }
   ],
   "source": [
    "error_message"
   ]
  },
  {
   "cell_type": "markdown",
   "id": "64476777-2da2-44b3-8cb8-58374231c2a6",
   "metadata": {},
   "source": [
    "# Single instance"
   ]
  },
  {
   "cell_type": "code",
   "execution_count": 297,
   "id": "dc0c4bde-f9ca-4301-bc54-3c8b752885ff",
   "metadata": {},
   "outputs": [
    {
     "data": {
      "text/plain": [
       "array(['426.3.4.PS0000', '427.3.4.PS0000', '435.3.4.PS0000', ...,\n",
       "       '1815.6.12.ND0003', '1822.6.12.ND0003', '1874.6.12.ND0003'],\n",
       "      dtype=object)"
      ]
     },
     "execution_count": 297,
     "metadata": {},
     "output_type": "execute_result"
    }
   ],
   "source": [
    "df['ID'].unique()"
   ]
  },
  {
   "cell_type": "code",
   "execution_count": 298,
   "id": "d0a581c8-e470-4534-8ad1-8f22e2c6b684",
   "metadata": {},
   "outputs": [],
   "source": [
    "unique_ID = '426.3.4.PS0000' # '211.3.5.PS0000'"
   ]
  },
  {
   "cell_type": "code",
   "execution_count": 9,
   "id": "83107f3a-58b0-487a-b06a-479e38c7bd11",
   "metadata": {},
   "outputs": [
    {
     "ename": "NameError",
     "evalue": "name 'last_seg_fn' is not defined",
     "output_type": "error",
     "traceback": [
      "\u001b[0;31m---------------------------------------------------------------------------\u001b[0m",
      "\u001b[0;31mNameError\u001b[0m                                 Traceback (most recent call last)",
      "Cell \u001b[0;32mIn[9], line 26\u001b[0m\n\u001b[1;32m     24\u001b[0m \u001b[38;5;66;03m# Load segmentation if necessary\u001b[39;00m\n\u001b[1;32m     25\u001b[0m seg_fn \u001b[38;5;241m=\u001b[39m glob\u001b[38;5;241m.\u001b[39mglob(\u001b[38;5;124mf\u001b[39m\u001b[38;5;124m'\u001b[39m\u001b[38;5;124m/mnt/SYNO/macrohet_syno/\u001b[39m\u001b[38;5;132;01m{\u001b[39;00mexpt_ID\u001b[38;5;132;01m}\u001b[39;00m\u001b[38;5;124m/labels/*/\u001b[39m\u001b[38;5;132;01m{\u001b[39;00macq_ID\u001b[38;5;132;01m}\u001b[39;00m\u001b[38;5;124m.h5\u001b[39m\u001b[38;5;124m'\u001b[39m)[\u001b[38;5;241m0\u001b[39m]\n\u001b[0;32m---> 26\u001b[0m \u001b[38;5;28;01mif\u001b[39;00m seg_fn \u001b[38;5;241m!=\u001b[39m \u001b[43mlast_seg_fn\u001b[49m:\n\u001b[1;32m     27\u001b[0m     \u001b[38;5;28;01mwith\u001b[39;00m btrack\u001b[38;5;241m.\u001b[39mio\u001b[38;5;241m.\u001b[39mHDF5FileHandler(seg_fn, \u001b[38;5;124m'\u001b[39m\u001b[38;5;124mr\u001b[39m\u001b[38;5;124m'\u001b[39m, obj_type\u001b[38;5;241m=\u001b[39m\u001b[38;5;124m'\u001b[39m\u001b[38;5;124mobj_type_1\u001b[39m\u001b[38;5;124m'\u001b[39m) \u001b[38;5;28;01mas\u001b[39;00m reader:\n\u001b[1;32m     28\u001b[0m         segmentation \u001b[38;5;241m=\u001b[39m reader\u001b[38;5;241m.\u001b[39msegmentation\n",
      "\u001b[0;31mNameError\u001b[0m: name 'last_seg_fn' is not defined"
     ]
    }
   ],
   "source": [
    "sc_df = df[df['ID'] == unique_ID]\n",
    "        \n",
    "# get the acq id information\n",
    "acq_ID = row, column = int(unique_ID.split('.')[1]), int(unique_ID.split('.')[2]) \n",
    "cell_ID = int(unique_ID.split('.')[0])\n",
    "expt_ID = unique_ID.split('.')[-1]\n",
    "\n",
    "# assign the proper channel enumeration\n",
    "mphi_channel = 0 if expt_ID == 'PS0000' else 1\n",
    "mtb_channel = 1 if expt_ID == 'PS0000' else 0\n",
    "\n",
    "# if no side length provided then estimate based on max mphi area\n",
    "if not side_length:\n",
    "    # Calculate the side length for cropping based on the square root of the area\n",
    "    side_length = int(np.sqrt(sc_df['Mphi Area (µm)'].max())) * 2\n",
    "\n",
    "# preload the images\n",
    "image_dir = f'/mnt/SYNO/macrohet_syno/{expt_ID}/acquisition/zarr/{acq_ID}.zarr'\n",
    "zarr_group = zarr.open(image_dir, mode='r')\n",
    "images = zarr_group.images\n",
    "sample_image = images[0,0,0,...]\n",
    "\n",
    "\n",
    "# Load segmentation if necessary\n",
    "seg_fn = glob.glob(f'/mnt/SYNO/macrohet_syno/{expt_ID}/labels/*/{acq_ID}.h5')[0]\n",
    "if seg_fn != last_seg_fn:\n",
    "    with btrack.io.HDF5FileHandler(seg_fn, 'r', obj_type='obj_type_1') as reader:\n",
    "        segmentation = reader.segmentation\n",
    "    last_seg_fn = seg_fn\n",
    "\n",
    "# load the segmentation \n",
    "rgb_stack = []\n",
    "\n",
    "# iterate over each frame/data point\n",
    "for i, t in tqdm(enumerate(sc_df['Time (hours)']), total = len(sc_df), leave = False, desc = f'Creating glimpse {unique_ID}'):\n",
    "    \n",
    "    sc_df_t = sc_df[sc_df['Time (hours)'] == t]\n",
    "    # Extract xy coordinates and transpose for python and area from the cell information\n",
    "    y_coord, x_coord, area, t, f, mtb = sc_df_t.loc[:, ['x', 'y', 'Mphi Area (µm)', 'Time (hours)', 'Frame', 'Mtb Area (µm)']].values[0]\n",
    "\n",
    "    # Scale according to tracking shrinkage\n",
    "    y_coord, x_coord = y_coord * track_scale_factor, x_coord * track_scale_factor\n",
    "\n",
    "    # Calculate the cropping boundaries\n",
    "    x_start = int(x_coord - side_length / 2)\n",
    "    x_end = int(x_coord + side_length / 2)\n",
    "    y_start = int(y_coord - side_length / 2)\n",
    "    y_end = int(y_coord + side_length / 2)\n",
    "    \n",
    "    # Pad the boundaries if they exceed the image dimensions\n",
    "    if x_start < 0:\n",
    "        x_pad = abs(x_start)\n",
    "        x_start = 0\n",
    "    else:\n",
    "        x_pad = 0\n",
    "\n",
    "    if x_end > sample_image.shape[0]:\n",
    "        x_pad_end = x_end - sample_image.shape[0]\n",
    "        x_end = sample_image.shape[0]\n",
    "    else:\n",
    "        x_pad_end = 0\n",
    "\n",
    "    if y_start < 0:\n",
    "        y_pad = abs(y_start)\n",
    "        y_start = 0\n",
    "    else:\n",
    "        y_pad = 0\n",
    "\n",
    "    if y_end > sample_image.shape[1]:\n",
    "        y_pad_end = y_end - sample_image.shape[1]\n",
    "        y_end = sample_image.shape[1]\n",
    "    else:\n",
    "        y_pad_end = 0\n",
    "\n",
    "    # Crop the image\n",
    "    cropped_image = images[int(f), :, 0, x_start:x_end, y_start:y_end]\n",
    "\n",
    "    # Pad the cropped image if necessary\n",
    "    cropped_image = np.pad(cropped_image, ((0, 0), (x_pad, x_pad_end), (y_pad, y_pad_end)), mode='constant')\n",
    "    \n",
    "    # extract the gfp and rfp channels to apply some vis techn\n",
    "    gfp = cropped_image[mphi_channel, ...]\n",
    "    rfp = cropped_image[mtb_channel, ...]\n",
    "    \n",
    "    # clip the images so that the contrast is more apparent\n",
    "    contrast_lim_gfp = np.clip(gfp, 358, 5886)\n",
    "    contrast_lim_rfp = np.clip(rfp, 480, 1300)\n",
    "    \n",
    "    norm_gfp = cv2.normalize(contrast_lim_gfp, None, 0, 65535, cv2.NORM_MINMAX, dtype=cv2.CV_16U)\n",
    "    norm_rfp = cv2.normalize(contrast_lim_rfp, None, 0, 65535, cv2.NORM_MINMAX, dtype=cv2.CV_16U)\n",
    "    \n",
    "    # Create an empty RGB image with the same shape as the input image\n",
    "    rgb_image = np.zeros((contrast_lim_gfp.shape[0], contrast_lim_gfp.shape[1], 3), dtype=np.uint16)\n",
    "    \n",
    "    # Assign the first channel to the green channel of the RGB image\n",
    "    rgb_image[..., 1] = norm_gfp\n",
    "    \n",
    "    # Assign the second channel to the red and blue channels of the RGB image to create magenta\n",
    "    rgb_image[..., 0] = norm_rfp\n",
    "    rgb_image[..., 2] = norm_rfp\n",
    "    \n",
    "    # scale down to 8bit\n",
    "    rgb_image = np.uint8(rgb_image >> 8)\n",
    "\n",
    "    \n",
    "    # load mask (singular)\n",
    "    cropped_masks = segmentation[int(f), x_start:x_end, y_start:y_end]\n",
    "    \n",
    "    # Pad the cropped image if necessary\n",
    "    cropped_masks = np.pad(cropped_masks, ((x_pad, x_pad_end), (y_pad, y_pad_end)), mode='constant')\n",
    "\n",
    "    # extract only that segment\n",
    "    seg_ID = cropped_masks[int(cropped_masks.shape[0] / 2), int(cropped_masks.shape[1] / 2)]\n",
    "   \n",
    "    if seg_ID == 0:\n",
    "        instance_mask = np.zeros((side_length, side_length), dtype = np.uint8)\n",
    "    else:\n",
    "        instance_mask = (cropped_masks == seg_ID).astype(np.uint8)\n",
    "\n",
    "    # draw outline\n",
    "    contours, _ = cv2.findContours(instance_mask, cv2.RETR_EXTERNAL, cv2.CHAIN_APPROX_SIMPLE)\n",
    "    cv2.drawContours(rgb_image, contours, -1, (0, 2 ** 8, 2 ** 8), thickness=2)  # make 8bit\n",
    "    \n",
    "    # Convert to PIL image for text overlay\n",
    "    pil_image = Image.fromarray(rgb_image)\n",
    "    draw = ImageDraw.Draw(pil_image)\n",
    "\n",
    "    # Bottom left corner text\n",
    "    bottom_left_text = f\"{t} hours\"\n",
    "    draw.text((10, rgb_image.shape[0] - 80), bottom_left_text, font=font, fill=text_color)\n",
    "\n",
    "    # Bottom right corner text\n",
    "    bottom_right_text = '20µm'\n",
    "    text_size = font.getbbox(bottom_right_text)\n",
    "    text_width = text_size[2] - text_size[0]  # Calculate text width\n",
    "    bottom_right_text_position = (rgb_image.shape[1] - text_width - 40, rgb_image.shape[0] - 80)\n",
    "    draw.text(bottom_right_text_position, bottom_right_text, font=font, fill=text_color)\n",
    "\n",
    "    # Calculate line length in pixels for a 20 micrometer scale bar\n",
    "    line_length_pixels = int(20 / image_scale_um_per_pixel)\n",
    "    line_start = (bottom_right_text_position[0], bottom_right_text_position[1] + 55)\n",
    "    line_end = (line_start[0] + line_length_pixels, line_start[1])\n",
    "    draw.line([line_start, line_end], fill=text_color, width=10)\n",
    "\n",
    "    # Top left corner text\n",
    "    draw.text((10, 10), unique_ID, font=font, fill=text_color)\n",
    "\n",
    "    # Top right corner text\n",
    "    mtb_value = f\"Mtb:{mtb:.2f}µm²\"\n",
    "    text_size = font.getbbox(mtb_value)\n",
    "    text_width = text_size[2] - text_size[0]  # Calculate text width\n",
    "    top_right_text_position = (rgb_image.shape[1] - text_width - 10, 10)\n",
    "    draw.text(top_right_text_position, mtb_value, font=font, fill=text_color)\n",
    "\n",
    "    # Convert back to OpenCV image\n",
    "    rgb_image = np.array(pil_image)\n",
    "    \n",
    "    # Resize image to consistent shape\n",
    "    rgb_image_resized = cv2.resize(rgb_image, (side_length, side_length), interpolation=cv2.INTER_AREA)\n",
    "\n",
    "    # add to stack\n",
    "    rgb_stack.append(rgb_image_resized)\n",
    "\n",
    "# compile into array\n",
    "rgb_stack = np.stack(rgb_stack, axis = 0)\n",
    "\n",
    "# Get the dimensions of the first frame\n",
    "height, width, _ = rgb_stack[0].shape\n",
    "\n",
    "# Define the frame rate (number of frames per second)\n",
    "frame_rate = len(rgb_stack) / 20  # Total frames divided by total seconds\n",
    "output_file = f\"/mnt/SYNO/macrohet_syno/glimpses/{unique_ID}.mp4\"\n",
    "# Initialize VideoWriter object\n",
    "fourcc = cv2.VideoWriter_fourcc(*'mp4v')\n",
    "out = cv2.VideoWriter(output_file, fourcc, frame_rate, (width, height))\n",
    "\n",
    "# Write each frame to the video file\n",
    "for frame in rgb_stack:\n",
    "    out.write(frame)\n",
    "\n",
    "# Release the VideoWriter object\n",
    "out.release()\n",
    "\n",
    "print(f\"Video {unique_ID} saved successfully.\")"
   ]
  }
 ],
 "metadata": {
  "kernelspec": {
   "display_name": "egg",
   "language": "python",
   "name": "egg"
  },
  "language_info": {
   "codemirror_mode": {
    "name": "ipython",
    "version": 3
   },
   "file_extension": ".py",
   "mimetype": "text/x-python",
   "name": "python",
   "nbconvert_exporter": "python",
   "pygments_lexer": "ipython3",
   "version": "3.9.17"
  }
 },
 "nbformat": 4,
 "nbformat_minor": 5
}
