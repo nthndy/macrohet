{
 "cells": [
  {
   "cell_type": "code",
   "execution_count": 7,
   "id": "82c918c9-a69f-4c6c-b6f4-9066e4705f47",
   "metadata": {},
   "outputs": [],
   "source": [
    "import napari\n",
    "from skimage import io\n",
    "import os\n",
    "from glob import glob\n",
    "import numpy as np\n",
    "from natsort import natsorted"
   ]
  },
  {
   "cell_type": "code",
   "execution_count": 9,
   "id": "87200971-1c12-4fb2-9ae7-c9d388d01e1b",
   "metadata": {},
   "outputs": [],
   "source": [
    "image = np.stack([io.imread(fn) for fn in natsorted(glob('/mnt/DATA/macrohet/NDX_animation_dev/ND0000.2.10/*.png'))], axis = 0)"
   ]
  },
  {
   "cell_type": "code",
   "execution_count": 14,
   "id": "abc77dc5-713c-4b06-b1f4-7ba97b07e94a",
   "metadata": {},
   "outputs": [
    {
     "data": {
      "text/plain": [
       "<Image layer 'image' at 0x7f3c089dfa30>"
      ]
     },
     "execution_count": 14,
     "metadata": {},
     "output_type": "execute_result"
    }
   ],
   "source": [
    "viewer = napari.Viewer(title = 'lo fi version')\n",
    "\n",
    "viewer.add_image(image)"
   ]
  },
  {
   "cell_type": "code",
   "execution_count": null,
   "id": "95820e4d-3fc6-4e2d-a972-10eb87f01b99",
   "metadata": {},
   "outputs": [],
   "source": [
    "print()"
   ]
  },
  {
   "cell_type": "code",
   "execution_count": 17,
   "id": "917cb740-c794-44e4-884f-8524fc19b2b1",
   "metadata": {},
   "outputs": [
    {
     "name": "stdout",
     "output_type": "stream",
     "text": [
      "Rendering frames...\n"
     ]
    },
    {
     "name": "stderr",
     "output_type": "stream",
     "text": [
      "  0%|                                                       | 0/376 [00:00<?, ?it/s]IMAGEIO FFMPEG_WRITER WARNING: input image is not divisible by macro_block_size=16, resizing from (1121, 1057) to (1136, 1072) to ensure video compatibility with most codecs and players. To prevent resizing, make your input image divisible by the macro_block_size or set the macro_block_size to 1 (risking incompatibility).\n",
      "  0%|▏                                              | 1/376 [00:00<03:41,  1.70it/s][swscaler @ 0x6d0a400] Warning: data is not aligned! This can lead to a speed loss\n",
      "100%|█████████████████████████████████████████████| 376/376 [00:17<00:00, 21.47it/s]\n"
     ]
    },
    {
     "name": "stdout",
     "output_type": "stream",
     "text": [
      "Rendering frames...\n"
     ]
    },
    {
     "name": "stderr",
     "output_type": "stream",
     "text": [
      "  0%|                                                       | 0/376 [00:00<?, ?it/s]IMAGEIO FFMPEG_WRITER WARNING: input image is not divisible by macro_block_size=16, resizing from (1121, 1057) to (1136, 1072) to ensure video compatibility with most codecs and players. To prevent resizing, make your input image divisible by the macro_block_size or set the macro_block_size to 1 (risking incompatibility).\n",
      "  0%|▏                                              | 1/376 [00:00<01:03,  5.86it/s][swscaler @ 0x6497380] Warning: data is not aligned! This can lead to a speed loss\n",
      "100%|█████████████████████████████████████████████| 376/376 [00:18<00:00, 20.84it/s]\n"
     ]
    }
   ],
   "source": [
    "viewer.camera.zoom = 0.95\n"
   ]
  }
 ],
 "metadata": {
  "kernelspec": {
   "display_name": "Python 3 (ipykernel)",
   "language": "python",
   "name": "python3"
  },
  "language_info": {
   "codemirror_mode": {
    "name": "ipython",
    "version": 3
   },
   "file_extension": ".py",
   "mimetype": "text/x-python",
   "name": "python",
   "nbconvert_exporter": "python",
   "pygments_lexer": "ipython3",
   "version": "3.10.12"
  }
 },
 "nbformat": 4,
 "nbformat_minor": 5
}
