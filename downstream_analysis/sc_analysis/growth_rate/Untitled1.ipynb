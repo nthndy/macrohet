{
 "cells": [
  {
   "cell_type": "code",
   "execution_count": 1,
   "id": "e5e10cee-3a2c-4288-8eec-fe9037bf4423",
   "metadata": {},
   "outputs": [],
   "source": [
    "import napari"
   ]
  },
  {
   "cell_type": "code",
   "execution_count": 2,
   "id": "a486208c-bc1b-4e9c-b21b-c2ef0c9fc8d2",
   "metadata": {},
   "outputs": [],
   "source": [
    "viewer = napari.Viewer(title=f'test')\n"
   ]
  }
 ],
 "metadata": {
  "kernelspec": {
   "display_name": "macrohet_env",
   "language": "python",
   "name": "macrohet_env"
  },
  "language_info": {
   "codemirror_mode": {
    "name": "ipython",
    "version": 3
   },
   "file_extension": ".py",
   "mimetype": "text/x-python",
   "name": "python",
   "nbconvert_exporter": "python",
   "pygments_lexer": "ipython3",
   "version": "3.12.3"
  }
 },
 "nbformat": 4,
 "nbformat_minor": 5
}
