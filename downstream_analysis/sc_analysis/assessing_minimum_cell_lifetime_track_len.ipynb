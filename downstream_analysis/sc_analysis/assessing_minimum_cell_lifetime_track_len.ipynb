{
 "cells": [
  {
   "cell_type": "markdown",
   "id": "e7452ae6",
   "metadata": {},
   "source": [
    "# What is a realistic lower bound to set on cell life?"
   ]
  },
  {
   "cell_type": "code",
   "execution_count": 1,
   "id": "83d383f0",
   "metadata": {},
   "outputs": [],
   "source": [
    "import napari\n",
    "from macrohet import dataio, tile, visualise\n",
    "import os, glob\n",
    "from tqdm.auto import tqdm"
   ]
  },
  {
   "cell_type": "markdown",
   "id": "cb28dcb6",
   "metadata": {},
   "source": [
    "### Load experiment of choice\n",
    "\n",
    "The Opera Phenix is a high-throughput confocal microscope that acquires very large 5-dimensional (TCZXY) images over several fields of view in any one experiment. Therefore, a lazy-loading approach is chosen to mosaic, view and annotate these images. This approach depends upon Dask and DaskFusion. The first step is to load the main metadata file (typically called `Index.idx.xml` and located in the main `Images` directory) that contains the image filenames and associated TCXZY information used to organise the images."
   ]
  },
  {
   "cell_type": "code",
   "execution_count": 2,
   "id": "2f90d81a",
   "metadata": {},
   "outputs": [
    {
     "name": "stdout",
     "output_type": "stream",
     "text": [
      "Reading metadata XML file...\n"
     ]
    },
    {
     "data": {
      "application/vnd.jupyter.widget-view+json": {
       "model_id": "b4fabbedcce34df08893fc0682e6a352",
       "version_major": 2,
       "version_minor": 0
      },
      "text/plain": [
       "Extracting HarmonyV5 metadata:   0%|          | 0/113400 [00:00<?, ?it/s]"
      ]
     },
     "metadata": {},
     "output_type": "display_data"
    },
    {
     "name": "stdout",
     "output_type": "stream",
     "text": [
      "Extracting metadata complete!\n"
     ]
    },
    {
     "data": {
      "text/html": [
       "<div>\n",
       "<style scoped>\n",
       "    .dataframe tbody tr th:only-of-type {\n",
       "        vertical-align: middle;\n",
       "    }\n",
       "\n",
       "    .dataframe tbody tr th {\n",
       "        vertical-align: top;\n",
       "    }\n",
       "\n",
       "    .dataframe thead th {\n",
       "        text-align: right;\n",
       "    }\n",
       "</style>\n",
       "<table border=\"1\" class=\"dataframe\">\n",
       "  <thead>\n",
       "    <tr style=\"text-align: right;\">\n",
       "      <th></th>\n",
       "      <th>id</th>\n",
       "      <th>State</th>\n",
       "      <th>URL</th>\n",
       "      <th>Row</th>\n",
       "      <th>Col</th>\n",
       "      <th>FieldID</th>\n",
       "      <th>PlaneID</th>\n",
       "      <th>TimepointID</th>\n",
       "      <th>ChannelID</th>\n",
       "      <th>FlimID</th>\n",
       "      <th>...</th>\n",
       "      <th>PositionZ</th>\n",
       "      <th>AbsPositionZ</th>\n",
       "      <th>MeasurementTimeOffset</th>\n",
       "      <th>AbsTime</th>\n",
       "      <th>MainExcitationWavelength</th>\n",
       "      <th>MainEmissionWavelength</th>\n",
       "      <th>ObjectiveMagnification</th>\n",
       "      <th>ObjectiveNA</th>\n",
       "      <th>ExposureTime</th>\n",
       "      <th>OrientationMatrix</th>\n",
       "    </tr>\n",
       "  </thead>\n",
       "  <tbody>\n",
       "    <tr>\n",
       "      <th>0</th>\n",
       "      <td>0303K1F1P1R1</td>\n",
       "      <td>Ok</td>\n",
       "      <td>r03c03f01p01-ch1sk1fk1fl1.tiff</td>\n",
       "      <td>3</td>\n",
       "      <td>3</td>\n",
       "      <td>1</td>\n",
       "      <td>1</td>\n",
       "      <td>0</td>\n",
       "      <td>1</td>\n",
       "      <td>1</td>\n",
       "      <td>...</td>\n",
       "      <td>0</td>\n",
       "      <td>0.135583505</td>\n",
       "      <td>0</td>\n",
       "      <td>2021-04-16T19:09:33.84+01:00</td>\n",
       "      <td>488</td>\n",
       "      <td>522</td>\n",
       "      <td>40</td>\n",
       "      <td>1.1</td>\n",
       "      <td>0.1</td>\n",
       "      <td>[[0.990860,0,0,-15.9],[0,-0.990860,0,-44.8],[0...</td>\n",
       "    </tr>\n",
       "    <tr>\n",
       "      <th>1</th>\n",
       "      <td>0303K1F1P1R2</td>\n",
       "      <td>Ok</td>\n",
       "      <td>r03c03f01p01-ch2sk1fk1fl1.tiff</td>\n",
       "      <td>3</td>\n",
       "      <td>3</td>\n",
       "      <td>1</td>\n",
       "      <td>1</td>\n",
       "      <td>0</td>\n",
       "      <td>2</td>\n",
       "      <td>1</td>\n",
       "      <td>...</td>\n",
       "      <td>0</td>\n",
       "      <td>0.135583505</td>\n",
       "      <td>0</td>\n",
       "      <td>2021-04-16T19:09:33.84+01:00</td>\n",
       "      <td>640</td>\n",
       "      <td>706</td>\n",
       "      <td>40</td>\n",
       "      <td>1.1</td>\n",
       "      <td>0.2</td>\n",
       "      <td>[[0.990860,0,0,-15.9],[0,-0.990860,0,-44.8],[0...</td>\n",
       "    </tr>\n",
       "    <tr>\n",
       "      <th>2</th>\n",
       "      <td>0303K1F1P2R1</td>\n",
       "      <td>Ok</td>\n",
       "      <td>r03c03f01p02-ch1sk1fk1fl1.tiff</td>\n",
       "      <td>3</td>\n",
       "      <td>3</td>\n",
       "      <td>1</td>\n",
       "      <td>2</td>\n",
       "      <td>0</td>\n",
       "      <td>1</td>\n",
       "      <td>1</td>\n",
       "      <td>...</td>\n",
       "      <td>2E-06</td>\n",
       "      <td>0.135585502</td>\n",
       "      <td>0</td>\n",
       "      <td>2021-04-16T19:09:34.12+01:00</td>\n",
       "      <td>488</td>\n",
       "      <td>522</td>\n",
       "      <td>40</td>\n",
       "      <td>1.1</td>\n",
       "      <td>0.1</td>\n",
       "      <td>[[0.990860,0,0,-15.9],[0,-0.990860,0,-44.8],[0...</td>\n",
       "    </tr>\n",
       "    <tr>\n",
       "      <th>3</th>\n",
       "      <td>0303K1F1P2R2</td>\n",
       "      <td>Ok</td>\n",
       "      <td>r03c03f01p02-ch2sk1fk1fl1.tiff</td>\n",
       "      <td>3</td>\n",
       "      <td>3</td>\n",
       "      <td>1</td>\n",
       "      <td>2</td>\n",
       "      <td>0</td>\n",
       "      <td>2</td>\n",
       "      <td>1</td>\n",
       "      <td>...</td>\n",
       "      <td>2E-06</td>\n",
       "      <td>0.135585502</td>\n",
       "      <td>0</td>\n",
       "      <td>2021-04-16T19:09:34.12+01:00</td>\n",
       "      <td>640</td>\n",
       "      <td>706</td>\n",
       "      <td>40</td>\n",
       "      <td>1.1</td>\n",
       "      <td>0.2</td>\n",
       "      <td>[[0.990860,0,0,-15.9],[0,-0.990860,0,-44.8],[0...</td>\n",
       "    </tr>\n",
       "    <tr>\n",
       "      <th>4</th>\n",
       "      <td>0303K1F1P3R1</td>\n",
       "      <td>Ok</td>\n",
       "      <td>r03c03f01p03-ch1sk1fk1fl1.tiff</td>\n",
       "      <td>3</td>\n",
       "      <td>3</td>\n",
       "      <td>1</td>\n",
       "      <td>3</td>\n",
       "      <td>0</td>\n",
       "      <td>1</td>\n",
       "      <td>1</td>\n",
       "      <td>...</td>\n",
       "      <td>4E-06</td>\n",
       "      <td>0.135587499</td>\n",
       "      <td>0</td>\n",
       "      <td>2021-04-16T19:09:34.4+01:00</td>\n",
       "      <td>488</td>\n",
       "      <td>522</td>\n",
       "      <td>40</td>\n",
       "      <td>1.1</td>\n",
       "      <td>0.1</td>\n",
       "      <td>[[0.990860,0,0,-15.9],[0,-0.990860,0,-44.8],[0...</td>\n",
       "    </tr>\n",
       "    <tr>\n",
       "      <th>...</th>\n",
       "      <td>...</td>\n",
       "      <td>...</td>\n",
       "      <td>...</td>\n",
       "      <td>...</td>\n",
       "      <td>...</td>\n",
       "      <td>...</td>\n",
       "      <td>...</td>\n",
       "      <td>...</td>\n",
       "      <td>...</td>\n",
       "      <td>...</td>\n",
       "      <td>...</td>\n",
       "      <td>...</td>\n",
       "      <td>...</td>\n",
       "      <td>...</td>\n",
       "      <td>...</td>\n",
       "      <td>...</td>\n",
       "      <td>...</td>\n",
       "      <td>...</td>\n",
       "      <td>...</td>\n",
       "      <td>...</td>\n",
       "      <td>...</td>\n",
       "    </tr>\n",
       "    <tr>\n",
       "      <th>113395</th>\n",
       "      <td>0609K75F9P1R2</td>\n",
       "      <td>Ok</td>\n",
       "      <td>r06c09f09p01-ch2sk75fk1fl1.tiff</td>\n",
       "      <td>6</td>\n",
       "      <td>9</td>\n",
       "      <td>9</td>\n",
       "      <td>1</td>\n",
       "      <td>74</td>\n",
       "      <td>2</td>\n",
       "      <td>1</td>\n",
       "      <td>...</td>\n",
       "      <td>0</td>\n",
       "      <td>0.135533601</td>\n",
       "      <td>266399.61</td>\n",
       "      <td>2021-04-19T21:14:19.477+01:00</td>\n",
       "      <td>640</td>\n",
       "      <td>706</td>\n",
       "      <td>40</td>\n",
       "      <td>1.1</td>\n",
       "      <td>0.2</td>\n",
       "      <td>[[0.990860,0,0,-15.9],[0,-0.990860,0,-44.8],[0...</td>\n",
       "    </tr>\n",
       "    <tr>\n",
       "      <th>113396</th>\n",
       "      <td>0609K75F9P2R1</td>\n",
       "      <td>Ok</td>\n",
       "      <td>r06c09f09p02-ch1sk75fk1fl1.tiff</td>\n",
       "      <td>6</td>\n",
       "      <td>9</td>\n",
       "      <td>9</td>\n",
       "      <td>2</td>\n",
       "      <td>74</td>\n",
       "      <td>1</td>\n",
       "      <td>1</td>\n",
       "      <td>...</td>\n",
       "      <td>2E-06</td>\n",
       "      <td>0.135535598</td>\n",
       "      <td>266399.61</td>\n",
       "      <td>2021-04-19T21:14:19.757+01:00</td>\n",
       "      <td>488</td>\n",
       "      <td>522</td>\n",
       "      <td>40</td>\n",
       "      <td>1.1</td>\n",
       "      <td>0.1</td>\n",
       "      <td>[[0.990860,0,0,-15.9],[0,-0.990860,0,-44.8],[0...</td>\n",
       "    </tr>\n",
       "    <tr>\n",
       "      <th>113397</th>\n",
       "      <td>0609K75F9P2R2</td>\n",
       "      <td>Ok</td>\n",
       "      <td>r06c09f09p02-ch2sk75fk1fl1.tiff</td>\n",
       "      <td>6</td>\n",
       "      <td>9</td>\n",
       "      <td>9</td>\n",
       "      <td>2</td>\n",
       "      <td>74</td>\n",
       "      <td>2</td>\n",
       "      <td>1</td>\n",
       "      <td>...</td>\n",
       "      <td>2E-06</td>\n",
       "      <td>0.135535598</td>\n",
       "      <td>266399.61</td>\n",
       "      <td>2021-04-19T21:14:19.757+01:00</td>\n",
       "      <td>640</td>\n",
       "      <td>706</td>\n",
       "      <td>40</td>\n",
       "      <td>1.1</td>\n",
       "      <td>0.2</td>\n",
       "      <td>[[0.990860,0,0,-15.9],[0,-0.990860,0,-44.8],[0...</td>\n",
       "    </tr>\n",
       "    <tr>\n",
       "      <th>113398</th>\n",
       "      <td>0609K75F9P3R1</td>\n",
       "      <td>Ok</td>\n",
       "      <td>r06c09f09p03-ch1sk75fk1fl1.tiff</td>\n",
       "      <td>6</td>\n",
       "      <td>9</td>\n",
       "      <td>9</td>\n",
       "      <td>3</td>\n",
       "      <td>74</td>\n",
       "      <td>1</td>\n",
       "      <td>1</td>\n",
       "      <td>...</td>\n",
       "      <td>4E-06</td>\n",
       "      <td>0.135537595</td>\n",
       "      <td>266399.61</td>\n",
       "      <td>2021-04-19T21:14:20.037+01:00</td>\n",
       "      <td>488</td>\n",
       "      <td>522</td>\n",
       "      <td>40</td>\n",
       "      <td>1.1</td>\n",
       "      <td>0.1</td>\n",
       "      <td>[[0.990860,0,0,-15.9],[0,-0.990860,0,-44.8],[0...</td>\n",
       "    </tr>\n",
       "    <tr>\n",
       "      <th>113399</th>\n",
       "      <td>0609K75F9P3R2</td>\n",
       "      <td>Ok</td>\n",
       "      <td>r06c09f09p03-ch2sk75fk1fl1.tiff</td>\n",
       "      <td>6</td>\n",
       "      <td>9</td>\n",
       "      <td>9</td>\n",
       "      <td>3</td>\n",
       "      <td>74</td>\n",
       "      <td>2</td>\n",
       "      <td>1</td>\n",
       "      <td>...</td>\n",
       "      <td>4E-06</td>\n",
       "      <td>0.135537595</td>\n",
       "      <td>266399.61</td>\n",
       "      <td>2021-04-19T21:14:20.037+01:00</td>\n",
       "      <td>640</td>\n",
       "      <td>706</td>\n",
       "      <td>40</td>\n",
       "      <td>1.1</td>\n",
       "      <td>0.2</td>\n",
       "      <td>[[0.990860,0,0,-15.9],[0,-0.990860,0,-44.8],[0...</td>\n",
       "    </tr>\n",
       "  </tbody>\n",
       "</table>\n",
       "<p>113400 rows × 35 columns</p>\n",
       "</div>"
      ],
      "text/plain": [
       "                   id State                              URL Row Col FieldID  \\\n",
       "0        0303K1F1P1R1    Ok   r03c03f01p01-ch1sk1fk1fl1.tiff   3   3       1   \n",
       "1        0303K1F1P1R2    Ok   r03c03f01p01-ch2sk1fk1fl1.tiff   3   3       1   \n",
       "2        0303K1F1P2R1    Ok   r03c03f01p02-ch1sk1fk1fl1.tiff   3   3       1   \n",
       "3        0303K1F1P2R2    Ok   r03c03f01p02-ch2sk1fk1fl1.tiff   3   3       1   \n",
       "4        0303K1F1P3R1    Ok   r03c03f01p03-ch1sk1fk1fl1.tiff   3   3       1   \n",
       "...               ...   ...                              ...  ..  ..     ...   \n",
       "113395  0609K75F9P1R2    Ok  r06c09f09p01-ch2sk75fk1fl1.tiff   6   9       9   \n",
       "113396  0609K75F9P2R1    Ok  r06c09f09p02-ch1sk75fk1fl1.tiff   6   9       9   \n",
       "113397  0609K75F9P2R2    Ok  r06c09f09p02-ch2sk75fk1fl1.tiff   6   9       9   \n",
       "113398  0609K75F9P3R1    Ok  r06c09f09p03-ch1sk75fk1fl1.tiff   6   9       9   \n",
       "113399  0609K75F9P3R2    Ok  r06c09f09p03-ch2sk75fk1fl1.tiff   6   9       9   \n",
       "\n",
       "       PlaneID TimepointID ChannelID FlimID  ... PositionZ AbsPositionZ  \\\n",
       "0            1           0         1      1  ...         0  0.135583505   \n",
       "1            1           0         2      1  ...         0  0.135583505   \n",
       "2            2           0         1      1  ...     2E-06  0.135585502   \n",
       "3            2           0         2      1  ...     2E-06  0.135585502   \n",
       "4            3           0         1      1  ...     4E-06  0.135587499   \n",
       "...        ...         ...       ...    ...  ...       ...          ...   \n",
       "113395       1          74         2      1  ...         0  0.135533601   \n",
       "113396       2          74         1      1  ...     2E-06  0.135535598   \n",
       "113397       2          74         2      1  ...     2E-06  0.135535598   \n",
       "113398       3          74         1      1  ...     4E-06  0.135537595   \n",
       "113399       3          74         2      1  ...     4E-06  0.135537595   \n",
       "\n",
       "       MeasurementTimeOffset                        AbsTime  \\\n",
       "0                          0   2021-04-16T19:09:33.84+01:00   \n",
       "1                          0   2021-04-16T19:09:33.84+01:00   \n",
       "2                          0   2021-04-16T19:09:34.12+01:00   \n",
       "3                          0   2021-04-16T19:09:34.12+01:00   \n",
       "4                          0    2021-04-16T19:09:34.4+01:00   \n",
       "...                      ...                            ...   \n",
       "113395             266399.61  2021-04-19T21:14:19.477+01:00   \n",
       "113396             266399.61  2021-04-19T21:14:19.757+01:00   \n",
       "113397             266399.61  2021-04-19T21:14:19.757+01:00   \n",
       "113398             266399.61  2021-04-19T21:14:20.037+01:00   \n",
       "113399             266399.61  2021-04-19T21:14:20.037+01:00   \n",
       "\n",
       "       MainExcitationWavelength MainEmissionWavelength ObjectiveMagnification  \\\n",
       "0                           488                    522                     40   \n",
       "1                           640                    706                     40   \n",
       "2                           488                    522                     40   \n",
       "3                           640                    706                     40   \n",
       "4                           488                    522                     40   \n",
       "...                         ...                    ...                    ...   \n",
       "113395                      640                    706                     40   \n",
       "113396                      488                    522                     40   \n",
       "113397                      640                    706                     40   \n",
       "113398                      488                    522                     40   \n",
       "113399                      640                    706                     40   \n",
       "\n",
       "       ObjectiveNA ExposureTime  \\\n",
       "0              1.1          0.1   \n",
       "1              1.1          0.2   \n",
       "2              1.1          0.1   \n",
       "3              1.1          0.2   \n",
       "4              1.1          0.1   \n",
       "...            ...          ...   \n",
       "113395         1.1          0.2   \n",
       "113396         1.1          0.1   \n",
       "113397         1.1          0.2   \n",
       "113398         1.1          0.1   \n",
       "113399         1.1          0.2   \n",
       "\n",
       "                                        OrientationMatrix  \n",
       "0       [[0.990860,0,0,-15.9],[0,-0.990860,0,-44.8],[0...  \n",
       "1       [[0.990860,0,0,-15.9],[0,-0.990860,0,-44.8],[0...  \n",
       "2       [[0.990860,0,0,-15.9],[0,-0.990860,0,-44.8],[0...  \n",
       "3       [[0.990860,0,0,-15.9],[0,-0.990860,0,-44.8],[0...  \n",
       "4       [[0.990860,0,0,-15.9],[0,-0.990860,0,-44.8],[0...  \n",
       "...                                                   ...  \n",
       "113395  [[0.990860,0,0,-15.9],[0,-0.990860,0,-44.8],[0...  \n",
       "113396  [[0.990860,0,0,-15.9],[0,-0.990860,0,-44.8],[0...  \n",
       "113397  [[0.990860,0,0,-15.9],[0,-0.990860,0,-44.8],[0...  \n",
       "113398  [[0.990860,0,0,-15.9],[0,-0.990860,0,-44.8],[0...  \n",
       "113399  [[0.990860,0,0,-15.9],[0,-0.990860,0,-44.8],[0...  \n",
       "\n",
       "[113400 rows x 35 columns]"
      ]
     },
     "execution_count": 2,
     "metadata": {},
     "output_type": "execute_result"
    }
   ],
   "source": [
    "expt_ID = 'PS0000'\n",
    "base_dir = f'/mnt/DATA/macrohet/{expt_ID}/'\n",
    "metadata_fn = os.path.join(base_dir, 'acquisition/Images/Index.idx.xml')\n",
    "metadata = dataio.read_harmony_metadata(metadata_fn)  \n",
    "metadata"
   ]
  },
  {
   "cell_type": "markdown",
   "id": "4779c1f0",
   "metadata": {},
   "source": [
    "### View assay layout and mask information (optional)\n",
    "\n",
    "The Opera Phenix acquires many time lapse series from a range of positions. The first step is to inspect the image metadata, presented in the form of an `Assaylayout/experiment_ID.xml` file, to show which positions correspond to which experimental assays."
   ]
  },
  {
   "cell_type": "code",
   "execution_count": 3,
   "id": "4b75643e",
   "metadata": {},
   "outputs": [
    {
     "name": "stdout",
     "output_type": "stream",
     "text": [
      "Reading metadata XML file...\n",
      "Extracting metadata complete!\n"
     ]
    },
    {
     "data": {
      "text/html": [
       "<div>\n",
       "<style scoped>\n",
       "    .dataframe tbody tr th:only-of-type {\n",
       "        vertical-align: middle;\n",
       "    }\n",
       "\n",
       "    .dataframe tbody tr th {\n",
       "        vertical-align: top;\n",
       "    }\n",
       "\n",
       "    .dataframe thead th {\n",
       "        text-align: right;\n",
       "    }\n",
       "</style>\n",
       "<table border=\"1\" class=\"dataframe\">\n",
       "  <thead>\n",
       "    <tr style=\"text-align: right;\">\n",
       "      <th></th>\n",
       "      <th></th>\n",
       "      <th>Strain</th>\n",
       "      <th>Compound</th>\n",
       "      <th>Concentration</th>\n",
       "      <th>ConcentrationEC</th>\n",
       "    </tr>\n",
       "    <tr>\n",
       "      <th>Row</th>\n",
       "      <th>Column</th>\n",
       "      <th></th>\n",
       "      <th></th>\n",
       "      <th></th>\n",
       "      <th></th>\n",
       "    </tr>\n",
       "  </thead>\n",
       "  <tbody>\n",
       "    <tr>\n",
       "      <th rowspan=\"6\" valign=\"top\">3</th>\n",
       "      <th>4</th>\n",
       "      <td>RD1</td>\n",
       "      <td>CTRL</td>\n",
       "      <td>0</td>\n",
       "      <td>EC0</td>\n",
       "    </tr>\n",
       "    <tr>\n",
       "      <th>5</th>\n",
       "      <td>WT</td>\n",
       "      <td>CTRL</td>\n",
       "      <td>0</td>\n",
       "      <td>EC0</td>\n",
       "    </tr>\n",
       "    <tr>\n",
       "      <th>6</th>\n",
       "      <td>WT</td>\n",
       "      <td>PZA</td>\n",
       "      <td>60</td>\n",
       "      <td>EC50</td>\n",
       "    </tr>\n",
       "    <tr>\n",
       "      <th>7</th>\n",
       "      <td>WT</td>\n",
       "      <td>RIF</td>\n",
       "      <td>0.1</td>\n",
       "      <td>EC50</td>\n",
       "    </tr>\n",
       "    <tr>\n",
       "      <th>8</th>\n",
       "      <td>WT</td>\n",
       "      <td>INH</td>\n",
       "      <td>0.04</td>\n",
       "      <td>EC50</td>\n",
       "    </tr>\n",
       "    <tr>\n",
       "      <th>9</th>\n",
       "      <td>WT</td>\n",
       "      <td>BDQ</td>\n",
       "      <td>0.02</td>\n",
       "      <td>EC50</td>\n",
       "    </tr>\n",
       "    <tr>\n",
       "      <th rowspan=\"6\" valign=\"top\">4</th>\n",
       "      <th>4</th>\n",
       "      <td>RD1</td>\n",
       "      <td>CTRL</td>\n",
       "      <td>0</td>\n",
       "      <td>EC0</td>\n",
       "    </tr>\n",
       "    <tr>\n",
       "      <th>5</th>\n",
       "      <td>WT</td>\n",
       "      <td>CTRL</td>\n",
       "      <td>0</td>\n",
       "      <td>EC0</td>\n",
       "    </tr>\n",
       "    <tr>\n",
       "      <th>6</th>\n",
       "      <td>WT</td>\n",
       "      <td>PZA</td>\n",
       "      <td>60</td>\n",
       "      <td>EC50</td>\n",
       "    </tr>\n",
       "    <tr>\n",
       "      <th>7</th>\n",
       "      <td>WT</td>\n",
       "      <td>RIF</td>\n",
       "      <td>0.1</td>\n",
       "      <td>EC50</td>\n",
       "    </tr>\n",
       "    <tr>\n",
       "      <th>8</th>\n",
       "      <td>WT</td>\n",
       "      <td>INH</td>\n",
       "      <td>0.04</td>\n",
       "      <td>EC50</td>\n",
       "    </tr>\n",
       "    <tr>\n",
       "      <th>9</th>\n",
       "      <td>WT</td>\n",
       "      <td>BDQ</td>\n",
       "      <td>0.02</td>\n",
       "      <td>EC50</td>\n",
       "    </tr>\n",
       "    <tr>\n",
       "      <th rowspan=\"6\" valign=\"top\">5</th>\n",
       "      <th>4</th>\n",
       "      <td>RD1</td>\n",
       "      <td>CTRL</td>\n",
       "      <td>0</td>\n",
       "      <td>EC0</td>\n",
       "    </tr>\n",
       "    <tr>\n",
       "      <th>5</th>\n",
       "      <td>WT</td>\n",
       "      <td>CTRL</td>\n",
       "      <td>0</td>\n",
       "      <td>EC0</td>\n",
       "    </tr>\n",
       "    <tr>\n",
       "      <th>6</th>\n",
       "      <td>WT</td>\n",
       "      <td>PZA</td>\n",
       "      <td>400</td>\n",
       "      <td>EC99</td>\n",
       "    </tr>\n",
       "    <tr>\n",
       "      <th>7</th>\n",
       "      <td>WT</td>\n",
       "      <td>RIF</td>\n",
       "      <td>2</td>\n",
       "      <td>EC99</td>\n",
       "    </tr>\n",
       "    <tr>\n",
       "      <th>8</th>\n",
       "      <td>WT</td>\n",
       "      <td>INH</td>\n",
       "      <td>2</td>\n",
       "      <td>EC99</td>\n",
       "    </tr>\n",
       "    <tr>\n",
       "      <th>9</th>\n",
       "      <td>WT</td>\n",
       "      <td>BDQ</td>\n",
       "      <td>2.5</td>\n",
       "      <td>EC99</td>\n",
       "    </tr>\n",
       "    <tr>\n",
       "      <th rowspan=\"6\" valign=\"top\">6</th>\n",
       "      <th>4</th>\n",
       "      <td>RD1</td>\n",
       "      <td>CTRL</td>\n",
       "      <td>0</td>\n",
       "      <td>EC0</td>\n",
       "    </tr>\n",
       "    <tr>\n",
       "      <th>5</th>\n",
       "      <td>WT</td>\n",
       "      <td>CTRL</td>\n",
       "      <td>0</td>\n",
       "      <td>EC0</td>\n",
       "    </tr>\n",
       "    <tr>\n",
       "      <th>6</th>\n",
       "      <td>WT</td>\n",
       "      <td>PZA</td>\n",
       "      <td>400</td>\n",
       "      <td>EC99</td>\n",
       "    </tr>\n",
       "    <tr>\n",
       "      <th>7</th>\n",
       "      <td>WT</td>\n",
       "      <td>RIF</td>\n",
       "      <td>2</td>\n",
       "      <td>EC99</td>\n",
       "    </tr>\n",
       "    <tr>\n",
       "      <th>8</th>\n",
       "      <td>WT</td>\n",
       "      <td>INH</td>\n",
       "      <td>2</td>\n",
       "      <td>EC99</td>\n",
       "    </tr>\n",
       "    <tr>\n",
       "      <th>9</th>\n",
       "      <td>WT</td>\n",
       "      <td>BDQ</td>\n",
       "      <td>2.5</td>\n",
       "      <td>EC99</td>\n",
       "    </tr>\n",
       "  </tbody>\n",
       "</table>\n",
       "</div>"
      ],
      "text/plain": [
       "           Strain Compound Concentration ConcentrationEC\n",
       "Row Column                                              \n",
       "3   4         RD1     CTRL             0             EC0\n",
       "    5          WT     CTRL             0             EC0\n",
       "    6          WT      PZA            60            EC50\n",
       "    7          WT      RIF           0.1            EC50\n",
       "    8          WT      INH          0.04            EC50\n",
       "    9          WT      BDQ          0.02            EC50\n",
       "4   4         RD1     CTRL             0             EC0\n",
       "    5          WT     CTRL             0             EC0\n",
       "    6          WT      PZA            60            EC50\n",
       "    7          WT      RIF           0.1            EC50\n",
       "    8          WT      INH          0.04            EC50\n",
       "    9          WT      BDQ          0.02            EC50\n",
       "5   4         RD1     CTRL             0             EC0\n",
       "    5          WT     CTRL             0             EC0\n",
       "    6          WT      PZA           400            EC99\n",
       "    7          WT      RIF             2            EC99\n",
       "    8          WT      INH             2            EC99\n",
       "    9          WT      BDQ           2.5            EC99\n",
       "6   4         RD1     CTRL             0             EC0\n",
       "    5          WT     CTRL             0             EC0\n",
       "    6          WT      PZA           400            EC99\n",
       "    7          WT      RIF             2            EC99\n",
       "    8          WT      INH             2            EC99\n",
       "    9          WT      BDQ           2.5            EC99"
      ]
     },
     "execution_count": 3,
     "metadata": {},
     "output_type": "execute_result"
    }
   ],
   "source": [
    "metadata_path = os.path.join(base_dir, 'acquisition/Assaylayout/20210602_Live_cell_IPSDMGFP_ATB.xml')\n",
    "assay_layout = dataio.read_harmony_metadata(metadata_path, assay_layout=True,)# mask_exist=True,  image_dir = image_dir, image_metadata = metadata)\n",
    "assay_layout"
   ]
  },
  {
   "cell_type": "markdown",
   "id": "a12c9446",
   "metadata": {},
   "source": [
    "# Load tracks"
   ]
  },
  {
   "cell_type": "code",
   "execution_count": 7,
   "id": "0457f6e0-db3f-4fdb-bef1-cecfcb809faa",
   "metadata": {},
   "outputs": [
    {
     "name": "stdout",
     "output_type": "stream",
     "text": [
      "0.6.1.dev116\n"
     ]
    }
   ],
   "source": [
    "import btrack\n",
    "print(btrack.__version__)\n",
    "from skimage.measure import label\n",
    "import matplotlib.pyplot as plt\n",
    "import numpy as np\n",
    "from scipy.signal import savgol_filter"
   ]
  },
  {
   "cell_type": "code",
   "execution_count": 20,
   "id": "31828e2c-cf13-43ca-be79-cdb1d8cdedb5",
   "metadata": {},
   "outputs": [
    {
     "data": {
      "text/plain": [
       "(6, 9)"
      ]
     },
     "execution_count": 20,
     "metadata": {},
     "output_type": "execute_result"
    }
   ],
   "source": [
    "acq_ID"
   ]
  },
  {
   "cell_type": "code",
   "execution_count": 24,
   "id": "352c059f-ccf9-4b53-a324-716c1346f525",
   "metadata": {
    "scrolled": true
   },
   "outputs": [
    {
     "data": {
      "application/vnd.jupyter.widget-view+json": {
       "model_id": "fd64a67dbfa84f5480ea7d17a437c622",
       "version_major": 2,
       "version_minor": 0
      },
      "text/plain": [
       "  0%|          | 0/24 [00:00<?, ?it/s]"
      ]
     },
     "metadata": {},
     "output_type": "display_data"
    },
    {
     "name": "stderr",
     "output_type": "stream",
     "text": [
      "[INFO][2024/01/08 03:31:28 PM] Opening HDF file: /mnt/DATA/macrohet/PS0000/labels/macrohet_seg_model/(3, 4).h5...\n",
      "INFO:btrack.io.hdf:Opening HDF file: /mnt/DATA/macrohet/PS0000/labels/macrohet_seg_model/(3, 4).h5...\n",
      "[INFO][2024/01/08 03:31:28 PM] Loading tracks/obj_type_1\n",
      "INFO:btrack.io.hdf:Loading tracks/obj_type_1\n",
      "[INFO][2024/01/08 03:31:28 PM] Loading LBEP/obj_type_1\n",
      "INFO:btrack.io.hdf:Loading LBEP/obj_type_1\n",
      "[INFO][2024/01/08 03:31:28 PM] Loading objects/obj_type_1 (39878, 5) (39878 filtered: None)\n",
      "INFO:btrack.io.hdf:Loading objects/obj_type_1 (39878, 5) (39878 filtered: None)\n",
      "[INFO][2024/01/08 03:31:38 PM] Loading segmentation (75, 6048, 6048)\n",
      "INFO:btrack.io.hdf:Loading segmentation (75, 6048, 6048)\n",
      "[INFO][2024/01/08 03:31:38 PM] Closing HDF file: /mnt/DATA/macrohet/PS0000/labels/macrohet_seg_model/(3, 4).h5\n",
      "INFO:btrack.io.hdf:Closing HDF file: /mnt/DATA/macrohet/PS0000/labels/macrohet_seg_model/(3, 4).h5\n",
      "[INFO][2024/01/08 03:32:24 PM] Opening HDF file: /mnt/DATA/macrohet/PS0000/labels/macrohet_seg_model/(3, 5).h5...\n",
      "INFO:btrack.io.hdf:Opening HDF file: /mnt/DATA/macrohet/PS0000/labels/macrohet_seg_model/(3, 5).h5...\n",
      "[INFO][2024/01/08 03:32:24 PM] Loading tracks/obj_type_1\n",
      "INFO:btrack.io.hdf:Loading tracks/obj_type_1\n",
      "[INFO][2024/01/08 03:32:24 PM] Loading LBEP/obj_type_1\n",
      "INFO:btrack.io.hdf:Loading LBEP/obj_type_1\n",
      "[INFO][2024/01/08 03:32:24 PM] Loading objects/obj_type_1 (41424, 5) (41424 filtered: None)\n",
      "INFO:btrack.io.hdf:Loading objects/obj_type_1 (41424, 5) (41424 filtered: None)\n"
     ]
    },
    {
     "name": "stdout",
     "output_type": "stream",
     "text": [
      "[671, 648, 652, 646, 651, 657, 649, 666, 669, 652, 656, 651, 638, 640, 662, 669, 647, 633, 626, 648, 663, 642, 656, 645, 626, 611, 599, 609, 623, 612, 618, 610, 613, 617, 602, 592, 612, 586, 597, 600, 589, 578, 578, 596, 587, 590, 585, 582, 712, 562, 562, 546, 551, 554, 556, 555, 541, 555, 544, 571, 531, 539, 526, 565, 525, 529, 528, 531, 512, 643, 523, 517, 607, 508, 566]\n"
     ]
    },
    {
     "name": "stderr",
     "output_type": "stream",
     "text": [
      "[INFO][2024/01/08 03:32:35 PM] Loading segmentation (75, 6048, 6048)\n",
      "INFO:btrack.io.hdf:Loading segmentation (75, 6048, 6048)\n",
      "[INFO][2024/01/08 03:32:35 PM] Closing HDF file: /mnt/DATA/macrohet/PS0000/labels/macrohet_seg_model/(3, 5).h5\n",
      "INFO:btrack.io.hdf:Closing HDF file: /mnt/DATA/macrohet/PS0000/labels/macrohet_seg_model/(3, 5).h5\n",
      "[INFO][2024/01/08 03:33:19 PM] Opening HDF file: /mnt/DATA/macrohet/PS0000/labels/macrohet_seg_model/(3, 6).h5...\n",
      "INFO:btrack.io.hdf:Opening HDF file: /mnt/DATA/macrohet/PS0000/labels/macrohet_seg_model/(3, 6).h5...\n",
      "[INFO][2024/01/08 03:33:19 PM] Loading tracks/obj_type_1\n",
      "INFO:btrack.io.hdf:Loading tracks/obj_type_1\n",
      "[INFO][2024/01/08 03:33:19 PM] Loading LBEP/obj_type_1\n",
      "INFO:btrack.io.hdf:Loading LBEP/obj_type_1\n",
      "[INFO][2024/01/08 03:33:20 PM] Loading objects/obj_type_1 (46507, 5) (46507 filtered: None)\n",
      "INFO:btrack.io.hdf:Loading objects/obj_type_1 (46507, 5) (46507 filtered: None)\n"
     ]
    },
    {
     "name": "stdout",
     "output_type": "stream",
     "text": [
      "[670, 662, 650, 644, 639, 829, 648, 666, 627, 568, 657, 663, 822, 670, 664, 688, 667, 677, 671, 657, 677, 666, 652, 646, 654, 653, 662, 655, 655, 647, 829, 644, 632, 634, 680, 638, 641, 601, 627, 630, 600, 623, 623, 613, 605, 607, 625, 589, 590, 584, 594, 582, 574, 585, 584, 578, 570, 561, 561, 568, 545, 559, 550, 535, 572, 536, 528, 516, 518, 513, 508, 508, 503, 497, 507]\n"
     ]
    },
    {
     "name": "stderr",
     "output_type": "stream",
     "text": [
      "[INFO][2024/01/08 03:33:30 PM] Loading segmentation (75, 6048, 6048)\n",
      "INFO:btrack.io.hdf:Loading segmentation (75, 6048, 6048)\n",
      "[INFO][2024/01/08 03:33:30 PM] Closing HDF file: /mnt/DATA/macrohet/PS0000/labels/macrohet_seg_model/(3, 6).h5\n",
      "INFO:btrack.io.hdf:Closing HDF file: /mnt/DATA/macrohet/PS0000/labels/macrohet_seg_model/(3, 6).h5\n",
      "[INFO][2024/01/08 03:34:15 PM] Opening HDF file: /mnt/DATA/macrohet/PS0000/labels/macrohet_seg_model/(3, 7).h5...\n",
      "INFO:btrack.io.hdf:Opening HDF file: /mnt/DATA/macrohet/PS0000/labels/macrohet_seg_model/(3, 7).h5...\n",
      "[INFO][2024/01/08 03:34:15 PM] Loading tracks/obj_type_1\n",
      "INFO:btrack.io.hdf:Loading tracks/obj_type_1\n",
      "[INFO][2024/01/08 03:34:15 PM] Loading LBEP/obj_type_1\n",
      "INFO:btrack.io.hdf:Loading LBEP/obj_type_1\n",
      "[INFO][2024/01/08 03:34:15 PM] Loading objects/obj_type_1 (42503, 5) (42503 filtered: None)\n",
      "INFO:btrack.io.hdf:Loading objects/obj_type_1 (42503, 5) (42503 filtered: None)\n"
     ]
    },
    {
     "name": "stdout",
     "output_type": "stream",
     "text": [
      "[694, 658, 686, 663, 669, 670, 686, 677, 683, 694, 692, 690, 711, 790, 712, 708, 698, 700, 692, 692, 712, 712, 691, 703, 701, 737, 708, 717, 933, 789, 697, 722, 912, 698, 692, 673, 695, 706, 862, 701, 707, 674, 685, 1176, 698, 675, 640, 678, 671, 664, 679, 651, 678, 656, 660, 650, 650, 651, 648, 756, 666, 668, 671, 674, 652, 678, 654, 662, 672, 663, 664, 656, 652, 652, 634]\n"
     ]
    },
    {
     "name": "stderr",
     "output_type": "stream",
     "text": [
      "[INFO][2024/01/08 03:34:26 PM] Loading segmentation (75, 6048, 6048)\n",
      "INFO:btrack.io.hdf:Loading segmentation (75, 6048, 6048)\n",
      "[INFO][2024/01/08 03:34:26 PM] Closing HDF file: /mnt/DATA/macrohet/PS0000/labels/macrohet_seg_model/(3, 7).h5\n",
      "INFO:btrack.io.hdf:Closing HDF file: /mnt/DATA/macrohet/PS0000/labels/macrohet_seg_model/(3, 7).h5\n",
      "[INFO][2024/01/08 03:35:12 PM] Opening HDF file: /mnt/DATA/macrohet/PS0000/labels/macrohet_seg_model/(3, 8).h5...\n",
      "INFO:btrack.io.hdf:Opening HDF file: /mnt/DATA/macrohet/PS0000/labels/macrohet_seg_model/(3, 8).h5...\n",
      "[INFO][2024/01/08 03:35:12 PM] Loading tracks/obj_type_1\n",
      "INFO:btrack.io.hdf:Loading tracks/obj_type_1\n",
      "[INFO][2024/01/08 03:35:12 PM] Loading LBEP/obj_type_1\n",
      "INFO:btrack.io.hdf:Loading LBEP/obj_type_1\n",
      "[INFO][2024/01/08 03:35:12 PM] Loading objects/obj_type_1 (47396, 5) (47396 filtered: None)\n",
      "INFO:btrack.io.hdf:Loading objects/obj_type_1 (47396, 5) (47396 filtered: None)\n"
     ]
    },
    {
     "name": "stdout",
     "output_type": "stream",
     "text": [
      "[655, 670, 674, 664, 667, 657, 661, 672, 683, 674, 683, 694, 765, 708, 684, 699, 691, 697, 697, 676, 672, 679, 666, 656, 681, 663, 679, 656, 669, 681, 650, 665, 650, 649, 1072, 637, 657, 921, 666, 628, 637, 693, 604, 797, 616, 587, 601, 607, 606, 610, 609, 620, 608, 584, 601, 605, 578, 594, 597, 600, 570, 567, 573, 584, 567, 560, 580, 563, 573, 572, 571, 559, 563, 568, 558]\n"
     ]
    },
    {
     "name": "stderr",
     "output_type": "stream",
     "text": [
      "[INFO][2024/01/08 03:35:22 PM] Loading segmentation (75, 6048, 6048)\n",
      "INFO:btrack.io.hdf:Loading segmentation (75, 6048, 6048)\n",
      "[INFO][2024/01/08 03:35:22 PM] Closing HDF file: /mnt/DATA/macrohet/PS0000/labels/macrohet_seg_model/(3, 8).h5\n",
      "INFO:btrack.io.hdf:Closing HDF file: /mnt/DATA/macrohet/PS0000/labels/macrohet_seg_model/(3, 8).h5\n",
      "[INFO][2024/01/08 03:36:09 PM] Opening HDF file: /mnt/DATA/macrohet/PS0000/labels/macrohet_seg_model/(3, 9).h5...\n",
      "INFO:btrack.io.hdf:Opening HDF file: /mnt/DATA/macrohet/PS0000/labels/macrohet_seg_model/(3, 9).h5...\n",
      "[INFO][2024/01/08 03:36:09 PM] Loading tracks/obj_type_1\n",
      "INFO:btrack.io.hdf:Loading tracks/obj_type_1\n",
      "[INFO][2024/01/08 03:36:09 PM] Loading LBEP/obj_type_1\n",
      "INFO:btrack.io.hdf:Loading LBEP/obj_type_1\n",
      "[INFO][2024/01/08 03:36:09 PM] Loading objects/obj_type_1 (42259, 5) (42259 filtered: None)\n",
      "INFO:btrack.io.hdf:Loading objects/obj_type_1 (42259, 5) (42259 filtered: None)\n"
     ]
    },
    {
     "name": "stdout",
     "output_type": "stream",
     "text": [
      "[711, 697, 694, 689, 719, 692, 674, 692, 721, 764, 732, 717, 737, 741, 744, 765, 770, 757, 756, 765, 773, 815, 740, 737, 736, 729, 737, 739, 721, 710, 719, 716, 707, 692, 710, 691, 693, 688, 685, 705, 681, 678, 675, 687, 664, 667, 670, 667, 672, 686, 681, 695, 683, 679, 689, 683, 666, 684, 677, 671, 656, 651, 643, 652, 656, 653, 645, 631, 652, 660, 651, 673, 648, 657, 652]\n"
     ]
    },
    {
     "name": "stderr",
     "output_type": "stream",
     "text": [
      "[INFO][2024/01/08 03:36:18 PM] Loading segmentation (75, 6048, 6048)\n",
      "INFO:btrack.io.hdf:Loading segmentation (75, 6048, 6048)\n",
      "[INFO][2024/01/08 03:36:18 PM] Closing HDF file: /mnt/DATA/macrohet/PS0000/labels/macrohet_seg_model/(3, 9).h5\n",
      "INFO:btrack.io.hdf:Closing HDF file: /mnt/DATA/macrohet/PS0000/labels/macrohet_seg_model/(3, 9).h5\n",
      "[INFO][2024/01/08 03:37:01 PM] Opening HDF file: /mnt/DATA/macrohet/PS0000/labels/macrohet_seg_model/(4, 4).h5...\n",
      "INFO:btrack.io.hdf:Opening HDF file: /mnt/DATA/macrohet/PS0000/labels/macrohet_seg_model/(4, 4).h5...\n",
      "[INFO][2024/01/08 03:37:01 PM] Loading tracks/obj_type_1\n",
      "INFO:btrack.io.hdf:Loading tracks/obj_type_1\n",
      "[INFO][2024/01/08 03:37:01 PM] Loading LBEP/obj_type_1\n",
      "INFO:btrack.io.hdf:Loading LBEP/obj_type_1\n",
      "[INFO][2024/01/08 03:37:01 PM] Loading objects/obj_type_1 (41640, 5) (41640 filtered: None)\n",
      "INFO:btrack.io.hdf:Loading objects/obj_type_1 (41640, 5) (41640 filtered: None)\n"
     ]
    },
    {
     "name": "stdout",
     "output_type": "stream",
     "text": [
      "[578, 595, 571, 596, 585, 608, 588, 613, 643, 642, 644, 621, 649, 637, 635, 621, 622, 637, 644, 637, 653, 639, 623, 618, 630, 628, 627, 630, 625, 629, 626, 638, 639, 624, 628, 628, 625, 622, 631, 625, 634, 617, 617, 610, 597, 610, 601, 595, 613, 599, 626, 594, 591, 597, 597, 609, 603, 608, 590, 583, 588, 591, 583, 587, 595, 586, 585, 584, 584, 582, 570, 574, 566, 712, 566]\n"
     ]
    },
    {
     "name": "stderr",
     "output_type": "stream",
     "text": [
      "[INFO][2024/01/08 03:37:10 PM] Loading segmentation (75, 6048, 6048)\n",
      "INFO:btrack.io.hdf:Loading segmentation (75, 6048, 6048)\n",
      "[INFO][2024/01/08 03:37:10 PM] Closing HDF file: /mnt/DATA/macrohet/PS0000/labels/macrohet_seg_model/(4, 4).h5\n",
      "INFO:btrack.io.hdf:Closing HDF file: /mnt/DATA/macrohet/PS0000/labels/macrohet_seg_model/(4, 4).h5\n",
      "[INFO][2024/01/08 03:37:57 PM] Opening HDF file: /mnt/DATA/macrohet/PS0000/labels/macrohet_seg_model/(4, 5).h5...\n",
      "INFO:btrack.io.hdf:Opening HDF file: /mnt/DATA/macrohet/PS0000/labels/macrohet_seg_model/(4, 5).h5...\n",
      "[INFO][2024/01/08 03:37:57 PM] Loading tracks/obj_type_1\n",
      "INFO:btrack.io.hdf:Loading tracks/obj_type_1\n",
      "[INFO][2024/01/08 03:37:57 PM] Loading LBEP/obj_type_1\n",
      "INFO:btrack.io.hdf:Loading LBEP/obj_type_1\n",
      "[INFO][2024/01/08 03:37:57 PM] Loading objects/obj_type_1 (47242, 5) (47242 filtered: None)\n",
      "INFO:btrack.io.hdf:Loading objects/obj_type_1 (47242, 5) (47242 filtered: None)\n"
     ]
    },
    {
     "name": "stdout",
     "output_type": "stream",
     "text": [
      "[707, 690, 680, 699, 699, 687, 841, 686, 682, 1092, 1034, 691, 688, 668, 679, 712, 1286, 739, 658, 671, 665, 645, 649, 679, 639, 628, 622, 632, 636, 652, 636, 649, 728, 653, 638, 633, 635, 630, 633, 622, 603, 606, 604, 612, 617, 596, 600, 621, 596, 607, 588, 605, 603, 594, 611, 604, 587, 577, 593, 548, 618, 549, 564, 570, 560, 552, 575, 554, 551, 554, 560, 545, 562, 547, 546]\n"
     ]
    },
    {
     "name": "stderr",
     "output_type": "stream",
     "text": [
      "[INFO][2024/01/08 03:38:08 PM] Loading segmentation (75, 6048, 6048)\n",
      "INFO:btrack.io.hdf:Loading segmentation (75, 6048, 6048)\n",
      "[INFO][2024/01/08 03:38:08 PM] Closing HDF file: /mnt/DATA/macrohet/PS0000/labels/macrohet_seg_model/(4, 5).h5\n",
      "INFO:btrack.io.hdf:Closing HDF file: /mnt/DATA/macrohet/PS0000/labels/macrohet_seg_model/(4, 5).h5\n",
      "[INFO][2024/01/08 03:38:54 PM] Opening HDF file: /mnt/DATA/macrohet/PS0000/labels/macrohet_seg_model/(4, 6).h5...\n",
      "INFO:btrack.io.hdf:Opening HDF file: /mnt/DATA/macrohet/PS0000/labels/macrohet_seg_model/(4, 6).h5...\n",
      "[INFO][2024/01/08 03:38:54 PM] Loading tracks/obj_type_1\n",
      "INFO:btrack.io.hdf:Loading tracks/obj_type_1\n",
      "[INFO][2024/01/08 03:38:54 PM] Loading LBEP/obj_type_1\n",
      "INFO:btrack.io.hdf:Loading LBEP/obj_type_1\n",
      "[INFO][2024/01/08 03:38:54 PM] Loading objects/obj_type_1 (43883, 5) (43883 filtered: None)\n",
      "INFO:btrack.io.hdf:Loading objects/obj_type_1 (43883, 5) (43883 filtered: None)\n"
     ]
    },
    {
     "name": "stdout",
     "output_type": "stream",
     "text": [
      "[683, 759, 679, 672, 867, 699, 688, 721, 713, 743, 740, 738, 749, 731, 715, 733, 747, 740, 752, 804, 760, 739, 742, 746, 736, 737, 736, 718, 781, 759, 803, 716, 725, 721, 729, 735, 723, 742, 712, 698, 707, 720, 708, 704, 718, 712, 697, 693, 692, 698, 692, 686, 668, 666, 658, 652, 651, 645, 639, 627, 627, 606, 596, 585, 579, 564, 571, 547, 548, 538, 525, 508, 489, 489, 468]\n"
     ]
    },
    {
     "name": "stderr",
     "output_type": "stream",
     "text": [
      "[INFO][2024/01/08 03:39:04 PM] Loading segmentation (75, 6048, 6048)\n",
      "INFO:btrack.io.hdf:Loading segmentation (75, 6048, 6048)\n",
      "[INFO][2024/01/08 03:39:04 PM] Closing HDF file: /mnt/DATA/macrohet/PS0000/labels/macrohet_seg_model/(4, 6).h5\n",
      "INFO:btrack.io.hdf:Closing HDF file: /mnt/DATA/macrohet/PS0000/labels/macrohet_seg_model/(4, 6).h5\n",
      "[INFO][2024/01/08 03:39:48 PM] Opening HDF file: /mnt/DATA/macrohet/PS0000/labels/macrohet_seg_model/(4, 7).h5...\n",
      "INFO:btrack.io.hdf:Opening HDF file: /mnt/DATA/macrohet/PS0000/labels/macrohet_seg_model/(4, 7).h5...\n",
      "[INFO][2024/01/08 03:39:48 PM] Loading tracks/obj_type_1\n",
      "INFO:btrack.io.hdf:Loading tracks/obj_type_1\n",
      "[INFO][2024/01/08 03:39:48 PM] Loading LBEP/obj_type_1\n",
      "INFO:btrack.io.hdf:Loading LBEP/obj_type_1\n",
      "[INFO][2024/01/08 03:39:48 PM] Loading objects/obj_type_1 (42965, 5) (42965 filtered: None)\n",
      "INFO:btrack.io.hdf:Loading objects/obj_type_1 (42965, 5) (42965 filtered: None)\n"
     ]
    },
    {
     "name": "stdout",
     "output_type": "stream",
     "text": [
      "[784, 629, 628, 629, 628, 639, 649, 647, 656, 662, 668, 666, 667, 682, 685, 684, 685, 687, 703, 709, 705, 721, 693, 715, 713, 710, 705, 690, 699, 679, 709, 684, 682, 659, 682, 709, 664, 660, 703, 641, 651, 647, 643, 646, 638, 630, 631, 626, 628, 610, 597, 601, 603, 617, 605, 595, 609, 606, 597, 582, 586, 585, 575, 608, 573, 566, 578, 558, 560, 549, 545, 549, 541, 532, 524]\n"
     ]
    },
    {
     "name": "stderr",
     "output_type": "stream",
     "text": [
      "[INFO][2024/01/08 03:39:59 PM] Loading segmentation (75, 6048, 6048)\n",
      "INFO:btrack.io.hdf:Loading segmentation (75, 6048, 6048)\n",
      "[INFO][2024/01/08 03:39:59 PM] Closing HDF file: /mnt/DATA/macrohet/PS0000/labels/macrohet_seg_model/(4, 7).h5\n",
      "INFO:btrack.io.hdf:Closing HDF file: /mnt/DATA/macrohet/PS0000/labels/macrohet_seg_model/(4, 7).h5\n",
      "[INFO][2024/01/08 03:40:44 PM] Opening HDF file: /mnt/DATA/macrohet/PS0000/labels/macrohet_seg_model/(4, 8).h5...\n",
      "INFO:btrack.io.hdf:Opening HDF file: /mnt/DATA/macrohet/PS0000/labels/macrohet_seg_model/(4, 8).h5...\n",
      "[INFO][2024/01/08 03:40:44 PM] Loading tracks/obj_type_1\n",
      "INFO:btrack.io.hdf:Loading tracks/obj_type_1\n",
      "[INFO][2024/01/08 03:40:44 PM] Loading LBEP/obj_type_1\n",
      "INFO:btrack.io.hdf:Loading LBEP/obj_type_1\n",
      "[INFO][2024/01/08 03:40:45 PM] Loading objects/obj_type_1 (38895, 5) (38895 filtered: None)\n",
      "INFO:btrack.io.hdf:Loading objects/obj_type_1 (38895, 5) (38895 filtered: None)\n"
     ]
    },
    {
     "name": "stdout",
     "output_type": "stream",
     "text": [
      "[655, 661, 721, 703, 711, 718, 707, 700, 713, 701, 715, 730, 709, 712, 712, 702, 704, 708, 694, 685, 692, 693, 676, 663, 670, 664, 671, 686, 693, 677, 778, 664, 672, 658, 628, 656, 665, 649, 701, 652, 634, 640, 639, 644, 627, 631, 619, 657, 683, 619, 606, 623, 606, 611, 602, 606, 622, 590, 605, 606, 605, 572, 566, 578, 594, 569, 566, 569, 563, 528, 892, 540, 548, 533, 566]\n"
     ]
    },
    {
     "name": "stderr",
     "output_type": "stream",
     "text": [
      "[INFO][2024/01/08 03:40:54 PM] Loading segmentation (75, 6048, 6048)\n",
      "INFO:btrack.io.hdf:Loading segmentation (75, 6048, 6048)\n",
      "[INFO][2024/01/08 03:40:54 PM] Closing HDF file: /mnt/DATA/macrohet/PS0000/labels/macrohet_seg_model/(4, 8).h5\n",
      "INFO:btrack.io.hdf:Closing HDF file: /mnt/DATA/macrohet/PS0000/labels/macrohet_seg_model/(4, 8).h5\n",
      "[INFO][2024/01/08 03:41:36 PM] Opening HDF file: /mnt/DATA/macrohet/PS0000/labels/macrohet_seg_model/(4, 9).h5...\n",
      "INFO:btrack.io.hdf:Opening HDF file: /mnt/DATA/macrohet/PS0000/labels/macrohet_seg_model/(4, 9).h5...\n",
      "[INFO][2024/01/08 03:41:36 PM] Loading tracks/obj_type_1\n",
      "INFO:btrack.io.hdf:Loading tracks/obj_type_1\n",
      "[INFO][2024/01/08 03:41:36 PM] Loading LBEP/obj_type_1\n",
      "INFO:btrack.io.hdf:Loading LBEP/obj_type_1\n",
      "[INFO][2024/01/08 03:41:37 PM] Loading objects/obj_type_1 (44643, 5) (44643 filtered: None)\n",
      "INFO:btrack.io.hdf:Loading objects/obj_type_1 (44643, 5) (44643 filtered: None)\n"
     ]
    },
    {
     "name": "stdout",
     "output_type": "stream",
     "text": [
      "[555, 581, 557, 587, 602, 617, 606, 589, 603, 602, 603, 611, 612, 619, 607, 625, 614, 612, 597, 611, 617, 604, 597, 601, 615, 603, 600, 633, 598, 596, 590, 585, 597, 598, 588, 588, 600, 592, 671, 588, 574, 583, 570, 571, 584, 565, 559, 563, 552, 588, 559, 571, 550, 550, 919, 588, 545, 538, 530, 543, 528, 533, 518, 512, 526, 509, 518, 530, 494, 490, 508, 487, 482, 483, 477]\n"
     ]
    },
    {
     "name": "stderr",
     "output_type": "stream",
     "text": [
      "[INFO][2024/01/08 03:41:47 PM] Loading segmentation (75, 6048, 6048)\n",
      "INFO:btrack.io.hdf:Loading segmentation (75, 6048, 6048)\n",
      "[INFO][2024/01/08 03:41:47 PM] Closing HDF file: /mnt/DATA/macrohet/PS0000/labels/macrohet_seg_model/(4, 9).h5\n",
      "INFO:btrack.io.hdf:Closing HDF file: /mnt/DATA/macrohet/PS0000/labels/macrohet_seg_model/(4, 9).h5\n",
      "[INFO][2024/01/08 03:42:32 PM] Opening HDF file: /mnt/DATA/macrohet/PS0000/labels/macrohet_seg_model/(5, 4).h5...\n",
      "INFO:btrack.io.hdf:Opening HDF file: /mnt/DATA/macrohet/PS0000/labels/macrohet_seg_model/(5, 4).h5...\n",
      "[INFO][2024/01/08 03:42:32 PM] Loading tracks/obj_type_1\n",
      "INFO:btrack.io.hdf:Loading tracks/obj_type_1\n",
      "[INFO][2024/01/08 03:42:32 PM] Loading LBEP/obj_type_1\n",
      "INFO:btrack.io.hdf:Loading LBEP/obj_type_1\n",
      "[INFO][2024/01/08 03:42:32 PM] Loading objects/obj_type_1 (30664, 5) (30664 filtered: None)\n",
      "INFO:btrack.io.hdf:Loading objects/obj_type_1 (30664, 5) (30664 filtered: None)\n"
     ]
    },
    {
     "name": "stdout",
     "output_type": "stream",
     "text": [
      "[660, 663, 661, 690, 666, 664, 664, 676, 690, 703, 699, 719, 722, 733, 722, 733, 724, 706, 737, 708, 696, 713, 703, 720, 696, 696, 693, 690, 696, 692, 670, 688, 691, 696, 677, 683, 666, 665, 665, 652, 652, 652, 639, 650, 673, 632, 632, 642, 624, 619, 605, 601, 602, 633, 611, 592, 605, 596, 612, 729, 706, 599, 819, 765, 604, 661, 571, 554, 570, 639, 547, 552, 548, 552, 550]\n"
     ]
    },
    {
     "name": "stderr",
     "output_type": "stream",
     "text": [
      "[INFO][2024/01/08 03:42:42 PM] Loading segmentation (75, 6048, 6048)\n",
      "INFO:btrack.io.hdf:Loading segmentation (75, 6048, 6048)\n",
      "[INFO][2024/01/08 03:42:42 PM] Closing HDF file: /mnt/DATA/macrohet/PS0000/labels/macrohet_seg_model/(5, 4).h5\n",
      "INFO:btrack.io.hdf:Closing HDF file: /mnt/DATA/macrohet/PS0000/labels/macrohet_seg_model/(5, 4).h5\n",
      "[INFO][2024/01/08 03:43:23 PM] Opening HDF file: /mnt/DATA/macrohet/PS0000/labels/macrohet_seg_model/(5, 5).h5...\n",
      "INFO:btrack.io.hdf:Opening HDF file: /mnt/DATA/macrohet/PS0000/labels/macrohet_seg_model/(5, 5).h5...\n",
      "[INFO][2024/01/08 03:43:23 PM] Loading tracks/obj_type_1\n",
      "INFO:btrack.io.hdf:Loading tracks/obj_type_1\n",
      "[INFO][2024/01/08 03:43:23 PM] Loading LBEP/obj_type_1\n",
      "INFO:btrack.io.hdf:Loading LBEP/obj_type_1\n",
      "[INFO][2024/01/08 03:43:23 PM] Loading objects/obj_type_1 (42973, 5) (42973 filtered: None)\n",
      "INFO:btrack.io.hdf:Loading objects/obj_type_1 (42973, 5) (42973 filtered: None)\n"
     ]
    },
    {
     "name": "stdout",
     "output_type": "stream",
     "text": [
      "[506, 523, 514, 508, 517, 513, 517, 516, 521, 509, 511, 522, 520, 504, 521, 510, 515, 504, 499, 509, 746, 494, 513, 488, 498, 502, 481, 502, 487, 481, 481, 489, 483, 572, 481, 485, 470, 492, 483, 639, 479, 471, 482, 473, 465, 459, 449, 455, 449, 453, 448, 431, 425, 434, 448, 438, 457, 418, 413, 407, 404, 419, 396, 401, 411, 393, 390, 381, 394, 501, 376, 375, 389, 372, 380]\n"
     ]
    },
    {
     "name": "stderr",
     "output_type": "stream",
     "text": [
      "[INFO][2024/01/08 03:43:34 PM] Loading segmentation (75, 6048, 6048)\n",
      "INFO:btrack.io.hdf:Loading segmentation (75, 6048, 6048)\n",
      "[INFO][2024/01/08 03:43:34 PM] Closing HDF file: /mnt/DATA/macrohet/PS0000/labels/macrohet_seg_model/(5, 5).h5\n",
      "INFO:btrack.io.hdf:Closing HDF file: /mnt/DATA/macrohet/PS0000/labels/macrohet_seg_model/(5, 5).h5\n",
      "[INFO][2024/01/08 03:44:20 PM] Opening HDF file: /mnt/DATA/macrohet/PS0000/labels/macrohet_seg_model/(5, 6).h5...\n",
      "INFO:btrack.io.hdf:Opening HDF file: /mnt/DATA/macrohet/PS0000/labels/macrohet_seg_model/(5, 6).h5...\n",
      "[INFO][2024/01/08 03:44:20 PM] Loading tracks/obj_type_1\n",
      "INFO:btrack.io.hdf:Loading tracks/obj_type_1\n",
      "[INFO][2024/01/08 03:44:20 PM] Loading LBEP/obj_type_1\n",
      "INFO:btrack.io.hdf:Loading LBEP/obj_type_1\n",
      "[INFO][2024/01/08 03:44:20 PM] Loading objects/obj_type_1 (45678, 5) (45678 filtered: None)\n",
      "INFO:btrack.io.hdf:Loading objects/obj_type_1 (45678, 5) (45678 filtered: None)\n"
     ]
    },
    {
     "name": "stdout",
     "output_type": "stream",
     "text": [
      "[693, 676, 678, 675, 650, 667, 663, 657, 658, 672, 720, 671, 751, 675, 670, 692, 650, 679, 663, 680, 667, 691, 690, 685, 674, 686, 687, 685, 677, 679, 704, 673, 667, 647, 659, 638, 653, 659, 640, 639, 641, 637, 629, 623, 626, 641, 622, 621, 616, 643, 621, 608, 620, 798, 601, 610, 579, 578, 591, 579, 772, 563, 556, 548, 544, 524, 532, 519, 525, 512, 530, 503, 502, 480, 471]\n"
     ]
    },
    {
     "name": "stderr",
     "output_type": "stream",
     "text": [
      "[INFO][2024/01/08 03:44:31 PM] Loading segmentation (75, 6048, 6048)\n",
      "INFO:btrack.io.hdf:Loading segmentation (75, 6048, 6048)\n",
      "[INFO][2024/01/08 03:44:31 PM] Closing HDF file: /mnt/DATA/macrohet/PS0000/labels/macrohet_seg_model/(5, 6).h5\n",
      "INFO:btrack.io.hdf:Closing HDF file: /mnt/DATA/macrohet/PS0000/labels/macrohet_seg_model/(5, 6).h5\n",
      "[INFO][2024/01/08 03:45:19 PM] Opening HDF file: /mnt/DATA/macrohet/PS0000/labels/macrohet_seg_model/(5, 7).h5...\n",
      "INFO:btrack.io.hdf:Opening HDF file: /mnt/DATA/macrohet/PS0000/labels/macrohet_seg_model/(5, 7).h5...\n",
      "[INFO][2024/01/08 03:45:19 PM] Loading tracks/obj_type_1\n",
      "INFO:btrack.io.hdf:Loading tracks/obj_type_1\n",
      "[INFO][2024/01/08 03:45:19 PM] Loading LBEP/obj_type_1\n",
      "INFO:btrack.io.hdf:Loading LBEP/obj_type_1\n",
      "[INFO][2024/01/08 03:45:19 PM] Loading objects/obj_type_1 (47880, 5) (47880 filtered: None)\n",
      "INFO:btrack.io.hdf:Loading objects/obj_type_1 (47880, 5) (47880 filtered: None)\n"
     ]
    },
    {
     "name": "stdout",
     "output_type": "stream",
     "text": [
      "[705, 692, 666, 691, 695, 698, 679, 675, 733, 690, 703, 724, 741, 711, 714, 711, 704, 736, 705, 744, 703, 695, 703, 697, 697, 718, 708, 695, 717, 698, 686, 695, 693, 688, 695, 684, 682, 695, 760, 674, 692, 680, 680, 663, 687, 662, 685, 677, 659, 675, 660, 674, 663, 674, 662, 642, 645, 638, 657, 649, 647, 644, 643, 630, 623, 613, 615, 628, 624, 606, 595, 589, 594, 600, 592]\n"
     ]
    },
    {
     "name": "stderr",
     "output_type": "stream",
     "text": [
      "[INFO][2024/01/08 03:45:28 PM] Loading segmentation (75, 6048, 6048)\n",
      "INFO:btrack.io.hdf:Loading segmentation (75, 6048, 6048)\n",
      "[INFO][2024/01/08 03:45:28 PM] Closing HDF file: /mnt/DATA/macrohet/PS0000/labels/macrohet_seg_model/(5, 7).h5\n",
      "INFO:btrack.io.hdf:Closing HDF file: /mnt/DATA/macrohet/PS0000/labels/macrohet_seg_model/(5, 7).h5\n",
      "[INFO][2024/01/08 03:46:17 PM] Opening HDF file: /mnt/DATA/macrohet/PS0000/labels/macrohet_seg_model/(5, 8).h5...\n",
      "INFO:btrack.io.hdf:Opening HDF file: /mnt/DATA/macrohet/PS0000/labels/macrohet_seg_model/(5, 8).h5...\n",
      "[INFO][2024/01/08 03:46:17 PM] Loading tracks/obj_type_1\n",
      "INFO:btrack.io.hdf:Loading tracks/obj_type_1\n",
      "[INFO][2024/01/08 03:46:17 PM] Loading LBEP/obj_type_1\n",
      "INFO:btrack.io.hdf:Loading LBEP/obj_type_1\n",
      "[INFO][2024/01/08 03:46:17 PM] Loading objects/obj_type_1 (38531, 5) (38531 filtered: None)\n",
      "INFO:btrack.io.hdf:Loading objects/obj_type_1 (38531, 5) (38531 filtered: None)\n"
     ]
    },
    {
     "name": "stdout",
     "output_type": "stream",
     "text": [
      "[741, 709, 728, 736, 751, 752, 1166, 734, 718, 739, 748, 737, 738, 805, 745, 754, 720, 745, 743, 738, 732, 721, 781, 824, 769, 746, 714, 737, 723, 704, 699, 720, 739, 688, 703, 718, 702, 703, 730, 692, 697, 729, 688, 680, 677, 690, 697, 678, 712, 705, 704, 691, 714, 718, 704, 696, 700, 689, 706, 696, 708, 685, 725, 694, 704, 686, 686, 690, 692, 705, 697, 681, 700, 684, 685]\n"
     ]
    },
    {
     "name": "stderr",
     "output_type": "stream",
     "text": [
      "[INFO][2024/01/08 03:46:28 PM] Loading segmentation (75, 6048, 6048)\n",
      "INFO:btrack.io.hdf:Loading segmentation (75, 6048, 6048)\n",
      "[INFO][2024/01/08 03:46:28 PM] Closing HDF file: /mnt/DATA/macrohet/PS0000/labels/macrohet_seg_model/(5, 8).h5\n",
      "INFO:btrack.io.hdf:Closing HDF file: /mnt/DATA/macrohet/PS0000/labels/macrohet_seg_model/(5, 8).h5\n",
      "[INFO][2024/01/08 03:47:10 PM] Opening HDF file: /mnt/DATA/macrohet/PS0000/labels/macrohet_seg_model/(5, 9).h5...\n",
      "INFO:btrack.io.hdf:Opening HDF file: /mnt/DATA/macrohet/PS0000/labels/macrohet_seg_model/(5, 9).h5...\n",
      "[INFO][2024/01/08 03:47:10 PM] Loading tracks/obj_type_1\n",
      "INFO:btrack.io.hdf:Loading tracks/obj_type_1\n",
      "[INFO][2024/01/08 03:47:10 PM] Loading LBEP/obj_type_1\n",
      "INFO:btrack.io.hdf:Loading LBEP/obj_type_1\n",
      "[INFO][2024/01/08 03:47:10 PM] Loading objects/obj_type_1 (33081, 5) (33081 filtered: None)\n",
      "INFO:btrack.io.hdf:Loading objects/obj_type_1 (33081, 5) (33081 filtered: None)\n"
     ]
    },
    {
     "name": "stdout",
     "output_type": "stream",
     "text": [
      "[595, 591, 589, 593, 592, 605, 601, 583, 605, 599, 610, 603, 615, 631, 609, 607, 626, 608, 611, 635, 604, 617, 619, 628, 642, 622, 645, 606, 615, 612, 628, 620, 621, 645, 612, 611, 591, 604, 608, 597, 587, 599, 591, 595, 604, 587, 569, 569, 560, 576, 543, 566, 548, 551, 539, 551, 534, 530, 527, 517, 523, 514, 525, 522, 516, 520, 514, 523, 519, 529, 531, 514, 516, 557, 498]\n"
     ]
    },
    {
     "name": "stderr",
     "output_type": "stream",
     "text": [
      "[INFO][2024/01/08 03:47:21 PM] Loading segmentation (75, 6048, 6048)\n",
      "INFO:btrack.io.hdf:Loading segmentation (75, 6048, 6048)\n",
      "[INFO][2024/01/08 03:47:21 PM] Closing HDF file: /mnt/DATA/macrohet/PS0000/labels/macrohet_seg_model/(5, 9).h5\n",
      "INFO:btrack.io.hdf:Closing HDF file: /mnt/DATA/macrohet/PS0000/labels/macrohet_seg_model/(5, 9).h5\n",
      "[INFO][2024/01/08 03:48:06 PM] Opening HDF file: /mnt/DATA/macrohet/PS0000/labels/macrohet_seg_model/(6, 4).h5...\n",
      "INFO:btrack.io.hdf:Opening HDF file: /mnt/DATA/macrohet/PS0000/labels/macrohet_seg_model/(6, 4).h5...\n",
      "[INFO][2024/01/08 03:48:06 PM] Loading tracks/obj_type_1\n",
      "INFO:btrack.io.hdf:Loading tracks/obj_type_1\n",
      "[INFO][2024/01/08 03:48:06 PM] Loading LBEP/obj_type_1\n",
      "INFO:btrack.io.hdf:Loading LBEP/obj_type_1\n"
     ]
    },
    {
     "name": "stdout",
     "output_type": "stream",
     "text": [
      "[630, 622, 642, 661, 654, 627, 639, 648, 649, 642, 649, 653, 654, 621, 645, 656, 1993, 722, 652, 663, 664, 762, 651, 677, 685, 665, 666, 1163, 676, 706, 707, 660, 669, 643, 626, 588, 592, 587, 569, 550, 539, 513, 501, 511, 485, 471, 445, 444, 427, 407, 398, 380, 363, 349, 336, 330, 322, 307, 294, 286, 279, 273, 274, 262, 248, 248, 240, 238, 218, 217, 214, 202, 202, 205, 197]\n"
     ]
    },
    {
     "name": "stderr",
     "output_type": "stream",
     "text": [
      "[INFO][2024/01/08 03:48:07 PM] Loading objects/obj_type_1 (42961, 5) (42961 filtered: None)\n",
      "INFO:btrack.io.hdf:Loading objects/obj_type_1 (42961, 5) (42961 filtered: None)\n",
      "[INFO][2024/01/08 03:48:17 PM] Loading segmentation (75, 6048, 6048)\n",
      "INFO:btrack.io.hdf:Loading segmentation (75, 6048, 6048)\n",
      "[INFO][2024/01/08 03:48:17 PM] Closing HDF file: /mnt/DATA/macrohet/PS0000/labels/macrohet_seg_model/(6, 4).h5\n",
      "INFO:btrack.io.hdf:Closing HDF file: /mnt/DATA/macrohet/PS0000/labels/macrohet_seg_model/(6, 4).h5\n",
      "[INFO][2024/01/08 03:49:05 PM] Opening HDF file: /mnt/DATA/macrohet/PS0000/labels/macrohet_seg_model/(6, 5).h5...\n",
      "INFO:btrack.io.hdf:Opening HDF file: /mnt/DATA/macrohet/PS0000/labels/macrohet_seg_model/(6, 5).h5...\n",
      "[INFO][2024/01/08 03:49:05 PM] Loading tracks/obj_type_1\n",
      "INFO:btrack.io.hdf:Loading tracks/obj_type_1\n",
      "[INFO][2024/01/08 03:49:05 PM] Loading LBEP/obj_type_1\n",
      "INFO:btrack.io.hdf:Loading LBEP/obj_type_1\n",
      "[INFO][2024/01/08 03:49:05 PM] Loading objects/obj_type_1 (46808, 5) (46808 filtered: None)\n",
      "INFO:btrack.io.hdf:Loading objects/obj_type_1 (46808, 5) (46808 filtered: None)\n"
     ]
    },
    {
     "name": "stdout",
     "output_type": "stream",
     "text": [
      "[705, 679, 715, 698, 686, 717, 708, 691, 690, 720, 742, 1033, 729, 730, 745, 736, 726, 718, 779, 906, 734, 698, 723, 691, 689, 685, 739, 675, 674, 693, 1760, 710, 718, 672, 650, 665, 639, 651, 653, 646, 664, 623, 683, 635, 616, 644, 617, 622, 602, 619, 625, 597, 601, 609, 590, 593, 586, 599, 577, 583, 577, 577, 759, 585, 621, 566, 574, 575, 566, 555, 559, 566, 562, 564, 545]\n"
     ]
    },
    {
     "name": "stderr",
     "output_type": "stream",
     "text": [
      "[INFO][2024/01/08 03:49:16 PM] Loading segmentation (75, 6048, 6048)\n",
      "INFO:btrack.io.hdf:Loading segmentation (75, 6048, 6048)\n",
      "[INFO][2024/01/08 03:49:16 PM] Closing HDF file: /mnt/DATA/macrohet/PS0000/labels/macrohet_seg_model/(6, 5).h5\n",
      "INFO:btrack.io.hdf:Closing HDF file: /mnt/DATA/macrohet/PS0000/labels/macrohet_seg_model/(6, 5).h5\n",
      "[INFO][2024/01/08 03:50:02 PM] Opening HDF file: /mnt/DATA/macrohet/PS0000/labels/macrohet_seg_model/(6, 6).h5...\n",
      "INFO:btrack.io.hdf:Opening HDF file: /mnt/DATA/macrohet/PS0000/labels/macrohet_seg_model/(6, 6).h5...\n",
      "[INFO][2024/01/08 03:50:02 PM] Loading tracks/obj_type_1\n",
      "INFO:btrack.io.hdf:Loading tracks/obj_type_1\n",
      "[INFO][2024/01/08 03:50:02 PM] Loading LBEP/obj_type_1\n",
      "INFO:btrack.io.hdf:Loading LBEP/obj_type_1\n",
      "[INFO][2024/01/08 03:50:02 PM] Loading objects/obj_type_1 (45688, 5) (45688 filtered: None)\n",
      "INFO:btrack.io.hdf:Loading objects/obj_type_1 (45688, 5) (45688 filtered: None)\n"
     ]
    },
    {
     "name": "stdout",
     "output_type": "stream",
     "text": [
      "[728, 760, 730, 726, 726, 728, 727, 719, 740, 2308, 728, 734, 860, 736, 972, 915, 730, 750, 747, 720, 727, 752, 725, 741, 736, 819, 743, 721, 927, 885, 713, 724, 745, 959, 744, 883, 710, 700, 696, 872, 706, 687, 682, 669, 680, 687, 683, 689, 679, 664, 668, 654, 646, 641, 652, 670, 649, 645, 634, 632, 644, 625, 615, 611, 670, 606, 582, 584, 591, 578, 542, 534, 548, 537, 550]\n"
     ]
    },
    {
     "name": "stderr",
     "output_type": "stream",
     "text": [
      "[INFO][2024/01/08 03:50:12 PM] Loading segmentation (75, 6048, 6048)\n",
      "INFO:btrack.io.hdf:Loading segmentation (75, 6048, 6048)\n",
      "[INFO][2024/01/08 03:50:12 PM] Closing HDF file: /mnt/DATA/macrohet/PS0000/labels/macrohet_seg_model/(6, 6).h5\n",
      "INFO:btrack.io.hdf:Closing HDF file: /mnt/DATA/macrohet/PS0000/labels/macrohet_seg_model/(6, 6).h5\n",
      "[INFO][2024/01/08 03:51:00 PM] Opening HDF file: /mnt/DATA/macrohet/PS0000/labels/macrohet_seg_model/(6, 7).h5...\n",
      "INFO:btrack.io.hdf:Opening HDF file: /mnt/DATA/macrohet/PS0000/labels/macrohet_seg_model/(6, 7).h5...\n",
      "[INFO][2024/01/08 03:51:00 PM] Loading tracks/obj_type_1\n",
      "INFO:btrack.io.hdf:Loading tracks/obj_type_1\n",
      "[INFO][2024/01/08 03:51:00 PM] Loading LBEP/obj_type_1\n",
      "INFO:btrack.io.hdf:Loading LBEP/obj_type_1\n",
      "[INFO][2024/01/08 03:51:00 PM] Loading objects/obj_type_1 (45214, 5) (45214 filtered: None)\n",
      "INFO:btrack.io.hdf:Loading objects/obj_type_1 (45214, 5) (45214 filtered: None)\n"
     ]
    },
    {
     "name": "stdout",
     "output_type": "stream",
     "text": [
      "[696, 720, 710, 708, 725, 728, 717, 732, 775, 756, 737, 747, 852, 732, 730, 732, 739, 733, 701, 727, 734, 731, 759, 718, 791, 744, 720, 696, 697, 688, 704, 692, 705, 700, 699, 685, 692, 676, 691, 689, 687, 676, 705, 674, 685, 677, 674, 669, 665, 652, 659, 705, 650, 652, 634, 650, 643, 634, 639, 630, 623, 613, 622, 621, 611, 666, 623, 613, 596, 598, 600, 600, 739, 588, 584]\n"
     ]
    },
    {
     "name": "stderr",
     "output_type": "stream",
     "text": [
      "[INFO][2024/01/08 03:51:09 PM] Loading segmentation (75, 6048, 6048)\n",
      "INFO:btrack.io.hdf:Loading segmentation (75, 6048, 6048)\n",
      "[INFO][2024/01/08 03:51:09 PM] Closing HDF file: /mnt/DATA/macrohet/PS0000/labels/macrohet_seg_model/(6, 7).h5\n",
      "INFO:btrack.io.hdf:Closing HDF file: /mnt/DATA/macrohet/PS0000/labels/macrohet_seg_model/(6, 7).h5\n",
      "[INFO][2024/01/08 03:51:58 PM] Opening HDF file: /mnt/DATA/macrohet/PS0000/labels/macrohet_seg_model/(6, 8).h5...\n",
      "INFO:btrack.io.hdf:Opening HDF file: /mnt/DATA/macrohet/PS0000/labels/macrohet_seg_model/(6, 8).h5...\n",
      "[INFO][2024/01/08 03:51:58 PM] Loading tracks/obj_type_1\n",
      "INFO:btrack.io.hdf:Loading tracks/obj_type_1\n",
      "[INFO][2024/01/08 03:51:58 PM] Loading LBEP/obj_type_1\n",
      "INFO:btrack.io.hdf:Loading LBEP/obj_type_1\n",
      "[INFO][2024/01/08 03:51:58 PM] Loading objects/obj_type_1 (46267, 5) (46267 filtered: None)\n",
      "INFO:btrack.io.hdf:Loading objects/obj_type_1 (46267, 5) (46267 filtered: None)\n"
     ]
    },
    {
     "name": "stdout",
     "output_type": "stream",
     "text": [
      "[674, 679, 671, 669, 693, 684, 734, 715, 720, 715, 726, 742, 741, 731, 716, 720, 708, 719, 705, 756, 711, 691, 699, 692, 697, 697, 690, 676, 683, 773, 678, 800, 677, 672, 685, 662, 668, 661, 647, 653, 659, 656, 652, 665, 672, 668, 655, 640, 641, 641, 646, 641, 971, 646, 638, 670, 670, 646, 642, 635, 634, 676, 635, 629, 638, 654, 627, 625, 639, 627, 643, 630, 614, 616, 633]\n"
     ]
    },
    {
     "name": "stderr",
     "output_type": "stream",
     "text": [
      "[INFO][2024/01/08 03:52:09 PM] Loading segmentation (75, 6048, 6048)\n",
      "INFO:btrack.io.hdf:Loading segmentation (75, 6048, 6048)\n",
      "[INFO][2024/01/08 03:52:09 PM] Closing HDF file: /mnt/DATA/macrohet/PS0000/labels/macrohet_seg_model/(6, 8).h5\n",
      "INFO:btrack.io.hdf:Closing HDF file: /mnt/DATA/macrohet/PS0000/labels/macrohet_seg_model/(6, 8).h5\n",
      "[INFO][2024/01/08 03:52:56 PM] Opening HDF file: /mnt/DATA/macrohet/PS0000/labels/macrohet_seg_model/(6, 9).h5...\n",
      "INFO:btrack.io.hdf:Opening HDF file: /mnt/DATA/macrohet/PS0000/labels/macrohet_seg_model/(6, 9).h5...\n",
      "[INFO][2024/01/08 03:52:56 PM] Loading tracks/obj_type_1\n",
      "INFO:btrack.io.hdf:Loading tracks/obj_type_1\n",
      "[INFO][2024/01/08 03:52:56 PM] Loading LBEP/obj_type_1\n",
      "INFO:btrack.io.hdf:Loading LBEP/obj_type_1\n",
      "[INFO][2024/01/08 03:52:56 PM] Loading objects/obj_type_1 (35615, 5) (35615 filtered: None)\n",
      "INFO:btrack.io.hdf:Loading objects/obj_type_1 (35615, 5) (35615 filtered: None)\n"
     ]
    },
    {
     "name": "stdout",
     "output_type": "stream",
     "text": [
      "[728, 731, 752, 754, 760, 756, 773, 744, 760, 941, 788, 790, 771, 775, 793, 777, 783, 782, 745, 747, 742, 759, 755, 787, 794, 744, 747, 739, 739, 1283, 724, 702, 753, 1019, 738, 708, 4013, 683, 1675, 1572, 673, 839, 687, 716, 678, 680, 654, 724, 669, 666, 639, 650, 644, 732, 631, 648, 634, 707, 1398, 632, 653, 658, 622, 1945, 1390, 633, 780, 938, 628, 701, 754, 618, 599, 819, 701]\n"
     ]
    },
    {
     "name": "stderr",
     "output_type": "stream",
     "text": [
      "[INFO][2024/01/08 03:53:06 PM] Loading segmentation (75, 6048, 6048)\n",
      "INFO:btrack.io.hdf:Loading segmentation (75, 6048, 6048)\n",
      "[INFO][2024/01/08 03:53:06 PM] Closing HDF file: /mnt/DATA/macrohet/PS0000/labels/macrohet_seg_model/(6, 9).h5\n",
      "INFO:btrack.io.hdf:Closing HDF file: /mnt/DATA/macrohet/PS0000/labels/macrohet_seg_model/(6, 9).h5\n"
     ]
    },
    {
     "name": "stdout",
     "output_type": "stream",
     "text": [
      "[636, 667, 668, 659, 683, 676, 680, 866, 680, 691, 710, 700, 725, 702, 702, 826, 702, 689, 666, 680, 693, 682, 659, 688, 684, 698, 660, 654, 681, 675, 661, 636, 634, 610, 620, 614, 598, 574, 557, 558, 539, 534, 519, 502, 523, 487, 487, 456, 438, 442, 430, 410, 400, 397, 383, 385, 380, 371, 351, 398, 336, 331, 321, 329, 323, 308, 300, 282, 283, 274, 273, 271, 279, 255, 274]\n"
     ]
    }
   ],
   "source": [
    "track_dict = {}\n",
    "# seg_dict = {}\n",
    "n_masks_per_frame_dict = {}\n",
    "for acq_ID, data in tqdm(assay_layout.iterrows(), total = len(assay_layout)):\n",
    "    row, column = acq_ID\n",
    "    \n",
    "    tracks_fn = os.path.join(base_dir, f'labels/macrohet_seg_model/{row, column}.h5')\n",
    "    with btrack.io.HDF5FileHandler(tracks_fn, 'r') as hdf:\n",
    "        tracks = hdf.tracks\n",
    "        segmentation = hdf.segmentation\n",
    "    track_dict[acq_ID] = tracks\n",
    "    # seg_dict[acq_ID] = segmentation\n",
    "    n_masks_per_frame = [np.max(label(segmentation[i])) for i in range(len(segmentation))]\n",
    "    print(n_masks_per_frame)\n",
    "    n_masks_per_frame_dict[acq_ID] = n_masks_per_frame\n"
   ]
  },
  {
   "cell_type": "code",
   "execution_count": 22,
   "id": "081e39d7-c7db-457d-a383-c27c3904039a",
   "metadata": {},
   "outputs": [
    {
     "data": {
      "text/plain": [
       "{(3, 4): [671,\n",
       "  648,\n",
       "  652,\n",
       "  646,\n",
       "  651,\n",
       "  657,\n",
       "  649,\n",
       "  666,\n",
       "  669,\n",
       "  652,\n",
       "  656,\n",
       "  651,\n",
       "  638,\n",
       "  640,\n",
       "  662,\n",
       "  669,\n",
       "  647,\n",
       "  633,\n",
       "  626,\n",
       "  648,\n",
       "  663,\n",
       "  642,\n",
       "  656,\n",
       "  645,\n",
       "  626,\n",
       "  611,\n",
       "  599,\n",
       "  609,\n",
       "  623,\n",
       "  612,\n",
       "  618,\n",
       "  610,\n",
       "  613,\n",
       "  617,\n",
       "  602,\n",
       "  592,\n",
       "  612,\n",
       "  586,\n",
       "  597,\n",
       "  600,\n",
       "  589,\n",
       "  578,\n",
       "  578,\n",
       "  596,\n",
       "  587,\n",
       "  590,\n",
       "  585,\n",
       "  582,\n",
       "  712,\n",
       "  562,\n",
       "  562,\n",
       "  546,\n",
       "  551,\n",
       "  554,\n",
       "  556,\n",
       "  555,\n",
       "  541,\n",
       "  555,\n",
       "  544,\n",
       "  571,\n",
       "  531,\n",
       "  539,\n",
       "  526,\n",
       "  565,\n",
       "  525,\n",
       "  529,\n",
       "  528,\n",
       "  531,\n",
       "  512,\n",
       "  643,\n",
       "  523,\n",
       "  517,\n",
       "  607,\n",
       "  508,\n",
       "  566],\n",
       " (3, 5): [670,\n",
       "  662,\n",
       "  650,\n",
       "  644,\n",
       "  639,\n",
       "  829,\n",
       "  648,\n",
       "  666,\n",
       "  627,\n",
       "  568,\n",
       "  657,\n",
       "  663,\n",
       "  822,\n",
       "  670,\n",
       "  664,\n",
       "  688,\n",
       "  667,\n",
       "  677,\n",
       "  671,\n",
       "  657,\n",
       "  677,\n",
       "  666,\n",
       "  652,\n",
       "  646,\n",
       "  654,\n",
       "  653,\n",
       "  662,\n",
       "  655,\n",
       "  655,\n",
       "  647,\n",
       "  829,\n",
       "  644,\n",
       "  632,\n",
       "  634,\n",
       "  680,\n",
       "  638,\n",
       "  641,\n",
       "  601,\n",
       "  627,\n",
       "  630,\n",
       "  600,\n",
       "  623,\n",
       "  623,\n",
       "  613,\n",
       "  605,\n",
       "  607,\n",
       "  625,\n",
       "  589,\n",
       "  590,\n",
       "  584,\n",
       "  594,\n",
       "  582,\n",
       "  574,\n",
       "  585,\n",
       "  584,\n",
       "  578,\n",
       "  570,\n",
       "  561,\n",
       "  561,\n",
       "  568,\n",
       "  545,\n",
       "  559,\n",
       "  550,\n",
       "  535,\n",
       "  572,\n",
       "  536,\n",
       "  528,\n",
       "  516,\n",
       "  518,\n",
       "  513,\n",
       "  508,\n",
       "  508,\n",
       "  503,\n",
       "  497,\n",
       "  507]}"
      ]
     },
     "execution_count": 22,
     "metadata": {},
     "output_type": "execute_result"
    }
   ],
   "source": [
    "n_masks_per_frame_dict"
   ]
  },
  {
   "cell_type": "code",
   "execution_count": 23,
   "id": "bb71fffb-aa4d-449a-8477-6fe8006357fa",
   "metadata": {},
   "outputs": [
    {
     "data": {
      "application/vnd.jupyter.widget-view+json": {
       "model_id": "708ee6743cbf4dedb0ff17b3e0063d1f",
       "version_major": 2,
       "version_minor": 0
      },
      "text/plain": [
       "  0%|          | 0/2 [00:00<?, ?it/s]"
      ]
     },
     "metadata": {},
     "output_type": "display_data"
    },
    {
     "data": {
      "image/png": "[encoded data removed]",
      "text/plain": [
       "<Figure size 1500x500 with 1 Axes>"
      ]
     },
     "metadata": {},
     "output_type": "display_data"
    },
    {
     "data": {
      "image/png": "[encoded data removed]",
      "text/plain": [
       "<Figure size 1500x500 with 1 Axes>"
      ]
     },
     "metadata": {},
     "output_type": "display_data"
    }
   ],
   "source": [
    "for acq_ID in tqdm(n_masks_per_frame_dict.keys(), total=len(n_masks_per_frame_dict)):\n",
    "    \n",
    "    plt.figure(figsize=(15, 5))  \n",
    "    n_masks_per_frame = n_masks_per_frame_dict[acq_ID]\n",
    "    \n",
    "    # Smooth the data using a Savitzky-Golay filter\n",
    "    window_length = 15  # Adjust the window length as needed\n",
    "    smoothed_data = savgol_filter(n_masks_per_frame, window_length, 2)  # The '2' is the order of the smoothing\n",
    "    \n",
    "    # Plot the original data\n",
    "    plt.plot(n_masks_per_frame, label=f'Original Data {acq_ID}')\n",
    "    \n",
    "    # Plot the smoothed data on top\n",
    "    plt.plot(smoothed_data, label=f'Smoothed Data {acq_ID}', linestyle='--')\n",
    "\n",
    "    # Specify the locations of vertical grid lines\n",
    "    x_values = range(len(n_masks_per_frame))\n",
    "    plt.xticks(x_values, rotation=90)  # Rotate x-labels by 90 degrees\n",
    "    \n",
    "    # Add grid lines\n",
    "    plt.grid()\n",
    "    \n",
    "    # Add a legend to differentiate between the original and smoothed data\n",
    "    plt.legend()\n",
    "    \n",
    "    # Show the plot\n",
    "    plt.show()"
   ]
  },
  {
   "cell_type": "code",
   "execution_count": 16,
   "id": "780f4b4c-a528-4b50-9c74-ee5e69b5d99f",
   "metadata": {},
   "outputs": [
    {
     "data": {
      "text/plain": [
       "615"
      ]
     },
     "execution_count": 16,
     "metadata": {},
     "output_type": "execute_result"
    }
   ],
   "source": [
    "len([t for t in tracks if t.in_frame(0)])"
   ]
  },
  {
   "cell_type": "code",
   "execution_count": 17,
   "id": "caf30fd1-379b-4081-b164-d18b16204617",
   "metadata": {},
   "outputs": [
    {
     "ename": "SyntaxError",
     "evalue": "invalid syntax (4042111915.py, line 1)",
     "output_type": "error",
     "traceback": [
      "\u001b[0;31m---------------------------------------------------------------------------\u001b[0m",
      "\u001b[0;31mSyntaxError\u001b[0m                               Traceback (most recent call last)",
      "File \u001b[0;32m~/miniconda3/envs/brassica/lib/python3.9/site-packages/IPython/core/compilerop.py:86\u001b[0m, in \u001b[0;36mCachingCompiler.ast_parse\u001b[0;34m(self, source, filename, symbol)\u001b[0m\n\u001b[1;32m     81\u001b[0m \u001b[38;5;28;01mdef\u001b[39;00m \u001b[38;5;21mast_parse\u001b[39m(\u001b[38;5;28mself\u001b[39m, source, filename\u001b[38;5;241m=\u001b[39m\u001b[38;5;124m'\u001b[39m\u001b[38;5;124m<unknown>\u001b[39m\u001b[38;5;124m'\u001b[39m, symbol\u001b[38;5;241m=\u001b[39m\u001b[38;5;124m'\u001b[39m\u001b[38;5;124mexec\u001b[39m\u001b[38;5;124m'\u001b[39m):\n\u001b[1;32m     82\u001b[0m \u001b[38;5;250m    \u001b[39m\u001b[38;5;124;03m\"\"\"Parse code to an AST with the current compiler flags active.\u001b[39;00m\n\u001b[1;32m     83\u001b[0m \n\u001b[1;32m     84\u001b[0m \u001b[38;5;124;03m    Arguments are exactly the same as ast.parse (in the standard library),\u001b[39;00m\n\u001b[1;32m     85\u001b[0m \u001b[38;5;124;03m    and are passed to the built-in compile function.\"\"\"\u001b[39;00m\n\u001b[0;32m---> 86\u001b[0m     \u001b[38;5;28;01mreturn\u001b[39;00m \u001b[38;5;28;43mcompile\u001b[39;49m\u001b[43m(\u001b[49m\u001b[43msource\u001b[49m\u001b[43m,\u001b[49m\u001b[43m \u001b[49m\u001b[43mfilename\u001b[49m\u001b[43m,\u001b[49m\u001b[43m \u001b[49m\u001b[43msymbol\u001b[49m\u001b[43m,\u001b[49m\u001b[43m \u001b[49m\u001b[38;5;28;43mself\u001b[39;49m\u001b[38;5;241;43m.\u001b[39;49m\u001b[43mflags\u001b[49m\u001b[43m \u001b[49m\u001b[38;5;241;43m|\u001b[39;49m\u001b[43m \u001b[49m\u001b[43mPyCF_ONLY_AST\u001b[49m\u001b[43m,\u001b[49m\u001b[43m \u001b[49m\u001b[38;5;241;43m1\u001b[39;49m\u001b[43m)\u001b[49m\n",
      "\u001b[0;31mSyntaxError\u001b[0m: invalid syntax (4042111915.py, line 1)"
     ]
    }
   ],
   "source": [
    "test = "
   ]
  },
  {
   "cell_type": "code",
   "execution_count": null,
   "id": "dca01ed2-28ea-46c9-873e-ddc09edac87b",
   "metadata": {},
   "outputs": [],
   "source": [
    "# Smooth the data using a Savitzky-Golay filter\n",
    "window_length = 15  # Adjust the window length as needed\n",
    "smoothed_data = savgol_filter(n_masks_per_frame, window_length, 2)  # The '2' is the order of the smoothing\n",
    "\n",
    "# Set the figure size\n",
    "plt.figure(figsize=(15, 5))  # Adjust the width (10) and height (5) as needed\n",
    "\n",
    "# Plot the original data\n",
    "plt.plot(n_masks_per_frame, label='Original Data')\n",
    "\n",
    "# Plot the smoothed data on top\n",
    "plt.plot(smoothed_data, label='Smoothed Data', linestyle='--')\n",
    "\n",
    "# Specify the locations of vertical grid lines\n",
    "x_values = range(len(n_masks_per_frame))\n",
    "plt.xticks(x_values, rotation=90)  # Rotate x-labels by 90 degrees\n",
    "\n",
    "# Add grid lines\n",
    "plt.grid()\n",
    "\n",
    "# Add a legend to differentiate between the original and smoothed data\n",
    "plt.legend()\n",
    "\n",
    "# Show the plot\n",
    "plt.show()"
   ]
  },
  {
   "cell_type": "code",
   "execution_count": 76,
   "id": "adf86133-d7d7-4216-b673-565649b732ef",
   "metadata": {},
   "outputs": [
    {
     "data": {
      "image/png": "[encoded data removed]",
      "text/plain": [
       "<Figure size 1500x500 with 1 Axes>"
      ]
     },
     "metadata": {},
     "output_type": "display_data"
    }
   ],
   "source": [
    "# Smooth the data using a Savitzky-Golay filter\n",
    "window_length = 15  # Adjust the window length as needed\n",
    "smoothed_data = savgol_filter(n_masks_per_frame, window_length, 2)  # The '2' is the order of the smoothing\n",
    "\n",
    "# Set the figure size\n",
    "plt.figure(figsize=(15, 5))  # Adjust the width (10) and height (5) as needed\n",
    "\n",
    "# Plot the original data\n",
    "plt.plot(n_masks_per_frame, label='Original Data')\n",
    "\n",
    "# Plot the smoothed data on top\n",
    "plt.plot(smoothed_data, label='Smoothed Data', linestyle='--')\n",
    "\n",
    "# Specify the locations of vertical grid lines\n",
    "x_values = range(len(n_masks_per_frame))\n",
    "plt.xticks(x_values, rotation=90)  # Rotate x-labels by 90 degrees\n",
    "\n",
    "# Add grid lines\n",
    "plt.grid()\n",
    "\n",
    "# Add a legend to differentiate between the original and smoothed data\n",
    "plt.legend()\n",
    "\n",
    "# Show the plot\n",
    "plt.show()"
   ]
  },
  {
   "cell_type": "code",
   "execution_count": 12,
   "id": "fd1c5c33-4269-4dd3-afa3-a4ec5bc28829",
   "metadata": {},
   "outputs": [],
   "source": [
    "import json\n",
    "dict_fn = f'/mnt/DATA/macrohet/{expt_ID}/upstream_development/tracking/tracking_performance/v1>70/{row},{column}/{acq_ID}_track_assessment.json'\n",
    "with open(dict_fn) as json_data:\n",
    "    track_dict = json.load(json_data)\n",
    "true_IDs = [int(ID) for ID in track_dict.keys() if track_dict[ID] == True]\n",
    "true_tracks = [t for t in tracks if t.ID in true_IDs]\n",
    "napari_true_tracks, properties, graph = btrack.utils.tracks_to_napari(true_tracks, ndim=2)"
   ]
  },
  {
   "cell_type": "markdown",
   "id": "ade31bfa",
   "metadata": {},
   "source": [
    "### Recolour tracks"
   ]
  },
  {
   "cell_type": "code",
   "execution_count": 13,
   "id": "db8d9444",
   "metadata": {},
   "outputs": [],
   "source": [
    "col_segmentation = btrack.utils.update_segmentation(segmentation, true_tracks, scale = (5.04, 5.04))"
   ]
  },
  {
   "cell_type": "markdown",
   "id": "52971987",
   "metadata": {},
   "source": [
    "# Launch napari image viewer"
   ]
  },
  {
   "cell_type": "code",
   "execution_count": 14,
   "id": "6818a45d",
   "metadata": {},
   "outputs": [
    {
     "data": {
      "text/plain": [
       "<Tracks layer 'napari_true_tracks' at 0x7fb5632619d0>"
      ]
     },
     "execution_count": 14,
     "metadata": {},
     "output_type": "execute_result"
    }
   ],
   "source": [
    "# # %time\n",
    "# viewer = napari.Viewer(title = f'{row, column}')\n",
    "\n",
    "# viewer.add_image(images, \n",
    "#                  channel_axis=1,\n",
    "#                  name=[\"macrophage\", \"mtb\"],\n",
    "#                  colormap=[\"green\",  \"magenta\"],\n",
    "# #                  contrast_limits=[[100, 6000], [100, 2000]],\n",
    "#                  contrast_limits=[[0,450], [0,450]], \n",
    "#                  visible = True\n",
    "#                  )\n",
    "# viewer.add_image(images, \n",
    "#                  channel_axis=1,\n",
    "#                  name=[\"macrophage\", \"mtb\"],\n",
    "#                  colormap=[\"green\",  \"magenta\"],\n",
    "# #                  contrast_limits=[[100, 6000], [100, 2000]],\n",
    "# #                  contrast_limits=[[0,450], [0,450]], \n",
    "#                  visible = True\n",
    "#                  )\n",
    "viewer.add_labels(segmentation, \n",
    "#                   num_colors= 1,\n",
    "                  #scale=(10, 1, 1,), \n",
    "                  #color='yellow'\n",
    "                  name = 'segmentation'\n",
    "                 )\n",
    "# viewer.add_labels(col_segmentation, \n",
    "#                   name = 'recolored segmentation'\n",
    "#                   #scale=(10, 1, 1,), \n",
    "#                   #color='yellow'\n",
    "#                  )\n",
    "# viewer.add_tracks(napari_tracks, scale = (1,5.04,5.04)\n",
    "# #                     properties=properties, \n",
    "# #                     graph=graph, \n",
    "# #                     name=\"Properly downscaled tracks\", \n",
    "# #                     blending=\"translucent\",\n",
    "# #                     visible=True,\n",
    "# # #                     scale = (100,1,1)\n",
    "#                  )\n",
    "viewer.add_tracks(napari_true_tracks, scale = (1,5.04,5.04),\n",
    "#                     properties=properties, \n",
    "#                     graph=graph, \n",
    "#                     name=\"Properly downscaled tracks\", \n",
    "#                     blending=\"translucent\",\n",
    "#                     visible=True,\n",
    "# #                     scale = (100,1,1)\n",
    "                 )"
   ]
  },
  {
   "cell_type": "code",
   "execution_count": 26,
   "id": "f34cc29d",
   "metadata": {},
   "outputs": [
    {
     "data": {
      "text/plain": [
       "<Points layer 'cell 507 [1]' at 0x7f7586e5af10>"
      ]
     },
     "execution_count": 26,
     "metadata": {},
     "output_type": "execute_result"
    }
   ],
   "source": [
    "visualise.highlight_cell(507, viewer, tracks)"
   ]
  },
  {
   "cell_type": "code",
   "execution_count": 17,
   "id": "79176449-b11a-42fa-83d9-9cbde1a6daee",
   "metadata": {},
   "outputs": [],
   "source": [
    "sd_2_75 = ['444.3.5',\n",
    " '530.3.5',\n",
    " '542.3.5',\n",
    " '552.3.5',\n",
    " '602.3.5',\n",
    " '1118.3.5',\n",
    " '1129.3.5',\n",
    " '628.3.5',\n",
    " '642.3.5',\n",
    " '131.3.5',\n",
    " '204.3.5',\n",
    " '1356.3.5',\n",
    " '344.3.5',\n",
    " '410.3.5',\n",
    " '461.3.5',\n",
    " '997.3.5',\n",
    " '493.3.5']\n",
    "\n",
    "sd_2_5 = ['218.3.5',\n",
    " '44.3.5',\n",
    " '444.3.5',\n",
    " '447.3.5',\n",
    " '507.3.5',\n",
    " '51.3.5',\n",
    " '530.3.5',\n",
    " '542.3.5',\n",
    " '552.3.5',\n",
    " '602.3.5',\n",
    " '64.3.5',\n",
    " '585.3.5',\n",
    " '1611.3.5',\n",
    " '89.3.5',\n",
    " '1118.3.5',\n",
    " '1129.3.5',\n",
    " '628.3.5',\n",
    " '642.3.5',\n",
    " '131.3.5',\n",
    " '204.3.5',\n",
    " '1356.3.5',\n",
    " '344.3.5',\n",
    " '410.3.5',\n",
    " '461.3.5',\n",
    " '997.3.5',\n",
    " '493.3.5']\n",
    "\n",
    "sd_3 = ['444.3.5',\n",
    " '530.3.5',\n",
    " '542.3.5',\n",
    " '552.3.5',\n",
    " '1118.3.5',\n",
    " '1129.3.5',\n",
    " '628.3.5',\n",
    " '642.3.5',\n",
    " '131.3.5',\n",
    " '204.3.5',\n",
    " '1356.3.5',\n",
    " '344.3.5',\n",
    " '461.3.5',\n",
    " '997.3.5',\n",
    " '493.3.5']"
   ]
  },
  {
   "cell_type": "code",
   "execution_count": 38,
   "id": "89a523d3-5f66-4975-9b27-96a072a647bb",
   "metadata": {},
   "outputs": [
    {
     "data": {
      "text/plain": [
       "{'1611.3.5',\n",
       " '218.3.5',\n",
       " '410.3.5',\n",
       " '44.3.5',\n",
       " '447.3.5',\n",
       " '507.3.5',\n",
       " '51.3.5',\n",
       " '585.3.5',\n",
       " '602.3.5',\n",
       " '64.3.5',\n",
       " '89.3.5'}"
      ]
     },
     "execution_count": 38,
     "metadata": {},
     "output_type": "execute_result"
    }
   ],
   "source": [
    "set(sd_2_5) - set(sd_3)"
   ]
  },
  {
   "cell_type": "code",
   "execution_count": 19,
   "id": "1bd448c9-ce45-43d3-af9a-2e719a3a2d10",
   "metadata": {},
   "outputs": [
    {
     "data": {
      "text/plain": [
       "11.76470588235294"
      ]
     },
     "execution_count": 19,
     "metadata": {},
     "output_type": "execute_result"
    }
   ],
   "source": [
    "2/len(sd_2_75)*100"
   ]
  },
  {
   "cell_type": "code",
   "execution_count": 16,
   "id": "b94023af-d65a-4b7c-93a1-73a0e62dc026",
   "metadata": {},
   "outputs": [],
   "source": [
    "for ID in ['444.3.5',\n",
    " '530.3.5',\n",
    " '542.3.5',\n",
    " '552.3.5',\n",
    " '602.3.5', # think it probably is death, but not evidently \n",
    " '1118.3.5',\n",
    " '1129.3.5', # false, last min ID switch\n",
    " '628.3.5', # false, looses track\n",
    " '642.3.5',\n",
    " '131.3.5',\n",
    " '204.3.5',\n",
    " '1356.3.5',\n",
    " '344.3.5',\n",
    " '410.3.5',\n",
    " '461.3.5',\n",
    " '997.3.5',\n",
    " '493.3.5']:\n",
    "    visualise.highlight_cell(int(ID.split('.')[0]), viewer, tracks)"
   ]
  },
  {
   "cell_type": "markdown",
   "id": "df259146-05c8-441a-b307-b9c7f26a356b",
   "metadata": {},
   "source": [
    "# Shall I train CNN on isolated cell death examples?\n",
    "\n",
    "surely this would require perfect tracks? what if i use TAP? "
   ]
  },
  {
   "cell_type": "code",
   "execution_count": 22,
   "id": "5ee51242-d7f8-4ee2-a81a-52c7f2f1d642",
   "metadata": {},
   "outputs": [
    {
     "data": {
      "text/plain": [
       "<Shapes layer 'grid_lines [1]' at 0x7fb54038c0a0>"
      ]
     },
     "execution_count": 22,
     "metadata": {},
     "output_type": "execute_result"
    }
   ],
   "source": [
    "# first try and understand how many cell deaths are caught by my janky catch 'all'\n",
    "visualise.add_napari_grid_overlay(viewer, N_rows_cols=5)"
   ]
  },
  {
   "cell_type": "code",
   "execution_count": 28,
   "id": "f2677058-f966-4c33-be0c-6de4585c5e07",
   "metadata": {},
   "outputs": [
    {
     "data": {
      "text/plain": [
       "70.83333333333334"
      ]
     },
     "execution_count": 28,
     "metadata": {},
     "output_type": "execute_result"
    }
   ],
   "source": [
    "#IDs not caught by my definition@\n",
    "\n",
    "missed_deaths = [432, \n",
    "                 431, 354, 397, 426, 424, 1308, 384, 1611, 473, 491, 3179, 486, 515, 15, 34, 119, 112, 26, 110, 144, 252, 286, 107]\n",
    "len(sd_2_75)/len(missed_deaths)*100"
   ]
  },
  {
   "cell_type": "code",
   "execution_count": 31,
   "id": "6e176b53-2fe4-408f-8064-c1bffa5c9f1d",
   "metadata": {},
   "outputs": [],
   "source": [
    "death_cells = missed_deaths + [int(ID.split('.')[0]) for ID in ['444.3.5',\n",
    " '530.3.5',\n",
    " '542.3.5',\n",
    " '552.3.5',\n",
    " '1118.3.5',\n",
    "'642.3.5',\n",
    " '131.3.5',\n",
    " '204.3.5',\n",
    " '1356.3.5',\n",
    " '344.3.5',\n",
    " '410.3.5',\n",
    " '461.3.5',\n",
    " '997.3.5',\n",
    " '493.3.5']]"
   ]
  },
  {
   "cell_type": "code",
   "execution_count": 32,
   "id": "45f422bb-e7db-4fc4-8ffd-8acdd69a3e1f",
   "metadata": {},
   "outputs": [
    {
     "data": {
      "text/plain": [
       "[432,\n",
       " 431,\n",
       " 354,\n",
       " 397,\n",
       " 426,\n",
       " 424,\n",
       " 1308,\n",
       " 384,\n",
       " 1611,\n",
       " 473,\n",
       " 491,\n",
       " 3179,\n",
       " 486,\n",
       " 515,\n",
       " 15,\n",
       " 34,\n",
       " 119,\n",
       " 112,\n",
       " 26,\n",
       " 110,\n",
       " 144,\n",
       " 252,\n",
       " 286,\n",
       " 107,\n",
       " 444,\n",
       " 530,\n",
       " 542,\n",
       " 552,\n",
       " 1118,\n",
       " 642,\n",
       " 131,\n",
       " 204,\n",
       " 1356,\n",
       " 344,\n",
       " 410,\n",
       " 461,\n",
       " 997,\n",
       " 493]"
      ]
     },
     "execution_count": 32,
     "metadata": {},
     "output_type": "execute_result"
    }
   ],
   "source": [
    "death_cells"
   ]
  },
  {
   "cell_type": "code",
   "execution_count": 33,
   "id": "18b24ff3-c953-4915-88b5-3f09a442b3f8",
   "metadata": {},
   "outputs": [],
   "source": [
    "for ID in death_cells:\n",
    "    visualise.highlight_cell(ID, viewer, tracks)"
   ]
  },
  {
   "cell_type": "code",
   "execution_count": 45,
   "id": "7fdb7f27-1daf-4e13-ae17-d23acb92c3ac",
   "metadata": {},
   "outputs": [
    {
     "data": {
      "text/plain": [
       "<Points layer 'cell 441' at 0x7fb52a24a070>"
      ]
     },
     "execution_count": 45,
     "metadata": {},
     "output_type": "execute_result"
    }
   ],
   "source": [
    "visualise.highlight_cell(441, viewer, tracks)"
   ]
  },
  {
   "cell_type": "markdown",
   "id": "40b6624c-05e3-4507-9ea3-71e8b3126378",
   "metadata": {},
   "source": [
    "# Isolating efferoctyoses\n",
    "\n",
    "from whole list of tracks"
   ]
  },
  {
   "cell_type": "code",
   "execution_count": 47,
   "id": "5ae799db-4801-4690-9f02-095e1f6d29ac",
   "metadata": {},
   "outputs": [
    {
     "data": {
      "text/plain": [
       "2420"
      ]
     },
     "execution_count": 47,
     "metadata": {},
     "output_type": "execute_result"
    }
   ],
   "source": [
    "len(tracks)"
   ]
  },
  {
   "cell_type": "code",
   "execution_count": 71,
   "id": "30956aca-9a9f-406d-96ab-4f6ac08bb0ca",
   "metadata": {},
   "outputs": [],
   "source": [
    "import matplotlib.pyplot as plt\n",
    "from skimage.measure import label\n",
    "import numpy as np\n",
    "\n",
    "import matplotlib.pyplot as plt\n",
    "import numpy as np\n",
    "from scipy.signal import savgol_filter"
   ]
  },
  {
   "cell_type": "code",
   "execution_count": 58,
   "id": "37785f25-761b-4703-812d-c5938d87a3c1",
   "metadata": {},
   "outputs": [
    {
     "data": {
      "text/plain": [
       "670"
      ]
     },
     "execution_count": 58,
     "metadata": {},
     "output_type": "execute_result"
    }
   ],
   "source": [
    "np.max(label(segmentation[0]))"
   ]
  },
  {
   "cell_type": "code",
   "execution_count": 61,
   "id": "1691a969-b441-41bb-9c2d-8c49f7fcaa77",
   "metadata": {},
   "outputs": [],
   "source": [
    "n_masks_per_frame = [np.max(label(segmentation[i])) for i in range(len(segmentation))]"
   ]
  },
  {
   "cell_type": "code",
   "execution_count": 76,
   "id": "b88e68a2-4109-4205-9497-6c29ea5ac4d3",
   "metadata": {},
   "outputs": [
    {
     "data": {
      "image/png": "[encoded data removed]",
      "text/plain": [
       "<Figure size 1500x500 with 1 Axes>"
      ]
     },
     "metadata": {},
     "output_type": "display_data"
    }
   ],
   "source": [
    "# Smooth the data using a Savitzky-Golay filter\n",
    "window_length = 15  # Adjust the window length as needed\n",
    "smoothed_data = savgol_filter(n_masks_per_frame, window_length, 2)  # The '2' is the order of the smoothing\n",
    "\n",
    "# Set the figure size\n",
    "plt.figure(figsize=(15, 5))  # Adjust the width (10) and height (5) as needed\n",
    "\n",
    "# Plot the original data\n",
    "plt.plot(n_masks_per_frame, label='Original Data')\n",
    "\n",
    "# Plot the smoothed data on top\n",
    "plt.plot(smoothed_data, label='Smoothed Data', linestyle='--')\n",
    "\n",
    "# Specify the locations of vertical grid lines\n",
    "x_values = range(len(n_masks_per_frame))\n",
    "plt.xticks(x_values, rotation=90)  # Rotate x-labels by 90 degrees\n",
    "\n",
    "# Add grid lines\n",
    "plt.grid()\n",
    "\n",
    "# Add a legend to differentiate between the original and smoothed data\n",
    "plt.legend()\n",
    "\n",
    "# Show the plot\n",
    "plt.show()"
   ]
  },
  {
   "cell_type": "code",
   "execution_count": 52,
   "id": "acbe008b-7155-4057-ac13-23fc9c768cea",
   "metadata": {},
   "outputs": [
    {
     "data": {
      "text/plain": [
       "(array([832., 244., 199., 117.,  68.,  70.,  86.,  66.,  69.,  49.]),\n",
       " array([ 1. ,  3.8,  6.6,  9.4, 12.2, 15. , 17.8, 20.6, 23.4, 26.2, 29. ]),\n",
       " <BarContainer object of 10 artists>)"
      ]
     },
     "execution_count": 52,
     "metadata": {},
     "output_type": "execute_result"
    },
    {
     "data": {
      "image/png": "[encoded data removed]",
      "text/plain": [
       "<Figure size 640x480 with 1 Axes>"
      ]
     },
     "metadata": {},
     "output_type": "display_data"
    }
   ],
   "source": [
    "plt.hist([len(t) for t in tracks if len(t) <30])"
   ]
  },
  {
   "cell_type": "code",
   "execution_count": 49,
   "id": "95824e02-83ca-4749-ab1f-fdee7b2b1e3a",
   "metadata": {},
   "outputs": [],
   "source": [
    "# broadly speaking efferocytotic tracks will not last the whole time lapse... \n",
    "# also they will need at least 3 frame to guarantee merging\n",
    "# and i want them to be at least 10 frames long as it looks like \n",
    "poss_eff_tracks = [t for t in tracks if len(t) <= 71]"
   ]
  },
  {
   "cell_type": "code",
   "execution_count": 50,
   "id": "972e6486-e8ca-487c-a05c-824d074f6f22",
   "metadata": {},
   "outputs": [
    {
     "data": {
      "text/plain": [
       "2221"
      ]
     },
     "execution_count": 50,
     "metadata": {},
     "output_type": "execute_result"
    }
   ],
   "source": [
    "len(poss_eff_tracks)"
   ]
  }
 ],
 "metadata": {
  "kernelspec": {
   "display_name": "brassica",
   "language": "python",
   "name": "brassica"
  },
  "language_info": {
   "codemirror_mode": {
    "name": "ipython",
    "version": 3
   },
   "file_extension": ".py",
   "mimetype": "text/x-python",
   "name": "python",
   "nbconvert_exporter": "python",
   "pygments_lexer": "ipython3",
   "version": "3.9.17"
  }
 },
 "nbformat": 4,
 "nbformat_minor": 5
}
