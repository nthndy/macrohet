{
 "cells": [
  {
   "cell_type": "code",
   "execution_count": 1,
   "id": "faf75eb2",
   "metadata": {},
   "outputs": [
    {
     "ename": "ModuleNotFoundError",
     "evalue": "No module named 'lxml'",
     "output_type": "error",
     "traceback": [
      "\u001b[0;31m---------------------------------------------------------------------------\u001b[0m",
      "\u001b[0;31mModuleNotFoundError\u001b[0m                       Traceback (most recent call last)",
      "Cell \u001b[0;32mIn[1], line 5\u001b[0m\n\u001b[1;32m      3\u001b[0m \u001b[38;5;28;01mimport\u001b[39;00m \u001b[38;5;21;01mmatplotlib\u001b[39;00m\u001b[38;5;21;01m.\u001b[39;00m\u001b[38;5;21;01mpyplot\u001b[39;00m \u001b[38;5;28;01mas\u001b[39;00m \u001b[38;5;21;01mplt\u001b[39;00m\n\u001b[1;32m      4\u001b[0m \u001b[38;5;28;01mimport\u001b[39;00m \u001b[38;5;21;01mnumpy\u001b[39;00m \u001b[38;5;28;01mas\u001b[39;00m \u001b[38;5;21;01mnp\u001b[39;00m\n\u001b[0;32m----> 5\u001b[0m \u001b[38;5;28;01mfrom\u001b[39;00m \u001b[38;5;21;01mmacrohet\u001b[39;00m \u001b[38;5;28;01mimport\u001b[39;00m visualise, dataio, tile\n\u001b[1;32m      6\u001b[0m \u001b[38;5;28;01mfrom\u001b[39;00m \u001b[38;5;21;01mtqdm\u001b[39;00m\u001b[38;5;21;01m.\u001b[39;00m\u001b[38;5;21;01mauto\u001b[39;00m \u001b[38;5;28;01mimport\u001b[39;00m tqdm\n\u001b[1;32m      7\u001b[0m \u001b[38;5;28;01mimport\u001b[39;00m \u001b[38;5;21;01mos\u001b[39;00m\n",
      "File \u001b[0;32m~/analysis/macrohet/macrohet/visualise.py:14\u001b[0m\n\u001b[1;32m     11\u001b[0m \u001b[38;5;28;01mfrom\u001b[39;00m \u001b[38;5;21;01mskimage\u001b[39;00m\u001b[38;5;21;01m.\u001b[39;00m\u001b[38;5;21;01mtransform\u001b[39;00m \u001b[38;5;28;01mimport\u001b[39;00m downscale_local_mean, resize\n\u001b[1;32m     12\u001b[0m \u001b[38;5;28;01mfrom\u001b[39;00m \u001b[38;5;21;01mtqdm\u001b[39;00m\u001b[38;5;21;01m.\u001b[39;00m\u001b[38;5;21;01mauto\u001b[39;00m \u001b[38;5;28;01mimport\u001b[39;00m tqdm\n\u001b[0;32m---> 14\u001b[0m \u001b[38;5;28;01mfrom\u001b[39;00m \u001b[38;5;21;01mmacrohet\u001b[39;00m \u001b[38;5;28;01mimport\u001b[39;00m dataio, tile\n\u001b[1;32m     16\u001b[0m \u001b[38;5;28;01mfrom\u001b[39;00m \u001b[38;5;21;01m.\u001b[39;00m\u001b[38;5;21;01mcolours\u001b[39;00m \u001b[38;5;28;01mimport\u001b[39;00m custom_colours\n\u001b[1;32m     18\u001b[0m \u001b[38;5;66;03m# default scale value taken from harmony metadata\u001b[39;00m\n",
      "File \u001b[0;32m~/analysis/macrohet/macrohet/dataio.py:7\u001b[0m\n\u001b[1;32m      5\u001b[0m \u001b[38;5;28;01mimport\u001b[39;00m \u001b[38;5;21;01mnumpy\u001b[39;00m \u001b[38;5;28;01mas\u001b[39;00m \u001b[38;5;21;01mnp\u001b[39;00m\n\u001b[1;32m      6\u001b[0m \u001b[38;5;28;01mimport\u001b[39;00m \u001b[38;5;21;01mpandas\u001b[39;00m \u001b[38;5;28;01mas\u001b[39;00m \u001b[38;5;21;01mpd\u001b[39;00m\n\u001b[0;32m----> 7\u001b[0m \u001b[38;5;28;01mfrom\u001b[39;00m \u001b[38;5;21;01mlxml\u001b[39;00m \u001b[38;5;28;01mimport\u001b[39;00m etree \u001b[38;5;28;01mas\u001b[39;00m ET_iter\n\u001b[1;32m      8\u001b[0m \u001b[38;5;28;01mfrom\u001b[39;00m \u001b[38;5;21;01mtqdm\u001b[39;00m\u001b[38;5;21;01m.\u001b[39;00m\u001b[38;5;21;01mauto\u001b[39;00m \u001b[38;5;28;01mimport\u001b[39;00m tqdm\n\u001b[1;32m     11\u001b[0m \u001b[38;5;28;01mdef\u001b[39;00m \u001b[38;5;21mget_folder_size\u001b[39m(folder):\n",
      "\u001b[0;31mModuleNotFoundError\u001b[0m: No module named 'lxml'"
     ]
    }
   ],
   "source": [
    "import pandas as pd\n",
    "import seaborn as sns\n",
    "import matplotlib.pyplot as plt\n",
    "import numpy as np\n",
    "from macrohet import visualise, dataio, tile\n",
    "from tqdm.auto import tqdm\n",
    "import os\n",
    "import btrack\n",
    "import json\n",
    "import napari\n",
    "import matplotlib as mpl\n",
    "import matplotlib.patches as patches\n",
    "import pickle\n",
    "import glob\n",
    "import matplotlib as mpl\n",
    "import matplotlib.patches as patches\n",
    "import matplotlib.pyplot as plt\n",
    "import subprocess\n",
    "from scipy.interpolate import UnivariateSpline\n",
    "import glob\n",
    "scale_factor = 6048/1200\n",
    "\n",
    "# Function to calculate gradient for a window\n",
    "def calculate_gradient(window):\n",
    "    y = window\n",
    "    x = np.arange(len(window))\n",
    "    slope, _ = np.polyfit(x, y, 1)\n",
    "    return slope\n",
    "\n",
    "def find_doubling_points(time_values, mtb_values, min_mtb_value):\n",
    "    # Check if any value doubles within the series\n",
    "    for i in range(len(mtb_values)):\n",
    "        q1 = mtb_values[i]\n",
    "        t1 = time_values[i]\n",
    "        \n",
    "        # Skip if the mtb value is below the minimum threshold\n",
    "        if q1 < min_mtb_value:\n",
    "            continue\n",
    "        \n",
    "        for j in range(i + 1, len(mtb_values)):\n",
    "            q2 = mtb_values[j]\n",
    "            t2 = time_values[j]\n",
    "            \n",
    "            # Check if q2 is at least double q1\n",
    "            if q2 >= 2 * q1:\n",
    "                return t1, t2, q1, q2\n",
    "    return None, None, None, None  # If no doubling is found\n",
    "\n",
    "def create_video_from_frames(input_folder, output_video, fps=5):\n",
    "    # Ensure the input folder path ends with a slash\n",
    "    if not input_folder.endswith('/'):\n",
    "        input_folder += '/'\n",
    "\n",
    "    # Check if there are any PNG files in the directory\n",
    "    png_files = glob.glob(input_folder + '*_t_*.png')\n",
    "    if not png_files:\n",
    "        raise ValueError(\"No PNG files found in the specified directory\")\n",
    "\n",
    "    # FFmpeg command to create video\n",
    "    command = [\n",
    "    'ffmpeg',\n",
    "    '-y', #overwrite video files without asking\n",
    "    '-framerate', str(fps),\n",
    "    '-pattern_type', 'glob',\n",
    "    '-i', f'{input_folder}*_t_*.png',\n",
    "    '-vf', 'pad=ceil(iw/2)*2:ceil(ih/2)*2',  # Adjust dimensions\n",
    "    '-c:v', 'libx264',\n",
    "    '-pix_fmt', 'yuv420p',\n",
    "    output_video\n",
    "    ]\n",
    "    subprocess.run(command)\n",
    "\n",
    "def create_rgb_image(glimpse_frame):\n",
    "    # check if blank frame first by consulting the mask channel\n",
    "    if np.all(glimpse_frame[0] == 0):\n",
    "        rgb_image = np.zeros(glimpse_frame.shape[1:] + (3,))\n",
    "\n",
    "        return rgb_image\n",
    "    \n",
    "    # Normalize each axis to range [0, 1]\n",
    "    normalized = (glimpse_frame - np.min(glimpse_frame, axis=(1, 2), keepdims=True)) / \\\n",
    "                 (np.max(glimpse_frame, axis=(1, 2), keepdims=True) - np.min(glimpse_frame, axis=(1, 2), keepdims=True))\n",
    "\n",
    "    # Create an empty RGB image\n",
    "    rgb_image = np.zeros(normalized.shape[1:] + (3,))  # Shape (500, 500, 3)\n",
    "\n",
    "    # Assigning the normalized channels to the corresponding RGB channels\n",
    "    # Cyan: First axis (Green + Blue)\n",
    "    rgb_image[..., 1] += normalized[0]  # Green channel\n",
    "    rgb_image[..., 2] += normalized[0]  # Blue channel\n",
    "    \n",
    "    # Green: Second axis (Green)\n",
    "    rgb_image[..., 1] += normalized[1]\n",
    "    \n",
    "    # Magenta: Third axis (Red + Blue)\n",
    "    rgb_image[..., 0] += normalized[2]  # Red channel\n",
    "    rgb_image[..., 2] += normalized[2]  # Blue channel\n",
    "    \n",
    "    # Clipping values to ensure they are within [0, 1]\n",
    "    rgb_image = np.clip(rgb_image, 0, 1)\n",
    "\n",
    "    return rgb_image"
   ]
  },
  {
   "cell_type": "markdown",
   "id": "cc69dfe3-8544-427c-86c6-a0f8cc9a92ab",
   "metadata": {},
   "source": [
    "### Set style for plotting"
   ]
  },
  {
   "cell_type": "code",
   "execution_count": 2,
   "id": "241a453a",
   "metadata": {
    "scrolled": true
   },
   "outputs": [
    {
     "data": {
      "image/png": "[encoded data removed]",
      "text/plain": [
       "<Figure size 640x480 with 1 Axes>"
      ]
     },
     "metadata": {},
     "output_type": "display_data"
    },
    {
     "name": "stdout",
     "output_type": "stream",
     "text": [
      "['#1a9641', '#a6d96a', '#978897', '#d1d1ca', '#f1b6da', '#d02c91']\n"
     ]
    }
   ],
   "source": [
    "sns.set(style = 'white')\n",
    "\n",
    "# Set the default font to Helvetica\n",
    "mpl.rcParams['font.family'] = 'Liberation Sans'\n",
    "\n",
    "# Get the color palette of the PiYG color map\n",
    "expanded_piyg = visualise.color_palette('expanded_piyg').colors\n",
    "\n",
    "sns.set_palette(expanded_piyg)\n",
    "\n",
    "# Display the colors in the PiYG color map\n",
    "visualise.show_colors('expanded_piyg')\n",
    "print(expanded_piyg)"
   ]
  },
  {
   "cell_type": "markdown",
   "id": "d7be338f-c8ed-4ffe-a69a-7c17ac2c71a6",
   "metadata": {},
   "source": [
    "### Load sc df"
   ]
  },
  {
   "cell_type": "code",
   "execution_count": 3,
   "id": "cc57c5a6",
   "metadata": {},
   "outputs": [
    {
     "data": {
      "text/html": [
       "<div>\n",
       "<style scoped>\n",
       "    .dataframe tbody tr th:only-of-type {\n",
       "        vertical-align: middle;\n",
       "    }\n",
       "\n",
       "    .dataframe tbody tr th {\n",
       "        vertical-align: top;\n",
       "    }\n",
       "\n",
       "    .dataframe thead th {\n",
       "        text-align: right;\n",
       "    }\n",
       "</style>\n",
       "<table border=\"1\" class=\"dataframe\">\n",
       "  <thead>\n",
       "    <tr style=\"text-align: right;\">\n",
       "      <th></th>\n",
       "      <th>Time (hours)</th>\n",
       "      <th>Mtb Area</th>\n",
       "      <th>dMtb</th>\n",
       "      <th>Strain</th>\n",
       "      <th>Compound</th>\n",
       "      <th>Concentration</th>\n",
       "      <th>Unique ID</th>\n",
       "      <th>Acquisition ID</th>\n",
       "      <th>Cell ID</th>\n",
       "      <th>Mphi Area</th>\n",
       "      <th>...</th>\n",
       "      <th>dMtb/dt</th>\n",
       "      <th>%dMtb/dt</th>\n",
       "      <th>%dMtb</th>\n",
       "      <th>Mean Mtb Intensity</th>\n",
       "      <th>Thresholded Mean Mtb Intensity</th>\n",
       "      <th>Infection Status</th>\n",
       "      <th>Initial Infection Status</th>\n",
       "      <th>Final Infection Status</th>\n",
       "      <th>dMtb/dt,T=15</th>\n",
       "      <th>Max. dMtb/dt,T=15</th>\n",
       "    </tr>\n",
       "  </thead>\n",
       "  <tbody>\n",
       "    <tr>\n",
       "      <th>0</th>\n",
       "      <td>0</td>\n",
       "      <td>46.797680</td>\n",
       "      <td>136.772588</td>\n",
       "      <td>WT</td>\n",
       "      <td>CTRL</td>\n",
       "      <td>EC0</td>\n",
       "      <td>1.3.5</td>\n",
       "      <td>(3, 5)</td>\n",
       "      <td>1</td>\n",
       "      <td>29567.0</td>\n",
       "      <td>...</td>\n",
       "      <td>0.000000</td>\n",
       "      <td>0.000000</td>\n",
       "      <td>292.26361</td>\n",
       "      <td>473.168976</td>\n",
       "      <td>167.325424</td>\n",
       "      <td>True</td>\n",
       "      <td>True</td>\n",
       "      <td>True</td>\n",
       "      <td>NaN</td>\n",
       "      <td>6.314185</td>\n",
       "    </tr>\n",
       "    <tr>\n",
       "      <th>1</th>\n",
       "      <td>1</td>\n",
       "      <td>48.719647</td>\n",
       "      <td>136.772588</td>\n",
       "      <td>WT</td>\n",
       "      <td>CTRL</td>\n",
       "      <td>EC0</td>\n",
       "      <td>1.3.5</td>\n",
       "      <td>(3, 5)</td>\n",
       "      <td>1</td>\n",
       "      <td>26181.0</td>\n",
       "      <td>...</td>\n",
       "      <td>1.921968</td>\n",
       "      <td>4.106972</td>\n",
       "      <td>292.26361</td>\n",
       "      <td>498.701813</td>\n",
       "      <td>202.661972</td>\n",
       "      <td>True</td>\n",
       "      <td>True</td>\n",
       "      <td>True</td>\n",
       "      <td>NaN</td>\n",
       "      <td>6.314185</td>\n",
       "    </tr>\n",
       "    <tr>\n",
       "      <th>2</th>\n",
       "      <td>2</td>\n",
       "      <td>52.206007</td>\n",
       "      <td>136.772588</td>\n",
       "      <td>WT</td>\n",
       "      <td>CTRL</td>\n",
       "      <td>EC0</td>\n",
       "      <td>1.3.5</td>\n",
       "      <td>(3, 5)</td>\n",
       "      <td>1</td>\n",
       "      <td>26043.0</td>\n",
       "      <td>...</td>\n",
       "      <td>3.486360</td>\n",
       "      <td>7.155963</td>\n",
       "      <td>292.26361</td>\n",
       "      <td>502.468353</td>\n",
       "      <td>210.382874</td>\n",
       "      <td>True</td>\n",
       "      <td>True</td>\n",
       "      <td>True</td>\n",
       "      <td>NaN</td>\n",
       "      <td>6.314185</td>\n",
       "    </tr>\n",
       "    <tr>\n",
       "      <th>3</th>\n",
       "      <td>3</td>\n",
       "      <td>50.552221</td>\n",
       "      <td>136.772588</td>\n",
       "      <td>WT</td>\n",
       "      <td>CTRL</td>\n",
       "      <td>EC0</td>\n",
       "      <td>1.3.5</td>\n",
       "      <td>(3, 5)</td>\n",
       "      <td>1</td>\n",
       "      <td>25605.0</td>\n",
       "      <td>...</td>\n",
       "      <td>-1.653786</td>\n",
       "      <td>-3.167808</td>\n",
       "      <td>292.26361</td>\n",
       "      <td>501.905182</td>\n",
       "      <td>212.070969</td>\n",
       "      <td>True</td>\n",
       "      <td>True</td>\n",
       "      <td>True</td>\n",
       "      <td>NaN</td>\n",
       "      <td>6.314185</td>\n",
       "    </tr>\n",
       "    <tr>\n",
       "      <th>4</th>\n",
       "      <td>4</td>\n",
       "      <td>54.463202</td>\n",
       "      <td>136.772588</td>\n",
       "      <td>WT</td>\n",
       "      <td>CTRL</td>\n",
       "      <td>EC0</td>\n",
       "      <td>1.3.5</td>\n",
       "      <td>(3, 5)</td>\n",
       "      <td>1</td>\n",
       "      <td>26430.0</td>\n",
       "      <td>...</td>\n",
       "      <td>3.910981</td>\n",
       "      <td>7.736516</td>\n",
       "      <td>292.26361</td>\n",
       "      <td>502.564423</td>\n",
       "      <td>204.565842</td>\n",
       "      <td>True</td>\n",
       "      <td>True</td>\n",
       "      <td>True</td>\n",
       "      <td>NaN</td>\n",
       "      <td>6.314185</td>\n",
       "    </tr>\n",
       "    <tr>\n",
       "      <th>...</th>\n",
       "      <td>...</td>\n",
       "      <td>...</td>\n",
       "      <td>...</td>\n",
       "      <td>...</td>\n",
       "      <td>...</td>\n",
       "      <td>...</td>\n",
       "      <td>...</td>\n",
       "      <td>...</td>\n",
       "      <td>...</td>\n",
       "      <td>...</td>\n",
       "      <td>...</td>\n",
       "      <td>...</td>\n",
       "      <td>...</td>\n",
       "      <td>...</td>\n",
       "      <td>...</td>\n",
       "      <td>...</td>\n",
       "      <td>...</td>\n",
       "      <td>...</td>\n",
       "      <td>...</td>\n",
       "      <td>...</td>\n",
       "      <td>...</td>\n",
       "    </tr>\n",
       "    <tr>\n",
       "      <th>296992</th>\n",
       "      <td>70</td>\n",
       "      <td>0.000000</td>\n",
       "      <td>-3.888632</td>\n",
       "      <td>WT</td>\n",
       "      <td>CTRL</td>\n",
       "      <td>EC0</td>\n",
       "      <td>996.4.5</td>\n",
       "      <td>(4, 5)</td>\n",
       "      <td>996</td>\n",
       "      <td>32533.0</td>\n",
       "      <td>...</td>\n",
       "      <td>0.000000</td>\n",
       "      <td>0.000000</td>\n",
       "      <td>-100.00000</td>\n",
       "      <td>385.325806</td>\n",
       "      <td>1.178588</td>\n",
       "      <td>True</td>\n",
       "      <td>True</td>\n",
       "      <td>False</td>\n",
       "      <td>0.0</td>\n",
       "      <td>0.064066</td>\n",
       "    </tr>\n",
       "    <tr>\n",
       "      <th>296993</th>\n",
       "      <td>71</td>\n",
       "      <td>0.000000</td>\n",
       "      <td>-3.888632</td>\n",
       "      <td>WT</td>\n",
       "      <td>CTRL</td>\n",
       "      <td>EC0</td>\n",
       "      <td>996.4.5</td>\n",
       "      <td>(4, 5)</td>\n",
       "      <td>996</td>\n",
       "      <td>31403.0</td>\n",
       "      <td>...</td>\n",
       "      <td>0.000000</td>\n",
       "      <td>0.000000</td>\n",
       "      <td>-100.00000</td>\n",
       "      <td>384.643707</td>\n",
       "      <td>1.152374</td>\n",
       "      <td>True</td>\n",
       "      <td>True</td>\n",
       "      <td>False</td>\n",
       "      <td>0.0</td>\n",
       "      <td>0.064066</td>\n",
       "    </tr>\n",
       "    <tr>\n",
       "      <th>296994</th>\n",
       "      <td>72</td>\n",
       "      <td>0.000000</td>\n",
       "      <td>-3.888632</td>\n",
       "      <td>WT</td>\n",
       "      <td>CTRL</td>\n",
       "      <td>EC0</td>\n",
       "      <td>996.4.5</td>\n",
       "      <td>(4, 5)</td>\n",
       "      <td>996</td>\n",
       "      <td>33239.0</td>\n",
       "      <td>...</td>\n",
       "      <td>0.000000</td>\n",
       "      <td>0.000000</td>\n",
       "      <td>-100.00000</td>\n",
       "      <td>384.512726</td>\n",
       "      <td>1.103884</td>\n",
       "      <td>True</td>\n",
       "      <td>True</td>\n",
       "      <td>False</td>\n",
       "      <td>0.0</td>\n",
       "      <td>0.064066</td>\n",
       "    </tr>\n",
       "    <tr>\n",
       "      <th>296995</th>\n",
       "      <td>73</td>\n",
       "      <td>0.000000</td>\n",
       "      <td>-3.888632</td>\n",
       "      <td>WT</td>\n",
       "      <td>CTRL</td>\n",
       "      <td>EC0</td>\n",
       "      <td>996.4.5</td>\n",
       "      <td>(4, 5)</td>\n",
       "      <td>996</td>\n",
       "      <td>42445.0</td>\n",
       "      <td>...</td>\n",
       "      <td>0.000000</td>\n",
       "      <td>0.000000</td>\n",
       "      <td>-100.00000</td>\n",
       "      <td>383.335663</td>\n",
       "      <td>0.893816</td>\n",
       "      <td>True</td>\n",
       "      <td>True</td>\n",
       "      <td>False</td>\n",
       "      <td>0.0</td>\n",
       "      <td>0.064066</td>\n",
       "    </tr>\n",
       "    <tr>\n",
       "      <th>296996</th>\n",
       "      <td>74</td>\n",
       "      <td>0.000000</td>\n",
       "      <td>-3.888632</td>\n",
       "      <td>WT</td>\n",
       "      <td>CTRL</td>\n",
       "      <td>EC0</td>\n",
       "      <td>996.4.5</td>\n",
       "      <td>(4, 5)</td>\n",
       "      <td>996</td>\n",
       "      <td>35463.0</td>\n",
       "      <td>...</td>\n",
       "      <td>0.000000</td>\n",
       "      <td>0.000000</td>\n",
       "      <td>-100.00000</td>\n",
       "      <td>384.480499</td>\n",
       "      <td>0.864845</td>\n",
       "      <td>True</td>\n",
       "      <td>True</td>\n",
       "      <td>False</td>\n",
       "      <td>0.0</td>\n",
       "      <td>0.064066</td>\n",
       "    </tr>\n",
       "  </tbody>\n",
       "</table>\n",
       "<p>296997 rows × 27 columns</p>\n",
       "</div>"
      ],
      "text/plain": [
       "        Time (hours)   Mtb Area        dMtb Strain Compound Concentration  \\\n",
       "0                  0  46.797680  136.772588     WT     CTRL           EC0   \n",
       "1                  1  48.719647  136.772588     WT     CTRL           EC0   \n",
       "2                  2  52.206007  136.772588     WT     CTRL           EC0   \n",
       "3                  3  50.552221  136.772588     WT     CTRL           EC0   \n",
       "4                  4  54.463202  136.772588     WT     CTRL           EC0   \n",
       "...              ...        ...         ...    ...      ...           ...   \n",
       "296992            70   0.000000   -3.888632     WT     CTRL           EC0   \n",
       "296993            71   0.000000   -3.888632     WT     CTRL           EC0   \n",
       "296994            72   0.000000   -3.888632     WT     CTRL           EC0   \n",
       "296995            73   0.000000   -3.888632     WT     CTRL           EC0   \n",
       "296996            74   0.000000   -3.888632     WT     CTRL           EC0   \n",
       "\n",
       "       Unique ID Acquisition ID  Cell ID  Mphi Area  ...   dMtb/dt  %dMtb/dt  \\\n",
       "0          1.3.5         (3, 5)        1    29567.0  ...  0.000000  0.000000   \n",
       "1          1.3.5         (3, 5)        1    26181.0  ...  1.921968  4.106972   \n",
       "2          1.3.5         (3, 5)        1    26043.0  ...  3.486360  7.155963   \n",
       "3          1.3.5         (3, 5)        1    25605.0  ... -1.653786 -3.167808   \n",
       "4          1.3.5         (3, 5)        1    26430.0  ...  3.910981  7.736516   \n",
       "...          ...            ...      ...        ...  ...       ...       ...   \n",
       "296992   996.4.5         (4, 5)      996    32533.0  ...  0.000000  0.000000   \n",
       "296993   996.4.5         (4, 5)      996    31403.0  ...  0.000000  0.000000   \n",
       "296994   996.4.5         (4, 5)      996    33239.0  ...  0.000000  0.000000   \n",
       "296995   996.4.5         (4, 5)      996    42445.0  ...  0.000000  0.000000   \n",
       "296996   996.4.5         (4, 5)      996    35463.0  ...  0.000000  0.000000   \n",
       "\n",
       "            %dMtb  Mean Mtb Intensity  Thresholded Mean Mtb Intensity  \\\n",
       "0       292.26361          473.168976                      167.325424   \n",
       "1       292.26361          498.701813                      202.661972   \n",
       "2       292.26361          502.468353                      210.382874   \n",
       "3       292.26361          501.905182                      212.070969   \n",
       "4       292.26361          502.564423                      204.565842   \n",
       "...           ...                 ...                             ...   \n",
       "296992 -100.00000          385.325806                        1.178588   \n",
       "296993 -100.00000          384.643707                        1.152374   \n",
       "296994 -100.00000          384.512726                        1.103884   \n",
       "296995 -100.00000          383.335663                        0.893816   \n",
       "296996 -100.00000          384.480499                        0.864845   \n",
       "\n",
       "        Infection Status Initial Infection Status  Final Infection Status  \\\n",
       "0                   True                     True                    True   \n",
       "1                   True                     True                    True   \n",
       "2                   True                     True                    True   \n",
       "3                   True                     True                    True   \n",
       "4                   True                     True                    True   \n",
       "...                  ...                      ...                     ...   \n",
       "296992              True                     True                   False   \n",
       "296993              True                     True                   False   \n",
       "296994              True                     True                   False   \n",
       "296995              True                     True                   False   \n",
       "296996              True                     True                   False   \n",
       "\n",
       "        dMtb/dt,T=15  Max. dMtb/dt,T=15  \n",
       "0                NaN           6.314185  \n",
       "1                NaN           6.314185  \n",
       "2                NaN           6.314185  \n",
       "3                NaN           6.314185  \n",
       "4                NaN           6.314185  \n",
       "...              ...                ...  \n",
       "296992           0.0           0.064066  \n",
       "296993           0.0           0.064066  \n",
       "296994           0.0           0.064066  \n",
       "296995           0.0           0.064066  \n",
       "296996           0.0           0.064066  \n",
       "\n",
       "[296997 rows x 27 columns]"
      ]
     },
     "execution_count": 3,
     "metadata": {},
     "output_type": "execute_result"
    }
   ],
   "source": [
    "df = pd.read_pickle('/mnt/DATA/macrohet/results/preliminary_sc_measures/sc_dfs/sc_df_GT_70_area.pkl')\n",
    "# df['dMtb'] = df['delta Mtb max fold-change normalised max area']\n",
    "# df['Mtb'] = df['Intracellular thresholded Mtb content smooth']\n",
    "# # Assuming your DataFrame is named 'df'\n",
    "# df['Strain/Compound'] = df['Compound']  # Create a new column and copy values from 'Compound'\n",
    "# # Replace values in 'NewColumn' where 'Strain' is 'RD1' with 'RD1'\n",
    "# df.loc[df['Strain'] == 'RD1', 'Strain/Compound'] = 'RD1'\n",
    "# # calculate old method of mtb gradient\n",
    "# # df['Max. dMtb gradient'] = np.nan  # Initialize with NaN instead of None\n",
    "# for unique_ID in tqdm(df['Unique ID'].unique()):\n",
    "#     sc_df = df[df['Unique ID'] == unique_ID]\n",
    "\n",
    "#     max_gradient = sc_df['Mtb'].rolling(window=15).apply(calculate_gradient, raw=True).max()\n",
    "#     df.loc[df['Unique ID'] == unique_ID, 'Max. dMtb gradient'] = max_gradient\n",
    "    \n",
    "df"
   ]
  },
  {
   "cell_type": "markdown",
   "id": "c6eb182a-0e84-4387-85aa-09ab29f86feb",
   "metadata": {},
   "source": [
    "### Isolate the top ten fastest growers"
   ]
  },
  {
   "cell_type": "code",
   "execution_count": 4,
   "id": "b7dc78d0-8fdc-4aba-ad57-4270e02aa0f5",
   "metadata": {},
   "outputs": [],
   "source": [
    "N = 1000\n",
    "top_N_tracks = df.groupby('Unique ID')['Max. dMtb/dt,T=15'].max().sort_values(ascending=False).head(N)"
   ]
  },
  {
   "cell_type": "code",
   "execution_count": 5,
   "id": "42f2913c-6601-4436-959d-5105181cf1eb",
   "metadata": {},
   "outputs": [
    {
     "name": "stdout",
     "output_type": "stream",
     "text": [
      "Reading metadata XML file...\n",
      "Extracting metadata complete!\n"
     ]
    },
    {
     "data": {
      "text/html": [
       "<div>\n",
       "<style scoped>\n",
       "    .dataframe tbody tr th:only-of-type {\n",
       "        vertical-align: middle;\n",
       "    }\n",
       "\n",
       "    .dataframe tbody tr th {\n",
       "        vertical-align: top;\n",
       "    }\n",
       "\n",
       "    .dataframe thead th {\n",
       "        text-align: right;\n",
       "    }\n",
       "</style>\n",
       "<table border=\"1\" class=\"dataframe\">\n",
       "  <thead>\n",
       "    <tr style=\"text-align: right;\">\n",
       "      <th></th>\n",
       "      <th></th>\n",
       "      <th>Strain</th>\n",
       "      <th>Compound</th>\n",
       "      <th>Concentration</th>\n",
       "      <th>ConcentrationEC</th>\n",
       "    </tr>\n",
       "    <tr>\n",
       "      <th>Row</th>\n",
       "      <th>Column</th>\n",
       "      <th></th>\n",
       "      <th></th>\n",
       "      <th></th>\n",
       "      <th></th>\n",
       "    </tr>\n",
       "  </thead>\n",
       "  <tbody>\n",
       "    <tr>\n",
       "      <th rowspan=\"6\" valign=\"top\">3</th>\n",
       "      <th>4</th>\n",
       "      <td>RD1</td>\n",
       "      <td>CTRL</td>\n",
       "      <td>0</td>\n",
       "      <td>EC0</td>\n",
       "    </tr>\n",
       "    <tr>\n",
       "      <th>5</th>\n",
       "      <td>WT</td>\n",
       "      <td>CTRL</td>\n",
       "      <td>0</td>\n",
       "      <td>EC0</td>\n",
       "    </tr>\n",
       "    <tr>\n",
       "      <th>6</th>\n",
       "      <td>WT</td>\n",
       "      <td>PZA</td>\n",
       "      <td>60</td>\n",
       "      <td>EC50</td>\n",
       "    </tr>\n",
       "    <tr>\n",
       "      <th>7</th>\n",
       "      <td>WT</td>\n",
       "      <td>RIF</td>\n",
       "      <td>0.1</td>\n",
       "      <td>EC50</td>\n",
       "    </tr>\n",
       "    <tr>\n",
       "      <th>8</th>\n",
       "      <td>WT</td>\n",
       "      <td>INH</td>\n",
       "      <td>0.04</td>\n",
       "      <td>EC50</td>\n",
       "    </tr>\n",
       "    <tr>\n",
       "      <th>9</th>\n",
       "      <td>WT</td>\n",
       "      <td>BDQ</td>\n",
       "      <td>0.02</td>\n",
       "      <td>EC50</td>\n",
       "    </tr>\n",
       "    <tr>\n",
       "      <th rowspan=\"6\" valign=\"top\">4</th>\n",
       "      <th>4</th>\n",
       "      <td>RD1</td>\n",
       "      <td>CTRL</td>\n",
       "      <td>0</td>\n",
       "      <td>EC0</td>\n",
       "    </tr>\n",
       "    <tr>\n",
       "      <th>5</th>\n",
       "      <td>WT</td>\n",
       "      <td>CTRL</td>\n",
       "      <td>0</td>\n",
       "      <td>EC0</td>\n",
       "    </tr>\n",
       "    <tr>\n",
       "      <th>6</th>\n",
       "      <td>WT</td>\n",
       "      <td>PZA</td>\n",
       "      <td>60</td>\n",
       "      <td>EC50</td>\n",
       "    </tr>\n",
       "    <tr>\n",
       "      <th>7</th>\n",
       "      <td>WT</td>\n",
       "      <td>RIF</td>\n",
       "      <td>0.1</td>\n",
       "      <td>EC50</td>\n",
       "    </tr>\n",
       "    <tr>\n",
       "      <th>8</th>\n",
       "      <td>WT</td>\n",
       "      <td>INH</td>\n",
       "      <td>0.04</td>\n",
       "      <td>EC50</td>\n",
       "    </tr>\n",
       "    <tr>\n",
       "      <th>9</th>\n",
       "      <td>WT</td>\n",
       "      <td>BDQ</td>\n",
       "      <td>0.02</td>\n",
       "      <td>EC50</td>\n",
       "    </tr>\n",
       "    <tr>\n",
       "      <th rowspan=\"6\" valign=\"top\">5</th>\n",
       "      <th>4</th>\n",
       "      <td>RD1</td>\n",
       "      <td>CTRL</td>\n",
       "      <td>0</td>\n",
       "      <td>EC0</td>\n",
       "    </tr>\n",
       "    <tr>\n",
       "      <th>5</th>\n",
       "      <td>WT</td>\n",
       "      <td>CTRL</td>\n",
       "      <td>0</td>\n",
       "      <td>EC0</td>\n",
       "    </tr>\n",
       "    <tr>\n",
       "      <th>6</th>\n",
       "      <td>WT</td>\n",
       "      <td>PZA</td>\n",
       "      <td>400</td>\n",
       "      <td>EC99</td>\n",
       "    </tr>\n",
       "    <tr>\n",
       "      <th>7</th>\n",
       "      <td>WT</td>\n",
       "      <td>RIF</td>\n",
       "      <td>2</td>\n",
       "      <td>EC99</td>\n",
       "    </tr>\n",
       "    <tr>\n",
       "      <th>8</th>\n",
       "      <td>WT</td>\n",
       "      <td>INH</td>\n",
       "      <td>2</td>\n",
       "      <td>EC99</td>\n",
       "    </tr>\n",
       "    <tr>\n",
       "      <th>9</th>\n",
       "      <td>WT</td>\n",
       "      <td>BDQ</td>\n",
       "      <td>2.5</td>\n",
       "      <td>EC99</td>\n",
       "    </tr>\n",
       "    <tr>\n",
       "      <th rowspan=\"6\" valign=\"top\">6</th>\n",
       "      <th>4</th>\n",
       "      <td>RD1</td>\n",
       "      <td>CTRL</td>\n",
       "      <td>0</td>\n",
       "      <td>EC0</td>\n",
       "    </tr>\n",
       "    <tr>\n",
       "      <th>5</th>\n",
       "      <td>WT</td>\n",
       "      <td>CTRL</td>\n",
       "      <td>0</td>\n",
       "      <td>EC0</td>\n",
       "    </tr>\n",
       "    <tr>\n",
       "      <th>6</th>\n",
       "      <td>WT</td>\n",
       "      <td>PZA</td>\n",
       "      <td>400</td>\n",
       "      <td>EC99</td>\n",
       "    </tr>\n",
       "    <tr>\n",
       "      <th>7</th>\n",
       "      <td>WT</td>\n",
       "      <td>RIF</td>\n",
       "      <td>2</td>\n",
       "      <td>EC99</td>\n",
       "    </tr>\n",
       "    <tr>\n",
       "      <th>8</th>\n",
       "      <td>WT</td>\n",
       "      <td>INH</td>\n",
       "      <td>2</td>\n",
       "      <td>EC99</td>\n",
       "    </tr>\n",
       "    <tr>\n",
       "      <th>9</th>\n",
       "      <td>WT</td>\n",
       "      <td>BDQ</td>\n",
       "      <td>2.5</td>\n",
       "      <td>EC99</td>\n",
       "    </tr>\n",
       "  </tbody>\n",
       "</table>\n",
       "</div>"
      ],
      "text/plain": [
       "           Strain Compound Concentration ConcentrationEC\n",
       "Row Column                                              \n",
       "3   4         RD1     CTRL             0             EC0\n",
       "    5          WT     CTRL             0             EC0\n",
       "    6          WT      PZA            60            EC50\n",
       "    7          WT      RIF           0.1            EC50\n",
       "    8          WT      INH          0.04            EC50\n",
       "    9          WT      BDQ          0.02            EC50\n",
       "4   4         RD1     CTRL             0             EC0\n",
       "    5          WT     CTRL             0             EC0\n",
       "    6          WT      PZA            60            EC50\n",
       "    7          WT      RIF           0.1            EC50\n",
       "    8          WT      INH          0.04            EC50\n",
       "    9          WT      BDQ          0.02            EC50\n",
       "5   4         RD1     CTRL             0             EC0\n",
       "    5          WT     CTRL             0             EC0\n",
       "    6          WT      PZA           400            EC99\n",
       "    7          WT      RIF             2            EC99\n",
       "    8          WT      INH             2            EC99\n",
       "    9          WT      BDQ           2.5            EC99\n",
       "6   4         RD1     CTRL             0             EC0\n",
       "    5          WT     CTRL             0             EC0\n",
       "    6          WT      PZA           400            EC99\n",
       "    7          WT      RIF             2            EC99\n",
       "    8          WT      INH             2            EC99\n",
       "    9          WT      BDQ           2.5            EC99"
      ]
     },
     "execution_count": 5,
     "metadata": {},
     "output_type": "execute_result"
    }
   ],
   "source": [
    "base_dir = '/mnt/DATA/macrohet/macrohet_images/PS0000/'\n",
    "metadata_path = os.path.join(base_dir, 'Assaylayout/20210602_Live_cell_IPSDMGFP_ATB.xml')\n",
    "assay_layout = dataio.read_harmony_metadata(metadata_path, assay_layout=True,)# mask_exist=True,  image_dir = image_dir, image_metadata = metadata)\n",
    "assay_layout"
   ]
  },
  {
   "cell_type": "code",
   "execution_count": 6,
   "id": "e15e736e-728e-4c78-83ce-50beafc84cde",
   "metadata": {},
   "outputs": [
    {
     "name": "stdout",
     "output_type": "stream",
     "text": [
      "Reading metadata XML file...\n"
     ]
    },
    {
     "data": {
      "application/vnd.jupyter.widget-view+json": {
       "model_id": "08898aee567846018cd02797cd918268",
       "version_major": 2,
       "version_minor": 0
      },
      "text/plain": [
       "Extracting HarmonyV5 metadata:   0%|          | 0/113400 [00:00<?, ?it/s]"
      ]
     },
     "metadata": {},
     "output_type": "display_data"
    },
    {
     "name": "stdout",
     "output_type": "stream",
     "text": [
      "Extracting metadata complete!\n"
     ]
    },
    {
     "data": {
      "text/html": [
       "<div>\n",
       "<style scoped>\n",
       "    .dataframe tbody tr th:only-of-type {\n",
       "        vertical-align: middle;\n",
       "    }\n",
       "\n",
       "    .dataframe tbody tr th {\n",
       "        vertical-align: top;\n",
       "    }\n",
       "\n",
       "    .dataframe thead th {\n",
       "        text-align: right;\n",
       "    }\n",
       "</style>\n",
       "<table border=\"1\" class=\"dataframe\">\n",
       "  <thead>\n",
       "    <tr style=\"text-align: right;\">\n",
       "      <th></th>\n",
       "      <th>id</th>\n",
       "      <th>State</th>\n",
       "      <th>URL</th>\n",
       "      <th>Row</th>\n",
       "      <th>Col</th>\n",
       "      <th>FieldID</th>\n",
       "      <th>PlaneID</th>\n",
       "      <th>TimepointID</th>\n",
       "      <th>ChannelID</th>\n",
       "      <th>FlimID</th>\n",
       "      <th>...</th>\n",
       "      <th>PositionZ</th>\n",
       "      <th>AbsPositionZ</th>\n",
       "      <th>MeasurementTimeOffset</th>\n",
       "      <th>AbsTime</th>\n",
       "      <th>MainExcitationWavelength</th>\n",
       "      <th>MainEmissionWavelength</th>\n",
       "      <th>ObjectiveMagnification</th>\n",
       "      <th>ObjectiveNA</th>\n",
       "      <th>ExposureTime</th>\n",
       "      <th>OrientationMatrix</th>\n",
       "    </tr>\n",
       "  </thead>\n",
       "  <tbody>\n",
       "    <tr>\n",
       "      <th>0</th>\n",
       "      <td>0303K1F1P1R1</td>\n",
       "      <td>Ok</td>\n",
       "      <td>r03c03f01p01-ch1sk1fk1fl1.tiff</td>\n",
       "      <td>3</td>\n",
       "      <td>3</td>\n",
       "      <td>1</td>\n",
       "      <td>1</td>\n",
       "      <td>0</td>\n",
       "      <td>1</td>\n",
       "      <td>1</td>\n",
       "      <td>...</td>\n",
       "      <td>0</td>\n",
       "      <td>0.135583505</td>\n",
       "      <td>0</td>\n",
       "      <td>2021-04-16T19:09:33.84+01:00</td>\n",
       "      <td>488</td>\n",
       "      <td>522</td>\n",
       "      <td>40</td>\n",
       "      <td>1.1</td>\n",
       "      <td>0.1</td>\n",
       "      <td>[[0.990860,0,0,-15.9],[0,-0.990860,0,-44.8],[0...</td>\n",
       "    </tr>\n",
       "    <tr>\n",
       "      <th>1</th>\n",
       "      <td>0303K1F1P1R2</td>\n",
       "      <td>Ok</td>\n",
       "      <td>r03c03f01p01-ch2sk1fk1fl1.tiff</td>\n",
       "      <td>3</td>\n",
       "      <td>3</td>\n",
       "      <td>1</td>\n",
       "      <td>1</td>\n",
       "      <td>0</td>\n",
       "      <td>2</td>\n",
       "      <td>1</td>\n",
       "      <td>...</td>\n",
       "      <td>0</td>\n",
       "      <td>0.135583505</td>\n",
       "      <td>0</td>\n",
       "      <td>2021-04-16T19:09:33.84+01:00</td>\n",
       "      <td>640</td>\n",
       "      <td>706</td>\n",
       "      <td>40</td>\n",
       "      <td>1.1</td>\n",
       "      <td>0.2</td>\n",
       "      <td>[[0.990860,0,0,-15.9],[0,-0.990860,0,-44.8],[0...</td>\n",
       "    </tr>\n",
       "    <tr>\n",
       "      <th>2</th>\n",
       "      <td>0303K1F1P2R1</td>\n",
       "      <td>Ok</td>\n",
       "      <td>r03c03f01p02-ch1sk1fk1fl1.tiff</td>\n",
       "      <td>3</td>\n",
       "      <td>3</td>\n",
       "      <td>1</td>\n",
       "      <td>2</td>\n",
       "      <td>0</td>\n",
       "      <td>1</td>\n",
       "      <td>1</td>\n",
       "      <td>...</td>\n",
       "      <td>2E-06</td>\n",
       "      <td>0.135585502</td>\n",
       "      <td>0</td>\n",
       "      <td>2021-04-16T19:09:34.12+01:00</td>\n",
       "      <td>488</td>\n",
       "      <td>522</td>\n",
       "      <td>40</td>\n",
       "      <td>1.1</td>\n",
       "      <td>0.1</td>\n",
       "      <td>[[0.990860,0,0,-15.9],[0,-0.990860,0,-44.8],[0...</td>\n",
       "    </tr>\n",
       "    <tr>\n",
       "      <th>3</th>\n",
       "      <td>0303K1F1P2R2</td>\n",
       "      <td>Ok</td>\n",
       "      <td>r03c03f01p02-ch2sk1fk1fl1.tiff</td>\n",
       "      <td>3</td>\n",
       "      <td>3</td>\n",
       "      <td>1</td>\n",
       "      <td>2</td>\n",
       "      <td>0</td>\n",
       "      <td>2</td>\n",
       "      <td>1</td>\n",
       "      <td>...</td>\n",
       "      <td>2E-06</td>\n",
       "      <td>0.135585502</td>\n",
       "      <td>0</td>\n",
       "      <td>2021-04-16T19:09:34.12+01:00</td>\n",
       "      <td>640</td>\n",
       "      <td>706</td>\n",
       "      <td>40</td>\n",
       "      <td>1.1</td>\n",
       "      <td>0.2</td>\n",
       "      <td>[[0.990860,0,0,-15.9],[0,-0.990860,0,-44.8],[0...</td>\n",
       "    </tr>\n",
       "    <tr>\n",
       "      <th>4</th>\n",
       "      <td>0303K1F1P3R1</td>\n",
       "      <td>Ok</td>\n",
       "      <td>r03c03f01p03-ch1sk1fk1fl1.tiff</td>\n",
       "      <td>3</td>\n",
       "      <td>3</td>\n",
       "      <td>1</td>\n",
       "      <td>3</td>\n",
       "      <td>0</td>\n",
       "      <td>1</td>\n",
       "      <td>1</td>\n",
       "      <td>...</td>\n",
       "      <td>4E-06</td>\n",
       "      <td>0.135587499</td>\n",
       "      <td>0</td>\n",
       "      <td>2021-04-16T19:09:34.4+01:00</td>\n",
       "      <td>488</td>\n",
       "      <td>522</td>\n",
       "      <td>40</td>\n",
       "      <td>1.1</td>\n",
       "      <td>0.1</td>\n",
       "      <td>[[0.990860,0,0,-15.9],[0,-0.990860,0,-44.8],[0...</td>\n",
       "    </tr>\n",
       "    <tr>\n",
       "      <th>...</th>\n",
       "      <td>...</td>\n",
       "      <td>...</td>\n",
       "      <td>...</td>\n",
       "      <td>...</td>\n",
       "      <td>...</td>\n",
       "      <td>...</td>\n",
       "      <td>...</td>\n",
       "      <td>...</td>\n",
       "      <td>...</td>\n",
       "      <td>...</td>\n",
       "      <td>...</td>\n",
       "      <td>...</td>\n",
       "      <td>...</td>\n",
       "      <td>...</td>\n",
       "      <td>...</td>\n",
       "      <td>...</td>\n",
       "      <td>...</td>\n",
       "      <td>...</td>\n",
       "      <td>...</td>\n",
       "      <td>...</td>\n",
       "      <td>...</td>\n",
       "    </tr>\n",
       "    <tr>\n",
       "      <th>113395</th>\n",
       "      <td>0609K75F9P1R2</td>\n",
       "      <td>Ok</td>\n",
       "      <td>r06c09f09p01-ch2sk75fk1fl1.tiff</td>\n",
       "      <td>6</td>\n",
       "      <td>9</td>\n",
       "      <td>9</td>\n",
       "      <td>1</td>\n",
       "      <td>74</td>\n",
       "      <td>2</td>\n",
       "      <td>1</td>\n",
       "      <td>...</td>\n",
       "      <td>0</td>\n",
       "      <td>0.135533601</td>\n",
       "      <td>266399.61</td>\n",
       "      <td>2021-04-19T21:14:19.477+01:00</td>\n",
       "      <td>640</td>\n",
       "      <td>706</td>\n",
       "      <td>40</td>\n",
       "      <td>1.1</td>\n",
       "      <td>0.2</td>\n",
       "      <td>[[0.990860,0,0,-15.9],[0,-0.990860,0,-44.8],[0...</td>\n",
       "    </tr>\n",
       "    <tr>\n",
       "      <th>113396</th>\n",
       "      <td>0609K75F9P2R1</td>\n",
       "      <td>Ok</td>\n",
       "      <td>r06c09f09p02-ch1sk75fk1fl1.tiff</td>\n",
       "      <td>6</td>\n",
       "      <td>9</td>\n",
       "      <td>9</td>\n",
       "      <td>2</td>\n",
       "      <td>74</td>\n",
       "      <td>1</td>\n",
       "      <td>1</td>\n",
       "      <td>...</td>\n",
       "      <td>2E-06</td>\n",
       "      <td>0.135535598</td>\n",
       "      <td>266399.61</td>\n",
       "      <td>2021-04-19T21:14:19.757+01:00</td>\n",
       "      <td>488</td>\n",
       "      <td>522</td>\n",
       "      <td>40</td>\n",
       "      <td>1.1</td>\n",
       "      <td>0.1</td>\n",
       "      <td>[[0.990860,0,0,-15.9],[0,-0.990860,0,-44.8],[0...</td>\n",
       "    </tr>\n",
       "    <tr>\n",
       "      <th>113397</th>\n",
       "      <td>0609K75F9P2R2</td>\n",
       "      <td>Ok</td>\n",
       "      <td>r06c09f09p02-ch2sk75fk1fl1.tiff</td>\n",
       "      <td>6</td>\n",
       "      <td>9</td>\n",
       "      <td>9</td>\n",
       "      <td>2</td>\n",
       "      <td>74</td>\n",
       "      <td>2</td>\n",
       "      <td>1</td>\n",
       "      <td>...</td>\n",
       "      <td>2E-06</td>\n",
       "      <td>0.135535598</td>\n",
       "      <td>266399.61</td>\n",
       "      <td>2021-04-19T21:14:19.757+01:00</td>\n",
       "      <td>640</td>\n",
       "      <td>706</td>\n",
       "      <td>40</td>\n",
       "      <td>1.1</td>\n",
       "      <td>0.2</td>\n",
       "      <td>[[0.990860,0,0,-15.9],[0,-0.990860,0,-44.8],[0...</td>\n",
       "    </tr>\n",
       "    <tr>\n",
       "      <th>113398</th>\n",
       "      <td>0609K75F9P3R1</td>\n",
       "      <td>Ok</td>\n",
       "      <td>r06c09f09p03-ch1sk75fk1fl1.tiff</td>\n",
       "      <td>6</td>\n",
       "      <td>9</td>\n",
       "      <td>9</td>\n",
       "      <td>3</td>\n",
       "      <td>74</td>\n",
       "      <td>1</td>\n",
       "      <td>1</td>\n",
       "      <td>...</td>\n",
       "      <td>4E-06</td>\n",
       "      <td>0.135537595</td>\n",
       "      <td>266399.61</td>\n",
       "      <td>2021-04-19T21:14:20.037+01:00</td>\n",
       "      <td>488</td>\n",
       "      <td>522</td>\n",
       "      <td>40</td>\n",
       "      <td>1.1</td>\n",
       "      <td>0.1</td>\n",
       "      <td>[[0.990860,0,0,-15.9],[0,-0.990860,0,-44.8],[0...</td>\n",
       "    </tr>\n",
       "    <tr>\n",
       "      <th>113399</th>\n",
       "      <td>0609K75F9P3R2</td>\n",
       "      <td>Ok</td>\n",
       "      <td>r06c09f09p03-ch2sk75fk1fl1.tiff</td>\n",
       "      <td>6</td>\n",
       "      <td>9</td>\n",
       "      <td>9</td>\n",
       "      <td>3</td>\n",
       "      <td>74</td>\n",
       "      <td>2</td>\n",
       "      <td>1</td>\n",
       "      <td>...</td>\n",
       "      <td>4E-06</td>\n",
       "      <td>0.135537595</td>\n",
       "      <td>266399.61</td>\n",
       "      <td>2021-04-19T21:14:20.037+01:00</td>\n",
       "      <td>640</td>\n",
       "      <td>706</td>\n",
       "      <td>40</td>\n",
       "      <td>1.1</td>\n",
       "      <td>0.2</td>\n",
       "      <td>[[0.990860,0,0,-15.9],[0,-0.990860,0,-44.8],[0...</td>\n",
       "    </tr>\n",
       "  </tbody>\n",
       "</table>\n",
       "<p>113400 rows × 35 columns</p>\n",
       "</div>"
      ],
      "text/plain": [
       "                   id State                              URL Row Col FieldID  \\\n",
       "0        0303K1F1P1R1    Ok   r03c03f01p01-ch1sk1fk1fl1.tiff   3   3       1   \n",
       "1        0303K1F1P1R2    Ok   r03c03f01p01-ch2sk1fk1fl1.tiff   3   3       1   \n",
       "2        0303K1F1P2R1    Ok   r03c03f01p02-ch1sk1fk1fl1.tiff   3   3       1   \n",
       "3        0303K1F1P2R2    Ok   r03c03f01p02-ch2sk1fk1fl1.tiff   3   3       1   \n",
       "4        0303K1F1P3R1    Ok   r03c03f01p03-ch1sk1fk1fl1.tiff   3   3       1   \n",
       "...               ...   ...                              ...  ..  ..     ...   \n",
       "113395  0609K75F9P1R2    Ok  r06c09f09p01-ch2sk75fk1fl1.tiff   6   9       9   \n",
       "113396  0609K75F9P2R1    Ok  r06c09f09p02-ch1sk75fk1fl1.tiff   6   9       9   \n",
       "113397  0609K75F9P2R2    Ok  r06c09f09p02-ch2sk75fk1fl1.tiff   6   9       9   \n",
       "113398  0609K75F9P3R1    Ok  r06c09f09p03-ch1sk75fk1fl1.tiff   6   9       9   \n",
       "113399  0609K75F9P3R2    Ok  r06c09f09p03-ch2sk75fk1fl1.tiff   6   9       9   \n",
       "\n",
       "       PlaneID TimepointID ChannelID FlimID  ... PositionZ AbsPositionZ  \\\n",
       "0            1           0         1      1  ...         0  0.135583505   \n",
       "1            1           0         2      1  ...         0  0.135583505   \n",
       "2            2           0         1      1  ...     2E-06  0.135585502   \n",
       "3            2           0         2      1  ...     2E-06  0.135585502   \n",
       "4            3           0         1      1  ...     4E-06  0.135587499   \n",
       "...        ...         ...       ...    ...  ...       ...          ...   \n",
       "113395       1          74         2      1  ...         0  0.135533601   \n",
       "113396       2          74         1      1  ...     2E-06  0.135535598   \n",
       "113397       2          74         2      1  ...     2E-06  0.135535598   \n",
       "113398       3          74         1      1  ...     4E-06  0.135537595   \n",
       "113399       3          74         2      1  ...     4E-06  0.135537595   \n",
       "\n",
       "       MeasurementTimeOffset                        AbsTime  \\\n",
       "0                          0   2021-04-16T19:09:33.84+01:00   \n",
       "1                          0   2021-04-16T19:09:33.84+01:00   \n",
       "2                          0   2021-04-16T19:09:34.12+01:00   \n",
       "3                          0   2021-04-16T19:09:34.12+01:00   \n",
       "4                          0    2021-04-16T19:09:34.4+01:00   \n",
       "...                      ...                            ...   \n",
       "113395             266399.61  2021-04-19T21:14:19.477+01:00   \n",
       "113396             266399.61  2021-04-19T21:14:19.757+01:00   \n",
       "113397             266399.61  2021-04-19T21:14:19.757+01:00   \n",
       "113398             266399.61  2021-04-19T21:14:20.037+01:00   \n",
       "113399             266399.61  2021-04-19T21:14:20.037+01:00   \n",
       "\n",
       "       MainExcitationWavelength MainEmissionWavelength ObjectiveMagnification  \\\n",
       "0                           488                    522                     40   \n",
       "1                           640                    706                     40   \n",
       "2                           488                    522                     40   \n",
       "3                           640                    706                     40   \n",
       "4                           488                    522                     40   \n",
       "...                         ...                    ...                    ...   \n",
       "113395                      640                    706                     40   \n",
       "113396                      488                    522                     40   \n",
       "113397                      640                    706                     40   \n",
       "113398                      488                    522                     40   \n",
       "113399                      640                    706                     40   \n",
       "\n",
       "       ObjectiveNA ExposureTime  \\\n",
       "0              1.1          0.1   \n",
       "1              1.1          0.2   \n",
       "2              1.1          0.1   \n",
       "3              1.1          0.2   \n",
       "4              1.1          0.1   \n",
       "...            ...          ...   \n",
       "113395         1.1          0.2   \n",
       "113396         1.1          0.1   \n",
       "113397         1.1          0.2   \n",
       "113398         1.1          0.1   \n",
       "113399         1.1          0.2   \n",
       "\n",
       "                                        OrientationMatrix  \n",
       "0       [[0.990860,0,0,-15.9],[0,-0.990860,0,-44.8],[0...  \n",
       "1       [[0.990860,0,0,-15.9],[0,-0.990860,0,-44.8],[0...  \n",
       "2       [[0.990860,0,0,-15.9],[0,-0.990860,0,-44.8],[0...  \n",
       "3       [[0.990860,0,0,-15.9],[0,-0.990860,0,-44.8],[0...  \n",
       "4       [[0.990860,0,0,-15.9],[0,-0.990860,0,-44.8],[0...  \n",
       "...                                                   ...  \n",
       "113395  [[0.990860,0,0,-15.9],[0,-0.990860,0,-44.8],[0...  \n",
       "113396  [[0.990860,0,0,-15.9],[0,-0.990860,0,-44.8],[0...  \n",
       "113397  [[0.990860,0,0,-15.9],[0,-0.990860,0,-44.8],[0...  \n",
       "113398  [[0.990860,0,0,-15.9],[0,-0.990860,0,-44.8],[0...  \n",
       "113399  [[0.990860,0,0,-15.9],[0,-0.990860,0,-44.8],[0...  \n",
       "\n",
       "[113400 rows x 35 columns]"
      ]
     },
     "execution_count": 6,
     "metadata": {},
     "output_type": "execute_result"
    }
   ],
   "source": [
    "metadata_fn = os.path.join(base_dir, 'Images/Index.idx.xml')\n",
    "metadata = dataio.read_harmony_metadata(metadata_fn)  \n",
    "metadata"
   ]
  },
  {
   "cell_type": "code",
   "execution_count": 7,
   "id": "b6ce6061-0b09-429b-80c3-08fd5c66d053",
   "metadata": {},
   "outputs": [],
   "source": [
    "mtb_areas_dict = {}\n",
    "segmentation_dict = dict()\n",
    "# with open('mtb_areas_dict.pkl', 'rb') as file:\n",
    "#     mtb_areas_dict = pickle.load(file)\n",
    "# len(mtb_areas_dict)"
   ]
  },
  {
   "cell_type": "code",
   "execution_count": 8,
   "id": "d889b0ae-717e-4ffe-810a-efb971fdd4e5",
   "metadata": {
    "scrolled": true
   },
   "outputs": [],
   "source": [
    "physical_length_m = 10E-6\n",
    "resolution_m_per_pixel = 1.4949402023919043E-07\n",
    "size = 500\n",
    "min_mtb_area = 88\n",
    "window = 4"
   ]
  },
  {
   "cell_type": "code",
   "execution_count": 9,
   "id": "383f79ed-6999-4178-a26a-6df9113dc2d3",
   "metadata": {
    "scrolled": true
   },
   "outputs": [
    {
     "data": {
      "application/vnd.jupyter.widget-view+json": {
       "model_id": "bdbcb05d9cf4448c8debe7ade2f27087",
       "version_major": 2,
       "version_minor": 0
      },
      "text/plain": [
       "Iterating over top growth outliers:   0%|          | 0/1000 [00:00<?, ?it/s]"
      ]
     },
     "metadata": {},
     "output_type": "display_data"
    },
    {
     "name": "stdout",
     "output_type": "stream",
     "text": [
      "The following glimpses already exist for 624.5.5: ['/mnt/DATA/macrohet/results/glimpses/fast_grower_area_smoothed_graph/(5, 5)/624.5.5/ID_624.5.5_dt_28_outlying_growth_glimpse_graph.mp4']\n",
      "The following glimpses already exist for 280.3.5: ['/mnt/DATA/macrohet/results/glimpses/fast_grower_area_smoothed_graph/(3, 5)/280.3.5/ID_280.3.5_dt_24_outlying_growth_glimpse_graph.mp4']\n",
      "The following glimpses already exist for 105.3.5: ['/mnt/DATA/macrohet/results/glimpses/fast_grower_area_smoothed_graph/(3, 5)/105.3.5/ID_105.3.5_dt_13_outlying_growth_glimpse_graph.mp4']\n",
      "The following glimpses already exist for 11.4.5: ['/mnt/DATA/macrohet/results/glimpses/fast_grower_area_smoothed_graph/(4, 5)/11.4.5/ID_11.4.5_dt_1_outlying_growth_glimpse_graph.mp4']\n",
      "The following glimpses already exist for 169.6.5: ['/mnt/DATA/macrohet/results/glimpses/fast_grower_area_smoothed_graph/(6, 5)/169.6.5/ID_169.6.5_dt_19_outlying_growth_glimpse_graph.mp4']\n",
      "The following glimpses already exist for 381.5.5: ['/mnt/DATA/macrohet/results/glimpses/fast_grower_area_smoothed_graph/(5, 5)/381.5.5/ID_381.5.5_dt_7_outlying_growth_glimpse_graph.mp4']\n",
      "The following glimpses already exist for 254.4.5: ['/mnt/DATA/macrohet/results/glimpses/fast_grower_area_smoothed_graph/(4, 5)/254.4.5/ID_254.4.5_dt_2_outlying_growth_glimpse_graph.mp4']\n",
      "The following glimpses already exist for 376.5.5: ['/mnt/DATA/macrohet/results/glimpses/fast_grower_area_smoothed_graph/(5, 5)/376.5.5/ID_376.5.5_dt_17_outlying_growth_glimpse_graph.mp4']\n",
      "The following glimpses already exist for 492.6.5: ['/mnt/DATA/macrohet/results/glimpses/fast_grower_area_smoothed_graph/(6, 5)/492.6.5/ID_492.6.5_dt_25_outlying_growth_glimpse_graph.mp4']\n",
      "The following glimpses already exist for 289.3.5: ['/mnt/DATA/macrohet/results/glimpses/fast_grower_area_smoothed_graph/(3, 5)/289.3.5/ID_289.3.5_dt_21_outlying_growth_glimpse_graph.mp4']\n",
      "The following glimpses already exist for 985.3.8: ['/mnt/DATA/macrohet/results/glimpses/fast_grower_area_smoothed_graph/(3, 8)/985.3.8/ID_985.3.8_dt_1_outlying_growth_glimpse_graph.mp4']\n",
      "The following glimpses already exist for 707.5.4: ['/mnt/DATA/macrohet/results/glimpses/fast_grower_area_smoothed_graph/(5, 4)/707.5.4/ID_707.5.4_dt_2_outlying_growth_glimpse_graph.mp4']\n",
      "The following glimpses already exist for 1092.6.5: ['/mnt/DATA/macrohet/results/glimpses/fast_grower_area_smoothed_graph/(6, 5)/1092.6.5/ID_1092.6.5_dt_1_outlying_growth_glimpse_graph.mp4']\n",
      "The following glimpses already exist for 304.5.5: ['/mnt/DATA/macrohet/results/glimpses/fast_grower_area_smoothed_graph/(5, 5)/304.5.5/ID_304.5.5_dt_27_outlying_growth_glimpse_graph.mp4']\n",
      "The following glimpses already exist for 131.4.9: ['/mnt/DATA/macrohet/results/glimpses/fast_grower_area_smoothed_graph/(4, 9)/131.4.9/ID_131.4.9_dt_56_outlying_growth_glimpse_graph.mp4']\n",
      "The following glimpses already exist for 587.5.7: ['/mnt/DATA/macrohet/results/glimpses/fast_grower_area_smoothed_graph/(5, 7)/587.5.7/ID_587.5.7_dt_30_outlying_growth_glimpse_graph.mp4']\n",
      "The following glimpses already exist for 506.5.5: ['/mnt/DATA/macrohet/results/glimpses/fast_grower_area_smoothed_graph/(5, 5)/506.5.5/ID_506.5.5_dt_22_outlying_growth_glimpse_graph.mp4']\n",
      "The following glimpses already exist for 118.4.5: ['/mnt/DATA/macrohet/results/glimpses/fast_grower_area_smoothed_graph/(4, 5)/118.4.5/ID_118.4.5_dt_28_outlying_growth_glimpse_graph.mp4']\n",
      "The following glimpses already exist for 486.3.5: ['/mnt/DATA/macrohet/results/glimpses/fast_grower_area_smoothed_graph/(3, 5)/486.3.5/ID_486.3.5_dt_10_outlying_growth_glimpse_graph.mp4']\n",
      "The following glimpses already exist for 531.5.5: ['/mnt/DATA/macrohet/results/glimpses/fast_grower_area_smoothed_graph/(5, 5)/531.5.5/ID_531.5.5_dt_43_outlying_growth_glimpse_graph.mp4']\n",
      "The following glimpses already exist for 301.4.5: ['/mnt/DATA/macrohet/results/glimpses/fast_grower_area_smoothed_graph/(4, 5)/301.4.5/ID_301.4.5_dt_25_outlying_growth_glimpse_graph.mp4']\n",
      "The following glimpses already exist for 327.4.5: ['/mnt/DATA/macrohet/results/glimpses/fast_grower_area_smoothed_graph/(4, 5)/327.4.5/ID_327.4.5_dt_5_outlying_growth_glimpse_graph.mp4']\n",
      "The following glimpses already exist for 625.6.5: ['/mnt/DATA/macrohet/results/glimpses/fast_grower_area_smoothed_graph/(6, 5)/625.6.5/ID_625.6.5_dt_29_outlying_growth_glimpse_graph.mp4']\n",
      "The following glimpses already exist for 671.3.8: ['/mnt/DATA/macrohet/results/glimpses/fast_grower_area_smoothed_graph/(3, 8)/671.3.8/ID_671.3.8_dt_10_outlying_growth_glimpse_graph.mp4']\n",
      "The following glimpses already exist for 85.4.5: ['/mnt/DATA/macrohet/results/glimpses/fast_grower_area_smoothed_graph/(4, 5)/85.4.5/ID_85.4.5_dt_34_outlying_growth_glimpse_graph.mp4']\n",
      "The following glimpses already exist for 264.4.6: ['/mnt/DATA/macrohet/results/glimpses/fast_grower_area_smoothed_graph/(4, 6)/264.4.6/ID_264.4.6_dt_51_outlying_growth_glimpse_graph.mp4']\n",
      "The following glimpses already exist for 130.6.5: ['/mnt/DATA/macrohet/results/glimpses/fast_grower_area_smoothed_graph/(6, 5)/130.6.5/ID_130.6.5_dt_20_outlying_growth_glimpse_graph.mp4']\n",
      "The following glimpses already exist for 377.4.9: ['/mnt/DATA/macrohet/results/glimpses/fast_grower_area_smoothed_graph/(4, 9)/377.4.9/ID_377.4.9_dt_36_outlying_growth_glimpse_graph.mp4']\n",
      "The following glimpses already exist for 375.5.6: ['/mnt/DATA/macrohet/results/glimpses/fast_grower_area_smoothed_graph/(5, 6)/375.5.6/ID_375.5.6_outlying_growth_glimpse_graph.mp4']\n",
      "The following glimpses already exist for 161.5.6: ['/mnt/DATA/macrohet/results/glimpses/fast_grower_area_smoothed_graph/(5, 6)/161.5.6/ID_161.5.6_outlying_growth_glimpse_graph.mp4']\n",
      "The following glimpses already exist for 795.4.5: ['/mnt/DATA/macrohet/results/glimpses/fast_grower_area_smoothed_graph/(4, 5)/795.4.5/ID_795.4.5_dt_10_outlying_growth_glimpse_graph.mp4']\n",
      "The following glimpses already exist for 352.3.5: ['/mnt/DATA/macrohet/results/glimpses/fast_grower_area_smoothed_graph/(3, 5)/352.3.5/ID_352.3.5_dt_22_outlying_growth_glimpse_graph.mp4']\n",
      "The following glimpses already exist for 67.5.5: ['/mnt/DATA/macrohet/results/glimpses/fast_grower_area_smoothed_graph/(5, 5)/67.5.5/ID_67.5.5_dt_2_outlying_growth_glimpse_graph.mp4']\n",
      "The following glimpses already exist for 35.5.5: ['/mnt/DATA/macrohet/results/glimpses/fast_grower_area_smoothed_graph/(5, 5)/35.5.5/ID_35.5.5_dt_17_outlying_growth_glimpse_graph.mp4']\n",
      "The following glimpses already exist for 129.5.6: ['/mnt/DATA/macrohet/results/glimpses/fast_grower_area_smoothed_graph/(5, 6)/129.5.6/ID_129.5.6_dt_22_outlying_growth_glimpse_graph.mp4']\n",
      "The following glimpses already exist for 777.5.5: ['/mnt/DATA/macrohet/results/glimpses/fast_grower_area_smoothed_graph/(5, 5)/777.5.5/ID_777.5.5_dt_44_outlying_growth_glimpse_graph.mp4']\n",
      "The following glimpses already exist for 645.5.5: ['/mnt/DATA/macrohet/results/glimpses/fast_grower_area_smoothed_graph/(5, 5)/645.5.5/ID_645.5.5_dt_26_outlying_growth_glimpse_graph.mp4']\n",
      "The following glimpses already exist for 4.5.6: ['/mnt/DATA/macrohet/results/glimpses/fast_grower_area_smoothed_graph/(5, 6)/4.5.6/ID_4.5.6_dt_7_outlying_growth_glimpse_graph.mp4']\n",
      "The following glimpses already exist for 520.6.5: ['/mnt/DATA/macrohet/results/glimpses/fast_grower_area_smoothed_graph/(6, 5)/520.6.5/ID_520.6.5_dt_9_outlying_growth_glimpse_graph.mp4']\n",
      "The following glimpses already exist for 302.5.5: ['/mnt/DATA/macrohet/results/glimpses/fast_grower_area_smoothed_graph/(5, 5)/302.5.5/ID_302.5.5_dt_3_outlying_growth_glimpse_graph.mp4']\n",
      "The following glimpses already exist for 891.5.6: ['/mnt/DATA/macrohet/results/glimpses/fast_grower_area_smoothed_graph/(5, 6)/891.5.6/ID_891.5.6_dt_4_outlying_growth_glimpse_graph.mp4']\n",
      "The following glimpses already exist for 548.5.5: ['/mnt/DATA/macrohet/results/glimpses/fast_grower_area_smoothed_graph/(5, 5)/548.5.5/ID_548.5.5_dt_17_outlying_growth_glimpse_graph.mp4']\n",
      "The following glimpses already exist for 109.3.5: ['/mnt/DATA/macrohet/results/glimpses/fast_grower_area_smoothed_graph/(3, 5)/109.3.5/ID_109.3.5_dt_7_outlying_growth_glimpse_graph.mp4']\n",
      "The following glimpses already exist for 108.4.5: ['/mnt/DATA/macrohet/results/glimpses/fast_grower_area_smoothed_graph/(4, 5)/108.4.5/ID_108.4.5_dt_1_outlying_growth_glimpse_graph.mp4']\n",
      "The following glimpses already exist for 907.5.5: ['/mnt/DATA/macrohet/results/glimpses/fast_grower_area_smoothed_graph/(5, 5)/907.5.5/ID_907.5.5_dt_5_outlying_growth_glimpse_graph.mp4']\n",
      "The following glimpses already exist for 516.6.5: ['/mnt/DATA/macrohet/results/glimpses/fast_grower_area_smoothed_graph/(6, 5)/516.6.5/ID_516.6.5_dt_9_outlying_growth_glimpse_graph.mp4']\n",
      "The following glimpses already exist for 530.6.5: ['/mnt/DATA/macrohet/results/glimpses/fast_grower_area_smoothed_graph/(6, 5)/530.6.5/ID_530.6.5_outlying_growth_glimpse_graph.mp4']\n",
      "The following glimpses already exist for 345.4.9: ['/mnt/DATA/macrohet/results/glimpses/fast_grower_area_smoothed_graph/(4, 9)/345.4.9/ID_345.4.9_outlying_growth_glimpse_graph.mp4']\n",
      "The following glimpses already exist for 128.4.8: ['/mnt/DATA/macrohet/results/glimpses/fast_grower_area_smoothed_graph/(4, 8)/128.4.8/ID_128.4.8_outlying_growth_glimpse_graph.mp4']\n",
      "The following glimpses already exist for 525.5.5: ['/mnt/DATA/macrohet/results/glimpses/fast_grower_area_smoothed_graph/(5, 5)/525.5.5/ID_525.5.5_dt_20_outlying_growth_glimpse_graph.mp4']\n",
      "The following glimpses already exist for 299.5.5: ['/mnt/DATA/macrohet/results/glimpses/fast_grower_area_smoothed_graph/(5, 5)/299.5.5/ID_299.5.5_dt_5_outlying_growth_glimpse_graph.mp4']\n",
      "The following glimpses already exist for 701.6.5: ['/mnt/DATA/macrohet/results/glimpses/fast_grower_area_smoothed_graph/(6, 5)/701.6.5/ID_701.6.5_dt_12_outlying_growth_glimpse_graph.mp4']\n",
      "The following glimpses already exist for 1.6.5: ['/mnt/DATA/macrohet/results/glimpses/fast_grower_area_smoothed_graph/(6, 5)/1.6.5/ID_1.6.5_dt_10_outlying_growth_glimpse_graph.mp4']\n",
      "The following glimpses already exist for 537.3.5: ['/mnt/DATA/macrohet/results/glimpses/fast_grower_area_smoothed_graph/(3, 5)/537.3.5/ID_537.3.5_dt_9_outlying_growth_glimpse_graph.mp4']\n",
      "The following glimpses already exist for 586.3.5: ['/mnt/DATA/macrohet/results/glimpses/fast_grower_area_smoothed_graph/(3, 5)/586.3.5/ID_586.3.5_dt_12_outlying_growth_glimpse_graph.mp4']\n",
      "The following glimpses already exist for 181.4.6: ['/mnt/DATA/macrohet/results/glimpses/fast_grower_area_smoothed_graph/(4, 6)/181.4.6/ID_181.4.6_outlying_growth_glimpse_graph.mp4']\n",
      "The following glimpses already exist for 166.3.5: ['/mnt/DATA/macrohet/results/glimpses/fast_grower_area_smoothed_graph/(3, 5)/166.3.5/ID_166.3.5_outlying_growth_glimpse_graph.mp4']\n",
      "The following glimpses already exist for 423.3.5: ['/mnt/DATA/macrohet/results/glimpses/fast_grower_area_smoothed_graph/(3, 5)/423.3.5/ID_423.3.5_outlying_growth_glimpse_graph.mp4']\n",
      "The following glimpses already exist for 247.6.6: ['/mnt/DATA/macrohet/results/glimpses/fast_grower_area_smoothed_graph/(6, 6)/247.6.6/ID_247.6.6_outlying_growth_glimpse_graph.mp4']\n",
      "The following glimpses already exist for 839.3.8: ['/mnt/DATA/macrohet/results/glimpses/fast_grower_area_smoothed_graph/(3, 8)/839.3.8/ID_839.3.8_dt_3_outlying_growth_glimpse_graph.mp4']\n",
      "The following glimpses already exist for 258.5.5: ['/mnt/DATA/macrohet/results/glimpses/fast_grower_area_smoothed_graph/(5, 5)/258.5.5/ID_258.5.5_dt_11_outlying_growth_glimpse_graph.mp4']\n",
      "The following glimpses already exist for 318.4.6: ['/mnt/DATA/macrohet/results/glimpses/fast_grower_area_smoothed_graph/(4, 6)/318.4.6/ID_318.4.6_outlying_growth_glimpse_graph.mp4']\n",
      "The following glimpses already exist for 50.5.5: ['/mnt/DATA/macrohet/results/glimpses/fast_grower_area_smoothed_graph/(5, 5)/50.5.5/ID_50.5.5_dt_15_outlying_growth_glimpse_graph.mp4']\n",
      "The following glimpses already exist for 326.6.5: ['/mnt/DATA/macrohet/results/glimpses/fast_grower_area_smoothed_graph/(6, 5)/326.6.5/ID_326.6.5_dt_10_outlying_growth_glimpse_graph.mp4']\n",
      "The following glimpses already exist for 261.5.5: ['/mnt/DATA/macrohet/results/glimpses/fast_grower_area_smoothed_graph/(5, 5)/261.5.5/ID_261.5.5_dt_10_outlying_growth_glimpse_graph.mp4']\n",
      "The following glimpses already exist for 2.5.5: ['/mnt/DATA/macrohet/results/glimpses/fast_grower_area_smoothed_graph/(5, 5)/2.5.5/ID_2.5.5_dt_9_outlying_growth_glimpse_graph.mp4']\n",
      "The following glimpses already exist for 408.6.5: ['/mnt/DATA/macrohet/results/glimpses/fast_grower_area_smoothed_graph/(6, 5)/408.6.5/ID_408.6.5_dt_19_outlying_growth_glimpse_graph.mp4']\n",
      "The following glimpses already exist for 387.5.5: ['/mnt/DATA/macrohet/results/glimpses/fast_grower_area_smoothed_graph/(5, 5)/387.5.5/ID_387.5.5_dt_1_outlying_growth_glimpse_graph.mp4']\n",
      "The following glimpses already exist for 137.4.5: ['/mnt/DATA/macrohet/results/glimpses/fast_grower_area_smoothed_graph/(4, 5)/137.4.5/ID_137.4.5_dt_9_outlying_growth_glimpse_graph.mp4']\n",
      "The following glimpses already exist for 429.6.5: ['/mnt/DATA/macrohet/results/glimpses/fast_grower_area_smoothed_graph/(6, 5)/429.6.5/ID_429.6.5_outlying_growth_glimpse_graph.mp4']\n",
      "The following glimpses already exist for 281.3.5: ['/mnt/DATA/macrohet/results/glimpses/fast_grower_area_smoothed_graph/(3, 5)/281.3.5/ID_281.3.5_outlying_growth_glimpse_graph.mp4']\n",
      "The following glimpses already exist for 353.6.5: ['/mnt/DATA/macrohet/results/glimpses/fast_grower_area_smoothed_graph/(6, 5)/353.6.5/ID_353.6.5_dt_52_outlying_growth_glimpse_graph.mp4']\n",
      "The following glimpses already exist for 4.4.7: ['/mnt/DATA/macrohet/results/glimpses/fast_grower_area_smoothed_graph/(4, 7)/4.4.7/ID_4.4.7_dt_1_outlying_growth_glimpse_graph.mp4']\n",
      "The following glimpses already exist for 309.4.5: ['/mnt/DATA/macrohet/results/glimpses/fast_grower_area_smoothed_graph/(4, 5)/309.4.5/ID_309.4.5_outlying_growth_glimpse_graph.mp4']\n",
      "The following glimpses already exist for 904.4.5: ['/mnt/DATA/macrohet/results/glimpses/fast_grower_area_smoothed_graph/(4, 5)/904.4.5/ID_904.4.5_outlying_growth_glimpse_graph.mp4']\n",
      "The following glimpses already exist for 19.3.5: ['/mnt/DATA/macrohet/results/glimpses/fast_grower_area_smoothed_graph/(3, 5)/19.3.5/ID_19.3.5_outlying_growth_glimpse_graph.mp4']\n",
      "The following glimpses already exist for 240.5.9: ['/mnt/DATA/macrohet/results/glimpses/fast_grower_area_smoothed_graph/(5, 9)/240.5.9/ID_240.5.9_dt_21_outlying_growth_glimpse_graph.mp4']\n",
      "The following glimpses already exist for 653.3.8: ['/mnt/DATA/macrohet/results/glimpses/fast_grower_area_smoothed_graph/(3, 8)/653.3.8/ID_653.3.8_outlying_growth_glimpse_graph.mp4']\n",
      "The following glimpses already exist for 596.3.8: ['/mnt/DATA/macrohet/results/glimpses/fast_grower_area_smoothed_graph/(3, 8)/596.3.8/ID_596.3.8_outlying_growth_glimpse_graph.mp4']\n",
      "The following glimpses already exist for 554.4.5: ['/mnt/DATA/macrohet/results/glimpses/fast_grower_area_smoothed_graph/(4, 5)/554.4.5/ID_554.4.5_dt_34_outlying_growth_glimpse_graph.mp4']\n",
      "The following glimpses already exist for 360.5.5: ['/mnt/DATA/macrohet/results/glimpses/fast_grower_area_smoothed_graph/(5, 5)/360.5.5/ID_360.5.5_dt_1_outlying_growth_glimpse_graph.mp4']\n",
      "The following glimpses already exist for 257.6.5: ['/mnt/DATA/macrohet/results/glimpses/fast_grower_area_smoothed_graph/(6, 5)/257.6.5/ID_257.6.5_outlying_growth_glimpse_graph.mp4']\n",
      "The following glimpses already exist for 574.6.6: ['/mnt/DATA/macrohet/results/glimpses/fast_grower_area_smoothed_graph/(6, 6)/574.6.6/ID_574.6.6_outlying_growth_glimpse_graph.mp4']\n",
      "The following glimpses already exist for 97.4.6: ['/mnt/DATA/macrohet/results/glimpses/fast_grower_area_smoothed_graph/(4, 6)/97.4.6/ID_97.4.6_outlying_growth_glimpse_graph.mp4']\n",
      "The following glimpses already exist for 539.4.5: ['/mnt/DATA/macrohet/results/glimpses/fast_grower_area_smoothed_graph/(4, 5)/539.4.5/ID_539.4.5_dt_26_outlying_growth_glimpse_graph.mp4']\n",
      "The following glimpses already exist for 246.6.5: ['/mnt/DATA/macrohet/results/glimpses/fast_grower_area_smoothed_graph/(6, 5)/246.6.5/ID_246.6.5_dt_12_outlying_growth_glimpse_graph.mp4']\n",
      "The following glimpses already exist for 303.4.9: ['/mnt/DATA/macrohet/results/glimpses/fast_grower_area_smoothed_graph/(4, 9)/303.4.9/ID_303.4.9_dt_15_outlying_growth_glimpse_graph.mp4']\n",
      "The following glimpses already exist for 497.5.5: ['/mnt/DATA/macrohet/results/glimpses/fast_grower_area_smoothed_graph/(5, 5)/497.5.5/ID_497.5.5_outlying_growth_glimpse_graph.mp4']\n",
      "The following glimpses already exist for 1.4.9: ['/mnt/DATA/macrohet/results/glimpses/fast_grower_area_smoothed_graph/(4, 9)/1.4.9/ID_1.4.9_outlying_growth_glimpse_graph.mp4']\n",
      "The following glimpses already exist for 149.5.5: ['/mnt/DATA/macrohet/results/glimpses/fast_grower_area_smoothed_graph/(5, 5)/149.5.5/ID_149.5.5_dt_2_outlying_growth_glimpse_graph.mp4']\n",
      "The following glimpses already exist for 488.4.7: ['/mnt/DATA/macrohet/results/glimpses/fast_grower_area_smoothed_graph/(4, 7)/488.4.7/ID_488.4.7_outlying_growth_glimpse_graph.mp4']\n",
      "The following glimpses already exist for 83.3.5: ['/mnt/DATA/macrohet/results/glimpses/fast_grower_area_smoothed_graph/(3, 5)/83.3.5/ID_83.3.5_outlying_growth_glimpse_graph.mp4']\n",
      "The following glimpses already exist for 438.3.5: ['/mnt/DATA/macrohet/results/glimpses/fast_grower_area_smoothed_graph/(3, 5)/438.3.5/ID_438.3.5_dt_33_outlying_growth_glimpse_graph.mp4']\n",
      "The following glimpses already exist for 577.5.5: ['/mnt/DATA/macrohet/results/glimpses/fast_grower_area_smoothed_graph/(5, 5)/577.5.5/ID_577.5.5_dt_9_outlying_growth_glimpse_graph.mp4']\n",
      "The following glimpses already exist for 317.6.6: ['/mnt/DATA/macrohet/results/glimpses/fast_grower_area_smoothed_graph/(6, 6)/317.6.6/ID_317.6.6_dt_10_outlying_growth_glimpse_graph.mp4']\n",
      "The following glimpses already exist for 24.6.5: ['/mnt/DATA/macrohet/results/glimpses/fast_grower_area_smoothed_graph/(6, 5)/24.6.5/ID_24.6.5_dt_3_outlying_growth_glimpse_graph.mp4']\n",
      "The following glimpses already exist for 639.5.5: ['/mnt/DATA/macrohet/results/glimpses/fast_grower_area_smoothed_graph/(5, 5)/639.5.5/ID_639.5.5_dt_31_outlying_growth_glimpse_graph.mp4']\n",
      "The following glimpses already exist for 537.4.6: ['/mnt/DATA/macrohet/results/glimpses/fast_grower_area_smoothed_graph/(4, 6)/537.4.6/ID_537.4.6_dt_3_outlying_growth_glimpse_graph.mp4']\n",
      "The following glimpses already exist for 512.5.6: ['/mnt/DATA/macrohet/results/glimpses/fast_grower_area_smoothed_graph/(5, 6)/512.5.6/ID_512.5.6_outlying_growth_glimpse_graph.mp4']\n",
      "The following glimpses already exist for 501.3.5: ['/mnt/DATA/macrohet/results/glimpses/fast_grower_area_smoothed_graph/(3, 5)/501.3.5/ID_501.3.5_dt_13_outlying_growth_glimpse_graph.mp4']\n",
      "The following glimpses already exist for 372.4.5: ['/mnt/DATA/macrohet/results/glimpses/fast_grower_area_smoothed_graph/(4, 5)/372.4.5/ID_372.4.5_outlying_growth_glimpse_graph.mp4']\n",
      "The following glimpses already exist for 652.5.5: ['/mnt/DATA/macrohet/results/glimpses/fast_grower_area_smoothed_graph/(5, 5)/652.5.5/ID_652.5.5_dt_27_outlying_growth_glimpse_graph.mp4']\n",
      "The following glimpses already exist for 561.4.5: ['/mnt/DATA/macrohet/results/glimpses/fast_grower_area_smoothed_graph/(4, 5)/561.4.5/ID_561.4.5_dt_20_outlying_growth_glimpse_graph.mp4']\n",
      "The following glimpses already exist for 452.5.5: ['/mnt/DATA/macrohet/results/glimpses/fast_grower_area_smoothed_graph/(5, 5)/452.5.5/ID_452.5.5_outlying_growth_glimpse_graph.mp4']\n",
      "The following glimpses already exist for 557.6.5: ['/mnt/DATA/macrohet/results/glimpses/fast_grower_area_smoothed_graph/(6, 5)/557.6.5/ID_557.6.5_outlying_growth_glimpse_graph.mp4']\n",
      "The following glimpses already exist for 144.3.5: ['/mnt/DATA/macrohet/results/glimpses/fast_grower_area_smoothed_graph/(3, 5)/144.3.5/ID_144.3.5_outlying_growth_glimpse_graph.mp4']\n",
      "The following glimpses already exist for 739.5.5: ['/mnt/DATA/macrohet/results/glimpses/fast_grower_area_smoothed_graph/(5, 5)/739.5.5/ID_739.5.5_dt_25_outlying_growth_glimpse_graph.mp4']\n",
      "The following glimpses already exist for 477.3.5: ['/mnt/DATA/macrohet/results/glimpses/fast_grower_area_smoothed_graph/(3, 5)/477.3.5/ID_477.3.5_dt_34_outlying_growth_glimpse_graph.mp4']\n",
      "The following glimpses already exist for 8.5.5: ['/mnt/DATA/macrohet/results/glimpses/fast_grower_area_smoothed_graph/(5, 5)/8.5.5/ID_8.5.5_outlying_growth_glimpse_graph.mp4']\n",
      "The following glimpses already exist for 517.6.5: ['/mnt/DATA/macrohet/results/glimpses/fast_grower_area_smoothed_graph/(6, 5)/517.6.5/ID_517.6.5_outlying_growth_glimpse_graph.mp4']\n",
      "The following glimpses already exist for 255.4.5: ['/mnt/DATA/macrohet/results/glimpses/fast_grower_area_smoothed_graph/(4, 5)/255.4.5/ID_255.4.5_outlying_growth_glimpse_graph.mp4']\n",
      "The following glimpses already exist for 195.3.8: ['/mnt/DATA/macrohet/results/glimpses/fast_grower_area_smoothed_graph/(3, 8)/195.3.8/ID_195.3.8_outlying_growth_glimpse_graph.mp4']\n",
      "The following glimpses already exist for 264.3.9: ['/mnt/DATA/macrohet/results/glimpses/fast_grower_area_smoothed_graph/(3, 9)/264.3.9/ID_264.3.9_outlying_growth_glimpse_graph.mp4']\n",
      "The following glimpses already exist for 603.5.5: ['/mnt/DATA/macrohet/results/glimpses/fast_grower_area_smoothed_graph/(5, 5)/603.5.5/ID_603.5.5_outlying_growth_glimpse_graph.mp4']\n",
      "The following glimpses already exist for 586.6.5: ['/mnt/DATA/macrohet/results/glimpses/fast_grower_area_smoothed_graph/(6, 5)/586.6.5/ID_586.6.5_outlying_growth_glimpse_graph.mp4']\n",
      "The following glimpses already exist for 97.5.6: ['/mnt/DATA/macrohet/results/glimpses/fast_grower_area_smoothed_graph/(5, 6)/97.5.6/ID_97.5.6_outlying_growth_glimpse_graph.mp4']\n",
      "The following glimpses already exist for 621.4.5: ['/mnt/DATA/macrohet/results/glimpses/fast_grower_area_smoothed_graph/(4, 5)/621.4.5/ID_621.4.5_outlying_growth_glimpse_graph.mp4']\n",
      "The following glimpses already exist for 766.4.5: ['/mnt/DATA/macrohet/results/glimpses/fast_grower_area_smoothed_graph/(4, 5)/766.4.5/ID_766.4.5_outlying_growth_glimpse_graph.mp4']\n",
      "The following glimpses already exist for 515.3.5: ['/mnt/DATA/macrohet/results/glimpses/fast_grower_area_smoothed_graph/(3, 5)/515.3.5/ID_515.3.5_dt_14_outlying_growth_glimpse_graph.mp4']\n",
      "The following glimpses already exist for 952.5.5: ['/mnt/DATA/macrohet/results/glimpses/fast_grower_area_smoothed_graph/(5, 5)/952.5.5/ID_952.5.5_dt_16_outlying_growth_glimpse_graph.mp4']\n",
      "The following glimpses already exist for 466.6.5: ['/mnt/DATA/macrohet/results/glimpses/fast_grower_area_smoothed_graph/(6, 5)/466.6.5/ID_466.6.5_outlying_growth_glimpse_graph.mp4']\n",
      "The following glimpses already exist for 1027.6.5: ['/mnt/DATA/macrohet/results/glimpses/fast_grower_area_smoothed_graph/(6, 5)/1027.6.5/ID_1027.6.5_outlying_growth_glimpse_graph.mp4']\n",
      "The following glimpses already exist for 153.3.5: ['/mnt/DATA/macrohet/results/glimpses/fast_grower_area_smoothed_graph/(3, 5)/153.3.5/ID_153.3.5_outlying_growth_glimpse_graph.mp4']\n",
      "The following glimpses already exist for 719.3.4: ['/mnt/DATA/macrohet/results/glimpses/fast_grower_area_smoothed_graph/(3, 4)/719.3.4/ID_719.3.4_outlying_growth_glimpse_graph.mp4']\n",
      "The following glimpses already exist for 63.3.8: ['/mnt/DATA/macrohet/results/glimpses/fast_grower_area_smoothed_graph/(3, 8)/63.3.8/ID_63.3.8_outlying_growth_glimpse_graph.mp4']\n",
      "The following glimpses already exist for 336.4.6: ['/mnt/DATA/macrohet/results/glimpses/fast_grower_area_smoothed_graph/(4, 6)/336.4.6/ID_336.4.6_outlying_growth_glimpse_graph.mp4']\n",
      "The following glimpses already exist for 872.4.9: ['/mnt/DATA/macrohet/results/glimpses/fast_grower_area_smoothed_graph/(4, 9)/872.4.9/ID_872.4.9_outlying_growth_glimpse_graph.mp4']\n",
      "The following glimpses already exist for 581.3.6: ['/mnt/DATA/macrohet/results/glimpses/fast_grower_area_smoothed_graph/(3, 6)/581.3.6/ID_581.3.6_outlying_growth_glimpse_graph.mp4']\n",
      "The following glimpses already exist for 29.4.8: ['/mnt/DATA/macrohet/results/glimpses/fast_grower_area_smoothed_graph/(4, 8)/29.4.8/ID_29.4.8_outlying_growth_glimpse_graph.mp4']\n",
      "The following glimpses already exist for 400.4.9: ['/mnt/DATA/macrohet/results/glimpses/fast_grower_area_smoothed_graph/(4, 9)/400.4.9/ID_400.4.9_outlying_growth_glimpse_graph.mp4']\n",
      "The following glimpses already exist for 291.5.5: ['/mnt/DATA/macrohet/results/glimpses/fast_grower_area_smoothed_graph/(5, 5)/291.5.5/ID_291.5.5_dt_25_outlying_growth_glimpse_graph.mp4']\n",
      "The following glimpses already exist for 48.4.9: ['/mnt/DATA/macrohet/results/glimpses/fast_grower_area_smoothed_graph/(4, 9)/48.4.9/ID_48.4.9_outlying_growth_glimpse_graph.mp4']\n",
      "The following glimpses already exist for 713.4.5: ['/mnt/DATA/macrohet/results/glimpses/fast_grower_area_smoothed_graph/(4, 5)/713.4.5/ID_713.4.5_outlying_growth_glimpse_graph.mp4']\n",
      "The following glimpses already exist for 49.4.5: ['/mnt/DATA/macrohet/results/glimpses/fast_grower_area_smoothed_graph/(4, 5)/49.4.5/ID_49.4.5_outlying_growth_glimpse_graph.mp4']\n",
      "The following glimpses already exist for 363.4.6: ['/mnt/DATA/macrohet/results/glimpses/fast_grower_area_smoothed_graph/(4, 6)/363.4.6/ID_363.4.6_outlying_growth_glimpse_graph.mp4']\n",
      "The following glimpses already exist for 1024.6.5: ['/mnt/DATA/macrohet/results/glimpses/fast_grower_area_smoothed_graph/(6, 5)/1024.6.5/ID_1024.6.5_dt_10_outlying_growth_glimpse_graph.mp4']\n",
      "The following glimpses already exist for 43.6.5: ['/mnt/DATA/macrohet/results/glimpses/fast_grower_area_smoothed_graph/(6, 5)/43.6.5/ID_43.6.5_dt_34_outlying_growth_glimpse_graph.mp4']\n",
      "The following glimpses already exist for 727.4.5: ['/mnt/DATA/macrohet/results/glimpses/fast_grower_area_smoothed_graph/(4, 5)/727.4.5/ID_727.4.5_outlying_growth_glimpse_graph.mp4']\n",
      "The following glimpses already exist for 751.4.5: ['/mnt/DATA/macrohet/results/glimpses/fast_grower_area_smoothed_graph/(4, 5)/751.4.5/ID_751.4.5_outlying_growth_glimpse_graph.mp4']\n",
      "The following glimpses already exist for 539.3.5: ['/mnt/DATA/macrohet/results/glimpses/fast_grower_area_smoothed_graph/(3, 5)/539.3.5/ID_539.3.5_outlying_growth_glimpse_graph.mp4']\n",
      "The following glimpses already exist for 128.5.5: ['/mnt/DATA/macrohet/results/glimpses/fast_grower_area_smoothed_graph/(5, 5)/128.5.5/ID_128.5.5_outlying_growth_glimpse_graph.mp4']\n",
      "The following glimpses already exist for 342.4.9: ['/mnt/DATA/macrohet/results/glimpses/fast_grower_area_smoothed_graph/(4, 9)/342.4.9/ID_342.4.9_outlying_growth_glimpse_graph.mp4']\n",
      "The following glimpses already exist for 593.3.9: ['/mnt/DATA/macrohet/results/glimpses/fast_grower_area_smoothed_graph/(3, 9)/593.3.9/ID_593.3.9_outlying_growth_glimpse_graph.mp4']\n",
      "The following glimpses already exist for 211.5.5: ['/mnt/DATA/macrohet/results/glimpses/fast_grower_area_smoothed_graph/(5, 5)/211.5.5/ID_211.5.5_outlying_growth_glimpse_graph.mp4']\n",
      "The following glimpses already exist for 598.5.7: ['/mnt/DATA/macrohet/results/glimpses/fast_grower_area_smoothed_graph/(5, 7)/598.5.7/ID_598.5.7_outlying_growth_glimpse_graph.mp4']\n",
      "The following glimpses already exist for 481.4.5: ['/mnt/DATA/macrohet/results/glimpses/fast_grower_area_smoothed_graph/(4, 5)/481.4.5/ID_481.4.5_outlying_growth_glimpse_graph.mp4']\n",
      "The following glimpses already exist for 615.4.7: ['/mnt/DATA/macrohet/results/glimpses/fast_grower_area_smoothed_graph/(4, 7)/615.4.7/ID_615.4.7_outlying_growth_glimpse_graph.mp4']\n",
      "The following glimpses already exist for 656.3.5: ['/mnt/DATA/macrohet/results/glimpses/fast_grower_area_smoothed_graph/(3, 5)/656.3.5/ID_656.3.5_outlying_growth_glimpse_graph.mp4']\n",
      "The following glimpses already exist for 849.5.5: ['/mnt/DATA/macrohet/results/glimpses/fast_grower_area_smoothed_graph/(5, 5)/849.5.5/ID_849.5.5_outlying_growth_glimpse_graph.mp4']\n",
      "The following glimpses already exist for 164.4.5: ['/mnt/DATA/macrohet/results/glimpses/fast_grower_area_smoothed_graph/(4, 5)/164.4.5/ID_164.4.5_outlying_growth_glimpse_graph.mp4']\n",
      "The following glimpses already exist for 737.5.6: ['/mnt/DATA/macrohet/results/glimpses/fast_grower_area_smoothed_graph/(5, 6)/737.5.6/ID_737.5.6_dt_1_outlying_growth_glimpse_graph.mp4']\n",
      "The following glimpses already exist for 391.6.5: ['/mnt/DATA/macrohet/results/glimpses/fast_grower_area_smoothed_graph/(6, 5)/391.6.5/ID_391.6.5_dt_13_outlying_growth_glimpse_graph.mp4']\n",
      "The following glimpses already exist for 403.3.6: ['/mnt/DATA/macrohet/results/glimpses/fast_grower_area_smoothed_graph/(3, 6)/403.3.6/ID_403.3.6_outlying_growth_glimpse_graph.mp4']\n",
      "The following glimpses already exist for 504.3.9: ['/mnt/DATA/macrohet/results/glimpses/fast_grower_area_smoothed_graph/(3, 9)/504.3.9/ID_504.3.9_outlying_growth_glimpse_graph.mp4']\n",
      "The following glimpses already exist for 188.6.6: ['/mnt/DATA/macrohet/results/glimpses/fast_grower_area_smoothed_graph/(6, 6)/188.6.6/ID_188.6.6_outlying_growth_glimpse_graph.mp4']\n",
      "The following glimpses already exist for 118.3.6: ['/mnt/DATA/macrohet/results/glimpses/fast_grower_area_smoothed_graph/(3, 6)/118.3.6/ID_118.3.6_outlying_growth_glimpse_graph.mp4']\n",
      "The following glimpses already exist for 613.4.5: ['/mnt/DATA/macrohet/results/glimpses/fast_grower_area_smoothed_graph/(4, 5)/613.4.5/ID_613.4.5_outlying_growth_glimpse_graph.mp4']\n",
      "The following glimpses already exist for 232.4.9: ['/mnt/DATA/macrohet/results/glimpses/fast_grower_area_smoothed_graph/(4, 9)/232.4.9/ID_232.4.9_outlying_growth_glimpse_graph.mp4']\n",
      "The following glimpses already exist for 504.4.9: ['/mnt/DATA/macrohet/results/glimpses/fast_grower_area_smoothed_graph/(4, 9)/504.4.9/ID_504.4.9_outlying_growth_glimpse_graph.mp4']\n",
      "The following glimpses already exist for 261.3.9: ['/mnt/DATA/macrohet/results/glimpses/fast_grower_area_smoothed_graph/(3, 9)/261.3.9/ID_261.3.9_outlying_growth_glimpse_graph.mp4']\n",
      "The following glimpses already exist for 238.4.5: ['/mnt/DATA/macrohet/results/glimpses/fast_grower_area_smoothed_graph/(4, 5)/238.4.5/ID_238.4.5_outlying_growth_glimpse_graph.mp4']\n",
      "The following glimpses already exist for 128.3.5: ['/mnt/DATA/macrohet/results/glimpses/fast_grower_area_smoothed_graph/(3, 5)/128.3.5/ID_128.3.5_outlying_growth_glimpse_graph.mp4']\n",
      "The following glimpses already exist for 467.5.5: ['/mnt/DATA/macrohet/results/glimpses/fast_grower_area_smoothed_graph/(5, 5)/467.5.5/ID_467.5.5_outlying_growth_glimpse_graph.mp4']\n",
      "The following glimpses already exist for 262.6.5: ['/mnt/DATA/macrohet/results/glimpses/fast_grower_area_smoothed_graph/(6, 5)/262.6.5/ID_262.6.5_dt_27_outlying_growth_glimpse_graph.mp4']\n",
      "The following glimpses already exist for 65.6.5: ['/mnt/DATA/macrohet/results/glimpses/fast_grower_area_smoothed_graph/(6, 5)/65.6.5/ID_65.6.5_outlying_growth_glimpse_graph.mp4']\n",
      "The following glimpses already exist for 133.5.5: ['/mnt/DATA/macrohet/results/glimpses/fast_grower_area_smoothed_graph/(5, 5)/133.5.5/ID_133.5.5_dt_19_outlying_growth_glimpse_graph.mp4']\n",
      "The following glimpses already exist for 718.3.8: ['/mnt/DATA/macrohet/results/glimpses/fast_grower_area_smoothed_graph/(3, 8)/718.3.8/ID_718.3.8_outlying_growth_glimpse_graph.mp4']\n",
      "The following glimpses already exist for 610.4.6: ['/mnt/DATA/macrohet/results/glimpses/fast_grower_area_smoothed_graph/(4, 6)/610.4.6/ID_610.4.6_outlying_growth_glimpse_graph.mp4']\n",
      "The following glimpses already exist for 777.6.6: ['/mnt/DATA/macrohet/results/glimpses/fast_grower_area_smoothed_graph/(6, 6)/777.6.6/ID_777.6.6_outlying_growth_glimpse_graph.mp4']\n",
      "The following glimpses already exist for 37.3.5: ['/mnt/DATA/macrohet/results/glimpses/fast_grower_area_smoothed_graph/(3, 5)/37.3.5/ID_37.3.5_outlying_growth_glimpse_graph.mp4']\n",
      "The following glimpses already exist for 434.6.5: ['/mnt/DATA/macrohet/results/glimpses/fast_grower_area_smoothed_graph/(6, 5)/434.6.5/ID_434.6.5_outlying_growth_glimpse_graph.mp4']\n",
      "The following glimpses already exist for 50.4.5: ['/mnt/DATA/macrohet/results/glimpses/fast_grower_area_smoothed_graph/(4, 5)/50.4.5/ID_50.4.5_dt_24_outlying_growth_glimpse_graph.mp4']\n",
      "The following glimpses already exist for 323.4.9: ['/mnt/DATA/macrohet/results/glimpses/fast_grower_area_smoothed_graph/(4, 9)/323.4.9/ID_323.4.9_outlying_growth_glimpse_graph.mp4']\n",
      "The following glimpses already exist for 101.4.7: ['/mnt/DATA/macrohet/results/glimpses/fast_grower_area_smoothed_graph/(4, 7)/101.4.7/ID_101.4.7_outlying_growth_glimpse_graph.mp4']\n",
      "The following glimpses already exist for 544.6.5: ['/mnt/DATA/macrohet/results/glimpses/fast_grower_area_smoothed_graph/(6, 5)/544.6.5/ID_544.6.5_outlying_growth_glimpse_graph.mp4']\n",
      "The following glimpses already exist for 381.4.9: ['/mnt/DATA/macrohet/results/glimpses/fast_grower_area_smoothed_graph/(4, 9)/381.4.9/ID_381.4.9_outlying_growth_glimpse_graph.mp4']\n",
      "The following glimpses already exist for 514.6.6: ['/mnt/DATA/macrohet/results/glimpses/fast_grower_area_smoothed_graph/(6, 6)/514.6.6/ID_514.6.6_outlying_growth_glimpse_graph.mp4']\n",
      "The following glimpses already exist for 649.5.6: ['/mnt/DATA/macrohet/results/glimpses/fast_grower_area_smoothed_graph/(5, 6)/649.5.6/ID_649.5.6_outlying_growth_glimpse_graph.mp4']\n",
      "The following glimpses already exist for 349.4.6: ['/mnt/DATA/macrohet/results/glimpses/fast_grower_area_smoothed_graph/(4, 6)/349.4.6/ID_349.4.6_outlying_growth_glimpse_graph.mp4']\n",
      "The following glimpses already exist for 636.4.5: ['/mnt/DATA/macrohet/results/glimpses/fast_grower_area_smoothed_graph/(4, 5)/636.4.5/ID_636.4.5_outlying_growth_glimpse_graph.mp4']\n",
      "The following glimpses already exist for 337.3.6: ['/mnt/DATA/macrohet/results/glimpses/fast_grower_area_smoothed_graph/(3, 6)/337.3.6/ID_337.3.6_outlying_growth_glimpse_graph.mp4']\n",
      "The following glimpses already exist for 464.4.5: ['/mnt/DATA/macrohet/results/glimpses/fast_grower_area_smoothed_graph/(4, 5)/464.4.5/ID_464.4.5_dt_24_outlying_growth_glimpse_graph.mp4']\n",
      "The following glimpses already exist for 658.3.7: ['/mnt/DATA/macrohet/results/glimpses/fast_grower_area_smoothed_graph/(3, 7)/658.3.7/ID_658.3.7_dt_14_outlying_growth_glimpse_graph.mp4']\n",
      "The following glimpses already exist for 578.3.5: ['/mnt/DATA/macrohet/results/glimpses/fast_grower_area_smoothed_graph/(3, 5)/578.3.5/ID_578.3.5_outlying_growth_glimpse_graph.mp4']\n",
      "The following glimpses already exist for 51.3.5: ['/mnt/DATA/macrohet/results/glimpses/fast_grower_area_smoothed_graph/(3, 5)/51.3.5/ID_51.3.5_dt_2_outlying_growth_glimpse_graph.mp4']\n",
      "The following glimpses already exist for 602.4.5: ['/mnt/DATA/macrohet/results/glimpses/fast_grower_area_smoothed_graph/(4, 5)/602.4.5/ID_602.4.5_outlying_growth_glimpse_graph.mp4']\n",
      "The following glimpses already exist for 492.3.5: ['/mnt/DATA/macrohet/results/glimpses/fast_grower_area_smoothed_graph/(3, 5)/492.3.5/ID_492.3.5_outlying_growth_glimpse_graph.mp4']\n",
      "The following glimpses already exist for 40.6.5: ['/mnt/DATA/macrohet/results/glimpses/fast_grower_area_smoothed_graph/(6, 5)/40.6.5/ID_40.6.5_dt_10_outlying_growth_glimpse_graph.mp4']\n",
      "The following glimpses already exist for 418.4.8: ['/mnt/DATA/macrohet/results/glimpses/fast_grower_area_smoothed_graph/(4, 8)/418.4.8/ID_418.4.8_outlying_growth_glimpse_graph.mp4']\n",
      "The following glimpses already exist for 297.3.8: ['/mnt/DATA/macrohet/results/glimpses/fast_grower_area_smoothed_graph/(3, 8)/297.3.8/ID_297.3.8_outlying_growth_glimpse_graph.mp4']\n",
      "The following glimpses already exist for 204.6.6: ['/mnt/DATA/macrohet/results/glimpses/fast_grower_area_smoothed_graph/(6, 6)/204.6.6/ID_204.6.6_outlying_growth_glimpse_graph.mp4']\n",
      "The following glimpses already exist for 209.3.9: ['/mnt/DATA/macrohet/results/glimpses/fast_grower_area_smoothed_graph/(3, 9)/209.3.9/ID_209.3.9_outlying_growth_glimpse_graph.mp4']\n",
      "The following glimpses already exist for 477.5.5: ['/mnt/DATA/macrohet/results/glimpses/fast_grower_area_smoothed_graph/(5, 5)/477.5.5/ID_477.5.5_dt_19_outlying_growth_glimpse_graph.mp4']\n",
      "The following glimpses already exist for 151.4.4: ['/mnt/DATA/macrohet/results/glimpses/fast_grower_area_smoothed_graph/(4, 4)/151.4.4/ID_151.4.4_outlying_growth_glimpse_graph.mp4']\n",
      "The following glimpses already exist for 664.3.4: ['/mnt/DATA/macrohet/results/glimpses/fast_grower_area_smoothed_graph/(3, 4)/664.3.4/ID_664.3.4_outlying_growth_glimpse_graph.mp4']\n",
      "The following glimpses already exist for 1051.6.5: ['/mnt/DATA/macrohet/results/glimpses/fast_grower_area_smoothed_graph/(6, 5)/1051.6.5/ID_1051.6.5_outlying_growth_glimpse_graph.mp4']\n",
      "The following glimpses already exist for 792.3.8: ['/mnt/DATA/macrohet/results/glimpses/fast_grower_area_smoothed_graph/(3, 8)/792.3.8/ID_792.3.8_dt_39_outlying_growth_glimpse_graph.mp4']\n",
      "The following glimpses already exist for 130.4.8: ['/mnt/DATA/macrohet/results/glimpses/fast_grower_area_smoothed_graph/(4, 8)/130.4.8/ID_130.4.8_outlying_growth_glimpse_graph.mp4']\n",
      "The following glimpses already exist for 923.6.5: ['/mnt/DATA/macrohet/results/glimpses/fast_grower_area_smoothed_graph/(6, 5)/923.6.5/ID_923.6.5_outlying_growth_glimpse_graph.mp4']\n",
      "The following glimpses already exist for 16.5.6: ['/mnt/DATA/macrohet/results/glimpses/fast_grower_area_smoothed_graph/(5, 6)/16.5.6/ID_16.5.6_outlying_growth_glimpse_graph.mp4']\n",
      "The following glimpses already exist for 178.3.5: ['/mnt/DATA/macrohet/results/glimpses/fast_grower_area_smoothed_graph/(3, 5)/178.3.5/ID_178.3.5_outlying_growth_glimpse_graph.mp4']\n",
      "The following glimpses already exist for 48.4.5: ['/mnt/DATA/macrohet/results/glimpses/fast_grower_area_smoothed_graph/(4, 5)/48.4.5/ID_48.4.5_dt_25_outlying_growth_glimpse_graph.mp4']\n",
      "The following glimpses already exist for 767.6.8: ['/mnt/DATA/macrohet/results/glimpses/fast_grower_area_smoothed_graph/(6, 8)/767.6.8/ID_767.6.8_dt_8_outlying_growth_glimpse_graph.mp4']\n",
      "The following glimpses already exist for 549.5.8: ['/mnt/DATA/macrohet/results/glimpses/fast_grower_area_smoothed_graph/(5, 8)/549.5.8/ID_549.5.8_outlying_growth_glimpse_graph.mp4']\n",
      "The following glimpses already exist for 634.3.8: ['/mnt/DATA/macrohet/results/glimpses/fast_grower_area_smoothed_graph/(3, 8)/634.3.8/ID_634.3.8_outlying_growth_glimpse_graph.mp4']\n",
      "The following glimpses already exist for 71.4.5: ['/mnt/DATA/macrohet/results/glimpses/fast_grower_area_smoothed_graph/(4, 5)/71.4.5/ID_71.4.5_dt_20_outlying_growth_glimpse_graph.mp4']\n",
      "The following glimpses already exist for 638.5.6: ['/mnt/DATA/macrohet/results/glimpses/fast_grower_area_smoothed_graph/(5, 6)/638.5.6/ID_638.5.6_outlying_growth_glimpse_graph.mp4']\n",
      "The following glimpses already exist for 612.4.5: ['/mnt/DATA/macrohet/results/glimpses/fast_grower_area_smoothed_graph/(4, 5)/612.4.5/ID_612.4.5_outlying_growth_glimpse_graph.mp4']\n",
      "The following glimpses already exist for 664.5.5: ['/mnt/DATA/macrohet/results/glimpses/fast_grower_area_smoothed_graph/(5, 5)/664.5.5/ID_664.5.5_outlying_growth_glimpse_graph.mp4']\n",
      "The following glimpses already exist for 465.3.5: ['/mnt/DATA/macrohet/results/glimpses/fast_grower_area_smoothed_graph/(3, 5)/465.3.5/ID_465.3.5_outlying_growth_glimpse_graph.mp4']\n",
      "The following glimpses already exist for 543.4.5: ['/mnt/DATA/macrohet/results/glimpses/fast_grower_area_smoothed_graph/(4, 5)/543.4.5/ID_543.4.5_dt_25_outlying_growth_glimpse_graph.mp4']\n",
      "The following glimpses already exist for 248.3.7: ['/mnt/DATA/macrohet/results/glimpses/fast_grower_area_smoothed_graph/(3, 7)/248.3.7/ID_248.3.7_outlying_growth_glimpse_graph.mp4']\n",
      "The following glimpses already exist for 374.5.5: ['/mnt/DATA/macrohet/results/glimpses/fast_grower_area_smoothed_graph/(5, 5)/374.5.5/ID_374.5.5_outlying_growth_glimpse_graph.mp4']\n",
      "The following glimpses already exist for 440.5.8: ['/mnt/DATA/macrohet/results/glimpses/fast_grower_area_smoothed_graph/(5, 8)/440.5.8/ID_440.5.8_outlying_growth_glimpse_graph.mp4']\n",
      "The following glimpses already exist for 400.4.5: ['/mnt/DATA/macrohet/results/glimpses/fast_grower_area_smoothed_graph/(4, 5)/400.4.5/ID_400.4.5_outlying_growth_glimpse_graph.mp4']\n",
      "The following glimpses already exist for 398.6.6: ['/mnt/DATA/macrohet/results/glimpses/fast_grower_area_smoothed_graph/(6, 6)/398.6.6/ID_398.6.6_outlying_growth_glimpse_graph.mp4']\n",
      "The following glimpses already exist for 731.6.5: ['/mnt/DATA/macrohet/results/glimpses/fast_grower_area_smoothed_graph/(6, 5)/731.6.5/ID_731.6.5_outlying_growth_glimpse_graph.mp4']\n",
      "The following glimpses already exist for 278.4.4: ['/mnt/DATA/macrohet/results/glimpses/fast_grower_area_smoothed_graph/(4, 4)/278.4.4/ID_278.4.4_outlying_growth_glimpse_graph.mp4']\n",
      "The following glimpses already exist for 565.3.5: ['/mnt/DATA/macrohet/results/glimpses/fast_grower_area_smoothed_graph/(3, 5)/565.3.5/ID_565.3.5_outlying_growth_glimpse_graph.mp4']\n",
      "The following glimpses already exist for 368.6.5: ['/mnt/DATA/macrohet/results/glimpses/fast_grower_area_smoothed_graph/(6, 5)/368.6.5/ID_368.6.5_dt_48_outlying_growth_glimpse_graph.mp4']\n",
      "The following glimpses already exist for 426.4.8: ['/mnt/DATA/macrohet/results/glimpses/fast_grower_area_smoothed_graph/(4, 8)/426.4.8/ID_426.4.8_outlying_growth_glimpse_graph.mp4']\n",
      "The following glimpses already exist for 389.6.5: ['/mnt/DATA/macrohet/results/glimpses/fast_grower_area_smoothed_graph/(6, 5)/389.6.5/ID_389.6.5_outlying_growth_glimpse_graph.mp4']\n",
      "The following glimpses already exist for 677.5.5: ['/mnt/DATA/macrohet/results/glimpses/fast_grower_area_smoothed_graph/(5, 5)/677.5.5/ID_677.5.5_outlying_growth_glimpse_graph.mp4']\n",
      "The following glimpses already exist for 601.4.5: ['/mnt/DATA/macrohet/results/glimpses/fast_grower_area_smoothed_graph/(4, 5)/601.4.5/ID_601.4.5_dt_4_outlying_growth_glimpse_graph.mp4']\n",
      "The following glimpses already exist for 619.5.5: ['/mnt/DATA/macrohet/results/glimpses/fast_grower_area_smoothed_graph/(5, 5)/619.5.5/ID_619.5.5_dt_25_outlying_growth_glimpse_graph.mp4']\n",
      "The following glimpses already exist for 62.6.6: ['/mnt/DATA/macrohet/results/glimpses/fast_grower_area_smoothed_graph/(6, 6)/62.6.6/ID_62.6.6_outlying_growth_glimpse_graph.mp4']\n",
      "The following glimpses already exist for 487.4.9: ['/mnt/DATA/macrohet/results/glimpses/fast_grower_area_smoothed_graph/(4, 9)/487.4.9/ID_487.4.9_outlying_growth_glimpse_graph.mp4']\n",
      "The following glimpses already exist for 15.3.5: ['/mnt/DATA/macrohet/results/glimpses/fast_grower_area_smoothed_graph/(3, 5)/15.3.5/ID_15.3.5_outlying_growth_glimpse_graph.mp4']\n",
      "The following glimpses already exist for 179.4.9: ['/mnt/DATA/macrohet/results/glimpses/fast_grower_area_smoothed_graph/(4, 9)/179.4.9/ID_179.4.9_dt_24_outlying_growth_glimpse_graph.mp4']\n",
      "The following glimpses already exist for 242.3.9: ['/mnt/DATA/macrohet/results/glimpses/fast_grower_area_smoothed_graph/(3, 9)/242.3.9/ID_242.3.9_outlying_growth_glimpse_graph.mp4']\n",
      "The following glimpses already exist for 17.4.5: ['/mnt/DATA/macrohet/results/glimpses/fast_grower_area_smoothed_graph/(4, 5)/17.4.5/ID_17.4.5_dt_1_outlying_growth_glimpse_graph.mp4']\n",
      "The following glimpses already exist for 120.5.4: ['/mnt/DATA/macrohet/results/glimpses/fast_grower_area_smoothed_graph/(5, 4)/120.5.4/ID_120.5.4_dt_45_outlying_growth_glimpse_graph.mp4']\n",
      "The following glimpses already exist for 361.3.5: ['/mnt/DATA/macrohet/results/glimpses/fast_grower_area_smoothed_graph/(3, 5)/361.3.5/ID_361.3.5_outlying_growth_glimpse_graph.mp4']\n",
      "The following glimpses already exist for 272.3.5: ['/mnt/DATA/macrohet/results/glimpses/fast_grower_area_smoothed_graph/(3, 5)/272.3.5/ID_272.3.5_outlying_growth_glimpse_graph.mp4']\n",
      "The following glimpses already exist for 353.4.5: ['/mnt/DATA/macrohet/results/glimpses/fast_grower_area_smoothed_graph/(4, 5)/353.4.5/ID_353.4.5_outlying_growth_glimpse_graph.mp4']\n",
      "The following glimpses already exist for 112.6.5: ['/mnt/DATA/macrohet/results/glimpses/fast_grower_area_smoothed_graph/(6, 5)/112.6.5/ID_112.6.5_outlying_growth_glimpse_graph.mp4']\n",
      "The following glimpses already exist for 247.6.5: ['/mnt/DATA/macrohet/results/glimpses/fast_grower_area_smoothed_graph/(6, 5)/247.6.5/ID_247.6.5_outlying_growth_glimpse_graph.mp4']\n",
      "Generating glimpse\n"
     ]
    },
    {
     "data": {
      "application/vnd.jupyter.widget-view+json": {
       "model_id": "6fa4de8fcbf142e5b93f189e836c4113",
       "version_major": 2,
       "version_minor": 0
      },
      "text/plain": [
       "Creating glimpse ID: ((5, 5), 95):   0%|          | 0/75 [00:00<?, ?it/s]"
      ]
     },
     "metadata": {},
     "output_type": "display_data"
    },
    {
     "name": "stderr",
     "output_type": "stream",
     "text": [
      "[INFO][2023/12/06 12:12:17 PM] Opening HDF file: /mnt/DATA/macrohet/labels/PS0000/macrohet_seg_model/(5, 5).h5...\n",
      "INFO:btrack.io.hdf:Opening HDF file: /mnt/DATA/macrohet/labels/PS0000/macrohet_seg_model/(5, 5).h5...\n",
      "[INFO][2023/12/06 12:12:35 PM] Loading segmentation (75, 6048, 6048)\n",
      "INFO:btrack.io.hdf:Loading segmentation (75, 6048, 6048)\n",
      "[INFO][2023/12/06 12:12:35 PM] Closing HDF file: /mnt/DATA/macrohet/labels/PS0000/macrohet_seg_model/(5, 5).h5\n",
      "INFO:btrack.io.hdf:Closing HDF file: /mnt/DATA/macrohet/labels/PS0000/macrohet_seg_model/(5, 5).h5\n"
     ]
    },
    {
     "data": {
      "application/vnd.jupyter.widget-view+json": {
       "model_id": "cb03e39dddd0484eb6e60f2a6aad9534",
       "version_major": 2,
       "version_minor": 0
      },
      "text/plain": [
       "Creating mask glimpse ID: ((5, 5), 95):   0%|          | 0/75 [00:00<?, ?it/s]"
      ]
     },
     "metadata": {},
     "output_type": "display_data"
    },
    {
     "data": {
      "application/vnd.jupyter.widget-view+json": {
       "model_id": "a9dffa36d7a84b9ab75e40a9ea8df9cb",
       "version_major": 2,
       "version_minor": 0
      },
      "text/plain": [
       "Extracting mtb area over each frame: ((5, 5), 95):   0%|          | 0/75 [00:00<?, ?it/s]"
      ]
     },
     "metadata": {},
     "output_type": "display_data"
    },
    {
     "data": {
      "application/vnd.jupyter.widget-view+json": {
       "model_id": "d97d5a162e7b4228be3f4987651e144a",
       "version_major": 2,
       "version_minor": 0
      },
      "text/plain": [
       "Saving out single frames:   0%|          | 0/75 [00:00<?, ?it/s]"
      ]
     },
     "metadata": {},
     "output_type": "display_data"
    },
    {
     "name": "stdout",
     "output_type": "stream",
     "text": [
      "No doubling found in the provided data.\n",
      "No doubling found in the provided data.\n",
      "No doubling found in the provided data.\n",
      "No doubling found in the provided data.\n",
      "No doubling found in the provided data.\n",
      "No doubling found in the provided data.\n",
      "No doubling found in the provided data.\n",
      "No doubling found in the provided data.\n",
      "No doubling found in the provided data.\n",
      "No doubling found in the provided data.\n",
      "No doubling found in the provided data.\n",
      "No doubling found in the provided data.\n",
      "No doubling found in the provided data.\n",
      "No doubling found in the provided data.\n",
      "No doubling found in the provided data.\n",
      "No doubling found in the provided data.\n",
      "No doubling found in the provided data.\n",
      "No doubling found in the provided data.\n",
      "No doubling found in the provided data.\n",
      "No doubling found in the provided data.\n"
     ]
    },
    {
     "name": "stderr",
     "output_type": "stream",
     "text": [
      "/tmp/ipykernel_2689215/2062316624.py:114: RuntimeWarning: More than 20 figures have been opened. Figures created through the pyplot interface (`matplotlib.pyplot.figure`) are retained until explicitly closed and may consume too much memory. (To control this warning, see the rcParam `figure.max_open_warning`). Consider using `matplotlib.pyplot.close()`.\n",
      "  fig, ax1 = plt.subplots(figsize=(10, 4))\n"
     ]
    },
    {
     "name": "stdout",
     "output_type": "stream",
     "text": [
      "No doubling found in the provided data.\n",
      "No doubling found in the provided data.\n",
      "No doubling found in the provided data.\n",
      "No doubling found in the provided data.\n",
      "No doubling found in the provided data.\n",
      "No doubling found in the provided data.\n",
      "No doubling found in the provided data.\n",
      "No doubling found in the provided data.\n",
      "No doubling found in the provided data.\n",
      "No doubling found in the provided data.\n",
      "No doubling found in the provided data.\n",
      "No doubling found in the provided data.\n",
      "No doubling found in the provided data.\n",
      "No doubling found in the provided data.\n",
      "No doubling found in the provided data.\n",
      "No doubling found in the provided data.\n",
      "No doubling found in the provided data.\n",
      "No doubling found in the provided data.\n",
      "No doubling found in the provided data.\n",
      "No doubling found in the provided data.\n",
      "No doubling found in the provided data.\n",
      "No doubling found in the provided data.\n",
      "No doubling found in the provided data.\n",
      "No doubling found in the provided data.\n",
      "No doubling found in the provided data.\n",
      "No doubling found in the provided data.\n",
      "No doubling found in the provided data.\n",
      "No doubling found in the provided data.\n",
      "No doubling found in the provided data.\n",
      "No doubling found in the provided data.\n",
      "No doubling found in the provided data.\n",
      "No doubling found in the provided data.\n",
      "No doubling found in the provided data.\n",
      "No doubling found in the provided data.\n",
      "No doubling found in the provided data.\n",
      "No doubling found in the provided data.\n",
      "No doubling found in the provided data.\n",
      "No doubling found in the provided data.\n",
      "No doubling found in the provided data.\n",
      "No doubling found in the provided data.\n",
      "No doubling found in the provided data.\n",
      "No doubling found in the provided data.\n",
      "No doubling found in the provided data.\n",
      "No doubling found in the provided data.\n",
      "No doubling found in the provided data.\n",
      "No doubling found in the provided data.\n",
      "No doubling found in the provided data.\n",
      "No doubling found in the provided data.\n",
      "No doubling found in the provided data.\n",
      "No doubling found in the provided data.\n",
      "No doubling found in the provided data.\n",
      "No doubling found in the provided data.\n",
      "No doubling found in the provided data.\n",
      "No doubling found in the provided data.\n",
      "No doubling found in the provided data.\n"
     ]
    },
    {
     "name": "stderr",
     "output_type": "stream",
     "text": [
      "ffmpeg version 4.2.7-0ubuntu0.1 Copyright (c) 2000-2022 the FFmpeg developers\n",
      "  built with gcc 9 (Ubuntu 9.4.0-1ubuntu1~20.04.1)\n",
      "  configuration: --prefix=/usr --extra-version=0ubuntu0.1 --toolchain=hardened --libdir=/usr/lib/x86_64-linux-gnu --incdir=/usr/include/x86_64-linux-gnu --arch=amd64 --enable-gpl --disable-stripping --enable-avresample --disable-filter=resample --enable-avisynth --enable-gnutls --enable-ladspa --enable-libaom --enable-libass --enable-libbluray --enable-libbs2b --enable-libcaca --enable-libcdio --enable-libcodec2 --enable-libflite --enable-libfontconfig --enable-libfreetype --enable-libfribidi --enable-libgme --enable-libgsm --enable-libjack --enable-libmp3lame --enable-libmysofa --enable-libopenjpeg --enable-libopenmpt --enable-libopus --enable-libpulse --enable-librsvg --enable-librubberband --enable-libshine --enable-libsnappy --enable-libsoxr --enable-libspeex --enable-libssh --enable-libtheora --enable-libtwolame --enable-libvidstab --enable-libvorbis --enable-libvpx --enable-libwavpack --enable-libwebp --enable-libx265 --enable-libxml2 --enable-libxvid --enable-libzmq --enable-libzvbi --enable-lv2 --enable-omx --enable-openal --enable-opencl --enable-opengl --enable-sdl2 --enable-libdc1394 --enable-libdrm --enable-libiec61883 --enable-nvenc --enable-chromaprint --enable-frei0r --enable-libx264 --enable-shared\n",
      "  libavutil      56. 31.100 / 56. 31.100\n",
      "  libavcodec     58. 54.100 / 58. 54.100\n",
      "  libavformat    58. 29.100 / 58. 29.100\n",
      "  libavdevice    58.  8.100 / 58.  8.100\n",
      "  libavfilter     7. 57.100 /  7. 57.100\n",
      "  libavresample   4.  0.  0 /  4.  0.  0\n",
      "  libswscale      5.  5.100 /  5.  5.100\n",
      "  libswresample   3.  5.100 /  3.  5.100\n",
      "  libpostproc    55.  5.100 / 55.  5.100\n",
      "Input #0, image2, from '/mnt/DATA/macrohet/results/glimpses/fast_grower_area_smoothed_graph/(5, 5)/95.5.5/frames/*_t_*.png':\n",
      "  Duration: 00:00:15.00, start: 0.000000, bitrate: N/A\n",
      "    Stream #0:0: Video: png, rgba(pc), 4123x1388 [SAR 12362:12362 DAR 4123:1388], 5 fps, 5 tbr, 5 tbn, 5 tbc\n",
      "Stream mapping:\n",
      "  Stream #0:0 -> #0:0 (png (native) -> h264 (libx264))\n",
      "Press [q] to stop, [?] for help\n",
      "[libx264 @ 0x55763e22fcc0] using SAR=1/1\n",
      "[libx264 @ 0x55763e22fcc0] using cpu capabilities: MMX2 SSE2Fast SSSE3 SSE4.2 AVX FMA3 BMI2 AVX2 AVX512\n",
      "[libx264 @ 0x55763e22fcc0] profile High, level 5.1\n",
      "[libx264 @ 0x55763e22fcc0] 264 - core 155 r2917 0a84d98 - H.264/MPEG-4 AVC codec - Copyleft 2003-2018 - http://www.videolan.org/x264.html - options: cabac=1 ref=3 deblock=1:0:0 analyse=0x3:0x113 me=hex subme=7 psy=1 psy_rd=1.00:0.00 mixed_ref=1 me_range=16 chroma_me=1 trellis=1 8x8dct=1 cqm=0 deadzone=21,11 fast_pskip=1 chroma_qp_offset=-2 threads=43 lookahead_threads=7 sliced_threads=0 nr=0 decimate=1 interlaced=0 bluray_compat=0 constrained_intra=0 bframes=3 b_pyramid=2 b_adapt=1 b_bias=0 direct=1 weightb=1 open_gop=0 weightp=2 keyint=250 keyint_min=5 scenecut=40 intra_refresh=0 rc_lookahead=40 rc=crf mbtree=1 crf=23.0 qcomp=0.60 qpmin=0 qpmax=69 qpstep=4 ip_ratio=1.40 aq=1:1.00\n",
      "Output #0, mp4, to '/mnt/DATA/macrohet/results/glimpses/fast_grower_area_smoothed_graph/(5, 5)/95.5.5/ID_95.5.5_outlying_growth_glimpse_graph.mp4':\n",
      "  Metadata:\n",
      "    encoder         : Lavf58.29.100\n",
      "    Stream #0:0: Video: h264 (libx264) (avc1 / 0x31637661), yuv420p, 4124x1388 [SAR 1:1 DAR 1031:347], q=-1--1, 5 fps, 10240 tbn, 5 tbc\n",
      "    Metadata:\n",
      "      encoder         : Lavc58.54.100 libx264\n",
      "    Side data:\n",
      "      cpb: bitrate max/min/avg: 0/0/0 buffer size: 0 vbv_delay: -1\n",
      "frame=   75 fps= 14 q=-1.0 Lsize=    3538kB time=00:00:14.40 bitrate=2012.5kbits/s speed=2.74x    \n",
      "video:3536kB audio:0kB subtitle:0kB other streams:0kB global headers:0kB muxing overhead: 0.038082%\n",
      "[libx264 @ 0x55763e22fcc0] frame I:1     Avg QP:12.34  size:147831\n",
      "[libx264 @ 0x55763e22fcc0] frame P:65    Avg QP:21.69  size: 47638\n",
      "[libx264 @ 0x55763e22fcc0] frame B:9     Avg QP:21.99  size: 41795\n",
      "[libx264 @ 0x55763e22fcc0] consecutive B-frames: 78.7% 16.0%  0.0%  5.3%\n",
      "[libx264 @ 0x55763e22fcc0] mb I  I16..4: 54.8% 36.7%  8.5%\n",
      "[libx264 @ 0x55763e22fcc0] mb P  I16..4:  1.7%  7.9%  1.2%  P16..4:  3.8%  2.7%  1.3%  0.0%  0.0%    skip:81.3%\n",
      "[libx264 @ 0x55763e22fcc0] mb B  I16..4:  0.8%  4.7%  0.6%  B16..8:  5.4%  4.3%  1.2%  direct: 1.0%  skip:82.0%  L0:53.0% L1:41.8% BI: 5.2%\n",
      "[libx264 @ 0x55763e22fcc0] 8x8 transform intra:69.2% inter:80.4%\n",
      "[libx264 @ 0x55763e22fcc0] coded y,uvDC,uvAC intra: 59.0% 71.7% 58.9% inter: 5.3% 5.5% 1.4%\n",
      "[libx264 @ 0x55763e22fcc0] i16 v,h,dc,p: 56% 16%  3% 25%\n",
      "[libx264 @ 0x55763e22fcc0] i8 v,h,dc,ddl,ddr,vr,hd,vl,hu: 20% 14% 21%  6%  8%  8%  7%  8%  8%\n",
      "[libx264 @ 0x55763e22fcc0] i4 v,h,dc,ddl,ddr,vr,hd,vl,hu: 36% 19% 21%  4%  6%  5%  4%  3%  2%\n",
      "[libx264 @ 0x55763e22fcc0] i8c dc,h,v,p: 47% 17% 17% 20%\n",
      "[libx264 @ 0x55763e22fcc0] Weighted P-Frames: Y:0.0% UV:0.0%\n",
      "[libx264 @ 0x55763e22fcc0] ref P L0: 41.5%  5.9% 31.9% 20.8%\n",
      "[libx264 @ 0x55763e22fcc0] ref B L0: 65.0% 31.2%  3.8%\n",
      "[libx264 @ 0x55763e22fcc0] ref B L1: 94.5%  5.5%\n",
      "[libx264 @ 0x55763e22fcc0] kb/s:1930.91\n"
     ]
    },
    {
     "name": "stdout",
     "output_type": "stream",
     "text": [
      "Generating glimpse\n"
     ]
    },
    {
     "data": {
      "application/vnd.jupyter.widget-view+json": {
       "model_id": "b606035c3560438380f4b7fe687c5dee",
       "version_major": 2,
       "version_minor": 0
      },
      "text/plain": [
       "Creating glimpse ID: ((3, 5), 1):   0%|          | 0/73 [00:00<?, ?it/s]"
      ]
     },
     "metadata": {},
     "output_type": "display_data"
    },
    {
     "name": "stderr",
     "output_type": "stream",
     "text": [
      "/home/dayn/miniconda3/envs/brassica/lib/python3.9/site-packages/dask/array/core.py:1759: PerformanceWarning: Increasing number of chunks by factor of 29\n",
      "  return da_func(*args, **kwargs)\n",
      "[INFO][2023/12/06 12:21:13 PM] Opening HDF file: /mnt/DATA/macrohet/labels/PS0000/macrohet_seg_model/(3, 5).h5...\n",
      "INFO:btrack.io.hdf:Opening HDF file: /mnt/DATA/macrohet/labels/PS0000/macrohet_seg_model/(3, 5).h5...\n",
      "[INFO][2023/12/06 12:21:32 PM] Loading segmentation (75, 6048, 6048)\n",
      "INFO:btrack.io.hdf:Loading segmentation (75, 6048, 6048)\n",
      "[INFO][2023/12/06 12:21:32 PM] Closing HDF file: /mnt/DATA/macrohet/labels/PS0000/macrohet_seg_model/(3, 5).h5\n",
      "INFO:btrack.io.hdf:Closing HDF file: /mnt/DATA/macrohet/labels/PS0000/macrohet_seg_model/(3, 5).h5\n"
     ]
    },
    {
     "data": {
      "application/vnd.jupyter.widget-view+json": {
       "model_id": "85dc33f51027444d89c9f4b1eb5171ce",
       "version_major": 2,
       "version_minor": 0
      },
      "text/plain": [
       "Creating mask glimpse ID: ((3, 5), 1):   0%|          | 0/73 [00:00<?, ?it/s]"
      ]
     },
     "metadata": {},
     "output_type": "display_data"
    },
    {
     "data": {
      "application/vnd.jupyter.widget-view+json": {
       "model_id": "4872b51eb50543008a1c49cd89ce8728",
       "version_major": 2,
       "version_minor": 0
      },
      "text/plain": [
       "Extracting mtb area over each frame: ((3, 5), 1):   0%|          | 0/73 [00:00<?, ?it/s]"
      ]
     },
     "metadata": {},
     "output_type": "display_data"
    },
    {
     "data": {
      "application/vnd.jupyter.widget-view+json": {
       "model_id": "6f0dac310e824a51821400b3866dbd60",
       "version_major": 2,
       "version_minor": 0
      },
      "text/plain": [
       "Saving out single frames:   0%|          | 0/73 [00:00<?, ?it/s]"
      ]
     },
     "metadata": {},
     "output_type": "display_data"
    },
    {
     "name": "stdout",
     "output_type": "stream",
     "text": [
      "No doubling found in the provided data.\n",
      "No doubling found in the provided data.\n",
      "No doubling found in the provided data.\n",
      "No doubling found in the provided data.\n",
      "No doubling found in the provided data.\n",
      "No doubling found in the provided data.\n",
      "No doubling found in the provided data.\n",
      "No doubling found in the provided data.\n",
      "No doubling found in the provided data.\n",
      "No doubling found in the provided data.\n",
      "No doubling found in the provided data.\n",
      "No doubling found in the provided data.\n",
      "No doubling found in the provided data.\n",
      "No doubling found in the provided data.\n",
      "No doubling found in the provided data.\n",
      "No doubling found in the provided data.\n",
      "No doubling found in the provided data.\n",
      "No doubling found in the provided data.\n",
      "No doubling found in the provided data.\n",
      "No doubling found in the provided data.\n",
      "No doubling found in the provided data.\n",
      "No doubling found in the provided data.\n",
      "No doubling found in the provided data.\n",
      "No doubling found in the provided data.\n",
      "No doubling found in the provided data.\n",
      "No doubling found in the provided data.\n",
      "No doubling found in the provided data.\n",
      "No doubling found in the provided data.\n",
      "No doubling found in the provided data.\n",
      "No doubling found in the provided data.\n",
      "No doubling found in the provided data.\n",
      "No doubling found in the provided data.\n",
      "No doubling found in the provided data.\n",
      "No doubling found in the provided data.\n",
      "No doubling found in the provided data.\n",
      "No doubling found in the provided data.\n",
      "No doubling found in the provided data.\n",
      "No doubling found in the provided data.\n",
      "No doubling found in the provided data.\n",
      "No doubling found in the provided data.\n",
      "No doubling found in the provided data.\n",
      "No doubling found in the provided data.\n",
      "No doubling found in the provided data.\n",
      "No doubling found in the provided data.\n",
      "No doubling found in the provided data.\n",
      "No doubling found in the provided data.\n",
      "No doubling found in the provided data.\n",
      "No doubling found in the provided data.\n",
      "No doubling found in the provided data.\n",
      "No doubling found in the provided data.\n",
      "No doubling found in the provided data.\n",
      "No doubling found in the provided data.\n",
      "No doubling found in the provided data.\n",
      "No doubling found in the provided data.\n",
      "No doubling found in the provided data.\n",
      "No doubling found in the provided data.\n",
      "No doubling found in the provided data.\n",
      "No doubling found in the provided data.\n",
      "No doubling found in the provided data.\n",
      "No doubling found in the provided data.\n",
      "No doubling found in the provided data.\n",
      "No doubling found in the provided data.\n",
      "No doubling found in the provided data.\n",
      "No doubling found in the provided data.\n",
      "No doubling found in the provided data.\n",
      "No doubling found in the provided data.\n",
      "No doubling found in the provided data.\n",
      "No doubling found in the provided data.\n",
      "No doubling found in the provided data.\n",
      "No doubling found in the provided data.\n",
      "No doubling found in the provided data.\n",
      "No doubling found in the provided data.\n",
      "No doubling found in the provided data.\n"
     ]
    },
    {
     "name": "stderr",
     "output_type": "stream",
     "text": [
      "ffmpeg version 4.2.7-0ubuntu0.1 Copyright (c) 2000-2022 the FFmpeg developers\n",
      "  built with gcc 9 (Ubuntu 9.4.0-1ubuntu1~20.04.1)\n",
      "  configuration: --prefix=/usr --extra-version=0ubuntu0.1 --toolchain=hardened --libdir=/usr/lib/x86_64-linux-gnu --incdir=/usr/include/x86_64-linux-gnu --arch=amd64 --enable-gpl --disable-stripping --enable-avresample --disable-filter=resample --enable-avisynth --enable-gnutls --enable-ladspa --enable-libaom --enable-libass --enable-libbluray --enable-libbs2b --enable-libcaca --enable-libcdio --enable-libcodec2 --enable-libflite --enable-libfontconfig --enable-libfreetype --enable-libfribidi --enable-libgme --enable-libgsm --enable-libjack --enable-libmp3lame --enable-libmysofa --enable-libopenjpeg --enable-libopenmpt --enable-libopus --enable-libpulse --enable-librsvg --enable-librubberband --enable-libshine --enable-libsnappy --enable-libsoxr --enable-libspeex --enable-libssh --enable-libtheora --enable-libtwolame --enable-libvidstab --enable-libvorbis --enable-libvpx --enable-libwavpack --enable-libwebp --enable-libx265 --enable-libxml2 --enable-libxvid --enable-libzmq --enable-libzvbi --enable-lv2 --enable-omx --enable-openal --enable-opencl --enable-opengl --enable-sdl2 --enable-libdc1394 --enable-libdrm --enable-libiec61883 --enable-nvenc --enable-chromaprint --enable-frei0r --enable-libx264 --enable-shared\n",
      "  libavutil      56. 31.100 / 56. 31.100\n",
      "  libavcodec     58. 54.100 / 58. 54.100\n",
      "  libavformat    58. 29.100 / 58. 29.100\n",
      "  libavdevice    58.  8.100 / 58.  8.100\n",
      "  libavfilter     7. 57.100 /  7. 57.100\n",
      "  libavresample   4.  0.  0 /  4.  0.  0\n",
      "  libswscale      5.  5.100 /  5.  5.100\n",
      "  libswresample   3.  5.100 /  3.  5.100\n",
      "  libpostproc    55.  5.100 / 55.  5.100\n",
      "Input #0, image2, from '/mnt/DATA/macrohet/results/glimpses/fast_grower_area_smoothed_graph/(3, 5)/1.3.5/frames/*_t_*.png':\n",
      "  Duration: 00:00:14.60, start: 0.000000, bitrate: N/A\n",
      "    Stream #0:0: Video: png, rgba(pc), 4150x1388 [SAR 12362:12362 DAR 2075:694], 5 fps, 5 tbr, 5 tbn, 5 tbc\n",
      "Stream mapping:\n",
      "  Stream #0:0 -> #0:0 (png (native) -> h264 (libx264))\n",
      "Press [q] to stop, [?] for help\n",
      "[libx264 @ 0x561d7c7b6680] using SAR=1/1\n",
      "[libx264 @ 0x561d7c7b6680] using cpu capabilities: MMX2 SSE2Fast SSSE3 SSE4.2 AVX FMA3 BMI2 AVX2 AVX512\n",
      "[libx264 @ 0x561d7c7b6680] profile High, level 5.1\n",
      "[libx264 @ 0x561d7c7b6680] 264 - core 155 r2917 0a84d98 - H.264/MPEG-4 AVC codec - Copyleft 2003-2018 - http://www.videolan.org/x264.html - options: cabac=1 ref=3 deblock=1:0:0 analyse=0x3:0x113 me=hex subme=7 psy=1 psy_rd=1.00:0.00 mixed_ref=1 me_range=16 chroma_me=1 trellis=1 8x8dct=1 cqm=0 deadzone=21,11 fast_pskip=1 chroma_qp_offset=-2 threads=43 lookahead_threads=7 sliced_threads=0 nr=0 decimate=1 interlaced=0 bluray_compat=0 constrained_intra=0 bframes=3 b_pyramid=2 b_adapt=1 b_bias=0 direct=1 weightb=1 open_gop=0 weightp=2 keyint=250 keyint_min=5 scenecut=40 intra_refresh=0 rc_lookahead=40 rc=crf mbtree=1 crf=23.0 qcomp=0.60 qpmin=0 qpmax=69 qpstep=4 ip_ratio=1.40 aq=1:1.00\n",
      "Output #0, mp4, to '/mnt/DATA/macrohet/results/glimpses/fast_grower_area_smoothed_graph/(3, 5)/1.3.5/ID_1.3.5_outlying_growth_glimpse_graph.mp4':\n",
      "  Metadata:\n",
      "    encoder         : Lavf58.29.100\n",
      "    Stream #0:0: Video: h264 (libx264) (avc1 / 0x31637661), yuv420p, 4150x1388 [SAR 1:1 DAR 2075:694], q=-1--1, 5 fps, 10240 tbn, 5 tbc\n",
      "    Metadata:\n",
      "      encoder         : Lavc58.54.100 libx264\n",
      "    Side data:\n",
      "      cpb: bitrate max/min/avg: 0/0/0 buffer size: 0 vbv_delay: -1\n",
      "frame=   73 fps= 12 q=-1.0 Lsize=    3378kB time=00:00:14.00 bitrate=1976.8kbits/s speed=2.31x    \n",
      "video:3377kB audio:0kB subtitle:0kB other streams:0kB global headers:0kB muxing overhead: 0.034787%\n",
      "[libx264 @ 0x561d7c7b6680] frame I:1     Avg QP:15.54  size:187212\n",
      "[libx264 @ 0x561d7c7b6680] frame P:72    Avg QP:21.51  size: 45421\n",
      "[libx264 @ 0x561d7c7b6680] mb I  I16..4: 25.0% 62.5% 12.4%\n",
      "[libx264 @ 0x561d7c7b6680] mb P  I16..4:  1.5%  7.6%  1.1%  P16..4:  4.5%  2.6%  1.2%  0.0%  0.0%    skip:81.4%\n",
      "[libx264 @ 0x561d7c7b6680] 8x8 transform intra:73.0% inter:83.0%\n",
      "[libx264 @ 0x561d7c7b6680] coded y,uvDC,uvAC intra: 58.0% 71.2% 58.9% inter: 4.9% 4.5% 1.2%\n",
      "[libx264 @ 0x561d7c7b6680] i16 v,h,dc,p: 46% 17%  4% 33%\n",
      "[libx264 @ 0x561d7c7b6680] i8 v,h,dc,ddl,ddr,vr,hd,vl,hu: 24% 13% 22%  5%  7%  8%  6%  8%  7%\n",
      "[libx264 @ 0x561d7c7b6680] i4 v,h,dc,ddl,ddr,vr,hd,vl,hu: 37% 19% 20%  4%  6%  5%  4%  4%  2%\n",
      "[libx264 @ 0x561d7c7b6680] i8c dc,h,v,p: 46% 15% 19% 20%\n",
      "[libx264 @ 0x561d7c7b6680] Weighted P-Frames: Y:0.0% UV:0.0%\n",
      "[libx264 @ 0x561d7c7b6680] ref P L0: 39.8%  4.2% 33.4% 22.6%\n",
      "[libx264 @ 0x561d7c7b6680] kb/s:1894.54\n"
     ]
    },
    {
     "name": "stdout",
     "output_type": "stream",
     "text": [
      "Generating glimpse\n"
     ]
    },
    {
     "data": {
      "application/vnd.jupyter.widget-view+json": {
       "model_id": "9c97763974a44363bf2428cd47fed7c9",
       "version_major": 2,
       "version_minor": 0
      },
      "text/plain": [
       "Creating glimpse ID: ((5, 7), 749):   0%|          | 0/74 [00:00<?, ?it/s]"
      ]
     },
     "metadata": {},
     "output_type": "display_data"
    },
    {
     "name": "stderr",
     "output_type": "stream",
     "text": [
      "[INFO][2023/12/06 12:29:49 PM] Opening HDF file: /mnt/DATA/macrohet/labels/PS0000/macrohet_seg_model/(5, 7).h5...\n",
      "INFO:btrack.io.hdf:Opening HDF file: /mnt/DATA/macrohet/labels/PS0000/macrohet_seg_model/(5, 7).h5...\n",
      "[INFO][2023/12/06 12:30:07 PM] Loading segmentation (75, 6048, 6048)\n",
      "INFO:btrack.io.hdf:Loading segmentation (75, 6048, 6048)\n",
      "[INFO][2023/12/06 12:30:07 PM] Closing HDF file: /mnt/DATA/macrohet/labels/PS0000/macrohet_seg_model/(5, 7).h5\n",
      "INFO:btrack.io.hdf:Closing HDF file: /mnt/DATA/macrohet/labels/PS0000/macrohet_seg_model/(5, 7).h5\n"
     ]
    },
    {
     "data": {
      "application/vnd.jupyter.widget-view+json": {
       "model_id": "c09bbd6475c44d17ae724c6dc4229a55",
       "version_major": 2,
       "version_minor": 0
      },
      "text/plain": [
       "Creating mask glimpse ID: ((5, 7), 749):   0%|          | 0/74 [00:00<?, ?it/s]"
      ]
     },
     "metadata": {},
     "output_type": "display_data"
    },
    {
     "data": {
      "application/vnd.jupyter.widget-view+json": {
       "model_id": "7d82a7d4fcbe48b3bbd83b6eec5491be",
       "version_major": 2,
       "version_minor": 0
      },
      "text/plain": [
       "Extracting mtb area over each frame: ((5, 7), 749):   0%|          | 0/74 [00:00<?, ?it/s]"
      ]
     },
     "metadata": {},
     "output_type": "display_data"
    },
    {
     "data": {
      "application/vnd.jupyter.widget-view+json": {
       "model_id": "66741bd37c984baf8678733823d02e89",
       "version_major": 2,
       "version_minor": 0
      },
      "text/plain": [
       "Saving out single frames:   0%|          | 0/74 [00:00<?, ?it/s]"
      ]
     },
     "metadata": {},
     "output_type": "display_data"
    },
    {
     "name": "stdout",
     "output_type": "stream",
     "text": [
      "No doubling found in the provided data.\n",
      "No doubling found in the provided data.\n",
      "No doubling found in the provided data.\n",
      "No doubling found in the provided data.\n",
      "No doubling found in the provided data.\n",
      "No doubling found in the provided data.\n",
      "No doubling found in the provided data.\n",
      "No doubling found in the provided data.\n",
      "No doubling found in the provided data.\n",
      "No doubling found in the provided data.\n",
      "No doubling found in the provided data.\n",
      "No doubling found in the provided data.\n",
      "No doubling found in the provided data.\n",
      "No doubling found in the provided data.\n",
      "No doubling found in the provided data.\n",
      "No doubling found in the provided data.\n",
      "No doubling found in the provided data.\n",
      "No doubling found in the provided data.\n",
      "No doubling found in the provided data.\n",
      "No doubling found in the provided data.\n",
      "No doubling found in the provided data.\n",
      "No doubling found in the provided data.\n",
      "No doubling found in the provided data.\n",
      "No doubling found in the provided data.\n",
      "No doubling found in the provided data.\n",
      "No doubling found in the provided data.\n",
      "No doubling found in the provided data.\n",
      "No doubling found in the provided data.\n",
      "No doubling found in the provided data.\n",
      "No doubling found in the provided data.\n",
      "No doubling found in the provided data.\n",
      "No doubling found in the provided data.\n",
      "No doubling found in the provided data.\n",
      "No doubling found in the provided data.\n",
      "No doubling found in the provided data.\n",
      "No doubling found in the provided data.\n",
      "No doubling found in the provided data.\n",
      "No doubling found in the provided data.\n",
      "No doubling found in the provided data.\n",
      "No doubling found in the provided data.\n",
      "No doubling found in the provided data.\n",
      "No doubling found in the provided data.\n",
      "No doubling found in the provided data.\n",
      "No doubling found in the provided data.\n",
      "No doubling found in the provided data.\n",
      "No doubling found in the provided data.\n",
      "No doubling found in the provided data.\n",
      "No doubling found in the provided data.\n",
      "No doubling found in the provided data.\n",
      "No doubling found in the provided data.\n",
      "No doubling found in the provided data.\n",
      "No doubling found in the provided data.\n",
      "No doubling found in the provided data.\n",
      "No doubling found in the provided data.\n",
      "No doubling found in the provided data.\n",
      "No doubling found in the provided data.\n",
      "No doubling found in the provided data.\n",
      "No doubling found in the provided data.\n",
      "No doubling found in the provided data.\n",
      "No doubling found in the provided data.\n",
      "No doubling found in the provided data.\n",
      "No doubling found in the provided data.\n",
      "No doubling found in the provided data.\n",
      "No doubling found in the provided data.\n",
      "No doubling found in the provided data.\n",
      "No doubling found in the provided data.\n",
      "No doubling found in the provided data.\n",
      "No doubling found in the provided data.\n",
      "No doubling found in the provided data.\n",
      "No doubling found in the provided data.\n",
      "No doubling found in the provided data.\n",
      "No doubling found in the provided data.\n",
      "No doubling found in the provided data.\n",
      "No doubling found in the provided data.\n"
     ]
    },
    {
     "name": "stderr",
     "output_type": "stream",
     "text": [
      "ffmpeg version 4.2.7-0ubuntu0.1 Copyright (c) 2000-2022 the FFmpeg developers\n",
      "  built with gcc 9 (Ubuntu 9.4.0-1ubuntu1~20.04.1)\n",
      "  configuration: --prefix=/usr --extra-version=0ubuntu0.1 --toolchain=hardened --libdir=/usr/lib/x86_64-linux-gnu --incdir=/usr/include/x86_64-linux-gnu --arch=amd64 --enable-gpl --disable-stripping --enable-avresample --disable-filter=resample --enable-avisynth --enable-gnutls --enable-ladspa --enable-libaom --enable-libass --enable-libbluray --enable-libbs2b --enable-libcaca --enable-libcdio --enable-libcodec2 --enable-libflite --enable-libfontconfig --enable-libfreetype --enable-libfribidi --enable-libgme --enable-libgsm --enable-libjack --enable-libmp3lame --enable-libmysofa --enable-libopenjpeg --enable-libopenmpt --enable-libopus --enable-libpulse --enable-librsvg --enable-librubberband --enable-libshine --enable-libsnappy --enable-libsoxr --enable-libspeex --enable-libssh --enable-libtheora --enable-libtwolame --enable-libvidstab --enable-libvorbis --enable-libvpx --enable-libwavpack --enable-libwebp --enable-libx265 --enable-libxml2 --enable-libxvid --enable-libzmq --enable-libzvbi --enable-lv2 --enable-omx --enable-openal --enable-opencl --enable-opengl --enable-sdl2 --enable-libdc1394 --enable-libdrm --enable-libiec61883 --enable-nvenc --enable-chromaprint --enable-frei0r --enable-libx264 --enable-shared\n",
      "  libavutil      56. 31.100 / 56. 31.100\n",
      "  libavcodec     58. 54.100 / 58. 54.100\n",
      "  libavformat    58. 29.100 / 58. 29.100\n",
      "  libavdevice    58.  8.100 / 58.  8.100\n",
      "  libavfilter     7. 57.100 /  7. 57.100\n",
      "  libavresample   4.  0.  0 /  4.  0.  0\n",
      "  libswscale      5.  5.100 /  5.  5.100\n",
      "  libswresample   3.  5.100 /  3.  5.100\n",
      "  libpostproc    55.  5.100 / 55.  5.100\n",
      "Input #0, image2, from '/mnt/DATA/macrohet/results/glimpses/fast_grower_area_smoothed_graph/(5, 7)/749.5.7/frames/*_t_*.png':\n",
      "  Duration: 00:00:14.80, start: 0.000000, bitrate: N/A\n",
      "    Stream #0:0: Video: png, rgba(pc), 4150x1388 [SAR 12362:12362 DAR 2075:694], 5 fps, 5 tbr, 5 tbn, 5 tbc\n",
      "Stream mapping:\n",
      "  Stream #0:0 -> #0:0 (png (native) -> h264 (libx264))\n",
      "Press [q] to stop, [?] for help\n",
      "[libx264 @ 0x55fb17c72cc0] using SAR=1/1\n",
      "[libx264 @ 0x55fb17c72cc0] using cpu capabilities: MMX2 SSE2Fast SSSE3 SSE4.2 AVX FMA3 BMI2 AVX2 AVX512\n",
      "[libx264 @ 0x55fb17c72cc0] profile High, level 5.1\n",
      "[libx264 @ 0x55fb17c72cc0] 264 - core 155 r2917 0a84d98 - H.264/MPEG-4 AVC codec - Copyleft 2003-2018 - http://www.videolan.org/x264.html - options: cabac=1 ref=3 deblock=1:0:0 analyse=0x3:0x113 me=hex subme=7 psy=1 psy_rd=1.00:0.00 mixed_ref=1 me_range=16 chroma_me=1 trellis=1 8x8dct=1 cqm=0 deadzone=21,11 fast_pskip=1 chroma_qp_offset=-2 threads=43 lookahead_threads=7 sliced_threads=0 nr=0 decimate=1 interlaced=0 bluray_compat=0 constrained_intra=0 bframes=3 b_pyramid=2 b_adapt=1 b_bias=0 direct=1 weightb=1 open_gop=0 weightp=2 keyint=250 keyint_min=5 scenecut=40 intra_refresh=0 rc_lookahead=40 rc=crf mbtree=1 crf=23.0 qcomp=0.60 qpmin=0 qpmax=69 qpstep=4 ip_ratio=1.40 aq=1:1.00\n",
      "Output #0, mp4, to '/mnt/DATA/macrohet/results/glimpses/fast_grower_area_smoothed_graph/(5, 7)/749.5.7/ID_749.5.7_outlying_growth_glimpse_graph.mp4':\n",
      "  Metadata:\n",
      "    encoder         : Lavf58.29.100\n",
      "    Stream #0:0: Video: h264 (libx264) (avc1 / 0x31637661), yuv420p, 4150x1388 [SAR 1:1 DAR 2075:694], q=-1--1, 5 fps, 10240 tbn, 5 tbc\n",
      "    Metadata:\n",
      "      encoder         : Lavc58.54.100 libx264\n",
      "    Side data:\n",
      "      cpb: bitrate max/min/avg: 0/0/0 buffer size: 0 vbv_delay: -1\n",
      "frame=   74 fps= 11 q=-1.0 Lsize=    3766kB time=00:00:14.20 bitrate=2172.5kbits/s speed=2.07x    \n",
      "video:3765kB audio:0kB subtitle:0kB other streams:0kB global headers:0kB muxing overhead: 0.031933%\n",
      "[libx264 @ 0x55fb17c72cc0] frame I:1     Avg QP:18.42  size:172084\n",
      "[libx264 @ 0x55fb17c72cc0] frame P:72    Avg QP:22.49  size: 50436\n",
      "[libx264 @ 0x55fb17c72cc0] frame B:1     Avg QP:23.88  size: 50808\n",
      "[libx264 @ 0x55fb17c72cc0] consecutive B-frames: 97.3%  2.7%  0.0%  0.0%\n",
      "[libx264 @ 0x55fb17c72cc0] mb I  I16..4: 17.3% 70.9% 11.8%\n",
      "[libx264 @ 0x55fb17c72cc0] mb P  I16..4:  1.4%  8.8%  1.1%  P16..4:  3.6%  3.0%  1.4%  0.0%  0.0%    skip:80.8%\n",
      "[libx264 @ 0x55fb17c72cc0] mb B  I16..4:  0.9%  7.9%  0.7%  B16..8:  4.0%  4.3%  1.1%  direct: 0.6%  skip:80.4%  L0:59.2% L1:36.9% BI: 3.9%\n",
      "[libx264 @ 0x55fb17c72cc0] 8x8 transform intra:77.5% inter:82.5%\n",
      "[libx264 @ 0x55fb17c72cc0] coded y,uvDC,uvAC intra: 64.0% 77.8% 65.6% inter: 5.7% 5.4% 1.4%\n",
      "[libx264 @ 0x55fb17c72cc0] i16 v,h,dc,p: 37% 21%  2% 39%\n",
      "[libx264 @ 0x55fb17c72cc0] i8 v,h,dc,ddl,ddr,vr,hd,vl,hu: 21% 15% 19%  5% 10%  8%  9%  6%  8%\n",
      "[libx264 @ 0x55fb17c72cc0] i4 v,h,dc,ddl,ddr,vr,hd,vl,hu: 35% 21% 18%  4%  7%  5%  5%  3%  2%\n",
      "[libx264 @ 0x55fb17c72cc0] i8c dc,h,v,p: 44% 20% 16% 21%\n",
      "[libx264 @ 0x55fb17c72cc0] Weighted P-Frames: Y:0.0% UV:0.0%\n",
      "[libx264 @ 0x55fb17c72cc0] ref P L0: 40.7%  6.2% 30.8% 22.2%\n",
      "[libx264 @ 0x55fb17c72cc0] ref B L0: 56.4% 43.6%\n",
      "[libx264 @ 0x55fb17c72cc0] kb/s:2083.40\n"
     ]
    },
    {
     "name": "stdout",
     "output_type": "stream",
     "text": [
      "Generating glimpse\n"
     ]
    },
    {
     "data": {
      "application/vnd.jupyter.widget-view+json": {
       "model_id": "7b3d0cd7e57a416fba9de0b3452e7158",
       "version_major": 2,
       "version_minor": 0
      },
      "text/plain": [
       "Creating glimpse ID: ((6, 5), 646):   0%|          | 0/74 [00:00<?, ?it/s]"
      ]
     },
     "metadata": {},
     "output_type": "display_data"
    },
    {
     "name": "stderr",
     "output_type": "stream",
     "text": [
      "[INFO][2023/12/06 12:38:37 PM] Opening HDF file: /mnt/DATA/macrohet/labels/PS0000/macrohet_seg_model/(6, 5).h5...\n",
      "INFO:btrack.io.hdf:Opening HDF file: /mnt/DATA/macrohet/labels/PS0000/macrohet_seg_model/(6, 5).h5...\n",
      "[INFO][2023/12/06 12:38:55 PM] Loading segmentation (75, 6048, 6048)\n",
      "INFO:btrack.io.hdf:Loading segmentation (75, 6048, 6048)\n",
      "[INFO][2023/12/06 12:38:55 PM] Closing HDF file: /mnt/DATA/macrohet/labels/PS0000/macrohet_seg_model/(6, 5).h5\n",
      "INFO:btrack.io.hdf:Closing HDF file: /mnt/DATA/macrohet/labels/PS0000/macrohet_seg_model/(6, 5).h5\n"
     ]
    },
    {
     "data": {
      "application/vnd.jupyter.widget-view+json": {
       "model_id": "3acffcd8ad3b43b8bb8dc2aa4394b5d3",
       "version_major": 2,
       "version_minor": 0
      },
      "text/plain": [
       "Creating mask glimpse ID: ((6, 5), 646):   0%|          | 0/74 [00:00<?, ?it/s]"
      ]
     },
     "metadata": {},
     "output_type": "display_data"
    },
    {
     "data": {
      "application/vnd.jupyter.widget-view+json": {
       "model_id": "93cce0fdb7694ac38492e45a99e3afc4",
       "version_major": 2,
       "version_minor": 0
      },
      "text/plain": [
       "Extracting mtb area over each frame: ((6, 5), 646):   0%|          | 0/74 [00:00<?, ?it/s]"
      ]
     },
     "metadata": {},
     "output_type": "display_data"
    },
    {
     "data": {
      "application/vnd.jupyter.widget-view+json": {
       "model_id": "9e643c615aee4888a8935d852259f29e",
       "version_major": 2,
       "version_minor": 0
      },
      "text/plain": [
       "Saving out single frames:   0%|          | 0/74 [00:00<?, ?it/s]"
      ]
     },
     "metadata": {},
     "output_type": "display_data"
    },
    {
     "name": "stdout",
     "output_type": "stream",
     "text": [
      "No doubling found in the provided data.\n",
      "No doubling found in the provided data.\n",
      "No doubling found in the provided data.\n",
      "No doubling found in the provided data.\n",
      "No doubling found in the provided data.\n",
      "No doubling found in the provided data.\n",
      "No doubling found in the provided data.\n",
      "No doubling found in the provided data.\n",
      "No doubling found in the provided data.\n",
      "No doubling found in the provided data.\n",
      "No doubling found in the provided data.\n",
      "No doubling found in the provided data.\n",
      "No doubling found in the provided data.\n",
      "No doubling found in the provided data.\n",
      "No doubling found in the provided data.\n",
      "No doubling found in the provided data.\n",
      "No doubling found in the provided data.\n",
      "No doubling found in the provided data.\n",
      "No doubling found in the provided data.\n",
      "No doubling found in the provided data.\n",
      "No doubling found in the provided data.\n",
      "No doubling found in the provided data.\n",
      "No doubling found in the provided data.\n",
      "No doubling found in the provided data.\n",
      "No doubling found in the provided data.\n",
      "No doubling found in the provided data.\n",
      "No doubling found in the provided data.\n",
      "No doubling found in the provided data.\n",
      "No doubling found in the provided data.\n",
      "No doubling found in the provided data.\n",
      "No doubling found in the provided data.\n",
      "No doubling found in the provided data.\n",
      "No doubling found in the provided data.\n",
      "No doubling found in the provided data.\n",
      "No doubling found in the provided data.\n",
      "No doubling found in the provided data.\n",
      "No doubling found in the provided data.\n",
      "No doubling found in the provided data.\n",
      "No doubling found in the provided data.\n",
      "No doubling found in the provided data.\n",
      "No doubling found in the provided data.\n",
      "No doubling found in the provided data.\n",
      "No doubling found in the provided data.\n",
      "No doubling found in the provided data.\n",
      "No doubling found in the provided data.\n",
      "No doubling found in the provided data.\n",
      "No doubling found in the provided data.\n",
      "No doubling found in the provided data.\n",
      "No doubling found in the provided data.\n",
      "No doubling found in the provided data.\n",
      "No doubling found in the provided data.\n",
      "No doubling found in the provided data.\n",
      "No doubling found in the provided data.\n",
      "No doubling found in the provided data.\n",
      "No doubling found in the provided data.\n",
      "No doubling found in the provided data.\n",
      "No doubling found in the provided data.\n",
      "No doubling found in the provided data.\n",
      "No doubling found in the provided data.\n",
      "No doubling found in the provided data.\n",
      "No doubling found in the provided data.\n",
      "No doubling found in the provided data.\n",
      "No doubling found in the provided data.\n",
      "No doubling found in the provided data.\n",
      "No doubling found in the provided data.\n",
      "No doubling found in the provided data.\n",
      "No doubling found in the provided data.\n",
      "No doubling found in the provided data.\n",
      "No doubling found in the provided data.\n",
      "No doubling found in the provided data.\n",
      "No doubling found in the provided data.\n",
      "No doubling found in the provided data.\n",
      "No doubling found in the provided data.\n",
      "No doubling found in the provided data.\n"
     ]
    },
    {
     "name": "stderr",
     "output_type": "stream",
     "text": [
      "ffmpeg version 4.2.7-0ubuntu0.1 Copyright (c) 2000-2022 the FFmpeg developers\n",
      "  built with gcc 9 (Ubuntu 9.4.0-1ubuntu1~20.04.1)\n",
      "  configuration: --prefix=/usr --extra-version=0ubuntu0.1 --toolchain=hardened --libdir=/usr/lib/x86_64-linux-gnu --incdir=/usr/include/x86_64-linux-gnu --arch=amd64 --enable-gpl --disable-stripping --enable-avresample --disable-filter=resample --enable-avisynth --enable-gnutls --enable-ladspa --enable-libaom --enable-libass --enable-libbluray --enable-libbs2b --enable-libcaca --enable-libcdio --enable-libcodec2 --enable-libflite --enable-libfontconfig --enable-libfreetype --enable-libfribidi --enable-libgme --enable-libgsm --enable-libjack --enable-libmp3lame --enable-libmysofa --enable-libopenjpeg --enable-libopenmpt --enable-libopus --enable-libpulse --enable-librsvg --enable-librubberband --enable-libshine --enable-libsnappy --enable-libsoxr --enable-libspeex --enable-libssh --enable-libtheora --enable-libtwolame --enable-libvidstab --enable-libvorbis --enable-libvpx --enable-libwavpack --enable-libwebp --enable-libx265 --enable-libxml2 --enable-libxvid --enable-libzmq --enable-libzvbi --enable-lv2 --enable-omx --enable-openal --enable-opencl --enable-opengl --enable-sdl2 --enable-libdc1394 --enable-libdrm --enable-libiec61883 --enable-nvenc --enable-chromaprint --enable-frei0r --enable-libx264 --enable-shared\n",
      "  libavutil      56. 31.100 / 56. 31.100\n",
      "  libavcodec     58. 54.100 / 58. 54.100\n",
      "  libavformat    58. 29.100 / 58. 29.100\n",
      "  libavdevice    58.  8.100 / 58.  8.100\n",
      "  libavfilter     7. 57.100 /  7. 57.100\n",
      "  libavresample   4.  0.  0 /  4.  0.  0\n",
      "  libswscale      5.  5.100 /  5.  5.100\n",
      "  libswresample   3.  5.100 /  3.  5.100\n",
      "  libpostproc    55.  5.100 / 55.  5.100\n",
      "Input #0, image2, from '/mnt/DATA/macrohet/results/glimpses/fast_grower_area_smoothed_graph/(6, 5)/646.6.5/frames/*_t_*.png':\n",
      "  Duration: 00:00:14.80, start: 0.000000, bitrate: N/A\n",
      "    Stream #0:0: Video: png, rgba(pc), 4123x1388 [SAR 12362:12362 DAR 4123:1388], 5 fps, 5 tbr, 5 tbn, 5 tbc\n",
      "Stream mapping:\n",
      "  Stream #0:0 -> #0:0 (png (native) -> h264 (libx264))\n",
      "Press [q] to stop, [?] for help\n",
      "[libx264 @ 0x563953e4dcc0] using SAR=1/1\n",
      "[libx264 @ 0x563953e4dcc0] using cpu capabilities: MMX2 SSE2Fast SSSE3 SSE4.2 AVX FMA3 BMI2 AVX2 AVX512\n",
      "[libx264 @ 0x563953e4dcc0] profile High, level 5.1\n",
      "[libx264 @ 0x563953e4dcc0] 264 - core 155 r2917 0a84d98 - H.264/MPEG-4 AVC codec - Copyleft 2003-2018 - http://www.videolan.org/x264.html - options: cabac=1 ref=3 deblock=1:0:0 analyse=0x3:0x113 me=hex subme=7 psy=1 psy_rd=1.00:0.00 mixed_ref=1 me_range=16 chroma_me=1 trellis=1 8x8dct=1 cqm=0 deadzone=21,11 fast_pskip=1 chroma_qp_offset=-2 threads=43 lookahead_threads=7 sliced_threads=0 nr=0 decimate=1 interlaced=0 bluray_compat=0 constrained_intra=0 bframes=3 b_pyramid=2 b_adapt=1 b_bias=0 direct=1 weightb=1 open_gop=0 weightp=2 keyint=250 keyint_min=5 scenecut=40 intra_refresh=0 rc_lookahead=40 rc=crf mbtree=1 crf=23.0 qcomp=0.60 qpmin=0 qpmax=69 qpstep=4 ip_ratio=1.40 aq=1:1.00\n",
      "Output #0, mp4, to '/mnt/DATA/macrohet/results/glimpses/fast_grower_area_smoothed_graph/(6, 5)/646.6.5/ID_646.6.5_outlying_growth_glimpse_graph.mp4':\n",
      "  Metadata:\n",
      "    encoder         : Lavf58.29.100\n",
      "    Stream #0:0: Video: h264 (libx264) (avc1 / 0x31637661), yuv420p, 4124x1388 [SAR 1:1 DAR 1031:347], q=-1--1, 5 fps, 10240 tbn, 5 tbc\n",
      "    Metadata:\n",
      "      encoder         : Lavc58.54.100 libx264\n",
      "    Side data:\n",
      "      cpb: bitrate max/min/avg: 0/0/0 buffer size: 0 vbv_delay: -1\n",
      "frame=   74 fps=6.6 q=-1.0 Lsize=    3693kB time=00:00:14.20 bitrate=2130.4kbits/s speed=1.26x    \n",
      "video:3692kB audio:0kB subtitle:0kB other streams:0kB global headers:0kB muxing overhead: 0.032563%\n",
      "[libx264 @ 0x563953e4dcc0] frame I:1     Avg QP:19.65  size:146810\n",
      "[libx264 @ 0x563953e4dcc0] frame P:72    Avg QP:21.46  size: 49813\n",
      "[libx264 @ 0x563953e4dcc0] frame B:1     Avg QP:23.23  size: 46275\n",
      "[libx264 @ 0x563953e4dcc0] consecutive B-frames: 97.3%  2.7%  0.0%  0.0%\n",
      "[libx264 @ 0x563953e4dcc0] mb I  I16..4: 17.5% 72.8%  9.7%\n",
      "[libx264 @ 0x563953e4dcc0] mb P  I16..4:  1.5%  8.6%  1.1%  P16..4:  3.5%  2.8%  1.3%  0.0%  0.0%    skip:81.1%\n",
      "[libx264 @ 0x563953e4dcc0] mb B  I16..4:  0.9%  5.8%  0.8%  B16..8:  5.1%  5.1%  1.3%  direct: 0.8%  skip:80.3%  L0:54.8% L1:38.9% BI: 6.3%\n",
      "[libx264 @ 0x563953e4dcc0] 8x8 transform intra:76.2% inter:82.3%\n",
      "[libx264 @ 0x563953e4dcc0] coded y,uvDC,uvAC intra: 62.9% 73.6% 64.2% inter: 5.3% 5.0% 1.5%\n",
      "[libx264 @ 0x563953e4dcc0] i16 v,h,dc,p: 51% 21%  3% 25%\n",
      "[libx264 @ 0x563953e4dcc0] i8 v,h,dc,ddl,ddr,vr,hd,vl,hu: 23% 13% 18%  6%  9%  9%  8%  8%  8%\n",
      "[libx264 @ 0x563953e4dcc0] i4 v,h,dc,ddl,ddr,vr,hd,vl,hu: 35% 19% 19%  4%  6%  5%  4%  4%  2%\n",
      "[libx264 @ 0x563953e4dcc0] i8c dc,h,v,p: 46% 17% 17% 20%\n",
      "[libx264 @ 0x563953e4dcc0] Weighted P-Frames: Y:0.0% UV:0.0%\n",
      "[libx264 @ 0x563953e4dcc0] ref P L0: 41.4%  6.7% 30.8% 21.1%\n",
      "[libx264 @ 0x563953e4dcc0] ref B L0: 63.5% 36.5%\n",
      "[libx264 @ 0x563953e4dcc0] kb/s:2043.05\n"
     ]
    },
    {
     "name": "stdout",
     "output_type": "stream",
     "text": [
      "Generating glimpse\n"
     ]
    },
    {
     "data": {
      "application/vnd.jupyter.widget-view+json": {
       "model_id": "9abff15ad479494c8cd22999b1dbbc2c",
       "version_major": 2,
       "version_minor": 0
      },
      "text/plain": [
       "Creating glimpse ID: ((6, 5), 219):   0%|          | 0/75 [00:00<?, ?it/s]"
      ]
     },
     "metadata": {},
     "output_type": "display_data"
    },
    {
     "data": {
      "application/vnd.jupyter.widget-view+json": {
       "model_id": "325418fd491d4aea82b068589057eff0",
       "version_major": 2,
       "version_minor": 0
      },
      "text/plain": [
       "Creating mask glimpse ID: ((6, 5), 219):   0%|          | 0/75 [00:00<?, ?it/s]"
      ]
     },
     "metadata": {},
     "output_type": "display_data"
    },
    {
     "data": {
      "application/vnd.jupyter.widget-view+json": {
       "model_id": "a6a8304412ce449f90420cb44c9d0505",
       "version_major": 2,
       "version_minor": 0
      },
      "text/plain": [
       "Extracting mtb area over each frame: ((6, 5), 219):   0%|          | 0/75 [00:00<?, ?it/s]"
      ]
     },
     "metadata": {},
     "output_type": "display_data"
    },
    {
     "data": {
      "application/vnd.jupyter.widget-view+json": {
       "model_id": "a7174494f6bf45a094de72aafb3b1a5e",
       "version_major": 2,
       "version_minor": 0
      },
      "text/plain": [
       "Saving out single frames:   0%|          | 0/75 [00:00<?, ?it/s]"
      ]
     },
     "metadata": {},
     "output_type": "display_data"
    },
    {
     "name": "stdout",
     "output_type": "stream",
     "text": [
      "No doubling found in the provided data.\n",
      "No doubling found in the provided data.\n",
      "No doubling found in the provided data.\n",
      "No doubling found in the provided data.\n",
      "No doubling found in the provided data.\n",
      "No doubling found in the provided data.\n",
      "No doubling found in the provided data.\n",
      "No doubling found in the provided data.\n",
      "No doubling found in the provided data.\n",
      "No doubling found in the provided data.\n",
      "No doubling found in the provided data.\n",
      "No doubling found in the provided data.\n",
      "No doubling found in the provided data.\n",
      "No doubling found in the provided data.\n",
      "No doubling found in the provided data.\n",
      "No doubling found in the provided data.\n",
      "No doubling found in the provided data.\n",
      "No doubling found in the provided data.\n",
      "No doubling found in the provided data.\n",
      "No doubling found in the provided data.\n",
      "No doubling found in the provided data.\n",
      "No doubling found in the provided data.\n",
      "No doubling found in the provided data.\n",
      "No doubling found in the provided data.\n",
      "No doubling found in the provided data.\n",
      "No doubling found in the provided data.\n",
      "No doubling found in the provided data.\n",
      "No doubling found in the provided data.\n",
      "No doubling found in the provided data.\n",
      "No doubling found in the provided data.\n",
      "No doubling found in the provided data.\n",
      "No doubling found in the provided data.\n",
      "No doubling found in the provided data.\n",
      "No doubling found in the provided data.\n",
      "No doubling found in the provided data.\n",
      "No doubling found in the provided data.\n",
      "No doubling found in the provided data.\n",
      "No doubling found in the provided data.\n",
      "No doubling found in the provided data.\n",
      "No doubling found in the provided data.\n",
      "No doubling found in the provided data.\n",
      "No doubling found in the provided data.\n",
      "No doubling found in the provided data.\n",
      "No doubling found in the provided data.\n",
      "No doubling found in the provided data.\n",
      "No doubling found in the provided data.\n",
      "No doubling found in the provided data.\n",
      "No doubling found in the provided data.\n",
      "No doubling found in the provided data.\n",
      "No doubling found in the provided data.\n",
      "No doubling found in the provided data.\n",
      "No doubling found in the provided data.\n",
      "No doubling found in the provided data.\n",
      "No doubling found in the provided data.\n",
      "No doubling found in the provided data.\n",
      "No doubling found in the provided data.\n",
      "No doubling found in the provided data.\n",
      "No doubling found in the provided data.\n",
      "No doubling found in the provided data.\n",
      "No doubling found in the provided data.\n",
      "No doubling found in the provided data.\n",
      "No doubling found in the provided data.\n",
      "No doubling found in the provided data.\n",
      "No doubling found in the provided data.\n",
      "No doubling found in the provided data.\n",
      "No doubling found in the provided data.\n",
      "No doubling found in the provided data.\n",
      "No doubling found in the provided data.\n",
      "No doubling found in the provided data.\n",
      "No doubling found in the provided data.\n",
      "No doubling found in the provided data.\n",
      "No doubling found in the provided data.\n",
      "No doubling found in the provided data.\n",
      "No doubling found in the provided data.\n",
      "No doubling found in the provided data.\n"
     ]
    },
    {
     "name": "stderr",
     "output_type": "stream",
     "text": [
      "ffmpeg version 4.2.7-0ubuntu0.1 Copyright (c) 2000-2022 the FFmpeg developers\n",
      "  built with gcc 9 (Ubuntu 9.4.0-1ubuntu1~20.04.1)\n",
      "  configuration: --prefix=/usr --extra-version=0ubuntu0.1 --toolchain=hardened --libdir=/usr/lib/x86_64-linux-gnu --incdir=/usr/include/x86_64-linux-gnu --arch=amd64 --enable-gpl --disable-stripping --enable-avresample --disable-filter=resample --enable-avisynth --enable-gnutls --enable-ladspa --enable-libaom --enable-libass --enable-libbluray --enable-libbs2b --enable-libcaca --enable-libcdio --enable-libcodec2 --enable-libflite --enable-libfontconfig --enable-libfreetype --enable-libfribidi --enable-libgme --enable-libgsm --enable-libjack --enable-libmp3lame --enable-libmysofa --enable-libopenjpeg --enable-libopenmpt --enable-libopus --enable-libpulse --enable-librsvg --enable-librubberband --enable-libshine --enable-libsnappy --enable-libsoxr --enable-libspeex --enable-libssh --enable-libtheora --enable-libtwolame --enable-libvidstab --enable-libvorbis --enable-libvpx --enable-libwavpack --enable-libwebp --enable-libx265 --enable-libxml2 --enable-libxvid --enable-libzmq --enable-libzvbi --enable-lv2 --enable-omx --enable-openal --enable-opencl --enable-opengl --enable-sdl2 --enable-libdc1394 --enable-libdrm --enable-libiec61883 --enable-nvenc --enable-chromaprint --enable-frei0r --enable-libx264 --enable-shared\n",
      "  libavutil      56. 31.100 / 56. 31.100\n",
      "  libavcodec     58. 54.100 / 58. 54.100\n",
      "  libavformat    58. 29.100 / 58. 29.100\n",
      "  libavdevice    58.  8.100 / 58.  8.100\n",
      "  libavfilter     7. 57.100 /  7. 57.100\n",
      "  libavresample   4.  0.  0 /  4.  0.  0\n",
      "  libswscale      5.  5.100 /  5.  5.100\n",
      "  libswresample   3.  5.100 /  3.  5.100\n",
      "  libpostproc    55.  5.100 / 55.  5.100\n",
      "Input #0, image2, from '/mnt/DATA/macrohet/results/glimpses/fast_grower_area_smoothed_graph/(6, 5)/219.6.5/frames/*_t_*.png':\n",
      "  Duration: 00:00:15.00, start: 0.000000, bitrate: N/A\n",
      "    Stream #0:0: Video: png, rgba(pc), 4123x1388 [SAR 12362:12362 DAR 4123:1388], 5 fps, 5 tbr, 5 tbn, 5 tbc\n",
      "Stream mapping:\n",
      "  Stream #0:0 -> #0:0 (png (native) -> h264 (libx264))\n",
      "Press [q] to stop, [?] for help\n",
      "[libx264 @ 0x55e74684d680] using SAR=1/1\n",
      "[libx264 @ 0x55e74684d680] using cpu capabilities: MMX2 SSE2Fast SSSE3 SSE4.2 AVX FMA3 BMI2 AVX2 AVX512\n",
      "[libx264 @ 0x55e74684d680] profile High, level 5.1\n",
      "[libx264 @ 0x55e74684d680] 264 - core 155 r2917 0a84d98 - H.264/MPEG-4 AVC codec - Copyleft 2003-2018 - http://www.videolan.org/x264.html - options: cabac=1 ref=3 deblock=1:0:0 analyse=0x3:0x113 me=hex subme=7 psy=1 psy_rd=1.00:0.00 mixed_ref=1 me_range=16 chroma_me=1 trellis=1 8x8dct=1 cqm=0 deadzone=21,11 fast_pskip=1 chroma_qp_offset=-2 threads=43 lookahead_threads=7 sliced_threads=0 nr=0 decimate=1 interlaced=0 bluray_compat=0 constrained_intra=0 bframes=3 b_pyramid=2 b_adapt=1 b_bias=0 direct=1 weightb=1 open_gop=0 weightp=2 keyint=250 keyint_min=5 scenecut=40 intra_refresh=0 rc_lookahead=40 rc=crf mbtree=1 crf=23.0 qcomp=0.60 qpmin=0 qpmax=69 qpstep=4 ip_ratio=1.40 aq=1:1.00\n",
      "Output #0, mp4, to '/mnt/DATA/macrohet/results/glimpses/fast_grower_area_smoothed_graph/(6, 5)/219.6.5/ID_219.6.5_outlying_growth_glimpse_graph.mp4':\n",
      "  Metadata:\n",
      "    encoder         : Lavf58.29.100\n",
      "    Stream #0:0: Video: h264 (libx264) (avc1 / 0x31637661), yuv420p, 4124x1388 [SAR 1:1 DAR 1031:347], q=-1--1, 5 fps, 10240 tbn, 5 tbc\n",
      "    Metadata:\n",
      "      encoder         : Lavc58.54.100 libx264\n",
      "    Side data:\n",
      "      cpb: bitrate max/min/avg: 0/0/0 buffer size: 0 vbv_delay: -1\n",
      "frame=   75 fps=9.2 q=-1.0 Lsize=    3689kB time=00:00:14.40 bitrate=2098.5kbits/s speed=1.77x    \n",
      "video:3687kB audio:0kB subtitle:0kB other streams:0kB global headers:0kB muxing overhead: 0.037368%\n",
      "[libx264 @ 0x55e74684d680] frame I:1     Avg QP:17.92  size:185932\n",
      "[libx264 @ 0x55e74684d680] frame P:60    Avg QP:21.55  size: 49674\n",
      "[libx264 @ 0x55e74684d680] frame B:14    Avg QP:21.35  size: 43491\n",
      "[libx264 @ 0x55e74684d680] consecutive B-frames: 70.7% 10.7%  8.0% 10.7%\n",
      "[libx264 @ 0x55e74684d680] mb I  I16..4: 21.5% 66.9% 11.6%\n",
      "[libx264 @ 0x55e74684d680] mb P  I16..4:  1.7%  8.4%  1.1%  P16..4:  3.3%  2.8%  1.4%  0.0%  0.0%    skip:81.3%\n",
      "[libx264 @ 0x55e74684d680] mb B  I16..4:  0.7%  4.5%  0.6%  B16..8:  5.7%  4.8%  1.3%  direct: 0.9%  skip:81.5%  L0:54.6% L1:40.1% BI: 5.3%\n",
      "[libx264 @ 0x55e74684d680] 8x8 transform intra:74.6% inter:82.0%\n",
      "[libx264 @ 0x55e74684d680] coded y,uvDC,uvAC intra: 62.5% 75.6% 64.8% inter: 5.6% 5.5% 1.6%\n",
      "[libx264 @ 0x55e74684d680] i16 v,h,dc,p: 49% 17%  3% 31%\n",
      "[libx264 @ 0x55e74684d680] i8 v,h,dc,ddl,ddr,vr,hd,vl,hu: 22% 15% 17%  6%  8%  8%  8%  8%  8%\n",
      "[libx264 @ 0x55e74684d680] i4 v,h,dc,ddl,ddr,vr,hd,vl,hu: 35% 22% 18%  4%  6%  5%  4%  4%  2%\n",
      "[libx264 @ 0x55e74684d680] i8c dc,h,v,p: 44% 18% 17% 21%\n",
      "[libx264 @ 0x55e74684d680] Weighted P-Frames: Y:0.0% UV:0.0%\n",
      "[libx264 @ 0x55e74684d680] ref P L0: 43.5%  7.0% 28.5% 21.1%\n",
      "[libx264 @ 0x55e74684d680] ref B L0: 65.0% 28.8%  6.3%\n",
      "[libx264 @ 0x55e74684d680] ref B L1: 93.4%  6.6%\n",
      "[libx264 @ 0x55e74684d680] kb/s:2013.48\n"
     ]
    },
    {
     "name": "stdout",
     "output_type": "stream",
     "text": [
      "Generating glimpse\n"
     ]
    },
    {
     "data": {
      "application/vnd.jupyter.widget-view+json": {
       "model_id": "4449870f419243a786e2e01f9c5fc85c",
       "version_major": 2,
       "version_minor": 0
      },
      "text/plain": [
       "Creating glimpse ID: ((5, 8), 99):   0%|          | 0/74 [00:00<?, ?it/s]"
      ]
     },
     "metadata": {},
     "output_type": "display_data"
    },
    {
     "name": "stderr",
     "output_type": "stream",
     "text": [
      "[INFO][2023/12/06 12:53:13 PM] Opening HDF file: /mnt/DATA/macrohet/labels/PS0000/macrohet_seg_model/(5, 8).h5...\n",
      "INFO:btrack.io.hdf:Opening HDF file: /mnt/DATA/macrohet/labels/PS0000/macrohet_seg_model/(5, 8).h5...\n",
      "[INFO][2023/12/06 12:53:39 PM] Loading segmentation (75, 6048, 6048)\n",
      "INFO:btrack.io.hdf:Loading segmentation (75, 6048, 6048)\n",
      "[INFO][2023/12/06 12:53:39 PM] Closing HDF file: /mnt/DATA/macrohet/labels/PS0000/macrohet_seg_model/(5, 8).h5\n",
      "INFO:btrack.io.hdf:Closing HDF file: /mnt/DATA/macrohet/labels/PS0000/macrohet_seg_model/(5, 8).h5\n"
     ]
    },
    {
     "data": {
      "application/vnd.jupyter.widget-view+json": {
       "model_id": "d111228b786041358414dce7d0e08844",
       "version_major": 2,
       "version_minor": 0
      },
      "text/plain": [
       "Creating mask glimpse ID: ((5, 8), 99):   0%|          | 0/74 [00:00<?, ?it/s]"
      ]
     },
     "metadata": {},
     "output_type": "display_data"
    },
    {
     "data": {
      "application/vnd.jupyter.widget-view+json": {
       "model_id": "21c0779c9bff4dcf9298dd2014969d1c",
       "version_major": 2,
       "version_minor": 0
      },
      "text/plain": [
       "Extracting mtb area over each frame: ((5, 8), 99):   0%|          | 0/74 [00:00<?, ?it/s]"
      ]
     },
     "metadata": {},
     "output_type": "display_data"
    },
    {
     "data": {
      "application/vnd.jupyter.widget-view+json": {
       "model_id": "30efe82855344fbeb3f32436d2f24f0c",
       "version_major": 2,
       "version_minor": 0
      },
      "text/plain": [
       "Saving out single frames:   0%|          | 0/74 [00:00<?, ?it/s]"
      ]
     },
     "metadata": {},
     "output_type": "display_data"
    },
    {
     "name": "stdout",
     "output_type": "stream",
     "text": [
      "No doubling found in the provided data.\n",
      "No doubling found in the provided data.\n",
      "No doubling found in the provided data.\n",
      "No doubling found in the provided data.\n",
      "No doubling found in the provided data.\n",
      "No doubling found in the provided data.\n",
      "No doubling found in the provided data.\n",
      "No doubling found in the provided data.\n",
      "No doubling found in the provided data.\n",
      "No doubling found in the provided data.\n",
      "No doubling found in the provided data.\n",
      "No doubling found in the provided data.\n",
      "No doubling found in the provided data.\n",
      "No doubling found in the provided data.\n",
      "No doubling found in the provided data.\n",
      "No doubling found in the provided data.\n",
      "No doubling found in the provided data.\n",
      "No doubling found in the provided data.\n",
      "No doubling found in the provided data.\n",
      "No doubling found in the provided data.\n",
      "No doubling found in the provided data.\n",
      "No doubling found in the provided data.\n",
      "No doubling found in the provided data.\n",
      "No doubling found in the provided data.\n",
      "No doubling found in the provided data.\n",
      "No doubling found in the provided data.\n",
      "No doubling found in the provided data.\n",
      "No doubling found in the provided data.\n",
      "No doubling found in the provided data.\n",
      "No doubling found in the provided data.\n",
      "No doubling found in the provided data.\n",
      "No doubling found in the provided data.\n",
      "No doubling found in the provided data.\n",
      "No doubling found in the provided data.\n",
      "No doubling found in the provided data.\n",
      "No doubling found in the provided data.\n",
      "No doubling found in the provided data.\n",
      "No doubling found in the provided data.\n",
      "No doubling found in the provided data.\n",
      "No doubling found in the provided data.\n",
      "No doubling found in the provided data.\n",
      "No doubling found in the provided data.\n",
      "No doubling found in the provided data.\n",
      "No doubling found in the provided data.\n",
      "No doubling found in the provided data.\n",
      "No doubling found in the provided data.\n",
      "No doubling found in the provided data.\n",
      "No doubling found in the provided data.\n",
      "No doubling found in the provided data.\n",
      "No doubling found in the provided data.\n",
      "No doubling found in the provided data.\n",
      "No doubling found in the provided data.\n",
      "No doubling found in the provided data.\n",
      "No doubling found in the provided data.\n",
      "No doubling found in the provided data.\n",
      "No doubling found in the provided data.\n",
      "No doubling found in the provided data.\n",
      "No doubling found in the provided data.\n",
      "No doubling found in the provided data.\n",
      "No doubling found in the provided data.\n",
      "No doubling found in the provided data.\n",
      "No doubling found in the provided data.\n",
      "No doubling found in the provided data.\n",
      "No doubling found in the provided data.\n",
      "No doubling found in the provided data.\n",
      "No doubling found in the provided data.\n",
      "No doubling found in the provided data.\n",
      "No doubling found in the provided data.\n",
      "No doubling found in the provided data.\n",
      "No doubling found in the provided data.\n",
      "No doubling found in the provided data.\n",
      "No doubling found in the provided data.\n",
      "No doubling found in the provided data.\n",
      "No doubling found in the provided data.\n"
     ]
    },
    {
     "name": "stderr",
     "output_type": "stream",
     "text": [
      "ffmpeg version 4.2.7-0ubuntu0.1 Copyright (c) 2000-2022 the FFmpeg developers\n",
      "  built with gcc 9 (Ubuntu 9.4.0-1ubuntu1~20.04.1)\n",
      "  configuration: --prefix=/usr --extra-version=0ubuntu0.1 --toolchain=hardened --libdir=/usr/lib/x86_64-linux-gnu --incdir=/usr/include/x86_64-linux-gnu --arch=amd64 --enable-gpl --disable-stripping --enable-avresample --disable-filter=resample --enable-avisynth --enable-gnutls --enable-ladspa --enable-libaom --enable-libass --enable-libbluray --enable-libbs2b --enable-libcaca --enable-libcdio --enable-libcodec2 --enable-libflite --enable-libfontconfig --enable-libfreetype --enable-libfribidi --enable-libgme --enable-libgsm --enable-libjack --enable-libmp3lame --enable-libmysofa --enable-libopenjpeg --enable-libopenmpt --enable-libopus --enable-libpulse --enable-librsvg --enable-librubberband --enable-libshine --enable-libsnappy --enable-libsoxr --enable-libspeex --enable-libssh --enable-libtheora --enable-libtwolame --enable-libvidstab --enable-libvorbis --enable-libvpx --enable-libwavpack --enable-libwebp --enable-libx265 --enable-libxml2 --enable-libxvid --enable-libzmq --enable-libzvbi --enable-lv2 --enable-omx --enable-openal --enable-opencl --enable-opengl --enable-sdl2 --enable-libdc1394 --enable-libdrm --enable-libiec61883 --enable-nvenc --enable-chromaprint --enable-frei0r --enable-libx264 --enable-shared\n",
      "  libavutil      56. 31.100 / 56. 31.100\n",
      "  libavcodec     58. 54.100 / 58. 54.100\n",
      "  libavformat    58. 29.100 / 58. 29.100\n",
      "  libavdevice    58.  8.100 / 58.  8.100\n",
      "  libavfilter     7. 57.100 /  7. 57.100\n",
      "  libavresample   4.  0.  0 /  4.  0.  0\n",
      "  libswscale      5.  5.100 /  5.  5.100\n",
      "  libswresample   3.  5.100 /  3.  5.100\n",
      "  libpostproc    55.  5.100 / 55.  5.100\n",
      "Input #0, image2, from '/mnt/DATA/macrohet/results/glimpses/fast_grower_area_smoothed_graph/(5, 8)/99.5.8/frames/*_t_*.png':\n",
      "  Duration: 00:00:14.80, start: 0.000000, bitrate: N/A\n",
      "    Stream #0:0: Video: png, rgba(pc), 4150x1388 [SAR 12362:12362 DAR 2075:694], 5 fps, 5 tbr, 5 tbn, 5 tbc\n",
      "Stream mapping:\n",
      "  Stream #0:0 -> #0:0 (png (native) -> h264 (libx264))\n",
      "Press [q] to stop, [?] for help\n",
      "[libx264 @ 0x56491b6e8cc0] using SAR=1/1\n",
      "[libx264 @ 0x56491b6e8cc0] using cpu capabilities: MMX2 SSE2Fast SSSE3 SSE4.2 AVX FMA3 BMI2 AVX2 AVX512\n",
      "[libx264 @ 0x56491b6e8cc0] profile High, level 5.1\n",
      "[libx264 @ 0x56491b6e8cc0] 264 - core 155 r2917 0a84d98 - H.264/MPEG-4 AVC codec - Copyleft 2003-2018 - http://www.videolan.org/x264.html - options: cabac=1 ref=3 deblock=1:0:0 analyse=0x3:0x113 me=hex subme=7 psy=1 psy_rd=1.00:0.00 mixed_ref=1 me_range=16 chroma_me=1 trellis=1 8x8dct=1 cqm=0 deadzone=21,11 fast_pskip=1 chroma_qp_offset=-2 threads=43 lookahead_threads=7 sliced_threads=0 nr=0 decimate=1 interlaced=0 bluray_compat=0 constrained_intra=0 bframes=3 b_pyramid=2 b_adapt=1 b_bias=0 direct=1 weightb=1 open_gop=0 weightp=2 keyint=250 keyint_min=5 scenecut=40 intra_refresh=0 rc_lookahead=40 rc=crf mbtree=1 crf=23.0 qcomp=0.60 qpmin=0 qpmax=69 qpstep=4 ip_ratio=1.40 aq=1:1.00\n",
      "Output #0, mp4, to '/mnt/DATA/macrohet/results/glimpses/fast_grower_area_smoothed_graph/(5, 8)/99.5.8/ID_99.5.8_outlying_growth_glimpse_graph.mp4':\n",
      "  Metadata:\n",
      "    encoder         : Lavf58.29.100\n",
      "    Stream #0:0: Video: h264 (libx264) (avc1 / 0x31637661), yuv420p, 4150x1388 [SAR 1:1 DAR 2075:694], q=-1--1, 5 fps, 10240 tbn, 5 tbc\n",
      "    Metadata:\n",
      "      encoder         : Lavc58.54.100 libx264\n",
      "    Side data:\n",
      "      cpb: bitrate max/min/avg: 0/0/0 buffer size: 0 vbv_delay: -1\n",
      "frame=   74 fps= 14 q=-1.0 Lsize=    3490kB time=00:00:14.20 bitrate=2013.5kbits/s speed=2.77x    \n",
      "video:3489kB audio:0kB subtitle:0kB other streams:0kB global headers:0kB muxing overhead: 0.036919%\n",
      "[libx264 @ 0x56491b6e8cc0] frame I:1     Avg QP:17.36  size:187302\n",
      "[libx264 @ 0x56491b6e8cc0] frame P:67    Avg QP:21.79  size: 46143\n",
      "[libx264 @ 0x56491b6e8cc0] frame B:6     Avg QP:20.93  size: 48844\n",
      "[libx264 @ 0x56491b6e8cc0] consecutive B-frames: 85.1% 10.8%  4.1%  0.0%\n",
      "[libx264 @ 0x56491b6e8cc0] mb I  I16..4: 17.8% 70.3% 11.9%\n",
      "[libx264 @ 0x56491b6e8cc0] mb P  I16..4:  2.2%  8.2%  1.2%  P16..4:  3.3%  2.3%  1.2%  0.0%  0.0%    skip:81.5%\n",
      "[libx264 @ 0x56491b6e8cc0] mb B  I16..4:  0.8%  5.5%  0.7%  B16..8:  4.9%  4.0%  1.3%  direct: 0.9%  skip:81.9%  L0:56.2% L1:37.5% BI: 6.3%\n",
      "[libx264 @ 0x56491b6e8cc0] 8x8 transform intra:70.7% inter:83.5%\n",
      "[libx264 @ 0x56491b6e8cc0] coded y,uvDC,uvAC intra: 55.5% 68.3% 57.6% inter: 4.4% 4.1% 1.4%\n",
      "[libx264 @ 0x56491b6e8cc0] i16 v,h,dc,p: 61% 15%  3% 22%\n",
      "[libx264 @ 0x56491b6e8cc0] i8 v,h,dc,ddl,ddr,vr,hd,vl,hu: 23% 13% 20%  5%  8%  8%  8%  7%  8%\n",
      "[libx264 @ 0x56491b6e8cc0] i4 v,h,dc,ddl,ddr,vr,hd,vl,hu: 35% 20% 18%  4%  6%  5%  5%  4%  2%\n",
      "[libx264 @ 0x56491b6e8cc0] i8c dc,h,v,p: 50% 16% 16% 18%\n",
      "[libx264 @ 0x56491b6e8cc0] Weighted P-Frames: Y:0.0% UV:0.0%\n",
      "[libx264 @ 0x56491b6e8cc0] ref P L0: 41.1%  5.5% 30.6% 22.8%\n",
      "[libx264 @ 0x56491b6e8cc0] ref B L0: 71.8% 28.0%  0.2%\n",
      "[libx264 @ 0x56491b6e8cc0] kb/s:1930.79\n"
     ]
    },
    {
     "name": "stdout",
     "output_type": "stream",
     "text": [
      "Generating glimpse\n"
     ]
    },
    {
     "data": {
      "application/vnd.jupyter.widget-view+json": {
       "model_id": "e487ee8304d24860a3c5c86ce86503b1",
       "version_major": 2,
       "version_minor": 0
      },
      "text/plain": [
       "Creating glimpse ID: ((3, 9), 630):   0%|          | 0/73 [00:00<?, ?it/s]"
      ]
     },
     "metadata": {},
     "output_type": "display_data"
    },
    {
     "name": "stderr",
     "output_type": "stream",
     "text": [
      "[INFO][2023/12/06 01:02:17 PM] Opening HDF file: /mnt/DATA/macrohet/labels/PS0000/macrohet_seg_model/(3, 9).h5...\n",
      "INFO:btrack.io.hdf:Opening HDF file: /mnt/DATA/macrohet/labels/PS0000/macrohet_seg_model/(3, 9).h5...\n",
      "[INFO][2023/12/06 01:02:39 PM] Loading segmentation (75, 6048, 6048)\n",
      "INFO:btrack.io.hdf:Loading segmentation (75, 6048, 6048)\n",
      "[INFO][2023/12/06 01:02:39 PM] Closing HDF file: /mnt/DATA/macrohet/labels/PS0000/macrohet_seg_model/(3, 9).h5\n",
      "INFO:btrack.io.hdf:Closing HDF file: /mnt/DATA/macrohet/labels/PS0000/macrohet_seg_model/(3, 9).h5\n"
     ]
    },
    {
     "data": {
      "application/vnd.jupyter.widget-view+json": {
       "model_id": "dcb92311b0b0415ba1ac9d5548fe8854",
       "version_major": 2,
       "version_minor": 0
      },
      "text/plain": [
       "Creating mask glimpse ID: ((3, 9), 630):   0%|          | 0/73 [00:00<?, ?it/s]"
      ]
     },
     "metadata": {},
     "output_type": "display_data"
    },
    {
     "data": {
      "application/vnd.jupyter.widget-view+json": {
       "model_id": "81e5d322a9234ebeb73d8df268a144ed",
       "version_major": 2,
       "version_minor": 0
      },
      "text/plain": [
       "Extracting mtb area over each frame: ((3, 9), 630):   0%|          | 0/73 [00:00<?, ?it/s]"
      ]
     },
     "metadata": {},
     "output_type": "display_data"
    },
    {
     "data": {
      "application/vnd.jupyter.widget-view+json": {
       "model_id": "c0d306693b1d462e9cacb4d7beb010f9",
       "version_major": 2,
       "version_minor": 0
      },
      "text/plain": [
       "Saving out single frames:   0%|          | 0/73 [00:00<?, ?it/s]"
      ]
     },
     "metadata": {},
     "output_type": "display_data"
    },
    {
     "name": "stdout",
     "output_type": "stream",
     "text": [
      "No doubling found in the provided data.\n",
      "No doubling found in the provided data.\n",
      "No doubling found in the provided data.\n",
      "No doubling found in the provided data.\n",
      "No doubling found in the provided data.\n",
      "No doubling found in the provided data.\n",
      "No doubling found in the provided data.\n",
      "No doubling found in the provided data.\n",
      "No doubling found in the provided data.\n",
      "No doubling found in the provided data.\n",
      "No doubling found in the provided data.\n",
      "No doubling found in the provided data.\n",
      "No doubling found in the provided data.\n",
      "No doubling found in the provided data.\n",
      "No doubling found in the provided data.\n",
      "No doubling found in the provided data.\n",
      "No doubling found in the provided data.\n",
      "No doubling found in the provided data.\n",
      "No doubling found in the provided data.\n",
      "No doubling found in the provided data.\n",
      "No doubling found in the provided data.\n",
      "No doubling found in the provided data.\n",
      "No doubling found in the provided data.\n",
      "No doubling found in the provided data.\n",
      "No doubling found in the provided data.\n",
      "No doubling found in the provided data.\n",
      "No doubling found in the provided data.\n",
      "No doubling found in the provided data.\n",
      "No doubling found in the provided data.\n",
      "No doubling found in the provided data.\n",
      "No doubling found in the provided data.\n",
      "No doubling found in the provided data.\n",
      "No doubling found in the provided data.\n",
      "No doubling found in the provided data.\n",
      "No doubling found in the provided data.\n",
      "No doubling found in the provided data.\n",
      "No doubling found in the provided data.\n",
      "No doubling found in the provided data.\n",
      "No doubling found in the provided data.\n",
      "No doubling found in the provided data.\n",
      "No doubling found in the provided data.\n",
      "No doubling found in the provided data.\n",
      "No doubling found in the provided data.\n",
      "No doubling found in the provided data.\n",
      "No doubling found in the provided data.\n",
      "No doubling found in the provided data.\n",
      "No doubling found in the provided data.\n",
      "No doubling found in the provided data.\n",
      "No doubling found in the provided data.\n",
      "No doubling found in the provided data.\n",
      "No doubling found in the provided data.\n",
      "No doubling found in the provided data.\n",
      "No doubling found in the provided data.\n",
      "No doubling found in the provided data.\n",
      "No doubling found in the provided data.\n",
      "No doubling found in the provided data.\n",
      "No doubling found in the provided data.\n",
      "No doubling found in the provided data.\n",
      "No doubling found in the provided data.\n",
      "No doubling found in the provided data.\n",
      "No doubling found in the provided data.\n",
      "No doubling found in the provided data.\n",
      "No doubling found in the provided data.\n",
      "No doubling found in the provided data.\n",
      "No doubling found in the provided data.\n",
      "No doubling found in the provided data.\n",
      "No doubling found in the provided data.\n",
      "No doubling found in the provided data.\n",
      "No doubling found in the provided data.\n",
      "No doubling found in the provided data.\n",
      "No doubling found in the provided data.\n",
      "No doubling found in the provided data.\n",
      "No doubling found in the provided data.\n"
     ]
    },
    {
     "name": "stderr",
     "output_type": "stream",
     "text": [
      "ffmpeg version 4.2.7-0ubuntu0.1 Copyright (c) 2000-2022 the FFmpeg developers\n",
      "  built with gcc 9 (Ubuntu 9.4.0-1ubuntu1~20.04.1)\n",
      "  configuration: --prefix=/usr --extra-version=0ubuntu0.1 --toolchain=hardened --libdir=/usr/lib/x86_64-linux-gnu --incdir=/usr/include/x86_64-linux-gnu --arch=amd64 --enable-gpl --disable-stripping --enable-avresample --disable-filter=resample --enable-avisynth --enable-gnutls --enable-ladspa --enable-libaom --enable-libass --enable-libbluray --enable-libbs2b --enable-libcaca --enable-libcdio --enable-libcodec2 --enable-libflite --enable-libfontconfig --enable-libfreetype --enable-libfribidi --enable-libgme --enable-libgsm --enable-libjack --enable-libmp3lame --enable-libmysofa --enable-libopenjpeg --enable-libopenmpt --enable-libopus --enable-libpulse --enable-librsvg --enable-librubberband --enable-libshine --enable-libsnappy --enable-libsoxr --enable-libspeex --enable-libssh --enable-libtheora --enable-libtwolame --enable-libvidstab --enable-libvorbis --enable-libvpx --enable-libwavpack --enable-libwebp --enable-libx265 --enable-libxml2 --enable-libxvid --enable-libzmq --enable-libzvbi --enable-lv2 --enable-omx --enable-openal --enable-opencl --enable-opengl --enable-sdl2 --enable-libdc1394 --enable-libdrm --enable-libiec61883 --enable-nvenc --enable-chromaprint --enable-frei0r --enable-libx264 --enable-shared\n",
      "  libavutil      56. 31.100 / 56. 31.100\n",
      "  libavcodec     58. 54.100 / 58. 54.100\n",
      "  libavformat    58. 29.100 / 58. 29.100\n",
      "  libavdevice    58.  8.100 / 58.  8.100\n",
      "  libavfilter     7. 57.100 /  7. 57.100\n",
      "  libavresample   4.  0.  0 /  4.  0.  0\n",
      "  libswscale      5.  5.100 /  5.  5.100\n",
      "  libswresample   3.  5.100 /  3.  5.100\n",
      "  libpostproc    55.  5.100 / 55.  5.100\n",
      "Input #0, image2, from '/mnt/DATA/macrohet/results/glimpses/fast_grower_area_smoothed_graph/(3, 9)/630.3.9/frames/*_t_*.png':\n",
      "  Duration: 00:00:14.60, start: 0.000000, bitrate: N/A\n",
      "    Stream #0:0: Video: png, rgba(pc), 4123x1388 [SAR 12362:12362 DAR 4123:1388], 5 fps, 5 tbr, 5 tbn, 5 tbc\n",
      "Stream mapping:\n",
      "  Stream #0:0 -> #0:0 (png (native) -> h264 (libx264))\n",
      "Press [q] to stop, [?] for help\n",
      "[libx264 @ 0x564736452680] using SAR=1/1\n",
      "[libx264 @ 0x564736452680] using cpu capabilities: MMX2 SSE2Fast SSSE3 SSE4.2 AVX FMA3 BMI2 AVX2 AVX512\n",
      "[libx264 @ 0x564736452680] profile High, level 5.1\n",
      "[libx264 @ 0x564736452680] 264 - core 155 r2917 0a84d98 - H.264/MPEG-4 AVC codec - Copyleft 2003-2018 - http://www.videolan.org/x264.html - options: cabac=1 ref=3 deblock=1:0:0 analyse=0x3:0x113 me=hex subme=7 psy=1 psy_rd=1.00:0.00 mixed_ref=1 me_range=16 chroma_me=1 trellis=1 8x8dct=1 cqm=0 deadzone=21,11 fast_pskip=1 chroma_qp_offset=-2 threads=43 lookahead_threads=7 sliced_threads=0 nr=0 decimate=1 interlaced=0 bluray_compat=0 constrained_intra=0 bframes=3 b_pyramid=2 b_adapt=1 b_bias=0 direct=1 weightb=1 open_gop=0 weightp=2 keyint=250 keyint_min=5 scenecut=40 intra_refresh=0 rc_lookahead=40 rc=crf mbtree=1 crf=23.0 qcomp=0.60 qpmin=0 qpmax=69 qpstep=4 ip_ratio=1.40 aq=1:1.00\n",
      "Output #0, mp4, to '/mnt/DATA/macrohet/results/glimpses/fast_grower_area_smoothed_graph/(3, 9)/630.3.9/ID_630.3.9_outlying_growth_glimpse_graph.mp4':\n",
      "  Metadata:\n",
      "    encoder         : Lavf58.29.100\n",
      "    Stream #0:0: Video: h264 (libx264) (avc1 / 0x31637661), yuv420p, 4124x1388 [SAR 1:1 DAR 1031:347], q=-1--1, 5 fps, 10240 tbn, 5 tbc\n",
      "    Metadata:\n",
      "      encoder         : Lavc58.54.100 libx264\n",
      "    Side data:\n",
      "      cpb: bitrate max/min/avg: 0/0/0 buffer size: 0 vbv_delay: -1\n",
      "frame=   73 fps= 17 q=-1.0 Lsize=    3294kB time=00:00:14.00 bitrate=1927.3kbits/s speed= 3.3x    \n",
      "video:3292kB audio:0kB subtitle:0kB other streams:0kB global headers:0kB muxing overhead: 0.039241%\n",
      "[libx264 @ 0x564736452680] frame I:1     Avg QP:18.51  size:160852\n",
      "[libx264 @ 0x564736452680] frame P:64    Avg QP:22.16  size: 45337\n",
      "[libx264 @ 0x564736452680] frame B:8     Avg QP:21.26  size: 38537\n",
      "[libx264 @ 0x564736452680] consecutive B-frames: 82.2%  8.2%  4.1%  5.5%\n",
      "[libx264 @ 0x564736452680] mb I  I16..4: 18.2% 69.6% 12.2%\n",
      "[libx264 @ 0x564736452680] mb P  I16..4:  1.5%  8.2%  1.2%  P16..4:  3.5%  2.4%  1.3%  0.0%  0.0%    skip:81.8%\n",
      "[libx264 @ 0x564736452680] mb B  I16..4:  1.0%  4.6%  0.6%  B16..8:  5.1%  3.9%  1.1%  direct: 0.9%  skip:82.8%  L0:51.6% L1:42.3% BI: 6.1%\n",
      "[libx264 @ 0x564736452680] 8x8 transform intra:74.5% inter:80.8%\n",
      "[libx264 @ 0x564736452680] coded y,uvDC,uvAC intra: 58.2% 70.8% 59.4% inter: 4.7% 5.2% 1.4%\n",
      "[libx264 @ 0x564736452680] i16 v,h,dc,p: 53% 20%  4% 24%\n",
      "[libx264 @ 0x564736452680] i8 v,h,dc,ddl,ddr,vr,hd,vl,hu: 23% 14% 21%  5%  8%  7%  8%  6%  7%\n",
      "[libx264 @ 0x564736452680] i4 v,h,dc,ddl,ddr,vr,hd,vl,hu: 35% 22% 19%  4%  6%  4%  4%  3%  2%\n",
      "[libx264 @ 0x564736452680] i8c dc,h,v,p: 48% 19% 16% 17%\n",
      "[libx264 @ 0x564736452680] Weighted P-Frames: Y:0.0% UV:0.0%\n",
      "[libx264 @ 0x564736452680] ref P L0: 41.7%  6.5% 31.5% 20.4%\n",
      "[libx264 @ 0x564736452680] ref B L0: 68.6% 26.1%  5.3%\n",
      "[libx264 @ 0x564736452680] ref B L1: 91.2%  8.8%\n",
      "[libx264 @ 0x564736452680] kb/s:1846.98\n"
     ]
    },
    {
     "name": "stdout",
     "output_type": "stream",
     "text": [
      "Generating glimpse\n"
     ]
    },
    {
     "data": {
      "application/vnd.jupyter.widget-view+json": {
       "model_id": "f2dd8740adad4313a71fd743a825667f",
       "version_major": 2,
       "version_minor": 0
      },
      "text/plain": [
       "Creating glimpse ID: ((3, 5), 62):   0%|          | 0/75 [00:00<?, ?it/s]"
      ]
     },
     "metadata": {},
     "output_type": "display_data"
    },
    {
     "name": "stderr",
     "output_type": "stream",
     "text": [
      "/home/dayn/miniconda3/envs/brassica/lib/python3.9/site-packages/dask/array/core.py:1759: PerformanceWarning: Increasing number of chunks by factor of 681\n",
      "  return da_func(*args, **kwargs)\n"
     ]
    },
    {
     "data": {
      "application/vnd.jupyter.widget-view+json": {
       "model_id": "c4bfcdc486504dc986887ff7b639805c",
       "version_major": 2,
       "version_minor": 0
      },
      "text/plain": [
       "Creating mask glimpse ID: ((3, 5), 62):   0%|          | 0/75 [00:00<?, ?it/s]"
      ]
     },
     "metadata": {},
     "output_type": "display_data"
    },
    {
     "data": {
      "application/vnd.jupyter.widget-view+json": {
       "model_id": "26ad0a2dd0a34e6aa8690512d93710c6",
       "version_major": 2,
       "version_minor": 0
      },
      "text/plain": [
       "Extracting mtb area over each frame: ((3, 5), 62):   0%|          | 0/75 [00:00<?, ?it/s]"
      ]
     },
     "metadata": {},
     "output_type": "display_data"
    },
    {
     "data": {
      "application/vnd.jupyter.widget-view+json": {
       "model_id": "2d6c0d2c3a1a42ec9bda6e8a9608d575",
       "version_major": 2,
       "version_minor": 0
      },
      "text/plain": [
       "Saving out single frames:   0%|          | 0/75 [00:00<?, ?it/s]"
      ]
     },
     "metadata": {},
     "output_type": "display_data"
    },
    {
     "name": "stdout",
     "output_type": "stream",
     "text": [
      "No doubling found in the provided data.\n",
      "No doubling found in the provided data.\n",
      "No doubling found in the provided data.\n",
      "No doubling found in the provided data.\n",
      "No doubling found in the provided data.\n",
      "No doubling found in the provided data.\n",
      "No doubling found in the provided data.\n",
      "No doubling found in the provided data.\n",
      "No doubling found in the provided data.\n",
      "No doubling found in the provided data.\n",
      "No doubling found in the provided data.\n",
      "No doubling found in the provided data.\n",
      "No doubling found in the provided data.\n",
      "No doubling found in the provided data.\n",
      "No doubling found in the provided data.\n",
      "No doubling found in the provided data.\n",
      "No doubling found in the provided data.\n",
      "No doubling found in the provided data.\n",
      "No doubling found in the provided data.\n",
      "No doubling found in the provided data.\n",
      "No doubling found in the provided data.\n",
      "No doubling found in the provided data.\n",
      "No doubling found in the provided data.\n",
      "No doubling found in the provided data.\n",
      "No doubling found in the provided data.\n",
      "No doubling found in the provided data.\n",
      "No doubling found in the provided data.\n",
      "No doubling found in the provided data.\n",
      "No doubling found in the provided data.\n",
      "No doubling found in the provided data.\n",
      "No doubling found in the provided data.\n",
      "No doubling found in the provided data.\n",
      "No doubling found in the provided data.\n",
      "No doubling found in the provided data.\n",
      "No doubling found in the provided data.\n",
      "No doubling found in the provided data.\n",
      "No doubling found in the provided data.\n",
      "No doubling found in the provided data.\n",
      "No doubling found in the provided data.\n",
      "No doubling found in the provided data.\n",
      "No doubling found in the provided data.\n",
      "No doubling found in the provided data.\n",
      "No doubling found in the provided data.\n",
      "No doubling found in the provided data.\n",
      "No doubling found in the provided data.\n",
      "No doubling found in the provided data.\n",
      "No doubling found in the provided data.\n",
      "No doubling found in the provided data.\n",
      "No doubling found in the provided data.\n",
      "No doubling found in the provided data.\n",
      "No doubling found in the provided data.\n",
      "No doubling found in the provided data.\n",
      "No doubling found in the provided data.\n",
      "No doubling found in the provided data.\n",
      "No doubling found in the provided data.\n",
      "No doubling found in the provided data.\n",
      "No doubling found in the provided data.\n",
      "No doubling found in the provided data.\n",
      "No doubling found in the provided data.\n",
      "No doubling found in the provided data.\n",
      "No doubling found in the provided data.\n",
      "No doubling found in the provided data.\n",
      "No doubling found in the provided data.\n",
      "No doubling found in the provided data.\n",
      "No doubling found in the provided data.\n",
      "No doubling found in the provided data.\n",
      "No doubling found in the provided data.\n",
      "No doubling found in the provided data.\n",
      "No doubling found in the provided data.\n",
      "No doubling found in the provided data.\n",
      "No doubling found in the provided data.\n",
      "No doubling found in the provided data.\n",
      "No doubling found in the provided data.\n",
      "No doubling found in the provided data.\n",
      "No doubling found in the provided data.\n"
     ]
    },
    {
     "name": "stderr",
     "output_type": "stream",
     "text": [
      "ffmpeg version 4.2.7-0ubuntu0.1 Copyright (c) 2000-2022 the FFmpeg developers\n",
      "  built with gcc 9 (Ubuntu 9.4.0-1ubuntu1~20.04.1)\n",
      "  configuration: --prefix=/usr --extra-version=0ubuntu0.1 --toolchain=hardened --libdir=/usr/lib/x86_64-linux-gnu --incdir=/usr/include/x86_64-linux-gnu --arch=amd64 --enable-gpl --disable-stripping --enable-avresample --disable-filter=resample --enable-avisynth --enable-gnutls --enable-ladspa --enable-libaom --enable-libass --enable-libbluray --enable-libbs2b --enable-libcaca --enable-libcdio --enable-libcodec2 --enable-libflite --enable-libfontconfig --enable-libfreetype --enable-libfribidi --enable-libgme --enable-libgsm --enable-libjack --enable-libmp3lame --enable-libmysofa --enable-libopenjpeg --enable-libopenmpt --enable-libopus --enable-libpulse --enable-librsvg --enable-librubberband --enable-libshine --enable-libsnappy --enable-libsoxr --enable-libspeex --enable-libssh --enable-libtheora --enable-libtwolame --enable-libvidstab --enable-libvorbis --enable-libvpx --enable-libwavpack --enable-libwebp --enable-libx265 --enable-libxml2 --enable-libxvid --enable-libzmq --enable-libzvbi --enable-lv2 --enable-omx --enable-openal --enable-opencl --enable-opengl --enable-sdl2 --enable-libdc1394 --enable-libdrm --enable-libiec61883 --enable-nvenc --enable-chromaprint --enable-frei0r --enable-libx264 --enable-shared\n",
      "  libavutil      56. 31.100 / 56. 31.100\n",
      "  libavcodec     58. 54.100 / 58. 54.100\n",
      "  libavformat    58. 29.100 / 58. 29.100\n",
      "  libavdevice    58.  8.100 / 58.  8.100\n",
      "  libavfilter     7. 57.100 /  7. 57.100\n",
      "  libavresample   4.  0.  0 /  4.  0.  0\n",
      "  libswscale      5.  5.100 /  5.  5.100\n",
      "  libswresample   3.  5.100 /  3.  5.100\n",
      "  libpostproc    55.  5.100 / 55.  5.100\n",
      "Input #0, image2, from '/mnt/DATA/macrohet/results/glimpses/fast_grower_area_smoothed_graph/(3, 5)/62.3.5/frames/*_t_*.png':\n",
      "  Duration: 00:00:15.00, start: 0.000000, bitrate: N/A\n",
      "    Stream #0:0: Video: png, rgba(pc), 4123x1388 [SAR 12362:12362 DAR 4123:1388], 5 fps, 5 tbr, 5 tbn, 5 tbc\n",
      "Stream mapping:\n",
      "  Stream #0:0 -> #0:0 (png (native) -> h264 (libx264))\n",
      "Press [q] to stop, [?] for help\n",
      "[libx264 @ 0x55ab4c0a9cc0] using SAR=1/1\n",
      "[libx264 @ 0x55ab4c0a9cc0] using cpu capabilities: MMX2 SSE2Fast SSSE3 SSE4.2 AVX FMA3 BMI2 AVX2 AVX512\n",
      "[libx264 @ 0x55ab4c0a9cc0] profile High, level 5.1\n",
      "[libx264 @ 0x55ab4c0a9cc0] 264 - core 155 r2917 0a84d98 - H.264/MPEG-4 AVC codec - Copyleft 2003-2018 - http://www.videolan.org/x264.html - options: cabac=1 ref=3 deblock=1:0:0 analyse=0x3:0x113 me=hex subme=7 psy=1 psy_rd=1.00:0.00 mixed_ref=1 me_range=16 chroma_me=1 trellis=1 8x8dct=1 cqm=0 deadzone=21,11 fast_pskip=1 chroma_qp_offset=-2 threads=43 lookahead_threads=7 sliced_threads=0 nr=0 decimate=1 interlaced=0 bluray_compat=0 constrained_intra=0 bframes=3 b_pyramid=2 b_adapt=1 b_bias=0 direct=1 weightb=1 open_gop=0 weightp=2 keyint=250 keyint_min=5 scenecut=40 intra_refresh=0 rc_lookahead=40 rc=crf mbtree=1 crf=23.0 qcomp=0.60 qpmin=0 qpmax=69 qpstep=4 ip_ratio=1.40 aq=1:1.00\n",
      "Output #0, mp4, to '/mnt/DATA/macrohet/results/glimpses/fast_grower_area_smoothed_graph/(3, 5)/62.3.5/ID_62.3.5_outlying_growth_glimpse_graph.mp4':\n",
      "  Metadata:\n",
      "    encoder         : Lavf58.29.100\n",
      "    Stream #0:0: Video: h264 (libx264) (avc1 / 0x31637661), yuv420p, 4124x1388 [SAR 1:1 DAR 1031:347], q=-1--1, 5 fps, 10240 tbn, 5 tbc\n",
      "    Metadata:\n",
      "      encoder         : Lavc58.54.100 libx264\n",
      "    Side data:\n",
      "      cpb: bitrate max/min/avg: 0/0/0 buffer size: 0 vbv_delay: -1\n",
      "frame=   75 fps= 15 q=-1.0 Lsize=    3692kB time=00:00:14.40 bitrate=2100.1kbits/s speed=2.86x    \n",
      "video:3690kB audio:0kB subtitle:0kB other streams:0kB global headers:0kB muxing overhead: 0.033952%\n",
      "[libx264 @ 0x55ab4c0a9cc0] frame I:1     Avg QP:18.65  size:194174\n",
      "[libx264 @ 0x55ab4c0a9cc0] frame P:69    Avg QP:20.45  size: 48876\n",
      "[libx264 @ 0x55ab4c0a9cc0] frame B:5     Avg QP:18.79  size: 42310\n",
      "[libx264 @ 0x55ab4c0a9cc0] consecutive B-frames: 89.3%  2.7%  8.0%  0.0%\n",
      "[libx264 @ 0x55ab4c0a9cc0] mb I  I16..4: 13.8% 73.5% 12.7%\n",
      "[libx264 @ 0x55ab4c0a9cc0] mb P  I16..4:  2.0%  8.1%  1.4%  P16..4:  3.5%  2.4%  1.2%  0.0%  0.0%    skip:81.5%\n",
      "[libx264 @ 0x55ab4c0a9cc0] mb B  I16..4:  1.0%  5.3%  0.7%  B16..8:  5.5%  3.7%  1.0%  direct: 1.0%  skip:81.9%  L0:59.6% L1:35.3% BI: 5.0%\n",
      "[libx264 @ 0x55ab4c0a9cc0] 8x8 transform intra:71.4% inter:80.0%\n",
      "[libx264 @ 0x55ab4c0a9cc0] coded y,uvDC,uvAC intra: 59.1% 71.0% 60.3% inter: 4.6% 4.8% 1.4%\n",
      "[libx264 @ 0x55ab4c0a9cc0] i16 v,h,dc,p: 54% 18%  3% 24%\n",
      "[libx264 @ 0x55ab4c0a9cc0] i8 v,h,dc,ddl,ddr,vr,hd,vl,hu: 23% 14% 19%  5%  8%  8%  8%  7%  8%\n",
      "[libx264 @ 0x55ab4c0a9cc0] i4 v,h,dc,ddl,ddr,vr,hd,vl,hu: 34% 22% 19%  4%  6%  5%  4%  3%  3%\n",
      "[libx264 @ 0x55ab4c0a9cc0] i8c dc,h,v,p: 48% 18% 17% 17%\n",
      "[libx264 @ 0x55ab4c0a9cc0] Weighted P-Frames: Y:0.0% UV:0.0%\n",
      "[libx264 @ 0x55ab4c0a9cc0] ref P L0: 40.8%  5.6% 31.5% 22.0%\n",
      "[libx264 @ 0x55ab4c0a9cc0] ref B L0: 59.4% 31.8%  8.8%\n",
      "[libx264 @ 0x55ab4c0a9cc0] kb/s:2015.03\n"
     ]
    },
    {
     "name": "stdout",
     "output_type": "stream",
     "text": [
      "Generating glimpse\n"
     ]
    },
    {
     "data": {
      "application/vnd.jupyter.widget-view+json": {
       "model_id": "97a4f2908a6c40e2b6c49cac8cef1d2b",
       "version_major": 2,
       "version_minor": 0
      },
      "text/plain": [
       "Creating glimpse ID: ((4, 5), 390):   0%|          | 0/75 [00:00<?, ?it/s]"
      ]
     },
     "metadata": {},
     "output_type": "display_data"
    },
    {
     "name": "stderr",
     "output_type": "stream",
     "text": [
      "[INFO][2023/12/06 01:33:01 PM] Opening HDF file: /mnt/DATA/macrohet/labels/PS0000/macrohet_seg_model/(4, 5).h5...\n",
      "INFO:btrack.io.hdf:Opening HDF file: /mnt/DATA/macrohet/labels/PS0000/macrohet_seg_model/(4, 5).h5...\n",
      "[INFO][2023/12/06 01:33:23 PM] Loading segmentation (75, 6048, 6048)\n",
      "INFO:btrack.io.hdf:Loading segmentation (75, 6048, 6048)\n",
      "[INFO][2023/12/06 01:33:23 PM] Closing HDF file: /mnt/DATA/macrohet/labels/PS0000/macrohet_seg_model/(4, 5).h5\n",
      "INFO:btrack.io.hdf:Closing HDF file: /mnt/DATA/macrohet/labels/PS0000/macrohet_seg_model/(4, 5).h5\n"
     ]
    },
    {
     "data": {
      "application/vnd.jupyter.widget-view+json": {
       "model_id": "1e05223b9d034d00b3285dedb6ed1bb3",
       "version_major": 2,
       "version_minor": 0
      },
      "text/plain": [
       "Creating mask glimpse ID: ((4, 5), 390):   0%|          | 0/75 [00:00<?, ?it/s]"
      ]
     },
     "metadata": {},
     "output_type": "display_data"
    },
    {
     "data": {
      "application/vnd.jupyter.widget-view+json": {
       "model_id": "27ac8c864329462981563530972e1ee3",
       "version_major": 2,
       "version_minor": 0
      },
      "text/plain": [
       "Extracting mtb area over each frame: ((4, 5), 390):   0%|          | 0/75 [00:00<?, ?it/s]"
      ]
     },
     "metadata": {},
     "output_type": "display_data"
    },
    {
     "data": {
      "application/vnd.jupyter.widget-view+json": {
       "model_id": "8a7bfdce6289432bb6e9a64288bbd1d6",
       "version_major": 2,
       "version_minor": 0
      },
      "text/plain": [
       "Saving out single frames:   0%|          | 0/75 [00:00<?, ?it/s]"
      ]
     },
     "metadata": {},
     "output_type": "display_data"
    },
    {
     "name": "stdout",
     "output_type": "stream",
     "text": [
      "No doubling found in the provided data.\n",
      "No doubling found in the provided data.\n",
      "No doubling found in the provided data.\n",
      "No doubling found in the provided data.\n",
      "No doubling found in the provided data.\n",
      "No doubling found in the provided data.\n",
      "No doubling found in the provided data.\n",
      "No doubling found in the provided data.\n",
      "No doubling found in the provided data.\n",
      "No doubling found in the provided data.\n",
      "No doubling found in the provided data.\n",
      "No doubling found in the provided data.\n",
      "No doubling found in the provided data.\n",
      "No doubling found in the provided data.\n",
      "No doubling found in the provided data.\n",
      "No doubling found in the provided data.\n",
      "No doubling found in the provided data.\n",
      "No doubling found in the provided data.\n",
      "No doubling found in the provided data.\n",
      "No doubling found in the provided data.\n",
      "No doubling found in the provided data.\n",
      "No doubling found in the provided data.\n",
      "No doubling found in the provided data.\n",
      "No doubling found in the provided data.\n",
      "No doubling found in the provided data.\n",
      "No doubling found in the provided data.\n",
      "No doubling found in the provided data.\n",
      "No doubling found in the provided data.\n",
      "No doubling found in the provided data.\n",
      "No doubling found in the provided data.\n",
      "No doubling found in the provided data.\n",
      "No doubling found in the provided data.\n",
      "No doubling found in the provided data.\n",
      "No doubling found in the provided data.\n",
      "No doubling found in the provided data.\n",
      "No doubling found in the provided data.\n",
      "No doubling found in the provided data.\n",
      "No doubling found in the provided data.\n",
      "No doubling found in the provided data.\n",
      "No doubling found in the provided data.\n",
      "No doubling found in the provided data.\n",
      "No doubling found in the provided data.\n",
      "No doubling found in the provided data.\n",
      "No doubling found in the provided data.\n",
      "No doubling found in the provided data.\n",
      "No doubling found in the provided data.\n",
      "No doubling found in the provided data.\n",
      "No doubling found in the provided data.\n",
      "No doubling found in the provided data.\n",
      "No doubling found in the provided data.\n",
      "No doubling found in the provided data.\n",
      "No doubling found in the provided data.\n",
      "No doubling found in the provided data.\n",
      "No doubling found in the provided data.\n",
      "No doubling found in the provided data.\n",
      "No doubling found in the provided data.\n",
      "No doubling found in the provided data.\n",
      "No doubling found in the provided data.\n",
      "No doubling found in the provided data.\n",
      "No doubling found in the provided data.\n",
      "No doubling found in the provided data.\n",
      "No doubling found in the provided data.\n",
      "No doubling found in the provided data.\n",
      "No doubling found in the provided data.\n",
      "No doubling found in the provided data.\n",
      "No doubling found in the provided data.\n",
      "No doubling found in the provided data.\n",
      "No doubling found in the provided data.\n",
      "No doubling found in the provided data.\n",
      "No doubling found in the provided data.\n",
      "No doubling found in the provided data.\n",
      "No doubling found in the provided data.\n",
      "No doubling found in the provided data.\n",
      "No doubling found in the provided data.\n",
      "No doubling found in the provided data.\n"
     ]
    },
    {
     "name": "stderr",
     "output_type": "stream",
     "text": [
      "ffmpeg version 4.2.7-0ubuntu0.1 Copyright (c) 2000-2022 the FFmpeg developers\n",
      "  built with gcc 9 (Ubuntu 9.4.0-1ubuntu1~20.04.1)\n",
      "  configuration: --prefix=/usr --extra-version=0ubuntu0.1 --toolchain=hardened --libdir=/usr/lib/x86_64-linux-gnu --incdir=/usr/include/x86_64-linux-gnu --arch=amd64 --enable-gpl --disable-stripping --enable-avresample --disable-filter=resample --enable-avisynth --enable-gnutls --enable-ladspa --enable-libaom --enable-libass --enable-libbluray --enable-libbs2b --enable-libcaca --enable-libcdio --enable-libcodec2 --enable-libflite --enable-libfontconfig --enable-libfreetype --enable-libfribidi --enable-libgme --enable-libgsm --enable-libjack --enable-libmp3lame --enable-libmysofa --enable-libopenjpeg --enable-libopenmpt --enable-libopus --enable-libpulse --enable-librsvg --enable-librubberband --enable-libshine --enable-libsnappy --enable-libsoxr --enable-libspeex --enable-libssh --enable-libtheora --enable-libtwolame --enable-libvidstab --enable-libvorbis --enable-libvpx --enable-libwavpack --enable-libwebp --enable-libx265 --enable-libxml2 --enable-libxvid --enable-libzmq --enable-libzvbi --enable-lv2 --enable-omx --enable-openal --enable-opencl --enable-opengl --enable-sdl2 --enable-libdc1394 --enable-libdrm --enable-libiec61883 --enable-nvenc --enable-chromaprint --enable-frei0r --enable-libx264 --enable-shared\n",
      "  libavutil      56. 31.100 / 56. 31.100\n",
      "  libavcodec     58. 54.100 / 58. 54.100\n",
      "  libavformat    58. 29.100 / 58. 29.100\n",
      "  libavdevice    58.  8.100 / 58.  8.100\n",
      "  libavfilter     7. 57.100 /  7. 57.100\n",
      "  libavresample   4.  0.  0 /  4.  0.  0\n",
      "  libswscale      5.  5.100 /  5.  5.100\n",
      "  libswresample   3.  5.100 /  3.  5.100\n",
      "  libpostproc    55.  5.100 / 55.  5.100\n",
      "Input #0, image2, from '/mnt/DATA/macrohet/results/glimpses/fast_grower_area_smoothed_graph/(4, 5)/390.4.5/frames/*_t_*.png':\n",
      "  Duration: 00:00:15.00, start: 0.000000, bitrate: N/A\n",
      "    Stream #0:0: Video: png, rgba(pc), 4123x1388 [SAR 12362:12362 DAR 4123:1388], 5 fps, 5 tbr, 5 tbn, 5 tbc\n",
      "Stream mapping:\n",
      "  Stream #0:0 -> #0:0 (png (native) -> h264 (libx264))\n",
      "Press [q] to stop, [?] for help\n",
      "[libx264 @ 0x55d38fb18cc0] using SAR=1/1\n",
      "[libx264 @ 0x55d38fb18cc0] using cpu capabilities: MMX2 SSE2Fast SSSE3 SSE4.2 AVX FMA3 BMI2 AVX2 AVX512\n",
      "[libx264 @ 0x55d38fb18cc0] profile High, level 5.1\n",
      "[libx264 @ 0x55d38fb18cc0] 264 - core 155 r2917 0a84d98 - H.264/MPEG-4 AVC codec - Copyleft 2003-2018 - http://www.videolan.org/x264.html - options: cabac=1 ref=3 deblock=1:0:0 analyse=0x3:0x113 me=hex subme=7 psy=1 psy_rd=1.00:0.00 mixed_ref=1 me_range=16 chroma_me=1 trellis=1 8x8dct=1 cqm=0 deadzone=21,11 fast_pskip=1 chroma_qp_offset=-2 threads=43 lookahead_threads=7 sliced_threads=0 nr=0 decimate=1 interlaced=0 bluray_compat=0 constrained_intra=0 bframes=3 b_pyramid=2 b_adapt=1 b_bias=0 direct=1 weightb=1 open_gop=0 weightp=2 keyint=250 keyint_min=5 scenecut=40 intra_refresh=0 rc_lookahead=40 rc=crf mbtree=1 crf=23.0 qcomp=0.60 qpmin=0 qpmax=69 qpstep=4 ip_ratio=1.40 aq=1:1.00\n",
      "Output #0, mp4, to '/mnt/DATA/macrohet/results/glimpses/fast_grower_area_smoothed_graph/(4, 5)/390.4.5/ID_390.4.5_outlying_growth_glimpse_graph.mp4':\n",
      "  Metadata:\n",
      "    encoder         : Lavf58.29.100\n",
      "    Stream #0:0: Video: h264 (libx264) (avc1 / 0x31637661), yuv420p, 4124x1388 [SAR 1:1 DAR 1031:347], q=-1--1, 5 fps, 10240 tbn, 5 tbc\n",
      "    Metadata:\n",
      "      encoder         : Lavc58.54.100 libx264\n",
      "    Side data:\n",
      "      cpb: bitrate max/min/avg: 0/0/0 buffer size: 0 vbv_delay: -1\n",
      "frame=   75 fps=6.1 q=-1.0 Lsize=    3394kB time=00:00:14.40 bitrate=1930.8kbits/s speed=1.17x    \n",
      "video:3393kB audio:0kB subtitle:0kB other streams:0kB global headers:0kB muxing overhead: 0.036584%\n",
      "[libx264 @ 0x55d38fb18cc0] frame I:1     Avg QP:16.27  size:184649\n",
      "[libx264 @ 0x55d38fb18cc0] frame P:70    Avg QP:21.59  size: 44436\n",
      "[libx264 @ 0x55d38fb18cc0] frame B:4     Avg QP:22.99  size: 44566\n",
      "[libx264 @ 0x55d38fb18cc0] consecutive B-frames: 90.7%  5.3%  4.0%  0.0%\n",
      "[libx264 @ 0x55d38fb18cc0] mb I  I16..4: 20.9% 66.1% 12.9%\n",
      "[libx264 @ 0x55d38fb18cc0] mb P  I16..4:  2.3%  8.0%  1.1%  P16..4:  3.9%  2.6%  1.1%  0.0%  0.0%    skip:81.0%\n",
      "[libx264 @ 0x55d38fb18cc0] mb B  I16..4:  0.8%  5.5%  0.6%  B16..8:  5.7%  4.3%  1.0%  direct: 1.1%  skip:81.0%  L0:58.5% L1:36.3% BI: 5.2%\n",
      "[libx264 @ 0x55d38fb18cc0] 8x8 transform intra:69.8% inter:82.9%\n",
      "[libx264 @ 0x55d38fb18cc0] coded y,uvDC,uvAC intra: 55.1% 67.9% 56.6% inter: 5.2% 4.9% 1.2%\n",
      "[libx264 @ 0x55d38fb18cc0] i16 v,h,dc,p: 64% 14%  2% 21%\n",
      "[libx264 @ 0x55d38fb18cc0] i8 v,h,dc,ddl,ddr,vr,hd,vl,hu: 21% 14% 22%  6%  7%  7%  7%  7%  8%\n",
      "[libx264 @ 0x55d38fb18cc0] i4 v,h,dc,ddl,ddr,vr,hd,vl,hu: 36% 21% 18%  4%  6%  5%  4%  3%  3%\n",
      "[libx264 @ 0x55d38fb18cc0] i8c dc,h,v,p: 52% 17% 14% 17%\n",
      "[libx264 @ 0x55d38fb18cc0] Weighted P-Frames: Y:0.0% UV:0.0%\n",
      "[libx264 @ 0x55d38fb18cc0] ref P L0: 42.3%  5.8% 31.2% 20.7%\n",
      "[libx264 @ 0x55d38fb18cc0] ref B L0: 61.5% 33.5%  5.1%\n",
      "[libx264 @ 0x55d38fb18cc0] kb/s:1852.52\n"
     ]
    },
    {
     "name": "stdout",
     "output_type": "stream",
     "text": [
      "Generating glimpse\n"
     ]
    },
    {
     "data": {
      "application/vnd.jupyter.widget-view+json": {
       "model_id": "9966cb7bd91e4eec82ffb6d09008d8f4",
       "version_major": 2,
       "version_minor": 0
      },
      "text/plain": [
       "Creating glimpse ID: ((3, 6), 586):   0%|          | 0/75 [00:00<?, ?it/s]"
      ]
     },
     "metadata": {},
     "output_type": "display_data"
    },
    {
     "name": "stderr",
     "output_type": "stream",
     "text": [
      "/home/dayn/miniconda3/envs/brassica/lib/python3.9/site-packages/dask/array/core.py:1759: PerformanceWarning: Increasing number of chunks by factor of 671\n",
      "  return da_func(*args, **kwargs)\n",
      "[INFO][2023/12/06 01:57:23 PM] Opening HDF file: /mnt/DATA/macrohet/labels/PS0000/macrohet_seg_model/(3, 6).h5...\n",
      "INFO:btrack.io.hdf:Opening HDF file: /mnt/DATA/macrohet/labels/PS0000/macrohet_seg_model/(3, 6).h5...\n",
      "[INFO][2023/12/06 01:57:48 PM] Loading segmentation (75, 6048, 6048)\n",
      "INFO:btrack.io.hdf:Loading segmentation (75, 6048, 6048)\n",
      "[INFO][2023/12/06 01:57:48 PM] Closing HDF file: /mnt/DATA/macrohet/labels/PS0000/macrohet_seg_model/(3, 6).h5\n",
      "INFO:btrack.io.hdf:Closing HDF file: /mnt/DATA/macrohet/labels/PS0000/macrohet_seg_model/(3, 6).h5\n"
     ]
    },
    {
     "data": {
      "application/vnd.jupyter.widget-view+json": {
       "model_id": "364ffccc8ac74ea2b8e817fa340f8d6d",
       "version_major": 2,
       "version_minor": 0
      },
      "text/plain": [
       "Creating mask glimpse ID: ((3, 6), 586):   0%|          | 0/75 [00:00<?, ?it/s]"
      ]
     },
     "metadata": {},
     "output_type": "display_data"
    },
    {
     "data": {
      "application/vnd.jupyter.widget-view+json": {
       "model_id": "22308de9ec4b4a69a3ab5477de58f4f1",
       "version_major": 2,
       "version_minor": 0
      },
      "text/plain": [
       "Extracting mtb area over each frame: ((3, 6), 586):   0%|          | 0/75 [00:00<?, ?it/s]"
      ]
     },
     "metadata": {},
     "output_type": "display_data"
    },
    {
     "data": {
      "application/vnd.jupyter.widget-view+json": {
       "model_id": "f2fe0226692b4018a6bcb9f82238318b",
       "version_major": 2,
       "version_minor": 0
      },
      "text/plain": [
       "Saving out single frames:   0%|          | 0/75 [00:00<?, ?it/s]"
      ]
     },
     "metadata": {},
     "output_type": "display_data"
    },
    {
     "name": "stdout",
     "output_type": "stream",
     "text": [
      "No doubling found in the provided data.\n",
      "No doubling found in the provided data.\n",
      "No doubling found in the provided data.\n",
      "No doubling found in the provided data.\n",
      "No doubling found in the provided data.\n",
      "No doubling found in the provided data.\n",
      "No doubling found in the provided data.\n",
      "No doubling found in the provided data.\n",
      "No doubling found in the provided data.\n",
      "No doubling found in the provided data.\n",
      "No doubling found in the provided data.\n",
      "No doubling found in the provided data.\n",
      "No doubling found in the provided data.\n",
      "No doubling found in the provided data.\n",
      "No doubling found in the provided data.\n",
      "No doubling found in the provided data.\n",
      "No doubling found in the provided data.\n",
      "No doubling found in the provided data.\n",
      "No doubling found in the provided data.\n",
      "No doubling found in the provided data.\n",
      "No doubling found in the provided data.\n",
      "No doubling found in the provided data.\n",
      "No doubling found in the provided data.\n",
      "No doubling found in the provided data.\n",
      "No doubling found in the provided data.\n",
      "No doubling found in the provided data.\n",
      "No doubling found in the provided data.\n",
      "No doubling found in the provided data.\n",
      "No doubling found in the provided data.\n",
      "No doubling found in the provided data.\n",
      "No doubling found in the provided data.\n",
      "No doubling found in the provided data.\n",
      "No doubling found in the provided data.\n",
      "No doubling found in the provided data.\n",
      "No doubling found in the provided data.\n",
      "No doubling found in the provided data.\n",
      "No doubling found in the provided data.\n",
      "No doubling found in the provided data.\n",
      "No doubling found in the provided data.\n",
      "No doubling found in the provided data.\n",
      "No doubling found in the provided data.\n",
      "No doubling found in the provided data.\n",
      "No doubling found in the provided data.\n",
      "No doubling found in the provided data.\n",
      "No doubling found in the provided data.\n",
      "No doubling found in the provided data.\n",
      "No doubling found in the provided data.\n",
      "No doubling found in the provided data.\n",
      "No doubling found in the provided data.\n",
      "No doubling found in the provided data.\n",
      "No doubling found in the provided data.\n",
      "No doubling found in the provided data.\n",
      "No doubling found in the provided data.\n",
      "No doubling found in the provided data.\n",
      "No doubling found in the provided data.\n",
      "No doubling found in the provided data.\n",
      "No doubling found in the provided data.\n",
      "No doubling found in the provided data.\n",
      "No doubling found in the provided data.\n",
      "No doubling found in the provided data.\n",
      "No doubling found in the provided data.\n",
      "No doubling found in the provided data.\n",
      "No doubling found in the provided data.\n",
      "No doubling found in the provided data.\n",
      "No doubling found in the provided data.\n",
      "No doubling found in the provided data.\n",
      "No doubling found in the provided data.\n",
      "No doubling found in the provided data.\n",
      "No doubling found in the provided data.\n",
      "No doubling found in the provided data.\n",
      "No doubling found in the provided data.\n",
      "No doubling found in the provided data.\n",
      "No doubling found in the provided data.\n",
      "No doubling found in the provided data.\n",
      "No doubling found in the provided data.\n"
     ]
    },
    {
     "name": "stderr",
     "output_type": "stream",
     "text": [
      "ffmpeg version 4.2.7-0ubuntu0.1 Copyright (c) 2000-2022 the FFmpeg developers\n",
      "  built with gcc 9 (Ubuntu 9.4.0-1ubuntu1~20.04.1)\n",
      "  configuration: --prefix=/usr --extra-version=0ubuntu0.1 --toolchain=hardened --libdir=/usr/lib/x86_64-linux-gnu --incdir=/usr/include/x86_64-linux-gnu --arch=amd64 --enable-gpl --disable-stripping --enable-avresample --disable-filter=resample --enable-avisynth --enable-gnutls --enable-ladspa --enable-libaom --enable-libass --enable-libbluray --enable-libbs2b --enable-libcaca --enable-libcdio --enable-libcodec2 --enable-libflite --enable-libfontconfig --enable-libfreetype --enable-libfribidi --enable-libgme --enable-libgsm --enable-libjack --enable-libmp3lame --enable-libmysofa --enable-libopenjpeg --enable-libopenmpt --enable-libopus --enable-libpulse --enable-librsvg --enable-librubberband --enable-libshine --enable-libsnappy --enable-libsoxr --enable-libspeex --enable-libssh --enable-libtheora --enable-libtwolame --enable-libvidstab --enable-libvorbis --enable-libvpx --enable-libwavpack --enable-libwebp --enable-libx265 --enable-libxml2 --enable-libxvid --enable-libzmq --enable-libzvbi --enable-lv2 --enable-omx --enable-openal --enable-opencl --enable-opengl --enable-sdl2 --enable-libdc1394 --enable-libdrm --enable-libiec61883 --enable-nvenc --enable-chromaprint --enable-frei0r --enable-libx264 --enable-shared\n",
      "  libavutil      56. 31.100 / 56. 31.100\n",
      "  libavcodec     58. 54.100 / 58. 54.100\n",
      "  libavformat    58. 29.100 / 58. 29.100\n",
      "  libavdevice    58.  8.100 / 58.  8.100\n",
      "  libavfilter     7. 57.100 /  7. 57.100\n",
      "  libavresample   4.  0.  0 /  4.  0.  0\n",
      "  libswscale      5.  5.100 /  5.  5.100\n",
      "  libswresample   3.  5.100 /  3.  5.100\n",
      "  libpostproc    55.  5.100 / 55.  5.100\n",
      "Input #0, image2, from '/mnt/DATA/macrohet/results/glimpses/fast_grower_area_smoothed_graph/(3, 6)/586.3.6/frames/*_t_*.png':\n",
      "  Duration: 00:00:15.00, start: 0.000000, bitrate: N/A\n",
      "    Stream #0:0: Video: png, rgba(pc), 4150x1388 [SAR 12362:12362 DAR 2075:694], 5 fps, 5 tbr, 5 tbn, 5 tbc\n",
      "Stream mapping:\n",
      "  Stream #0:0 -> #0:0 (png (native) -> h264 (libx264))\n",
      "Press [q] to stop, [?] for help\n",
      "[libx264 @ 0x55814c78d680] using SAR=1/1\n",
      "[libx264 @ 0x55814c78d680] using cpu capabilities: MMX2 SSE2Fast SSSE3 SSE4.2 AVX FMA3 BMI2 AVX2 AVX512\n",
      "[libx264 @ 0x55814c78d680] profile High, level 5.1\n",
      "[libx264 @ 0x55814c78d680] 264 - core 155 r2917 0a84d98 - H.264/MPEG-4 AVC codec - Copyleft 2003-2018 - http://www.videolan.org/x264.html - options: cabac=1 ref=3 deblock=1:0:0 analyse=0x3:0x113 me=hex subme=7 psy=1 psy_rd=1.00:0.00 mixed_ref=1 me_range=16 chroma_me=1 trellis=1 8x8dct=1 cqm=0 deadzone=21,11 fast_pskip=1 chroma_qp_offset=-2 threads=43 lookahead_threads=7 sliced_threads=0 nr=0 decimate=1 interlaced=0 bluray_compat=0 constrained_intra=0 bframes=3 b_pyramid=2 b_adapt=1 b_bias=0 direct=1 weightb=1 open_gop=0 weightp=2 keyint=250 keyint_min=5 scenecut=40 intra_refresh=0 rc_lookahead=40 rc=crf mbtree=1 crf=23.0 qcomp=0.60 qpmin=0 qpmax=69 qpstep=4 ip_ratio=1.40 aq=1:1.00\n",
      "Output #0, mp4, to '/mnt/DATA/macrohet/results/glimpses/fast_grower_area_smoothed_graph/(3, 6)/586.3.6/ID_586.3.6_outlying_growth_glimpse_graph.mp4':\n",
      "  Metadata:\n",
      "    encoder         : Lavf58.29.100\n",
      "    Stream #0:0: Video: h264 (libx264) (avc1 / 0x31637661), yuv420p, 4150x1388 [SAR 1:1 DAR 2075:694], q=-1--1, 5 fps, 10240 tbn, 5 tbc\n",
      "    Metadata:\n",
      "      encoder         : Lavc58.54.100 libx264\n",
      "    Side data:\n",
      "      cpb: bitrate max/min/avg: 0/0/0 buffer size: 0 vbv_delay: -1\n",
      "frame=   75 fps= 13 q=-1.0 Lsize=    3524kB time=00:00:14.40 bitrate=2004.6kbits/s speed= 2.5x    \n",
      "video:3522kB audio:0kB subtitle:0kB other streams:0kB global headers:0kB muxing overhead: 0.035792%\n",
      "[libx264 @ 0x55814c78d680] frame I:1     Avg QP:17.01  size:183272\n",
      "[libx264 @ 0x55814c78d680] frame P:70    Avg QP:22.53  size: 46426\n",
      "[libx264 @ 0x55814c78d680] frame B:4     Avg QP:23.07  size: 43295\n",
      "[libx264 @ 0x55814c78d680] consecutive B-frames: 89.3% 10.7%  0.0%  0.0%\n",
      "[libx264 @ 0x55814c78d680] mb I  I16..4: 18.8% 68.5% 12.8%\n",
      "[libx264 @ 0x55814c78d680] mb P  I16..4:  1.4%  8.4%  1.1%  P16..4:  3.8%  2.6%  1.2%  0.0%  0.0%    skip:81.5%\n",
      "[libx264 @ 0x55814c78d680] mb B  I16..4:  0.8%  4.9%  0.6%  B16..8:  5.4%  4.6%  1.2%  direct: 1.2%  skip:81.4%  L0:55.7% L1:39.2% BI: 5.1%\n",
      "[libx264 @ 0x55814c78d680] 8x8 transform intra:75.9% inter:80.7%\n",
      "[libx264 @ 0x55814c78d680] coded y,uvDC,uvAC intra: 60.7% 73.2% 61.7% inter: 5.0% 4.8% 1.2%\n",
      "[libx264 @ 0x55814c78d680] i16 v,h,dc,p: 44% 21%  3% 32%\n",
      "[libx264 @ 0x55814c78d680] i8 v,h,dc,ddl,ddr,vr,hd,vl,hu: 25% 14% 19%  5%  8%  7%  8%  7%  7%\n",
      "[libx264 @ 0x55814c78d680] i4 v,h,dc,ddl,ddr,vr,hd,vl,hu: 37% 20% 18%  4%  6%  5%  4%  4%  2%\n",
      "[libx264 @ 0x55814c78d680] i8c dc,h,v,p: 46% 18% 16% 19%\n",
      "[libx264 @ 0x55814c78d680] Weighted P-Frames: Y:0.0% UV:0.0%\n",
      "[libx264 @ 0x55814c78d680] ref P L0: 43.9%  5.7% 29.7% 20.6%\n",
      "[libx264 @ 0x55814c78d680] ref B L0: 60.0% 40.0%\n",
      "[libx264 @ 0x55814c78d680] kb/s:1923.33\n"
     ]
    },
    {
     "name": "stdout",
     "output_type": "stream",
     "text": [
      "Generating glimpse\n"
     ]
    },
    {
     "data": {
      "application/vnd.jupyter.widget-view+json": {
       "model_id": "a276cbf73a6646e0ad40dd75dc8b8ebd",
       "version_major": 2,
       "version_minor": 0
      },
      "text/plain": [
       "Creating glimpse ID: ((5, 5), 389):   0%|          | 0/75 [00:00<?, ?it/s]"
      ]
     },
     "metadata": {},
     "output_type": "display_data"
    },
    {
     "data": {
      "application/vnd.jupyter.widget-view+json": {
       "model_id": "f5feb98f099e41a7b51e3254c9b467cd",
       "version_major": 2,
       "version_minor": 0
      },
      "text/plain": [
       "Creating mask glimpse ID: ((5, 5), 389):   0%|          | 0/75 [00:00<?, ?it/s]"
      ]
     },
     "metadata": {},
     "output_type": "display_data"
    },
    {
     "data": {
      "application/vnd.jupyter.widget-view+json": {
       "model_id": "ee1cc31065e94987ae32207d5f26765b",
       "version_major": 2,
       "version_minor": 0
      },
      "text/plain": [
       "Extracting mtb area over each frame: ((5, 5), 389):   0%|          | 0/75 [00:00<?, ?it/s]"
      ]
     },
     "metadata": {},
     "output_type": "display_data"
    },
    {
     "data": {
      "application/vnd.jupyter.widget-view+json": {
       "model_id": "3bf8e1ca408b4059b2e7edbf75053378",
       "version_major": 2,
       "version_minor": 0
      },
      "text/plain": [
       "Saving out single frames:   0%|          | 0/75 [00:00<?, ?it/s]"
      ]
     },
     "metadata": {},
     "output_type": "display_data"
    },
    {
     "name": "stdout",
     "output_type": "stream",
     "text": [
      "No doubling found in the provided data.\n",
      "No doubling found in the provided data.\n",
      "No doubling found in the provided data.\n",
      "No doubling found in the provided data.\n",
      "No doubling found in the provided data.\n",
      "No doubling found in the provided data.\n",
      "No doubling found in the provided data.\n",
      "No doubling found in the provided data.\n",
      "No doubling found in the provided data.\n",
      "No doubling found in the provided data.\n",
      "No doubling found in the provided data.\n",
      "No doubling found in the provided data.\n",
      "No doubling found in the provided data.\n",
      "No doubling found in the provided data.\n",
      "No doubling found in the provided data.\n",
      "No doubling found in the provided data.\n",
      "No doubling found in the provided data.\n",
      "No doubling found in the provided data.\n",
      "No doubling found in the provided data.\n",
      "No doubling found in the provided data.\n",
      "No doubling found in the provided data.\n",
      "No doubling found in the provided data.\n",
      "No doubling found in the provided data.\n",
      "No doubling found in the provided data.\n",
      "No doubling found in the provided data.\n",
      "No doubling found in the provided data.\n",
      "No doubling found in the provided data.\n",
      "No doubling found in the provided data.\n",
      "No doubling found in the provided data.\n",
      "No doubling found in the provided data.\n",
      "No doubling found in the provided data.\n",
      "No doubling found in the provided data.\n",
      "No doubling found in the provided data.\n",
      "No doubling found in the provided data.\n",
      "No doubling found in the provided data.\n",
      "No doubling found in the provided data.\n",
      "No doubling found in the provided data.\n",
      "No doubling found in the provided data.\n",
      "No doubling found in the provided data.\n",
      "No doubling found in the provided data.\n",
      "No doubling found in the provided data.\n",
      "No doubling found in the provided data.\n",
      "No doubling found in the provided data.\n",
      "No doubling found in the provided data.\n",
      "No doubling found in the provided data.\n",
      "No doubling found in the provided data.\n",
      "No doubling found in the provided data.\n",
      "No doubling found in the provided data.\n",
      "No doubling found in the provided data.\n",
      "No doubling found in the provided data.\n",
      "No doubling found in the provided data.\n",
      "No doubling found in the provided data.\n",
      "No doubling found in the provided data.\n",
      "No doubling found in the provided data.\n",
      "No doubling found in the provided data.\n",
      "No doubling found in the provided data.\n",
      "No doubling found in the provided data.\n",
      "No doubling found in the provided data.\n",
      "No doubling found in the provided data.\n",
      "No doubling found in the provided data.\n",
      "No doubling found in the provided data.\n",
      "No doubling found in the provided data.\n",
      "No doubling found in the provided data.\n",
      "No doubling found in the provided data.\n",
      "No doubling found in the provided data.\n",
      "No doubling found in the provided data.\n",
      "No doubling found in the provided data.\n",
      "No doubling found in the provided data.\n",
      "No doubling found in the provided data.\n",
      "No doubling found in the provided data.\n",
      "No doubling found in the provided data.\n",
      "No doubling found in the provided data.\n",
      "No doubling found in the provided data.\n",
      "No doubling found in the provided data.\n",
      "No doubling found in the provided data.\n"
     ]
    },
    {
     "name": "stderr",
     "output_type": "stream",
     "text": [
      "ffmpeg version 4.2.7-0ubuntu0.1 Copyright (c) 2000-2022 the FFmpeg developers\n",
      "  built with gcc 9 (Ubuntu 9.4.0-1ubuntu1~20.04.1)\n",
      "  configuration: --prefix=/usr --extra-version=0ubuntu0.1 --toolchain=hardened --libdir=/usr/lib/x86_64-linux-gnu --incdir=/usr/include/x86_64-linux-gnu --arch=amd64 --enable-gpl --disable-stripping --enable-avresample --disable-filter=resample --enable-avisynth --enable-gnutls --enable-ladspa --enable-libaom --enable-libass --enable-libbluray --enable-libbs2b --enable-libcaca --enable-libcdio --enable-libcodec2 --enable-libflite --enable-libfontconfig --enable-libfreetype --enable-libfribidi --enable-libgme --enable-libgsm --enable-libjack --enable-libmp3lame --enable-libmysofa --enable-libopenjpeg --enable-libopenmpt --enable-libopus --enable-libpulse --enable-librsvg --enable-librubberband --enable-libshine --enable-libsnappy --enable-libsoxr --enable-libspeex --enable-libssh --enable-libtheora --enable-libtwolame --enable-libvidstab --enable-libvorbis --enable-libvpx --enable-libwavpack --enable-libwebp --enable-libx265 --enable-libxml2 --enable-libxvid --enable-libzmq --enable-libzvbi --enable-lv2 --enable-omx --enable-openal --enable-opencl --enable-opengl --enable-sdl2 --enable-libdc1394 --enable-libdrm --enable-libiec61883 --enable-nvenc --enable-chromaprint --enable-frei0r --enable-libx264 --enable-shared\n",
      "  libavutil      56. 31.100 / 56. 31.100\n",
      "  libavcodec     58. 54.100 / 58. 54.100\n",
      "  libavformat    58. 29.100 / 58. 29.100\n",
      "  libavdevice    58.  8.100 / 58.  8.100\n",
      "  libavfilter     7. 57.100 /  7. 57.100\n",
      "  libavresample   4.  0.  0 /  4.  0.  0\n",
      "  libswscale      5.  5.100 /  5.  5.100\n",
      "  libswresample   3.  5.100 /  3.  5.100\n",
      "  libpostproc    55.  5.100 / 55.  5.100\n",
      "Input #0, image2, from '/mnt/DATA/macrohet/results/glimpses/fast_grower_area_smoothed_graph/(5, 5)/389.5.5/frames/*_t_*.png':\n",
      "  Duration: 00:00:15.00, start: 0.000000, bitrate: N/A\n",
      "    Stream #0:0: Video: png, rgba(pc), 4123x1388 [SAR 12362:12362 DAR 4123:1388], 5 fps, 5 tbr, 5 tbn, 5 tbc\n",
      "Stream mapping:\n",
      "  Stream #0:0 -> #0:0 (png (native) -> h264 (libx264))\n",
      "Press [q] to stop, [?] for help\n",
      "[libx264 @ 0x562715a44a40] using SAR=1/1\n",
      "[libx264 @ 0x562715a44a40] using cpu capabilities: MMX2 SSE2Fast SSSE3 SSE4.2 AVX FMA3 BMI2 AVX2 AVX512\n",
      "[libx264 @ 0x562715a44a40] profile High, level 5.1\n",
      "[libx264 @ 0x562715a44a40] 264 - core 155 r2917 0a84d98 - H.264/MPEG-4 AVC codec - Copyleft 2003-2018 - http://www.videolan.org/x264.html - options: cabac=1 ref=3 deblock=1:0:0 analyse=0x3:0x113 me=hex subme=7 psy=1 psy_rd=1.00:0.00 mixed_ref=1 me_range=16 chroma_me=1 trellis=1 8x8dct=1 cqm=0 deadzone=21,11 fast_pskip=1 chroma_qp_offset=-2 threads=43 lookahead_threads=7 sliced_threads=0 nr=0 decimate=1 interlaced=0 bluray_compat=0 constrained_intra=0 bframes=3 b_pyramid=2 b_adapt=1 b_bias=0 direct=1 weightb=1 open_gop=0 weightp=2 keyint=250 keyint_min=5 scenecut=40 intra_refresh=0 rc_lookahead=40 rc=crf mbtree=1 crf=23.0 qcomp=0.60 qpmin=0 qpmax=69 qpstep=4 ip_ratio=1.40 aq=1:1.00\n",
      "Output #0, mp4, to '/mnt/DATA/macrohet/results/glimpses/fast_grower_area_smoothed_graph/(5, 5)/389.5.5/ID_389.5.5_outlying_growth_glimpse_graph.mp4':\n",
      "  Metadata:\n",
      "    encoder         : Lavf58.29.100\n",
      "    Stream #0:0: Video: h264 (libx264) (avc1 / 0x31637661), yuv420p, 4124x1388 [SAR 1:1 DAR 1031:347], q=-1--1, 5 fps, 10240 tbn, 5 tbc\n",
      "    Metadata:\n",
      "      encoder         : Lavc58.54.100 libx264\n",
      "    Side data:\n",
      "      cpb: bitrate max/min/avg: 0/0/0 buffer size: 0 vbv_delay: -1\n",
      "frame=   75 fps=8.1 q=-1.0 Lsize=    6663kB time=00:00:14.40 bitrate=3790.7kbits/s speed=1.55x    \n",
      "video:6662kB audio:0kB subtitle:0kB other streams:0kB global headers:0kB muxing overhead: 0.023440%\n",
      "[libx264 @ 0x562715a44a40] frame I:1     Avg QP:19.80  size:281579\n",
      "[libx264 @ 0x562715a44a40] frame P:50    Avg QP:21.98  size: 72654\n",
      "[libx264 @ 0x562715a44a40] frame B:24    Avg QP:22.44  size:121117\n",
      "[libx264 @ 0x562715a44a40] consecutive B-frames: 46.7% 26.7% 16.0% 10.7%\n",
      "[libx264 @ 0x562715a44a40] mb I  I16..4: 13.5% 76.3% 10.2%\n",
      "[libx264 @ 0x562715a44a40] mb P  I16..4:  1.5%  9.3%  1.7%  P16..4:  3.1%  2.4%  1.2%  0.0%  0.0%    skip:80.9%\n",
      "[libx264 @ 0x562715a44a40] mb B  I16..4:  0.6%  8.8%  2.5%  B16..8:  3.3%  2.4%  0.9%  direct: 0.6%  skip:80.9%  L0:53.5% L1:39.7% BI: 6.8%\n",
      "[libx264 @ 0x562715a44a40] 8x8 transform intra:74.6% inter:76.3%\n",
      "[libx264 @ 0x562715a44a40] coded y,uvDC,uvAC intra: 74.0% 81.5% 73.8% inter: 4.7% 4.7% 1.8%\n",
      "[libx264 @ 0x562715a44a40] i16 v,h,dc,p: 42% 25%  3% 30%\n",
      "[libx264 @ 0x562715a44a40] i8 v,h,dc,ddl,ddr,vr,hd,vl,hu: 20% 13% 18%  6%  9%  7%  8%  8% 10%\n",
      "[libx264 @ 0x562715a44a40] i4 v,h,dc,ddl,ddr,vr,hd,vl,hu: 25% 19% 16%  7%  8%  7%  7%  6%  7%\n",
      "[libx264 @ 0x562715a44a40] i8c dc,h,v,p: 50% 17% 14% 19%\n",
      "[libx264 @ 0x562715a44a40] Weighted P-Frames: Y:0.0% UV:0.0%\n",
      "[libx264 @ 0x562715a44a40] ref P L0: 45.7%  7.8% 26.5% 20.0%\n",
      "[libx264 @ 0x562715a44a40] ref B L0: 71.1% 25.2%  3.6%\n",
      "[libx264 @ 0x562715a44a40] ref B L1: 97.7%  2.3%\n",
      "[libx264 @ 0x562715a44a40] kb/s:3637.91\n"
     ]
    },
    {
     "name": "stdout",
     "output_type": "stream",
     "text": [
      "Generating glimpse\n"
     ]
    },
    {
     "data": {
      "application/vnd.jupyter.widget-view+json": {
       "model_id": "24f87f15c95f49f99d57a2a27cdd8ca4",
       "version_major": 2,
       "version_minor": 0
      },
      "text/plain": [
       "Creating glimpse ID: ((4, 5), 873):   0%|          | 0/73 [00:00<?, ?it/s]"
      ]
     },
     "metadata": {},
     "output_type": "display_data"
    },
    {
     "name": "stderr",
     "output_type": "stream",
     "text": [
      "/home/dayn/miniconda3/envs/brassica/lib/python3.9/site-packages/dask/array/core.py:1759: PerformanceWarning: Increasing number of chunks by factor of 31\n",
      "  return da_func(*args, **kwargs)\n"
     ]
    },
    {
     "data": {
      "application/vnd.jupyter.widget-view+json": {
       "model_id": "cbe0530f88244e4e9890819f3dad328f",
       "version_major": 2,
       "version_minor": 0
      },
      "text/plain": [
       "Creating mask glimpse ID: ((4, 5), 873):   0%|          | 0/73 [00:00<?, ?it/s]"
      ]
     },
     "metadata": {},
     "output_type": "display_data"
    },
    {
     "data": {
      "application/vnd.jupyter.widget-view+json": {
       "model_id": "3b7a05e157f64b759db6265c0e7b9f1f",
       "version_major": 2,
       "version_minor": 0
      },
      "text/plain": [
       "Extracting mtb area over each frame: ((4, 5), 873):   0%|          | 0/73 [00:00<?, ?it/s]"
      ]
     },
     "metadata": {},
     "output_type": "display_data"
    },
    {
     "data": {
      "application/vnd.jupyter.widget-view+json": {
       "model_id": "3cc2d9eda622449ca27cc512ef443cc1",
       "version_major": 2,
       "version_minor": 0
      },
      "text/plain": [
       "Saving out single frames:   0%|          | 0/73 [00:00<?, ?it/s]"
      ]
     },
     "metadata": {},
     "output_type": "display_data"
    },
    {
     "name": "stdout",
     "output_type": "stream",
     "text": [
      "No doubling found in the provided data.\n",
      "No doubling found in the provided data.\n",
      "No doubling found in the provided data.\n",
      "No doubling found in the provided data.\n",
      "No doubling found in the provided data.\n",
      "No doubling found in the provided data.\n",
      "No doubling found in the provided data.\n",
      "No doubling found in the provided data.\n",
      "No doubling found in the provided data.\n",
      "No doubling found in the provided data.\n",
      "No doubling found in the provided data.\n",
      "No doubling found in the provided data.\n",
      "No doubling found in the provided data.\n",
      "No doubling found in the provided data.\n",
      "No doubling found in the provided data.\n",
      "No doubling found in the provided data.\n",
      "No doubling found in the provided data.\n",
      "No doubling found in the provided data.\n",
      "No doubling found in the provided data.\n",
      "No doubling found in the provided data.\n",
      "No doubling found in the provided data.\n",
      "No doubling found in the provided data.\n",
      "No doubling found in the provided data.\n",
      "No doubling found in the provided data.\n",
      "No doubling found in the provided data.\n",
      "No doubling found in the provided data.\n",
      "No doubling found in the provided data.\n",
      "No doubling found in the provided data.\n",
      "No doubling found in the provided data.\n",
      "No doubling found in the provided data.\n",
      "No doubling found in the provided data.\n",
      "No doubling found in the provided data.\n",
      "No doubling found in the provided data.\n",
      "No doubling found in the provided data.\n",
      "No doubling found in the provided data.\n",
      "No doubling found in the provided data.\n",
      "No doubling found in the provided data.\n",
      "No doubling found in the provided data.\n",
      "No doubling found in the provided data.\n",
      "No doubling found in the provided data.\n",
      "No doubling found in the provided data.\n",
      "No doubling found in the provided data.\n",
      "No doubling found in the provided data.\n",
      "No doubling found in the provided data.\n",
      "No doubling found in the provided data.\n",
      "No doubling found in the provided data.\n",
      "No doubling found in the provided data.\n",
      "No doubling found in the provided data.\n",
      "No doubling found in the provided data.\n",
      "No doubling found in the provided data.\n",
      "No doubling found in the provided data.\n",
      "No doubling found in the provided data.\n",
      "No doubling found in the provided data.\n",
      "No doubling found in the provided data.\n",
      "No doubling found in the provided data.\n",
      "No doubling found in the provided data.\n",
      "No doubling found in the provided data.\n",
      "No doubling found in the provided data.\n",
      "No doubling found in the provided data.\n",
      "No doubling found in the provided data.\n",
      "No doubling found in the provided data.\n",
      "No doubling found in the provided data.\n",
      "No doubling found in the provided data.\n",
      "No doubling found in the provided data.\n",
      "No doubling found in the provided data.\n",
      "No doubling found in the provided data.\n",
      "No doubling found in the provided data.\n",
      "No doubling found in the provided data.\n",
      "No doubling found in the provided data.\n",
      "No doubling found in the provided data.\n",
      "No doubling found in the provided data.\n",
      "No doubling found in the provided data.\n",
      "No doubling found in the provided data.\n"
     ]
    },
    {
     "name": "stderr",
     "output_type": "stream",
     "text": [
      "ffmpeg version 4.2.7-0ubuntu0.1 Copyright (c) 2000-2022 the FFmpeg developers\n",
      "  built with gcc 9 (Ubuntu 9.4.0-1ubuntu1~20.04.1)\n",
      "  configuration: --prefix=/usr --extra-version=0ubuntu0.1 --toolchain=hardened --libdir=/usr/lib/x86_64-linux-gnu --incdir=/usr/include/x86_64-linux-gnu --arch=amd64 --enable-gpl --disable-stripping --enable-avresample --disable-filter=resample --enable-avisynth --enable-gnutls --enable-ladspa --enable-libaom --enable-libass --enable-libbluray --enable-libbs2b --enable-libcaca --enable-libcdio --enable-libcodec2 --enable-libflite --enable-libfontconfig --enable-libfreetype --enable-libfribidi --enable-libgme --enable-libgsm --enable-libjack --enable-libmp3lame --enable-libmysofa --enable-libopenjpeg --enable-libopenmpt --enable-libopus --enable-libpulse --enable-librsvg --enable-librubberband --enable-libshine --enable-libsnappy --enable-libsoxr --enable-libspeex --enable-libssh --enable-libtheora --enable-libtwolame --enable-libvidstab --enable-libvorbis --enable-libvpx --enable-libwavpack --enable-libwebp --enable-libx265 --enable-libxml2 --enable-libxvid --enable-libzmq --enable-libzvbi --enable-lv2 --enable-omx --enable-openal --enable-opencl --enable-opengl --enable-sdl2 --enable-libdc1394 --enable-libdrm --enable-libiec61883 --enable-nvenc --enable-chromaprint --enable-frei0r --enable-libx264 --enable-shared\n",
      "  libavutil      56. 31.100 / 56. 31.100\n",
      "  libavcodec     58. 54.100 / 58. 54.100\n",
      "  libavformat    58. 29.100 / 58. 29.100\n",
      "  libavdevice    58.  8.100 / 58.  8.100\n",
      "  libavfilter     7. 57.100 /  7. 57.100\n",
      "  libavresample   4.  0.  0 /  4.  0.  0\n",
      "  libswscale      5.  5.100 /  5.  5.100\n",
      "  libswresample   3.  5.100 /  3.  5.100\n",
      "  libpostproc    55.  5.100 / 55.  5.100\n",
      "Input #0, image2, from '/mnt/DATA/macrohet/results/glimpses/fast_grower_area_smoothed_graph/(4, 5)/873.4.5/frames/*_t_*.png':\n",
      "  Duration: 00:00:14.60, start: 0.000000, bitrate: N/A\n",
      "    Stream #0:0: Video: png, rgba(pc), 4123x1388 [SAR 12362:12362 DAR 4123:1388], 5 fps, 5 tbr, 5 tbn, 5 tbc\n",
      "Stream mapping:\n",
      "  Stream #0:0 -> #0:0 (png (native) -> h264 (libx264))\n",
      "Press [q] to stop, [?] for help\n",
      "[libx264 @ 0x556fecd97cc0] using SAR=1/1\n",
      "[libx264 @ 0x556fecd97cc0] using cpu capabilities: MMX2 SSE2Fast SSSE3 SSE4.2 AVX FMA3 BMI2 AVX2 AVX512\n",
      "[libx264 @ 0x556fecd97cc0] profile High, level 5.1\n",
      "[libx264 @ 0x556fecd97cc0] 264 - core 155 r2917 0a84d98 - H.264/MPEG-4 AVC codec - Copyleft 2003-2018 - http://www.videolan.org/x264.html - options: cabac=1 ref=3 deblock=1:0:0 analyse=0x3:0x113 me=hex subme=7 psy=1 psy_rd=1.00:0.00 mixed_ref=1 me_range=16 chroma_me=1 trellis=1 8x8dct=1 cqm=0 deadzone=21,11 fast_pskip=1 chroma_qp_offset=-2 threads=43 lookahead_threads=7 sliced_threads=0 nr=0 decimate=1 interlaced=0 bluray_compat=0 constrained_intra=0 bframes=3 b_pyramid=2 b_adapt=1 b_bias=0 direct=1 weightb=1 open_gop=0 weightp=2 keyint=250 keyint_min=5 scenecut=40 intra_refresh=0 rc_lookahead=40 rc=crf mbtree=1 crf=23.0 qcomp=0.60 qpmin=0 qpmax=69 qpstep=4 ip_ratio=1.40 aq=1:1.00\n",
      "Output #0, mp4, to '/mnt/DATA/macrohet/results/glimpses/fast_grower_area_smoothed_graph/(4, 5)/873.4.5/ID_873.4.5_outlying_growth_glimpse_graph.mp4':\n",
      "  Metadata:\n",
      "    encoder         : Lavf58.29.100\n",
      "    Stream #0:0: Video: h264 (libx264) (avc1 / 0x31637661), yuv420p, 4124x1388 [SAR 1:1 DAR 1031:347], q=-1--1, 5 fps, 10240 tbn, 5 tbc\n",
      "    Metadata:\n",
      "      encoder         : Lavc58.54.100 libx264\n",
      "    Side data:\n",
      "      cpb: bitrate max/min/avg: 0/0/0 buffer size: 0 vbv_delay: -1\n",
      "frame=   73 fps= 10 q=-1.0 Lsize=    3155kB time=00:00:14.00 bitrate=1846.1kbits/s speed=1.94x    \n",
      "video:3154kB audio:0kB subtitle:0kB other streams:0kB global headers:0kB muxing overhead: 0.041958%\n",
      "[libx264 @ 0x556fecd97cc0] frame I:1     Avg QP:17.60  size:140427\n",
      "[libx264 @ 0x556fecd97cc0] frame P:64    Avg QP:21.75  size: 43787\n",
      "[libx264 @ 0x556fecd97cc0] frame B:8     Avg QP:22.24  size: 35740\n",
      "[libx264 @ 0x556fecd97cc0] consecutive B-frames: 80.8% 13.7%  0.0%  5.5%\n",
      "[libx264 @ 0x556fecd97cc0] mb I  I16..4: 13.7% 76.2% 10.1%\n",
      "[libx264 @ 0x556fecd97cc0] mb P  I16..4:  2.8%  7.4%  1.1%  P16..4:  3.9%  2.7%  1.1%  0.0%  0.0%    skip:81.0%\n",
      "[libx264 @ 0x556fecd97cc0] mb B  I16..4:  0.8%  3.7%  0.5%  B16..8:  6.4%  4.1%  0.9%  direct: 1.1%  skip:82.6%  L0:54.9% L1:40.7% BI: 4.4%\n",
      "[libx264 @ 0x556fecd97cc0] 8x8 transform intra:67.5% inter:81.8%\n",
      "[libx264 @ 0x556fecd97cc0] coded y,uvDC,uvAC intra: 54.4% 64.6% 53.3% inter: 5.3% 5.1% 1.2%\n",
      "[libx264 @ 0x556fecd97cc0] i16 v,h,dc,p: 61% 16%  2% 21%\n",
      "[libx264 @ 0x556fecd97cc0] i8 v,h,dc,ddl,ddr,vr,hd,vl,hu: 22% 16% 20%  7%  6%  6%  7%  7%  9%\n",
      "[libx264 @ 0x556fecd97cc0] i4 v,h,dc,ddl,ddr,vr,hd,vl,hu: 34% 24% 20%  4%  5%  4%  4%  3%  3%\n",
      "[libx264 @ 0x556fecd97cc0] i8c dc,h,v,p: 52% 20% 12% 17%\n",
      "[libx264 @ 0x556fecd97cc0] Weighted P-Frames: Y:0.0% UV:0.0%\n",
      "[libx264 @ 0x556fecd97cc0] ref P L0: 42.2%  5.9% 31.9% 20.0%\n",
      "[libx264 @ 0x556fecd97cc0] ref B L0: 69.3% 28.7%  2.0%\n",
      "[libx264 @ 0x556fecd97cc0] ref B L1: 96.5%  3.5%\n",
      "[libx264 @ 0x556fecd97cc0] kb/s:1769.16\n"
     ]
    },
    {
     "name": "stdout",
     "output_type": "stream",
     "text": [
      "Generating glimpse\n"
     ]
    },
    {
     "data": {
      "application/vnd.jupyter.widget-view+json": {
       "model_id": "44c83d3abf224e0a8ff4c2384dea4501",
       "version_major": 2,
       "version_minor": 0
      },
      "text/plain": [
       "Creating glimpse ID: ((6, 8), 577):   0%|          | 0/75 [00:00<?, ?it/s]"
      ]
     },
     "metadata": {},
     "output_type": "display_data"
    },
    {
     "name": "stderr",
     "output_type": "stream",
     "text": [
      "[INFO][2023/12/06 02:27:48 PM] Opening HDF file: /mnt/DATA/macrohet/labels/PS0000/macrohet_seg_model/(6, 8).h5...\n",
      "INFO:btrack.io.hdf:Opening HDF file: /mnt/DATA/macrohet/labels/PS0000/macrohet_seg_model/(6, 8).h5...\n",
      "[INFO][2023/12/06 02:28:14 PM] Loading segmentation (75, 6048, 6048)\n",
      "INFO:btrack.io.hdf:Loading segmentation (75, 6048, 6048)\n",
      "[INFO][2023/12/06 02:28:14 PM] Closing HDF file: /mnt/DATA/macrohet/labels/PS0000/macrohet_seg_model/(6, 8).h5\n",
      "INFO:btrack.io.hdf:Closing HDF file: /mnt/DATA/macrohet/labels/PS0000/macrohet_seg_model/(6, 8).h5\n"
     ]
    },
    {
     "data": {
      "application/vnd.jupyter.widget-view+json": {
       "model_id": "51a72a4423da4f929f14aacd3df9150b",
       "version_major": 2,
       "version_minor": 0
      },
      "text/plain": [
       "Creating mask glimpse ID: ((6, 8), 577):   0%|          | 0/75 [00:00<?, ?it/s]"
      ]
     },
     "metadata": {},
     "output_type": "display_data"
    },
    {
     "data": {
      "application/vnd.jupyter.widget-view+json": {
       "model_id": "fff33469c9b8424a8dd3436386b8e923",
       "version_major": 2,
       "version_minor": 0
      },
      "text/plain": [
       "Extracting mtb area over each frame: ((6, 8), 577):   0%|          | 0/75 [00:00<?, ?it/s]"
      ]
     },
     "metadata": {},
     "output_type": "display_data"
    },
    {
     "data": {
      "application/vnd.jupyter.widget-view+json": {
       "model_id": "10660f1f46ec44a7b5872e8faddf12f1",
       "version_major": 2,
       "version_minor": 0
      },
      "text/plain": [
       "Saving out single frames:   0%|          | 0/75 [00:00<?, ?it/s]"
      ]
     },
     "metadata": {},
     "output_type": "display_data"
    },
    {
     "name": "stdout",
     "output_type": "stream",
     "text": [
      "No doubling found in the provided data.\n",
      "No doubling found in the provided data.\n",
      "No doubling found in the provided data.\n",
      "No doubling found in the provided data.\n",
      "No doubling found in the provided data.\n",
      "No doubling found in the provided data.\n",
      "No doubling found in the provided data.\n",
      "No doubling found in the provided data.\n",
      "No doubling found in the provided data.\n",
      "No doubling found in the provided data.\n",
      "No doubling found in the provided data.\n",
      "No doubling found in the provided data.\n",
      "No doubling found in the provided data.\n",
      "No doubling found in the provided data.\n",
      "No doubling found in the provided data.\n",
      "No doubling found in the provided data.\n",
      "No doubling found in the provided data.\n",
      "No doubling found in the provided data.\n",
      "No doubling found in the provided data.\n",
      "No doubling found in the provided data.\n",
      "No doubling found in the provided data.\n",
      "No doubling found in the provided data.\n",
      "No doubling found in the provided data.\n",
      "No doubling found in the provided data.\n",
      "No doubling found in the provided data.\n",
      "No doubling found in the provided data.\n",
      "No doubling found in the provided data.\n",
      "No doubling found in the provided data.\n",
      "No doubling found in the provided data.\n",
      "No doubling found in the provided data.\n",
      "No doubling found in the provided data.\n",
      "No doubling found in the provided data.\n",
      "No doubling found in the provided data.\n",
      "No doubling found in the provided data.\n",
      "No doubling found in the provided data.\n",
      "No doubling found in the provided data.\n",
      "No doubling found in the provided data.\n",
      "No doubling found in the provided data.\n",
      "No doubling found in the provided data.\n",
      "No doubling found in the provided data.\n",
      "No doubling found in the provided data.\n",
      "No doubling found in the provided data.\n",
      "No doubling found in the provided data.\n",
      "No doubling found in the provided data.\n",
      "No doubling found in the provided data.\n",
      "No doubling found in the provided data.\n",
      "No doubling found in the provided data.\n",
      "No doubling found in the provided data.\n",
      "No doubling found in the provided data.\n",
      "No doubling found in the provided data.\n",
      "No doubling found in the provided data.\n",
      "No doubling found in the provided data.\n",
      "No doubling found in the provided data.\n",
      "No doubling found in the provided data.\n",
      "No doubling found in the provided data.\n",
      "No doubling found in the provided data.\n",
      "No doubling found in the provided data.\n",
      "No doubling found in the provided data.\n",
      "No doubling found in the provided data.\n",
      "No doubling found in the provided data.\n",
      "No doubling found in the provided data.\n",
      "No doubling found in the provided data.\n",
      "No doubling found in the provided data.\n",
      "No doubling found in the provided data.\n",
      "No doubling found in the provided data.\n",
      "No doubling found in the provided data.\n",
      "No doubling found in the provided data.\n",
      "No doubling found in the provided data.\n",
      "No doubling found in the provided data.\n",
      "No doubling found in the provided data.\n",
      "No doubling found in the provided data.\n",
      "No doubling found in the provided data.\n",
      "No doubling found in the provided data.\n",
      "No doubling found in the provided data.\n",
      "No doubling found in the provided data.\n"
     ]
    },
    {
     "name": "stderr",
     "output_type": "stream",
     "text": [
      "ffmpeg version 4.2.7-0ubuntu0.1 Copyright (c) 2000-2022 the FFmpeg developers\n",
      "  built with gcc 9 (Ubuntu 9.4.0-1ubuntu1~20.04.1)\n",
      "  configuration: --prefix=/usr --extra-version=0ubuntu0.1 --toolchain=hardened --libdir=/usr/lib/x86_64-linux-gnu --incdir=/usr/include/x86_64-linux-gnu --arch=amd64 --enable-gpl --disable-stripping --enable-avresample --disable-filter=resample --enable-avisynth --enable-gnutls --enable-ladspa --enable-libaom --enable-libass --enable-libbluray --enable-libbs2b --enable-libcaca --enable-libcdio --enable-libcodec2 --enable-libflite --enable-libfontconfig --enable-libfreetype --enable-libfribidi --enable-libgme --enable-libgsm --enable-libjack --enable-libmp3lame --enable-libmysofa --enable-libopenjpeg --enable-libopenmpt --enable-libopus --enable-libpulse --enable-librsvg --enable-librubberband --enable-libshine --enable-libsnappy --enable-libsoxr --enable-libspeex --enable-libssh --enable-libtheora --enable-libtwolame --enable-libvidstab --enable-libvorbis --enable-libvpx --enable-libwavpack --enable-libwebp --enable-libx265 --enable-libxml2 --enable-libxvid --enable-libzmq --enable-libzvbi --enable-lv2 --enable-omx --enable-openal --enable-opencl --enable-opengl --enable-sdl2 --enable-libdc1394 --enable-libdrm --enable-libiec61883 --enable-nvenc --enable-chromaprint --enable-frei0r --enable-libx264 --enable-shared\n",
      "  libavutil      56. 31.100 / 56. 31.100\n",
      "  libavcodec     58. 54.100 / 58. 54.100\n",
      "  libavformat    58. 29.100 / 58. 29.100\n",
      "  libavdevice    58.  8.100 / 58.  8.100\n",
      "  libavfilter     7. 57.100 /  7. 57.100\n",
      "  libavresample   4.  0.  0 /  4.  0.  0\n",
      "  libswscale      5.  5.100 /  5.  5.100\n",
      "  libswresample   3.  5.100 /  3.  5.100\n",
      "  libpostproc    55.  5.100 / 55.  5.100\n",
      "Input #0, image2, from '/mnt/DATA/macrohet/results/glimpses/fast_grower_area_smoothed_graph/(6, 8)/577.6.8/frames/*_t_*.png':\n",
      "  Duration: 00:00:15.00, start: 0.000000, bitrate: N/A\n",
      "    Stream #0:0: Video: png, rgba(pc), 4123x1388 [SAR 12362:12362 DAR 4123:1388], 5 fps, 5 tbr, 5 tbn, 5 tbc\n",
      "Stream mapping:\n",
      "  Stream #0:0 -> #0:0 (png (native) -> h264 (libx264))\n",
      "Press [q] to stop, [?] for help\n",
      "[libx264 @ 0x56446ffa5680] using SAR=1/1\n",
      "[libx264 @ 0x56446ffa5680] using cpu capabilities: MMX2 SSE2Fast SSSE3 SSE4.2 AVX FMA3 BMI2 AVX2 AVX512\n",
      "[libx264 @ 0x56446ffa5680] profile High, level 5.1\n",
      "[libx264 @ 0x56446ffa5680] 264 - core 155 r2917 0a84d98 - H.264/MPEG-4 AVC codec - Copyleft 2003-2018 - http://www.videolan.org/x264.html - options: cabac=1 ref=3 deblock=1:0:0 analyse=0x3:0x113 me=hex subme=7 psy=1 psy_rd=1.00:0.00 mixed_ref=1 me_range=16 chroma_me=1 trellis=1 8x8dct=1 cqm=0 deadzone=21,11 fast_pskip=1 chroma_qp_offset=-2 threads=43 lookahead_threads=7 sliced_threads=0 nr=0 decimate=1 interlaced=0 bluray_compat=0 constrained_intra=0 bframes=3 b_pyramid=2 b_adapt=1 b_bias=0 direct=1 weightb=1 open_gop=0 weightp=2 keyint=250 keyint_min=5 scenecut=40 intra_refresh=0 rc_lookahead=40 rc=crf mbtree=1 crf=23.0 qcomp=0.60 qpmin=0 qpmax=69 qpstep=4 ip_ratio=1.40 aq=1:1.00\n",
      "Output #0, mp4, to '/mnt/DATA/macrohet/results/glimpses/fast_grower_area_smoothed_graph/(6, 8)/577.6.8/ID_577.6.8_outlying_growth_glimpse_graph.mp4':\n",
      "  Metadata:\n",
      "    encoder         : Lavf58.29.100\n",
      "    Stream #0:0: Video: h264 (libx264) (avc1 / 0x31637661), yuv420p, 4124x1388 [SAR 1:1 DAR 1031:347], q=-1--1, 5 fps, 10240 tbn, 5 tbc\n",
      "    Metadata:\n",
      "      encoder         : Lavc58.54.100 libx264\n",
      "    Side data:\n",
      "      cpb: bitrate max/min/avg: 0/0/0 buffer size: 0 vbv_delay: -1\n",
      "frame=   75 fps=7.9 q=-1.0 Lsize=    4192kB time=00:00:14.40 bitrate=2384.6kbits/s speed=1.51x    \n",
      "video:4191kB audio:0kB subtitle:0kB other streams:0kB global headers:0kB muxing overhead: 0.029713%\n",
      "[libx264 @ 0x56446ffa5680] frame I:1     Avg QP:16.81  size:227401\n",
      "[libx264 @ 0x56446ffa5680] frame P:72    Avg QP:21.86  size: 55110\n",
      "[libx264 @ 0x56446ffa5680] frame B:2     Avg QP:20.56  size: 47532\n",
      "[libx264 @ 0x56446ffa5680] consecutive B-frames: 94.7%  5.3%  0.0%  0.0%\n",
      "[libx264 @ 0x56446ffa5680] mb I  I16..4: 28.7% 60.1% 11.2%\n",
      "[libx264 @ 0x56446ffa5680] mb P  I16..4:  2.1%  9.2%  1.3%  P16..4:  3.0%  2.4%  1.2%  0.0%  0.0%    skip:80.7%\n",
      "[libx264 @ 0x56446ffa5680] mb B  I16..4:  1.4%  6.2%  0.7%  B16..8:  4.8%  4.1%  1.1%  direct: 0.9%  skip:80.9%  L0:51.8% L1:42.8% BI: 5.4%\n",
      "[libx264 @ 0x56446ffa5680] 8x8 transform intra:71.5% inter:78.9%\n",
      "[libx264 @ 0x56446ffa5680] coded y,uvDC,uvAC intra: 61.9% 75.0% 63.4% inter: 4.6% 4.7% 1.5%\n",
      "[libx264 @ 0x56446ffa5680] i16 v,h,dc,p: 54% 17%  2% 26%\n",
      "[libx264 @ 0x56446ffa5680] i8 v,h,dc,ddl,ddr,vr,hd,vl,hu: 20% 16% 19%  6%  8%  7%  8%  7%  9%\n",
      "[libx264 @ 0x56446ffa5680] i4 v,h,dc,ddl,ddr,vr,hd,vl,hu: 32% 22% 18%  5%  6%  5%  5%  4%  4%\n",
      "[libx264 @ 0x56446ffa5680] i8c dc,h,v,p: 46% 20% 15% 20%\n",
      "[libx264 @ 0x56446ffa5680] Weighted P-Frames: Y:0.0% UV:0.0%\n",
      "[libx264 @ 0x56446ffa5680] ref P L0: 40.7%  6.3% 30.0% 23.0%\n",
      "[libx264 @ 0x56446ffa5680] ref B L0: 57.4% 42.6%\n",
      "[libx264 @ 0x56446ffa5680] kb/s:2288.21\n"
     ]
    },
    {
     "name": "stdout",
     "output_type": "stream",
     "text": [
      "Generating glimpse\n"
     ]
    },
    {
     "data": {
      "application/vnd.jupyter.widget-view+json": {
       "model_id": "30ecac67954f48da9538c8fa743bfcab",
       "version_major": 2,
       "version_minor": 0
      },
      "text/plain": [
       "Creating glimpse ID: ((5, 5), 509):   0%|          | 0/75 [00:00<?, ?it/s]"
      ]
     },
     "metadata": {},
     "output_type": "display_data"
    },
    {
     "data": {
      "application/vnd.jupyter.widget-view+json": {
       "model_id": "e307741d1a304c79a20ef0ccad80b140",
       "version_major": 2,
       "version_minor": 0
      },
      "text/plain": [
       "Creating mask glimpse ID: ((5, 5), 509):   0%|          | 0/75 [00:00<?, ?it/s]"
      ]
     },
     "metadata": {},
     "output_type": "display_data"
    },
    {
     "data": {
      "application/vnd.jupyter.widget-view+json": {
       "model_id": "abc155d2223a429a8ef3ff00871b5829",
       "version_major": 2,
       "version_minor": 0
      },
      "text/plain": [
       "Extracting mtb area over each frame: ((5, 5), 509):   0%|          | 0/75 [00:00<?, ?it/s]"
      ]
     },
     "metadata": {},
     "output_type": "display_data"
    },
    {
     "data": {
      "application/vnd.jupyter.widget-view+json": {
       "model_id": "d5f87b0d4745407d8164d031f905264a",
       "version_major": 2,
       "version_minor": 0
      },
      "text/plain": [
       "Saving out single frames:   0%|          | 0/75 [00:00<?, ?it/s]"
      ]
     },
     "metadata": {},
     "output_type": "display_data"
    },
    {
     "name": "stdout",
     "output_type": "stream",
     "text": [
      "No doubling found in the provided data.\n",
      "No doubling found in the provided data.\n",
      "No doubling found in the provided data.\n",
      "No doubling found in the provided data.\n",
      "No doubling found in the provided data.\n",
      "No doubling found in the provided data.\n",
      "No doubling found in the provided data.\n",
      "No doubling found in the provided data.\n",
      "No doubling found in the provided data.\n",
      "No doubling found in the provided data.\n",
      "No doubling found in the provided data.\n",
      "No doubling found in the provided data.\n",
      "No doubling found in the provided data.\n",
      "No doubling found in the provided data.\n",
      "No doubling found in the provided data.\n",
      "No doubling found in the provided data.\n",
      "No doubling found in the provided data.\n",
      "No doubling found in the provided data.\n",
      "No doubling found in the provided data.\n",
      "No doubling found in the provided data.\n",
      "No doubling found in the provided data.\n",
      "No doubling found in the provided data.\n",
      "No doubling found in the provided data.\n",
      "No doubling found in the provided data.\n",
      "No doubling found in the provided data.\n",
      "No doubling found in the provided data.\n",
      "No doubling found in the provided data.\n",
      "No doubling found in the provided data.\n",
      "No doubling found in the provided data.\n",
      "No doubling found in the provided data.\n",
      "No doubling found in the provided data.\n",
      "No doubling found in the provided data.\n",
      "No doubling found in the provided data.\n",
      "No doubling found in the provided data.\n",
      "No doubling found in the provided data.\n",
      "No doubling found in the provided data.\n",
      "No doubling found in the provided data.\n",
      "No doubling found in the provided data.\n",
      "No doubling found in the provided data.\n",
      "No doubling found in the provided data.\n",
      "No doubling found in the provided data.\n",
      "No doubling found in the provided data.\n",
      "No doubling found in the provided data.\n",
      "No doubling found in the provided data.\n",
      "No doubling found in the provided data.\n",
      "No doubling found in the provided data.\n",
      "No doubling found in the provided data.\n",
      "No doubling found in the provided data.\n",
      "No doubling found in the provided data.\n",
      "No doubling found in the provided data.\n",
      "No doubling found in the provided data.\n",
      "No doubling found in the provided data.\n",
      "No doubling found in the provided data.\n",
      "No doubling found in the provided data.\n",
      "No doubling found in the provided data.\n",
      "No doubling found in the provided data.\n",
      "No doubling found in the provided data.\n",
      "No doubling found in the provided data.\n",
      "No doubling found in the provided data.\n",
      "No doubling found in the provided data.\n",
      "No doubling found in the provided data.\n",
      "No doubling found in the provided data.\n",
      "No doubling found in the provided data.\n",
      "No doubling found in the provided data.\n",
      "No doubling found in the provided data.\n",
      "No doubling found in the provided data.\n",
      "No doubling found in the provided data.\n",
      "No doubling found in the provided data.\n",
      "No doubling found in the provided data.\n",
      "No doubling found in the provided data.\n",
      "No doubling found in the provided data.\n",
      "No doubling found in the provided data.\n",
      "No doubling found in the provided data.\n",
      "No doubling found in the provided data.\n",
      "No doubling found in the provided data.\n"
     ]
    },
    {
     "name": "stderr",
     "output_type": "stream",
     "text": [
      "ffmpeg version 4.2.7-0ubuntu0.1 Copyright (c) 2000-2022 the FFmpeg developers\n",
      "  built with gcc 9 (Ubuntu 9.4.0-1ubuntu1~20.04.1)\n",
      "  configuration: --prefix=/usr --extra-version=0ubuntu0.1 --toolchain=hardened --libdir=/usr/lib/x86_64-linux-gnu --incdir=/usr/include/x86_64-linux-gnu --arch=amd64 --enable-gpl --disable-stripping --enable-avresample --disable-filter=resample --enable-avisynth --enable-gnutls --enable-ladspa --enable-libaom --enable-libass --enable-libbluray --enable-libbs2b --enable-libcaca --enable-libcdio --enable-libcodec2 --enable-libflite --enable-libfontconfig --enable-libfreetype --enable-libfribidi --enable-libgme --enable-libgsm --enable-libjack --enable-libmp3lame --enable-libmysofa --enable-libopenjpeg --enable-libopenmpt --enable-libopus --enable-libpulse --enable-librsvg --enable-librubberband --enable-libshine --enable-libsnappy --enable-libsoxr --enable-libspeex --enable-libssh --enable-libtheora --enable-libtwolame --enable-libvidstab --enable-libvorbis --enable-libvpx --enable-libwavpack --enable-libwebp --enable-libx265 --enable-libxml2 --enable-libxvid --enable-libzmq --enable-libzvbi --enable-lv2 --enable-omx --enable-openal --enable-opencl --enable-opengl --enable-sdl2 --enable-libdc1394 --enable-libdrm --enable-libiec61883 --enable-nvenc --enable-chromaprint --enable-frei0r --enable-libx264 --enable-shared\n",
      "  libavutil      56. 31.100 / 56. 31.100\n",
      "  libavcodec     58. 54.100 / 58. 54.100\n",
      "  libavformat    58. 29.100 / 58. 29.100\n",
      "  libavdevice    58.  8.100 / 58.  8.100\n",
      "  libavfilter     7. 57.100 /  7. 57.100\n",
      "  libavresample   4.  0.  0 /  4.  0.  0\n",
      "  libswscale      5.  5.100 /  5.  5.100\n",
      "  libswresample   3.  5.100 /  3.  5.100\n",
      "  libpostproc    55.  5.100 / 55.  5.100\n",
      "Input #0, image2, from '/mnt/DATA/macrohet/results/glimpses/fast_grower_area_smoothed_graph/(5, 5)/509.5.5/frames/*_t_*.png':\n",
      "  Duration: 00:00:15.00, start: 0.000000, bitrate: N/A\n",
      "    Stream #0:0: Video: png, rgba(pc), 4123x1388 [SAR 12362:12362 DAR 4123:1388], 5 fps, 5 tbr, 5 tbn, 5 tbc\n",
      "Stream mapping:\n",
      "  Stream #0:0 -> #0:0 (png (native) -> h264 (libx264))\n",
      "Press [q] to stop, [?] for help\n",
      "[libx264 @ 0x55760ab13cc0] using SAR=1/1\n",
      "[libx264 @ 0x55760ab13cc0] using cpu capabilities: MMX2 SSE2Fast SSSE3 SSE4.2 AVX FMA3 BMI2 AVX2 AVX512\n",
      "[libx264 @ 0x55760ab13cc0] profile High, level 5.1\n",
      "[libx264 @ 0x55760ab13cc0] 264 - core 155 r2917 0a84d98 - H.264/MPEG-4 AVC codec - Copyleft 2003-2018 - http://www.videolan.org/x264.html - options: cabac=1 ref=3 deblock=1:0:0 analyse=0x3:0x113 me=hex subme=7 psy=1 psy_rd=1.00:0.00 mixed_ref=1 me_range=16 chroma_me=1 trellis=1 8x8dct=1 cqm=0 deadzone=21,11 fast_pskip=1 chroma_qp_offset=-2 threads=43 lookahead_threads=7 sliced_threads=0 nr=0 decimate=1 interlaced=0 bluray_compat=0 constrained_intra=0 bframes=3 b_pyramid=2 b_adapt=1 b_bias=0 direct=1 weightb=1 open_gop=0 weightp=2 keyint=250 keyint_min=5 scenecut=40 intra_refresh=0 rc_lookahead=40 rc=crf mbtree=1 crf=23.0 qcomp=0.60 qpmin=0 qpmax=69 qpstep=4 ip_ratio=1.40 aq=1:1.00\n",
      "Output #0, mp4, to '/mnt/DATA/macrohet/results/glimpses/fast_grower_area_smoothed_graph/(5, 5)/509.5.5/ID_509.5.5_outlying_growth_glimpse_graph.mp4':\n",
      "  Metadata:\n",
      "    encoder         : Lavf58.29.100\n",
      "    Stream #0:0: Video: h264 (libx264) (avc1 / 0x31637661), yuv420p, 4124x1388 [SAR 1:1 DAR 1031:347], q=-1--1, 5 fps, 10240 tbn, 5 tbc\n",
      "    Metadata:\n",
      "      encoder         : Lavc58.54.100 libx264\n",
      "    Side data:\n",
      "      cpb: bitrate max/min/avg: 0/0/0 buffer size: 0 vbv_delay: -1\n",
      "frame=   75 fps=8.3 q=-1.0 Lsize=    3217kB time=00:00:14.40 bitrate=1829.9kbits/s speed= 1.6x    \n",
      "video:3215kB audio:0kB subtitle:0kB other streams:0kB global headers:0kB muxing overhead: 0.043098%\n",
      "[libx264 @ 0x55760ab13cc0] frame I:1     Avg QP:18.50  size:157555\n",
      "[libx264 @ 0x55760ab13cc0] frame P:61    Avg QP:21.69  size: 43467\n",
      "[libx264 @ 0x55760ab13cc0] frame B:13    Avg QP:22.01  size: 37138\n",
      "[libx264 @ 0x55760ab13cc0] consecutive B-frames: 70.7% 16.0%  8.0%  5.3%\n",
      "[libx264 @ 0x55760ab13cc0] mb I  I16..4: 21.9% 65.1% 13.0%\n",
      "[libx264 @ 0x55760ab13cc0] mb P  I16..4:  1.3%  6.9%  1.2%  P16..4:  5.0%  2.9%  1.4%  0.0%  0.0%    skip:81.2%\n",
      "[libx264 @ 0x55760ab13cc0] mb B  I16..4:  0.8%  3.8%  0.5%  B16..8:  6.4%  4.0%  1.0%  direct: 1.4%  skip:82.0%  L0:57.0% L1:37.7% BI: 5.2%\n",
      "[libx264 @ 0x55760ab13cc0] 8x8 transform intra:72.0% inter:79.2%\n",
      "[libx264 @ 0x55760ab13cc0] coded y,uvDC,uvAC intra: 56.1% 65.9% 53.1% inter: 5.8% 6.0% 1.4%\n",
      "[libx264 @ 0x55760ab13cc0] i16 v,h,dc,p: 49% 21%  5% 26%\n",
      "[libx264 @ 0x55760ab13cc0] i8 v,h,dc,ddl,ddr,vr,hd,vl,hu: 22% 14% 24%  5%  8%  7%  8%  6%  7%\n",
      "[libx264 @ 0x55760ab13cc0] i4 v,h,dc,ddl,ddr,vr,hd,vl,hu: 37% 22% 22%  3%  5%  4%  4%  2%  2%\n",
      "[libx264 @ 0x55760ab13cc0] i8c dc,h,v,p: 51% 18% 15% 16%\n",
      "[libx264 @ 0x55760ab13cc0] Weighted P-Frames: Y:0.0% UV:0.0%\n",
      "[libx264 @ 0x55760ab13cc0] ref P L0: 44.7%  5.6% 29.4% 20.4%\n",
      "[libx264 @ 0x55760ab13cc0] ref B L0: 61.7% 32.8%  5.4%\n",
      "[libx264 @ 0x55760ab13cc0] ref B L1: 97.2%  2.8%\n",
      "[libx264 @ 0x55760ab13cc0] kb/s:1755.64\n"
     ]
    },
    {
     "name": "stdout",
     "output_type": "stream",
     "text": [
      "The following glimpses already exist for 239.4.5: ['/mnt/DATA/macrohet/results/glimpses/fast_grower_area_smoothed_graph/(4, 5)/239.4.5/ID_239.4.5_dt_54_outlying_growth_glimpse_graph.mp4']\n"
     ]
    },
    {
     "ename": "FileNotFoundError",
     "evalue": "[Errno 2] No such file or directory: './outliers'",
     "output_type": "error",
     "traceback": [
      "\u001b[0;31m---------------------------------------------------------------------------\u001b[0m",
      "\u001b[0;31mFileNotFoundError\u001b[0m                         Traceback (most recent call last)",
      "Cell \u001b[0;32mIn[9], line 32\u001b[0m\n\u001b[1;32m     25\u001b[0m images \u001b[38;5;241m=\u001b[39m tile\u001b[38;5;241m.\u001b[39mcompile_mosaic(image_dir, \n\u001b[1;32m     26\u001b[0m                      metadata, \n\u001b[1;32m     27\u001b[0m                      row, column, \n\u001b[1;32m     28\u001b[0m                      set_plane\u001b[38;5;241m=\u001b[39m\u001b[38;5;124m'\u001b[39m\u001b[38;5;124mmax_proj\u001b[39m\u001b[38;5;124m'\u001b[39m,\n\u001b[1;32m     29\u001b[0m                     )\n\u001b[1;32m     31\u001b[0m \u001b[38;5;66;03m# get glimpse if already created\u001b[39;00m\n\u001b[0;32m---> 32\u001b[0m \u001b[38;5;28;01mif\u001b[39;00m track_id\u001b[38;5;241m+\u001b[39m\u001b[38;5;124m'\u001b[39m\u001b[38;5;124m.npy\u001b[39m\u001b[38;5;124m'\u001b[39m \u001b[38;5;129;01min\u001b[39;00m \u001b[43mos\u001b[49m\u001b[38;5;241;43m.\u001b[39;49m\u001b[43mlistdir\u001b[49m\u001b[43m(\u001b[49m\u001b[38;5;124;43m'\u001b[39;49m\u001b[38;5;124;43m./outliers\u001b[39;49m\u001b[38;5;124;43m'\u001b[39;49m\u001b[43m)\u001b[49m:\n\u001b[1;32m     33\u001b[0m     \u001b[38;5;28mprint\u001b[39m(\u001b[38;5;124m'\u001b[39m\u001b[38;5;124mLoading pre generated glimpse\u001b[39m\u001b[38;5;124m'\u001b[39m)\n\u001b[1;32m     34\u001b[0m     glimpse \u001b[38;5;241m=\u001b[39m np\u001b[38;5;241m.\u001b[39mload(os\u001b[38;5;241m.\u001b[39mpath\u001b[38;5;241m.\u001b[39mjoin(\u001b[38;5;124mf\u001b[39m\u001b[38;5;124m'\u001b[39m\u001b[38;5;124m./outliers/\u001b[39m\u001b[38;5;132;01m{\u001b[39;00mtrack_id\u001b[38;5;132;01m}\u001b[39;00m\u001b[38;5;124m.npy\u001b[39m\u001b[38;5;124m'\u001b[39m))\n",
      "\u001b[0;31mFileNotFoundError\u001b[0m: [Errno 2] No such file or directory: './outliers'"
     ]
    },
    {
     "data": {
      "text/plain": [
       "<Figure size 1000x400 with 0 Axes>"
      ]
     },
     "metadata": {},
     "output_type": "display_data"
    },
    {
     "data": {
      "text/plain": [
       "<Figure size 1000x400 with 0 Axes>"
      ]
     },
     "metadata": {},
     "output_type": "display_data"
    },
    {
     "data": {
      "text/plain": [
       "<Figure size 1000x400 with 0 Axes>"
      ]
     },
     "metadata": {},
     "output_type": "display_data"
    },
    {
     "data": {
      "text/plain": [
       "<Figure size 1000x400 with 0 Axes>"
      ]
     },
     "metadata": {},
     "output_type": "display_data"
    },
    {
     "data": {
      "text/plain": [
       "<Figure size 1000x400 with 0 Axes>"
      ]
     },
     "metadata": {},
     "output_type": "display_data"
    },
    {
     "data": {
      "text/plain": [
       "<Figure size 1000x400 with 0 Axes>"
      ]
     },
     "metadata": {},
     "output_type": "display_data"
    },
    {
     "data": {
      "text/plain": [
       "<Figure size 1000x400 with 0 Axes>"
      ]
     },
     "metadata": {},
     "output_type": "display_data"
    },
    {
     "data": {
      "text/plain": [
       "<Figure size 1000x400 with 0 Axes>"
      ]
     },
     "metadata": {},
     "output_type": "display_data"
    },
    {
     "data": {
      "text/plain": [
       "<Figure size 1000x400 with 0 Axes>"
      ]
     },
     "metadata": {},
     "output_type": "display_data"
    },
    {
     "data": {
      "text/plain": [
       "<Figure size 1000x400 with 0 Axes>"
      ]
     },
     "metadata": {},
     "output_type": "display_data"
    },
    {
     "data": {
      "text/plain": [
       "<Figure size 1000x400 with 0 Axes>"
      ]
     },
     "metadata": {},
     "output_type": "display_data"
    },
    {
     "data": {
      "text/plain": [
       "<Figure size 1000x400 with 0 Axes>"
      ]
     },
     "metadata": {},
     "output_type": "display_data"
    },
    {
     "data": {
      "text/plain": [
       "<Figure size 1000x400 with 0 Axes>"
      ]
     },
     "metadata": {},
     "output_type": "display_data"
    },
    {
     "data": {
      "text/plain": [
       "<Figure size 1000x400 with 0 Axes>"
      ]
     },
     "metadata": {},
     "output_type": "display_data"
    },
    {
     "data": {
      "text/plain": [
       "<Figure size 1000x400 with 0 Axes>"
      ]
     },
     "metadata": {},
     "output_type": "display_data"
    },
    {
     "data": {
      "text/plain": [
       "<Figure size 1000x400 with 0 Axes>"
      ]
     },
     "metadata": {},
     "output_type": "display_data"
    },
    {
     "data": {
      "text/plain": [
       "<Figure size 1000x400 with 0 Axes>"
      ]
     },
     "metadata": {},
     "output_type": "display_data"
    },
    {
     "data": {
      "text/plain": [
       "<Figure size 1000x400 with 0 Axes>"
      ]
     },
     "metadata": {},
     "output_type": "display_data"
    },
    {
     "data": {
      "text/plain": [
       "<Figure size 1000x400 with 0 Axes>"
      ]
     },
     "metadata": {},
     "output_type": "display_data"
    },
    {
     "data": {
      "text/plain": [
       "<Figure size 1000x400 with 0 Axes>"
      ]
     },
     "metadata": {},
     "output_type": "display_data"
    },
    {
     "data": {
      "text/plain": [
       "<Figure size 1000x400 with 0 Axes>"
      ]
     },
     "metadata": {},
     "output_type": "display_data"
    },
    {
     "data": {
      "text/plain": [
       "<Figure size 1000x400 with 0 Axes>"
      ]
     },
     "metadata": {},
     "output_type": "display_data"
    },
    {
     "data": {
      "text/plain": [
       "<Figure size 1000x400 with 0 Axes>"
      ]
     },
     "metadata": {},
     "output_type": "display_data"
    },
    {
     "data": {
      "text/plain": [
       "<Figure size 1000x400 with 0 Axes>"
      ]
     },
     "metadata": {},
     "output_type": "display_data"
    },
    {
     "data": {
      "text/plain": [
       "<Figure size 1000x400 with 0 Axes>"
      ]
     },
     "metadata": {},
     "output_type": "display_data"
    },
    {
     "data": {
      "text/plain": [
       "<Figure size 1000x400 with 0 Axes>"
      ]
     },
     "metadata": {},
     "output_type": "display_data"
    },
    {
     "data": {
      "text/plain": [
       "<Figure size 1000x400 with 0 Axes>"
      ]
     },
     "metadata": {},
     "output_type": "display_data"
    },
    {
     "data": {
      "text/plain": [
       "<Figure size 1000x400 with 0 Axes>"
      ]
     },
     "metadata": {},
     "output_type": "display_data"
    },
    {
     "data": {
      "text/plain": [
       "<Figure size 1000x400 with 0 Axes>"
      ]
     },
     "metadata": {},
     "output_type": "display_data"
    },
    {
     "data": {
      "text/plain": [
       "<Figure size 1000x400 with 0 Axes>"
      ]
     },
     "metadata": {},
     "output_type": "display_data"
    },
    {
     "data": {
      "text/plain": [
       "<Figure size 1000x400 with 0 Axes>"
      ]
     },
     "metadata": {},
     "output_type": "display_data"
    },
    {
     "data": {
      "text/plain": [
       "<Figure size 1000x400 with 0 Axes>"
      ]
     },
     "metadata": {},
     "output_type": "display_data"
    },
    {
     "data": {
      "text/plain": [
       "<Figure size 1000x400 with 0 Axes>"
      ]
     },
     "metadata": {},
     "output_type": "display_data"
    },
    {
     "data": {
      "text/plain": [
       "<Figure size 1000x400 with 0 Axes>"
      ]
     },
     "metadata": {},
     "output_type": "display_data"
    },
    {
     "data": {
      "text/plain": [
       "<Figure size 1000x400 with 0 Axes>"
      ]
     },
     "metadata": {},
     "output_type": "display_data"
    },
    {
     "data": {
      "text/plain": [
       "<Figure size 1000x400 with 0 Axes>"
      ]
     },
     "metadata": {},
     "output_type": "display_data"
    },
    {
     "data": {
      "text/plain": [
       "<Figure size 1000x400 with 0 Axes>"
      ]
     },
     "metadata": {},
     "output_type": "display_data"
    },
    {
     "data": {
      "text/plain": [
       "<Figure size 1000x400 with 0 Axes>"
      ]
     },
     "metadata": {},
     "output_type": "display_data"
    },
    {
     "data": {
      "text/plain": [
       "<Figure size 1000x400 with 0 Axes>"
      ]
     },
     "metadata": {},
     "output_type": "display_data"
    },
    {
     "data": {
      "text/plain": [
       "<Figure size 1000x400 with 0 Axes>"
      ]
     },
     "metadata": {},
     "output_type": "display_data"
    },
    {
     "data": {
      "text/plain": [
       "<Figure size 1000x400 with 0 Axes>"
      ]
     },
     "metadata": {},
     "output_type": "display_data"
    },
    {
     "data": {
      "text/plain": [
       "<Figure size 1000x400 with 0 Axes>"
      ]
     },
     "metadata": {},
     "output_type": "display_data"
    },
    {
     "data": {
      "text/plain": [
       "<Figure size 1000x400 with 0 Axes>"
      ]
     },
     "metadata": {},
     "output_type": "display_data"
    },
    {
     "data": {
      "text/plain": [
       "<Figure size 1000x400 with 0 Axes>"
      ]
     },
     "metadata": {},
     "output_type": "display_data"
    },
    {
     "data": {
      "text/plain": [
       "<Figure size 1000x400 with 0 Axes>"
      ]
     },
     "metadata": {},
     "output_type": "display_data"
    },
    {
     "data": {
      "text/plain": [
       "<Figure size 1000x400 with 0 Axes>"
      ]
     },
     "metadata": {},
     "output_type": "display_data"
    },
    {
     "data": {
      "text/plain": [
       "<Figure size 1000x400 with 0 Axes>"
      ]
     },
     "metadata": {},
     "output_type": "display_data"
    },
    {
     "data": {
      "text/plain": [
       "<Figure size 1000x400 with 0 Axes>"
      ]
     },
     "metadata": {},
     "output_type": "display_data"
    },
    {
     "data": {
      "text/plain": [
       "<Figure size 1000x400 with 0 Axes>"
      ]
     },
     "metadata": {},
     "output_type": "display_data"
    },
    {
     "data": {
      "text/plain": [
       "<Figure size 1000x400 with 0 Axes>"
      ]
     },
     "metadata": {},
     "output_type": "display_data"
    },
    {
     "data": {
      "text/plain": [
       "<Figure size 1000x400 with 0 Axes>"
      ]
     },
     "metadata": {},
     "output_type": "display_data"
    },
    {
     "data": {
      "text/plain": [
       "<Figure size 1000x400 with 0 Axes>"
      ]
     },
     "metadata": {},
     "output_type": "display_data"
    },
    {
     "data": {
      "text/plain": [
       "<Figure size 1000x400 with 0 Axes>"
      ]
     },
     "metadata": {},
     "output_type": "display_data"
    },
    {
     "data": {
      "text/plain": [
       "<Figure size 1000x400 with 0 Axes>"
      ]
     },
     "metadata": {},
     "output_type": "display_data"
    },
    {
     "data": {
      "text/plain": [
       "<Figure size 1000x400 with 0 Axes>"
      ]
     },
     "metadata": {},
     "output_type": "display_data"
    },
    {
     "data": {
      "text/plain": [
       "<Figure size 1000x400 with 0 Axes>"
      ]
     },
     "metadata": {},
     "output_type": "display_data"
    },
    {
     "data": {
      "text/plain": [
       "<Figure size 1000x400 with 0 Axes>"
      ]
     },
     "metadata": {},
     "output_type": "display_data"
    },
    {
     "data": {
      "text/plain": [
       "<Figure size 1000x400 with 0 Axes>"
      ]
     },
     "metadata": {},
     "output_type": "display_data"
    },
    {
     "data": {
      "text/plain": [
       "<Figure size 1000x400 with 0 Axes>"
      ]
     },
     "metadata": {},
     "output_type": "display_data"
    },
    {
     "data": {
      "text/plain": [
       "<Figure size 1000x400 with 0 Axes>"
      ]
     },
     "metadata": {},
     "output_type": "display_data"
    },
    {
     "data": {
      "text/plain": [
       "<Figure size 1000x400 with 0 Axes>"
      ]
     },
     "metadata": {},
     "output_type": "display_data"
    },
    {
     "data": {
      "text/plain": [
       "<Figure size 1000x400 with 0 Axes>"
      ]
     },
     "metadata": {},
     "output_type": "display_data"
    },
    {
     "data": {
      "text/plain": [
       "<Figure size 1000x400 with 0 Axes>"
      ]
     },
     "metadata": {},
     "output_type": "display_data"
    },
    {
     "data": {
      "text/plain": [
       "<Figure size 1000x400 with 0 Axes>"
      ]
     },
     "metadata": {},
     "output_type": "display_data"
    },
    {
     "data": {
      "text/plain": [
       "<Figure size 1000x400 with 0 Axes>"
      ]
     },
     "metadata": {},
     "output_type": "display_data"
    },
    {
     "data": {
      "text/plain": [
       "<Figure size 1000x400 with 0 Axes>"
      ]
     },
     "metadata": {},
     "output_type": "display_data"
    },
    {
     "data": {
      "text/plain": [
       "<Figure size 1000x400 with 0 Axes>"
      ]
     },
     "metadata": {},
     "output_type": "display_data"
    },
    {
     "data": {
      "text/plain": [
       "<Figure size 1000x400 with 0 Axes>"
      ]
     },
     "metadata": {},
     "output_type": "display_data"
    },
    {
     "data": {
      "text/plain": [
       "<Figure size 1000x400 with 0 Axes>"
      ]
     },
     "metadata": {},
     "output_type": "display_data"
    },
    {
     "data": {
      "text/plain": [
       "<Figure size 1000x400 with 0 Axes>"
      ]
     },
     "metadata": {},
     "output_type": "display_data"
    },
    {
     "data": {
      "text/plain": [
       "<Figure size 1000x400 with 0 Axes>"
      ]
     },
     "metadata": {},
     "output_type": "display_data"
    },
    {
     "data": {
      "text/plain": [
       "<Figure size 1000x400 with 0 Axes>"
      ]
     },
     "metadata": {},
     "output_type": "display_data"
    },
    {
     "data": {
      "text/plain": [
       "<Figure size 1000x400 with 0 Axes>"
      ]
     },
     "metadata": {},
     "output_type": "display_data"
    },
    {
     "data": {
      "text/plain": [
       "<Figure size 1000x400 with 0 Axes>"
      ]
     },
     "metadata": {},
     "output_type": "display_data"
    },
    {
     "data": {
      "text/plain": [
       "<Figure size 1000x400 with 0 Axes>"
      ]
     },
     "metadata": {},
     "output_type": "display_data"
    },
    {
     "data": {
      "text/plain": [
       "<Figure size 1000x400 with 0 Axes>"
      ]
     },
     "metadata": {},
     "output_type": "display_data"
    },
    {
     "data": {
      "text/plain": [
       "<Figure size 1000x400 with 0 Axes>"
      ]
     },
     "metadata": {},
     "output_type": "display_data"
    },
    {
     "data": {
      "text/plain": [
       "<Figure size 1000x400 with 0 Axes>"
      ]
     },
     "metadata": {},
     "output_type": "display_data"
    },
    {
     "data": {
      "text/plain": [
       "<Figure size 1000x400 with 0 Axes>"
      ]
     },
     "metadata": {},
     "output_type": "display_data"
    },
    {
     "data": {
      "text/plain": [
       "<Figure size 1000x400 with 0 Axes>"
      ]
     },
     "metadata": {},
     "output_type": "display_data"
    },
    {
     "data": {
      "text/plain": [
       "<Figure size 1000x400 with 0 Axes>"
      ]
     },
     "metadata": {},
     "output_type": "display_data"
    },
    {
     "data": {
      "text/plain": [
       "<Figure size 1000x400 with 0 Axes>"
      ]
     },
     "metadata": {},
     "output_type": "display_data"
    },
    {
     "data": {
      "text/plain": [
       "<Figure size 1000x400 with 0 Axes>"
      ]
     },
     "metadata": {},
     "output_type": "display_data"
    },
    {
     "data": {
      "text/plain": [
       "<Figure size 1000x400 with 0 Axes>"
      ]
     },
     "metadata": {},
     "output_type": "display_data"
    },
    {
     "data": {
      "text/plain": [
       "<Figure size 1000x400 with 0 Axes>"
      ]
     },
     "metadata": {},
     "output_type": "display_data"
    },
    {
     "data": {
      "text/plain": [
       "<Figure size 1000x400 with 0 Axes>"
      ]
     },
     "metadata": {},
     "output_type": "display_data"
    },
    {
     "data": {
      "text/plain": [
       "<Figure size 1000x400 with 0 Axes>"
      ]
     },
     "metadata": {},
     "output_type": "display_data"
    },
    {
     "data": {
      "text/plain": [
       "<Figure size 1000x400 with 0 Axes>"
      ]
     },
     "metadata": {},
     "output_type": "display_data"
    },
    {
     "data": {
      "text/plain": [
       "<Figure size 1000x400 with 0 Axes>"
      ]
     },
     "metadata": {},
     "output_type": "display_data"
    },
    {
     "data": {
      "text/plain": [
       "<Figure size 1000x400 with 0 Axes>"
      ]
     },
     "metadata": {},
     "output_type": "display_data"
    },
    {
     "data": {
      "text/plain": [
       "<Figure size 1000x400 with 0 Axes>"
      ]
     },
     "metadata": {},
     "output_type": "display_data"
    },
    {
     "data": {
      "text/plain": [
       "<Figure size 1000x400 with 0 Axes>"
      ]
     },
     "metadata": {},
     "output_type": "display_data"
    },
    {
     "data": {
      "text/plain": [
       "<Figure size 1000x400 with 0 Axes>"
      ]
     },
     "metadata": {},
     "output_type": "display_data"
    },
    {
     "data": {
      "text/plain": [
       "<Figure size 1000x400 with 0 Axes>"
      ]
     },
     "metadata": {},
     "output_type": "display_data"
    },
    {
     "data": {
      "text/plain": [
       "<Figure size 1000x400 with 0 Axes>"
      ]
     },
     "metadata": {},
     "output_type": "display_data"
    },
    {
     "data": {
      "text/plain": [
       "<Figure size 1000x400 with 0 Axes>"
      ]
     },
     "metadata": {},
     "output_type": "display_data"
    },
    {
     "data": {
      "text/plain": [
       "<Figure size 1000x400 with 0 Axes>"
      ]
     },
     "metadata": {},
     "output_type": "display_data"
    },
    {
     "data": {
      "text/plain": [
       "<Figure size 1000x400 with 0 Axes>"
      ]
     },
     "metadata": {},
     "output_type": "display_data"
    },
    {
     "data": {
      "text/plain": [
       "<Figure size 1000x400 with 0 Axes>"
      ]
     },
     "metadata": {},
     "output_type": "display_data"
    },
    {
     "data": {
      "text/plain": [
       "<Figure size 1000x400 with 0 Axes>"
      ]
     },
     "metadata": {},
     "output_type": "display_data"
    },
    {
     "data": {
      "text/plain": [
       "<Figure size 1000x400 with 0 Axes>"
      ]
     },
     "metadata": {},
     "output_type": "display_data"
    },
    {
     "data": {
      "text/plain": [
       "<Figure size 1000x400 with 0 Axes>"
      ]
     },
     "metadata": {},
     "output_type": "display_data"
    },
    {
     "data": {
      "text/plain": [
       "<Figure size 1000x400 with 0 Axes>"
      ]
     },
     "metadata": {},
     "output_type": "display_data"
    },
    {
     "data": {
      "text/plain": [
       "<Figure size 1000x400 with 0 Axes>"
      ]
     },
     "metadata": {},
     "output_type": "display_data"
    },
    {
     "data": {
      "text/plain": [
       "<Figure size 1000x400 with 0 Axes>"
      ]
     },
     "metadata": {},
     "output_type": "display_data"
    },
    {
     "data": {
      "text/plain": [
       "<Figure size 1000x400 with 0 Axes>"
      ]
     },
     "metadata": {},
     "output_type": "display_data"
    },
    {
     "data": {
      "text/plain": [
       "<Figure size 1000x400 with 0 Axes>"
      ]
     },
     "metadata": {},
     "output_type": "display_data"
    },
    {
     "data": {
      "text/plain": [
       "<Figure size 1000x400 with 0 Axes>"
      ]
     },
     "metadata": {},
     "output_type": "display_data"
    },
    {
     "data": {
      "text/plain": [
       "<Figure size 1000x400 with 0 Axes>"
      ]
     },
     "metadata": {},
     "output_type": "display_data"
    },
    {
     "data": {
      "text/plain": [
       "<Figure size 1000x400 with 0 Axes>"
      ]
     },
     "metadata": {},
     "output_type": "display_data"
    },
    {
     "data": {
      "text/plain": [
       "<Figure size 1000x400 with 0 Axes>"
      ]
     },
     "metadata": {},
     "output_type": "display_data"
    },
    {
     "data": {
      "text/plain": [
       "<Figure size 1000x400 with 0 Axes>"
      ]
     },
     "metadata": {},
     "output_type": "display_data"
    },
    {
     "data": {
      "text/plain": [
       "<Figure size 1000x400 with 0 Axes>"
      ]
     },
     "metadata": {},
     "output_type": "display_data"
    },
    {
     "data": {
      "text/plain": [
       "<Figure size 1000x400 with 0 Axes>"
      ]
     },
     "metadata": {},
     "output_type": "display_data"
    },
    {
     "data": {
      "text/plain": [
       "<Figure size 1000x400 with 0 Axes>"
      ]
     },
     "metadata": {},
     "output_type": "display_data"
    },
    {
     "data": {
      "text/plain": [
       "<Figure size 1000x400 with 0 Axes>"
      ]
     },
     "metadata": {},
     "output_type": "display_data"
    },
    {
     "data": {
      "text/plain": [
       "<Figure size 1000x400 with 0 Axes>"
      ]
     },
     "metadata": {},
     "output_type": "display_data"
    },
    {
     "data": {
      "text/plain": [
       "<Figure size 1000x400 with 0 Axes>"
      ]
     },
     "metadata": {},
     "output_type": "display_data"
    },
    {
     "data": {
      "text/plain": [
       "<Figure size 1000x400 with 0 Axes>"
      ]
     },
     "metadata": {},
     "output_type": "display_data"
    },
    {
     "data": {
      "text/plain": [
       "<Figure size 1000x400 with 0 Axes>"
      ]
     },
     "metadata": {},
     "output_type": "display_data"
    },
    {
     "data": {
      "text/plain": [
       "<Figure size 1000x400 with 0 Axes>"
      ]
     },
     "metadata": {},
     "output_type": "display_data"
    },
    {
     "data": {
      "text/plain": [
       "<Figure size 1000x400 with 0 Axes>"
      ]
     },
     "metadata": {},
     "output_type": "display_data"
    },
    {
     "data": {
      "text/plain": [
       "<Figure size 1000x400 with 0 Axes>"
      ]
     },
     "metadata": {},
     "output_type": "display_data"
    },
    {
     "data": {
      "text/plain": [
       "<Figure size 1000x400 with 0 Axes>"
      ]
     },
     "metadata": {},
     "output_type": "display_data"
    },
    {
     "data": {
      "text/plain": [
       "<Figure size 1000x400 with 0 Axes>"
      ]
     },
     "metadata": {},
     "output_type": "display_data"
    },
    {
     "data": {
      "text/plain": [
       "<Figure size 1000x400 with 0 Axes>"
      ]
     },
     "metadata": {},
     "output_type": "display_data"
    },
    {
     "data": {
      "text/plain": [
       "<Figure size 1000x400 with 0 Axes>"
      ]
     },
     "metadata": {},
     "output_type": "display_data"
    },
    {
     "data": {
      "text/plain": [
       "<Figure size 1000x400 with 0 Axes>"
      ]
     },
     "metadata": {},
     "output_type": "display_data"
    },
    {
     "data": {
      "text/plain": [
       "<Figure size 1000x400 with 0 Axes>"
      ]
     },
     "metadata": {},
     "output_type": "display_data"
    },
    {
     "data": {
      "text/plain": [
       "<Figure size 1000x400 with 0 Axes>"
      ]
     },
     "metadata": {},
     "output_type": "display_data"
    },
    {
     "data": {
      "text/plain": [
       "<Figure size 1000x400 with 0 Axes>"
      ]
     },
     "metadata": {},
     "output_type": "display_data"
    },
    {
     "data": {
      "text/plain": [
       "<Figure size 1000x400 with 0 Axes>"
      ]
     },
     "metadata": {},
     "output_type": "display_data"
    },
    {
     "data": {
      "text/plain": [
       "<Figure size 1000x400 with 0 Axes>"
      ]
     },
     "metadata": {},
     "output_type": "display_data"
    },
    {
     "data": {
      "text/plain": [
       "<Figure size 1000x400 with 0 Axes>"
      ]
     },
     "metadata": {},
     "output_type": "display_data"
    },
    {
     "data": {
      "text/plain": [
       "<Figure size 1000x400 with 0 Axes>"
      ]
     },
     "metadata": {},
     "output_type": "display_data"
    },
    {
     "data": {
      "text/plain": [
       "<Figure size 1000x400 with 0 Axes>"
      ]
     },
     "metadata": {},
     "output_type": "display_data"
    },
    {
     "data": {
      "text/plain": [
       "<Figure size 1000x400 with 0 Axes>"
      ]
     },
     "metadata": {},
     "output_type": "display_data"
    },
    {
     "data": {
      "text/plain": [
       "<Figure size 1000x400 with 0 Axes>"
      ]
     },
     "metadata": {},
     "output_type": "display_data"
    },
    {
     "data": {
      "text/plain": [
       "<Figure size 1000x400 with 0 Axes>"
      ]
     },
     "metadata": {},
     "output_type": "display_data"
    },
    {
     "data": {
      "text/plain": [
       "<Figure size 1000x400 with 0 Axes>"
      ]
     },
     "metadata": {},
     "output_type": "display_data"
    },
    {
     "data": {
      "text/plain": [
       "<Figure size 1000x400 with 0 Axes>"
      ]
     },
     "metadata": {},
     "output_type": "display_data"
    },
    {
     "data": {
      "text/plain": [
       "<Figure size 1000x400 with 0 Axes>"
      ]
     },
     "metadata": {},
     "output_type": "display_data"
    },
    {
     "data": {
      "text/plain": [
       "<Figure size 1000x400 with 0 Axes>"
      ]
     },
     "metadata": {},
     "output_type": "display_data"
    },
    {
     "data": {
      "text/plain": [
       "<Figure size 1000x400 with 0 Axes>"
      ]
     },
     "metadata": {},
     "output_type": "display_data"
    },
    {
     "data": {
      "text/plain": [
       "<Figure size 1000x400 with 0 Axes>"
      ]
     },
     "metadata": {},
     "output_type": "display_data"
    },
    {
     "data": {
      "text/plain": [
       "<Figure size 1000x400 with 0 Axes>"
      ]
     },
     "metadata": {},
     "output_type": "display_data"
    },
    {
     "data": {
      "text/plain": [
       "<Figure size 1000x400 with 0 Axes>"
      ]
     },
     "metadata": {},
     "output_type": "display_data"
    },
    {
     "data": {
      "text/plain": [
       "<Figure size 1000x400 with 0 Axes>"
      ]
     },
     "metadata": {},
     "output_type": "display_data"
    },
    {
     "data": {
      "text/plain": [
       "<Figure size 1000x400 with 0 Axes>"
      ]
     },
     "metadata": {},
     "output_type": "display_data"
    },
    {
     "data": {
      "text/plain": [
       "<Figure size 1000x400 with 0 Axes>"
      ]
     },
     "metadata": {},
     "output_type": "display_data"
    },
    {
     "data": {
      "text/plain": [
       "<Figure size 1000x400 with 0 Axes>"
      ]
     },
     "metadata": {},
     "output_type": "display_data"
    },
    {
     "data": {
      "text/plain": [
       "<Figure size 1000x400 with 0 Axes>"
      ]
     },
     "metadata": {},
     "output_type": "display_data"
    },
    {
     "data": {
      "text/plain": [
       "<Figure size 1000x400 with 0 Axes>"
      ]
     },
     "metadata": {},
     "output_type": "display_data"
    },
    {
     "data": {
      "text/plain": [
       "<Figure size 1000x400 with 0 Axes>"
      ]
     },
     "metadata": {},
     "output_type": "display_data"
    },
    {
     "data": {
      "text/plain": [
       "<Figure size 1000x400 with 0 Axes>"
      ]
     },
     "metadata": {},
     "output_type": "display_data"
    },
    {
     "data": {
      "text/plain": [
       "<Figure size 1000x400 with 0 Axes>"
      ]
     },
     "metadata": {},
     "output_type": "display_data"
    },
    {
     "data": {
      "text/plain": [
       "<Figure size 1000x400 with 0 Axes>"
      ]
     },
     "metadata": {},
     "output_type": "display_data"
    },
    {
     "data": {
      "text/plain": [
       "<Figure size 1000x400 with 0 Axes>"
      ]
     },
     "metadata": {},
     "output_type": "display_data"
    },
    {
     "data": {
      "text/plain": [
       "<Figure size 1000x400 with 0 Axes>"
      ]
     },
     "metadata": {},
     "output_type": "display_data"
    },
    {
     "data": {
      "text/plain": [
       "<Figure size 1000x400 with 0 Axes>"
      ]
     },
     "metadata": {},
     "output_type": "display_data"
    },
    {
     "data": {
      "text/plain": [
       "<Figure size 1000x400 with 0 Axes>"
      ]
     },
     "metadata": {},
     "output_type": "display_data"
    },
    {
     "data": {
      "text/plain": [
       "<Figure size 1000x400 with 0 Axes>"
      ]
     },
     "metadata": {},
     "output_type": "display_data"
    },
    {
     "data": {
      "text/plain": [
       "<Figure size 1000x400 with 0 Axes>"
      ]
     },
     "metadata": {},
     "output_type": "display_data"
    },
    {
     "data": {
      "text/plain": [
       "<Figure size 1000x400 with 0 Axes>"
      ]
     },
     "metadata": {},
     "output_type": "display_data"
    },
    {
     "data": {
      "text/plain": [
       "<Figure size 1000x400 with 0 Axes>"
      ]
     },
     "metadata": {},
     "output_type": "display_data"
    },
    {
     "data": {
      "text/plain": [
       "<Figure size 1000x400 with 0 Axes>"
      ]
     },
     "metadata": {},
     "output_type": "display_data"
    },
    {
     "data": {
      "text/plain": [
       "<Figure size 1000x400 with 0 Axes>"
      ]
     },
     "metadata": {},
     "output_type": "display_data"
    },
    {
     "data": {
      "text/plain": [
       "<Figure size 1000x400 with 0 Axes>"
      ]
     },
     "metadata": {},
     "output_type": "display_data"
    },
    {
     "data": {
      "text/plain": [
       "<Figure size 1000x400 with 0 Axes>"
      ]
     },
     "metadata": {},
     "output_type": "display_data"
    },
    {
     "data": {
      "text/plain": [
       "<Figure size 1000x400 with 0 Axes>"
      ]
     },
     "metadata": {},
     "output_type": "display_data"
    },
    {
     "data": {
      "text/plain": [
       "<Figure size 1000x400 with 0 Axes>"
      ]
     },
     "metadata": {},
     "output_type": "display_data"
    },
    {
     "data": {
      "text/plain": [
       "<Figure size 1000x400 with 0 Axes>"
      ]
     },
     "metadata": {},
     "output_type": "display_data"
    },
    {
     "data": {
      "text/plain": [
       "<Figure size 1000x400 with 0 Axes>"
      ]
     },
     "metadata": {},
     "output_type": "display_data"
    },
    {
     "data": {
      "text/plain": [
       "<Figure size 1000x400 with 0 Axes>"
      ]
     },
     "metadata": {},
     "output_type": "display_data"
    },
    {
     "data": {
      "text/plain": [
       "<Figure size 1000x400 with 0 Axes>"
      ]
     },
     "metadata": {},
     "output_type": "display_data"
    },
    {
     "data": {
      "text/plain": [
       "<Figure size 1000x400 with 0 Axes>"
      ]
     },
     "metadata": {},
     "output_type": "display_data"
    },
    {
     "data": {
      "text/plain": [
       "<Figure size 1000x400 with 0 Axes>"
      ]
     },
     "metadata": {},
     "output_type": "display_data"
    },
    {
     "data": {
      "text/plain": [
       "<Figure size 1000x400 with 0 Axes>"
      ]
     },
     "metadata": {},
     "output_type": "display_data"
    },
    {
     "data": {
      "text/plain": [
       "<Figure size 1000x400 with 0 Axes>"
      ]
     },
     "metadata": {},
     "output_type": "display_data"
    },
    {
     "data": {
      "text/plain": [
       "<Figure size 1000x400 with 0 Axes>"
      ]
     },
     "metadata": {},
     "output_type": "display_data"
    },
    {
     "data": {
      "text/plain": [
       "<Figure size 1000x400 with 0 Axes>"
      ]
     },
     "metadata": {},
     "output_type": "display_data"
    },
    {
     "data": {
      "text/plain": [
       "<Figure size 1000x400 with 0 Axes>"
      ]
     },
     "metadata": {},
     "output_type": "display_data"
    },
    {
     "data": {
      "text/plain": [
       "<Figure size 1000x400 with 0 Axes>"
      ]
     },
     "metadata": {},
     "output_type": "display_data"
    },
    {
     "data": {
      "text/plain": [
       "<Figure size 1000x400 with 0 Axes>"
      ]
     },
     "metadata": {},
     "output_type": "display_data"
    },
    {
     "data": {
      "text/plain": [
       "<Figure size 1000x400 with 0 Axes>"
      ]
     },
     "metadata": {},
     "output_type": "display_data"
    },
    {
     "data": {
      "text/plain": [
       "<Figure size 1000x400 with 0 Axes>"
      ]
     },
     "metadata": {},
     "output_type": "display_data"
    },
    {
     "data": {
      "text/plain": [
       "<Figure size 1000x400 with 0 Axes>"
      ]
     },
     "metadata": {},
     "output_type": "display_data"
    },
    {
     "data": {
      "text/plain": [
       "<Figure size 1000x400 with 0 Axes>"
      ]
     },
     "metadata": {},
     "output_type": "display_data"
    },
    {
     "data": {
      "text/plain": [
       "<Figure size 1000x400 with 0 Axes>"
      ]
     },
     "metadata": {},
     "output_type": "display_data"
    },
    {
     "data": {
      "text/plain": [
       "<Figure size 1000x400 with 0 Axes>"
      ]
     },
     "metadata": {},
     "output_type": "display_data"
    },
    {
     "data": {
      "text/plain": [
       "<Figure size 1000x400 with 0 Axes>"
      ]
     },
     "metadata": {},
     "output_type": "display_data"
    },
    {
     "data": {
      "text/plain": [
       "<Figure size 1000x400 with 0 Axes>"
      ]
     },
     "metadata": {},
     "output_type": "display_data"
    },
    {
     "data": {
      "text/plain": [
       "<Figure size 1000x400 with 0 Axes>"
      ]
     },
     "metadata": {},
     "output_type": "display_data"
    },
    {
     "data": {
      "text/plain": [
       "<Figure size 1000x400 with 0 Axes>"
      ]
     },
     "metadata": {},
     "output_type": "display_data"
    },
    {
     "data": {
      "text/plain": [
       "<Figure size 1000x400 with 0 Axes>"
      ]
     },
     "metadata": {},
     "output_type": "display_data"
    },
    {
     "data": {
      "text/plain": [
       "<Figure size 1000x400 with 0 Axes>"
      ]
     },
     "metadata": {},
     "output_type": "display_data"
    },
    {
     "data": {
      "text/plain": [
       "<Figure size 1000x400 with 0 Axes>"
      ]
     },
     "metadata": {},
     "output_type": "display_data"
    },
    {
     "data": {
      "text/plain": [
       "<Figure size 1000x400 with 0 Axes>"
      ]
     },
     "metadata": {},
     "output_type": "display_data"
    },
    {
     "data": {
      "text/plain": [
       "<Figure size 1000x400 with 0 Axes>"
      ]
     },
     "metadata": {},
     "output_type": "display_data"
    },
    {
     "data": {
      "text/plain": [
       "<Figure size 1000x400 with 0 Axes>"
      ]
     },
     "metadata": {},
     "output_type": "display_data"
    },
    {
     "data": {
      "text/plain": [
       "<Figure size 1000x400 with 0 Axes>"
      ]
     },
     "metadata": {},
     "output_type": "display_data"
    },
    {
     "data": {
      "text/plain": [
       "<Figure size 1000x400 with 0 Axes>"
      ]
     },
     "metadata": {},
     "output_type": "display_data"
    },
    {
     "data": {
      "text/plain": [
       "<Figure size 1000x400 with 0 Axes>"
      ]
     },
     "metadata": {},
     "output_type": "display_data"
    },
    {
     "data": {
      "text/plain": [
       "<Figure size 1000x400 with 0 Axes>"
      ]
     },
     "metadata": {},
     "output_type": "display_data"
    },
    {
     "data": {
      "text/plain": [
       "<Figure size 1000x400 with 0 Axes>"
      ]
     },
     "metadata": {},
     "output_type": "display_data"
    },
    {
     "data": {
      "text/plain": [
       "<Figure size 1000x400 with 0 Axes>"
      ]
     },
     "metadata": {},
     "output_type": "display_data"
    },
    {
     "data": {
      "text/plain": [
       "<Figure size 1000x400 with 0 Axes>"
      ]
     },
     "metadata": {},
     "output_type": "display_data"
    },
    {
     "data": {
      "text/plain": [
       "<Figure size 1000x400 with 0 Axes>"
      ]
     },
     "metadata": {},
     "output_type": "display_data"
    },
    {
     "data": {
      "text/plain": [
       "<Figure size 1000x400 with 0 Axes>"
      ]
     },
     "metadata": {},
     "output_type": "display_data"
    },
    {
     "data": {
      "text/plain": [
       "<Figure size 1000x400 with 0 Axes>"
      ]
     },
     "metadata": {},
     "output_type": "display_data"
    },
    {
     "data": {
      "text/plain": [
       "<Figure size 1000x400 with 0 Axes>"
      ]
     },
     "metadata": {},
     "output_type": "display_data"
    },
    {
     "data": {
      "text/plain": [
       "<Figure size 1000x400 with 0 Axes>"
      ]
     },
     "metadata": {},
     "output_type": "display_data"
    },
    {
     "data": {
      "text/plain": [
       "<Figure size 1000x400 with 0 Axes>"
      ]
     },
     "metadata": {},
     "output_type": "display_data"
    },
    {
     "data": {
      "text/plain": [
       "<Figure size 1000x400 with 0 Axes>"
      ]
     },
     "metadata": {},
     "output_type": "display_data"
    },
    {
     "data": {
      "text/plain": [
       "<Figure size 1000x400 with 0 Axes>"
      ]
     },
     "metadata": {},
     "output_type": "display_data"
    },
    {
     "data": {
      "text/plain": [
       "<Figure size 1000x400 with 0 Axes>"
      ]
     },
     "metadata": {},
     "output_type": "display_data"
    },
    {
     "data": {
      "text/plain": [
       "<Figure size 1000x400 with 0 Axes>"
      ]
     },
     "metadata": {},
     "output_type": "display_data"
    },
    {
     "data": {
      "text/plain": [
       "<Figure size 1000x400 with 0 Axes>"
      ]
     },
     "metadata": {},
     "output_type": "display_data"
    },
    {
     "data": {
      "text/plain": [
       "<Figure size 1000x400 with 0 Axes>"
      ]
     },
     "metadata": {},
     "output_type": "display_data"
    },
    {
     "data": {
      "text/plain": [
       "<Figure size 1000x400 with 0 Axes>"
      ]
     },
     "metadata": {},
     "output_type": "display_data"
    },
    {
     "data": {
      "text/plain": [
       "<Figure size 1000x400 with 0 Axes>"
      ]
     },
     "metadata": {},
     "output_type": "display_data"
    },
    {
     "data": {
      "text/plain": [
       "<Figure size 1000x400 with 0 Axes>"
      ]
     },
     "metadata": {},
     "output_type": "display_data"
    },
    {
     "data": {
      "text/plain": [
       "<Figure size 1000x400 with 0 Axes>"
      ]
     },
     "metadata": {},
     "output_type": "display_data"
    },
    {
     "data": {
      "text/plain": [
       "<Figure size 1000x400 with 0 Axes>"
      ]
     },
     "metadata": {},
     "output_type": "display_data"
    },
    {
     "data": {
      "text/plain": [
       "<Figure size 1000x400 with 0 Axes>"
      ]
     },
     "metadata": {},
     "output_type": "display_data"
    },
    {
     "data": {
      "text/plain": [
       "<Figure size 1000x400 with 0 Axes>"
      ]
     },
     "metadata": {},
     "output_type": "display_data"
    },
    {
     "data": {
      "text/plain": [
       "<Figure size 1000x400 with 0 Axes>"
      ]
     },
     "metadata": {},
     "output_type": "display_data"
    },
    {
     "data": {
      "text/plain": [
       "<Figure size 1000x400 with 0 Axes>"
      ]
     },
     "metadata": {},
     "output_type": "display_data"
    },
    {
     "data": {
      "text/plain": [
       "<Figure size 1000x400 with 0 Axes>"
      ]
     },
     "metadata": {},
     "output_type": "display_data"
    },
    {
     "data": {
      "text/plain": [
       "<Figure size 1000x400 with 0 Axes>"
      ]
     },
     "metadata": {},
     "output_type": "display_data"
    },
    {
     "data": {
      "text/plain": [
       "<Figure size 1000x400 with 0 Axes>"
      ]
     },
     "metadata": {},
     "output_type": "display_data"
    },
    {
     "data": {
      "text/plain": [
       "<Figure size 1000x400 with 0 Axes>"
      ]
     },
     "metadata": {},
     "output_type": "display_data"
    },
    {
     "data": {
      "text/plain": [
       "<Figure size 1000x400 with 0 Axes>"
      ]
     },
     "metadata": {},
     "output_type": "display_data"
    },
    {
     "data": {
      "text/plain": [
       "<Figure size 1000x400 with 0 Axes>"
      ]
     },
     "metadata": {},
     "output_type": "display_data"
    },
    {
     "data": {
      "text/plain": [
       "<Figure size 1000x400 with 0 Axes>"
      ]
     },
     "metadata": {},
     "output_type": "display_data"
    },
    {
     "data": {
      "text/plain": [
       "<Figure size 1000x400 with 0 Axes>"
      ]
     },
     "metadata": {},
     "output_type": "display_data"
    },
    {
     "data": {
      "text/plain": [
       "<Figure size 1000x400 with 0 Axes>"
      ]
     },
     "metadata": {},
     "output_type": "display_data"
    },
    {
     "data": {
      "text/plain": [
       "<Figure size 1000x400 with 0 Axes>"
      ]
     },
     "metadata": {},
     "output_type": "display_data"
    },
    {
     "data": {
      "text/plain": [
       "<Figure size 1000x400 with 0 Axes>"
      ]
     },
     "metadata": {},
     "output_type": "display_data"
    },
    {
     "data": {
      "text/plain": [
       "<Figure size 1000x400 with 0 Axes>"
      ]
     },
     "metadata": {},
     "output_type": "display_data"
    },
    {
     "data": {
      "text/plain": [
       "<Figure size 1000x400 with 0 Axes>"
      ]
     },
     "metadata": {},
     "output_type": "display_data"
    },
    {
     "data": {
      "text/plain": [
       "<Figure size 1000x400 with 0 Axes>"
      ]
     },
     "metadata": {},
     "output_type": "display_data"
    },
    {
     "data": {
      "text/plain": [
       "<Figure size 1000x400 with 0 Axes>"
      ]
     },
     "metadata": {},
     "output_type": "display_data"
    },
    {
     "data": {
      "text/plain": [
       "<Figure size 1000x400 with 0 Axes>"
      ]
     },
     "metadata": {},
     "output_type": "display_data"
    },
    {
     "data": {
      "text/plain": [
       "<Figure size 1000x400 with 0 Axes>"
      ]
     },
     "metadata": {},
     "output_type": "display_data"
    },
    {
     "data": {
      "text/plain": [
       "<Figure size 1000x400 with 0 Axes>"
      ]
     },
     "metadata": {},
     "output_type": "display_data"
    },
    {
     "data": {
      "text/plain": [
       "<Figure size 1000x400 with 0 Axes>"
      ]
     },
     "metadata": {},
     "output_type": "display_data"
    },
    {
     "data": {
      "text/plain": [
       "<Figure size 1000x400 with 0 Axes>"
      ]
     },
     "metadata": {},
     "output_type": "display_data"
    },
    {
     "data": {
      "text/plain": [
       "<Figure size 1000x400 with 0 Axes>"
      ]
     },
     "metadata": {},
     "output_type": "display_data"
    },
    {
     "data": {
      "text/plain": [
       "<Figure size 1000x400 with 0 Axes>"
      ]
     },
     "metadata": {},
     "output_type": "display_data"
    },
    {
     "data": {
      "text/plain": [
       "<Figure size 1000x400 with 0 Axes>"
      ]
     },
     "metadata": {},
     "output_type": "display_data"
    },
    {
     "data": {
      "text/plain": [
       "<Figure size 1000x400 with 0 Axes>"
      ]
     },
     "metadata": {},
     "output_type": "display_data"
    },
    {
     "data": {
      "text/plain": [
       "<Figure size 1000x400 with 0 Axes>"
      ]
     },
     "metadata": {},
     "output_type": "display_data"
    },
    {
     "data": {
      "text/plain": [
       "<Figure size 1000x400 with 0 Axes>"
      ]
     },
     "metadata": {},
     "output_type": "display_data"
    },
    {
     "data": {
      "text/plain": [
       "<Figure size 1000x400 with 0 Axes>"
      ]
     },
     "metadata": {},
     "output_type": "display_data"
    },
    {
     "data": {
      "text/plain": [
       "<Figure size 1000x400 with 0 Axes>"
      ]
     },
     "metadata": {},
     "output_type": "display_data"
    },
    {
     "data": {
      "text/plain": [
       "<Figure size 1000x400 with 0 Axes>"
      ]
     },
     "metadata": {},
     "output_type": "display_data"
    },
    {
     "data": {
      "text/plain": [
       "<Figure size 1000x400 with 0 Axes>"
      ]
     },
     "metadata": {},
     "output_type": "display_data"
    },
    {
     "data": {
      "text/plain": [
       "<Figure size 1000x400 with 0 Axes>"
      ]
     },
     "metadata": {},
     "output_type": "display_data"
    },
    {
     "data": {
      "text/plain": [
       "<Figure size 1000x400 with 0 Axes>"
      ]
     },
     "metadata": {},
     "output_type": "display_data"
    },
    {
     "data": {
      "text/plain": [
       "<Figure size 1000x400 with 0 Axes>"
      ]
     },
     "metadata": {},
     "output_type": "display_data"
    },
    {
     "data": {
      "text/plain": [
       "<Figure size 1000x400 with 0 Axes>"
      ]
     },
     "metadata": {},
     "output_type": "display_data"
    },
    {
     "data": {
      "text/plain": [
       "<Figure size 1000x400 with 0 Axes>"
      ]
     },
     "metadata": {},
     "output_type": "display_data"
    },
    {
     "data": {
      "text/plain": [
       "<Figure size 1000x400 with 0 Axes>"
      ]
     },
     "metadata": {},
     "output_type": "display_data"
    },
    {
     "data": {
      "text/plain": [
       "<Figure size 1000x400 with 0 Axes>"
      ]
     },
     "metadata": {},
     "output_type": "display_data"
    },
    {
     "data": {
      "text/plain": [
       "<Figure size 1000x400 with 0 Axes>"
      ]
     },
     "metadata": {},
     "output_type": "display_data"
    },
    {
     "data": {
      "text/plain": [
       "<Figure size 1000x400 with 0 Axes>"
      ]
     },
     "metadata": {},
     "output_type": "display_data"
    },
    {
     "data": {
      "text/plain": [
       "<Figure size 1000x400 with 0 Axes>"
      ]
     },
     "metadata": {},
     "output_type": "display_data"
    },
    {
     "data": {
      "text/plain": [
       "<Figure size 1000x400 with 0 Axes>"
      ]
     },
     "metadata": {},
     "output_type": "display_data"
    },
    {
     "data": {
      "text/plain": [
       "<Figure size 1000x400 with 0 Axes>"
      ]
     },
     "metadata": {},
     "output_type": "display_data"
    },
    {
     "data": {
      "text/plain": [
       "<Figure size 1000x400 with 0 Axes>"
      ]
     },
     "metadata": {},
     "output_type": "display_data"
    },
    {
     "data": {
      "text/plain": [
       "<Figure size 1000x400 with 0 Axes>"
      ]
     },
     "metadata": {},
     "output_type": "display_data"
    },
    {
     "data": {
      "text/plain": [
       "<Figure size 1000x400 with 0 Axes>"
      ]
     },
     "metadata": {},
     "output_type": "display_data"
    },
    {
     "data": {
      "text/plain": [
       "<Figure size 1000x400 with 0 Axes>"
      ]
     },
     "metadata": {},
     "output_type": "display_data"
    },
    {
     "data": {
      "text/plain": [
       "<Figure size 1000x400 with 0 Axes>"
      ]
     },
     "metadata": {},
     "output_type": "display_data"
    },
    {
     "data": {
      "text/plain": [
       "<Figure size 1000x400 with 0 Axes>"
      ]
     },
     "metadata": {},
     "output_type": "display_data"
    },
    {
     "data": {
      "text/plain": [
       "<Figure size 1000x400 with 0 Axes>"
      ]
     },
     "metadata": {},
     "output_type": "display_data"
    },
    {
     "data": {
      "text/plain": [
       "<Figure size 1000x400 with 0 Axes>"
      ]
     },
     "metadata": {},
     "output_type": "display_data"
    },
    {
     "data": {
      "text/plain": [
       "<Figure size 1000x400 with 0 Axes>"
      ]
     },
     "metadata": {},
     "output_type": "display_data"
    },
    {
     "data": {
      "text/plain": [
       "<Figure size 1000x400 with 0 Axes>"
      ]
     },
     "metadata": {},
     "output_type": "display_data"
    },
    {
     "data": {
      "text/plain": [
       "<Figure size 1000x400 with 0 Axes>"
      ]
     },
     "metadata": {},
     "output_type": "display_data"
    },
    {
     "data": {
      "text/plain": [
       "<Figure size 1000x400 with 0 Axes>"
      ]
     },
     "metadata": {},
     "output_type": "display_data"
    },
    {
     "data": {
      "text/plain": [
       "<Figure size 1000x400 with 0 Axes>"
      ]
     },
     "metadata": {},
     "output_type": "display_data"
    },
    {
     "data": {
      "text/plain": [
       "<Figure size 1000x400 with 0 Axes>"
      ]
     },
     "metadata": {},
     "output_type": "display_data"
    },
    {
     "data": {
      "text/plain": [
       "<Figure size 1000x400 with 0 Axes>"
      ]
     },
     "metadata": {},
     "output_type": "display_data"
    },
    {
     "data": {
      "text/plain": [
       "<Figure size 1000x400 with 0 Axes>"
      ]
     },
     "metadata": {},
     "output_type": "display_data"
    },
    {
     "data": {
      "text/plain": [
       "<Figure size 1000x400 with 0 Axes>"
      ]
     },
     "metadata": {},
     "output_type": "display_data"
    },
    {
     "data": {
      "text/plain": [
       "<Figure size 1000x400 with 0 Axes>"
      ]
     },
     "metadata": {},
     "output_type": "display_data"
    },
    {
     "data": {
      "text/plain": [
       "<Figure size 1000x400 with 0 Axes>"
      ]
     },
     "metadata": {},
     "output_type": "display_data"
    },
    {
     "data": {
      "text/plain": [
       "<Figure size 1000x400 with 0 Axes>"
      ]
     },
     "metadata": {},
     "output_type": "display_data"
    },
    {
     "data": {
      "text/plain": [
       "<Figure size 1000x400 with 0 Axes>"
      ]
     },
     "metadata": {},
     "output_type": "display_data"
    },
    {
     "data": {
      "text/plain": [
       "<Figure size 1000x400 with 0 Axes>"
      ]
     },
     "metadata": {},
     "output_type": "display_data"
    },
    {
     "data": {
      "text/plain": [
       "<Figure size 1000x400 with 0 Axes>"
      ]
     },
     "metadata": {},
     "output_type": "display_data"
    },
    {
     "data": {
      "text/plain": [
       "<Figure size 1000x400 with 0 Axes>"
      ]
     },
     "metadata": {},
     "output_type": "display_data"
    },
    {
     "data": {
      "text/plain": [
       "<Figure size 1000x400 with 0 Axes>"
      ]
     },
     "metadata": {},
     "output_type": "display_data"
    },
    {
     "data": {
      "text/plain": [
       "<Figure size 1000x400 with 0 Axes>"
      ]
     },
     "metadata": {},
     "output_type": "display_data"
    },
    {
     "data": {
      "text/plain": [
       "<Figure size 1000x400 with 0 Axes>"
      ]
     },
     "metadata": {},
     "output_type": "display_data"
    },
    {
     "data": {
      "text/plain": [
       "<Figure size 1000x400 with 0 Axes>"
      ]
     },
     "metadata": {},
     "output_type": "display_data"
    },
    {
     "data": {
      "text/plain": [
       "<Figure size 1000x400 with 0 Axes>"
      ]
     },
     "metadata": {},
     "output_type": "display_data"
    },
    {
     "data": {
      "text/plain": [
       "<Figure size 1000x400 with 0 Axes>"
      ]
     },
     "metadata": {},
     "output_type": "display_data"
    },
    {
     "data": {
      "text/plain": [
       "<Figure size 1000x400 with 0 Axes>"
      ]
     },
     "metadata": {},
     "output_type": "display_data"
    },
    {
     "data": {
      "text/plain": [
       "<Figure size 1000x400 with 0 Axes>"
      ]
     },
     "metadata": {},
     "output_type": "display_data"
    },
    {
     "data": {
      "text/plain": [
       "<Figure size 1000x400 with 0 Axes>"
      ]
     },
     "metadata": {},
     "output_type": "display_data"
    },
    {
     "data": {
      "text/plain": [
       "<Figure size 1000x400 with 0 Axes>"
      ]
     },
     "metadata": {},
     "output_type": "display_data"
    },
    {
     "data": {
      "text/plain": [
       "<Figure size 1000x400 with 0 Axes>"
      ]
     },
     "metadata": {},
     "output_type": "display_data"
    },
    {
     "data": {
      "text/plain": [
       "<Figure size 1000x400 with 0 Axes>"
      ]
     },
     "metadata": {},
     "output_type": "display_data"
    },
    {
     "data": {
      "text/plain": [
       "<Figure size 1000x400 with 0 Axes>"
      ]
     },
     "metadata": {},
     "output_type": "display_data"
    },
    {
     "data": {
      "text/plain": [
       "<Figure size 1000x400 with 0 Axes>"
      ]
     },
     "metadata": {},
     "output_type": "display_data"
    },
    {
     "data": {
      "text/plain": [
       "<Figure size 1000x400 with 0 Axes>"
      ]
     },
     "metadata": {},
     "output_type": "display_data"
    },
    {
     "data": {
      "text/plain": [
       "<Figure size 1000x400 with 0 Axes>"
      ]
     },
     "metadata": {},
     "output_type": "display_data"
    },
    {
     "data": {
      "text/plain": [
       "<Figure size 1000x400 with 0 Axes>"
      ]
     },
     "metadata": {},
     "output_type": "display_data"
    },
    {
     "data": {
      "text/plain": [
       "<Figure size 1000x400 with 0 Axes>"
      ]
     },
     "metadata": {},
     "output_type": "display_data"
    },
    {
     "data": {
      "text/plain": [
       "<Figure size 1000x400 with 0 Axes>"
      ]
     },
     "metadata": {},
     "output_type": "display_data"
    },
    {
     "data": {
      "text/plain": [
       "<Figure size 1000x400 with 0 Axes>"
      ]
     },
     "metadata": {},
     "output_type": "display_data"
    },
    {
     "data": {
      "text/plain": [
       "<Figure size 1000x400 with 0 Axes>"
      ]
     },
     "metadata": {},
     "output_type": "display_data"
    },
    {
     "data": {
      "text/plain": [
       "<Figure size 1000x400 with 0 Axes>"
      ]
     },
     "metadata": {},
     "output_type": "display_data"
    },
    {
     "data": {
      "text/plain": [
       "<Figure size 1000x400 with 0 Axes>"
      ]
     },
     "metadata": {},
     "output_type": "display_data"
    },
    {
     "data": {
      "text/plain": [
       "<Figure size 1000x400 with 0 Axes>"
      ]
     },
     "metadata": {},
     "output_type": "display_data"
    },
    {
     "data": {
      "text/plain": [
       "<Figure size 1000x400 with 0 Axes>"
      ]
     },
     "metadata": {},
     "output_type": "display_data"
    },
    {
     "data": {
      "text/plain": [
       "<Figure size 1000x400 with 0 Axes>"
      ]
     },
     "metadata": {},
     "output_type": "display_data"
    },
    {
     "data": {
      "text/plain": [
       "<Figure size 1000x400 with 0 Axes>"
      ]
     },
     "metadata": {},
     "output_type": "display_data"
    },
    {
     "data": {
      "text/plain": [
       "<Figure size 1000x400 with 0 Axes>"
      ]
     },
     "metadata": {},
     "output_type": "display_data"
    },
    {
     "data": {
      "text/plain": [
       "<Figure size 1000x400 with 0 Axes>"
      ]
     },
     "metadata": {},
     "output_type": "display_data"
    },
    {
     "data": {
      "text/plain": [
       "<Figure size 1000x400 with 0 Axes>"
      ]
     },
     "metadata": {},
     "output_type": "display_data"
    },
    {
     "data": {
      "text/plain": [
       "<Figure size 1000x400 with 0 Axes>"
      ]
     },
     "metadata": {},
     "output_type": "display_data"
    },
    {
     "data": {
      "text/plain": [
       "<Figure size 1000x400 with 0 Axes>"
      ]
     },
     "metadata": {},
     "output_type": "display_data"
    },
    {
     "data": {
      "text/plain": [
       "<Figure size 1000x400 with 0 Axes>"
      ]
     },
     "metadata": {},
     "output_type": "display_data"
    },
    {
     "data": {
      "text/plain": [
       "<Figure size 1000x400 with 0 Axes>"
      ]
     },
     "metadata": {},
     "output_type": "display_data"
    },
    {
     "data": {
      "text/plain": [
       "<Figure size 1000x400 with 0 Axes>"
      ]
     },
     "metadata": {},
     "output_type": "display_data"
    },
    {
     "data": {
      "text/plain": [
       "<Figure size 1000x400 with 0 Axes>"
      ]
     },
     "metadata": {},
     "output_type": "display_data"
    },
    {
     "data": {
      "text/plain": [
       "<Figure size 1000x400 with 0 Axes>"
      ]
     },
     "metadata": {},
     "output_type": "display_data"
    },
    {
     "data": {
      "text/plain": [
       "<Figure size 1000x400 with 0 Axes>"
      ]
     },
     "metadata": {},
     "output_type": "display_data"
    },
    {
     "data": {
      "text/plain": [
       "<Figure size 1000x400 with 0 Axes>"
      ]
     },
     "metadata": {},
     "output_type": "display_data"
    },
    {
     "data": {
      "text/plain": [
       "<Figure size 1000x400 with 0 Axes>"
      ]
     },
     "metadata": {},
     "output_type": "display_data"
    },
    {
     "data": {
      "text/plain": [
       "<Figure size 1000x400 with 0 Axes>"
      ]
     },
     "metadata": {},
     "output_type": "display_data"
    },
    {
     "data": {
      "text/plain": [
       "<Figure size 1000x400 with 0 Axes>"
      ]
     },
     "metadata": {},
     "output_type": "display_data"
    },
    {
     "data": {
      "text/plain": [
       "<Figure size 1000x400 with 0 Axes>"
      ]
     },
     "metadata": {},
     "output_type": "display_data"
    },
    {
     "data": {
      "text/plain": [
       "<Figure size 1000x400 with 0 Axes>"
      ]
     },
     "metadata": {},
     "output_type": "display_data"
    },
    {
     "data": {
      "text/plain": [
       "<Figure size 1000x400 with 0 Axes>"
      ]
     },
     "metadata": {},
     "output_type": "display_data"
    },
    {
     "data": {
      "text/plain": [
       "<Figure size 1000x400 with 0 Axes>"
      ]
     },
     "metadata": {},
     "output_type": "display_data"
    },
    {
     "data": {
      "text/plain": [
       "<Figure size 1000x400 with 0 Axes>"
      ]
     },
     "metadata": {},
     "output_type": "display_data"
    },
    {
     "data": {
      "text/plain": [
       "<Figure size 1000x400 with 0 Axes>"
      ]
     },
     "metadata": {},
     "output_type": "display_data"
    },
    {
     "data": {
      "text/plain": [
       "<Figure size 1000x400 with 0 Axes>"
      ]
     },
     "metadata": {},
     "output_type": "display_data"
    },
    {
     "data": {
      "text/plain": [
       "<Figure size 1000x400 with 0 Axes>"
      ]
     },
     "metadata": {},
     "output_type": "display_data"
    },
    {
     "data": {
      "text/plain": [
       "<Figure size 1000x400 with 0 Axes>"
      ]
     },
     "metadata": {},
     "output_type": "display_data"
    },
    {
     "data": {
      "text/plain": [
       "<Figure size 1000x400 with 0 Axes>"
      ]
     },
     "metadata": {},
     "output_type": "display_data"
    },
    {
     "data": {
      "text/plain": [
       "<Figure size 1000x400 with 0 Axes>"
      ]
     },
     "metadata": {},
     "output_type": "display_data"
    },
    {
     "data": {
      "text/plain": [
       "<Figure size 1000x400 with 0 Axes>"
      ]
     },
     "metadata": {},
     "output_type": "display_data"
    },
    {
     "data": {
      "text/plain": [
       "<Figure size 1000x400 with 0 Axes>"
      ]
     },
     "metadata": {},
     "output_type": "display_data"
    },
    {
     "data": {
      "text/plain": [
       "<Figure size 1000x400 with 0 Axes>"
      ]
     },
     "metadata": {},
     "output_type": "display_data"
    },
    {
     "data": {
      "text/plain": [
       "<Figure size 1000x400 with 0 Axes>"
      ]
     },
     "metadata": {},
     "output_type": "display_data"
    },
    {
     "data": {
      "text/plain": [
       "<Figure size 1000x400 with 0 Axes>"
      ]
     },
     "metadata": {},
     "output_type": "display_data"
    },
    {
     "data": {
      "text/plain": [
       "<Figure size 1000x400 with 0 Axes>"
      ]
     },
     "metadata": {},
     "output_type": "display_data"
    },
    {
     "data": {
      "text/plain": [
       "<Figure size 1000x400 with 0 Axes>"
      ]
     },
     "metadata": {},
     "output_type": "display_data"
    },
    {
     "data": {
      "text/plain": [
       "<Figure size 1000x400 with 0 Axes>"
      ]
     },
     "metadata": {},
     "output_type": "display_data"
    },
    {
     "data": {
      "text/plain": [
       "<Figure size 1000x400 with 0 Axes>"
      ]
     },
     "metadata": {},
     "output_type": "display_data"
    },
    {
     "data": {
      "text/plain": [
       "<Figure size 1000x400 with 0 Axes>"
      ]
     },
     "metadata": {},
     "output_type": "display_data"
    },
    {
     "data": {
      "text/plain": [
       "<Figure size 1000x400 with 0 Axes>"
      ]
     },
     "metadata": {},
     "output_type": "display_data"
    },
    {
     "data": {
      "text/plain": [
       "<Figure size 1000x400 with 0 Axes>"
      ]
     },
     "metadata": {},
     "output_type": "display_data"
    },
    {
     "data": {
      "text/plain": [
       "<Figure size 1000x400 with 0 Axes>"
      ]
     },
     "metadata": {},
     "output_type": "display_data"
    },
    {
     "data": {
      "text/plain": [
       "<Figure size 1000x400 with 0 Axes>"
      ]
     },
     "metadata": {},
     "output_type": "display_data"
    },
    {
     "data": {
      "text/plain": [
       "<Figure size 1000x400 with 0 Axes>"
      ]
     },
     "metadata": {},
     "output_type": "display_data"
    },
    {
     "data": {
      "text/plain": [
       "<Figure size 1000x400 with 0 Axes>"
      ]
     },
     "metadata": {},
     "output_type": "display_data"
    },
    {
     "data": {
      "text/plain": [
       "<Figure size 1000x400 with 0 Axes>"
      ]
     },
     "metadata": {},
     "output_type": "display_data"
    },
    {
     "data": {
      "text/plain": [
       "<Figure size 1000x400 with 0 Axes>"
      ]
     },
     "metadata": {},
     "output_type": "display_data"
    },
    {
     "data": {
      "text/plain": [
       "<Figure size 1000x400 with 0 Axes>"
      ]
     },
     "metadata": {},
     "output_type": "display_data"
    },
    {
     "data": {
      "text/plain": [
       "<Figure size 1000x400 with 0 Axes>"
      ]
     },
     "metadata": {},
     "output_type": "display_data"
    },
    {
     "data": {
      "text/plain": [
       "<Figure size 1000x400 with 0 Axes>"
      ]
     },
     "metadata": {},
     "output_type": "display_data"
    },
    {
     "data": {
      "text/plain": [
       "<Figure size 1000x400 with 0 Axes>"
      ]
     },
     "metadata": {},
     "output_type": "display_data"
    },
    {
     "data": {
      "text/plain": [
       "<Figure size 1000x400 with 0 Axes>"
      ]
     },
     "metadata": {},
     "output_type": "display_data"
    },
    {
     "data": {
      "text/plain": [
       "<Figure size 1000x400 with 0 Axes>"
      ]
     },
     "metadata": {},
     "output_type": "display_data"
    },
    {
     "data": {
      "text/plain": [
       "<Figure size 1000x400 with 0 Axes>"
      ]
     },
     "metadata": {},
     "output_type": "display_data"
    },
    {
     "data": {
      "text/plain": [
       "<Figure size 1000x400 with 0 Axes>"
      ]
     },
     "metadata": {},
     "output_type": "display_data"
    },
    {
     "data": {
      "text/plain": [
       "<Figure size 1000x400 with 0 Axes>"
      ]
     },
     "metadata": {},
     "output_type": "display_data"
    },
    {
     "data": {
      "text/plain": [
       "<Figure size 1000x400 with 0 Axes>"
      ]
     },
     "metadata": {},
     "output_type": "display_data"
    },
    {
     "data": {
      "text/plain": [
       "<Figure size 1000x400 with 0 Axes>"
      ]
     },
     "metadata": {},
     "output_type": "display_data"
    },
    {
     "data": {
      "text/plain": [
       "<Figure size 1000x400 with 0 Axes>"
      ]
     },
     "metadata": {},
     "output_type": "display_data"
    },
    {
     "data": {
      "text/plain": [
       "<Figure size 1000x400 with 0 Axes>"
      ]
     },
     "metadata": {},
     "output_type": "display_data"
    },
    {
     "data": {
      "text/plain": [
       "<Figure size 1000x400 with 0 Axes>"
      ]
     },
     "metadata": {},
     "output_type": "display_data"
    },
    {
     "data": {
      "text/plain": [
       "<Figure size 1000x400 with 0 Axes>"
      ]
     },
     "metadata": {},
     "output_type": "display_data"
    },
    {
     "data": {
      "text/plain": [
       "<Figure size 1000x400 with 0 Axes>"
      ]
     },
     "metadata": {},
     "output_type": "display_data"
    },
    {
     "data": {
      "text/plain": [
       "<Figure size 1000x400 with 0 Axes>"
      ]
     },
     "metadata": {},
     "output_type": "display_data"
    },
    {
     "data": {
      "text/plain": [
       "<Figure size 1000x400 with 0 Axes>"
      ]
     },
     "metadata": {},
     "output_type": "display_data"
    },
    {
     "data": {
      "text/plain": [
       "<Figure size 1000x400 with 0 Axes>"
      ]
     },
     "metadata": {},
     "output_type": "display_data"
    },
    {
     "data": {
      "text/plain": [
       "<Figure size 1000x400 with 0 Axes>"
      ]
     },
     "metadata": {},
     "output_type": "display_data"
    },
    {
     "data": {
      "text/plain": [
       "<Figure size 1000x400 with 0 Axes>"
      ]
     },
     "metadata": {},
     "output_type": "display_data"
    },
    {
     "data": {
      "text/plain": [
       "<Figure size 1000x400 with 0 Axes>"
      ]
     },
     "metadata": {},
     "output_type": "display_data"
    },
    {
     "data": {
      "text/plain": [
       "<Figure size 1000x400 with 0 Axes>"
      ]
     },
     "metadata": {},
     "output_type": "display_data"
    },
    {
     "data": {
      "text/plain": [
       "<Figure size 1000x400 with 0 Axes>"
      ]
     },
     "metadata": {},
     "output_type": "display_data"
    },
    {
     "data": {
      "text/plain": [
       "<Figure size 1000x400 with 0 Axes>"
      ]
     },
     "metadata": {},
     "output_type": "display_data"
    },
    {
     "data": {
      "text/plain": [
       "<Figure size 1000x400 with 0 Axes>"
      ]
     },
     "metadata": {},
     "output_type": "display_data"
    },
    {
     "data": {
      "text/plain": [
       "<Figure size 1000x400 with 0 Axes>"
      ]
     },
     "metadata": {},
     "output_type": "display_data"
    },
    {
     "data": {
      "text/plain": [
       "<Figure size 1000x400 with 0 Axes>"
      ]
     },
     "metadata": {},
     "output_type": "display_data"
    },
    {
     "data": {
      "text/plain": [
       "<Figure size 1000x400 with 0 Axes>"
      ]
     },
     "metadata": {},
     "output_type": "display_data"
    },
    {
     "data": {
      "text/plain": [
       "<Figure size 1000x400 with 0 Axes>"
      ]
     },
     "metadata": {},
     "output_type": "display_data"
    },
    {
     "data": {
      "text/plain": [
       "<Figure size 1000x400 with 0 Axes>"
      ]
     },
     "metadata": {},
     "output_type": "display_data"
    },
    {
     "data": {
      "text/plain": [
       "<Figure size 1000x400 with 0 Axes>"
      ]
     },
     "metadata": {},
     "output_type": "display_data"
    },
    {
     "data": {
      "text/plain": [
       "<Figure size 1000x400 with 0 Axes>"
      ]
     },
     "metadata": {},
     "output_type": "display_data"
    },
    {
     "data": {
      "text/plain": [
       "<Figure size 1000x400 with 0 Axes>"
      ]
     },
     "metadata": {},
     "output_type": "display_data"
    },
    {
     "data": {
      "text/plain": [
       "<Figure size 1000x400 with 0 Axes>"
      ]
     },
     "metadata": {},
     "output_type": "display_data"
    },
    {
     "data": {
      "text/plain": [
       "<Figure size 1000x400 with 0 Axes>"
      ]
     },
     "metadata": {},
     "output_type": "display_data"
    },
    {
     "data": {
      "text/plain": [
       "<Figure size 1000x400 with 0 Axes>"
      ]
     },
     "metadata": {},
     "output_type": "display_data"
    },
    {
     "data": {
      "text/plain": [
       "<Figure size 1000x400 with 0 Axes>"
      ]
     },
     "metadata": {},
     "output_type": "display_data"
    },
    {
     "data": {
      "text/plain": [
       "<Figure size 1000x400 with 0 Axes>"
      ]
     },
     "metadata": {},
     "output_type": "display_data"
    },
    {
     "data": {
      "text/plain": [
       "<Figure size 1000x400 with 0 Axes>"
      ]
     },
     "metadata": {},
     "output_type": "display_data"
    },
    {
     "data": {
      "text/plain": [
       "<Figure size 1000x400 with 0 Axes>"
      ]
     },
     "metadata": {},
     "output_type": "display_data"
    },
    {
     "data": {
      "text/plain": [
       "<Figure size 1000x400 with 0 Axes>"
      ]
     },
     "metadata": {},
     "output_type": "display_data"
    },
    {
     "data": {
      "text/plain": [
       "<Figure size 1000x400 with 0 Axes>"
      ]
     },
     "metadata": {},
     "output_type": "display_data"
    },
    {
     "data": {
      "text/plain": [
       "<Figure size 1000x400 with 0 Axes>"
      ]
     },
     "metadata": {},
     "output_type": "display_data"
    },
    {
     "data": {
      "text/plain": [
       "<Figure size 1000x400 with 0 Axes>"
      ]
     },
     "metadata": {},
     "output_type": "display_data"
    },
    {
     "data": {
      "text/plain": [
       "<Figure size 1000x400 with 0 Axes>"
      ]
     },
     "metadata": {},
     "output_type": "display_data"
    },
    {
     "data": {
      "text/plain": [
       "<Figure size 1000x400 with 0 Axes>"
      ]
     },
     "metadata": {},
     "output_type": "display_data"
    },
    {
     "data": {
      "text/plain": [
       "<Figure size 1000x400 with 0 Axes>"
      ]
     },
     "metadata": {},
     "output_type": "display_data"
    },
    {
     "data": {
      "text/plain": [
       "<Figure size 1000x400 with 0 Axes>"
      ]
     },
     "metadata": {},
     "output_type": "display_data"
    },
    {
     "data": {
      "text/plain": [
       "<Figure size 1000x400 with 0 Axes>"
      ]
     },
     "metadata": {},
     "output_type": "display_data"
    },
    {
     "data": {
      "text/plain": [
       "<Figure size 1000x400 with 0 Axes>"
      ]
     },
     "metadata": {},
     "output_type": "display_data"
    },
    {
     "data": {
      "text/plain": [
       "<Figure size 1000x400 with 0 Axes>"
      ]
     },
     "metadata": {},
     "output_type": "display_data"
    },
    {
     "data": {
      "text/plain": [
       "<Figure size 1000x400 with 0 Axes>"
      ]
     },
     "metadata": {},
     "output_type": "display_data"
    },
    {
     "data": {
      "text/plain": [
       "<Figure size 1000x400 with 0 Axes>"
      ]
     },
     "metadata": {},
     "output_type": "display_data"
    },
    {
     "data": {
      "text/plain": [
       "<Figure size 1000x400 with 0 Axes>"
      ]
     },
     "metadata": {},
     "output_type": "display_data"
    },
    {
     "data": {
      "text/plain": [
       "<Figure size 1000x400 with 0 Axes>"
      ]
     },
     "metadata": {},
     "output_type": "display_data"
    },
    {
     "data": {
      "text/plain": [
       "<Figure size 1000x400 with 0 Axes>"
      ]
     },
     "metadata": {},
     "output_type": "display_data"
    },
    {
     "data": {
      "text/plain": [
       "<Figure size 1000x400 with 0 Axes>"
      ]
     },
     "metadata": {},
     "output_type": "display_data"
    },
    {
     "data": {
      "text/plain": [
       "<Figure size 1000x400 with 0 Axes>"
      ]
     },
     "metadata": {},
     "output_type": "display_data"
    },
    {
     "data": {
      "text/plain": [
       "<Figure size 1000x400 with 0 Axes>"
      ]
     },
     "metadata": {},
     "output_type": "display_data"
    },
    {
     "data": {
      "text/plain": [
       "<Figure size 1000x400 with 0 Axes>"
      ]
     },
     "metadata": {},
     "output_type": "display_data"
    },
    {
     "data": {
      "text/plain": [
       "<Figure size 1000x400 with 0 Axes>"
      ]
     },
     "metadata": {},
     "output_type": "display_data"
    },
    {
     "data": {
      "text/plain": [
       "<Figure size 1000x400 with 0 Axes>"
      ]
     },
     "metadata": {},
     "output_type": "display_data"
    },
    {
     "data": {
      "text/plain": [
       "<Figure size 1000x400 with 0 Axes>"
      ]
     },
     "metadata": {},
     "output_type": "display_data"
    },
    {
     "data": {
      "text/plain": [
       "<Figure size 1000x400 with 0 Axes>"
      ]
     },
     "metadata": {},
     "output_type": "display_data"
    },
    {
     "data": {
      "text/plain": [
       "<Figure size 1000x400 with 0 Axes>"
      ]
     },
     "metadata": {},
     "output_type": "display_data"
    },
    {
     "data": {
      "text/plain": [
       "<Figure size 1000x400 with 0 Axes>"
      ]
     },
     "metadata": {},
     "output_type": "display_data"
    },
    {
     "data": {
      "text/plain": [
       "<Figure size 1000x400 with 0 Axes>"
      ]
     },
     "metadata": {},
     "output_type": "display_data"
    },
    {
     "data": {
      "text/plain": [
       "<Figure size 1000x400 with 0 Axes>"
      ]
     },
     "metadata": {},
     "output_type": "display_data"
    },
    {
     "data": {
      "text/plain": [
       "<Figure size 1000x400 with 0 Axes>"
      ]
     },
     "metadata": {},
     "output_type": "display_data"
    },
    {
     "data": {
      "text/plain": [
       "<Figure size 1000x400 with 0 Axes>"
      ]
     },
     "metadata": {},
     "output_type": "display_data"
    },
    {
     "data": {
      "text/plain": [
       "<Figure size 1000x400 with 0 Axes>"
      ]
     },
     "metadata": {},
     "output_type": "display_data"
    },
    {
     "data": {
      "text/plain": [
       "<Figure size 1000x400 with 0 Axes>"
      ]
     },
     "metadata": {},
     "output_type": "display_data"
    },
    {
     "data": {
      "text/plain": [
       "<Figure size 1000x400 with 0 Axes>"
      ]
     },
     "metadata": {},
     "output_type": "display_data"
    },
    {
     "data": {
      "text/plain": [
       "<Figure size 1000x400 with 0 Axes>"
      ]
     },
     "metadata": {},
     "output_type": "display_data"
    },
    {
     "data": {
      "text/plain": [
       "<Figure size 1000x400 with 0 Axes>"
      ]
     },
     "metadata": {},
     "output_type": "display_data"
    },
    {
     "data": {
      "text/plain": [
       "<Figure size 1000x400 with 0 Axes>"
      ]
     },
     "metadata": {},
     "output_type": "display_data"
    },
    {
     "data": {
      "text/plain": [
       "<Figure size 1000x400 with 0 Axes>"
      ]
     },
     "metadata": {},
     "output_type": "display_data"
    },
    {
     "data": {
      "text/plain": [
       "<Figure size 1000x400 with 0 Axes>"
      ]
     },
     "metadata": {},
     "output_type": "display_data"
    },
    {
     "data": {
      "text/plain": [
       "<Figure size 1000x400 with 0 Axes>"
      ]
     },
     "metadata": {},
     "output_type": "display_data"
    },
    {
     "data": {
      "text/plain": [
       "<Figure size 1000x400 with 0 Axes>"
      ]
     },
     "metadata": {},
     "output_type": "display_data"
    },
    {
     "data": {
      "text/plain": [
       "<Figure size 1000x400 with 0 Axes>"
      ]
     },
     "metadata": {},
     "output_type": "display_data"
    },
    {
     "data": {
      "text/plain": [
       "<Figure size 1000x400 with 0 Axes>"
      ]
     },
     "metadata": {},
     "output_type": "display_data"
    },
    {
     "data": {
      "text/plain": [
       "<Figure size 1000x400 with 0 Axes>"
      ]
     },
     "metadata": {},
     "output_type": "display_data"
    },
    {
     "data": {
      "text/plain": [
       "<Figure size 1000x400 with 0 Axes>"
      ]
     },
     "metadata": {},
     "output_type": "display_data"
    },
    {
     "data": {
      "text/plain": [
       "<Figure size 1000x400 with 0 Axes>"
      ]
     },
     "metadata": {},
     "output_type": "display_data"
    },
    {
     "data": {
      "text/plain": [
       "<Figure size 1000x400 with 0 Axes>"
      ]
     },
     "metadata": {},
     "output_type": "display_data"
    },
    {
     "data": {
      "text/plain": [
       "<Figure size 1000x400 with 0 Axes>"
      ]
     },
     "metadata": {},
     "output_type": "display_data"
    },
    {
     "data": {
      "text/plain": [
       "<Figure size 1000x400 with 0 Axes>"
      ]
     },
     "metadata": {},
     "output_type": "display_data"
    },
    {
     "data": {
      "text/plain": [
       "<Figure size 1000x400 with 0 Axes>"
      ]
     },
     "metadata": {},
     "output_type": "display_data"
    },
    {
     "data": {
      "text/plain": [
       "<Figure size 1000x400 with 0 Axes>"
      ]
     },
     "metadata": {},
     "output_type": "display_data"
    },
    {
     "data": {
      "text/plain": [
       "<Figure size 1000x400 with 0 Axes>"
      ]
     },
     "metadata": {},
     "output_type": "display_data"
    },
    {
     "data": {
      "text/plain": [
       "<Figure size 1000x400 with 0 Axes>"
      ]
     },
     "metadata": {},
     "output_type": "display_data"
    },
    {
     "data": {
      "text/plain": [
       "<Figure size 1000x400 with 0 Axes>"
      ]
     },
     "metadata": {},
     "output_type": "display_data"
    },
    {
     "data": {
      "text/plain": [
       "<Figure size 1000x400 with 0 Axes>"
      ]
     },
     "metadata": {},
     "output_type": "display_data"
    },
    {
     "data": {
      "text/plain": [
       "<Figure size 1000x400 with 0 Axes>"
      ]
     },
     "metadata": {},
     "output_type": "display_data"
    },
    {
     "data": {
      "text/plain": [
       "<Figure size 1000x400 with 0 Axes>"
      ]
     },
     "metadata": {},
     "output_type": "display_data"
    },
    {
     "data": {
      "text/plain": [
       "<Figure size 1000x400 with 0 Axes>"
      ]
     },
     "metadata": {},
     "output_type": "display_data"
    },
    {
     "data": {
      "text/plain": [
       "<Figure size 1000x400 with 0 Axes>"
      ]
     },
     "metadata": {},
     "output_type": "display_data"
    },
    {
     "data": {
      "text/plain": [
       "<Figure size 1000x400 with 0 Axes>"
      ]
     },
     "metadata": {},
     "output_type": "display_data"
    },
    {
     "data": {
      "text/plain": [
       "<Figure size 1000x400 with 0 Axes>"
      ]
     },
     "metadata": {},
     "output_type": "display_data"
    },
    {
     "data": {
      "text/plain": [
       "<Figure size 1000x400 with 0 Axes>"
      ]
     },
     "metadata": {},
     "output_type": "display_data"
    },
    {
     "data": {
      "text/plain": [
       "<Figure size 1000x400 with 0 Axes>"
      ]
     },
     "metadata": {},
     "output_type": "display_data"
    },
    {
     "data": {
      "text/plain": [
       "<Figure size 1000x400 with 0 Axes>"
      ]
     },
     "metadata": {},
     "output_type": "display_data"
    },
    {
     "data": {
      "text/plain": [
       "<Figure size 1000x400 with 0 Axes>"
      ]
     },
     "metadata": {},
     "output_type": "display_data"
    },
    {
     "data": {
      "text/plain": [
       "<Figure size 1000x400 with 0 Axes>"
      ]
     },
     "metadata": {},
     "output_type": "display_data"
    },
    {
     "data": {
      "text/plain": [
       "<Figure size 1000x400 with 0 Axes>"
      ]
     },
     "metadata": {},
     "output_type": "display_data"
    },
    {
     "data": {
      "text/plain": [
       "<Figure size 1000x400 with 0 Axes>"
      ]
     },
     "metadata": {},
     "output_type": "display_data"
    },
    {
     "data": {
      "text/plain": [
       "<Figure size 1000x400 with 0 Axes>"
      ]
     },
     "metadata": {},
     "output_type": "display_data"
    },
    {
     "data": {
      "text/plain": [
       "<Figure size 1000x400 with 0 Axes>"
      ]
     },
     "metadata": {},
     "output_type": "display_data"
    },
    {
     "data": {
      "text/plain": [
       "<Figure size 1000x400 with 0 Axes>"
      ]
     },
     "metadata": {},
     "output_type": "display_data"
    },
    {
     "data": {
      "text/plain": [
       "<Figure size 1000x400 with 0 Axes>"
      ]
     },
     "metadata": {},
     "output_type": "display_data"
    },
    {
     "data": {
      "text/plain": [
       "<Figure size 1000x400 with 0 Axes>"
      ]
     },
     "metadata": {},
     "output_type": "display_data"
    },
    {
     "data": {
      "text/plain": [
       "<Figure size 1000x400 with 0 Axes>"
      ]
     },
     "metadata": {},
     "output_type": "display_data"
    },
    {
     "data": {
      "text/plain": [
       "<Figure size 1000x400 with 0 Axes>"
      ]
     },
     "metadata": {},
     "output_type": "display_data"
    },
    {
     "data": {
      "text/plain": [
       "<Figure size 1000x400 with 0 Axes>"
      ]
     },
     "metadata": {},
     "output_type": "display_data"
    },
    {
     "data": {
      "text/plain": [
       "<Figure size 1000x400 with 0 Axes>"
      ]
     },
     "metadata": {},
     "output_type": "display_data"
    },
    {
     "data": {
      "text/plain": [
       "<Figure size 1000x400 with 0 Axes>"
      ]
     },
     "metadata": {},
     "output_type": "display_data"
    },
    {
     "data": {
      "text/plain": [
       "<Figure size 1000x400 with 0 Axes>"
      ]
     },
     "metadata": {},
     "output_type": "display_data"
    },
    {
     "data": {
      "text/plain": [
       "<Figure size 1000x400 with 0 Axes>"
      ]
     },
     "metadata": {},
     "output_type": "display_data"
    },
    {
     "data": {
      "text/plain": [
       "<Figure size 1000x400 with 0 Axes>"
      ]
     },
     "metadata": {},
     "output_type": "display_data"
    },
    {
     "data": {
      "text/plain": [
       "<Figure size 1000x400 with 0 Axes>"
      ]
     },
     "metadata": {},
     "output_type": "display_data"
    },
    {
     "data": {
      "text/plain": [
       "<Figure size 1000x400 with 0 Axes>"
      ]
     },
     "metadata": {},
     "output_type": "display_data"
    },
    {
     "data": {
      "text/plain": [
       "<Figure size 1000x400 with 0 Axes>"
      ]
     },
     "metadata": {},
     "output_type": "display_data"
    },
    {
     "data": {
      "text/plain": [
       "<Figure size 1000x400 with 0 Axes>"
      ]
     },
     "metadata": {},
     "output_type": "display_data"
    },
    {
     "data": {
      "text/plain": [
       "<Figure size 1000x400 with 0 Axes>"
      ]
     },
     "metadata": {},
     "output_type": "display_data"
    },
    {
     "data": {
      "text/plain": [
       "<Figure size 1000x400 with 0 Axes>"
      ]
     },
     "metadata": {},
     "output_type": "display_data"
    },
    {
     "data": {
      "text/plain": [
       "<Figure size 1000x400 with 0 Axes>"
      ]
     },
     "metadata": {},
     "output_type": "display_data"
    },
    {
     "data": {
      "text/plain": [
       "<Figure size 1000x400 with 0 Axes>"
      ]
     },
     "metadata": {},
     "output_type": "display_data"
    },
    {
     "data": {
      "text/plain": [
       "<Figure size 1000x400 with 0 Axes>"
      ]
     },
     "metadata": {},
     "output_type": "display_data"
    },
    {
     "data": {
      "text/plain": [
       "<Figure size 1000x400 with 0 Axes>"
      ]
     },
     "metadata": {},
     "output_type": "display_data"
    },
    {
     "data": {
      "text/plain": [
       "<Figure size 1000x400 with 0 Axes>"
      ]
     },
     "metadata": {},
     "output_type": "display_data"
    },
    {
     "data": {
      "text/plain": [
       "<Figure size 1000x400 with 0 Axes>"
      ]
     },
     "metadata": {},
     "output_type": "display_data"
    },
    {
     "data": {
      "text/plain": [
       "<Figure size 1000x400 with 0 Axes>"
      ]
     },
     "metadata": {},
     "output_type": "display_data"
    },
    {
     "data": {
      "text/plain": [
       "<Figure size 1000x400 with 0 Axes>"
      ]
     },
     "metadata": {},
     "output_type": "display_data"
    },
    {
     "data": {
      "text/plain": [
       "<Figure size 1000x400 with 0 Axes>"
      ]
     },
     "metadata": {},
     "output_type": "display_data"
    },
    {
     "data": {
      "text/plain": [
       "<Figure size 1000x400 with 0 Axes>"
      ]
     },
     "metadata": {},
     "output_type": "display_data"
    },
    {
     "data": {
      "text/plain": [
       "<Figure size 1000x400 with 0 Axes>"
      ]
     },
     "metadata": {},
     "output_type": "display_data"
    },
    {
     "data": {
      "text/plain": [
       "<Figure size 1000x400 with 0 Axes>"
      ]
     },
     "metadata": {},
     "output_type": "display_data"
    },
    {
     "data": {
      "text/plain": [
       "<Figure size 1000x400 with 0 Axes>"
      ]
     },
     "metadata": {},
     "output_type": "display_data"
    },
    {
     "data": {
      "text/plain": [
       "<Figure size 1000x400 with 0 Axes>"
      ]
     },
     "metadata": {},
     "output_type": "display_data"
    },
    {
     "data": {
      "text/plain": [
       "<Figure size 1000x400 with 0 Axes>"
      ]
     },
     "metadata": {},
     "output_type": "display_data"
    },
    {
     "data": {
      "text/plain": [
       "<Figure size 1000x400 with 0 Axes>"
      ]
     },
     "metadata": {},
     "output_type": "display_data"
    },
    {
     "data": {
      "text/plain": [
       "<Figure size 1000x400 with 0 Axes>"
      ]
     },
     "metadata": {},
     "output_type": "display_data"
    },
    {
     "data": {
      "text/plain": [
       "<Figure size 1000x400 with 0 Axes>"
      ]
     },
     "metadata": {},
     "output_type": "display_data"
    },
    {
     "data": {
      "text/plain": [
       "<Figure size 1000x400 with 0 Axes>"
      ]
     },
     "metadata": {},
     "output_type": "display_data"
    },
    {
     "data": {
      "text/plain": [
       "<Figure size 1000x400 with 0 Axes>"
      ]
     },
     "metadata": {},
     "output_type": "display_data"
    },
    {
     "data": {
      "text/plain": [
       "<Figure size 1000x400 with 0 Axes>"
      ]
     },
     "metadata": {},
     "output_type": "display_data"
    },
    {
     "data": {
      "text/plain": [
       "<Figure size 1000x400 with 0 Axes>"
      ]
     },
     "metadata": {},
     "output_type": "display_data"
    },
    {
     "data": {
      "text/plain": [
       "<Figure size 1000x400 with 0 Axes>"
      ]
     },
     "metadata": {},
     "output_type": "display_data"
    },
    {
     "data": {
      "text/plain": [
       "<Figure size 1000x400 with 0 Axes>"
      ]
     },
     "metadata": {},
     "output_type": "display_data"
    },
    {
     "data": {
      "text/plain": [
       "<Figure size 1000x400 with 0 Axes>"
      ]
     },
     "metadata": {},
     "output_type": "display_data"
    },
    {
     "data": {
      "text/plain": [
       "<Figure size 1000x400 with 0 Axes>"
      ]
     },
     "metadata": {},
     "output_type": "display_data"
    },
    {
     "data": {
      "text/plain": [
       "<Figure size 1000x400 with 0 Axes>"
      ]
     },
     "metadata": {},
     "output_type": "display_data"
    },
    {
     "data": {
      "text/plain": [
       "<Figure size 1000x400 with 0 Axes>"
      ]
     },
     "metadata": {},
     "output_type": "display_data"
    },
    {
     "data": {
      "text/plain": [
       "<Figure size 1000x400 with 0 Axes>"
      ]
     },
     "metadata": {},
     "output_type": "display_data"
    },
    {
     "data": {
      "text/plain": [
       "<Figure size 1000x400 with 0 Axes>"
      ]
     },
     "metadata": {},
     "output_type": "display_data"
    },
    {
     "data": {
      "text/plain": [
       "<Figure size 1000x400 with 0 Axes>"
      ]
     },
     "metadata": {},
     "output_type": "display_data"
    },
    {
     "data": {
      "text/plain": [
       "<Figure size 1000x400 with 0 Axes>"
      ]
     },
     "metadata": {},
     "output_type": "display_data"
    },
    {
     "data": {
      "text/plain": [
       "<Figure size 1000x400 with 0 Axes>"
      ]
     },
     "metadata": {},
     "output_type": "display_data"
    },
    {
     "data": {
      "text/plain": [
       "<Figure size 1000x400 with 0 Axes>"
      ]
     },
     "metadata": {},
     "output_type": "display_data"
    },
    {
     "data": {
      "text/plain": [
       "<Figure size 1000x400 with 0 Axes>"
      ]
     },
     "metadata": {},
     "output_type": "display_data"
    },
    {
     "data": {
      "text/plain": [
       "<Figure size 1000x400 with 0 Axes>"
      ]
     },
     "metadata": {},
     "output_type": "display_data"
    },
    {
     "data": {
      "text/plain": [
       "<Figure size 1000x400 with 0 Axes>"
      ]
     },
     "metadata": {},
     "output_type": "display_data"
    },
    {
     "data": {
      "text/plain": [
       "<Figure size 1000x400 with 0 Axes>"
      ]
     },
     "metadata": {},
     "output_type": "display_data"
    },
    {
     "data": {
      "text/plain": [
       "<Figure size 1000x400 with 0 Axes>"
      ]
     },
     "metadata": {},
     "output_type": "display_data"
    },
    {
     "data": {
      "text/plain": [
       "<Figure size 1000x400 with 0 Axes>"
      ]
     },
     "metadata": {},
     "output_type": "display_data"
    },
    {
     "data": {
      "text/plain": [
       "<Figure size 1000x400 with 0 Axes>"
      ]
     },
     "metadata": {},
     "output_type": "display_data"
    },
    {
     "data": {
      "text/plain": [
       "<Figure size 1000x400 with 0 Axes>"
      ]
     },
     "metadata": {},
     "output_type": "display_data"
    },
    {
     "data": {
      "text/plain": [
       "<Figure size 1000x400 with 0 Axes>"
      ]
     },
     "metadata": {},
     "output_type": "display_data"
    },
    {
     "data": {
      "text/plain": [
       "<Figure size 1000x400 with 0 Axes>"
      ]
     },
     "metadata": {},
     "output_type": "display_data"
    },
    {
     "data": {
      "text/plain": [
       "<Figure size 1000x400 with 0 Axes>"
      ]
     },
     "metadata": {},
     "output_type": "display_data"
    },
    {
     "data": {
      "text/plain": [
       "<Figure size 1000x400 with 0 Axes>"
      ]
     },
     "metadata": {},
     "output_type": "display_data"
    },
    {
     "data": {
      "text/plain": [
       "<Figure size 1000x400 with 0 Axes>"
      ]
     },
     "metadata": {},
     "output_type": "display_data"
    },
    {
     "data": {
      "text/plain": [
       "<Figure size 1000x400 with 0 Axes>"
      ]
     },
     "metadata": {},
     "output_type": "display_data"
    },
    {
     "data": {
      "text/plain": [
       "<Figure size 1000x400 with 0 Axes>"
      ]
     },
     "metadata": {},
     "output_type": "display_data"
    },
    {
     "data": {
      "text/plain": [
       "<Figure size 1000x400 with 0 Axes>"
      ]
     },
     "metadata": {},
     "output_type": "display_data"
    },
    {
     "data": {
      "text/plain": [
       "<Figure size 1000x400 with 0 Axes>"
      ]
     },
     "metadata": {},
     "output_type": "display_data"
    },
    {
     "data": {
      "text/plain": [
       "<Figure size 1000x400 with 0 Axes>"
      ]
     },
     "metadata": {},
     "output_type": "display_data"
    },
    {
     "data": {
      "text/plain": [
       "<Figure size 1000x400 with 0 Axes>"
      ]
     },
     "metadata": {},
     "output_type": "display_data"
    },
    {
     "data": {
      "text/plain": [
       "<Figure size 1000x400 with 0 Axes>"
      ]
     },
     "metadata": {},
     "output_type": "display_data"
    },
    {
     "data": {
      "text/plain": [
       "<Figure size 1000x400 with 0 Axes>"
      ]
     },
     "metadata": {},
     "output_type": "display_data"
    },
    {
     "data": {
      "text/plain": [
       "<Figure size 1000x400 with 0 Axes>"
      ]
     },
     "metadata": {},
     "output_type": "display_data"
    },
    {
     "data": {
      "text/plain": [
       "<Figure size 1000x400 with 0 Axes>"
      ]
     },
     "metadata": {},
     "output_type": "display_data"
    },
    {
     "data": {
      "text/plain": [
       "<Figure size 1000x400 with 0 Axes>"
      ]
     },
     "metadata": {},
     "output_type": "display_data"
    },
    {
     "data": {
      "text/plain": [
       "<Figure size 1000x400 with 0 Axes>"
      ]
     },
     "metadata": {},
     "output_type": "display_data"
    },
    {
     "data": {
      "text/plain": [
       "<Figure size 1000x400 with 0 Axes>"
      ]
     },
     "metadata": {},
     "output_type": "display_data"
    },
    {
     "data": {
      "text/plain": [
       "<Figure size 1000x400 with 0 Axes>"
      ]
     },
     "metadata": {},
     "output_type": "display_data"
    },
    {
     "data": {
      "text/plain": [
       "<Figure size 1000x400 with 0 Axes>"
      ]
     },
     "metadata": {},
     "output_type": "display_data"
    },
    {
     "data": {
      "text/plain": [
       "<Figure size 1000x400 with 0 Axes>"
      ]
     },
     "metadata": {},
     "output_type": "display_data"
    },
    {
     "data": {
      "text/plain": [
       "<Figure size 1000x400 with 0 Axes>"
      ]
     },
     "metadata": {},
     "output_type": "display_data"
    },
    {
     "data": {
      "text/plain": [
       "<Figure size 1000x400 with 0 Axes>"
      ]
     },
     "metadata": {},
     "output_type": "display_data"
    },
    {
     "data": {
      "text/plain": [
       "<Figure size 1000x400 with 0 Axes>"
      ]
     },
     "metadata": {},
     "output_type": "display_data"
    },
    {
     "data": {
      "text/plain": [
       "<Figure size 1000x400 with 0 Axes>"
      ]
     },
     "metadata": {},
     "output_type": "display_data"
    },
    {
     "data": {
      "text/plain": [
       "<Figure size 1000x400 with 0 Axes>"
      ]
     },
     "metadata": {},
     "output_type": "display_data"
    },
    {
     "data": {
      "text/plain": [
       "<Figure size 1000x400 with 0 Axes>"
      ]
     },
     "metadata": {},
     "output_type": "display_data"
    },
    {
     "data": {
      "text/plain": [
       "<Figure size 1000x400 with 0 Axes>"
      ]
     },
     "metadata": {},
     "output_type": "display_data"
    },
    {
     "data": {
      "text/plain": [
       "<Figure size 1000x400 with 0 Axes>"
      ]
     },
     "metadata": {},
     "output_type": "display_data"
    },
    {
     "data": {
      "text/plain": [
       "<Figure size 1000x400 with 0 Axes>"
      ]
     },
     "metadata": {},
     "output_type": "display_data"
    },
    {
     "data": {
      "text/plain": [
       "<Figure size 1000x400 with 0 Axes>"
      ]
     },
     "metadata": {},
     "output_type": "display_data"
    },
    {
     "data": {
      "text/plain": [
       "<Figure size 1000x400 with 0 Axes>"
      ]
     },
     "metadata": {},
     "output_type": "display_data"
    },
    {
     "data": {
      "text/plain": [
       "<Figure size 1000x400 with 0 Axes>"
      ]
     },
     "metadata": {},
     "output_type": "display_data"
    },
    {
     "data": {
      "text/plain": [
       "<Figure size 1000x400 with 0 Axes>"
      ]
     },
     "metadata": {},
     "output_type": "display_data"
    },
    {
     "data": {
      "text/plain": [
       "<Figure size 1000x400 with 0 Axes>"
      ]
     },
     "metadata": {},
     "output_type": "display_data"
    },
    {
     "data": {
      "text/plain": [
       "<Figure size 1000x400 with 0 Axes>"
      ]
     },
     "metadata": {},
     "output_type": "display_data"
    },
    {
     "data": {
      "text/plain": [
       "<Figure size 1000x400 with 0 Axes>"
      ]
     },
     "metadata": {},
     "output_type": "display_data"
    },
    {
     "data": {
      "text/plain": [
       "<Figure size 1000x400 with 0 Axes>"
      ]
     },
     "metadata": {},
     "output_type": "display_data"
    },
    {
     "data": {
      "text/plain": [
       "<Figure size 1000x400 with 0 Axes>"
      ]
     },
     "metadata": {},
     "output_type": "display_data"
    },
    {
     "data": {
      "text/plain": [
       "<Figure size 1000x400 with 0 Axes>"
      ]
     },
     "metadata": {},
     "output_type": "display_data"
    },
    {
     "data": {
      "text/plain": [
       "<Figure size 1000x400 with 0 Axes>"
      ]
     },
     "metadata": {},
     "output_type": "display_data"
    },
    {
     "data": {
      "text/plain": [
       "<Figure size 1000x400 with 0 Axes>"
      ]
     },
     "metadata": {},
     "output_type": "display_data"
    },
    {
     "data": {
      "text/plain": [
       "<Figure size 1000x400 with 0 Axes>"
      ]
     },
     "metadata": {},
     "output_type": "display_data"
    },
    {
     "data": {
      "text/plain": [
       "<Figure size 1000x400 with 0 Axes>"
      ]
     },
     "metadata": {},
     "output_type": "display_data"
    },
    {
     "data": {
      "text/plain": [
       "<Figure size 1000x400 with 0 Axes>"
      ]
     },
     "metadata": {},
     "output_type": "display_data"
    },
    {
     "data": {
      "text/plain": [
       "<Figure size 1000x400 with 0 Axes>"
      ]
     },
     "metadata": {},
     "output_type": "display_data"
    },
    {
     "data": {
      "text/plain": [
       "<Figure size 1000x400 with 0 Axes>"
      ]
     },
     "metadata": {},
     "output_type": "display_data"
    },
    {
     "data": {
      "text/plain": [
       "<Figure size 1000x400 with 0 Axes>"
      ]
     },
     "metadata": {},
     "output_type": "display_data"
    },
    {
     "data": {
      "text/plain": [
       "<Figure size 1000x400 with 0 Axes>"
      ]
     },
     "metadata": {},
     "output_type": "display_data"
    },
    {
     "data": {
      "text/plain": [
       "<Figure size 1000x400 with 0 Axes>"
      ]
     },
     "metadata": {},
     "output_type": "display_data"
    },
    {
     "data": {
      "text/plain": [
       "<Figure size 1000x400 with 0 Axes>"
      ]
     },
     "metadata": {},
     "output_type": "display_data"
    },
    {
     "data": {
      "text/plain": [
       "<Figure size 1000x400 with 0 Axes>"
      ]
     },
     "metadata": {},
     "output_type": "display_data"
    },
    {
     "data": {
      "text/plain": [
       "<Figure size 1000x400 with 0 Axes>"
      ]
     },
     "metadata": {},
     "output_type": "display_data"
    },
    {
     "data": {
      "text/plain": [
       "<Figure size 1000x400 with 0 Axes>"
      ]
     },
     "metadata": {},
     "output_type": "display_data"
    },
    {
     "data": {
      "text/plain": [
       "<Figure size 1000x400 with 0 Axes>"
      ]
     },
     "metadata": {},
     "output_type": "display_data"
    },
    {
     "data": {
      "text/plain": [
       "<Figure size 1000x400 with 0 Axes>"
      ]
     },
     "metadata": {},
     "output_type": "display_data"
    },
    {
     "data": {
      "text/plain": [
       "<Figure size 1000x400 with 0 Axes>"
      ]
     },
     "metadata": {},
     "output_type": "display_data"
    },
    {
     "data": {
      "text/plain": [
       "<Figure size 1000x400 with 0 Axes>"
      ]
     },
     "metadata": {},
     "output_type": "display_data"
    },
    {
     "data": {
      "text/plain": [
       "<Figure size 1000x400 with 0 Axes>"
      ]
     },
     "metadata": {},
     "output_type": "display_data"
    },
    {
     "data": {
      "text/plain": [
       "<Figure size 1000x400 with 0 Axes>"
      ]
     },
     "metadata": {},
     "output_type": "display_data"
    },
    {
     "data": {
      "text/plain": [
       "<Figure size 1000x400 with 0 Axes>"
      ]
     },
     "metadata": {},
     "output_type": "display_data"
    },
    {
     "data": {
      "text/plain": [
       "<Figure size 1000x400 with 0 Axes>"
      ]
     },
     "metadata": {},
     "output_type": "display_data"
    },
    {
     "data": {
      "text/plain": [
       "<Figure size 1000x400 with 0 Axes>"
      ]
     },
     "metadata": {},
     "output_type": "display_data"
    },
    {
     "data": {
      "text/plain": [
       "<Figure size 1000x400 with 0 Axes>"
      ]
     },
     "metadata": {},
     "output_type": "display_data"
    },
    {
     "data": {
      "text/plain": [
       "<Figure size 1000x400 with 0 Axes>"
      ]
     },
     "metadata": {},
     "output_type": "display_data"
    },
    {
     "data": {
      "text/plain": [
       "<Figure size 1000x400 with 0 Axes>"
      ]
     },
     "metadata": {},
     "output_type": "display_data"
    },
    {
     "data": {
      "text/plain": [
       "<Figure size 1000x400 with 0 Axes>"
      ]
     },
     "metadata": {},
     "output_type": "display_data"
    },
    {
     "data": {
      "text/plain": [
       "<Figure size 1000x400 with 0 Axes>"
      ]
     },
     "metadata": {},
     "output_type": "display_data"
    },
    {
     "data": {
      "text/plain": [
       "<Figure size 1000x400 with 0 Axes>"
      ]
     },
     "metadata": {},
     "output_type": "display_data"
    },
    {
     "data": {
      "text/plain": [
       "<Figure size 1000x400 with 0 Axes>"
      ]
     },
     "metadata": {},
     "output_type": "display_data"
    },
    {
     "data": {
      "text/plain": [
       "<Figure size 1000x400 with 0 Axes>"
      ]
     },
     "metadata": {},
     "output_type": "display_data"
    },
    {
     "data": {
      "text/plain": [
       "<Figure size 1000x400 with 0 Axes>"
      ]
     },
     "metadata": {},
     "output_type": "display_data"
    },
    {
     "data": {
      "text/plain": [
       "<Figure size 1000x400 with 0 Axes>"
      ]
     },
     "metadata": {},
     "output_type": "display_data"
    },
    {
     "data": {
      "text/plain": [
       "<Figure size 1000x400 with 0 Axes>"
      ]
     },
     "metadata": {},
     "output_type": "display_data"
    },
    {
     "data": {
      "text/plain": [
       "<Figure size 1000x400 with 0 Axes>"
      ]
     },
     "metadata": {},
     "output_type": "display_data"
    },
    {
     "data": {
      "text/plain": [
       "<Figure size 1000x400 with 0 Axes>"
      ]
     },
     "metadata": {},
     "output_type": "display_data"
    },
    {
     "data": {
      "text/plain": [
       "<Figure size 1000x400 with 0 Axes>"
      ]
     },
     "metadata": {},
     "output_type": "display_data"
    },
    {
     "data": {
      "text/plain": [
       "<Figure size 1000x400 with 0 Axes>"
      ]
     },
     "metadata": {},
     "output_type": "display_data"
    },
    {
     "data": {
      "text/plain": [
       "<Figure size 1000x400 with 0 Axes>"
      ]
     },
     "metadata": {},
     "output_type": "display_data"
    },
    {
     "data": {
      "text/plain": [
       "<Figure size 1000x400 with 0 Axes>"
      ]
     },
     "metadata": {},
     "output_type": "display_data"
    },
    {
     "data": {
      "text/plain": [
       "<Figure size 1000x400 with 0 Axes>"
      ]
     },
     "metadata": {},
     "output_type": "display_data"
    },
    {
     "data": {
      "text/plain": [
       "<Figure size 1000x400 with 0 Axes>"
      ]
     },
     "metadata": {},
     "output_type": "display_data"
    },
    {
     "data": {
      "text/plain": [
       "<Figure size 1000x400 with 0 Axes>"
      ]
     },
     "metadata": {},
     "output_type": "display_data"
    },
    {
     "data": {
      "text/plain": [
       "<Figure size 1000x400 with 0 Axes>"
      ]
     },
     "metadata": {},
     "output_type": "display_data"
    },
    {
     "data": {
      "text/plain": [
       "<Figure size 1000x400 with 0 Axes>"
      ]
     },
     "metadata": {},
     "output_type": "display_data"
    },
    {
     "data": {
      "text/plain": [
       "<Figure size 1000x400 with 0 Axes>"
      ]
     },
     "metadata": {},
     "output_type": "display_data"
    },
    {
     "data": {
      "text/plain": [
       "<Figure size 1000x400 with 0 Axes>"
      ]
     },
     "metadata": {},
     "output_type": "display_data"
    },
    {
     "data": {
      "text/plain": [
       "<Figure size 1000x400 with 0 Axes>"
      ]
     },
     "metadata": {},
     "output_type": "display_data"
    },
    {
     "data": {
      "text/plain": [
       "<Figure size 1000x400 with 0 Axes>"
      ]
     },
     "metadata": {},
     "output_type": "display_data"
    },
    {
     "data": {
      "text/plain": [
       "<Figure size 1000x400 with 0 Axes>"
      ]
     },
     "metadata": {},
     "output_type": "display_data"
    },
    {
     "data": {
      "text/plain": [
       "<Figure size 1000x400 with 0 Axes>"
      ]
     },
     "metadata": {},
     "output_type": "display_data"
    },
    {
     "data": {
      "text/plain": [
       "<Figure size 1000x400 with 0 Axes>"
      ]
     },
     "metadata": {},
     "output_type": "display_data"
    },
    {
     "data": {
      "text/plain": [
       "<Figure size 1000x400 with 0 Axes>"
      ]
     },
     "metadata": {},
     "output_type": "display_data"
    },
    {
     "data": {
      "text/plain": [
       "<Figure size 1000x400 with 0 Axes>"
      ]
     },
     "metadata": {},
     "output_type": "display_data"
    },
    {
     "data": {
      "text/plain": [
       "<Figure size 1000x400 with 0 Axes>"
      ]
     },
     "metadata": {},
     "output_type": "display_data"
    },
    {
     "data": {
      "text/plain": [
       "<Figure size 1000x400 with 0 Axes>"
      ]
     },
     "metadata": {},
     "output_type": "display_data"
    },
    {
     "data": {
      "text/plain": [
       "<Figure size 1000x400 with 0 Axes>"
      ]
     },
     "metadata": {},
     "output_type": "display_data"
    },
    {
     "data": {
      "text/plain": [
       "<Figure size 1000x400 with 0 Axes>"
      ]
     },
     "metadata": {},
     "output_type": "display_data"
    },
    {
     "data": {
      "text/plain": [
       "<Figure size 1000x400 with 0 Axes>"
      ]
     },
     "metadata": {},
     "output_type": "display_data"
    },
    {
     "data": {
      "text/plain": [
       "<Figure size 1000x400 with 0 Axes>"
      ]
     },
     "metadata": {},
     "output_type": "display_data"
    },
    {
     "data": {
      "text/plain": [
       "<Figure size 1000x400 with 0 Axes>"
      ]
     },
     "metadata": {},
     "output_type": "display_data"
    },
    {
     "data": {
      "text/plain": [
       "<Figure size 1000x400 with 0 Axes>"
      ]
     },
     "metadata": {},
     "output_type": "display_data"
    },
    {
     "data": {
      "text/plain": [
       "<Figure size 1000x400 with 0 Axes>"
      ]
     },
     "metadata": {},
     "output_type": "display_data"
    },
    {
     "data": {
      "text/plain": [
       "<Figure size 1000x400 with 0 Axes>"
      ]
     },
     "metadata": {},
     "output_type": "display_data"
    },
    {
     "data": {
      "text/plain": [
       "<Figure size 1000x400 with 0 Axes>"
      ]
     },
     "metadata": {},
     "output_type": "display_data"
    },
    {
     "data": {
      "text/plain": [
       "<Figure size 1000x400 with 0 Axes>"
      ]
     },
     "metadata": {},
     "output_type": "display_data"
    },
    {
     "data": {
      "text/plain": [
       "<Figure size 1000x400 with 0 Axes>"
      ]
     },
     "metadata": {},
     "output_type": "display_data"
    },
    {
     "data": {
      "text/plain": [
       "<Figure size 1000x400 with 0 Axes>"
      ]
     },
     "metadata": {},
     "output_type": "display_data"
    },
    {
     "data": {
      "text/plain": [
       "<Figure size 1000x400 with 0 Axes>"
      ]
     },
     "metadata": {},
     "output_type": "display_data"
    },
    {
     "data": {
      "text/plain": [
       "<Figure size 1000x400 with 0 Axes>"
      ]
     },
     "metadata": {},
     "output_type": "display_data"
    },
    {
     "data": {
      "text/plain": [
       "<Figure size 1000x400 with 0 Axes>"
      ]
     },
     "metadata": {},
     "output_type": "display_data"
    },
    {
     "data": {
      "text/plain": [
       "<Figure size 1000x400 with 0 Axes>"
      ]
     },
     "metadata": {},
     "output_type": "display_data"
    },
    {
     "data": {
      "text/plain": [
       "<Figure size 1000x400 with 0 Axes>"
      ]
     },
     "metadata": {},
     "output_type": "display_data"
    },
    {
     "data": {
      "text/plain": [
       "<Figure size 1000x400 with 0 Axes>"
      ]
     },
     "metadata": {},
     "output_type": "display_data"
    },
    {
     "data": {
      "text/plain": [
       "<Figure size 1000x400 with 0 Axes>"
      ]
     },
     "metadata": {},
     "output_type": "display_data"
    },
    {
     "data": {
      "text/plain": [
       "<Figure size 1000x400 with 0 Axes>"
      ]
     },
     "metadata": {},
     "output_type": "display_data"
    },
    {
     "data": {
      "text/plain": [
       "<Figure size 1000x400 with 0 Axes>"
      ]
     },
     "metadata": {},
     "output_type": "display_data"
    },
    {
     "data": {
      "text/plain": [
       "<Figure size 1000x400 with 0 Axes>"
      ]
     },
     "metadata": {},
     "output_type": "display_data"
    },
    {
     "data": {
      "text/plain": [
       "<Figure size 1000x400 with 0 Axes>"
      ]
     },
     "metadata": {},
     "output_type": "display_data"
    },
    {
     "data": {
      "text/plain": [
       "<Figure size 1000x400 with 0 Axes>"
      ]
     },
     "metadata": {},
     "output_type": "display_data"
    },
    {
     "data": {
      "text/plain": [
       "<Figure size 1000x400 with 0 Axes>"
      ]
     },
     "metadata": {},
     "output_type": "display_data"
    },
    {
     "data": {
      "text/plain": [
       "<Figure size 1000x400 with 0 Axes>"
      ]
     },
     "metadata": {},
     "output_type": "display_data"
    },
    {
     "data": {
      "text/plain": [
       "<Figure size 1000x400 with 0 Axes>"
      ]
     },
     "metadata": {},
     "output_type": "display_data"
    },
    {
     "data": {
      "text/plain": [
       "<Figure size 1000x400 with 0 Axes>"
      ]
     },
     "metadata": {},
     "output_type": "display_data"
    },
    {
     "data": {
      "text/plain": [
       "<Figure size 1000x400 with 0 Axes>"
      ]
     },
     "metadata": {},
     "output_type": "display_data"
    },
    {
     "data": {
      "text/plain": [
       "<Figure size 1000x400 with 0 Axes>"
      ]
     },
     "metadata": {},
     "output_type": "display_data"
    },
    {
     "data": {
      "text/plain": [
       "<Figure size 1000x400 with 0 Axes>"
      ]
     },
     "metadata": {},
     "output_type": "display_data"
    },
    {
     "data": {
      "text/plain": [
       "<Figure size 1000x400 with 0 Axes>"
      ]
     },
     "metadata": {},
     "output_type": "display_data"
    },
    {
     "data": {
      "text/plain": [
       "<Figure size 1000x400 with 0 Axes>"
      ]
     },
     "metadata": {},
     "output_type": "display_data"
    },
    {
     "data": {
      "text/plain": [
       "<Figure size 1000x400 with 0 Axes>"
      ]
     },
     "metadata": {},
     "output_type": "display_data"
    },
    {
     "data": {
      "text/plain": [
       "<Figure size 1000x400 with 0 Axes>"
      ]
     },
     "metadata": {},
     "output_type": "display_data"
    },
    {
     "data": {
      "text/plain": [
       "<Figure size 1000x400 with 0 Axes>"
      ]
     },
     "metadata": {},
     "output_type": "display_data"
    },
    {
     "data": {
      "text/plain": [
       "<Figure size 1000x400 with 0 Axes>"
      ]
     },
     "metadata": {},
     "output_type": "display_data"
    },
    {
     "data": {
      "text/plain": [
       "<Figure size 1000x400 with 0 Axes>"
      ]
     },
     "metadata": {},
     "output_type": "display_data"
    },
    {
     "data": {
      "text/plain": [
       "<Figure size 1000x400 with 0 Axes>"
      ]
     },
     "metadata": {},
     "output_type": "display_data"
    },
    {
     "data": {
      "text/plain": [
       "<Figure size 1000x400 with 0 Axes>"
      ]
     },
     "metadata": {},
     "output_type": "display_data"
    },
    {
     "data": {
      "text/plain": [
       "<Figure size 1000x400 with 0 Axes>"
      ]
     },
     "metadata": {},
     "output_type": "display_data"
    },
    {
     "data": {
      "text/plain": [
       "<Figure size 1000x400 with 0 Axes>"
      ]
     },
     "metadata": {},
     "output_type": "display_data"
    },
    {
     "data": {
      "text/plain": [
       "<Figure size 1000x400 with 0 Axes>"
      ]
     },
     "metadata": {},
     "output_type": "display_data"
    },
    {
     "data": {
      "text/plain": [
       "<Figure size 1000x400 with 0 Axes>"
      ]
     },
     "metadata": {},
     "output_type": "display_data"
    },
    {
     "data": {
      "text/plain": [
       "<Figure size 1000x400 with 0 Axes>"
      ]
     },
     "metadata": {},
     "output_type": "display_data"
    },
    {
     "data": {
      "text/plain": [
       "<Figure size 1000x400 with 0 Axes>"
      ]
     },
     "metadata": {},
     "output_type": "display_data"
    },
    {
     "data": {
      "text/plain": [
       "<Figure size 1000x400 with 0 Axes>"
      ]
     },
     "metadata": {},
     "output_type": "display_data"
    },
    {
     "data": {
      "text/plain": [
       "<Figure size 1000x400 with 0 Axes>"
      ]
     },
     "metadata": {},
     "output_type": "display_data"
    },
    {
     "data": {
      "text/plain": [
       "<Figure size 1000x400 with 0 Axes>"
      ]
     },
     "metadata": {},
     "output_type": "display_data"
    },
    {
     "data": {
      "text/plain": [
       "<Figure size 1000x400 with 0 Axes>"
      ]
     },
     "metadata": {},
     "output_type": "display_data"
    },
    {
     "data": {
      "text/plain": [
       "<Figure size 1000x400 with 0 Axes>"
      ]
     },
     "metadata": {},
     "output_type": "display_data"
    },
    {
     "data": {
      "text/plain": [
       "<Figure size 1000x400 with 0 Axes>"
      ]
     },
     "metadata": {},
     "output_type": "display_data"
    },
    {
     "data": {
      "text/plain": [
       "<Figure size 1000x400 with 0 Axes>"
      ]
     },
     "metadata": {},
     "output_type": "display_data"
    },
    {
     "data": {
      "text/plain": [
       "<Figure size 1000x400 with 0 Axes>"
      ]
     },
     "metadata": {},
     "output_type": "display_data"
    },
    {
     "data": {
      "text/plain": [
       "<Figure size 1000x400 with 0 Axes>"
      ]
     },
     "metadata": {},
     "output_type": "display_data"
    },
    {
     "data": {
      "text/plain": [
       "<Figure size 1000x400 with 0 Axes>"
      ]
     },
     "metadata": {},
     "output_type": "display_data"
    },
    {
     "data": {
      "text/plain": [
       "<Figure size 1000x400 with 0 Axes>"
      ]
     },
     "metadata": {},
     "output_type": "display_data"
    },
    {
     "data": {
      "text/plain": [
       "<Figure size 1000x400 with 0 Axes>"
      ]
     },
     "metadata": {},
     "output_type": "display_data"
    },
    {
     "data": {
      "text/plain": [
       "<Figure size 1000x400 with 0 Axes>"
      ]
     },
     "metadata": {},
     "output_type": "display_data"
    },
    {
     "data": {
      "text/plain": [
       "<Figure size 1000x400 with 0 Axes>"
      ]
     },
     "metadata": {},
     "output_type": "display_data"
    },
    {
     "data": {
      "text/plain": [
       "<Figure size 1000x400 with 0 Axes>"
      ]
     },
     "metadata": {},
     "output_type": "display_data"
    },
    {
     "data": {
      "text/plain": [
       "<Figure size 1000x400 with 0 Axes>"
      ]
     },
     "metadata": {},
     "output_type": "display_data"
    },
    {
     "data": {
      "text/plain": [
       "<Figure size 1000x400 with 0 Axes>"
      ]
     },
     "metadata": {},
     "output_type": "display_data"
    },
    {
     "data": {
      "text/plain": [
       "<Figure size 1000x400 with 0 Axes>"
      ]
     },
     "metadata": {},
     "output_type": "display_data"
    },
    {
     "data": {
      "text/plain": [
       "<Figure size 1000x400 with 0 Axes>"
      ]
     },
     "metadata": {},
     "output_type": "display_data"
    },
    {
     "data": {
      "text/plain": [
       "<Figure size 1000x400 with 0 Axes>"
      ]
     },
     "metadata": {},
     "output_type": "display_data"
    },
    {
     "data": {
      "text/plain": [
       "<Figure size 1000x400 with 0 Axes>"
      ]
     },
     "metadata": {},
     "output_type": "display_data"
    },
    {
     "data": {
      "text/plain": [
       "<Figure size 1000x400 with 0 Axes>"
      ]
     },
     "metadata": {},
     "output_type": "display_data"
    },
    {
     "data": {
      "text/plain": [
       "<Figure size 1000x400 with 0 Axes>"
      ]
     },
     "metadata": {},
     "output_type": "display_data"
    },
    {
     "data": {
      "text/plain": [
       "<Figure size 1000x400 with 0 Axes>"
      ]
     },
     "metadata": {},
     "output_type": "display_data"
    },
    {
     "data": {
      "text/plain": [
       "<Figure size 1000x400 with 0 Axes>"
      ]
     },
     "metadata": {},
     "output_type": "display_data"
    },
    {
     "data": {
      "text/plain": [
       "<Figure size 1000x400 with 0 Axes>"
      ]
     },
     "metadata": {},
     "output_type": "display_data"
    },
    {
     "data": {
      "text/plain": [
       "<Figure size 1000x400 with 0 Axes>"
      ]
     },
     "metadata": {},
     "output_type": "display_data"
    },
    {
     "data": {
      "text/plain": [
       "<Figure size 1000x400 with 0 Axes>"
      ]
     },
     "metadata": {},
     "output_type": "display_data"
    },
    {
     "data": {
      "text/plain": [
       "<Figure size 1000x400 with 0 Axes>"
      ]
     },
     "metadata": {},
     "output_type": "display_data"
    },
    {
     "data": {
      "text/plain": [
       "<Figure size 1000x400 with 0 Axes>"
      ]
     },
     "metadata": {},
     "output_type": "display_data"
    },
    {
     "data": {
      "text/plain": [
       "<Figure size 1000x400 with 0 Axes>"
      ]
     },
     "metadata": {},
     "output_type": "display_data"
    },
    {
     "data": {
      "text/plain": [
       "<Figure size 1000x400 with 0 Axes>"
      ]
     },
     "metadata": {},
     "output_type": "display_data"
    },
    {
     "data": {
      "text/plain": [
       "<Figure size 1000x400 with 0 Axes>"
      ]
     },
     "metadata": {},
     "output_type": "display_data"
    },
    {
     "data": {
      "text/plain": [
       "<Figure size 1000x400 with 0 Axes>"
      ]
     },
     "metadata": {},
     "output_type": "display_data"
    },
    {
     "data": {
      "text/plain": [
       "<Figure size 1000x400 with 0 Axes>"
      ]
     },
     "metadata": {},
     "output_type": "display_data"
    },
    {
     "data": {
      "text/plain": [
       "<Figure size 1000x400 with 0 Axes>"
      ]
     },
     "metadata": {},
     "output_type": "display_data"
    },
    {
     "data": {
      "text/plain": [
       "<Figure size 1000x400 with 0 Axes>"
      ]
     },
     "metadata": {},
     "output_type": "display_data"
    },
    {
     "data": {
      "text/plain": [
       "<Figure size 1000x400 with 0 Axes>"
      ]
     },
     "metadata": {},
     "output_type": "display_data"
    },
    {
     "data": {
      "text/plain": [
       "<Figure size 1000x400 with 0 Axes>"
      ]
     },
     "metadata": {},
     "output_type": "display_data"
    },
    {
     "data": {
      "text/plain": [
       "<Figure size 1000x400 with 0 Axes>"
      ]
     },
     "metadata": {},
     "output_type": "display_data"
    },
    {
     "data": {
      "text/plain": [
       "<Figure size 1000x400 with 0 Axes>"
      ]
     },
     "metadata": {},
     "output_type": "display_data"
    },
    {
     "data": {
      "text/plain": [
       "<Figure size 1000x400 with 0 Axes>"
      ]
     },
     "metadata": {},
     "output_type": "display_data"
    },
    {
     "data": {
      "text/plain": [
       "<Figure size 1000x400 with 0 Axes>"
      ]
     },
     "metadata": {},
     "output_type": "display_data"
    },
    {
     "data": {
      "text/plain": [
       "<Figure size 1000x400 with 0 Axes>"
      ]
     },
     "metadata": {},
     "output_type": "display_data"
    },
    {
     "data": {
      "text/plain": [
       "<Figure size 1000x400 with 0 Axes>"
      ]
     },
     "metadata": {},
     "output_type": "display_data"
    },
    {
     "data": {
      "text/plain": [
       "<Figure size 1000x400 with 0 Axes>"
      ]
     },
     "metadata": {},
     "output_type": "display_data"
    },
    {
     "data": {
      "text/plain": [
       "<Figure size 1000x400 with 0 Axes>"
      ]
     },
     "metadata": {},
     "output_type": "display_data"
    },
    {
     "data": {
      "text/plain": [
       "<Figure size 1000x400 with 0 Axes>"
      ]
     },
     "metadata": {},
     "output_type": "display_data"
    },
    {
     "data": {
      "text/plain": [
       "<Figure size 1000x400 with 0 Axes>"
      ]
     },
     "metadata": {},
     "output_type": "display_data"
    },
    {
     "data": {
      "text/plain": [
       "<Figure size 1000x400 with 0 Axes>"
      ]
     },
     "metadata": {},
     "output_type": "display_data"
    },
    {
     "data": {
      "text/plain": [
       "<Figure size 1000x400 with 0 Axes>"
      ]
     },
     "metadata": {},
     "output_type": "display_data"
    },
    {
     "data": {
      "text/plain": [
       "<Figure size 1000x400 with 0 Axes>"
      ]
     },
     "metadata": {},
     "output_type": "display_data"
    },
    {
     "data": {
      "text/plain": [
       "<Figure size 1000x400 with 0 Axes>"
      ]
     },
     "metadata": {},
     "output_type": "display_data"
    },
    {
     "data": {
      "text/plain": [
       "<Figure size 1000x400 with 0 Axes>"
      ]
     },
     "metadata": {},
     "output_type": "display_data"
    },
    {
     "data": {
      "text/plain": [
       "<Figure size 1000x400 with 0 Axes>"
      ]
     },
     "metadata": {},
     "output_type": "display_data"
    },
    {
     "data": {
      "text/plain": [
       "<Figure size 1000x400 with 0 Axes>"
      ]
     },
     "metadata": {},
     "output_type": "display_data"
    },
    {
     "data": {
      "text/plain": [
       "<Figure size 1000x400 with 0 Axes>"
      ]
     },
     "metadata": {},
     "output_type": "display_data"
    },
    {
     "data": {
      "text/plain": [
       "<Figure size 1000x400 with 0 Axes>"
      ]
     },
     "metadata": {},
     "output_type": "display_data"
    },
    {
     "data": {
      "text/plain": [
       "<Figure size 1000x400 with 0 Axes>"
      ]
     },
     "metadata": {},
     "output_type": "display_data"
    },
    {
     "data": {
      "text/plain": [
       "<Figure size 1000x400 with 0 Axes>"
      ]
     },
     "metadata": {},
     "output_type": "display_data"
    },
    {
     "data": {
      "text/plain": [
       "<Figure size 1000x400 with 0 Axes>"
      ]
     },
     "metadata": {},
     "output_type": "display_data"
    },
    {
     "data": {
      "text/plain": [
       "<Figure size 1000x400 with 0 Axes>"
      ]
     },
     "metadata": {},
     "output_type": "display_data"
    },
    {
     "data": {
      "text/plain": [
       "<Figure size 1000x400 with 0 Axes>"
      ]
     },
     "metadata": {},
     "output_type": "display_data"
    },
    {
     "data": {
      "text/plain": [
       "<Figure size 1000x400 with 0 Axes>"
      ]
     },
     "metadata": {},
     "output_type": "display_data"
    },
    {
     "data": {
      "text/plain": [
       "<Figure size 1000x400 with 0 Axes>"
      ]
     },
     "metadata": {},
     "output_type": "display_data"
    },
    {
     "data": {
      "text/plain": [
       "<Figure size 1000x400 with 0 Axes>"
      ]
     },
     "metadata": {},
     "output_type": "display_data"
    },
    {
     "data": {
      "text/plain": [
       "<Figure size 1000x400 with 0 Axes>"
      ]
     },
     "metadata": {},
     "output_type": "display_data"
    },
    {
     "data": {
      "text/plain": [
       "<Figure size 1000x400 with 0 Axes>"
      ]
     },
     "metadata": {},
     "output_type": "display_data"
    },
    {
     "data": {
      "text/plain": [
       "<Figure size 1000x400 with 0 Axes>"
      ]
     },
     "metadata": {},
     "output_type": "display_data"
    },
    {
     "data": {
      "text/plain": [
       "<Figure size 1000x400 with 0 Axes>"
      ]
     },
     "metadata": {},
     "output_type": "display_data"
    },
    {
     "data": {
      "text/plain": [
       "<Figure size 1000x400 with 0 Axes>"
      ]
     },
     "metadata": {},
     "output_type": "display_data"
    },
    {
     "data": {
      "text/plain": [
       "<Figure size 1000x400 with 0 Axes>"
      ]
     },
     "metadata": {},
     "output_type": "display_data"
    },
    {
     "data": {
      "text/plain": [
       "<Figure size 1000x400 with 0 Axes>"
      ]
     },
     "metadata": {},
     "output_type": "display_data"
    },
    {
     "data": {
      "text/plain": [
       "<Figure size 1000x400 with 0 Axes>"
      ]
     },
     "metadata": {},
     "output_type": "display_data"
    },
    {
     "data": {
      "text/plain": [
       "<Figure size 1000x400 with 0 Axes>"
      ]
     },
     "metadata": {},
     "output_type": "display_data"
    },
    {
     "data": {
      "text/plain": [
       "<Figure size 1000x400 with 0 Axes>"
      ]
     },
     "metadata": {},
     "output_type": "display_data"
    },
    {
     "data": {
      "text/plain": [
       "<Figure size 1000x400 with 0 Axes>"
      ]
     },
     "metadata": {},
     "output_type": "display_data"
    },
    {
     "data": {
      "text/plain": [
       "<Figure size 1000x400 with 0 Axes>"
      ]
     },
     "metadata": {},
     "output_type": "display_data"
    },
    {
     "data": {
      "text/plain": [
       "<Figure size 1000x400 with 0 Axes>"
      ]
     },
     "metadata": {},
     "output_type": "display_data"
    },
    {
     "data": {
      "text/plain": [
       "<Figure size 1000x400 with 0 Axes>"
      ]
     },
     "metadata": {},
     "output_type": "display_data"
    },
    {
     "data": {
      "text/plain": [
       "<Figure size 1000x400 with 0 Axes>"
      ]
     },
     "metadata": {},
     "output_type": "display_data"
    },
    {
     "data": {
      "text/plain": [
       "<Figure size 1000x400 with 0 Axes>"
      ]
     },
     "metadata": {},
     "output_type": "display_data"
    },
    {
     "data": {
      "text/plain": [
       "<Figure size 1000x400 with 0 Axes>"
      ]
     },
     "metadata": {},
     "output_type": "display_data"
    },
    {
     "data": {
      "text/plain": [
       "<Figure size 1000x400 with 0 Axes>"
      ]
     },
     "metadata": {},
     "output_type": "display_data"
    },
    {
     "data": {
      "text/plain": [
       "<Figure size 1000x400 with 0 Axes>"
      ]
     },
     "metadata": {},
     "output_type": "display_data"
    },
    {
     "data": {
      "text/plain": [
       "<Figure size 1000x400 with 0 Axes>"
      ]
     },
     "metadata": {},
     "output_type": "display_data"
    },
    {
     "data": {
      "text/plain": [
       "<Figure size 1000x400 with 0 Axes>"
      ]
     },
     "metadata": {},
     "output_type": "display_data"
    },
    {
     "data": {
      "text/plain": [
       "<Figure size 1000x400 with 0 Axes>"
      ]
     },
     "metadata": {},
     "output_type": "display_data"
    },
    {
     "data": {
      "text/plain": [
       "<Figure size 1000x400 with 0 Axes>"
      ]
     },
     "metadata": {},
     "output_type": "display_data"
    },
    {
     "data": {
      "text/plain": [
       "<Figure size 1000x400 with 0 Axes>"
      ]
     },
     "metadata": {},
     "output_type": "display_data"
    },
    {
     "data": {
      "text/plain": [
       "<Figure size 1000x400 with 0 Axes>"
      ]
     },
     "metadata": {},
     "output_type": "display_data"
    },
    {
     "data": {
      "text/plain": [
       "<Figure size 1000x400 with 0 Axes>"
      ]
     },
     "metadata": {},
     "output_type": "display_data"
    },
    {
     "data": {
      "text/plain": [
       "<Figure size 1000x400 with 0 Axes>"
      ]
     },
     "metadata": {},
     "output_type": "display_data"
    },
    {
     "data": {
      "text/plain": [
       "<Figure size 1000x400 with 0 Axes>"
      ]
     },
     "metadata": {},
     "output_type": "display_data"
    },
    {
     "data": {
      "text/plain": [
       "<Figure size 1000x400 with 0 Axes>"
      ]
     },
     "metadata": {},
     "output_type": "display_data"
    },
    {
     "data": {
      "text/plain": [
       "<Figure size 1000x400 with 0 Axes>"
      ]
     },
     "metadata": {},
     "output_type": "display_data"
    },
    {
     "data": {
      "text/plain": [
       "<Figure size 1000x400 with 0 Axes>"
      ]
     },
     "metadata": {},
     "output_type": "display_data"
    },
    {
     "data": {
      "text/plain": [
       "<Figure size 1000x400 with 0 Axes>"
      ]
     },
     "metadata": {},
     "output_type": "display_data"
    },
    {
     "data": {
      "text/plain": [
       "<Figure size 1000x400 with 0 Axes>"
      ]
     },
     "metadata": {},
     "output_type": "display_data"
    },
    {
     "data": {
      "text/plain": [
       "<Figure size 1000x400 with 0 Axes>"
      ]
     },
     "metadata": {},
     "output_type": "display_data"
    },
    {
     "data": {
      "text/plain": [
       "<Figure size 1000x400 with 0 Axes>"
      ]
     },
     "metadata": {},
     "output_type": "display_data"
    },
    {
     "data": {
      "text/plain": [
       "<Figure size 1000x400 with 0 Axes>"
      ]
     },
     "metadata": {},
     "output_type": "display_data"
    },
    {
     "data": {
      "text/plain": [
       "<Figure size 1000x400 with 0 Axes>"
      ]
     },
     "metadata": {},
     "output_type": "display_data"
    },
    {
     "data": {
      "text/plain": [
       "<Figure size 1000x400 with 0 Axes>"
      ]
     },
     "metadata": {},
     "output_type": "display_data"
    },
    {
     "data": {
      "text/plain": [
       "<Figure size 1000x400 with 0 Axes>"
      ]
     },
     "metadata": {},
     "output_type": "display_data"
    },
    {
     "data": {
      "text/plain": [
       "<Figure size 1000x400 with 0 Axes>"
      ]
     },
     "metadata": {},
     "output_type": "display_data"
    },
    {
     "data": {
      "text/plain": [
       "<Figure size 1000x400 with 0 Axes>"
      ]
     },
     "metadata": {},
     "output_type": "display_data"
    },
    {
     "data": {
      "text/plain": [
       "<Figure size 1000x400 with 0 Axes>"
      ]
     },
     "metadata": {},
     "output_type": "display_data"
    },
    {
     "data": {
      "text/plain": [
       "<Figure size 1000x400 with 0 Axes>"
      ]
     },
     "metadata": {},
     "output_type": "display_data"
    },
    {
     "data": {
      "text/plain": [
       "<Figure size 1000x400 with 0 Axes>"
      ]
     },
     "metadata": {},
     "output_type": "display_data"
    },
    {
     "data": {
      "text/plain": [
       "<Figure size 1000x400 with 0 Axes>"
      ]
     },
     "metadata": {},
     "output_type": "display_data"
    },
    {
     "data": {
      "text/plain": [
       "<Figure size 1000x400 with 0 Axes>"
      ]
     },
     "metadata": {},
     "output_type": "display_data"
    },
    {
     "data": {
      "text/plain": [
       "<Figure size 1000x400 with 0 Axes>"
      ]
     },
     "metadata": {},
     "output_type": "display_data"
    },
    {
     "data": {
      "text/plain": [
       "<Figure size 1000x400 with 0 Axes>"
      ]
     },
     "metadata": {},
     "output_type": "display_data"
    },
    {
     "data": {
      "text/plain": [
       "<Figure size 1000x400 with 0 Axes>"
      ]
     },
     "metadata": {},
     "output_type": "display_data"
    },
    {
     "data": {
      "text/plain": [
       "<Figure size 1000x400 with 0 Axes>"
      ]
     },
     "metadata": {},
     "output_type": "display_data"
    },
    {
     "data": {
      "text/plain": [
       "<Figure size 1000x400 with 0 Axes>"
      ]
     },
     "metadata": {},
     "output_type": "display_data"
    },
    {
     "data": {
      "text/plain": [
       "<Figure size 1000x400 with 0 Axes>"
      ]
     },
     "metadata": {},
     "output_type": "display_data"
    },
    {
     "data": {
      "text/plain": [
       "<Figure size 1000x400 with 0 Axes>"
      ]
     },
     "metadata": {},
     "output_type": "display_data"
    },
    {
     "data": {
      "text/plain": [
       "<Figure size 1000x400 with 0 Axes>"
      ]
     },
     "metadata": {},
     "output_type": "display_data"
    },
    {
     "data": {
      "text/plain": [
       "<Figure size 1000x400 with 0 Axes>"
      ]
     },
     "metadata": {},
     "output_type": "display_data"
    },
    {
     "data": {
      "text/plain": [
       "<Figure size 1000x400 with 0 Axes>"
      ]
     },
     "metadata": {},
     "output_type": "display_data"
    },
    {
     "data": {
      "text/plain": [
       "<Figure size 1000x400 with 0 Axes>"
      ]
     },
     "metadata": {},
     "output_type": "display_data"
    },
    {
     "data": {
      "text/plain": [
       "<Figure size 1000x400 with 0 Axes>"
      ]
     },
     "metadata": {},
     "output_type": "display_data"
    },
    {
     "data": {
      "text/plain": [
       "<Figure size 1000x400 with 0 Axes>"
      ]
     },
     "metadata": {},
     "output_type": "display_data"
    },
    {
     "data": {
      "text/plain": [
       "<Figure size 1000x400 with 0 Axes>"
      ]
     },
     "metadata": {},
     "output_type": "display_data"
    },
    {
     "data": {
      "text/plain": [
       "<Figure size 1000x400 with 0 Axes>"
      ]
     },
     "metadata": {},
     "output_type": "display_data"
    },
    {
     "data": {
      "text/plain": [
       "<Figure size 1000x400 with 0 Axes>"
      ]
     },
     "metadata": {},
     "output_type": "display_data"
    },
    {
     "data": {
      "text/plain": [
       "<Figure size 1000x400 with 0 Axes>"
      ]
     },
     "metadata": {},
     "output_type": "display_data"
    },
    {
     "data": {
      "text/plain": [
       "<Figure size 1000x400 with 0 Axes>"
      ]
     },
     "metadata": {},
     "output_type": "display_data"
    },
    {
     "data": {
      "text/plain": [
       "<Figure size 1000x400 with 0 Axes>"
      ]
     },
     "metadata": {},
     "output_type": "display_data"
    },
    {
     "data": {
      "text/plain": [
       "<Figure size 1000x400 with 0 Axes>"
      ]
     },
     "metadata": {},
     "output_type": "display_data"
    },
    {
     "data": {
      "text/plain": [
       "<Figure size 1000x400 with 0 Axes>"
      ]
     },
     "metadata": {},
     "output_type": "display_data"
    },
    {
     "data": {
      "text/plain": [
       "<Figure size 1000x400 with 0 Axes>"
      ]
     },
     "metadata": {},
     "output_type": "display_data"
    },
    {
     "data": {
      "text/plain": [
       "<Figure size 1000x400 with 0 Axes>"
      ]
     },
     "metadata": {},
     "output_type": "display_data"
    },
    {
     "data": {
      "text/plain": [
       "<Figure size 1000x400 with 0 Axes>"
      ]
     },
     "metadata": {},
     "output_type": "display_data"
    },
    {
     "data": {
      "text/plain": [
       "<Figure size 1000x400 with 0 Axes>"
      ]
     },
     "metadata": {},
     "output_type": "display_data"
    },
    {
     "data": {
      "text/plain": [
       "<Figure size 1000x400 with 0 Axes>"
      ]
     },
     "metadata": {},
     "output_type": "display_data"
    },
    {
     "data": {
      "text/plain": [
       "<Figure size 1000x400 with 0 Axes>"
      ]
     },
     "metadata": {},
     "output_type": "display_data"
    },
    {
     "data": {
      "text/plain": [
       "<Figure size 1000x400 with 0 Axes>"
      ]
     },
     "metadata": {},
     "output_type": "display_data"
    },
    {
     "data": {
      "text/plain": [
       "<Figure size 1000x400 with 0 Axes>"
      ]
     },
     "metadata": {},
     "output_type": "display_data"
    },
    {
     "data": {
      "text/plain": [
       "<Figure size 1000x400 with 0 Axes>"
      ]
     },
     "metadata": {},
     "output_type": "display_data"
    },
    {
     "data": {
      "text/plain": [
       "<Figure size 1000x400 with 0 Axes>"
      ]
     },
     "metadata": {},
     "output_type": "display_data"
    },
    {
     "data": {
      "text/plain": [
       "<Figure size 1000x400 with 0 Axes>"
      ]
     },
     "metadata": {},
     "output_type": "display_data"
    },
    {
     "data": {
      "text/plain": [
       "<Figure size 1000x400 with 0 Axes>"
      ]
     },
     "metadata": {},
     "output_type": "display_data"
    },
    {
     "data": {
      "text/plain": [
       "<Figure size 1000x400 with 0 Axes>"
      ]
     },
     "metadata": {},
     "output_type": "display_data"
    },
    {
     "data": {
      "text/plain": [
       "<Figure size 1000x400 with 0 Axes>"
      ]
     },
     "metadata": {},
     "output_type": "display_data"
    },
    {
     "data": {
      "text/plain": [
       "<Figure size 1000x400 with 0 Axes>"
      ]
     },
     "metadata": {},
     "output_type": "display_data"
    },
    {
     "data": {
      "text/plain": [
       "<Figure size 1000x400 with 0 Axes>"
      ]
     },
     "metadata": {},
     "output_type": "display_data"
    },
    {
     "data": {
      "text/plain": [
       "<Figure size 1000x400 with 0 Axes>"
      ]
     },
     "metadata": {},
     "output_type": "display_data"
    },
    {
     "data": {
      "text/plain": [
       "<Figure size 1000x400 with 0 Axes>"
      ]
     },
     "metadata": {},
     "output_type": "display_data"
    },
    {
     "data": {
      "text/plain": [
       "<Figure size 1000x400 with 0 Axes>"
      ]
     },
     "metadata": {},
     "output_type": "display_data"
    },
    {
     "data": {
      "text/plain": [
       "<Figure size 1000x400 with 0 Axes>"
      ]
     },
     "metadata": {},
     "output_type": "display_data"
    },
    {
     "data": {
      "text/plain": [
       "<Figure size 1000x400 with 0 Axes>"
      ]
     },
     "metadata": {},
     "output_type": "display_data"
    },
    {
     "data": {
      "text/plain": [
       "<Figure size 1000x400 with 0 Axes>"
      ]
     },
     "metadata": {},
     "output_type": "display_data"
    },
    {
     "data": {
      "text/plain": [
       "<Figure size 1000x400 with 0 Axes>"
      ]
     },
     "metadata": {},
     "output_type": "display_data"
    },
    {
     "data": {
      "text/plain": [
       "<Figure size 1000x400 with 0 Axes>"
      ]
     },
     "metadata": {},
     "output_type": "display_data"
    },
    {
     "data": {
      "text/plain": [
       "<Figure size 1000x400 with 0 Axes>"
      ]
     },
     "metadata": {},
     "output_type": "display_data"
    },
    {
     "data": {
      "text/plain": [
       "<Figure size 1000x400 with 0 Axes>"
      ]
     },
     "metadata": {},
     "output_type": "display_data"
    },
    {
     "data": {
      "text/plain": [
       "<Figure size 1000x400 with 0 Axes>"
      ]
     },
     "metadata": {},
     "output_type": "display_data"
    },
    {
     "data": {
      "text/plain": [
       "<Figure size 1000x400 with 0 Axes>"
      ]
     },
     "metadata": {},
     "output_type": "display_data"
    },
    {
     "data": {
      "text/plain": [
       "<Figure size 1000x400 with 0 Axes>"
      ]
     },
     "metadata": {},
     "output_type": "display_data"
    },
    {
     "data": {
      "text/plain": [
       "<Figure size 1000x400 with 0 Axes>"
      ]
     },
     "metadata": {},
     "output_type": "display_data"
    },
    {
     "data": {
      "text/plain": [
       "<Figure size 1000x400 with 0 Axes>"
      ]
     },
     "metadata": {},
     "output_type": "display_data"
    },
    {
     "data": {
      "text/plain": [
       "<Figure size 1000x400 with 0 Axes>"
      ]
     },
     "metadata": {},
     "output_type": "display_data"
    },
    {
     "data": {
      "text/plain": [
       "<Figure size 1000x400 with 0 Axes>"
      ]
     },
     "metadata": {},
     "output_type": "display_data"
    },
    {
     "data": {
      "text/plain": [
       "<Figure size 1000x400 with 0 Axes>"
      ]
     },
     "metadata": {},
     "output_type": "display_data"
    },
    {
     "data": {
      "text/plain": [
       "<Figure size 1000x400 with 0 Axes>"
      ]
     },
     "metadata": {},
     "output_type": "display_data"
    },
    {
     "data": {
      "text/plain": [
       "<Figure size 1000x400 with 0 Axes>"
      ]
     },
     "metadata": {},
     "output_type": "display_data"
    },
    {
     "data": {
      "text/plain": [
       "<Figure size 1000x400 with 0 Axes>"
      ]
     },
     "metadata": {},
     "output_type": "display_data"
    },
    {
     "data": {
      "text/plain": [
       "<Figure size 1000x400 with 0 Axes>"
      ]
     },
     "metadata": {},
     "output_type": "display_data"
    },
    {
     "data": {
      "text/plain": [
       "<Figure size 1000x400 with 0 Axes>"
      ]
     },
     "metadata": {},
     "output_type": "display_data"
    },
    {
     "data": {
      "text/plain": [
       "<Figure size 1000x400 with 0 Axes>"
      ]
     },
     "metadata": {},
     "output_type": "display_data"
    },
    {
     "data": {
      "text/plain": [
       "<Figure size 1000x400 with 0 Axes>"
      ]
     },
     "metadata": {},
     "output_type": "display_data"
    },
    {
     "data": {
      "text/plain": [
       "<Figure size 1000x400 with 0 Axes>"
      ]
     },
     "metadata": {},
     "output_type": "display_data"
    },
    {
     "data": {
      "text/plain": [
       "<Figure size 1000x400 with 0 Axes>"
      ]
     },
     "metadata": {},
     "output_type": "display_data"
    },
    {
     "data": {
      "text/plain": [
       "<Figure size 1000x400 with 0 Axes>"
      ]
     },
     "metadata": {},
     "output_type": "display_data"
    },
    {
     "data": {
      "text/plain": [
       "<Figure size 1000x400 with 0 Axes>"
      ]
     },
     "metadata": {},
     "output_type": "display_data"
    },
    {
     "data": {
      "text/plain": [
       "<Figure size 1000x400 with 0 Axes>"
      ]
     },
     "metadata": {},
     "output_type": "display_data"
    },
    {
     "data": {
      "text/plain": [
       "<Figure size 1000x400 with 0 Axes>"
      ]
     },
     "metadata": {},
     "output_type": "display_data"
    },
    {
     "data": {
      "text/plain": [
       "<Figure size 1000x400 with 0 Axes>"
      ]
     },
     "metadata": {},
     "output_type": "display_data"
    },
    {
     "data": {
      "text/plain": [
       "<Figure size 1000x400 with 0 Axes>"
      ]
     },
     "metadata": {},
     "output_type": "display_data"
    },
    {
     "data": {
      "text/plain": [
       "<Figure size 1000x400 with 0 Axes>"
      ]
     },
     "metadata": {},
     "output_type": "display_data"
    },
    {
     "data": {
      "text/plain": [
       "<Figure size 1000x400 with 0 Axes>"
      ]
     },
     "metadata": {},
     "output_type": "display_data"
    },
    {
     "data": {
      "text/plain": [
       "<Figure size 1000x400 with 0 Axes>"
      ]
     },
     "metadata": {},
     "output_type": "display_data"
    },
    {
     "data": {
      "text/plain": [
       "<Figure size 1000x400 with 0 Axes>"
      ]
     },
     "metadata": {},
     "output_type": "display_data"
    },
    {
     "data": {
      "text/plain": [
       "<Figure size 1000x400 with 0 Axes>"
      ]
     },
     "metadata": {},
     "output_type": "display_data"
    },
    {
     "data": {
      "text/plain": [
       "<Figure size 1000x400 with 0 Axes>"
      ]
     },
     "metadata": {},
     "output_type": "display_data"
    },
    {
     "data": {
      "text/plain": [
       "<Figure size 1000x400 with 0 Axes>"
      ]
     },
     "metadata": {},
     "output_type": "display_data"
    },
    {
     "data": {
      "text/plain": [
       "<Figure size 1000x400 with 0 Axes>"
      ]
     },
     "metadata": {},
     "output_type": "display_data"
    },
    {
     "data": {
      "text/plain": [
       "<Figure size 1000x400 with 0 Axes>"
      ]
     },
     "metadata": {},
     "output_type": "display_data"
    },
    {
     "data": {
      "text/plain": [
       "<Figure size 1000x400 with 0 Axes>"
      ]
     },
     "metadata": {},
     "output_type": "display_data"
    },
    {
     "data": {
      "text/plain": [
       "<Figure size 1000x400 with 0 Axes>"
      ]
     },
     "metadata": {},
     "output_type": "display_data"
    },
    {
     "data": {
      "text/plain": [
       "<Figure size 1000x400 with 0 Axes>"
      ]
     },
     "metadata": {},
     "output_type": "display_data"
    },
    {
     "data": {
      "text/plain": [
       "<Figure size 1000x400 with 0 Axes>"
      ]
     },
     "metadata": {},
     "output_type": "display_data"
    },
    {
     "data": {
      "text/plain": [
       "<Figure size 1000x400 with 0 Axes>"
      ]
     },
     "metadata": {},
     "output_type": "display_data"
    },
    {
     "data": {
      "text/plain": [
       "<Figure size 1000x400 with 0 Axes>"
      ]
     },
     "metadata": {},
     "output_type": "display_data"
    },
    {
     "data": {
      "text/plain": [
       "<Figure size 1000x400 with 0 Axes>"
      ]
     },
     "metadata": {},
     "output_type": "display_data"
    },
    {
     "data": {
      "text/plain": [
       "<Figure size 1000x400 with 0 Axes>"
      ]
     },
     "metadata": {},
     "output_type": "display_data"
    },
    {
     "data": {
      "text/plain": [
       "<Figure size 1000x400 with 0 Axes>"
      ]
     },
     "metadata": {},
     "output_type": "display_data"
    },
    {
     "data": {
      "text/plain": [
       "<Figure size 1000x400 with 0 Axes>"
      ]
     },
     "metadata": {},
     "output_type": "display_data"
    },
    {
     "data": {
      "text/plain": [
       "<Figure size 1000x400 with 0 Axes>"
      ]
     },
     "metadata": {},
     "output_type": "display_data"
    },
    {
     "data": {
      "text/plain": [
       "<Figure size 1000x400 with 0 Axes>"
      ]
     },
     "metadata": {},
     "output_type": "display_data"
    },
    {
     "data": {
      "text/plain": [
       "<Figure size 1000x400 with 0 Axes>"
      ]
     },
     "metadata": {},
     "output_type": "display_data"
    },
    {
     "data": {
      "text/plain": [
       "<Figure size 1000x400 with 0 Axes>"
      ]
     },
     "metadata": {},
     "output_type": "display_data"
    },
    {
     "data": {
      "text/plain": [
       "<Figure size 1000x400 with 0 Axes>"
      ]
     },
     "metadata": {},
     "output_type": "display_data"
    },
    {
     "data": {
      "text/plain": [
       "<Figure size 1000x400 with 0 Axes>"
      ]
     },
     "metadata": {},
     "output_type": "display_data"
    },
    {
     "data": {
      "text/plain": [
       "<Figure size 1000x400 with 0 Axes>"
      ]
     },
     "metadata": {},
     "output_type": "display_data"
    },
    {
     "data": {
      "text/plain": [
       "<Figure size 1000x400 with 0 Axes>"
      ]
     },
     "metadata": {},
     "output_type": "display_data"
    },
    {
     "data": {
      "text/plain": [
       "<Figure size 1000x400 with 0 Axes>"
      ]
     },
     "metadata": {},
     "output_type": "display_data"
    },
    {
     "data": {
      "text/plain": [
       "<Figure size 1000x400 with 0 Axes>"
      ]
     },
     "metadata": {},
     "output_type": "display_data"
    },
    {
     "data": {
      "text/plain": [
       "<Figure size 1000x400 with 0 Axes>"
      ]
     },
     "metadata": {},
     "output_type": "display_data"
    },
    {
     "data": {
      "text/plain": [
       "<Figure size 1000x400 with 0 Axes>"
      ]
     },
     "metadata": {},
     "output_type": "display_data"
    },
    {
     "data": {
      "text/plain": [
       "<Figure size 1000x400 with 0 Axes>"
      ]
     },
     "metadata": {},
     "output_type": "display_data"
    },
    {
     "data": {
      "text/plain": [
       "<Figure size 1000x400 with 0 Axes>"
      ]
     },
     "metadata": {},
     "output_type": "display_data"
    },
    {
     "data": {
      "text/plain": [
       "<Figure size 1000x400 with 0 Axes>"
      ]
     },
     "metadata": {},
     "output_type": "display_data"
    },
    {
     "data": {
      "text/plain": [
       "<Figure size 1000x400 with 0 Axes>"
      ]
     },
     "metadata": {},
     "output_type": "display_data"
    },
    {
     "data": {
      "text/plain": [
       "<Figure size 1000x400 with 0 Axes>"
      ]
     },
     "metadata": {},
     "output_type": "display_data"
    },
    {
     "data": {
      "text/plain": [
       "<Figure size 1000x400 with 0 Axes>"
      ]
     },
     "metadata": {},
     "output_type": "display_data"
    },
    {
     "data": {
      "text/plain": [
       "<Figure size 1000x400 with 0 Axes>"
      ]
     },
     "metadata": {},
     "output_type": "display_data"
    },
    {
     "data": {
      "text/plain": [
       "<Figure size 1000x400 with 0 Axes>"
      ]
     },
     "metadata": {},
     "output_type": "display_data"
    },
    {
     "data": {
      "text/plain": [
       "<Figure size 1000x400 with 0 Axes>"
      ]
     },
     "metadata": {},
     "output_type": "display_data"
    },
    {
     "data": {
      "text/plain": [
       "<Figure size 1000x400 with 0 Axes>"
      ]
     },
     "metadata": {},
     "output_type": "display_data"
    },
    {
     "data": {
      "text/plain": [
       "<Figure size 1000x400 with 0 Axes>"
      ]
     },
     "metadata": {},
     "output_type": "display_data"
    },
    {
     "data": {
      "text/plain": [
       "<Figure size 1000x400 with 0 Axes>"
      ]
     },
     "metadata": {},
     "output_type": "display_data"
    },
    {
     "data": {
      "text/plain": [
       "<Figure size 1000x400 with 0 Axes>"
      ]
     },
     "metadata": {},
     "output_type": "display_data"
    },
    {
     "data": {
      "text/plain": [
       "<Figure size 1000x400 with 0 Axes>"
      ]
     },
     "metadata": {},
     "output_type": "display_data"
    },
    {
     "data": {
      "text/plain": [
       "<Figure size 1000x400 with 0 Axes>"
      ]
     },
     "metadata": {},
     "output_type": "display_data"
    },
    {
     "data": {
      "text/plain": [
       "<Figure size 1000x400 with 0 Axes>"
      ]
     },
     "metadata": {},
     "output_type": "display_data"
    },
    {
     "data": {
      "text/plain": [
       "<Figure size 1000x400 with 0 Axes>"
      ]
     },
     "metadata": {},
     "output_type": "display_data"
    },
    {
     "data": {
      "text/plain": [
       "<Figure size 1000x400 with 0 Axes>"
      ]
     },
     "metadata": {},
     "output_type": "display_data"
    },
    {
     "data": {
      "text/plain": [
       "<Figure size 1000x400 with 0 Axes>"
      ]
     },
     "metadata": {},
     "output_type": "display_data"
    },
    {
     "data": {
      "text/plain": [
       "<Figure size 1000x400 with 0 Axes>"
      ]
     },
     "metadata": {},
     "output_type": "display_data"
    },
    {
     "data": {
      "text/plain": [
       "<Figure size 1000x400 with 0 Axes>"
      ]
     },
     "metadata": {},
     "output_type": "display_data"
    },
    {
     "data": {
      "text/plain": [
       "<Figure size 1000x400 with 0 Axes>"
      ]
     },
     "metadata": {},
     "output_type": "display_data"
    },
    {
     "data": {
      "text/plain": [
       "<Figure size 1000x400 with 0 Axes>"
      ]
     },
     "metadata": {},
     "output_type": "display_data"
    },
    {
     "data": {
      "text/plain": [
       "<Figure size 1000x400 with 0 Axes>"
      ]
     },
     "metadata": {},
     "output_type": "display_data"
    },
    {
     "data": {
      "text/plain": [
       "<Figure size 1000x400 with 0 Axes>"
      ]
     },
     "metadata": {},
     "output_type": "display_data"
    },
    {
     "data": {
      "text/plain": [
       "<Figure size 1000x400 with 0 Axes>"
      ]
     },
     "metadata": {},
     "output_type": "display_data"
    },
    {
     "data": {
      "text/plain": [
       "<Figure size 1000x400 with 0 Axes>"
      ]
     },
     "metadata": {},
     "output_type": "display_data"
    },
    {
     "data": {
      "text/plain": [
       "<Figure size 1000x400 with 0 Axes>"
      ]
     },
     "metadata": {},
     "output_type": "display_data"
    },
    {
     "data": {
      "text/plain": [
       "<Figure size 1000x400 with 0 Axes>"
      ]
     },
     "metadata": {},
     "output_type": "display_data"
    },
    {
     "data": {
      "text/plain": [
       "<Figure size 1000x400 with 0 Axes>"
      ]
     },
     "metadata": {},
     "output_type": "display_data"
    },
    {
     "data": {
      "text/plain": [
       "<Figure size 1000x400 with 0 Axes>"
      ]
     },
     "metadata": {},
     "output_type": "display_data"
    },
    {
     "data": {
      "text/plain": [
       "<Figure size 1000x400 with 0 Axes>"
      ]
     },
     "metadata": {},
     "output_type": "display_data"
    },
    {
     "data": {
      "text/plain": [
       "<Figure size 1000x400 with 0 Axes>"
      ]
     },
     "metadata": {},
     "output_type": "display_data"
    },
    {
     "data": {
      "text/plain": [
       "<Figure size 1000x400 with 0 Axes>"
      ]
     },
     "metadata": {},
     "output_type": "display_data"
    },
    {
     "data": {
      "text/plain": [
       "<Figure size 1000x400 with 0 Axes>"
      ]
     },
     "metadata": {},
     "output_type": "display_data"
    },
    {
     "data": {
      "text/plain": [
       "<Figure size 1000x400 with 0 Axes>"
      ]
     },
     "metadata": {},
     "output_type": "display_data"
    },
    {
     "data": {
      "text/plain": [
       "<Figure size 1000x400 with 0 Axes>"
      ]
     },
     "metadata": {},
     "output_type": "display_data"
    },
    {
     "data": {
      "text/plain": [
       "<Figure size 1000x400 with 0 Axes>"
      ]
     },
     "metadata": {},
     "output_type": "display_data"
    },
    {
     "data": {
      "text/plain": [
       "<Figure size 1000x400 with 0 Axes>"
      ]
     },
     "metadata": {},
     "output_type": "display_data"
    },
    {
     "data": {
      "text/plain": [
       "<Figure size 1000x400 with 0 Axes>"
      ]
     },
     "metadata": {},
     "output_type": "display_data"
    },
    {
     "data": {
      "text/plain": [
       "<Figure size 1000x400 with 0 Axes>"
      ]
     },
     "metadata": {},
     "output_type": "display_data"
    },
    {
     "data": {
      "text/plain": [
       "<Figure size 1000x400 with 0 Axes>"
      ]
     },
     "metadata": {},
     "output_type": "display_data"
    },
    {
     "data": {
      "text/plain": [
       "<Figure size 1000x400 with 0 Axes>"
      ]
     },
     "metadata": {},
     "output_type": "display_data"
    },
    {
     "data": {
      "text/plain": [
       "<Figure size 1000x400 with 0 Axes>"
      ]
     },
     "metadata": {},
     "output_type": "display_data"
    },
    {
     "data": {
      "text/plain": [
       "<Figure size 1000x400 with 0 Axes>"
      ]
     },
     "metadata": {},
     "output_type": "display_data"
    },
    {
     "data": {
      "text/plain": [
       "<Figure size 1000x400 with 0 Axes>"
      ]
     },
     "metadata": {},
     "output_type": "display_data"
    },
    {
     "data": {
      "text/plain": [
       "<Figure size 1000x400 with 0 Axes>"
      ]
     },
     "metadata": {},
     "output_type": "display_data"
    },
    {
     "data": {
      "text/plain": [
       "<Figure size 1000x400 with 0 Axes>"
      ]
     },
     "metadata": {},
     "output_type": "display_data"
    },
    {
     "data": {
      "text/plain": [
       "<Figure size 1000x400 with 0 Axes>"
      ]
     },
     "metadata": {},
     "output_type": "display_data"
    },
    {
     "data": {
      "text/plain": [
       "<Figure size 1000x400 with 0 Axes>"
      ]
     },
     "metadata": {},
     "output_type": "display_data"
    },
    {
     "data": {
      "text/plain": [
       "<Figure size 1000x400 with 0 Axes>"
      ]
     },
     "metadata": {},
     "output_type": "display_data"
    },
    {
     "data": {
      "text/plain": [
       "<Figure size 1000x400 with 0 Axes>"
      ]
     },
     "metadata": {},
     "output_type": "display_data"
    },
    {
     "data": {
      "text/plain": [
       "<Figure size 1000x400 with 0 Axes>"
      ]
     },
     "metadata": {},
     "output_type": "display_data"
    },
    {
     "data": {
      "text/plain": [
       "<Figure size 1000x400 with 0 Axes>"
      ]
     },
     "metadata": {},
     "output_type": "display_data"
    },
    {
     "data": {
      "text/plain": [
       "<Figure size 1000x400 with 0 Axes>"
      ]
     },
     "metadata": {},
     "output_type": "display_data"
    },
    {
     "data": {
      "text/plain": [
       "<Figure size 1000x400 with 0 Axes>"
      ]
     },
     "metadata": {},
     "output_type": "display_data"
    },
    {
     "data": {
      "text/plain": [
       "<Figure size 1000x400 with 0 Axes>"
      ]
     },
     "metadata": {},
     "output_type": "display_data"
    },
    {
     "data": {
      "text/plain": [
       "<Figure size 1000x400 with 0 Axes>"
      ]
     },
     "metadata": {},
     "output_type": "display_data"
    },
    {
     "data": {
      "text/plain": [
       "<Figure size 1000x400 with 0 Axes>"
      ]
     },
     "metadata": {},
     "output_type": "display_data"
    },
    {
     "data": {
      "text/plain": [
       "<Figure size 1000x400 with 0 Axes>"
      ]
     },
     "metadata": {},
     "output_type": "display_data"
    },
    {
     "data": {
      "text/plain": [
       "<Figure size 1000x400 with 0 Axes>"
      ]
     },
     "metadata": {},
     "output_type": "display_data"
    },
    {
     "data": {
      "text/plain": [
       "<Figure size 1000x400 with 0 Axes>"
      ]
     },
     "metadata": {},
     "output_type": "display_data"
    },
    {
     "data": {
      "text/plain": [
       "<Figure size 1000x400 with 0 Axes>"
      ]
     },
     "metadata": {},
     "output_type": "display_data"
    },
    {
     "data": {
      "text/plain": [
       "<Figure size 1000x400 with 0 Axes>"
      ]
     },
     "metadata": {},
     "output_type": "display_data"
    },
    {
     "data": {
      "text/plain": [
       "<Figure size 1000x400 with 0 Axes>"
      ]
     },
     "metadata": {},
     "output_type": "display_data"
    },
    {
     "data": {
      "text/plain": [
       "<Figure size 1000x400 with 0 Axes>"
      ]
     },
     "metadata": {},
     "output_type": "display_data"
    },
    {
     "data": {
      "text/plain": [
       "<Figure size 1000x400 with 0 Axes>"
      ]
     },
     "metadata": {},
     "output_type": "display_data"
    },
    {
     "data": {
      "text/plain": [
       "<Figure size 1000x400 with 0 Axes>"
      ]
     },
     "metadata": {},
     "output_type": "display_data"
    },
    {
     "data": {
      "text/plain": [
       "<Figure size 1000x400 with 0 Axes>"
      ]
     },
     "metadata": {},
     "output_type": "display_data"
    },
    {
     "data": {
      "text/plain": [
       "<Figure size 1000x400 with 0 Axes>"
      ]
     },
     "metadata": {},
     "output_type": "display_data"
    },
    {
     "data": {
      "text/plain": [
       "<Figure size 1000x400 with 0 Axes>"
      ]
     },
     "metadata": {},
     "output_type": "display_data"
    },
    {
     "data": {
      "text/plain": [
       "<Figure size 1000x400 with 0 Axes>"
      ]
     },
     "metadata": {},
     "output_type": "display_data"
    },
    {
     "data": {
      "text/plain": [
       "<Figure size 1000x400 with 0 Axes>"
      ]
     },
     "metadata": {},
     "output_type": "display_data"
    },
    {
     "data": {
      "text/plain": [
       "<Figure size 1000x400 with 0 Axes>"
      ]
     },
     "metadata": {},
     "output_type": "display_data"
    },
    {
     "data": {
      "text/plain": [
       "<Figure size 1000x400 with 0 Axes>"
      ]
     },
     "metadata": {},
     "output_type": "display_data"
    },
    {
     "data": {
      "text/plain": [
       "<Figure size 1000x400 with 0 Axes>"
      ]
     },
     "metadata": {},
     "output_type": "display_data"
    },
    {
     "data": {
      "text/plain": [
       "<Figure size 1000x400 with 0 Axes>"
      ]
     },
     "metadata": {},
     "output_type": "display_data"
    },
    {
     "data": {
      "text/plain": [
       "<Figure size 1000x400 with 0 Axes>"
      ]
     },
     "metadata": {},
     "output_type": "display_data"
    },
    {
     "data": {
      "text/plain": [
       "<Figure size 1000x400 with 0 Axes>"
      ]
     },
     "metadata": {},
     "output_type": "display_data"
    },
    {
     "data": {
      "text/plain": [
       "<Figure size 1000x400 with 0 Axes>"
      ]
     },
     "metadata": {},
     "output_type": "display_data"
    },
    {
     "data": {
      "text/plain": [
       "<Figure size 1000x400 with 0 Axes>"
      ]
     },
     "metadata": {},
     "output_type": "display_data"
    },
    {
     "data": {
      "text/plain": [
       "<Figure size 1000x400 with 0 Axes>"
      ]
     },
     "metadata": {},
     "output_type": "display_data"
    },
    {
     "data": {
      "text/plain": [
       "<Figure size 1000x400 with 0 Axes>"
      ]
     },
     "metadata": {},
     "output_type": "display_data"
    },
    {
     "data": {
      "text/plain": [
       "<Figure size 1000x400 with 0 Axes>"
      ]
     },
     "metadata": {},
     "output_type": "display_data"
    },
    {
     "data": {
      "text/plain": [
       "<Figure size 1000x400 with 0 Axes>"
      ]
     },
     "metadata": {},
     "output_type": "display_data"
    },
    {
     "data": {
      "text/plain": [
       "<Figure size 1000x400 with 0 Axes>"
      ]
     },
     "metadata": {},
     "output_type": "display_data"
    },
    {
     "data": {
      "text/plain": [
       "<Figure size 1000x400 with 0 Axes>"
      ]
     },
     "metadata": {},
     "output_type": "display_data"
    },
    {
     "data": {
      "text/plain": [
       "<Figure size 1000x400 with 0 Axes>"
      ]
     },
     "metadata": {},
     "output_type": "display_data"
    },
    {
     "data": {
      "text/plain": [
       "<Figure size 1000x400 with 0 Axes>"
      ]
     },
     "metadata": {},
     "output_type": "display_data"
    },
    {
     "data": {
      "text/plain": [
       "<Figure size 1000x400 with 0 Axes>"
      ]
     },
     "metadata": {},
     "output_type": "display_data"
    },
    {
     "data": {
      "text/plain": [
       "<Figure size 1000x400 with 0 Axes>"
      ]
     },
     "metadata": {},
     "output_type": "display_data"
    },
    {
     "data": {
      "text/plain": [
       "<Figure size 1000x400 with 0 Axes>"
      ]
     },
     "metadata": {},
     "output_type": "display_data"
    },
    {
     "data": {
      "text/plain": [
       "<Figure size 1000x400 with 0 Axes>"
      ]
     },
     "metadata": {},
     "output_type": "display_data"
    },
    {
     "data": {
      "text/plain": [
       "<Figure size 1000x400 with 0 Axes>"
      ]
     },
     "metadata": {},
     "output_type": "display_data"
    },
    {
     "data": {
      "text/plain": [
       "<Figure size 1000x400 with 0 Axes>"
      ]
     },
     "metadata": {},
     "output_type": "display_data"
    },
    {
     "data": {
      "text/plain": [
       "<Figure size 1000x400 with 0 Axes>"
      ]
     },
     "metadata": {},
     "output_type": "display_data"
    },
    {
     "data": {
      "text/plain": [
       "<Figure size 1000x400 with 0 Axes>"
      ]
     },
     "metadata": {},
     "output_type": "display_data"
    },
    {
     "data": {
      "text/plain": [
       "<Figure size 1000x400 with 0 Axes>"
      ]
     },
     "metadata": {},
     "output_type": "display_data"
    },
    {
     "data": {
      "text/plain": [
       "<Figure size 1000x400 with 0 Axes>"
      ]
     },
     "metadata": {},
     "output_type": "display_data"
    },
    {
     "data": {
      "text/plain": [
       "<Figure size 1000x400 with 0 Axes>"
      ]
     },
     "metadata": {},
     "output_type": "display_data"
    },
    {
     "data": {
      "text/plain": [
       "<Figure size 1000x400 with 0 Axes>"
      ]
     },
     "metadata": {},
     "output_type": "display_data"
    },
    {
     "data": {
      "text/plain": [
       "<Figure size 1000x400 with 0 Axes>"
      ]
     },
     "metadata": {},
     "output_type": "display_data"
    },
    {
     "data": {
      "text/plain": [
       "<Figure size 1000x400 with 0 Axes>"
      ]
     },
     "metadata": {},
     "output_type": "display_data"
    },
    {
     "data": {
      "text/plain": [
       "<Figure size 1000x400 with 0 Axes>"
      ]
     },
     "metadata": {},
     "output_type": "display_data"
    },
    {
     "data": {
      "text/plain": [
       "<Figure size 1000x400 with 0 Axes>"
      ]
     },
     "metadata": {},
     "output_type": "display_data"
    },
    {
     "data": {
      "text/plain": [
       "<Figure size 1000x400 with 0 Axes>"
      ]
     },
     "metadata": {},
     "output_type": "display_data"
    },
    {
     "data": {
      "text/plain": [
       "<Figure size 1000x400 with 0 Axes>"
      ]
     },
     "metadata": {},
     "output_type": "display_data"
    },
    {
     "data": {
      "text/plain": [
       "<Figure size 1000x400 with 0 Axes>"
      ]
     },
     "metadata": {},
     "output_type": "display_data"
    },
    {
     "data": {
      "text/plain": [
       "<Figure size 1000x400 with 0 Axes>"
      ]
     },
     "metadata": {},
     "output_type": "display_data"
    },
    {
     "data": {
      "text/plain": [
       "<Figure size 1000x400 with 0 Axes>"
      ]
     },
     "metadata": {},
     "output_type": "display_data"
    },
    {
     "data": {
      "text/plain": [
       "<Figure size 1000x400 with 0 Axes>"
      ]
     },
     "metadata": {},
     "output_type": "display_data"
    },
    {
     "data": {
      "text/plain": [
       "<Figure size 1000x400 with 0 Axes>"
      ]
     },
     "metadata": {},
     "output_type": "display_data"
    },
    {
     "data": {
      "text/plain": [
       "<Figure size 1000x400 with 0 Axes>"
      ]
     },
     "metadata": {},
     "output_type": "display_data"
    },
    {
     "data": {
      "text/plain": [
       "<Figure size 1000x400 with 0 Axes>"
      ]
     },
     "metadata": {},
     "output_type": "display_data"
    },
    {
     "data": {
      "text/plain": [
       "<Figure size 1000x400 with 0 Axes>"
      ]
     },
     "metadata": {},
     "output_type": "display_data"
    },
    {
     "data": {
      "text/plain": [
       "<Figure size 1000x400 with 0 Axes>"
      ]
     },
     "metadata": {},
     "output_type": "display_data"
    },
    {
     "data": {
      "text/plain": [
       "<Figure size 1000x400 with 0 Axes>"
      ]
     },
     "metadata": {},
     "output_type": "display_data"
    },
    {
     "data": {
      "text/plain": [
       "<Figure size 1000x400 with 0 Axes>"
      ]
     },
     "metadata": {},
     "output_type": "display_data"
    },
    {
     "data": {
      "text/plain": [
       "<Figure size 1000x400 with 0 Axes>"
      ]
     },
     "metadata": {},
     "output_type": "display_data"
    },
    {
     "data": {
      "text/plain": [
       "<Figure size 1000x400 with 0 Axes>"
      ]
     },
     "metadata": {},
     "output_type": "display_data"
    },
    {
     "data": {
      "text/plain": [
       "<Figure size 1000x400 with 0 Axes>"
      ]
     },
     "metadata": {},
     "output_type": "display_data"
    },
    {
     "data": {
      "text/plain": [
       "<Figure size 1000x400 with 0 Axes>"
      ]
     },
     "metadata": {},
     "output_type": "display_data"
    },
    {
     "data": {
      "text/plain": [
       "<Figure size 1000x400 with 0 Axes>"
      ]
     },
     "metadata": {},
     "output_type": "display_data"
    },
    {
     "data": {
      "text/plain": [
       "<Figure size 1000x400 with 0 Axes>"
      ]
     },
     "metadata": {},
     "output_type": "display_data"
    },
    {
     "data": {
      "text/plain": [
       "<Figure size 1000x400 with 0 Axes>"
      ]
     },
     "metadata": {},
     "output_type": "display_data"
    },
    {
     "data": {
      "text/plain": [
       "<Figure size 1000x400 with 0 Axes>"
      ]
     },
     "metadata": {},
     "output_type": "display_data"
    },
    {
     "data": {
      "text/plain": [
       "<Figure size 1000x400 with 0 Axes>"
      ]
     },
     "metadata": {},
     "output_type": "display_data"
    },
    {
     "data": {
      "text/plain": [
       "<Figure size 1000x400 with 0 Axes>"
      ]
     },
     "metadata": {},
     "output_type": "display_data"
    },
    {
     "data": {
      "text/plain": [
       "<Figure size 1000x400 with 0 Axes>"
      ]
     },
     "metadata": {},
     "output_type": "display_data"
    },
    {
     "data": {
      "text/plain": [
       "<Figure size 1000x400 with 0 Axes>"
      ]
     },
     "metadata": {},
     "output_type": "display_data"
    },
    {
     "data": {
      "text/plain": [
       "<Figure size 1000x400 with 0 Axes>"
      ]
     },
     "metadata": {},
     "output_type": "display_data"
    },
    {
     "data": {
      "text/plain": [
       "<Figure size 1000x400 with 0 Axes>"
      ]
     },
     "metadata": {},
     "output_type": "display_data"
    },
    {
     "data": {
      "text/plain": [
       "<Figure size 1000x400 with 0 Axes>"
      ]
     },
     "metadata": {},
     "output_type": "display_data"
    },
    {
     "data": {
      "text/plain": [
       "<Figure size 1000x400 with 0 Axes>"
      ]
     },
     "metadata": {},
     "output_type": "display_data"
    },
    {
     "data": {
      "text/plain": [
       "<Figure size 1000x400 with 0 Axes>"
      ]
     },
     "metadata": {},
     "output_type": "display_data"
    },
    {
     "data": {
      "text/plain": [
       "<Figure size 1000x400 with 0 Axes>"
      ]
     },
     "metadata": {},
     "output_type": "display_data"
    },
    {
     "data": {
      "text/plain": [
       "<Figure size 1000x400 with 0 Axes>"
      ]
     },
     "metadata": {},
     "output_type": "display_data"
    },
    {
     "data": {
      "text/plain": [
       "<Figure size 1000x400 with 0 Axes>"
      ]
     },
     "metadata": {},
     "output_type": "display_data"
    },
    {
     "data": {
      "text/plain": [
       "<Figure size 1000x400 with 0 Axes>"
      ]
     },
     "metadata": {},
     "output_type": "display_data"
    },
    {
     "data": {
      "text/plain": [
       "<Figure size 1000x400 with 0 Axes>"
      ]
     },
     "metadata": {},
     "output_type": "display_data"
    },
    {
     "data": {
      "text/plain": [
       "<Figure size 1000x400 with 0 Axes>"
      ]
     },
     "metadata": {},
     "output_type": "display_data"
    },
    {
     "data": {
      "text/plain": [
       "<Figure size 1000x400 with 0 Axes>"
      ]
     },
     "metadata": {},
     "output_type": "display_data"
    },
    {
     "data": {
      "text/plain": [
       "<Figure size 1000x400 with 0 Axes>"
      ]
     },
     "metadata": {},
     "output_type": "display_data"
    },
    {
     "data": {
      "text/plain": [
       "<Figure size 1000x400 with 0 Axes>"
      ]
     },
     "metadata": {},
     "output_type": "display_data"
    },
    {
     "data": {
      "text/plain": [
       "<Figure size 1000x400 with 0 Axes>"
      ]
     },
     "metadata": {},
     "output_type": "display_data"
    },
    {
     "data": {
      "text/plain": [
       "<Figure size 1000x400 with 0 Axes>"
      ]
     },
     "metadata": {},
     "output_type": "display_data"
    },
    {
     "data": {
      "text/plain": [
       "<Figure size 1000x400 with 0 Axes>"
      ]
     },
     "metadata": {},
     "output_type": "display_data"
    },
    {
     "data": {
      "text/plain": [
       "<Figure size 1000x400 with 0 Axes>"
      ]
     },
     "metadata": {},
     "output_type": "display_data"
    },
    {
     "data": {
      "text/plain": [
       "<Figure size 1000x400 with 0 Axes>"
      ]
     },
     "metadata": {},
     "output_type": "display_data"
    },
    {
     "data": {
      "text/plain": [
       "<Figure size 1000x400 with 0 Axes>"
      ]
     },
     "metadata": {},
     "output_type": "display_data"
    },
    {
     "data": {
      "text/plain": [
       "<Figure size 1000x400 with 0 Axes>"
      ]
     },
     "metadata": {},
     "output_type": "display_data"
    },
    {
     "data": {
      "text/plain": [
       "<Figure size 1000x400 with 0 Axes>"
      ]
     },
     "metadata": {},
     "output_type": "display_data"
    }
   ],
   "source": [
    "image_dir = os.path.join(base_dir, 'Images')\n",
    "# Plot 'Mtb' and the calculated gradient against 'Time (hours)' for each of the top ten tracks\n",
    "for n, track_id in tqdm(enumerate(top_N_tracks.keys()), total = len(top_N_tracks.keys()), desc = 'Iterating over top growth outliers'):\n",
    "    # Extract rows corresponding to the current track\n",
    "    track_data = df[df['Unique ID'] == track_id]\n",
    "    \n",
    "    # get acq ID and ID from track id'\n",
    "    acq_ID = track_data['Acquisition ID'].iloc[0]\n",
    "    cell_ID = track_data['Cell ID'].iloc[0]\n",
    "    row, column = acq_ID\n",
    "    \n",
    "    # define output prior to checking if already created mp4 for this example \n",
    "    output_folder = f'/mnt/DATA/macrohet/results/glimpses/fast_grower_area_smoothed_graph/{acq_ID}/{track_id}'\n",
    "    pre_made_glimpse_list = glob.glob(f\"{output_folder}/ID_{track_id}*.mp4\")\n",
    "    if pre_made_glimpse_list:\n",
    "        print(f'The following glimpses already exist for {track_id}: {pre_made_glimpse_list}')\n",
    "        continue\n",
    "    if not os.path.exists(output_folder):\n",
    "        os.makedirs(output_folder)\n",
    "    frame_output_folder = os.path.join(output_folder, 'frames')\n",
    "    if not os.path.exists(frame_output_folder):\n",
    "        os.makedirs(frame_output_folder)\n",
    "        \n",
    "    # pre load images\n",
    "    images = tile.compile_mosaic(image_dir, \n",
    "                         metadata, \n",
    "                         row, column, \n",
    "                         set_plane='max_proj',\n",
    "                        )\n",
    "\n",
    "    # get glimpse if already created\n",
    "    if track_id+'.npy' in os.listdir('./outliers'):\n",
    "        print('Loading pre generated glimpse')\n",
    "        glimpse = np.load(os.path.join(f'./outliers/{track_id}.npy'))\n",
    "    # or generate\n",
    "    else:\n",
    "        print('Generating glimpse')\n",
    "        glimpse = visualise.create_glimpse_from_sc_df(track_data, acq_ID, cell_ID, images).compute().compute()\n",
    "\n",
    "    # check if masks have been loaded\n",
    "    if not acq_ID in segmentation_dict.keys():\n",
    "        ### load tracks\n",
    "        with btrack.io.HDF5FileHandler(f'/mnt/DATA/macrohet/labels/PS0000/macrohet_seg_model/{row,column}.h5', \n",
    "                                           'r', \n",
    "                                           obj_type='obj_type_1'\n",
    "                                           ) as reader:\n",
    "            seg = reader.segmentation\n",
    "        ### append tracks to dictionary\n",
    "        segmentation_dict[(row, column)] = seg\n",
    "    # get associated masks\n",
    "    masks = segmentation_dict[acq_ID]\n",
    "    mask_glimpse = visualise.create_mask_glimpse_from_sc_df(track_data, acq_ID, cell_ID, masks)\n",
    "    mask_glimpse_expanded = np.expand_dims(mask_glimpse, axis=0)\n",
    "    final_glimpse = np.concatenate((mask_glimpse_expanded, glimpse), axis = 0)\n",
    "\n",
    "    # now check if mtb areas already calculated\n",
    "    if track_id in mtb_areas_dict.keys():\n",
    "        # load if already measured\n",
    "        print('Loading mtb areas')\n",
    "        mtb_areas = mtb_areas_dict[track_id]\n",
    "    else:\n",
    "        mtb_areas = []\n",
    "        for df_row in tqdm(track_data.iterrows(), total=len(track_data),\n",
    "                desc=f'Extracting mtb area over each frame: {acq_ID, cell_ID}'):\n",
    "            # get coords\n",
    "            t, y, x = df_row[1]['Time (hours)'], int(df_row[1]['y']), int(df_row[1]['x'])\n",
    "            y, x = int(y*scale_factor), int(x*scale_factor)\n",
    "            # select proper frame\n",
    "            frame = masks[t, ...]\n",
    "            # check to see if mask exists\n",
    "            if frame[y, x]:\n",
    "                # select cell of interest\n",
    "                mask = frame == frame[y, x]\n",
    "                # get mtb channel at set frame\n",
    "                images = tile.compile_mosaic(image_dir, \n",
    "                                             metadata, \n",
    "                                             row, column, \n",
    "                                             set_plane='max_proj',\n",
    "                                             set_channel=2,\n",
    "                                             set_time=t\n",
    "                                                )[0, 0]\n",
    "                # only load the crop bounding box necessary\n",
    "                rows = np.any(mask, axis=1)\n",
    "                cols = np.any(mask, axis=0)\n",
    "                # Bounding box's top and bottom\n",
    "                ymin, ymax = np.where(rows)[0][[0, -1]]\n",
    "                # Bounding box's left and right\n",
    "                xmin, xmax = np.where(cols)[0][[0, -1]]\n",
    "                # The bounding box is defined by the coordinates (xmin, ymin) and (xmax, ymax)\n",
    "                bounding_box = (xmin, ymin, xmax, ymax)\n",
    "                bounded_image = images[ymin:ymax+1, xmin:xmax+1].compute().compute()\n",
    "                bounded_mask = mask[ymin:ymax+1, xmin:xmax+1]\n",
    "                masked_image = bounded_image*bounded_mask \n",
    "                thresholded_masked_image = masked_image >=480\n",
    "                mtb_area = np.sum(thresholded_masked_image)\n",
    "                # convert area from pixel to um2 \n",
    "                mtb_area = mtb_area * ((resolution_m_per_pixel * 1000000) ** 2)\n",
    "                mtb_areas.append(mtb_area)\n",
    "            else:\n",
    "                mtb_areas.append(0)  # Append 0 if no mask exists\n",
    "            \n",
    "            mtb_areas_dict[track_id] = mtb_areas\n",
    "            # Save the dictionary to a file\n",
    "            with open('mtb_areas_dict.pkl', 'wb') as file:\n",
    "                pickle.dump(mtb_areas_dict, file)\n",
    "        \n",
    "    # get varialbes to plot \n",
    "    time_values = track_data['Time (hours)'].values\n",
    "    mtb_values = pd.Series(mtb_areas).rolling(window=window, center=True).mean().bfill().values #track_data['Mtb'].values\n",
    "    gradient_values = pd.Series(mtb_areas).rolling(window=window, center=True).apply(calculate_gradient, raw=True).values #track_data['Mtb']\n",
    "    scale_bar_length_pixels = int(physical_length_m / resolution_m_per_pixel)       \n",
    "    \n",
    "    for frame_index in tqdm(range(final_glimpse.shape[1]), desc = 'Saving out single frames'):\n",
    "        fig, ax1 = plt.subplots(figsize=(10, 4))\n",
    "\n",
    "        # format all x axes to be the same length\n",
    "        ax1.set_xlim(0,75)\n",
    "\n",
    "        # format time index for filename \n",
    "        zfill_time = f'{time_values[frame_index]}'.zfill(len(str(time_values.max())))\n",
    "        \n",
    "        # plot doubling time\n",
    "        t1, t2, q1, q2 = find_doubling_points(time_values, mtb_values, min_mtb_area)\n",
    "        if t1 is not None and t2 is not None:\n",
    "            # print(f\"Found doubling from {q1} to {q2} between {t1} and {t2} hours\")\n",
    "            # Overlay doubling time lines and annotations\n",
    "            for dt in [t1, t2]:\n",
    "                ax1.axvline(x=dt, color='grey', linestyle='--', linewidth = 1)\n",
    "                # ax1.text(dt, max(mtb_area),)# f'{dt:.2f} h', rotation=45)\n",
    "            for dt in [q1, q2]:\n",
    "                ax1.axhline(y=dt, color='grey', linestyle='--', linewidth = 1)\n",
    "                # ax1.text(0, max(time_values),)# f'{dt:.2f} h', rotation=45)\n",
    "            # add title \n",
    "            plt.title(f'Intracellular Mtb measure and growth rate \\nMacrophage ID: {track_id}, dt: {t2-t1} hours', fontsize=16, fontweight='bold')\n",
    "            plot_title = f\"{output_folder}/frames/ID_{track_id}_dt_{t2-t1}_t_{zfill_time}.png\"\n",
    "            vid_title = f\"{output_folder}/ID_{track_id}_dt_{t2-t1}_outlying_growth_glimpse_graph.mp4\"\n",
    "        else:\n",
    "            print(\"No doubling found in the provided data.\")\n",
    "            # add title \n",
    "            plt.title(f'Intracellular Mtb measure and growth rate \\nMacrophage ID: {track_id}', fontsize=16, fontweight='bold')\n",
    "            plot_title = f\"{output_folder}/frames/ID_{track_id}_t_{zfill_time}.png\"\n",
    "            vid_title = f\"{output_folder}/ID_{track_id}_outlying_growth_glimpse_graph.mp4\"\n",
    "\n",
    "        # set axis labels\n",
    "        ax1.set_xlabel('Time (hours)', fontweight='semibold')\n",
    "        ax1.set_ylabel('Intracellular Mtb area \\n(µm\\u00b2)', color=expanded_piyg[-1], fontweight='semibold')\n",
    "        ax1.tick_params(axis='y', labelcolor=expanded_piyg[-1])\n",
    "        \n",
    "        # Fit and plot the mtb\n",
    "        ax1.plot(time_values, mtb_values, label='Intracellular Mtb', color=expanded_piyg[-1], linewidth = 3)\n",
    "        ax1.fill_between(time_values, 0, mtb_values, color=expanded_piyg[-1], alpha=0.2)  # Adjust alpha for transparency\n",
    "        \n",
    "        # Setup for the secondary axis\n",
    "        ax2 = ax1.twinx()\n",
    "        ax2.set_ylabel('Mtb growth rate \\n(µm\\u00b2/hour)', color=expanded_piyg[0], fontweight='semibold')\n",
    "        ax2.tick_params(axis='y', labelcolor=expanded_piyg[0])\n",
    "        \n",
    "        # Fit and plot the gradient_values\n",
    "        ax2.plot(time_values, gradient_values, label='Gradient', color=expanded_piyg[0], alpha = 0.2, linewidth = 1)\n",
    "        \n",
    "        # Vertical line\n",
    "        vline = ax1.axvline(x=time_values[frame_index], color='k', linestyle='--', linewidth = 2)\n",
    "        \n",
    "        # Add RGB image\n",
    "        image_ax = fig.add_axes([0.90, 0.1, 0.55, 0.8])  # Adjust as needed\n",
    "        rgb_image = create_rgb_image(final_glimpse[:, frame_index, ...])\n",
    "        image_ax.imshow(rgb_image)\n",
    "        image_ax.axis('off')\n",
    "        \n",
    "        # Position of the scale bar (bottom right corner)\n",
    "        x_position = rgb_image.shape[1] - scale_bar_length_pixels - 20  # 20 pixels from the right edge\n",
    "        y_position = rgb_image.shape[0] - 20  # 20 pixels from the bottom edge\n",
    "        \n",
    "        # Create a rectangle patch for the scale bar\n",
    "        scale_bar = patches.Rectangle((x_position, y_position), scale_bar_length_pixels, 3, color='white')\n",
    "        \n",
    "        # Add the scale bar to the image\n",
    "        image_ax.add_patch(scale_bar)\n",
    "        \n",
    "        # Optionally, add text to label the scale bar\n",
    "        scale_bar_physical_length = \"10 µm\"\n",
    "        plt.text(x_position, y_position - 10, scale_bar_physical_length, color='white', fontsize=12, fontweight='semibold')\n",
    "        \n",
    "        # Add a timestamp on the bottom left corner of the image\n",
    "        timestamp_position_x = 20  # 20 pixels from the left edge\n",
    "        timestamp_position_y = rgb_image.shape[0] - 32  # 20 pixels from the bottom edge\n",
    "        timestamp_text = f\"{time_values[frame_index]:.2f} hours\"  # Format the time with 2 decimal places\n",
    "        plt.text(timestamp_position_x, timestamp_position_y, timestamp_text, color='white', fontsize=12, transform=image_ax.transData, fontweight='semibold')\n",
    "        \n",
    "        # Retrieve the data for overlay text\n",
    "        row_data = assay_layout.loc[acq_ID]  # Adjust the index as per your requirements\n",
    "        strain = row_data['Strain']\n",
    "        compound = row_data['Compound']\n",
    "        concentration_ec = row_data['ConcentrationEC']\n",
    "        \n",
    "        # Overlay text on the image\n",
    "        overlay_text = f\"Strain: {strain}\\nCompound: {compound}\\nConcentrationEC: {concentration_ec}\"\n",
    "        image_ax.text(10, size+90, overlay_text, color='black', fontsize=12, transform=image_ax.transData, fontweight='semibold')\n",
    "        \n",
    "        sns.despine(offset = 10, right = False)\n",
    "        \n",
    "        # Save each frame plot\n",
    "        plt.savefig(plot_title, bbox_inches = 'tight', dpi = 314)\n",
    "        # plt.show()\n",
    "        plt.clf()\n",
    "\n",
    "    # Create mp4 video\n",
    "    create_video_from_frames(f\"{output_folder}/frames/\", vid_title, fps=5)"
   ]
  },
  {
   "cell_type": "code",
   "execution_count": null,
   "id": "84fb2e4c-f15a-4cbd-991e-5b07a34e4424",
   "metadata": {},
   "outputs": [],
   "source": [
    "test"
   ]
  }
 ],
 "metadata": {
  "kernelspec": {
   "display_name": "macrohet_env",
   "language": "python",
   "name": "macrohet_env"
  },
  "language_info": {
   "codemirror_mode": {
    "name": "ipython",
    "version": 3
   },
   "file_extension": ".py",
   "mimetype": "text/x-python",
   "name": "python",
   "nbconvert_exporter": "python",
   "pygments_lexer": "ipython3",
   "version": "3.12.3"
  }
 },
 "nbformat": 4,
 "nbformat_minor": 5
}
