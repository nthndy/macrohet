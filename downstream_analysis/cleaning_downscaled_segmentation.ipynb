{
 "cells": [
  {
   "cell_type": "markdown",
   "id": "e7452ae6",
   "metadata": {},
   "source": [
    "# Cleaning downscaled masks\n",
    "\n",
    "Loading previous h5 downscaled segmentation and cleaning and resaving\n",
    "\n",
    "currently not saving correctly though..."
   ]
  },
  {
   "cell_type": "code",
   "execution_count": 1,
   "id": "83d383f0",
   "metadata": {},
   "outputs": [],
   "source": [
    "import napari\n",
    "from macrohet import dataio, tile, visualise\n",
    "import btrack\n",
    "from tqdm.auto import tqdm\n"
   ]
  },
  {
   "cell_type": "code",
   "execution_count": 2,
   "id": "89e81067",
   "metadata": {},
   "outputs": [
    {
     "data": {
      "text/plain": [
       "'0.5.0'"
      ]
     },
     "execution_count": 2,
     "metadata": {},
     "output_type": "execute_result"
    }
   ],
   "source": [
    "btrack.__version__"
   ]
  },
  {
   "cell_type": "code",
   "execution_count": 3,
   "id": "4b75643e",
   "metadata": {
    "scrolled": false
   },
   "outputs": [
    {
     "name": "stdout",
     "output_type": "stream",
     "text": [
      "Reading metadata XML file...\n",
      "Extracting metadata complete!\n"
     ]
    }
   ],
   "source": [
    "metadata_path = '/mnt/DATA/sandbox/pierre_live_cell_data/outputs/Replication_IPSDM_GFP/Assaylayout/20210602_Live_cell_IPSDMGFP_ATB.xml'\n",
    "assay_layout = dataio.read_harmony_metadata(metadata_path, assay_layout=True,)# mask_exist=True,  image_dir = image_dir, image_metadata = metadata)\n"
   ]
  },
  {
   "cell_type": "markdown",
   "id": "00b131d5",
   "metadata": {},
   "source": [
    "# Code that ought to clean masks and save out\n",
    "But does not currently save out correctly "
   ]
  },
  {
   "cell_type": "code",
   "execution_count": 13,
   "id": "f5fc4421",
   "metadata": {},
   "outputs": [
    {
     "name": "stderr",
     "output_type": "stream",
     "text": [
      "/home/dayn/miniconda3/envs/aero/lib/python3.9/site-packages/napari_tools_menu/__init__.py:194: FutureWarning: Public access to Window.qt_viewer is deprecated and will be removed in\n",
      "v0.5.0. It is considered an \"implementation detail\" of the napari\n",
      "application, not part of the napari viewer model. If your use case\n",
      "requires access to qt_viewer, please open an issue to discuss.\n",
      "  self.tools_menu = ToolsMenu(self, self.qt_viewer.viewer)\n"
     ]
    },
    {
     "data": {
      "application/vnd.jupyter.widget-view+json": {
       "model_id": "8023060cc1ca463babbe5c4565543656",
       "version_major": 2,
       "version_minor": 0
      },
      "text/plain": [
       "  0%|          | 0/24 [00:00<?, ?it/s]"
      ]
     },
     "metadata": {},
     "output_type": "display_data"
    },
    {
     "name": "stderr",
     "output_type": "stream",
     "text": [
      "[INFO][2023/04/14 01:21:13 pm] Opening HDF file: /mnt/DATA/macrohet/labels/full_localisation/downscaled/(3,4).h5...\n",
      "14-Apr-23 13:21:13 - btrack.dataio - INFO     - Opening HDF file: /mnt/DATA/macrohet/labels/full_localisation/downscaled/(3,4).h5...\n",
      "[INFO][2023/04/14 01:21:13 pm] Loading tracks/obj_type_1\n",
      "14-Apr-23 13:21:13 - btrack.dataio - INFO     - Loading tracks/obj_type_1\n",
      "[INFO][2023/04/14 01:21:13 pm] Loading objects/obj_type_1 (25554, 5) (25554 filtered: None)\n",
      "14-Apr-23 13:21:13 - btrack.dataio - INFO     - Loading objects/obj_type_1 (25554, 5) (25554 filtered: None)\n",
      "[INFO][2023/04/14 01:21:14 pm] Loading segmentation (75, 1200, 1200)\n",
      "14-Apr-23 13:21:14 - btrack.dataio - INFO     - Loading segmentation (75, 1200, 1200)\n",
      "[INFO][2023/04/14 01:21:14 pm] Loading objects/obj_type_1 (25554, 5) (25554 filtered: None)\n",
      "14-Apr-23 13:21:14 - btrack.dataio - INFO     - Loading objects/obj_type_1 (25554, 5) (25554 filtered: None)\n",
      "[INFO][2023/04/14 01:21:14 pm] Closing HDF file: /mnt/DATA/macrohet/labels/full_localisation/downscaled/(3,4).h5\n",
      "14-Apr-23 13:21:14 - btrack.dataio - INFO     - Closing HDF file: /mnt/DATA/macrohet/labels/full_localisation/downscaled/(3,4).h5\n"
     ]
    },
    {
     "data": {
      "application/vnd.jupyter.widget-view+json": {
       "model_id": "2133390d2739486f9056af7ef9dc7eb4",
       "version_major": 2,
       "version_minor": 0
      },
      "text/plain": [
       "Labelling:   0%|          | 0/75 [00:00<?, ?it/s]"
      ]
     },
     "metadata": {},
     "output_type": "display_data"
    },
    {
     "data": {
      "application/vnd.jupyter.widget-view+json": {
       "model_id": "32f48f8f3791481d81fbfbd2d255fdc5",
       "version_major": 2,
       "version_minor": 0
      },
      "text/plain": [
       "Remove small objs:   0%|          | 0/75 [00:00<?, ?it/s]"
      ]
     },
     "metadata": {},
     "output_type": "display_data"
    },
    {
     "data": {
      "application/vnd.jupyter.widget-view+json": {
       "model_id": "7dc9bb37e2ba4357a964b59081b78c90",
       "version_major": 2,
       "version_minor": 0
      },
      "text/plain": [
       "Remove small holes:   0%|          | 0/75 [00:00<?, ?it/s]"
      ]
     },
     "metadata": {},
     "output_type": "display_data"
    },
    {
     "data": {
      "application/vnd.jupyter.widget-view+json": {
       "model_id": "76106be8908b4a85a7a6685fbe6ebc8e",
       "version_major": 2,
       "version_minor": 0
      },
      "text/plain": [
       "Scaling to (1200, 1200):   0%|          | 0/75 [00:00<?, ?it/s]"
      ]
     },
     "metadata": {},
     "output_type": "display_data"
    },
    {
     "name": "stderr",
     "output_type": "stream",
     "text": [
      "[INFO][2023/04/14 01:22:35 pm] Opening HDF file: /mnt/DATA/macrohet/labels/full_localisation/downscaled/cleaned/(3, 4).h5...\n",
      "14-Apr-23 13:22:35 - btrack.dataio - INFO     - Opening HDF file: /mnt/DATA/macrohet/labels/full_localisation/downscaled/cleaned/(3, 4).h5...\n",
      "[INFO][2023/04/14 01:22:36 pm] Writing objects/obj_type_1\n",
      "14-Apr-23 13:22:36 - btrack.dataio - INFO     - Writing objects/obj_type_1\n",
      "[INFO][2023/04/14 01:22:36 pm] Writing labels/obj_type_1\n",
      "14-Apr-23 13:22:36 - btrack.dataio - INFO     - Writing labels/obj_type_1\n",
      "[INFO][2023/04/14 01:22:36 pm] Loading objects/obj_type_1 (25554, 5) (25554 filtered: None)\n",
      "14-Apr-23 13:22:36 - btrack.dataio - INFO     - Loading objects/obj_type_1 (25554, 5) (25554 filtered: None)\n",
      "[INFO][2023/04/14 01:22:37 pm] Writing properties/obj_type_1/area (25554,)\n",
      "14-Apr-23 13:22:37 - btrack.dataio - INFO     - Writing properties/obj_type_1/area (25554,)\n",
      "[INFO][2023/04/14 01:22:37 pm] Writing properties/obj_type_1/major_axis_length (25554,)\n",
      "14-Apr-23 13:22:37 - btrack.dataio - INFO     - Writing properties/obj_type_1/major_axis_length (25554,)\n",
      "[INFO][2023/04/14 01:22:37 pm] Writing properties/obj_type_1/mean_intensity-0 (25554,)\n",
      "14-Apr-23 13:22:37 - btrack.dataio - INFO     - Writing properties/obj_type_1/mean_intensity-0 (25554,)\n",
      "[INFO][2023/04/14 01:22:37 pm] Writing properties/obj_type_1/mean_intensity-1 (25554,)\n",
      "14-Apr-23 13:22:37 - btrack.dataio - INFO     - Writing properties/obj_type_1/mean_intensity-1 (25554,)\n",
      "[INFO][2023/04/14 01:22:37 pm] Writing properties/obj_type_1/minor_axis_length (25554,)\n",
      "14-Apr-23 13:22:37 - btrack.dataio - INFO     - Writing properties/obj_type_1/minor_axis_length (25554,)\n",
      "[INFO][2023/04/14 01:22:37 pm] Writing properties/obj_type_1/orientation (25554,)\n",
      "14-Apr-23 13:22:37 - btrack.dataio - INFO     - Writing properties/obj_type_1/orientation (25554,)\n",
      "[INFO][2023/04/14 01:22:37 pm] Writing tracks/obj_type_1\n",
      "14-Apr-23 13:22:37 - btrack.dataio - INFO     - Writing tracks/obj_type_1\n",
      "[INFO][2023/04/14 01:22:37 pm] Writing LBEP/obj_type_1\n",
      "14-Apr-23 13:22:37 - btrack.dataio - INFO     - Writing LBEP/obj_type_1\n",
      "[INFO][2023/04/14 01:22:37 pm] Writing fates/obj_type_1\n",
      "14-Apr-23 13:22:37 - btrack.dataio - INFO     - Writing fates/obj_type_1\n",
      "[INFO][2023/04/14 01:22:39 pm] Closing HDF file: /mnt/DATA/macrohet/labels/full_localisation/downscaled/cleaned/(3, 4).h5\n",
      "14-Apr-23 13:22:39 - btrack.dataio - INFO     - Closing HDF file: /mnt/DATA/macrohet/labels/full_localisation/downscaled/cleaned/(3, 4).h5\n",
      "[INFO][2023/04/14 01:22:39 pm] Opening HDF file: /mnt/DATA/macrohet/labels/full_localisation/downscaled/(3,5).h5...\n",
      "14-Apr-23 13:22:39 - btrack.dataio - INFO     - Opening HDF file: /mnt/DATA/macrohet/labels/full_localisation/downscaled/(3,5).h5...\n",
      "[INFO][2023/04/14 01:22:39 pm] Loading tracks/obj_type_1\n",
      "14-Apr-23 13:22:39 - btrack.dataio - INFO     - Loading tracks/obj_type_1\n",
      "[INFO][2023/04/14 01:22:39 pm] Loading objects/obj_type_1 (26917, 5) (26917 filtered: None)\n",
      "14-Apr-23 13:22:39 - btrack.dataio - INFO     - Loading objects/obj_type_1 (26917, 5) (26917 filtered: None)\n",
      "[INFO][2023/04/14 01:22:39 pm] Loading segmentation (75, 1200, 1200)\n",
      "14-Apr-23 13:22:39 - btrack.dataio - INFO     - Loading segmentation (75, 1200, 1200)\n",
      "[INFO][2023/04/14 01:22:39 pm] Loading objects/obj_type_1 (26917, 5) (26917 filtered: None)\n",
      "14-Apr-23 13:22:39 - btrack.dataio - INFO     - Loading objects/obj_type_1 (26917, 5) (26917 filtered: None)\n",
      "[INFO][2023/04/14 01:22:40 pm] Closing HDF file: /mnt/DATA/macrohet/labels/full_localisation/downscaled/(3,5).h5\n",
      "14-Apr-23 13:22:40 - btrack.dataio - INFO     - Closing HDF file: /mnt/DATA/macrohet/labels/full_localisation/downscaled/(3,5).h5\n"
     ]
    },
    {
     "data": {
      "application/vnd.jupyter.widget-view+json": {
       "model_id": "901140d8d1c94b9484958c6317299f87",
       "version_major": 2,
       "version_minor": 0
      },
      "text/plain": [
       "Labelling:   0%|          | 0/75 [00:00<?, ?it/s]"
      ]
     },
     "metadata": {},
     "output_type": "display_data"
    },
    {
     "data": {
      "application/vnd.jupyter.widget-view+json": {
       "model_id": "07841b6a902f4e5ab684d7340a11111f",
       "version_major": 2,
       "version_minor": 0
      },
      "text/plain": [
       "Remove small objs:   0%|          | 0/75 [00:00<?, ?it/s]"
      ]
     },
     "metadata": {},
     "output_type": "display_data"
    },
    {
     "data": {
      "application/vnd.jupyter.widget-view+json": {
       "model_id": "a97c888486ee4227b9b8966e92b761e2",
       "version_major": 2,
       "version_minor": 0
      },
      "text/plain": [
       "Remove small holes:   0%|          | 0/75 [00:00<?, ?it/s]"
      ]
     },
     "metadata": {},
     "output_type": "display_data"
    },
    {
     "data": {
      "application/vnd.jupyter.widget-view+json": {
       "model_id": "9a4b1907d3964e56928fec36f9974702",
       "version_major": 2,
       "version_minor": 0
      },
      "text/plain": [
       "Scaling to (1200, 1200):   0%|          | 0/75 [00:00<?, ?it/s]"
      ]
     },
     "metadata": {},
     "output_type": "display_data"
    },
    {
     "name": "stderr",
     "output_type": "stream",
     "text": [
      "[INFO][2023/04/14 01:23:57 pm] Opening HDF file: /mnt/DATA/macrohet/labels/full_localisation/downscaled/cleaned/(3, 5).h5...\n",
      "14-Apr-23 13:23:57 - btrack.dataio - INFO     - Opening HDF file: /mnt/DATA/macrohet/labels/full_localisation/downscaled/cleaned/(3, 5).h5...\n",
      "[INFO][2023/04/14 01:23:57 pm] Writing objects/obj_type_1\n",
      "14-Apr-23 13:23:57 - btrack.dataio - INFO     - Writing objects/obj_type_1\n",
      "[INFO][2023/04/14 01:23:57 pm] Writing labels/obj_type_1\n",
      "14-Apr-23 13:23:57 - btrack.dataio - INFO     - Writing labels/obj_type_1\n",
      "[INFO][2023/04/14 01:23:57 pm] Loading objects/obj_type_1 (26917, 5) (26917 filtered: None)\n",
      "14-Apr-23 13:23:57 - btrack.dataio - INFO     - Loading objects/obj_type_1 (26917, 5) (26917 filtered: None)\n",
      "[INFO][2023/04/14 01:23:57 pm] Writing properties/obj_type_1/area (26917,)\n",
      "14-Apr-23 13:23:57 - btrack.dataio - INFO     - Writing properties/obj_type_1/area (26917,)\n",
      "[INFO][2023/04/14 01:23:57 pm] Writing properties/obj_type_1/major_axis_length (26917,)\n",
      "14-Apr-23 13:23:57 - btrack.dataio - INFO     - Writing properties/obj_type_1/major_axis_length (26917,)\n",
      "[INFO][2023/04/14 01:23:57 pm] Writing properties/obj_type_1/mean_intensity-0 (26917,)\n",
      "14-Apr-23 13:23:57 - btrack.dataio - INFO     - Writing properties/obj_type_1/mean_intensity-0 (26917,)\n",
      "[INFO][2023/04/14 01:23:57 pm] Writing properties/obj_type_1/mean_intensity-1 (26917,)\n",
      "14-Apr-23 13:23:57 - btrack.dataio - INFO     - Writing properties/obj_type_1/mean_intensity-1 (26917,)\n",
      "[INFO][2023/04/14 01:23:57 pm] Writing properties/obj_type_1/minor_axis_length (26917,)\n",
      "14-Apr-23 13:23:57 - btrack.dataio - INFO     - Writing properties/obj_type_1/minor_axis_length (26917,)\n",
      "[INFO][2023/04/14 01:23:57 pm] Writing properties/obj_type_1/orientation (26917,)\n",
      "14-Apr-23 13:23:57 - btrack.dataio - INFO     - Writing properties/obj_type_1/orientation (26917,)\n",
      "[INFO][2023/04/14 01:23:57 pm] Writing tracks/obj_type_1\n",
      "14-Apr-23 13:23:57 - btrack.dataio - INFO     - Writing tracks/obj_type_1\n",
      "[INFO][2023/04/14 01:23:57 pm] Writing LBEP/obj_type_1\n",
      "14-Apr-23 13:23:57 - btrack.dataio - INFO     - Writing LBEP/obj_type_1\n",
      "[INFO][2023/04/14 01:23:57 pm] Writing fates/obj_type_1\n",
      "14-Apr-23 13:23:57 - btrack.dataio - INFO     - Writing fates/obj_type_1\n",
      "[INFO][2023/04/14 01:23:59 pm] Closing HDF file: /mnt/DATA/macrohet/labels/full_localisation/downscaled/cleaned/(3, 5).h5\n",
      "14-Apr-23 13:23:59 - btrack.dataio - INFO     - Closing HDF file: /mnt/DATA/macrohet/labels/full_localisation/downscaled/cleaned/(3, 5).h5\n",
      "[INFO][2023/04/14 01:23:59 pm] Opening HDF file: /mnt/DATA/macrohet/labels/full_localisation/downscaled/(3,6).h5...\n",
      "14-Apr-23 13:23:59 - btrack.dataio - INFO     - Opening HDF file: /mnt/DATA/macrohet/labels/full_localisation/downscaled/(3,6).h5...\n",
      "[INFO][2023/04/14 01:23:59 pm] Loading tracks/obj_type_1\n",
      "14-Apr-23 13:23:59 - btrack.dataio - INFO     - Loading tracks/obj_type_1\n",
      "[INFO][2023/04/14 01:23:59 pm] Loading objects/obj_type_1 (28038, 5) (28038 filtered: None)\n",
      "14-Apr-23 13:23:59 - btrack.dataio - INFO     - Loading objects/obj_type_1 (28038, 5) (28038 filtered: None)\n",
      "[INFO][2023/04/14 01:24:01 pm] Loading segmentation (75, 1200, 1200)\n",
      "14-Apr-23 13:24:01 - btrack.dataio - INFO     - Loading segmentation (75, 1200, 1200)\n",
      "[INFO][2023/04/14 01:24:01 pm] Loading objects/obj_type_1 (28038, 5) (28038 filtered: None)\n",
      "14-Apr-23 13:24:01 - btrack.dataio - INFO     - Loading objects/obj_type_1 (28038, 5) (28038 filtered: None)\n",
      "[INFO][2023/04/14 01:24:01 pm] Closing HDF file: /mnt/DATA/macrohet/labels/full_localisation/downscaled/(3,6).h5\n",
      "14-Apr-23 13:24:01 - btrack.dataio - INFO     - Closing HDF file: /mnt/DATA/macrohet/labels/full_localisation/downscaled/(3,6).h5\n"
     ]
    },
    {
     "data": {
      "application/vnd.jupyter.widget-view+json": {
       "model_id": "776981dc99484719a6956b45ead46f7f",
       "version_major": 2,
       "version_minor": 0
      },
      "text/plain": [
       "Labelling:   0%|          | 0/75 [00:00<?, ?it/s]"
      ]
     },
     "metadata": {},
     "output_type": "display_data"
    },
    {
     "data": {
      "application/vnd.jupyter.widget-view+json": {
       "model_id": "b44180049a6949e5adfdc76162e93d31",
       "version_major": 2,
       "version_minor": 0
      },
      "text/plain": [
       "Remove small objs:   0%|          | 0/75 [00:00<?, ?it/s]"
      ]
     },
     "metadata": {},
     "output_type": "display_data"
    },
    {
     "data": {
      "application/vnd.jupyter.widget-view+json": {
       "model_id": "0c062daab4464bd7931a7726adb219a1",
       "version_major": 2,
       "version_minor": 0
      },
      "text/plain": [
       "Remove small holes:   0%|          | 0/75 [00:00<?, ?it/s]"
      ]
     },
     "metadata": {},
     "output_type": "display_data"
    },
    {
     "data": {
      "application/vnd.jupyter.widget-view+json": {
       "model_id": "42401666d68a4fb7b78449b3bda1c44f",
       "version_major": 2,
       "version_minor": 0
      },
      "text/plain": [
       "Scaling to (1200, 1200):   0%|          | 0/75 [00:00<?, ?it/s]"
      ]
     },
     "metadata": {},
     "output_type": "display_data"
    },
    {
     "name": "stderr",
     "output_type": "stream",
     "text": [
      "[INFO][2023/04/14 01:25:19 pm] Opening HDF file: /mnt/DATA/macrohet/labels/full_localisation/downscaled/cleaned/(3, 6).h5...\n",
      "14-Apr-23 13:25:19 - btrack.dataio - INFO     - Opening HDF file: /mnt/DATA/macrohet/labels/full_localisation/downscaled/cleaned/(3, 6).h5...\n",
      "[INFO][2023/04/14 01:25:19 pm] Writing objects/obj_type_1\n",
      "14-Apr-23 13:25:19 - btrack.dataio - INFO     - Writing objects/obj_type_1\n",
      "[INFO][2023/04/14 01:25:19 pm] Writing labels/obj_type_1\n",
      "14-Apr-23 13:25:19 - btrack.dataio - INFO     - Writing labels/obj_type_1\n",
      "[INFO][2023/04/14 01:25:19 pm] Loading objects/obj_type_1 (28038, 5) (28038 filtered: None)\n",
      "14-Apr-23 13:25:19 - btrack.dataio - INFO     - Loading objects/obj_type_1 (28038, 5) (28038 filtered: None)\n",
      "[INFO][2023/04/14 01:25:20 pm] Writing properties/obj_type_1/area (28038,)\n",
      "14-Apr-23 13:25:20 - btrack.dataio - INFO     - Writing properties/obj_type_1/area (28038,)\n",
      "[INFO][2023/04/14 01:25:20 pm] Writing properties/obj_type_1/major_axis_length (28038,)\n",
      "14-Apr-23 13:25:20 - btrack.dataio - INFO     - Writing properties/obj_type_1/major_axis_length (28038,)\n",
      "[INFO][2023/04/14 01:25:20 pm] Writing properties/obj_type_1/mean_intensity-0 (28038,)\n",
      "14-Apr-23 13:25:20 - btrack.dataio - INFO     - Writing properties/obj_type_1/mean_intensity-0 (28038,)\n",
      "[INFO][2023/04/14 01:25:20 pm] Writing properties/obj_type_1/mean_intensity-1 (28038,)\n",
      "14-Apr-23 13:25:20 - btrack.dataio - INFO     - Writing properties/obj_type_1/mean_intensity-1 (28038,)\n",
      "[INFO][2023/04/14 01:25:20 pm] Writing properties/obj_type_1/minor_axis_length (28038,)\n",
      "14-Apr-23 13:25:20 - btrack.dataio - INFO     - Writing properties/obj_type_1/minor_axis_length (28038,)\n",
      "[INFO][2023/04/14 01:25:20 pm] Writing properties/obj_type_1/orientation (28038,)\n",
      "14-Apr-23 13:25:20 - btrack.dataio - INFO     - Writing properties/obj_type_1/orientation (28038,)\n",
      "[INFO][2023/04/14 01:25:20 pm] Writing tracks/obj_type_1\n",
      "14-Apr-23 13:25:20 - btrack.dataio - INFO     - Writing tracks/obj_type_1\n",
      "[INFO][2023/04/14 01:25:20 pm] Writing LBEP/obj_type_1\n",
      "14-Apr-23 13:25:20 - btrack.dataio - INFO     - Writing LBEP/obj_type_1\n",
      "[INFO][2023/04/14 01:25:20 pm] Writing fates/obj_type_1\n",
      "14-Apr-23 13:25:20 - btrack.dataio - INFO     - Writing fates/obj_type_1\n",
      "[INFO][2023/04/14 01:25:22 pm] Closing HDF file: /mnt/DATA/macrohet/labels/full_localisation/downscaled/cleaned/(3, 6).h5\n",
      "14-Apr-23 13:25:22 - btrack.dataio - INFO     - Closing HDF file: /mnt/DATA/macrohet/labels/full_localisation/downscaled/cleaned/(3, 6).h5\n",
      "[INFO][2023/04/14 01:25:22 pm] Opening HDF file: /mnt/DATA/macrohet/labels/full_localisation/downscaled/(3,7).h5...\n",
      "14-Apr-23 13:25:22 - btrack.dataio - INFO     - Opening HDF file: /mnt/DATA/macrohet/labels/full_localisation/downscaled/(3,7).h5...\n",
      "[INFO][2023/04/14 01:25:22 pm] Loading tracks/obj_type_1\n",
      "14-Apr-23 13:25:22 - btrack.dataio - INFO     - Loading tracks/obj_type_1\n",
      "[INFO][2023/04/14 01:25:22 pm] Loading objects/obj_type_1 (26932, 5) (26932 filtered: None)\n",
      "14-Apr-23 13:25:22 - btrack.dataio - INFO     - Loading objects/obj_type_1 (26932, 5) (26932 filtered: None)\n",
      "[INFO][2023/04/14 01:25:23 pm] Loading segmentation (75, 1200, 1200)\n",
      "14-Apr-23 13:25:23 - btrack.dataio - INFO     - Loading segmentation (75, 1200, 1200)\n",
      "[INFO][2023/04/14 01:25:23 pm] Loading objects/obj_type_1 (26932, 5) (26932 filtered: None)\n",
      "14-Apr-23 13:25:23 - btrack.dataio - INFO     - Loading objects/obj_type_1 (26932, 5) (26932 filtered: None)\n",
      "[INFO][2023/04/14 01:25:23 pm] Closing HDF file: /mnt/DATA/macrohet/labels/full_localisation/downscaled/(3,7).h5\n",
      "14-Apr-23 13:25:23 - btrack.dataio - INFO     - Closing HDF file: /mnt/DATA/macrohet/labels/full_localisation/downscaled/(3,7).h5\n"
     ]
    },
    {
     "data": {
      "application/vnd.jupyter.widget-view+json": {
       "model_id": "95215c11691b4bc0b6dccd040361e4a2",
       "version_major": 2,
       "version_minor": 0
      },
      "text/plain": [
       "Labelling:   0%|          | 0/75 [00:00<?, ?it/s]"
      ]
     },
     "metadata": {},
     "output_type": "display_data"
    },
    {
     "data": {
      "application/vnd.jupyter.widget-view+json": {
       "model_id": "5338da2b9d064bb9b3662733f8599518",
       "version_major": 2,
       "version_minor": 0
      },
      "text/plain": [
       "Remove small objs:   0%|          | 0/75 [00:00<?, ?it/s]"
      ]
     },
     "metadata": {},
     "output_type": "display_data"
    },
    {
     "data": {
      "application/vnd.jupyter.widget-view+json": {
       "model_id": "9d2befc1da8b42a0a5f45076ff0805ab",
       "version_major": 2,
       "version_minor": 0
      },
      "text/plain": [
       "Remove small holes:   0%|          | 0/75 [00:00<?, ?it/s]"
      ]
     },
     "metadata": {},
     "output_type": "display_data"
    },
    {
     "data": {
      "application/vnd.jupyter.widget-view+json": {
       "model_id": "25f0b80b91de44f8aef43a137ffe9a05",
       "version_major": 2,
       "version_minor": 0
      },
      "text/plain": [
       "Scaling to (1200, 1200):   0%|          | 0/75 [00:00<?, ?it/s]"
      ]
     },
     "metadata": {},
     "output_type": "display_data"
    },
    {
     "name": "stderr",
     "output_type": "stream",
     "text": [
      "[INFO][2023/04/14 01:26:40 pm] Opening HDF file: /mnt/DATA/macrohet/labels/full_localisation/downscaled/cleaned/(3, 7).h5...\n",
      "14-Apr-23 13:26:40 - btrack.dataio - INFO     - Opening HDF file: /mnt/DATA/macrohet/labels/full_localisation/downscaled/cleaned/(3, 7).h5...\n",
      "[INFO][2023/04/14 01:26:40 pm] Writing objects/obj_type_1\n",
      "14-Apr-23 13:26:40 - btrack.dataio - INFO     - Writing objects/obj_type_1\n",
      "[INFO][2023/04/14 01:26:40 pm] Writing labels/obj_type_1\n",
      "14-Apr-23 13:26:40 - btrack.dataio - INFO     - Writing labels/obj_type_1\n",
      "[INFO][2023/04/14 01:26:40 pm] Loading objects/obj_type_1 (26932, 5) (26932 filtered: None)\n",
      "14-Apr-23 13:26:40 - btrack.dataio - INFO     - Loading objects/obj_type_1 (26932, 5) (26932 filtered: None)\n",
      "[INFO][2023/04/14 01:26:40 pm] Writing properties/obj_type_1/area (26932,)\n",
      "14-Apr-23 13:26:40 - btrack.dataio - INFO     - Writing properties/obj_type_1/area (26932,)\n",
      "[INFO][2023/04/14 01:26:40 pm] Writing properties/obj_type_1/major_axis_length (26932,)\n",
      "14-Apr-23 13:26:40 - btrack.dataio - INFO     - Writing properties/obj_type_1/major_axis_length (26932,)\n",
      "[INFO][2023/04/14 01:26:40 pm] Writing properties/obj_type_1/mean_intensity-0 (26932,)\n",
      "14-Apr-23 13:26:40 - btrack.dataio - INFO     - Writing properties/obj_type_1/mean_intensity-0 (26932,)\n",
      "[INFO][2023/04/14 01:26:40 pm] Writing properties/obj_type_1/mean_intensity-1 (26932,)\n",
      "14-Apr-23 13:26:40 - btrack.dataio - INFO     - Writing properties/obj_type_1/mean_intensity-1 (26932,)\n",
      "[INFO][2023/04/14 01:26:40 pm] Writing properties/obj_type_1/minor_axis_length (26932,)\n",
      "14-Apr-23 13:26:40 - btrack.dataio - INFO     - Writing properties/obj_type_1/minor_axis_length (26932,)\n",
      "[INFO][2023/04/14 01:26:40 pm] Writing properties/obj_type_1/orientation (26932,)\n",
      "14-Apr-23 13:26:40 - btrack.dataio - INFO     - Writing properties/obj_type_1/orientation (26932,)\n",
      "[INFO][2023/04/14 01:26:40 pm] Writing tracks/obj_type_1\n",
      "14-Apr-23 13:26:40 - btrack.dataio - INFO     - Writing tracks/obj_type_1\n",
      "[INFO][2023/04/14 01:26:40 pm] Writing LBEP/obj_type_1\n",
      "14-Apr-23 13:26:40 - btrack.dataio - INFO     - Writing LBEP/obj_type_1\n",
      "[INFO][2023/04/14 01:26:40 pm] Writing fates/obj_type_1\n",
      "14-Apr-23 13:26:40 - btrack.dataio - INFO     - Writing fates/obj_type_1\n",
      "[INFO][2023/04/14 01:26:42 pm] Closing HDF file: /mnt/DATA/macrohet/labels/full_localisation/downscaled/cleaned/(3, 7).h5\n",
      "14-Apr-23 13:26:42 - btrack.dataio - INFO     - Closing HDF file: /mnt/DATA/macrohet/labels/full_localisation/downscaled/cleaned/(3, 7).h5\n",
      "[INFO][2023/04/14 01:26:42 pm] Opening HDF file: /mnt/DATA/macrohet/labels/full_localisation/downscaled/(3,8).h5...\n",
      "14-Apr-23 13:26:42 - btrack.dataio - INFO     - Opening HDF file: /mnt/DATA/macrohet/labels/full_localisation/downscaled/(3,8).h5...\n",
      "[INFO][2023/04/14 01:26:42 pm] Loading tracks/obj_type_1\n",
      "14-Apr-23 13:26:42 - btrack.dataio - INFO     - Loading tracks/obj_type_1\n",
      "[INFO][2023/04/14 01:26:42 pm] Loading objects/obj_type_1 (29074, 5) (29074 filtered: None)\n",
      "14-Apr-23 13:26:42 - btrack.dataio - INFO     - Loading objects/obj_type_1 (29074, 5) (29074 filtered: None)\n",
      "[INFO][2023/04/14 01:26:44 pm] Loading segmentation (75, 1200, 1200)\n",
      "14-Apr-23 13:26:44 - btrack.dataio - INFO     - Loading segmentation (75, 1200, 1200)\n",
      "[INFO][2023/04/14 01:26:44 pm] Loading objects/obj_type_1 (29074, 5) (29074 filtered: None)\n",
      "14-Apr-23 13:26:44 - btrack.dataio - INFO     - Loading objects/obj_type_1 (29074, 5) (29074 filtered: None)\n",
      "[INFO][2023/04/14 01:26:44 pm] Closing HDF file: /mnt/DATA/macrohet/labels/full_localisation/downscaled/(3,8).h5\n",
      "14-Apr-23 13:26:44 - btrack.dataio - INFO     - Closing HDF file: /mnt/DATA/macrohet/labels/full_localisation/downscaled/(3,8).h5\n"
     ]
    },
    {
     "data": {
      "application/vnd.jupyter.widget-view+json": {
       "model_id": "4a429a5902084849993468f61b6fb245",
       "version_major": 2,
       "version_minor": 0
      },
      "text/plain": [
       "Labelling:   0%|          | 0/75 [00:00<?, ?it/s]"
      ]
     },
     "metadata": {},
     "output_type": "display_data"
    },
    {
     "data": {
      "application/vnd.jupyter.widget-view+json": {
       "model_id": "1212de4057644fe6a0f88d2eea0a40ef",
       "version_major": 2,
       "version_minor": 0
      },
      "text/plain": [
       "Remove small objs:   0%|          | 0/75 [00:00<?, ?it/s]"
      ]
     },
     "metadata": {},
     "output_type": "display_data"
    },
    {
     "data": {
      "application/vnd.jupyter.widget-view+json": {
       "model_id": "123821d76124426f988f1281853c6712",
       "version_major": 2,
       "version_minor": 0
      },
      "text/plain": [
       "Remove small holes:   0%|          | 0/75 [00:00<?, ?it/s]"
      ]
     },
     "metadata": {},
     "output_type": "display_data"
    },
    {
     "data": {
      "application/vnd.jupyter.widget-view+json": {
       "model_id": "8e2ed2464644458ebfd8e21bfcf8df91",
       "version_major": 2,
       "version_minor": 0
      },
      "text/plain": [
       "Scaling to (1200, 1200):   0%|          | 0/75 [00:00<?, ?it/s]"
      ]
     },
     "metadata": {},
     "output_type": "display_data"
    },
    {
     "name": "stderr",
     "output_type": "stream",
     "text": [
      "[INFO][2023/04/14 01:28:01 pm] Opening HDF file: /mnt/DATA/macrohet/labels/full_localisation/downscaled/cleaned/(3, 8).h5...\n",
      "14-Apr-23 13:28:01 - btrack.dataio - INFO     - Opening HDF file: /mnt/DATA/macrohet/labels/full_localisation/downscaled/cleaned/(3, 8).h5...\n",
      "[INFO][2023/04/14 01:28:02 pm] Writing objects/obj_type_1\n",
      "14-Apr-23 13:28:02 - btrack.dataio - INFO     - Writing objects/obj_type_1\n",
      "[INFO][2023/04/14 01:28:02 pm] Writing labels/obj_type_1\n",
      "14-Apr-23 13:28:02 - btrack.dataio - INFO     - Writing labels/obj_type_1\n",
      "[INFO][2023/04/14 01:28:02 pm] Loading objects/obj_type_1 (29074, 5) (29074 filtered: None)\n",
      "14-Apr-23 13:28:02 - btrack.dataio - INFO     - Loading objects/obj_type_1 (29074, 5) (29074 filtered: None)\n",
      "[INFO][2023/04/14 01:28:02 pm] Writing properties/obj_type_1/area (29074,)\n",
      "14-Apr-23 13:28:02 - btrack.dataio - INFO     - Writing properties/obj_type_1/area (29074,)\n",
      "[INFO][2023/04/14 01:28:02 pm] Writing properties/obj_type_1/major_axis_length (29074,)\n",
      "14-Apr-23 13:28:02 - btrack.dataio - INFO     - Writing properties/obj_type_1/major_axis_length (29074,)\n",
      "[INFO][2023/04/14 01:28:02 pm] Writing properties/obj_type_1/mean_intensity-0 (29074,)\n",
      "14-Apr-23 13:28:02 - btrack.dataio - INFO     - Writing properties/obj_type_1/mean_intensity-0 (29074,)\n",
      "[INFO][2023/04/14 01:28:02 pm] Writing properties/obj_type_1/mean_intensity-1 (29074,)\n",
      "14-Apr-23 13:28:02 - btrack.dataio - INFO     - Writing properties/obj_type_1/mean_intensity-1 (29074,)\n",
      "[INFO][2023/04/14 01:28:02 pm] Writing properties/obj_type_1/minor_axis_length (29074,)\n",
      "14-Apr-23 13:28:02 - btrack.dataio - INFO     - Writing properties/obj_type_1/minor_axis_length (29074,)\n",
      "[INFO][2023/04/14 01:28:02 pm] Writing properties/obj_type_1/orientation (29074,)\n",
      "14-Apr-23 13:28:02 - btrack.dataio - INFO     - Writing properties/obj_type_1/orientation (29074,)\n",
      "[INFO][2023/04/14 01:28:02 pm] Writing tracks/obj_type_1\n",
      "14-Apr-23 13:28:02 - btrack.dataio - INFO     - Writing tracks/obj_type_1\n",
      "[INFO][2023/04/14 01:28:02 pm] Writing LBEP/obj_type_1\n",
      "14-Apr-23 13:28:02 - btrack.dataio - INFO     - Writing LBEP/obj_type_1\n",
      "[INFO][2023/04/14 01:28:02 pm] Writing fates/obj_type_1\n",
      "14-Apr-23 13:28:02 - btrack.dataio - INFO     - Writing fates/obj_type_1\n",
      "[INFO][2023/04/14 01:28:05 pm] Closing HDF file: /mnt/DATA/macrohet/labels/full_localisation/downscaled/cleaned/(3, 8).h5\n",
      "14-Apr-23 13:28:05 - btrack.dataio - INFO     - Closing HDF file: /mnt/DATA/macrohet/labels/full_localisation/downscaled/cleaned/(3, 8).h5\n",
      "[INFO][2023/04/14 01:28:05 pm] Opening HDF file: /mnt/DATA/macrohet/labels/full_localisation/downscaled/(3,9).h5...\n",
      "14-Apr-23 13:28:05 - btrack.dataio - INFO     - Opening HDF file: /mnt/DATA/macrohet/labels/full_localisation/downscaled/(3,9).h5...\n",
      "[INFO][2023/04/14 01:28:05 pm] Loading tracks/obj_type_1\n",
      "14-Apr-23 13:28:05 - btrack.dataio - INFO     - Loading tracks/obj_type_1\n",
      "[INFO][2023/04/14 01:28:05 pm] Loading objects/obj_type_1 (29773, 5) (29773 filtered: None)\n",
      "14-Apr-23 13:28:05 - btrack.dataio - INFO     - Loading objects/obj_type_1 (29773, 5) (29773 filtered: None)\n",
      "[INFO][2023/04/14 01:28:06 pm] Loading segmentation (75, 1200, 1200)\n",
      "14-Apr-23 13:28:06 - btrack.dataio - INFO     - Loading segmentation (75, 1200, 1200)\n",
      "[INFO][2023/04/14 01:28:06 pm] Loading objects/obj_type_1 (29773, 5) (29773 filtered: None)\n",
      "14-Apr-23 13:28:06 - btrack.dataio - INFO     - Loading objects/obj_type_1 (29773, 5) (29773 filtered: None)\n",
      "[INFO][2023/04/14 01:28:06 pm] Closing HDF file: /mnt/DATA/macrohet/labels/full_localisation/downscaled/(3,9).h5\n",
      "14-Apr-23 13:28:06 - btrack.dataio - INFO     - Closing HDF file: /mnt/DATA/macrohet/labels/full_localisation/downscaled/(3,9).h5\n"
     ]
    },
    {
     "data": {
      "application/vnd.jupyter.widget-view+json": {
       "model_id": "dd0bc30b7eb04ae0846e0054e07fadcb",
       "version_major": 2,
       "version_minor": 0
      },
      "text/plain": [
       "Labelling:   0%|          | 0/75 [00:00<?, ?it/s]"
      ]
     },
     "metadata": {},
     "output_type": "display_data"
    },
    {
     "data": {
      "application/vnd.jupyter.widget-view+json": {
       "model_id": "997fbfeec9984056aff4903de8a7d2b5",
       "version_major": 2,
       "version_minor": 0
      },
      "text/plain": [
       "Remove small objs:   0%|          | 0/75 [00:00<?, ?it/s]"
      ]
     },
     "metadata": {},
     "output_type": "display_data"
    },
    {
     "data": {
      "application/vnd.jupyter.widget-view+json": {
       "model_id": "9e4a88dbb6d14ab4a5933dccc218a528",
       "version_major": 2,
       "version_minor": 0
      },
      "text/plain": [
       "Remove small holes:   0%|          | 0/75 [00:00<?, ?it/s]"
      ]
     },
     "metadata": {},
     "output_type": "display_data"
    },
    {
     "data": {
      "application/vnd.jupyter.widget-view+json": {
       "model_id": "8c07266d6fbc4a3195bf381c09836416",
       "version_major": 2,
       "version_minor": 0
      },
      "text/plain": [
       "Scaling to (1200, 1200):   0%|          | 0/75 [00:00<?, ?it/s]"
      ]
     },
     "metadata": {},
     "output_type": "display_data"
    },
    {
     "name": "stderr",
     "output_type": "stream",
     "text": [
      "[INFO][2023/04/14 01:29:23 pm] Opening HDF file: /mnt/DATA/macrohet/labels/full_localisation/downscaled/cleaned/(3, 9).h5...\n",
      "14-Apr-23 13:29:23 - btrack.dataio - INFO     - Opening HDF file: /mnt/DATA/macrohet/labels/full_localisation/downscaled/cleaned/(3, 9).h5...\n",
      "[INFO][2023/04/14 01:29:23 pm] Writing objects/obj_type_1\n",
      "14-Apr-23 13:29:23 - btrack.dataio - INFO     - Writing objects/obj_type_1\n",
      "[INFO][2023/04/14 01:29:23 pm] Writing labels/obj_type_1\n",
      "14-Apr-23 13:29:23 - btrack.dataio - INFO     - Writing labels/obj_type_1\n",
      "[INFO][2023/04/14 01:29:23 pm] Loading objects/obj_type_1 (29773, 5) (29773 filtered: None)\n",
      "14-Apr-23 13:29:23 - btrack.dataio - INFO     - Loading objects/obj_type_1 (29773, 5) (29773 filtered: None)\n",
      "[INFO][2023/04/14 01:29:24 pm] Writing properties/obj_type_1/area (29773,)\n",
      "14-Apr-23 13:29:24 - btrack.dataio - INFO     - Writing properties/obj_type_1/area (29773,)\n",
      "[INFO][2023/04/14 01:29:24 pm] Writing properties/obj_type_1/major_axis_length (29773,)\n",
      "14-Apr-23 13:29:24 - btrack.dataio - INFO     - Writing properties/obj_type_1/major_axis_length (29773,)\n",
      "[INFO][2023/04/14 01:29:24 pm] Writing properties/obj_type_1/mean_intensity-0 (29773,)\n",
      "14-Apr-23 13:29:24 - btrack.dataio - INFO     - Writing properties/obj_type_1/mean_intensity-0 (29773,)\n",
      "[INFO][2023/04/14 01:29:24 pm] Writing properties/obj_type_1/mean_intensity-1 (29773,)\n",
      "14-Apr-23 13:29:24 - btrack.dataio - INFO     - Writing properties/obj_type_1/mean_intensity-1 (29773,)\n",
      "[INFO][2023/04/14 01:29:24 pm] Writing properties/obj_type_1/minor_axis_length (29773,)\n",
      "14-Apr-23 13:29:24 - btrack.dataio - INFO     - Writing properties/obj_type_1/minor_axis_length (29773,)\n",
      "[INFO][2023/04/14 01:29:24 pm] Writing properties/obj_type_1/orientation (29773,)\n",
      "14-Apr-23 13:29:24 - btrack.dataio - INFO     - Writing properties/obj_type_1/orientation (29773,)\n",
      "[INFO][2023/04/14 01:29:24 pm] Writing tracks/obj_type_1\n",
      "14-Apr-23 13:29:24 - btrack.dataio - INFO     - Writing tracks/obj_type_1\n",
      "[INFO][2023/04/14 01:29:24 pm] Writing LBEP/obj_type_1\n",
      "14-Apr-23 13:29:24 - btrack.dataio - INFO     - Writing LBEP/obj_type_1\n",
      "[INFO][2023/04/14 01:29:24 pm] Writing fates/obj_type_1\n",
      "14-Apr-23 13:29:24 - btrack.dataio - INFO     - Writing fates/obj_type_1\n",
      "[INFO][2023/04/14 01:29:27 pm] Closing HDF file: /mnt/DATA/macrohet/labels/full_localisation/downscaled/cleaned/(3, 9).h5\n",
      "14-Apr-23 13:29:27 - btrack.dataio - INFO     - Closing HDF file: /mnt/DATA/macrohet/labels/full_localisation/downscaled/cleaned/(3, 9).h5\n",
      "[INFO][2023/04/14 01:29:27 pm] Opening HDF file: /mnt/DATA/macrohet/labels/full_localisation/downscaled/(4,4).h5...\n",
      "14-Apr-23 13:29:27 - btrack.dataio - INFO     - Opening HDF file: /mnt/DATA/macrohet/labels/full_localisation/downscaled/(4,4).h5...\n",
      "[INFO][2023/04/14 01:29:27 pm] Loading tracks/obj_type_1\n",
      "14-Apr-23 13:29:27 - btrack.dataio - INFO     - Loading tracks/obj_type_1\n",
      "[INFO][2023/04/14 01:29:27 pm] Loading objects/obj_type_1 (26509, 5) (26509 filtered: None)\n",
      "14-Apr-23 13:29:27 - btrack.dataio - INFO     - Loading objects/obj_type_1 (26509, 5) (26509 filtered: None)\n",
      "[INFO][2023/04/14 01:29:28 pm] Loading segmentation (75, 1200, 1200)\n",
      "14-Apr-23 13:29:28 - btrack.dataio - INFO     - Loading segmentation (75, 1200, 1200)\n",
      "[INFO][2023/04/14 01:29:28 pm] Loading objects/obj_type_1 (26509, 5) (26509 filtered: None)\n",
      "14-Apr-23 13:29:28 - btrack.dataio - INFO     - Loading objects/obj_type_1 (26509, 5) (26509 filtered: None)\n",
      "[INFO][2023/04/14 01:29:28 pm] Closing HDF file: /mnt/DATA/macrohet/labels/full_localisation/downscaled/(4,4).h5\n",
      "14-Apr-23 13:29:28 - btrack.dataio - INFO     - Closing HDF file: /mnt/DATA/macrohet/labels/full_localisation/downscaled/(4,4).h5\n"
     ]
    },
    {
     "data": {
      "application/vnd.jupyter.widget-view+json": {
       "model_id": "7e9fe260bb4541ebbecf79d0314c1787",
       "version_major": 2,
       "version_minor": 0
      },
      "text/plain": [
       "Labelling:   0%|          | 0/75 [00:00<?, ?it/s]"
      ]
     },
     "metadata": {},
     "output_type": "display_data"
    },
    {
     "data": {
      "application/vnd.jupyter.widget-view+json": {
       "model_id": "eda92142956441bbab9e217eecc62f39",
       "version_major": 2,
       "version_minor": 0
      },
      "text/plain": [
       "Remove small objs:   0%|          | 0/75 [00:00<?, ?it/s]"
      ]
     },
     "metadata": {},
     "output_type": "display_data"
    },
    {
     "data": {
      "application/vnd.jupyter.widget-view+json": {
       "model_id": "512fb7039d2b4d7fa84bee98f5613fbb",
       "version_major": 2,
       "version_minor": 0
      },
      "text/plain": [
       "Remove small holes:   0%|          | 0/75 [00:00<?, ?it/s]"
      ]
     },
     "metadata": {},
     "output_type": "display_data"
    },
    {
     "data": {
      "application/vnd.jupyter.widget-view+json": {
       "model_id": "1f713358d501484391d62566cb893741",
       "version_major": 2,
       "version_minor": 0
      },
      "text/plain": [
       "Scaling to (1200, 1200):   0%|          | 0/75 [00:00<?, ?it/s]"
      ]
     },
     "metadata": {},
     "output_type": "display_data"
    },
    {
     "name": "stderr",
     "output_type": "stream",
     "text": [
      "[INFO][2023/04/14 01:30:48 pm] Opening HDF file: /mnt/DATA/macrohet/labels/full_localisation/downscaled/cleaned/(4, 4).h5...\n",
      "14-Apr-23 13:30:48 - btrack.dataio - INFO     - Opening HDF file: /mnt/DATA/macrohet/labels/full_localisation/downscaled/cleaned/(4, 4).h5...\n",
      "[INFO][2023/04/14 01:30:49 pm] Writing objects/obj_type_1\n",
      "14-Apr-23 13:30:49 - btrack.dataio - INFO     - Writing objects/obj_type_1\n",
      "[INFO][2023/04/14 01:30:49 pm] Writing labels/obj_type_1\n",
      "14-Apr-23 13:30:49 - btrack.dataio - INFO     - Writing labels/obj_type_1\n",
      "[INFO][2023/04/14 01:30:49 pm] Loading objects/obj_type_1 (26509, 5) (26509 filtered: None)\n",
      "14-Apr-23 13:30:49 - btrack.dataio - INFO     - Loading objects/obj_type_1 (26509, 5) (26509 filtered: None)\n",
      "[INFO][2023/04/14 01:30:49 pm] Writing properties/obj_type_1/area (26509,)\n",
      "14-Apr-23 13:30:49 - btrack.dataio - INFO     - Writing properties/obj_type_1/area (26509,)\n",
      "[INFO][2023/04/14 01:30:49 pm] Writing properties/obj_type_1/major_axis_length (26509,)\n",
      "14-Apr-23 13:30:49 - btrack.dataio - INFO     - Writing properties/obj_type_1/major_axis_length (26509,)\n",
      "[INFO][2023/04/14 01:30:49 pm] Writing properties/obj_type_1/mean_intensity-0 (26509,)\n",
      "14-Apr-23 13:30:49 - btrack.dataio - INFO     - Writing properties/obj_type_1/mean_intensity-0 (26509,)\n",
      "[INFO][2023/04/14 01:30:49 pm] Writing properties/obj_type_1/mean_intensity-1 (26509,)\n",
      "14-Apr-23 13:30:49 - btrack.dataio - INFO     - Writing properties/obj_type_1/mean_intensity-1 (26509,)\n",
      "[INFO][2023/04/14 01:30:49 pm] Writing properties/obj_type_1/minor_axis_length (26509,)\n",
      "14-Apr-23 13:30:49 - btrack.dataio - INFO     - Writing properties/obj_type_1/minor_axis_length (26509,)\n",
      "[INFO][2023/04/14 01:30:49 pm] Writing properties/obj_type_1/orientation (26509,)\n",
      "14-Apr-23 13:30:49 - btrack.dataio - INFO     - Writing properties/obj_type_1/orientation (26509,)\n",
      "[INFO][2023/04/14 01:30:49 pm] Writing tracks/obj_type_1\n",
      "14-Apr-23 13:30:49 - btrack.dataio - INFO     - Writing tracks/obj_type_1\n",
      "[INFO][2023/04/14 01:30:49 pm] Writing LBEP/obj_type_1\n",
      "14-Apr-23 13:30:49 - btrack.dataio - INFO     - Writing LBEP/obj_type_1\n",
      "[INFO][2023/04/14 01:30:49 pm] Writing fates/obj_type_1\n",
      "14-Apr-23 13:30:49 - btrack.dataio - INFO     - Writing fates/obj_type_1\n",
      "[INFO][2023/04/14 01:30:51 pm] Closing HDF file: /mnt/DATA/macrohet/labels/full_localisation/downscaled/cleaned/(4, 4).h5\n",
      "14-Apr-23 13:30:51 - btrack.dataio - INFO     - Closing HDF file: /mnt/DATA/macrohet/labels/full_localisation/downscaled/cleaned/(4, 4).h5\n",
      "[INFO][2023/04/14 01:30:51 pm] Opening HDF file: /mnt/DATA/macrohet/labels/full_localisation/downscaled/(4,5).h5...\n",
      "14-Apr-23 13:30:51 - btrack.dataio - INFO     - Opening HDF file: /mnt/DATA/macrohet/labels/full_localisation/downscaled/(4,5).h5...\n",
      "[INFO][2023/04/14 01:30:51 pm] Loading tracks/obj_type_1\n",
      "14-Apr-23 13:30:51 - btrack.dataio - INFO     - Loading tracks/obj_type_1\n",
      "[INFO][2023/04/14 01:30:51 pm] Loading objects/obj_type_1 (30786, 5) (30786 filtered: None)\n",
      "14-Apr-23 13:30:51 - btrack.dataio - INFO     - Loading objects/obj_type_1 (30786, 5) (30786 filtered: None)\n",
      "[INFO][2023/04/14 01:30:52 pm] Loading segmentation (75, 1200, 1200)\n",
      "14-Apr-23 13:30:52 - btrack.dataio - INFO     - Loading segmentation (75, 1200, 1200)\n",
      "[INFO][2023/04/14 01:30:52 pm] Loading objects/obj_type_1 (30786, 5) (30786 filtered: None)\n",
      "14-Apr-23 13:30:52 - btrack.dataio - INFO     - Loading objects/obj_type_1 (30786, 5) (30786 filtered: None)\n",
      "[INFO][2023/04/14 01:30:52 pm] Closing HDF file: /mnt/DATA/macrohet/labels/full_localisation/downscaled/(4,5).h5\n",
      "14-Apr-23 13:30:52 - btrack.dataio - INFO     - Closing HDF file: /mnt/DATA/macrohet/labels/full_localisation/downscaled/(4,5).h5\n"
     ]
    },
    {
     "data": {
      "application/vnd.jupyter.widget-view+json": {
       "model_id": "2c4db32fcb7f4190a0d4c799a9e5ec34",
       "version_major": 2,
       "version_minor": 0
      },
      "text/plain": [
       "Labelling:   0%|          | 0/75 [00:00<?, ?it/s]"
      ]
     },
     "metadata": {},
     "output_type": "display_data"
    },
    {
     "data": {
      "application/vnd.jupyter.widget-view+json": {
       "model_id": "4cc492ffebf6456c85de7a49a9200e8b",
       "version_major": 2,
       "version_minor": 0
      },
      "text/plain": [
       "Remove small objs:   0%|          | 0/75 [00:00<?, ?it/s]"
      ]
     },
     "metadata": {},
     "output_type": "display_data"
    },
    {
     "data": {
      "application/vnd.jupyter.widget-view+json": {
       "model_id": "03223fdabfe54b18b4fb1f477d65e3d2",
       "version_major": 2,
       "version_minor": 0
      },
      "text/plain": [
       "Remove small holes:   0%|          | 0/75 [00:00<?, ?it/s]"
      ]
     },
     "metadata": {},
     "output_type": "display_data"
    },
    {
     "data": {
      "application/vnd.jupyter.widget-view+json": {
       "model_id": "f6763da2029a416d8a02da669bfb6682",
       "version_major": 2,
       "version_minor": 0
      },
      "text/plain": [
       "Scaling to (1200, 1200):   0%|          | 0/75 [00:00<?, ?it/s]"
      ]
     },
     "metadata": {},
     "output_type": "display_data"
    },
    {
     "name": "stderr",
     "output_type": "stream",
     "text": [
      "[INFO][2023/04/14 01:32:11 pm] Opening HDF file: /mnt/DATA/macrohet/labels/full_localisation/downscaled/cleaned/(4, 5).h5...\n",
      "14-Apr-23 13:32:11 - btrack.dataio - INFO     - Opening HDF file: /mnt/DATA/macrohet/labels/full_localisation/downscaled/cleaned/(4, 5).h5...\n",
      "[INFO][2023/04/14 01:32:11 pm] Writing objects/obj_type_1\n",
      "14-Apr-23 13:32:11 - btrack.dataio - INFO     - Writing objects/obj_type_1\n",
      "[INFO][2023/04/14 01:32:11 pm] Writing labels/obj_type_1\n",
      "14-Apr-23 13:32:11 - btrack.dataio - INFO     - Writing labels/obj_type_1\n",
      "[INFO][2023/04/14 01:32:11 pm] Loading objects/obj_type_1 (30786, 5) (30786 filtered: None)\n",
      "14-Apr-23 13:32:11 - btrack.dataio - INFO     - Loading objects/obj_type_1 (30786, 5) (30786 filtered: None)\n",
      "[INFO][2023/04/14 01:32:12 pm] Writing properties/obj_type_1/area (30786,)\n",
      "14-Apr-23 13:32:12 - btrack.dataio - INFO     - Writing properties/obj_type_1/area (30786,)\n",
      "[INFO][2023/04/14 01:32:12 pm] Writing properties/obj_type_1/major_axis_length (30786,)\n",
      "14-Apr-23 13:32:12 - btrack.dataio - INFO     - Writing properties/obj_type_1/major_axis_length (30786,)\n",
      "[INFO][2023/04/14 01:32:12 pm] Writing properties/obj_type_1/mean_intensity-0 (30786,)\n",
      "14-Apr-23 13:32:12 - btrack.dataio - INFO     - Writing properties/obj_type_1/mean_intensity-0 (30786,)\n",
      "[INFO][2023/04/14 01:32:12 pm] Writing properties/obj_type_1/mean_intensity-1 (30786,)\n",
      "14-Apr-23 13:32:12 - btrack.dataio - INFO     - Writing properties/obj_type_1/mean_intensity-1 (30786,)\n",
      "[INFO][2023/04/14 01:32:12 pm] Writing properties/obj_type_1/minor_axis_length (30786,)\n",
      "14-Apr-23 13:32:12 - btrack.dataio - INFO     - Writing properties/obj_type_1/minor_axis_length (30786,)\n",
      "[INFO][2023/04/14 01:32:12 pm] Writing properties/obj_type_1/orientation (30786,)\n",
      "14-Apr-23 13:32:12 - btrack.dataio - INFO     - Writing properties/obj_type_1/orientation (30786,)\n",
      "[INFO][2023/04/14 01:32:12 pm] Writing tracks/obj_type_1\n",
      "14-Apr-23 13:32:12 - btrack.dataio - INFO     - Writing tracks/obj_type_1\n",
      "[INFO][2023/04/14 01:32:12 pm] Writing LBEP/obj_type_1\n",
      "14-Apr-23 13:32:12 - btrack.dataio - INFO     - Writing LBEP/obj_type_1\n",
      "[INFO][2023/04/14 01:32:12 pm] Writing fates/obj_type_1\n",
      "14-Apr-23 13:32:12 - btrack.dataio - INFO     - Writing fates/obj_type_1\n",
      "[INFO][2023/04/14 01:32:14 pm] Closing HDF file: /mnt/DATA/macrohet/labels/full_localisation/downscaled/cleaned/(4, 5).h5\n",
      "14-Apr-23 13:32:14 - btrack.dataio - INFO     - Closing HDF file: /mnt/DATA/macrohet/labels/full_localisation/downscaled/cleaned/(4, 5).h5\n",
      "[INFO][2023/04/14 01:32:14 pm] Opening HDF file: /mnt/DATA/macrohet/labels/full_localisation/downscaled/(4,6).h5...\n",
      "14-Apr-23 13:32:14 - btrack.dataio - INFO     - Opening HDF file: /mnt/DATA/macrohet/labels/full_localisation/downscaled/(4,6).h5...\n",
      "[INFO][2023/04/14 01:32:14 pm] Loading tracks/obj_type_1\n",
      "14-Apr-23 13:32:14 - btrack.dataio - INFO     - Loading tracks/obj_type_1\n",
      "[INFO][2023/04/14 01:32:14 pm] Loading objects/obj_type_1 (29619, 5) (29619 filtered: None)\n",
      "14-Apr-23 13:32:14 - btrack.dataio - INFO     - Loading objects/obj_type_1 (29619, 5) (29619 filtered: None)\n",
      "[INFO][2023/04/14 01:32:15 pm] Loading segmentation (75, 1200, 1200)\n",
      "14-Apr-23 13:32:15 - btrack.dataio - INFO     - Loading segmentation (75, 1200, 1200)\n",
      "[INFO][2023/04/14 01:32:15 pm] Loading objects/obj_type_1 (29619, 5) (29619 filtered: None)\n",
      "14-Apr-23 13:32:15 - btrack.dataio - INFO     - Loading objects/obj_type_1 (29619, 5) (29619 filtered: None)\n",
      "[INFO][2023/04/14 01:32:15 pm] Closing HDF file: /mnt/DATA/macrohet/labels/full_localisation/downscaled/(4,6).h5\n",
      "14-Apr-23 13:32:15 - btrack.dataio - INFO     - Closing HDF file: /mnt/DATA/macrohet/labels/full_localisation/downscaled/(4,6).h5\n"
     ]
    },
    {
     "data": {
      "application/vnd.jupyter.widget-view+json": {
       "model_id": "27dd2251777b49e292967cede0d0ef64",
       "version_major": 2,
       "version_minor": 0
      },
      "text/plain": [
       "Labelling:   0%|          | 0/75 [00:00<?, ?it/s]"
      ]
     },
     "metadata": {},
     "output_type": "display_data"
    },
    {
     "data": {
      "application/vnd.jupyter.widget-view+json": {
       "model_id": "e202878979a24381a650cea8599801cb",
       "version_major": 2,
       "version_minor": 0
      },
      "text/plain": [
       "Remove small objs:   0%|          | 0/75 [00:00<?, ?it/s]"
      ]
     },
     "metadata": {},
     "output_type": "display_data"
    },
    {
     "data": {
      "application/vnd.jupyter.widget-view+json": {
       "model_id": "d6efaaedda9047e8878249d90b012cbd",
       "version_major": 2,
       "version_minor": 0
      },
      "text/plain": [
       "Remove small holes:   0%|          | 0/75 [00:00<?, ?it/s]"
      ]
     },
     "metadata": {},
     "output_type": "display_data"
    },
    {
     "data": {
      "application/vnd.jupyter.widget-view+json": {
       "model_id": "143d1ccb32a347159d37a85d41d42a3f",
       "version_major": 2,
       "version_minor": 0
      },
      "text/plain": [
       "Scaling to (1200, 1200):   0%|          | 0/75 [00:00<?, ?it/s]"
      ]
     },
     "metadata": {},
     "output_type": "display_data"
    },
    {
     "name": "stderr",
     "output_type": "stream",
     "text": [
      "[INFO][2023/04/14 01:33:31 pm] Opening HDF file: /mnt/DATA/macrohet/labels/full_localisation/downscaled/cleaned/(4, 6).h5...\n",
      "14-Apr-23 13:33:31 - btrack.dataio - INFO     - Opening HDF file: /mnt/DATA/macrohet/labels/full_localisation/downscaled/cleaned/(4, 6).h5...\n",
      "[INFO][2023/04/14 01:33:31 pm] Writing objects/obj_type_1\n",
      "14-Apr-23 13:33:31 - btrack.dataio - INFO     - Writing objects/obj_type_1\n",
      "[INFO][2023/04/14 01:33:31 pm] Writing labels/obj_type_1\n",
      "14-Apr-23 13:33:31 - btrack.dataio - INFO     - Writing labels/obj_type_1\n",
      "[INFO][2023/04/14 01:33:31 pm] Loading objects/obj_type_1 (29619, 5) (29619 filtered: None)\n",
      "14-Apr-23 13:33:31 - btrack.dataio - INFO     - Loading objects/obj_type_1 (29619, 5) (29619 filtered: None)\n",
      "[INFO][2023/04/14 01:33:32 pm] Writing properties/obj_type_1/area (29619,)\n",
      "14-Apr-23 13:33:32 - btrack.dataio - INFO     - Writing properties/obj_type_1/area (29619,)\n",
      "[INFO][2023/04/14 01:33:32 pm] Writing properties/obj_type_1/major_axis_length (29619,)\n",
      "14-Apr-23 13:33:32 - btrack.dataio - INFO     - Writing properties/obj_type_1/major_axis_length (29619,)\n",
      "[INFO][2023/04/14 01:33:32 pm] Writing properties/obj_type_1/mean_intensity-0 (29619,)\n",
      "14-Apr-23 13:33:32 - btrack.dataio - INFO     - Writing properties/obj_type_1/mean_intensity-0 (29619,)\n",
      "[INFO][2023/04/14 01:33:32 pm] Writing properties/obj_type_1/mean_intensity-1 (29619,)\n",
      "14-Apr-23 13:33:32 - btrack.dataio - INFO     - Writing properties/obj_type_1/mean_intensity-1 (29619,)\n",
      "[INFO][2023/04/14 01:33:32 pm] Writing properties/obj_type_1/minor_axis_length (29619,)\n",
      "14-Apr-23 13:33:32 - btrack.dataio - INFO     - Writing properties/obj_type_1/minor_axis_length (29619,)\n",
      "[INFO][2023/04/14 01:33:32 pm] Writing properties/obj_type_1/orientation (29619,)\n",
      "14-Apr-23 13:33:32 - btrack.dataio - INFO     - Writing properties/obj_type_1/orientation (29619,)\n",
      "[INFO][2023/04/14 01:33:32 pm] Writing tracks/obj_type_1\n",
      "14-Apr-23 13:33:32 - btrack.dataio - INFO     - Writing tracks/obj_type_1\n",
      "[INFO][2023/04/14 01:33:32 pm] Writing LBEP/obj_type_1\n",
      "14-Apr-23 13:33:32 - btrack.dataio - INFO     - Writing LBEP/obj_type_1\n",
      "[INFO][2023/04/14 01:33:32 pm] Writing fates/obj_type_1\n",
      "14-Apr-23 13:33:32 - btrack.dataio - INFO     - Writing fates/obj_type_1\n",
      "[INFO][2023/04/14 01:33:34 pm] Closing HDF file: /mnt/DATA/macrohet/labels/full_localisation/downscaled/cleaned/(4, 6).h5\n",
      "14-Apr-23 13:33:34 - btrack.dataio - INFO     - Closing HDF file: /mnt/DATA/macrohet/labels/full_localisation/downscaled/cleaned/(4, 6).h5\n",
      "[INFO][2023/04/14 01:33:34 pm] Opening HDF file: /mnt/DATA/macrohet/labels/full_localisation/downscaled/(4,7).h5...\n",
      "14-Apr-23 13:33:34 - btrack.dataio - INFO     - Opening HDF file: /mnt/DATA/macrohet/labels/full_localisation/downscaled/(4,7).h5...\n",
      "[INFO][2023/04/14 01:33:34 pm] Loading tracks/obj_type_1\n",
      "14-Apr-23 13:33:34 - btrack.dataio - INFO     - Loading tracks/obj_type_1\n",
      "[INFO][2023/04/14 01:33:34 pm] Loading objects/obj_type_1 (26253, 5) (26253 filtered: None)\n",
      "14-Apr-23 13:33:34 - btrack.dataio - INFO     - Loading objects/obj_type_1 (26253, 5) (26253 filtered: None)\n",
      "[INFO][2023/04/14 01:33:35 pm] Loading segmentation (75, 1200, 1200)\n",
      "14-Apr-23 13:33:35 - btrack.dataio - INFO     - Loading segmentation (75, 1200, 1200)\n",
      "[INFO][2023/04/14 01:33:35 pm] Loading objects/obj_type_1 (26253, 5) (26253 filtered: None)\n",
      "14-Apr-23 13:33:35 - btrack.dataio - INFO     - Loading objects/obj_type_1 (26253, 5) (26253 filtered: None)\n",
      "[INFO][2023/04/14 01:33:36 pm] Closing HDF file: /mnt/DATA/macrohet/labels/full_localisation/downscaled/(4,7).h5\n",
      "14-Apr-23 13:33:36 - btrack.dataio - INFO     - Closing HDF file: /mnt/DATA/macrohet/labels/full_localisation/downscaled/(4,7).h5\n"
     ]
    },
    {
     "data": {
      "application/vnd.jupyter.widget-view+json": {
       "model_id": "d04ec10407e34f698dd593e7fd375599",
       "version_major": 2,
       "version_minor": 0
      },
      "text/plain": [
       "Labelling:   0%|          | 0/75 [00:00<?, ?it/s]"
      ]
     },
     "metadata": {},
     "output_type": "display_data"
    },
    {
     "data": {
      "application/vnd.jupyter.widget-view+json": {
       "model_id": "4e1ff763a57f46a6bfc72a6961c01b1d",
       "version_major": 2,
       "version_minor": 0
      },
      "text/plain": [
       "Remove small objs:   0%|          | 0/75 [00:00<?, ?it/s]"
      ]
     },
     "metadata": {},
     "output_type": "display_data"
    },
    {
     "data": {
      "application/vnd.jupyter.widget-view+json": {
       "model_id": "5da8f23e606546f19785831dfb69e65b",
       "version_major": 2,
       "version_minor": 0
      },
      "text/plain": [
       "Remove small holes:   0%|          | 0/75 [00:00<?, ?it/s]"
      ]
     },
     "metadata": {},
     "output_type": "display_data"
    },
    {
     "data": {
      "application/vnd.jupyter.widget-view+json": {
       "model_id": "669d9fc035dd492db6400495e20a3dfb",
       "version_major": 2,
       "version_minor": 0
      },
      "text/plain": [
       "Scaling to (1200, 1200):   0%|          | 0/75 [00:00<?, ?it/s]"
      ]
     },
     "metadata": {},
     "output_type": "display_data"
    },
    {
     "name": "stderr",
     "output_type": "stream",
     "text": [
      "[INFO][2023/04/14 01:34:55 pm] Opening HDF file: /mnt/DATA/macrohet/labels/full_localisation/downscaled/cleaned/(4, 7).h5...\n",
      "14-Apr-23 13:34:55 - btrack.dataio - INFO     - Opening HDF file: /mnt/DATA/macrohet/labels/full_localisation/downscaled/cleaned/(4, 7).h5...\n",
      "[INFO][2023/04/14 01:34:55 pm] Writing objects/obj_type_1\n",
      "14-Apr-23 13:34:55 - btrack.dataio - INFO     - Writing objects/obj_type_1\n",
      "[INFO][2023/04/14 01:34:55 pm] Writing labels/obj_type_1\n",
      "14-Apr-23 13:34:55 - btrack.dataio - INFO     - Writing labels/obj_type_1\n",
      "[INFO][2023/04/14 01:34:55 pm] Loading objects/obj_type_1 (26253, 5) (26253 filtered: None)\n",
      "14-Apr-23 13:34:55 - btrack.dataio - INFO     - Loading objects/obj_type_1 (26253, 5) (26253 filtered: None)\n",
      "[INFO][2023/04/14 01:34:55 pm] Writing properties/obj_type_1/area (26253,)\n",
      "14-Apr-23 13:34:55 - btrack.dataio - INFO     - Writing properties/obj_type_1/area (26253,)\n",
      "[INFO][2023/04/14 01:34:55 pm] Writing properties/obj_type_1/major_axis_length (26253,)\n",
      "14-Apr-23 13:34:55 - btrack.dataio - INFO     - Writing properties/obj_type_1/major_axis_length (26253,)\n",
      "[INFO][2023/04/14 01:34:55 pm] Writing properties/obj_type_1/mean_intensity-0 (26253,)\n",
      "14-Apr-23 13:34:55 - btrack.dataio - INFO     - Writing properties/obj_type_1/mean_intensity-0 (26253,)\n",
      "[INFO][2023/04/14 01:34:55 pm] Writing properties/obj_type_1/mean_intensity-1 (26253,)\n",
      "14-Apr-23 13:34:55 - btrack.dataio - INFO     - Writing properties/obj_type_1/mean_intensity-1 (26253,)\n",
      "[INFO][2023/04/14 01:34:55 pm] Writing properties/obj_type_1/minor_axis_length (26253,)\n",
      "14-Apr-23 13:34:55 - btrack.dataio - INFO     - Writing properties/obj_type_1/minor_axis_length (26253,)\n",
      "[INFO][2023/04/14 01:34:55 pm] Writing properties/obj_type_1/orientation (26253,)\n",
      "14-Apr-23 13:34:55 - btrack.dataio - INFO     - Writing properties/obj_type_1/orientation (26253,)\n",
      "[INFO][2023/04/14 01:34:55 pm] Writing tracks/obj_type_1\n",
      "14-Apr-23 13:34:55 - btrack.dataio - INFO     - Writing tracks/obj_type_1\n",
      "[INFO][2023/04/14 01:34:55 pm] Writing LBEP/obj_type_1\n",
      "14-Apr-23 13:34:55 - btrack.dataio - INFO     - Writing LBEP/obj_type_1\n",
      "[INFO][2023/04/14 01:34:55 pm] Writing fates/obj_type_1\n",
      "14-Apr-23 13:34:55 - btrack.dataio - INFO     - Writing fates/obj_type_1\n",
      "[INFO][2023/04/14 01:34:57 pm] Closing HDF file: /mnt/DATA/macrohet/labels/full_localisation/downscaled/cleaned/(4, 7).h5\n",
      "14-Apr-23 13:34:57 - btrack.dataio - INFO     - Closing HDF file: /mnt/DATA/macrohet/labels/full_localisation/downscaled/cleaned/(4, 7).h5\n",
      "[INFO][2023/04/14 01:34:57 pm] Opening HDF file: /mnt/DATA/macrohet/labels/full_localisation/downscaled/(4,8).h5...\n",
      "14-Apr-23 13:34:57 - btrack.dataio - INFO     - Opening HDF file: /mnt/DATA/macrohet/labels/full_localisation/downscaled/(4,8).h5...\n",
      "[INFO][2023/04/14 01:34:57 pm] Loading tracks/obj_type_1\n",
      "14-Apr-23 13:34:57 - btrack.dataio - INFO     - Loading tracks/obj_type_1\n",
      "[INFO][2023/04/14 01:34:57 pm] Loading objects/obj_type_1 (27389, 5) (27389 filtered: None)\n",
      "14-Apr-23 13:34:57 - btrack.dataio - INFO     - Loading objects/obj_type_1 (27389, 5) (27389 filtered: None)\n",
      "[INFO][2023/04/14 01:34:58 pm] Loading segmentation (75, 1200, 1200)\n",
      "14-Apr-23 13:34:58 - btrack.dataio - INFO     - Loading segmentation (75, 1200, 1200)\n",
      "[INFO][2023/04/14 01:34:58 pm] Loading objects/obj_type_1 (27389, 5) (27389 filtered: None)\n",
      "14-Apr-23 13:34:58 - btrack.dataio - INFO     - Loading objects/obj_type_1 (27389, 5) (27389 filtered: None)\n",
      "[INFO][2023/04/14 01:34:58 pm] Closing HDF file: /mnt/DATA/macrohet/labels/full_localisation/downscaled/(4,8).h5\n",
      "14-Apr-23 13:34:58 - btrack.dataio - INFO     - Closing HDF file: /mnt/DATA/macrohet/labels/full_localisation/downscaled/(4,8).h5\n"
     ]
    },
    {
     "data": {
      "application/vnd.jupyter.widget-view+json": {
       "model_id": "4f7b0603429e409994fbde4851714a9d",
       "version_major": 2,
       "version_minor": 0
      },
      "text/plain": [
       "Labelling:   0%|          | 0/75 [00:00<?, ?it/s]"
      ]
     },
     "metadata": {},
     "output_type": "display_data"
    },
    {
     "data": {
      "application/vnd.jupyter.widget-view+json": {
       "model_id": "381175086fd844b2a56af801894f67cf",
       "version_major": 2,
       "version_minor": 0
      },
      "text/plain": [
       "Remove small objs:   0%|          | 0/75 [00:00<?, ?it/s]"
      ]
     },
     "metadata": {},
     "output_type": "display_data"
    },
    {
     "data": {
      "application/vnd.jupyter.widget-view+json": {
       "model_id": "035c4d57f4254c179643bc4750feaa43",
       "version_major": 2,
       "version_minor": 0
      },
      "text/plain": [
       "Remove small holes:   0%|          | 0/75 [00:00<?, ?it/s]"
      ]
     },
     "metadata": {},
     "output_type": "display_data"
    },
    {
     "data": {
      "application/vnd.jupyter.widget-view+json": {
       "model_id": "502090f8b79a45dba56559ab798a9bed",
       "version_major": 2,
       "version_minor": 0
      },
      "text/plain": [
       "Scaling to (1200, 1200):   0%|          | 0/75 [00:00<?, ?it/s]"
      ]
     },
     "metadata": {},
     "output_type": "display_data"
    },
    {
     "name": "stderr",
     "output_type": "stream",
     "text": [
      "[INFO][2023/04/14 01:36:15 pm] Opening HDF file: /mnt/DATA/macrohet/labels/full_localisation/downscaled/cleaned/(4, 8).h5...\n",
      "14-Apr-23 13:36:15 - btrack.dataio - INFO     - Opening HDF file: /mnt/DATA/macrohet/labels/full_localisation/downscaled/cleaned/(4, 8).h5...\n",
      "[INFO][2023/04/14 01:36:15 pm] Writing objects/obj_type_1\n",
      "14-Apr-23 13:36:15 - btrack.dataio - INFO     - Writing objects/obj_type_1\n",
      "[INFO][2023/04/14 01:36:15 pm] Writing labels/obj_type_1\n",
      "14-Apr-23 13:36:15 - btrack.dataio - INFO     - Writing labels/obj_type_1\n",
      "[INFO][2023/04/14 01:36:15 pm] Loading objects/obj_type_1 (27389, 5) (27389 filtered: None)\n",
      "14-Apr-23 13:36:15 - btrack.dataio - INFO     - Loading objects/obj_type_1 (27389, 5) (27389 filtered: None)\n",
      "[INFO][2023/04/14 01:36:16 pm] Writing properties/obj_type_1/area (27389,)\n",
      "14-Apr-23 13:36:16 - btrack.dataio - INFO     - Writing properties/obj_type_1/area (27389,)\n",
      "[INFO][2023/04/14 01:36:16 pm] Writing properties/obj_type_1/major_axis_length (27389,)\n",
      "14-Apr-23 13:36:16 - btrack.dataio - INFO     - Writing properties/obj_type_1/major_axis_length (27389,)\n",
      "[INFO][2023/04/14 01:36:16 pm] Writing properties/obj_type_1/mean_intensity-0 (27389,)\n",
      "14-Apr-23 13:36:16 - btrack.dataio - INFO     - Writing properties/obj_type_1/mean_intensity-0 (27389,)\n",
      "[INFO][2023/04/14 01:36:16 pm] Writing properties/obj_type_1/mean_intensity-1 (27389,)\n",
      "14-Apr-23 13:36:16 - btrack.dataio - INFO     - Writing properties/obj_type_1/mean_intensity-1 (27389,)\n",
      "[INFO][2023/04/14 01:36:16 pm] Writing properties/obj_type_1/minor_axis_length (27389,)\n",
      "14-Apr-23 13:36:16 - btrack.dataio - INFO     - Writing properties/obj_type_1/minor_axis_length (27389,)\n",
      "[INFO][2023/04/14 01:36:16 pm] Writing properties/obj_type_1/orientation (27389,)\n",
      "14-Apr-23 13:36:16 - btrack.dataio - INFO     - Writing properties/obj_type_1/orientation (27389,)\n",
      "[INFO][2023/04/14 01:36:16 pm] Writing tracks/obj_type_1\n",
      "14-Apr-23 13:36:16 - btrack.dataio - INFO     - Writing tracks/obj_type_1\n",
      "[INFO][2023/04/14 01:36:16 pm] Writing LBEP/obj_type_1\n",
      "14-Apr-23 13:36:16 - btrack.dataio - INFO     - Writing LBEP/obj_type_1\n",
      "[INFO][2023/04/14 01:36:16 pm] Writing fates/obj_type_1\n",
      "14-Apr-23 13:36:16 - btrack.dataio - INFO     - Writing fates/obj_type_1\n",
      "[INFO][2023/04/14 01:36:18 pm] Closing HDF file: /mnt/DATA/macrohet/labels/full_localisation/downscaled/cleaned/(4, 8).h5\n",
      "14-Apr-23 13:36:18 - btrack.dataio - INFO     - Closing HDF file: /mnt/DATA/macrohet/labels/full_localisation/downscaled/cleaned/(4, 8).h5\n",
      "[INFO][2023/04/14 01:36:18 pm] Opening HDF file: /mnt/DATA/macrohet/labels/full_localisation/downscaled/(4,9).h5...\n",
      "14-Apr-23 13:36:18 - btrack.dataio - INFO     - Opening HDF file: /mnt/DATA/macrohet/labels/full_localisation/downscaled/(4,9).h5...\n",
      "[INFO][2023/04/14 01:36:18 pm] Loading tracks/obj_type_1\n",
      "14-Apr-23 13:36:18 - btrack.dataio - INFO     - Loading tracks/obj_type_1\n",
      "[INFO][2023/04/14 01:36:18 pm] Loading objects/obj_type_1 (30274, 5) (30274 filtered: None)\n",
      "14-Apr-23 13:36:18 - btrack.dataio - INFO     - Loading objects/obj_type_1 (30274, 5) (30274 filtered: None)\n",
      "[INFO][2023/04/14 01:36:19 pm] Loading segmentation (75, 1200, 1200)\n",
      "14-Apr-23 13:36:19 - btrack.dataio - INFO     - Loading segmentation (75, 1200, 1200)\n",
      "[INFO][2023/04/14 01:36:19 pm] Loading objects/obj_type_1 (30274, 5) (30274 filtered: None)\n",
      "14-Apr-23 13:36:19 - btrack.dataio - INFO     - Loading objects/obj_type_1 (30274, 5) (30274 filtered: None)\n",
      "[INFO][2023/04/14 01:36:19 pm] Closing HDF file: /mnt/DATA/macrohet/labels/full_localisation/downscaled/(4,9).h5\n",
      "14-Apr-23 13:36:19 - btrack.dataio - INFO     - Closing HDF file: /mnt/DATA/macrohet/labels/full_localisation/downscaled/(4,9).h5\n"
     ]
    },
    {
     "data": {
      "application/vnd.jupyter.widget-view+json": {
       "model_id": "3e42a9e649b843c99ad1e1ddc01377f5",
       "version_major": 2,
       "version_minor": 0
      },
      "text/plain": [
       "Labelling:   0%|          | 0/75 [00:00<?, ?it/s]"
      ]
     },
     "metadata": {},
     "output_type": "display_data"
    },
    {
     "data": {
      "application/vnd.jupyter.widget-view+json": {
       "model_id": "9cd92bfd17284844a965efa73a7725ef",
       "version_major": 2,
       "version_minor": 0
      },
      "text/plain": [
       "Remove small objs:   0%|          | 0/75 [00:00<?, ?it/s]"
      ]
     },
     "metadata": {},
     "output_type": "display_data"
    },
    {
     "data": {
      "application/vnd.jupyter.widget-view+json": {
       "model_id": "ce6aa2e5483c4821bafb03a1788b93c3",
       "version_major": 2,
       "version_minor": 0
      },
      "text/plain": [
       "Remove small holes:   0%|          | 0/75 [00:00<?, ?it/s]"
      ]
     },
     "metadata": {},
     "output_type": "display_data"
    },
    {
     "data": {
      "application/vnd.jupyter.widget-view+json": {
       "model_id": "10665f6dbc1c454f86cfde3d3242f96e",
       "version_major": 2,
       "version_minor": 0
      },
      "text/plain": [
       "Scaling to (1200, 1200):   0%|          | 0/75 [00:00<?, ?it/s]"
      ]
     },
     "metadata": {},
     "output_type": "display_data"
    },
    {
     "name": "stderr",
     "output_type": "stream",
     "text": [
      "[INFO][2023/04/14 01:37:37 pm] Opening HDF file: /mnt/DATA/macrohet/labels/full_localisation/downscaled/cleaned/(4, 9).h5...\n",
      "14-Apr-23 13:37:37 - btrack.dataio - INFO     - Opening HDF file: /mnt/DATA/macrohet/labels/full_localisation/downscaled/cleaned/(4, 9).h5...\n",
      "[INFO][2023/04/14 01:37:37 pm] Writing objects/obj_type_1\n",
      "14-Apr-23 13:37:37 - btrack.dataio - INFO     - Writing objects/obj_type_1\n",
      "[INFO][2023/04/14 01:37:37 pm] Writing labels/obj_type_1\n",
      "14-Apr-23 13:37:37 - btrack.dataio - INFO     - Writing labels/obj_type_1\n",
      "[INFO][2023/04/14 01:37:37 pm] Loading objects/obj_type_1 (30274, 5) (30274 filtered: None)\n",
      "14-Apr-23 13:37:37 - btrack.dataio - INFO     - Loading objects/obj_type_1 (30274, 5) (30274 filtered: None)\n",
      "[INFO][2023/04/14 01:37:38 pm] Writing properties/obj_type_1/area (30274,)\n",
      "14-Apr-23 13:37:38 - btrack.dataio - INFO     - Writing properties/obj_type_1/area (30274,)\n",
      "[INFO][2023/04/14 01:37:38 pm] Writing properties/obj_type_1/major_axis_length (30274,)\n",
      "14-Apr-23 13:37:38 - btrack.dataio - INFO     - Writing properties/obj_type_1/major_axis_length (30274,)\n",
      "[INFO][2023/04/14 01:37:38 pm] Writing properties/obj_type_1/mean_intensity-0 (30274,)\n",
      "14-Apr-23 13:37:38 - btrack.dataio - INFO     - Writing properties/obj_type_1/mean_intensity-0 (30274,)\n",
      "[INFO][2023/04/14 01:37:38 pm] Writing properties/obj_type_1/mean_intensity-1 (30274,)\n",
      "14-Apr-23 13:37:38 - btrack.dataio - INFO     - Writing properties/obj_type_1/mean_intensity-1 (30274,)\n",
      "[INFO][2023/04/14 01:37:38 pm] Writing properties/obj_type_1/minor_axis_length (30274,)\n",
      "14-Apr-23 13:37:38 - btrack.dataio - INFO     - Writing properties/obj_type_1/minor_axis_length (30274,)\n",
      "[INFO][2023/04/14 01:37:38 pm] Writing properties/obj_type_1/orientation (30274,)\n",
      "14-Apr-23 13:37:38 - btrack.dataio - INFO     - Writing properties/obj_type_1/orientation (30274,)\n",
      "[INFO][2023/04/14 01:37:38 pm] Writing tracks/obj_type_1\n",
      "14-Apr-23 13:37:38 - btrack.dataio - INFO     - Writing tracks/obj_type_1\n",
      "[INFO][2023/04/14 01:37:38 pm] Writing LBEP/obj_type_1\n",
      "14-Apr-23 13:37:38 - btrack.dataio - INFO     - Writing LBEP/obj_type_1\n",
      "[INFO][2023/04/14 01:37:38 pm] Writing fates/obj_type_1\n",
      "14-Apr-23 13:37:38 - btrack.dataio - INFO     - Writing fates/obj_type_1\n",
      "[INFO][2023/04/14 01:37:40 pm] Closing HDF file: /mnt/DATA/macrohet/labels/full_localisation/downscaled/cleaned/(4, 9).h5\n",
      "14-Apr-23 13:37:40 - btrack.dataio - INFO     - Closing HDF file: /mnt/DATA/macrohet/labels/full_localisation/downscaled/cleaned/(4, 9).h5\n",
      "[INFO][2023/04/14 01:37:40 pm] Opening HDF file: /mnt/DATA/macrohet/labels/full_localisation/downscaled/(5,4).h5...\n",
      "14-Apr-23 13:37:40 - btrack.dataio - INFO     - Opening HDF file: /mnt/DATA/macrohet/labels/full_localisation/downscaled/(5,4).h5...\n",
      "[INFO][2023/04/14 01:37:40 pm] Loading tracks/obj_type_1\n",
      "14-Apr-23 13:37:40 - btrack.dataio - INFO     - Loading tracks/obj_type_1\n",
      "[INFO][2023/04/14 01:37:40 pm] Loading objects/obj_type_1 (22633, 5) (22633 filtered: None)\n",
      "14-Apr-23 13:37:40 - btrack.dataio - INFO     - Loading objects/obj_type_1 (22633, 5) (22633 filtered: None)\n",
      "[INFO][2023/04/14 01:37:41 pm] Loading segmentation (75, 1200, 1200)\n",
      "14-Apr-23 13:37:41 - btrack.dataio - INFO     - Loading segmentation (75, 1200, 1200)\n",
      "[INFO][2023/04/14 01:37:41 pm] Loading objects/obj_type_1 (22633, 5) (22633 filtered: None)\n",
      "14-Apr-23 13:37:41 - btrack.dataio - INFO     - Loading objects/obj_type_1 (22633, 5) (22633 filtered: None)\n",
      "[INFO][2023/04/14 01:37:41 pm] Closing HDF file: /mnt/DATA/macrohet/labels/full_localisation/downscaled/(5,4).h5\n",
      "14-Apr-23 13:37:41 - btrack.dataio - INFO     - Closing HDF file: /mnt/DATA/macrohet/labels/full_localisation/downscaled/(5,4).h5\n"
     ]
    },
    {
     "data": {
      "application/vnd.jupyter.widget-view+json": {
       "model_id": "601a3ff5aa6b4ee9ada96938dc3d20f5",
       "version_major": 2,
       "version_minor": 0
      },
      "text/plain": [
       "Labelling:   0%|          | 0/75 [00:00<?, ?it/s]"
      ]
     },
     "metadata": {},
     "output_type": "display_data"
    },
    {
     "data": {
      "application/vnd.jupyter.widget-view+json": {
       "model_id": "01facd78d4054b7ba935bc5e23730994",
       "version_major": 2,
       "version_minor": 0
      },
      "text/plain": [
       "Remove small objs:   0%|          | 0/75 [00:00<?, ?it/s]"
      ]
     },
     "metadata": {},
     "output_type": "display_data"
    },
    {
     "data": {
      "application/vnd.jupyter.widget-view+json": {
       "model_id": "9be0e98f1b38495788477474dd9715ec",
       "version_major": 2,
       "version_minor": 0
      },
      "text/plain": [
       "Remove small holes:   0%|          | 0/75 [00:00<?, ?it/s]"
      ]
     },
     "metadata": {},
     "output_type": "display_data"
    },
    {
     "data": {
      "application/vnd.jupyter.widget-view+json": {
       "model_id": "95a417f4a66d41f7b29e866f6fe713fb",
       "version_major": 2,
       "version_minor": 0
      },
      "text/plain": [
       "Scaling to (1200, 1200):   0%|          | 0/75 [00:00<?, ?it/s]"
      ]
     },
     "metadata": {},
     "output_type": "display_data"
    },
    {
     "name": "stderr",
     "output_type": "stream",
     "text": [
      "[INFO][2023/04/14 01:38:58 pm] Opening HDF file: /mnt/DATA/macrohet/labels/full_localisation/downscaled/cleaned/(5, 4).h5...\n",
      "14-Apr-23 13:38:58 - btrack.dataio - INFO     - Opening HDF file: /mnt/DATA/macrohet/labels/full_localisation/downscaled/cleaned/(5, 4).h5...\n",
      "[INFO][2023/04/14 01:38:58 pm] Writing objects/obj_type_1\n",
      "14-Apr-23 13:38:58 - btrack.dataio - INFO     - Writing objects/obj_type_1\n",
      "[INFO][2023/04/14 01:38:58 pm] Writing labels/obj_type_1\n",
      "14-Apr-23 13:38:58 - btrack.dataio - INFO     - Writing labels/obj_type_1\n",
      "[INFO][2023/04/14 01:38:58 pm] Loading objects/obj_type_1 (22633, 5) (22633 filtered: None)\n",
      "14-Apr-23 13:38:58 - btrack.dataio - INFO     - Loading objects/obj_type_1 (22633, 5) (22633 filtered: None)\n",
      "[INFO][2023/04/14 01:38:59 pm] Writing properties/obj_type_1/area (22633,)\n",
      "14-Apr-23 13:38:59 - btrack.dataio - INFO     - Writing properties/obj_type_1/area (22633,)\n",
      "[INFO][2023/04/14 01:38:59 pm] Writing properties/obj_type_1/major_axis_length (22633,)\n",
      "14-Apr-23 13:38:59 - btrack.dataio - INFO     - Writing properties/obj_type_1/major_axis_length (22633,)\n",
      "[INFO][2023/04/14 01:38:59 pm] Writing properties/obj_type_1/mean_intensity-0 (22633,)\n",
      "14-Apr-23 13:38:59 - btrack.dataio - INFO     - Writing properties/obj_type_1/mean_intensity-0 (22633,)\n",
      "[INFO][2023/04/14 01:38:59 pm] Writing properties/obj_type_1/mean_intensity-1 (22633,)\n",
      "14-Apr-23 13:38:59 - btrack.dataio - INFO     - Writing properties/obj_type_1/mean_intensity-1 (22633,)\n",
      "[INFO][2023/04/14 01:38:59 pm] Writing properties/obj_type_1/minor_axis_length (22633,)\n",
      "14-Apr-23 13:38:59 - btrack.dataio - INFO     - Writing properties/obj_type_1/minor_axis_length (22633,)\n",
      "[INFO][2023/04/14 01:38:59 pm] Writing properties/obj_type_1/orientation (22633,)\n",
      "14-Apr-23 13:38:59 - btrack.dataio - INFO     - Writing properties/obj_type_1/orientation (22633,)\n",
      "[INFO][2023/04/14 01:38:59 pm] Writing tracks/obj_type_1\n",
      "14-Apr-23 13:38:59 - btrack.dataio - INFO     - Writing tracks/obj_type_1\n",
      "[INFO][2023/04/14 01:38:59 pm] Writing LBEP/obj_type_1\n",
      "14-Apr-23 13:38:59 - btrack.dataio - INFO     - Writing LBEP/obj_type_1\n",
      "[INFO][2023/04/14 01:38:59 pm] Writing fates/obj_type_1\n",
      "14-Apr-23 13:38:59 - btrack.dataio - INFO     - Writing fates/obj_type_1\n",
      "[INFO][2023/04/14 01:39:01 pm] Closing HDF file: /mnt/DATA/macrohet/labels/full_localisation/downscaled/cleaned/(5, 4).h5\n",
      "14-Apr-23 13:39:01 - btrack.dataio - INFO     - Closing HDF file: /mnt/DATA/macrohet/labels/full_localisation/downscaled/cleaned/(5, 4).h5\n",
      "[INFO][2023/04/14 01:39:01 pm] Opening HDF file: /mnt/DATA/macrohet/labels/full_localisation/downscaled/(5,5).h5...\n",
      "14-Apr-23 13:39:01 - btrack.dataio - INFO     - Opening HDF file: /mnt/DATA/macrohet/labels/full_localisation/downscaled/(5,5).h5...\n",
      "[INFO][2023/04/14 01:39:01 pm] Loading tracks/obj_type_1\n",
      "14-Apr-23 13:39:01 - btrack.dataio - INFO     - Loading tracks/obj_type_1\n",
      "[INFO][2023/04/14 01:39:01 pm] Loading objects/obj_type_1 (27839, 5) (27839 filtered: None)\n",
      "14-Apr-23 13:39:01 - btrack.dataio - INFO     - Loading objects/obj_type_1 (27839, 5) (27839 filtered: None)\n",
      "[INFO][2023/04/14 01:39:01 pm] Loading segmentation (75, 1200, 1200)\n",
      "14-Apr-23 13:39:01 - btrack.dataio - INFO     - Loading segmentation (75, 1200, 1200)\n",
      "[INFO][2023/04/14 01:39:01 pm] Loading objects/obj_type_1 (27839, 5) (27839 filtered: None)\n",
      "14-Apr-23 13:39:01 - btrack.dataio - INFO     - Loading objects/obj_type_1 (27839, 5) (27839 filtered: None)\n",
      "[INFO][2023/04/14 01:39:02 pm] Closing HDF file: /mnt/DATA/macrohet/labels/full_localisation/downscaled/(5,5).h5\n",
      "14-Apr-23 13:39:02 - btrack.dataio - INFO     - Closing HDF file: /mnt/DATA/macrohet/labels/full_localisation/downscaled/(5,5).h5\n"
     ]
    },
    {
     "data": {
      "application/vnd.jupyter.widget-view+json": {
       "model_id": "fdf16bab209141689d8eb523f946a0fd",
       "version_major": 2,
       "version_minor": 0
      },
      "text/plain": [
       "Labelling:   0%|          | 0/75 [00:00<?, ?it/s]"
      ]
     },
     "metadata": {},
     "output_type": "display_data"
    },
    {
     "data": {
      "application/vnd.jupyter.widget-view+json": {
       "model_id": "df0080bb6fdb415db893f6c4169daef9",
       "version_major": 2,
       "version_minor": 0
      },
      "text/plain": [
       "Remove small objs:   0%|          | 0/75 [00:00<?, ?it/s]"
      ]
     },
     "metadata": {},
     "output_type": "display_data"
    },
    {
     "data": {
      "application/vnd.jupyter.widget-view+json": {
       "model_id": "37ab208daa4743f1a268eb3b2df47e2e",
       "version_major": 2,
       "version_minor": 0
      },
      "text/plain": [
       "Remove small holes:   0%|          | 0/75 [00:00<?, ?it/s]"
      ]
     },
     "metadata": {},
     "output_type": "display_data"
    },
    {
     "data": {
      "application/vnd.jupyter.widget-view+json": {
       "model_id": "e3b4e0be552447ec8f8397dfffe56502",
       "version_major": 2,
       "version_minor": 0
      },
      "text/plain": [
       "Scaling to (1200, 1200):   0%|          | 0/75 [00:00<?, ?it/s]"
      ]
     },
     "metadata": {},
     "output_type": "display_data"
    },
    {
     "name": "stderr",
     "output_type": "stream",
     "text": [
      "[INFO][2023/04/14 01:40:20 pm] Opening HDF file: /mnt/DATA/macrohet/labels/full_localisation/downscaled/cleaned/(5, 5).h5...\n",
      "14-Apr-23 13:40:20 - btrack.dataio - INFO     - Opening HDF file: /mnt/DATA/macrohet/labels/full_localisation/downscaled/cleaned/(5, 5).h5...\n",
      "[INFO][2023/04/14 01:40:20 pm] Writing objects/obj_type_1\n",
      "14-Apr-23 13:40:20 - btrack.dataio - INFO     - Writing objects/obj_type_1\n",
      "[INFO][2023/04/14 01:40:20 pm] Writing labels/obj_type_1\n",
      "14-Apr-23 13:40:20 - btrack.dataio - INFO     - Writing labels/obj_type_1\n",
      "[INFO][2023/04/14 01:40:20 pm] Loading objects/obj_type_1 (27839, 5) (27839 filtered: None)\n",
      "14-Apr-23 13:40:20 - btrack.dataio - INFO     - Loading objects/obj_type_1 (27839, 5) (27839 filtered: None)\n",
      "[INFO][2023/04/14 01:40:21 pm] Writing properties/obj_type_1/area (27839,)\n",
      "14-Apr-23 13:40:21 - btrack.dataio - INFO     - Writing properties/obj_type_1/area (27839,)\n",
      "[INFO][2023/04/14 01:40:21 pm] Writing properties/obj_type_1/major_axis_length (27839,)\n",
      "14-Apr-23 13:40:21 - btrack.dataio - INFO     - Writing properties/obj_type_1/major_axis_length (27839,)\n",
      "[INFO][2023/04/14 01:40:21 pm] Writing properties/obj_type_1/mean_intensity-0 (27839,)\n",
      "14-Apr-23 13:40:21 - btrack.dataio - INFO     - Writing properties/obj_type_1/mean_intensity-0 (27839,)\n",
      "[INFO][2023/04/14 01:40:21 pm] Writing properties/obj_type_1/mean_intensity-1 (27839,)\n",
      "14-Apr-23 13:40:21 - btrack.dataio - INFO     - Writing properties/obj_type_1/mean_intensity-1 (27839,)\n",
      "[INFO][2023/04/14 01:40:21 pm] Writing properties/obj_type_1/minor_axis_length (27839,)\n",
      "14-Apr-23 13:40:21 - btrack.dataio - INFO     - Writing properties/obj_type_1/minor_axis_length (27839,)\n",
      "[INFO][2023/04/14 01:40:21 pm] Writing properties/obj_type_1/orientation (27839,)\n",
      "14-Apr-23 13:40:21 - btrack.dataio - INFO     - Writing properties/obj_type_1/orientation (27839,)\n",
      "[INFO][2023/04/14 01:40:21 pm] Writing tracks/obj_type_1\n",
      "14-Apr-23 13:40:21 - btrack.dataio - INFO     - Writing tracks/obj_type_1\n",
      "[INFO][2023/04/14 01:40:21 pm] Writing LBEP/obj_type_1\n",
      "14-Apr-23 13:40:21 - btrack.dataio - INFO     - Writing LBEP/obj_type_1\n",
      "[INFO][2023/04/14 01:40:21 pm] Writing fates/obj_type_1\n",
      "14-Apr-23 13:40:21 - btrack.dataio - INFO     - Writing fates/obj_type_1\n",
      "[INFO][2023/04/14 01:40:23 pm] Closing HDF file: /mnt/DATA/macrohet/labels/full_localisation/downscaled/cleaned/(5, 5).h5\n",
      "14-Apr-23 13:40:23 - btrack.dataio - INFO     - Closing HDF file: /mnt/DATA/macrohet/labels/full_localisation/downscaled/cleaned/(5, 5).h5\n",
      "[INFO][2023/04/14 01:40:23 pm] Opening HDF file: /mnt/DATA/macrohet/labels/full_localisation/downscaled/(5,6).h5...\n",
      "14-Apr-23 13:40:23 - btrack.dataio - INFO     - Opening HDF file: /mnt/DATA/macrohet/labels/full_localisation/downscaled/(5,6).h5...\n",
      "[INFO][2023/04/14 01:40:23 pm] Loading tracks/obj_type_1\n",
      "14-Apr-23 13:40:23 - btrack.dataio - INFO     - Loading tracks/obj_type_1\n",
      "[INFO][2023/04/14 01:40:23 pm] Loading objects/obj_type_1 (27312, 5) (27312 filtered: None)\n",
      "14-Apr-23 13:40:23 - btrack.dataio - INFO     - Loading objects/obj_type_1 (27312, 5) (27312 filtered: None)\n",
      "[INFO][2023/04/14 01:40:24 pm] Loading segmentation (75, 1200, 1200)\n",
      "14-Apr-23 13:40:24 - btrack.dataio - INFO     - Loading segmentation (75, 1200, 1200)\n",
      "[INFO][2023/04/14 01:40:24 pm] Loading objects/obj_type_1 (27312, 5) (27312 filtered: None)\n",
      "14-Apr-23 13:40:24 - btrack.dataio - INFO     - Loading objects/obj_type_1 (27312, 5) (27312 filtered: None)\n",
      "[INFO][2023/04/14 01:40:24 pm] Closing HDF file: /mnt/DATA/macrohet/labels/full_localisation/downscaled/(5,6).h5\n",
      "14-Apr-23 13:40:24 - btrack.dataio - INFO     - Closing HDF file: /mnt/DATA/macrohet/labels/full_localisation/downscaled/(5,6).h5\n"
     ]
    },
    {
     "data": {
      "application/vnd.jupyter.widget-view+json": {
       "model_id": "ca43b518c62b4ed0b02672c88cd256ca",
       "version_major": 2,
       "version_minor": 0
      },
      "text/plain": [
       "Labelling:   0%|          | 0/75 [00:00<?, ?it/s]"
      ]
     },
     "metadata": {},
     "output_type": "display_data"
    },
    {
     "data": {
      "application/vnd.jupyter.widget-view+json": {
       "model_id": "05faf91da5fe4c8bbf337cc9f88e5a70",
       "version_major": 2,
       "version_minor": 0
      },
      "text/plain": [
       "Remove small objs:   0%|          | 0/75 [00:00<?, ?it/s]"
      ]
     },
     "metadata": {},
     "output_type": "display_data"
    },
    {
     "data": {
      "application/vnd.jupyter.widget-view+json": {
       "model_id": "66efeb23b73c48179e6bee1ea16adca8",
       "version_major": 2,
       "version_minor": 0
      },
      "text/plain": [
       "Remove small holes:   0%|          | 0/75 [00:00<?, ?it/s]"
      ]
     },
     "metadata": {},
     "output_type": "display_data"
    },
    {
     "data": {
      "application/vnd.jupyter.widget-view+json": {
       "model_id": "842bcebf871d44b2ba383afa6d8f9762",
       "version_major": 2,
       "version_minor": 0
      },
      "text/plain": [
       "Scaling to (1200, 1200):   0%|          | 0/75 [00:00<?, ?it/s]"
      ]
     },
     "metadata": {},
     "output_type": "display_data"
    },
    {
     "name": "stderr",
     "output_type": "stream",
     "text": [
      "[INFO][2023/04/14 01:41:40 pm] Opening HDF file: /mnt/DATA/macrohet/labels/full_localisation/downscaled/cleaned/(5, 6).h5...\n",
      "14-Apr-23 13:41:40 - btrack.dataio - INFO     - Opening HDF file: /mnt/DATA/macrohet/labels/full_localisation/downscaled/cleaned/(5, 6).h5...\n",
      "[INFO][2023/04/14 01:41:40 pm] Writing objects/obj_type_1\n",
      "14-Apr-23 13:41:40 - btrack.dataio - INFO     - Writing objects/obj_type_1\n",
      "[INFO][2023/04/14 01:41:40 pm] Writing labels/obj_type_1\n",
      "14-Apr-23 13:41:40 - btrack.dataio - INFO     - Writing labels/obj_type_1\n",
      "[INFO][2023/04/14 01:41:40 pm] Loading objects/obj_type_1 (27312, 5) (27312 filtered: None)\n",
      "14-Apr-23 13:41:40 - btrack.dataio - INFO     - Loading objects/obj_type_1 (27312, 5) (27312 filtered: None)\n",
      "[INFO][2023/04/14 01:41:40 pm] Writing properties/obj_type_1/area (27312,)\n",
      "14-Apr-23 13:41:40 - btrack.dataio - INFO     - Writing properties/obj_type_1/area (27312,)\n",
      "[INFO][2023/04/14 01:41:40 pm] Writing properties/obj_type_1/major_axis_length (27312,)\n",
      "14-Apr-23 13:41:40 - btrack.dataio - INFO     - Writing properties/obj_type_1/major_axis_length (27312,)\n",
      "[INFO][2023/04/14 01:41:40 pm] Writing properties/obj_type_1/mean_intensity-0 (27312,)\n",
      "14-Apr-23 13:41:40 - btrack.dataio - INFO     - Writing properties/obj_type_1/mean_intensity-0 (27312,)\n",
      "[INFO][2023/04/14 01:41:40 pm] Writing properties/obj_type_1/mean_intensity-1 (27312,)\n",
      "14-Apr-23 13:41:40 - btrack.dataio - INFO     - Writing properties/obj_type_1/mean_intensity-1 (27312,)\n",
      "[INFO][2023/04/14 01:41:40 pm] Writing properties/obj_type_1/minor_axis_length (27312,)\n",
      "14-Apr-23 13:41:40 - btrack.dataio - INFO     - Writing properties/obj_type_1/minor_axis_length (27312,)\n",
      "[INFO][2023/04/14 01:41:40 pm] Writing properties/obj_type_1/orientation (27312,)\n",
      "14-Apr-23 13:41:40 - btrack.dataio - INFO     - Writing properties/obj_type_1/orientation (27312,)\n",
      "[INFO][2023/04/14 01:41:40 pm] Writing tracks/obj_type_1\n",
      "14-Apr-23 13:41:40 - btrack.dataio - INFO     - Writing tracks/obj_type_1\n",
      "[INFO][2023/04/14 01:41:40 pm] Writing LBEP/obj_type_1\n",
      "14-Apr-23 13:41:40 - btrack.dataio - INFO     - Writing LBEP/obj_type_1\n",
      "[INFO][2023/04/14 01:41:40 pm] Writing fates/obj_type_1\n",
      "14-Apr-23 13:41:40 - btrack.dataio - INFO     - Writing fates/obj_type_1\n",
      "[INFO][2023/04/14 01:41:42 pm] Closing HDF file: /mnt/DATA/macrohet/labels/full_localisation/downscaled/cleaned/(5, 6).h5\n",
      "14-Apr-23 13:41:42 - btrack.dataio - INFO     - Closing HDF file: /mnt/DATA/macrohet/labels/full_localisation/downscaled/cleaned/(5, 6).h5\n",
      "[INFO][2023/04/14 01:41:42 pm] Opening HDF file: /mnt/DATA/macrohet/labels/full_localisation/downscaled/(5,7).h5...\n",
      "14-Apr-23 13:41:42 - btrack.dataio - INFO     - Opening HDF file: /mnt/DATA/macrohet/labels/full_localisation/downscaled/(5,7).h5...\n",
      "[INFO][2023/04/14 01:41:42 pm] Loading tracks/obj_type_1\n",
      "14-Apr-23 13:41:42 - btrack.dataio - INFO     - Loading tracks/obj_type_1\n",
      "[INFO][2023/04/14 01:41:42 pm] Loading objects/obj_type_1 (27990, 5) (27990 filtered: None)\n",
      "14-Apr-23 13:41:42 - btrack.dataio - INFO     - Loading objects/obj_type_1 (27990, 5) (27990 filtered: None)\n",
      "[INFO][2023/04/14 01:41:44 pm] Loading segmentation (75, 1200, 1200)\n",
      "14-Apr-23 13:41:44 - btrack.dataio - INFO     - Loading segmentation (75, 1200, 1200)\n",
      "[INFO][2023/04/14 01:41:44 pm] Loading objects/obj_type_1 (27990, 5) (27990 filtered: None)\n",
      "14-Apr-23 13:41:44 - btrack.dataio - INFO     - Loading objects/obj_type_1 (27990, 5) (27990 filtered: None)\n",
      "[INFO][2023/04/14 01:41:44 pm] Closing HDF file: /mnt/DATA/macrohet/labels/full_localisation/downscaled/(5,7).h5\n",
      "14-Apr-23 13:41:44 - btrack.dataio - INFO     - Closing HDF file: /mnt/DATA/macrohet/labels/full_localisation/downscaled/(5,7).h5\n"
     ]
    },
    {
     "data": {
      "application/vnd.jupyter.widget-view+json": {
       "model_id": "090a75247a7843d48a8e7c0cd721cf7c",
       "version_major": 2,
       "version_minor": 0
      },
      "text/plain": [
       "Labelling:   0%|          | 0/75 [00:00<?, ?it/s]"
      ]
     },
     "metadata": {},
     "output_type": "display_data"
    },
    {
     "data": {
      "application/vnd.jupyter.widget-view+json": {
       "model_id": "52ffad2a8e4c4020b0dcf8b0bd3068b6",
       "version_major": 2,
       "version_minor": 0
      },
      "text/plain": [
       "Remove small objs:   0%|          | 0/75 [00:00<?, ?it/s]"
      ]
     },
     "metadata": {},
     "output_type": "display_data"
    },
    {
     "data": {
      "application/vnd.jupyter.widget-view+json": {
       "model_id": "ef00944b600545bf83a27647f77e3319",
       "version_major": 2,
       "version_minor": 0
      },
      "text/plain": [
       "Remove small holes:   0%|          | 0/75 [00:00<?, ?it/s]"
      ]
     },
     "metadata": {},
     "output_type": "display_data"
    },
    {
     "data": {
      "application/vnd.jupyter.widget-view+json": {
       "model_id": "545f41038963491c987cb1cea7b1876a",
       "version_major": 2,
       "version_minor": 0
      },
      "text/plain": [
       "Scaling to (1200, 1200):   0%|          | 0/75 [00:00<?, ?it/s]"
      ]
     },
     "metadata": {},
     "output_type": "display_data"
    },
    {
     "name": "stderr",
     "output_type": "stream",
     "text": [
      "[INFO][2023/04/14 01:43:05 pm] Opening HDF file: /mnt/DATA/macrohet/labels/full_localisation/downscaled/cleaned/(5, 7).h5...\n",
      "14-Apr-23 13:43:05 - btrack.dataio - INFO     - Opening HDF file: /mnt/DATA/macrohet/labels/full_localisation/downscaled/cleaned/(5, 7).h5...\n",
      "[INFO][2023/04/14 01:43:05 pm] Writing objects/obj_type_1\n",
      "14-Apr-23 13:43:05 - btrack.dataio - INFO     - Writing objects/obj_type_1\n",
      "[INFO][2023/04/14 01:43:05 pm] Writing labels/obj_type_1\n",
      "14-Apr-23 13:43:05 - btrack.dataio - INFO     - Writing labels/obj_type_1\n",
      "[INFO][2023/04/14 01:43:05 pm] Loading objects/obj_type_1 (27990, 5) (27990 filtered: None)\n",
      "14-Apr-23 13:43:05 - btrack.dataio - INFO     - Loading objects/obj_type_1 (27990, 5) (27990 filtered: None)\n",
      "[INFO][2023/04/14 01:43:05 pm] Writing properties/obj_type_1/area (27990,)\n",
      "14-Apr-23 13:43:05 - btrack.dataio - INFO     - Writing properties/obj_type_1/area (27990,)\n",
      "[INFO][2023/04/14 01:43:05 pm] Writing properties/obj_type_1/major_axis_length (27990,)\n",
      "14-Apr-23 13:43:05 - btrack.dataio - INFO     - Writing properties/obj_type_1/major_axis_length (27990,)\n",
      "[INFO][2023/04/14 01:43:05 pm] Writing properties/obj_type_1/mean_intensity-0 (27990,)\n",
      "14-Apr-23 13:43:05 - btrack.dataio - INFO     - Writing properties/obj_type_1/mean_intensity-0 (27990,)\n",
      "[INFO][2023/04/14 01:43:05 pm] Writing properties/obj_type_1/mean_intensity-1 (27990,)\n",
      "14-Apr-23 13:43:05 - btrack.dataio - INFO     - Writing properties/obj_type_1/mean_intensity-1 (27990,)\n",
      "[INFO][2023/04/14 01:43:05 pm] Writing properties/obj_type_1/minor_axis_length (27990,)\n",
      "14-Apr-23 13:43:05 - btrack.dataio - INFO     - Writing properties/obj_type_1/minor_axis_length (27990,)\n",
      "[INFO][2023/04/14 01:43:05 pm] Writing properties/obj_type_1/orientation (27990,)\n",
      "14-Apr-23 13:43:05 - btrack.dataio - INFO     - Writing properties/obj_type_1/orientation (27990,)\n",
      "[INFO][2023/04/14 01:43:05 pm] Writing tracks/obj_type_1\n",
      "14-Apr-23 13:43:05 - btrack.dataio - INFO     - Writing tracks/obj_type_1\n",
      "[INFO][2023/04/14 01:43:05 pm] Writing LBEP/obj_type_1\n",
      "14-Apr-23 13:43:05 - btrack.dataio - INFO     - Writing LBEP/obj_type_1\n",
      "[INFO][2023/04/14 01:43:05 pm] Writing fates/obj_type_1\n",
      "14-Apr-23 13:43:05 - btrack.dataio - INFO     - Writing fates/obj_type_1\n",
      "[INFO][2023/04/14 01:43:07 pm] Closing HDF file: /mnt/DATA/macrohet/labels/full_localisation/downscaled/cleaned/(5, 7).h5\n",
      "14-Apr-23 13:43:07 - btrack.dataio - INFO     - Closing HDF file: /mnt/DATA/macrohet/labels/full_localisation/downscaled/cleaned/(5, 7).h5\n",
      "[INFO][2023/04/14 01:43:07 pm] Opening HDF file: /mnt/DATA/macrohet/labels/full_localisation/downscaled/(5,8).h5...\n",
      "14-Apr-23 13:43:07 - btrack.dataio - INFO     - Opening HDF file: /mnt/DATA/macrohet/labels/full_localisation/downscaled/(5,8).h5...\n",
      "[INFO][2023/04/14 01:43:07 pm] Loading tracks/obj_type_1\n",
      "14-Apr-23 13:43:07 - btrack.dataio - INFO     - Loading tracks/obj_type_1\n",
      "[INFO][2023/04/14 01:43:07 pm] Loading objects/obj_type_1 (26077, 5) (26077 filtered: None)\n",
      "14-Apr-23 13:43:07 - btrack.dataio - INFO     - Loading objects/obj_type_1 (26077, 5) (26077 filtered: None)\n",
      "[INFO][2023/04/14 01:43:08 pm] Loading segmentation (75, 1200, 1200)\n",
      "14-Apr-23 13:43:08 - btrack.dataio - INFO     - Loading segmentation (75, 1200, 1200)\n",
      "[INFO][2023/04/14 01:43:08 pm] Loading objects/obj_type_1 (26077, 5) (26077 filtered: None)\n",
      "14-Apr-23 13:43:08 - btrack.dataio - INFO     - Loading objects/obj_type_1 (26077, 5) (26077 filtered: None)\n",
      "[INFO][2023/04/14 01:43:09 pm] Closing HDF file: /mnt/DATA/macrohet/labels/full_localisation/downscaled/(5,8).h5\n",
      "14-Apr-23 13:43:09 - btrack.dataio - INFO     - Closing HDF file: /mnt/DATA/macrohet/labels/full_localisation/downscaled/(5,8).h5\n"
     ]
    },
    {
     "data": {
      "application/vnd.jupyter.widget-view+json": {
       "model_id": "4b9be9d46f3f44dfaf047306efdbefe5",
       "version_major": 2,
       "version_minor": 0
      },
      "text/plain": [
       "Labelling:   0%|          | 0/75 [00:00<?, ?it/s]"
      ]
     },
     "metadata": {},
     "output_type": "display_data"
    },
    {
     "data": {
      "application/vnd.jupyter.widget-view+json": {
       "model_id": "f577ae2f48c64726937497fd68b1bd54",
       "version_major": 2,
       "version_minor": 0
      },
      "text/plain": [
       "Remove small objs:   0%|          | 0/75 [00:00<?, ?it/s]"
      ]
     },
     "metadata": {},
     "output_type": "display_data"
    },
    {
     "data": {
      "application/vnd.jupyter.widget-view+json": {
       "model_id": "3b43cbaf026940cfad91a21460e7cc5a",
       "version_major": 2,
       "version_minor": 0
      },
      "text/plain": [
       "Remove small holes:   0%|          | 0/75 [00:00<?, ?it/s]"
      ]
     },
     "metadata": {},
     "output_type": "display_data"
    },
    {
     "data": {
      "application/vnd.jupyter.widget-view+json": {
       "model_id": "1861e34c787d4c24a142ffac87d799b9",
       "version_major": 2,
       "version_minor": 0
      },
      "text/plain": [
       "Scaling to (1200, 1200):   0%|          | 0/75 [00:00<?, ?it/s]"
      ]
     },
     "metadata": {},
     "output_type": "display_data"
    },
    {
     "name": "stderr",
     "output_type": "stream",
     "text": [
      "[INFO][2023/04/14 01:44:28 pm] Opening HDF file: /mnt/DATA/macrohet/labels/full_localisation/downscaled/cleaned/(5, 8).h5...\n",
      "14-Apr-23 13:44:28 - btrack.dataio - INFO     - Opening HDF file: /mnt/DATA/macrohet/labels/full_localisation/downscaled/cleaned/(5, 8).h5...\n",
      "[INFO][2023/04/14 01:44:28 pm] Writing objects/obj_type_1\n",
      "14-Apr-23 13:44:28 - btrack.dataio - INFO     - Writing objects/obj_type_1\n",
      "[INFO][2023/04/14 01:44:28 pm] Writing labels/obj_type_1\n",
      "14-Apr-23 13:44:28 - btrack.dataio - INFO     - Writing labels/obj_type_1\n",
      "[INFO][2023/04/14 01:44:28 pm] Loading objects/obj_type_1 (26077, 5) (26077 filtered: None)\n",
      "14-Apr-23 13:44:28 - btrack.dataio - INFO     - Loading objects/obj_type_1 (26077, 5) (26077 filtered: None)\n",
      "[INFO][2023/04/14 01:44:29 pm] Writing properties/obj_type_1/area (26077,)\n",
      "14-Apr-23 13:44:29 - btrack.dataio - INFO     - Writing properties/obj_type_1/area (26077,)\n",
      "[INFO][2023/04/14 01:44:29 pm] Writing properties/obj_type_1/major_axis_length (26077,)\n",
      "14-Apr-23 13:44:29 - btrack.dataio - INFO     - Writing properties/obj_type_1/major_axis_length (26077,)\n",
      "[INFO][2023/04/14 01:44:29 pm] Writing properties/obj_type_1/mean_intensity-0 (26077,)\n",
      "14-Apr-23 13:44:29 - btrack.dataio - INFO     - Writing properties/obj_type_1/mean_intensity-0 (26077,)\n",
      "[INFO][2023/04/14 01:44:29 pm] Writing properties/obj_type_1/mean_intensity-1 (26077,)\n",
      "14-Apr-23 13:44:29 - btrack.dataio - INFO     - Writing properties/obj_type_1/mean_intensity-1 (26077,)\n",
      "[INFO][2023/04/14 01:44:29 pm] Writing properties/obj_type_1/minor_axis_length (26077,)\n",
      "14-Apr-23 13:44:29 - btrack.dataio - INFO     - Writing properties/obj_type_1/minor_axis_length (26077,)\n",
      "[INFO][2023/04/14 01:44:29 pm] Writing properties/obj_type_1/orientation (26077,)\n",
      "14-Apr-23 13:44:29 - btrack.dataio - INFO     - Writing properties/obj_type_1/orientation (26077,)\n",
      "[INFO][2023/04/14 01:44:29 pm] Writing tracks/obj_type_1\n",
      "14-Apr-23 13:44:29 - btrack.dataio - INFO     - Writing tracks/obj_type_1\n",
      "[INFO][2023/04/14 01:44:29 pm] Writing LBEP/obj_type_1\n",
      "14-Apr-23 13:44:29 - btrack.dataio - INFO     - Writing LBEP/obj_type_1\n",
      "[INFO][2023/04/14 01:44:29 pm] Writing fates/obj_type_1\n",
      "14-Apr-23 13:44:29 - btrack.dataio - INFO     - Writing fates/obj_type_1\n",
      "[INFO][2023/04/14 01:44:31 pm] Closing HDF file: /mnt/DATA/macrohet/labels/full_localisation/downscaled/cleaned/(5, 8).h5\n",
      "14-Apr-23 13:44:31 - btrack.dataio - INFO     - Closing HDF file: /mnt/DATA/macrohet/labels/full_localisation/downscaled/cleaned/(5, 8).h5\n",
      "[INFO][2023/04/14 01:44:31 pm] Opening HDF file: /mnt/DATA/macrohet/labels/full_localisation/downscaled/(5,9).h5...\n",
      "14-Apr-23 13:44:31 - btrack.dataio - INFO     - Opening HDF file: /mnt/DATA/macrohet/labels/full_localisation/downscaled/(5,9).h5...\n",
      "[INFO][2023/04/14 01:44:31 pm] Loading tracks/obj_type_1\n",
      "14-Apr-23 13:44:31 - btrack.dataio - INFO     - Loading tracks/obj_type_1\n",
      "[INFO][2023/04/14 01:44:31 pm] Loading objects/obj_type_1 (22122, 5) (22122 filtered: None)\n",
      "14-Apr-23 13:44:31 - btrack.dataio - INFO     - Loading objects/obj_type_1 (22122, 5) (22122 filtered: None)\n",
      "[INFO][2023/04/14 01:44:31 pm] Loading segmentation (75, 1200, 1200)\n",
      "14-Apr-23 13:44:31 - btrack.dataio - INFO     - Loading segmentation (75, 1200, 1200)\n",
      "[INFO][2023/04/14 01:44:31 pm] Loading objects/obj_type_1 (22122, 5) (22122 filtered: None)\n",
      "14-Apr-23 13:44:31 - btrack.dataio - INFO     - Loading objects/obj_type_1 (22122, 5) (22122 filtered: None)\n",
      "[INFO][2023/04/14 01:44:31 pm] Closing HDF file: /mnt/DATA/macrohet/labels/full_localisation/downscaled/(5,9).h5\n",
      "14-Apr-23 13:44:31 - btrack.dataio - INFO     - Closing HDF file: /mnt/DATA/macrohet/labels/full_localisation/downscaled/(5,9).h5\n"
     ]
    },
    {
     "data": {
      "application/vnd.jupyter.widget-view+json": {
       "model_id": "4f67bedb9faf4a5d948a2017fbbf8947",
       "version_major": 2,
       "version_minor": 0
      },
      "text/plain": [
       "Labelling:   0%|          | 0/75 [00:00<?, ?it/s]"
      ]
     },
     "metadata": {},
     "output_type": "display_data"
    },
    {
     "data": {
      "application/vnd.jupyter.widget-view+json": {
       "model_id": "0739e9dd365e4ee6b9eb5d793f4f6e4a",
       "version_major": 2,
       "version_minor": 0
      },
      "text/plain": [
       "Remove small objs:   0%|          | 0/75 [00:00<?, ?it/s]"
      ]
     },
     "metadata": {},
     "output_type": "display_data"
    },
    {
     "data": {
      "application/vnd.jupyter.widget-view+json": {
       "model_id": "d2fb1381aa2944c69c507bf1479377c6",
       "version_major": 2,
       "version_minor": 0
      },
      "text/plain": [
       "Remove small holes:   0%|          | 0/75 [00:00<?, ?it/s]"
      ]
     },
     "metadata": {},
     "output_type": "display_data"
    },
    {
     "data": {
      "application/vnd.jupyter.widget-view+json": {
       "model_id": "bfe1dea81cf949108b4a54c74db2ba1d",
       "version_major": 2,
       "version_minor": 0
      },
      "text/plain": [
       "Scaling to (1200, 1200):   0%|          | 0/75 [00:00<?, ?it/s]"
      ]
     },
     "metadata": {},
     "output_type": "display_data"
    },
    {
     "name": "stderr",
     "output_type": "stream",
     "text": [
      "[INFO][2023/04/14 01:45:52 pm] Opening HDF file: /mnt/DATA/macrohet/labels/full_localisation/downscaled/cleaned/(5, 9).h5...\n",
      "14-Apr-23 13:45:52 - btrack.dataio - INFO     - Opening HDF file: /mnt/DATA/macrohet/labels/full_localisation/downscaled/cleaned/(5, 9).h5...\n",
      "[INFO][2023/04/14 01:45:53 pm] Writing objects/obj_type_1\n",
      "14-Apr-23 13:45:53 - btrack.dataio - INFO     - Writing objects/obj_type_1\n",
      "[INFO][2023/04/14 01:45:53 pm] Writing labels/obj_type_1\n",
      "14-Apr-23 13:45:53 - btrack.dataio - INFO     - Writing labels/obj_type_1\n",
      "[INFO][2023/04/14 01:45:53 pm] Loading objects/obj_type_1 (22122, 5) (22122 filtered: None)\n",
      "14-Apr-23 13:45:53 - btrack.dataio - INFO     - Loading objects/obj_type_1 (22122, 5) (22122 filtered: None)\n",
      "[INFO][2023/04/14 01:45:53 pm] Writing properties/obj_type_1/area (22122,)\n",
      "14-Apr-23 13:45:53 - btrack.dataio - INFO     - Writing properties/obj_type_1/area (22122,)\n",
      "[INFO][2023/04/14 01:45:53 pm] Writing properties/obj_type_1/major_axis_length (22122,)\n",
      "14-Apr-23 13:45:53 - btrack.dataio - INFO     - Writing properties/obj_type_1/major_axis_length (22122,)\n",
      "[INFO][2023/04/14 01:45:53 pm] Writing properties/obj_type_1/mean_intensity-0 (22122,)\n",
      "14-Apr-23 13:45:53 - btrack.dataio - INFO     - Writing properties/obj_type_1/mean_intensity-0 (22122,)\n",
      "[INFO][2023/04/14 01:45:53 pm] Writing properties/obj_type_1/mean_intensity-1 (22122,)\n",
      "14-Apr-23 13:45:53 - btrack.dataio - INFO     - Writing properties/obj_type_1/mean_intensity-1 (22122,)\n",
      "[INFO][2023/04/14 01:45:53 pm] Writing properties/obj_type_1/minor_axis_length (22122,)\n",
      "14-Apr-23 13:45:53 - btrack.dataio - INFO     - Writing properties/obj_type_1/minor_axis_length (22122,)\n",
      "[INFO][2023/04/14 01:45:53 pm] Writing properties/obj_type_1/orientation (22122,)\n",
      "14-Apr-23 13:45:53 - btrack.dataio - INFO     - Writing properties/obj_type_1/orientation (22122,)\n",
      "[INFO][2023/04/14 01:45:53 pm] Writing tracks/obj_type_1\n",
      "14-Apr-23 13:45:53 - btrack.dataio - INFO     - Writing tracks/obj_type_1\n",
      "[INFO][2023/04/14 01:45:53 pm] Writing LBEP/obj_type_1\n",
      "14-Apr-23 13:45:53 - btrack.dataio - INFO     - Writing LBEP/obj_type_1\n",
      "[INFO][2023/04/14 01:45:53 pm] Writing fates/obj_type_1\n",
      "14-Apr-23 13:45:53 - btrack.dataio - INFO     - Writing fates/obj_type_1\n",
      "[INFO][2023/04/14 01:45:55 pm] Closing HDF file: /mnt/DATA/macrohet/labels/full_localisation/downscaled/cleaned/(5, 9).h5\n",
      "14-Apr-23 13:45:55 - btrack.dataio - INFO     - Closing HDF file: /mnt/DATA/macrohet/labels/full_localisation/downscaled/cleaned/(5, 9).h5\n",
      "[INFO][2023/04/14 01:45:55 pm] Opening HDF file: /mnt/DATA/macrohet/labels/full_localisation/downscaled/(6,4).h5...\n",
      "14-Apr-23 13:45:55 - btrack.dataio - INFO     - Opening HDF file: /mnt/DATA/macrohet/labels/full_localisation/downscaled/(6,4).h5...\n",
      "[INFO][2023/04/14 01:45:55 pm] Loading tracks/obj_type_1\n",
      "14-Apr-23 13:45:55 - btrack.dataio - INFO     - Loading tracks/obj_type_1\n",
      "[INFO][2023/04/14 01:45:55 pm] Loading objects/obj_type_1 (24744, 5) (24744 filtered: None)\n",
      "14-Apr-23 13:45:55 - btrack.dataio - INFO     - Loading objects/obj_type_1 (24744, 5) (24744 filtered: None)\n",
      "[INFO][2023/04/14 01:45:56 pm] Loading segmentation (75, 1200, 1200)\n",
      "14-Apr-23 13:45:56 - btrack.dataio - INFO     - Loading segmentation (75, 1200, 1200)\n",
      "[INFO][2023/04/14 01:45:56 pm] Loading objects/obj_type_1 (24744, 5) (24744 filtered: None)\n",
      "14-Apr-23 13:45:56 - btrack.dataio - INFO     - Loading objects/obj_type_1 (24744, 5) (24744 filtered: None)\n",
      "[INFO][2023/04/14 01:45:56 pm] Closing HDF file: /mnt/DATA/macrohet/labels/full_localisation/downscaled/(6,4).h5\n",
      "14-Apr-23 13:45:56 - btrack.dataio - INFO     - Closing HDF file: /mnt/DATA/macrohet/labels/full_localisation/downscaled/(6,4).h5\n"
     ]
    },
    {
     "data": {
      "application/vnd.jupyter.widget-view+json": {
       "model_id": "164b7ecda5d4441e807766b90b7f8627",
       "version_major": 2,
       "version_minor": 0
      },
      "text/plain": [
       "Labelling:   0%|          | 0/75 [00:00<?, ?it/s]"
      ]
     },
     "metadata": {},
     "output_type": "display_data"
    },
    {
     "data": {
      "application/vnd.jupyter.widget-view+json": {
       "model_id": "3c0f865f515e40038f1de01e96151077",
       "version_major": 2,
       "version_minor": 0
      },
      "text/plain": [
       "Remove small objs:   0%|          | 0/75 [00:00<?, ?it/s]"
      ]
     },
     "metadata": {},
     "output_type": "display_data"
    },
    {
     "data": {
      "application/vnd.jupyter.widget-view+json": {
       "model_id": "157b71cc533341e092518da9898bd8e3",
       "version_major": 2,
       "version_minor": 0
      },
      "text/plain": [
       "Remove small holes:   0%|          | 0/75 [00:00<?, ?it/s]"
      ]
     },
     "metadata": {},
     "output_type": "display_data"
    },
    {
     "data": {
      "application/vnd.jupyter.widget-view+json": {
       "model_id": "8b539161738c405494a75498d467b221",
       "version_major": 2,
       "version_minor": 0
      },
      "text/plain": [
       "Scaling to (1200, 1200):   0%|          | 0/75 [00:00<?, ?it/s]"
      ]
     },
     "metadata": {},
     "output_type": "display_data"
    },
    {
     "name": "stderr",
     "output_type": "stream",
     "text": [
      "[INFO][2023/04/14 01:47:18 pm] Opening HDF file: /mnt/DATA/macrohet/labels/full_localisation/downscaled/cleaned/(6, 4).h5...\n",
      "14-Apr-23 13:47:18 - btrack.dataio - INFO     - Opening HDF file: /mnt/DATA/macrohet/labels/full_localisation/downscaled/cleaned/(6, 4).h5...\n",
      "[INFO][2023/04/14 01:47:18 pm] Writing objects/obj_type_1\n",
      "14-Apr-23 13:47:18 - btrack.dataio - INFO     - Writing objects/obj_type_1\n",
      "[INFO][2023/04/14 01:47:18 pm] Writing labels/obj_type_1\n",
      "14-Apr-23 13:47:18 - btrack.dataio - INFO     - Writing labels/obj_type_1\n",
      "[INFO][2023/04/14 01:47:18 pm] Loading objects/obj_type_1 (24744, 5) (24744 filtered: None)\n",
      "14-Apr-23 13:47:18 - btrack.dataio - INFO     - Loading objects/obj_type_1 (24744, 5) (24744 filtered: None)\n",
      "[INFO][2023/04/14 01:47:19 pm] Writing properties/obj_type_1/area (24744,)\n",
      "14-Apr-23 13:47:19 - btrack.dataio - INFO     - Writing properties/obj_type_1/area (24744,)\n",
      "[INFO][2023/04/14 01:47:19 pm] Writing properties/obj_type_1/major_axis_length (24744,)\n",
      "14-Apr-23 13:47:19 - btrack.dataio - INFO     - Writing properties/obj_type_1/major_axis_length (24744,)\n",
      "[INFO][2023/04/14 01:47:19 pm] Writing properties/obj_type_1/mean_intensity-0 (24744,)\n",
      "14-Apr-23 13:47:19 - btrack.dataio - INFO     - Writing properties/obj_type_1/mean_intensity-0 (24744,)\n",
      "[INFO][2023/04/14 01:47:19 pm] Writing properties/obj_type_1/mean_intensity-1 (24744,)\n",
      "14-Apr-23 13:47:19 - btrack.dataio - INFO     - Writing properties/obj_type_1/mean_intensity-1 (24744,)\n",
      "[INFO][2023/04/14 01:47:19 pm] Writing properties/obj_type_1/minor_axis_length (24744,)\n",
      "14-Apr-23 13:47:19 - btrack.dataio - INFO     - Writing properties/obj_type_1/minor_axis_length (24744,)\n",
      "[INFO][2023/04/14 01:47:19 pm] Writing properties/obj_type_1/orientation (24744,)\n",
      "14-Apr-23 13:47:19 - btrack.dataio - INFO     - Writing properties/obj_type_1/orientation (24744,)\n",
      "[INFO][2023/04/14 01:47:19 pm] Writing tracks/obj_type_1\n",
      "14-Apr-23 13:47:19 - btrack.dataio - INFO     - Writing tracks/obj_type_1\n",
      "[INFO][2023/04/14 01:47:19 pm] Writing LBEP/obj_type_1\n",
      "14-Apr-23 13:47:19 - btrack.dataio - INFO     - Writing LBEP/obj_type_1\n",
      "[INFO][2023/04/14 01:47:19 pm] Writing fates/obj_type_1\n",
      "14-Apr-23 13:47:19 - btrack.dataio - INFO     - Writing fates/obj_type_1\n",
      "[INFO][2023/04/14 01:47:21 pm] Closing HDF file: /mnt/DATA/macrohet/labels/full_localisation/downscaled/cleaned/(6, 4).h5\n",
      "14-Apr-23 13:47:21 - btrack.dataio - INFO     - Closing HDF file: /mnt/DATA/macrohet/labels/full_localisation/downscaled/cleaned/(6, 4).h5\n",
      "[INFO][2023/04/14 01:47:21 pm] Opening HDF file: /mnt/DATA/macrohet/labels/full_localisation/downscaled/(6,5).h5...\n",
      "14-Apr-23 13:47:21 - btrack.dataio - INFO     - Opening HDF file: /mnt/DATA/macrohet/labels/full_localisation/downscaled/(6,5).h5...\n",
      "[INFO][2023/04/14 01:47:21 pm] Loading tracks/obj_type_1\n",
      "14-Apr-23 13:47:21 - btrack.dataio - INFO     - Loading tracks/obj_type_1\n",
      "[INFO][2023/04/14 01:47:21 pm] Loading objects/obj_type_1 (28008, 5) (28008 filtered: None)\n",
      "14-Apr-23 13:47:21 - btrack.dataio - INFO     - Loading objects/obj_type_1 (28008, 5) (28008 filtered: None)\n",
      "[INFO][2023/04/14 01:47:23 pm] Loading segmentation (75, 1200, 1200)\n",
      "14-Apr-23 13:47:23 - btrack.dataio - INFO     - Loading segmentation (75, 1200, 1200)\n",
      "[INFO][2023/04/14 01:47:23 pm] Loading objects/obj_type_1 (28008, 5) (28008 filtered: None)\n",
      "14-Apr-23 13:47:23 - btrack.dataio - INFO     - Loading objects/obj_type_1 (28008, 5) (28008 filtered: None)\n",
      "[INFO][2023/04/14 01:47:23 pm] Closing HDF file: /mnt/DATA/macrohet/labels/full_localisation/downscaled/(6,5).h5\n",
      "14-Apr-23 13:47:23 - btrack.dataio - INFO     - Closing HDF file: /mnt/DATA/macrohet/labels/full_localisation/downscaled/(6,5).h5\n"
     ]
    },
    {
     "data": {
      "application/vnd.jupyter.widget-view+json": {
       "model_id": "dbba8ab58e9f41de9b46794faf35d53b",
       "version_major": 2,
       "version_minor": 0
      },
      "text/plain": [
       "Labelling:   0%|          | 0/75 [00:00<?, ?it/s]"
      ]
     },
     "metadata": {},
     "output_type": "display_data"
    },
    {
     "data": {
      "application/vnd.jupyter.widget-view+json": {
       "model_id": "2dfbdce79a9848569c6f953782355286",
       "version_major": 2,
       "version_minor": 0
      },
      "text/plain": [
       "Remove small objs:   0%|          | 0/75 [00:00<?, ?it/s]"
      ]
     },
     "metadata": {},
     "output_type": "display_data"
    },
    {
     "data": {
      "application/vnd.jupyter.widget-view+json": {
       "model_id": "5b321f7fb5274d9d91d37e6e3edd6b8d",
       "version_major": 2,
       "version_minor": 0
      },
      "text/plain": [
       "Remove small holes:   0%|          | 0/75 [00:00<?, ?it/s]"
      ]
     },
     "metadata": {},
     "output_type": "display_data"
    },
    {
     "data": {
      "application/vnd.jupyter.widget-view+json": {
       "model_id": "0032a17c7c4144609667489c0dbf09c4",
       "version_major": 2,
       "version_minor": 0
      },
      "text/plain": [
       "Scaling to (1200, 1200):   0%|          | 0/75 [00:00<?, ?it/s]"
      ]
     },
     "metadata": {},
     "output_type": "display_data"
    },
    {
     "name": "stderr",
     "output_type": "stream",
     "text": [
      "[INFO][2023/04/14 01:48:50 pm] Opening HDF file: /mnt/DATA/macrohet/labels/full_localisation/downscaled/cleaned/(6, 5).h5...\n",
      "14-Apr-23 13:48:50 - btrack.dataio - INFO     - Opening HDF file: /mnt/DATA/macrohet/labels/full_localisation/downscaled/cleaned/(6, 5).h5...\n",
      "[INFO][2023/04/14 01:48:50 pm] Writing objects/obj_type_1\n",
      "14-Apr-23 13:48:50 - btrack.dataio - INFO     - Writing objects/obj_type_1\n",
      "[INFO][2023/04/14 01:48:50 pm] Writing labels/obj_type_1\n",
      "14-Apr-23 13:48:50 - btrack.dataio - INFO     - Writing labels/obj_type_1\n",
      "[INFO][2023/04/14 01:48:50 pm] Loading objects/obj_type_1 (28008, 5) (28008 filtered: None)\n",
      "14-Apr-23 13:48:50 - btrack.dataio - INFO     - Loading objects/obj_type_1 (28008, 5) (28008 filtered: None)\n",
      "[INFO][2023/04/14 01:48:51 pm] Writing properties/obj_type_1/area (28008,)\n",
      "14-Apr-23 13:48:51 - btrack.dataio - INFO     - Writing properties/obj_type_1/area (28008,)\n",
      "[INFO][2023/04/14 01:48:51 pm] Writing properties/obj_type_1/major_axis_length (28008,)\n",
      "14-Apr-23 13:48:51 - btrack.dataio - INFO     - Writing properties/obj_type_1/major_axis_length (28008,)\n",
      "[INFO][2023/04/14 01:48:51 pm] Writing properties/obj_type_1/mean_intensity-0 (28008,)\n",
      "14-Apr-23 13:48:51 - btrack.dataio - INFO     - Writing properties/obj_type_1/mean_intensity-0 (28008,)\n",
      "[INFO][2023/04/14 01:48:51 pm] Writing properties/obj_type_1/mean_intensity-1 (28008,)\n",
      "14-Apr-23 13:48:51 - btrack.dataio - INFO     - Writing properties/obj_type_1/mean_intensity-1 (28008,)\n",
      "[INFO][2023/04/14 01:48:51 pm] Writing properties/obj_type_1/minor_axis_length (28008,)\n",
      "14-Apr-23 13:48:51 - btrack.dataio - INFO     - Writing properties/obj_type_1/minor_axis_length (28008,)\n",
      "[INFO][2023/04/14 01:48:51 pm] Writing properties/obj_type_1/orientation (28008,)\n",
      "14-Apr-23 13:48:51 - btrack.dataio - INFO     - Writing properties/obj_type_1/orientation (28008,)\n",
      "[INFO][2023/04/14 01:48:51 pm] Writing tracks/obj_type_1\n",
      "14-Apr-23 13:48:51 - btrack.dataio - INFO     - Writing tracks/obj_type_1\n",
      "[INFO][2023/04/14 01:48:51 pm] Writing LBEP/obj_type_1\n",
      "14-Apr-23 13:48:51 - btrack.dataio - INFO     - Writing LBEP/obj_type_1\n",
      "[INFO][2023/04/14 01:48:51 pm] Writing fates/obj_type_1\n",
      "14-Apr-23 13:48:51 - btrack.dataio - INFO     - Writing fates/obj_type_1\n",
      "[INFO][2023/04/14 01:48:53 pm] Closing HDF file: /mnt/DATA/macrohet/labels/full_localisation/downscaled/cleaned/(6, 5).h5\n",
      "14-Apr-23 13:48:53 - btrack.dataio - INFO     - Closing HDF file: /mnt/DATA/macrohet/labels/full_localisation/downscaled/cleaned/(6, 5).h5\n",
      "[INFO][2023/04/14 01:48:53 pm] Opening HDF file: /mnt/DATA/macrohet/labels/full_localisation/downscaled/(6,6).h5...\n",
      "14-Apr-23 13:48:53 - btrack.dataio - INFO     - Opening HDF file: /mnt/DATA/macrohet/labels/full_localisation/downscaled/(6,6).h5...\n",
      "[INFO][2023/04/14 01:48:53 pm] Loading tracks/obj_type_1\n",
      "14-Apr-23 13:48:53 - btrack.dataio - INFO     - Loading tracks/obj_type_1\n",
      "[INFO][2023/04/14 01:48:53 pm] Loading objects/obj_type_1 (25123, 5) (25123 filtered: None)\n",
      "14-Apr-23 13:48:53 - btrack.dataio - INFO     - Loading objects/obj_type_1 (25123, 5) (25123 filtered: None)\n",
      "[INFO][2023/04/14 01:48:54 pm] Loading segmentation (75, 1200, 1200)\n",
      "14-Apr-23 13:48:54 - btrack.dataio - INFO     - Loading segmentation (75, 1200, 1200)\n",
      "[INFO][2023/04/14 01:48:54 pm] Loading objects/obj_type_1 (25123, 5) (25123 filtered: None)\n",
      "14-Apr-23 13:48:54 - btrack.dataio - INFO     - Loading objects/obj_type_1 (25123, 5) (25123 filtered: None)\n",
      "[INFO][2023/04/14 01:48:54 pm] Closing HDF file: /mnt/DATA/macrohet/labels/full_localisation/downscaled/(6,6).h5\n",
      "14-Apr-23 13:48:54 - btrack.dataio - INFO     - Closing HDF file: /mnt/DATA/macrohet/labels/full_localisation/downscaled/(6,6).h5\n"
     ]
    },
    {
     "data": {
      "application/vnd.jupyter.widget-view+json": {
       "model_id": "ed618e5b1f164fe49c8183a5ef8ca58d",
       "version_major": 2,
       "version_minor": 0
      },
      "text/plain": [
       "Labelling:   0%|          | 0/75 [00:00<?, ?it/s]"
      ]
     },
     "metadata": {},
     "output_type": "display_data"
    },
    {
     "data": {
      "application/vnd.jupyter.widget-view+json": {
       "model_id": "a5d3f05874304e0d9a2dfb7ef0e5d807",
       "version_major": 2,
       "version_minor": 0
      },
      "text/plain": [
       "Remove small objs:   0%|          | 0/75 [00:00<?, ?it/s]"
      ]
     },
     "metadata": {},
     "output_type": "display_data"
    },
    {
     "data": {
      "application/vnd.jupyter.widget-view+json": {
       "model_id": "342b63b29fc94afb9a28de3fd0ad41b8",
       "version_major": 2,
       "version_minor": 0
      },
      "text/plain": [
       "Remove small holes:   0%|          | 0/75 [00:00<?, ?it/s]"
      ]
     },
     "metadata": {},
     "output_type": "display_data"
    },
    {
     "data": {
      "application/vnd.jupyter.widget-view+json": {
       "model_id": "adb77f64741741fb8999e2c6251530b2",
       "version_major": 2,
       "version_minor": 0
      },
      "text/plain": [
       "Scaling to (1200, 1200):   0%|          | 0/75 [00:00<?, ?it/s]"
      ]
     },
     "metadata": {},
     "output_type": "display_data"
    },
    {
     "name": "stderr",
     "output_type": "stream",
     "text": [
      "[INFO][2023/04/14 01:50:18 pm] Opening HDF file: /mnt/DATA/macrohet/labels/full_localisation/downscaled/cleaned/(6, 6).h5...\n",
      "14-Apr-23 13:50:18 - btrack.dataio - INFO     - Opening HDF file: /mnt/DATA/macrohet/labels/full_localisation/downscaled/cleaned/(6, 6).h5...\n",
      "[INFO][2023/04/14 01:50:18 pm] Writing objects/obj_type_1\n",
      "14-Apr-23 13:50:18 - btrack.dataio - INFO     - Writing objects/obj_type_1\n",
      "[INFO][2023/04/14 01:50:18 pm] Writing labels/obj_type_1\n",
      "14-Apr-23 13:50:18 - btrack.dataio - INFO     - Writing labels/obj_type_1\n",
      "[INFO][2023/04/14 01:50:18 pm] Loading objects/obj_type_1 (25123, 5) (25123 filtered: None)\n",
      "14-Apr-23 13:50:18 - btrack.dataio - INFO     - Loading objects/obj_type_1 (25123, 5) (25123 filtered: None)\n",
      "[INFO][2023/04/14 01:50:18 pm] Writing properties/obj_type_1/area (25123,)\n",
      "14-Apr-23 13:50:18 - btrack.dataio - INFO     - Writing properties/obj_type_1/area (25123,)\n",
      "[INFO][2023/04/14 01:50:18 pm] Writing properties/obj_type_1/major_axis_length (25123,)\n",
      "14-Apr-23 13:50:18 - btrack.dataio - INFO     - Writing properties/obj_type_1/major_axis_length (25123,)\n",
      "[INFO][2023/04/14 01:50:18 pm] Writing properties/obj_type_1/mean_intensity-0 (25123,)\n",
      "14-Apr-23 13:50:18 - btrack.dataio - INFO     - Writing properties/obj_type_1/mean_intensity-0 (25123,)\n",
      "[INFO][2023/04/14 01:50:18 pm] Writing properties/obj_type_1/mean_intensity-1 (25123,)\n",
      "14-Apr-23 13:50:18 - btrack.dataio - INFO     - Writing properties/obj_type_1/mean_intensity-1 (25123,)\n",
      "[INFO][2023/04/14 01:50:18 pm] Writing properties/obj_type_1/minor_axis_length (25123,)\n",
      "14-Apr-23 13:50:18 - btrack.dataio - INFO     - Writing properties/obj_type_1/minor_axis_length (25123,)\n",
      "[INFO][2023/04/14 01:50:18 pm] Writing properties/obj_type_1/orientation (25123,)\n",
      "14-Apr-23 13:50:18 - btrack.dataio - INFO     - Writing properties/obj_type_1/orientation (25123,)\n",
      "[INFO][2023/04/14 01:50:18 pm] Writing tracks/obj_type_1\n",
      "14-Apr-23 13:50:18 - btrack.dataio - INFO     - Writing tracks/obj_type_1\n",
      "[INFO][2023/04/14 01:50:18 pm] Writing LBEP/obj_type_1\n",
      "14-Apr-23 13:50:18 - btrack.dataio - INFO     - Writing LBEP/obj_type_1\n",
      "[INFO][2023/04/14 01:50:18 pm] Writing fates/obj_type_1\n",
      "14-Apr-23 13:50:18 - btrack.dataio - INFO     - Writing fates/obj_type_1\n",
      "[INFO][2023/04/14 01:50:21 pm] Closing HDF file: /mnt/DATA/macrohet/labels/full_localisation/downscaled/cleaned/(6, 6).h5\n",
      "14-Apr-23 13:50:21 - btrack.dataio - INFO     - Closing HDF file: /mnt/DATA/macrohet/labels/full_localisation/downscaled/cleaned/(6, 6).h5\n",
      "[INFO][2023/04/14 01:50:21 pm] Opening HDF file: /mnt/DATA/macrohet/labels/full_localisation/downscaled/(6,7).h5...\n",
      "14-Apr-23 13:50:21 - btrack.dataio - INFO     - Opening HDF file: /mnt/DATA/macrohet/labels/full_localisation/downscaled/(6,7).h5...\n",
      "[INFO][2023/04/14 01:50:21 pm] Loading tracks/obj_type_1\n",
      "14-Apr-23 13:50:21 - btrack.dataio - INFO     - Loading tracks/obj_type_1\n",
      "[INFO][2023/04/14 01:50:21 pm] Loading objects/obj_type_1 (27885, 5) (27885 filtered: None)\n",
      "14-Apr-23 13:50:21 - btrack.dataio - INFO     - Loading objects/obj_type_1 (27885, 5) (27885 filtered: None)\n",
      "[INFO][2023/04/14 01:50:22 pm] Loading segmentation (75, 1200, 1200)\n",
      "14-Apr-23 13:50:22 - btrack.dataio - INFO     - Loading segmentation (75, 1200, 1200)\n",
      "[INFO][2023/04/14 01:50:22 pm] Loading objects/obj_type_1 (27885, 5) (27885 filtered: None)\n",
      "14-Apr-23 13:50:22 - btrack.dataio - INFO     - Loading objects/obj_type_1 (27885, 5) (27885 filtered: None)\n",
      "[INFO][2023/04/14 01:50:22 pm] Closing HDF file: /mnt/DATA/macrohet/labels/full_localisation/downscaled/(6,7).h5\n",
      "14-Apr-23 13:50:22 - btrack.dataio - INFO     - Closing HDF file: /mnt/DATA/macrohet/labels/full_localisation/downscaled/(6,7).h5\n"
     ]
    },
    {
     "data": {
      "application/vnd.jupyter.widget-view+json": {
       "model_id": "c8d577c99ef34779af7265a78f8f884c",
       "version_major": 2,
       "version_minor": 0
      },
      "text/plain": [
       "Labelling:   0%|          | 0/75 [00:00<?, ?it/s]"
      ]
     },
     "metadata": {},
     "output_type": "display_data"
    },
    {
     "data": {
      "application/vnd.jupyter.widget-view+json": {
       "model_id": "9a36dd2643d14194805dd9bbea4169c9",
       "version_major": 2,
       "version_minor": 0
      },
      "text/plain": [
       "Remove small objs:   0%|          | 0/75 [00:00<?, ?it/s]"
      ]
     },
     "metadata": {},
     "output_type": "display_data"
    },
    {
     "data": {
      "application/vnd.jupyter.widget-view+json": {
       "model_id": "79e438f38131432ea9e76ccca1f8d413",
       "version_major": 2,
       "version_minor": 0
      },
      "text/plain": [
       "Remove small holes:   0%|          | 0/75 [00:00<?, ?it/s]"
      ]
     },
     "metadata": {},
     "output_type": "display_data"
    },
    {
     "data": {
      "application/vnd.jupyter.widget-view+json": {
       "model_id": "a987f0c4b53046d8be88c900434ecae7",
       "version_major": 2,
       "version_minor": 0
      },
      "text/plain": [
       "Scaling to (1200, 1200):   0%|          | 0/75 [00:00<?, ?it/s]"
      ]
     },
     "metadata": {},
     "output_type": "display_data"
    },
    {
     "name": "stderr",
     "output_type": "stream",
     "text": [
      "[INFO][2023/04/14 01:51:45 pm] Opening HDF file: /mnt/DATA/macrohet/labels/full_localisation/downscaled/cleaned/(6, 7).h5...\n",
      "14-Apr-23 13:51:45 - btrack.dataio - INFO     - Opening HDF file: /mnt/DATA/macrohet/labels/full_localisation/downscaled/cleaned/(6, 7).h5...\n",
      "[INFO][2023/04/14 01:51:46 pm] Writing objects/obj_type_1\n",
      "14-Apr-23 13:51:46 - btrack.dataio - INFO     - Writing objects/obj_type_1\n",
      "[INFO][2023/04/14 01:51:46 pm] Writing labels/obj_type_1\n",
      "14-Apr-23 13:51:46 - btrack.dataio - INFO     - Writing labels/obj_type_1\n",
      "[INFO][2023/04/14 01:51:46 pm] Loading objects/obj_type_1 (27885, 5) (27885 filtered: None)\n",
      "14-Apr-23 13:51:46 - btrack.dataio - INFO     - Loading objects/obj_type_1 (27885, 5) (27885 filtered: None)\n",
      "[INFO][2023/04/14 01:51:46 pm] Writing properties/obj_type_1/area (27885,)\n",
      "14-Apr-23 13:51:46 - btrack.dataio - INFO     - Writing properties/obj_type_1/area (27885,)\n",
      "[INFO][2023/04/14 01:51:46 pm] Writing properties/obj_type_1/major_axis_length (27885,)\n",
      "14-Apr-23 13:51:46 - btrack.dataio - INFO     - Writing properties/obj_type_1/major_axis_length (27885,)\n",
      "[INFO][2023/04/14 01:51:46 pm] Writing properties/obj_type_1/mean_intensity-0 (27885,)\n",
      "14-Apr-23 13:51:46 - btrack.dataio - INFO     - Writing properties/obj_type_1/mean_intensity-0 (27885,)\n",
      "[INFO][2023/04/14 01:51:46 pm] Writing properties/obj_type_1/mean_intensity-1 (27885,)\n",
      "14-Apr-23 13:51:46 - btrack.dataio - INFO     - Writing properties/obj_type_1/mean_intensity-1 (27885,)\n",
      "[INFO][2023/04/14 01:51:46 pm] Writing properties/obj_type_1/minor_axis_length (27885,)\n",
      "14-Apr-23 13:51:46 - btrack.dataio - INFO     - Writing properties/obj_type_1/minor_axis_length (27885,)\n",
      "[INFO][2023/04/14 01:51:46 pm] Writing properties/obj_type_1/orientation (27885,)\n",
      "14-Apr-23 13:51:46 - btrack.dataio - INFO     - Writing properties/obj_type_1/orientation (27885,)\n",
      "[INFO][2023/04/14 01:51:46 pm] Writing tracks/obj_type_1\n",
      "14-Apr-23 13:51:46 - btrack.dataio - INFO     - Writing tracks/obj_type_1\n",
      "[INFO][2023/04/14 01:51:46 pm] Writing LBEP/obj_type_1\n",
      "14-Apr-23 13:51:46 - btrack.dataio - INFO     - Writing LBEP/obj_type_1\n",
      "[INFO][2023/04/14 01:51:46 pm] Writing fates/obj_type_1\n",
      "14-Apr-23 13:51:46 - btrack.dataio - INFO     - Writing fates/obj_type_1\n",
      "[INFO][2023/04/14 01:51:48 pm] Closing HDF file: /mnt/DATA/macrohet/labels/full_localisation/downscaled/cleaned/(6, 7).h5\n",
      "14-Apr-23 13:51:48 - btrack.dataio - INFO     - Closing HDF file: /mnt/DATA/macrohet/labels/full_localisation/downscaled/cleaned/(6, 7).h5\n",
      "[INFO][2023/04/14 01:51:48 pm] Opening HDF file: /mnt/DATA/macrohet/labels/full_localisation/downscaled/(6,8).h5...\n",
      "14-Apr-23 13:51:48 - btrack.dataio - INFO     - Opening HDF file: /mnt/DATA/macrohet/labels/full_localisation/downscaled/(6,8).h5...\n",
      "[INFO][2023/04/14 01:51:48 pm] Loading tracks/obj_type_1\n",
      "14-Apr-23 13:51:48 - btrack.dataio - INFO     - Loading tracks/obj_type_1\n",
      "[INFO][2023/04/14 01:51:48 pm] Loading objects/obj_type_1 (24359, 5) (24359 filtered: None)\n",
      "14-Apr-23 13:51:48 - btrack.dataio - INFO     - Loading objects/obj_type_1 (24359, 5) (24359 filtered: None)\n",
      "[INFO][2023/04/14 01:51:49 pm] Loading segmentation (75, 1200, 1200)\n",
      "14-Apr-23 13:51:49 - btrack.dataio - INFO     - Loading segmentation (75, 1200, 1200)\n",
      "[INFO][2023/04/14 01:51:49 pm] Loading objects/obj_type_1 (24359, 5) (24359 filtered: None)\n",
      "14-Apr-23 13:51:49 - btrack.dataio - INFO     - Loading objects/obj_type_1 (24359, 5) (24359 filtered: None)\n",
      "[INFO][2023/04/14 01:51:49 pm] Closing HDF file: /mnt/DATA/macrohet/labels/full_localisation/downscaled/(6,8).h5\n",
      "14-Apr-23 13:51:49 - btrack.dataio - INFO     - Closing HDF file: /mnt/DATA/macrohet/labels/full_localisation/downscaled/(6,8).h5\n"
     ]
    },
    {
     "data": {
      "application/vnd.jupyter.widget-view+json": {
       "model_id": "6b50909207284c0092b9e40610a152ef",
       "version_major": 2,
       "version_minor": 0
      },
      "text/plain": [
       "Labelling:   0%|          | 0/75 [00:00<?, ?it/s]"
      ]
     },
     "metadata": {},
     "output_type": "display_data"
    },
    {
     "data": {
      "application/vnd.jupyter.widget-view+json": {
       "model_id": "30ed0bb15fec45b19e8720b4c3c8292c",
       "version_major": 2,
       "version_minor": 0
      },
      "text/plain": [
       "Remove small objs:   0%|          | 0/75 [00:00<?, ?it/s]"
      ]
     },
     "metadata": {},
     "output_type": "display_data"
    },
    {
     "data": {
      "application/vnd.jupyter.widget-view+json": {
       "model_id": "b5d3802b92f74fe28d78c8623f3bb0d1",
       "version_major": 2,
       "version_minor": 0
      },
      "text/plain": [
       "Remove small holes:   0%|          | 0/75 [00:00<?, ?it/s]"
      ]
     },
     "metadata": {},
     "output_type": "display_data"
    },
    {
     "data": {
      "application/vnd.jupyter.widget-view+json": {
       "model_id": "72538e83d2724308b68ca6dd480b500e",
       "version_major": 2,
       "version_minor": 0
      },
      "text/plain": [
       "Scaling to (1200, 1200):   0%|          | 0/75 [00:00<?, ?it/s]"
      ]
     },
     "metadata": {},
     "output_type": "display_data"
    },
    {
     "name": "stderr",
     "output_type": "stream",
     "text": [
      "[INFO][2023/04/14 01:53:15 pm] Opening HDF file: /mnt/DATA/macrohet/labels/full_localisation/downscaled/cleaned/(6, 8).h5...\n",
      "14-Apr-23 13:53:15 - btrack.dataio - INFO     - Opening HDF file: /mnt/DATA/macrohet/labels/full_localisation/downscaled/cleaned/(6, 8).h5...\n",
      "[INFO][2023/04/14 01:53:15 pm] Writing objects/obj_type_1\n",
      "14-Apr-23 13:53:15 - btrack.dataio - INFO     - Writing objects/obj_type_1\n",
      "[INFO][2023/04/14 01:53:15 pm] Writing labels/obj_type_1\n",
      "14-Apr-23 13:53:15 - btrack.dataio - INFO     - Writing labels/obj_type_1\n",
      "[INFO][2023/04/14 01:53:15 pm] Loading objects/obj_type_1 (24359, 5) (24359 filtered: None)\n",
      "14-Apr-23 13:53:15 - btrack.dataio - INFO     - Loading objects/obj_type_1 (24359, 5) (24359 filtered: None)\n",
      "[INFO][2023/04/14 01:53:15 pm] Writing properties/obj_type_1/area (24359,)\n",
      "14-Apr-23 13:53:15 - btrack.dataio - INFO     - Writing properties/obj_type_1/area (24359,)\n",
      "[INFO][2023/04/14 01:53:15 pm] Writing properties/obj_type_1/major_axis_length (24359,)\n",
      "14-Apr-23 13:53:15 - btrack.dataio - INFO     - Writing properties/obj_type_1/major_axis_length (24359,)\n",
      "[INFO][2023/04/14 01:53:15 pm] Writing properties/obj_type_1/mean_intensity-0 (24359,)\n",
      "14-Apr-23 13:53:15 - btrack.dataio - INFO     - Writing properties/obj_type_1/mean_intensity-0 (24359,)\n",
      "[INFO][2023/04/14 01:53:15 pm] Writing properties/obj_type_1/mean_intensity-1 (24359,)\n",
      "14-Apr-23 13:53:15 - btrack.dataio - INFO     - Writing properties/obj_type_1/mean_intensity-1 (24359,)\n",
      "[INFO][2023/04/14 01:53:15 pm] Writing properties/obj_type_1/minor_axis_length (24359,)\n",
      "14-Apr-23 13:53:15 - btrack.dataio - INFO     - Writing properties/obj_type_1/minor_axis_length (24359,)\n",
      "[INFO][2023/04/14 01:53:15 pm] Writing properties/obj_type_1/orientation (24359,)\n",
      "14-Apr-23 13:53:15 - btrack.dataio - INFO     - Writing properties/obj_type_1/orientation (24359,)\n",
      "[INFO][2023/04/14 01:53:15 pm] Writing tracks/obj_type_1\n",
      "14-Apr-23 13:53:15 - btrack.dataio - INFO     - Writing tracks/obj_type_1\n",
      "[INFO][2023/04/14 01:53:15 pm] Writing LBEP/obj_type_1\n",
      "14-Apr-23 13:53:15 - btrack.dataio - INFO     - Writing LBEP/obj_type_1\n",
      "[INFO][2023/04/14 01:53:15 pm] Writing fates/obj_type_1\n",
      "14-Apr-23 13:53:15 - btrack.dataio - INFO     - Writing fates/obj_type_1\n",
      "[INFO][2023/04/14 01:53:17 pm] Closing HDF file: /mnt/DATA/macrohet/labels/full_localisation/downscaled/cleaned/(6, 8).h5\n",
      "14-Apr-23 13:53:17 - btrack.dataio - INFO     - Closing HDF file: /mnt/DATA/macrohet/labels/full_localisation/downscaled/cleaned/(6, 8).h5\n",
      "[INFO][2023/04/14 01:53:17 pm] Opening HDF file: /mnt/DATA/macrohet/labels/full_localisation/downscaled/(6,9).h5...\n",
      "14-Apr-23 13:53:17 - btrack.dataio - INFO     - Opening HDF file: /mnt/DATA/macrohet/labels/full_localisation/downscaled/(6,9).h5...\n",
      "[INFO][2023/04/14 01:53:17 pm] Loading tracks/obj_type_1\n",
      "14-Apr-23 13:53:17 - btrack.dataio - INFO     - Loading tracks/obj_type_1\n",
      "[INFO][2023/04/14 01:53:17 pm] Loading objects/obj_type_1 (25237, 5) (25237 filtered: None)\n",
      "14-Apr-23 13:53:17 - btrack.dataio - INFO     - Loading objects/obj_type_1 (25237, 5) (25237 filtered: None)\n",
      "[INFO][2023/04/14 01:53:18 pm] Loading segmentation (75, 1200, 1200)\n",
      "14-Apr-23 13:53:18 - btrack.dataio - INFO     - Loading segmentation (75, 1200, 1200)\n",
      "[INFO][2023/04/14 01:53:18 pm] Loading objects/obj_type_1 (25237, 5) (25237 filtered: None)\n",
      "14-Apr-23 13:53:18 - btrack.dataio - INFO     - Loading objects/obj_type_1 (25237, 5) (25237 filtered: None)\n",
      "[INFO][2023/04/14 01:53:18 pm] Closing HDF file: /mnt/DATA/macrohet/labels/full_localisation/downscaled/(6,9).h5\n",
      "14-Apr-23 13:53:18 - btrack.dataio - INFO     - Closing HDF file: /mnt/DATA/macrohet/labels/full_localisation/downscaled/(6,9).h5\n"
     ]
    },
    {
     "data": {
      "application/vnd.jupyter.widget-view+json": {
       "model_id": "22c5d9da3ba949f5b25624fcb180ffd4",
       "version_major": 2,
       "version_minor": 0
      },
      "text/plain": [
       "Labelling:   0%|          | 0/75 [00:00<?, ?it/s]"
      ]
     },
     "metadata": {},
     "output_type": "display_data"
    },
    {
     "data": {
      "application/vnd.jupyter.widget-view+json": {
       "model_id": "e9ee9e0d88764c70aa294db5008c9507",
       "version_major": 2,
       "version_minor": 0
      },
      "text/plain": [
       "Remove small objs:   0%|          | 0/75 [00:00<?, ?it/s]"
      ]
     },
     "metadata": {},
     "output_type": "display_data"
    },
    {
     "data": {
      "application/vnd.jupyter.widget-view+json": {
       "model_id": "2f817f2580524ad6bd06aa843f396a58",
       "version_major": 2,
       "version_minor": 0
      },
      "text/plain": [
       "Remove small holes:   0%|          | 0/75 [00:00<?, ?it/s]"
      ]
     },
     "metadata": {},
     "output_type": "display_data"
    },
    {
     "data": {
      "application/vnd.jupyter.widget-view+json": {
       "model_id": "61174094c65345d7a404f0dbfddc6246",
       "version_major": 2,
       "version_minor": 0
      },
      "text/plain": [
       "Scaling to (1200, 1200):   0%|          | 0/75 [00:00<?, ?it/s]"
      ]
     },
     "metadata": {},
     "output_type": "display_data"
    },
    {
     "name": "stderr",
     "output_type": "stream",
     "text": [
      "[INFO][2023/04/14 01:54:47 pm] Opening HDF file: /mnt/DATA/macrohet/labels/full_localisation/downscaled/cleaned/(6, 9).h5...\n",
      "14-Apr-23 13:54:47 - btrack.dataio - INFO     - Opening HDF file: /mnt/DATA/macrohet/labels/full_localisation/downscaled/cleaned/(6, 9).h5...\n",
      "[INFO][2023/04/14 01:54:47 pm] Writing objects/obj_type_1\n",
      "14-Apr-23 13:54:47 - btrack.dataio - INFO     - Writing objects/obj_type_1\n",
      "[INFO][2023/04/14 01:54:47 pm] Writing labels/obj_type_1\n",
      "14-Apr-23 13:54:47 - btrack.dataio - INFO     - Writing labels/obj_type_1\n",
      "[INFO][2023/04/14 01:54:47 pm] Loading objects/obj_type_1 (25237, 5) (25237 filtered: None)\n",
      "14-Apr-23 13:54:47 - btrack.dataio - INFO     - Loading objects/obj_type_1 (25237, 5) (25237 filtered: None)\n",
      "[INFO][2023/04/14 01:54:47 pm] Writing properties/obj_type_1/area (25237,)\n",
      "14-Apr-23 13:54:47 - btrack.dataio - INFO     - Writing properties/obj_type_1/area (25237,)\n",
      "[INFO][2023/04/14 01:54:47 pm] Writing properties/obj_type_1/major_axis_length (25237,)\n",
      "14-Apr-23 13:54:47 - btrack.dataio - INFO     - Writing properties/obj_type_1/major_axis_length (25237,)\n",
      "[INFO][2023/04/14 01:54:47 pm] Writing properties/obj_type_1/mean_intensity-0 (25237,)\n",
      "14-Apr-23 13:54:47 - btrack.dataio - INFO     - Writing properties/obj_type_1/mean_intensity-0 (25237,)\n",
      "[INFO][2023/04/14 01:54:47 pm] Writing properties/obj_type_1/mean_intensity-1 (25237,)\n",
      "14-Apr-23 13:54:47 - btrack.dataio - INFO     - Writing properties/obj_type_1/mean_intensity-1 (25237,)\n",
      "[INFO][2023/04/14 01:54:47 pm] Writing properties/obj_type_1/minor_axis_length (25237,)\n",
      "14-Apr-23 13:54:47 - btrack.dataio - INFO     - Writing properties/obj_type_1/minor_axis_length (25237,)\n",
      "[INFO][2023/04/14 01:54:47 pm] Writing properties/obj_type_1/orientation (25237,)\n",
      "14-Apr-23 13:54:47 - btrack.dataio - INFO     - Writing properties/obj_type_1/orientation (25237,)\n",
      "[INFO][2023/04/14 01:54:47 pm] Writing tracks/obj_type_1\n",
      "14-Apr-23 13:54:47 - btrack.dataio - INFO     - Writing tracks/obj_type_1\n",
      "[INFO][2023/04/14 01:54:47 pm] Writing LBEP/obj_type_1\n",
      "14-Apr-23 13:54:47 - btrack.dataio - INFO     - Writing LBEP/obj_type_1\n",
      "[INFO][2023/04/14 01:54:47 pm] Writing fates/obj_type_1\n",
      "14-Apr-23 13:54:47 - btrack.dataio - INFO     - Writing fates/obj_type_1\n",
      "[INFO][2023/04/14 01:54:49 pm] Closing HDF file: /mnt/DATA/macrohet/labels/full_localisation/downscaled/cleaned/(6, 9).h5\n",
      "14-Apr-23 13:54:49 - btrack.dataio - INFO     - Closing HDF file: /mnt/DATA/macrohet/labels/full_localisation/downscaled/cleaned/(6, 9).h5\n"
     ]
    }
   ],
   "source": [
    "v = napari.Viewer()\n",
    "for (row, column), info in tqdm(assay_layout.iterrows(), total = len(assay_layout)):\n",
    "    # load\n",
    "    with btrack.dataio.HDF5FileHandler(f\"/mnt/DATA/macrohet/labels/full_localisation/downscaled/({row},{column}).h5\", \"r\", obj_type=\"obj_type_1\") as hdf:\n",
    "        downscale_tracks = hdf.tracks\n",
    "        downscale_seg = hdf.segmentation\n",
    "        downscale_obj = hdf.objects\n",
    "    # clean\n",
    "    clean_downscale_seg = visualise.scale_masks(downscale_seg, (1200, 1200))\n",
    "    # check\n",
    "    v.add_labels(clean_downscale_seg, name = f'row, column')\n",
    "    # save out \n",
    "    with btrack.dataio.HDF5FileHandler(f'/mnt/DATA/macrohet/labels/full_localisation/downscaled/cleaned/{row,column}.h5', \n",
    "                                       'w', \n",
    "                                       obj_type='obj_type_1'\n",
    "                                       ) as writer:\n",
    "            \n",
    "            writer.write_tracks(downscale_tracks)\n",
    "            writer.write_segmentation(clean_downscale_seg)\n",
    "            writer.write_objects(downscale_obj)"
   ]
  },
  {
   "cell_type": "markdown",
   "id": "79586feb",
   "metadata": {},
   "source": [
    "### The upscaled h5 are saving out fine in a separate notebook, is it due to differing versions of btrack?"
   ]
  },
  {
   "cell_type": "code",
   "execution_count": 24,
   "id": "a0537cc6",
   "metadata": {},
   "outputs": [
    {
     "name": "stderr",
     "output_type": "stream",
     "text": [
      "[INFO][2023/04/14 03:35:00 PM] Opening HDF file: /mnt/DATA/macrohet/labels/full_localisation/upscale_(3, 5).h5...\n",
      "[INFO][2023/04/14 03:35:00 PM] Loading objects/obj_type_1 (31313, 5) (31313 filtered: None)\n",
      "[INFO][2023/04/14 03:35:01 PM] Loading tracks/obj_type_1\n",
      "[INFO][2023/04/14 03:35:01 PM] Loading LBEP/obj_type_1\n",
      "[INFO][2023/04/14 03:35:01 PM] Loading objects/obj_type_1 (31313, 5) (31313 filtered: None)\n",
      "[INFO][2023/04/14 03:35:11 PM] Loading segmentation (75, 6048, 6048)\n",
      "[INFO][2023/04/14 03:35:11 PM] Closing HDF file: /mnt/DATA/macrohet/labels/full_localisation/upscale_(3, 5).h5\n"
     ]
    }
   ],
   "source": [
    "with btrack.dataio.HDF5FileHandler(f'/mnt/DATA/macrohet/labels/full_localisation/upscale_{row, column}.h5', \"r\", obj_type=\"obj_type_1\") as hdf:\n",
    "        obj = hdf.objects\n",
    "        tracks = hdf.tracks\n",
    "        seg = hdf.segmentation"
   ]
  },
  {
   "cell_type": "code",
   "execution_count": 25,
   "id": "68781a58",
   "metadata": {},
   "outputs": [
    {
     "data": {
      "text/html": [
       "<table border=\"1\" class=\"dataframe\">\n",
       "  <thead>\n",
       "    <tr style=\"text-align: right;\">\n",
       "      <th></th>\n",
       "      <th>ID</th>\n",
       "      <th>x</th>\n",
       "      <th>y</th>\n",
       "      <th>z</th>\n",
       "      <th>t</th>\n",
       "      <th>dummy</th>\n",
       "      <th>states</th>\n",
       "      <th>label</th>\n",
       "      <th>area</th>\n",
       "      <th>major_axis_length</th>\n",
       "      <th>mean_intensity-0</th>\n",
       "      <th>mean_intensity-1</th>\n",
       "      <th>minor_axis_length</th>\n",
       "      <th>orientation</th>\n",
       "    </tr>\n",
       "  </thead>\n",
       "  <tbody>\n",
       "    <tr>\n",
       "      <th>0</th>\n",
       "      <td>0</td>\n",
       "      <td>361.416382</td>\n",
       "      <td>82.760368</td>\n",
       "      <td>0.0</td>\n",
       "      <td>0</td>\n",
       "      <td>False</td>\n",
       "      <td>7</td>\n",
       "      <td>5</td>\n",
       "      <td>21045.0</td>\n",
       "      <td>214.413834</td>\n",
       "      <td>1194.513794</td>\n",
       "      <td>344.165924</td>\n",
       "      <td>129.839615</td>\n",
       "      <td>0.75574</td>\n",
       "    </tr>\n",
       "  </tbody>\n",
       "</table>"
      ],
      "text/plain": [
       "{'ID': 0, 'x': 361.4163818359375, 'y': 82.76036834716797, 'z': 0.0, 't': 0, 'dummy': False, 'states': 7, 'label': 5, 'area': 21045.0, 'major_axis_length': 214.41383, 'mean_intensity-0': 1194.5138, 'mean_intensity-1': 344.16592, 'minor_axis_length': 129.83961, 'orientation': 0.75574046}"
      ]
     },
     "execution_count": 25,
     "metadata": {},
     "output_type": "execute_result"
    }
   ],
   "source": [
    "obj[0]"
   ]
  },
  {
   "cell_type": "code",
   "execution_count": 26,
   "id": "c7d94be9",
   "metadata": {},
   "outputs": [
    {
     "data": {
      "text/html": [
       "<table border=\"1\" class=\"dataframe\">\n",
       "  <thead>\n",
       "    <tr style=\"text-align: right;\">\n",
       "      <th></th>\n",
       "      <th>ID</th>\n",
       "      <th>t</th>\n",
       "      <th>x</th>\n",
       "      <th>y</th>\n",
       "      <th>z</th>\n",
       "      <th>parent</th>\n",
       "      <th>root</th>\n",
       "      <th>state</th>\n",
       "      <th>generation</th>\n",
       "      <th>dummy</th>\n",
       "      <th>mean_intensity-1</th>\n",
       "      <th>major_axis_length</th>\n",
       "      <th>minor_axis_length</th>\n",
       "      <th>area</th>\n",
       "      <th>mean_intensity-0</th>\n",
       "      <th>orientation</th>\n",
       "    </tr>\n",
       "  </thead>\n",
       "  <tbody>\n",
       "    <tr>\n",
       "      <th>0</th>\n",
       "      <td>317</td>\n",
       "      <td>0</td>\n",
       "      <td>361.416382</td>\n",
       "      <td>82.760368</td>\n",
       "      <td>0.0</td>\n",
       "      <td>317</td>\n",
       "      <td>317</td>\n",
       "      <td>5</td>\n",
       "      <td>0</td>\n",
       "      <td>False</td>\n",
       "      <td>344.165924</td>\n",
       "      <td>214.413834</td>\n",
       "      <td>129.839615</td>\n",
       "      <td>21045.0</td>\n",
       "      <td>1194.513794</td>\n",
       "      <td>0.755740</td>\n",
       "    </tr>\n",
       "    <tr>\n",
       "      <th>1</th>\n",
       "      <td>317</td>\n",
       "      <td>1</td>\n",
       "      <td>5379.537598</td>\n",
       "      <td>277.809387</td>\n",
       "      <td>0.0</td>\n",
       "      <td>317</td>\n",
       "      <td>317</td>\n",
       "      <td>5</td>\n",
       "      <td>0</td>\n",
       "      <td>True</td>\n",
       "      <td>NaN</td>\n",
       "      <td>NaN</td>\n",
       "      <td>NaN</td>\n",
       "      <td>NaN</td>\n",
       "      <td>NaN</td>\n",
       "      <td>NaN</td>\n",
       "    </tr>\n",
       "    <tr>\n",
       "      <th>2</th>\n",
       "      <td>317</td>\n",
       "      <td>2</td>\n",
       "      <td>5379.537598</td>\n",
       "      <td>277.809387</td>\n",
       "      <td>0.0</td>\n",
       "      <td>317</td>\n",
       "      <td>317</td>\n",
       "      <td>5</td>\n",
       "      <td>0</td>\n",
       "      <td>True</td>\n",
       "      <td>NaN</td>\n",
       "      <td>NaN</td>\n",
       "      <td>NaN</td>\n",
       "      <td>NaN</td>\n",
       "      <td>NaN</td>\n",
       "      <td>NaN</td>\n",
       "    </tr>\n",
       "    <tr>\n",
       "      <th>3</th>\n",
       "      <td>317</td>\n",
       "      <td>0</td>\n",
       "      <td>1334.278198</td>\n",
       "      <td>153.467621</td>\n",
       "      <td>0.0</td>\n",
       "      <td>317</td>\n",
       "      <td>317</td>\n",
       "      <td>5</td>\n",
       "      <td>0</td>\n",
       "      <td>False</td>\n",
       "      <td>361.852295</td>\n",
       "      <td>827.197693</td>\n",
       "      <td>149.110214</td>\n",
       "      <td>84672.0</td>\n",
       "      <td>1148.944336</td>\n",
       "      <td>1.265559</td>\n",
       "    </tr>\n",
       "  </tbody>\n",
       "</table>"
      ],
      "text/plain": [
       "OrderedDict([('ID', 317), ('t', [0, 1, 2, 0]), ('x', [361.4163818359375, 5379.53759765625, 5379.53759765625, 1334.2781982421875]), ('y', [82.76036834716797, 277.80938720703125, 277.80938720703125, 153.46762084960938]), ('z', [0.0, 0.0, 0.0, 0.0]), ('parent', 317), ('root', 317), ('state', [5, 5, 5, 5]), ('generation', 0), ('dummy', [False, True, True, False]), ('mean_intensity-1', array([344.16592407,          nan,          nan, 361.85229492])), ('major_axis_length', array([214.41383362,          nan,          nan, 827.19769287])), ('minor_axis_length', array([129.83961487,          nan,          nan, 149.11021423])), ('area', array([21045.,    nan,    nan, 84672.])), ('mean_intensity-0', array([1194.51379395,           nan,           nan, 1148.94433594])), ('orientation', array([0.75574046,        nan,        nan, 1.26555884]))])"
      ]
     },
     "execution_count": 26,
     "metadata": {},
     "output_type": "execute_result"
    }
   ],
   "source": [
    "tracks[0]"
   ]
  },
  {
   "cell_type": "code",
   "execution_count": 27,
   "id": "a9dda0be",
   "metadata": {},
   "outputs": [
    {
     "data": {
      "text/plain": [
       "(75, 6048, 6048)"
      ]
     },
     "execution_count": 27,
     "metadata": {},
     "output_type": "execute_result"
    }
   ],
   "source": [
    "seg.shape"
   ]
  },
  {
   "cell_type": "markdown",
   "id": "a74b6ea0",
   "metadata": {},
   "source": [
    "# Is it something about the tracks themselves?\n",
    "\n",
    "Trying to resave out correctly saved ones to test"
   ]
  },
  {
   "cell_type": "code",
   "execution_count": 28,
   "id": "cd7fbe2e",
   "metadata": {},
   "outputs": [
    {
     "name": "stderr",
     "output_type": "stream",
     "text": [
      "[INFO][2023/04/14 03:37:03 PM] Opening HDF file: test.h5...\n",
      "[INFO][2023/04/14 03:37:04 PM] Writing objects/obj_type_1\n",
      "[INFO][2023/04/14 03:37:04 PM] Writing labels/obj_type_1\n",
      "[INFO][2023/04/14 03:37:04 PM] Loading objects/obj_type_1 (31313, 5) (31313 filtered: None)\n",
      "[INFO][2023/04/14 03:37:04 PM] Writing properties/obj_type_1/area (31313,)\n",
      "[INFO][2023/04/14 03:37:04 PM] Writing properties/obj_type_1/major_axis_length (31313,)\n",
      "[INFO][2023/04/14 03:37:04 PM] Writing properties/obj_type_1/mean_intensity-0 (31313,)\n",
      "[INFO][2023/04/14 03:37:04 PM] Writing properties/obj_type_1/mean_intensity-1 (31313,)\n",
      "[INFO][2023/04/14 03:37:04 PM] Writing properties/obj_type_1/minor_axis_length (31313,)\n",
      "[INFO][2023/04/14 03:37:04 PM] Writing properties/obj_type_1/orientation (31313,)\n",
      "[INFO][2023/04/14 03:37:04 PM] Writing tracks/obj_type_1\n",
      "[INFO][2023/04/14 03:37:04 PM] Writing LBEP/obj_type_1\n",
      "[INFO][2023/04/14 03:37:04 PM] Writing fates/obj_type_1\n",
      "[INFO][2023/04/14 03:37:41 PM] Closing HDF file: test.h5\n"
     ]
    }
   ],
   "source": [
    "with btrack.dataio.HDF5FileHandler(f'test.h5', \n",
    "                                   'w', \n",
    "                                   obj_type='obj_type_1'\n",
    "                                   ) as writer:\n",
    "\n",
    "        writer.write_objects(obj)\n",
    "        writer.write_tracks(tracks)\n",
    "        writer.write_segmentation(seg)"
   ]
  },
  {
   "cell_type": "code",
   "execution_count": 29,
   "id": "d32c9e13",
   "metadata": {},
   "outputs": [
    {
     "name": "stderr",
     "output_type": "stream",
     "text": [
      "[INFO][2023/04/14 03:38:02 PM] Opening HDF file: test.h5...\n",
      "[INFO][2023/04/14 03:38:02 PM] Loading objects/obj_type_1 (31313, 5) (31313 filtered: None)\n",
      "[INFO][2023/04/14 03:38:03 PM] Loading tracks/obj_type_1\n",
      "[INFO][2023/04/14 03:38:03 PM] Loading LBEP/obj_type_1\n",
      "[INFO][2023/04/14 03:38:03 PM] Loading objects/obj_type_1 (31313, 5) (31313 filtered: None)\n",
      "[INFO][2023/04/14 03:38:03 PM] Closing HDF file: test.h5\n"
     ]
    },
    {
     "ename": "NameError",
     "evalue": "free variable 'dummy_obj' referenced before assignment in enclosing scope",
     "output_type": "error",
     "traceback": [
      "\u001b[0;31m---------------------------------------------------------------------------\u001b[0m",
      "\u001b[0;31mNameError\u001b[0m                                 Traceback (most recent call last)",
      "Input \u001b[0;32mIn [29]\u001b[0m, in \u001b[0;36m<cell line: 1>\u001b[0;34m()\u001b[0m\n\u001b[1;32m      1\u001b[0m \u001b[38;5;28;01mwith\u001b[39;00m btrack\u001b[38;5;241m.\u001b[39mdataio\u001b[38;5;241m.\u001b[39mHDF5FileHandler(\u001b[38;5;124mf\u001b[39m\u001b[38;5;124m\"\u001b[39m\u001b[38;5;124mtest.h5\u001b[39m\u001b[38;5;124m\"\u001b[39m, \u001b[38;5;124m\"\u001b[39m\u001b[38;5;124mr\u001b[39m\u001b[38;5;124m\"\u001b[39m, obj_type\u001b[38;5;241m=\u001b[39m\u001b[38;5;124m\"\u001b[39m\u001b[38;5;124mobj_type_1\u001b[39m\u001b[38;5;124m\"\u001b[39m) \u001b[38;5;28;01mas\u001b[39;00m hdf:\n\u001b[1;32m      2\u001b[0m         obj \u001b[38;5;241m=\u001b[39m hdf\u001b[38;5;241m.\u001b[39mobjects\n\u001b[0;32m----> 3\u001b[0m         tracks \u001b[38;5;241m=\u001b[39m \u001b[43mhdf\u001b[49m\u001b[38;5;241;43m.\u001b[39;49m\u001b[43mtracks\u001b[49m\n\u001b[1;32m      4\u001b[0m         seg \u001b[38;5;241m=\u001b[39m hdf\u001b[38;5;241m.\u001b[39msegmentation\n",
      "File \u001b[0;32m~/miniconda3/envs/aero/lib/python3.9/site-packages/btrack/dataio.py:286\u001b[0m, in \u001b[0;36mh5check_property_exists.<locals>.func.<locals>.wrapped_handler_property\u001b[0;34m(*args, **kwargs)\u001b[0m\n\u001b[1;32m    282\u001b[0m     logger\u001b[38;5;241m.\u001b[39merror(\n\u001b[1;32m    283\u001b[0m         \u001b[38;5;124mf\u001b[39m\u001b[38;5;124m\"\u001b[39m\u001b[38;5;132;01m{\u001b[39;00m\u001b[38;5;28mproperty\u001b[39m\u001b[38;5;241m.\u001b[39mcapitalize()\u001b[38;5;132;01m}\u001b[39;00m\u001b[38;5;124m not found in \u001b[39m\u001b[38;5;132;01m{\u001b[39;00m\u001b[38;5;28mself\u001b[39m\u001b[38;5;241m.\u001b[39mfilename\u001b[38;5;132;01m}\u001b[39;00m\u001b[38;5;124m\"\u001b[39m\n\u001b[1;32m    284\u001b[0m     )\n\u001b[1;32m    285\u001b[0m     \u001b[38;5;28;01mreturn\u001b[39;00m \u001b[38;5;28;01mNone\u001b[39;00m\n\u001b[0;32m--> 286\u001b[0m \u001b[38;5;28;01mreturn\u001b[39;00m \u001b[43mfn\u001b[49m\u001b[43m(\u001b[49m\u001b[38;5;241;43m*\u001b[39;49m\u001b[43margs\u001b[49m\u001b[43m,\u001b[49m\u001b[43m \u001b[49m\u001b[38;5;241;43m*\u001b[39;49m\u001b[38;5;241;43m*\u001b[39;49m\u001b[43mkwargs\u001b[49m\u001b[43m)\u001b[49m\n",
      "File \u001b[0;32m~/miniconda3/envs/aero/lib/python3.9/site-packages/btrack/dataio.py:683\u001b[0m, in \u001b[0;36mHDF5FileHandler.tracks\u001b[0;34m(self)\u001b[0m\n\u001b[1;32m    681\u001b[0m idx \u001b[38;5;241m=\u001b[39m \u001b[38;5;28mslice\u001b[39m(\u001b[38;5;241m*\u001b[39mtrack_map[i, :]\u001b[38;5;241m.\u001b[39mtolist())\n\u001b[1;32m    682\u001b[0m refs \u001b[38;5;241m=\u001b[39m track_refs[idx]\n\u001b[0;32m--> 683\u001b[0m track \u001b[38;5;241m=\u001b[39m btypes\u001b[38;5;241m.\u001b[39mTracklet(lbep[i, \u001b[38;5;241m0\u001b[39m], \u001b[38;5;28;43mlist\u001b[39;49m\u001b[43m(\u001b[49m\u001b[38;5;28;43mmap\u001b[39;49m\u001b[43m(\u001b[49m\u001b[43m_get_txyz\u001b[49m\u001b[43m,\u001b[49m\u001b[43m \u001b[49m\u001b[43mrefs\u001b[49m\u001b[43m)\u001b[49m\u001b[43m)\u001b[49m)\n\u001b[1;32m    684\u001b[0m track\u001b[38;5;241m.\u001b[39mparent \u001b[38;5;241m=\u001b[39m lbep[i, \u001b[38;5;241m3\u001b[39m]  \u001b[38;5;66;03m# set the parent and root of tree\u001b[39;00m\n\u001b[1;32m    685\u001b[0m track\u001b[38;5;241m.\u001b[39mroot \u001b[38;5;241m=\u001b[39m lbep[i, \u001b[38;5;241m4\u001b[39m]\n",
      "File \u001b[0;32m~/miniconda3/envs/aero/lib/python3.9/site-packages/btrack/dataio.py:677\u001b[0m, in \u001b[0;36mHDF5FileHandler.tracks.<locals>._get_txyz\u001b[0;34m(_ref)\u001b[0m\n\u001b[1;32m    675\u001b[0m \u001b[38;5;28;01mif\u001b[39;00m _ref \u001b[38;5;241m>\u001b[39m\u001b[38;5;241m=\u001b[39m \u001b[38;5;241m0\u001b[39m:\n\u001b[1;32m    676\u001b[0m     \u001b[38;5;28;01mreturn\u001b[39;00m obj[_ref]\n\u001b[0;32m--> 677\u001b[0m \u001b[38;5;28;01mreturn\u001b[39;00m \u001b[43mdummy_obj\u001b[49m[\u001b[38;5;28mabs\u001b[39m(_ref) \u001b[38;5;241m-\u001b[39m \u001b[38;5;241m1\u001b[39m]\n",
      "\u001b[0;31mNameError\u001b[0m: free variable 'dummy_obj' referenced before assignment in enclosing scope"
     ]
    }
   ],
   "source": [
    "with btrack.dataio.HDF5FileHandler(f\"test.h5\", \"r\", obj_type=\"obj_type_1\") as hdf:\n",
    "        obj = hdf.objects\n",
    "        tracks = hdf.tracks\n",
    "        seg = hdf.segmentation"
   ]
  },
  {
   "cell_type": "code",
   "execution_count": 30,
   "id": "7d1dc8d3",
   "metadata": {},
   "outputs": [
    {
     "name": "stderr",
     "output_type": "stream",
     "text": [
      "[INFO][2023/04/14 03:38:41 PM] Opening HDF file: /mnt/DATA/macrohet/labels/full_localisation/upscale_(3, 5).h5...\n",
      "[INFO][2023/04/14 03:38:41 PM] Loading objects/obj_type_1 (31313, 5) (31313 filtered: None)\n",
      "[INFO][2023/04/14 03:38:41 PM] Loading tracks/obj_type_1\n",
      "[INFO][2023/04/14 03:38:41 PM] Loading LBEP/obj_type_1\n",
      "[INFO][2023/04/14 03:38:41 PM] Loading objects/obj_type_1 (31313, 5) (31313 filtered: None)\n",
      "[INFO][2023/04/14 03:38:52 PM] Loading segmentation (75, 6048, 6048)\n",
      "[INFO][2023/04/14 03:38:52 PM] Closing HDF file: /mnt/DATA/macrohet/labels/full_localisation/upscale_(3, 5).h5\n"
     ]
    }
   ],
   "source": [
    "with btrack.dataio.HDF5FileHandler(f'/mnt/DATA/macrohet/labels/full_localisation/upscale_{row, column}.h5', \"r\", obj_type=\"obj_type_1\") as hdf:\n",
    "        obj = hdf.objects\n",
    "        tracks = hdf.tracks\n",
    "        seg = hdf.segmentation"
   ]
  },
  {
   "cell_type": "markdown",
   "id": "c3a570e5",
   "metadata": {},
   "source": [
    "It appears to be the method not the objects/tracks... \n",
    "\n",
    "\n",
    "# Test case to see why it doesnt save out correctly\n",
    "\n",
    "Also why were they fine to be saved out originally too????"
   ]
  },
  {
   "cell_type": "code",
   "execution_count": 4,
   "id": "6b72a5c5",
   "metadata": {},
   "outputs": [],
   "source": [
    "row, column = 3, 5"
   ]
  },
  {
   "cell_type": "markdown",
   "id": "fd47b287",
   "metadata": {},
   "source": [
    "### Load tracks and objs from original h5, load segmentation from cleaned file (which tracks are broken in)"
   ]
  },
  {
   "cell_type": "code",
   "execution_count": 5,
   "id": "97133816",
   "metadata": {},
   "outputs": [
    {
     "name": "stderr",
     "output_type": "stream",
     "text": [
      "[INFO][2023/04/14 04:24:47 PM] Opening HDF file: /mnt/DATA/macrohet/labels/full_localisation/downscaled/(3,5).h5...\n",
      "[INFO][2023/04/14 04:24:47 PM] Loading tracks/obj_type_1\n",
      "[INFO][2023/04/14 04:24:47 PM] Loading objects/obj_type_1 (26917, 5) (26917 filtered: None)\n",
      "[INFO][2023/04/14 04:24:47 PM] Loading objects/obj_type_1 (26917, 5) (26917 filtered: None)\n",
      "[INFO][2023/04/14 04:24:48 PM] Closing HDF file: /mnt/DATA/macrohet/labels/full_localisation/downscaled/(3,5).h5\n",
      "[INFO][2023/04/14 04:24:48 PM] Opening HDF file: /mnt/DATA/macrohet/labels/full_localisation/downscaled/cleaned/(3, 5).h5...\n",
      "[INFO][2023/04/14 04:24:48 PM] Loading segmentation (75, 1200, 1200)\n",
      "[INFO][2023/04/14 04:24:48 PM] Closing HDF file: /mnt/DATA/macrohet/labels/full_localisation/downscaled/cleaned/(3, 5).h5\n"
     ]
    }
   ],
   "source": [
    "with btrack.dataio.HDF5FileHandler(f\"/mnt/DATA/macrohet/labels/full_localisation/downscaled/({row},{column}).h5\", \"r\", obj_type=\"obj_type_1\") as hdf:\n",
    "        downscale_tracks = hdf.tracks\n",
    "#         downscale_seg = hdf.segmentation\n",
    "        downscale_obj = hdf.objects\n",
    "# # clean\n",
    "# clean_downscale_seg = visualise.scale_masks(downscale_seg, (1200, 1200))\n",
    "# # check\n",
    "# v.add_labels(clean_downscale_seg, name = f'row, column')\n",
    "with btrack.dataio.HDF5FileHandler(f'/mnt/DATA/macrohet/labels/full_localisation/downscaled/cleaned/{row,column}.h5', \"r\", obj_type=\"obj_type_1\") as hdf:\n",
    "#         downscale_tracks = hdf.tracks\n",
    "        downscale_seg = hdf.segmentation\n",
    "#         downscale_obj = hdf.objects"
   ]
  },
  {
   "cell_type": "markdown",
   "id": "4f5156d8",
   "metadata": {},
   "source": [
    "### checking all three "
   ]
  },
  {
   "cell_type": "code",
   "execution_count": 6,
   "id": "531d2bd7",
   "metadata": {},
   "outputs": [
    {
     "data": {
      "text/html": [
       "<table border=\"1\" class=\"dataframe\">\n",
       "  <thead>\n",
       "    <tr style=\"text-align: right;\">\n",
       "      <th></th>\n",
       "      <th>ID</th>\n",
       "      <th>t</th>\n",
       "      <th>x</th>\n",
       "      <th>y</th>\n",
       "      <th>z</th>\n",
       "      <th>parent</th>\n",
       "      <th>root</th>\n",
       "      <th>state</th>\n",
       "      <th>generation</th>\n",
       "      <th>dummy</th>\n",
       "      <th>orientation</th>\n",
       "      <th>mean_intensity-0</th>\n",
       "      <th>major_axis_length</th>\n",
       "      <th>minor_axis_length</th>\n",
       "      <th>mean_intensity-1</th>\n",
       "      <th>area</th>\n",
       "    </tr>\n",
       "  </thead>\n",
       "  <tbody>\n",
       "    <tr>\n",
       "      <th>0</th>\n",
       "      <td>268</td>\n",
       "      <td>0</td>\n",
       "      <td>224.628998</td>\n",
       "      <td>299.684265</td>\n",
       "      <td>0.000000</td>\n",
       "      <td>268</td>\n",
       "      <td>268</td>\n",
       "      <td>5</td>\n",
       "      <td>0</td>\n",
       "      <td>False</td>\n",
       "      <td>-0.506490</td>\n",
       "      <td>0.034366</td>\n",
       "      <td>41.661713</td>\n",
       "      <td>25.033506</td>\n",
       "      <td>0.005828</td>\n",
       "      <td>814.0</td>\n",
       "    </tr>\n",
       "    <tr>\n",
       "      <th>1</th>\n",
       "      <td>268</td>\n",
       "      <td>1</td>\n",
       "      <td>224.628998</td>\n",
       "      <td>299.684265</td>\n",
       "      <td>0.000000</td>\n",
       "      <td>268</td>\n",
       "      <td>268</td>\n",
       "      <td>5</td>\n",
       "      <td>0</td>\n",
       "      <td>True</td>\n",
       "      <td>NaN</td>\n",
       "      <td>NaN</td>\n",
       "      <td>NaN</td>\n",
       "      <td>NaN</td>\n",
       "      <td>NaN</td>\n",
       "      <td>NaN</td>\n",
       "    </tr>\n",
       "    <tr>\n",
       "      <th>2</th>\n",
       "      <td>268</td>\n",
       "      <td>2</td>\n",
       "      <td>231.601547</td>\n",
       "      <td>296.783569</td>\n",
       "      <td>0.000000</td>\n",
       "      <td>268</td>\n",
       "      <td>268</td>\n",
       "      <td>5</td>\n",
       "      <td>0</td>\n",
       "      <td>False</td>\n",
       "      <td>-0.489007</td>\n",
       "      <td>0.036952</td>\n",
       "      <td>46.592415</td>\n",
       "      <td>24.886545</td>\n",
       "      <td>0.005814</td>\n",
       "      <td>901.0</td>\n",
       "    </tr>\n",
       "    <tr>\n",
       "      <th>3</th>\n",
       "      <td>268</td>\n",
       "      <td>3</td>\n",
       "      <td>237.161575</td>\n",
       "      <td>300.601349</td>\n",
       "      <td>0.000000</td>\n",
       "      <td>268</td>\n",
       "      <td>268</td>\n",
       "      <td>5</td>\n",
       "      <td>0</td>\n",
       "      <td>False</td>\n",
       "      <td>-1.064243</td>\n",
       "      <td>0.012926</td>\n",
       "      <td>47.613274</td>\n",
       "      <td>28.776392</td>\n",
       "      <td>0.005712</td>\n",
       "      <td>1046.0</td>\n",
       "    </tr>\n",
       "    <tr>\n",
       "      <th>4</th>\n",
       "      <td>268</td>\n",
       "      <td>4</td>\n",
       "      <td>242.809006</td>\n",
       "      <td>303.674377</td>\n",
       "      <td>0.602158</td>\n",
       "      <td>268</td>\n",
       "      <td>268</td>\n",
       "      <td>5</td>\n",
       "      <td>0</td>\n",
       "      <td>True</td>\n",
       "      <td>NaN</td>\n",
       "      <td>NaN</td>\n",
       "      <td>NaN</td>\n",
       "      <td>NaN</td>\n",
       "      <td>NaN</td>\n",
       "      <td>NaN</td>\n",
       "    </tr>\n",
       "    <tr>\n",
       "      <th>5</th>\n",
       "      <td>268</td>\n",
       "      <td>5</td>\n",
       "      <td>237.235809</td>\n",
       "      <td>290.885468</td>\n",
       "      <td>0.000000</td>\n",
       "      <td>268</td>\n",
       "      <td>268</td>\n",
       "      <td>5</td>\n",
       "      <td>0</td>\n",
       "      <td>False</td>\n",
       "      <td>-0.427512</td>\n",
       "      <td>0.007166</td>\n",
       "      <td>38.212456</td>\n",
       "      <td>35.406593</td>\n",
       "      <td>0.005584</td>\n",
       "      <td>1039.0</td>\n",
       "    </tr>\n",
       "    <tr>\n",
       "      <th>6</th>\n",
       "      <td>268</td>\n",
       "      <td>6</td>\n",
       "      <td>242.525696</td>\n",
       "      <td>294.986084</td>\n",
       "      <td>0.000000</td>\n",
       "      <td>268</td>\n",
       "      <td>268</td>\n",
       "      <td>5</td>\n",
       "      <td>0</td>\n",
       "      <td>False</td>\n",
       "      <td>-0.598986</td>\n",
       "      <td>0.010611</td>\n",
       "      <td>50.899288</td>\n",
       "      <td>25.211195</td>\n",
       "      <td>0.005600</td>\n",
       "      <td>934.0</td>\n",
       "    </tr>\n",
       "    <tr>\n",
       "      <th>7</th>\n",
       "      <td>268</td>\n",
       "      <td>7</td>\n",
       "      <td>235.498322</td>\n",
       "      <td>298.148987</td>\n",
       "      <td>0.000000</td>\n",
       "      <td>268</td>\n",
       "      <td>268</td>\n",
       "      <td>5</td>\n",
       "      <td>0</td>\n",
       "      <td>False</td>\n",
       "      <td>-1.391101</td>\n",
       "      <td>0.014315</td>\n",
       "      <td>53.263699</td>\n",
       "      <td>29.579039</td>\n",
       "      <td>0.005636</td>\n",
       "      <td>1188.0</td>\n",
       "    </tr>\n",
       "    <tr>\n",
       "      <th>8</th>\n",
       "      <td>268</td>\n",
       "      <td>8</td>\n",
       "      <td>232.544159</td>\n",
       "      <td>298.826447</td>\n",
       "      <td>-1.073277</td>\n",
       "      <td>268</td>\n",
       "      <td>268</td>\n",
       "      <td>5</td>\n",
       "      <td>0</td>\n",
       "      <td>True</td>\n",
       "      <td>NaN</td>\n",
       "      <td>NaN</td>\n",
       "      <td>NaN</td>\n",
       "      <td>NaN</td>\n",
       "      <td>NaN</td>\n",
       "      <td>NaN</td>\n",
       "    </tr>\n",
       "    <tr>\n",
       "      <th>9</th>\n",
       "      <td>268</td>\n",
       "      <td>9</td>\n",
       "      <td>219.316742</td>\n",
       "      <td>310.259094</td>\n",
       "      <td>0.000000</td>\n",
       "      <td>268</td>\n",
       "      <td>268</td>\n",
       "      <td>5</td>\n",
       "      <td>0</td>\n",
       "      <td>False</td>\n",
       "      <td>-0.276514</td>\n",
       "      <td>0.014500</td>\n",
       "      <td>94.812172</td>\n",
       "      <td>32.785789</td>\n",
       "      <td>0.005649</td>\n",
       "      <td>2169.0</td>\n",
       "    </tr>\n",
       "    <tr>\n",
       "      <th>10</th>\n",
       "      <td>268</td>\n",
       "      <td>10</td>\n",
       "      <td>220.333557</td>\n",
       "      <td>297.315063</td>\n",
       "      <td>0.000000</td>\n",
       "      <td>268</td>\n",
       "      <td>268</td>\n",
       "      <td>5</td>\n",
       "      <td>0</td>\n",
       "      <td>False</td>\n",
       "      <td>-0.312633</td>\n",
       "      <td>0.010811</td>\n",
       "      <td>64.547050</td>\n",
       "      <td>30.529718</td>\n",
       "      <td>0.005622</td>\n",
       "      <td>1460.0</td>\n",
       "    </tr>\n",
       "    <tr>\n",
       "      <th>11</th>\n",
       "      <td>268</td>\n",
       "      <td>11</td>\n",
       "      <td>223.666321</td>\n",
       "      <td>303.233948</td>\n",
       "      <td>0.000000</td>\n",
       "      <td>268</td>\n",
       "      <td>268</td>\n",
       "      <td>5</td>\n",
       "      <td>0</td>\n",
       "      <td>False</td>\n",
       "      <td>-0.515535</td>\n",
       "      <td>0.019401</td>\n",
       "      <td>77.527596</td>\n",
       "      <td>33.288719</td>\n",
       "      <td>0.005668</td>\n",
       "      <td>1945.0</td>\n",
       "    </tr>\n",
       "    <tr>\n",
       "      <th>12</th>\n",
       "      <td>268</td>\n",
       "      <td>12</td>\n",
       "      <td>226.946243</td>\n",
       "      <td>309.023895</td>\n",
       "      <td>0.045184</td>\n",
       "      <td>268</td>\n",
       "      <td>268</td>\n",
       "      <td>5</td>\n",
       "      <td>0</td>\n",
       "      <td>True</td>\n",
       "      <td>NaN</td>\n",
       "      <td>NaN</td>\n",
       "      <td>NaN</td>\n",
       "      <td>NaN</td>\n",
       "      <td>NaN</td>\n",
       "      <td>NaN</td>\n",
       "    </tr>\n",
       "    <tr>\n",
       "      <th>13</th>\n",
       "      <td>268</td>\n",
       "      <td>13</td>\n",
       "      <td>221.371521</td>\n",
       "      <td>324.584229</td>\n",
       "      <td>0.000000</td>\n",
       "      <td>268</td>\n",
       "      <td>268</td>\n",
       "      <td>5</td>\n",
       "      <td>0</td>\n",
       "      <td>False</td>\n",
       "      <td>-0.230436</td>\n",
       "      <td>0.015667</td>\n",
       "      <td>82.182526</td>\n",
       "      <td>26.892952</td>\n",
       "      <td>0.005633</td>\n",
       "      <td>1650.0</td>\n",
       "    </tr>\n",
       "  </tbody>\n",
       "</table>"
      ],
      "text/plain": [
       "OrderedDict([('ID', 268), ('t', [0, 1, 2, 3, 4, 5, 6, 7, 8, 9, 10, 11, 12, 13]), ('x', [224.62899780273438, 224.62899780273438, 231.60154724121094, 237.1615753173828, 242.8090057373047, 237.23580932617188, 242.52569580078125, 235.49832153320312, 232.54415893554688, 219.31674194335938, 220.33355712890625, 223.66632080078125, 226.9462432861328, 221.37152099609375]), ('y', [299.68426513671875, 299.68426513671875, 296.7835693359375, 300.6013488769531, 303.67437744140625, 290.8854675292969, 294.986083984375, 298.14898681640625, 298.8264465332031, 310.25909423828125, 297.3150634765625, 303.23394775390625, 309.0238952636719, 324.584228515625]), ('z', [0.0, 0.0, 0.0, 0.0, 0.6021581888198853, 0.0, 0.0, 0.0, -1.0732766389846802, 0.0, 0.0, 0.0, 0.04518376663327217, 0.0]), ('parent', 268), ('root', 268), ('state', [5, 5, 5, 5, 5, 5, 5, 5, 5, 5, 5, 5, 5, 5]), ('generation', 0), ('dummy', [False, True, False, False, True, False, False, False, True, False, False, False, True, False]), ('orientation', array([-0.50648952,         nan, -0.48900694, -1.06424332,         nan,\n",
       "       -0.42751205, -0.59898561, -1.39110088,         nan, -0.27651352,\n",
       "       -0.31263259, -0.5155347 ,         nan, -0.23043634])), ('mean_intensity-0', array([0.03436571,        nan, 0.03695229, 0.01292644,        nan,\n",
       "       0.00716594, 0.01061135, 0.01431528,        nan, 0.01449963,\n",
       "       0.01081064, 0.01940067,        nan, 0.01566692])), ('major_axis_length', array([41.66171265,         nan, 46.59241486, 47.61327362,         nan,\n",
       "       38.21245575, 50.89928818, 53.26369858,         nan, 94.81217194,\n",
       "       64.54705048, 77.52759552,         nan, 82.18252563])), ('minor_axis_length', array([25.03350639,         nan, 24.88654518, 28.77639198,         nan,\n",
       "       35.40659332, 25.21119499, 29.57903862,         nan, 32.78578949,\n",
       "       30.5297184 , 33.28871918,         nan, 26.89295197])), ('mean_intensity-1', array([0.00582761,        nan, 0.00581379, 0.00571153,        nan,\n",
       "       0.0055842 , 0.00559983, 0.00563604,        nan, 0.00564945,\n",
       "       0.00562229, 0.00566801,        nan, 0.00563285])), ('area', array([ 814.,   nan,  901., 1046.,   nan, 1039.,  934., 1188.,   nan,\n",
       "       2169., 1460., 1945.,   nan, 1650.]))])"
      ]
     },
     "execution_count": 6,
     "metadata": {},
     "output_type": "execute_result"
    }
   ],
   "source": [
    "downscale_tracks[100]"
   ]
  },
  {
   "cell_type": "code",
   "execution_count": 7,
   "id": "dd87a927",
   "metadata": {},
   "outputs": [
    {
     "data": {
      "text/html": [
       "<table border=\"1\" class=\"dataframe\">\n",
       "  <thead>\n",
       "    <tr style=\"text-align: right;\">\n",
       "      <th></th>\n",
       "      <th>ID</th>\n",
       "      <th>x</th>\n",
       "      <th>y</th>\n",
       "      <th>z</th>\n",
       "      <th>t</th>\n",
       "      <th>dummy</th>\n",
       "      <th>states</th>\n",
       "      <th>label</th>\n",
       "      <th>area</th>\n",
       "      <th>major_axis_length</th>\n",
       "      <th>mean_intensity-0</th>\n",
       "      <th>mean_intensity-1</th>\n",
       "      <th>minor_axis_length</th>\n",
       "      <th>orientation</th>\n",
       "    </tr>\n",
       "  </thead>\n",
       "  <tbody>\n",
       "    <tr>\n",
       "      <th>0</th>\n",
       "      <td>0</td>\n",
       "      <td>475.019562</td>\n",
       "      <td>38.320938</td>\n",
       "      <td>0.0</td>\n",
       "      <td>0</td>\n",
       "      <td>False</td>\n",
       "      <td>7</td>\n",
       "      <td>5</td>\n",
       "      <td>511.0</td>\n",
       "      <td>36.582401</td>\n",
       "      <td>0.00555</td>\n",
       "      <td>0.005249</td>\n",
       "      <td>18.858295</td>\n",
       "      <td>-0.385791</td>\n",
       "    </tr>\n",
       "  </tbody>\n",
       "</table>"
      ],
      "text/plain": [
       "{'ID': 0, 'x': 475.0195617675781, 'y': 38.32093811035156, 'z': 0.0, 't': 0, 'dummy': False, 'states': 7, 'label': 5, 'area': 511.0, 'major_axis_length': 36.5824, 'mean_intensity-0': 0.0055497, 'mean_intensity-1': 0.0052486197, 'minor_axis_length': 18.858295, 'orientation': -0.38579133}"
      ]
     },
     "execution_count": 7,
     "metadata": {},
     "output_type": "execute_result"
    }
   ],
   "source": [
    "downscale_obj[0]"
   ]
  },
  {
   "cell_type": "code",
   "execution_count": 8,
   "id": "a95e963f",
   "metadata": {},
   "outputs": [
    {
     "data": {
      "text/plain": [
       "array([[    0,     0,     0, ...,     0,     0,     0],\n",
       "       [    0,     0,     0, ...,     0,     0,     0],\n",
       "       [    0,     0,     0, ...,     0,     0,     0],\n",
       "       ...,\n",
       "       [15477, 15477, 15477, ...,     0,     0,     0],\n",
       "       [15477, 15477, 15477, ...,     0,     0,     0],\n",
       "       [15477, 15477, 15477, ...,     0,     0,     0]], dtype=uint16)"
      ]
     },
     "execution_count": 8,
     "metadata": {},
     "output_type": "execute_result"
    }
   ],
   "source": [
    "downscale_seg[0]"
   ]
  },
  {
   "cell_type": "code",
   "execution_count": 34,
   "id": "25f92afa",
   "metadata": {},
   "outputs": [
    {
     "data": {
      "text/plain": [
       "(75, 1200, 1200)"
      ]
     },
     "execution_count": 34,
     "metadata": {},
     "output_type": "execute_result"
    }
   ],
   "source": [
    "downscale_seg.shape"
   ]
  },
  {
   "cell_type": "markdown",
   "id": "a162382c",
   "metadata": {},
   "source": [
    "### attempting to write tracks seg and objs to file correctly "
   ]
  },
  {
   "cell_type": "code",
   "execution_count": 9,
   "id": "e7ac903f",
   "metadata": {},
   "outputs": [
    {
     "name": "stderr",
     "output_type": "stream",
     "text": [
      "[INFO][2023/04/14 04:25:16 PM] Opening HDF file: test.h5...\n",
      "[INFO][2023/04/14 04:25:17 PM] Writing objects/obj_type_1\n",
      "[INFO][2023/04/14 04:25:17 PM] Writing labels/obj_type_1\n",
      "[INFO][2023/04/14 04:25:17 PM] Loading objects/obj_type_1 (26917, 5) (26917 filtered: None)\n",
      "[INFO][2023/04/14 04:25:17 PM] Writing properties/obj_type_1/area (26917,)\n",
      "[INFO][2023/04/14 04:25:17 PM] Writing properties/obj_type_1/major_axis_length (26917,)\n",
      "[INFO][2023/04/14 04:25:17 PM] Writing properties/obj_type_1/mean_intensity-0 (26917,)\n",
      "[INFO][2023/04/14 04:25:17 PM] Writing properties/obj_type_1/mean_intensity-1 (26917,)\n",
      "[INFO][2023/04/14 04:25:17 PM] Writing properties/obj_type_1/minor_axis_length (26917,)\n",
      "[INFO][2023/04/14 04:25:17 PM] Writing properties/obj_type_1/orientation (26917,)\n",
      "[INFO][2023/04/14 04:25:17 PM] Writing tracks/obj_type_1\n",
      "[INFO][2023/04/14 04:25:17 PM] Writing LBEP/obj_type_1\n",
      "[INFO][2023/04/14 04:25:17 PM] Writing fates/obj_type_1\n",
      "[INFO][2023/04/14 04:25:20 PM] Closing HDF file: test.h5\n"
     ]
    }
   ],
   "source": [
    "with btrack.dataio.HDF5FileHandler(f'test.h5', \n",
    "                                   'w', \n",
    "                                   obj_type='obj_type_1'\n",
    "                                   ) as writer:\n",
    "\n",
    "        writer.write_objects(downscale_obj)\n",
    "        writer.write_tracks(downscale_tracks)\n",
    "        writer.write_segmentation(downscale_seg)"
   ]
  },
  {
   "cell_type": "code",
   "execution_count": 10,
   "id": "bd4e58a1",
   "metadata": {},
   "outputs": [
    {
     "name": "stderr",
     "output_type": "stream",
     "text": [
      "[INFO][2023/04/14 04:25:23 PM] Opening HDF file: test.h5...\n",
      "[INFO][2023/04/14 04:25:23 PM] Loading objects/obj_type_1 (26917, 5) (26917 filtered: None)\n",
      "[INFO][2023/04/14 04:25:23 PM] Loading segmentation (75, 1200, 1200)\n",
      "[INFO][2023/04/14 04:25:23 PM] Closing HDF file: test.h5\n"
     ]
    }
   ],
   "source": [
    "with btrack.dataio.HDF5FileHandler(f\"test.h5\", \"r\", obj_type=\"obj_type_1\") as hdf:\n",
    "        \n",
    "        \n",
    "        obj = hdf.objects\n",
    "        seg = hdf.segmentation"
   ]
  },
  {
   "cell_type": "code",
   "execution_count": 11,
   "id": "110a8889",
   "metadata": {},
   "outputs": [
    {
     "name": "stderr",
     "output_type": "stream",
     "text": [
      "[INFO][2023/04/14 04:25:25 PM] Opening HDF file: test.h5...\n",
      "[INFO][2023/04/14 04:25:25 PM] Loading tracks/obj_type_1\n",
      "[INFO][2023/04/14 04:25:25 PM] Loading objects/obj_type_1 (26917, 5) (26917 filtered: None)\n",
      "[INFO][2023/04/14 04:25:25 PM] Closing HDF file: test.h5\n"
     ]
    },
    {
     "ename": "NameError",
     "evalue": "free variable 'dummy_obj' referenced before assignment in enclosing scope",
     "output_type": "error",
     "traceback": [
      "\u001b[0;31m---------------------------------------------------------------------------\u001b[0m",
      "\u001b[0;31mNameError\u001b[0m                                 Traceback (most recent call last)",
      "Input \u001b[0;32mIn [11]\u001b[0m, in \u001b[0;36m<cell line: 1>\u001b[0;34m()\u001b[0m\n\u001b[1;32m      1\u001b[0m \u001b[38;5;28;01mwith\u001b[39;00m btrack\u001b[38;5;241m.\u001b[39mdataio\u001b[38;5;241m.\u001b[39mHDF5FileHandler(\u001b[38;5;124mf\u001b[39m\u001b[38;5;124m\"\u001b[39m\u001b[38;5;124mtest.h5\u001b[39m\u001b[38;5;124m\"\u001b[39m, \u001b[38;5;124m\"\u001b[39m\u001b[38;5;124mr\u001b[39m\u001b[38;5;124m\"\u001b[39m, obj_type\u001b[38;5;241m=\u001b[39m\u001b[38;5;124m\"\u001b[39m\u001b[38;5;124mobj_type_1\u001b[39m\u001b[38;5;124m\"\u001b[39m) \u001b[38;5;28;01mas\u001b[39;00m hdf:\n\u001b[0;32m----> 3\u001b[0m     tracks \u001b[38;5;241m=\u001b[39m \u001b[43mhdf\u001b[49m\u001b[38;5;241;43m.\u001b[39;49m\u001b[43mtracks\u001b[49m\n",
      "File \u001b[0;32m~/analysis/BayesianTracker/btrack/dataio.py:291\u001b[0m, in \u001b[0;36mh5check_property_exists.<locals>.func.<locals>.wrapped_handler_property\u001b[0;34m(*args, **kwargs)\u001b[0m\n\u001b[1;32m    287\u001b[0m     logger\u001b[38;5;241m.\u001b[39merror(\n\u001b[1;32m    288\u001b[0m         \u001b[38;5;124mf\u001b[39m\u001b[38;5;124m\"\u001b[39m\u001b[38;5;132;01m{\u001b[39;00m\u001b[38;5;28mproperty\u001b[39m\u001b[38;5;241m.\u001b[39mcapitalize()\u001b[38;5;132;01m}\u001b[39;00m\u001b[38;5;124m not found in \u001b[39m\u001b[38;5;132;01m{\u001b[39;00m\u001b[38;5;28mself\u001b[39m\u001b[38;5;241m.\u001b[39mfilename\u001b[38;5;132;01m}\u001b[39;00m\u001b[38;5;124m\"\u001b[39m\n\u001b[1;32m    289\u001b[0m     )\n\u001b[1;32m    290\u001b[0m     \u001b[38;5;28;01mreturn\u001b[39;00m \u001b[38;5;28;01mNone\u001b[39;00m\n\u001b[0;32m--> 291\u001b[0m \u001b[38;5;28;01mreturn\u001b[39;00m \u001b[43mfn\u001b[49m\u001b[43m(\u001b[49m\u001b[38;5;241;43m*\u001b[39;49m\u001b[43margs\u001b[49m\u001b[43m,\u001b[49m\u001b[43m \u001b[49m\u001b[38;5;241;43m*\u001b[39;49m\u001b[38;5;241;43m*\u001b[39;49m\u001b[43mkwargs\u001b[49m\u001b[43m)\u001b[49m\n",
      "File \u001b[0;32m~/analysis/BayesianTracker/btrack/dataio.py:688\u001b[0m, in \u001b[0;36mHDF5FileHandler.tracks\u001b[0;34m(self)\u001b[0m\n\u001b[1;32m    686\u001b[0m idx \u001b[38;5;241m=\u001b[39m \u001b[38;5;28mslice\u001b[39m(\u001b[38;5;241m*\u001b[39mtrack_map[i, :]\u001b[38;5;241m.\u001b[39mtolist())\n\u001b[1;32m    687\u001b[0m refs \u001b[38;5;241m=\u001b[39m track_refs[idx]\n\u001b[0;32m--> 688\u001b[0m track \u001b[38;5;241m=\u001b[39m btypes\u001b[38;5;241m.\u001b[39mTracklet(lbep[i, \u001b[38;5;241m0\u001b[39m], \u001b[38;5;28;43mlist\u001b[39;49m\u001b[43m(\u001b[49m\u001b[38;5;28;43mmap\u001b[39;49m\u001b[43m(\u001b[49m\u001b[43m_get_txyz\u001b[49m\u001b[43m,\u001b[49m\u001b[43m \u001b[49m\u001b[43mrefs\u001b[49m\u001b[43m)\u001b[49m\u001b[43m)\u001b[49m)\n\u001b[1;32m    689\u001b[0m track\u001b[38;5;241m.\u001b[39mparent \u001b[38;5;241m=\u001b[39m lbep[i, \u001b[38;5;241m3\u001b[39m]  \u001b[38;5;66;03m# set the parent and root of tree\u001b[39;00m\n\u001b[1;32m    690\u001b[0m track\u001b[38;5;241m.\u001b[39mroot \u001b[38;5;241m=\u001b[39m lbep[i, \u001b[38;5;241m4\u001b[39m]\n",
      "File \u001b[0;32m~/analysis/BayesianTracker/btrack/dataio.py:682\u001b[0m, in \u001b[0;36mHDF5FileHandler.tracks.<locals>._get_txyz\u001b[0;34m(_ref)\u001b[0m\n\u001b[1;32m    680\u001b[0m \u001b[38;5;28;01mif\u001b[39;00m _ref \u001b[38;5;241m>\u001b[39m\u001b[38;5;241m=\u001b[39m \u001b[38;5;241m0\u001b[39m:\n\u001b[1;32m    681\u001b[0m     \u001b[38;5;28;01mreturn\u001b[39;00m obj[_ref]\n\u001b[0;32m--> 682\u001b[0m \u001b[38;5;28;01mreturn\u001b[39;00m \u001b[43mdummy_obj\u001b[49m[\u001b[38;5;28mabs\u001b[39m(_ref) \u001b[38;5;241m-\u001b[39m \u001b[38;5;241m1\u001b[39m]\n",
      "\u001b[0;31mNameError\u001b[0m: free variable 'dummy_obj' referenced before assignment in enclosing scope"
     ]
    }
   ],
   "source": [
    "with btrack.dataio.HDF5FileHandler(f\"test.h5\", \"r\", obj_type=\"obj_type_1\") as hdf:\n",
    "        \n",
    "    tracks = hdf.tracks"
   ]
  },
  {
   "cell_type": "code",
   "execution_count": 12,
   "id": "cd398314",
   "metadata": {},
   "outputs": [
    {
     "name": "stderr",
     "output_type": "stream",
     "text": [
      "[INFO][2023/04/14 04:25:35 PM] Opening HDF file: test.h5...\n",
      "[INFO][2023/04/14 04:25:35 PM] Writing objects/obj_type_1\n",
      "[INFO][2023/04/14 04:25:35 PM] Writing labels/obj_type_1\n",
      "[INFO][2023/04/14 04:25:35 PM] Loading objects/obj_type_1 (26917, 5) (26917 filtered: None)\n",
      "[INFO][2023/04/14 04:25:35 PM] Writing properties/obj_type_1/area (26917,)\n",
      "[INFO][2023/04/14 04:25:35 PM] Writing properties/obj_type_1/major_axis_length (26917,)\n",
      "[INFO][2023/04/14 04:25:35 PM] Writing properties/obj_type_1/mean_intensity-0 (26917,)\n",
      "[INFO][2023/04/14 04:25:35 PM] Writing properties/obj_type_1/mean_intensity-1 (26917,)\n",
      "[INFO][2023/04/14 04:25:35 PM] Writing properties/obj_type_1/minor_axis_length (26917,)\n",
      "[INFO][2023/04/14 04:25:35 PM] Writing properties/obj_type_1/orientation (26917,)\n",
      "[INFO][2023/04/14 04:25:35 PM] Writing tracks/obj_type_1\n",
      "[INFO][2023/04/14 04:25:35 PM] Writing LBEP/obj_type_1\n",
      "[INFO][2023/04/14 04:25:35 PM] Writing fates/obj_type_1\n",
      "[INFO][2023/04/14 04:25:35 PM] Closing HDF file: test.h5\n"
     ]
    }
   ],
   "source": [
    "with btrack.dataio.HDF5FileHandler(f'test.h5', \n",
    "                                   'w', \n",
    "                                   obj_type='obj_type_1'\n",
    "                                   ) as writer:\n",
    "\n",
    "#         writer.write_objects(downscale_obj)\n",
    "        writer.write_tracks(downscale_tracks)\n",
    "#         writer.write_segmentation(downscale_seg)"
   ]
  },
  {
   "cell_type": "code",
   "execution_count": 13,
   "id": "e1641caa",
   "metadata": {},
   "outputs": [
    {
     "name": "stderr",
     "output_type": "stream",
     "text": [
      "[INFO][2023/04/14 04:25:37 PM] Opening HDF file: test.h5...\n",
      "[INFO][2023/04/14 04:25:37 PM] Loading tracks/obj_type_1\n",
      "[INFO][2023/04/14 04:25:37 PM] Loading objects/obj_type_1 (26917, 5) (26917 filtered: None)\n",
      "[INFO][2023/04/14 04:25:37 PM] Closing HDF file: test.h5\n"
     ]
    },
    {
     "ename": "NameError",
     "evalue": "free variable 'dummy_obj' referenced before assignment in enclosing scope",
     "output_type": "error",
     "traceback": [
      "\u001b[0;31m---------------------------------------------------------------------------\u001b[0m",
      "\u001b[0;31mNameError\u001b[0m                                 Traceback (most recent call last)",
      "Input \u001b[0;32mIn [13]\u001b[0m, in \u001b[0;36m<cell line: 1>\u001b[0;34m()\u001b[0m\n\u001b[1;32m      1\u001b[0m \u001b[38;5;28;01mwith\u001b[39;00m btrack\u001b[38;5;241m.\u001b[39mdataio\u001b[38;5;241m.\u001b[39mHDF5FileHandler(\u001b[38;5;124mf\u001b[39m\u001b[38;5;124m\"\u001b[39m\u001b[38;5;124mtest.h5\u001b[39m\u001b[38;5;124m\"\u001b[39m, \u001b[38;5;124m\"\u001b[39m\u001b[38;5;124mr\u001b[39m\u001b[38;5;124m\"\u001b[39m, obj_type\u001b[38;5;241m=\u001b[39m\u001b[38;5;124m\"\u001b[39m\u001b[38;5;124mobj_type_1\u001b[39m\u001b[38;5;124m\"\u001b[39m) \u001b[38;5;28;01mas\u001b[39;00m hdf:\n\u001b[0;32m----> 3\u001b[0m     tracks \u001b[38;5;241m=\u001b[39m \u001b[43mhdf\u001b[49m\u001b[38;5;241;43m.\u001b[39;49m\u001b[43mtracks\u001b[49m\n",
      "File \u001b[0;32m~/analysis/BayesianTracker/btrack/dataio.py:291\u001b[0m, in \u001b[0;36mh5check_property_exists.<locals>.func.<locals>.wrapped_handler_property\u001b[0;34m(*args, **kwargs)\u001b[0m\n\u001b[1;32m    287\u001b[0m     logger\u001b[38;5;241m.\u001b[39merror(\n\u001b[1;32m    288\u001b[0m         \u001b[38;5;124mf\u001b[39m\u001b[38;5;124m\"\u001b[39m\u001b[38;5;132;01m{\u001b[39;00m\u001b[38;5;28mproperty\u001b[39m\u001b[38;5;241m.\u001b[39mcapitalize()\u001b[38;5;132;01m}\u001b[39;00m\u001b[38;5;124m not found in \u001b[39m\u001b[38;5;132;01m{\u001b[39;00m\u001b[38;5;28mself\u001b[39m\u001b[38;5;241m.\u001b[39mfilename\u001b[38;5;132;01m}\u001b[39;00m\u001b[38;5;124m\"\u001b[39m\n\u001b[1;32m    289\u001b[0m     )\n\u001b[1;32m    290\u001b[0m     \u001b[38;5;28;01mreturn\u001b[39;00m \u001b[38;5;28;01mNone\u001b[39;00m\n\u001b[0;32m--> 291\u001b[0m \u001b[38;5;28;01mreturn\u001b[39;00m \u001b[43mfn\u001b[49m\u001b[43m(\u001b[49m\u001b[38;5;241;43m*\u001b[39;49m\u001b[43margs\u001b[49m\u001b[43m,\u001b[49m\u001b[43m \u001b[49m\u001b[38;5;241;43m*\u001b[39;49m\u001b[38;5;241;43m*\u001b[39;49m\u001b[43mkwargs\u001b[49m\u001b[43m)\u001b[49m\n",
      "File \u001b[0;32m~/analysis/BayesianTracker/btrack/dataio.py:688\u001b[0m, in \u001b[0;36mHDF5FileHandler.tracks\u001b[0;34m(self)\u001b[0m\n\u001b[1;32m    686\u001b[0m idx \u001b[38;5;241m=\u001b[39m \u001b[38;5;28mslice\u001b[39m(\u001b[38;5;241m*\u001b[39mtrack_map[i, :]\u001b[38;5;241m.\u001b[39mtolist())\n\u001b[1;32m    687\u001b[0m refs \u001b[38;5;241m=\u001b[39m track_refs[idx]\n\u001b[0;32m--> 688\u001b[0m track \u001b[38;5;241m=\u001b[39m btypes\u001b[38;5;241m.\u001b[39mTracklet(lbep[i, \u001b[38;5;241m0\u001b[39m], \u001b[38;5;28;43mlist\u001b[39;49m\u001b[43m(\u001b[49m\u001b[38;5;28;43mmap\u001b[39;49m\u001b[43m(\u001b[49m\u001b[43m_get_txyz\u001b[49m\u001b[43m,\u001b[49m\u001b[43m \u001b[49m\u001b[43mrefs\u001b[49m\u001b[43m)\u001b[49m\u001b[43m)\u001b[49m)\n\u001b[1;32m    689\u001b[0m track\u001b[38;5;241m.\u001b[39mparent \u001b[38;5;241m=\u001b[39m lbep[i, \u001b[38;5;241m3\u001b[39m]  \u001b[38;5;66;03m# set the parent and root of tree\u001b[39;00m\n\u001b[1;32m    690\u001b[0m track\u001b[38;5;241m.\u001b[39mroot \u001b[38;5;241m=\u001b[39m lbep[i, \u001b[38;5;241m4\u001b[39m]\n",
      "File \u001b[0;32m~/analysis/BayesianTracker/btrack/dataio.py:682\u001b[0m, in \u001b[0;36mHDF5FileHandler.tracks.<locals>._get_txyz\u001b[0;34m(_ref)\u001b[0m\n\u001b[1;32m    680\u001b[0m \u001b[38;5;28;01mif\u001b[39;00m _ref \u001b[38;5;241m>\u001b[39m\u001b[38;5;241m=\u001b[39m \u001b[38;5;241m0\u001b[39m:\n\u001b[1;32m    681\u001b[0m     \u001b[38;5;28;01mreturn\u001b[39;00m obj[_ref]\n\u001b[0;32m--> 682\u001b[0m \u001b[38;5;28;01mreturn\u001b[39;00m \u001b[43mdummy_obj\u001b[49m[\u001b[38;5;28mabs\u001b[39m(_ref) \u001b[38;5;241m-\u001b[39m \u001b[38;5;241m1\u001b[39m]\n",
      "\u001b[0;31mNameError\u001b[0m: free variable 'dummy_obj' referenced before assignment in enclosing scope"
     ]
    }
   ],
   "source": [
    "with btrack.dataio.HDF5FileHandler(f\"test.h5\", \"r\", obj_type=\"obj_type_1\") as hdf:\n",
    "        \n",
    "    tracks = hdf.tracks"
   ]
  },
  {
   "cell_type": "markdown",
   "id": "ed6b3b55",
   "metadata": {},
   "source": [
    "# The tracks are comprehensively fucked by saving them out, regardless of how and what with"
   ]
  },
  {
   "cell_type": "code",
   "execution_count": 46,
   "id": "be273e2f",
   "metadata": {},
   "outputs": [],
   "source": [
    "# trying different btrack versions"
   ]
  },
  {
   "cell_type": "code",
   "execution_count": 47,
   "id": "605ae21c",
   "metadata": {},
   "outputs": [
    {
     "data": {
      "text/plain": [
       "'0.5.0'"
      ]
     },
     "execution_count": 47,
     "metadata": {},
     "output_type": "execute_result"
    }
   ],
   "source": [
    "btrack.__version__"
   ]
  },
  {
   "cell_type": "code",
   "execution_count": 48,
   "id": "b641eef9",
   "metadata": {},
   "outputs": [
    {
     "name": "stdout",
     "output_type": "stream",
     "text": [
      "Collecting btrack==0.4\n",
      "  Downloading btrack-0.4.0-py3-none-any.whl (1.2 MB)\n",
      "\u001b[2K     \u001b[38;2;114;156;31m━━━━━━━━━━━━━━━━━━━━━━━━━━━━━━━━━━━━━━━━\u001b[0m \u001b[32m1.2/1.2 MB\u001b[0m \u001b[31m10.1 MB/s\u001b[0m eta \u001b[36m0:00:00\u001b[0mm eta \u001b[36m0:00:01\u001b[0m[36m0:00:01\u001b[0m\n",
      "\u001b[?25hRequirement already satisfied: matplotlib>=3.1.1 in /home/dayn/miniconda3/envs/aero/lib/python3.9/site-packages (from btrack==0.4) (3.5.1)\n",
      "Requirement already satisfied: h5py>=2.10.0 in /home/dayn/miniconda3/envs/aero/lib/python3.9/site-packages (from btrack==0.4) (3.7.0)\n",
      "Requirement already satisfied: cvxopt>=1.2.0 in /home/dayn/miniconda3/envs/aero/lib/python3.9/site-packages (from btrack==0.4) (1.3.0)\n",
      "Requirement already satisfied: numpy>=1.17.3 in /home/dayn/miniconda3/envs/aero/lib/python3.9/site-packages (from btrack==0.4) (1.22.3)\n",
      "Requirement already satisfied: scipy>=1.3.1 in /home/dayn/miniconda3/envs/aero/lib/python3.9/site-packages (from btrack==0.4) (1.9.3)\n",
      "Requirement already satisfied: python-dateutil>=2.7 in /home/dayn/miniconda3/envs/aero/lib/python3.9/site-packages (from matplotlib>=3.1.1->btrack==0.4) (2.8.2)\n",
      "Requirement already satisfied: fonttools>=4.22.0 in /home/dayn/miniconda3/envs/aero/lib/python3.9/site-packages (from matplotlib>=3.1.1->btrack==0.4) (4.25.0)\n",
      "Requirement already satisfied: kiwisolver>=1.0.1 in /home/dayn/miniconda3/envs/aero/lib/python3.9/site-packages (from matplotlib>=3.1.1->btrack==0.4) (1.4.2)\n",
      "Requirement already satisfied: pyparsing>=2.2.1 in /home/dayn/miniconda3/envs/aero/lib/python3.9/site-packages (from matplotlib>=3.1.1->btrack==0.4) (3.0.9)\n",
      "Requirement already satisfied: cycler>=0.10 in /home/dayn/miniconda3/envs/aero/lib/python3.9/site-packages (from matplotlib>=3.1.1->btrack==0.4) (0.11.0)\n",
      "Requirement already satisfied: packaging>=20.0 in /home/dayn/miniconda3/envs/aero/lib/python3.9/site-packages (from matplotlib>=3.1.1->btrack==0.4) (21.3)\n",
      "Requirement already satisfied: pillow>=6.2.0 in /home/dayn/miniconda3/envs/aero/lib/python3.9/site-packages (from matplotlib>=3.1.1->btrack==0.4) (9.2.0)\n",
      "Requirement already satisfied: six>=1.5 in /home/dayn/miniconda3/envs/aero/lib/python3.9/site-packages (from python-dateutil>=2.7->matplotlib>=3.1.1->btrack==0.4) (1.16.0)\n",
      "Installing collected packages: btrack\n",
      "  Attempting uninstall: btrack\n",
      "    Found existing installation: btrack 0.5.0\n",
      "    Uninstalling btrack-0.5.0:\n",
      "      Successfully uninstalled btrack-0.5.0\n",
      "\u001b[31mERROR: pip's dependency resolver does not currently take into account all the packages that are installed. This behaviour is the source of the following dependency conflicts.\n",
      "napari-btrack 0.1.dev92+g6305171 requires btrack>=0.4.1, but you have btrack 0.4.0 which is incompatible.\u001b[0m\u001b[31m\n",
      "\u001b[0mSuccessfully installed btrack-0.4.0\n"
     ]
    }
   ],
   "source": [
    "!pip install btrack==0.4"
   ]
  },
  {
   "cell_type": "code",
   "execution_count": 54,
   "id": "56f6fa91",
   "metadata": {},
   "outputs": [
    {
     "data": {
      "text/plain": [
       "'0.5.0'"
      ]
     },
     "execution_count": 54,
     "metadata": {},
     "output_type": "execute_result"
    }
   ],
   "source": [
    "import importlib\n",
    "importlib.reload(btrack)\n",
    "btrack.__version__"
   ]
  },
  {
   "cell_type": "code",
   "execution_count": 55,
   "id": "376e4c5d",
   "metadata": {},
   "outputs": [],
   "source": [
    "import btrack as btr"
   ]
  },
  {
   "cell_type": "code",
   "execution_count": 56,
   "id": "a01ec09c",
   "metadata": {},
   "outputs": [
    {
     "data": {
      "text/plain": [
       "'0.5.0'"
      ]
     },
     "execution_count": 56,
     "metadata": {},
     "output_type": "execute_result"
    }
   ],
   "source": [
    "btr.__version__"
   ]
  },
  {
   "cell_type": "code",
   "execution_count": 44,
   "id": "1e70ced0",
   "metadata": {},
   "outputs": [
    {
     "name": "stderr",
     "output_type": "stream",
     "text": [
      "[INFO][2023/04/14 03:45:47 PM] Opening HDF file: test.h5...\n",
      "[INFO][2023/04/14 03:45:48 PM] Writing objects/obj_type_1\n",
      "[INFO][2023/04/14 03:45:48 PM] Writing labels/obj_type_1\n",
      "[INFO][2023/04/14 03:45:48 PM] Loading objects/obj_type_1 (26917, 5) (26917 filtered: None)\n",
      "[INFO][2023/04/14 03:45:48 PM] Writing properties/obj_type_1/area (26917,)\n",
      "[INFO][2023/04/14 03:45:48 PM] Writing properties/obj_type_1/major_axis_length (26917,)\n",
      "[INFO][2023/04/14 03:45:48 PM] Writing properties/obj_type_1/mean_intensity-0 (26917,)\n",
      "[INFO][2023/04/14 03:45:48 PM] Writing properties/obj_type_1/mean_intensity-1 (26917,)\n",
      "[INFO][2023/04/14 03:45:48 PM] Writing properties/obj_type_1/minor_axis_length (26917,)\n",
      "[INFO][2023/04/14 03:45:48 PM] Writing properties/obj_type_1/orientation (26917,)\n",
      "[INFO][2023/04/14 03:45:48 PM] Writing tracks/obj_type_1\n",
      "[INFO][2023/04/14 03:45:48 PM] Writing LBEP/obj_type_1\n",
      "[INFO][2023/04/14 03:45:48 PM] Writing fates/obj_type_1\n",
      "[INFO][2023/04/14 03:45:48 PM] Closing HDF file: test.h5\n"
     ]
    }
   ],
   "source": [
    "with btrack.dataio.HDF5FileHandler(f'test.h5', \n",
    "                                   'w', \n",
    "                                   obj_type='obj_type_1'\n",
    "                                   ) as writer:\n",
    "\n",
    "#         writer.write_objects(downscale_obj)\n",
    "        writer.write_tracks(downscale_tracks)\n",
    "#         writer.write_segmentation(downscale_seg)"
   ]
  },
  {
   "cell_type": "code",
   "execution_count": 45,
   "id": "4ea8b97d",
   "metadata": {},
   "outputs": [
    {
     "name": "stderr",
     "output_type": "stream",
     "text": [
      "[INFO][2023/04/14 03:45:52 PM] Opening HDF file: test.h5...\n",
      "[INFO][2023/04/14 03:45:52 PM] Loading tracks/obj_type_1\n",
      "[INFO][2023/04/14 03:45:52 PM] Loading LBEP/obj_type_1\n",
      "[INFO][2023/04/14 03:45:52 PM] Loading objects/obj_type_1 (26917, 5) (26917 filtered: None)\n",
      "[INFO][2023/04/14 03:45:52 PM] Closing HDF file: test.h5\n"
     ]
    },
    {
     "ename": "NameError",
     "evalue": "free variable 'dummy_obj' referenced before assignment in enclosing scope",
     "output_type": "error",
     "traceback": [
      "\u001b[0;31m---------------------------------------------------------------------------\u001b[0m",
      "\u001b[0;31mNameError\u001b[0m                                 Traceback (most recent call last)",
      "Input \u001b[0;32mIn [45]\u001b[0m, in \u001b[0;36m<cell line: 1>\u001b[0;34m()\u001b[0m\n\u001b[1;32m      1\u001b[0m \u001b[38;5;28;01mwith\u001b[39;00m btrack\u001b[38;5;241m.\u001b[39mdataio\u001b[38;5;241m.\u001b[39mHDF5FileHandler(\u001b[38;5;124mf\u001b[39m\u001b[38;5;124m\"\u001b[39m\u001b[38;5;124mtest.h5\u001b[39m\u001b[38;5;124m\"\u001b[39m, \u001b[38;5;124m\"\u001b[39m\u001b[38;5;124mr\u001b[39m\u001b[38;5;124m\"\u001b[39m, obj_type\u001b[38;5;241m=\u001b[39m\u001b[38;5;124m\"\u001b[39m\u001b[38;5;124mobj_type_1\u001b[39m\u001b[38;5;124m\"\u001b[39m) \u001b[38;5;28;01mas\u001b[39;00m hdf:\n\u001b[0;32m----> 3\u001b[0m     tracks \u001b[38;5;241m=\u001b[39m \u001b[43mhdf\u001b[49m\u001b[38;5;241;43m.\u001b[39;49m\u001b[43mtracks\u001b[49m\n",
      "File \u001b[0;32m~/miniconda3/envs/aero/lib/python3.9/site-packages/btrack/dataio.py:286\u001b[0m, in \u001b[0;36mh5check_property_exists.<locals>.func.<locals>.wrapped_handler_property\u001b[0;34m(*args, **kwargs)\u001b[0m\n\u001b[1;32m    282\u001b[0m     logger\u001b[38;5;241m.\u001b[39merror(\n\u001b[1;32m    283\u001b[0m         \u001b[38;5;124mf\u001b[39m\u001b[38;5;124m\"\u001b[39m\u001b[38;5;132;01m{\u001b[39;00m\u001b[38;5;28mproperty\u001b[39m\u001b[38;5;241m.\u001b[39mcapitalize()\u001b[38;5;132;01m}\u001b[39;00m\u001b[38;5;124m not found in \u001b[39m\u001b[38;5;132;01m{\u001b[39;00m\u001b[38;5;28mself\u001b[39m\u001b[38;5;241m.\u001b[39mfilename\u001b[38;5;132;01m}\u001b[39;00m\u001b[38;5;124m\"\u001b[39m\n\u001b[1;32m    284\u001b[0m     )\n\u001b[1;32m    285\u001b[0m     \u001b[38;5;28;01mreturn\u001b[39;00m \u001b[38;5;28;01mNone\u001b[39;00m\n\u001b[0;32m--> 286\u001b[0m \u001b[38;5;28;01mreturn\u001b[39;00m \u001b[43mfn\u001b[49m\u001b[43m(\u001b[49m\u001b[38;5;241;43m*\u001b[39;49m\u001b[43margs\u001b[49m\u001b[43m,\u001b[49m\u001b[43m \u001b[49m\u001b[38;5;241;43m*\u001b[39;49m\u001b[38;5;241;43m*\u001b[39;49m\u001b[43mkwargs\u001b[49m\u001b[43m)\u001b[49m\n",
      "File \u001b[0;32m~/miniconda3/envs/aero/lib/python3.9/site-packages/btrack/dataio.py:683\u001b[0m, in \u001b[0;36mHDF5FileHandler.tracks\u001b[0;34m(self)\u001b[0m\n\u001b[1;32m    681\u001b[0m idx \u001b[38;5;241m=\u001b[39m \u001b[38;5;28mslice\u001b[39m(\u001b[38;5;241m*\u001b[39mtrack_map[i, :]\u001b[38;5;241m.\u001b[39mtolist())\n\u001b[1;32m    682\u001b[0m refs \u001b[38;5;241m=\u001b[39m track_refs[idx]\n\u001b[0;32m--> 683\u001b[0m track \u001b[38;5;241m=\u001b[39m btypes\u001b[38;5;241m.\u001b[39mTracklet(lbep[i, \u001b[38;5;241m0\u001b[39m], \u001b[38;5;28;43mlist\u001b[39;49m\u001b[43m(\u001b[49m\u001b[38;5;28;43mmap\u001b[39;49m\u001b[43m(\u001b[49m\u001b[43m_get_txyz\u001b[49m\u001b[43m,\u001b[49m\u001b[43m \u001b[49m\u001b[43mrefs\u001b[49m\u001b[43m)\u001b[49m\u001b[43m)\u001b[49m)\n\u001b[1;32m    684\u001b[0m track\u001b[38;5;241m.\u001b[39mparent \u001b[38;5;241m=\u001b[39m lbep[i, \u001b[38;5;241m3\u001b[39m]  \u001b[38;5;66;03m# set the parent and root of tree\u001b[39;00m\n\u001b[1;32m    685\u001b[0m track\u001b[38;5;241m.\u001b[39mroot \u001b[38;5;241m=\u001b[39m lbep[i, \u001b[38;5;241m4\u001b[39m]\n",
      "File \u001b[0;32m~/miniconda3/envs/aero/lib/python3.9/site-packages/btrack/dataio.py:677\u001b[0m, in \u001b[0;36mHDF5FileHandler.tracks.<locals>._get_txyz\u001b[0;34m(_ref)\u001b[0m\n\u001b[1;32m    675\u001b[0m \u001b[38;5;28;01mif\u001b[39;00m _ref \u001b[38;5;241m>\u001b[39m\u001b[38;5;241m=\u001b[39m \u001b[38;5;241m0\u001b[39m:\n\u001b[1;32m    676\u001b[0m     \u001b[38;5;28;01mreturn\u001b[39;00m obj[_ref]\n\u001b[0;32m--> 677\u001b[0m \u001b[38;5;28;01mreturn\u001b[39;00m \u001b[43mdummy_obj\u001b[49m[\u001b[38;5;28mabs\u001b[39m(_ref) \u001b[38;5;241m-\u001b[39m \u001b[38;5;241m1\u001b[39m]\n",
      "\u001b[0;31mNameError\u001b[0m: free variable 'dummy_obj' referenced before assignment in enclosing scope"
     ]
    }
   ],
   "source": [
    "with btrack.dataio.HDF5FileHandler(f\"test.h5\", \"r\", obj_type=\"obj_type_1\") as hdf:\n",
    "        \n",
    "    tracks = hdf.tracks"
   ]
  },
  {
   "cell_type": "markdown",
   "id": "fc758d80",
   "metadata": {},
   "source": [
    "# What about the tracks created most recently?"
   ]
  },
  {
   "cell_type": "code",
   "execution_count": 19,
   "id": "eba60348",
   "metadata": {},
   "outputs": [
    {
     "name": "stderr",
     "output_type": "stream",
     "text": [
      "[INFO][2023/04/17 09:31:23 am] Opening HDF file: /mnt/DATA/macrohet/labels/full_localisation/upscale_(6, 9).h5...\n",
      "17-Apr-23 09:31:23 - btrack.dataio - INFO     - Opening HDF file: /mnt/DATA/macrohet/labels/full_localisation/upscale_(6, 9).h5...\n",
      "[INFO][2023/04/17 09:31:23 am] Loading objects/obj_type_1 (28251, 5) (28251 filtered: None)\n",
      "17-Apr-23 09:31:23 - btrack.dataio - INFO     - Loading objects/obj_type_1 (28251, 5) (28251 filtered: None)\n",
      "[INFO][2023/04/17 09:31:24 am] Loading tracks/obj_type_1\n",
      "17-Apr-23 09:31:24 - btrack.dataio - INFO     - Loading tracks/obj_type_1\n",
      "[INFO][2023/04/17 09:31:24 am] Loading objects/obj_type_1 (28251, 5) (28251 filtered: None)\n",
      "17-Apr-23 09:31:24 - btrack.dataio - INFO     - Loading objects/obj_type_1 (28251, 5) (28251 filtered: None)\n",
      "[INFO][2023/04/17 09:31:25 am] Closing HDF file: /mnt/DATA/macrohet/labels/full_localisation/upscale_(6, 9).h5\n",
      "17-Apr-23 09:31:25 - btrack.dataio - INFO     - Closing HDF file: /mnt/DATA/macrohet/labels/full_localisation/upscale_(6, 9).h5\n"
     ]
    }
   ],
   "source": [
    "with btrack.dataio.HDF5FileHandler(f\"/mnt/DATA/macrohet/labels/full_localisation/upscale_(6, 9).h5\", \"r\", obj_type=\"obj_type_1\") as hdf:\n",
    "    objects = hdf.objects\n",
    "    tracks = hdf.tracks"
   ]
  },
  {
   "cell_type": "code",
   "execution_count": 20,
   "id": "f3e0477f",
   "metadata": {},
   "outputs": [
    {
     "data": {
      "text/html": [
       "<table border=\"1\" class=\"dataframe\">\n",
       "  <thead>\n",
       "    <tr style=\"text-align: right;\">\n",
       "      <th></th>\n",
       "      <th>ID</th>\n",
       "      <th>x</th>\n",
       "      <th>y</th>\n",
       "      <th>z</th>\n",
       "      <th>t</th>\n",
       "      <th>dummy</th>\n",
       "      <th>states</th>\n",
       "      <th>label</th>\n",
       "      <th>area</th>\n",
       "      <th>major_axis_length</th>\n",
       "      <th>mean_intensity-0</th>\n",
       "      <th>mean_intensity-1</th>\n",
       "      <th>minor_axis_length</th>\n",
       "      <th>orientation</th>\n",
       "    </tr>\n",
       "  </thead>\n",
       "  <tbody>\n",
       "    <tr>\n",
       "      <th>0</th>\n",
       "      <td>0</td>\n",
       "      <td>255.982468</td>\n",
       "      <td>106.980453</td>\n",
       "      <td>0.0</td>\n",
       "      <td>0</td>\n",
       "      <td>False</td>\n",
       "      <td>7</td>\n",
       "      <td>5</td>\n",
       "      <td>36791.0</td>\n",
       "      <td>243.074829</td>\n",
       "      <td>1729.738037</td>\n",
       "      <td>343.477936</td>\n",
       "      <td>207.061188</td>\n",
       "      <td>-0.551878</td>\n",
       "    </tr>\n",
       "  </tbody>\n",
       "</table>"
      ],
      "text/plain": [
       "{'ID': 0, 'x': 255.9824676513672, 'y': 106.98045349121094, 'z': 0.0, 't': 0, 'dummy': False, 'states': 7, 'label': 5, 'area': 36791.0, 'major_axis_length': 243.07483, 'mean_intensity-0': 1729.738, 'mean_intensity-1': 343.47794, 'minor_axis_length': 207.06119, 'orientation': -0.5518784}"
      ]
     },
     "execution_count": 20,
     "metadata": {},
     "output_type": "execute_result"
    }
   ],
   "source": [
    "objects[0]"
   ]
  },
  {
   "cell_type": "code",
   "execution_count": 18,
   "id": "3a70809b",
   "metadata": {},
   "outputs": [
    {
     "data": {
      "text/html": [
       "<table border=\"1\" class=\"dataframe\">\n",
       "  <thead>\n",
       "    <tr style=\"text-align: right;\">\n",
       "      <th></th>\n",
       "      <th>ID</th>\n",
       "      <th>t</th>\n",
       "      <th>x</th>\n",
       "      <th>y</th>\n",
       "      <th>z</th>\n",
       "      <th>parent</th>\n",
       "      <th>root</th>\n",
       "      <th>state</th>\n",
       "      <th>generation</th>\n",
       "      <th>dummy</th>\n",
       "      <th>orientation</th>\n",
       "      <th>mean_intensity-0</th>\n",
       "      <th>major_axis_length</th>\n",
       "      <th>minor_axis_length</th>\n",
       "      <th>mean_intensity-1</th>\n",
       "      <th>area</th>\n",
       "    </tr>\n",
       "  </thead>\n",
       "  <tbody>\n",
       "    <tr>\n",
       "      <th>0</th>\n",
       "      <td>324</td>\n",
       "      <td>0</td>\n",
       "      <td>255.982468</td>\n",
       "      <td>106.980453</td>\n",
       "      <td>0.000000</td>\n",
       "      <td>324</td>\n",
       "      <td>324</td>\n",
       "      <td>5</td>\n",
       "      <td>0</td>\n",
       "      <td>False</td>\n",
       "      <td>-0.551878</td>\n",
       "      <td>1729.738037</td>\n",
       "      <td>243.074829</td>\n",
       "      <td>207.061188</td>\n",
       "      <td>343.477936</td>\n",
       "      <td>36791.0</td>\n",
       "    </tr>\n",
       "    <tr>\n",
       "      <th>1</th>\n",
       "      <td>324</td>\n",
       "      <td>0</td>\n",
       "      <td>599.743652</td>\n",
       "      <td>171.153168</td>\n",
       "      <td>0.000000</td>\n",
       "      <td>324</td>\n",
       "      <td>324</td>\n",
       "      <td>5</td>\n",
       "      <td>0</td>\n",
       "      <td>False</td>\n",
       "      <td>0.594668</td>\n",
       "      <td>1462.124756</td>\n",
       "      <td>448.025818</td>\n",
       "      <td>178.071793</td>\n",
       "      <td>367.334686</td>\n",
       "      <td>59860.0</td>\n",
       "    </tr>\n",
       "    <tr>\n",
       "      <th>2</th>\n",
       "      <td>324</td>\n",
       "      <td>0</td>\n",
       "      <td>980.881531</td>\n",
       "      <td>99.639580</td>\n",
       "      <td>0.000000</td>\n",
       "      <td>324</td>\n",
       "      <td>324</td>\n",
       "      <td>5</td>\n",
       "      <td>0</td>\n",
       "      <td>False</td>\n",
       "      <td>-0.367380</td>\n",
       "      <td>2558.366455</td>\n",
       "      <td>247.493896</td>\n",
       "      <td>128.105392</td>\n",
       "      <td>365.815735</td>\n",
       "      <td>23059.0</td>\n",
       "    </tr>\n",
       "    <tr>\n",
       "      <th>3</th>\n",
       "      <td>324</td>\n",
       "      <td>3</td>\n",
       "      <td>4877.688477</td>\n",
       "      <td>136.136520</td>\n",
       "      <td>-0.168154</td>\n",
       "      <td>324</td>\n",
       "      <td>324</td>\n",
       "      <td>5</td>\n",
       "      <td>0</td>\n",
       "      <td>True</td>\n",
       "      <td>NaN</td>\n",
       "      <td>NaN</td>\n",
       "      <td>NaN</td>\n",
       "      <td>NaN</td>\n",
       "      <td>NaN</td>\n",
       "      <td>NaN</td>\n",
       "    </tr>\n",
       "    <tr>\n",
       "      <th>4</th>\n",
       "      <td>324</td>\n",
       "      <td>4</td>\n",
       "      <td>4893.777832</td>\n",
       "      <td>139.532242</td>\n",
       "      <td>-0.336308</td>\n",
       "      <td>324</td>\n",
       "      <td>324</td>\n",
       "      <td>5</td>\n",
       "      <td>0</td>\n",
       "      <td>True</td>\n",
       "      <td>NaN</td>\n",
       "      <td>NaN</td>\n",
       "      <td>NaN</td>\n",
       "      <td>NaN</td>\n",
       "      <td>NaN</td>\n",
       "      <td>NaN</td>\n",
       "    </tr>\n",
       "    <tr>\n",
       "      <th>5</th>\n",
       "      <td>324</td>\n",
       "      <td>5</td>\n",
       "      <td>4909.867188</td>\n",
       "      <td>142.927979</td>\n",
       "      <td>-0.504462</td>\n",
       "      <td>324</td>\n",
       "      <td>324</td>\n",
       "      <td>5</td>\n",
       "      <td>0</td>\n",
       "      <td>True</td>\n",
       "      <td>NaN</td>\n",
       "      <td>NaN</td>\n",
       "      <td>NaN</td>\n",
       "      <td>NaN</td>\n",
       "      <td>NaN</td>\n",
       "      <td>NaN</td>\n",
       "    </tr>\n",
       "    <tr>\n",
       "      <th>6</th>\n",
       "      <td>324</td>\n",
       "      <td>6</td>\n",
       "      <td>4925.956543</td>\n",
       "      <td>146.323700</td>\n",
       "      <td>-0.672616</td>\n",
       "      <td>324</td>\n",
       "      <td>324</td>\n",
       "      <td>5</td>\n",
       "      <td>0</td>\n",
       "      <td>True</td>\n",
       "      <td>NaN</td>\n",
       "      <td>NaN</td>\n",
       "      <td>NaN</td>\n",
       "      <td>NaN</td>\n",
       "      <td>NaN</td>\n",
       "      <td>NaN</td>\n",
       "    </tr>\n",
       "    <tr>\n",
       "      <th>7</th>\n",
       "      <td>324</td>\n",
       "      <td>0</td>\n",
       "      <td>1367.452881</td>\n",
       "      <td>46.466648</td>\n",
       "      <td>0.000000</td>\n",
       "      <td>324</td>\n",
       "      <td>324</td>\n",
       "      <td>5</td>\n",
       "      <td>0</td>\n",
       "      <td>False</td>\n",
       "      <td>-1.438274</td>\n",
       "      <td>960.574585</td>\n",
       "      <td>278.680817</td>\n",
       "      <td>114.815643</td>\n",
       "      <td>429.671143</td>\n",
       "      <td>23268.0</td>\n",
       "    </tr>\n",
       "    <tr>\n",
       "      <th>8</th>\n",
       "      <td>324</td>\n",
       "      <td>8</td>\n",
       "      <td>4730.960449</td>\n",
       "      <td>159.073395</td>\n",
       "      <td>11.791363</td>\n",
       "      <td>324</td>\n",
       "      <td>324</td>\n",
       "      <td>5</td>\n",
       "      <td>0</td>\n",
       "      <td>True</td>\n",
       "      <td>NaN</td>\n",
       "      <td>NaN</td>\n",
       "      <td>NaN</td>\n",
       "      <td>NaN</td>\n",
       "      <td>NaN</td>\n",
       "      <td>NaN</td>\n",
       "    </tr>\n",
       "    <tr>\n",
       "      <th>9</th>\n",
       "      <td>324</td>\n",
       "      <td>9</td>\n",
       "      <td>4633.820801</td>\n",
       "      <td>176.684067</td>\n",
       "      <td>23.582726</td>\n",
       "      <td>324</td>\n",
       "      <td>324</td>\n",
       "      <td>5</td>\n",
       "      <td>0</td>\n",
       "      <td>True</td>\n",
       "      <td>NaN</td>\n",
       "      <td>NaN</td>\n",
       "      <td>NaN</td>\n",
       "      <td>NaN</td>\n",
       "      <td>NaN</td>\n",
       "      <td>NaN</td>\n",
       "    </tr>\n",
       "    <tr>\n",
       "      <th>10</th>\n",
       "      <td>324</td>\n",
       "      <td>10</td>\n",
       "      <td>4536.680664</td>\n",
       "      <td>194.294739</td>\n",
       "      <td>35.374088</td>\n",
       "      <td>324</td>\n",
       "      <td>324</td>\n",
       "      <td>5</td>\n",
       "      <td>0</td>\n",
       "      <td>True</td>\n",
       "      <td>NaN</td>\n",
       "      <td>NaN</td>\n",
       "      <td>NaN</td>\n",
       "      <td>NaN</td>\n",
       "      <td>NaN</td>\n",
       "      <td>NaN</td>\n",
       "    </tr>\n",
       "    <tr>\n",
       "      <th>11</th>\n",
       "      <td>324</td>\n",
       "      <td>11</td>\n",
       "      <td>4439.540527</td>\n",
       "      <td>211.905426</td>\n",
       "      <td>47.165451</td>\n",
       "      <td>324</td>\n",
       "      <td>324</td>\n",
       "      <td>5</td>\n",
       "      <td>0</td>\n",
       "      <td>True</td>\n",
       "      <td>NaN</td>\n",
       "      <td>NaN</td>\n",
       "      <td>NaN</td>\n",
       "      <td>NaN</td>\n",
       "      <td>NaN</td>\n",
       "      <td>NaN</td>\n",
       "    </tr>\n",
       "    <tr>\n",
       "      <th>12</th>\n",
       "      <td>324</td>\n",
       "      <td>0</td>\n",
       "      <td>1832.294922</td>\n",
       "      <td>24.801502</td>\n",
       "      <td>0.000000</td>\n",
       "      <td>324</td>\n",
       "      <td>324</td>\n",
       "      <td>5</td>\n",
       "      <td>0</td>\n",
       "      <td>False</td>\n",
       "      <td>-1.489495</td>\n",
       "      <td>960.222046</td>\n",
       "      <td>138.737381</td>\n",
       "      <td>57.429153</td>\n",
       "      <td>334.950989</td>\n",
       "      <td>6121.0</td>\n",
       "    </tr>\n",
       "  </tbody>\n",
       "</table>"
      ],
      "text/plain": [
       "OrderedDict([('ID', 324), ('t', [0, 0, 0, 3, 4, 5, 6, 0, 8, 9, 10, 11, 0]), ('x', [255.9824676513672, 599.74365234375, 980.8815307617188, 4877.6884765625, 4893.77783203125, 4909.8671875, 4925.95654296875, 1367.452880859375, 4730.96044921875, 4633.82080078125, 4536.6806640625, 4439.54052734375, 1832.294921875]), ('y', [106.98045349121094, 171.15316772460938, 99.63957977294922, 136.1365203857422, 139.53224182128906, 142.927978515625, 146.32369995117188, 46.46664810180664, 159.07339477539062, 176.68406677246094, 194.29473876953125, 211.90542602539062, 24.801502227783203]), ('z', [0.0, 0.0, 0.0, -0.16815389692783356, -0.3363077938556671, -0.5044617056846619, -0.6726155877113342, 0.0, 11.791362762451172, 23.582725524902344, 35.374088287353516, 47.16545104980469, 0.0]), ('parent', 324), ('root', 324), ('state', [5, 5, 5, 5, 5, 5, 5, 5, 5, 5, 5, 5, 5]), ('generation', 0), ('dummy', [False, False, False, True, True, True, True, False, True, True, True, True, False]), ('orientation', array([-0.55187839,  0.59466803, -0.36737975,         nan,         nan,\n",
       "               nan,         nan, -1.43827415,         nan,         nan,\n",
       "               nan,         nan, -1.48949528])), ('mean_intensity-0', array([1729.73803711, 1462.12475586, 2558.36645508,           nan,\n",
       "                 nan,           nan,           nan,  960.57458496,\n",
       "                 nan,           nan,           nan,           nan,\n",
       "        960.2220459 ])), ('major_axis_length', array([243.0748291 , 448.02581787, 247.49389648,          nan,\n",
       "                nan,          nan,          nan, 278.68081665,\n",
       "                nan,          nan,          nan,          nan,\n",
       "       138.73738098])), ('minor_axis_length', array([207.06118774, 178.0717926 , 128.10539246,          nan,\n",
       "                nan,          nan,          nan, 114.81564331,\n",
       "                nan,          nan,          nan,          nan,\n",
       "        57.42915344])), ('mean_intensity-1', array([343.47793579, 367.33468628, 365.81573486,          nan,\n",
       "                nan,          nan,          nan, 429.67114258,\n",
       "                nan,          nan,          nan,          nan,\n",
       "       334.95098877])), ('area', array([36791., 59860., 23059.,    nan,    nan,    nan,    nan, 23268.,\n",
       "          nan,    nan,    nan,    nan,  6121.]))])"
      ]
     },
     "execution_count": 18,
     "metadata": {},
     "output_type": "execute_result"
    }
   ],
   "source": [
    "tracks[0]"
   ]
  }
 ],
 "metadata": {
  "kernelspec": {
   "display_name": "aero",
   "language": "python",
   "name": "aero"
  },
  "language_info": {
   "codemirror_mode": {
    "name": "ipython",
    "version": 3
   },
   "file_extension": ".py",
   "mimetype": "text/x-python",
   "name": "python",
   "nbconvert_exporter": "python",
   "pygments_lexer": "ipython3",
   "version": "3.9.12"
  }
 },
 "nbformat": 4,
 "nbformat_minor": 5
}
