{
 "cells": [
  {
   "cell_type": "markdown",
   "id": "e7452ae6",
   "metadata": {},
   "source": [
    "# Image viewer\n",
    "\n",
    "This notebook is for inspecting timelapse microscopy data, with associated sinhgle-cell labels and tracks, showing the infection of human macrophages with Mycobacterium Tuberculosis (Mtb), acquired on an Opera Phenix confocal microscope. "
   ]
  },
  {
   "cell_type": "code",
   "execution_count": 1,
   "id": "83d383f0",
   "metadata": {},
   "outputs": [],
   "source": [
    "import napari\n",
    "from macrohet import dataio, tile\n",
    "import btrack"
   ]
  },
  {
   "cell_type": "code",
   "execution_count": 2,
   "id": "dbb39e19",
   "metadata": {},
   "outputs": [
    {
     "data": {
      "text/plain": [
       "'0.4.6'"
      ]
     },
     "execution_count": 2,
     "metadata": {},
     "output_type": "execute_result"
    }
   ],
   "source": [
    "btrack.__version__"
   ]
  },
  {
   "cell_type": "code",
   "execution_count": 3,
   "id": "0e0643ff",
   "metadata": {},
   "outputs": [
    {
     "name": "stdout",
     "output_type": "stream",
     "text": [
      "Reading metadata XML file...\n"
     ]
    },
    {
     "data": {
      "application/vnd.jupyter.widget-view+json": {
       "model_id": "8ee4ce1a57f94189bb18a642cb802048",
       "version_major": 2,
       "version_minor": 0
      },
      "text/plain": [
       "Extracting HarmonyV5 metadata:   0%|          | 0/113400 [00:00<?, ?it/s]"
      ]
     },
     "metadata": {},
     "output_type": "display_data"
    },
    {
     "name": "stdout",
     "output_type": "stream",
     "text": [
      "Extracting metadata complete!\n"
     ]
    }
   ],
   "source": [
    "image_dir = '/mnt/DATA/sandbox/pierre_live_cell_data/outputs/Replication_IPSDM_GFP/Images/'\n",
    "metadata_fn = '/mnt/DATA/sandbox/pierre_live_cell_data/outputs/Replication_IPSDM_GFP/Index.idx.xml'\n",
    "metadata = dataio.read_harmony_metadata(metadata_fn)"
   ]
  },
  {
   "cell_type": "code",
   "execution_count": 4,
   "id": "4b75643e",
   "metadata": {
    "scrolled": false
   },
   "outputs": [
    {
     "name": "stdout",
     "output_type": "stream",
     "text": [
      "Reading metadata XML file...\n",
      "Extracting metadata complete!\n"
     ]
    }
   ],
   "source": [
    "metadata_path = '/mnt/DATA/sandbox/pierre_live_cell_data/outputs/Replication_IPSDM_GFP/Assaylayout/20210602_Live_cell_IPSDMGFP_ATB.xml'\n",
    "assay_layout = dataio.read_harmony_metadata(metadata_path, assay_layout=True,)# mask_exist=True,  image_dir = image_dir, image_metadata = metadata)\n"
   ]
  },
  {
   "cell_type": "code",
   "execution_count": 5,
   "id": "661b558f",
   "metadata": {},
   "outputs": [],
   "source": [
    "row = 3\n",
    "column = 5"
   ]
  },
  {
   "cell_type": "markdown",
   "id": "bee546c2",
   "metadata": {},
   "source": [
    "### Now to lazily mosaic the images using Dask prior to viewing them.\n",
    "\n",
    "1x (75,2,3) [TCZ] image stack takes approximately 1 minute to stitch together, so only load the one field of view I want."
   ]
  },
  {
   "cell_type": "code",
   "execution_count": 6,
   "id": "72561ec6",
   "metadata": {},
   "outputs": [],
   "source": [
    "images = tile.compile_mosaic(image_dir, \n",
    "                             metadata, \n",
    "                             row, column, \n",
    "                             set_plane='sum_proj',\n",
    "#                              set_channel=1,\n",
    "#                              set_time = 66,\n",
    "#                             input_transforms = [input_transforms]\n",
    "                            )#.compute().compute()"
   ]
  },
  {
   "cell_type": "code",
   "execution_count": 7,
   "id": "c97f64ac",
   "metadata": {},
   "outputs": [
    {
     "name": "stdout",
     "output_type": "stream",
     "text": [
      "CPU times: user 3h 42min 18s, sys: 7min 43s, total: 3h 50min 1s\n",
      "Wall time: 8min 38s\n"
     ]
    }
   ],
   "source": [
    "%%time\n",
    "images = images.compute().compute()"
   ]
  },
  {
   "cell_type": "markdown",
   "id": "a12c9446",
   "metadata": {},
   "source": [
    "# Load tracks"
   ]
  },
  {
   "cell_type": "code",
   "execution_count": 8,
   "id": "42d4db6e",
   "metadata": {},
   "outputs": [
    {
     "name": "stderr",
     "output_type": "stream",
     "text": [
      "[INFO][2023/04/14 02:37:24 PM] Opening HDF file: /mnt/DATA/macrohet/labels/full_localisation/upscale_(3, 5).h5...\n",
      "[INFO][2023/04/14 02:37:24 PM] Loading tracks/obj_type_1\n",
      "[INFO][2023/04/14 02:37:24 PM] Loading objects/obj_type_1 (31313, 5) (31313 filtered: None)\n",
      "[INFO][2023/04/14 02:37:34 PM] Loading segmentation (75, 6048, 6048)\n",
      "[INFO][2023/04/14 02:37:34 PM] Loading objects/obj_type_1 (31313, 5) (31313 filtered: None)\n",
      "[INFO][2023/04/14 02:37:34 PM] Closing HDF file: /mnt/DATA/macrohet/labels/full_localisation/upscale_(3, 5).h5\n"
     ]
    }
   ],
   "source": [
    "with btrack.dataio.HDF5FileHandler(f\"/mnt/DATA/macrohet/labels/full_localisation/upscale_{row,column}.h5\", 'r') as hdf:\n",
    "    tracks = hdf.tracks\n",
    "    segmentation = hdf.segmentation\n",
    "    objects = hdf.objects\n",
    "napari_tracks, properties, graph = btrack.utils.tracks_to_napari(tracks, ndim=2)"
   ]
  },
  {
   "cell_type": "markdown",
   "id": "52971987",
   "metadata": {},
   "source": [
    "# Launch napari image viewer"
   ]
  },
  {
   "cell_type": "code",
   "execution_count": 25,
   "id": "0d0bc7a8",
   "metadata": {},
   "outputs": [
    {
     "name": "stderr",
     "output_type": "stream",
     "text": [
      "/home/dayn/miniconda3/envs/aero/lib/python3.9/site-packages/napari_tools_menu/__init__.py:194: FutureWarning: Public access to Window.qt_viewer is deprecated and will be removed in\n",
      "v0.5.0. It is considered an \"implementation detail\" of the napari\n",
      "application, not part of the napari viewer model. If your use case\n",
      "requires access to qt_viewer, please open an issue to discuss.\n",
      "  self.tools_menu = ToolsMenu(self, self.qt_viewer.viewer)\n"
     ]
    },
    {
     "data": {
      "text/plain": [
       "<Tracks layer 'napari_tracks' at 0x7f9ddf920be0>"
      ]
     },
     "execution_count": 25,
     "metadata": {},
     "output_type": "execute_result"
    }
   ],
   "source": [
    "viewer = napari.Viewer()\n",
    "\n",
    "viewer.add_image(images, \n",
    "                 channel_axis=1,\n",
    "                 name=[\"macrophage\", \"mtb\"],\n",
    "                 colormap=[\"green\",  \"magenta\"],\n",
    "                 contrast_limits=[[100, 6000], [100, 2000]], visible = False\n",
    "                 )\n",
    "viewer.add_labels(segmentation, \n",
    "                  #scale=(10, 1, 1,), \n",
    "#                   color={1:'yellow'}\n",
    "                 )\n",
    "viewer.add_tracks(napari_tracks,\n",
    "#                     properties=properties, \n",
    "#                     graph=graph, \n",
    "#                     name=\"Tracks [5,4]\", \n",
    "                    blending=\"translucent\",\n",
    "                    visible=True,\n",
    "#                     scale = (100,1,1)\n",
    "                )"
   ]
  },
  {
   "cell_type": "markdown",
   "id": "2af0b21d",
   "metadata": {},
   "source": [
    "# Fixing duplicate localisation bug\n",
    "\n",
    "When tracking on upscaled images, there appears to be multiple localisations for each cell."
   ]
  },
  {
   "cell_type": "code",
   "execution_count": 26,
   "id": "20d4b6d4",
   "metadata": {},
   "outputs": [
    {
     "data": {
      "text/plain": [
       "0"
      ]
     },
     "execution_count": 26,
     "metadata": {},
     "output_type": "execute_result"
    }
   ],
   "source": [
    "objects[0].t"
   ]
  },
  {
   "cell_type": "code",
   "execution_count": 27,
   "id": "ffb45a14",
   "metadata": {},
   "outputs": [
    {
     "data": {
      "text/html": [
       "<table border=\"1\" class=\"dataframe\">\n",
       "  <thead>\n",
       "    <tr style=\"text-align: right;\">\n",
       "      <th></th>\n",
       "      <th>ID</th>\n",
       "      <th>x</th>\n",
       "      <th>y</th>\n",
       "      <th>z</th>\n",
       "      <th>t</th>\n",
       "      <th>dummy</th>\n",
       "      <th>states</th>\n",
       "      <th>label</th>\n",
       "      <th>prob</th>\n",
       "      <th>area</th>\n",
       "      <th>major_axis_length</th>\n",
       "      <th>mean_intensity-0</th>\n",
       "      <th>mean_intensity-1</th>\n",
       "      <th>minor_axis_length</th>\n",
       "      <th>orientation</th>\n",
       "    </tr>\n",
       "  </thead>\n",
       "  <tbody>\n",
       "    <tr>\n",
       "      <th>0</th>\n",
       "      <td>0</td>\n",
       "      <td>361.416382</td>\n",
       "      <td>82.760368</td>\n",
       "      <td>0.0</td>\n",
       "      <td>0</td>\n",
       "      <td>False</td>\n",
       "      <td>0</td>\n",
       "      <td>5</td>\n",
       "      <td>0.0</td>\n",
       "      <td>21045.0</td>\n",
       "      <td>214.413834</td>\n",
       "      <td>1194.513794</td>\n",
       "      <td>344.165924</td>\n",
       "      <td>129.839615</td>\n",
       "      <td>0.75574</td>\n",
       "    </tr>\n",
       "  </tbody>\n",
       "</table>"
      ],
      "text/plain": [
       "{'ID': 0, 'x': 361.4163818359375, 'y': 82.76036834716797, 'z': 0.0, 't': 0, 'dummy': False, 'states': 0, 'label': 5, 'prob': 0.0, 'area': 21045.0, 'major_axis_length': 214.41383, 'mean_intensity-0': 1194.5138, 'mean_intensity-1': 344.16592, 'minor_axis_length': 129.83961, 'orientation': 0.75574046}"
      ]
     },
     "execution_count": 27,
     "metadata": {},
     "output_type": "execute_result"
    }
   ],
   "source": [
    "objects[0]"
   ]
  },
  {
   "cell_type": "code",
   "execution_count": 28,
   "id": "42644519",
   "metadata": {},
   "outputs": [],
   "source": [
    "# isolate objects in first frame\n",
    "objs_t0 = [o for o in objects if o.t == 0]"
   ]
  },
  {
   "cell_type": "code",
   "execution_count": 29,
   "id": "dcc40f79",
   "metadata": {},
   "outputs": [],
   "source": [
    "# isolate objects in second frame\n",
    "objs_t1 = [o for o in objects if o.t == 1]"
   ]
  },
  {
   "cell_type": "code",
   "execution_count": 30,
   "id": "b09c0c85",
   "metadata": {},
   "outputs": [
    {
     "data": {
      "text/plain": [
       "(482, 491)"
      ]
     },
     "execution_count": 30,
     "metadata": {},
     "output_type": "execute_result"
    }
   ],
   "source": [
    "len(objs_t0), len(objs_t1)"
   ]
  },
  {
   "cell_type": "code",
   "execution_count": 31,
   "id": "98d4dc0f",
   "metadata": {},
   "outputs": [],
   "source": [
    "import matplotlib.pyplot as plt\n",
    "import seaborn as sns"
   ]
  },
  {
   "cell_type": "code",
   "execution_count": 32,
   "id": "fe6a0909",
   "metadata": {},
   "outputs": [
    {
     "data": {
      "text/plain": [
       "<AxesSubplot:>"
      ]
     },
     "execution_count": 32,
     "metadata": {},
     "output_type": "execute_result"
    },
    {
     "data": {
      "image/png": "[encoded data removed]",
      "text/plain": [
       "<Figure size 640x480 with 1 Axes>"
      ]
     },
     "metadata": {},
     "output_type": "display_data"
    }
   ],
   "source": [
    "x_coords = [o.x for o in objs_t0]\n",
    "y_coords = [o.y for o in objs_t0]\n",
    "sns.scatterplot(x = x_coords, y = y_coords)"
   ]
  },
  {
   "cell_type": "code",
   "execution_count": 33,
   "id": "c6eede74",
   "metadata": {},
   "outputs": [
    {
     "data": {
      "text/plain": [
       "<AxesSubplot:>"
      ]
     },
     "execution_count": 33,
     "metadata": {},
     "output_type": "execute_result"
    },
    {
     "data": {
      "image/png": "[encoded data removed]",
      "text/plain": [
       "<Figure size 640x480 with 1 Axes>"
      ]
     },
     "metadata": {},
     "output_type": "display_data"
    }
   ],
   "source": [
    "x_coords = [o.x for o in objs_t1]\n",
    "y_coords = [o.y for o in objs_t1]\n",
    "sns.scatterplot(x = x_coords, y = y_coords)"
   ]
  },
  {
   "cell_type": "code",
   "execution_count": 34,
   "id": "5d66ed48",
   "metadata": {},
   "outputs": [],
   "source": [
    "xy_coords = [[y, x] for x, y in zip(x_coords, y_coords)]"
   ]
  },
  {
   "cell_type": "code",
   "execution_count": 35,
   "id": "f3d66394",
   "metadata": {
    "scrolled": true
   },
   "outputs": [
    {
     "data": {
      "text/plain": [
       "<Points layer 'Points' at 0x7f9de3650310>"
      ]
     },
     "execution_count": 35,
     "metadata": {},
     "output_type": "execute_result"
    }
   ],
   "source": [
    "viewer.add_points(xy_coords, ndim=2)"
   ]
  },
  {
   "cell_type": "markdown",
   "id": "bb83db8c",
   "metadata": {},
   "source": [
    "happens at the second frame (t =1), does the tracker think the cells are dividing?"
   ]
  },
  {
   "cell_type": "code",
   "execution_count": 36,
   "id": "4e26b17a",
   "metadata": {},
   "outputs": [],
   "source": [
    "track_352 = [track for track in tracks if track.ID == 352][0]"
   ]
  },
  {
   "cell_type": "code",
   "execution_count": 37,
   "id": "41ec3bdf",
   "metadata": {},
   "outputs": [
    {
     "data": {
      "text/html": [
       "<table border=\"1\" class=\"dataframe\">\n",
       "  <thead>\n",
       "    <tr style=\"text-align: right;\">\n",
       "      <th></th>\n",
       "      <th>ID</th>\n",
       "      <th>t</th>\n",
       "      <th>x</th>\n",
       "      <th>y</th>\n",
       "      <th>z</th>\n",
       "      <th>parent</th>\n",
       "      <th>root</th>\n",
       "      <th>state</th>\n",
       "      <th>generation</th>\n",
       "      <th>dummy</th>\n",
       "      <th>minor_axis_length</th>\n",
       "      <th>major_axis_length</th>\n",
       "      <th>mean_intensity-0</th>\n",
       "      <th>mean_intensity-1</th>\n",
       "      <th>area</th>\n",
       "      <th>orientation</th>\n",
       "    </tr>\n",
       "  </thead>\n",
       "  <tbody>\n",
       "    <tr>\n",
       "      <th>0</th>\n",
       "      <td>352</td>\n",
       "      <td>0</td>\n",
       "      <td>1246.543945</td>\n",
       "      <td>2488.895020</td>\n",
       "      <td>0.000000</td>\n",
       "      <td>352</td>\n",
       "      <td>352</td>\n",
       "      <td>5</td>\n",
       "      <td>0</td>\n",
       "      <td>False</td>\n",
       "      <td>205.807312</td>\n",
       "      <td>530.678467</td>\n",
       "      <td>1331.943604</td>\n",
       "      <td>375.271912</td>\n",
       "      <td>82943.0</td>\n",
       "      <td>1.342122</td>\n",
       "    </tr>\n",
       "    <tr>\n",
       "      <th>1</th>\n",
       "      <td>352</td>\n",
       "      <td>0</td>\n",
       "      <td>545.977722</td>\n",
       "      <td>2432.095947</td>\n",
       "      <td>0.000000</td>\n",
       "      <td>352</td>\n",
       "      <td>352</td>\n",
       "      <td>5</td>\n",
       "      <td>0</td>\n",
       "      <td>False</td>\n",
       "      <td>105.054680</td>\n",
       "      <td>151.087875</td>\n",
       "      <td>3039.468018</td>\n",
       "      <td>371.126495</td>\n",
       "      <td>12403.0</td>\n",
       "      <td>1.044592</td>\n",
       "    </tr>\n",
       "    <tr>\n",
       "      <th>2</th>\n",
       "      <td>352</td>\n",
       "      <td>0</td>\n",
       "      <td>257.165314</td>\n",
       "      <td>2485.596680</td>\n",
       "      <td>0.000000</td>\n",
       "      <td>352</td>\n",
       "      <td>352</td>\n",
       "      <td>5</td>\n",
       "      <td>0</td>\n",
       "      <td>False</td>\n",
       "      <td>168.419556</td>\n",
       "      <td>343.183380</td>\n",
       "      <td>2464.495605</td>\n",
       "      <td>381.730988</td>\n",
       "      <td>40935.0</td>\n",
       "      <td>-1.251694</td>\n",
       "    </tr>\n",
       "    <tr>\n",
       "      <th>3</th>\n",
       "      <td>352</td>\n",
       "      <td>3</td>\n",
       "      <td>1829.978882</td>\n",
       "      <td>526.998413</td>\n",
       "      <td>-0.989887</td>\n",
       "      <td>352</td>\n",
       "      <td>352</td>\n",
       "      <td>5</td>\n",
       "      <td>0</td>\n",
       "      <td>True</td>\n",
       "      <td>NaN</td>\n",
       "      <td>NaN</td>\n",
       "      <td>NaN</td>\n",
       "      <td>NaN</td>\n",
       "      <td>NaN</td>\n",
       "      <td>NaN</td>\n",
       "    </tr>\n",
       "    <tr>\n",
       "      <th>4</th>\n",
       "      <td>352</td>\n",
       "      <td>0</td>\n",
       "      <td>5833.124512</td>\n",
       "      <td>2569.903076</td>\n",
       "      <td>0.000000</td>\n",
       "      <td>352</td>\n",
       "      <td>352</td>\n",
       "      <td>5</td>\n",
       "      <td>0</td>\n",
       "      <td>False</td>\n",
       "      <td>166.894241</td>\n",
       "      <td>267.503113</td>\n",
       "      <td>1702.591187</td>\n",
       "      <td>527.751404</td>\n",
       "      <td>33226.0</td>\n",
       "      <td>0.352546</td>\n",
       "    </tr>\n",
       "    <tr>\n",
       "      <th>5</th>\n",
       "      <td>352</td>\n",
       "      <td>5</td>\n",
       "      <td>1793.176636</td>\n",
       "      <td>555.813904</td>\n",
       "      <td>9.203656</td>\n",
       "      <td>352</td>\n",
       "      <td>352</td>\n",
       "      <td>5</td>\n",
       "      <td>0</td>\n",
       "      <td>True</td>\n",
       "      <td>NaN</td>\n",
       "      <td>NaN</td>\n",
       "      <td>NaN</td>\n",
       "      <td>NaN</td>\n",
       "      <td>NaN</td>\n",
       "      <td>NaN</td>\n",
       "    </tr>\n",
       "    <tr>\n",
       "      <th>6</th>\n",
       "      <td>352</td>\n",
       "      <td>0</td>\n",
       "      <td>5636.162598</td>\n",
       "      <td>2573.446045</td>\n",
       "      <td>0.000000</td>\n",
       "      <td>352</td>\n",
       "      <td>352</td>\n",
       "      <td>5</td>\n",
       "      <td>0</td>\n",
       "      <td>False</td>\n",
       "      <td>228.625671</td>\n",
       "      <td>410.572693</td>\n",
       "      <td>2152.761719</td>\n",
       "      <td>378.951324</td>\n",
       "      <td>65616.0</td>\n",
       "      <td>0.997570</td>\n",
       "    </tr>\n",
       "    <tr>\n",
       "      <th>7</th>\n",
       "      <td>352</td>\n",
       "      <td>7</td>\n",
       "      <td>1817.808472</td>\n",
       "      <td>541.045959</td>\n",
       "      <td>1.416201</td>\n",
       "      <td>352</td>\n",
       "      <td>352</td>\n",
       "      <td>5</td>\n",
       "      <td>0</td>\n",
       "      <td>True</td>\n",
       "      <td>NaN</td>\n",
       "      <td>NaN</td>\n",
       "      <td>NaN</td>\n",
       "      <td>NaN</td>\n",
       "      <td>NaN</td>\n",
       "      <td>NaN</td>\n",
       "    </tr>\n",
       "    <tr>\n",
       "      <th>8</th>\n",
       "      <td>352</td>\n",
       "      <td>0</td>\n",
       "      <td>933.739807</td>\n",
       "      <td>2609.950928</td>\n",
       "      <td>0.000000</td>\n",
       "      <td>352</td>\n",
       "      <td>352</td>\n",
       "      <td>5</td>\n",
       "      <td>0</td>\n",
       "      <td>False</td>\n",
       "      <td>153.932327</td>\n",
       "      <td>323.986023</td>\n",
       "      <td>2121.225586</td>\n",
       "      <td>374.938660</td>\n",
       "      <td>37422.0</td>\n",
       "      <td>-0.301992</td>\n",
       "    </tr>\n",
       "    <tr>\n",
       "      <th>9</th>\n",
       "      <td>352</td>\n",
       "      <td>0</td>\n",
       "      <td>5130.161621</td>\n",
       "      <td>2765.235107</td>\n",
       "      <td>0.000000</td>\n",
       "      <td>352</td>\n",
       "      <td>352</td>\n",
       "      <td>5</td>\n",
       "      <td>0</td>\n",
       "      <td>False</td>\n",
       "      <td>237.120209</td>\n",
       "      <td>549.959961</td>\n",
       "      <td>2459.670898</td>\n",
       "      <td>430.740387</td>\n",
       "      <td>94283.0</td>\n",
       "      <td>-0.561356</td>\n",
       "    </tr>\n",
       "    <tr>\n",
       "      <th>10</th>\n",
       "      <td>352</td>\n",
       "      <td>10</td>\n",
       "      <td>1772.145752</td>\n",
       "      <td>528.522827</td>\n",
       "      <td>-0.578944</td>\n",
       "      <td>352</td>\n",
       "      <td>352</td>\n",
       "      <td>5</td>\n",
       "      <td>0</td>\n",
       "      <td>True</td>\n",
       "      <td>NaN</td>\n",
       "      <td>NaN</td>\n",
       "      <td>NaN</td>\n",
       "      <td>NaN</td>\n",
       "      <td>NaN</td>\n",
       "      <td>NaN</td>\n",
       "    </tr>\n",
       "    <tr>\n",
       "      <th>11</th>\n",
       "      <td>352</td>\n",
       "      <td>0</td>\n",
       "      <td>3305.595459</td>\n",
       "      <td>2601.489990</td>\n",
       "      <td>0.000000</td>\n",
       "      <td>352</td>\n",
       "      <td>352</td>\n",
       "      <td>5</td>\n",
       "      <td>0</td>\n",
       "      <td>False</td>\n",
       "      <td>151.349838</td>\n",
       "      <td>207.888748</td>\n",
       "      <td>2424.611084</td>\n",
       "      <td>420.564819</td>\n",
       "      <td>24503.0</td>\n",
       "      <td>0.283612</td>\n",
       "    </tr>\n",
       "    <tr>\n",
       "      <th>12</th>\n",
       "      <td>352</td>\n",
       "      <td>0</td>\n",
       "      <td>5367.188965</td>\n",
       "      <td>2589.444580</td>\n",
       "      <td>0.000000</td>\n",
       "      <td>352</td>\n",
       "      <td>352</td>\n",
       "      <td>5</td>\n",
       "      <td>0</td>\n",
       "      <td>False</td>\n",
       "      <td>138.975616</td>\n",
       "      <td>231.501907</td>\n",
       "      <td>1312.196899</td>\n",
       "      <td>371.166260</td>\n",
       "      <td>24993.0</td>\n",
       "      <td>0.921299</td>\n",
       "    </tr>\n",
       "    <tr>\n",
       "      <th>13</th>\n",
       "      <td>352</td>\n",
       "      <td>13</td>\n",
       "      <td>1792.479004</td>\n",
       "      <td>535.248657</td>\n",
       "      <td>1.720714</td>\n",
       "      <td>352</td>\n",
       "      <td>352</td>\n",
       "      <td>5</td>\n",
       "      <td>0</td>\n",
       "      <td>True</td>\n",
       "      <td>NaN</td>\n",
       "      <td>NaN</td>\n",
       "      <td>NaN</td>\n",
       "      <td>NaN</td>\n",
       "      <td>NaN</td>\n",
       "      <td>NaN</td>\n",
       "    </tr>\n",
       "    <tr>\n",
       "      <th>14</th>\n",
       "      <td>352</td>\n",
       "      <td>0</td>\n",
       "      <td>4483.938477</td>\n",
       "      <td>2591.010010</td>\n",
       "      <td>0.000000</td>\n",
       "      <td>352</td>\n",
       "      <td>352</td>\n",
       "      <td>5</td>\n",
       "      <td>0</td>\n",
       "      <td>False</td>\n",
       "      <td>148.197601</td>\n",
       "      <td>559.742676</td>\n",
       "      <td>1673.038940</td>\n",
       "      <td>380.080536</td>\n",
       "      <td>63285.0</td>\n",
       "      <td>-1.386513</td>\n",
       "    </tr>\n",
       "    <tr>\n",
       "      <th>15</th>\n",
       "      <td>352</td>\n",
       "      <td>0</td>\n",
       "      <td>3577.866699</td>\n",
       "      <td>2660.624268</td>\n",
       "      <td>0.000000</td>\n",
       "      <td>352</td>\n",
       "      <td>352</td>\n",
       "      <td>5</td>\n",
       "      <td>0</td>\n",
       "      <td>False</td>\n",
       "      <td>205.911957</td>\n",
       "      <td>299.547211</td>\n",
       "      <td>2105.978271</td>\n",
       "      <td>373.874512</td>\n",
       "      <td>46406.0</td>\n",
       "      <td>0.330741</td>\n",
       "    </tr>\n",
       "  </tbody>\n",
       "</table>"
      ],
      "text/plain": [
       "OrderedDict([('ID', 352), ('t', [0, 0, 0, 3, 0, 5, 0, 7, 0, 0, 10, 0, 0, 13, 0, 0]), ('x', [1246.5439453125, 545.9777221679688, 257.1653137207031, 1829.9788818359375, 5833.12451171875, 1793.1766357421875, 5636.16259765625, 1817.8084716796875, 933.7398071289062, 5130.16162109375, 1772.145751953125, 3305.595458984375, 5367.18896484375, 1792.47900390625, 4483.9384765625, 3577.86669921875]), ('y', [2488.89501953125, 2432.095947265625, 2485.5966796875, 526.9984130859375, 2569.903076171875, 555.8139038085938, 2573.446044921875, 541.0459594726562, 2609.950927734375, 2765.235107421875, 528.5228271484375, 2601.489990234375, 2589.444580078125, 535.2486572265625, 2591.010009765625, 2660.624267578125]), ('z', [0.0, 0.0, 0.0, -0.9898869395256042, 0.0, 9.203656196594238, 0.0, 1.416200876235962, 0.0, 0.0, -0.5789438486099243, 0.0, 0.0, 1.7207143306732178, 0.0, 0.0]), ('parent', 352), ('root', 352), ('state', [5, 5, 5, 5, 5, 5, 5, 5, 5, 5, 5, 5, 5, 5, 5, 5]), ('generation', 0), ('dummy', [False, False, False, True, False, True, False, True, False, False, True, False, False, True, False, False]), ('minor_axis_length', array([205.80731201, 105.05467987, 168.41955566,          nan,\n",
       "       166.89424133,          nan, 228.62567139,          nan,\n",
       "       153.93232727, 237.12020874,          nan, 151.34983826,\n",
       "       138.97561646,          nan, 148.19760132, 205.91195679])), ('major_axis_length', array([530.6784668 , 151.08787537, 343.18338013,          nan,\n",
       "       267.50311279,          nan, 410.57269287,          nan,\n",
       "       323.98602295, 549.95996094,          nan, 207.88874817,\n",
       "       231.50190735,          nan, 559.74267578, 299.54721069])), ('mean_intensity-0', array([1331.94360352, 3039.46801758, 2464.49560547,           nan,\n",
       "       1702.59118652,           nan, 2152.76171875,           nan,\n",
       "       2121.22558594, 2459.67089844,           nan, 2424.61108398,\n",
       "       1312.19689941,           nan, 1673.03894043, 2105.97827148])), ('mean_intensity-1', array([375.27191162, 371.12649536, 381.73098755,          nan,\n",
       "       527.75140381,          nan, 378.95132446,          nan,\n",
       "       374.93865967, 430.74038696,          nan, 420.56481934,\n",
       "       371.16625977,          nan, 380.08053589, 373.87451172])), ('area', array([82943., 12403., 40935.,    nan, 33226.,    nan, 65616.,    nan,\n",
       "       37422., 94283.,    nan, 24503., 24993.,    nan, 63285., 46406.])), ('orientation', array([ 1.34212172,  1.04459202, -1.25169444,         nan,  0.35254607,\n",
       "               nan,  0.9975701 ,         nan, -0.30199218, -0.56135589,\n",
       "               nan,  0.28361169,  0.92129934,         nan, -1.38651276,\n",
       "        0.33074108]))])"
      ]
     },
     "execution_count": 37,
     "metadata": {},
     "output_type": "execute_result"
    }
   ],
   "source": [
    "track_352"
   ]
  },
  {
   "cell_type": "code",
   "execution_count": 38,
   "id": "92d482b8",
   "metadata": {},
   "outputs": [],
   "source": [
    "track_463 = [track for track in tracks if track.ID == 463][0]"
   ]
  },
  {
   "cell_type": "code",
   "execution_count": 39,
   "id": "f976ce3f",
   "metadata": {},
   "outputs": [
    {
     "data": {
      "text/html": [
       "<table border=\"1\" class=\"dataframe\">\n",
       "  <thead>\n",
       "    <tr style=\"text-align: right;\">\n",
       "      <th></th>\n",
       "      <th>ID</th>\n",
       "      <th>t</th>\n",
       "      <th>x</th>\n",
       "      <th>y</th>\n",
       "      <th>z</th>\n",
       "      <th>parent</th>\n",
       "      <th>root</th>\n",
       "      <th>state</th>\n",
       "      <th>generation</th>\n",
       "      <th>dummy</th>\n",
       "      <th>minor_axis_length</th>\n",
       "      <th>major_axis_length</th>\n",
       "      <th>mean_intensity-0</th>\n",
       "      <th>mean_intensity-1</th>\n",
       "      <th>area</th>\n",
       "      <th>orientation</th>\n",
       "    </tr>\n",
       "  </thead>\n",
       "  <tbody>\n",
       "    <tr>\n",
       "      <th>0</th>\n",
       "      <td>463</td>\n",
       "      <td>1</td>\n",
       "      <td>937.581421</td>\n",
       "      <td>5157.688965</td>\n",
       "      <td>0.000000</td>\n",
       "      <td>463</td>\n",
       "      <td>463</td>\n",
       "      <td>5</td>\n",
       "      <td>0</td>\n",
       "      <td>False</td>\n",
       "      <td>173.584747</td>\n",
       "      <td>366.222046</td>\n",
       "      <td>1671.662476</td>\n",
       "      <td>393.750641</td>\n",
       "      <td>48065.0</td>\n",
       "      <td>1.042029</td>\n",
       "    </tr>\n",
       "    <tr>\n",
       "      <th>1</th>\n",
       "      <td>463</td>\n",
       "      <td>1</td>\n",
       "      <td>247.657028</td>\n",
       "      <td>2289.098145</td>\n",
       "      <td>0.000000</td>\n",
       "      <td>463</td>\n",
       "      <td>463</td>\n",
       "      <td>5</td>\n",
       "      <td>0</td>\n",
       "      <td>True</td>\n",
       "      <td>NaN</td>\n",
       "      <td>NaN</td>\n",
       "      <td>NaN</td>\n",
       "      <td>NaN</td>\n",
       "      <td>NaN</td>\n",
       "      <td>NaN</td>\n",
       "    </tr>\n",
       "    <tr>\n",
       "      <th>2</th>\n",
       "      <td>463</td>\n",
       "      <td>2</td>\n",
       "      <td>247.657028</td>\n",
       "      <td>2289.098145</td>\n",
       "      <td>0.000000</td>\n",
       "      <td>463</td>\n",
       "      <td>463</td>\n",
       "      <td>5</td>\n",
       "      <td>0</td>\n",
       "      <td>True</td>\n",
       "      <td>NaN</td>\n",
       "      <td>NaN</td>\n",
       "      <td>NaN</td>\n",
       "      <td>NaN</td>\n",
       "      <td>NaN</td>\n",
       "      <td>NaN</td>\n",
       "    </tr>\n",
       "    <tr>\n",
       "      <th>3</th>\n",
       "      <td>463</td>\n",
       "      <td>1</td>\n",
       "      <td>1981.854980</td>\n",
       "      <td>5271.165039</td>\n",
       "      <td>0.000000</td>\n",
       "      <td>463</td>\n",
       "      <td>463</td>\n",
       "      <td>5</td>\n",
       "      <td>0</td>\n",
       "      <td>False</td>\n",
       "      <td>266.721039</td>\n",
       "      <td>381.243866</td>\n",
       "      <td>2246.653809</td>\n",
       "      <td>354.846161</td>\n",
       "      <td>76747.0</td>\n",
       "      <td>0.160620</td>\n",
       "    </tr>\n",
       "    <tr>\n",
       "      <th>4</th>\n",
       "      <td>463</td>\n",
       "      <td>4</td>\n",
       "      <td>376.375641</td>\n",
       "      <td>2251.976807</td>\n",
       "      <td>0.045263</td>\n",
       "      <td>463</td>\n",
       "      <td>463</td>\n",
       "      <td>5</td>\n",
       "      <td>0</td>\n",
       "      <td>True</td>\n",
       "      <td>NaN</td>\n",
       "      <td>NaN</td>\n",
       "      <td>NaN</td>\n",
       "      <td>NaN</td>\n",
       "      <td>NaN</td>\n",
       "      <td>NaN</td>\n",
       "    </tr>\n",
       "    <tr>\n",
       "      <th>5</th>\n",
       "      <td>463</td>\n",
       "      <td>1</td>\n",
       "      <td>5182.459961</td>\n",
       "      <td>5276.767578</td>\n",
       "      <td>0.000000</td>\n",
       "      <td>463</td>\n",
       "      <td>463</td>\n",
       "      <td>5</td>\n",
       "      <td>0</td>\n",
       "      <td>False</td>\n",
       "      <td>218.019180</td>\n",
       "      <td>433.842621</td>\n",
       "      <td>2224.533447</td>\n",
       "      <td>378.238617</td>\n",
       "      <td>68762.0</td>\n",
       "      <td>0.020345</td>\n",
       "    </tr>\n",
       "    <tr>\n",
       "      <th>6</th>\n",
       "      <td>463</td>\n",
       "      <td>6</td>\n",
       "      <td>425.911743</td>\n",
       "      <td>2227.082031</td>\n",
       "      <td>-1.325690</td>\n",
       "      <td>463</td>\n",
       "      <td>463</td>\n",
       "      <td>5</td>\n",
       "      <td>0</td>\n",
       "      <td>True</td>\n",
       "      <td>NaN</td>\n",
       "      <td>NaN</td>\n",
       "      <td>NaN</td>\n",
       "      <td>NaN</td>\n",
       "      <td>NaN</td>\n",
       "      <td>NaN</td>\n",
       "    </tr>\n",
       "    <tr>\n",
       "      <th>7</th>\n",
       "      <td>463</td>\n",
       "      <td>7</td>\n",
       "      <td>468.839905</td>\n",
       "      <td>2209.047363</td>\n",
       "      <td>-2.651379</td>\n",
       "      <td>463</td>\n",
       "      <td>463</td>\n",
       "      <td>5</td>\n",
       "      <td>0</td>\n",
       "      <td>True</td>\n",
       "      <td>NaN</td>\n",
       "      <td>NaN</td>\n",
       "      <td>NaN</td>\n",
       "      <td>NaN</td>\n",
       "      <td>NaN</td>\n",
       "      <td>NaN</td>\n",
       "    </tr>\n",
       "    <tr>\n",
       "      <th>8</th>\n",
       "      <td>463</td>\n",
       "      <td>8</td>\n",
       "      <td>511.768066</td>\n",
       "      <td>2191.012695</td>\n",
       "      <td>-3.977068</td>\n",
       "      <td>463</td>\n",
       "      <td>463</td>\n",
       "      <td>5</td>\n",
       "      <td>0</td>\n",
       "      <td>True</td>\n",
       "      <td>NaN</td>\n",
       "      <td>NaN</td>\n",
       "      <td>NaN</td>\n",
       "      <td>NaN</td>\n",
       "      <td>NaN</td>\n",
       "      <td>NaN</td>\n",
       "    </tr>\n",
       "    <tr>\n",
       "      <th>9</th>\n",
       "      <td>463</td>\n",
       "      <td>9</td>\n",
       "      <td>554.696228</td>\n",
       "      <td>2172.978027</td>\n",
       "      <td>-5.302758</td>\n",
       "      <td>463</td>\n",
       "      <td>463</td>\n",
       "      <td>5</td>\n",
       "      <td>0</td>\n",
       "      <td>True</td>\n",
       "      <td>NaN</td>\n",
       "      <td>NaN</td>\n",
       "      <td>NaN</td>\n",
       "      <td>NaN</td>\n",
       "      <td>NaN</td>\n",
       "      <td>NaN</td>\n",
       "    </tr>\n",
       "    <tr>\n",
       "      <th>10</th>\n",
       "      <td>463</td>\n",
       "      <td>10</td>\n",
       "      <td>597.624390</td>\n",
       "      <td>2154.943359</td>\n",
       "      <td>-6.628448</td>\n",
       "      <td>463</td>\n",
       "      <td>463</td>\n",
       "      <td>5</td>\n",
       "      <td>0</td>\n",
       "      <td>True</td>\n",
       "      <td>NaN</td>\n",
       "      <td>NaN</td>\n",
       "      <td>NaN</td>\n",
       "      <td>NaN</td>\n",
       "      <td>NaN</td>\n",
       "      <td>NaN</td>\n",
       "    </tr>\n",
       "    <tr>\n",
       "      <th>11</th>\n",
       "      <td>463</td>\n",
       "      <td>1</td>\n",
       "      <td>5462.753418</td>\n",
       "      <td>5198.473145</td>\n",
       "      <td>0.000000</td>\n",
       "      <td>463</td>\n",
       "      <td>463</td>\n",
       "      <td>5</td>\n",
       "      <td>0</td>\n",
       "      <td>False</td>\n",
       "      <td>228.150940</td>\n",
       "      <td>276.788483</td>\n",
       "      <td>1927.075928</td>\n",
       "      <td>426.658264</td>\n",
       "      <td>48909.0</td>\n",
       "      <td>-1.035083</td>\n",
       "    </tr>\n",
       "    <tr>\n",
       "      <th>12</th>\n",
       "      <td>463</td>\n",
       "      <td>1</td>\n",
       "      <td>4377.290527</td>\n",
       "      <td>5240.324219</td>\n",
       "      <td>0.000000</td>\n",
       "      <td>463</td>\n",
       "      <td>463</td>\n",
       "      <td>5</td>\n",
       "      <td>0</td>\n",
       "      <td>False</td>\n",
       "      <td>210.030121</td>\n",
       "      <td>438.911438</td>\n",
       "      <td>5058.891113</td>\n",
       "      <td>383.911499</td>\n",
       "      <td>70575.0</td>\n",
       "      <td>1.013393</td>\n",
       "    </tr>\n",
       "    <tr>\n",
       "      <th>13</th>\n",
       "      <td>463</td>\n",
       "      <td>13</td>\n",
       "      <td>561.309204</td>\n",
       "      <td>2178.766113</td>\n",
       "      <td>-1.398093</td>\n",
       "      <td>463</td>\n",
       "      <td>463</td>\n",
       "      <td>5</td>\n",
       "      <td>0</td>\n",
       "      <td>True</td>\n",
       "      <td>NaN</td>\n",
       "      <td>NaN</td>\n",
       "      <td>NaN</td>\n",
       "      <td>NaN</td>\n",
       "      <td>NaN</td>\n",
       "      <td>NaN</td>\n",
       "    </tr>\n",
       "    <tr>\n",
       "      <th>14</th>\n",
       "      <td>463</td>\n",
       "      <td>1</td>\n",
       "      <td>3385.734375</td>\n",
       "      <td>5238.801758</td>\n",
       "      <td>0.000000</td>\n",
       "      <td>463</td>\n",
       "      <td>463</td>\n",
       "      <td>5</td>\n",
       "      <td>0</td>\n",
       "      <td>False</td>\n",
       "      <td>211.112595</td>\n",
       "      <td>395.622955</td>\n",
       "      <td>1968.146240</td>\n",
       "      <td>370.956635</td>\n",
       "      <td>56456.0</td>\n",
       "      <td>1.203850</td>\n",
       "    </tr>\n",
       "    <tr>\n",
       "      <th>15</th>\n",
       "      <td>463</td>\n",
       "      <td>15</td>\n",
       "      <td>528.742737</td>\n",
       "      <td>2160.187012</td>\n",
       "      <td>-5.493756</td>\n",
       "      <td>463</td>\n",
       "      <td>463</td>\n",
       "      <td>5</td>\n",
       "      <td>0</td>\n",
       "      <td>True</td>\n",
       "      <td>NaN</td>\n",
       "      <td>NaN</td>\n",
       "      <td>NaN</td>\n",
       "      <td>NaN</td>\n",
       "      <td>NaN</td>\n",
       "      <td>NaN</td>\n",
       "    </tr>\n",
       "    <tr>\n",
       "      <th>16</th>\n",
       "      <td>463</td>\n",
       "      <td>1</td>\n",
       "      <td>3933.203125</td>\n",
       "      <td>5326.433594</td>\n",
       "      <td>0.000000</td>\n",
       "      <td>463</td>\n",
       "      <td>463</td>\n",
       "      <td>5</td>\n",
       "      <td>0</td>\n",
       "      <td>False</td>\n",
       "      <td>370.983459</td>\n",
       "      <td>478.309784</td>\n",
       "      <td>3394.103027</td>\n",
       "      <td>372.151764</td>\n",
       "      <td>130842.0</td>\n",
       "      <td>-1.235656</td>\n",
       "    </tr>\n",
       "    <tr>\n",
       "      <th>17</th>\n",
       "      <td>463</td>\n",
       "      <td>1</td>\n",
       "      <td>4980.357910</td>\n",
       "      <td>5389.531738</td>\n",
       "      <td>0.000000</td>\n",
       "      <td>463</td>\n",
       "      <td>463</td>\n",
       "      <td>5</td>\n",
       "      <td>0</td>\n",
       "      <td>False</td>\n",
       "      <td>235.394241</td>\n",
       "      <td>667.771362</td>\n",
       "      <td>2807.167725</td>\n",
       "      <td>426.391388</td>\n",
       "      <td>117937.0</td>\n",
       "      <td>0.763793</td>\n",
       "    </tr>\n",
       "  </tbody>\n",
       "</table>"
      ],
      "text/plain": [
       "OrderedDict([('ID', 463), ('t', [1, 1, 2, 1, 4, 1, 6, 7, 8, 9, 10, 1, 1, 13, 1, 15, 1, 1]), ('x', [937.5814208984375, 247.6570281982422, 247.6570281982422, 1981.85498046875, 376.3756408691406, 5182.4599609375, 425.9117431640625, 468.83990478515625, 511.76806640625, 554.6962280273438, 597.6243896484375, 5462.75341796875, 4377.29052734375, 561.3092041015625, 3385.734375, 528.7427368164062, 3933.203125, 4980.35791015625]), ('y', [5157.68896484375, 2289.09814453125, 2289.09814453125, 5271.1650390625, 2251.976806640625, 5276.767578125, 2227.08203125, 2209.04736328125, 2191.0126953125, 2172.97802734375, 2154.943359375, 5198.47314453125, 5240.32421875, 2178.76611328125, 5238.8017578125, 2160.18701171875, 5326.43359375, 5389.53173828125]), ('z', [0.0, 0.0, 0.0, 0.0, 0.045263469219207764, 0.0, -1.3256895542144775, -2.651379108428955, -3.9770684242248535, -5.30275821685791, -6.628447532653809, 0.0, 0.0, -1.3980931043624878, 0.0, -5.49375581741333, 0.0, 0.0]), ('parent', 463), ('root', 463), ('state', [5, 5, 5, 5, 5, 5, 5, 5, 5, 5, 5, 5, 5, 5, 5, 5, 5, 5]), ('generation', 0), ('dummy', [False, True, True, False, True, False, True, True, True, True, True, False, False, True, False, True, False, False]), ('minor_axis_length', array([173.58474731,          nan,          nan, 266.72103882,\n",
       "                nan, 218.0191803 ,          nan,          nan,\n",
       "                nan,          nan,          nan, 228.15093994,\n",
       "       210.03012085,          nan, 211.1125946 ,          nan,\n",
       "       370.98345947, 235.39424133])), ('major_axis_length', array([366.2220459 ,          nan,          nan, 381.24386597,\n",
       "                nan, 433.84262085,          nan,          nan,\n",
       "                nan,          nan,          nan, 276.78848267,\n",
       "       438.91143799,          nan, 395.62295532,          nan,\n",
       "       478.30978394, 667.7713623 ])), ('mean_intensity-0', array([1671.66247559,           nan,           nan, 2246.65380859,\n",
       "                 nan, 2224.53344727,           nan,           nan,\n",
       "                 nan,           nan,           nan, 1927.07592773,\n",
       "       5058.89111328,           nan, 1968.14624023,           nan,\n",
       "       3394.10302734, 2807.16772461])), ('mean_intensity-1', array([393.75064087,          nan,          nan, 354.84616089,\n",
       "                nan, 378.23861694,          nan,          nan,\n",
       "                nan,          nan,          nan, 426.65826416,\n",
       "       383.91149902,          nan, 370.95663452,          nan,\n",
       "       372.15176392, 426.39138794])), ('area', array([ 48065.,     nan,     nan,  76747.,     nan,  68762.,     nan,\n",
       "           nan,     nan,     nan,     nan,  48909.,  70575.,     nan,\n",
       "        56456.,     nan, 130842., 117937.])), ('orientation', array([ 1.04202902,         nan,         nan,  0.16061994,         nan,\n",
       "        0.02034526,         nan,         nan,         nan,         nan,\n",
       "               nan, -1.03508258,  1.01339304,         nan,  1.20384955,\n",
       "               nan, -1.23565578,  0.76379269]))])"
      ]
     },
     "execution_count": 39,
     "metadata": {},
     "output_type": "execute_result"
    }
   ],
   "source": [
    "track_463"
   ]
  },
  {
   "cell_type": "code",
   "execution_count": 40,
   "id": "f24005fb",
   "metadata": {},
   "outputs": [],
   "source": [
    "def track_and_show(objects, masks, config_fn, search_radius = 20, method = [\"MOTION\", \"VISUAL\"], optimize = True):\n",
    "    \n",
    "    # initialise a tracker session using a context manager\n",
    "    with btrack.BayesianTracker() as tracker:\n",
    "        # configure the tracker using a config file\n",
    "        tracker.configure(config_fn)\n",
    "        # set max search radius\n",
    "        tracker.max_search_radius = search_radius\n",
    "        # define tracking method\n",
    "        tracker.tracking_updates = method\n",
    "        # redefine features so that both channels are included in track measurements\n",
    "        tracker.features = list(objects[0].properties.keys())\n",
    "        # append the objects to be tracked\n",
    "        tracker.append(objects)\n",
    "        # set the tracking volume\n",
    "        tracker.volume=((0, 6048), (0, 6048))\n",
    "        # track them (in interactive mode)\n",
    "        tracker.track(step_size=25)\n",
    "        # generate hypotheses and run the global optimizer\n",
    "        if optimize:\n",
    "            tracker.optimize()\n",
    "        # store the tracks\n",
    "        tracks = tracker.tracks\n",
    "    \n",
    "    napari_tracks, properties, graph = btrack.utils.tracks_to_napari(tracks, ndim=2)\n",
    "    \n",
    "    viewer.add_tracks(napari_tracks, \n",
    "                      blending=\"translucent\",\n",
    "                      visible=True,)\n",
    "    \n",
    "    return tracks"
   ]
  },
  {
   "cell_type": "code",
   "execution_count": 41,
   "id": "c20ebf0f",
   "metadata": {},
   "outputs": [
    {
     "data": {
      "text/plain": [
       "<AxesSubplot:ylabel='Count'>"
      ]
     },
     "execution_count": 41,
     "metadata": {},
     "output_type": "execute_result"
    },
    {
     "data": {
      "image/png": "[encoded data removed]",
      "text/plain": [
       "<Figure size 640x480 with 1 Axes>"
      ]
     },
     "metadata": {},
     "output_type": "display_data"
    }
   ],
   "source": [
    "sns.histplot([len(track) for track in tracks])"
   ]
  },
  {
   "cell_type": "code",
   "execution_count": 43,
   "id": "fc4f79ac",
   "metadata": {},
   "outputs": [
    {
     "data": {
      "text/html": [
       "<table border=\"1\" class=\"dataframe\">\n",
       "  <thead>\n",
       "    <tr style=\"text-align: right;\">\n",
       "      <th></th>\n",
       "      <th>ID</th>\n",
       "      <th>t</th>\n",
       "      <th>x</th>\n",
       "      <th>y</th>\n",
       "      <th>z</th>\n",
       "      <th>parent</th>\n",
       "      <th>root</th>\n",
       "      <th>state</th>\n",
       "      <th>generation</th>\n",
       "      <th>dummy</th>\n",
       "      <th>minor_axis_length</th>\n",
       "      <th>major_axis_length</th>\n",
       "      <th>mean_intensity-0</th>\n",
       "      <th>mean_intensity-1</th>\n",
       "      <th>area</th>\n",
       "      <th>orientation</th>\n",
       "    </tr>\n",
       "  </thead>\n",
       "  <tbody>\n",
       "    <tr>\n",
       "      <th>0</th>\n",
       "      <td>317</td>\n",
       "      <td>0</td>\n",
       "      <td>361.416382</td>\n",
       "      <td>82.760368</td>\n",
       "      <td>0.0</td>\n",
       "      <td>317</td>\n",
       "      <td>317</td>\n",
       "      <td>5</td>\n",
       "      <td>0</td>\n",
       "      <td>False</td>\n",
       "      <td>129.839615</td>\n",
       "      <td>214.413834</td>\n",
       "      <td>1194.513794</td>\n",
       "      <td>344.165924</td>\n",
       "      <td>21045.0</td>\n",
       "      <td>0.755740</td>\n",
       "    </tr>\n",
       "    <tr>\n",
       "      <th>1</th>\n",
       "      <td>317</td>\n",
       "      <td>1</td>\n",
       "      <td>5379.537598</td>\n",
       "      <td>277.809387</td>\n",
       "      <td>0.0</td>\n",
       "      <td>317</td>\n",
       "      <td>317</td>\n",
       "      <td>5</td>\n",
       "      <td>0</td>\n",
       "      <td>True</td>\n",
       "      <td>NaN</td>\n",
       "      <td>NaN</td>\n",
       "      <td>NaN</td>\n",
       "      <td>NaN</td>\n",
       "      <td>NaN</td>\n",
       "      <td>NaN</td>\n",
       "    </tr>\n",
       "    <tr>\n",
       "      <th>2</th>\n",
       "      <td>317</td>\n",
       "      <td>2</td>\n",
       "      <td>5379.537598</td>\n",
       "      <td>277.809387</td>\n",
       "      <td>0.0</td>\n",
       "      <td>317</td>\n",
       "      <td>317</td>\n",
       "      <td>5</td>\n",
       "      <td>0</td>\n",
       "      <td>True</td>\n",
       "      <td>NaN</td>\n",
       "      <td>NaN</td>\n",
       "      <td>NaN</td>\n",
       "      <td>NaN</td>\n",
       "      <td>NaN</td>\n",
       "      <td>NaN</td>\n",
       "    </tr>\n",
       "    <tr>\n",
       "      <th>3</th>\n",
       "      <td>317</td>\n",
       "      <td>0</td>\n",
       "      <td>1334.278198</td>\n",
       "      <td>153.467621</td>\n",
       "      <td>0.0</td>\n",
       "      <td>317</td>\n",
       "      <td>317</td>\n",
       "      <td>5</td>\n",
       "      <td>0</td>\n",
       "      <td>False</td>\n",
       "      <td>149.110214</td>\n",
       "      <td>827.197693</td>\n",
       "      <td>1148.944336</td>\n",
       "      <td>361.852295</td>\n",
       "      <td>84672.0</td>\n",
       "      <td>1.265559</td>\n",
       "    </tr>\n",
       "  </tbody>\n",
       "</table>"
      ],
      "text/plain": [
       "OrderedDict([('ID', 317), ('t', [0, 1, 2, 0]), ('x', [361.4163818359375, 5379.53759765625, 5379.53759765625, 1334.2781982421875]), ('y', [82.76036834716797, 277.80938720703125, 277.80938720703125, 153.46762084960938]), ('z', [0.0, 0.0, 0.0, 0.0]), ('parent', 317), ('root', 317), ('state', [5, 5, 5, 5]), ('generation', 0), ('dummy', [False, True, True, False]), ('minor_axis_length', array([129.83961487,          nan,          nan, 149.11021423])), ('major_axis_length', array([214.41383362,          nan,          nan, 827.19769287])), ('mean_intensity-0', array([1194.51379395,           nan,           nan, 1148.94433594])), ('mean_intensity-1', array([344.16592407,          nan,          nan, 361.85229492])), ('area', array([21045.,    nan,    nan, 84672.])), ('orientation', array([0.75574046,        nan,        nan, 1.26555884]))])"
      ]
     },
     "execution_count": 43,
     "metadata": {},
     "output_type": "execute_result"
    }
   ],
   "source": [
    "tracks[0]"
   ]
  },
  {
   "cell_type": "code",
   "execution_count": 61,
   "id": "39d4b9ba",
   "metadata": {},
   "outputs": [
    {
     "name": "stdout",
     "output_type": "stream",
     "text": [
      "CPU times: user 3h 44min 2s, sys: 15min 23s, total: 3h 59min 25s\n",
      "Wall time: 12min 14s\n"
     ]
    }
   ],
   "source": [
    "%%time\n",
    "images = images.compute().compute()"
   ]
  },
  {
   "cell_type": "code",
   "execution_count": 62,
   "id": "b42a5fd7",
   "metadata": {},
   "outputs": [
    {
     "data": {
      "text/plain": [
       "[<Image layer 'macrophage [1]' at 0x7f62ddc28310>,\n",
       " <Image layer 'mtb [1]' at 0x7f644c5b6c10>]"
      ]
     },
     "execution_count": 62,
     "metadata": {},
     "output_type": "execute_result"
    }
   ],
   "source": [
    "viewer.add_image(images, \n",
    "                 channel_axis=1,\n",
    "                 name=[\"macrophage\", \"mtb\"],\n",
    "                 colormap=[\"green\",  \"magenta\"],\n",
    "                 contrast_limits=[[100, 6000], [100, 2000]], visible = False\n",
    "                 )"
   ]
  },
  {
   "cell_type": "code",
   "execution_count": 83,
   "id": "75d3b6af",
   "metadata": {},
   "outputs": [
    {
     "data": {
      "text/plain": [
       "['area',\n",
       " 'major_axis_length',\n",
       " 'mean_intensity-0',\n",
       " 'mean_intensity-1',\n",
       " 'minor_axis_length',\n",
       " 'orientation']"
      ]
     },
     "execution_count": 83,
     "metadata": {},
     "output_type": "execute_result"
    }
   ],
   "source": [
    "list(objects[0].properties.keys())"
   ]
  },
  {
   "cell_type": "code",
   "execution_count": 102,
   "id": "510c075c",
   "metadata": {},
   "outputs": [
    {
     "name": "stderr",
     "output_type": "stream",
     "text": [
      "[INFO][2023/04/14 11:32:06 am] Loaded btrack: /home/dayn/miniconda3/envs/aero/lib/python3.9/site-packages/btrack/libs/libtracker.so\n",
      "14-Apr-23 11:32:06 - btrack.libwrapper - INFO     - Loaded btrack: /home/dayn/miniconda3/envs/aero/lib/python3.9/site-packages/btrack/libs/libtracker.so\n",
      "[WARNING][2023/04/14 11:32:06 am] btrack (v0.5.0) shared library mismatch.\n",
      "14-Apr-23 11:32:06 - btrack.core - WARNING  - btrack (v0.5.0) shared library mismatch.\n",
      "[INFO][2023/04/14 11:32:06 am] Starting BayesianTracker session\n",
      "14-Apr-23 11:32:06 - btrack.core - INFO     - Starting BayesianTracker session\n",
      "[INFO][2023/04/14 11:32:06 am] Loading configuration file: /home/dayn/analysis/btrack/models/particle_config.json\n",
      "14-Apr-23 11:32:06 - btrack.config - INFO     - Loading configuration file: /home/dayn/analysis/btrack/models/particle_config.json\n",
      "[INFO][2023/04/14 11:32:06 am] Objects are of type: <class 'list'>\n",
      "14-Apr-23 11:32:06 - btrack.dataio - INFO     - Objects are of type: <class 'list'>\n",
      "[INFO][2023/04/14 11:32:07 am] Starting tracking... \n",
      "14-Apr-23 11:32:07 - btrack.core - INFO     - Starting tracking... \n",
      "[INFO][2023/04/14 11:32:07 am] Update using: ['VISUAL', 'MOTION']\n",
      "14-Apr-23 11:32:07 - btrack.core - INFO     - Update using: ['VISUAL', 'MOTION']\n",
      "[INFO][2023/04/14 11:32:07 am] Tracking objects in frames 0 to 24 (of 75)...\n",
      "14-Apr-23 11:32:07 - btrack.core - INFO     - Tracking objects in frames 0 to 24 (of 75)...\n",
      "[INFO][2023/04/14 11:32:18 am]  - Timing (Bayesian updates: 117.76ms, Linking: 7.94ms)\n",
      "14-Apr-23 11:32:18 - btrack.utils - INFO     -  - Timing (Bayesian updates: 117.76ms, Linking: 7.94ms)\n",
      "[INFO][2023/04/14 11:32:18 am]  - Probabilities (Link: 1.00000, Lost: 1.00000)\n",
      "14-Apr-23 11:32:18 - btrack.utils - INFO     -  - Probabilities (Link: 1.00000, Lost: 1.00000)\n",
      "[INFO][2023/04/14 11:32:18 am]  - Stats (Active: 1313, Lost: 24058, Conflicts resolved: 2822)\n",
      "14-Apr-23 11:32:18 - btrack.utils - INFO     -  - Stats (Active: 1313, Lost: 24058, Conflicts resolved: 2822)\n",
      "[INFO][2023/04/14 11:32:18 am] Tracking objects in frames 25 to 49 (of 75)...\n",
      "14-Apr-23 11:32:18 - btrack.core - INFO     - Tracking objects in frames 25 to 49 (of 75)...\n",
      "[INFO][2023/04/14 11:32:27 am]  - Timing (Bayesian updates: 111.26ms, Linking: 5.08ms)\n",
      "14-Apr-23 11:32:27 - btrack.utils - INFO     -  - Timing (Bayesian updates: 111.26ms, Linking: 5.08ms)\n",
      "[INFO][2023/04/14 11:32:27 am]  - Probabilities (Link: 1.00000, Lost: 1.00000)\n",
      "14-Apr-23 11:32:27 - btrack.utils - INFO     -  - Probabilities (Link: 1.00000, Lost: 1.00000)\n",
      "[INFO][2023/04/14 11:32:27 am]  - Stats (Active: 1307, Lost: 45246, Conflicts resolved: 6052)\n",
      "14-Apr-23 11:32:27 - btrack.utils - INFO     -  - Stats (Active: 1307, Lost: 45246, Conflicts resolved: 6052)\n",
      "[INFO][2023/04/14 11:32:27 am] Tracking objects in frames 50 to 74 (of 75)...\n",
      "14-Apr-23 11:32:27 - btrack.core - INFO     - Tracking objects in frames 50 to 74 (of 75)...\n",
      "[INFO][2023/04/14 11:32:34 am]  - Timing (Bayesian updates: 81.94ms, Linking: 5.54ms)\n",
      "14-Apr-23 11:32:34 - btrack.utils - INFO     -  - Timing (Bayesian updates: 81.94ms, Linking: 5.54ms)\n",
      "[INFO][2023/04/14 11:32:34 am]  - Probabilities (Link: 1.00000, Lost: 0.96401)\n",
      "14-Apr-23 11:32:34 - btrack.utils - INFO     -  - Probabilities (Link: 1.00000, Lost: 0.96401)\n",
      "[INFO][2023/04/14 11:32:34 am] SUCCESS.\n",
      "14-Apr-23 11:32:34 - btrack.core - INFO     - SUCCESS.\n",
      "[INFO][2023/04/14 11:32:34 am]  - Found 8270 tracks in 75 frames (in 0.0s)\n",
      "14-Apr-23 11:32:34 - btrack.core - INFO     -  - Found 8270 tracks in 75 frames (in 0.0s)\n",
      "[INFO][2023/04/14 11:32:34 am]  - Inserted 28938 dummy objects to fill tracking gaps\n",
      "14-Apr-23 11:32:34 - btrack.core - INFO     -  - Inserted 28938 dummy objects to fill tracking gaps\n",
      "[INFO][2023/04/14 11:32:34 am] Loading hypothesis model: particle_hypothesis\n",
      "14-Apr-23 11:32:34 - btrack.core - INFO     - Loading hypothesis model: particle_hypothesis\n",
      "[INFO][2023/04/14 11:32:34 am] Calculating hypotheses (relax: True)...\n",
      "14-Apr-23 11:32:34 - btrack.core - INFO     - Calculating hypotheses (relax: True)...\n",
      "[INFO][2023/04/14 11:32:34 am] Setting up constraints matrix for global optimisation...\n",
      "14-Apr-23 11:32:34 - btrack.optimise.optimiser - INFO     - Setting up constraints matrix for global optimisation...\n",
      "[INFO][2023/04/14 11:32:34 am] Using GLPK options: {'tm_lim': 60000}...\n",
      "14-Apr-23 11:32:34 - btrack.optimise.optimiser - INFO     - Using GLPK options: {'tm_lim': 60000}...\n",
      "[INFO][2023/04/14 11:32:35 am] Optimizing...\n",
      "14-Apr-23 11:32:35 - btrack.optimise.optimiser - INFO     - Optimizing...\n",
      "[INFO][2023/04/14 11:32:38 am] Optimization complete. (Solution: optimal)\n",
      "14-Apr-23 11:32:38 - btrack.optimise.optimiser - INFO     - Optimization complete. (Solution: optimal)\n",
      "[INFO][2023/04/14 11:32:38 am]  - Fates.FALSE_POSITIVE: 2766 (of 8270)\n",
      "14-Apr-23 11:32:38 - btrack.core - INFO     -  - Fates.FALSE_POSITIVE: 2766 (of 8270)\n",
      "[INFO][2023/04/14 11:32:38 am]  - Fates.LINK: 1605 (of 2032)\n",
      "14-Apr-23 11:32:38 - btrack.core - INFO     -  - Fates.LINK: 1605 (of 2032)\n",
      "[INFO][2023/04/14 11:32:38 am]  - Fates.INITIALIZE_FRONT: 958 (of 1377)\n",
      "14-Apr-23 11:32:38 - btrack.core - INFO     -  - Fates.INITIALIZE_FRONT: 958 (of 1377)\n",
      "[INFO][2023/04/14 11:32:38 am]  - Fates.INITIALIZE_LAZY: 2941 (of 6893)\n",
      "14-Apr-23 11:32:38 - btrack.core - INFO     -  - Fates.INITIALIZE_LAZY: 2941 (of 6893)\n",
      "[INFO][2023/04/14 11:32:38 am]  - Fates.TERMINATE_BORDER: 0 (of 1)\n",
      "14-Apr-23 11:32:38 - btrack.core - INFO     -  - Fates.TERMINATE_BORDER: 0 (of 1)\n",
      "[INFO][2023/04/14 11:32:38 am]  - Fates.TERMINATE_BACK: 763 (of 1039)\n",
      "14-Apr-23 11:32:38 - btrack.core - INFO     -  - Fates.TERMINATE_BACK: 763 (of 1039)\n",
      "[INFO][2023/04/14 11:32:38 am]  - Fates.TERMINATE_LAZY: 3136 (of 7230)\n",
      "14-Apr-23 11:32:38 - btrack.core - INFO     -  - Fates.TERMINATE_LAZY: 3136 (of 7230)\n",
      "[INFO][2023/04/14 11:32:38 am]  - TOTAL: 26842 hypotheses\n",
      "14-Apr-23 11:32:38 - btrack.core - INFO     -  - TOTAL: 26842 hypotheses\n"
     ]
    },
    {
     "name": "stdout",
     "output_type": "stream",
     "text": [
      "GLPK Integer Optimizer 5.0\n",
      "33080 rows, 26842 columns, 37144 non-zeros\n",
      "26842 integer variables, all of which are binary\n",
      "Preprocessing...\n",
      "16540 rows, 26842 columns, 37144 non-zeros\n",
      "26842 integer variables, all of which are binary\n",
      "Scaling...\n",
      " A: min|aij| =  1.000e+00  max|aij| =  1.000e+00  ratio =  1.000e+00\n",
      "Problem data seem to be well scaled\n",
      "Constructing initial basis...\n",
      "Size of triangular part is 16540\n",
      "Solving LP relaxation...\n",
      "GLPK Simplex Optimizer 5.0\n",
      "16540 rows, 26842 columns, 37144 non-zeros\n",
      "*     0: obj =   9.524087624e+04 inf =   0.000e+00 (5716)\n",
      "Perturbing LP to avoid stalling [2196]...\n",
      "Removing LP perturbation [5757]...\n",
      "*  5757: obj =   5.943523593e+04 inf =   0.000e+00 (0)\n",
      "OPTIMAL LP SOLUTION FOUND\n",
      "Integer optimization begins...\n",
      "Long-step dual simplex will be used\n",
      "+  5757: mip =     not found yet >=              -inf        (1; 0)\n",
      "+  5757: >>>>>   5.943523593e+04 >=   5.943523593e+04   0.0% (1; 0)\n",
      "+  5757: mip =   5.943523593e+04 >=     tree is empty   0.0% (0; 1)\n",
      "INTEGER OPTIMAL SOLUTION FOUND\n"
     ]
    },
    {
     "name": "stderr",
     "output_type": "stream",
     "text": [
      "[INFO][2023/04/14 11:32:38 am] Completed optimization with 6665 tracks\n",
      "14-Apr-23 11:32:38 - btrack.core - INFO     - Completed optimization with 6665 tracks\n",
      "[INFO][2023/04/14 11:32:38 am] Ending BayesianTracker session\n",
      "14-Apr-23 11:32:38 - btrack.core - INFO     - Ending BayesianTracker session\n"
     ]
    }
   ],
   "source": [
    "tracks = track_and_show(objects, \n",
    "               segmentation, \n",
    "#                '/home/dayn/analysis/btrack/models/simplecase_cell_config.json', \n",
    "               '/home/dayn/analysis/btrack/models/particle_config.json', \n",
    "               200, \n",
    "               [\"MOTION\",\n",
    "                \"VISUAL\"\n",
    "               ],\n",
    "               True\n",
    "              )"
   ]
  },
  {
   "cell_type": "code",
   "execution_count": 90,
   "id": "fa80839a",
   "metadata": {},
   "outputs": [
    {
     "data": {
      "text/html": [
       "<table border=\"1\" class=\"dataframe\">\n",
       "  <thead>\n",
       "    <tr style=\"text-align: right;\">\n",
       "      <th></th>\n",
       "      <th>ID</th>\n",
       "      <th>t</th>\n",
       "      <th>x</th>\n",
       "      <th>y</th>\n",
       "      <th>z</th>\n",
       "      <th>parent</th>\n",
       "      <th>root</th>\n",
       "      <th>state</th>\n",
       "      <th>generation</th>\n",
       "      <th>dummy</th>\n",
       "      <th>mean_intensity-0</th>\n",
       "      <th>major_axis_length</th>\n",
       "      <th>mean_intensity-1</th>\n",
       "      <th>orientation</th>\n",
       "      <th>area</th>\n",
       "      <th>minor_axis_length</th>\n",
       "    </tr>\n",
       "  </thead>\n",
       "  <tbody>\n",
       "    <tr>\n",
       "      <th>0</th>\n",
       "      <td>2719</td>\n",
       "      <td>19</td>\n",
       "      <td>811.738464</td>\n",
       "      <td>5988.051758</td>\n",
       "      <td>0.000000</td>\n",
       "      <td>2719</td>\n",
       "      <td>2719</td>\n",
       "      <td>5</td>\n",
       "      <td>0</td>\n",
       "      <td>False</td>\n",
       "      <td>1173.691895</td>\n",
       "      <td>277.841827</td>\n",
       "      <td>356.682556</td>\n",
       "      <td>1.263710</td>\n",
       "      <td>25065.0</td>\n",
       "      <td>128.601868</td>\n",
       "    </tr>\n",
       "    <tr>\n",
       "      <th>1</th>\n",
       "      <td>2719</td>\n",
       "      <td>20</td>\n",
       "      <td>801.573486</td>\n",
       "      <td>5974.026855</td>\n",
       "      <td>0.000000</td>\n",
       "      <td>2719</td>\n",
       "      <td>2719</td>\n",
       "      <td>5</td>\n",
       "      <td>0</td>\n",
       "      <td>False</td>\n",
       "      <td>1033.674805</td>\n",
       "      <td>296.106873</td>\n",
       "      <td>356.229584</td>\n",
       "      <td>1.290390</td>\n",
       "      <td>33408.0</td>\n",
       "      <td>153.636032</td>\n",
       "    </tr>\n",
       "    <tr>\n",
       "      <th>2</th>\n",
       "      <td>2719</td>\n",
       "      <td>21</td>\n",
       "      <td>792.147527</td>\n",
       "      <td>5961.705953</td>\n",
       "      <td>-1.802226</td>\n",
       "      <td>2719</td>\n",
       "      <td>2719</td>\n",
       "      <td>5</td>\n",
       "      <td>0</td>\n",
       "      <td>True</td>\n",
       "      <td>NaN</td>\n",
       "      <td>NaN</td>\n",
       "      <td>NaN</td>\n",
       "      <td>NaN</td>\n",
       "      <td>NaN</td>\n",
       "      <td>NaN</td>\n",
       "    </tr>\n",
       "    <tr>\n",
       "      <th>3</th>\n",
       "      <td>2719</td>\n",
       "      <td>22</td>\n",
       "      <td>800.007568</td>\n",
       "      <td>5969.780762</td>\n",
       "      <td>0.000000</td>\n",
       "      <td>2719</td>\n",
       "      <td>2719</td>\n",
       "      <td>5</td>\n",
       "      <td>0</td>\n",
       "      <td>False</td>\n",
       "      <td>1180.866577</td>\n",
       "      <td>276.400635</td>\n",
       "      <td>357.164795</td>\n",
       "      <td>1.157616</td>\n",
       "      <td>33924.0</td>\n",
       "      <td>167.299683</td>\n",
       "    </tr>\n",
       "    <tr>\n",
       "      <th>4</th>\n",
       "      <td>2719</td>\n",
       "      <td>23</td>\n",
       "      <td>797.821594</td>\n",
       "      <td>5966.032577</td>\n",
       "      <td>-0.425762</td>\n",
       "      <td>2719</td>\n",
       "      <td>2719</td>\n",
       "      <td>5</td>\n",
       "      <td>0</td>\n",
       "      <td>True</td>\n",
       "      <td>NaN</td>\n",
       "      <td>NaN</td>\n",
       "      <td>NaN</td>\n",
       "      <td>NaN</td>\n",
       "      <td>NaN</td>\n",
       "      <td>NaN</td>\n",
       "    </tr>\n",
       "    <tr>\n",
       "      <th>5</th>\n",
       "      <td>2719</td>\n",
       "      <td>24</td>\n",
       "      <td>811.828979</td>\n",
       "      <td>5974.428223</td>\n",
       "      <td>0.000000</td>\n",
       "      <td>2719</td>\n",
       "      <td>2719</td>\n",
       "      <td>5</td>\n",
       "      <td>0</td>\n",
       "      <td>False</td>\n",
       "      <td>1049.312988</td>\n",
       "      <td>285.897339</td>\n",
       "      <td>355.962311</td>\n",
       "      <td>1.308583</td>\n",
       "      <td>33937.0</td>\n",
       "      <td>159.933212</td>\n",
       "    </tr>\n",
       "    <tr>\n",
       "      <th>6</th>\n",
       "      <td>2719</td>\n",
       "      <td>25</td>\n",
       "      <td>815.022827</td>\n",
       "      <td>5973.831543</td>\n",
       "      <td>0.000000</td>\n",
       "      <td>2719</td>\n",
       "      <td>2719</td>\n",
       "      <td>5</td>\n",
       "      <td>0</td>\n",
       "      <td>False</td>\n",
       "      <td>1034.075928</td>\n",
       "      <td>275.685699</td>\n",
       "      <td>356.397247</td>\n",
       "      <td>1.250737</td>\n",
       "      <td>33254.0</td>\n",
       "      <td>159.714935</td>\n",
       "    </tr>\n",
       "    <tr>\n",
       "      <th>7</th>\n",
       "      <td>2719</td>\n",
       "      <td>26</td>\n",
       "      <td>817.486555</td>\n",
       "      <td>5973.925189</td>\n",
       "      <td>0.196196</td>\n",
       "      <td>2719</td>\n",
       "      <td>2719</td>\n",
       "      <td>5</td>\n",
       "      <td>0</td>\n",
       "      <td>True</td>\n",
       "      <td>NaN</td>\n",
       "      <td>NaN</td>\n",
       "      <td>NaN</td>\n",
       "      <td>NaN</td>\n",
       "      <td>NaN</td>\n",
       "      <td>NaN</td>\n",
       "    </tr>\n",
       "    <tr>\n",
       "      <th>8</th>\n",
       "      <td>2719</td>\n",
       "      <td>27</td>\n",
       "      <td>817.227600</td>\n",
       "      <td>5991.144531</td>\n",
       "      <td>0.000000</td>\n",
       "      <td>2719</td>\n",
       "      <td>2719</td>\n",
       "      <td>5</td>\n",
       "      <td>0</td>\n",
       "      <td>False</td>\n",
       "      <td>1892.421753</td>\n",
       "      <td>247.349701</td>\n",
       "      <td>528.276550</td>\n",
       "      <td>1.345904</td>\n",
       "      <td>24049.0</td>\n",
       "      <td>131.945099</td>\n",
       "    </tr>\n",
       "  </tbody>\n",
       "</table>"
      ],
      "text/plain": [
       "OrderedDict([('ID', 2719), ('t', [19, 20, 21, 22, 23, 24, 25, 26, 27]), ('x', [811.7384643554688, 801.573486328125, 792.1475266210291, 800.007568359375, 797.8215936372532, 811.8289794921875, 815.0228271484375, 817.4865551148296, 817.2276000976562]), ('y', [5988.0517578125, 5974.02685546875, 5961.705952524349, 5969.78076171875, 5966.032576913621, 5974.42822265625, 5973.83154296875, 5973.925188960232, 5991.14453125]), ('z', [0.0, 0.0, -1.8022261865881117, 0.0, -0.4257622325849777, 0.0, 0.0, 0.19619632201104453, 0.0]), ('parent', 2719), ('root', 2719), ('state', [5, 5, 5, 5, 5, 5, 5, 5, 5]), ('generation', 0), ('dummy', [False, False, True, False, True, False, False, True, False]), ('mean_intensity-0', array([1173.69189453, 1033.67480469,           nan, 1180.86657715,\n",
       "                 nan, 1049.31298828, 1034.07592773,           nan,\n",
       "       1892.42175293])), ('major_axis_length', array([277.84182739, 296.10687256,          nan, 276.40063477,\n",
       "                nan, 285.89733887, 275.68569946,          nan,\n",
       "       247.34970093])), ('mean_intensity-1', array([356.68255615, 356.22958374,          nan, 357.16479492,\n",
       "                nan, 355.96231079, 356.39724731,          nan,\n",
       "       528.27655029])), ('orientation', array([1.2637099 , 1.2903899 ,        nan, 1.15761626,        nan,\n",
       "       1.30858278, 1.25073695,        nan, 1.34590387])), ('area', array([25065., 33408.,    nan, 33924.,    nan, 33937., 33254.,    nan,\n",
       "       24049.])), ('minor_axis_length', array([128.60186768, 153.6360321 ,          nan, 167.29968262,\n",
       "                nan, 159.93321228, 159.7149353 ,          nan,\n",
       "       131.94509888]))])"
      ]
     },
     "execution_count": 90,
     "metadata": {},
     "output_type": "execute_result"
    }
   ],
   "source": [
    "[t for t in tracks if t.ID == 2719][0]"
   ]
  },
  {
   "cell_type": "code",
   "execution_count": 44,
   "id": "6dde8402",
   "metadata": {},
   "outputs": [],
   "source": [
    "from macrohet import visualise"
   ]
  },
  {
   "cell_type": "code",
   "execution_count": 45,
   "id": "6e7d53fb",
   "metadata": {},
   "outputs": [
    {
     "name": "stderr",
     "output_type": "stream",
     "text": [
      "[INFO][2023/04/14 02:40:04 pm] Opening HDF file: /mnt/DATA/macrohet/labels/full_localisation/downscaled/(3,5).h5...\n",
      "14-Apr-23 14:40:04 - btrack.dataio - INFO     - Opening HDF file: /mnt/DATA/macrohet/labels/full_localisation/downscaled/(3,5).h5...\n",
      "[INFO][2023/04/14 02:40:04 pm] Loading tracks/obj_type_1\n",
      "14-Apr-23 14:40:04 - btrack.dataio - INFO     - Loading tracks/obj_type_1\n",
      "[INFO][2023/04/14 02:40:04 pm] Loading objects/obj_type_1 (26917, 5) (26917 filtered: None)\n",
      "14-Apr-23 14:40:04 - btrack.dataio - INFO     - Loading objects/obj_type_1 (26917, 5) (26917 filtered: None)\n",
      "[INFO][2023/04/14 02:40:05 pm] Loading segmentation (75, 1200, 1200)\n",
      "14-Apr-23 14:40:05 - btrack.dataio - INFO     - Loading segmentation (75, 1200, 1200)\n",
      "[INFO][2023/04/14 02:40:05 pm] Loading objects/obj_type_1 (26917, 5) (26917 filtered: None)\n",
      "14-Apr-23 14:40:05 - btrack.dataio - INFO     - Loading objects/obj_type_1 (26917, 5) (26917 filtered: None)\n",
      "[INFO][2023/04/14 02:40:05 pm] Closing HDF file: /mnt/DATA/macrohet/labels/full_localisation/downscaled/(3,5).h5\n",
      "14-Apr-23 14:40:05 - btrack.dataio - INFO     - Closing HDF file: /mnt/DATA/macrohet/labels/full_localisation/downscaled/(3,5).h5\n"
     ]
    },
    {
     "data": {
      "text/plain": [
       "<Tracks layer 'downscale_tracks_napari' at 0x7f9de46e7760>"
      ]
     },
     "execution_count": 45,
     "metadata": {},
     "output_type": "execute_result"
    }
   ],
   "source": [
    "with btrack.dataio.HDF5FileHandler(\"/mnt/DATA/macrohet/labels/full_localisation/downscaled/(3,5).h5\", \"r\", obj_type=\"obj_type_1\") as hdf:\n",
    "    downscale_tracks = hdf.tracks\n",
    "    downscale_seg = hdf.segmentation\n",
    "    downscale_obj = hdf.objects\n",
    "downscale_tracks_napari, new_properties, new_graph = btrack.utils.tracks_to_napari(downscale_tracks, ndim=2)\n",
    "downscale_tracks_napari = visualise.scale_napari_tracks(downscale_tracks_napari, )\n",
    "viewer.add_tracks(downscale_tracks_napari, blending=\"translucent\",)"
   ]
  },
  {
   "cell_type": "code",
   "execution_count": 46,
   "id": "124510f7",
   "metadata": {},
   "outputs": [
    {
     "data": {
      "application/vnd.jupyter.widget-view+json": {
       "model_id": "b2c04a0c65df42cfa377c843369de58e",
       "version_major": 2,
       "version_minor": 0
      },
      "text/plain": [
       "Labelling:   0%|          | 0/75 [00:00<?, ?it/s]"
      ]
     },
     "metadata": {},
     "output_type": "display_data"
    },
    {
     "data": {
      "application/vnd.jupyter.widget-view+json": {
       "model_id": "ee3203d4a7f54f52a73ccaeccd5e87d1",
       "version_major": 2,
       "version_minor": 0
      },
      "text/plain": [
       "Remove small objs:   0%|          | 0/75 [00:00<?, ?it/s]"
      ]
     },
     "metadata": {},
     "output_type": "display_data"
    },
    {
     "data": {
      "application/vnd.jupyter.widget-view+json": {
       "model_id": "6d0cf005e18c4c7ba1a0fb1d08b236b7",
       "version_major": 2,
       "version_minor": 0
      },
      "text/plain": [
       "Remove small holes:   0%|          | 0/75 [00:00<?, ?it/s]"
      ]
     },
     "metadata": {},
     "output_type": "display_data"
    },
    {
     "data": {
      "application/vnd.jupyter.widget-view+json": {
       "model_id": "827899ac698e4e22b649f26d45438ed2",
       "version_major": 2,
       "version_minor": 0
      },
      "text/plain": [
       "Scaling to (6048, 6048):   0%|          | 0/75 [00:00<?, ?it/s]"
      ]
     },
     "metadata": {},
     "output_type": "display_data"
    }
   ],
   "source": [
    "upscaled_downscale_seg = visualise.scale_masks(downscale_seg)"
   ]
  },
  {
   "cell_type": "code",
   "execution_count": 107,
   "id": "39c14e3d",
   "metadata": {},
   "outputs": [
    {
     "data": {
      "text/plain": [
       "<Labels layer 'upscaled downscaled segmentation' at 0x7f62da1a68e0>"
      ]
     },
     "execution_count": 107,
     "metadata": {},
     "output_type": "execute_result"
    }
   ],
   "source": [
    "viewer.add_labels(downscale_seg, name = 'downscaled segmentation')\n",
    "viewer.add_labels(upscaled_downscale_seg, name = 'upscaled downscaled segmentation')"
   ]
  },
  {
   "cell_type": "code",
   "execution_count": 113,
   "id": "7b508d8d",
   "metadata": {},
   "outputs": [],
   "source": [
    "seg_diff = ((segmentation)>0)*1 - ((upscaled_downscale_seg)>0)*1"
   ]
  },
  {
   "cell_type": "code",
   "execution_count": 114,
   "id": "6cbe2397",
   "metadata": {},
   "outputs": [
    {
     "data": {
      "text/plain": [
       "<Labels layer 'diff segmentation' at 0x7f62ed8005b0>"
      ]
     },
     "execution_count": 114,
     "metadata": {},
     "output_type": "execute_result"
    }
   ],
   "source": [
    "viewer.add_labels(seg_diff, name = 'diff segmentation')"
   ]
  },
  {
   "cell_type": "markdown",
   "id": "db25d7d5",
   "metadata": {},
   "source": [
    "### Update:\n",
    "\n",
    "Segmentation downscaled vs upscaled is broadly similar (maybe 1 segment/500 per every 3 frames or so is different)\n",
    "\n",
    "Testing different tracking on downscaled segmentation. \n",
    "\n",
    "Should I clean segmentation up first?"
   ]
  },
  {
   "cell_type": "code",
   "execution_count": 47,
   "id": "093653b7",
   "metadata": {},
   "outputs": [
    {
     "data": {
      "application/vnd.jupyter.widget-view+json": {
       "model_id": "946f7726eb5f4efd8be96e0addfaf4fb",
       "version_major": 2,
       "version_minor": 0
      },
      "text/plain": [
       "Labelling:   0%|          | 0/75 [00:00<?, ?it/s]"
      ]
     },
     "metadata": {},
     "output_type": "display_data"
    },
    {
     "data": {
      "application/vnd.jupyter.widget-view+json": {
       "model_id": "bd3c664447274153807640fef7783563",
       "version_major": 2,
       "version_minor": 0
      },
      "text/plain": [
       "Remove small objs:   0%|          | 0/75 [00:00<?, ?it/s]"
      ]
     },
     "metadata": {},
     "output_type": "display_data"
    },
    {
     "data": {
      "application/vnd.jupyter.widget-view+json": {
       "model_id": "27f85f5653a545cf89f234f6d0e4e5c8",
       "version_major": 2,
       "version_minor": 0
      },
      "text/plain": [
       "Remove small holes:   0%|          | 0/75 [00:00<?, ?it/s]"
      ]
     },
     "metadata": {},
     "output_type": "display_data"
    },
    {
     "data": {
      "application/vnd.jupyter.widget-view+json": {
       "model_id": "b3058d9ef3bd49efb7d6c75bd08bd565",
       "version_major": 2,
       "version_minor": 0
      },
      "text/plain": [
       "Scaling to (1200, 1200):   0%|          | 0/75 [00:00<?, ?it/s]"
      ]
     },
     "metadata": {},
     "output_type": "display_data"
    }
   ],
   "source": [
    "# cleaning downscaled segmentation\n",
    "clean_downscale_seg = visualise.scale_masks(downscale_seg, (1200, 1200))"
   ]
  },
  {
   "cell_type": "code",
   "execution_count": 48,
   "id": "f5caf4a3",
   "metadata": {},
   "outputs": [
    {
     "data": {
      "text/plain": [
       "<Labels layer 'clean downscale seg' at 0x7f9df6b0ec70>"
      ]
     },
     "execution_count": 48,
     "metadata": {},
     "output_type": "execute_result"
    }
   ],
   "source": [
    "viewer.add_labels(clean_downscale_seg, name = 'clean downscale seg')"
   ]
  },
  {
   "cell_type": "markdown",
   "id": "aa13e7b1",
   "metadata": {},
   "source": [
    "#### quick assessment of downscale track performance"
   ]
  },
  {
   "cell_type": "code",
   "execution_count": 132,
   "id": "5d410c73",
   "metadata": {},
   "outputs": [
    {
     "data": {
      "text/plain": [
       "(0.9607843137254902, 0.7686274509803921, 0.8823529411764706)"
      ]
     },
     "execution_count": 132,
     "metadata": {},
     "output_type": "execute_result"
    }
   ],
   "source": [
    "sns.color_palette('PiYG', 2)[i] "
   ]
  },
  {
   "cell_type": "markdown",
   "id": "c3f46218",
   "metadata": {},
   "source": [
    "### This plot shows the visual features (ie. original downscaled tracks in pink) works best"
   ]
  },
  {
   "cell_type": "code",
   "execution_count": 135,
   "id": "229623ac",
   "metadata": {},
   "outputs": [
    {
     "data": {
      "image/png": "[encoded data removed]",
      "text/plain": [
       "<Figure size 640x480 with 1 Axes>"
      ]
     },
     "metadata": {},
     "output_type": "display_data"
    }
   ],
   "source": [
    "for i, trax in enumerate([downscale_tracks, tracks]):\n",
    "    sns.histplot([len(track) for track in trax], color = sns.color_palette('PiYG', 2)[i], label = i )\n",
    "    plt.legend()"
   ]
  },
  {
   "cell_type": "code",
   "execution_count": 138,
   "id": "0b7152ba",
   "metadata": {
    "scrolled": true
   },
   "outputs": [
    {
     "name": "stderr",
     "output_type": "stream",
     "text": [
      "[INFO][2023/04/14 01:47:15 pm] Loaded btrack: /home/dayn/miniconda3/envs/aero/lib/python3.9/site-packages/btrack/libs/libtracker.so\n",
      "14-Apr-23 13:47:15 - btrack.libwrapper - INFO     - Loaded btrack: /home/dayn/miniconda3/envs/aero/lib/python3.9/site-packages/btrack/libs/libtracker.so\n",
      "[WARNING][2023/04/14 01:47:15 pm] btrack (v0.5.0) shared library mismatch.\n",
      "14-Apr-23 13:47:15 - btrack.core - WARNING  - btrack (v0.5.0) shared library mismatch.\n",
      "[INFO][2023/04/14 01:47:15 pm] Starting BayesianTracker session\n",
      "14-Apr-23 13:47:15 - btrack.core - INFO     - Starting BayesianTracker session\n",
      "[INFO][2023/04/14 01:47:15 pm] Loading configuration file: /home/dayn/analysis/btrack/models/particle_config.json\n",
      "14-Apr-23 13:47:15 - btrack.config - INFO     - Loading configuration file: /home/dayn/analysis/btrack/models/particle_config.json\n",
      "[INFO][2023/04/14 01:47:15 pm] Objects are of type: <class 'list'>\n",
      "14-Apr-23 13:47:15 - btrack.dataio - INFO     - Objects are of type: <class 'list'>\n",
      "[INFO][2023/04/14 01:47:16 pm] Starting tracking... \n",
      "14-Apr-23 13:47:16 - btrack.core - INFO     - Starting tracking... \n",
      "[INFO][2023/04/14 01:47:16 pm] Update using: ['MOTION']\n",
      "14-Apr-23 13:47:16 - btrack.core - INFO     - Update using: ['MOTION']\n",
      "[INFO][2023/04/14 01:47:16 pm] Tracking objects in frames 0 to 24 (of 75)...\n",
      "14-Apr-23 13:47:16 - btrack.core - INFO     - Tracking objects in frames 0 to 24 (of 75)...\n",
      "[INFO][2023/04/14 01:47:19 pm]  - Timing (Bayesian updates: 93.44ms, Linking: 3.66ms)\n",
      "14-Apr-23 13:47:19 - btrack.utils - INFO     -  - Timing (Bayesian updates: 93.44ms, Linking: 3.66ms)\n",
      "[INFO][2023/04/14 01:47:19 pm]  - Probabilities (Link: 1.00000, Lost: 1.00000)\n",
      "14-Apr-23 13:47:19 - btrack.utils - INFO     -  - Probabilities (Link: 1.00000, Lost: 1.00000)\n",
      "[INFO][2023/04/14 01:47:19 pm]  - Stats (Active: 623, Lost: 5285, Conflicts resolved: 2601)\n",
      "14-Apr-23 13:47:19 - btrack.utils - INFO     -  - Stats (Active: 623, Lost: 5285, Conflicts resolved: 2601)\n",
      "[INFO][2023/04/14 01:47:19 pm] Tracking objects in frames 25 to 49 (of 75)...\n",
      "14-Apr-23 13:47:19 - btrack.core - INFO     - Tracking objects in frames 25 to 49 (of 75)...\n",
      "[INFO][2023/04/14 01:47:21 pm]  - Timing (Bayesian updates: 75.01ms, Linking: 2.49ms)\n",
      "14-Apr-23 13:47:21 - btrack.utils - INFO     -  - Timing (Bayesian updates: 75.01ms, Linking: 2.49ms)\n",
      "[INFO][2023/04/14 01:47:21 pm]  - Probabilities (Link: 0.99383, Lost: 0.75005)\n",
      "14-Apr-23 13:47:21 - btrack.utils - INFO     -  - Probabilities (Link: 0.99383, Lost: 0.75005)\n",
      "[INFO][2023/04/14 01:47:21 pm]  - Stats (Active: 599, Lost: 9713, Conflicts resolved: 5125)\n",
      "14-Apr-23 13:47:21 - btrack.utils - INFO     -  - Stats (Active: 599, Lost: 9713, Conflicts resolved: 5125)\n",
      "[INFO][2023/04/14 01:47:21 pm] Tracking objects in frames 50 to 74 (of 75)...\n",
      "14-Apr-23 13:47:21 - btrack.core - INFO     - Tracking objects in frames 50 to 74 (of 75)...\n",
      "[INFO][2023/04/14 01:47:23 pm]  - Timing (Bayesian updates: 93.16ms, Linking: 3.47ms)\n",
      "14-Apr-23 13:47:23 - btrack.utils - INFO     -  - Timing (Bayesian updates: 93.16ms, Linking: 3.47ms)\n",
      "[INFO][2023/04/14 01:47:23 pm]  - Probabilities (Link: 0.61821, Lost: 0.99997)\n",
      "14-Apr-23 13:47:23 - btrack.utils - INFO     -  - Probabilities (Link: 0.61821, Lost: 0.99997)\n",
      "[INFO][2023/04/14 01:47:23 pm] SUCCESS.\n",
      "14-Apr-23 13:47:23 - btrack.core - INFO     - SUCCESS.\n",
      "[INFO][2023/04/14 01:47:23 pm]  - Found 3125 tracks in 75 frames (in 0.0s)\n",
      "14-Apr-23 13:47:23 - btrack.core - INFO     -  - Found 3125 tracks in 75 frames (in 0.0s)\n",
      "[INFO][2023/04/14 01:47:23 pm]  - Inserted 6497 dummy objects to fill tracking gaps\n",
      "14-Apr-23 13:47:23 - btrack.core - INFO     -  - Inserted 6497 dummy objects to fill tracking gaps\n",
      "[INFO][2023/04/14 01:47:23 pm] Loading hypothesis model: particle_hypothesis\n",
      "14-Apr-23 13:47:23 - btrack.core - INFO     - Loading hypothesis model: particle_hypothesis\n",
      "[INFO][2023/04/14 01:47:23 pm] Calculating hypotheses (relax: True)...\n",
      "14-Apr-23 13:47:23 - btrack.core - INFO     - Calculating hypotheses (relax: True)...\n",
      "[INFO][2023/04/14 01:47:23 pm] Setting up constraints matrix for global optimisation...\n",
      "14-Apr-23 13:47:23 - btrack.optimise.optimiser - INFO     - Setting up constraints matrix for global optimisation...\n",
      "[INFO][2023/04/14 01:47:23 pm] Using GLPK options: {'tm_lim': 60000}...\n",
      "14-Apr-23 13:47:23 - btrack.optimise.optimiser - INFO     - Using GLPK options: {'tm_lim': 60000}...\n",
      "[INFO][2023/04/14 01:47:24 pm] Optimizing...\n",
      "14-Apr-23 13:47:24 - btrack.optimise.optimiser - INFO     - Optimizing...\n",
      "[INFO][2023/04/14 01:47:25 pm] Optimization complete. (Solution: optimal)\n",
      "14-Apr-23 13:47:25 - btrack.optimise.optimiser - INFO     - Optimization complete. (Solution: optimal)\n",
      "[INFO][2023/04/14 01:47:25 pm]  - Fates.FALSE_POSITIVE: 807 (of 3125)\n",
      "14-Apr-23 13:47:25 - btrack.core - INFO     -  - Fates.FALSE_POSITIVE: 807 (of 3125)\n",
      "[INFO][2023/04/14 01:47:25 pm]  - Fates.LINK: 991 (of 1388)\n",
      "14-Apr-23 13:47:25 - btrack.core - INFO     -  - Fates.LINK: 991 (of 1388)\n",
      "[INFO][2023/04/14 01:47:25 pm]  - Fates.INITIALIZE_BORDER: 47 (of 102)\n",
      "14-Apr-23 13:47:25 - btrack.core - INFO     -  - Fates.INITIALIZE_BORDER: 47 (of 102)\n",
      "[INFO][2023/04/14 01:47:25 pm]  - Fates.INITIALIZE_FRONT: 501 (of 722)\n",
      "14-Apr-23 13:47:25 - btrack.core - INFO     -  - Fates.INITIALIZE_FRONT: 501 (of 722)\n",
      "[INFO][2023/04/14 01:47:25 pm]  - Fates.INITIALIZE_LAZY: 779 (of 2301)\n",
      "14-Apr-23 13:47:25 - btrack.core - INFO     -  - Fates.INITIALIZE_LAZY: 779 (of 2301)\n",
      "[INFO][2023/04/14 01:47:25 pm]  - Fates.TERMINATE_BORDER: 39 (of 88)\n",
      "14-Apr-23 13:47:25 - btrack.core - INFO     -  - Fates.TERMINATE_BORDER: 39 (of 88)\n",
      "[INFO][2023/04/14 01:47:25 pm]  - Fates.TERMINATE_BACK: 427 (of 501)\n",
      "14-Apr-23 13:47:25 - btrack.core - INFO     -  - Fates.TERMINATE_BACK: 427 (of 501)\n",
      "[INFO][2023/04/14 01:47:25 pm]  - Fates.TERMINATE_LAZY: 861 (of 2536)\n",
      "14-Apr-23 13:47:25 - btrack.core - INFO     -  - Fates.TERMINATE_LAZY: 861 (of 2536)\n",
      "[INFO][2023/04/14 01:47:25 pm]  - TOTAL: 10763 hypotheses\n",
      "14-Apr-23 13:47:25 - btrack.core - INFO     -  - TOTAL: 10763 hypotheses\n",
      "[INFO][2023/04/14 01:47:25 pm] Completed optimization with 2134 tracks\n",
      "14-Apr-23 13:47:25 - btrack.core - INFO     - Completed optimization with 2134 tracks\n"
     ]
    },
    {
     "name": "stdout",
     "output_type": "stream",
     "text": [
      "GLPK Integer Optimizer 5.0\n",
      "12500 rows, 10763 columns, 15276 non-zeros\n",
      "10763 integer variables, all of which are binary\n",
      "Preprocessing...\n",
      "6250 rows, 10763 columns, 15276 non-zeros\n",
      "10763 integer variables, all of which are binary\n",
      "Scaling...\n",
      " A: min|aij| =  1.000e+00  max|aij| =  1.000e+00  ratio =  1.000e+00\n",
      "Problem data seem to be well scaled\n",
      "Constructing initial basis...\n",
      "Size of triangular part is 6250\n",
      "Solving LP relaxation...\n",
      "GLPK Simplex Optimizer 5.0\n",
      "6250 rows, 10763 columns, 15276 non-zeros\n",
      "*     0: obj =   3.345847643e+04 inf =   0.000e+00 (2684)\n",
      "Perturbing LP to avoid stalling [1293]...\n",
      "Removing LP perturbation [2695]...\n",
      "*  2695: obj =   1.673872582e+04 inf =   0.000e+00 (0)\n",
      "OPTIMAL LP SOLUTION FOUND\n",
      "Integer optimization begins...\n",
      "Long-step dual simplex will be used\n",
      "+  2695: mip =     not found yet >=              -inf        (1; 0)\n",
      "+  2695: >>>>>   1.673872582e+04 >=   1.673872582e+04   0.0% (1; 0)\n",
      "+  2695: mip =   1.673872582e+04 >=     tree is empty   0.0% (0; 1)\n",
      "INTEGER OPTIMAL SOLUTION FOUND\n"
     ]
    },
    {
     "name": "stderr",
     "output_type": "stream",
     "text": [
      "[INFO][2023/04/14 01:47:25 pm] Ending BayesianTracker session\n",
      "14-Apr-23 13:47:25 - btrack.core - INFO     - Ending BayesianTracker session\n"
     ]
    }
   ],
   "source": [
    "tracks = track_and_show(downscale_obj, \n",
    "               downscale_seg, \n",
    "#                '/home/dayn/analysis/btrack/models/simplecase_cell_config.json', \n",
    "               '/home/dayn/analysis/btrack/models/particle_config.json', \n",
    "               20, \n",
    "               [\"MOTION\",\n",
    "#                 \"VISUAL\"\n",
    "               ],\n",
    "               True\n",
    "              )"
   ]
  },
  {
   "cell_type": "markdown",
   "id": "cbbbd05c",
   "metadata": {},
   "source": [
    "### This plot shows the visual features might confuse things if you get the search radius right...\n",
    "butttt this shouldnt really be taken as definitive proof that the tracking performance has improved... the track length may increase on average but the veracity of the longer tracks may not be there"
   ]
  },
  {
   "cell_type": "code",
   "execution_count": 137,
   "id": "46042e84",
   "metadata": {},
   "outputs": [
    {
     "data": {
      "image/png": "[encoded data removed]",
      "text/plain": [
       "<Figure size 640x480 with 1 Axes>"
      ]
     },
     "metadata": {},
     "output_type": "display_data"
    }
   ],
   "source": [
    "for i, trax in enumerate([downscale_tracks, tracks]):\n",
    "    sns.histplot([len(track) for track in trax], color = sns.color_palette('PiYG', 2)[i], label = i )\n",
    "    plt.legend()"
   ]
  },
  {
   "cell_type": "code",
   "execution_count": 151,
   "id": "32387c8c",
   "metadata": {
    "scrolled": true
   },
   "outputs": [
    {
     "name": "stderr",
     "output_type": "stream",
     "text": [
      "[INFO][2023/04/14 02:24:49 pm] Loaded btrack: /home/dayn/miniconda3/envs/aero/lib/python3.9/site-packages/btrack/libs/libtracker.so\n",
      "14-Apr-23 14:24:49 - btrack.libwrapper - INFO     - Loaded btrack: /home/dayn/miniconda3/envs/aero/lib/python3.9/site-packages/btrack/libs/libtracker.so\n",
      "[WARNING][2023/04/14 02:24:49 pm] btrack (v0.5.0) shared library mismatch.\n",
      "14-Apr-23 14:24:49 - btrack.core - WARNING  - btrack (v0.5.0) shared library mismatch.\n",
      "[INFO][2023/04/14 02:24:49 pm] Starting BayesianTracker session\n",
      "14-Apr-23 14:24:49 - btrack.core - INFO     - Starting BayesianTracker session\n",
      "[INFO][2023/04/14 02:24:49 pm] Loading configuration file: /home/dayn/analysis/btrack/models/particle_config.json\n",
      "14-Apr-23 14:24:49 - btrack.config - INFO     - Loading configuration file: /home/dayn/analysis/btrack/models/particle_config.json\n",
      "[INFO][2023/04/14 02:24:49 pm] Objects are of type: <class 'list'>\n",
      "14-Apr-23 14:24:49 - btrack.dataio - INFO     - Objects are of type: <class 'list'>\n",
      "[INFO][2023/04/14 02:24:50 pm] Starting tracking... \n",
      "14-Apr-23 14:24:50 - btrack.core - INFO     - Starting tracking... \n",
      "[INFO][2023/04/14 02:24:50 pm] Update using: ['MOTION']\n",
      "14-Apr-23 14:24:50 - btrack.core - INFO     - Update using: ['MOTION']\n",
      "[INFO][2023/04/14 02:24:50 pm] Tracking objects in frames 0 to 24 (of 75)...\n",
      "14-Apr-23 14:24:50 - btrack.core - INFO     - Tracking objects in frames 0 to 24 (of 75)...\n",
      "[INFO][2023/04/14 02:24:52 pm]  - Timing (Bayesian updates: 87.60ms, Linking: 3.22ms)\n",
      "14-Apr-23 14:24:52 - btrack.utils - INFO     -  - Timing (Bayesian updates: 87.60ms, Linking: 3.22ms)\n",
      "[INFO][2023/04/14 02:24:52 pm]  - Probabilities (Link: 1.00000, Lost: 1.00000)\n",
      "14-Apr-23 14:24:52 - btrack.utils - INFO     -  - Probabilities (Link: 1.00000, Lost: 1.00000)\n",
      "[INFO][2023/04/14 02:24:52 pm]  - Stats (Active: 587, Lost: 4554, Conflicts resolved: 2482)\n",
      "14-Apr-23 14:24:52 - btrack.utils - INFO     -  - Stats (Active: 587, Lost: 4554, Conflicts resolved: 2482)\n",
      "[INFO][2023/04/14 02:24:52 pm] Tracking objects in frames 25 to 49 (of 75)...\n",
      "14-Apr-23 14:24:52 - btrack.core - INFO     - Tracking objects in frames 25 to 49 (of 75)...\n",
      "[INFO][2023/04/14 02:24:55 pm]  - Timing (Bayesian updates: 71.07ms, Linking: 2.12ms)\n",
      "14-Apr-23 14:24:55 - btrack.utils - INFO     -  - Timing (Bayesian updates: 71.07ms, Linking: 2.12ms)\n",
      "[INFO][2023/04/14 02:24:55 pm]  - Probabilities (Link: 0.99383, Lost: 0.75005)\n",
      "14-Apr-23 14:24:55 - btrack.utils - INFO     -  - Probabilities (Link: 0.99383, Lost: 0.75005)\n",
      "[INFO][2023/04/14 02:24:55 pm]  - Stats (Active: 576, Lost: 8471, Conflicts resolved: 4859)\n",
      "14-Apr-23 14:24:55 - btrack.utils - INFO     -  - Stats (Active: 576, Lost: 8471, Conflicts resolved: 4859)\n",
      "[INFO][2023/04/14 02:24:55 pm] Tracking objects in frames 50 to 74 (of 75)...\n",
      "14-Apr-23 14:24:55 - btrack.core - INFO     - Tracking objects in frames 50 to 74 (of 75)...\n",
      "[INFO][2023/04/14 02:24:57 pm]  - Timing (Bayesian updates: 66.67ms, Linking: 2.03ms)\n",
      "14-Apr-23 14:24:57 - btrack.utils - INFO     -  - Timing (Bayesian updates: 66.67ms, Linking: 2.03ms)\n",
      "[INFO][2023/04/14 02:24:57 pm]  - Probabilities (Link: 0.59800, Lost: 1.00000)\n",
      "14-Apr-23 14:24:57 - btrack.utils - INFO     -  - Probabilities (Link: 0.59800, Lost: 1.00000)\n",
      "[INFO][2023/04/14 02:24:57 pm] SUCCESS.\n",
      "14-Apr-23 14:24:57 - btrack.core - INFO     - SUCCESS.\n",
      "[INFO][2023/04/14 02:24:57 pm]  - Found 3160 tracks in 75 frames (in 0.0s)\n",
      "14-Apr-23 14:24:57 - btrack.core - INFO     -  - Found 3160 tracks in 75 frames (in 0.0s)\n",
      "[INFO][2023/04/14 02:24:57 pm]  - Inserted 5433 dummy objects to fill tracking gaps\n",
      "14-Apr-23 14:24:57 - btrack.core - INFO     -  - Inserted 5433 dummy objects to fill tracking gaps\n",
      "[INFO][2023/04/14 02:24:57 pm] Loading hypothesis model: particle_hypothesis\n",
      "14-Apr-23 14:24:57 - btrack.core - INFO     - Loading hypothesis model: particle_hypothesis\n",
      "[INFO][2023/04/14 02:24:57 pm] Calculating hypotheses (relax: True)...\n",
      "14-Apr-23 14:24:57 - btrack.core - INFO     - Calculating hypotheses (relax: True)...\n",
      "[INFO][2023/04/14 02:24:57 pm] Setting up constraints matrix for global optimisation...\n",
      "14-Apr-23 14:24:57 - btrack.optimise.optimiser - INFO     - Setting up constraints matrix for global optimisation...\n",
      "[INFO][2023/04/14 02:24:57 pm] Using GLPK options: {'tm_lim': 60000}...\n",
      "14-Apr-23 14:24:57 - btrack.optimise.optimiser - INFO     - Using GLPK options: {'tm_lim': 60000}...\n",
      "[INFO][2023/04/14 02:24:57 pm] Optimizing...\n",
      "14-Apr-23 14:24:57 - btrack.optimise.optimiser - INFO     - Optimizing...\n",
      "[INFO][2023/04/14 02:24:58 pm] Optimization complete. (Solution: optimal)\n",
      "14-Apr-23 14:24:58 - btrack.optimise.optimiser - INFO     - Optimization complete. (Solution: optimal)\n",
      "[INFO][2023/04/14 02:24:58 pm]  - Fates.FALSE_POSITIVE: 922 (of 3160)\n",
      "14-Apr-23 14:24:58 - btrack.core - INFO     -  - Fates.FALSE_POSITIVE: 922 (of 3160)\n",
      "[INFO][2023/04/14 02:24:58 pm]  - Fates.LINK: 944 (of 1353)\n",
      "14-Apr-23 14:24:58 - btrack.core - INFO     -  - Fates.LINK: 944 (of 1353)\n",
      "[INFO][2023/04/14 02:24:58 pm]  - Fates.INITIALIZE_BORDER: 45 (of 100)\n",
      "14-Apr-23 14:24:58 - btrack.core - INFO     -  - Fates.INITIALIZE_BORDER: 45 (of 100)\n",
      "[INFO][2023/04/14 02:24:58 pm]  - Fates.INITIALIZE_FRONT: 443 (of 693)\n",
      "14-Apr-23 14:24:58 - btrack.core - INFO     -  - Fates.INITIALIZE_FRONT: 443 (of 693)\n",
      "[INFO][2023/04/14 02:24:58 pm]  - Fates.INITIALIZE_LAZY: 806 (of 2367)\n",
      "14-Apr-23 14:24:58 - btrack.core - INFO     -  - Fates.INITIALIZE_LAZY: 806 (of 2367)\n",
      "[INFO][2023/04/14 02:24:58 pm]  - Fates.TERMINATE_BORDER: 40 (of 93)\n",
      "14-Apr-23 14:24:58 - btrack.core - INFO     -  - Fates.TERMINATE_BORDER: 40 (of 93)\n",
      "[INFO][2023/04/14 02:24:58 pm]  - Fates.TERMINATE_BACK: 412 (of 488)\n",
      "14-Apr-23 14:24:58 - btrack.core - INFO     -  - Fates.TERMINATE_BACK: 412 (of 488)\n",
      "[INFO][2023/04/14 02:24:58 pm]  - Fates.TERMINATE_LAZY: 842 (of 2579)\n",
      "14-Apr-23 14:24:58 - btrack.core - INFO     -  - Fates.TERMINATE_LAZY: 842 (of 2579)\n",
      "[INFO][2023/04/14 02:24:58 pm]  - TOTAL: 10833 hypotheses\n",
      "14-Apr-23 14:24:58 - btrack.core - INFO     -  - TOTAL: 10833 hypotheses\n",
      "[INFO][2023/04/14 02:24:58 pm] Completed optimization with 2216 tracks\n",
      "14-Apr-23 14:24:58 - btrack.core - INFO     - Completed optimization with 2216 tracks\n"
     ]
    },
    {
     "name": "stdout",
     "output_type": "stream",
     "text": [
      "GLPK Integer Optimizer 5.0\n",
      "12640 rows, 10833 columns, 15346 non-zeros\n",
      "10833 integer variables, all of which are binary\n",
      "Preprocessing...\n",
      "6320 rows, 10833 columns, 15346 non-zeros\n",
      "10833 integer variables, all of which are binary\n",
      "Scaling...\n",
      " A: min|aij| =  1.000e+00  max|aij| =  1.000e+00  ratio =  1.000e+00\n",
      "Problem data seem to be well scaled\n",
      "Constructing initial basis...\n",
      "Size of triangular part is 6320\n",
      "Solving LP relaxation...\n",
      "GLPK Simplex Optimizer 5.0\n",
      "6320 rows, 10833 columns, 15346 non-zeros\n",
      "*     0: obj =   3.419594492e+04 inf =   0.000e+00 (2778)\n",
      "Perturbing LP to avoid stalling [1348]...\n",
      "Removing LP perturbation [2796]...\n",
      "*  2796: obj =   1.682239090e+04 inf =   0.000e+00 (0)\n",
      "OPTIMAL LP SOLUTION FOUND\n",
      "Integer optimization begins...\n",
      "Long-step dual simplex will be used\n",
      "+  2796: mip =     not found yet >=              -inf        (1; 0)\n",
      "+  2796: >>>>>   1.682239090e+04 >=   1.682239090e+04   0.0% (1; 0)\n",
      "+  2796: mip =   1.682239090e+04 >=     tree is empty   0.0% (0; 1)\n",
      "INTEGER OPTIMAL SOLUTION FOUND\n"
     ]
    },
    {
     "name": "stderr",
     "output_type": "stream",
     "text": [
      "[INFO][2023/04/14 02:24:58 pm] Ending BayesianTracker session\n",
      "14-Apr-23 14:24:58 - btrack.core - INFO     - Ending BayesianTracker session\n"
     ]
    }
   ],
   "source": [
    "tracks = track_and_show(downscale_obj, \n",
    "               downscale_seg, \n",
    "#                '/home/dayn/analysis/btrack/models/simplecase_cell_config.json', \n",
    "               '/home/dayn/analysis/btrack/models/particle_config.json', \n",
    "               15, \n",
    "               [\"MOTION\",\n",
    "#                 \"VISUAL\"\n",
    "               ],\n",
    "               True\n",
    "              )"
   ]
  },
  {
   "cell_type": "code",
   "execution_count": null,
   "id": "008e6269",
   "metadata": {},
   "outputs": [],
   "source": [
    "for i, trax in enumerate([downscale_tracks, tracks]):\n",
    "    sns.histplot([len(track) for track in trax], color = sns.color_palette('PiYG', 2)[i], label = i )\n",
    "    plt.legend()"
   ]
  }
 ],
 "metadata": {
  "kernelspec": {
   "display_name": "aero",
   "language": "python",
   "name": "aero"
  },
  "language_info": {
   "codemirror_mode": {
    "name": "ipython",
    "version": 3
   },
   "file_extension": ".py",
   "mimetype": "text/x-python",
   "name": "python",
   "nbconvert_exporter": "python",
   "pygments_lexer": "ipython3",
   "version": "3.9.12"
  }
 },
 "nbformat": 4,
 "nbformat_minor": 5
}
