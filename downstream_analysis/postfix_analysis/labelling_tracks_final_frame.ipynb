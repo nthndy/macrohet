{
 "cells": [
  {
   "cell_type": "code",
   "execution_count": 2,
   "id": "ab211d0b-7d39-4b5d-810b-85b1b6577e01",
   "metadata": {},
   "outputs": [],
   "source": [
    "import os\n",
    "import numpy as np\n",
    "import btrack\n",
    "import glob\n",
    "import zipfile\n",
    "import pandas as pd\n",
    "# from ijroi import ROI\n",
    "from tqdm.auto import tqdm\n",
    "import csv\n",
    "import cv2\n"
   ]
  },
  {
   "cell_type": "code",
   "execution_count": 3,
   "id": "4013e8ee-97e1-4c7b-b24b-b2c152ebc1e9",
   "metadata": {},
   "outputs": [],
   "source": [
    "df = pd.read_pickle('/mnt/SYNO/macrohet_syno/manuscript/results/dt_df.pkl')"
   ]
  },
  {
   "cell_type": "code",
   "execution_count": 4,
   "id": "949732f3-9c0e-4fab-9e48-8c2bdad3f57d",
   "metadata": {},
   "outputs": [
    {
     "name": "stderr",
     "output_type": "stream",
     "text": [
      "[INFO][2024/06/03 02:51:47 PM] Opening HDF file: /mnt/SYNO/macrohet_syno/PS0000/labels/macrohet_seg_model/(3, 4).h5...\n",
      "[INFO][2024/06/03 02:51:57 PM] Loading segmentation (75, 6048, 6048)\n",
      "[INFO][2024/06/03 02:51:57 PM] Closing HDF file: /mnt/SYNO/macrohet_syno/PS0000/labels/macrohet_seg_model/(3, 4).h5\n"
     ]
    }
   ],
   "source": [
    "# Iterate over the expt_IDs\n",
    "for expt_ID in ['PS0000', 'ND0002', 'ND0003']:\n",
    "    subset_df = df[df['Experiment ID'] == expt_ID]\n",
    "    subset_df = subset_df[subset_df['Time (hours)'] == subset_df['Time (hours)'].max()]\n",
    "    acq_IDs = subset_df['Acquisition ID'].unique()\n",
    "\n",
    "    for acq_ID in acq_IDs:\n",
    "        seg_fn = glob.glob(os.path.join(f'/mnt/SYNO/macrohet_syno/{expt_ID}/labels/*/{acq_ID}.h5'))[0]\n",
    "        # Read the segmentation and tracks\n",
    "        with btrack.io.HDF5FileHandler(seg_fn, 'r', obj_type='obj_type_1') as reader:\n",
    "            segmentation = reader.segmentation[-1]\n",
    "\n",
    "        break\n",
    "    break"
   ]
  },
  {
   "cell_type": "code",
   "execution_count": 24,
   "id": "c3f51c19-6315-4459-9799-01263dd82d1f",
   "metadata": {},
   "outputs": [
    {
     "data": {
      "text/plain": [
       "array([  0,   1,   2,   3,   4,   5,   6,   7,   8,   9,  10,  11,  12,\n",
       "        13,  14,  15,  16,  17,  18,  19,  20,  21,  22,  23,  24,  25,\n",
       "        26,  27,  28,  29,  30,  31,  32,  33,  34,  35,  36,  37,  38,\n",
       "        39,  40,  41,  42,  43,  44,  45,  46,  47,  48,  49,  50,  51,\n",
       "        52,  53,  54,  55,  56,  57,  58,  59,  60,  61,  62,  63,  64,\n",
       "        65,  66,  67,  68,  69,  70,  71,  72,  73,  74,  75,  76,  77,\n",
       "        78,  79,  80,  81,  82,  83,  84,  85,  86,  87,  88,  89,  90,\n",
       "        91,  92,  93,  94,  95,  96,  97,  98,  99, 100, 101, 102, 103,\n",
       "       104, 105, 106, 107, 108, 109, 110, 111, 112, 113, 114, 115, 116,\n",
       "       117, 118, 119, 120, 121, 122, 123, 124, 125, 126, 127, 128, 129,\n",
       "       130, 131, 132, 133, 134, 135, 136, 137, 138, 139, 140, 141, 142,\n",
       "       143, 144, 145, 146, 147, 148, 149, 150, 151, 152, 153, 154, 155,\n",
       "       156, 157, 158, 159, 160, 161, 162, 163, 164, 165, 166, 167, 168,\n",
       "       169, 170, 171, 172, 173, 174, 175, 176, 177, 178, 179, 180, 181,\n",
       "       182, 183, 184, 185, 186, 187, 188, 189, 190, 191, 192, 193, 194,\n",
       "       195, 196, 197, 198, 199, 200, 201, 202, 203, 204, 205, 206, 207,\n",
       "       208, 209, 210, 211, 212, 213, 214, 215, 216, 217, 218, 219, 220,\n",
       "       221, 222, 223, 224, 225, 226, 227, 228, 229, 230, 231, 232, 233,\n",
       "       234, 235, 236, 237, 238, 239, 240, 241, 242, 243, 244, 245, 246,\n",
       "       247, 248, 249, 250, 251, 252, 253, 254, 255, 256, 257, 258, 259,\n",
       "       260, 261, 262, 263, 264, 265, 266, 267, 268, 269, 270, 271, 272,\n",
       "       273, 274, 275, 276, 277, 278, 279, 280, 281, 282, 283, 284, 285,\n",
       "       286, 287, 288, 289, 290, 291, 292, 293, 294, 295, 296, 297, 298,\n",
       "       299, 300, 301, 302, 303, 304, 305, 306, 307, 308, 309, 310, 311,\n",
       "       312, 313, 314, 315, 316, 317, 318, 319, 320, 321, 322, 323, 324,\n",
       "       325, 326, 327, 328, 329, 330, 331, 332, 333, 334, 335, 336, 337,\n",
       "       338, 339, 340, 341, 342, 343, 344, 345, 346, 347, 348, 349, 350,\n",
       "       351, 352, 353, 354, 355, 356, 357, 358, 359, 360, 361, 362, 363,\n",
       "       364, 365, 366, 367, 368, 369, 370, 371, 372, 373, 374, 375, 376,\n",
       "       377, 378, 379, 380, 381, 382, 383, 384, 385, 386, 387, 388, 389,\n",
       "       390, 391, 392, 393, 394, 395, 396, 397, 398, 399, 400, 401, 402,\n",
       "       403, 404, 405, 406, 407, 408, 409, 410, 411, 412, 413, 414, 415,\n",
       "       416, 417, 418, 419, 420, 421, 422, 423, 424, 425, 426, 427, 428,\n",
       "       429, 430, 431, 432, 433, 434, 435, 436, 437, 438, 439, 440, 441,\n",
       "       442, 443, 444, 445, 446, 447, 448, 449, 450, 451, 452, 453, 454,\n",
       "       455, 456, 457, 458, 459, 460, 461, 462, 463, 464, 465, 466, 467,\n",
       "       468, 469, 470, 471, 472, 473, 474, 475, 476, 477, 478, 479, 480,\n",
       "       481, 482, 483, 484, 485, 486, 487, 488, 489, 490, 491, 492, 493,\n",
       "       494, 495, 496, 497, 498, 499, 500], dtype=uint16)"
      ]
     },
     "execution_count": 24,
     "metadata": {},
     "output_type": "execute_result"
    }
   ],
   "source": [
    "unique_values"
   ]
  },
  {
   "cell_type": "code",
   "execution_count": 38,
   "id": "114020f2-44c4-4826-8b52-ef50646e2c44",
   "metadata": {},
   "outputs": [],
   "source": [
    "from skimage import measure\n"
   ]
  },
  {
   "cell_type": "code",
   "execution_count": 51,
   "id": "8c56ea73-d745-4485-8247-0255ff8d21f7",
   "metadata": {},
   "outputs": [
    {
     "data": {
      "application/vnd.jupyter.widget-view+json": {
       "model_id": "491da58a714d43c3b5d4858fa23222f6",
       "version_major": 2,
       "version_minor": 0
      },
      "text/plain": [
       "  0%|          | 0/2 [00:00<?, ?it/s]"
      ]
     },
     "metadata": {},
     "output_type": "display_data"
    }
   ],
   "source": [
    "unique_values = np.unique(segmentation)\n",
    "shape_coordinates = {}\n",
    "\n",
    "for value in tqdm(unique_values):\n",
    "    if value == 0:  # Assuming 0 is the background\n",
    "        continue\n",
    "    \n",
    "    coordinates = np.argwhere(segmentation == value)\n",
    "    shape_coordinates[value] = coordinates"
   ]
  },
  {
   "cell_type": "code",
   "execution_count": 52,
   "id": "492f09cc-9da6-4c29-84da-4bedc6e0335b",
   "metadata": {},
   "outputs": [
    {
     "data": {
      "text/plain": [
       "2231"
      ]
     },
     "execution_count": 52,
     "metadata": {},
     "output_type": "execute_result"
    }
   ],
   "source": [
    "len(coordinates)"
   ]
  },
  {
   "cell_type": "code",
   "execution_count": 117,
   "id": "2d074fb4-b405-4b7f-8d5d-55d46f8e86bf",
   "metadata": {},
   "outputs": [
    {
     "data": {
      "application/vnd.jupyter.widget-view+json": {
       "model_id": "10639e8440b44370ab4248dfdfd88076",
       "version_major": 2,
       "version_minor": 0
      },
      "text/plain": [
       "  0%|          | 0/3 [00:00<?, ?it/s]"
      ]
     },
     "metadata": {},
     "output_type": "display_data"
    },
    {
     "data": {
      "application/vnd.jupyter.widget-view+json": {
       "model_id": "3112a6f2805a4be1b462248725bc6165",
       "version_major": 2,
       "version_minor": 0
      },
      "text/plain": [
       "  0%|          | 0/24 [00:00<?, ?it/s]"
      ]
     },
     "metadata": {},
     "output_type": "display_data"
    },
    {
     "name": "stderr",
     "output_type": "stream",
     "text": [
      "[INFO][2024/06/03 05:52:56 pm] Opening HDF file: /mnt/SYNO/macrohet_syno/PS0000/labels/macrohet_seg_model/(3, 4).h5...\n",
      "[INFO][2024/06/03 05:53:06 pm] Loading segmentation (75, 6048, 6048)\n",
      "[INFO][2024/06/03 05:53:06 pm] Loading tracks/obj_type_1\n",
      "[INFO][2024/06/03 05:53:06 pm] Loading LBEP/obj_type_1\n",
      "[INFO][2024/06/03 05:53:06 pm] Loading objects/obj_type_1 (39878, 5) (39878 filtered: None)\n",
      "[INFO][2024/06/03 05:53:07 pm] Closing HDF file: /mnt/SYNO/macrohet_syno/PS0000/labels/macrohet_seg_model/(3, 4).h5\n"
     ]
    },
    {
     "data": {
      "application/vnd.jupyter.widget-view+json": {
       "model_id": "",
       "version_major": 2,
       "version_minor": 0
      },
      "text/plain": [
       "Iterating over tracks:   0%|          | 0/465 [00:00<?, ?it/s]"
      ]
     },
     "metadata": {},
     "output_type": "display_data"
    },
    {
     "name": "stderr",
     "output_type": "stream",
     "text": [
      "[INFO][2024/06/03 05:56:07 pm] Opening HDF file: /mnt/SYNO/macrohet_syno/PS0000/labels/macrohet_seg_model/(3, 5).h5...\n",
      "[INFO][2024/06/03 05:56:17 pm] Loading segmentation (75, 6048, 6048)\n",
      "[INFO][2024/06/03 05:56:17 pm] Loading tracks/obj_type_1\n",
      "[INFO][2024/06/03 05:56:17 pm] Loading LBEP/obj_type_1\n",
      "[INFO][2024/06/03 05:56:17 pm] Loading objects/obj_type_1 (41424, 5) (41424 filtered: None)\n",
      "[INFO][2024/06/03 05:56:18 pm] Closing HDF file: /mnt/SYNO/macrohet_syno/PS0000/labels/macrohet_seg_model/(3, 5).h5\n"
     ]
    },
    {
     "data": {
      "application/vnd.jupyter.widget-view+json": {
       "model_id": "",
       "version_major": 2,
       "version_minor": 0
      },
      "text/plain": [
       "Iterating over tracks:   0%|          | 0/462 [00:00<?, ?it/s]"
      ]
     },
     "metadata": {},
     "output_type": "display_data"
    },
    {
     "name": "stderr",
     "output_type": "stream",
     "text": [
      "[INFO][2024/06/03 05:59:11 pm] Opening HDF file: /mnt/SYNO/macrohet_syno/PS0000/labels/macrohet_seg_model/(3, 6).h5...\n",
      "[INFO][2024/06/03 05:59:21 pm] Loading segmentation (75, 6048, 6048)\n",
      "[INFO][2024/06/03 05:59:21 pm] Loading tracks/obj_type_1\n",
      "[INFO][2024/06/03 05:59:21 pm] Loading LBEP/obj_type_1\n",
      "[INFO][2024/06/03 05:59:22 pm] Loading objects/obj_type_1 (46507, 5) (46507 filtered: None)\n",
      "[INFO][2024/06/03 05:59:22 pm] Closing HDF file: /mnt/SYNO/macrohet_syno/PS0000/labels/macrohet_seg_model/(3, 6).h5\n"
     ]
    },
    {
     "data": {
      "application/vnd.jupyter.widget-view+json": {
       "model_id": "",
       "version_major": 2,
       "version_minor": 0
      },
      "text/plain": [
       "Iterating over tracks:   0%|          | 0/612 [00:00<?, ?it/s]"
      ]
     },
     "metadata": {},
     "output_type": "display_data"
    },
    {
     "name": "stderr",
     "output_type": "stream",
     "text": [
      "[INFO][2024/06/03 06:03:15 pm] Opening HDF file: /mnt/SYNO/macrohet_syno/PS0000/labels/macrohet_seg_model/(3, 7).h5...\n",
      "[INFO][2024/06/03 06:03:26 pm] Loading segmentation (75, 6048, 6048)\n",
      "[INFO][2024/06/03 06:03:26 pm] Loading tracks/obj_type_1\n",
      "[INFO][2024/06/03 06:03:26 pm] Loading LBEP/obj_type_1\n",
      "[INFO][2024/06/03 06:03:26 pm] Loading objects/obj_type_1 (42503, 5) (42503 filtered: None)\n",
      "[INFO][2024/06/03 06:03:26 pm] Closing HDF file: /mnt/SYNO/macrohet_syno/PS0000/labels/macrohet_seg_model/(3, 7).h5\n"
     ]
    },
    {
     "data": {
      "application/vnd.jupyter.widget-view+json": {
       "model_id": "",
       "version_major": 2,
       "version_minor": 0
      },
      "text/plain": [
       "Iterating over tracks:   0%|          | 0/517 [00:00<?, ?it/s]"
      ]
     },
     "metadata": {},
     "output_type": "display_data"
    },
    {
     "name": "stderr",
     "output_type": "stream",
     "text": [
      "[INFO][2024/06/03 06:06:53 pm] Opening HDF file: /mnt/SYNO/macrohet_syno/PS0000/labels/macrohet_seg_model/(3, 8).h5...\n",
      "[INFO][2024/06/03 06:07:03 pm] Loading segmentation (75, 6048, 6048)\n",
      "[INFO][2024/06/03 06:07:03 pm] Loading tracks/obj_type_1\n",
      "[INFO][2024/06/03 06:07:03 pm] Loading LBEP/obj_type_1\n",
      "[INFO][2024/06/03 06:07:03 pm] Loading objects/obj_type_1 (47396, 5) (47396 filtered: None)\n",
      "[INFO][2024/06/03 06:07:04 pm] Closing HDF file: /mnt/SYNO/macrohet_syno/PS0000/labels/macrohet_seg_model/(3, 8).h5\n"
     ]
    },
    {
     "data": {
      "application/vnd.jupyter.widget-view+json": {
       "model_id": "",
       "version_major": 2,
       "version_minor": 0
      },
      "text/plain": [
       "Iterating over tracks:   0%|          | 0/613 [00:00<?, ?it/s]"
      ]
     },
     "metadata": {},
     "output_type": "display_data"
    },
    {
     "name": "stderr",
     "output_type": "stream",
     "text": [
      "[INFO][2024/06/03 06:11:16 pm] Opening HDF file: /mnt/SYNO/macrohet_syno/PS0000/labels/macrohet_seg_model/(3, 9).h5...\n",
      "[INFO][2024/06/03 06:11:26 pm] Loading segmentation (75, 6048, 6048)\n",
      "[INFO][2024/06/03 06:11:26 pm] Loading tracks/obj_type_1\n",
      "[INFO][2024/06/03 06:11:26 pm] Loading LBEP/obj_type_1\n",
      "[INFO][2024/06/03 06:11:26 pm] Loading objects/obj_type_1 (42259, 5) (42259 filtered: None)\n",
      "[INFO][2024/06/03 06:11:27 pm] Closing HDF file: /mnt/SYNO/macrohet_syno/PS0000/labels/macrohet_seg_model/(3, 9).h5\n"
     ]
    },
    {
     "data": {
      "application/vnd.jupyter.widget-view+json": {
       "model_id": "",
       "version_major": 2,
       "version_minor": 0
      },
      "text/plain": [
       "Iterating over tracks:   0%|          | 0/533 [00:00<?, ?it/s]"
      ]
     },
     "metadata": {},
     "output_type": "display_data"
    },
    {
     "name": "stderr",
     "output_type": "stream",
     "text": [
      "[INFO][2024/06/03 06:15:12 pm] Opening HDF file: /mnt/SYNO/macrohet_syno/PS0000/labels/macrohet_seg_model/(4, 4).h5...\n",
      "[INFO][2024/06/03 06:15:23 pm] Loading segmentation (75, 6048, 6048)\n",
      "[INFO][2024/06/03 06:15:23 pm] Loading tracks/obj_type_1\n",
      "[INFO][2024/06/03 06:15:23 pm] Loading LBEP/obj_type_1\n",
      "[INFO][2024/06/03 06:15:23 pm] Loading objects/obj_type_1 (41640, 5) (41640 filtered: None)\n",
      "[INFO][2024/06/03 06:15:24 pm] Closing HDF file: /mnt/SYNO/macrohet_syno/PS0000/labels/macrohet_seg_model/(4, 4).h5\n"
     ]
    },
    {
     "data": {
      "application/vnd.jupyter.widget-view+json": {
       "model_id": "",
       "version_major": 2,
       "version_minor": 0
      },
      "text/plain": [
       "Iterating over tracks:   0%|          | 0/502 [00:00<?, ?it/s]"
      ]
     },
     "metadata": {},
     "output_type": "display_data"
    },
    {
     "name": "stderr",
     "output_type": "stream",
     "text": [
      "[INFO][2024/06/03 06:18:50 pm] Opening HDF file: /mnt/SYNO/macrohet_syno/PS0000/labels/macrohet_seg_model/(4, 5).h5...\n",
      "[INFO][2024/06/03 06:18:59 pm] Loading segmentation (75, 6048, 6048)\n",
      "[INFO][2024/06/03 06:18:59 pm] Loading tracks/obj_type_1\n",
      "[INFO][2024/06/03 06:18:59 pm] Loading LBEP/obj_type_1\n",
      "[INFO][2024/06/03 06:18:59 pm] Loading objects/obj_type_1 (47242, 5) (47242 filtered: None)\n",
      "[INFO][2024/06/03 06:19:00 pm] Closing HDF file: /mnt/SYNO/macrohet_syno/PS0000/labels/macrohet_seg_model/(4, 5).h5\n"
     ]
    },
    {
     "data": {
      "application/vnd.jupyter.widget-view+json": {
       "model_id": "",
       "version_major": 2,
       "version_minor": 0
      },
      "text/plain": [
       "Iterating over tracks:   0%|          | 0/451 [00:00<?, ?it/s]"
      ]
     },
     "metadata": {},
     "output_type": "display_data"
    },
    {
     "name": "stderr",
     "output_type": "stream",
     "text": [
      "[INFO][2024/06/03 06:22:02 pm] Opening HDF file: /mnt/SYNO/macrohet_syno/PS0000/labels/macrohet_seg_model/(4, 6).h5...\n",
      "[INFO][2024/06/03 06:22:13 pm] Loading segmentation (75, 6048, 6048)\n",
      "[INFO][2024/06/03 06:22:13 pm] Loading tracks/obj_type_1\n",
      "[INFO][2024/06/03 06:22:13 pm] Loading LBEP/obj_type_1\n",
      "[INFO][2024/06/03 06:22:13 pm] Loading objects/obj_type_1 (43883, 5) (43883 filtered: None)\n",
      "[INFO][2024/06/03 06:22:13 pm] Closing HDF file: /mnt/SYNO/macrohet_syno/PS0000/labels/macrohet_seg_model/(4, 6).h5\n"
     ]
    },
    {
     "data": {
      "application/vnd.jupyter.widget-view+json": {
       "model_id": "",
       "version_major": 2,
       "version_minor": 0
      },
      "text/plain": [
       "Iterating over tracks:   0%|          | 0/504 [00:00<?, ?it/s]"
      ]
     },
     "metadata": {},
     "output_type": "display_data"
    },
    {
     "name": "stderr",
     "output_type": "stream",
     "text": [
      "[INFO][2024/06/03 06:25:39 pm] Opening HDF file: /mnt/SYNO/macrohet_syno/PS0000/labels/macrohet_seg_model/(4, 7).h5...\n",
      "[INFO][2024/06/03 06:25:49 pm] Loading segmentation (75, 6048, 6048)\n",
      "[INFO][2024/06/03 06:25:49 pm] Loading tracks/obj_type_1\n",
      "[INFO][2024/06/03 06:25:49 pm] Loading LBEP/obj_type_1\n",
      "[INFO][2024/06/03 06:25:50 pm] Loading objects/obj_type_1 (42965, 5) (42965 filtered: None)\n",
      "[INFO][2024/06/03 06:25:51 pm] Closing HDF file: /mnt/SYNO/macrohet_syno/PS0000/labels/macrohet_seg_model/(4, 7).h5\n"
     ]
    },
    {
     "data": {
      "application/vnd.jupyter.widget-view+json": {
       "model_id": "",
       "version_major": 2,
       "version_minor": 0
      },
      "text/plain": [
       "Iterating over tracks:   0%|          | 0/491 [00:00<?, ?it/s]"
      ]
     },
     "metadata": {},
     "output_type": "display_data"
    },
    {
     "name": "stderr",
     "output_type": "stream",
     "text": [
      "[INFO][2024/06/03 06:29:13 pm] Opening HDF file: /mnt/SYNO/macrohet_syno/PS0000/labels/macrohet_seg_model/(4, 8).h5...\n",
      "[INFO][2024/06/03 07:22:29 pm] Loading segmentation (75, 6048, 6048)\n",
      "[INFO][2024/06/03 07:22:29 pm] Loading tracks/obj_type_1\n",
      "[INFO][2024/06/03 07:22:29 pm] Loading LBEP/obj_type_1\n",
      "[INFO][2024/06/03 07:22:29 pm] Loading objects/obj_type_1 (38895, 5) (38895 filtered: None)\n",
      "[INFO][2024/06/03 07:22:30 pm] Closing HDF file: /mnt/SYNO/macrohet_syno/PS0000/labels/macrohet_seg_model/(4, 8).h5\n"
     ]
    },
    {
     "data": {
      "application/vnd.jupyter.widget-view+json": {
       "model_id": "",
       "version_major": 2,
       "version_minor": 0
      },
      "text/plain": [
       "Iterating over tracks:   0%|          | 0/450 [00:00<?, ?it/s]"
      ]
     },
     "metadata": {},
     "output_type": "display_data"
    },
    {
     "name": "stderr",
     "output_type": "stream",
     "text": [
      "[INFO][2024/06/03 07:25:36 pm] Opening HDF file: /mnt/SYNO/macrohet_syno/PS0000/labels/macrohet_seg_model/(4, 9).h5...\n",
      "[INFO][2024/06/03 07:25:46 pm] Loading segmentation (75, 6048, 6048)\n",
      "[INFO][2024/06/03 07:25:46 pm] Loading tracks/obj_type_1\n",
      "[INFO][2024/06/03 07:25:46 pm] Loading LBEP/obj_type_1\n",
      "[INFO][2024/06/03 07:25:46 pm] Loading objects/obj_type_1 (44643, 5) (44643 filtered: None)\n",
      "[INFO][2024/06/03 07:25:47 pm] Closing HDF file: /mnt/SYNO/macrohet_syno/PS0000/labels/macrohet_seg_model/(4, 9).h5\n"
     ]
    },
    {
     "data": {
      "application/vnd.jupyter.widget-view+json": {
       "model_id": "",
       "version_major": 2,
       "version_minor": 0
      },
      "text/plain": [
       "Iterating over tracks:   0%|          | 0/518 [00:00<?, ?it/s]"
      ]
     },
     "metadata": {},
     "output_type": "display_data"
    },
    {
     "name": "stderr",
     "output_type": "stream",
     "text": [
      "[INFO][2024/06/03 07:29:06 pm] Opening HDF file: /mnt/SYNO/macrohet_syno/PS0000/labels/macrohet_seg_model/(5, 4).h5...\n",
      "[INFO][2024/06/03 07:29:16 pm] Loading segmentation (75, 6048, 6048)\n",
      "[INFO][2024/06/03 07:29:16 pm] Loading tracks/obj_type_1\n",
      "[INFO][2024/06/03 07:29:16 pm] Loading LBEP/obj_type_1\n",
      "[INFO][2024/06/03 07:29:16 pm] Loading objects/obj_type_1 (30664, 5) (30664 filtered: None)\n",
      "[INFO][2024/06/03 07:29:17 pm] Closing HDF file: /mnt/SYNO/macrohet_syno/PS0000/labels/macrohet_seg_model/(5, 4).h5\n"
     ]
    },
    {
     "data": {
      "application/vnd.jupyter.widget-view+json": {
       "model_id": "",
       "version_major": 2,
       "version_minor": 0
      },
      "text/plain": [
       "Iterating over tracks:   0%|          | 0/334 [00:00<?, ?it/s]"
      ]
     },
     "metadata": {},
     "output_type": "display_data"
    },
    {
     "name": "stderr",
     "output_type": "stream",
     "text": [
      "[INFO][2024/06/03 07:31:30 pm] Opening HDF file: /mnt/SYNO/macrohet_syno/PS0000/labels/macrohet_seg_model/(5, 5).h5...\n",
      "[INFO][2024/06/03 07:31:43 pm] Loading segmentation (75, 6048, 6048)\n",
      "[INFO][2024/06/03 07:31:43 pm] Loading tracks/obj_type_1\n",
      "[INFO][2024/06/03 07:31:43 pm] Loading LBEP/obj_type_1\n",
      "[INFO][2024/06/03 07:31:43 pm] Loading objects/obj_type_1 (42973, 5) (42973 filtered: None)\n",
      "[INFO][2024/06/03 07:31:44 pm] Closing HDF file: /mnt/SYNO/macrohet_syno/PS0000/labels/macrohet_seg_model/(5, 5).h5\n"
     ]
    },
    {
     "data": {
      "application/vnd.jupyter.widget-view+json": {
       "model_id": "",
       "version_major": 2,
       "version_minor": 0
      },
      "text/plain": [
       "Iterating over tracks:   0%|          | 0/454 [00:00<?, ?it/s]"
      ]
     },
     "metadata": {},
     "output_type": "display_data"
    },
    {
     "name": "stderr",
     "output_type": "stream",
     "text": [
      "[INFO][2024/06/03 07:34:45 pm] Opening HDF file: /mnt/SYNO/macrohet_syno/PS0000/labels/macrohet_seg_model/(5, 6).h5...\n",
      "[INFO][2024/06/03 07:34:55 pm] Loading segmentation (75, 6048, 6048)\n",
      "[INFO][2024/06/03 07:34:55 pm] Loading tracks/obj_type_1\n",
      "[INFO][2024/06/03 07:34:55 pm] Loading LBEP/obj_type_1\n",
      "[INFO][2024/06/03 07:34:55 pm] Loading objects/obj_type_1 (45678, 5) (45678 filtered: None)\n",
      "[INFO][2024/06/03 07:34:56 pm] Closing HDF file: /mnt/SYNO/macrohet_syno/PS0000/labels/macrohet_seg_model/(5, 6).h5\n"
     ]
    },
    {
     "data": {
      "application/vnd.jupyter.widget-view+json": {
       "model_id": "",
       "version_major": 2,
       "version_minor": 0
      },
      "text/plain": [
       "Iterating over tracks:   0%|          | 0/549 [00:00<?, ?it/s]"
      ]
     },
     "metadata": {},
     "output_type": "display_data"
    },
    {
     "name": "stderr",
     "output_type": "stream",
     "text": [
      "[INFO][2024/06/03 07:38:30 pm] Opening HDF file: /mnt/SYNO/macrohet_syno/PS0000/labels/macrohet_seg_model/(5, 7).h5...\n",
      "[INFO][2024/06/03 07:38:41 pm] Loading segmentation (75, 6048, 6048)\n",
      "[INFO][2024/06/03 07:38:41 pm] Loading tracks/obj_type_1\n",
      "[INFO][2024/06/03 07:38:41 pm] Loading LBEP/obj_type_1\n",
      "[INFO][2024/06/03 07:38:41 pm] Loading objects/obj_type_1 (47880, 5) (47880 filtered: None)\n",
      "[INFO][2024/06/03 07:38:42 pm] Closing HDF file: /mnt/SYNO/macrohet_syno/PS0000/labels/macrohet_seg_model/(5, 7).h5\n"
     ]
    },
    {
     "data": {
      "application/vnd.jupyter.widget-view+json": {
       "model_id": "",
       "version_major": 2,
       "version_minor": 0
      },
      "text/plain": [
       "Iterating over tracks:   0%|          | 0/614 [00:00<?, ?it/s]"
      ]
     },
     "metadata": {},
     "output_type": "display_data"
    },
    {
     "name": "stderr",
     "output_type": "stream",
     "text": [
      "[INFO][2024/06/03 07:42:50 pm] Opening HDF file: /mnt/SYNO/macrohet_syno/PS0000/labels/macrohet_seg_model/(5, 8).h5...\n",
      "[INFO][2024/06/03 07:43:01 pm] Loading segmentation (75, 6048, 6048)\n",
      "[INFO][2024/06/03 07:43:01 pm] Loading tracks/obj_type_1\n",
      "[INFO][2024/06/03 07:43:01 pm] Loading LBEP/obj_type_1\n",
      "[INFO][2024/06/03 07:43:02 pm] Loading objects/obj_type_1 (38531, 5) (38531 filtered: None)\n",
      "[INFO][2024/06/03 07:43:02 pm] Closing HDF file: /mnt/SYNO/macrohet_syno/PS0000/labels/macrohet_seg_model/(5, 8).h5\n"
     ]
    },
    {
     "data": {
      "application/vnd.jupyter.widget-view+json": {
       "model_id": "",
       "version_major": 2,
       "version_minor": 0
      },
      "text/plain": [
       "Iterating over tracks:   0%|          | 0/454 [00:00<?, ?it/s]"
      ]
     },
     "metadata": {},
     "output_type": "display_data"
    },
    {
     "name": "stderr",
     "output_type": "stream",
     "text": [
      "[INFO][2024/06/03 07:45:59 pm] Opening HDF file: /mnt/SYNO/macrohet_syno/PS0000/labels/macrohet_seg_model/(5, 9).h5...\n",
      "[INFO][2024/06/03 07:46:09 pm] Loading segmentation (75, 6048, 6048)\n",
      "[INFO][2024/06/03 07:46:09 pm] Loading tracks/obj_type_1\n",
      "[INFO][2024/06/03 07:46:09 pm] Loading LBEP/obj_type_1\n",
      "[INFO][2024/06/03 07:46:09 pm] Loading objects/obj_type_1 (33081, 5) (33081 filtered: None)\n",
      "[INFO][2024/06/03 07:46:10 pm] Closing HDF file: /mnt/SYNO/macrohet_syno/PS0000/labels/macrohet_seg_model/(5, 9).h5\n"
     ]
    },
    {
     "data": {
      "application/vnd.jupyter.widget-view+json": {
       "model_id": "",
       "version_major": 2,
       "version_minor": 0
      },
      "text/plain": [
       "Iterating over tracks:   0%|          | 0/177 [00:00<?, ?it/s]"
      ]
     },
     "metadata": {},
     "output_type": "display_data"
    },
    {
     "name": "stderr",
     "output_type": "stream",
     "text": [
      "[INFO][2024/06/03 07:47:18 pm] Opening HDF file: /mnt/SYNO/macrohet_syno/PS0000/labels/macrohet_seg_model/(6, 4).h5...\n",
      "[INFO][2024/06/03 07:47:28 pm] Loading segmentation (75, 6048, 6048)\n",
      "[INFO][2024/06/03 07:47:28 pm] Loading tracks/obj_type_1\n",
      "[INFO][2024/06/03 07:47:28 pm] Loading LBEP/obj_type_1\n",
      "[INFO][2024/06/03 07:47:28 pm] Loading objects/obj_type_1 (42961, 5) (42961 filtered: None)\n",
      "[INFO][2024/06/03 07:47:29 pm] Closing HDF file: /mnt/SYNO/macrohet_syno/PS0000/labels/macrohet_seg_model/(6, 4).h5\n"
     ]
    },
    {
     "data": {
      "application/vnd.jupyter.widget-view+json": {
       "model_id": "",
       "version_major": 2,
       "version_minor": 0
      },
      "text/plain": [
       "Iterating over tracks:   0%|          | 0/491 [00:00<?, ?it/s]"
      ]
     },
     "metadata": {},
     "output_type": "display_data"
    },
    {
     "name": "stderr",
     "output_type": "stream",
     "text": [
      "[INFO][2024/06/03 07:51:30 pm] Opening HDF file: /mnt/SYNO/macrohet_syno/PS0000/labels/macrohet_seg_model/(6, 5).h5...\n",
      "[INFO][2024/06/03 07:51:40 pm] Loading segmentation (75, 6048, 6048)\n",
      "[INFO][2024/06/03 07:51:40 pm] Loading tracks/obj_type_1\n",
      "[INFO][2024/06/03 07:51:40 pm] Loading LBEP/obj_type_1\n",
      "[INFO][2024/06/03 07:51:40 pm] Loading objects/obj_type_1 (46808, 5) (46808 filtered: None)\n",
      "[INFO][2024/06/03 07:51:41 pm] Closing HDF file: /mnt/SYNO/macrohet_syno/PS0000/labels/macrohet_seg_model/(6, 5).h5\n"
     ]
    },
    {
     "data": {
      "application/vnd.jupyter.widget-view+json": {
       "model_id": "",
       "version_major": 2,
       "version_minor": 0
      },
      "text/plain": [
       "Iterating over tracks:   0%|          | 0/513 [00:00<?, ?it/s]"
      ]
     },
     "metadata": {},
     "output_type": "display_data"
    },
    {
     "name": "stderr",
     "output_type": "stream",
     "text": [
      "[INFO][2024/06/03 07:55:06 pm] Opening HDF file: /mnt/SYNO/macrohet_syno/PS0000/labels/macrohet_seg_model/(6, 6).h5...\n",
      "[INFO][2024/06/03 07:55:15 pm] Loading segmentation (75, 6048, 6048)\n",
      "[INFO][2024/06/03 07:55:15 pm] Loading tracks/obj_type_1\n",
      "[INFO][2024/06/03 07:55:15 pm] Loading LBEP/obj_type_1\n",
      "[INFO][2024/06/03 07:55:15 pm] Loading objects/obj_type_1 (45688, 5) (45688 filtered: None)\n",
      "[INFO][2024/06/03 07:55:15 pm] Closing HDF file: /mnt/SYNO/macrohet_syno/PS0000/labels/macrohet_seg_model/(6, 6).h5\n"
     ]
    },
    {
     "data": {
      "application/vnd.jupyter.widget-view+json": {
       "model_id": "",
       "version_major": 2,
       "version_minor": 0
      },
      "text/plain": [
       "Iterating over tracks:   0%|          | 0/547 [00:00<?, ?it/s]"
      ]
     },
     "metadata": {},
     "output_type": "display_data"
    },
    {
     "name": "stderr",
     "output_type": "stream",
     "text": [
      "[INFO][2024/06/03 07:58:47 pm] Opening HDF file: /mnt/SYNO/macrohet_syno/PS0000/labels/macrohet_seg_model/(6, 7).h5...\n",
      "[INFO][2024/06/03 07:58:58 pm] Loading segmentation (75, 6048, 6048)\n",
      "[INFO][2024/06/03 07:58:58 pm] Loading tracks/obj_type_1\n",
      "[INFO][2024/06/03 07:58:58 pm] Loading LBEP/obj_type_1\n",
      "[INFO][2024/06/03 07:58:58 pm] Loading objects/obj_type_1 (45214, 5) (45214 filtered: None)\n",
      "[INFO][2024/06/03 07:58:59 pm] Closing HDF file: /mnt/SYNO/macrohet_syno/PS0000/labels/macrohet_seg_model/(6, 7).h5\n"
     ]
    },
    {
     "data": {
      "application/vnd.jupyter.widget-view+json": {
       "model_id": "",
       "version_major": 2,
       "version_minor": 0
      },
      "text/plain": [
       "Iterating over tracks:   0%|          | 0/570 [00:00<?, ?it/s]"
      ]
     },
     "metadata": {},
     "output_type": "display_data"
    },
    {
     "name": "stderr",
     "output_type": "stream",
     "text": [
      "[INFO][2024/06/03 08:02:56 pm] Opening HDF file: /mnt/SYNO/macrohet_syno/PS0000/labels/macrohet_seg_model/(6, 8).h5...\n",
      "[INFO][2024/06/03 08:03:05 pm] Loading segmentation (75, 6048, 6048)\n",
      "[INFO][2024/06/03 08:03:05 pm] Loading tracks/obj_type_1\n",
      "[INFO][2024/06/03 08:03:05 pm] Loading LBEP/obj_type_1\n",
      "[INFO][2024/06/03 08:03:05 pm] Loading objects/obj_type_1 (46267, 5) (46267 filtered: None)\n",
      "[INFO][2024/06/03 08:03:06 pm] Closing HDF file: /mnt/SYNO/macrohet_syno/PS0000/labels/macrohet_seg_model/(6, 8).h5\n"
     ]
    },
    {
     "data": {
      "application/vnd.jupyter.widget-view+json": {
       "model_id": "",
       "version_major": 2,
       "version_minor": 0
      },
      "text/plain": [
       "Iterating over tracks:   0%|          | 0/547 [00:00<?, ?it/s]"
      ]
     },
     "metadata": {},
     "output_type": "display_data"
    },
    {
     "name": "stderr",
     "output_type": "stream",
     "text": [
      "[INFO][2024/06/03 08:06:52 pm] Opening HDF file: /mnt/SYNO/macrohet_syno/PS0000/labels/macrohet_seg_model/(6, 9).h5...\n",
      "[INFO][2024/06/03 08:07:02 pm] Loading segmentation (75, 6048, 6048)\n",
      "[INFO][2024/06/03 08:07:02 pm] Loading tracks/obj_type_1\n",
      "[INFO][2024/06/03 08:07:02 pm] Loading LBEP/obj_type_1\n",
      "[INFO][2024/06/03 08:07:02 pm] Loading objects/obj_type_1 (35615, 5) (35615 filtered: None)\n",
      "[INFO][2024/06/03 08:07:03 pm] Closing HDF file: /mnt/SYNO/macrohet_syno/PS0000/labels/macrohet_seg_model/(6, 9).h5\n"
     ]
    },
    {
     "data": {
      "application/vnd.jupyter.widget-view+json": {
       "model_id": "",
       "version_major": 2,
       "version_minor": 0
      },
      "text/plain": [
       "Iterating over tracks:   0%|          | 0/239 [00:00<?, ?it/s]"
      ]
     },
     "metadata": {},
     "output_type": "display_data"
    },
    {
     "data": {
      "application/vnd.jupyter.widget-view+json": {
       "model_id": "68d5becb121144d7b8c5708d47e876a6",
       "version_major": 2,
       "version_minor": 0
      },
      "text/plain": [
       "  0%|          | 0/41 [00:00<?, ?it/s]"
      ]
     },
     "metadata": {},
     "output_type": "display_data"
    },
    {
     "name": "stderr",
     "output_type": "stream",
     "text": [
      "[INFO][2024/06/04 09:21:31 am] Opening HDF file: /mnt/SYNO/macrohet_syno/ND0002/labels/cpv3/(3, 1).h5...\n",
      "[INFO][2024/06/04 09:21:54 am] Loading segmentation (150, 6048, 6048)\n",
      "[INFO][2024/06/04 09:21:54 am] Loading tracks/obj_type_1\n",
      "[INFO][2024/06/04 09:21:54 am] Loading LBEP/obj_type_1\n",
      "[INFO][2024/06/04 09:21:54 am] Loading objects/obj_type_1 (15525, 5) (15525 filtered: None)\n",
      "[INFO][2024/06/04 09:21:54 am] Closing HDF file: /mnt/SYNO/macrohet_syno/ND0002/labels/cpv3/(3, 1).h5\n"
     ]
    },
    {
     "data": {
      "application/vnd.jupyter.widget-view+json": {
       "model_id": "c6484251e4124b03a15de022226231dd",
       "version_major": 2,
       "version_minor": 0
      },
      "text/plain": [
       "Iterating over tracks:   0%|          | 0/95 [00:00<?, ?it/s]"
      ]
     },
     "metadata": {},
     "output_type": "display_data"
    },
    {
     "name": "stderr",
     "output_type": "stream",
     "text": [
      "[INFO][2024/06/04 09:22:36 am] Opening HDF file: /mnt/SYNO/macrohet_syno/ND0002/labels/cpv3/(3, 2).h5...\n",
      "[INFO][2024/06/04 09:22:58 am] Loading segmentation (150, 6048, 6048)\n",
      "[INFO][2024/06/04 09:22:58 am] Loading tracks/obj_type_1\n",
      "[INFO][2024/06/04 09:22:58 am] Loading LBEP/obj_type_1\n",
      "[INFO][2024/06/04 09:22:58 am] Loading objects/obj_type_1 (15189, 5) (15189 filtered: None)\n",
      "[INFO][2024/06/04 09:22:59 am] Closing HDF file: /mnt/SYNO/macrohet_syno/ND0002/labels/cpv3/(3, 2).h5\n"
     ]
    },
    {
     "data": {
      "application/vnd.jupyter.widget-view+json": {
       "model_id": "8b573e356a3b48d98ba919eece523406",
       "version_major": 2,
       "version_minor": 0
      },
      "text/plain": [
       "Iterating over tracks:   0%|          | 0/103 [00:00<?, ?it/s]"
      ]
     },
     "metadata": {},
     "output_type": "display_data"
    },
    {
     "name": "stderr",
     "output_type": "stream",
     "text": [
      "[INFO][2024/06/04 09:23:44 am] Opening HDF file: /mnt/SYNO/macrohet_syno/ND0002/labels/cpv3/(3, 3).h5...\n",
      "[INFO][2024/06/04 09:24:09 am] Loading segmentation (150, 6048, 6048)\n",
      "[INFO][2024/06/04 09:24:09 am] Loading tracks/obj_type_1\n",
      "[INFO][2024/06/04 09:24:09 am] Loading LBEP/obj_type_1\n",
      "[INFO][2024/06/04 09:24:09 am] Loading objects/obj_type_1 (27753, 5) (27753 filtered: None)\n",
      "[INFO][2024/06/04 09:24:10 am] Closing HDF file: /mnt/SYNO/macrohet_syno/ND0002/labels/cpv3/(3, 3).h5\n"
     ]
    },
    {
     "data": {
      "application/vnd.jupyter.widget-view+json": {
       "model_id": "9e55a26ec32c4f03983dd93fe2543ff7",
       "version_major": 2,
       "version_minor": 0
      },
      "text/plain": [
       "Iterating over tracks:   0%|          | 0/185 [00:00<?, ?it/s]"
      ]
     },
     "metadata": {},
     "output_type": "display_data"
    },
    {
     "name": "stderr",
     "output_type": "stream",
     "text": [
      "[INFO][2024/06/04 09:25:32 am] Opening HDF file: /mnt/SYNO/macrohet_syno/ND0002/labels/cpv3/(3, 4).h5...\n",
      "[INFO][2024/06/04 09:25:54 am] Loading segmentation (150, 6048, 6048)\n",
      "[INFO][2024/06/04 09:25:54 am] Loading tracks/obj_type_1\n",
      "[INFO][2024/06/04 09:25:54 am] Loading LBEP/obj_type_1\n",
      "[INFO][2024/06/04 09:25:54 am] Loading objects/obj_type_1 (26949, 5) (26949 filtered: None)\n",
      "[INFO][2024/06/04 09:25:55 am] Closing HDF file: /mnt/SYNO/macrohet_syno/ND0002/labels/cpv3/(3, 4).h5\n"
     ]
    },
    {
     "data": {
      "application/vnd.jupyter.widget-view+json": {
       "model_id": "7b41e4348eb74dcdad35284bf3d994c7",
       "version_major": 2,
       "version_minor": 0
      },
      "text/plain": [
       "Iterating over tracks:   0%|          | 0/183 [00:00<?, ?it/s]"
      ]
     },
     "metadata": {},
     "output_type": "display_data"
    },
    {
     "name": "stderr",
     "output_type": "stream",
     "text": [
      "[INFO][2024/06/04 09:27:13 am] Opening HDF file: /mnt/SYNO/macrohet_syno/ND0002/labels/cpv3/(3, 5).h5...\n",
      "[INFO][2024/06/04 09:27:36 am] Loading segmentation (150, 6048, 6048)\n",
      "[INFO][2024/06/04 09:27:36 am] Loading tracks/obj_type_1\n",
      "[INFO][2024/06/04 09:27:36 am] Loading LBEP/obj_type_1\n",
      "[INFO][2024/06/04 09:27:36 am] Loading objects/obj_type_1 (26113, 5) (26113 filtered: None)\n",
      "[INFO][2024/06/04 09:27:37 am] Closing HDF file: /mnt/SYNO/macrohet_syno/ND0002/labels/cpv3/(3, 5).h5\n"
     ]
    },
    {
     "data": {
      "application/vnd.jupyter.widget-view+json": {
       "model_id": "37d00062ece24d43a913a892e164c3d9",
       "version_major": 2,
       "version_minor": 0
      },
      "text/plain": [
       "Iterating over tracks:   0%|          | 0/190 [00:00<?, ?it/s]"
      ]
     },
     "metadata": {},
     "output_type": "display_data"
    },
    {
     "name": "stderr",
     "output_type": "stream",
     "text": [
      "[INFO][2024/06/04 09:28:55 am] Opening HDF file: /mnt/SYNO/macrohet_syno/ND0002/labels/cpv3/(3, 6).h5...\n",
      "[INFO][2024/06/04 09:29:17 am] Loading segmentation (150, 6048, 6048)\n",
      "[INFO][2024/06/04 09:29:17 am] Loading tracks/obj_type_1\n",
      "[INFO][2024/06/04 09:29:18 am] Loading LBEP/obj_type_1\n",
      "[INFO][2024/06/04 09:29:18 am] Loading objects/obj_type_1 (27965, 5) (27965 filtered: None)\n",
      "[INFO][2024/06/04 09:29:18 am] Closing HDF file: /mnt/SYNO/macrohet_syno/ND0002/labels/cpv3/(3, 6).h5\n"
     ]
    },
    {
     "data": {
      "application/vnd.jupyter.widget-view+json": {
       "model_id": "5a07f957690949779ae845eb2695c348",
       "version_major": 2,
       "version_minor": 0
      },
      "text/plain": [
       "Iterating over tracks:   0%|          | 0/239 [00:00<?, ?it/s]"
      ]
     },
     "metadata": {},
     "output_type": "display_data"
    },
    {
     "name": "stderr",
     "output_type": "stream",
     "text": [
      "[INFO][2024/06/04 09:30:57 am] Opening HDF file: /mnt/SYNO/macrohet_syno/ND0002/labels/cpv3/(3, 7).h5...\n",
      "[INFO][2024/06/04 09:31:19 am] Loading segmentation (150, 6048, 6048)\n",
      "[INFO][2024/06/04 09:31:19 am] Loading tracks/obj_type_1\n",
      "[INFO][2024/06/04 09:31:19 am] Loading LBEP/obj_type_1\n",
      "[INFO][2024/06/04 09:31:19 am] Loading objects/obj_type_1 (15392, 5) (15392 filtered: None)\n",
      "[INFO][2024/06/04 09:31:19 am] Closing HDF file: /mnt/SYNO/macrohet_syno/ND0002/labels/cpv3/(3, 7).h5\n"
     ]
    },
    {
     "data": {
      "application/vnd.jupyter.widget-view+json": {
       "model_id": "ceb6d88e105d4ca9aa58fa9aefb309f8",
       "version_major": 2,
       "version_minor": 0
      },
      "text/plain": [
       "Iterating over tracks:   0%|          | 0/67 [00:00<?, ?it/s]"
      ]
     },
     "metadata": {},
     "output_type": "display_data"
    },
    {
     "name": "stderr",
     "output_type": "stream",
     "text": [
      "[INFO][2024/06/04 09:31:47 am] Opening HDF file: /mnt/SYNO/macrohet_syno/ND0002/labels/cpv3/(3, 8).h5...\n",
      "[INFO][2024/06/04 09:32:08 am] Loading segmentation (150, 6048, 6048)\n",
      "[INFO][2024/06/04 09:32:08 am] Loading tracks/obj_type_1\n",
      "[INFO][2024/06/04 09:32:08 am] Loading LBEP/obj_type_1\n",
      "[INFO][2024/06/04 09:32:08 am] Loading objects/obj_type_1 (17939, 5) (17939 filtered: None)\n",
      "[INFO][2024/06/04 09:32:09 am] Closing HDF file: /mnt/SYNO/macrohet_syno/ND0002/labels/cpv3/(3, 8).h5\n"
     ]
    },
    {
     "data": {
      "application/vnd.jupyter.widget-view+json": {
       "model_id": "9a9c486a496945a6aca3537255476ea7",
       "version_major": 2,
       "version_minor": 0
      },
      "text/plain": [
       "Iterating over tracks:   0%|          | 0/104 [00:00<?, ?it/s]"
      ]
     },
     "metadata": {},
     "output_type": "display_data"
    },
    {
     "name": "stderr",
     "output_type": "stream",
     "text": [
      "[INFO][2024/06/04 09:32:48 am] Opening HDF file: /mnt/SYNO/macrohet_syno/ND0002/labels/cpv3/(3, 9).h5...\n",
      "[INFO][2024/06/04 09:33:10 am] Loading segmentation (150, 6048, 6048)\n",
      "[INFO][2024/06/04 09:33:10 am] Loading tracks/obj_type_1\n",
      "[INFO][2024/06/04 09:33:10 am] Loading LBEP/obj_type_1\n",
      "[INFO][2024/06/04 09:33:11 am] Loading objects/obj_type_1 (20179, 5) (20179 filtered: None)\n",
      "[INFO][2024/06/04 09:33:11 am] Closing HDF file: /mnt/SYNO/macrohet_syno/ND0002/labels/cpv3/(3, 9).h5\n"
     ]
    },
    {
     "data": {
      "application/vnd.jupyter.widget-view+json": {
       "model_id": "5762c1782bf44474bb4b03ba5313b788",
       "version_major": 2,
       "version_minor": 0
      },
      "text/plain": [
       "Iterating over tracks:   0%|          | 0/126 [00:00<?, ?it/s]"
      ]
     },
     "metadata": {},
     "output_type": "display_data"
    },
    {
     "name": "stderr",
     "output_type": "stream",
     "text": [
      "[INFO][2024/06/04 09:34:03 am] Opening HDF file: /mnt/SYNO/macrohet_syno/ND0002/labels/cpv3/(3, 10).h5...\n",
      "[INFO][2024/06/04 09:34:25 am] Loading segmentation (150, 6048, 6048)\n",
      "[INFO][2024/06/04 09:34:25 am] Loading tracks/obj_type_1\n",
      "[INFO][2024/06/04 09:34:25 am] Loading LBEP/obj_type_1\n",
      "[INFO][2024/06/04 09:34:25 am] Loading objects/obj_type_1 (14083, 5) (14083 filtered: None)\n",
      "[INFO][2024/06/04 09:34:26 am] Closing HDF file: /mnt/SYNO/macrohet_syno/ND0002/labels/cpv3/(3, 10).h5\n"
     ]
    },
    {
     "data": {
      "application/vnd.jupyter.widget-view+json": {
       "model_id": "4f721c86c4b84939a69928cb9020da30",
       "version_major": 2,
       "version_minor": 0
      },
      "text/plain": [
       "Iterating over tracks:   0%|          | 0/76 [00:00<?, ?it/s]"
      ]
     },
     "metadata": {},
     "output_type": "display_data"
    },
    {
     "name": "stderr",
     "output_type": "stream",
     "text": [
      "[INFO][2024/06/04 09:34:56 am] Opening HDF file: /mnt/SYNO/macrohet_syno/ND0002/labels/cpv3/(3, 11).h5...\n",
      "[INFO][2024/06/04 09:35:19 am] Loading segmentation (150, 6048, 6048)\n",
      "[INFO][2024/06/04 09:35:19 am] Loading tracks/obj_type_1\n",
      "[INFO][2024/06/04 09:35:19 am] Loading LBEP/obj_type_1\n",
      "[INFO][2024/06/04 09:35:19 am] Loading objects/obj_type_1 (12685, 5) (12685 filtered: None)\n",
      "[INFO][2024/06/04 09:35:20 am] Closing HDF file: /mnt/SYNO/macrohet_syno/ND0002/labels/cpv3/(3, 11).h5\n"
     ]
    },
    {
     "data": {
      "application/vnd.jupyter.widget-view+json": {
       "model_id": "64801a1c900c43418dc8065a195528b4",
       "version_major": 2,
       "version_minor": 0
      },
      "text/plain": [
       "Iterating over tracks:   0%|          | 0/106 [00:00<?, ?it/s]"
      ]
     },
     "metadata": {},
     "output_type": "display_data"
    },
    {
     "name": "stderr",
     "output_type": "stream",
     "text": [
      "[INFO][2024/06/04 09:36:03 am] Opening HDF file: /mnt/SYNO/macrohet_syno/ND0002/labels/cpv3/(3, 12).h5...\n",
      "[INFO][2024/06/04 09:36:27 am] Loading segmentation (150, 6048, 6048)\n",
      "[INFO][2024/06/04 09:36:27 am] Loading tracks/obj_type_1\n",
      "[INFO][2024/06/04 09:36:27 am] Loading LBEP/obj_type_1\n",
      "[INFO][2024/06/04 09:36:27 am] Loading objects/obj_type_1 (8336, 5) (8336 filtered: None)\n",
      "[INFO][2024/06/04 09:36:27 am] Closing HDF file: /mnt/SYNO/macrohet_syno/ND0002/labels/cpv3/(3, 12).h5\n"
     ]
    },
    {
     "data": {
      "application/vnd.jupyter.widget-view+json": {
       "model_id": "f863c486a57243c1b1bb28a535007234",
       "version_major": 2,
       "version_minor": 0
      },
      "text/plain": [
       "Iterating over tracks:   0%|          | 0/74 [00:00<?, ?it/s]"
      ]
     },
     "metadata": {},
     "output_type": "display_data"
    },
    {
     "name": "stderr",
     "output_type": "stream",
     "text": [
      "[INFO][2024/06/04 09:36:58 am] Opening HDF file: /mnt/SYNO/macrohet_syno/ND0002/labels/cpv3/(4, 3).h5...\n",
      "[INFO][2024/06/04 09:37:19 am] Loading segmentation (150, 6048, 6048)\n",
      "[INFO][2024/06/04 09:37:19 am] Loading tracks/obj_type_1\n",
      "[INFO][2024/06/04 09:37:19 am] Loading LBEP/obj_type_1\n",
      "[INFO][2024/06/04 09:37:19 am] Loading objects/obj_type_1 (27621, 5) (27621 filtered: None)\n",
      "[INFO][2024/06/04 09:37:20 am] Closing HDF file: /mnt/SYNO/macrohet_syno/ND0002/labels/cpv3/(4, 3).h5\n"
     ]
    },
    {
     "data": {
      "application/vnd.jupyter.widget-view+json": {
       "model_id": "2f8bdad6e3dd41cdbd72486dfa226db4",
       "version_major": 2,
       "version_minor": 0
      },
      "text/plain": [
       "Iterating over tracks:   0%|          | 0/222 [00:00<?, ?it/s]"
      ]
     },
     "metadata": {},
     "output_type": "display_data"
    },
    {
     "name": "stderr",
     "output_type": "stream",
     "text": [
      "[INFO][2024/06/04 09:38:51 am] Opening HDF file: /mnt/SYNO/macrohet_syno/ND0002/labels/cpv3/(4, 4).h5...\n",
      "[INFO][2024/06/04 09:39:12 am] Loading segmentation (150, 6048, 6048)\n",
      "[INFO][2024/06/04 09:39:12 am] Loading tracks/obj_type_1\n",
      "[INFO][2024/06/04 09:39:12 am] Loading LBEP/obj_type_1\n",
      "[INFO][2024/06/04 09:39:13 am] Loading objects/obj_type_1 (27406, 5) (27406 filtered: None)\n",
      "[INFO][2024/06/04 09:39:13 am] Closing HDF file: /mnt/SYNO/macrohet_syno/ND0002/labels/cpv3/(4, 4).h5\n"
     ]
    },
    {
     "data": {
      "application/vnd.jupyter.widget-view+json": {
       "model_id": "fa52f6c519e345d6845d8a9396718373",
       "version_major": 2,
       "version_minor": 0
      },
      "text/plain": [
       "Iterating over tracks:   0%|          | 0/212 [00:00<?, ?it/s]"
      ]
     },
     "metadata": {},
     "output_type": "display_data"
    },
    {
     "name": "stderr",
     "output_type": "stream",
     "text": [
      "[INFO][2024/06/04 09:40:36 am] Opening HDF file: /mnt/SYNO/macrohet_syno/ND0002/labels/cpv3/(4, 5).h5...\n",
      "[INFO][2024/06/04 09:41:00 am] Loading segmentation (150, 6048, 6048)\n",
      "[INFO][2024/06/04 09:41:00 am] Loading tracks/obj_type_1\n",
      "[INFO][2024/06/04 09:41:00 am] Loading LBEP/obj_type_1\n",
      "[INFO][2024/06/04 09:41:00 am] Loading objects/obj_type_1 (24771, 5) (24771 filtered: None)\n",
      "[INFO][2024/06/04 09:41:01 am] Closing HDF file: /mnt/SYNO/macrohet_syno/ND0002/labels/cpv3/(4, 5).h5\n"
     ]
    },
    {
     "data": {
      "application/vnd.jupyter.widget-view+json": {
       "model_id": "1868cabf5ce04126b6f80ffa9b3ea882",
       "version_major": 2,
       "version_minor": 0
      },
      "text/plain": [
       "Iterating over tracks:   0%|          | 0/169 [00:00<?, ?it/s]"
      ]
     },
     "metadata": {},
     "output_type": "display_data"
    },
    {
     "name": "stderr",
     "output_type": "stream",
     "text": [
      "[INFO][2024/06/04 09:42:14 am] Opening HDF file: /mnt/SYNO/macrohet_syno/ND0002/labels/cpv3/(4, 6).h5...\n",
      "[INFO][2024/06/04 09:42:36 am] Loading segmentation (150, 6048, 6048)\n",
      "[INFO][2024/06/04 09:42:36 am] Loading tracks/obj_type_1\n",
      "[INFO][2024/06/04 09:42:36 am] Loading LBEP/obj_type_1\n",
      "[INFO][2024/06/04 09:42:37 am] Loading objects/obj_type_1 (26391, 5) (26391 filtered: None)\n",
      "[INFO][2024/06/04 09:42:37 am] Closing HDF file: /mnt/SYNO/macrohet_syno/ND0002/labels/cpv3/(4, 6).h5\n"
     ]
    },
    {
     "data": {
      "application/vnd.jupyter.widget-view+json": {
       "model_id": "6f8edb03eea34f0cbc45d8c9129e2a85",
       "version_major": 2,
       "version_minor": 0
      },
      "text/plain": [
       "Iterating over tracks:   0%|          | 0/204 [00:00<?, ?it/s]"
      ]
     },
     "metadata": {},
     "output_type": "display_data"
    },
    {
     "name": "stderr",
     "output_type": "stream",
     "text": [
      "[INFO][2024/06/04 09:44:01 am] Opening HDF file: /mnt/SYNO/macrohet_syno/ND0002/labels/cpv3/(4, 7).h5...\n",
      "[INFO][2024/06/04 09:44:22 am] Loading segmentation (150, 6048, 6048)\n",
      "[INFO][2024/06/04 09:44:22 am] Loading tracks/obj_type_1\n",
      "[INFO][2024/06/04 09:44:22 am] Loading LBEP/obj_type_1\n",
      "[INFO][2024/06/04 09:44:23 am] Loading objects/obj_type_1 (23239, 5) (23239 filtered: None)\n",
      "[INFO][2024/06/04 09:44:23 am] Closing HDF file: /mnt/SYNO/macrohet_syno/ND0002/labels/cpv3/(4, 7).h5\n"
     ]
    },
    {
     "data": {
      "application/vnd.jupyter.widget-view+json": {
       "model_id": "122a86e147ad4d5881ac960b0fe98b63",
       "version_major": 2,
       "version_minor": 0
      },
      "text/plain": [
       "Iterating over tracks:   0%|          | 0/154 [00:00<?, ?it/s]"
      ]
     },
     "metadata": {},
     "output_type": "display_data"
    },
    {
     "name": "stderr",
     "output_type": "stream",
     "text": [
      "[INFO][2024/06/04 09:45:28 am] Opening HDF file: /mnt/SYNO/macrohet_syno/ND0002/labels/cpv3/(4, 8).h5...\n",
      "[INFO][2024/06/04 09:45:51 am] Loading segmentation (150, 6048, 6048)\n",
      "[INFO][2024/06/04 09:45:51 am] Loading tracks/obj_type_1\n",
      "[INFO][2024/06/04 09:45:51 am] Loading LBEP/obj_type_1\n",
      "[INFO][2024/06/04 09:45:51 am] Loading objects/obj_type_1 (22597, 5) (22597 filtered: None)\n",
      "[INFO][2024/06/04 09:45:51 am] Closing HDF file: /mnt/SYNO/macrohet_syno/ND0002/labels/cpv3/(4, 8).h5\n"
     ]
    },
    {
     "data": {
      "application/vnd.jupyter.widget-view+json": {
       "model_id": "792954337b20407f8d0a402b71bc86b2",
       "version_major": 2,
       "version_minor": 0
      },
      "text/plain": [
       "Iterating over tracks:   0%|          | 0/138 [00:00<?, ?it/s]"
      ]
     },
     "metadata": {},
     "output_type": "display_data"
    },
    {
     "name": "stderr",
     "output_type": "stream",
     "text": [
      "[INFO][2024/06/04 09:46:49 am] Opening HDF file: /mnt/SYNO/macrohet_syno/ND0002/labels/cpv3/(4, 9).h5...\n",
      "[INFO][2024/06/04 09:47:15 am] Loading segmentation (150, 6048, 6048)\n",
      "[INFO][2024/06/04 09:47:15 am] Loading tracks/obj_type_1\n",
      "[INFO][2024/06/04 09:47:15 am] Loading LBEP/obj_type_1\n",
      "[INFO][2024/06/04 09:47:15 am] Loading objects/obj_type_1 (24136, 5) (24136 filtered: None)\n",
      "[INFO][2024/06/04 09:47:16 am] Closing HDF file: /mnt/SYNO/macrohet_syno/ND0002/labels/cpv3/(4, 9).h5\n"
     ]
    },
    {
     "data": {
      "application/vnd.jupyter.widget-view+json": {
       "model_id": "219c37d07a0c4c299feb7192e6206cc9",
       "version_major": 2,
       "version_minor": 0
      },
      "text/plain": [
       "Iterating over tracks:   0%|          | 0/126 [00:00<?, ?it/s]"
      ]
     },
     "metadata": {},
     "output_type": "display_data"
    },
    {
     "name": "stderr",
     "output_type": "stream",
     "text": [
      "[INFO][2024/06/04 09:48:10 am] Opening HDF file: /mnt/SYNO/macrohet_syno/ND0002/labels/cpv3/(4, 10).h5...\n",
      "[INFO][2024/06/04 09:48:31 am] Loading segmentation (150, 6048, 6048)\n",
      "[INFO][2024/06/04 09:48:31 am] Loading tracks/obj_type_1\n",
      "[INFO][2024/06/04 09:48:31 am] Loading LBEP/obj_type_1\n",
      "[INFO][2024/06/04 09:48:31 am] Loading objects/obj_type_1 (22088, 5) (22088 filtered: None)\n",
      "[INFO][2024/06/04 09:48:32 am] Closing HDF file: /mnt/SYNO/macrohet_syno/ND0002/labels/cpv3/(4, 10).h5\n"
     ]
    },
    {
     "data": {
      "application/vnd.jupyter.widget-view+json": {
       "model_id": "827e1bc1a75040818c3f2f7bcb059cad",
       "version_major": 2,
       "version_minor": 0
      },
      "text/plain": [
       "Iterating over tracks:   0%|          | 0/103 [00:00<?, ?it/s]"
      ]
     },
     "metadata": {},
     "output_type": "display_data"
    },
    {
     "name": "stderr",
     "output_type": "stream",
     "text": [
      "[INFO][2024/06/04 09:49:16 am] Opening HDF file: /mnt/SYNO/macrohet_syno/ND0002/labels/cpv3/(4, 11).h5...\n",
      "[INFO][2024/06/04 09:49:39 am] Loading segmentation (150, 6048, 6048)\n",
      "[INFO][2024/06/04 09:49:39 am] Loading tracks/obj_type_1\n",
      "[INFO][2024/06/04 09:49:39 am] Loading LBEP/obj_type_1\n",
      "[INFO][2024/06/04 09:49:39 am] Loading objects/obj_type_1 (14929, 5) (14929 filtered: None)\n",
      "[INFO][2024/06/04 09:49:39 am] Closing HDF file: /mnt/SYNO/macrohet_syno/ND0002/labels/cpv3/(4, 11).h5\n"
     ]
    },
    {
     "data": {
      "application/vnd.jupyter.widget-view+json": {
       "model_id": "9d9284ca6aae46f980e2fe50f945655e",
       "version_major": 2,
       "version_minor": 0
      },
      "text/plain": [
       "Iterating over tracks:   0%|          | 0/95 [00:00<?, ?it/s]"
      ]
     },
     "metadata": {},
     "output_type": "display_data"
    },
    {
     "name": "stderr",
     "output_type": "stream",
     "text": [
      "[INFO][2024/06/04 09:50:20 am] Opening HDF file: /mnt/SYNO/macrohet_syno/ND0002/labels/cpv3/(4, 12).h5...\n",
      "[INFO][2024/06/04 09:50:43 am] Loading segmentation (150, 6048, 6048)\n",
      "[INFO][2024/06/04 09:50:43 am] Loading tracks/obj_type_1\n",
      "[INFO][2024/06/04 09:50:43 am] Loading LBEP/obj_type_1\n",
      "[INFO][2024/06/04 09:50:44 am] Loading objects/obj_type_1 (12150, 5) (12150 filtered: None)\n",
      "[INFO][2024/06/04 09:50:44 am] Closing HDF file: /mnt/SYNO/macrohet_syno/ND0002/labels/cpv3/(4, 12).h5\n"
     ]
    },
    {
     "data": {
      "application/vnd.jupyter.widget-view+json": {
       "model_id": "1684a06b1a4b41dfaac89a670fa14ad4",
       "version_major": 2,
       "version_minor": 0
      },
      "text/plain": [
       "Iterating over tracks:   0%|          | 0/66 [00:00<?, ?it/s]"
      ]
     },
     "metadata": {},
     "output_type": "display_data"
    },
    {
     "name": "stderr",
     "output_type": "stream",
     "text": [
      "[INFO][2024/06/04 09:51:10 am] Opening HDF file: /mnt/SYNO/macrohet_syno/ND0002/labels/cpv3/(5, 3).h5...\n",
      "[INFO][2024/06/04 09:51:32 am] Loading segmentation (150, 6048, 6048)\n",
      "[INFO][2024/06/04 09:51:32 am] Loading tracks/obj_type_1\n",
      "[INFO][2024/06/04 09:51:32 am] Loading LBEP/obj_type_1\n",
      "[INFO][2024/06/04 09:51:33 am] Loading objects/obj_type_1 (17399, 5) (17399 filtered: None)\n",
      "[INFO][2024/06/04 09:51:33 am] Closing HDF file: /mnt/SYNO/macrohet_syno/ND0002/labels/cpv3/(5, 3).h5\n"
     ]
    },
    {
     "data": {
      "application/vnd.jupyter.widget-view+json": {
       "model_id": "7e57d1a1a7224f17aebc104fc185b541",
       "version_major": 2,
       "version_minor": 0
      },
      "text/plain": [
       "Iterating over tracks:   0%|          | 0/96 [00:00<?, ?it/s]"
      ]
     },
     "metadata": {},
     "output_type": "display_data"
    },
    {
     "name": "stderr",
     "output_type": "stream",
     "text": [
      "[INFO][2024/06/04 09:52:13 am] Opening HDF file: /mnt/SYNO/macrohet_syno/ND0002/labels/cpv3/(5, 4).h5...\n",
      "[INFO][2024/06/04 09:52:35 am] Loading segmentation (150, 6048, 6048)\n",
      "[INFO][2024/06/04 09:52:35 am] Loading tracks/obj_type_1\n",
      "[INFO][2024/06/04 09:52:35 am] Loading LBEP/obj_type_1\n",
      "[INFO][2024/06/04 09:52:35 am] Loading objects/obj_type_1 (16764, 5) (16764 filtered: None)\n",
      "[INFO][2024/06/04 09:52:35 am] Closing HDF file: /mnt/SYNO/macrohet_syno/ND0002/labels/cpv3/(5, 4).h5\n"
     ]
    },
    {
     "data": {
      "application/vnd.jupyter.widget-view+json": {
       "model_id": "425d6de11fdb45bd9a3eedc1da99f702",
       "version_major": 2,
       "version_minor": 0
      },
      "text/plain": [
       "Iterating over tracks:   0%|          | 0/92 [00:00<?, ?it/s]"
      ]
     },
     "metadata": {},
     "output_type": "display_data"
    },
    {
     "name": "stderr",
     "output_type": "stream",
     "text": [
      "[INFO][2024/06/04 09:53:13 am] Opening HDF file: /mnt/SYNO/macrohet_syno/ND0002/labels/cpv3/(5, 5).h5...\n",
      "[INFO][2024/06/04 09:53:35 am] Loading segmentation (150, 6048, 6048)\n",
      "[INFO][2024/06/04 09:53:35 am] Loading tracks/obj_type_1\n",
      "[INFO][2024/06/04 09:53:35 am] Loading LBEP/obj_type_1\n",
      "[INFO][2024/06/04 09:53:35 am] Loading objects/obj_type_1 (18133, 5) (18133 filtered: None)\n",
      "[INFO][2024/06/04 09:53:35 am] Closing HDF file: /mnt/SYNO/macrohet_syno/ND0002/labels/cpv3/(5, 5).h5\n"
     ]
    },
    {
     "data": {
      "application/vnd.jupyter.widget-view+json": {
       "model_id": "f158a8cc2e7244b8878ce1a061d3d122",
       "version_major": 2,
       "version_minor": 0
      },
      "text/plain": [
       "Iterating over tracks:   0%|          | 0/112 [00:00<?, ?it/s]"
      ]
     },
     "metadata": {},
     "output_type": "display_data"
    },
    {
     "name": "stderr",
     "output_type": "stream",
     "text": [
      "[INFO][2024/06/04 09:54:22 am] Opening HDF file: /mnt/SYNO/macrohet_syno/ND0002/labels/cpv3/(5, 6).h5...\n",
      "[INFO][2024/06/04 09:54:45 am] Loading segmentation (150, 6048, 6048)\n",
      "[INFO][2024/06/04 09:54:45 am] Loading tracks/obj_type_1\n",
      "[INFO][2024/06/04 09:54:45 am] Loading LBEP/obj_type_1\n",
      "[INFO][2024/06/04 09:54:46 am] Loading objects/obj_type_1 (13392, 5) (13392 filtered: None)\n",
      "[INFO][2024/06/04 09:54:46 am] Closing HDF file: /mnt/SYNO/macrohet_syno/ND0002/labels/cpv3/(5, 6).h5\n"
     ]
    },
    {
     "data": {
      "application/vnd.jupyter.widget-view+json": {
       "model_id": "52043c3d999340c2b40eb00b2edb3256",
       "version_major": 2,
       "version_minor": 0
      },
      "text/plain": [
       "Iterating over tracks:   0%|          | 0/76 [00:00<?, ?it/s]"
      ]
     },
     "metadata": {},
     "output_type": "display_data"
    },
    {
     "name": "stderr",
     "output_type": "stream",
     "text": [
      "[INFO][2024/06/04 09:55:16 am] Opening HDF file: /mnt/SYNO/macrohet_syno/ND0002/labels/cpv3/(5, 7).h5...\n",
      "[INFO][2024/06/04 09:55:40 am] Loading segmentation (150, 6048, 6048)\n",
      "[INFO][2024/06/04 09:55:40 am] Loading tracks/obj_type_1\n",
      "[INFO][2024/06/04 09:55:40 am] Loading LBEP/obj_type_1\n",
      "[INFO][2024/06/04 09:55:40 am] Loading objects/obj_type_1 (14723, 5) (14723 filtered: None)\n",
      "[INFO][2024/06/04 09:55:40 am] Closing HDF file: /mnt/SYNO/macrohet_syno/ND0002/labels/cpv3/(5, 7).h5\n"
     ]
    },
    {
     "data": {
      "application/vnd.jupyter.widget-view+json": {
       "model_id": "52d95eed25a348e299e539aa2668facf",
       "version_major": 2,
       "version_minor": 0
      },
      "text/plain": [
       "Iterating over tracks:   0%|          | 0/93 [00:00<?, ?it/s]"
      ]
     },
     "metadata": {},
     "output_type": "display_data"
    },
    {
     "name": "stderr",
     "output_type": "stream",
     "text": [
      "[INFO][2024/06/04 09:56:17 am] Opening HDF file: /mnt/SYNO/macrohet_syno/ND0002/labels/cpv3/(5, 8).h5...\n",
      "[INFO][2024/06/04 09:56:40 am] Loading segmentation (150, 6048, 6048)\n",
      "[INFO][2024/06/04 09:56:40 am] Loading tracks/obj_type_1\n",
      "[INFO][2024/06/04 09:56:40 am] Loading LBEP/obj_type_1\n",
      "[INFO][2024/06/04 09:56:40 am] Loading objects/obj_type_1 (14960, 5) (14960 filtered: None)\n",
      "[INFO][2024/06/04 09:56:40 am] Closing HDF file: /mnt/SYNO/macrohet_syno/ND0002/labels/cpv3/(5, 8).h5\n"
     ]
    },
    {
     "data": {
      "application/vnd.jupyter.widget-view+json": {
       "model_id": "77efcd9bf86c474fa05fde39c0d2b197",
       "version_major": 2,
       "version_minor": 0
      },
      "text/plain": [
       "Iterating over tracks:   0%|          | 0/78 [00:00<?, ?it/s]"
      ]
     },
     "metadata": {},
     "output_type": "display_data"
    },
    {
     "name": "stderr",
     "output_type": "stream",
     "text": [
      "[INFO][2024/06/04 09:57:13 am] Opening HDF file: /mnt/SYNO/macrohet_syno/ND0002/labels/cpv3/(5, 9).h5...\n",
      "[INFO][2024/06/04 09:57:36 am] Loading segmentation (150, 6048, 6048)\n",
      "[INFO][2024/06/04 09:57:36 am] Loading tracks/obj_type_1\n",
      "[INFO][2024/06/04 09:57:36 am] Loading LBEP/obj_type_1\n",
      "[INFO][2024/06/04 09:57:36 am] Loading objects/obj_type_1 (14153, 5) (14153 filtered: None)\n",
      "[INFO][2024/06/04 09:57:37 am] Closing HDF file: /mnt/SYNO/macrohet_syno/ND0002/labels/cpv3/(5, 9).h5\n"
     ]
    },
    {
     "data": {
      "application/vnd.jupyter.widget-view+json": {
       "model_id": "f34c51a321e5499d8e821d25e0fbd6dd",
       "version_major": 2,
       "version_minor": 0
      },
      "text/plain": [
       "Iterating over tracks:   0%|          | 0/68 [00:00<?, ?it/s]"
      ]
     },
     "metadata": {},
     "output_type": "display_data"
    },
    {
     "name": "stderr",
     "output_type": "stream",
     "text": [
      "[INFO][2024/06/04 09:58:04 am] Opening HDF file: /mnt/SYNO/macrohet_syno/ND0002/labels/cpv3/(5, 10).h5...\n",
      "[INFO][2024/06/04 09:58:26 am] Loading segmentation (150, 6048, 6048)\n",
      "[INFO][2024/06/04 09:58:26 am] Loading tracks/obj_type_1\n",
      "[INFO][2024/06/04 09:58:26 am] Loading LBEP/obj_type_1\n",
      "[INFO][2024/06/04 09:58:26 am] Loading objects/obj_type_1 (15564, 5) (15564 filtered: None)\n",
      "[INFO][2024/06/04 09:58:26 am] Closing HDF file: /mnt/SYNO/macrohet_syno/ND0002/labels/cpv3/(5, 10).h5\n"
     ]
    },
    {
     "data": {
      "application/vnd.jupyter.widget-view+json": {
       "model_id": "2c65166903324e5b813eb25f4105be59",
       "version_major": 2,
       "version_minor": 0
      },
      "text/plain": [
       "Iterating over tracks:   0%|          | 0/81 [00:00<?, ?it/s]"
      ]
     },
     "metadata": {},
     "output_type": "display_data"
    },
    {
     "name": "stderr",
     "output_type": "stream",
     "text": [
      "[INFO][2024/06/04 09:59:01 am] Opening HDF file: /mnt/SYNO/macrohet_syno/ND0002/labels/cpv3/(5, 11).h5...\n",
      "[INFO][2024/06/04 09:59:25 am] Loading segmentation (150, 6048, 6048)\n",
      "[INFO][2024/06/04 09:59:25 am] Loading tracks/obj_type_1\n",
      "[INFO][2024/06/04 09:59:25 am] Loading LBEP/obj_type_1\n",
      "[INFO][2024/06/04 09:59:25 am] Loading objects/obj_type_1 (10982, 5) (10982 filtered: None)\n",
      "[INFO][2024/06/04 09:59:25 am] Closing HDF file: /mnt/SYNO/macrohet_syno/ND0002/labels/cpv3/(5, 11).h5\n"
     ]
    },
    {
     "data": {
      "application/vnd.jupyter.widget-view+json": {
       "model_id": "e0ca4d823f29435e98911ac5b04b48de",
       "version_major": 2,
       "version_minor": 0
      },
      "text/plain": [
       "Iterating over tracks:   0%|          | 0/72 [00:00<?, ?it/s]"
      ]
     },
     "metadata": {},
     "output_type": "display_data"
    },
    {
     "name": "stderr",
     "output_type": "stream",
     "text": [
      "[INFO][2024/06/04 09:59:52 am] Opening HDF file: /mnt/SYNO/macrohet_syno/ND0002/labels/cpv3/(5, 12).h5...\n",
      "[INFO][2024/06/04 10:00:14 am] Loading segmentation (150, 6048, 6048)\n",
      "[INFO][2024/06/04 10:00:14 am] Loading tracks/obj_type_1\n",
      "[INFO][2024/06/04 10:00:14 am] Loading LBEP/obj_type_1\n",
      "[INFO][2024/06/04 10:00:14 am] Loading objects/obj_type_1 (11181, 5) (11181 filtered: None)\n",
      "[INFO][2024/06/04 10:00:14 am] Closing HDF file: /mnt/SYNO/macrohet_syno/ND0002/labels/cpv3/(5, 12).h5\n"
     ]
    },
    {
     "data": {
      "application/vnd.jupyter.widget-view+json": {
       "model_id": "8d26e704e901423084d49c121126f4d1",
       "version_major": 2,
       "version_minor": 0
      },
      "text/plain": [
       "Iterating over tracks:   0%|          | 0/80 [00:00<?, ?it/s]"
      ]
     },
     "metadata": {},
     "output_type": "display_data"
    },
    {
     "name": "stderr",
     "output_type": "stream",
     "text": [
      "[INFO][2024/06/04 10:00:46 am] Opening HDF file: /mnt/SYNO/macrohet_syno/ND0002/labels/cpv3/(6, 4).h5...\n",
      "[INFO][2024/06/04 10:01:10 am] Loading segmentation (150, 6048, 6048)\n",
      "[INFO][2024/06/04 10:01:10 am] Loading tracks/obj_type_1\n",
      "[INFO][2024/06/04 10:01:10 am] Loading LBEP/obj_type_1\n",
      "[INFO][2024/06/04 10:01:10 am] Loading objects/obj_type_1 (14778, 5) (14778 filtered: None)\n",
      "[INFO][2024/06/04 10:01:10 am] Closing HDF file: /mnt/SYNO/macrohet_syno/ND0002/labels/cpv3/(6, 4).h5\n"
     ]
    },
    {
     "data": {
      "application/vnd.jupyter.widget-view+json": {
       "model_id": "e9f70d571f6b47959b3e706a3dd46701",
       "version_major": 2,
       "version_minor": 0
      },
      "text/plain": [
       "Iterating over tracks:   0%|          | 0/108 [00:00<?, ?it/s]"
      ]
     },
     "metadata": {},
     "output_type": "display_data"
    },
    {
     "name": "stderr",
     "output_type": "stream",
     "text": [
      "[INFO][2024/06/04 10:01:52 am] Opening HDF file: /mnt/SYNO/macrohet_syno/ND0002/labels/cpv3/(6, 5).h5...\n",
      "[INFO][2024/06/04 10:02:15 am] Loading segmentation (150, 6048, 6048)\n",
      "[INFO][2024/06/04 10:02:15 am] Loading tracks/obj_type_1\n",
      "[INFO][2024/06/04 10:02:15 am] Loading LBEP/obj_type_1\n",
      "[INFO][2024/06/04 10:02:15 am] Loading objects/obj_type_1 (12221, 5) (12221 filtered: None)\n",
      "[INFO][2024/06/04 10:02:15 am] Closing HDF file: /mnt/SYNO/macrohet_syno/ND0002/labels/cpv3/(6, 5).h5\n"
     ]
    },
    {
     "data": {
      "application/vnd.jupyter.widget-view+json": {
       "model_id": "f79dfece816b45e584cb1c391bf1ff86",
       "version_major": 2,
       "version_minor": 0
      },
      "text/plain": [
       "Iterating over tracks:   0%|          | 0/63 [00:00<?, ?it/s]"
      ]
     },
     "metadata": {},
     "output_type": "display_data"
    },
    {
     "name": "stderr",
     "output_type": "stream",
     "text": [
      "[INFO][2024/06/04 10:02:41 am] Opening HDF file: /mnt/SYNO/macrohet_syno/ND0002/labels/cpv3/(6, 6).h5...\n",
      "[INFO][2024/06/04 10:03:04 am] Loading segmentation (150, 6048, 6048)\n",
      "[INFO][2024/06/04 10:03:04 am] Loading tracks/obj_type_1\n",
      "[INFO][2024/06/04 10:03:04 am] Loading LBEP/obj_type_1\n",
      "[INFO][2024/06/04 10:03:05 am] Loading objects/obj_type_1 (14495, 5) (14495 filtered: None)\n",
      "[INFO][2024/06/04 10:03:05 am] Closing HDF file: /mnt/SYNO/macrohet_syno/ND0002/labels/cpv3/(6, 6).h5\n"
     ]
    },
    {
     "data": {
      "application/vnd.jupyter.widget-view+json": {
       "model_id": "29dd8adb92b04f96a974c3b91c606b51",
       "version_major": 2,
       "version_minor": 0
      },
      "text/plain": [
       "Iterating over tracks:   0%|          | 0/89 [00:00<?, ?it/s]"
      ]
     },
     "metadata": {},
     "output_type": "display_data"
    },
    {
     "name": "stderr",
     "output_type": "stream",
     "text": [
      "[INFO][2024/06/04 10:03:41 am] Opening HDF file: /mnt/SYNO/macrohet_syno/ND0002/labels/cpv3/(6, 7).h5...\n",
      "[INFO][2024/06/04 10:04:03 am] Loading segmentation (150, 6048, 6048)\n",
      "[INFO][2024/06/04 10:04:03 am] Loading tracks/obj_type_1\n",
      "[INFO][2024/06/04 10:04:03 am] Loading LBEP/obj_type_1\n",
      "[INFO][2024/06/04 10:04:03 am] Loading objects/obj_type_1 (10557, 5) (10557 filtered: None)\n",
      "[INFO][2024/06/04 10:04:04 am] Closing HDF file: /mnt/SYNO/macrohet_syno/ND0002/labels/cpv3/(6, 7).h5\n"
     ]
    },
    {
     "data": {
      "application/vnd.jupyter.widget-view+json": {
       "model_id": "4e53d73091504d0fb6c0c514368bb6ac",
       "version_major": 2,
       "version_minor": 0
      },
      "text/plain": [
       "Iterating over tracks:   0%|          | 0/84 [00:00<?, ?it/s]"
      ]
     },
     "metadata": {},
     "output_type": "display_data"
    },
    {
     "name": "stderr",
     "output_type": "stream",
     "text": [
      "[INFO][2024/06/04 10:04:37 am] Opening HDF file: /mnt/SYNO/macrohet_syno/ND0002/labels/cpv3/(6, 8).h5...\n",
      "[INFO][2024/06/04 10:05:00 am] Loading segmentation (150, 6048, 6048)\n",
      "[INFO][2024/06/04 10:05:00 am] Loading tracks/obj_type_1\n",
      "[INFO][2024/06/04 10:05:00 am] Loading LBEP/obj_type_1\n",
      "[INFO][2024/06/04 10:05:00 am] Loading objects/obj_type_1 (11790, 5) (11790 filtered: None)\n",
      "[INFO][2024/06/04 10:05:00 am] Closing HDF file: /mnt/SYNO/macrohet_syno/ND0002/labels/cpv3/(6, 8).h5\n"
     ]
    },
    {
     "data": {
      "application/vnd.jupyter.widget-view+json": {
       "model_id": "3c7709a88028429c9fae30b248bf1efc",
       "version_major": 2,
       "version_minor": 0
      },
      "text/plain": [
       "Iterating over tracks:   0%|          | 0/59 [00:00<?, ?it/s]"
      ]
     },
     "metadata": {},
     "output_type": "display_data"
    },
    {
     "name": "stderr",
     "output_type": "stream",
     "text": [
      "[INFO][2024/06/04 10:05:25 am] Opening HDF file: /mnt/SYNO/macrohet_syno/ND0002/labels/cpv3/(6, 9).h5...\n",
      "[INFO][2024/06/04 10:05:47 am] Loading segmentation (150, 6048, 6048)\n",
      "[INFO][2024/06/04 10:05:47 am] Loading tracks/obj_type_1\n",
      "[INFO][2024/06/04 10:05:47 am] Loading LBEP/obj_type_1\n",
      "[INFO][2024/06/04 10:05:48 am] Loading objects/obj_type_1 (10973, 5) (10973 filtered: None)\n",
      "[INFO][2024/06/04 10:05:48 am] Closing HDF file: /mnt/SYNO/macrohet_syno/ND0002/labels/cpv3/(6, 9).h5\n"
     ]
    },
    {
     "data": {
      "application/vnd.jupyter.widget-view+json": {
       "model_id": "82b72679def74e31aaf721e00b019aba",
       "version_major": 2,
       "version_minor": 0
      },
      "text/plain": [
       "Iterating over tracks:   0%|          | 0/81 [00:00<?, ?it/s]"
      ]
     },
     "metadata": {},
     "output_type": "display_data"
    },
    {
     "name": "stderr",
     "output_type": "stream",
     "text": [
      "[INFO][2024/06/04 10:06:20 am] Opening HDF file: /mnt/SYNO/macrohet_syno/ND0002/labels/cpv3/(6, 10).h5...\n",
      "[INFO][2024/06/04 10:06:44 am] Loading segmentation (150, 6048, 6048)\n",
      "[INFO][2024/06/04 10:06:44 am] Loading tracks/obj_type_1\n",
      "[INFO][2024/06/04 10:06:44 am] Loading LBEP/obj_type_1\n",
      "[INFO][2024/06/04 10:06:44 am] Loading objects/obj_type_1 (10327, 5) (10327 filtered: None)\n",
      "[INFO][2024/06/04 10:06:44 am] Closing HDF file: /mnt/SYNO/macrohet_syno/ND0002/labels/cpv3/(6, 10).h5\n"
     ]
    },
    {
     "data": {
      "application/vnd.jupyter.widget-view+json": {
       "model_id": "734a67343adf4d55bd631a481668d3f8",
       "version_major": 2,
       "version_minor": 0
      },
      "text/plain": [
       "Iterating over tracks:   0%|          | 0/63 [00:00<?, ?it/s]"
      ]
     },
     "metadata": {},
     "output_type": "display_data"
    },
    {
     "name": "stderr",
     "output_type": "stream",
     "text": [
      "[INFO][2024/06/04 10:07:07 am] Opening HDF file: /mnt/SYNO/macrohet_syno/ND0002/labels/cpv3/(6, 11).h5...\n",
      "[INFO][2024/06/04 10:07:30 am] Loading segmentation (150, 6048, 6048)\n",
      "[INFO][2024/06/04 10:07:30 am] Loading tracks/obj_type_1\n",
      "[INFO][2024/06/04 10:07:30 am] Loading LBEP/obj_type_1\n",
      "[INFO][2024/06/04 10:07:30 am] Loading objects/obj_type_1 (11127, 5) (11127 filtered: None)\n",
      "[INFO][2024/06/04 10:07:30 am] Closing HDF file: /mnt/SYNO/macrohet_syno/ND0002/labels/cpv3/(6, 11).h5\n"
     ]
    },
    {
     "data": {
      "application/vnd.jupyter.widget-view+json": {
       "model_id": "6a1d6a8792bd48e6a96f1998b3a703c6",
       "version_major": 2,
       "version_minor": 0
      },
      "text/plain": [
       "Iterating over tracks:   0%|          | 0/61 [00:00<?, ?it/s]"
      ]
     },
     "metadata": {},
     "output_type": "display_data"
    },
    {
     "name": "stderr",
     "output_type": "stream",
     "text": [
      "[INFO][2024/06/04 10:07:54 am] Opening HDF file: /mnt/SYNO/macrohet_syno/ND0002/labels/cpv3/(6, 12).h5...\n",
      "[INFO][2024/06/04 10:08:17 am] Loading segmentation (150, 6048, 6048)\n",
      "[INFO][2024/06/04 10:08:17 am] Loading tracks/obj_type_1\n",
      "[INFO][2024/06/04 10:08:17 am] Loading LBEP/obj_type_1\n",
      "[INFO][2024/06/04 10:08:17 am] Loading objects/obj_type_1 (10838, 5) (10838 filtered: None)\n",
      "[INFO][2024/06/04 10:08:17 am] Closing HDF file: /mnt/SYNO/macrohet_syno/ND0002/labels/cpv3/(6, 12).h5\n"
     ]
    },
    {
     "data": {
      "application/vnd.jupyter.widget-view+json": {
       "model_id": "9265b1fae3bd4120adc371e9c37c77ad",
       "version_major": 2,
       "version_minor": 0
      },
      "text/plain": [
       "Iterating over tracks:   0%|          | 0/59 [00:00<?, ?it/s]"
      ]
     },
     "metadata": {},
     "output_type": "display_data"
    },
    {
     "data": {
      "application/vnd.jupyter.widget-view+json": {
       "model_id": "57ac176f3dbb48c7857b5c4e36d7fcb3",
       "version_major": 2,
       "version_minor": 0
      },
      "text/plain": [
       "  0%|          | 0/36 [00:00<?, ?it/s]"
      ]
     },
     "metadata": {},
     "output_type": "display_data"
    },
    {
     "name": "stderr",
     "output_type": "stream",
     "text": [
      "[INFO][2024/06/04 10:08:39 am] Opening HDF file: /mnt/SYNO/macrohet_syno/ND0003/labels/cpv3/(3, 1).h5...\n",
      "[INFO][2024/06/04 10:08:59 am] Loading segmentation (154, 6048, 6048)\n",
      "[INFO][2024/06/04 10:08:59 am] Loading tracks/obj_type_1\n",
      "[INFO][2024/06/04 10:08:59 am] Loading LBEP/obj_type_1\n",
      "[INFO][2024/06/04 10:09:00 am] Loading objects/obj_type_1 (46213, 5) (46213 filtered: None)\n",
      "[INFO][2024/06/04 10:09:01 am] Closing HDF file: /mnt/SYNO/macrohet_syno/ND0003/labels/cpv3/(3, 1).h5\n"
     ]
    },
    {
     "data": {
      "application/vnd.jupyter.widget-view+json": {
       "model_id": "2c18b26245404cf3bb632e4299c8bc82",
       "version_major": 2,
       "version_minor": 0
      },
      "text/plain": [
       "Iterating over tracks:   0%|          | 0/362 [00:00<?, ?it/s]"
      ]
     },
     "metadata": {},
     "output_type": "display_data"
    },
    {
     "name": "stderr",
     "output_type": "stream",
     "text": [
      "[INFO][2024/06/04 10:11:18 am] Opening HDF file: /mnt/SYNO/macrohet_syno/ND0003/labels/cpv3/(3, 2).h5...\n",
      "[INFO][2024/06/04 10:11:39 am] Loading segmentation (154, 6048, 6048)\n",
      "[INFO][2024/06/04 10:11:39 am] Loading tracks/obj_type_1\n",
      "[INFO][2024/06/04 10:11:39 am] Loading LBEP/obj_type_1\n",
      "[INFO][2024/06/04 10:11:40 am] Loading objects/obj_type_1 (47573, 5) (47573 filtered: None)\n",
      "[INFO][2024/06/04 10:11:41 am] Closing HDF file: /mnt/SYNO/macrohet_syno/ND0003/labels/cpv3/(3, 2).h5\n"
     ]
    },
    {
     "data": {
      "application/vnd.jupyter.widget-view+json": {
       "model_id": "6b9f0fdd702b432bb02a7ef440da8ca7",
       "version_major": 2,
       "version_minor": 0
      },
      "text/plain": [
       "Iterating over tracks:   0%|          | 0/380 [00:00<?, ?it/s]"
      ]
     },
     "metadata": {},
     "output_type": "display_data"
    },
    {
     "name": "stderr",
     "output_type": "stream",
     "text": [
      "[INFO][2024/06/04 10:14:19 am] Opening HDF file: /mnt/SYNO/macrohet_syno/ND0003/labels/cpv3/(3, 3).h5...\n",
      "[INFO][2024/06/04 10:14:41 am] Loading segmentation (154, 6048, 6048)\n",
      "[INFO][2024/06/04 10:14:41 am] Loading tracks/obj_type_1\n",
      "[INFO][2024/06/04 10:14:41 am] Loading LBEP/obj_type_1\n",
      "[INFO][2024/06/04 10:14:41 am] Loading objects/obj_type_1 (53469, 5) (53469 filtered: None)\n",
      "[INFO][2024/06/04 10:14:42 am] Closing HDF file: /mnt/SYNO/macrohet_syno/ND0003/labels/cpv3/(3, 3).h5\n"
     ]
    },
    {
     "data": {
      "application/vnd.jupyter.widget-view+json": {
       "model_id": "405578c1ef3940dbb91a58d565bda79e",
       "version_major": 2,
       "version_minor": 0
      },
      "text/plain": [
       "Iterating over tracks:   0%|          | 0/368 [00:00<?, ?it/s]"
      ]
     },
     "metadata": {},
     "output_type": "display_data"
    },
    {
     "name": "stderr",
     "output_type": "stream",
     "text": [
      "[INFO][2024/06/04 10:17:07 am] Opening HDF file: /mnt/SYNO/macrohet_syno/ND0003/labels/cpv3/(3, 4).h5...\n",
      "[INFO][2024/06/04 10:17:29 am] Loading segmentation (154, 6048, 6048)\n",
      "[INFO][2024/06/04 10:17:29 am] Loading tracks/obj_type_1\n",
      "[INFO][2024/06/04 10:17:29 am] Loading LBEP/obj_type_1\n",
      "[INFO][2024/06/04 10:17:29 am] Loading objects/obj_type_1 (47352, 5) (47352 filtered: None)\n",
      "[INFO][2024/06/04 10:17:30 am] Closing HDF file: /mnt/SYNO/macrohet_syno/ND0003/labels/cpv3/(3, 4).h5\n"
     ]
    },
    {
     "data": {
      "application/vnd.jupyter.widget-view+json": {
       "model_id": "74f2df18fa8448e7a44386753d01d7b3",
       "version_major": 2,
       "version_minor": 0
      },
      "text/plain": [
       "Iterating over tracks:   0%|          | 0/290 [00:00<?, ?it/s]"
      ]
     },
     "metadata": {},
     "output_type": "display_data"
    },
    {
     "name": "stderr",
     "output_type": "stream",
     "text": [
      "[INFO][2024/06/04 10:19:25 am] Opening HDF file: /mnt/SYNO/macrohet_syno/ND0003/labels/cpv3/(3, 5).h5...\n",
      "[INFO][2024/06/04 10:19:45 am] Loading segmentation (154, 6048, 6048)\n",
      "[INFO][2024/06/04 10:19:45 am] Loading tracks/obj_type_1\n",
      "[INFO][2024/06/04 10:19:45 am] Loading LBEP/obj_type_1\n",
      "[INFO][2024/06/04 10:19:45 am] Loading objects/obj_type_1 (46222, 5) (46222 filtered: None)\n",
      "[INFO][2024/06/04 10:19:46 am] Closing HDF file: /mnt/SYNO/macrohet_syno/ND0003/labels/cpv3/(3, 5).h5\n"
     ]
    },
    {
     "data": {
      "application/vnd.jupyter.widget-view+json": {
       "model_id": "fa3825a8decc4e49a20c203b2a1d3349",
       "version_major": 2,
       "version_minor": 0
      },
      "text/plain": [
       "Iterating over tracks:   0%|          | 0/365 [00:00<?, ?it/s]"
      ]
     },
     "metadata": {},
     "output_type": "display_data"
    },
    {
     "name": "stderr",
     "output_type": "stream",
     "text": [
      "[INFO][2024/06/04 10:22:06 am] Opening HDF file: /mnt/SYNO/macrohet_syno/ND0003/labels/cpv3/(3, 6).h5...\n",
      "[INFO][2024/06/04 10:22:26 am] Loading segmentation (154, 6048, 6048)\n",
      "[INFO][2024/06/04 10:22:26 am] Loading tracks/obj_type_1\n",
      "[INFO][2024/06/04 10:22:26 am] Loading LBEP/obj_type_1\n",
      "[INFO][2024/06/04 10:22:26 am] Loading objects/obj_type_1 (55107, 5) (55107 filtered: None)\n",
      "[INFO][2024/06/04 10:22:27 am] Closing HDF file: /mnt/SYNO/macrohet_syno/ND0003/labels/cpv3/(3, 6).h5\n"
     ]
    },
    {
     "data": {
      "application/vnd.jupyter.widget-view+json": {
       "model_id": "977d45cd0837404c9a6cc7c6d222b3f1",
       "version_major": 2,
       "version_minor": 0
      },
      "text/plain": [
       "Iterating over tracks:   0%|          | 0/394 [00:00<?, ?it/s]"
      ]
     },
     "metadata": {},
     "output_type": "display_data"
    },
    {
     "name": "stderr",
     "output_type": "stream",
     "text": [
      "[INFO][2024/06/04 10:25:02 am] Opening HDF file: /mnt/SYNO/macrohet_syno/ND0003/labels/cpv3/(3, 7).h5...\n",
      "[INFO][2024/06/04 10:25:22 am] Loading segmentation (154, 6048, 6048)\n",
      "[INFO][2024/06/04 10:25:22 am] Loading tracks/obj_type_1\n",
      "[INFO][2024/06/04 10:25:22 am] Loading LBEP/obj_type_1\n",
      "[INFO][2024/06/04 10:25:22 am] Loading objects/obj_type_1 (47373, 5) (47373 filtered: None)\n",
      "[INFO][2024/06/04 10:25:23 am] Closing HDF file: /mnt/SYNO/macrohet_syno/ND0003/labels/cpv3/(3, 7).h5\n"
     ]
    },
    {
     "data": {
      "application/vnd.jupyter.widget-view+json": {
       "model_id": "fd133f9202a54902ad73a7239a35377e",
       "version_major": 2,
       "version_minor": 0
      },
      "text/plain": [
       "Iterating over tracks:   0%|          | 0/314 [00:00<?, ?it/s]"
      ]
     },
     "metadata": {},
     "output_type": "display_data"
    },
    {
     "name": "stderr",
     "output_type": "stream",
     "text": [
      "[INFO][2024/06/04 10:27:21 am] Opening HDF file: /mnt/SYNO/macrohet_syno/ND0003/labels/cpv3/(3, 8).h5...\n",
      "[INFO][2024/06/04 10:27:41 am] Loading segmentation (154, 6048, 6048)\n",
      "[INFO][2024/06/04 10:27:41 am] Loading tracks/obj_type_1\n",
      "[INFO][2024/06/04 10:27:41 am] Loading LBEP/obj_type_1\n",
      "[INFO][2024/06/04 10:27:41 am] Loading objects/obj_type_1 (48607, 5) (48607 filtered: None)\n",
      "[INFO][2024/06/04 10:27:42 am] Closing HDF file: /mnt/SYNO/macrohet_syno/ND0003/labels/cpv3/(3, 8).h5\n"
     ]
    },
    {
     "data": {
      "application/vnd.jupyter.widget-view+json": {
       "model_id": "292fc34114fd4130846a543508d02435",
       "version_major": 2,
       "version_minor": 0
      },
      "text/plain": [
       "Iterating over tracks:   0%|          | 0/301 [00:00<?, ?it/s]"
      ]
     },
     "metadata": {},
     "output_type": "display_data"
    },
    {
     "name": "stderr",
     "output_type": "stream",
     "text": [
      "[INFO][2024/06/04 10:29:38 am] Opening HDF file: /mnt/SYNO/macrohet_syno/ND0003/labels/cpv3/(3, 9).h5...\n",
      "[INFO][2024/06/04 10:29:59 am] Loading segmentation (154, 6048, 6048)\n",
      "[INFO][2024/06/04 10:29:59 am] Loading tracks/obj_type_1\n",
      "[INFO][2024/06/04 10:29:59 am] Loading LBEP/obj_type_1\n",
      "[INFO][2024/06/04 10:30:00 am] Loading objects/obj_type_1 (52550, 5) (52550 filtered: None)\n",
      "[INFO][2024/06/04 10:30:00 am] Closing HDF file: /mnt/SYNO/macrohet_syno/ND0003/labels/cpv3/(3, 9).h5\n"
     ]
    },
    {
     "data": {
      "application/vnd.jupyter.widget-view+json": {
       "model_id": "7f5a99781db84d6e99d05f628f343180",
       "version_major": 2,
       "version_minor": 0
      },
      "text/plain": [
       "Iterating over tracks:   0%|          | 0/359 [00:00<?, ?it/s]"
      ]
     },
     "metadata": {},
     "output_type": "display_data"
    },
    {
     "name": "stderr",
     "output_type": "stream",
     "text": [
      "[INFO][2024/06/04 10:32:21 am] Opening HDF file: /mnt/SYNO/macrohet_syno/ND0003/labels/cpv3/(3, 10).h5...\n",
      "[INFO][2024/06/04 10:32:45 am] Loading segmentation (154, 6048, 6048)\n",
      "[INFO][2024/06/04 10:32:45 am] Loading tracks/obj_type_1\n",
      "[INFO][2024/06/04 10:32:45 am] Loading LBEP/obj_type_1\n",
      "[INFO][2024/06/04 10:32:45 am] Loading objects/obj_type_1 (50774, 5) (50774 filtered: None)\n",
      "[INFO][2024/06/04 10:32:46 am] Closing HDF file: /mnt/SYNO/macrohet_syno/ND0003/labels/cpv3/(3, 10).h5\n"
     ]
    },
    {
     "data": {
      "application/vnd.jupyter.widget-view+json": {
       "model_id": "bd428e23b3ea4a8ebc9f106d9a065d3d",
       "version_major": 2,
       "version_minor": 0
      },
      "text/plain": [
       "Iterating over tracks:   0%|          | 0/372 [00:00<?, ?it/s]"
      ]
     },
     "metadata": {},
     "output_type": "display_data"
    },
    {
     "name": "stderr",
     "output_type": "stream",
     "text": [
      "[INFO][2024/06/04 10:35:17 am] Opening HDF file: /mnt/SYNO/macrohet_syno/ND0003/labels/cpv3/(3, 11).h5...\n",
      "[INFO][2024/06/04 10:35:38 am] Loading segmentation (154, 6048, 6048)\n",
      "[INFO][2024/06/04 10:35:38 am] Loading tracks/obj_type_1\n",
      "[INFO][2024/06/04 10:35:38 am] Loading LBEP/obj_type_1\n",
      "[INFO][2024/06/04 10:35:38 am] Loading objects/obj_type_1 (57170, 5) (57170 filtered: None)\n",
      "[INFO][2024/06/04 10:35:39 am] Closing HDF file: /mnt/SYNO/macrohet_syno/ND0003/labels/cpv3/(3, 11).h5\n"
     ]
    },
    {
     "data": {
      "application/vnd.jupyter.widget-view+json": {
       "model_id": "4852026602574b3eb23d9de43d452be3",
       "version_major": 2,
       "version_minor": 0
      },
      "text/plain": [
       "Iterating over tracks:   0%|          | 0/370 [00:00<?, ?it/s]"
      ]
     },
     "metadata": {},
     "output_type": "display_data"
    },
    {
     "name": "stderr",
     "output_type": "stream",
     "text": [
      "[INFO][2024/06/04 10:38:14 am] Opening HDF file: /mnt/SYNO/macrohet_syno/ND0003/labels/cpv3/(3, 12).h5...\n",
      "[INFO][2024/06/04 10:38:37 am] Loading segmentation (154, 6048, 6048)\n",
      "[INFO][2024/06/04 10:38:37 am] Loading tracks/obj_type_1\n",
      "[INFO][2024/06/04 10:38:37 am] Loading LBEP/obj_type_1\n",
      "[INFO][2024/06/04 10:38:37 am] Loading objects/obj_type_1 (34553, 5) (34553 filtered: None)\n",
      "[INFO][2024/06/04 10:38:38 am] Closing HDF file: /mnt/SYNO/macrohet_syno/ND0003/labels/cpv3/(3, 12).h5\n"
     ]
    },
    {
     "data": {
      "application/vnd.jupyter.widget-view+json": {
       "model_id": "f05d572a01804c52bec4e0655ead66ad",
       "version_major": 2,
       "version_minor": 0
      },
      "text/plain": [
       "Iterating over tracks:   0%|          | 0/127 [00:00<?, ?it/s]"
      ]
     },
     "metadata": {},
     "output_type": "display_data"
    },
    {
     "name": "stderr",
     "output_type": "stream",
     "text": [
      "[INFO][2024/06/04 10:39:31 am] Opening HDF file: /mnt/SYNO/macrohet_syno/ND0003/labels/cpv3/(4, 3).h5...\n",
      "[INFO][2024/06/04 10:39:52 am] Loading segmentation (154, 6048, 6048)\n",
      "[INFO][2024/06/04 10:39:52 am] Loading tracks/obj_type_1\n",
      "[INFO][2024/06/04 10:39:52 am] Loading LBEP/obj_type_1\n",
      "[INFO][2024/06/04 10:39:52 am] Loading objects/obj_type_1 (54694, 5) (54694 filtered: None)\n",
      "[INFO][2024/06/04 10:39:53 am] Closing HDF file: /mnt/SYNO/macrohet_syno/ND0003/labels/cpv3/(4, 3).h5\n"
     ]
    },
    {
     "data": {
      "application/vnd.jupyter.widget-view+json": {
       "model_id": "e507ef74e7764ca789ba3dd92c7d5c39",
       "version_major": 2,
       "version_minor": 0
      },
      "text/plain": [
       "Iterating over tracks:   0%|          | 0/414 [00:00<?, ?it/s]"
      ]
     },
     "metadata": {},
     "output_type": "display_data"
    },
    {
     "name": "stderr",
     "output_type": "stream",
     "text": [
      "[INFO][2024/06/04 10:42:46 am] Opening HDF file: /mnt/SYNO/macrohet_syno/ND0003/labels/cpv3/(4, 4).h5...\n",
      "[INFO][2024/06/04 10:43:07 am] Loading segmentation (154, 6048, 6048)\n",
      "[INFO][2024/06/04 10:43:07 am] Loading tracks/obj_type_1\n",
      "[INFO][2024/06/04 10:43:07 am] Loading LBEP/obj_type_1\n",
      "[INFO][2024/06/04 10:43:08 am] Loading objects/obj_type_1 (55736, 5) (55736 filtered: None)\n",
      "[INFO][2024/06/04 10:43:09 am] Closing HDF file: /mnt/SYNO/macrohet_syno/ND0003/labels/cpv3/(4, 4).h5\n"
     ]
    },
    {
     "data": {
      "application/vnd.jupyter.widget-view+json": {
       "model_id": "e56a39426112410b9f26f717ad0ca2c4",
       "version_major": 2,
       "version_minor": 0
      },
      "text/plain": [
       "Iterating over tracks:   0%|          | 0/373 [00:00<?, ?it/s]"
      ]
     },
     "metadata": {},
     "output_type": "display_data"
    },
    {
     "name": "stderr",
     "output_type": "stream",
     "text": [
      "[INFO][2024/06/04 10:45:42 am] Opening HDF file: /mnt/SYNO/macrohet_syno/ND0003/labels/cpv3/(4, 5).h5...\n",
      "[INFO][2024/06/04 10:46:05 am] Loading segmentation (154, 6048, 6048)\n",
      "[INFO][2024/06/04 10:46:05 am] Loading tracks/obj_type_1\n",
      "[INFO][2024/06/04 10:46:05 am] Loading LBEP/obj_type_1\n",
      "[INFO][2024/06/04 10:46:05 am] Loading objects/obj_type_1 (46653, 5) (46653 filtered: None)\n",
      "[INFO][2024/06/04 10:46:07 am] Closing HDF file: /mnt/SYNO/macrohet_syno/ND0003/labels/cpv3/(4, 5).h5\n"
     ]
    },
    {
     "data": {
      "application/vnd.jupyter.widget-view+json": {
       "model_id": "604b3f8002c7475b9c2176d707da06dc",
       "version_major": 2,
       "version_minor": 0
      },
      "text/plain": [
       "Iterating over tracks:   0%|          | 0/333 [00:00<?, ?it/s]"
      ]
     },
     "metadata": {},
     "output_type": "display_data"
    },
    {
     "name": "stderr",
     "output_type": "stream",
     "text": [
      "[INFO][2024/06/04 10:48:19 am] Opening HDF file: /mnt/SYNO/macrohet_syno/ND0003/labels/cpv3/(4, 6).h5...\n",
      "[INFO][2024/06/04 10:48:40 am] Loading segmentation (154, 6048, 6048)\n",
      "[INFO][2024/06/04 10:48:40 am] Loading tracks/obj_type_1\n",
      "[INFO][2024/06/04 10:48:40 am] Loading LBEP/obj_type_1\n",
      "[INFO][2024/06/04 10:48:41 am] Loading objects/obj_type_1 (52887, 5) (52887 filtered: None)\n",
      "[INFO][2024/06/04 10:48:41 am] Closing HDF file: /mnt/SYNO/macrohet_syno/ND0003/labels/cpv3/(4, 6).h5\n"
     ]
    },
    {
     "data": {
      "application/vnd.jupyter.widget-view+json": {
       "model_id": "b44911ef4ff1427a98fd8240acbd6dec",
       "version_major": 2,
       "version_minor": 0
      },
      "text/plain": [
       "Iterating over tracks:   0%|          | 0/361 [00:00<?, ?it/s]"
      ]
     },
     "metadata": {},
     "output_type": "display_data"
    },
    {
     "name": "stderr",
     "output_type": "stream",
     "text": [
      "[INFO][2024/06/04 10:51:09 am] Opening HDF file: /mnt/SYNO/macrohet_syno/ND0003/labels/cpv3/(4, 7).h5...\n",
      "[INFO][2024/06/04 10:51:33 am] Loading segmentation (154, 6048, 6048)\n",
      "[INFO][2024/06/04 10:51:33 am] Loading tracks/obj_type_1\n",
      "[INFO][2024/06/04 10:51:33 am] Loading LBEP/obj_type_1\n",
      "[INFO][2024/06/04 10:51:34 am] Loading objects/obj_type_1 (44356, 5) (44356 filtered: None)\n",
      "[INFO][2024/06/04 10:51:34 am] Closing HDF file: /mnt/SYNO/macrohet_syno/ND0003/labels/cpv3/(4, 7).h5\n"
     ]
    },
    {
     "data": {
      "application/vnd.jupyter.widget-view+json": {
       "model_id": "e68dd5da405740c2b1c0b276daf95dbe",
       "version_major": 2,
       "version_minor": 0
      },
      "text/plain": [
       "Iterating over tracks:   0%|          | 0/298 [00:00<?, ?it/s]"
      ]
     },
     "metadata": {},
     "output_type": "display_data"
    },
    {
     "name": "stderr",
     "output_type": "stream",
     "text": [
      "[INFO][2024/06/04 10:53:38 am] Opening HDF file: /mnt/SYNO/macrohet_syno/ND0003/labels/cpv3/(4, 8).h5...\n",
      "[INFO][2024/06/04 10:54:00 am] Loading segmentation (154, 6048, 6048)\n",
      "[INFO][2024/06/04 10:54:00 am] Loading tracks/obj_type_1\n",
      "[INFO][2024/06/04 10:54:00 am] Loading LBEP/obj_type_1\n",
      "[INFO][2024/06/04 10:54:00 am] Loading objects/obj_type_1 (49938, 5) (49938 filtered: None)\n",
      "[INFO][2024/06/04 10:54:01 am] Closing HDF file: /mnt/SYNO/macrohet_syno/ND0003/labels/cpv3/(4, 8).h5\n"
     ]
    },
    {
     "data": {
      "application/vnd.jupyter.widget-view+json": {
       "model_id": "df7156922f1c4f319f8b4d80f2fb68e4",
       "version_major": 2,
       "version_minor": 0
      },
      "text/plain": [
       "Iterating over tracks:   0%|          | 0/333 [00:00<?, ?it/s]"
      ]
     },
     "metadata": {},
     "output_type": "display_data"
    },
    {
     "name": "stderr",
     "output_type": "stream",
     "text": [
      "[INFO][2024/06/04 10:56:10 am] Opening HDF file: /mnt/SYNO/macrohet_syno/ND0003/labels/cpv3/(4, 9).h5...\n",
      "[INFO][2024/06/04 10:56:31 am] Loading segmentation (154, 6048, 6048)\n",
      "[INFO][2024/06/04 10:56:31 am] Loading tracks/obj_type_1\n",
      "[INFO][2024/06/04 10:56:31 am] Loading LBEP/obj_type_1\n",
      "[INFO][2024/06/04 10:56:31 am] Loading objects/obj_type_1 (48729, 5) (48729 filtered: None)\n",
      "[INFO][2024/06/04 10:56:31 am] Closing HDF file: /mnt/SYNO/macrohet_syno/ND0003/labels/cpv3/(4, 9).h5\n"
     ]
    },
    {
     "data": {
      "application/vnd.jupyter.widget-view+json": {
       "model_id": "5f301a8ab868423aab91508ee67e8847",
       "version_major": 2,
       "version_minor": 0
      },
      "text/plain": [
       "Iterating over tracks:   0%|          | 0/289 [00:00<?, ?it/s]"
      ]
     },
     "metadata": {},
     "output_type": "display_data"
    },
    {
     "name": "stderr",
     "output_type": "stream",
     "text": [
      "[INFO][2024/06/04 10:58:26 am] Opening HDF file: /mnt/SYNO/macrohet_syno/ND0003/labels/cpv3/(4, 10).h5...\n",
      "[INFO][2024/06/04 10:58:48 am] Loading segmentation (154, 6048, 6048)\n",
      "[INFO][2024/06/04 10:58:48 am] Loading tracks/obj_type_1\n",
      "[INFO][2024/06/04 10:58:48 am] Loading LBEP/obj_type_1\n",
      "[INFO][2024/06/04 10:58:48 am] Loading objects/obj_type_1 (47368, 5) (47368 filtered: None)\n",
      "[INFO][2024/06/04 10:58:49 am] Closing HDF file: /mnt/SYNO/macrohet_syno/ND0003/labels/cpv3/(4, 10).h5\n"
     ]
    },
    {
     "data": {
      "application/vnd.jupyter.widget-view+json": {
       "model_id": "9fa0c1a14d594f2ebc9acce47d51ecd4",
       "version_major": 2,
       "version_minor": 0
      },
      "text/plain": [
       "Iterating over tracks:   0%|          | 0/284 [00:00<?, ?it/s]"
      ]
     },
     "metadata": {},
     "output_type": "display_data"
    },
    {
     "name": "stderr",
     "output_type": "stream",
     "text": [
      "[INFO][2024/06/04 11:00:36 am] Opening HDF file: /mnt/SYNO/macrohet_syno/ND0003/labels/cpv3/(4, 11).h5...\n",
      "[INFO][2024/06/04 11:00:57 am] Loading segmentation (154, 6048, 6048)\n",
      "[INFO][2024/06/04 11:00:57 am] Loading tracks/obj_type_1\n",
      "[INFO][2024/06/04 11:00:57 am] Loading LBEP/obj_type_1\n",
      "[INFO][2024/06/04 11:00:57 am] Loading objects/obj_type_1 (45645, 5) (45645 filtered: None)\n",
      "[INFO][2024/06/04 11:00:58 am] Closing HDF file: /mnt/SYNO/macrohet_syno/ND0003/labels/cpv3/(4, 11).h5\n"
     ]
    },
    {
     "data": {
      "application/vnd.jupyter.widget-view+json": {
       "model_id": "feae824f5d944a0daf7ffee74504f0f7",
       "version_major": 2,
       "version_minor": 0
      },
      "text/plain": [
       "Iterating over tracks:   0%|          | 0/347 [00:00<?, ?it/s]"
      ]
     },
     "metadata": {},
     "output_type": "display_data"
    },
    {
     "name": "stderr",
     "output_type": "stream",
     "text": [
      "[INFO][2024/06/04 11:03:14 am] Opening HDF file: /mnt/SYNO/macrohet_syno/ND0003/labels/cpv3/(4, 12).h5...\n",
      "[INFO][2024/06/04 11:03:34 am] Loading segmentation (154, 6048, 6048)\n",
      "[INFO][2024/06/04 11:03:34 am] Loading tracks/obj_type_1\n",
      "[INFO][2024/06/04 11:03:34 am] Loading LBEP/obj_type_1\n",
      "[INFO][2024/06/04 11:03:34 am] Loading objects/obj_type_1 (43429, 5) (43429 filtered: None)\n",
      "[INFO][2024/06/04 11:03:35 am] Closing HDF file: /mnt/SYNO/macrohet_syno/ND0003/labels/cpv3/(4, 12).h5\n"
     ]
    },
    {
     "data": {
      "application/vnd.jupyter.widget-view+json": {
       "model_id": "d006f6c5d47046daa0d1a19fb6371073",
       "version_major": 2,
       "version_minor": 0
      },
      "text/plain": [
       "Iterating over tracks:   0%|          | 0/279 [00:00<?, ?it/s]"
      ]
     },
     "metadata": {},
     "output_type": "display_data"
    },
    {
     "name": "stderr",
     "output_type": "stream",
     "text": [
      "[INFO][2024/06/04 11:05:30 am] Opening HDF file: /mnt/SYNO/macrohet_syno/ND0003/labels/cpv3/(5, 9).h5...\n",
      "[INFO][2024/06/04 11:05:52 am] Loading segmentation (154, 6048, 6048)\n",
      "[INFO][2024/06/04 11:05:52 am] Loading tracks/obj_type_1\n",
      "[INFO][2024/06/04 11:05:52 am] Loading LBEP/obj_type_1\n",
      "[INFO][2024/06/04 11:05:53 am] Loading objects/obj_type_1 (40247, 5) (40247 filtered: None)\n",
      "[INFO][2024/06/04 11:05:54 am] Closing HDF file: /mnt/SYNO/macrohet_syno/ND0003/labels/cpv3/(5, 9).h5\n"
     ]
    },
    {
     "data": {
      "application/vnd.jupyter.widget-view+json": {
       "model_id": "83963c44585540ddb3c9e66caa962868",
       "version_major": 2,
       "version_minor": 0
      },
      "text/plain": [
       "Iterating over tracks:   0%|          | 0/312 [00:00<?, ?it/s]"
      ]
     },
     "metadata": {},
     "output_type": "display_data"
    },
    {
     "name": "stderr",
     "output_type": "stream",
     "text": [
      "[INFO][2024/06/04 11:08:06 am] Opening HDF file: /mnt/SYNO/macrohet_syno/ND0003/labels/cpv3/(5, 10).h5...\n",
      "[INFO][2024/06/04 11:08:29 am] Loading segmentation (154, 6048, 6048)\n",
      "[INFO][2024/06/04 11:08:29 am] Loading tracks/obj_type_1\n",
      "[INFO][2024/06/04 11:08:29 am] Loading LBEP/obj_type_1\n",
      "[INFO][2024/06/04 11:08:29 am] Loading objects/obj_type_1 (40992, 5) (40992 filtered: None)\n",
      "[INFO][2024/06/04 11:08:30 am] Closing HDF file: /mnt/SYNO/macrohet_syno/ND0003/labels/cpv3/(5, 10).h5\n"
     ]
    },
    {
     "data": {
      "application/vnd.jupyter.widget-view+json": {
       "model_id": "9560acd4691340298942423e9715a862",
       "version_major": 2,
       "version_minor": 0
      },
      "text/plain": [
       "Iterating over tracks:   0%|          | 0/309 [00:00<?, ?it/s]"
      ]
     },
     "metadata": {},
     "output_type": "display_data"
    },
    {
     "name": "stderr",
     "output_type": "stream",
     "text": [
      "[INFO][2024/06/04 11:10:42 am] Opening HDF file: /mnt/SYNO/macrohet_syno/ND0003/labels/cpv3/(5, 11).h5...\n",
      "[INFO][2024/06/04 11:11:03 am] Loading segmentation (154, 6048, 6048)\n",
      "[INFO][2024/06/04 11:11:03 am] Loading tracks/obj_type_1\n",
      "[INFO][2024/06/04 11:11:03 am] Loading LBEP/obj_type_1\n",
      "[INFO][2024/06/04 11:11:03 am] Loading objects/obj_type_1 (40746, 5) (40746 filtered: None)\n",
      "[INFO][2024/06/04 11:11:04 am] Closing HDF file: /mnt/SYNO/macrohet_syno/ND0003/labels/cpv3/(5, 11).h5\n"
     ]
    },
    {
     "data": {
      "application/vnd.jupyter.widget-view+json": {
       "model_id": "7b816f02b5584db4ac3122182c50ed1f",
       "version_major": 2,
       "version_minor": 0
      },
      "text/plain": [
       "Iterating over tracks:   0%|          | 0/318 [00:00<?, ?it/s]"
      ]
     },
     "metadata": {},
     "output_type": "display_data"
    },
    {
     "name": "stderr",
     "output_type": "stream",
     "text": [
      "[INFO][2024/06/04 11:13:13 am] Opening HDF file: /mnt/SYNO/macrohet_syno/ND0003/labels/cpv3/(5, 12).h5...\n",
      "[INFO][2024/06/04 11:13:36 am] Loading segmentation (154, 6048, 6048)\n",
      "[INFO][2024/06/04 11:13:36 am] Loading tracks/obj_type_1\n",
      "[INFO][2024/06/04 11:13:36 am] Loading LBEP/obj_type_1\n",
      "[INFO][2024/06/04 11:13:36 am] Loading objects/obj_type_1 (37502, 5) (37502 filtered: None)\n",
      "[INFO][2024/06/04 11:13:37 am] Closing HDF file: /mnt/SYNO/macrohet_syno/ND0003/labels/cpv3/(5, 12).h5\n"
     ]
    },
    {
     "data": {
      "application/vnd.jupyter.widget-view+json": {
       "model_id": "3ecd5e5449ac44b8911356e8b66920a8",
       "version_major": 2,
       "version_minor": 0
      },
      "text/plain": [
       "Iterating over tracks:   0%|          | 0/266 [00:00<?, ?it/s]"
      ]
     },
     "metadata": {},
     "output_type": "display_data"
    },
    {
     "name": "stderr",
     "output_type": "stream",
     "text": [
      "[INFO][2024/06/04 11:15:23 am] Opening HDF file: /mnt/SYNO/macrohet_syno/ND0003/labels/cpv3/(6, 3).h5...\n",
      "[INFO][2024/06/04 11:15:45 am] Loading segmentation (154, 6048, 6048)\n",
      "[INFO][2024/06/04 11:15:45 am] Loading tracks/obj_type_1\n",
      "[INFO][2024/06/04 11:15:45 am] Loading LBEP/obj_type_1\n",
      "[INFO][2024/06/04 11:15:45 am] Loading objects/obj_type_1 (36316, 5) (36316 filtered: None)\n",
      "[INFO][2024/06/04 11:15:46 am] Closing HDF file: /mnt/SYNO/macrohet_syno/ND0003/labels/cpv3/(6, 3).h5\n"
     ]
    },
    {
     "data": {
      "application/vnd.jupyter.widget-view+json": {
       "model_id": "c81ffa674a834a53b4c437a6928181d4",
       "version_major": 2,
       "version_minor": 0
      },
      "text/plain": [
       "Iterating over tracks:   0%|          | 0/310 [00:00<?, ?it/s]"
      ]
     },
     "metadata": {},
     "output_type": "display_data"
    },
    {
     "name": "stderr",
     "output_type": "stream",
     "text": [
      "[INFO][2024/06/04 11:17:53 am] Opening HDF file: /mnt/SYNO/macrohet_syno/ND0003/labels/cpv3/(6, 4).h5...\n",
      "[INFO][2024/06/04 11:18:16 am] Loading segmentation (154, 6048, 6048)\n",
      "[INFO][2024/06/04 11:18:16 am] Loading tracks/obj_type_1\n",
      "[INFO][2024/06/04 11:18:16 am] Loading LBEP/obj_type_1\n",
      "[INFO][2024/06/04 11:18:16 am] Loading objects/obj_type_1 (29627, 5) (29627 filtered: None)\n",
      "[INFO][2024/06/04 11:18:17 am] Closing HDF file: /mnt/SYNO/macrohet_syno/ND0003/labels/cpv3/(6, 4).h5\n"
     ]
    },
    {
     "data": {
      "application/vnd.jupyter.widget-view+json": {
       "model_id": "75cb5bcd81ef456ab84e89f1aec31154",
       "version_major": 2,
       "version_minor": 0
      },
      "text/plain": [
       "Iterating over tracks:   0%|          | 0/246 [00:00<?, ?it/s]"
      ]
     },
     "metadata": {},
     "output_type": "display_data"
    },
    {
     "name": "stderr",
     "output_type": "stream",
     "text": [
      "[INFO][2024/06/04 11:19:58 am] Opening HDF file: /mnt/SYNO/macrohet_syno/ND0003/labels/cpv3/(6, 5).h5...\n",
      "[INFO][2024/06/04 11:20:24 am] Loading segmentation (154, 6048, 6048)\n",
      "[INFO][2024/06/04 11:20:24 am] Loading tracks/obj_type_1\n",
      "[INFO][2024/06/04 11:20:24 am] Loading LBEP/obj_type_1\n",
      "[INFO][2024/06/04 11:20:25 am] Loading objects/obj_type_1 (24099, 5) (24099 filtered: None)\n",
      "[INFO][2024/06/04 11:20:25 am] Closing HDF file: /mnt/SYNO/macrohet_syno/ND0003/labels/cpv3/(6, 5).h5\n"
     ]
    },
    {
     "data": {
      "application/vnd.jupyter.widget-view+json": {
       "model_id": "a095ca4a70d3455eab0799cf56b2c8a1",
       "version_major": 2,
       "version_minor": 0
      },
      "text/plain": [
       "Iterating over tracks:   0%|          | 0/181 [00:00<?, ?it/s]"
      ]
     },
     "metadata": {},
     "output_type": "display_data"
    },
    {
     "name": "stderr",
     "output_type": "stream",
     "text": [
      "[INFO][2024/06/04 11:21:40 am] Opening HDF file: /mnt/SYNO/macrohet_syno/ND0003/labels/cpv3/(6, 6).h5...\n",
      "[INFO][2024/06/04 11:22:03 am] Loading segmentation (154, 6048, 6048)\n",
      "[INFO][2024/06/04 11:22:03 am] Loading tracks/obj_type_1\n",
      "[INFO][2024/06/04 11:22:04 am] Loading LBEP/obj_type_1\n",
      "[INFO][2024/06/04 11:22:04 am] Loading objects/obj_type_1 (28396, 5) (28396 filtered: None)\n",
      "[INFO][2024/06/04 11:22:05 am] Closing HDF file: /mnt/SYNO/macrohet_syno/ND0003/labels/cpv3/(6, 6).h5\n"
     ]
    },
    {
     "data": {
      "application/vnd.jupyter.widget-view+json": {
       "model_id": "f478efcfe7ef48fa9eb9bdd51b586f6f",
       "version_major": 2,
       "version_minor": 0
      },
      "text/plain": [
       "Iterating over tracks:   0%|          | 0/196 [00:00<?, ?it/s]"
      ]
     },
     "metadata": {},
     "output_type": "display_data"
    },
    {
     "name": "stderr",
     "output_type": "stream",
     "text": [
      "[INFO][2024/06/04 11:23:23 am] Opening HDF file: /mnt/SYNO/macrohet_syno/ND0003/labels/cpv3/(6, 7).h5...\n",
      "[INFO][2024/06/04 11:23:48 am] Loading segmentation (154, 6048, 6048)\n",
      "[INFO][2024/06/04 11:23:48 am] Loading tracks/obj_type_1\n",
      "[INFO][2024/06/04 11:23:48 am] Loading LBEP/obj_type_1\n",
      "[INFO][2024/06/04 11:23:48 am] Loading objects/obj_type_1 (31758, 5) (31758 filtered: None)\n",
      "[INFO][2024/06/04 11:23:49 am] Closing HDF file: /mnt/SYNO/macrohet_syno/ND0003/labels/cpv3/(6, 7).h5\n"
     ]
    },
    {
     "data": {
      "application/vnd.jupyter.widget-view+json": {
       "model_id": "801320dd5e6b42ed94b4e1d8439c3c9e",
       "version_major": 2,
       "version_minor": 0
      },
      "text/plain": [
       "Iterating over tracks:   0%|          | 0/246 [00:00<?, ?it/s]"
      ]
     },
     "metadata": {},
     "output_type": "display_data"
    },
    {
     "name": "stderr",
     "output_type": "stream",
     "text": [
      "[INFO][2024/06/04 11:25:27 am] Opening HDF file: /mnt/SYNO/macrohet_syno/ND0003/labels/cpv3/(6, 8).h5...\n",
      "[INFO][2024/06/04 11:25:50 am] Loading segmentation (154, 6048, 6048)\n",
      "[INFO][2024/06/04 11:25:50 am] Loading tracks/obj_type_1\n",
      "[INFO][2024/06/04 11:25:50 am] Loading LBEP/obj_type_1\n",
      "[INFO][2024/06/04 11:25:50 am] Loading objects/obj_type_1 (37195, 5) (37195 filtered: None)\n",
      "[INFO][2024/06/04 11:25:51 am] Closing HDF file: /mnt/SYNO/macrohet_syno/ND0003/labels/cpv3/(6, 8).h5\n"
     ]
    },
    {
     "data": {
      "application/vnd.jupyter.widget-view+json": {
       "model_id": "84f07c4ce9974fc7b73c7befb2a52191",
       "version_major": 2,
       "version_minor": 0
      },
      "text/plain": [
       "Iterating over tracks:   0%|          | 0/267 [00:00<?, ?it/s]"
      ]
     },
     "metadata": {},
     "output_type": "display_data"
    },
    {
     "name": "stderr",
     "output_type": "stream",
     "text": [
      "[INFO][2024/06/04 11:27:44 am] Opening HDF file: /mnt/SYNO/macrohet_syno/ND0003/labels/cpv3/(6, 9).h5...\n",
      "[INFO][2024/06/04 11:28:07 am] Loading segmentation (154, 6048, 6048)\n",
      "[INFO][2024/06/04 11:28:07 am] Loading tracks/obj_type_1\n",
      "[INFO][2024/06/04 11:28:08 am] Loading LBEP/obj_type_1\n",
      "[INFO][2024/06/04 11:28:08 am] Loading objects/obj_type_1 (30390, 5) (30390 filtered: None)\n",
      "[INFO][2024/06/04 11:28:08 am] Closing HDF file: /mnt/SYNO/macrohet_syno/ND0003/labels/cpv3/(6, 9).h5\n"
     ]
    },
    {
     "data": {
      "application/vnd.jupyter.widget-view+json": {
       "model_id": "eea05df467f44a1ea3e951feb5cba768",
       "version_major": 2,
       "version_minor": 0
      },
      "text/plain": [
       "Iterating over tracks:   0%|          | 0/244 [00:00<?, ?it/s]"
      ]
     },
     "metadata": {},
     "output_type": "display_data"
    },
    {
     "name": "stderr",
     "output_type": "stream",
     "text": [
      "[INFO][2024/06/04 11:29:53 am] Opening HDF file: /mnt/SYNO/macrohet_syno/ND0003/labels/cpv3/(6, 10).h5...\n",
      "[INFO][2024/06/04 11:30:18 am] Loading segmentation (154, 6048, 6048)\n",
      "[INFO][2024/06/04 11:30:18 am] Loading tracks/obj_type_1\n",
      "[INFO][2024/06/04 11:30:18 am] Loading LBEP/obj_type_1\n",
      "[INFO][2024/06/04 11:30:18 am] Loading objects/obj_type_1 (34869, 5) (34869 filtered: None)\n",
      "[INFO][2024/06/04 11:30:18 am] Closing HDF file: /mnt/SYNO/macrohet_syno/ND0003/labels/cpv3/(6, 10).h5\n"
     ]
    },
    {
     "data": {
      "application/vnd.jupyter.widget-view+json": {
       "model_id": "ca817f6ff9c045bd8a30e2eb433c4136",
       "version_major": 2,
       "version_minor": 0
      },
      "text/plain": [
       "Iterating over tracks:   0%|          | 0/275 [00:00<?, ?it/s]"
      ]
     },
     "metadata": {},
     "output_type": "display_data"
    },
    {
     "name": "stderr",
     "output_type": "stream",
     "text": [
      "[INFO][2024/06/04 11:32:09 am] Opening HDF file: /mnt/SYNO/macrohet_syno/ND0003/labels/cpv3/(6, 11).h5...\n",
      "[INFO][2024/06/04 11:32:33 am] Loading segmentation (154, 6048, 6048)\n",
      "[INFO][2024/06/04 11:32:33 am] Loading tracks/obj_type_1\n",
      "[INFO][2024/06/04 11:32:33 am] Loading LBEP/obj_type_1\n",
      "[INFO][2024/06/04 11:32:33 am] Loading objects/obj_type_1 (24607, 5) (24607 filtered: None)\n",
      "[INFO][2024/06/04 11:32:34 am] Closing HDF file: /mnt/SYNO/macrohet_syno/ND0003/labels/cpv3/(6, 11).h5\n"
     ]
    },
    {
     "data": {
      "application/vnd.jupyter.widget-view+json": {
       "model_id": "a54e20819ab1412db8ab2c9e7e0b7f7d",
       "version_major": 2,
       "version_minor": 0
      },
      "text/plain": [
       "Iterating over tracks:   0%|          | 0/163 [00:00<?, ?it/s]"
      ]
     },
     "metadata": {},
     "output_type": "display_data"
    },
    {
     "name": "stderr",
     "output_type": "stream",
     "text": [
      "[INFO][2024/06/04 11:33:40 am] Opening HDF file: /mnt/SYNO/macrohet_syno/ND0003/labels/cpv3/(6, 12).h5...\n",
      "[INFO][2024/06/04 11:34:05 am] Loading segmentation (154, 6048, 6048)\n",
      "[INFO][2024/06/04 11:34:05 am] Loading tracks/obj_type_1\n",
      "[INFO][2024/06/04 11:34:05 am] Loading LBEP/obj_type_1\n",
      "[INFO][2024/06/04 11:34:05 am] Loading objects/obj_type_1 (17246, 5) (17246 filtered: None)\n",
      "[INFO][2024/06/04 11:34:05 am] Closing HDF file: /mnt/SYNO/macrohet_syno/ND0003/labels/cpv3/(6, 12).h5\n"
     ]
    },
    {
     "data": {
      "application/vnd.jupyter.widget-view+json": {
       "model_id": "643828c47c1f46ab98352aef08a97a47",
       "version_major": 2,
       "version_minor": 0
      },
      "text/plain": [
       "Iterating over tracks:   0%|          | 0/26 [00:00<?, ?it/s]"
      ]
     },
     "metadata": {},
     "output_type": "display_data"
    }
   ],
   "source": [
    "# Iterate over the expt_IDs\n",
    "for expt_ID in tqdm(['PS0000', 'ND0002', 'ND0003']):\n",
    "    subset_df = df[df['Experiment ID'] == expt_ID]\n",
    "    subset_df = subset_df[subset_df['Time (hours)'] == subset_df['Time (hours)'].max()]\n",
    "    acq_IDs = subset_df['Acquisition ID'].unique()\n",
    "\n",
    "    for acq_ID in tqdm(acq_IDs, total = len(acq_IDs)):\n",
    "        # make output directory \n",
    "        output_directory = f'/mnt/SYNO/macrohet_syno/{expt_ID}/labels/roi/{acq_ID}'\n",
    "        os.makedirs(output_directory, exist_ok=True)\n",
    "\n",
    "        # load tracks\n",
    "        seg_fn = glob.glob(os.path.join(f'/mnt/SYNO/macrohet_syno/{expt_ID}/labels/*/{acq_ID}.h5'))[0]\n",
    "        # Read the segmentation and tracks\n",
    "        with btrack.io.HDF5FileHandler(seg_fn, 'r', obj_type='obj_type_1') as reader:\n",
    "            segmentation = reader.segmentation\n",
    "            tracks = [t for t in reader.tracks if t.in_frame(len(segmentation)-1)]\n",
    "        segmentation_array = segmentation[-1]        \n",
    "       \n",
    "        ordered_boundary_coordinates = {}\n",
    "        for track in tqdm(tracks, leave = False, desc = 'Iterating over tracks'):\n",
    "            # get the last coords of track\n",
    "            x, y = int(track.x[-1]*scale_factor), int(track.y[-1]*scale_factor)\n",
    "        \n",
    "            # Get the value of the segment at the coordinates\n",
    "            value = segmentation_array[y, x]\n",
    "        \n",
    "            if value == 0:  # Assuming 0 is the background\n",
    "                continue\n",
    "            \n",
    "            # Create a binary mask for the current value\n",
    "            binary_mask = segmentation_array == value\n",
    "            \n",
    "            # Find the contours of the binary mask\n",
    "            contours = measure.find_contours(binary_mask, 0.5)\n",
    "            \n",
    "            # Use only the largest contour to represent the boundary\n",
    "            largest_contour = max(contours, key=len)\n",
    "            \n",
    "            # Convert contour to integer coordinates and ensure uniqueness\n",
    "            boundary_coords = np.round(largest_contour).astype(int)\n",
    "            \n",
    "            # Ensure the boundary coordinates form a closed loop\n",
    "            if not np.array_equal(boundary_coords[0], boundary_coords[-1]):\n",
    "                boundary_coords = np.vstack([boundary_coords, boundary_coords[0]])\n",
    "        \n",
    "            # find if there is a cell ID associated with \n",
    "            # Format the coordinates with leading zeros\n",
    "            x_str = f'{x:04d}'\n",
    "            y_str = f'{y:04d}'\n",
    "            \n",
    "            # Save the boundary coordinates as an ROI file with formatted name\n",
    "            roi_filename = f'{track.ID}_{x_str}_{y_str}.roi'\n",
    "            roi_path = os.path.join(output_directory, roi_filename)\n",
    "            ImagejRoi.frompoints(boundary_coords).tofile(roi_path)\n"
   ]
  },
  {
   "cell_type": "code",
   "execution_count": 113,
   "id": "0a1d1003-a8c4-40b7-a15b-a42775f247fd",
   "metadata": {},
   "outputs": [],
   "source": [
    "scale_factor = 5.04"
   ]
  },
  {
   "cell_type": "code",
   "execution_count": 94,
   "id": "87efa4c0-9d79-4cf1-b139-280a432ec8b8",
   "metadata": {},
   "outputs": [
    {
     "data": {
      "application/vnd.jupyter.widget-view+json": {
       "model_id": "fcf24e4883d943e1b5b76c97d1205f7a",
       "version_major": 2,
       "version_minor": 0
      },
      "text/plain": [
       "  0%|          | 0/2 [00:00<?, ?it/s]"
      ]
     },
     "metadata": {},
     "output_type": "display_data"
    }
   ],
   "source": [
    "unique_values = np.unique(segmentation_array)\n",
    "ordered_boundary_coordinates = {}\n",
    "\n",
    "for value in tqdm(unique_values):\n",
    "    if value == 0:  # Assuming 0 is the background\n",
    "        continue\n",
    "    \n",
    "    # Create a binary mask for the current value\n",
    "    binary_mask = segmentation_array == value\n",
    "    \n",
    "    # Find the contours of the binary mask\n",
    "    contours = measure.find_contours(binary_mask, 0.5)\n",
    "    \n",
    "    # Use only the largest contour to represent the boundary\n",
    "    largest_contour = max(contours, key=len)\n",
    "    \n",
    "    # Convert contour to integer coordinates and ensure uniqueness\n",
    "    boundary_coords = np.round(largest_contour).astype(int)\n",
    "    \n",
    "    # Ensure the boundary coordinates form a closed loop\n",
    "    if not np.array_equal(boundary_coords[0], boundary_coords[-1]):\n",
    "        boundary_coords = np.vstack([boundary_coords, boundary_coords[0]])\n",
    "\n",
    "    # find if there is a cell ID associated with \n",
    "    \n",
    "    \n",
    "    # save out\n",
    "    ImagejRoi.frompoints(boundary_coords).tofile('/home/dayn/Desktop/{value}.roi')"
   ]
  },
  {
   "cell_type": "code",
   "execution_count": 67,
   "id": "c82d5fa6-e94f-40cb-b957-2ce22b9a751e",
   "metadata": {
    "scrolled": true
   },
   "outputs": [
    {
     "data": {
      "text/plain": [
       "{1: array([[116,  95],\n",
       "        [116,  94],\n",
       "        [116,  93],\n",
       "        [116,  92],\n",
       "        [116,  91],\n",
       "        [116,  90],\n",
       "        [116,  89],\n",
       "        [116,  88],\n",
       "        [116,  87],\n",
       "        [116,  86],\n",
       "        [116,  85],\n",
       "        [116,  84],\n",
       "        [116,  84],\n",
       "        [116,  83],\n",
       "        [116,  82],\n",
       "        [116,  81],\n",
       "        [116,  80],\n",
       "        [116,  79],\n",
       "        [116,  78],\n",
       "        [115,  78],\n",
       "        [114,  77],\n",
       "        [114,  76],\n",
       "        [114,  75],\n",
       "        [114,  74],\n",
       "        [114,  74],\n",
       "        [114,  73],\n",
       "        [113,  72],\n",
       "        [112,  72],\n",
       "        [112,  71],\n",
       "        [112,  70],\n",
       "        [112,  69],\n",
       "        [112,  68],\n",
       "        [112,  68],\n",
       "        [112,  67],\n",
       "        [111,  66],\n",
       "        [110,  66],\n",
       "        [110,  66],\n",
       "        [110,  65],\n",
       "        [110,  64],\n",
       "        [109,  64],\n",
       "        [108,  63],\n",
       "        [108,  62],\n",
       "        [108,  62],\n",
       "        [107,  62],\n",
       "        [106,  61],\n",
       "        [106,  60],\n",
       "        [106,  60],\n",
       "        [106,  59],\n",
       "        [105,  58],\n",
       "        [104,  58],\n",
       "        [104,  58],\n",
       "        [104,  57],\n",
       "        [104,  56],\n",
       "        [103,  56],\n",
       "        [102,  55],\n",
       "        [102,  54],\n",
       "        [102,  54],\n",
       "        [101,  54],\n",
       "        [100,  53],\n",
       "        [100,  52],\n",
       "        [ 99,  52],\n",
       "        [ 98,  52],\n",
       "        [ 98,  52],\n",
       "        [ 98,  51],\n",
       "        [ 97,  50],\n",
       "        [ 96,  50],\n",
       "        [ 96,  50],\n",
       "        [ 96,  49],\n",
       "        [ 95,  48],\n",
       "        [ 94,  48],\n",
       "        [ 94,  48],\n",
       "        [ 93,  48],\n",
       "        [ 92,  47],\n",
       "        [ 92,  46],\n",
       "        [ 91,  46],\n",
       "        [ 90,  46],\n",
       "        [ 89,  46],\n",
       "        [ 88,  46],\n",
       "        [ 88,  46],\n",
       "        [ 88,  45],\n",
       "        [ 87,  44],\n",
       "        [ 86,  44],\n",
       "        [ 86,  44],\n",
       "        [ 85,  44],\n",
       "        [ 84,  44],\n",
       "        [ 83,  44],\n",
       "        [ 82,  44],\n",
       "        [ 81,  44],\n",
       "        [ 80,  44],\n",
       "        [ 79,  44],\n",
       "        [ 78,  44],\n",
       "        [ 77,  44],\n",
       "        [ 76,  44],\n",
       "        [ 75,  44],\n",
       "        [ 74,  44],\n",
       "        [ 74,  44],\n",
       "        [ 73,  44],\n",
       "        [ 72,  44],\n",
       "        [ 71,  44],\n",
       "        [ 70,  44],\n",
       "        [ 69,  44],\n",
       "        [ 68,  44],\n",
       "        [ 68,  45],\n",
       "        [ 67,  46],\n",
       "        [ 66,  46],\n",
       "        [ 66,  46],\n",
       "        [ 65,  46],\n",
       "        [ 64,  46],\n",
       "        [ 64,  47],\n",
       "        [ 63,  48],\n",
       "        [ 62,  48],\n",
       "        [ 62,  48],\n",
       "        [ 62,  49],\n",
       "        [ 61,  50],\n",
       "        [ 60,  50],\n",
       "        [ 60,  50],\n",
       "        [ 59,  50],\n",
       "        [ 58,  51],\n",
       "        [ 58,  52],\n",
       "        [ 58,  52],\n",
       "        [ 57,  52],\n",
       "        [ 56,  52],\n",
       "        [ 56,  53],\n",
       "        [ 55,  54],\n",
       "        [ 54,  54],\n",
       "        [ 54,  54],\n",
       "        [ 54,  55],\n",
       "        [ 53,  56],\n",
       "        [ 52,  56],\n",
       "        [ 52,  56],\n",
       "        [ 52,  57],\n",
       "        [ 51,  58],\n",
       "        [ 50,  58],\n",
       "        [ 50,  58],\n",
       "        [ 50,  59],\n",
       "        [ 49,  60],\n",
       "        [ 48,  60],\n",
       "        [ 48,  60],\n",
       "        [ 48,  61],\n",
       "        [ 48,  62],\n",
       "        [ 48,  63],\n",
       "        [ 47,  64],\n",
       "        [ 46,  64],\n",
       "        [ 46,  64],\n",
       "        [ 46,  65],\n",
       "        [ 45,  66],\n",
       "        [ 44,  66],\n",
       "        [ 44,  66],\n",
       "        [ 44,  67],\n",
       "        [ 43,  68],\n",
       "        [ 42,  68],\n",
       "        [ 42,  69],\n",
       "        [ 42,  70],\n",
       "        [ 42,  70],\n",
       "        [ 42,  71],\n",
       "        [ 42,  72],\n",
       "        [ 42,  73],\n",
       "        [ 42,  74],\n",
       "        [ 42,  75],\n",
       "        [ 41,  76],\n",
       "        [ 40,  76],\n",
       "        [ 40,  77],\n",
       "        [ 40,  78],\n",
       "        [ 40,  79],\n",
       "        [ 40,  80],\n",
       "        [ 40,  81],\n",
       "        [ 40,  82],\n",
       "        [ 40,  83],\n",
       "        [ 40,  84],\n",
       "        [ 40,  85],\n",
       "        [ 40,  86],\n",
       "        [ 40,  87],\n",
       "        [ 41,  88],\n",
       "        [ 42,  88],\n",
       "        [ 42,  89],\n",
       "        [ 42,  90],\n",
       "        [ 42,  90],\n",
       "        [ 42,  91],\n",
       "        [ 42,  92],\n",
       "        [ 43,  92],\n",
       "        [ 44,  93],\n",
       "        [ 44,  94],\n",
       "        [ 44,  95],\n",
       "        [ 44,  96],\n",
       "        [ 44,  96],\n",
       "        [ 45,  96],\n",
       "        [ 46,  97],\n",
       "        [ 46,  98],\n",
       "        [ 46,  98],\n",
       "        [ 47,  98],\n",
       "        [ 48,  99],\n",
       "        [ 48, 100],\n",
       "        [ 48, 100],\n",
       "        [ 49, 100],\n",
       "        [ 50, 100],\n",
       "        [ 50, 101],\n",
       "        [ 51, 102],\n",
       "        [ 52, 102],\n",
       "        [ 52, 102],\n",
       "        [ 52, 103],\n",
       "        [ 53, 104],\n",
       "        [ 54, 104],\n",
       "        [ 54, 104],\n",
       "        [ 54, 105],\n",
       "        [ 55, 106],\n",
       "        [ 56, 106],\n",
       "        [ 56, 106],\n",
       "        [ 57, 106],\n",
       "        [ 58, 106],\n",
       "        [ 58, 107],\n",
       "        [ 59, 108],\n",
       "        [ 60, 108],\n",
       "        [ 61, 108],\n",
       "        [ 62, 108],\n",
       "        [ 62, 108],\n",
       "        [ 63, 108],\n",
       "        [ 64, 108],\n",
       "        [ 64, 109],\n",
       "        [ 65, 110],\n",
       "        [ 66, 110],\n",
       "        [ 66, 110],\n",
       "        [ 67, 110],\n",
       "        [ 68, 110],\n",
       "        [ 69, 110],\n",
       "        [ 70, 111],\n",
       "        [ 70, 112],\n",
       "        [ 71, 112],\n",
       "        [ 72, 112],\n",
       "        [ 72, 112],\n",
       "        [ 73, 112],\n",
       "        [ 74, 112],\n",
       "        [ 75, 112],\n",
       "        [ 76, 112],\n",
       "        [ 77, 112],\n",
       "        [ 78, 113],\n",
       "        [ 78, 114],\n",
       "        [ 79, 114],\n",
       "        [ 80, 114],\n",
       "        [ 81, 114],\n",
       "        [ 82, 114],\n",
       "        [ 83, 114],\n",
       "        [ 84, 114],\n",
       "        [ 84, 114],\n",
       "        [ 85, 114],\n",
       "        [ 86, 114],\n",
       "        [ 87, 114],\n",
       "        [ 88, 114],\n",
       "        [ 89, 114],\n",
       "        [ 90, 114],\n",
       "        [ 91, 114],\n",
       "        [ 92, 114],\n",
       "        [ 93, 114],\n",
       "        [ 94, 114],\n",
       "        [ 94, 115],\n",
       "        [ 95, 116],\n",
       "        [ 96, 116],\n",
       "        [ 97, 116],\n",
       "        [ 98, 116],\n",
       "        [ 99, 116],\n",
       "        [100, 116],\n",
       "        [101, 116],\n",
       "        [102, 116],\n",
       "        [103, 116],\n",
       "        [104, 115],\n",
       "        [104, 114],\n",
       "        [105, 114],\n",
       "        [106, 114],\n",
       "        [106, 114],\n",
       "        [107, 114],\n",
       "        [108, 113],\n",
       "        [108, 112],\n",
       "        [108, 112],\n",
       "        [109, 112],\n",
       "        [110, 111],\n",
       "        [110, 110],\n",
       "        [110, 110],\n",
       "        [111, 110],\n",
       "        [112, 109],\n",
       "        [112, 108],\n",
       "        [112, 107],\n",
       "        [112, 106],\n",
       "        [112, 106],\n",
       "        [113, 106],\n",
       "        [114, 105],\n",
       "        [114, 104],\n",
       "        [114, 104],\n",
       "        [114, 103],\n",
       "        [114, 102],\n",
       "        [114, 101],\n",
       "        [115, 100],\n",
       "        [116, 100],\n",
       "        [116,  99],\n",
       "        [116,  98],\n",
       "        [116,  97],\n",
       "        [116,  96],\n",
       "        [116,  96],\n",
       "        [116,  95]])}"
      ]
     },
     "execution_count": 67,
     "metadata": {},
     "output_type": "execute_result"
    }
   ],
   "source": [
    "boundary_coordinates"
   ]
  },
  {
   "cell_type": "code",
   "execution_count": 7,
   "id": "1faf5bbe-2784-4ef7-8617-64bb483c1a42",
   "metadata": {},
   "outputs": [],
   "source": [
    "import napari"
   ]
  },
  {
   "cell_type": "code",
   "execution_count": 13,
   "id": "035a3965-dc40-41bc-8aa7-ce3a94d82cb4",
   "metadata": {},
   "outputs": [
    {
     "data": {
      "text/plain": [
       "<Labels layer 'segmentation' at 0x7f46bd4cf340>"
      ]
     },
     "execution_count": 13,
     "metadata": {},
     "output_type": "execute_result"
    }
   ],
   "source": [
    "viewer = napari.Viewer()\n",
    "\n",
    "viewer.add_labels(segmentation)"
   ]
  },
  {
   "cell_type": "code",
   "execution_count": 10,
   "id": "9e939605-08e1-4130-824d-9b38374807d5",
   "metadata": {},
   "outputs": [],
   "source": [
    "from roifile import ImagejRoi"
   ]
  },
  {
   "cell_type": "code",
   "execution_count": 71,
   "id": "7d083892-4072-4cb5-9f33-8abac342db35",
   "metadata": {},
   "outputs": [],
   "source": [
    "roi = ImagejRoi.fromfile('/home/dayn/Desktop/0025-0044.roi')"
   ]
  },
  {
   "cell_type": "code",
   "execution_count": 72,
   "id": "5b6173d3-3504-4e27-9719-176d2c5f1ba2",
   "metadata": {},
   "outputs": [
    {
     "data": {
      "image/png": "[encoded data removed]",
      "text/plain": [
       "<Figure size 640x480 with 1 Axes>"
      ]
     },
     "metadata": {},
     "output_type": "display_data"
    }
   ],
   "source": [
    "roi.plot()"
   ]
  },
  {
   "cell_type": "code",
   "execution_count": 14,
   "id": "831e31e2-ebdc-433d-89e4-a843238c25c5",
   "metadata": {},
   "outputs": [
    {
     "data": {
      "text/plain": [
       "array([[43., 44.],\n",
       "       [43., 58.],\n",
       "       [67., 58.],\n",
       "       [67., 44.],\n",
       "       [43., 44.]], dtype=float32)"
      ]
     },
     "execution_count": 14,
     "metadata": {},
     "output_type": "execute_result"
    }
   ],
   "source": [
    "roi.coordinates()"
   ]
  },
  {
   "cell_type": "code",
   "execution_count": 27,
   "id": "031fa4d0-e0f0-4fb5-9679-54fe04396839",
   "metadata": {},
   "outputs": [
    {
     "name": "stderr",
     "output_type": "stream",
     "text": [
      "[INFO][2024/05/31 05:47:58 PM] Opening HDF file: /mnt/SYNO/macrohet_syno/PS0000/labels/macrohet_seg_model/(3, 4).h5...\n",
      "[INFO][2024/05/31 05:48:07 PM] Loading segmentation (75, 6048, 6048)\n",
      "[INFO][2024/05/31 05:48:07 PM] Closing HDF file: /mnt/SYNO/macrohet_syno/PS0000/labels/macrohet_seg_model/(3, 4).h5\n"
     ]
    },
    {
     "ename": "AttributeError",
     "evalue": "'numpy.int64' object has no attribute 'to_bytes'",
     "output_type": "error",
     "traceback": [
      "\u001b[0;31m---------------------------------------------------------------------------\u001b[0m",
      "\u001b[0;31mAttributeError\u001b[0m                            Traceback (most recent call last)",
      "Cell \u001b[0;32mIn[27], line 78\u001b[0m\n\u001b[1;32m     76\u001b[0m \u001b[38;5;28;01mif\u001b[39;00m contours:\n\u001b[1;32m     77\u001b[0m     contour \u001b[38;5;241m=\u001b[39m contours[\u001b[38;5;241m0\u001b[39m]\u001b[38;5;241m.\u001b[39mreshape(\u001b[38;5;241m-\u001b[39m\u001b[38;5;241m1\u001b[39m, \u001b[38;5;241m2\u001b[39m)\n\u001b[0;32m---> 78\u001b[0m     roi_content \u001b[38;5;241m=\u001b[39m \u001b[43mcreate_roi_file_content\u001b[49m\u001b[43m(\u001b[49m\u001b[43mcontour\u001b[49m\u001b[43m)\u001b[49m\n\u001b[1;32m     80\u001b[0m     \u001b[38;5;66;03m# Save ROI to zip file\u001b[39;00m\n\u001b[1;32m     81\u001b[0m     roi_name \u001b[38;5;241m=\u001b[39m \u001b[38;5;124mf\u001b[39m\u001b[38;5;124m'\u001b[39m\u001b[38;5;132;01m{\u001b[39;00macq_ID\u001b[38;5;132;01m}\u001b[39;00m\u001b[38;5;124m_seg_\u001b[39m\u001b[38;5;132;01m{\u001b[39;00mseg_id\u001b[38;5;132;01m}\u001b[39;00m\u001b[38;5;124m.roi\u001b[39m\u001b[38;5;124m'\u001b[39m\n",
      "Cell \u001b[0;32mIn[27], line 7\u001b[0m, in \u001b[0;36mcreate_roi_file_content\u001b[0;34m(contour)\u001b[0m\n\u001b[1;32m      5\u001b[0m \u001b[38;5;28mtype\u001b[39m \u001b[38;5;241m=\u001b[39m (\u001b[38;5;241m7\u001b[39m)\u001b[38;5;241m.\u001b[39mto_bytes(\u001b[38;5;241m2\u001b[39m, \u001b[38;5;124m'\u001b[39m\u001b[38;5;124mbig\u001b[39m\u001b[38;5;124m'\u001b[39m)  \u001b[38;5;66;03m# ROI type (polygon)\u001b[39;00m\n\u001b[1;32m      6\u001b[0m n_coordinates \u001b[38;5;241m=\u001b[39m \u001b[38;5;28mlen\u001b[39m(contour)\u001b[38;5;241m.\u001b[39mto_bytes(\u001b[38;5;241m2\u001b[39m, \u001b[38;5;124m'\u001b[39m\u001b[38;5;124mbig\u001b[39m\u001b[38;5;124m'\u001b[39m)\n\u001b[0;32m----> 7\u001b[0m top \u001b[38;5;241m=\u001b[39m \u001b[38;5;28;43mmin\u001b[39;49m\u001b[43m(\u001b[49m\u001b[43mcontour\u001b[49m\u001b[43m[\u001b[49m\u001b[43m:\u001b[49m\u001b[43m,\u001b[49m\u001b[43m \u001b[49m\u001b[38;5;241;43m1\u001b[39;49m\u001b[43m]\u001b[49m\u001b[43m)\u001b[49m\u001b[38;5;241;43m.\u001b[39;49m\u001b[43mastype\u001b[49m\u001b[43m(\u001b[49m\u001b[38;5;28;43mint\u001b[39;49m\u001b[43m)\u001b[49m\u001b[38;5;241;43m.\u001b[39;49m\u001b[43mto_bytes\u001b[49m(\u001b[38;5;241m2\u001b[39m, \u001b[38;5;124m'\u001b[39m\u001b[38;5;124mbig\u001b[39m\u001b[38;5;124m'\u001b[39m)\n\u001b[1;32m      8\u001b[0m left \u001b[38;5;241m=\u001b[39m \u001b[38;5;28mmin\u001b[39m(contour[:, \u001b[38;5;241m0\u001b[39m])\u001b[38;5;241m.\u001b[39mastype(\u001b[38;5;28mint\u001b[39m)\u001b[38;5;241m.\u001b[39mto_bytes(\u001b[38;5;241m2\u001b[39m, \u001b[38;5;124m'\u001b[39m\u001b[38;5;124mbig\u001b[39m\u001b[38;5;124m'\u001b[39m)\n\u001b[1;32m      9\u001b[0m bottom \u001b[38;5;241m=\u001b[39m (\u001b[38;5;28mmax\u001b[39m(contour[:, \u001b[38;5;241m1\u001b[39m]) \u001b[38;5;241m+\u001b[39m \u001b[38;5;241m1\u001b[39m)\u001b[38;5;241m.\u001b[39mastype(\u001b[38;5;28mint\u001b[39m)\u001b[38;5;241m.\u001b[39mto_bytes(\u001b[38;5;241m2\u001b[39m, \u001b[38;5;124m'\u001b[39m\u001b[38;5;124mbig\u001b[39m\u001b[38;5;124m'\u001b[39m)\n",
      "\u001b[0;31mAttributeError\u001b[0m: 'numpy.int64' object has no attribute 'to_bytes'"
     ]
    }
   ],
   "source": [
    "\n",
    "\n",
    "# Function to create ROI file content\n",
    "def create_roi_file_content(contour):\n",
    "    header = b'Iout'  # Magic identifier\n",
    "    version = (217).to_bytes(2, 'big')  # ROI version\n",
    "    type = (7).to_bytes(2, 'big')  # ROI type (polygon)\n",
    "    n_coordinates = len(contour).to_bytes(2, 'big')\n",
    "    top = min(contour[:, 1]).astype(int).to_bytes(2, 'big')\n",
    "    left = min(contour[:, 0]).astype(int).to_bytes(2, 'big')\n",
    "    bottom = (max(contour[:, 1]) + 1).astype(int).to_bytes(2, 'big')\n",
    "    right = (max(contour[:, 0]) + 1).to_bytes(2, 'big')\n",
    "    x1 = (0).to_bytes(4, 'big')\n",
    "    y1 = (0).to_bytes(4, 'big')\n",
    "    x2 = (0).to_bytes(4, 'big')\n",
    "    y2 = (0).to_bytes(4, 'big')\n",
    "    stroke_width = (0).to_bytes(2, 'big')\n",
    "    shape_roi_size = (0).to_bytes(4, 'big')\n",
    "    stroke_color = (0).to_bytes(4, 'big')\n",
    "    fill_color = (0).to_bytes(4, 'big')\n",
    "    subtype = (0).to_bytes(2, 'big')\n",
    "    options = (0).to_bytes(2, 'big')\n",
    "    arrow_style = (0).to_bytes(1, 'big')\n",
    "    arrow_head_size = (0).to_bytes(1, 'big')\n",
    "    rounded_rect_arc_size = (0).to_bytes(2, 'big')\n",
    "    position = (0).to_bytes(4, 'big')\n",
    "    header2offset = (0).to_bytes(2, 'big')\n",
    "    roi_name_offset = (0).to_bytes(4, 'big')\n",
    "    roi_name_size = (0).to_bytes(4, 'big')\n",
    "    unused = (0).to_bytes(24, 'big')\n",
    "\n",
    "    # Coordinates\n",
    "    x_coordinates = (contour[:, 0] - min(contour[:, 0])).astype(int).tobytes()\n",
    "    y_coordinates = (contour[:, 1] - min(contour[:, 1])).astype(int).tobytes()\n",
    "\n",
    "    # Construct the ROI file content\n",
    "    roi_content = (\n",
    "        header + version + type + n_coordinates +\n",
    "        top + left + bottom + right +\n",
    "        x1 + y1 + x2 + y2 + stroke_width +\n",
    "        shape_roi_size + stroke_color + fill_color +\n",
    "        subtype + options + arrow_style + arrow_head_size +\n",
    "        rounded_rect_arc_size + position + header2offset +\n",
    "        roi_name_offset + roi_name_size + unused +\n",
    "        x_coordinates + y_coordinates\n",
    "    )\n",
    "    \n",
    "    return roi_content\n",
    "\n",
    "# Function to save ROI to a zip file\n",
    "def save_roi(zip_file, roi_content, name):\n",
    "    with zipfile.ZipFile(zip_file, 'a') as zf:\n",
    "        zf.writestr(name, roi_content)\n",
    "\n",
    "# Iterate over the expt_IDs\n",
    "for expt_ID in ['PS0000', 'ND0002', 'ND0003']:\n",
    "    subset_df = df[df['Experiment ID'] == expt_ID]\n",
    "    subset_df = subset_df[subset_df['Time (hours)'] == subset_df['Time (hours)'].max()]\n",
    "    acq_IDs = subset_df['Acquisition ID'].unique()\n",
    "\n",
    "    for acq_ID in acq_IDs:\n",
    "        seg_fn = glob.glob(os.path.join(f'/mnt/SYNO/macrohet_syno/{expt_ID}/labels/*/{acq_ID}.h5'))[0]\n",
    "        # Read the segmentation and tracks\n",
    "        with btrack.io.HDF5FileHandler(seg_fn, 'r', obj_type='obj_type_1') as reader:\n",
    "            segmentation = reader.segmentation[-1]\n",
    "\n",
    "        # Create a zip file for storing ROIs\n",
    "        roi_zip_file = seg_fn.replace('macrohet_seg_model', 'ROI_zip').replace('h5', 'zip')\n",
    "        os.makedirs(os.path.dirname(roi_zip_file), exist_ok=True)\n",
    "\n",
    "        # Extract ROI points from the segmentation\n",
    "        for seg_id in np.unique(segmentation):\n",
    "            if seg_id == 0:\n",
    "                continue\n",
    "\n",
    "            instance_mask = segmentation == seg_id\n",
    "            contours, _ = cv2.findContours(instance_mask.astype(np.uint8), cv2.RETR_EXTERNAL, cv2.CHAIN_APPROX_SIMPLE)\n",
    "            if contours:\n",
    "                contour = contours[0].reshape(-1, 2)\n",
    "                roi_content = create_roi_file_content(contour)\n",
    "                \n",
    "                # Save ROI to zip file\n",
    "                roi_name = f'{acq_ID}_seg_{seg_id}.roi'\n",
    "                save_roi(roi_zip_file, roi_content, roi_name)\n",
    "\n",
    "                # Save coordinates to CSV\n",
    "                csv_file = roi_zip_file.replace('.zip', '_coordinates.csv')\n",
    "                with open(csv_file, 'a', newline='') as f:\n",
    "                    writer = csv.writer(f)\n",
    "                    writer.writerow(('x', 'y'))\n",
    "                    for point in contour:\n",
    "                        writer.writerow(point)\n",
    "\n",
    "        print(f\"ROIs and coordinates for {acq_ID} saved successfully.\")\n",
    "\n",
    "# Imports required for the script"
   ]
  },
  {
   "cell_type": "code",
   "execution_count": 19,
   "id": "2ad998f3-eda6-41a4-ac18-7dcfdc43e10a",
   "metadata": {},
   "outputs": [
    {
     "name": "stderr",
     "output_type": "stream",
     "text": [
      "[INFO][2024/05/31 05:36:26 PM] Opening HDF file: /mnt/SYNO/macrohet_syno/PS0000/labels/macrohet_seg_model/(3, 4).h5...\n",
      "[INFO][2024/05/31 05:36:35 PM] Loading segmentation (75, 6048, 6048)\n",
      "[INFO][2024/05/31 05:36:35 PM] Closing HDF file: /mnt/SYNO/macrohet_syno/PS0000/labels/macrohet_seg_model/(3, 4).h5\n"
     ]
    }
   ],
   "source": [
    "for expt_ID in ['PS0000', 'ND0002', 'ND0003']:\n",
    "    subset_df = df[df['Experiment ID'] == expt_ID]\n",
    "    subset_df = subset_df[subset_df['Time (hours)'] == subset_df['Time (hours)'].max()]\n",
    "    acq_IDs = subset_df['Acquisition ID'].unique()\n",
    "    \n",
    "    for acq_ID in acq_IDs:\n",
    "        seg_fn = glob.glob(os.path.join(f'/mnt/SYNO/macrohet_syno/{expt_ID}/labels/*/{acq_ID}.h5'))[0]\n",
    "        # Read the segmentation and tracks\n",
    "        with btrack.io.HDF5FileHandler(seg_fn, 'r', obj_type='obj_type_1') as reader:\n",
    "            segmentation = reader.segmentation[-1]\n",
    "        \n",
    "        # Create a zip file for storing ROIs\n",
    "        roi_zip_file = seg_fn.replace('macrohet_seg_model', 'ROI_zip').replace('h5', 'zip')\n",
    "        os.makedirs(os.path.dirname(roi_zip_file), exist_ok=True)\n",
    "\n",
    "        # ssave segmentation out to roi zip file"
   ]
  },
  {
   "cell_type": "code",
   "execution_count": 20,
   "id": "9e43b2ba-c979-4183-bf0a-337887f9398d",
   "metadata": {},
   "outputs": [
    {
     "data": {
      "text/plain": [
       "(6048, 6048)"
      ]
     },
     "execution_count": 20,
     "metadata": {},
     "output_type": "execute_result"
    }
   ],
   "source": [
    "segmentation.shape"
   ]
  },
  {
   "cell_type": "code",
   "execution_count": 22,
   "id": "d7b3421b-88db-4590-a4cf-179e995c3bb9",
   "metadata": {},
   "outputs": [
    {
     "data": {
      "text/plain": [
       "'/mnt/SYNO/macrohet_syno/PS0000/labels/ROI_zip/(3, 4).zip'"
      ]
     },
     "execution_count": 22,
     "metadata": {},
     "output_type": "execute_result"
    }
   ],
   "source": [
    "seg_fn.replace('macrohet_seg_model', 'ROI_zip').replace('h5', 'zip')"
   ]
  },
  {
   "cell_type": "code",
   "execution_count": 23,
   "id": "5c67b0d8-e989-4907-a4d1-430b80b20d04",
   "metadata": {},
   "outputs": [],
   "source": []
  },
  {
   "cell_type": "code",
   "execution_count": null,
   "id": "cbdc8bfc-72c4-4a6f-8f3e-1f152e2ab116",
   "metadata": {},
   "outputs": [],
   "source": []
  },
  {
   "cell_type": "code",
   "execution_count": null,
   "id": "b5a2d703-7037-4533-931e-2aaab16d31c1",
   "metadata": {},
   "outputs": [],
   "source": []
  },
  {
   "cell_type": "code",
   "execution_count": null,
   "id": "cd78e2b2-5ce9-43c6-9850-92a4d324d68e",
   "metadata": {},
   "outputs": [],
   "source": []
  },
  {
   "cell_type": "code",
   "execution_count": 8,
   "id": "35e2e6a6-253f-44e9-b4ec-dfba4685faf6",
   "metadata": {},
   "outputs": [],
   "source": [
    "for expt_ID in ['PS0000', 'ND0002', 'ND0003']:\n",
    "    subset_df = df[df['Experiment ID'] == expt_ID]\n",
    "    subset_df = subset_df[subset_df['Time (hours)'] == subset_df['Time (hours)'].max()]\n",
    "    IDs = subset_df['ID'].unique()\n",
    "\n",
    "    \n",
    "    for ID in IDs:\n",
    "        sc_df = subset_df[subset_df['ID'] == unique_ID]\n",
    "        \n",
    "        # get the acq id information\n",
    "        acq_ID = row, column = int(unique_ID.split('.')[1]), int(unique_ID.split('.')[2])\n",
    "        cell_ID = int(unique_ID.split('.')[0])\n",
    "        expt_ID = unique_ID.split('.')[-1]\n",
    "\n",
    "        # Read the segmentation and tracks\n",
    "        with btrack.io.HDF5FileHandler(os.path.join(f'/mnt/SYNO/macrohet_syno/{expt_ID}/labels/cpv3/{acq_ID}.h5'), 'r', obj_type='obj_type_1') as reader:\n",
    "            segmentation = reader.segmentation\n",
    "            tracks = reader.tracks"
   ]
  },
  {
   "cell_type": "code",
   "execution_count": 10,
   "id": "c0eaa2f0-cc55-4fc1-8d07-482bbea40652",
   "metadata": {},
   "outputs": [
    {
     "data": {
      "text/plain": [
       "array(['427.3.4.PS0000', '435.3.4.PS0000', '468.3.4.PS0000', ...,\n",
       "       '740.6.9.PS0000', '865.6.9.PS0000', '935.6.9.PS0000'], dtype=object)"
      ]
     },
     "execution_count": 10,
     "metadata": {},
     "output_type": "execute_result"
    }
   ],
   "source": [
    "subset_df['ID'].unique()"
   ]
  },
  {
   "cell_type": "code",
   "execution_count": null,
   "id": "0dfdc837-6975-4acc-845f-5fcad93d8a10",
   "metadata": {},
   "outputs": [],
   "source": [
    "\n",
    "\n",
    "# Function to save ROI to a zip file\n",
    "def save_roi(zip_file, roi, name):\n",
    "    with zipfile.ZipFile(zip_file, 'a') as zf:\n",
    "        zf.writestr(name, roi.write_bytes())\n",
    "\n",
    "# Iterate over all acq_ID and expt_ID\n",
    "for unique_ID in tqdm(df['ID'].unique(), total=len(df['ID'].unique())):\n",
    "    try:\n",
    "        sc_df = df[df['ID'] == unique_ID]\n",
    "        \n",
    "        # get the acq id information\n",
    "        acq_ID = row, column = int(unique_ID.split('.')[1]), int(unique_ID.split('.')[2])\n",
    "        cell_ID = int(unique_ID.split('.')[0])\n",
    "        expt_ID = unique_ID.split('.')[-1]\n",
    "\n",
    "        # Read the segmentation and tracks\n",
    "        with btrack.io.HDF5FileHandler(os.path.join(f'/mnt/SYNO/macrohet_syno/{expt_ID}/labels/cpv3/{acq_ID}.h5'), 'r', obj_type='obj_type_1') as reader:\n",
    "            segmentation = reader.segmentation\n",
    "            tracks = reader.tracks\n",
    "\n",
    "        # Create a zip file for storing ROIs\n",
    "        roi_zip_file = f'/mnt/SYNO/macrohet_syno/{expt_ID}/roi/{acq_ID}_roi.zip'\n",
    "        os.makedirs(os.path.dirname(roi_zip_file), exist_ok=True)\n",
    "\n",
    "        # Iterate over each frame/data point\n",
    "        for i, t in tqdm(enumerate(sc_df['Time (hours)']), total=len(sc_df), leave=False, desc=f'Creating ROI for {unique_ID}'):\n",
    "            sc_df_t = sc_df[sc_df['Time (hours)'] == t]\n",
    "            # Extract xy coordinates and transpose for python and area from the cell information\n",
    "            y_coord, x_coord, area, t, f, mtb = sc_df_t.loc[:, ['x', 'y', 'Mphi Area (µm)', 'Time (hours)', 'Frame', 'Mtb Area (µm)']].values[0]\n",
    "\n",
    "            # Scale according to tracking shrinkage\n",
    "            y_coord, x_coord = y_coord * track_scale_factor, x_coord * track_scale_factor\n",
    "\n",
    "            # Calculate the cropping boundaries\n",
    "            x_start = int(x_coord - side_length / 2)\n",
    "            x_end = int(x_coord + side_length / 2)\n",
    "            y_start = int(y_coord - side_length / 2)\n",
    "            y_end = int(y_coord + side_length / 2)\n",
    "            \n",
    "            # Pad the boundaries if they exceed the image dimensions\n",
    "            if x_start < 0:\n",
    "                x_pad = abs(x_start)\n",
    "                x_start = 0\n",
    "            else:\n",
    "                x_pad = 0\n",
    "\n",
    "            if x_end > segmentation.shape[0]:\n",
    "                x_pad_end = x_end - segmentation.shape[0]\n",
    "                x_end = segmentation.shape[0]\n",
    "            else:\n",
    "                x_pad_end = 0\n",
    "\n",
    "            if y_start < 0:\n",
    "                y_pad = abs(y_start)\n",
    "                y_start = 0\n",
    "            else:\n",
    "                y_pad = 0\n",
    "\n",
    "            if y_end > segmentation.shape[1]:\n",
    "                y_pad_end = y_end - segmentation.shape[1]\n",
    "                y_end = segmentation.shape[1]\n",
    "            else:\n",
    "                y_pad_end = 0\n",
    "\n",
    "            # Crop the segmentation\n",
    "            cropped_masks = segmentation[int(f), x_start:x_end, y_start:y_end]\n",
    "\n",
    "            # Pad the cropped image if necessary\n",
    "            cropped_masks = np.pad(cropped_masks, ((x_pad, x_pad_end), (y_pad, y_pad_end)), mode='constant')\n",
    "\n",
    "            # Extract only that segment\n",
    "            seg_ID = cropped_masks[int(cropped_masks.shape[0] / 2), int(cropped_masks.shape[1] / 2)]\n",
    "            if seg_ID == 0:\n",
    "                instance_mask = np.zeros((side_length, side_length), dtype=np.uint8)\n",
    "            else:\n",
    "                instance_mask = (cropped_masks == seg_ID).astype(np.uint8)\n",
    "\n",
    "            # Find contours of the mask\n",
    "            contours, _ = cv2.findContours(instance_mask, cv2.RETR_EXTERNAL, cv2.CHAIN_APPROX_SIMPLE)\n",
    "            if contours:\n",
    "                contour = contours[0].reshape(-1, 2)\n",
    "                roi = ROI.frompoints(contour)\n",
    "                save_roi(roi_zip_file, roi, f'{unique_ID}_{i}.roi')\n",
    "        \n",
    "        print(f\"ROI for {unique_ID} saved successfully.\")\n",
    "    \n",
    "    except Exception as e:\n",
    "        error_message = f\"Error: {e}\\nUnique ID: {unique_ID}\\n\"\n",
    "        with open(\"error_log.txt\", \"a\") as file:\n",
    "            file.write(error_message)\n",
    "\n",
    "# I\n"
   ]
  },
  {
   "cell_type": "markdown",
   "id": "436cc723-43dd-48f3-9d56-1e1192142281",
   "metadata": {},
   "source": [
    "# Image viewer\n",
    "\n",
    "This notebook is for inspecting timelapse microscopy data, with associated sinhgle-cell labels and tracks, showing the infection of human macrophages with Mycobacterium Tuberculosis (Mtb), acquired on an Opera Phenix confocal microscope. "
   ]
  },
  {
   "cell_type": "code",
   "execution_count": 1,
   "id": "038f21c9-ab18-4688-8de0-829dc749c642",
   "metadata": {},
   "outputs": [],
   "source": [
    "import napari\n",
    "import os, glob\n",
    "from macrohet import dataio, tile, visualise, notify\n",
    "import numpy as np\n",
    "from macrohet import visualise\n",
    "import os\n",
    "import re\n",
    "import numpy as np\n",
    "import cv2\n",
    "import btrack\n",
    "import zarr\n",
    "from skimage import io\n",
    "import cv2\n",
    "from tqdm.auto import tqdm\n",
    "\n",
    "def trim_black_borders(image):\n",
    "    # Convert to grayscale\n",
    "    gray = cv2.cvtColor(image, cv2.COLOR_BGR2GRAY)\n",
    "    # Apply binary thresholding to get black areas\n",
    "    _, thresh = cv2.threshold(gray, 1, 255, cv2.THRESH_BINARY)\n",
    "    # Find contours\n",
    "    contours, _ = cv2.findContours(thresh, cv2.RETR_EXTERNAL, cv2.CHAIN_APPROX_SIMPLE)\n",
    "    if contours:\n",
    "        cnt = max(contours, key=cv2.contourArea)  # find the largest contour\n",
    "        x, y, w, h = cv2.boundingRect(cnt)\n",
    "        image = image[y:y+h, x:x+w]\n",
    "    return image\n",
    "\n",
    "def crop_image_to_tiles(image, num_tiles_per_row, overlap_percentage):\n",
    "    height, width, _ = image.shape\n",
    "\n",
    "    # Calculate basic tile dimensions\n",
    "    basic_tile_width = width // num_tiles_per_row\n",
    "    basic_tile_height = height // num_tiles_per_row\n",
    "\n",
    "    # Calculate the overlap in pixels\n",
    "    overlap = int(overlap_percentage * basic_tile_width)\n",
    "\n",
    "    # Calculate effective tile dimensions including overlap\n",
    "    tile_width = basic_tile_width + overlap\n",
    "    tile_height = basic_tile_height + overlap\n",
    "\n",
    "    tiles = []\n",
    "    for i in range(num_tiles_per_row):\n",
    "        for j in range(num_tiles_per_row):\n",
    "            # Calculate the position of the tile accounting for overlap\n",
    "            left = max(0, i * basic_tile_width - overlap // 2)\n",
    "            upper = max(0, j * basic_tile_height - overlap // 2)\n",
    "            right = min(width, left + tile_width)\n",
    "            lower = min(height, upper + tile_height)\n",
    "            \n",
    "            # Crop the tile\n",
    "            crop = image[upper:lower, left:right]\n",
    "            tiles.append(crop)\n",
    "\n",
    "    return tiles\n",
    "\n",
    "num_tiles_per_row = 3\n",
    "overlap_percentage =0.1\n",
    "\n",
    "tile_position_mapping_dictionary = {1:2, \n",
    "                                   2:7, \n",
    "                                   3:8, \n",
    "                                   4:3, \n",
    "                                   5:6, \n",
    "                                   6:9, \n",
    "                                   7:4, \n",
    "                                   8:5,\n",
    "                                   9:1}"
   ]
  },
  {
   "cell_type": "markdown",
   "id": "146e7f4c-fcb4-4136-a21d-14725bdaa946",
   "metadata": {},
   "source": [
    "### Load experiment of choice\n",
    "\n",
    "The Opera Phenix is a high-throughput confocal microscope that acquires very large 5-dimensional (TCZXY) images over several fields of view in any one experiment. Therefore, a lazy-loading approach is chosen to mosaic, view and annotate these images. This approach depends upon Dask and DaskFusion. The first step is to load the main metadata file (typically called `Index.idx.xml` and located in the main `Images` directory) that contains the image filenames and associated TCXZY information used to organise the images."
   ]
  },
  {
   "cell_type": "code",
   "execution_count": 2,
   "id": "1374af15-828d-4702-80f5-0069aedb019a",
   "metadata": {},
   "outputs": [
    {
     "name": "stdout",
     "output_type": "stream",
     "text": [
      "Reading metadata XML file...\n"
     ]
    },
    {
     "data": {
      "application/vnd.jupyter.widget-view+json": {
       "model_id": "a763b8b5f3824c41a5ef320bae339c34",
       "version_major": 2,
       "version_minor": 0
      },
      "text/plain": [
       "0it [00:00, ?it/s]"
      ]
     },
     "metadata": {},
     "output_type": "display_data"
    },
    {
     "name": "stdout",
     "output_type": "stream",
     "text": [
      "Extracting metadata complete!\n",
      "CPU times: user 32.4 s, sys: 2.67 s, total: 35.1 s\n",
      "Wall time: 35 s\n"
     ]
    },
    {
     "data": {
      "text/html": [
       "<div>\n",
       "<style scoped>\n",
       "    .dataframe tbody tr th:only-of-type {\n",
       "        vertical-align: middle;\n",
       "    }\n",
       "\n",
       "    .dataframe tbody tr th {\n",
       "        vertical-align: top;\n",
       "    }\n",
       "\n",
       "    .dataframe thead th {\n",
       "        text-align: right;\n",
       "    }\n",
       "</style>\n",
       "<table border=\"1\" class=\"dataframe\">\n",
       "  <thead>\n",
       "    <tr style=\"text-align: right;\">\n",
       "      <th></th>\n",
       "      <th>id</th>\n",
       "      <th>State</th>\n",
       "      <th>URL</th>\n",
       "      <th>Row</th>\n",
       "      <th>Col</th>\n",
       "      <th>FieldID</th>\n",
       "      <th>PlaneID</th>\n",
       "      <th>TimepointID</th>\n",
       "      <th>ChannelID</th>\n",
       "      <th>FlimID</th>\n",
       "      <th>...</th>\n",
       "      <th>PositionZ</th>\n",
       "      <th>AbsPositionZ</th>\n",
       "      <th>MeasurementTimeOffset</th>\n",
       "      <th>AbsTime</th>\n",
       "      <th>MainExcitationWavelength</th>\n",
       "      <th>MainEmissionWavelength</th>\n",
       "      <th>ObjectiveMagnification</th>\n",
       "      <th>ObjectiveNA</th>\n",
       "      <th>ExposureTime</th>\n",
       "      <th>OrientationMatrix</th>\n",
       "    </tr>\n",
       "  </thead>\n",
       "  <tbody>\n",
       "    <tr>\n",
       "      <th>0</th>\n",
       "      <td>0301K1F1P1R1</td>\n",
       "      <td>Ok</td>\n",
       "      <td>r03c01f01p01-ch1sk1fk1fl1.tiff</td>\n",
       "      <td>3</td>\n",
       "      <td>1</td>\n",
       "      <td>1</td>\n",
       "      <td>1</td>\n",
       "      <td>0</td>\n",
       "      <td>1</td>\n",
       "      <td>1</td>\n",
       "      <td>...</td>\n",
       "      <td>0</td>\n",
       "      <td>0.135256499</td>\n",
       "      <td>0</td>\n",
       "      <td>2024-02-16T17:15:25.597+00:00</td>\n",
       "      <td>640</td>\n",
       "      <td>706</td>\n",
       "      <td>40</td>\n",
       "      <td>1.1</td>\n",
       "      <td>0.2</td>\n",
       "      <td>[[0.999464,0,0,-5.0],[0,-0.999464,0,4.1],[0,0,...</td>\n",
       "    </tr>\n",
       "    <tr>\n",
       "      <th>1</th>\n",
       "      <td>0301K1F1P1R2</td>\n",
       "      <td>Ok</td>\n",
       "      <td>r03c01f01p01-ch2sk1fk1fl1.tiff</td>\n",
       "      <td>3</td>\n",
       "      <td>1</td>\n",
       "      <td>1</td>\n",
       "      <td>1</td>\n",
       "      <td>0</td>\n",
       "      <td>2</td>\n",
       "      <td>1</td>\n",
       "      <td>...</td>\n",
       "      <td>0</td>\n",
       "      <td>0.135256499</td>\n",
       "      <td>0</td>\n",
       "      <td>2024-02-16T17:15:25.813+00:00</td>\n",
       "      <td>488</td>\n",
       "      <td>522</td>\n",
       "      <td>40</td>\n",
       "      <td>1.1</td>\n",
       "      <td>0.1</td>\n",
       "      <td>[[0.999464,0,0,-5.0],[0,-0.999464,0,4.1],[0,0,...</td>\n",
       "    </tr>\n",
       "    <tr>\n",
       "      <th>2</th>\n",
       "      <td>0301K1F1P2R1</td>\n",
       "      <td>Ok</td>\n",
       "      <td>r03c01f01p02-ch1sk1fk1fl1.tiff</td>\n",
       "      <td>3</td>\n",
       "      <td>1</td>\n",
       "      <td>1</td>\n",
       "      <td>2</td>\n",
       "      <td>0</td>\n",
       "      <td>1</td>\n",
       "      <td>1</td>\n",
       "      <td>...</td>\n",
       "      <td>2E-06</td>\n",
       "      <td>0.1352586</td>\n",
       "      <td>0</td>\n",
       "      <td>2024-02-16T17:15:26.157+00:00</td>\n",
       "      <td>640</td>\n",
       "      <td>706</td>\n",
       "      <td>40</td>\n",
       "      <td>1.1</td>\n",
       "      <td>0.2</td>\n",
       "      <td>[[0.999464,0,0,-5.0],[0,-0.999464,0,4.1],[0,0,...</td>\n",
       "    </tr>\n",
       "    <tr>\n",
       "      <th>3</th>\n",
       "      <td>0301K1F1P2R2</td>\n",
       "      <td>Ok</td>\n",
       "      <td>r03c01f01p02-ch2sk1fk1fl1.tiff</td>\n",
       "      <td>3</td>\n",
       "      <td>1</td>\n",
       "      <td>1</td>\n",
       "      <td>2</td>\n",
       "      <td>0</td>\n",
       "      <td>2</td>\n",
       "      <td>1</td>\n",
       "      <td>...</td>\n",
       "      <td>2E-06</td>\n",
       "      <td>0.1352586</td>\n",
       "      <td>0</td>\n",
       "      <td>2024-02-16T17:15:26.39+00:00</td>\n",
       "      <td>488</td>\n",
       "      <td>522</td>\n",
       "      <td>40</td>\n",
       "      <td>1.1</td>\n",
       "      <td>0.1</td>\n",
       "      <td>[[0.999464,0,0,-5.0],[0,-0.999464,0,4.1],[0,0,...</td>\n",
       "    </tr>\n",
       "    <tr>\n",
       "      <th>4</th>\n",
       "      <td>0301K1F1P3R1</td>\n",
       "      <td>Ok</td>\n",
       "      <td>r03c01f01p03-ch1sk1fk1fl1.tiff</td>\n",
       "      <td>3</td>\n",
       "      <td>1</td>\n",
       "      <td>1</td>\n",
       "      <td>3</td>\n",
       "      <td>0</td>\n",
       "      <td>1</td>\n",
       "      <td>1</td>\n",
       "      <td>...</td>\n",
       "      <td>4E-06</td>\n",
       "      <td>0.135260597</td>\n",
       "      <td>0</td>\n",
       "      <td>2024-02-16T17:15:26.733+00:00</td>\n",
       "      <td>640</td>\n",
       "      <td>706</td>\n",
       "      <td>40</td>\n",
       "      <td>1.1</td>\n",
       "      <td>0.2</td>\n",
       "      <td>[[0.999464,0,0,-5.0],[0,-0.999464,0,4.1],[0,0,...</td>\n",
       "    </tr>\n",
       "    <tr>\n",
       "      <th>...</th>\n",
       "      <td>...</td>\n",
       "      <td>...</td>\n",
       "      <td>...</td>\n",
       "      <td>...</td>\n",
       "      <td>...</td>\n",
       "      <td>...</td>\n",
       "      <td>...</td>\n",
       "      <td>...</td>\n",
       "      <td>...</td>\n",
       "      <td>...</td>\n",
       "      <td>...</td>\n",
       "      <td>...</td>\n",
       "      <td>...</td>\n",
       "      <td>...</td>\n",
       "      <td>...</td>\n",
       "      <td>...</td>\n",
       "      <td>...</td>\n",
       "      <td>...</td>\n",
       "      <td>...</td>\n",
       "      <td>...</td>\n",
       "      <td>...</td>\n",
       "    </tr>\n",
       "    <tr>\n",
       "      <th>349267</th>\n",
       "      <td>0612K154F9P1R2</td>\n",
       "      <td>Ok</td>\n",
       "      <td>r06c12f09p01-ch2sk154fk1fl1.tiff</td>\n",
       "      <td>6</td>\n",
       "      <td>12</td>\n",
       "      <td>9</td>\n",
       "      <td>1</td>\n",
       "      <td>153</td>\n",
       "      <td>2</td>\n",
       "      <td>1</td>\n",
       "      <td>...</td>\n",
       "      <td>0</td>\n",
       "      <td>0.135008901</td>\n",
       "      <td>275402.773</td>\n",
       "      <td>2024-02-19T21:59:46.84+00:00</td>\n",
       "      <td>488</td>\n",
       "      <td>522</td>\n",
       "      <td>40</td>\n",
       "      <td>1.1</td>\n",
       "      <td>0.1</td>\n",
       "      <td>[[0.999464,0,0,-5.0],[0,-0.999464,0,4.1],[0,0,...</td>\n",
       "    </tr>\n",
       "    <tr>\n",
       "      <th>349268</th>\n",
       "      <td>0612K154F9P2R1</td>\n",
       "      <td>Ok</td>\n",
       "      <td>r06c12f09p02-ch1sk154fk1fl1.tiff</td>\n",
       "      <td>6</td>\n",
       "      <td>12</td>\n",
       "      <td>9</td>\n",
       "      <td>2</td>\n",
       "      <td>153</td>\n",
       "      <td>1</td>\n",
       "      <td>1</td>\n",
       "      <td>...</td>\n",
       "      <td>2E-06</td>\n",
       "      <td>0.135010898</td>\n",
       "      <td>275402.773</td>\n",
       "      <td>2024-02-19T21:59:47.183+00:00</td>\n",
       "      <td>640</td>\n",
       "      <td>706</td>\n",
       "      <td>40</td>\n",
       "      <td>1.1</td>\n",
       "      <td>0.2</td>\n",
       "      <td>[[0.999464,0,0,-5.0],[0,-0.999464,0,4.1],[0,0,...</td>\n",
       "    </tr>\n",
       "    <tr>\n",
       "      <th>349269</th>\n",
       "      <td>0612K154F9P2R2</td>\n",
       "      <td>Ok</td>\n",
       "      <td>r06c12f09p02-ch2sk154fk1fl1.tiff</td>\n",
       "      <td>6</td>\n",
       "      <td>12</td>\n",
       "      <td>9</td>\n",
       "      <td>2</td>\n",
       "      <td>153</td>\n",
       "      <td>2</td>\n",
       "      <td>1</td>\n",
       "      <td>...</td>\n",
       "      <td>2E-06</td>\n",
       "      <td>0.135010898</td>\n",
       "      <td>275402.773</td>\n",
       "      <td>2024-02-19T21:59:47.4+00:00</td>\n",
       "      <td>488</td>\n",
       "      <td>522</td>\n",
       "      <td>40</td>\n",
       "      <td>1.1</td>\n",
       "      <td>0.1</td>\n",
       "      <td>[[0.999464,0,0,-5.0],[0,-0.999464,0,4.1],[0,0,...</td>\n",
       "    </tr>\n",
       "    <tr>\n",
       "      <th>349270</th>\n",
       "      <td>0612K154F9P3R1</td>\n",
       "      <td>Ok</td>\n",
       "      <td>r06c12f09p03-ch1sk154fk1fl1.tiff</td>\n",
       "      <td>6</td>\n",
       "      <td>12</td>\n",
       "      <td>9</td>\n",
       "      <td>3</td>\n",
       "      <td>153</td>\n",
       "      <td>1</td>\n",
       "      <td>1</td>\n",
       "      <td>...</td>\n",
       "      <td>4E-06</td>\n",
       "      <td>0.135012895</td>\n",
       "      <td>275402.773</td>\n",
       "      <td>2024-02-19T21:59:47.743+00:00</td>\n",
       "      <td>640</td>\n",
       "      <td>706</td>\n",
       "      <td>40</td>\n",
       "      <td>1.1</td>\n",
       "      <td>0.2</td>\n",
       "      <td>[[0.999464,0,0,-5.0],[0,-0.999464,0,4.1],[0,0,...</td>\n",
       "    </tr>\n",
       "    <tr>\n",
       "      <th>349271</th>\n",
       "      <td>0612K154F9P3R2</td>\n",
       "      <td>Ok</td>\n",
       "      <td>r06c12f09p03-ch2sk154fk1fl1.tiff</td>\n",
       "      <td>6</td>\n",
       "      <td>12</td>\n",
       "      <td>9</td>\n",
       "      <td>3</td>\n",
       "      <td>153</td>\n",
       "      <td>2</td>\n",
       "      <td>1</td>\n",
       "      <td>...</td>\n",
       "      <td>4E-06</td>\n",
       "      <td>0.135012895</td>\n",
       "      <td>275402.773</td>\n",
       "      <td>2024-02-19T21:59:47.963+00:00</td>\n",
       "      <td>488</td>\n",
       "      <td>522</td>\n",
       "      <td>40</td>\n",
       "      <td>1.1</td>\n",
       "      <td>0.1</td>\n",
       "      <td>[[0.999464,0,0,-5.0],[0,-0.999464,0,4.1],[0,0,...</td>\n",
       "    </tr>\n",
       "  </tbody>\n",
       "</table>\n",
       "<p>349272 rows × 35 columns</p>\n",
       "</div>"
      ],
      "text/plain": [
       "                    id State                               URL Row Col  \\\n",
       "0         0301K1F1P1R1    Ok    r03c01f01p01-ch1sk1fk1fl1.tiff   3   1   \n",
       "1         0301K1F1P1R2    Ok    r03c01f01p01-ch2sk1fk1fl1.tiff   3   1   \n",
       "2         0301K1F1P2R1    Ok    r03c01f01p02-ch1sk1fk1fl1.tiff   3   1   \n",
       "3         0301K1F1P2R2    Ok    r03c01f01p02-ch2sk1fk1fl1.tiff   3   1   \n",
       "4         0301K1F1P3R1    Ok    r03c01f01p03-ch1sk1fk1fl1.tiff   3   1   \n",
       "...                ...   ...                               ...  ..  ..   \n",
       "349267  0612K154F9P1R2    Ok  r06c12f09p01-ch2sk154fk1fl1.tiff   6  12   \n",
       "349268  0612K154F9P2R1    Ok  r06c12f09p02-ch1sk154fk1fl1.tiff   6  12   \n",
       "349269  0612K154F9P2R2    Ok  r06c12f09p02-ch2sk154fk1fl1.tiff   6  12   \n",
       "349270  0612K154F9P3R1    Ok  r06c12f09p03-ch1sk154fk1fl1.tiff   6  12   \n",
       "349271  0612K154F9P3R2    Ok  r06c12f09p03-ch2sk154fk1fl1.tiff   6  12   \n",
       "\n",
       "       FieldID PlaneID TimepointID ChannelID FlimID  ... PositionZ  \\\n",
       "0            1       1           0         1      1  ...         0   \n",
       "1            1       1           0         2      1  ...         0   \n",
       "2            1       2           0         1      1  ...     2E-06   \n",
       "3            1       2           0         2      1  ...     2E-06   \n",
       "4            1       3           0         1      1  ...     4E-06   \n",
       "...        ...     ...         ...       ...    ...  ...       ...   \n",
       "349267       9       1         153         2      1  ...         0   \n",
       "349268       9       2         153         1      1  ...     2E-06   \n",
       "349269       9       2         153         2      1  ...     2E-06   \n",
       "349270       9       3         153         1      1  ...     4E-06   \n",
       "349271       9       3         153         2      1  ...     4E-06   \n",
       "\n",
       "       AbsPositionZ MeasurementTimeOffset                        AbsTime  \\\n",
       "0       0.135256499                     0  2024-02-16T17:15:25.597+00:00   \n",
       "1       0.135256499                     0  2024-02-16T17:15:25.813+00:00   \n",
       "2         0.1352586                     0  2024-02-16T17:15:26.157+00:00   \n",
       "3         0.1352586                     0   2024-02-16T17:15:26.39+00:00   \n",
       "4       0.135260597                     0  2024-02-16T17:15:26.733+00:00   \n",
       "...             ...                   ...                            ...   \n",
       "349267  0.135008901            275402.773   2024-02-19T21:59:46.84+00:00   \n",
       "349268  0.135010898            275402.773  2024-02-19T21:59:47.183+00:00   \n",
       "349269  0.135010898            275402.773    2024-02-19T21:59:47.4+00:00   \n",
       "349270  0.135012895            275402.773  2024-02-19T21:59:47.743+00:00   \n",
       "349271  0.135012895            275402.773  2024-02-19T21:59:47.963+00:00   \n",
       "\n",
       "       MainExcitationWavelength MainEmissionWavelength ObjectiveMagnification  \\\n",
       "0                           640                    706                     40   \n",
       "1                           488                    522                     40   \n",
       "2                           640                    706                     40   \n",
       "3                           488                    522                     40   \n",
       "4                           640                    706                     40   \n",
       "...                         ...                    ...                    ...   \n",
       "349267                      488                    522                     40   \n",
       "349268                      640                    706                     40   \n",
       "349269                      488                    522                     40   \n",
       "349270                      640                    706                     40   \n",
       "349271                      488                    522                     40   \n",
       "\n",
       "       ObjectiveNA ExposureTime  \\\n",
       "0              1.1          0.2   \n",
       "1              1.1          0.1   \n",
       "2              1.1          0.2   \n",
       "3              1.1          0.1   \n",
       "4              1.1          0.2   \n",
       "...            ...          ...   \n",
       "349267         1.1          0.1   \n",
       "349268         1.1          0.2   \n",
       "349269         1.1          0.1   \n",
       "349270         1.1          0.2   \n",
       "349271         1.1          0.1   \n",
       "\n",
       "                                        OrientationMatrix  \n",
       "0       [[0.999464,0,0,-5.0],[0,-0.999464,0,4.1],[0,0,...  \n",
       "1       [[0.999464,0,0,-5.0],[0,-0.999464,0,4.1],[0,0,...  \n",
       "2       [[0.999464,0,0,-5.0],[0,-0.999464,0,4.1],[0,0,...  \n",
       "3       [[0.999464,0,0,-5.0],[0,-0.999464,0,4.1],[0,0,...  \n",
       "4       [[0.999464,0,0,-5.0],[0,-0.999464,0,4.1],[0,0,...  \n",
       "...                                                   ...  \n",
       "349267  [[0.999464,0,0,-5.0],[0,-0.999464,0,4.1],[0,0,...  \n",
       "349268  [[0.999464,0,0,-5.0],[0,-0.999464,0,4.1],[0,0,...  \n",
       "349269  [[0.999464,0,0,-5.0],[0,-0.999464,0,4.1],[0,0,...  \n",
       "349270  [[0.999464,0,0,-5.0],[0,-0.999464,0,4.1],[0,0,...  \n",
       "349271  [[0.999464,0,0,-5.0],[0,-0.999464,0,4.1],[0,0,...  \n",
       "\n",
       "[349272 rows x 35 columns]"
      ]
     },
     "execution_count": 2,
     "metadata": {},
     "output_type": "execute_result"
    }
   ],
   "source": [
    "%%time\n",
    "expt_ID = 'ND0003'\n",
    "\n",
    "base_dir = f'/mnt/SYNO/macrohet_syno/{expt_ID}/'\n",
    "# base_dir = f'/mnt/DATA/macrohet/{expt_ID}/'\n",
    "\n",
    "metadata_fn = glob.glob(os.path.join(base_dir, 'acquisition/Images/Index*xml'))[0]\n",
    "metadata = dataio.read_harmony_metadata(metadata_fn)  \n",
    "metadata"
   ]
  },
  {
   "cell_type": "markdown",
   "id": "526ff388-5289-4f56-a417-1fa03a99fd85",
   "metadata": {},
   "source": [
    "### View assay layout and mask information (optional)\n",
    "\n",
    "The Opera Phenix acquires many time lapse series from a range of positions. The first step is to inspect the image metadata, presented in the form of an `Assaylayout/experiment_ID.xml` file, to show which positions correspond to which experimental assays."
   ]
  },
  {
   "cell_type": "code",
   "execution_count": 3,
   "id": "e7c525cd-32aa-4946-a1e5-d45e02c3411f",
   "metadata": {},
   "outputs": [
    {
     "name": "stdout",
     "output_type": "stream",
     "text": [
      "Reading metadata XML file...\n",
      "Extracting metadata complete!\n"
     ]
    },
    {
     "data": {
      "text/html": [
       "<div>\n",
       "<style scoped>\n",
       "    .dataframe tbody tr th:only-of-type {\n",
       "        vertical-align: middle;\n",
       "    }\n",
       "\n",
       "    .dataframe tbody tr th {\n",
       "        vertical-align: top;\n",
       "    }\n",
       "\n",
       "    .dataframe thead th {\n",
       "        text-align: right;\n",
       "    }\n",
       "</style>\n",
       "<table border=\"1\" class=\"dataframe\">\n",
       "  <thead>\n",
       "    <tr style=\"text-align: right;\">\n",
       "      <th></th>\n",
       "      <th></th>\n",
       "      <th>Strain</th>\n",
       "      <th>Compound</th>\n",
       "      <th>Concentration</th>\n",
       "      <th>ConcentrationEC</th>\n",
       "      <th>Replicate #</th>\n",
       "    </tr>\n",
       "    <tr>\n",
       "      <th>Row</th>\n",
       "      <th>Column</th>\n",
       "      <th></th>\n",
       "      <th></th>\n",
       "      <th></th>\n",
       "      <th></th>\n",
       "      <th></th>\n",
       "    </tr>\n",
       "  </thead>\n",
       "  <tbody>\n",
       "    <tr>\n",
       "      <th rowspan=\"12\" valign=\"top\">3</th>\n",
       "      <th>1</th>\n",
       "      <td>UNI</td>\n",
       "      <td>CTRL</td>\n",
       "      <td>0</td>\n",
       "      <td>EC0</td>\n",
       "      <td>1</td>\n",
       "    </tr>\n",
       "    <tr>\n",
       "      <th>2</th>\n",
       "      <td>UNI</td>\n",
       "      <td>CTRL</td>\n",
       "      <td>0</td>\n",
       "      <td>EC0</td>\n",
       "      <td>2</td>\n",
       "    </tr>\n",
       "    <tr>\n",
       "      <th>3</th>\n",
       "      <td>WT</td>\n",
       "      <td>CTRL</td>\n",
       "      <td>0</td>\n",
       "      <td>EC0</td>\n",
       "      <td>1</td>\n",
       "    </tr>\n",
       "    <tr>\n",
       "      <th>4</th>\n",
       "      <td>WT</td>\n",
       "      <td>CTRL</td>\n",
       "      <td>0</td>\n",
       "      <td>EC0</td>\n",
       "      <td>2</td>\n",
       "    </tr>\n",
       "    <tr>\n",
       "      <th>5</th>\n",
       "      <td>WT</td>\n",
       "      <td>PZA</td>\n",
       "      <td>60</td>\n",
       "      <td>EC50</td>\n",
       "      <td>1</td>\n",
       "    </tr>\n",
       "    <tr>\n",
       "      <th>6</th>\n",
       "      <td>WT</td>\n",
       "      <td>PZA</td>\n",
       "      <td>60</td>\n",
       "      <td>EC50</td>\n",
       "      <td>2</td>\n",
       "    </tr>\n",
       "    <tr>\n",
       "      <th>7</th>\n",
       "      <td>WT</td>\n",
       "      <td>RIF</td>\n",
       "      <td>0.1</td>\n",
       "      <td>EC50</td>\n",
       "      <td>1</td>\n",
       "    </tr>\n",
       "    <tr>\n",
       "      <th>8</th>\n",
       "      <td>WT</td>\n",
       "      <td>RIF</td>\n",
       "      <td>0.1</td>\n",
       "      <td>EC50</td>\n",
       "      <td>2</td>\n",
       "    </tr>\n",
       "    <tr>\n",
       "      <th>9</th>\n",
       "      <td>WT</td>\n",
       "      <td>INH</td>\n",
       "      <td>0.04</td>\n",
       "      <td>EC50</td>\n",
       "      <td>1</td>\n",
       "    </tr>\n",
       "    <tr>\n",
       "      <th>10</th>\n",
       "      <td>WT</td>\n",
       "      <td>INH</td>\n",
       "      <td>0.04</td>\n",
       "      <td>EC50</td>\n",
       "      <td>2</td>\n",
       "    </tr>\n",
       "    <tr>\n",
       "      <th>11</th>\n",
       "      <td>WT</td>\n",
       "      <td>BDQ</td>\n",
       "      <td>0.02</td>\n",
       "      <td>EC50</td>\n",
       "      <td>1</td>\n",
       "    </tr>\n",
       "    <tr>\n",
       "      <th>12</th>\n",
       "      <td>WT</td>\n",
       "      <td>BDQ</td>\n",
       "      <td>0.02</td>\n",
       "      <td>EC50</td>\n",
       "      <td>2</td>\n",
       "    </tr>\n",
       "    <tr>\n",
       "      <th rowspan=\"10\" valign=\"top\">4</th>\n",
       "      <th>3</th>\n",
       "      <td>WT</td>\n",
       "      <td>CTRL</td>\n",
       "      <td>0</td>\n",
       "      <td>EC0</td>\n",
       "      <td>3</td>\n",
       "    </tr>\n",
       "    <tr>\n",
       "      <th>4</th>\n",
       "      <td>WT</td>\n",
       "      <td>CTRL</td>\n",
       "      <td>0</td>\n",
       "      <td>EC0</td>\n",
       "      <td>4</td>\n",
       "    </tr>\n",
       "    <tr>\n",
       "      <th>5</th>\n",
       "      <td>WT</td>\n",
       "      <td>PZA</td>\n",
       "      <td>400</td>\n",
       "      <td>EC99</td>\n",
       "      <td>1</td>\n",
       "    </tr>\n",
       "    <tr>\n",
       "      <th>6</th>\n",
       "      <td>WT</td>\n",
       "      <td>PZA</td>\n",
       "      <td>400</td>\n",
       "      <td>EC99</td>\n",
       "      <td>2</td>\n",
       "    </tr>\n",
       "    <tr>\n",
       "      <th>7</th>\n",
       "      <td>WT</td>\n",
       "      <td>RIF</td>\n",
       "      <td>2</td>\n",
       "      <td>EC99</td>\n",
       "      <td>1</td>\n",
       "    </tr>\n",
       "    <tr>\n",
       "      <th>8</th>\n",
       "      <td>WT</td>\n",
       "      <td>RIF</td>\n",
       "      <td>2</td>\n",
       "      <td>EC99</td>\n",
       "      <td>2</td>\n",
       "    </tr>\n",
       "    <tr>\n",
       "      <th>9</th>\n",
       "      <td>WT</td>\n",
       "      <td>INH</td>\n",
       "      <td>2</td>\n",
       "      <td>EC99</td>\n",
       "      <td>1</td>\n",
       "    </tr>\n",
       "    <tr>\n",
       "      <th>10</th>\n",
       "      <td>WT</td>\n",
       "      <td>INH</td>\n",
       "      <td>2</td>\n",
       "      <td>EC99</td>\n",
       "      <td>2</td>\n",
       "    </tr>\n",
       "    <tr>\n",
       "      <th>11</th>\n",
       "      <td>WT</td>\n",
       "      <td>BDQ</td>\n",
       "      <td>2.5</td>\n",
       "      <td>EC99</td>\n",
       "      <td>1</td>\n",
       "    </tr>\n",
       "    <tr>\n",
       "      <th>12</th>\n",
       "      <td>WT</td>\n",
       "      <td>BDQ</td>\n",
       "      <td>2.5</td>\n",
       "      <td>EC99</td>\n",
       "      <td>2</td>\n",
       "    </tr>\n",
       "    <tr>\n",
       "      <th rowspan=\"10\" valign=\"top\">5</th>\n",
       "      <th>3</th>\n",
       "      <td>RD1</td>\n",
       "      <td>CTRL</td>\n",
       "      <td>0</td>\n",
       "      <td>EC0</td>\n",
       "      <td>1</td>\n",
       "    </tr>\n",
       "    <tr>\n",
       "      <th>4</th>\n",
       "      <td>RD1</td>\n",
       "      <td>CTRL</td>\n",
       "      <td>0</td>\n",
       "      <td>EC0</td>\n",
       "      <td>2</td>\n",
       "    </tr>\n",
       "    <tr>\n",
       "      <th>5</th>\n",
       "      <td>RD1</td>\n",
       "      <td>PZA</td>\n",
       "      <td>60</td>\n",
       "      <td>EC50</td>\n",
       "      <td>1</td>\n",
       "    </tr>\n",
       "    <tr>\n",
       "      <th>6</th>\n",
       "      <td>RD1</td>\n",
       "      <td>PZA</td>\n",
       "      <td>60</td>\n",
       "      <td>EC50</td>\n",
       "      <td>2</td>\n",
       "    </tr>\n",
       "    <tr>\n",
       "      <th>7</th>\n",
       "      <td>RD1</td>\n",
       "      <td>RIF</td>\n",
       "      <td>0.1</td>\n",
       "      <td>EC50</td>\n",
       "      <td>1</td>\n",
       "    </tr>\n",
       "    <tr>\n",
       "      <th>8</th>\n",
       "      <td>RD1</td>\n",
       "      <td>RIF</td>\n",
       "      <td>0.1</td>\n",
       "      <td>EC50</td>\n",
       "      <td>2</td>\n",
       "    </tr>\n",
       "    <tr>\n",
       "      <th>9</th>\n",
       "      <td>RD1</td>\n",
       "      <td>INH</td>\n",
       "      <td>0.04</td>\n",
       "      <td>EC50</td>\n",
       "      <td>1</td>\n",
       "    </tr>\n",
       "    <tr>\n",
       "      <th>10</th>\n",
       "      <td>RD1</td>\n",
       "      <td>INH</td>\n",
       "      <td>0.04</td>\n",
       "      <td>EC50</td>\n",
       "      <td>2</td>\n",
       "    </tr>\n",
       "    <tr>\n",
       "      <th>11</th>\n",
       "      <td>RD1</td>\n",
       "      <td>BDQ</td>\n",
       "      <td>0.02</td>\n",
       "      <td>EC50</td>\n",
       "      <td>1</td>\n",
       "    </tr>\n",
       "    <tr>\n",
       "      <th>12</th>\n",
       "      <td>RD1</td>\n",
       "      <td>BDQ</td>\n",
       "      <td>0.02</td>\n",
       "      <td>EC50</td>\n",
       "      <td>2</td>\n",
       "    </tr>\n",
       "    <tr>\n",
       "      <th rowspan=\"10\" valign=\"top\">6</th>\n",
       "      <th>3</th>\n",
       "      <td>RD1</td>\n",
       "      <td>CTRL</td>\n",
       "      <td>0</td>\n",
       "      <td>EC0</td>\n",
       "      <td>3</td>\n",
       "    </tr>\n",
       "    <tr>\n",
       "      <th>4</th>\n",
       "      <td>RD1</td>\n",
       "      <td>CTRL</td>\n",
       "      <td>0</td>\n",
       "      <td>EC0</td>\n",
       "      <td>4</td>\n",
       "    </tr>\n",
       "    <tr>\n",
       "      <th>5</th>\n",
       "      <td>RD1</td>\n",
       "      <td>PZA</td>\n",
       "      <td>400</td>\n",
       "      <td>EC99</td>\n",
       "      <td>1</td>\n",
       "    </tr>\n",
       "    <tr>\n",
       "      <th>6</th>\n",
       "      <td>RD1</td>\n",
       "      <td>PZA</td>\n",
       "      <td>400</td>\n",
       "      <td>EC99</td>\n",
       "      <td>2</td>\n",
       "    </tr>\n",
       "    <tr>\n",
       "      <th>7</th>\n",
       "      <td>RD1</td>\n",
       "      <td>RIF</td>\n",
       "      <td>2</td>\n",
       "      <td>EC99</td>\n",
       "      <td>1</td>\n",
       "    </tr>\n",
       "    <tr>\n",
       "      <th>8</th>\n",
       "      <td>RD1</td>\n",
       "      <td>RIF</td>\n",
       "      <td>2</td>\n",
       "      <td>EC99</td>\n",
       "      <td>2</td>\n",
       "    </tr>\n",
       "    <tr>\n",
       "      <th>9</th>\n",
       "      <td>RD1</td>\n",
       "      <td>INH</td>\n",
       "      <td>2</td>\n",
       "      <td>EC99</td>\n",
       "      <td>1</td>\n",
       "    </tr>\n",
       "    <tr>\n",
       "      <th>10</th>\n",
       "      <td>RD1</td>\n",
       "      <td>INH</td>\n",
       "      <td>2</td>\n",
       "      <td>EC99</td>\n",
       "      <td>2</td>\n",
       "    </tr>\n",
       "    <tr>\n",
       "      <th>11</th>\n",
       "      <td>RD1</td>\n",
       "      <td>BDQ</td>\n",
       "      <td>2.5</td>\n",
       "      <td>EC99</td>\n",
       "      <td>1</td>\n",
       "    </tr>\n",
       "    <tr>\n",
       "      <th>12</th>\n",
       "      <td>RD1</td>\n",
       "      <td>BDQ</td>\n",
       "      <td>2.5</td>\n",
       "      <td>EC99</td>\n",
       "      <td>2</td>\n",
       "    </tr>\n",
       "  </tbody>\n",
       "</table>\n",
       "</div>"
      ],
      "text/plain": [
       "           Strain Compound Concentration ConcentrationEC  Replicate #\n",
       "Row Column                                                           \n",
       "3   1         UNI     CTRL             0             EC0            1\n",
       "    2         UNI     CTRL             0             EC0            2\n",
       "    3          WT     CTRL             0             EC0            1\n",
       "    4          WT     CTRL             0             EC0            2\n",
       "    5          WT      PZA            60            EC50            1\n",
       "    6          WT      PZA            60            EC50            2\n",
       "    7          WT      RIF           0.1            EC50            1\n",
       "    8          WT      RIF           0.1            EC50            2\n",
       "    9          WT      INH          0.04            EC50            1\n",
       "    10         WT      INH          0.04            EC50            2\n",
       "    11         WT      BDQ          0.02            EC50            1\n",
       "    12         WT      BDQ          0.02            EC50            2\n",
       "4   3          WT     CTRL             0             EC0            3\n",
       "    4          WT     CTRL             0             EC0            4\n",
       "    5          WT      PZA           400            EC99            1\n",
       "    6          WT      PZA           400            EC99            2\n",
       "    7          WT      RIF             2            EC99            1\n",
       "    8          WT      RIF             2            EC99            2\n",
       "    9          WT      INH             2            EC99            1\n",
       "    10         WT      INH             2            EC99            2\n",
       "    11         WT      BDQ           2.5            EC99            1\n",
       "    12         WT      BDQ           2.5            EC99            2\n",
       "5   3         RD1     CTRL             0             EC0            1\n",
       "    4         RD1     CTRL             0             EC0            2\n",
       "    5         RD1      PZA            60            EC50            1\n",
       "    6         RD1      PZA            60            EC50            2\n",
       "    7         RD1      RIF           0.1            EC50            1\n",
       "    8         RD1      RIF           0.1            EC50            2\n",
       "    9         RD1      INH          0.04            EC50            1\n",
       "    10        RD1      INH          0.04            EC50            2\n",
       "    11        RD1      BDQ          0.02            EC50            1\n",
       "    12        RD1      BDQ          0.02            EC50            2\n",
       "6   3         RD1     CTRL             0             EC0            3\n",
       "    4         RD1     CTRL             0             EC0            4\n",
       "    5         RD1      PZA           400            EC99            1\n",
       "    6         RD1      PZA           400            EC99            2\n",
       "    7         RD1      RIF             2            EC99            1\n",
       "    8         RD1      RIF             2            EC99            2\n",
       "    9         RD1      INH             2            EC99            1\n",
       "    10        RD1      INH             2            EC99            2\n",
       "    11        RD1      BDQ           2.5            EC99            1\n",
       "    12        RD1      BDQ           2.5            EC99            2"
      ]
     },
     "execution_count": 3,
     "metadata": {},
     "output_type": "execute_result"
    }
   ],
   "source": [
    "metadata_path = glob.glob(os.path.join(base_dir, 'acquisition/Assaylayout/*.xml'))[0]\n",
    "assay_layout = dataio.read_harmony_metadata(metadata_path, assay_layout=True,)# mask_exist=True,  image_dir = image_dir, image_metadata = metadata)\n",
    "assay_layout"
   ]
  },
  {
   "cell_type": "markdown",
   "id": "57854230-8d4f-435b-8741-8415d64359c5",
   "metadata": {},
   "source": [
    "### Iterate and save out "
   ]
  },
  {
   "cell_type": "code",
   "execution_count": 4,
   "id": "9fd9fab4-1f5c-4031-9724-cdd884dc8ac5",
   "metadata": {
    "scrolled": true
   },
   "outputs": [
    {
     "data": {
      "application/vnd.jupyter.widget-view+json": {
       "model_id": "8f81f9cac24442d9a656ea8d03544455",
       "version_major": 2,
       "version_minor": 0
      },
      "text/plain": [
       "  0%|          | 0/42 [00:00<?, ?it/s]"
      ]
     },
     "metadata": {},
     "output_type": "display_data"
    },
    {
     "name": "stdout",
     "output_type": "stream",
     "text": [
      "Found a non-zero frame at frame number 149\n"
     ]
    },
    {
     "name": "stderr",
     "output_type": "stream",
     "text": [
      "[INFO][2024/05/20 04:45:36 pm] Opening HDF file: /mnt/SYNO/macrohet_syno/ND0003/labels/cpv3/(5, 3).h5...\n",
      "INFO:btrack.io.hdf:Opening HDF file: /mnt/SYNO/macrohet_syno/ND0003/labels/cpv3/(5, 3).h5...\n",
      "[INFO][2024/05/20 04:45:58 pm] Loading segmentation (154, 6048, 6048)\n",
      "INFO:btrack.io.hdf:Loading segmentation (154, 6048, 6048)\n",
      "[INFO][2024/05/20 04:45:58 pm] Loading tracks/obj_type_1\n",
      "INFO:btrack.io.hdf:Loading tracks/obj_type_1\n",
      "[INFO][2024/05/20 04:45:58 pm] Loading LBEP/obj_type_1\n",
      "INFO:btrack.io.hdf:Loading LBEP/obj_type_1\n",
      "[INFO][2024/05/20 04:45:58 pm] Loading objects/obj_type_1 (22676, 5) (22676 filtered: None)\n",
      "INFO:btrack.io.hdf:Loading objects/obj_type_1 (22676, 5) (22676 filtered: None)\n",
      "[INFO][2024/05/20 04:45:58 pm] Closing HDF file: /mnt/SYNO/macrohet_syno/ND0003/labels/cpv3/(5, 3).h5\n",
      "INFO:btrack.io.hdf:Closing HDF file: /mnt/SYNO/macrohet_syno/ND0003/labels/cpv3/(5, 3).h5\n"
     ]
    },
    {
     "name": "stdout",
     "output_type": "stream",
     "text": [
      "Found a non-zero frame at frame number 152\n"
     ]
    },
    {
     "name": "stderr",
     "output_type": "stream",
     "text": [
      "[INFO][2024/05/20 04:46:28 pm] Opening HDF file: /mnt/SYNO/macrohet_syno/ND0003/labels/cpv3/(5, 4).h5...\n",
      "INFO:btrack.io.hdf:Opening HDF file: /mnt/SYNO/macrohet_syno/ND0003/labels/cpv3/(5, 4).h5...\n",
      "[INFO][2024/05/20 04:46:48 pm] Loading segmentation (154, 6048, 6048)\n",
      "INFO:btrack.io.hdf:Loading segmentation (154, 6048, 6048)\n",
      "[INFO][2024/05/20 04:46:48 pm] Loading tracks/obj_type_1\n",
      "INFO:btrack.io.hdf:Loading tracks/obj_type_1\n",
      "[INFO][2024/05/20 04:46:48 pm] Loading LBEP/obj_type_1\n",
      "INFO:btrack.io.hdf:Loading LBEP/obj_type_1\n",
      "[INFO][2024/05/20 04:46:49 pm] Loading objects/obj_type_1 (43524, 5) (43524 filtered: None)\n",
      "INFO:btrack.io.hdf:Loading objects/obj_type_1 (43524, 5) (43524 filtered: None)\n",
      "[INFO][2024/05/20 04:46:50 pm] Closing HDF file: /mnt/SYNO/macrohet_syno/ND0003/labels/cpv3/(5, 4).h5\n",
      "INFO:btrack.io.hdf:Closing HDF file: /mnt/SYNO/macrohet_syno/ND0003/labels/cpv3/(5, 4).h5\n"
     ]
    },
    {
     "name": "stdout",
     "output_type": "stream",
     "text": [
      "Found a non-zero frame at frame number 152\n"
     ]
    },
    {
     "name": "stderr",
     "output_type": "stream",
     "text": [
      "[INFO][2024/05/20 04:47:20 pm] Opening HDF file: /mnt/SYNO/macrohet_syno/ND0003/labels/cpv3/(5, 5).h5...\n",
      "INFO:btrack.io.hdf:Opening HDF file: /mnt/SYNO/macrohet_syno/ND0003/labels/cpv3/(5, 5).h5...\n",
      "[INFO][2024/05/20 04:47:40 pm] Loading segmentation (154, 6048, 6048)\n",
      "INFO:btrack.io.hdf:Loading segmentation (154, 6048, 6048)\n",
      "[INFO][2024/05/20 04:47:40 pm] Loading tracks/obj_type_1\n",
      "INFO:btrack.io.hdf:Loading tracks/obj_type_1\n",
      "[INFO][2024/05/20 04:47:40 pm] Loading LBEP/obj_type_1\n",
      "INFO:btrack.io.hdf:Loading LBEP/obj_type_1\n",
      "[INFO][2024/05/20 04:47:40 pm] Loading objects/obj_type_1 (36412, 5) (36412 filtered: None)\n",
      "INFO:btrack.io.hdf:Loading objects/obj_type_1 (36412, 5) (36412 filtered: None)\n",
      "[INFO][2024/05/20 04:47:41 pm] Closing HDF file: /mnt/SYNO/macrohet_syno/ND0003/labels/cpv3/(5, 5).h5\n",
      "INFO:btrack.io.hdf:Closing HDF file: /mnt/SYNO/macrohet_syno/ND0003/labels/cpv3/(5, 5).h5\n"
     ]
    },
    {
     "name": "stdout",
     "output_type": "stream",
     "text": [
      "Found a non-zero frame at frame number 152\n"
     ]
    },
    {
     "name": "stderr",
     "output_type": "stream",
     "text": [
      "[INFO][2024/05/20 04:48:11 pm] Opening HDF file: /mnt/SYNO/macrohet_syno/ND0003/labels/cpv3/(5, 6).h5...\n",
      "INFO:btrack.io.hdf:Opening HDF file: /mnt/SYNO/macrohet_syno/ND0003/labels/cpv3/(5, 6).h5...\n",
      "[INFO][2024/05/20 04:48:31 pm] Loading segmentation (154, 6048, 6048)\n",
      "INFO:btrack.io.hdf:Loading segmentation (154, 6048, 6048)\n",
      "[INFO][2024/05/20 04:48:32 pm] Loading tracks/obj_type_1\n",
      "INFO:btrack.io.hdf:Loading tracks/obj_type_1\n",
      "[INFO][2024/05/20 04:48:32 pm] Loading LBEP/obj_type_1\n",
      "INFO:btrack.io.hdf:Loading LBEP/obj_type_1\n",
      "[INFO][2024/05/20 04:48:32 pm] Loading objects/obj_type_1 (42213, 5) (42213 filtered: None)\n",
      "INFO:btrack.io.hdf:Loading objects/obj_type_1 (42213, 5) (42213 filtered: None)\n",
      "[INFO][2024/05/20 04:48:33 pm] Closing HDF file: /mnt/SYNO/macrohet_syno/ND0003/labels/cpv3/(5, 6).h5\n",
      "INFO:btrack.io.hdf:Closing HDF file: /mnt/SYNO/macrohet_syno/ND0003/labels/cpv3/(5, 6).h5\n"
     ]
    },
    {
     "name": "stdout",
     "output_type": "stream",
     "text": [
      "Found a non-zero frame at frame number 152\n"
     ]
    },
    {
     "name": "stderr",
     "output_type": "stream",
     "text": [
      "[INFO][2024/05/20 04:49:02 pm] Opening HDF file: /mnt/SYNO/macrohet_syno/ND0003/labels/cpv3/(5, 7).h5...\n",
      "INFO:btrack.io.hdf:Opening HDF file: /mnt/SYNO/macrohet_syno/ND0003/labels/cpv3/(5, 7).h5...\n",
      "[INFO][2024/05/20 04:49:22 pm] Loading segmentation (154, 6048, 6048)\n",
      "INFO:btrack.io.hdf:Loading segmentation (154, 6048, 6048)\n",
      "[INFO][2024/05/20 04:49:22 pm] Loading tracks/obj_type_1\n",
      "INFO:btrack.io.hdf:Loading tracks/obj_type_1\n",
      "[INFO][2024/05/20 04:49:22 pm] Loading LBEP/obj_type_1\n",
      "INFO:btrack.io.hdf:Loading LBEP/obj_type_1\n",
      "[INFO][2024/05/20 04:49:23 pm] Loading objects/obj_type_1 (39242, 5) (39242 filtered: None)\n",
      "INFO:btrack.io.hdf:Loading objects/obj_type_1 (39242, 5) (39242 filtered: None)\n",
      "[INFO][2024/05/20 04:49:23 pm] Closing HDF file: /mnt/SYNO/macrohet_syno/ND0003/labels/cpv3/(5, 7).h5\n",
      "INFO:btrack.io.hdf:Closing HDF file: /mnt/SYNO/macrohet_syno/ND0003/labels/cpv3/(5, 7).h5\n"
     ]
    },
    {
     "name": "stdout",
     "output_type": "stream",
     "text": [
      "Found a non-zero frame at frame number 153\n"
     ]
    },
    {
     "name": "stderr",
     "output_type": "stream",
     "text": [
      "[INFO][2024/05/20 04:49:52 pm] Opening HDF file: /mnt/SYNO/macrohet_syno/ND0003/labels/cpv3/(5, 8).h5...\n",
      "INFO:btrack.io.hdf:Opening HDF file: /mnt/SYNO/macrohet_syno/ND0003/labels/cpv3/(5, 8).h5...\n",
      "[INFO][2024/05/20 04:50:13 pm] Loading segmentation (154, 6048, 6048)\n",
      "INFO:btrack.io.hdf:Loading segmentation (154, 6048, 6048)\n",
      "[INFO][2024/05/20 04:50:13 pm] Loading tracks/obj_type_1\n",
      "INFO:btrack.io.hdf:Loading tracks/obj_type_1\n",
      "[INFO][2024/05/20 04:50:13 pm] Loading LBEP/obj_type_1\n",
      "INFO:btrack.io.hdf:Loading LBEP/obj_type_1\n",
      "[INFO][2024/05/20 04:50:13 pm] Loading objects/obj_type_1 (43238, 5) (43238 filtered: None)\n",
      "INFO:btrack.io.hdf:Loading objects/obj_type_1 (43238, 5) (43238 filtered: None)\n",
      "[INFO][2024/05/20 04:50:14 pm] Closing HDF file: /mnt/SYNO/macrohet_syno/ND0003/labels/cpv3/(5, 8).h5\n",
      "INFO:btrack.io.hdf:Closing HDF file: /mnt/SYNO/macrohet_syno/ND0003/labels/cpv3/(5, 8).h5\n"
     ]
    }
   ],
   "source": [
    "for acq_ID, info in tqdm(assay_layout.iterrows(), total = len(assay_layout)):\n",
    "    # if acq_ID != (5, 7):\n",
    "    #     continue\n",
    "    # if acq_ID == (6, 3):\n",
    "    #     continue\n",
    "    output_basedir = os.path.join(base_dir, F'postfix/labelled_tracks_final_frame/{acq_ID}')\n",
    "    if os.path.exists(output_basedir): \n",
    "        # print('rewriting anyway')\n",
    "        continue    \n",
    "    try:\n",
    "        os.makedirs(output_basedir, exist_ok=True)  # Make sure the base directory exists\n",
    "    \n",
    "        cropped_metadata = metadata[(metadata['Row'] == str(acq_ID[0]))\n",
    "                                    & (metadata['Col'] == str(acq_ID[1]))\n",
    "                                    & (metadata['TimepointID'] == str(metadata['TimepointID'].astype(int).max()))\n",
    "                                    & (metadata['ChannelID'] == '2')\n",
    "                                    & (metadata['PlaneID'] == '1')\n",
    "                                    ]\n",
    "        \n",
    "        \n",
    "        image_dir = os.path.join(base_dir, f'acquisition/zarr/{acq_ID}.zarr')\n",
    "        zarr_group = zarr.open(image_dir, mode='r')\n",
    "\n",
    "        num_frames = zarr_group.images.shape[0]\n",
    "        # Initialize the index to the last frame\n",
    "        index = -1\n",
    "        \n",
    "        # Loop until a frame without all zeros is found\n",
    "        while index >= -num_frames:  # Ensure index stays within bounds\n",
    "            images = zarr_group.images[index, :, 0, ...]\n",
    "            if not np.all(images == 0):\n",
    "                break\n",
    "            index -= 1\n",
    "        \n",
    "        if index >= -num_frames:\n",
    "            # Convert the negative index to a positive frame number\n",
    "            frame_number = index if index >= 0 else num_frames + index\n",
    "            print(f\"Found a non-zero frame at frame number {frame_number}\")\n",
    "        else:\n",
    "            print(\"All frames contain only zeros\")\n",
    "        \n",
    "        viewer = napari.Viewer(title = f'{expt_ID, acq_ID}')\n",
    "        \n",
    "        viewer.add_image(images,\n",
    "                         channel_axis = 0, \n",
    "                         # # scale = napari_scale, \n",
    "                         contrast_limits=[[280, 1000],[0,3000]])\n",
    "        \n",
    "        with btrack.io.HDF5FileHandler(os.path.join(f'/mnt/SYNO/macrohet_syno/{expt_ID}/labels/cpv3/{acq_ID}.h5'), \n",
    "                                                   'r', \n",
    "                                                   obj_type='obj_type_1'\n",
    "                                                   ) as reader:\n",
    "                        segmentation = reader.segmentation\n",
    "                        tracks = reader.tracks\n",
    "        \n",
    "        last_frame_tracks = [t for t in tracks if t.in_frame(149) and len(t) >= 70]\n",
    "        coords = [(int(t.y[-1]*5.04), int(t.x[-1]*5.04)) for t in last_frame_tracks]\n",
    "        # Assuming last_frame_tracks is a list of objects with attributes ID, x, and y\n",
    "        id_xy_dict = [{'ID':t.ID, \n",
    "                      'x':int(t.x[-1]*5.04),\n",
    "                      'y':int(t.y[-1]*5.04)} for t in last_frame_tracks]\n",
    "        \n",
    "        ### JUST IDs\n",
    "        text_parameters = {\n",
    "            'string': '{ID}',\n",
    "            'size': 9,\n",
    "            'color': 'white',\n",
    "            'anchor': 'center',\n",
    "            # 'translation': [-3, 0],\n",
    "        }\n",
    "        viewer.add_points(coords, size = 150, face_color='transparent', edge_color='transparent', edge_width=0.1, \n",
    "                          properties = id_xy_dict,\n",
    "                          text = text_parameters)\n",
    "        output_fn = f'{acq_ID}_{expt_ID}_t{index}_IDs.png'\n",
    "        output_path = os.path.join(output_basedir, 'tiled', output_fn)\n",
    "        os.makedirs(os.path.dirname(output_path), exist_ok=True)  # Make sure the directory exists\n",
    "        screen_shot = trim_black_borders(viewer.screenshot())\n",
    "        io.imsave(output_path, screen_shot)\n",
    "        tiles = crop_image_to_tiles(screen_shot, 3, 0.1)\n",
    "        for i, tile in enumerate(tiles): \n",
    "            FieldID = tile_position_mapping_dictionary[i+1]\n",
    "            tile_fn = cropped_metadata[cropped_metadata['FieldID'] == str(FieldID)]['URL'].iloc[0]\n",
    "            directory, old_filename = os.path.split(output_path)\n",
    "            new_filename = f\"{tile_fn}_{old_filename}\"\n",
    "            new_directory = directory.replace('tiled', 'untiled')    \n",
    "            new_path = os.path.join(new_directory, new_filename)\n",
    "            os.makedirs(os.path.dirname(new_path), exist_ok=True)  # Make sure the directory exists\n",
    "            io.imsave(new_path, tile)\n",
    "        del viewer.layers['Points']\n",
    "        \n",
    "        ### IDs and COORDS\n",
    "        text_parameters = {\n",
    "            'string': '{ID}\\n{x},{y}',\n",
    "            'size': 9,\n",
    "            'color': 'white',\n",
    "            'anchor': 'center',\n",
    "            # 'translation': [-3, 0],\n",
    "        }\n",
    "        viewer.add_points(coords, size = 150, face_color='transparent', edge_color='transparent', edge_width=0.1, \n",
    "                          properties = id_xy_dict,\n",
    "                          text = text_parameters)\n",
    "        output_fn = f'{acq_ID}_{expt_ID}_t-1_IDs_xy.png'\n",
    "        output_path = os.path.join(output_basedir, 'tiled/with_xy_coords', output_fn)\n",
    "        os.makedirs(os.path.dirname(output_path), exist_ok=True)  # Make sure the directory exists\n",
    "        screen_shot = trim_black_borders(viewer.screenshot())\n",
    "        io.imsave(output_path, screen_shot)\n",
    "        tiles = crop_image_to_tiles(screen_shot, 3, 0.1)\n",
    "        for i, tile in enumerate(tiles): \n",
    "            FieldID = tile_position_mapping_dictionary[i+1]\n",
    "            tile_fn = cropped_metadata[cropped_metadata['FieldID'] == str(FieldID)]['URL'].iloc[0]\n",
    "            directory, old_filename = os.path.split(output_path)\n",
    "            new_filename = f\"{tile_fn}_{old_filename}\"\n",
    "            new_directory = directory.replace('tiled', 'untiled')    \n",
    "            new_path = os.path.join(new_directory, new_filename)\n",
    "            os.makedirs(os.path.dirname(new_path), exist_ok=True)  # Make sure the directory exists\n",
    "            io.imsave(new_path, tile)\n",
    "        del viewer.layers['Points']\n",
    "        \n",
    "        ### IDs with MASKS\n",
    "        text_parameters = {\n",
    "            'string': '{ID}',\n",
    "            'size': 9,\n",
    "            'color': 'white',\n",
    "            'anchor': 'center',\n",
    "            # 'translation': [-3, 0],\n",
    "        }\n",
    "        viewer.add_points(coords, size = 150, face_color='transparent', edge_color='transparent', edge_width=0.1, \n",
    "                          properties = id_xy_dict,\n",
    "                          text = text_parameters)\n",
    "        viewer.add_labels(segmentation[-1])\n",
    "        viewer.layers['Labels'].contour = 10\n",
    "        output_fn = f'{acq_ID}_{expt_ID}_t-1_IDs_masks.png'\n",
    "        output_path = os.path.join(output_basedir, 'tiled/with_masks', output_fn)\n",
    "        os.makedirs(os.path.dirname(output_path), exist_ok=True)  # Make sure the directory exists\n",
    "        screen_shot = trim_black_borders(viewer.screenshot())\n",
    "        io.imsave(output_path, screen_shot)\n",
    "        tiles = crop_image_to_tiles(screen_shot, 3, 0.1)\n",
    "        for i, tile in enumerate(tiles): \n",
    "            FieldID = tile_position_mapping_dictionary[i+1]\n",
    "            tile_fn = cropped_metadata[cropped_metadata['FieldID'] == str(FieldID)]['URL'].iloc[0]\n",
    "            directory, old_filename = os.path.split(output_path)\n",
    "            new_filename = f\"{tile_fn}_{old_filename}\"\n",
    "            new_directory = directory.replace('tiled', 'untiled')    \n",
    "            new_path = os.path.join(new_directory, new_filename)\n",
    "            os.makedirs(os.path.dirname(new_path), exist_ok=True)  # Make sure the directory exists\n",
    "            io.imsave(new_path, tile)\n",
    "        del viewer.layers['Points']\n",
    "        \n",
    "        ### IDs and COORDS and masks\n",
    "        text_parameters = {\n",
    "            'string': '{ID}\\n{x},{y}',\n",
    "            'size': 9,\n",
    "            'color': 'white',\n",
    "            'anchor': 'center',\n",
    "            # 'translation': [-3, 0],\n",
    "        }\n",
    "        viewer.add_points(coords, size = 150, face_color='transparent', edge_color='transparent', edge_width=0.1, \n",
    "                          properties = id_xy_dict,\n",
    "                          text = text_parameters)\n",
    "        # viewer.add_labels(segmentation[-1])\n",
    "        # viewer.layers['Labels'].contour = 10\n",
    "        output_fn = f'{acq_ID}_{expt_ID}_t-1_IDs_xy_masks.png'\n",
    "        output_path = os.path.join(output_basedir, 'tiled/with_xy_coords_masks', output_fn)\n",
    "        os.makedirs(os.path.dirname(output_path), exist_ok=True)  # Make sure the directory exists\n",
    "        screen_shot = trim_black_borders(viewer.screenshot())\n",
    "        io.imsave(output_path, screen_shot)\n",
    "        tiles = crop_image_to_tiles(screen_shot, 3, 0.1)\n",
    "        for i, tile in enumerate(tiles): \n",
    "            FieldID = tile_position_mapping_dictionary[i+1]\n",
    "            tile_fn = cropped_metadata[cropped_metadata['FieldID'] == str(FieldID)]['URL'].iloc[0]\n",
    "            directory, old_filename = os.path.split(output_path)\n",
    "            new_filename = f\"{tile_fn}_{old_filename}\"\n",
    "            new_directory = directory.replace('tiled', 'untiled')    \n",
    "            new_path = os.path.join(new_directory, new_filename)\n",
    "            os.makedirs(os.path.dirname(new_path), exist_ok=True)  # Make sure the directory exists\n",
    "            io.imsave(new_path, tile)\n",
    "        del viewer.layers['Points']\n",
    "        del viewer.layers['Labels']\n",
    "        viewer.close()\n",
    "\n",
    "    except:\n",
    "        print('Issue with:', acq_ID)\n",
    "\n",
    "    # break"
   ]
  }
 ],
 "metadata": {
  "kernelspec": {
   "display_name": "egg",
   "language": "python",
   "name": "egg"
  },
  "language_info": {
   "codemirror_mode": {
    "name": "ipython",
    "version": 3
   },
   "file_extension": ".py",
   "mimetype": "text/x-python",
   "name": "python",
   "nbconvert_exporter": "python",
   "pygments_lexer": "ipython3",
   "version": "3.9.17"
  }
 },
 "nbformat": 4,
 "nbformat_minor": 5
}
