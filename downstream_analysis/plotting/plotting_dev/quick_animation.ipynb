{
 "cells": [
  {
   "cell_type": "markdown",
   "id": "3ac6b1bd",
   "metadata": {},
   "source": [
    "# Quick animation"
   ]
  },
  {
   "cell_type": "code",
   "execution_count": 50,
   "id": "e7848498",
   "metadata": {},
   "outputs": [],
   "source": [
    "import napari\n",
    "from skimage.io import imread, imsave\n",
    "import os\n",
    "from pathlib import Path\n",
    "from tqdm.auto import tqdm\n",
    "import cv2\n",
    "import numpy as np\n",
    "from natsort import natsorted"
   ]
  },
  {
   "cell_type": "code",
   "execution_count": 27,
   "id": "97db5fc6",
   "metadata": {},
   "outputs": [],
   "source": [
    "fn = '/home/dayn/Downloads/Mtb replication OPERA.avi'"
   ]
  },
  {
   "cell_type": "code",
   "execution_count": 29,
   "id": "6d263fff",
   "metadata": {},
   "outputs": [],
   "source": [
    "def read_video_cv2(n_frames=62):\n",
    "    cap = cv2.VideoCapture(fn)\n",
    "    all = []\n",
    "    i = 0\n",
    "    while cap.isOpened() and i < n_frames:\n",
    "        ret, frame = cap.read()\n",
    "        arr = np.array(frame)\n",
    "        all.append(arr)\n",
    "        i += 1\n",
    "    return np.array(all)"
   ]
  },
  {
   "cell_type": "code",
   "execution_count": 34,
   "id": "ab268032",
   "metadata": {},
   "outputs": [],
   "source": [
    "img = read_video_cv2()"
   ]
  },
  {
   "cell_type": "code",
   "execution_count": 36,
   "id": "d8879ce3",
   "metadata": {},
   "outputs": [
    {
     "data": {
      "text/plain": [
       "(62, 999, 996, 3)"
      ]
     },
     "execution_count": 36,
     "metadata": {},
     "output_type": "execute_result"
    }
   ],
   "source": [
    "img.shape"
   ]
  },
  {
   "cell_type": "code",
   "execution_count": 60,
   "id": "b0d61926",
   "metadata": {},
   "outputs": [],
   "source": [
    "def update_slider(event):\n",
    "    # only trigger if update comes from first axis (optional)\n",
    "        #ind_lambda = viewer.dims.indices[0]\n",
    "    time = viewer.dims.current_step[0]*1.5\n",
    "    viewer.text_overlay.text = f\"{time:1.1f} hours\"\n",
    "text_size = 24\n",
    "napari_scale = [1.4949402023919043e-07, 1.4949402023919043e-07]\n",
    "text_colour = 'white'"
   ]
  },
  {
   "cell_type": "code",
   "execution_count": 94,
   "id": "1f6d910b",
   "metadata": {},
   "outputs": [
    {
     "data": {
      "text/plain": [
       "5343349.5033495035"
      ]
     },
     "execution_count": 94,
     "metadata": {},
     "output_type": "execute_result"
    }
   ],
   "source": [
    "viewer.camera.zoom"
   ]
  },
  {
   "cell_type": "code",
   "execution_count": 100,
   "id": "cb58236d",
   "metadata": {},
   "outputs": [],
   "source": [
    "zoom = 5343349.5033495035"
   ]
  },
  {
   "cell_type": "code",
   "execution_count": 96,
   "id": "5761e5fd",
   "metadata": {},
   "outputs": [],
   "source": [
    "viewer.camera.zoom = 5343349.5033495035\n"
   ]
  },
  {
   "cell_type": "code",
   "execution_count": 122,
   "id": "848e4e21",
   "metadata": {},
   "outputs": [
    {
     "name": "stderr",
     "output_type": "stream",
     "text": [
      "/home/dayn/miniconda3/envs/aero/lib/python3.9/site-packages/napari_tools_menu/__init__.py:194: FutureWarning: Public access to Window.qt_viewer is deprecated and will be removed in\n",
      "v0.5.0. It is considered an \"implementation detail\" of the napari\n",
      "application, not part of the napari viewer model. If your use case\n",
      "requires access to qt_viewer, please open an issue to discuss.\n",
      "  self.tools_menu = ToolsMenu(self, self.qt_viewer.viewer)\n"
     ]
    }
   ],
   "source": [
    "fixed_labels = {'macrophage':['Mycobacterium tuberculosis: green' for i in range(62)],\n",
    "                'mtb':['Propidium iodide (cell death): red' for i in range(62)],\n",
    "                'mask':[f'Human macrophages: brightfield' for i in range(62)],\n",
    "                'info':[f'Author: Beren Aylan\\nThe Francis Crick Institute' for i in range(62)]\n",
    "               }\n",
    "### create lists of labels for tidier iteration of adding labels \n",
    "labels_list = list([fixed_labels['macrophage'], fixed_labels['mtb'], fixed_labels['mask'], fixed_labels['info']])\n",
    "offset_list = list([[50,-10], [100,-10], [150,-10], [990, -10]])\n",
    "colour_list = list(['#39FF14', 'red', 'white', 'white'])\n",
    "label_points = [[t, 0, 1000] for t in range(62)]\n",
    "viewer = napari.Viewer()\n",
    "viewer.add_image(img,\n",
    "                 channel_axis = -1, \n",
    "                 colormap= ['blue', 'green', 'red'], scale = napari_scale )\n",
    "\n",
    "viewer.text_overlay.visible = True\n",
    "viewer.text_overlay.color = text_colour\n",
    "viewer.text_overlay.position = 'bottom_left'\n",
    "viewer.text_overlay.font_size = text_size\n",
    "viewer.dims.events.current_step.connect(update_slider)\n",
    "viewer.scale_bar.visible = False\n",
    "viewer.scale_bar.unit = 'm'\n",
    "viewer.scale_bar.font_size = text_size\n",
    "viewer.scale_bar.colored = True\n",
    "viewer.scale_bar.color = text_colour\n",
    "viewer.scale_bar.ticks = False\n",
    "\n",
    "for config in zip(labels_list, offset_list, colour_list):\n",
    "    string, offset, colour = config\n",
    "    viewer.add_points(\n",
    "    label_points, \n",
    "    scale = [1, napari_scale[0], napari_scale[1]],\n",
    "    face_color = 'transparent', \n",
    "    edge_color = 'transparent', \n",
    "    text = {'string':string,\n",
    "            'anchor': 'upper_right',\n",
    "            'translation': offset,\n",
    "            'size': text_size,\n",
    "            'color': colour}, )"
   ]
  },
  {
   "cell_type": "code",
   "execution_count": 6,
   "id": "b26b6ef0",
   "metadata": {},
   "outputs": [],
   "source": [
    "basedir = '/home/dayn/quick_animation'"
   ]
  },
  {
   "cell_type": "code",
   "execution_count": 41,
   "id": "ae4276f1",
   "metadata": {},
   "outputs": [
    {
     "data": {
      "text/plain": [
       "(0.0, 517.6152907794449, 500.55262977784656)"
      ]
     },
     "execution_count": 41,
     "metadata": {},
     "output_type": "execute_result"
    }
   ],
   "source": [
    "viewer.camera.center"
   ]
  },
  {
   "cell_type": "code",
   "execution_count": 115,
   "id": "67e2b146",
   "metadata": {},
   "outputs": [],
   "source": [
    "cam_coords = viewer.camera.center\n",
    "zoom = viewer.camera.zoom"
   ]
  },
  {
   "cell_type": "code",
   "execution_count": 123,
   "id": "8c271888",
   "metadata": {},
   "outputs": [
    {
     "data": {
      "text/plain": [
       "5008749.351792894"
      ]
     },
     "execution_count": 123,
     "metadata": {},
     "output_type": "execute_result"
    }
   ],
   "source": [
    "zoom"
   ]
  },
  {
   "cell_type": "code",
   "execution_count": 124,
   "id": "47288622",
   "metadata": {},
   "outputs": [],
   "source": [
    "viewer.camera.zoom = zoom#1.05*viewer.camera.zoom"
   ]
  },
  {
   "cell_type": "code",
   "execution_count": 125,
   "id": "d1063b23",
   "metadata": {},
   "outputs": [
    {
     "data": {
      "application/vnd.jupyter.widget-view+json": {
       "model_id": "5da6afd3ac9a49948f2244fdf0b0871a",
       "version_major": 2,
       "version_minor": 0
      },
      "text/plain": [
       "  0%|          | 0/62 [00:00<?, ?it/s]"
      ]
     },
     "metadata": {},
     "output_type": "display_data"
    }
   ],
   "source": [
    "\n",
    "### create output directory\n",
    "glimpse_seq_basedir = os.path.join(basedir, f'zoom_frames')\n",
    "Path(glimpse_seq_basedir).mkdir(parents=True, exist_ok=True)\n",
    "### save image sequence\n",
    "for t in tqdm(range(62)):\n",
    "    viewer.dims.current_step = (t, cam_coords[-2], cam_coords[-1])\n",
    "    viewer.camera.zoom = zoom#*0.95\n",
    "    glimpse_seq_fn = os.path.join(glimpse_seq_basedir, f't_{t}.tiff')\n",
    "    imsave(glimpse_seq_fn, viewer.screenshot())\n",
    "# viewer.close()\n",
    "\n"
   ]
  },
  {
   "cell_type": "code",
   "execution_count": 48,
   "id": "78b5de9c",
   "metadata": {},
   "outputs": [],
   "source": [
    "def compile_mp4(input_dir, output_fn, fps, fileformat:str = '.tiff'):\n",
    "    \"\"\"\n",
    "    Take a series of images and compile mp4 video from them.\n",
    "\n",
    "    Parameters\n",
    "    ----------\n",
    "    input_dir : PathLike\n",
    "        The full path to a directory containing a series of .tiff images.\n",
    "    output_fn : PathLike\n",
    "        Filename for output mp4 video.\n",
    "    fps : int\n",
    "        The number of frames per second you would like to generate the video at.\n",
    "    fileformat : str\n",
    "        Optional input for different types of image fileformat\n",
    "    \"\"\"\n",
    "\n",
    "    # Set the frame rate of the output video\n",
    "    frame_rate = 3\n",
    "    # Get the list of images in the directory\n",
    "    frames = [img for img in os.listdir(input_dir) if img.endswith(fileformat)]\n",
    "    # Sort the images in alphabetical order\n",
    "    frames = natsorted(frames)\n",
    "    # Get the first image to get the size of the video\n",
    "    frame = cv2.imread(os.path.join(input_dir, frames[0]))\n",
    "    height, width, channels = frame.shape\n",
    "    # Define the codec and create VideoWriter object\n",
    "    fourcc = cv2.VideoWriter_fourcc(*'mp4v')\n",
    "    video_writer = cv2.VideoWriter(output_fn,\n",
    "                                    fourcc,\n",
    "                                    frame_rate,\n",
    "                                    (width, height))\n",
    "    # Loop through the images and add them to the video\n",
    "    for image in frames:\n",
    "        img_path = os.path.join(input_dir, image)\n",
    "        frame = cv2.imread(img_path)\n",
    "        # Write the frame to the video\n",
    "        video_writer.write(frame)\n",
    "    # Release the VideoWriter object\n",
    "    video_writer.release()"
   ]
  },
  {
   "cell_type": "code",
   "execution_count": 52,
   "id": "d41ce6d8",
   "metadata": {},
   "outputs": [
    {
     "data": {
      "text/plain": [
       "5.166666666666667"
      ]
     },
     "execution_count": 52,
     "metadata": {},
     "output_type": "execute_result"
    }
   ],
   "source": [
    "62/12"
   ]
  },
  {
   "cell_type": "code",
   "execution_count": 126,
   "id": "de347533",
   "metadata": {},
   "outputs": [
    {
     "name": "stdout",
     "output_type": "stream",
     "text": [
      "Rendering frames...\n"
     ]
    },
    {
     "name": "stderr",
     "output_type": "stream",
     "text": [
      "  0%|                                                                          | 0/100 [00:00<?, ?it/s]13-Mar-23 16:52:54 - imageio_ffmpeg - WARNING  - IMAGEIO FFMPEG_WRITER WARNING: input image is not divisible by macro_block_size=16, resizing from (762, 764) to (768, 768) to ensure video compatibility with most codecs and players. To prevent resizing, make your input image divisible by the macro_block_size or set the macro_block_size to 1 (risking incompatibility).\n",
      "  1%|▋                                                                 | 1/100 [00:00<00:27,  3.57it/s][swscaler @ 0x6ada100] Warning: data is not aligned! This can lead to a speed loss\n",
      "100%|████████████████████████████████████████████████████████████████| 100/100 [00:08<00:00, 12.00it/s]\n"
     ]
    },
    {
     "name": "stdout",
     "output_type": "stream",
     "text": [
      "Rendering frames...\n"
     ]
    },
    {
     "name": "stderr",
     "output_type": "stream",
     "text": [
      "  0%|                                                                          | 0/100 [00:00<?, ?it/s]13-Mar-23 16:53:19 - imageio_ffmpeg - WARNING  - IMAGEIO FFMPEG_WRITER WARNING: input image is not divisible by macro_block_size=16, resizing from (762, 764) to (768, 768) to ensure video compatibility with most codecs and players. To prevent resizing, make your input image divisible by the macro_block_size or set the macro_block_size to 1 (risking incompatibility).\n",
      "  1%|▋                                                                 | 1/100 [00:00<00:23,  4.28it/s][swscaler @ 0x7065100] Warning: data is not aligned! This can lead to a speed loss\n",
      "100%|████████████████████████████████████████████████████████████████| 100/100 [00:07<00:00, 12.79it/s]\n"
     ]
    },
    {
     "name": "stdout",
     "output_type": "stream",
     "text": [
      "Rendering frames...\n"
     ]
    },
    {
     "name": "stderr",
     "output_type": "stream",
     "text": [
      "  0%|                                                                          | 0/100 [00:00<?, ?it/s]13-Mar-23 16:54:09 - imageio_ffmpeg - WARNING  - IMAGEIO FFMPEG_WRITER WARNING: input image is not divisible by macro_block_size=16, resizing from (762, 764) to (768, 768) to ensure video compatibility with most codecs and players. To prevent resizing, make your input image divisible by the macro_block_size or set the macro_block_size to 1 (risking incompatibility).\n",
      "  1%|▋                                                                 | 1/100 [00:00<00:23,  4.27it/s][swscaler @ 0x58b0fc0] Warning: data is not aligned! This can lead to a speed loss\n",
      "100%|████████████████████████████████████████████████████████████████| 100/100 [00:07<00:00, 12.78it/s]\n"
     ]
    },
    {
     "name": "stdout",
     "output_type": "stream",
     "text": [
      "Rendering frames...\n"
     ]
    },
    {
     "name": "stderr",
     "output_type": "stream",
     "text": [
      "  0%|                                                                          | 0/100 [00:00<?, ?it/s]13-Mar-23 16:56:22 - imageio_ffmpeg - WARNING  - IMAGEIO FFMPEG_WRITER WARNING: input image is not divisible by macro_block_size=16, resizing from (762, 764) to (768, 768) to ensure video compatibility with most codecs and players. To prevent resizing, make your input image divisible by the macro_block_size or set the macro_block_size to 1 (risking incompatibility).\n",
      "  1%|▋                                                                 | 1/100 [00:00<00:22,  4.32it/s][swscaler @ 0x5bce100] Warning: data is not aligned! This can lead to a speed loss\n",
      "100%|████████████████████████████████████████████████████████████████| 100/100 [00:07<00:00, 13.58it/s]\n"
     ]
    }
   ],
   "source": [
    "\n",
    "### now compile into mp4\n",
    "mp4_fn = os.path.join(basedir, f'better_aligned.mp4')\n",
    "### compile mp4\n",
    "compile_mp4(glimpse_seq_basedir, mp4_fn, 20, fileformat = '.tiff')"
   ]
  },
  {
   "cell_type": "code",
   "execution_count": null,
   "id": "60393674",
   "metadata": {},
   "outputs": [],
   "source": [
    "viewer = napari.Viewer()\n",
    "# viewer.add_image(mask_glimpse_stack, scale = napari_scale, colormap='cyan')\n",
    "# viewer.add_image(glimpse_stack, channel_axis = 0, colormap= ['green', 'magenta'], blending = 'additive', scale = napari_scale)\n",
    "# viewer.theme = 'dark'\n",
    "# viewer.scale_bar.visible = True\n",
    "# viewer.scale_bar.unit = 'm'\n",
    "# viewer.scale_bar.font_size = scale_bar_font_size\n",
    "# viewer.scale_bar.colored = True\n",
    "# viewer.scale_bar.color = text_colour\n",
    "# viewer.scale_bar.ticks = False\n",
    "# viewer.text_overlay.visible = True\n",
    "# viewer.text_overlay.color = text_colour\n",
    "# viewer.text_overlay.position = 'bottom_left'\n",
    "# viewer.text_overlay.font_size = time_overlay_font_size\n",
    "# viewer.dims.events.current_step.connect(update_slider)\n",
    "# for config in zip(labels_list, offset_list, colour_list):\n",
    "#     string, offset, colour = config\n",
    "#     viewer.add_points(\n",
    "#     label_points, \n",
    "#     scale = [1, napari_scale[0], napari_scale[1]],\n",
    "#     face_color = 'transparent', \n",
    "#     edge_color = 'transparent', \n",
    "#     text = {'string':string,\n",
    "#             'anchor': 'upper_right',\n",
    "#             'translation': offset,\n",
    "#             'size': label_font_size,\n",
    "#             'color': colour}, )"
   ]
  }
 ],
 "metadata": {
  "kernelspec": {
   "display_name": "aero",
   "language": "python",
   "name": "aero"
  },
  "language_info": {
   "codemirror_mode": {
    "name": "ipython",
    "version": 3
   },
   "file_extension": ".py",
   "mimetype": "text/x-python",
   "name": "python",
   "nbconvert_exporter": "python",
   "pygments_lexer": "ipython3",
   "version": "3.9.12"
  }
 },
 "nbformat": 4,
 "nbformat_minor": 5
}
