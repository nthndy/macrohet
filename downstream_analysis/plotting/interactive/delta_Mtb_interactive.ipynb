{
 "cells": [
  {
   "cell_type": "markdown",
   "id": "d2e295e0",
   "metadata": {},
   "source": [
    "# A notebook for exploring how best to measure the change in Mtb"
   ]
  },
  {
   "cell_type": "code",
   "execution_count": 1,
   "id": "7975a2f4",
   "metadata": {},
   "outputs": [],
   "source": [
    "import napari\n",
    "from cellpose import models\n",
    "from macrohet import dataio, tile\n",
    "import numpy as np\n",
    "import os\n",
    "\n",
    "def view(img):\n",
    "    return napari.Viewer().add_image(img)\n",
    "\n",
    "from napari_animation import Animation\n",
    "from tqdm.auto import tqdm\n",
    "\n",
    "import btrack\n",
    "import dask.array as da\n",
    "\n",
    "from skimage.transform import rescale, resize, downscale_local_mean\n",
    "\n",
    "import pandas as pd\n",
    "import seaborn as sns\n",
    "import matplotlib.pyplot as plt\n",
    "sns.set_theme(style=\"ticks\")\n",
    "sns.set_palette(\"Spectral\")\n",
    "\n",
    "from macrohet import tools, visualise"
   ]
  },
  {
   "cell_type": "markdown",
   "id": "3751ef77",
   "metadata": {},
   "source": [
    "### Load all metadata\n",
    "\n",
    "Both the image metadata and the assay layout metadata"
   ]
  },
  {
   "cell_type": "code",
   "execution_count": 2,
   "id": "8d20db67",
   "metadata": {},
   "outputs": [
    {
     "name": "stdout",
     "output_type": "stream",
     "text": [
      "Reading metadata XML file...\n"
     ]
    },
    {
     "data": {
      "application/vnd.jupyter.widget-view+json": {
       "model_id": "d18eb777b24f4e74aae1510b1b1b412d",
       "version_major": 2,
       "version_minor": 0
      },
      "text/plain": [
       "Extracting HarmonyV5 metadata:   0%|          | 0/113400 [00:00<?, ?it/s]"
      ]
     },
     "metadata": {},
     "output_type": "display_data"
    },
    {
     "name": "stdout",
     "output_type": "stream",
     "text": [
      "Extracting metadata complete!\n"
     ]
    },
    {
     "data": {
      "text/html": [
       "<div>\n",
       "<style scoped>\n",
       "    .dataframe tbody tr th:only-of-type {\n",
       "        vertical-align: middle;\n",
       "    }\n",
       "\n",
       "    .dataframe tbody tr th {\n",
       "        vertical-align: top;\n",
       "    }\n",
       "\n",
       "    .dataframe thead th {\n",
       "        text-align: right;\n",
       "    }\n",
       "</style>\n",
       "<table border=\"1\" class=\"dataframe\">\n",
       "  <thead>\n",
       "    <tr style=\"text-align: right;\">\n",
       "      <th></th>\n",
       "      <th>id</th>\n",
       "      <th>State</th>\n",
       "      <th>URL</th>\n",
       "      <th>Row</th>\n",
       "      <th>Col</th>\n",
       "      <th>FieldID</th>\n",
       "      <th>PlaneID</th>\n",
       "      <th>TimepointID</th>\n",
       "      <th>ChannelID</th>\n",
       "      <th>FlimID</th>\n",
       "      <th>...</th>\n",
       "      <th>PositionZ</th>\n",
       "      <th>AbsPositionZ</th>\n",
       "      <th>MeasurementTimeOffset</th>\n",
       "      <th>AbsTime</th>\n",
       "      <th>MainExcitationWavelength</th>\n",
       "      <th>MainEmissionWavelength</th>\n",
       "      <th>ObjectiveMagnification</th>\n",
       "      <th>ObjectiveNA</th>\n",
       "      <th>ExposureTime</th>\n",
       "      <th>OrientationMatrix</th>\n",
       "    </tr>\n",
       "  </thead>\n",
       "  <tbody>\n",
       "    <tr>\n",
       "      <th>0</th>\n",
       "      <td>0303K1F1P1R1</td>\n",
       "      <td>Ok</td>\n",
       "      <td>r03c03f01p01-ch1sk1fk1fl1.tiff</td>\n",
       "      <td>3</td>\n",
       "      <td>3</td>\n",
       "      <td>1</td>\n",
       "      <td>1</td>\n",
       "      <td>0</td>\n",
       "      <td>1</td>\n",
       "      <td>1</td>\n",
       "      <td>...</td>\n",
       "      <td>0</td>\n",
       "      <td>0.135583505</td>\n",
       "      <td>0</td>\n",
       "      <td>2021-04-16T19:09:33.84+01:00</td>\n",
       "      <td>488</td>\n",
       "      <td>522</td>\n",
       "      <td>40</td>\n",
       "      <td>1.1</td>\n",
       "      <td>0.1</td>\n",
       "      <td>[[0.990860,0,0,-15.9],[0,-0.990860,0,-44.8],[0...</td>\n",
       "    </tr>\n",
       "    <tr>\n",
       "      <th>1</th>\n",
       "      <td>0303K1F1P1R2</td>\n",
       "      <td>Ok</td>\n",
       "      <td>r03c03f01p01-ch2sk1fk1fl1.tiff</td>\n",
       "      <td>3</td>\n",
       "      <td>3</td>\n",
       "      <td>1</td>\n",
       "      <td>1</td>\n",
       "      <td>0</td>\n",
       "      <td>2</td>\n",
       "      <td>1</td>\n",
       "      <td>...</td>\n",
       "      <td>0</td>\n",
       "      <td>0.135583505</td>\n",
       "      <td>0</td>\n",
       "      <td>2021-04-16T19:09:33.84+01:00</td>\n",
       "      <td>640</td>\n",
       "      <td>706</td>\n",
       "      <td>40</td>\n",
       "      <td>1.1</td>\n",
       "      <td>0.2</td>\n",
       "      <td>[[0.990860,0,0,-15.9],[0,-0.990860,0,-44.8],[0...</td>\n",
       "    </tr>\n",
       "    <tr>\n",
       "      <th>2</th>\n",
       "      <td>0303K1F1P2R1</td>\n",
       "      <td>Ok</td>\n",
       "      <td>r03c03f01p02-ch1sk1fk1fl1.tiff</td>\n",
       "      <td>3</td>\n",
       "      <td>3</td>\n",
       "      <td>1</td>\n",
       "      <td>2</td>\n",
       "      <td>0</td>\n",
       "      <td>1</td>\n",
       "      <td>1</td>\n",
       "      <td>...</td>\n",
       "      <td>2E-06</td>\n",
       "      <td>0.135585502</td>\n",
       "      <td>0</td>\n",
       "      <td>2021-04-16T19:09:34.12+01:00</td>\n",
       "      <td>488</td>\n",
       "      <td>522</td>\n",
       "      <td>40</td>\n",
       "      <td>1.1</td>\n",
       "      <td>0.1</td>\n",
       "      <td>[[0.990860,0,0,-15.9],[0,-0.990860,0,-44.8],[0...</td>\n",
       "    </tr>\n",
       "    <tr>\n",
       "      <th>3</th>\n",
       "      <td>0303K1F1P2R2</td>\n",
       "      <td>Ok</td>\n",
       "      <td>r03c03f01p02-ch2sk1fk1fl1.tiff</td>\n",
       "      <td>3</td>\n",
       "      <td>3</td>\n",
       "      <td>1</td>\n",
       "      <td>2</td>\n",
       "      <td>0</td>\n",
       "      <td>2</td>\n",
       "      <td>1</td>\n",
       "      <td>...</td>\n",
       "      <td>2E-06</td>\n",
       "      <td>0.135585502</td>\n",
       "      <td>0</td>\n",
       "      <td>2021-04-16T19:09:34.12+01:00</td>\n",
       "      <td>640</td>\n",
       "      <td>706</td>\n",
       "      <td>40</td>\n",
       "      <td>1.1</td>\n",
       "      <td>0.2</td>\n",
       "      <td>[[0.990860,0,0,-15.9],[0,-0.990860,0,-44.8],[0...</td>\n",
       "    </tr>\n",
       "    <tr>\n",
       "      <th>4</th>\n",
       "      <td>0303K1F1P3R1</td>\n",
       "      <td>Ok</td>\n",
       "      <td>r03c03f01p03-ch1sk1fk1fl1.tiff</td>\n",
       "      <td>3</td>\n",
       "      <td>3</td>\n",
       "      <td>1</td>\n",
       "      <td>3</td>\n",
       "      <td>0</td>\n",
       "      <td>1</td>\n",
       "      <td>1</td>\n",
       "      <td>...</td>\n",
       "      <td>4E-06</td>\n",
       "      <td>0.135587499</td>\n",
       "      <td>0</td>\n",
       "      <td>2021-04-16T19:09:34.4+01:00</td>\n",
       "      <td>488</td>\n",
       "      <td>522</td>\n",
       "      <td>40</td>\n",
       "      <td>1.1</td>\n",
       "      <td>0.1</td>\n",
       "      <td>[[0.990860,0,0,-15.9],[0,-0.990860,0,-44.8],[0...</td>\n",
       "    </tr>\n",
       "    <tr>\n",
       "      <th>...</th>\n",
       "      <td>...</td>\n",
       "      <td>...</td>\n",
       "      <td>...</td>\n",
       "      <td>...</td>\n",
       "      <td>...</td>\n",
       "      <td>...</td>\n",
       "      <td>...</td>\n",
       "      <td>...</td>\n",
       "      <td>...</td>\n",
       "      <td>...</td>\n",
       "      <td>...</td>\n",
       "      <td>...</td>\n",
       "      <td>...</td>\n",
       "      <td>...</td>\n",
       "      <td>...</td>\n",
       "      <td>...</td>\n",
       "      <td>...</td>\n",
       "      <td>...</td>\n",
       "      <td>...</td>\n",
       "      <td>...</td>\n",
       "      <td>...</td>\n",
       "    </tr>\n",
       "    <tr>\n",
       "      <th>113395</th>\n",
       "      <td>0609K75F9P1R2</td>\n",
       "      <td>Ok</td>\n",
       "      <td>r06c09f09p01-ch2sk75fk1fl1.tiff</td>\n",
       "      <td>6</td>\n",
       "      <td>9</td>\n",
       "      <td>9</td>\n",
       "      <td>1</td>\n",
       "      <td>74</td>\n",
       "      <td>2</td>\n",
       "      <td>1</td>\n",
       "      <td>...</td>\n",
       "      <td>0</td>\n",
       "      <td>0.135533601</td>\n",
       "      <td>266399.61</td>\n",
       "      <td>2021-04-19T21:14:19.477+01:00</td>\n",
       "      <td>640</td>\n",
       "      <td>706</td>\n",
       "      <td>40</td>\n",
       "      <td>1.1</td>\n",
       "      <td>0.2</td>\n",
       "      <td>[[0.990860,0,0,-15.9],[0,-0.990860,0,-44.8],[0...</td>\n",
       "    </tr>\n",
       "    <tr>\n",
       "      <th>113396</th>\n",
       "      <td>0609K75F9P2R1</td>\n",
       "      <td>Ok</td>\n",
       "      <td>r06c09f09p02-ch1sk75fk1fl1.tiff</td>\n",
       "      <td>6</td>\n",
       "      <td>9</td>\n",
       "      <td>9</td>\n",
       "      <td>2</td>\n",
       "      <td>74</td>\n",
       "      <td>1</td>\n",
       "      <td>1</td>\n",
       "      <td>...</td>\n",
       "      <td>2E-06</td>\n",
       "      <td>0.135535598</td>\n",
       "      <td>266399.61</td>\n",
       "      <td>2021-04-19T21:14:19.757+01:00</td>\n",
       "      <td>488</td>\n",
       "      <td>522</td>\n",
       "      <td>40</td>\n",
       "      <td>1.1</td>\n",
       "      <td>0.1</td>\n",
       "      <td>[[0.990860,0,0,-15.9],[0,-0.990860,0,-44.8],[0...</td>\n",
       "    </tr>\n",
       "    <tr>\n",
       "      <th>113397</th>\n",
       "      <td>0609K75F9P2R2</td>\n",
       "      <td>Ok</td>\n",
       "      <td>r06c09f09p02-ch2sk75fk1fl1.tiff</td>\n",
       "      <td>6</td>\n",
       "      <td>9</td>\n",
       "      <td>9</td>\n",
       "      <td>2</td>\n",
       "      <td>74</td>\n",
       "      <td>2</td>\n",
       "      <td>1</td>\n",
       "      <td>...</td>\n",
       "      <td>2E-06</td>\n",
       "      <td>0.135535598</td>\n",
       "      <td>266399.61</td>\n",
       "      <td>2021-04-19T21:14:19.757+01:00</td>\n",
       "      <td>640</td>\n",
       "      <td>706</td>\n",
       "      <td>40</td>\n",
       "      <td>1.1</td>\n",
       "      <td>0.2</td>\n",
       "      <td>[[0.990860,0,0,-15.9],[0,-0.990860,0,-44.8],[0...</td>\n",
       "    </tr>\n",
       "    <tr>\n",
       "      <th>113398</th>\n",
       "      <td>0609K75F9P3R1</td>\n",
       "      <td>Ok</td>\n",
       "      <td>r06c09f09p03-ch1sk75fk1fl1.tiff</td>\n",
       "      <td>6</td>\n",
       "      <td>9</td>\n",
       "      <td>9</td>\n",
       "      <td>3</td>\n",
       "      <td>74</td>\n",
       "      <td>1</td>\n",
       "      <td>1</td>\n",
       "      <td>...</td>\n",
       "      <td>4E-06</td>\n",
       "      <td>0.135537595</td>\n",
       "      <td>266399.61</td>\n",
       "      <td>2021-04-19T21:14:20.037+01:00</td>\n",
       "      <td>488</td>\n",
       "      <td>522</td>\n",
       "      <td>40</td>\n",
       "      <td>1.1</td>\n",
       "      <td>0.1</td>\n",
       "      <td>[[0.990860,0,0,-15.9],[0,-0.990860,0,-44.8],[0...</td>\n",
       "    </tr>\n",
       "    <tr>\n",
       "      <th>113399</th>\n",
       "      <td>0609K75F9P3R2</td>\n",
       "      <td>Ok</td>\n",
       "      <td>r06c09f09p03-ch2sk75fk1fl1.tiff</td>\n",
       "      <td>6</td>\n",
       "      <td>9</td>\n",
       "      <td>9</td>\n",
       "      <td>3</td>\n",
       "      <td>74</td>\n",
       "      <td>2</td>\n",
       "      <td>1</td>\n",
       "      <td>...</td>\n",
       "      <td>4E-06</td>\n",
       "      <td>0.135537595</td>\n",
       "      <td>266399.61</td>\n",
       "      <td>2021-04-19T21:14:20.037+01:00</td>\n",
       "      <td>640</td>\n",
       "      <td>706</td>\n",
       "      <td>40</td>\n",
       "      <td>1.1</td>\n",
       "      <td>0.2</td>\n",
       "      <td>[[0.990860,0,0,-15.9],[0,-0.990860,0,-44.8],[0...</td>\n",
       "    </tr>\n",
       "  </tbody>\n",
       "</table>\n",
       "<p>113400 rows × 35 columns</p>\n",
       "</div>"
      ],
      "text/plain": [
       "                   id State                              URL Row Col FieldID  \\\n",
       "0        0303K1F1P1R1    Ok   r03c03f01p01-ch1sk1fk1fl1.tiff   3   3       1   \n",
       "1        0303K1F1P1R2    Ok   r03c03f01p01-ch2sk1fk1fl1.tiff   3   3       1   \n",
       "2        0303K1F1P2R1    Ok   r03c03f01p02-ch1sk1fk1fl1.tiff   3   3       1   \n",
       "3        0303K1F1P2R2    Ok   r03c03f01p02-ch2sk1fk1fl1.tiff   3   3       1   \n",
       "4        0303K1F1P3R1    Ok   r03c03f01p03-ch1sk1fk1fl1.tiff   3   3       1   \n",
       "...               ...   ...                              ...  ..  ..     ...   \n",
       "113395  0609K75F9P1R2    Ok  r06c09f09p01-ch2sk75fk1fl1.tiff   6   9       9   \n",
       "113396  0609K75F9P2R1    Ok  r06c09f09p02-ch1sk75fk1fl1.tiff   6   9       9   \n",
       "113397  0609K75F9P2R2    Ok  r06c09f09p02-ch2sk75fk1fl1.tiff   6   9       9   \n",
       "113398  0609K75F9P3R1    Ok  r06c09f09p03-ch1sk75fk1fl1.tiff   6   9       9   \n",
       "113399  0609K75F9P3R2    Ok  r06c09f09p03-ch2sk75fk1fl1.tiff   6   9       9   \n",
       "\n",
       "       PlaneID TimepointID ChannelID FlimID  ... PositionZ AbsPositionZ  \\\n",
       "0            1           0         1      1  ...         0  0.135583505   \n",
       "1            1           0         2      1  ...         0  0.135583505   \n",
       "2            2           0         1      1  ...     2E-06  0.135585502   \n",
       "3            2           0         2      1  ...     2E-06  0.135585502   \n",
       "4            3           0         1      1  ...     4E-06  0.135587499   \n",
       "...        ...         ...       ...    ...  ...       ...          ...   \n",
       "113395       1          74         2      1  ...         0  0.135533601   \n",
       "113396       2          74         1      1  ...     2E-06  0.135535598   \n",
       "113397       2          74         2      1  ...     2E-06  0.135535598   \n",
       "113398       3          74         1      1  ...     4E-06  0.135537595   \n",
       "113399       3          74         2      1  ...     4E-06  0.135537595   \n",
       "\n",
       "       MeasurementTimeOffset                        AbsTime  \\\n",
       "0                          0   2021-04-16T19:09:33.84+01:00   \n",
       "1                          0   2021-04-16T19:09:33.84+01:00   \n",
       "2                          0   2021-04-16T19:09:34.12+01:00   \n",
       "3                          0   2021-04-16T19:09:34.12+01:00   \n",
       "4                          0    2021-04-16T19:09:34.4+01:00   \n",
       "...                      ...                            ...   \n",
       "113395             266399.61  2021-04-19T21:14:19.477+01:00   \n",
       "113396             266399.61  2021-04-19T21:14:19.757+01:00   \n",
       "113397             266399.61  2021-04-19T21:14:19.757+01:00   \n",
       "113398             266399.61  2021-04-19T21:14:20.037+01:00   \n",
       "113399             266399.61  2021-04-19T21:14:20.037+01:00   \n",
       "\n",
       "       MainExcitationWavelength MainEmissionWavelength ObjectiveMagnification  \\\n",
       "0                           488                    522                     40   \n",
       "1                           640                    706                     40   \n",
       "2                           488                    522                     40   \n",
       "3                           640                    706                     40   \n",
       "4                           488                    522                     40   \n",
       "...                         ...                    ...                    ...   \n",
       "113395                      640                    706                     40   \n",
       "113396                      488                    522                     40   \n",
       "113397                      640                    706                     40   \n",
       "113398                      488                    522                     40   \n",
       "113399                      640                    706                     40   \n",
       "\n",
       "       ObjectiveNA ExposureTime  \\\n",
       "0              1.1          0.1   \n",
       "1              1.1          0.2   \n",
       "2              1.1          0.1   \n",
       "3              1.1          0.2   \n",
       "4              1.1          0.1   \n",
       "...            ...          ...   \n",
       "113395         1.1          0.2   \n",
       "113396         1.1          0.1   \n",
       "113397         1.1          0.2   \n",
       "113398         1.1          0.1   \n",
       "113399         1.1          0.2   \n",
       "\n",
       "                                        OrientationMatrix  \n",
       "0       [[0.990860,0,0,-15.9],[0,-0.990860,0,-44.8],[0...  \n",
       "1       [[0.990860,0,0,-15.9],[0,-0.990860,0,-44.8],[0...  \n",
       "2       [[0.990860,0,0,-15.9],[0,-0.990860,0,-44.8],[0...  \n",
       "3       [[0.990860,0,0,-15.9],[0,-0.990860,0,-44.8],[0...  \n",
       "4       [[0.990860,0,0,-15.9],[0,-0.990860,0,-44.8],[0...  \n",
       "...                                                   ...  \n",
       "113395  [[0.990860,0,0,-15.9],[0,-0.990860,0,-44.8],[0...  \n",
       "113396  [[0.990860,0,0,-15.9],[0,-0.990860,0,-44.8],[0...  \n",
       "113397  [[0.990860,0,0,-15.9],[0,-0.990860,0,-44.8],[0...  \n",
       "113398  [[0.990860,0,0,-15.9],[0,-0.990860,0,-44.8],[0...  \n",
       "113399  [[0.990860,0,0,-15.9],[0,-0.990860,0,-44.8],[0...  \n",
       "\n",
       "[113400 rows x 35 columns]"
      ]
     },
     "execution_count": 2,
     "metadata": {},
     "output_type": "execute_result"
    }
   ],
   "source": [
    "base_dir = '/mnt/DATA/macrohet/'\n",
    "# base_dir = '/Volumes/lab-gutierrezm/home/users/dayn/macrohet/'\n",
    "metadata_fn = os.path.join(base_dir, 'macrohet_images/Index.idx.xml')\n",
    "metadata = dataio.read_harmony_metadata(metadata_fn)  \n",
    "metadata"
   ]
  },
  {
   "cell_type": "markdown",
   "id": "8597dbf0",
   "metadata": {},
   "source": [
    "### View assay layout and mask information (optional)\n",
    "\n",
    "The Opera Phenix acquires many time lapse series from a range of positions. The first step is to inspect the image metadata, presented in the form of an `Assaylayout/experiment_ID.xml` file, to show which positions correspond to which experimental assays."
   ]
  },
  {
   "cell_type": "code",
   "execution_count": 3,
   "id": "9c433fd4",
   "metadata": {},
   "outputs": [
    {
     "name": "stdout",
     "output_type": "stream",
     "text": [
      "Reading metadata XML file...\n",
      "Extracting metadata complete!\n"
     ]
    },
    {
     "data": {
      "text/html": [
       "<div>\n",
       "<style scoped>\n",
       "    .dataframe tbody tr th:only-of-type {\n",
       "        vertical-align: middle;\n",
       "    }\n",
       "\n",
       "    .dataframe tbody tr th {\n",
       "        vertical-align: top;\n",
       "    }\n",
       "\n",
       "    .dataframe thead th {\n",
       "        text-align: right;\n",
       "    }\n",
       "</style>\n",
       "<table border=\"1\" class=\"dataframe\">\n",
       "  <thead>\n",
       "    <tr style=\"text-align: right;\">\n",
       "      <th></th>\n",
       "      <th></th>\n",
       "      <th>Strain</th>\n",
       "      <th>Compound</th>\n",
       "      <th>Concentration</th>\n",
       "      <th>ConcentrationEC</th>\n",
       "    </tr>\n",
       "  </thead>\n",
       "  <tbody>\n",
       "    <tr>\n",
       "      <th rowspan=\"6\" valign=\"top\">3</th>\n",
       "      <th>4</th>\n",
       "      <td>RD1</td>\n",
       "      <td>CTRL</td>\n",
       "      <td>0</td>\n",
       "      <td>EC0</td>\n",
       "    </tr>\n",
       "    <tr>\n",
       "      <th>5</th>\n",
       "      <td>WT</td>\n",
       "      <td>CTRL</td>\n",
       "      <td>0</td>\n",
       "      <td>EC0</td>\n",
       "    </tr>\n",
       "    <tr>\n",
       "      <th>6</th>\n",
       "      <td>WT</td>\n",
       "      <td>PZA</td>\n",
       "      <td>60</td>\n",
       "      <td>EC50</td>\n",
       "    </tr>\n",
       "    <tr>\n",
       "      <th>7</th>\n",
       "      <td>WT</td>\n",
       "      <td>RIF</td>\n",
       "      <td>0.1</td>\n",
       "      <td>EC50</td>\n",
       "    </tr>\n",
       "    <tr>\n",
       "      <th>8</th>\n",
       "      <td>WT</td>\n",
       "      <td>INH</td>\n",
       "      <td>0.04</td>\n",
       "      <td>EC50</td>\n",
       "    </tr>\n",
       "    <tr>\n",
       "      <th>9</th>\n",
       "      <td>WT</td>\n",
       "      <td>BDQ</td>\n",
       "      <td>0.02</td>\n",
       "      <td>EC50</td>\n",
       "    </tr>\n",
       "    <tr>\n",
       "      <th rowspan=\"6\" valign=\"top\">4</th>\n",
       "      <th>4</th>\n",
       "      <td>RD1</td>\n",
       "      <td>CTRL</td>\n",
       "      <td>0</td>\n",
       "      <td>EC0</td>\n",
       "    </tr>\n",
       "    <tr>\n",
       "      <th>5</th>\n",
       "      <td>WT</td>\n",
       "      <td>CTRL</td>\n",
       "      <td>0</td>\n",
       "      <td>EC0</td>\n",
       "    </tr>\n",
       "    <tr>\n",
       "      <th>6</th>\n",
       "      <td>WT</td>\n",
       "      <td>PZA</td>\n",
       "      <td>60</td>\n",
       "      <td>EC50</td>\n",
       "    </tr>\n",
       "    <tr>\n",
       "      <th>7</th>\n",
       "      <td>WT</td>\n",
       "      <td>RIF</td>\n",
       "      <td>0.1</td>\n",
       "      <td>EC50</td>\n",
       "    </tr>\n",
       "    <tr>\n",
       "      <th>8</th>\n",
       "      <td>WT</td>\n",
       "      <td>INH</td>\n",
       "      <td>0.04</td>\n",
       "      <td>EC50</td>\n",
       "    </tr>\n",
       "    <tr>\n",
       "      <th>9</th>\n",
       "      <td>WT</td>\n",
       "      <td>BDQ</td>\n",
       "      <td>0.02</td>\n",
       "      <td>EC50</td>\n",
       "    </tr>\n",
       "    <tr>\n",
       "      <th rowspan=\"6\" valign=\"top\">5</th>\n",
       "      <th>4</th>\n",
       "      <td>RD1</td>\n",
       "      <td>CTRL</td>\n",
       "      <td>0</td>\n",
       "      <td>EC0</td>\n",
       "    </tr>\n",
       "    <tr>\n",
       "      <th>5</th>\n",
       "      <td>WT</td>\n",
       "      <td>CTRL</td>\n",
       "      <td>0</td>\n",
       "      <td>EC0</td>\n",
       "    </tr>\n",
       "    <tr>\n",
       "      <th>6</th>\n",
       "      <td>WT</td>\n",
       "      <td>PZA</td>\n",
       "      <td>400</td>\n",
       "      <td>EC99</td>\n",
       "    </tr>\n",
       "    <tr>\n",
       "      <th>7</th>\n",
       "      <td>WT</td>\n",
       "      <td>RIF</td>\n",
       "      <td>2</td>\n",
       "      <td>EC99</td>\n",
       "    </tr>\n",
       "    <tr>\n",
       "      <th>8</th>\n",
       "      <td>WT</td>\n",
       "      <td>INH</td>\n",
       "      <td>2</td>\n",
       "      <td>EC99</td>\n",
       "    </tr>\n",
       "    <tr>\n",
       "      <th>9</th>\n",
       "      <td>WT</td>\n",
       "      <td>BDQ</td>\n",
       "      <td>2.5</td>\n",
       "      <td>EC99</td>\n",
       "    </tr>\n",
       "    <tr>\n",
       "      <th rowspan=\"6\" valign=\"top\">6</th>\n",
       "      <th>4</th>\n",
       "      <td>RD1</td>\n",
       "      <td>CTRL</td>\n",
       "      <td>0</td>\n",
       "      <td>EC0</td>\n",
       "    </tr>\n",
       "    <tr>\n",
       "      <th>5</th>\n",
       "      <td>WT</td>\n",
       "      <td>CTRL</td>\n",
       "      <td>0</td>\n",
       "      <td>EC0</td>\n",
       "    </tr>\n",
       "    <tr>\n",
       "      <th>6</th>\n",
       "      <td>WT</td>\n",
       "      <td>PZA</td>\n",
       "      <td>400</td>\n",
       "      <td>EC99</td>\n",
       "    </tr>\n",
       "    <tr>\n",
       "      <th>7</th>\n",
       "      <td>WT</td>\n",
       "      <td>RIF</td>\n",
       "      <td>2</td>\n",
       "      <td>EC99</td>\n",
       "    </tr>\n",
       "    <tr>\n",
       "      <th>8</th>\n",
       "      <td>WT</td>\n",
       "      <td>INH</td>\n",
       "      <td>2</td>\n",
       "      <td>EC99</td>\n",
       "    </tr>\n",
       "    <tr>\n",
       "      <th>9</th>\n",
       "      <td>WT</td>\n",
       "      <td>BDQ</td>\n",
       "      <td>2.5</td>\n",
       "      <td>EC99</td>\n",
       "    </tr>\n",
       "  </tbody>\n",
       "</table>\n",
       "</div>"
      ],
      "text/plain": [
       "    Strain Compound Concentration ConcentrationEC\n",
       "3 4    RD1     CTRL             0             EC0\n",
       "  5     WT     CTRL             0             EC0\n",
       "  6     WT      PZA            60            EC50\n",
       "  7     WT      RIF           0.1            EC50\n",
       "  8     WT      INH          0.04            EC50\n",
       "  9     WT      BDQ          0.02            EC50\n",
       "4 4    RD1     CTRL             0             EC0\n",
       "  5     WT     CTRL             0             EC0\n",
       "  6     WT      PZA            60            EC50\n",
       "  7     WT      RIF           0.1            EC50\n",
       "  8     WT      INH          0.04            EC50\n",
       "  9     WT      BDQ          0.02            EC50\n",
       "5 4    RD1     CTRL             0             EC0\n",
       "  5     WT     CTRL             0             EC0\n",
       "  6     WT      PZA           400            EC99\n",
       "  7     WT      RIF             2            EC99\n",
       "  8     WT      INH             2            EC99\n",
       "  9     WT      BDQ           2.5            EC99\n",
       "6 4    RD1     CTRL             0             EC0\n",
       "  5     WT     CTRL             0             EC0\n",
       "  6     WT      PZA           400            EC99\n",
       "  7     WT      RIF             2            EC99\n",
       "  8     WT      INH             2            EC99\n",
       "  9     WT      BDQ           2.5            EC99"
      ]
     },
     "execution_count": 3,
     "metadata": {},
     "output_type": "execute_result"
    }
   ],
   "source": [
    "metadata_path = os.path.join(base_dir, 'macrohet_images/Assaylayout/20210602_Live_cell_IPSDMGFP_ATB.xml')\n",
    "assay_layout = dataio.read_harmony_metadata(metadata_path, assay_layout=True,)# mask_exist=True,  image_dir = image_dir, image_metadata = metadata)\n",
    "assay_layout"
   ]
  },
  {
   "cell_type": "markdown",
   "id": "97ae561d",
   "metadata": {},
   "source": [
    "# Iteratively load all tracks\n",
    "\n",
    "and append to a track_dict dictionary"
   ]
  },
  {
   "cell_type": "code",
   "execution_count": 4,
   "id": "5cccf905",
   "metadata": {
    "scrolled": true
   },
   "outputs": [
    {
     "data": {
      "application/vnd.jupyter.widget-view+json": {
       "model_id": "78b8763cd7804a4c8f84ca8c2586d6df",
       "version_major": 2,
       "version_minor": 0
      },
      "text/plain": [
       "Progress through positions:   0%|          | 0/24 [00:00<?, ?it/s]"
      ]
     },
     "metadata": {},
     "output_type": "display_data"
    },
    {
     "name": "stderr",
     "output_type": "stream",
     "text": [
      "[INFO][2023/06/19 03:38:53 PM] Opening HDF file: /mnt/DATA/macrohet/labels/macrohet_seg_model/(3, 4).h5...\n",
      "[INFO][2023/06/19 03:38:53 PM] Loading tracks/obj_type_1\n",
      "[INFO][2023/06/19 03:38:53 PM] Loading LBEP/obj_type_1\n",
      "[INFO][2023/06/19 03:38:53 PM] Loading objects/obj_type_1 (39878, 5) (39878 filtered: None)\n",
      "[INFO][2023/06/19 03:38:53 PM] Closing HDF file: /mnt/DATA/macrohet/labels/macrohet_seg_model/(3, 4).h5\n",
      "[INFO][2023/06/19 03:38:53 PM] Opening HDF file: /mnt/DATA/macrohet/labels/macrohet_seg_model/(3, 5).h5...\n",
      "[INFO][2023/06/19 03:38:53 PM] Loading tracks/obj_type_1\n",
      "[INFO][2023/06/19 03:38:53 PM] Loading LBEP/obj_type_1\n",
      "[INFO][2023/06/19 03:38:53 PM] Loading objects/obj_type_1 (41424, 5) (41424 filtered: None)\n",
      "[INFO][2023/06/19 03:38:54 PM] Closing HDF file: /mnt/DATA/macrohet/labels/macrohet_seg_model/(3, 5).h5\n",
      "[INFO][2023/06/19 03:38:54 PM] Opening HDF file: /mnt/DATA/macrohet/labels/macrohet_seg_model/(3, 6).h5...\n",
      "[INFO][2023/06/19 03:38:54 PM] Loading tracks/obj_type_1\n",
      "[INFO][2023/06/19 03:38:54 PM] Loading LBEP/obj_type_1\n",
      "[INFO][2023/06/19 03:38:54 PM] Loading objects/obj_type_1 (46507, 5) (46507 filtered: None)\n",
      "[INFO][2023/06/19 03:38:55 PM] Closing HDF file: /mnt/DATA/macrohet/labels/macrohet_seg_model/(3, 6).h5\n",
      "[INFO][2023/06/19 03:38:55 PM] Opening HDF file: /mnt/DATA/macrohet/labels/macrohet_seg_model/(3, 7).h5...\n",
      "[INFO][2023/06/19 03:38:55 PM] Loading tracks/obj_type_1\n",
      "[INFO][2023/06/19 03:38:55 PM] Loading LBEP/obj_type_1\n",
      "[INFO][2023/06/19 03:38:55 PM] Loading objects/obj_type_1 (42503, 5) (42503 filtered: None)\n",
      "[INFO][2023/06/19 03:38:55 PM] Closing HDF file: /mnt/DATA/macrohet/labels/macrohet_seg_model/(3, 7).h5\n",
      "[INFO][2023/06/19 03:38:55 PM] Opening HDF file: /mnt/DATA/macrohet/labels/macrohet_seg_model/(3, 8).h5...\n",
      "[INFO][2023/06/19 03:38:55 PM] Loading tracks/obj_type_1\n",
      "[INFO][2023/06/19 03:38:55 PM] Loading LBEP/obj_type_1\n",
      "[INFO][2023/06/19 03:38:55 PM] Loading objects/obj_type_1 (47396, 5) (47396 filtered: None)\n",
      "[INFO][2023/06/19 03:38:56 PM] Closing HDF file: /mnt/DATA/macrohet/labels/macrohet_seg_model/(3, 8).h5\n",
      "[INFO][2023/06/19 03:38:56 PM] Opening HDF file: /mnt/DATA/macrohet/labels/macrohet_seg_model/(3, 9).h5...\n",
      "[INFO][2023/06/19 03:38:56 PM] Loading tracks/obj_type_1\n",
      "[INFO][2023/06/19 03:38:56 PM] Loading LBEP/obj_type_1\n",
      "[INFO][2023/06/19 03:38:56 PM] Loading objects/obj_type_1 (42259, 5) (42259 filtered: None)\n",
      "[INFO][2023/06/19 03:38:56 PM] Closing HDF file: /mnt/DATA/macrohet/labels/macrohet_seg_model/(3, 9).h5\n",
      "[INFO][2023/06/19 03:38:56 PM] Opening HDF file: /mnt/DATA/macrohet/labels/macrohet_seg_model/(4, 4).h5...\n",
      "[INFO][2023/06/19 03:38:56 PM] Loading tracks/obj_type_1\n",
      "[INFO][2023/06/19 03:38:56 PM] Loading LBEP/obj_type_1\n",
      "[INFO][2023/06/19 03:38:56 PM] Loading objects/obj_type_1 (41640, 5) (41640 filtered: None)\n",
      "[INFO][2023/06/19 03:38:57 PM] Closing HDF file: /mnt/DATA/macrohet/labels/macrohet_seg_model/(4, 4).h5\n",
      "[INFO][2023/06/19 03:38:57 PM] Opening HDF file: /mnt/DATA/macrohet/labels/macrohet_seg_model/(4, 5).h5...\n",
      "[INFO][2023/06/19 03:38:57 PM] Loading tracks/obj_type_1\n",
      "[INFO][2023/06/19 03:38:57 PM] Loading LBEP/obj_type_1\n",
      "[INFO][2023/06/19 03:38:57 PM] Loading objects/obj_type_1 (47242, 5) (47242 filtered: None)\n",
      "[INFO][2023/06/19 03:38:58 PM] Closing HDF file: /mnt/DATA/macrohet/labels/macrohet_seg_model/(4, 5).h5\n",
      "[INFO][2023/06/19 03:38:58 PM] Opening HDF file: /mnt/DATA/macrohet/labels/macrohet_seg_model/(4, 6).h5...\n",
      "[INFO][2023/06/19 03:38:58 PM] Loading tracks/obj_type_1\n",
      "[INFO][2023/06/19 03:38:58 PM] Loading LBEP/obj_type_1\n",
      "[INFO][2023/06/19 03:38:58 PM] Loading objects/obj_type_1 (43883, 5) (43883 filtered: None)\n",
      "[INFO][2023/06/19 03:38:58 PM] Closing HDF file: /mnt/DATA/macrohet/labels/macrohet_seg_model/(4, 6).h5\n",
      "[INFO][2023/06/19 03:38:58 PM] Opening HDF file: /mnt/DATA/macrohet/labels/macrohet_seg_model/(4, 7).h5...\n",
      "[INFO][2023/06/19 03:38:58 PM] Loading tracks/obj_type_1\n",
      "[INFO][2023/06/19 03:38:58 PM] Loading LBEP/obj_type_1\n",
      "[INFO][2023/06/19 03:38:58 PM] Loading objects/obj_type_1 (42965, 5) (42965 filtered: None)\n",
      "[INFO][2023/06/19 03:38:59 PM] Closing HDF file: /mnt/DATA/macrohet/labels/macrohet_seg_model/(4, 7).h5\n",
      "[INFO][2023/06/19 03:38:59 PM] Opening HDF file: /mnt/DATA/macrohet/labels/macrohet_seg_model/(4, 8).h5...\n",
      "[INFO][2023/06/19 03:38:59 PM] Loading tracks/obj_type_1\n",
      "[INFO][2023/06/19 03:38:59 PM] Loading LBEP/obj_type_1\n",
      "[INFO][2023/06/19 03:38:59 PM] Loading objects/obj_type_1 (38895, 5) (38895 filtered: None)\n",
      "[INFO][2023/06/19 03:39:00 PM] Closing HDF file: /mnt/DATA/macrohet/labels/macrohet_seg_model/(4, 8).h5\n",
      "[INFO][2023/06/19 03:39:00 PM] Opening HDF file: /mnt/DATA/macrohet/labels/macrohet_seg_model/(4, 9).h5...\n",
      "[INFO][2023/06/19 03:39:00 PM] Loading tracks/obj_type_1\n",
      "[INFO][2023/06/19 03:39:00 PM] Loading LBEP/obj_type_1\n",
      "[INFO][2023/06/19 03:39:00 PM] Loading objects/obj_type_1 (44643, 5) (44643 filtered: None)\n",
      "[INFO][2023/06/19 03:39:00 PM] Closing HDF file: /mnt/DATA/macrohet/labels/macrohet_seg_model/(4, 9).h5\n",
      "[INFO][2023/06/19 03:39:00 PM] Opening HDF file: /mnt/DATA/macrohet/labels/macrohet_seg_model/(5, 4).h5...\n",
      "[INFO][2023/06/19 03:39:00 PM] Loading tracks/obj_type_1\n",
      "[INFO][2023/06/19 03:39:00 PM] Loading LBEP/obj_type_1\n",
      "[INFO][2023/06/19 03:39:00 PM] Loading objects/obj_type_1 (30664, 5) (30664 filtered: None)\n",
      "[INFO][2023/06/19 03:39:06 PM] Closing HDF file: /mnt/DATA/macrohet/labels/macrohet_seg_model/(5, 4).h5\n",
      "[INFO][2023/06/19 03:39:06 PM] Opening HDF file: /mnt/DATA/macrohet/labels/macrohet_seg_model/(5, 5).h5...\n",
      "[INFO][2023/06/19 03:39:06 PM] Loading tracks/obj_type_1\n",
      "[INFO][2023/06/19 03:39:06 PM] Loading LBEP/obj_type_1\n",
      "[INFO][2023/06/19 03:39:06 PM] Loading objects/obj_type_1 (42973, 5) (42973 filtered: None)\n",
      "[INFO][2023/06/19 03:39:06 PM] Closing HDF file: /mnt/DATA/macrohet/labels/macrohet_seg_model/(5, 5).h5\n",
      "[INFO][2023/06/19 03:39:06 PM] Opening HDF file: /mnt/DATA/macrohet/labels/macrohet_seg_model/(5, 6).h5...\n",
      "[INFO][2023/06/19 03:39:06 PM] Loading tracks/obj_type_1\n",
      "[INFO][2023/06/19 03:39:06 PM] Loading LBEP/obj_type_1\n",
      "[INFO][2023/06/19 03:39:07 PM] Loading objects/obj_type_1 (45678, 5) (45678 filtered: None)\n",
      "[INFO][2023/06/19 03:39:07 PM] Closing HDF file: /mnt/DATA/macrohet/labels/macrohet_seg_model/(5, 6).h5\n",
      "[INFO][2023/06/19 03:39:07 PM] Opening HDF file: /mnt/DATA/macrohet/labels/macrohet_seg_model/(5, 7).h5...\n",
      "[INFO][2023/06/19 03:39:07 PM] Loading tracks/obj_type_1\n",
      "[INFO][2023/06/19 03:39:07 PM] Loading LBEP/obj_type_1\n",
      "[INFO][2023/06/19 03:39:07 PM] Loading objects/obj_type_1 (47880, 5) (47880 filtered: None)\n",
      "[INFO][2023/06/19 03:39:08 PM] Closing HDF file: /mnt/DATA/macrohet/labels/macrohet_seg_model/(5, 7).h5\n",
      "[INFO][2023/06/19 03:39:08 PM] Opening HDF file: /mnt/DATA/macrohet/labels/macrohet_seg_model/(5, 8).h5...\n",
      "[INFO][2023/06/19 03:39:08 PM] Loading tracks/obj_type_1\n",
      "[INFO][2023/06/19 03:39:08 PM] Loading LBEP/obj_type_1\n",
      "[INFO][2023/06/19 03:39:08 PM] Loading objects/obj_type_1 (38531, 5) (38531 filtered: None)\n",
      "[INFO][2023/06/19 03:39:09 PM] Closing HDF file: /mnt/DATA/macrohet/labels/macrohet_seg_model/(5, 8).h5\n",
      "[INFO][2023/06/19 03:39:09 PM] Opening HDF file: /mnt/DATA/macrohet/labels/macrohet_seg_model/(5, 9).h5...\n",
      "[INFO][2023/06/19 03:39:09 PM] Loading tracks/obj_type_1\n",
      "[INFO][2023/06/19 03:39:09 PM] Loading LBEP/obj_type_1\n",
      "[INFO][2023/06/19 03:39:09 PM] Loading objects/obj_type_1 (33081, 5) (33081 filtered: None)\n",
      "[INFO][2023/06/19 03:39:10 PM] Closing HDF file: /mnt/DATA/macrohet/labels/macrohet_seg_model/(5, 9).h5\n",
      "[INFO][2023/06/19 03:39:10 PM] Opening HDF file: /mnt/DATA/macrohet/labels/macrohet_seg_model/(6, 4).h5...\n",
      "[INFO][2023/06/19 03:39:10 PM] Loading tracks/obj_type_1\n",
      "[INFO][2023/06/19 03:39:10 PM] Loading LBEP/obj_type_1\n",
      "[INFO][2023/06/19 03:39:10 PM] Loading objects/obj_type_1 (42961, 5) (42961 filtered: None)\n",
      "[INFO][2023/06/19 03:39:11 PM] Closing HDF file: /mnt/DATA/macrohet/labels/macrohet_seg_model/(6, 4).h5\n",
      "[INFO][2023/06/19 03:39:11 PM] Opening HDF file: /mnt/DATA/macrohet/labels/macrohet_seg_model/(6, 5).h5...\n",
      "[INFO][2023/06/19 03:39:11 PM] Loading tracks/obj_type_1\n",
      "[INFO][2023/06/19 03:39:11 PM] Loading LBEP/obj_type_1\n",
      "[INFO][2023/06/19 03:39:11 PM] Loading objects/obj_type_1 (46808, 5) (46808 filtered: None)\n"
     ]
    },
    {
     "name": "stderr",
     "output_type": "stream",
     "text": [
      "[INFO][2023/06/19 03:39:11 PM] Closing HDF file: /mnt/DATA/macrohet/labels/macrohet_seg_model/(6, 5).h5\n",
      "[INFO][2023/06/19 03:39:11 PM] Opening HDF file: /mnt/DATA/macrohet/labels/macrohet_seg_model/(6, 6).h5...\n",
      "[INFO][2023/06/19 03:39:11 PM] Loading tracks/obj_type_1\n",
      "[INFO][2023/06/19 03:39:11 PM] Loading LBEP/obj_type_1\n",
      "[INFO][2023/06/19 03:39:11 PM] Loading objects/obj_type_1 (45688, 5) (45688 filtered: None)\n",
      "[INFO][2023/06/19 03:39:12 PM] Closing HDF file: /mnt/DATA/macrohet/labels/macrohet_seg_model/(6, 6).h5\n",
      "[INFO][2023/06/19 03:39:12 PM] Opening HDF file: /mnt/DATA/macrohet/labels/macrohet_seg_model/(6, 7).h5...\n",
      "[INFO][2023/06/19 03:39:12 PM] Loading tracks/obj_type_1\n",
      "[INFO][2023/06/19 03:39:12 PM] Loading LBEP/obj_type_1\n",
      "[INFO][2023/06/19 03:39:12 PM] Loading objects/obj_type_1 (45214, 5) (45214 filtered: None)\n",
      "[INFO][2023/06/19 03:39:14 PM] Closing HDF file: /mnt/DATA/macrohet/labels/macrohet_seg_model/(6, 7).h5\n",
      "[INFO][2023/06/19 03:39:14 PM] Opening HDF file: /mnt/DATA/macrohet/labels/macrohet_seg_model/(6, 8).h5...\n",
      "[INFO][2023/06/19 03:39:14 PM] Loading tracks/obj_type_1\n",
      "[INFO][2023/06/19 03:39:14 PM] Loading LBEP/obj_type_1\n",
      "[INFO][2023/06/19 03:39:14 PM] Loading objects/obj_type_1 (46267, 5) (46267 filtered: None)\n",
      "[INFO][2023/06/19 03:39:15 PM] Closing HDF file: /mnt/DATA/macrohet/labels/macrohet_seg_model/(6, 8).h5\n",
      "[INFO][2023/06/19 03:39:15 PM] Opening HDF file: /mnt/DATA/macrohet/labels/macrohet_seg_model/(6, 9).h5...\n",
      "[INFO][2023/06/19 03:39:15 PM] Loading tracks/obj_type_1\n",
      "[INFO][2023/06/19 03:39:15 PM] Loading LBEP/obj_type_1\n",
      "[INFO][2023/06/19 03:39:15 PM] Loading objects/obj_type_1 (35615, 5) (35615 filtered: None)\n",
      "[INFO][2023/06/19 03:39:15 PM] Closing HDF file: /mnt/DATA/macrohet/labels/macrohet_seg_model/(6, 9).h5\n"
     ]
    }
   ],
   "source": [
    "tracks_dict = dict()\n",
    "### iterate over all experimental conditions\n",
    "for (row, column), info in tqdm(assay_layout.iterrows(), \n",
    "                                desc = 'Progress through positions',\n",
    "                                total = len(assay_layout)):\n",
    "\n",
    "    ### load tracks\n",
    "    with btrack.io.HDF5FileHandler(os.path.join(base_dir, \n",
    "                                                f'labels/macrohet_seg_model/{row,column}.h5'), \n",
    "                                       'r', \n",
    "                                       obj_type='obj_type_1'\n",
    "                                       ) as reader:\n",
    "        tracks = reader.tracks\n",
    "            \n",
    "    ### append tracks to dictionary\n",
    "    tracks_dict[(row, column)] = tracks"
   ]
  },
  {
   "cell_type": "markdown",
   "id": "3c537213",
   "metadata": {},
   "source": [
    "# Compile all longer length tracks into dataframe\n",
    "\n",
    "Add extra information such as the MSD of cells between frames"
   ]
  },
  {
   "cell_type": "code",
   "execution_count": 5,
   "id": "14899525",
   "metadata": {},
   "outputs": [
    {
     "data": {
      "text/html": [
       "<div>\n",
       "<style scoped>\n",
       "    .dataframe tbody tr th:only-of-type {\n",
       "        vertical-align: middle;\n",
       "    }\n",
       "\n",
       "    .dataframe tbody tr th {\n",
       "        vertical-align: top;\n",
       "    }\n",
       "\n",
       "    .dataframe thead th {\n",
       "        text-align: right;\n",
       "    }\n",
       "</style>\n",
       "<table border=\"1\" class=\"dataframe\">\n",
       "  <thead>\n",
       "    <tr style=\"text-align: right;\">\n",
       "      <th></th>\n",
       "      <th>Time (hours)</th>\n",
       "      <th>x</th>\n",
       "      <th>y</th>\n",
       "      <th>x scaled</th>\n",
       "      <th>y scaled</th>\n",
       "      <th>Infection status</th>\n",
       "      <th>Initial infection status</th>\n",
       "      <th>Final infection status</th>\n",
       "      <th>Area</th>\n",
       "      <th>Intracellular mean Mtb content</th>\n",
       "      <th>...</th>\n",
       "      <th>delta Mtb max fold-change normalised max area</th>\n",
       "      <th>delta Mtb/dt</th>\n",
       "      <th>Eccentricity</th>\n",
       "      <th>MSD</th>\n",
       "      <th>Strain</th>\n",
       "      <th>Compound</th>\n",
       "      <th>Concentration</th>\n",
       "      <th>Cell ID</th>\n",
       "      <th>Acquisition ID</th>\n",
       "      <th>Unique ID</th>\n",
       "    </tr>\n",
       "  </thead>\n",
       "  <tbody>\n",
       "    <tr>\n",
       "      <th>0</th>\n",
       "      <td>0</td>\n",
       "      <td>708.125061</td>\n",
       "      <td>77.589088</td>\n",
       "      <td>3568.950308</td>\n",
       "      <td>391.049006</td>\n",
       "      <td>0.0</td>\n",
       "      <td>0.0</td>\n",
       "      <td>1.0</td>\n",
       "      <td>42556.0</td>\n",
       "      <td>365.408905</td>\n",
       "      <td>...</td>\n",
       "      <td>0.095232</td>\n",
       "      <td>0.418707</td>\n",
       "      <td>0.813310</td>\n",
       "      <td>0.000000</td>\n",
       "      <td>RD1</td>\n",
       "      <td>CTRL</td>\n",
       "      <td>EC0</td>\n",
       "      <td>433</td>\n",
       "      <td>(3, 4)</td>\n",
       "      <td>433.3.4</td>\n",
       "    </tr>\n",
       "    <tr>\n",
       "      <th>1</th>\n",
       "      <td>1</td>\n",
       "      <td>725.449097</td>\n",
       "      <td>73.245003</td>\n",
       "      <td>3656.263447</td>\n",
       "      <td>369.154814</td>\n",
       "      <td>0.0</td>\n",
       "      <td>0.0</td>\n",
       "      <td>1.0</td>\n",
       "      <td>48727.0</td>\n",
       "      <td>362.852478</td>\n",
       "      <td>...</td>\n",
       "      <td>0.095232</td>\n",
       "      <td>0.418707</td>\n",
       "      <td>0.896474</td>\n",
       "      <td>17.860383</td>\n",
       "      <td>RD1</td>\n",
       "      <td>CTRL</td>\n",
       "      <td>EC0</td>\n",
       "      <td>433</td>\n",
       "      <td>(3, 4)</td>\n",
       "      <td>433.3.4</td>\n",
       "    </tr>\n",
       "    <tr>\n",
       "      <th>2</th>\n",
       "      <td>2</td>\n",
       "      <td>723.088928</td>\n",
       "      <td>76.431496</td>\n",
       "      <td>3644.368198</td>\n",
       "      <td>385.214738</td>\n",
       "      <td>0.0</td>\n",
       "      <td>0.0</td>\n",
       "      <td>1.0</td>\n",
       "      <td>43484.0</td>\n",
       "      <td>363.515442</td>\n",
       "      <td>...</td>\n",
       "      <td>0.095232</td>\n",
       "      <td>0.418707</td>\n",
       "      <td>0.876911</td>\n",
       "      <td>3.965367</td>\n",
       "      <td>RD1</td>\n",
       "      <td>CTRL</td>\n",
       "      <td>EC0</td>\n",
       "      <td>433</td>\n",
       "      <td>(3, 4)</td>\n",
       "      <td>433.3.4</td>\n",
       "    </tr>\n",
       "    <tr>\n",
       "      <th>3</th>\n",
       "      <td>3</td>\n",
       "      <td>726.009766</td>\n",
       "      <td>79.395073</td>\n",
       "      <td>3659.089219</td>\n",
       "      <td>400.151168</td>\n",
       "      <td>0.0</td>\n",
       "      <td>0.0</td>\n",
       "      <td>1.0</td>\n",
       "      <td>39113.0</td>\n",
       "      <td>360.448578</td>\n",
       "      <td>...</td>\n",
       "      <td>0.095232</td>\n",
       "      <td>0.418707</td>\n",
       "      <td>0.717504</td>\n",
       "      <td>4.161019</td>\n",
       "      <td>RD1</td>\n",
       "      <td>CTRL</td>\n",
       "      <td>EC0</td>\n",
       "      <td>433</td>\n",
       "      <td>(3, 4)</td>\n",
       "      <td>433.3.4</td>\n",
       "    </tr>\n",
       "    <tr>\n",
       "      <th>4</th>\n",
       "      <td>4</td>\n",
       "      <td>728.209656</td>\n",
       "      <td>82.197769</td>\n",
       "      <td>3670.176665</td>\n",
       "      <td>414.276757</td>\n",
       "      <td>0.0</td>\n",
       "      <td>0.0</td>\n",
       "      <td>1.0</td>\n",
       "      <td>32644.0</td>\n",
       "      <td>362.289764</td>\n",
       "      <td>...</td>\n",
       "      <td>0.095232</td>\n",
       "      <td>0.418707</td>\n",
       "      <td>0.425791</td>\n",
       "      <td>3.562951</td>\n",
       "      <td>RD1</td>\n",
       "      <td>CTRL</td>\n",
       "      <td>EC0</td>\n",
       "      <td>433</td>\n",
       "      <td>(3, 4)</td>\n",
       "      <td>433.3.4</td>\n",
       "    </tr>\n",
       "    <tr>\n",
       "      <th>...</th>\n",
       "      <td>...</td>\n",
       "      <td>...</td>\n",
       "      <td>...</td>\n",
       "      <td>...</td>\n",
       "      <td>...</td>\n",
       "      <td>...</td>\n",
       "      <td>...</td>\n",
       "      <td>...</td>\n",
       "      <td>...</td>\n",
       "      <td>...</td>\n",
       "      <td>...</td>\n",
       "      <td>...</td>\n",
       "      <td>...</td>\n",
       "      <td>...</td>\n",
       "      <td>...</td>\n",
       "      <td>...</td>\n",
       "      <td>...</td>\n",
       "      <td>...</td>\n",
       "      <td>...</td>\n",
       "      <td>...</td>\n",
       "      <td>...</td>\n",
       "    </tr>\n",
       "    <tr>\n",
       "      <th>701474</th>\n",
       "      <td>70</td>\n",
       "      <td>757.886719</td>\n",
       "      <td>44.412071</td>\n",
       "      <td>3819.749063</td>\n",
       "      <td>223.836839</td>\n",
       "      <td>1.0</td>\n",
       "      <td>1.0</td>\n",
       "      <td>1.0</td>\n",
       "      <td>71808.0</td>\n",
       "      <td>358.460327</td>\n",
       "      <td>...</td>\n",
       "      <td>-0.000019</td>\n",
       "      <td>-0.092227</td>\n",
       "      <td>0.923363</td>\n",
       "      <td>0.522451</td>\n",
       "      <td>WT</td>\n",
       "      <td>BDQ</td>\n",
       "      <td>EC99</td>\n",
       "      <td>2320</td>\n",
       "      <td>(6, 9)</td>\n",
       "      <td>2320.6.9</td>\n",
       "    </tr>\n",
       "    <tr>\n",
       "      <th>701475</th>\n",
       "      <td>71</td>\n",
       "      <td>760.801514</td>\n",
       "      <td>49.459522</td>\n",
       "      <td>3834.439629</td>\n",
       "      <td>249.275992</td>\n",
       "      <td>1.0</td>\n",
       "      <td>1.0</td>\n",
       "      <td>1.0</td>\n",
       "      <td>65328.0</td>\n",
       "      <td>358.026184</td>\n",
       "      <td>...</td>\n",
       "      <td>-0.000019</td>\n",
       "      <td>-0.092227</td>\n",
       "      <td>0.893735</td>\n",
       "      <td>5.828618</td>\n",
       "      <td>WT</td>\n",
       "      <td>BDQ</td>\n",
       "      <td>EC99</td>\n",
       "      <td>2320</td>\n",
       "      <td>(6, 9)</td>\n",
       "      <td>2320.6.9</td>\n",
       "    </tr>\n",
       "    <tr>\n",
       "      <th>701476</th>\n",
       "      <td>72</td>\n",
       "      <td>761.494873</td>\n",
       "      <td>50.097046</td>\n",
       "      <td>3837.934160</td>\n",
       "      <td>252.489111</td>\n",
       "      <td>1.0</td>\n",
       "      <td>1.0</td>\n",
       "      <td>1.0</td>\n",
       "      <td>66829.0</td>\n",
       "      <td>358.846039</td>\n",
       "      <td>...</td>\n",
       "      <td>-0.000019</td>\n",
       "      <td>-0.092227</td>\n",
       "      <td>0.888738</td>\n",
       "      <td>0.941904</td>\n",
       "      <td>WT</td>\n",
       "      <td>BDQ</td>\n",
       "      <td>EC99</td>\n",
       "      <td>2320</td>\n",
       "      <td>(6, 9)</td>\n",
       "      <td>2320.6.9</td>\n",
       "    </tr>\n",
       "    <tr>\n",
       "      <th>701477</th>\n",
       "      <td>73</td>\n",
       "      <td>759.911255</td>\n",
       "      <td>48.538654</td>\n",
       "      <td>3829.952725</td>\n",
       "      <td>244.634818</td>\n",
       "      <td>1.0</td>\n",
       "      <td>1.0</td>\n",
       "      <td>1.0</td>\n",
       "      <td>71877.0</td>\n",
       "      <td>358.451752</td>\n",
       "      <td>...</td>\n",
       "      <td>-0.000019</td>\n",
       "      <td>-0.092227</td>\n",
       "      <td>0.897926</td>\n",
       "      <td>2.221808</td>\n",
       "      <td>WT</td>\n",
       "      <td>BDQ</td>\n",
       "      <td>EC99</td>\n",
       "      <td>2320</td>\n",
       "      <td>(6, 9)</td>\n",
       "      <td>2320.6.9</td>\n",
       "    </tr>\n",
       "    <tr>\n",
       "      <th>701478</th>\n",
       "      <td>74</td>\n",
       "      <td>760.216858</td>\n",
       "      <td>48.022995</td>\n",
       "      <td>3831.492964</td>\n",
       "      <td>242.035895</td>\n",
       "      <td>1.0</td>\n",
       "      <td>1.0</td>\n",
       "      <td>1.0</td>\n",
       "      <td>69544.0</td>\n",
       "      <td>358.347351</td>\n",
       "      <td>...</td>\n",
       "      <td>-0.000019</td>\n",
       "      <td>-0.092227</td>\n",
       "      <td>0.906420</td>\n",
       "      <td>0.599415</td>\n",
       "      <td>WT</td>\n",
       "      <td>BDQ</td>\n",
       "      <td>EC99</td>\n",
       "      <td>2320</td>\n",
       "      <td>(6, 9)</td>\n",
       "      <td>2320.6.9</td>\n",
       "    </tr>\n",
       "  </tbody>\n",
       "</table>\n",
       "<p>701479 rows × 28 columns</p>\n",
       "</div>"
      ],
      "text/plain": [
       "        Time (hours)           x          y     x scaled    y scaled  \\\n",
       "0                  0  708.125061  77.589088  3568.950308  391.049006   \n",
       "1                  1  725.449097  73.245003  3656.263447  369.154814   \n",
       "2                  2  723.088928  76.431496  3644.368198  385.214738   \n",
       "3                  3  726.009766  79.395073  3659.089219  400.151168   \n",
       "4                  4  728.209656  82.197769  3670.176665  414.276757   \n",
       "...              ...         ...        ...          ...         ...   \n",
       "701474            70  757.886719  44.412071  3819.749063  223.836839   \n",
       "701475            71  760.801514  49.459522  3834.439629  249.275992   \n",
       "701476            72  761.494873  50.097046  3837.934160  252.489111   \n",
       "701477            73  759.911255  48.538654  3829.952725  244.634818   \n",
       "701478            74  760.216858  48.022995  3831.492964  242.035895   \n",
       "\n",
       "        Infection status  Initial infection status  Final infection status  \\\n",
       "0                    0.0                       0.0                     1.0   \n",
       "1                    0.0                       0.0                     1.0   \n",
       "2                    0.0                       0.0                     1.0   \n",
       "3                    0.0                       0.0                     1.0   \n",
       "4                    0.0                       0.0                     1.0   \n",
       "...                  ...                       ...                     ...   \n",
       "701474               1.0                       1.0                     1.0   \n",
       "701475               1.0                       1.0                     1.0   \n",
       "701476               1.0                       1.0                     1.0   \n",
       "701477               1.0                       1.0                     1.0   \n",
       "701478               1.0                       1.0                     1.0   \n",
       "\n",
       "           Area  Intracellular mean Mtb content  ...  \\\n",
       "0       42556.0                      365.408905  ...   \n",
       "1       48727.0                      362.852478  ...   \n",
       "2       43484.0                      363.515442  ...   \n",
       "3       39113.0                      360.448578  ...   \n",
       "4       32644.0                      362.289764  ...   \n",
       "...         ...                             ...  ...   \n",
       "701474  71808.0                      358.460327  ...   \n",
       "701475  65328.0                      358.026184  ...   \n",
       "701476  66829.0                      358.846039  ...   \n",
       "701477  71877.0                      358.451752  ...   \n",
       "701478  69544.0                      358.347351  ...   \n",
       "\n",
       "        delta Mtb max fold-change normalised max area  delta Mtb/dt  \\\n",
       "0                                            0.095232      0.418707   \n",
       "1                                            0.095232      0.418707   \n",
       "2                                            0.095232      0.418707   \n",
       "3                                            0.095232      0.418707   \n",
       "4                                            0.095232      0.418707   \n",
       "...                                               ...           ...   \n",
       "701474                                      -0.000019     -0.092227   \n",
       "701475                                      -0.000019     -0.092227   \n",
       "701476                                      -0.000019     -0.092227   \n",
       "701477                                      -0.000019     -0.092227   \n",
       "701478                                      -0.000019     -0.092227   \n",
       "\n",
       "        Eccentricity        MSD  Strain  Compound  Concentration  Cell ID  \\\n",
       "0           0.813310   0.000000     RD1      CTRL            EC0      433   \n",
       "1           0.896474  17.860383     RD1      CTRL            EC0      433   \n",
       "2           0.876911   3.965367     RD1      CTRL            EC0      433   \n",
       "3           0.717504   4.161019     RD1      CTRL            EC0      433   \n",
       "4           0.425791   3.562951     RD1      CTRL            EC0      433   \n",
       "...              ...        ...     ...       ...            ...      ...   \n",
       "701474      0.923363   0.522451      WT       BDQ           EC99     2320   \n",
       "701475      0.893735   5.828618      WT       BDQ           EC99     2320   \n",
       "701476      0.888738   0.941904      WT       BDQ           EC99     2320   \n",
       "701477      0.897926   2.221808      WT       BDQ           EC99     2320   \n",
       "701478      0.906420   0.599415      WT       BDQ           EC99     2320   \n",
       "\n",
       "        Acquisition ID  Unique ID  \n",
       "0               (3, 4)    433.3.4  \n",
       "1               (3, 4)    433.3.4  \n",
       "2               (3, 4)    433.3.4  \n",
       "3               (3, 4)    433.3.4  \n",
       "4               (3, 4)    433.3.4  \n",
       "...                ...        ...  \n",
       "701474          (6, 9)   2320.6.9  \n",
       "701475          (6, 9)   2320.6.9  \n",
       "701476          (6, 9)   2320.6.9  \n",
       "701477          (6, 9)   2320.6.9  \n",
       "701478          (6, 9)   2320.6.9  \n",
       "\n",
       "[701479 rows x 28 columns]"
      ]
     },
     "execution_count": 5,
     "metadata": {},
     "output_type": "execute_result"
    }
   ],
   "source": [
    "df = pd.read_pickle('/mnt/DATA/macrohet/results/preliminary_sc_measures/sc_dfs/sc_df_>40.pkl')\n",
    "df"
   ]
  },
  {
   "cell_type": "markdown",
   "id": "f3df1783",
   "metadata": {},
   "source": [
    "### Renaming delta Mtb method of choice for ease of use"
   ]
  },
  {
   "cell_type": "code",
   "execution_count": 6,
   "id": "2ad0c301",
   "metadata": {},
   "outputs": [],
   "source": [
    "df['dMtb'] = df['delta Mtb max fold-change normalised max area']"
   ]
  },
  {
   "cell_type": "markdown",
   "id": "537cde2c",
   "metadata": {},
   "source": [
    "### Adding technical replicate label "
   ]
  },
  {
   "cell_type": "code",
   "execution_count": 129,
   "id": "3d22657f",
   "metadata": {},
   "outputs": [],
   "source": [
    "df['Technical replicate'] = df['Acquisition ID'].apply(lambda x: 1 if x[0] in [3, 5] else 2)"
   ]
  },
  {
   "cell_type": "markdown",
   "id": "e3d940b2",
   "metadata": {},
   "source": [
    "# Style"
   ]
  },
  {
   "cell_type": "code",
   "execution_count": 8,
   "id": "7b669a2e",
   "metadata": {},
   "outputs": [],
   "source": [
    "sns.set(font='Nimbus Sans', style = 'white')"
   ]
  },
  {
   "cell_type": "markdown",
   "id": "e4958610",
   "metadata": {},
   "source": [
    "### Old style"
   ]
  },
  {
   "cell_type": "code",
   "execution_count": 9,
   "id": "e0f7b8b1",
   "metadata": {},
   "outputs": [
    {
     "data": {
      "text/html": [
       "<svg  width=\"330\" height=\"55\"><rect x=\"0\" y=\"0\" width=\"55\" height=\"55\" style=\"fill:#cf4191;stroke-width:2;stroke:rgb(255,255,255)\"/><rect x=\"55\" y=\"0\" width=\"55\" height=\"55\" style=\"fill:#eeadd4;stroke-width:2;stroke:rgb(255,255,255)\"/><rect x=\"110\" y=\"0\" width=\"55\" height=\"55\" style=\"fill:#fbe6f1;stroke-width:2;stroke:rgb(255,255,255)\"/><rect x=\"165\" y=\"0\" width=\"55\" height=\"55\" style=\"fill:#ebf6db;stroke-width:2;stroke:rgb(255,255,255)\"/><rect x=\"220\" y=\"0\" width=\"55\" height=\"55\" style=\"fill:#b0dc7d;stroke-width:2;stroke:rgb(255,255,255)\"/><rect x=\"275\" y=\"0\" width=\"55\" height=\"55\" style=\"fill:#62a32e;stroke-width:2;stroke:rgb(255,255,255)\"/></svg>"
      ],
      "text/plain": [
       "[(0.8129181084198386, 0.2544405997693195, 0.5693194925028835),\n",
       " (0.9348712033833141, 0.6798154555940021, 0.8312187620146096),\n",
       " (0.9856978085351787, 0.9031910803537101, 0.9458669742406767),\n",
       " (0.9202614379084968, 0.9629373317954633, 0.8576701268742792),\n",
       " (0.6908881199538641, 0.8624375240292197, 0.4883506343713959),\n",
       " (0.38269896193771624, 0.6403690888119954, 0.18108419838523643)]"
      ]
     },
     "execution_count": 9,
     "metadata": {},
     "output_type": "execute_result"
    }
   ],
   "source": [
    "sns.color_palette('PiYG')"
   ]
  },
  {
   "cell_type": "code",
   "execution_count": 43,
   "id": "7be91e8a",
   "metadata": {},
   "outputs": [
    {
     "data": {
      "text/plain": [
       "['#013220',\n",
       " (0.8129181084198386, 0.2544405997693195, 0.5693194925028835),\n",
       " (0.38269896193771624, 0.6403690888119954, 0.18108419838523643)]"
      ]
     },
     "execution_count": 43,
     "metadata": {},
     "output_type": "execute_result"
    }
   ],
   "source": [
    "colors = ['#013220',#'#008B8B',#(0.204*0.8, 0.330*0.8, 0.706*0.8), \n",
    "          sns.color_palette('PiYG')[0], sns.color_palette('PiYG')[-1]]\n",
    "colors"
   ]
  },
  {
   "cell_type": "markdown",
   "id": "270b6619",
   "metadata": {},
   "source": [
    "### New style"
   ]
  },
  {
   "cell_type": "code",
   "execution_count": 44,
   "id": "4e57dd49",
   "metadata": {
    "scrolled": false
   },
   "outputs": [
    {
     "data": {
      "image/png": "[encoded data removed]",
      "text/plain": [
       "<Figure size 640x480 with 1 Axes>"
      ]
     },
     "metadata": {},
     "output_type": "display_data"
    },
    {
     "name": "stdout",
     "output_type": "stream",
     "text": [
      "['#1a9641', '#a6d96a', '#978897', '#d1d1ca', '#f1b6da', '#d02c91']\n"
     ]
    }
   ],
   "source": [
    "# Get the color palette of the PiYG color map\n",
    "expanded_piyg = visualise.color_palette('expanded_piyg').colors\n",
    "\n",
    "sns.set_palette(expanded_piyg)\n",
    "\n",
    "# Display the colors in the PiYG color map\n",
    "visualise.show_colors('expanded_piyg')\n",
    "print(expanded_piyg)\n"
   ]
  },
  {
   "cell_type": "markdown",
   "id": "6081632c",
   "metadata": {},
   "source": [
    "# Output"
   ]
  },
  {
   "cell_type": "code",
   "execution_count": 11,
   "id": "f56bab32",
   "metadata": {},
   "outputs": [],
   "source": [
    "output_dir = '/mnt/DATA/macrohet/results/preliminary_sc_measures/cumulative_sc_plots/thresholded_480_jun23/'\n",
    "os.makedirs(output_dir, exist_ok = True)"
   ]
  },
  {
   "cell_type": "markdown",
   "id": "2f17d41a",
   "metadata": {},
   "source": [
    "# How many cells are truly permissive ie deltaMtb>0"
   ]
  },
  {
   "cell_type": "markdown",
   "id": "90c54a11",
   "metadata": {},
   "source": [
    "#### What do the different distributions of deltaMtb look like?"
   ]
  },
  {
   "cell_type": "code",
   "execution_count": 130,
   "id": "0da8cf10",
   "metadata": {
    "scrolled": true
   },
   "outputs": [
    {
     "data": {
      "text/html": [
       "<div>\n",
       "<style scoped>\n",
       "    .dataframe tbody tr th:only-of-type {\n",
       "        vertical-align: middle;\n",
       "    }\n",
       "\n",
       "    .dataframe tbody tr th {\n",
       "        vertical-align: top;\n",
       "    }\n",
       "\n",
       "    .dataframe thead th {\n",
       "        text-align: right;\n",
       "    }\n",
       "</style>\n",
       "<table border=\"1\" class=\"dataframe\">\n",
       "  <thead>\n",
       "    <tr style=\"text-align: right;\">\n",
       "      <th></th>\n",
       "      <th>Time (hours)</th>\n",
       "      <th>x</th>\n",
       "      <th>y</th>\n",
       "      <th>x scaled</th>\n",
       "      <th>y scaled</th>\n",
       "      <th>Infection status</th>\n",
       "      <th>Initial infection status</th>\n",
       "      <th>Final infection status</th>\n",
       "      <th>Area</th>\n",
       "      <th>Intracellular mean Mtb content</th>\n",
       "      <th>...</th>\n",
       "      <th>Eccentricity</th>\n",
       "      <th>MSD</th>\n",
       "      <th>Strain</th>\n",
       "      <th>Compound</th>\n",
       "      <th>Concentration</th>\n",
       "      <th>Cell ID</th>\n",
       "      <th>Acquisition ID</th>\n",
       "      <th>Unique ID</th>\n",
       "      <th>dMtb</th>\n",
       "      <th>Technical replicate</th>\n",
       "    </tr>\n",
       "  </thead>\n",
       "  <tbody>\n",
       "    <tr>\n",
       "      <th>0</th>\n",
       "      <td>0</td>\n",
       "      <td>708.125061</td>\n",
       "      <td>77.589088</td>\n",
       "      <td>3568.950308</td>\n",
       "      <td>391.049006</td>\n",
       "      <td>0.0</td>\n",
       "      <td>0.0</td>\n",
       "      <td>1.0</td>\n",
       "      <td>42556.0</td>\n",
       "      <td>365.408905</td>\n",
       "      <td>...</td>\n",
       "      <td>0.813310</td>\n",
       "      <td>0.0</td>\n",
       "      <td>RD1</td>\n",
       "      <td>CTRL</td>\n",
       "      <td>EC0</td>\n",
       "      <td>433</td>\n",
       "      <td>(3, 4)</td>\n",
       "      <td>433.3.4</td>\n",
       "      <td>0.095232</td>\n",
       "      <td>1</td>\n",
       "    </tr>\n",
       "    <tr>\n",
       "      <th>42</th>\n",
       "      <td>0</td>\n",
       "      <td>261.683105</td>\n",
       "      <td>4.945100</td>\n",
       "      <td>1318.882852</td>\n",
       "      <td>24.923306</td>\n",
       "      <td>0.0</td>\n",
       "      <td>0.0</td>\n",
       "      <td>0.0</td>\n",
       "      <td>6754.0</td>\n",
       "      <td>355.006958</td>\n",
       "      <td>...</td>\n",
       "      <td>0.913146</td>\n",
       "      <td>0.0</td>\n",
       "      <td>RD1</td>\n",
       "      <td>CTRL</td>\n",
       "      <td>EC0</td>\n",
       "      <td>424</td>\n",
       "      <td>(3, 4)</td>\n",
       "      <td>424.3.4</td>\n",
       "      <td>-0.000112</td>\n",
       "      <td>1</td>\n",
       "    </tr>\n",
       "    <tr>\n",
       "      <th>89</th>\n",
       "      <td>0</td>\n",
       "      <td>349.589508</td>\n",
       "      <td>8.074520</td>\n",
       "      <td>1761.931121</td>\n",
       "      <td>40.695581</td>\n",
       "      <td>0.0</td>\n",
       "      <td>0.0</td>\n",
       "      <td>0.0</td>\n",
       "      <td>13672.0</td>\n",
       "      <td>344.202454</td>\n",
       "      <td>...</td>\n",
       "      <td>0.957093</td>\n",
       "      <td>0.0</td>\n",
       "      <td>RD1</td>\n",
       "      <td>CTRL</td>\n",
       "      <td>EC0</td>\n",
       "      <td>425</td>\n",
       "      <td>(3, 4)</td>\n",
       "      <td>425.3.4</td>\n",
       "      <td>0.000000</td>\n",
       "      <td>1</td>\n",
       "    </tr>\n",
       "    <tr>\n",
       "      <th>152</th>\n",
       "      <td>0</td>\n",
       "      <td>457.172943</td>\n",
       "      <td>8.791715</td>\n",
       "      <td>2304.151633</td>\n",
       "      <td>44.310242</td>\n",
       "      <td>1.0</td>\n",
       "      <td>1.0</td>\n",
       "      <td>0.0</td>\n",
       "      <td>20542.0</td>\n",
       "      <td>343.157196</td>\n",
       "      <td>...</td>\n",
       "      <td>0.929721</td>\n",
       "      <td>0.0</td>\n",
       "      <td>RD1</td>\n",
       "      <td>CTRL</td>\n",
       "      <td>EC0</td>\n",
       "      <td>426</td>\n",
       "      <td>(3, 4)</td>\n",
       "      <td>426.3.4</td>\n",
       "      <td>0.000586</td>\n",
       "      <td>1</td>\n",
       "    </tr>\n",
       "    <tr>\n",
       "      <th>226</th>\n",
       "      <td>0</td>\n",
       "      <td>663.630920</td>\n",
       "      <td>10.924337</td>\n",
       "      <td>3344.699839</td>\n",
       "      <td>55.058660</td>\n",
       "      <td>0.0</td>\n",
       "      <td>0.0</td>\n",
       "      <td>0.0</td>\n",
       "      <td>20098.0</td>\n",
       "      <td>353.067780</td>\n",
       "      <td>...</td>\n",
       "      <td>0.805467</td>\n",
       "      <td>0.0</td>\n",
       "      <td>RD1</td>\n",
       "      <td>CTRL</td>\n",
       "      <td>EC0</td>\n",
       "      <td>427</td>\n",
       "      <td>(3, 4)</td>\n",
       "      <td>427.3.4</td>\n",
       "      <td>0.000544</td>\n",
       "      <td>1</td>\n",
       "    </tr>\n",
       "    <tr>\n",
       "      <th>...</th>\n",
       "      <td>...</td>\n",
       "      <td>...</td>\n",
       "      <td>...</td>\n",
       "      <td>...</td>\n",
       "      <td>...</td>\n",
       "      <td>...</td>\n",
       "      <td>...</td>\n",
       "      <td>...</td>\n",
       "      <td>...</td>\n",
       "      <td>...</td>\n",
       "      <td>...</td>\n",
       "      <td>...</td>\n",
       "      <td>...</td>\n",
       "      <td>...</td>\n",
       "      <td>...</td>\n",
       "      <td>...</td>\n",
       "      <td>...</td>\n",
       "      <td>...</td>\n",
       "      <td>...</td>\n",
       "      <td>...</td>\n",
       "      <td>...</td>\n",
       "    </tr>\n",
       "    <tr>\n",
       "      <th>701271</th>\n",
       "      <td>33</td>\n",
       "      <td>660.136597</td>\n",
       "      <td>577.060730</td>\n",
       "      <td>3327.088447</td>\n",
       "      <td>2908.386079</td>\n",
       "      <td>0.0</td>\n",
       "      <td>0.0</td>\n",
       "      <td>0.0</td>\n",
       "      <td>47448.0</td>\n",
       "      <td>377.264587</td>\n",
       "      <td>...</td>\n",
       "      <td>0.952213</td>\n",
       "      <td>0.0</td>\n",
       "      <td>WT</td>\n",
       "      <td>BDQ</td>\n",
       "      <td>EC99</td>\n",
       "      <td>2297</td>\n",
       "      <td>(6, 9)</td>\n",
       "      <td>2297.6.9</td>\n",
       "      <td>0.000032</td>\n",
       "      <td>2</td>\n",
       "    </tr>\n",
       "    <tr>\n",
       "      <th>701313</th>\n",
       "      <td>33</td>\n",
       "      <td>224.372467</td>\n",
       "      <td>131.369995</td>\n",
       "      <td>1130.837234</td>\n",
       "      <td>662.104775</td>\n",
       "      <td>1.0</td>\n",
       "      <td>1.0</td>\n",
       "      <td>1.0</td>\n",
       "      <td>98867.0</td>\n",
       "      <td>373.245178</td>\n",
       "      <td>...</td>\n",
       "      <td>0.885194</td>\n",
       "      <td>0.0</td>\n",
       "      <td>WT</td>\n",
       "      <td>BDQ</td>\n",
       "      <td>EC99</td>\n",
       "      <td>2292</td>\n",
       "      <td>(6, 9)</td>\n",
       "      <td>2292.6.9</td>\n",
       "      <td>-0.000153</td>\n",
       "      <td>2</td>\n",
       "    </tr>\n",
       "    <tr>\n",
       "      <th>701355</th>\n",
       "      <td>33</td>\n",
       "      <td>1106.007935</td>\n",
       "      <td>1032.619019</td>\n",
       "      <td>5574.279990</td>\n",
       "      <td>5204.399854</td>\n",
       "      <td>0.0</td>\n",
       "      <td>0.0</td>\n",
       "      <td>1.0</td>\n",
       "      <td>53641.0</td>\n",
       "      <td>366.914032</td>\n",
       "      <td>...</td>\n",
       "      <td>0.950100</td>\n",
       "      <td>0.0</td>\n",
       "      <td>WT</td>\n",
       "      <td>BDQ</td>\n",
       "      <td>EC99</td>\n",
       "      <td>2286</td>\n",
       "      <td>(6, 9)</td>\n",
       "      <td>2286.6.9</td>\n",
       "      <td>0.000089</td>\n",
       "      <td>2</td>\n",
       "    </tr>\n",
       "    <tr>\n",
       "      <th>701397</th>\n",
       "      <td>34</td>\n",
       "      <td>477.689026</td>\n",
       "      <td>538.676697</td>\n",
       "      <td>2407.552690</td>\n",
       "      <td>2714.930552</td>\n",
       "      <td>0.0</td>\n",
       "      <td>0.0</td>\n",
       "      <td>0.0</td>\n",
       "      <td>36503.0</td>\n",
       "      <td>356.196930</td>\n",
       "      <td>...</td>\n",
       "      <td>0.796381</td>\n",
       "      <td>0.0</td>\n",
       "      <td>WT</td>\n",
       "      <td>BDQ</td>\n",
       "      <td>EC99</td>\n",
       "      <td>2324</td>\n",
       "      <td>(6, 9)</td>\n",
       "      <td>2324.6.9</td>\n",
       "      <td>0.000167</td>\n",
       "      <td>2</td>\n",
       "    </tr>\n",
       "    <tr>\n",
       "      <th>701438</th>\n",
       "      <td>34</td>\n",
       "      <td>740.119568</td>\n",
       "      <td>29.286783</td>\n",
       "      <td>3730.202622</td>\n",
       "      <td>147.605387</td>\n",
       "      <td>1.0</td>\n",
       "      <td>1.0</td>\n",
       "      <td>1.0</td>\n",
       "      <td>47624.0</td>\n",
       "      <td>362.625092</td>\n",
       "      <td>...</td>\n",
       "      <td>0.811381</td>\n",
       "      <td>0.0</td>\n",
       "      <td>WT</td>\n",
       "      <td>BDQ</td>\n",
       "      <td>EC99</td>\n",
       "      <td>2320</td>\n",
       "      <td>(6, 9)</td>\n",
       "      <td>2320.6.9</td>\n",
       "      <td>-0.000019</td>\n",
       "      <td>2</td>\n",
       "    </tr>\n",
       "  </tbody>\n",
       "</table>\n",
       "<p>10028 rows × 30 columns</p>\n",
       "</div>"
      ],
      "text/plain": [
       "        Time (hours)            x            y     x scaled     y scaled  \\\n",
       "0                  0   708.125061    77.589088  3568.950308   391.049006   \n",
       "42                 0   261.683105     4.945100  1318.882852    24.923306   \n",
       "89                 0   349.589508     8.074520  1761.931121    40.695581   \n",
       "152                0   457.172943     8.791715  2304.151633    44.310242   \n",
       "226                0   663.630920    10.924337  3344.699839    55.058660   \n",
       "...              ...          ...          ...          ...          ...   \n",
       "701271            33   660.136597   577.060730  3327.088447  2908.386079   \n",
       "701313            33   224.372467   131.369995  1130.837234   662.104775   \n",
       "701355            33  1106.007935  1032.619019  5574.279990  5204.399854   \n",
       "701397            34   477.689026   538.676697  2407.552690  2714.930552   \n",
       "701438            34   740.119568    29.286783  3730.202622   147.605387   \n",
       "\n",
       "        Infection status  Initial infection status  Final infection status  \\\n",
       "0                    0.0                       0.0                     1.0   \n",
       "42                   0.0                       0.0                     0.0   \n",
       "89                   0.0                       0.0                     0.0   \n",
       "152                  1.0                       1.0                     0.0   \n",
       "226                  0.0                       0.0                     0.0   \n",
       "...                  ...                       ...                     ...   \n",
       "701271               0.0                       0.0                     0.0   \n",
       "701313               1.0                       1.0                     1.0   \n",
       "701355               0.0                       0.0                     1.0   \n",
       "701397               0.0                       0.0                     0.0   \n",
       "701438               1.0                       1.0                     1.0   \n",
       "\n",
       "           Area  Intracellular mean Mtb content  ...  Eccentricity  MSD  \\\n",
       "0       42556.0                      365.408905  ...      0.813310  0.0   \n",
       "42       6754.0                      355.006958  ...      0.913146  0.0   \n",
       "89      13672.0                      344.202454  ...      0.957093  0.0   \n",
       "152     20542.0                      343.157196  ...      0.929721  0.0   \n",
       "226     20098.0                      353.067780  ...      0.805467  0.0   \n",
       "...         ...                             ...  ...           ...  ...   \n",
       "701271  47448.0                      377.264587  ...      0.952213  0.0   \n",
       "701313  98867.0                      373.245178  ...      0.885194  0.0   \n",
       "701355  53641.0                      366.914032  ...      0.950100  0.0   \n",
       "701397  36503.0                      356.196930  ...      0.796381  0.0   \n",
       "701438  47624.0                      362.625092  ...      0.811381  0.0   \n",
       "\n",
       "        Strain  Compound  Concentration  Cell ID  Acquisition ID  Unique ID  \\\n",
       "0          RD1      CTRL            EC0      433          (3, 4)    433.3.4   \n",
       "42         RD1      CTRL            EC0      424          (3, 4)    424.3.4   \n",
       "89         RD1      CTRL            EC0      425          (3, 4)    425.3.4   \n",
       "152        RD1      CTRL            EC0      426          (3, 4)    426.3.4   \n",
       "226        RD1      CTRL            EC0      427          (3, 4)    427.3.4   \n",
       "...        ...       ...            ...      ...             ...        ...   \n",
       "701271      WT       BDQ           EC99     2297          (6, 9)   2297.6.9   \n",
       "701313      WT       BDQ           EC99     2292          (6, 9)   2292.6.9   \n",
       "701355      WT       BDQ           EC99     2286          (6, 9)   2286.6.9   \n",
       "701397      WT       BDQ           EC99     2324          (6, 9)   2324.6.9   \n",
       "701438      WT       BDQ           EC99     2320          (6, 9)   2320.6.9   \n",
       "\n",
       "            dMtb  Technical replicate  \n",
       "0       0.095232                    1  \n",
       "42     -0.000112                    1  \n",
       "89      0.000000                    1  \n",
       "152     0.000586                    1  \n",
       "226     0.000544                    1  \n",
       "...          ...                  ...  \n",
       "701271  0.000032                    2  \n",
       "701313 -0.000153                    2  \n",
       "701355  0.000089                    2  \n",
       "701397  0.000167                    2  \n",
       "701438 -0.000019                    2  \n",
       "\n",
       "[10028 rows x 30 columns]"
      ]
     },
     "execution_count": 130,
     "metadata": {},
     "output_type": "execute_result"
    }
   ],
   "source": [
    "df_delta_mtb = df.drop_duplicates(subset=['delta Mtb raw', 'delta Mtb max raw','delta Mtb max smooth', 'delta Mtb max fold-change'])\n",
    "df_delta_mtb"
   ]
  },
  {
   "cell_type": "code",
   "execution_count": 13,
   "id": "019e8882",
   "metadata": {},
   "outputs": [
    {
     "data": {
      "image/png": "[encoded data removed]",
      "text/plain": [
       "<Figure size 640x480 with 1 Axes>"
      ]
     },
     "metadata": {},
     "output_type": "display_data"
    }
   ],
   "source": [
    "\n",
    "sns.histplot(data=df_delta_mtb, x='dMtb', kde=False, bins = 400, color=expanded_piyg[0])\n",
    "sns.despine(offset=10)\n",
    "# plt.ylim(0,2000)\n",
    "plt.xlabel('Single-intracellular measure of change in Mtb (dMtb fold-change)')\n",
    "# plt.savefig(os.path.join(output_dir, 'single-cell_signal/delta_mtb_considerations/delta_mtb_norm_hist_clipped.png'), \n",
    "#            bbox_inches = 'tight', dpi = 314)\n",
    "plt.ylabel('Frequency')\n",
    "plt.title('Distribution of dMtb across all drug conditions', \n",
    "                   fontsize=14, fontweight='bold', )\n",
    "#                   y = 1.05)\n",
    "# plt.savefig(f'/mnt/DATA/macrohet/results/preliminary_sc_measures/cumulative_sc_plots/thresholded_480_jun23/dmtb/dmtb_all_drug_conditions.png', \n",
    "#            bbox_inches = 'tight', dpi = 314)\n",
    "plt.show() "
   ]
  },
  {
   "cell_type": "code",
   "execution_count": 14,
   "id": "d9604705",
   "metadata": {},
   "outputs": [
    {
     "data": {
      "image/png": "[encoded data removed]",
      "text/plain": [
       "<Figure size 640x480 with 1 Axes>"
      ]
     },
     "metadata": {},
     "output_type": "display_data"
    }
   ],
   "source": [
    "sns.histplot(data=df_delta_mtb, x='dMtb', kde=False, bins = 400, color=expanded_piyg[0])\n",
    "sns.despine(offset=10)\n",
    "plt.ylim(0,20)\n",
    "plt.xlabel('Single-intracellular measure of change in Mtb (dMtb fold-change)')\n",
    "# plt.savefig(os.path.join(output_dir, 'single-cell_signal/delta_mtb_considerations/delta_mtb_norm_hist_clipped.png'), \n",
    "#            bbox_inches = 'tight', dpi = 314)\n",
    "plt.ylabel('Frequency')\n",
    "plt.title('Distribution of dMtb across all drug conditions', \n",
    "                   fontsize=14, fontweight='bold', )\n",
    "#                   y = 1.05)\n",
    "# plt.savefig(f'/mnt/DATA/macrohet/results/preliminary_sc_measures/cumulative_sc_plots/thresholded_480_jun23/dmtb/dmtb_all_drug_conditions_clipped.png', \n",
    "#            bbox_inches = 'tight', dpi = 314)\n",
    "plt.show() "
   ]
  },
  {
   "cell_type": "code",
   "execution_count": 131,
   "id": "8d68f67f",
   "metadata": {},
   "outputs": [
    {
     "data": {
      "text/html": [
       "<div>\n",
       "<style scoped>\n",
       "    .dataframe tbody tr th:only-of-type {\n",
       "        vertical-align: middle;\n",
       "    }\n",
       "\n",
       "    .dataframe tbody tr th {\n",
       "        vertical-align: top;\n",
       "    }\n",
       "\n",
       "    .dataframe thead th {\n",
       "        text-align: right;\n",
       "    }\n",
       "</style>\n",
       "<table border=\"1\" class=\"dataframe\">\n",
       "  <thead>\n",
       "    <tr style=\"text-align: right;\">\n",
       "      <th></th>\n",
       "      <th>Time (hours)</th>\n",
       "      <th>x</th>\n",
       "      <th>y</th>\n",
       "      <th>x scaled</th>\n",
       "      <th>y scaled</th>\n",
       "      <th>Infection status</th>\n",
       "      <th>Initial infection status</th>\n",
       "      <th>Final infection status</th>\n",
       "      <th>Area</th>\n",
       "      <th>Intracellular mean Mtb content</th>\n",
       "      <th>...</th>\n",
       "      <th>Eccentricity</th>\n",
       "      <th>MSD</th>\n",
       "      <th>Strain</th>\n",
       "      <th>Compound</th>\n",
       "      <th>Concentration</th>\n",
       "      <th>Cell ID</th>\n",
       "      <th>Acquisition ID</th>\n",
       "      <th>Unique ID</th>\n",
       "      <th>dMtb</th>\n",
       "      <th>Technical replicate</th>\n",
       "    </tr>\n",
       "  </thead>\n",
       "  <tbody>\n",
       "    <tr>\n",
       "      <th>0</th>\n",
       "      <td>0</td>\n",
       "      <td>708.125061</td>\n",
       "      <td>77.589088</td>\n",
       "      <td>3568.950308</td>\n",
       "      <td>391.049006</td>\n",
       "      <td>0.0</td>\n",
       "      <td>0.0</td>\n",
       "      <td>1.0</td>\n",
       "      <td>42556.0</td>\n",
       "      <td>365.408905</td>\n",
       "      <td>...</td>\n",
       "      <td>0.813310</td>\n",
       "      <td>0.0</td>\n",
       "      <td>RD1</td>\n",
       "      <td>CTRL</td>\n",
       "      <td>EC0</td>\n",
       "      <td>433</td>\n",
       "      <td>(3, 4)</td>\n",
       "      <td>433.3.4</td>\n",
       "      <td>0.095232</td>\n",
       "      <td>1</td>\n",
       "    </tr>\n",
       "    <tr>\n",
       "      <th>42</th>\n",
       "      <td>0</td>\n",
       "      <td>261.683105</td>\n",
       "      <td>4.945100</td>\n",
       "      <td>1318.882852</td>\n",
       "      <td>24.923306</td>\n",
       "      <td>0.0</td>\n",
       "      <td>0.0</td>\n",
       "      <td>0.0</td>\n",
       "      <td>6754.0</td>\n",
       "      <td>355.006958</td>\n",
       "      <td>...</td>\n",
       "      <td>0.913146</td>\n",
       "      <td>0.0</td>\n",
       "      <td>RD1</td>\n",
       "      <td>CTRL</td>\n",
       "      <td>EC0</td>\n",
       "      <td>424</td>\n",
       "      <td>(3, 4)</td>\n",
       "      <td>424.3.4</td>\n",
       "      <td>-0.000112</td>\n",
       "      <td>1</td>\n",
       "    </tr>\n",
       "    <tr>\n",
       "      <th>89</th>\n",
       "      <td>0</td>\n",
       "      <td>349.589508</td>\n",
       "      <td>8.074520</td>\n",
       "      <td>1761.931121</td>\n",
       "      <td>40.695581</td>\n",
       "      <td>0.0</td>\n",
       "      <td>0.0</td>\n",
       "      <td>0.0</td>\n",
       "      <td>13672.0</td>\n",
       "      <td>344.202454</td>\n",
       "      <td>...</td>\n",
       "      <td>0.957093</td>\n",
       "      <td>0.0</td>\n",
       "      <td>RD1</td>\n",
       "      <td>CTRL</td>\n",
       "      <td>EC0</td>\n",
       "      <td>425</td>\n",
       "      <td>(3, 4)</td>\n",
       "      <td>425.3.4</td>\n",
       "      <td>0.000000</td>\n",
       "      <td>1</td>\n",
       "    </tr>\n",
       "    <tr>\n",
       "      <th>152</th>\n",
       "      <td>0</td>\n",
       "      <td>457.172943</td>\n",
       "      <td>8.791715</td>\n",
       "      <td>2304.151633</td>\n",
       "      <td>44.310242</td>\n",
       "      <td>1.0</td>\n",
       "      <td>1.0</td>\n",
       "      <td>0.0</td>\n",
       "      <td>20542.0</td>\n",
       "      <td>343.157196</td>\n",
       "      <td>...</td>\n",
       "      <td>0.929721</td>\n",
       "      <td>0.0</td>\n",
       "      <td>RD1</td>\n",
       "      <td>CTRL</td>\n",
       "      <td>EC0</td>\n",
       "      <td>426</td>\n",
       "      <td>(3, 4)</td>\n",
       "      <td>426.3.4</td>\n",
       "      <td>0.000586</td>\n",
       "      <td>1</td>\n",
       "    </tr>\n",
       "    <tr>\n",
       "      <th>226</th>\n",
       "      <td>0</td>\n",
       "      <td>663.630920</td>\n",
       "      <td>10.924337</td>\n",
       "      <td>3344.699839</td>\n",
       "      <td>55.058660</td>\n",
       "      <td>0.0</td>\n",
       "      <td>0.0</td>\n",
       "      <td>0.0</td>\n",
       "      <td>20098.0</td>\n",
       "      <td>353.067780</td>\n",
       "      <td>...</td>\n",
       "      <td>0.805467</td>\n",
       "      <td>0.0</td>\n",
       "      <td>RD1</td>\n",
       "      <td>CTRL</td>\n",
       "      <td>EC0</td>\n",
       "      <td>427</td>\n",
       "      <td>(3, 4)</td>\n",
       "      <td>427.3.4</td>\n",
       "      <td>0.000544</td>\n",
       "      <td>1</td>\n",
       "    </tr>\n",
       "    <tr>\n",
       "      <th>...</th>\n",
       "      <td>...</td>\n",
       "      <td>...</td>\n",
       "      <td>...</td>\n",
       "      <td>...</td>\n",
       "      <td>...</td>\n",
       "      <td>...</td>\n",
       "      <td>...</td>\n",
       "      <td>...</td>\n",
       "      <td>...</td>\n",
       "      <td>...</td>\n",
       "      <td>...</td>\n",
       "      <td>...</td>\n",
       "      <td>...</td>\n",
       "      <td>...</td>\n",
       "      <td>...</td>\n",
       "      <td>...</td>\n",
       "      <td>...</td>\n",
       "      <td>...</td>\n",
       "      <td>...</td>\n",
       "      <td>...</td>\n",
       "      <td>...</td>\n",
       "    </tr>\n",
       "    <tr>\n",
       "      <th>701271</th>\n",
       "      <td>33</td>\n",
       "      <td>660.136597</td>\n",
       "      <td>577.060730</td>\n",
       "      <td>3327.088447</td>\n",
       "      <td>2908.386079</td>\n",
       "      <td>0.0</td>\n",
       "      <td>0.0</td>\n",
       "      <td>0.0</td>\n",
       "      <td>47448.0</td>\n",
       "      <td>377.264587</td>\n",
       "      <td>...</td>\n",
       "      <td>0.952213</td>\n",
       "      <td>0.0</td>\n",
       "      <td>WT</td>\n",
       "      <td>BDQ</td>\n",
       "      <td>EC99</td>\n",
       "      <td>2297</td>\n",
       "      <td>(6, 9)</td>\n",
       "      <td>2297.6.9</td>\n",
       "      <td>0.000032</td>\n",
       "      <td>2</td>\n",
       "    </tr>\n",
       "    <tr>\n",
       "      <th>701313</th>\n",
       "      <td>33</td>\n",
       "      <td>224.372467</td>\n",
       "      <td>131.369995</td>\n",
       "      <td>1130.837234</td>\n",
       "      <td>662.104775</td>\n",
       "      <td>1.0</td>\n",
       "      <td>1.0</td>\n",
       "      <td>1.0</td>\n",
       "      <td>98867.0</td>\n",
       "      <td>373.245178</td>\n",
       "      <td>...</td>\n",
       "      <td>0.885194</td>\n",
       "      <td>0.0</td>\n",
       "      <td>WT</td>\n",
       "      <td>BDQ</td>\n",
       "      <td>EC99</td>\n",
       "      <td>2292</td>\n",
       "      <td>(6, 9)</td>\n",
       "      <td>2292.6.9</td>\n",
       "      <td>-0.000153</td>\n",
       "      <td>2</td>\n",
       "    </tr>\n",
       "    <tr>\n",
       "      <th>701355</th>\n",
       "      <td>33</td>\n",
       "      <td>1106.007935</td>\n",
       "      <td>1032.619019</td>\n",
       "      <td>5574.279990</td>\n",
       "      <td>5204.399854</td>\n",
       "      <td>0.0</td>\n",
       "      <td>0.0</td>\n",
       "      <td>1.0</td>\n",
       "      <td>53641.0</td>\n",
       "      <td>366.914032</td>\n",
       "      <td>...</td>\n",
       "      <td>0.950100</td>\n",
       "      <td>0.0</td>\n",
       "      <td>WT</td>\n",
       "      <td>BDQ</td>\n",
       "      <td>EC99</td>\n",
       "      <td>2286</td>\n",
       "      <td>(6, 9)</td>\n",
       "      <td>2286.6.9</td>\n",
       "      <td>0.000089</td>\n",
       "      <td>2</td>\n",
       "    </tr>\n",
       "    <tr>\n",
       "      <th>701397</th>\n",
       "      <td>34</td>\n",
       "      <td>477.689026</td>\n",
       "      <td>538.676697</td>\n",
       "      <td>2407.552690</td>\n",
       "      <td>2714.930552</td>\n",
       "      <td>0.0</td>\n",
       "      <td>0.0</td>\n",
       "      <td>0.0</td>\n",
       "      <td>36503.0</td>\n",
       "      <td>356.196930</td>\n",
       "      <td>...</td>\n",
       "      <td>0.796381</td>\n",
       "      <td>0.0</td>\n",
       "      <td>WT</td>\n",
       "      <td>BDQ</td>\n",
       "      <td>EC99</td>\n",
       "      <td>2324</td>\n",
       "      <td>(6, 9)</td>\n",
       "      <td>2324.6.9</td>\n",
       "      <td>0.000167</td>\n",
       "      <td>2</td>\n",
       "    </tr>\n",
       "    <tr>\n",
       "      <th>701438</th>\n",
       "      <td>34</td>\n",
       "      <td>740.119568</td>\n",
       "      <td>29.286783</td>\n",
       "      <td>3730.202622</td>\n",
       "      <td>147.605387</td>\n",
       "      <td>1.0</td>\n",
       "      <td>1.0</td>\n",
       "      <td>1.0</td>\n",
       "      <td>47624.0</td>\n",
       "      <td>362.625092</td>\n",
       "      <td>...</td>\n",
       "      <td>0.811381</td>\n",
       "      <td>0.0</td>\n",
       "      <td>WT</td>\n",
       "      <td>BDQ</td>\n",
       "      <td>EC99</td>\n",
       "      <td>2320</td>\n",
       "      <td>(6, 9)</td>\n",
       "      <td>2320.6.9</td>\n",
       "      <td>-0.000019</td>\n",
       "      <td>2</td>\n",
       "    </tr>\n",
       "  </tbody>\n",
       "</table>\n",
       "<p>10028 rows × 30 columns</p>\n",
       "</div>"
      ],
      "text/plain": [
       "        Time (hours)            x            y     x scaled     y scaled  \\\n",
       "0                  0   708.125061    77.589088  3568.950308   391.049006   \n",
       "42                 0   261.683105     4.945100  1318.882852    24.923306   \n",
       "89                 0   349.589508     8.074520  1761.931121    40.695581   \n",
       "152                0   457.172943     8.791715  2304.151633    44.310242   \n",
       "226                0   663.630920    10.924337  3344.699839    55.058660   \n",
       "...              ...          ...          ...          ...          ...   \n",
       "701271            33   660.136597   577.060730  3327.088447  2908.386079   \n",
       "701313            33   224.372467   131.369995  1130.837234   662.104775   \n",
       "701355            33  1106.007935  1032.619019  5574.279990  5204.399854   \n",
       "701397            34   477.689026   538.676697  2407.552690  2714.930552   \n",
       "701438            34   740.119568    29.286783  3730.202622   147.605387   \n",
       "\n",
       "        Infection status  Initial infection status  Final infection status  \\\n",
       "0                    0.0                       0.0                     1.0   \n",
       "42                   0.0                       0.0                     0.0   \n",
       "89                   0.0                       0.0                     0.0   \n",
       "152                  1.0                       1.0                     0.0   \n",
       "226                  0.0                       0.0                     0.0   \n",
       "...                  ...                       ...                     ...   \n",
       "701271               0.0                       0.0                     0.0   \n",
       "701313               1.0                       1.0                     1.0   \n",
       "701355               0.0                       0.0                     1.0   \n",
       "701397               0.0                       0.0                     0.0   \n",
       "701438               1.0                       1.0                     1.0   \n",
       "\n",
       "           Area  Intracellular mean Mtb content  ...  Eccentricity  MSD  \\\n",
       "0       42556.0                      365.408905  ...      0.813310  0.0   \n",
       "42       6754.0                      355.006958  ...      0.913146  0.0   \n",
       "89      13672.0                      344.202454  ...      0.957093  0.0   \n",
       "152     20542.0                      343.157196  ...      0.929721  0.0   \n",
       "226     20098.0                      353.067780  ...      0.805467  0.0   \n",
       "...         ...                             ...  ...           ...  ...   \n",
       "701271  47448.0                      377.264587  ...      0.952213  0.0   \n",
       "701313  98867.0                      373.245178  ...      0.885194  0.0   \n",
       "701355  53641.0                      366.914032  ...      0.950100  0.0   \n",
       "701397  36503.0                      356.196930  ...      0.796381  0.0   \n",
       "701438  47624.0                      362.625092  ...      0.811381  0.0   \n",
       "\n",
       "        Strain  Compound  Concentration  Cell ID  Acquisition ID  Unique ID  \\\n",
       "0          RD1      CTRL            EC0      433          (3, 4)    433.3.4   \n",
       "42         RD1      CTRL            EC0      424          (3, 4)    424.3.4   \n",
       "89         RD1      CTRL            EC0      425          (3, 4)    425.3.4   \n",
       "152        RD1      CTRL            EC0      426          (3, 4)    426.3.4   \n",
       "226        RD1      CTRL            EC0      427          (3, 4)    427.3.4   \n",
       "...        ...       ...            ...      ...             ...        ...   \n",
       "701271      WT       BDQ           EC99     2297          (6, 9)   2297.6.9   \n",
       "701313      WT       BDQ           EC99     2292          (6, 9)   2292.6.9   \n",
       "701355      WT       BDQ           EC99     2286          (6, 9)   2286.6.9   \n",
       "701397      WT       BDQ           EC99     2324          (6, 9)   2324.6.9   \n",
       "701438      WT       BDQ           EC99     2320          (6, 9)   2320.6.9   \n",
       "\n",
       "            dMtb  Technical replicate  \n",
       "0       0.095232                    1  \n",
       "42     -0.000112                    1  \n",
       "89      0.000000                    1  \n",
       "152     0.000586                    1  \n",
       "226     0.000544                    1  \n",
       "...          ...                  ...  \n",
       "701271  0.000032                    2  \n",
       "701313 -0.000153                    2  \n",
       "701355  0.000089                    2  \n",
       "701397  0.000167                    2  \n",
       "701438 -0.000019                    2  \n",
       "\n",
       "[10028 rows x 30 columns]"
      ]
     },
     "execution_count": 131,
     "metadata": {},
     "output_type": "execute_result"
    }
   ],
   "source": [
    "df_delta_mtb"
   ]
  },
  {
   "cell_type": "code",
   "execution_count": 132,
   "id": "fb1e46e8",
   "metadata": {},
   "outputs": [
    {
     "data": {
      "text/html": [
       "<div>\n",
       "<style scoped>\n",
       "    .dataframe tbody tr th:only-of-type {\n",
       "        vertical-align: middle;\n",
       "    }\n",
       "\n",
       "    .dataframe tbody tr th {\n",
       "        vertical-align: top;\n",
       "    }\n",
       "\n",
       "    .dataframe thead th {\n",
       "        text-align: right;\n",
       "    }\n",
       "</style>\n",
       "<table border=\"1\" class=\"dataframe\">\n",
       "  <thead>\n",
       "    <tr style=\"text-align: right;\">\n",
       "      <th></th>\n",
       "      <th>Compound</th>\n",
       "      <th>Concentration</th>\n",
       "      <th>measurement</th>\n",
       "      <th>dMtb</th>\n",
       "    </tr>\n",
       "  </thead>\n",
       "  <tbody>\n",
       "    <tr>\n",
       "      <th>260728</th>\n",
       "      <td>CTRL</td>\n",
       "      <td>EC0</td>\n",
       "      <td>dMtb</td>\n",
       "      <td>0.095232</td>\n",
       "    </tr>\n",
       "    <tr>\n",
       "      <th>260729</th>\n",
       "      <td>CTRL</td>\n",
       "      <td>EC0</td>\n",
       "      <td>dMtb</td>\n",
       "      <td>-0.000112</td>\n",
       "    </tr>\n",
       "    <tr>\n",
       "      <th>260730</th>\n",
       "      <td>CTRL</td>\n",
       "      <td>EC0</td>\n",
       "      <td>dMtb</td>\n",
       "      <td>0.0</td>\n",
       "    </tr>\n",
       "    <tr>\n",
       "      <th>260731</th>\n",
       "      <td>CTRL</td>\n",
       "      <td>EC0</td>\n",
       "      <td>dMtb</td>\n",
       "      <td>0.000586</td>\n",
       "    </tr>\n",
       "    <tr>\n",
       "      <th>260732</th>\n",
       "      <td>CTRL</td>\n",
       "      <td>EC0</td>\n",
       "      <td>dMtb</td>\n",
       "      <td>0.000544</td>\n",
       "    </tr>\n",
       "    <tr>\n",
       "      <th>...</th>\n",
       "      <td>...</td>\n",
       "      <td>...</td>\n",
       "      <td>...</td>\n",
       "      <td>...</td>\n",
       "    </tr>\n",
       "    <tr>\n",
       "      <th>270751</th>\n",
       "      <td>BDQ</td>\n",
       "      <td>EC99</td>\n",
       "      <td>dMtb</td>\n",
       "      <td>0.000032</td>\n",
       "    </tr>\n",
       "    <tr>\n",
       "      <th>270752</th>\n",
       "      <td>BDQ</td>\n",
       "      <td>EC99</td>\n",
       "      <td>dMtb</td>\n",
       "      <td>-0.000153</td>\n",
       "    </tr>\n",
       "    <tr>\n",
       "      <th>270753</th>\n",
       "      <td>BDQ</td>\n",
       "      <td>EC99</td>\n",
       "      <td>dMtb</td>\n",
       "      <td>0.000089</td>\n",
       "    </tr>\n",
       "    <tr>\n",
       "      <th>270754</th>\n",
       "      <td>BDQ</td>\n",
       "      <td>EC99</td>\n",
       "      <td>dMtb</td>\n",
       "      <td>0.000167</td>\n",
       "    </tr>\n",
       "    <tr>\n",
       "      <th>270755</th>\n",
       "      <td>BDQ</td>\n",
       "      <td>EC99</td>\n",
       "      <td>dMtb</td>\n",
       "      <td>-0.000019</td>\n",
       "    </tr>\n",
       "  </tbody>\n",
       "</table>\n",
       "<p>10028 rows × 4 columns</p>\n",
       "</div>"
      ],
      "text/plain": [
       "       Compound Concentration measurement      dMtb\n",
       "260728     CTRL           EC0        dMtb  0.095232\n",
       "260729     CTRL           EC0        dMtb -0.000112\n",
       "260730     CTRL           EC0        dMtb       0.0\n",
       "260731     CTRL           EC0        dMtb  0.000586\n",
       "260732     CTRL           EC0        dMtb  0.000544\n",
       "...         ...           ...         ...       ...\n",
       "270751      BDQ          EC99        dMtb  0.000032\n",
       "270752      BDQ          EC99        dMtb -0.000153\n",
       "270753      BDQ          EC99        dMtb  0.000089\n",
       "270754      BDQ          EC99        dMtb  0.000167\n",
       "270755      BDQ          EC99        dMtb -0.000019\n",
       "\n",
       "[10028 rows x 4 columns]"
      ]
     },
     "execution_count": 132,
     "metadata": {},
     "output_type": "execute_result"
    }
   ],
   "source": [
    "# \"Melt\" the DataFrame to \"long-form\" or \"tidy\" representation\n",
    "df_melted = pd.melt(df_delta_mtb, [\"Compound\", \"Concentration\"], var_name=\"measurement\")\n",
    "df_melted = df_melted[df_melted['measurement'] == 'dMtb']\n",
    "# Rename the 'value' column to 'dMtb'\n",
    "df_melted = df_melted.rename(columns={'value': 'dMtb'})\n",
    "\n",
    "df_melted"
   ]
  },
  {
   "cell_type": "code",
   "execution_count": 108,
   "id": "9219f34f",
   "metadata": {},
   "outputs": [
    {
     "data": {
      "text/html": [
       "<div class=\"bk-root\">\n",
       "        <a href=\"https://bokeh.org\" target=\"_blank\" class=\"bk-logo bk-logo-small bk-logo-notebook\"></a>\n",
       "        <span id=\"18324\">Loading BokehJS ...</span>\n",
       "    </div>\n"
      ]
     },
     "metadata": {},
     "output_type": "display_data"
    },
    {
     "data": {
      "application/javascript": [
       "(function(root) {\n",
       "  function now() {\n",
       "    return new Date();\n",
       "  }\n",
       "\n",
       "  const force = true;\n",
       "\n",
       "  if (typeof root._bokeh_onload_callbacks === \"undefined\" || force === true) {\n",
       "    root._bokeh_onload_callbacks = [];\n",
       "    root._bokeh_is_loading = undefined;\n",
       "  }\n",
       "\n",
       "const JS_MIME_TYPE = 'application/javascript';\n",
       "  const HTML_MIME_TYPE = 'text/html';\n",
       "  const EXEC_MIME_TYPE = 'application/vnd.bokehjs_exec.v0+json';\n",
       "  const CLASS_NAME = 'output_bokeh rendered_html';\n",
       "\n",
       "  /**\n",
       "   * Render data to the DOM node\n",
       "   */\n",
       "  function render(props, node) {\n",
       "    const script = document.createElement(\"script\");\n",
       "    node.appendChild(script);\n",
       "  }\n",
       "\n",
       "  /**\n",
       "   * Handle when an output is cleared or removed\n",
       "   */\n",
       "  function handleClearOutput(event, handle) {\n",
       "    const cell = handle.cell;\n",
       "\n",
       "    const id = cell.output_area._bokeh_element_id;\n",
       "    const server_id = cell.output_area._bokeh_server_id;\n",
       "    // Clean up Bokeh references\n",
       "    if (id != null && id in Bokeh.index) {\n",
       "      Bokeh.index[id].model.document.clear();\n",
       "      delete Bokeh.index[id];\n",
       "    }\n",
       "\n",
       "    if (server_id !== undefined) {\n",
       "      // Clean up Bokeh references\n",
       "      const cmd_clean = \"from bokeh.io.state import curstate; print(curstate().uuid_to_server['\" + server_id + \"'].get_sessions()[0].document.roots[0]._id)\";\n",
       "      cell.notebook.kernel.execute(cmd_clean, {\n",
       "        iopub: {\n",
       "          output: function(msg) {\n",
       "            const id = msg.content.text.trim();\n",
       "            if (id in Bokeh.index) {\n",
       "              Bokeh.index[id].model.document.clear();\n",
       "              delete Bokeh.index[id];\n",
       "            }\n",
       "          }\n",
       "        }\n",
       "      });\n",
       "      // Destroy server and session\n",
       "      const cmd_destroy = \"import bokeh.io.notebook as ion; ion.destroy_server('\" + server_id + \"')\";\n",
       "      cell.notebook.kernel.execute(cmd_destroy);\n",
       "    }\n",
       "  }\n",
       "\n",
       "  /**\n",
       "   * Handle when a new output is added\n",
       "   */\n",
       "  function handleAddOutput(event, handle) {\n",
       "    const output_area = handle.output_area;\n",
       "    const output = handle.output;\n",
       "\n",
       "    // limit handleAddOutput to display_data with EXEC_MIME_TYPE content only\n",
       "    if ((output.output_type != \"display_data\") || (!Object.prototype.hasOwnProperty.call(output.data, EXEC_MIME_TYPE))) {\n",
       "      return\n",
       "    }\n",
       "\n",
       "    const toinsert = output_area.element.find(\".\" + CLASS_NAME.split(' ')[0]);\n",
       "\n",
       "    if (output.metadata[EXEC_MIME_TYPE][\"id\"] !== undefined) {\n",
       "      toinsert[toinsert.length - 1].firstChild.textContent = output.data[JS_MIME_TYPE];\n",
       "      // store reference to embed id on output_area\n",
       "      output_area._bokeh_element_id = output.metadata[EXEC_MIME_TYPE][\"id\"];\n",
       "    }\n",
       "    if (output.metadata[EXEC_MIME_TYPE][\"server_id\"] !== undefined) {\n",
       "      const bk_div = document.createElement(\"div\");\n",
       "      bk_div.innerHTML = output.data[HTML_MIME_TYPE];\n",
       "      const script_attrs = bk_div.children[0].attributes;\n",
       "      for (let i = 0; i < script_attrs.length; i++) {\n",
       "        toinsert[toinsert.length - 1].firstChild.setAttribute(script_attrs[i].name, script_attrs[i].value);\n",
       "        toinsert[toinsert.length - 1].firstChild.textContent = bk_div.children[0].textContent\n",
       "      }\n",
       "      // store reference to server id on output_area\n",
       "      output_area._bokeh_server_id = output.metadata[EXEC_MIME_TYPE][\"server_id\"];\n",
       "    }\n",
       "  }\n",
       "\n",
       "  function register_renderer(events, OutputArea) {\n",
       "\n",
       "    function append_mime(data, metadata, element) {\n",
       "      // create a DOM node to render to\n",
       "      const toinsert = this.create_output_subarea(\n",
       "        metadata,\n",
       "        CLASS_NAME,\n",
       "        EXEC_MIME_TYPE\n",
       "      );\n",
       "      this.keyboard_manager.register_events(toinsert);\n",
       "      // Render to node\n",
       "      const props = {data: data, metadata: metadata[EXEC_MIME_TYPE]};\n",
       "      render(props, toinsert[toinsert.length - 1]);\n",
       "      element.append(toinsert);\n",
       "      return toinsert\n",
       "    }\n",
       "\n",
       "    /* Handle when an output is cleared or removed */\n",
       "    events.on('clear_output.CodeCell', handleClearOutput);\n",
       "    events.on('delete.Cell', handleClearOutput);\n",
       "\n",
       "    /* Handle when a new output is added */\n",
       "    events.on('output_added.OutputArea', handleAddOutput);\n",
       "\n",
       "    /**\n",
       "     * Register the mime type and append_mime function with output_area\n",
       "     */\n",
       "    OutputArea.prototype.register_mime_type(EXEC_MIME_TYPE, append_mime, {\n",
       "      /* Is output safe? */\n",
       "      safe: true,\n",
       "      /* Index of renderer in `output_area.display_order` */\n",
       "      index: 0\n",
       "    });\n",
       "  }\n",
       "\n",
       "  // register the mime type if in Jupyter Notebook environment and previously unregistered\n",
       "  if (root.Jupyter !== undefined) {\n",
       "    const events = require('base/js/events');\n",
       "    const OutputArea = require('notebook/js/outputarea').OutputArea;\n",
       "\n",
       "    if (OutputArea.prototype.mime_types().indexOf(EXEC_MIME_TYPE) == -1) {\n",
       "      register_renderer(events, OutputArea);\n",
       "    }\n",
       "  }\n",
       "  if (typeof (root._bokeh_timeout) === \"undefined\" || force === true) {\n",
       "    root._bokeh_timeout = Date.now() + 5000;\n",
       "    root._bokeh_failed_load = false;\n",
       "  }\n",
       "\n",
       "  const NB_LOAD_WARNING = {'data': {'text/html':\n",
       "     \"<div style='background-color: #fdd'>\\n\"+\n",
       "     \"<p>\\n\"+\n",
       "     \"BokehJS does not appear to have successfully loaded. If loading BokehJS from CDN, this \\n\"+\n",
       "     \"may be due to a slow or bad network connection. Possible fixes:\\n\"+\n",
       "     \"</p>\\n\"+\n",
       "     \"<ul>\\n\"+\n",
       "     \"<li>re-rerun `output_notebook()` to attempt to load from CDN again, or</li>\\n\"+\n",
       "     \"<li>use INLINE resources instead, as so:</li>\\n\"+\n",
       "     \"</ul>\\n\"+\n",
       "     \"<code>\\n\"+\n",
       "     \"from bokeh.resources import INLINE\\n\"+\n",
       "     \"output_notebook(resources=INLINE)\\n\"+\n",
       "     \"</code>\\n\"+\n",
       "     \"</div>\"}};\n",
       "\n",
       "  function display_loaded() {\n",
       "    const el = document.getElementById(\"18324\");\n",
       "    if (el != null) {\n",
       "      el.textContent = \"BokehJS is loading...\";\n",
       "    }\n",
       "    if (root.Bokeh !== undefined) {\n",
       "      if (el != null) {\n",
       "        el.textContent = \"BokehJS \" + root.Bokeh.version + \" successfully loaded.\";\n",
       "      }\n",
       "    } else if (Date.now() < root._bokeh_timeout) {\n",
       "      setTimeout(display_loaded, 100)\n",
       "    }\n",
       "  }\n",
       "\n",
       "  function run_callbacks() {\n",
       "    try {\n",
       "      root._bokeh_onload_callbacks.forEach(function(callback) {\n",
       "        if (callback != null)\n",
       "          callback();\n",
       "      });\n",
       "    } finally {\n",
       "      delete root._bokeh_onload_callbacks\n",
       "    }\n",
       "    console.debug(\"Bokeh: all callbacks have finished\");\n",
       "  }\n",
       "\n",
       "  function load_libs(css_urls, js_urls, callback) {\n",
       "    if (css_urls == null) css_urls = [];\n",
       "    if (js_urls == null) js_urls = [];\n",
       "\n",
       "    root._bokeh_onload_callbacks.push(callback);\n",
       "    if (root._bokeh_is_loading > 0) {\n",
       "      console.debug(\"Bokeh: BokehJS is being loaded, scheduling callback at\", now());\n",
       "      return null;\n",
       "    }\n",
       "    if (js_urls == null || js_urls.length === 0) {\n",
       "      run_callbacks();\n",
       "      return null;\n",
       "    }\n",
       "    console.debug(\"Bokeh: BokehJS not loaded, scheduling load and callback at\", now());\n",
       "    root._bokeh_is_loading = css_urls.length + js_urls.length;\n",
       "\n",
       "    function on_load() {\n",
       "      root._bokeh_is_loading--;\n",
       "      if (root._bokeh_is_loading === 0) {\n",
       "        console.debug(\"Bokeh: all BokehJS libraries/stylesheets loaded\");\n",
       "        run_callbacks()\n",
       "      }\n",
       "    }\n",
       "\n",
       "    function on_error(url) {\n",
       "      console.error(\"failed to load \" + url);\n",
       "    }\n",
       "\n",
       "    for (let i = 0; i < css_urls.length; i++) {\n",
       "      const url = css_urls[i];\n",
       "      const element = document.createElement(\"link\");\n",
       "      element.onload = on_load;\n",
       "      element.onerror = on_error.bind(null, url);\n",
       "      element.rel = \"stylesheet\";\n",
       "      element.type = \"text/css\";\n",
       "      element.href = url;\n",
       "      console.debug(\"Bokeh: injecting link tag for BokehJS stylesheet: \", url);\n",
       "      document.body.appendChild(element);\n",
       "    }\n",
       "\n",
       "    for (let i = 0; i < js_urls.length; i++) {\n",
       "      const url = js_urls[i];\n",
       "      const element = document.createElement('script');\n",
       "      element.onload = on_load;\n",
       "      element.onerror = on_error.bind(null, url);\n",
       "      element.async = false;\n",
       "      element.src = url;\n",
       "      console.debug(\"Bokeh: injecting script tag for BokehJS library: \", url);\n",
       "      document.head.appendChild(element);\n",
       "    }\n",
       "  };\n",
       "\n",
       "  function inject_raw_css(css) {\n",
       "    const element = document.createElement(\"style\");\n",
       "    element.appendChild(document.createTextNode(css));\n",
       "    document.body.appendChild(element);\n",
       "  }\n",
       "\n",
       "  const js_urls = [\"https://cdn.bokeh.org/bokeh/release/bokeh-2.4.3.min.js\", \"https://cdn.bokeh.org/bokeh/release/bokeh-gl-2.4.3.min.js\", \"https://cdn.bokeh.org/bokeh/release/bokeh-widgets-2.4.3.min.js\", \"https://cdn.bokeh.org/bokeh/release/bokeh-tables-2.4.3.min.js\", \"https://cdn.bokeh.org/bokeh/release/bokeh-mathjax-2.4.3.min.js\"];\n",
       "  const css_urls = [];\n",
       "\n",
       "  const inline_js = [    function(Bokeh) {\n",
       "      Bokeh.set_log_level(\"info\");\n",
       "    },\n",
       "function(Bokeh) {\n",
       "    }\n",
       "  ];\n",
       "\n",
       "  function run_inline_js() {\n",
       "    if (root.Bokeh !== undefined || force === true) {\n",
       "          for (let i = 0; i < inline_js.length; i++) {\n",
       "      inline_js[i].call(root, root.Bokeh);\n",
       "    }\n",
       "if (force === true) {\n",
       "        display_loaded();\n",
       "      }} else if (Date.now() < root._bokeh_timeout) {\n",
       "      setTimeout(run_inline_js, 100);\n",
       "    } else if (!root._bokeh_failed_load) {\n",
       "      console.log(\"Bokeh: BokehJS failed to load within specified timeout.\");\n",
       "      root._bokeh_failed_load = true;\n",
       "    } else if (force !== true) {\n",
       "      const cell = $(document.getElementById(\"18324\")).parents('.cell').data().cell;\n",
       "      cell.output_area.append_execute_result(NB_LOAD_WARNING)\n",
       "    }\n",
       "  }\n",
       "\n",
       "  if (root._bokeh_is_loading === 0) {\n",
       "    console.debug(\"Bokeh: BokehJS loaded, going straight to plotting\");\n",
       "    run_inline_js();\n",
       "  } else {\n",
       "    load_libs(css_urls, js_urls, function() {\n",
       "      console.debug(\"Bokeh: BokehJS plotting callback run at\", now());\n",
       "      run_inline_js();\n",
       "    });\n",
       "  }\n",
       "}(window));"
      ],
      "application/vnd.bokehjs_load.v0+json": "(function(root) {\n  function now() {\n    return new Date();\n  }\n\n  const force = true;\n\n  if (typeof root._bokeh_onload_callbacks === \"undefined\" || force === true) {\n    root._bokeh_onload_callbacks = [];\n    root._bokeh_is_loading = undefined;\n  }\n\n\n  if (typeof (root._bokeh_timeout) === \"undefined\" || force === true) {\n    root._bokeh_timeout = Date.now() + 5000;\n    root._bokeh_failed_load = false;\n  }\n\n  const NB_LOAD_WARNING = {'data': {'text/html':\n     \"<div style='background-color: #fdd'>\\n\"+\n     \"<p>\\n\"+\n     \"BokehJS does not appear to have successfully loaded. If loading BokehJS from CDN, this \\n\"+\n     \"may be due to a slow or bad network connection. Possible fixes:\\n\"+\n     \"</p>\\n\"+\n     \"<ul>\\n\"+\n     \"<li>re-rerun `output_notebook()` to attempt to load from CDN again, or</li>\\n\"+\n     \"<li>use INLINE resources instead, as so:</li>\\n\"+\n     \"</ul>\\n\"+\n     \"<code>\\n\"+\n     \"from bokeh.resources import INLINE\\n\"+\n     \"output_notebook(resources=INLINE)\\n\"+\n     \"</code>\\n\"+\n     \"</div>\"}};\n\n  function display_loaded() {\n    const el = document.getElementById(\"18324\");\n    if (el != null) {\n      el.textContent = \"BokehJS is loading...\";\n    }\n    if (root.Bokeh !== undefined) {\n      if (el != null) {\n        el.textContent = \"BokehJS \" + root.Bokeh.version + \" successfully loaded.\";\n      }\n    } else if (Date.now() < root._bokeh_timeout) {\n      setTimeout(display_loaded, 100)\n    }\n  }\n\n  function run_callbacks() {\n    try {\n      root._bokeh_onload_callbacks.forEach(function(callback) {\n        if (callback != null)\n          callback();\n      });\n    } finally {\n      delete root._bokeh_onload_callbacks\n    }\n    console.debug(\"Bokeh: all callbacks have finished\");\n  }\n\n  function load_libs(css_urls, js_urls, callback) {\n    if (css_urls == null) css_urls = [];\n    if (js_urls == null) js_urls = [];\n\n    root._bokeh_onload_callbacks.push(callback);\n    if (root._bokeh_is_loading > 0) {\n      console.debug(\"Bokeh: BokehJS is being loaded, scheduling callback at\", now());\n      return null;\n    }\n    if (js_urls == null || js_urls.length === 0) {\n      run_callbacks();\n      return null;\n    }\n    console.debug(\"Bokeh: BokehJS not loaded, scheduling load and callback at\", now());\n    root._bokeh_is_loading = css_urls.length + js_urls.length;\n\n    function on_load() {\n      root._bokeh_is_loading--;\n      if (root._bokeh_is_loading === 0) {\n        console.debug(\"Bokeh: all BokehJS libraries/stylesheets loaded\");\n        run_callbacks()\n      }\n    }\n\n    function on_error(url) {\n      console.error(\"failed to load \" + url);\n    }\n\n    for (let i = 0; i < css_urls.length; i++) {\n      const url = css_urls[i];\n      const element = document.createElement(\"link\");\n      element.onload = on_load;\n      element.onerror = on_error.bind(null, url);\n      element.rel = \"stylesheet\";\n      element.type = \"text/css\";\n      element.href = url;\n      console.debug(\"Bokeh: injecting link tag for BokehJS stylesheet: \", url);\n      document.body.appendChild(element);\n    }\n\n    for (let i = 0; i < js_urls.length; i++) {\n      const url = js_urls[i];\n      const element = document.createElement('script');\n      element.onload = on_load;\n      element.onerror = on_error.bind(null, url);\n      element.async = false;\n      element.src = url;\n      console.debug(\"Bokeh: injecting script tag for BokehJS library: \", url);\n      document.head.appendChild(element);\n    }\n  };\n\n  function inject_raw_css(css) {\n    const element = document.createElement(\"style\");\n    element.appendChild(document.createTextNode(css));\n    document.body.appendChild(element);\n  }\n\n  const js_urls = [\"https://cdn.bokeh.org/bokeh/release/bokeh-2.4.3.min.js\", \"https://cdn.bokeh.org/bokeh/release/bokeh-gl-2.4.3.min.js\", \"https://cdn.bokeh.org/bokeh/release/bokeh-widgets-2.4.3.min.js\", \"https://cdn.bokeh.org/bokeh/release/bokeh-tables-2.4.3.min.js\", \"https://cdn.bokeh.org/bokeh/release/bokeh-mathjax-2.4.3.min.js\"];\n  const css_urls = [];\n\n  const inline_js = [    function(Bokeh) {\n      Bokeh.set_log_level(\"info\");\n    },\nfunction(Bokeh) {\n    }\n  ];\n\n  function run_inline_js() {\n    if (root.Bokeh !== undefined || force === true) {\n          for (let i = 0; i < inline_js.length; i++) {\n      inline_js[i].call(root, root.Bokeh);\n    }\nif (force === true) {\n        display_loaded();\n      }} else if (Date.now() < root._bokeh_timeout) {\n      setTimeout(run_inline_js, 100);\n    } else if (!root._bokeh_failed_load) {\n      console.log(\"Bokeh: BokehJS failed to load within specified timeout.\");\n      root._bokeh_failed_load = true;\n    } else if (force !== true) {\n      const cell = $(document.getElementById(\"18324\")).parents('.cell').data().cell;\n      cell.output_area.append_execute_result(NB_LOAD_WARNING)\n    }\n  }\n\n  if (root._bokeh_is_loading === 0) {\n    console.debug(\"Bokeh: BokehJS loaded, going straight to plotting\");\n    run_inline_js();\n  } else {\n    load_libs(css_urls, js_urls, function() {\n      console.debug(\"Bokeh: BokehJS plotting callback run at\", now());\n      run_inline_js();\n    });\n  }\n}(window));"
     },
     "metadata": {},
     "output_type": "display_data"
    }
   ],
   "source": [
    "from bokeh.models import HoverTool\n",
    "from bokeh.plotting import figure, show, output_file, ColumnDataSource, output_notebook\n",
    "from bokeh.transform import factor_cmap\n",
    "from bokeh.palettes import Spectral6\n",
    "from bokeh.models import WheelZoomTool\n",
    "from bokeh.plotting import save\n",
    "from bokeh.models import Label\n",
    "from bokeh.models import LogScale\n",
    "from bokeh.models import NumeralTickFormatter\n",
    "\n",
    "output_notebook()\n"
   ]
  },
  {
   "cell_type": "code",
   "execution_count": 49,
   "id": "df77b353",
   "metadata": {},
   "outputs": [
    {
     "data": {
      "text/html": [
       "<div>\n",
       "<style scoped>\n",
       "    .dataframe tbody tr th:only-of-type {\n",
       "        vertical-align: middle;\n",
       "    }\n",
       "\n",
       "    .dataframe tbody tr th {\n",
       "        vertical-align: top;\n",
       "    }\n",
       "\n",
       "    .dataframe thead th {\n",
       "        text-align: right;\n",
       "    }\n",
       "</style>\n",
       "<table border=\"1\" class=\"dataframe\">\n",
       "  <thead>\n",
       "    <tr style=\"text-align: right;\">\n",
       "      <th></th>\n",
       "      <th>Time (hours)</th>\n",
       "      <th>x</th>\n",
       "      <th>y</th>\n",
       "      <th>x scaled</th>\n",
       "      <th>y scaled</th>\n",
       "      <th>Infection status</th>\n",
       "      <th>Initial infection status</th>\n",
       "      <th>Final infection status</th>\n",
       "      <th>Area</th>\n",
       "      <th>Intracellular mean Mtb content</th>\n",
       "      <th>...</th>\n",
       "      <th>delta Mtb/dt</th>\n",
       "      <th>Eccentricity</th>\n",
       "      <th>MSD</th>\n",
       "      <th>Strain</th>\n",
       "      <th>Compound</th>\n",
       "      <th>Concentration</th>\n",
       "      <th>Cell ID</th>\n",
       "      <th>Acquisition ID</th>\n",
       "      <th>Unique ID</th>\n",
       "      <th>dMtb</th>\n",
       "    </tr>\n",
       "  </thead>\n",
       "  <tbody>\n",
       "    <tr>\n",
       "      <th>0</th>\n",
       "      <td>0</td>\n",
       "      <td>708.125061</td>\n",
       "      <td>77.589088</td>\n",
       "      <td>3568.950308</td>\n",
       "      <td>391.049006</td>\n",
       "      <td>0.0</td>\n",
       "      <td>0.0</td>\n",
       "      <td>1.0</td>\n",
       "      <td>42556.0</td>\n",
       "      <td>365.408905</td>\n",
       "      <td>...</td>\n",
       "      <td>0.418707</td>\n",
       "      <td>0.813310</td>\n",
       "      <td>0.0</td>\n",
       "      <td>RD1</td>\n",
       "      <td>CTRL</td>\n",
       "      <td>EC0</td>\n",
       "      <td>433</td>\n",
       "      <td>(3, 4)</td>\n",
       "      <td>433.3.4</td>\n",
       "      <td>0.095232</td>\n",
       "    </tr>\n",
       "    <tr>\n",
       "      <th>42</th>\n",
       "      <td>0</td>\n",
       "      <td>261.683105</td>\n",
       "      <td>4.945100</td>\n",
       "      <td>1318.882852</td>\n",
       "      <td>24.923306</td>\n",
       "      <td>0.0</td>\n",
       "      <td>0.0</td>\n",
       "      <td>0.0</td>\n",
       "      <td>6754.0</td>\n",
       "      <td>355.006958</td>\n",
       "      <td>...</td>\n",
       "      <td>-0.142246</td>\n",
       "      <td>0.913146</td>\n",
       "      <td>0.0</td>\n",
       "      <td>RD1</td>\n",
       "      <td>CTRL</td>\n",
       "      <td>EC0</td>\n",
       "      <td>424</td>\n",
       "      <td>(3, 4)</td>\n",
       "      <td>424.3.4</td>\n",
       "      <td>-0.000112</td>\n",
       "    </tr>\n",
       "    <tr>\n",
       "      <th>89</th>\n",
       "      <td>0</td>\n",
       "      <td>349.589508</td>\n",
       "      <td>8.074520</td>\n",
       "      <td>1761.931121</td>\n",
       "      <td>40.695581</td>\n",
       "      <td>0.0</td>\n",
       "      <td>0.0</td>\n",
       "      <td>0.0</td>\n",
       "      <td>13672.0</td>\n",
       "      <td>344.202454</td>\n",
       "      <td>...</td>\n",
       "      <td>0.000000</td>\n",
       "      <td>0.957093</td>\n",
       "      <td>0.0</td>\n",
       "      <td>RD1</td>\n",
       "      <td>CTRL</td>\n",
       "      <td>EC0</td>\n",
       "      <td>425</td>\n",
       "      <td>(3, 4)</td>\n",
       "      <td>425.3.4</td>\n",
       "      <td>0.000000</td>\n",
       "    </tr>\n",
       "    <tr>\n",
       "      <th>152</th>\n",
       "      <td>0</td>\n",
       "      <td>457.172943</td>\n",
       "      <td>8.791715</td>\n",
       "      <td>2304.151633</td>\n",
       "      <td>44.310242</td>\n",
       "      <td>1.0</td>\n",
       "      <td>1.0</td>\n",
       "      <td>0.0</td>\n",
       "      <td>20542.0</td>\n",
       "      <td>343.157196</td>\n",
       "      <td>...</td>\n",
       "      <td>0.346945</td>\n",
       "      <td>0.929721</td>\n",
       "      <td>0.0</td>\n",
       "      <td>RD1</td>\n",
       "      <td>CTRL</td>\n",
       "      <td>EC0</td>\n",
       "      <td>426</td>\n",
       "      <td>(3, 4)</td>\n",
       "      <td>426.3.4</td>\n",
       "      <td>0.000586</td>\n",
       "    </tr>\n",
       "    <tr>\n",
       "      <th>226</th>\n",
       "      <td>0</td>\n",
       "      <td>663.630920</td>\n",
       "      <td>10.924337</td>\n",
       "      <td>3344.699839</td>\n",
       "      <td>55.058660</td>\n",
       "      <td>0.0</td>\n",
       "      <td>0.0</td>\n",
       "      <td>0.0</td>\n",
       "      <td>20098.0</td>\n",
       "      <td>353.067780</td>\n",
       "      <td>...</td>\n",
       "      <td>0.031179</td>\n",
       "      <td>0.805467</td>\n",
       "      <td>0.0</td>\n",
       "      <td>RD1</td>\n",
       "      <td>CTRL</td>\n",
       "      <td>EC0</td>\n",
       "      <td>427</td>\n",
       "      <td>(3, 4)</td>\n",
       "      <td>427.3.4</td>\n",
       "      <td>0.000544</td>\n",
       "    </tr>\n",
       "    <tr>\n",
       "      <th>...</th>\n",
       "      <td>...</td>\n",
       "      <td>...</td>\n",
       "      <td>...</td>\n",
       "      <td>...</td>\n",
       "      <td>...</td>\n",
       "      <td>...</td>\n",
       "      <td>...</td>\n",
       "      <td>...</td>\n",
       "      <td>...</td>\n",
       "      <td>...</td>\n",
       "      <td>...</td>\n",
       "      <td>...</td>\n",
       "      <td>...</td>\n",
       "      <td>...</td>\n",
       "      <td>...</td>\n",
       "      <td>...</td>\n",
       "      <td>...</td>\n",
       "      <td>...</td>\n",
       "      <td>...</td>\n",
       "      <td>...</td>\n",
       "      <td>...</td>\n",
       "    </tr>\n",
       "    <tr>\n",
       "      <th>701271</th>\n",
       "      <td>33</td>\n",
       "      <td>660.136597</td>\n",
       "      <td>577.060730</td>\n",
       "      <td>3327.088447</td>\n",
       "      <td>2908.386079</td>\n",
       "      <td>0.0</td>\n",
       "      <td>0.0</td>\n",
       "      <td>0.0</td>\n",
       "      <td>47448.0</td>\n",
       "      <td>377.264587</td>\n",
       "      <td>...</td>\n",
       "      <td>-0.000397</td>\n",
       "      <td>0.952213</td>\n",
       "      <td>0.0</td>\n",
       "      <td>WT</td>\n",
       "      <td>BDQ</td>\n",
       "      <td>EC99</td>\n",
       "      <td>2297</td>\n",
       "      <td>(6, 9)</td>\n",
       "      <td>2297.6.9</td>\n",
       "      <td>0.000032</td>\n",
       "    </tr>\n",
       "    <tr>\n",
       "      <th>701313</th>\n",
       "      <td>33</td>\n",
       "      <td>224.372467</td>\n",
       "      <td>131.369995</td>\n",
       "      <td>1130.837234</td>\n",
       "      <td>662.104775</td>\n",
       "      <td>1.0</td>\n",
       "      <td>1.0</td>\n",
       "      <td>1.0</td>\n",
       "      <td>98867.0</td>\n",
       "      <td>373.245178</td>\n",
       "      <td>...</td>\n",
       "      <td>0.050624</td>\n",
       "      <td>0.885194</td>\n",
       "      <td>0.0</td>\n",
       "      <td>WT</td>\n",
       "      <td>BDQ</td>\n",
       "      <td>EC99</td>\n",
       "      <td>2292</td>\n",
       "      <td>(6, 9)</td>\n",
       "      <td>2292.6.9</td>\n",
       "      <td>-0.000153</td>\n",
       "    </tr>\n",
       "    <tr>\n",
       "      <th>701355</th>\n",
       "      <td>33</td>\n",
       "      <td>1106.007935</td>\n",
       "      <td>1032.619019</td>\n",
       "      <td>5574.279990</td>\n",
       "      <td>5204.399854</td>\n",
       "      <td>0.0</td>\n",
       "      <td>0.0</td>\n",
       "      <td>1.0</td>\n",
       "      <td>53641.0</td>\n",
       "      <td>366.914032</td>\n",
       "      <td>...</td>\n",
       "      <td>0.366863</td>\n",
       "      <td>0.950100</td>\n",
       "      <td>0.0</td>\n",
       "      <td>WT</td>\n",
       "      <td>BDQ</td>\n",
       "      <td>EC99</td>\n",
       "      <td>2286</td>\n",
       "      <td>(6, 9)</td>\n",
       "      <td>2286.6.9</td>\n",
       "      <td>0.000089</td>\n",
       "    </tr>\n",
       "    <tr>\n",
       "      <th>701397</th>\n",
       "      <td>34</td>\n",
       "      <td>477.689026</td>\n",
       "      <td>538.676697</td>\n",
       "      <td>2407.552690</td>\n",
       "      <td>2714.930552</td>\n",
       "      <td>0.0</td>\n",
       "      <td>0.0</td>\n",
       "      <td>0.0</td>\n",
       "      <td>36503.0</td>\n",
       "      <td>356.196930</td>\n",
       "      <td>...</td>\n",
       "      <td>0.374870</td>\n",
       "      <td>0.796381</td>\n",
       "      <td>0.0</td>\n",
       "      <td>WT</td>\n",
       "      <td>BDQ</td>\n",
       "      <td>EC99</td>\n",
       "      <td>2324</td>\n",
       "      <td>(6, 9)</td>\n",
       "      <td>2324.6.9</td>\n",
       "      <td>0.000167</td>\n",
       "    </tr>\n",
       "    <tr>\n",
       "      <th>701438</th>\n",
       "      <td>34</td>\n",
       "      <td>740.119568</td>\n",
       "      <td>29.286783</td>\n",
       "      <td>3730.202622</td>\n",
       "      <td>147.605387</td>\n",
       "      <td>1.0</td>\n",
       "      <td>1.0</td>\n",
       "      <td>1.0</td>\n",
       "      <td>47624.0</td>\n",
       "      <td>362.625092</td>\n",
       "      <td>...</td>\n",
       "      <td>-0.092227</td>\n",
       "      <td>0.811381</td>\n",
       "      <td>0.0</td>\n",
       "      <td>WT</td>\n",
       "      <td>BDQ</td>\n",
       "      <td>EC99</td>\n",
       "      <td>2320</td>\n",
       "      <td>(6, 9)</td>\n",
       "      <td>2320.6.9</td>\n",
       "      <td>-0.000019</td>\n",
       "    </tr>\n",
       "  </tbody>\n",
       "</table>\n",
       "<p>10028 rows × 29 columns</p>\n",
       "</div>"
      ],
      "text/plain": [
       "        Time (hours)            x            y     x scaled     y scaled  \\\n",
       "0                  0   708.125061    77.589088  3568.950308   391.049006   \n",
       "42                 0   261.683105     4.945100  1318.882852    24.923306   \n",
       "89                 0   349.589508     8.074520  1761.931121    40.695581   \n",
       "152                0   457.172943     8.791715  2304.151633    44.310242   \n",
       "226                0   663.630920    10.924337  3344.699839    55.058660   \n",
       "...              ...          ...          ...          ...          ...   \n",
       "701271            33   660.136597   577.060730  3327.088447  2908.386079   \n",
       "701313            33   224.372467   131.369995  1130.837234   662.104775   \n",
       "701355            33  1106.007935  1032.619019  5574.279990  5204.399854   \n",
       "701397            34   477.689026   538.676697  2407.552690  2714.930552   \n",
       "701438            34   740.119568    29.286783  3730.202622   147.605387   \n",
       "\n",
       "        Infection status  Initial infection status  Final infection status  \\\n",
       "0                    0.0                       0.0                     1.0   \n",
       "42                   0.0                       0.0                     0.0   \n",
       "89                   0.0                       0.0                     0.0   \n",
       "152                  1.0                       1.0                     0.0   \n",
       "226                  0.0                       0.0                     0.0   \n",
       "...                  ...                       ...                     ...   \n",
       "701271               0.0                       0.0                     0.0   \n",
       "701313               1.0                       1.0                     1.0   \n",
       "701355               0.0                       0.0                     1.0   \n",
       "701397               0.0                       0.0                     0.0   \n",
       "701438               1.0                       1.0                     1.0   \n",
       "\n",
       "           Area  Intracellular mean Mtb content  ...  delta Mtb/dt  \\\n",
       "0       42556.0                      365.408905  ...      0.418707   \n",
       "42       6754.0                      355.006958  ...     -0.142246   \n",
       "89      13672.0                      344.202454  ...      0.000000   \n",
       "152     20542.0                      343.157196  ...      0.346945   \n",
       "226     20098.0                      353.067780  ...      0.031179   \n",
       "...         ...                             ...  ...           ...   \n",
       "701271  47448.0                      377.264587  ...     -0.000397   \n",
       "701313  98867.0                      373.245178  ...      0.050624   \n",
       "701355  53641.0                      366.914032  ...      0.366863   \n",
       "701397  36503.0                      356.196930  ...      0.374870   \n",
       "701438  47624.0                      362.625092  ...     -0.092227   \n",
       "\n",
       "        Eccentricity  MSD  Strain  Compound  Concentration  Cell ID  \\\n",
       "0           0.813310  0.0     RD1      CTRL            EC0      433   \n",
       "42          0.913146  0.0     RD1      CTRL            EC0      424   \n",
       "89          0.957093  0.0     RD1      CTRL            EC0      425   \n",
       "152         0.929721  0.0     RD1      CTRL            EC0      426   \n",
       "226         0.805467  0.0     RD1      CTRL            EC0      427   \n",
       "...              ...  ...     ...       ...            ...      ...   \n",
       "701271      0.952213  0.0      WT       BDQ           EC99     2297   \n",
       "701313      0.885194  0.0      WT       BDQ           EC99     2292   \n",
       "701355      0.950100  0.0      WT       BDQ           EC99     2286   \n",
       "701397      0.796381  0.0      WT       BDQ           EC99     2324   \n",
       "701438      0.811381  0.0      WT       BDQ           EC99     2320   \n",
       "\n",
       "        Acquisition ID  Unique ID      dMtb  \n",
       "0               (3, 4)    433.3.4  0.095232  \n",
       "42              (3, 4)    424.3.4 -0.000112  \n",
       "89              (3, 4)    425.3.4  0.000000  \n",
       "152             (3, 4)    426.3.4  0.000586  \n",
       "226             (3, 4)    427.3.4  0.000544  \n",
       "...                ...        ...       ...  \n",
       "701271          (6, 9)   2297.6.9  0.000032  \n",
       "701313          (6, 9)   2292.6.9 -0.000153  \n",
       "701355          (6, 9)   2286.6.9  0.000089  \n",
       "701397          (6, 9)   2324.6.9  0.000167  \n",
       "701438          (6, 9)   2320.6.9 -0.000019  \n",
       "\n",
       "[10028 rows x 29 columns]"
      ]
     },
     "execution_count": 49,
     "metadata": {},
     "output_type": "execute_result"
    }
   ],
   "source": [
    "df_delta_mtb"
   ]
  },
  {
   "cell_type": "code",
   "execution_count": 133,
   "id": "6fe4e79a",
   "metadata": {
    "scrolled": false
   },
   "outputs": [
    {
     "data": {
      "text/html": [
       "<div>\n",
       "<style scoped>\n",
       "    .dataframe tbody tr th:only-of-type {\n",
       "        vertical-align: middle;\n",
       "    }\n",
       "\n",
       "    .dataframe tbody tr th {\n",
       "        vertical-align: top;\n",
       "    }\n",
       "\n",
       "    .dataframe thead th {\n",
       "        text-align: right;\n",
       "    }\n",
       "</style>\n",
       "<table border=\"1\" class=\"dataframe\">\n",
       "  <thead>\n",
       "    <tr style=\"text-align: right;\">\n",
       "      <th></th>\n",
       "      <th>Strain</th>\n",
       "      <th>Compound</th>\n",
       "      <th>Concentration</th>\n",
       "      <th>count</th>\n",
       "    </tr>\n",
       "  </thead>\n",
       "  <tbody>\n",
       "    <tr>\n",
       "      <th>0</th>\n",
       "      <td>RD1</td>\n",
       "      <td>CTRL</td>\n",
       "      <td>EC0</td>\n",
       "      <td>1344</td>\n",
       "    </tr>\n",
       "    <tr>\n",
       "      <th>1</th>\n",
       "      <td>WT</td>\n",
       "      <td>BDQ</td>\n",
       "      <td>EC50</td>\n",
       "      <td>908</td>\n",
       "    </tr>\n",
       "    <tr>\n",
       "      <th>2</th>\n",
       "      <td>WT</td>\n",
       "      <td>BDQ</td>\n",
       "      <td>EC99</td>\n",
       "      <td>684</td>\n",
       "    </tr>\n",
       "    <tr>\n",
       "      <th>3</th>\n",
       "      <td>WT</td>\n",
       "      <td>CTRL</td>\n",
       "      <td>EC0</td>\n",
       "      <td>1934</td>\n",
       "    </tr>\n",
       "    <tr>\n",
       "      <th>4</th>\n",
       "      <td>WT</td>\n",
       "      <td>INH</td>\n",
       "      <td>EC50</td>\n",
       "      <td>842</td>\n",
       "    </tr>\n",
       "    <tr>\n",
       "      <th>5</th>\n",
       "      <td>WT</td>\n",
       "      <td>INH</td>\n",
       "      <td>EC99</td>\n",
       "      <td>817</td>\n",
       "    </tr>\n",
       "    <tr>\n",
       "      <th>6</th>\n",
       "      <td>WT</td>\n",
       "      <td>PZA</td>\n",
       "      <td>EC50</td>\n",
       "      <td>918</td>\n",
       "    </tr>\n",
       "    <tr>\n",
       "      <th>7</th>\n",
       "      <td>WT</td>\n",
       "      <td>PZA</td>\n",
       "      <td>EC99</td>\n",
       "      <td>901</td>\n",
       "    </tr>\n",
       "    <tr>\n",
       "      <th>8</th>\n",
       "      <td>WT</td>\n",
       "      <td>RIF</td>\n",
       "      <td>EC50</td>\n",
       "      <td>817</td>\n",
       "    </tr>\n",
       "    <tr>\n",
       "      <th>9</th>\n",
       "      <td>WT</td>\n",
       "      <td>RIF</td>\n",
       "      <td>EC99</td>\n",
       "      <td>863</td>\n",
       "    </tr>\n",
       "  </tbody>\n",
       "</table>\n",
       "</div>"
      ],
      "text/plain": [
       "  Strain Compound Concentration  count\n",
       "0    RD1     CTRL           EC0   1344\n",
       "1     WT      BDQ          EC50    908\n",
       "2     WT      BDQ          EC99    684\n",
       "3     WT     CTRL           EC0   1934\n",
       "4     WT      INH          EC50    842\n",
       "5     WT      INH          EC99    817\n",
       "6     WT      PZA          EC50    918\n",
       "7     WT      PZA          EC99    901\n",
       "8     WT      RIF          EC50    817\n",
       "9     WT      RIF          EC99    863"
      ]
     },
     "execution_count": 133,
     "metadata": {},
     "output_type": "execute_result"
    }
   ],
   "source": [
    "df_delta_mtb.groupby(['Strain', 'Compound', 'Concentration']).size().reset_index().rename(columns={0: 'count'})\n"
   ]
  },
  {
   "cell_type": "code",
   "execution_count": 176,
   "id": "990eeded",
   "metadata": {},
   "outputs": [],
   "source": [
    "expanded_piyg_dict = {\n",
    "                      'CTRL':expanded_piyg[0], \n",
    "                      'RD1':expanded_piyg[-1],\n",
    "                      'BDQ':expanded_piyg[0], \n",
    "                      'INH':expanded_piyg[1], \n",
    "                      'PZA':expanded_piyg[4], \n",
    "                      'RIF':expanded_piyg[5]}"
   ]
  },
  {
   "cell_type": "code",
   "execution_count": 154,
   "id": "867f41ae",
   "metadata": {},
   "outputs": [
    {
     "data": {
      "text/html": [
       "<div>\n",
       "<style scoped>\n",
       "    .dataframe tbody tr th:only-of-type {\n",
       "        vertical-align: middle;\n",
       "    }\n",
       "\n",
       "    .dataframe tbody tr th {\n",
       "        vertical-align: top;\n",
       "    }\n",
       "\n",
       "    .dataframe thead th {\n",
       "        text-align: right;\n",
       "    }\n",
       "</style>\n",
       "<table border=\"1\" class=\"dataframe\">\n",
       "  <thead>\n",
       "    <tr style=\"text-align: right;\">\n",
       "      <th></th>\n",
       "      <th>Time (hours)</th>\n",
       "      <th>x</th>\n",
       "      <th>y</th>\n",
       "      <th>x scaled</th>\n",
       "      <th>y scaled</th>\n",
       "      <th>Infection status</th>\n",
       "      <th>Initial infection status</th>\n",
       "      <th>Final infection status</th>\n",
       "      <th>Area</th>\n",
       "      <th>Intracellular mean Mtb content</th>\n",
       "      <th>...</th>\n",
       "      <th>Eccentricity</th>\n",
       "      <th>MSD</th>\n",
       "      <th>Strain</th>\n",
       "      <th>Compound</th>\n",
       "      <th>Concentration</th>\n",
       "      <th>Cell ID</th>\n",
       "      <th>Acquisition ID</th>\n",
       "      <th>Unique ID</th>\n",
       "      <th>dMtb</th>\n",
       "      <th>Technical replicate</th>\n",
       "    </tr>\n",
       "  </thead>\n",
       "  <tbody>\n",
       "    <tr>\n",
       "      <th>0</th>\n",
       "      <td>0</td>\n",
       "      <td>708.125061</td>\n",
       "      <td>77.589088</td>\n",
       "      <td>3568.950308</td>\n",
       "      <td>391.049006</td>\n",
       "      <td>0.0</td>\n",
       "      <td>0.0</td>\n",
       "      <td>1.0</td>\n",
       "      <td>42556.0</td>\n",
       "      <td>365.408905</td>\n",
       "      <td>...</td>\n",
       "      <td>0.813310</td>\n",
       "      <td>0.0</td>\n",
       "      <td>RD1</td>\n",
       "      <td>CTRL</td>\n",
       "      <td>EC0</td>\n",
       "      <td>433</td>\n",
       "      <td>(3, 4)</td>\n",
       "      <td>433.3.4</td>\n",
       "      <td>0.095232</td>\n",
       "      <td>1</td>\n",
       "    </tr>\n",
       "    <tr>\n",
       "      <th>42</th>\n",
       "      <td>0</td>\n",
       "      <td>261.683105</td>\n",
       "      <td>4.945100</td>\n",
       "      <td>1318.882852</td>\n",
       "      <td>24.923306</td>\n",
       "      <td>0.0</td>\n",
       "      <td>0.0</td>\n",
       "      <td>0.0</td>\n",
       "      <td>6754.0</td>\n",
       "      <td>355.006958</td>\n",
       "      <td>...</td>\n",
       "      <td>0.913146</td>\n",
       "      <td>0.0</td>\n",
       "      <td>RD1</td>\n",
       "      <td>CTRL</td>\n",
       "      <td>EC0</td>\n",
       "      <td>424</td>\n",
       "      <td>(3, 4)</td>\n",
       "      <td>424.3.4</td>\n",
       "      <td>-0.000112</td>\n",
       "      <td>1</td>\n",
       "    </tr>\n",
       "    <tr>\n",
       "      <th>89</th>\n",
       "      <td>0</td>\n",
       "      <td>349.589508</td>\n",
       "      <td>8.074520</td>\n",
       "      <td>1761.931121</td>\n",
       "      <td>40.695581</td>\n",
       "      <td>0.0</td>\n",
       "      <td>0.0</td>\n",
       "      <td>0.0</td>\n",
       "      <td>13672.0</td>\n",
       "      <td>344.202454</td>\n",
       "      <td>...</td>\n",
       "      <td>0.957093</td>\n",
       "      <td>0.0</td>\n",
       "      <td>RD1</td>\n",
       "      <td>CTRL</td>\n",
       "      <td>EC0</td>\n",
       "      <td>425</td>\n",
       "      <td>(3, 4)</td>\n",
       "      <td>425.3.4</td>\n",
       "      <td>0.000000</td>\n",
       "      <td>1</td>\n",
       "    </tr>\n",
       "    <tr>\n",
       "      <th>152</th>\n",
       "      <td>0</td>\n",
       "      <td>457.172943</td>\n",
       "      <td>8.791715</td>\n",
       "      <td>2304.151633</td>\n",
       "      <td>44.310242</td>\n",
       "      <td>1.0</td>\n",
       "      <td>1.0</td>\n",
       "      <td>0.0</td>\n",
       "      <td>20542.0</td>\n",
       "      <td>343.157196</td>\n",
       "      <td>...</td>\n",
       "      <td>0.929721</td>\n",
       "      <td>0.0</td>\n",
       "      <td>RD1</td>\n",
       "      <td>CTRL</td>\n",
       "      <td>EC0</td>\n",
       "      <td>426</td>\n",
       "      <td>(3, 4)</td>\n",
       "      <td>426.3.4</td>\n",
       "      <td>0.000586</td>\n",
       "      <td>1</td>\n",
       "    </tr>\n",
       "    <tr>\n",
       "      <th>226</th>\n",
       "      <td>0</td>\n",
       "      <td>663.630920</td>\n",
       "      <td>10.924337</td>\n",
       "      <td>3344.699839</td>\n",
       "      <td>55.058660</td>\n",
       "      <td>0.0</td>\n",
       "      <td>0.0</td>\n",
       "      <td>0.0</td>\n",
       "      <td>20098.0</td>\n",
       "      <td>353.067780</td>\n",
       "      <td>...</td>\n",
       "      <td>0.805467</td>\n",
       "      <td>0.0</td>\n",
       "      <td>RD1</td>\n",
       "      <td>CTRL</td>\n",
       "      <td>EC0</td>\n",
       "      <td>427</td>\n",
       "      <td>(3, 4)</td>\n",
       "      <td>427.3.4</td>\n",
       "      <td>0.000544</td>\n",
       "      <td>1</td>\n",
       "    </tr>\n",
       "    <tr>\n",
       "      <th>...</th>\n",
       "      <td>...</td>\n",
       "      <td>...</td>\n",
       "      <td>...</td>\n",
       "      <td>...</td>\n",
       "      <td>...</td>\n",
       "      <td>...</td>\n",
       "      <td>...</td>\n",
       "      <td>...</td>\n",
       "      <td>...</td>\n",
       "      <td>...</td>\n",
       "      <td>...</td>\n",
       "      <td>...</td>\n",
       "      <td>...</td>\n",
       "      <td>...</td>\n",
       "      <td>...</td>\n",
       "      <td>...</td>\n",
       "      <td>...</td>\n",
       "      <td>...</td>\n",
       "      <td>...</td>\n",
       "      <td>...</td>\n",
       "      <td>...</td>\n",
       "    </tr>\n",
       "    <tr>\n",
       "      <th>701271</th>\n",
       "      <td>33</td>\n",
       "      <td>660.136597</td>\n",
       "      <td>577.060730</td>\n",
       "      <td>3327.088447</td>\n",
       "      <td>2908.386079</td>\n",
       "      <td>0.0</td>\n",
       "      <td>0.0</td>\n",
       "      <td>0.0</td>\n",
       "      <td>47448.0</td>\n",
       "      <td>377.264587</td>\n",
       "      <td>...</td>\n",
       "      <td>0.952213</td>\n",
       "      <td>0.0</td>\n",
       "      <td>WT</td>\n",
       "      <td>BDQ</td>\n",
       "      <td>EC99</td>\n",
       "      <td>2297</td>\n",
       "      <td>(6, 9)</td>\n",
       "      <td>2297.6.9</td>\n",
       "      <td>0.000032</td>\n",
       "      <td>2</td>\n",
       "    </tr>\n",
       "    <tr>\n",
       "      <th>701313</th>\n",
       "      <td>33</td>\n",
       "      <td>224.372467</td>\n",
       "      <td>131.369995</td>\n",
       "      <td>1130.837234</td>\n",
       "      <td>662.104775</td>\n",
       "      <td>1.0</td>\n",
       "      <td>1.0</td>\n",
       "      <td>1.0</td>\n",
       "      <td>98867.0</td>\n",
       "      <td>373.245178</td>\n",
       "      <td>...</td>\n",
       "      <td>0.885194</td>\n",
       "      <td>0.0</td>\n",
       "      <td>WT</td>\n",
       "      <td>BDQ</td>\n",
       "      <td>EC99</td>\n",
       "      <td>2292</td>\n",
       "      <td>(6, 9)</td>\n",
       "      <td>2292.6.9</td>\n",
       "      <td>-0.000153</td>\n",
       "      <td>2</td>\n",
       "    </tr>\n",
       "    <tr>\n",
       "      <th>701355</th>\n",
       "      <td>33</td>\n",
       "      <td>1106.007935</td>\n",
       "      <td>1032.619019</td>\n",
       "      <td>5574.279990</td>\n",
       "      <td>5204.399854</td>\n",
       "      <td>0.0</td>\n",
       "      <td>0.0</td>\n",
       "      <td>1.0</td>\n",
       "      <td>53641.0</td>\n",
       "      <td>366.914032</td>\n",
       "      <td>...</td>\n",
       "      <td>0.950100</td>\n",
       "      <td>0.0</td>\n",
       "      <td>WT</td>\n",
       "      <td>BDQ</td>\n",
       "      <td>EC99</td>\n",
       "      <td>2286</td>\n",
       "      <td>(6, 9)</td>\n",
       "      <td>2286.6.9</td>\n",
       "      <td>0.000089</td>\n",
       "      <td>2</td>\n",
       "    </tr>\n",
       "    <tr>\n",
       "      <th>701397</th>\n",
       "      <td>34</td>\n",
       "      <td>477.689026</td>\n",
       "      <td>538.676697</td>\n",
       "      <td>2407.552690</td>\n",
       "      <td>2714.930552</td>\n",
       "      <td>0.0</td>\n",
       "      <td>0.0</td>\n",
       "      <td>0.0</td>\n",
       "      <td>36503.0</td>\n",
       "      <td>356.196930</td>\n",
       "      <td>...</td>\n",
       "      <td>0.796381</td>\n",
       "      <td>0.0</td>\n",
       "      <td>WT</td>\n",
       "      <td>BDQ</td>\n",
       "      <td>EC99</td>\n",
       "      <td>2324</td>\n",
       "      <td>(6, 9)</td>\n",
       "      <td>2324.6.9</td>\n",
       "      <td>0.000167</td>\n",
       "      <td>2</td>\n",
       "    </tr>\n",
       "    <tr>\n",
       "      <th>701438</th>\n",
       "      <td>34</td>\n",
       "      <td>740.119568</td>\n",
       "      <td>29.286783</td>\n",
       "      <td>3730.202622</td>\n",
       "      <td>147.605387</td>\n",
       "      <td>1.0</td>\n",
       "      <td>1.0</td>\n",
       "      <td>1.0</td>\n",
       "      <td>47624.0</td>\n",
       "      <td>362.625092</td>\n",
       "      <td>...</td>\n",
       "      <td>0.811381</td>\n",
       "      <td>0.0</td>\n",
       "      <td>WT</td>\n",
       "      <td>BDQ</td>\n",
       "      <td>EC99</td>\n",
       "      <td>2320</td>\n",
       "      <td>(6, 9)</td>\n",
       "      <td>2320.6.9</td>\n",
       "      <td>-0.000019</td>\n",
       "      <td>2</td>\n",
       "    </tr>\n",
       "  </tbody>\n",
       "</table>\n",
       "<p>10028 rows × 30 columns</p>\n",
       "</div>"
      ],
      "text/plain": [
       "        Time (hours)            x            y     x scaled     y scaled  \\\n",
       "0                  0   708.125061    77.589088  3568.950308   391.049006   \n",
       "42                 0   261.683105     4.945100  1318.882852    24.923306   \n",
       "89                 0   349.589508     8.074520  1761.931121    40.695581   \n",
       "152                0   457.172943     8.791715  2304.151633    44.310242   \n",
       "226                0   663.630920    10.924337  3344.699839    55.058660   \n",
       "...              ...          ...          ...          ...          ...   \n",
       "701271            33   660.136597   577.060730  3327.088447  2908.386079   \n",
       "701313            33   224.372467   131.369995  1130.837234   662.104775   \n",
       "701355            33  1106.007935  1032.619019  5574.279990  5204.399854   \n",
       "701397            34   477.689026   538.676697  2407.552690  2714.930552   \n",
       "701438            34   740.119568    29.286783  3730.202622   147.605387   \n",
       "\n",
       "        Infection status  Initial infection status  Final infection status  \\\n",
       "0                    0.0                       0.0                     1.0   \n",
       "42                   0.0                       0.0                     0.0   \n",
       "89                   0.0                       0.0                     0.0   \n",
       "152                  1.0                       1.0                     0.0   \n",
       "226                  0.0                       0.0                     0.0   \n",
       "...                  ...                       ...                     ...   \n",
       "701271               0.0                       0.0                     0.0   \n",
       "701313               1.0                       1.0                     1.0   \n",
       "701355               0.0                       0.0                     1.0   \n",
       "701397               0.0                       0.0                     0.0   \n",
       "701438               1.0                       1.0                     1.0   \n",
       "\n",
       "           Area  Intracellular mean Mtb content  ...  Eccentricity  MSD  \\\n",
       "0       42556.0                      365.408905  ...      0.813310  0.0   \n",
       "42       6754.0                      355.006958  ...      0.913146  0.0   \n",
       "89      13672.0                      344.202454  ...      0.957093  0.0   \n",
       "152     20542.0                      343.157196  ...      0.929721  0.0   \n",
       "226     20098.0                      353.067780  ...      0.805467  0.0   \n",
       "...         ...                             ...  ...           ...  ...   \n",
       "701271  47448.0                      377.264587  ...      0.952213  0.0   \n",
       "701313  98867.0                      373.245178  ...      0.885194  0.0   \n",
       "701355  53641.0                      366.914032  ...      0.950100  0.0   \n",
       "701397  36503.0                      356.196930  ...      0.796381  0.0   \n",
       "701438  47624.0                      362.625092  ...      0.811381  0.0   \n",
       "\n",
       "        Strain  Compound  Concentration  Cell ID  Acquisition ID  Unique ID  \\\n",
       "0          RD1      CTRL            EC0      433          (3, 4)    433.3.4   \n",
       "42         RD1      CTRL            EC0      424          (3, 4)    424.3.4   \n",
       "89         RD1      CTRL            EC0      425          (3, 4)    425.3.4   \n",
       "152        RD1      CTRL            EC0      426          (3, 4)    426.3.4   \n",
       "226        RD1      CTRL            EC0      427          (3, 4)    427.3.4   \n",
       "...        ...       ...            ...      ...             ...        ...   \n",
       "701271      WT       BDQ           EC99     2297          (6, 9)   2297.6.9   \n",
       "701313      WT       BDQ           EC99     2292          (6, 9)   2292.6.9   \n",
       "701355      WT       BDQ           EC99     2286          (6, 9)   2286.6.9   \n",
       "701397      WT       BDQ           EC99     2324          (6, 9)   2324.6.9   \n",
       "701438      WT       BDQ           EC99     2320          (6, 9)   2320.6.9   \n",
       "\n",
       "            dMtb  Technical replicate  \n",
       "0       0.095232                    1  \n",
       "42     -0.000112                    1  \n",
       "89      0.000000                    1  \n",
       "152     0.000586                    1  \n",
       "226     0.000544                    1  \n",
       "...          ...                  ...  \n",
       "701271  0.000032                    2  \n",
       "701313 -0.000153                    2  \n",
       "701355  0.000089                    2  \n",
       "701397  0.000167                    2  \n",
       "701438 -0.000019                    2  \n",
       "\n",
       "[10028 rows x 30 columns]"
      ]
     },
     "execution_count": 154,
     "metadata": {},
     "output_type": "execute_result"
    }
   ],
   "source": [
    "df_delta_mtb"
   ]
  },
  {
   "cell_type": "code",
   "execution_count": 288,
   "id": "e76262f9",
   "metadata": {},
   "outputs": [],
   "source": [
    "for index, row_ in df_delta_mtb.iterrows():\n",
    "    cell_ID = row_['Cell ID']\n",
    "    row, column = row_['Acquisition ID']\n",
    "    online_fn = f'https://macrohet.s3.eu-west-2.amazonaws.com/{row},{column}/glimpse_{cell_ID}.{row}.{column}_t0.png'\n",
    "    df_delta_mtb.at[index, 'glimpse_url'] = online_fn\n"
   ]
  },
  {
   "cell_type": "markdown",
   "id": "ad656105",
   "metadata": {},
   "source": [
    "# Creating scatter from one data source\n",
    "\n",
    "Cannot currently link image URLs to segregated datasources..."
   ]
  },
  {
   "cell_type": "code",
   "execution_count": null,
   "id": "03266109",
   "metadata": {},
   "outputs": [],
   "source": [
    "from bokeh.plotting import figure, output_file, show, ColumnDataSource\n",
    "from bokeh.models import HoverTool\n",
    "from bokeh.layouts import column\n",
    "from bokeh.layouts import gridplot\n",
    "\n",
    "output_notebook()"
   ]
  },
  {
   "cell_type": "code",
   "execution_count": 635,
   "id": "d6c2f546",
   "metadata": {},
   "outputs": [
    {
     "data": {
      "text/html": [
       "<div>\n",
       "<style scoped>\n",
       "    .dataframe tbody tr th:only-of-type {\n",
       "        vertical-align: middle;\n",
       "    }\n",
       "\n",
       "    .dataframe tbody tr th {\n",
       "        vertical-align: top;\n",
       "    }\n",
       "\n",
       "    .dataframe thead th {\n",
       "        text-align: right;\n",
       "    }\n",
       "</style>\n",
       "<table border=\"1\" class=\"dataframe\">\n",
       "  <thead>\n",
       "    <tr style=\"text-align: right;\">\n",
       "      <th></th>\n",
       "      <th>Time (hours)</th>\n",
       "      <th>x</th>\n",
       "      <th>y</th>\n",
       "      <th>x scaled</th>\n",
       "      <th>y scaled</th>\n",
       "      <th>Infection status</th>\n",
       "      <th>Initial infection status</th>\n",
       "      <th>Final infection status</th>\n",
       "      <th>Area</th>\n",
       "      <th>Intracellular mean Mtb content</th>\n",
       "      <th>...</th>\n",
       "      <th>MSD</th>\n",
       "      <th>Strain</th>\n",
       "      <th>Compound</th>\n",
       "      <th>Concentration</th>\n",
       "      <th>Cell ID</th>\n",
       "      <th>Acquisition ID</th>\n",
       "      <th>Unique ID</th>\n",
       "      <th>dMtb</th>\n",
       "      <th>Technical replicate</th>\n",
       "      <th>glimpse_url</th>\n",
       "    </tr>\n",
       "  </thead>\n",
       "  <tbody>\n",
       "    <tr>\n",
       "      <th>90597</th>\n",
       "      <td>0</td>\n",
       "      <td>990.390564</td>\n",
       "      <td>251.635727</td>\n",
       "      <td>4991.568442</td>\n",
       "      <td>1268.244064</td>\n",
       "      <td>1.0</td>\n",
       "      <td>1.0</td>\n",
       "      <td>1.0</td>\n",
       "      <td>48818.0</td>\n",
       "      <td>523.048645</td>\n",
       "      <td>...</td>\n",
       "      <td>0.0</td>\n",
       "      <td>WT</td>\n",
       "      <td>RIF</td>\n",
       "      <td>EC50</td>\n",
       "      <td>338</td>\n",
       "      <td>(3, 7)</td>\n",
       "      <td>338.3.7</td>\n",
       "      <td>-0.133241</td>\n",
       "      <td>1</td>\n",
       "      <td>https://macrohet.s3.eu-west-2.amazonaws.com/dM...</td>\n",
       "    </tr>\n",
       "    <tr>\n",
       "      <th>94861</th>\n",
       "      <td>0</td>\n",
       "      <td>852.202881</td>\n",
       "      <td>624.776123</td>\n",
       "      <td>4295.102520</td>\n",
       "      <td>3148.871660</td>\n",
       "      <td>1.0</td>\n",
       "      <td>1.0</td>\n",
       "      <td>1.0</td>\n",
       "      <td>16546.0</td>\n",
       "      <td>563.117798</td>\n",
       "      <td>...</td>\n",
       "      <td>0.0</td>\n",
       "      <td>WT</td>\n",
       "      <td>RIF</td>\n",
       "      <td>EC50</td>\n",
       "      <td>525</td>\n",
       "      <td>(3, 7)</td>\n",
       "      <td>525.3.7</td>\n",
       "      <td>-0.082176</td>\n",
       "      <td>1</td>\n",
       "      <td>https://macrohet.s3.eu-west-2.amazonaws.com/dM...</td>\n",
       "    </tr>\n",
       "    <tr>\n",
       "      <th>97336</th>\n",
       "      <td>0</td>\n",
       "      <td>702.944031</td>\n",
       "      <td>1138.155518</td>\n",
       "      <td>3542.837915</td>\n",
       "      <td>5736.303809</td>\n",
       "      <td>1.0</td>\n",
       "      <td>1.0</td>\n",
       "      <td>1.0</td>\n",
       "      <td>30848.0</td>\n",
       "      <td>528.072083</td>\n",
       "      <td>...</td>\n",
       "      <td>0.0</td>\n",
       "      <td>WT</td>\n",
       "      <td>RIF</td>\n",
       "      <td>EC50</td>\n",
       "      <td>160</td>\n",
       "      <td>(3, 7)</td>\n",
       "      <td>160.3.7</td>\n",
       "      <td>-0.344935</td>\n",
       "      <td>1</td>\n",
       "      <td>https://macrohet.s3.eu-west-2.amazonaws.com/dM...</td>\n",
       "    </tr>\n",
       "    <tr>\n",
       "      <th>99680</th>\n",
       "      <td>0</td>\n",
       "      <td>1081.588867</td>\n",
       "      <td>903.161987</td>\n",
       "      <td>5451.207891</td>\n",
       "      <td>4551.936416</td>\n",
       "      <td>1.0</td>\n",
       "      <td>1.0</td>\n",
       "      <td>1.0</td>\n",
       "      <td>13003.0</td>\n",
       "      <td>527.924194</td>\n",
       "      <td>...</td>\n",
       "      <td>0.0</td>\n",
       "      <td>WT</td>\n",
       "      <td>RIF</td>\n",
       "      <td>EC50</td>\n",
       "      <td>43</td>\n",
       "      <td>(3, 7)</td>\n",
       "      <td>43.3.7</td>\n",
       "      <td>0.061996</td>\n",
       "      <td>1</td>\n",
       "      <td>https://macrohet.s3.eu-west-2.amazonaws.com/dM...</td>\n",
       "    </tr>\n",
       "    <tr>\n",
       "      <th>101552</th>\n",
       "      <td>0</td>\n",
       "      <td>867.750305</td>\n",
       "      <td>1033.468994</td>\n",
       "      <td>4373.461538</td>\n",
       "      <td>5208.683730</td>\n",
       "      <td>0.0</td>\n",
       "      <td>0.0</td>\n",
       "      <td>1.0</td>\n",
       "      <td>32615.0</td>\n",
       "      <td>371.332214</td>\n",
       "      <td>...</td>\n",
       "      <td>0.0</td>\n",
       "      <td>WT</td>\n",
       "      <td>RIF</td>\n",
       "      <td>EC50</td>\n",
       "      <td>305</td>\n",
       "      <td>(3, 7)</td>\n",
       "      <td>305.3.7</td>\n",
       "      <td>0.691282</td>\n",
       "      <td>1</td>\n",
       "      <td>https://macrohet.s3.eu-west-2.amazonaws.com/dM...</td>\n",
       "    </tr>\n",
       "    <tr>\n",
       "      <th>103221</th>\n",
       "      <td>0</td>\n",
       "      <td>1078.560425</td>\n",
       "      <td>1139.710327</td>\n",
       "      <td>5435.944541</td>\n",
       "      <td>5744.140049</td>\n",
       "      <td>0.0</td>\n",
       "      <td>0.0</td>\n",
       "      <td>1.0</td>\n",
       "      <td>19498.0</td>\n",
       "      <td>365.487946</td>\n",
       "      <td>...</td>\n",
       "      <td>0.0</td>\n",
       "      <td>WT</td>\n",
       "      <td>RIF</td>\n",
       "      <td>EC50</td>\n",
       "      <td>176</td>\n",
       "      <td>(3, 7)</td>\n",
       "      <td>176.3.7</td>\n",
       "      <td>0.089430</td>\n",
       "      <td>1</td>\n",
       "      <td>https://macrohet.s3.eu-west-2.amazonaws.com/dM...</td>\n",
       "    </tr>\n",
       "    <tr>\n",
       "      <th>103266</th>\n",
       "      <td>0</td>\n",
       "      <td>241.929916</td>\n",
       "      <td>1146.574219</td>\n",
       "      <td>1219.326779</td>\n",
       "      <td>5778.734062</td>\n",
       "      <td>0.0</td>\n",
       "      <td>0.0</td>\n",
       "      <td>1.0</td>\n",
       "      <td>70491.0</td>\n",
       "      <td>372.541199</td>\n",
       "      <td>...</td>\n",
       "      <td>0.0</td>\n",
       "      <td>WT</td>\n",
       "      <td>RIF</td>\n",
       "      <td>EC50</td>\n",
       "      <td>178</td>\n",
       "      <td>(3, 7)</td>\n",
       "      <td>178.3.7</td>\n",
       "      <td>0.072925</td>\n",
       "      <td>1</td>\n",
       "      <td>https://macrohet.s3.eu-west-2.amazonaws.com/dM...</td>\n",
       "    </tr>\n",
       "    <tr>\n",
       "      <th>105468</th>\n",
       "      <td>1</td>\n",
       "      <td>192.037262</td>\n",
       "      <td>1119.970215</td>\n",
       "      <td>967.867800</td>\n",
       "      <td>5644.649883</td>\n",
       "      <td>1.0</td>\n",
       "      <td>1.0</td>\n",
       "      <td>1.0</td>\n",
       "      <td>22540.0</td>\n",
       "      <td>386.260651</td>\n",
       "      <td>...</td>\n",
       "      <td>0.0</td>\n",
       "      <td>WT</td>\n",
       "      <td>RIF</td>\n",
       "      <td>EC50</td>\n",
       "      <td>663</td>\n",
       "      <td>(3, 7)</td>\n",
       "      <td>663.3.7</td>\n",
       "      <td>0.131769</td>\n",
       "      <td>1</td>\n",
       "      <td>https://macrohet.s3.eu-west-2.amazonaws.com/dM...</td>\n",
       "    </tr>\n",
       "    <tr>\n",
       "      <th>105709</th>\n",
       "      <td>2</td>\n",
       "      <td>560.839600</td>\n",
       "      <td>7.946970</td>\n",
       "      <td>2826.631582</td>\n",
       "      <td>40.052726</td>\n",
       "      <td>1.0</td>\n",
       "      <td>1.0</td>\n",
       "      <td>1.0</td>\n",
       "      <td>6695.0</td>\n",
       "      <td>376.501404</td>\n",
       "      <td>...</td>\n",
       "      <td>0.0</td>\n",
       "      <td>WT</td>\n",
       "      <td>RIF</td>\n",
       "      <td>EC50</td>\n",
       "      <td>823</td>\n",
       "      <td>(3, 7)</td>\n",
       "      <td>823.3.7</td>\n",
       "      <td>0.058769</td>\n",
       "      <td>1</td>\n",
       "      <td>https://macrohet.s3.eu-west-2.amazonaws.com/dM...</td>\n",
       "    </tr>\n",
       "    <tr>\n",
       "      <th>107183</th>\n",
       "      <td>3</td>\n",
       "      <td>159.784592</td>\n",
       "      <td>967.987671</td>\n",
       "      <td>805.314342</td>\n",
       "      <td>4878.657861</td>\n",
       "      <td>1.0</td>\n",
       "      <td>1.0</td>\n",
       "      <td>0.0</td>\n",
       "      <td>26761.0</td>\n",
       "      <td>374.678711</td>\n",
       "      <td>...</td>\n",
       "      <td>0.0</td>\n",
       "      <td>WT</td>\n",
       "      <td>RIF</td>\n",
       "      <td>EC50</td>\n",
       "      <td>905</td>\n",
       "      <td>(3, 7)</td>\n",
       "      <td>905.3.7</td>\n",
       "      <td>-0.253604</td>\n",
       "      <td>1</td>\n",
       "      <td>https://macrohet.s3.eu-west-2.amazonaws.com/dM...</td>\n",
       "    </tr>\n",
       "    <tr>\n",
       "      <th>107326</th>\n",
       "      <td>3</td>\n",
       "      <td>914.405579</td>\n",
       "      <td>1185.002197</td>\n",
       "      <td>4608.604116</td>\n",
       "      <td>5972.411074</td>\n",
       "      <td>0.0</td>\n",
       "      <td>0.0</td>\n",
       "      <td>1.0</td>\n",
       "      <td>24706.0</td>\n",
       "      <td>365.601135</td>\n",
       "      <td>...</td>\n",
       "      <td>0.0</td>\n",
       "      <td>WT</td>\n",
       "      <td>RIF</td>\n",
       "      <td>EC50</td>\n",
       "      <td>892</td>\n",
       "      <td>(3, 7)</td>\n",
       "      <td>892.3.7</td>\n",
       "      <td>0.113735</td>\n",
       "      <td>1</td>\n",
       "      <td>https://macrohet.s3.eu-west-2.amazonaws.com/dM...</td>\n",
       "    </tr>\n",
       "    <tr>\n",
       "      <th>107714</th>\n",
       "      <td>4</td>\n",
       "      <td>82.099808</td>\n",
       "      <td>729.160828</td>\n",
       "      <td>413.783031</td>\n",
       "      <td>3674.970571</td>\n",
       "      <td>0.0</td>\n",
       "      <td>0.0</td>\n",
       "      <td>1.0</td>\n",
       "      <td>54888.0</td>\n",
       "      <td>362.935699</td>\n",
       "      <td>...</td>\n",
       "      <td>0.0</td>\n",
       "      <td>WT</td>\n",
       "      <td>RIF</td>\n",
       "      <td>EC50</td>\n",
       "      <td>957</td>\n",
       "      <td>(3, 7)</td>\n",
       "      <td>957.3.7</td>\n",
       "      <td>0.095649</td>\n",
       "      <td>1</td>\n",
       "      <td>https://macrohet.s3.eu-west-2.amazonaws.com/dM...</td>\n",
       "    </tr>\n",
       "    <tr>\n",
       "      <th>109356</th>\n",
       "      <td>9</td>\n",
       "      <td>474.216278</td>\n",
       "      <td>513.809631</td>\n",
       "      <td>2390.050042</td>\n",
       "      <td>2589.600542</td>\n",
       "      <td>1.0</td>\n",
       "      <td>1.0</td>\n",
       "      <td>0.0</td>\n",
       "      <td>5971.0</td>\n",
       "      <td>371.783783</td>\n",
       "      <td>...</td>\n",
       "      <td>0.0</td>\n",
       "      <td>WT</td>\n",
       "      <td>RIF</td>\n",
       "      <td>EC50</td>\n",
       "      <td>1355</td>\n",
       "      <td>(3, 7)</td>\n",
       "      <td>1355.3.7</td>\n",
       "      <td>0.125363</td>\n",
       "      <td>1</td>\n",
       "      <td>https://macrohet.s3.eu-west-2.amazonaws.com/dM...</td>\n",
       "    </tr>\n",
       "    <tr>\n",
       "      <th>109487</th>\n",
       "      <td>9</td>\n",
       "      <td>544.131104</td>\n",
       "      <td>564.159058</td>\n",
       "      <td>2742.420762</td>\n",
       "      <td>2843.361650</td>\n",
       "      <td>0.0</td>\n",
       "      <td>0.0</td>\n",
       "      <td>1.0</td>\n",
       "      <td>12190.0</td>\n",
       "      <td>383.814026</td>\n",
       "      <td>...</td>\n",
       "      <td>0.0</td>\n",
       "      <td>WT</td>\n",
       "      <td>RIF</td>\n",
       "      <td>EC50</td>\n",
       "      <td>1365</td>\n",
       "      <td>(3, 7)</td>\n",
       "      <td>1365.3.7</td>\n",
       "      <td>0.068899</td>\n",
       "      <td>1</td>\n",
       "      <td>https://macrohet.s3.eu-west-2.amazonaws.com/dM...</td>\n",
       "    </tr>\n",
       "    <tr>\n",
       "      <th>109879</th>\n",
       "      <td>9</td>\n",
       "      <td>311.858917</td>\n",
       "      <td>650.770935</td>\n",
       "      <td>1571.768943</td>\n",
       "      <td>3279.885513</td>\n",
       "      <td>0.0</td>\n",
       "      <td>0.0</td>\n",
       "      <td>0.0</td>\n",
       "      <td>8982.0</td>\n",
       "      <td>387.711304</td>\n",
       "      <td>...</td>\n",
       "      <td>0.0</td>\n",
       "      <td>WT</td>\n",
       "      <td>RIF</td>\n",
       "      <td>EC50</td>\n",
       "      <td>1318</td>\n",
       "      <td>(3, 7)</td>\n",
       "      <td>1318.3.7</td>\n",
       "      <td>0.056486</td>\n",
       "      <td>1</td>\n",
       "      <td>https://macrohet.s3.eu-west-2.amazonaws.com/dM...</td>\n",
       "    </tr>\n",
       "    <tr>\n",
       "      <th>112767</th>\n",
       "      <td>17</td>\n",
       "      <td>168.393723</td>\n",
       "      <td>920.743774</td>\n",
       "      <td>848.704362</td>\n",
       "      <td>4640.548623</td>\n",
       "      <td>1.0</td>\n",
       "      <td>1.0</td>\n",
       "      <td>1.0</td>\n",
       "      <td>26056.0</td>\n",
       "      <td>439.257111</td>\n",
       "      <td>...</td>\n",
       "      <td>0.0</td>\n",
       "      <td>WT</td>\n",
       "      <td>RIF</td>\n",
       "      <td>EC50</td>\n",
       "      <td>1819</td>\n",
       "      <td>(3, 7)</td>\n",
       "      <td>1819.3.7</td>\n",
       "      <td>-0.064045</td>\n",
       "      <td>1</td>\n",
       "      <td>https://macrohet.s3.eu-west-2.amazonaws.com/dM...</td>\n",
       "    </tr>\n",
       "    <tr>\n",
       "      <th>113351</th>\n",
       "      <td>20</td>\n",
       "      <td>422.093933</td>\n",
       "      <td>1004.955811</td>\n",
       "      <td>2127.353423</td>\n",
       "      <td>5064.977285</td>\n",
       "      <td>0.0</td>\n",
       "      <td>0.0</td>\n",
       "      <td>1.0</td>\n",
       "      <td>31992.0</td>\n",
       "      <td>352.935455</td>\n",
       "      <td>...</td>\n",
       "      <td>0.0</td>\n",
       "      <td>WT</td>\n",
       "      <td>RIF</td>\n",
       "      <td>EC50</td>\n",
       "      <td>2000</td>\n",
       "      <td>(3, 7)</td>\n",
       "      <td>2000.3.7</td>\n",
       "      <td>0.115548</td>\n",
       "      <td>1</td>\n",
       "      <td>https://macrohet.s3.eu-west-2.amazonaws.com/dM...</td>\n",
       "    </tr>\n",
       "    <tr>\n",
       "      <th>113568</th>\n",
       "      <td>21</td>\n",
       "      <td>1046.560303</td>\n",
       "      <td>932.450500</td>\n",
       "      <td>5274.663926</td>\n",
       "      <td>4699.550522</td>\n",
       "      <td>0.0</td>\n",
       "      <td>0.0</td>\n",
       "      <td>0.0</td>\n",
       "      <td>27952.0</td>\n",
       "      <td>377.156891</td>\n",
       "      <td>...</td>\n",
       "      <td>0.0</td>\n",
       "      <td>WT</td>\n",
       "      <td>RIF</td>\n",
       "      <td>EC50</td>\n",
       "      <td>2057</td>\n",
       "      <td>(3, 7)</td>\n",
       "      <td>2057.3.7</td>\n",
       "      <td>0.505540</td>\n",
       "      <td>1</td>\n",
       "      <td>https://macrohet.s3.eu-west-2.amazonaws.com/dM...</td>\n",
       "    </tr>\n",
       "    <tr>\n",
       "      <th>113771</th>\n",
       "      <td>22</td>\n",
       "      <td>542.890320</td>\n",
       "      <td>665.616882</td>\n",
       "      <td>2736.167212</td>\n",
       "      <td>3354.709087</td>\n",
       "      <td>0.0</td>\n",
       "      <td>0.0</td>\n",
       "      <td>1.0</td>\n",
       "      <td>74639.0</td>\n",
       "      <td>374.390930</td>\n",
       "      <td>...</td>\n",
       "      <td>0.0</td>\n",
       "      <td>WT</td>\n",
       "      <td>RIF</td>\n",
       "      <td>EC50</td>\n",
       "      <td>2088</td>\n",
       "      <td>(3, 7)</td>\n",
       "      <td>2088.3.7</td>\n",
       "      <td>0.059155</td>\n",
       "      <td>1</td>\n",
       "      <td>https://macrohet.s3.eu-west-2.amazonaws.com/dM...</td>\n",
       "    </tr>\n",
       "    <tr>\n",
       "      <th>114179</th>\n",
       "      <td>23</td>\n",
       "      <td>875.904602</td>\n",
       "      <td>1194.793457</td>\n",
       "      <td>4414.559194</td>\n",
       "      <td>6021.759023</td>\n",
       "      <td>0.0</td>\n",
       "      <td>0.0</td>\n",
       "      <td>1.0</td>\n",
       "      <td>4674.0</td>\n",
       "      <td>357.836548</td>\n",
       "      <td>...</td>\n",
       "      <td>0.0</td>\n",
       "      <td>WT</td>\n",
       "      <td>RIF</td>\n",
       "      <td>EC50</td>\n",
       "      <td>2160</td>\n",
       "      <td>(3, 7)</td>\n",
       "      <td>2160.3.7</td>\n",
       "      <td>0.062524</td>\n",
       "      <td>1</td>\n",
       "      <td>https://macrohet.s3.eu-west-2.amazonaws.com/dM...</td>\n",
       "    </tr>\n",
       "  </tbody>\n",
       "</table>\n",
       "<p>20 rows × 31 columns</p>\n",
       "</div>"
      ],
      "text/plain": [
       "        Time (hours)            x            y     x scaled     y scaled  \\\n",
       "90597              0   990.390564   251.635727  4991.568442  1268.244064   \n",
       "94861              0   852.202881   624.776123  4295.102520  3148.871660   \n",
       "97336              0   702.944031  1138.155518  3542.837915  5736.303809   \n",
       "99680              0  1081.588867   903.161987  5451.207891  4551.936416   \n",
       "101552             0   867.750305  1033.468994  4373.461538  5208.683730   \n",
       "103221             0  1078.560425  1139.710327  5435.944541  5744.140049   \n",
       "103266             0   241.929916  1146.574219  1219.326779  5778.734062   \n",
       "105468             1   192.037262  1119.970215   967.867800  5644.649883   \n",
       "105709             2   560.839600     7.946970  2826.631582    40.052726   \n",
       "107183             3   159.784592   967.987671   805.314342  4878.657861   \n",
       "107326             3   914.405579  1185.002197  4608.604116  5972.411074   \n",
       "107714             4    82.099808   729.160828   413.783031  3674.970571   \n",
       "109356             9   474.216278   513.809631  2390.050042  2589.600542   \n",
       "109487             9   544.131104   564.159058  2742.420762  2843.361650   \n",
       "109879             9   311.858917   650.770935  1571.768943  3279.885513   \n",
       "112767            17   168.393723   920.743774   848.704362  4640.548623   \n",
       "113351            20   422.093933  1004.955811  2127.353423  5064.977285   \n",
       "113568            21  1046.560303   932.450500  5274.663926  4699.550522   \n",
       "113771            22   542.890320   665.616882  2736.167212  3354.709087   \n",
       "114179            23   875.904602  1194.793457  4414.559194  6021.759023   \n",
       "\n",
       "        Infection status  Initial infection status  Final infection status  \\\n",
       "90597                1.0                       1.0                     1.0   \n",
       "94861                1.0                       1.0                     1.0   \n",
       "97336                1.0                       1.0                     1.0   \n",
       "99680                1.0                       1.0                     1.0   \n",
       "101552               0.0                       0.0                     1.0   \n",
       "103221               0.0                       0.0                     1.0   \n",
       "103266               0.0                       0.0                     1.0   \n",
       "105468               1.0                       1.0                     1.0   \n",
       "105709               1.0                       1.0                     1.0   \n",
       "107183               1.0                       1.0                     0.0   \n",
       "107326               0.0                       0.0                     1.0   \n",
       "107714               0.0                       0.0                     1.0   \n",
       "109356               1.0                       1.0                     0.0   \n",
       "109487               0.0                       0.0                     1.0   \n",
       "109879               0.0                       0.0                     0.0   \n",
       "112767               1.0                       1.0                     1.0   \n",
       "113351               0.0                       0.0                     1.0   \n",
       "113568               0.0                       0.0                     0.0   \n",
       "113771               0.0                       0.0                     1.0   \n",
       "114179               0.0                       0.0                     1.0   \n",
       "\n",
       "           Area  Intracellular mean Mtb content  ...  MSD  Strain  Compound  \\\n",
       "90597   48818.0                      523.048645  ...  0.0      WT       RIF   \n",
       "94861   16546.0                      563.117798  ...  0.0      WT       RIF   \n",
       "97336   30848.0                      528.072083  ...  0.0      WT       RIF   \n",
       "99680   13003.0                      527.924194  ...  0.0      WT       RIF   \n",
       "101552  32615.0                      371.332214  ...  0.0      WT       RIF   \n",
       "103221  19498.0                      365.487946  ...  0.0      WT       RIF   \n",
       "103266  70491.0                      372.541199  ...  0.0      WT       RIF   \n",
       "105468  22540.0                      386.260651  ...  0.0      WT       RIF   \n",
       "105709   6695.0                      376.501404  ...  0.0      WT       RIF   \n",
       "107183  26761.0                      374.678711  ...  0.0      WT       RIF   \n",
       "107326  24706.0                      365.601135  ...  0.0      WT       RIF   \n",
       "107714  54888.0                      362.935699  ...  0.0      WT       RIF   \n",
       "109356   5971.0                      371.783783  ...  0.0      WT       RIF   \n",
       "109487  12190.0                      383.814026  ...  0.0      WT       RIF   \n",
       "109879   8982.0                      387.711304  ...  0.0      WT       RIF   \n",
       "112767  26056.0                      439.257111  ...  0.0      WT       RIF   \n",
       "113351  31992.0                      352.935455  ...  0.0      WT       RIF   \n",
       "113568  27952.0                      377.156891  ...  0.0      WT       RIF   \n",
       "113771  74639.0                      374.390930  ...  0.0      WT       RIF   \n",
       "114179   4674.0                      357.836548  ...  0.0      WT       RIF   \n",
       "\n",
       "        Concentration  Cell ID  Acquisition ID  Unique ID      dMtb  \\\n",
       "90597            EC50      338          (3, 7)    338.3.7 -0.133241   \n",
       "94861            EC50      525          (3, 7)    525.3.7 -0.082176   \n",
       "97336            EC50      160          (3, 7)    160.3.7 -0.344935   \n",
       "99680            EC50       43          (3, 7)     43.3.7  0.061996   \n",
       "101552           EC50      305          (3, 7)    305.3.7  0.691282   \n",
       "103221           EC50      176          (3, 7)    176.3.7  0.089430   \n",
       "103266           EC50      178          (3, 7)    178.3.7  0.072925   \n",
       "105468           EC50      663          (3, 7)    663.3.7  0.131769   \n",
       "105709           EC50      823          (3, 7)    823.3.7  0.058769   \n",
       "107183           EC50      905          (3, 7)    905.3.7 -0.253604   \n",
       "107326           EC50      892          (3, 7)    892.3.7  0.113735   \n",
       "107714           EC50      957          (3, 7)    957.3.7  0.095649   \n",
       "109356           EC50     1355          (3, 7)   1355.3.7  0.125363   \n",
       "109487           EC50     1365          (3, 7)   1365.3.7  0.068899   \n",
       "109879           EC50     1318          (3, 7)   1318.3.7  0.056486   \n",
       "112767           EC50     1819          (3, 7)   1819.3.7 -0.064045   \n",
       "113351           EC50     2000          (3, 7)   2000.3.7  0.115548   \n",
       "113568           EC50     2057          (3, 7)   2057.3.7  0.505540   \n",
       "113771           EC50     2088          (3, 7)   2088.3.7  0.059155   \n",
       "114179           EC50     2160          (3, 7)   2160.3.7  0.062524   \n",
       "\n",
       "        Technical replicate                                        glimpse_url  \n",
       "90597                     1  https://macrohet.s3.eu-west-2.amazonaws.com/dM...  \n",
       "94861                     1  https://macrohet.s3.eu-west-2.amazonaws.com/dM...  \n",
       "97336                     1  https://macrohet.s3.eu-west-2.amazonaws.com/dM...  \n",
       "99680                     1  https://macrohet.s3.eu-west-2.amazonaws.com/dM...  \n",
       "101552                    1  https://macrohet.s3.eu-west-2.amazonaws.com/dM...  \n",
       "103221                    1  https://macrohet.s3.eu-west-2.amazonaws.com/dM...  \n",
       "103266                    1  https://macrohet.s3.eu-west-2.amazonaws.com/dM...  \n",
       "105468                    1  https://macrohet.s3.eu-west-2.amazonaws.com/dM...  \n",
       "105709                    1  https://macrohet.s3.eu-west-2.amazonaws.com/dM...  \n",
       "107183                    1  https://macrohet.s3.eu-west-2.amazonaws.com/dM...  \n",
       "107326                    1  https://macrohet.s3.eu-west-2.amazonaws.com/dM...  \n",
       "107714                    1  https://macrohet.s3.eu-west-2.amazonaws.com/dM...  \n",
       "109356                    1  https://macrohet.s3.eu-west-2.amazonaws.com/dM...  \n",
       "109487                    1  https://macrohet.s3.eu-west-2.amazonaws.com/dM...  \n",
       "109879                    1  https://macrohet.s3.eu-west-2.amazonaws.com/dM...  \n",
       "112767                    1  https://macrohet.s3.eu-west-2.amazonaws.com/dM...  \n",
       "113351                    1  https://macrohet.s3.eu-west-2.amazonaws.com/dM...  \n",
       "113568                    1  https://macrohet.s3.eu-west-2.amazonaws.com/dM...  \n",
       "113771                    1  https://macrohet.s3.eu-west-2.amazonaws.com/dM...  \n",
       "114179                    1  https://macrohet.s3.eu-west-2.amazonaws.com/dM...  \n",
       "\n",
       "[20 rows x 31 columns]"
      ]
     },
     "execution_count": 635,
     "metadata": {},
     "output_type": "execute_result"
    }
   ],
   "source": [
    "outlier_df"
   ]
  },
  {
   "cell_type": "code",
   "execution_count": 693,
   "id": "085ddea8",
   "metadata": {
    "scrolled": false
   },
   "outputs": [
    {
     "data": {
      "text/html": [
       "\n",
       "  <div class=\"bk-root\" id=\"3d5ecc07-4d9d-44c5-9152-154ffe59cff0\" data-root-id=\"618968\"></div>\n"
      ]
     },
     "metadata": {},
     "output_type": "display_data"
    },
    {
     "data": {
      "application/javascript": [
       "(function(root) {\n",
       "  function embed_document(root) {\n",
       "  const docs_json = {\"3efb2bde-e7cd-47d6-8772-e66a98b46d8b\":{\"defs\":[],\"roots\":{\"references\":[{\"attributes\":{\"children\":[{\"id\":\"618967\"},{\"id\":\"618965\"}]},\"id\":\"618968\",\"type\":\"Column\"},{\"attributes\":{\"fill_alpha\":{\"value\":0.9},\"fill_color\":{\"value\":\"#1a9641\"},\"hatch_alpha\":{\"value\":0.9},\"hatch_color\":{\"value\":\"#1a9641\"},\"line_alpha\":{\"value\":0.9},\"size\":{\"value\":20},\"x\":{\"field\":\"x\"},\"y\":{\"field\":\"y\"}},\"id\":\"618848\",\"type\":\"Scatter\"},{\"attributes\":{\"source\":{\"id\":\"618846\"}},\"id\":\"618852\",\"type\":\"CDSView\"},{\"attributes\":{\"bottom\":{\"value\":0.9},\"fill_alpha\":{\"value\":0.9},\"fill_color\":{\"value\":\"#f1b6da\"},\"hatch_alpha\":{\"value\":0.9},\"left\":{\"field\":\"left\"},\"line_alpha\":{\"value\":0.9},\"line_width\":{\"value\":2},\"right\":{\"field\":\"right\"},\"top\":{\"field\":\"hist\"}},\"id\":\"618880\",\"type\":\"Quad\"},{\"attributes\":{\"fill_alpha\":{\"value\":0.1},\"fill_color\":{\"value\":\"#1a9641\"},\"hatch_alpha\":{\"value\":0.1},\"hatch_color\":{\"value\":\"#1a9641\"},\"line_alpha\":{\"value\":0.1},\"size\":{\"value\":20},\"x\":{\"field\":\"x\"},\"y\":{\"field\":\"y\"}},\"id\":\"618849\",\"type\":\"Scatter\"},{\"attributes\":{},\"id\":\"618761\",\"type\":\"ResetTool\"},{\"attributes\":{\"fill_alpha\":{\"value\":0.1},\"fill_color\":{\"value\":\"#a6d96a\"},\"hatch_alpha\":{\"value\":0.1},\"hatch_color\":{\"value\":\"#a6d96a\"},\"line_alpha\":{\"value\":0.1},\"size\":{\"value\":20},\"x\":{\"field\":\"x\"},\"y\":{\"field\":\"y\"}},\"id\":\"618874\",\"type\":\"Scatter\"},{\"attributes\":{},\"id\":\"618957\",\"type\":\"UnionRenderers\"},{\"attributes\":{},\"id\":\"618958\",\"type\":\"Selection\"},{\"attributes\":{\"coordinates\":null,\"data_source\":{\"id\":\"618846\"},\"glyph\":{\"id\":\"618848\"},\"group\":null,\"hover_glyph\":null,\"muted_glyph\":{\"id\":\"618850\"},\"nonselection_glyph\":{\"id\":\"618849\"},\"view\":{\"id\":\"618852\"}},\"id\":\"618851\",\"type\":\"GlyphRenderer\"},{\"attributes\":{\"fill_alpha\":{\"value\":0.1},\"fill_color\":{\"value\":\"#1a9641\"},\"hatch_alpha\":{\"value\":0.1},\"hatch_color\":{\"value\":\"#1a9641\"},\"line_alpha\":{\"value\":0.1},\"line_color\":{\"value\":\"#1a9641\"},\"size\":{\"value\":20},\"x\":{\"field\":\"x\"},\"y\":{\"field\":\"y\"}},\"id\":\"618850\",\"type\":\"Scatter\"},{\"attributes\":{},\"id\":\"618868\",\"type\":\"Selection\"},{\"attributes\":{\"data\":{\"center\":{\"__ndarray__\":\"I2ir7N0A1L8hxxYakLfPv/y91lpkbce/rWktN3FGvr/IrlpxM2SrvzDXlS7uEYc/Ms1SRJV2sz++b2lhdgXCP+J4qSCiT8o/A8H07+ZM0T+WxZTP/HHVPynKNK8Sl9k/u87Ujii83T+naTo3n/DgP/BrCicqA+M/Om7aFrUV5T8=\",\"dtype\":\"float64\",\"order\":\"little\",\"shape\":[16]},\"hist\":[1,1,0,1,6,375,12,4,0,0,0,0,0,1,0,1],\"left\":{\"__ndarray__\":\"bGp73GgT1r/aZdv8Uu7Rv47Cdjp6ksu/abk2e05Iw7+IYO13Rfy1vwA5teW3n5W/GIglCtNYpj9Y1pIDwcC7P1B0CUGMKsY/dH1JALh0zj9Mw8TfcV/TP+DHZL+HhNc/cswEn52p2z8E0aR+s87fP8xqIq/k+eE/FW3ynm8M5D8=\",\"dtype\":\"float64\",\"order\":\"little\",\"shape\":[16]},\"right\":{\"__ndarray__\":\"2mXb/FLu0b+OwnY6epLLv2m5NntOSMO/iGDtd0X8tb8AObXlt5+VvxiIJQrTWKY/WNaSA8HAuz9QdAlBjCrGP3R9SQC4dM4/TMPE33Ff0z/gx2S/h4TXP3LMBJ+dqds/BNGkfrPO3z/MaiKv5PnhPxVt8p5vDOQ/Xm/Cjvoe5j8=\",\"dtype\":\"float64\",\"order\":\"little\",\"shape\":[16]}},\"selected\":{\"id\":\"618924\"},\"selection_policy\":{\"id\":\"618923\"}},\"id\":\"618905\",\"type\":\"ColumnDataSource\"},{\"attributes\":{\"source\":{\"id\":\"618878\"}},\"id\":\"618884\",\"type\":\"CDSView\"},{\"attributes\":{},\"id\":\"618867\",\"type\":\"UnionRenderers\"},{\"attributes\":{},\"id\":\"618959\",\"type\":\"UnionRenderers\"},{\"attributes\":{\"bottom\":{\"value\":0.9},\"fill_alpha\":{\"value\":0.1},\"fill_color\":{\"value\":\"#a6d96a\"},\"hatch_alpha\":{\"value\":0.1},\"hatch_color\":{\"value\":\"#a6d96a\"},\"left\":{\"field\":\"left\"},\"line_alpha\":{\"value\":0.1},\"line_color\":{\"value\":\"#a6d96a\"},\"line_width\":{\"value\":2},\"right\":{\"field\":\"right\"},\"top\":{\"field\":\"hist\"}},\"id\":\"618857\",\"type\":\"Quad\"},{\"attributes\":{},\"id\":\"618960\",\"type\":\"Selection\"},{\"attributes\":{\"toolbar\":{\"id\":\"618966\"},\"toolbar_location\":\"above\"},\"id\":\"618967\",\"type\":\"ToolbarBox\"},{\"attributes\":{\"label\":{\"value\":\"WT, INH, EC50\"},\"renderers\":[{\"id\":\"618858\"}]},\"id\":\"618870\",\"type\":\"LegendItem\"},{\"attributes\":{\"bottom\":{\"value\":0.9},\"fill_alpha\":{\"value\":0.1},\"fill_color\":{\"value\":\"#f1b6da\"},\"hatch_alpha\":{\"value\":0.1},\"left\":{\"field\":\"left\"},\"line_alpha\":{\"value\":0.1},\"line_width\":{\"value\":2},\"right\":{\"field\":\"right\"},\"top\":{\"field\":\"hist\"}},\"id\":\"618881\",\"type\":\"Quad\"},{\"attributes\":{},\"id\":\"618758\",\"type\":\"SaveTool\"},{\"attributes\":{},\"id\":\"618757\",\"type\":\"CrosshairTool\"},{\"attributes\":{\"axis_label\":\"Frequency\",\"coordinates\":null,\"formatter\":{\"id\":\"618783\"},\"group\":null,\"major_label_policy\":{\"id\":\"618774\"},\"ticker\":{\"id\":\"618781\"}},\"id\":\"618753\",\"type\":\"LogAxis\"},{\"attributes\":{},\"id\":\"618745\",\"type\":\"LinearScale\"},{\"attributes\":{\"coordinates\":null,\"data_source\":{\"id\":\"618853\"},\"glyph\":{\"id\":\"618855\"},\"group\":null,\"hover_glyph\":null,\"muted_glyph\":{\"id\":\"618857\"},\"nonselection_glyph\":{\"id\":\"618856\"},\"view\":{\"id\":\"618859\"}},\"id\":\"618858\",\"type\":\"GlyphRenderer\"},{\"attributes\":{\"bottom_units\":\"screen\",\"coordinates\":null,\"fill_alpha\":0.5,\"fill_color\":\"lightgrey\",\"group\":null,\"left_units\":\"screen\",\"level\":\"overlay\",\"line_alpha\":1.0,\"line_color\":\"black\",\"line_dash\":[4,4],\"line_width\":2,\"right_units\":\"screen\",\"syncable\":false,\"top_units\":\"screen\"},\"id\":\"618807\",\"type\":\"BoxAnnotation\"},{\"attributes\":{},\"id\":\"618747\",\"type\":\"LogScale\"},{\"attributes\":{\"axis\":{\"id\":\"618753\"},\"coordinates\":null,\"dimension\":1,\"group\":null,\"ticker\":null},\"id\":\"618756\",\"type\":\"Grid\"},{\"attributes\":{\"source\":{\"id\":\"618853\"}},\"id\":\"618859\",\"type\":\"CDSView\"},{\"attributes\":{},\"id\":\"618743\",\"type\":\"DataRange1d\"},{\"attributes\":{\"bottom\":{\"value\":0.9},\"fill_alpha\":{\"value\":0.1},\"fill_color\":{\"value\":\"#1a9641\"},\"hatch_alpha\":{\"value\":0.1},\"hatch_color\":{\"value\":\"#1a9641\"},\"left\":{\"field\":\"left\"},\"line_alpha\":{\"value\":0.1},\"line_color\":{\"value\":\"#1a9641\"},\"line_width\":{\"value\":2},\"right\":{\"field\":\"right\"},\"top\":{\"field\":\"hist\"}},\"id\":\"618833\",\"type\":\"Quad\"},{\"attributes\":{\"format\":\"0\"},\"id\":\"618783\",\"type\":\"NumeralTickFormatter\"},{\"attributes\":{\"data\":{\"center\":{\"__ndarray__\":\"wM9SGAxh/L9ewBARPFj4v/ywzglsT/S/mqGMApxG8L9wJJX2l3vov6wFEej3aeC/0M0Zs6+w0L8ACTLC8q2Bv4Ba7Q2hK88/yOr+oxC53z8olINgKO7nP+yyB2/I/+8/2OjFPrQI9D86+AdGhBH4P5wHSk1UGvw/fwtGKpIRAEA=\",\"dtype\":\"float64\",\"order\":\"little\",\"shape\":[16]},\"hist\":[1,0,0,0,0,0,0,451,8,1,2,0,0,1,0,1],\"left\":{\"__ndarray__\":\"cdfzG3Rl/r8PyLEUpFz6v624bw3UU/a/S6ktBgRL8r/SM9f9Z4Tsvw4VU+/HcuS/lOydwU/C2L8YXitJHz7Bv/A5yuHBEL4/BMx6lXCn1z/GhEFZWOXjP4qjxWf49us/J+EkO0wE8j+J8GZCHA32P+v/qEnsFfo/TQ/rULwe/j8=\",\"dtype\":\"float64\",\"order\":\"little\",\"shape\":[16]},\"right\":{\"__ndarray__\":\"D8ixFKRc+r+tuG8N1FP2v0upLQYES/K/0jPX/WeE7L8OFVPvx3Lkv5TsncFPwti/GF4rSR8+wb/wOcrhwRC+PwTMepVwp9c/xoRBWVjl4z+Ko8Vn+PbrPyfhJDtMBPI/ifBmQhwN9j/r/6hJ7BX6P00P61C8Hv4/V48WLMYTAUA=\",\"dtype\":\"float64\",\"order\":\"little\",\"shape\":[16]}},\"selected\":{\"id\":\"618868\"},\"selection_policy\":{\"id\":\"618867\"}},\"id\":\"618853\",\"type\":\"ColumnDataSource\"},{\"attributes\":{\"coordinates\":null,\"group\":null,\"text\":\"Histogram showing the distribution of the change in intracellular Mtb (\\u0394Mtb)\"},\"id\":\"618739\",\"type\":\"Title\"},{\"attributes\":{\"below\":[{\"id\":\"618793\"}],\"center\":[{\"id\":\"618796\"},{\"id\":\"618800\"}],\"height\":200,\"left\":[{\"id\":\"618797\"}],\"renderers\":[{\"id\":\"618851\"},{\"id\":\"618876\"},{\"id\":\"618903\"},{\"id\":\"618932\"}],\"title\":{\"id\":\"618819\"},\"toolbar\":{\"id\":\"618808\"},\"toolbar_location\":null,\"x_range\":{\"id\":\"618780\"},\"x_scale\":{\"id\":\"618789\"},\"y_range\":{\"id\":\"618787\"},\"y_scale\":{\"id\":\"618791\"}},\"id\":\"618785\",\"subtype\":\"Figure\",\"type\":\"Plot\"},{\"attributes\":{\"children\":[[{\"id\":\"618738\"},0,0],[{\"id\":\"618785\"},1,0]]},\"id\":\"618965\",\"type\":\"GridBox\"},{\"attributes\":{\"bottom\":{\"value\":0.9},\"fill_alpha\":{\"value\":0.1},\"fill_color\":{\"value\":\"#1a9641\"},\"hatch_alpha\":{\"value\":0.1},\"left\":{\"field\":\"left\"},\"line_alpha\":{\"value\":0.1},\"line_width\":{\"value\":2},\"right\":{\"field\":\"right\"},\"top\":{\"field\":\"hist\"}},\"id\":\"618832\",\"type\":\"Quad\"},{\"attributes\":{},\"id\":\"618961\",\"type\":\"UnionRenderers\"},{\"attributes\":{},\"id\":\"618962\",\"type\":\"Selection\"},{\"attributes\":{},\"id\":\"618750\",\"type\":\"BasicTicker\"},{\"attributes\":{\"format\":\"0\"},\"id\":\"618817\",\"type\":\"NumeralTickFormatter\"},{\"attributes\":{\"bottom\":{\"value\":0.9},\"fill_alpha\":{\"value\":0.1},\"fill_color\":{\"value\":\"#d02c91\"},\"hatch_alpha\":{\"value\":0.1},\"hatch_color\":{\"value\":\"#d02c91\"},\"left\":{\"field\":\"left\"},\"line_alpha\":{\"value\":0.1},\"line_color\":{\"value\":\"#d02c91\"},\"line_width\":{\"value\":2},\"right\":{\"field\":\"right\"},\"top\":{\"field\":\"hist\"}},\"id\":\"618909\",\"type\":\"Quad\"},{\"attributes\":{},\"id\":\"618759\",\"type\":\"PanTool\"},{\"attributes\":{\"bottom\":{\"value\":0.9},\"fill_alpha\":{\"value\":0.1},\"fill_color\":{\"value\":\"#f1b6da\"},\"hatch_alpha\":{\"value\":0.1},\"hatch_color\":{\"value\":\"#f1b6da\"},\"left\":{\"field\":\"left\"},\"line_alpha\":{\"value\":0.1},\"line_color\":{\"value\":\"#f1b6da\"},\"line_width\":{\"value\":2},\"right\":{\"field\":\"right\"},\"top\":{\"field\":\"hist\"}},\"id\":\"618882\",\"type\":\"Quad\"},{\"attributes\":{\"bottom\":{\"value\":0.9},\"fill_alpha\":{\"value\":0.1},\"fill_color\":{\"value\":\"#d02c91\"},\"hatch_alpha\":{\"value\":0.1},\"left\":{\"field\":\"left\"},\"line_alpha\":{\"value\":0.1},\"line_width\":{\"value\":2},\"right\":{\"field\":\"right\"},\"top\":{\"field\":\"hist\"}},\"id\":\"618908\",\"type\":\"Quad\"},{\"attributes\":{\"label\":{\"value\":\"WT, PZA, EC50\"},\"renderers\":[{\"id\":\"618883\"}]},\"id\":\"618897\",\"type\":\"LegendItem\"},{\"attributes\":{\"overlay\":{\"id\":\"618763\"}},\"id\":\"618760\",\"type\":\"BoxZoomTool\"},{\"attributes\":{\"coordinates\":null,\"data_source\":{\"id\":\"618878\"},\"glyph\":{\"id\":\"618880\"},\"group\":null,\"hover_glyph\":null,\"muted_glyph\":{\"id\":\"618882\"},\"nonselection_glyph\":{\"id\":\"618881\"},\"view\":{\"id\":\"618884\"}},\"id\":\"618883\",\"type\":\"GlyphRenderer\"},{\"attributes\":{\"below\":[{\"id\":\"618749\"}],\"center\":[{\"id\":\"618752\"},{\"id\":\"618756\"},{\"id\":\"618844\"}],\"left\":[{\"id\":\"618753\"}],\"renderers\":[{\"id\":\"618834\"},{\"id\":\"618858\"},{\"id\":\"618883\"},{\"id\":\"618910\"}],\"title\":{\"id\":\"618739\"},\"toolbar\":{\"id\":\"618764\"},\"toolbar_location\":null,\"x_range\":{\"id\":\"618780\"},\"x_scale\":{\"id\":\"618745\"},\"y_range\":{\"id\":\"618743\"},\"y_scale\":{\"id\":\"618747\"}},\"id\":\"618738\",\"subtype\":\"Figure\",\"type\":\"Plot\"},{\"attributes\":{},\"id\":\"618776\",\"type\":\"BasicTickFormatter\"},{\"attributes\":{\"axis\":{\"id\":\"618749\"},\"coordinates\":null,\"group\":null,\"ticker\":null},\"id\":\"618752\",\"type\":\"Grid\"},{\"attributes\":{\"start\":-1},\"id\":\"618780\",\"type\":\"Range1d\"},{\"attributes\":{\"coordinates\":null,\"formatter\":{\"id\":\"618776\"},\"group\":null,\"major_label_policy\":{\"id\":\"618777\"},\"ticker\":{\"id\":\"618750\"},\"visible\":false},\"id\":\"618749\",\"type\":\"LinearAxis\"},{\"attributes\":{\"fill_alpha\":{\"value\":0.1},\"fill_color\":{\"value\":\"#a6d96a\"},\"hatch_alpha\":{\"value\":0.1},\"hatch_color\":{\"value\":\"#a6d96a\"},\"line_alpha\":{\"value\":0.1},\"line_color\":{\"value\":\"#a6d96a\"},\"size\":{\"value\":20},\"x\":{\"field\":\"x\"},\"y\":{\"field\":\"y\"}},\"id\":\"618875\",\"type\":\"Scatter\"},{\"attributes\":{},\"id\":\"618777\",\"type\":\"AllLabels\"},{\"attributes\":{\"data\":{\"center\":{\"__ndarray__\":\"HMqiOrK8wb8YKBEQGI6tv4Cw0ZQxrZc/TGxx0qSduj88Ntef/qfHPynbOmuVANE/MxuKhist1j8+W9mhwVnbP6VNlN4rQ+A/qu077HbZ4j+wjeP5wW/lP7UtiwcNBug/u80yFVic6j/AbdoiozLtP8UNgjDuyO8/5tYUn5wv8T8=\",\"dtype\":\"float64\",\"order\":\"little\",\"shape\":[16]},\"hist\":[1,6,421,4,4,2,2,2,1,0,0,0,0,0,1,1],\"left\":{\"__ndarray__\":\"JwryVUjpxr8iFKc+OCC5v9hPqEV/t5G/NuzSm3hEsD8x9oeEaHvCP0d2JruU1Mw/LnvieOCW0z84uzGUdsPYP0T7gK8M8N0/qB1oZVGO4T+tvQ9znCTkP7Jdt4DnuuY/uP1ejjJR6T++nQacfefrP8I9rqnIfe4/5O6q2wmK8D8=\",\"dtype\":\"float64\",\"order\":\"little\",\"shape\":[16]},\"right\":{\"__ndarray__\":\"IhSnPjggub/YT6hFf7eRvzbs0pt4RLA/MfaHhGh7wj9Hdia7lNTMPy574njgltM/OLsxlHbD2D9E+4CvDPDdP6gdaGVRjuE/rb0Pc5wk5D+yXbeA57rmP7j9Xo4yUek/vp0GnH3n6z/CPa6pyH3uP+TuqtsJivA/575+Yi/V8T8=\",\"dtype\":\"float64\",\"order\":\"little\",\"shape\":[16]}},\"selected\":{\"id\":\"618842\"},\"selection_policy\":{\"id\":\"618841\"}},\"id\":\"618829\",\"type\":\"ColumnDataSource\"},{\"attributes\":{},\"id\":\"618823\",\"type\":\"BasicTickFormatter\"},{\"attributes\":{\"bottom\":{\"value\":0.9},\"fill_alpha\":{\"value\":0.9},\"fill_color\":{\"value\":\"#d02c91\"},\"hatch_alpha\":{\"value\":0.9},\"left\":{\"field\":\"left\"},\"line_alpha\":{\"value\":0.9},\"line_width\":{\"value\":2},\"right\":{\"field\":\"right\"},\"top\":{\"field\":\"hist\"}},\"id\":\"618907\",\"type\":\"Quad\"},{\"attributes\":{\"coordinates\":null,\"data_source\":{\"id\":\"618905\"},\"glyph\":{\"id\":\"618907\"},\"group\":null,\"hover_glyph\":null,\"muted_glyph\":{\"id\":\"618909\"},\"nonselection_glyph\":{\"id\":\"618908\"},\"view\":{\"id\":\"618911\"}},\"id\":\"618910\",\"type\":\"GlyphRenderer\"},{\"attributes\":{},\"id\":\"618842\",\"type\":\"Selection\"},{\"attributes\":{},\"id\":\"618841\",\"type\":\"UnionRenderers\"},{\"attributes\":{\"active_scroll\":{\"id\":\"618806\"},\"tools\":[{\"id\":\"618801\"},{\"id\":\"618802\"},{\"id\":\"618803\"},{\"id\":\"618804\"},{\"id\":\"618805\"},{\"id\":\"618806\"},{\"id\":\"618827\"}]},\"id\":\"618808\",\"type\":\"Toolbar\"},{\"attributes\":{\"bottom\":{\"value\":0.9},\"fill_alpha\":{\"value\":0.9},\"fill_color\":{\"value\":\"#1a9641\"},\"hatch_alpha\":{\"value\":0.9},\"left\":{\"field\":\"left\"},\"line_alpha\":{\"value\":0.9},\"line_width\":{\"value\":2},\"right\":{\"field\":\"right\"},\"top\":{\"field\":\"hist\"}},\"id\":\"618831\",\"type\":\"Quad\"},{\"attributes\":{\"ticks\":[1,10,100,1000]},\"id\":\"618781\",\"type\":\"FixedTicker\"},{\"attributes\":{},\"id\":\"618791\",\"type\":\"LinearScale\"},{\"attributes\":{\"coordinates\":null,\"data_source\":{\"id\":\"618871\"},\"glyph\":{\"id\":\"618873\"},\"group\":null,\"hover_glyph\":null,\"muted_glyph\":{\"id\":\"618875\"},\"nonselection_glyph\":{\"id\":\"618874\"},\"view\":{\"id\":\"618877\"}},\"id\":\"618876\",\"type\":\"GlyphRenderer\"},{\"attributes\":{\"source\":{\"id\":\"618905\"}},\"id\":\"618911\",\"type\":\"CDSView\"},{\"attributes\":{\"data\":{\"cell_ID\":{\"__ndarray__\":\"dAEAAFcCAABLAQAABwMAANQCAACJAwAARwMAAAcHAADeBwAAYAgAAJoIAAD1CQAA\",\"dtype\":\"int32\",\"order\":\"little\",\"shape\":[12]},\"compound\":[\"INH\",\"INH\",\"INH\",\"INH\",\"INH\",\"INH\",\"INH\",\"INH\",\"INH\",\"INH\",\"INH\",\"INH\"],\"concentration\":[\"EC50\",\"EC50\",\"EC50\",\"EC50\",\"EC50\",\"EC50\",\"EC50\",\"EC50\",\"EC50\",\"EC50\",\"EC50\",\"EC50\"],\"dMtb\":{\"__ndarray__\":\"wxasyuDy5D/0L2ti7qLHP0IHjUtMid0/ULJM/0to+D9XjxYsxhMBQEh+haHreck/iqMrwYmh6D9x1/MbdGX+v6W4YsijXtE/c9OIwFBdzT+plZM+1U7TPwSJjK1RJcw/\",\"dtype\":\"float64\",\"order\":\"little\",\"shape\":[12]},\"glimpse_url_t0\":[\"https://macrohet.s3.eu-west-2.amazonaws.com/dMtb/dMtb_glimpses/glimpse_372.3.8_t0.png\",\"https://macrohet.s3.eu-west-2.amazonaws.com/dMtb/dMtb_glimpses/glimpse_599.3.8_t0.png\",\"https://macrohet.s3.eu-west-2.amazonaws.com/dMtb/dMtb_glimpses/glimpse_331.3.8_t0.png\",\"https://macrohet.s3.eu-west-2.amazonaws.com/dMtb/dMtb_glimpses/glimpse_775.3.8_t1.png\",\"https://macrohet.s3.eu-west-2.amazonaws.com/dMtb/dMtb_glimpses/glimpse_724.3.8_t1.png\",\"https://macrohet.s3.eu-west-2.amazonaws.com/dMtb/dMtb_glimpses/glimpse_905.3.8_t2.png\",\"https://macrohet.s3.eu-west-2.amazonaws.com/dMtb/dMtb_glimpses/glimpse_839.3.8_t2.png\",\"https://macrohet.s3.eu-west-2.amazonaws.com/dMtb/dMtb_glimpses/glimpse_1799.3.8_t14.png\",\"https://macrohet.s3.eu-west-2.amazonaws.com/dMtb/dMtb_glimpses/glimpse_2014.3.8_t19.png\",\"https://macrohet.s3.eu-west-2.amazonaws.com/dMtb/dMtb_glimpses/glimpse_2144.3.8_t21.png\",\"https://macrohet.s3.eu-west-2.amazonaws.com/dMtb/dMtb_glimpses/glimpse_2202.3.8_t23.png\",\"https://macrohet.s3.eu-west-2.amazonaws.com/dMtb/dMtb_glimpses/glimpse_2549.3.8_t30.png\"],\"glimpse_url_tn\":[\"https://macrohet.s3.eu-west-2.amazonaws.com/dMtb/dMtb_glimpses/glimpse_372.3.8_t-1.png\",\"https://macrohet.s3.eu-west-2.amazonaws.com/dMtb/dMtb_glimpses/glimpse_599.3.8_t-1.png\",\"https://macrohet.s3.eu-west-2.amazonaws.com/dMtb/dMtb_glimpses/glimpse_331.3.8_t-1.png\",\"https://macrohet.s3.eu-west-2.amazonaws.com/dMtb/dMtb_glimpses/glimpse_775.3.8_t-1.png\",\"https://macrohet.s3.eu-west-2.amazonaws.com/dMtb/dMtb_glimpses/glimpse_724.3.8_t-1.png\",\"https://macrohet.s3.eu-west-2.amazonaws.com/dMtb/dMtb_glimpses/glimpse_905.3.8_t-1.png\",\"https://macrohet.s3.eu-west-2.amazonaws.com/dMtb/dMtb_glimpses/glimpse_839.3.8_t-1.png\",\"https://macrohet.s3.eu-west-2.amazonaws.com/dMtb/dMtb_glimpses/glimpse_1799.3.8_t-1.png\",\"https://macrohet.s3.eu-west-2.amazonaws.com/dMtb/dMtb_glimpses/glimpse_2014.3.8_t-1.png\",\"https://macrohet.s3.eu-west-2.amazonaws.com/dMtb/dMtb_glimpses/glimpse_2144.3.8_t-1.png\",\"https://macrohet.s3.eu-west-2.amazonaws.com/dMtb/dMtb_glimpses/glimpse_2202.3.8_t-1.png\",\"https://macrohet.s3.eu-west-2.amazonaws.com/dMtb/dMtb_glimpses/glimpse_2549.3.8_t-1.png\"],\"strain\":[\"WT\",\"WT\",\"WT\",\"WT\",\"WT\",\"WT\",\"WT\",\"WT\",\"WT\",\"WT\",\"WT\",\"WT\"],\"tech_rep\":[1,1,1,1,1,1,1,1,1,1,1,1],\"x\":{\"__ndarray__\":\"wxasyuDy5D/0L2ti7qLHP0IHjUtMid0/ULJM/0to+D9XjxYsxhMBQEh+haHreck/iqMrwYmh6D9x1/MbdGX+v6W4YsijXtE/c9OIwFBdzT+plZM+1U7TPwSJjK1RJcw/\",\"dtype\":\"float64\",\"order\":\"little\",\"shape\":[12]},\"y\":{\"__ndarray__\":\"7bsi+N9Kzj8jERrBxvXPP/5IERlW8dA/mpMXmYBf0T8HCObo8XvRP1FpxMw+j9E/vt2SHLCr0T9vD0JAvoTSP6ncRC3NrdI/8N3mjZPC0j8+esN95NbSP9ZSQNr/ANM/\",\"dtype\":\"float64\",\"order\":\"little\",\"shape\":[12]}},\"name\":\"WT, INH, EC50\",\"selected\":{\"id\":\"618958\"},\"selection_policy\":{\"id\":\"618957\"}},\"id\":\"618871\",\"type\":\"ColumnDataSource\"},{\"attributes\":{},\"id\":\"618821\",\"type\":\"AllLabels\"},{\"attributes\":{\"axis\":{\"id\":\"618793\"},\"coordinates\":null,\"group\":null,\"ticker\":null},\"id\":\"618796\",\"type\":\"Grid\"},{\"attributes\":{\"data\":{\"cell_ID\":{\"__ndarray__\":\"QwEAACsBAAClAAAAqQAAAOYEAADjBAAA8wcAAHAJAAA=\",\"dtype\":\"int32\",\"order\":\"little\",\"shape\":[8]},\"compound\":[\"PZA\",\"PZA\",\"PZA\",\"PZA\",\"PZA\",\"PZA\",\"PZA\",\"PZA\"],\"concentration\":[\"EC50\",\"EC50\",\"EC50\",\"EC50\",\"EC50\",\"EC50\",\"EC50\",\"EC50\"],\"dMtb\":{\"__ndarray__\":\"cm/Q7jXx3j/z/QaJrigGQKLLTZQHeuE/KPPSnXfv3L978H3CnsLcv2eOEXWabQVAg0kaL2/k4D+I3zivVjbVPw==\",\"dtype\":\"float64\",\"order\":\"little\",\"shape\":[8]},\"glimpse_url_t0\":[\"https://macrohet.s3.eu-west-2.amazonaws.com/dMtb/dMtb_glimpses/glimpse_323.3.6_t0.png\",\"https://macrohet.s3.eu-west-2.amazonaws.com/dMtb/dMtb_glimpses/glimpse_299.3.6_t0.png\",\"https://macrohet.s3.eu-west-2.amazonaws.com/dMtb/dMtb_glimpses/glimpse_165.3.6_t0.png\",\"https://macrohet.s3.eu-west-2.amazonaws.com/dMtb/dMtb_glimpses/glimpse_169.3.6_t0.png\",\"https://macrohet.s3.eu-west-2.amazonaws.com/dMtb/dMtb_glimpses/glimpse_1254.3.6_t7.png\",\"https://macrohet.s3.eu-west-2.amazonaws.com/dMtb/dMtb_glimpses/glimpse_1251.3.6_t7.png\",\"https://macrohet.s3.eu-west-2.amazonaws.com/dMtb/dMtb_glimpses/glimpse_2035.3.6_t19.png\",\"https://macrohet.s3.eu-west-2.amazonaws.com/dMtb/dMtb_glimpses/glimpse_2416.3.6_t26.png\"],\"glimpse_url_tn\":[\"https://macrohet.s3.eu-west-2.amazonaws.com/dMtb/dMtb_glimpses/glimpse_323.3.6_t-1.png\",\"https://macrohet.s3.eu-west-2.amazonaws.com/dMtb/dMtb_glimpses/glimpse_299.3.6_t-1.png\",\"https://macrohet.s3.eu-west-2.amazonaws.com/dMtb/dMtb_glimpses/glimpse_165.3.6_t-1.png\",\"https://macrohet.s3.eu-west-2.amazonaws.com/dMtb/dMtb_glimpses/glimpse_169.3.6_t-1.png\",\"https://macrohet.s3.eu-west-2.amazonaws.com/dMtb/dMtb_glimpses/glimpse_1254.3.6_t-1.png\",\"https://macrohet.s3.eu-west-2.amazonaws.com/dMtb/dMtb_glimpses/glimpse_1251.3.6_t-1.png\",\"https://macrohet.s3.eu-west-2.amazonaws.com/dMtb/dMtb_glimpses/glimpse_2035.3.6_t-1.png\",\"https://macrohet.s3.eu-west-2.amazonaws.com/dMtb/dMtb_glimpses/glimpse_2416.3.6_t-1.png\"],\"strain\":[\"WT\",\"WT\",\"WT\",\"WT\",\"WT\",\"WT\",\"WT\",\"WT\"],\"tech_rep\":[1,1,1,1,1,1,1,1],\"x\":{\"__ndarray__\":\"cm/Q7jXx3j/z/QaJrigGQKLLTZQHeuE/KPPSnXfv3L978H3CnsLcv2eOEXWabQVAg0kaL2/k4D+I3zivVjbVPw==\",\"dtype\":\"float64\",\"order\":\"little\",\"shape\":[8]},\"y\":{\"__ndarray__\":\"pn9JKlPMwT+k/KTap+PBP+RmuAGfH8I/fZHQlnMpwj9vRzgteNHDP8aIRKFl3cM/TihEwCFUxT/nGJC93v3FPw==\",\"dtype\":\"float64\",\"order\":\"little\",\"shape\":[8]}},\"name\":\"WT, PZA, EC50\",\"selected\":{\"id\":\"618960\"},\"selection_policy\":{\"id\":\"618959\"}},\"id\":\"618898\",\"type\":\"ColumnDataSource\"},{\"attributes\":{},\"id\":\"618895\",\"type\":\"Selection\"},{\"attributes\":{\"bottom\":{\"value\":0.9},\"fill_alpha\":{\"value\":0.1},\"fill_color\":{\"value\":\"#a6d96a\"},\"hatch_alpha\":{\"value\":0.1},\"left\":{\"field\":\"left\"},\"line_alpha\":{\"value\":0.1},\"line_width\":{\"value\":2},\"right\":{\"field\":\"right\"},\"top\":{\"field\":\"hist\"}},\"id\":\"618856\",\"type\":\"Quad\"},{\"attributes\":{\"source\":{\"id\":\"618871\"}},\"id\":\"618877\",\"type\":\"CDSView\"},{\"attributes\":{\"fill_alpha\":{\"value\":0.9},\"fill_color\":{\"value\":\"#f1b6da\"},\"hatch_alpha\":{\"value\":0.9},\"hatch_color\":{\"value\":\"#f1b6da\"},\"line_alpha\":{\"value\":0.9},\"size\":{\"value\":20},\"x\":{\"field\":\"x\"},\"y\":{\"field\":\"y\"}},\"id\":\"618900\",\"type\":\"Scatter\"},{\"attributes\":{\"source\":{\"id\":\"618898\"}},\"id\":\"618904\",\"type\":\"CDSView\"},{\"attributes\":{},\"id\":\"618894\",\"type\":\"UnionRenderers\"},{\"attributes\":{},\"id\":\"618802\",\"type\":\"SaveTool\"},{\"attributes\":{\"fill_alpha\":{\"value\":0.1},\"fill_color\":{\"value\":\"#f1b6da\"},\"hatch_alpha\":{\"value\":0.1},\"hatch_color\":{\"value\":\"#f1b6da\"},\"line_alpha\":{\"value\":0.1},\"size\":{\"value\":20},\"x\":{\"field\":\"x\"},\"y\":{\"field\":\"y\"}},\"id\":\"618901\",\"type\":\"Scatter\"},{\"attributes\":{},\"id\":\"618794\",\"type\":\"BasicTicker\"},{\"attributes\":{\"axis_label\":\"\\u0394Mtb \\n(fold-change relative to area)\",\"coordinates\":null,\"formatter\":{\"id\":\"618823\"},\"group\":null,\"major_label_policy\":{\"id\":\"618824\"},\"ticker\":{\"id\":\"618794\"}},\"id\":\"618793\",\"type\":\"LinearAxis\"},{\"attributes\":{},\"id\":\"618789\",\"type\":\"LinearScale\"},{\"attributes\":{},\"id\":\"618787\",\"type\":\"DataRange1d\"},{\"attributes\":{\"data\":{\"center\":{\"__ndarray__\":\"EpyiPtB91r/M24MAAzXDvzAC9vBpRqo/cm5//Bss0D+eHOC6ag/dP2VloLxc+eQ/e7zQGwRr6z/IiYC9Ve7wP1S1GG0pJ/Q/3uCwHP1f9z9pDEnM0Jj6P/Q34Xuk0f0/wLG8FTyFAECGx4jtpSECQErdVMUPvgNAEPMgnXlaBUA=\",\"dtype\":\"float64\",\"order\":\"little\",\"shape\":[16]},\"hist\":[2,5,446,2,3,0,0,0,0,0,0,0,0,0,0,2],\"left\":{\"__ndarray__\":\"KPPSnXfv3L/8RHLfKAzQv4C2jAjRRqm/uC6eOul0wz+Ixa9bw53WP9o5CA2JwOE/8JA4bDAy6D8G6GjL16PuP46fTJW/ivI/GcvkRJPD9T+k9nz0Zvz4Py4iFaQ6Nfw/uk2tUw5u/z+jvKIBcVMBQGjSbtna7wJALeg6sUSMBEA=\",\"dtype\":\"float64\",\"order\":\"little\",\"shape\":[16]},\"right\":{\"__ndarray__\":\"/ERy3ygM0L+AtowI0Uapv7gunjrpdMM/iMWvW8Od1j/aOQgNicDhP/CQOGwwMug/Buhoy9ej7j+On0yVv4ryPxnL5ESTw/U/pPZ89Gb8+D8uIhWkOjX8P7pNrVMObv8/o7yiAXFTAUBo0m7Z2u8CQC3oOrFEjARA8/0Gia4oBkA=\",\"dtype\":\"float64\",\"order\":\"little\",\"shape\":[16]}},\"selected\":{\"id\":\"618895\"},\"selection_policy\":{\"id\":\"618894\"}},\"id\":\"618878\",\"type\":\"ColumnDataSource\"},{\"attributes\":{\"coordinates\":null,\"data_source\":{\"id\":\"618898\"},\"glyph\":{\"id\":\"618900\"},\"group\":null,\"hover_glyph\":null,\"muted_glyph\":{\"id\":\"618902\"},\"nonselection_glyph\":{\"id\":\"618901\"},\"view\":{\"id\":\"618904\"}},\"id\":\"618903\",\"type\":\"GlyphRenderer\"},{\"attributes\":{\"axis_label\":\"Outlier browser \\n(1 S.D. from mean)\",\"coordinates\":null,\"formatter\":{\"id\":\"618817\"},\"group\":null,\"major_label_policy\":{\"id\":\"618821\"},\"ticker\":{\"id\":\"618815\"}},\"id\":\"618797\",\"type\":\"LinearAxis\"},{\"attributes\":{\"axis\":{\"id\":\"618797\"},\"coordinates\":null,\"dimension\":1,\"group\":null,\"ticker\":null},\"id\":\"618800\",\"type\":\"Grid\"},{\"attributes\":{\"fill_alpha\":{\"value\":0.1},\"fill_color\":{\"value\":\"#f1b6da\"},\"hatch_alpha\":{\"value\":0.1},\"hatch_color\":{\"value\":\"#f1b6da\"},\"line_alpha\":{\"value\":0.1},\"line_color\":{\"value\":\"#f1b6da\"},\"size\":{\"value\":20},\"x\":{\"field\":\"x\"},\"y\":{\"field\":\"y\"}},\"id\":\"618902\",\"type\":\"Scatter\"},{\"attributes\":{\"coordinates\":null,\"group\":null},\"id\":\"618819\",\"type\":\"Title\"},{\"attributes\":{\"fill_alpha\":{\"value\":0.9},\"fill_color\":{\"value\":\"#a6d96a\"},\"hatch_alpha\":{\"value\":0.9},\"hatch_color\":{\"value\":\"#a6d96a\"},\"line_alpha\":{\"value\":0.9},\"size\":{\"value\":20},\"x\":{\"field\":\"x\"},\"y\":{\"field\":\"y\"}},\"id\":\"618873\",\"type\":\"Scatter\"},{\"attributes\":{},\"id\":\"618803\",\"type\":\"PanTool\"},{\"attributes\":{\"bottom\":{\"value\":0.9},\"fill_alpha\":{\"value\":0.9},\"fill_color\":{\"value\":\"#a6d96a\"},\"hatch_alpha\":{\"value\":0.9},\"left\":{\"field\":\"left\"},\"line_alpha\":{\"value\":0.9},\"line_width\":{\"value\":2},\"right\":{\"field\":\"right\"},\"top\":{\"field\":\"hist\"}},\"id\":\"618855\",\"type\":\"Quad\"},{\"attributes\":{},\"id\":\"618824\",\"type\":\"AllLabels\"},{\"attributes\":{\"overlay\":{\"id\":\"618807\"}},\"id\":\"618804\",\"type\":\"BoxZoomTool\"},{\"attributes\":{\"data\":{\"cell_ID\":{\"__ndarray__\":\"UgEAAA0CAACgAAAAKwAAADEBAACwAAAAsgAAAJcCAAA3AwAAiQMAAHwDAAC9AwAASwUAAFUFAAAmBQAAGwcAANAHAAAJCAAAKAgAAHAIAAA=\",\"dtype\":\"int32\",\"order\":\"little\",\"shape\":[20]},\"compound\":[\"RIF\",\"RIF\",\"RIF\",\"RIF\",\"RIF\",\"RIF\",\"RIF\",\"RIF\",\"RIF\",\"RIF\",\"RIF\",\"RIF\",\"RIF\",\"RIF\",\"RIF\",\"RIF\",\"RIF\",\"RIF\",\"RIF\",\"RIF\"],\"concentration\":[\"EC50\",\"EC50\",\"EC50\",\"EC50\",\"EC50\",\"EC50\",\"EC50\",\"EC50\",\"EC50\",\"EC50\",\"EC50\",\"EC50\",\"EC50\",\"EC50\",\"EC50\",\"EC50\",\"EC50\",\"EC50\",\"EC50\",\"EC50\"],\"dMtb\":{\"__ndarray__\":\"54vDpAsOwb+CeKvFfAm1v2xqe9xoE9a/x4Mm3/y9rz9eb8KO+h7mPxBP3Pjk5LY/mbGmbzGrsj8jC2Qd0N3AP4QHD2wEF64/Uz7SGws70L/xhWQExR29Pz9XJal0fLg/Rynch+ULwD9vChSZYKOxP83mzhS+66w/oX+ODjtlsL+6pbRhlJS9Pye1LChjLeA/YqjFzZJJrj9zZv9ylAGwPw==\",\"dtype\":\"float64\",\"order\":\"little\",\"shape\":[20]},\"glimpse_url_t0\":[\"https://macrohet.s3.eu-west-2.amazonaws.com/dMtb/dMtb_glimpses/glimpse_338.3.7_t0.png\",\"https://macrohet.s3.eu-west-2.amazonaws.com/dMtb/dMtb_glimpses/glimpse_525.3.7_t0.png\",\"https://macrohet.s3.eu-west-2.amazonaws.com/dMtb/dMtb_glimpses/glimpse_160.3.7_t0.png\",\"https://macrohet.s3.eu-west-2.amazonaws.com/dMtb/dMtb_glimpses/glimpse_43.3.7_t0.png\",\"https://macrohet.s3.eu-west-2.amazonaws.com/dMtb/dMtb_glimpses/glimpse_305.3.7_t0.png\",\"https://macrohet.s3.eu-west-2.amazonaws.com/dMtb/dMtb_glimpses/glimpse_176.3.7_t0.png\",\"https://macrohet.s3.eu-west-2.amazonaws.com/dMtb/dMtb_glimpses/glimpse_178.3.7_t0.png\",\"https://macrohet.s3.eu-west-2.amazonaws.com/dMtb/dMtb_glimpses/glimpse_663.3.7_t1.png\",\"https://macrohet.s3.eu-west-2.amazonaws.com/dMtb/dMtb_glimpses/glimpse_823.3.7_t2.png\",\"https://macrohet.s3.eu-west-2.amazonaws.com/dMtb/dMtb_glimpses/glimpse_905.3.7_t3.png\",\"https://macrohet.s3.eu-west-2.amazonaws.com/dMtb/dMtb_glimpses/glimpse_892.3.7_t3.png\",\"https://macrohet.s3.eu-west-2.amazonaws.com/dMtb/dMtb_glimpses/glimpse_957.3.7_t4.png\",\"https://macrohet.s3.eu-west-2.amazonaws.com/dMtb/dMtb_glimpses/glimpse_1355.3.7_t9.png\",\"https://macrohet.s3.eu-west-2.amazonaws.com/dMtb/dMtb_glimpses/glimpse_1365.3.7_t9.png\",\"https://macrohet.s3.eu-west-2.amazonaws.com/dMtb/dMtb_glimpses/glimpse_1318.3.7_t9.png\",\"https://macrohet.s3.eu-west-2.amazonaws.com/dMtb/dMtb_glimpses/glimpse_1819.3.7_t17.png\",\"https://macrohet.s3.eu-west-2.amazonaws.com/dMtb/dMtb_glimpses/glimpse_2000.3.7_t20.png\",\"https://macrohet.s3.eu-west-2.amazonaws.com/dMtb/dMtb_glimpses/glimpse_2057.3.7_t21.png\",\"https://macrohet.s3.eu-west-2.amazonaws.com/dMtb/dMtb_glimpses/glimpse_2088.3.7_t22.png\",\"https://macrohet.s3.eu-west-2.amazonaws.com/dMtb/dMtb_glimpses/glimpse_2160.3.7_t23.png\"],\"glimpse_url_tn\":[\"https://macrohet.s3.eu-west-2.amazonaws.com/dMtb/dMtb_glimpses/glimpse_338.3.7_t-1.png\",\"https://macrohet.s3.eu-west-2.amazonaws.com/dMtb/dMtb_glimpses/glimpse_525.3.7_t-1.png\",\"https://macrohet.s3.eu-west-2.amazonaws.com/dMtb/dMtb_glimpses/glimpse_160.3.7_t-1.png\",\"https://macrohet.s3.eu-west-2.amazonaws.com/dMtb/dMtb_glimpses/glimpse_43.3.7_t-1.png\",\"https://macrohet.s3.eu-west-2.amazonaws.com/dMtb/dMtb_glimpses/glimpse_305.3.7_t-1.png\",\"https://macrohet.s3.eu-west-2.amazonaws.com/dMtb/dMtb_glimpses/glimpse_176.3.7_t-1.png\",\"https://macrohet.s3.eu-west-2.amazonaws.com/dMtb/dMtb_glimpses/glimpse_178.3.7_t-1.png\",\"https://macrohet.s3.eu-west-2.amazonaws.com/dMtb/dMtb_glimpses/glimpse_663.3.7_t-1.png\",\"https://macrohet.s3.eu-west-2.amazonaws.com/dMtb/dMtb_glimpses/glimpse_823.3.7_t-1.png\",\"https://macrohet.s3.eu-west-2.amazonaws.com/dMtb/dMtb_glimpses/glimpse_905.3.7_t-1.png\",\"https://macrohet.s3.eu-west-2.amazonaws.com/dMtb/dMtb_glimpses/glimpse_892.3.7_t-1.png\",\"https://macrohet.s3.eu-west-2.amazonaws.com/dMtb/dMtb_glimpses/glimpse_957.3.7_t-1.png\",\"https://macrohet.s3.eu-west-2.amazonaws.com/dMtb/dMtb_glimpses/glimpse_1355.3.7_t-1.png\",\"https://macrohet.s3.eu-west-2.amazonaws.com/dMtb/dMtb_glimpses/glimpse_1365.3.7_t-1.png\",\"https://macrohet.s3.eu-west-2.amazonaws.com/dMtb/dMtb_glimpses/glimpse_1318.3.7_t-1.png\",\"https://macrohet.s3.eu-west-2.amazonaws.com/dMtb/dMtb_glimpses/glimpse_1819.3.7_t-1.png\",\"https://macrohet.s3.eu-west-2.amazonaws.com/dMtb/dMtb_glimpses/glimpse_2000.3.7_t-1.png\",\"https://macrohet.s3.eu-west-2.amazonaws.com/dMtb/dMtb_glimpses/glimpse_2057.3.7_t-1.png\",\"https://macrohet.s3.eu-west-2.amazonaws.com/dMtb/dMtb_glimpses/glimpse_2088.3.7_t-1.png\",\"https://macrohet.s3.eu-west-2.amazonaws.com/dMtb/dMtb_glimpses/glimpse_2160.3.7_t-1.png\"],\"strain\":[\"WT\",\"WT\",\"WT\",\"WT\",\"WT\",\"WT\",\"WT\",\"WT\",\"WT\",\"WT\",\"WT\",\"WT\",\"WT\",\"WT\",\"WT\",\"WT\",\"WT\",\"WT\",\"WT\",\"WT\"],\"tech_rep\":[1,1,1,1,1,1,1,1,1,1,1,1,1,1,1,1,1,1,1,1],\"x\":{\"__ndarray__\":\"54vDpAsOwb+CeKvFfAm1v2xqe9xoE9a/x4Mm3/y9rz9eb8KO+h7mPxBP3Pjk5LY/mbGmbzGrsj8jC2Qd0N3AP4QHD2wEF64/Uz7SGws70L/xhWQExR29Pz9XJal0fLg/Rynch+ULwD9vChSZYKOxP83mzhS+66w/oX+ODjtlsL+6pbRhlJS9Pye1LChjLeA/YqjFzZJJrj9zZv9ylAGwPw==\",\"dtype\":\"float64\",\"order\":\"little\",\"shape\":[20]},\"y\":{\"__ndarray__\":\"TZ8dcF0xxz+Kdap8z0jIP2o0uRgD68g/MbYQ5KCEyT+K6NfWT//JP5+qQgOxbMo/murJ/KNvyj94R8Zq8//KP7yS5Lm+D8s/PuqvV1hwyz/erwJ8t3nLP5pDUgslk8s/fxKfO8H+yz+YT1YMVwfMPyxmhLcHIcw/jGoRUUzezD+RCfg1kgTNP8hD393KEs0/C7Q7pBggzT/+1eO+1TrNPw==\",\"dtype\":\"float64\",\"order\":\"little\",\"shape\":[20]}},\"name\":\"WT, RIF, EC50\",\"selected\":{\"id\":\"618962\"},\"selection_policy\":{\"id\":\"618961\"}},\"id\":\"618927\",\"type\":\"ColumnDataSource\"},{\"attributes\":{},\"id\":\"618801\",\"type\":\"CrosshairTool\"},{\"attributes\":{},\"id\":\"618923\",\"type\":\"UnionRenderers\"},{\"attributes\":{\"fill_alpha\":{\"value\":0.9},\"fill_color\":{\"value\":\"#d02c91\"},\"hatch_alpha\":{\"value\":0.9},\"hatch_color\":{\"value\":\"#d02c91\"},\"line_alpha\":{\"value\":0.9},\"size\":{\"value\":20},\"x\":{\"field\":\"x\"},\"y\":{\"field\":\"y\"}},\"id\":\"618929\",\"type\":\"Scatter\"},{\"attributes\":{},\"id\":\"618805\",\"type\":\"ResetTool\"},{\"attributes\":{\"coordinates\":null,\"data_source\":{\"id\":\"618829\"},\"glyph\":{\"id\":\"618831\"},\"group\":null,\"hover_glyph\":null,\"muted_glyph\":{\"id\":\"618833\"},\"nonselection_glyph\":{\"id\":\"618832\"},\"view\":{\"id\":\"618835\"}},\"id\":\"618834\",\"type\":\"GlyphRenderer\"},{\"attributes\":{\"source\":{\"id\":\"618927\"}},\"id\":\"618933\",\"type\":\"CDSView\"},{\"attributes\":{},\"id\":\"618806\",\"type\":\"WheelZoomTool\"},{\"attributes\":{\"fill_alpha\":{\"value\":0.1},\"fill_color\":{\"value\":\"#d02c91\"},\"hatch_alpha\":{\"value\":0.1},\"hatch_color\":{\"value\":\"#d02c91\"},\"line_alpha\":{\"value\":0.1},\"size\":{\"value\":20},\"x\":{\"field\":\"x\"},\"y\":{\"field\":\"y\"}},\"id\":\"618930\",\"type\":\"Scatter\"},{\"attributes\":{},\"id\":\"618924\",\"type\":\"Selection\"},{\"attributes\":{\"label\":{\"value\":\"WT, RIF, EC50\"},\"renderers\":[{\"id\":\"618910\"}]},\"id\":\"618926\",\"type\":\"LegendItem\"},{\"attributes\":{\"ticks\":[]},\"id\":\"618815\",\"type\":\"FixedTicker\"},{\"attributes\":{\"coordinates\":null,\"data_source\":{\"id\":\"618927\"},\"glyph\":{\"id\":\"618929\"},\"group\":null,\"hover_glyph\":null,\"muted_glyph\":{\"id\":\"618931\"},\"nonselection_glyph\":{\"id\":\"618930\"},\"view\":{\"id\":\"618933\"}},\"id\":\"618932\",\"type\":\"GlyphRenderer\"},{\"attributes\":{\"fill_alpha\":{\"value\":0.1},\"fill_color\":{\"value\":\"#d02c91\"},\"hatch_alpha\":{\"value\":0.1},\"hatch_color\":{\"value\":\"#d02c91\"},\"line_alpha\":{\"value\":0.1},\"line_color\":{\"value\":\"#d02c91\"},\"size\":{\"value\":20},\"x\":{\"field\":\"x\"},\"y\":{\"field\":\"y\"}},\"id\":\"618931\",\"type\":\"Scatter\"},{\"attributes\":{},\"id\":\"618774\",\"type\":\"AllLabels\"},{\"attributes\":{\"toolbars\":[{\"id\":\"618764\"},{\"id\":\"618808\"}],\"tools\":[{\"id\":\"618757\"},{\"id\":\"618758\"},{\"id\":\"618759\"},{\"id\":\"618760\"},{\"id\":\"618761\"},{\"id\":\"618762\"},{\"id\":\"618801\"},{\"id\":\"618802\"},{\"id\":\"618803\"},{\"id\":\"618804\"},{\"id\":\"618805\"},{\"id\":\"618806\"},{\"id\":\"618827\"}]},\"id\":\"618966\",\"type\":\"ProxyToolbar\"},{\"attributes\":{\"active_scroll\":{\"id\":\"618762\"},\"tools\":[{\"id\":\"618757\"},{\"id\":\"618758\"},{\"id\":\"618759\"},{\"id\":\"618760\"},{\"id\":\"618761\"},{\"id\":\"618762\"}]},\"id\":\"618764\",\"type\":\"Toolbar\"},{\"attributes\":{},\"id\":\"618955\",\"type\":\"UnionRenderers\"},{\"attributes\":{},\"id\":\"618956\",\"type\":\"Selection\"},{\"attributes\":{\"data\":{\"cell_ID\":{\"__ndarray__\":\"pQEAAHEAAAAaAAAAPwAAABMBAAAIAQAA0QAAAKQCAAC4AgAACwQAACIFAACGBQAAiAYAABEHAACZCAAA\",\"dtype\":\"int32\",\"order\":\"little\",\"shape\":[15]},\"compound\":[\"BDQ\",\"BDQ\",\"BDQ\",\"BDQ\",\"BDQ\",\"BDQ\",\"BDQ\",\"BDQ\",\"BDQ\",\"BDQ\",\"BDQ\",\"BDQ\",\"BDQ\",\"BDQ\",\"BDQ\"],\"concentration\":[\"EC50\",\"EC50\",\"EC50\",\"EC50\",\"EC50\",\"EC50\",\"EC50\",\"EC50\",\"EC50\",\"EC50\",\"EC50\",\"EC50\",\"EC50\",\"EC50\",\"EC50\"],\"dMtb\":{\"__ndarray__\":\"ZFHvUghAzz/nvn5iL9XxP6QlcShvTdA/GkB1R77Fwz8yOdnmEovEPygKqyouOso/hz9PKGUx2T+8w9YADZm9P04064J34Nw//4vU1Z4Lwz8ZSo8cEh3wP0ChpM5jOOE/COh4xA/j1T8nCvJVSOnGv0hRFcR889c/\",\"dtype\":\"float64\",\"order\":\"little\",\"shape\":[15]},\"glimpse_url_t0\":[\"https://macrohet.s3.eu-west-2.amazonaws.com/dMtb/dMtb_glimpses/glimpse_421.3.9_t0.png\",\"https://macrohet.s3.eu-west-2.amazonaws.com/dMtb/dMtb_glimpses/glimpse_113.3.9_t0.png\",\"https://macrohet.s3.eu-west-2.amazonaws.com/dMtb/dMtb_glimpses/glimpse_26.3.9_t0.png\",\"https://macrohet.s3.eu-west-2.amazonaws.com/dMtb/dMtb_glimpses/glimpse_63.3.9_t0.png\",\"https://macrohet.s3.eu-west-2.amazonaws.com/dMtb/dMtb_glimpses/glimpse_275.3.9_t0.png\",\"https://macrohet.s3.eu-west-2.amazonaws.com/dMtb/dMtb_glimpses/glimpse_264.3.9_t0.png\",\"https://macrohet.s3.eu-west-2.amazonaws.com/dMtb/dMtb_glimpses/glimpse_209.3.9_t0.png\",\"https://macrohet.s3.eu-west-2.amazonaws.com/dMtb/dMtb_glimpses/glimpse_676.3.9_t2.png\",\"https://macrohet.s3.eu-west-2.amazonaws.com/dMtb/dMtb_glimpses/glimpse_696.3.9_t2.png\",\"https://macrohet.s3.eu-west-2.amazonaws.com/dMtb/dMtb_glimpses/glimpse_1035.3.9_t6.png\",\"https://macrohet.s3.eu-west-2.amazonaws.com/dMtb/dMtb_glimpses/glimpse_1314.3.9_t10.png\",\"https://macrohet.s3.eu-west-2.amazonaws.com/dMtb/dMtb_glimpses/glimpse_1414.3.9_t12.png\",\"https://macrohet.s3.eu-west-2.amazonaws.com/dMtb/dMtb_glimpses/glimpse_1672.3.9_t17.png\",\"https://macrohet.s3.eu-west-2.amazonaws.com/dMtb/dMtb_glimpses/glimpse_1809.3.9_t19.png\",\"https://macrohet.s3.eu-west-2.amazonaws.com/dMtb/dMtb_glimpses/glimpse_2201.3.9_t29.png\"],\"glimpse_url_tn\":[\"https://macrohet.s3.eu-west-2.amazonaws.com/dMtb/dMtb_glimpses/glimpse_421.3.9_t-1.png\",\"https://macrohet.s3.eu-west-2.amazonaws.com/dMtb/dMtb_glimpses/glimpse_113.3.9_t-1.png\",\"https://macrohet.s3.eu-west-2.amazonaws.com/dMtb/dMtb_glimpses/glimpse_26.3.9_t-1.png\",\"https://macrohet.s3.eu-west-2.amazonaws.com/dMtb/dMtb_glimpses/glimpse_63.3.9_t-1.png\",\"https://macrohet.s3.eu-west-2.amazonaws.com/dMtb/dMtb_glimpses/glimpse_275.3.9_t-1.png\",\"https://macrohet.s3.eu-west-2.amazonaws.com/dMtb/dMtb_glimpses/glimpse_264.3.9_t-1.png\",\"https://macrohet.s3.eu-west-2.amazonaws.com/dMtb/dMtb_glimpses/glimpse_209.3.9_t-1.png\",\"https://macrohet.s3.eu-west-2.amazonaws.com/dMtb/dMtb_glimpses/glimpse_676.3.9_t-1.png\",\"https://macrohet.s3.eu-west-2.amazonaws.com/dMtb/dMtb_glimpses/glimpse_696.3.9_t-1.png\",\"https://macrohet.s3.eu-west-2.amazonaws.com/dMtb/dMtb_glimpses/glimpse_1035.3.9_t-1.png\",\"https://macrohet.s3.eu-west-2.amazonaws.com/dMtb/dMtb_glimpses/glimpse_1314.3.9_t-1.png\",\"https://macrohet.s3.eu-west-2.amazonaws.com/dMtb/dMtb_glimpses/glimpse_1414.3.9_t-1.png\",\"https://macrohet.s3.eu-west-2.amazonaws.com/dMtb/dMtb_glimpses/glimpse_1672.3.9_t-1.png\",\"https://macrohet.s3.eu-west-2.amazonaws.com/dMtb/dMtb_glimpses/glimpse_1809.3.9_t-1.png\",\"https://macrohet.s3.eu-west-2.amazonaws.com/dMtb/dMtb_glimpses/glimpse_2201.3.9_t-1.png\"],\"strain\":[\"WT\",\"WT\",\"WT\",\"WT\",\"WT\",\"WT\",\"WT\",\"WT\",\"WT\",\"WT\",\"WT\",\"WT\",\"WT\",\"WT\",\"WT\"],\"tech_rep\":[1,1,1,1,1,1,1,1,1,1,1,1,1,1,1],\"x\":{\"__ndarray__\":\"ZFHvUghAzz/nvn5iL9XxP6QlcShvTdA/GkB1R77Fwz8yOdnmEovEPygKqyouOso/hz9PKGUx2T+8w9YADZm9P04064J34Nw//4vU1Z4Lwz8ZSo8cEh3wP0ChpM5jOOE/COh4xA/j1T8nCvJVSOnGv0hRFcR889c/\",\"dtype\":\"float64\",\"order\":\"little\",\"shape\":[15]},\"y\":{\"__ndarray__\":\"tMwiFFtB0z9KQiJt40/UPzCCxkyiXtQ/C5jArbt51D9D5PT1fM3UP5QRF4BG6dQ/1gCloUYh1T900CUceovVP9An8iTpmtU/lu1D3nL11T9lAKjixi3WPwuW6gJeZtY/xqhr7X2q1j9OuFfmrbrWP4YEjC5vDtc/\",\"dtype\":\"float64\",\"order\":\"little\",\"shape\":[15]}},\"name\":\"WT, BDQ, EC50\",\"selected\":{\"id\":\"618956\"},\"selection_policy\":{\"id\":\"618955\"}},\"id\":\"618846\",\"type\":\"ColumnDataSource\"},{\"attributes\":{\"callback\":null,\"tooltips\":\" <div>\\n        <div style=\\\"position: relative; display: inline-block;\\\">\\n            <img\\n                src=\\\"@glimpse_url_t0\\\" height=\\\"120\\\" alt=\\\"@glimpse_url_t0\\\" width=\\\"120\\\"\\n                style=\\\"float: left; margin: 0px 15px 15px 0px;\\\"\\n                border=\\\"2\\\"\\n            >\\n            <div style=\\\"position: absolute; bottom: 5px; right: 5px; background-color: lightgrey; padding: 5px;\\\">\\n                <span style=\\\"font-size: 12px; color: black;\\\">t = 0</span>\\n            </div>\\n            </img>\\n        </div>\\n        <div style=\\\"position: relative; display: inline-block;\\\">\\n            <img\\n                src=\\\"@glimpse_url_tn\\\" height=\\\"120\\\" alt=\\\"@glimpse_url_tn\\\" width=\\\"120\\\"\\n                style=\\\"float: left; margin: 0px 15px 15px 0px;\\\"\\n                border=\\\"2\\\"\\n            >\\n            <div style=\\\"position: absolute; bottom: 5px; right: 5px; background-color: lightgrey; padding: 5px;\\\">\\n                <span style=\\\"font-size: 12px; color: black;\\\">t = final</span>\\n            </div>\\n            </img>\\n        </div>\\n        <div>\\n             <span style=\\\"font-size: 17px; font-weight: bold; color: black;\\\">Cell ID: @cell_ID</span>\\n         </div>\\n         <div>\\n             <span style=\\\"font-size: 15px; color: black;\\\">\\u0394Mtb: @x</span>\\n         </div>\\n         <div>\\n             <span style=\\\"font-size: 15px; color: black;\\\">Strain: @strain</span>\\n         </div>\\n         <div>\\n             <span style=\\\"font-size: 15px; color: black;\\\">Compound: @compound</span>\\n         </div>\\n         <div>\\n             <span style=\\\"font-size: 15px; color: black;\\\">Concentration: @concentration</span>\\n         </div>\\n         <div>\\n             <span style=\\\"font-size: 15px; color: black;\\\">Tech. replicate: @tech_rep</span>\\n         </div>\\n    </div>\\n\"},\"id\":\"618827\",\"type\":\"HoverTool\"},{\"attributes\":{\"bottom_units\":\"screen\",\"coordinates\":null,\"fill_alpha\":0.5,\"fill_color\":\"lightgrey\",\"group\":null,\"left_units\":\"screen\",\"level\":\"overlay\",\"line_alpha\":1.0,\"line_color\":\"black\",\"line_dash\":[4,4],\"line_width\":2,\"right_units\":\"screen\",\"syncable\":false,\"top_units\":\"screen\"},\"id\":\"618763\",\"type\":\"BoxAnnotation\"},{\"attributes\":{},\"id\":\"618762\",\"type\":\"WheelZoomTool\"},{\"attributes\":{\"click_policy\":\"mute\",\"coordinates\":null,\"group\":null,\"items\":[{\"id\":\"618845\"},{\"id\":\"618870\"},{\"id\":\"618897\"},{\"id\":\"618926\"}],\"location\":\"top_left\"},\"id\":\"618844\",\"type\":\"Legend\"},{\"attributes\":{\"label\":{\"value\":\"WT, BDQ, EC50\"},\"renderers\":[{\"id\":\"618834\"}]},\"id\":\"618845\",\"type\":\"LegendItem\"},{\"attributes\":{\"source\":{\"id\":\"618829\"}},\"id\":\"618835\",\"type\":\"CDSView\"}],\"root_ids\":[\"618968\"]},\"title\":\"Bokeh Application\",\"version\":\"2.4.3\"}};\n",
       "  const render_items = [{\"docid\":\"3efb2bde-e7cd-47d6-8772-e66a98b46d8b\",\"root_ids\":[\"618968\"],\"roots\":{\"618968\":\"3d5ecc07-4d9d-44c5-9152-154ffe59cff0\"}}];\n",
       "  root.Bokeh.embed.embed_items_notebook(docs_json, render_items);\n",
       "  }\n",
       "  if (root.Bokeh !== undefined) {\n",
       "    embed_document(root);\n",
       "  } else {\n",
       "    let attempts = 0;\n",
       "    const timer = setInterval(function(root) {\n",
       "      if (root.Bokeh !== undefined) {\n",
       "        clearInterval(timer);\n",
       "        embed_document(root);\n",
       "      } else {\n",
       "        attempts++;\n",
       "        if (attempts > 100) {\n",
       "          clearInterval(timer);\n",
       "          console.log(\"Bokeh: ERROR: Unable to run BokehJS code because BokehJS library is missing\");\n",
       "        }\n",
       "      }\n",
       "    }, 10, root)\n",
       "  }\n",
       "})(window);"
      ],
      "application/vnd.bokehjs_exec.v0+json": ""
     },
     "metadata": {
      "application/vnd.bokehjs_exec.v0+json": {
       "id": "618968"
      }
     },
     "output_type": "display_data"
    }
   ],
   "source": [
    "from bokeh.layouts import gridplot\n",
    "from scipy.stats import gaussian_kde\n",
    "\n",
    "# Create the upper plot\n",
    "p1 = figure(height=600, \n",
    "            width=600, \n",
    "            title='Histogram showing the distribution of the change in intracellular Mtb (ΔMtb)', \n",
    "            y_axis_type=\"log\",\n",
    "            y_axis_label='Frequency',\n",
    "            tools='crosshair,save,pan,box_zoom,reset,wheel_zoom')\n",
    "p1.toolbar.active_scroll = p1.select_one(WheelZoomTool)\n",
    "p1.x_range = Range1d(-1, 1)\n",
    "\n",
    "# Customize y-axis ticker\n",
    "p1.yaxis.ticker = [1, 10, 100, 1000]  # Set specific tick values\n",
    "p1.yaxis.formatter = NumeralTickFormatter(format=\"0\")  # Format tick labels\n",
    "p1.xaxis.visible = False  # Remove x-axis\n",
    "\n",
    "# Create the lower plot\n",
    "p2 = figure(height=200, \n",
    "            width=600, \n",
    "            x_axis_label='ΔMtb \\n(fold-change relative to area)',\n",
    "            y_axis_label='Outlier browser \\n(1 S.D. from mean)',\n",
    "            tools='crosshair,save,pan,box_zoom,reset,wheel_zoom', \n",
    "            x_range=p1.x_range)\n",
    "\n",
    "p2.yaxis.ticker = []  # Remove y-axis ticks\n",
    "p2.yaxis.formatter = NumeralTickFormatter(format=\"0\")  # Format tick labels\n",
    "\n",
    "p2.toolbar.active_scroll = p2.select_one(WheelZoomTool)\n",
    "\n",
    "# Create the hover tool\n",
    "hover = HoverTool(\n",
    "    tooltips=\n",
    "    \"\"\" <div>\n",
    "        <div style=\"position: relative; display: inline-block;\">\n",
    "            <img\n",
    "                src=\"@glimpse_url_t0\" height=\"120\" alt=\"@glimpse_url_t0\" width=\"120\"\n",
    "                style=\"float: left; margin: 0px 15px 15px 0px;\"\n",
    "                border=\"2\"\n",
    "            >\n",
    "            <div style=\"position: absolute; bottom: 5px; right: 5px; background-color: lightgrey; padding: 5px;\">\n",
    "                <span style=\"font-size: 12px; color: black;\">t = 0</span>\n",
    "            </div>\n",
    "            </img>\n",
    "        </div>\n",
    "        <div style=\"position: relative; display: inline-block;\">\n",
    "            <img\n",
    "                src=\"@glimpse_url_tn\" height=\"120\" alt=\"@glimpse_url_tn\" width=\"120\"\n",
    "                style=\"float: left; margin: 0px 15px 15px 0px;\"\n",
    "                border=\"2\"\n",
    "            >\n",
    "            <div style=\"position: absolute; bottom: 5px; right: 5px; background-color: lightgrey; padding: 5px;\">\n",
    "                <span style=\"font-size: 12px; color: black;\">t = final</span>\n",
    "            </div>\n",
    "            </img>\n",
    "        </div>\n",
    "        <div>\n",
    "             <span style=\"font-size: 17px; font-weight: bold; color: black;\">Cell ID: @cell_ID</span>\n",
    "         </div>\n",
    "         <div>\n",
    "             <span style=\"font-size: 15px; color: black;\">ΔMtb: @x</span>\n",
    "         </div>\n",
    "         <div>\n",
    "             <span style=\"font-size: 15px; color: black;\">Strain: @strain</span>\n",
    "         </div>\n",
    "         <div>\n",
    "             <span style=\"font-size: 15px; color: black;\">Compound: @compound</span>\n",
    "         </div>\n",
    "         <div>\n",
    "             <span style=\"font-size: 15px; color: black;\">Concentration: @concentration</span>\n",
    "         </div>\n",
    "         <div>\n",
    "             <span style=\"font-size: 15px; color: black;\">Tech. replicate: @tech_rep</span>\n",
    "         </div>\n",
    "    </div>\n",
    "\"\"\"\n",
    "\n",
    "\n",
    "\n",
    ")\n",
    "\n",
    "p2.add_tools(hover)  # Add the instance of HoverTool\n",
    "\n",
    "outliers = list()\n",
    "for index, condition in df_delta_mtb.groupby(['Strain', 'Compound', 'Concentration']).size().reset_index().rename(columns={0: 'count'}).iterrows():\n",
    "    # only ec50\n",
    "    if condition['Concentration'] != 'EC50':\n",
    "        continue\n",
    "    strain = condition['Strain']\n",
    "    compound = condition['Compound']\n",
    "    concentration = condition['Concentration']\n",
    "    label = f'{strain}, {compound}, {concentration}'\n",
    "    subset_df = df_delta_mtb[(df_delta_mtb['Strain'] == strain)\n",
    "                             & (df_delta_mtb['Compound'] == compound)\n",
    "                             & (df_delta_mtb['Concentration'] == concentration)\n",
    "                             & (df_delta_mtb['Technical replicate'] == 1)]\n",
    "    data = subset_df['dMtb'].dropna()  # Remove NA values, if any\n",
    "    hist, edges = np.histogram(data, bins=16)  # Change the number of bins as needed\n",
    "    source = ColumnDataSource(data=dict(hist=hist, \n",
    "                                        left=edges[:-1], \n",
    "                                        right=edges[1:], \n",
    "                                        center=(edges[:-1]+edges[1:])/2))\n",
    "    \n",
    "    # Create a quad glyph for the histogram in the upper plot\n",
    "    p1.quad(top='hist', bottom=0.9, left='left', right='right',\n",
    "            line_color='black', source=source, \n",
    "            fill_color=expanded_piyg_dict[compound], \n",
    "            line_width=2, \n",
    "            alpha=0.9,\n",
    "            muted_color=expanded_piyg_dict[compound], \n",
    "            muted_alpha=0.1,\n",
    "            legend_label=label)\n",
    "    \n",
    "    # create a separate outlier df for below plot\n",
    "    # Calculate the mean and standard deviation of dMtb\n",
    "    mean = subset_df['dMtb'].mean()\n",
    "    std = subset_df['dMtb'].std()\n",
    "\n",
    "    # Define a threshold to determine outliers (e.g., 2 standard deviations from the mean)\n",
    "    threshold = 1 * std\n",
    "\n",
    "    # Filter out the non outliers from subset_df\n",
    "    outlier_df = subset_df[abs(subset_df['dMtb'] - mean) >= threshold]\n",
    "    outliers.append(outlier_df)\n",
    "    \n",
    "    # append url to df \n",
    "    for index, row_ in outlier_df.iterrows():\n",
    "        unique_ID = row_['Unique ID']\n",
    "        cell_ID, row, column = unique_ID.split('.') \n",
    "        t0 = row_['Time (hours)']\n",
    "        outlier_df.at[index, 'glimpse_url_t0'] = f'https://macrohet.s3.eu-west-2.amazonaws.com/dMtb/dMtb_glimpses/glimpse_{cell_ID}.{row}.{column}_t{t0}.png'\n",
    "        outlier_df.at[index, 'glimpse_url_tn'] = f'https://macrohet.s3.eu-west-2.amazonaws.com/dMtb/dMtb_glimpses/glimpse_{cell_ID}.{row}.{column}_t{-1}.png'\n",
    "\n",
    "    # Create scatter plots for the lower plot\n",
    "    source = ColumnDataSource(\n",
    "            name=label,\n",
    "            data=dict(\n",
    "            x=outlier_df['dMtb'],\n",
    "            y=outlier_df.index/5E5,\n",
    "            glimpse_url_t0=outlier_df['glimpse_url_t0'],\n",
    "            glimpse_url_tn=outlier_df['glimpse_url_tn'], \n",
    "            dMtb=outlier_df['dMtb'], \n",
    "            cell_ID=outlier_df['Cell ID'], \n",
    "            strain=outlier_df['Strain'],\n",
    "            compound=outlier_df['Compound'],\n",
    "            concentration=outlier_df['Concentration'],\n",
    "            tech_rep=outlier_df['Technical replicate']\n",
    "        ))\n",
    "    p2.scatter('x', 'y', \n",
    "#               legend_label=col_source_dict[index].name, \n",
    "              source=source,\n",
    "              color=expanded_piyg_dict[compound], \n",
    "              alpha=0.9, \n",
    "              size=20,\n",
    "              line_color='black',  # Set the color of the outline\n",
    "              line_width=1,  # Set the width of the outline\n",
    "              muted_color=expanded_piyg_dict[compound], \n",
    "              muted_alpha=0.1,\n",
    "               )\n",
    "\n",
    "# Set the legend location for the upper plot\n",
    "p1.legend.location = \"top_left\"\n",
    "\n",
    "# Uncomment the following line to set the legend location for the lower plot\n",
    "# p2.legend.location = \"top_left\"\n",
    "\n",
    "# Set the click_policy to \"mute\" for the legend in the upper plot\n",
    "p1.legend.click_policy = \"mute\"\n",
    "# Uncomment the following line to set the click_policy to \"mute\" for the legend in the lower plot\n",
    "# p2.legend.click_policy = \"mute\"\n",
    "\n",
    "# Create a grid plot with both plots\n",
    "p = gridplot([[p1], [p2]],)\n",
    "\n",
    "output_file(\"dMtb_hist_ec50.html\",)# title=\"dMtb\")\n",
    "\n",
    "show(p)\n"
   ]
  },
  {
   "cell_type": "markdown",
   "id": "4dbe1a78",
   "metadata": {},
   "source": [
    "# KDE hist"
   ]
  },
  {
   "cell_type": "code",
   "execution_count": 694,
   "id": "fb00834a",
   "metadata": {
    "scrolled": false
   },
   "outputs": [
    {
     "data": {
      "text/html": [
       "\n",
       "  <div class=\"bk-root\" id=\"f404dd41-2e21-4edb-9adb-97440ae38d69\" data-root-id=\"624751\"></div>\n"
      ]
     },
     "metadata": {},
     "output_type": "display_data"
    },
    {
     "data": {
      "application/javascript": [
       "(function(root) {\n",
       "  function embed_document(root) {\n",
       "  const docs_json = {\"679db864-fc0d-4ee5-8c80-2b86935054c8\":{\"defs\":[],\"roots\":{\"references\":[{\"attributes\":{\"children\":[{\"id\":\"624750\"},{\"id\":\"624748\"}]},\"id\":\"624751\",\"type\":\"Column\"},{\"attributes\":{\"coordinates\":null,\"data_source\":{\"id\":\"624684\"},\"glyph\":{\"id\":\"624686\"},\"group\":null,\"hover_glyph\":null,\"muted_glyph\":{\"id\":\"624688\"},\"nonselection_glyph\":{\"id\":\"624687\"},\"view\":{\"id\":\"624690\"}},\"id\":\"624689\",\"type\":\"GlyphRenderer\"},{\"attributes\":{},\"id\":\"624674\",\"type\":\"Selection\"},{\"attributes\":{\"overlay\":{\"id\":\"624580\"}},\"id\":\"624577\",\"type\":\"BoxZoomTool\"},{\"attributes\":{},\"id\":\"624539\",\"type\":\"WheelZoomTool\"},{\"attributes\":{\"overlay\":{\"id\":\"624540\"}},\"id\":\"624537\",\"type\":\"BoxZoomTool\"},{\"attributes\":{},\"id\":\"624742\",\"type\":\"UnionRenderers\"},{\"attributes\":{},\"id\":\"624536\",\"type\":\"PanTool\"},{\"attributes\":{},\"id\":\"624578\",\"type\":\"ResetTool\"},{\"attributes\":{},\"id\":\"624743\",\"type\":\"Selection\"},{\"attributes\":{},\"id\":\"624597\",\"type\":\"AllLabels\"},{\"attributes\":{},\"id\":\"624673\",\"type\":\"UnionRenderers\"},{\"attributes\":{},\"id\":\"624538\",\"type\":\"ResetTool\"},{\"attributes\":{\"coordinates\":null,\"group\":null},\"id\":\"624592\",\"type\":\"Title\"},{\"attributes\":{},\"id\":\"624596\",\"type\":\"BasicTickFormatter\"},{\"attributes\":{},\"id\":\"624534\",\"type\":\"CrosshairTool\"},{\"attributes\":{\"axis\":{\"id\":\"624530\"},\"coordinates\":null,\"dimension\":1,\"group\":null,\"ticker\":null},\"id\":\"624533\",\"type\":\"Grid\"},{\"attributes\":{},\"id\":\"624551\",\"type\":\"AllLabels\"},{\"attributes\":{\"fill_alpha\":0.6,\"fill_color\":\"#1a9641\",\"hatch_alpha\":{\"value\":0.6},\"x\":{\"field\":\"x\"},\"y1\":{\"value\":0},\"y2\":{\"field\":\"kde_values\"}},\"id\":\"624604\",\"type\":\"VArea\"},{\"attributes\":{},\"id\":\"624744\",\"type\":\"UnionRenderers\"},{\"attributes\":{\"axis_label\":\"Frequency\",\"coordinates\":null,\"formatter\":{\"id\":\"624550\"},\"group\":null,\"major_label_policy\":{\"id\":\"624551\"},\"ticker\":{\"id\":\"624531\"}},\"id\":\"624530\",\"type\":\"LinearAxis\"},{\"attributes\":{},\"id\":\"624531\",\"type\":\"BasicTicker\"},{\"attributes\":{},\"id\":\"624745\",\"type\":\"Selection\"},{\"attributes\":{},\"id\":\"624535\",\"type\":\"SaveTool\"},{\"attributes\":{},\"id\":\"624520\",\"type\":\"DataRange1d\"},{\"attributes\":{\"data\":{\"cell_ID\":{\"__ndarray__\":\"pQEAAHEAAAAaAAAAPwAAABMBAAAIAQAA0QAAAKQCAAC4AgAACwQAACIFAACGBQAAiAYAABEHAACZCAAA\",\"dtype\":\"int32\",\"order\":\"little\",\"shape\":[15]},\"compound\":[\"BDQ\",\"BDQ\",\"BDQ\",\"BDQ\",\"BDQ\",\"BDQ\",\"BDQ\",\"BDQ\",\"BDQ\",\"BDQ\",\"BDQ\",\"BDQ\",\"BDQ\",\"BDQ\",\"BDQ\"],\"concentration\":[\"EC50\",\"EC50\",\"EC50\",\"EC50\",\"EC50\",\"EC50\",\"EC50\",\"EC50\",\"EC50\",\"EC50\",\"EC50\",\"EC50\",\"EC50\",\"EC50\",\"EC50\"],\"dMtb\":{\"__ndarray__\":\"ZFHvUghAzz/nvn5iL9XxP6QlcShvTdA/GkB1R77Fwz8yOdnmEovEPygKqyouOso/hz9PKGUx2T+8w9YADZm9P04064J34Nw//4vU1Z4Lwz8ZSo8cEh3wP0ChpM5jOOE/COh4xA/j1T8nCvJVSOnGv0hRFcR889c/\",\"dtype\":\"float64\",\"order\":\"little\",\"shape\":[15]},\"glimpse_url_t0\":[\"https://macrohet.s3.eu-west-2.amazonaws.com/dMtb/dMtb_glimpses/glimpse_421.3.9_t0.png\",\"https://macrohet.s3.eu-west-2.amazonaws.com/dMtb/dMtb_glimpses/glimpse_113.3.9_t0.png\",\"https://macrohet.s3.eu-west-2.amazonaws.com/dMtb/dMtb_glimpses/glimpse_26.3.9_t0.png\",\"https://macrohet.s3.eu-west-2.amazonaws.com/dMtb/dMtb_glimpses/glimpse_63.3.9_t0.png\",\"https://macrohet.s3.eu-west-2.amazonaws.com/dMtb/dMtb_glimpses/glimpse_275.3.9_t0.png\",\"https://macrohet.s3.eu-west-2.amazonaws.com/dMtb/dMtb_glimpses/glimpse_264.3.9_t0.png\",\"https://macrohet.s3.eu-west-2.amazonaws.com/dMtb/dMtb_glimpses/glimpse_209.3.9_t0.png\",\"https://macrohet.s3.eu-west-2.amazonaws.com/dMtb/dMtb_glimpses/glimpse_676.3.9_t2.png\",\"https://macrohet.s3.eu-west-2.amazonaws.com/dMtb/dMtb_glimpses/glimpse_696.3.9_t2.png\",\"https://macrohet.s3.eu-west-2.amazonaws.com/dMtb/dMtb_glimpses/glimpse_1035.3.9_t6.png\",\"https://macrohet.s3.eu-west-2.amazonaws.com/dMtb/dMtb_glimpses/glimpse_1314.3.9_t10.png\",\"https://macrohet.s3.eu-west-2.amazonaws.com/dMtb/dMtb_glimpses/glimpse_1414.3.9_t12.png\",\"https://macrohet.s3.eu-west-2.amazonaws.com/dMtb/dMtb_glimpses/glimpse_1672.3.9_t17.png\",\"https://macrohet.s3.eu-west-2.amazonaws.com/dMtb/dMtb_glimpses/glimpse_1809.3.9_t19.png\",\"https://macrohet.s3.eu-west-2.amazonaws.com/dMtb/dMtb_glimpses/glimpse_2201.3.9_t29.png\"],\"glimpse_url_tn\":[\"https://macrohet.s3.eu-west-2.amazonaws.com/dMtb/dMtb_glimpses/glimpse_421.3.9_t-1.png\",\"https://macrohet.s3.eu-west-2.amazonaws.com/dMtb/dMtb_glimpses/glimpse_113.3.9_t-1.png\",\"https://macrohet.s3.eu-west-2.amazonaws.com/dMtb/dMtb_glimpses/glimpse_26.3.9_t-1.png\",\"https://macrohet.s3.eu-west-2.amazonaws.com/dMtb/dMtb_glimpses/glimpse_63.3.9_t-1.png\",\"https://macrohet.s3.eu-west-2.amazonaws.com/dMtb/dMtb_glimpses/glimpse_275.3.9_t-1.png\",\"https://macrohet.s3.eu-west-2.amazonaws.com/dMtb/dMtb_glimpses/glimpse_264.3.9_t-1.png\",\"https://macrohet.s3.eu-west-2.amazonaws.com/dMtb/dMtb_glimpses/glimpse_209.3.9_t-1.png\",\"https://macrohet.s3.eu-west-2.amazonaws.com/dMtb/dMtb_glimpses/glimpse_676.3.9_t-1.png\",\"https://macrohet.s3.eu-west-2.amazonaws.com/dMtb/dMtb_glimpses/glimpse_696.3.9_t-1.png\",\"https://macrohet.s3.eu-west-2.amazonaws.com/dMtb/dMtb_glimpses/glimpse_1035.3.9_t-1.png\",\"https://macrohet.s3.eu-west-2.amazonaws.com/dMtb/dMtb_glimpses/glimpse_1314.3.9_t-1.png\",\"https://macrohet.s3.eu-west-2.amazonaws.com/dMtb/dMtb_glimpses/glimpse_1414.3.9_t-1.png\",\"https://macrohet.s3.eu-west-2.amazonaws.com/dMtb/dMtb_glimpses/glimpse_1672.3.9_t-1.png\",\"https://macrohet.s3.eu-west-2.amazonaws.com/dMtb/dMtb_glimpses/glimpse_1809.3.9_t-1.png\",\"https://macrohet.s3.eu-west-2.amazonaws.com/dMtb/dMtb_glimpses/glimpse_2201.3.9_t-1.png\"],\"strain\":[\"WT\",\"WT\",\"WT\",\"WT\",\"WT\",\"WT\",\"WT\",\"WT\",\"WT\",\"WT\",\"WT\",\"WT\",\"WT\",\"WT\",\"WT\"],\"tech_rep\":[1,1,1,1,1,1,1,1,1,1,1,1,1,1,1],\"x\":{\"__ndarray__\":\"ZFHvUghAzz/nvn5iL9XxP6QlcShvTdA/GkB1R77Fwz8yOdnmEovEPygKqyouOso/hz9PKGUx2T+8w9YADZm9P04064J34Nw//4vU1Z4Lwz8ZSo8cEh3wP0ChpM5jOOE/COh4xA/j1T8nCvJVSOnGv0hRFcR889c/\",\"dtype\":\"float64\",\"order\":\"little\",\"shape\":[15]},\"y\":{\"__ndarray__\":\"tMwiFFtB0z9KQiJt40/UPzCCxkyiXtQ/C5jArbt51D9D5PT1fM3UP5QRF4BG6dQ/1gCloUYh1T900CUceovVP9An8iTpmtU/lu1D3nL11T9lAKjixi3WPwuW6gJeZtY/xqhr7X2q1j9OuFfmrbrWP4YEjC5vDtc/\",\"dtype\":\"float64\",\"order\":\"little\",\"shape\":[15]}},\"name\":\"WT, BDQ, EC50\",\"selected\":{\"id\":\"624739\"},\"selection_policy\":{\"id\":\"624738\"}},\"id\":\"624621\",\"type\":\"ColumnDataSource\"},{\"attributes\":{\"coordinates\":null,\"data_source\":{\"id\":\"624648\"},\"glyph\":{\"id\":\"624650\"},\"group\":null,\"hover_glyph\":null,\"muted_glyph\":{\"id\":\"624652\"},\"nonselection_glyph\":{\"id\":\"624651\"},\"view\":{\"id\":\"624654\"}},\"id\":\"624653\",\"type\":\"GlyphRenderer\"},{\"attributes\":{},\"id\":\"624594\",\"type\":\"AllLabels\"},{\"attributes\":{\"fill_alpha\":{\"value\":0.1},\"fill_color\":{\"value\":\"#1a9641\"},\"hatch_alpha\":{\"value\":0.1},\"hatch_color\":{\"value\":\"#1a9641\"},\"line_alpha\":{\"value\":0.1},\"size\":{\"value\":20},\"x\":{\"field\":\"x\"},\"y\":{\"field\":\"y\"}},\"id\":\"624624\",\"type\":\"Scatter\"},{\"attributes\":{\"fill_alpha\":{\"value\":0.9},\"fill_color\":{\"value\":\"#1a9641\"},\"hatch_alpha\":{\"value\":0.9},\"hatch_color\":{\"value\":\"#1a9641\"},\"line_alpha\":{\"value\":0.9},\"size\":{\"value\":20},\"x\":{\"field\":\"x\"},\"y\":{\"field\":\"y\"}},\"id\":\"624623\",\"type\":\"Scatter\"},{\"attributes\":{\"ticks\":[]},\"id\":\"624588\",\"type\":\"FixedTicker\"},{\"attributes\":{\"source\":{\"id\":\"624628\"}},\"id\":\"624634\",\"type\":\"CDSView\"},{\"attributes\":{\"toolbars\":[{\"id\":\"624541\"},{\"id\":\"624581\"}],\"tools\":[{\"id\":\"624534\"},{\"id\":\"624535\"},{\"id\":\"624536\"},{\"id\":\"624537\"},{\"id\":\"624538\"},{\"id\":\"624539\"},{\"id\":\"624574\"},{\"id\":\"624575\"},{\"id\":\"624576\"},{\"id\":\"624577\"},{\"id\":\"624578\"},{\"id\":\"624579\"},{\"id\":\"624600\"}]},\"id\":\"624749\",\"type\":\"ProxyToolbar\"},{\"attributes\":{\"fill_alpha\":0.1,\"fill_color\":\"#a6d96a\",\"hatch_alpha\":{\"value\":0.1},\"x\":{\"field\":\"x\"},\"y1\":{\"value\":0},\"y2\":{\"field\":\"kde_values\"}},\"id\":\"624631\",\"type\":\"VArea\"},{\"attributes\":{},\"id\":\"624522\",\"type\":\"LinearScale\"},{\"attributes\":{\"source\":{\"id\":\"624684\"}},\"id\":\"624690\",\"type\":\"CDSView\"},{\"attributes\":{\"fill_alpha\":0.6,\"fill_color\":\"#a6d96a\",\"hatch_alpha\":{\"value\":0.6},\"x\":{\"field\":\"x\"},\"y1\":{\"value\":0},\"y2\":{\"field\":\"kde_values\"}},\"id\":\"624630\",\"type\":\"VArea\"},{\"attributes\":{\"label\":{\"value\":\"WT, RIF, EC50\"},\"renderers\":[{\"id\":\"624689\"}]},\"id\":\"624707\",\"type\":\"LegendItem\"},{\"attributes\":{\"source\":{\"id\":\"624621\"}},\"id\":\"624627\",\"type\":\"CDSView\"},{\"attributes\":{\"end\":0.5,\"start\":-0.5},\"id\":\"624557\",\"type\":\"Range1d\"},{\"attributes\":{\"axis_label\":\"\\u0394Mtb \\n(fold-change relative to area)\",\"coordinates\":null,\"formatter\":{\"id\":\"624596\"},\"group\":null,\"major_label_policy\":{\"id\":\"624597\"},\"ticker\":{\"id\":\"624567\"}},\"id\":\"624566\",\"type\":\"LinearAxis\"},{\"attributes\":{\"fill_alpha\":{\"value\":0.1},\"fill_color\":{\"value\":\"#1a9641\"},\"hatch_alpha\":{\"value\":0.1},\"hatch_color\":{\"value\":\"#1a9641\"},\"line_alpha\":{\"value\":0.1},\"line_color\":{\"value\":\"#1a9641\"},\"size\":{\"value\":20},\"x\":{\"field\":\"x\"},\"y\":{\"field\":\"y\"}},\"id\":\"624625\",\"type\":\"Scatter\"},{\"attributes\":{\"coordinates\":null,\"data_source\":{\"id\":\"624621\"},\"glyph\":{\"id\":\"624623\"},\"group\":null,\"hover_glyph\":null,\"muted_glyph\":{\"id\":\"624625\"},\"nonselection_glyph\":{\"id\":\"624624\"},\"view\":{\"id\":\"624627\"}},\"id\":\"624626\",\"type\":\"GlyphRenderer\"},{\"attributes\":{\"label\":{\"value\":\"WT, PZA, EC50\"},\"renderers\":[{\"id\":\"624660\"}]},\"id\":\"624676\",\"type\":\"LegendItem\"},{\"attributes\":{\"callback\":null,\"tooltips\":\" <div>\\n        <div style=\\\"position: relative; display: inline-block;\\\">\\n            <img\\n                src=\\\"@glimpse_url_t0\\\" height=\\\"120\\\" alt=\\\"@glimpse_url_t0\\\" width=\\\"120\\\"\\n                style=\\\"float: left; margin: 0px 15px 15px 0px;\\\"\\n                border=\\\"2\\\"\\n            >\\n            <div style=\\\"position: absolute; bottom: 5px; right: 5px; background-color: lightgrey; padding: 5px;\\\">\\n                <span style=\\\"font-size: 12px; color: black;\\\">t = 0</span>\\n            </div>\\n            </img>\\n        </div>\\n        <div style=\\\"position: relative; display: inline-block;\\\">\\n            <img\\n                src=\\\"@glimpse_url_tn\\\" height=\\\"120\\\" alt=\\\"@glimpse_url_tn\\\" width=\\\"120\\\"\\n                style=\\\"float: left; margin: 0px 15px 15px 0px;\\\"\\n                border=\\\"2\\\"\\n            >\\n            <div style=\\\"position: absolute; bottom: 5px; right: 5px; background-color: lightgrey; padding: 5px;\\\">\\n                <span style=\\\"font-size: 12px; color: black;\\\">t = final</span>\\n            </div>\\n            </img>\\n        </div>\\n        <div>\\n             <span style=\\\"font-size: 17px; font-weight: bold; color: black;\\\">Cell ID: @cell_ID</span>\\n         </div>\\n         <div>\\n             <span style=\\\"font-size: 15px; color: black;\\\">\\u0394Mtb: @x</span>\\n         </div>\\n         <div>\\n             <span style=\\\"font-size: 15px; color: black;\\\">Strain: @strain</span>\\n         </div>\\n         <div>\\n             <span style=\\\"font-size: 15px; color: black;\\\">Compound: @compound</span>\\n         </div>\\n         <div>\\n             <span style=\\\"font-size: 15px; color: black;\\\">Concentration: @concentration</span>\\n         </div>\\n         <div>\\n             <span style=\\\"font-size: 15px; color: black;\\\">Tech. replicate: @tech_rep</span>\\n         </div>\\n    </div>\\n\"},\"id\":\"624600\",\"type\":\"HoverTool\"},{\"attributes\":{},\"id\":\"624524\",\"type\":\"LinearScale\"},{\"attributes\":{},\"id\":\"624564\",\"type\":\"LinearScale\"},{\"attributes\":{},\"id\":\"624550\",\"type\":\"BasicTickFormatter\"},{\"attributes\":{\"below\":[{\"id\":\"624526\"}],\"center\":[{\"id\":\"624529\"},{\"id\":\"624533\"},{\"id\":\"624619\"}],\"height\":400,\"left\":[{\"id\":\"624530\"}],\"renderers\":[{\"id\":\"624607\"},{\"id\":\"624633\"},{\"id\":\"624660\"},{\"id\":\"624689\"}],\"title\":{\"id\":\"624516\"},\"toolbar\":{\"id\":\"624541\"},\"toolbar_location\":null,\"width\":1000,\"x_range\":{\"id\":\"624557\"},\"x_scale\":{\"id\":\"624522\"},\"y_range\":{\"id\":\"624520\"},\"y_scale\":{\"id\":\"624524\"}},\"id\":\"624515\",\"subtype\":\"Figure\",\"type\":\"Plot\"},{\"attributes\":{},\"id\":\"624560\",\"type\":\"DataRange1d\"},{\"attributes\":{\"active_scroll\":{\"id\":\"624539\"},\"tools\":[{\"id\":\"624534\"},{\"id\":\"624535\"},{\"id\":\"624536\"},{\"id\":\"624537\"},{\"id\":\"624538\"},{\"id\":\"624539\"}]},\"id\":\"624541\",\"type\":\"Toolbar\"},{\"attributes\":{},\"id\":\"624553\",\"type\":\"BasicTickFormatter\"},{\"attributes\":{},\"id\":\"624554\",\"type\":\"AllLabels\"},{\"attributes\":{},\"id\":\"624562\",\"type\":\"LinearScale\"},{\"attributes\":{\"coordinates\":null,\"formatter\":{\"id\":\"624553\"},\"group\":null,\"major_label_policy\":{\"id\":\"624554\"},\"ticker\":{\"id\":\"624527\"},\"visible\":false},\"id\":\"624526\",\"type\":\"LinearAxis\"},{\"attributes\":{},\"id\":\"624567\",\"type\":\"BasicTicker\"},{\"attributes\":{\"axis\":{\"id\":\"624566\"},\"coordinates\":null,\"group\":null,\"ticker\":null},\"id\":\"624569\",\"type\":\"Grid\"},{\"attributes\":{\"children\":[[{\"id\":\"624515\"},0,0],[{\"id\":\"624558\"},1,0]]},\"id\":\"624748\",\"type\":\"GridBox\"},{\"attributes\":{},\"id\":\"624575\",\"type\":\"SaveTool\"},{\"attributes\":{\"axis_label\":\"Outlier browser \\n(1 S.D. from mean)\",\"coordinates\":null,\"formatter\":{\"id\":\"624590\"},\"group\":null,\"major_label_policy\":{\"id\":\"624594\"},\"ticker\":{\"id\":\"624588\"}},\"id\":\"624570\",\"type\":\"LinearAxis\"},{\"attributes\":{\"axis\":{\"id\":\"624570\"},\"coordinates\":null,\"dimension\":1,\"group\":null,\"ticker\":null},\"id\":\"624573\",\"type\":\"Grid\"},{\"attributes\":{},\"id\":\"624579\",\"type\":\"WheelZoomTool\"},{\"attributes\":{},\"id\":\"624576\",\"type\":\"PanTool\"},{\"attributes\":{},\"id\":\"624574\",\"type\":\"CrosshairTool\"},{\"attributes\":{\"fill_alpha\":0.1,\"fill_color\":\"#d02c91\",\"hatch_alpha\":{\"value\":0.1},\"hatch_color\":{\"value\":\"#d02c91\"},\"x\":{\"field\":\"x\"},\"y1\":{\"value\":0},\"y2\":{\"field\":\"kde_values\"}},\"id\":\"624688\",\"type\":\"VArea\"},{\"attributes\":{\"active_scroll\":{\"id\":\"624579\"},\"tools\":[{\"id\":\"624574\"},{\"id\":\"624575\"},{\"id\":\"624576\"},{\"id\":\"624577\"},{\"id\":\"624578\"},{\"id\":\"624579\"},{\"id\":\"624600\"}]},\"id\":\"624581\",\"type\":\"Toolbar\"},{\"attributes\":{\"fill_alpha\":0.1,\"fill_color\":\"#d02c91\",\"hatch_alpha\":{\"value\":0.1},\"x\":{\"field\":\"x\"},\"y1\":{\"value\":0},\"y2\":{\"field\":\"kde_values\"}},\"id\":\"624687\",\"type\":\"VArea\"},{\"attributes\":{\"click_policy\":\"mute\",\"coordinates\":null,\"group\":null,\"items\":[{\"id\":\"624620\"},{\"id\":\"624647\"},{\"id\":\"624676\"},{\"id\":\"624707\"}],\"location\":\"top_left\"},\"id\":\"624619\",\"type\":\"Legend\"},{\"attributes\":{\"fill_alpha\":0.1,\"fill_color\":\"#a6d96a\",\"hatch_alpha\":{\"value\":0.1},\"hatch_color\":{\"value\":\"#a6d96a\"},\"x\":{\"field\":\"x\"},\"y1\":{\"value\":0},\"y2\":{\"field\":\"kde_values\"}},\"id\":\"624632\",\"type\":\"VArea\"},{\"attributes\":{\"data\":{\"kde_values\":{\"__ndarray__\":\"txYYhBi4oT9rhZI1L0WfP8QtYbeNsJU/TKciSZzNiT/0xd2mFjyEP4inqigNC5E/z3TXAwNwpD+dzBITyaS7P3PF0Iec49Q/1UPJDDed7z+gv4CaDAcFQARmPFuk4BZAK0DQZT3CI0AJZfjsgcoqQGPpY3C1aixA+8GJkl+aJ0CzaRO93OYeQK5Zru1UOxBAEvfg33ym/D+bZyqEtX7nP0t4z3jnydQ/becd1dkXxj/ZIMFb0MC9Pzkmi67NiLo/s5qoq1N6vD8NFqokJKC+P26KZuRcmr0/XCZlZjJcuT9ipcPyc460P+1S+RNKs7E/hUcwsJhnsT8doCqti8CyP/DIuBRD8LM/2gnOmsX6sj9fJoiG5m2uP7Os59wfVaQ/mb+i/OxfmT8Wb+QXNXOVP5eDp3G+6Zw/B1p0AkqYpT+0TZIAOFKtP7supSSczrE/Wg7cZ9+Rsz+Yj0DqYVSzPz4KeI9o/bA/h2/ge3lmqz8ywbO843+mP7O9ULWQr6Q/EwlZMF3goz9tzzleR02hP2avD57pzpk/R/11GAqgkj96V2ndfyGSP2PCPo+ehZg/8jEZGjNLoD8hA9AufbyhPx0y/DUvQ54/03YX1IgPlD/RqNkl66GEP1vvdgcedXA/yGB3A0dcVD+uTYChrogzPzhfmhQdEQ0/Su+wWlLF4D63oayA+AOuPi49isls1HQ+0I/ANHRrNj65RNLPorbyPZ3D3kreOag98SQG00dSWD3rshFBbu8CPWb/f6lO3aY8+S5/aOZrRTxCpcHYXCEGPMfW5hiRDGc8nuzq+/OUxjyGgzvPTCghPZDuUAf3N3Q9i+HZiRF6wj3dkL1qQDAKPiIIRBUGyUw+PTVgIEGJiD7pds17BTjAPiFTTIzDoPA+OFvxVrdwGj/maEdZTU1AP5D1HV+aLV8/C/NxGPwedz/taibO3peKP/Nm6S5OuJc/FPAJDlhooD9Gw6gyWZuhPxao15OBW50/kpDZ4JpCkz/TvMU0HNyFP6j8gpq1moA/OmW1PS7GiD+iM5GKMpCVPwvXGMSzPp8/RKeZHZW3oT8=\",\"dtype\":\"float64\",\"order\":\"little\",\"shape\":[100]},\"x\":{\"__ndarray__\":\"JwryVUjpxr9ChuooIj3Fv14C4/v7kMO/en7bztXkwb+V+tOhrzjAv2HtmOkSGb2/mOWJj8bAub/P3Xo1emi2vwbWa9stELO/epy5AsNvr7/ojJtOKr+ov1R9fZqRDqK/iNu+zPG7lr/QeAXJgLWCvwCL5Q7EGXA/6IH1a6JnkT8IoTHU08iePxTgNp4CFaY/qO9UUpvFrD+efzkDGruxP2aHSF1mE7U/Lo9Xt7JruD/6lmYR/8O7P8KedWtLHL8/RVPC4ks6wT8p18kPcubCPw1b0TyYksQ/897Yab4+xj/XYuCW5OrHP7vm58MKl8k/oWrv8DBDyz+F7vYdV+/MP2ly/kp9m84/JvsCvNEj0D8YvYbS5PnQPwx/Cun3z9E//kCO/wqm0j/wAhIWHnzTP+LElSwxUtQ/1IYZQ0Qo1T/GSJ1ZV/7VP7gKIXBq1NY/qsykhn2q1z+cjiidkIDYP5BQrLOjVtk/ghIwyrYs2j901LPgyQLbP2aWN/fc2Ns/WFi7DfCu3D9KGj8kA4XdPzzcwjoWW94/Lp5GUSkx3z8QMOUzngPgPwoRJ7+nbuA/A/JoSrHZ4D/80qrVukThP/Wz7GDEr+E/7pQu7M0a4j/ndXB314XiP+BWsgLh8OI/2jf0jepb4z/TGDYZ9MbjP8z5d6T9MeQ/xdq5Lwed5D++u/u6EAjlP7ecPUYac+U/sH1/0SPe5T+pXsFcLUnmP6I/A+g2tOY/nCBFc0Af5z+VAYf+SYrnP47iyIlT9ec/h8MKFV1g6D+ApEygZsvoP3mFjitwNuk/cmbQtnmh6T9sRxJCgwzqP2QoVM2Md+o/XgmWWJbi6j9W6tfjn03rP1DLGW+puOs/Sqxb+rIj7D9CjZ2FvI7sPzxu3xDG+ew/NE8hnM9k7T8uMGMn2c/tPyYRpbLiOu4/IPLmPeyl7j8a0yjJ9RDvPxK0alT/e+8/DJWs3wjn7z8CO3c1CSnwP38rGPuNXvA/+xu5wBKU8D94DFqGl8nwP/T8+ksc//A/ce2bEaE08T/u3TzXJWrxP2rO3Zyqn/E/575+Yi/V8T8=\",\"dtype\":\"float64\",\"order\":\"little\",\"shape\":[100]}},\"selected\":{\"id\":\"624617\"},\"selection_policy\":{\"id\":\"624616\"}},\"id\":\"624602\",\"type\":\"ColumnDataSource\"},{\"attributes\":{},\"id\":\"624616\",\"type\":\"UnionRenderers\"},{\"attributes\":{\"bottom_units\":\"screen\",\"coordinates\":null,\"fill_alpha\":0.5,\"fill_color\":\"lightgrey\",\"group\":null,\"left_units\":\"screen\",\"level\":\"overlay\",\"line_alpha\":1.0,\"line_color\":\"black\",\"line_dash\":[4,4],\"line_width\":2,\"right_units\":\"screen\",\"syncable\":false,\"top_units\":\"screen\"},\"id\":\"624580\",\"type\":\"BoxAnnotation\"},{\"attributes\":{\"data\":{\"cell_ID\":{\"__ndarray__\":\"QwEAACsBAAClAAAAqQAAAOYEAADjBAAA8wcAAHAJAAA=\",\"dtype\":\"int32\",\"order\":\"little\",\"shape\":[8]},\"compound\":[\"PZA\",\"PZA\",\"PZA\",\"PZA\",\"PZA\",\"PZA\",\"PZA\",\"PZA\"],\"concentration\":[\"EC50\",\"EC50\",\"EC50\",\"EC50\",\"EC50\",\"EC50\",\"EC50\",\"EC50\"],\"dMtb\":{\"__ndarray__\":\"cm/Q7jXx3j/z/QaJrigGQKLLTZQHeuE/KPPSnXfv3L978H3CnsLcv2eOEXWabQVAg0kaL2/k4D+I3zivVjbVPw==\",\"dtype\":\"float64\",\"order\":\"little\",\"shape\":[8]},\"glimpse_url_t0\":[\"https://macrohet.s3.eu-west-2.amazonaws.com/dMtb/dMtb_glimpses/glimpse_323.3.6_t0.png\",\"https://macrohet.s3.eu-west-2.amazonaws.com/dMtb/dMtb_glimpses/glimpse_299.3.6_t0.png\",\"https://macrohet.s3.eu-west-2.amazonaws.com/dMtb/dMtb_glimpses/glimpse_165.3.6_t0.png\",\"https://macrohet.s3.eu-west-2.amazonaws.com/dMtb/dMtb_glimpses/glimpse_169.3.6_t0.png\",\"https://macrohet.s3.eu-west-2.amazonaws.com/dMtb/dMtb_glimpses/glimpse_1254.3.6_t7.png\",\"https://macrohet.s3.eu-west-2.amazonaws.com/dMtb/dMtb_glimpses/glimpse_1251.3.6_t7.png\",\"https://macrohet.s3.eu-west-2.amazonaws.com/dMtb/dMtb_glimpses/glimpse_2035.3.6_t19.png\",\"https://macrohet.s3.eu-west-2.amazonaws.com/dMtb/dMtb_glimpses/glimpse_2416.3.6_t26.png\"],\"glimpse_url_tn\":[\"https://macrohet.s3.eu-west-2.amazonaws.com/dMtb/dMtb_glimpses/glimpse_323.3.6_t-1.png\",\"https://macrohet.s3.eu-west-2.amazonaws.com/dMtb/dMtb_glimpses/glimpse_299.3.6_t-1.png\",\"https://macrohet.s3.eu-west-2.amazonaws.com/dMtb/dMtb_glimpses/glimpse_165.3.6_t-1.png\",\"https://macrohet.s3.eu-west-2.amazonaws.com/dMtb/dMtb_glimpses/glimpse_169.3.6_t-1.png\",\"https://macrohet.s3.eu-west-2.amazonaws.com/dMtb/dMtb_glimpses/glimpse_1254.3.6_t-1.png\",\"https://macrohet.s3.eu-west-2.amazonaws.com/dMtb/dMtb_glimpses/glimpse_1251.3.6_t-1.png\",\"https://macrohet.s3.eu-west-2.amazonaws.com/dMtb/dMtb_glimpses/glimpse_2035.3.6_t-1.png\",\"https://macrohet.s3.eu-west-2.amazonaws.com/dMtb/dMtb_glimpses/glimpse_2416.3.6_t-1.png\"],\"strain\":[\"WT\",\"WT\",\"WT\",\"WT\",\"WT\",\"WT\",\"WT\",\"WT\"],\"tech_rep\":[1,1,1,1,1,1,1,1],\"x\":{\"__ndarray__\":\"cm/Q7jXx3j/z/QaJrigGQKLLTZQHeuE/KPPSnXfv3L978H3CnsLcv2eOEXWabQVAg0kaL2/k4D+I3zivVjbVPw==\",\"dtype\":\"float64\",\"order\":\"little\",\"shape\":[8]},\"y\":{\"__ndarray__\":\"pn9JKlPMwT+k/KTap+PBP+RmuAGfH8I/fZHQlnMpwj9vRzgteNHDP8aIRKFl3cM/TihEwCFUxT/nGJC93v3FPw==\",\"dtype\":\"float64\",\"order\":\"little\",\"shape\":[8]}},\"name\":\"WT, PZA, EC50\",\"selected\":{\"id\":\"624743\"},\"selection_policy\":{\"id\":\"624742\"}},\"id\":\"624677\",\"type\":\"ColumnDataSource\"},{\"attributes\":{},\"id\":\"624644\",\"type\":\"UnionRenderers\"},{\"attributes\":{\"label\":{\"value\":\"WT, BDQ, EC50\"},\"renderers\":[{\"id\":\"624607\"}]},\"id\":\"624620\",\"type\":\"LegendItem\"},{\"attributes\":{},\"id\":\"624645\",\"type\":\"Selection\"},{\"attributes\":{\"fill_alpha\":{\"value\":0.9},\"fill_color\":{\"value\":\"#f1b6da\"},\"hatch_alpha\":{\"value\":0.9},\"hatch_color\":{\"value\":\"#f1b6da\"},\"line_alpha\":{\"value\":0.9},\"size\":{\"value\":20},\"x\":{\"field\":\"x\"},\"y\":{\"field\":\"y\"}},\"id\":\"624679\",\"type\":\"Scatter\"},{\"attributes\":{\"source\":{\"id\":\"624677\"}},\"id\":\"624683\",\"type\":\"CDSView\"},{\"attributes\":{\"fill_alpha\":{\"value\":0.1},\"fill_color\":{\"value\":\"#f1b6da\"},\"hatch_alpha\":{\"value\":0.1},\"hatch_color\":{\"value\":\"#f1b6da\"},\"line_alpha\":{\"value\":0.1},\"size\":{\"value\":20},\"x\":{\"field\":\"x\"},\"y\":{\"field\":\"y\"}},\"id\":\"624680\",\"type\":\"Scatter\"},{\"attributes\":{\"coordinates\":null,\"data_source\":{\"id\":\"624677\"},\"glyph\":{\"id\":\"624679\"},\"group\":null,\"hover_glyph\":null,\"muted_glyph\":{\"id\":\"624681\"},\"nonselection_glyph\":{\"id\":\"624680\"},\"view\":{\"id\":\"624683\"}},\"id\":\"624682\",\"type\":\"GlyphRenderer\"},{\"attributes\":{\"fill_alpha\":{\"value\":0.1},\"fill_color\":{\"value\":\"#f1b6da\"},\"hatch_alpha\":{\"value\":0.1},\"hatch_color\":{\"value\":\"#f1b6da\"},\"line_alpha\":{\"value\":0.1},\"line_color\":{\"value\":\"#f1b6da\"},\"size\":{\"value\":20},\"x\":{\"field\":\"x\"},\"y\":{\"field\":\"y\"}},\"id\":\"624681\",\"type\":\"Scatter\"},{\"attributes\":{\"toolbar\":{\"id\":\"624749\"},\"toolbar_location\":\"above\"},\"id\":\"624750\",\"type\":\"ToolbarBox\"},{\"attributes\":{\"below\":[{\"id\":\"624566\"}],\"center\":[{\"id\":\"624569\"},{\"id\":\"624573\"}],\"height\":200,\"left\":[{\"id\":\"624570\"}],\"renderers\":[{\"id\":\"624626\"},{\"id\":\"624653\"},{\"id\":\"624682\"},{\"id\":\"624713\"}],\"title\":{\"id\":\"624592\"},\"toolbar\":{\"id\":\"624581\"},\"toolbar_location\":null,\"width\":1000,\"x_range\":{\"id\":\"624557\"},\"x_scale\":{\"id\":\"624562\"},\"y_range\":{\"id\":\"624560\"},\"y_scale\":{\"id\":\"624564\"}},\"id\":\"624558\",\"subtype\":\"Figure\",\"type\":\"Plot\"},{\"attributes\":{\"format\":\"0\"},\"id\":\"624590\",\"type\":\"NumeralTickFormatter\"},{\"attributes\":{\"fill_alpha\":0.6,\"fill_color\":\"#d02c91\",\"hatch_alpha\":{\"value\":0.6},\"x\":{\"field\":\"x\"},\"y1\":{\"value\":0},\"y2\":{\"field\":\"kde_values\"}},\"id\":\"624686\",\"type\":\"VArea\"},{\"attributes\":{},\"id\":\"624704\",\"type\":\"UnionRenderers\"},{\"attributes\":{\"data\":{\"cell_ID\":{\"__ndarray__\":\"UgEAAA0CAACgAAAAKwAAADEBAACwAAAAsgAAAJcCAAA3AwAAiQMAAHwDAAC9AwAASwUAAFUFAAAmBQAAGwcAANAHAAAJCAAAKAgAAHAIAAA=\",\"dtype\":\"int32\",\"order\":\"little\",\"shape\":[20]},\"compound\":[\"RIF\",\"RIF\",\"RIF\",\"RIF\",\"RIF\",\"RIF\",\"RIF\",\"RIF\",\"RIF\",\"RIF\",\"RIF\",\"RIF\",\"RIF\",\"RIF\",\"RIF\",\"RIF\",\"RIF\",\"RIF\",\"RIF\",\"RIF\"],\"concentration\":[\"EC50\",\"EC50\",\"EC50\",\"EC50\",\"EC50\",\"EC50\",\"EC50\",\"EC50\",\"EC50\",\"EC50\",\"EC50\",\"EC50\",\"EC50\",\"EC50\",\"EC50\",\"EC50\",\"EC50\",\"EC50\",\"EC50\",\"EC50\"],\"dMtb\":{\"__ndarray__\":\"54vDpAsOwb+CeKvFfAm1v2xqe9xoE9a/x4Mm3/y9rz9eb8KO+h7mPxBP3Pjk5LY/mbGmbzGrsj8jC2Qd0N3AP4QHD2wEF64/Uz7SGws70L/xhWQExR29Pz9XJal0fLg/Rynch+ULwD9vChSZYKOxP83mzhS+66w/oX+ODjtlsL+6pbRhlJS9Pye1LChjLeA/YqjFzZJJrj9zZv9ylAGwPw==\",\"dtype\":\"float64\",\"order\":\"little\",\"shape\":[20]},\"glimpse_url_t0\":[\"https://macrohet.s3.eu-west-2.amazonaws.com/dMtb/dMtb_glimpses/glimpse_338.3.7_t0.png\",\"https://macrohet.s3.eu-west-2.amazonaws.com/dMtb/dMtb_glimpses/glimpse_525.3.7_t0.png\",\"https://macrohet.s3.eu-west-2.amazonaws.com/dMtb/dMtb_glimpses/glimpse_160.3.7_t0.png\",\"https://macrohet.s3.eu-west-2.amazonaws.com/dMtb/dMtb_glimpses/glimpse_43.3.7_t0.png\",\"https://macrohet.s3.eu-west-2.amazonaws.com/dMtb/dMtb_glimpses/glimpse_305.3.7_t0.png\",\"https://macrohet.s3.eu-west-2.amazonaws.com/dMtb/dMtb_glimpses/glimpse_176.3.7_t0.png\",\"https://macrohet.s3.eu-west-2.amazonaws.com/dMtb/dMtb_glimpses/glimpse_178.3.7_t0.png\",\"https://macrohet.s3.eu-west-2.amazonaws.com/dMtb/dMtb_glimpses/glimpse_663.3.7_t1.png\",\"https://macrohet.s3.eu-west-2.amazonaws.com/dMtb/dMtb_glimpses/glimpse_823.3.7_t2.png\",\"https://macrohet.s3.eu-west-2.amazonaws.com/dMtb/dMtb_glimpses/glimpse_905.3.7_t3.png\",\"https://macrohet.s3.eu-west-2.amazonaws.com/dMtb/dMtb_glimpses/glimpse_892.3.7_t3.png\",\"https://macrohet.s3.eu-west-2.amazonaws.com/dMtb/dMtb_glimpses/glimpse_957.3.7_t4.png\",\"https://macrohet.s3.eu-west-2.amazonaws.com/dMtb/dMtb_glimpses/glimpse_1355.3.7_t9.png\",\"https://macrohet.s3.eu-west-2.amazonaws.com/dMtb/dMtb_glimpses/glimpse_1365.3.7_t9.png\",\"https://macrohet.s3.eu-west-2.amazonaws.com/dMtb/dMtb_glimpses/glimpse_1318.3.7_t9.png\",\"https://macrohet.s3.eu-west-2.amazonaws.com/dMtb/dMtb_glimpses/glimpse_1819.3.7_t17.png\",\"https://macrohet.s3.eu-west-2.amazonaws.com/dMtb/dMtb_glimpses/glimpse_2000.3.7_t20.png\",\"https://macrohet.s3.eu-west-2.amazonaws.com/dMtb/dMtb_glimpses/glimpse_2057.3.7_t21.png\",\"https://macrohet.s3.eu-west-2.amazonaws.com/dMtb/dMtb_glimpses/glimpse_2088.3.7_t22.png\",\"https://macrohet.s3.eu-west-2.amazonaws.com/dMtb/dMtb_glimpses/glimpse_2160.3.7_t23.png\"],\"glimpse_url_tn\":[\"https://macrohet.s3.eu-west-2.amazonaws.com/dMtb/dMtb_glimpses/glimpse_338.3.7_t-1.png\",\"https://macrohet.s3.eu-west-2.amazonaws.com/dMtb/dMtb_glimpses/glimpse_525.3.7_t-1.png\",\"https://macrohet.s3.eu-west-2.amazonaws.com/dMtb/dMtb_glimpses/glimpse_160.3.7_t-1.png\",\"https://macrohet.s3.eu-west-2.amazonaws.com/dMtb/dMtb_glimpses/glimpse_43.3.7_t-1.png\",\"https://macrohet.s3.eu-west-2.amazonaws.com/dMtb/dMtb_glimpses/glimpse_305.3.7_t-1.png\",\"https://macrohet.s3.eu-west-2.amazonaws.com/dMtb/dMtb_glimpses/glimpse_176.3.7_t-1.png\",\"https://macrohet.s3.eu-west-2.amazonaws.com/dMtb/dMtb_glimpses/glimpse_178.3.7_t-1.png\",\"https://macrohet.s3.eu-west-2.amazonaws.com/dMtb/dMtb_glimpses/glimpse_663.3.7_t-1.png\",\"https://macrohet.s3.eu-west-2.amazonaws.com/dMtb/dMtb_glimpses/glimpse_823.3.7_t-1.png\",\"https://macrohet.s3.eu-west-2.amazonaws.com/dMtb/dMtb_glimpses/glimpse_905.3.7_t-1.png\",\"https://macrohet.s3.eu-west-2.amazonaws.com/dMtb/dMtb_glimpses/glimpse_892.3.7_t-1.png\",\"https://macrohet.s3.eu-west-2.amazonaws.com/dMtb/dMtb_glimpses/glimpse_957.3.7_t-1.png\",\"https://macrohet.s3.eu-west-2.amazonaws.com/dMtb/dMtb_glimpses/glimpse_1355.3.7_t-1.png\",\"https://macrohet.s3.eu-west-2.amazonaws.com/dMtb/dMtb_glimpses/glimpse_1365.3.7_t-1.png\",\"https://macrohet.s3.eu-west-2.amazonaws.com/dMtb/dMtb_glimpses/glimpse_1318.3.7_t-1.png\",\"https://macrohet.s3.eu-west-2.amazonaws.com/dMtb/dMtb_glimpses/glimpse_1819.3.7_t-1.png\",\"https://macrohet.s3.eu-west-2.amazonaws.com/dMtb/dMtb_glimpses/glimpse_2000.3.7_t-1.png\",\"https://macrohet.s3.eu-west-2.amazonaws.com/dMtb/dMtb_glimpses/glimpse_2057.3.7_t-1.png\",\"https://macrohet.s3.eu-west-2.amazonaws.com/dMtb/dMtb_glimpses/glimpse_2088.3.7_t-1.png\",\"https://macrohet.s3.eu-west-2.amazonaws.com/dMtb/dMtb_glimpses/glimpse_2160.3.7_t-1.png\"],\"strain\":[\"WT\",\"WT\",\"WT\",\"WT\",\"WT\",\"WT\",\"WT\",\"WT\",\"WT\",\"WT\",\"WT\",\"WT\",\"WT\",\"WT\",\"WT\",\"WT\",\"WT\",\"WT\",\"WT\",\"WT\"],\"tech_rep\":[1,1,1,1,1,1,1,1,1,1,1,1,1,1,1,1,1,1,1,1],\"x\":{\"__ndarray__\":\"54vDpAsOwb+CeKvFfAm1v2xqe9xoE9a/x4Mm3/y9rz9eb8KO+h7mPxBP3Pjk5LY/mbGmbzGrsj8jC2Qd0N3AP4QHD2wEF64/Uz7SGws70L/xhWQExR29Pz9XJal0fLg/Rynch+ULwD9vChSZYKOxP83mzhS+66w/oX+ODjtlsL+6pbRhlJS9Pye1LChjLeA/YqjFzZJJrj9zZv9ylAGwPw==\",\"dtype\":\"float64\",\"order\":\"little\",\"shape\":[20]},\"y\":{\"__ndarray__\":\"TZ8dcF0xxz+Kdap8z0jIP2o0uRgD68g/MbYQ5KCEyT+K6NfWT//JP5+qQgOxbMo/murJ/KNvyj94R8Zq8//KP7yS5Lm+D8s/PuqvV1hwyz/erwJ8t3nLP5pDUgslk8s/fxKfO8H+yz+YT1YMVwfMPyxmhLcHIcw/jGoRUUzezD+RCfg1kgTNP8hD393KEs0/C7Q7pBggzT/+1eO+1TrNPw==\",\"dtype\":\"float64\",\"order\":\"little\",\"shape\":[20]}},\"name\":\"WT, RIF, EC50\",\"selected\":{\"id\":\"624745\"},\"selection_policy\":{\"id\":\"624744\"}},\"id\":\"624708\",\"type\":\"ColumnDataSource\"},{\"attributes\":{\"coordinates\":null,\"group\":null,\"text\":\"Histogram showing the distribution of the change in intracellular Mtb (\\u0394Mtb)\"},\"id\":\"624516\",\"type\":\"Title\"},{\"attributes\":{\"fill_alpha\":{\"value\":0.9},\"fill_color\":{\"value\":\"#d02c91\"},\"hatch_alpha\":{\"value\":0.9},\"hatch_color\":{\"value\":\"#d02c91\"},\"line_alpha\":{\"value\":0.9},\"size\":{\"value\":20},\"x\":{\"field\":\"x\"},\"y\":{\"field\":\"y\"}},\"id\":\"624710\",\"type\":\"Scatter\"},{\"attributes\":{},\"id\":\"624705\",\"type\":\"Selection\"},{\"attributes\":{\"source\":{\"id\":\"624708\"}},\"id\":\"624714\",\"type\":\"CDSView\"},{\"attributes\":{\"fill_alpha\":{\"value\":0.1},\"fill_color\":{\"value\":\"#d02c91\"},\"hatch_alpha\":{\"value\":0.1},\"hatch_color\":{\"value\":\"#d02c91\"},\"line_alpha\":{\"value\":0.1},\"size\":{\"value\":20},\"x\":{\"field\":\"x\"},\"y\":{\"field\":\"y\"}},\"id\":\"624711\",\"type\":\"Scatter\"},{\"attributes\":{\"coordinates\":null,\"data_source\":{\"id\":\"624708\"},\"glyph\":{\"id\":\"624710\"},\"group\":null,\"hover_glyph\":null,\"muted_glyph\":{\"id\":\"624712\"},\"nonselection_glyph\":{\"id\":\"624711\"},\"view\":{\"id\":\"624714\"}},\"id\":\"624713\",\"type\":\"GlyphRenderer\"},{\"attributes\":{},\"id\":\"624527\",\"type\":\"BasicTicker\"},{\"attributes\":{\"fill_alpha\":{\"value\":0.1},\"fill_color\":{\"value\":\"#d02c91\"},\"hatch_alpha\":{\"value\":0.1},\"hatch_color\":{\"value\":\"#d02c91\"},\"line_alpha\":{\"value\":0.1},\"line_color\":{\"value\":\"#d02c91\"},\"size\":{\"value\":20},\"x\":{\"field\":\"x\"},\"y\":{\"field\":\"y\"}},\"id\":\"624712\",\"type\":\"Scatter\"},{\"attributes\":{\"label\":{\"value\":\"WT, INH, EC50\"},\"renderers\":[{\"id\":\"624633\"}]},\"id\":\"624647\",\"type\":\"LegendItem\"},{\"attributes\":{},\"id\":\"624738\",\"type\":\"UnionRenderers\"},{\"attributes\":{\"coordinates\":null,\"data_source\":{\"id\":\"624655\"},\"glyph\":{\"id\":\"624657\"},\"group\":null,\"hover_glyph\":null,\"muted_glyph\":{\"id\":\"624659\"},\"nonselection_glyph\":{\"id\":\"624658\"},\"view\":{\"id\":\"624661\"}},\"id\":\"624660\",\"type\":\"GlyphRenderer\"},{\"attributes\":{\"fill_alpha\":0.6,\"fill_color\":\"#f1b6da\",\"hatch_alpha\":{\"value\":0.6},\"x\":{\"field\":\"x\"},\"y1\":{\"value\":0},\"y2\":{\"field\":\"kde_values\"}},\"id\":\"624657\",\"type\":\"VArea\"},{\"attributes\":{},\"id\":\"624739\",\"type\":\"Selection\"},{\"attributes\":{\"fill_alpha\":0.1,\"fill_color\":\"#f1b6da\",\"hatch_alpha\":{\"value\":0.1},\"hatch_color\":{\"value\":\"#f1b6da\"},\"x\":{\"field\":\"x\"},\"y1\":{\"value\":0},\"y2\":{\"field\":\"kde_values\"}},\"id\":\"624659\",\"type\":\"VArea\"},{\"attributes\":{\"source\":{\"id\":\"624655\"}},\"id\":\"624661\",\"type\":\"CDSView\"},{\"attributes\":{},\"id\":\"624617\",\"type\":\"Selection\"},{\"attributes\":{\"coordinates\":null,\"data_source\":{\"id\":\"624628\"},\"glyph\":{\"id\":\"624630\"},\"group\":null,\"hover_glyph\":null,\"muted_glyph\":{\"id\":\"624632\"},\"nonselection_glyph\":{\"id\":\"624631\"},\"view\":{\"id\":\"624634\"}},\"id\":\"624633\",\"type\":\"GlyphRenderer\"},{\"attributes\":{\"data\":{\"kde_values\":{\"__ndarray__\":\"xFD2RnsSoD9tUIB4hmubP6KxZjrWh5A/ZWZt4LoyfD+NpnHx23lhP1sq479JCkw/sg+m1GGyYT+pqOJ31xuCPzK4YKdFc6I/em50Jxgpwz+vefIpNAbiPzVimf1l6vo/SO+Ug+bSDUCfwtFRgeMXQIYDNozJahtAEyPNIq6FFkD9zL/uU6sKQHVu9G63Ufc/6vAwreIo4D+XIvCR6P/EP5r9W9896q8/4tuDQbRsnj+WzXOiAxCTP7FYvwglNpE/mX+kGUB/kT+tHYkceW6PP5CKqWszE4w/IObi0GulkT8+pn1XMMSbP5JH9ggOgaM/FFIT1eGYpT9YsNGS3zyiP7wpswusEJc/GHfbyJKBhT/x11TH+jNtPzMVehKRnkw/mj80UD8fJD9NujrZjjj0Phyh3Gj097w+tYLYhXyHfT6bb2J1+2M1PrE2m1FGAOY9jM9Ej4UNkD1ABglidZswPb2aGD/uWMg8xIYc+tlHWTz+YJj5hJXiO1LsHyxeVmM7KsjCtTN53DpUW7s3X6hNOo8LvpEB2bU5H1u0OPfCFjk7If1nMsRwOGRFAYROdsE3LPYI0z+2CTdlAEnjkMJKNo8Lx0Y+r4M1wqIwdpd3tDSgQXZeORTeMxmFctYuPf8y23vn30jtFjIG9Zv448cnMb4030cjbjEwKNWqyU4OMi8UaTgpFClUL5u+HDWXklIw0LjpWbEtSDHlpBUqeT02Mqr/NgGd6BwznsTAWeSM+jN5F7dSrTrRNJiWOqFTmZ812KkgK1V5ZDbezCM9B78iNwnpYi9dQdg3nMlK5qkshjjyNLHWq6UsOZ2jcBFAJso53KNO9IXdYDqHCR7VFr7uOkxyi6YezHM7qVOkGBME8js0OFhxACtnPC7PqoMMDdU8EpLDVpAHOz21Edf1qoWYPcofbrpDcO89xko8PJx6PD6KsB7kgjqCPmqs+UZBfcA+oxn6BEkV9T5GGyk4BA8jP3ONB3TrYkg/wWQAf60kZj93VWF4grx8P5N5uDKnHYs/MunqoOlYkz+yi4ejU2SWP8efWH4WpJY/YkVfqBgtlD8=\",\"dtype\":\"float64\",\"order\":\"little\",\"shape\":[100]},\"x\":{\"__ndarray__\":\"KPPSnXfv3L8pcj/uPtravynxqz4Gxdi/KnAYj82v1r8q74TflJrUvytu8S9chdK/LO1dgCNw0L9Z2JSh1bXMv1rWbUJki8i/XNRG4/JgxL9c0h+EgTbAv7yg8UkgGLi/gDlHF3uGr78AY1Y1a7mdv4BnDR/+0Gw/eN6MXtV2oj84c5RtTZCxPzh34isw5bk/mD0YdQkdwT+YPz/UekfFP5hBZjPscck/lEONkl2czT/KItp4Z+PQP8qjbSig+NI/yCQB2NgN1T/IpZSHESPXP8gmKDdKONk/yKe75oJN2z/GKE+Wu2LdP8ap4kX0d98/YxW7epbG4D/i1YTSMtHhP2KWTirP2+I/4lYYgmvm4z9iF+LZB/HkP+LXqzGk++U/YJh1iUAG5z/gWD/h3BDoP2AZCTl5G+k/4NnSkBUm6j9gmpzosTDrP+BaZkBOO+w/XhswmOpF7T/e2/nvhlDuP16cw0cjW+8/b67Gz98y8D+vjqv7LbjwP+9ukCd8PfE/Lk91U8rC8T9uL1p/GEjyP64PP6tmzfI/7u8j17RS8z8u0AgDA9jzP26w7S5RXfQ/rpDSWp/i9D/tcLeG7Wf1Py1RnLI77fU/bTGB3oly9j+tEWYK2Pf2P+3xSjYmffc/LdIvYnQC+D9sshSOwof4P6yS+bkQDfk/7HLe5V6S+T8sU8MRrRf6P2wzqD37nPo/rBONaUki+z/s83GVl6f7PyzUVsHlLPw/bLQ77TOy/D+slCAZgjf9P+p0BUXQvP0/KlXqcB5C/j9qNc+cbMf+P6oVtMi6TP8/6vWY9AjS/z8V6z6QqysAQDVbMaZSbgBAVcsjvPmwAEB1OxbSoPMAQJWrCOhHNgFAtRv7/e54AUDVi+0TlrsBQPX73yk9/gFAFGzSP+RAAkA03MRVi4MCQFRMt2syxgJAdLypgdkIA0CULJyXgEsDQLScjq0njgNA1AyBw87QA0D0fHPZdRMEQBTtZe8cVgRANF1YBcSYBEBUzUoba9sEQHQ9PTESHgVAk60vR7lgBUCzHSJdYKMFQNONFHMH5gVA8/0Gia4oBkA=\",\"dtype\":\"float64\",\"order\":\"little\",\"shape\":[100]}},\"selected\":{\"id\":\"624674\"},\"selection_policy\":{\"id\":\"624673\"}},\"id\":\"624655\",\"type\":\"ColumnDataSource\"},{\"attributes\":{\"fill_alpha\":0.1,\"fill_color\":\"#f1b6da\",\"hatch_alpha\":{\"value\":0.1},\"x\":{\"field\":\"x\"},\"y1\":{\"value\":0},\"y2\":{\"field\":\"kde_values\"}},\"id\":\"624658\",\"type\":\"VArea\"},{\"attributes\":{\"fill_alpha\":0.1,\"fill_color\":\"#1a9641\",\"hatch_alpha\":{\"value\":0.1},\"x\":{\"field\":\"x\"},\"y1\":{\"value\":0},\"y2\":{\"field\":\"kde_values\"}},\"id\":\"624605\",\"type\":\"VArea\"},{\"attributes\":{},\"id\":\"624740\",\"type\":\"UnionRenderers\"},{\"attributes\":{\"source\":{\"id\":\"624602\"}},\"id\":\"624608\",\"type\":\"CDSView\"},{\"attributes\":{\"fill_alpha\":0.1,\"fill_color\":\"#1a9641\",\"hatch_alpha\":{\"value\":0.1},\"hatch_color\":{\"value\":\"#1a9641\"},\"x\":{\"field\":\"x\"},\"y1\":{\"value\":0},\"y2\":{\"field\":\"kde_values\"}},\"id\":\"624606\",\"type\":\"VArea\"},{\"attributes\":{},\"id\":\"624741\",\"type\":\"Selection\"},{\"attributes\":{\"data\":{\"kde_values\":{\"__ndarray__\":\"iNFJ38xfsD9UldfWaRWqP9LZpqB3XJo/848crUb5gD8rQiErjf9gP1WNGwODCGg/xHz8bTYxiD/cMJq4OqGgP0kl8savDK0/jEdOYasYsD8As1MT5KGmP3u6NVgNMJQ/PTO3vNLYdj+/Yth4BGlQP7VwoUvELiA/fQ8gNyrhIT99ILf8xwpSPwFtu8EVkXg/kB/bsIA6lT/emUYxnkenP75MM9L7OrA/1bWW3UlKrT9PDLsO+86jP0leCbWnyqI/5LuJrlNgrz84DoHMxjK4Py2IdJckAr0/KxZmId73vz+w1YuKYmbNPysQEK0atus/tx4m/dEeC0CtLFqzI3cjQBchWEBSpTJAh7S+pjA9N0AOaFiTHdIyQI4THg+pMyRAl4bQxSsFD0D4BaNCd6b2P6NexTAuROo/T+tIHxcq5T8W0U2OC57fP0vFT5nyvdU/IVgsuDPz0D/4Je+ynWjQP/BpdZ0y2dA/3C0vRCALzj/YGw+Qn4XEP6p98j6SH7Q/REJ2mZNCmz+yQVf8i9Z4P+1EZ8rC300/lvOc4odpFz/iRMk7w7XXPtlWBIDj244+dJr7kRO3OT4RLmj1ZV/bPeKh3NnNk3I92P/WBbgOAD3Ua7BrCKmBPBv3hMtssvg7V/RcOTryZTuwG4uaPcbIOvOBZdU/wiE6NB2Nc/gvcDkP3vSGmrKTOWgVVBFhs0M6id7DWUIA6TrgkFTvnCCEO3WMq0MZjxQ8rYI4td2kmjyMxj6dyecVPdXmnYye2YY9NDKV8+Y97j11M5ZCIGRJPsc4dDRdDJs+J71MjWtH4j4LWbcGgVgfPwwyAjHXDFE/fbteI6mIdz+66uAuWJuUP33q6JO/5KY/Bu2xXpAisD+1VjJDMtusPzt5rQ2UXqA/4yRqjkqQhz8vQDC5pIRlP/T70daA7jg/lYTO9EdTAj9uWZNu+hbBPg+lY08sOXQ+7q3j4DGdJD6YJmV+KUZgPs2kF2M4264+Whbey86S8j72ARODqV4sP2ESGIBofVs/19HkvfjlgD81ra9K5luaP6C4tSBnFao/irAS18xfsD8=\",\"dtype\":\"float64\",\"order\":\"little\",\"shape\":[100]},\"x\":{\"__ndarray__\":\"bGp73GgT1r/EEXHK62fVvxu5ZrhuvNS/cmBcpvEQ1L/KB1KUdGXTvyKvR4L3udK/eVY9cHoO0r/Q/TJe/WLRvyilKEyAt9C/gEweOgMM0L+u5ydQDMHOv102EywSas2/DIX+BxgTzL+70+njHbzKv2oi1b8jZcm/GXHAmykOyL/Iv6t3L7fGv3cOl1M1YMW/Jl2CLzsJxL/Vq20LQbLCv4T6WOdGW8G/M0lEw0wEwL/EL18+pVq9vyLNNfawrLq/gGoMrrz+t7/gB+NlyFC1vzyluR3UorK/MIUgq7/pr7/wv80a142qv7D6eoruMaW/0GpQ9Ausn79A4KrTOvSUv4CrCmbTeIS/ADANaNvZPj+gfosccWaGP+BJ664J65U/MGrIZ21RoD9wLxv4Va2lP7j0bYg+Cas/AF1gjJMysD+gv4nUh+CyP0Aisxx8jrU/5ITcZHA8uD+I5wWtZOq6PyhKL/VYmL0/ZFasniYjwD+2B8HCIHrBPwi51eYa0cI/WGrqChUoxD+oG/8uD3/FP/jME1MJ1sY/TH4odwMtyD+cLz2b/YPJP+zgUb/32so/QJJm4/ExzD+QQ3sH7IjNP+D0jyvm384/GFPSJ3Ab0D/Aq9w57cbQP2oE50tqctE/El3xXecd0j+6tftvZMnSP2QOBoLhdNM/DGcQlF4g1D+0vxqm28vUP1wYJbhYd9U/BHEvytUi1j+uyTncUs7WP1YiRO7Pedc//npOAE0l2D+o01gSytDYP1AsYyRHfNk/+IRtNsQn2j+g3XdIQdPaP0g2glq+fts/8o6MbDsq3D+a55Z+uNXcP0JAoZA1gd0/7JirorIs3j+U8bW0L9jePzxKwMasg98/clFl7JQX4D/GfWp1U23gPxuqb/4Rw+A/b9Z0h9AY4T/DAnoQj27hPxgvf5lNxOE/bFuEIgwa4j/Ah4mrym/iPxS0jjSJxeI/aOCTvUcb4z+9DJlGBnHjPxE5ns/ExuM/ZWWjWIMc5D+6kajhQXLkPw6+rWoAyOQ/Yuqy874d5T+2Frh8fXPlPwpDvQU8yeU/Xm/Cjvoe5j8=\",\"dtype\":\"float64\",\"order\":\"little\",\"shape\":[100]}},\"selected\":{\"id\":\"624705\"},\"selection_policy\":{\"id\":\"624704\"}},\"id\":\"624684\",\"type\":\"ColumnDataSource\"},{\"attributes\":{\"data\":{\"cell_ID\":{\"__ndarray__\":\"dAEAAFcCAABLAQAABwMAANQCAACJAwAARwMAAAcHAADeBwAAYAgAAJoIAAD1CQAA\",\"dtype\":\"int32\",\"order\":\"little\",\"shape\":[12]},\"compound\":[\"INH\",\"INH\",\"INH\",\"INH\",\"INH\",\"INH\",\"INH\",\"INH\",\"INH\",\"INH\",\"INH\",\"INH\"],\"concentration\":[\"EC50\",\"EC50\",\"EC50\",\"EC50\",\"EC50\",\"EC50\",\"EC50\",\"EC50\",\"EC50\",\"EC50\",\"EC50\",\"EC50\"],\"dMtb\":{\"__ndarray__\":\"wxasyuDy5D/0L2ti7qLHP0IHjUtMid0/ULJM/0to+D9XjxYsxhMBQEh+haHreck/iqMrwYmh6D9x1/MbdGX+v6W4YsijXtE/c9OIwFBdzT+plZM+1U7TPwSJjK1RJcw/\",\"dtype\":\"float64\",\"order\":\"little\",\"shape\":[12]},\"glimpse_url_t0\":[\"https://macrohet.s3.eu-west-2.amazonaws.com/dMtb/dMtb_glimpses/glimpse_372.3.8_t0.png\",\"https://macrohet.s3.eu-west-2.amazonaws.com/dMtb/dMtb_glimpses/glimpse_599.3.8_t0.png\",\"https://macrohet.s3.eu-west-2.amazonaws.com/dMtb/dMtb_glimpses/glimpse_331.3.8_t0.png\",\"https://macrohet.s3.eu-west-2.amazonaws.com/dMtb/dMtb_glimpses/glimpse_775.3.8_t1.png\",\"https://macrohet.s3.eu-west-2.amazonaws.com/dMtb/dMtb_glimpses/glimpse_724.3.8_t1.png\",\"https://macrohet.s3.eu-west-2.amazonaws.com/dMtb/dMtb_glimpses/glimpse_905.3.8_t2.png\",\"https://macrohet.s3.eu-west-2.amazonaws.com/dMtb/dMtb_glimpses/glimpse_839.3.8_t2.png\",\"https://macrohet.s3.eu-west-2.amazonaws.com/dMtb/dMtb_glimpses/glimpse_1799.3.8_t14.png\",\"https://macrohet.s3.eu-west-2.amazonaws.com/dMtb/dMtb_glimpses/glimpse_2014.3.8_t19.png\",\"https://macrohet.s3.eu-west-2.amazonaws.com/dMtb/dMtb_glimpses/glimpse_2144.3.8_t21.png\",\"https://macrohet.s3.eu-west-2.amazonaws.com/dMtb/dMtb_glimpses/glimpse_2202.3.8_t23.png\",\"https://macrohet.s3.eu-west-2.amazonaws.com/dMtb/dMtb_glimpses/glimpse_2549.3.8_t30.png\"],\"glimpse_url_tn\":[\"https://macrohet.s3.eu-west-2.amazonaws.com/dMtb/dMtb_glimpses/glimpse_372.3.8_t-1.png\",\"https://macrohet.s3.eu-west-2.amazonaws.com/dMtb/dMtb_glimpses/glimpse_599.3.8_t-1.png\",\"https://macrohet.s3.eu-west-2.amazonaws.com/dMtb/dMtb_glimpses/glimpse_331.3.8_t-1.png\",\"https://macrohet.s3.eu-west-2.amazonaws.com/dMtb/dMtb_glimpses/glimpse_775.3.8_t-1.png\",\"https://macrohet.s3.eu-west-2.amazonaws.com/dMtb/dMtb_glimpses/glimpse_724.3.8_t-1.png\",\"https://macrohet.s3.eu-west-2.amazonaws.com/dMtb/dMtb_glimpses/glimpse_905.3.8_t-1.png\",\"https://macrohet.s3.eu-west-2.amazonaws.com/dMtb/dMtb_glimpses/glimpse_839.3.8_t-1.png\",\"https://macrohet.s3.eu-west-2.amazonaws.com/dMtb/dMtb_glimpses/glimpse_1799.3.8_t-1.png\",\"https://macrohet.s3.eu-west-2.amazonaws.com/dMtb/dMtb_glimpses/glimpse_2014.3.8_t-1.png\",\"https://macrohet.s3.eu-west-2.amazonaws.com/dMtb/dMtb_glimpses/glimpse_2144.3.8_t-1.png\",\"https://macrohet.s3.eu-west-2.amazonaws.com/dMtb/dMtb_glimpses/glimpse_2202.3.8_t-1.png\",\"https://macrohet.s3.eu-west-2.amazonaws.com/dMtb/dMtb_glimpses/glimpse_2549.3.8_t-1.png\"],\"strain\":[\"WT\",\"WT\",\"WT\",\"WT\",\"WT\",\"WT\",\"WT\",\"WT\",\"WT\",\"WT\",\"WT\",\"WT\"],\"tech_rep\":[1,1,1,1,1,1,1,1,1,1,1,1],\"x\":{\"__ndarray__\":\"wxasyuDy5D/0L2ti7qLHP0IHjUtMid0/ULJM/0to+D9XjxYsxhMBQEh+haHreck/iqMrwYmh6D9x1/MbdGX+v6W4YsijXtE/c9OIwFBdzT+plZM+1U7TPwSJjK1RJcw/\",\"dtype\":\"float64\",\"order\":\"little\",\"shape\":[12]},\"y\":{\"__ndarray__\":\"7bsi+N9Kzj8jERrBxvXPP/5IERlW8dA/mpMXmYBf0T8HCObo8XvRP1FpxMw+j9E/vt2SHLCr0T9vD0JAvoTSP6ncRC3NrdI/8N3mjZPC0j8+esN95NbSP9ZSQNr/ANM/\",\"dtype\":\"float64\",\"order\":\"little\",\"shape\":[12]}},\"name\":\"WT, INH, EC50\",\"selected\":{\"id\":\"624741\"},\"selection_policy\":{\"id\":\"624740\"}},\"id\":\"624648\",\"type\":\"ColumnDataSource\"},{\"attributes\":{\"fill_alpha\":{\"value\":0.9},\"fill_color\":{\"value\":\"#a6d96a\"},\"hatch_alpha\":{\"value\":0.9},\"hatch_color\":{\"value\":\"#a6d96a\"},\"line_alpha\":{\"value\":0.9},\"size\":{\"value\":20},\"x\":{\"field\":\"x\"},\"y\":{\"field\":\"y\"}},\"id\":\"624650\",\"type\":\"Scatter\"},{\"attributes\":{\"source\":{\"id\":\"624648\"}},\"id\":\"624654\",\"type\":\"CDSView\"},{\"attributes\":{\"data\":{\"kde_values\":{\"__ndarray__\":\"onmNyjGIkj+E2rmNWZ2JP+wnp9PI6HA/SxblfEdTRT/cXX/arLAJP8qN8YD3j70+TYL8elU/YD6O0VJ/Kw/xPe7cUmEKHHE91Ew8fDdk4DzYND8oJQA+PDNxMZ6OOYo7hS/qFc3lxTpCB7MPNHfxObnKvBkSnQo5co9Ttk1eEzg885Aavu0KN/OU+Q634fE1w5w4i0yvxjTtaVFDOX2LM7Bjyxe80T8yFHOX5EyX4TB1HYBhe+p6L5g/HOOsi9AwioCbl45lLzKu/pe+WHx8MyuN9W6Mt7g0vezIjIqD5DUZgvo8gkkAN/SXuCjBvgg4JhEmJRn9ATmr0YkKigjpOd1Qy+EJrcA68h0Z9atGhTtmg+XXDwE6PMGCGqYRdt48AWeFAGIccT2CR7/W9XTyPXlOphRgJ2M+mUVYM3g1wz5uhqmRMtsSP6db8SIE/VI/5Psr1SRGhz96PYSpcUC4P8B5crM0r+U/zhcUwCXOB0CnIAXvr+gaQMX2R+1gER5AAt20M+7XEECGu6B8hdb0P/0vHogOnNQ/JkDDC01dwT9QjeSt7G65P8576T/53bI/yLyxrCOkpz+s3gDgRhKWP+UCs2kqpYQ/x6Py6phRjD/ve4U935KSP1zBylELx4g/qGN3OzW3dD+Aunnww298P/1Z+/Zsr48/cNAKyvmskz8dAWnA88WRP4z8uG3XZ5M/NX0e/YtAkT9RYkzxbkmAPyYQz6lny10/ZA0tHBgUKj9DxkfK+s7lPtP956bha5E+AOfisFeWKj4KBJZwFGGzPb4leJ5y/Co9wJ3Tqwxu2Dx7xj1mLURpPZv/No2RKeo9mHwsM4TgWT7NROCm03K4PpbfwvWAEAY/84cB+WYFQz/AAuf7ilNvPzx3gYcNpIg/dKOpnZyDkj9T6PQkVpOKPymj7WknOHI/YhjzeMvcRz9/U2k6lNoNP4yIkveh1sE+A1+RffRcZD4jkvFlXUX2PfSeKxZMJvE9rBb/kVU/YD6HufGA94+9Ptxdf9qssAk/SxblfEdTRT/sJ6fTyOhwP4TauY1ZnYk/onmNyjGIkj8=\",\"dtype\":\"float64\",\"order\":\"little\",\"shape\":[100]},\"x\":{\"__ndarray__\":\"cdfzG3Rl/r/gLJ7KiL79v0+CSHmdF/2/vtfyJ7Jw/L8sLZ3Wxsn7v5uCR4XbIvu/CtjxM/B7+r95LZziBNX5v+iCRpEZLvm/V9jwPy6H+L/GLZvuQuD3vzSDRZ1XOfe/pNjvS2yS9r8SLpr6gOv1v4GDRKmVRPW/8NjuV6qd9L9fLpkGv/bzv86DQ7XTT/O/PdntY+io8r+sLpgS/QHyvxqEQsERW/G/itnsbya08L/4LpceOw3wv84Ig5qfzO6/rLPX98h+7b+KXixV8jDsv2gJgbIb4+q/RrTVD0WV6b8iXyptbkfovwAKf8qX+ea/3rTTJ8Gr5b+8XyiF6l3kv5oKfeITEOO/eLXRPz3C4b9WYCadZnTgv2gW9vQfTd6/JGyfr3Kx27/cwUhqxRXZv5gX8iQYeta/VG2b32re078Qw0SavULRv5gx3KkgTs2/EN0uH8YWyL+IiIGUa9/Cv/BnqBMiULu/4L5N/mzhsL9AV8yj38qZvwCaPGPp348/oHiEg2TVrD9g5RxXZ9m4PzjHOzYOpME/yBvpwGjbxj9IcJZLwxLMP2ziIesOpdA/rIx4MLxA0z/0Ns91adzVPzzhJbsWeNg/fIt8AMQT2z/ENdNFca/dPwLwlEWPJeA/JkVA6GVz4T9GmuuKPMHiP2rvli0TD+Q/ikRC0Olc5T+ume1ywKrmP9LumBWX+Oc/8kNEuG1G6T8Wme9aRJTqPzbumv0a4us/WkNGoPEv7T96mPFCyH3uP57tnOWey+8/XyEkxLqM8D/xy3kVpjPxP4N2z2aR2vE/EyEluHyB8j+ly3oJaCjzPzV20FpTz/M/xyAmrD529D9Xy3v9KR31P+l10U4VxPU/eyAnoABr9j8Ly3zx6xH3P5110kLXuPc/LSAolMJf+D+/yn3lrQb5P0910zaZrfk/4R8piIRU+j9zyn7Zb/v6PwN11Cpbovs/lR8qfEZJ/D8lyn/NMfD8P7d01R4dl/0/Rx8rcAg+/j/ZyYDB8+T+P2l01hLfi/8/fg8WMmUZAEDG5MDa2mwAQA66a4NQwABAV48WLMYTAUA=\",\"dtype\":\"float64\",\"order\":\"little\",\"shape\":[100]}},\"selected\":{\"id\":\"624645\"},\"selection_policy\":{\"id\":\"624644\"}},\"id\":\"624628\",\"type\":\"ColumnDataSource\"},{\"attributes\":{\"fill_alpha\":{\"value\":0.1},\"fill_color\":{\"value\":\"#a6d96a\"},\"hatch_alpha\":{\"value\":0.1},\"hatch_color\":{\"value\":\"#a6d96a\"},\"line_alpha\":{\"value\":0.1},\"size\":{\"value\":20},\"x\":{\"field\":\"x\"},\"y\":{\"field\":\"y\"}},\"id\":\"624651\",\"type\":\"Scatter\"},{\"attributes\":{\"bottom_units\":\"screen\",\"coordinates\":null,\"fill_alpha\":0.5,\"fill_color\":\"lightgrey\",\"group\":null,\"left_units\":\"screen\",\"level\":\"overlay\",\"line_alpha\":1.0,\"line_color\":\"black\",\"line_dash\":[4,4],\"line_width\":2,\"right_units\":\"screen\",\"syncable\":false,\"top_units\":\"screen\"},\"id\":\"624540\",\"type\":\"BoxAnnotation\"},{\"attributes\":{\"axis\":{\"id\":\"624526\"},\"coordinates\":null,\"group\":null,\"ticker\":null},\"id\":\"624529\",\"type\":\"Grid\"},{\"attributes\":{\"fill_alpha\":{\"value\":0.1},\"fill_color\":{\"value\":\"#a6d96a\"},\"hatch_alpha\":{\"value\":0.1},\"hatch_color\":{\"value\":\"#a6d96a\"},\"line_alpha\":{\"value\":0.1},\"line_color\":{\"value\":\"#a6d96a\"},\"size\":{\"value\":20},\"x\":{\"field\":\"x\"},\"y\":{\"field\":\"y\"}},\"id\":\"624652\",\"type\":\"Scatter\"},{\"attributes\":{\"coordinates\":null,\"data_source\":{\"id\":\"624602\"},\"glyph\":{\"id\":\"624604\"},\"group\":null,\"hover_glyph\":null,\"muted_glyph\":{\"id\":\"624606\"},\"nonselection_glyph\":{\"id\":\"624605\"},\"view\":{\"id\":\"624608\"}},\"id\":\"624607\",\"type\":\"GlyphRenderer\"}],\"root_ids\":[\"624751\"]},\"title\":\"Bokeh Application\",\"version\":\"2.4.3\"}};\n",
       "  const render_items = [{\"docid\":\"679db864-fc0d-4ee5-8c80-2b86935054c8\",\"root_ids\":[\"624751\"],\"roots\":{\"624751\":\"f404dd41-2e21-4edb-9adb-97440ae38d69\"}}];\n",
       "  root.Bokeh.embed.embed_items_notebook(docs_json, render_items);\n",
       "  }\n",
       "  if (root.Bokeh !== undefined) {\n",
       "    embed_document(root);\n",
       "  } else {\n",
       "    let attempts = 0;\n",
       "    const timer = setInterval(function(root) {\n",
       "      if (root.Bokeh !== undefined) {\n",
       "        clearInterval(timer);\n",
       "        embed_document(root);\n",
       "      } else {\n",
       "        attempts++;\n",
       "        if (attempts > 100) {\n",
       "          clearInterval(timer);\n",
       "          console.log(\"Bokeh: ERROR: Unable to run BokehJS code because BokehJS library is missing\");\n",
       "        }\n",
       "      }\n",
       "    }, 10, root)\n",
       "  }\n",
       "})(window);"
      ],
      "application/vnd.bokehjs_exec.v0+json": ""
     },
     "metadata": {
      "application/vnd.bokehjs_exec.v0+json": {
       "id": "624751"
      }
     },
     "output_type": "display_data"
    }
   ],
   "source": [
    "from bokeh.layouts import gridplot\n",
    "from scipy.stats import gaussian_kde\n",
    "from bokeh.models import Range1d\n",
    "\n",
    "# Create the upper plot\n",
    "p1 = figure(height=400, \n",
    "            width=1000, \n",
    "            title='Histogram showing the distribution of the change in intracellular Mtb (ΔMtb)', \n",
    "#             y_axis_type=\"log\",\n",
    "            y_axis_label='Frequency',\n",
    "            tools='crosshair,save,pan,box_zoom,reset,wheel_zoom')\n",
    "p1.toolbar.active_scroll = p1.select_one(WheelZoomTool)\n",
    "p1.x_range = Range1d(-0.5,0.5)\n",
    "\n",
    "# Customize y-axis ticker\n",
    "# p1.yaxis.ticker = [1, 10, 100, 1000]  # Set specific tick values\n",
    "# p1.yaxis.formatter = NumeralTickFormatter(format=\"0\")  # Format tick labels\n",
    "p1.xaxis.visible = False  # Remove x-axis\n",
    "\n",
    "# Create the lower plot\n",
    "p2 = figure(height=200, \n",
    "            width=1000, \n",
    "            x_axis_label='ΔMtb \\n(fold-change relative to area)',\n",
    "            y_axis_label='Outlier browser \\n(1 S.D. from mean)',\n",
    "            tools='crosshair,save,pan,box_zoom,reset,wheel_zoom', \n",
    "            x_range=p1.x_range)\n",
    "p2.yaxis.ticker = []  # Remove y-axis ticks\n",
    "p2.yaxis.formatter = NumeralTickFormatter(format=\"0\")  # Format tick labels\n",
    "\n",
    "p2.toolbar.active_scroll = p2.select_one(WheelZoomTool)\n",
    "\n",
    "# Create the hover tool\n",
    "hover = HoverTool(\n",
    "    tooltips=\n",
    "    \"\"\" <div>\n",
    "        <div style=\"position: relative; display: inline-block;\">\n",
    "            <img\n",
    "                src=\"@glimpse_url_t0\" height=\"120\" alt=\"@glimpse_url_t0\" width=\"120\"\n",
    "                style=\"float: left; margin: 0px 15px 15px 0px;\"\n",
    "                border=\"2\"\n",
    "            >\n",
    "            <div style=\"position: absolute; bottom: 5px; right: 5px; background-color: lightgrey; padding: 5px;\">\n",
    "                <span style=\"font-size: 12px; color: black;\">t = 0</span>\n",
    "            </div>\n",
    "            </img>\n",
    "        </div>\n",
    "        <div style=\"position: relative; display: inline-block;\">\n",
    "            <img\n",
    "                src=\"@glimpse_url_tn\" height=\"120\" alt=\"@glimpse_url_tn\" width=\"120\"\n",
    "                style=\"float: left; margin: 0px 15px 15px 0px;\"\n",
    "                border=\"2\"\n",
    "            >\n",
    "            <div style=\"position: absolute; bottom: 5px; right: 5px; background-color: lightgrey; padding: 5px;\">\n",
    "                <span style=\"font-size: 12px; color: black;\">t = final</span>\n",
    "            </div>\n",
    "            </img>\n",
    "        </div>\n",
    "        <div>\n",
    "             <span style=\"font-size: 17px; font-weight: bold; color: black;\">Cell ID: @cell_ID</span>\n",
    "         </div>\n",
    "         <div>\n",
    "             <span style=\"font-size: 15px; color: black;\">ΔMtb: @x</span>\n",
    "         </div>\n",
    "         <div>\n",
    "             <span style=\"font-size: 15px; color: black;\">Strain: @strain</span>\n",
    "         </div>\n",
    "         <div>\n",
    "             <span style=\"font-size: 15px; color: black;\">Compound: @compound</span>\n",
    "         </div>\n",
    "         <div>\n",
    "             <span style=\"font-size: 15px; color: black;\">Concentration: @concentration</span>\n",
    "         </div>\n",
    "         <div>\n",
    "             <span style=\"font-size: 15px; color: black;\">Tech. replicate: @tech_rep</span>\n",
    "         </div>\n",
    "    </div>\n",
    "\"\"\"\n",
    "\n",
    "\n",
    "\n",
    ")\n",
    "\n",
    "p2.add_tools(hover)  # Add the instance of HoverTool\n",
    "\n",
    "outliers = list()\n",
    "for index, condition in df_delta_mtb.groupby(['Strain', 'Compound', 'Concentration']).size().reset_index().rename(columns={0: 'count'}).iterrows():\n",
    "    # only ec50\n",
    "    if condition['Concentration'] != 'EC50':\n",
    "        continue\n",
    "    strain = condition['Strain']\n",
    "    compound = condition['Compound']\n",
    "    concentration = condition['Concentration']\n",
    "    label = f'{strain}, {compound}, {concentration}'\n",
    "    subset_df = df_delta_mtb[(df_delta_mtb['Strain'] == strain)\n",
    "                             & (df_delta_mtb['Compound'] == compound)\n",
    "                             & (df_delta_mtb['Concentration'] == concentration)\n",
    "                             & (df_delta_mtb['Technical replicate'] == 1)]\n",
    "    data = subset_df['dMtb'].dropna()  # Remove NA values, if any\n",
    "    kde = gaussian_kde(data)\n",
    "    x = np.linspace(data.min(), data.max(), 100)\n",
    "    kde_values = kde(x)\n",
    "\n",
    "    source = ColumnDataSource(data=dict(x=x, kde_values=kde_values))\n",
    "\n",
    "#     # Create a quad glyph for the histogram in the upper plot\n",
    "#     p1.quad(top='kde_values', bottom=0, left='x', right='x',\n",
    "#             line_color='black', source=source, \n",
    "#             fill_color=expanded_piyg_dict[compound], \n",
    "#             line_width=2, \n",
    "#             alpha=0.9,\n",
    "#             muted_color=expanded_piyg_dict[compound], \n",
    "#             muted_alpha=0.1,\n",
    "#             legend_label=label)\n",
    "    # Create a quad glyph for the histogram in the upper plot\n",
    "    p1.varea(x = 'x', y1 = 0, y2 = 'kde_values',\n",
    "#             line_color='black', \n",
    "            source=source, \n",
    "#             line_color=expanded_piyg_dict[compound], \n",
    "            fill_color=expanded_piyg_dict[compound], \n",
    "#             line_width=2, \n",
    "            alpha=0.6,\n",
    "            muted_color=expanded_piyg_dict[compound], \n",
    "            muted_alpha=0.1,\n",
    "            legend_label=label)\n",
    "    \n",
    "    # create a separate outlier df for below plot\n",
    "    # Calculate the mean and standard deviation of dMtb\n",
    "    mean = subset_df['dMtb'].mean()\n",
    "    std = subset_df['dMtb'].std()\n",
    "\n",
    "    # Define a threshold to determine outliers (e.g., 2 standard deviations from the mean)\n",
    "    threshold = 1 * std\n",
    "\n",
    "    # Filter out the non outliers from subset_df\n",
    "    outlier_df = subset_df[abs(subset_df['dMtb'] - mean) >= threshold]\n",
    "    outliers.append(outlier_df)\n",
    "    \n",
    "    # append url to df \n",
    "    for index, row_ in outlier_df.iterrows():\n",
    "        unique_ID = row_['Unique ID']\n",
    "        cell_ID, row, column = unique_ID.split('.') \n",
    "        t0 = row_['Time (hours)']\n",
    "        outlier_df.at[index, 'glimpse_url_t0'] = f'https://macrohet.s3.eu-west-2.amazonaws.com/dMtb/dMtb_glimpses/glimpse_{cell_ID}.{row}.{column}_t{t0}.png'\n",
    "        outlier_df.at[index, 'glimpse_url_tn'] = f'https://macrohet.s3.eu-west-2.amazonaws.com/dMtb/dMtb_glimpses/glimpse_{cell_ID}.{row}.{column}_t{-1}.png'\n",
    "\n",
    "    # Create scatter plots for the lower plot\n",
    "    source = ColumnDataSource(\n",
    "            name=label,\n",
    "            data=dict(\n",
    "            x=outlier_df['dMtb'],\n",
    "            y=outlier_df.index/5E5,\n",
    "            glimpse_url_t0=outlier_df['glimpse_url_t0'],\n",
    "            glimpse_url_tn=outlier_df['glimpse_url_tn'], \n",
    "            dMtb=outlier_df['dMtb'], \n",
    "            cell_ID=outlier_df['Cell ID'], \n",
    "            strain=outlier_df['Strain'],\n",
    "            compound=outlier_df['Compound'],\n",
    "            concentration=outlier_df['Concentration'],\n",
    "            tech_rep=outlier_df['Technical replicate']\n",
    "        ))\n",
    "    p2.scatter('x', 'y', \n",
    "#               legend_label=col_source_dict[index].name, \n",
    "              source=source,\n",
    "              color=expanded_piyg_dict[compound], \n",
    "              alpha=0.9, \n",
    "              size=20,\n",
    "              line_color='black',  # Set the color of the outline\n",
    "              line_width=1,  # Set the width of the outline\n",
    "              muted_color=expanded_piyg_dict[compound], \n",
    "              muted_alpha=0.1,\n",
    "               )\n",
    "\n",
    "# Set the legend location for the upper plot\n",
    "p1.legend.location = \"top_left\"\n",
    "\n",
    "# Uncomment the following line to set the legend location for the lower plot\n",
    "# p2.legend.location = \"top_left\"\n",
    "\n",
    "# Set the click_policy to \"mute\" for the legend in the upper plot\n",
    "p1.legend.click_policy = \"mute\"\n",
    "# Uncomment the following line to set the click_policy to \"mute\" for the legend in the lower plot\n",
    "# p2.legend.click_policy = \"mute\"\n",
    "\n",
    "# Create a grid plot with both plots\n",
    "p = gridplot([[p1], [p2]],)\n",
    "\n",
    "output_file(\"dMtb_kde_ec50.html\",)# title=\"dMtb\")\n",
    "\n",
    "show(p)\n"
   ]
  },
  {
   "cell_type": "code",
   "execution_count": 726,
   "id": "065f1587",
   "metadata": {},
   "outputs": [
    {
     "data": {
      "text/html": [
       "\n",
       "  <div class=\"bk-root\" id=\"d9adfcf7-35cf-4f1a-a872-9e36c61d433c\" data-root-id=\"788090\"></div>\n"
      ]
     },
     "metadata": {},
     "output_type": "display_data"
    },
    {
     "data": {
      "application/javascript": [
       "(function(root) {\n",
       "  function embed_document(root) {\n",
       "  const docs_json = {\"56df58c1-2e61-4cf6-a024-2eb4bfe57f1d\":{\"defs\":[],\"roots\":{\"references\":[{\"attributes\":{\"children\":[{\"id\":\"788089\"},{\"id\":\"788087\"}]},\"id\":\"788090\",\"type\":\"Column\"},{\"attributes\":{},\"id\":\"787323\",\"type\":\"CrosshairTool\"},{\"attributes\":{\"label\":{\"value\":\"WT, PZA, EC50\"},\"renderers\":[{\"id\":\"787443\"},{\"id\":\"787464\"}]},\"id\":\"787459\",\"type\":\"LegendItem\"},{\"attributes\":{\"source\":{\"id\":\"787669\"}},\"id\":\"787695\",\"type\":\"CDSView\"},{\"attributes\":{\"line_alpha\":0.1,\"line_color\":\"#a6d96a\",\"line_width\":3,\"x\":{\"field\":\"x\"},\"y\":{\"field\":\"kde_values\"}},\"id\":\"787692\",\"type\":\"Line\"},{\"attributes\":{\"line_color\":\"#f1b6da\",\"line_width\":3,\"x\":{\"field\":\"x\"},\"y\":{\"field\":\"kde_values\"}},\"id\":\"787461\",\"type\":\"Line\"},{\"attributes\":{\"line_alpha\":0.1,\"line_color\":\"#d02c91\",\"line_width\":3,\"x\":{\"field\":\"x\"},\"y\":{\"field\":\"kde_values\"}},\"id\":\"787514\",\"type\":\"Line\"},{\"attributes\":{},\"id\":\"787507\",\"type\":\"UnionRenderers\"},{\"attributes\":{\"coordinates\":null,\"data_source\":{\"id\":\"787431\"},\"glyph\":{\"id\":\"787433\"},\"group\":null,\"hover_glyph\":null,\"muted_glyph\":{\"id\":\"787435\"},\"nonselection_glyph\":{\"id\":\"787434\"},\"view\":{\"id\":\"787437\"}},\"id\":\"787436\",\"type\":\"GlyphRenderer\"},{\"attributes\":{\"axis\":{\"id\":\"787315\"},\"coordinates\":null,\"group\":null,\"ticker\":null},\"id\":\"787318\",\"type\":\"Grid\"},{\"attributes\":{},\"id\":\"787313\",\"type\":\"LinearScale\"},{\"attributes\":{\"fill_alpha\":0.6,\"fill_color\":\"#f1b6da\",\"hatch_alpha\":{\"value\":0.6},\"x\":{\"field\":\"x\"},\"y1\":{\"value\":0},\"y2\":{\"field\":\"kde_values\"}},\"id\":\"787718\",\"type\":\"VArea\"},{\"attributes\":{},\"id\":\"787325\",\"type\":\"PanTool\"},{\"attributes\":{\"bottom_units\":\"screen\",\"coordinates\":null,\"fill_alpha\":0.5,\"fill_color\":\"lightgrey\",\"group\":null,\"left_units\":\"screen\",\"level\":\"overlay\",\"line_alpha\":1.0,\"line_color\":\"black\",\"line_dash\":[4,4],\"line_width\":2,\"right_units\":\"screen\",\"syncable\":false,\"top_units\":\"screen\"},\"id\":\"787847\",\"type\":\"BoxAnnotation\"},{\"attributes\":{\"line_alpha\":0.1,\"line_color\":\"#f1b6da\",\"line_width\":3,\"x\":{\"field\":\"x\"},\"y\":{\"field\":\"kde_values\"}},\"id\":\"787463\",\"type\":\"Line\"},{\"attributes\":{},\"id\":\"787409\",\"type\":\"UnionRenderers\"},{\"attributes\":{\"coordinates\":null,\"data_source\":{\"id\":\"787669\"},\"glyph\":{\"id\":\"787691\"},\"group\":null,\"hover_glyph\":null,\"muted_glyph\":{\"id\":\"787693\"},\"nonselection_glyph\":{\"id\":\"787692\"},\"view\":{\"id\":\"787695\"}},\"id\":\"787694\",\"type\":\"GlyphRenderer\"},{\"attributes\":{\"axis_label\":\"Outlier browser \\n(1 S.D. from mean)\",\"coordinates\":null,\"formatter\":{\"id\":\"787897\"},\"group\":null,\"major_label_policy\":{\"id\":\"787901\"},\"ticker\":{\"id\":\"787895\"}},\"id\":\"787877\",\"type\":\"LinearAxis\"},{\"attributes\":{\"line_alpha\":0.1,\"line_color\":\"#a6d96a\",\"line_width\":3,\"x\":{\"field\":\"x\"},\"y\":{\"field\":\"kde_values\"}},\"id\":\"787693\",\"type\":\"Line\"},{\"attributes\":{\"data\":{\"kde_values\":{\"__ndarray__\":\"ygjYHGx7fj9SR3EH21l4P2XaHEvzglY/1vjhhf10Mz+gntj1w6pfP3pfAz5kX3E/+wQQVJtXYj9cwIcAap8yPyK4jPLIEeY+3fc0MHFaHT9dHmjF5RZcP3C/unoZ93s/Gp3aRupGfz8qA7qA94R3PzOBHn+PXoU/FZ+0rxbxiz+w3Wwnp32RP/BZWj9oFM4/mOzwTectBEAc2z6f8qgcQPGAm4J8sRRAVDvWuNmm8T/etw4m6BbIP7REBhesfL4/5+xfmdIluj+5I2MPChS0P1RMSZHsVq8/9s3b3b5doT9yL2KUotSSP3P4JyUHy5Q/PxbnVU32mj8zgtRRloCgP9IL2QTp5Z0/KDjaEYA4lT/kcgSAjAmGP75/Z7CBang/DNMYEs0phT9S983xuJGRP1UhUsQo05Q/5pH45rT8jz9fRX6/OeuDP2j8bVtyXI8/5oZHVEQ7jT9TVAs4+76FP6/p2x2WTXo/Q8hVzfzEcz+166hVGLaIP9kswws9koc/5j5kKmGpeD+NHGejYTFgP9Rj+ldwCD0/Ywmleh/tYD/+7+RXdGhxP9mAXGnFqmE/8j7qAAAvVD9TNrlIfl51PwW+9wLZVYI/vCd9ADVMgD9ceVfmyBV9P2guz93E/34/Mp6MN4eudT/WqZHxlMRWPyfwaJGmyho/eAOlHP2Zvz4XUIgkFxtCPlxGaqTK/6M9zIOiuSZB5TxaOUP3XbkFPP3FqT8eWgU76aKhvzYu5DkY8m0MQVeiOKL5jJ5ZB0A32Bq7YrDwujUnALphNcUVNFZkfXO+6lAyBxUXZA5IaTASGlDOVipiLn+F/lMhGjkspOLa6n+t8CnPBR24Z0+FJ827N8sNWj4olebSUF1RnypgO/Wk2BLfLO5Bocaypf0u8uGIBjcz+zCkvwvWGf/XMo+oEp9xW5Q0zB1/AEubMDZy/whAtA2qN2UQgggBpwM5hhvzVVyCPDoR/7tPeuJTO6n4rsdTrEo8RgOnAtozIT381i14RlbVPTtc8LPjcmk+h420We8v3T7DVOBqOxgwPzx7SNGCEWE/4BvkV+lncT8=\",\"dtype\":\"float64\",\"order\":\"little\",\"shape\":[100]},\"x\":{\"__ndarray__\":\"CYIIxgXR8b/1GZAmo+Pwv8FjLw6B7O+/mJM+z7sR7r9ww02Q9jbsv0fzXFExXOq/HiNsEmyB6L/2UnvTpqbmv82CipThy+S/pLKZVRzx4r984qgWVxbhv6YkcK8jd96/VISOMZnB2r8E5KyzDgzXv7JDyzWEVtO/xEbTb/NBz78gBhB03tbHv3zFTHjJa8C/sAkT+WgBsr+AQ2QM+FmJv6Dx8+vVVac/IHqA7RSBuj+wfYNyn6vEP1C+Rm60Fsw/fP8EteTA0T/Mn+Yyb3bVPxxAyLD5K9k/bOCpLoTh3D9gwEVWh0vgP4iQNpVMJuI/sGAn1BEB5D/aMBgT19vlPwIBCVKctuc/KtH5kGGR6T9UoerPJmzrP3px2w7sRu0/pkHMTbEh7z/niF5GO37wP/vw1uWda/E/D1lPhQBZ8j8jwcckY0bzPzcpQMTFM/Q/TZG4Yygh9T9h+TADiw72P3VhqaLt+/Y/ickhQlDp9z+dMZrhstb4P7GZEoEVxPk/xwGLIHix+j/baQPA2p77P+/Re189jPw/Azr0/p95/T8XomyeAmf+PysK5T1lVP8/ILmu7uMgAEAq7Wo+lZcAQDQhJ45GDgFAPlXj3feEAUBIiZ8tqfsBQFK9W31acgJAXPEXzQvpAkBoJdQcvV8DQHJZkGxu1gNAfI1MvB9NBECGwQgM0cMEQJD1xFuCOgVAmimBqzOxBUCkXT375CcGQK6R+UqWngZAuMW1mkcVB0DC+XHq+IsHQM4tLjqqAghA2GHqiVt5CEDilabZDPAIQOzJYim+ZglA9v0eeW/dCUAAMtvIIFQKQApmlxjSygpAFJpTaINBC0Aezg+4NLgLQCgCzAfmLgxAMjaIV5elDEA8akSnSBwNQEaeAPf5kg1AUtK8RqsJDkBcBnmWXIAOQGY6NeYN9w5AcG7xNb9tD0B6oq2FcOQPQELrtOqQLRBARwWTkuloEEBMH3E6QqQQQFE5T+Ka3xBAVlMtivMaEUBbbQsyTFYRQGCH6dmkkRFAZqHHgf3MEUBru6UpVggSQHDVg9GuQxJAde9heQd/EkA=\",\"dtype\":\"float64\",\"order\":\"little\",\"shape\":[100]}},\"selected\":{\"id\":\"787967\"},\"selection_policy\":{\"id\":\"787966\"}},\"id\":\"787950\",\"type\":\"ColumnDataSource\"},{\"attributes\":{},\"id\":\"787327\",\"type\":\"ResetTool\"},{\"attributes\":{\"coordinates\":null,\"data_source\":{\"id\":\"787487\"},\"glyph\":{\"id\":\"787512\"},\"group\":null,\"hover_glyph\":null,\"muted_glyph\":{\"id\":\"787514\"},\"nonselection_glyph\":{\"id\":\"787513\"},\"view\":{\"id\":\"787516\"}},\"id\":\"787515\",\"type\":\"GlyphRenderer\"},{\"attributes\":{\"ticks\":[]},\"id\":\"787612\",\"type\":\"FixedTicker\"},{\"attributes\":{\"source\":{\"id\":\"787438\"}},\"id\":\"787465\",\"type\":\"CDSView\"},{\"attributes\":{\"coordinates\":null,\"data_source\":{\"id\":\"787438\"},\"glyph\":{\"id\":\"787461\"},\"group\":null,\"hover_glyph\":null,\"muted_glyph\":{\"id\":\"787463\"},\"nonselection_glyph\":{\"id\":\"787462\"},\"view\":{\"id\":\"787465\"}},\"id\":\"787464\",\"type\":\"GlyphRenderer\"},{\"attributes\":{},\"id\":\"787508\",\"type\":\"Selection\"},{\"attributes\":{\"fill_alpha\":0.6,\"fill_color\":\"#a6d96a\",\"hatch_alpha\":{\"value\":0.6},\"x\":{\"field\":\"x\"},\"y1\":{\"value\":0},\"y2\":{\"field\":\"kde_values\"}},\"id\":\"787671\",\"type\":\"VArea\"},{\"attributes\":{\"axis_label\":\"\\u0394Mtb \\n(fold-change relative to area)\",\"coordinates\":null,\"formatter\":{\"id\":\"787345\"},\"group\":null,\"major_label_policy\":{\"id\":\"787346\"},\"ticker\":{\"id\":\"787316\"}},\"id\":\"787315\",\"type\":\"LinearAxis\"},{\"attributes\":{},\"id\":\"787410\",\"type\":\"Selection\"},{\"attributes\":{\"label\":{\"value\":\"WT, RIF, EC50\"},\"renderers\":[{\"id\":\"787492\"},{\"id\":\"787515\"}]},\"id\":\"787510\",\"type\":\"LegendItem\"},{\"attributes\":{\"fill_alpha\":{\"value\":0.1},\"fill_color\":{\"value\":\"#a6d96a\"},\"hatch_alpha\":{\"value\":0.1},\"hatch_color\":{\"value\":\"#a6d96a\"},\"line_alpha\":{\"value\":0.1},\"size\":{\"value\":20},\"x\":{\"field\":\"x\"},\"y\":{\"field\":\"y\"}},\"id\":\"787434\",\"type\":\"Scatter\"},{\"attributes\":{\"source\":{\"id\":\"787487\"}},\"id\":\"787493\",\"type\":\"CDSView\"},{\"attributes\":{\"overlay\":{\"id\":\"787329\"}},\"id\":\"787326\",\"type\":\"BoxZoomTool\"},{\"attributes\":{\"coordinates\":null,\"data_source\":{\"id\":\"787487\"},\"glyph\":{\"id\":\"787489\"},\"group\":null,\"hover_glyph\":null,\"muted_glyph\":{\"id\":\"787491\"},\"nonselection_glyph\":{\"id\":\"787490\"},\"view\":{\"id\":\"787493\"}},\"id\":\"787492\",\"type\":\"GlyphRenderer\"},{\"attributes\":{},\"id\":\"787457\",\"type\":\"Selection\"},{\"attributes\":{},\"id\":\"788051\",\"type\":\"UnionRenderers\"},{\"attributes\":{\"fill_alpha\":0.1,\"fill_color\":\"#d02c91\",\"hatch_alpha\":{\"value\":0.1},\"hatch_color\":{\"value\":\"#d02c91\"},\"x\":{\"field\":\"x\"},\"y1\":{\"value\":0},\"y2\":{\"field\":\"kde_values\"}},\"id\":\"787491\",\"type\":\"VArea\"},{\"attributes\":{\"data\":{\"kde_values\":{\"__ndarray__\":\"ftpNM+wYhT90lEBUvcNvP/Ohg/CRGis/GPRHY4o2uj7jT3LAErwcPl+/vHDj2VE98gOBl7QjWTwZoqTySorLO84CCrxxG9o8wFmxNGQXvD2Y1SWkRSFxPvlB8u/urfc+Pv0l8PCMUj9jkk7dzXiAP09c6UP1k4A/OzV0YkbpUj9i3RYTpHP4PpAd1Z/N6nE+Hi+OMhHDvT3exNFwZgTcPDoE7Unw5M07HznoG60Tkjop9Q8af8coOUem1cbwP5M3AqWVaZnIYTeOWDsN37H8OJiJiJxaPWo6pSA8qVIyqzsEOlqCNPO/PHb4HiSERaU9GnvXNE0NYD7CBNu1jnXrPgQhsVHknko/d66V6m5AfT9kkWl/TjeCP+APwgkQt1k/5ub+7aGSBD9u1VnjuKeCPucU1Dl4LNM9bniPf6ZW9jwHc1NAt8AhPRWSbb4rmfU9qBv2+GIfnj4r7DwHgcsYPwq+EiwTjmo/oQVgoGOzlz8tdKeKcrSqP/RfBqpfUdE/ZLNg9daNDUCcQOF+1dMhQD4790gxswlAT9GmRsgQzj/Z8IthjbiiPzhttpVsCJs/dqf1buyAhD85VHMYxGJ7P/GJXheO95M/bWAP3/J1kj91pYoelriRP0ZSiVh3WYY/Q13+id8sXD8TfS7lTuciP5z0slr6zmU/TAtWamd2hD98K14KVsN1PzsAVdAnPDo/Ra7ba1Ds0T4frLrC28E7PjbEWu6kXHg96QzDcjU8iDzSiGPYkFNrO+Q53gU8diE638gaqW5LqTi0pEHp6sMEN1ZpbO5kUjM1R9K9n8BgNDNDGGVeGFwIMSAe+ie0gLAuMgJuy/9XKSxgvTeUuA52KcWAnupawpUmXxMoFBZhiCMYc36KmyMQJksXd0QUHfcocTyGHn7Csissh1x7A0JBLuE30Qmv/qEwGVWVwGhE1TLai9wGIn3cNI4MPxyroLU2bNM1IyKcYjggKbqWcCbiOSTmtwxjEDQ7mVp6lrQjWTxNwrxw49lRPe9UcsASvBw+1vVHY4o2uj4ko4PwkRorP9iVQFS9w28/ftpNM+wYhT8=\",\"dtype\":\"float64\",\"order\":\"little\",\"shape\":[100]},\"x\":{\"__ndarray__\":\"LLhfcLWHB8B4FgZbpwwHwMR0rEWZkQbAENNSMIsWBsBcMfkafZsFwKiPnwVvIAXA9O1F8GClBMBATOzaUioEwIyqksVErwPA2Ag5sDY0A8AkZ9+aKLkCwHDFhYUaPgLAvCMscAzDAcAIgtJa/kcBwFXgeEXwzADAoT4fMOJRAMDaOYs1qK3/v3L21wqMt/6/CrMk4G/B/b+ib3G1U8v8vzosvoo31fu/0ugKYBvf+r9qpVc1/+j5vwJipArj8vi/mh7x38b8978y2z21qgb3v8qXioqOEPa/Y1TXX3Ia9b/7ECQ1ViT0v5PNcAo6LvO/K4q93x048r/DRgq1AULxv1sDV4rlS/C/5n9Hv5Kr7r8Y+eBpWr/sv0hyehQi0+q/eOsTv+nm6L+oZK1psfrmv9jdRhR5DuW/CFfgvkAi47840HlpCDbhv9CSJiigk96/MIVZfS+72r+Qd4zSvuLWv/BpvydOCtO/oLjk+bpjzr9gnUqk2bLGv0AEYZ3wA76/gJtZ5FtErb8AGO0gl/JnP0CfO2RXIbA/wNVvDxqDvz8gBlJdbnLHP2Ah7LJPI88/SB5DhBhq0z/oKxAviULXP4g53dn5Gts/KEeqhGrz3j9kqruX7WXhPzQxIu0lUuM/BLiIQl4+5T/UPu+XlirnP6TFVe3OFuk/dEy8QgcD6z9E0yKYP+/sPxRaie132+4/cvB3Idhj8D/YMytM9FnxP0B33nYQUPI/qLqRoSxG8z8Q/kTMSDz0P3hB+PZkMvU/4ISrIYEo9j9IyF5MnR73P7ALEne5FPg/GE/FodUK+T+AknjM8QD6P+jVK/cN9/o/UBnfISrt+z+4XJJMRuP8PyCgRXdi2f0/iOP4oX7P/j/wJqzMmsX/Pyy1r3vbXQBA4FYJkenYAECU+GKm91MBQEiavLsFzwFA/DsW0RNKAkCw3W/mIcUCQGR/yfsvQANAGCEjET67A0DMwnwmTDYEQIBk1jtasQRANAYwUWgsBUDop4lmdqcFQJxJ43uEIgZAUOs8kZKdBkAEjZamoBgHQLgu8LuukwdAa9BJ0bwOCEA=\",\"dtype\":\"float64\",\"order\":\"little\",\"shape\":[100]}},\"selected\":{\"id\":\"787736\"},\"selection_policy\":{\"id\":\"787735\"}},\"id\":\"787716\",\"type\":\"ColumnDataSource\"},{\"attributes\":{\"source\":{\"id\":\"787431\"}},\"id\":\"787437\",\"type\":\"CDSView\"},{\"attributes\":{\"line_alpha\":0.1,\"line_color\":\"#d02c91\",\"line_width\":3,\"x\":{\"field\":\"x\"},\"y\":{\"field\":\"kde_values\"}},\"id\":\"787513\",\"type\":\"Line\"},{\"attributes\":{\"coordinates\":null,\"group\":null},\"id\":\"787616\",\"type\":\"Title\"},{\"attributes\":{\"line_alpha\":0.1,\"line_color\":\"#f1b6da\",\"line_width\":3,\"x\":{\"field\":\"x\"},\"y\":{\"field\":\"kde_values\"}},\"id\":\"787462\",\"type\":\"Line\"},{\"attributes\":{},\"id\":\"787456\",\"type\":\"UnionRenderers\"},{\"attributes\":{\"data\":{\"kde_values\":{\"__ndarray__\":\"IhnKTuQwhz8RQUwFxeB3PwcdcWlJEEo/Khv23jUp/j7RE5ocC0amPiu2ELetegM/BwHUImXiTj9spn+pzPR5PyI38trgIIc/zsG3tac3dj/JgWwEZhxmPzG0RgY6Zoo/roSw++fFmj/nAuaguWigP8iJQ/6Tyb4/Z08zOB1m9D9rJCUhz0MYQAkXhngzkyBAdg0D0FfKCUCKjt4S+BbgP3LUrTJSQ8I/34FsfSyHsD/XBXvyFhCoP/nrXpTXy6M/P/FBJUUwkT+i38v/X+GSPwQCSHPWbJ8/U86zg54joD892N5nre6PP04RNufJyos/Qym/jOpSkD84EAZ78W6JPw/yQjd3qXA/V9ayVsKFVT/TfK4Nf9d5Pw1iEHPUIoc/jbtcgE0ddj/u1zbpjHhYP7FDtGevS3g/C7O+WpUwhz814jskz413P6Osw8HbXEk/v4l/Z9fz/D7S+dJ5z4SRPtCiByC8eQY+6W6G7oWRXj2JwrqhoQmWPCgqDZ3A17A7Ty+T0v9KqzrO5eROcHGHOR3++0TYWEU4hStku26b5DaDi0AsyRZlNXaVJ5o54cYzqzw7a6xQCjJ8MD9FBQswMJUoHMjLvDQugSoxDNVqHCzsMT5rLqTkKTHxByoMyo8nRzMi22bzGSX74uUYWXWGIkiR7QfImtQfDgCA+lwKBB36JDrj7KkUGm2qO4lolgYXu+LsPsks2hM48alL9BOQELsd7BF58CQNmgAsUXwYsgnR4Rlapg8vDXHQ9sgah5cQRCfC95zk4hOwhcErXxUQF/TH9EasBx0aDd2mSy/GCx2nAgVGnyvcH11mEdhNSo4iNbAUH5NDISXDiKqEy9yUJ/9rzmcYuuop5K7lSDkmIixkUwCulCE6Lnzj5HJZ8TMwAPcIhZEiEDIr+R3Tr63LM6LBoDnoKmk1b1VAnq9C6DbntjC4zcpIOLbcXXDh24o5dGjGKfPYrjpNMSP2fMeyOxCbc1NUPZg8OelWCJqVYD12YQop4A4IPg1p2V7Hf5I+0yBBBOwo/j5GHgJpSRBKP2BATAXF4Hc/IhnKTuQwhz8=\",\"dtype\":\"float64\",\"order\":\"little\",\"shape\":[100]},\"x\":{\"__ndarray__\":\"XwdvuceX6r9XK+QDtQDpv09PWU6iaee/R3POmI/S5b8/l0PjfDvkvze7uC1qpOK/MN8teFcN4b9PBkaFiezevz9OMBpkvtu/L5Yarz6Q2L8f3gREGWLVvxAm79jzM9K/ANyy25wLzr/ga4cFUq/Hv8D7Wy8HU8G/QBdhsnjttb8AbhQMxmmivwBKZTKVHYw/gImjUkg8sD/Aafr+3fS8PwClqNW51sQ/HBXUqwQzyz+ewv/Ap8fQP656FSzN9dM/vjIrl/Ij1z/O6kACGFLaP96iVm09gN0/dy02bDFX4D9/CcEhRO7hP4flS9dWheM/j8HWjGkc5T+XnWFCfLPmP5957PeOSug/p1V3raHh6T+vMQJjtHjrP7cNjRjHD+0/v+kXztmm7j/kYtFB9h7wP+jQlpx/6vA/7D5c9wi28T/wrCFSkoHyP/Ia56wbTfM/9oisB6UY9D/69nFiLuT0P/5kN723r/U/AtP8F0F79j8GQcJyykb3Pwqvh81TEvg/Dh1NKN3d+D8SixKDZqn5Pxb5193vdPo/GmedOHlA+z8e1WKTAgz8PyJDKO6L1/w/JrHtSBWj/T8qH7Ojnm7+Py6NeP4nOv8/mf2erNgCAECbtAFanWgAQJ1rZAdizgBAnyLHtCY0AUCh2Sli65kBQKOQjA+w/wFApUfvvHRlAkCn/lFqOcsCQKm1tBf+MANAq2wXxcKWA0CtI3pyh/wDQK/a3B9MYgRAsZE/zRDIBECzSKJ61S0FQLX/BCiakwVAt7Zn1V75BUC5bcqCI18GQLskLTDoxAZAvduP3awqB0C/kvKKcZAHQMFJVTg29gdAwwC45fpbCEDFtxqTv8EIQMdufUCEJwlAyCXg7UiNCUDK3EKbDfMJQMyTpUjSWApAzkoI9pa+CkDQAWujWyQLQNK4zVAgigtA1G8w/uTvC0DWJpOrqVUMQNjd9VhuuwxA2pRYBjMhDUDcS7uz94YNQN4CHmG87A1A4LmADoFSDkDicOO7RbgOQOQnRmkKHg9A5t6oFs+DD0DolQvEk+kPQHUmtzisJxBA9oFoj45aEEA=\",\"dtype\":\"float64\",\"order\":\"little\",\"shape\":[100]}},\"selected\":{\"id\":\"787687\"},\"selection_policy\":{\"id\":\"787686\"}},\"id\":\"787669\",\"type\":\"ColumnDataSource\"},{\"attributes\":{\"fill_alpha\":{\"value\":0.9},\"fill_color\":{\"value\":\"#a6d96a\"},\"hatch_alpha\":{\"value\":0.9},\"hatch_color\":{\"value\":\"#a6d96a\"},\"line_alpha\":{\"value\":0.9},\"size\":{\"value\":20},\"x\":{\"field\":\"x\"},\"y\":{\"field\":\"y\"}},\"id\":\"787433\",\"type\":\"Scatter\"},{\"attributes\":{\"fill_alpha\":{\"value\":0.1},\"fill_color\":{\"value\":\"#a6d96a\"},\"hatch_alpha\":{\"value\":0.1},\"hatch_color\":{\"value\":\"#a6d96a\"},\"line_alpha\":{\"value\":0.1},\"line_color\":{\"value\":\"#a6d96a\"},\"size\":{\"value\":20},\"x\":{\"field\":\"x\"},\"y\":{\"field\":\"y\"}},\"id\":\"787435\",\"type\":\"Scatter\"},{\"attributes\":{\"axis\":{\"id\":\"787319\"},\"coordinates\":null,\"dimension\":1,\"group\":null,\"ticker\":null},\"id\":\"787322\",\"type\":\"Grid\"},{\"attributes\":{\"line_color\":\"#d02c91\",\"line_width\":3,\"x\":{\"field\":\"x\"},\"y\":{\"field\":\"kde_values\"}},\"id\":\"787512\",\"type\":\"Line\"},{\"attributes\":{\"source\":{\"id\":\"787487\"}},\"id\":\"787516\",\"type\":\"CDSView\"},{\"attributes\":{\"fill_alpha\":{\"value\":0.9},\"fill_color\":{\"value\":\"#a6d96a\"},\"hatch_alpha\":{\"value\":0.9},\"hatch_color\":{\"value\":\"#a6d96a\"},\"line_alpha\":{\"value\":0.9},\"size\":{\"value\":20},\"x\":{\"field\":\"x\"},\"y\":{\"field\":\"y\"}},\"id\":\"787711\",\"type\":\"Scatter\"},{\"attributes\":{},\"id\":\"787324\",\"type\":\"SaveTool\"},{\"attributes\":{\"fill_alpha\":0.1,\"fill_color\":\"#1a9641\",\"hatch_alpha\":{\"value\":0.1},\"hatch_color\":{\"value\":\"#1a9641\"},\"x\":{\"field\":\"x\"},\"y1\":{\"value\":0},\"y2\":{\"field\":\"kde_values\"}},\"id\":\"787954\",\"type\":\"VArea\"},{\"attributes\":{},\"id\":\"787328\",\"type\":\"WheelZoomTool\"},{\"attributes\":{\"fill_alpha\":0.1,\"fill_color\":\"#a6d96a\",\"hatch_alpha\":{\"value\":0.1},\"x\":{\"field\":\"x\"},\"y1\":{\"value\":0},\"y2\":{\"field\":\"kde_values\"}},\"id\":\"787396\",\"type\":\"VArea\"},{\"attributes\":{},\"id\":\"787316\",\"type\":\"BasicTicker\"},{\"attributes\":{\"axis_label\":\"Outlier browser \\n(1 S.D. from mean)\",\"coordinates\":null,\"formatter\":{\"id\":\"787339\"},\"group\":null,\"major_label_policy\":{\"id\":\"787343\"},\"ticker\":{\"id\":\"787337\"}},\"id\":\"787319\",\"type\":\"LinearAxis\"},{\"attributes\":{\"fill_alpha\":0.1,\"fill_color\":\"#1a9641\",\"hatch_alpha\":{\"value\":0.1},\"x\":{\"field\":\"x\"},\"y1\":{\"value\":0},\"y2\":{\"field\":\"kde_values\"}},\"id\":\"787953\",\"type\":\"VArea\"},{\"attributes\":{\"data\":{\"cell_ID\":{\"__ndarray__\":\"QwEAACsBAAClAAAAqQAAAOYEAADjBAAA8wcAAJsIAABwCQAAHwIAAD0CAABOAAAAUQAAAAgAAAAUAQAApgAAAGoCAABPAwAArgUAAA0HAAA=\",\"dtype\":\"int32\",\"order\":\"little\",\"shape\":[20]},\"compound\":[\"PZA\",\"PZA\",\"PZA\",\"PZA\",\"PZA\",\"PZA\",\"PZA\",\"PZA\",\"PZA\",\"PZA\",\"PZA\",\"PZA\",\"PZA\",\"PZA\",\"PZA\",\"PZA\",\"PZA\",\"PZA\",\"PZA\",\"PZA\"],\"concentration\":[\"EC50\",\"EC50\",\"EC50\",\"EC50\",\"EC50\",\"EC50\",\"EC50\",\"EC50\",\"EC50\",\"EC50\",\"EC50\",\"EC50\",\"EC50\",\"EC50\",\"EC50\",\"EC50\",\"EC50\",\"EC50\",\"EC50\",\"EC50\"],\"dMtb\":{\"__ndarray__\":\"cm/Q7jXx3j/z/QaJrigGQKLLTZQHeuE/KPPSnXfv3L978H3CnsLcv2eOEXWabQVAg0kaL2/k4D+p+TNBc2LJP4jfOK9WNtU/FzoTLvT82T8TA8G0TEz2v9BzBJ5BktQ/TxiH22TJyD8oopllZRzJv6pHTf2tjcQ/sQo2yY73yD+S/c/TPWffP911hnHCkOM/uBFFEdwI3L+0aBH+d0rUPw==\",\"dtype\":\"float64\",\"order\":\"little\",\"shape\":[20]},\"glimpse_url_t0\":[\"https://macrohet.s3.eu-west-2.amazonaws.com/dMtb/dMtb_glimpses/glimpse_323.3.6_t0.png\",\"https://macrohet.s3.eu-west-2.amazonaws.com/dMtb/dMtb_glimpses/glimpse_299.3.6_t0.png\",\"https://macrohet.s3.eu-west-2.amazonaws.com/dMtb/dMtb_glimpses/glimpse_165.3.6_t0.png\",\"https://macrohet.s3.eu-west-2.amazonaws.com/dMtb/dMtb_glimpses/glimpse_169.3.6_t0.png\",\"https://macrohet.s3.eu-west-2.amazonaws.com/dMtb/dMtb_glimpses/glimpse_1254.3.6_t7.png\",\"https://macrohet.s3.eu-west-2.amazonaws.com/dMtb/dMtb_glimpses/glimpse_1251.3.6_t7.png\",\"https://macrohet.s3.eu-west-2.amazonaws.com/dMtb/dMtb_glimpses/glimpse_2035.3.6_t19.png\",\"https://macrohet.s3.eu-west-2.amazonaws.com/dMtb/dMtb_glimpses/glimpse_2203.3.6_t22.png\",\"https://macrohet.s3.eu-west-2.amazonaws.com/dMtb/dMtb_glimpses/glimpse_2416.3.6_t26.png\",\"https://macrohet.s3.eu-west-2.amazonaws.com/dMtb/dMtb_glimpses/glimpse_543.4.6_t0.png\",\"https://macrohet.s3.eu-west-2.amazonaws.com/dMtb/dMtb_glimpses/glimpse_573.4.6_t0.png\",\"https://macrohet.s3.eu-west-2.amazonaws.com/dMtb/dMtb_glimpses/glimpse_78.4.6_t0.png\",\"https://macrohet.s3.eu-west-2.amazonaws.com/dMtb/dMtb_glimpses/glimpse_81.4.6_t0.png\",\"https://macrohet.s3.eu-west-2.amazonaws.com/dMtb/dMtb_glimpses/glimpse_8.4.6_t0.png\",\"https://macrohet.s3.eu-west-2.amazonaws.com/dMtb/dMtb_glimpses/glimpse_276.4.6_t0.png\",\"https://macrohet.s3.eu-west-2.amazonaws.com/dMtb/dMtb_glimpses/glimpse_166.4.6_t0.png\",\"https://macrohet.s3.eu-west-2.amazonaws.com/dMtb/dMtb_glimpses/glimpse_618.4.6_t1.png\",\"https://macrohet.s3.eu-west-2.amazonaws.com/dMtb/dMtb_glimpses/glimpse_847.4.6_t3.png\",\"https://macrohet.s3.eu-west-2.amazonaws.com/dMtb/dMtb_glimpses/glimpse_1454.4.6_t11.png\",\"https://macrohet.s3.eu-west-2.amazonaws.com/dMtb/dMtb_glimpses/glimpse_1805.4.6_t17.png\"],\"glimpse_url_tn\":[\"https://macrohet.s3.eu-west-2.amazonaws.com/dMtb/dMtb_glimpses/glimpse_323.3.6_t-1.png\",\"https://macrohet.s3.eu-west-2.amazonaws.com/dMtb/dMtb_glimpses/glimpse_299.3.6_t-1.png\",\"https://macrohet.s3.eu-west-2.amazonaws.com/dMtb/dMtb_glimpses/glimpse_165.3.6_t-1.png\",\"https://macrohet.s3.eu-west-2.amazonaws.com/dMtb/dMtb_glimpses/glimpse_169.3.6_t-1.png\",\"https://macrohet.s3.eu-west-2.amazonaws.com/dMtb/dMtb_glimpses/glimpse_1254.3.6_t-1.png\",\"https://macrohet.s3.eu-west-2.amazonaws.com/dMtb/dMtb_glimpses/glimpse_1251.3.6_t-1.png\",\"https://macrohet.s3.eu-west-2.amazonaws.com/dMtb/dMtb_glimpses/glimpse_2035.3.6_t-1.png\",\"https://macrohet.s3.eu-west-2.amazonaws.com/dMtb/dMtb_glimpses/glimpse_2203.3.6_t-1.png\",\"https://macrohet.s3.eu-west-2.amazonaws.com/dMtb/dMtb_glimpses/glimpse_2416.3.6_t-1.png\",\"https://macrohet.s3.eu-west-2.amazonaws.com/dMtb/dMtb_glimpses/glimpse_543.4.6_t-1.png\",\"https://macrohet.s3.eu-west-2.amazonaws.com/dMtb/dMtb_glimpses/glimpse_573.4.6_t-1.png\",\"https://macrohet.s3.eu-west-2.amazonaws.com/dMtb/dMtb_glimpses/glimpse_78.4.6_t-1.png\",\"https://macrohet.s3.eu-west-2.amazonaws.com/dMtb/dMtb_glimpses/glimpse_81.4.6_t-1.png\",\"https://macrohet.s3.eu-west-2.amazonaws.com/dMtb/dMtb_glimpses/glimpse_8.4.6_t-1.png\",\"https://macrohet.s3.eu-west-2.amazonaws.com/dMtb/dMtb_glimpses/glimpse_276.4.6_t-1.png\",\"https://macrohet.s3.eu-west-2.amazonaws.com/dMtb/dMtb_glimpses/glimpse_166.4.6_t-1.png\",\"https://macrohet.s3.eu-west-2.amazonaws.com/dMtb/dMtb_glimpses/glimpse_618.4.6_t-1.png\",\"https://macrohet.s3.eu-west-2.amazonaws.com/dMtb/dMtb_glimpses/glimpse_847.4.6_t-1.png\",\"https://macrohet.s3.eu-west-2.amazonaws.com/dMtb/dMtb_glimpses/glimpse_1454.4.6_t-1.png\",\"https://macrohet.s3.eu-west-2.amazonaws.com/dMtb/dMtb_glimpses/glimpse_1805.4.6_t-1.png\"],\"strain\":[\"WT\",\"WT\",\"WT\",\"WT\",\"WT\",\"WT\",\"WT\",\"WT\",\"WT\",\"WT\",\"WT\",\"WT\",\"WT\",\"WT\",\"WT\",\"WT\",\"WT\",\"WT\",\"WT\",\"WT\"],\"tech_rep\":[1,1,1,1,1,1,1,1,1,2,2,2,2,2,2,2,2,2,2,2],\"x\":{\"__ndarray__\":\"cm/Q7jXx3j/z/QaJrigGQKLLTZQHeuE/KPPSnXfv3L978H3CnsLcv2eOEXWabQVAg0kaL2/k4D+p+TNBc2LJP4jfOK9WNtU/FzoTLvT82T8TA8G0TEz2v9BzBJ5BktQ/TxiH22TJyD8oopllZRzJv6pHTf2tjcQ/sQo2yY73yD+S/c/TPWffP911hnHCkOM/uBFFEdwI3L+0aBH+d0rUPw==\",\"dtype\":\"float64\",\"order\":\"little\",\"shape\":[20]},\"y\":{\"__ndarray__\":\"pn9JKlPMwT+k/KTap+PBP+RmuAGfH8I/fZHQlnMpwj9vRzgteNHDP8aIRKFl3cM/TihEwCFUxT8IPZtVn6vFP+cYkL3e/cU/gSGrWz0n4D+TxmgdVU3gPx+/t+nPfuA/RNycSgaA4D/rGcIxy57gP4GU2LW93eA/0TsVcM/z4D9zucFQhxXhP+EKKNTTR+E//+cwX16A4T8o7+NojqzhPw==\",\"dtype\":\"float64\",\"order\":\"little\",\"shape\":[20]}},\"name\":\"WT, PZA, EC50\",\"selected\":{\"id\":\"788054\"},\"selection_policy\":{\"id\":\"788053\"}},\"id\":\"787480\",\"type\":\"ColumnDataSource\"},{\"attributes\":{\"coordinates\":null,\"data_source\":{\"id\":\"787669\"},\"glyph\":{\"id\":\"787671\"},\"group\":null,\"hover_glyph\":null,\"muted_glyph\":{\"id\":\"787673\"},\"nonselection_glyph\":{\"id\":\"787672\"},\"view\":{\"id\":\"787675\"}},\"id\":\"787674\",\"type\":\"GlyphRenderer\"},{\"attributes\":{\"source\":{\"id\":\"787709\"}},\"id\":\"787715\",\"type\":\"CDSView\"},{\"attributes\":{},\"id\":\"787599\",\"type\":\"SaveTool\"},{\"attributes\":{\"fill_alpha\":0.1,\"fill_color\":\"#d02c91\",\"hatch_alpha\":{\"value\":0.1},\"x\":{\"field\":\"x\"},\"y1\":{\"value\":0},\"y2\":{\"field\":\"kde_values\"}},\"id\":\"787770\",\"type\":\"VArea\"},{\"attributes\":{\"source\":{\"id\":\"787950\"}},\"id\":\"787956\",\"type\":\"CDSView\"},{\"attributes\":{\"fill_alpha\":{\"value\":0.1},\"fill_color\":{\"value\":\"#f1b6da\"},\"hatch_alpha\":{\"value\":0.1},\"hatch_color\":{\"value\":\"#f1b6da\"},\"line_alpha\":{\"value\":0.1},\"size\":{\"value\":20},\"x\":{\"field\":\"x\"},\"y\":{\"field\":\"y\"}},\"id\":\"787763\",\"type\":\"Scatter\"},{\"attributes\":{\"fill_alpha\":0.1,\"fill_color\":\"#d02c91\",\"hatch_alpha\":{\"value\":0.1},\"hatch_color\":{\"value\":\"#d02c91\"},\"x\":{\"field\":\"x\"},\"y1\":{\"value\":0},\"y2\":{\"field\":\"kde_values\"}},\"id\":\"787771\",\"type\":\"VArea\"},{\"attributes\":{\"data\":{\"cell_ID\":{\"__ndarray__\":\"zAEAAPcBAACHAQAAoAEAAJMCAACXAgAAcAIAALACAADBAgAArQIAAFsAAACRAAAAWAEAAEQBAAC4AAAABAEAAOsAAADtAgAAUQMAAIcEAACJBgAAnQYAAHQIAACSAQAAjwEAAO8BAAByAAAAEwQAAAkEAACJBQAA\",\"dtype\":\"int32\",\"order\":\"little\",\"shape\":[30]},\"compound\":[\"RIF\",\"RIF\",\"RIF\",\"RIF\",\"RIF\",\"RIF\",\"RIF\",\"RIF\",\"RIF\",\"RIF\",\"RIF\",\"RIF\",\"RIF\",\"RIF\",\"RIF\",\"RIF\",\"RIF\",\"RIF\",\"RIF\",\"RIF\",\"RIF\",\"RIF\",\"RIF\",\"RIF\",\"RIF\",\"RIF\",\"RIF\",\"RIF\",\"RIF\",\"RIF\"],\"concentration\":[\"EC99\",\"EC99\",\"EC99\",\"EC99\",\"EC99\",\"EC99\",\"EC99\",\"EC99\",\"EC99\",\"EC99\",\"EC99\",\"EC99\",\"EC99\",\"EC99\",\"EC99\",\"EC99\",\"EC99\",\"EC99\",\"EC99\",\"EC99\",\"EC99\",\"EC99\",\"EC99\",\"EC99\",\"EC99\",\"EC99\",\"EC99\",\"EC99\",\"EC99\",\"EC99\"],\"dMtb\":{\"__ndarray__\":\"j/hnDjPK3T8qagokybu6P/ExkQQAvNK//V/sW3FYwT/fVZOFuuHdP/9Qd9xKHse/iA2fkblm1b+NAcaGm+/Cv5cqTZa1AbI/gAJA4igywT94y9NSjByzPzPp/aSSeLU/OL4uudLGvj+4GBg6zDG4P5hzt9f/HLM/slDr1N214L856BF1Bo7gP7bjT+9vTLM/yvf4E135sD+k+R5ba1ngv7EixtV4+6u/ItqrdQQmsD+ruCXBaz+yP0+5f2Rbn7A/RUcJht2V6z+GLKPWSuXGvx1JcTJEJbk/NfKeX3FewD9pNwb1nQrXP4SVVpzgb7k/\",\"dtype\":\"float64\",\"order\":\"little\",\"shape\":[30]},\"glimpse_url_t0\":[\"https://macrohet.s3.eu-west-2.amazonaws.com/dMtb/dMtb_glimpses/glimpse_460.5.7_t0.png\",\"https://macrohet.s3.eu-west-2.amazonaws.com/dMtb/dMtb_glimpses/glimpse_503.5.7_t0.png\",\"https://macrohet.s3.eu-west-2.amazonaws.com/dMtb/dMtb_glimpses/glimpse_391.5.7_t0.png\",\"https://macrohet.s3.eu-west-2.amazonaws.com/dMtb/dMtb_glimpses/glimpse_416.5.7_t0.png\",\"https://macrohet.s3.eu-west-2.amazonaws.com/dMtb/dMtb_glimpses/glimpse_659.5.7_t0.png\",\"https://macrohet.s3.eu-west-2.amazonaws.com/dMtb/dMtb_glimpses/glimpse_663.5.7_t0.png\",\"https://macrohet.s3.eu-west-2.amazonaws.com/dMtb/dMtb_glimpses/glimpse_624.5.7_t0.png\",\"https://macrohet.s3.eu-west-2.amazonaws.com/dMtb/dMtb_glimpses/glimpse_688.5.7_t0.png\",\"https://macrohet.s3.eu-west-2.amazonaws.com/dMtb/dMtb_glimpses/glimpse_705.5.7_t0.png\",\"https://macrohet.s3.eu-west-2.amazonaws.com/dMtb/dMtb_glimpses/glimpse_685.5.7_t0.png\",\"https://macrohet.s3.eu-west-2.amazonaws.com/dMtb/dMtb_glimpses/glimpse_91.5.7_t0.png\",\"https://macrohet.s3.eu-west-2.amazonaws.com/dMtb/dMtb_glimpses/glimpse_145.5.7_t0.png\",\"https://macrohet.s3.eu-west-2.amazonaws.com/dMtb/dMtb_glimpses/glimpse_344.5.7_t0.png\",\"https://macrohet.s3.eu-west-2.amazonaws.com/dMtb/dMtb_glimpses/glimpse_324.5.7_t0.png\",\"https://macrohet.s3.eu-west-2.amazonaws.com/dMtb/dMtb_glimpses/glimpse_184.5.7_t0.png\",\"https://macrohet.s3.eu-west-2.amazonaws.com/dMtb/dMtb_glimpses/glimpse_260.5.7_t0.png\",\"https://macrohet.s3.eu-west-2.amazonaws.com/dMtb/dMtb_glimpses/glimpse_235.5.7_t0.png\",\"https://macrohet.s3.eu-west-2.amazonaws.com/dMtb/dMtb_glimpses/glimpse_749.5.7_t1.png\",\"https://macrohet.s3.eu-west-2.amazonaws.com/dMtb/dMtb_glimpses/glimpse_849.5.7_t2.png\",\"https://macrohet.s3.eu-west-2.amazonaws.com/dMtb/dMtb_glimpses/glimpse_1159.5.7_t5.png\",\"https://macrohet.s3.eu-west-2.amazonaws.com/dMtb/dMtb_glimpses/glimpse_1673.5.7_t14.png\",\"https://macrohet.s3.eu-west-2.amazonaws.com/dMtb/dMtb_glimpses/glimpse_1693.5.7_t15.png\",\"https://macrohet.s3.eu-west-2.amazonaws.com/dMtb/dMtb_glimpses/glimpse_2164.5.7_t24.png\",\"https://macrohet.s3.eu-west-2.amazonaws.com/dMtb/dMtb_glimpses/glimpse_402.6.7_t0.png\",\"https://macrohet.s3.eu-west-2.amazonaws.com/dMtb/dMtb_glimpses/glimpse_399.6.7_t0.png\",\"https://macrohet.s3.eu-west-2.amazonaws.com/dMtb/dMtb_glimpses/glimpse_495.6.7_t0.png\",\"https://macrohet.s3.eu-west-2.amazonaws.com/dMtb/dMtb_glimpses/glimpse_114.6.7_t0.png\",\"https://macrohet.s3.eu-west-2.amazonaws.com/dMtb/dMtb_glimpses/glimpse_1043.6.7_t4.png\",\"https://macrohet.s3.eu-west-2.amazonaws.com/dMtb/dMtb_glimpses/glimpse_1033.6.7_t4.png\",\"https://macrohet.s3.eu-west-2.amazonaws.com/dMtb/dMtb_glimpses/glimpse_1417.6.7_t10.png\"],\"glimpse_url_tn\":[\"https://macrohet.s3.eu-west-2.amazonaws.com/dMtb/dMtb_glimpses/glimpse_460.5.7_t-1.png\",\"https://macrohet.s3.eu-west-2.amazonaws.com/dMtb/dMtb_glimpses/glimpse_503.5.7_t-1.png\",\"https://macrohet.s3.eu-west-2.amazonaws.com/dMtb/dMtb_glimpses/glimpse_391.5.7_t-1.png\",\"https://macrohet.s3.eu-west-2.amazonaws.com/dMtb/dMtb_glimpses/glimpse_416.5.7_t-1.png\",\"https://macrohet.s3.eu-west-2.amazonaws.com/dMtb/dMtb_glimpses/glimpse_659.5.7_t-1.png\",\"https://macrohet.s3.eu-west-2.amazonaws.com/dMtb/dMtb_glimpses/glimpse_663.5.7_t-1.png\",\"https://macrohet.s3.eu-west-2.amazonaws.com/dMtb/dMtb_glimpses/glimpse_624.5.7_t-1.png\",\"https://macrohet.s3.eu-west-2.amazonaws.com/dMtb/dMtb_glimpses/glimpse_688.5.7_t-1.png\",\"https://macrohet.s3.eu-west-2.amazonaws.com/dMtb/dMtb_glimpses/glimpse_705.5.7_t-1.png\",\"https://macrohet.s3.eu-west-2.amazonaws.com/dMtb/dMtb_glimpses/glimpse_685.5.7_t-1.png\",\"https://macrohet.s3.eu-west-2.amazonaws.com/dMtb/dMtb_glimpses/glimpse_91.5.7_t-1.png\",\"https://macrohet.s3.eu-west-2.amazonaws.com/dMtb/dMtb_glimpses/glimpse_145.5.7_t-1.png\",\"https://macrohet.s3.eu-west-2.amazonaws.com/dMtb/dMtb_glimpses/glimpse_344.5.7_t-1.png\",\"https://macrohet.s3.eu-west-2.amazonaws.com/dMtb/dMtb_glimpses/glimpse_324.5.7_t-1.png\",\"https://macrohet.s3.eu-west-2.amazonaws.com/dMtb/dMtb_glimpses/glimpse_184.5.7_t-1.png\",\"https://macrohet.s3.eu-west-2.amazonaws.com/dMtb/dMtb_glimpses/glimpse_260.5.7_t-1.png\",\"https://macrohet.s3.eu-west-2.amazonaws.com/dMtb/dMtb_glimpses/glimpse_235.5.7_t-1.png\",\"https://macrohet.s3.eu-west-2.amazonaws.com/dMtb/dMtb_glimpses/glimpse_749.5.7_t-1.png\",\"https://macrohet.s3.eu-west-2.amazonaws.com/dMtb/dMtb_glimpses/glimpse_849.5.7_t-1.png\",\"https://macrohet.s3.eu-west-2.amazonaws.com/dMtb/dMtb_glimpses/glimpse_1159.5.7_t-1.png\",\"https://macrohet.s3.eu-west-2.amazonaws.com/dMtb/dMtb_glimpses/glimpse_1673.5.7_t-1.png\",\"https://macrohet.s3.eu-west-2.amazonaws.com/dMtb/dMtb_glimpses/glimpse_1693.5.7_t-1.png\",\"https://macrohet.s3.eu-west-2.amazonaws.com/dMtb/dMtb_glimpses/glimpse_2164.5.7_t-1.png\",\"https://macrohet.s3.eu-west-2.amazonaws.com/dMtb/dMtb_glimpses/glimpse_402.6.7_t-1.png\",\"https://macrohet.s3.eu-west-2.amazonaws.com/dMtb/dMtb_glimpses/glimpse_399.6.7_t-1.png\",\"https://macrohet.s3.eu-west-2.amazonaws.com/dMtb/dMtb_glimpses/glimpse_495.6.7_t-1.png\",\"https://macrohet.s3.eu-west-2.amazonaws.com/dMtb/dMtb_glimpses/glimpse_114.6.7_t-1.png\",\"https://macrohet.s3.eu-west-2.amazonaws.com/dMtb/dMtb_glimpses/glimpse_1043.6.7_t-1.png\",\"https://macrohet.s3.eu-west-2.amazonaws.com/dMtb/dMtb_glimpses/glimpse_1033.6.7_t-1.png\",\"https://macrohet.s3.eu-west-2.amazonaws.com/dMtb/dMtb_glimpses/glimpse_1417.6.7_t-1.png\"],\"strain\":[\"WT\",\"WT\",\"WT\",\"WT\",\"WT\",\"WT\",\"WT\",\"WT\",\"WT\",\"WT\",\"WT\",\"WT\",\"WT\",\"WT\",\"WT\",\"WT\",\"WT\",\"WT\",\"WT\",\"WT\",\"WT\",\"WT\",\"WT\",\"WT\",\"WT\",\"WT\",\"WT\",\"WT\",\"WT\",\"WT\"],\"tech_rep\":[1,1,1,1,1,1,1,1,1,1,1,1,1,1,1,1,1,1,1,1,1,1,1,2,2,2,2,2,2,2],\"x\":{\"__ndarray__\":\"j/hnDjPK3T8qagokybu6P/ExkQQAvNK//V/sW3FYwT/fVZOFuuHdP/9Qd9xKHse/iA2fkblm1b+NAcaGm+/Cv5cqTZa1AbI/gAJA4igywT94y9NSjByzPzPp/aSSeLU/OL4uudLGvj+4GBg6zDG4P5hzt9f/HLM/slDr1N214L856BF1Bo7gP7bjT+9vTLM/yvf4E135sD+k+R5ba1ngv7EixtV4+6u/ItqrdQQmsD+ruCXBaz+yP0+5f2Rbn7A/RUcJht2V6z+GLKPWSuXGvx1JcTJEJbk/NfKeX3FewD9pNwb1nQrXP4SVVpzgb7k/\",\"dtype\":\"float64\",\"order\":\"little\",\"shape\":[30]},\"y\":{\"__ndarray__\":\"/5dr0QK07D+sxDwracXsP7Ng4o+izuw/aYoAp3fx7D9iwJKrWPzsP1H6Qsh5/+w/pP/lWrQA7T/on+BiRQ3tP55BQ/8EF+0/F2U2yCQj7T+fIoeIm1PtPzGzz2OUZ+0/Ru1+FeC77T9+rOC3IcbtP1SsGoS53e0/zHoxlBPt7T/bNoyC4PHtP79H/fUKC+4/s5lDUgsl7j+cvwmFCDjuPzbJj/gVa+4/llrvN9px7j8hy4KJP4ruPwBSmzi53/M/pWlQNA/g8z/QX+gRo+fzP9ANTdnpB/Q/nUtxVdl39D++FYkJanj0P1cE/1vJjvQ/\",\"dtype\":\"float64\",\"order\":\"little\",\"shape\":[30]}},\"name\":\"WT, RIF, EC99\",\"selected\":{\"id\":\"788072\"},\"selection_policy\":{\"id\":\"788071\"}},\"id\":\"787815\",\"type\":\"ColumnDataSource\"},{\"attributes\":{},\"id\":\"787584\",\"type\":\"DataRange1d\"},{\"attributes\":{\"axis_label\":\"\\u0394Mtb \\n(fold-change relative to area)\",\"coordinates\":null,\"formatter\":{\"id\":\"787620\"},\"group\":null,\"major_label_policy\":{\"id\":\"787621\"},\"ticker\":{\"id\":\"787591\"}},\"id\":\"787590\",\"type\":\"LinearAxis\"},{\"attributes\":{\"data\":{\"cell_ID\":{\"__ndarray__\":\"dAEAAFcCAABLAQAABwMAANQCAACJAwAARwMAAJcDAAAHBwAA3gcAAGAIAACaCAAA9QkAAPcBAAC1AQAAzQEAAFEAAABuAgAA1gUAACEGAADmBgAAZQcAAHMHAAA=\",\"dtype\":\"int32\",\"order\":\"little\",\"shape\":[23]},\"compound\":[\"INH\",\"INH\",\"INH\",\"INH\",\"INH\",\"INH\",\"INH\",\"INH\",\"INH\",\"INH\",\"INH\",\"INH\",\"INH\",\"INH\",\"INH\",\"INH\",\"INH\",\"INH\",\"INH\",\"INH\",\"INH\",\"INH\",\"INH\"],\"concentration\":[\"EC50\",\"EC50\",\"EC50\",\"EC50\",\"EC50\",\"EC50\",\"EC50\",\"EC50\",\"EC50\",\"EC50\",\"EC50\",\"EC50\",\"EC50\",\"EC50\",\"EC50\",\"EC50\",\"EC50\",\"EC50\",\"EC50\",\"EC50\",\"EC50\",\"EC50\",\"EC50\"],\"dMtb\":{\"__ndarray__\":\"wxasyuDy5D/0L2ti7qLHP0IHjUtMid0/ULJM/0to+D9XjxYsxhMBQEh+haHreck/iqMrwYmh6D/eeefI6RrFP3HX8xt0Zf6/pbhiyKNe0T9z04jAUF3NP6mVkz7VTtM/BImMrVElzD9UoUUdQdTqP8GRTM+6W8I/ZO0SY4/x1z9ieTykRj7mP2IF6Bg0z+S/HyrJLz/Q3T9XT/Rnhu3Nv1p+GPB0bdC/gkHq0L9XzT8VTlNQ7NDevw==\",\"dtype\":\"float64\",\"order\":\"little\",\"shape\":[23]},\"glimpse_url_t0\":[\"https://macrohet.s3.eu-west-2.amazonaws.com/dMtb/dMtb_glimpses/glimpse_372.3.8_t0.png\",\"https://macrohet.s3.eu-west-2.amazonaws.com/dMtb/dMtb_glimpses/glimpse_599.3.8_t0.png\",\"https://macrohet.s3.eu-west-2.amazonaws.com/dMtb/dMtb_glimpses/glimpse_331.3.8_t0.png\",\"https://macrohet.s3.eu-west-2.amazonaws.com/dMtb/dMtb_glimpses/glimpse_775.3.8_t1.png\",\"https://macrohet.s3.eu-west-2.amazonaws.com/dMtb/dMtb_glimpses/glimpse_724.3.8_t1.png\",\"https://macrohet.s3.eu-west-2.amazonaws.com/dMtb/dMtb_glimpses/glimpse_905.3.8_t2.png\",\"https://macrohet.s3.eu-west-2.amazonaws.com/dMtb/dMtb_glimpses/glimpse_839.3.8_t2.png\",\"https://macrohet.s3.eu-west-2.amazonaws.com/dMtb/dMtb_glimpses/glimpse_919.3.8_t3.png\",\"https://macrohet.s3.eu-west-2.amazonaws.com/dMtb/dMtb_glimpses/glimpse_1799.3.8_t14.png\",\"https://macrohet.s3.eu-west-2.amazonaws.com/dMtb/dMtb_glimpses/glimpse_2014.3.8_t19.png\",\"https://macrohet.s3.eu-west-2.amazonaws.com/dMtb/dMtb_glimpses/glimpse_2144.3.8_t21.png\",\"https://macrohet.s3.eu-west-2.amazonaws.com/dMtb/dMtb_glimpses/glimpse_2202.3.8_t23.png\",\"https://macrohet.s3.eu-west-2.amazonaws.com/dMtb/dMtb_glimpses/glimpse_2549.3.8_t30.png\",\"https://macrohet.s3.eu-west-2.amazonaws.com/dMtb/dMtb_glimpses/glimpse_503.4.8_t0.png\",\"https://macrohet.s3.eu-west-2.amazonaws.com/dMtb/dMtb_glimpses/glimpse_437.4.8_t0.png\",\"https://macrohet.s3.eu-west-2.amazonaws.com/dMtb/dMtb_glimpses/glimpse_461.4.8_t0.png\",\"https://macrohet.s3.eu-west-2.amazonaws.com/dMtb/dMtb_glimpses/glimpse_81.4.8_t0.png\",\"https://macrohet.s3.eu-west-2.amazonaws.com/dMtb/dMtb_glimpses/glimpse_622.4.8_t1.png\",\"https://macrohet.s3.eu-west-2.amazonaws.com/dMtb/dMtb_glimpses/glimpse_1494.4.8_t17.png\",\"https://macrohet.s3.eu-west-2.amazonaws.com/dMtb/dMtb_glimpses/glimpse_1569.4.8_t19.png\",\"https://macrohet.s3.eu-west-2.amazonaws.com/dMtb/dMtb_glimpses/glimpse_1766.4.8_t23.png\",\"https://macrohet.s3.eu-west-2.amazonaws.com/dMtb/dMtb_glimpses/glimpse_1893.4.8_t26.png\",\"https://macrohet.s3.eu-west-2.amazonaws.com/dMtb/dMtb_glimpses/glimpse_1907.4.8_t26.png\"],\"glimpse_url_tn\":[\"https://macrohet.s3.eu-west-2.amazonaws.com/dMtb/dMtb_glimpses/glimpse_372.3.8_t-1.png\",\"https://macrohet.s3.eu-west-2.amazonaws.com/dMtb/dMtb_glimpses/glimpse_599.3.8_t-1.png\",\"https://macrohet.s3.eu-west-2.amazonaws.com/dMtb/dMtb_glimpses/glimpse_331.3.8_t-1.png\",\"https://macrohet.s3.eu-west-2.amazonaws.com/dMtb/dMtb_glimpses/glimpse_775.3.8_t-1.png\",\"https://macrohet.s3.eu-west-2.amazonaws.com/dMtb/dMtb_glimpses/glimpse_724.3.8_t-1.png\",\"https://macrohet.s3.eu-west-2.amazonaws.com/dMtb/dMtb_glimpses/glimpse_905.3.8_t-1.png\",\"https://macrohet.s3.eu-west-2.amazonaws.com/dMtb/dMtb_glimpses/glimpse_839.3.8_t-1.png\",\"https://macrohet.s3.eu-west-2.amazonaws.com/dMtb/dMtb_glimpses/glimpse_919.3.8_t-1.png\",\"https://macrohet.s3.eu-west-2.amazonaws.com/dMtb/dMtb_glimpses/glimpse_1799.3.8_t-1.png\",\"https://macrohet.s3.eu-west-2.amazonaws.com/dMtb/dMtb_glimpses/glimpse_2014.3.8_t-1.png\",\"https://macrohet.s3.eu-west-2.amazonaws.com/dMtb/dMtb_glimpses/glimpse_2144.3.8_t-1.png\",\"https://macrohet.s3.eu-west-2.amazonaws.com/dMtb/dMtb_glimpses/glimpse_2202.3.8_t-1.png\",\"https://macrohet.s3.eu-west-2.amazonaws.com/dMtb/dMtb_glimpses/glimpse_2549.3.8_t-1.png\",\"https://macrohet.s3.eu-west-2.amazonaws.com/dMtb/dMtb_glimpses/glimpse_503.4.8_t-1.png\",\"https://macrohet.s3.eu-west-2.amazonaws.com/dMtb/dMtb_glimpses/glimpse_437.4.8_t-1.png\",\"https://macrohet.s3.eu-west-2.amazonaws.com/dMtb/dMtb_glimpses/glimpse_461.4.8_t-1.png\",\"https://macrohet.s3.eu-west-2.amazonaws.com/dMtb/dMtb_glimpses/glimpse_81.4.8_t-1.png\",\"https://macrohet.s3.eu-west-2.amazonaws.com/dMtb/dMtb_glimpses/glimpse_622.4.8_t-1.png\",\"https://macrohet.s3.eu-west-2.amazonaws.com/dMtb/dMtb_glimpses/glimpse_1494.4.8_t-1.png\",\"https://macrohet.s3.eu-west-2.amazonaws.com/dMtb/dMtb_glimpses/glimpse_1569.4.8_t-1.png\",\"https://macrohet.s3.eu-west-2.amazonaws.com/dMtb/dMtb_glimpses/glimpse_1766.4.8_t-1.png\",\"https://macrohet.s3.eu-west-2.amazonaws.com/dMtb/dMtb_glimpses/glimpse_1893.4.8_t-1.png\",\"https://macrohet.s3.eu-west-2.amazonaws.com/dMtb/dMtb_glimpses/glimpse_1907.4.8_t-1.png\"],\"strain\":[\"WT\",\"WT\",\"WT\",\"WT\",\"WT\",\"WT\",\"WT\",\"WT\",\"WT\",\"WT\",\"WT\",\"WT\",\"WT\",\"WT\",\"WT\",\"WT\",\"WT\",\"WT\",\"WT\",\"WT\",\"WT\",\"WT\",\"WT\"],\"tech_rep\":[1,1,1,1,1,1,1,1,1,1,1,1,1,2,2,2,2,2,2,2,2,2,2],\"x\":{\"__ndarray__\":\"wxasyuDy5D/0L2ti7qLHP0IHjUtMid0/ULJM/0to+D9XjxYsxhMBQEh+haHreck/iqMrwYmh6D/eeefI6RrFP3HX8xt0Zf6/pbhiyKNe0T9z04jAUF3NP6mVkz7VTtM/BImMrVElzD9UoUUdQdTqP8GRTM+6W8I/ZO0SY4/x1z9ieTykRj7mP2IF6Bg0z+S/HyrJLz/Q3T9XT/Rnhu3Nv1p+GPB0bdC/gkHq0L9XzT8VTlNQ7NDevw==\",\"dtype\":\"float64\",\"order\":\"little\",\"shape\":[23]},\"y\":{\"__ndarray__\":\"7bsi+N9Kzj8jERrBxvXPP/5IERlW8dA/mpMXmYBf0T8HCObo8XvRP1FpxMw+j9E/vt2SHLCr0T+sGoS53cvRP28PQkC+hNI/qdxELc2t0j/w3eaNk8LSPz56w33k1tI/1lJA2v8A0z+7trdbkgPkP4nsgywLJuQ/kQ4PYfw05D9FLc2tEFbkP8zxCkRPyuQ/d/cA3Zcz5T8IAfkSKjjlPxa+vtalRuU/JlXbTfBN5T/axTTTvU7lPw==\",\"dtype\":\"float64\",\"order\":\"little\",\"shape\":[23]}},\"name\":\"WT, INH, EC50\",\"selected\":{\"id\":\"788052\"},\"selection_policy\":{\"id\":\"788051\"}},\"id\":\"787431\",\"type\":\"ColumnDataSource\"},{\"attributes\":{\"click_policy\":\"mute\",\"coordinates\":null,\"group\":null,\"items\":[{\"id\":\"787926\"},{\"id\":\"787969\"}],\"location\":\"top_left\"},\"id\":\"787925\",\"type\":\"Legend\"},{\"attributes\":{},\"id\":\"787588\",\"type\":\"LinearScale\"},{\"attributes\":{\"label\":{\"value\":\"WT, RIF, EC99\"},\"renderers\":[{\"id\":\"787772\"},{\"id\":\"787796\"}]},\"id\":\"787791\",\"type\":\"LegendItem\"},{\"attributes\":{\"source\":{\"id\":\"787480\"}},\"id\":\"787486\",\"type\":\"CDSView\"},{\"attributes\":{\"coordinates\":null,\"data_source\":{\"id\":\"787950\"},\"glyph\":{\"id\":\"787952\"},\"group\":null,\"hover_glyph\":null,\"muted_glyph\":{\"id\":\"787954\"},\"nonselection_glyph\":{\"id\":\"787953\"},\"view\":{\"id\":\"787956\"}},\"id\":\"787955\",\"type\":\"GlyphRenderer\"},{\"attributes\":{\"fill_alpha\":{\"value\":0.1},\"fill_color\":{\"value\":\"#f1b6da\"},\"hatch_alpha\":{\"value\":0.1},\"hatch_color\":{\"value\":\"#f1b6da\"},\"line_alpha\":{\"value\":0.1},\"line_color\":{\"value\":\"#f1b6da\"},\"size\":{\"value\":20},\"x\":{\"field\":\"x\"},\"y\":{\"field\":\"y\"}},\"id\":\"787484\",\"type\":\"Scatter\"},{\"attributes\":{\"fill_alpha\":{\"value\":0.9},\"fill_color\":{\"value\":\"#f1b6da\"},\"hatch_alpha\":{\"value\":0.9},\"hatch_color\":{\"value\":\"#f1b6da\"},\"line_alpha\":{\"value\":0.9},\"size\":{\"value\":20},\"x\":{\"field\":\"x\"},\"y\":{\"field\":\"y\"}},\"id\":\"787762\",\"type\":\"Scatter\"},{\"attributes\":{\"fill_alpha\":{\"value\":0.9},\"fill_color\":{\"value\":\"#f1b6da\"},\"hatch_alpha\":{\"value\":0.9},\"hatch_color\":{\"value\":\"#f1b6da\"},\"line_alpha\":{\"value\":0.9},\"size\":{\"value\":20},\"x\":{\"field\":\"x\"},\"y\":{\"field\":\"y\"}},\"id\":\"787482\",\"type\":\"Scatter\"},{\"attributes\":{\"data\":{\"cell_ID\":{\"__ndarray__\":\"PwEAAGQBAAAQAQAAbQMAAJMDAAABAgAA7QEAAH0CAABBAgAAYAAAACIBAAAXAQAATwEAAP8CAACBAwAAbAMAAAsFAADPBQAAGwcAABMIAAA=\",\"dtype\":\"int32\",\"order\":\"little\",\"shape\":[20]},\"compound\":[\"INH\",\"INH\",\"INH\",\"INH\",\"INH\",\"INH\",\"INH\",\"INH\",\"INH\",\"INH\",\"INH\",\"INH\",\"INH\",\"INH\",\"INH\",\"INH\",\"INH\",\"INH\",\"INH\",\"INH\"],\"concentration\":[\"EC99\",\"EC99\",\"EC99\",\"EC99\",\"EC99\",\"EC99\",\"EC99\",\"EC99\",\"EC99\",\"EC99\",\"EC99\",\"EC99\",\"EC99\",\"EC99\",\"EC99\",\"EC99\",\"EC99\",\"EC99\",\"EC99\",\"EC99\"],\"dMtb\":{\"__ndarray__\":\"vi3Ui6Ki2j+pG/w8N0DSPxJc4HMxp9M/zRlUTkbz278XISZLHRPKPwwoCymMLuA/Q3wi1KY04D+tqBOD87PxPya6WJoAKMc/9oFoj45aEEBfB2+5x5fqv3mo2DfcVdI/rVT+nQEizb9SKxnBSffsPwnkzj8XOd4/cB3e9N6lz7/URYodqlfRP3D080+9SeY/tcWQ44z34z8TdH3oB2/Fvw==\",\"dtype\":\"float64\",\"order\":\"little\",\"shape\":[20]},\"glimpse_url_t0\":[\"https://macrohet.s3.eu-west-2.amazonaws.com/dMtb/dMtb_glimpses/glimpse_319.5.8_t0.png\",\"https://macrohet.s3.eu-west-2.amazonaws.com/dMtb/dMtb_glimpses/glimpse_356.5.8_t0.png\",\"https://macrohet.s3.eu-west-2.amazonaws.com/dMtb/dMtb_glimpses/glimpse_272.5.8_t0.png\",\"https://macrohet.s3.eu-west-2.amazonaws.com/dMtb/dMtb_glimpses/glimpse_877.5.8_t3.png\",\"https://macrohet.s3.eu-west-2.amazonaws.com/dMtb/dMtb_glimpses/glimpse_915.5.8_t4.png\",\"https://macrohet.s3.eu-west-2.amazonaws.com/dMtb/dMtb_glimpses/glimpse_513.6.8_t0.png\",\"https://macrohet.s3.eu-west-2.amazonaws.com/dMtb/dMtb_glimpses/glimpse_493.6.8_t0.png\",\"https://macrohet.s3.eu-west-2.amazonaws.com/dMtb/dMtb_glimpses/glimpse_637.6.8_t0.png\",\"https://macrohet.s3.eu-west-2.amazonaws.com/dMtb/dMtb_glimpses/glimpse_577.6.8_t0.png\",\"https://macrohet.s3.eu-west-2.amazonaws.com/dMtb/dMtb_glimpses/glimpse_96.6.8_t0.png\",\"https://macrohet.s3.eu-west-2.amazonaws.com/dMtb/dMtb_glimpses/glimpse_290.6.8_t0.png\",\"https://macrohet.s3.eu-west-2.amazonaws.com/dMtb/dMtb_glimpses/glimpse_279.6.8_t0.png\",\"https://macrohet.s3.eu-west-2.amazonaws.com/dMtb/dMtb_glimpses/glimpse_335.6.8_t0.png\",\"https://macrohet.s3.eu-west-2.amazonaws.com/dMtb/dMtb_glimpses/glimpse_767.6.8_t1.png\",\"https://macrohet.s3.eu-west-2.amazonaws.com/dMtb/dMtb_glimpses/glimpse_897.6.8_t2.png\",\"https://macrohet.s3.eu-west-2.amazonaws.com/dMtb/dMtb_glimpses/glimpse_876.6.8_t2.png\",\"https://macrohet.s3.eu-west-2.amazonaws.com/dMtb/dMtb_glimpses/glimpse_1291.6.8_t6.png\",\"https://macrohet.s3.eu-west-2.amazonaws.com/dMtb/dMtb_glimpses/glimpse_1487.6.8_t9.png\",\"https://macrohet.s3.eu-west-2.amazonaws.com/dMtb/dMtb_glimpses/glimpse_1819.6.8_t15.png\",\"https://macrohet.s3.eu-west-2.amazonaws.com/dMtb/dMtb_glimpses/glimpse_2067.6.8_t19.png\"],\"glimpse_url_tn\":[\"https://macrohet.s3.eu-west-2.amazonaws.com/dMtb/dMtb_glimpses/glimpse_319.5.8_t-1.png\",\"https://macrohet.s3.eu-west-2.amazonaws.com/dMtb/dMtb_glimpses/glimpse_356.5.8_t-1.png\",\"https://macrohet.s3.eu-west-2.amazonaws.com/dMtb/dMtb_glimpses/glimpse_272.5.8_t-1.png\",\"https://macrohet.s3.eu-west-2.amazonaws.com/dMtb/dMtb_glimpses/glimpse_877.5.8_t-1.png\",\"https://macrohet.s3.eu-west-2.amazonaws.com/dMtb/dMtb_glimpses/glimpse_915.5.8_t-1.png\",\"https://macrohet.s3.eu-west-2.amazonaws.com/dMtb/dMtb_glimpses/glimpse_513.6.8_t-1.png\",\"https://macrohet.s3.eu-west-2.amazonaws.com/dMtb/dMtb_glimpses/glimpse_493.6.8_t-1.png\",\"https://macrohet.s3.eu-west-2.amazonaws.com/dMtb/dMtb_glimpses/glimpse_637.6.8_t-1.png\",\"https://macrohet.s3.eu-west-2.amazonaws.com/dMtb/dMtb_glimpses/glimpse_577.6.8_t-1.png\",\"https://macrohet.s3.eu-west-2.amazonaws.com/dMtb/dMtb_glimpses/glimpse_96.6.8_t-1.png\",\"https://macrohet.s3.eu-west-2.amazonaws.com/dMtb/dMtb_glimpses/glimpse_290.6.8_t-1.png\",\"https://macrohet.s3.eu-west-2.amazonaws.com/dMtb/dMtb_glimpses/glimpse_279.6.8_t-1.png\",\"https://macrohet.s3.eu-west-2.amazonaws.com/dMtb/dMtb_glimpses/glimpse_335.6.8_t-1.png\",\"https://macrohet.s3.eu-west-2.amazonaws.com/dMtb/dMtb_glimpses/glimpse_767.6.8_t-1.png\",\"https://macrohet.s3.eu-west-2.amazonaws.com/dMtb/dMtb_glimpses/glimpse_897.6.8_t-1.png\",\"https://macrohet.s3.eu-west-2.amazonaws.com/dMtb/dMtb_glimpses/glimpse_876.6.8_t-1.png\",\"https://macrohet.s3.eu-west-2.amazonaws.com/dMtb/dMtb_glimpses/glimpse_1291.6.8_t-1.png\",\"https://macrohet.s3.eu-west-2.amazonaws.com/dMtb/dMtb_glimpses/glimpse_1487.6.8_t-1.png\",\"https://macrohet.s3.eu-west-2.amazonaws.com/dMtb/dMtb_glimpses/glimpse_1819.6.8_t-1.png\",\"https://macrohet.s3.eu-west-2.amazonaws.com/dMtb/dMtb_glimpses/glimpse_2067.6.8_t-1.png\"],\"strain\":[\"WT\",\"WT\",\"WT\",\"WT\",\"WT\",\"WT\",\"WT\",\"WT\",\"WT\",\"WT\",\"WT\",\"WT\",\"WT\",\"WT\",\"WT\",\"WT\",\"WT\",\"WT\",\"WT\",\"WT\"],\"tech_rep\":[1,1,1,1,1,2,2,2,2,2,2,2,2,2,2,2,2,2,2,2],\"x\":{\"__ndarray__\":\"vi3Ui6Ki2j+pG/w8N0DSPxJc4HMxp9M/zRlUTkbz278XISZLHRPKPwwoCymMLuA/Q3wi1KY04D+tqBOD87PxPya6WJoAKMc/9oFoj45aEEBfB2+5x5fqv3mo2DfcVdI/rVT+nQEizb9SKxnBSffsPwnkzj8XOd4/cB3e9N6lz7/URYodqlfRP3D080+9SeY/tcWQ44z34z8TdH3oB2/Fvw==\",\"dtype\":\"float64\",\"order\":\"little\",\"shape\":[20]},\"y\":{\"__ndarray__\":\"Qgkzbf/K7j9qiCr8Gd7uP8Pvplt2iO8/pU3VPbK57z9Lr83GSszvPzgyj/zBwPQ/LNfbZirE9D931m670Nz0Pw5ORL+2/vQ/WMaGbvYH9T/XMa64OCr1P8he7/54L/U/Q+GzdXAw9T/S4SGMn0b1P8vydRn+U/U/FZD2P8Ba9T9ZMPFHUWf1P4+n5QeucvU/og3ABkSI9T858Gq5M5P1Pw==\",\"dtype\":\"float64\",\"order\":\"little\",\"shape\":[20]}},\"name\":\"WT, INH, EC99\",\"selected\":{\"id\":\"788068\"},\"selection_policy\":{\"id\":\"788067\"}},\"id\":\"787709\",\"type\":\"ColumnDataSource\"},{\"attributes\":{\"overlay\":{\"id\":\"787604\"}},\"id\":\"787601\",\"type\":\"BoxZoomTool\"},{\"attributes\":{\"fill_alpha\":0.1,\"fill_color\":\"#f1b6da\",\"hatch_alpha\":{\"value\":0.1},\"hatch_color\":{\"value\":\"#f1b6da\"},\"x\":{\"field\":\"x\"},\"y1\":{\"value\":0},\"y2\":{\"field\":\"kde_values\"}},\"id\":\"787720\",\"type\":\"VArea\"},{\"attributes\":{},\"id\":\"787591\",\"type\":\"BasicTicker\"},{\"attributes\":{\"source\":{\"id\":\"787669\"}},\"id\":\"787675\",\"type\":\"CDSView\"},{\"attributes\":{\"fill_alpha\":{\"value\":0.1},\"fill_color\":{\"value\":\"#f1b6da\"},\"hatch_alpha\":{\"value\":0.1},\"hatch_color\":{\"value\":\"#f1b6da\"},\"line_alpha\":{\"value\":0.1},\"size\":{\"value\":20},\"x\":{\"field\":\"x\"},\"y\":{\"field\":\"y\"}},\"id\":\"787483\",\"type\":\"Scatter\"},{\"attributes\":{},\"id\":\"787577\",\"type\":\"BasicTickFormatter\"},{\"attributes\":{\"source\":{\"id\":\"787908\"}},\"id\":\"787914\",\"type\":\"CDSView\"},{\"attributes\":{\"line_color\":\"#d02c91\",\"line_width\":3,\"x\":{\"field\":\"x\"},\"y\":{\"field\":\"kde_values\"}},\"id\":\"787793\",\"type\":\"Line\"},{\"attributes\":{},\"id\":\"787922\",\"type\":\"UnionRenderers\"},{\"attributes\":{\"axis\":{\"id\":\"787590\"},\"coordinates\":null,\"group\":null,\"ticker\":null},\"id\":\"787593\",\"type\":\"Grid\"},{\"attributes\":{\"coordinates\":null,\"data_source\":{\"id\":\"787760\"},\"glyph\":{\"id\":\"787762\"},\"group\":null,\"hover_glyph\":null,\"muted_glyph\":{\"id\":\"787764\"},\"nonselection_glyph\":{\"id\":\"787763\"},\"view\":{\"id\":\"787766\"}},\"id\":\"787765\",\"type\":\"GlyphRenderer\"},{\"attributes\":{},\"id\":\"787687\",\"type\":\"Selection\"},{\"attributes\":{},\"id\":\"787598\",\"type\":\"CrosshairTool\"},{\"attributes\":{\"source\":{\"id\":\"787760\"}},\"id\":\"787766\",\"type\":\"CDSView\"},{\"attributes\":{\"axis_label\":\"\\u0394Mtb \\n(fold-change relative to area)\",\"coordinates\":null,\"formatter\":{\"id\":\"787903\"},\"group\":null,\"major_label_policy\":{\"id\":\"787904\"},\"ticker\":{\"id\":\"787874\"}},\"id\":\"787873\",\"type\":\"LinearAxis\"},{\"attributes\":{\"fill_alpha\":{\"value\":0.1},\"fill_color\":{\"value\":\"#f1b6da\"},\"hatch_alpha\":{\"value\":0.1},\"hatch_color\":{\"value\":\"#f1b6da\"},\"line_alpha\":{\"value\":0.1},\"line_color\":{\"value\":\"#f1b6da\"},\"size\":{\"value\":20},\"x\":{\"field\":\"x\"},\"y\":{\"field\":\"y\"}},\"id\":\"787764\",\"type\":\"Scatter\"},{\"attributes\":{},\"id\":\"787686\",\"type\":\"UnionRenderers\"},{\"attributes\":{},\"id\":\"787602\",\"type\":\"ResetTool\"},{\"attributes\":{\"active_scroll\":{\"id\":\"787603\"},\"tools\":[{\"id\":\"787598\"},{\"id\":\"787599\"},{\"id\":\"787600\"},{\"id\":\"787601\"},{\"id\":\"787602\"},{\"id\":\"787603\"},{\"id\":\"787349\"}]},\"id\":\"787605\",\"type\":\"Toolbar\"},{\"attributes\":{\"fill_alpha\":0.1,\"fill_color\":\"#d02c91\",\"hatch_alpha\":{\"value\":0.1},\"x\":{\"field\":\"x\"},\"y1\":{\"value\":0},\"y2\":{\"field\":\"kde_values\"}},\"id\":\"787490\",\"type\":\"VArea\"},{\"attributes\":{\"data\":{\"cell_ID\":{\"__ndarray__\":\"QgEAACUAAACiAwAAlggAANsBAAAHAgAAGAAAAL4AAACKAgAAMQMAALIEAAA=\",\"dtype\":\"int32\",\"order\":\"little\",\"shape\":[11]},\"compound\":[\"BDQ\",\"BDQ\",\"BDQ\",\"BDQ\",\"BDQ\",\"BDQ\",\"BDQ\",\"BDQ\",\"BDQ\",\"BDQ\",\"BDQ\"],\"concentration\":[\"EC99\",\"EC99\",\"EC99\",\"EC99\",\"EC99\",\"EC99\",\"EC99\",\"EC99\",\"EC99\",\"EC99\",\"EC99\"],\"dMtb\":{\"__ndarray__\":\"u+TbNVsmwT+IL5TIo4TDP4H2jglRANy/xj4wJaJj0L/DJYsp3HwJwA8JOwcUi8k/GzSme9Dawj8+LaPDiZbHP/OFP4vaOte/18IENtjJ1j/oRQfCk7jqvw==\",\"dtype\":\"float64\",\"order\":\"little\",\"shape\":[11]},\"glimpse_url_t0\":[\"https://macrohet.s3.eu-west-2.amazonaws.com/dMtb/dMtb_glimpses/glimpse_322.5.9_t0.png\",\"https://macrohet.s3.eu-west-2.amazonaws.com/dMtb/dMtb_glimpses/glimpse_37.5.9_t0.png\",\"https://macrohet.s3.eu-west-2.amazonaws.com/dMtb/dMtb_glimpses/glimpse_930.5.9_t4.png\",\"https://macrohet.s3.eu-west-2.amazonaws.com/dMtb/dMtb_glimpses/glimpse_2198.5.9_t26.png\",\"https://macrohet.s3.eu-west-2.amazonaws.com/dMtb/dMtb_glimpses/glimpse_475.6.9_t0.png\",\"https://macrohet.s3.eu-west-2.amazonaws.com/dMtb/dMtb_glimpses/glimpse_519.6.9_t0.png\",\"https://macrohet.s3.eu-west-2.amazonaws.com/dMtb/dMtb_glimpses/glimpse_24.6.9_t0.png\",\"https://macrohet.s3.eu-west-2.amazonaws.com/dMtb/dMtb_glimpses/glimpse_190.6.9_t0.png\",\"https://macrohet.s3.eu-west-2.amazonaws.com/dMtb/dMtb_glimpses/glimpse_650.6.9_t1.png\",\"https://macrohet.s3.eu-west-2.amazonaws.com/dMtb/dMtb_glimpses/glimpse_817.6.9_t2.png\",\"https://macrohet.s3.eu-west-2.amazonaws.com/dMtb/dMtb_glimpses/glimpse_1202.6.9_t8.png\"],\"glimpse_url_tn\":[\"https://macrohet.s3.eu-west-2.amazonaws.com/dMtb/dMtb_glimpses/glimpse_322.5.9_t-1.png\",\"https://macrohet.s3.eu-west-2.amazonaws.com/dMtb/dMtb_glimpses/glimpse_37.5.9_t-1.png\",\"https://macrohet.s3.eu-west-2.amazonaws.com/dMtb/dMtb_glimpses/glimpse_930.5.9_t-1.png\",\"https://macrohet.s3.eu-west-2.amazonaws.com/dMtb/dMtb_glimpses/glimpse_2198.5.9_t-1.png\",\"https://macrohet.s3.eu-west-2.amazonaws.com/dMtb/dMtb_glimpses/glimpse_475.6.9_t-1.png\",\"https://macrohet.s3.eu-west-2.amazonaws.com/dMtb/dMtb_glimpses/glimpse_519.6.9_t-1.png\",\"https://macrohet.s3.eu-west-2.amazonaws.com/dMtb/dMtb_glimpses/glimpse_24.6.9_t-1.png\",\"https://macrohet.s3.eu-west-2.amazonaws.com/dMtb/dMtb_glimpses/glimpse_190.6.9_t-1.png\",\"https://macrohet.s3.eu-west-2.amazonaws.com/dMtb/dMtb_glimpses/glimpse_650.6.9_t-1.png\",\"https://macrohet.s3.eu-west-2.amazonaws.com/dMtb/dMtb_glimpses/glimpse_817.6.9_t-1.png\",\"https://macrohet.s3.eu-west-2.amazonaws.com/dMtb/dMtb_glimpses/glimpse_1202.6.9_t-1.png\"],\"strain\":[\"WT\",\"WT\",\"WT\",\"WT\",\"WT\",\"WT\",\"WT\",\"WT\",\"WT\",\"WT\",\"WT\"],\"tech_rep\":[1,1,1,1,2,2,2,2,2,2,2],\"x\":{\"__ndarray__\":\"u+TbNVsmwT+IL5TIo4TDP4H2jglRANy/xj4wJaJj0L/DJYsp3HwJwA8JOwcUi8k/GzSme9Dawj8+LaPDiZbHP/OFP4vaOte/18IENtjJ1j/oRQfCk7jqvw==\",\"dtype\":\"float64\",\"order\":\"little\",\"shape\":[11]},\"y\":{\"__ndarray__\":\"JXfYRGYu8D9dwTbiyW7wP4dOz7uxoPA/l6sfm+TH8D/H9lrQe+P1Px3KUBVT6fU/foy5awn59T9+5UF6ihz2PxcSMLq8OfY/1Lt4P24/9j/zrKQV31D2Pw==\",\"dtype\":\"float64\",\"order\":\"little\",\"shape\":[11]}},\"name\":\"WT, BDQ, EC99\",\"selected\":{\"id\":\"788066\"},\"selection_policy\":{\"id\":\"788065\"}},\"id\":\"787662\",\"type\":\"ColumnDataSource\"},{\"attributes\":{\"bottom_units\":\"screen\",\"coordinates\":null,\"fill_alpha\":0.5,\"fill_color\":\"lightgrey\",\"group\":null,\"left_units\":\"screen\",\"level\":\"overlay\",\"line_alpha\":1.0,\"line_color\":\"black\",\"line_dash\":[4,4],\"line_width\":2,\"right_units\":\"screen\",\"syncable\":false,\"top_units\":\"screen\"},\"id\":\"787604\",\"type\":\"BoxAnnotation\"},{\"attributes\":{},\"id\":\"787603\",\"type\":\"WheelZoomTool\"},{\"attributes\":{\"coordinates\":null,\"data_source\":{\"id\":\"787662\"},\"glyph\":{\"id\":\"787664\"},\"group\":null,\"hover_glyph\":null,\"muted_glyph\":{\"id\":\"787666\"},\"nonselection_glyph\":{\"id\":\"787665\"},\"view\":{\"id\":\"787668\"}},\"id\":\"787667\",\"type\":\"GlyphRenderer\"},{\"attributes\":{\"below\":[{\"id\":\"787833\"}],\"center\":[{\"id\":\"787836\"},{\"id\":\"787840\"},{\"id\":\"787925\"}],\"height\":400,\"left\":[{\"id\":\"787837\"}],\"renderers\":[{\"id\":\"787913\"},{\"id\":\"787931\"},{\"id\":\"787955\"},{\"id\":\"787974\"}],\"title\":{\"id\":\"787823\"},\"toolbar\":{\"id\":\"787848\"},\"toolbar_location\":null,\"width\":500,\"x_range\":{\"id\":\"787864\"},\"x_scale\":{\"id\":\"787829\"},\"y_range\":{\"id\":\"787827\"},\"y_scale\":{\"id\":\"787831\"}},\"id\":\"787822\",\"subtype\":\"Figure\",\"type\":\"Plot\"},{\"attributes\":{\"line_color\":\"#a6d96a\",\"line_width\":3,\"x\":{\"field\":\"x\"},\"y\":{\"field\":\"kde_values\"}},\"id\":\"787691\",\"type\":\"Line\"},{\"attributes\":{\"fill_alpha\":{\"value\":0.1},\"fill_color\":{\"value\":\"#1a9641\"},\"hatch_alpha\":{\"value\":0.1},\"hatch_color\":{\"value\":\"#1a9641\"},\"line_alpha\":{\"value\":0.1},\"line_color\":{\"value\":\"#1a9641\"},\"size\":{\"value\":20},\"x\":{\"field\":\"x\"},\"y\":{\"field\":\"y\"}},\"id\":\"787666\",\"type\":\"Scatter\"},{\"attributes\":{\"fill_alpha\":{\"value\":0.1},\"fill_color\":{\"value\":\"#a6d96a\"},\"hatch_alpha\":{\"value\":0.1},\"hatch_color\":{\"value\":\"#a6d96a\"},\"line_alpha\":{\"value\":0.1},\"line_color\":{\"value\":\"#a6d96a\"},\"size\":{\"value\":20},\"x\":{\"field\":\"x\"},\"y\":{\"field\":\"y\"}},\"id\":\"787713\",\"type\":\"Scatter\"},{\"attributes\":{\"fill_alpha\":{\"value\":0.1},\"fill_color\":{\"value\":\"#1a9641\"},\"hatch_alpha\":{\"value\":0.1},\"hatch_color\":{\"value\":\"#1a9641\"},\"line_alpha\":{\"value\":0.1},\"size\":{\"value\":20},\"x\":{\"field\":\"x\"},\"y\":{\"field\":\"y\"}},\"id\":\"787665\",\"type\":\"Scatter\"},{\"attributes\":{},\"id\":\"787586\",\"type\":\"LinearScale\"},{\"attributes\":{\"label\":{\"value\":\"WT, INH, EC99\"},\"renderers\":[{\"id\":\"787674\"},{\"id\":\"787694\"}]},\"id\":\"787689\",\"type\":\"LegendItem\"},{\"attributes\":{},\"id\":\"787600\",\"type\":\"PanTool\"},{\"attributes\":{},\"id\":\"787904\",\"type\":\"AllLabels\"},{\"attributes\":{\"line_color\":\"#d02c91\",\"line_dash\":[6],\"x\":{\"field\":\"x\"},\"y\":{\"field\":\"kde_values\"}},\"id\":\"787928\",\"type\":\"Line\"},{\"attributes\":{\"end\":0.4,\"start\":-0.4},\"id\":\"787864\",\"type\":\"Range1d\"},{\"attributes\":{\"children\":[[{\"id\":\"787264\"},0,0],[{\"id\":\"787540\"},0,1],[{\"id\":\"787822\"},0,2],[{\"id\":\"787307\"},1,0],[{\"id\":\"787582\"},1,1],[{\"id\":\"787865\"},1,2]]},\"id\":\"788087\",\"type\":\"GridBox\"},{\"attributes\":{\"coordinates\":null,\"data_source\":{\"id\":\"787480\"},\"glyph\":{\"id\":\"787482\"},\"group\":null,\"hover_glyph\":null,\"muted_glyph\":{\"id\":\"787484\"},\"nonselection_glyph\":{\"id\":\"787483\"},\"view\":{\"id\":\"787486\"}},\"id\":\"787485\",\"type\":\"GlyphRenderer\"},{\"attributes\":{},\"id\":\"787543\",\"type\":\"DataRange1d\"},{\"attributes\":{\"axis_label\":\"Outlier browser \\n(1 S.D. from mean)\",\"coordinates\":null,\"formatter\":{\"id\":\"787614\"},\"group\":null,\"major_label_policy\":{\"id\":\"787618\"},\"ticker\":{\"id\":\"787612\"}},\"id\":\"787594\",\"type\":\"LinearAxis\"},{\"attributes\":{\"axis\":{\"id\":\"787594\"},\"coordinates\":null,\"dimension\":1,\"group\":null,\"ticker\":null},\"id\":\"787597\",\"type\":\"Grid\"},{\"attributes\":{\"source\":{\"id\":\"787662\"}},\"id\":\"787668\",\"type\":\"CDSView\"},{\"attributes\":{\"coordinates\":null,\"data_source\":{\"id\":\"787709\"},\"glyph\":{\"id\":\"787711\"},\"group\":null,\"hover_glyph\":null,\"muted_glyph\":{\"id\":\"787713\"},\"nonselection_glyph\":{\"id\":\"787712\"},\"view\":{\"id\":\"787715\"}},\"id\":\"787714\",\"type\":\"GlyphRenderer\"},{\"attributes\":{\"data\":{\"cell_ID\":{\"__ndarray__\":\"UgEAAGgBAAANAgAAFwIAAKAAAAArAAAAMQEAALAAAACyAAAAlwIAADcDAAAWAwAAiQMAAHwDAAC9AwAASwUAAFUFAAAmBQAAGwcAANAHAAAJCAAAKAgAAHAIAABfAQAARQEAAB4CAABSAAAAVwAAAI8AAAAcAAAAOgEAAD4BAADoAAAAfwIAAH4CAACpAgAApAIAAF4EAAAbBQAACwgAAA==\",\"dtype\":\"int32\",\"order\":\"little\",\"shape\":[40]},\"compound\":[\"RIF\",\"RIF\",\"RIF\",\"RIF\",\"RIF\",\"RIF\",\"RIF\",\"RIF\",\"RIF\",\"RIF\",\"RIF\",\"RIF\",\"RIF\",\"RIF\",\"RIF\",\"RIF\",\"RIF\",\"RIF\",\"RIF\",\"RIF\",\"RIF\",\"RIF\",\"RIF\",\"RIF\",\"RIF\",\"RIF\",\"RIF\",\"RIF\",\"RIF\",\"RIF\",\"RIF\",\"RIF\",\"RIF\",\"RIF\",\"RIF\",\"RIF\",\"RIF\",\"RIF\",\"RIF\",\"RIF\"],\"concentration\":[\"EC50\",\"EC50\",\"EC50\",\"EC50\",\"EC50\",\"EC50\",\"EC50\",\"EC50\",\"EC50\",\"EC50\",\"EC50\",\"EC50\",\"EC50\",\"EC50\",\"EC50\",\"EC50\",\"EC50\",\"EC50\",\"EC50\",\"EC50\",\"EC50\",\"EC50\",\"EC50\",\"EC50\",\"EC50\",\"EC50\",\"EC50\",\"EC50\",\"EC50\",\"EC50\",\"EC50\",\"EC50\",\"EC50\",\"EC50\",\"EC50\",\"EC50\",\"EC50\",\"EC50\",\"EC50\",\"EC50\"],\"dMtb\":{\"__ndarray__\":\"54vDpAsOwb9u/6c+CnerP4J4q8V8CbW/eTNv3s3Iqj9sanvcaBPWv8eDJt/8va8/Xm/Cjvoe5j8QT9z45OS2P5mxpm8xq7I/IwtkHdDdwD+EBw9sBBeuP2Zug64qEas/Uz7SGws70L/xhWQExR29Pz9XJal0fLg/Rynch+ULwD9vChSZYKOxP83mzhS+66w/oX+ODjtlsL+6pbRhlJS9Pye1LChjLeA/YqjFzZJJrj9zZv9ylAGwP7AVBAVGgrQ/5UUtiplIvT/sQZc+6Yi/v8h/8pIU+9A/dNG2OrNXpb/621Ap7mGyP4MiU/p1tdU/VtB+KqSatz88od6e1tqsP4JDEZFsxMA/UwO7/5gArj9QtJWWUCHhP5zLf14xBsC/VnT1tIkYzD/nE8sSrJ+uv917nl+PcLI/ZdXDcI11sj8=\",\"dtype\":\"float64\",\"order\":\"little\",\"shape\":[40]},\"glimpse_url_t0\":[\"https://macrohet.s3.eu-west-2.amazonaws.com/dMtb/dMtb_glimpses/glimpse_338.3.7_t0.png\",\"https://macrohet.s3.eu-west-2.amazonaws.com/dMtb/dMtb_glimpses/glimpse_360.3.7_t0.png\",\"https://macrohet.s3.eu-west-2.amazonaws.com/dMtb/dMtb_glimpses/glimpse_525.3.7_t0.png\",\"https://macrohet.s3.eu-west-2.amazonaws.com/dMtb/dMtb_glimpses/glimpse_535.3.7_t0.png\",\"https://macrohet.s3.eu-west-2.amazonaws.com/dMtb/dMtb_glimpses/glimpse_160.3.7_t0.png\",\"https://macrohet.s3.eu-west-2.amazonaws.com/dMtb/dMtb_glimpses/glimpse_43.3.7_t0.png\",\"https://macrohet.s3.eu-west-2.amazonaws.com/dMtb/dMtb_glimpses/glimpse_305.3.7_t0.png\",\"https://macrohet.s3.eu-west-2.amazonaws.com/dMtb/dMtb_glimpses/glimpse_176.3.7_t0.png\",\"https://macrohet.s3.eu-west-2.amazonaws.com/dMtb/dMtb_glimpses/glimpse_178.3.7_t0.png\",\"https://macrohet.s3.eu-west-2.amazonaws.com/dMtb/dMtb_glimpses/glimpse_663.3.7_t1.png\",\"https://macrohet.s3.eu-west-2.amazonaws.com/dMtb/dMtb_glimpses/glimpse_823.3.7_t2.png\",\"https://macrohet.s3.eu-west-2.amazonaws.com/dMtb/dMtb_glimpses/glimpse_790.3.7_t2.png\",\"https://macrohet.s3.eu-west-2.amazonaws.com/dMtb/dMtb_glimpses/glimpse_905.3.7_t3.png\",\"https://macrohet.s3.eu-west-2.amazonaws.com/dMtb/dMtb_glimpses/glimpse_892.3.7_t3.png\",\"https://macrohet.s3.eu-west-2.amazonaws.com/dMtb/dMtb_glimpses/glimpse_957.3.7_t4.png\",\"https://macrohet.s3.eu-west-2.amazonaws.com/dMtb/dMtb_glimpses/glimpse_1355.3.7_t9.png\",\"https://macrohet.s3.eu-west-2.amazonaws.com/dMtb/dMtb_glimpses/glimpse_1365.3.7_t9.png\",\"https://macrohet.s3.eu-west-2.amazonaws.com/dMtb/dMtb_glimpses/glimpse_1318.3.7_t9.png\",\"https://macrohet.s3.eu-west-2.amazonaws.com/dMtb/dMtb_glimpses/glimpse_1819.3.7_t17.png\",\"https://macrohet.s3.eu-west-2.amazonaws.com/dMtb/dMtb_glimpses/glimpse_2000.3.7_t20.png\",\"https://macrohet.s3.eu-west-2.amazonaws.com/dMtb/dMtb_glimpses/glimpse_2057.3.7_t21.png\",\"https://macrohet.s3.eu-west-2.amazonaws.com/dMtb/dMtb_glimpses/glimpse_2088.3.7_t22.png\",\"https://macrohet.s3.eu-west-2.amazonaws.com/dMtb/dMtb_glimpses/glimpse_2160.3.7_t23.png\",\"https://macrohet.s3.eu-west-2.amazonaws.com/dMtb/dMtb_glimpses/glimpse_351.4.7_t0.png\",\"https://macrohet.s3.eu-west-2.amazonaws.com/dMtb/dMtb_glimpses/glimpse_325.4.7_t0.png\",\"https://macrohet.s3.eu-west-2.amazonaws.com/dMtb/dMtb_glimpses/glimpse_542.4.7_t0.png\",\"https://macrohet.s3.eu-west-2.amazonaws.com/dMtb/dMtb_glimpses/glimpse_82.4.7_t0.png\",\"https://macrohet.s3.eu-west-2.amazonaws.com/dMtb/dMtb_glimpses/glimpse_87.4.7_t0.png\",\"https://macrohet.s3.eu-west-2.amazonaws.com/dMtb/dMtb_glimpses/glimpse_143.4.7_t0.png\",\"https://macrohet.s3.eu-west-2.amazonaws.com/dMtb/dMtb_glimpses/glimpse_28.4.7_t0.png\",\"https://macrohet.s3.eu-west-2.amazonaws.com/dMtb/dMtb_glimpses/glimpse_314.4.7_t0.png\",\"https://macrohet.s3.eu-west-2.amazonaws.com/dMtb/dMtb_glimpses/glimpse_318.4.7_t0.png\",\"https://macrohet.s3.eu-west-2.amazonaws.com/dMtb/dMtb_glimpses/glimpse_232.4.7_t0.png\",\"https://macrohet.s3.eu-west-2.amazonaws.com/dMtb/dMtb_glimpses/glimpse_639.4.7_t1.png\",\"https://macrohet.s3.eu-west-2.amazonaws.com/dMtb/dMtb_glimpses/glimpse_638.4.7_t1.png\",\"https://macrohet.s3.eu-west-2.amazonaws.com/dMtb/dMtb_glimpses/glimpse_681.4.7_t1.png\",\"https://macrohet.s3.eu-west-2.amazonaws.com/dMtb/dMtb_glimpses/glimpse_676.4.7_t1.png\",\"https://macrohet.s3.eu-west-2.amazonaws.com/dMtb/dMtb_glimpses/glimpse_1118.4.7_t7.png\",\"https://macrohet.s3.eu-west-2.amazonaws.com/dMtb/dMtb_glimpses/glimpse_1307.4.7_t11.png\",\"https://macrohet.s3.eu-west-2.amazonaws.com/dMtb/dMtb_glimpses/glimpse_2059.4.7_t26.png\"],\"glimpse_url_tn\":[\"https://macrohet.s3.eu-west-2.amazonaws.com/dMtb/dMtb_glimpses/glimpse_338.3.7_t-1.png\",\"https://macrohet.s3.eu-west-2.amazonaws.com/dMtb/dMtb_glimpses/glimpse_360.3.7_t-1.png\",\"https://macrohet.s3.eu-west-2.amazonaws.com/dMtb/dMtb_glimpses/glimpse_525.3.7_t-1.png\",\"https://macrohet.s3.eu-west-2.amazonaws.com/dMtb/dMtb_glimpses/glimpse_535.3.7_t-1.png\",\"https://macrohet.s3.eu-west-2.amazonaws.com/dMtb/dMtb_glimpses/glimpse_160.3.7_t-1.png\",\"https://macrohet.s3.eu-west-2.amazonaws.com/dMtb/dMtb_glimpses/glimpse_43.3.7_t-1.png\",\"https://macrohet.s3.eu-west-2.amazonaws.com/dMtb/dMtb_glimpses/glimpse_305.3.7_t-1.png\",\"https://macrohet.s3.eu-west-2.amazonaws.com/dMtb/dMtb_glimpses/glimpse_176.3.7_t-1.png\",\"https://macrohet.s3.eu-west-2.amazonaws.com/dMtb/dMtb_glimpses/glimpse_178.3.7_t-1.png\",\"https://macrohet.s3.eu-west-2.amazonaws.com/dMtb/dMtb_glimpses/glimpse_663.3.7_t-1.png\",\"https://macrohet.s3.eu-west-2.amazonaws.com/dMtb/dMtb_glimpses/glimpse_823.3.7_t-1.png\",\"https://macrohet.s3.eu-west-2.amazonaws.com/dMtb/dMtb_glimpses/glimpse_790.3.7_t-1.png\",\"https://macrohet.s3.eu-west-2.amazonaws.com/dMtb/dMtb_glimpses/glimpse_905.3.7_t-1.png\",\"https://macrohet.s3.eu-west-2.amazonaws.com/dMtb/dMtb_glimpses/glimpse_892.3.7_t-1.png\",\"https://macrohet.s3.eu-west-2.amazonaws.com/dMtb/dMtb_glimpses/glimpse_957.3.7_t-1.png\",\"https://macrohet.s3.eu-west-2.amazonaws.com/dMtb/dMtb_glimpses/glimpse_1355.3.7_t-1.png\",\"https://macrohet.s3.eu-west-2.amazonaws.com/dMtb/dMtb_glimpses/glimpse_1365.3.7_t-1.png\",\"https://macrohet.s3.eu-west-2.amazonaws.com/dMtb/dMtb_glimpses/glimpse_1318.3.7_t-1.png\",\"https://macrohet.s3.eu-west-2.amazonaws.com/dMtb/dMtb_glimpses/glimpse_1819.3.7_t-1.png\",\"https://macrohet.s3.eu-west-2.amazonaws.com/dMtb/dMtb_glimpses/glimpse_2000.3.7_t-1.png\",\"https://macrohet.s3.eu-west-2.amazonaws.com/dMtb/dMtb_glimpses/glimpse_2057.3.7_t-1.png\",\"https://macrohet.s3.eu-west-2.amazonaws.com/dMtb/dMtb_glimpses/glimpse_2088.3.7_t-1.png\",\"https://macrohet.s3.eu-west-2.amazonaws.com/dMtb/dMtb_glimpses/glimpse_2160.3.7_t-1.png\",\"https://macrohet.s3.eu-west-2.amazonaws.com/dMtb/dMtb_glimpses/glimpse_351.4.7_t-1.png\",\"https://macrohet.s3.eu-west-2.amazonaws.com/dMtb/dMtb_glimpses/glimpse_325.4.7_t-1.png\",\"https://macrohet.s3.eu-west-2.amazonaws.com/dMtb/dMtb_glimpses/glimpse_542.4.7_t-1.png\",\"https://macrohet.s3.eu-west-2.amazonaws.com/dMtb/dMtb_glimpses/glimpse_82.4.7_t-1.png\",\"https://macrohet.s3.eu-west-2.amazonaws.com/dMtb/dMtb_glimpses/glimpse_87.4.7_t-1.png\",\"https://macrohet.s3.eu-west-2.amazonaws.com/dMtb/dMtb_glimpses/glimpse_143.4.7_t-1.png\",\"https://macrohet.s3.eu-west-2.amazonaws.com/dMtb/dMtb_glimpses/glimpse_28.4.7_t-1.png\",\"https://macrohet.s3.eu-west-2.amazonaws.com/dMtb/dMtb_glimpses/glimpse_314.4.7_t-1.png\",\"https://macrohet.s3.eu-west-2.amazonaws.com/dMtb/dMtb_glimpses/glimpse_318.4.7_t-1.png\",\"https://macrohet.s3.eu-west-2.amazonaws.com/dMtb/dMtb_glimpses/glimpse_232.4.7_t-1.png\",\"https://macrohet.s3.eu-west-2.amazonaws.com/dMtb/dMtb_glimpses/glimpse_639.4.7_t-1.png\",\"https://macrohet.s3.eu-west-2.amazonaws.com/dMtb/dMtb_glimpses/glimpse_638.4.7_t-1.png\",\"https://macrohet.s3.eu-west-2.amazonaws.com/dMtb/dMtb_glimpses/glimpse_681.4.7_t-1.png\",\"https://macrohet.s3.eu-west-2.amazonaws.com/dMtb/dMtb_glimpses/glimpse_676.4.7_t-1.png\",\"https://macrohet.s3.eu-west-2.amazonaws.com/dMtb/dMtb_glimpses/glimpse_1118.4.7_t-1.png\",\"https://macrohet.s3.eu-west-2.amazonaws.com/dMtb/dMtb_glimpses/glimpse_1307.4.7_t-1.png\",\"https://macrohet.s3.eu-west-2.amazonaws.com/dMtb/dMtb_glimpses/glimpse_2059.4.7_t-1.png\"],\"strain\":[\"WT\",\"WT\",\"WT\",\"WT\",\"WT\",\"WT\",\"WT\",\"WT\",\"WT\",\"WT\",\"WT\",\"WT\",\"WT\",\"WT\",\"WT\",\"WT\",\"WT\",\"WT\",\"WT\",\"WT\",\"WT\",\"WT\",\"WT\",\"WT\",\"WT\",\"WT\",\"WT\",\"WT\",\"WT\",\"WT\",\"WT\",\"WT\",\"WT\",\"WT\",\"WT\",\"WT\",\"WT\",\"WT\",\"WT\",\"WT\"],\"tech_rep\":[1,1,1,1,1,1,1,1,1,1,1,1,1,1,1,1,1,1,1,1,1,1,1,2,2,2,2,2,2,2,2,2,2,2,2,2,2,2,2,2],\"x\":{\"__ndarray__\":\"54vDpAsOwb9u/6c+CnerP4J4q8V8CbW/eTNv3s3Iqj9sanvcaBPWv8eDJt/8va8/Xm/Cjvoe5j8QT9z45OS2P5mxpm8xq7I/IwtkHdDdwD+EBw9sBBeuP2Zug64qEas/Uz7SGws70L/xhWQExR29Pz9XJal0fLg/Rynch+ULwD9vChSZYKOxP83mzhS+66w/oX+ODjtlsL+6pbRhlJS9Pye1LChjLeA/YqjFzZJJrj9zZv9ylAGwP7AVBAVGgrQ/5UUtiplIvT/sQZc+6Yi/v8h/8pIU+9A/dNG2OrNXpb/621Ap7mGyP4MiU/p1tdU/VtB+KqSatz88od6e1tqsP4JDEZFsxMA/UwO7/5gArj9QtJWWUCHhP5zLf14xBsC/VnT1tIkYzD/nE8sSrJ+uv917nl+PcLI/ZdXDcI11sj8=\",\"dtype\":\"float64\",\"order\":\"little\",\"shape\":[40]},\"y\":{\"__ndarray__\":\"TZ8dcF0xxz9hTzv8NVnHP4p1qnzPSMg/pu81BMdlyD9qNLkYA+vIPzG2EOSghMk/iujX1k//yT+fqkIDsWzKP5rqyfyjb8o/eEfGavP/yj+8kuS5vg/LP6hxb37DRMs/PuqvV1hwyz/erwJ8t3nLP5pDUgslk8s/fxKfO8H+yz+YT1YMVwfMPyxmhLcHIcw/jGoRUUzezD+RCfg1kgTNP8hD393KEs0/C7Q7pBggzT/+1eO+1TrNPylZTkLpC+I/3soSnWUW4j91zeSbbW7iP2FT51Hxf+I/mxw+6USC4j9wQEtXsI3iP5c6yOvBpOI/0xOWeEDZ4j9YPPVIg9viP8RcUrXdBOM/umWH+Ict4z/ggmxZvi7jP/DDQUKUL+M/wavlzkww4z93LLZJRWPjP3gI46dxb+M/teGwNPCj4z8=\",\"dtype\":\"float64\",\"order\":\"little\",\"shape\":[40]}},\"name\":\"WT, RIF, EC50\",\"selected\":{\"id\":\"788056\"},\"selection_policy\":{\"id\":\"788055\"}},\"id\":\"787533\",\"type\":\"ColumnDataSource\"},{\"attributes\":{\"fill_alpha\":{\"value\":0.9},\"fill_color\":{\"value\":\"#1a9641\"},\"hatch_alpha\":{\"value\":0.9},\"hatch_color\":{\"value\":\"#1a9641\"},\"line_alpha\":{\"value\":0.9},\"size\":{\"value\":20},\"x\":{\"field\":\"x\"},\"y\":{\"field\":\"y\"}},\"id\":\"787664\",\"type\":\"Scatter\"},{\"attributes\":{},\"id\":\"787578\",\"type\":\"AllLabels\"},{\"attributes\":{},\"id\":\"787827\",\"type\":\"DataRange1d\"},{\"attributes\":{\"axis\":{\"id\":\"787833\"},\"coordinates\":null,\"group\":null,\"ticker\":null},\"id\":\"787836\",\"type\":\"Grid\"},{\"attributes\":{},\"id\":\"787788\",\"type\":\"UnionRenderers\"},{\"attributes\":{\"overlay\":{\"id\":\"787847\"}},\"id\":\"787844\",\"type\":\"BoxZoomTool\"},{\"attributes\":{\"fill_alpha\":0.6,\"fill_color\":\"#d02c91\",\"hatch_alpha\":{\"value\":0.6},\"x\":{\"field\":\"x\"},\"y1\":{\"value\":0},\"y2\":{\"field\":\"kde_values\"}},\"id\":\"787489\",\"type\":\"VArea\"},{\"attributes\":{},\"id\":\"787846\",\"type\":\"WheelZoomTool\"},{\"attributes\":{},\"id\":\"788067\",\"type\":\"UnionRenderers\"},{\"attributes\":{\"axis\":{\"id\":\"787837\"},\"coordinates\":null,\"dimension\":1,\"group\":null,\"ticker\":null},\"id\":\"787840\",\"type\":\"Grid\"},{\"attributes\":{},\"id\":\"788070\",\"type\":\"Selection\"},{\"attributes\":{},\"id\":\"788053\",\"type\":\"UnionRenderers\"},{\"attributes\":{},\"id\":\"788068\",\"type\":\"Selection\"},{\"attributes\":{\"source\":{\"id\":\"787815\"}},\"id\":\"787821\",\"type\":\"CDSView\"},{\"attributes\":{},\"id\":\"787829\",\"type\":\"LinearScale\"},{\"attributes\":{\"coordinates\":null,\"group\":null,\"text\":\"Control experiments\"},\"id\":\"787823\",\"type\":\"Title\"},{\"attributes\":{},\"id\":\"788054\",\"type\":\"Selection\"},{\"attributes\":{\"axis_label\":\"Frequency\",\"coordinates\":null,\"formatter\":{\"id\":\"787857\"},\"group\":null,\"major_label_policy\":{\"id\":\"787858\"},\"ticker\":{\"id\":\"787838\"}},\"id\":\"787837\",\"type\":\"LinearAxis\"},{\"attributes\":{},\"id\":\"787641\",\"type\":\"Selection\"},{\"attributes\":{},\"id\":\"788055\",\"type\":\"UnionRenderers\"},{\"attributes\":{},\"id\":\"788069\",\"type\":\"UnionRenderers\"},{\"attributes\":{},\"id\":\"787831\",\"type\":\"LinearScale\"},{\"attributes\":{\"coordinates\":null,\"data_source\":{\"id\":\"787716\"},\"glyph\":{\"id\":\"787718\"},\"group\":null,\"hover_glyph\":null,\"muted_glyph\":{\"id\":\"787720\"},\"nonselection_glyph\":{\"id\":\"787719\"},\"view\":{\"id\":\"787722\"}},\"id\":\"787721\",\"type\":\"GlyphRenderer\"},{\"attributes\":{\"coordinates\":null,\"formatter\":{\"id\":\"787860\"},\"group\":null,\"major_label_policy\":{\"id\":\"787861\"},\"ticker\":{\"id\":\"787834\"},\"visible\":false},\"id\":\"787833\",\"type\":\"LinearAxis\"},{\"attributes\":{},\"id\":\"788066\",\"type\":\"Selection\"},{\"attributes\":{\"coordinates\":null,\"data_source\":{\"id\":\"787767\"},\"glyph\":{\"id\":\"787769\"},\"group\":null,\"hover_glyph\":null,\"muted_glyph\":{\"id\":\"787771\"},\"nonselection_glyph\":{\"id\":\"787770\"},\"view\":{\"id\":\"787773\"}},\"id\":\"787772\",\"type\":\"GlyphRenderer\"},{\"attributes\":{\"source\":{\"id\":\"787716\"}},\"id\":\"787722\",\"type\":\"CDSView\"},{\"attributes\":{},\"id\":\"787841\",\"type\":\"CrosshairTool\"},{\"attributes\":{\"format\":\"0\"},\"id\":\"787897\",\"type\":\"NumeralTickFormatter\"},{\"attributes\":{},\"id\":\"788084\",\"type\":\"Selection\"},{\"attributes\":{\"fill_alpha\":{\"value\":0.1},\"fill_color\":{\"value\":\"#1a9641\"},\"hatch_alpha\":{\"value\":0.1},\"hatch_color\":{\"value\":\"#1a9641\"},\"line_alpha\":{\"value\":0.1},\"line_color\":{\"value\":\"#1a9641\"},\"size\":{\"value\":20},\"x\":{\"field\":\"x\"},\"y\":{\"field\":\"y\"}},\"id\":\"787947\",\"type\":\"Scatter\"},{\"attributes\":{},\"id\":\"787843\",\"type\":\"PanTool\"},{\"attributes\":{\"coordinates\":null,\"group\":null},\"id\":\"787341\",\"type\":\"Title\"},{\"attributes\":{},\"id\":\"788065\",\"type\":\"UnionRenderers\"},{\"attributes\":{},\"id\":\"787838\",\"type\":\"BasicTicker\"},{\"attributes\":{\"fill_alpha\":0.6,\"fill_color\":\"#f1b6da\",\"hatch_alpha\":{\"value\":0.6},\"x\":{\"field\":\"x\"},\"y1\":{\"value\":0},\"y2\":{\"field\":\"kde_values\"}},\"id\":\"787440\",\"type\":\"VArea\"},{\"attributes\":{},\"id\":\"788056\",\"type\":\"Selection\"},{\"attributes\":{\"data\":{\"kde_values\":{\"__ndarray__\":\"36xkJUjpkD/lgjljCz+EP+F9uAPzXmE/OsRbKJ5cJT+PWRKSfdPSPkrYh6fVx2c+VoF1fweH5T0ERldLku5LPRYZuWUC+Zk8W5vXlcpO0TsBk2Vj+4fwOqKiH9eLofY531Owcv0z5jitAS8m0zi/N9GddgbQdn82dfL2f0O5JjVcp5sZt4W3M4amkJEkczEyISpUPdONkjBJ7pXvv0bcLpEiovoD4g4t8TDgFyMsKCv1jxhkQB4rKWjbx2d5zRUndEbOqtgf6SRFQErfqb+kIsWIt7BKj0ggyxxMhGjV1B0lb3t2nVRJG4vLOpBNEqYYf9cNnaGQ6xWqv+Sh16sYE2Fx0MM0pi8QbbsHbChgEA6ptmS2xWoKEbJ9lfbciu4TMzCLUHFOuRboZcidtQ1uGakUCK0BlAkcLFu0va0zjx4BeKGI+Eb7IEvMBCXmFlEjdr0cgSGxjiWO3aKFXMCzJ5emWpTpN8IpuIyuMPYVuCtrt5ql+NGWLS+/WoVX/V4vK0ANQccoDjGPZapX2wilMoY8UTUDByU0BIeOHtkgjjWp3uD/w+/eNgCnRdb6wxY4J51JRfsCODnFWsceXyZCOtxazQflqTM7SVJ1w9yIDjyPVRMSf/3QPJUov3+rGXs9j3mPw2z6Dj5MOz2dnmCJPss9c34azO0+Ty/x7MwSOT9PSZs9kz1uP6pCAXhWI4o/rQElns8wkD8v56jzxr98PxmTp/DESlI/Ax4du4CuED/bMhCeDM61PqwE4MTQbkU+K9I2IZCUfT5Wj/3ndXLjPib0W5w5VTI/wcKdMkXQaD99njB01GqIP5DEfs5zRJM/6k8PRdRnkz9oulfXBYmSP721Bvmy1Ic/ETOBckkQij8OWlzbcPKQPxDPnIGh2YI/fNnrN9FYdz+bpHtspyySP1LJzbVjecA/tJ7i+Yot9T8eXuWKGpwYQPV0KKyAiiVA5HT//pn7G0BVnfphyLH8P0oslhPQnNI/y6a8B9MrvD9PsipjyvKxP7fn75T6Z6I/G8m4+QIjhT8Br0w+BH1rP8aMxmmFXYQ/WqXZjIzpkD8=\",\"dtype\":\"float64\",\"order\":\"little\",\"shape\":[100]},\"x\":{\"__ndarray__\":\"wyWLKdx8CcC7XCAcljMJwLOTtQ5Q6gjAq8pKAQqhCMCjAeDzw1cIwJs4deZ9DgjAk28K2TfFB8CKpp/L8XsHwILdNL6rMgfAehTKsGXpBsByS1+jH6AGwGqC9JXZVgbAYrmJiJMNBsBa8B57TcQFwFIntG0HewXASl5JYMExBcBCld5Se+gEwDrMc0U1nwTAMgMJOO9VBMAqOp4qqQwEwCJxMx1jwwPAGqjIDx16A8AS310C1zADwAoW8/SQ5wLAAk2I50qeAsD6gx3aBFUCwPK6ssy+CwLA6fFHv3jCAcDhKN2xMnkBwNlfcqTsLwHA0ZYHl6bmAMDJzZyJYJ0AwMEEMnwaVADAuTvHbtQKAMBi5bjCHIP/v1JT46eQ8P6/QsENjQRe/r8xLzhyeMv9vyGdYlfsOP2/EQuNPGCm/L8Bebch1BP8v/Hm4QZIgfu/4VQM7Lvu+r/RwjbRL1z6v8AwYbajyfm/sJ6Lmxc3+b+gDLaAi6T4v5B64GX/Efi/gOgKS3N/979wVjUw5+z2v2DEXxVbWva/UDKK+s7H9b9AoLTfQjX1vy8O38S2ovS/H3wJqioQ9L8P6jOPnn3zv/5XXnQS6/K/7sWIWYZY8r/eM7M++sXxv86h3SNuM/G/vg8ICeKg8L+ufTLuVQ7wvzzXuaaT9+6/HLMOcXvS7b/8jmM7Y63sv9xquAVLiOu/vEYN0DJj6r+cImKaGj7pv3z+tmQCGei/XNoLL+rz5r88tmD50c7lvxyStcO5qeS//G0KjqGE47/YSV9YiV/iv7gltCJxOuG/mAEJ7VgV4L/wurtugeDdv7ByZQNRltu/cCoPmCBM2b8w4rgs8AHXv/CZYsG/t9S/sFEMVo9t0r9wCbbqXiPQv2CCv/5cssu/4PESKPwdx79gYWZRm4nCv8Chc/V06ru/wIAaSLPBsr9Av4I14zGjvwCoD1r7C1y/wMThfyNxoT9gA0ptU+GxP2AkoxoVCrs/sCL+Y2sZwj8ws6o6zK3GP7BDVxEtQss/MNQD6I3Wzz9YMlhfdzXSP5h6rsqnf9Q/18IENtjJ1j8=\",\"dtype\":\"float64\",\"order\":\"little\",\"shape\":[100]}},\"selected\":{\"id\":\"787641\"},\"selection_policy\":{\"id\":\"787640\"}},\"id\":\"787625\",\"type\":\"ColumnDataSource\"},{\"attributes\":{\"fill_alpha\":0.1,\"fill_color\":\"#d02c91\",\"hatch_alpha\":{\"value\":0.1},\"x\":{\"field\":\"x\"},\"y1\":{\"value\":0},\"y2\":{\"field\":\"kde_values\"}},\"id\":\"787911\",\"type\":\"VArea\"},{\"attributes\":{\"bottom_units\":\"screen\",\"coordinates\":null,\"fill_alpha\":0.5,\"fill_color\":\"lightgrey\",\"group\":null,\"left_units\":\"screen\",\"level\":\"overlay\",\"line_alpha\":1.0,\"line_color\":\"black\",\"line_dash\":[4,4],\"line_width\":2,\"right_units\":\"screen\",\"syncable\":false,\"top_units\":\"screen\"},\"id\":\"787329\",\"type\":\"BoxAnnotation\"},{\"attributes\":{},\"id\":\"788083\",\"type\":\"UnionRenderers\"},{\"attributes\":{\"coordinates\":null,\"data_source\":{\"id\":\"787438\"},\"glyph\":{\"id\":\"787440\"},\"group\":null,\"hover_glyph\":null,\"muted_glyph\":{\"id\":\"787442\"},\"nonselection_glyph\":{\"id\":\"787441\"},\"view\":{\"id\":\"787444\"}},\"id\":\"787443\",\"type\":\"GlyphRenderer\"},{\"attributes\":{\"source\":{\"id\":\"787438\"}},\"id\":\"787444\",\"type\":\"CDSView\"},{\"attributes\":{\"data\":{\"kde_values\":{\"__ndarray__\":\"7s88zYxPjD/GpyaMH+17P18msm/KzUo/a5bBDVYI+T63h7IHZb+GPl8YAHIWHfQ9RDPLyglOQT3yjgaRKflsPE7H65G6mXc7J+grbZe0Yjp76boM+NksOfc0OFRuptU3q/a1CK+dXza9MJQmO3bGNKLHUIYwDg8zZ+5WrabjNDFXsfeuxRTZMUyYQMRQFKcz5vqSiBeqVDX9/PRtxwDiNoTx4fPJhU447cPEIR0tmTllnfl7wzTEOgkg0YMwj887bU2hmB77tzzfVXOYE7uBPfI83BcJgyk+YmWNg9PbsT7FNCz6BlQYP7RuuzGqH2A/rQy0u6zLhD/vjs4wRBmKP2RnBLRaJ3A/5kpZkMeDWz+ih2YgfveBP7EyAWqsios/ciyglW2NdD9rpwZuQD4+PzoJEn5+cTc/xBResqIwdT8/eGVdQ1qVP75umYQCP5g/ycHSg2P1gT/4sRJsNeGOP5OE6d0YWsE/Mk5Kd5n1+z+D+owofVIgQGjScHPb5yNAHQULklcoCkBG7ZW3YWneP6FOD9T37sA/1Ag/aRf/tD+M3NKSt22yPzmWZxjHaKk/rjYLXrKwnT/wvTSyyCmSPxWuSXo2bpA/PhIYY/gukz9NKELn8racPyNZyJdt0Is/pBIN49gqXD9jfcVbPW5gP4GD9xLbRYg/x7/tVQeblz8zs/hXYCWUP3ilXv5sspA/IjeGvt9qkT8BQiaspLiQPwQ0tfU2MII/xvgGh959Vj8c+WNhW38LP3kkk6UrYaA+B7khNXD9Ej5BISbkOmxlPbHSq5vpg5c8Al1WDKkdqTvH7ZhsvGxqO/Z/cW8sb2E87VkzzSdjNj0xfjIF1vjrPZC3fqXlAIE+gU1+s0Yd9D7frAKXBydHPysJ01o27nk/yhauySlCjD+Pz5Wt8PZ9P+xSLsen6k4/rLoyHdEJ/z6mdHQx51GOPmeVjkWz0fw9ShwRsFanSj3y/ep6e/x3PM/j8JN9+Ww80zPLyglOQT1RGQByFh30PbeHsgdlv4Y+a5bBDVYI+T5fJrJvys1KP4SnJowf7Xs/7s88zYxPjD8=\",\"dtype\":\"float64\",\"order\":\"little\",\"shape\":[100]},\"x\":{\"__ndarray__\":\"cdfzG3Rl/r/gLJ7KiL79v0+CSHmdF/2/vtfyJ7Jw/L8sLZ3Wxsn7v5uCR4XbIvu/CtjxM/B7+r95LZziBNX5v+iCRpEZLvm/V9jwPy6H+L/GLZvuQuD3vzSDRZ1XOfe/pNjvS2yS9r8SLpr6gOv1v4GDRKmVRPW/8NjuV6qd9L9fLpkGv/bzv86DQ7XTT/O/PdntY+io8r+sLpgS/QHyvxqEQsERW/G/itnsbya08L/4LpceOw3wv84Ig5qfzO6/rLPX98h+7b+KXixV8jDsv2gJgbIb4+q/RrTVD0WV6b8iXyptbkfovwAKf8qX+ea/3rTTJ8Gr5b+8XyiF6l3kv5oKfeITEOO/eLXRPz3C4b9WYCadZnTgv2gW9vQfTd6/JGyfr3Kx27/cwUhqxRXZv5gX8iQYeta/VG2b32re078Qw0SavULRv5gx3KkgTs2/EN0uH8YWyL+IiIGUa9/Cv/BnqBMiULu/4L5N/mzhsL9AV8yj38qZvwCaPGPp348/oHiEg2TVrD9g5RxXZ9m4PzjHOzYOpME/yBvpwGjbxj9IcJZLwxLMP2ziIesOpdA/rIx4MLxA0z/0Ns91adzVPzzhJbsWeNg/fIt8AMQT2z/ENdNFca/dPwLwlEWPJeA/JkVA6GVz4T9GmuuKPMHiP2rvli0TD+Q/ikRC0Olc5T+ume1ywKrmP9LumBWX+Oc/8kNEuG1G6T8Wme9aRJTqPzbumv0a4us/WkNGoPEv7T96mPFCyH3uP57tnOWey+8/XyEkxLqM8D/xy3kVpjPxP4N2z2aR2vE/EyEluHyB8j+ly3oJaCjzPzV20FpTz/M/xyAmrD529D9Xy3v9KR31P+l10U4VxPU/eyAnoABr9j8Ly3zx6xH3P5110kLXuPc/LSAolMJf+D+/yn3lrQb5P0910zaZrfk/4R8piIRU+j9zyn7Zb/v6PwN11Cpbovs/lR8qfEZJ/D8lyn/NMfD8P7d01R4dl/0/Rx8rcAg+/j/ZyYDB8+T+P2l01hLfi/8/fg8WMmUZAEDG5MDa2mwAQA66a4NQwABAV48WLMYTAUA=\",\"dtype\":\"float64\",\"order\":\"little\",\"shape\":[100]}},\"selected\":{\"id\":\"787410\"},\"selection_policy\":{\"id\":\"787409\"}},\"id\":\"787393\",\"type\":\"ColumnDataSource\"},{\"attributes\":{\"active_scroll\":{\"id\":\"787328\"},\"tools\":[{\"id\":\"787323\"},{\"id\":\"787324\"},{\"id\":\"787325\"},{\"id\":\"787326\"},{\"id\":\"787327\"},{\"id\":\"787328\"},{\"id\":\"787349\"}]},\"id\":\"787330\",\"type\":\"Toolbar\"},{\"attributes\":{},\"id\":\"788049\",\"type\":\"UnionRenderers\"},{\"attributes\":{\"coordinates\":null,\"data_source\":{\"id\":\"787815\"},\"glyph\":{\"id\":\"787817\"},\"group\":null,\"hover_glyph\":null,\"muted_glyph\":{\"id\":\"787819\"},\"nonselection_glyph\":{\"id\":\"787818\"},\"view\":{\"id\":\"787821\"}},\"id\":\"787820\",\"type\":\"GlyphRenderer\"},{\"attributes\":{},\"id\":\"787834\",\"type\":\"BasicTicker\"},{\"attributes\":{\"below\":[{\"id\":\"787873\"}],\"center\":[{\"id\":\"787876\"},{\"id\":\"787880\"}],\"height\":200,\"left\":[{\"id\":\"787877\"}],\"renderers\":[{\"id\":\"787948\"},{\"id\":\"787993\"}],\"title\":{\"id\":\"787899\"},\"toolbar\":{\"id\":\"787888\"},\"toolbar_location\":null,\"width\":500,\"x_range\":{\"id\":\"787864\"},\"x_scale\":{\"id\":\"787869\"},\"y_range\":{\"id\":\"787867\"},\"y_scale\":{\"id\":\"787871\"}},\"id\":\"787865\",\"subtype\":\"Figure\",\"type\":\"Plot\"},{\"attributes\":{},\"id\":\"787842\",\"type\":\"SaveTool\"},{\"attributes\":{\"source\":{\"id\":\"787767\"}},\"id\":\"787773\",\"type\":\"CDSView\"},{\"attributes\":{},\"id\":\"787346\",\"type\":\"AllLabels\"},{\"attributes\":{},\"id\":\"788050\",\"type\":\"Selection\"},{\"attributes\":{},\"id\":\"787845\",\"type\":\"ResetTool\"},{\"attributes\":{},\"id\":\"787302\",\"type\":\"BasicTickFormatter\"},{\"attributes\":{},\"id\":\"787303\",\"type\":\"AllLabels\"},{\"attributes\":{\"source\":{\"id\":\"787351\"}},\"id\":\"787357\",\"type\":\"CDSView\"},{\"attributes\":{\"axis\":{\"id\":\"787279\"},\"coordinates\":null,\"dimension\":1,\"group\":null,\"ticker\":null},\"id\":\"787282\",\"type\":\"Grid\"},{\"attributes\":{\"line_alpha\":0.1,\"line_color\":\"#1a9641\",\"line_width\":3,\"x\":{\"field\":\"x\"},\"y\":{\"field\":\"kde_values\"}},\"id\":\"787372\",\"type\":\"Line\"},{\"attributes\":{\"click_policy\":\"mute\",\"coordinates\":null,\"group\":null,\"items\":[{\"id\":\"787369\"},{\"id\":\"787412\"},{\"id\":\"787459\"},{\"id\":\"787510\"}],\"location\":\"top_left\"},\"id\":\"787368\",\"type\":\"Legend\"},{\"attributes\":{},\"id\":\"788052\",\"type\":\"Selection\"},{\"attributes\":{},\"id\":\"787366\",\"type\":\"Selection\"},{\"attributes\":{},\"id\":\"788072\",\"type\":\"Selection\"},{\"attributes\":{\"data\":{\"kde_values\":{\"__ndarray__\":\"2OOsZhT7pD8OGT8+44ecP60tCBWu74E/TM2mNH/aVD+qzCTvOlwYPyBwvcOTuSk/XGpR42YbYz+sBeY8MZqKPyDZWN12H6E/F3GzKXphpD9IUJ6P8G2WP6PW752s0nY/TS0Ld+x4RT+28cXhtq0CP7XjWcMbgK4+CjNhNX1ssz61K26S9AcIP2GiJP2HsEw/xraH9Mq8gD9/Z7DnrpmjPyd26DYQjLc/i3NaQMstvT9USMRmkZiyPzzC+WYqoZ4/x4k3rOIjoD9uoUWWedutP/poXinCVrY/xPpwZoPyvT/FT6s2AFrFPyaeUwdMa9U/uWRMrslo9j+W+9RMVo0cQD6CpVsmADVAPEBSYcAkPkCOQr6Zcdc0QFsFOCIsox1AcEn3U4jl/T/WE1xVpe3nPwLaUgQjp+M/ZNx+KhqF4j9LXsF7pG/cPzfKV1Uz09I/4G1o45Rpyj8vx8kymLrHPy5UDpVAYco/fHdGFF7wyD8TuOfQYKq/P5RM4ro+Xqc/Dwk/vCjrgT88K7RFePNKP6nmuuqq0yI/B4ZlZyG2WD+Dldo71xCEPxt/sbpYJZ4/Yk+FovPzpD9ZIbNRzIKbP8pTjxA9yoo/gdJwh0velj/pqTbStkekP3bQ0dshaKE/U5UNCm+siz9M9HyGao5kP5UNaiO7DUg/4pZ3a9mIcz8RL4JOoIKUPwLt49cC8qM/3Nm3AwnvoT9UEER8g9GNP+1hXGWj62Y/q+pR4jNKMD+5q4kBs2jlPjDoqXXuA4o+vhndSrQ6HT4pasmDtQ6fPROSP0EML9E9PsKywdGaSD4q9M4YX0qwPj3WsHDz8QM/7h80DDyURj8UzTIUsKN3P9Cwtl8p75Y/jszNTdf6pD8YPMK8fcOkP1SoCTLro6M/+7ii79wLpj+KZGHBid6ePxsMMa4G1oQ/QqvUXswhWj+L0DcpvFEeP8np5Ix4Q9A+p3Pt2echcD7C6IdfI6X9PbdjUpLffPE9l8zCQcJ3ZD5gC0v9N0bGPhADiZqdaRY/zQlyq/HZVD+fjOLvre+BP4ARLT7jh5w/zN+sZhT7pD8=\",\"dtype\":\"float64\",\"order\":\"little\",\"shape\":[100]},\"x\":{\"__ndarray__\":\"bGp73GgT1r/EEXHK62fVvxu5ZrhuvNS/cmBcpvEQ1L/KB1KUdGXTvyKvR4L3udK/eVY9cHoO0r/Q/TJe/WLRvyilKEyAt9C/gEweOgMM0L+u5ydQDMHOv102EywSas2/DIX+BxgTzL+70+njHbzKv2oi1b8jZcm/GXHAmykOyL/Iv6t3L7fGv3cOl1M1YMW/Jl2CLzsJxL/Vq20LQbLCv4T6WOdGW8G/M0lEw0wEwL/EL18+pVq9vyLNNfawrLq/gGoMrrz+t7/gB+NlyFC1vzyluR3UorK/MIUgq7/pr7/wv80a142qv7D6eoruMaW/0GpQ9Ausn79A4KrTOvSUv4CrCmbTeIS/ADANaNvZPj+gfosccWaGP+BJ664J65U/MGrIZ21RoD9wLxv4Va2lP7j0bYg+Cas/AF1gjJMysD+gv4nUh+CyP0Aisxx8jrU/5ITcZHA8uD+I5wWtZOq6PyhKL/VYmL0/ZFasniYjwD+2B8HCIHrBPwi51eYa0cI/WGrqChUoxD+oG/8uD3/FP/jME1MJ1sY/TH4odwMtyD+cLz2b/YPJP+zgUb/32so/QJJm4/ExzD+QQ3sH7IjNP+D0jyvm384/GFPSJ3Ab0D/Aq9w57cbQP2oE50tqctE/El3xXecd0j+6tftvZMnSP2QOBoLhdNM/DGcQlF4g1D+0vxqm28vUP1wYJbhYd9U/BHEvytUi1j+uyTncUs7WP1YiRO7Pedc//npOAE0l2D+o01gSytDYP1AsYyRHfNk/+IRtNsQn2j+g3XdIQdPaP0g2glq+fts/8o6MbDsq3D+a55Z+uNXcP0JAoZA1gd0/7JirorIs3j+U8bW0L9jePzxKwMasg98/clFl7JQX4D/GfWp1U23gPxuqb/4Rw+A/b9Z0h9AY4T/DAnoQj27hPxgvf5lNxOE/bFuEIgwa4j/Ah4mrym/iPxS0jjSJxeI/aOCTvUcb4z+9DJlGBnHjPxE5ns/ExuM/ZWWjWIMc5D+6kajhQXLkPw6+rWoAyOQ/Yuqy874d5T+2Frh8fXPlPwpDvQU8yeU/Xm/Cjvoe5j8=\",\"dtype\":\"float64\",\"order\":\"little\",\"shape\":[100]}},\"selected\":{\"id\":\"787508\"},\"selection_policy\":{\"id\":\"787507\"}},\"id\":\"787487\",\"type\":\"ColumnDataSource\"},{\"attributes\":{},\"id\":\"787285\",\"type\":\"PanTool\"},{\"attributes\":{},\"id\":\"787923\",\"type\":\"Selection\"},{\"attributes\":{},\"id\":\"788071\",\"type\":\"UnionRenderers\"},{\"attributes\":{},\"id\":\"787618\",\"type\":\"AllLabels\"},{\"attributes\":{\"source\":{\"id\":\"787950\"}},\"id\":\"787975\",\"type\":\"CDSView\"},{\"attributes\":{\"fill_alpha\":{\"value\":0.1},\"fill_color\":{\"value\":\"#d02c91\"},\"hatch_alpha\":{\"value\":0.1},\"hatch_color\":{\"value\":\"#d02c91\"},\"line_alpha\":{\"value\":0.1},\"line_color\":{\"value\":\"#d02c91\"},\"size\":{\"value\":20},\"x\":{\"field\":\"x\"},\"y\":{\"field\":\"y\"}},\"id\":\"787819\",\"type\":\"Scatter\"},{\"attributes\":{\"fill_alpha\":{\"value\":0.9},\"fill_color\":{\"value\":\"#d02c91\"},\"hatch_alpha\":{\"value\":0.9},\"hatch_color\":{\"value\":\"#d02c91\"},\"line_alpha\":{\"value\":0.9},\"size\":{\"value\":20},\"x\":{\"field\":\"x\"},\"y\":{\"field\":\"y\"}},\"id\":\"787535\",\"type\":\"Scatter\"},{\"attributes\":{},\"id\":\"787620\",\"type\":\"BasicTickFormatter\"},{\"attributes\":{},\"id\":\"787284\",\"type\":\"SaveTool\"},{\"attributes\":{},\"id\":\"787621\",\"type\":\"AllLabels\"},{\"attributes\":{\"overlay\":{\"id\":\"787289\"}},\"id\":\"787286\",\"type\":\"BoxZoomTool\"},{\"attributes\":{\"fill_alpha\":0.6,\"fill_color\":\"#d02c91\",\"hatch_alpha\":{\"value\":0.6},\"x\":{\"field\":\"x\"},\"y1\":{\"value\":0},\"y2\":{\"field\":\"kde_values\"}},\"id\":\"787769\",\"type\":\"VArea\"},{\"attributes\":{\"end\":0.4,\"start\":-0.4},\"id\":\"787306\",\"type\":\"Range1d\"},{\"attributes\":{},\"id\":\"787345\",\"type\":\"BasicTickFormatter\"},{\"attributes\":{},\"id\":\"787343\",\"type\":\"AllLabels\"},{\"attributes\":{},\"id\":\"787287\",\"type\":\"ResetTool\"},{\"attributes\":{\"data\":{\"cell_ID\":{\"__ndarray__\":\"KgIAAFYAAADLAwAAfAUAAHUGAABRAQAAhQIAAB4CAAB+AAAAHgEAAPQCAACFBwAA9QcAAI4IAABbCgAA\",\"dtype\":\"int32\",\"order\":\"little\",\"shape\":[15]},\"compound\":[\"PZA\",\"PZA\",\"PZA\",\"PZA\",\"PZA\",\"PZA\",\"PZA\",\"PZA\",\"PZA\",\"PZA\",\"PZA\",\"PZA\",\"PZA\",\"PZA\",\"PZA\"],\"concentration\":[\"EC99\",\"EC99\",\"EC99\",\"EC99\",\"EC99\",\"EC99\",\"EC99\",\"EC99\",\"EC99\",\"EC99\",\"EC99\",\"EC99\",\"EC99\",\"EC99\",\"EC99\"],\"dMtb\":{\"__ndarray__\":\"LLhfcLWHB8C5hOrWDwoBwA+cWPVJvNo/0ihYAlsJyL9PAfKLzU3Hv7/Fx5Tdx8y/atlH0vjA3D9Lih4ZLH7tv8OK5qRQMcg/6iTxfRFa6z9wHaZKOCfPP2vQSdG8DghAYg15UFKe4j/OEKrz/1DQP5Ufg4sJxuA/\",\"dtype\":\"float64\",\"order\":\"little\",\"shape\":[15]},\"glimpse_url_t0\":[\"https://macrohet.s3.eu-west-2.amazonaws.com/dMtb/dMtb_glimpses/glimpse_554.5.6_t0.png\",\"https://macrohet.s3.eu-west-2.amazonaws.com/dMtb/dMtb_glimpses/glimpse_86.5.6_t0.png\",\"https://macrohet.s3.eu-west-2.amazonaws.com/dMtb/dMtb_glimpses/glimpse_971.5.6_t4.png\",\"https://macrohet.s3.eu-west-2.amazonaws.com/dMtb/dMtb_glimpses/glimpse_1404.5.6_t10.png\",\"https://macrohet.s3.eu-west-2.amazonaws.com/dMtb/dMtb_glimpses/glimpse_1653.5.6_t14.png\",\"https://macrohet.s3.eu-west-2.amazonaws.com/dMtb/dMtb_glimpses/glimpse_337.6.6_t0.png\",\"https://macrohet.s3.eu-west-2.amazonaws.com/dMtb/dMtb_glimpses/glimpse_645.6.6_t0.png\",\"https://macrohet.s3.eu-west-2.amazonaws.com/dMtb/dMtb_glimpses/glimpse_542.6.6_t0.png\",\"https://macrohet.s3.eu-west-2.amazonaws.com/dMtb/dMtb_glimpses/glimpse_126.6.6_t0.png\",\"https://macrohet.s3.eu-west-2.amazonaws.com/dMtb/dMtb_glimpses/glimpse_286.6.6_t0.png\",\"https://macrohet.s3.eu-west-2.amazonaws.com/dMtb/dMtb_glimpses/glimpse_756.6.6_t2.png\",\"https://macrohet.s3.eu-west-2.amazonaws.com/dMtb/dMtb_glimpses/glimpse_1925.6.6_t18.png\",\"https://macrohet.s3.eu-west-2.amazonaws.com/dMtb/dMtb_glimpses/glimpse_2037.6.6_t20.png\",\"https://macrohet.s3.eu-west-2.amazonaws.com/dMtb/dMtb_glimpses/glimpse_2190.6.6_t23.png\",\"https://macrohet.s3.eu-west-2.amazonaws.com/dMtb/dMtb_glimpses/glimpse_2651.6.6_t32.png\"],\"glimpse_url_tn\":[\"https://macrohet.s3.eu-west-2.amazonaws.com/dMtb/dMtb_glimpses/glimpse_554.5.6_t-1.png\",\"https://macrohet.s3.eu-west-2.amazonaws.com/dMtb/dMtb_glimpses/glimpse_86.5.6_t-1.png\",\"https://macrohet.s3.eu-west-2.amazonaws.com/dMtb/dMtb_glimpses/glimpse_971.5.6_t-1.png\",\"https://macrohet.s3.eu-west-2.amazonaws.com/dMtb/dMtb_glimpses/glimpse_1404.5.6_t-1.png\",\"https://macrohet.s3.eu-west-2.amazonaws.com/dMtb/dMtb_glimpses/glimpse_1653.5.6_t-1.png\",\"https://macrohet.s3.eu-west-2.amazonaws.com/dMtb/dMtb_glimpses/glimpse_337.6.6_t-1.png\",\"https://macrohet.s3.eu-west-2.amazonaws.com/dMtb/dMtb_glimpses/glimpse_645.6.6_t-1.png\",\"https://macrohet.s3.eu-west-2.amazonaws.com/dMtb/dMtb_glimpses/glimpse_542.6.6_t-1.png\",\"https://macrohet.s3.eu-west-2.amazonaws.com/dMtb/dMtb_glimpses/glimpse_126.6.6_t-1.png\",\"https://macrohet.s3.eu-west-2.amazonaws.com/dMtb/dMtb_glimpses/glimpse_286.6.6_t-1.png\",\"https://macrohet.s3.eu-west-2.amazonaws.com/dMtb/dMtb_glimpses/glimpse_756.6.6_t-1.png\",\"https://macrohet.s3.eu-west-2.amazonaws.com/dMtb/dMtb_glimpses/glimpse_1925.6.6_t-1.png\",\"https://macrohet.s3.eu-west-2.amazonaws.com/dMtb/dMtb_glimpses/glimpse_2037.6.6_t-1.png\",\"https://macrohet.s3.eu-west-2.amazonaws.com/dMtb/dMtb_glimpses/glimpse_2190.6.6_t-1.png\",\"https://macrohet.s3.eu-west-2.amazonaws.com/dMtb/dMtb_glimpses/glimpse_2651.6.6_t-1.png\"],\"strain\":[\"WT\",\"WT\",\"WT\",\"WT\",\"WT\",\"WT\",\"WT\",\"WT\",\"WT\",\"WT\",\"WT\",\"WT\",\"WT\",\"WT\",\"WT\"],\"tech_rep\":[1,1,1,1,1,2,2,2,2,2,2,2,2,2,2],\"x\":{\"__ndarray__\":\"LLhfcLWHB8C5hOrWDwoBwA+cWPVJvNo/0ihYAlsJyL9PAfKLzU3Hv7/Fx5Tdx8y/atlH0vjA3D9Lih4ZLH7tv8OK5qRQMcg/6iTxfRFa6z9wHaZKOCfPP2vQSdG8DghAYg15UFKe4j/OEKrz/1DQP5Ufg4sJxuA/\",\"dtype\":\"float64\",\"order\":\"little\",\"shape\":[15]},\"y\":{\"__ndarray__\":\"r2Ab8WQ36z8Hfentz0XrP6Ghf4KLFew/cLN4sTBE7D+kjo6rkV3sP+NTAIxn0PI/Ne7Nb5jo8j+qglFJnQDzP4YEjC5vDvM/KbNBJhk58z83jILg8W3zPy1BRkCFo/M/kJ+NXDel8z+TVRFuMqrzP1DDt7BuvPM/\",\"dtype\":\"float64\",\"order\":\"little\",\"shape\":[15]}},\"name\":\"WT, PZA, EC99\",\"selected\":{\"id\":\"788070\"},\"selection_policy\":{\"id\":\"788069\"}},\"id\":\"787760\",\"type\":\"ColumnDataSource\"},{\"attributes\":{},\"id\":\"787283\",\"type\":\"CrosshairTool\"},{\"attributes\":{\"bottom_units\":\"screen\",\"coordinates\":null,\"fill_alpha\":0.5,\"fill_color\":\"lightgrey\",\"group\":null,\"left_units\":\"screen\",\"level\":\"overlay\",\"line_alpha\":1.0,\"line_color\":\"black\",\"line_dash\":[4,4],\"line_width\":2,\"right_units\":\"screen\",\"syncable\":false,\"top_units\":\"screen\"},\"id\":\"787289\",\"type\":\"BoxAnnotation\"},{\"attributes\":{\"fill_alpha\":{\"value\":0.1},\"fill_color\":{\"value\":\"#d02c91\"},\"hatch_alpha\":{\"value\":0.1},\"hatch_color\":{\"value\":\"#d02c91\"},\"line_alpha\":{\"value\":0.1},\"size\":{\"value\":20},\"x\":{\"field\":\"x\"},\"y\":{\"field\":\"y\"}},\"id\":\"787818\",\"type\":\"Scatter\"},{\"attributes\":{},\"id\":\"787288\",\"type\":\"WheelZoomTool\"},{\"attributes\":{\"label\":{\"value\":\"WT, BDQ, EC99\"},\"renderers\":[{\"id\":\"787630\"},{\"id\":\"787649\"}]},\"id\":\"787644\",\"type\":\"LegendItem\"},{\"attributes\":{\"fill_alpha\":0.1,\"fill_color\":\"#f1b6da\",\"hatch_alpha\":{\"value\":0.1},\"x\":{\"field\":\"x\"},\"y1\":{\"value\":0},\"y2\":{\"field\":\"kde_values\"}},\"id\":\"787441\",\"type\":\"VArea\"},{\"attributes\":{\"coordinates\":null,\"data_source\":{\"id\":\"787351\"},\"glyph\":{\"id\":\"787353\"},\"group\":null,\"hover_glyph\":null,\"muted_glyph\":{\"id\":\"787355\"},\"nonselection_glyph\":{\"id\":\"787354\"},\"view\":{\"id\":\"787357\"}},\"id\":\"787356\",\"type\":\"GlyphRenderer\"},{\"attributes\":{},\"id\":\"787365\",\"type\":\"UnionRenderers\"},{\"attributes\":{\"fill_alpha\":{\"value\":0.1},\"fill_color\":{\"value\":\"#d02c91\"},\"hatch_alpha\":{\"value\":0.1},\"hatch_color\":{\"value\":\"#d02c91\"},\"line_alpha\":{\"value\":0.1},\"line_color\":{\"value\":\"#d02c91\"},\"size\":{\"value\":20},\"x\":{\"field\":\"x\"},\"y\":{\"field\":\"y\"}},\"id\":\"787537\",\"type\":\"Scatter\"},{\"attributes\":{},\"id\":\"787901\",\"type\":\"AllLabels\"},{\"attributes\":{\"axis\":{\"id\":\"787553\"},\"coordinates\":null,\"dimension\":1,\"group\":null,\"ticker\":null},\"id\":\"787556\",\"type\":\"Grid\"},{\"attributes\":{},\"id\":\"787903\",\"type\":\"BasicTickFormatter\"},{\"attributes\":{\"label\":{\"value\":\"WT, INH, EC50\"},\"renderers\":[{\"id\":\"787398\"},{\"id\":\"787417\"}]},\"id\":\"787412\",\"type\":\"LegendItem\"},{\"attributes\":{\"ticks\":[]},\"id\":\"787337\",\"type\":\"FixedTicker\"},{\"attributes\":{},\"id\":\"787640\",\"type\":\"UnionRenderers\"},{\"attributes\":{\"fill_alpha\":0.6,\"fill_color\":\"#1a9641\",\"hatch_alpha\":{\"value\":0.6},\"x\":{\"field\":\"x\"},\"y1\":{\"value\":0},\"y2\":{\"field\":\"kde_values\"}},\"id\":\"787952\",\"type\":\"VArea\"},{\"attributes\":{\"line_color\":\"#1a9641\",\"line_dash\":[6],\"x\":{\"field\":\"x\"},\"y\":{\"field\":\"kde_values\"}},\"id\":\"787971\",\"type\":\"Line\"},{\"attributes\":{},\"id\":\"787967\",\"type\":\"Selection\"},{\"attributes\":{},\"id\":\"787561\",\"type\":\"ResetTool\"},{\"attributes\":{},\"id\":\"787557\",\"type\":\"CrosshairTool\"},{\"attributes\":{\"source\":{\"id\":\"787767\"}},\"id\":\"787797\",\"type\":\"CDSView\"},{\"attributes\":{},\"id\":\"787558\",\"type\":\"SaveTool\"},{\"attributes\":{\"bottom_units\":\"screen\",\"coordinates\":null,\"fill_alpha\":0.5,\"fill_color\":\"lightgrey\",\"group\":null,\"left_units\":\"screen\",\"level\":\"overlay\",\"line_alpha\":1.0,\"line_color\":\"black\",\"line_dash\":[4,4],\"line_width\":2,\"right_units\":\"screen\",\"syncable\":false,\"top_units\":\"screen\"},\"id\":\"787563\",\"type\":\"BoxAnnotation\"},{\"attributes\":{\"fill_alpha\":{\"value\":0.9},\"fill_color\":{\"value\":\"#d02c91\"},\"hatch_alpha\":{\"value\":0.9},\"line_alpha\":{\"value\":0.9},\"size\":{\"value\":20},\"x\":{\"field\":\"x\"},\"y\":{\"field\":\"y\"}},\"id\":\"787945\",\"type\":\"Scatter\"},{\"attributes\":{\"fill_alpha\":{\"value\":0.9},\"fill_color\":{\"value\":\"#1a9641\"},\"hatch_alpha\":{\"value\":0.9},\"line_alpha\":{\"value\":0.9},\"size\":{\"value\":20},\"x\":{\"field\":\"x\"},\"y\":{\"field\":\"y\"}},\"id\":\"787990\",\"type\":\"Scatter\"},{\"attributes\":{},\"id\":\"787562\",\"type\":\"WheelZoomTool\"},{\"attributes\":{\"click_policy\":\"mute\",\"coordinates\":null,\"group\":null,\"items\":[{\"id\":\"787644\"},{\"id\":\"787689\"},{\"id\":\"787738\"},{\"id\":\"787791\"}],\"location\":\"top_left\"},\"id\":\"787643\",\"type\":\"Legend\"},{\"attributes\":{\"fill_alpha\":0.1,\"fill_color\":\"#a6d96a\",\"hatch_alpha\":{\"value\":0.1},\"hatch_color\":{\"value\":\"#a6d96a\"},\"x\":{\"field\":\"x\"},\"y1\":{\"value\":0},\"y2\":{\"field\":\"kde_values\"}},\"id\":\"787673\",\"type\":\"VArea\"},{\"attributes\":{\"label\":{\"value\":\"RD1, CTRL, EC0\"},\"renderers\":[{\"id\":\"787913\"},{\"id\":\"787931\"}]},\"id\":\"787926\",\"type\":\"LegendItem\"},{\"attributes\":{},\"id\":\"787554\",\"type\":\"BasicTicker\"},{\"attributes\":{\"data\":{\"cell_ID\":{\"__ndarray__\":\"sQEAAIkBAAAWAgAAMgAAAL0CAACTAgAAmwMAABsGAABXCAAAlgkAAGMBAABhAgAAgAIAAC0CAAAgAQAAQAEAADABAACnAAAAtgAAANAAAACeAgAAwAUAAPcHAAAWCQAAxgkAAGsAAAAtAAAAlwAAACkEAABBBgAA9QEAAI8CAAAiAgAAKQIAAFACAAAsAQAA9wMAAIoFAACDBwAAvwcAAMYKAAA=\",\"dtype\":\"int32\",\"order\":\"little\",\"shape\":[41]},\"compound\":[\"CTRL\",\"CTRL\",\"CTRL\",\"CTRL\",\"CTRL\",\"CTRL\",\"CTRL\",\"CTRL\",\"CTRL\",\"CTRL\",\"CTRL\",\"CTRL\",\"CTRL\",\"CTRL\",\"CTRL\",\"CTRL\",\"CTRL\",\"CTRL\",\"CTRL\",\"CTRL\",\"CTRL\",\"CTRL\",\"CTRL\",\"CTRL\",\"CTRL\",\"CTRL\",\"CTRL\",\"CTRL\",\"CTRL\",\"CTRL\",\"CTRL\",\"CTRL\",\"CTRL\",\"CTRL\",\"CTRL\",\"CTRL\",\"CTRL\",\"CTRL\",\"CTRL\",\"CTRL\",\"CTRL\"],\"concentration\":[\"EC0\",\"EC0\",\"EC0\",\"EC0\",\"EC0\",\"EC0\",\"EC0\",\"EC0\",\"EC0\",\"EC0\",\"EC0\",\"EC0\",\"EC0\",\"EC0\",\"EC0\",\"EC0\",\"EC0\",\"EC0\",\"EC0\",\"EC0\",\"EC0\",\"EC0\",\"EC0\",\"EC0\",\"EC0\",\"EC0\",\"EC0\",\"EC0\",\"EC0\",\"EC0\",\"EC0\",\"EC0\",\"EC0\",\"EC0\",\"EC0\",\"EC0\",\"EC0\",\"EC0\",\"EC0\",\"EC0\",\"EC0\"],\"dMtb\":{\"__ndarray__\":\"IKzr+SNhuD/TSBZl37nhP9OTA8z00as/yZodXESOuz958F0iFzjCv/v3r8XkSM8/+V76Yljhyj8dWZEnw627v/23Rcfott0/FtckYrROxL8sBGZ7NMHGv9UiPQu38rC/skdp7cQM5b/gNFEXzO3RPwZLjCDv87o/aUsi6y6ruz9PLf5lL6/KP1ve9tblF7A/4DVW8ojJxz8ZwZ3JRCbHPyB1ecfiv9O/FcFfBaYQxj9gGox89Eu7v78oZ3+ZKao/bI4udva6yL8BEEpLUk/Ev8+Ffq8SU+I//o6H00a02z9ZHXB+YFu5PxsCfk8W4cs/KfjfdxbNrD+ZoIuXyGi2v0GwYYziDa4/kK2KWasAw7+/Lutk8HziP3Bi1+StIqm/x+hjW/dHzT/glh5O/eevP9F6LKUGO6m/DrU7FLa3sD8uzZLZrT69Pw==\",\"dtype\":\"float64\",\"order\":\"little\",\"shape\":[41]},\"glimpse_url_t0\":[\"https://macrohet.s3.eu-west-2.amazonaws.com/dMtb/dMtb_glimpses/glimpse_433.3.4_t0.png\",\"https://macrohet.s3.eu-west-2.amazonaws.com/dMtb/dMtb_glimpses/glimpse_393.3.4_t0.png\",\"https://macrohet.s3.eu-west-2.amazonaws.com/dMtb/dMtb_glimpses/glimpse_534.3.4_t0.png\",\"https://macrohet.s3.eu-west-2.amazonaws.com/dMtb/dMtb_glimpses/glimpse_50.3.4_t0.png\",\"https://macrohet.s3.eu-west-2.amazonaws.com/dMtb/dMtb_glimpses/glimpse_701.3.4_t1.png\",\"https://macrohet.s3.eu-west-2.amazonaws.com/dMtb/dMtb_glimpses/glimpse_659.3.4_t1.png\",\"https://macrohet.s3.eu-west-2.amazonaws.com/dMtb/dMtb_glimpses/glimpse_923.3.4_t4.png\",\"https://macrohet.s3.eu-west-2.amazonaws.com/dMtb/dMtb_glimpses/glimpse_1563.3.4_t15.png\",\"https://macrohet.s3.eu-west-2.amazonaws.com/dMtb/dMtb_glimpses/glimpse_2135.3.4_t26.png\",\"https://macrohet.s3.eu-west-2.amazonaws.com/dMtb/dMtb_glimpses/glimpse_2454.3.4_t32.png\",\"https://macrohet.s3.eu-west-2.amazonaws.com/dMtb/dMtb_glimpses/glimpse_355.4.4_t0.png\",\"https://macrohet.s3.eu-west-2.amazonaws.com/dMtb/dMtb_glimpses/glimpse_609.4.4_t0.png\",\"https://macrohet.s3.eu-west-2.amazonaws.com/dMtb/dMtb_glimpses/glimpse_640.4.4_t0.png\",\"https://macrohet.s3.eu-west-2.amazonaws.com/dMtb/dMtb_glimpses/glimpse_557.4.4_t0.png\",\"https://macrohet.s3.eu-west-2.amazonaws.com/dMtb/dMtb_glimpses/glimpse_288.4.4_t0.png\",\"https://macrohet.s3.eu-west-2.amazonaws.com/dMtb/dMtb_glimpses/glimpse_320.4.4_t0.png\",\"https://macrohet.s3.eu-west-2.amazonaws.com/dMtb/dMtb_glimpses/glimpse_304.4.4_t0.png\",\"https://macrohet.s3.eu-west-2.amazonaws.com/dMtb/dMtb_glimpses/glimpse_167.4.4_t0.png\",\"https://macrohet.s3.eu-west-2.amazonaws.com/dMtb/dMtb_glimpses/glimpse_182.4.4_t0.png\",\"https://macrohet.s3.eu-west-2.amazonaws.com/dMtb/dMtb_glimpses/glimpse_208.4.4_t0.png\",\"https://macrohet.s3.eu-west-2.amazonaws.com/dMtb/dMtb_glimpses/glimpse_670.4.4_t1.png\",\"https://macrohet.s3.eu-west-2.amazonaws.com/dMtb/dMtb_glimpses/glimpse_1472.4.4_t12.png\",\"https://macrohet.s3.eu-west-2.amazonaws.com/dMtb/dMtb_glimpses/glimpse_2039.4.4_t22.png\",\"https://macrohet.s3.eu-west-2.amazonaws.com/dMtb/dMtb_glimpses/glimpse_2326.4.4_t27.png\",\"https://macrohet.s3.eu-west-2.amazonaws.com/dMtb/dMtb_glimpses/glimpse_2502.4.4_t30.png\",\"https://macrohet.s3.eu-west-2.amazonaws.com/dMtb/dMtb_glimpses/glimpse_107.5.4_t0.png\",\"https://macrohet.s3.eu-west-2.amazonaws.com/dMtb/dMtb_glimpses/glimpse_45.5.4_t0.png\",\"https://macrohet.s3.eu-west-2.amazonaws.com/dMtb/dMtb_glimpses/glimpse_151.5.4_t0.png\",\"https://macrohet.s3.eu-west-2.amazonaws.com/dMtb/dMtb_glimpses/glimpse_1065.5.4_t9.png\",\"https://macrohet.s3.eu-west-2.amazonaws.com/dMtb/dMtb_glimpses/glimpse_1601.5.4_t20.png\",\"https://macrohet.s3.eu-west-2.amazonaws.com/dMtb/dMtb_glimpses/glimpse_501.6.4_t0.png\",\"https://macrohet.s3.eu-west-2.amazonaws.com/dMtb/dMtb_glimpses/glimpse_655.6.4_t0.png\",\"https://macrohet.s3.eu-west-2.amazonaws.com/dMtb/dMtb_glimpses/glimpse_546.6.4_t0.png\",\"https://macrohet.s3.eu-west-2.amazonaws.com/dMtb/dMtb_glimpses/glimpse_553.6.4_t0.png\",\"https://macrohet.s3.eu-west-2.amazonaws.com/dMtb/dMtb_glimpses/glimpse_592.6.4_t0.png\",\"https://macrohet.s3.eu-west-2.amazonaws.com/dMtb/dMtb_glimpses/glimpse_300.6.4_t0.png\",\"https://macrohet.s3.eu-west-2.amazonaws.com/dMtb/dMtb_glimpses/glimpse_1015.6.4_t4.png\",\"https://macrohet.s3.eu-west-2.amazonaws.com/dMtb/dMtb_glimpses/glimpse_1418.6.4_t9.png\",\"https://macrohet.s3.eu-west-2.amazonaws.com/dMtb/dMtb_glimpses/glimpse_1923.6.4_t17.png\",\"https://macrohet.s3.eu-west-2.amazonaws.com/dMtb/dMtb_glimpses/glimpse_1983.6.4_t18.png\",\"https://macrohet.s3.eu-west-2.amazonaws.com/dMtb/dMtb_glimpses/glimpse_2758.6.4_t31.png\"],\"glimpse_url_tn\":[\"https://macrohet.s3.eu-west-2.amazonaws.com/dMtb/dMtb_glimpses/glimpse_433.3.4_t-1.png\",\"https://macrohet.s3.eu-west-2.amazonaws.com/dMtb/dMtb_glimpses/glimpse_393.3.4_t-1.png\",\"https://macrohet.s3.eu-west-2.amazonaws.com/dMtb/dMtb_glimpses/glimpse_534.3.4_t-1.png\",\"https://macrohet.s3.eu-west-2.amazonaws.com/dMtb/dMtb_glimpses/glimpse_50.3.4_t-1.png\",\"https://macrohet.s3.eu-west-2.amazonaws.com/dMtb/dMtb_glimpses/glimpse_701.3.4_t-1.png\",\"https://macrohet.s3.eu-west-2.amazonaws.com/dMtb/dMtb_glimpses/glimpse_659.3.4_t-1.png\",\"https://macrohet.s3.eu-west-2.amazonaws.com/dMtb/dMtb_glimpses/glimpse_923.3.4_t-1.png\",\"https://macrohet.s3.eu-west-2.amazonaws.com/dMtb/dMtb_glimpses/glimpse_1563.3.4_t-1.png\",\"https://macrohet.s3.eu-west-2.amazonaws.com/dMtb/dMtb_glimpses/glimpse_2135.3.4_t-1.png\",\"https://macrohet.s3.eu-west-2.amazonaws.com/dMtb/dMtb_glimpses/glimpse_2454.3.4_t-1.png\",\"https://macrohet.s3.eu-west-2.amazonaws.com/dMtb/dMtb_glimpses/glimpse_355.4.4_t-1.png\",\"https://macrohet.s3.eu-west-2.amazonaws.com/dMtb/dMtb_glimpses/glimpse_609.4.4_t-1.png\",\"https://macrohet.s3.eu-west-2.amazonaws.com/dMtb/dMtb_glimpses/glimpse_640.4.4_t-1.png\",\"https://macrohet.s3.eu-west-2.amazonaws.com/dMtb/dMtb_glimpses/glimpse_557.4.4_t-1.png\",\"https://macrohet.s3.eu-west-2.amazonaws.com/dMtb/dMtb_glimpses/glimpse_288.4.4_t-1.png\",\"https://macrohet.s3.eu-west-2.amazonaws.com/dMtb/dMtb_glimpses/glimpse_320.4.4_t-1.png\",\"https://macrohet.s3.eu-west-2.amazonaws.com/dMtb/dMtb_glimpses/glimpse_304.4.4_t-1.png\",\"https://macrohet.s3.eu-west-2.amazonaws.com/dMtb/dMtb_glimpses/glimpse_167.4.4_t-1.png\",\"https://macrohet.s3.eu-west-2.amazonaws.com/dMtb/dMtb_glimpses/glimpse_182.4.4_t-1.png\",\"https://macrohet.s3.eu-west-2.amazonaws.com/dMtb/dMtb_glimpses/glimpse_208.4.4_t-1.png\",\"https://macrohet.s3.eu-west-2.amazonaws.com/dMtb/dMtb_glimpses/glimpse_670.4.4_t-1.png\",\"https://macrohet.s3.eu-west-2.amazonaws.com/dMtb/dMtb_glimpses/glimpse_1472.4.4_t-1.png\",\"https://macrohet.s3.eu-west-2.amazonaws.com/dMtb/dMtb_glimpses/glimpse_2039.4.4_t-1.png\",\"https://macrohet.s3.eu-west-2.amazonaws.com/dMtb/dMtb_glimpses/glimpse_2326.4.4_t-1.png\",\"https://macrohet.s3.eu-west-2.amazonaws.com/dMtb/dMtb_glimpses/glimpse_2502.4.4_t-1.png\",\"https://macrohet.s3.eu-west-2.amazonaws.com/dMtb/dMtb_glimpses/glimpse_107.5.4_t-1.png\",\"https://macrohet.s3.eu-west-2.amazonaws.com/dMtb/dMtb_glimpses/glimpse_45.5.4_t-1.png\",\"https://macrohet.s3.eu-west-2.amazonaws.com/dMtb/dMtb_glimpses/glimpse_151.5.4_t-1.png\",\"https://macrohet.s3.eu-west-2.amazonaws.com/dMtb/dMtb_glimpses/glimpse_1065.5.4_t-1.png\",\"https://macrohet.s3.eu-west-2.amazonaws.com/dMtb/dMtb_glimpses/glimpse_1601.5.4_t-1.png\",\"https://macrohet.s3.eu-west-2.amazonaws.com/dMtb/dMtb_glimpses/glimpse_501.6.4_t-1.png\",\"https://macrohet.s3.eu-west-2.amazonaws.com/dMtb/dMtb_glimpses/glimpse_655.6.4_t-1.png\",\"https://macrohet.s3.eu-west-2.amazonaws.com/dMtb/dMtb_glimpses/glimpse_546.6.4_t-1.png\",\"https://macrohet.s3.eu-west-2.amazonaws.com/dMtb/dMtb_glimpses/glimpse_553.6.4_t-1.png\",\"https://macrohet.s3.eu-west-2.amazonaws.com/dMtb/dMtb_glimpses/glimpse_592.6.4_t-1.png\",\"https://macrohet.s3.eu-west-2.amazonaws.com/dMtb/dMtb_glimpses/glimpse_300.6.4_t-1.png\",\"https://macrohet.s3.eu-west-2.amazonaws.com/dMtb/dMtb_glimpses/glimpse_1015.6.4_t-1.png\",\"https://macrohet.s3.eu-west-2.amazonaws.com/dMtb/dMtb_glimpses/glimpse_1418.6.4_t-1.png\",\"https://macrohet.s3.eu-west-2.amazonaws.com/dMtb/dMtb_glimpses/glimpse_1923.6.4_t-1.png\",\"https://macrohet.s3.eu-west-2.amazonaws.com/dMtb/dMtb_glimpses/glimpse_1983.6.4_t-1.png\",\"https://macrohet.s3.eu-west-2.amazonaws.com/dMtb/dMtb_glimpses/glimpse_2758.6.4_t-1.png\"],\"strain\":[\"RD1\",\"RD1\",\"RD1\",\"RD1\",\"RD1\",\"RD1\",\"RD1\",\"RD1\",\"RD1\",\"RD1\",\"RD1\",\"RD1\",\"RD1\",\"RD1\",\"RD1\",\"RD1\",\"RD1\",\"RD1\",\"RD1\",\"RD1\",\"RD1\",\"RD1\",\"RD1\",\"RD1\",\"RD1\",\"RD1\",\"RD1\",\"RD1\",\"RD1\",\"RD1\",\"RD1\",\"RD1\",\"RD1\",\"RD1\",\"RD1\",\"RD1\",\"RD1\",\"RD1\",\"RD1\",\"RD1\",\"RD1\"],\"tech_rep\":[1,1,1,1,1,1,1,1,1,1,2,2,2,2,2,2,2,2,2,2,2,2,2,2,2,1,1,1,1,1,2,2,2,2,2,2,2,2,2,2,2],\"x\":{\"__ndarray__\":\"IKzr+SNhuD/TSBZl37nhP9OTA8z00as/yZodXESOuz958F0iFzjCv/v3r8XkSM8/+V76Yljhyj8dWZEnw627v/23Rcfott0/FtckYrROxL8sBGZ7NMHGv9UiPQu38rC/skdp7cQM5b/gNFEXzO3RPwZLjCDv87o/aUsi6y6ruz9PLf5lL6/KP1ve9tblF7A/4DVW8ojJxz8ZwZ3JRCbHPyB1ecfiv9O/FcFfBaYQxj9gGox89Eu7v78oZ3+ZKao/bI4udva6yL8BEEpLUk/Ev8+Ffq8SU+I//o6H00a02z9ZHXB+YFu5PxsCfk8W4cs/KfjfdxbNrD+ZoIuXyGi2v0GwYYziDa4/kK2KWasAw7+/Lutk8HziP3Bi1+StIqm/x+hjW/dHzT/glh5O/eevP9F6LKUGO6m/DrU7FLa3sD8uzZLZrT69Pw==\",\"dtype\":\"float64\",\"order\":\"little\",\"shape\":[41]},\"y\":{\"__ndarray__\":\"AAAAAAAAAACCHf8FggB5P8pqup7oupA/UP2DSIYcmz/wUBToE3miP/K20muzsaI/sg+yLJj4oz9v2LYos0GmP+I+cmvSbak/cZLmj2ltqj/XFp6Xio3XP5sDBHP0+Nc/w7ewbrw72D+R8SiV8ITYP6ryPSMRGtk/3/3xXrUy2T8uy9dl+E/ZP28MAcCxZ9k/NUWA07t42T8XoG0164zZPw2poniVtdk/Os0C7Q4p2j9vufqxSX7aP1cFajF4mNo/ouvCD86n2j/TE5Z4QNnnP2sPe6GA7ec/WUxsPq4N6D/7dhIR/kXoP3XMeca+ZOg/j4zV5v/V8D8BhuXPtwXxP0sjZvZ5DPE/3bHYJhUN8T8hzO1e7hPxP2jnNAu0O/E/c0hqoWRy8T9Fn48y4oLxP5AwDFhylfE/gbIpV3iX8T94JjRJLKnxPw==\",\"dtype\":\"float64\",\"order\":\"little\",\"shape\":[41]}},\"name\":\"RD1, CTRL, EC0\",\"selected\":{\"id\":\"788082\"},\"selection_policy\":{\"id\":\"788081\"}},\"id\":\"787943\",\"type\":\"ColumnDataSource\"},{\"attributes\":{\"label\":{\"value\":\"WT, CTRL, EC0\"},\"renderers\":[{\"id\":\"787955\"},{\"id\":\"787974\"}]},\"id\":\"787969\",\"type\":\"LegendItem\"},{\"attributes\":{\"line_color\":\"#1a9641\",\"line_width\":3,\"x\":{\"field\":\"x\"},\"y\":{\"field\":\"kde_values\"}},\"id\":\"787646\",\"type\":\"Line\"},{\"attributes\":{\"source\":{\"id\":\"787533\"}},\"id\":\"787539\",\"type\":\"CDSView\"},{\"attributes\":{},\"id\":\"787966\",\"type\":\"UnionRenderers\"},{\"attributes\":{\"below\":[{\"id\":\"787315\"}],\"center\":[{\"id\":\"787318\"},{\"id\":\"787322\"}],\"height\":200,\"left\":[{\"id\":\"787319\"}],\"renderers\":[{\"id\":\"787391\"},{\"id\":\"787436\"},{\"id\":\"787485\"},{\"id\":\"787538\"}],\"title\":{\"id\":\"787341\"},\"toolbar\":{\"id\":\"787330\"},\"toolbar_location\":null,\"width\":500,\"x_range\":{\"id\":\"787306\"},\"x_scale\":{\"id\":\"787311\"},\"y_range\":{\"id\":\"787309\"},\"y_scale\":{\"id\":\"787313\"}},\"id\":\"787307\",\"subtype\":\"Figure\",\"type\":\"Plot\"},{\"attributes\":{\"line_color\":\"#1a9641\",\"line_width\":3,\"x\":{\"field\":\"x\"},\"y\":{\"field\":\"kde_values\"}},\"id\":\"787371\",\"type\":\"Line\"},{\"attributes\":{\"coordinates\":null,\"data_source\":{\"id\":\"787533\"},\"glyph\":{\"id\":\"787535\"},\"group\":null,\"hover_glyph\":null,\"muted_glyph\":{\"id\":\"787537\"},\"nonselection_glyph\":{\"id\":\"787536\"},\"view\":{\"id\":\"787539\"}},\"id\":\"787538\",\"type\":\"GlyphRenderer\"},{\"attributes\":{\"active_scroll\":{\"id\":\"787562\"},\"tools\":[{\"id\":\"787557\"},{\"id\":\"787558\"},{\"id\":\"787559\"},{\"id\":\"787560\"},{\"id\":\"787561\"},{\"id\":\"787562\"}]},\"id\":\"787564\",\"type\":\"Toolbar\"},{\"attributes\":{},\"id\":\"787559\",\"type\":\"PanTool\"},{\"attributes\":{\"active_scroll\":{\"id\":\"787846\"},\"tools\":[{\"id\":\"787841\"},{\"id\":\"787842\"},{\"id\":\"787843\"},{\"id\":\"787844\"},{\"id\":\"787845\"},{\"id\":\"787846\"}]},\"id\":\"787848\",\"type\":\"Toolbar\"},{\"attributes\":{\"fill_alpha\":0.1,\"fill_color\":\"#f1b6da\",\"hatch_alpha\":{\"value\":0.1},\"hatch_color\":{\"value\":\"#f1b6da\"},\"x\":{\"field\":\"x\"},\"y1\":{\"value\":0},\"y2\":{\"field\":\"kde_values\"}},\"id\":\"787442\",\"type\":\"VArea\"},{\"attributes\":{\"fill_alpha\":{\"value\":0.1},\"fill_color\":{\"value\":\"#d02c91\"},\"hatch_alpha\":{\"value\":0.1},\"hatch_color\":{\"value\":\"#d02c91\"},\"line_alpha\":{\"value\":0.1},\"size\":{\"value\":20},\"x\":{\"field\":\"x\"},\"y\":{\"field\":\"y\"}},\"id\":\"787536\",\"type\":\"Scatter\"},{\"attributes\":{\"overlay\":{\"id\":\"787563\"}},\"id\":\"787560\",\"type\":\"BoxZoomTool\"},{\"attributes\":{\"callback\":null,\"tooltips\":\" <div>\\n        <div style=\\\"position: relative; display: inline-block;\\\">\\n            <img\\n                src=\\\"@glimpse_url_t0\\\" height=\\\"120\\\" alt=\\\"@glimpse_url_t0\\\" width=\\\"120\\\"\\n                style=\\\"float: left; margin: 0px 15px 15px 0px;\\\"\\n                border=\\\"2\\\"\\n            >\\n            <div style=\\\"position: absolute; bottom: 5px; right: 5px; background-color: lightgrey; padding: 5px;\\\">\\n                <span style=\\\"font-size: 12px; color: black;\\\">t = 0</span>\\n            </div>\\n            </img>\\n        </div>\\n        <div style=\\\"position: relative; display: inline-block;\\\">\\n            <img\\n                src=\\\"@glimpse_url_tn\\\" height=\\\"120\\\" alt=\\\"@glimpse_url_tn\\\" width=\\\"120\\\"\\n                style=\\\"float: left; margin: 0px 15px 15px 0px;\\\"\\n                border=\\\"2\\\"\\n            >\\n            <div style=\\\"position: absolute; bottom: 5px; right: 5px; background-color: lightgrey; padding: 5px;\\\">\\n                <span style=\\\"font-size: 12px; color: black;\\\">t = final</span>\\n            </div>\\n            </img>\\n        </div>\\n        <div>\\n             <span style=\\\"font-size: 17px; font-weight: bold; color: black;\\\">Cell ID: @cell_ID</span>\\n         </div>\\n         <div>\\n             <span style=\\\"font-size: 15px; color: black;\\\">\\u0394Mtb: @x</span>\\n         </div>\\n         <div>\\n             <span style=\\\"font-size: 15px; color: black;\\\">Strain: @strain</span>\\n         </div>\\n         <div>\\n             <span style=\\\"font-size: 15px; color: black;\\\">Compound: @compound</span>\\n         </div>\\n         <div>\\n             <span style=\\\"font-size: 15px; color: black;\\\">Concentration: @concentration</span>\\n         </div>\\n         <div>\\n             <span style=\\\"font-size: 15px; color: black;\\\">Tech. replicate: @tech_rep</span>\\n         </div>\\n    </div>\\n\"},\"id\":\"787349\",\"type\":\"HoverTool\"},{\"attributes\":{\"fill_alpha\":0.6,\"fill_color\":\"#1a9641\",\"hatch_alpha\":{\"value\":0.6},\"x\":{\"field\":\"x\"},\"y1\":{\"value\":0},\"y2\":{\"field\":\"kde_values\"}},\"id\":\"787627\",\"type\":\"VArea\"},{\"attributes\":{\"source\":{\"id\":\"787625\"}},\"id\":\"787631\",\"type\":\"CDSView\"},{\"attributes\":{\"fill_alpha\":0.1,\"fill_color\":\"#a6d96a\",\"hatch_alpha\":{\"value\":0.1},\"x\":{\"field\":\"x\"},\"y1\":{\"value\":0},\"y2\":{\"field\":\"kde_values\"}},\"id\":\"787672\",\"type\":\"VArea\"},{\"attributes\":{\"coordinates\":null,\"data_source\":{\"id\":\"787767\"},\"glyph\":{\"id\":\"787793\"},\"group\":null,\"hover_glyph\":null,\"muted_glyph\":{\"id\":\"787795\"},\"nonselection_glyph\":{\"id\":\"787794\"},\"view\":{\"id\":\"787797\"}},\"id\":\"787796\",\"type\":\"GlyphRenderer\"},{\"attributes\":{\"fill_alpha\":0.6,\"fill_color\":\"#1a9641\",\"hatch_alpha\":{\"value\":0.6},\"x\":{\"field\":\"x\"},\"y1\":{\"value\":0},\"y2\":{\"field\":\"kde_values\"}},\"id\":\"787353\",\"type\":\"VArea\"},{\"attributes\":{\"format\":\"0\"},\"id\":\"787339\",\"type\":\"NumeralTickFormatter\"},{\"attributes\":{\"line_alpha\":0.1,\"line_color\":\"#d02c91\",\"line_width\":3,\"x\":{\"field\":\"x\"},\"y\":{\"field\":\"kde_values\"}},\"id\":\"787795\",\"type\":\"Line\"},{\"attributes\":{},\"id\":\"787867\",\"type\":\"DataRange1d\"},{\"attributes\":{\"line_alpha\":0.1,\"line_color\":\"#d02c91\",\"line_width\":3,\"x\":{\"field\":\"x\"},\"y\":{\"field\":\"kde_values\"}},\"id\":\"787794\",\"type\":\"Line\"},{\"attributes\":{\"data\":{\"kde_values\":{\"__ndarray__\":\"54mrMRTPhz//nLiq6kl5P0hr/YWnTU4/DcXrurd7BD/uilGEfT2fPkL7i21m4Bo+3etmBQsWej192jfhZ5C8PO7ImqSnpOE7Aq2WKsKW6DrjkJSLplTTOUTPfX9pPqE42UYJ+N/5ZznpI0eqfqKJOrnP3KsZBo872YahPrNEdTx7TsoLDYpAPQxC89HBOu09m3IhEfdqfT7SYw6h0+nwPi8O+rupTkY/8sr5TcXzgD/ibYVktNedP160ILhIkp4/11VoMuFKgj+WB5yq0sxJP8GXy7a0QDE/ZwSsdO+7aD8g3pv7m26IP4bFfkCU/Zg/oJ+4gZDBsT9PswQ/QufkP3KA9Kwg3xFAv/GSCcTRI0Bqy5xiuiUaQIVE184/GvY/CBXwPzCLyD+Ra6gIE6ezPzNDM3LN0ac/IybiCpDxkz+zMkvc/PCYP1v/Lys/GqI/wM3L8bJGlz/6o4yrT1uRP408QhrXk5g/AOcNRBuyoj/AMYGYpr+gPzBGwVqRKpU/F9dmZdO3iT+AeV7A9AJwP9bhN+d5Djk/oGFW3QZw5j5scfQX07V2Ps1Mlt9d8Ok9bd/ajWm2QD3yPTri3Et4PILECEWk7JM7jN/LhPBukjpKW77BYD1zOXK2FGHDpzY4EOGaurYY3jYI4O4bn41mNRrdX7cTEdMzZPZHq2ovIjJt7jawTJFTMCei0KTxwGcuWZ7Kkf9DYCyjH1qYnyE5Knacw/gz5/UnE01Djk+JlSV+YiYv0OMXI/Wsn4Cz5X0gm1NNOv4axR31QfDtVFEiH1Mm0Dt3tcshHs2cwbukVyT0tsyjqsLGJnoX2wb4txgpsoIEMUFJTiudXs01k+5kLUclKHA1UmAvk+6H+tS2PDFTnhhhDX/8MpfcHGKg55804shIwVMmJDa/dfTBrbaMN7sah9qxFNc45XFKB1ruBDr+XY/hF2oVO3leGL2Stwg8TUy0X8YX4DxGU+SWOqSXPagwZCVelzM+EECfdtlQsj7SmTZgiVETPx3HjvmR/lY/PW/I2Z0Efz+KTjZ4zkKJP2CeQL4moIY/ZnABUOoCiT8=\",\"dtype\":\"float64\",\"order\":\"little\",\"shape\":[100]},\"x\":{\"__ndarray__\":\"EwPBtExM9r/SoD1YCqD1v5I+uvvH8/S/Udw2n4VH9L8RerNCQ5vzv9AXMOYA7/K/kLWsib5C8r9PUyktfJbxvw7xpdA56vC/zo4idPc98L8bWT4vaiPvv5qUN3blyu2/GNAwvWBy7L+XCyoE3BnrvxZHI0tXwem/lYIcktJo6L8UvhXZTRDnv5P5DiDJt+W/EjUIZ0Rf5L+RcAGuvwbjvxCs+vQ6ruG/jufzO7ZV4L8aRtoFY/rdvxi9zJNZSdu/FDS/IVCY2L8Uq7GvRufVvxAipD09NtO/EJmWyzOF0L8YIBKzVKjLvxgO985BRsa/EPzb6i7kwL8g1IENOAS3vyBgl4okgKi/AMBY0ce+d78AMEGWcpCiPxC8VhNfDLQ/EOCM24TQvj8QguFRVcrEPxCU/DVoLMo/GKYXGnuOzz8MXBn/RnjSPxDlJnFQKdU/FG4041na1z8U90FVY4vaPxiAT8dsPN0/GAldOXbt3z8OSbXVP0/hP44NvI7Ep+I/EtLCR0kA5D+SlskAzljlPxJb0LlSseY/kh/XctcJ6D8W5N0rXGLpP5ao5OTguuo/Fm3rnWUT7D+WMfJW6mvtPxr2+A9vxO4/Td1/5HkO8D+NPwNBvLrwP8+hhp3+ZvE/DwQK+kAT8j9PZo1Wg7/yP4/IELPFa/M/0SqUDwgY9D8RjRdsSsT0P1HvmsiMcPU/k1EeJc8c9j/Ts6GBEcn2PxMWJd5Tdfc/U3ioOpYh+D+V2iuX2M34P9U8r/Maevk/FZ8yUF0m+j9XAbasn9L6P5djOQnifvs/18W8ZSQr/D8XKEDCZtf8P1mKwx6pg/0/mexGe+sv/j/ZTsrXLdz+PxmxTTRwiP8/roloSFkaAEDOOqp2enAAQO7r66SbxgBADp0t07wcAUAuTm8B3nIBQE7/sC//yAFAbrDyXSAfAkCQYTSMQXUCQLASdrpiywJA0MO36IMhA0DwdPkWpXcDQBAmO0XGzQNAMNd8c+cjBEBQiL6hCHoEQHI5ANAp0ARAkupB/komBUCym4MsbHwFQNJMxVqN0gVA8/0Gia4oBkA=\",\"dtype\":\"float64\",\"order\":\"little\",\"shape\":[100]}},\"selected\":{\"id\":\"787457\"},\"selection_policy\":{\"id\":\"787456\"}},\"id\":\"787438\",\"type\":\"ColumnDataSource\"},{\"attributes\":{\"fill_alpha\":0.6,\"fill_color\":\"#a6d96a\",\"hatch_alpha\":{\"value\":0.6},\"x\":{\"field\":\"x\"},\"y1\":{\"value\":0},\"y2\":{\"field\":\"kde_values\"}},\"id\":\"787395\",\"type\":\"VArea\"},{\"attributes\":{\"data\":{\"kde_values\":{\"__ndarray__\":\"WMVzI8njrD/okCQTka+qP1IVb6v2c5U/gQmQFW7tbD/HX87zvVkvP4DglWtefdo+pvFkguImcT7e7Q1bU7r0PVyrFHJXqFM+rQKD2+Djwj5NAkdxGF4bP6QKD1tY410/iF7vP+2biD8TAeFjXqaeP7lNl6k+hp4/j9Lu3JO3lj9Bd8kl3Q+gP7i+0CMoUZw/1GVn7CuLgz+PTg8O/WBUPwipXGVH9RA/HigjEG7oJj8CGDRGhxZqPwC4VXH8pZY/1r0BppIRrj/+kX31DYywP4hkS7ZWm6c/CfhUU8faoT9EXk7dyRiQP7VeqlSViWc/YhLRh4vnNT/bnaYJTBxmP38RbQSag5Y/xZZK3GOBtT+nu1W5UZTSP+0VimKudwBAKWnY+Fu4JUBtdNZEtGM4QD/MYJ4QmjVAS2FTl4whH0BN4r9uI0X4PyWQlvgS9d8/rQbJYzEz2D9JUpUDUMXTP1i04ZS5Hc0/EFMvf5bZxT86rJyEdonCP1RGkquXjr4/8KBD7DdTrD9YN0MlE8qGP//Jx3UafE0/HT27kPbE/T7RBDxq+RyXPuLIOBsFYhs+nVUq1ZqkiD0pqbTD8ZzkPL4t/MJoomg9Wplmvm4F/j0cqtBVHJR7PoeTPTTnGOM+yoRPJdrvMz+ZIC0k4mBvP9B051kYnZI/lY28wXWloD/lT6oRjnGWP0aXdnpUz3Y/fyqiNeSFQT/d3iCb99UbPw0wDYXauV8/HP7H5cGukD8RnzXbgIWqP638nyba7a8/OfM5o70ynz9dS/JjFcOSP2SPLn59258/92WCP4sqmz+LoTxTXKGBP4CBmb8YQVE/wEAqFj51CT9OcykPflCsPiDDxGT8vDc+PFx9u/UArj0NMCGXHpYMPaYsgiDRh1Q8V8pS47k6hjtWSDlWoySiOoBLXzgWU6Y51e/Ig1gcSjlAwB3qVsFNOlTE+BPzkTk7NwhyJVKQEDy5f6paDy3QPOgGU37t0Hc9owWw04xuCj5/PCcS1RyGPgLEiF+z4+s+PbLEduqDOj+S9i7AoABzP1AvDvbth5Q/hoSvcZ24oD8=\",\"dtype\":\"float64\",\"order\":\"little\",\"shape\":[100]},\"x\":{\"__ndarray__\":\"slDr1N214L8A/4PjUkPgv5taOeSPod+/NrdqAXq83r/RE5weZNfdv2xwzTtO8ty/CM3+WDgN3L+jKTB2Iijbvz6GYZMMQ9q/2uKSsPZd2b91P8TN4HjYvxCc9erKk9e/rPgmCLWu1r9HVVgln8nVv+KxiUKJ5NS/fg67X3P/078Za+x8XRrTv7THHZpHNdK/UCRPtzFQ0b/rgIDUG2vQvwy7Y+MLDM+/RHTGHeBBzb96LSlYtHfLv7Dmi5KIrcm/6J/uzFzjx78eWVEHMRnGv1QStEEFT8S/issWfNmEwr/ChHm2rbrAv/B7uOED4b2/XO59VqxMur/MYEPLVLi2vzjTCED9I7O/SIucaUsfr78ocCdTnPanvwBVsjztzaC/wHN6THxKk7+A9UB+eORzv8DxsxqAsII/IC9EOp6plz/AMpczfv2iP+BNDEotJqo/gLRAMG6nsD8YQnu7xTu0P6jPtUYd0Lc/OF3w0XRkuz/Q6ipdzPi+PzC8MvSRRsE/+ALQub0Qwz/ESW1/6drEP4yQCkUVpcY/WNenCkFvyD8gHkXQbDnKP+hk4pWYA8w/tKt/W8TNzT988hwh8JfPP6IcXfMNsdA/CMAr1iOW0T9sY/q4OXvSP9AGyZtPYNM/NqqXfmVF1D+aTWZheyrVP/7wNESRD9Y/ZJQDJ6f01j/IN9IJvdnXPyzboOzSvtg/kn5vz+ij2T/2IT6y/ojaP1rFDJUUbts/wGjbdypT3D8kDKpaQDjdP4iveD1WHd4/7FJHIGwC3z9U9hUDguffP9xM8vJLZuA/jp5Z5NbY4D9A8MDVYUvhP/JBKMfsveE/pJOPuHcw4j9Y5fapAqPiPwo3XpuNFeM/vIjFjBiI4z9u2ix+o/rjPyAslG8ubeQ/0n37YLnf5D+Gz2JSRFLlPzghykPPxOU/6nIxNVo35j+cxJgm5anmP04WABhwHOc/AGhnCfuO5z+0uc76hQHoP2YLNuwQdOg/GF2d3Zvm6D/KrgTPJlnpP3wAbMCxy+k/LlLTsTw+6j/iozqjx7DqP5T1oZRSI+s/RUcJht2V6z8=\",\"dtype\":\"float64\",\"order\":\"little\",\"shape\":[100]}},\"selected\":{\"id\":\"787789\"},\"selection_policy\":{\"id\":\"787788\"}},\"id\":\"787767\",\"type\":\"ColumnDataSource\"},{\"attributes\":{},\"id\":\"787885\",\"type\":\"ResetTool\"},{\"attributes\":{},\"id\":\"787857\",\"type\":\"BasicTickFormatter\"},{\"attributes\":{},\"id\":\"787871\",\"type\":\"LinearScale\"},{\"attributes\":{\"source\":{\"id\":\"787625\"}},\"id\":\"787650\",\"type\":\"CDSView\"},{\"attributes\":{\"coordinates\":null,\"data_source\":{\"id\":\"787988\"},\"glyph\":{\"id\":\"787990\"},\"group\":null,\"hover_glyph\":null,\"muted_glyph\":{\"id\":\"787992\"},\"nonselection_glyph\":{\"id\":\"787991\"},\"view\":{\"id\":\"787994\"}},\"id\":\"787993\",\"type\":\"GlyphRenderer\"},{\"attributes\":{\"fill_alpha\":0.1,\"fill_color\":\"#1a9641\",\"hatch_alpha\":{\"value\":0.1},\"x\":{\"field\":\"x\"},\"y1\":{\"value\":0},\"y2\":{\"field\":\"kde_values\"}},\"id\":\"787354\",\"type\":\"VArea\"},{\"attributes\":{},\"id\":\"788081\",\"type\":\"UnionRenderers\"},{\"attributes\":{\"fill_alpha\":0.1,\"fill_color\":\"#1a9641\",\"hatch_alpha\":{\"value\":0.1},\"x\":{\"field\":\"x\"},\"y1\":{\"value\":0},\"y2\":{\"field\":\"kde_values\"}},\"id\":\"787628\",\"type\":\"VArea\"},{\"attributes\":{\"axis\":{\"id\":\"787873\"},\"coordinates\":null,\"group\":null,\"ticker\":null},\"id\":\"787876\",\"type\":\"Grid\"},{\"attributes\":{\"fill_alpha\":0.1,\"fill_color\":\"#1a9641\",\"hatch_alpha\":{\"value\":0.1},\"hatch_color\":{\"value\":\"#1a9641\"},\"x\":{\"field\":\"x\"},\"y1\":{\"value\":0},\"y2\":{\"field\":\"kde_values\"}},\"id\":\"787355\",\"type\":\"VArea\"},{\"attributes\":{\"data\":{\"kde_values\":{\"__ndarray__\":\"HK8fv3XQkD+pC0gp9YGKPx3+xRAL+nk/v/3dghsnYD8Iefrn8upHP7HFqpywK2A/4gt01ej/eT866vbb4IqKP69G15yV8pA//Cd5jo5LjD8oJLQiZ4aEP+gH4UxY2Yc/9izZ1+xEkT/cMpJ0+DmUP4MDCE02gpQ/6X6D+iAOlD9gcdPwK2qQP3uDUb9bK4Q/Y+9xULp3gT8312n72KuYP0LR2knI0rY/LYh+D5zf1z+JN7h7Gdf4P5eqWyvkjxNAU9vyPqptJEAsY4Kq+zYrQJdWtw0o/SZAitKCHrz9GECH9UDfKKYCQC1YpS+HJOg/SV+HsPNy1T+ACb1i+XTMP9hzjJ4OI8Y/r1b/XFNSwj/l9S27mG29P83KOkxuibU/WmUIGPofsD9B2ibbwYuvP6QRU/CD07I/z/IinE3osz/BG1VHyqqvPxfc9ViQTKQ/7jKiYkZboT/UEfsXVZWoP32HZ9hmN7A/gpBghHc4sD992MV+C5+pP/M7BmudKaI/S2ELI0AEnz8DL/gT8nKhPz0Ziiej+KE/xVERhih2nj9E4qB1fRCcP5/zT3m33p4/go7AhyTCnT8ZEizyVsCUP5cbBK4nroM/NgAW7nSiaD9Yia7yrcNEP9rTR3W/tzU/fYHKS0EfWD/fIvBNyJB1P9q14YTFDog/h3s8EwatkD97hX69QrqMP2npS02jv34/wo53keFyZD+lnUCCE+ZAP98LP5h/WhE/prRytpMm1j7hzDcp/IiVPsrGJ1T/67g+LLc2n8D/9z4mDz0ZpuYsPznhQG72r1U/RIvGu4RndD/TTSOdYoGIPxP+LW2WuJM/N8TEfeONlz+6JSylX2CXP6iggjiFJZM/ocHG24ZChz/6fVouKTF2Px8AZOCtbnQ/sC+z1v99hD+CFwMb9/KPP9EHsc1Ic48/6wTbiVZBgz/p4Zjc7kxtP9FQ4BzZs0s/Oag0H0xGID/bJuD4eFzoPl5ku28fAds+4eTsKy0xEz/yBZDELxRDP1UJYYXYH2g/0RJjU8Sngz+WKIzpzP2UP5aZz6Ty450/spikY4asnD8=\",\"dtype\":\"float64\",\"order\":\"little\",\"shape\":[100]},\"x\":{\"__ndarray__\":\"UcYJCNqj3b/NvUmKa3Xcv0i1iQz9Rtu/xKzJjo4Y2r9ApAkRIOrYv7ybSZOxu9e/N5OJFUON1r+zismX1F7Vvy6CCRpmMNS/qnlJnPcB078mcYkeidPRv6JoyaAapdC/OsASRljtzr8yr5JKe5DMvyqeEk+eM8q/II2SU8HWx78YfBJY5HnFvxBrklwHHcO/BloSYSrAwL/8kSTLmsa8v+xvJNTgDLi/2E0k3SZTs7+QV0jM2TKtv3ATSN5lv6O/kJ6P4OOXlL8AZfFIwA9bv/BxcdfrNZE/GP242WkOoj84QbnH3YGrP7TC3NqoerI/xOTc0WI0tz/UBt3IHO67P3KU7l/rU8A/eqVuW8iwwj+Ctu5WpQ3FP4rHblKCasc/ltjuTV/HyT+e6W5JPCTMP6b67kQZgc4/14U3IPtu0D9bjvedaZ3RP9+WtxvYy9I/ZZ93mUb60z/ppzcXtSjVP22w95QjV9Y/8bi3EpKF1z91wXeQALTYP/nJNw5v4tk/f9L3i90Q2z8D27cJTD/cP4fjd4e6bd0/C+w3BSmc3j+P9PeCl8rfP4r+WwCDfOA/zAI8P7oT4T8OBxx+8arhP1AL/LwoQuI/kg/c+1/Z4j/WE7w6l3DjPxgYnHnOB+Q/Whx8uAWf5D+cIFz3PDblP94kPDZ0zeU/ICkcdatk5j9iLfyz4vvmP6Qx3PIZk+c/5jW8MVEq6D8oOpxwiMHoP2o+fK+/WOk/rEJc7vbv6T/uRjwtLofqPzJLHGxlHus/dE/8qpy16z+2U9zp00zsP/hXvCgL5Ow/OlycZ0J77T98YHymeRLuP75kXOWwqe4/AGk8JOhA7z9CbRxjH9jvP8I4/lCrN/A/4zpu8EaD8D8EPd6P4s7wPyU/Ti9+GvE/R0G+zhlm8T9oQy5utbHxP4lFng1R/fE/qkcOrexI8j/LSX5MiJTyP+xL7usj4PI/DU5ei78r8z8uUM4qW3fzP09SPsr2wvM/cFSuaZIO9D+RVh4JLlr0P7JYjqjJpfQ/1Fr+R2Xx9D/1XG7nAD31PxZf3oaciPU/N2FOJjjU9T8=\",\"dtype\":\"float64\",\"order\":\"little\",\"shape\":[100]}},\"selected\":{\"id\":\"787366\"},\"selection_policy\":{\"id\":\"787365\"}},\"id\":\"787351\",\"type\":\"ColumnDataSource\"},{\"attributes\":{\"label\":{\"value\":\"WT, BDQ, EC50\"},\"renderers\":[{\"id\":\"787356\"},{\"id\":\"787374\"}]},\"id\":\"787369\",\"type\":\"LegendItem\"},{\"attributes\":{\"fill_alpha\":{\"value\":0.1},\"fill_color\":{\"value\":\"#a6d96a\"},\"hatch_alpha\":{\"value\":0.1},\"hatch_color\":{\"value\":\"#a6d96a\"},\"line_alpha\":{\"value\":0.1},\"size\":{\"value\":20},\"x\":{\"field\":\"x\"},\"y\":{\"field\":\"y\"}},\"id\":\"787712\",\"type\":\"Scatter\"},{\"attributes\":{\"coordinates\":null,\"group\":null},\"id\":\"787899\",\"type\":\"Title\"},{\"attributes\":{},\"id\":\"787861\",\"type\":\"AllLabels\"},{\"attributes\":{\"coordinates\":null,\"data_source\":{\"id\":\"787950\"},\"glyph\":{\"id\":\"787971\"},\"group\":null,\"hover_glyph\":null,\"muted_glyph\":{\"id\":\"787973\"},\"nonselection_glyph\":{\"id\":\"787972\"},\"view\":{\"id\":\"787975\"}},\"id\":\"787974\",\"type\":\"GlyphRenderer\"},{\"attributes\":{},\"id\":\"787869\",\"type\":\"LinearScale\"},{\"attributes\":{\"line_alpha\":0.1,\"line_color\":\"#1a9641\",\"line_dash\":[6],\"x\":{\"field\":\"x\"},\"y\":{\"field\":\"kde_values\"}},\"id\":\"787973\",\"type\":\"Line\"},{\"attributes\":{},\"id\":\"787858\",\"type\":\"AllLabels\"},{\"attributes\":{\"fill_alpha\":{\"value\":0.1},\"fill_color\":{\"value\":\"#1a9641\"},\"hatch_alpha\":{\"value\":0.1},\"hatch_color\":{\"value\":\"#1a9641\"},\"line_alpha\":{\"value\":0.1},\"line_color\":{\"value\":\"#1a9641\"},\"size\":{\"value\":20},\"x\":{\"field\":\"x\"},\"y\":{\"field\":\"y\"}},\"id\":\"787992\",\"type\":\"Scatter\"},{\"attributes\":{\"line_alpha\":0.1,\"line_color\":\"#1a9641\",\"line_dash\":[6],\"x\":{\"field\":\"x\"},\"y\":{\"field\":\"kde_values\"}},\"id\":\"787972\",\"type\":\"Line\"},{\"attributes\":{\"axis\":{\"id\":\"787877\"},\"coordinates\":null,\"dimension\":1,\"group\":null,\"ticker\":null},\"id\":\"787880\",\"type\":\"Grid\"},{\"attributes\":{\"coordinates\":null,\"data_source\":{\"id\":\"787625\"},\"glyph\":{\"id\":\"787646\"},\"group\":null,\"hover_glyph\":null,\"muted_glyph\":{\"id\":\"787648\"},\"nonselection_glyph\":{\"id\":\"787647\"},\"view\":{\"id\":\"787650\"}},\"id\":\"787649\",\"type\":\"GlyphRenderer\"},{\"attributes\":{\"data\":{\"kde_values\":{\"__ndarray__\":\"mU/+pT/0nD+bhzE8lJCMP+kCeC2KbVs//t74jfyhCT9tw/ZSslCXPjDek2IGpAQ+tv8WPu/IUT344yaFaNR9PGwef3UDWYg7UJfrSKFXczrDWBjzMOk9OZSfW5xhguY3qR3oTJ18cDbhJVHRj4HXNB2WU7UW4jMzi/hD5Wx44DQfjumJ/oJ2NvygWflt8u03SND8uA5jQzlzPqU1RW54OnsYVkHh9o07qvSHkYTigTyap0y3j8dUPVkAP4Vyfwc+j9PcuKjcmT728DkxHbQLP3Kf3gk04lw/dtzu2DpPjT9Trra+evKcPz5lEvFe04s/YQ8HzHkIWj8MSZRplrQHP6q/qK9fBJU+/e2X1w0geT5X7R+R1O/yPuQvPptqEkw/EjcLtlDLhD9DBr2waTOhP5TpDdxMuqc/49PaKWOJrT8t11Tb9Ji2P8l5aelBBrU/+Sdn8sqUoj9dNENnG42dP79PNI+nq64/z8x1ubL5qj88RB/7HZajP7oKA/tBjaQ/inC0GA9AsD+M6X9ViLS7PzS6A7SSgdo/kyEZWcmnEkC0hrdc+004QLHZfiGMyEBAEOBsHTGfKEDXN/MDdpH8PyOm50Hb398/9BWAIUW/0z9lV23dpb/FPxI8XWJ/Da0/EYydwPFstD+w1eIgiVLCPwhtTgKiL7k/rGQZ711Ulz+XTTR2Y/tfPzc5XH6zkXs/i4y6fzWZoz9sIjJy8QOzP5F+fS3oA7A/kdqCmaEosj+iDH2FM7O2Pw6HwqLup7A/uUuhjuDOpj+GWx40B2WXP9RUKnouFI4/Q9V82jajnD8/jYRMSXSRP7As+t5q0mQ/cWMtHKAtGD/GsGOJWVOrPoTpjmLFDh4+FA5/x8k7cD0L2otsU5HCPTjKo7GhP2I+jH5NGrZ04T6tOj7mbUBAPxll3SV3dH0/sO5lm28Mmj+A51tBlICYP4mwb2haz5Q/niiDulkFnT8RrpoqkveIPxAx1LhhEVU/2bzqAglqAT+yr4haw1sBPzj3pdXoElU/QxLlgeaIiT9mjJzhmquhP5Z2jKaUiqo/vpy6zwtxrD8=\",\"dtype\":\"float64\",\"order\":\"little\",\"shape\":[100]},\"x\":{\"__ndarray__\":\"skdp7cQM5b8Y/gCfh6bkv3+0mFBKQOS/5WowAg3a479LIcizz3Pjv7LXX2WSDeO/GI73FlWn4r9+RI/IF0Hiv+T6Jnra2uG/S7G+K5104b+xZ1bdXw7hvxce7o4iqOC/ftSFQOVB4L/IFTvkT7ffv5SCakfV6t6/Ye+Zqloe3r8uXMkN4FHdv/rI+HBlhdy/xjUo1Oq427+Uolc3cOzav2APh5r1H9q/LHy2/XpT2b/56OVgAIfYv8ZVFcSFute/ksJEJwvu1r9fL3SKkCHWvyuco+0VVdW/+AjTUJuI1L/FdQK0ILzTv5HiMRem79K/Xk9heisj0r8qvJDdsFbRv/cowEA2itC/iCvfR3d7z78gBT4OguLNv7renNSMScy/Urj7mpewyr/skVphohfJv4ZruSetfse/HkUY7rflxb+4Hne0wkzEv1D41XrNs8K/6NE0Qdgawb8IVycPxgO/vzgK5Zvb0bu/aL2iKPGfuL+gcGC1Bm61v9AjHkIcPLK/AK63nWMUrr9wFDO3jrCnv9B6rtC5TKG/YMJT1MnRlb9AHpUOQBSCvwAg9S1O7G0/QNfHkjOFkD+ACtFf3UydP9AebZZDCqU/cLjxfBhuqz8IKbux9uiwP9B1/SThGrQ/oMI/mMtMtz9wD4ILtn66P0BcxH6gsL0/hFQDeUVxwD/seqSyOgrCP1ShRewvo8M/uMfmJSU8xT8g7odfGtXGP4gUKZkPbsg/8DrK0gQHyj9UYWsM+p/LP7yHDEbvOM0/JK6tf+TRzj9EaqfcbDXQP3j9d3nnAdE/rJBIFmLO0T/eIxmz3JrSPxK36U9XZ9M/Rkq67NEz1D963YqJTADVP6xwWybHzNU/4AMsw0GZ1j8Ul/xfvGXXP0gqzfw2Mtg/fL2dmbH+2D+sUG42LMvZP+DjPtOml9o/FHcPcCFk2z9ICuAMnDDcP3ydsKkW/dw/sDCBRpHJ3T/gw1HjC5bePxRXIoCGYt8/JHV5joAX4D++vuHcvX3gP1gISiv74+A/8lGyeThK4T+MmxrIdbDhPyTlghazFuI/vy7rZPB84j8=\",\"dtype\":\"float64\",\"order\":\"little\",\"shape\":[100]}},\"selected\":{\"id\":\"787923\"},\"selection_policy\":{\"id\":\"787922\"}},\"id\":\"787908\",\"type\":\"ColumnDataSource\"},{\"attributes\":{},\"id\":\"787860\",\"type\":\"BasicTickFormatter\"},{\"attributes\":{\"line_alpha\":0.1,\"line_color\":\"#1a9641\",\"line_width\":3,\"x\":{\"field\":\"x\"},\"y\":{\"field\":\"kde_values\"}},\"id\":\"787648\",\"type\":\"Line\"},{\"attributes\":{\"fill_alpha\":0.1,\"fill_color\":\"#f1b6da\",\"hatch_alpha\":{\"value\":0.1},\"x\":{\"field\":\"x\"},\"y1\":{\"value\":0},\"y2\":{\"field\":\"kde_values\"}},\"id\":\"787719\",\"type\":\"VArea\"},{\"attributes\":{\"line_alpha\":0.1,\"line_color\":\"#1a9641\",\"line_width\":3,\"x\":{\"field\":\"x\"},\"y\":{\"field\":\"kde_values\"}},\"id\":\"787647\",\"type\":\"Line\"},{\"attributes\":{\"fill_alpha\":0.1,\"fill_color\":\"#1a9641\",\"hatch_alpha\":{\"value\":0.1},\"hatch_color\":{\"value\":\"#1a9641\"},\"x\":{\"field\":\"x\"},\"y1\":{\"value\":0},\"y2\":{\"field\":\"kde_values\"}},\"id\":\"787629\",\"type\":\"VArea\"},{\"attributes\":{\"coordinates\":null,\"data_source\":{\"id\":\"787625\"},\"glyph\":{\"id\":\"787627\"},\"group\":null,\"hover_glyph\":null,\"muted_glyph\":{\"id\":\"787629\"},\"nonselection_glyph\":{\"id\":\"787628\"},\"view\":{\"id\":\"787631\"}},\"id\":\"787630\",\"type\":\"GlyphRenderer\"},{\"attributes\":{},\"id\":\"787874\",\"type\":\"BasicTicker\"},{\"attributes\":{},\"id\":\"788082\",\"type\":\"Selection\"},{\"attributes\":{\"source\":{\"id\":\"787386\"}},\"id\":\"787392\",\"type\":\"CDSView\"},{\"attributes\":{\"coordinates\":null,\"formatter\":{\"id\":\"787577\"},\"group\":null,\"major_label_policy\":{\"id\":\"787578\"},\"ticker\":{\"id\":\"787550\"},\"visible\":false},\"id\":\"787549\",\"type\":\"LinearAxis\"},{\"attributes\":{\"fill_alpha\":{\"value\":0.1},\"fill_color\":{\"value\":\"#1a9641\"},\"hatch_alpha\":{\"value\":0.1},\"hatch_color\":{\"value\":\"#1a9641\"},\"line_alpha\":{\"value\":0.1},\"size\":{\"value\":20},\"x\":{\"field\":\"x\"},\"y\":{\"field\":\"y\"}},\"id\":\"787389\",\"type\":\"Scatter\"},{\"attributes\":{\"fill_alpha\":{\"value\":0.9},\"fill_color\":{\"value\":\"#1a9641\"},\"hatch_alpha\":{\"value\":0.9},\"hatch_color\":{\"value\":\"#1a9641\"},\"line_alpha\":{\"value\":0.9},\"size\":{\"value\":20},\"x\":{\"field\":\"x\"},\"y\":{\"field\":\"y\"}},\"id\":\"787388\",\"type\":\"Scatter\"},{\"attributes\":{},\"id\":\"787547\",\"type\":\"LinearScale\"},{\"attributes\":{\"line_alpha\":0.1,\"line_color\":\"#d02c91\",\"line_dash\":[6],\"x\":{\"field\":\"x\"},\"y\":{\"field\":\"kde_values\"}},\"id\":\"787929\",\"type\":\"Line\"},{\"attributes\":{},\"id\":\"787882\",\"type\":\"SaveTool\"},{\"attributes\":{\"line_alpha\":0.1,\"line_color\":\"#1a9641\",\"line_dash\":[6],\"x\":{\"field\":\"x\"},\"y\":{\"field\":\"kde_values\"}},\"id\":\"787930\",\"type\":\"Line\"},{\"attributes\":{\"coordinates\":null,\"data_source\":{\"id\":\"787908\"},\"glyph\":{\"id\":\"787928\"},\"group\":null,\"hover_glyph\":null,\"muted_glyph\":{\"id\":\"787930\"},\"nonselection_glyph\":{\"id\":\"787929\"},\"view\":{\"id\":\"787932\"}},\"id\":\"787931\",\"type\":\"GlyphRenderer\"},{\"attributes\":{\"below\":[{\"id\":\"787590\"}],\"center\":[{\"id\":\"787593\"},{\"id\":\"787597\"}],\"height\":200,\"left\":[{\"id\":\"787594\"}],\"renderers\":[{\"id\":\"787667\"},{\"id\":\"787714\"},{\"id\":\"787765\"},{\"id\":\"787820\"}],\"title\":{\"id\":\"787616\"},\"toolbar\":{\"id\":\"787605\"},\"toolbar_location\":null,\"width\":500,\"x_range\":{\"id\":\"787581\"},\"x_scale\":{\"id\":\"787586\"},\"y_range\":{\"id\":\"787584\"},\"y_scale\":{\"id\":\"787588\"}},\"id\":\"787582\",\"subtype\":\"Figure\",\"type\":\"Plot\"},{\"attributes\":{\"format\":\"0\"},\"id\":\"787614\",\"type\":\"NumeralTickFormatter\"},{\"attributes\":{\"bottom_units\":\"screen\",\"coordinates\":null,\"fill_alpha\":0.5,\"fill_color\":\"lightgrey\",\"group\":null,\"left_units\":\"screen\",\"level\":\"overlay\",\"line_alpha\":1.0,\"line_color\":\"black\",\"line_dash\":[4,4],\"line_width\":2,\"right_units\":\"screen\",\"syncable\":false,\"top_units\":\"screen\"},\"id\":\"787887\",\"type\":\"BoxAnnotation\"},{\"attributes\":{\"source\":{\"id\":\"787943\"}},\"id\":\"787949\",\"type\":\"CDSView\"},{\"attributes\":{},\"id\":\"787574\",\"type\":\"BasicTickFormatter\"},{\"attributes\":{\"coordinates\":null,\"group\":null},\"id\":\"787571\",\"type\":\"Title\"},{\"attributes\":{\"end\":0.4,\"start\":-0.4},\"id\":\"787581\",\"type\":\"Range1d\"},{\"attributes\":{\"axis\":{\"id\":\"787549\"},\"coordinates\":null,\"group\":null,\"ticker\":null},\"id\":\"787552\",\"type\":\"Grid\"},{\"attributes\":{\"data\":{\"cell_ID\":{\"__ndarray__\":\"pQEAAHEAAAAaAAAAPwAAABMBAAAIAQAA0QAAALgCAAALBAAAIgUAAIYFAACIBgAAEQcAAJkIAACfAQAA2QEAAI8BAACBAgAA5QEAACgCAAA7AQAAPwEAACEBAADlAAAAwwIAAIYDAACQAwAAkQMAAG4EAAD6BAAAlAUAAKgFAADmBgAA\",\"dtype\":\"int32\",\"order\":\"little\",\"shape\":[33]},\"compound\":[\"BDQ\",\"BDQ\",\"BDQ\",\"BDQ\",\"BDQ\",\"BDQ\",\"BDQ\",\"BDQ\",\"BDQ\",\"BDQ\",\"BDQ\",\"BDQ\",\"BDQ\",\"BDQ\",\"BDQ\",\"BDQ\",\"BDQ\",\"BDQ\",\"BDQ\",\"BDQ\",\"BDQ\",\"BDQ\",\"BDQ\",\"BDQ\",\"BDQ\",\"BDQ\",\"BDQ\",\"BDQ\",\"BDQ\",\"BDQ\",\"BDQ\",\"BDQ\",\"BDQ\"],\"concentration\":[\"EC50\",\"EC50\",\"EC50\",\"EC50\",\"EC50\",\"EC50\",\"EC50\",\"EC50\",\"EC50\",\"EC50\",\"EC50\",\"EC50\",\"EC50\",\"EC50\",\"EC50\",\"EC50\",\"EC50\",\"EC50\",\"EC50\",\"EC50\",\"EC50\",\"EC50\",\"EC50\",\"EC50\",\"EC50\",\"EC50\",\"EC50\",\"EC50\",\"EC50\",\"EC50\",\"EC50\",\"EC50\",\"EC50\"],\"dMtb\":{\"__ndarray__\":\"ZFHvUghAzz/nvn5iL9XxP6QlcShvTdA/GkB1R77Fwz8yOdnmEovEPygKqyouOso/hz9PKGUx2T9ONOuCd+DcP/+L1NWeC8M/GUqPHBId8D9AoaTOYzjhPwjoeMQP49U/JwryVUjpxr9IURXEfPPXP4aJUlOkePU/aTe3kpqkxz/+pvY2kdDuP0Y2OLNYceA/Jp2knNqA5j9UuCr5avbQP6zMV/WZtNY/h6txOoCtvj+bSRNTh7nNv4bCYOxgddE/w60q0qj7zj+T5i4npTDUvzdhTiY41PU/yplivgwx3T+jtMA+3yfWPzOTvusgVMA/XjgzFV6gxD9RxgkI2qPdv4Sk7zc8O8M/\",\"dtype\":\"float64\",\"order\":\"little\",\"shape\":[33]},\"glimpse_url_t0\":[\"https://macrohet.s3.eu-west-2.amazonaws.com/dMtb/dMtb_glimpses/glimpse_421.3.9_t0.png\",\"https://macrohet.s3.eu-west-2.amazonaws.com/dMtb/dMtb_glimpses/glimpse_113.3.9_t0.png\",\"https://macrohet.s3.eu-west-2.amazonaws.com/dMtb/dMtb_glimpses/glimpse_26.3.9_t0.png\",\"https://macrohet.s3.eu-west-2.amazonaws.com/dMtb/dMtb_glimpses/glimpse_63.3.9_t0.png\",\"https://macrohet.s3.eu-west-2.amazonaws.com/dMtb/dMtb_glimpses/glimpse_275.3.9_t0.png\",\"https://macrohet.s3.eu-west-2.amazonaws.com/dMtb/dMtb_glimpses/glimpse_264.3.9_t0.png\",\"https://macrohet.s3.eu-west-2.amazonaws.com/dMtb/dMtb_glimpses/glimpse_209.3.9_t0.png\",\"https://macrohet.s3.eu-west-2.amazonaws.com/dMtb/dMtb_glimpses/glimpse_696.3.9_t2.png\",\"https://macrohet.s3.eu-west-2.amazonaws.com/dMtb/dMtb_glimpses/glimpse_1035.3.9_t6.png\",\"https://macrohet.s3.eu-west-2.amazonaws.com/dMtb/dMtb_glimpses/glimpse_1314.3.9_t10.png\",\"https://macrohet.s3.eu-west-2.amazonaws.com/dMtb/dMtb_glimpses/glimpse_1414.3.9_t12.png\",\"https://macrohet.s3.eu-west-2.amazonaws.com/dMtb/dMtb_glimpses/glimpse_1672.3.9_t17.png\",\"https://macrohet.s3.eu-west-2.amazonaws.com/dMtb/dMtb_glimpses/glimpse_1809.3.9_t19.png\",\"https://macrohet.s3.eu-west-2.amazonaws.com/dMtb/dMtb_glimpses/glimpse_2201.3.9_t29.png\",\"https://macrohet.s3.eu-west-2.amazonaws.com/dMtb/dMtb_glimpses/glimpse_415.4.9_t0.png\",\"https://macrohet.s3.eu-west-2.amazonaws.com/dMtb/dMtb_glimpses/glimpse_473.4.9_t0.png\",\"https://macrohet.s3.eu-west-2.amazonaws.com/dMtb/dMtb_glimpses/glimpse_399.4.9_t0.png\",\"https://macrohet.s3.eu-west-2.amazonaws.com/dMtb/dMtb_glimpses/glimpse_641.4.9_t0.png\",\"https://macrohet.s3.eu-west-2.amazonaws.com/dMtb/dMtb_glimpses/glimpse_485.4.9_t0.png\",\"https://macrohet.s3.eu-west-2.amazonaws.com/dMtb/dMtb_glimpses/glimpse_552.4.9_t0.png\",\"https://macrohet.s3.eu-west-2.amazonaws.com/dMtb/dMtb_glimpses/glimpse_315.4.9_t0.png\",\"https://macrohet.s3.eu-west-2.amazonaws.com/dMtb/dMtb_glimpses/glimpse_319.4.9_t0.png\",\"https://macrohet.s3.eu-west-2.amazonaws.com/dMtb/dMtb_glimpses/glimpse_289.4.9_t0.png\",\"https://macrohet.s3.eu-west-2.amazonaws.com/dMtb/dMtb_glimpses/glimpse_229.4.9_t0.png\",\"https://macrohet.s3.eu-west-2.amazonaws.com/dMtb/dMtb_glimpses/glimpse_707.4.9_t1.png\",\"https://macrohet.s3.eu-west-2.amazonaws.com/dMtb/dMtb_glimpses/glimpse_902.4.9_t3.png\",\"https://macrohet.s3.eu-west-2.amazonaws.com/dMtb/dMtb_glimpses/glimpse_912.4.9_t3.png\",\"https://macrohet.s3.eu-west-2.amazonaws.com/dMtb/dMtb_glimpses/glimpse_913.4.9_t3.png\",\"https://macrohet.s3.eu-west-2.amazonaws.com/dMtb/dMtb_glimpses/glimpse_1134.4.9_t7.png\",\"https://macrohet.s3.eu-west-2.amazonaws.com/dMtb/dMtb_glimpses/glimpse_1274.4.9_t9.png\",\"https://macrohet.s3.eu-west-2.amazonaws.com/dMtb/dMtb_glimpses/glimpse_1428.4.9_t11.png\",\"https://macrohet.s3.eu-west-2.amazonaws.com/dMtb/dMtb_glimpses/glimpse_1448.4.9_t12.png\",\"https://macrohet.s3.eu-west-2.amazonaws.com/dMtb/dMtb_glimpses/glimpse_1766.4.9_t18.png\"],\"glimpse_url_tn\":[\"https://macrohet.s3.eu-west-2.amazonaws.com/dMtb/dMtb_glimpses/glimpse_421.3.9_t-1.png\",\"https://macrohet.s3.eu-west-2.amazonaws.com/dMtb/dMtb_glimpses/glimpse_113.3.9_t-1.png\",\"https://macrohet.s3.eu-west-2.amazonaws.com/dMtb/dMtb_glimpses/glimpse_26.3.9_t-1.png\",\"https://macrohet.s3.eu-west-2.amazonaws.com/dMtb/dMtb_glimpses/glimpse_63.3.9_t-1.png\",\"https://macrohet.s3.eu-west-2.amazonaws.com/dMtb/dMtb_glimpses/glimpse_275.3.9_t-1.png\",\"https://macrohet.s3.eu-west-2.amazonaws.com/dMtb/dMtb_glimpses/glimpse_264.3.9_t-1.png\",\"https://macrohet.s3.eu-west-2.amazonaws.com/dMtb/dMtb_glimpses/glimpse_209.3.9_t-1.png\",\"https://macrohet.s3.eu-west-2.amazonaws.com/dMtb/dMtb_glimpses/glimpse_696.3.9_t-1.png\",\"https://macrohet.s3.eu-west-2.amazonaws.com/dMtb/dMtb_glimpses/glimpse_1035.3.9_t-1.png\",\"https://macrohet.s3.eu-west-2.amazonaws.com/dMtb/dMtb_glimpses/glimpse_1314.3.9_t-1.png\",\"https://macrohet.s3.eu-west-2.amazonaws.com/dMtb/dMtb_glimpses/glimpse_1414.3.9_t-1.png\",\"https://macrohet.s3.eu-west-2.amazonaws.com/dMtb/dMtb_glimpses/glimpse_1672.3.9_t-1.png\",\"https://macrohet.s3.eu-west-2.amazonaws.com/dMtb/dMtb_glimpses/glimpse_1809.3.9_t-1.png\",\"https://macrohet.s3.eu-west-2.amazonaws.com/dMtb/dMtb_glimpses/glimpse_2201.3.9_t-1.png\",\"https://macrohet.s3.eu-west-2.amazonaws.com/dMtb/dMtb_glimpses/glimpse_415.4.9_t-1.png\",\"https://macrohet.s3.eu-west-2.amazonaws.com/dMtb/dMtb_glimpses/glimpse_473.4.9_t-1.png\",\"https://macrohet.s3.eu-west-2.amazonaws.com/dMtb/dMtb_glimpses/glimpse_399.4.9_t-1.png\",\"https://macrohet.s3.eu-west-2.amazonaws.com/dMtb/dMtb_glimpses/glimpse_641.4.9_t-1.png\",\"https://macrohet.s3.eu-west-2.amazonaws.com/dMtb/dMtb_glimpses/glimpse_485.4.9_t-1.png\",\"https://macrohet.s3.eu-west-2.amazonaws.com/dMtb/dMtb_glimpses/glimpse_552.4.9_t-1.png\",\"https://macrohet.s3.eu-west-2.amazonaws.com/dMtb/dMtb_glimpses/glimpse_315.4.9_t-1.png\",\"https://macrohet.s3.eu-west-2.amazonaws.com/dMtb/dMtb_glimpses/glimpse_319.4.9_t-1.png\",\"https://macrohet.s3.eu-west-2.amazonaws.com/dMtb/dMtb_glimpses/glimpse_289.4.9_t-1.png\",\"https://macrohet.s3.eu-west-2.amazonaws.com/dMtb/dMtb_glimpses/glimpse_229.4.9_t-1.png\",\"https://macrohet.s3.eu-west-2.amazonaws.com/dMtb/dMtb_glimpses/glimpse_707.4.9_t-1.png\",\"https://macrohet.s3.eu-west-2.amazonaws.com/dMtb/dMtb_glimpses/glimpse_902.4.9_t-1.png\",\"https://macrohet.s3.eu-west-2.amazonaws.com/dMtb/dMtb_glimpses/glimpse_912.4.9_t-1.png\",\"https://macrohet.s3.eu-west-2.amazonaws.com/dMtb/dMtb_glimpses/glimpse_913.4.9_t-1.png\",\"https://macrohet.s3.eu-west-2.amazonaws.com/dMtb/dMtb_glimpses/glimpse_1134.4.9_t-1.png\",\"https://macrohet.s3.eu-west-2.amazonaws.com/dMtb/dMtb_glimpses/glimpse_1274.4.9_t-1.png\",\"https://macrohet.s3.eu-west-2.amazonaws.com/dMtb/dMtb_glimpses/glimpse_1428.4.9_t-1.png\",\"https://macrohet.s3.eu-west-2.amazonaws.com/dMtb/dMtb_glimpses/glimpse_1448.4.9_t-1.png\",\"https://macrohet.s3.eu-west-2.amazonaws.com/dMtb/dMtb_glimpses/glimpse_1766.4.9_t-1.png\"],\"strain\":[\"WT\",\"WT\",\"WT\",\"WT\",\"WT\",\"WT\",\"WT\",\"WT\",\"WT\",\"WT\",\"WT\",\"WT\",\"WT\",\"WT\",\"WT\",\"WT\",\"WT\",\"WT\",\"WT\",\"WT\",\"WT\",\"WT\",\"WT\",\"WT\",\"WT\",\"WT\",\"WT\",\"WT\",\"WT\",\"WT\",\"WT\",\"WT\",\"WT\"],\"tech_rep\":[1,1,1,1,1,1,1,1,1,1,1,1,1,1,2,2,2,2,2,2,2,2,2,2,2,2,2,2,2,2,2,2,2],\"x\":{\"__ndarray__\":\"ZFHvUghAzz/nvn5iL9XxP6QlcShvTdA/GkB1R77Fwz8yOdnmEovEPygKqyouOso/hz9PKGUx2T9ONOuCd+DcP/+L1NWeC8M/GUqPHBId8D9AoaTOYzjhPwjoeMQP49U/JwryVUjpxr9IURXEfPPXP4aJUlOkePU/aTe3kpqkxz/+pvY2kdDuP0Y2OLNYceA/Jp2knNqA5j9UuCr5avbQP6zMV/WZtNY/h6txOoCtvj+bSRNTh7nNv4bCYOxgddE/w60q0qj7zj+T5i4npTDUvzdhTiY41PU/yplivgwx3T+jtMA+3yfWPzOTvusgVMA/XjgzFV6gxD9RxgkI2qPdv4Sk7zc8O8M/\",\"dtype\":\"float64\",\"order\":\"little\",\"shape\":[33]},\"y\":{\"__ndarray__\":\"tMwiFFtB0z9KQiJt40/UPzCCxkyiXtQ/C5jArbt51D9D5PT1fM3UP5QRF4BG6dQ/1gCloUYh1T/QJ/Ik6ZrVP5btQ95y9dU/ZQCo4sYt1j8LluoCXmbWP8aoa+19qtY/TrhX5q261j+GBIwubw7XP13Cobd4eOU/wAgaM4l65T+MuWsJ+aDlP2ms/Z3t0eU/PPazWIrk5T/qd2FrtvLlP5qV7UPecuY/IO7qVWR05j8xtaUO8nrmP1Mgs7PoneY/LCtNSkG35j/yP/m7d9TmPwH8U6pE2eY/dxN80/TZ5j/VzFoKSPvmP6a1aWyvBec/bJih8UQQ5z94z4HlCBnnPzp6/N6mP+c/\",\"dtype\":\"float64\",\"order\":\"little\",\"shape\":[33]}},\"name\":\"WT, BDQ, EC50\",\"selected\":{\"id\":\"788050\"},\"selection_policy\":{\"id\":\"788049\"}},\"id\":\"787386\",\"type\":\"ColumnDataSource\"},{\"attributes\":{\"source\":{\"id\":\"787393\"}},\"id\":\"787399\",\"type\":\"CDSView\"},{\"attributes\":{},\"id\":\"787545\",\"type\":\"LinearScale\"},{\"attributes\":{\"overlay\":{\"id\":\"787887\"}},\"id\":\"787884\",\"type\":\"BoxZoomTool\"},{\"attributes\":{\"coordinates\":null,\"data_source\":{\"id\":\"787943\"},\"glyph\":{\"id\":\"787945\"},\"group\":null,\"hover_glyph\":null,\"muted_glyph\":{\"id\":\"787947\"},\"nonselection_glyph\":{\"id\":\"787946\"},\"view\":{\"id\":\"787949\"}},\"id\":\"787948\",\"type\":\"GlyphRenderer\"},{\"attributes\":{},\"id\":\"787881\",\"type\":\"CrosshairTool\"},{\"attributes\":{\"line_color\":\"#a6d96a\",\"line_width\":3,\"x\":{\"field\":\"x\"},\"y\":{\"field\":\"kde_values\"}},\"id\":\"787414\",\"type\":\"Line\"},{\"attributes\":{\"source\":{\"id\":\"787908\"}},\"id\":\"787932\",\"type\":\"CDSView\"},{\"attributes\":{},\"id\":\"787299\",\"type\":\"BasicTickFormatter\"},{\"attributes\":{},\"id\":\"787575\",\"type\":\"AllLabels\"},{\"attributes\":{\"coordinates\":null,\"data_source\":{\"id\":\"787393\"},\"glyph\":{\"id\":\"787395\"},\"group\":null,\"hover_glyph\":null,\"muted_glyph\":{\"id\":\"787397\"},\"nonselection_glyph\":{\"id\":\"787396\"},\"view\":{\"id\":\"787399\"}},\"id\":\"787398\",\"type\":\"GlyphRenderer\"},{\"attributes\":{\"fill_alpha\":0.1,\"fill_color\":\"#a6d96a\",\"hatch_alpha\":{\"value\":0.1},\"hatch_color\":{\"value\":\"#a6d96a\"},\"x\":{\"field\":\"x\"},\"y1\":{\"value\":0},\"y2\":{\"field\":\"kde_values\"}},\"id\":\"787397\",\"type\":\"VArea\"},{\"attributes\":{},\"id\":\"787550\",\"type\":\"BasicTicker\"},{\"attributes\":{},\"id\":\"787300\",\"type\":\"AllLabels\"},{\"attributes\":{},\"id\":\"787886\",\"type\":\"WheelZoomTool\"},{\"attributes\":{},\"id\":\"787883\",\"type\":\"PanTool\"},{\"attributes\":{\"fill_alpha\":{\"value\":0.1},\"fill_color\":{\"value\":\"#1a9641\"},\"hatch_alpha\":{\"value\":0.1},\"hatch_color\":{\"value\":\"#1a9641\"},\"line_alpha\":{\"value\":0.1},\"line_color\":{\"value\":\"#1a9641\"},\"size\":{\"value\":20},\"x\":{\"field\":\"x\"},\"y\":{\"field\":\"y\"}},\"id\":\"787390\",\"type\":\"Scatter\"},{\"attributes\":{\"coordinates\":null,\"data_source\":{\"id\":\"787386\"},\"glyph\":{\"id\":\"787388\"},\"group\":null,\"hover_glyph\":null,\"muted_glyph\":{\"id\":\"787390\"},\"nonselection_glyph\":{\"id\":\"787389\"},\"view\":{\"id\":\"787392\"}},\"id\":\"787391\",\"type\":\"GlyphRenderer\"},{\"attributes\":{\"axis_label\":\"Frequency\",\"coordinates\":null,\"formatter\":{\"id\":\"787574\"},\"group\":null,\"major_label_policy\":{\"id\":\"787575\"},\"ticker\":{\"id\":\"787554\"}},\"id\":\"787553\",\"type\":\"LinearAxis\"},{\"attributes\":{\"ticks\":[]},\"id\":\"787895\",\"type\":\"FixedTicker\"},{\"attributes\":{\"fill_alpha\":{\"value\":0.9},\"fill_color\":{\"value\":\"#d02c91\"},\"hatch_alpha\":{\"value\":0.9},\"hatch_color\":{\"value\":\"#d02c91\"},\"line_alpha\":{\"value\":0.9},\"size\":{\"value\":20},\"x\":{\"field\":\"x\"},\"y\":{\"field\":\"y\"}},\"id\":\"787817\",\"type\":\"Scatter\"},{\"attributes\":{},\"id\":\"787273\",\"type\":\"LinearScale\"},{\"attributes\":{},\"id\":\"787271\",\"type\":\"LinearScale\"},{\"attributes\":{\"below\":[{\"id\":\"787275\"}],\"center\":[{\"id\":\"787278\"},{\"id\":\"787282\"},{\"id\":\"787368\"}],\"height\":400,\"left\":[{\"id\":\"787279\"}],\"renderers\":[{\"id\":\"787356\"},{\"id\":\"787374\"},{\"id\":\"787398\"},{\"id\":\"787417\"},{\"id\":\"787443\"},{\"id\":\"787464\"},{\"id\":\"787492\"},{\"id\":\"787515\"}],\"title\":{\"id\":\"787265\"},\"toolbar\":{\"id\":\"787290\"},\"toolbar_location\":null,\"width\":500,\"x_range\":{\"id\":\"787306\"},\"x_scale\":{\"id\":\"787271\"},\"y_range\":{\"id\":\"787269\"},\"y_scale\":{\"id\":\"787273\"}},\"id\":\"787264\",\"subtype\":\"Figure\",\"type\":\"Plot\"},{\"attributes\":{},\"id\":\"787269\",\"type\":\"DataRange1d\"},{\"attributes\":{\"coordinates\":null,\"group\":null,\"text\":\"Histograms showing the distribution of \\nthe change in intracellular Mtb (\\u0394Mtb)\"},\"id\":\"787265\",\"type\":\"Title\"},{\"attributes\":{\"active_scroll\":{\"id\":\"787886\"},\"tools\":[{\"id\":\"787881\"},{\"id\":\"787882\"},{\"id\":\"787883\"},{\"id\":\"787884\"},{\"id\":\"787885\"},{\"id\":\"787886\"},{\"id\":\"787349\"}]},\"id\":\"787888\",\"type\":\"Toolbar\"},{\"attributes\":{},\"id\":\"787311\",\"type\":\"LinearScale\"},{\"attributes\":{\"fill_alpha\":0.6,\"fill_color\":\"#d02c91\",\"hatch_alpha\":{\"value\":0.6},\"x\":{\"field\":\"x\"},\"y1\":{\"value\":0},\"y2\":{\"field\":\"kde_values\"}},\"id\":\"787910\",\"type\":\"VArea\"},{\"attributes\":{\"coordinates\":null,\"data_source\":{\"id\":\"787351\"},\"glyph\":{\"id\":\"787371\"},\"group\":null,\"hover_glyph\":null,\"muted_glyph\":{\"id\":\"787373\"},\"nonselection_glyph\":{\"id\":\"787372\"},\"view\":{\"id\":\"787375\"}},\"id\":\"787374\",\"type\":\"GlyphRenderer\"},{\"attributes\":{\"source\":{\"id\":\"787351\"}},\"id\":\"787375\",\"type\":\"CDSView\"},{\"attributes\":{\"toolbars\":[{\"id\":\"787290\"},{\"id\":\"787564\"},{\"id\":\"787848\"},{\"id\":\"787330\"},{\"id\":\"787605\"},{\"id\":\"787888\"}],\"tools\":[{\"id\":\"787283\"},{\"id\":\"787284\"},{\"id\":\"787285\"},{\"id\":\"787286\"},{\"id\":\"787287\"},{\"id\":\"787288\"},{\"id\":\"787557\"},{\"id\":\"787558\"},{\"id\":\"787559\"},{\"id\":\"787560\"},{\"id\":\"787561\"},{\"id\":\"787562\"},{\"id\":\"787841\"},{\"id\":\"787842\"},{\"id\":\"787843\"},{\"id\":\"787844\"},{\"id\":\"787845\"},{\"id\":\"787846\"},{\"id\":\"787323\"},{\"id\":\"787324\"},{\"id\":\"787325\"},{\"id\":\"787326\"},{\"id\":\"787327\"},{\"id\":\"787328\"},{\"id\":\"787349\"},{\"id\":\"787598\"},{\"id\":\"787599\"},{\"id\":\"787600\"},{\"id\":\"787601\"},{\"id\":\"787602\"},{\"id\":\"787603\"},{\"id\":\"787349\"},{\"id\":\"787881\"},{\"id\":\"787882\"},{\"id\":\"787883\"},{\"id\":\"787884\"},{\"id\":\"787885\"},{\"id\":\"787886\"},{\"id\":\"787349\"}]},\"id\":\"788088\",\"type\":\"ProxyToolbar\"},{\"attributes\":{\"line_alpha\":0.1,\"line_color\":\"#1a9641\",\"line_width\":3,\"x\":{\"field\":\"x\"},\"y\":{\"field\":\"kde_values\"}},\"id\":\"787373\",\"type\":\"Line\"},{\"attributes\":{\"line_alpha\":0.1,\"line_color\":\"#f1b6da\",\"line_width\":3,\"x\":{\"field\":\"x\"},\"y\":{\"field\":\"kde_values\"}},\"id\":\"787742\",\"type\":\"Line\"},{\"attributes\":{\"active_scroll\":{\"id\":\"787288\"},\"tools\":[{\"id\":\"787283\"},{\"id\":\"787284\"},{\"id\":\"787285\"},{\"id\":\"787286\"},{\"id\":\"787287\"},{\"id\":\"787288\"}]},\"id\":\"787290\",\"type\":\"Toolbar\"},{\"attributes\":{\"line_alpha\":0.1,\"line_color\":\"#a6d96a\",\"line_width\":3,\"x\":{\"field\":\"x\"},\"y\":{\"field\":\"kde_values\"}},\"id\":\"787415\",\"type\":\"Line\"},{\"attributes\":{\"coordinates\":null,\"data_source\":{\"id\":\"787716\"},\"glyph\":{\"id\":\"787740\"},\"group\":null,\"hover_glyph\":null,\"muted_glyph\":{\"id\":\"787742\"},\"nonselection_glyph\":{\"id\":\"787741\"},\"view\":{\"id\":\"787744\"}},\"id\":\"787743\",\"type\":\"GlyphRenderer\"},{\"attributes\":{},\"id\":\"787735\",\"type\":\"UnionRenderers\"},{\"attributes\":{\"source\":{\"id\":\"787716\"}},\"id\":\"787744\",\"type\":\"CDSView\"},{\"attributes\":{},\"id\":\"787736\",\"type\":\"Selection\"},{\"attributes\":{\"line_color\":\"#f1b6da\",\"line_width\":3,\"x\":{\"field\":\"x\"},\"y\":{\"field\":\"kde_values\"}},\"id\":\"787740\",\"type\":\"Line\"},{\"attributes\":{\"line_alpha\":0.1,\"line_color\":\"#f1b6da\",\"line_width\":3,\"x\":{\"field\":\"x\"},\"y\":{\"field\":\"kde_values\"}},\"id\":\"787741\",\"type\":\"Line\"},{\"attributes\":{\"line_alpha\":0.1,\"line_color\":\"#a6d96a\",\"line_width\":3,\"x\":{\"field\":\"x\"},\"y\":{\"field\":\"kde_values\"}},\"id\":\"787416\",\"type\":\"Line\"},{\"attributes\":{\"fill_alpha\":{\"value\":0.1},\"fill_color\":{\"value\":\"#1a9641\"},\"hatch_alpha\":{\"value\":0.1},\"line_alpha\":{\"value\":0.1},\"size\":{\"value\":20},\"x\":{\"field\":\"x\"},\"y\":{\"field\":\"y\"}},\"id\":\"787991\",\"type\":\"Scatter\"},{\"attributes\":{\"toolbar\":{\"id\":\"788088\"},\"toolbar_location\":\"above\"},\"id\":\"788089\",\"type\":\"ToolbarBox\"},{\"attributes\":{\"label\":{\"value\":\"WT, PZA, EC99\"},\"renderers\":[{\"id\":\"787721\"},{\"id\":\"787743\"}]},\"id\":\"787738\",\"type\":\"LegendItem\"},{\"attributes\":{\"fill_alpha\":{\"value\":0.1},\"fill_color\":{\"value\":\"#d02c91\"},\"hatch_alpha\":{\"value\":0.1},\"line_alpha\":{\"value\":0.1},\"size\":{\"value\":20},\"x\":{\"field\":\"x\"},\"y\":{\"field\":\"y\"}},\"id\":\"787946\",\"type\":\"Scatter\"},{\"attributes\":{\"data\":{\"cell_ID\":{\"__ndarray__\":\"aAEAAGoBAADkAQAA5gEAABsCAABqAAAAlAAAAIAAAAA+AAAAMwAAAPAAAAAYAQAA3wAAANUAAAChAgAAfgIAAHIEAAAcBQAALAUAALwJAAB/AgAAbQIAABICAAD+AQAAlgAAAKIAAAALAAAALAAAALgAAADVAgAA1wIAALoCAABDAwAASAMAAGkDAAD5AgAAiAMAAOYEAACpBgAA2gEAANMBAACMAQAAlAEAAAsCAAANAgAA+AEAAJUAAABGAAAAEwEAALsAAADJAAAAjQIAAFEDAACLAwAA1AQAACoFAACVBQAAYQYAAJYHAAD2BwAASAgAAKcIAADGAQAAkAIAALUCAAC9AgAASgIAAJEAAAAiAAAAYQEAAEEAAAAkAQAAuQAAAOwAAADwAAAANwMAAGADAAAzBAAAwAQAACIFAABmBwAAhAgAAA==\",\"dtype\":\"int32\",\"order\":\"little\",\"shape\":[82]},\"compound\":[\"CTRL\",\"CTRL\",\"CTRL\",\"CTRL\",\"CTRL\",\"CTRL\",\"CTRL\",\"CTRL\",\"CTRL\",\"CTRL\",\"CTRL\",\"CTRL\",\"CTRL\",\"CTRL\",\"CTRL\",\"CTRL\",\"CTRL\",\"CTRL\",\"CTRL\",\"CTRL\",\"CTRL\",\"CTRL\",\"CTRL\",\"CTRL\",\"CTRL\",\"CTRL\",\"CTRL\",\"CTRL\",\"CTRL\",\"CTRL\",\"CTRL\",\"CTRL\",\"CTRL\",\"CTRL\",\"CTRL\",\"CTRL\",\"CTRL\",\"CTRL\",\"CTRL\",\"CTRL\",\"CTRL\",\"CTRL\",\"CTRL\",\"CTRL\",\"CTRL\",\"CTRL\",\"CTRL\",\"CTRL\",\"CTRL\",\"CTRL\",\"CTRL\",\"CTRL\",\"CTRL\",\"CTRL\",\"CTRL\",\"CTRL\",\"CTRL\",\"CTRL\",\"CTRL\",\"CTRL\",\"CTRL\",\"CTRL\",\"CTRL\",\"CTRL\",\"CTRL\",\"CTRL\",\"CTRL\",\"CTRL\",\"CTRL\",\"CTRL\",\"CTRL\",\"CTRL\",\"CTRL\",\"CTRL\",\"CTRL\",\"CTRL\",\"CTRL\",\"CTRL\",\"CTRL\",\"CTRL\",\"CTRL\",\"CTRL\"],\"concentration\":[\"EC0\",\"EC0\",\"EC0\",\"EC0\",\"EC0\",\"EC0\",\"EC0\",\"EC0\",\"EC0\",\"EC0\",\"EC0\",\"EC0\",\"EC0\",\"EC0\",\"EC0\",\"EC0\",\"EC0\",\"EC0\",\"EC0\",\"EC0\",\"EC0\",\"EC0\",\"EC0\",\"EC0\",\"EC0\",\"EC0\",\"EC0\",\"EC0\",\"EC0\",\"EC0\",\"EC0\",\"EC0\",\"EC0\",\"EC0\",\"EC0\",\"EC0\",\"EC0\",\"EC0\",\"EC0\",\"EC0\",\"EC0\",\"EC0\",\"EC0\",\"EC0\",\"EC0\",\"EC0\",\"EC0\",\"EC0\",\"EC0\",\"EC0\",\"EC0\",\"EC0\",\"EC0\",\"EC0\",\"EC0\",\"EC0\",\"EC0\",\"EC0\",\"EC0\",\"EC0\",\"EC0\",\"EC0\",\"EC0\",\"EC0\",\"EC0\",\"EC0\",\"EC0\",\"EC0\",\"EC0\",\"EC0\",\"EC0\",\"EC0\",\"EC0\",\"EC0\",\"EC0\",\"EC0\",\"EC0\",\"EC0\",\"EC0\",\"EC0\",\"EC0\",\"EC0\"],\"dMtb\":{\"__ndarray__\":\"xUqZxtDf0D/IseBAl8vxP+12aNBlTgJAnGifnv3f0T9yN+nFjq0BQKAUaz5ZxgJA3cOoUFgS2D+nE81/OZPuPznCOc9BHeQ/Aq8GB7l21z9ErjJS9yPmP3XvYXkHfxJATMo7uUSf0j87M+f6lEPqvwmCCMYF0fG/Y1zCSo9a0z9SqtL6dZXnP+A33nHLP+c/TmR4KeTv0D8CKAdry+bQP182FOwHLvY/kzxpcDyY5T8qkHatuxvcP2CJ23prB9g/J9PpFv1l9D938ta91pfhP/nZv0f2Ofk/ReYjU4686T+BEKz7QhPYPxGiFj3oatk/DwgsjdTV2j8bej/xinz2P2QnyS2Tm+I/PzbNpjrG8D9kH8nj0j3SP990dKIMxNQ/qsRCH+z00z/MTVXpCsnmP9t+fhCHmNA/GtuIYGU5y79WywAXcw7UP7qS2E+IE/I/kYHX2RKi1D/II+4hGJPwP1/EVuF1IgFAWujbUWbO5T/AwPPv1/bXP0Q92pDDCPQ/GPJ5alyO8T/dG/LAmSHpP9lOxaEYdtA/uus3SmLt4z/ottl3r/T0P6aM1Itbofo/NM8hBz3V1z/bn1uVek3Uv+Qk0YLE6d0/DoMtK5v/+D/X/hZj/xPrPxWo8JeMNPk/XrdOGhVy2T+/iMC9m23Qv33cROlkQ9k/yEfMNnfr0z/YObPFYEndv1tlYa5BN/I/cryV6ZOA1T/krPP2CoHmP6XKbvISsdu/oafDU7zr4D/6ADIp/xbdP/TCK6QHRPA/k/DaJahn4z966z6qeNQAQA9aeNqkOvG/iBHQw7x62D/y/Bh3uWnpP0l2GwRHrdE/54PQp+WK0D9vNNes0Gj+P+lwO5sEi/Q/i9CmlXtk0L8=\",\"dtype\":\"float64\",\"order\":\"little\",\"shape\":[82]},\"glimpse_url_t0\":[\"https://macrohet.s3.eu-west-2.amazonaws.com/dMtb/dMtb_glimpses/glimpse_360.3.5_t0.png\",\"https://macrohet.s3.eu-west-2.amazonaws.com/dMtb/dMtb_glimpses/glimpse_362.3.5_t0.png\",\"https://macrohet.s3.eu-west-2.amazonaws.com/dMtb/dMtb_glimpses/glimpse_484.3.5_t0.png\",\"https://macrohet.s3.eu-west-2.amazonaws.com/dMtb/dMtb_glimpses/glimpse_486.3.5_t0.png\",\"https://macrohet.s3.eu-west-2.amazonaws.com/dMtb/dMtb_glimpses/glimpse_539.3.5_t0.png\",\"https://macrohet.s3.eu-west-2.amazonaws.com/dMtb/dMtb_glimpses/glimpse_106.3.5_t0.png\",\"https://macrohet.s3.eu-west-2.amazonaws.com/dMtb/dMtb_glimpses/glimpse_148.3.5_t0.png\",\"https://macrohet.s3.eu-west-2.amazonaws.com/dMtb/dMtb_glimpses/glimpse_128.3.5_t0.png\",\"https://macrohet.s3.eu-west-2.amazonaws.com/dMtb/dMtb_glimpses/glimpse_62.3.5_t0.png\",\"https://macrohet.s3.eu-west-2.amazonaws.com/dMtb/dMtb_glimpses/glimpse_51.3.5_t0.png\",\"https://macrohet.s3.eu-west-2.amazonaws.com/dMtb/dMtb_glimpses/glimpse_240.3.5_t0.png\",\"https://macrohet.s3.eu-west-2.amazonaws.com/dMtb/dMtb_glimpses/glimpse_280.3.5_t0.png\",\"https://macrohet.s3.eu-west-2.amazonaws.com/dMtb/dMtb_glimpses/glimpse_223.3.5_t0.png\",\"https://macrohet.s3.eu-west-2.amazonaws.com/dMtb/dMtb_glimpses/glimpse_213.3.5_t0.png\",\"https://macrohet.s3.eu-west-2.amazonaws.com/dMtb/dMtb_glimpses/glimpse_673.3.5_t1.png\",\"https://macrohet.s3.eu-west-2.amazonaws.com/dMtb/dMtb_glimpses/glimpse_638.3.5_t1.png\",\"https://macrohet.s3.eu-west-2.amazonaws.com/dMtb/dMtb_glimpses/glimpse_1138.3.5_t8.png\",\"https://macrohet.s3.eu-west-2.amazonaws.com/dMtb/dMtb_glimpses/glimpse_1308.3.5_t10.png\",\"https://macrohet.s3.eu-west-2.amazonaws.com/dMtb/dMtb_glimpses/glimpse_1324.3.5_t11.png\",\"https://macrohet.s3.eu-west-2.amazonaws.com/dMtb/dMtb_glimpses/glimpse_2492.3.5_t34.png\",\"https://macrohet.s3.eu-west-2.amazonaws.com/dMtb/dMtb_glimpses/glimpse_639.4.5_t0.png\",\"https://macrohet.s3.eu-west-2.amazonaws.com/dMtb/dMtb_glimpses/glimpse_621.4.5_t0.png\",\"https://macrohet.s3.eu-west-2.amazonaws.com/dMtb/dMtb_glimpses/glimpse_530.4.5_t0.png\",\"https://macrohet.s3.eu-west-2.amazonaws.com/dMtb/dMtb_glimpses/glimpse_510.4.5_t0.png\",\"https://macrohet.s3.eu-west-2.amazonaws.com/dMtb/dMtb_glimpses/glimpse_150.4.5_t0.png\",\"https://macrohet.s3.eu-west-2.amazonaws.com/dMtb/dMtb_glimpses/glimpse_162.4.5_t0.png\",\"https://macrohet.s3.eu-west-2.amazonaws.com/dMtb/dMtb_glimpses/glimpse_11.4.5_t0.png\",\"https://macrohet.s3.eu-west-2.amazonaws.com/dMtb/dMtb_glimpses/glimpse_44.4.5_t0.png\",\"https://macrohet.s3.eu-west-2.amazonaws.com/dMtb/dMtb_glimpses/glimpse_184.4.5_t0.png\",\"https://macrohet.s3.eu-west-2.amazonaws.com/dMtb/dMtb_glimpses/glimpse_725.4.5_t1.png\",\"https://macrohet.s3.eu-west-2.amazonaws.com/dMtb/dMtb_glimpses/glimpse_727.4.5_t1.png\",\"https://macrohet.s3.eu-west-2.amazonaws.com/dMtb/dMtb_glimpses/glimpse_698.4.5_t1.png\",\"https://macrohet.s3.eu-west-2.amazonaws.com/dMtb/dMtb_glimpses/glimpse_835.4.5_t2.png\",\"https://macrohet.s3.eu-west-2.amazonaws.com/dMtb/dMtb_glimpses/glimpse_840.4.5_t2.png\",\"https://macrohet.s3.eu-west-2.amazonaws.com/dMtb/dMtb_glimpses/glimpse_873.4.5_t2.png\",\"https://macrohet.s3.eu-west-2.amazonaws.com/dMtb/dMtb_glimpses/glimpse_761.4.5_t2.png\",\"https://macrohet.s3.eu-west-2.amazonaws.com/dMtb/dMtb_glimpses/glimpse_904.4.5_t3.png\",\"https://macrohet.s3.eu-west-2.amazonaws.com/dMtb/dMtb_glimpses/glimpse_1254.4.5_t7.png\",\"https://macrohet.s3.eu-west-2.amazonaws.com/dMtb/dMtb_glimpses/glimpse_1705.4.5_t16.png\",\"https://macrohet.s3.eu-west-2.amazonaws.com/dMtb/dMtb_glimpses/glimpse_474.5.5_t0.png\",\"https://macrohet.s3.eu-west-2.amazonaws.com/dMtb/dMtb_glimpses/glimpse_467.5.5_t0.png\",\"https://macrohet.s3.eu-west-2.amazonaws.com/dMtb/dMtb_glimpses/glimpse_396.5.5_t0.png\",\"https://macrohet.s3.eu-west-2.amazonaws.com/dMtb/dMtb_glimpses/glimpse_404.5.5_t0.png\",\"https://macrohet.s3.eu-west-2.amazonaws.com/dMtb/dMtb_glimpses/glimpse_523.5.5_t0.png\",\"https://macrohet.s3.eu-west-2.amazonaws.com/dMtb/dMtb_glimpses/glimpse_525.5.5_t0.png\",\"https://macrohet.s3.eu-west-2.amazonaws.com/dMtb/dMtb_glimpses/glimpse_504.5.5_t0.png\",\"https://macrohet.s3.eu-west-2.amazonaws.com/dMtb/dMtb_glimpses/glimpse_149.5.5_t0.png\",\"https://macrohet.s3.eu-west-2.amazonaws.com/dMtb/dMtb_glimpses/glimpse_70.5.5_t0.png\",\"https://macrohet.s3.eu-west-2.amazonaws.com/dMtb/dMtb_glimpses/glimpse_275.5.5_t0.png\",\"https://macrohet.s3.eu-west-2.amazonaws.com/dMtb/dMtb_glimpses/glimpse_187.5.5_t0.png\",\"https://macrohet.s3.eu-west-2.amazonaws.com/dMtb/dMtb_glimpses/glimpse_201.5.5_t0.png\",\"https://macrohet.s3.eu-west-2.amazonaws.com/dMtb/dMtb_glimpses/glimpse_653.5.5_t1.png\",\"https://macrohet.s3.eu-west-2.amazonaws.com/dMtb/dMtb_glimpses/glimpse_849.5.5_t2.png\",\"https://macrohet.s3.eu-west-2.amazonaws.com/dMtb/dMtb_glimpses/glimpse_907.5.5_t3.png\",\"https://macrohet.s3.eu-west-2.amazonaws.com/dMtb/dMtb_glimpses/glimpse_1236.5.5_t8.png\",\"https://macrohet.s3.eu-west-2.amazonaws.com/dMtb/dMtb_glimpses/glimpse_1322.5.5_t10.png\",\"https://macrohet.s3.eu-west-2.amazonaws.com/dMtb/dMtb_glimpses/glimpse_1429.5.5_t11.png\",\"https://macrohet.s3.eu-west-2.amazonaws.com/dMtb/dMtb_glimpses/glimpse_1633.5.5_t15.png\",\"https://macrohet.s3.eu-west-2.amazonaws.com/dMtb/dMtb_glimpses/glimpse_1942.5.5_t21.png\",\"https://macrohet.s3.eu-west-2.amazonaws.com/dMtb/dMtb_glimpses/glimpse_2038.5.5_t23.png\",\"https://macrohet.s3.eu-west-2.amazonaws.com/dMtb/dMtb_glimpses/glimpse_2120.5.5_t25.png\",\"https://macrohet.s3.eu-west-2.amazonaws.com/dMtb/dMtb_glimpses/glimpse_2215.5.5_t28.png\",\"https://macrohet.s3.eu-west-2.amazonaws.com/dMtb/dMtb_glimpses/glimpse_454.6.5_t0.png\",\"https://macrohet.s3.eu-west-2.amazonaws.com/dMtb/dMtb_glimpses/glimpse_656.6.5_t0.png\",\"https://macrohet.s3.eu-west-2.amazonaws.com/dMtb/dMtb_glimpses/glimpse_693.6.5_t0.png\",\"https://macrohet.s3.eu-west-2.amazonaws.com/dMtb/dMtb_glimpses/glimpse_701.6.5_t0.png\",\"https://macrohet.s3.eu-west-2.amazonaws.com/dMtb/dMtb_glimpses/glimpse_586.6.5_t0.png\",\"https://macrohet.s3.eu-west-2.amazonaws.com/dMtb/dMtb_glimpses/glimpse_145.6.5_t0.png\",\"https://macrohet.s3.eu-west-2.amazonaws.com/dMtb/dMtb_glimpses/glimpse_34.6.5_t0.png\",\"https://macrohet.s3.eu-west-2.amazonaws.com/dMtb/dMtb_glimpses/glimpse_353.6.5_t0.png\",\"https://macrohet.s3.eu-west-2.amazonaws.com/dMtb/dMtb_glimpses/glimpse_65.6.5_t0.png\",\"https://macrohet.s3.eu-west-2.amazonaws.com/dMtb/dMtb_glimpses/glimpse_292.6.5_t0.png\",\"https://macrohet.s3.eu-west-2.amazonaws.com/dMtb/dMtb_glimpses/glimpse_185.6.5_t0.png\",\"https://macrohet.s3.eu-west-2.amazonaws.com/dMtb/dMtb_glimpses/glimpse_236.6.5_t0.png\",\"https://macrohet.s3.eu-west-2.amazonaws.com/dMtb/dMtb_glimpses/glimpse_240.6.5_t0.png\",\"https://macrohet.s3.eu-west-2.amazonaws.com/dMtb/dMtb_glimpses/glimpse_823.6.5_t2.png\",\"https://macrohet.s3.eu-west-2.amazonaws.com/dMtb/dMtb_glimpses/glimpse_864.6.5_t2.png\",\"https://macrohet.s3.eu-west-2.amazonaws.com/dMtb/dMtb_glimpses/glimpse_1075.6.5_t4.png\",\"https://macrohet.s3.eu-west-2.amazonaws.com/dMtb/dMtb_glimpses/glimpse_1216.6.5_t6.png\",\"https://macrohet.s3.eu-west-2.amazonaws.com/dMtb/dMtb_glimpses/glimpse_1314.6.5_t7.png\",\"https://macrohet.s3.eu-west-2.amazonaws.com/dMtb/dMtb_glimpses/glimpse_1894.6.5_t16.png\",\"https://macrohet.s3.eu-west-2.amazonaws.com/dMtb/dMtb_glimpses/glimpse_2180.6.5_t21.png\"],\"glimpse_url_tn\":[\"https://macrohet.s3.eu-west-2.amazonaws.com/dMtb/dMtb_glimpses/glimpse_360.3.5_t-1.png\",\"https://macrohet.s3.eu-west-2.amazonaws.com/dMtb/dMtb_glimpses/glimpse_362.3.5_t-1.png\",\"https://macrohet.s3.eu-west-2.amazonaws.com/dMtb/dMtb_glimpses/glimpse_484.3.5_t-1.png\",\"https://macrohet.s3.eu-west-2.amazonaws.com/dMtb/dMtb_glimpses/glimpse_486.3.5_t-1.png\",\"https://macrohet.s3.eu-west-2.amazonaws.com/dMtb/dMtb_glimpses/glimpse_539.3.5_t-1.png\",\"https://macrohet.s3.eu-west-2.amazonaws.com/dMtb/dMtb_glimpses/glimpse_106.3.5_t-1.png\",\"https://macrohet.s3.eu-west-2.amazonaws.com/dMtb/dMtb_glimpses/glimpse_148.3.5_t-1.png\",\"https://macrohet.s3.eu-west-2.amazonaws.com/dMtb/dMtb_glimpses/glimpse_128.3.5_t-1.png\",\"https://macrohet.s3.eu-west-2.amazonaws.com/dMtb/dMtb_glimpses/glimpse_62.3.5_t-1.png\",\"https://macrohet.s3.eu-west-2.amazonaws.com/dMtb/dMtb_glimpses/glimpse_51.3.5_t-1.png\",\"https://macrohet.s3.eu-west-2.amazonaws.com/dMtb/dMtb_glimpses/glimpse_240.3.5_t-1.png\",\"https://macrohet.s3.eu-west-2.amazonaws.com/dMtb/dMtb_glimpses/glimpse_280.3.5_t-1.png\",\"https://macrohet.s3.eu-west-2.amazonaws.com/dMtb/dMtb_glimpses/glimpse_223.3.5_t-1.png\",\"https://macrohet.s3.eu-west-2.amazonaws.com/dMtb/dMtb_glimpses/glimpse_213.3.5_t-1.png\",\"https://macrohet.s3.eu-west-2.amazonaws.com/dMtb/dMtb_glimpses/glimpse_673.3.5_t-1.png\",\"https://macrohet.s3.eu-west-2.amazonaws.com/dMtb/dMtb_glimpses/glimpse_638.3.5_t-1.png\",\"https://macrohet.s3.eu-west-2.amazonaws.com/dMtb/dMtb_glimpses/glimpse_1138.3.5_t-1.png\",\"https://macrohet.s3.eu-west-2.amazonaws.com/dMtb/dMtb_glimpses/glimpse_1308.3.5_t-1.png\",\"https://macrohet.s3.eu-west-2.amazonaws.com/dMtb/dMtb_glimpses/glimpse_1324.3.5_t-1.png\",\"https://macrohet.s3.eu-west-2.amazonaws.com/dMtb/dMtb_glimpses/glimpse_2492.3.5_t-1.png\",\"https://macrohet.s3.eu-west-2.amazonaws.com/dMtb/dMtb_glimpses/glimpse_639.4.5_t-1.png\",\"https://macrohet.s3.eu-west-2.amazonaws.com/dMtb/dMtb_glimpses/glimpse_621.4.5_t-1.png\",\"https://macrohet.s3.eu-west-2.amazonaws.com/dMtb/dMtb_glimpses/glimpse_530.4.5_t-1.png\",\"https://macrohet.s3.eu-west-2.amazonaws.com/dMtb/dMtb_glimpses/glimpse_510.4.5_t-1.png\",\"https://macrohet.s3.eu-west-2.amazonaws.com/dMtb/dMtb_glimpses/glimpse_150.4.5_t-1.png\",\"https://macrohet.s3.eu-west-2.amazonaws.com/dMtb/dMtb_glimpses/glimpse_162.4.5_t-1.png\",\"https://macrohet.s3.eu-west-2.amazonaws.com/dMtb/dMtb_glimpses/glimpse_11.4.5_t-1.png\",\"https://macrohet.s3.eu-west-2.amazonaws.com/dMtb/dMtb_glimpses/glimpse_44.4.5_t-1.png\",\"https://macrohet.s3.eu-west-2.amazonaws.com/dMtb/dMtb_glimpses/glimpse_184.4.5_t-1.png\",\"https://macrohet.s3.eu-west-2.amazonaws.com/dMtb/dMtb_glimpses/glimpse_725.4.5_t-1.png\",\"https://macrohet.s3.eu-west-2.amazonaws.com/dMtb/dMtb_glimpses/glimpse_727.4.5_t-1.png\",\"https://macrohet.s3.eu-west-2.amazonaws.com/dMtb/dMtb_glimpses/glimpse_698.4.5_t-1.png\",\"https://macrohet.s3.eu-west-2.amazonaws.com/dMtb/dMtb_glimpses/glimpse_835.4.5_t-1.png\",\"https://macrohet.s3.eu-west-2.amazonaws.com/dMtb/dMtb_glimpses/glimpse_840.4.5_t-1.png\",\"https://macrohet.s3.eu-west-2.amazonaws.com/dMtb/dMtb_glimpses/glimpse_873.4.5_t-1.png\",\"https://macrohet.s3.eu-west-2.amazonaws.com/dMtb/dMtb_glimpses/glimpse_761.4.5_t-1.png\",\"https://macrohet.s3.eu-west-2.amazonaws.com/dMtb/dMtb_glimpses/glimpse_904.4.5_t-1.png\",\"https://macrohet.s3.eu-west-2.amazonaws.com/dMtb/dMtb_glimpses/glimpse_1254.4.5_t-1.png\",\"https://macrohet.s3.eu-west-2.amazonaws.com/dMtb/dMtb_glimpses/glimpse_1705.4.5_t-1.png\",\"https://macrohet.s3.eu-west-2.amazonaws.com/dMtb/dMtb_glimpses/glimpse_474.5.5_t-1.png\",\"https://macrohet.s3.eu-west-2.amazonaws.com/dMtb/dMtb_glimpses/glimpse_467.5.5_t-1.png\",\"https://macrohet.s3.eu-west-2.amazonaws.com/dMtb/dMtb_glimpses/glimpse_396.5.5_t-1.png\",\"https://macrohet.s3.eu-west-2.amazonaws.com/dMtb/dMtb_glimpses/glimpse_404.5.5_t-1.png\",\"https://macrohet.s3.eu-west-2.amazonaws.com/dMtb/dMtb_glimpses/glimpse_523.5.5_t-1.png\",\"https://macrohet.s3.eu-west-2.amazonaws.com/dMtb/dMtb_glimpses/glimpse_525.5.5_t-1.png\",\"https://macrohet.s3.eu-west-2.amazonaws.com/dMtb/dMtb_glimpses/glimpse_504.5.5_t-1.png\",\"https://macrohet.s3.eu-west-2.amazonaws.com/dMtb/dMtb_glimpses/glimpse_149.5.5_t-1.png\",\"https://macrohet.s3.eu-west-2.amazonaws.com/dMtb/dMtb_glimpses/glimpse_70.5.5_t-1.png\",\"https://macrohet.s3.eu-west-2.amazonaws.com/dMtb/dMtb_glimpses/glimpse_275.5.5_t-1.png\",\"https://macrohet.s3.eu-west-2.amazonaws.com/dMtb/dMtb_glimpses/glimpse_187.5.5_t-1.png\",\"https://macrohet.s3.eu-west-2.amazonaws.com/dMtb/dMtb_glimpses/glimpse_201.5.5_t-1.png\",\"https://macrohet.s3.eu-west-2.amazonaws.com/dMtb/dMtb_glimpses/glimpse_653.5.5_t-1.png\",\"https://macrohet.s3.eu-west-2.amazonaws.com/dMtb/dMtb_glimpses/glimpse_849.5.5_t-1.png\",\"https://macrohet.s3.eu-west-2.amazonaws.com/dMtb/dMtb_glimpses/glimpse_907.5.5_t-1.png\",\"https://macrohet.s3.eu-west-2.amazonaws.com/dMtb/dMtb_glimpses/glimpse_1236.5.5_t-1.png\",\"https://macrohet.s3.eu-west-2.amazonaws.com/dMtb/dMtb_glimpses/glimpse_1322.5.5_t-1.png\",\"https://macrohet.s3.eu-west-2.amazonaws.com/dMtb/dMtb_glimpses/glimpse_1429.5.5_t-1.png\",\"https://macrohet.s3.eu-west-2.amazonaws.com/dMtb/dMtb_glimpses/glimpse_1633.5.5_t-1.png\",\"https://macrohet.s3.eu-west-2.amazonaws.com/dMtb/dMtb_glimpses/glimpse_1942.5.5_t-1.png\",\"https://macrohet.s3.eu-west-2.amazonaws.com/dMtb/dMtb_glimpses/glimpse_2038.5.5_t-1.png\",\"https://macrohet.s3.eu-west-2.amazonaws.com/dMtb/dMtb_glimpses/glimpse_2120.5.5_t-1.png\",\"https://macrohet.s3.eu-west-2.amazonaws.com/dMtb/dMtb_glimpses/glimpse_2215.5.5_t-1.png\",\"https://macrohet.s3.eu-west-2.amazonaws.com/dMtb/dMtb_glimpses/glimpse_454.6.5_t-1.png\",\"https://macrohet.s3.eu-west-2.amazonaws.com/dMtb/dMtb_glimpses/glimpse_656.6.5_t-1.png\",\"https://macrohet.s3.eu-west-2.amazonaws.com/dMtb/dMtb_glimpses/glimpse_693.6.5_t-1.png\",\"https://macrohet.s3.eu-west-2.amazonaws.com/dMtb/dMtb_glimpses/glimpse_701.6.5_t-1.png\",\"https://macrohet.s3.eu-west-2.amazonaws.com/dMtb/dMtb_glimpses/glimpse_586.6.5_t-1.png\",\"https://macrohet.s3.eu-west-2.amazonaws.com/dMtb/dMtb_glimpses/glimpse_145.6.5_t-1.png\",\"https://macrohet.s3.eu-west-2.amazonaws.com/dMtb/dMtb_glimpses/glimpse_34.6.5_t-1.png\",\"https://macrohet.s3.eu-west-2.amazonaws.com/dMtb/dMtb_glimpses/glimpse_353.6.5_t-1.png\",\"https://macrohet.s3.eu-west-2.amazonaws.com/dMtb/dMtb_glimpses/glimpse_65.6.5_t-1.png\",\"https://macrohet.s3.eu-west-2.amazonaws.com/dMtb/dMtb_glimpses/glimpse_292.6.5_t-1.png\",\"https://macrohet.s3.eu-west-2.amazonaws.com/dMtb/dMtb_glimpses/glimpse_185.6.5_t-1.png\",\"https://macrohet.s3.eu-west-2.amazonaws.com/dMtb/dMtb_glimpses/glimpse_236.6.5_t-1.png\",\"https://macrohet.s3.eu-west-2.amazonaws.com/dMtb/dMtb_glimpses/glimpse_240.6.5_t-1.png\",\"https://macrohet.s3.eu-west-2.amazonaws.com/dMtb/dMtb_glimpses/glimpse_823.6.5_t-1.png\",\"https://macrohet.s3.eu-west-2.amazonaws.com/dMtb/dMtb_glimpses/glimpse_864.6.5_t-1.png\",\"https://macrohet.s3.eu-west-2.amazonaws.com/dMtb/dMtb_glimpses/glimpse_1075.6.5_t-1.png\",\"https://macrohet.s3.eu-west-2.amazonaws.com/dMtb/dMtb_glimpses/glimpse_1216.6.5_t-1.png\",\"https://macrohet.s3.eu-west-2.amazonaws.com/dMtb/dMtb_glimpses/glimpse_1314.6.5_t-1.png\",\"https://macrohet.s3.eu-west-2.amazonaws.com/dMtb/dMtb_glimpses/glimpse_1894.6.5_t-1.png\",\"https://macrohet.s3.eu-west-2.amazonaws.com/dMtb/dMtb_glimpses/glimpse_2180.6.5_t-1.png\"],\"strain\":[\"WT\",\"WT\",\"WT\",\"WT\",\"WT\",\"WT\",\"WT\",\"WT\",\"WT\",\"WT\",\"WT\",\"WT\",\"WT\",\"WT\",\"WT\",\"WT\",\"WT\",\"WT\",\"WT\",\"WT\",\"WT\",\"WT\",\"WT\",\"WT\",\"WT\",\"WT\",\"WT\",\"WT\",\"WT\",\"WT\",\"WT\",\"WT\",\"WT\",\"WT\",\"WT\",\"WT\",\"WT\",\"WT\",\"WT\",\"WT\",\"WT\",\"WT\",\"WT\",\"WT\",\"WT\",\"WT\",\"WT\",\"WT\",\"WT\",\"WT\",\"WT\",\"WT\",\"WT\",\"WT\",\"WT\",\"WT\",\"WT\",\"WT\",\"WT\",\"WT\",\"WT\",\"WT\",\"WT\",\"WT\",\"WT\",\"WT\",\"WT\",\"WT\",\"WT\",\"WT\",\"WT\",\"WT\",\"WT\",\"WT\",\"WT\",\"WT\",\"WT\",\"WT\",\"WT\",\"WT\",\"WT\",\"WT\"],\"tech_rep\":[1,1,1,1,1,1,1,1,1,1,1,1,1,1,1,1,1,1,1,1,2,2,2,2,2,2,2,2,2,2,2,2,2,2,2,2,2,2,2,1,1,1,1,1,1,1,1,1,1,1,1,1,1,1,1,1,1,1,1,1,1,1,2,2,2,2,2,2,2,2,2,2,2,2,2,2,2,2,2,2,2,2],\"x\":{\"__ndarray__\":\"xUqZxtDf0D/IseBAl8vxP+12aNBlTgJAnGifnv3f0T9yN+nFjq0BQKAUaz5ZxgJA3cOoUFgS2D+nE81/OZPuPznCOc9BHeQ/Aq8GB7l21z9ErjJS9yPmP3XvYXkHfxJATMo7uUSf0j87M+f6lEPqvwmCCMYF0fG/Y1zCSo9a0z9SqtL6dZXnP+A33nHLP+c/TmR4KeTv0D8CKAdry+bQP182FOwHLvY/kzxpcDyY5T8qkHatuxvcP2CJ23prB9g/J9PpFv1l9D938ta91pfhP/nZv0f2Ofk/ReYjU4686T+BEKz7QhPYPxGiFj3oatk/DwgsjdTV2j8bej/xinz2P2QnyS2Tm+I/PzbNpjrG8D9kH8nj0j3SP990dKIMxNQ/qsRCH+z00z/MTVXpCsnmP9t+fhCHmNA/GtuIYGU5y79WywAXcw7UP7qS2E+IE/I/kYHX2RKi1D/II+4hGJPwP1/EVuF1IgFAWujbUWbO5T/AwPPv1/bXP0Q92pDDCPQ/GPJ5alyO8T/dG/LAmSHpP9lOxaEYdtA/uus3SmLt4z/ottl3r/T0P6aM1Itbofo/NM8hBz3V1z/bn1uVek3Uv+Qk0YLE6d0/DoMtK5v/+D/X/hZj/xPrPxWo8JeMNPk/XrdOGhVy2T+/iMC9m23Qv33cROlkQ9k/yEfMNnfr0z/YObPFYEndv1tlYa5BN/I/cryV6ZOA1T/krPP2CoHmP6XKbvISsdu/oafDU7zr4D/6ADIp/xbdP/TCK6QHRPA/k/DaJahn4z966z6qeNQAQA9aeNqkOvG/iBHQw7x62D/y/Bh3uWnpP0l2GwRHrdE/54PQp+WK0D9vNNes0Gj+P+lwO5sEi/Q/i9CmlXtk0L8=\",\"dtype\":\"float64\",\"order\":\"little\",\"shape\":[82]},\"y\":{\"__ndarray__\":\"RSkhWFUvrz/TUKOQZFavP15HHLKBdLE/qwg3GVWGsT8dHOxNDMmxPzs3bcZpiLI/Rn2SO2wisz/TLxFvnX+zP7NCke7nFLQ/HeT1YFJ8tD890uC2tvC0P/HW+bfLfrU/fJkoQup2tj8DXfsCeuG2PzCeQUP/BLc/iBIteTwttz8y6ITQQZe4P5RnXg6777g/HAbzV8hcuT+KOnMPCd+7P135LM+Du9s/H/et1onL2z/h0cYRa/HbP4ZZaOc0C9w/4BCq1OyB3D87jbRU3o7cP9vbLckBu9w/eEXwv5Xs3D9sBrggW5bdP1nABG7dzd0/YhHDDmPS3T+EfqZetwjeP3wKgPEMGt4/rKksCrso3j97MZQT7SreP7q8OVyrPd4/OSnMe5xp3j/uJ2N8mL3ePzHT9q+sNN8/B7ZKsDic6D9B1lOrr67oP97oYz4g0Og/qhCPxMvT6D8GR8mrcwzpP3bDtkWZDek/C7PQzmkW6T8h6dMq+kPpP530vvG1Z+k/xvgwe9l26T+5G0RrRZvpP+rpI/CHn+k/Kqc9JefE6T/XogVoW83pP5aVJqWg2+k/K4nsgywL6j9TspyE0hfqP9eFH5xPHeo/MNRhhVs+6j8WwJSBA1rqP/BOPj22Zeo/+s+aH39p6j9RvMrapnjqP8qnx7YMuPE/zAuwj07d8T8cB14td+bxP4B9dOrK5/E/7fDXZI368T/xLawb7w7yP1DkSdI1E/I/rDsW26Qi8j+d1QJ7TCTyP2xdaoR+JvI/YMd/gSBA8j9rniPyXUryPx/3rdaJS/I/DXBBtixf8j+cbtkh/mHyP/Yn8bkTbPI/1SE3ww148j/erwJ8t3nyP9XPm4pUmPI/fJ4/bVSn8j8=\",\"dtype\":\"float64\",\"order\":\"little\",\"shape\":[82]}},\"name\":\"WT, CTRL, EC0\",\"selected\":{\"id\":\"788084\"},\"selection_policy\":{\"id\":\"788083\"}},\"id\":\"787988\",\"type\":\"ColumnDataSource\"},{\"attributes\":{\"source\":{\"id\":\"787988\"}},\"id\":\"787994\",\"type\":\"CDSView\"},{\"attributes\":{},\"id\":\"787789\",\"type\":\"Selection\"},{\"attributes\":{},\"id\":\"787309\",\"type\":\"DataRange1d\"},{\"attributes\":{\"axis_label\":\"Frequency\",\"coordinates\":null,\"formatter\":{\"id\":\"787299\"},\"group\":null,\"major_label_policy\":{\"id\":\"787300\"},\"ticker\":{\"id\":\"787280\"}},\"id\":\"787279\",\"type\":\"LinearAxis\"},{\"attributes\":{\"fill_alpha\":0.1,\"fill_color\":\"#1a9641\",\"hatch_alpha\":{\"value\":0.1},\"hatch_color\":{\"value\":\"#1a9641\"},\"x\":{\"field\":\"x\"},\"y1\":{\"value\":0},\"y2\":{\"field\":\"kde_values\"}},\"id\":\"787912\",\"type\":\"VArea\"},{\"attributes\":{},\"id\":\"787280\",\"type\":\"BasicTicker\"},{\"attributes\":{\"axis\":{\"id\":\"787275\"},\"coordinates\":null,\"group\":null,\"ticker\":null},\"id\":\"787278\",\"type\":\"Grid\"},{\"attributes\":{\"coordinates\":null,\"data_source\":{\"id\":\"787908\"},\"glyph\":{\"id\":\"787910\"},\"group\":null,\"hover_glyph\":null,\"muted_glyph\":{\"id\":\"787912\"},\"nonselection_glyph\":{\"id\":\"787911\"},\"view\":{\"id\":\"787914\"}},\"id\":\"787913\",\"type\":\"GlyphRenderer\"},{\"attributes\":{\"coordinates\":null,\"formatter\":{\"id\":\"787302\"},\"group\":null,\"major_label_policy\":{\"id\":\"787303\"},\"ticker\":{\"id\":\"787276\"},\"visible\":false},\"id\":\"787275\",\"type\":\"LinearAxis\"},{\"attributes\":{\"coordinates\":null,\"data_source\":{\"id\":\"787393\"},\"glyph\":{\"id\":\"787414\"},\"group\":null,\"hover_glyph\":null,\"muted_glyph\":{\"id\":\"787416\"},\"nonselection_glyph\":{\"id\":\"787415\"},\"view\":{\"id\":\"787418\"}},\"id\":\"787417\",\"type\":\"GlyphRenderer\"},{\"attributes\":{\"source\":{\"id\":\"787393\"}},\"id\":\"787418\",\"type\":\"CDSView\"},{\"attributes\":{},\"id\":\"787276\",\"type\":\"BasicTicker\"},{\"attributes\":{\"below\":[{\"id\":\"787549\"}],\"center\":[{\"id\":\"787552\"},{\"id\":\"787556\"},{\"id\":\"787643\"}],\"height\":400,\"left\":[{\"id\":\"787553\"}],\"renderers\":[{\"id\":\"787630\"},{\"id\":\"787649\"},{\"id\":\"787674\"},{\"id\":\"787694\"},{\"id\":\"787721\"},{\"id\":\"787743\"},{\"id\":\"787772\"},{\"id\":\"787796\"}],\"title\":{\"id\":\"787571\"},\"toolbar\":{\"id\":\"787564\"},\"toolbar_location\":null,\"width\":500,\"x_range\":{\"id\":\"787581\"},\"x_scale\":{\"id\":\"787545\"},\"y_range\":{\"id\":\"787543\"},\"y_scale\":{\"id\":\"787547\"}},\"id\":\"787540\",\"subtype\":\"Figure\",\"type\":\"Plot\"}],\"root_ids\":[\"788090\"]},\"title\":\"Bokeh Application\",\"version\":\"2.4.3\"}};\n",
       "  const render_items = [{\"docid\":\"56df58c1-2e61-4cf6-a024-2eb4bfe57f1d\",\"root_ids\":[\"788090\"],\"roots\":{\"788090\":\"d9adfcf7-35cf-4f1a-a872-9e36c61d433c\"}}];\n",
       "  root.Bokeh.embed.embed_items_notebook(docs_json, render_items);\n",
       "  }\n",
       "  if (root.Bokeh !== undefined) {\n",
       "    embed_document(root);\n",
       "  } else {\n",
       "    let attempts = 0;\n",
       "    const timer = setInterval(function(root) {\n",
       "      if (root.Bokeh !== undefined) {\n",
       "        clearInterval(timer);\n",
       "        embed_document(root);\n",
       "      } else {\n",
       "        attempts++;\n",
       "        if (attempts > 100) {\n",
       "          clearInterval(timer);\n",
       "          console.log(\"Bokeh: ERROR: Unable to run BokehJS code because BokehJS library is missing\");\n",
       "        }\n",
       "      }\n",
       "    }, 10, root)\n",
       "  }\n",
       "})(window);"
      ],
      "application/vnd.bokehjs_exec.v0+json": ""
     },
     "metadata": {
      "application/vnd.bokehjs_exec.v0+json": {
       "id": "788090"
      }
     },
     "output_type": "display_data"
    }
   ],
   "source": [
    "from bokeh.layouts import gridplot\n",
    "from scipy.stats import gaussian_kde\n",
    "\n",
    "# Create the upper plot\n",
    "p1 = figure(height=400, \n",
    "            width=500, \n",
    "            title='Histograms showing the distribution of \\nthe change in intracellular Mtb (ΔMtb)', \n",
    "            y_axis_label='Frequency',\n",
    "            tools='crosshair,save,pan,box_zoom,reset,wheel_zoom')\n",
    "p1.toolbar.active_scroll = p1.select_one(WheelZoomTool)\n",
    "p1.x_range = Range1d(-0.4, 0.4)\n",
    "# Customize y-axis ticker\n",
    "p1.xaxis.visible = False  # Remove x-axis\n",
    "\n",
    "# Create the lower plot\n",
    "p2 = figure(height=200, \n",
    "            width=500, \n",
    "            x_axis_label='ΔMtb \\n(fold-change relative to area)',\n",
    "            y_axis_label='Outlier browser \\n(1 S.D. from mean)',\n",
    "            tools='crosshair,save,pan,box_zoom,reset,wheel_zoom', \n",
    "            x_range=p1.x_range)\n",
    "\n",
    "p2.yaxis.ticker = []  # Remove y-axis ticks\n",
    "p2.yaxis.formatter = NumeralTickFormatter(format=\"0\")  # Format tick labels\n",
    "\n",
    "p2.toolbar.active_scroll = p2.select_one(WheelZoomTool)\n",
    "\n",
    "# Create the hover tool\n",
    "hover = HoverTool(\n",
    "    tooltips=\n",
    "    \"\"\" <div>\n",
    "        <div style=\"position: relative; display: inline-block;\">\n",
    "            <img\n",
    "                src=\"@glimpse_url_t0\" height=\"120\" alt=\"@glimpse_url_t0\" width=\"120\"\n",
    "                style=\"float: left; margin: 0px 15px 15px 0px;\"\n",
    "                border=\"2\"\n",
    "            >\n",
    "            <div style=\"position: absolute; bottom: 5px; right: 5px; background-color: lightgrey; padding: 5px;\">\n",
    "                <span style=\"font-size: 12px; color: black;\">t = 0</span>\n",
    "            </div>\n",
    "            </img>\n",
    "        </div>\n",
    "        <div style=\"position: relative; display: inline-block;\">\n",
    "            <img\n",
    "                src=\"@glimpse_url_tn\" height=\"120\" alt=\"@glimpse_url_tn\" width=\"120\"\n",
    "                style=\"float: left; margin: 0px 15px 15px 0px;\"\n",
    "                border=\"2\"\n",
    "            >\n",
    "            <div style=\"position: absolute; bottom: 5px; right: 5px; background-color: lightgrey; padding: 5px;\">\n",
    "                <span style=\"font-size: 12px; color: black;\">t = final</span>\n",
    "            </div>\n",
    "            </img>\n",
    "        </div>\n",
    "        <div>\n",
    "             <span style=\"font-size: 17px; font-weight: bold; color: black;\">Cell ID: @cell_ID</span>\n",
    "         </div>\n",
    "         <div>\n",
    "             <span style=\"font-size: 15px; color: black;\">ΔMtb: @x</span>\n",
    "         </div>\n",
    "         <div>\n",
    "             <span style=\"font-size: 15px; color: black;\">Strain: @strain</span>\n",
    "         </div>\n",
    "         <div>\n",
    "             <span style=\"font-size: 15px; color: black;\">Compound: @compound</span>\n",
    "         </div>\n",
    "         <div>\n",
    "             <span style=\"font-size: 15px; color: black;\">Concentration: @concentration</span>\n",
    "         </div>\n",
    "         <div>\n",
    "             <span style=\"font-size: 15px; color: black;\">Tech. replicate: @tech_rep</span>\n",
    "         </div>\n",
    "    </div>\n",
    "\"\"\")\n",
    "\n",
    "p2.add_tools(hover)  # Add the instance of HoverTool\n",
    "\n",
    "outliers = list()\n",
    "for index, condition in df_delta_mtb.groupby(['Strain', 'Compound', 'Concentration']).size().reset_index().rename(columns={0: 'count'}).iterrows():\n",
    "    # only ec50\n",
    "    if condition['Concentration'] != 'EC50':\n",
    "        continue\n",
    "    strain = condition['Strain']\n",
    "    compound = condition['Compound']\n",
    "    concentration = condition['Concentration']\n",
    "    label = f'{strain}, {compound}, {concentration}'\n",
    "    subset_df = df_delta_mtb[(df_delta_mtb['Strain'] == strain)\n",
    "                             & (df_delta_mtb['Compound'] == compound)\n",
    "                             & (df_delta_mtb['Concentration'] == concentration)\n",
    "#                              & (df_delta_mtb['Technical replicate'] == 1)\n",
    "                            ]\n",
    "    data = subset_df['dMtb'].dropna()  # Remove NA values, if any\n",
    "    kde = gaussian_kde(data)\n",
    "    x = np.linspace(data.min(), data.max(), 100)\n",
    "    kde_values = kde(x)\n",
    "\n",
    "    source = ColumnDataSource(data=dict(x=x, kde_values=kde_values))\n",
    "\n",
    "    # Create a quad glyph for the histogram in the upper plot\n",
    "    p1.varea(x='x', y1=0, y2='kde_values',\n",
    "             source=source, \n",
    "             fill_color=expanded_piyg_dict[compound], \n",
    "             alpha=0.6,\n",
    "             muted_color=expanded_piyg_dict[compound], \n",
    "             muted_alpha=0.1,\n",
    "             legend_label=label)\n",
    "    p1.line(x='x', y='kde_values',\n",
    "             source=source, \n",
    "             line_color=expanded_piyg_dict[compound], \n",
    "             line_width = 3, \n",
    "             alpha=1,\n",
    "             muted_color=expanded_piyg_dict[compound], \n",
    "             muted_alpha=0.1,\n",
    "             legend_label=label)\n",
    "    \n",
    "    # create a separate outlier df for below plot\n",
    "    # Calculate the mean and standard deviation of dMtb\n",
    "    mean = subset_df['dMtb'].mean()\n",
    "    std = subset_df['dMtb'].std()\n",
    "\n",
    "    # Define a threshold to determine outliers (e.g., 2 standard deviations from the mean)\n",
    "    threshold = 1 * std\n",
    "\n",
    "    # Filter out the non outliers from subset_df\n",
    "    outlier_df = subset_df[abs(subset_df['dMtb'] - mean) >= threshold]\n",
    "    outliers.append(outlier_df)\n",
    "    \n",
    "    # append url to df \n",
    "    for index, row_ in outlier_df.iterrows():\n",
    "        unique_ID = row_['Unique ID']\n",
    "        cell_ID, row, column = unique_ID.split('.') \n",
    "        t0 = row_['Time (hours)']\n",
    "        outlier_df.at[index, 'glimpse_url_t0'] = f'https://macrohet.s3.eu-west-2.amazonaws.com/dMtb/dMtb_glimpses/glimpse_{cell_ID}.{row}.{column}_t{t0}.png'\n",
    "        outlier_df.at[index, 'glimpse_url_tn'] = f'https://macrohet.s3.eu-west-2.amazonaws.com/dMtb/dMtb_glimpses/glimpse_{cell_ID}.{row}.{column}_t{-1}.png'\n",
    "\n",
    "    # Create scatter plots for the lower plot\n",
    "    source = ColumnDataSource(\n",
    "            name=label,\n",
    "            data=dict(\n",
    "            x=outlier_df['dMtb'],\n",
    "            y=outlier_df.index/5E5,\n",
    "            glimpse_url_t0=outlier_df['glimpse_url_t0'],\n",
    "            glimpse_url_tn=outlier_df['glimpse_url_tn'], \n",
    "            dMtb=outlier_df['dMtb'], \n",
    "            cell_ID=outlier_df['Cell ID'], \n",
    "            strain=outlier_df['Strain'],\n",
    "            compound=outlier_df['Compound'],\n",
    "            concentration=outlier_df['Concentration'],\n",
    "            tech_rep=outlier_df['Technical replicate']\n",
    "        ))\n",
    "    p2.scatter('x', 'y', \n",
    "               source=source,\n",
    "               color=expanded_piyg_dict[compound], \n",
    "               alpha=0.9, \n",
    "               size=20,\n",
    "               line_color='black',  # Set the color of the outline\n",
    "               line_width=1,  # Set the width of the outline\n",
    "               muted_color=expanded_piyg_dict[compound], \n",
    "               muted_alpha=0.1,\n",
    "#                legend_label=label\n",
    "              )\n",
    "\n",
    "# Set the legend location for the upper plot\n",
    "p1.legend.location = \"top_left\"\n",
    "\n",
    "# Uncomment the following line to set the legend location for the lower plot\n",
    "# p2.legend.location = \"top_left\"\n",
    "\n",
    "# Set the click_policy to \"mute\" for the legend in the upper plot\n",
    "p1.legend.click_policy = \"mute\"\n",
    "# Uncomment the following line to set the click_policy to \"mute\" for the legend in the lower plot\n",
    "# p2.legend.click_policy = \"mute\"\n",
    "\n",
    "# Create the upper plot\n",
    "p3 = figure(height=400, \n",
    "            width=500, \n",
    "#             title='Histogram showing the distribution of the change in intracellular Mtb (ΔMtb)', \n",
    "            y_axis_label='Frequency',\n",
    "            tools='crosshair,save,pan,box_zoom,reset,wheel_zoom')\n",
    "p3.toolbar.active_scroll = p3.select_one(WheelZoomTool)\n",
    "p3.x_range = Range1d(-0.4, 0.4)\n",
    "\n",
    "# Customize y-axis ticker\n",
    "p3.xaxis.visible = False  # Remove x-axis\n",
    "\n",
    "# Create the lower plot\n",
    "p4 = figure(height=200, \n",
    "            width=500, \n",
    "            x_axis_label='ΔMtb \\n(fold-change relative to area)',\n",
    "            y_axis_label='Outlier browser \\n(1 S.D. from mean)',\n",
    "            tools='crosshair,save,pan,box_zoom,reset,wheel_zoom', \n",
    "            x_range=p3.x_range)\n",
    "\n",
    "p4.yaxis.ticker = []  # Remove y-axis ticks\n",
    "p4.yaxis.formatter = NumeralTickFormatter(format=\"0\")  # Format tick labels\n",
    "\n",
    "p4.toolbar.active_scroll = p4.select_one(WheelZoomTool)\n",
    "\n",
    "p4.add_tools(hover)  # Add the instance of HoverTool (no need to repeat)\n",
    "\n",
    "\n",
    "for index, condition in df_delta_mtb.groupby(['Strain', 'Compound', 'Concentration']).size().reset_index().rename(columns={0: 'count'}).iterrows():\n",
    "    # only ec99\n",
    "    if condition['Concentration'] != 'EC99':\n",
    "        continue\n",
    "    strain = condition['Strain']\n",
    "    compound = condition['Compound']\n",
    "    concentration = condition['Concentration']\n",
    "    label = f'{strain}, {compound}, {concentration}'\n",
    "    subset_df = df_delta_mtb[(df_delta_mtb['Strain'] == strain)\n",
    "                             & (df_delta_mtb['Compound'] == compound)\n",
    "                             & (df_delta_mtb['Concentration'] == concentration)\n",
    "#                              & (df_delta_mtb['Technical replicate'] == 1)\n",
    "                            ]\n",
    "    data = subset_df['dMtb'].dropna()  # Remove NA values, if any\n",
    "    kde = gaussian_kde(data)\n",
    "    x = np.linspace(data.min(), data.max(), 100)\n",
    "    kde_values = kde(x)\n",
    "\n",
    "    source = ColumnDataSource(data=dict(x=x, kde_values=kde_values))\n",
    "\n",
    "    # Create a quad glyph for the histogram in the upper plot\n",
    "    p3.varea(x='x', y1=0, y2='kde_values',\n",
    "             source=source, \n",
    "             fill_color=expanded_piyg_dict[compound], \n",
    "             alpha=0.6,\n",
    "             muted_color=expanded_piyg_dict[compound], \n",
    "             muted_alpha=0.1,\n",
    "             legend_label=label)\n",
    "    p3.line(x='x', y='kde_values',\n",
    "             source=source, \n",
    "             line_color=expanded_piyg_dict[compound], \n",
    "             line_width = 3,\n",
    "             alpha=1,\n",
    "             muted_color=expanded_piyg_dict[compound], \n",
    "             muted_alpha=0.1,\n",
    "             legend_label=label)\n",
    "    \n",
    "    \n",
    "    # create a separate outlier df for below plot\n",
    "    # Calculate the mean and standard deviation of dMtb\n",
    "    mean = subset_df['dMtb'].mean()\n",
    "    std = subset_df['dMtb'].std()\n",
    "\n",
    "    # Define a threshold to determine outliers (e.g., 2 standard deviations from the mean)\n",
    "    threshold = 1 * std\n",
    "\n",
    "    # Filter out the non outliers from subset_df\n",
    "    outlier_df = subset_df[abs(subset_df['dMtb'] - mean) >= threshold]\n",
    "    outliers.append(outlier_df)\n",
    "    \n",
    "    # append url to df \n",
    "    for index, row_ in outlier_df.iterrows():\n",
    "        unique_ID = row_['Unique ID']\n",
    "        cell_ID, row, column = unique_ID.split('.') \n",
    "        t0 = row_['Time (hours)']\n",
    "        outlier_df.at[index, 'glimpse_url_t0'] = f'https://macrohet.s3.eu-west-2.amazonaws.com/dMtb/dMtb_glimpses/glimpse_{cell_ID}.{row}.{column}_t{t0}.png'\n",
    "        outlier_df.at[index, 'glimpse_url_tn'] = f'https://macrohet.s3.eu-west-2.amazonaws.com/dMtb/dMtb_glimpses/glimpse_{cell_ID}.{row}.{column}_t{-1}.png'\n",
    "\n",
    "    # Create scatter plots for the lower plot\n",
    "    source = ColumnDataSource(\n",
    "            name=label,\n",
    "            data=dict(\n",
    "            x=outlier_df['dMtb'],\n",
    "            y=outlier_df.index/5E5,\n",
    "            glimpse_url_t0=outlier_df['glimpse_url_t0'],\n",
    "            glimpse_url_tn=outlier_df['glimpse_url_tn'], \n",
    "            dMtb=outlier_df['dMtb'], \n",
    "            cell_ID=outlier_df['Cell ID'], \n",
    "            strain=outlier_df['Strain'],\n",
    "            compound=outlier_df['Compound'],\n",
    "            concentration=outlier_df['Concentration'],\n",
    "            tech_rep=outlier_df['Technical replicate']\n",
    "        ))\n",
    "    p4.scatter('x', 'y', \n",
    "               source=source,\n",
    "               color=expanded_piyg_dict[compound], \n",
    "               alpha=0.9, \n",
    "               size=20,\n",
    "               line_color='black',  # Set the color of the outline\n",
    "               line_width=1,  # Set the width of the outline\n",
    "               muted_color=expanded_piyg_dict[compound], \n",
    "               muted_alpha=0.1,\n",
    "#                legend_label=label\n",
    "              )\n",
    "\n",
    "# Set the legend location for the upper plot\n",
    "p3.legend.location = \"top_left\"\n",
    "\n",
    "# Uncomment the following line to set the legend location for the lower plot\n",
    "# p2.legend.location = \"top_left\"\n",
    "\n",
    "# Set the click_policy to \"mute\" for the legend in the upper plot\n",
    "p3.legend.click_policy = \"mute\"\n",
    "# Uncomment the following line to set the click_policy to \"mute\" for the legend in the lower plot\n",
    "# p2.legend.click_policy = \"mute\"\n",
    "\n",
    "# Create the upper plot\n",
    "p5 = figure(height=400, \n",
    "            width=500, \n",
    "            title='Control experiments', \n",
    "            y_axis_label='Frequency',\n",
    "            tools='crosshair,save,pan,box_zoom,reset,wheel_zoom')\n",
    "p5.toolbar.active_scroll = p5.select_one(WheelZoomTool)\n",
    "p5.x_range = Range1d(-0.4, 0.4)\n",
    "\n",
    "# Customize y-axis ticker\n",
    "p5.xaxis.visible = False  # Remove x-axis\n",
    "\n",
    "# Create the lower plot\n",
    "p6 = figure(height=200, \n",
    "            width=500, \n",
    "            x_axis_label='ΔMtb \\n(fold-change relative to area)',\n",
    "            y_axis_label='Outlier browser \\n(1 S.D. from mean)',\n",
    "            tools='crosshair,save,pan,box_zoom,reset,wheel_zoom', \n",
    "            x_range=p5.x_range)\n",
    "\n",
    "p6.yaxis.ticker = []  # Remove y-axis ticks\n",
    "p6.yaxis.formatter = NumeralTickFormatter(format=\"0\")  # Format tick labels\n",
    "\n",
    "p6.toolbar.active_scroll = p6.select_one(WheelZoomTool)\n",
    "\n",
    "p6.add_tools(hover)  # Add the instance of HoverTool (no need to repeat)\n",
    "\n",
    "for index, condition in df_delta_mtb.groupby(['Strain', 'Compound', 'Concentration']).size().reset_index().rename(columns={0: 'count'}).iterrows():\n",
    "    # only ec99\n",
    "    if condition['Concentration'] != 'EC0':\n",
    "        continue\n",
    "    strain = condition['Strain']\n",
    "    compound = condition['Compound']\n",
    "    concentration = condition['Concentration']\n",
    "    label = f'{strain}, {compound}, {concentration}'\n",
    "    subset_df = df_delta_mtb[(df_delta_mtb['Strain'] == strain)\n",
    "                             & (df_delta_mtb['Compound'] == compound)\n",
    "                             & (df_delta_mtb['Concentration'] == concentration)\n",
    "#                              & (df_delta_mtb['Technical replicate'] == 1)\n",
    "                            ]\n",
    "    data = subset_df['dMtb'].dropna()  # Remove NA values, if any\n",
    "    kde = gaussian_kde(data)\n",
    "    x = np.linspace(data.min(), data.max(), 100)\n",
    "    kde_values = kde(x)\n",
    "\n",
    "    source = ColumnDataSource(data=dict(x=x, kde_values=kde_values))\n",
    "\n",
    "    # Create a quad glyph for the histogram in the upper plot\n",
    "    p5.varea(x='x', y1=0, y2='kde_values',\n",
    "             source=source, \n",
    "             fill_color = expanded_piyg[0] if strain == 'WT' else expanded_piyg[-1],\n",
    "             alpha=0.6,\n",
    "             muted_color=expanded_piyg_dict[compound], \n",
    "             muted_alpha=0.1,\n",
    "             legend_label=label)\n",
    "    p5.line(x='x', y='kde_values',\n",
    "             source=source, \n",
    "             line_color = expanded_piyg[0] if strain == 'WT' else expanded_piyg[-1], \n",
    "             line_width = 1,\n",
    "             line_dash = 'dashed',\n",
    "             alpha=1,\n",
    "             muted_color=expanded_piyg_dict[compound], \n",
    "             muted_alpha=0.1,\n",
    "             legend_label=label)\n",
    "    \n",
    "    # create a separate outlier df for below plot\n",
    "    # Calculate the mean and standard deviation of dMtb\n",
    "    mean = subset_df['dMtb'].mean()\n",
    "    std = subset_df['dMtb'].std()\n",
    "\n",
    "    # Define a threshold to determine outliers (e.g., 2 standard deviations from the mean)\n",
    "    threshold = 1 * std\n",
    "\n",
    "    # Filter out the non outliers from subset_df\n",
    "    outlier_df = subset_df[abs(subset_df['dMtb'] - mean) >= threshold]\n",
    "    outliers.append(outlier_df)\n",
    "    \n",
    "    # append url to df \n",
    "    for index, row_ in outlier_df.iterrows():\n",
    "        unique_ID = row_['Unique ID']\n",
    "        cell_ID, row, column = unique_ID.split('.') \n",
    "        t0 = row_['Time (hours)']\n",
    "        outlier_df.at[index, 'glimpse_url_t0'] = f'https://macrohet.s3.eu-west-2.amazonaws.com/dMtb/dMtb_glimpses/glimpse_{cell_ID}.{row}.{column}_t{t0}.png'\n",
    "        outlier_df.at[index, 'glimpse_url_tn'] = f'https://macrohet.s3.eu-west-2.amazonaws.com/dMtb/dMtb_glimpses/glimpse_{cell_ID}.{row}.{column}_t{-1}.png'\n",
    "\n",
    "    # Create scatter plots for the lower plot\n",
    "    source = ColumnDataSource(\n",
    "            name=label,\n",
    "            data=dict(\n",
    "            x=outlier_df['dMtb'],\n",
    "            y=outlier_df.index/5E5,\n",
    "            glimpse_url_t0=outlier_df['glimpse_url_t0'],\n",
    "            glimpse_url_tn=outlier_df['glimpse_url_tn'], \n",
    "            dMtb=outlier_df['dMtb'], \n",
    "            cell_ID=outlier_df['Cell ID'], \n",
    "            strain=outlier_df['Strain'],\n",
    "            compound=outlier_df['Compound'],\n",
    "            concentration=outlier_df['Concentration'],\n",
    "            tech_rep=outlier_df['Technical replicate']\n",
    "        ))\n",
    "    p6.scatter('x', 'y', \n",
    "               source=source,\n",
    "               fill_color = expanded_piyg[0] if strain == 'WT' else expanded_piyg[-1],\n",
    "               alpha=0.9, \n",
    "               size=20,\n",
    "               line_color='black',  # Set the color of the outline\n",
    "               line_width=1,  # Set the width of the outline\n",
    "               muted_color=expanded_piyg_dict[compound], \n",
    "               muted_alpha=0.1,\n",
    "#                legend_label=label\n",
    "              )\n",
    "\n",
    "# Set the legend location for the upper plot\n",
    "p5.legend.location = \"top_left\"\n",
    "\n",
    "# Uncomment the following line to set the legend location for the lower plot\n",
    "# p2.legend.location = \"top_left\"\n",
    "\n",
    "# Set the click_policy to \"mute\" for the legend in the upper plot\n",
    "p5.legend.click_policy = \"mute\"\n",
    "# Uncomment the following line to set the click_policy to \"mute\" for the legend in the lower plot\n",
    "# p2.legend.click_policy = \"mute\"\n",
    "\n",
    "# Create a grid plot with both plots repeated on the right-hand side\n",
    "p = gridplot([[p1, p3, p5], [p2, p4, p6]])\n",
    "\n",
    "output_file(\"dMtb_kde.html\",title=\"dMtb\")\n",
    "\n",
    "show(p)\n"
   ]
  },
  {
   "cell_type": "markdown",
   "id": "d92aa95c",
   "metadata": {},
   "source": [
    "# Adding images\n"
   ]
  },
  {
   "cell_type": "code",
   "execution_count": 727,
   "id": "128b691b",
   "metadata": {},
   "outputs": [
    {
     "data": {
      "text/html": [
       "<div>\n",
       "<style scoped>\n",
       "    .dataframe tbody tr th:only-of-type {\n",
       "        vertical-align: middle;\n",
       "    }\n",
       "\n",
       "    .dataframe tbody tr th {\n",
       "        vertical-align: top;\n",
       "    }\n",
       "\n",
       "    .dataframe thead th {\n",
       "        text-align: right;\n",
       "    }\n",
       "</style>\n",
       "<table border=\"1\" class=\"dataframe\">\n",
       "  <thead>\n",
       "    <tr style=\"text-align: right;\">\n",
       "      <th></th>\n",
       "      <th>Time (hours)</th>\n",
       "      <th>x</th>\n",
       "      <th>y</th>\n",
       "      <th>x scaled</th>\n",
       "      <th>y scaled</th>\n",
       "      <th>Infection status</th>\n",
       "      <th>Initial infection status</th>\n",
       "      <th>Final infection status</th>\n",
       "      <th>Area</th>\n",
       "      <th>Intracellular mean Mtb content</th>\n",
       "      <th>...</th>\n",
       "      <th>Compound</th>\n",
       "      <th>Concentration</th>\n",
       "      <th>Cell ID</th>\n",
       "      <th>Acquisition ID</th>\n",
       "      <th>Unique ID</th>\n",
       "      <th>dMtb</th>\n",
       "      <th>Technical replicate</th>\n",
       "      <th>glimpse_url</th>\n",
       "      <th>glimpse_url_t0</th>\n",
       "      <th>glimpse_url_tn</th>\n",
       "    </tr>\n",
       "  </thead>\n",
       "  <tbody>\n",
       "    <tr>\n",
       "      <th>0</th>\n",
       "      <td>0</td>\n",
       "      <td>539.885864</td>\n",
       "      <td>99.211456</td>\n",
       "      <td>2721.024756</td>\n",
       "      <td>500.025740</td>\n",
       "      <td>0.0</td>\n",
       "      <td>0.0</td>\n",
       "      <td>1.0</td>\n",
       "      <td>24629.0</td>\n",
       "      <td>367.672302</td>\n",
       "      <td>...</td>\n",
       "      <td>BDQ</td>\n",
       "      <td>EC50</td>\n",
       "      <td>421</td>\n",
       "      <td>(3, 9)</td>\n",
       "      <td>421.3.9</td>\n",
       "      <td>0.244142</td>\n",
       "      <td>1</td>\n",
       "      <td>https://macrohet.s3.eu-west-2.amazonaws.com/3,...</td>\n",
       "      <td>https://macrohet.s3.eu-west-2.amazonaws.com/dM...</td>\n",
       "      <td>https://macrohet.s3.eu-west-2.amazonaws.com/dM...</td>\n",
       "    </tr>\n",
       "    <tr>\n",
       "      <th>1</th>\n",
       "      <td>0</td>\n",
       "      <td>1074.527832</td>\n",
       "      <td>811.853455</td>\n",
       "      <td>5415.620273</td>\n",
       "      <td>4091.741411</td>\n",
       "      <td>0.0</td>\n",
       "      <td>0.0</td>\n",
       "      <td>1.0</td>\n",
       "      <td>19622.0</td>\n",
       "      <td>369.415039</td>\n",
       "      <td>...</td>\n",
       "      <td>BDQ</td>\n",
       "      <td>EC50</td>\n",
       "      <td>113</td>\n",
       "      <td>(3, 9)</td>\n",
       "      <td>113.3.9</td>\n",
       "      <td>1.114547</td>\n",
       "      <td>1</td>\n",
       "      <td>https://macrohet.s3.eu-west-2.amazonaws.com/3,...</td>\n",
       "      <td>https://macrohet.s3.eu-west-2.amazonaws.com/dM...</td>\n",
       "      <td>https://macrohet.s3.eu-west-2.amazonaws.com/dM...</td>\n",
       "    </tr>\n",
       "    <tr>\n",
       "      <th>2</th>\n",
       "      <td>0</td>\n",
       "      <td>1097.321167</td>\n",
       "      <td>847.022522</td>\n",
       "      <td>5530.498682</td>\n",
       "      <td>4268.993511</td>\n",
       "      <td>0.0</td>\n",
       "      <td>0.0</td>\n",
       "      <td>1.0</td>\n",
       "      <td>10637.0</td>\n",
       "      <td>375.349060</td>\n",
       "      <td>...</td>\n",
       "      <td>BDQ</td>\n",
       "      <td>EC50</td>\n",
       "      <td>26</td>\n",
       "      <td>(3, 9)</td>\n",
       "      <td>26.3.9</td>\n",
       "      <td>0.254726</td>\n",
       "      <td>1</td>\n",
       "      <td>https://macrohet.s3.eu-west-2.amazonaws.com/3,...</td>\n",
       "      <td>https://macrohet.s3.eu-west-2.amazonaws.com/dM...</td>\n",
       "      <td>https://macrohet.s3.eu-west-2.amazonaws.com/dM...</td>\n",
       "    </tr>\n",
       "    <tr>\n",
       "      <th>3</th>\n",
       "      <td>0</td>\n",
       "      <td>1039.033447</td>\n",
       "      <td>916.104431</td>\n",
       "      <td>5236.728574</td>\n",
       "      <td>4617.166333</td>\n",
       "      <td>1.0</td>\n",
       "      <td>1.0</td>\n",
       "      <td>1.0</td>\n",
       "      <td>19872.0</td>\n",
       "      <td>389.052826</td>\n",
       "      <td>...</td>\n",
       "      <td>BDQ</td>\n",
       "      <td>EC50</td>\n",
       "      <td>63</td>\n",
       "      <td>(3, 9)</td>\n",
       "      <td>63.3.9</td>\n",
       "      <td>0.154472</td>\n",
       "      <td>1</td>\n",
       "      <td>https://macrohet.s3.eu-west-2.amazonaws.com/3,...</td>\n",
       "      <td>https://macrohet.s3.eu-west-2.amazonaws.com/dM...</td>\n",
       "      <td>https://macrohet.s3.eu-west-2.amazonaws.com/dM...</td>\n",
       "    </tr>\n",
       "    <tr>\n",
       "      <th>4</th>\n",
       "      <td>0</td>\n",
       "      <td>771.073486</td>\n",
       "      <td>1052.282593</td>\n",
       "      <td>3886.210371</td>\n",
       "      <td>5303.504268</td>\n",
       "      <td>0.0</td>\n",
       "      <td>0.0</td>\n",
       "      <td>1.0</td>\n",
       "      <td>28811.0</td>\n",
       "      <td>361.714722</td>\n",
       "      <td>...</td>\n",
       "      <td>BDQ</td>\n",
       "      <td>EC50</td>\n",
       "      <td>275</td>\n",
       "      <td>(3, 9)</td>\n",
       "      <td>275.3.9</td>\n",
       "      <td>0.160494</td>\n",
       "      <td>1</td>\n",
       "      <td>https://macrohet.s3.eu-west-2.amazonaws.com/3,...</td>\n",
       "      <td>https://macrohet.s3.eu-west-2.amazonaws.com/dM...</td>\n",
       "      <td>https://macrohet.s3.eu-west-2.amazonaws.com/dM...</td>\n",
       "    </tr>\n",
       "    <tr>\n",
       "      <th>...</th>\n",
       "      <td>...</td>\n",
       "      <td>...</td>\n",
       "      <td>...</td>\n",
       "      <td>...</td>\n",
       "      <td>...</td>\n",
       "      <td>...</td>\n",
       "      <td>...</td>\n",
       "      <td>...</td>\n",
       "      <td>...</td>\n",
       "      <td>...</td>\n",
       "      <td>...</td>\n",
       "      <td>...</td>\n",
       "      <td>...</td>\n",
       "      <td>...</td>\n",
       "      <td>...</td>\n",
       "      <td>...</td>\n",
       "      <td>...</td>\n",
       "      <td>...</td>\n",
       "      <td>...</td>\n",
       "      <td>...</td>\n",
       "      <td>...</td>\n",
       "    </tr>\n",
       "    <tr>\n",
       "      <th>310</th>\n",
       "      <td>4</td>\n",
       "      <td>757.554932</td>\n",
       "      <td>170.470444</td>\n",
       "      <td>3818.076855</td>\n",
       "      <td>859.171036</td>\n",
       "      <td>1.0</td>\n",
       "      <td>1.0</td>\n",
       "      <td>1.0</td>\n",
       "      <td>13940.0</td>\n",
       "      <td>388.782074</td>\n",
       "      <td>...</td>\n",
       "      <td>CTRL</td>\n",
       "      <td>EC0</td>\n",
       "      <td>1075</td>\n",
       "      <td>(6, 5)</td>\n",
       "      <td>1075.6.5</td>\n",
       "      <td>0.276201</td>\n",
       "      <td>2</td>\n",
       "      <td>https://macrohet.s3.eu-west-2.amazonaws.com/6,...</td>\n",
       "      <td>https://macrohet.s3.eu-west-2.amazonaws.com/dM...</td>\n",
       "      <td>https://macrohet.s3.eu-west-2.amazonaws.com/dM...</td>\n",
       "    </tr>\n",
       "    <tr>\n",
       "      <th>311</th>\n",
       "      <td>6</td>\n",
       "      <td>122.582176</td>\n",
       "      <td>206.176346</td>\n",
       "      <td>617.814168</td>\n",
       "      <td>1039.128783</td>\n",
       "      <td>0.0</td>\n",
       "      <td>0.0</td>\n",
       "      <td>1.0</td>\n",
       "      <td>14622.0</td>\n",
       "      <td>382.337433</td>\n",
       "      <td>...</td>\n",
       "      <td>CTRL</td>\n",
       "      <td>EC0</td>\n",
       "      <td>1216</td>\n",
       "      <td>(6, 5)</td>\n",
       "      <td>1216.6.5</td>\n",
       "      <td>0.258478</td>\n",
       "      <td>2</td>\n",
       "      <td>https://macrohet.s3.eu-west-2.amazonaws.com/6,...</td>\n",
       "      <td>https://macrohet.s3.eu-west-2.amazonaws.com/dM...</td>\n",
       "      <td>https://macrohet.s3.eu-west-2.amazonaws.com/dM...</td>\n",
       "    </tr>\n",
       "    <tr>\n",
       "      <th>312</th>\n",
       "      <td>7</td>\n",
       "      <td>818.922974</td>\n",
       "      <td>438.001740</td>\n",
       "      <td>4127.371787</td>\n",
       "      <td>2207.528767</td>\n",
       "      <td>0.0</td>\n",
       "      <td>0.0</td>\n",
       "      <td>1.0</td>\n",
       "      <td>31789.0</td>\n",
       "      <td>345.671936</td>\n",
       "      <td>...</td>\n",
       "      <td>CTRL</td>\n",
       "      <td>EC0</td>\n",
       "      <td>1314</td>\n",
       "      <td>(6, 5)</td>\n",
       "      <td>1314.6.5</td>\n",
       "      <td>1.900590</td>\n",
       "      <td>2</td>\n",
       "      <td>https://macrohet.s3.eu-west-2.amazonaws.com/6,...</td>\n",
       "      <td>https://macrohet.s3.eu-west-2.amazonaws.com/dM...</td>\n",
       "      <td>https://macrohet.s3.eu-west-2.amazonaws.com/dM...</td>\n",
       "    </tr>\n",
       "    <tr>\n",
       "      <th>313</th>\n",
       "      <td>16</td>\n",
       "      <td>333.640533</td>\n",
       "      <td>118.059662</td>\n",
       "      <td>1681.548289</td>\n",
       "      <td>595.020696</td>\n",
       "      <td>0.0</td>\n",
       "      <td>0.0</td>\n",
       "      <td>1.0</td>\n",
       "      <td>52010.0</td>\n",
       "      <td>366.959137</td>\n",
       "      <td>...</td>\n",
       "      <td>CTRL</td>\n",
       "      <td>EC0</td>\n",
       "      <td>1894</td>\n",
       "      <td>(6, 5)</td>\n",
       "      <td>1894.6.5</td>\n",
       "      <td>1.283940</td>\n",
       "      <td>2</td>\n",
       "      <td>https://macrohet.s3.eu-west-2.amazonaws.com/6,...</td>\n",
       "      <td>https://macrohet.s3.eu-west-2.amazonaws.com/dM...</td>\n",
       "      <td>https://macrohet.s3.eu-west-2.amazonaws.com/dM...</td>\n",
       "    </tr>\n",
       "    <tr>\n",
       "      <th>314</th>\n",
       "      <td>21</td>\n",
       "      <td>187.720917</td>\n",
       "      <td>1037.547607</td>\n",
       "      <td>946.113420</td>\n",
       "      <td>5229.239941</td>\n",
       "      <td>1.0</td>\n",
       "      <td>1.0</td>\n",
       "      <td>1.0</td>\n",
       "      <td>7213.0</td>\n",
       "      <td>679.830566</td>\n",
       "      <td>...</td>\n",
       "      <td>CTRL</td>\n",
       "      <td>EC0</td>\n",
       "      <td>2180</td>\n",
       "      <td>(6, 5)</td>\n",
       "      <td>2180.6.5</td>\n",
       "      <td>-0.256133</td>\n",
       "      <td>2</td>\n",
       "      <td>https://macrohet.s3.eu-west-2.amazonaws.com/6,...</td>\n",
       "      <td>https://macrohet.s3.eu-west-2.amazonaws.com/dM...</td>\n",
       "      <td>https://macrohet.s3.eu-west-2.amazonaws.com/dM...</td>\n",
       "    </tr>\n",
       "  </tbody>\n",
       "</table>\n",
       "<p>315 rows × 33 columns</p>\n",
       "</div>"
      ],
      "text/plain": [
       "     Time (hours)            x            y     x scaled     y scaled  \\\n",
       "0               0   539.885864    99.211456  2721.024756   500.025740   \n",
       "1               0  1074.527832   811.853455  5415.620273  4091.741411   \n",
       "2               0  1097.321167   847.022522  5530.498682  4268.993511   \n",
       "3               0  1039.033447   916.104431  5236.728574  4617.166333   \n",
       "4               0   771.073486  1052.282593  3886.210371  5303.504268   \n",
       "..            ...          ...          ...          ...          ...   \n",
       "310             4   757.554932   170.470444  3818.076855   859.171036   \n",
       "311             6   122.582176   206.176346   617.814168  1039.128783   \n",
       "312             7   818.922974   438.001740  4127.371787  2207.528767   \n",
       "313            16   333.640533   118.059662  1681.548289   595.020696   \n",
       "314            21   187.720917  1037.547607   946.113420  5229.239941   \n",
       "\n",
       "     Infection status  Initial infection status  Final infection status  \\\n",
       "0                 0.0                       0.0                     1.0   \n",
       "1                 0.0                       0.0                     1.0   \n",
       "2                 0.0                       0.0                     1.0   \n",
       "3                 1.0                       1.0                     1.0   \n",
       "4                 0.0                       0.0                     1.0   \n",
       "..                ...                       ...                     ...   \n",
       "310               1.0                       1.0                     1.0   \n",
       "311               0.0                       0.0                     1.0   \n",
       "312               0.0                       0.0                     1.0   \n",
       "313               0.0                       0.0                     1.0   \n",
       "314               1.0                       1.0                     1.0   \n",
       "\n",
       "        Area  Intracellular mean Mtb content  ...  Compound  Concentration  \\\n",
       "0    24629.0                      367.672302  ...       BDQ           EC50   \n",
       "1    19622.0                      369.415039  ...       BDQ           EC50   \n",
       "2    10637.0                      375.349060  ...       BDQ           EC50   \n",
       "3    19872.0                      389.052826  ...       BDQ           EC50   \n",
       "4    28811.0                      361.714722  ...       BDQ           EC50   \n",
       "..       ...                             ...  ...       ...            ...   \n",
       "310  13940.0                      388.782074  ...      CTRL            EC0   \n",
       "311  14622.0                      382.337433  ...      CTRL            EC0   \n",
       "312  31789.0                      345.671936  ...      CTRL            EC0   \n",
       "313  52010.0                      366.959137  ...      CTRL            EC0   \n",
       "314   7213.0                      679.830566  ...      CTRL            EC0   \n",
       "\n",
       "     Cell ID  Acquisition ID  Unique ID      dMtb  Technical replicate  \\\n",
       "0        421          (3, 9)    421.3.9  0.244142                    1   \n",
       "1        113          (3, 9)    113.3.9  1.114547                    1   \n",
       "2         26          (3, 9)     26.3.9  0.254726                    1   \n",
       "3         63          (3, 9)     63.3.9  0.154472                    1   \n",
       "4        275          (3, 9)    275.3.9  0.160494                    1   \n",
       "..       ...             ...        ...       ...                  ...   \n",
       "310     1075          (6, 5)   1075.6.5  0.276201                    2   \n",
       "311     1216          (6, 5)   1216.6.5  0.258478                    2   \n",
       "312     1314          (6, 5)   1314.6.5  1.900590                    2   \n",
       "313     1894          (6, 5)   1894.6.5  1.283940                    2   \n",
       "314     2180          (6, 5)   2180.6.5 -0.256133                    2   \n",
       "\n",
       "                                           glimpse_url  \\\n",
       "0    https://macrohet.s3.eu-west-2.amazonaws.com/3,...   \n",
       "1    https://macrohet.s3.eu-west-2.amazonaws.com/3,...   \n",
       "2    https://macrohet.s3.eu-west-2.amazonaws.com/3,...   \n",
       "3    https://macrohet.s3.eu-west-2.amazonaws.com/3,...   \n",
       "4    https://macrohet.s3.eu-west-2.amazonaws.com/3,...   \n",
       "..                                                 ...   \n",
       "310  https://macrohet.s3.eu-west-2.amazonaws.com/6,...   \n",
       "311  https://macrohet.s3.eu-west-2.amazonaws.com/6,...   \n",
       "312  https://macrohet.s3.eu-west-2.amazonaws.com/6,...   \n",
       "313  https://macrohet.s3.eu-west-2.amazonaws.com/6,...   \n",
       "314  https://macrohet.s3.eu-west-2.amazonaws.com/6,...   \n",
       "\n",
       "                                        glimpse_url_t0  \\\n",
       "0    https://macrohet.s3.eu-west-2.amazonaws.com/dM...   \n",
       "1    https://macrohet.s3.eu-west-2.amazonaws.com/dM...   \n",
       "2    https://macrohet.s3.eu-west-2.amazonaws.com/dM...   \n",
       "3    https://macrohet.s3.eu-west-2.amazonaws.com/dM...   \n",
       "4    https://macrohet.s3.eu-west-2.amazonaws.com/dM...   \n",
       "..                                                 ...   \n",
       "310  https://macrohet.s3.eu-west-2.amazonaws.com/dM...   \n",
       "311  https://macrohet.s3.eu-west-2.amazonaws.com/dM...   \n",
       "312  https://macrohet.s3.eu-west-2.amazonaws.com/dM...   \n",
       "313  https://macrohet.s3.eu-west-2.amazonaws.com/dM...   \n",
       "314  https://macrohet.s3.eu-west-2.amazonaws.com/dM...   \n",
       "\n",
       "                                        glimpse_url_tn  \n",
       "0    https://macrohet.s3.eu-west-2.amazonaws.com/dM...  \n",
       "1    https://macrohet.s3.eu-west-2.amazonaws.com/dM...  \n",
       "2    https://macrohet.s3.eu-west-2.amazonaws.com/dM...  \n",
       "3    https://macrohet.s3.eu-west-2.amazonaws.com/dM...  \n",
       "4    https://macrohet.s3.eu-west-2.amazonaws.com/dM...  \n",
       "..                                                 ...  \n",
       "310  https://macrohet.s3.eu-west-2.amazonaws.com/dM...  \n",
       "311  https://macrohet.s3.eu-west-2.amazonaws.com/dM...  \n",
       "312  https://macrohet.s3.eu-west-2.amazonaws.com/dM...  \n",
       "313  https://macrohet.s3.eu-west-2.amazonaws.com/dM...  \n",
       "314  https://macrohet.s3.eu-west-2.amazonaws.com/dM...  \n",
       "\n",
       "[315 rows x 33 columns]"
      ]
     },
     "execution_count": 727,
     "metadata": {},
     "output_type": "execute_result"
    }
   ],
   "source": [
    "outliers = pd.concat(outliers, ignore_index=True)\n",
    "outliers"
   ]
  },
  {
   "cell_type": "code",
   "execution_count": 730,
   "id": "3c841a86",
   "metadata": {},
   "outputs": [],
   "source": [
    "from macrohet import aws_tools"
   ]
  },
  {
   "cell_type": "code",
   "execution_count": null,
   "id": "44f9f58d",
   "metadata": {},
   "outputs": [],
   "source": [
    "/mnt/DATA/macrohet/results/glimpses/interactive_plots/dMtb/glimpse_2492.3.5_t34.png,\n",
    "/mnt/DATA/macrohet/results/glimpses/interactive_plots/dMtb/glimpse_2416.3.6_t26.png,\n",
    "/mnt/DATA/macrohet/results/glimpses/interactive_plots/dMtb/glimpse_2160.3.7_t23.png,\n",
    "/mnt/DATA/macrohet/results/glimpses/interactive_plots/dMtb/glimpse_1274.4.9_t9.png,\n",
    "/mnt/DATA/macrohet/results/glimpses/interactive_plots/dMtb/glimpse_725.4.5_t-1.png,\n",
    "/mnt/DATA/macrohet/results/glimpses/interactive_plots/dMtb/glimpse_557.4.4_t-1.png,"
   ]
  },
  {
   "cell_type": "code",
   "execution_count": 753,
   "id": "bc0c42ae",
   "metadata": {},
   "outputs": [
    {
     "data": {
      "application/vnd.jupyter.widget-view+json": {
       "model_id": "48ac88695e5e4e40b67d3a587dff9914",
       "version_major": 2,
       "version_minor": 0
      },
      "text/plain": [
       "  0%|          | 0/315 [00:00<?, ?it/s]"
      ]
     },
     "metadata": {},
     "output_type": "display_data"
    },
    {
     "name": "stderr",
     "output_type": "stream",
     "text": [
      "[INFO][2023/06/21 03:59:04 PM] Opening HDF file: /mnt/DATA/macrohet/labels/macrohet_seg_model/(6, 7).h5...\n",
      "[INFO][2023/06/21 03:59:25 PM] Loading segmentation (75, 6048, 6048)\n",
      "[INFO][2023/06/21 03:59:25 PM] Closing HDF file: /mnt/DATA/macrohet/labels/macrohet_seg_model/(6, 7).h5\n"
     ]
    },
    {
     "name": "stdout",
     "output_type": "stream",
     "text": [
      "dMtb/dMtb_glimpses/glimpse_1043.6.7_t-1.png: Upload Successful\n"
     ]
    },
    {
     "name": "stderr",
     "output_type": "stream",
     "text": [
      "[INFO][2023/06/21 03:59:45 PM] Opening HDF file: /mnt/DATA/macrohet/labels/macrohet_seg_model/(6, 7).h5...\n",
      "[INFO][2023/06/21 04:00:01 PM] Loading segmentation (75, 6048, 6048)\n",
      "[INFO][2023/06/21 04:00:01 PM] Closing HDF file: /mnt/DATA/macrohet/labels/macrohet_seg_model/(6, 7).h5\n"
     ]
    },
    {
     "name": "stdout",
     "output_type": "stream",
     "text": [
      "dMtb/dMtb_glimpses/glimpse_1033.6.7_t4.png: Upload Successful\n"
     ]
    },
    {
     "name": "stderr",
     "output_type": "stream",
     "text": [
      "[INFO][2023/06/21 04:00:18 PM] Opening HDF file: /mnt/DATA/macrohet/labels/macrohet_seg_model/(6, 7).h5...\n",
      "[INFO][2023/06/21 04:00:32 PM] Loading segmentation (75, 6048, 6048)\n",
      "[INFO][2023/06/21 04:00:32 PM] Closing HDF file: /mnt/DATA/macrohet/labels/macrohet_seg_model/(6, 7).h5\n"
     ]
    },
    {
     "name": "stdout",
     "output_type": "stream",
     "text": [
      "dMtb/dMtb_glimpses/glimpse_1033.6.7_t-1.png: Upload Successful\n"
     ]
    },
    {
     "name": "stderr",
     "output_type": "stream",
     "text": [
      "[INFO][2023/06/21 04:00:48 PM] Opening HDF file: /mnt/DATA/macrohet/labels/macrohet_seg_model/(6, 7).h5...\n",
      "[INFO][2023/06/21 04:01:00 PM] Loading segmentation (75, 6048, 6048)\n",
      "[INFO][2023/06/21 04:01:00 PM] Closing HDF file: /mnt/DATA/macrohet/labels/macrohet_seg_model/(6, 7).h5\n"
     ]
    },
    {
     "name": "stdout",
     "output_type": "stream",
     "text": [
      "dMtb/dMtb_glimpses/glimpse_1417.6.7_t10.png: Upload Successful\n"
     ]
    },
    {
     "name": "stderr",
     "output_type": "stream",
     "text": [
      "[INFO][2023/06/21 04:01:20 PM] Opening HDF file: /mnt/DATA/macrohet/labels/macrohet_seg_model/(6, 7).h5...\n",
      "[INFO][2023/06/21 04:01:29 PM] Loading segmentation (75, 6048, 6048)\n",
      "[INFO][2023/06/21 04:01:29 PM] Closing HDF file: /mnt/DATA/macrohet/labels/macrohet_seg_model/(6, 7).h5\n"
     ]
    },
    {
     "name": "stdout",
     "output_type": "stream",
     "text": [
      "dMtb/dMtb_glimpses/glimpse_1417.6.7_t-1.png: Upload Successful\n"
     ]
    },
    {
     "name": "stderr",
     "output_type": "stream",
     "text": [
      "[INFO][2023/06/21 04:01:49 PM] Opening HDF file: /mnt/DATA/macrohet/labels/macrohet_seg_model/(4, 4).h5...\n",
      "[INFO][2023/06/21 04:01:58 PM] Loading segmentation (75, 6048, 6048)\n",
      "[INFO][2023/06/21 04:01:58 PM] Closing HDF file: /mnt/DATA/macrohet/labels/macrohet_seg_model/(4, 4).h5\n"
     ]
    },
    {
     "name": "stdout",
     "output_type": "stream",
     "text": [
      "dMtb/dMtb_glimpses/glimpse_355.4.4_t0.png: Upload Successful\n"
     ]
    },
    {
     "name": "stderr",
     "output_type": "stream",
     "text": [
      "[INFO][2023/06/21 04:02:17 PM] Opening HDF file: /mnt/DATA/macrohet/labels/macrohet_seg_model/(4, 4).h5...\n",
      "[INFO][2023/06/21 04:02:26 PM] Loading segmentation (75, 6048, 6048)\n",
      "[INFO][2023/06/21 04:02:26 PM] Closing HDF file: /mnt/DATA/macrohet/labels/macrohet_seg_model/(4, 4).h5\n"
     ]
    },
    {
     "name": "stdout",
     "output_type": "stream",
     "text": [
      "dMtb/dMtb_glimpses/glimpse_355.4.4_t-1.png: Upload Successful\n"
     ]
    },
    {
     "name": "stderr",
     "output_type": "stream",
     "text": [
      "[INFO][2023/06/21 04:02:46 PM] Opening HDF file: /mnt/DATA/macrohet/labels/macrohet_seg_model/(4, 4).h5...\n",
      "[INFO][2023/06/21 04:02:55 PM] Loading segmentation (75, 6048, 6048)\n",
      "[INFO][2023/06/21 04:02:55 PM] Closing HDF file: /mnt/DATA/macrohet/labels/macrohet_seg_model/(4, 4).h5\n"
     ]
    },
    {
     "name": "stdout",
     "output_type": "stream",
     "text": [
      "dMtb/dMtb_glimpses/glimpse_609.4.4_t0.png: Upload Successful\n"
     ]
    },
    {
     "name": "stderr",
     "output_type": "stream",
     "text": [
      "[INFO][2023/06/21 04:03:16 PM] Opening HDF file: /mnt/DATA/macrohet/labels/macrohet_seg_model/(4, 4).h5...\n",
      "[INFO][2023/06/21 04:03:25 PM] Loading segmentation (75, 6048, 6048)\n",
      "[INFO][2023/06/21 04:03:25 PM] Closing HDF file: /mnt/DATA/macrohet/labels/macrohet_seg_model/(4, 4).h5\n"
     ]
    },
    {
     "name": "stdout",
     "output_type": "stream",
     "text": [
      "dMtb/dMtb_glimpses/glimpse_609.4.4_t-1.png: Upload Successful\n"
     ]
    },
    {
     "name": "stderr",
     "output_type": "stream",
     "text": [
      "[INFO][2023/06/21 04:03:45 PM] Opening HDF file: /mnt/DATA/macrohet/labels/macrohet_seg_model/(4, 4).h5...\n",
      "[INFO][2023/06/21 04:03:54 PM] Loading segmentation (75, 6048, 6048)\n",
      "[INFO][2023/06/21 04:03:54 PM] Closing HDF file: /mnt/DATA/macrohet/labels/macrohet_seg_model/(4, 4).h5\n"
     ]
    },
    {
     "name": "stdout",
     "output_type": "stream",
     "text": [
      "dMtb/dMtb_glimpses/glimpse_640.4.4_t0.png: Upload Successful\n"
     ]
    },
    {
     "name": "stderr",
     "output_type": "stream",
     "text": [
      "[INFO][2023/06/21 04:04:19 PM] Opening HDF file: /mnt/DATA/macrohet/labels/macrohet_seg_model/(4, 4).h5...\n",
      "[INFO][2023/06/21 04:04:28 PM] Loading segmentation (75, 6048, 6048)\n",
      "[INFO][2023/06/21 04:04:28 PM] Closing HDF file: /mnt/DATA/macrohet/labels/macrohet_seg_model/(4, 4).h5\n"
     ]
    },
    {
     "name": "stdout",
     "output_type": "stream",
     "text": [
      "dMtb/dMtb_glimpses/glimpse_640.4.4_t-1.png: Upload Successful\n"
     ]
    },
    {
     "name": "stderr",
     "output_type": "stream",
     "text": [
      "[INFO][2023/06/21 04:04:56 PM] Opening HDF file: /mnt/DATA/macrohet/labels/macrohet_seg_model/(4, 4).h5...\n",
      "[INFO][2023/06/21 04:05:05 PM] Loading segmentation (75, 6048, 6048)\n",
      "[INFO][2023/06/21 04:05:05 PM] Closing HDF file: /mnt/DATA/macrohet/labels/macrohet_seg_model/(4, 4).h5\n"
     ]
    },
    {
     "name": "stdout",
     "output_type": "stream",
     "text": [
      "dMtb/dMtb_glimpses/glimpse_557.4.4_t0.png: Upload Successful\n"
     ]
    },
    {
     "name": "stderr",
     "output_type": "stream",
     "text": [
      "[INFO][2023/06/21 04:05:24 PM] Opening HDF file: /mnt/DATA/macrohet/labels/macrohet_seg_model/(4, 4).h5...\n",
      "[INFO][2023/06/21 04:05:33 PM] Loading segmentation (75, 6048, 6048)\n",
      "[INFO][2023/06/21 04:05:33 PM] Closing HDF file: /mnt/DATA/macrohet/labels/macrohet_seg_model/(4, 4).h5\n"
     ]
    },
    {
     "name": "stdout",
     "output_type": "stream",
     "text": [
      "dMtb/dMtb_glimpses/glimpse_557.4.4_t-1.png: Upload Successful\n"
     ]
    },
    {
     "name": "stderr",
     "output_type": "stream",
     "text": [
      "[INFO][2023/06/21 04:05:53 PM] Opening HDF file: /mnt/DATA/macrohet/labels/macrohet_seg_model/(4, 4).h5...\n",
      "[INFO][2023/06/21 04:06:02 PM] Loading segmentation (75, 6048, 6048)\n",
      "[INFO][2023/06/21 04:06:02 PM] Closing HDF file: /mnt/DATA/macrohet/labels/macrohet_seg_model/(4, 4).h5\n"
     ]
    },
    {
     "name": "stdout",
     "output_type": "stream",
     "text": [
      "dMtb/dMtb_glimpses/glimpse_288.4.4_t0.png: Upload Successful\n"
     ]
    },
    {
     "name": "stderr",
     "output_type": "stream",
     "text": [
      "[INFO][2023/06/21 04:06:18 PM] Opening HDF file: /mnt/DATA/macrohet/labels/macrohet_seg_model/(4, 4).h5...\n",
      "[INFO][2023/06/21 04:06:28 PM] Loading segmentation (75, 6048, 6048)\n",
      "[INFO][2023/06/21 04:06:28 PM] Closing HDF file: /mnt/DATA/macrohet/labels/macrohet_seg_model/(4, 4).h5\n"
     ]
    },
    {
     "name": "stdout",
     "output_type": "stream",
     "text": [
      "dMtb/dMtb_glimpses/glimpse_288.4.4_t-1.png: Upload Successful\n"
     ]
    },
    {
     "name": "stderr",
     "output_type": "stream",
     "text": [
      "[INFO][2023/06/21 04:06:44 PM] Opening HDF file: /mnt/DATA/macrohet/labels/macrohet_seg_model/(4, 4).h5...\n",
      "[INFO][2023/06/21 04:06:53 PM] Loading segmentation (75, 6048, 6048)\n",
      "[INFO][2023/06/21 04:06:53 PM] Closing HDF file: /mnt/DATA/macrohet/labels/macrohet_seg_model/(4, 4).h5\n"
     ]
    },
    {
     "name": "stdout",
     "output_type": "stream",
     "text": [
      "dMtb/dMtb_glimpses/glimpse_320.4.4_t0.png: Upload Successful\n"
     ]
    },
    {
     "name": "stderr",
     "output_type": "stream",
     "text": [
      "[INFO][2023/06/21 04:07:09 PM] Opening HDF file: /mnt/DATA/macrohet/labels/macrohet_seg_model/(4, 4).h5...\n",
      "[INFO][2023/06/21 04:07:19 PM] Loading segmentation (75, 6048, 6048)\n",
      "[INFO][2023/06/21 04:07:19 PM] Closing HDF file: /mnt/DATA/macrohet/labels/macrohet_seg_model/(4, 4).h5\n"
     ]
    },
    {
     "name": "stdout",
     "output_type": "stream",
     "text": [
      "dMtb/dMtb_glimpses/glimpse_320.4.4_t-1.png: Upload Successful\n"
     ]
    },
    {
     "name": "stderr",
     "output_type": "stream",
     "text": [
      "[INFO][2023/06/21 04:07:35 PM] Opening HDF file: /mnt/DATA/macrohet/labels/macrohet_seg_model/(4, 4).h5...\n",
      "[INFO][2023/06/21 04:07:44 PM] Loading segmentation (75, 6048, 6048)\n",
      "[INFO][2023/06/21 04:07:44 PM] Closing HDF file: /mnt/DATA/macrohet/labels/macrohet_seg_model/(4, 4).h5\n"
     ]
    },
    {
     "name": "stdout",
     "output_type": "stream",
     "text": [
      "dMtb/dMtb_glimpses/glimpse_304.4.4_t0.png: Upload Successful\n"
     ]
    },
    {
     "name": "stderr",
     "output_type": "stream",
     "text": [
      "[INFO][2023/06/21 04:08:03 PM] Opening HDF file: /mnt/DATA/macrohet/labels/macrohet_seg_model/(4, 4).h5...\n",
      "[INFO][2023/06/21 04:08:12 PM] Loading segmentation (75, 6048, 6048)\n",
      "[INFO][2023/06/21 04:08:12 PM] Closing HDF file: /mnt/DATA/macrohet/labels/macrohet_seg_model/(4, 4).h5\n"
     ]
    },
    {
     "name": "stdout",
     "output_type": "stream",
     "text": [
      "dMtb/dMtb_glimpses/glimpse_304.4.4_t-1.png: Upload Successful\n"
     ]
    },
    {
     "name": "stderr",
     "output_type": "stream",
     "text": [
      "[INFO][2023/06/21 04:08:32 PM] Opening HDF file: /mnt/DATA/macrohet/labels/macrohet_seg_model/(4, 4).h5...\n",
      "[INFO][2023/06/21 04:08:40 PM] Loading segmentation (75, 6048, 6048)\n",
      "[INFO][2023/06/21 04:08:40 PM] Closing HDF file: /mnt/DATA/macrohet/labels/macrohet_seg_model/(4, 4).h5\n"
     ]
    },
    {
     "name": "stdout",
     "output_type": "stream",
     "text": [
      "dMtb/dMtb_glimpses/glimpse_167.4.4_t0.png: Upload Successful\n"
     ]
    },
    {
     "name": "stderr",
     "output_type": "stream",
     "text": [
      "[INFO][2023/06/21 04:09:00 PM] Opening HDF file: /mnt/DATA/macrohet/labels/macrohet_seg_model/(4, 4).h5...\n",
      "[INFO][2023/06/21 04:09:08 PM] Loading segmentation (75, 6048, 6048)\n",
      "[INFO][2023/06/21 04:09:08 PM] Closing HDF file: /mnt/DATA/macrohet/labels/macrohet_seg_model/(4, 4).h5\n"
     ]
    },
    {
     "name": "stdout",
     "output_type": "stream",
     "text": [
      "dMtb/dMtb_glimpses/glimpse_167.4.4_t-1.png: Upload Successful\n"
     ]
    },
    {
     "name": "stderr",
     "output_type": "stream",
     "text": [
      "[INFO][2023/06/21 04:09:28 PM] Opening HDF file: /mnt/DATA/macrohet/labels/macrohet_seg_model/(4, 4).h5...\n",
      "[INFO][2023/06/21 04:09:36 PM] Loading segmentation (75, 6048, 6048)\n",
      "[INFO][2023/06/21 04:09:36 PM] Closing HDF file: /mnt/DATA/macrohet/labels/macrohet_seg_model/(4, 4).h5\n"
     ]
    },
    {
     "name": "stdout",
     "output_type": "stream",
     "text": [
      "dMtb/dMtb_glimpses/glimpse_182.4.4_t0.png: Upload Successful\n"
     ]
    },
    {
     "name": "stderr",
     "output_type": "stream",
     "text": [
      "[INFO][2023/06/21 04:09:52 PM] Opening HDF file: /mnt/DATA/macrohet/labels/macrohet_seg_model/(4, 4).h5...\n",
      "[INFO][2023/06/21 04:10:01 PM] Loading segmentation (75, 6048, 6048)\n",
      "[INFO][2023/06/21 04:10:01 PM] Closing HDF file: /mnt/DATA/macrohet/labels/macrohet_seg_model/(4, 4).h5\n"
     ]
    },
    {
     "name": "stdout",
     "output_type": "stream",
     "text": [
      "dMtb/dMtb_glimpses/glimpse_182.4.4_t-1.png: Upload Successful\n"
     ]
    },
    {
     "name": "stderr",
     "output_type": "stream",
     "text": [
      "[INFO][2023/06/21 04:10:17 PM] Opening HDF file: /mnt/DATA/macrohet/labels/macrohet_seg_model/(4, 4).h5...\n",
      "[INFO][2023/06/21 04:10:26 PM] Loading segmentation (75, 6048, 6048)\n",
      "[INFO][2023/06/21 04:10:26 PM] Closing HDF file: /mnt/DATA/macrohet/labels/macrohet_seg_model/(4, 4).h5\n"
     ]
    },
    {
     "name": "stdout",
     "output_type": "stream",
     "text": [
      "dMtb/dMtb_glimpses/glimpse_208.4.4_t0.png: Upload Successful\n"
     ]
    },
    {
     "name": "stderr",
     "output_type": "stream",
     "text": [
      "[INFO][2023/06/21 04:10:42 PM] Opening HDF file: /mnt/DATA/macrohet/labels/macrohet_seg_model/(4, 4).h5...\n",
      "[INFO][2023/06/21 04:10:51 PM] Loading segmentation (75, 6048, 6048)\n",
      "[INFO][2023/06/21 04:10:51 PM] Closing HDF file: /mnt/DATA/macrohet/labels/macrohet_seg_model/(4, 4).h5\n"
     ]
    },
    {
     "name": "stdout",
     "output_type": "stream",
     "text": [
      "dMtb/dMtb_glimpses/glimpse_208.4.4_t-1.png: Upload Successful\n"
     ]
    },
    {
     "name": "stderr",
     "output_type": "stream",
     "text": [
      "[INFO][2023/06/21 04:11:07 PM] Opening HDF file: /mnt/DATA/macrohet/labels/macrohet_seg_model/(4, 4).h5...\n",
      "[INFO][2023/06/21 04:11:16 PM] Loading segmentation (75, 6048, 6048)\n",
      "[INFO][2023/06/21 04:11:16 PM] Closing HDF file: /mnt/DATA/macrohet/labels/macrohet_seg_model/(4, 4).h5\n"
     ]
    },
    {
     "name": "stdout",
     "output_type": "stream",
     "text": [
      "dMtb/dMtb_glimpses/glimpse_670.4.4_t1.png: Upload Successful\n"
     ]
    },
    {
     "name": "stderr",
     "output_type": "stream",
     "text": [
      "[INFO][2023/06/21 04:11:31 PM] Opening HDF file: /mnt/DATA/macrohet/labels/macrohet_seg_model/(4, 4).h5...\n",
      "[INFO][2023/06/21 04:11:40 PM] Loading segmentation (75, 6048, 6048)\n",
      "[INFO][2023/06/21 04:11:40 PM] Closing HDF file: /mnt/DATA/macrohet/labels/macrohet_seg_model/(4, 4).h5\n"
     ]
    },
    {
     "name": "stdout",
     "output_type": "stream",
     "text": [
      "dMtb/dMtb_glimpses/glimpse_670.4.4_t-1.png: Upload Successful\n"
     ]
    },
    {
     "name": "stderr",
     "output_type": "stream",
     "text": [
      "[INFO][2023/06/21 04:11:56 PM] Opening HDF file: /mnt/DATA/macrohet/labels/macrohet_seg_model/(4, 4).h5...\n",
      "[INFO][2023/06/21 04:12:05 PM] Loading segmentation (75, 6048, 6048)\n",
      "[INFO][2023/06/21 04:12:05 PM] Closing HDF file: /mnt/DATA/macrohet/labels/macrohet_seg_model/(4, 4).h5\n"
     ]
    },
    {
     "name": "stdout",
     "output_type": "stream",
     "text": [
      "dMtb/dMtb_glimpses/glimpse_1472.4.4_t12.png: Upload Successful\n"
     ]
    },
    {
     "name": "stderr",
     "output_type": "stream",
     "text": [
      "[INFO][2023/06/21 04:12:21 PM] Opening HDF file: /mnt/DATA/macrohet/labels/macrohet_seg_model/(4, 4).h5...\n",
      "[INFO][2023/06/21 04:12:29 PM] Loading segmentation (75, 6048, 6048)\n",
      "[INFO][2023/06/21 04:12:29 PM] Closing HDF file: /mnt/DATA/macrohet/labels/macrohet_seg_model/(4, 4).h5\n"
     ]
    },
    {
     "name": "stdout",
     "output_type": "stream",
     "text": [
      "dMtb/dMtb_glimpses/glimpse_1472.4.4_t-1.png: Upload Successful\n"
     ]
    },
    {
     "name": "stderr",
     "output_type": "stream",
     "text": [
      "[INFO][2023/06/21 04:12:49 PM] Opening HDF file: /mnt/DATA/macrohet/labels/macrohet_seg_model/(4, 4).h5...\n",
      "[INFO][2023/06/21 04:12:58 PM] Loading segmentation (75, 6048, 6048)\n",
      "[INFO][2023/06/21 04:12:58 PM] Closing HDF file: /mnt/DATA/macrohet/labels/macrohet_seg_model/(4, 4).h5\n"
     ]
    },
    {
     "name": "stdout",
     "output_type": "stream",
     "text": [
      "dMtb/dMtb_glimpses/glimpse_2039.4.4_t22.png: Upload Successful\n"
     ]
    },
    {
     "name": "stderr",
     "output_type": "stream",
     "text": [
      "[INFO][2023/06/21 04:13:18 PM] Opening HDF file: /mnt/DATA/macrohet/labels/macrohet_seg_model/(4, 4).h5...\n",
      "[INFO][2023/06/21 04:13:26 PM] Loading segmentation (75, 6048, 6048)\n",
      "[INFO][2023/06/21 04:13:26 PM] Closing HDF file: /mnt/DATA/macrohet/labels/macrohet_seg_model/(4, 4).h5\n"
     ]
    },
    {
     "name": "stdout",
     "output_type": "stream",
     "text": [
      "dMtb/dMtb_glimpses/glimpse_2039.4.4_t-1.png: Upload Successful\n"
     ]
    },
    {
     "name": "stderr",
     "output_type": "stream",
     "text": [
      "[INFO][2023/06/21 04:13:46 PM] Opening HDF file: /mnt/DATA/macrohet/labels/macrohet_seg_model/(4, 4).h5...\n",
      "[INFO][2023/06/21 04:13:55 PM] Loading segmentation (75, 6048, 6048)\n",
      "[INFO][2023/06/21 04:13:55 PM] Closing HDF file: /mnt/DATA/macrohet/labels/macrohet_seg_model/(4, 4).h5\n"
     ]
    },
    {
     "name": "stdout",
     "output_type": "stream",
     "text": [
      "dMtb/dMtb_glimpses/glimpse_2326.4.4_t27.png: Upload Successful\n"
     ]
    },
    {
     "name": "stderr",
     "output_type": "stream",
     "text": [
      "[INFO][2023/06/21 04:14:14 PM] Opening HDF file: /mnt/DATA/macrohet/labels/macrohet_seg_model/(4, 4).h5...\n",
      "[INFO][2023/06/21 04:14:22 PM] Loading segmentation (75, 6048, 6048)\n",
      "[INFO][2023/06/21 04:14:22 PM] Closing HDF file: /mnt/DATA/macrohet/labels/macrohet_seg_model/(4, 4).h5\n"
     ]
    },
    {
     "name": "stdout",
     "output_type": "stream",
     "text": [
      "dMtb/dMtb_glimpses/glimpse_2326.4.4_t-1.png: Upload Successful\n"
     ]
    },
    {
     "name": "stderr",
     "output_type": "stream",
     "text": [
      "[INFO][2023/06/21 04:14:44 PM] Opening HDF file: /mnt/DATA/macrohet/labels/macrohet_seg_model/(4, 4).h5...\n",
      "[INFO][2023/06/21 04:14:53 PM] Loading segmentation (75, 6048, 6048)\n",
      "[INFO][2023/06/21 04:14:53 PM] Closing HDF file: /mnt/DATA/macrohet/labels/macrohet_seg_model/(4, 4).h5\n"
     ]
    },
    {
     "name": "stdout",
     "output_type": "stream",
     "text": [
      "dMtb/dMtb_glimpses/glimpse_2502.4.4_t30.png: Upload Successful\n"
     ]
    },
    {
     "name": "stderr",
     "output_type": "stream",
     "text": [
      "[INFO][2023/06/21 04:15:17 PM] Opening HDF file: /mnt/DATA/macrohet/labels/macrohet_seg_model/(4, 4).h5...\n",
      "[INFO][2023/06/21 04:15:25 PM] Loading segmentation (75, 6048, 6048)\n",
      "[INFO][2023/06/21 04:15:25 PM] Closing HDF file: /mnt/DATA/macrohet/labels/macrohet_seg_model/(4, 4).h5\n"
     ]
    },
    {
     "name": "stdout",
     "output_type": "stream",
     "text": [
      "dMtb/dMtb_glimpses/glimpse_2502.4.4_t-1.png: Upload Successful\n"
     ]
    },
    {
     "name": "stderr",
     "output_type": "stream",
     "text": [
      "[INFO][2023/06/21 04:15:49 PM] Opening HDF file: /mnt/DATA/macrohet/labels/macrohet_seg_model/(6, 4).h5...\n",
      "[INFO][2023/06/21 04:15:59 PM] Loading segmentation (75, 6048, 6048)\n",
      "[INFO][2023/06/21 04:15:59 PM] Closing HDF file: /mnt/DATA/macrohet/labels/macrohet_seg_model/(6, 4).h5\n"
     ]
    },
    {
     "name": "stdout",
     "output_type": "stream",
     "text": [
      "dMtb/dMtb_glimpses/glimpse_501.6.4_t0.png: Upload Successful\n"
     ]
    },
    {
     "name": "stderr",
     "output_type": "stream",
     "text": [
      "[INFO][2023/06/21 04:16:14 PM] Opening HDF file: /mnt/DATA/macrohet/labels/macrohet_seg_model/(6, 4).h5...\n",
      "[INFO][2023/06/21 04:16:23 PM] Loading segmentation (75, 6048, 6048)\n",
      "[INFO][2023/06/21 04:16:23 PM] Closing HDF file: /mnt/DATA/macrohet/labels/macrohet_seg_model/(6, 4).h5\n"
     ]
    },
    {
     "name": "stdout",
     "output_type": "stream",
     "text": [
      "dMtb/dMtb_glimpses/glimpse_501.6.4_t-1.png: Upload Successful\n"
     ]
    },
    {
     "name": "stderr",
     "output_type": "stream",
     "text": [
      "[INFO][2023/06/21 04:16:39 PM] Opening HDF file: /mnt/DATA/macrohet/labels/macrohet_seg_model/(6, 4).h5...\n",
      "[INFO][2023/06/21 04:16:47 PM] Loading segmentation (75, 6048, 6048)\n",
      "[INFO][2023/06/21 04:16:47 PM] Closing HDF file: /mnt/DATA/macrohet/labels/macrohet_seg_model/(6, 4).h5\n"
     ]
    },
    {
     "name": "stdout",
     "output_type": "stream",
     "text": [
      "dMtb/dMtb_glimpses/glimpse_655.6.4_t0.png: Upload Successful\n"
     ]
    },
    {
     "name": "stderr",
     "output_type": "stream",
     "text": [
      "[INFO][2023/06/21 04:17:07 PM] Opening HDF file: /mnt/DATA/macrohet/labels/macrohet_seg_model/(6, 4).h5...\n",
      "[INFO][2023/06/21 04:17:15 PM] Loading segmentation (75, 6048, 6048)\n",
      "[INFO][2023/06/21 04:17:15 PM] Closing HDF file: /mnt/DATA/macrohet/labels/macrohet_seg_model/(6, 4).h5\n"
     ]
    },
    {
     "name": "stdout",
     "output_type": "stream",
     "text": [
      "dMtb/dMtb_glimpses/glimpse_655.6.4_t-1.png: Upload Successful\n"
     ]
    },
    {
     "name": "stderr",
     "output_type": "stream",
     "text": [
      "[INFO][2023/06/21 04:17:35 PM] Opening HDF file: /mnt/DATA/macrohet/labels/macrohet_seg_model/(6, 4).h5...\n",
      "[INFO][2023/06/21 04:17:44 PM] Loading segmentation (75, 6048, 6048)\n",
      "[INFO][2023/06/21 04:17:44 PM] Closing HDF file: /mnt/DATA/macrohet/labels/macrohet_seg_model/(6, 4).h5\n"
     ]
    },
    {
     "name": "stdout",
     "output_type": "stream",
     "text": [
      "dMtb/dMtb_glimpses/glimpse_546.6.4_t0.png: Upload Successful\n"
     ]
    },
    {
     "name": "stderr",
     "output_type": "stream",
     "text": [
      "[INFO][2023/06/21 04:18:08 PM] Opening HDF file: /mnt/DATA/macrohet/labels/macrohet_seg_model/(6, 4).h5...\n",
      "[INFO][2023/06/21 04:18:16 PM] Loading segmentation (75, 6048, 6048)\n",
      "[INFO][2023/06/21 04:18:16 PM] Closing HDF file: /mnt/DATA/macrohet/labels/macrohet_seg_model/(6, 4).h5\n"
     ]
    },
    {
     "name": "stdout",
     "output_type": "stream",
     "text": [
      "dMtb/dMtb_glimpses/glimpse_546.6.4_t-1.png: Upload Successful\n"
     ]
    },
    {
     "name": "stderr",
     "output_type": "stream",
     "text": [
      "[INFO][2023/06/21 04:18:41 PM] Opening HDF file: /mnt/DATA/macrohet/labels/macrohet_seg_model/(6, 4).h5...\n",
      "[INFO][2023/06/21 04:18:49 PM] Loading segmentation (75, 6048, 6048)\n",
      "[INFO][2023/06/21 04:18:49 PM] Closing HDF file: /mnt/DATA/macrohet/labels/macrohet_seg_model/(6, 4).h5\n"
     ]
    },
    {
     "name": "stdout",
     "output_type": "stream",
     "text": [
      "dMtb/dMtb_glimpses/glimpse_553.6.4_t0.png: Upload Successful\n"
     ]
    },
    {
     "name": "stderr",
     "output_type": "stream",
     "text": [
      "[INFO][2023/06/21 04:19:09 PM] Opening HDF file: /mnt/DATA/macrohet/labels/macrohet_seg_model/(6, 4).h5...\n",
      "[INFO][2023/06/21 04:19:17 PM] Loading segmentation (75, 6048, 6048)\n",
      "[INFO][2023/06/21 04:19:17 PM] Closing HDF file: /mnt/DATA/macrohet/labels/macrohet_seg_model/(6, 4).h5\n"
     ]
    },
    {
     "name": "stdout",
     "output_type": "stream",
     "text": [
      "dMtb/dMtb_glimpses/glimpse_553.6.4_t-1.png: Upload Successful\n"
     ]
    },
    {
     "name": "stderr",
     "output_type": "stream",
     "text": [
      "[INFO][2023/06/21 04:19:37 PM] Opening HDF file: /mnt/DATA/macrohet/labels/macrohet_seg_model/(6, 4).h5...\n",
      "[INFO][2023/06/21 04:19:46 PM] Loading segmentation (75, 6048, 6048)\n",
      "[INFO][2023/06/21 04:19:46 PM] Closing HDF file: /mnt/DATA/macrohet/labels/macrohet_seg_model/(6, 4).h5\n"
     ]
    },
    {
     "name": "stdout",
     "output_type": "stream",
     "text": [
      "dMtb/dMtb_glimpses/glimpse_592.6.4_t0.png: Upload Successful\n"
     ]
    },
    {
     "name": "stderr",
     "output_type": "stream",
     "text": [
      "[INFO][2023/06/21 04:20:05 PM] Opening HDF file: /mnt/DATA/macrohet/labels/macrohet_seg_model/(6, 4).h5...\n",
      "[INFO][2023/06/21 04:20:14 PM] Loading segmentation (75, 6048, 6048)\n",
      "[INFO][2023/06/21 04:20:14 PM] Closing HDF file: /mnt/DATA/macrohet/labels/macrohet_seg_model/(6, 4).h5\n"
     ]
    },
    {
     "name": "stdout",
     "output_type": "stream",
     "text": [
      "dMtb/dMtb_glimpses/glimpse_592.6.4_t-1.png: Upload Successful\n"
     ]
    },
    {
     "name": "stderr",
     "output_type": "stream",
     "text": [
      "[INFO][2023/06/21 04:20:33 PM] Opening HDF file: /mnt/DATA/macrohet/labels/macrohet_seg_model/(6, 4).h5...\n",
      "[INFO][2023/06/21 04:20:41 PM] Loading segmentation (75, 6048, 6048)\n",
      "[INFO][2023/06/21 04:20:41 PM] Closing HDF file: /mnt/DATA/macrohet/labels/macrohet_seg_model/(6, 4).h5\n"
     ]
    },
    {
     "name": "stdout",
     "output_type": "stream",
     "text": [
      "dMtb/dMtb_glimpses/glimpse_300.6.4_t0.png: Upload Successful\n"
     ]
    },
    {
     "name": "stderr",
     "output_type": "stream",
     "text": [
      "[INFO][2023/06/21 04:21:01 PM] Opening HDF file: /mnt/DATA/macrohet/labels/macrohet_seg_model/(6, 4).h5...\n",
      "[INFO][2023/06/21 04:21:10 PM] Loading segmentation (75, 6048, 6048)\n",
      "[INFO][2023/06/21 04:21:10 PM] Closing HDF file: /mnt/DATA/macrohet/labels/macrohet_seg_model/(6, 4).h5\n"
     ]
    },
    {
     "name": "stdout",
     "output_type": "stream",
     "text": [
      "dMtb/dMtb_glimpses/glimpse_300.6.4_t-1.png: Upload Successful\n"
     ]
    },
    {
     "name": "stderr",
     "output_type": "stream",
     "text": [
      "[INFO][2023/06/21 04:21:29 PM] Opening HDF file: /mnt/DATA/macrohet/labels/macrohet_seg_model/(6, 4).h5...\n",
      "[INFO][2023/06/21 04:21:38 PM] Loading segmentation (75, 6048, 6048)\n",
      "[INFO][2023/06/21 04:21:38 PM] Closing HDF file: /mnt/DATA/macrohet/labels/macrohet_seg_model/(6, 4).h5\n"
     ]
    },
    {
     "name": "stdout",
     "output_type": "stream",
     "text": [
      "dMtb/dMtb_glimpses/glimpse_1015.6.4_t4.png: Upload Successful\n"
     ]
    },
    {
     "name": "stderr",
     "output_type": "stream",
     "text": [
      "[INFO][2023/06/21 04:22:03 PM] Opening HDF file: /mnt/DATA/macrohet/labels/macrohet_seg_model/(6, 4).h5...\n",
      "[INFO][2023/06/21 04:22:11 PM] Loading segmentation (75, 6048, 6048)\n",
      "[INFO][2023/06/21 04:22:11 PM] Closing HDF file: /mnt/DATA/macrohet/labels/macrohet_seg_model/(6, 4).h5\n"
     ]
    },
    {
     "name": "stdout",
     "output_type": "stream",
     "text": [
      "dMtb/dMtb_glimpses/glimpse_1015.6.4_t-1.png: Upload Successful\n"
     ]
    },
    {
     "name": "stderr",
     "output_type": "stream",
     "text": [
      "[INFO][2023/06/21 04:22:36 PM] Opening HDF file: /mnt/DATA/macrohet/labels/macrohet_seg_model/(6, 4).h5...\n",
      "[INFO][2023/06/21 04:22:45 PM] Loading segmentation (75, 6048, 6048)\n",
      "[INFO][2023/06/21 04:22:45 PM] Closing HDF file: /mnt/DATA/macrohet/labels/macrohet_seg_model/(6, 4).h5\n"
     ]
    },
    {
     "name": "stdout",
     "output_type": "stream",
     "text": [
      "dMtb/dMtb_glimpses/glimpse_1418.6.4_t9.png: Upload Successful\n"
     ]
    },
    {
     "name": "stderr",
     "output_type": "stream",
     "text": [
      "[INFO][2023/06/21 04:23:04 PM] Opening HDF file: /mnt/DATA/macrohet/labels/macrohet_seg_model/(6, 4).h5...\n",
      "[INFO][2023/06/21 04:23:13 PM] Loading segmentation (75, 6048, 6048)\n",
      "[INFO][2023/06/21 04:23:13 PM] Closing HDF file: /mnt/DATA/macrohet/labels/macrohet_seg_model/(6, 4).h5\n"
     ]
    },
    {
     "name": "stdout",
     "output_type": "stream",
     "text": [
      "dMtb/dMtb_glimpses/glimpse_1418.6.4_t-1.png: Upload Successful\n"
     ]
    },
    {
     "name": "stderr",
     "output_type": "stream",
     "text": [
      "[INFO][2023/06/21 04:23:32 PM] Opening HDF file: /mnt/DATA/macrohet/labels/macrohet_seg_model/(6, 4).h5...\n",
      "[INFO][2023/06/21 04:23:41 PM] Loading segmentation (75, 6048, 6048)\n",
      "[INFO][2023/06/21 04:23:41 PM] Closing HDF file: /mnt/DATA/macrohet/labels/macrohet_seg_model/(6, 4).h5\n"
     ]
    },
    {
     "name": "stdout",
     "output_type": "stream",
     "text": [
      "dMtb/dMtb_glimpses/glimpse_1923.6.4_t17.png: Upload Successful\n"
     ]
    },
    {
     "name": "stderr",
     "output_type": "stream",
     "text": [
      "[INFO][2023/06/21 04:24:05 PM] Opening HDF file: /mnt/DATA/macrohet/labels/macrohet_seg_model/(6, 4).h5...\n",
      "[INFO][2023/06/21 04:24:13 PM] Loading segmentation (75, 6048, 6048)\n",
      "[INFO][2023/06/21 04:24:13 PM] Closing HDF file: /mnt/DATA/macrohet/labels/macrohet_seg_model/(6, 4).h5\n"
     ]
    },
    {
     "name": "stdout",
     "output_type": "stream",
     "text": [
      "dMtb/dMtb_glimpses/glimpse_1923.6.4_t-1.png: Upload Successful\n"
     ]
    },
    {
     "name": "stderr",
     "output_type": "stream",
     "text": [
      "[INFO][2023/06/21 04:24:38 PM] Opening HDF file: /mnt/DATA/macrohet/labels/macrohet_seg_model/(6, 4).h5...\n",
      "[INFO][2023/06/21 04:24:47 PM] Loading segmentation (75, 6048, 6048)\n",
      "[INFO][2023/06/21 04:24:47 PM] Closing HDF file: /mnt/DATA/macrohet/labels/macrohet_seg_model/(6, 4).h5\n"
     ]
    },
    {
     "name": "stdout",
     "output_type": "stream",
     "text": [
      "dMtb/dMtb_glimpses/glimpse_1983.6.4_t18.png: Upload Successful\n"
     ]
    },
    {
     "name": "stderr",
     "output_type": "stream",
     "text": [
      "[INFO][2023/06/21 04:25:06 PM] Opening HDF file: /mnt/DATA/macrohet/labels/macrohet_seg_model/(6, 4).h5...\n",
      "[INFO][2023/06/21 04:25:15 PM] Loading segmentation (75, 6048, 6048)\n",
      "[INFO][2023/06/21 04:25:15 PM] Closing HDF file: /mnt/DATA/macrohet/labels/macrohet_seg_model/(6, 4).h5\n"
     ]
    },
    {
     "name": "stdout",
     "output_type": "stream",
     "text": [
      "dMtb/dMtb_glimpses/glimpse_1983.6.4_t-1.png: Upload Successful\n"
     ]
    },
    {
     "name": "stderr",
     "output_type": "stream",
     "text": [
      "[INFO][2023/06/21 04:25:31 PM] Opening HDF file: /mnt/DATA/macrohet/labels/macrohet_seg_model/(6, 4).h5...\n",
      "[INFO][2023/06/21 04:25:40 PM] Loading segmentation (75, 6048, 6048)\n",
      "[INFO][2023/06/21 04:25:40 PM] Closing HDF file: /mnt/DATA/macrohet/labels/macrohet_seg_model/(6, 4).h5\n"
     ]
    },
    {
     "name": "stdout",
     "output_type": "stream",
     "text": [
      "dMtb/dMtb_glimpses/glimpse_2758.6.4_t31.png: Upload Successful\n"
     ]
    },
    {
     "name": "stderr",
     "output_type": "stream",
     "text": [
      "[INFO][2023/06/21 04:26:00 PM] Opening HDF file: /mnt/DATA/macrohet/labels/macrohet_seg_model/(6, 4).h5...\n",
      "[INFO][2023/06/21 04:26:08 PM] Loading segmentation (75, 6048, 6048)\n",
      "[INFO][2023/06/21 04:26:08 PM] Closing HDF file: /mnt/DATA/macrohet/labels/macrohet_seg_model/(6, 4).h5\n"
     ]
    },
    {
     "name": "stdout",
     "output_type": "stream",
     "text": [
      "dMtb/dMtb_glimpses/glimpse_2758.6.4_t-1.png: Upload Successful\n"
     ]
    },
    {
     "name": "stderr",
     "output_type": "stream",
     "text": [
      "[INFO][2023/06/21 04:26:28 PM] Opening HDF file: /mnt/DATA/macrohet/labels/macrohet_seg_model/(3, 5).h5...\n",
      "[INFO][2023/06/21 04:26:37 PM] Loading segmentation (75, 6048, 6048)\n",
      "[INFO][2023/06/21 04:26:37 PM] Closing HDF file: /mnt/DATA/macrohet/labels/macrohet_seg_model/(3, 5).h5\n"
     ]
    },
    {
     "name": "stdout",
     "output_type": "stream",
     "text": [
      "dMtb/dMtb_glimpses/glimpse_360.3.5_t0.png: Upload Successful\n"
     ]
    },
    {
     "name": "stderr",
     "output_type": "stream",
     "text": [
      "[INFO][2023/06/21 04:26:53 PM] Opening HDF file: /mnt/DATA/macrohet/labels/macrohet_seg_model/(3, 5).h5...\n",
      "[INFO][2023/06/21 04:27:02 PM] Loading segmentation (75, 6048, 6048)\n",
      "[INFO][2023/06/21 04:27:02 PM] Closing HDF file: /mnt/DATA/macrohet/labels/macrohet_seg_model/(3, 5).h5\n"
     ]
    },
    {
     "name": "stdout",
     "output_type": "stream",
     "text": [
      "dMtb/dMtb_glimpses/glimpse_360.3.5_t-1.png: Upload Successful\n"
     ]
    },
    {
     "name": "stderr",
     "output_type": "stream",
     "text": [
      "[INFO][2023/06/21 04:27:22 PM] Opening HDF file: /mnt/DATA/macrohet/labels/macrohet_seg_model/(3, 5).h5...\n",
      "[INFO][2023/06/21 04:27:31 PM] Loading segmentation (75, 6048, 6048)\n",
      "[INFO][2023/06/21 04:27:31 PM] Closing HDF file: /mnt/DATA/macrohet/labels/macrohet_seg_model/(3, 5).h5\n"
     ]
    },
    {
     "name": "stdout",
     "output_type": "stream",
     "text": [
      "dMtb/dMtb_glimpses/glimpse_486.3.5_t0.png: Upload Successful\n"
     ]
    },
    {
     "name": "stderr",
     "output_type": "stream",
     "text": [
      "[INFO][2023/06/21 04:27:50 PM] Opening HDF file: /mnt/DATA/macrohet/labels/macrohet_seg_model/(3, 5).h5...\n",
      "[INFO][2023/06/21 04:28:00 PM] Loading segmentation (75, 6048, 6048)\n",
      "[INFO][2023/06/21 04:28:00 PM] Closing HDF file: /mnt/DATA/macrohet/labels/macrohet_seg_model/(3, 5).h5\n"
     ]
    },
    {
     "name": "stdout",
     "output_type": "stream",
     "text": [
      "dMtb/dMtb_glimpses/glimpse_486.3.5_t-1.png: Upload Successful\n"
     ]
    },
    {
     "name": "stderr",
     "output_type": "stream",
     "text": [
      "[INFO][2023/06/21 04:28:19 PM] Opening HDF file: /mnt/DATA/macrohet/labels/macrohet_seg_model/(3, 5).h5...\n",
      "[INFO][2023/06/21 04:28:28 PM] Loading segmentation (75, 6048, 6048)\n",
      "[INFO][2023/06/21 04:28:28 PM] Closing HDF file: /mnt/DATA/macrohet/labels/macrohet_seg_model/(3, 5).h5\n"
     ]
    },
    {
     "name": "stdout",
     "output_type": "stream",
     "text": [
      "dMtb/dMtb_glimpses/glimpse_223.3.5_t0.png: Upload Successful\n"
     ]
    },
    {
     "name": "stderr",
     "output_type": "stream",
     "text": [
      "[INFO][2023/06/21 04:28:47 PM] Opening HDF file: /mnt/DATA/macrohet/labels/macrohet_seg_model/(3, 5).h5...\n",
      "[INFO][2023/06/21 04:28:57 PM] Loading segmentation (75, 6048, 6048)\n",
      "[INFO][2023/06/21 04:28:57 PM] Closing HDF file: /mnt/DATA/macrohet/labels/macrohet_seg_model/(3, 5).h5\n"
     ]
    },
    {
     "name": "stdout",
     "output_type": "stream",
     "text": [
      "dMtb/dMtb_glimpses/glimpse_223.3.5_t-1.png: Upload Successful\n"
     ]
    },
    {
     "name": "stderr",
     "output_type": "stream",
     "text": [
      "[INFO][2023/06/21 04:29:16 PM] Opening HDF file: /mnt/DATA/macrohet/labels/macrohet_seg_model/(3, 5).h5...\n",
      "[INFO][2023/06/21 04:29:25 PM] Loading segmentation (75, 6048, 6048)\n",
      "[INFO][2023/06/21 04:29:25 PM] Closing HDF file: /mnt/DATA/macrohet/labels/macrohet_seg_model/(3, 5).h5\n"
     ]
    },
    {
     "name": "stdout",
     "output_type": "stream",
     "text": [
      "dMtb/dMtb_glimpses/glimpse_638.3.5_t1.png: Upload Successful\n"
     ]
    },
    {
     "name": "stderr",
     "output_type": "stream",
     "text": [
      "[INFO][2023/06/21 04:29:40 PM] Opening HDF file: /mnt/DATA/macrohet/labels/macrohet_seg_model/(3, 5).h5...\n",
      "[INFO][2023/06/21 04:29:49 PM] Loading segmentation (75, 6048, 6048)\n",
      "[INFO][2023/06/21 04:29:49 PM] Closing HDF file: /mnt/DATA/macrohet/labels/macrohet_seg_model/(3, 5).h5\n"
     ]
    },
    {
     "name": "stdout",
     "output_type": "stream",
     "text": [
      "dMtb/dMtb_glimpses/glimpse_638.3.5_t-1.png: Upload Successful\n"
     ]
    },
    {
     "name": "stderr",
     "output_type": "stream",
     "text": [
      "[INFO][2023/06/21 04:30:05 PM] Opening HDF file: /mnt/DATA/macrohet/labels/macrohet_seg_model/(3, 5).h5...\n",
      "[INFO][2023/06/21 04:30:14 PM] Loading segmentation (75, 6048, 6048)\n",
      "[INFO][2023/06/21 04:30:14 PM] Closing HDF file: /mnt/DATA/macrohet/labels/macrohet_seg_model/(3, 5).h5\n"
     ]
    },
    {
     "name": "stdout",
     "output_type": "stream",
     "text": [
      "dMtb/dMtb_glimpses/glimpse_1324.3.5_t11.png: Upload Successful\n"
     ]
    },
    {
     "name": "stderr",
     "output_type": "stream",
     "text": [
      "[INFO][2023/06/21 04:30:34 PM] Opening HDF file: /mnt/DATA/macrohet/labels/macrohet_seg_model/(3, 5).h5...\n",
      "[INFO][2023/06/21 04:30:42 PM] Loading segmentation (75, 6048, 6048)\n",
      "[INFO][2023/06/21 04:30:42 PM] Closing HDF file: /mnt/DATA/macrohet/labels/macrohet_seg_model/(3, 5).h5\n"
     ]
    },
    {
     "name": "stdout",
     "output_type": "stream",
     "text": [
      "dMtb/dMtb_glimpses/glimpse_1324.3.5_t-1.png: Upload Successful\n"
     ]
    },
    {
     "name": "stderr",
     "output_type": "stream",
     "text": [
      "[INFO][2023/06/21 04:31:08 PM] Opening HDF file: /mnt/DATA/macrohet/labels/macrohet_seg_model/(3, 5).h5...\n",
      "[INFO][2023/06/21 04:31:17 PM] Loading segmentation (75, 6048, 6048)\n",
      "[INFO][2023/06/21 04:31:17 PM] Closing HDF file: /mnt/DATA/macrohet/labels/macrohet_seg_model/(3, 5).h5\n"
     ]
    },
    {
     "name": "stdout",
     "output_type": "stream",
     "text": [
      "dMtb/dMtb_glimpses/glimpse_2492.3.5_t34.png: Upload Successful\n"
     ]
    },
    {
     "name": "stderr",
     "output_type": "stream",
     "text": [
      "[INFO][2023/06/21 04:31:33 PM] Opening HDF file: /mnt/DATA/macrohet/labels/macrohet_seg_model/(3, 5).h5...\n",
      "[INFO][2023/06/21 04:31:42 PM] Loading segmentation (75, 6048, 6048)\n",
      "[INFO][2023/06/21 04:31:42 PM] Closing HDF file: /mnt/DATA/macrohet/labels/macrohet_seg_model/(3, 5).h5\n"
     ]
    },
    {
     "name": "stdout",
     "output_type": "stream",
     "text": [
      "dMtb/dMtb_glimpses/glimpse_2492.3.5_t-1.png: Upload Successful\n"
     ]
    },
    {
     "name": "stderr",
     "output_type": "stream",
     "text": [
      "[INFO][2023/06/21 04:31:58 PM] Opening HDF file: /mnt/DATA/macrohet/labels/macrohet_seg_model/(4, 5).h5...\n",
      "[INFO][2023/06/21 04:32:07 PM] Loading segmentation (75, 6048, 6048)\n",
      "[INFO][2023/06/21 04:32:07 PM] Closing HDF file: /mnt/DATA/macrohet/labels/macrohet_seg_model/(4, 5).h5\n"
     ]
    },
    {
     "name": "stdout",
     "output_type": "stream",
     "text": [
      "dMtb/dMtb_glimpses/glimpse_639.4.5_t0.png: Upload Successful\n"
     ]
    },
    {
     "name": "stderr",
     "output_type": "stream",
     "text": [
      "[INFO][2023/06/21 04:32:27 PM] Opening HDF file: /mnt/DATA/macrohet/labels/macrohet_seg_model/(4, 5).h5...\n",
      "[INFO][2023/06/21 04:32:37 PM] Loading segmentation (75, 6048, 6048)\n",
      "[INFO][2023/06/21 04:32:37 PM] Closing HDF file: /mnt/DATA/macrohet/labels/macrohet_seg_model/(4, 5).h5\n"
     ]
    },
    {
     "name": "stdout",
     "output_type": "stream",
     "text": [
      "dMtb/dMtb_glimpses/glimpse_639.4.5_t-1.png: Upload Successful\n"
     ]
    },
    {
     "name": "stderr",
     "output_type": "stream",
     "text": [
      "[INFO][2023/06/21 04:32:53 PM] Opening HDF file: /mnt/DATA/macrohet/labels/macrohet_seg_model/(4, 5).h5...\n",
      "[INFO][2023/06/21 04:33:02 PM] Loading segmentation (75, 6048, 6048)\n",
      "[INFO][2023/06/21 04:33:02 PM] Closing HDF file: /mnt/DATA/macrohet/labels/macrohet_seg_model/(4, 5).h5\n"
     ]
    },
    {
     "name": "stdout",
     "output_type": "stream",
     "text": [
      "dMtb/dMtb_glimpses/glimpse_621.4.5_t0.png: Upload Successful\n"
     ]
    },
    {
     "name": "stderr",
     "output_type": "stream",
     "text": [
      "[INFO][2023/06/21 04:33:22 PM] Opening HDF file: /mnt/DATA/macrohet/labels/macrohet_seg_model/(4, 5).h5...\n",
      "[INFO][2023/06/21 04:33:30 PM] Loading segmentation (75, 6048, 6048)\n",
      "[INFO][2023/06/21 04:33:30 PM] Closing HDF file: /mnt/DATA/macrohet/labels/macrohet_seg_model/(4, 5).h5\n"
     ]
    },
    {
     "name": "stdout",
     "output_type": "stream",
     "text": [
      "dMtb/dMtb_glimpses/glimpse_621.4.5_t-1.png: Upload Successful\n"
     ]
    },
    {
     "name": "stderr",
     "output_type": "stream",
     "text": [
      "[INFO][2023/06/21 04:33:50 PM] Opening HDF file: /mnt/DATA/macrohet/labels/macrohet_seg_model/(4, 5).h5...\n",
      "[INFO][2023/06/21 04:33:59 PM] Loading segmentation (75, 6048, 6048)\n",
      "[INFO][2023/06/21 04:33:59 PM] Closing HDF file: /mnt/DATA/macrohet/labels/macrohet_seg_model/(4, 5).h5\n"
     ]
    },
    {
     "name": "stdout",
     "output_type": "stream",
     "text": [
      "dMtb/dMtb_glimpses/glimpse_530.4.5_t0.png: Upload Successful\n"
     ]
    },
    {
     "name": "stderr",
     "output_type": "stream",
     "text": [
      "[INFO][2023/06/21 04:34:18 PM] Opening HDF file: /mnt/DATA/macrohet/labels/macrohet_seg_model/(4, 5).h5...\n",
      "[INFO][2023/06/21 04:34:26 PM] Loading segmentation (75, 6048, 6048)\n",
      "[INFO][2023/06/21 04:34:26 PM] Closing HDF file: /mnt/DATA/macrohet/labels/macrohet_seg_model/(4, 5).h5\n"
     ]
    },
    {
     "name": "stdout",
     "output_type": "stream",
     "text": [
      "dMtb/dMtb_glimpses/glimpse_530.4.5_t-1.png: Upload Successful\n"
     ]
    },
    {
     "name": "stderr",
     "output_type": "stream",
     "text": [
      "[INFO][2023/06/21 04:34:49 PM] Opening HDF file: /mnt/DATA/macrohet/labels/macrohet_seg_model/(4, 5).h5...\n",
      "[INFO][2023/06/21 04:34:58 PM] Loading segmentation (75, 6048, 6048)\n",
      "[INFO][2023/06/21 04:34:58 PM] Closing HDF file: /mnt/DATA/macrohet/labels/macrohet_seg_model/(4, 5).h5\n"
     ]
    },
    {
     "name": "stdout",
     "output_type": "stream",
     "text": [
      "dMtb/dMtb_glimpses/glimpse_510.4.5_t0.png: Upload Successful\n"
     ]
    },
    {
     "name": "stderr",
     "output_type": "stream",
     "text": [
      "[INFO][2023/06/21 04:35:17 PM] Opening HDF file: /mnt/DATA/macrohet/labels/macrohet_seg_model/(4, 5).h5...\n",
      "[INFO][2023/06/21 04:35:26 PM] Loading segmentation (75, 6048, 6048)\n",
      "[INFO][2023/06/21 04:35:26 PM] Closing HDF file: /mnt/DATA/macrohet/labels/macrohet_seg_model/(4, 5).h5\n"
     ]
    },
    {
     "name": "stdout",
     "output_type": "stream",
     "text": [
      "dMtb/dMtb_glimpses/glimpse_510.4.5_t-1.png: Upload Successful\n"
     ]
    },
    {
     "name": "stderr",
     "output_type": "stream",
     "text": [
      "[INFO][2023/06/21 04:35:46 PM] Opening HDF file: /mnt/DATA/macrohet/labels/macrohet_seg_model/(4, 5).h5...\n",
      "[INFO][2023/06/21 04:35:55 PM] Loading segmentation (75, 6048, 6048)\n",
      "[INFO][2023/06/21 04:35:55 PM] Closing HDF file: /mnt/DATA/macrohet/labels/macrohet_seg_model/(4, 5).h5\n"
     ]
    },
    {
     "name": "stdout",
     "output_type": "stream",
     "text": [
      "dMtb/dMtb_glimpses/glimpse_150.4.5_t0.png: Upload Successful\n"
     ]
    },
    {
     "name": "stderr",
     "output_type": "stream",
     "text": [
      "[INFO][2023/06/21 04:36:14 PM] Opening HDF file: /mnt/DATA/macrohet/labels/macrohet_seg_model/(4, 5).h5...\n",
      "[INFO][2023/06/21 04:36:22 PM] Loading segmentation (75, 6048, 6048)\n",
      "[INFO][2023/06/21 04:36:22 PM] Closing HDF file: /mnt/DATA/macrohet/labels/macrohet_seg_model/(4, 5).h5\n"
     ]
    },
    {
     "name": "stdout",
     "output_type": "stream",
     "text": [
      "dMtb/dMtb_glimpses/glimpse_150.4.5_t-1.png: Upload Successful\n"
     ]
    },
    {
     "name": "stderr",
     "output_type": "stream",
     "text": [
      "[INFO][2023/06/21 04:36:42 PM] Opening HDF file: /mnt/DATA/macrohet/labels/macrohet_seg_model/(4, 5).h5...\n",
      "[INFO][2023/06/21 04:36:50 PM] Loading segmentation (75, 6048, 6048)\n",
      "[INFO][2023/06/21 04:36:50 PM] Closing HDF file: /mnt/DATA/macrohet/labels/macrohet_seg_model/(4, 5).h5\n"
     ]
    },
    {
     "name": "stdout",
     "output_type": "stream",
     "text": [
      "dMtb/dMtb_glimpses/glimpse_162.4.5_t0.png: Upload Successful\n"
     ]
    },
    {
     "name": "stderr",
     "output_type": "stream",
     "text": [
      "[INFO][2023/06/21 04:37:10 PM] Opening HDF file: /mnt/DATA/macrohet/labels/macrohet_seg_model/(4, 5).h5...\n",
      "[INFO][2023/06/21 04:37:19 PM] Loading segmentation (75, 6048, 6048)\n",
      "[INFO][2023/06/21 04:37:19 PM] Closing HDF file: /mnt/DATA/macrohet/labels/macrohet_seg_model/(4, 5).h5\n"
     ]
    },
    {
     "name": "stdout",
     "output_type": "stream",
     "text": [
      "dMtb/dMtb_glimpses/glimpse_162.4.5_t-1.png: Upload Successful\n"
     ]
    },
    {
     "name": "stderr",
     "output_type": "stream",
     "text": [
      "[INFO][2023/06/21 04:37:39 PM] Opening HDF file: /mnt/DATA/macrohet/labels/macrohet_seg_model/(4, 5).h5...\n",
      "[INFO][2023/06/21 04:37:48 PM] Loading segmentation (75, 6048, 6048)\n",
      "[INFO][2023/06/21 04:37:48 PM] Closing HDF file: /mnt/DATA/macrohet/labels/macrohet_seg_model/(4, 5).h5\n"
     ]
    },
    {
     "name": "stdout",
     "output_type": "stream",
     "text": [
      "dMtb/dMtb_glimpses/glimpse_11.4.5_t0.png: Upload Successful\n"
     ]
    },
    {
     "name": "stderr",
     "output_type": "stream",
     "text": [
      "[INFO][2023/06/21 04:38:04 PM] Opening HDF file: /mnt/DATA/macrohet/labels/macrohet_seg_model/(4, 5).h5...\n",
      "[INFO][2023/06/21 04:38:14 PM] Loading segmentation (75, 6048, 6048)\n",
      "[INFO][2023/06/21 04:38:14 PM] Closing HDF file: /mnt/DATA/macrohet/labels/macrohet_seg_model/(4, 5).h5\n"
     ]
    },
    {
     "name": "stdout",
     "output_type": "stream",
     "text": [
      "dMtb/dMtb_glimpses/glimpse_11.4.5_t-1.png: Upload Successful\n"
     ]
    },
    {
     "name": "stderr",
     "output_type": "stream",
     "text": [
      "[INFO][2023/06/21 04:38:30 PM] Opening HDF file: /mnt/DATA/macrohet/labels/macrohet_seg_model/(4, 5).h5...\n",
      "[INFO][2023/06/21 04:38:39 PM] Loading segmentation (75, 6048, 6048)\n",
      "[INFO][2023/06/21 04:38:39 PM] Closing HDF file: /mnt/DATA/macrohet/labels/macrohet_seg_model/(4, 5).h5\n"
     ]
    },
    {
     "name": "stdout",
     "output_type": "stream",
     "text": [
      "dMtb/dMtb_glimpses/glimpse_44.4.5_t0.png: Upload Successful\n"
     ]
    },
    {
     "name": "stderr",
     "output_type": "stream",
     "text": [
      "[INFO][2023/06/21 04:38:55 PM] Opening HDF file: /mnt/DATA/macrohet/labels/macrohet_seg_model/(4, 5).h5...\n",
      "[INFO][2023/06/21 04:39:04 PM] Loading segmentation (75, 6048, 6048)\n",
      "[INFO][2023/06/21 04:39:04 PM] Closing HDF file: /mnt/DATA/macrohet/labels/macrohet_seg_model/(4, 5).h5\n"
     ]
    },
    {
     "name": "stdout",
     "output_type": "stream",
     "text": [
      "dMtb/dMtb_glimpses/glimpse_44.4.5_t-1.png: Upload Successful\n"
     ]
    },
    {
     "name": "stderr",
     "output_type": "stream",
     "text": [
      "[INFO][2023/06/21 04:39:19 PM] Opening HDF file: /mnt/DATA/macrohet/labels/macrohet_seg_model/(4, 5).h5...\n",
      "[INFO][2023/06/21 04:39:30 PM] Loading segmentation (75, 6048, 6048)\n",
      "[INFO][2023/06/21 04:39:30 PM] Closing HDF file: /mnt/DATA/macrohet/labels/macrohet_seg_model/(4, 5).h5\n"
     ]
    },
    {
     "name": "stdout",
     "output_type": "stream",
     "text": [
      "dMtb/dMtb_glimpses/glimpse_184.4.5_t0.png: Upload Successful\n"
     ]
    },
    {
     "name": "stderr",
     "output_type": "stream",
     "text": [
      "[INFO][2023/06/21 04:39:46 PM] Opening HDF file: /mnt/DATA/macrohet/labels/macrohet_seg_model/(4, 5).h5...\n",
      "[INFO][2023/06/21 04:39:58 PM] Loading segmentation (75, 6048, 6048)\n",
      "[INFO][2023/06/21 04:39:58 PM] Closing HDF file: /mnt/DATA/macrohet/labels/macrohet_seg_model/(4, 5).h5\n"
     ]
    },
    {
     "name": "stdout",
     "output_type": "stream",
     "text": [
      "dMtb/dMtb_glimpses/glimpse_184.4.5_t-1.png: Upload Successful\n"
     ]
    },
    {
     "name": "stderr",
     "output_type": "stream",
     "text": [
      "[INFO][2023/06/21 04:40:14 PM] Opening HDF file: /mnt/DATA/macrohet/labels/macrohet_seg_model/(4, 5).h5...\n",
      "[INFO][2023/06/21 04:40:24 PM] Loading segmentation (75, 6048, 6048)\n",
      "[INFO][2023/06/21 04:40:24 PM] Closing HDF file: /mnt/DATA/macrohet/labels/macrohet_seg_model/(4, 5).h5\n"
     ]
    },
    {
     "name": "stdout",
     "output_type": "stream",
     "text": [
      "dMtb/dMtb_glimpses/glimpse_725.4.5_t1.png: Upload Successful\n"
     ]
    },
    {
     "name": "stderr",
     "output_type": "stream",
     "text": [
      "[INFO][2023/06/21 04:40:40 PM] Opening HDF file: /mnt/DATA/macrohet/labels/macrohet_seg_model/(4, 5).h5...\n",
      "[INFO][2023/06/21 04:40:49 PM] Loading segmentation (75, 6048, 6048)\n",
      "[INFO][2023/06/21 04:40:49 PM] Closing HDF file: /mnt/DATA/macrohet/labels/macrohet_seg_model/(4, 5).h5\n"
     ]
    },
    {
     "name": "stdout",
     "output_type": "stream",
     "text": [
      "dMtb/dMtb_glimpses/glimpse_725.4.5_t-1.png: Upload Successful\n"
     ]
    },
    {
     "name": "stderr",
     "output_type": "stream",
     "text": [
      "[INFO][2023/06/21 04:41:05 PM] Opening HDF file: /mnt/DATA/macrohet/labels/macrohet_seg_model/(4, 5).h5...\n",
      "[INFO][2023/06/21 04:41:14 PM] Loading segmentation (75, 6048, 6048)\n",
      "[INFO][2023/06/21 04:41:14 PM] Closing HDF file: /mnt/DATA/macrohet/labels/macrohet_seg_model/(4, 5).h5\n"
     ]
    },
    {
     "name": "stdout",
     "output_type": "stream",
     "text": [
      "dMtb/dMtb_glimpses/glimpse_727.4.5_t1.png: Upload Successful\n"
     ]
    },
    {
     "name": "stderr",
     "output_type": "stream",
     "text": [
      "[INFO][2023/06/21 04:41:30 PM] Opening HDF file: /mnt/DATA/macrohet/labels/macrohet_seg_model/(4, 5).h5...\n",
      "[INFO][2023/06/21 04:41:39 PM] Loading segmentation (75, 6048, 6048)\n",
      "[INFO][2023/06/21 04:41:39 PM] Closing HDF file: /mnt/DATA/macrohet/labels/macrohet_seg_model/(4, 5).h5\n"
     ]
    },
    {
     "name": "stdout",
     "output_type": "stream",
     "text": [
      "dMtb/dMtb_glimpses/glimpse_727.4.5_t-1.png: Upload Successful\n"
     ]
    },
    {
     "name": "stderr",
     "output_type": "stream",
     "text": [
      "[INFO][2023/06/21 04:41:55 PM] Opening HDF file: /mnt/DATA/macrohet/labels/macrohet_seg_model/(4, 5).h5...\n",
      "[INFO][2023/06/21 04:42:03 PM] Loading segmentation (75, 6048, 6048)\n",
      "[INFO][2023/06/21 04:42:03 PM] Closing HDF file: /mnt/DATA/macrohet/labels/macrohet_seg_model/(4, 5).h5\n"
     ]
    },
    {
     "name": "stdout",
     "output_type": "stream",
     "text": [
      "dMtb/dMtb_glimpses/glimpse_698.4.5_t1.png: Upload Successful\n"
     ]
    },
    {
     "name": "stderr",
     "output_type": "stream",
     "text": [
      "[INFO][2023/06/21 04:42:19 PM] Opening HDF file: /mnt/DATA/macrohet/labels/macrohet_seg_model/(4, 5).h5...\n",
      "[INFO][2023/06/21 04:42:28 PM] Loading segmentation (75, 6048, 6048)\n",
      "[INFO][2023/06/21 04:42:28 PM] Closing HDF file: /mnt/DATA/macrohet/labels/macrohet_seg_model/(4, 5).h5\n"
     ]
    },
    {
     "name": "stdout",
     "output_type": "stream",
     "text": [
      "dMtb/dMtb_glimpses/glimpse_698.4.5_t-1.png: Upload Successful\n"
     ]
    },
    {
     "name": "stderr",
     "output_type": "stream",
     "text": [
      "[INFO][2023/06/21 04:42:44 PM] Opening HDF file: /mnt/DATA/macrohet/labels/macrohet_seg_model/(4, 5).h5...\n",
      "[INFO][2023/06/21 04:42:53 PM] Loading segmentation (75, 6048, 6048)\n",
      "[INFO][2023/06/21 04:42:53 PM] Closing HDF file: /mnt/DATA/macrohet/labels/macrohet_seg_model/(4, 5).h5\n"
     ]
    },
    {
     "name": "stdout",
     "output_type": "stream",
     "text": [
      "dMtb/dMtb_glimpses/glimpse_835.4.5_t2.png: Upload Successful\n"
     ]
    },
    {
     "name": "stderr",
     "output_type": "stream",
     "text": [
      "[INFO][2023/06/21 04:43:09 PM] Opening HDF file: /mnt/DATA/macrohet/labels/macrohet_seg_model/(4, 5).h5...\n",
      "[INFO][2023/06/21 04:43:17 PM] Loading segmentation (75, 6048, 6048)\n",
      "[INFO][2023/06/21 04:43:17 PM] Closing HDF file: /mnt/DATA/macrohet/labels/macrohet_seg_model/(4, 5).h5\n"
     ]
    },
    {
     "name": "stdout",
     "output_type": "stream",
     "text": [
      "dMtb/dMtb_glimpses/glimpse_835.4.5_t-1.png: Upload Successful\n"
     ]
    },
    {
     "name": "stderr",
     "output_type": "stream",
     "text": [
      "[INFO][2023/06/21 04:43:33 PM] Opening HDF file: /mnt/DATA/macrohet/labels/macrohet_seg_model/(4, 5).h5...\n",
      "[INFO][2023/06/21 04:43:42 PM] Loading segmentation (75, 6048, 6048)\n",
      "[INFO][2023/06/21 04:43:42 PM] Closing HDF file: /mnt/DATA/macrohet/labels/macrohet_seg_model/(4, 5).h5\n"
     ]
    },
    {
     "name": "stdout",
     "output_type": "stream",
     "text": [
      "dMtb/dMtb_glimpses/glimpse_840.4.5_t2.png: Upload Successful\n"
     ]
    },
    {
     "name": "stderr",
     "output_type": "stream",
     "text": [
      "[INFO][2023/06/21 04:43:57 PM] Opening HDF file: /mnt/DATA/macrohet/labels/macrohet_seg_model/(4, 5).h5...\n",
      "[INFO][2023/06/21 04:44:07 PM] Loading segmentation (75, 6048, 6048)\n",
      "[INFO][2023/06/21 04:44:07 PM] Closing HDF file: /mnt/DATA/macrohet/labels/macrohet_seg_model/(4, 5).h5\n"
     ]
    },
    {
     "name": "stdout",
     "output_type": "stream",
     "text": [
      "dMtb/dMtb_glimpses/glimpse_840.4.5_t-1.png: Upload Successful\n"
     ]
    },
    {
     "name": "stderr",
     "output_type": "stream",
     "text": [
      "[INFO][2023/06/21 04:44:26 PM] Opening HDF file: /mnt/DATA/macrohet/labels/macrohet_seg_model/(4, 5).h5...\n",
      "[INFO][2023/06/21 04:44:34 PM] Loading segmentation (75, 6048, 6048)\n",
      "[INFO][2023/06/21 04:44:34 PM] Closing HDF file: /mnt/DATA/macrohet/labels/macrohet_seg_model/(4, 5).h5\n"
     ]
    },
    {
     "name": "stdout",
     "output_type": "stream",
     "text": [
      "dMtb/dMtb_glimpses/glimpse_873.4.5_t2.png: Upload Successful\n"
     ]
    },
    {
     "name": "stderr",
     "output_type": "stream",
     "text": [
      "[INFO][2023/06/21 04:44:53 PM] Opening HDF file: /mnt/DATA/macrohet/labels/macrohet_seg_model/(4, 5).h5...\n",
      "[INFO][2023/06/21 04:45:02 PM] Loading segmentation (75, 6048, 6048)\n",
      "[INFO][2023/06/21 04:45:02 PM] Closing HDF file: /mnt/DATA/macrohet/labels/macrohet_seg_model/(4, 5).h5\n"
     ]
    },
    {
     "name": "stdout",
     "output_type": "stream",
     "text": [
      "dMtb/dMtb_glimpses/glimpse_873.4.5_t-1.png: Upload Successful\n"
     ]
    },
    {
     "name": "stderr",
     "output_type": "stream",
     "text": [
      "[INFO][2023/06/21 04:45:27 PM] Opening HDF file: /mnt/DATA/macrohet/labels/macrohet_seg_model/(4, 5).h5...\n",
      "[INFO][2023/06/21 04:45:36 PM] Loading segmentation (75, 6048, 6048)\n",
      "[INFO][2023/06/21 04:45:36 PM] Closing HDF file: /mnt/DATA/macrohet/labels/macrohet_seg_model/(4, 5).h5\n"
     ]
    },
    {
     "name": "stdout",
     "output_type": "stream",
     "text": [
      "dMtb/dMtb_glimpses/glimpse_761.4.5_t2.png: Upload Successful\n"
     ]
    },
    {
     "name": "stderr",
     "output_type": "stream",
     "text": [
      "[INFO][2023/06/21 04:45:55 PM] Opening HDF file: /mnt/DATA/macrohet/labels/macrohet_seg_model/(4, 5).h5...\n",
      "[INFO][2023/06/21 04:46:04 PM] Loading segmentation (75, 6048, 6048)\n",
      "[INFO][2023/06/21 04:46:04 PM] Closing HDF file: /mnt/DATA/macrohet/labels/macrohet_seg_model/(4, 5).h5\n"
     ]
    },
    {
     "name": "stdout",
     "output_type": "stream",
     "text": [
      "dMtb/dMtb_glimpses/glimpse_761.4.5_t-1.png: Upload Successful\n"
     ]
    },
    {
     "name": "stderr",
     "output_type": "stream",
     "text": [
      "[INFO][2023/06/21 04:46:23 PM] Opening HDF file: /mnt/DATA/macrohet/labels/macrohet_seg_model/(4, 5).h5...\n",
      "[INFO][2023/06/21 04:46:32 PM] Loading segmentation (75, 6048, 6048)\n",
      "[INFO][2023/06/21 04:46:32 PM] Closing HDF file: /mnt/DATA/macrohet/labels/macrohet_seg_model/(4, 5).h5\n"
     ]
    },
    {
     "name": "stdout",
     "output_type": "stream",
     "text": [
      "dMtb/dMtb_glimpses/glimpse_904.4.5_t3.png: Upload Successful\n"
     ]
    },
    {
     "name": "stderr",
     "output_type": "stream",
     "text": [
      "[INFO][2023/06/21 04:46:48 PM] Opening HDF file: /mnt/DATA/macrohet/labels/macrohet_seg_model/(4, 5).h5...\n",
      "[INFO][2023/06/21 04:46:56 PM] Loading segmentation (75, 6048, 6048)\n",
      "[INFO][2023/06/21 04:46:56 PM] Closing HDF file: /mnt/DATA/macrohet/labels/macrohet_seg_model/(4, 5).h5\n"
     ]
    },
    {
     "name": "stdout",
     "output_type": "stream",
     "text": [
      "dMtb/dMtb_glimpses/glimpse_904.4.5_t-1.png: Upload Successful\n"
     ]
    },
    {
     "name": "stderr",
     "output_type": "stream",
     "text": [
      "[INFO][2023/06/21 04:47:12 PM] Opening HDF file: /mnt/DATA/macrohet/labels/macrohet_seg_model/(4, 5).h5...\n",
      "[INFO][2023/06/21 04:47:21 PM] Loading segmentation (75, 6048, 6048)\n",
      "[INFO][2023/06/21 04:47:21 PM] Closing HDF file: /mnt/DATA/macrohet/labels/macrohet_seg_model/(4, 5).h5\n"
     ]
    },
    {
     "name": "stdout",
     "output_type": "stream",
     "text": [
      "dMtb/dMtb_glimpses/glimpse_1254.4.5_t7.png: Upload Successful\n"
     ]
    },
    {
     "name": "stderr",
     "output_type": "stream",
     "text": [
      "[INFO][2023/06/21 04:47:40 PM] Opening HDF file: /mnt/DATA/macrohet/labels/macrohet_seg_model/(4, 5).h5...\n",
      "[INFO][2023/06/21 04:47:51 PM] Loading segmentation (75, 6048, 6048)\n",
      "[INFO][2023/06/21 04:47:51 PM] Closing HDF file: /mnt/DATA/macrohet/labels/macrohet_seg_model/(4, 5).h5\n"
     ]
    },
    {
     "name": "stdout",
     "output_type": "stream",
     "text": [
      "dMtb/dMtb_glimpses/glimpse_1254.4.5_t-1.png: Upload Successful\n"
     ]
    },
    {
     "name": "stderr",
     "output_type": "stream",
     "text": [
      "[INFO][2023/06/21 04:48:11 PM] Opening HDF file: /mnt/DATA/macrohet/labels/macrohet_seg_model/(4, 5).h5...\n",
      "[INFO][2023/06/21 04:48:19 PM] Loading segmentation (75, 6048, 6048)\n",
      "[INFO][2023/06/21 04:48:19 PM] Closing HDF file: /mnt/DATA/macrohet/labels/macrohet_seg_model/(4, 5).h5\n"
     ]
    },
    {
     "name": "stdout",
     "output_type": "stream",
     "text": [
      "dMtb/dMtb_glimpses/glimpse_1705.4.5_t16.png: Upload Successful\n"
     ]
    },
    {
     "name": "stderr",
     "output_type": "stream",
     "text": [
      "[INFO][2023/06/21 04:48:35 PM] Opening HDF file: /mnt/DATA/macrohet/labels/macrohet_seg_model/(4, 5).h5...\n",
      "[INFO][2023/06/21 04:48:43 PM] Loading segmentation (75, 6048, 6048)\n",
      "[INFO][2023/06/21 04:48:43 PM] Closing HDF file: /mnt/DATA/macrohet/labels/macrohet_seg_model/(4, 5).h5\n"
     ]
    },
    {
     "name": "stdout",
     "output_type": "stream",
     "text": [
      "dMtb/dMtb_glimpses/glimpse_1705.4.5_t-1.png: Upload Successful\n"
     ]
    },
    {
     "name": "stderr",
     "output_type": "stream",
     "text": [
      "[INFO][2023/06/21 04:48:59 PM] Opening HDF file: /mnt/DATA/macrohet/labels/macrohet_seg_model/(5, 5).h5...\n",
      "[INFO][2023/06/21 04:49:08 PM] Loading segmentation (75, 6048, 6048)\n",
      "[INFO][2023/06/21 04:49:08 PM] Closing HDF file: /mnt/DATA/macrohet/labels/macrohet_seg_model/(5, 5).h5\n"
     ]
    },
    {
     "name": "stdout",
     "output_type": "stream",
     "text": [
      "dMtb/dMtb_glimpses/glimpse_474.5.5_t0.png: Upload Successful\n"
     ]
    },
    {
     "name": "stderr",
     "output_type": "stream",
     "text": [
      "[INFO][2023/06/21 04:49:28 PM] Opening HDF file: /mnt/DATA/macrohet/labels/macrohet_seg_model/(5, 5).h5...\n",
      "[INFO][2023/06/21 04:49:37 PM] Loading segmentation (75, 6048, 6048)\n",
      "[INFO][2023/06/21 04:49:37 PM] Closing HDF file: /mnt/DATA/macrohet/labels/macrohet_seg_model/(5, 5).h5\n"
     ]
    },
    {
     "name": "stdout",
     "output_type": "stream",
     "text": [
      "dMtb/dMtb_glimpses/glimpse_474.5.5_t-1.png: Upload Successful\n"
     ]
    },
    {
     "name": "stderr",
     "output_type": "stream",
     "text": [
      "[INFO][2023/06/21 04:49:56 PM] Opening HDF file: /mnt/DATA/macrohet/labels/macrohet_seg_model/(5, 5).h5...\n",
      "[INFO][2023/06/21 04:50:05 PM] Loading segmentation (75, 6048, 6048)\n",
      "[INFO][2023/06/21 04:50:05 PM] Closing HDF file: /mnt/DATA/macrohet/labels/macrohet_seg_model/(5, 5).h5\n"
     ]
    },
    {
     "name": "stdout",
     "output_type": "stream",
     "text": [
      "dMtb/dMtb_glimpses/glimpse_467.5.5_t0.png: Upload Successful\n"
     ]
    },
    {
     "name": "stderr",
     "output_type": "stream",
     "text": [
      "[INFO][2023/06/21 04:50:25 PM] Opening HDF file: /mnt/DATA/macrohet/labels/macrohet_seg_model/(5, 5).h5...\n",
      "[INFO][2023/06/21 04:50:34 PM] Loading segmentation (75, 6048, 6048)\n",
      "[INFO][2023/06/21 04:50:34 PM] Closing HDF file: /mnt/DATA/macrohet/labels/macrohet_seg_model/(5, 5).h5\n"
     ]
    },
    {
     "name": "stdout",
     "output_type": "stream",
     "text": [
      "dMtb/dMtb_glimpses/glimpse_467.5.5_t-1.png: Upload Successful\n"
     ]
    },
    {
     "name": "stderr",
     "output_type": "stream",
     "text": [
      "[INFO][2023/06/21 04:50:54 PM] Opening HDF file: /mnt/DATA/macrohet/labels/macrohet_seg_model/(5, 5).h5...\n",
      "[INFO][2023/06/21 04:51:03 PM] Loading segmentation (75, 6048, 6048)\n",
      "[INFO][2023/06/21 04:51:03 PM] Closing HDF file: /mnt/DATA/macrohet/labels/macrohet_seg_model/(5, 5).h5\n"
     ]
    },
    {
     "name": "stdout",
     "output_type": "stream",
     "text": [
      "dMtb/dMtb_glimpses/glimpse_201.5.5_t0.png: Upload Successful\n"
     ]
    },
    {
     "name": "stderr",
     "output_type": "stream",
     "text": [
      "[INFO][2023/06/21 04:51:23 PM] Opening HDF file: /mnt/DATA/macrohet/labels/macrohet_seg_model/(5, 5).h5...\n",
      "[INFO][2023/06/21 04:51:32 PM] Loading segmentation (75, 6048, 6048)\n",
      "[INFO][2023/06/21 04:51:32 PM] Closing HDF file: /mnt/DATA/macrohet/labels/macrohet_seg_model/(5, 5).h5\n"
     ]
    },
    {
     "name": "stdout",
     "output_type": "stream",
     "text": [
      "dMtb/dMtb_glimpses/glimpse_201.5.5_t-1.png: Upload Successful\n"
     ]
    },
    {
     "name": "stderr",
     "output_type": "stream",
     "text": [
      "[INFO][2023/06/21 04:51:51 PM] Opening HDF file: /mnt/DATA/macrohet/labels/macrohet_seg_model/(6, 5).h5...\n",
      "[INFO][2023/06/21 04:52:01 PM] Loading segmentation (75, 6048, 6048)\n",
      "[INFO][2023/06/21 04:52:01 PM] Closing HDF file: /mnt/DATA/macrohet/labels/macrohet_seg_model/(6, 5).h5\n"
     ]
    },
    {
     "name": "stdout",
     "output_type": "stream",
     "text": [
      "dMtb/dMtb_glimpses/glimpse_454.6.5_t0.png: Upload Successful\n"
     ]
    },
    {
     "name": "stderr",
     "output_type": "stream",
     "text": [
      "[INFO][2023/06/21 04:52:17 PM] Opening HDF file: /mnt/DATA/macrohet/labels/macrohet_seg_model/(6, 5).h5...\n",
      "[INFO][2023/06/21 04:52:26 PM] Loading segmentation (75, 6048, 6048)\n",
      "[INFO][2023/06/21 04:52:26 PM] Closing HDF file: /mnt/DATA/macrohet/labels/macrohet_seg_model/(6, 5).h5\n"
     ]
    },
    {
     "name": "stdout",
     "output_type": "stream",
     "text": [
      "dMtb/dMtb_glimpses/glimpse_454.6.5_t-1.png: Upload Successful\n"
     ]
    },
    {
     "name": "stderr",
     "output_type": "stream",
     "text": [
      "[INFO][2023/06/21 04:52:42 PM] Opening HDF file: /mnt/DATA/macrohet/labels/macrohet_seg_model/(6, 5).h5...\n",
      "[INFO][2023/06/21 04:52:51 PM] Loading segmentation (75, 6048, 6048)\n",
      "[INFO][2023/06/21 04:52:51 PM] Closing HDF file: /mnt/DATA/macrohet/labels/macrohet_seg_model/(6, 5).h5\n"
     ]
    },
    {
     "name": "stdout",
     "output_type": "stream",
     "text": [
      "dMtb/dMtb_glimpses/glimpse_656.6.5_t0.png: Upload Successful\n"
     ]
    },
    {
     "name": "stderr",
     "output_type": "stream",
     "text": [
      "[INFO][2023/06/21 04:53:06 PM] Opening HDF file: /mnt/DATA/macrohet/labels/macrohet_seg_model/(6, 5).h5...\n",
      "[INFO][2023/06/21 04:53:15 PM] Loading segmentation (75, 6048, 6048)\n",
      "[INFO][2023/06/21 04:53:15 PM] Closing HDF file: /mnt/DATA/macrohet/labels/macrohet_seg_model/(6, 5).h5\n"
     ]
    },
    {
     "name": "stdout",
     "output_type": "stream",
     "text": [
      "dMtb/dMtb_glimpses/glimpse_656.6.5_t-1.png: Upload Successful\n"
     ]
    },
    {
     "name": "stderr",
     "output_type": "stream",
     "text": [
      "[INFO][2023/06/21 04:53:35 PM] Opening HDF file: /mnt/DATA/macrohet/labels/macrohet_seg_model/(6, 5).h5...\n",
      "[INFO][2023/06/21 04:53:44 PM] Loading segmentation (75, 6048, 6048)\n",
      "[INFO][2023/06/21 04:53:44 PM] Closing HDF file: /mnt/DATA/macrohet/labels/macrohet_seg_model/(6, 5).h5\n"
     ]
    },
    {
     "name": "stdout",
     "output_type": "stream",
     "text": [
      "dMtb/dMtb_glimpses/glimpse_693.6.5_t0.png: Upload Successful\n"
     ]
    },
    {
     "name": "stderr",
     "output_type": "stream",
     "text": [
      "[INFO][2023/06/21 04:54:04 PM] Opening HDF file: /mnt/DATA/macrohet/labels/macrohet_seg_model/(6, 5).h5...\n",
      "[INFO][2023/06/21 04:54:13 PM] Loading segmentation (75, 6048, 6048)\n",
      "[INFO][2023/06/21 04:54:13 PM] Closing HDF file: /mnt/DATA/macrohet/labels/macrohet_seg_model/(6, 5).h5\n"
     ]
    },
    {
     "name": "stdout",
     "output_type": "stream",
     "text": [
      "dMtb/dMtb_glimpses/glimpse_693.6.5_t-1.png: Upload Successful\n"
     ]
    },
    {
     "name": "stderr",
     "output_type": "stream",
     "text": [
      "[INFO][2023/06/21 04:54:36 PM] Opening HDF file: /mnt/DATA/macrohet/labels/macrohet_seg_model/(6, 5).h5...\n",
      "[INFO][2023/06/21 04:54:45 PM] Loading segmentation (75, 6048, 6048)\n",
      "[INFO][2023/06/21 04:54:45 PM] Closing HDF file: /mnt/DATA/macrohet/labels/macrohet_seg_model/(6, 5).h5\n"
     ]
    },
    {
     "name": "stdout",
     "output_type": "stream",
     "text": [
      "dMtb/dMtb_glimpses/glimpse_701.6.5_t0.png: Upload Successful\n"
     ]
    },
    {
     "name": "stderr",
     "output_type": "stream",
     "text": [
      "[INFO][2023/06/21 04:55:11 PM] Opening HDF file: /mnt/DATA/macrohet/labels/macrohet_seg_model/(6, 5).h5...\n",
      "[INFO][2023/06/21 04:55:19 PM] Loading segmentation (75, 6048, 6048)\n",
      "[INFO][2023/06/21 04:55:19 PM] Closing HDF file: /mnt/DATA/macrohet/labels/macrohet_seg_model/(6, 5).h5\n"
     ]
    },
    {
     "name": "stdout",
     "output_type": "stream",
     "text": [
      "dMtb/dMtb_glimpses/glimpse_701.6.5_t-1.png: Upload Successful\n"
     ]
    },
    {
     "name": "stderr",
     "output_type": "stream",
     "text": [
      "[INFO][2023/06/21 04:55:45 PM] Opening HDF file: /mnt/DATA/macrohet/labels/macrohet_seg_model/(6, 5).h5...\n",
      "[INFO][2023/06/21 04:55:55 PM] Loading segmentation (75, 6048, 6048)\n",
      "[INFO][2023/06/21 04:55:55 PM] Closing HDF file: /mnt/DATA/macrohet/labels/macrohet_seg_model/(6, 5).h5\n"
     ]
    },
    {
     "name": "stdout",
     "output_type": "stream",
     "text": [
      "dMtb/dMtb_glimpses/glimpse_586.6.5_t0.png: Upload Successful\n"
     ]
    },
    {
     "name": "stderr",
     "output_type": "stream",
     "text": [
      "[INFO][2023/06/21 04:56:15 PM] Opening HDF file: /mnt/DATA/macrohet/labels/macrohet_seg_model/(6, 5).h5...\n",
      "[INFO][2023/06/21 04:56:24 PM] Loading segmentation (75, 6048, 6048)\n",
      "[INFO][2023/06/21 04:56:24 PM] Closing HDF file: /mnt/DATA/macrohet/labels/macrohet_seg_model/(6, 5).h5\n"
     ]
    },
    {
     "name": "stdout",
     "output_type": "stream",
     "text": [
      "dMtb/dMtb_glimpses/glimpse_586.6.5_t-1.png: Upload Successful\n"
     ]
    },
    {
     "name": "stderr",
     "output_type": "stream",
     "text": [
      "[INFO][2023/06/21 04:56:43 PM] Opening HDF file: /mnt/DATA/macrohet/labels/macrohet_seg_model/(6, 5).h5...\n",
      "[INFO][2023/06/21 04:56:58 PM] Loading segmentation (75, 6048, 6048)\n",
      "[INFO][2023/06/21 04:56:58 PM] Closing HDF file: /mnt/DATA/macrohet/labels/macrohet_seg_model/(6, 5).h5\n"
     ]
    },
    {
     "name": "stdout",
     "output_type": "stream",
     "text": [
      "dMtb/dMtb_glimpses/glimpse_145.6.5_t0.png: Upload Successful\n"
     ]
    },
    {
     "name": "stderr",
     "output_type": "stream",
     "text": [
      "[INFO][2023/06/21 04:57:18 PM] Opening HDF file: /mnt/DATA/macrohet/labels/macrohet_seg_model/(6, 5).h5...\n",
      "[INFO][2023/06/21 04:57:27 PM] Loading segmentation (75, 6048, 6048)\n",
      "[INFO][2023/06/21 04:57:27 PM] Closing HDF file: /mnt/DATA/macrohet/labels/macrohet_seg_model/(6, 5).h5\n"
     ]
    },
    {
     "name": "stdout",
     "output_type": "stream",
     "text": [
      "dMtb/dMtb_glimpses/glimpse_145.6.5_t-1.png: Upload Successful\n"
     ]
    },
    {
     "name": "stderr",
     "output_type": "stream",
     "text": [
      "[INFO][2023/06/21 04:57:53 PM] Opening HDF file: /mnt/DATA/macrohet/labels/macrohet_seg_model/(6, 5).h5...\n",
      "[INFO][2023/06/21 04:58:02 PM] Loading segmentation (75, 6048, 6048)\n",
      "[INFO][2023/06/21 04:58:02 PM] Closing HDF file: /mnt/DATA/macrohet/labels/macrohet_seg_model/(6, 5).h5\n"
     ]
    },
    {
     "name": "stdout",
     "output_type": "stream",
     "text": [
      "dMtb/dMtb_glimpses/glimpse_34.6.5_t0.png: Upload Successful\n"
     ]
    },
    {
     "name": "stderr",
     "output_type": "stream",
     "text": [
      "[INFO][2023/06/21 04:58:28 PM] Opening HDF file: /mnt/DATA/macrohet/labels/macrohet_seg_model/(6, 5).h5...\n",
      "[INFO][2023/06/21 04:58:37 PM] Loading segmentation (75, 6048, 6048)\n",
      "[INFO][2023/06/21 04:58:37 PM] Closing HDF file: /mnt/DATA/macrohet/labels/macrohet_seg_model/(6, 5).h5\n"
     ]
    },
    {
     "name": "stdout",
     "output_type": "stream",
     "text": [
      "dMtb/dMtb_glimpses/glimpse_34.6.5_t-1.png: Upload Successful\n"
     ]
    },
    {
     "name": "stderr",
     "output_type": "stream",
     "text": [
      "[INFO][2023/06/21 04:59:03 PM] Opening HDF file: /mnt/DATA/macrohet/labels/macrohet_seg_model/(6, 5).h5...\n",
      "[INFO][2023/06/21 04:59:12 PM] Loading segmentation (75, 6048, 6048)\n",
      "[INFO][2023/06/21 04:59:12 PM] Closing HDF file: /mnt/DATA/macrohet/labels/macrohet_seg_model/(6, 5).h5\n"
     ]
    },
    {
     "name": "stdout",
     "output_type": "stream",
     "text": [
      "dMtb/dMtb_glimpses/glimpse_353.6.5_t0.png: Upload Successful\n"
     ]
    },
    {
     "name": "stderr",
     "output_type": "stream",
     "text": [
      "[INFO][2023/06/21 04:59:27 PM] Opening HDF file: /mnt/DATA/macrohet/labels/macrohet_seg_model/(6, 5).h5...\n",
      "[INFO][2023/06/21 04:59:36 PM] Loading segmentation (75, 6048, 6048)\n",
      "[INFO][2023/06/21 04:59:36 PM] Closing HDF file: /mnt/DATA/macrohet/labels/macrohet_seg_model/(6, 5).h5\n"
     ]
    },
    {
     "name": "stdout",
     "output_type": "stream",
     "text": [
      "dMtb/dMtb_glimpses/glimpse_353.6.5_t-1.png: Upload Successful\n"
     ]
    },
    {
     "name": "stderr",
     "output_type": "stream",
     "text": [
      "[INFO][2023/06/21 04:59:52 PM] Opening HDF file: /mnt/DATA/macrohet/labels/macrohet_seg_model/(6, 5).h5...\n",
      "[INFO][2023/06/21 05:00:01 PM] Loading segmentation (75, 6048, 6048)\n",
      "[INFO][2023/06/21 05:00:01 PM] Closing HDF file: /mnt/DATA/macrohet/labels/macrohet_seg_model/(6, 5).h5\n"
     ]
    },
    {
     "name": "stdout",
     "output_type": "stream",
     "text": [
      "dMtb/dMtb_glimpses/glimpse_65.6.5_t0.png: Upload Successful\n"
     ]
    },
    {
     "name": "stderr",
     "output_type": "stream",
     "text": [
      "[INFO][2023/06/21 05:00:17 PM] Opening HDF file: /mnt/DATA/macrohet/labels/macrohet_seg_model/(6, 5).h5...\n",
      "[INFO][2023/06/21 05:00:26 PM] Loading segmentation (75, 6048, 6048)\n",
      "[INFO][2023/06/21 05:00:26 PM] Closing HDF file: /mnt/DATA/macrohet/labels/macrohet_seg_model/(6, 5).h5\n"
     ]
    },
    {
     "name": "stdout",
     "output_type": "stream",
     "text": [
      "dMtb/dMtb_glimpses/glimpse_65.6.5_t-1.png: Upload Successful\n"
     ]
    },
    {
     "name": "stderr",
     "output_type": "stream",
     "text": [
      "[INFO][2023/06/21 05:00:42 PM] Opening HDF file: /mnt/DATA/macrohet/labels/macrohet_seg_model/(6, 5).h5...\n",
      "[INFO][2023/06/21 05:00:51 PM] Loading segmentation (75, 6048, 6048)\n",
      "[INFO][2023/06/21 05:00:51 PM] Closing HDF file: /mnt/DATA/macrohet/labels/macrohet_seg_model/(6, 5).h5\n"
     ]
    },
    {
     "name": "stdout",
     "output_type": "stream",
     "text": [
      "dMtb/dMtb_glimpses/glimpse_292.6.5_t0.png: Upload Successful\n"
     ]
    },
    {
     "name": "stderr",
     "output_type": "stream",
     "text": [
      "[INFO][2023/06/21 05:01:11 PM] Opening HDF file: /mnt/DATA/macrohet/labels/macrohet_seg_model/(6, 5).h5...\n",
      "[INFO][2023/06/21 05:01:20 PM] Loading segmentation (75, 6048, 6048)\n",
      "[INFO][2023/06/21 05:01:20 PM] Closing HDF file: /mnt/DATA/macrohet/labels/macrohet_seg_model/(6, 5).h5\n"
     ]
    },
    {
     "name": "stdout",
     "output_type": "stream",
     "text": [
      "dMtb/dMtb_glimpses/glimpse_292.6.5_t-1.png: Upload Successful\n"
     ]
    },
    {
     "name": "stderr",
     "output_type": "stream",
     "text": [
      "[INFO][2023/06/21 05:01:39 PM] Opening HDF file: /mnt/DATA/macrohet/labels/macrohet_seg_model/(6, 5).h5...\n",
      "[INFO][2023/06/21 05:01:48 PM] Loading segmentation (75, 6048, 6048)\n",
      "[INFO][2023/06/21 05:01:48 PM] Closing HDF file: /mnt/DATA/macrohet/labels/macrohet_seg_model/(6, 5).h5\n"
     ]
    },
    {
     "name": "stdout",
     "output_type": "stream",
     "text": [
      "dMtb/dMtb_glimpses/glimpse_185.6.5_t0.png: Upload Successful\n"
     ]
    },
    {
     "name": "stderr",
     "output_type": "stream",
     "text": [
      "[INFO][2023/06/21 05:02:03 PM] Opening HDF file: /mnt/DATA/macrohet/labels/macrohet_seg_model/(6, 5).h5...\n",
      "[INFO][2023/06/21 05:02:12 PM] Loading segmentation (75, 6048, 6048)\n",
      "[INFO][2023/06/21 05:02:12 PM] Closing HDF file: /mnt/DATA/macrohet/labels/macrohet_seg_model/(6, 5).h5\n"
     ]
    },
    {
     "name": "stdout",
     "output_type": "stream",
     "text": [
      "dMtb/dMtb_glimpses/glimpse_185.6.5_t-1.png: Upload Successful\n"
     ]
    },
    {
     "name": "stderr",
     "output_type": "stream",
     "text": [
      "[INFO][2023/06/21 05:02:28 PM] Opening HDF file: /mnt/DATA/macrohet/labels/macrohet_seg_model/(6, 5).h5...\n",
      "[INFO][2023/06/21 05:02:37 PM] Loading segmentation (75, 6048, 6048)\n",
      "[INFO][2023/06/21 05:02:37 PM] Closing HDF file: /mnt/DATA/macrohet/labels/macrohet_seg_model/(6, 5).h5\n"
     ]
    },
    {
     "name": "stdout",
     "output_type": "stream",
     "text": [
      "dMtb/dMtb_glimpses/glimpse_236.6.5_t0.png: Upload Successful\n"
     ]
    },
    {
     "name": "stderr",
     "output_type": "stream",
     "text": [
      "[INFO][2023/06/21 05:02:52 PM] Opening HDF file: /mnt/DATA/macrohet/labels/macrohet_seg_model/(6, 5).h5...\n",
      "[INFO][2023/06/21 05:03:01 PM] Loading segmentation (75, 6048, 6048)\n",
      "[INFO][2023/06/21 05:03:01 PM] Closing HDF file: /mnt/DATA/macrohet/labels/macrohet_seg_model/(6, 5).h5\n"
     ]
    },
    {
     "name": "stdout",
     "output_type": "stream",
     "text": [
      "dMtb/dMtb_glimpses/glimpse_236.6.5_t-1.png: Upload Successful\n"
     ]
    },
    {
     "name": "stderr",
     "output_type": "stream",
     "text": [
      "[INFO][2023/06/21 05:03:17 PM] Opening HDF file: /mnt/DATA/macrohet/labels/macrohet_seg_model/(6, 5).h5...\n",
      "[INFO][2023/06/21 05:03:25 PM] Loading segmentation (75, 6048, 6048)\n",
      "[INFO][2023/06/21 05:03:25 PM] Closing HDF file: /mnt/DATA/macrohet/labels/macrohet_seg_model/(6, 5).h5\n"
     ]
    },
    {
     "name": "stdout",
     "output_type": "stream",
     "text": [
      "dMtb/dMtb_glimpses/glimpse_240.6.5_t0.png: Upload Successful\n"
     ]
    },
    {
     "name": "stderr",
     "output_type": "stream",
     "text": [
      "[INFO][2023/06/21 05:03:41 PM] Opening HDF file: /mnt/DATA/macrohet/labels/macrohet_seg_model/(6, 5).h5...\n",
      "[INFO][2023/06/21 05:03:49 PM] Loading segmentation (75, 6048, 6048)\n",
      "[INFO][2023/06/21 05:03:49 PM] Closing HDF file: /mnt/DATA/macrohet/labels/macrohet_seg_model/(6, 5).h5\n"
     ]
    },
    {
     "name": "stdout",
     "output_type": "stream",
     "text": [
      "dMtb/dMtb_glimpses/glimpse_240.6.5_t-1.png: Upload Successful\n"
     ]
    },
    {
     "name": "stderr",
     "output_type": "stream",
     "text": [
      "[INFO][2023/06/21 05:04:05 PM] Opening HDF file: /mnt/DATA/macrohet/labels/macrohet_seg_model/(6, 5).h5...\n",
      "[INFO][2023/06/21 05:04:13 PM] Loading segmentation (75, 6048, 6048)\n",
      "[INFO][2023/06/21 05:04:13 PM] Closing HDF file: /mnt/DATA/macrohet/labels/macrohet_seg_model/(6, 5).h5\n"
     ]
    },
    {
     "name": "stdout",
     "output_type": "stream",
     "text": [
      "dMtb/dMtb_glimpses/glimpse_823.6.5_t2.png: Upload Successful\n"
     ]
    },
    {
     "name": "stderr",
     "output_type": "stream",
     "text": [
      "[INFO][2023/06/21 05:04:36 PM] Opening HDF file: /mnt/DATA/macrohet/labels/macrohet_seg_model/(6, 5).h5...\n",
      "[INFO][2023/06/21 05:04:44 PM] Loading segmentation (75, 6048, 6048)\n",
      "[INFO][2023/06/21 05:04:44 PM] Closing HDF file: /mnt/DATA/macrohet/labels/macrohet_seg_model/(6, 5).h5\n"
     ]
    },
    {
     "name": "stdout",
     "output_type": "stream",
     "text": [
      "dMtb/dMtb_glimpses/glimpse_823.6.5_t-1.png: Upload Successful\n"
     ]
    },
    {
     "name": "stderr",
     "output_type": "stream",
     "text": [
      "[INFO][2023/06/21 05:05:04 PM] Opening HDF file: /mnt/DATA/macrohet/labels/macrohet_seg_model/(6, 5).h5...\n",
      "[INFO][2023/06/21 05:05:13 PM] Loading segmentation (75, 6048, 6048)\n",
      "[INFO][2023/06/21 05:05:13 PM] Closing HDF file: /mnt/DATA/macrohet/labels/macrohet_seg_model/(6, 5).h5\n"
     ]
    },
    {
     "name": "stdout",
     "output_type": "stream",
     "text": [
      "dMtb/dMtb_glimpses/glimpse_864.6.5_t2.png: Upload Successful\n"
     ]
    },
    {
     "name": "stderr",
     "output_type": "stream",
     "text": [
      "[INFO][2023/06/21 05:05:32 PM] Opening HDF file: /mnt/DATA/macrohet/labels/macrohet_seg_model/(6, 5).h5...\n",
      "[INFO][2023/06/21 05:05:41 PM] Loading segmentation (75, 6048, 6048)\n",
      "[INFO][2023/06/21 05:05:41 PM] Closing HDF file: /mnt/DATA/macrohet/labels/macrohet_seg_model/(6, 5).h5\n"
     ]
    },
    {
     "name": "stdout",
     "output_type": "stream",
     "text": [
      "dMtb/dMtb_glimpses/glimpse_864.6.5_t-1.png: Upload Successful\n"
     ]
    },
    {
     "name": "stderr",
     "output_type": "stream",
     "text": [
      "[INFO][2023/06/21 05:06:00 PM] Opening HDF file: /mnt/DATA/macrohet/labels/macrohet_seg_model/(6, 5).h5...\n",
      "[INFO][2023/06/21 05:06:08 PM] Loading segmentation (75, 6048, 6048)\n",
      "[INFO][2023/06/21 05:06:08 PM] Closing HDF file: /mnt/DATA/macrohet/labels/macrohet_seg_model/(6, 5).h5\n"
     ]
    },
    {
     "name": "stdout",
     "output_type": "stream",
     "text": [
      "dMtb/dMtb_glimpses/glimpse_1075.6.5_t4.png: Upload Successful\n"
     ]
    },
    {
     "name": "stderr",
     "output_type": "stream",
     "text": [
      "[INFO][2023/06/21 05:06:28 PM] Opening HDF file: /mnt/DATA/macrohet/labels/macrohet_seg_model/(6, 5).h5...\n",
      "[INFO][2023/06/21 05:06:37 PM] Loading segmentation (75, 6048, 6048)\n",
      "[INFO][2023/06/21 05:06:37 PM] Closing HDF file: /mnt/DATA/macrohet/labels/macrohet_seg_model/(6, 5).h5\n"
     ]
    },
    {
     "name": "stdout",
     "output_type": "stream",
     "text": [
      "dMtb/dMtb_glimpses/glimpse_1075.6.5_t-1.png: Upload Successful\n"
     ]
    },
    {
     "name": "stderr",
     "output_type": "stream",
     "text": [
      "[INFO][2023/06/21 05:06:56 PM] Opening HDF file: /mnt/DATA/macrohet/labels/macrohet_seg_model/(6, 5).h5...\n",
      "[INFO][2023/06/21 05:07:05 PM] Loading segmentation (75, 6048, 6048)\n",
      "[INFO][2023/06/21 05:07:05 PM] Closing HDF file: /mnt/DATA/macrohet/labels/macrohet_seg_model/(6, 5).h5\n"
     ]
    },
    {
     "name": "stdout",
     "output_type": "stream",
     "text": [
      "dMtb/dMtb_glimpses/glimpse_1216.6.5_t6.png: Upload Successful\n"
     ]
    },
    {
     "name": "stderr",
     "output_type": "stream",
     "text": [
      "[INFO][2023/06/21 05:07:21 PM] Opening HDF file: /mnt/DATA/macrohet/labels/macrohet_seg_model/(6, 5).h5...\n",
      "[INFO][2023/06/21 05:07:30 PM] Loading segmentation (75, 6048, 6048)\n",
      "[INFO][2023/06/21 05:07:30 PM] Closing HDF file: /mnt/DATA/macrohet/labels/macrohet_seg_model/(6, 5).h5\n"
     ]
    },
    {
     "name": "stdout",
     "output_type": "stream",
     "text": [
      "dMtb/dMtb_glimpses/glimpse_1216.6.5_t-1.png: Upload Successful\n"
     ]
    },
    {
     "name": "stderr",
     "output_type": "stream",
     "text": [
      "[INFO][2023/06/21 05:07:45 PM] Opening HDF file: /mnt/DATA/macrohet/labels/macrohet_seg_model/(6, 5).h5...\n",
      "[INFO][2023/06/21 05:07:55 PM] Loading segmentation (75, 6048, 6048)\n",
      "[INFO][2023/06/21 05:07:55 PM] Closing HDF file: /mnt/DATA/macrohet/labels/macrohet_seg_model/(6, 5).h5\n"
     ]
    },
    {
     "name": "stdout",
     "output_type": "stream",
     "text": [
      "dMtb/dMtb_glimpses/glimpse_1314.6.5_t7.png: Upload Successful\n"
     ]
    },
    {
     "name": "stderr",
     "output_type": "stream",
     "text": [
      "[INFO][2023/06/21 05:08:20 PM] Opening HDF file: /mnt/DATA/macrohet/labels/macrohet_seg_model/(6, 5).h5...\n",
      "[INFO][2023/06/21 05:08:30 PM] Loading segmentation (75, 6048, 6048)\n",
      "[INFO][2023/06/21 05:08:30 PM] Closing HDF file: /mnt/DATA/macrohet/labels/macrohet_seg_model/(6, 5).h5\n"
     ]
    },
    {
     "name": "stdout",
     "output_type": "stream",
     "text": [
      "dMtb/dMtb_glimpses/glimpse_1314.6.5_t-1.png: Upload Successful\n"
     ]
    },
    {
     "name": "stderr",
     "output_type": "stream",
     "text": [
      "[INFO][2023/06/21 05:08:49 PM] Opening HDF file: /mnt/DATA/macrohet/labels/macrohet_seg_model/(6, 5).h5...\n",
      "[INFO][2023/06/21 05:08:58 PM] Loading segmentation (75, 6048, 6048)\n",
      "[INFO][2023/06/21 05:08:58 PM] Closing HDF file: /mnt/DATA/macrohet/labels/macrohet_seg_model/(6, 5).h5\n"
     ]
    },
    {
     "name": "stdout",
     "output_type": "stream",
     "text": [
      "dMtb/dMtb_glimpses/glimpse_1894.6.5_t16.png: Upload Successful\n"
     ]
    },
    {
     "name": "stderr",
     "output_type": "stream",
     "text": [
      "[INFO][2023/06/21 05:09:14 PM] Opening HDF file: /mnt/DATA/macrohet/labels/macrohet_seg_model/(6, 5).h5...\n",
      "[INFO][2023/06/21 05:09:24 PM] Loading segmentation (75, 6048, 6048)\n",
      "[INFO][2023/06/21 05:09:24 PM] Closing HDF file: /mnt/DATA/macrohet/labels/macrohet_seg_model/(6, 5).h5\n"
     ]
    },
    {
     "name": "stdout",
     "output_type": "stream",
     "text": [
      "dMtb/dMtb_glimpses/glimpse_1894.6.5_t-1.png: Upload Successful\n"
     ]
    },
    {
     "name": "stderr",
     "output_type": "stream",
     "text": [
      "[INFO][2023/06/21 05:09:40 PM] Opening HDF file: /mnt/DATA/macrohet/labels/macrohet_seg_model/(6, 5).h5...\n",
      "[INFO][2023/06/21 05:09:50 PM] Loading segmentation (75, 6048, 6048)\n",
      "[INFO][2023/06/21 05:09:50 PM] Closing HDF file: /mnt/DATA/macrohet/labels/macrohet_seg_model/(6, 5).h5\n"
     ]
    },
    {
     "name": "stdout",
     "output_type": "stream",
     "text": [
      "dMtb/dMtb_glimpses/glimpse_2180.6.5_t21.png: Upload Successful\n"
     ]
    },
    {
     "name": "stderr",
     "output_type": "stream",
     "text": [
      "[INFO][2023/06/21 05:10:06 PM] Opening HDF file: /mnt/DATA/macrohet/labels/macrohet_seg_model/(6, 5).h5...\n",
      "[INFO][2023/06/21 05:10:14 PM] Loading segmentation (75, 6048, 6048)\n",
      "[INFO][2023/06/21 05:10:14 PM] Closing HDF file: /mnt/DATA/macrohet/labels/macrohet_seg_model/(6, 5).h5\n"
     ]
    },
    {
     "name": "stdout",
     "output_type": "stream",
     "text": [
      "dMtb/dMtb_glimpses/glimpse_2180.6.5_t-1.png: Upload Successful\n"
     ]
    }
   ],
   "source": [
    "for index, row_ in tqdm(outliers.iterrows(), total = len(outliers)):\n",
    "    unique_ID = row_['Unique ID']\n",
    "    cell_ID, row, column = unique_ID.split('.') \n",
    "    t0 = row_['Time (hours)']\n",
    "    time = [t0, -1]\n",
    "    for t in time:\n",
    "        output_fn = f'/mnt/DATA/macrohet/results/glimpses/interactive_plots/dMtb/glimpse_{cell_ID}.{row}.{column}_t{t}.png'\n",
    "        if os.path.exists(output_fn):\n",
    "            continue\n",
    "        glimpse = tn_glimpse_maker(unique_ID, df, time=t)\n",
    "        imsave(output_fn, glimpse)\n",
    "        basename = os.path.basename(output_fn)\n",
    "        aws_fn = f'dMtb/dMtb_glimpses/{basename}'\n",
    "        aws_tools.upload(output_fn, \n",
    "                         'macrohet', \n",
    "                            aws_fn,)"
   ]
  },
  {
   "cell_type": "code",
   "execution_count": 595,
   "id": "7f38cc2e",
   "metadata": {},
   "outputs": [],
   "source": [
    "import os\n",
    "import numpy as np\n",
    "import cv2\n",
    "import btrack\n",
    "from macrohet import tile, dataio\n",
    "from skimage.io import imsave\n",
    "\n",
    "def tn_glimpse_maker(unique_ID, df, time, crop_size=None, track_scale_factor=5.04, mask_outline = True):\n",
    "    # extract row and column from unique_ID\n",
    "    cell_ID, row, column = unique_ID.split('.') \n",
    "    # pre-load images\n",
    "    base_dir = '/mnt/DATA/macrohet/'\n",
    "    image_dir = os.path.join(base_dir, 'macrohet_images/Images')\n",
    "    images = tile.compile_mosaic(image_dir, \n",
    "                                 metadata, \n",
    "                                 row, column, \n",
    "                                 set_plane='sum_proj',\n",
    "                                 )\n",
    "    ### load tracks\n",
    "    with btrack.io.HDF5FileHandler(os.path.join(base_dir, \n",
    "                                                f'labels/macrohet_seg_model/{int(row),int(column)}.h5'), \n",
    "                                       'r', \n",
    "                                       obj_type='obj_type_1'\n",
    "                                       ) as reader:\n",
    "        segmentation = reader.segmentation\n",
    "\n",
    "    # extract single cell df\n",
    "    sc_df = df[df['Unique ID']==unique_ID]\n",
    "\n",
    "    if isinstance(time, int):\n",
    "        time_values = [time]\n",
    "    elif isinstance(time, (list, tuple)):\n",
    "        time_values = time\n",
    "    elif isinstance(time, range):\n",
    "        time_values = list(time)\n",
    "    else:\n",
    "        raise ValueError(\"Invalid input type for 'time'. Please provide an integer, a list of integers, or a range.\")\n",
    "\n",
    "    for t in time_values:\n",
    "        if t == -1:\n",
    "            t = sc_df['Time (hours)'].iloc[-1]\n",
    "        \n",
    "        sc_df_t = sc_df[sc_df['Time (hours)'] == t]\n",
    "\n",
    "        # Extract xy coordinates and transpose for python and area from the cell information\n",
    "        y_coord, x_coord, area, t = sc_df_t.loc[:,['x', 'y', 'Area', 'Time (hours)']].values[0]\n",
    "\n",
    "        # Scale according to tracking shrinkage\n",
    "        y_coord, x_coord = y_coord * track_scale_factor, x_coord * track_scale_factor\n",
    "\n",
    "        if not crop_size:\n",
    "            # Calculate the side length for cropping based on the square root of the area\n",
    "            side_length = int(np.sqrt(area)) * 2\n",
    "\n",
    "        # Calculate the cropping boundaries\n",
    "        x_start = int(x_coord - side_length/2)\n",
    "        x_end = int(x_coord + side_length/2)\n",
    "        y_start = int(y_coord - side_length/2)\n",
    "        y_end = int(y_coord + side_length/2)\n",
    "\n",
    "        # Pad the boundaries if they exceed the image dimensions\n",
    "        if x_start < 0:\n",
    "            x_pad = abs(x_start)\n",
    "            x_start = 0\n",
    "        else:\n",
    "            x_pad = 0\n",
    "\n",
    "        if x_end > images.shape[2]:\n",
    "            x_pad_end = x_end - images.shape[2]\n",
    "            x_end = images.shape[2]\n",
    "        else:\n",
    "            x_pad_end = 0\n",
    "\n",
    "        if y_start < 0:\n",
    "            y_pad = abs(y_start)\n",
    "            y_start = 0\n",
    "        else:\n",
    "            y_pad = 0\n",
    "\n",
    "        if y_end > images.shape[3]:\n",
    "            y_pad_end = y_end - images.shape[3]\n",
    "            y_end = images.shape[3]\n",
    "        else:\n",
    "            y_pad_end = 0\n",
    "\n",
    "        # Crop the image\n",
    "        cropped_image = images[t, :, x_start:x_end, y_start:y_end]\n",
    "\n",
    "        # Pad the cropped image if necessary\n",
    "        cropped_image = np.pad(cropped_image, ((0, 0), (x_pad, x_pad_end), (y_pad, y_pad_end)), mode='constant')\n",
    "\n",
    "        # extract the gfp and rfp channels to apply some vis techn\n",
    "        gfp = cropped_image[0,...].compute().compute()\n",
    "        rfp = cropped_image[1,...].compute().compute()\n",
    "        # clip the images so that the contrast is more apparent\n",
    "        contrast_lim_gfp = np.clip(gfp, 358, 5886)\n",
    "        contrast_lim_rfp = np.clip(rfp, 480, 1300)\n",
    "        norm_gfp = cv2.normalize(contrast_lim_gfp, None, 0, 65535, cv2.NORM_MINMAX, dtype=cv2.CV_16U)\n",
    "        norm_rfp = cv2.normalize(contrast_lim_rfp, None, 0, 65535, cv2.NORM_MINMAX, dtype=cv2.CV_16U)\n",
    "        # put the modified gfp rfp back in place\n",
    "        cropped_image[0, ...] = norm_gfp\n",
    "        cropped_image[1, ...] = norm_rfp\n",
    "\n",
    "        # Create an empty RGB image with the same shape as the input image\n",
    "        rgb_image = np.zeros((cropped_image.shape[1], cropped_image.shape[2], 3), dtype=np.uint16)\n",
    "\n",
    "        # Assign the first channel to the green channel of the RGB image\n",
    "        rgb_image[:, :, 1] = cropped_image[0]\n",
    "\n",
    "        # Assign the second channel to the red and blue channels of the RGB image to create magenta\n",
    "        rgb_image[:, :, 0] = cropped_image[1]\n",
    "        rgb_image[:, :, 2] = cropped_image[1]\n",
    "\n",
    "        # scale down to 8bit\n",
    "        rgb_image = np.uint8(rgb_image >> 8)\n",
    "        \n",
    "        if mask_outline == True:\n",
    "\n",
    "            #load mask (singular) \n",
    "            cropped_masks = segmentation[int(t), x_start:x_end, y_start:y_end]\n",
    "\n",
    "            # Pad the cropped image if necessary\n",
    "            cropped_masks = np.pad(cropped_masks, ((x_pad, x_pad_end), (y_pad, y_pad_end)), mode='constant')\n",
    "\n",
    "            # extract only that segment \n",
    "            seg_ID = cropped_masks[int(cropped_masks.shape[0]/2), int(cropped_masks.shape[1]/2)]\n",
    "            instance_mask = (cropped_masks == seg_ID).astype(np.uint8)\n",
    "            # draw outline\n",
    "            contours, _ = cv2.findContours(instance_mask, cv2.RETR_EXTERNAL, cv2.CHAIN_APPROX_SIMPLE)\n",
    "            cv2.drawContours(rgb_image, contours, -1, (0, 2**8, 2**8), thickness=2) # make 8bit\n",
    "\n",
    "        #downsize image to reduce stoarge demands \n",
    "        rgb_image = cv2.resize(rgb_image, (rgb_image.shape[1] // 2, rgb_image.shape[0] // 2))\n",
    "        \n",
    "        # Return the cropped RGB image\n",
    "        return rgb_image\n",
    "\n"
   ]
  },
  {
   "cell_type": "code",
   "execution_count": 551,
   "id": "9c28e9c6",
   "metadata": {},
   "outputs": [
    {
     "name": "stderr",
     "output_type": "stream",
     "text": [
      "[INFO][2023/06/20 06:28:38 PM] Opening HDF file: /mnt/DATA/macrohet/labels/macrohet_seg_model/(3, 4).h5...\n",
      "[INFO][2023/06/20 06:28:52 PM] Loading segmentation (75, 6048, 6048)\n",
      "[INFO][2023/06/20 06:28:52 PM] Closing HDF file: /mnt/DATA/macrohet/labels/macrohet_seg_model/(3, 4).h5\n"
     ]
    },
    {
     "data": {
      "text/plain": [
       "<matplotlib.image.AxesImage at 0x7f7995efb760>"
      ]
     },
     "execution_count": 551,
     "metadata": {},
     "output_type": "execute_result"
    },
    {
     "data": {
      "image/png": "[encoded data removed]",
      "text/plain": [
       "<Figure size 640x480 with 1 Axes>"
      ]
     },
     "metadata": {},
     "output_type": "display_data"
    }
   ],
   "source": [
    "test = tn_glimpse_maker(unique_ID = '433.3.4', df = df, time = 1)\n",
    "imshow(test)"
   ]
  }
 ],
 "metadata": {
  "kernelspec": {
   "display_name": "aero",
   "language": "python",
   "name": "aero"
  },
  "language_info": {
   "codemirror_mode": {
    "name": "ipython",
    "version": 3
   },
   "file_extension": ".py",
   "mimetype": "text/x-python",
   "name": "python",
   "nbconvert_exporter": "python",
   "pygments_lexer": "ipython3",
   "version": "3.9.12"
  }
 },
 "nbformat": 4,
 "nbformat_minor": 5
}
