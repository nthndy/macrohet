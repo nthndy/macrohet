{
 "cells": [
  {
   "cell_type": "markdown",
   "id": "19a25cf5-709c-4a4b-a770-ba4761d5d119",
   "metadata": {},
   "source": [
    "# Sankey diagram development"
   ]
  },
  {
   "cell_type": "code",
   "execution_count": 817,
   "id": "d344c977-f5f8-4e54-9354-8d03a8116076",
   "metadata": {},
   "outputs": [
    {
     "data": {
      "text/plain": [
       "5542"
      ]
     },
     "execution_count": 817,
     "metadata": {},
     "output_type": "execute_result"
    }
   ],
   "source": [
    "import os\n",
    "os.getpid()"
   ]
  },
  {
   "cell_type": "code",
   "execution_count": 1,
   "id": "dbbe9d38-ed77-47b2-9367-018db30b3024",
   "metadata": {},
   "outputs": [],
   "source": [
    "import plotly.graph_objects as go\n",
    "import btrack\n",
    "import numpy as np\n",
    "import json\n",
    "import pandas as pd\n",
    "import pickle\n",
    "import seaborn as sns\n",
    "import matplotlib.pyplot as plt\n",
    "from macrohet import visualise, colours\n",
    "import plotly.graph_objects as go\n",
    "import matplotlib as mpl\n",
    "# Set the default font to Helvetica\n",
    "mpl.rcParams['font.family'] = 'Liberation Sans'"
   ]
  },
  {
   "cell_type": "markdown",
   "id": "c4fcd2da-6143-4613-bc1b-1e05eb483bc1",
   "metadata": {},
   "source": [
    "# Extracting some preliminary data"
   ]
  },
  {
   "cell_type": "code",
   "execution_count": 2,
   "id": "e7fa920b-dd56-4ac1-918e-355f74560704",
   "metadata": {},
   "outputs": [],
   "source": [
    "expt_ID = 'PS0000'\n",
    "acq_ID = row, column = (3, 5)"
   ]
  },
  {
   "cell_type": "code",
   "execution_count": 3,
   "id": "8733c6dd-147b-45df-8704-8be1de61eeb7",
   "metadata": {},
   "outputs": [],
   "source": [
    "tracks_fn = f'/mnt/DATA/macrohet/PS0000/labels/macrohet_seg_model/{acq_ID}.h5'\n",
    "dict_fn = f'/mnt/DATA/macrohet/{expt_ID}/upstream_development/tracking/tracking_performance/v1>70/{row},{column}/{acq_ID}_track_assessment.json'"
   ]
  },
  {
   "cell_type": "code",
   "execution_count": 4,
   "id": "d92e1f77-6d5e-4ad5-9c4f-313690fcd7af",
   "metadata": {},
   "outputs": [
    {
     "name": "stderr",
     "output_type": "stream",
     "text": [
      "[INFO][2024/01/04 01:14:58 PM] Opening HDF file: /mnt/DATA/macrohet/PS0000/labels/macrohet_seg_model/(3, 5).h5...\n",
      "INFO:btrack.io.hdf:Opening HDF file: /mnt/DATA/macrohet/PS0000/labels/macrohet_seg_model/(3, 5).h5...\n",
      "[INFO][2024/01/04 01:14:58 PM] Loading tracks/obj_type_1\n",
      "INFO:btrack.io.hdf:Loading tracks/obj_type_1\n",
      "[INFO][2024/01/04 01:14:58 PM] Loading LBEP/obj_type_1\n",
      "INFO:btrack.io.hdf:Loading LBEP/obj_type_1\n",
      "[INFO][2024/01/04 01:14:59 PM] Loading objects/obj_type_1 (41424, 5) (41424 filtered: None)\n",
      "INFO:btrack.io.hdf:Loading objects/obj_type_1 (41424, 5) (41424 filtered: None)\n",
      "[INFO][2024/01/04 01:14:59 PM] Closing HDF file: /mnt/DATA/macrohet/PS0000/labels/macrohet_seg_model/(3, 5).h5\n",
      "INFO:btrack.io.hdf:Closing HDF file: /mnt/DATA/macrohet/PS0000/labels/macrohet_seg_model/(3, 5).h5\n"
     ]
    }
   ],
   "source": [
    "with btrack.io.HDF5FileHandler(tracks_fn, 'r', obj_type='obj_type_1') as reader:\n",
    "    tracks = reader.tracks"
   ]
  },
  {
   "cell_type": "markdown",
   "id": "78c32734-093b-4ffc-b537-94ae981e6c6b",
   "metadata": {},
   "source": [
    "### Modifying"
   ]
  },
  {
   "cell_type": "code",
   "execution_count": 212,
   "id": "d8faf09e-df52-41a6-b453-9e67c871559c",
   "metadata": {},
   "outputs": [],
   "source": []
  },
  {
   "cell_type": "code",
   "execution_count": 224,
   "id": "73d0cece-43bb-462f-bdce-6100705fd96e",
   "metadata": {},
   "outputs": [],
   "source": [
    "del_ID = 441"
   ]
  },
  {
   "cell_type": "code",
   "execution_count": 225,
   "id": "018cc4be-ce9e-43cc-9358-0f4e23b065bd",
   "metadata": {},
   "outputs": [],
   "source": [
    "del track_dict[f'{del_ID}']"
   ]
  },
  {
   "cell_type": "code",
   "execution_count": 226,
   "id": "a3ac5092-5b5f-43f3-9b72-0cafa520c79d",
   "metadata": {},
   "outputs": [],
   "source": [
    "track_dict[f'{del_ID}'] = False"
   ]
  },
  {
   "cell_type": "code",
   "execution_count": 227,
   "id": "6c26f2df-27cc-4461-bb92-6da7db8b418f",
   "metadata": {},
   "outputs": [
    {
     "data": {
      "text/plain": [
       "False"
      ]
     },
     "execution_count": 227,
     "metadata": {},
     "output_type": "execute_result"
    }
   ],
   "source": [
    "track_dict[f'{del_ID}']"
   ]
  },
  {
   "cell_type": "code",
   "execution_count": 228,
   "id": "bc9b50e6-298e-406a-b323-e8ae9a3abfc2",
   "metadata": {},
   "outputs": [],
   "source": [
    "with open(dict_fn, 'w') as json_file:\n",
    "    json.dump(track_dict, json_file, indent=4) "
   ]
  },
  {
   "cell_type": "code",
   "execution_count": 389,
   "id": "cb0d4429-cc4a-4b5d-a80f-616600f63e13",
   "metadata": {},
   "outputs": [],
   "source": [
    "df.to_pickle(f'/mnt/DATA/macrohet/{expt_ID}/results/preliminary_sc_measures/sc_dfs/{acq_ID}_<70_sc_df_GT_dev.pkl')\n"
   ]
  },
  {
   "cell_type": "code",
   "execution_count": 229,
   "id": "6963f78c-d2f0-410e-960f-9a4511f6c52e",
   "metadata": {},
   "outputs": [
    {
     "data": {
      "text/plain": [
       "False"
      ]
     },
     "execution_count": 229,
     "metadata": {},
     "output_type": "execute_result"
    }
   ],
   "source": [
    "track_dict[f'{del_ID}']"
   ]
  },
  {
   "cell_type": "code",
   "execution_count": 230,
   "id": "cd25409a-ce05-45be-8ffc-a47790f5b078",
   "metadata": {},
   "outputs": [
    {
     "name": "stdout",
     "output_type": "stream",
     "text": [
      "377\n"
     ]
    },
    {
     "data": {
      "text/html": [
       "<div>\n",
       "<style scoped>\n",
       "    .dataframe tbody tr th:only-of-type {\n",
       "        vertical-align: middle;\n",
       "    }\n",
       "\n",
       "    .dataframe tbody tr th {\n",
       "        vertical-align: top;\n",
       "    }\n",
       "\n",
       "    .dataframe thead th {\n",
       "        text-align: right;\n",
       "    }\n",
       "</style>\n",
       "<table border=\"1\" class=\"dataframe\">\n",
       "  <thead>\n",
       "    <tr style=\"text-align: right;\">\n",
       "      <th></th>\n",
       "      <th>Time (hours)</th>\n",
       "      <th>Strain</th>\n",
       "      <th>Compound</th>\n",
       "      <th>Concentration</th>\n",
       "      <th>Unique ID</th>\n",
       "      <th>Acquisition ID</th>\n",
       "      <th>Cell ID</th>\n",
       "      <th>Mphi Area</th>\n",
       "      <th>Mphi GFP</th>\n",
       "      <th>x</th>\n",
       "      <th>y</th>\n",
       "      <th>Eccentricity</th>\n",
       "      <th>MSD</th>\n",
       "      <th>Technical Replicate</th>\n",
       "      <th>Strain/Compound</th>\n",
       "      <th>Mtb Area µm2</th>\n",
       "      <th>Mtb RFP</th>\n",
       "      <th>Mtb RFP thresholded</th>\n",
       "    </tr>\n",
       "  </thead>\n",
       "  <tbody>\n",
       "    <tr>\n",
       "      <th>0</th>\n",
       "      <td>0</td>\n",
       "      <td>WT</td>\n",
       "      <td>CTRL</td>\n",
       "      <td>EC0</td>\n",
       "      <td>1.3.5</td>\n",
       "      <td>(3, 5)</td>\n",
       "      <td>1</td>\n",
       "      <td>29567.0</td>\n",
       "      <td>2220.025391</td>\n",
       "      <td>519.922607</td>\n",
       "      <td>876.779602</td>\n",
       "      <td>0.859159</td>\n",
       "      <td>0.000000</td>\n",
       "      <td>1</td>\n",
       "      <td>CTRL</td>\n",
       "      <td>46.797680</td>\n",
       "      <td>473.168976</td>\n",
       "      <td>167.325424</td>\n",
       "    </tr>\n",
       "    <tr>\n",
       "      <th>1</th>\n",
       "      <td>1</td>\n",
       "      <td>WT</td>\n",
       "      <td>CTRL</td>\n",
       "      <td>EC0</td>\n",
       "      <td>1.3.5</td>\n",
       "      <td>(3, 5)</td>\n",
       "      <td>1</td>\n",
       "      <td>26181.0</td>\n",
       "      <td>2549.692383</td>\n",
       "      <td>522.290833</td>\n",
       "      <td>876.766357</td>\n",
       "      <td>0.847926</td>\n",
       "      <td>2.368262</td>\n",
       "      <td>1</td>\n",
       "      <td>CTRL</td>\n",
       "      <td>48.719647</td>\n",
       "      <td>498.701813</td>\n",
       "      <td>202.661972</td>\n",
       "    </tr>\n",
       "    <tr>\n",
       "      <th>2</th>\n",
       "      <td>2</td>\n",
       "      <td>WT</td>\n",
       "      <td>CTRL</td>\n",
       "      <td>EC0</td>\n",
       "      <td>1.3.5</td>\n",
       "      <td>(3, 5)</td>\n",
       "      <td>1</td>\n",
       "      <td>26043.0</td>\n",
       "      <td>2653.458740</td>\n",
       "      <td>524.336243</td>\n",
       "      <td>874.563110</td>\n",
       "      <td>0.860501</td>\n",
       "      <td>3.006327</td>\n",
       "      <td>1</td>\n",
       "      <td>CTRL</td>\n",
       "      <td>52.206007</td>\n",
       "      <td>502.468353</td>\n",
       "      <td>210.382874</td>\n",
       "    </tr>\n",
       "    <tr>\n",
       "      <th>3</th>\n",
       "      <td>3</td>\n",
       "      <td>WT</td>\n",
       "      <td>CTRL</td>\n",
       "      <td>EC0</td>\n",
       "      <td>1.3.5</td>\n",
       "      <td>(3, 5)</td>\n",
       "      <td>1</td>\n",
       "      <td>25605.0</td>\n",
       "      <td>2736.911621</td>\n",
       "      <td>516.952454</td>\n",
       "      <td>876.656799</td>\n",
       "      <td>0.728416</td>\n",
       "      <td>7.674886</td>\n",
       "      <td>1</td>\n",
       "      <td>CTRL</td>\n",
       "      <td>50.552221</td>\n",
       "      <td>501.905182</td>\n",
       "      <td>212.070969</td>\n",
       "    </tr>\n",
       "    <tr>\n",
       "      <th>4</th>\n",
       "      <td>4</td>\n",
       "      <td>WT</td>\n",
       "      <td>CTRL</td>\n",
       "      <td>EC0</td>\n",
       "      <td>1.3.5</td>\n",
       "      <td>(3, 5)</td>\n",
       "      <td>1</td>\n",
       "      <td>26430.0</td>\n",
       "      <td>2490.947266</td>\n",
       "      <td>521.947449</td>\n",
       "      <td>880.909363</td>\n",
       "      <td>0.530618</td>\n",
       "      <td>6.560051</td>\n",
       "      <td>1</td>\n",
       "      <td>CTRL</td>\n",
       "      <td>54.463202</td>\n",
       "      <td>502.564423</td>\n",
       "      <td>204.565842</td>\n",
       "    </tr>\n",
       "    <tr>\n",
       "      <th>...</th>\n",
       "      <td>...</td>\n",
       "      <td>...</td>\n",
       "      <td>...</td>\n",
       "      <td>...</td>\n",
       "      <td>...</td>\n",
       "      <td>...</td>\n",
       "      <td>...</td>\n",
       "      <td>...</td>\n",
       "      <td>...</td>\n",
       "      <td>...</td>\n",
       "      <td>...</td>\n",
       "      <td>...</td>\n",
       "      <td>...</td>\n",
       "      <td>...</td>\n",
       "      <td>...</td>\n",
       "      <td>...</td>\n",
       "      <td>...</td>\n",
       "      <td>...</td>\n",
       "    </tr>\n",
       "    <tr>\n",
       "      <th>22813</th>\n",
       "      <td>70</td>\n",
       "      <td>WT</td>\n",
       "      <td>CTRL</td>\n",
       "      <td>EC0</td>\n",
       "      <td>1015.3.5</td>\n",
       "      <td>(3, 5)</td>\n",
       "      <td>1015</td>\n",
       "      <td>39979.0</td>\n",
       "      <td>2201.615723</td>\n",
       "      <td>579.509094</td>\n",
       "      <td>651.614807</td>\n",
       "      <td>0.970827</td>\n",
       "      <td>2.473534</td>\n",
       "      <td>1</td>\n",
       "      <td>CTRL</td>\n",
       "      <td>0.000000</td>\n",
       "      <td>378.059143</td>\n",
       "      <td>0.000000</td>\n",
       "    </tr>\n",
       "    <tr>\n",
       "      <th>22814</th>\n",
       "      <td>71</td>\n",
       "      <td>WT</td>\n",
       "      <td>CTRL</td>\n",
       "      <td>EC0</td>\n",
       "      <td>1015.3.5</td>\n",
       "      <td>(3, 5)</td>\n",
       "      <td>1015</td>\n",
       "      <td>38456.0</td>\n",
       "      <td>2243.430664</td>\n",
       "      <td>579.219421</td>\n",
       "      <td>651.633118</td>\n",
       "      <td>0.972632</td>\n",
       "      <td>0.290251</td>\n",
       "      <td>1</td>\n",
       "      <td>CTRL</td>\n",
       "      <td>0.000000</td>\n",
       "      <td>377.311035</td>\n",
       "      <td>0.000000</td>\n",
       "    </tr>\n",
       "    <tr>\n",
       "      <th>22815</th>\n",
       "      <td>72</td>\n",
       "      <td>WT</td>\n",
       "      <td>CTRL</td>\n",
       "      <td>EC0</td>\n",
       "      <td>1015.3.5</td>\n",
       "      <td>(3, 5)</td>\n",
       "      <td>1015</td>\n",
       "      <td>39006.0</td>\n",
       "      <td>2209.442627</td>\n",
       "      <td>578.878113</td>\n",
       "      <td>652.432434</td>\n",
       "      <td>0.968598</td>\n",
       "      <td>0.869137</td>\n",
       "      <td>1</td>\n",
       "      <td>CTRL</td>\n",
       "      <td>0.000000</td>\n",
       "      <td>378.968353</td>\n",
       "      <td>0.000000</td>\n",
       "    </tr>\n",
       "    <tr>\n",
       "      <th>22816</th>\n",
       "      <td>73</td>\n",
       "      <td>WT</td>\n",
       "      <td>CTRL</td>\n",
       "      <td>EC0</td>\n",
       "      <td>1015.3.5</td>\n",
       "      <td>(3, 5)</td>\n",
       "      <td>1015</td>\n",
       "      <td>35816.0</td>\n",
       "      <td>2537.284668</td>\n",
       "      <td>579.752319</td>\n",
       "      <td>652.408752</td>\n",
       "      <td>0.969917</td>\n",
       "      <td>0.874527</td>\n",
       "      <td>1</td>\n",
       "      <td>CTRL</td>\n",
       "      <td>0.000000</td>\n",
       "      <td>379.737701</td>\n",
       "      <td>0.000000</td>\n",
       "    </tr>\n",
       "    <tr>\n",
       "      <th>22817</th>\n",
       "      <td>74</td>\n",
       "      <td>WT</td>\n",
       "      <td>CTRL</td>\n",
       "      <td>EC0</td>\n",
       "      <td>1015.3.5</td>\n",
       "      <td>(3, 5)</td>\n",
       "      <td>1015</td>\n",
       "      <td>31696.0</td>\n",
       "      <td>2657.536133</td>\n",
       "      <td>573.638428</td>\n",
       "      <td>654.159973</td>\n",
       "      <td>0.972957</td>\n",
       "      <td>6.359752</td>\n",
       "      <td>1</td>\n",
       "      <td>CTRL</td>\n",
       "      <td>0.000000</td>\n",
       "      <td>380.318970</td>\n",
       "      <td>0.000000</td>\n",
       "    </tr>\n",
       "  </tbody>\n",
       "</table>\n",
       "<p>22579 rows × 18 columns</p>\n",
       "</div>"
      ],
      "text/plain": [
       "       Time (hours) Strain Compound Concentration Unique ID Acquisition ID  \\\n",
       "0                 0     WT     CTRL           EC0     1.3.5         (3, 5)   \n",
       "1                 1     WT     CTRL           EC0     1.3.5         (3, 5)   \n",
       "2                 2     WT     CTRL           EC0     1.3.5         (3, 5)   \n",
       "3                 3     WT     CTRL           EC0     1.3.5         (3, 5)   \n",
       "4                 4     WT     CTRL           EC0     1.3.5         (3, 5)   \n",
       "...             ...    ...      ...           ...       ...            ...   \n",
       "22813            70     WT     CTRL           EC0  1015.3.5         (3, 5)   \n",
       "22814            71     WT     CTRL           EC0  1015.3.5         (3, 5)   \n",
       "22815            72     WT     CTRL           EC0  1015.3.5         (3, 5)   \n",
       "22816            73     WT     CTRL           EC0  1015.3.5         (3, 5)   \n",
       "22817            74     WT     CTRL           EC0  1015.3.5         (3, 5)   \n",
       "\n",
       "       Cell ID  Mphi Area     Mphi GFP           x           y  Eccentricity  \\\n",
       "0            1    29567.0  2220.025391  519.922607  876.779602      0.859159   \n",
       "1            1    26181.0  2549.692383  522.290833  876.766357      0.847926   \n",
       "2            1    26043.0  2653.458740  524.336243  874.563110      0.860501   \n",
       "3            1    25605.0  2736.911621  516.952454  876.656799      0.728416   \n",
       "4            1    26430.0  2490.947266  521.947449  880.909363      0.530618   \n",
       "...        ...        ...          ...         ...         ...           ...   \n",
       "22813     1015    39979.0  2201.615723  579.509094  651.614807      0.970827   \n",
       "22814     1015    38456.0  2243.430664  579.219421  651.633118      0.972632   \n",
       "22815     1015    39006.0  2209.442627  578.878113  652.432434      0.968598   \n",
       "22816     1015    35816.0  2537.284668  579.752319  652.408752      0.969917   \n",
       "22817     1015    31696.0  2657.536133  573.638428  654.159973      0.972957   \n",
       "\n",
       "            MSD  Technical Replicate Strain/Compound  Mtb Area µm2  \\\n",
       "0      0.000000                    1            CTRL     46.797680   \n",
       "1      2.368262                    1            CTRL     48.719647   \n",
       "2      3.006327                    1            CTRL     52.206007   \n",
       "3      7.674886                    1            CTRL     50.552221   \n",
       "4      6.560051                    1            CTRL     54.463202   \n",
       "...         ...                  ...             ...           ...   \n",
       "22813  2.473534                    1            CTRL      0.000000   \n",
       "22814  0.290251                    1            CTRL      0.000000   \n",
       "22815  0.869137                    1            CTRL      0.000000   \n",
       "22816  0.874527                    1            CTRL      0.000000   \n",
       "22817  6.359752                    1            CTRL      0.000000   \n",
       "\n",
       "          Mtb RFP  Mtb RFP thresholded  \n",
       "0      473.168976           167.325424  \n",
       "1      498.701813           202.661972  \n",
       "2      502.468353           210.382874  \n",
       "3      501.905182           212.070969  \n",
       "4      502.564423           204.565842  \n",
       "...           ...                  ...  \n",
       "22813  378.059143             0.000000  \n",
       "22814  377.311035             0.000000  \n",
       "22815  378.968353             0.000000  \n",
       "22816  379.737701             0.000000  \n",
       "22817  380.318970             0.000000  \n",
       "\n",
       "[22579 rows x 18 columns]"
      ]
     },
     "execution_count": 230,
     "metadata": {},
     "output_type": "execute_result"
    }
   ],
   "source": [
    "df_mod = df[df['Unique ID'] != f'{del_ID}.3.5']\n",
    "# Save the modified DataFrame back to the same file, overwriting it\n",
    "df_mod.to_pickle(f'/mnt/DATA/macrohet/{expt_ID}/results/preliminary_sc_measures/sc_dfs/{acq_ID}_<70_sc_df_GT_dev.pkl'\n",
    "print(len(df_mod[df_mod['Acquisition ID'] == acq_ID]['Unique ID'].unique()))\n",
    "df_mod"
   ]
  },
  {
   "cell_type": "code",
   "execution_count": 231,
   "id": "51183e64-9d00-4b49-92b8-2f19b6e4a85b",
   "metadata": {},
   "outputs": [],
   "source": [
    "\n",
    "# If you want to confirm that the file has been overwritten, you can reload it and display the DataFrame\n",
    "df = pd.read_pickle(file_path)"
   ]
  },
  {
   "cell_type": "markdown",
   "id": "bcb54041-5ff3-4e53-ac6c-217b49cdeb55",
   "metadata": {},
   "source": [
    "### FIN"
   ]
  },
  {
   "cell_type": "code",
   "execution_count": 175,
   "id": "f8294199-ffaf-4ca4-9fca-9d381f8a576d",
   "metadata": {},
   "outputs": [],
   "source": [
    "with open(dict_fn) as json_data:\n",
    "    track_dict = json.load(json_data)"
   ]
  },
  {
   "cell_type": "code",
   "execution_count": 176,
   "id": "0a39d5f9-5126-479a-909c-5b080e564dd9",
   "metadata": {},
   "outputs": [],
   "source": [
    "true_IDs = [int(ID) for ID in track_dict.keys() if track_dict[ID] == True]"
   ]
  },
  {
   "cell_type": "code",
   "execution_count": 177,
   "id": "4385691b-d7d9-4896-990c-4d638b7a7ef7",
   "metadata": {},
   "outputs": [],
   "source": [
    "true_tracks = [t for t in tracks if t.ID in true_IDs]"
   ]
  },
  {
   "cell_type": "code",
   "execution_count": 178,
   "id": "266d76cc-d179-483a-97f8-f53cbaa8bab5",
   "metadata": {},
   "outputs": [
    {
     "data": {
      "text/plain": [
       "381"
      ]
     },
     "execution_count": 178,
     "metadata": {},
     "output_type": "execute_result"
    }
   ],
   "source": [
    "len(true_tracks)"
   ]
  },
  {
   "cell_type": "code",
   "execution_count": 111,
   "id": "c4ec5161-4103-47be-89b0-b38566d150c1",
   "metadata": {},
   "outputs": [
    {
     "data": {
      "text/plain": [
       "384"
      ]
     },
     "execution_count": 111,
     "metadata": {},
     "output_type": "execute_result"
    }
   ],
   "source": [
    "len(true_tracks)"
   ]
  },
  {
   "cell_type": "code",
   "execution_count": 156,
   "id": "c34f10ea-d8bd-4223-89c3-3770e6b459ad",
   "metadata": {},
   "outputs": [
    {
     "data": {
      "text/html": [
       "<div>\n",
       "<style scoped>\n",
       "    .dataframe tbody tr th:only-of-type {\n",
       "        vertical-align: middle;\n",
       "    }\n",
       "\n",
       "    .dataframe tbody tr th {\n",
       "        vertical-align: top;\n",
       "    }\n",
       "\n",
       "    .dataframe thead th {\n",
       "        text-align: right;\n",
       "    }\n",
       "</style>\n",
       "<table border=\"1\" class=\"dataframe\">\n",
       "  <thead>\n",
       "    <tr style=\"text-align: right;\">\n",
       "      <th></th>\n",
       "      <th>Time (hours)</th>\n",
       "      <th>Strain</th>\n",
       "      <th>Compound</th>\n",
       "      <th>Concentration</th>\n",
       "      <th>Unique ID</th>\n",
       "      <th>Acquisition ID</th>\n",
       "      <th>Cell ID</th>\n",
       "      <th>Mphi Area</th>\n",
       "      <th>Mphi GFP</th>\n",
       "      <th>x</th>\n",
       "      <th>y</th>\n",
       "      <th>Eccentricity</th>\n",
       "      <th>MSD</th>\n",
       "      <th>Technical Replicate</th>\n",
       "      <th>Strain/Compound</th>\n",
       "      <th>Mtb Area µm2</th>\n",
       "      <th>Mtb RFP</th>\n",
       "      <th>Mtb RFP thresholded</th>\n",
       "    </tr>\n",
       "  </thead>\n",
       "  <tbody>\n",
       "    <tr>\n",
       "      <th>0</th>\n",
       "      <td>0</td>\n",
       "      <td>WT</td>\n",
       "      <td>CTRL</td>\n",
       "      <td>EC0</td>\n",
       "      <td>1.3.5</td>\n",
       "      <td>(3, 5)</td>\n",
       "      <td>1</td>\n",
       "      <td>29567.0</td>\n",
       "      <td>2220.025391</td>\n",
       "      <td>519.922607</td>\n",
       "      <td>876.779602</td>\n",
       "      <td>0.859159</td>\n",
       "      <td>0.000000</td>\n",
       "      <td>1</td>\n",
       "      <td>CTRL</td>\n",
       "      <td>46.797680</td>\n",
       "      <td>473.168976</td>\n",
       "      <td>167.325424</td>\n",
       "    </tr>\n",
       "    <tr>\n",
       "      <th>1</th>\n",
       "      <td>1</td>\n",
       "      <td>WT</td>\n",
       "      <td>CTRL</td>\n",
       "      <td>EC0</td>\n",
       "      <td>1.3.5</td>\n",
       "      <td>(3, 5)</td>\n",
       "      <td>1</td>\n",
       "      <td>26181.0</td>\n",
       "      <td>2549.692383</td>\n",
       "      <td>522.290833</td>\n",
       "      <td>876.766357</td>\n",
       "      <td>0.847926</td>\n",
       "      <td>2.368262</td>\n",
       "      <td>1</td>\n",
       "      <td>CTRL</td>\n",
       "      <td>48.719647</td>\n",
       "      <td>498.701813</td>\n",
       "      <td>202.661972</td>\n",
       "    </tr>\n",
       "    <tr>\n",
       "      <th>2</th>\n",
       "      <td>2</td>\n",
       "      <td>WT</td>\n",
       "      <td>CTRL</td>\n",
       "      <td>EC0</td>\n",
       "      <td>1.3.5</td>\n",
       "      <td>(3, 5)</td>\n",
       "      <td>1</td>\n",
       "      <td>26043.0</td>\n",
       "      <td>2653.458740</td>\n",
       "      <td>524.336243</td>\n",
       "      <td>874.563110</td>\n",
       "      <td>0.860501</td>\n",
       "      <td>3.006327</td>\n",
       "      <td>1</td>\n",
       "      <td>CTRL</td>\n",
       "      <td>52.206007</td>\n",
       "      <td>502.468353</td>\n",
       "      <td>210.382874</td>\n",
       "    </tr>\n",
       "    <tr>\n",
       "      <th>3</th>\n",
       "      <td>3</td>\n",
       "      <td>WT</td>\n",
       "      <td>CTRL</td>\n",
       "      <td>EC0</td>\n",
       "      <td>1.3.5</td>\n",
       "      <td>(3, 5)</td>\n",
       "      <td>1</td>\n",
       "      <td>25605.0</td>\n",
       "      <td>2736.911621</td>\n",
       "      <td>516.952454</td>\n",
       "      <td>876.656799</td>\n",
       "      <td>0.728416</td>\n",
       "      <td>7.674886</td>\n",
       "      <td>1</td>\n",
       "      <td>CTRL</td>\n",
       "      <td>50.552221</td>\n",
       "      <td>501.905182</td>\n",
       "      <td>212.070969</td>\n",
       "    </tr>\n",
       "    <tr>\n",
       "      <th>4</th>\n",
       "      <td>4</td>\n",
       "      <td>WT</td>\n",
       "      <td>CTRL</td>\n",
       "      <td>EC0</td>\n",
       "      <td>1.3.5</td>\n",
       "      <td>(3, 5)</td>\n",
       "      <td>1</td>\n",
       "      <td>26430.0</td>\n",
       "      <td>2490.947266</td>\n",
       "      <td>521.947449</td>\n",
       "      <td>880.909363</td>\n",
       "      <td>0.530618</td>\n",
       "      <td>6.560051</td>\n",
       "      <td>1</td>\n",
       "      <td>CTRL</td>\n",
       "      <td>54.463202</td>\n",
       "      <td>502.564423</td>\n",
       "      <td>204.565842</td>\n",
       "    </tr>\n",
       "    <tr>\n",
       "      <th>...</th>\n",
       "      <td>...</td>\n",
       "      <td>...</td>\n",
       "      <td>...</td>\n",
       "      <td>...</td>\n",
       "      <td>...</td>\n",
       "      <td>...</td>\n",
       "      <td>...</td>\n",
       "      <td>...</td>\n",
       "      <td>...</td>\n",
       "      <td>...</td>\n",
       "      <td>...</td>\n",
       "      <td>...</td>\n",
       "      <td>...</td>\n",
       "      <td>...</td>\n",
       "      <td>...</td>\n",
       "      <td>...</td>\n",
       "      <td>...</td>\n",
       "      <td>...</td>\n",
       "    </tr>\n",
       "    <tr>\n",
       "      <th>22813</th>\n",
       "      <td>70</td>\n",
       "      <td>WT</td>\n",
       "      <td>CTRL</td>\n",
       "      <td>EC0</td>\n",
       "      <td>1015.3.5</td>\n",
       "      <td>(3, 5)</td>\n",
       "      <td>1015</td>\n",
       "      <td>39979.0</td>\n",
       "      <td>2201.615723</td>\n",
       "      <td>579.509094</td>\n",
       "      <td>651.614807</td>\n",
       "      <td>0.970827</td>\n",
       "      <td>2.473534</td>\n",
       "      <td>1</td>\n",
       "      <td>CTRL</td>\n",
       "      <td>0.000000</td>\n",
       "      <td>378.059143</td>\n",
       "      <td>0.000000</td>\n",
       "    </tr>\n",
       "    <tr>\n",
       "      <th>22814</th>\n",
       "      <td>71</td>\n",
       "      <td>WT</td>\n",
       "      <td>CTRL</td>\n",
       "      <td>EC0</td>\n",
       "      <td>1015.3.5</td>\n",
       "      <td>(3, 5)</td>\n",
       "      <td>1015</td>\n",
       "      <td>38456.0</td>\n",
       "      <td>2243.430664</td>\n",
       "      <td>579.219421</td>\n",
       "      <td>651.633118</td>\n",
       "      <td>0.972632</td>\n",
       "      <td>0.290251</td>\n",
       "      <td>1</td>\n",
       "      <td>CTRL</td>\n",
       "      <td>0.000000</td>\n",
       "      <td>377.311035</td>\n",
       "      <td>0.000000</td>\n",
       "    </tr>\n",
       "    <tr>\n",
       "      <th>22815</th>\n",
       "      <td>72</td>\n",
       "      <td>WT</td>\n",
       "      <td>CTRL</td>\n",
       "      <td>EC0</td>\n",
       "      <td>1015.3.5</td>\n",
       "      <td>(3, 5)</td>\n",
       "      <td>1015</td>\n",
       "      <td>39006.0</td>\n",
       "      <td>2209.442627</td>\n",
       "      <td>578.878113</td>\n",
       "      <td>652.432434</td>\n",
       "      <td>0.968598</td>\n",
       "      <td>0.869137</td>\n",
       "      <td>1</td>\n",
       "      <td>CTRL</td>\n",
       "      <td>0.000000</td>\n",
       "      <td>378.968353</td>\n",
       "      <td>0.000000</td>\n",
       "    </tr>\n",
       "    <tr>\n",
       "      <th>22816</th>\n",
       "      <td>73</td>\n",
       "      <td>WT</td>\n",
       "      <td>CTRL</td>\n",
       "      <td>EC0</td>\n",
       "      <td>1015.3.5</td>\n",
       "      <td>(3, 5)</td>\n",
       "      <td>1015</td>\n",
       "      <td>35816.0</td>\n",
       "      <td>2537.284668</td>\n",
       "      <td>579.752319</td>\n",
       "      <td>652.408752</td>\n",
       "      <td>0.969917</td>\n",
       "      <td>0.874527</td>\n",
       "      <td>1</td>\n",
       "      <td>CTRL</td>\n",
       "      <td>0.000000</td>\n",
       "      <td>379.737701</td>\n",
       "      <td>0.000000</td>\n",
       "    </tr>\n",
       "    <tr>\n",
       "      <th>22817</th>\n",
       "      <td>74</td>\n",
       "      <td>WT</td>\n",
       "      <td>CTRL</td>\n",
       "      <td>EC0</td>\n",
       "      <td>1015.3.5</td>\n",
       "      <td>(3, 5)</td>\n",
       "      <td>1015</td>\n",
       "      <td>31696.0</td>\n",
       "      <td>2657.536133</td>\n",
       "      <td>573.638428</td>\n",
       "      <td>654.159973</td>\n",
       "      <td>0.972957</td>\n",
       "      <td>6.359752</td>\n",
       "      <td>1</td>\n",
       "      <td>CTRL</td>\n",
       "      <td>0.000000</td>\n",
       "      <td>380.318970</td>\n",
       "      <td>0.000000</td>\n",
       "    </tr>\n",
       "  </tbody>\n",
       "</table>\n",
       "<p>22758 rows × 18 columns</p>\n",
       "</div>"
      ],
      "text/plain": [
       "       Time (hours) Strain Compound Concentration Unique ID Acquisition ID  \\\n",
       "0                 0     WT     CTRL           EC0     1.3.5         (3, 5)   \n",
       "1                 1     WT     CTRL           EC0     1.3.5         (3, 5)   \n",
       "2                 2     WT     CTRL           EC0     1.3.5         (3, 5)   \n",
       "3                 3     WT     CTRL           EC0     1.3.5         (3, 5)   \n",
       "4                 4     WT     CTRL           EC0     1.3.5         (3, 5)   \n",
       "...             ...    ...      ...           ...       ...            ...   \n",
       "22813            70     WT     CTRL           EC0  1015.3.5         (3, 5)   \n",
       "22814            71     WT     CTRL           EC0  1015.3.5         (3, 5)   \n",
       "22815            72     WT     CTRL           EC0  1015.3.5         (3, 5)   \n",
       "22816            73     WT     CTRL           EC0  1015.3.5         (3, 5)   \n",
       "22817            74     WT     CTRL           EC0  1015.3.5         (3, 5)   \n",
       "\n",
       "       Cell ID  Mphi Area     Mphi GFP           x           y  Eccentricity  \\\n",
       "0            1    29567.0  2220.025391  519.922607  876.779602      0.859159   \n",
       "1            1    26181.0  2549.692383  522.290833  876.766357      0.847926   \n",
       "2            1    26043.0  2653.458740  524.336243  874.563110      0.860501   \n",
       "3            1    25605.0  2736.911621  516.952454  876.656799      0.728416   \n",
       "4            1    26430.0  2490.947266  521.947449  880.909363      0.530618   \n",
       "...        ...        ...          ...         ...         ...           ...   \n",
       "22813     1015    39979.0  2201.615723  579.509094  651.614807      0.970827   \n",
       "22814     1015    38456.0  2243.430664  579.219421  651.633118      0.972632   \n",
       "22815     1015    39006.0  2209.442627  578.878113  652.432434      0.968598   \n",
       "22816     1015    35816.0  2537.284668  579.752319  652.408752      0.969917   \n",
       "22817     1015    31696.0  2657.536133  573.638428  654.159973      0.972957   \n",
       "\n",
       "            MSD  Technical Replicate Strain/Compound  Mtb Area µm2  \\\n",
       "0      0.000000                    1            CTRL     46.797680   \n",
       "1      2.368262                    1            CTRL     48.719647   \n",
       "2      3.006327                    1            CTRL     52.206007   \n",
       "3      7.674886                    1            CTRL     50.552221   \n",
       "4      6.560051                    1            CTRL     54.463202   \n",
       "...         ...                  ...             ...           ...   \n",
       "22813  2.473534                    1            CTRL      0.000000   \n",
       "22814  0.290251                    1            CTRL      0.000000   \n",
       "22815  0.869137                    1            CTRL      0.000000   \n",
       "22816  0.874527                    1            CTRL      0.000000   \n",
       "22817  6.359752                    1            CTRL      0.000000   \n",
       "\n",
       "          Mtb RFP  Mtb RFP thresholded  \n",
       "0      473.168976           167.325424  \n",
       "1      498.701813           202.661972  \n",
       "2      502.468353           210.382874  \n",
       "3      501.905182           212.070969  \n",
       "4      502.564423           204.565842  \n",
       "...           ...                  ...  \n",
       "22813  378.059143             0.000000  \n",
       "22814  377.311035             0.000000  \n",
       "22815  378.968353             0.000000  \n",
       "22816  379.737701             0.000000  \n",
       "22817  380.318970             0.000000  \n",
       "\n",
       "[22758 rows x 18 columns]"
      ]
     },
     "execution_count": 156,
     "metadata": {},
     "output_type": "execute_result"
    }
   ],
   "source": [
    "# updated df to include all shorter tracks with mtb area measurements\n",
    "df = pd.read_pickle(f'/mnt/DATA/macrohet/{expt_ID}/results/preliminary_sc_measures/sc_dfs/{acq_ID}_<70_sc_df_GT_dev.pkl')\n",
    "df"
   ]
  },
  {
   "cell_type": "code",
   "execution_count": 157,
   "id": "86d8a13f-1270-4cfa-8b98-ecb7f662bd8d",
   "metadata": {},
   "outputs": [
    {
     "data": {
      "text/plain": [
       "382"
      ]
     },
     "execution_count": 157,
     "metadata": {},
     "output_type": "execute_result"
    }
   ],
   "source": [
    "len(df[df['Acquisition ID'] == acq_ID]['Unique ID'].unique())"
   ]
  },
  {
   "cell_type": "code",
   "execution_count": 136,
   "id": "8dd314b9-20de-40a7-8542-9cf3d22b84d3",
   "metadata": {},
   "outputs": [
    {
     "data": {
      "text/plain": [
       "383"
      ]
     },
     "execution_count": 136,
     "metadata": {},
     "output_type": "execute_result"
    }
   ],
   "source": [
    "len(df['Unique ID'].unique())"
   ]
  },
  {
   "cell_type": "code",
   "execution_count": 13,
   "id": "284b48ce-2af7-45c7-bc1e-e84e7fb69aa2",
   "metadata": {},
   "outputs": [
    {
     "data": {
      "text/plain": [
       "True"
      ]
     },
     "execution_count": 13,
     "metadata": {},
     "output_type": "execute_result"
    }
   ],
   "source": [
    "len(df[df['Acquisition ID'] == acq_ID]['Unique ID'].unique()) == len(true_tracks)"
   ]
  },
  {
   "cell_type": "markdown",
   "id": "da1a8010-e35a-45bc-8080-381de2b4d5e1",
   "metadata": {},
   "source": [
    "### Start by classifying N_infected vs N_uninf\n",
    "\n",
    "What classifies as infected versus uninfected? A single frame at t=0 is not enough to say the cell is infected... \n",
    "\n",
    "### Start by having a variable that we can vary"
   ]
  },
  {
   "cell_type": "code",
   "execution_count": 14,
   "id": "655b20f5-3b57-4acc-b1a1-3fb2ae7e6bd6",
   "metadata": {},
   "outputs": [
    {
     "name": "stderr",
     "output_type": "stream",
     "text": [
      "/home/dayn/miniconda3/envs/brassica/lib/python3.9/site-packages/seaborn/_oldcore.py:1119: FutureWarning: use_inf_as_na option is deprecated and will be removed in a future version. Convert inf values to NaN before operating instead.\n",
      "  with pd.option_context('mode.use_inf_as_na', True):\n",
      "/home/dayn/miniconda3/envs/brassica/lib/python3.9/site-packages/seaborn/_oldcore.py:1119: FutureWarning: use_inf_as_na option is deprecated and will be removed in a future version. Convert inf values to NaN before operating instead.\n",
      "  with pd.option_context('mode.use_inf_as_na', True):\n"
     ]
    },
    {
     "data": {
      "image/png": "[encoded data removed]",
      "text/plain": [
       "<Figure size 1000x600 with 1 Axes>"
      ]
     },
     "metadata": {},
     "output_type": "display_data"
    }
   ],
   "source": [
    "results = []  # To store results for each N\n",
    "\n",
    "# Iterate over a range of N values\n",
    "for N in range(1, 36):  # Iterate from 1 to 35\n",
    "\n",
    "    # Define the function within the loop to capture the current value of N\n",
    "    def check_non_zero_mtb(group):\n",
    "        group = group.reset_index(drop=True)\n",
    "        return (group.head(N)['Mtb Area µm2'] > 0).all()\n",
    "\n",
    "    # Group by Unique ID and sort within groups by Time (hours)\n",
    "    grouped = df.sort_values('Time (hours)').groupby('Unique ID')\n",
    "\n",
    "    # Apply the function to each group and count the True values\n",
    "    count_infected = grouped.apply(check_non_zero_mtb).sum()\n",
    "\n",
    "    # Append the result to the results list\n",
    "    results.append({'N': N, 'Count_Infected': count_infected})\n",
    "\n",
    "# Convert results to a DataFrame\n",
    "results_df = pd.DataFrame(results)\n",
    "\n",
    "# Plotting\n",
    "sns.set(style=\"whitegrid\")  # Set the style of the plot\n",
    "plt.figure(figsize=(10, 6))  # Set the size of the plot\n",
    "\n",
    "# Create the line plot\n",
    "sns.lineplot(x='N', y='Count_Infected', data=results_df, marker='o')\n",
    "\n",
    "# Despine the plot\n",
    "sns.despine()\n",
    "\n",
    "# Adding title and labels\n",
    "plt.title('Number of Unique IDs with Non-Zero Mtb Area for the First N Time Points')\n",
    "plt.xlabel('N Time Points')\n",
    "plt.ylabel('Count of Infected Unique IDs')\n",
    "\n",
    "# Show the plot\n",
    "plt.show()"
   ]
  },
  {
   "cell_type": "markdown",
   "id": "6ca6b4a3-94f3-4e91-b63f-3a810196b479",
   "metadata": {},
   "source": [
    "### Deciding that N = 3 for number of infected frames for a cell to count as initially infected\n",
    "\n",
    "This ensures that there are three seperate observations that are each an hour apart, I think this is sufficient to nearly guarantee that a cell is infected and not merely co-localising with a clump of mtb. Previous observations (`macrohet/upstream_labelling/classification/what_min_mtb_area_thresh.ipynb`) indicate that a single bacillus is 88 pixels big, so anything above that counts. Using the resolution scale factor, converted to µm^2, this corresponds to `88*((1.4949402023919043e-07*1_000_000)**2) = 1.9666646636802418µm^2`"
   ]
  },
  {
   "cell_type": "code",
   "execution_count": 15,
   "id": "ba4baf43-17fd-4158-8bd4-1f33cd6b02d2",
   "metadata": {},
   "outputs": [],
   "source": [
    "min_mtb_area_thresh_µm = 88*((1.4949402023919043e-07*1_000_000)**2)"
   ]
  },
  {
   "cell_type": "code",
   "execution_count": 46,
   "id": "29b38fc3-2fd8-4437-b53d-ec563b57b32d",
   "metadata": {},
   "outputs": [
    {
     "data": {
      "text/plain": [
       "'1015.3.5'"
      ]
     },
     "execution_count": 46,
     "metadata": {},
     "output_type": "execute_result"
    }
   ],
   "source": [
    "track_ID"
   ]
  },
  {
   "cell_type": "code",
   "execution_count": 53,
   "id": "396c7ab8-b66a-4a5a-8528-ef2e260bc666",
   "metadata": {},
   "outputs": [
    {
     "data": {
      "text/plain": [
       "'1015'"
      ]
     },
     "execution_count": 53,
     "metadata": {},
     "output_type": "execute_result"
    }
   ],
   "source": [
    "track_ID.split('.')[0]"
   ]
  },
  {
   "cell_type": "code",
   "execution_count": 52,
   "id": "4de7c35b-9e74-4d72-bedb-700947147d9f",
   "metadata": {},
   "outputs": [
    {
     "data": {
      "text/plain": [
       "False"
      ]
     },
     "execution_count": 52,
     "metadata": {},
     "output_type": "execute_result"
    }
   ],
   "source": [
    "track_ID.split('.')[0] in death_IDs"
   ]
  },
  {
   "cell_type": "code",
   "execution_count": 50,
   "id": "fee41d44-c963-441f-a4e5-4d355ea10273",
   "metadata": {},
   "outputs": [
    {
     "data": {
      "text/plain": [
       "False"
      ]
     },
     "execution_count": 50,
     "metadata": {},
     "output_type": "execute_result"
    }
   ],
   "source": [
    "died"
   ]
  },
  {
   "cell_type": "code",
   "execution_count": 234,
   "id": "6d869198-53c8-443d-ac59-1ced207c7f04",
   "metadata": {},
   "outputs": [],
   "source": [
    "N_init_infected = N_init_uninfected = N_fin_infected = N_fin_uninfected = 0\n",
    "N_stayed_infected = N_got_infected = N_stayed_uninfected = N_got_uninfected = 0\n",
    "\n",
    "# Lists to store track IDs for each category\n",
    "trackIDs_init_infected ,trackIDs_init_uninfected = []\n",
    "trackIDs_fin_infected = []\n",
    "trackIDs_fin_uninfected = []\n",
    "trackIDs_stayed_infected = []\n",
    "trackIDs_got_infected = []\n",
    "trackIDs_stayed_uninfected = []\n",
    "trackIDs_got_uninfected = []\n",
    "\n",
    "infect_status_dict = {'Initial Infection Status': {}, 'Final Infection Status': {}}\n",
    "\n",
    "for track_ID in df['Unique ID'].unique():\n",
    "    subset_df = df[df['Unique ID'] == track_ID]\n",
    "    \n",
    "    # Check initial infection status\n",
    "    initial_infected = all(subset_df.iloc[:3]['Mtb Area µm2'] > min_mtb_area_thresh_µm)\n",
    "    infect_status_dict['Initial Infection Status'][track_ID] = initial_infected\n",
    "    if initial_infected:\n",
    "        N_init_infected += 1\n",
    "        trackIDs_init_infected.append(track_ID)\n",
    "    else:\n",
    "        N_init_uninfected += 1\n",
    "        trackIDs_init_uninfected.append(track_ID)\n",
    "\n",
    "    # Check final infection status\n",
    "    final_infected = all(subset_df.iloc[-3:]['Mtb Area µm2'] > min_mtb_area_thresh_µm)\n",
    "    infect_status_dict['Final Infection Status'][track_ID] = final_infected\n",
    "    if final_infected:\n",
    "        N_fin_infected += 1\n",
    "        trackIDs_fin_infected.append(track_ID)\n",
    "    else:\n",
    "        N_fin_uninfected += 1\n",
    "        trackIDs_fin_uninfected.append(track_ID)\n",
    "\n",
    "    # Check transition status\n",
    "    if initial_infected and final_infected:\n",
    "        N_stayed_infected += 1\n",
    "        trackIDs_stayed_infected.append(track_ID)\n",
    "    elif not initial_infected and final_infected:\n",
    "        N_got_infected += 1\n",
    "        trackIDs_got_infected.append(track_ID)\n",
    "    elif initial_infected and not final_infected:\n",
    "        N_got_uninfected += 1\n",
    "        trackIDs_got_uninfected.append(track_ID)\n",
    "    elif not initial_infected and not final_infected:\n",
    "        N_stayed_uninfected += 1\n",
    "        trackIDs_stayed_uninfected.append(track_ID)\n"
   ]
  },
  {
   "cell_type": "code",
   "execution_count": 60,
   "id": "e24a3d95-b004-4539-b501-ba087095969a",
   "metadata": {},
   "outputs": [
    {
     "data": {
      "text/plain": [
       "(125, 259, 224, 160)"
      ]
     },
     "execution_count": 60,
     "metadata": {},
     "output_type": "execute_result"
    }
   ],
   "source": [
    "N_init_infected, N_init_uninfected, N_fin_infected, N_fin_uninfected "
   ]
  },
  {
   "cell_type": "code",
   "execution_count": 67,
   "id": "9d9c3365-b853-4f03-88c7-af42b67d62eb",
   "metadata": {},
   "outputs": [
    {
     "data": {
      "text/plain": [
       "768"
      ]
     },
     "execution_count": 67,
     "metadata": {},
     "output_type": "execute_result"
    }
   ],
   "source": [
    "sum([N_init_infected, N_init_uninfected, N_fin_infected, N_fin_uninfected ])"
   ]
  },
  {
   "cell_type": "code",
   "execution_count": 18,
   "id": "c4c86001-7195-454c-afe9-13306a5b581a",
   "metadata": {},
   "outputs": [
    {
     "data": {
      "text/plain": [
       "(125, 259)"
      ]
     },
     "execution_count": 18,
     "metadata": {},
     "output_type": "execute_result"
    }
   ],
   "source": [
    "N_init_infected, N_init_uninfected #: Counts of initially infected and uninfected\n"
   ]
  },
  {
   "cell_type": "code",
   "execution_count": 19,
   "id": "47cb3081-9dfe-4b43-a26a-aac860a4ac8a",
   "metadata": {},
   "outputs": [
    {
     "data": {
      "text/plain": [
       "(224, 160)"
      ]
     },
     "execution_count": 19,
     "metadata": {},
     "output_type": "execute_result"
    }
   ],
   "source": [
    "N_fin_infected, N_fin_uninfected #: Counts of finally infected and uninfected\n"
   ]
  },
  {
   "cell_type": "code",
   "execution_count": 20,
   "id": "24cf4bf6-cbce-4d2d-a0df-203e45ca7f44",
   "metadata": {},
   "outputs": [
    {
     "data": {
      "text/plain": [
       "(111, 113, 146, 14)"
      ]
     },
     "execution_count": 20,
     "metadata": {},
     "output_type": "execute_result"
    }
   ],
   "source": [
    "N_stayed_infected, N_got_infected, N_stayed_uninfected, N_got_uninfected #: Transition counts"
   ]
  },
  {
   "cell_type": "code",
   "execution_count": 235,
   "id": "db6f930d-c67f-4419-a3a2-2b35321d4fa5",
   "metadata": {},
   "outputs": [
    {
     "data": {
      "application/vnd.plotly.v1+json": {
       "config": {
        "plotlyServerURL": "https://plot.ly"
       },
       "data": [
        {
         "link": {
          "color": [
           "rgba(208, 44, 145, 0.25)",
           "rgba(26, 150, 65, 0.25)",
           "rgba(241, 182, 218, 0.25)",
           "rgba(166, 217, 106, 0.25)"
          ],
          "source": [
           0,
           0,
           1,
           1
          ],
          "target": [
           2,
           3,
           2,
           3
          ],
          "value": [
           111,
           7,
           113,
           146
          ]
         },
         "node": {
          "color": [
           "#d02c91",
           "#1a9641",
           "#f1b6da",
           "#a6d96a"
          ],
          "label": [
           "<i>Initially</i> Infected",
           "<i>Initially</i> Uninfected",
           "<i>Finally</i> Infected",
           "<i>Finally</i> Uninfected"
          ],
          "line": {
           "color": "black",
           "width": 0.5
          },
          "pad": 15,
          "thickness": 20
         },
         "type": "sankey"
        }
       ],
       "layout": {
        "font": {
         "family": "Liberation Sans"
        },
        "height": 600,
        "template": {
         "data": {
          "bar": [
           {
            "error_x": {
             "color": "#2a3f5f"
            },
            "error_y": {
             "color": "#2a3f5f"
            },
            "marker": {
             "line": {
              "color": "#E5ECF6",
              "width": 0.5
             },
             "pattern": {
              "fillmode": "overlay",
              "size": 10,
              "solidity": 0.2
             }
            },
            "type": "bar"
           }
          ],
          "barpolar": [
           {
            "marker": {
             "line": {
              "color": "#E5ECF6",
              "width": 0.5
             },
             "pattern": {
              "fillmode": "overlay",
              "size": 10,
              "solidity": 0.2
             }
            },
            "type": "barpolar"
           }
          ],
          "carpet": [
           {
            "aaxis": {
             "endlinecolor": "#2a3f5f",
             "gridcolor": "white",
             "linecolor": "white",
             "minorgridcolor": "white",
             "startlinecolor": "#2a3f5f"
            },
            "baxis": {
             "endlinecolor": "#2a3f5f",
             "gridcolor": "white",
             "linecolor": "white",
             "minorgridcolor": "white",
             "startlinecolor": "#2a3f5f"
            },
            "type": "carpet"
           }
          ],
          "choropleth": [
           {
            "colorbar": {
             "outlinewidth": 0,
             "ticks": ""
            },
            "type": "choropleth"
           }
          ],
          "contour": [
           {
            "colorbar": {
             "outlinewidth": 0,
             "ticks": ""
            },
            "colorscale": [
             [
              0,
              "#0d0887"
             ],
             [
              0.1111111111111111,
              "#46039f"
             ],
             [
              0.2222222222222222,
              "#7201a8"
             ],
             [
              0.3333333333333333,
              "#9c179e"
             ],
             [
              0.4444444444444444,
              "#bd3786"
             ],
             [
              0.5555555555555556,
              "#d8576b"
             ],
             [
              0.6666666666666666,
              "#ed7953"
             ],
             [
              0.7777777777777778,
              "#fb9f3a"
             ],
             [
              0.8888888888888888,
              "#fdca26"
             ],
             [
              1,
              "#f0f921"
             ]
            ],
            "type": "contour"
           }
          ],
          "contourcarpet": [
           {
            "colorbar": {
             "outlinewidth": 0,
             "ticks": ""
            },
            "type": "contourcarpet"
           }
          ],
          "heatmap": [
           {
            "colorbar": {
             "outlinewidth": 0,
             "ticks": ""
            },
            "colorscale": [
             [
              0,
              "#0d0887"
             ],
             [
              0.1111111111111111,
              "#46039f"
             ],
             [
              0.2222222222222222,
              "#7201a8"
             ],
             [
              0.3333333333333333,
              "#9c179e"
             ],
             [
              0.4444444444444444,
              "#bd3786"
             ],
             [
              0.5555555555555556,
              "#d8576b"
             ],
             [
              0.6666666666666666,
              "#ed7953"
             ],
             [
              0.7777777777777778,
              "#fb9f3a"
             ],
             [
              0.8888888888888888,
              "#fdca26"
             ],
             [
              1,
              "#f0f921"
             ]
            ],
            "type": "heatmap"
           }
          ],
          "heatmapgl": [
           {
            "colorbar": {
             "outlinewidth": 0,
             "ticks": ""
            },
            "colorscale": [
             [
              0,
              "#0d0887"
             ],
             [
              0.1111111111111111,
              "#46039f"
             ],
             [
              0.2222222222222222,
              "#7201a8"
             ],
             [
              0.3333333333333333,
              "#9c179e"
             ],
             [
              0.4444444444444444,
              "#bd3786"
             ],
             [
              0.5555555555555556,
              "#d8576b"
             ],
             [
              0.6666666666666666,
              "#ed7953"
             ],
             [
              0.7777777777777778,
              "#fb9f3a"
             ],
             [
              0.8888888888888888,
              "#fdca26"
             ],
             [
              1,
              "#f0f921"
             ]
            ],
            "type": "heatmapgl"
           }
          ],
          "histogram": [
           {
            "marker": {
             "pattern": {
              "fillmode": "overlay",
              "size": 10,
              "solidity": 0.2
             }
            },
            "type": "histogram"
           }
          ],
          "histogram2d": [
           {
            "colorbar": {
             "outlinewidth": 0,
             "ticks": ""
            },
            "colorscale": [
             [
              0,
              "#0d0887"
             ],
             [
              0.1111111111111111,
              "#46039f"
             ],
             [
              0.2222222222222222,
              "#7201a8"
             ],
             [
              0.3333333333333333,
              "#9c179e"
             ],
             [
              0.4444444444444444,
              "#bd3786"
             ],
             [
              0.5555555555555556,
              "#d8576b"
             ],
             [
              0.6666666666666666,
              "#ed7953"
             ],
             [
              0.7777777777777778,
              "#fb9f3a"
             ],
             [
              0.8888888888888888,
              "#fdca26"
             ],
             [
              1,
              "#f0f921"
             ]
            ],
            "type": "histogram2d"
           }
          ],
          "histogram2dcontour": [
           {
            "colorbar": {
             "outlinewidth": 0,
             "ticks": ""
            },
            "colorscale": [
             [
              0,
              "#0d0887"
             ],
             [
              0.1111111111111111,
              "#46039f"
             ],
             [
              0.2222222222222222,
              "#7201a8"
             ],
             [
              0.3333333333333333,
              "#9c179e"
             ],
             [
              0.4444444444444444,
              "#bd3786"
             ],
             [
              0.5555555555555556,
              "#d8576b"
             ],
             [
              0.6666666666666666,
              "#ed7953"
             ],
             [
              0.7777777777777778,
              "#fb9f3a"
             ],
             [
              0.8888888888888888,
              "#fdca26"
             ],
             [
              1,
              "#f0f921"
             ]
            ],
            "type": "histogram2dcontour"
           }
          ],
          "mesh3d": [
           {
            "colorbar": {
             "outlinewidth": 0,
             "ticks": ""
            },
            "type": "mesh3d"
           }
          ],
          "parcoords": [
           {
            "line": {
             "colorbar": {
              "outlinewidth": 0,
              "ticks": ""
             }
            },
            "type": "parcoords"
           }
          ],
          "pie": [
           {
            "automargin": true,
            "type": "pie"
           }
          ],
          "scatter": [
           {
            "fillpattern": {
             "fillmode": "overlay",
             "size": 10,
             "solidity": 0.2
            },
            "type": "scatter"
           }
          ],
          "scatter3d": [
           {
            "line": {
             "colorbar": {
              "outlinewidth": 0,
              "ticks": ""
             }
            },
            "marker": {
             "colorbar": {
              "outlinewidth": 0,
              "ticks": ""
             }
            },
            "type": "scatter3d"
           }
          ],
          "scattercarpet": [
           {
            "marker": {
             "colorbar": {
              "outlinewidth": 0,
              "ticks": ""
             }
            },
            "type": "scattercarpet"
           }
          ],
          "scattergeo": [
           {
            "marker": {
             "colorbar": {
              "outlinewidth": 0,
              "ticks": ""
             }
            },
            "type": "scattergeo"
           }
          ],
          "scattergl": [
           {
            "marker": {
             "colorbar": {
              "outlinewidth": 0,
              "ticks": ""
             }
            },
            "type": "scattergl"
           }
          ],
          "scattermapbox": [
           {
            "marker": {
             "colorbar": {
              "outlinewidth": 0,
              "ticks": ""
             }
            },
            "type": "scattermapbox"
           }
          ],
          "scatterpolar": [
           {
            "marker": {
             "colorbar": {
              "outlinewidth": 0,
              "ticks": ""
             }
            },
            "type": "scatterpolar"
           }
          ],
          "scatterpolargl": [
           {
            "marker": {
             "colorbar": {
              "outlinewidth": 0,
              "ticks": ""
             }
            },
            "type": "scatterpolargl"
           }
          ],
          "scatterternary": [
           {
            "marker": {
             "colorbar": {
              "outlinewidth": 0,
              "ticks": ""
             }
            },
            "type": "scatterternary"
           }
          ],
          "surface": [
           {
            "colorbar": {
             "outlinewidth": 0,
             "ticks": ""
            },
            "colorscale": [
             [
              0,
              "#0d0887"
             ],
             [
              0.1111111111111111,
              "#46039f"
             ],
             [
              0.2222222222222222,
              "#7201a8"
             ],
             [
              0.3333333333333333,
              "#9c179e"
             ],
             [
              0.4444444444444444,
              "#bd3786"
             ],
             [
              0.5555555555555556,
              "#d8576b"
             ],
             [
              0.6666666666666666,
              "#ed7953"
             ],
             [
              0.7777777777777778,
              "#fb9f3a"
             ],
             [
              0.8888888888888888,
              "#fdca26"
             ],
             [
              1,
              "#f0f921"
             ]
            ],
            "type": "surface"
           }
          ],
          "table": [
           {
            "cells": {
             "fill": {
              "color": "#EBF0F8"
             },
             "line": {
              "color": "white"
             }
            },
            "header": {
             "fill": {
              "color": "#C8D4E3"
             },
             "line": {
              "color": "white"
             }
            },
            "type": "table"
           }
          ]
         },
         "layout": {
          "annotationdefaults": {
           "arrowcolor": "#2a3f5f",
           "arrowhead": 0,
           "arrowwidth": 1
          },
          "autotypenumbers": "strict",
          "coloraxis": {
           "colorbar": {
            "outlinewidth": 0,
            "ticks": ""
           }
          },
          "colorscale": {
           "diverging": [
            [
             0,
             "#8e0152"
            ],
            [
             0.1,
             "#c51b7d"
            ],
            [
             0.2,
             "#de77ae"
            ],
            [
             0.3,
             "#f1b6da"
            ],
            [
             0.4,
             "#fde0ef"
            ],
            [
             0.5,
             "#f7f7f7"
            ],
            [
             0.6,
             "#e6f5d0"
            ],
            [
             0.7,
             "#b8e186"
            ],
            [
             0.8,
             "#7fbc41"
            ],
            [
             0.9,
             "#4d9221"
            ],
            [
             1,
             "#276419"
            ]
           ],
           "sequential": [
            [
             0,
             "#0d0887"
            ],
            [
             0.1111111111111111,
             "#46039f"
            ],
            [
             0.2222222222222222,
             "#7201a8"
            ],
            [
             0.3333333333333333,
             "#9c179e"
            ],
            [
             0.4444444444444444,
             "#bd3786"
            ],
            [
             0.5555555555555556,
             "#d8576b"
            ],
            [
             0.6666666666666666,
             "#ed7953"
            ],
            [
             0.7777777777777778,
             "#fb9f3a"
            ],
            [
             0.8888888888888888,
             "#fdca26"
            ],
            [
             1,
             "#f0f921"
            ]
           ],
           "sequentialminus": [
            [
             0,
             "#0d0887"
            ],
            [
             0.1111111111111111,
             "#46039f"
            ],
            [
             0.2222222222222222,
             "#7201a8"
            ],
            [
             0.3333333333333333,
             "#9c179e"
            ],
            [
             0.4444444444444444,
             "#bd3786"
            ],
            [
             0.5555555555555556,
             "#d8576b"
            ],
            [
             0.6666666666666666,
             "#ed7953"
            ],
            [
             0.7777777777777778,
             "#fb9f3a"
            ],
            [
             0.8888888888888888,
             "#fdca26"
            ],
            [
             1,
             "#f0f921"
            ]
           ]
          },
          "colorway": [
           "#636efa",
           "#EF553B",
           "#00cc96",
           "#ab63fa",
           "#FFA15A",
           "#19d3f3",
           "#FF6692",
           "#B6E880",
           "#FF97FF",
           "#FECB52"
          ],
          "font": {
           "color": "#2a3f5f"
          },
          "geo": {
           "bgcolor": "white",
           "lakecolor": "white",
           "landcolor": "#E5ECF6",
           "showlakes": true,
           "showland": true,
           "subunitcolor": "white"
          },
          "hoverlabel": {
           "align": "left"
          },
          "hovermode": "closest",
          "mapbox": {
           "style": "light"
          },
          "paper_bgcolor": "white",
          "plot_bgcolor": "#E5ECF6",
          "polar": {
           "angularaxis": {
            "gridcolor": "white",
            "linecolor": "white",
            "ticks": ""
           },
           "bgcolor": "#E5ECF6",
           "radialaxis": {
            "gridcolor": "white",
            "linecolor": "white",
            "ticks": ""
           }
          },
          "scene": {
           "xaxis": {
            "backgroundcolor": "#E5ECF6",
            "gridcolor": "white",
            "gridwidth": 2,
            "linecolor": "white",
            "showbackground": true,
            "ticks": "",
            "zerolinecolor": "white"
           },
           "yaxis": {
            "backgroundcolor": "#E5ECF6",
            "gridcolor": "white",
            "gridwidth": 2,
            "linecolor": "white",
            "showbackground": true,
            "ticks": "",
            "zerolinecolor": "white"
           },
           "zaxis": {
            "backgroundcolor": "#E5ECF6",
            "gridcolor": "white",
            "gridwidth": 2,
            "linecolor": "white",
            "showbackground": true,
            "ticks": "",
            "zerolinecolor": "white"
           }
          },
          "shapedefaults": {
           "line": {
            "color": "#2a3f5f"
           }
          },
          "ternary": {
           "aaxis": {
            "gridcolor": "white",
            "linecolor": "white",
            "ticks": ""
           },
           "baxis": {
            "gridcolor": "white",
            "linecolor": "white",
            "ticks": ""
           },
           "bgcolor": "#E5ECF6",
           "caxis": {
            "gridcolor": "white",
            "linecolor": "white",
            "ticks": ""
           }
          },
          "title": {
           "x": 0.05
          },
          "xaxis": {
           "automargin": true,
           "gridcolor": "white",
           "linecolor": "white",
           "ticks": "",
           "title": {
            "standoff": 15
           },
           "zerolinecolor": "white",
           "zerolinewidth": 2
          },
          "yaxis": {
           "automargin": true,
           "gridcolor": "white",
           "linecolor": "white",
           "ticks": "",
           "title": {
            "standoff": 15
           },
           "zerolinecolor": "white",
           "zerolinewidth": 2
          }
         }
        },
        "title": {
         "font": {
          "size": 20
         },
         "text": "<b>Macrophage Infection State Transitions for control experiment (3,5)<b>"
        },
        "width": 800
       }
      },
      "image/png": "[encoded data removed]",
      "text/html": [
       "<div>                            <div id=\"664a10c7-0f7b-41d1-9118-68e475c5983f\" class=\"plotly-graph-div\" style=\"height:600px; width:800px;\"></div>            <script type=\"text/javascript\">                require([\"plotly\"], function(Plotly) {                    window.PLOTLYENV=window.PLOTLYENV || {};                                    if (document.getElementById(\"664a10c7-0f7b-41d1-9118-68e475c5983f\")) {                    Plotly.newPlot(                        \"664a10c7-0f7b-41d1-9118-68e475c5983f\",                        [{\"link\":{\"color\":[\"rgba(208, 44, 145, 0.25)\",\"rgba(26, 150, 65, 0.25)\",\"rgba(241, 182, 218, 0.25)\",\"rgba(166, 217, 106, 0.25)\"],\"source\":[0,0,1,1],\"target\":[2,3,2,3],\"value\":[111,7,113,146]},\"node\":{\"color\":[\"#d02c91\",\"#1a9641\",\"#f1b6da\",\"#a6d96a\"],\"label\":[\"<i>Initially</i> Infected\",\"<i>Initially</i> Uninfected\",\"<i>Finally</i> Infected\",\"<i>Finally</i> Uninfected\"],\"line\":{\"color\":\"black\",\"width\":0.5},\"pad\":15,\"thickness\":20},\"type\":\"sankey\"}],                        {\"template\":{\"data\":{\"histogram2dcontour\":[{\"type\":\"histogram2dcontour\",\"colorbar\":{\"outlinewidth\":0,\"ticks\":\"\"},\"colorscale\":[[0.0,\"#0d0887\"],[0.1111111111111111,\"#46039f\"],[0.2222222222222222,\"#7201a8\"],[0.3333333333333333,\"#9c179e\"],[0.4444444444444444,\"#bd3786\"],[0.5555555555555556,\"#d8576b\"],[0.6666666666666666,\"#ed7953\"],[0.7777777777777778,\"#fb9f3a\"],[0.8888888888888888,\"#fdca26\"],[1.0,\"#f0f921\"]]}],\"choropleth\":[{\"type\":\"choropleth\",\"colorbar\":{\"outlinewidth\":0,\"ticks\":\"\"}}],\"histogram2d\":[{\"type\":\"histogram2d\",\"colorbar\":{\"outlinewidth\":0,\"ticks\":\"\"},\"colorscale\":[[0.0,\"#0d0887\"],[0.1111111111111111,\"#46039f\"],[0.2222222222222222,\"#7201a8\"],[0.3333333333333333,\"#9c179e\"],[0.4444444444444444,\"#bd3786\"],[0.5555555555555556,\"#d8576b\"],[0.6666666666666666,\"#ed7953\"],[0.7777777777777778,\"#fb9f3a\"],[0.8888888888888888,\"#fdca26\"],[1.0,\"#f0f921\"]]}],\"heatmap\":[{\"type\":\"heatmap\",\"colorbar\":{\"outlinewidth\":0,\"ticks\":\"\"},\"colorscale\":[[0.0,\"#0d0887\"],[0.1111111111111111,\"#46039f\"],[0.2222222222222222,\"#7201a8\"],[0.3333333333333333,\"#9c179e\"],[0.4444444444444444,\"#bd3786\"],[0.5555555555555556,\"#d8576b\"],[0.6666666666666666,\"#ed7953\"],[0.7777777777777778,\"#fb9f3a\"],[0.8888888888888888,\"#fdca26\"],[1.0,\"#f0f921\"]]}],\"heatmapgl\":[{\"type\":\"heatmapgl\",\"colorbar\":{\"outlinewidth\":0,\"ticks\":\"\"},\"colorscale\":[[0.0,\"#0d0887\"],[0.1111111111111111,\"#46039f\"],[0.2222222222222222,\"#7201a8\"],[0.3333333333333333,\"#9c179e\"],[0.4444444444444444,\"#bd3786\"],[0.5555555555555556,\"#d8576b\"],[0.6666666666666666,\"#ed7953\"],[0.7777777777777778,\"#fb9f3a\"],[0.8888888888888888,\"#fdca26\"],[1.0,\"#f0f921\"]]}],\"contourcarpet\":[{\"type\":\"contourcarpet\",\"colorbar\":{\"outlinewidth\":0,\"ticks\":\"\"}}],\"contour\":[{\"type\":\"contour\",\"colorbar\":{\"outlinewidth\":0,\"ticks\":\"\"},\"colorscale\":[[0.0,\"#0d0887\"],[0.1111111111111111,\"#46039f\"],[0.2222222222222222,\"#7201a8\"],[0.3333333333333333,\"#9c179e\"],[0.4444444444444444,\"#bd3786\"],[0.5555555555555556,\"#d8576b\"],[0.6666666666666666,\"#ed7953\"],[0.7777777777777778,\"#fb9f3a\"],[0.8888888888888888,\"#fdca26\"],[1.0,\"#f0f921\"]]}],\"surface\":[{\"type\":\"surface\",\"colorbar\":{\"outlinewidth\":0,\"ticks\":\"\"},\"colorscale\":[[0.0,\"#0d0887\"],[0.1111111111111111,\"#46039f\"],[0.2222222222222222,\"#7201a8\"],[0.3333333333333333,\"#9c179e\"],[0.4444444444444444,\"#bd3786\"],[0.5555555555555556,\"#d8576b\"],[0.6666666666666666,\"#ed7953\"],[0.7777777777777778,\"#fb9f3a\"],[0.8888888888888888,\"#fdca26\"],[1.0,\"#f0f921\"]]}],\"mesh3d\":[{\"type\":\"mesh3d\",\"colorbar\":{\"outlinewidth\":0,\"ticks\":\"\"}}],\"scatter\":[{\"fillpattern\":{\"fillmode\":\"overlay\",\"size\":10,\"solidity\":0.2},\"type\":\"scatter\"}],\"parcoords\":[{\"type\":\"parcoords\",\"line\":{\"colorbar\":{\"outlinewidth\":0,\"ticks\":\"\"}}}],\"scatterpolargl\":[{\"type\":\"scatterpolargl\",\"marker\":{\"colorbar\":{\"outlinewidth\":0,\"ticks\":\"\"}}}],\"bar\":[{\"error_x\":{\"color\":\"#2a3f5f\"},\"error_y\":{\"color\":\"#2a3f5f\"},\"marker\":{\"line\":{\"color\":\"#E5ECF6\",\"width\":0.5},\"pattern\":{\"fillmode\":\"overlay\",\"size\":10,\"solidity\":0.2}},\"type\":\"bar\"}],\"scattergeo\":[{\"type\":\"scattergeo\",\"marker\":{\"colorbar\":{\"outlinewidth\":0,\"ticks\":\"\"}}}],\"scatterpolar\":[{\"type\":\"scatterpolar\",\"marker\":{\"colorbar\":{\"outlinewidth\":0,\"ticks\":\"\"}}}],\"histogram\":[{\"marker\":{\"pattern\":{\"fillmode\":\"overlay\",\"size\":10,\"solidity\":0.2}},\"type\":\"histogram\"}],\"scattergl\":[{\"type\":\"scattergl\",\"marker\":{\"colorbar\":{\"outlinewidth\":0,\"ticks\":\"\"}}}],\"scatter3d\":[{\"type\":\"scatter3d\",\"line\":{\"colorbar\":{\"outlinewidth\":0,\"ticks\":\"\"}},\"marker\":{\"colorbar\":{\"outlinewidth\":0,\"ticks\":\"\"}}}],\"scattermapbox\":[{\"type\":\"scattermapbox\",\"marker\":{\"colorbar\":{\"outlinewidth\":0,\"ticks\":\"\"}}}],\"scatterternary\":[{\"type\":\"scatterternary\",\"marker\":{\"colorbar\":{\"outlinewidth\":0,\"ticks\":\"\"}}}],\"scattercarpet\":[{\"type\":\"scattercarpet\",\"marker\":{\"colorbar\":{\"outlinewidth\":0,\"ticks\":\"\"}}}],\"carpet\":[{\"aaxis\":{\"endlinecolor\":\"#2a3f5f\",\"gridcolor\":\"white\",\"linecolor\":\"white\",\"minorgridcolor\":\"white\",\"startlinecolor\":\"#2a3f5f\"},\"baxis\":{\"endlinecolor\":\"#2a3f5f\",\"gridcolor\":\"white\",\"linecolor\":\"white\",\"minorgridcolor\":\"white\",\"startlinecolor\":\"#2a3f5f\"},\"type\":\"carpet\"}],\"table\":[{\"cells\":{\"fill\":{\"color\":\"#EBF0F8\"},\"line\":{\"color\":\"white\"}},\"header\":{\"fill\":{\"color\":\"#C8D4E3\"},\"line\":{\"color\":\"white\"}},\"type\":\"table\"}],\"barpolar\":[{\"marker\":{\"line\":{\"color\":\"#E5ECF6\",\"width\":0.5},\"pattern\":{\"fillmode\":\"overlay\",\"size\":10,\"solidity\":0.2}},\"type\":\"barpolar\"}],\"pie\":[{\"automargin\":true,\"type\":\"pie\"}]},\"layout\":{\"autotypenumbers\":\"strict\",\"colorway\":[\"#636efa\",\"#EF553B\",\"#00cc96\",\"#ab63fa\",\"#FFA15A\",\"#19d3f3\",\"#FF6692\",\"#B6E880\",\"#FF97FF\",\"#FECB52\"],\"font\":{\"color\":\"#2a3f5f\"},\"hovermode\":\"closest\",\"hoverlabel\":{\"align\":\"left\"},\"paper_bgcolor\":\"white\",\"plot_bgcolor\":\"#E5ECF6\",\"polar\":{\"bgcolor\":\"#E5ECF6\",\"angularaxis\":{\"gridcolor\":\"white\",\"linecolor\":\"white\",\"ticks\":\"\"},\"radialaxis\":{\"gridcolor\":\"white\",\"linecolor\":\"white\",\"ticks\":\"\"}},\"ternary\":{\"bgcolor\":\"#E5ECF6\",\"aaxis\":{\"gridcolor\":\"white\",\"linecolor\":\"white\",\"ticks\":\"\"},\"baxis\":{\"gridcolor\":\"white\",\"linecolor\":\"white\",\"ticks\":\"\"},\"caxis\":{\"gridcolor\":\"white\",\"linecolor\":\"white\",\"ticks\":\"\"}},\"coloraxis\":{\"colorbar\":{\"outlinewidth\":0,\"ticks\":\"\"}},\"colorscale\":{\"sequential\":[[0.0,\"#0d0887\"],[0.1111111111111111,\"#46039f\"],[0.2222222222222222,\"#7201a8\"],[0.3333333333333333,\"#9c179e\"],[0.4444444444444444,\"#bd3786\"],[0.5555555555555556,\"#d8576b\"],[0.6666666666666666,\"#ed7953\"],[0.7777777777777778,\"#fb9f3a\"],[0.8888888888888888,\"#fdca26\"],[1.0,\"#f0f921\"]],\"sequentialminus\":[[0.0,\"#0d0887\"],[0.1111111111111111,\"#46039f\"],[0.2222222222222222,\"#7201a8\"],[0.3333333333333333,\"#9c179e\"],[0.4444444444444444,\"#bd3786\"],[0.5555555555555556,\"#d8576b\"],[0.6666666666666666,\"#ed7953\"],[0.7777777777777778,\"#fb9f3a\"],[0.8888888888888888,\"#fdca26\"],[1.0,\"#f0f921\"]],\"diverging\":[[0,\"#8e0152\"],[0.1,\"#c51b7d\"],[0.2,\"#de77ae\"],[0.3,\"#f1b6da\"],[0.4,\"#fde0ef\"],[0.5,\"#f7f7f7\"],[0.6,\"#e6f5d0\"],[0.7,\"#b8e186\"],[0.8,\"#7fbc41\"],[0.9,\"#4d9221\"],[1,\"#276419\"]]},\"xaxis\":{\"gridcolor\":\"white\",\"linecolor\":\"white\",\"ticks\":\"\",\"title\":{\"standoff\":15},\"zerolinecolor\":\"white\",\"automargin\":true,\"zerolinewidth\":2},\"yaxis\":{\"gridcolor\":\"white\",\"linecolor\":\"white\",\"ticks\":\"\",\"title\":{\"standoff\":15},\"zerolinecolor\":\"white\",\"automargin\":true,\"zerolinewidth\":2},\"scene\":{\"xaxis\":{\"backgroundcolor\":\"#E5ECF6\",\"gridcolor\":\"white\",\"linecolor\":\"white\",\"showbackground\":true,\"ticks\":\"\",\"zerolinecolor\":\"white\",\"gridwidth\":2},\"yaxis\":{\"backgroundcolor\":\"#E5ECF6\",\"gridcolor\":\"white\",\"linecolor\":\"white\",\"showbackground\":true,\"ticks\":\"\",\"zerolinecolor\":\"white\",\"gridwidth\":2},\"zaxis\":{\"backgroundcolor\":\"#E5ECF6\",\"gridcolor\":\"white\",\"linecolor\":\"white\",\"showbackground\":true,\"ticks\":\"\",\"zerolinecolor\":\"white\",\"gridwidth\":2}},\"shapedefaults\":{\"line\":{\"color\":\"#2a3f5f\"}},\"annotationdefaults\":{\"arrowcolor\":\"#2a3f5f\",\"arrowhead\":0,\"arrowwidth\":1},\"geo\":{\"bgcolor\":\"white\",\"landcolor\":\"#E5ECF6\",\"subunitcolor\":\"white\",\"showland\":true,\"showlakes\":true,\"lakecolor\":\"white\"},\"title\":{\"x\":0.05},\"mapbox\":{\"style\":\"light\"}}},\"title\":{\"font\":{\"size\":20},\"text\":\"<b>Macrophage Infection State Transitions for control experiment (3,5)<b>\"},\"font\":{\"family\":\"Liberation Sans\"},\"width\":800,\"height\":600},                        {\"responsive\": true}                    ).then(function(){\n",
       "                            \n",
       "var gd = document.getElementById('664a10c7-0f7b-41d1-9118-68e475c5983f');\n",
       "var x = new MutationObserver(function (mutations, observer) {{\n",
       "        var display = window.getComputedStyle(gd).display;\n",
       "        if (!display || display === 'none') {{\n",
       "            console.log([gd, 'removed!']);\n",
       "            Plotly.purge(gd);\n",
       "            observer.disconnect();\n",
       "        }}\n",
       "}});\n",
       "\n",
       "// Listen for the removal of the full notebook cells\n",
       "var notebookContainer = gd.closest('#notebook-container');\n",
       "if (notebookContainer) {{\n",
       "    x.observe(notebookContainer, {childList: true});\n",
       "}}\n",
       "\n",
       "// Listen for the clearing of the current output cell\n",
       "var outputEl = gd.closest('.output');\n",
       "if (outputEl) {{\n",
       "    x.observe(outputEl, {childList: true});\n",
       "}}\n",
       "\n",
       "                        })                };                });            </script>        </div>"
      ]
     },
     "metadata": {},
     "output_type": "display_data"
    }
   ],
   "source": [
    "\n",
    "# Define source, target, and value for Sankey diagram\n",
    "source = [0, 0, 1, 1]  # 0: Initially Infected, 1: Initially Uninfected\n",
    "target = [2, 3, 2, 3]  # 2: Finally Infected, 3: Finally Uninfected\n",
    "value = [\n",
    "    N_stayed_infected,     # Initially Infected -> Finally Infected\n",
    "    N_got_uninfected,      # Initially Infected -> Finally Uninfected\n",
    "    N_got_infected,        # Initially Uninfected -> Finally Infected\n",
    "    N_stayed_uninfected    # Initially Uninfected -> Finally Uninfected\n",
    "]\n",
    "# Assuming colours.expanded_piyg is a list of hex colors\n",
    "link_colors = [f'rgba({int(color[1:3], 16)}, {int(color[3:5], 16)}, {int(color[5:7], 16)}, 0.25)' for color in [colours.expanded_piyg[i] for i in [-1, 0, -2, 1]]]\n",
    "\n",
    "# Define labels for nodes\n",
    "labels = [\"<i>Initially</i> Infected\", \"<i>Initially</i> Uninfected\", \"<i>Finally</i> Infected\", \"<i>Finally</i> Uninfected\"]\n",
    "node_colors =  [colours.expanded_piyg[i] for i in [-1,0, -2, 1]] #['blue', 'green', 'red', 'yellow']  # Example node colors\n",
    "\n",
    "# Create the Sankey diagram\n",
    "fig = go.Figure(data=[go.Sankey(\n",
    "    node=dict(\n",
    "        pad=15,\n",
    "        thickness=20,\n",
    "        line=dict(color=\"black\", width=0.5),\n",
    "        label=labels,        \n",
    "        color=node_colors  # Set node colors\n",
    "\n",
    "    ),\n",
    "    link=dict(\n",
    "        source=source,\n",
    "        target=target,\n",
    "        value=value, \n",
    "        color=link_colors\n",
    "    ))])\n",
    "\n",
    "fig.update_layout(\n",
    "    title_text=\"Macrophage Infection State Transitions for control experiment (3,5)\",\n",
    "    # font_size=12,\n",
    "    width=800,  # Set the width of the figure\n",
    "    height=600,  # Set the height of the figure\n",
    "    font_family=\"Liberation Sans\", \n",
    "    title=dict(text=\"<b>Macrophage Infection State Transitions for control experiment (3,5)<b>\", font=dict(size=20),)\n",
    ")\n",
    "\n",
    "fig.write_html(\"WIP-sankey-diagram.html\")\n",
    "fig.show()"
   ]
  },
  {
   "cell_type": "markdown",
   "id": "579cb75b-9310-44a3-9b90-e3509dbed5ed",
   "metadata": {},
   "source": [
    "### Why are cells becoming UNinfected? "
   ]
  },
  {
   "cell_type": "code",
   "execution_count": 22,
   "id": "2c6c49ce-b5c5-469e-ac31-6580f268a4de",
   "metadata": {},
   "outputs": [
    {
     "data": {
      "text/plain": [
       "['507.3.5',\n",
       " '536.3.5',\n",
       " '93.3.5',\n",
       " '1539.3.5',\n",
       " '592.3.5',\n",
       " '616.3.5',\n",
       " '112.3.5',\n",
       " '285.3.5',\n",
       " '297.3.5',\n",
       " '310.3.5',\n",
       " '1335.3.5',\n",
       " '1356.3.5',\n",
       " '432.3.5',\n",
       " '441.3.5']"
      ]
     },
     "execution_count": 22,
     "metadata": {},
     "output_type": "execute_result"
    }
   ],
   "source": [
    "trackIDs_got_uninfected"
   ]
  },
  {
   "cell_type": "markdown",
   "id": "a4bc57b8-59c5-48d5-b08c-2b97c667f7c0",
   "metadata": {},
   "source": [
    "#### Recording the actual fate of these cells"
   ]
  },
  {
   "cell_type": "code",
   "execution_count": 25,
   "id": "4e04f4b5-db15-4e10-8383-9cf9904b87aa",
   "metadata": {},
   "outputs": [],
   "source": [
    "actual_fate = {432:'death',\n",
    "               441:'death',\n",
    "               1356:'death',\n",
    "               1335:'ID_switch',\n",
    "               310:'unknown',\n",
    "               297:'unknown',\n",
    "               285:'efferocytosis',\n",
    "               112:'death',\n",
    "               616:'lost',\n",
    "               592:'ID_switch', \n",
    "               1539:'ID_switch',\n",
    "               93:'ID_switch',\n",
    "               536:'why is this classified as finally uninfected?',\n",
    "               507:'death'}"
   ]
  },
  {
   "cell_type": "markdown",
   "id": "b13b5067-90c0-4579-a06a-a2c2e2e522a6",
   "metadata": {},
   "source": [
    "## Find a way of automatically classifying cell death\n",
    "\n",
    "Then will be in a better position to assess if the ID switches in last couple of frames are problematic or can be assigned cell death"
   ]
  },
  {
   "cell_type": "markdown",
   "id": "84c742a9-149b-4c9d-ac2a-70fe07a0ec90",
   "metadata": {
    "jp-MarkdownHeadingCollapsed": true
   },
   "source": [
    "#### Idea #1 Sudden position change (doesn't work)"
   ]
  },
  {
   "cell_type": "code",
   "execution_count": 26,
   "id": "bf9f05db-cefe-4c26-b129-4f2a9071bf61",
   "metadata": {},
   "outputs": [
    {
     "name": "stderr",
     "output_type": "stream",
     "text": [
      "/home/dayn/miniconda3/envs/brassica/lib/python3.9/site-packages/seaborn/_oldcore.py:1119: FutureWarning:\n",
      "\n",
      "use_inf_as_na option is deprecated and will be removed in a future version. Convert inf values to NaN before operating instead.\n",
      "\n",
      "/home/dayn/miniconda3/envs/brassica/lib/python3.9/site-packages/seaborn/_oldcore.py:1119: FutureWarning:\n",
      "\n",
      "use_inf_as_na option is deprecated and will be removed in a future version. Convert inf values to NaN before operating instead.\n",
      "\n"
     ]
    },
    {
     "data": {
      "text/plain": [
       "<Axes: ylabel='MSD'>"
      ]
     },
     "execution_count": 26,
     "metadata": {},
     "output_type": "execute_result"
    },
    {
     "data": {
      "image/png": "[encoded data removed]",
      "text/plain": [
       "<Figure size 640x480 with 1 Axes>"
      ]
     },
     "metadata": {},
     "output_type": "display_data"
    }
   ],
   "source": [
    "sns.lineplot(df[df['Unique ID'] == '507.3.5']['MSD'])"
   ]
  },
  {
   "cell_type": "code",
   "execution_count": 27,
   "id": "6db2f8bd-5e96-4b0e-b895-cc511dae5a41",
   "metadata": {},
   "outputs": [
    {
     "name": "stderr",
     "output_type": "stream",
     "text": [
      "/home/dayn/miniconda3/envs/brassica/lib/python3.9/site-packages/seaborn/_oldcore.py:1119: FutureWarning:\n",
      "\n",
      "use_inf_as_na option is deprecated and will be removed in a future version. Convert inf values to NaN before operating instead.\n",
      "\n",
      "/home/dayn/miniconda3/envs/brassica/lib/python3.9/site-packages/seaborn/_oldcore.py:1119: FutureWarning:\n",
      "\n",
      "use_inf_as_na option is deprecated and will be removed in a future version. Convert inf values to NaN before operating instead.\n",
      "\n",
      "/home/dayn/miniconda3/envs/brassica/lib/python3.9/site-packages/seaborn/_oldcore.py:1119: FutureWarning:\n",
      "\n",
      "use_inf_as_na option is deprecated and will be removed in a future version. Convert inf values to NaN before operating instead.\n",
      "\n",
      "/home/dayn/miniconda3/envs/brassica/lib/python3.9/site-packages/seaborn/_oldcore.py:1119: FutureWarning:\n",
      "\n",
      "use_inf_as_na option is deprecated and will be removed in a future version. Convert inf values to NaN before operating instead.\n",
      "\n",
      "/home/dayn/miniconda3/envs/brassica/lib/python3.9/site-packages/seaborn/_oldcore.py:1119: FutureWarning:\n",
      "\n",
      "use_inf_as_na option is deprecated and will be removed in a future version. Convert inf values to NaN before operating instead.\n",
      "\n",
      "/home/dayn/miniconda3/envs/brassica/lib/python3.9/site-packages/seaborn/_oldcore.py:1119: FutureWarning:\n",
      "\n",
      "use_inf_as_na option is deprecated and will be removed in a future version. Convert inf values to NaN before operating instead.\n",
      "\n",
      "/home/dayn/miniconda3/envs/brassica/lib/python3.9/site-packages/seaborn/_oldcore.py:1119: FutureWarning:\n",
      "\n",
      "use_inf_as_na option is deprecated and will be removed in a future version. Convert inf values to NaN before operating instead.\n",
      "\n",
      "/home/dayn/miniconda3/envs/brassica/lib/python3.9/site-packages/seaborn/_oldcore.py:1119: FutureWarning:\n",
      "\n",
      "use_inf_as_na option is deprecated and will be removed in a future version. Convert inf values to NaN before operating instead.\n",
      "\n",
      "/home/dayn/miniconda3/envs/brassica/lib/python3.9/site-packages/seaborn/_oldcore.py:1119: FutureWarning:\n",
      "\n",
      "use_inf_as_na option is deprecated and will be removed in a future version. Convert inf values to NaN before operating instead.\n",
      "\n",
      "/home/dayn/miniconda3/envs/brassica/lib/python3.9/site-packages/seaborn/_oldcore.py:1119: FutureWarning:\n",
      "\n",
      "use_inf_as_na option is deprecated and will be removed in a future version. Convert inf values to NaN before operating instead.\n",
      "\n"
     ]
    },
    {
     "name": "stdout",
     "output_type": "stream",
     "text": [
      "5.625354952064658\n",
      "4.577640252997138\n",
      "8.746086251583042\n",
      "7.549598815135756\n",
      "4.46653886380092\n"
     ]
    },
    {
     "data": {
      "image/png": "[encoded data removed]",
      "text/plain": [
       "<Figure size 640x480 with 1 Axes>"
      ]
     },
     "metadata": {},
     "output_type": "display_data"
    }
   ],
   "source": [
    "for i in [1335,616,592,1539,93]:\n",
    "    ID = str(i)+'.3.5'\n",
    "    subset_df = df[df['Unique ID'] == ID]\n",
    "    sns.lineplot(data = subset_df, x = 'Time (hours)', y = 'MSD', label = i)\n",
    "    average_MSD = subset_df['MSD'].mean()\n",
    "    print(average_MSD)"
   ]
  },
  {
   "cell_type": "code",
   "execution_count": 28,
   "id": "87a61703-2e61-4968-989b-b4ea4be69ef8",
   "metadata": {
    "scrolled": true
   },
   "outputs": [
    {
     "name": "stdout",
     "output_type": "stream",
     "text": [
      "19.252255564084155 2.8697947158322497 2.59224372259803 336.3.5\n",
      "39.88859271934487 5.897799649768108 5.480536255835153 401.3.5\n",
      "24.992365121733112 3.8833496024332144 3.484262039598977 459.3.5\n",
      "39.56796106749707 4.70381931349342 5.097957882558075 507.3.5\n",
      "39.91275188361972 5.569993939492445 5.595830608030695 77.3.5\n",
      "35.7296567039952 4.03710602362287 5.278632527411179 1611.3.5\n"
     ]
    }
   ],
   "source": [
    "IDs = []\n",
    "for ID in df['Unique ID'].unique():\n",
    "    subset_df = df[df['Unique ID'] == ID]\n",
    "    average_MSD = subset_df['MSD'].mean()\n",
    "    std_MSD = subset_df['MSD'].std()\n",
    "    if subset_df['MSD'].max() > (average_MSD + 6* std_MSD):\n",
    "        print(subset_df['MSD'].max(), average_MSD, std_MSD, ID)\n",
    "        IDs.append(ID)\n",
    "    # threshold = average_MSD + 2* std_MSD\n",
    "    # print(threshold, ID)\n",
    "    # unusual_tracks = df[df['MSD'] > threshold]\n",
    "    # unusual_tracks['Unique ID'].unique()\n",
    "    # break"
   ]
  },
  {
   "cell_type": "code",
   "execution_count": 29,
   "id": "8a1ebebe-ad5e-40d5-b333-1f58b147feed",
   "metadata": {},
   "outputs": [
    {
     "data": {
      "text/plain": [
       "['336.3.5', '401.3.5', '459.3.5', '507.3.5', '77.3.5', '1611.3.5']"
      ]
     },
     "execution_count": 29,
     "metadata": {},
     "output_type": "execute_result"
    }
   ],
   "source": [
    "IDs"
   ]
  },
  {
   "cell_type": "code",
   "execution_count": 30,
   "id": "aade7f43-f412-4977-9cc0-e1eb17650dd4",
   "metadata": {},
   "outputs": [
    {
     "ename": "NameError",
     "evalue": "name 'unusual_tracks' is not defined",
     "output_type": "error",
     "traceback": [
      "\u001b[0;31m---------------------------------------------------------------------------\u001b[0m",
      "\u001b[0;31mNameError\u001b[0m                                 Traceback (most recent call last)",
      "Cell \u001b[0;32mIn[30], line 2\u001b[0m\n\u001b[1;32m      1\u001b[0m msds \u001b[38;5;241m=\u001b[39m []\n\u001b[0;32m----> 2\u001b[0m \u001b[38;5;28;01mfor\u001b[39;00m ID \u001b[38;5;129;01min\u001b[39;00m \u001b[43munusual_tracks\u001b[49m[\u001b[38;5;124m'\u001b[39m\u001b[38;5;124mUnique ID\u001b[39m\u001b[38;5;124m'\u001b[39m]\u001b[38;5;241m.\u001b[39munique():\n\u001b[1;32m      3\u001b[0m     msds\u001b[38;5;241m.\u001b[39mappend(unusual_tracks[unusual_tracks[\u001b[38;5;124m'\u001b[39m\u001b[38;5;124mUnique ID\u001b[39m\u001b[38;5;124m'\u001b[39m] \u001b[38;5;241m==\u001b[39m ID][\u001b[38;5;124m'\u001b[39m\u001b[38;5;124mMSD\u001b[39m\u001b[38;5;124m'\u001b[39m]\u001b[38;5;241m.\u001b[39mmean())\n\u001b[1;32m      4\u001b[0m sns\u001b[38;5;241m.\u001b[39mhistplot(msds)\n",
      "\u001b[0;31mNameError\u001b[0m: name 'unusual_tracks' is not defined"
     ]
    }
   ],
   "source": [
    "msds = []\n",
    "for ID in unusual_tracks['Unique ID'].unique():\n",
    "    msds.append(unusual_tracks[unusual_tracks['Unique ID'] == ID]['MSD'].mean())\n",
    "sns.histplot(msds)"
   ]
  },
  {
   "cell_type": "code",
   "execution_count": null,
   "id": "436bde77-2650-4986-aa4f-d1ad1e755c31",
   "metadata": {},
   "outputs": [],
   "source": [
    "msds = []\n",
    "for ID in df['Unique ID'].unique():\n",
    "    msds.append(df[df['Unique ID'] == ID]['MSD'].mean())\n",
    "sns.histplot(msds)"
   ]
  },
  {
   "cell_type": "code",
   "execution_count": null,
   "id": "22b8c5da-8d6e-46b2-bb88-2fb04bd4f3d2",
   "metadata": {},
   "outputs": [],
   "source": [
    "unique_ids = ['93.3.5', '1335.3.5', '616.3.5', '592.3.5', '1539.3.5', '93.3.5']\n",
    "are_all_ids_present = all(id in unusual_tracks['Unique ID'].unique() for id in unique_ids)\n",
    "\n",
    "print(\"Are all unique IDs present in the unusual tracks?:\", are_all_ids_present)\n",
    "present_ids = [id for id in unique_ids if id in unusual_tracks['Unique ID'].unique()]\n",
    "count_present_ids = len(present_ids)\n",
    "print(\"Present IDs:\", present_ids)\n"
   ]
  },
  {
   "cell_type": "code",
   "execution_count": null,
   "id": "2e8546e5-ca05-4b14-ba3d-540249c6f975",
   "metadata": {},
   "outputs": [],
   "source": [
    "threshold"
   ]
  },
  {
   "cell_type": "markdown",
   "id": "9aca5b64-0ce0-4ca1-bd5b-e9b7aba05800",
   "metadata": {
    "jp-MarkdownHeadingCollapsed": true
   },
   "source": [
    "### Idea #2 Drop in gfp?"
   ]
  },
  {
   "cell_type": "code",
   "execution_count": null,
   "id": "b5b8a5be-2296-4d77-9859-7d5eb849dacd",
   "metadata": {
    "scrolled": true
   },
   "outputs": [],
   "source": [
    "\n",
    "for unique_ID in trackIDs_got_uninfected:\n",
    "    subset_df = df[df['Unique ID'] == unique_ID]\n",
    "    sns.lineplot(data = subset_df, \n",
    "         y = 'Mphi GFP', \n",
    "         x = 'Time (hours)', \n",
    "         # label = unique_ID+' Mtb'\n",
    "        )"
   ]
  },
  {
   "cell_type": "markdown",
   "id": "2d855c29-ea49-491e-b0da-3d3f89cc73bd",
   "metadata": {},
   "source": [
    "### Idea #3 drop in area combined with loss of gfp\n",
    "\n",
    "\n",
    "Loss of GFP will happen at the end of the track life time, 3sd below average is currently good, 2sd below is too much... 2.5 too, what if I coupple this with a track ending early?"
   ]
  },
  {
   "cell_type": "code",
   "execution_count": 35,
   "id": "37e51a06-f636-46b6-8bc2-66c0630ce2b1",
   "metadata": {},
   "outputs": [
    {
     "data": {
      "text/plain": [
       "Index(['Time (hours)', 'Strain', 'Compound', 'Concentration', 'Unique ID',\n",
       "       'Acquisition ID', 'Cell ID', 'Mphi Area', 'Mphi GFP', 'x', 'y',\n",
       "       'Eccentricity', 'MSD', 'Technical Replicate', 'Strain/Compound',\n",
       "       'Mtb Area µm2', 'Mtb RFP', 'Mtb RFP thresholded'],\n",
       "      dtype='object')"
      ]
     },
     "execution_count": 35,
     "metadata": {},
     "output_type": "execute_result"
    }
   ],
   "source": [
    "subset_df.keys()"
   ]
  },
  {
   "cell_type": "code",
   "execution_count": 36,
   "id": "5a10356b-8598-48ea-97db-9e4e0b2c7e93",
   "metadata": {
    "scrolled": true
   },
   "outputs": [
    {
     "name": "stdout",
     "output_type": "stream",
     "text": [
      "13878.0 58817.426666666666 13718.053476609468 444.3.5\n",
      "30086.0 59791.16216216216 6735.364437825878 530.3.5\n",
      "18707.0 69287.41333333333 13017.228475820486 542.3.5\n",
      "13593.0 61879.05405405405 14228.598819040562 552.3.5\n",
      "21924.0 52276.333333333336 10779.02601944758 602.3.5\n",
      "15414.0 64446.96363636364 15191.44908110607 1118.3.5\n",
      "12394.0 38012.21875 8198.069099932125 1129.3.5\n",
      "2036.0 16072.658536585366 3857.5332183259034 628.3.5\n",
      "3016.0 21839.310344827587 5600.647884100095 642.3.5\n",
      "4787.0 25458.083333333332 6809.588309822801 131.3.5\n",
      "4540.0 22679.126984126986 5821.47350677357 204.3.5\n",
      "12696.0 128198.68253968254 34931.332811594344 1356.3.5\n",
      "7093.0 25920.26984126984 5187.906368712469 344.3.5\n",
      "20346.0 33412.5 4408.763335160387 410.3.5\n",
      "11953.0 39067.333333333336 6823.153896948923 461.3.5\n",
      "39174.0 104000.83606557376 12905.309667187803 997.3.5\n",
      "51144.0 88981.25 10388.504871918798 493.3.5\n"
     ]
    }
   ],
   "source": [
    "IDs = []\n",
    "for ID in df['Unique ID'].unique():\n",
    "    subset_df = df[df['Unique ID'] == ID]\n",
    "    average_area = subset_df['Mphi Area'].mean()\n",
    "    std_area = subset_df['Mphi Area'].std()\n",
    "    if subset_df['Mphi Area'].min() < (average_area - 2.75 * std_area):\n",
    "        if subset_df['Mphi Area'].min() in subset_df['Mphi Area'].iloc[-10:].values:\n",
    "            print(subset_df['Mphi Area'].min(), average_area, std_area, ID)\n",
    "            IDs.append(ID)"
   ]
  },
  {
   "cell_type": "code",
   "execution_count": 731,
   "id": "6cade8f2-97d2-47d4-9149-a7f9869c8e3d",
   "metadata": {},
   "outputs": [
    {
     "data": {
      "text/plain": [
       "['444.3.5',\n",
       " '530.3.5',\n",
       " '542.3.5',\n",
       " '552.3.5',\n",
       " '602.3.5',\n",
       " '1118.3.5',\n",
       " '1129.3.5',\n",
       " '628.3.5',\n",
       " '642.3.5',\n",
       " '131.3.5',\n",
       " '204.3.5',\n",
       " '1356.3.5',\n",
       " '344.3.5',\n",
       " '410.3.5',\n",
       " '461.3.5',\n",
       " '997.3.5',\n",
       " '493.3.5']"
      ]
     },
     "execution_count": 731,
     "metadata": {},
     "output_type": "execute_result"
    }
   ],
   "source": [
    "IDs"
   ]
  },
  {
   "cell_type": "code",
   "execution_count": 810,
   "id": "234df057-5b62-4a21-8390-3a4100fa1044",
   "metadata": {},
   "outputs": [
    {
     "ename": "ValueError",
     "evalue": "list.remove(x): x not in list",
     "output_type": "error",
     "traceback": [
      "\u001b[0;31m---------------------------------------------------------------------------\u001b[0m",
      "\u001b[0;31mValueError\u001b[0m                                Traceback (most recent call last)",
      "Cell \u001b[0;32mIn[810], line 1\u001b[0m\n\u001b[0;32m----> 1\u001b[0m \u001b[43mIDs\u001b[49m\u001b[38;5;241;43m.\u001b[39;49m\u001b[43mremove\u001b[49m\u001b[43m(\u001b[49m\u001b[38;5;124;43m'\u001b[39;49m\u001b[38;5;124;43m602.3.5\u001b[39;49m\u001b[38;5;124;43m'\u001b[39;49m\u001b[43m)\u001b[49m \u001b[38;5;66;03m# not dead just ID switch\u001b[39;00m\n\u001b[1;32m      2\u001b[0m IDs\u001b[38;5;241m.\u001b[39mremove(\u001b[38;5;124m'\u001b[39m\u001b[38;5;124m1129.3.5\u001b[39m\u001b[38;5;124m'\u001b[39m) \u001b[38;5;66;03m# not dead \u001b[39;00m\n\u001b[1;32m      3\u001b[0m IDs\u001b[38;5;241m.\u001b[39mremove(\u001b[38;5;124m'\u001b[39m\u001b[38;5;124m628.3.5\u001b[39m\u001b[38;5;124m'\u001b[39m) \u001b[38;5;66;03m# not dead \u001b[39;00m\n",
      "\u001b[0;31mValueError\u001b[0m: list.remove(x): x not in list"
     ]
    }
   ],
   "source": [
    "IDs.remove('602.3.5') # not dead just ID switch\n",
    "IDs.remove('1129.3.5') # not dead \n",
    "IDs.remove('628.3.5') # not dead "
   ]
  },
  {
   "cell_type": "code",
   "execution_count": 809,
   "id": "1c11d2bf-1a84-4fdb-b913-2a0ceaea272c",
   "metadata": {},
   "outputs": [
    {
     "data": {
      "text/plain": [
       "[True,\n",
       " True,\n",
       " True,\n",
       " True,\n",
       " True,\n",
       " True,\n",
       " True,\n",
       " True,\n",
       " True,\n",
       " True,\n",
       " True,\n",
       " True,\n",
       " True,\n",
       " True]"
      ]
     },
     "execution_count": 809,
     "metadata": {},
     "output_type": "execute_result"
    }
   ],
   "source": [
    "# confirm all auto ids (manully checked) are in manually id\n",
    "([id in death_IDs for id in IDs])"
   ]
  },
  {
   "cell_type": "markdown",
   "id": "5f1524a4-783b-424d-b9c6-f7bc9d508f39",
   "metadata": {},
   "source": [
    "#### Automatically identified cell death with manually ID'd"
   ]
  },
  {
   "cell_type": "code",
   "execution_count": 803,
   "id": "91869eb8-38fe-4071-9a68-dd7918dccb78",
   "metadata": {},
   "outputs": [],
   "source": [
    "death_IDs = [432,\n",
    " 431,\n",
    " 354,\n",
    " 397,\n",
    " 426,\n",
    " 424,\n",
    " 1308,\n",
    " 384,\n",
    " 1611,\n",
    " 473,\n",
    " 491,\n",
    " 3179,\n",
    " 486,\n",
    " 515,\n",
    " # 15, # not really dead?\n",
    " 34,\n",
    " 119,\n",
    " 112,\n",
    " 26,\n",
    " 110,\n",
    " 144,\n",
    " 252,\n",
    " 286,\n",
    " 444,\n",
    " 530,\n",
    " 542,\n",
    " 552,\n",
    " 1118,\n",
    " 642,\n",
    " 131,\n",
    " 204,\n",
    " 1356,\n",
    " 344,\n",
    " 410,\n",
    " 461,\n",
    " 997,\n",
    " 493, \n",
    " 507]\n",
    "\n",
    "death_IDs = [str(ID)+'.3.5' for ID in death_IDs]"
   ]
  },
  {
   "cell_type": "markdown",
   "id": "0e2e0278-3117-46a0-88d6-27f269babab3",
   "metadata": {},
   "source": [
    "### Incorporating efferocytosis"
   ]
  },
  {
   "cell_type": "code",
   "execution_count": 240,
   "id": "d3405c65-2510-431a-a6af-e8f6d8a41ced",
   "metadata": {},
   "outputs": [],
   "source": [
    "eff_IDs = ['285.3.5']"
   ]
  },
  {
   "cell_type": "markdown",
   "id": "48f99ab4-fba2-4ebc-998b-2fd3e3d50460",
   "metadata": {
    "jp-MarkdownHeadingCollapsed": true
   },
   "source": [
    "#### Incorporating manually identified dead cells"
   ]
  },
  {
   "cell_type": "code",
   "execution_count": 312,
   "id": "045235f5-ba85-47ae-94ad-5a6dea7ae188",
   "metadata": {},
   "outputs": [],
   "source": [
    "### this is for actually plotting\n",
    "# init and fin status\n",
    "N_init_infected = N_init_uninfected = N_fin_infected = N_fin_uninfected = N_fin_dead = N_fin_eff = 0\n",
    "# transition status\n",
    "N_stayed_infected = N_got_infected = N_stayed_uninfected = N_got_uninfected = N_infected_died = N_uninfected_died = N_infected_eff = N_uninfected_eff = 0\n",
    "\n",
    "# Lists to store track IDs for each init and fin status for my interogation of plots\n",
    "trackIDs_init_infected = []\n",
    "trackIDs_init_uninfected = []\n",
    "trackIDs_fin_infected = []\n",
    "trackIDs_fin_uninfected = []\n",
    "track_IDs_fin_dead = []\n",
    "track_IDs_fin_eff = []\n",
    "\n",
    "# track IDs for transition status for my interogation of plots\n",
    "trackIDs_stayed_infected = []\n",
    "trackIDs_got_infected = []\n",
    "trackIDs_stayed_uninfected = []\n",
    "trackIDs_got_uninfected = []\n",
    "trackIDs_infected_died = []\n",
    "trackIDs_uninfected_died = []\n",
    "trackIDs_infected_eff = []\n",
    "trackIDs_uninfected_eff = []\n",
    "\n",
    "# # dictionary tracking for my interogation of plots\n",
    "# infect_status_dict = {'Initial Infection Status': {}, 'Final Infection Status': {}, 'Death Status': {}, 'Eff Status': {}}\n",
    "\n",
    "for track_ID in df['Unique ID'].unique():\n",
    "    # isolate a single cell information\n",
    "    subset_df = df[df['Unique ID'] == track_ID]\n",
    "\n",
    "    # manually changing an exception\n",
    "    if track_ID in ['536.3.5', '93.3.5', '1335.3.5']: # these cells have a final frame ID switch that changes their final infection status\n",
    "        N_stayed_infected += 1\n",
    "        N_init_infected += 1\n",
    "        N_fin_infected += 1\n",
    "        trackIDs_init_infected.append(track_ID)\n",
    "        trackIDs_stayed_infected.append(track_ID)\n",
    "        continue\n",
    "        \n",
    "    # Check initial infection status\n",
    "    initial_infected = all(subset_df.iloc[:3]['Mtb Area µm2'] > min_mtb_area_thresh_µm)\n",
    "    # record status in dictionary (why?)\n",
    "    if initial_infected:\n",
    "        # count the number of initially infected and record ID\n",
    "        N_init_infected += 1\n",
    "        trackIDs_init_infected.append(track_ID)\n",
    "    \n",
    "        # now record the fate and transition status of the initially infected\n",
    "        # check if efferocytosed first\n",
    "        eff_status = track_ID in eff_IDs\n",
    "        if eff_status:\n",
    "            N_infected_eff += 1\n",
    "            trackIDs_infected_eff.append(track_ID)\n",
    "            # if it is then end here\n",
    "            continue\n",
    "        \n",
    "        # Check death status\n",
    "        if track_ID in death_IDs:\n",
    "            N_infected_died += 1\n",
    "            trackIDs_infected_died.append(track_ID)\n",
    "            continue\n",
    "            \n",
    "        # if both other options fail then Check final alive infection status\n",
    "        final_infected = all(subset_df.iloc[-3:]['Mtb Area µm2'] > min_mtb_area_thresh_µm)\n",
    "        if final_infected:\n",
    "            N_fin_infected += 1\n",
    "            trackIDs_fin_infected.append(track_ID)\n",
    "            continue\n",
    "            \n",
    "    else:\n",
    "        # count the number of initially uninfected and record ID\n",
    "        N_init_uninfected += 1\n",
    "        trackIDs_init_uninfected.append(track_ID)\n",
    "\n",
    "        # now record the fate of the initially uninfected\n",
    "        # check if efferocytosed first\n",
    "        if track_ID in eff_IDs:\n",
    "            N_uninfected_eff += 1\n",
    "            trackIDs_uninfected_eff.append(track_ID)\n",
    "            # if it is then end here\n",
    "            continue\n",
    "        \n",
    "        # Check death status\n",
    "        if track_ID in death_IDs:\n",
    "            N_uninfected_died += 1\n",
    "            trackIDs_uninfected_died.append(track_ID)\n",
    "            continue\n",
    "            \n",
    "        # if both other options fail then Check final alive infection status\n",
    "        final_infected = all(subset_df.iloc[-3:]['Mtb Area µm2'] > min_mtb_area_thresh_µm)\n",
    "        if final_infected:\n",
    "            N_fin_infected += 1\n",
    "            trackIDs_fin_infected.append(track_ID)\n",
    "            continue\n",
    "\n",
    "    # Check death status - at the moment only have capacity to clock tracks that start infected then died\n",
    "    died = track_ID in death_IDs\n",
    "    # infect_status_dict['Death Status'][track_ID] = died\n",
    "    if died:\n",
    "        N_infected_died += 1\n",
    "        trackIDs_infected_died.append(track_ID)\n",
    "        continue\n",
    "\n",
    "    # Check eff status\n",
    "    eff = track_ID in eff_IDs\n",
    "    # infect_status_dict['Eff Status'][track_ID] = eff\n",
    "    if eff:\n",
    "        N_infected_eff += 1\n",
    "        trackIDs_infected_eff.append(track_ID)\n",
    "        continue\n",
    "\n",
    "    # Check final infection status\n",
    "    final_infected = all(subset_df.iloc[-3:]['Mtb Area µm2'] > min_mtb_area_thresh_µm)\n",
    "    # infect_status_dict['Final Infection Status'][track_ID] = final_infected\n",
    "    if final_infected:\n",
    "        N_fin_infected += 1\n",
    "        trackIDs_fin_infected.append(track_ID)\n",
    "    else:\n",
    "        N_fin_uninfected += 1\n",
    "        trackIDs_fin_uninfected.append(track_ID)\n",
    "\n",
    "    # Check transition status\n",
    "    if initial_infected and final_infected:\n",
    "        N_stayed_infected += 1\n",
    "        trackIDs_stayed_infected.append(track_ID)\n",
    "    elif not initial_infected and final_infected:\n",
    "        N_got_infected += 1\n",
    "        trackIDs_got_infected.append(track_ID)\n",
    "    elif initial_infected and not final_infected:\n",
    "        N_got_uninfected += 1\n",
    "        trackIDs_got_uninfected.append(track_ID)\n",
    "    elif not initial_infected and not final_infected:\n",
    "        N_stayed_uninfected += 1\n",
    "        trackIDs_stayed_uninfected.append(track_ID)\n"
   ]
  },
  {
   "cell_type": "code",
   "execution_count": 256,
   "id": "0164b9a4-7875-4a1f-86c7-cce308e07ea2",
   "metadata": {},
   "outputs": [
    {
     "data": {
      "text/plain": [
       "(118, 259, 199, 138, 1, 39, 0, 1, 0)"
      ]
     },
     "execution_count": 256,
     "metadata": {},
     "output_type": "execute_result"
    }
   ],
   "source": [
    "N_init_infected, N_init_uninfected, N_fin_infected, N_fin_uninfected, N_died, N_infected_died, N_uninfected_died, N_infected_eff, N_uninfected_eff "
   ]
  },
  {
   "cell_type": "code",
   "execution_count": 196,
   "id": "7f5030d5-0fac-46da-99d4-1b563d934bd1",
   "metadata": {},
   "outputs": [
    {
     "data": {
      "text/plain": [
       "760"
      ]
     },
     "execution_count": 196,
     "metadata": {},
     "output_type": "execute_result"
    }
   ],
   "source": [
    "sum([N_init_infected, N_init_uninfected, N_fin_infected, N_fin_uninfected, N_died])"
   ]
  },
  {
   "cell_type": "code",
   "execution_count": 246,
   "id": "807071f9-93e6-40fb-a507-dc435b16a667",
   "metadata": {},
   "outputs": [
    {
     "data": {
      "text/plain": [
       "['#1a9641', '#a6d96a', '#978897', '#d1d1ca', '#f1b6da', '#d02c91']"
      ]
     },
     "execution_count": 246,
     "metadata": {},
     "output_type": "execute_result"
    }
   ],
   "source": [
    "colours.expanded_piyg"
   ]
  },
  {
   "cell_type": "code",
   "execution_count": 257,
   "id": "48a12a03-37e1-47a5-8230-5b316c5ec685",
   "metadata": {},
   "outputs": [
    {
     "data": {
      "application/vnd.plotly.v1+json": {
       "config": {
        "plotlyServerURL": "https://plot.ly"
       },
       "data": [
        {
         "link": {
          "color": [
           "rgba(208, 44, 145, 0.25)",
           "rgba(26, 150, 65, 0.25)",
           "rgba(241, 182, 218, 0.25)",
           "rgba(166, 217, 106, 0.25)",
           "rgba(0, 0, 0, 0.25)",
           "rgba(0, 0, 0, 0.25)"
          ],
          "source": [
           0,
           0,
           1,
           1,
           0,
           1,
           0,
           1
          ],
          "target": [
           2,
           3,
           2,
           3,
           4,
           4,
           5,
           5
          ],
          "value": [
           95,
           0,
           104,
           138,
           39,
           0,
           1,
           0
          ]
         },
         "node": {
          "color": [
           "#d02c91",
           "#1a9641",
           "#f1b6da",
           "#a6d96a",
           "#978897",
           "#d1d1ca"
          ],
          "label": [
           "<i>Initially</i> Infected",
           "<i>Initially</i> Uninfected",
           "<i>Finally</i> Infected",
           "<i>Finally</i> Uninfected",
           "Died",
           "Effercytosis"
          ],
          "line": {
           "color": "black",
           "width": 0.5
          },
          "pad": 15,
          "thickness": 20
         },
         "type": "sankey"
        }
       ],
       "layout": {
        "font": {
         "family": "Liberation Sans"
        },
        "height": 600,
        "template": {
         "data": {
          "bar": [
           {
            "error_x": {
             "color": "#2a3f5f"
            },
            "error_y": {
             "color": "#2a3f5f"
            },
            "marker": {
             "line": {
              "color": "#E5ECF6",
              "width": 0.5
             },
             "pattern": {
              "fillmode": "overlay",
              "size": 10,
              "solidity": 0.2
             }
            },
            "type": "bar"
           }
          ],
          "barpolar": [
           {
            "marker": {
             "line": {
              "color": "#E5ECF6",
              "width": 0.5
             },
             "pattern": {
              "fillmode": "overlay",
              "size": 10,
              "solidity": 0.2
             }
            },
            "type": "barpolar"
           }
          ],
          "carpet": [
           {
            "aaxis": {
             "endlinecolor": "#2a3f5f",
             "gridcolor": "white",
             "linecolor": "white",
             "minorgridcolor": "white",
             "startlinecolor": "#2a3f5f"
            },
            "baxis": {
             "endlinecolor": "#2a3f5f",
             "gridcolor": "white",
             "linecolor": "white",
             "minorgridcolor": "white",
             "startlinecolor": "#2a3f5f"
            },
            "type": "carpet"
           }
          ],
          "choropleth": [
           {
            "colorbar": {
             "outlinewidth": 0,
             "ticks": ""
            },
            "type": "choropleth"
           }
          ],
          "contour": [
           {
            "colorbar": {
             "outlinewidth": 0,
             "ticks": ""
            },
            "colorscale": [
             [
              0,
              "#0d0887"
             ],
             [
              0.1111111111111111,
              "#46039f"
             ],
             [
              0.2222222222222222,
              "#7201a8"
             ],
             [
              0.3333333333333333,
              "#9c179e"
             ],
             [
              0.4444444444444444,
              "#bd3786"
             ],
             [
              0.5555555555555556,
              "#d8576b"
             ],
             [
              0.6666666666666666,
              "#ed7953"
             ],
             [
              0.7777777777777778,
              "#fb9f3a"
             ],
             [
              0.8888888888888888,
              "#fdca26"
             ],
             [
              1,
              "#f0f921"
             ]
            ],
            "type": "contour"
           }
          ],
          "contourcarpet": [
           {
            "colorbar": {
             "outlinewidth": 0,
             "ticks": ""
            },
            "type": "contourcarpet"
           }
          ],
          "heatmap": [
           {
            "colorbar": {
             "outlinewidth": 0,
             "ticks": ""
            },
            "colorscale": [
             [
              0,
              "#0d0887"
             ],
             [
              0.1111111111111111,
              "#46039f"
             ],
             [
              0.2222222222222222,
              "#7201a8"
             ],
             [
              0.3333333333333333,
              "#9c179e"
             ],
             [
              0.4444444444444444,
              "#bd3786"
             ],
             [
              0.5555555555555556,
              "#d8576b"
             ],
             [
              0.6666666666666666,
              "#ed7953"
             ],
             [
              0.7777777777777778,
              "#fb9f3a"
             ],
             [
              0.8888888888888888,
              "#fdca26"
             ],
             [
              1,
              "#f0f921"
             ]
            ],
            "type": "heatmap"
           }
          ],
          "heatmapgl": [
           {
            "colorbar": {
             "outlinewidth": 0,
             "ticks": ""
            },
            "colorscale": [
             [
              0,
              "#0d0887"
             ],
             [
              0.1111111111111111,
              "#46039f"
             ],
             [
              0.2222222222222222,
              "#7201a8"
             ],
             [
              0.3333333333333333,
              "#9c179e"
             ],
             [
              0.4444444444444444,
              "#bd3786"
             ],
             [
              0.5555555555555556,
              "#d8576b"
             ],
             [
              0.6666666666666666,
              "#ed7953"
             ],
             [
              0.7777777777777778,
              "#fb9f3a"
             ],
             [
              0.8888888888888888,
              "#fdca26"
             ],
             [
              1,
              "#f0f921"
             ]
            ],
            "type": "heatmapgl"
           }
          ],
          "histogram": [
           {
            "marker": {
             "pattern": {
              "fillmode": "overlay",
              "size": 10,
              "solidity": 0.2
             }
            },
            "type": "histogram"
           }
          ],
          "histogram2d": [
           {
            "colorbar": {
             "outlinewidth": 0,
             "ticks": ""
            },
            "colorscale": [
             [
              0,
              "#0d0887"
             ],
             [
              0.1111111111111111,
              "#46039f"
             ],
             [
              0.2222222222222222,
              "#7201a8"
             ],
             [
              0.3333333333333333,
              "#9c179e"
             ],
             [
              0.4444444444444444,
              "#bd3786"
             ],
             [
              0.5555555555555556,
              "#d8576b"
             ],
             [
              0.6666666666666666,
              "#ed7953"
             ],
             [
              0.7777777777777778,
              "#fb9f3a"
             ],
             [
              0.8888888888888888,
              "#fdca26"
             ],
             [
              1,
              "#f0f921"
             ]
            ],
            "type": "histogram2d"
           }
          ],
          "histogram2dcontour": [
           {
            "colorbar": {
             "outlinewidth": 0,
             "ticks": ""
            },
            "colorscale": [
             [
              0,
              "#0d0887"
             ],
             [
              0.1111111111111111,
              "#46039f"
             ],
             [
              0.2222222222222222,
              "#7201a8"
             ],
             [
              0.3333333333333333,
              "#9c179e"
             ],
             [
              0.4444444444444444,
              "#bd3786"
             ],
             [
              0.5555555555555556,
              "#d8576b"
             ],
             [
              0.6666666666666666,
              "#ed7953"
             ],
             [
              0.7777777777777778,
              "#fb9f3a"
             ],
             [
              0.8888888888888888,
              "#fdca26"
             ],
             [
              1,
              "#f0f921"
             ]
            ],
            "type": "histogram2dcontour"
           }
          ],
          "mesh3d": [
           {
            "colorbar": {
             "outlinewidth": 0,
             "ticks": ""
            },
            "type": "mesh3d"
           }
          ],
          "parcoords": [
           {
            "line": {
             "colorbar": {
              "outlinewidth": 0,
              "ticks": ""
             }
            },
            "type": "parcoords"
           }
          ],
          "pie": [
           {
            "automargin": true,
            "type": "pie"
           }
          ],
          "scatter": [
           {
            "fillpattern": {
             "fillmode": "overlay",
             "size": 10,
             "solidity": 0.2
            },
            "type": "scatter"
           }
          ],
          "scatter3d": [
           {
            "line": {
             "colorbar": {
              "outlinewidth": 0,
              "ticks": ""
             }
            },
            "marker": {
             "colorbar": {
              "outlinewidth": 0,
              "ticks": ""
             }
            },
            "type": "scatter3d"
           }
          ],
          "scattercarpet": [
           {
            "marker": {
             "colorbar": {
              "outlinewidth": 0,
              "ticks": ""
             }
            },
            "type": "scattercarpet"
           }
          ],
          "scattergeo": [
           {
            "marker": {
             "colorbar": {
              "outlinewidth": 0,
              "ticks": ""
             }
            },
            "type": "scattergeo"
           }
          ],
          "scattergl": [
           {
            "marker": {
             "colorbar": {
              "outlinewidth": 0,
              "ticks": ""
             }
            },
            "type": "scattergl"
           }
          ],
          "scattermapbox": [
           {
            "marker": {
             "colorbar": {
              "outlinewidth": 0,
              "ticks": ""
             }
            },
            "type": "scattermapbox"
           }
          ],
          "scatterpolar": [
           {
            "marker": {
             "colorbar": {
              "outlinewidth": 0,
              "ticks": ""
             }
            },
            "type": "scatterpolar"
           }
          ],
          "scatterpolargl": [
           {
            "marker": {
             "colorbar": {
              "outlinewidth": 0,
              "ticks": ""
             }
            },
            "type": "scatterpolargl"
           }
          ],
          "scatterternary": [
           {
            "marker": {
             "colorbar": {
              "outlinewidth": 0,
              "ticks": ""
             }
            },
            "type": "scatterternary"
           }
          ],
          "surface": [
           {
            "colorbar": {
             "outlinewidth": 0,
             "ticks": ""
            },
            "colorscale": [
             [
              0,
              "#0d0887"
             ],
             [
              0.1111111111111111,
              "#46039f"
             ],
             [
              0.2222222222222222,
              "#7201a8"
             ],
             [
              0.3333333333333333,
              "#9c179e"
             ],
             [
              0.4444444444444444,
              "#bd3786"
             ],
             [
              0.5555555555555556,
              "#d8576b"
             ],
             [
              0.6666666666666666,
              "#ed7953"
             ],
             [
              0.7777777777777778,
              "#fb9f3a"
             ],
             [
              0.8888888888888888,
              "#fdca26"
             ],
             [
              1,
              "#f0f921"
             ]
            ],
            "type": "surface"
           }
          ],
          "table": [
           {
            "cells": {
             "fill": {
              "color": "#EBF0F8"
             },
             "line": {
              "color": "white"
             }
            },
            "header": {
             "fill": {
              "color": "#C8D4E3"
             },
             "line": {
              "color": "white"
             }
            },
            "type": "table"
           }
          ]
         },
         "layout": {
          "annotationdefaults": {
           "arrowcolor": "#2a3f5f",
           "arrowhead": 0,
           "arrowwidth": 1
          },
          "autotypenumbers": "strict",
          "coloraxis": {
           "colorbar": {
            "outlinewidth": 0,
            "ticks": ""
           }
          },
          "colorscale": {
           "diverging": [
            [
             0,
             "#8e0152"
            ],
            [
             0.1,
             "#c51b7d"
            ],
            [
             0.2,
             "#de77ae"
            ],
            [
             0.3,
             "#f1b6da"
            ],
            [
             0.4,
             "#fde0ef"
            ],
            [
             0.5,
             "#f7f7f7"
            ],
            [
             0.6,
             "#e6f5d0"
            ],
            [
             0.7,
             "#b8e186"
            ],
            [
             0.8,
             "#7fbc41"
            ],
            [
             0.9,
             "#4d9221"
            ],
            [
             1,
             "#276419"
            ]
           ],
           "sequential": [
            [
             0,
             "#0d0887"
            ],
            [
             0.1111111111111111,
             "#46039f"
            ],
            [
             0.2222222222222222,
             "#7201a8"
            ],
            [
             0.3333333333333333,
             "#9c179e"
            ],
            [
             0.4444444444444444,
             "#bd3786"
            ],
            [
             0.5555555555555556,
             "#d8576b"
            ],
            [
             0.6666666666666666,
             "#ed7953"
            ],
            [
             0.7777777777777778,
             "#fb9f3a"
            ],
            [
             0.8888888888888888,
             "#fdca26"
            ],
            [
             1,
             "#f0f921"
            ]
           ],
           "sequentialminus": [
            [
             0,
             "#0d0887"
            ],
            [
             0.1111111111111111,
             "#46039f"
            ],
            [
             0.2222222222222222,
             "#7201a8"
            ],
            [
             0.3333333333333333,
             "#9c179e"
            ],
            [
             0.4444444444444444,
             "#bd3786"
            ],
            [
             0.5555555555555556,
             "#d8576b"
            ],
            [
             0.6666666666666666,
             "#ed7953"
            ],
            [
             0.7777777777777778,
             "#fb9f3a"
            ],
            [
             0.8888888888888888,
             "#fdca26"
            ],
            [
             1,
             "#f0f921"
            ]
           ]
          },
          "colorway": [
           "#636efa",
           "#EF553B",
           "#00cc96",
           "#ab63fa",
           "#FFA15A",
           "#19d3f3",
           "#FF6692",
           "#B6E880",
           "#FF97FF",
           "#FECB52"
          ],
          "font": {
           "color": "#2a3f5f"
          },
          "geo": {
           "bgcolor": "white",
           "lakecolor": "white",
           "landcolor": "#E5ECF6",
           "showlakes": true,
           "showland": true,
           "subunitcolor": "white"
          },
          "hoverlabel": {
           "align": "left"
          },
          "hovermode": "closest",
          "mapbox": {
           "style": "light"
          },
          "paper_bgcolor": "white",
          "plot_bgcolor": "#E5ECF6",
          "polar": {
           "angularaxis": {
            "gridcolor": "white",
            "linecolor": "white",
            "ticks": ""
           },
           "bgcolor": "#E5ECF6",
           "radialaxis": {
            "gridcolor": "white",
            "linecolor": "white",
            "ticks": ""
           }
          },
          "scene": {
           "xaxis": {
            "backgroundcolor": "#E5ECF6",
            "gridcolor": "white",
            "gridwidth": 2,
            "linecolor": "white",
            "showbackground": true,
            "ticks": "",
            "zerolinecolor": "white"
           },
           "yaxis": {
            "backgroundcolor": "#E5ECF6",
            "gridcolor": "white",
            "gridwidth": 2,
            "linecolor": "white",
            "showbackground": true,
            "ticks": "",
            "zerolinecolor": "white"
           },
           "zaxis": {
            "backgroundcolor": "#E5ECF6",
            "gridcolor": "white",
            "gridwidth": 2,
            "linecolor": "white",
            "showbackground": true,
            "ticks": "",
            "zerolinecolor": "white"
           }
          },
          "shapedefaults": {
           "line": {
            "color": "#2a3f5f"
           }
          },
          "ternary": {
           "aaxis": {
            "gridcolor": "white",
            "linecolor": "white",
            "ticks": ""
           },
           "baxis": {
            "gridcolor": "white",
            "linecolor": "white",
            "ticks": ""
           },
           "bgcolor": "#E5ECF6",
           "caxis": {
            "gridcolor": "white",
            "linecolor": "white",
            "ticks": ""
           }
          },
          "title": {
           "x": 0.05
          },
          "xaxis": {
           "automargin": true,
           "gridcolor": "white",
           "linecolor": "white",
           "ticks": "",
           "title": {
            "standoff": 15
           },
           "zerolinecolor": "white",
           "zerolinewidth": 2
          },
          "yaxis": {
           "automargin": true,
           "gridcolor": "white",
           "linecolor": "white",
           "ticks": "",
           "title": {
            "standoff": 15
           },
           "zerolinecolor": "white",
           "zerolinewidth": 2
          }
         }
        },
        "title": {
         "font": {
          "size": 20
         },
         "text": "<b>Macrophage Infection State Transitions for control experiment (3,5)<b>"
        },
        "width": 800
       }
      },
      "image/png": "[encoded data removed]",
      "text/html": [
       "<div>                            <div id=\"0780edea-49a8-4e5b-8a92-bd148305ebf5\" class=\"plotly-graph-div\" style=\"height:600px; width:800px;\"></div>            <script type=\"text/javascript\">                require([\"plotly\"], function(Plotly) {                    window.PLOTLYENV=window.PLOTLYENV || {};                                    if (document.getElementById(\"0780edea-49a8-4e5b-8a92-bd148305ebf5\")) {                    Plotly.newPlot(                        \"0780edea-49a8-4e5b-8a92-bd148305ebf5\",                        [{\"link\":{\"color\":[\"rgba(208, 44, 145, 0.25)\",\"rgba(26, 150, 65, 0.25)\",\"rgba(241, 182, 218, 0.25)\",\"rgba(166, 217, 106, 0.25)\",\"rgba(0, 0, 0, 0.25)\",\"rgba(0, 0, 0, 0.25)\"],\"source\":[0,0,1,1,0,1,0,1],\"target\":[2,3,2,3,4,4,5,5],\"value\":[95,0,104,138,39,0,1,0]},\"node\":{\"color\":[\"#d02c91\",\"#1a9641\",\"#f1b6da\",\"#a6d96a\",\"#978897\",\"#d1d1ca\"],\"label\":[\"<i>Initially</i> Infected\",\"<i>Initially</i> Uninfected\",\"<i>Finally</i> Infected\",\"<i>Finally</i> Uninfected\",\"Died\",\"Effercytosis\"],\"line\":{\"color\":\"black\",\"width\":0.5},\"pad\":15,\"thickness\":20},\"type\":\"sankey\"}],                        {\"template\":{\"data\":{\"histogram2dcontour\":[{\"type\":\"histogram2dcontour\",\"colorbar\":{\"outlinewidth\":0,\"ticks\":\"\"},\"colorscale\":[[0.0,\"#0d0887\"],[0.1111111111111111,\"#46039f\"],[0.2222222222222222,\"#7201a8\"],[0.3333333333333333,\"#9c179e\"],[0.4444444444444444,\"#bd3786\"],[0.5555555555555556,\"#d8576b\"],[0.6666666666666666,\"#ed7953\"],[0.7777777777777778,\"#fb9f3a\"],[0.8888888888888888,\"#fdca26\"],[1.0,\"#f0f921\"]]}],\"choropleth\":[{\"type\":\"choropleth\",\"colorbar\":{\"outlinewidth\":0,\"ticks\":\"\"}}],\"histogram2d\":[{\"type\":\"histogram2d\",\"colorbar\":{\"outlinewidth\":0,\"ticks\":\"\"},\"colorscale\":[[0.0,\"#0d0887\"],[0.1111111111111111,\"#46039f\"],[0.2222222222222222,\"#7201a8\"],[0.3333333333333333,\"#9c179e\"],[0.4444444444444444,\"#bd3786\"],[0.5555555555555556,\"#d8576b\"],[0.6666666666666666,\"#ed7953\"],[0.7777777777777778,\"#fb9f3a\"],[0.8888888888888888,\"#fdca26\"],[1.0,\"#f0f921\"]]}],\"heatmap\":[{\"type\":\"heatmap\",\"colorbar\":{\"outlinewidth\":0,\"ticks\":\"\"},\"colorscale\":[[0.0,\"#0d0887\"],[0.1111111111111111,\"#46039f\"],[0.2222222222222222,\"#7201a8\"],[0.3333333333333333,\"#9c179e\"],[0.4444444444444444,\"#bd3786\"],[0.5555555555555556,\"#d8576b\"],[0.6666666666666666,\"#ed7953\"],[0.7777777777777778,\"#fb9f3a\"],[0.8888888888888888,\"#fdca26\"],[1.0,\"#f0f921\"]]}],\"heatmapgl\":[{\"type\":\"heatmapgl\",\"colorbar\":{\"outlinewidth\":0,\"ticks\":\"\"},\"colorscale\":[[0.0,\"#0d0887\"],[0.1111111111111111,\"#46039f\"],[0.2222222222222222,\"#7201a8\"],[0.3333333333333333,\"#9c179e\"],[0.4444444444444444,\"#bd3786\"],[0.5555555555555556,\"#d8576b\"],[0.6666666666666666,\"#ed7953\"],[0.7777777777777778,\"#fb9f3a\"],[0.8888888888888888,\"#fdca26\"],[1.0,\"#f0f921\"]]}],\"contourcarpet\":[{\"type\":\"contourcarpet\",\"colorbar\":{\"outlinewidth\":0,\"ticks\":\"\"}}],\"contour\":[{\"type\":\"contour\",\"colorbar\":{\"outlinewidth\":0,\"ticks\":\"\"},\"colorscale\":[[0.0,\"#0d0887\"],[0.1111111111111111,\"#46039f\"],[0.2222222222222222,\"#7201a8\"],[0.3333333333333333,\"#9c179e\"],[0.4444444444444444,\"#bd3786\"],[0.5555555555555556,\"#d8576b\"],[0.6666666666666666,\"#ed7953\"],[0.7777777777777778,\"#fb9f3a\"],[0.8888888888888888,\"#fdca26\"],[1.0,\"#f0f921\"]]}],\"surface\":[{\"type\":\"surface\",\"colorbar\":{\"outlinewidth\":0,\"ticks\":\"\"},\"colorscale\":[[0.0,\"#0d0887\"],[0.1111111111111111,\"#46039f\"],[0.2222222222222222,\"#7201a8\"],[0.3333333333333333,\"#9c179e\"],[0.4444444444444444,\"#bd3786\"],[0.5555555555555556,\"#d8576b\"],[0.6666666666666666,\"#ed7953\"],[0.7777777777777778,\"#fb9f3a\"],[0.8888888888888888,\"#fdca26\"],[1.0,\"#f0f921\"]]}],\"mesh3d\":[{\"type\":\"mesh3d\",\"colorbar\":{\"outlinewidth\":0,\"ticks\":\"\"}}],\"scatter\":[{\"fillpattern\":{\"fillmode\":\"overlay\",\"size\":10,\"solidity\":0.2},\"type\":\"scatter\"}],\"parcoords\":[{\"type\":\"parcoords\",\"line\":{\"colorbar\":{\"outlinewidth\":0,\"ticks\":\"\"}}}],\"scatterpolargl\":[{\"type\":\"scatterpolargl\",\"marker\":{\"colorbar\":{\"outlinewidth\":0,\"ticks\":\"\"}}}],\"bar\":[{\"error_x\":{\"color\":\"#2a3f5f\"},\"error_y\":{\"color\":\"#2a3f5f\"},\"marker\":{\"line\":{\"color\":\"#E5ECF6\",\"width\":0.5},\"pattern\":{\"fillmode\":\"overlay\",\"size\":10,\"solidity\":0.2}},\"type\":\"bar\"}],\"scattergeo\":[{\"type\":\"scattergeo\",\"marker\":{\"colorbar\":{\"outlinewidth\":0,\"ticks\":\"\"}}}],\"scatterpolar\":[{\"type\":\"scatterpolar\",\"marker\":{\"colorbar\":{\"outlinewidth\":0,\"ticks\":\"\"}}}],\"histogram\":[{\"marker\":{\"pattern\":{\"fillmode\":\"overlay\",\"size\":10,\"solidity\":0.2}},\"type\":\"histogram\"}],\"scattergl\":[{\"type\":\"scattergl\",\"marker\":{\"colorbar\":{\"outlinewidth\":0,\"ticks\":\"\"}}}],\"scatter3d\":[{\"type\":\"scatter3d\",\"line\":{\"colorbar\":{\"outlinewidth\":0,\"ticks\":\"\"}},\"marker\":{\"colorbar\":{\"outlinewidth\":0,\"ticks\":\"\"}}}],\"scattermapbox\":[{\"type\":\"scattermapbox\",\"marker\":{\"colorbar\":{\"outlinewidth\":0,\"ticks\":\"\"}}}],\"scatterternary\":[{\"type\":\"scatterternary\",\"marker\":{\"colorbar\":{\"outlinewidth\":0,\"ticks\":\"\"}}}],\"scattercarpet\":[{\"type\":\"scattercarpet\",\"marker\":{\"colorbar\":{\"outlinewidth\":0,\"ticks\":\"\"}}}],\"carpet\":[{\"aaxis\":{\"endlinecolor\":\"#2a3f5f\",\"gridcolor\":\"white\",\"linecolor\":\"white\",\"minorgridcolor\":\"white\",\"startlinecolor\":\"#2a3f5f\"},\"baxis\":{\"endlinecolor\":\"#2a3f5f\",\"gridcolor\":\"white\",\"linecolor\":\"white\",\"minorgridcolor\":\"white\",\"startlinecolor\":\"#2a3f5f\"},\"type\":\"carpet\"}],\"table\":[{\"cells\":{\"fill\":{\"color\":\"#EBF0F8\"},\"line\":{\"color\":\"white\"}},\"header\":{\"fill\":{\"color\":\"#C8D4E3\"},\"line\":{\"color\":\"white\"}},\"type\":\"table\"}],\"barpolar\":[{\"marker\":{\"line\":{\"color\":\"#E5ECF6\",\"width\":0.5},\"pattern\":{\"fillmode\":\"overlay\",\"size\":10,\"solidity\":0.2}},\"type\":\"barpolar\"}],\"pie\":[{\"automargin\":true,\"type\":\"pie\"}]},\"layout\":{\"autotypenumbers\":\"strict\",\"colorway\":[\"#636efa\",\"#EF553B\",\"#00cc96\",\"#ab63fa\",\"#FFA15A\",\"#19d3f3\",\"#FF6692\",\"#B6E880\",\"#FF97FF\",\"#FECB52\"],\"font\":{\"color\":\"#2a3f5f\"},\"hovermode\":\"closest\",\"hoverlabel\":{\"align\":\"left\"},\"paper_bgcolor\":\"white\",\"plot_bgcolor\":\"#E5ECF6\",\"polar\":{\"bgcolor\":\"#E5ECF6\",\"angularaxis\":{\"gridcolor\":\"white\",\"linecolor\":\"white\",\"ticks\":\"\"},\"radialaxis\":{\"gridcolor\":\"white\",\"linecolor\":\"white\",\"ticks\":\"\"}},\"ternary\":{\"bgcolor\":\"#E5ECF6\",\"aaxis\":{\"gridcolor\":\"white\",\"linecolor\":\"white\",\"ticks\":\"\"},\"baxis\":{\"gridcolor\":\"white\",\"linecolor\":\"white\",\"ticks\":\"\"},\"caxis\":{\"gridcolor\":\"white\",\"linecolor\":\"white\",\"ticks\":\"\"}},\"coloraxis\":{\"colorbar\":{\"outlinewidth\":0,\"ticks\":\"\"}},\"colorscale\":{\"sequential\":[[0.0,\"#0d0887\"],[0.1111111111111111,\"#46039f\"],[0.2222222222222222,\"#7201a8\"],[0.3333333333333333,\"#9c179e\"],[0.4444444444444444,\"#bd3786\"],[0.5555555555555556,\"#d8576b\"],[0.6666666666666666,\"#ed7953\"],[0.7777777777777778,\"#fb9f3a\"],[0.8888888888888888,\"#fdca26\"],[1.0,\"#f0f921\"]],\"sequentialminus\":[[0.0,\"#0d0887\"],[0.1111111111111111,\"#46039f\"],[0.2222222222222222,\"#7201a8\"],[0.3333333333333333,\"#9c179e\"],[0.4444444444444444,\"#bd3786\"],[0.5555555555555556,\"#d8576b\"],[0.6666666666666666,\"#ed7953\"],[0.7777777777777778,\"#fb9f3a\"],[0.8888888888888888,\"#fdca26\"],[1.0,\"#f0f921\"]],\"diverging\":[[0,\"#8e0152\"],[0.1,\"#c51b7d\"],[0.2,\"#de77ae\"],[0.3,\"#f1b6da\"],[0.4,\"#fde0ef\"],[0.5,\"#f7f7f7\"],[0.6,\"#e6f5d0\"],[0.7,\"#b8e186\"],[0.8,\"#7fbc41\"],[0.9,\"#4d9221\"],[1,\"#276419\"]]},\"xaxis\":{\"gridcolor\":\"white\",\"linecolor\":\"white\",\"ticks\":\"\",\"title\":{\"standoff\":15},\"zerolinecolor\":\"white\",\"automargin\":true,\"zerolinewidth\":2},\"yaxis\":{\"gridcolor\":\"white\",\"linecolor\":\"white\",\"ticks\":\"\",\"title\":{\"standoff\":15},\"zerolinecolor\":\"white\",\"automargin\":true,\"zerolinewidth\":2},\"scene\":{\"xaxis\":{\"backgroundcolor\":\"#E5ECF6\",\"gridcolor\":\"white\",\"linecolor\":\"white\",\"showbackground\":true,\"ticks\":\"\",\"zerolinecolor\":\"white\",\"gridwidth\":2},\"yaxis\":{\"backgroundcolor\":\"#E5ECF6\",\"gridcolor\":\"white\",\"linecolor\":\"white\",\"showbackground\":true,\"ticks\":\"\",\"zerolinecolor\":\"white\",\"gridwidth\":2},\"zaxis\":{\"backgroundcolor\":\"#E5ECF6\",\"gridcolor\":\"white\",\"linecolor\":\"white\",\"showbackground\":true,\"ticks\":\"\",\"zerolinecolor\":\"white\",\"gridwidth\":2}},\"shapedefaults\":{\"line\":{\"color\":\"#2a3f5f\"}},\"annotationdefaults\":{\"arrowcolor\":\"#2a3f5f\",\"arrowhead\":0,\"arrowwidth\":1},\"geo\":{\"bgcolor\":\"white\",\"landcolor\":\"#E5ECF6\",\"subunitcolor\":\"white\",\"showland\":true,\"showlakes\":true,\"lakecolor\":\"white\"},\"title\":{\"x\":0.05},\"mapbox\":{\"style\":\"light\"}}},\"title\":{\"font\":{\"size\":20},\"text\":\"<b>Macrophage Infection State Transitions for control experiment (3,5)<b>\"},\"font\":{\"family\":\"Liberation Sans\"},\"width\":800,\"height\":600},                        {\"responsive\": true}                    ).then(function(){\n",
       "                            \n",
       "var gd = document.getElementById('0780edea-49a8-4e5b-8a92-bd148305ebf5');\n",
       "var x = new MutationObserver(function (mutations, observer) {{\n",
       "        var display = window.getComputedStyle(gd).display;\n",
       "        if (!display || display === 'none') {{\n",
       "            console.log([gd, 'removed!']);\n",
       "            Plotly.purge(gd);\n",
       "            observer.disconnect();\n",
       "        }}\n",
       "}});\n",
       "\n",
       "// Listen for the removal of the full notebook cells\n",
       "var notebookContainer = gd.closest('#notebook-container');\n",
       "if (notebookContainer) {{\n",
       "    x.observe(notebookContainer, {childList: true});\n",
       "}}\n",
       "\n",
       "// Listen for the clearing of the current output cell\n",
       "var outputEl = gd.closest('.output');\n",
       "if (outputEl) {{\n",
       "    x.observe(outputEl, {childList: true});\n",
       "}}\n",
       "\n",
       "                        })                };                });            </script>        </div>"
      ]
     },
     "metadata": {},
     "output_type": "display_data"
    }
   ],
   "source": [
    "# Define new labels for nodes including \"Died\"\n",
    "labels = [\"<i>Initially</i> Infected\", \"<i>Initially</i> Uninfected\", \"<i>Finally</i> Infected\", \"<i>Finally</i> Uninfected\", \"Died\", \"Effercytosis\"]\n",
    "node_colors =  [colours.expanded_piyg[i] for i in [-1, 0, -2, 1, 2, 3]] # Add a color for \"Died\", e.g., black\n",
    "\n",
    "# Update source, target, and value for Sankey diagram including transitions to \"Died\"\n",
    "source = [0, 0, 1, 1, 0, 1, 0, 1]  # Add '0' and '1' for transitions from Initially Infected/Uninfected to Died\n",
    "target = [2, 3, 2, 3, 4, 4, 5, 5]  # Add '4' twice for the new \"Died\" node\n",
    "value = [\n",
    "    N_stayed_infected,     # Initially Infected -> Finally Infected\n",
    "    N_got_uninfected,      # Initially Infected -> Finally Uninfected\n",
    "    N_got_infected,        # Initially Uninfected -> Finally Infected\n",
    "    N_stayed_uninfected,   # Initially Uninfected -> Finally Uninfected\n",
    "    N_infected_died,       # Initially Infected -> Died\n",
    "    N_uninfected_died,     # Initially Uninfected -> Died\n",
    "    N_infected_eff,        # Init Infected -> effero\n",
    "    N_uninfected_eff       # Init uninfected -> effero\n",
    "]\n",
    "\n",
    "# Update link colors if necessary\n",
    "link_colors = [f'rgba({int(color[1:3], 16)}, {int(color[3:5], 16)}, {int(color[5:7], 16)}, 0.25)' for color in [colours.expanded_piyg[i] for i in [-1, 0, -2, 1]]] + [\"rgba(0, 0, 0, 0.25)\", \"rgba(0, 0, 0, 0.25)\"]  # Add link colors for transitions to \"Died\"\n",
    "\n",
    "# Create the Sankey diagram\n",
    "fig = go.Figure(data=[go.Sankey(\n",
    "    node=dict(\n",
    "        pad=15,\n",
    "        thickness=20,\n",
    "        line=dict(color=\"black\", width=0.5),\n",
    "        label=labels,        \n",
    "        color=node_colors  # Set node colors\n",
    "\n",
    "    ),\n",
    "    link=dict(\n",
    "        source=source,\n",
    "        target=target,\n",
    "        value=value, \n",
    "        color=link_colors\n",
    "    ))])\n",
    "\n",
    "fig.update_layout(\n",
    "    title_text=\"Macrophage Infection State Transitions for control experiment (3,5)\",\n",
    "    # font_size=12,\n",
    "    width=800,  # Set the width of the figure\n",
    "    height=600,  # Set the height of the figure\n",
    "    font_family=\"Liberation Sans\", \n",
    "    title=dict(text=\"<b>Macrophage Infection State Transitions for control experiment (3,5)<b>\", font=dict(size=20),)\n",
    ")\n",
    "\n",
    "fig.write_html(\"WIP-sankey-diagram.html\")\n",
    "fig.show()"
   ]
  },
  {
   "cell_type": "code",
   "execution_count": 238,
   "id": "495bd372-da05-4b24-ac31-21cf75c7f4a6",
   "metadata": {},
   "outputs": [
    {
     "data": {
      "text/plain": [
       "['285.3.5']"
      ]
     },
     "execution_count": 238,
     "metadata": {},
     "output_type": "execute_result"
    }
   ],
   "source": [
    "trackIDs_got_uninfected"
   ]
  },
  {
   "cell_type": "code",
   "execution_count": null,
   "id": "5af2666f-2e1b-4c87-b2f1-5fa928329726",
   "metadata": {},
   "outputs": [],
   "source": [
    "actual_fate = {432:'death',\n",
    "               441:'death',\n",
    "               1356:'death',\n",
    "               1335:'ID_switch',\n",
    "               310:'unknown',\n",
    "               297:'unknown',\n",
    "               285:'efferocytosis',\n",
    "               112:'death',\n",
    "               616:'lost',\n",
    "               592:'ID_switch', \n",
    "               93:'ID_switch',\n",
    "               536:'why is this classified as finally uninfected?',\n",
    "               507:'death'}"
   ]
  },
  {
   "cell_type": "markdown",
   "id": "7e22777a-96fd-47d4-8a41-00ea4f110892",
   "metadata": {
    "jp-MarkdownHeadingCollapsed": true
   },
   "source": [
    "# Tidy sankey plot\n"
   ]
  },
  {
   "cell_type": "code",
   "execution_count": 276,
   "id": "bbb4ee8d-c286-4582-9552-ddabbaf12c6e",
   "metadata": {},
   "outputs": [],
   "source": [
    "# empty lists to record the transitions\n",
    "infected_to_infected = []\n",
    "infected_to_uninfected = []\n",
    "infected_to_effero = []\n",
    "infected_to_dead = []\n",
    "\n",
    "dead_to_effero = [] # '491.3.5'\n",
    "\n",
    "uninfected_to_infected = []\n",
    "uninfected_to_uninfected = []\n",
    "uninfected_to_effero = []\n",
    "uninfected_to_dead = []\n",
    "\n",
    "effero_to_death = [] # '432.3.5',\n",
    "\n",
    "# iterate over each cell and pull information from df\n",
    "for track_ID in df['Unique ID'].unique():\n",
    "    \n",
    "    # isolate a single cell information\n",
    "    subset_df = df[df['Unique ID'] == track_ID]\n",
    "\n",
    "    # manually changing an exception\n",
    "    if track_ID in ['536.3.5', '93.3.5', '1335.3.5']: # these cells have a final frame ID switch that changes their final infection status\n",
    "        # record fate then move onto next ID\n",
    "        infected_to_infected.append(track_ID)\n",
    "        continue\n",
    "\n",
    "    # MANUALLY ADDING EFFEROCYTOSIS\n",
    "    if track_ID in ['415.3.5',]: # these cells have a final frame ID switch that changes their final infection status\n",
    "        # record fate then move onto next ID\n",
    "        infected_to_effero.append(track_ID)\n",
    "        continue\n",
    "        \n",
    "    # Check initial infection status\n",
    "    initial_infected = all(subset_df.iloc[:3]['Mtb Area µm2'] > min_mtb_area_thresh_µm)\n",
    "    \n",
    "    # now check the fate of the initially infected\n",
    "    if initial_infected:\n",
    "        \n",
    "        # check if efferocytosed first\n",
    "        if track_ID in eff_IDs:\n",
    "            infected_to_effero.append(track_ID)\n",
    "            continue\n",
    "        \n",
    "        # Check death status\n",
    "        if track_ID in death_IDs:\n",
    "            infected_to_dead.append(track_ID)\n",
    "            continue\n",
    "            \n",
    "        # if both other options fail then Check final alive infection status\n",
    "        if all(subset_df.iloc[-3:]['Mtb Area µm2'] > min_mtb_area_thresh_µm):\n",
    "            infected_to_infected.append(track_ID)\n",
    "            continue\n",
    "        else: \n",
    "            infected_to_uninfected.append(track_ID)\n",
    "            continue\n",
    "    \n",
    "    else:\n",
    "        \n",
    "        # check if efferocytosed first\n",
    "        if track_ID in eff_IDs:\n",
    "            uninfected_to_effero.append(track_ID)\n",
    "            continue\n",
    "        \n",
    "        # Check death status\n",
    "        if track_ID in death_IDs:\n",
    "            uninfected_to_dead.append(track_ID)\n",
    "            continue\n",
    "            \n",
    "        # if both other options fail then Check final alive infection status\n",
    "        if all(subset_df.iloc[-3:]['Mtb Area µm2'] > min_mtb_area_thresh_µm):\n",
    "            uninfected_to_infected.append(track_ID)\n",
    "            continue\n",
    "        else: \n",
    "            uninfected_to_uninfected.append(track_ID)\n",
    "            continue"
   ]
  },
  {
   "cell_type": "code",
   "execution_count": 277,
   "id": "04525520-a2e7-402f-aa76-98353b9161a8",
   "metadata": {},
   "outputs": [
    {
     "data": {
      "application/vnd.plotly.v1+json": {
       "config": {
        "plotlyServerURL": "https://plot.ly"
       },
       "data": [
        {
         "link": {
          "color": [
           "rgba(208, 44, 145, 0.25)",
           "rgba(26, 150, 65, 0.25)",
           "rgba(241, 182, 218, 0.25)",
           "rgba(166, 217, 106, 0.25)",
           "rgba(0, 0, 0, 0.25)",
           "rgba(0, 0, 0, 0.25)"
          ],
          "source": [
           0,
           0,
           1,
           1,
           0,
           1,
           0,
           1
          ],
          "target": [
           2,
           3,
           2,
           3,
           4,
           4,
           5,
           5
          ],
          "value": [
           95,
           0,
           103,
           138,
           22,
           17,
           2,
           0
          ]
         },
         "node": {
          "color": [
           "#d02c91",
           "#1a9641",
           "#f1b6da",
           "#a6d96a",
           "#978897",
           "#d1d1ca"
          ],
          "label": [
           "<i>Initially</i> Infected",
           "<i>Initially</i> Uninfected",
           "<i>Finally</i> Infected",
           "<i>Finally</i> Uninfected",
           "Died",
           "Effercytosis"
          ],
          "line": {
           "color": "black",
           "width": 0.5
          },
          "pad": 15,
          "thickness": 20,
          "x": [
           0.015625,
           0.015625,
           0.759375,
           0.759375,
           0.7046875,
           0.821875
          ],
          "y": [
           0.8590848806366053,
           0.3769420234937482,
           0.6065302513578377,
           0.17293798155867132,
           0.9157224958949097,
           0.9976316786661614
          ]
         },
         "type": "sankey"
        }
       ],
       "layout": {
        "font": {
         "family": "Liberation Sans"
        },
        "height": 600,
        "template": {
         "data": {
          "bar": [
           {
            "error_x": {
             "color": "#2a3f5f"
            },
            "error_y": {
             "color": "#2a3f5f"
            },
            "marker": {
             "line": {
              "color": "#E5ECF6",
              "width": 0.5
             },
             "pattern": {
              "fillmode": "overlay",
              "size": 10,
              "solidity": 0.2
             }
            },
            "type": "bar"
           }
          ],
          "barpolar": [
           {
            "marker": {
             "line": {
              "color": "#E5ECF6",
              "width": 0.5
             },
             "pattern": {
              "fillmode": "overlay",
              "size": 10,
              "solidity": 0.2
             }
            },
            "type": "barpolar"
           }
          ],
          "carpet": [
           {
            "aaxis": {
             "endlinecolor": "#2a3f5f",
             "gridcolor": "white",
             "linecolor": "white",
             "minorgridcolor": "white",
             "startlinecolor": "#2a3f5f"
            },
            "baxis": {
             "endlinecolor": "#2a3f5f",
             "gridcolor": "white",
             "linecolor": "white",
             "minorgridcolor": "white",
             "startlinecolor": "#2a3f5f"
            },
            "type": "carpet"
           }
          ],
          "choropleth": [
           {
            "colorbar": {
             "outlinewidth": 0,
             "ticks": ""
            },
            "type": "choropleth"
           }
          ],
          "contour": [
           {
            "colorbar": {
             "outlinewidth": 0,
             "ticks": ""
            },
            "colorscale": [
             [
              0,
              "#0d0887"
             ],
             [
              0.1111111111111111,
              "#46039f"
             ],
             [
              0.2222222222222222,
              "#7201a8"
             ],
             [
              0.3333333333333333,
              "#9c179e"
             ],
             [
              0.4444444444444444,
              "#bd3786"
             ],
             [
              0.5555555555555556,
              "#d8576b"
             ],
             [
              0.6666666666666666,
              "#ed7953"
             ],
             [
              0.7777777777777778,
              "#fb9f3a"
             ],
             [
              0.8888888888888888,
              "#fdca26"
             ],
             [
              1,
              "#f0f921"
             ]
            ],
            "type": "contour"
           }
          ],
          "contourcarpet": [
           {
            "colorbar": {
             "outlinewidth": 0,
             "ticks": ""
            },
            "type": "contourcarpet"
           }
          ],
          "heatmap": [
           {
            "colorbar": {
             "outlinewidth": 0,
             "ticks": ""
            },
            "colorscale": [
             [
              0,
              "#0d0887"
             ],
             [
              0.1111111111111111,
              "#46039f"
             ],
             [
              0.2222222222222222,
              "#7201a8"
             ],
             [
              0.3333333333333333,
              "#9c179e"
             ],
             [
              0.4444444444444444,
              "#bd3786"
             ],
             [
              0.5555555555555556,
              "#d8576b"
             ],
             [
              0.6666666666666666,
              "#ed7953"
             ],
             [
              0.7777777777777778,
              "#fb9f3a"
             ],
             [
              0.8888888888888888,
              "#fdca26"
             ],
             [
              1,
              "#f0f921"
             ]
            ],
            "type": "heatmap"
           }
          ],
          "heatmapgl": [
           {
            "colorbar": {
             "outlinewidth": 0,
             "ticks": ""
            },
            "colorscale": [
             [
              0,
              "#0d0887"
             ],
             [
              0.1111111111111111,
              "#46039f"
             ],
             [
              0.2222222222222222,
              "#7201a8"
             ],
             [
              0.3333333333333333,
              "#9c179e"
             ],
             [
              0.4444444444444444,
              "#bd3786"
             ],
             [
              0.5555555555555556,
              "#d8576b"
             ],
             [
              0.6666666666666666,
              "#ed7953"
             ],
             [
              0.7777777777777778,
              "#fb9f3a"
             ],
             [
              0.8888888888888888,
              "#fdca26"
             ],
             [
              1,
              "#f0f921"
             ]
            ],
            "type": "heatmapgl"
           }
          ],
          "histogram": [
           {
            "marker": {
             "pattern": {
              "fillmode": "overlay",
              "size": 10,
              "solidity": 0.2
             }
            },
            "type": "histogram"
           }
          ],
          "histogram2d": [
           {
            "colorbar": {
             "outlinewidth": 0,
             "ticks": ""
            },
            "colorscale": [
             [
              0,
              "#0d0887"
             ],
             [
              0.1111111111111111,
              "#46039f"
             ],
             [
              0.2222222222222222,
              "#7201a8"
             ],
             [
              0.3333333333333333,
              "#9c179e"
             ],
             [
              0.4444444444444444,
              "#bd3786"
             ],
             [
              0.5555555555555556,
              "#d8576b"
             ],
             [
              0.6666666666666666,
              "#ed7953"
             ],
             [
              0.7777777777777778,
              "#fb9f3a"
             ],
             [
              0.8888888888888888,
              "#fdca26"
             ],
             [
              1,
              "#f0f921"
             ]
            ],
            "type": "histogram2d"
           }
          ],
          "histogram2dcontour": [
           {
            "colorbar": {
             "outlinewidth": 0,
             "ticks": ""
            },
            "colorscale": [
             [
              0,
              "#0d0887"
             ],
             [
              0.1111111111111111,
              "#46039f"
             ],
             [
              0.2222222222222222,
              "#7201a8"
             ],
             [
              0.3333333333333333,
              "#9c179e"
             ],
             [
              0.4444444444444444,
              "#bd3786"
             ],
             [
              0.5555555555555556,
              "#d8576b"
             ],
             [
              0.6666666666666666,
              "#ed7953"
             ],
             [
              0.7777777777777778,
              "#fb9f3a"
             ],
             [
              0.8888888888888888,
              "#fdca26"
             ],
             [
              1,
              "#f0f921"
             ]
            ],
            "type": "histogram2dcontour"
           }
          ],
          "mesh3d": [
           {
            "colorbar": {
             "outlinewidth": 0,
             "ticks": ""
            },
            "type": "mesh3d"
           }
          ],
          "parcoords": [
           {
            "line": {
             "colorbar": {
              "outlinewidth": 0,
              "ticks": ""
             }
            },
            "type": "parcoords"
           }
          ],
          "pie": [
           {
            "automargin": true,
            "type": "pie"
           }
          ],
          "scatter": [
           {
            "fillpattern": {
             "fillmode": "overlay",
             "size": 10,
             "solidity": 0.2
            },
            "type": "scatter"
           }
          ],
          "scatter3d": [
           {
            "line": {
             "colorbar": {
              "outlinewidth": 0,
              "ticks": ""
             }
            },
            "marker": {
             "colorbar": {
              "outlinewidth": 0,
              "ticks": ""
             }
            },
            "type": "scatter3d"
           }
          ],
          "scattercarpet": [
           {
            "marker": {
             "colorbar": {
              "outlinewidth": 0,
              "ticks": ""
             }
            },
            "type": "scattercarpet"
           }
          ],
          "scattergeo": [
           {
            "marker": {
             "colorbar": {
              "outlinewidth": 0,
              "ticks": ""
             }
            },
            "type": "scattergeo"
           }
          ],
          "scattergl": [
           {
            "marker": {
             "colorbar": {
              "outlinewidth": 0,
              "ticks": ""
             }
            },
            "type": "scattergl"
           }
          ],
          "scattermapbox": [
           {
            "marker": {
             "colorbar": {
              "outlinewidth": 0,
              "ticks": ""
             }
            },
            "type": "scattermapbox"
           }
          ],
          "scatterpolar": [
           {
            "marker": {
             "colorbar": {
              "outlinewidth": 0,
              "ticks": ""
             }
            },
            "type": "scatterpolar"
           }
          ],
          "scatterpolargl": [
           {
            "marker": {
             "colorbar": {
              "outlinewidth": 0,
              "ticks": ""
             }
            },
            "type": "scatterpolargl"
           }
          ],
          "scatterternary": [
           {
            "marker": {
             "colorbar": {
              "outlinewidth": 0,
              "ticks": ""
             }
            },
            "type": "scatterternary"
           }
          ],
          "surface": [
           {
            "colorbar": {
             "outlinewidth": 0,
             "ticks": ""
            },
            "colorscale": [
             [
              0,
              "#0d0887"
             ],
             [
              0.1111111111111111,
              "#46039f"
             ],
             [
              0.2222222222222222,
              "#7201a8"
             ],
             [
              0.3333333333333333,
              "#9c179e"
             ],
             [
              0.4444444444444444,
              "#bd3786"
             ],
             [
              0.5555555555555556,
              "#d8576b"
             ],
             [
              0.6666666666666666,
              "#ed7953"
             ],
             [
              0.7777777777777778,
              "#fb9f3a"
             ],
             [
              0.8888888888888888,
              "#fdca26"
             ],
             [
              1,
              "#f0f921"
             ]
            ],
            "type": "surface"
           }
          ],
          "table": [
           {
            "cells": {
             "fill": {
              "color": "#EBF0F8"
             },
             "line": {
              "color": "white"
             }
            },
            "header": {
             "fill": {
              "color": "#C8D4E3"
             },
             "line": {
              "color": "white"
             }
            },
            "type": "table"
           }
          ]
         },
         "layout": {
          "annotationdefaults": {
           "arrowcolor": "#2a3f5f",
           "arrowhead": 0,
           "arrowwidth": 1
          },
          "autotypenumbers": "strict",
          "coloraxis": {
           "colorbar": {
            "outlinewidth": 0,
            "ticks": ""
           }
          },
          "colorscale": {
           "diverging": [
            [
             0,
             "#8e0152"
            ],
            [
             0.1,
             "#c51b7d"
            ],
            [
             0.2,
             "#de77ae"
            ],
            [
             0.3,
             "#f1b6da"
            ],
            [
             0.4,
             "#fde0ef"
            ],
            [
             0.5,
             "#f7f7f7"
            ],
            [
             0.6,
             "#e6f5d0"
            ],
            [
             0.7,
             "#b8e186"
            ],
            [
             0.8,
             "#7fbc41"
            ],
            [
             0.9,
             "#4d9221"
            ],
            [
             1,
             "#276419"
            ]
           ],
           "sequential": [
            [
             0,
             "#0d0887"
            ],
            [
             0.1111111111111111,
             "#46039f"
            ],
            [
             0.2222222222222222,
             "#7201a8"
            ],
            [
             0.3333333333333333,
             "#9c179e"
            ],
            [
             0.4444444444444444,
             "#bd3786"
            ],
            [
             0.5555555555555556,
             "#d8576b"
            ],
            [
             0.6666666666666666,
             "#ed7953"
            ],
            [
             0.7777777777777778,
             "#fb9f3a"
            ],
            [
             0.8888888888888888,
             "#fdca26"
            ],
            [
             1,
             "#f0f921"
            ]
           ],
           "sequentialminus": [
            [
             0,
             "#0d0887"
            ],
            [
             0.1111111111111111,
             "#46039f"
            ],
            [
             0.2222222222222222,
             "#7201a8"
            ],
            [
             0.3333333333333333,
             "#9c179e"
            ],
            [
             0.4444444444444444,
             "#bd3786"
            ],
            [
             0.5555555555555556,
             "#d8576b"
            ],
            [
             0.6666666666666666,
             "#ed7953"
            ],
            [
             0.7777777777777778,
             "#fb9f3a"
            ],
            [
             0.8888888888888888,
             "#fdca26"
            ],
            [
             1,
             "#f0f921"
            ]
           ]
          },
          "colorway": [
           "#636efa",
           "#EF553B",
           "#00cc96",
           "#ab63fa",
           "#FFA15A",
           "#19d3f3",
           "#FF6692",
           "#B6E880",
           "#FF97FF",
           "#FECB52"
          ],
          "font": {
           "color": "#2a3f5f"
          },
          "geo": {
           "bgcolor": "white",
           "lakecolor": "white",
           "landcolor": "#E5ECF6",
           "showlakes": true,
           "showland": true,
           "subunitcolor": "white"
          },
          "hoverlabel": {
           "align": "left"
          },
          "hovermode": "closest",
          "mapbox": {
           "style": "light"
          },
          "paper_bgcolor": "white",
          "plot_bgcolor": "#E5ECF6",
          "polar": {
           "angularaxis": {
            "gridcolor": "white",
            "linecolor": "white",
            "ticks": ""
           },
           "bgcolor": "#E5ECF6",
           "radialaxis": {
            "gridcolor": "white",
            "linecolor": "white",
            "ticks": ""
           }
          },
          "scene": {
           "xaxis": {
            "backgroundcolor": "#E5ECF6",
            "gridcolor": "white",
            "gridwidth": 2,
            "linecolor": "white",
            "showbackground": true,
            "ticks": "",
            "zerolinecolor": "white"
           },
           "yaxis": {
            "backgroundcolor": "#E5ECF6",
            "gridcolor": "white",
            "gridwidth": 2,
            "linecolor": "white",
            "showbackground": true,
            "ticks": "",
            "zerolinecolor": "white"
           },
           "zaxis": {
            "backgroundcolor": "#E5ECF6",
            "gridcolor": "white",
            "gridwidth": 2,
            "linecolor": "white",
            "showbackground": true,
            "ticks": "",
            "zerolinecolor": "white"
           }
          },
          "shapedefaults": {
           "line": {
            "color": "#2a3f5f"
           }
          },
          "ternary": {
           "aaxis": {
            "gridcolor": "white",
            "linecolor": "white",
            "ticks": ""
           },
           "baxis": {
            "gridcolor": "white",
            "linecolor": "white",
            "ticks": ""
           },
           "bgcolor": "#E5ECF6",
           "caxis": {
            "gridcolor": "white",
            "linecolor": "white",
            "ticks": ""
           }
          },
          "title": {
           "x": 0.05
          },
          "xaxis": {
           "automargin": true,
           "gridcolor": "white",
           "linecolor": "white",
           "ticks": "",
           "title": {
            "standoff": 15
           },
           "zerolinecolor": "white",
           "zerolinewidth": 2
          },
          "yaxis": {
           "automargin": true,
           "gridcolor": "white",
           "linecolor": "white",
           "ticks": "",
           "title": {
            "standoff": 15
           },
           "zerolinecolor": "white",
           "zerolinewidth": 2
          }
         }
        },
        "title": {
         "font": {
          "size": 20
         },
         "text": "<b>Macrophage Infection State Transitions for control experiment (3,5)<b>"
        },
        "width": 800
       }
      },
      "image/png": "[encoded data removed]",
      "text/html": [
       "<div>                            <div id=\"5dd6fe74-e937-45f0-ab4f-958590e112ca\" class=\"plotly-graph-div\" style=\"height:600px; width:800px;\"></div>            <script type=\"text/javascript\">                require([\"plotly\"], function(Plotly) {                    window.PLOTLYENV=window.PLOTLYENV || {};                                    if (document.getElementById(\"5dd6fe74-e937-45f0-ab4f-958590e112ca\")) {                    Plotly.newPlot(                        \"5dd6fe74-e937-45f0-ab4f-958590e112ca\",                        [{\"link\":{\"color\":[\"rgba(208, 44, 145, 0.25)\",\"rgba(26, 150, 65, 0.25)\",\"rgba(241, 182, 218, 0.25)\",\"rgba(166, 217, 106, 0.25)\",\"rgba(0, 0, 0, 0.25)\",\"rgba(0, 0, 0, 0.25)\"],\"source\":[0,0,1,1,0,1,0,1],\"target\":[2,3,2,3,4,4,5,5],\"value\":[95,0,103,138,22,17,2,0]},\"node\":{\"color\":[\"#d02c91\",\"#1a9641\",\"#f1b6da\",\"#a6d96a\",\"#978897\",\"#d1d1ca\"],\"label\":[\"<i>Initially</i> Infected\",\"<i>Initially</i> Uninfected\",\"<i>Finally</i> Infected\",\"<i>Finally</i> Uninfected\",\"Died\",\"Effercytosis\"],\"line\":{\"color\":\"black\",\"width\":0.5},\"pad\":15,\"thickness\":20},\"type\":\"sankey\"}],                        {\"template\":{\"data\":{\"histogram2dcontour\":[{\"type\":\"histogram2dcontour\",\"colorbar\":{\"outlinewidth\":0,\"ticks\":\"\"},\"colorscale\":[[0.0,\"#0d0887\"],[0.1111111111111111,\"#46039f\"],[0.2222222222222222,\"#7201a8\"],[0.3333333333333333,\"#9c179e\"],[0.4444444444444444,\"#bd3786\"],[0.5555555555555556,\"#d8576b\"],[0.6666666666666666,\"#ed7953\"],[0.7777777777777778,\"#fb9f3a\"],[0.8888888888888888,\"#fdca26\"],[1.0,\"#f0f921\"]]}],\"choropleth\":[{\"type\":\"choropleth\",\"colorbar\":{\"outlinewidth\":0,\"ticks\":\"\"}}],\"histogram2d\":[{\"type\":\"histogram2d\",\"colorbar\":{\"outlinewidth\":0,\"ticks\":\"\"},\"colorscale\":[[0.0,\"#0d0887\"],[0.1111111111111111,\"#46039f\"],[0.2222222222222222,\"#7201a8\"],[0.3333333333333333,\"#9c179e\"],[0.4444444444444444,\"#bd3786\"],[0.5555555555555556,\"#d8576b\"],[0.6666666666666666,\"#ed7953\"],[0.7777777777777778,\"#fb9f3a\"],[0.8888888888888888,\"#fdca26\"],[1.0,\"#f0f921\"]]}],\"heatmap\":[{\"type\":\"heatmap\",\"colorbar\":{\"outlinewidth\":0,\"ticks\":\"\"},\"colorscale\":[[0.0,\"#0d0887\"],[0.1111111111111111,\"#46039f\"],[0.2222222222222222,\"#7201a8\"],[0.3333333333333333,\"#9c179e\"],[0.4444444444444444,\"#bd3786\"],[0.5555555555555556,\"#d8576b\"],[0.6666666666666666,\"#ed7953\"],[0.7777777777777778,\"#fb9f3a\"],[0.8888888888888888,\"#fdca26\"],[1.0,\"#f0f921\"]]}],\"heatmapgl\":[{\"type\":\"heatmapgl\",\"colorbar\":{\"outlinewidth\":0,\"ticks\":\"\"},\"colorscale\":[[0.0,\"#0d0887\"],[0.1111111111111111,\"#46039f\"],[0.2222222222222222,\"#7201a8\"],[0.3333333333333333,\"#9c179e\"],[0.4444444444444444,\"#bd3786\"],[0.5555555555555556,\"#d8576b\"],[0.6666666666666666,\"#ed7953\"],[0.7777777777777778,\"#fb9f3a\"],[0.8888888888888888,\"#fdca26\"],[1.0,\"#f0f921\"]]}],\"contourcarpet\":[{\"type\":\"contourcarpet\",\"colorbar\":{\"outlinewidth\":0,\"ticks\":\"\"}}],\"contour\":[{\"type\":\"contour\",\"colorbar\":{\"outlinewidth\":0,\"ticks\":\"\"},\"colorscale\":[[0.0,\"#0d0887\"],[0.1111111111111111,\"#46039f\"],[0.2222222222222222,\"#7201a8\"],[0.3333333333333333,\"#9c179e\"],[0.4444444444444444,\"#bd3786\"],[0.5555555555555556,\"#d8576b\"],[0.6666666666666666,\"#ed7953\"],[0.7777777777777778,\"#fb9f3a\"],[0.8888888888888888,\"#fdca26\"],[1.0,\"#f0f921\"]]}],\"surface\":[{\"type\":\"surface\",\"colorbar\":{\"outlinewidth\":0,\"ticks\":\"\"},\"colorscale\":[[0.0,\"#0d0887\"],[0.1111111111111111,\"#46039f\"],[0.2222222222222222,\"#7201a8\"],[0.3333333333333333,\"#9c179e\"],[0.4444444444444444,\"#bd3786\"],[0.5555555555555556,\"#d8576b\"],[0.6666666666666666,\"#ed7953\"],[0.7777777777777778,\"#fb9f3a\"],[0.8888888888888888,\"#fdca26\"],[1.0,\"#f0f921\"]]}],\"mesh3d\":[{\"type\":\"mesh3d\",\"colorbar\":{\"outlinewidth\":0,\"ticks\":\"\"}}],\"scatter\":[{\"fillpattern\":{\"fillmode\":\"overlay\",\"size\":10,\"solidity\":0.2},\"type\":\"scatter\"}],\"parcoords\":[{\"type\":\"parcoords\",\"line\":{\"colorbar\":{\"outlinewidth\":0,\"ticks\":\"\"}}}],\"scatterpolargl\":[{\"type\":\"scatterpolargl\",\"marker\":{\"colorbar\":{\"outlinewidth\":0,\"ticks\":\"\"}}}],\"bar\":[{\"error_x\":{\"color\":\"#2a3f5f\"},\"error_y\":{\"color\":\"#2a3f5f\"},\"marker\":{\"line\":{\"color\":\"#E5ECF6\",\"width\":0.5},\"pattern\":{\"fillmode\":\"overlay\",\"size\":10,\"solidity\":0.2}},\"type\":\"bar\"}],\"scattergeo\":[{\"type\":\"scattergeo\",\"marker\":{\"colorbar\":{\"outlinewidth\":0,\"ticks\":\"\"}}}],\"scatterpolar\":[{\"type\":\"scatterpolar\",\"marker\":{\"colorbar\":{\"outlinewidth\":0,\"ticks\":\"\"}}}],\"histogram\":[{\"marker\":{\"pattern\":{\"fillmode\":\"overlay\",\"size\":10,\"solidity\":0.2}},\"type\":\"histogram\"}],\"scattergl\":[{\"type\":\"scattergl\",\"marker\":{\"colorbar\":{\"outlinewidth\":0,\"ticks\":\"\"}}}],\"scatter3d\":[{\"type\":\"scatter3d\",\"line\":{\"colorbar\":{\"outlinewidth\":0,\"ticks\":\"\"}},\"marker\":{\"colorbar\":{\"outlinewidth\":0,\"ticks\":\"\"}}}],\"scattermapbox\":[{\"type\":\"scattermapbox\",\"marker\":{\"colorbar\":{\"outlinewidth\":0,\"ticks\":\"\"}}}],\"scatterternary\":[{\"type\":\"scatterternary\",\"marker\":{\"colorbar\":{\"outlinewidth\":0,\"ticks\":\"\"}}}],\"scattercarpet\":[{\"type\":\"scattercarpet\",\"marker\":{\"colorbar\":{\"outlinewidth\":0,\"ticks\":\"\"}}}],\"carpet\":[{\"aaxis\":{\"endlinecolor\":\"#2a3f5f\",\"gridcolor\":\"white\",\"linecolor\":\"white\",\"minorgridcolor\":\"white\",\"startlinecolor\":\"#2a3f5f\"},\"baxis\":{\"endlinecolor\":\"#2a3f5f\",\"gridcolor\":\"white\",\"linecolor\":\"white\",\"minorgridcolor\":\"white\",\"startlinecolor\":\"#2a3f5f\"},\"type\":\"carpet\"}],\"table\":[{\"cells\":{\"fill\":{\"color\":\"#EBF0F8\"},\"line\":{\"color\":\"white\"}},\"header\":{\"fill\":{\"color\":\"#C8D4E3\"},\"line\":{\"color\":\"white\"}},\"type\":\"table\"}],\"barpolar\":[{\"marker\":{\"line\":{\"color\":\"#E5ECF6\",\"width\":0.5},\"pattern\":{\"fillmode\":\"overlay\",\"size\":10,\"solidity\":0.2}},\"type\":\"barpolar\"}],\"pie\":[{\"automargin\":true,\"type\":\"pie\"}]},\"layout\":{\"autotypenumbers\":\"strict\",\"colorway\":[\"#636efa\",\"#EF553B\",\"#00cc96\",\"#ab63fa\",\"#FFA15A\",\"#19d3f3\",\"#FF6692\",\"#B6E880\",\"#FF97FF\",\"#FECB52\"],\"font\":{\"color\":\"#2a3f5f\"},\"hovermode\":\"closest\",\"hoverlabel\":{\"align\":\"left\"},\"paper_bgcolor\":\"white\",\"plot_bgcolor\":\"#E5ECF6\",\"polar\":{\"bgcolor\":\"#E5ECF6\",\"angularaxis\":{\"gridcolor\":\"white\",\"linecolor\":\"white\",\"ticks\":\"\"},\"radialaxis\":{\"gridcolor\":\"white\",\"linecolor\":\"white\",\"ticks\":\"\"}},\"ternary\":{\"bgcolor\":\"#E5ECF6\",\"aaxis\":{\"gridcolor\":\"white\",\"linecolor\":\"white\",\"ticks\":\"\"},\"baxis\":{\"gridcolor\":\"white\",\"linecolor\":\"white\",\"ticks\":\"\"},\"caxis\":{\"gridcolor\":\"white\",\"linecolor\":\"white\",\"ticks\":\"\"}},\"coloraxis\":{\"colorbar\":{\"outlinewidth\":0,\"ticks\":\"\"}},\"colorscale\":{\"sequential\":[[0.0,\"#0d0887\"],[0.1111111111111111,\"#46039f\"],[0.2222222222222222,\"#7201a8\"],[0.3333333333333333,\"#9c179e\"],[0.4444444444444444,\"#bd3786\"],[0.5555555555555556,\"#d8576b\"],[0.6666666666666666,\"#ed7953\"],[0.7777777777777778,\"#fb9f3a\"],[0.8888888888888888,\"#fdca26\"],[1.0,\"#f0f921\"]],\"sequentialminus\":[[0.0,\"#0d0887\"],[0.1111111111111111,\"#46039f\"],[0.2222222222222222,\"#7201a8\"],[0.3333333333333333,\"#9c179e\"],[0.4444444444444444,\"#bd3786\"],[0.5555555555555556,\"#d8576b\"],[0.6666666666666666,\"#ed7953\"],[0.7777777777777778,\"#fb9f3a\"],[0.8888888888888888,\"#fdca26\"],[1.0,\"#f0f921\"]],\"diverging\":[[0,\"#8e0152\"],[0.1,\"#c51b7d\"],[0.2,\"#de77ae\"],[0.3,\"#f1b6da\"],[0.4,\"#fde0ef\"],[0.5,\"#f7f7f7\"],[0.6,\"#e6f5d0\"],[0.7,\"#b8e186\"],[0.8,\"#7fbc41\"],[0.9,\"#4d9221\"],[1,\"#276419\"]]},\"xaxis\":{\"gridcolor\":\"white\",\"linecolor\":\"white\",\"ticks\":\"\",\"title\":{\"standoff\":15},\"zerolinecolor\":\"white\",\"automargin\":true,\"zerolinewidth\":2},\"yaxis\":{\"gridcolor\":\"white\",\"linecolor\":\"white\",\"ticks\":\"\",\"title\":{\"standoff\":15},\"zerolinecolor\":\"white\",\"automargin\":true,\"zerolinewidth\":2},\"scene\":{\"xaxis\":{\"backgroundcolor\":\"#E5ECF6\",\"gridcolor\":\"white\",\"linecolor\":\"white\",\"showbackground\":true,\"ticks\":\"\",\"zerolinecolor\":\"white\",\"gridwidth\":2},\"yaxis\":{\"backgroundcolor\":\"#E5ECF6\",\"gridcolor\":\"white\",\"linecolor\":\"white\",\"showbackground\":true,\"ticks\":\"\",\"zerolinecolor\":\"white\",\"gridwidth\":2},\"zaxis\":{\"backgroundcolor\":\"#E5ECF6\",\"gridcolor\":\"white\",\"linecolor\":\"white\",\"showbackground\":true,\"ticks\":\"\",\"zerolinecolor\":\"white\",\"gridwidth\":2}},\"shapedefaults\":{\"line\":{\"color\":\"#2a3f5f\"}},\"annotationdefaults\":{\"arrowcolor\":\"#2a3f5f\",\"arrowhead\":0,\"arrowwidth\":1},\"geo\":{\"bgcolor\":\"white\",\"landcolor\":\"#E5ECF6\",\"subunitcolor\":\"white\",\"showland\":true,\"showlakes\":true,\"lakecolor\":\"white\"},\"title\":{\"x\":0.05},\"mapbox\":{\"style\":\"light\"}}},\"title\":{\"font\":{\"size\":20},\"text\":\"<b>Macrophage Infection State Transitions for control experiment (3,5)<b>\"},\"font\":{\"family\":\"Liberation Sans\"},\"width\":800,\"height\":600},                        {\"responsive\": true}                    ).then(function(){\n",
       "                            \n",
       "var gd = document.getElementById('5dd6fe74-e937-45f0-ab4f-958590e112ca');\n",
       "var x = new MutationObserver(function (mutations, observer) {{\n",
       "        var display = window.getComputedStyle(gd).display;\n",
       "        if (!display || display === 'none') {{\n",
       "            console.log([gd, 'removed!']);\n",
       "            Plotly.purge(gd);\n",
       "            observer.disconnect();\n",
       "        }}\n",
       "}});\n",
       "\n",
       "// Listen for the removal of the full notebook cells\n",
       "var notebookContainer = gd.closest('#notebook-container');\n",
       "if (notebookContainer) {{\n",
       "    x.observe(notebookContainer, {childList: true});\n",
       "}}\n",
       "\n",
       "// Listen for the clearing of the current output cell\n",
       "var outputEl = gd.closest('.output');\n",
       "if (outputEl) {{\n",
       "    x.observe(outputEl, {childList: true});\n",
       "}}\n",
       "\n",
       "                        })                };                });            </script>        </div>"
      ]
     },
     "metadata": {},
     "output_type": "display_data"
    }
   ],
   "source": [
    "# Define new labels for nodes including \"Died\"\n",
    "labels = [\"<i>Initially</i> Infected\", \"<i>Initially</i> Uninfected\", \"<i>Finally</i> Infected\", \"<i>Finally</i> Uninfected\", \"Died\", \"Effercytosis\"]\n",
    "node_colors =  [colours.expanded_piyg[i] for i in [-1, 0, -2, 1, 2, 3]] # Add a color for \"Died\", e.g., black\n",
    "\n",
    "# Update source, target, and value for Sankey diagram including transitions to \"Died\"\n",
    "source = [0, 0, 1, 1, 0, 1, 0, 1]  # Add '0' and '1' for transitions from Initially Infected/Uninfected to Died\n",
    "target = [2, 3, 2, 3, 4, 4, 5, 5]  # Add '4' twice for the new \"Died\" node\n",
    "value = [\n",
    "    len(infected_to_infected),     # Initially Infected -> Finally Infected\n",
    "    len(infected_to_uninfected),      # Initially Infected -> Finally Uninfected\n",
    "    len(uninfected_to_infected),        # Initially Uninfected -> Finally Infected\n",
    "    len(uninfected_to_uninfected),   # Initially Uninfected -> Finally Uninfected\n",
    "    len(infected_to_dead),       # Initially Infected -> Died\n",
    "    len(uninfected_to_dead),     # Initially Uninfected -> Died\n",
    "    len(infected_to_effero),        # Init Infected -> effero\n",
    "    len(uninfected_to_effero)       # Init uninfected -> effero\n",
    "]\n",
    "\n",
    "# Update link colors if necessary\n",
    "link_colors = [f'rgba({int(color[1:3], 16)}, {int(color[3:5], 16)}, {int(color[5:7], 16)}, 0.25)' for color in [colours.expanded_piyg[i] for i in [-1, 0, -2, 1]]] + [\"rgba(0, 0, 0, 0.25)\", \"rgba(0, 0, 0, 0.25)\"]  # Add link colors for transitions to \"Died\"\n",
    "\n",
    "# Create the Sankey diagram\n",
    "fig = go.Figure(data=[go.Sankey(\n",
    "    node=dict(\n",
    "        pad=15,\n",
    "        thickness=20,\n",
    "        line=dict(color=\"black\", width=0.5),\n",
    "        label=labels,        \n",
    "        color=node_colors  # Set node colors\n",
    "\n",
    "    ),\n",
    "    link=dict(\n",
    "        source=source,\n",
    "        target=target,\n",
    "        value=value, \n",
    "        color=link_colors\n",
    "    ))])\n",
    "\n",
    "fig.update_layout(\n",
    "    title_text=\"Macrophage Infection State Transitions for control experiment (3,5)\",\n",
    "    # font_size=12,\n",
    "    width=800,  # Set the width of the figure\n",
    "    height=600,  # Set the height of the figure\n",
    "    font_family=\"Liberation Sans\", \n",
    "    title=dict(text=\"<b>Macrophage Infection State Transitions for control experiment (3,5)<b>\", font=dict(size=20),)\n",
    ")\n",
    "\n",
    "fig.write_html(\"WIP-sankey-diagram.html\")\n",
    "fig.show()"
   ]
  },
  {
   "cell_type": "markdown",
   "id": "6a65601c-c309-4566-9e39-2a09310db8c7",
   "metadata": {
    "jp-MarkdownHeadingCollapsed": true
   },
   "source": [
    "# Adding efferocytoses classifcations\n",
    "\n",
    "## At the moment will efferoctyoses be included in my true track df? yes! checking dead cells for eff"
   ]
  },
  {
   "cell_type": "code",
   "execution_count": 269,
   "id": "e88eb618-1d76-46b3-8c0d-6b70fa535a0d",
   "metadata": {},
   "outputs": [
    {
     "name": "stdout",
     "output_type": "stream",
     "text": [
      "False\n",
      "False\n",
      "True\n",
      "False\n",
      "False\n",
      "False\n",
      "False\n",
      "False\n"
     ]
    }
   ],
   "source": [
    "for list_ in [infected_to_infected,     # Initially Infected -> Finally Infected\n",
    "    infected_to_uninfected,      # Initially Infected -> Finally Uninfected\n",
    "    uninfected_to_infected,        # Initially Uninfected -> Finally Infected\n",
    "    uninfected_to_uninfected,   # Initially Uninfected -> Finally Uninfected\n",
    "    infected_to_dead,       # Initially Infected -> Died\n",
    "    uninfected_to_dead,     # Initially Uninfected -> Died\n",
    "    infected_to_effero,        # Init Infected -> effero\n",
    "    uninfected_to_effero]:\n",
    "    print('415.3.5' in list_)"
   ]
  },
  {
   "cell_type": "code",
   "execution_count": 274,
   "id": "08856e45-7e46-47b9-a3aa-0e55bc3706d4",
   "metadata": {},
   "outputs": [],
   "source": [
    "import seaborn as sns"
   ]
  },
  {
   "cell_type": "code",
   "execution_count": 278,
   "id": "676c53b9-66ae-4a58-b060-464e6e039682",
   "metadata": {},
   "outputs": [
    {
     "data": {
      "text/plain": [
       "['252.3.5',\n",
       " '486.3.5',\n",
       " '507.3.5',\n",
       " '515.3.5',\n",
       " '530.3.5',\n",
       " '542.3.5',\n",
       " '1611.3.5',\n",
       " '1118.3.5',\n",
       " '3179.3.5',\n",
       " '110.3.5',\n",
       " '112.3.5',\n",
       " '119.3.5',\n",
       " '1356.3.5',\n",
       " '384.3.5',\n",
       " '410.3.5',\n",
       " '426.3.5',\n",
       " '431.3.5',\n",
       " '432.3.5',\n",
       " '461.3.5',\n",
       " '473.3.5',\n",
       " '997.3.5',\n",
       " '491.3.5']"
      ]
     },
     "execution_count": 278,
     "metadata": {},
     "output_type": "execute_result"
    }
   ],
   "source": [
    "infected_to_dead"
   ]
  },
  {
   "cell_type": "code",
   "execution_count": 279,
   "id": "edad6d12-1152-4392-bfea-d6874f147199",
   "metadata": {},
   "outputs": [
    {
     "data": {
      "text/plain": [
       "['107.3.5',\n",
       " '144.3.5',\n",
       " '15.3.5',\n",
       " '444.3.5',\n",
       " '552.3.5',\n",
       " '26.3.5',\n",
       " '34.3.5',\n",
       " '642.3.5',\n",
       " '131.3.5',\n",
       " '204.3.5',\n",
       " '1308.3.5',\n",
       " '286.3.5',\n",
       " '344.3.5',\n",
       " '354.3.5',\n",
       " '397.3.5',\n",
       " '424.3.5',\n",
       " '493.3.5']"
      ]
     },
     "execution_count": 279,
     "metadata": {},
     "output_type": "execute_result"
    }
   ],
   "source": [
    "uninfected_to_dead"
   ]
  },
  {
   "cell_type": "markdown",
   "id": "f260661a-4cd1-4edf-99e9-9947650ef709",
   "metadata": {
    "jp-MarkdownHeadingCollapsed": true
   },
   "source": [
    "# Adding loops\n",
    "\n",
    "I.e. dead to eff to dead"
   ]
  },
  {
   "cell_type": "code",
   "execution_count": 359,
   "id": "7a0b1e60-085e-4feb-80d6-b0e1d74f8c79",
   "metadata": {},
   "outputs": [
    {
     "data": {
      "text/plain": [
       "['285.3.5', '432.3.5']"
      ]
     },
     "execution_count": 359,
     "metadata": {},
     "output_type": "execute_result"
    }
   ],
   "source": [
    "eff_IDs = ['285.3.5', '432.3.5']\n",
    "eff_IDs"
   ]
  },
  {
   "cell_type": "code",
   "execution_count": 425,
   "id": "40918271-be6b-46f0-9599-792f4290a040",
   "metadata": {},
   "outputs": [
    {
     "data": {
      "text/plain": [
       "True"
      ]
     },
     "execution_count": 425,
     "metadata": {},
     "output_type": "execute_result"
    }
   ],
   "source": [
    "'204.3.5' in death_IDs"
   ]
  },
  {
   "cell_type": "code",
   "execution_count": 441,
   "id": "af9dd9da-5c4f-4819-a7b0-81036b5669e0",
   "metadata": {},
   "outputs": [],
   "source": [
    "# empty lists to record the transitions\n",
    "infected_to_infected = []\n",
    "infected_to_uninfected = []\n",
    "infected_to_effero = []\n",
    "infected_to_dead = []\n",
    "\n",
    "dead_to_effero = [] # '491.3.5'\n",
    "dead_to_phago = [] # '491.3.5'\n",
    "\n",
    "uninfected_to_infected = []\n",
    "uninfected_to_uninfected = []\n",
    "uninfected_to_effero = []\n",
    "uninfected_to_dead = []\n",
    "\n",
    "effero_to_dead = [] # '432.3.5',\n",
    "\n",
    "## create boundary condition\n",
    "boundary_upper = 1200\n",
    "boundary_lower = 0\n",
    "threshold = 7\n",
    "boundary_tracks =[]\n",
    "\n",
    "# iterate over each cell and pull information from df\n",
    "for track_ID in df['Unique ID'].unique():\n",
    "    \n",
    "    # isolate a single cell information\n",
    "    subset_df = df[df['Unique ID'] == track_ID]\n",
    "    \n",
    "    # Check if the last values of 'x' or 'y' are within 5 pixels of either boundary\n",
    "    if ((abs(subset_df['x'].iloc[-1] - boundary_upper) <= threshold) or \n",
    "        (abs(subset_df['x'].iloc[-1] - boundary_lower) <= threshold) or\n",
    "        (abs(subset_df['y'].iloc[-1] - boundary_upper) <= threshold) or\n",
    "        (abs(subset_df['y'].iloc[-1] - boundary_lower) <= threshold)):\n",
    "        boundary_tracks.append(track_ID)\n",
    "        continue\n",
    "    \n",
    "    # Check initial infection status (ignoring nan values)\n",
    "    initial_infected = all(subset_df.dropna()['Mtb Area µm2'].iloc[:3] > min_mtb_area_thresh_µm)\n",
    "\n",
    "    ####################################################INIT INFECTED\n",
    "    # now check the fate of the initially infected\n",
    "    if initial_infected:\n",
    "        \n",
    "        # check if efferocytosed first\n",
    "        if track_ID in eff_IDs or track_ID in ['415.3.5','285.3.5']: # manually adding some effero\n",
    "            infected_to_effero.append(track_ID)\n",
    "\n",
    "            # now see if any effero then die (manually identified)\n",
    "            if track_ID in ['432.3.5', ]:\n",
    "                effero_to_dead.append(track_ID)\n",
    "                # continue # remove the continue statement here because a dead cell can also be efferocytosed\n",
    "\n",
    "        # Check death status\n",
    "        if track_ID in death_IDs or track_ID in ['507.3.5', '112.3.5']: # manually correcting last min ID switch       \n",
    "            infected_to_dead.append(track_ID)\n",
    "\n",
    "            # now see if any dead cells are efferocytosed (manually identified)\n",
    "            if track_ID in ['491.3.5', '432.3.5', '112.3.5']:\n",
    "                dead_to_effero.append(track_ID)\n",
    "                # continue  # remove the continue statement here because an efferocytosed cell can also later die\n",
    "\n",
    "        # if both other options fail then Check final alive infection status\n",
    "        \n",
    "        if all(subset_df.dropna()['Mtb Area µm2'].iloc[-3:] > min_mtb_area_thresh_µm) or track_ID in ['536.3.5', '93.3.5', '1335.3.5']:\n",
    "            infected_to_infected.append(track_ID)\n",
    "            continue\n",
    "        else: \n",
    "            infected_to_uninfected.append(track_ID)\n",
    "                 \n",
    "            continue\n",
    "\n",
    "    ####################################################INIT UNINFECTED\n",
    "    else:\n",
    "        \n",
    "        # check if efferocytosed first\n",
    "        if track_ID in eff_IDs:\n",
    "            uninfected_to_effero.append(track_ID)\n",
    "\n",
    "            # now see if any effero then die (manually identified)\n",
    "            if track_ID in ['', ]:\n",
    "                effero_to_death.append(track_ID)\n",
    "                continue\n",
    "\n",
    "            # continue anyway \n",
    "            continue \n",
    "        \n",
    "        # Check death status\n",
    "        if track_ID in death_IDs or track_ID in ['204.3.5']: # boundary case that looks like it dies\n",
    "            uninfected_to_dead.append(track_ID)\n",
    "            \n",
    "            # now see if any dead cells are efferocytosed (manually identified)\n",
    "            if track_ID in ['', ]:\n",
    "                dead_to_effero.append(track_ID)\n",
    "                continue\n",
    "\n",
    "            # continue afterwards\n",
    "            continue\n",
    "            \n",
    "            \n",
    "        # if both other options fail then Check final alive infection status (ignoring nan values)\n",
    "        if all(subset_df.iloc[-3:]['Mtb Area µm2'] > min_mtb_area_thresh_µm):\n",
    "            uninfected_to_infected.append(track_ID)\n",
    "            continue\n",
    "        else: \n",
    "            uninfected_to_uninfected.append(track_ID)\n",
    "            continue\n",
    "\n",
    "## manually correcting last min id switches \n",
    "infected_to_uninfected.remove('507.3.5') # manually correcting last min ID switch \n",
    "infected_to_uninfected.remove('112.3.5') # last min id switch because of cell death then effero\n",
    "infected_to_uninfected.remove('499.3.5') # dead then eff\n",
    "infected_to_uninfected.remove('285.3.5') # eff"
   ]
  },
  {
   "cell_type": "code",
   "execution_count": 445,
   "id": "381856c2-7617-42cc-8bf2-e6a6a36d7605",
   "metadata": {},
   "outputs": [],
   "source": [
    "# empty lists to record the transitions\n",
    "infected_to_infected = []\n",
    "infected_to_uninfected = []\n",
    "infected_to_effero = []\n",
    "infected_to_dead = []\n",
    "\n",
    "dead_to_effero = [] # '491.3.5'\n",
    "dead_to_phago = [] # '491.3.5'\n",
    "\n",
    "uninfected_to_infected = []\n",
    "uninfected_to_uninfected = []\n",
    "uninfected_to_effero = []\n",
    "uninfected_to_dead = []\n",
    "\n",
    "effero_to_dead = [] # '432.3.5',\n",
    "\n",
    "## create boundary condition\n",
    "boundary_upper = 1200\n",
    "boundary_lower = 0\n",
    "threshold = 7\n",
    "boundary_tracks =[]\n",
    "\n",
    "# iterate over each cell and pull information from df\n",
    "for track_ID in df['Unique ID'].unique():\n",
    "    \n",
    "    # isolate a single cell information\n",
    "    subset_df = df[df['Unique ID'] == track_ID]\n",
    "    \n",
    "    # Check if the last values of 'x' or 'y' are within 5 pixels of either boundary\n",
    "    if ((abs(subset_df['x'].iloc[-1] - boundary_upper) <= threshold) or \n",
    "        (abs(subset_df['x'].iloc[-1] - boundary_lower) <= threshold) or\n",
    "        (abs(subset_df['y'].iloc[-1] - boundary_upper) <= threshold) or\n",
    "        (abs(subset_df['y'].iloc[-1] - boundary_lower) <= threshold)):\n",
    "        boundary_tracks.append(track_ID)\n",
    "        continue\n",
    "    \n",
    "    # Check initial infection status (ignoring nan values)\n",
    "    initial_infected = all(subset_df.dropna()['Mtb Area µm2'].iloc[:3] > min_mtb_area_thresh_µm)\n",
    "\n",
    "    ####################################################INIT INFECTED\n",
    "    # now check the fate of the initially infected\n",
    "    if initial_infected:\n",
    "        \n",
    "        # check if efferocytosed first\n",
    "        if track_ID in eff_IDs or track_ID in ['415.3.5','285.3.5']: # manually adding some effero\n",
    "            infected_to_effero.append(track_ID)\n",
    "\n",
    "            # now see if any effero then die (manually identified)\n",
    "            if track_ID in ['432.3.5', ]:\n",
    "                effero_to_dead.append(track_ID)\n",
    "                # continue # remove the continue statement here because a dead cell can also be efferocytosed\n",
    "\n",
    "        # Check death status\n",
    "        if track_ID in death_IDs or track_ID in ['507.3.5', '112.3.5']: # manually correcting last min ID switch       \n",
    "            infected_to_dead.append(track_ID)\n",
    "\n",
    "            # now see if any dead cells are efferocytosed (manually identified)\n",
    "            if track_ID in ['491.3.5', '432.3.5', '112.3.5']:\n",
    "                dead_to_effero.append(track_ID)\n",
    "                # continue  # remove the continue statement here because an efferocytosed cell can also later die\n",
    "\n",
    "        # if both other options fail then Check final alive infection status\n",
    "        \n",
    "        if all(subset_df.dropna()['Mtb Area µm2'].iloc[-3:] > min_mtb_area_thresh_µm) or track_ID in ['536.3.5', '93.3.5', '1335.3.5']:\n",
    "            infected_to_infected.append(track_ID)\n",
    "            continue\n",
    "        else: \n",
    "            infected_to_uninfected.append(track_ID)\n",
    "                 \n",
    "            continue\n",
    "\n",
    "    ####################################################INIT UNINFECTED\n",
    "    # check the fate of the initially uninfected\n",
    "    else:\n",
    "        \n",
    "            \n",
    "        # check if efferocytosed first\n",
    "        if track_ID in eff_IDs or track_ID in []: # manually adding some effero\n",
    "            uninfected_to_effero.append(track_ID)\n",
    "\n",
    "            # now see if any effero then die (manually identified)\n",
    "            if track_ID in []:\n",
    "                effero_to_dead.append(track_ID)\n",
    "                # continue # remove the continue statement here because a dead cell can also be efferocytosed\n",
    "\n",
    "        # Check death status\n",
    "        if track_ID in death_IDs or track_ID in ['204.3.5']: # manually correcting last min ID switch       \n",
    "            uninfected_to_dead.append(track_ID)\n",
    "\n",
    "            # now see if any dead cells are efferocytosed (manually identified)\n",
    "            if track_ID in []:\n",
    "                dead_to_effero.append(track_ID)\n",
    "                # continue  # remove the continue statement here because an efferocytosed cell can also later die\n",
    "\n",
    "        # if both other options fail then Check final alive infection status\n",
    "        \n",
    "        if all(subset_df.dropna()['Mtb Area µm2'].iloc[-3:] > min_mtb_area_thresh_µm) or track_ID in []:\n",
    "            uninfected_to_infected.append(track_ID)\n",
    "            continue\n",
    "        else: \n",
    "            uninfected_to_uninfected.append(track_ID)\n",
    "                 \n",
    "            continue\n",
    "\n",
    "## manually correcting last min id switches \n",
    "infected_to_uninfected.remove('507.3.5') # manually correcting last min ID switch \n",
    "infected_to_uninfected.remove('112.3.5') # last min id switch because of cell death then effero\n",
    "infected_to_uninfected.remove('499.3.5') # dead then eff\n",
    "infected_to_uninfected.remove('285.3.5') # eff"
   ]
  },
  {
   "cell_type": "code",
   "execution_count": 447,
   "id": "dba85cd7-dd8b-4648-8d30-c55d81d0a5db",
   "metadata": {},
   "outputs": [
    {
     "data": {
      "application/vnd.plotly.v1+json": {
       "config": {
        "plotlyServerURL": "https://plot.ly"
       },
       "data": [
        {
         "link": {
          "color": [
           "rgba(208, 44, 145, 0.25)",
           "rgba(26, 150, 65, 0.25)",
           "rgba(241, 182, 218, 0.25)",
           "rgba(166, 217, 106, 0.25)",
           "rgba(0, 0, 0, 0.25)",
           "rgba(0, 0, 0, 0.25)"
          ],
          "label": [
           [
            "1",
            "115",
            "117",
            "134",
            "178",
            "187",
            "194",
            "197",
            "247",
            "252",
            "254",
            "268",
            "272",
            "289",
            "302",
            "319",
            "330",
            "331",
            "334",
            "335",
            "339",
            "341",
            "345",
            "352",
            "355",
            "36",
            "363",
            "366",
            "367",
            "380",
            "401",
            "44",
            "445",
            "447",
            "477",
            "481",
            "483",
            "486",
            "490",
            "492",
            "510",
            "515",
            "518",
            "528",
            "530",
            "536",
            "542",
            "544",
            "586",
            "601",
            "602",
            "610",
            "617",
            "624",
            "702",
            "823",
            "869",
            "93",
            "1536",
            "2563",
            "2072",
            "541",
            "1072",
            "1589",
            "3131",
            "64",
            "1595",
            "72",
            "74",
            "1611",
            "1107",
            "89",
            "1118",
            "1631",
            "105",
            "1129",
            "3179",
            "621",
            "110",
            "1654",
            "119",
            "3233",
            "3242",
            "182",
            "1226",
            "3275",
            "2258",
            "2787",
            "1254",
            "756",
            "249",
            "769",
            "1287",
            "281",
            "283",
            "288",
            "1313",
            "806",
            "1332",
            "1340",
            "2886",
            "1354",
            "1356",
            "384",
            "410",
            "2971",
            "424",
            "426",
            "431",
            "432",
            "1461",
            "461",
            "473",
            "479",
            "997",
            "491"
           ],
           [],
           [
            "108.3.5",
            "109.3.5",
            "118.3.5",
            "138.3.5",
            "144.3.5",
            "15.3.5",
            "150.3.5",
            "19.3.5",
            "201.3.5",
            "210.3.5",
            "227.3.5",
            "233.3.5",
            "263.3.5",
            "264.3.5",
            "278.3.5",
            "337.3.5",
            "360.3.5",
            "361.3.5",
            "37.3.5",
            "374.3.5",
            "393.3.5",
            "421.3.5",
            "438.3.5",
            "444.3.5",
            "450.3.5",
            "465.3.5",
            "466.3.5",
            "474.3.5",
            "475.3.5",
            "484.3.5",
            "501.3.5",
            "503.3.5",
            "51.3.5",
            "513.3.5",
            "527.3.5",
            "537.3.5",
            "539.3.5",
            "564.3.5",
            "565.3.5",
            "581.3.5",
            "665.3.5",
            "670.3.5",
            "802.3.5",
            "810.3.5",
            "840.3.5",
            "892.3.5",
            "893.3.5",
            "95.3.5",
            "524.3.5",
            "1559.3.5",
            "26.3.5",
            "34.3.5",
            "2598.3.5",
            "1577.3.5",
            "62.3.5",
            "578.3.5",
            "1613.3.5",
            "3151.3.5",
            "83.3.5",
            "1620.3.5",
            "3159.3.5",
            "604.3.5",
            "97.3.5",
            "2659.3.5",
            "1134.3.5",
            "625.3.5",
            "1138.3.5",
            "1652.3.5",
            "128.3.5",
            "1154.3.5",
            "1166.3.5",
            "656.3.5",
            "148.3.5",
            "153.3.5",
            "1690.3.5",
            "669.3.5",
            "672.3.5",
            "164.3.5",
            "166.3.5",
            "679.3.5",
            "2737.3.5",
            "2234.3.5",
            "1731.3.5",
            "3318.3.5",
            "280.3.5",
            "1308.3.5",
            "286.3.5",
            "287.3.5",
            "3362.3.5",
            "2855.3.5",
            "3380.3.5",
            "321.3.5",
            "855.3.5",
            "354.3.5",
            "1378.3.5",
            "2422.3.5",
            "888.3.5",
            "1402.3.5",
            "902.3.5",
            "2440.3.5",
            "1417.3.5",
            "407.3.5",
            "1948.3.5",
            "415.3.5",
            "420.3.5",
            "423.3.5",
            "1960.3.5",
            "948.3.5",
            "2492.3.5",
            "1485.3.5",
            "3033.3.5",
            "2014.3.5",
            "996.3.5",
            "2535.3.5",
            "493.3.5"
           ],
           [
            "107.3.5",
            "142.3.5",
            "147.3.5",
            "156.3.5",
            "161.3.5",
            "170.3.5",
            "174.3.5",
            "186.3.5",
            "196.3.5",
            "211.3.5",
            "214.3.5",
            "217.3.5",
            "218.3.5",
            "224.3.5",
            "226.3.5",
            "239.3.5",
            "250.3.5",
            "256.3.5",
            "291.3.5",
            "295.3.5",
            "300.3.5",
            "309.3.5",
            "325.3.5",
            "327.3.5",
            "329.3.5",
            "336.3.5",
            "373.3.5",
            "398.3.5",
            "41.3.5",
            "414.3.5",
            "427.3.5",
            "430.3.5",
            "437.3.5",
            "452.3.5",
            "456.3.5",
            "458.3.5",
            "459.3.5",
            "460.3.5",
            "463.3.5",
            "470.3.5",
            "487.3.5",
            "495.3.5",
            "508.3.5",
            "517.3.5",
            "521.3.5",
            "525.3.5",
            "526.3.5",
            "531.3.5",
            "552.3.5",
            "558.3.5",
            "56.3.5",
            "577.3.5",
            "579.3.5",
            "584.3.5",
            "598.3.5",
            "607.3.5",
            "608.3.5",
            "69.3.5",
            "75.3.5",
            "77.3.5",
            "808.3.5",
            "90.3.5",
            "99.3.5",
            "535.3.5",
            "1562.3.5",
            "1575.3.5",
            "557.3.5",
            "60.3.5",
            "2111.3.5",
            "73.3.5",
            "585.3.5",
            "2639.3.5",
            "1105.3.5",
            "100.3.5",
            "1639.3.5",
            "628.3.5",
            "120.3.5",
            "1147.3.5",
            "642.3.5",
            "131.3.5",
            "644.3.5",
            "2708.3.5",
            "160.3.5",
            "673.3.5",
            "682.3.5",
            "172.3.5",
            "177.3.5",
            "1735.3.5",
            "1233.3.5",
            "1239.3.5",
            "1246.3.5",
            "2794.3.5",
            "237.3.5",
            "1778.3.5",
            "1783.3.5",
            "2300.3.5",
            "261.3.5",
            "265.3.5",
            "3337.3.5",
            "1817.3.5",
            "315.3.5",
            "1345.3.5",
            "324.3.5",
            "3402.3.5",
            "1868.3.5",
            "1358.3.5",
            "344.3.5",
            "867.3.5",
            "2922.3.5",
            "1387.3.5",
            "376.3.5",
            "889.3.5",
            "1918.3.5",
            "2434.3.5",
            "397.3.5",
            "1427.3.5",
            "416.3.5",
            "2976.3.5",
            "2977.3.5",
            "419.3.5",
            "425.3.5",
            "1972.3.5",
            "1468.3.5",
            "1999.3.5",
            "3026.3.5",
            "986.3.5",
            "988.3.5",
            "1506.3.5",
            "2024.3.5",
            "1007.3.5",
            "1015.3.5"
           ],
           [
            "252.3.5",
            "486.3.5",
            "507.3.5",
            "515.3.5",
            "530.3.5",
            "542.3.5",
            "1611.3.5",
            "1118.3.5",
            "3179.3.5",
            "110.3.5",
            "112.3.5",
            "119.3.5",
            "1356.3.5",
            "384.3.5",
            "410.3.5",
            "424.3.5",
            "426.3.5",
            "431.3.5",
            "432.3.5",
            "461.3.5",
            "473.3.5",
            "997.3.5",
            "491.3.5"
           ],
           [
            "107.3.5",
            "144.3.5",
            "15.3.5",
            "444.3.5",
            "552.3.5",
            "26.3.5",
            "34.3.5",
            "642.3.5",
            "131.3.5",
            "1308.3.5",
            "286.3.5",
            "344.3.5",
            "354.3.5",
            "397.3.5",
            "493.3.5"
           ],
           [
            "285.3.5",
            "432.3.5"
           ],
           [],
           [
            "112.3.5",
            "432.3.5",
            "491.3.5"
           ],
           [
            "432.3.5"
           ]
          ],
          "source": [
           0,
           0,
           1,
           1,
           0,
           1,
           0,
           1,
           4,
           5
          ],
          "target": [
           2,
           3,
           2,
           3,
           4,
           4,
           5,
           5,
           5,
           4
          ],
          "value": [
           116,
           0,
           115,
           131,
           23,
           15,
           2,
           0,
           3,
           1
          ]
         },
         "node": {
          "color": [
           "#d02c91",
           "#1a9641",
           "#f1b6da",
           "#a6d96a",
           "#978897",
           "#d1d1ca"
          ],
          "label": [
           "<i>Initially</i> Infected",
           "<i>Initially</i> Uninfected",
           "<i>Finally</i> Infected",
           "<i>Finally</i> Uninfected",
           "Dead",
           "Effercytosis"
          ],
          "line": {
           "color": "black",
           "width": 0.5
          },
          "pad": 15,
          "thickness": 20,
          "x": [
           0.015625,
           0.015625,
           0.933661294210442,
           0.932098794210442,
           0.941049397105221,
           1.021161294210442
          ],
          "y": [
           0.7854363330287912,
           0.29019024893349565,
           0.4765396297947321,
           0.0773095469487957,
           0.9335272559247315,
           0.7975218093676395
          ]
         },
         "type": "sankey"
        }
       ],
       "layout": {
        "font": {
         "family": "Liberation Sans"
        },
        "height": 600,
        "template": {
         "data": {
          "bar": [
           {
            "error_x": {
             "color": "#2a3f5f"
            },
            "error_y": {
             "color": "#2a3f5f"
            },
            "marker": {
             "line": {
              "color": "#E5ECF6",
              "width": 0.5
             },
             "pattern": {
              "fillmode": "overlay",
              "size": 10,
              "solidity": 0.2
             }
            },
            "type": "bar"
           }
          ],
          "barpolar": [
           {
            "marker": {
             "line": {
              "color": "#E5ECF6",
              "width": 0.5
             },
             "pattern": {
              "fillmode": "overlay",
              "size": 10,
              "solidity": 0.2
             }
            },
            "type": "barpolar"
           }
          ],
          "carpet": [
           {
            "aaxis": {
             "endlinecolor": "#2a3f5f",
             "gridcolor": "white",
             "linecolor": "white",
             "minorgridcolor": "white",
             "startlinecolor": "#2a3f5f"
            },
            "baxis": {
             "endlinecolor": "#2a3f5f",
             "gridcolor": "white",
             "linecolor": "white",
             "minorgridcolor": "white",
             "startlinecolor": "#2a3f5f"
            },
            "type": "carpet"
           }
          ],
          "choropleth": [
           {
            "colorbar": {
             "outlinewidth": 0,
             "ticks": ""
            },
            "type": "choropleth"
           }
          ],
          "contour": [
           {
            "colorbar": {
             "outlinewidth": 0,
             "ticks": ""
            },
            "colorscale": [
             [
              0,
              "#0d0887"
             ],
             [
              0.1111111111111111,
              "#46039f"
             ],
             [
              0.2222222222222222,
              "#7201a8"
             ],
             [
              0.3333333333333333,
              "#9c179e"
             ],
             [
              0.4444444444444444,
              "#bd3786"
             ],
             [
              0.5555555555555556,
              "#d8576b"
             ],
             [
              0.6666666666666666,
              "#ed7953"
             ],
             [
              0.7777777777777778,
              "#fb9f3a"
             ],
             [
              0.8888888888888888,
              "#fdca26"
             ],
             [
              1,
              "#f0f921"
             ]
            ],
            "type": "contour"
           }
          ],
          "contourcarpet": [
           {
            "colorbar": {
             "outlinewidth": 0,
             "ticks": ""
            },
            "type": "contourcarpet"
           }
          ],
          "heatmap": [
           {
            "colorbar": {
             "outlinewidth": 0,
             "ticks": ""
            },
            "colorscale": [
             [
              0,
              "#0d0887"
             ],
             [
              0.1111111111111111,
              "#46039f"
             ],
             [
              0.2222222222222222,
              "#7201a8"
             ],
             [
              0.3333333333333333,
              "#9c179e"
             ],
             [
              0.4444444444444444,
              "#bd3786"
             ],
             [
              0.5555555555555556,
              "#d8576b"
             ],
             [
              0.6666666666666666,
              "#ed7953"
             ],
             [
              0.7777777777777778,
              "#fb9f3a"
             ],
             [
              0.8888888888888888,
              "#fdca26"
             ],
             [
              1,
              "#f0f921"
             ]
            ],
            "type": "heatmap"
           }
          ],
          "heatmapgl": [
           {
            "colorbar": {
             "outlinewidth": 0,
             "ticks": ""
            },
            "colorscale": [
             [
              0,
              "#0d0887"
             ],
             [
              0.1111111111111111,
              "#46039f"
             ],
             [
              0.2222222222222222,
              "#7201a8"
             ],
             [
              0.3333333333333333,
              "#9c179e"
             ],
             [
              0.4444444444444444,
              "#bd3786"
             ],
             [
              0.5555555555555556,
              "#d8576b"
             ],
             [
              0.6666666666666666,
              "#ed7953"
             ],
             [
              0.7777777777777778,
              "#fb9f3a"
             ],
             [
              0.8888888888888888,
              "#fdca26"
             ],
             [
              1,
              "#f0f921"
             ]
            ],
            "type": "heatmapgl"
           }
          ],
          "histogram": [
           {
            "marker": {
             "pattern": {
              "fillmode": "overlay",
              "size": 10,
              "solidity": 0.2
             }
            },
            "type": "histogram"
           }
          ],
          "histogram2d": [
           {
            "colorbar": {
             "outlinewidth": 0,
             "ticks": ""
            },
            "colorscale": [
             [
              0,
              "#0d0887"
             ],
             [
              0.1111111111111111,
              "#46039f"
             ],
             [
              0.2222222222222222,
              "#7201a8"
             ],
             [
              0.3333333333333333,
              "#9c179e"
             ],
             [
              0.4444444444444444,
              "#bd3786"
             ],
             [
              0.5555555555555556,
              "#d8576b"
             ],
             [
              0.6666666666666666,
              "#ed7953"
             ],
             [
              0.7777777777777778,
              "#fb9f3a"
             ],
             [
              0.8888888888888888,
              "#fdca26"
             ],
             [
              1,
              "#f0f921"
             ]
            ],
            "type": "histogram2d"
           }
          ],
          "histogram2dcontour": [
           {
            "colorbar": {
             "outlinewidth": 0,
             "ticks": ""
            },
            "colorscale": [
             [
              0,
              "#0d0887"
             ],
             [
              0.1111111111111111,
              "#46039f"
             ],
             [
              0.2222222222222222,
              "#7201a8"
             ],
             [
              0.3333333333333333,
              "#9c179e"
             ],
             [
              0.4444444444444444,
              "#bd3786"
             ],
             [
              0.5555555555555556,
              "#d8576b"
             ],
             [
              0.6666666666666666,
              "#ed7953"
             ],
             [
              0.7777777777777778,
              "#fb9f3a"
             ],
             [
              0.8888888888888888,
              "#fdca26"
             ],
             [
              1,
              "#f0f921"
             ]
            ],
            "type": "histogram2dcontour"
           }
          ],
          "mesh3d": [
           {
            "colorbar": {
             "outlinewidth": 0,
             "ticks": ""
            },
            "type": "mesh3d"
           }
          ],
          "parcoords": [
           {
            "line": {
             "colorbar": {
              "outlinewidth": 0,
              "ticks": ""
             }
            },
            "type": "parcoords"
           }
          ],
          "pie": [
           {
            "automargin": true,
            "type": "pie"
           }
          ],
          "scatter": [
           {
            "fillpattern": {
             "fillmode": "overlay",
             "size": 10,
             "solidity": 0.2
            },
            "type": "scatter"
           }
          ],
          "scatter3d": [
           {
            "line": {
             "colorbar": {
              "outlinewidth": 0,
              "ticks": ""
             }
            },
            "marker": {
             "colorbar": {
              "outlinewidth": 0,
              "ticks": ""
             }
            },
            "type": "scatter3d"
           }
          ],
          "scattercarpet": [
           {
            "marker": {
             "colorbar": {
              "outlinewidth": 0,
              "ticks": ""
             }
            },
            "type": "scattercarpet"
           }
          ],
          "scattergeo": [
           {
            "marker": {
             "colorbar": {
              "outlinewidth": 0,
              "ticks": ""
             }
            },
            "type": "scattergeo"
           }
          ],
          "scattergl": [
           {
            "marker": {
             "colorbar": {
              "outlinewidth": 0,
              "ticks": ""
             }
            },
            "type": "scattergl"
           }
          ],
          "scattermapbox": [
           {
            "marker": {
             "colorbar": {
              "outlinewidth": 0,
              "ticks": ""
             }
            },
            "type": "scattermapbox"
           }
          ],
          "scatterpolar": [
           {
            "marker": {
             "colorbar": {
              "outlinewidth": 0,
              "ticks": ""
             }
            },
            "type": "scatterpolar"
           }
          ],
          "scatterpolargl": [
           {
            "marker": {
             "colorbar": {
              "outlinewidth": 0,
              "ticks": ""
             }
            },
            "type": "scatterpolargl"
           }
          ],
          "scatterternary": [
           {
            "marker": {
             "colorbar": {
              "outlinewidth": 0,
              "ticks": ""
             }
            },
            "type": "scatterternary"
           }
          ],
          "surface": [
           {
            "colorbar": {
             "outlinewidth": 0,
             "ticks": ""
            },
            "colorscale": [
             [
              0,
              "#0d0887"
             ],
             [
              0.1111111111111111,
              "#46039f"
             ],
             [
              0.2222222222222222,
              "#7201a8"
             ],
             [
              0.3333333333333333,
              "#9c179e"
             ],
             [
              0.4444444444444444,
              "#bd3786"
             ],
             [
              0.5555555555555556,
              "#d8576b"
             ],
             [
              0.6666666666666666,
              "#ed7953"
             ],
             [
              0.7777777777777778,
              "#fb9f3a"
             ],
             [
              0.8888888888888888,
              "#fdca26"
             ],
             [
              1,
              "#f0f921"
             ]
            ],
            "type": "surface"
           }
          ],
          "table": [
           {
            "cells": {
             "fill": {
              "color": "#EBF0F8"
             },
             "line": {
              "color": "white"
             }
            },
            "header": {
             "fill": {
              "color": "#C8D4E3"
             },
             "line": {
              "color": "white"
             }
            },
            "type": "table"
           }
          ]
         },
         "layout": {
          "annotationdefaults": {
           "arrowcolor": "#2a3f5f",
           "arrowhead": 0,
           "arrowwidth": 1
          },
          "autotypenumbers": "strict",
          "coloraxis": {
           "colorbar": {
            "outlinewidth": 0,
            "ticks": ""
           }
          },
          "colorscale": {
           "diverging": [
            [
             0,
             "#8e0152"
            ],
            [
             0.1,
             "#c51b7d"
            ],
            [
             0.2,
             "#de77ae"
            ],
            [
             0.3,
             "#f1b6da"
            ],
            [
             0.4,
             "#fde0ef"
            ],
            [
             0.5,
             "#f7f7f7"
            ],
            [
             0.6,
             "#e6f5d0"
            ],
            [
             0.7,
             "#b8e186"
            ],
            [
             0.8,
             "#7fbc41"
            ],
            [
             0.9,
             "#4d9221"
            ],
            [
             1,
             "#276419"
            ]
           ],
           "sequential": [
            [
             0,
             "#0d0887"
            ],
            [
             0.1111111111111111,
             "#46039f"
            ],
            [
             0.2222222222222222,
             "#7201a8"
            ],
            [
             0.3333333333333333,
             "#9c179e"
            ],
            [
             0.4444444444444444,
             "#bd3786"
            ],
            [
             0.5555555555555556,
             "#d8576b"
            ],
            [
             0.6666666666666666,
             "#ed7953"
            ],
            [
             0.7777777777777778,
             "#fb9f3a"
            ],
            [
             0.8888888888888888,
             "#fdca26"
            ],
            [
             1,
             "#f0f921"
            ]
           ],
           "sequentialminus": [
            [
             0,
             "#0d0887"
            ],
            [
             0.1111111111111111,
             "#46039f"
            ],
            [
             0.2222222222222222,
             "#7201a8"
            ],
            [
             0.3333333333333333,
             "#9c179e"
            ],
            [
             0.4444444444444444,
             "#bd3786"
            ],
            [
             0.5555555555555556,
             "#d8576b"
            ],
            [
             0.6666666666666666,
             "#ed7953"
            ],
            [
             0.7777777777777778,
             "#fb9f3a"
            ],
            [
             0.8888888888888888,
             "#fdca26"
            ],
            [
             1,
             "#f0f921"
            ]
           ]
          },
          "colorway": [
           "#636efa",
           "#EF553B",
           "#00cc96",
           "#ab63fa",
           "#FFA15A",
           "#19d3f3",
           "#FF6692",
           "#B6E880",
           "#FF97FF",
           "#FECB52"
          ],
          "font": {
           "color": "#2a3f5f"
          },
          "geo": {
           "bgcolor": "white",
           "lakecolor": "white",
           "landcolor": "#E5ECF6",
           "showlakes": true,
           "showland": true,
           "subunitcolor": "white"
          },
          "hoverlabel": {
           "align": "left"
          },
          "hovermode": "closest",
          "mapbox": {
           "style": "light"
          },
          "paper_bgcolor": "white",
          "plot_bgcolor": "#E5ECF6",
          "polar": {
           "angularaxis": {
            "gridcolor": "white",
            "linecolor": "white",
            "ticks": ""
           },
           "bgcolor": "#E5ECF6",
           "radialaxis": {
            "gridcolor": "white",
            "linecolor": "white",
            "ticks": ""
           }
          },
          "scene": {
           "xaxis": {
            "backgroundcolor": "#E5ECF6",
            "gridcolor": "white",
            "gridwidth": 2,
            "linecolor": "white",
            "showbackground": true,
            "ticks": "",
            "zerolinecolor": "white"
           },
           "yaxis": {
            "backgroundcolor": "#E5ECF6",
            "gridcolor": "white",
            "gridwidth": 2,
            "linecolor": "white",
            "showbackground": true,
            "ticks": "",
            "zerolinecolor": "white"
           },
           "zaxis": {
            "backgroundcolor": "#E5ECF6",
            "gridcolor": "white",
            "gridwidth": 2,
            "linecolor": "white",
            "showbackground": true,
            "ticks": "",
            "zerolinecolor": "white"
           }
          },
          "shapedefaults": {
           "line": {
            "color": "#2a3f5f"
           }
          },
          "ternary": {
           "aaxis": {
            "gridcolor": "white",
            "linecolor": "white",
            "ticks": ""
           },
           "baxis": {
            "gridcolor": "white",
            "linecolor": "white",
            "ticks": ""
           },
           "bgcolor": "#E5ECF6",
           "caxis": {
            "gridcolor": "white",
            "linecolor": "white",
            "ticks": ""
           }
          },
          "title": {
           "x": 0.05
          },
          "xaxis": {
           "automargin": true,
           "gridcolor": "white",
           "linecolor": "white",
           "ticks": "",
           "title": {
            "standoff": 15
           },
           "zerolinecolor": "white",
           "zerolinewidth": 2
          },
          "yaxis": {
           "automargin": true,
           "gridcolor": "white",
           "linecolor": "white",
           "ticks": "",
           "title": {
            "standoff": 15
           },
           "zerolinecolor": "white",
           "zerolinewidth": 2
          }
         }
        },
        "title": {
         "font": {
          "size": 20
         },
         "text": "<b>Macrophage Infection State Transitions for control experiment (3,5)<b>"
        },
        "width": 800
       }
      },
      "image/png": "[encoded data removed]",
      "text/html": [
       "<div>                            <div id=\"fe226b8f-5ef9-429d-82f5-096f3bb3111f\" class=\"plotly-graph-div\" style=\"height:600px; width:800px;\"></div>            <script type=\"text/javascript\">                require([\"plotly\"], function(Plotly) {                    window.PLOTLYENV=window.PLOTLYENV || {};                                    if (document.getElementById(\"fe226b8f-5ef9-429d-82f5-096f3bb3111f\")) {                    Plotly.newPlot(                        \"fe226b8f-5ef9-429d-82f5-096f3bb3111f\",                        [{\"link\":{\"color\":[\"rgba(208, 44, 145, 0.25)\",\"rgba(26, 150, 65, 0.25)\",\"rgba(241, 182, 218, 0.25)\",\"rgba(166, 217, 106, 0.25)\",\"rgba(0, 0, 0, 0.25)\",\"rgba(0, 0, 0, 0.25)\"],\"label\":[[\"1\",\"115\",\"117\",\"134\",\"178\",\"187\",\"194\",\"197\",\"247\",\"252\",\"254\",\"268\",\"272\",\"289\",\"302\",\"319\",\"330\",\"331\",\"334\",\"335\",\"339\",\"341\",\"345\",\"352\",\"355\",\"36\",\"363\",\"366\",\"367\",\"380\",\"401\",\"44\",\"445\",\"447\",\"477\",\"481\",\"483\",\"486\",\"490\",\"492\",\"510\",\"515\",\"518\",\"528\",\"530\",\"536\",\"542\",\"544\",\"586\",\"601\",\"602\",\"610\",\"617\",\"624\",\"702\",\"823\",\"869\",\"93\",\"1536\",\"2563\",\"2072\",\"541\",\"1072\",\"1589\",\"3131\",\"64\",\"1595\",\"72\",\"74\",\"1611\",\"1107\",\"89\",\"1118\",\"1631\",\"105\",\"1129\",\"3179\",\"621\",\"110\",\"1654\",\"119\",\"3233\",\"3242\",\"182\",\"1226\",\"3275\",\"2258\",\"2787\",\"1254\",\"756\",\"249\",\"769\",\"1287\",\"281\",\"283\",\"288\",\"1313\",\"806\",\"1332\",\"1340\",\"2886\",\"1354\",\"1356\",\"384\",\"410\",\"2971\",\"424\",\"426\",\"431\",\"432\",\"1461\",\"461\",\"473\",\"479\",\"997\",\"491\"],[],[\"108.3.5\",\"109.3.5\",\"118.3.5\",\"138.3.5\",\"144.3.5\",\"15.3.5\",\"150.3.5\",\"19.3.5\",\"201.3.5\",\"210.3.5\",\"227.3.5\",\"233.3.5\",\"263.3.5\",\"264.3.5\",\"278.3.5\",\"337.3.5\",\"360.3.5\",\"361.3.5\",\"37.3.5\",\"374.3.5\",\"393.3.5\",\"421.3.5\",\"438.3.5\",\"444.3.5\",\"450.3.5\",\"465.3.5\",\"466.3.5\",\"474.3.5\",\"475.3.5\",\"484.3.5\",\"501.3.5\",\"503.3.5\",\"51.3.5\",\"513.3.5\",\"527.3.5\",\"537.3.5\",\"539.3.5\",\"564.3.5\",\"565.3.5\",\"581.3.5\",\"665.3.5\",\"670.3.5\",\"802.3.5\",\"810.3.5\",\"840.3.5\",\"892.3.5\",\"893.3.5\",\"95.3.5\",\"524.3.5\",\"1559.3.5\",\"26.3.5\",\"34.3.5\",\"2598.3.5\",\"1577.3.5\",\"62.3.5\",\"578.3.5\",\"1613.3.5\",\"3151.3.5\",\"83.3.5\",\"1620.3.5\",\"3159.3.5\",\"604.3.5\",\"97.3.5\",\"2659.3.5\",\"1134.3.5\",\"625.3.5\",\"1138.3.5\",\"1652.3.5\",\"128.3.5\",\"1154.3.5\",\"1166.3.5\",\"656.3.5\",\"148.3.5\",\"153.3.5\",\"1690.3.5\",\"669.3.5\",\"672.3.5\",\"164.3.5\",\"166.3.5\",\"679.3.5\",\"2737.3.5\",\"2234.3.5\",\"1731.3.5\",\"3318.3.5\",\"280.3.5\",\"1308.3.5\",\"286.3.5\",\"287.3.5\",\"3362.3.5\",\"2855.3.5\",\"3380.3.5\",\"321.3.5\",\"855.3.5\",\"354.3.5\",\"1378.3.5\",\"2422.3.5\",\"888.3.5\",\"1402.3.5\",\"902.3.5\",\"2440.3.5\",\"1417.3.5\",\"407.3.5\",\"1948.3.5\",\"415.3.5\",\"420.3.5\",\"423.3.5\",\"1960.3.5\",\"948.3.5\",\"2492.3.5\",\"1485.3.5\",\"3033.3.5\",\"2014.3.5\",\"996.3.5\",\"2535.3.5\",\"493.3.5\"],[\"107.3.5\",\"142.3.5\",\"147.3.5\",\"156.3.5\",\"161.3.5\",\"170.3.5\",\"174.3.5\",\"186.3.5\",\"196.3.5\",\"211.3.5\",\"214.3.5\",\"217.3.5\",\"218.3.5\",\"224.3.5\",\"226.3.5\",\"239.3.5\",\"250.3.5\",\"256.3.5\",\"291.3.5\",\"295.3.5\",\"300.3.5\",\"309.3.5\",\"325.3.5\",\"327.3.5\",\"329.3.5\",\"336.3.5\",\"373.3.5\",\"398.3.5\",\"41.3.5\",\"414.3.5\",\"427.3.5\",\"430.3.5\",\"437.3.5\",\"452.3.5\",\"456.3.5\",\"458.3.5\",\"459.3.5\",\"460.3.5\",\"463.3.5\",\"470.3.5\",\"487.3.5\",\"495.3.5\",\"508.3.5\",\"517.3.5\",\"521.3.5\",\"525.3.5\",\"526.3.5\",\"531.3.5\",\"552.3.5\",\"558.3.5\",\"56.3.5\",\"577.3.5\",\"579.3.5\",\"584.3.5\",\"598.3.5\",\"607.3.5\",\"608.3.5\",\"69.3.5\",\"75.3.5\",\"77.3.5\",\"808.3.5\",\"90.3.5\",\"99.3.5\",\"535.3.5\",\"1562.3.5\",\"1575.3.5\",\"557.3.5\",\"60.3.5\",\"2111.3.5\",\"73.3.5\",\"585.3.5\",\"2639.3.5\",\"1105.3.5\",\"100.3.5\",\"1639.3.5\",\"628.3.5\",\"120.3.5\",\"1147.3.5\",\"642.3.5\",\"131.3.5\",\"644.3.5\",\"2708.3.5\",\"160.3.5\",\"673.3.5\",\"682.3.5\",\"172.3.5\",\"177.3.5\",\"1735.3.5\",\"1233.3.5\",\"1239.3.5\",\"1246.3.5\",\"2794.3.5\",\"237.3.5\",\"1778.3.5\",\"1783.3.5\",\"2300.3.5\",\"261.3.5\",\"265.3.5\",\"3337.3.5\",\"1817.3.5\",\"315.3.5\",\"1345.3.5\",\"324.3.5\",\"3402.3.5\",\"1868.3.5\",\"1358.3.5\",\"344.3.5\",\"867.3.5\",\"2922.3.5\",\"1387.3.5\",\"376.3.5\",\"889.3.5\",\"1918.3.5\",\"2434.3.5\",\"397.3.5\",\"1427.3.5\",\"416.3.5\",\"2976.3.5\",\"2977.3.5\",\"419.3.5\",\"425.3.5\",\"1972.3.5\",\"1468.3.5\",\"1999.3.5\",\"3026.3.5\",\"986.3.5\",\"988.3.5\",\"1506.3.5\",\"2024.3.5\",\"1007.3.5\",\"1015.3.5\"],[\"252.3.5\",\"486.3.5\",\"507.3.5\",\"515.3.5\",\"530.3.5\",\"542.3.5\",\"1611.3.5\",\"1118.3.5\",\"3179.3.5\",\"110.3.5\",\"112.3.5\",\"119.3.5\",\"1356.3.5\",\"384.3.5\",\"410.3.5\",\"424.3.5\",\"426.3.5\",\"431.3.5\",\"432.3.5\",\"461.3.5\",\"473.3.5\",\"997.3.5\",\"491.3.5\"],[\"107.3.5\",\"144.3.5\",\"15.3.5\",\"444.3.5\",\"552.3.5\",\"26.3.5\",\"34.3.5\",\"642.3.5\",\"131.3.5\",\"1308.3.5\",\"286.3.5\",\"344.3.5\",\"354.3.5\",\"397.3.5\",\"493.3.5\"],[\"285.3.5\",\"432.3.5\"],[],[\"112.3.5\",\"432.3.5\",\"491.3.5\"],[\"432.3.5\"]],\"source\":[0,0,1,1,0,1,0,1,4,5],\"target\":[2,3,2,3,4,4,5,5,5,4],\"value\":[116,0,115,131,23,15,2,0,3,1]},\"node\":{\"color\":[\"#d02c91\",\"#1a9641\",\"#f1b6da\",\"#a6d96a\",\"#978897\",\"#d1d1ca\"],\"label\":[\"<i>Initially</i> Infected\",\"<i>Initially</i> Uninfected\",\"<i>Finally</i> Infected\",\"<i>Finally</i> Uninfected\",\"Dead\",\"Effercytosis\"],\"line\":{\"color\":\"black\",\"width\":0.5},\"pad\":15,\"thickness\":20},\"type\":\"sankey\"}],                        {\"template\":{\"data\":{\"histogram2dcontour\":[{\"type\":\"histogram2dcontour\",\"colorbar\":{\"outlinewidth\":0,\"ticks\":\"\"},\"colorscale\":[[0.0,\"#0d0887\"],[0.1111111111111111,\"#46039f\"],[0.2222222222222222,\"#7201a8\"],[0.3333333333333333,\"#9c179e\"],[0.4444444444444444,\"#bd3786\"],[0.5555555555555556,\"#d8576b\"],[0.6666666666666666,\"#ed7953\"],[0.7777777777777778,\"#fb9f3a\"],[0.8888888888888888,\"#fdca26\"],[1.0,\"#f0f921\"]]}],\"choropleth\":[{\"type\":\"choropleth\",\"colorbar\":{\"outlinewidth\":0,\"ticks\":\"\"}}],\"histogram2d\":[{\"type\":\"histogram2d\",\"colorbar\":{\"outlinewidth\":0,\"ticks\":\"\"},\"colorscale\":[[0.0,\"#0d0887\"],[0.1111111111111111,\"#46039f\"],[0.2222222222222222,\"#7201a8\"],[0.3333333333333333,\"#9c179e\"],[0.4444444444444444,\"#bd3786\"],[0.5555555555555556,\"#d8576b\"],[0.6666666666666666,\"#ed7953\"],[0.7777777777777778,\"#fb9f3a\"],[0.8888888888888888,\"#fdca26\"],[1.0,\"#f0f921\"]]}],\"heatmap\":[{\"type\":\"heatmap\",\"colorbar\":{\"outlinewidth\":0,\"ticks\":\"\"},\"colorscale\":[[0.0,\"#0d0887\"],[0.1111111111111111,\"#46039f\"],[0.2222222222222222,\"#7201a8\"],[0.3333333333333333,\"#9c179e\"],[0.4444444444444444,\"#bd3786\"],[0.5555555555555556,\"#d8576b\"],[0.6666666666666666,\"#ed7953\"],[0.7777777777777778,\"#fb9f3a\"],[0.8888888888888888,\"#fdca26\"],[1.0,\"#f0f921\"]]}],\"heatmapgl\":[{\"type\":\"heatmapgl\",\"colorbar\":{\"outlinewidth\":0,\"ticks\":\"\"},\"colorscale\":[[0.0,\"#0d0887\"],[0.1111111111111111,\"#46039f\"],[0.2222222222222222,\"#7201a8\"],[0.3333333333333333,\"#9c179e\"],[0.4444444444444444,\"#bd3786\"],[0.5555555555555556,\"#d8576b\"],[0.6666666666666666,\"#ed7953\"],[0.7777777777777778,\"#fb9f3a\"],[0.8888888888888888,\"#fdca26\"],[1.0,\"#f0f921\"]]}],\"contourcarpet\":[{\"type\":\"contourcarpet\",\"colorbar\":{\"outlinewidth\":0,\"ticks\":\"\"}}],\"contour\":[{\"type\":\"contour\",\"colorbar\":{\"outlinewidth\":0,\"ticks\":\"\"},\"colorscale\":[[0.0,\"#0d0887\"],[0.1111111111111111,\"#46039f\"],[0.2222222222222222,\"#7201a8\"],[0.3333333333333333,\"#9c179e\"],[0.4444444444444444,\"#bd3786\"],[0.5555555555555556,\"#d8576b\"],[0.6666666666666666,\"#ed7953\"],[0.7777777777777778,\"#fb9f3a\"],[0.8888888888888888,\"#fdca26\"],[1.0,\"#f0f921\"]]}],\"surface\":[{\"type\":\"surface\",\"colorbar\":{\"outlinewidth\":0,\"ticks\":\"\"},\"colorscale\":[[0.0,\"#0d0887\"],[0.1111111111111111,\"#46039f\"],[0.2222222222222222,\"#7201a8\"],[0.3333333333333333,\"#9c179e\"],[0.4444444444444444,\"#bd3786\"],[0.5555555555555556,\"#d8576b\"],[0.6666666666666666,\"#ed7953\"],[0.7777777777777778,\"#fb9f3a\"],[0.8888888888888888,\"#fdca26\"],[1.0,\"#f0f921\"]]}],\"mesh3d\":[{\"type\":\"mesh3d\",\"colorbar\":{\"outlinewidth\":0,\"ticks\":\"\"}}],\"scatter\":[{\"fillpattern\":{\"fillmode\":\"overlay\",\"size\":10,\"solidity\":0.2},\"type\":\"scatter\"}],\"parcoords\":[{\"type\":\"parcoords\",\"line\":{\"colorbar\":{\"outlinewidth\":0,\"ticks\":\"\"}}}],\"scatterpolargl\":[{\"type\":\"scatterpolargl\",\"marker\":{\"colorbar\":{\"outlinewidth\":0,\"ticks\":\"\"}}}],\"bar\":[{\"error_x\":{\"color\":\"#2a3f5f\"},\"error_y\":{\"color\":\"#2a3f5f\"},\"marker\":{\"line\":{\"color\":\"#E5ECF6\",\"width\":0.5},\"pattern\":{\"fillmode\":\"overlay\",\"size\":10,\"solidity\":0.2}},\"type\":\"bar\"}],\"scattergeo\":[{\"type\":\"scattergeo\",\"marker\":{\"colorbar\":{\"outlinewidth\":0,\"ticks\":\"\"}}}],\"scatterpolar\":[{\"type\":\"scatterpolar\",\"marker\":{\"colorbar\":{\"outlinewidth\":0,\"ticks\":\"\"}}}],\"histogram\":[{\"marker\":{\"pattern\":{\"fillmode\":\"overlay\",\"size\":10,\"solidity\":0.2}},\"type\":\"histogram\"}],\"scattergl\":[{\"type\":\"scattergl\",\"marker\":{\"colorbar\":{\"outlinewidth\":0,\"ticks\":\"\"}}}],\"scatter3d\":[{\"type\":\"scatter3d\",\"line\":{\"colorbar\":{\"outlinewidth\":0,\"ticks\":\"\"}},\"marker\":{\"colorbar\":{\"outlinewidth\":0,\"ticks\":\"\"}}}],\"scattermapbox\":[{\"type\":\"scattermapbox\",\"marker\":{\"colorbar\":{\"outlinewidth\":0,\"ticks\":\"\"}}}],\"scatterternary\":[{\"type\":\"scatterternary\",\"marker\":{\"colorbar\":{\"outlinewidth\":0,\"ticks\":\"\"}}}],\"scattercarpet\":[{\"type\":\"scattercarpet\",\"marker\":{\"colorbar\":{\"outlinewidth\":0,\"ticks\":\"\"}}}],\"carpet\":[{\"aaxis\":{\"endlinecolor\":\"#2a3f5f\",\"gridcolor\":\"white\",\"linecolor\":\"white\",\"minorgridcolor\":\"white\",\"startlinecolor\":\"#2a3f5f\"},\"baxis\":{\"endlinecolor\":\"#2a3f5f\",\"gridcolor\":\"white\",\"linecolor\":\"white\",\"minorgridcolor\":\"white\",\"startlinecolor\":\"#2a3f5f\"},\"type\":\"carpet\"}],\"table\":[{\"cells\":{\"fill\":{\"color\":\"#EBF0F8\"},\"line\":{\"color\":\"white\"}},\"header\":{\"fill\":{\"color\":\"#C8D4E3\"},\"line\":{\"color\":\"white\"}},\"type\":\"table\"}],\"barpolar\":[{\"marker\":{\"line\":{\"color\":\"#E5ECF6\",\"width\":0.5},\"pattern\":{\"fillmode\":\"overlay\",\"size\":10,\"solidity\":0.2}},\"type\":\"barpolar\"}],\"pie\":[{\"automargin\":true,\"type\":\"pie\"}]},\"layout\":{\"autotypenumbers\":\"strict\",\"colorway\":[\"#636efa\",\"#EF553B\",\"#00cc96\",\"#ab63fa\",\"#FFA15A\",\"#19d3f3\",\"#FF6692\",\"#B6E880\",\"#FF97FF\",\"#FECB52\"],\"font\":{\"color\":\"#2a3f5f\"},\"hovermode\":\"closest\",\"hoverlabel\":{\"align\":\"left\"},\"paper_bgcolor\":\"white\",\"plot_bgcolor\":\"#E5ECF6\",\"polar\":{\"bgcolor\":\"#E5ECF6\",\"angularaxis\":{\"gridcolor\":\"white\",\"linecolor\":\"white\",\"ticks\":\"\"},\"radialaxis\":{\"gridcolor\":\"white\",\"linecolor\":\"white\",\"ticks\":\"\"}},\"ternary\":{\"bgcolor\":\"#E5ECF6\",\"aaxis\":{\"gridcolor\":\"white\",\"linecolor\":\"white\",\"ticks\":\"\"},\"baxis\":{\"gridcolor\":\"white\",\"linecolor\":\"white\",\"ticks\":\"\"},\"caxis\":{\"gridcolor\":\"white\",\"linecolor\":\"white\",\"ticks\":\"\"}},\"coloraxis\":{\"colorbar\":{\"outlinewidth\":0,\"ticks\":\"\"}},\"colorscale\":{\"sequential\":[[0.0,\"#0d0887\"],[0.1111111111111111,\"#46039f\"],[0.2222222222222222,\"#7201a8\"],[0.3333333333333333,\"#9c179e\"],[0.4444444444444444,\"#bd3786\"],[0.5555555555555556,\"#d8576b\"],[0.6666666666666666,\"#ed7953\"],[0.7777777777777778,\"#fb9f3a\"],[0.8888888888888888,\"#fdca26\"],[1.0,\"#f0f921\"]],\"sequentialminus\":[[0.0,\"#0d0887\"],[0.1111111111111111,\"#46039f\"],[0.2222222222222222,\"#7201a8\"],[0.3333333333333333,\"#9c179e\"],[0.4444444444444444,\"#bd3786\"],[0.5555555555555556,\"#d8576b\"],[0.6666666666666666,\"#ed7953\"],[0.7777777777777778,\"#fb9f3a\"],[0.8888888888888888,\"#fdca26\"],[1.0,\"#f0f921\"]],\"diverging\":[[0,\"#8e0152\"],[0.1,\"#c51b7d\"],[0.2,\"#de77ae\"],[0.3,\"#f1b6da\"],[0.4,\"#fde0ef\"],[0.5,\"#f7f7f7\"],[0.6,\"#e6f5d0\"],[0.7,\"#b8e186\"],[0.8,\"#7fbc41\"],[0.9,\"#4d9221\"],[1,\"#276419\"]]},\"xaxis\":{\"gridcolor\":\"white\",\"linecolor\":\"white\",\"ticks\":\"\",\"title\":{\"standoff\":15},\"zerolinecolor\":\"white\",\"automargin\":true,\"zerolinewidth\":2},\"yaxis\":{\"gridcolor\":\"white\",\"linecolor\":\"white\",\"ticks\":\"\",\"title\":{\"standoff\":15},\"zerolinecolor\":\"white\",\"automargin\":true,\"zerolinewidth\":2},\"scene\":{\"xaxis\":{\"backgroundcolor\":\"#E5ECF6\",\"gridcolor\":\"white\",\"linecolor\":\"white\",\"showbackground\":true,\"ticks\":\"\",\"zerolinecolor\":\"white\",\"gridwidth\":2},\"yaxis\":{\"backgroundcolor\":\"#E5ECF6\",\"gridcolor\":\"white\",\"linecolor\":\"white\",\"showbackground\":true,\"ticks\":\"\",\"zerolinecolor\":\"white\",\"gridwidth\":2},\"zaxis\":{\"backgroundcolor\":\"#E5ECF6\",\"gridcolor\":\"white\",\"linecolor\":\"white\",\"showbackground\":true,\"ticks\":\"\",\"zerolinecolor\":\"white\",\"gridwidth\":2}},\"shapedefaults\":{\"line\":{\"color\":\"#2a3f5f\"}},\"annotationdefaults\":{\"arrowcolor\":\"#2a3f5f\",\"arrowhead\":0,\"arrowwidth\":1},\"geo\":{\"bgcolor\":\"white\",\"landcolor\":\"#E5ECF6\",\"subunitcolor\":\"white\",\"showland\":true,\"showlakes\":true,\"lakecolor\":\"white\"},\"title\":{\"x\":0.05},\"mapbox\":{\"style\":\"light\"}}},\"title\":{\"font\":{\"size\":20},\"text\":\"<b>Macrophage Infection State Transitions for control experiment (3,5)<b>\"},\"font\":{\"family\":\"Liberation Sans\"},\"width\":800,\"height\":600},                        {\"responsive\": true}                    ).then(function(){\n",
       "                            \n",
       "var gd = document.getElementById('fe226b8f-5ef9-429d-82f5-096f3bb3111f');\n",
       "var x = new MutationObserver(function (mutations, observer) {{\n",
       "        var display = window.getComputedStyle(gd).display;\n",
       "        if (!display || display === 'none') {{\n",
       "            console.log([gd, 'removed!']);\n",
       "            Plotly.purge(gd);\n",
       "            observer.disconnect();\n",
       "        }}\n",
       "}});\n",
       "\n",
       "// Listen for the removal of the full notebook cells\n",
       "var notebookContainer = gd.closest('#notebook-container');\n",
       "if (notebookContainer) {{\n",
       "    x.observe(notebookContainer, {childList: true});\n",
       "}}\n",
       "\n",
       "// Listen for the clearing of the current output cell\n",
       "var outputEl = gd.closest('.output');\n",
       "if (outputEl) {{\n",
       "    x.observe(outputEl, {childList: true});\n",
       "}}\n",
       "\n",
       "                        })                };                });            </script>        </div>"
      ]
     },
     "metadata": {},
     "output_type": "display_data"
    }
   ],
   "source": [
    "# Define new labels for nodes including \"Died\"\n",
    "labels = [\"<i>Initially</i> Infected\", \"<i>Initially</i> Uninfected\", \"<i>Finally</i> Infected\", \"<i>Finally</i> Uninfected\", \"Dead\", \"Effercytosis\"]\n",
    "node_colors =  [colours.expanded_piyg[i] for i in [-1, 0, -2, 1, 2, 3]] # Add a color for \"Died\", e.g., black\n",
    "\n",
    "# Update source, target, and value for Sankey diagram including transitions to \"Died\"\n",
    "cell_state = {'Infected t0': 0, \n",
    "               'Uninfected t0': 1, \n",
    "               'Infected t-1': 2, \n",
    "               'Uninfected t-1': 3, \n",
    "               'Dead t-1': 4, \n",
    "               'Efferocytosis t-1': 5,              }\n",
    "\n",
    "source_names = ['Infected t0', 'Infected t0', 'Uninfected t0', 'Uninfected t0', 'Infected t0', 'Uninfected t0', 'Infected t0', 'Uninfected t0', 'Dead t-1', 'Efferocytosis t-1']\n",
    "target_names = ['Infected t-1', 'Uninfected t-1', 'Infected t-1', 'Uninfected t-1', 'Dead t-1', 'Dead t-1', 'Efferocytosis t-1', 'Efferocytosis t-1', 'Efferocytosis t-1', 'Dead t-1']\n",
    "\n",
    "# Replace entries with their corresponding dictionary values\n",
    "source = [cell_state[state] for state in source_names]\n",
    "target = [cell_state[state] for state in target_names]  \n",
    "\n",
    "value = [\n",
    "    len(infected_to_infected),     # Initially Infected -> Finally Infected\n",
    "    len(infected_to_uninfected),      # Initially Infected -> Finally Uninfected\n",
    "    len(uninfected_to_infected),        # Initially Uninfected -> Finally Infected\n",
    "    len(uninfected_to_uninfected),   # Initially Uninfected -> Finally Uninfected\n",
    "    len(infected_to_dead),       # Initially Infected -> Died\n",
    "    len(uninfected_to_dead),     # Initially Uninfected -> Died\n",
    "    len(infected_to_effero),        # Init Infected -> effero\n",
    "    len(uninfected_to_effero),       # Init uninfected -> effero\n",
    "    len(dead_to_effero),        #dead to effero\n",
    "    len(effero_to_dead),       # effero to dead\n",
    "]\n",
    "\n",
    "link_labels = [\n",
    "    [i.split('.')[0] for i in infected_to_infected],     # Initially Infected -> Finally Infected\n",
    "    infected_to_uninfected,   # Initially Infected -> Finally Uninfected\n",
    "    uninfected_to_infected,   # Initially Uninfected -> Finally Infected\n",
    "    uninfected_to_uninfected, # Initially Uninfected -> Finally Uninfected\n",
    "    infected_to_dead,         # Initially Infected -> Died\n",
    "    uninfected_to_dead,       # Initially Uninfected -> Died\n",
    "    infected_to_effero,       # Initially Infected -> Efferocytosis\n",
    "    uninfected_to_effero,     # Initially Uninfected -> Efferocytosis\n",
    "    dead_to_effero,           # Dead -> Efferocytosis\n",
    "    effero_to_dead          # Efferocytosis -> Dead\n",
    "] #[i for i in zip(source_names, target_names)]\n",
    "# Update link colors if necessary\n",
    "link_colors = [f'rgba({int(color[1:3], 16)}, {int(color[3:5], 16)}, {int(color[5:7], 16)}, 0.25)' for color in [colours.expanded_piyg[i] for i in [-1, 0, -2, 1]]] + [\"rgba(0, 0, 0, 0.25)\", \"rgba(0, 0, 0, 0.25)\"]  # Add link colors for transitions to \"Died\"\n",
    "\n",
    "# Create the Sankey diagram\n",
    "fig = go.Figure(data=[go.Sankey(\n",
    "    node=dict(\n",
    "        pad=15,\n",
    "        thickness=20,\n",
    "        line=dict(color=\"black\", width=0.5),\n",
    "        label=labels,        \n",
    "        color=node_colors  # Set node colors\n",
    "\n",
    "    ),\n",
    "    link=dict(\n",
    "        source=source,\n",
    "        target=target,\n",
    "        value=value, \n",
    "        color=link_colors, \n",
    "        label=link_labels\n",
    "    ))])\n",
    "\n",
    "fig.update_layout(\n",
    "    title_text=\"Macrophage Infection State Transitions for control experiment (3,5)\",\n",
    "    # font_size=12,\n",
    "    width=800,  # Set the width of the figure\n",
    "    height=600,  # Set the height of the figure\n",
    "    font_family=\"Liberation Sans\", \n",
    "    title=dict(text=\"<b>Macrophage Infection State Transitions for control experiment (3,5)<b>\", font=dict(size=20),)\n",
    ")\n",
    "\n",
    "fig.write_html(\"WIP-sankey-diagram.html\")\n",
    "fig.show()"
   ]
  },
  {
   "cell_type": "code",
   "execution_count": 342,
   "id": "8e82f55a-a01d-4576-80a6-6a17bed841ab",
   "metadata": {},
   "outputs": [
    {
     "name": "stdout",
     "output_type": "stream",
     "text": [
      "False\n",
      "False\n",
      "False\n",
      "False\n",
      "False\n",
      "False\n",
      "False\n",
      "False\n",
      "False\n",
      "False\n"
     ]
    }
   ],
   "source": [
    "for list_ in [infected_to_infected,     # Initially Infected -> Finally Infected\n",
    "    infected_to_uninfected,      # Initially Infected -> Finally Uninfected\n",
    "    uninfected_to_infected,        # Initially Uninfected -> Finally Infected\n",
    "    uninfected_to_uninfected,   # Initially Uninfected -> Finally Uninfected\n",
    "    infected_to_dead,       # Initially Infected -> Died\n",
    "    uninfected_to_dead,     # Initially Uninfected -> Died\n",
    "    infected_to_effero,        # Init Infected -> effero\n",
    "    uninfected_to_effero, \n",
    "    dead_to_effero,\n",
    "    effero_to_death]:\n",
    "    print('485.3.5' in list_)"
   ]
  },
  {
   "cell_type": "code",
   "execution_count": 452,
   "id": "1c388d33-3b74-43a3-baa5-d8aa530bb02f",
   "metadata": {},
   "outputs": [],
   "source": [
    "# Create a list of lists\n",
    "lists = [\n",
    "    infected_to_infected,\n",
    "    infected_to_uninfected,\n",
    "    uninfected_to_infected,\n",
    "    uninfected_to_uninfected,\n",
    "    infected_to_dead,\n",
    "    uninfected_to_dead,\n",
    "    infected_to_effero,\n",
    "    uninfected_to_effero,\n",
    "    dead_to_effero,\n",
    "    effero_to_death,\n",
    "]\n",
    "\n",
    "# Find the maximum length among all lists\n",
    "max_length = max(len(lst) for lst in lists)\n",
    "\n",
    "# Pad shorter lists with None (or NaN if using numpy) to make them of equal length\n",
    "def pad_list(lst, length, pad_value=None):\n",
    "    return lst + [pad_value] * (length - len(lst))\n",
    "    \n",
    "# Define column names based on the original variable names\n",
    "column_names = [\n",
    "    \"infected_to_infected\",\n",
    "    \"infected_to_uninfected\",\n",
    "    \"uninfected_to_infected\",\n",
    "    \"uninfected_to_uninfected\",\n",
    "    \"infected_to_dead\",\n",
    "    \"uninfected_to_dead\",\n",
    "    \"infected_to_effero\",\n",
    "    \"uninfected_to_effero\",\n",
    "    \"dead_to_effero\",\n",
    "    \"effero_to_death\",\n",
    "]\n",
    "\n",
    "# Create a dictionary of data to create the DataFrame\n",
    "data = {column_name: pad_list(lst, max_length) for column_name, lst in zip(column_names, lists)}\n",
    "\n",
    "# Create a DataFrame\n",
    "class_df = pd.DataFrame(data)"
   ]
  },
  {
   "cell_type": "code",
   "execution_count": 453,
   "id": "e11f1f2a-c87f-40a2-97e5-a513f0c720e9",
   "metadata": {
    "scrolled": true
   },
   "outputs": [
    {
     "data": {
      "text/html": [
       "<div>\n",
       "<style scoped>\n",
       "    .dataframe tbody tr th:only-of-type {\n",
       "        vertical-align: middle;\n",
       "    }\n",
       "\n",
       "    .dataframe tbody tr th {\n",
       "        vertical-align: top;\n",
       "    }\n",
       "\n",
       "    .dataframe thead th {\n",
       "        text-align: right;\n",
       "    }\n",
       "</style>\n",
       "<table border=\"1\" class=\"dataframe\">\n",
       "  <thead>\n",
       "    <tr style=\"text-align: right;\">\n",
       "      <th></th>\n",
       "      <th>infected_to_infected</th>\n",
       "      <th>infected_to_uninfected</th>\n",
       "      <th>uninfected_to_infected</th>\n",
       "      <th>uninfected_to_uninfected</th>\n",
       "      <th>infected_to_dead</th>\n",
       "      <th>uninfected_to_dead</th>\n",
       "      <th>infected_to_effero</th>\n",
       "      <th>uninfected_to_effero</th>\n",
       "      <th>dead_to_effero</th>\n",
       "      <th>effero_to_death</th>\n",
       "    </tr>\n",
       "  </thead>\n",
       "  <tbody>\n",
       "    <tr>\n",
       "      <th>0</th>\n",
       "      <td>1.3.5</td>\n",
       "      <td>None</td>\n",
       "      <td>108.3.5</td>\n",
       "      <td>107.3.5</td>\n",
       "      <td>252.3.5</td>\n",
       "      <td>107.3.5</td>\n",
       "      <td>285.3.5</td>\n",
       "      <td>None</td>\n",
       "      <td>112.3.5</td>\n",
       "      <td>None</td>\n",
       "    </tr>\n",
       "    <tr>\n",
       "      <th>1</th>\n",
       "      <td>115.3.5</td>\n",
       "      <td>None</td>\n",
       "      <td>109.3.5</td>\n",
       "      <td>142.3.5</td>\n",
       "      <td>486.3.5</td>\n",
       "      <td>144.3.5</td>\n",
       "      <td>432.3.5</td>\n",
       "      <td>None</td>\n",
       "      <td>432.3.5</td>\n",
       "      <td>None</td>\n",
       "    </tr>\n",
       "    <tr>\n",
       "      <th>2</th>\n",
       "      <td>117.3.5</td>\n",
       "      <td>None</td>\n",
       "      <td>118.3.5</td>\n",
       "      <td>147.3.5</td>\n",
       "      <td>507.3.5</td>\n",
       "      <td>15.3.5</td>\n",
       "      <td>None</td>\n",
       "      <td>None</td>\n",
       "      <td>491.3.5</td>\n",
       "      <td>None</td>\n",
       "    </tr>\n",
       "    <tr>\n",
       "      <th>3</th>\n",
       "      <td>134.3.5</td>\n",
       "      <td>None</td>\n",
       "      <td>138.3.5</td>\n",
       "      <td>156.3.5</td>\n",
       "      <td>515.3.5</td>\n",
       "      <td>444.3.5</td>\n",
       "      <td>None</td>\n",
       "      <td>None</td>\n",
       "      <td>None</td>\n",
       "      <td>None</td>\n",
       "    </tr>\n",
       "    <tr>\n",
       "      <th>4</th>\n",
       "      <td>178.3.5</td>\n",
       "      <td>None</td>\n",
       "      <td>144.3.5</td>\n",
       "      <td>161.3.5</td>\n",
       "      <td>530.3.5</td>\n",
       "      <td>552.3.5</td>\n",
       "      <td>None</td>\n",
       "      <td>None</td>\n",
       "      <td>None</td>\n",
       "      <td>None</td>\n",
       "    </tr>\n",
       "    <tr>\n",
       "      <th>...</th>\n",
       "      <td>...</td>\n",
       "      <td>...</td>\n",
       "      <td>...</td>\n",
       "      <td>...</td>\n",
       "      <td>...</td>\n",
       "      <td>...</td>\n",
       "      <td>...</td>\n",
       "      <td>...</td>\n",
       "      <td>...</td>\n",
       "      <td>...</td>\n",
       "    </tr>\n",
       "    <tr>\n",
       "      <th>126</th>\n",
       "      <td>None</td>\n",
       "      <td>None</td>\n",
       "      <td>None</td>\n",
       "      <td>988.3.5</td>\n",
       "      <td>None</td>\n",
       "      <td>None</td>\n",
       "      <td>None</td>\n",
       "      <td>None</td>\n",
       "      <td>None</td>\n",
       "      <td>None</td>\n",
       "    </tr>\n",
       "    <tr>\n",
       "      <th>127</th>\n",
       "      <td>None</td>\n",
       "      <td>None</td>\n",
       "      <td>None</td>\n",
       "      <td>1506.3.5</td>\n",
       "      <td>None</td>\n",
       "      <td>None</td>\n",
       "      <td>None</td>\n",
       "      <td>None</td>\n",
       "      <td>None</td>\n",
       "      <td>None</td>\n",
       "    </tr>\n",
       "    <tr>\n",
       "      <th>128</th>\n",
       "      <td>None</td>\n",
       "      <td>None</td>\n",
       "      <td>None</td>\n",
       "      <td>2024.3.5</td>\n",
       "      <td>None</td>\n",
       "      <td>None</td>\n",
       "      <td>None</td>\n",
       "      <td>None</td>\n",
       "      <td>None</td>\n",
       "      <td>None</td>\n",
       "    </tr>\n",
       "    <tr>\n",
       "      <th>129</th>\n",
       "      <td>None</td>\n",
       "      <td>None</td>\n",
       "      <td>None</td>\n",
       "      <td>1007.3.5</td>\n",
       "      <td>None</td>\n",
       "      <td>None</td>\n",
       "      <td>None</td>\n",
       "      <td>None</td>\n",
       "      <td>None</td>\n",
       "      <td>None</td>\n",
       "    </tr>\n",
       "    <tr>\n",
       "      <th>130</th>\n",
       "      <td>None</td>\n",
       "      <td>None</td>\n",
       "      <td>None</td>\n",
       "      <td>1015.3.5</td>\n",
       "      <td>None</td>\n",
       "      <td>None</td>\n",
       "      <td>None</td>\n",
       "      <td>None</td>\n",
       "      <td>None</td>\n",
       "      <td>None</td>\n",
       "    </tr>\n",
       "  </tbody>\n",
       "</table>\n",
       "<p>131 rows × 10 columns</p>\n",
       "</div>"
      ],
      "text/plain": [
       "    infected_to_infected infected_to_uninfected uninfected_to_infected  \\\n",
       "0                  1.3.5                   None                108.3.5   \n",
       "1                115.3.5                   None                109.3.5   \n",
       "2                117.3.5                   None                118.3.5   \n",
       "3                134.3.5                   None                138.3.5   \n",
       "4                178.3.5                   None                144.3.5   \n",
       "..                   ...                    ...                    ...   \n",
       "126                 None                   None                   None   \n",
       "127                 None                   None                   None   \n",
       "128                 None                   None                   None   \n",
       "129                 None                   None                   None   \n",
       "130                 None                   None                   None   \n",
       "\n",
       "    uninfected_to_uninfected infected_to_dead uninfected_to_dead  \\\n",
       "0                    107.3.5          252.3.5            107.3.5   \n",
       "1                    142.3.5          486.3.5            144.3.5   \n",
       "2                    147.3.5          507.3.5             15.3.5   \n",
       "3                    156.3.5          515.3.5            444.3.5   \n",
       "4                    161.3.5          530.3.5            552.3.5   \n",
       "..                       ...              ...                ...   \n",
       "126                  988.3.5             None               None   \n",
       "127                 1506.3.5             None               None   \n",
       "128                 2024.3.5             None               None   \n",
       "129                 1007.3.5             None               None   \n",
       "130                 1015.3.5             None               None   \n",
       "\n",
       "    infected_to_effero uninfected_to_effero dead_to_effero effero_to_death  \n",
       "0              285.3.5                 None        112.3.5            None  \n",
       "1              432.3.5                 None        432.3.5            None  \n",
       "2                 None                 None        491.3.5            None  \n",
       "3                 None                 None           None            None  \n",
       "4                 None                 None           None            None  \n",
       "..                 ...                  ...            ...             ...  \n",
       "126               None                 None           None            None  \n",
       "127               None                 None           None            None  \n",
       "128               None                 None           None            None  \n",
       "129               None                 None           None            None  \n",
       "130               None                 None           None            None  \n",
       "\n",
       "[131 rows x 10 columns]"
      ]
     },
     "execution_count": 453,
     "metadata": {},
     "output_type": "execute_result"
    }
   ],
   "source": [
    "class_df"
   ]
  },
  {
   "cell_type": "code",
   "execution_count": 465,
   "id": "7be302d0-7ed3-498e-a2ce-bf5ae68fe57c",
   "metadata": {},
   "outputs": [],
   "source": [
    "# Find columns that end with \"to_dead\"\n",
    "to_dead_columns = [col for col in class_df.columns if col.endswith(\"to_dead\")]\n",
    "\n",
    "# Create a list of IDs from the \"to_dead\" columns\n",
    "list_of_dead_ids = []\n",
    "\n",
    "for col_name in to_dead_columns:\n",
    "    list_of_dead_ids.extend([id for id in class_df[col_name] if id is not None])\n"
   ]
  },
  {
   "cell_type": "code",
   "execution_count": 477,
   "id": "e2e62aeb-5917-452c-bdeb-4ace85c9d977",
   "metadata": {},
   "outputs": [
    {
     "name": "stdout",
     "output_type": "stream",
     "text": [
      "['infected_to_infected', 'infected_to_dead']\n"
     ]
    }
   ],
   "source": [
    "search_id = '252.3.5'\n",
    "matching_columns = [col for col in class_df.columns if search_id in class_df[col].values]\n",
    "print(matching_columns)"
   ]
  },
  {
   "cell_type": "markdown",
   "id": "faf26ed2-1cb1-4540-b35f-78a09ff708fc",
   "metadata": {},
   "source": [
    "### Record fate and tidy up previous columns"
   ]
  },
  {
   "cell_type": "code",
   "execution_count": 518,
   "id": "41d227e6-07d9-4489-b615-5da176ef4148",
   "metadata": {},
   "outputs": [
    {
     "data": {
      "text/plain": [
       "['432.3.5',\n",
       " '431.3.5',\n",
       " '354.3.5',\n",
       " '397.3.5',\n",
       " '426.3.5',\n",
       " '424.3.5',\n",
       " '1308.3.5',\n",
       " '384.3.5',\n",
       " '1611.3.5',\n",
       " '473.3.5',\n",
       " '491.3.5',\n",
       " '3179.3.5',\n",
       " '486.3.5',\n",
       " '515.3.5',\n",
       " '15.3.5',\n",
       " '34.3.5',\n",
       " '119.3.5',\n",
       " '112.3.5',\n",
       " '26.3.5',\n",
       " '110.3.5',\n",
       " '144.3.5',\n",
       " '252.3.5',\n",
       " '286.3.5',\n",
       " '107.3.5',\n",
       " '444.3.5',\n",
       " '530.3.5',\n",
       " '542.3.5',\n",
       " '552.3.5',\n",
       " '1118.3.5',\n",
       " '642.3.5',\n",
       " '131.3.5',\n",
       " '204.3.5',\n",
       " '1356.3.5',\n",
       " '344.3.5',\n",
       " '410.3.5',\n",
       " '461.3.5',\n",
       " '997.3.5',\n",
       " '493.3.5',\n",
       " '507.3.5']"
      ]
     },
     "execution_count": 518,
     "metadata": {},
     "output_type": "execute_result"
    }
   ],
   "source": [
    "death_IDs"
   ]
  },
  {
   "cell_type": "code",
   "execution_count": 496,
   "id": "3e95d41e-b360-4cf6-b70c-a6b42d4ea807",
   "metadata": {},
   "outputs": [],
   "source": [
    "df['t0 Mphi state'] = None # inf/uninf\n",
    "df['t-1 Mphi state'] = None # dead/alive\n",
    "df['Fate mechanism'] = None # dead/alive"
   ]
  },
  {
   "cell_type": "markdown",
   "id": "ea411891-b7d9-4145-a5dc-97c9c14843e3",
   "metadata": {},
   "source": [
    "# New plot"
   ]
  },
  {
   "cell_type": "markdown",
   "id": "1248488e-4a3f-493d-a4ac-ac768eae7427",
   "metadata": {
    "jp-MarkdownHeadingCollapsed": true
   },
   "source": [
    "### List of strings"
   ]
  },
  {
   "cell_type": "code",
   "execution_count": 515,
   "id": "d31f6616-2d75-478a-8f1d-b33e7cddae69",
   "metadata": {},
   "outputs": [],
   "source": [
    "for ID in df['Unique ID'].unique():\n",
    "    # Isolate one track\n",
    "    subset_df = df[df['Unique ID'] == ID]\n",
    "\n",
    "    # Check initial infection status and store as a list using apply\n",
    "    initial_infected = 'Infected' if all(subset_df.dropna()['Mtb Area µm2'].iloc[:3] > min_mtb_area_thresh_µm) else 'Uninfected'\n",
    "    df.loc[df['Unique ID'] == ID, 't0 Mphi state'] = df[df['Unique ID'] == ID].apply(lambda x: ['Alive', initial_infected], axis=1) # assuming all cells are initially alive\n",
    "\n",
    "    # Check final status of cell\n",
    "    final_status = 'Alive' if ID not in death_IDs else 'Dead'\n",
    "    \n",
    "    # Check final infection status\n",
    "    final_infected = 'Infected' if all(subset_df.dropna()['Mtb Area µm2'].iloc[-3:] > min_mtb_area_thresh_µm) else 'Uninfected'\n",
    "    \n",
    "    # Apply the list to each row individually for the final state\n",
    "    df.loc[df['Unique ID'] == ID, 't-1 Mphi state'] = df[df['Unique ID'] == ID].apply(lambda x: [final_status, final_infected], axis=1)\n"
   ]
  },
  {
   "cell_type": "markdown",
   "id": "c5913f68-d13e-4da4-a4f6-f20e51aff2f0",
   "metadata": {},
   "source": [
    "### String fate entry"
   ]
  },
  {
   "cell_type": "markdown",
   "id": "633bcfc6-f10f-4b0c-b711-aadff03a567c",
   "metadata": {},
   "source": [
    "# Have somehow fucked up the Alive Infected category"
   ]
  },
  {
   "cell_type": "code",
   "execution_count": 816,
   "id": "6ee3362d-d48c-494b-8603-1e7941231d2e",
   "metadata": {},
   "outputs": [
    {
     "data": {
      "text/plain": [
       "1.9666646636802418"
      ]
     },
     "execution_count": 816,
     "metadata": {},
     "output_type": "execute_result"
    }
   ],
   "source": [
    "min_mtb_area_thresh_µm"
   ]
  },
  {
   "cell_type": "code",
   "execution_count": 813,
   "id": "a4ae95a7-2f68-4688-83ee-8180c08a958e",
   "metadata": {},
   "outputs": [],
   "source": [
    "for ID in df['Unique ID'].unique():\n",
    "    # Isolate one track\n",
    "    subset_df = df[df['Unique ID'] == ID]\n",
    "\n",
    "    # Check initial infection status and store as a string\n",
    "    initial_infected = 'Infected' if all(subset_df.dropna()['Mtb Area µm2'].iloc[:3] > min_mtb_area_thresh_µm) else 'Uninfected'\n",
    "    # Assuming all cells are initially alive\n",
    "    df.loc[df['Unique ID'] == ID, 't0 Mphi state'] = 'Alive ' + initial_infected\n",
    "\n",
    "    # Check final status of cell\n",
    "    final_status = 'Alive' if ID not in death_IDs else 'Dead'\n",
    "\n",
    "    # Check final infection status\n",
    "        # final_infected = 'Uninfected' if all(subset_df.dropna()['Mtb Area µm2'].iloc[-3:] < min_mtb_area_thresh_µm) else 'Infected'\n",
    "\n",
    "    final_infected = 'Uninfected' if all(subset_df.dropna()['Mtb Area µm2'].iloc[-3:] < 0) else 'Infected'\n",
    "\n",
    "    # Check if the last values of 'x' or 'y' are within 5 pixels of either boundary\n",
    "    if ((abs(subset_df['x'].iloc[-1] - boundary_upper) <= threshold) or \n",
    "        (abs(subset_df['x'].iloc[-1] - boundary_lower) <= threshold) or\n",
    "        (abs(subset_df['y'].iloc[-1] - boundary_upper) <= threshold) or\n",
    "        (abs(subset_df['y'].iloc[-1] - boundary_lower) <= threshold)):\n",
    "        final_infected = 'Left FOV'\n",
    "    \n",
    "    # Combine final status and infection status into a single string\n",
    "    df.loc[df['Unique ID'] == ID, 't-1 Mphi state'] = final_status + ' ' + final_infected\n",
    "\n",
    "######################## manual corrections\n",
    "df.loc[df['Unique ID'] == '507.3.5', 't-1 Mphi state'] = 'Dead Infected' # due to last min id switch"
   ]
  },
  {
   "cell_type": "code",
   "execution_count": 814,
   "id": "747629c8-fe08-4eae-ad34-082320674745",
   "metadata": {},
   "outputs": [],
   "source": [
    "######################## manual corrections\n",
    "df.loc[df['Unique ID'] == '507.3.5', 't-1 Mphi state'] = 'Dead Infected'\n",
    "\n",
    "\n",
    "# infected_to_uninfected.remove('507.3.5') # manually correcting last min ID switch \n",
    "# infected_to_uninfected.remove('112.3.5') # last min id switch because of cell death then effero\n",
    "# infected_to_uninfected.remove('499.3.5') # dead then eff\n",
    "# infected_to_uninfected.remove('285.3.5') # eff"
   ]
  },
  {
   "cell_type": "code",
   "execution_count": 806,
   "id": "9b2e50f2-5e69-4412-8d99-48b594d9e646",
   "metadata": {},
   "outputs": [
    {
     "data": {
      "text/plain": [
       "896    Alive Infected\n",
       "897    Alive Infected\n",
       "898    Alive Infected\n",
       "899    Alive Infected\n",
       "900    Alive Infected\n",
       "            ...      \n",
       "966    Alive Infected\n",
       "967    Alive Infected\n",
       "968    Alive Infected\n",
       "969    Alive Infected\n",
       "970    Alive Infected\n",
       "Name: t-1 Mphi state, Length: 75, dtype: object"
      ]
     },
     "execution_count": 806,
     "metadata": {},
     "output_type": "execute_result"
    }
   ],
   "source": [
    "df.loc[df['Unique ID'] == '15.3.5', 't-1 Mphi state']"
   ]
  },
  {
   "cell_type": "markdown",
   "id": "3ce358fc-e5a1-4a12-8349-9db88df1f904",
   "metadata": {},
   "source": [
    "# Plotting new fate labels"
   ]
  },
  {
   "cell_type": "code",
   "execution_count": 815,
   "id": "e20a98aa-696b-46c6-a43c-142bb2263916",
   "metadata": {},
   "outputs": [
    {
     "data": {
      "application/vnd.plotly.v1+json": {
       "config": {
        "plotlyServerURL": "https://plot.ly"
       },
       "data": [
        {
         "link": {
          "label": [
           [],
           [
            "1.3.5",
            "107.3.5",
            "108.3.5",
            "109.3.5",
            "115.3.5",
            "117.3.5",
            "118.3.5",
            "134.3.5",
            "138.3.5",
            "142.3.5",
            "147.3.5",
            "150.3.5",
            "156.3.5",
            "161.3.5",
            "170.3.5",
            "174.3.5",
            "178.3.5",
            "186.3.5",
            "187.3.5",
            "19.3.5",
            "194.3.5",
            "196.3.5",
            "197.3.5",
            "201.3.5",
            "210.3.5",
            "211.3.5",
            "214.3.5",
            "217.3.5",
            "218.3.5",
            "224.3.5",
            "226.3.5",
            "227.3.5",
            "233.3.5",
            "239.3.5",
            "247.3.5",
            "250.3.5",
            "254.3.5",
            "256.3.5",
            "263.3.5",
            "264.3.5",
            "268.3.5",
            "272.3.5",
            "278.3.5",
            "289.3.5",
            "291.3.5",
            "295.3.5",
            "300.3.5",
            "302.3.5",
            "309.3.5",
            "319.3.5",
            "325.3.5",
            "327.3.5",
            "329.3.5",
            "330.3.5",
            "331.3.5",
            "334.3.5",
            "335.3.5",
            "336.3.5",
            "337.3.5",
            "339.3.5",
            "341.3.5",
            "345.3.5",
            "352.3.5",
            "355.3.5",
            "36.3.5",
            "360.3.5",
            "361.3.5",
            "363.3.5",
            "366.3.5",
            "367.3.5",
            "37.3.5",
            "373.3.5",
            "374.3.5",
            "380.3.5",
            "393.3.5",
            "398.3.5",
            "401.3.5",
            "41.3.5",
            "414.3.5",
            "421.3.5",
            "427.3.5",
            "430.3.5",
            "437.3.5",
            "438.3.5",
            "44.3.5",
            "445.3.5",
            "447.3.5",
            "450.3.5",
            "452.3.5",
            "456.3.5",
            "458.3.5",
            "459.3.5",
            "460.3.5",
            "463.3.5",
            "465.3.5",
            "466.3.5",
            "470.3.5",
            "474.3.5",
            "475.3.5",
            "477.3.5",
            "481.3.5",
            "483.3.5",
            "484.3.5",
            "487.3.5",
            "490.3.5",
            "492.3.5",
            "495.3.5",
            "501.3.5",
            "503.3.5",
            "508.3.5",
            "51.3.5",
            "510.3.5",
            "513.3.5",
            "517.3.5",
            "518.3.5",
            "521.3.5",
            "525.3.5",
            "526.3.5",
            "527.3.5",
            "528.3.5",
            "531.3.5",
            "536.3.5",
            "537.3.5",
            "539.3.5",
            "544.3.5",
            "558.3.5",
            "56.3.5",
            "564.3.5",
            "565.3.5",
            "577.3.5",
            "579.3.5",
            "581.3.5",
            "584.3.5",
            "586.3.5",
            "598.3.5",
            "601.3.5",
            "602.3.5",
            "607.3.5",
            "608.3.5",
            "610.3.5",
            "617.3.5",
            "624.3.5",
            "665.3.5",
            "670.3.5",
            "69.3.5",
            "702.3.5",
            "75.3.5",
            "77.3.5",
            "802.3.5",
            "808.3.5",
            "810.3.5",
            "823.3.5",
            "840.3.5",
            "869.3.5",
            "892.3.5",
            "893.3.5",
            "90.3.5",
            "93.3.5",
            "95.3.5",
            "99.3.5",
            "1536.3.5",
            "2563.3.5",
            "524.3.5",
            "535.3.5",
            "2072.3.5",
            "1559.3.5",
            "1562.3.5",
            "541.3.5",
            "2598.3.5",
            "1575.3.5",
            "1577.3.5",
            "557.3.5",
            "1072.3.5",
            "1589.3.5",
            "60.3.5",
            "3131.3.5",
            "62.3.5",
            "2111.3.5",
            "64.3.5",
            "1595.3.5",
            "578.3.5",
            "72.3.5",
            "73.3.5",
            "74.3.5",
            "585.3.5",
            "1613.3.5",
            "2639.3.5",
            "3151.3.5",
            "1105.3.5",
            "83.3.5",
            "1107.3.5",
            "1620.3.5",
            "3159.3.5",
            "89.3.5",
            "604.3.5",
            "1631.3.5",
            "97.3.5",
            "2659.3.5",
            "100.3.5",
            "1639.3.5",
            "105.3.5",
            "1129.3.5",
            "621.3.5",
            "1134.3.5",
            "625.3.5",
            "1138.3.5",
            "628.3.5",
            "1652.3.5",
            "1654.3.5",
            "120.3.5",
            "1147.3.5",
            "128.3.5",
            "644.3.5",
            "1154.3.5",
            "1166.3.5",
            "656.3.5",
            "148.3.5",
            "2708.3.5",
            "153.3.5",
            "1690.3.5",
            "669.3.5",
            "160.3.5",
            "672.3.5",
            "673.3.5",
            "3233.3.5",
            "164.3.5",
            "166.3.5",
            "679.3.5",
            "682.3.5",
            "3242.3.5",
            "172.3.5",
            "177.3.5",
            "2737.3.5",
            "182.3.5",
            "2234.3.5",
            "1731.3.5",
            "1735.3.5",
            "1226.3.5",
            "3275.3.5",
            "1233.3.5",
            "2258.3.5",
            "1239.3.5",
            "1246.3.5",
            "2787.3.5",
            "1254.3.5",
            "2794.3.5",
            "237.3.5",
            "1778.3.5",
            "756.3.5",
            "3318.3.5",
            "1783.3.5",
            "249.3.5",
            "2300.3.5",
            "769.3.5",
            "261.3.5",
            "1287.3.5",
            "265.3.5",
            "3337.3.5",
            "280.3.5",
            "281.3.5",
            "1817.3.5",
            "283.3.5",
            "285.3.5",
            "287.3.5",
            "288.3.5",
            "1313.3.5",
            "3362.3.5",
            "806.3.5",
            "2855.3.5",
            "1332.3.5",
            "3380.3.5",
            "315.3.5",
            "1340.3.5",
            "321.3.5",
            "1345.3.5",
            "324.3.5",
            "2886.3.5",
            "3402.3.5",
            "1354.3.5",
            "1868.3.5",
            "1358.3.5",
            "855.3.5",
            "867.3.5",
            "1378.3.5",
            "2922.3.5",
            "1387.3.5",
            "2422.3.5",
            "376.3.5",
            "888.3.5",
            "889.3.5",
            "1402.3.5",
            "1918.3.5",
            "2434.3.5",
            "902.3.5",
            "2440.3.5",
            "1417.3.5",
            "1427.3.5",
            "407.3.5",
            "2971.3.5",
            "1948.3.5",
            "415.3.5",
            "416.3.5",
            "2976.3.5",
            "2977.3.5",
            "419.3.5",
            "420.3.5",
            "423.3.5",
            "425.3.5",
            "1960.3.5",
            "948.3.5",
            "1461.3.5",
            "1972.3.5",
            "2492.3.5",
            "1468.3.5",
            "1485.3.5",
            "1999.3.5",
            "3026.3.5",
            "3033.3.5",
            "986.3.5",
            "988.3.5",
            "2014.3.5",
            "479.3.5",
            "1506.3.5",
            "996.3.5",
            "2535.3.5",
            "2024.3.5",
            "1007.3.5",
            "499.3.5",
            "1015.3.5"
           ],
           [
            "252.3.5",
            "486.3.5",
            "507.3.5",
            "515.3.5",
            "530.3.5",
            "542.3.5",
            "1611.3.5",
            "1118.3.5",
            "3179.3.5",
            "110.3.5",
            "112.3.5",
            "119.3.5",
            "1356.3.5",
            "384.3.5",
            "410.3.5",
            "424.3.5",
            "426.3.5",
            "431.3.5",
            "432.3.5",
            "461.3.5",
            "473.3.5",
            "997.3.5",
            "491.3.5"
           ],
           [
            "397.3.5"
           ],
           [
            "15.3.5"
           ],
           [],
           [
            "144.3.5",
            "444.3.5",
            "552.3.5",
            "26.3.5",
            "34.3.5",
            "642.3.5",
            "131.3.5",
            "1308.3.5",
            "286.3.5",
            "344.3.5",
            "354.3.5",
            "493.3.5"
           ],
           [],
           [],
           [],
           [],
           [],
           [],
           [],
           [],
           []
          ],
          "source": [
           0,
           0,
           0,
           0,
           1,
           1,
           1,
           1,
           2,
           2,
           2,
           2,
           3,
           3,
           3,
           3
          ],
          "target": [
           4,
           5,
           6,
           7,
           4,
           5,
           6,
           7,
           4,
           5,
           6,
           7,
           4,
           5,
           6,
           7
          ],
          "value": [
           0,
           329,
           23,
           1,
           1,
           0,
           12,
           0,
           0,
           0,
           0,
           0,
           0,
           0,
           0,
           0
          ]
         },
         "node": {
          "color": [
           "#d02c91",
           "#1a9641",
           "#978897",
           "#978897",
           "#f1b6da",
           "#a6d96a",
           "#978897",
           "#d1d1ca"
          ],
          "label": [
           "Alive Infected t0",
           "Alive Uninfected t0",
           "Dead Infected t0",
           "Dead Uninfected t0",
           "Alive Infected t-1",
           "Alive Uninfected t-1",
           "Dead Infected t-1",
           "Dead Uninfected t-1"
          ],
          "line": {
           "color": "black",
           "width": 0.5
          },
          "pad": 15,
          "thickness": 20
         },
         "type": "sankey"
        }
       ],
       "layout": {
        "font": {
         "family": "Liberation Sans"
        },
        "height": 600,
        "template": {
         "data": {
          "bar": [
           {
            "error_x": {
             "color": "#2a3f5f"
            },
            "error_y": {
             "color": "#2a3f5f"
            },
            "marker": {
             "line": {
              "color": "#E5ECF6",
              "width": 0.5
             },
             "pattern": {
              "fillmode": "overlay",
              "size": 10,
              "solidity": 0.2
             }
            },
            "type": "bar"
           }
          ],
          "barpolar": [
           {
            "marker": {
             "line": {
              "color": "#E5ECF6",
              "width": 0.5
             },
             "pattern": {
              "fillmode": "overlay",
              "size": 10,
              "solidity": 0.2
             }
            },
            "type": "barpolar"
           }
          ],
          "carpet": [
           {
            "aaxis": {
             "endlinecolor": "#2a3f5f",
             "gridcolor": "white",
             "linecolor": "white",
             "minorgridcolor": "white",
             "startlinecolor": "#2a3f5f"
            },
            "baxis": {
             "endlinecolor": "#2a3f5f",
             "gridcolor": "white",
             "linecolor": "white",
             "minorgridcolor": "white",
             "startlinecolor": "#2a3f5f"
            },
            "type": "carpet"
           }
          ],
          "choropleth": [
           {
            "colorbar": {
             "outlinewidth": 0,
             "ticks": ""
            },
            "type": "choropleth"
           }
          ],
          "contour": [
           {
            "colorbar": {
             "outlinewidth": 0,
             "ticks": ""
            },
            "colorscale": [
             [
              0,
              "#0d0887"
             ],
             [
              0.1111111111111111,
              "#46039f"
             ],
             [
              0.2222222222222222,
              "#7201a8"
             ],
             [
              0.3333333333333333,
              "#9c179e"
             ],
             [
              0.4444444444444444,
              "#bd3786"
             ],
             [
              0.5555555555555556,
              "#d8576b"
             ],
             [
              0.6666666666666666,
              "#ed7953"
             ],
             [
              0.7777777777777778,
              "#fb9f3a"
             ],
             [
              0.8888888888888888,
              "#fdca26"
             ],
             [
              1,
              "#f0f921"
             ]
            ],
            "type": "contour"
           }
          ],
          "contourcarpet": [
           {
            "colorbar": {
             "outlinewidth": 0,
             "ticks": ""
            },
            "type": "contourcarpet"
           }
          ],
          "heatmap": [
           {
            "colorbar": {
             "outlinewidth": 0,
             "ticks": ""
            },
            "colorscale": [
             [
              0,
              "#0d0887"
             ],
             [
              0.1111111111111111,
              "#46039f"
             ],
             [
              0.2222222222222222,
              "#7201a8"
             ],
             [
              0.3333333333333333,
              "#9c179e"
             ],
             [
              0.4444444444444444,
              "#bd3786"
             ],
             [
              0.5555555555555556,
              "#d8576b"
             ],
             [
              0.6666666666666666,
              "#ed7953"
             ],
             [
              0.7777777777777778,
              "#fb9f3a"
             ],
             [
              0.8888888888888888,
              "#fdca26"
             ],
             [
              1,
              "#f0f921"
             ]
            ],
            "type": "heatmap"
           }
          ],
          "heatmapgl": [
           {
            "colorbar": {
             "outlinewidth": 0,
             "ticks": ""
            },
            "colorscale": [
             [
              0,
              "#0d0887"
             ],
             [
              0.1111111111111111,
              "#46039f"
             ],
             [
              0.2222222222222222,
              "#7201a8"
             ],
             [
              0.3333333333333333,
              "#9c179e"
             ],
             [
              0.4444444444444444,
              "#bd3786"
             ],
             [
              0.5555555555555556,
              "#d8576b"
             ],
             [
              0.6666666666666666,
              "#ed7953"
             ],
             [
              0.7777777777777778,
              "#fb9f3a"
             ],
             [
              0.8888888888888888,
              "#fdca26"
             ],
             [
              1,
              "#f0f921"
             ]
            ],
            "type": "heatmapgl"
           }
          ],
          "histogram": [
           {
            "marker": {
             "pattern": {
              "fillmode": "overlay",
              "size": 10,
              "solidity": 0.2
             }
            },
            "type": "histogram"
           }
          ],
          "histogram2d": [
           {
            "colorbar": {
             "outlinewidth": 0,
             "ticks": ""
            },
            "colorscale": [
             [
              0,
              "#0d0887"
             ],
             [
              0.1111111111111111,
              "#46039f"
             ],
             [
              0.2222222222222222,
              "#7201a8"
             ],
             [
              0.3333333333333333,
              "#9c179e"
             ],
             [
              0.4444444444444444,
              "#bd3786"
             ],
             [
              0.5555555555555556,
              "#d8576b"
             ],
             [
              0.6666666666666666,
              "#ed7953"
             ],
             [
              0.7777777777777778,
              "#fb9f3a"
             ],
             [
              0.8888888888888888,
              "#fdca26"
             ],
             [
              1,
              "#f0f921"
             ]
            ],
            "type": "histogram2d"
           }
          ],
          "histogram2dcontour": [
           {
            "colorbar": {
             "outlinewidth": 0,
             "ticks": ""
            },
            "colorscale": [
             [
              0,
              "#0d0887"
             ],
             [
              0.1111111111111111,
              "#46039f"
             ],
             [
              0.2222222222222222,
              "#7201a8"
             ],
             [
              0.3333333333333333,
              "#9c179e"
             ],
             [
              0.4444444444444444,
              "#bd3786"
             ],
             [
              0.5555555555555556,
              "#d8576b"
             ],
             [
              0.6666666666666666,
              "#ed7953"
             ],
             [
              0.7777777777777778,
              "#fb9f3a"
             ],
             [
              0.8888888888888888,
              "#fdca26"
             ],
             [
              1,
              "#f0f921"
             ]
            ],
            "type": "histogram2dcontour"
           }
          ],
          "mesh3d": [
           {
            "colorbar": {
             "outlinewidth": 0,
             "ticks": ""
            },
            "type": "mesh3d"
           }
          ],
          "parcoords": [
           {
            "line": {
             "colorbar": {
              "outlinewidth": 0,
              "ticks": ""
             }
            },
            "type": "parcoords"
           }
          ],
          "pie": [
           {
            "automargin": true,
            "type": "pie"
           }
          ],
          "scatter": [
           {
            "fillpattern": {
             "fillmode": "overlay",
             "size": 10,
             "solidity": 0.2
            },
            "type": "scatter"
           }
          ],
          "scatter3d": [
           {
            "line": {
             "colorbar": {
              "outlinewidth": 0,
              "ticks": ""
             }
            },
            "marker": {
             "colorbar": {
              "outlinewidth": 0,
              "ticks": ""
             }
            },
            "type": "scatter3d"
           }
          ],
          "scattercarpet": [
           {
            "marker": {
             "colorbar": {
              "outlinewidth": 0,
              "ticks": ""
             }
            },
            "type": "scattercarpet"
           }
          ],
          "scattergeo": [
           {
            "marker": {
             "colorbar": {
              "outlinewidth": 0,
              "ticks": ""
             }
            },
            "type": "scattergeo"
           }
          ],
          "scattergl": [
           {
            "marker": {
             "colorbar": {
              "outlinewidth": 0,
              "ticks": ""
             }
            },
            "type": "scattergl"
           }
          ],
          "scattermapbox": [
           {
            "marker": {
             "colorbar": {
              "outlinewidth": 0,
              "ticks": ""
             }
            },
            "type": "scattermapbox"
           }
          ],
          "scatterpolar": [
           {
            "marker": {
             "colorbar": {
              "outlinewidth": 0,
              "ticks": ""
             }
            },
            "type": "scatterpolar"
           }
          ],
          "scatterpolargl": [
           {
            "marker": {
             "colorbar": {
              "outlinewidth": 0,
              "ticks": ""
             }
            },
            "type": "scatterpolargl"
           }
          ],
          "scatterternary": [
           {
            "marker": {
             "colorbar": {
              "outlinewidth": 0,
              "ticks": ""
             }
            },
            "type": "scatterternary"
           }
          ],
          "surface": [
           {
            "colorbar": {
             "outlinewidth": 0,
             "ticks": ""
            },
            "colorscale": [
             [
              0,
              "#0d0887"
             ],
             [
              0.1111111111111111,
              "#46039f"
             ],
             [
              0.2222222222222222,
              "#7201a8"
             ],
             [
              0.3333333333333333,
              "#9c179e"
             ],
             [
              0.4444444444444444,
              "#bd3786"
             ],
             [
              0.5555555555555556,
              "#d8576b"
             ],
             [
              0.6666666666666666,
              "#ed7953"
             ],
             [
              0.7777777777777778,
              "#fb9f3a"
             ],
             [
              0.8888888888888888,
              "#fdca26"
             ],
             [
              1,
              "#f0f921"
             ]
            ],
            "type": "surface"
           }
          ],
          "table": [
           {
            "cells": {
             "fill": {
              "color": "#EBF0F8"
             },
             "line": {
              "color": "white"
             }
            },
            "header": {
             "fill": {
              "color": "#C8D4E3"
             },
             "line": {
              "color": "white"
             }
            },
            "type": "table"
           }
          ]
         },
         "layout": {
          "annotationdefaults": {
           "arrowcolor": "#2a3f5f",
           "arrowhead": 0,
           "arrowwidth": 1
          },
          "autotypenumbers": "strict",
          "coloraxis": {
           "colorbar": {
            "outlinewidth": 0,
            "ticks": ""
           }
          },
          "colorscale": {
           "diverging": [
            [
             0,
             "#8e0152"
            ],
            [
             0.1,
             "#c51b7d"
            ],
            [
             0.2,
             "#de77ae"
            ],
            [
             0.3,
             "#f1b6da"
            ],
            [
             0.4,
             "#fde0ef"
            ],
            [
             0.5,
             "#f7f7f7"
            ],
            [
             0.6,
             "#e6f5d0"
            ],
            [
             0.7,
             "#b8e186"
            ],
            [
             0.8,
             "#7fbc41"
            ],
            [
             0.9,
             "#4d9221"
            ],
            [
             1,
             "#276419"
            ]
           ],
           "sequential": [
            [
             0,
             "#0d0887"
            ],
            [
             0.1111111111111111,
             "#46039f"
            ],
            [
             0.2222222222222222,
             "#7201a8"
            ],
            [
             0.3333333333333333,
             "#9c179e"
            ],
            [
             0.4444444444444444,
             "#bd3786"
            ],
            [
             0.5555555555555556,
             "#d8576b"
            ],
            [
             0.6666666666666666,
             "#ed7953"
            ],
            [
             0.7777777777777778,
             "#fb9f3a"
            ],
            [
             0.8888888888888888,
             "#fdca26"
            ],
            [
             1,
             "#f0f921"
            ]
           ],
           "sequentialminus": [
            [
             0,
             "#0d0887"
            ],
            [
             0.1111111111111111,
             "#46039f"
            ],
            [
             0.2222222222222222,
             "#7201a8"
            ],
            [
             0.3333333333333333,
             "#9c179e"
            ],
            [
             0.4444444444444444,
             "#bd3786"
            ],
            [
             0.5555555555555556,
             "#d8576b"
            ],
            [
             0.6666666666666666,
             "#ed7953"
            ],
            [
             0.7777777777777778,
             "#fb9f3a"
            ],
            [
             0.8888888888888888,
             "#fdca26"
            ],
            [
             1,
             "#f0f921"
            ]
           ]
          },
          "colorway": [
           "#636efa",
           "#EF553B",
           "#00cc96",
           "#ab63fa",
           "#FFA15A",
           "#19d3f3",
           "#FF6692",
           "#B6E880",
           "#FF97FF",
           "#FECB52"
          ],
          "font": {
           "color": "#2a3f5f"
          },
          "geo": {
           "bgcolor": "white",
           "lakecolor": "white",
           "landcolor": "#E5ECF6",
           "showlakes": true,
           "showland": true,
           "subunitcolor": "white"
          },
          "hoverlabel": {
           "align": "left"
          },
          "hovermode": "closest",
          "mapbox": {
           "style": "light"
          },
          "paper_bgcolor": "white",
          "plot_bgcolor": "#E5ECF6",
          "polar": {
           "angularaxis": {
            "gridcolor": "white",
            "linecolor": "white",
            "ticks": ""
           },
           "bgcolor": "#E5ECF6",
           "radialaxis": {
            "gridcolor": "white",
            "linecolor": "white",
            "ticks": ""
           }
          },
          "scene": {
           "xaxis": {
            "backgroundcolor": "#E5ECF6",
            "gridcolor": "white",
            "gridwidth": 2,
            "linecolor": "white",
            "showbackground": true,
            "ticks": "",
            "zerolinecolor": "white"
           },
           "yaxis": {
            "backgroundcolor": "#E5ECF6",
            "gridcolor": "white",
            "gridwidth": 2,
            "linecolor": "white",
            "showbackground": true,
            "ticks": "",
            "zerolinecolor": "white"
           },
           "zaxis": {
            "backgroundcolor": "#E5ECF6",
            "gridcolor": "white",
            "gridwidth": 2,
            "linecolor": "white",
            "showbackground": true,
            "ticks": "",
            "zerolinecolor": "white"
           }
          },
          "shapedefaults": {
           "line": {
            "color": "#2a3f5f"
           }
          },
          "ternary": {
           "aaxis": {
            "gridcolor": "white",
            "linecolor": "white",
            "ticks": ""
           },
           "baxis": {
            "gridcolor": "white",
            "linecolor": "white",
            "ticks": ""
           },
           "bgcolor": "#E5ECF6",
           "caxis": {
            "gridcolor": "white",
            "linecolor": "white",
            "ticks": ""
           }
          },
          "title": {
           "x": 0.05
          },
          "xaxis": {
           "automargin": true,
           "gridcolor": "white",
           "linecolor": "white",
           "ticks": "",
           "title": {
            "standoff": 15
           },
           "zerolinecolor": "white",
           "zerolinewidth": 2
          },
          "yaxis": {
           "automargin": true,
           "gridcolor": "white",
           "linecolor": "white",
           "ticks": "",
           "title": {
            "standoff": 15
           },
           "zerolinecolor": "white",
           "zerolinewidth": 2
          }
         }
        },
        "title": {
         "font": {
          "size": 20
         },
         "text": "<b>Macrophage Infection State Transitions for control experiment (3,5)<b>"
        },
        "width": 800
       }
      },
      "image/png": "[encoded data removed]",
      "text/html": [
       "<div>                            <div id=\"b3778849-ac60-430e-80d5-2705e3a12806\" class=\"plotly-graph-div\" style=\"height:600px; width:800px;\"></div>            <script type=\"text/javascript\">                require([\"plotly\"], function(Plotly) {                    window.PLOTLYENV=window.PLOTLYENV || {};                                    if (document.getElementById(\"b3778849-ac60-430e-80d5-2705e3a12806\")) {                    Plotly.newPlot(                        \"b3778849-ac60-430e-80d5-2705e3a12806\",                        [{\"link\":{\"label\":[[],[\"1.3.5\",\"107.3.5\",\"108.3.5\",\"109.3.5\",\"115.3.5\",\"117.3.5\",\"118.3.5\",\"134.3.5\",\"138.3.5\",\"142.3.5\",\"147.3.5\",\"150.3.5\",\"156.3.5\",\"161.3.5\",\"170.3.5\",\"174.3.5\",\"178.3.5\",\"186.3.5\",\"187.3.5\",\"19.3.5\",\"194.3.5\",\"196.3.5\",\"197.3.5\",\"201.3.5\",\"210.3.5\",\"211.3.5\",\"214.3.5\",\"217.3.5\",\"218.3.5\",\"224.3.5\",\"226.3.5\",\"227.3.5\",\"233.3.5\",\"239.3.5\",\"247.3.5\",\"250.3.5\",\"254.3.5\",\"256.3.5\",\"263.3.5\",\"264.3.5\",\"268.3.5\",\"272.3.5\",\"278.3.5\",\"289.3.5\",\"291.3.5\",\"295.3.5\",\"300.3.5\",\"302.3.5\",\"309.3.5\",\"319.3.5\",\"325.3.5\",\"327.3.5\",\"329.3.5\",\"330.3.5\",\"331.3.5\",\"334.3.5\",\"335.3.5\",\"336.3.5\",\"337.3.5\",\"339.3.5\",\"341.3.5\",\"345.3.5\",\"352.3.5\",\"355.3.5\",\"36.3.5\",\"360.3.5\",\"361.3.5\",\"363.3.5\",\"366.3.5\",\"367.3.5\",\"37.3.5\",\"373.3.5\",\"374.3.5\",\"380.3.5\",\"393.3.5\",\"398.3.5\",\"401.3.5\",\"41.3.5\",\"414.3.5\",\"421.3.5\",\"427.3.5\",\"430.3.5\",\"437.3.5\",\"438.3.5\",\"44.3.5\",\"445.3.5\",\"447.3.5\",\"450.3.5\",\"452.3.5\",\"456.3.5\",\"458.3.5\",\"459.3.5\",\"460.3.5\",\"463.3.5\",\"465.3.5\",\"466.3.5\",\"470.3.5\",\"474.3.5\",\"475.3.5\",\"477.3.5\",\"481.3.5\",\"483.3.5\",\"484.3.5\",\"487.3.5\",\"490.3.5\",\"492.3.5\",\"495.3.5\",\"501.3.5\",\"503.3.5\",\"508.3.5\",\"51.3.5\",\"510.3.5\",\"513.3.5\",\"517.3.5\",\"518.3.5\",\"521.3.5\",\"525.3.5\",\"526.3.5\",\"527.3.5\",\"528.3.5\",\"531.3.5\",\"536.3.5\",\"537.3.5\",\"539.3.5\",\"544.3.5\",\"558.3.5\",\"56.3.5\",\"564.3.5\",\"565.3.5\",\"577.3.5\",\"579.3.5\",\"581.3.5\",\"584.3.5\",\"586.3.5\",\"598.3.5\",\"601.3.5\",\"602.3.5\",\"607.3.5\",\"608.3.5\",\"610.3.5\",\"617.3.5\",\"624.3.5\",\"665.3.5\",\"670.3.5\",\"69.3.5\",\"702.3.5\",\"75.3.5\",\"77.3.5\",\"802.3.5\",\"808.3.5\",\"810.3.5\",\"823.3.5\",\"840.3.5\",\"869.3.5\",\"892.3.5\",\"893.3.5\",\"90.3.5\",\"93.3.5\",\"95.3.5\",\"99.3.5\",\"1536.3.5\",\"2563.3.5\",\"524.3.5\",\"535.3.5\",\"2072.3.5\",\"1559.3.5\",\"1562.3.5\",\"541.3.5\",\"2598.3.5\",\"1575.3.5\",\"1577.3.5\",\"557.3.5\",\"1072.3.5\",\"1589.3.5\",\"60.3.5\",\"3131.3.5\",\"62.3.5\",\"2111.3.5\",\"64.3.5\",\"1595.3.5\",\"578.3.5\",\"72.3.5\",\"73.3.5\",\"74.3.5\",\"585.3.5\",\"1613.3.5\",\"2639.3.5\",\"3151.3.5\",\"1105.3.5\",\"83.3.5\",\"1107.3.5\",\"1620.3.5\",\"3159.3.5\",\"89.3.5\",\"604.3.5\",\"1631.3.5\",\"97.3.5\",\"2659.3.5\",\"100.3.5\",\"1639.3.5\",\"105.3.5\",\"1129.3.5\",\"621.3.5\",\"1134.3.5\",\"625.3.5\",\"1138.3.5\",\"628.3.5\",\"1652.3.5\",\"1654.3.5\",\"120.3.5\",\"1147.3.5\",\"128.3.5\",\"644.3.5\",\"1154.3.5\",\"1166.3.5\",\"656.3.5\",\"148.3.5\",\"2708.3.5\",\"153.3.5\",\"1690.3.5\",\"669.3.5\",\"160.3.5\",\"672.3.5\",\"673.3.5\",\"3233.3.5\",\"164.3.5\",\"166.3.5\",\"679.3.5\",\"682.3.5\",\"3242.3.5\",\"172.3.5\",\"177.3.5\",\"2737.3.5\",\"182.3.5\",\"2234.3.5\",\"1731.3.5\",\"1735.3.5\",\"1226.3.5\",\"3275.3.5\",\"1233.3.5\",\"2258.3.5\",\"1239.3.5\",\"1246.3.5\",\"2787.3.5\",\"1254.3.5\",\"2794.3.5\",\"237.3.5\",\"1778.3.5\",\"756.3.5\",\"3318.3.5\",\"1783.3.5\",\"249.3.5\",\"2300.3.5\",\"769.3.5\",\"261.3.5\",\"1287.3.5\",\"265.3.5\",\"3337.3.5\",\"280.3.5\",\"281.3.5\",\"1817.3.5\",\"283.3.5\",\"285.3.5\",\"287.3.5\",\"288.3.5\",\"1313.3.5\",\"3362.3.5\",\"806.3.5\",\"2855.3.5\",\"1332.3.5\",\"3380.3.5\",\"315.3.5\",\"1340.3.5\",\"321.3.5\",\"1345.3.5\",\"324.3.5\",\"2886.3.5\",\"3402.3.5\",\"1354.3.5\",\"1868.3.5\",\"1358.3.5\",\"855.3.5\",\"867.3.5\",\"1378.3.5\",\"2922.3.5\",\"1387.3.5\",\"2422.3.5\",\"376.3.5\",\"888.3.5\",\"889.3.5\",\"1402.3.5\",\"1918.3.5\",\"2434.3.5\",\"902.3.5\",\"2440.3.5\",\"1417.3.5\",\"1427.3.5\",\"407.3.5\",\"2971.3.5\",\"1948.3.5\",\"415.3.5\",\"416.3.5\",\"2976.3.5\",\"2977.3.5\",\"419.3.5\",\"420.3.5\",\"423.3.5\",\"425.3.5\",\"1960.3.5\",\"948.3.5\",\"1461.3.5\",\"1972.3.5\",\"2492.3.5\",\"1468.3.5\",\"1485.3.5\",\"1999.3.5\",\"3026.3.5\",\"3033.3.5\",\"986.3.5\",\"988.3.5\",\"2014.3.5\",\"479.3.5\",\"1506.3.5\",\"996.3.5\",\"2535.3.5\",\"2024.3.5\",\"1007.3.5\",\"499.3.5\",\"1015.3.5\"],[\"252.3.5\",\"486.3.5\",\"507.3.5\",\"515.3.5\",\"530.3.5\",\"542.3.5\",\"1611.3.5\",\"1118.3.5\",\"3179.3.5\",\"110.3.5\",\"112.3.5\",\"119.3.5\",\"1356.3.5\",\"384.3.5\",\"410.3.5\",\"424.3.5\",\"426.3.5\",\"431.3.5\",\"432.3.5\",\"461.3.5\",\"473.3.5\",\"997.3.5\",\"491.3.5\"],[\"397.3.5\"],[\"15.3.5\"],[],[\"144.3.5\",\"444.3.5\",\"552.3.5\",\"26.3.5\",\"34.3.5\",\"642.3.5\",\"131.3.5\",\"1308.3.5\",\"286.3.5\",\"344.3.5\",\"354.3.5\",\"493.3.5\"],[],[],[],[],[],[],[],[],[]],\"source\":[0,0,0,0,1,1,1,1,2,2,2,2,3,3,3,3],\"target\":[4,5,6,7,4,5,6,7,4,5,6,7,4,5,6,7],\"value\":[0,329,23,1,1,0,12,0,0,0,0,0,0,0,0,0]},\"node\":{\"color\":[\"#d02c91\",\"#1a9641\",\"#978897\",\"#978897\",\"#f1b6da\",\"#a6d96a\",\"#978897\",\"#d1d1ca\"],\"label\":[\"Alive Infected t0\",\"Alive Uninfected t0\",\"Dead Infected t0\",\"Dead Uninfected t0\",\"Alive Infected t-1\",\"Alive Uninfected t-1\",\"Dead Infected t-1\",\"Dead Uninfected t-1\"],\"line\":{\"color\":\"black\",\"width\":0.5},\"pad\":15,\"thickness\":20},\"type\":\"sankey\"}],                        {\"template\":{\"data\":{\"histogram2dcontour\":[{\"type\":\"histogram2dcontour\",\"colorbar\":{\"outlinewidth\":0,\"ticks\":\"\"},\"colorscale\":[[0.0,\"#0d0887\"],[0.1111111111111111,\"#46039f\"],[0.2222222222222222,\"#7201a8\"],[0.3333333333333333,\"#9c179e\"],[0.4444444444444444,\"#bd3786\"],[0.5555555555555556,\"#d8576b\"],[0.6666666666666666,\"#ed7953\"],[0.7777777777777778,\"#fb9f3a\"],[0.8888888888888888,\"#fdca26\"],[1.0,\"#f0f921\"]]}],\"choropleth\":[{\"type\":\"choropleth\",\"colorbar\":{\"outlinewidth\":0,\"ticks\":\"\"}}],\"histogram2d\":[{\"type\":\"histogram2d\",\"colorbar\":{\"outlinewidth\":0,\"ticks\":\"\"},\"colorscale\":[[0.0,\"#0d0887\"],[0.1111111111111111,\"#46039f\"],[0.2222222222222222,\"#7201a8\"],[0.3333333333333333,\"#9c179e\"],[0.4444444444444444,\"#bd3786\"],[0.5555555555555556,\"#d8576b\"],[0.6666666666666666,\"#ed7953\"],[0.7777777777777778,\"#fb9f3a\"],[0.8888888888888888,\"#fdca26\"],[1.0,\"#f0f921\"]]}],\"heatmap\":[{\"type\":\"heatmap\",\"colorbar\":{\"outlinewidth\":0,\"ticks\":\"\"},\"colorscale\":[[0.0,\"#0d0887\"],[0.1111111111111111,\"#46039f\"],[0.2222222222222222,\"#7201a8\"],[0.3333333333333333,\"#9c179e\"],[0.4444444444444444,\"#bd3786\"],[0.5555555555555556,\"#d8576b\"],[0.6666666666666666,\"#ed7953\"],[0.7777777777777778,\"#fb9f3a\"],[0.8888888888888888,\"#fdca26\"],[1.0,\"#f0f921\"]]}],\"heatmapgl\":[{\"type\":\"heatmapgl\",\"colorbar\":{\"outlinewidth\":0,\"ticks\":\"\"},\"colorscale\":[[0.0,\"#0d0887\"],[0.1111111111111111,\"#46039f\"],[0.2222222222222222,\"#7201a8\"],[0.3333333333333333,\"#9c179e\"],[0.4444444444444444,\"#bd3786\"],[0.5555555555555556,\"#d8576b\"],[0.6666666666666666,\"#ed7953\"],[0.7777777777777778,\"#fb9f3a\"],[0.8888888888888888,\"#fdca26\"],[1.0,\"#f0f921\"]]}],\"contourcarpet\":[{\"type\":\"contourcarpet\",\"colorbar\":{\"outlinewidth\":0,\"ticks\":\"\"}}],\"contour\":[{\"type\":\"contour\",\"colorbar\":{\"outlinewidth\":0,\"ticks\":\"\"},\"colorscale\":[[0.0,\"#0d0887\"],[0.1111111111111111,\"#46039f\"],[0.2222222222222222,\"#7201a8\"],[0.3333333333333333,\"#9c179e\"],[0.4444444444444444,\"#bd3786\"],[0.5555555555555556,\"#d8576b\"],[0.6666666666666666,\"#ed7953\"],[0.7777777777777778,\"#fb9f3a\"],[0.8888888888888888,\"#fdca26\"],[1.0,\"#f0f921\"]]}],\"surface\":[{\"type\":\"surface\",\"colorbar\":{\"outlinewidth\":0,\"ticks\":\"\"},\"colorscale\":[[0.0,\"#0d0887\"],[0.1111111111111111,\"#46039f\"],[0.2222222222222222,\"#7201a8\"],[0.3333333333333333,\"#9c179e\"],[0.4444444444444444,\"#bd3786\"],[0.5555555555555556,\"#d8576b\"],[0.6666666666666666,\"#ed7953\"],[0.7777777777777778,\"#fb9f3a\"],[0.8888888888888888,\"#fdca26\"],[1.0,\"#f0f921\"]]}],\"mesh3d\":[{\"type\":\"mesh3d\",\"colorbar\":{\"outlinewidth\":0,\"ticks\":\"\"}}],\"scatter\":[{\"fillpattern\":{\"fillmode\":\"overlay\",\"size\":10,\"solidity\":0.2},\"type\":\"scatter\"}],\"parcoords\":[{\"type\":\"parcoords\",\"line\":{\"colorbar\":{\"outlinewidth\":0,\"ticks\":\"\"}}}],\"scatterpolargl\":[{\"type\":\"scatterpolargl\",\"marker\":{\"colorbar\":{\"outlinewidth\":0,\"ticks\":\"\"}}}],\"bar\":[{\"error_x\":{\"color\":\"#2a3f5f\"},\"error_y\":{\"color\":\"#2a3f5f\"},\"marker\":{\"line\":{\"color\":\"#E5ECF6\",\"width\":0.5},\"pattern\":{\"fillmode\":\"overlay\",\"size\":10,\"solidity\":0.2}},\"type\":\"bar\"}],\"scattergeo\":[{\"type\":\"scattergeo\",\"marker\":{\"colorbar\":{\"outlinewidth\":0,\"ticks\":\"\"}}}],\"scatterpolar\":[{\"type\":\"scatterpolar\",\"marker\":{\"colorbar\":{\"outlinewidth\":0,\"ticks\":\"\"}}}],\"histogram\":[{\"marker\":{\"pattern\":{\"fillmode\":\"overlay\",\"size\":10,\"solidity\":0.2}},\"type\":\"histogram\"}],\"scattergl\":[{\"type\":\"scattergl\",\"marker\":{\"colorbar\":{\"outlinewidth\":0,\"ticks\":\"\"}}}],\"scatter3d\":[{\"type\":\"scatter3d\",\"line\":{\"colorbar\":{\"outlinewidth\":0,\"ticks\":\"\"}},\"marker\":{\"colorbar\":{\"outlinewidth\":0,\"ticks\":\"\"}}}],\"scattermapbox\":[{\"type\":\"scattermapbox\",\"marker\":{\"colorbar\":{\"outlinewidth\":0,\"ticks\":\"\"}}}],\"scatterternary\":[{\"type\":\"scatterternary\",\"marker\":{\"colorbar\":{\"outlinewidth\":0,\"ticks\":\"\"}}}],\"scattercarpet\":[{\"type\":\"scattercarpet\",\"marker\":{\"colorbar\":{\"outlinewidth\":0,\"ticks\":\"\"}}}],\"carpet\":[{\"aaxis\":{\"endlinecolor\":\"#2a3f5f\",\"gridcolor\":\"white\",\"linecolor\":\"white\",\"minorgridcolor\":\"white\",\"startlinecolor\":\"#2a3f5f\"},\"baxis\":{\"endlinecolor\":\"#2a3f5f\",\"gridcolor\":\"white\",\"linecolor\":\"white\",\"minorgridcolor\":\"white\",\"startlinecolor\":\"#2a3f5f\"},\"type\":\"carpet\"}],\"table\":[{\"cells\":{\"fill\":{\"color\":\"#EBF0F8\"},\"line\":{\"color\":\"white\"}},\"header\":{\"fill\":{\"color\":\"#C8D4E3\"},\"line\":{\"color\":\"white\"}},\"type\":\"table\"}],\"barpolar\":[{\"marker\":{\"line\":{\"color\":\"#E5ECF6\",\"width\":0.5},\"pattern\":{\"fillmode\":\"overlay\",\"size\":10,\"solidity\":0.2}},\"type\":\"barpolar\"}],\"pie\":[{\"automargin\":true,\"type\":\"pie\"}]},\"layout\":{\"autotypenumbers\":\"strict\",\"colorway\":[\"#636efa\",\"#EF553B\",\"#00cc96\",\"#ab63fa\",\"#FFA15A\",\"#19d3f3\",\"#FF6692\",\"#B6E880\",\"#FF97FF\",\"#FECB52\"],\"font\":{\"color\":\"#2a3f5f\"},\"hovermode\":\"closest\",\"hoverlabel\":{\"align\":\"left\"},\"paper_bgcolor\":\"white\",\"plot_bgcolor\":\"#E5ECF6\",\"polar\":{\"bgcolor\":\"#E5ECF6\",\"angularaxis\":{\"gridcolor\":\"white\",\"linecolor\":\"white\",\"ticks\":\"\"},\"radialaxis\":{\"gridcolor\":\"white\",\"linecolor\":\"white\",\"ticks\":\"\"}},\"ternary\":{\"bgcolor\":\"#E5ECF6\",\"aaxis\":{\"gridcolor\":\"white\",\"linecolor\":\"white\",\"ticks\":\"\"},\"baxis\":{\"gridcolor\":\"white\",\"linecolor\":\"white\",\"ticks\":\"\"},\"caxis\":{\"gridcolor\":\"white\",\"linecolor\":\"white\",\"ticks\":\"\"}},\"coloraxis\":{\"colorbar\":{\"outlinewidth\":0,\"ticks\":\"\"}},\"colorscale\":{\"sequential\":[[0.0,\"#0d0887\"],[0.1111111111111111,\"#46039f\"],[0.2222222222222222,\"#7201a8\"],[0.3333333333333333,\"#9c179e\"],[0.4444444444444444,\"#bd3786\"],[0.5555555555555556,\"#d8576b\"],[0.6666666666666666,\"#ed7953\"],[0.7777777777777778,\"#fb9f3a\"],[0.8888888888888888,\"#fdca26\"],[1.0,\"#f0f921\"]],\"sequentialminus\":[[0.0,\"#0d0887\"],[0.1111111111111111,\"#46039f\"],[0.2222222222222222,\"#7201a8\"],[0.3333333333333333,\"#9c179e\"],[0.4444444444444444,\"#bd3786\"],[0.5555555555555556,\"#d8576b\"],[0.6666666666666666,\"#ed7953\"],[0.7777777777777778,\"#fb9f3a\"],[0.8888888888888888,\"#fdca26\"],[1.0,\"#f0f921\"]],\"diverging\":[[0,\"#8e0152\"],[0.1,\"#c51b7d\"],[0.2,\"#de77ae\"],[0.3,\"#f1b6da\"],[0.4,\"#fde0ef\"],[0.5,\"#f7f7f7\"],[0.6,\"#e6f5d0\"],[0.7,\"#b8e186\"],[0.8,\"#7fbc41\"],[0.9,\"#4d9221\"],[1,\"#276419\"]]},\"xaxis\":{\"gridcolor\":\"white\",\"linecolor\":\"white\",\"ticks\":\"\",\"title\":{\"standoff\":15},\"zerolinecolor\":\"white\",\"automargin\":true,\"zerolinewidth\":2},\"yaxis\":{\"gridcolor\":\"white\",\"linecolor\":\"white\",\"ticks\":\"\",\"title\":{\"standoff\":15},\"zerolinecolor\":\"white\",\"automargin\":true,\"zerolinewidth\":2},\"scene\":{\"xaxis\":{\"backgroundcolor\":\"#E5ECF6\",\"gridcolor\":\"white\",\"linecolor\":\"white\",\"showbackground\":true,\"ticks\":\"\",\"zerolinecolor\":\"white\",\"gridwidth\":2},\"yaxis\":{\"backgroundcolor\":\"#E5ECF6\",\"gridcolor\":\"white\",\"linecolor\":\"white\",\"showbackground\":true,\"ticks\":\"\",\"zerolinecolor\":\"white\",\"gridwidth\":2},\"zaxis\":{\"backgroundcolor\":\"#E5ECF6\",\"gridcolor\":\"white\",\"linecolor\":\"white\",\"showbackground\":true,\"ticks\":\"\",\"zerolinecolor\":\"white\",\"gridwidth\":2}},\"shapedefaults\":{\"line\":{\"color\":\"#2a3f5f\"}},\"annotationdefaults\":{\"arrowcolor\":\"#2a3f5f\",\"arrowhead\":0,\"arrowwidth\":1},\"geo\":{\"bgcolor\":\"white\",\"landcolor\":\"#E5ECF6\",\"subunitcolor\":\"white\",\"showland\":true,\"showlakes\":true,\"lakecolor\":\"white\"},\"title\":{\"x\":0.05},\"mapbox\":{\"style\":\"light\"}}},\"title\":{\"font\":{\"size\":20},\"text\":\"<b>Macrophage Infection State Transitions for control experiment (3,5)<b>\"},\"font\":{\"family\":\"Liberation Sans\"},\"width\":800,\"height\":600},                        {\"responsive\": true}                    ).then(function(){\n",
       "                            \n",
       "var gd = document.getElementById('b3778849-ac60-430e-80d5-2705e3a12806');\n",
       "var x = new MutationObserver(function (mutations, observer) {{\n",
       "        var display = window.getComputedStyle(gd).display;\n",
       "        if (!display || display === 'none') {{\n",
       "            console.log([gd, 'removed!']);\n",
       "            Plotly.purge(gd);\n",
       "            observer.disconnect();\n",
       "        }}\n",
       "}});\n",
       "\n",
       "// Listen for the removal of the full notebook cells\n",
       "var notebookContainer = gd.closest('#notebook-container');\n",
       "if (notebookContainer) {{\n",
       "    x.observe(notebookContainer, {childList: true});\n",
       "}}\n",
       "\n",
       "// Listen for the clearing of the current output cell\n",
       "var outputEl = gd.closest('.output');\n",
       "if (outputEl) {{\n",
       "    x.observe(outputEl, {childList: true});\n",
       "}}\n",
       "\n",
       "                        })                };                });            </script>        </div>"
      ]
     },
     "metadata": {},
     "output_type": "display_data"
    }
   ],
   "source": [
    "# # Define new labels for nodes including \"Died\"\n",
    "# labels = [\"<i>Initially</i> Infected\", \"<i>Initially</i> Uninfected\", \"<i>Finally</i> Infected\", \"<i>Finally</i> Uninfected\", \"Dead\", \"Effercytosis\"]\n",
    "node_colors =  [i for i in [colours.expanded_piyg[-1], \n",
    "                            colours.expanded_piyg[0], \n",
    "                               \n",
    "                           \n",
    "                            colours.expanded_piyg[2],\n",
    "                            colours.expanded_piyg[2], \n",
    "                            colours.expanded_piyg[-2], \n",
    "                            colours.expanded_piyg[1], \n",
    "                           \n",
    "                            colours.expanded_piyg[2],\n",
    "                            colours.expanded_piyg[3], \n",
    "                           ]] # Add a color for \"Died\", e.g., black\n",
    "# node_colors = [colours.expanded_piyg[i] for i in [-1, 0, 3, 1, -2, 1]] \n",
    "\n",
    "labels = list(cell_state.keys())\n",
    "\n",
    "# Update source, target, and value for Sankey diagram including transitions to \"Died\"\n",
    "cell_state = {'Alive Infected t0': 0, \n",
    "              'Alive Uninfected t0': 1, \n",
    "              'Dead Infected t0': 2,\n",
    "              'Dead Uninfected t0': 3,\n",
    "              'Alive Infected t-1': 4, \n",
    "              'Alive Uninfected t-1': 5, \n",
    "              'Dead Infected t-1': 6,\n",
    "              'Dead Uninfected t-1': 7,\n",
    "             }\n",
    "              \n",
    "source_names = [\n",
    "    'Alive Infected t0', 'Alive Infected t0', 'Alive Infected t0', 'Alive Infected t0',\n",
    "    'Alive Uninfected t0', 'Alive Uninfected t0', 'Alive Uninfected t0', 'Alive Uninfected t0',\n",
    "    'Dead Infected t0', 'Dead Infected t0', 'Dead Infected t0', 'Dead Infected t0',\n",
    "    'Dead Uninfected t0', 'Dead Uninfected t0', 'Dead Uninfected t0', 'Dead Uninfected t0'\n",
    "]\n",
    "\n",
    "target_names = [\n",
    "    'Alive Infected t-1', 'Alive Uninfected t-1', 'Dead Infected t-1', 'Dead Uninfected t-1',\n",
    "    'Alive Infected t-1', 'Alive Uninfected t-1', 'Dead Infected t-1', 'Dead Uninfected t-1',\n",
    "    'Alive Infected t-1', 'Alive Uninfected t-1', 'Dead Infected t-1', 'Dead Uninfected t-1',\n",
    "    'Alive Infected t-1', 'Alive Uninfected t-1', 'Dead Infected t-1', 'Dead Uninfected t-1'\n",
    "]\n",
    "# Replace entries with their corresponding dictionary values\n",
    "source = [cell_state[state] for state in source_names]\n",
    "target = [cell_state[state] for state in target_names]  \n",
    "\n",
    "# Initialize a dictionary to store cell IDs for each transition\n",
    "transition_cell_ids = {(s, t): [] for s in source_names for t in target_names}\n",
    "\n",
    "# Iterate over the DataFrame to append cell IDs for each transition\n",
    "for index, row in df.drop_duplicates(subset='Unique ID', keep='first').iterrows():\n",
    "    t0_state = row['t0 Mphi state'] + ' t0'  # Assuming the column is named 't0 Mphi state'\n",
    "    t1_state = row['t-1 Mphi state'] + ' t-1'  # Assuming the column is named 't-1 Mphi state'\n",
    "    cell_id = row['Unique ID']  # Assuming the column is named 'Unique Cell ID'\n",
    "    # Append the cell ID for the transition\n",
    "    transition_key = (t0_state, t1_state)\n",
    "    if transition_key in transition_cell_ids:\n",
    "        transition_cell_ids[transition_key].append(cell_id)\n",
    "\n",
    "# Populate the values array by counting the number of cell IDs for each transition\n",
    "values = [len(transition_cell_ids[(s, t)]) for s, t in zip(source_names, target_names)]\n",
    "\n",
    "link_labels = [\n",
    "       transition_cell_ids[(s, t)] for s, t in zip(source_names, target_names)\n",
    "] #[i for i in zip(source_names, target_names)]\n",
    "# # Update link colors if necessary\n",
    "# link_colors = [f'rgba({int(color[1:3], 16)}, {int(color[3:5], 16)}, {int(color[5:7], 16)}, 0.25)' for color in [colours.expanded_piyg[i] for i in [-1, 0, -2, 1]]] + [\"rgba(0, 0, 0, 0.25)\", \"rgba(0, 0, 0, 0.25)\"]  # Add link colors for transitions to \"Died\"\n",
    "\n",
    "# Create the Sankey diagram\n",
    "fig = go.Figure(data=[go.Sankey(\n",
    "    node=dict(\n",
    "        pad=15,\n",
    "        thickness=20,\n",
    "        line=dict(color=\"black\", width=0.5),\n",
    "        label=labels,        \n",
    "        color=node_colors  # Set node colors\n",
    "\n",
    "    ),\n",
    "    link=dict(\n",
    "        source=source,\n",
    "        target=target,\n",
    "        value=values, \n",
    "        # color=link_colors, \n",
    "        label=link_labels\n",
    "    ))])\n",
    "\n",
    "fig.update_layout(\n",
    "    title_text=\"Macrophage Infection State Transitions for control experiment (3,5)\",\n",
    "    # font_size=12,\n",
    "    width=800,  # Set the width of the figure\n",
    "    height=600,  # Set the height of the figure\n",
    "    font_family=\"Liberation Sans\", \n",
    "    title=dict(text=\"<b>Macrophage Infection State Transitions for control experiment (3,5)<b>\", font=dict(size=20),)\n",
    ")\n",
    "\n",
    "fig.write_html(\"WIP-sankey-diagram_v2.html\")\n",
    "fig.show()"
   ]
  },
  {
   "cell_type": "code",
   "execution_count": 718,
   "id": "ee40d782-29bb-419a-b412-64fbbd158fd3",
   "metadata": {
    "scrolled": true
   },
   "outputs": [
    {
     "name": "stdout",
     "output_type": "stream",
     "text": [
      "('Alive Infected t0', 'Alive Infected t-1', 97)\n",
      "('Alive Infected t0', 'Alive Uninfected t-1', 0)\n",
      "('Alive Infected t0', 'Dead Infected t-1', 23)\n",
      "('Alive Infected t0', 'Dead Uninfected t-1', 0)\n",
      "('Alive Uninfected t0', 'Alive Infected t-1', 138)\n",
      "('Alive Uninfected t0', 'Alive Uninfected t-1', 93)\n",
      "('Alive Uninfected t0', 'Dead Infected t-1', 11)\n",
      "('Alive Uninfected t0', 'Dead Uninfected t-1', 4)\n",
      "('Dead Infected t0', 'Alive Infected t-1', 0)\n",
      "('Dead Infected t0', 'Alive Uninfected t-1', 0)\n",
      "('Dead Infected t0', 'Dead Infected t-1', 0)\n",
      "('Dead Infected t0', 'Dead Uninfected t-1', 0)\n",
      "('Dead Uninfected t0', 'Alive Infected t-1', 0)\n",
      "('Dead Uninfected t0', 'Alive Uninfected t-1', 0)\n",
      "('Dead Uninfected t0', 'Dead Infected t-1', 0)\n",
      "('Dead Uninfected t0', 'Dead Uninfected t-1', 0)\n"
     ]
    }
   ],
   "source": [
    "for i in zip(source_names, target_names, values):\n",
    "    print(i)"
   ]
  },
  {
   "cell_type": "code",
   "execution_count": 812,
   "id": "7833be53-1a11-45b0-bf3b-1afdfdbaa94c",
   "metadata": {},
   "outputs": [
    {
     "name": "stdout",
     "output_type": "stream",
     "text": [
      "('Alive Infected t0', 'Alive Infected t-1', 0)\n",
      "('Alive Infected t0', 'Alive Uninfected t-1', 329)\n",
      "('Alive Infected t0', 'Dead Infected t-1', 23)\n",
      "('Alive Infected t0', 'Dead Uninfected t-1', 1)\n",
      "('Alive Uninfected t0', 'Alive Infected t-1', 1)\n",
      "('Alive Uninfected t0', 'Alive Uninfected t-1', 0)\n",
      "('Alive Uninfected t0', 'Dead Infected t-1', 10)\n",
      "('Alive Uninfected t0', 'Dead Uninfected t-1', 2)\n",
      "('Dead Infected t0', 'Alive Infected t-1', 0)\n",
      "('Dead Infected t0', 'Alive Uninfected t-1', 0)\n",
      "('Dead Infected t0', 'Dead Infected t-1', 0)\n",
      "('Dead Infected t0', 'Dead Uninfected t-1', 0)\n",
      "('Dead Uninfected t0', 'Alive Infected t-1', 0)\n",
      "('Dead Uninfected t0', 'Alive Uninfected t-1', 0)\n",
      "('Dead Uninfected t0', 'Dead Infected t-1', 0)\n",
      "('Dead Uninfected t0', 'Dead Uninfected t-1', 0)\n"
     ]
    }
   ],
   "source": [
    "for i in zip(source_names, target_names, values):\n",
    "    print(i)"
   ]
  },
  {
   "cell_type": "code",
   "execution_count": 741,
   "id": "6e973737-ba4a-49ef-896c-108bb718da50",
   "metadata": {},
   "outputs": [
    {
     "data": {
      "text/plain": [
       "['552.3.5', '131.3.5', '397.3.5']"
      ]
     },
     "execution_count": 741,
     "metadata": {},
     "output_type": "execute_result"
    }
   ],
   "source": [
    "transition_cell_ids[('Alive Uninfected t0', 'Dead Uninfected t-1')]"
   ]
  },
  {
   "cell_type": "code",
   "execution_count": 724,
   "id": "502a647e-ce84-48c0-99e2-2a4b696834c7",
   "metadata": {},
   "outputs": [
    {
     "data": {
      "text/plain": [
       "['432.3.5',\n",
       " '431.3.5',\n",
       " '354.3.5',\n",
       " '397.3.5',\n",
       " '426.3.5',\n",
       " '424.3.5',\n",
       " '1308.3.5',\n",
       " '384.3.5',\n",
       " '1611.3.5',\n",
       " '473.3.5',\n",
       " '491.3.5',\n",
       " '3179.3.5',\n",
       " '486.3.5',\n",
       " '515.3.5',\n",
       " '15.3.5',\n",
       " '34.3.5',\n",
       " '119.3.5',\n",
       " '112.3.5',\n",
       " '26.3.5',\n",
       " '110.3.5',\n",
       " '144.3.5',\n",
       " '252.3.5',\n",
       " '286.3.5',\n",
       " '107.3.5',\n",
       " '444.3.5',\n",
       " '530.3.5',\n",
       " '542.3.5',\n",
       " '552.3.5',\n",
       " '1118.3.5',\n",
       " '642.3.5',\n",
       " '131.3.5',\n",
       " '204.3.5',\n",
       " '1356.3.5',\n",
       " '344.3.5',\n",
       " '410.3.5',\n",
       " '461.3.5',\n",
       " '997.3.5',\n",
       " '493.3.5',\n",
       " '507.3.5']"
      ]
     },
     "execution_count": 724,
     "metadata": {},
     "output_type": "execute_result"
    }
   ],
   "source": [
    "death_IDs"
   ]
  },
  {
   "cell_type": "code",
   "execution_count": 742,
   "id": "188ffa6d-077d-4847-8d3b-689074ba6f71",
   "metadata": {},
   "outputs": [
    {
     "data": {
      "text/html": [
       "<div>\n",
       "<style scoped>\n",
       "    .dataframe tbody tr th:only-of-type {\n",
       "        vertical-align: middle;\n",
       "    }\n",
       "\n",
       "    .dataframe tbody tr th {\n",
       "        vertical-align: top;\n",
       "    }\n",
       "\n",
       "    .dataframe thead th {\n",
       "        text-align: right;\n",
       "    }\n",
       "</style>\n",
       "<table border=\"1\" class=\"dataframe\">\n",
       "  <thead>\n",
       "    <tr style=\"text-align: right;\">\n",
       "      <th></th>\n",
       "      <th>Time (hours)</th>\n",
       "      <th>Strain</th>\n",
       "      <th>Compound</th>\n",
       "      <th>Concentration</th>\n",
       "      <th>Unique ID</th>\n",
       "      <th>Acquisition ID</th>\n",
       "      <th>Cell ID</th>\n",
       "      <th>Mphi Area</th>\n",
       "      <th>Mphi GFP</th>\n",
       "      <th>x</th>\n",
       "      <th>y</th>\n",
       "      <th>Eccentricity</th>\n",
       "      <th>MSD</th>\n",
       "      <th>Technical Replicate</th>\n",
       "      <th>Strain/Compound</th>\n",
       "      <th>Mtb Area µm2</th>\n",
       "      <th>Mtb RFP</th>\n",
       "      <th>Mtb RFP thresholded</th>\n",
       "      <th>t0 Mphi state</th>\n",
       "      <th>t-1 Mphi state</th>\n",
       "    </tr>\n",
       "  </thead>\n",
       "  <tbody>\n",
       "    <tr>\n",
       "      <th>10015</th>\n",
       "      <td>0</td>\n",
       "      <td>WT</td>\n",
       "      <td>CTRL</td>\n",
       "      <td>EC0</td>\n",
       "      <td>552.3.5</td>\n",
       "      <td>(3, 5)</td>\n",
       "      <td>552</td>\n",
       "      <td>46340.0</td>\n",
       "      <td>1279.828247</td>\n",
       "      <td>30.808838</td>\n",
       "      <td>404.913147</td>\n",
       "      <td>0.913769</td>\n",
       "      <td>0.000000</td>\n",
       "      <td>1</td>\n",
       "      <td>CTRL</td>\n",
       "      <td>0.0</td>\n",
       "      <td>343.590210</td>\n",
       "      <td>0.000000</td>\n",
       "      <td>Alive Uninfected</td>\n",
       "      <td>Dead Uninfected</td>\n",
       "    </tr>\n",
       "    <tr>\n",
       "      <th>10016</th>\n",
       "      <td>1</td>\n",
       "      <td>WT</td>\n",
       "      <td>CTRL</td>\n",
       "      <td>EC0</td>\n",
       "      <td>552.3.5</td>\n",
       "      <td>(3, 5)</td>\n",
       "      <td>552</td>\n",
       "      <td>71291.0</td>\n",
       "      <td>1421.734375</td>\n",
       "      <td>39.732098</td>\n",
       "      <td>405.934143</td>\n",
       "      <td>0.897336</td>\n",
       "      <td>8.981481</td>\n",
       "      <td>1</td>\n",
       "      <td>CTRL</td>\n",
       "      <td>0.0</td>\n",
       "      <td>346.923706</td>\n",
       "      <td>0.000000</td>\n",
       "      <td>Alive Uninfected</td>\n",
       "      <td>Dead Uninfected</td>\n",
       "    </tr>\n",
       "    <tr>\n",
       "      <th>10017</th>\n",
       "      <td>2</td>\n",
       "      <td>WT</td>\n",
       "      <td>CTRL</td>\n",
       "      <td>EC0</td>\n",
       "      <td>552.3.5</td>\n",
       "      <td>(3, 5)</td>\n",
       "      <td>552</td>\n",
       "      <td>66622.0</td>\n",
       "      <td>1285.211182</td>\n",
       "      <td>40.946861</td>\n",
       "      <td>404.897491</td>\n",
       "      <td>0.887082</td>\n",
       "      <td>1.596965</td>\n",
       "      <td>1</td>\n",
       "      <td>CTRL</td>\n",
       "      <td>0.0</td>\n",
       "      <td>345.356598</td>\n",
       "      <td>0.000000</td>\n",
       "      <td>Alive Uninfected</td>\n",
       "      <td>Dead Uninfected</td>\n",
       "    </tr>\n",
       "    <tr>\n",
       "      <th>10018</th>\n",
       "      <td>3</td>\n",
       "      <td>WT</td>\n",
       "      <td>CTRL</td>\n",
       "      <td>EC0</td>\n",
       "      <td>552.3.5</td>\n",
       "      <td>(3, 5)</td>\n",
       "      <td>552</td>\n",
       "      <td>62837.0</td>\n",
       "      <td>1244.166992</td>\n",
       "      <td>39.454956</td>\n",
       "      <td>406.181946</td>\n",
       "      <td>0.914658</td>\n",
       "      <td>1.968655</td>\n",
       "      <td>1</td>\n",
       "      <td>CTRL</td>\n",
       "      <td>0.0</td>\n",
       "      <td>345.091431</td>\n",
       "      <td>0.000000</td>\n",
       "      <td>Alive Uninfected</td>\n",
       "      <td>Dead Uninfected</td>\n",
       "    </tr>\n",
       "    <tr>\n",
       "      <th>10019</th>\n",
       "      <td>4</td>\n",
       "      <td>WT</td>\n",
       "      <td>CTRL</td>\n",
       "      <td>EC0</td>\n",
       "      <td>552.3.5</td>\n",
       "      <td>(3, 5)</td>\n",
       "      <td>552</td>\n",
       "      <td>68898.0</td>\n",
       "      <td>1380.332397</td>\n",
       "      <td>43.224297</td>\n",
       "      <td>405.521637</td>\n",
       "      <td>0.871627</td>\n",
       "      <td>3.826740</td>\n",
       "      <td>1</td>\n",
       "      <td>CTRL</td>\n",
       "      <td>0.0</td>\n",
       "      <td>346.950378</td>\n",
       "      <td>0.424497</td>\n",
       "      <td>Alive Uninfected</td>\n",
       "      <td>Dead Uninfected</td>\n",
       "    </tr>\n",
       "    <tr>\n",
       "      <th>...</th>\n",
       "      <td>...</td>\n",
       "      <td>...</td>\n",
       "      <td>...</td>\n",
       "      <td>...</td>\n",
       "      <td>...</td>\n",
       "      <td>...</td>\n",
       "      <td>...</td>\n",
       "      <td>...</td>\n",
       "      <td>...</td>\n",
       "      <td>...</td>\n",
       "      <td>...</td>\n",
       "      <td>...</td>\n",
       "      <td>...</td>\n",
       "      <td>...</td>\n",
       "      <td>...</td>\n",
       "      <td>...</td>\n",
       "      <td>...</td>\n",
       "      <td>...</td>\n",
       "      <td>...</td>\n",
       "      <td>...</td>\n",
       "    </tr>\n",
       "    <tr>\n",
       "      <th>10084</th>\n",
       "      <td>69</td>\n",
       "      <td>WT</td>\n",
       "      <td>CTRL</td>\n",
       "      <td>EC0</td>\n",
       "      <td>552.3.5</td>\n",
       "      <td>(3, 5)</td>\n",
       "      <td>552</td>\n",
       "      <td>19839.0</td>\n",
       "      <td>1931.883301</td>\n",
       "      <td>31.001387</td>\n",
       "      <td>417.032990</td>\n",
       "      <td>0.921942</td>\n",
       "      <td>3.454549</td>\n",
       "      <td>1</td>\n",
       "      <td>CTRL</td>\n",
       "      <td>0.0</td>\n",
       "      <td>349.791473</td>\n",
       "      <td>4.194314</td>\n",
       "      <td>Alive Uninfected</td>\n",
       "      <td>Dead Uninfected</td>\n",
       "    </tr>\n",
       "    <tr>\n",
       "      <th>10085</th>\n",
       "      <td>70</td>\n",
       "      <td>WT</td>\n",
       "      <td>CTRL</td>\n",
       "      <td>EC0</td>\n",
       "      <td>552.3.5</td>\n",
       "      <td>(3, 5)</td>\n",
       "      <td>552</td>\n",
       "      <td>22129.0</td>\n",
       "      <td>1679.401978</td>\n",
       "      <td>30.630136</td>\n",
       "      <td>416.731964</td>\n",
       "      <td>0.904218</td>\n",
       "      <td>0.477957</td>\n",
       "      <td>1</td>\n",
       "      <td>CTRL</td>\n",
       "      <td>0.0</td>\n",
       "      <td>348.548462</td>\n",
       "      <td>4.408469</td>\n",
       "      <td>Alive Uninfected</td>\n",
       "      <td>Dead Uninfected</td>\n",
       "    </tr>\n",
       "    <tr>\n",
       "      <th>10086</th>\n",
       "      <td>71</td>\n",
       "      <td>WT</td>\n",
       "      <td>CTRL</td>\n",
       "      <td>EC0</td>\n",
       "      <td>552.3.5</td>\n",
       "      <td>(3, 5)</td>\n",
       "      <td>552</td>\n",
       "      <td>14829.0</td>\n",
       "      <td>1320.680420</td>\n",
       "      <td>27.623653</td>\n",
       "      <td>419.437195</td>\n",
       "      <td>0.775783</td>\n",
       "      <td>4.044405</td>\n",
       "      <td>1</td>\n",
       "      <td>CTRL</td>\n",
       "      <td>0.0</td>\n",
       "      <td>345.794983</td>\n",
       "      <td>0.000000</td>\n",
       "      <td>Alive Uninfected</td>\n",
       "      <td>Dead Uninfected</td>\n",
       "    </tr>\n",
       "    <tr>\n",
       "      <th>10087</th>\n",
       "      <td>72</td>\n",
       "      <td>WT</td>\n",
       "      <td>CTRL</td>\n",
       "      <td>EC0</td>\n",
       "      <td>552.3.5</td>\n",
       "      <td>(3, 5)</td>\n",
       "      <td>552</td>\n",
       "      <td>13593.0</td>\n",
       "      <td>1353.581421</td>\n",
       "      <td>25.743351</td>\n",
       "      <td>421.839294</td>\n",
       "      <td>0.844464</td>\n",
       "      <td>3.050511</td>\n",
       "      <td>1</td>\n",
       "      <td>CTRL</td>\n",
       "      <td>0.0</td>\n",
       "      <td>346.363708</td>\n",
       "      <td>0.000000</td>\n",
       "      <td>Alive Uninfected</td>\n",
       "      <td>Dead Uninfected</td>\n",
       "    </tr>\n",
       "    <tr>\n",
       "      <th>10088</th>\n",
       "      <td>73</td>\n",
       "      <td>WT</td>\n",
       "      <td>CTRL</td>\n",
       "      <td>EC0</td>\n",
       "      <td>552.3.5</td>\n",
       "      <td>(3, 5)</td>\n",
       "      <td>552</td>\n",
       "      <td>18360.0</td>\n",
       "      <td>1000.869629</td>\n",
       "      <td>27.929245</td>\n",
       "      <td>419.394867</td>\n",
       "      <td>0.913716</td>\n",
       "      <td>3.279231</td>\n",
       "      <td>1</td>\n",
       "      <td>CTRL</td>\n",
       "      <td>0.0</td>\n",
       "      <td>344.124573</td>\n",
       "      <td>0.000000</td>\n",
       "      <td>Alive Uninfected</td>\n",
       "      <td>Dead Uninfected</td>\n",
       "    </tr>\n",
       "  </tbody>\n",
       "</table>\n",
       "<p>74 rows × 20 columns</p>\n",
       "</div>"
      ],
      "text/plain": [
       "       Time (hours) Strain Compound Concentration Unique ID Acquisition ID  \\\n",
       "10015             0     WT     CTRL           EC0   552.3.5         (3, 5)   \n",
       "10016             1     WT     CTRL           EC0   552.3.5         (3, 5)   \n",
       "10017             2     WT     CTRL           EC0   552.3.5         (3, 5)   \n",
       "10018             3     WT     CTRL           EC0   552.3.5         (3, 5)   \n",
       "10019             4     WT     CTRL           EC0   552.3.5         (3, 5)   \n",
       "...             ...    ...      ...           ...       ...            ...   \n",
       "10084            69     WT     CTRL           EC0   552.3.5         (3, 5)   \n",
       "10085            70     WT     CTRL           EC0   552.3.5         (3, 5)   \n",
       "10086            71     WT     CTRL           EC0   552.3.5         (3, 5)   \n",
       "10087            72     WT     CTRL           EC0   552.3.5         (3, 5)   \n",
       "10088            73     WT     CTRL           EC0   552.3.5         (3, 5)   \n",
       "\n",
       "       Cell ID  Mphi Area     Mphi GFP          x           y  Eccentricity  \\\n",
       "10015      552    46340.0  1279.828247  30.808838  404.913147      0.913769   \n",
       "10016      552    71291.0  1421.734375  39.732098  405.934143      0.897336   \n",
       "10017      552    66622.0  1285.211182  40.946861  404.897491      0.887082   \n",
       "10018      552    62837.0  1244.166992  39.454956  406.181946      0.914658   \n",
       "10019      552    68898.0  1380.332397  43.224297  405.521637      0.871627   \n",
       "...        ...        ...          ...        ...         ...           ...   \n",
       "10084      552    19839.0  1931.883301  31.001387  417.032990      0.921942   \n",
       "10085      552    22129.0  1679.401978  30.630136  416.731964      0.904218   \n",
       "10086      552    14829.0  1320.680420  27.623653  419.437195      0.775783   \n",
       "10087      552    13593.0  1353.581421  25.743351  421.839294      0.844464   \n",
       "10088      552    18360.0  1000.869629  27.929245  419.394867      0.913716   \n",
       "\n",
       "            MSD  Technical Replicate Strain/Compound  Mtb Area µm2  \\\n",
       "10015  0.000000                    1            CTRL           0.0   \n",
       "10016  8.981481                    1            CTRL           0.0   \n",
       "10017  1.596965                    1            CTRL           0.0   \n",
       "10018  1.968655                    1            CTRL           0.0   \n",
       "10019  3.826740                    1            CTRL           0.0   \n",
       "...         ...                  ...             ...           ...   \n",
       "10084  3.454549                    1            CTRL           0.0   \n",
       "10085  0.477957                    1            CTRL           0.0   \n",
       "10086  4.044405                    1            CTRL           0.0   \n",
       "10087  3.050511                    1            CTRL           0.0   \n",
       "10088  3.279231                    1            CTRL           0.0   \n",
       "\n",
       "          Mtb RFP  Mtb RFP thresholded     t0 Mphi state   t-1 Mphi state  \n",
       "10015  343.590210             0.000000  Alive Uninfected  Dead Uninfected  \n",
       "10016  346.923706             0.000000  Alive Uninfected  Dead Uninfected  \n",
       "10017  345.356598             0.000000  Alive Uninfected  Dead Uninfected  \n",
       "10018  345.091431             0.000000  Alive Uninfected  Dead Uninfected  \n",
       "10019  346.950378             0.424497  Alive Uninfected  Dead Uninfected  \n",
       "...           ...                  ...               ...              ...  \n",
       "10084  349.791473             4.194314  Alive Uninfected  Dead Uninfected  \n",
       "10085  348.548462             4.408469  Alive Uninfected  Dead Uninfected  \n",
       "10086  345.794983             0.000000  Alive Uninfected  Dead Uninfected  \n",
       "10087  346.363708             0.000000  Alive Uninfected  Dead Uninfected  \n",
       "10088  344.124573             0.000000  Alive Uninfected  Dead Uninfected  \n",
       "\n",
       "[74 rows x 20 columns]"
      ]
     },
     "execution_count": 742,
     "metadata": {},
     "output_type": "execute_result"
    }
   ],
   "source": [
    "df[df['Unique ID'] == '552.3.5']"
   ]
  },
  {
   "cell_type": "code",
   "execution_count": 695,
   "id": "13f79e32-2407-4ff0-a9d0-998e512e31e2",
   "metadata": {},
   "outputs": [],
   "source": [
    "ID = '536.3.5'\n",
    "# Isolate one track\n",
    "subset_df = df[df['Unique ID'] == ID]\n",
    "\n",
    "# Check initial infection status and store as a string\n",
    "initial_infected = 'Infected' if all(subset_df.dropna()['Mtb Area µm2'].iloc[:3] > min_mtb_area_thresh_µm) else 'Uninfected'\n",
    "\n",
    "# Check final status of cell\n",
    "final_status = 'Alive' if ID not in death_IDs else 'Dead'\n",
    "\n",
    "# Check final infection status\n",
    "final_infected = 'Uninfected' if all(subset_df.dropna()['Mtb Area µm2'].iloc[-3:] < min_mtb_area_thresh_µm) else 'Infected'"
   ]
  },
  {
   "cell_type": "code",
   "execution_count": 696,
   "id": "ffe12676-d063-4c78-b96a-676e952c427b",
   "metadata": {},
   "outputs": [
    {
     "data": {
      "text/plain": [
       "'Infected'"
      ]
     },
     "execution_count": 696,
     "metadata": {},
     "output_type": "execute_result"
    }
   ],
   "source": [
    "final_infected"
   ]
  },
  {
   "cell_type": "code",
   "execution_count": 690,
   "id": "d474388d-fdf9-4e2d-bcc1-36bdb3c5d0d5",
   "metadata": {},
   "outputs": [
    {
     "data": {
      "text/plain": [
       "2.1901492845529966"
      ]
     },
     "execution_count": 690,
     "metadata": {},
     "output_type": "execute_result"
    }
   ],
   "source": [
    "subset_df.dropna()['Mtb Area µm2'].iloc[-3:].mean()"
   ]
  },
  {
   "cell_type": "code",
   "execution_count": 681,
   "id": "80de6882-a230-48e2-892e-71214691e1c7",
   "metadata": {},
   "outputs": [
    {
     "data": {
      "text/plain": [
       "False"
      ]
     },
     "execution_count": 681,
     "metadata": {},
     "output_type": "execute_result"
    }
   ],
   "source": [
    "all(subset_df.dropna()['Mtb Area µm2'].iloc[-3:] > min_mtb_area_thresh_µm)"
   ]
  },
  {
   "cell_type": "markdown",
   "id": "ea5be94a-4e9f-4d80-8be6-30ce43ed3a45",
   "metadata": {},
   "source": [
    "# Adding causative factor information"
   ]
  },
  {
   "cell_type": "code",
   "execution_count": null,
   "id": "3ae8cff8-0146-4ae0-8d02-c57ffc7725bc",
   "metadata": {},
   "outputs": [],
   "source": []
  },
  {
   "cell_type": "code",
   "execution_count": null,
   "id": "7ad28bde-f6b6-4912-8a4d-ec12bbc203a0",
   "metadata": {},
   "outputs": [],
   "source": [
    "df['Causative factor'] = None"
   ]
  },
  {
   "cell_type": "code",
   "execution_count": 787,
   "id": "d3daecbe-0a74-4d22-8d63-adb074b561a1",
   "metadata": {},
   "outputs": [],
   "source": [
    "for ID in df['Unique ID'].unique():\n",
    "    # Isolate one track\n",
    "    subset_df = df[df['Unique ID'] == ID]\n",
    "    fate = subset_df['t-1 Mphi state'].iloc[0] \n",
    "    if 'Dead' in fate and 'Infected' in fate:\n",
    "        df.loc[df['Unique ID'] == ID, 'Causative factor'] = 'Presumed Mtb Growth'\n",
    "    if 'Dead' in fate and 'Uninfected' in fate:\n",
    "        df.loc[df['Unique ID'] == ID, 'Causative factor'] = 'Presumed Uptake Independent Mtb Contact'\n",
    "    "
   ]
  },
  {
   "cell_type": "code",
   "execution_count": 795,
   "id": "4386936b-a9f5-475d-8c1e-4687f7af2d36",
   "metadata": {},
   "outputs": [],
   "source": [
    "df.loc[df['Unique ID'] == '397.3.5', 'Causative factor'] = None # just dies\n",
    "df.loc[df['Unique ID'] == '144.3.5', 'Causative factor'] =  # just dies\n"
   ]
  },
  {
   "cell_type": "code",
   "execution_count": 799,
   "id": "10a451c9-e538-4d6a-8559-66e0962da76c",
   "metadata": {},
   "outputs": [
    {
     "data": {
      "text/html": [
       "<div>\n",
       "<style scoped>\n",
       "    .dataframe tbody tr th:only-of-type {\n",
       "        vertical-align: middle;\n",
       "    }\n",
       "\n",
       "    .dataframe tbody tr th {\n",
       "        vertical-align: top;\n",
       "    }\n",
       "\n",
       "    .dataframe thead th {\n",
       "        text-align: right;\n",
       "    }\n",
       "</style>\n",
       "<table border=\"1\" class=\"dataframe\">\n",
       "  <thead>\n",
       "    <tr style=\"text-align: right;\">\n",
       "      <th></th>\n",
       "      <th>Unique ID</th>\n",
       "      <th>Causative factor</th>\n",
       "      <th>t-1 Mphi state</th>\n",
       "    </tr>\n",
       "  </thead>\n",
       "  <tbody>\n",
       "    <tr>\n",
       "      <th>747</th>\n",
       "      <td>144.3.5</td>\n",
       "      <td>Presumed Mtb Growth</td>\n",
       "      <td>Dead Infected</td>\n",
       "    </tr>\n",
       "    <tr>\n",
       "      <th>896</th>\n",
       "      <td>15.3.5</td>\n",
       "      <td>Presumed Mtb Growth</td>\n",
       "      <td>Dead Infected</td>\n",
       "    </tr>\n",
       "    <tr>\n",
       "      <th>2843</th>\n",
       "      <td>252.3.5</td>\n",
       "      <td>Presumed Mtb Growth</td>\n",
       "      <td>Dead Infected</td>\n",
       "    </tr>\n",
       "    <tr>\n",
       "      <th>6578</th>\n",
       "      <td>444.3.5</td>\n",
       "      <td>Presumed Mtb Growth</td>\n",
       "      <td>Dead Infected</td>\n",
       "    </tr>\n",
       "    <tr>\n",
       "      <th>8001</th>\n",
       "      <td>486.3.5</td>\n",
       "      <td>Presumed Mtb Growth</td>\n",
       "      <td>Dead Infected</td>\n",
       "    </tr>\n",
       "    <tr>\n",
       "      <th>8522</th>\n",
       "      <td>507.3.5</td>\n",
       "      <td>Presumed Mtb Growth</td>\n",
       "      <td>Dead Infected</td>\n",
       "    </tr>\n",
       "    <tr>\n",
       "      <th>8892</th>\n",
       "      <td>515.3.5</td>\n",
       "      <td>Presumed Mtb Growth</td>\n",
       "      <td>Dead Infected</td>\n",
       "    </tr>\n",
       "    <tr>\n",
       "      <th>9491</th>\n",
       "      <td>530.3.5</td>\n",
       "      <td>Presumed Mtb Growth</td>\n",
       "      <td>Dead Infected</td>\n",
       "    </tr>\n",
       "    <tr>\n",
       "      <th>9865</th>\n",
       "      <td>542.3.5</td>\n",
       "      <td>Presumed Mtb Growth</td>\n",
       "      <td>Dead Infected</td>\n",
       "    </tr>\n",
       "    <tr>\n",
       "      <th>10015</th>\n",
       "      <td>552.3.5</td>\n",
       "      <td>Presumed Uptake Independent Mtb Contact</td>\n",
       "      <td>Dead Uninfected</td>\n",
       "    </tr>\n",
       "    <tr>\n",
       "      <th>13001</th>\n",
       "      <td>26.3.5</td>\n",
       "      <td>Presumed Mtb Growth</td>\n",
       "      <td>Dead Infected</td>\n",
       "    </tr>\n",
       "    <tr>\n",
       "      <th>13173</th>\n",
       "      <td>34.3.5</td>\n",
       "      <td>Presumed Mtb Growth</td>\n",
       "      <td>Dead Infected</td>\n",
       "    </tr>\n",
       "    <tr>\n",
       "      <th>14261</th>\n",
       "      <td>1611.3.5</td>\n",
       "      <td>Presumed Mtb Growth</td>\n",
       "      <td>Dead Infected</td>\n",
       "    </tr>\n",
       "    <tr>\n",
       "      <th>14812</th>\n",
       "      <td>1118.3.5</td>\n",
       "      <td>Presumed Mtb Growth</td>\n",
       "      <td>Dead Infected</td>\n",
       "    </tr>\n",
       "    <tr>\n",
       "      <th>15278</th>\n",
       "      <td>3179.3.5</td>\n",
       "      <td>Presumed Mtb Growth</td>\n",
       "      <td>Dead Infected</td>\n",
       "    </tr>\n",
       "    <tr>\n",
       "      <th>15331</th>\n",
       "      <td>110.3.5</td>\n",
       "      <td>Presumed Mtb Growth</td>\n",
       "      <td>Dead Infected</td>\n",
       "    </tr>\n",
       "    <tr>\n",
       "      <th>15447</th>\n",
       "      <td>112.3.5</td>\n",
       "      <td>Presumed Mtb Growth</td>\n",
       "      <td>Dead Infected</td>\n",
       "    </tr>\n",
       "    <tr>\n",
       "      <th>15724</th>\n",
       "      <td>119.3.5</td>\n",
       "      <td>Presumed Mtb Growth</td>\n",
       "      <td>Dead Infected</td>\n",
       "    </tr>\n",
       "    <tr>\n",
       "      <th>15940</th>\n",
       "      <td>642.3.5</td>\n",
       "      <td>Presumed Mtb Growth</td>\n",
       "      <td>Dead Infected</td>\n",
       "    </tr>\n",
       "    <tr>\n",
       "      <th>15981</th>\n",
       "      <td>131.3.5</td>\n",
       "      <td>Presumed Uptake Independent Mtb Contact</td>\n",
       "      <td>Dead Uninfected</td>\n",
       "    </tr>\n",
       "    <tr>\n",
       "      <th>18627</th>\n",
       "      <td>1308.3.5</td>\n",
       "      <td>Presumed Mtb Growth</td>\n",
       "      <td>Dead Infected</td>\n",
       "    </tr>\n",
       "    <tr>\n",
       "      <th>18701</th>\n",
       "      <td>286.3.5</td>\n",
       "      <td>Presumed Mtb Growth</td>\n",
       "      <td>Dead Infected</td>\n",
       "    </tr>\n",
       "    <tr>\n",
       "      <th>19626</th>\n",
       "      <td>1356.3.5</td>\n",
       "      <td>Presumed Mtb Growth</td>\n",
       "      <td>Dead Infected</td>\n",
       "    </tr>\n",
       "    <tr>\n",
       "      <th>19855</th>\n",
       "      <td>344.3.5</td>\n",
       "      <td>Presumed Mtb Growth</td>\n",
       "      <td>Dead Infected</td>\n",
       "    </tr>\n",
       "    <tr>\n",
       "      <th>19919</th>\n",
       "      <td>354.3.5</td>\n",
       "      <td>Presumed Mtb Growth</td>\n",
       "      <td>Dead Infected</td>\n",
       "    </tr>\n",
       "    <tr>\n",
       "      <th>20464</th>\n",
       "      <td>384.3.5</td>\n",
       "      <td>Presumed Mtb Growth</td>\n",
       "      <td>Dead Infected</td>\n",
       "    </tr>\n",
       "    <tr>\n",
       "      <th>20822</th>\n",
       "      <td>410.3.5</td>\n",
       "      <td>Presumed Mtb Growth</td>\n",
       "      <td>Dead Infected</td>\n",
       "    </tr>\n",
       "    <tr>\n",
       "      <th>21245</th>\n",
       "      <td>424.3.5</td>\n",
       "      <td>Presumed Mtb Growth</td>\n",
       "      <td>Dead Infected</td>\n",
       "    </tr>\n",
       "    <tr>\n",
       "      <th>21329</th>\n",
       "      <td>426.3.5</td>\n",
       "      <td>Presumed Mtb Growth</td>\n",
       "      <td>Dead Infected</td>\n",
       "    </tr>\n",
       "    <tr>\n",
       "      <th>21375</th>\n",
       "      <td>431.3.5</td>\n",
       "      <td>Presumed Mtb Growth</td>\n",
       "      <td>Dead Infected</td>\n",
       "    </tr>\n",
       "    <tr>\n",
       "      <th>21431</th>\n",
       "      <td>432.3.5</td>\n",
       "      <td>Presumed Mtb Growth</td>\n",
       "      <td>Dead Infected</td>\n",
       "    </tr>\n",
       "    <tr>\n",
       "      <th>21842</th>\n",
       "      <td>461.3.5</td>\n",
       "      <td>Presumed Mtb Growth</td>\n",
       "      <td>Dead Infected</td>\n",
       "    </tr>\n",
       "    <tr>\n",
       "      <th>21973</th>\n",
       "      <td>473.3.5</td>\n",
       "      <td>Presumed Mtb Growth</td>\n",
       "      <td>Dead Infected</td>\n",
       "    </tr>\n",
       "    <tr>\n",
       "      <th>22363</th>\n",
       "      <td>997.3.5</td>\n",
       "      <td>Presumed Mtb Growth</td>\n",
       "      <td>Dead Infected</td>\n",
       "    </tr>\n",
       "    <tr>\n",
       "      <th>22517</th>\n",
       "      <td>491.3.5</td>\n",
       "      <td>Presumed Mtb Growth</td>\n",
       "      <td>Dead Infected</td>\n",
       "    </tr>\n",
       "    <tr>\n",
       "      <th>22617</th>\n",
       "      <td>493.3.5</td>\n",
       "      <td>Presumed Mtb Growth</td>\n",
       "      <td>Dead Infected</td>\n",
       "    </tr>\n",
       "  </tbody>\n",
       "</table>\n",
       "</div>"
      ],
      "text/plain": [
       "      Unique ID                         Causative factor   t-1 Mphi state\n",
       "747     144.3.5                      Presumed Mtb Growth    Dead Infected\n",
       "896      15.3.5                      Presumed Mtb Growth    Dead Infected\n",
       "2843    252.3.5                      Presumed Mtb Growth    Dead Infected\n",
       "6578    444.3.5                      Presumed Mtb Growth    Dead Infected\n",
       "8001    486.3.5                      Presumed Mtb Growth    Dead Infected\n",
       "8522    507.3.5                      Presumed Mtb Growth    Dead Infected\n",
       "8892    515.3.5                      Presumed Mtb Growth    Dead Infected\n",
       "9491    530.3.5                      Presumed Mtb Growth    Dead Infected\n",
       "9865    542.3.5                      Presumed Mtb Growth    Dead Infected\n",
       "10015   552.3.5  Presumed Uptake Independent Mtb Contact  Dead Uninfected\n",
       "13001    26.3.5                      Presumed Mtb Growth    Dead Infected\n",
       "13173    34.3.5                      Presumed Mtb Growth    Dead Infected\n",
       "14261  1611.3.5                      Presumed Mtb Growth    Dead Infected\n",
       "14812  1118.3.5                      Presumed Mtb Growth    Dead Infected\n",
       "15278  3179.3.5                      Presumed Mtb Growth    Dead Infected\n",
       "15331   110.3.5                      Presumed Mtb Growth    Dead Infected\n",
       "15447   112.3.5                      Presumed Mtb Growth    Dead Infected\n",
       "15724   119.3.5                      Presumed Mtb Growth    Dead Infected\n",
       "15940   642.3.5                      Presumed Mtb Growth    Dead Infected\n",
       "15981   131.3.5  Presumed Uptake Independent Mtb Contact  Dead Uninfected\n",
       "18627  1308.3.5                      Presumed Mtb Growth    Dead Infected\n",
       "18701   286.3.5                      Presumed Mtb Growth    Dead Infected\n",
       "19626  1356.3.5                      Presumed Mtb Growth    Dead Infected\n",
       "19855   344.3.5                      Presumed Mtb Growth    Dead Infected\n",
       "19919   354.3.5                      Presumed Mtb Growth    Dead Infected\n",
       "20464   384.3.5                      Presumed Mtb Growth    Dead Infected\n",
       "20822   410.3.5                      Presumed Mtb Growth    Dead Infected\n",
       "21245   424.3.5                      Presumed Mtb Growth    Dead Infected\n",
       "21329   426.3.5                      Presumed Mtb Growth    Dead Infected\n",
       "21375   431.3.5                      Presumed Mtb Growth    Dead Infected\n",
       "21431   432.3.5                      Presumed Mtb Growth    Dead Infected\n",
       "21842   461.3.5                      Presumed Mtb Growth    Dead Infected\n",
       "21973   473.3.5                      Presumed Mtb Growth    Dead Infected\n",
       "22363   997.3.5                      Presumed Mtb Growth    Dead Infected\n",
       "22517   491.3.5                      Presumed Mtb Growth    Dead Infected\n",
       "22617   493.3.5                      Presumed Mtb Growth    Dead Infected"
      ]
     },
     "execution_count": 799,
     "metadata": {},
     "output_type": "execute_result"
    }
   ],
   "source": [
    "df[df['Causative factor'].notna()].drop_duplicates(subset='Unique ID', keep='first')[['Unique ID', 'Causative factor', 't-1 Mphi state']]"
   ]
  }
 ],
 "metadata": {
  "kernelspec": {
   "display_name": "brassica",
   "language": "python",
   "name": "brassica"
  },
  "language_info": {
   "codemirror_mode": {
    "name": "ipython",
    "version": 3
   },
   "file_extension": ".py",
   "mimetype": "text/x-python",
   "name": "python",
   "nbconvert_exporter": "python",
   "pygments_lexer": "ipython3",
   "version": "3.9.17"
  }
 },
 "nbformat": 4,
 "nbformat_minor": 5
}
