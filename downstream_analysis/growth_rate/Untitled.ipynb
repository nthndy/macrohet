{
 "cells": [
  {
   "cell_type": "code",
   "execution_count": 1,
   "id": "49f2a05a-6ce3-430a-af48-00551048c6f4",
   "metadata": {},
   "outputs": [],
   "source": [
    "import os\n",
    "import pandas as pd\n",
    "from tqdm.auto import tqdm"
   ]
  },
  {
   "cell_type": "code",
   "execution_count": 2,
   "id": "e664fb9a-8bba-4fe3-943c-83ffc036d0c6",
   "metadata": {},
   "outputs": [],
   "source": [
    "nemo_basedir = '/run/user/30046150/gvfs/smb-share:server=data2.thecrick.org,share=lab-gutierrezm/home/users/dayn'"
   ]
  },
  {
   "cell_type": "markdown",
   "id": "86a20a84-66dc-48d8-93dd-195f48a47ce3",
   "metadata": {},
   "source": [
    "### Checking where PS0000 is stored"
   ]
  },
  {
   "cell_type": "code",
   "execution_count": 6,
   "id": "907317e1-c51d-460c-8d5f-2c851f009fca",
   "metadata": {},
   "outputs": [
    {
     "data": {
      "text/plain": [
       "4051"
      ]
     },
     "execution_count": 6,
     "metadata": {},
     "output_type": "execute_result"
    }
   ],
   "source": [
    "ps0000_syno_fns = os.listdir('/mnt/SYNO/macrohet_syno/PS0000/acquisition/Images/')\n",
    "len(ps0000_syno_fns)"
   ]
  },
  {
   "cell_type": "code",
   "execution_count": 11,
   "id": "6631cce6-6004-4545-bf07-17107ede9a9a",
   "metadata": {},
   "outputs": [
    {
     "data": {
      "text/plain": [
       "4051"
      ]
     },
     "execution_count": 11,
     "metadata": {},
     "output_type": "execute_result"
    }
   ],
   "source": [
    "ps0000_nemo_fns = os.listdir(os.path.join(nemo_basedir, 'macrohet_nemo/PS0000/acquisition/Images/'))\n",
    "len(ps0000_nemo_fns)"
   ]
  },
  {
   "cell_type": "code",
   "execution_count": 7,
   "id": "b1742059-5994-4014-9ce7-d81c162f5e68",
   "metadata": {},
   "outputs": [
    {
     "data": {
      "text/plain": [
       "113401"
      ]
     },
     "execution_count": 7,
     "metadata": {},
     "output_type": "execute_result"
    }
   ],
   "source": [
    "ps0000_data_fns = os.listdir('/mnt/DATA/macrohet/PS0000/acquisition/Images/')\n",
    "len(ps0000_data_fns)"
   ]
  },
  {
   "cell_type": "markdown",
   "id": "18a23410-5cce-4c9c-89c6-bfa63dc777c0",
   "metadata": {},
   "source": [
    "### Checking where ND0002 is stored"
   ]
  },
  {
   "cell_type": "code",
   "execution_count": 20,
   "id": "c5e93015-407b-4388-a940-f2149b524327",
   "metadata": {},
   "outputs": [
    {
     "data": {
      "text/plain": [
       "388801"
      ]
     },
     "execution_count": 20,
     "metadata": {},
     "output_type": "execute_result"
    }
   ],
   "source": [
    "ND0002_syno_fns = os.listdir('/mnt/SYNO/macrohet_syno/ND0002/acquisition/Images/')\n",
    "len(ND0002_syno_fns)"
   ]
  },
  {
   "cell_type": "code",
   "execution_count": 21,
   "id": "9013e1b3-1a2c-4735-b954-ae6c7750f22a",
   "metadata": {},
   "outputs": [
    {
     "data": {
      "text/plain": [
       "388801"
      ]
     },
     "execution_count": 21,
     "metadata": {},
     "output_type": "execute_result"
    }
   ],
   "source": [
    "ND0002_nemo_fns = os.listdir(os.path.join(nemo_basedir, 'macrohet_nemo/ND0002/acquisition/Images/'))\n",
    "len(ND0002_nemo_fns)"
   ]
  },
  {
   "cell_type": "code",
   "execution_count": 22,
   "id": "62e134c7-3674-4841-b570-2dcc83e20b48",
   "metadata": {},
   "outputs": [
    {
     "ename": "FileNotFoundError",
     "evalue": "[Errno 2] No such file or directory: '/mnt/DATA/macrohet/ND0002/acquisition/Images/'",
     "output_type": "error",
     "traceback": [
      "\u001b[0;31m---------------------------------------------------------------------------\u001b[0m",
      "\u001b[0;31mFileNotFoundError\u001b[0m                         Traceback (most recent call last)",
      "Cell \u001b[0;32mIn[22], line 1\u001b[0m\n\u001b[0;32m----> 1\u001b[0m ND0002_data_fns \u001b[38;5;241m=\u001b[39m \u001b[43mos\u001b[49m\u001b[38;5;241;43m.\u001b[39;49m\u001b[43mlistdir\u001b[49m\u001b[43m(\u001b[49m\u001b[38;5;124;43m'\u001b[39;49m\u001b[38;5;124;43m/mnt/DATA/macrohet/ND0002/acquisition/Images/\u001b[39;49m\u001b[38;5;124;43m'\u001b[39;49m\u001b[43m)\u001b[49m\n\u001b[1;32m      2\u001b[0m \u001b[38;5;28mlen\u001b[39m(ND0002_data_fns)\n",
      "\u001b[0;31mFileNotFoundError\u001b[0m: [Errno 2] No such file or directory: '/mnt/DATA/macrohet/ND0002/acquisition/Images/'"
     ]
    }
   ],
   "source": [
    "ND0002_data_fns = os.listdir('/mnt/DATA/macrohet/ND0002/acquisition/Images/')\n",
    "len(ND0002_data_fns)"
   ]
  },
  {
   "cell_type": "markdown",
   "id": "c86d7f90-4ff1-4a9a-ac01-a61f68a24786",
   "metadata": {},
   "source": [
    "### Checking where ND0000 is stored"
   ]
  },
  {
   "cell_type": "code",
   "execution_count": 12,
   "id": "9306713c-db6f-4ec3-a8c0-da1e782e2574",
   "metadata": {},
   "outputs": [
    {
     "data": {
      "text/plain": [
       "243649"
      ]
     },
     "execution_count": 12,
     "metadata": {},
     "output_type": "execute_result"
    }
   ],
   "source": [
    "ND0000_syno_fns = os.listdir('/mnt/SYNO/macrohet_syno/ND0000/acquisition/Images/')\n",
    "len(ND0000_syno_fns)"
   ]
  },
  {
   "cell_type": "code",
   "execution_count": 14,
   "id": "12bbf819-ad95-465a-af65-24ba82ba570d",
   "metadata": {},
   "outputs": [
    {
     "data": {
      "text/plain": [
       "0"
      ]
     },
     "execution_count": 14,
     "metadata": {},
     "output_type": "execute_result"
    }
   ],
   "source": [
    "ND0000_nemo_fns = os.listdir(os.path.join(nemo_basedir, 'macrohet_nemo/ND0000/acquisition/Images/'))\n",
    "len(ND0000_nemo_fns)"
   ]
  },
  {
   "cell_type": "code",
   "execution_count": 15,
   "id": "91f089da-14a0-41a8-89b2-6162de990f3b",
   "metadata": {},
   "outputs": [
    {
     "data": {
      "text/plain": [
       "30457"
      ]
     },
     "execution_count": 15,
     "metadata": {},
     "output_type": "execute_result"
    }
   ],
   "source": [
    "ND0000_data_fns = os.listdir('/mnt/DATA/macrohet/ND0000/acquisition/Images/')\n",
    "len(ND0000_data_fns)"
   ]
  },
  {
   "cell_type": "markdown",
   "id": "3e8d7c66-4bff-4882-a098-d0560eba46e5",
   "metadata": {},
   "source": [
    "### Checking where ND0001 is stored"
   ]
  },
  {
   "cell_type": "code",
   "execution_count": 17,
   "id": "abd95a95-3e98-481f-ac3e-a3a8fbddb358",
   "metadata": {},
   "outputs": [
    {
     "ename": "FileNotFoundError",
     "evalue": "[Errno 2] No such file or directory: '/mnt/SYNO/macrohet_syno/ND0001/acquisition/Images/'",
     "output_type": "error",
     "traceback": [
      "\u001b[0;31m---------------------------------------------------------------------------\u001b[0m",
      "\u001b[0;31mFileNotFoundError\u001b[0m                         Traceback (most recent call last)",
      "Cell \u001b[0;32mIn[17], line 1\u001b[0m\n\u001b[0;32m----> 1\u001b[0m ND0001_syno_fns \u001b[38;5;241m=\u001b[39m \u001b[43mos\u001b[49m\u001b[38;5;241;43m.\u001b[39;49m\u001b[43mlistdir\u001b[49m\u001b[43m(\u001b[49m\u001b[38;5;124;43m'\u001b[39;49m\u001b[38;5;124;43m/mnt/SYNO/macrohet_syno/ND0001/acquisition/Images/\u001b[39;49m\u001b[38;5;124;43m'\u001b[39;49m\u001b[43m)\u001b[49m\n\u001b[1;32m      2\u001b[0m \u001b[38;5;28mlen\u001b[39m(ND0001_syno_fns)\n",
      "\u001b[0;31mFileNotFoundError\u001b[0m: [Errno 2] No such file or directory: '/mnt/SYNO/macrohet_syno/ND0001/acquisition/Images/'"
     ]
    }
   ],
   "source": [
    "ND0001_syno_fns = os.listdir('/mnt/SYNO/macrohet_syno/ND0001/acquisition/Images/')\n",
    "len(ND0001_syno_fns)"
   ]
  },
  {
   "cell_type": "code",
   "execution_count": 18,
   "id": "ffb6cdfc-7111-42a9-bcee-eef9fa5c79bc",
   "metadata": {},
   "outputs": [
    {
     "ename": "FileNotFoundError",
     "evalue": "[Errno 2] No such file or directory: '/run/user/30046150/gvfs/smb-share:server=data2.thecrick.org,share=lab-gutierrezm/home/users/dayn/macrohet_nemo/ND0001/acquisition/Images/'",
     "output_type": "error",
     "traceback": [
      "\u001b[0;31m---------------------------------------------------------------------------\u001b[0m",
      "\u001b[0;31mFileNotFoundError\u001b[0m                         Traceback (most recent call last)",
      "Cell \u001b[0;32mIn[18], line 1\u001b[0m\n\u001b[0;32m----> 1\u001b[0m ND0001_nemo_fns \u001b[38;5;241m=\u001b[39m \u001b[43mos\u001b[49m\u001b[38;5;241;43m.\u001b[39;49m\u001b[43mlistdir\u001b[49m\u001b[43m(\u001b[49m\u001b[43mos\u001b[49m\u001b[38;5;241;43m.\u001b[39;49m\u001b[43mpath\u001b[49m\u001b[38;5;241;43m.\u001b[39;49m\u001b[43mjoin\u001b[49m\u001b[43m(\u001b[49m\u001b[43mnemo_basedir\u001b[49m\u001b[43m,\u001b[49m\u001b[43m \u001b[49m\u001b[38;5;124;43m'\u001b[39;49m\u001b[38;5;124;43mmacrohet_nemo/ND0001/acquisition/Images/\u001b[39;49m\u001b[38;5;124;43m'\u001b[39;49m\u001b[43m)\u001b[49m\u001b[43m)\u001b[49m\n\u001b[1;32m      2\u001b[0m \u001b[38;5;28mlen\u001b[39m(ND0001_nemo_fns)\n",
      "\u001b[0;31mFileNotFoundError\u001b[0m: [Errno 2] No such file or directory: '/run/user/30046150/gvfs/smb-share:server=data2.thecrick.org,share=lab-gutierrezm/home/users/dayn/macrohet_nemo/ND0001/acquisition/Images/'"
     ]
    }
   ],
   "source": [
    "ND0001_nemo_fns = os.listdir(os.path.join(nemo_basedir, 'macrohet_nemo/ND0001/acquisition/Images/'))\n",
    "len(ND0001_nemo_fns)"
   ]
  },
  {
   "cell_type": "code",
   "execution_count": 19,
   "id": "e788bbe3-2eb8-4340-abf2-71216ac9e89a",
   "metadata": {},
   "outputs": [
    {
     "ename": "FileNotFoundError",
     "evalue": "[Errno 2] No such file or directory: '/mnt/DATA/macrohet/ND0001/acquisition/Images/'",
     "output_type": "error",
     "traceback": [
      "\u001b[0;31m---------------------------------------------------------------------------\u001b[0m",
      "\u001b[0;31mFileNotFoundError\u001b[0m                         Traceback (most recent call last)",
      "Cell \u001b[0;32mIn[19], line 1\u001b[0m\n\u001b[0;32m----> 1\u001b[0m ND0001_data_fns \u001b[38;5;241m=\u001b[39m \u001b[43mos\u001b[49m\u001b[38;5;241;43m.\u001b[39;49m\u001b[43mlistdir\u001b[49m\u001b[43m(\u001b[49m\u001b[38;5;124;43m'\u001b[39;49m\u001b[38;5;124;43m/mnt/DATA/macrohet/ND0001/acquisition/Images/\u001b[39;49m\u001b[38;5;124;43m'\u001b[39;49m\u001b[43m)\u001b[49m\n\u001b[1;32m      2\u001b[0m \u001b[38;5;28mlen\u001b[39m(ND0001_data_fns)\n",
      "\u001b[0;31mFileNotFoundError\u001b[0m: [Errno 2] No such file or directory: '/mnt/DATA/macrohet/ND0001/acquisition/Images/'"
     ]
    }
   ],
   "source": [
    "ND0001_data_fns = os.listdir('/mnt/DATA/macrohet/ND0001/acquisition/Images/')\n",
    "len(ND0001_data_fns)"
   ]
  },
  {
   "cell_type": "markdown",
   "id": "231ac58b-764c-4b9d-8489-d836ff87407c",
   "metadata": {},
   "source": [
    "# Plotting data usage"
   ]
  },
  {
   "cell_type": "code",
   "execution_count": 3,
   "id": "54c9761b-e3b2-4793-8ac2-8ad454e174d0",
   "metadata": {},
   "outputs": [],
   "source": [
    "locations = ['NEMO', 'SYNO', 'DATA']\n",
    "expt_IDs = ['PS0000', 'ND0000', 'ND0001', 'ND0002']\n",
    "# quantities = ['N image files', 'Size image folder']"
   ]
  },
  {
   "cell_type": "code",
   "execution_count": 4,
   "id": "e3e97a30-d454-42ed-a214-63874ed09c8c",
   "metadata": {},
   "outputs": [],
   "source": [
    "# Function to get folder size in GB\n",
    "def get_folder_size_in_gb(folder_path):\n",
    "    pass\n",
    "    \n",
    "    # total_size = 0\n",
    "    # for dirpath, dirnames, filenames in os.walk(folder_path):\n",
    "    #     for dirname in tqdm(dirnames, desc = 'Iterating over subdirs', leave = False):\n",
    "    #         dir_path = os.path.join(dirpath, dirname)\n",
    "    #         total_size += sum(os.path.getsize(os.path.join(dir_path, filename)) for filename in filenames)\n",
    "    \n",
    "    # # Convert total_size to GB\n",
    "    # folder_size_gb = total_size / (1024 ** 3)  # 1 GB = 1024^3 bytes\n",
    "    # return folder_size_gb\n"
   ]
  },
  {
   "cell_type": "code",
   "execution_count": 7,
   "id": "daa35818-1e2f-4ef0-98b1-b4e09c719672",
   "metadata": {},
   "outputs": [
    {
     "data": {
      "application/vnd.jupyter.widget-view+json": {
       "model_id": "bfcc802660aa41b395a83e182ff68f77",
       "version_major": 2,
       "version_minor": 0
      },
      "text/plain": [
       "Iterating over different locations:   0%|          | 0/3 [00:00<?, ?it/s]"
      ]
     },
     "metadata": {},
     "output_type": "display_data"
    },
    {
     "data": {
      "application/vnd.jupyter.widget-view+json": {
       "model_id": "",
       "version_major": 2,
       "version_minor": 0
      },
      "text/plain": [
       "Iterating over expt IDs:   0%|          | 0/4 [00:00<?, ?it/s]"
      ]
     },
     "metadata": {},
     "output_type": "display_data"
    },
    {
     "data": {
      "application/vnd.jupyter.widget-view+json": {
       "model_id": "",
       "version_major": 2,
       "version_minor": 0
      },
      "text/plain": [
       "Iterating over expt IDs:   0%|          | 0/4 [00:00<?, ?it/s]"
      ]
     },
     "metadata": {},
     "output_type": "display_data"
    },
    {
     "data": {
      "application/vnd.jupyter.widget-view+json": {
       "model_id": "",
       "version_major": 2,
       "version_minor": 0
      },
      "text/plain": [
       "Iterating over expt IDs:   0%|          | 0/4 [00:00<?, ?it/s]"
      ]
     },
     "metadata": {},
     "output_type": "display_data"
    }
   ],
   "source": [
    "data_dict = {}\n",
    "# Loop through locations, expt_IDs, and quantities to populate the dictionary\n",
    "for location in tqdm(locations, desc = 'Iterating over different locations'):\n",
    "    data_dict[location] = {}\n",
    "    for expt_ID in tqdm(expt_IDs, desc = 'Iterating over expt IDs', leave=False):\n",
    "        data_dict[location][expt_ID] = {}\n",
    "        if location == 'NEMO':\n",
    "            path = os.path.join(nemo_basedir, f'macrohet_nemo/{expt_ID}/acquisition/Images/')\n",
    "        if location == 'SYNO':\n",
    "            path = f'/mnt/SYNO/macrohet_syno/{expt_ID}/acquisition/Images/'\n",
    "        if location == 'DATA':\n",
    "            path = f'/mnt/DATA/macrohet/{expt_ID}/acquisition/Images/'\n",
    "        try:\n",
    "            N_image_files = len(os.listdir(path))\n",
    "            size_image_folder = get_folder_size_in_gb(path)\n",
    "        except:\n",
    "            N_image_files = 0\n",
    "            size_image_folder = 0\n",
    "            \n",
    "        # data_dict[location][expt_ID]['N image files'] = N_image_files\n",
    "        # data_dict[location][expt_ID]['Size image folder'] = size_image_folder\n",
    "        data_dict[location][expt_ID] = f'{N_image_files} images, {size_image_folder}GB'\n",
    "        # data_dict[location][expt_ID]['Size image folder'] = size_image_folder"
   ]
  },
  {
   "cell_type": "code",
   "execution_count": 8,
   "id": "d57d5f89-1e95-4109-82ea-535a35d6d406",
   "metadata": {},
   "outputs": [
    {
     "data": {
      "text/html": [
       "<div>\n",
       "<style scoped>\n",
       "    .dataframe tbody tr th:only-of-type {\n",
       "        vertical-align: middle;\n",
       "    }\n",
       "\n",
       "    .dataframe tbody tr th {\n",
       "        vertical-align: top;\n",
       "    }\n",
       "\n",
       "    .dataframe thead th {\n",
       "        text-align: right;\n",
       "    }\n",
       "</style>\n",
       "<table border=\"1\" class=\"dataframe\">\n",
       "  <thead>\n",
       "    <tr style=\"text-align: right;\">\n",
       "      <th></th>\n",
       "      <th>NEMO</th>\n",
       "      <th>SYNO</th>\n",
       "      <th>DATA</th>\n",
       "    </tr>\n",
       "  </thead>\n",
       "  <tbody>\n",
       "    <tr>\n",
       "      <th>PS0000</th>\n",
       "      <td>4051 images, NoneGB</td>\n",
       "      <td>4051 images, NoneGB</td>\n",
       "      <td>113401 images, NoneGB</td>\n",
       "    </tr>\n",
       "    <tr>\n",
       "      <th>ND0000</th>\n",
       "      <td>0 images, NoneGB</td>\n",
       "      <td>243649 images, NoneGB</td>\n",
       "      <td>30457 images, NoneGB</td>\n",
       "    </tr>\n",
       "    <tr>\n",
       "      <th>ND0001</th>\n",
       "      <td>0 images, 0GB</td>\n",
       "      <td>0 images, 0GB</td>\n",
       "      <td>0 images, 0GB</td>\n",
       "    </tr>\n",
       "    <tr>\n",
       "      <th>ND0002</th>\n",
       "      <td>388801 images, NoneGB</td>\n",
       "      <td>388801 images, NoneGB</td>\n",
       "      <td>0 images, 0GB</td>\n",
       "    </tr>\n",
       "  </tbody>\n",
       "</table>\n",
       "</div>"
      ],
      "text/plain": [
       "                         NEMO                   SYNO                   DATA\n",
       "PS0000    4051 images, NoneGB    4051 images, NoneGB  113401 images, NoneGB\n",
       "ND0000       0 images, NoneGB  243649 images, NoneGB   30457 images, NoneGB\n",
       "ND0001          0 images, 0GB          0 images, 0GB          0 images, 0GB\n",
       "ND0002  388801 images, NoneGB  388801 images, NoneGB          0 images, 0GB"
      ]
     },
     "execution_count": 8,
     "metadata": {},
     "output_type": "execute_result"
    }
   ],
   "source": [
    "# Create a pandas DataFrame from the data_dict\n",
    "pd.DataFrame(data_dict)"
   ]
  }
 ],
 "metadata": {
  "kernelspec": {
   "display_name": "egg",
   "language": "python",
   "name": "egg"
  },
  "language_info": {
   "codemirror_mode": {
    "name": "ipython",
    "version": 3
   },
   "file_extension": ".py",
   "mimetype": "text/x-python",
   "name": "python",
   "nbconvert_exporter": "python",
   "pygments_lexer": "ipython3",
   "version": "3.9.17"
  }
 },
 "nbformat": 4,
 "nbformat_minor": 5
}
