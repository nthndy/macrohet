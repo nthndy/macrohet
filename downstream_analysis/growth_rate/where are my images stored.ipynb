{
 "cells": [
  {
   "cell_type": "code",
   "execution_count": 1,
   "id": "49f2a05a-6ce3-430a-af48-00551048c6f4",
   "metadata": {},
   "outputs": [],
   "source": [
    "import os\n",
    "import pandas as pd\n",
    "from tqdm.auto import tqdm"
   ]
  },
  {
   "cell_type": "code",
   "execution_count": 2,
   "id": "e664fb9a-8bba-4fe3-943c-83ffc036d0c6",
   "metadata": {},
   "outputs": [],
   "source": [
    "# nemo_basedir = '/run/user/30046150/gvfs/smb-share:server=data2.thecrick.org,share=lab-gutierrezm/home/users/dayn'\n",
    "nemo_basedir = '/mnt/NEMO/home/users/dayn'"
   ]
  },
  {
   "cell_type": "markdown",
   "id": "231ac58b-764c-4b9d-8489-d836ff87407c",
   "metadata": {},
   "source": [
    "# Plotting data usage"
   ]
  },
  {
   "cell_type": "code",
   "execution_count": 3,
   "id": "54c9761b-e3b2-4793-8ac2-8ad454e174d0",
   "metadata": {},
   "outputs": [],
   "source": [
    "locations = ['NEMO', 'SYNO', 'DATA']\n",
    "expt_IDs = ['PS0000', 'ND0000', 'ND0001', 'ND0002']\n",
    "quantities = ['N image files', 'Size image folder']"
   ]
  },
  {
   "cell_type": "code",
   "execution_count": 4,
   "id": "3b338330-767f-4644-8e9e-614b78b39c9e",
   "metadata": {},
   "outputs": [],
   "source": [
    "from macrohet.dataio import get_folder_size"
   ]
  },
  {
   "cell_type": "code",
   "execution_count": 5,
   "id": "e93fb537-ec57-4b4a-a444-3dab8bee3dfc",
   "metadata": {},
   "outputs": [
    {
     "data": {
      "application/vnd.jupyter.widget-view+json": {
       "model_id": "cff8fb24dc7941f3b26a2fcfb7f606c2",
       "version_major": 2,
       "version_minor": 0
      },
      "text/plain": [
       "Iterating over different locations:   0%|          | 0/3 [00:00<?, ?it/s]"
      ]
     },
     "metadata": {},
     "output_type": "display_data"
    },
    {
     "data": {
      "application/vnd.jupyter.widget-view+json": {
       "model_id": "",
       "version_major": 2,
       "version_minor": 0
      },
      "text/plain": [
       "Iterating over expt IDs:   0%|          | 0/4 [00:00<?, ?it/s]"
      ]
     },
     "metadata": {},
     "output_type": "display_data"
    },
    {
     "data": {
      "application/vnd.jupyter.widget-view+json": {
       "model_id": "",
       "version_major": 2,
       "version_minor": 0
      },
      "text/plain": [
       "Iterating over expt IDs:   0%|          | 0/4 [00:00<?, ?it/s]"
      ]
     },
     "metadata": {},
     "output_type": "display_data"
    },
    {
     "data": {
      "application/vnd.jupyter.widget-view+json": {
       "model_id": "",
       "version_major": 2,
       "version_minor": 0
      },
      "text/plain": [
       "Iterating over expt IDs:   0%|          | 0/4 [00:00<?, ?it/s]"
      ]
     },
     "metadata": {},
     "output_type": "display_data"
    }
   ],
   "source": [
    "data_dict = {}\n",
    "# Loop through locations, expt_IDs, and quantities to populate the dictionary\n",
    "for location in tqdm(locations, desc = 'Iterating over different locations'):\n",
    "    data_dict[location] = {}\n",
    "    for expt_ID in tqdm(expt_IDs, desc = 'Iterating over expt IDs', leave=False):\n",
    "        data_dict[location][expt_ID] = {}\n",
    "        if location == 'NEMO':\n",
    "            # path = os.path.join(nemo_basedir, f'macrohet_nemo/{expt_ID}/acquisition/Images/')\n",
    "            path = f'/mnt/NEMO/home/users/dayn/macrohet_nemo/{expt_ID}/acquisition/Images/'\n",
    "        if location == 'SYNO':\n",
    "            if expt_ID == 'ND0001':\n",
    "                path = f'/mnt/SYNO/macrohet_syno/{expt_ID}/acquisition/ND0001__2023-10-27T14_12_54-Measurement 1/Images'\n",
    "            else:\n",
    "                path = f'/mnt/SYNO/macrohet_syno/{expt_ID}/acquisition/Images'\n",
    "        if location == 'DATA':\n",
    "            path = f'/mnt/DATA/macrohet/{expt_ID}/acquisition/Images/'\n",
    "        try:\n",
    "            N_image_files = len(os.listdir(path))\n",
    "            size_image_folder = f'{get_folder_size(path).GB:.2f}'\n",
    "        except:\n",
    "            N_image_files = 0\n",
    "            size_image_folder = '0GB'\n",
    "\n",
    "        data_dict[location][expt_ID] = f'{N_image_files} images, {size_image_folder}'\n"
   ]
  },
  {
   "cell_type": "code",
   "execution_count": 6,
   "id": "d57d5f89-1e95-4109-82ea-535a35d6d406",
   "metadata": {},
   "outputs": [
    {
     "data": {
      "text/html": [
       "<div>\n",
       "<style scoped>\n",
       "    .dataframe tbody tr th:only-of-type {\n",
       "        vertical-align: middle;\n",
       "    }\n",
       "\n",
       "    .dataframe tbody tr th {\n",
       "        vertical-align: top;\n",
       "    }\n",
       "\n",
       "    .dataframe thead th {\n",
       "        text-align: right;\n",
       "    }\n",
       "</style>\n",
       "<table border=\"1\" class=\"dataframe\">\n",
       "  <thead>\n",
       "    <tr style=\"text-align: right;\">\n",
       "      <th></th>\n",
       "      <th>NEMO</th>\n",
       "      <th>SYNO</th>\n",
       "      <th>DATA</th>\n",
       "    </tr>\n",
       "  </thead>\n",
       "  <tbody>\n",
       "    <tr>\n",
       "      <th>PS0000</th>\n",
       "      <td>4051 images, 22.890746435150504</td>\n",
       "      <td>4051 images, 22.890746435150504</td>\n",
       "      <td>113401 images, 619.2524638548493</td>\n",
       "    </tr>\n",
       "    <tr>\n",
       "      <th>ND0000</th>\n",
       "      <td>0 images, 0.0</td>\n",
       "      <td>243649 images, 1152.3495325399563</td>\n",
       "      <td>30457 images, 170.79695282503963</td>\n",
       "    </tr>\n",
       "    <tr>\n",
       "      <th>ND0001</th>\n",
       "      <td>0 images, 0GB</td>\n",
       "      <td>975160 images, 5169.903669335879</td>\n",
       "      <td>0 images, 0GB</td>\n",
       "    </tr>\n",
       "    <tr>\n",
       "      <th>ND0002</th>\n",
       "      <td>388801 images, 1833.9765179418027</td>\n",
       "      <td>388801 images, 1833.97651973553</td>\n",
       "      <td>0 images, 0GB</td>\n",
       "    </tr>\n",
       "  </tbody>\n",
       "</table>\n",
       "</div>"
      ],
      "text/plain": [
       "                                     NEMO                               SYNO  \\\n",
       "PS0000    4051 images, 22.890746435150504    4051 images, 22.890746435150504   \n",
       "ND0000                      0 images, 0.0  243649 images, 1152.3495325399563   \n",
       "ND0001                      0 images, 0GB   975160 images, 5169.903669335879   \n",
       "ND0002  388801 images, 1833.9765179418027    388801 images, 1833.97651973553   \n",
       "\n",
       "                                    DATA  \n",
       "PS0000  113401 images, 619.2524638548493  \n",
       "ND0000  30457 images, 170.79695282503963  \n",
       "ND0001                     0 images, 0GB  \n",
       "ND0002                     0 images, 0GB  "
      ]
     },
     "execution_count": 6,
     "metadata": {},
     "output_type": "execute_result"
    }
   ],
   "source": [
    "# Create a pandas DataFrame from the data_dict\n",
    "pd.DataFrame(data_dict)"
   ]
  },
  {
   "cell_type": "code",
   "execution_count": 46,
   "id": "6f68d25d-ec04-4c2e-9919-b13e5aa442f1",
   "metadata": {},
   "outputs": [
    {
     "data": {
      "text/html": [
       "<div>\n",
       "<style scoped>\n",
       "    .dataframe tbody tr th:only-of-type {\n",
       "        vertical-align: middle;\n",
       "    }\n",
       "\n",
       "    .dataframe tbody tr th {\n",
       "        vertical-align: top;\n",
       "    }\n",
       "\n",
       "    .dataframe thead th {\n",
       "        text-align: right;\n",
       "    }\n",
       "</style>\n",
       "<table border=\"1\" class=\"dataframe\">\n",
       "  <thead>\n",
       "    <tr style=\"text-align: right;\">\n",
       "      <th></th>\n",
       "      <th>NEMO</th>\n",
       "      <th>SYNO</th>\n",
       "      <th>DATA</th>\n",
       "    </tr>\n",
       "  </thead>\n",
       "  <tbody>\n",
       "    <tr>\n",
       "      <th>PS0000</th>\n",
       "      <td>4051 images, 22.89GBs</td>\n",
       "      <td>4051 images, 22.89GBs</td>\n",
       "      <td>113401 images, 619.25GBs</td>\n",
       "    </tr>\n",
       "    <tr>\n",
       "      <th>ND0000</th>\n",
       "      <td>None</td>\n",
       "      <td>243649 images, 1152.35GBs</td>\n",
       "      <td>30457 images, 170.80GBs</td>\n",
       "    </tr>\n",
       "    <tr>\n",
       "      <th>ND0001</th>\n",
       "      <td>None</td>\n",
       "      <td>975160 images, 5169.90GBs</td>\n",
       "      <td>None</td>\n",
       "    </tr>\n",
       "    <tr>\n",
       "      <th>ND0002</th>\n",
       "      <td>388801 images, 1833.98GBs</td>\n",
       "      <td>388801 images, 1833.98GBs</td>\n",
       "      <td>None</td>\n",
       "    </tr>\n",
       "  </tbody>\n",
       "</table>\n",
       "</div>"
      ],
      "text/plain": [
       "                             NEMO                       SYNO  \\\n",
       "PS0000      4051 images, 22.89GBs      4051 images, 22.89GBs   \n",
       "ND0000                       None  243649 images, 1152.35GBs   \n",
       "ND0001                       None  975160 images, 5169.90GBs   \n",
       "ND0002  388801 images, 1833.98GBs  388801 images, 1833.98GBs   \n",
       "\n",
       "                            DATA  \n",
       "PS0000  113401 images, 619.25GBs  \n",
       "ND0000   30457 images, 170.80GBs  \n",
       "ND0001                      None  \n",
       "ND0002                      None  "
      ]
     },
     "execution_count": 46,
     "metadata": {},
     "output_type": "execute_result"
    }
   ],
   "source": [
    "data_df = pd.DataFrame(data_dict)\n",
    "# Define a function to format decimal values with two decimal places\n",
    "def format_decimal(str):\n",
    "    if str == '0 images, 0.0':\n",
    "        return None\n",
    "    try:\n",
    "        value = float(str.split(', ')[-1])\n",
    "        len = str.split(', ')[0]\n",
    "        return f'{len}, {value:.2f}GBs'\n",
    "    except ValueError:\n",
    "        pass\n",
    "    return None\n",
    "\n",
    "# Apply the formatting function to all cells in the DataFrame\n",
    "data_df.map(format_decimal)"
   ]
  },
  {
   "cell_type": "code",
   "execution_count": null,
   "id": "cc200c18-2844-42a3-a180-28abe0342344",
   "metadata": {},
   "outputs": [],
   "source": []
  }
 ],
 "metadata": {
  "kernelspec": {
   "display_name": "egg",
   "language": "python",
   "name": "egg"
  },
  "language_info": {
   "codemirror_mode": {
    "name": "ipython",
    "version": 3
   },
   "file_extension": ".py",
   "mimetype": "text/x-python",
   "name": "python",
   "nbconvert_exporter": "python",
   "pygments_lexer": "ipython3",
   "version": "3.9.17"
  }
 },
 "nbformat": 4,
 "nbformat_minor": 5
}
