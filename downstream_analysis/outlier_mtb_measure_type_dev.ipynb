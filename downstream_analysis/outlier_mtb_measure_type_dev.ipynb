{
 "cells": [
  {
   "cell_type": "code",
   "execution_count": 46,
   "id": "faf75eb2",
   "metadata": {},
   "outputs": [],
   "source": [
    "import pandas as pd\n",
    "import seaborn as sns\n",
    "import matplotlib.pyplot as plt\n",
    "import numpy as np\n",
    "from macrohet import visualise, dataio, tile\n",
    "from tqdm.auto import tqdm\n",
    "import os\n",
    "import btrack\n",
    "import json\n",
    "import napari\n",
    "import matplotlib as mpl\n",
    "import matplotlib.patches as patches\n",
    "\n",
    "scale_factor = 6048/1200\n",
    "\n",
    "# Function to calculate gradient for a window\n",
    "def calculate_gradient(window):\n",
    "    y = window\n",
    "    x = np.arange(len(window))\n",
    "    slope, _ = np.polyfit(x, y, 1)\n",
    "    return slope"
   ]
  },
  {
   "cell_type": "markdown",
   "id": "cc69dfe3-8544-427c-86c6-a0f8cc9a92ab",
   "metadata": {},
   "source": [
    "### Set style for plotting"
   ]
  },
  {
   "cell_type": "code",
   "execution_count": 2,
   "id": "241a453a",
   "metadata": {
    "scrolled": true
   },
   "outputs": [
    {
     "data": {
      "image/png": "[encoded data removed]",
      "text/plain": [
       "<Figure size 640x480 with 1 Axes>"
      ]
     },
     "metadata": {},
     "output_type": "display_data"
    },
    {
     "name": "stdout",
     "output_type": "stream",
     "text": [
      "['#1a9641', '#a6d96a', '#978897', '#d1d1ca', '#f1b6da', '#d02c91']\n"
     ]
    }
   ],
   "source": [
    "sns.set(style = 'white')\n",
    "\n",
    "# Set the default font to Helvetica\n",
    "mpl.rcParams['font.family'] = 'Liberation Sans'\n",
    "\n",
    "# Get the color palette of the PiYG color map\n",
    "expanded_piyg = visualise.color_palette('expanded_piyg').colors\n",
    "\n",
    "sns.set_palette(expanded_piyg)\n",
    "\n",
    "# Display the colors in the PiYG color map\n",
    "visualise.show_colors('expanded_piyg')\n",
    "print(expanded_piyg)"
   ]
  },
  {
   "cell_type": "markdown",
   "id": "d7be338f-c8ed-4ffe-a69a-7c17ac2c71a6",
   "metadata": {},
   "source": [
    "### Load sc df"
   ]
  },
  {
   "cell_type": "code",
   "execution_count": 3,
   "id": "cc57c5a6",
   "metadata": {},
   "outputs": [
    {
     "data": {
      "text/html": [
       "<div>\n",
       "<style scoped>\n",
       "    .dataframe tbody tr th:only-of-type {\n",
       "        vertical-align: middle;\n",
       "    }\n",
       "\n",
       "    .dataframe tbody tr th {\n",
       "        vertical-align: top;\n",
       "    }\n",
       "\n",
       "    .dataframe thead th {\n",
       "        text-align: right;\n",
       "    }\n",
       "</style>\n",
       "<table border=\"1\" class=\"dataframe\">\n",
       "  <thead>\n",
       "    <tr style=\"text-align: right;\">\n",
       "      <th></th>\n",
       "      <th>Time (hours)</th>\n",
       "      <th>x</th>\n",
       "      <th>y</th>\n",
       "      <th>x scaled</th>\n",
       "      <th>y scaled</th>\n",
       "      <th>Infection status</th>\n",
       "      <th>Initial infection status</th>\n",
       "      <th>Final infection status</th>\n",
       "      <th>Area</th>\n",
       "      <th>Intracellular mean Mtb content</th>\n",
       "      <th>...</th>\n",
       "      <th>Strain</th>\n",
       "      <th>Compound</th>\n",
       "      <th>Concentration</th>\n",
       "      <th>Technical replicate</th>\n",
       "      <th>Cell ID</th>\n",
       "      <th>Acquisition ID</th>\n",
       "      <th>Unique ID</th>\n",
       "      <th>dMtb</th>\n",
       "      <th>Mtb</th>\n",
       "      <th>Strain/Compound</th>\n",
       "    </tr>\n",
       "  </thead>\n",
       "  <tbody>\n",
       "    <tr>\n",
       "      <th>0</th>\n",
       "      <td>0</td>\n",
       "      <td>457.172943</td>\n",
       "      <td>8.791715</td>\n",
       "      <td>2304.151633</td>\n",
       "      <td>44.310242</td>\n",
       "      <td>1.0</td>\n",
       "      <td>1.0</td>\n",
       "      <td>0.0</td>\n",
       "      <td>20542.0</td>\n",
       "      <td>343.157196</td>\n",
       "      <td>...</td>\n",
       "      <td>RD1</td>\n",
       "      <td>CTRL</td>\n",
       "      <td>EC0</td>\n",
       "      <td>1</td>\n",
       "      <td>426</td>\n",
       "      <td>(3, 4)</td>\n",
       "      <td>426.3.4</td>\n",
       "      <td>0.000586</td>\n",
       "      <td>0.912650</td>\n",
       "      <td>RD1</td>\n",
       "    </tr>\n",
       "    <tr>\n",
       "      <th>1</th>\n",
       "      <td>1</td>\n",
       "      <td>459.138947</td>\n",
       "      <td>6.718642</td>\n",
       "      <td>2314.060291</td>\n",
       "      <td>33.861954</td>\n",
       "      <td>0.0</td>\n",
       "      <td>1.0</td>\n",
       "      <td>0.0</td>\n",
       "      <td>16683.0</td>\n",
       "      <td>344.687042</td>\n",
       "      <td>...</td>\n",
       "      <td>RD1</td>\n",
       "      <td>CTRL</td>\n",
       "      <td>EC0</td>\n",
       "      <td>1</td>\n",
       "      <td>426</td>\n",
       "      <td>(3, 4)</td>\n",
       "      <td>426.3.4</td>\n",
       "      <td>0.000586</td>\n",
       "      <td>0.912650</td>\n",
       "      <td>RD1</td>\n",
       "    </tr>\n",
       "    <tr>\n",
       "      <th>2</th>\n",
       "      <td>2</td>\n",
       "      <td>460.555237</td>\n",
       "      <td>10.785886</td>\n",
       "      <td>2321.198394</td>\n",
       "      <td>54.360864</td>\n",
       "      <td>0.0</td>\n",
       "      <td>1.0</td>\n",
       "      <td>0.0</td>\n",
       "      <td>18935.0</td>\n",
       "      <td>343.875061</td>\n",
       "      <td>...</td>\n",
       "      <td>RD1</td>\n",
       "      <td>CTRL</td>\n",
       "      <td>EC0</td>\n",
       "      <td>1</td>\n",
       "      <td>426</td>\n",
       "      <td>(3, 4)</td>\n",
       "      <td>426.3.4</td>\n",
       "      <td>0.000586</td>\n",
       "      <td>0.912650</td>\n",
       "      <td>RD1</td>\n",
       "    </tr>\n",
       "    <tr>\n",
       "      <th>3</th>\n",
       "      <td>3</td>\n",
       "      <td>455.878815</td>\n",
       "      <td>11.143067</td>\n",
       "      <td>2297.629226</td>\n",
       "      <td>56.161059</td>\n",
       "      <td>1.0</td>\n",
       "      <td>1.0</td>\n",
       "      <td>0.0</td>\n",
       "      <td>19937.0</td>\n",
       "      <td>345.565796</td>\n",
       "      <td>...</td>\n",
       "      <td>RD1</td>\n",
       "      <td>CTRL</td>\n",
       "      <td>EC0</td>\n",
       "      <td>1</td>\n",
       "      <td>426</td>\n",
       "      <td>(3, 4)</td>\n",
       "      <td>426.3.4</td>\n",
       "      <td>0.000586</td>\n",
       "      <td>0.912650</td>\n",
       "      <td>RD1</td>\n",
       "    </tr>\n",
       "    <tr>\n",
       "      <th>4</th>\n",
       "      <td>4</td>\n",
       "      <td>462.634186</td>\n",
       "      <td>14.050420</td>\n",
       "      <td>2331.676296</td>\n",
       "      <td>70.814116</td>\n",
       "      <td>1.0</td>\n",
       "      <td>1.0</td>\n",
       "      <td>0.0</td>\n",
       "      <td>21793.0</td>\n",
       "      <td>350.585083</td>\n",
       "      <td>...</td>\n",
       "      <td>RD1</td>\n",
       "      <td>CTRL</td>\n",
       "      <td>EC0</td>\n",
       "      <td>1</td>\n",
       "      <td>426</td>\n",
       "      <td>(3, 4)</td>\n",
       "      <td>426.3.4</td>\n",
       "      <td>0.000586</td>\n",
       "      <td>0.912650</td>\n",
       "      <td>RD1</td>\n",
       "    </tr>\n",
       "    <tr>\n",
       "      <th>...</th>\n",
       "      <td>...</td>\n",
       "      <td>...</td>\n",
       "      <td>...</td>\n",
       "      <td>...</td>\n",
       "      <td>...</td>\n",
       "      <td>...</td>\n",
       "      <td>...</td>\n",
       "      <td>...</td>\n",
       "      <td>...</td>\n",
       "      <td>...</td>\n",
       "      <td>...</td>\n",
       "      <td>...</td>\n",
       "      <td>...</td>\n",
       "      <td>...</td>\n",
       "      <td>...</td>\n",
       "      <td>...</td>\n",
       "      <td>...</td>\n",
       "      <td>...</td>\n",
       "      <td>...</td>\n",
       "      <td>...</td>\n",
       "      <td>...</td>\n",
       "    </tr>\n",
       "    <tr>\n",
       "      <th>296992</th>\n",
       "      <td>70</td>\n",
       "      <td>628.562500</td>\n",
       "      <td>1099.782104</td>\n",
       "      <td>3167.955000</td>\n",
       "      <td>5542.901807</td>\n",
       "      <td>1.0</td>\n",
       "      <td>0.0</td>\n",
       "      <td>1.0</td>\n",
       "      <td>101991.0</td>\n",
       "      <td>377.731873</td>\n",
       "      <td>...</td>\n",
       "      <td>WT</td>\n",
       "      <td>BDQ</td>\n",
       "      <td>EC99</td>\n",
       "      <td>2</td>\n",
       "      <td>935</td>\n",
       "      <td>(6, 9)</td>\n",
       "      <td>935.6.9</td>\n",
       "      <td>0.000030</td>\n",
       "      <td>5.031497</td>\n",
       "      <td>BDQ</td>\n",
       "    </tr>\n",
       "    <tr>\n",
       "      <th>296993</th>\n",
       "      <td>71</td>\n",
       "      <td>628.463684</td>\n",
       "      <td>1102.144409</td>\n",
       "      <td>3167.456968</td>\n",
       "      <td>5554.807822</td>\n",
       "      <td>1.0</td>\n",
       "      <td>0.0</td>\n",
       "      <td>1.0</td>\n",
       "      <td>100978.0</td>\n",
       "      <td>377.812103</td>\n",
       "      <td>...</td>\n",
       "      <td>WT</td>\n",
       "      <td>BDQ</td>\n",
       "      <td>EC99</td>\n",
       "      <td>2</td>\n",
       "      <td>935</td>\n",
       "      <td>(6, 9)</td>\n",
       "      <td>935.6.9</td>\n",
       "      <td>0.000030</td>\n",
       "      <td>5.274554</td>\n",
       "      <td>BDQ</td>\n",
       "    </tr>\n",
       "    <tr>\n",
       "      <th>296994</th>\n",
       "      <td>72</td>\n",
       "      <td>628.672058</td>\n",
       "      <td>1101.594727</td>\n",
       "      <td>3168.507173</td>\n",
       "      <td>5552.037422</td>\n",
       "      <td>1.0</td>\n",
       "      <td>0.0</td>\n",
       "      <td>1.0</td>\n",
       "      <td>108397.0</td>\n",
       "      <td>376.812805</td>\n",
       "      <td>...</td>\n",
       "      <td>WT</td>\n",
       "      <td>BDQ</td>\n",
       "      <td>EC99</td>\n",
       "      <td>2</td>\n",
       "      <td>935</td>\n",
       "      <td>(6, 9)</td>\n",
       "      <td>935.6.9</td>\n",
       "      <td>0.000030</td>\n",
       "      <td>5.220153</td>\n",
       "      <td>BDQ</td>\n",
       "    </tr>\n",
       "    <tr>\n",
       "      <th>296995</th>\n",
       "      <td>73</td>\n",
       "      <td>630.372803</td>\n",
       "      <td>1102.817749</td>\n",
       "      <td>3177.078926</td>\n",
       "      <td>5558.201455</td>\n",
       "      <td>1.0</td>\n",
       "      <td>0.0</td>\n",
       "      <td>1.0</td>\n",
       "      <td>107079.0</td>\n",
       "      <td>377.437073</td>\n",
       "      <td>...</td>\n",
       "      <td>WT</td>\n",
       "      <td>BDQ</td>\n",
       "      <td>EC99</td>\n",
       "      <td>2</td>\n",
       "      <td>935</td>\n",
       "      <td>(6, 9)</td>\n",
       "      <td>935.6.9</td>\n",
       "      <td>0.000030</td>\n",
       "      <td>5.002094</td>\n",
       "      <td>BDQ</td>\n",
       "    </tr>\n",
       "    <tr>\n",
       "      <th>296996</th>\n",
       "      <td>74</td>\n",
       "      <td>631.163696</td>\n",
       "      <td>1100.681519</td>\n",
       "      <td>3181.065029</td>\n",
       "      <td>5547.434854</td>\n",
       "      <td>1.0</td>\n",
       "      <td>0.0</td>\n",
       "      <td>1.0</td>\n",
       "      <td>101298.0</td>\n",
       "      <td>377.184937</td>\n",
       "      <td>...</td>\n",
       "      <td>WT</td>\n",
       "      <td>BDQ</td>\n",
       "      <td>EC99</td>\n",
       "      <td>2</td>\n",
       "      <td>935</td>\n",
       "      <td>(6, 9)</td>\n",
       "      <td>935.6.9</td>\n",
       "      <td>0.000030</td>\n",
       "      <td>4.985773</td>\n",
       "      <td>BDQ</td>\n",
       "    </tr>\n",
       "  </tbody>\n",
       "</table>\n",
       "<p>296997 rows × 32 columns</p>\n",
       "</div>"
      ],
      "text/plain": [
       "        Time (hours)           x            y     x scaled     y scaled  \\\n",
       "0                  0  457.172943     8.791715  2304.151633    44.310242   \n",
       "1                  1  459.138947     6.718642  2314.060291    33.861954   \n",
       "2                  2  460.555237    10.785886  2321.198394    54.360864   \n",
       "3                  3  455.878815    11.143067  2297.629226    56.161059   \n",
       "4                  4  462.634186    14.050420  2331.676296    70.814116   \n",
       "...              ...         ...          ...          ...          ...   \n",
       "296992            70  628.562500  1099.782104  3167.955000  5542.901807   \n",
       "296993            71  628.463684  1102.144409  3167.456968  5554.807822   \n",
       "296994            72  628.672058  1101.594727  3168.507173  5552.037422   \n",
       "296995            73  630.372803  1102.817749  3177.078926  5558.201455   \n",
       "296996            74  631.163696  1100.681519  3181.065029  5547.434854   \n",
       "\n",
       "        Infection status  Initial infection status  Final infection status  \\\n",
       "0                    1.0                       1.0                     0.0   \n",
       "1                    0.0                       1.0                     0.0   \n",
       "2                    0.0                       1.0                     0.0   \n",
       "3                    1.0                       1.0                     0.0   \n",
       "4                    1.0                       1.0                     0.0   \n",
       "...                  ...                       ...                     ...   \n",
       "296992               1.0                       0.0                     1.0   \n",
       "296993               1.0                       0.0                     1.0   \n",
       "296994               1.0                       0.0                     1.0   \n",
       "296995               1.0                       0.0                     1.0   \n",
       "296996               1.0                       0.0                     1.0   \n",
       "\n",
       "            Area  Intracellular mean Mtb content  ...  Strain  Compound  \\\n",
       "0        20542.0                      343.157196  ...     RD1      CTRL   \n",
       "1        16683.0                      344.687042  ...     RD1      CTRL   \n",
       "2        18935.0                      343.875061  ...     RD1      CTRL   \n",
       "3        19937.0                      345.565796  ...     RD1      CTRL   \n",
       "4        21793.0                      350.585083  ...     RD1      CTRL   \n",
       "...          ...                             ...  ...     ...       ...   \n",
       "296992  101991.0                      377.731873  ...      WT       BDQ   \n",
       "296993  100978.0                      377.812103  ...      WT       BDQ   \n",
       "296994  108397.0                      376.812805  ...      WT       BDQ   \n",
       "296995  107079.0                      377.437073  ...      WT       BDQ   \n",
       "296996  101298.0                      377.184937  ...      WT       BDQ   \n",
       "\n",
       "        Concentration  Technical replicate  Cell ID  Acquisition ID  \\\n",
       "0                 EC0                    1      426          (3, 4)   \n",
       "1                 EC0                    1      426          (3, 4)   \n",
       "2                 EC0                    1      426          (3, 4)   \n",
       "3                 EC0                    1      426          (3, 4)   \n",
       "4                 EC0                    1      426          (3, 4)   \n",
       "...               ...                  ...      ...             ...   \n",
       "296992           EC99                    2      935          (6, 9)   \n",
       "296993           EC99                    2      935          (6, 9)   \n",
       "296994           EC99                    2      935          (6, 9)   \n",
       "296995           EC99                    2      935          (6, 9)   \n",
       "296996           EC99                    2      935          (6, 9)   \n",
       "\n",
       "        Unique ID      dMtb       Mtb  Strain/Compound  \n",
       "0         426.3.4  0.000586  0.912650              RD1  \n",
       "1         426.3.4  0.000586  0.912650              RD1  \n",
       "2         426.3.4  0.000586  0.912650              RD1  \n",
       "3         426.3.4  0.000586  0.912650              RD1  \n",
       "4         426.3.4  0.000586  0.912650              RD1  \n",
       "...           ...       ...       ...              ...  \n",
       "296992    935.6.9  0.000030  5.031497              BDQ  \n",
       "296993    935.6.9  0.000030  5.274554              BDQ  \n",
       "296994    935.6.9  0.000030  5.220153              BDQ  \n",
       "296995    935.6.9  0.000030  5.002094              BDQ  \n",
       "296996    935.6.9  0.000030  4.985773              BDQ  \n",
       "\n",
       "[296997 rows x 32 columns]"
      ]
     },
     "execution_count": 3,
     "metadata": {},
     "output_type": "execute_result"
    }
   ],
   "source": [
    "df = pd.read_pickle('/mnt/DATA/macrohet/results/preliminary_sc_measures/sc_dfs/sc_df_GT_70_interp.pkl')\n",
    "df['dMtb'] = df['delta Mtb max fold-change normalised max area']\n",
    "df['Mtb'] = df['Intracellular thresholded Mtb content smooth']\n",
    "# Assuming your DataFrame is named 'df'\n",
    "df['Strain/Compound'] = df['Compound']  # Create a new column and copy values from 'Compound'\n",
    "# Replace values in 'NewColumn' where 'Strain' is 'RD1' with 'RD1'\n",
    "df.loc[df['Strain'] == 'RD1', 'Strain/Compound'] = 'RD1'\n",
    "df"
   ]
  },
  {
   "cell_type": "markdown",
   "id": "b6c37cfe-3d03-4d47-80b8-09c41ffe7580",
   "metadata": {},
   "source": [
    "### Calculate the maximum gradient for each cell"
   ]
  },
  {
   "cell_type": "code",
   "execution_count": 4,
   "id": "c8062ba8",
   "metadata": {},
   "outputs": [
    {
     "data": {
      "application/vnd.jupyter.widget-view+json": {
       "model_id": "8323df55075542fcb5c723fcfcc32292",
       "version_major": 2,
       "version_minor": 0
      },
      "text/plain": [
       "  0%|          | 0/3988 [00:00<?, ?it/s]"
      ]
     },
     "metadata": {},
     "output_type": "display_data"
    },
    {
     "name": "stdout",
     "output_type": "stream",
     "text": [
      "280.3.5\n",
      "85.4.5\n"
     ]
    }
   ],
   "source": [
    "# df['Max. dMtb gradient'] = np.nan  # Initialize with NaN instead of None\n",
    "for unique_ID in tqdm(df['Unique ID'].unique()):\n",
    "    sc_df = df[df['Unique ID'] == unique_ID]\n",
    "\n",
    "    max_gradient = sc_df['Mtb'].rolling(window=15).apply(calculate_gradient, raw=True).max()\n",
    "    df.loc[df['Unique ID'] == unique_ID, 'Max. dMtb gradient'] = max_gradient\n",
    "    if max_gradient > 120:\n",
    "        print(unique_ID)"
   ]
  },
  {
   "cell_type": "markdown",
   "id": "c6eb182a-0e84-4387-85aa-09ab29f86feb",
   "metadata": {},
   "source": [
    "### Isolate the top ten fastest growers"
   ]
  },
  {
   "cell_type": "code",
   "execution_count": 5,
   "id": "b7dc78d0-8fdc-4aba-ad57-4270e02aa0f5",
   "metadata": {},
   "outputs": [],
   "source": [
    "N = 100\n",
    "top_N_tracks = df.groupby('Unique ID')['Max. dMtb gradient'].max().sort_values(ascending=False).head(N)"
   ]
  },
  {
   "cell_type": "markdown",
   "id": "76a6d9a9-3b41-4e32-a813-412342a9e2fd",
   "metadata": {},
   "source": [
    "## Plot an outlier"
   ]
  },
  {
   "cell_type": "code",
   "execution_count": 6,
   "id": "84c3f148-8245-4d04-aa3b-8778ea224b81",
   "metadata": {},
   "outputs": [],
   "source": [
    "track_id = '264.4.6'"
   ]
  },
  {
   "cell_type": "code",
   "execution_count": 8,
   "id": "4aa67591-0c97-437c-acec-a43e67dd1db6",
   "metadata": {},
   "outputs": [
    {
     "data": {
      "image/png": "[encoded data removed]",
      "text/plain": [
       "<Figure size 1000x400 with 2 Axes>"
      ]
     },
     "metadata": {},
     "output_type": "display_data"
    }
   ],
   "source": [
    "track_data = df[df['Unique ID'] == track_id]\n",
    "\n",
    "# Convert to NumPy array for compatibility\n",
    "time_values = track_data['Time (hours)'].values\n",
    "mtb_values = track_data['Mtb'].values\n",
    "gradient_values = track_data['Mtb'].rolling(window=15).apply(calculate_gradient, raw=True).values\n",
    "\n",
    "# Plotting\n",
    "fig, ax1 = plt.subplots(figsize=(10, 4))\n",
    "\n",
    "# Plot Mtb values\n",
    "color = expanded_piyg[0]\n",
    "ax1.set_xlabel('Time (hours)')\n",
    "ax1.set_ylabel('Mtb Value', color=color)\n",
    "ax1.plot(time_values, mtb_values, label=f'Intracellular Mtb (Unique ID: {track_id})', color=color)\n",
    "ax1.tick_params(axis='y', labelcolor=color)\n",
    "for i in ['Intracellular mean Mtb content',\n",
    "       'Intracellular thresholded Mtb content',\n",
    "       'Intracellular thresholded Mtb content smooth']:\n",
    "    ax1.plot(time_values, track_data[i].values, label = i)\n",
    "\n",
    "# Create a twin axis for the gradient\n",
    "ax2 = ax1.twinx() \n",
    "color = expanded_piyg[-1]\n",
    "ax2.set_ylabel('Gradient', color=color)  \n",
    "ax2.plot(time_values, gradient_values, label='Gradient', color=color)\n",
    "ax2.tick_params(axis='y', labelcolor=color)\n",
    "\n",
    "ax1.legend(loc='upper left')\n",
    "ax2.legend(loc='lower right')\n",
    "\n",
    "plt.title(f'Mtb and Gradient vs Time for Track {track_id}')\n",
    "fig.tight_layout()\n",
    "sns.despine(offset = 10, right = False)\n",
    "plt.show()"
   ]
  },
  {
   "cell_type": "markdown",
   "id": "8a4981df-047d-47c1-8e06-eb62901377fc",
   "metadata": {},
   "source": [
    "### What does this cell look like when the area of Mtb is plotted?"
   ]
  },
  {
   "cell_type": "code",
   "execution_count": 10,
   "id": "0315dcff-d972-4fc8-b0d7-a82172ac65e3",
   "metadata": {},
   "outputs": [
    {
     "data": {
      "text/plain": [
       "Index(['Time (hours)', 'x', 'y', 'x scaled', 'y scaled', 'Infection status',\n",
       "       'Initial infection status', 'Final infection status', 'Area',\n",
       "       'Intracellular mean Mtb content',\n",
       "       'Intracellular thresholded Mtb content',\n",
       "       'Intracellular thresholded Mtb content smooth',\n",
       "       'Macroph. GFP expression', 'delta Mtb raw', 'delta Mtb max raw',\n",
       "       'delta Mtb max smooth', 'delta Mtb max fold-change',\n",
       "       'delta Mtb max fold-change normalised mean area',\n",
       "       'delta Mtb max fold-change normalised max area', 'delta Mtb/dt',\n",
       "       'Eccentricity', 'MSD', 'Strain', 'Compound', 'Concentration',\n",
       "       'Technical replicate', 'Cell ID', 'Acquisition ID', 'Unique ID', 'dMtb',\n",
       "       'Mtb', 'Strain/Compound', 'Max. dMtb gradient'],\n",
       "      dtype='object')"
      ]
     },
     "execution_count": 10,
     "metadata": {},
     "output_type": "execute_result"
    }
   ],
   "source": [
    "track_data.keys()"
   ]
  },
  {
   "cell_type": "code",
   "execution_count": 9,
   "id": "42f2913c-6601-4436-959d-5105181cf1eb",
   "metadata": {
    "scrolled": true
   },
   "outputs": [
    {
     "name": "stdout",
     "output_type": "stream",
     "text": [
      "Reading metadata XML file...\n",
      "Extracting metadata complete!\n"
     ]
    },
    {
     "data": {
      "text/html": [
       "<div>\n",
       "<style scoped>\n",
       "    .dataframe tbody tr th:only-of-type {\n",
       "        vertical-align: middle;\n",
       "    }\n",
       "\n",
       "    .dataframe tbody tr th {\n",
       "        vertical-align: top;\n",
       "    }\n",
       "\n",
       "    .dataframe thead th {\n",
       "        text-align: right;\n",
       "    }\n",
       "</style>\n",
       "<table border=\"1\" class=\"dataframe\">\n",
       "  <thead>\n",
       "    <tr style=\"text-align: right;\">\n",
       "      <th></th>\n",
       "      <th></th>\n",
       "      <th>Strain</th>\n",
       "      <th>Compound</th>\n",
       "      <th>Concentration</th>\n",
       "      <th>ConcentrationEC</th>\n",
       "    </tr>\n",
       "    <tr>\n",
       "      <th>Row</th>\n",
       "      <th>Column</th>\n",
       "      <th></th>\n",
       "      <th></th>\n",
       "      <th></th>\n",
       "      <th></th>\n",
       "    </tr>\n",
       "  </thead>\n",
       "  <tbody>\n",
       "    <tr>\n",
       "      <th rowspan=\"6\" valign=\"top\">3</th>\n",
       "      <th>4</th>\n",
       "      <td>RD1</td>\n",
       "      <td>CTRL</td>\n",
       "      <td>0</td>\n",
       "      <td>EC0</td>\n",
       "    </tr>\n",
       "    <tr>\n",
       "      <th>5</th>\n",
       "      <td>WT</td>\n",
       "      <td>CTRL</td>\n",
       "      <td>0</td>\n",
       "      <td>EC0</td>\n",
       "    </tr>\n",
       "    <tr>\n",
       "      <th>6</th>\n",
       "      <td>WT</td>\n",
       "      <td>PZA</td>\n",
       "      <td>60</td>\n",
       "      <td>EC50</td>\n",
       "    </tr>\n",
       "    <tr>\n",
       "      <th>7</th>\n",
       "      <td>WT</td>\n",
       "      <td>RIF</td>\n",
       "      <td>0.1</td>\n",
       "      <td>EC50</td>\n",
       "    </tr>\n",
       "    <tr>\n",
       "      <th>8</th>\n",
       "      <td>WT</td>\n",
       "      <td>INH</td>\n",
       "      <td>0.04</td>\n",
       "      <td>EC50</td>\n",
       "    </tr>\n",
       "    <tr>\n",
       "      <th>9</th>\n",
       "      <td>WT</td>\n",
       "      <td>BDQ</td>\n",
       "      <td>0.02</td>\n",
       "      <td>EC50</td>\n",
       "    </tr>\n",
       "    <tr>\n",
       "      <th rowspan=\"6\" valign=\"top\">4</th>\n",
       "      <th>4</th>\n",
       "      <td>RD1</td>\n",
       "      <td>CTRL</td>\n",
       "      <td>0</td>\n",
       "      <td>EC0</td>\n",
       "    </tr>\n",
       "    <tr>\n",
       "      <th>5</th>\n",
       "      <td>WT</td>\n",
       "      <td>CTRL</td>\n",
       "      <td>0</td>\n",
       "      <td>EC0</td>\n",
       "    </tr>\n",
       "    <tr>\n",
       "      <th>6</th>\n",
       "      <td>WT</td>\n",
       "      <td>PZA</td>\n",
       "      <td>60</td>\n",
       "      <td>EC50</td>\n",
       "    </tr>\n",
       "    <tr>\n",
       "      <th>7</th>\n",
       "      <td>WT</td>\n",
       "      <td>RIF</td>\n",
       "      <td>0.1</td>\n",
       "      <td>EC50</td>\n",
       "    </tr>\n",
       "    <tr>\n",
       "      <th>8</th>\n",
       "      <td>WT</td>\n",
       "      <td>INH</td>\n",
       "      <td>0.04</td>\n",
       "      <td>EC50</td>\n",
       "    </tr>\n",
       "    <tr>\n",
       "      <th>9</th>\n",
       "      <td>WT</td>\n",
       "      <td>BDQ</td>\n",
       "      <td>0.02</td>\n",
       "      <td>EC50</td>\n",
       "    </tr>\n",
       "    <tr>\n",
       "      <th rowspan=\"6\" valign=\"top\">5</th>\n",
       "      <th>4</th>\n",
       "      <td>RD1</td>\n",
       "      <td>CTRL</td>\n",
       "      <td>0</td>\n",
       "      <td>EC0</td>\n",
       "    </tr>\n",
       "    <tr>\n",
       "      <th>5</th>\n",
       "      <td>WT</td>\n",
       "      <td>CTRL</td>\n",
       "      <td>0</td>\n",
       "      <td>EC0</td>\n",
       "    </tr>\n",
       "    <tr>\n",
       "      <th>6</th>\n",
       "      <td>WT</td>\n",
       "      <td>PZA</td>\n",
       "      <td>400</td>\n",
       "      <td>EC99</td>\n",
       "    </tr>\n",
       "    <tr>\n",
       "      <th>7</th>\n",
       "      <td>WT</td>\n",
       "      <td>RIF</td>\n",
       "      <td>2</td>\n",
       "      <td>EC99</td>\n",
       "    </tr>\n",
       "    <tr>\n",
       "      <th>8</th>\n",
       "      <td>WT</td>\n",
       "      <td>INH</td>\n",
       "      <td>2</td>\n",
       "      <td>EC99</td>\n",
       "    </tr>\n",
       "    <tr>\n",
       "      <th>9</th>\n",
       "      <td>WT</td>\n",
       "      <td>BDQ</td>\n",
       "      <td>2.5</td>\n",
       "      <td>EC99</td>\n",
       "    </tr>\n",
       "    <tr>\n",
       "      <th rowspan=\"6\" valign=\"top\">6</th>\n",
       "      <th>4</th>\n",
       "      <td>RD1</td>\n",
       "      <td>CTRL</td>\n",
       "      <td>0</td>\n",
       "      <td>EC0</td>\n",
       "    </tr>\n",
       "    <tr>\n",
       "      <th>5</th>\n",
       "      <td>WT</td>\n",
       "      <td>CTRL</td>\n",
       "      <td>0</td>\n",
       "      <td>EC0</td>\n",
       "    </tr>\n",
       "    <tr>\n",
       "      <th>6</th>\n",
       "      <td>WT</td>\n",
       "      <td>PZA</td>\n",
       "      <td>400</td>\n",
       "      <td>EC99</td>\n",
       "    </tr>\n",
       "    <tr>\n",
       "      <th>7</th>\n",
       "      <td>WT</td>\n",
       "      <td>RIF</td>\n",
       "      <td>2</td>\n",
       "      <td>EC99</td>\n",
       "    </tr>\n",
       "    <tr>\n",
       "      <th>8</th>\n",
       "      <td>WT</td>\n",
       "      <td>INH</td>\n",
       "      <td>2</td>\n",
       "      <td>EC99</td>\n",
       "    </tr>\n",
       "    <tr>\n",
       "      <th>9</th>\n",
       "      <td>WT</td>\n",
       "      <td>BDQ</td>\n",
       "      <td>2.5</td>\n",
       "      <td>EC99</td>\n",
       "    </tr>\n",
       "  </tbody>\n",
       "</table>\n",
       "</div>"
      ],
      "text/plain": [
       "           Strain Compound Concentration ConcentrationEC\n",
       "Row Column                                              \n",
       "3   4         RD1     CTRL             0             EC0\n",
       "    5          WT     CTRL             0             EC0\n",
       "    6          WT      PZA            60            EC50\n",
       "    7          WT      RIF           0.1            EC50\n",
       "    8          WT      INH          0.04            EC50\n",
       "    9          WT      BDQ          0.02            EC50\n",
       "4   4         RD1     CTRL             0             EC0\n",
       "    5          WT     CTRL             0             EC0\n",
       "    6          WT      PZA            60            EC50\n",
       "    7          WT      RIF           0.1            EC50\n",
       "    8          WT      INH          0.04            EC50\n",
       "    9          WT      BDQ          0.02            EC50\n",
       "5   4         RD1     CTRL             0             EC0\n",
       "    5          WT     CTRL             0             EC0\n",
       "    6          WT      PZA           400            EC99\n",
       "    7          WT      RIF             2            EC99\n",
       "    8          WT      INH             2            EC99\n",
       "    9          WT      BDQ           2.5            EC99\n",
       "6   4         RD1     CTRL             0             EC0\n",
       "    5          WT     CTRL             0             EC0\n",
       "    6          WT      PZA           400            EC99\n",
       "    7          WT      RIF             2            EC99\n",
       "    8          WT      INH             2            EC99\n",
       "    9          WT      BDQ           2.5            EC99"
      ]
     },
     "execution_count": 9,
     "metadata": {},
     "output_type": "execute_result"
    }
   ],
   "source": [
    "base_dir = '/mnt/DATA/macrohet/macrohet_images/PS0000/'\n",
    "metadata_path = os.path.join(base_dir, 'Assaylayout/20210602_Live_cell_IPSDMGFP_ATB.xml')\n",
    "assay_layout = dataio.read_harmony_metadata(metadata_path, assay_layout=True,)# mask_exist=True,  image_dir = image_dir, image_metadata = metadata)\n",
    "assay_layout"
   ]
  },
  {
   "cell_type": "code",
   "execution_count": 10,
   "id": "e15e736e-728e-4c78-83ce-50beafc84cde",
   "metadata": {},
   "outputs": [
    {
     "name": "stdout",
     "output_type": "stream",
     "text": [
      "Reading metadata XML file...\n"
     ]
    },
    {
     "data": {
      "application/vnd.jupyter.widget-view+json": {
       "model_id": "5fbf46e99cf7482abe8fd419782545d1",
       "version_major": 2,
       "version_minor": 0
      },
      "text/plain": [
       "Extracting HarmonyV5 metadata:   0%|          | 0/113400 [00:00<?, ?it/s]"
      ]
     },
     "metadata": {},
     "output_type": "display_data"
    },
    {
     "name": "stdout",
     "output_type": "stream",
     "text": [
      "Extracting metadata complete!\n"
     ]
    },
    {
     "data": {
      "text/html": [
       "<div>\n",
       "<style scoped>\n",
       "    .dataframe tbody tr th:only-of-type {\n",
       "        vertical-align: middle;\n",
       "    }\n",
       "\n",
       "    .dataframe tbody tr th {\n",
       "        vertical-align: top;\n",
       "    }\n",
       "\n",
       "    .dataframe thead th {\n",
       "        text-align: right;\n",
       "    }\n",
       "</style>\n",
       "<table border=\"1\" class=\"dataframe\">\n",
       "  <thead>\n",
       "    <tr style=\"text-align: right;\">\n",
       "      <th></th>\n",
       "      <th>id</th>\n",
       "      <th>State</th>\n",
       "      <th>URL</th>\n",
       "      <th>Row</th>\n",
       "      <th>Col</th>\n",
       "      <th>FieldID</th>\n",
       "      <th>PlaneID</th>\n",
       "      <th>TimepointID</th>\n",
       "      <th>ChannelID</th>\n",
       "      <th>FlimID</th>\n",
       "      <th>...</th>\n",
       "      <th>PositionZ</th>\n",
       "      <th>AbsPositionZ</th>\n",
       "      <th>MeasurementTimeOffset</th>\n",
       "      <th>AbsTime</th>\n",
       "      <th>MainExcitationWavelength</th>\n",
       "      <th>MainEmissionWavelength</th>\n",
       "      <th>ObjectiveMagnification</th>\n",
       "      <th>ObjectiveNA</th>\n",
       "      <th>ExposureTime</th>\n",
       "      <th>OrientationMatrix</th>\n",
       "    </tr>\n",
       "  </thead>\n",
       "  <tbody>\n",
       "    <tr>\n",
       "      <th>0</th>\n",
       "      <td>0303K1F1P1R1</td>\n",
       "      <td>Ok</td>\n",
       "      <td>r03c03f01p01-ch1sk1fk1fl1.tiff</td>\n",
       "      <td>3</td>\n",
       "      <td>3</td>\n",
       "      <td>1</td>\n",
       "      <td>1</td>\n",
       "      <td>0</td>\n",
       "      <td>1</td>\n",
       "      <td>1</td>\n",
       "      <td>...</td>\n",
       "      <td>0</td>\n",
       "      <td>0.135583505</td>\n",
       "      <td>0</td>\n",
       "      <td>2021-04-16T19:09:33.84+01:00</td>\n",
       "      <td>488</td>\n",
       "      <td>522</td>\n",
       "      <td>40</td>\n",
       "      <td>1.1</td>\n",
       "      <td>0.1</td>\n",
       "      <td>[[0.990860,0,0,-15.9],[0,-0.990860,0,-44.8],[0...</td>\n",
       "    </tr>\n",
       "    <tr>\n",
       "      <th>1</th>\n",
       "      <td>0303K1F1P1R2</td>\n",
       "      <td>Ok</td>\n",
       "      <td>r03c03f01p01-ch2sk1fk1fl1.tiff</td>\n",
       "      <td>3</td>\n",
       "      <td>3</td>\n",
       "      <td>1</td>\n",
       "      <td>1</td>\n",
       "      <td>0</td>\n",
       "      <td>2</td>\n",
       "      <td>1</td>\n",
       "      <td>...</td>\n",
       "      <td>0</td>\n",
       "      <td>0.135583505</td>\n",
       "      <td>0</td>\n",
       "      <td>2021-04-16T19:09:33.84+01:00</td>\n",
       "      <td>640</td>\n",
       "      <td>706</td>\n",
       "      <td>40</td>\n",
       "      <td>1.1</td>\n",
       "      <td>0.2</td>\n",
       "      <td>[[0.990860,0,0,-15.9],[0,-0.990860,0,-44.8],[0...</td>\n",
       "    </tr>\n",
       "    <tr>\n",
       "      <th>2</th>\n",
       "      <td>0303K1F1P2R1</td>\n",
       "      <td>Ok</td>\n",
       "      <td>r03c03f01p02-ch1sk1fk1fl1.tiff</td>\n",
       "      <td>3</td>\n",
       "      <td>3</td>\n",
       "      <td>1</td>\n",
       "      <td>2</td>\n",
       "      <td>0</td>\n",
       "      <td>1</td>\n",
       "      <td>1</td>\n",
       "      <td>...</td>\n",
       "      <td>2E-06</td>\n",
       "      <td>0.135585502</td>\n",
       "      <td>0</td>\n",
       "      <td>2021-04-16T19:09:34.12+01:00</td>\n",
       "      <td>488</td>\n",
       "      <td>522</td>\n",
       "      <td>40</td>\n",
       "      <td>1.1</td>\n",
       "      <td>0.1</td>\n",
       "      <td>[[0.990860,0,0,-15.9],[0,-0.990860,0,-44.8],[0...</td>\n",
       "    </tr>\n",
       "    <tr>\n",
       "      <th>3</th>\n",
       "      <td>0303K1F1P2R2</td>\n",
       "      <td>Ok</td>\n",
       "      <td>r03c03f01p02-ch2sk1fk1fl1.tiff</td>\n",
       "      <td>3</td>\n",
       "      <td>3</td>\n",
       "      <td>1</td>\n",
       "      <td>2</td>\n",
       "      <td>0</td>\n",
       "      <td>2</td>\n",
       "      <td>1</td>\n",
       "      <td>...</td>\n",
       "      <td>2E-06</td>\n",
       "      <td>0.135585502</td>\n",
       "      <td>0</td>\n",
       "      <td>2021-04-16T19:09:34.12+01:00</td>\n",
       "      <td>640</td>\n",
       "      <td>706</td>\n",
       "      <td>40</td>\n",
       "      <td>1.1</td>\n",
       "      <td>0.2</td>\n",
       "      <td>[[0.990860,0,0,-15.9],[0,-0.990860,0,-44.8],[0...</td>\n",
       "    </tr>\n",
       "    <tr>\n",
       "      <th>4</th>\n",
       "      <td>0303K1F1P3R1</td>\n",
       "      <td>Ok</td>\n",
       "      <td>r03c03f01p03-ch1sk1fk1fl1.tiff</td>\n",
       "      <td>3</td>\n",
       "      <td>3</td>\n",
       "      <td>1</td>\n",
       "      <td>3</td>\n",
       "      <td>0</td>\n",
       "      <td>1</td>\n",
       "      <td>1</td>\n",
       "      <td>...</td>\n",
       "      <td>4E-06</td>\n",
       "      <td>0.135587499</td>\n",
       "      <td>0</td>\n",
       "      <td>2021-04-16T19:09:34.4+01:00</td>\n",
       "      <td>488</td>\n",
       "      <td>522</td>\n",
       "      <td>40</td>\n",
       "      <td>1.1</td>\n",
       "      <td>0.1</td>\n",
       "      <td>[[0.990860,0,0,-15.9],[0,-0.990860,0,-44.8],[0...</td>\n",
       "    </tr>\n",
       "    <tr>\n",
       "      <th>...</th>\n",
       "      <td>...</td>\n",
       "      <td>...</td>\n",
       "      <td>...</td>\n",
       "      <td>...</td>\n",
       "      <td>...</td>\n",
       "      <td>...</td>\n",
       "      <td>...</td>\n",
       "      <td>...</td>\n",
       "      <td>...</td>\n",
       "      <td>...</td>\n",
       "      <td>...</td>\n",
       "      <td>...</td>\n",
       "      <td>...</td>\n",
       "      <td>...</td>\n",
       "      <td>...</td>\n",
       "      <td>...</td>\n",
       "      <td>...</td>\n",
       "      <td>...</td>\n",
       "      <td>...</td>\n",
       "      <td>...</td>\n",
       "      <td>...</td>\n",
       "    </tr>\n",
       "    <tr>\n",
       "      <th>113395</th>\n",
       "      <td>0609K75F9P1R2</td>\n",
       "      <td>Ok</td>\n",
       "      <td>r06c09f09p01-ch2sk75fk1fl1.tiff</td>\n",
       "      <td>6</td>\n",
       "      <td>9</td>\n",
       "      <td>9</td>\n",
       "      <td>1</td>\n",
       "      <td>74</td>\n",
       "      <td>2</td>\n",
       "      <td>1</td>\n",
       "      <td>...</td>\n",
       "      <td>0</td>\n",
       "      <td>0.135533601</td>\n",
       "      <td>266399.61</td>\n",
       "      <td>2021-04-19T21:14:19.477+01:00</td>\n",
       "      <td>640</td>\n",
       "      <td>706</td>\n",
       "      <td>40</td>\n",
       "      <td>1.1</td>\n",
       "      <td>0.2</td>\n",
       "      <td>[[0.990860,0,0,-15.9],[0,-0.990860,0,-44.8],[0...</td>\n",
       "    </tr>\n",
       "    <tr>\n",
       "      <th>113396</th>\n",
       "      <td>0609K75F9P2R1</td>\n",
       "      <td>Ok</td>\n",
       "      <td>r06c09f09p02-ch1sk75fk1fl1.tiff</td>\n",
       "      <td>6</td>\n",
       "      <td>9</td>\n",
       "      <td>9</td>\n",
       "      <td>2</td>\n",
       "      <td>74</td>\n",
       "      <td>1</td>\n",
       "      <td>1</td>\n",
       "      <td>...</td>\n",
       "      <td>2E-06</td>\n",
       "      <td>0.135535598</td>\n",
       "      <td>266399.61</td>\n",
       "      <td>2021-04-19T21:14:19.757+01:00</td>\n",
       "      <td>488</td>\n",
       "      <td>522</td>\n",
       "      <td>40</td>\n",
       "      <td>1.1</td>\n",
       "      <td>0.1</td>\n",
       "      <td>[[0.990860,0,0,-15.9],[0,-0.990860,0,-44.8],[0...</td>\n",
       "    </tr>\n",
       "    <tr>\n",
       "      <th>113397</th>\n",
       "      <td>0609K75F9P2R2</td>\n",
       "      <td>Ok</td>\n",
       "      <td>r06c09f09p02-ch2sk75fk1fl1.tiff</td>\n",
       "      <td>6</td>\n",
       "      <td>9</td>\n",
       "      <td>9</td>\n",
       "      <td>2</td>\n",
       "      <td>74</td>\n",
       "      <td>2</td>\n",
       "      <td>1</td>\n",
       "      <td>...</td>\n",
       "      <td>2E-06</td>\n",
       "      <td>0.135535598</td>\n",
       "      <td>266399.61</td>\n",
       "      <td>2021-04-19T21:14:19.757+01:00</td>\n",
       "      <td>640</td>\n",
       "      <td>706</td>\n",
       "      <td>40</td>\n",
       "      <td>1.1</td>\n",
       "      <td>0.2</td>\n",
       "      <td>[[0.990860,0,0,-15.9],[0,-0.990860,0,-44.8],[0...</td>\n",
       "    </tr>\n",
       "    <tr>\n",
       "      <th>113398</th>\n",
       "      <td>0609K75F9P3R1</td>\n",
       "      <td>Ok</td>\n",
       "      <td>r06c09f09p03-ch1sk75fk1fl1.tiff</td>\n",
       "      <td>6</td>\n",
       "      <td>9</td>\n",
       "      <td>9</td>\n",
       "      <td>3</td>\n",
       "      <td>74</td>\n",
       "      <td>1</td>\n",
       "      <td>1</td>\n",
       "      <td>...</td>\n",
       "      <td>4E-06</td>\n",
       "      <td>0.135537595</td>\n",
       "      <td>266399.61</td>\n",
       "      <td>2021-04-19T21:14:20.037+01:00</td>\n",
       "      <td>488</td>\n",
       "      <td>522</td>\n",
       "      <td>40</td>\n",
       "      <td>1.1</td>\n",
       "      <td>0.1</td>\n",
       "      <td>[[0.990860,0,0,-15.9],[0,-0.990860,0,-44.8],[0...</td>\n",
       "    </tr>\n",
       "    <tr>\n",
       "      <th>113399</th>\n",
       "      <td>0609K75F9P3R2</td>\n",
       "      <td>Ok</td>\n",
       "      <td>r06c09f09p03-ch2sk75fk1fl1.tiff</td>\n",
       "      <td>6</td>\n",
       "      <td>9</td>\n",
       "      <td>9</td>\n",
       "      <td>3</td>\n",
       "      <td>74</td>\n",
       "      <td>2</td>\n",
       "      <td>1</td>\n",
       "      <td>...</td>\n",
       "      <td>4E-06</td>\n",
       "      <td>0.135537595</td>\n",
       "      <td>266399.61</td>\n",
       "      <td>2021-04-19T21:14:20.037+01:00</td>\n",
       "      <td>640</td>\n",
       "      <td>706</td>\n",
       "      <td>40</td>\n",
       "      <td>1.1</td>\n",
       "      <td>0.2</td>\n",
       "      <td>[[0.990860,0,0,-15.9],[0,-0.990860,0,-44.8],[0...</td>\n",
       "    </tr>\n",
       "  </tbody>\n",
       "</table>\n",
       "<p>113400 rows × 35 columns</p>\n",
       "</div>"
      ],
      "text/plain": [
       "                   id State                              URL Row Col FieldID  \\\n",
       "0        0303K1F1P1R1    Ok   r03c03f01p01-ch1sk1fk1fl1.tiff   3   3       1   \n",
       "1        0303K1F1P1R2    Ok   r03c03f01p01-ch2sk1fk1fl1.tiff   3   3       1   \n",
       "2        0303K1F1P2R1    Ok   r03c03f01p02-ch1sk1fk1fl1.tiff   3   3       1   \n",
       "3        0303K1F1P2R2    Ok   r03c03f01p02-ch2sk1fk1fl1.tiff   3   3       1   \n",
       "4        0303K1F1P3R1    Ok   r03c03f01p03-ch1sk1fk1fl1.tiff   3   3       1   \n",
       "...               ...   ...                              ...  ..  ..     ...   \n",
       "113395  0609K75F9P1R2    Ok  r06c09f09p01-ch2sk75fk1fl1.tiff   6   9       9   \n",
       "113396  0609K75F9P2R1    Ok  r06c09f09p02-ch1sk75fk1fl1.tiff   6   9       9   \n",
       "113397  0609K75F9P2R2    Ok  r06c09f09p02-ch2sk75fk1fl1.tiff   6   9       9   \n",
       "113398  0609K75F9P3R1    Ok  r06c09f09p03-ch1sk75fk1fl1.tiff   6   9       9   \n",
       "113399  0609K75F9P3R2    Ok  r06c09f09p03-ch2sk75fk1fl1.tiff   6   9       9   \n",
       "\n",
       "       PlaneID TimepointID ChannelID FlimID  ... PositionZ AbsPositionZ  \\\n",
       "0            1           0         1      1  ...         0  0.135583505   \n",
       "1            1           0         2      1  ...         0  0.135583505   \n",
       "2            2           0         1      1  ...     2E-06  0.135585502   \n",
       "3            2           0         2      1  ...     2E-06  0.135585502   \n",
       "4            3           0         1      1  ...     4E-06  0.135587499   \n",
       "...        ...         ...       ...    ...  ...       ...          ...   \n",
       "113395       1          74         2      1  ...         0  0.135533601   \n",
       "113396       2          74         1      1  ...     2E-06  0.135535598   \n",
       "113397       2          74         2      1  ...     2E-06  0.135535598   \n",
       "113398       3          74         1      1  ...     4E-06  0.135537595   \n",
       "113399       3          74         2      1  ...     4E-06  0.135537595   \n",
       "\n",
       "       MeasurementTimeOffset                        AbsTime  \\\n",
       "0                          0   2021-04-16T19:09:33.84+01:00   \n",
       "1                          0   2021-04-16T19:09:33.84+01:00   \n",
       "2                          0   2021-04-16T19:09:34.12+01:00   \n",
       "3                          0   2021-04-16T19:09:34.12+01:00   \n",
       "4                          0    2021-04-16T19:09:34.4+01:00   \n",
       "...                      ...                            ...   \n",
       "113395             266399.61  2021-04-19T21:14:19.477+01:00   \n",
       "113396             266399.61  2021-04-19T21:14:19.757+01:00   \n",
       "113397             266399.61  2021-04-19T21:14:19.757+01:00   \n",
       "113398             266399.61  2021-04-19T21:14:20.037+01:00   \n",
       "113399             266399.61  2021-04-19T21:14:20.037+01:00   \n",
       "\n",
       "       MainExcitationWavelength MainEmissionWavelength ObjectiveMagnification  \\\n",
       "0                           488                    522                     40   \n",
       "1                           640                    706                     40   \n",
       "2                           488                    522                     40   \n",
       "3                           640                    706                     40   \n",
       "4                           488                    522                     40   \n",
       "...                         ...                    ...                    ...   \n",
       "113395                      640                    706                     40   \n",
       "113396                      488                    522                     40   \n",
       "113397                      640                    706                     40   \n",
       "113398                      488                    522                     40   \n",
       "113399                      640                    706                     40   \n",
       "\n",
       "       ObjectiveNA ExposureTime  \\\n",
       "0              1.1          0.1   \n",
       "1              1.1          0.2   \n",
       "2              1.1          0.1   \n",
       "3              1.1          0.2   \n",
       "4              1.1          0.1   \n",
       "...            ...          ...   \n",
       "113395         1.1          0.2   \n",
       "113396         1.1          0.1   \n",
       "113397         1.1          0.2   \n",
       "113398         1.1          0.1   \n",
       "113399         1.1          0.2   \n",
       "\n",
       "                                        OrientationMatrix  \n",
       "0       [[0.990860,0,0,-15.9],[0,-0.990860,0,-44.8],[0...  \n",
       "1       [[0.990860,0,0,-15.9],[0,-0.990860,0,-44.8],[0...  \n",
       "2       [[0.990860,0,0,-15.9],[0,-0.990860,0,-44.8],[0...  \n",
       "3       [[0.990860,0,0,-15.9],[0,-0.990860,0,-44.8],[0...  \n",
       "4       [[0.990860,0,0,-15.9],[0,-0.990860,0,-44.8],[0...  \n",
       "...                                                   ...  \n",
       "113395  [[0.990860,0,0,-15.9],[0,-0.990860,0,-44.8],[0...  \n",
       "113396  [[0.990860,0,0,-15.9],[0,-0.990860,0,-44.8],[0...  \n",
       "113397  [[0.990860,0,0,-15.9],[0,-0.990860,0,-44.8],[0...  \n",
       "113398  [[0.990860,0,0,-15.9],[0,-0.990860,0,-44.8],[0...  \n",
       "113399  [[0.990860,0,0,-15.9],[0,-0.990860,0,-44.8],[0...  \n",
       "\n",
       "[113400 rows x 35 columns]"
      ]
     },
     "execution_count": 10,
     "metadata": {},
     "output_type": "execute_result"
    }
   ],
   "source": [
    "metadata_fn = os.path.join(base_dir, 'Images/Index.idx.xml')\n",
    "metadata = dataio.read_harmony_metadata(metadata_fn)  \n",
    "metadata"
   ]
  },
  {
   "cell_type": "code",
   "execution_count": 89,
   "id": "69e7bc95-22b2-4e7f-b324-d350d528ce5e",
   "metadata": {},
   "outputs": [
    {
     "data": {
      "application/vnd.jupyter.widget-view+json": {
       "model_id": "2faa611894c3404fb6ffac4e52510ae0",
       "version_major": 2,
       "version_minor": 0
      },
      "text/plain": [
       "Progress through positions:   0%|          | 0/24 [00:00<?, ?it/s]"
      ]
     },
     "metadata": {},
     "output_type": "display_data"
    },
    {
     "name": "stderr",
     "output_type": "stream",
     "text": [
      "[INFO][2023/11/23 05:07:53 pm] Opening HDF file: /mnt/DATA/macrohet/labels/PS0000/macrohet_seg_model/(3, 4).h5...\n",
      "INFO:btrack.io.hdf:Opening HDF file: /mnt/DATA/macrohet/labels/PS0000/macrohet_seg_model/(3, 4).h5...\n",
      "[INFO][2023/11/23 05:07:53 pm] Loading tracks/obj_type_1\n",
      "INFO:btrack.io.hdf:Loading tracks/obj_type_1\n",
      "[INFO][2023/11/23 05:07:53 pm] Loading LBEP/obj_type_1\n",
      "INFO:btrack.io.hdf:Loading LBEP/obj_type_1\n",
      "[INFO][2023/11/23 05:07:53 pm] Loading objects/obj_type_1 (39878, 5) (39878 filtered: None)\n",
      "INFO:btrack.io.hdf:Loading objects/obj_type_1 (39878, 5) (39878 filtered: None)\n",
      "[INFO][2023/11/23 05:08:03 pm] Loading segmentation (75, 6048, 6048)\n",
      "INFO:btrack.io.hdf:Loading segmentation (75, 6048, 6048)\n",
      "[INFO][2023/11/23 05:08:03 pm] Closing HDF file: /mnt/DATA/macrohet/labels/PS0000/macrohet_seg_model/(3, 4).h5\n",
      "INFO:btrack.io.hdf:Closing HDF file: /mnt/DATA/macrohet/labels/PS0000/macrohet_seg_model/(3, 4).h5\n",
      "[INFO][2023/11/23 05:08:03 pm] Opening HDF file: /mnt/DATA/macrohet/labels/PS0000/macrohet_seg_model/(3, 5).h5...\n",
      "INFO:btrack.io.hdf:Opening HDF file: /mnt/DATA/macrohet/labels/PS0000/macrohet_seg_model/(3, 5).h5...\n",
      "[INFO][2023/11/23 05:08:03 pm] Loading tracks/obj_type_1\n",
      "INFO:btrack.io.hdf:Loading tracks/obj_type_1\n",
      "[INFO][2023/11/23 05:08:03 pm] Loading LBEP/obj_type_1\n",
      "INFO:btrack.io.hdf:Loading LBEP/obj_type_1\n",
      "[INFO][2023/11/23 05:08:09 pm] Loading objects/obj_type_1 (41424, 5) (41424 filtered: None)\n",
      "INFO:btrack.io.hdf:Loading objects/obj_type_1 (41424, 5) (41424 filtered: None)\n",
      "[INFO][2023/11/23 05:08:18 pm] Loading segmentation (75, 6048, 6048)\n",
      "INFO:btrack.io.hdf:Loading segmentation (75, 6048, 6048)\n",
      "[INFO][2023/11/23 05:08:18 pm] Closing HDF file: /mnt/DATA/macrohet/labels/PS0000/macrohet_seg_model/(3, 5).h5\n",
      "INFO:btrack.io.hdf:Closing HDF file: /mnt/DATA/macrohet/labels/PS0000/macrohet_seg_model/(3, 5).h5\n",
      "[INFO][2023/11/23 05:08:18 pm] Opening HDF file: /mnt/DATA/macrohet/labels/PS0000/macrohet_seg_model/(3, 6).h5...\n",
      "INFO:btrack.io.hdf:Opening HDF file: /mnt/DATA/macrohet/labels/PS0000/macrohet_seg_model/(3, 6).h5...\n",
      "[INFO][2023/11/23 05:08:18 pm] Loading tracks/obj_type_1\n",
      "INFO:btrack.io.hdf:Loading tracks/obj_type_1\n",
      "[INFO][2023/11/23 05:08:18 pm] Loading LBEP/obj_type_1\n",
      "INFO:btrack.io.hdf:Loading LBEP/obj_type_1\n",
      "[INFO][2023/11/23 05:08:18 pm] Loading objects/obj_type_1 (46507, 5) (46507 filtered: None)\n",
      "INFO:btrack.io.hdf:Loading objects/obj_type_1 (46507, 5) (46507 filtered: None)\n",
      "[INFO][2023/11/23 05:08:27 pm] Loading segmentation (75, 6048, 6048)\n",
      "INFO:btrack.io.hdf:Loading segmentation (75, 6048, 6048)\n",
      "[INFO][2023/11/23 05:08:27 pm] Closing HDF file: /mnt/DATA/macrohet/labels/PS0000/macrohet_seg_model/(3, 6).h5\n",
      "INFO:btrack.io.hdf:Closing HDF file: /mnt/DATA/macrohet/labels/PS0000/macrohet_seg_model/(3, 6).h5\n",
      "[INFO][2023/11/23 05:08:27 pm] Opening HDF file: /mnt/DATA/macrohet/labels/PS0000/macrohet_seg_model/(3, 7).h5...\n",
      "INFO:btrack.io.hdf:Opening HDF file: /mnt/DATA/macrohet/labels/PS0000/macrohet_seg_model/(3, 7).h5...\n",
      "[INFO][2023/11/23 05:08:27 pm] Loading tracks/obj_type_1\n",
      "INFO:btrack.io.hdf:Loading tracks/obj_type_1\n",
      "[INFO][2023/11/23 05:08:27 pm] Loading LBEP/obj_type_1\n",
      "INFO:btrack.io.hdf:Loading LBEP/obj_type_1\n",
      "[INFO][2023/11/23 05:08:27 pm] Loading objects/obj_type_1 (42503, 5) (42503 filtered: None)\n",
      "INFO:btrack.io.hdf:Loading objects/obj_type_1 (42503, 5) (42503 filtered: None)\n",
      "[INFO][2023/11/23 05:08:37 pm] Loading segmentation (75, 6048, 6048)\n",
      "INFO:btrack.io.hdf:Loading segmentation (75, 6048, 6048)\n",
      "[INFO][2023/11/23 05:08:37 pm] Closing HDF file: /mnt/DATA/macrohet/labels/PS0000/macrohet_seg_model/(3, 7).h5\n",
      "INFO:btrack.io.hdf:Closing HDF file: /mnt/DATA/macrohet/labels/PS0000/macrohet_seg_model/(3, 7).h5\n",
      "[INFO][2023/11/23 05:08:37 pm] Opening HDF file: /mnt/DATA/macrohet/labels/PS0000/macrohet_seg_model/(3, 8).h5...\n",
      "INFO:btrack.io.hdf:Opening HDF file: /mnt/DATA/macrohet/labels/PS0000/macrohet_seg_model/(3, 8).h5...\n",
      "[INFO][2023/11/23 05:08:37 pm] Loading tracks/obj_type_1\n",
      "INFO:btrack.io.hdf:Loading tracks/obj_type_1\n",
      "[INFO][2023/11/23 05:08:37 pm] Loading LBEP/obj_type_1\n",
      "INFO:btrack.io.hdf:Loading LBEP/obj_type_1\n",
      "[INFO][2023/11/23 05:08:37 pm] Loading objects/obj_type_1 (47396, 5) (47396 filtered: None)\n",
      "INFO:btrack.io.hdf:Loading objects/obj_type_1 (47396, 5) (47396 filtered: None)\n",
      "[INFO][2023/11/23 05:08:47 pm] Loading segmentation (75, 6048, 6048)\n",
      "INFO:btrack.io.hdf:Loading segmentation (75, 6048, 6048)\n",
      "[INFO][2023/11/23 05:08:47 pm] Closing HDF file: /mnt/DATA/macrohet/labels/PS0000/macrohet_seg_model/(3, 8).h5\n",
      "INFO:btrack.io.hdf:Closing HDF file: /mnt/DATA/macrohet/labels/PS0000/macrohet_seg_model/(3, 8).h5\n",
      "[INFO][2023/11/23 05:08:47 pm] Opening HDF file: /mnt/DATA/macrohet/labels/PS0000/macrohet_seg_model/(3, 9).h5...\n",
      "INFO:btrack.io.hdf:Opening HDF file: /mnt/DATA/macrohet/labels/PS0000/macrohet_seg_model/(3, 9).h5...\n",
      "[INFO][2023/11/23 05:08:47 pm] Loading tracks/obj_type_1\n",
      "INFO:btrack.io.hdf:Loading tracks/obj_type_1\n",
      "[INFO][2023/11/23 05:08:47 pm] Loading LBEP/obj_type_1\n",
      "INFO:btrack.io.hdf:Loading LBEP/obj_type_1\n",
      "[INFO][2023/11/23 05:08:47 pm] Loading objects/obj_type_1 (42259, 5) (42259 filtered: None)\n",
      "INFO:btrack.io.hdf:Loading objects/obj_type_1 (42259, 5) (42259 filtered: None)\n",
      "[INFO][2023/11/23 05:08:58 pm] Loading segmentation (75, 6048, 6048)\n",
      "INFO:btrack.io.hdf:Loading segmentation (75, 6048, 6048)\n",
      "[INFO][2023/11/23 05:08:58 pm] Closing HDF file: /mnt/DATA/macrohet/labels/PS0000/macrohet_seg_model/(3, 9).h5\n",
      "INFO:btrack.io.hdf:Closing HDF file: /mnt/DATA/macrohet/labels/PS0000/macrohet_seg_model/(3, 9).h5\n",
      "[INFO][2023/11/23 05:08:58 pm] Opening HDF file: /mnt/DATA/macrohet/labels/PS0000/macrohet_seg_model/(4, 4).h5...\n",
      "INFO:btrack.io.hdf:Opening HDF file: /mnt/DATA/macrohet/labels/PS0000/macrohet_seg_model/(4, 4).h5...\n",
      "[INFO][2023/11/23 05:08:58 pm] Loading tracks/obj_type_1\n",
      "INFO:btrack.io.hdf:Loading tracks/obj_type_1\n",
      "[INFO][2023/11/23 05:08:58 pm] Loading LBEP/obj_type_1\n",
      "INFO:btrack.io.hdf:Loading LBEP/obj_type_1\n",
      "[INFO][2023/11/23 05:08:58 pm] Loading objects/obj_type_1 (41640, 5) (41640 filtered: None)\n",
      "INFO:btrack.io.hdf:Loading objects/obj_type_1 (41640, 5) (41640 filtered: None)\n",
      "[INFO][2023/11/23 05:09:07 pm] Loading segmentation (75, 6048, 6048)\n",
      "INFO:btrack.io.hdf:Loading segmentation (75, 6048, 6048)\n",
      "[INFO][2023/11/23 05:09:07 pm] Closing HDF file: /mnt/DATA/macrohet/labels/PS0000/macrohet_seg_model/(4, 4).h5\n",
      "INFO:btrack.io.hdf:Closing HDF file: /mnt/DATA/macrohet/labels/PS0000/macrohet_seg_model/(4, 4).h5\n",
      "[INFO][2023/11/23 05:09:07 pm] Opening HDF file: /mnt/DATA/macrohet/labels/PS0000/macrohet_seg_model/(4, 5).h5...\n",
      "INFO:btrack.io.hdf:Opening HDF file: /mnt/DATA/macrohet/labels/PS0000/macrohet_seg_model/(4, 5).h5...\n",
      "[INFO][2023/11/23 05:09:07 pm] Loading tracks/obj_type_1\n",
      "INFO:btrack.io.hdf:Loading tracks/obj_type_1\n",
      "[INFO][2023/11/23 05:09:07 pm] Loading LBEP/obj_type_1\n",
      "INFO:btrack.io.hdf:Loading LBEP/obj_type_1\n",
      "[INFO][2023/11/23 05:09:07 pm] Loading objects/obj_type_1 (47242, 5) (47242 filtered: None)\n",
      "INFO:btrack.io.hdf:Loading objects/obj_type_1 (47242, 5) (47242 filtered: None)\n",
      "[INFO][2023/11/23 05:09:16 pm] Loading segmentation (75, 6048, 6048)\n",
      "INFO:btrack.io.hdf:Loading segmentation (75, 6048, 6048)\n",
      "[INFO][2023/11/23 05:09:16 pm] Closing HDF file: /mnt/DATA/macrohet/labels/PS0000/macrohet_seg_model/(4, 5).h5\n",
      "INFO:btrack.io.hdf:Closing HDF file: /mnt/DATA/macrohet/labels/PS0000/macrohet_seg_model/(4, 5).h5\n",
      "[INFO][2023/11/23 05:09:16 pm] Opening HDF file: /mnt/DATA/macrohet/labels/PS0000/macrohet_seg_model/(4, 6).h5...\n",
      "INFO:btrack.io.hdf:Opening HDF file: /mnt/DATA/macrohet/labels/PS0000/macrohet_seg_model/(4, 6).h5...\n",
      "[INFO][2023/11/23 05:09:16 pm] Loading tracks/obj_type_1\n",
      "INFO:btrack.io.hdf:Loading tracks/obj_type_1\n",
      "[INFO][2023/11/23 05:09:16 pm] Loading LBEP/obj_type_1\n",
      "INFO:btrack.io.hdf:Loading LBEP/obj_type_1\n",
      "[INFO][2023/11/23 05:09:17 pm] Loading objects/obj_type_1 (43883, 5) (43883 filtered: None)\n",
      "INFO:btrack.io.hdf:Loading objects/obj_type_1 (43883, 5) (43883 filtered: None)\n",
      "[INFO][2023/11/23 05:09:26 pm] Loading segmentation (75, 6048, 6048)\n",
      "INFO:btrack.io.hdf:Loading segmentation (75, 6048, 6048)\n",
      "[INFO][2023/11/23 05:09:26 pm] Closing HDF file: /mnt/DATA/macrohet/labels/PS0000/macrohet_seg_model/(4, 6).h5\n",
      "INFO:btrack.io.hdf:Closing HDF file: /mnt/DATA/macrohet/labels/PS0000/macrohet_seg_model/(4, 6).h5\n",
      "[INFO][2023/11/23 05:09:26 pm] Opening HDF file: /mnt/DATA/macrohet/labels/PS0000/macrohet_seg_model/(4, 7).h5...\n",
      "INFO:btrack.io.hdf:Opening HDF file: /mnt/DATA/macrohet/labels/PS0000/macrohet_seg_model/(4, 7).h5...\n",
      "[INFO][2023/11/23 05:09:26 pm] Loading tracks/obj_type_1\n",
      "INFO:btrack.io.hdf:Loading tracks/obj_type_1\n",
      "[INFO][2023/11/23 05:09:26 pm] Loading LBEP/obj_type_1\n",
      "INFO:btrack.io.hdf:Loading LBEP/obj_type_1\n",
      "[INFO][2023/11/23 05:09:26 pm] Loading objects/obj_type_1 (42965, 5) (42965 filtered: None)\n",
      "INFO:btrack.io.hdf:Loading objects/obj_type_1 (42965, 5) (42965 filtered: None)\n",
      "[INFO][2023/11/23 05:09:35 pm] Loading segmentation (75, 6048, 6048)\n",
      "INFO:btrack.io.hdf:Loading segmentation (75, 6048, 6048)\n",
      "[INFO][2023/11/23 05:09:35 pm] Closing HDF file: /mnt/DATA/macrohet/labels/PS0000/macrohet_seg_model/(4, 7).h5\n",
      "INFO:btrack.io.hdf:Closing HDF file: /mnt/DATA/macrohet/labels/PS0000/macrohet_seg_model/(4, 7).h5\n",
      "[INFO][2023/11/23 05:09:35 pm] Opening HDF file: /mnt/DATA/macrohet/labels/PS0000/macrohet_seg_model/(4, 8).h5...\n",
      "INFO:btrack.io.hdf:Opening HDF file: /mnt/DATA/macrohet/labels/PS0000/macrohet_seg_model/(4, 8).h5...\n",
      "[INFO][2023/11/23 05:09:35 pm] Loading tracks/obj_type_1\n",
      "INFO:btrack.io.hdf:Loading tracks/obj_type_1\n",
      "[INFO][2023/11/23 05:09:35 pm] Loading LBEP/obj_type_1\n",
      "INFO:btrack.io.hdf:Loading LBEP/obj_type_1\n",
      "[INFO][2023/11/23 05:09:35 pm] Loading objects/obj_type_1 (38895, 5) (38895 filtered: None)\n",
      "INFO:btrack.io.hdf:Loading objects/obj_type_1 (38895, 5) (38895 filtered: None)\n",
      "[INFO][2023/11/23 05:09:45 pm] Loading segmentation (75, 6048, 6048)\n",
      "INFO:btrack.io.hdf:Loading segmentation (75, 6048, 6048)\n",
      "[INFO][2023/11/23 05:09:45 pm] Closing HDF file: /mnt/DATA/macrohet/labels/PS0000/macrohet_seg_model/(4, 8).h5\n",
      "INFO:btrack.io.hdf:Closing HDF file: /mnt/DATA/macrohet/labels/PS0000/macrohet_seg_model/(4, 8).h5\n",
      "[INFO][2023/11/23 05:09:45 pm] Opening HDF file: /mnt/DATA/macrohet/labels/PS0000/macrohet_seg_model/(4, 9).h5...\n",
      "INFO:btrack.io.hdf:Opening HDF file: /mnt/DATA/macrohet/labels/PS0000/macrohet_seg_model/(4, 9).h5...\n",
      "[INFO][2023/11/23 05:09:45 pm] Loading tracks/obj_type_1\n",
      "INFO:btrack.io.hdf:Loading tracks/obj_type_1\n",
      "[INFO][2023/11/23 05:09:45 pm] Loading LBEP/obj_type_1\n",
      "INFO:btrack.io.hdf:Loading LBEP/obj_type_1\n",
      "[INFO][2023/11/23 05:09:45 pm] Loading objects/obj_type_1 (44643, 5) (44643 filtered: None)\n",
      "INFO:btrack.io.hdf:Loading objects/obj_type_1 (44643, 5) (44643 filtered: None)\n",
      "[INFO][2023/11/23 05:09:54 pm] Loading segmentation (75, 6048, 6048)\n",
      "INFO:btrack.io.hdf:Loading segmentation (75, 6048, 6048)\n",
      "[INFO][2023/11/23 05:09:54 pm] Closing HDF file: /mnt/DATA/macrohet/labels/PS0000/macrohet_seg_model/(4, 9).h5\n",
      "INFO:btrack.io.hdf:Closing HDF file: /mnt/DATA/macrohet/labels/PS0000/macrohet_seg_model/(4, 9).h5\n",
      "[INFO][2023/11/23 05:09:54 pm] Opening HDF file: /mnt/DATA/macrohet/labels/PS0000/macrohet_seg_model/(5, 4).h5...\n",
      "INFO:btrack.io.hdf:Opening HDF file: /mnt/DATA/macrohet/labels/PS0000/macrohet_seg_model/(5, 4).h5...\n",
      "[INFO][2023/11/23 05:09:54 pm] Loading tracks/obj_type_1\n",
      "INFO:btrack.io.hdf:Loading tracks/obj_type_1\n",
      "[INFO][2023/11/23 05:09:54 pm] Loading LBEP/obj_type_1\n",
      "INFO:btrack.io.hdf:Loading LBEP/obj_type_1\n",
      "[INFO][2023/11/23 05:09:54 pm] Loading objects/obj_type_1 (30664, 5) (30664 filtered: None)\n",
      "INFO:btrack.io.hdf:Loading objects/obj_type_1 (30664, 5) (30664 filtered: None)\n",
      "[INFO][2023/11/23 05:10:04 pm] Loading segmentation (75, 6048, 6048)\n",
      "INFO:btrack.io.hdf:Loading segmentation (75, 6048, 6048)\n",
      "[INFO][2023/11/23 05:10:04 pm] Closing HDF file: /mnt/DATA/macrohet/labels/PS0000/macrohet_seg_model/(5, 4).h5\n",
      "INFO:btrack.io.hdf:Closing HDF file: /mnt/DATA/macrohet/labels/PS0000/macrohet_seg_model/(5, 4).h5\n",
      "[INFO][2023/11/23 05:10:04 pm] Opening HDF file: /mnt/DATA/macrohet/labels/PS0000/macrohet_seg_model/(5, 5).h5...\n",
      "INFO:btrack.io.hdf:Opening HDF file: /mnt/DATA/macrohet/labels/PS0000/macrohet_seg_model/(5, 5).h5...\n",
      "[INFO][2023/11/23 05:10:04 pm] Loading tracks/obj_type_1\n",
      "INFO:btrack.io.hdf:Loading tracks/obj_type_1\n",
      "[INFO][2023/11/23 05:10:04 pm] Loading LBEP/obj_type_1\n",
      "INFO:btrack.io.hdf:Loading LBEP/obj_type_1\n",
      "[INFO][2023/11/23 05:10:04 pm] Loading objects/obj_type_1 (42973, 5) (42973 filtered: None)\n",
      "INFO:btrack.io.hdf:Loading objects/obj_type_1 (42973, 5) (42973 filtered: None)\n",
      "[INFO][2023/11/23 05:10:14 pm] Loading segmentation (75, 6048, 6048)\n",
      "INFO:btrack.io.hdf:Loading segmentation (75, 6048, 6048)\n",
      "[INFO][2023/11/23 05:10:14 pm] Closing HDF file: /mnt/DATA/macrohet/labels/PS0000/macrohet_seg_model/(5, 5).h5\n",
      "INFO:btrack.io.hdf:Closing HDF file: /mnt/DATA/macrohet/labels/PS0000/macrohet_seg_model/(5, 5).h5\n",
      "[INFO][2023/11/23 05:10:14 pm] Opening HDF file: /mnt/DATA/macrohet/labels/PS0000/macrohet_seg_model/(5, 6).h5...\n",
      "INFO:btrack.io.hdf:Opening HDF file: /mnt/DATA/macrohet/labels/PS0000/macrohet_seg_model/(5, 6).h5...\n",
      "[INFO][2023/11/23 05:10:14 pm] Loading tracks/obj_type_1\n",
      "INFO:btrack.io.hdf:Loading tracks/obj_type_1\n",
      "[INFO][2023/11/23 05:10:14 pm] Loading LBEP/obj_type_1\n",
      "INFO:btrack.io.hdf:Loading LBEP/obj_type_1\n",
      "[INFO][2023/11/23 05:10:14 pm] Loading objects/obj_type_1 (45678, 5) (45678 filtered: None)\n",
      "INFO:btrack.io.hdf:Loading objects/obj_type_1 (45678, 5) (45678 filtered: None)\n",
      "[INFO][2023/11/23 05:10:25 pm] Loading segmentation (75, 6048, 6048)\n",
      "INFO:btrack.io.hdf:Loading segmentation (75, 6048, 6048)\n",
      "[INFO][2023/11/23 05:10:25 pm] Closing HDF file: /mnt/DATA/macrohet/labels/PS0000/macrohet_seg_model/(5, 6).h5\n",
      "INFO:btrack.io.hdf:Closing HDF file: /mnt/DATA/macrohet/labels/PS0000/macrohet_seg_model/(5, 6).h5\n",
      "[INFO][2023/11/23 05:10:25 pm] Opening HDF file: /mnt/DATA/macrohet/labels/PS0000/macrohet_seg_model/(5, 7).h5...\n",
      "INFO:btrack.io.hdf:Opening HDF file: /mnt/DATA/macrohet/labels/PS0000/macrohet_seg_model/(5, 7).h5...\n",
      "[INFO][2023/11/23 05:10:25 pm] Loading tracks/obj_type_1\n",
      "INFO:btrack.io.hdf:Loading tracks/obj_type_1\n",
      "[INFO][2023/11/23 05:10:25 pm] Loading LBEP/obj_type_1\n",
      "INFO:btrack.io.hdf:Loading LBEP/obj_type_1\n",
      "[INFO][2023/11/23 05:10:25 pm] Loading objects/obj_type_1 (47880, 5) (47880 filtered: None)\n",
      "INFO:btrack.io.hdf:Loading objects/obj_type_1 (47880, 5) (47880 filtered: None)\n",
      "[INFO][2023/11/23 05:10:49 pm] Loading segmentation (75, 6048, 6048)\n",
      "INFO:btrack.io.hdf:Loading segmentation (75, 6048, 6048)\n",
      "[INFO][2023/11/23 05:10:49 pm] Closing HDF file: /mnt/DATA/macrohet/labels/PS0000/macrohet_seg_model/(5, 7).h5\n",
      "INFO:btrack.io.hdf:Closing HDF file: /mnt/DATA/macrohet/labels/PS0000/macrohet_seg_model/(5, 7).h5\n",
      "[INFO][2023/11/23 05:10:49 pm] Opening HDF file: /mnt/DATA/macrohet/labels/PS0000/macrohet_seg_model/(5, 8).h5...\n",
      "INFO:btrack.io.hdf:Opening HDF file: /mnt/DATA/macrohet/labels/PS0000/macrohet_seg_model/(5, 8).h5...\n",
      "[INFO][2023/11/23 05:10:49 pm] Loading tracks/obj_type_1\n",
      "INFO:btrack.io.hdf:Loading tracks/obj_type_1\n",
      "[INFO][2023/11/23 05:10:49 pm] Loading LBEP/obj_type_1\n",
      "INFO:btrack.io.hdf:Loading LBEP/obj_type_1\n",
      "[INFO][2023/11/23 05:10:49 pm] Loading objects/obj_type_1 (38531, 5) (38531 filtered: None)\n",
      "INFO:btrack.io.hdf:Loading objects/obj_type_1 (38531, 5) (38531 filtered: None)\n",
      "[INFO][2023/11/23 05:11:20 pm] Loading segmentation (75, 6048, 6048)\n",
      "INFO:btrack.io.hdf:Loading segmentation (75, 6048, 6048)\n",
      "[INFO][2023/11/23 05:11:20 pm] Closing HDF file: /mnt/DATA/macrohet/labels/PS0000/macrohet_seg_model/(5, 8).h5\n",
      "INFO:btrack.io.hdf:Closing HDF file: /mnt/DATA/macrohet/labels/PS0000/macrohet_seg_model/(5, 8).h5\n",
      "[INFO][2023/11/23 05:11:20 pm] Opening HDF file: /mnt/DATA/macrohet/labels/PS0000/macrohet_seg_model/(5, 9).h5...\n",
      "INFO:btrack.io.hdf:Opening HDF file: /mnt/DATA/macrohet/labels/PS0000/macrohet_seg_model/(5, 9).h5...\n",
      "[INFO][2023/11/23 05:11:20 pm] Loading tracks/obj_type_1\n",
      "INFO:btrack.io.hdf:Loading tracks/obj_type_1\n",
      "[INFO][2023/11/23 05:11:20 pm] Loading LBEP/obj_type_1\n",
      "INFO:btrack.io.hdf:Loading LBEP/obj_type_1\n",
      "[INFO][2023/11/23 05:11:20 pm] Loading objects/obj_type_1 (33081, 5) (33081 filtered: None)\n",
      "INFO:btrack.io.hdf:Loading objects/obj_type_1 (33081, 5) (33081 filtered: None)\n",
      "[INFO][2023/11/23 05:11:50 pm] Loading segmentation (75, 6048, 6048)\n",
      "INFO:btrack.io.hdf:Loading segmentation (75, 6048, 6048)\n",
      "[INFO][2023/11/23 05:11:50 pm] Closing HDF file: /mnt/DATA/macrohet/labels/PS0000/macrohet_seg_model/(5, 9).h5\n",
      "INFO:btrack.io.hdf:Closing HDF file: /mnt/DATA/macrohet/labels/PS0000/macrohet_seg_model/(5, 9).h5\n",
      "[INFO][2023/11/23 05:11:50 pm] Opening HDF file: /mnt/DATA/macrohet/labels/PS0000/macrohet_seg_model/(6, 4).h5...\n",
      "INFO:btrack.io.hdf:Opening HDF file: /mnt/DATA/macrohet/labels/PS0000/macrohet_seg_model/(6, 4).h5...\n",
      "[INFO][2023/11/23 05:11:50 pm] Loading tracks/obj_type_1\n",
      "INFO:btrack.io.hdf:Loading tracks/obj_type_1\n",
      "[INFO][2023/11/23 05:11:50 pm] Loading LBEP/obj_type_1\n",
      "INFO:btrack.io.hdf:Loading LBEP/obj_type_1\n",
      "[INFO][2023/11/23 05:11:50 pm] Loading objects/obj_type_1 (42961, 5) (42961 filtered: None)\n",
      "INFO:btrack.io.hdf:Loading objects/obj_type_1 (42961, 5) (42961 filtered: None)\n",
      "[INFO][2023/11/23 05:12:06 pm] Loading segmentation (75, 6048, 6048)\n",
      "INFO:btrack.io.hdf:Loading segmentation (75, 6048, 6048)\n",
      "[INFO][2023/11/23 05:12:06 pm] Closing HDF file: /mnt/DATA/macrohet/labels/PS0000/macrohet_seg_model/(6, 4).h5\n",
      "INFO:btrack.io.hdf:Closing HDF file: /mnt/DATA/macrohet/labels/PS0000/macrohet_seg_model/(6, 4).h5\n",
      "[INFO][2023/11/23 05:12:06 pm] Opening HDF file: /mnt/DATA/macrohet/labels/PS0000/macrohet_seg_model/(6, 5).h5...\n",
      "INFO:btrack.io.hdf:Opening HDF file: /mnt/DATA/macrohet/labels/PS0000/macrohet_seg_model/(6, 5).h5...\n",
      "[INFO][2023/11/23 05:12:06 pm] Loading tracks/obj_type_1\n",
      "INFO:btrack.io.hdf:Loading tracks/obj_type_1\n",
      "[INFO][2023/11/23 05:12:06 pm] Loading LBEP/obj_type_1\n",
      "INFO:btrack.io.hdf:Loading LBEP/obj_type_1\n",
      "[INFO][2023/11/23 05:12:06 pm] Loading objects/obj_type_1 (46808, 5) (46808 filtered: None)\n",
      "INFO:btrack.io.hdf:Loading objects/obj_type_1 (46808, 5) (46808 filtered: None)\n",
      "[INFO][2023/11/23 05:12:15 pm] Loading segmentation (75, 6048, 6048)\n",
      "INFO:btrack.io.hdf:Loading segmentation (75, 6048, 6048)\n",
      "[INFO][2023/11/23 05:12:15 pm] Closing HDF file: /mnt/DATA/macrohet/labels/PS0000/macrohet_seg_model/(6, 5).h5\n",
      "INFO:btrack.io.hdf:Closing HDF file: /mnt/DATA/macrohet/labels/PS0000/macrohet_seg_model/(6, 5).h5\n",
      "[INFO][2023/11/23 05:12:15 pm] Opening HDF file: /mnt/DATA/macrohet/labels/PS0000/macrohet_seg_model/(6, 6).h5...\n",
      "INFO:btrack.io.hdf:Opening HDF file: /mnt/DATA/macrohet/labels/PS0000/macrohet_seg_model/(6, 6).h5...\n",
      "[INFO][2023/11/23 05:12:15 pm] Loading tracks/obj_type_1\n",
      "INFO:btrack.io.hdf:Loading tracks/obj_type_1\n",
      "[INFO][2023/11/23 05:12:15 pm] Loading LBEP/obj_type_1\n",
      "INFO:btrack.io.hdf:Loading LBEP/obj_type_1\n",
      "[INFO][2023/11/23 05:12:15 pm] Loading objects/obj_type_1 (45688, 5) (45688 filtered: None)\n",
      "INFO:btrack.io.hdf:Loading objects/obj_type_1 (45688, 5) (45688 filtered: None)\n",
      "[INFO][2023/11/23 05:12:26 pm] Loading segmentation (75, 6048, 6048)\n",
      "INFO:btrack.io.hdf:Loading segmentation (75, 6048, 6048)\n",
      "[INFO][2023/11/23 05:12:26 pm] Closing HDF file: /mnt/DATA/macrohet/labels/PS0000/macrohet_seg_model/(6, 6).h5\n",
      "INFO:btrack.io.hdf:Closing HDF file: /mnt/DATA/macrohet/labels/PS0000/macrohet_seg_model/(6, 6).h5\n",
      "[INFO][2023/11/23 05:12:26 pm] Opening HDF file: /mnt/DATA/macrohet/labels/PS0000/macrohet_seg_model/(6, 7).h5...\n",
      "INFO:btrack.io.hdf:Opening HDF file: /mnt/DATA/macrohet/labels/PS0000/macrohet_seg_model/(6, 7).h5...\n",
      "[INFO][2023/11/23 05:12:26 pm] Loading tracks/obj_type_1\n",
      "INFO:btrack.io.hdf:Loading tracks/obj_type_1\n",
      "[INFO][2023/11/23 05:12:26 pm] Loading LBEP/obj_type_1\n",
      "INFO:btrack.io.hdf:Loading LBEP/obj_type_1\n",
      "[INFO][2023/11/23 05:12:26 pm] Loading objects/obj_type_1 (45214, 5) (45214 filtered: None)\n",
      "INFO:btrack.io.hdf:Loading objects/obj_type_1 (45214, 5) (45214 filtered: None)\n",
      "[INFO][2023/11/23 05:12:35 pm] Loading segmentation (75, 6048, 6048)\n",
      "INFO:btrack.io.hdf:Loading segmentation (75, 6048, 6048)\n",
      "[INFO][2023/11/23 05:12:35 pm] Closing HDF file: /mnt/DATA/macrohet/labels/PS0000/macrohet_seg_model/(6, 7).h5\n",
      "INFO:btrack.io.hdf:Closing HDF file: /mnt/DATA/macrohet/labels/PS0000/macrohet_seg_model/(6, 7).h5\n",
      "[INFO][2023/11/23 05:12:35 pm] Opening HDF file: /mnt/DATA/macrohet/labels/PS0000/macrohet_seg_model/(6, 8).h5...\n",
      "INFO:btrack.io.hdf:Opening HDF file: /mnt/DATA/macrohet/labels/PS0000/macrohet_seg_model/(6, 8).h5...\n",
      "[INFO][2023/11/23 05:12:35 pm] Loading tracks/obj_type_1\n",
      "INFO:btrack.io.hdf:Loading tracks/obj_type_1\n",
      "[INFO][2023/11/23 05:12:35 pm] Loading LBEP/obj_type_1\n",
      "INFO:btrack.io.hdf:Loading LBEP/obj_type_1\n",
      "[INFO][2023/11/23 05:12:35 pm] Loading objects/obj_type_1 (46267, 5) (46267 filtered: None)\n",
      "INFO:btrack.io.hdf:Loading objects/obj_type_1 (46267, 5) (46267 filtered: None)\n",
      "[INFO][2023/11/23 05:12:44 pm] Loading segmentation (75, 6048, 6048)\n",
      "INFO:btrack.io.hdf:Loading segmentation (75, 6048, 6048)\n",
      "[INFO][2023/11/23 05:12:44 pm] Closing HDF file: /mnt/DATA/macrohet/labels/PS0000/macrohet_seg_model/(6, 8).h5\n",
      "INFO:btrack.io.hdf:Closing HDF file: /mnt/DATA/macrohet/labels/PS0000/macrohet_seg_model/(6, 8).h5\n",
      "[INFO][2023/11/23 05:12:44 pm] Opening HDF file: /mnt/DATA/macrohet/labels/PS0000/macrohet_seg_model/(6, 9).h5...\n",
      "INFO:btrack.io.hdf:Opening HDF file: /mnt/DATA/macrohet/labels/PS0000/macrohet_seg_model/(6, 9).h5...\n",
      "[INFO][2023/11/23 05:12:44 pm] Loading tracks/obj_type_1\n",
      "INFO:btrack.io.hdf:Loading tracks/obj_type_1\n",
      "[INFO][2023/11/23 05:12:44 pm] Loading LBEP/obj_type_1\n",
      "INFO:btrack.io.hdf:Loading LBEP/obj_type_1\n",
      "[INFO][2023/11/23 05:12:44 pm] Loading objects/obj_type_1 (35615, 5) (35615 filtered: None)\n",
      "INFO:btrack.io.hdf:Loading objects/obj_type_1 (35615, 5) (35615 filtered: None)\n",
      "[INFO][2023/11/23 05:12:53 pm] Loading segmentation (75, 6048, 6048)\n",
      "INFO:btrack.io.hdf:Loading segmentation (75, 6048, 6048)\n",
      "[INFO][2023/11/23 05:12:53 pm] Closing HDF file: /mnt/DATA/macrohet/labels/PS0000/macrohet_seg_model/(6, 9).h5\n",
      "INFO:btrack.io.hdf:Closing HDF file: /mnt/DATA/macrohet/labels/PS0000/macrohet_seg_model/(6, 9).h5\n"
     ]
    }
   ],
   "source": [
    "tracks_dict = dict()\n",
    "segmentation_dict = dict()\n",
    "\n",
    "### iterate over all experimental conditions\n",
    "for (row, column), info in tqdm(assay_layout.iterrows(), \n",
    "                                desc = 'Progress through positions',\n",
    "                                total = len(assay_layout)):\n",
    "\n",
    "    ### load tracks\n",
    "    with btrack.io.HDF5FileHandler(f'/mnt/DATA/macrohet/labels/PS0000/macrohet_seg_model/{row,column}.h5', \n",
    "                                       'r', \n",
    "                                       obj_type='obj_type_1'\n",
    "                                       ) as reader:\n",
    "        tracks = reader.tracks\n",
    "        seg = reader.segmentation\n",
    "\n",
    "            \n",
    "    ### append tracks to dictionary\n",
    "    tracks_dict[(row, column)] = tracks\n",
    "    segmentation_dict[(row, column)] = seg"
   ]
  },
  {
   "cell_type": "code",
   "execution_count": null,
   "id": "40335326-2be5-47b6-8ff9-7ee10d65637e",
   "metadata": {
    "scrolled": true
   },
   "outputs": [
    {
     "data": {
      "application/vnd.jupyter.widget-view+json": {
       "model_id": "c313a8dd5c3f4c82961879953c67cd96",
       "version_major": 2,
       "version_minor": 0
      },
      "text/plain": [
       "  0%|          | 0/296997 [00:00<?, ?it/s]"
      ]
     },
     "metadata": {},
     "output_type": "display_data"
    },
    {
     "data": {
      "application/vnd.jupyter.widget-view+json": {
       "model_id": "d3817eea6369434483b8bae0a0d0714a",
       "version_major": 2,
       "version_minor": 0
      },
      "text/plain": [
       "Extracting measurements over each frame: ((3, 4), 426):   0%|          | 0/74 [00:00<?, ?it/s]"
      ]
     },
     "metadata": {},
     "output_type": "display_data"
    },
    {
     "name": "stderr",
     "output_type": "stream",
     "text": [
      "INFO:root:Entering function: compile_mosaic\n",
      " Parameters: row, col, plane, channel, time (3, 4, 'max_proj', 2, 0) \n"
     ]
    },
    {
     "data": {
      "application/vnd.jupyter.widget-view+json": {
       "model_id": "0ed118db8d514f9fbad0ba6459e10184",
       "version_major": 2,
       "version_minor": 0
      },
      "text/plain": [
       "Stitching images together:   0%|          | 0/3 [00:00<?, ?it/s]"
      ]
     },
     "metadata": {},
     "output_type": "display_data"
    },
    {
     "name": "stderr",
     "output_type": "stream",
     "text": [
      "INFO:root:Entering function: compile_mosaic\n",
      " Parameters: row, col, plane, channel, time (3, 4, 'max_proj', 2, 1) \n"
     ]
    },
    {
     "data": {
      "application/vnd.jupyter.widget-view+json": {
       "model_id": "39bcf01138e64177903ca8ad801e2295",
       "version_major": 2,
       "version_minor": 0
      },
      "text/plain": [
       "Stitching images together:   0%|          | 0/3 [00:00<?, ?it/s]"
      ]
     },
     "metadata": {},
     "output_type": "display_data"
    },
    {
     "name": "stderr",
     "output_type": "stream",
     "text": [
      "INFO:root:Entering function: compile_mosaic\n",
      " Parameters: row, col, plane, channel, time (3, 4, 'max_proj', 2, 2) \n"
     ]
    },
    {
     "data": {
      "application/vnd.jupyter.widget-view+json": {
       "model_id": "7f039a3ed2ac41f3b969293f56999130",
       "version_major": 2,
       "version_minor": 0
      },
      "text/plain": [
       "Stitching images together:   0%|          | 0/3 [00:00<?, ?it/s]"
      ]
     },
     "metadata": {},
     "output_type": "display_data"
    },
    {
     "name": "stderr",
     "output_type": "stream",
     "text": [
      "INFO:root:Entering function: compile_mosaic\n",
      " Parameters: row, col, plane, channel, time (3, 4, 'max_proj', 2, 3) \n"
     ]
    },
    {
     "data": {
      "application/vnd.jupyter.widget-view+json": {
       "model_id": "680768e01fab4a44bc234c1b7079d6bb",
       "version_major": 2,
       "version_minor": 0
      },
      "text/plain": [
       "Stitching images together:   0%|          | 0/3 [00:00<?, ?it/s]"
      ]
     },
     "metadata": {},
     "output_type": "display_data"
    },
    {
     "name": "stderr",
     "output_type": "stream",
     "text": [
      "INFO:root:Entering function: compile_mosaic\n",
      " Parameters: row, col, plane, channel, time (3, 4, 'max_proj', 2, 4) \n"
     ]
    },
    {
     "data": {
      "application/vnd.jupyter.widget-view+json": {
       "model_id": "bdb75ad1a0384101a01792cc0e95e732",
       "version_major": 2,
       "version_minor": 0
      },
      "text/plain": [
       "Stitching images together:   0%|          | 0/3 [00:00<?, ?it/s]"
      ]
     },
     "metadata": {},
     "output_type": "display_data"
    },
    {
     "name": "stderr",
     "output_type": "stream",
     "text": [
      "INFO:root:Entering function: compile_mosaic\n",
      " Parameters: row, col, plane, channel, time (3, 4, 'max_proj', 2, 6) \n"
     ]
    },
    {
     "data": {
      "application/vnd.jupyter.widget-view+json": {
       "model_id": "bf81d97af3b4431dae3c0c7746b43c42",
       "version_major": 2,
       "version_minor": 0
      },
      "text/plain": [
       "Stitching images together:   0%|          | 0/3 [00:00<?, ?it/s]"
      ]
     },
     "metadata": {},
     "output_type": "display_data"
    },
    {
     "name": "stderr",
     "output_type": "stream",
     "text": [
      "INFO:root:Entering function: compile_mosaic\n",
      " Parameters: row, col, plane, channel, time (3, 4, 'max_proj', 2, 7) \n"
     ]
    },
    {
     "data": {
      "application/vnd.jupyter.widget-view+json": {
       "model_id": "3a02482f0fae46afa3c17539d287938c",
       "version_major": 2,
       "version_minor": 0
      },
      "text/plain": [
       "Stitching images together:   0%|          | 0/3 [00:00<?, ?it/s]"
      ]
     },
     "metadata": {},
     "output_type": "display_data"
    },
    {
     "name": "stderr",
     "output_type": "stream",
     "text": [
      "INFO:root:Entering function: compile_mosaic\n",
      " Parameters: row, col, plane, channel, time (3, 4, 'max_proj', 2, 8) \n"
     ]
    },
    {
     "data": {
      "application/vnd.jupyter.widget-view+json": {
       "model_id": "412f920864b44fa7b6aa54440b2ed964",
       "version_major": 2,
       "version_minor": 0
      },
      "text/plain": [
       "Stitching images together:   0%|          | 0/3 [00:00<?, ?it/s]"
      ]
     },
     "metadata": {},
     "output_type": "display_data"
    },
    {
     "name": "stderr",
     "output_type": "stream",
     "text": [
      "INFO:root:Entering function: compile_mosaic\n",
      " Parameters: row, col, plane, channel, time (3, 4, 'max_proj', 2, 9) \n"
     ]
    },
    {
     "data": {
      "application/vnd.jupyter.widget-view+json": {
       "model_id": "34c72f31ba374043ae0c71360d700e31",
       "version_major": 2,
       "version_minor": 0
      },
      "text/plain": [
       "Stitching images together:   0%|          | 0/3 [00:00<?, ?it/s]"
      ]
     },
     "metadata": {},
     "output_type": "display_data"
    },
    {
     "name": "stderr",
     "output_type": "stream",
     "text": [
      "INFO:root:Entering function: compile_mosaic\n",
      " Parameters: row, col, plane, channel, time (3, 4, 'max_proj', 2, 10) \n"
     ]
    },
    {
     "data": {
      "application/vnd.jupyter.widget-view+json": {
       "model_id": "096f64c91dbd4c649a0aad10d34adb18",
       "version_major": 2,
       "version_minor": 0
      },
      "text/plain": [
       "Stitching images together:   0%|          | 0/3 [00:00<?, ?it/s]"
      ]
     },
     "metadata": {},
     "output_type": "display_data"
    },
    {
     "name": "stderr",
     "output_type": "stream",
     "text": [
      "INFO:root:Entering function: compile_mosaic\n",
      " Parameters: row, col, plane, channel, time (3, 4, 'max_proj', 2, 11) \n"
     ]
    },
    {
     "data": {
      "application/vnd.jupyter.widget-view+json": {
       "model_id": "8aaf58bedac940298763a7cd3840cfd9",
       "version_major": 2,
       "version_minor": 0
      },
      "text/plain": [
       "Stitching images together:   0%|          | 0/3 [00:00<?, ?it/s]"
      ]
     },
     "metadata": {},
     "output_type": "display_data"
    },
    {
     "name": "stderr",
     "output_type": "stream",
     "text": [
      "INFO:root:Entering function: compile_mosaic\n",
      " Parameters: row, col, plane, channel, time (3, 4, 'max_proj', 2, 12) \n"
     ]
    },
    {
     "data": {
      "application/vnd.jupyter.widget-view+json": {
       "model_id": "1c456870f38d4e688b365e485c1d5489",
       "version_major": 2,
       "version_minor": 0
      },
      "text/plain": [
       "Stitching images together:   0%|          | 0/3 [00:00<?, ?it/s]"
      ]
     },
     "metadata": {},
     "output_type": "display_data"
    },
    {
     "name": "stderr",
     "output_type": "stream",
     "text": [
      "INFO:root:Entering function: compile_mosaic\n",
      " Parameters: row, col, plane, channel, time (3, 4, 'max_proj', 2, 13) \n"
     ]
    },
    {
     "data": {
      "application/vnd.jupyter.widget-view+json": {
       "model_id": "09a0df78232644cdb49715566f1994c2",
       "version_major": 2,
       "version_minor": 0
      },
      "text/plain": [
       "Stitching images together:   0%|          | 0/3 [00:00<?, ?it/s]"
      ]
     },
     "metadata": {},
     "output_type": "display_data"
    },
    {
     "name": "stderr",
     "output_type": "stream",
     "text": [
      "INFO:root:Entering function: compile_mosaic\n",
      " Parameters: row, col, plane, channel, time (3, 4, 'max_proj', 2, 14) \n"
     ]
    },
    {
     "data": {
      "application/vnd.jupyter.widget-view+json": {
       "model_id": "28802a3a3c564689859bee482d1a9233",
       "version_major": 2,
       "version_minor": 0
      },
      "text/plain": [
       "Stitching images together:   0%|          | 0/3 [00:00<?, ?it/s]"
      ]
     },
     "metadata": {},
     "output_type": "display_data"
    },
    {
     "name": "stderr",
     "output_type": "stream",
     "text": [
      "INFO:root:Entering function: compile_mosaic\n",
      " Parameters: row, col, plane, channel, time (3, 4, 'max_proj', 2, 15) \n"
     ]
    },
    {
     "data": {
      "application/vnd.jupyter.widget-view+json": {
       "model_id": "afc04782e06840dcb189aaa58b2ca03f",
       "version_major": 2,
       "version_minor": 0
      },
      "text/plain": [
       "Stitching images together:   0%|          | 0/3 [00:00<?, ?it/s]"
      ]
     },
     "metadata": {},
     "output_type": "display_data"
    },
    {
     "name": "stderr",
     "output_type": "stream",
     "text": [
      "INFO:root:Entering function: compile_mosaic\n",
      " Parameters: row, col, plane, channel, time (3, 4, 'max_proj', 2, 16) \n"
     ]
    },
    {
     "data": {
      "application/vnd.jupyter.widget-view+json": {
       "model_id": "a7ea1b15d1df4c8e80f3461ff98ee13e",
       "version_major": 2,
       "version_minor": 0
      },
      "text/plain": [
       "Stitching images together:   0%|          | 0/3 [00:00<?, ?it/s]"
      ]
     },
     "metadata": {},
     "output_type": "display_data"
    },
    {
     "name": "stderr",
     "output_type": "stream",
     "text": [
      "INFO:root:Entering function: compile_mosaic\n",
      " Parameters: row, col, plane, channel, time (3, 4, 'max_proj', 2, 17) \n"
     ]
    },
    {
     "data": {
      "application/vnd.jupyter.widget-view+json": {
       "model_id": "8256346180a444e6876dabaa069d052f",
       "version_major": 2,
       "version_minor": 0
      },
      "text/plain": [
       "Stitching images together:   0%|          | 0/3 [00:00<?, ?it/s]"
      ]
     },
     "metadata": {},
     "output_type": "display_data"
    },
    {
     "name": "stderr",
     "output_type": "stream",
     "text": [
      "INFO:root:Entering function: compile_mosaic\n",
      " Parameters: row, col, plane, channel, time (3, 4, 'max_proj', 2, 18) \n"
     ]
    },
    {
     "data": {
      "application/vnd.jupyter.widget-view+json": {
       "model_id": "03dcc644d4df49c282907472632eaba4",
       "version_major": 2,
       "version_minor": 0
      },
      "text/plain": [
       "Stitching images together:   0%|          | 0/3 [00:00<?, ?it/s]"
      ]
     },
     "metadata": {},
     "output_type": "display_data"
    },
    {
     "name": "stderr",
     "output_type": "stream",
     "text": [
      "INFO:root:Entering function: compile_mosaic\n",
      " Parameters: row, col, plane, channel, time (3, 4, 'max_proj', 2, 19) \n"
     ]
    },
    {
     "data": {
      "application/vnd.jupyter.widget-view+json": {
       "model_id": "dd79451563ec4a5b94cea4471e80184e",
       "version_major": 2,
       "version_minor": 0
      },
      "text/plain": [
       "Stitching images together:   0%|          | 0/3 [00:00<?, ?it/s]"
      ]
     },
     "metadata": {},
     "output_type": "display_data"
    },
    {
     "name": "stderr",
     "output_type": "stream",
     "text": [
      "INFO:root:Entering function: compile_mosaic\n",
      " Parameters: row, col, plane, channel, time (3, 4, 'max_proj', 2, 20) \n"
     ]
    },
    {
     "data": {
      "application/vnd.jupyter.widget-view+json": {
       "model_id": "20b5d934ef804d4eb0fc08e2071a13aa",
       "version_major": 2,
       "version_minor": 0
      },
      "text/plain": [
       "Stitching images together:   0%|          | 0/3 [00:00<?, ?it/s]"
      ]
     },
     "metadata": {},
     "output_type": "display_data"
    },
    {
     "name": "stderr",
     "output_type": "stream",
     "text": [
      "INFO:root:Entering function: compile_mosaic\n",
      " Parameters: row, col, plane, channel, time (3, 4, 'max_proj', 2, 21) \n"
     ]
    },
    {
     "data": {
      "application/vnd.jupyter.widget-view+json": {
       "model_id": "e02df31ae25c4e6db5c8b60d7caad29a",
       "version_major": 2,
       "version_minor": 0
      },
      "text/plain": [
       "Stitching images together:   0%|          | 0/3 [00:00<?, ?it/s]"
      ]
     },
     "metadata": {},
     "output_type": "display_data"
    },
    {
     "name": "stderr",
     "output_type": "stream",
     "text": [
      "INFO:root:Entering function: compile_mosaic\n",
      " Parameters: row, col, plane, channel, time (3, 4, 'max_proj', 2, 22) \n"
     ]
    },
    {
     "data": {
      "application/vnd.jupyter.widget-view+json": {
       "model_id": "3e90283f77fd46cbb479a766e8f506fc",
       "version_major": 2,
       "version_minor": 0
      },
      "text/plain": [
       "Stitching images together:   0%|          | 0/3 [00:00<?, ?it/s]"
      ]
     },
     "metadata": {},
     "output_type": "display_data"
    },
    {
     "name": "stderr",
     "output_type": "stream",
     "text": [
      "INFO:root:Entering function: compile_mosaic\n",
      " Parameters: row, col, plane, channel, time (3, 4, 'max_proj', 2, 23) \n"
     ]
    },
    {
     "data": {
      "application/vnd.jupyter.widget-view+json": {
       "model_id": "1968fe5def5a4786b19cdc742a535cad",
       "version_major": 2,
       "version_minor": 0
      },
      "text/plain": [
       "Stitching images together:   0%|          | 0/3 [00:00<?, ?it/s]"
      ]
     },
     "metadata": {},
     "output_type": "display_data"
    },
    {
     "name": "stderr",
     "output_type": "stream",
     "text": [
      "INFO:root:Entering function: compile_mosaic\n",
      " Parameters: row, col, plane, channel, time (3, 4, 'max_proj', 2, 24) \n"
     ]
    },
    {
     "data": {
      "application/vnd.jupyter.widget-view+json": {
       "model_id": "70174e486fa24e80a14848f6287d434c",
       "version_major": 2,
       "version_minor": 0
      },
      "text/plain": [
       "Stitching images together:   0%|          | 0/3 [00:00<?, ?it/s]"
      ]
     },
     "metadata": {},
     "output_type": "display_data"
    },
    {
     "name": "stderr",
     "output_type": "stream",
     "text": [
      "INFO:root:Entering function: compile_mosaic\n",
      " Parameters: row, col, plane, channel, time (3, 4, 'max_proj', 2, 25) \n"
     ]
    },
    {
     "data": {
      "application/vnd.jupyter.widget-view+json": {
       "model_id": "a62ac0c5fa8445adbc2b12de45ae45c9",
       "version_major": 2,
       "version_minor": 0
      },
      "text/plain": [
       "Stitching images together:   0%|          | 0/3 [00:00<?, ?it/s]"
      ]
     },
     "metadata": {},
     "output_type": "display_data"
    },
    {
     "name": "stderr",
     "output_type": "stream",
     "text": [
      "INFO:root:Entering function: compile_mosaic\n",
      " Parameters: row, col, plane, channel, time (3, 4, 'max_proj', 2, 26) \n"
     ]
    },
    {
     "data": {
      "application/vnd.jupyter.widget-view+json": {
       "model_id": "b6f91d4d2e5446e4a0f9b1a5ca7b35e9",
       "version_major": 2,
       "version_minor": 0
      },
      "text/plain": [
       "Stitching images together:   0%|          | 0/3 [00:00<?, ?it/s]"
      ]
     },
     "metadata": {},
     "output_type": "display_data"
    },
    {
     "name": "stderr",
     "output_type": "stream",
     "text": [
      "INFO:root:Entering function: compile_mosaic\n",
      " Parameters: row, col, plane, channel, time (3, 4, 'max_proj', 2, 27) \n"
     ]
    },
    {
     "data": {
      "application/vnd.jupyter.widget-view+json": {
       "model_id": "4a7e8d51563242128abbe3927fa11fb6",
       "version_major": 2,
       "version_minor": 0
      },
      "text/plain": [
       "Stitching images together:   0%|          | 0/3 [00:00<?, ?it/s]"
      ]
     },
     "metadata": {},
     "output_type": "display_data"
    },
    {
     "name": "stderr",
     "output_type": "stream",
     "text": [
      "INFO:root:Entering function: compile_mosaic\n",
      " Parameters: row, col, plane, channel, time (3, 4, 'max_proj', 2, 28) \n"
     ]
    },
    {
     "data": {
      "application/vnd.jupyter.widget-view+json": {
       "model_id": "098168583d264055a57c299362289cc4",
       "version_major": 2,
       "version_minor": 0
      },
      "text/plain": [
       "Stitching images together:   0%|          | 0/3 [00:00<?, ?it/s]"
      ]
     },
     "metadata": {},
     "output_type": "display_data"
    },
    {
     "name": "stderr",
     "output_type": "stream",
     "text": [
      "INFO:root:Entering function: compile_mosaic\n",
      " Parameters: row, col, plane, channel, time (3, 4, 'max_proj', 2, 29) \n"
     ]
    },
    {
     "data": {
      "application/vnd.jupyter.widget-view+json": {
       "model_id": "4eed158484724d73b573b32866938f5a",
       "version_major": 2,
       "version_minor": 0
      },
      "text/plain": [
       "Stitching images together:   0%|          | 0/3 [00:00<?, ?it/s]"
      ]
     },
     "metadata": {},
     "output_type": "display_data"
    },
    {
     "name": "stderr",
     "output_type": "stream",
     "text": [
      "INFO:root:Entering function: compile_mosaic\n",
      " Parameters: row, col, plane, channel, time (3, 4, 'max_proj', 2, 30) \n"
     ]
    },
    {
     "data": {
      "application/vnd.jupyter.widget-view+json": {
       "model_id": "b6b8625bdccf4981b76fd5db6e5fb9f4",
       "version_major": 2,
       "version_minor": 0
      },
      "text/plain": [
       "Stitching images together:   0%|          | 0/3 [00:00<?, ?it/s]"
      ]
     },
     "metadata": {},
     "output_type": "display_data"
    },
    {
     "name": "stderr",
     "output_type": "stream",
     "text": [
      "INFO:root:Entering function: compile_mosaic\n",
      " Parameters: row, col, plane, channel, time (3, 4, 'max_proj', 2, 31) \n"
     ]
    },
    {
     "data": {
      "application/vnd.jupyter.widget-view+json": {
       "model_id": "58439669ff354d70aca89bda8cb3ad71",
       "version_major": 2,
       "version_minor": 0
      },
      "text/plain": [
       "Stitching images together:   0%|          | 0/3 [00:00<?, ?it/s]"
      ]
     },
     "metadata": {},
     "output_type": "display_data"
    },
    {
     "name": "stderr",
     "output_type": "stream",
     "text": [
      "INFO:root:Entering function: compile_mosaic\n",
      " Parameters: row, col, plane, channel, time (3, 4, 'max_proj', 2, 32) \n"
     ]
    },
    {
     "data": {
      "application/vnd.jupyter.widget-view+json": {
       "model_id": "884133d9099d45628f139cf2edb9aa40",
       "version_major": 2,
       "version_minor": 0
      },
      "text/plain": [
       "Stitching images together:   0%|          | 0/3 [00:00<?, ?it/s]"
      ]
     },
     "metadata": {},
     "output_type": "display_data"
    },
    {
     "name": "stderr",
     "output_type": "stream",
     "text": [
      "INFO:root:Entering function: compile_mosaic\n",
      " Parameters: row, col, plane, channel, time (3, 4, 'max_proj', 2, 33) \n"
     ]
    },
    {
     "data": {
      "application/vnd.jupyter.widget-view+json": {
       "model_id": "2ac32405077a43ea8286f53fca8e2c6f",
       "version_major": 2,
       "version_minor": 0
      },
      "text/plain": [
       "Stitching images together:   0%|          | 0/3 [00:00<?, ?it/s]"
      ]
     },
     "metadata": {},
     "output_type": "display_data"
    },
    {
     "name": "stderr",
     "output_type": "stream",
     "text": [
      "INFO:root:Entering function: compile_mosaic\n",
      " Parameters: row, col, plane, channel, time (3, 4, 'max_proj', 2, 34) \n"
     ]
    },
    {
     "data": {
      "application/vnd.jupyter.widget-view+json": {
       "model_id": "b5340c86662c41c489828245b8b40385",
       "version_major": 2,
       "version_minor": 0
      },
      "text/plain": [
       "Stitching images together:   0%|          | 0/3 [00:00<?, ?it/s]"
      ]
     },
     "metadata": {},
     "output_type": "display_data"
    },
    {
     "name": "stderr",
     "output_type": "stream",
     "text": [
      "INFO:root:Entering function: compile_mosaic\n",
      " Parameters: row, col, plane, channel, time (3, 4, 'max_proj', 2, 35) \n"
     ]
    },
    {
     "data": {
      "application/vnd.jupyter.widget-view+json": {
       "model_id": "798b86ddcd564ab19525c7c262fd511d",
       "version_major": 2,
       "version_minor": 0
      },
      "text/plain": [
       "Stitching images together:   0%|          | 0/3 [00:00<?, ?it/s]"
      ]
     },
     "metadata": {},
     "output_type": "display_data"
    }
   ],
   "source": [
    "# Initialize an empty list to store Mtb area values\n",
    "mtb_areas = []\n",
    "\n",
    "for i, main_df_row in tqdm(df.iterrows(), total=df.shape[0]):\n",
    "    track_id = main_df_row['Unique ID']\n",
    "    # measuring the area of Mtb from the images... \n",
    "    track_data = df[df['Unique ID'] == track_id]\n",
    "    \n",
    "    # get acq ID and ID from track id'\n",
    "    acq_ID = track_data['Acquisition ID'].iloc[0]\n",
    "    cell_ID = track_data['Cell ID'].iloc[0]\n",
    "    row, column = acq_ID\n",
    "    image_dir = os.path.join(base_dir, 'Images')\n",
    "    \n",
    "    masks = segmentation_dict[acq_ID]\n",
    "    # obtain mask information \n",
    "    for df_row in tqdm(track_data.iterrows(), total=len(track_data),\n",
    "                        desc=f'Extracting measurements over each frame: {acq_ID, cell_ID}'):\n",
    "            # get coords\n",
    "            t, y, x = df_row[1]['Time (hours)'], int(df_row[1]['y']), int(df_row[1]['x'])\n",
    "            y, x = int(y*scale_factor), int(x*scale_factor)\n",
    "            # select proper frame\n",
    "            frame = masks[t, ...]\n",
    "            # check to see if mask exists\n",
    "            if frame[y, x]:\n",
    "                # select cell of interest\n",
    "                mask = frame == frame[y, x]\n",
    "                images = tile.compile_mosaic(image_dir, \n",
    "                                     metadata, \n",
    "                                     row, column, \n",
    "                                     set_plane='max_proj',\n",
    "                                     set_channel=2,\n",
    "                                     set_time = t,\n",
    "        #                             input_transforms = [input_transforms]\n",
    "                                    )[0,0].compute().compute()\n",
    "                masked_image = images*mask \n",
    "                thresholded_masked_image = masked_image >=480\n",
    "                mtb_area = np.sum(thresholded_masked_image)\n",
    "                mtb_areas.append(mtb_area)\n",
    "            else:\n",
    "                mtb_areas.append(0)  # Append 0 if no mask exists\n",
    "# Add the mtb_areas list as a new column to the DataFrame\n",
    "df['Mtb Area'] = mtb_areas"
   ]
  },
  {
   "cell_type": "code",
   "execution_count": null,
   "id": "383f79ed-6999-4178-a26a-6df9113dc2d3",
   "metadata": {},
   "outputs": [],
   "source": [
    "# Specify the file path and name for the output CSV file\n",
    "output_file = 'area_df.csv'\n",
    "\n",
    "# Save the DataFrame to a CSV file\n",
    "df.to_csv(output_file, index=False)  # Set index=False to exclude row indices from the CSV file"
   ]
  }
 ],
 "metadata": {
  "kernelspec": {
   "display_name": "brassica",
   "language": "python",
   "name": "brassica"
  },
  "language_info": {
   "codemirror_mode": {
    "name": "ipython",
    "version": 3
   },
   "file_extension": ".py",
   "mimetype": "text/x-python",
   "name": "python",
   "nbconvert_exporter": "python",
   "pygments_lexer": "ipython3",
   "version": "3.9.17"
  }
 },
 "nbformat": 4,
 "nbformat_minor": 5
}
