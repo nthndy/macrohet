{
 "cells": [
  {
   "cell_type": "code",
   "execution_count": 7,
   "id": "9c019ddb",
   "metadata": {},
   "outputs": [],
   "source": [
    "from PIL import Image, ImageSequence\n",
    "from tqdm import tqdm\n",
    "\n",
    "def slow_down_gif(input_path, output_path, slowdown_factor=1.5):\n",
    "    \"\"\"\n",
    "    Slow down a gif by the specified slowdown factor.\n",
    "\n",
    "    Parameters:\n",
    "    - input_path (str): Path to the input gif.\n",
    "    - output_path (str): Path to save the slowed down gif.\n",
    "    - slowdown_factor (float): Factor to slow down the gif. Default is 2 (double the duration).\n",
    "    \"\"\"\n",
    "    \n",
    "    with Image.open(input_path) as im:\n",
    "        frames = [frame.copy() for frame in ImageSequence.Iterator(im)]\n",
    "        # Convert frames to have a consistent mode\n",
    "        frames = [\n",
    "            frame.copy().convert(\"RGBA\") for frame in tqdm(frames, desc=\"Processing frames\")\n",
    "        ]\n",
    "        \n",
    "        slowed_down_frames = [\n",
    "            frame for frame in frames for _ in range(int(slowdown_factor))\n",
    "        ]\n",
    "        \n",
    "        # Save the modified frames as a new gif\n",
    "        slowed_down_frames[0].save(\n",
    "            output_path,\n",
    "            save_all=True,\n",
    "            append_images=slowed_down_frames[1:],\n",
    "            duration=im.info['duration']*slowdown_factor,\n",
    "            loop=im.info['loop'],\n",
    "        )\n",
    "\n",
    "# Usage:\n",
    "# slow_down_gif('path_to_input.gif', 'path_to_output.gif')\n"
   ]
  },
  {
   "cell_type": "code",
   "execution_count": 8,
   "id": "a803c86a",
   "metadata": {},
   "outputs": [
    {
     "name": "stderr",
     "output_type": "stream",
     "text": [
      "Processing frames: 100%|█████████████████████| 151/151 [00:00<00:00, 606.87it/s]\n"
     ]
    }
   ],
   "source": [
    "slow_down_gif('/Users/dayn/data/loc_landing.gif', '/Users/dayn/data/loc_landing_slow.gif', slowdown_factor=1.5)"
   ]
  },
  {
   "cell_type": "code",
   "execution_count": 13,
   "id": "e02a8239",
   "metadata": {},
   "outputs": [
    {
     "data": {
      "text/plain": [
       "30456"
      ]
     },
     "execution_count": 13,
     "metadata": {},
     "output_type": "execute_result"
    }
   ],
   "source": [
    "94*4*9*9"
   ]
  }
 ],
 "metadata": {
  "kernelspec": {
   "display_name": "aerolite",
   "language": "python",
   "name": "aerolite"
  },
  "language_info": {
   "codemirror_mode": {
    "name": "ipython",
    "version": 3
   },
   "file_extension": ".py",
   "mimetype": "text/x-python",
   "name": "python",
   "nbconvert_exporter": "python",
   "pygments_lexer": "ipython3",
   "version": "3.11.2"
  }
 },
 "nbformat": 4,
 "nbformat_minor": 5
}
