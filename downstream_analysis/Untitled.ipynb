{
 "cells": [
  {
   "cell_type": "code",
   "execution_count": 1,
   "id": "b82e4872-dd30-42e5-9e74-54fe0614deed",
   "metadata": {},
   "outputs": [],
   "source": [
    "from bia_bob import bob"
   ]
  },
  {
   "cell_type": "code",
   "execution_count": 6,
   "id": "69acdbac-6214-4b12-852b-1ec2356f5197",
   "metadata": {},
   "outputs": [
    {
     "data": {
      "text/markdown": [],
      "text/plain": [
       "<IPython.core.display.Markdown object>"
      ]
     },
     "metadata": {},
     "output_type": "display_data"
    }
   ],
   "source": [
    "%%bob \n",
    "can you take any heic photos in this directory and turn them into jpg, and write the code to convert the images, and move the heic into a subdir and make that code repeat and keep checking for new images every 2 hours = '/run/user/30046150/gvfs/smb-share:server=data2.thecrick.org,share=lab-gutierrezm/home/shared/Shared - Natalia Athanasiadi/Rebecca\\'s book'"
   ]
  },
  {
   "cell_type": "code",
   "execution_count": 23,
   "id": "7731a84c-4d5f-4f0b-b4bb-3b29fd59c081",
   "metadata": {},
   "outputs": [
    {
     "ename": "KeyboardInterrupt",
     "evalue": "",
     "output_type": "error",
     "traceback": [
      "\u001b[0;31m---------------------------------------------------------------------------\u001b[0m",
      "\u001b[0;31mKeyboardInterrupt\u001b[0m                         Traceback (most recent call last)",
      "Cell \u001b[0;32mIn[23], line 30\u001b[0m\n\u001b[1;32m     27\u001b[0m         shutil\u001b[38;5;241m.\u001b[39mmove(heic_filepath, os\u001b[38;5;241m.\u001b[39mpath\u001b[38;5;241m.\u001b[39mjoin(subdir_path, filename))\n\u001b[1;32m     29\u001b[0m \u001b[38;5;66;03m# Repeat every 10min\u001b[39;00m\n\u001b[0;32m---> 30\u001b[0m \u001b[43mtime\u001b[49m\u001b[38;5;241;43m.\u001b[39;49m\u001b[43msleep\u001b[49m\u001b[43m(\u001b[49m\u001b[38;5;241;43m10\u001b[39;49m\u001b[38;5;241;43m*\u001b[39;49m\u001b[38;5;241;43m60\u001b[39;49m\u001b[43m)\u001b[49m\n",
      "\u001b[0;31mKeyboardInterrupt\u001b[0m: "
     ]
    }
   ],
   "source": [
    "import os\n",
    "import shutil\n",
    "import time\n",
    "from PIL import Image\n",
    "from pillow_heif import register_heif_opener\n",
    "\n",
    "register_heif_opener()\n",
    "\n",
    "path = \"/mnt/NEMO/home/shared/Shared - Natalia Athanasiadi/Rebecca's book \"\n",
    "\n",
    "image = Image.open(heic_filepath)\n",
    "def convert_heic_to_jpg(heic_filepath):\n",
    "    jpg_filepath = os.path.splitext(heic_filepath)[0] + \".jpg\"\n",
    "    image = Image.open(heic_filepath)\n",
    "    image.save(jpg_filepath, \"JPEG\")\n",
    "    return jpg_filepath\n",
    "\n",
    "while True:\n",
    "    for filename in os.listdir(path):\n",
    "        if filename.endswith(\".heic\"):\n",
    "            heic_filepath = os.path.join(path, filename)\n",
    "            jpg_filepath = convert_heic_to_jpg(heic_filepath)\n",
    "            \n",
    "            # Create subdirectory and move the .heic file\n",
    "            subdir_path = os.path.join(path, 'heic_files')\n",
    "            os.makedirs(subdir_path, exist_ok=True)\n",
    "            shutil.move(heic_filepath, os.path.join(subdir_path, filename))\n",
    "    \n",
    "    # Repeat every 10min\n",
    "    time.sleep(10*60)"
   ]
  }
 ],
 "metadata": {
  "kernelspec": {
   "display_name": "egg",
   "language": "python",
   "name": "egg"
  },
  "language_info": {
   "codemirror_mode": {
    "name": "ipython",
    "version": 3
   },
   "file_extension": ".py",
   "mimetype": "text/x-python",
   "name": "python",
   "nbconvert_exporter": "python",
   "pygments_lexer": "ipython3",
   "version": "3.9.17"
  }
 },
 "nbformat": 4,
 "nbformat_minor": 5
}
