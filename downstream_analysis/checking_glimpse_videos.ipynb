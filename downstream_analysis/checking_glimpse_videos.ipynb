{
 "cells": [
  {
   "cell_type": "markdown",
   "id": "6c01076a-f282-48dd-b80f-701c2d3f04a3",
   "metadata": {},
   "source": [
    "# Checking glimpse videos"
   ]
  },
  {
   "cell_type": "code",
   "execution_count": null,
   "id": "20286b0a-79f2-4280-8382-843b2ebd9fca",
   "metadata": {},
   "outputs": [],
   "source": [
    "import os\n",
    "from moviepy.editor import VideoFileClip\n",
    "\n",
    "def play_video(file_path):\n",
    "    \"\"\" Play a video file \"\"\"\n",
    "    clip = VideoFileClip(file_path)\n",
    "    clip.preview()\n",
    "\n",
    "def main(directory):\n",
    "    true_videos = []\n",
    "    false_videos = []\n",
    "\n",
    "    # Iterate over files in the directory\n",
    "    for filename in os.listdir(directory):\n",
    "        if filename.endswith(\".mp4\"):  # Check for MP4 files\n",
    "            file_path = os.path.join(directory, filename)\n",
    "            \n",
    "            # Play the video\n",
    "            print(f\"Playing {filename}...\")\n",
    "            play_video(file_path)\n",
    "            \n",
    "            # Prompt for user input\n",
    "            response = input(\"Is this video 'true' or 'false'? Enter 'true/t' or 'false/f' (or 'skip/[blank]' to skip): \").strip().lower()\n",
    "            \n",
    "            # Store the filename based on the response\n",
    "            if 't' in response:\n",
    "                true_videos.append(filename)\n",
    "            elif 'f' in response:\n",
    "                false_videos.append(filename)\n",
    "            elif response == 'skip' or response == '':\n",
    "                continue\n",
    "            else:\n",
    "                print(\"Invalid input. Skipping this video.\")\n",
    "\n",
    "    return true_videos, false_videos\n",
    "\n",
    "# Set the directory where your MP4 files are located\n",
    "video_directory = \"/path/to/your/video/directory\"\n",
    "\n",
    "# Run the main function\n",
    "true_videos, false_videos = main(video_directory)\n",
    "\n",
    "# Print out the lists\n",
    "print(\"True Videos:\", true_videos)\n",
    "print(\"False Videos:\", false_videos)"
   ]
  }
 ],
 "metadata": {
  "kernelspec": {
   "display_name": "brassica",
   "language": "python",
   "name": "brassica"
  },
  "language_info": {
   "codemirror_mode": {
    "name": "ipython",
    "version": 3
   },
   "file_extension": ".py",
   "mimetype": "text/x-python",
   "name": "python",
   "nbconvert_exporter": "python",
   "pygments_lexer": "ipython3",
   "version": "3.9.17"
  }
 },
 "nbformat": 4,
 "nbformat_minor": 5
}
