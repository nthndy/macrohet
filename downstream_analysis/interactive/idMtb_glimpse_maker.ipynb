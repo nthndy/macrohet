{
 "cells": [
  {
   "cell_type": "markdown",
   "id": "d2e295e0",
   "metadata": {},
   "source": [
    "# dMtb interactive glimpse maker"
   ]
  },
  {
   "cell_type": "code",
   "execution_count": 72,
   "id": "7975a2f4",
   "metadata": {},
   "outputs": [],
   "source": [
    "import napari\n",
    "from cellpose import models\n",
    "from macrohet import dataio, tile, visualise, tools, aws_tools\n",
    "import numpy as np\n",
    "import os\n",
    "\n",
    "def view(img):\n",
    "    return napari.Viewer().add_image(img)\n",
    "\n",
    "from napari_animation import Animation\n",
    "from tqdm.notebook import tqdm\n",
    "\n",
    "import btrack\n",
    "import dask.array as da\n",
    "\n",
    "from skimage.transform import rescale, resize, downscale_local_mean\n",
    "\n",
    "import pandas as pd\n",
    "import seaborn as sns\n",
    "import matplotlib.pyplot as plt\n",
    "sns.set_theme(style=\"ticks\")\n",
    "sns.set_palette(\"Spectral\")\n"
   ]
  },
  {
   "cell_type": "markdown",
   "id": "3751ef77",
   "metadata": {},
   "source": [
    "### Load all metadata\n",
    "\n",
    "Both the image metadata and the assay layout metadata"
   ]
  },
  {
   "cell_type": "code",
   "execution_count": 2,
   "id": "8d20db67",
   "metadata": {},
   "outputs": [
    {
     "name": "stdout",
     "output_type": "stream",
     "text": [
      "Reading metadata XML file...\n"
     ]
    },
    {
     "data": {
      "application/vnd.jupyter.widget-view+json": {
       "model_id": "d0d8c1d230514afaa1cb55b8cb85b460",
       "version_major": 2,
       "version_minor": 0
      },
      "text/plain": [
       "Extracting HarmonyV5 metadata:   0%|          | 0/113400 [00:00<?, ?it/s]"
      ]
     },
     "metadata": {},
     "output_type": "display_data"
    },
    {
     "name": "stdout",
     "output_type": "stream",
     "text": [
      "Extracting metadata complete!\n"
     ]
    },
    {
     "data": {
      "text/html": [
       "<div>\n",
       "<style scoped>\n",
       "    .dataframe tbody tr th:only-of-type {\n",
       "        vertical-align: middle;\n",
       "    }\n",
       "\n",
       "    .dataframe tbody tr th {\n",
       "        vertical-align: top;\n",
       "    }\n",
       "\n",
       "    .dataframe thead th {\n",
       "        text-align: right;\n",
       "    }\n",
       "</style>\n",
       "<table border=\"1\" class=\"dataframe\">\n",
       "  <thead>\n",
       "    <tr style=\"text-align: right;\">\n",
       "      <th></th>\n",
       "      <th>id</th>\n",
       "      <th>State</th>\n",
       "      <th>URL</th>\n",
       "      <th>Row</th>\n",
       "      <th>Col</th>\n",
       "      <th>FieldID</th>\n",
       "      <th>PlaneID</th>\n",
       "      <th>TimepointID</th>\n",
       "      <th>ChannelID</th>\n",
       "      <th>FlimID</th>\n",
       "      <th>...</th>\n",
       "      <th>PositionZ</th>\n",
       "      <th>AbsPositionZ</th>\n",
       "      <th>MeasurementTimeOffset</th>\n",
       "      <th>AbsTime</th>\n",
       "      <th>MainExcitationWavelength</th>\n",
       "      <th>MainEmissionWavelength</th>\n",
       "      <th>ObjectiveMagnification</th>\n",
       "      <th>ObjectiveNA</th>\n",
       "      <th>ExposureTime</th>\n",
       "      <th>OrientationMatrix</th>\n",
       "    </tr>\n",
       "  </thead>\n",
       "  <tbody>\n",
       "    <tr>\n",
       "      <th>0</th>\n",
       "      <td>0303K1F1P1R1</td>\n",
       "      <td>Ok</td>\n",
       "      <td>r03c03f01p01-ch1sk1fk1fl1.tiff</td>\n",
       "      <td>3</td>\n",
       "      <td>3</td>\n",
       "      <td>1</td>\n",
       "      <td>1</td>\n",
       "      <td>0</td>\n",
       "      <td>1</td>\n",
       "      <td>1</td>\n",
       "      <td>...</td>\n",
       "      <td>0</td>\n",
       "      <td>0.135583505</td>\n",
       "      <td>0</td>\n",
       "      <td>2021-04-16T19:09:33.84+01:00</td>\n",
       "      <td>488</td>\n",
       "      <td>522</td>\n",
       "      <td>40</td>\n",
       "      <td>1.1</td>\n",
       "      <td>0.1</td>\n",
       "      <td>[[0.990860,0,0,-15.9],[0,-0.990860,0,-44.8],[0...</td>\n",
       "    </tr>\n",
       "    <tr>\n",
       "      <th>1</th>\n",
       "      <td>0303K1F1P1R2</td>\n",
       "      <td>Ok</td>\n",
       "      <td>r03c03f01p01-ch2sk1fk1fl1.tiff</td>\n",
       "      <td>3</td>\n",
       "      <td>3</td>\n",
       "      <td>1</td>\n",
       "      <td>1</td>\n",
       "      <td>0</td>\n",
       "      <td>2</td>\n",
       "      <td>1</td>\n",
       "      <td>...</td>\n",
       "      <td>0</td>\n",
       "      <td>0.135583505</td>\n",
       "      <td>0</td>\n",
       "      <td>2021-04-16T19:09:33.84+01:00</td>\n",
       "      <td>640</td>\n",
       "      <td>706</td>\n",
       "      <td>40</td>\n",
       "      <td>1.1</td>\n",
       "      <td>0.2</td>\n",
       "      <td>[[0.990860,0,0,-15.9],[0,-0.990860,0,-44.8],[0...</td>\n",
       "    </tr>\n",
       "    <tr>\n",
       "      <th>2</th>\n",
       "      <td>0303K1F1P2R1</td>\n",
       "      <td>Ok</td>\n",
       "      <td>r03c03f01p02-ch1sk1fk1fl1.tiff</td>\n",
       "      <td>3</td>\n",
       "      <td>3</td>\n",
       "      <td>1</td>\n",
       "      <td>2</td>\n",
       "      <td>0</td>\n",
       "      <td>1</td>\n",
       "      <td>1</td>\n",
       "      <td>...</td>\n",
       "      <td>2E-06</td>\n",
       "      <td>0.135585502</td>\n",
       "      <td>0</td>\n",
       "      <td>2021-04-16T19:09:34.12+01:00</td>\n",
       "      <td>488</td>\n",
       "      <td>522</td>\n",
       "      <td>40</td>\n",
       "      <td>1.1</td>\n",
       "      <td>0.1</td>\n",
       "      <td>[[0.990860,0,0,-15.9],[0,-0.990860,0,-44.8],[0...</td>\n",
       "    </tr>\n",
       "    <tr>\n",
       "      <th>3</th>\n",
       "      <td>0303K1F1P2R2</td>\n",
       "      <td>Ok</td>\n",
       "      <td>r03c03f01p02-ch2sk1fk1fl1.tiff</td>\n",
       "      <td>3</td>\n",
       "      <td>3</td>\n",
       "      <td>1</td>\n",
       "      <td>2</td>\n",
       "      <td>0</td>\n",
       "      <td>2</td>\n",
       "      <td>1</td>\n",
       "      <td>...</td>\n",
       "      <td>2E-06</td>\n",
       "      <td>0.135585502</td>\n",
       "      <td>0</td>\n",
       "      <td>2021-04-16T19:09:34.12+01:00</td>\n",
       "      <td>640</td>\n",
       "      <td>706</td>\n",
       "      <td>40</td>\n",
       "      <td>1.1</td>\n",
       "      <td>0.2</td>\n",
       "      <td>[[0.990860,0,0,-15.9],[0,-0.990860,0,-44.8],[0...</td>\n",
       "    </tr>\n",
       "    <tr>\n",
       "      <th>4</th>\n",
       "      <td>0303K1F1P3R1</td>\n",
       "      <td>Ok</td>\n",
       "      <td>r03c03f01p03-ch1sk1fk1fl1.tiff</td>\n",
       "      <td>3</td>\n",
       "      <td>3</td>\n",
       "      <td>1</td>\n",
       "      <td>3</td>\n",
       "      <td>0</td>\n",
       "      <td>1</td>\n",
       "      <td>1</td>\n",
       "      <td>...</td>\n",
       "      <td>4E-06</td>\n",
       "      <td>0.135587499</td>\n",
       "      <td>0</td>\n",
       "      <td>2021-04-16T19:09:34.4+01:00</td>\n",
       "      <td>488</td>\n",
       "      <td>522</td>\n",
       "      <td>40</td>\n",
       "      <td>1.1</td>\n",
       "      <td>0.1</td>\n",
       "      <td>[[0.990860,0,0,-15.9],[0,-0.990860,0,-44.8],[0...</td>\n",
       "    </tr>\n",
       "    <tr>\n",
       "      <th>...</th>\n",
       "      <td>...</td>\n",
       "      <td>...</td>\n",
       "      <td>...</td>\n",
       "      <td>...</td>\n",
       "      <td>...</td>\n",
       "      <td>...</td>\n",
       "      <td>...</td>\n",
       "      <td>...</td>\n",
       "      <td>...</td>\n",
       "      <td>...</td>\n",
       "      <td>...</td>\n",
       "      <td>...</td>\n",
       "      <td>...</td>\n",
       "      <td>...</td>\n",
       "      <td>...</td>\n",
       "      <td>...</td>\n",
       "      <td>...</td>\n",
       "      <td>...</td>\n",
       "      <td>...</td>\n",
       "      <td>...</td>\n",
       "      <td>...</td>\n",
       "    </tr>\n",
       "    <tr>\n",
       "      <th>113395</th>\n",
       "      <td>0609K75F9P1R2</td>\n",
       "      <td>Ok</td>\n",
       "      <td>r06c09f09p01-ch2sk75fk1fl1.tiff</td>\n",
       "      <td>6</td>\n",
       "      <td>9</td>\n",
       "      <td>9</td>\n",
       "      <td>1</td>\n",
       "      <td>74</td>\n",
       "      <td>2</td>\n",
       "      <td>1</td>\n",
       "      <td>...</td>\n",
       "      <td>0</td>\n",
       "      <td>0.135533601</td>\n",
       "      <td>266399.61</td>\n",
       "      <td>2021-04-19T21:14:19.477+01:00</td>\n",
       "      <td>640</td>\n",
       "      <td>706</td>\n",
       "      <td>40</td>\n",
       "      <td>1.1</td>\n",
       "      <td>0.2</td>\n",
       "      <td>[[0.990860,0,0,-15.9],[0,-0.990860,0,-44.8],[0...</td>\n",
       "    </tr>\n",
       "    <tr>\n",
       "      <th>113396</th>\n",
       "      <td>0609K75F9P2R1</td>\n",
       "      <td>Ok</td>\n",
       "      <td>r06c09f09p02-ch1sk75fk1fl1.tiff</td>\n",
       "      <td>6</td>\n",
       "      <td>9</td>\n",
       "      <td>9</td>\n",
       "      <td>2</td>\n",
       "      <td>74</td>\n",
       "      <td>1</td>\n",
       "      <td>1</td>\n",
       "      <td>...</td>\n",
       "      <td>2E-06</td>\n",
       "      <td>0.135535598</td>\n",
       "      <td>266399.61</td>\n",
       "      <td>2021-04-19T21:14:19.757+01:00</td>\n",
       "      <td>488</td>\n",
       "      <td>522</td>\n",
       "      <td>40</td>\n",
       "      <td>1.1</td>\n",
       "      <td>0.1</td>\n",
       "      <td>[[0.990860,0,0,-15.9],[0,-0.990860,0,-44.8],[0...</td>\n",
       "    </tr>\n",
       "    <tr>\n",
       "      <th>113397</th>\n",
       "      <td>0609K75F9P2R2</td>\n",
       "      <td>Ok</td>\n",
       "      <td>r06c09f09p02-ch2sk75fk1fl1.tiff</td>\n",
       "      <td>6</td>\n",
       "      <td>9</td>\n",
       "      <td>9</td>\n",
       "      <td>2</td>\n",
       "      <td>74</td>\n",
       "      <td>2</td>\n",
       "      <td>1</td>\n",
       "      <td>...</td>\n",
       "      <td>2E-06</td>\n",
       "      <td>0.135535598</td>\n",
       "      <td>266399.61</td>\n",
       "      <td>2021-04-19T21:14:19.757+01:00</td>\n",
       "      <td>640</td>\n",
       "      <td>706</td>\n",
       "      <td>40</td>\n",
       "      <td>1.1</td>\n",
       "      <td>0.2</td>\n",
       "      <td>[[0.990860,0,0,-15.9],[0,-0.990860,0,-44.8],[0...</td>\n",
       "    </tr>\n",
       "    <tr>\n",
       "      <th>113398</th>\n",
       "      <td>0609K75F9P3R1</td>\n",
       "      <td>Ok</td>\n",
       "      <td>r06c09f09p03-ch1sk75fk1fl1.tiff</td>\n",
       "      <td>6</td>\n",
       "      <td>9</td>\n",
       "      <td>9</td>\n",
       "      <td>3</td>\n",
       "      <td>74</td>\n",
       "      <td>1</td>\n",
       "      <td>1</td>\n",
       "      <td>...</td>\n",
       "      <td>4E-06</td>\n",
       "      <td>0.135537595</td>\n",
       "      <td>266399.61</td>\n",
       "      <td>2021-04-19T21:14:20.037+01:00</td>\n",
       "      <td>488</td>\n",
       "      <td>522</td>\n",
       "      <td>40</td>\n",
       "      <td>1.1</td>\n",
       "      <td>0.1</td>\n",
       "      <td>[[0.990860,0,0,-15.9],[0,-0.990860,0,-44.8],[0...</td>\n",
       "    </tr>\n",
       "    <tr>\n",
       "      <th>113399</th>\n",
       "      <td>0609K75F9P3R2</td>\n",
       "      <td>Ok</td>\n",
       "      <td>r06c09f09p03-ch2sk75fk1fl1.tiff</td>\n",
       "      <td>6</td>\n",
       "      <td>9</td>\n",
       "      <td>9</td>\n",
       "      <td>3</td>\n",
       "      <td>74</td>\n",
       "      <td>2</td>\n",
       "      <td>1</td>\n",
       "      <td>...</td>\n",
       "      <td>4E-06</td>\n",
       "      <td>0.135537595</td>\n",
       "      <td>266399.61</td>\n",
       "      <td>2021-04-19T21:14:20.037+01:00</td>\n",
       "      <td>640</td>\n",
       "      <td>706</td>\n",
       "      <td>40</td>\n",
       "      <td>1.1</td>\n",
       "      <td>0.2</td>\n",
       "      <td>[[0.990860,0,0,-15.9],[0,-0.990860,0,-44.8],[0...</td>\n",
       "    </tr>\n",
       "  </tbody>\n",
       "</table>\n",
       "<p>113400 rows × 35 columns</p>\n",
       "</div>"
      ],
      "text/plain": [
       "                   id State                              URL Row Col FieldID  \\\n",
       "0        0303K1F1P1R1    Ok   r03c03f01p01-ch1sk1fk1fl1.tiff   3   3       1   \n",
       "1        0303K1F1P1R2    Ok   r03c03f01p01-ch2sk1fk1fl1.tiff   3   3       1   \n",
       "2        0303K1F1P2R1    Ok   r03c03f01p02-ch1sk1fk1fl1.tiff   3   3       1   \n",
       "3        0303K1F1P2R2    Ok   r03c03f01p02-ch2sk1fk1fl1.tiff   3   3       1   \n",
       "4        0303K1F1P3R1    Ok   r03c03f01p03-ch1sk1fk1fl1.tiff   3   3       1   \n",
       "...               ...   ...                              ...  ..  ..     ...   \n",
       "113395  0609K75F9P1R2    Ok  r06c09f09p01-ch2sk75fk1fl1.tiff   6   9       9   \n",
       "113396  0609K75F9P2R1    Ok  r06c09f09p02-ch1sk75fk1fl1.tiff   6   9       9   \n",
       "113397  0609K75F9P2R2    Ok  r06c09f09p02-ch2sk75fk1fl1.tiff   6   9       9   \n",
       "113398  0609K75F9P3R1    Ok  r06c09f09p03-ch1sk75fk1fl1.tiff   6   9       9   \n",
       "113399  0609K75F9P3R2    Ok  r06c09f09p03-ch2sk75fk1fl1.tiff   6   9       9   \n",
       "\n",
       "       PlaneID TimepointID ChannelID FlimID  ... PositionZ AbsPositionZ  \\\n",
       "0            1           0         1      1  ...         0  0.135583505   \n",
       "1            1           0         2      1  ...         0  0.135583505   \n",
       "2            2           0         1      1  ...     2E-06  0.135585502   \n",
       "3            2           0         2      1  ...     2E-06  0.135585502   \n",
       "4            3           0         1      1  ...     4E-06  0.135587499   \n",
       "...        ...         ...       ...    ...  ...       ...          ...   \n",
       "113395       1          74         2      1  ...         0  0.135533601   \n",
       "113396       2          74         1      1  ...     2E-06  0.135535598   \n",
       "113397       2          74         2      1  ...     2E-06  0.135535598   \n",
       "113398       3          74         1      1  ...     4E-06  0.135537595   \n",
       "113399       3          74         2      1  ...     4E-06  0.135537595   \n",
       "\n",
       "       MeasurementTimeOffset                        AbsTime  \\\n",
       "0                          0   2021-04-16T19:09:33.84+01:00   \n",
       "1                          0   2021-04-16T19:09:33.84+01:00   \n",
       "2                          0   2021-04-16T19:09:34.12+01:00   \n",
       "3                          0   2021-04-16T19:09:34.12+01:00   \n",
       "4                          0    2021-04-16T19:09:34.4+01:00   \n",
       "...                      ...                            ...   \n",
       "113395             266399.61  2021-04-19T21:14:19.477+01:00   \n",
       "113396             266399.61  2021-04-19T21:14:19.757+01:00   \n",
       "113397             266399.61  2021-04-19T21:14:19.757+01:00   \n",
       "113398             266399.61  2021-04-19T21:14:20.037+01:00   \n",
       "113399             266399.61  2021-04-19T21:14:20.037+01:00   \n",
       "\n",
       "       MainExcitationWavelength MainEmissionWavelength ObjectiveMagnification  \\\n",
       "0                           488                    522                     40   \n",
       "1                           640                    706                     40   \n",
       "2                           488                    522                     40   \n",
       "3                           640                    706                     40   \n",
       "4                           488                    522                     40   \n",
       "...                         ...                    ...                    ...   \n",
       "113395                      640                    706                     40   \n",
       "113396                      488                    522                     40   \n",
       "113397                      640                    706                     40   \n",
       "113398                      488                    522                     40   \n",
       "113399                      640                    706                     40   \n",
       "\n",
       "       ObjectiveNA ExposureTime  \\\n",
       "0              1.1          0.1   \n",
       "1              1.1          0.2   \n",
       "2              1.1          0.1   \n",
       "3              1.1          0.2   \n",
       "4              1.1          0.1   \n",
       "...            ...          ...   \n",
       "113395         1.1          0.2   \n",
       "113396         1.1          0.1   \n",
       "113397         1.1          0.2   \n",
       "113398         1.1          0.1   \n",
       "113399         1.1          0.2   \n",
       "\n",
       "                                        OrientationMatrix  \n",
       "0       [[0.990860,0,0,-15.9],[0,-0.990860,0,-44.8],[0...  \n",
       "1       [[0.990860,0,0,-15.9],[0,-0.990860,0,-44.8],[0...  \n",
       "2       [[0.990860,0,0,-15.9],[0,-0.990860,0,-44.8],[0...  \n",
       "3       [[0.990860,0,0,-15.9],[0,-0.990860,0,-44.8],[0...  \n",
       "4       [[0.990860,0,0,-15.9],[0,-0.990860,0,-44.8],[0...  \n",
       "...                                                   ...  \n",
       "113395  [[0.990860,0,0,-15.9],[0,-0.990860,0,-44.8],[0...  \n",
       "113396  [[0.990860,0,0,-15.9],[0,-0.990860,0,-44.8],[0...  \n",
       "113397  [[0.990860,0,0,-15.9],[0,-0.990860,0,-44.8],[0...  \n",
       "113398  [[0.990860,0,0,-15.9],[0,-0.990860,0,-44.8],[0...  \n",
       "113399  [[0.990860,0,0,-15.9],[0,-0.990860,0,-44.8],[0...  \n",
       "\n",
       "[113400 rows x 35 columns]"
      ]
     },
     "execution_count": 2,
     "metadata": {},
     "output_type": "execute_result"
    }
   ],
   "source": [
    "base_dir = '/mnt/DATA/macrohet/'\n",
    "# base_dir = '/Volumes/lab-gutierrezm/home/users/dayn/macrohet/'\n",
    "metadata_fn = os.path.join(base_dir, 'macrohet_images/PS0000/Index.idx.xml')\n",
    "metadata = dataio.read_harmony_metadata(metadata_fn)  \n",
    "metadata"
   ]
  },
  {
   "cell_type": "markdown",
   "id": "8597dbf0",
   "metadata": {},
   "source": [
    "### View assay layout and mask information (optional)\n",
    "\n",
    "The Opera Phenix acquires many time lapse series from a range of positions. The first step is to inspect the image metadata, presented in the form of an `Assaylayout/experiment_ID.xml` file, to show which positions correspond to which experimental assays."
   ]
  },
  {
   "cell_type": "code",
   "execution_count": 15,
   "id": "59e44b64-92c3-4c3f-92b4-5f385770e44a",
   "metadata": {},
   "outputs": [
    {
     "name": "stdout",
     "output_type": "stream",
     "text": [
      "Reading metadata XML file...\n",
      "Extracting metadata complete!\n",
      "CPU times: user 13.1 ms, sys: 94 µs, total: 13.2 ms\n",
      "Wall time: 12 ms\n"
     ]
    }
   ],
   "source": [
    "%%time\n",
    "metadata_path = os.path.join(base_dir, 'macrohet_images/PS0000/Assaylayout/20210602_Live_cell_IPSDMGFP_ATB.xml')\n",
    "assay_layout = dataio.read_harmony_metadata(metadata_path, assay_layout=True,)# mask_exist=True,  image_dir = image_dir, image_metadata = metadata)"
   ]
  },
  {
   "cell_type": "markdown",
   "id": "1ae8e050-bc94-4253-bda0-64609e3d9046",
   "metadata": {},
   "source": [
    "Add technical replicate label to assay layout"
   ]
  },
  {
   "cell_type": "code",
   "execution_count": 16,
   "id": "b38b8d5b-2c8f-42ea-a697-0b883a71bd0f",
   "metadata": {},
   "outputs": [
    {
     "data": {
      "text/html": [
       "<div>\n",
       "<style scoped>\n",
       "    .dataframe tbody tr th:only-of-type {\n",
       "        vertical-align: middle;\n",
       "    }\n",
       "\n",
       "    .dataframe tbody tr th {\n",
       "        vertical-align: top;\n",
       "    }\n",
       "\n",
       "    .dataframe thead th {\n",
       "        text-align: right;\n",
       "    }\n",
       "</style>\n",
       "<table border=\"1\" class=\"dataframe\">\n",
       "  <thead>\n",
       "    <tr style=\"text-align: right;\">\n",
       "      <th></th>\n",
       "      <th></th>\n",
       "      <th>Strain</th>\n",
       "      <th>Compound</th>\n",
       "      <th>Concentration</th>\n",
       "      <th>ConcentrationEC</th>\n",
       "      <th>Technical replicate</th>\n",
       "    </tr>\n",
       "  </thead>\n",
       "  <tbody>\n",
       "    <tr>\n",
       "      <th rowspan=\"6\" valign=\"top\">3</th>\n",
       "      <th>4</th>\n",
       "      <td>RD1</td>\n",
       "      <td>CTRL</td>\n",
       "      <td>0</td>\n",
       "      <td>EC0</td>\n",
       "      <td>1</td>\n",
       "    </tr>\n",
       "    <tr>\n",
       "      <th>5</th>\n",
       "      <td>WT</td>\n",
       "      <td>CTRL</td>\n",
       "      <td>0</td>\n",
       "      <td>EC0</td>\n",
       "      <td>1</td>\n",
       "    </tr>\n",
       "    <tr>\n",
       "      <th>6</th>\n",
       "      <td>WT</td>\n",
       "      <td>PZA</td>\n",
       "      <td>60</td>\n",
       "      <td>EC50</td>\n",
       "      <td>1</td>\n",
       "    </tr>\n",
       "    <tr>\n",
       "      <th>7</th>\n",
       "      <td>WT</td>\n",
       "      <td>RIF</td>\n",
       "      <td>0.1</td>\n",
       "      <td>EC50</td>\n",
       "      <td>1</td>\n",
       "    </tr>\n",
       "    <tr>\n",
       "      <th>8</th>\n",
       "      <td>WT</td>\n",
       "      <td>INH</td>\n",
       "      <td>0.04</td>\n",
       "      <td>EC50</td>\n",
       "      <td>1</td>\n",
       "    </tr>\n",
       "    <tr>\n",
       "      <th>9</th>\n",
       "      <td>WT</td>\n",
       "      <td>BDQ</td>\n",
       "      <td>0.02</td>\n",
       "      <td>EC50</td>\n",
       "      <td>1</td>\n",
       "    </tr>\n",
       "    <tr>\n",
       "      <th rowspan=\"6\" valign=\"top\">4</th>\n",
       "      <th>4</th>\n",
       "      <td>RD1</td>\n",
       "      <td>CTRL</td>\n",
       "      <td>0</td>\n",
       "      <td>EC0</td>\n",
       "      <td>2</td>\n",
       "    </tr>\n",
       "    <tr>\n",
       "      <th>5</th>\n",
       "      <td>WT</td>\n",
       "      <td>CTRL</td>\n",
       "      <td>0</td>\n",
       "      <td>EC0</td>\n",
       "      <td>2</td>\n",
       "    </tr>\n",
       "    <tr>\n",
       "      <th>6</th>\n",
       "      <td>WT</td>\n",
       "      <td>PZA</td>\n",
       "      <td>60</td>\n",
       "      <td>EC50</td>\n",
       "      <td>2</td>\n",
       "    </tr>\n",
       "    <tr>\n",
       "      <th>7</th>\n",
       "      <td>WT</td>\n",
       "      <td>RIF</td>\n",
       "      <td>0.1</td>\n",
       "      <td>EC50</td>\n",
       "      <td>2</td>\n",
       "    </tr>\n",
       "    <tr>\n",
       "      <th>8</th>\n",
       "      <td>WT</td>\n",
       "      <td>INH</td>\n",
       "      <td>0.04</td>\n",
       "      <td>EC50</td>\n",
       "      <td>2</td>\n",
       "    </tr>\n",
       "    <tr>\n",
       "      <th>9</th>\n",
       "      <td>WT</td>\n",
       "      <td>BDQ</td>\n",
       "      <td>0.02</td>\n",
       "      <td>EC50</td>\n",
       "      <td>2</td>\n",
       "    </tr>\n",
       "    <tr>\n",
       "      <th rowspan=\"6\" valign=\"top\">5</th>\n",
       "      <th>4</th>\n",
       "      <td>RD1</td>\n",
       "      <td>CTRL</td>\n",
       "      <td>0</td>\n",
       "      <td>EC0</td>\n",
       "      <td>3</td>\n",
       "    </tr>\n",
       "    <tr>\n",
       "      <th>5</th>\n",
       "      <td>WT</td>\n",
       "      <td>CTRL</td>\n",
       "      <td>0</td>\n",
       "      <td>EC0</td>\n",
       "      <td>3</td>\n",
       "    </tr>\n",
       "    <tr>\n",
       "      <th>6</th>\n",
       "      <td>WT</td>\n",
       "      <td>PZA</td>\n",
       "      <td>400</td>\n",
       "      <td>EC99</td>\n",
       "      <td>1</td>\n",
       "    </tr>\n",
       "    <tr>\n",
       "      <th>7</th>\n",
       "      <td>WT</td>\n",
       "      <td>RIF</td>\n",
       "      <td>2</td>\n",
       "      <td>EC99</td>\n",
       "      <td>1</td>\n",
       "    </tr>\n",
       "    <tr>\n",
       "      <th>8</th>\n",
       "      <td>WT</td>\n",
       "      <td>INH</td>\n",
       "      <td>2</td>\n",
       "      <td>EC99</td>\n",
       "      <td>1</td>\n",
       "    </tr>\n",
       "    <tr>\n",
       "      <th>9</th>\n",
       "      <td>WT</td>\n",
       "      <td>BDQ</td>\n",
       "      <td>2.5</td>\n",
       "      <td>EC99</td>\n",
       "      <td>1</td>\n",
       "    </tr>\n",
       "    <tr>\n",
       "      <th rowspan=\"6\" valign=\"top\">6</th>\n",
       "      <th>4</th>\n",
       "      <td>RD1</td>\n",
       "      <td>CTRL</td>\n",
       "      <td>0</td>\n",
       "      <td>EC0</td>\n",
       "      <td>4</td>\n",
       "    </tr>\n",
       "    <tr>\n",
       "      <th>5</th>\n",
       "      <td>WT</td>\n",
       "      <td>CTRL</td>\n",
       "      <td>0</td>\n",
       "      <td>EC0</td>\n",
       "      <td>4</td>\n",
       "    </tr>\n",
       "    <tr>\n",
       "      <th>6</th>\n",
       "      <td>WT</td>\n",
       "      <td>PZA</td>\n",
       "      <td>400</td>\n",
       "      <td>EC99</td>\n",
       "      <td>2</td>\n",
       "    </tr>\n",
       "    <tr>\n",
       "      <th>7</th>\n",
       "      <td>WT</td>\n",
       "      <td>RIF</td>\n",
       "      <td>2</td>\n",
       "      <td>EC99</td>\n",
       "      <td>2</td>\n",
       "    </tr>\n",
       "    <tr>\n",
       "      <th>8</th>\n",
       "      <td>WT</td>\n",
       "      <td>INH</td>\n",
       "      <td>2</td>\n",
       "      <td>EC99</td>\n",
       "      <td>2</td>\n",
       "    </tr>\n",
       "    <tr>\n",
       "      <th>9</th>\n",
       "      <td>WT</td>\n",
       "      <td>BDQ</td>\n",
       "      <td>2.5</td>\n",
       "      <td>EC99</td>\n",
       "      <td>2</td>\n",
       "    </tr>\n",
       "  </tbody>\n",
       "</table>\n",
       "</div>"
      ],
      "text/plain": [
       "    Strain Compound Concentration ConcentrationEC  Technical replicate\n",
       "3 4    RD1     CTRL             0             EC0                    1\n",
       "  5     WT     CTRL             0             EC0                    1\n",
       "  6     WT      PZA            60            EC50                    1\n",
       "  7     WT      RIF           0.1            EC50                    1\n",
       "  8     WT      INH          0.04            EC50                    1\n",
       "  9     WT      BDQ          0.02            EC50                    1\n",
       "4 4    RD1     CTRL             0             EC0                    2\n",
       "  5     WT     CTRL             0             EC0                    2\n",
       "  6     WT      PZA            60            EC50                    2\n",
       "  7     WT      RIF           0.1            EC50                    2\n",
       "  8     WT      INH          0.04            EC50                    2\n",
       "  9     WT      BDQ          0.02            EC50                    2\n",
       "5 4    RD1     CTRL             0             EC0                    3\n",
       "  5     WT     CTRL             0             EC0                    3\n",
       "  6     WT      PZA           400            EC99                    1\n",
       "  7     WT      RIF             2            EC99                    1\n",
       "  8     WT      INH             2            EC99                    1\n",
       "  9     WT      BDQ           2.5            EC99                    1\n",
       "6 4    RD1     CTRL             0             EC0                    4\n",
       "  5     WT     CTRL             0             EC0                    4\n",
       "  6     WT      PZA           400            EC99                    2\n",
       "  7     WT      RIF             2            EC99                    2\n",
       "  8     WT      INH             2            EC99                    2\n",
       "  9     WT      BDQ           2.5            EC99                    2"
      ]
     },
     "execution_count": 16,
     "metadata": {},
     "output_type": "execute_result"
    }
   ],
   "source": [
    "assay_layout['Technical replicate'] = assay_layout.groupby(['Strain', 'Compound', 'Concentration', 'ConcentrationEC']).cumcount() + 1\n",
    "assay_layout"
   ]
  },
  {
   "cell_type": "markdown",
   "id": "97ae561d",
   "metadata": {},
   "source": [
    "# Iteratively load all tracks\n",
    "\n",
    "and append to a track_dict dictionary"
   ]
  },
  {
   "cell_type": "code",
   "execution_count": 4,
   "id": "5cccf905",
   "metadata": {
    "scrolled": true
   },
   "outputs": [
    {
     "data": {
      "application/vnd.jupyter.widget-view+json": {
       "model_id": "78b8763cd7804a4c8f84ca8c2586d6df",
       "version_major": 2,
       "version_minor": 0
      },
      "text/plain": [
       "Progress through positions:   0%|          | 0/24 [00:00<?, ?it/s]"
      ]
     },
     "metadata": {},
     "output_type": "display_data"
    },
    {
     "name": "stderr",
     "output_type": "stream",
     "text": [
      "[INFO][2023/06/19 03:38:53 PM] Opening HDF file: /mnt/DATA/macrohet/labels/macrohet_seg_model/(3, 4).h5...\n",
      "[INFO][2023/06/19 03:38:53 PM] Loading tracks/obj_type_1\n",
      "[INFO][2023/06/19 03:38:53 PM] Loading LBEP/obj_type_1\n",
      "[INFO][2023/06/19 03:38:53 PM] Loading objects/obj_type_1 (39878, 5) (39878 filtered: None)\n",
      "[INFO][2023/06/19 03:38:53 PM] Closing HDF file: /mnt/DATA/macrohet/labels/macrohet_seg_model/(3, 4).h5\n",
      "[INFO][2023/06/19 03:38:53 PM] Opening HDF file: /mnt/DATA/macrohet/labels/macrohet_seg_model/(3, 5).h5...\n",
      "[INFO][2023/06/19 03:38:53 PM] Loading tracks/obj_type_1\n",
      "[INFO][2023/06/19 03:38:53 PM] Loading LBEP/obj_type_1\n",
      "[INFO][2023/06/19 03:38:53 PM] Loading objects/obj_type_1 (41424, 5) (41424 filtered: None)\n",
      "[INFO][2023/06/19 03:38:54 PM] Closing HDF file: /mnt/DATA/macrohet/labels/macrohet_seg_model/(3, 5).h5\n",
      "[INFO][2023/06/19 03:38:54 PM] Opening HDF file: /mnt/DATA/macrohet/labels/macrohet_seg_model/(3, 6).h5...\n",
      "[INFO][2023/06/19 03:38:54 PM] Loading tracks/obj_type_1\n",
      "[INFO][2023/06/19 03:38:54 PM] Loading LBEP/obj_type_1\n",
      "[INFO][2023/06/19 03:38:54 PM] Loading objects/obj_type_1 (46507, 5) (46507 filtered: None)\n",
      "[INFO][2023/06/19 03:38:55 PM] Closing HDF file: /mnt/DATA/macrohet/labels/macrohet_seg_model/(3, 6).h5\n",
      "[INFO][2023/06/19 03:38:55 PM] Opening HDF file: /mnt/DATA/macrohet/labels/macrohet_seg_model/(3, 7).h5...\n",
      "[INFO][2023/06/19 03:38:55 PM] Loading tracks/obj_type_1\n",
      "[INFO][2023/06/19 03:38:55 PM] Loading LBEP/obj_type_1\n",
      "[INFO][2023/06/19 03:38:55 PM] Loading objects/obj_type_1 (42503, 5) (42503 filtered: None)\n",
      "[INFO][2023/06/19 03:38:55 PM] Closing HDF file: /mnt/DATA/macrohet/labels/macrohet_seg_model/(3, 7).h5\n",
      "[INFO][2023/06/19 03:38:55 PM] Opening HDF file: /mnt/DATA/macrohet/labels/macrohet_seg_model/(3, 8).h5...\n",
      "[INFO][2023/06/19 03:38:55 PM] Loading tracks/obj_type_1\n",
      "[INFO][2023/06/19 03:38:55 PM] Loading LBEP/obj_type_1\n",
      "[INFO][2023/06/19 03:38:55 PM] Loading objects/obj_type_1 (47396, 5) (47396 filtered: None)\n",
      "[INFO][2023/06/19 03:38:56 PM] Closing HDF file: /mnt/DATA/macrohet/labels/macrohet_seg_model/(3, 8).h5\n",
      "[INFO][2023/06/19 03:38:56 PM] Opening HDF file: /mnt/DATA/macrohet/labels/macrohet_seg_model/(3, 9).h5...\n",
      "[INFO][2023/06/19 03:38:56 PM] Loading tracks/obj_type_1\n",
      "[INFO][2023/06/19 03:38:56 PM] Loading LBEP/obj_type_1\n",
      "[INFO][2023/06/19 03:38:56 PM] Loading objects/obj_type_1 (42259, 5) (42259 filtered: None)\n",
      "[INFO][2023/06/19 03:38:56 PM] Closing HDF file: /mnt/DATA/macrohet/labels/macrohet_seg_model/(3, 9).h5\n",
      "[INFO][2023/06/19 03:38:56 PM] Opening HDF file: /mnt/DATA/macrohet/labels/macrohet_seg_model/(4, 4).h5...\n",
      "[INFO][2023/06/19 03:38:56 PM] Loading tracks/obj_type_1\n",
      "[INFO][2023/06/19 03:38:56 PM] Loading LBEP/obj_type_1\n",
      "[INFO][2023/06/19 03:38:56 PM] Loading objects/obj_type_1 (41640, 5) (41640 filtered: None)\n",
      "[INFO][2023/06/19 03:38:57 PM] Closing HDF file: /mnt/DATA/macrohet/labels/macrohet_seg_model/(4, 4).h5\n",
      "[INFO][2023/06/19 03:38:57 PM] Opening HDF file: /mnt/DATA/macrohet/labels/macrohet_seg_model/(4, 5).h5...\n",
      "[INFO][2023/06/19 03:38:57 PM] Loading tracks/obj_type_1\n",
      "[INFO][2023/06/19 03:38:57 PM] Loading LBEP/obj_type_1\n",
      "[INFO][2023/06/19 03:38:57 PM] Loading objects/obj_type_1 (47242, 5) (47242 filtered: None)\n",
      "[INFO][2023/06/19 03:38:58 PM] Closing HDF file: /mnt/DATA/macrohet/labels/macrohet_seg_model/(4, 5).h5\n",
      "[INFO][2023/06/19 03:38:58 PM] Opening HDF file: /mnt/DATA/macrohet/labels/macrohet_seg_model/(4, 6).h5...\n",
      "[INFO][2023/06/19 03:38:58 PM] Loading tracks/obj_type_1\n",
      "[INFO][2023/06/19 03:38:58 PM] Loading LBEP/obj_type_1\n",
      "[INFO][2023/06/19 03:38:58 PM] Loading objects/obj_type_1 (43883, 5) (43883 filtered: None)\n",
      "[INFO][2023/06/19 03:38:58 PM] Closing HDF file: /mnt/DATA/macrohet/labels/macrohet_seg_model/(4, 6).h5\n",
      "[INFO][2023/06/19 03:38:58 PM] Opening HDF file: /mnt/DATA/macrohet/labels/macrohet_seg_model/(4, 7).h5...\n",
      "[INFO][2023/06/19 03:38:58 PM] Loading tracks/obj_type_1\n",
      "[INFO][2023/06/19 03:38:58 PM] Loading LBEP/obj_type_1\n",
      "[INFO][2023/06/19 03:38:58 PM] Loading objects/obj_type_1 (42965, 5) (42965 filtered: None)\n",
      "[INFO][2023/06/19 03:38:59 PM] Closing HDF file: /mnt/DATA/macrohet/labels/macrohet_seg_model/(4, 7).h5\n",
      "[INFO][2023/06/19 03:38:59 PM] Opening HDF file: /mnt/DATA/macrohet/labels/macrohet_seg_model/(4, 8).h5...\n",
      "[INFO][2023/06/19 03:38:59 PM] Loading tracks/obj_type_1\n",
      "[INFO][2023/06/19 03:38:59 PM] Loading LBEP/obj_type_1\n",
      "[INFO][2023/06/19 03:38:59 PM] Loading objects/obj_type_1 (38895, 5) (38895 filtered: None)\n",
      "[INFO][2023/06/19 03:39:00 PM] Closing HDF file: /mnt/DATA/macrohet/labels/macrohet_seg_model/(4, 8).h5\n",
      "[INFO][2023/06/19 03:39:00 PM] Opening HDF file: /mnt/DATA/macrohet/labels/macrohet_seg_model/(4, 9).h5...\n",
      "[INFO][2023/06/19 03:39:00 PM] Loading tracks/obj_type_1\n",
      "[INFO][2023/06/19 03:39:00 PM] Loading LBEP/obj_type_1\n",
      "[INFO][2023/06/19 03:39:00 PM] Loading objects/obj_type_1 (44643, 5) (44643 filtered: None)\n",
      "[INFO][2023/06/19 03:39:00 PM] Closing HDF file: /mnt/DATA/macrohet/labels/macrohet_seg_model/(4, 9).h5\n",
      "[INFO][2023/06/19 03:39:00 PM] Opening HDF file: /mnt/DATA/macrohet/labels/macrohet_seg_model/(5, 4).h5...\n",
      "[INFO][2023/06/19 03:39:00 PM] Loading tracks/obj_type_1\n",
      "[INFO][2023/06/19 03:39:00 PM] Loading LBEP/obj_type_1\n",
      "[INFO][2023/06/19 03:39:00 PM] Loading objects/obj_type_1 (30664, 5) (30664 filtered: None)\n",
      "[INFO][2023/06/19 03:39:06 PM] Closing HDF file: /mnt/DATA/macrohet/labels/macrohet_seg_model/(5, 4).h5\n",
      "[INFO][2023/06/19 03:39:06 PM] Opening HDF file: /mnt/DATA/macrohet/labels/macrohet_seg_model/(5, 5).h5...\n",
      "[INFO][2023/06/19 03:39:06 PM] Loading tracks/obj_type_1\n",
      "[INFO][2023/06/19 03:39:06 PM] Loading LBEP/obj_type_1\n",
      "[INFO][2023/06/19 03:39:06 PM] Loading objects/obj_type_1 (42973, 5) (42973 filtered: None)\n",
      "[INFO][2023/06/19 03:39:06 PM] Closing HDF file: /mnt/DATA/macrohet/labels/macrohet_seg_model/(5, 5).h5\n",
      "[INFO][2023/06/19 03:39:06 PM] Opening HDF file: /mnt/DATA/macrohet/labels/macrohet_seg_model/(5, 6).h5...\n",
      "[INFO][2023/06/19 03:39:06 PM] Loading tracks/obj_type_1\n",
      "[INFO][2023/06/19 03:39:06 PM] Loading LBEP/obj_type_1\n",
      "[INFO][2023/06/19 03:39:07 PM] Loading objects/obj_type_1 (45678, 5) (45678 filtered: None)\n",
      "[INFO][2023/06/19 03:39:07 PM] Closing HDF file: /mnt/DATA/macrohet/labels/macrohet_seg_model/(5, 6).h5\n",
      "[INFO][2023/06/19 03:39:07 PM] Opening HDF file: /mnt/DATA/macrohet/labels/macrohet_seg_model/(5, 7).h5...\n",
      "[INFO][2023/06/19 03:39:07 PM] Loading tracks/obj_type_1\n",
      "[INFO][2023/06/19 03:39:07 PM] Loading LBEP/obj_type_1\n",
      "[INFO][2023/06/19 03:39:07 PM] Loading objects/obj_type_1 (47880, 5) (47880 filtered: None)\n",
      "[INFO][2023/06/19 03:39:08 PM] Closing HDF file: /mnt/DATA/macrohet/labels/macrohet_seg_model/(5, 7).h5\n",
      "[INFO][2023/06/19 03:39:08 PM] Opening HDF file: /mnt/DATA/macrohet/labels/macrohet_seg_model/(5, 8).h5...\n",
      "[INFO][2023/06/19 03:39:08 PM] Loading tracks/obj_type_1\n",
      "[INFO][2023/06/19 03:39:08 PM] Loading LBEP/obj_type_1\n",
      "[INFO][2023/06/19 03:39:08 PM] Loading objects/obj_type_1 (38531, 5) (38531 filtered: None)\n",
      "[INFO][2023/06/19 03:39:09 PM] Closing HDF file: /mnt/DATA/macrohet/labels/macrohet_seg_model/(5, 8).h5\n",
      "[INFO][2023/06/19 03:39:09 PM] Opening HDF file: /mnt/DATA/macrohet/labels/macrohet_seg_model/(5, 9).h5...\n",
      "[INFO][2023/06/19 03:39:09 PM] Loading tracks/obj_type_1\n",
      "[INFO][2023/06/19 03:39:09 PM] Loading LBEP/obj_type_1\n",
      "[INFO][2023/06/19 03:39:09 PM] Loading objects/obj_type_1 (33081, 5) (33081 filtered: None)\n",
      "[INFO][2023/06/19 03:39:10 PM] Closing HDF file: /mnt/DATA/macrohet/labels/macrohet_seg_model/(5, 9).h5\n",
      "[INFO][2023/06/19 03:39:10 PM] Opening HDF file: /mnt/DATA/macrohet/labels/macrohet_seg_model/(6, 4).h5...\n",
      "[INFO][2023/06/19 03:39:10 PM] Loading tracks/obj_type_1\n",
      "[INFO][2023/06/19 03:39:10 PM] Loading LBEP/obj_type_1\n",
      "[INFO][2023/06/19 03:39:10 PM] Loading objects/obj_type_1 (42961, 5) (42961 filtered: None)\n",
      "[INFO][2023/06/19 03:39:11 PM] Closing HDF file: /mnt/DATA/macrohet/labels/macrohet_seg_model/(6, 4).h5\n",
      "[INFO][2023/06/19 03:39:11 PM] Opening HDF file: /mnt/DATA/macrohet/labels/macrohet_seg_model/(6, 5).h5...\n",
      "[INFO][2023/06/19 03:39:11 PM] Loading tracks/obj_type_1\n",
      "[INFO][2023/06/19 03:39:11 PM] Loading LBEP/obj_type_1\n",
      "[INFO][2023/06/19 03:39:11 PM] Loading objects/obj_type_1 (46808, 5) (46808 filtered: None)\n"
     ]
    },
    {
     "name": "stderr",
     "output_type": "stream",
     "text": [
      "[INFO][2023/06/19 03:39:11 PM] Closing HDF file: /mnt/DATA/macrohet/labels/macrohet_seg_model/(6, 5).h5\n",
      "[INFO][2023/06/19 03:39:11 PM] Opening HDF file: /mnt/DATA/macrohet/labels/macrohet_seg_model/(6, 6).h5...\n",
      "[INFO][2023/06/19 03:39:11 PM] Loading tracks/obj_type_1\n",
      "[INFO][2023/06/19 03:39:11 PM] Loading LBEP/obj_type_1\n",
      "[INFO][2023/06/19 03:39:11 PM] Loading objects/obj_type_1 (45688, 5) (45688 filtered: None)\n",
      "[INFO][2023/06/19 03:39:12 PM] Closing HDF file: /mnt/DATA/macrohet/labels/macrohet_seg_model/(6, 6).h5\n",
      "[INFO][2023/06/19 03:39:12 PM] Opening HDF file: /mnt/DATA/macrohet/labels/macrohet_seg_model/(6, 7).h5...\n",
      "[INFO][2023/06/19 03:39:12 PM] Loading tracks/obj_type_1\n",
      "[INFO][2023/06/19 03:39:12 PM] Loading LBEP/obj_type_1\n",
      "[INFO][2023/06/19 03:39:12 PM] Loading objects/obj_type_1 (45214, 5) (45214 filtered: None)\n",
      "[INFO][2023/06/19 03:39:14 PM] Closing HDF file: /mnt/DATA/macrohet/labels/macrohet_seg_model/(6, 7).h5\n",
      "[INFO][2023/06/19 03:39:14 PM] Opening HDF file: /mnt/DATA/macrohet/labels/macrohet_seg_model/(6, 8).h5...\n",
      "[INFO][2023/06/19 03:39:14 PM] Loading tracks/obj_type_1\n",
      "[INFO][2023/06/19 03:39:14 PM] Loading LBEP/obj_type_1\n",
      "[INFO][2023/06/19 03:39:14 PM] Loading objects/obj_type_1 (46267, 5) (46267 filtered: None)\n",
      "[INFO][2023/06/19 03:39:15 PM] Closing HDF file: /mnt/DATA/macrohet/labels/macrohet_seg_model/(6, 8).h5\n",
      "[INFO][2023/06/19 03:39:15 PM] Opening HDF file: /mnt/DATA/macrohet/labels/macrohet_seg_model/(6, 9).h5...\n",
      "[INFO][2023/06/19 03:39:15 PM] Loading tracks/obj_type_1\n",
      "[INFO][2023/06/19 03:39:15 PM] Loading LBEP/obj_type_1\n",
      "[INFO][2023/06/19 03:39:15 PM] Loading objects/obj_type_1 (35615, 5) (35615 filtered: None)\n",
      "[INFO][2023/06/19 03:39:15 PM] Closing HDF file: /mnt/DATA/macrohet/labels/macrohet_seg_model/(6, 9).h5\n"
     ]
    }
   ],
   "source": [
    "tracks_dict = dict()\n",
    "### iterate over all experimental conditions\n",
    "for (row, column), info in tqdm(assay_layout.iterrows(), \n",
    "                                desc = 'Progress through positions',\n",
    "                                total = len(assay_layout)):\n",
    "\n",
    "    ### load tracks\n",
    "    with btrack.io.HDF5FileHandler(os.path.join(base_dir, \n",
    "                                                f'labels/macrohet_seg_model/{row,column}.h5'), \n",
    "                                       'r', \n",
    "                                       obj_type='obj_type_1'\n",
    "                                       ) as reader:\n",
    "        tracks = reader.tracks\n",
    "            \n",
    "    ### append tracks to dictionary\n",
    "    tracks_dict[(row, column)] = tracks"
   ]
  },
  {
   "cell_type": "markdown",
   "id": "3c537213",
   "metadata": {},
   "source": [
    "# Compile all longer length tracks into dataframe\n",
    "\n",
    "Add extra information such as the MSD of cells between frames"
   ]
  },
  {
   "cell_type": "code",
   "execution_count": 5,
   "id": "14899525",
   "metadata": {
    "scrolled": true
   },
   "outputs": [
    {
     "data": {
      "text/html": [
       "<div>\n",
       "<style scoped>\n",
       "    .dataframe tbody tr th:only-of-type {\n",
       "        vertical-align: middle;\n",
       "    }\n",
       "\n",
       "    .dataframe tbody tr th {\n",
       "        vertical-align: top;\n",
       "    }\n",
       "\n",
       "    .dataframe thead th {\n",
       "        text-align: right;\n",
       "    }\n",
       "</style>\n",
       "<table border=\"1\" class=\"dataframe\">\n",
       "  <thead>\n",
       "    <tr style=\"text-align: right;\">\n",
       "      <th></th>\n",
       "      <th>Time (hours)</th>\n",
       "      <th>x</th>\n",
       "      <th>y</th>\n",
       "      <th>x scaled</th>\n",
       "      <th>y scaled</th>\n",
       "      <th>Infection status</th>\n",
       "      <th>Initial infection status</th>\n",
       "      <th>Final infection status</th>\n",
       "      <th>Area</th>\n",
       "      <th>Intracellular mean Mtb content</th>\n",
       "      <th>...</th>\n",
       "      <th>delta Mtb/dt</th>\n",
       "      <th>Eccentricity</th>\n",
       "      <th>MSD</th>\n",
       "      <th>Strain</th>\n",
       "      <th>Compound</th>\n",
       "      <th>Concentration</th>\n",
       "      <th>Technical replicate</th>\n",
       "      <th>Cell ID</th>\n",
       "      <th>Acquisition ID</th>\n",
       "      <th>Unique ID</th>\n",
       "    </tr>\n",
       "  </thead>\n",
       "  <tbody>\n",
       "    <tr>\n",
       "      <th>0</th>\n",
       "      <td>0</td>\n",
       "      <td>457.172943</td>\n",
       "      <td>8.791715</td>\n",
       "      <td>2304.151633</td>\n",
       "      <td>44.310242</td>\n",
       "      <td>1.0</td>\n",
       "      <td>1.0</td>\n",
       "      <td>0.0</td>\n",
       "      <td>20542.0</td>\n",
       "      <td>343.157196</td>\n",
       "      <td>...</td>\n",
       "      <td>0.346945</td>\n",
       "      <td>0.929721</td>\n",
       "      <td>0.000000</td>\n",
       "      <td>RD1</td>\n",
       "      <td>CTRL</td>\n",
       "      <td>EC0</td>\n",
       "      <td>1</td>\n",
       "      <td>426</td>\n",
       "      <td>(3, 4)</td>\n",
       "      <td>426.3.4</td>\n",
       "    </tr>\n",
       "    <tr>\n",
       "      <th>1</th>\n",
       "      <td>1</td>\n",
       "      <td>459.138947</td>\n",
       "      <td>6.718642</td>\n",
       "      <td>2314.060291</td>\n",
       "      <td>33.861954</td>\n",
       "      <td>0.0</td>\n",
       "      <td>1.0</td>\n",
       "      <td>0.0</td>\n",
       "      <td>16683.0</td>\n",
       "      <td>344.687042</td>\n",
       "      <td>...</td>\n",
       "      <td>0.346945</td>\n",
       "      <td>0.977788</td>\n",
       "      <td>2.857062</td>\n",
       "      <td>RD1</td>\n",
       "      <td>CTRL</td>\n",
       "      <td>EC0</td>\n",
       "      <td>1</td>\n",
       "      <td>426</td>\n",
       "      <td>(3, 4)</td>\n",
       "      <td>426.3.4</td>\n",
       "    </tr>\n",
       "    <tr>\n",
       "      <th>2</th>\n",
       "      <td>2</td>\n",
       "      <td>460.555237</td>\n",
       "      <td>10.785886</td>\n",
       "      <td>2321.198394</td>\n",
       "      <td>54.360864</td>\n",
       "      <td>0.0</td>\n",
       "      <td>1.0</td>\n",
       "      <td>0.0</td>\n",
       "      <td>18935.0</td>\n",
       "      <td>343.875061</td>\n",
       "      <td>...</td>\n",
       "      <td>0.346945</td>\n",
       "      <td>0.733415</td>\n",
       "      <td>4.306780</td>\n",
       "      <td>RD1</td>\n",
       "      <td>CTRL</td>\n",
       "      <td>EC0</td>\n",
       "      <td>1</td>\n",
       "      <td>426</td>\n",
       "      <td>(3, 4)</td>\n",
       "      <td>426.3.4</td>\n",
       "    </tr>\n",
       "    <tr>\n",
       "      <th>3</th>\n",
       "      <td>3</td>\n",
       "      <td>455.878815</td>\n",
       "      <td>11.143067</td>\n",
       "      <td>2297.629226</td>\n",
       "      <td>56.161059</td>\n",
       "      <td>1.0</td>\n",
       "      <td>1.0</td>\n",
       "      <td>0.0</td>\n",
       "      <td>19937.0</td>\n",
       "      <td>345.565796</td>\n",
       "      <td>...</td>\n",
       "      <td>0.346945</td>\n",
       "      <td>0.685354</td>\n",
       "      <td>4.690043</td>\n",
       "      <td>RD1</td>\n",
       "      <td>CTRL</td>\n",
       "      <td>EC0</td>\n",
       "      <td>1</td>\n",
       "      <td>426</td>\n",
       "      <td>(3, 4)</td>\n",
       "      <td>426.3.4</td>\n",
       "    </tr>\n",
       "    <tr>\n",
       "      <th>4</th>\n",
       "      <td>4</td>\n",
       "      <td>462.634186</td>\n",
       "      <td>14.050420</td>\n",
       "      <td>2331.676296</td>\n",
       "      <td>70.814116</td>\n",
       "      <td>1.0</td>\n",
       "      <td>1.0</td>\n",
       "      <td>0.0</td>\n",
       "      <td>21793.0</td>\n",
       "      <td>350.585083</td>\n",
       "      <td>...</td>\n",
       "      <td>0.346945</td>\n",
       "      <td>0.727210</td>\n",
       "      <td>7.354437</td>\n",
       "      <td>RD1</td>\n",
       "      <td>CTRL</td>\n",
       "      <td>EC0</td>\n",
       "      <td>1</td>\n",
       "      <td>426</td>\n",
       "      <td>(3, 4)</td>\n",
       "      <td>426.3.4</td>\n",
       "    </tr>\n",
       "    <tr>\n",
       "      <th>...</th>\n",
       "      <td>...</td>\n",
       "      <td>...</td>\n",
       "      <td>...</td>\n",
       "      <td>...</td>\n",
       "      <td>...</td>\n",
       "      <td>...</td>\n",
       "      <td>...</td>\n",
       "      <td>...</td>\n",
       "      <td>...</td>\n",
       "      <td>...</td>\n",
       "      <td>...</td>\n",
       "      <td>...</td>\n",
       "      <td>...</td>\n",
       "      <td>...</td>\n",
       "      <td>...</td>\n",
       "      <td>...</td>\n",
       "      <td>...</td>\n",
       "      <td>...</td>\n",
       "      <td>...</td>\n",
       "      <td>...</td>\n",
       "      <td>...</td>\n",
       "    </tr>\n",
       "    <tr>\n",
       "      <th>296992</th>\n",
       "      <td>70</td>\n",
       "      <td>628.562500</td>\n",
       "      <td>1099.782104</td>\n",
       "      <td>3167.955000</td>\n",
       "      <td>5542.901807</td>\n",
       "      <td>1.0</td>\n",
       "      <td>0.0</td>\n",
       "      <td>1.0</td>\n",
       "      <td>101991.0</td>\n",
       "      <td>377.731873</td>\n",
       "      <td>...</td>\n",
       "      <td>-0.025779</td>\n",
       "      <td>0.697015</td>\n",
       "      <td>5.203749</td>\n",
       "      <td>WT</td>\n",
       "      <td>BDQ</td>\n",
       "      <td>EC99</td>\n",
       "      <td>2</td>\n",
       "      <td>935</td>\n",
       "      <td>(6, 9)</td>\n",
       "      <td>935.6.9</td>\n",
       "    </tr>\n",
       "    <tr>\n",
       "      <th>296993</th>\n",
       "      <td>71</td>\n",
       "      <td>628.463684</td>\n",
       "      <td>1102.144409</td>\n",
       "      <td>3167.456968</td>\n",
       "      <td>5554.807822</td>\n",
       "      <td>1.0</td>\n",
       "      <td>0.0</td>\n",
       "      <td>1.0</td>\n",
       "      <td>100978.0</td>\n",
       "      <td>377.812103</td>\n",
       "      <td>...</td>\n",
       "      <td>-0.025779</td>\n",
       "      <td>0.690471</td>\n",
       "      <td>2.364371</td>\n",
       "      <td>WT</td>\n",
       "      <td>BDQ</td>\n",
       "      <td>EC99</td>\n",
       "      <td>2</td>\n",
       "      <td>935</td>\n",
       "      <td>(6, 9)</td>\n",
       "      <td>935.6.9</td>\n",
       "    </tr>\n",
       "    <tr>\n",
       "      <th>296994</th>\n",
       "      <td>72</td>\n",
       "      <td>628.672058</td>\n",
       "      <td>1101.594727</td>\n",
       "      <td>3168.507173</td>\n",
       "      <td>5552.037422</td>\n",
       "      <td>1.0</td>\n",
       "      <td>0.0</td>\n",
       "      <td>1.0</td>\n",
       "      <td>108397.0</td>\n",
       "      <td>376.812805</td>\n",
       "      <td>...</td>\n",
       "      <td>-0.025779</td>\n",
       "      <td>0.665902</td>\n",
       "      <td>0.587853</td>\n",
       "      <td>WT</td>\n",
       "      <td>BDQ</td>\n",
       "      <td>EC99</td>\n",
       "      <td>2</td>\n",
       "      <td>935</td>\n",
       "      <td>(6, 9)</td>\n",
       "      <td>935.6.9</td>\n",
       "    </tr>\n",
       "    <tr>\n",
       "      <th>296995</th>\n",
       "      <td>73</td>\n",
       "      <td>630.372803</td>\n",
       "      <td>1102.817749</td>\n",
       "      <td>3177.078926</td>\n",
       "      <td>5558.201455</td>\n",
       "      <td>1.0</td>\n",
       "      <td>0.0</td>\n",
       "      <td>1.0</td>\n",
       "      <td>107079.0</td>\n",
       "      <td>377.437073</td>\n",
       "      <td>...</td>\n",
       "      <td>-0.025779</td>\n",
       "      <td>0.647429</td>\n",
       "      <td>2.094831</td>\n",
       "      <td>WT</td>\n",
       "      <td>BDQ</td>\n",
       "      <td>EC99</td>\n",
       "      <td>2</td>\n",
       "      <td>935</td>\n",
       "      <td>(6, 9)</td>\n",
       "      <td>935.6.9</td>\n",
       "    </tr>\n",
       "    <tr>\n",
       "      <th>296996</th>\n",
       "      <td>74</td>\n",
       "      <td>631.163696</td>\n",
       "      <td>1100.681519</td>\n",
       "      <td>3181.065029</td>\n",
       "      <td>5547.434854</td>\n",
       "      <td>1.0</td>\n",
       "      <td>0.0</td>\n",
       "      <td>1.0</td>\n",
       "      <td>101298.0</td>\n",
       "      <td>377.184937</td>\n",
       "      <td>...</td>\n",
       "      <td>-0.025779</td>\n",
       "      <td>0.678480</td>\n",
       "      <td>2.277936</td>\n",
       "      <td>WT</td>\n",
       "      <td>BDQ</td>\n",
       "      <td>EC99</td>\n",
       "      <td>2</td>\n",
       "      <td>935</td>\n",
       "      <td>(6, 9)</td>\n",
       "      <td>935.6.9</td>\n",
       "    </tr>\n",
       "  </tbody>\n",
       "</table>\n",
       "<p>296997 rows × 29 columns</p>\n",
       "</div>"
      ],
      "text/plain": [
       "        Time (hours)           x            y     x scaled     y scaled  \\\n",
       "0                  0  457.172943     8.791715  2304.151633    44.310242   \n",
       "1                  1  459.138947     6.718642  2314.060291    33.861954   \n",
       "2                  2  460.555237    10.785886  2321.198394    54.360864   \n",
       "3                  3  455.878815    11.143067  2297.629226    56.161059   \n",
       "4                  4  462.634186    14.050420  2331.676296    70.814116   \n",
       "...              ...         ...          ...          ...          ...   \n",
       "296992            70  628.562500  1099.782104  3167.955000  5542.901807   \n",
       "296993            71  628.463684  1102.144409  3167.456968  5554.807822   \n",
       "296994            72  628.672058  1101.594727  3168.507173  5552.037422   \n",
       "296995            73  630.372803  1102.817749  3177.078926  5558.201455   \n",
       "296996            74  631.163696  1100.681519  3181.065029  5547.434854   \n",
       "\n",
       "        Infection status  Initial infection status  Final infection status  \\\n",
       "0                    1.0                       1.0                     0.0   \n",
       "1                    0.0                       1.0                     0.0   \n",
       "2                    0.0                       1.0                     0.0   \n",
       "3                    1.0                       1.0                     0.0   \n",
       "4                    1.0                       1.0                     0.0   \n",
       "...                  ...                       ...                     ...   \n",
       "296992               1.0                       0.0                     1.0   \n",
       "296993               1.0                       0.0                     1.0   \n",
       "296994               1.0                       0.0                     1.0   \n",
       "296995               1.0                       0.0                     1.0   \n",
       "296996               1.0                       0.0                     1.0   \n",
       "\n",
       "            Area  Intracellular mean Mtb content  ...  delta Mtb/dt  \\\n",
       "0        20542.0                      343.157196  ...      0.346945   \n",
       "1        16683.0                      344.687042  ...      0.346945   \n",
       "2        18935.0                      343.875061  ...      0.346945   \n",
       "3        19937.0                      345.565796  ...      0.346945   \n",
       "4        21793.0                      350.585083  ...      0.346945   \n",
       "...          ...                             ...  ...           ...   \n",
       "296992  101991.0                      377.731873  ...     -0.025779   \n",
       "296993  100978.0                      377.812103  ...     -0.025779   \n",
       "296994  108397.0                      376.812805  ...     -0.025779   \n",
       "296995  107079.0                      377.437073  ...     -0.025779   \n",
       "296996  101298.0                      377.184937  ...     -0.025779   \n",
       "\n",
       "        Eccentricity       MSD  Strain  Compound  Concentration  \\\n",
       "0           0.929721  0.000000     RD1      CTRL            EC0   \n",
       "1           0.977788  2.857062     RD1      CTRL            EC0   \n",
       "2           0.733415  4.306780     RD1      CTRL            EC0   \n",
       "3           0.685354  4.690043     RD1      CTRL            EC0   \n",
       "4           0.727210  7.354437     RD1      CTRL            EC0   \n",
       "...              ...       ...     ...       ...            ...   \n",
       "296992      0.697015  5.203749      WT       BDQ           EC99   \n",
       "296993      0.690471  2.364371      WT       BDQ           EC99   \n",
       "296994      0.665902  0.587853      WT       BDQ           EC99   \n",
       "296995      0.647429  2.094831      WT       BDQ           EC99   \n",
       "296996      0.678480  2.277936      WT       BDQ           EC99   \n",
       "\n",
       "        Technical replicate  Cell ID  Acquisition ID  Unique ID  \n",
       "0                         1      426          (3, 4)    426.3.4  \n",
       "1                         1      426          (3, 4)    426.3.4  \n",
       "2                         1      426          (3, 4)    426.3.4  \n",
       "3                         1      426          (3, 4)    426.3.4  \n",
       "4                         1      426          (3, 4)    426.3.4  \n",
       "...                     ...      ...             ...        ...  \n",
       "296992                    2      935          (6, 9)    935.6.9  \n",
       "296993                    2      935          (6, 9)    935.6.9  \n",
       "296994                    2      935          (6, 9)    935.6.9  \n",
       "296995                    2      935          (6, 9)    935.6.9  \n",
       "296996                    2      935          (6, 9)    935.6.9  \n",
       "\n",
       "[296997 rows x 29 columns]"
      ]
     },
     "execution_count": 5,
     "metadata": {},
     "output_type": "execute_result"
    }
   ],
   "source": [
    "# df = pd.read_pickle('/mnt/DATA/macrohet/results/preliminary_sc_measures/sc_dfs/sc_df_>40.pkl')\n",
    "df = pd.read_pickle(os.path.join(base_dir, 'results/preliminary_sc_measures/sc_dfs/sc_df_GT_70_interp.pkl'))\n",
    "df"
   ]
  },
  {
   "cell_type": "markdown",
   "id": "f3df1783",
   "metadata": {},
   "source": [
    "### Renaming delta Mtb method of choice for ease of use"
   ]
  },
  {
   "cell_type": "code",
   "execution_count": 12,
   "id": "2ad0c301",
   "metadata": {},
   "outputs": [],
   "source": [
    "df['dMtb'] = df['delta Mtb max fold-change normalised max area']"
   ]
  },
  {
   "cell_type": "code",
   "execution_count": 9,
   "id": "49dba0d3",
   "metadata": {},
   "outputs": [
    {
     "data": {
      "application/vnd.jupyter.widget-view+json": {
       "model_id": "20e5b251c59c4ebf832735645804b24a",
       "version_major": 2,
       "version_minor": 0
      },
      "text/plain": [
       "  0%|          | 0/296997 [00:00<?, ?it/s]"
      ]
     },
     "metadata": {},
     "output_type": "display_data"
    }
   ],
   "source": [
    "for index, row_ in tqdm(df.iterrows(), total =len(df)):\n",
    "    acquisition_id = row_['Acquisition ID']\n",
    "    repeat_id = assay_layout.loc[acquisition_id]['Technical replicate']\n",
    "    df.at[index, 'Technical replicate'] = repeat_id"
   ]
  },
  {
   "cell_type": "markdown",
   "id": "270b6619",
   "metadata": {},
   "source": [
    "### New style"
   ]
  },
  {
   "cell_type": "markdown",
   "id": "90c54a11",
   "metadata": {},
   "source": [
    "#### What do the different distributions of deltaMtb look like?"
   ]
  },
  {
   "cell_type": "code",
   "execution_count": 18,
   "id": "0da8cf10",
   "metadata": {
    "scrolled": true
   },
   "outputs": [
    {
     "data": {
      "text/html": [
       "<div>\n",
       "<style scoped>\n",
       "    .dataframe tbody tr th:only-of-type {\n",
       "        vertical-align: middle;\n",
       "    }\n",
       "\n",
       "    .dataframe tbody tr th {\n",
       "        vertical-align: top;\n",
       "    }\n",
       "\n",
       "    .dataframe thead th {\n",
       "        text-align: right;\n",
       "    }\n",
       "</style>\n",
       "<table border=\"1\" class=\"dataframe\">\n",
       "  <thead>\n",
       "    <tr style=\"text-align: right;\">\n",
       "      <th></th>\n",
       "      <th>Time (hours)</th>\n",
       "      <th>x</th>\n",
       "      <th>y</th>\n",
       "      <th>x scaled</th>\n",
       "      <th>y scaled</th>\n",
       "      <th>Infection status</th>\n",
       "      <th>Initial infection status</th>\n",
       "      <th>Final infection status</th>\n",
       "      <th>Area</th>\n",
       "      <th>Intracellular mean Mtb content</th>\n",
       "      <th>...</th>\n",
       "      <th>Eccentricity</th>\n",
       "      <th>MSD</th>\n",
       "      <th>Strain</th>\n",
       "      <th>Compound</th>\n",
       "      <th>Concentration</th>\n",
       "      <th>Technical replicate</th>\n",
       "      <th>Cell ID</th>\n",
       "      <th>Acquisition ID</th>\n",
       "      <th>Unique ID</th>\n",
       "      <th>dMtb</th>\n",
       "    </tr>\n",
       "  </thead>\n",
       "  <tbody>\n",
       "    <tr>\n",
       "      <th>0</th>\n",
       "      <td>0</td>\n",
       "      <td>457.172943</td>\n",
       "      <td>8.791715</td>\n",
       "      <td>2304.151633</td>\n",
       "      <td>44.310242</td>\n",
       "      <td>1.0</td>\n",
       "      <td>1.0</td>\n",
       "      <td>0.0</td>\n",
       "      <td>20542.0</td>\n",
       "      <td>343.157196</td>\n",
       "      <td>...</td>\n",
       "      <td>0.929721</td>\n",
       "      <td>0.0</td>\n",
       "      <td>RD1</td>\n",
       "      <td>CTRL</td>\n",
       "      <td>EC0</td>\n",
       "      <td>1</td>\n",
       "      <td>426</td>\n",
       "      <td>(3, 4)</td>\n",
       "      <td>426.3.4</td>\n",
       "      <td>0.000586</td>\n",
       "    </tr>\n",
       "    <tr>\n",
       "      <th>74</th>\n",
       "      <td>0</td>\n",
       "      <td>663.630920</td>\n",
       "      <td>10.924337</td>\n",
       "      <td>3344.699839</td>\n",
       "      <td>55.058660</td>\n",
       "      <td>0.0</td>\n",
       "      <td>0.0</td>\n",
       "      <td>0.0</td>\n",
       "      <td>20098.0</td>\n",
       "      <td>353.067780</td>\n",
       "      <td>...</td>\n",
       "      <td>0.805467</td>\n",
       "      <td>0.0</td>\n",
       "      <td>RD1</td>\n",
       "      <td>CTRL</td>\n",
       "      <td>EC0</td>\n",
       "      <td>1</td>\n",
       "      <td>427</td>\n",
       "      <td>(3, 4)</td>\n",
       "      <td>427.3.4</td>\n",
       "      <td>0.000544</td>\n",
       "    </tr>\n",
       "    <tr>\n",
       "      <th>149</th>\n",
       "      <td>0</td>\n",
       "      <td>725.798340</td>\n",
       "      <td>20.058319</td>\n",
       "      <td>3658.023633</td>\n",
       "      <td>101.093928</td>\n",
       "      <td>1.0</td>\n",
       "      <td>1.0</td>\n",
       "      <td>0.0</td>\n",
       "      <td>29683.0</td>\n",
       "      <td>362.856537</td>\n",
       "      <td>...</td>\n",
       "      <td>0.540146</td>\n",
       "      <td>0.0</td>\n",
       "      <td>RD1</td>\n",
       "      <td>CTRL</td>\n",
       "      <td>EC0</td>\n",
       "      <td>1</td>\n",
       "      <td>435</td>\n",
       "      <td>(3, 4)</td>\n",
       "      <td>435.3.4</td>\n",
       "      <td>-0.000789</td>\n",
       "    </tr>\n",
       "    <tr>\n",
       "      <th>224</th>\n",
       "      <td>0</td>\n",
       "      <td>89.238220</td>\n",
       "      <td>86.176323</td>\n",
       "      <td>449.760630</td>\n",
       "      <td>434.328668</td>\n",
       "      <td>0.0</td>\n",
       "      <td>0.0</td>\n",
       "      <td>0.0</td>\n",
       "      <td>29980.0</td>\n",
       "      <td>368.084900</td>\n",
       "      <td>...</td>\n",
       "      <td>0.676988</td>\n",
       "      <td>0.0</td>\n",
       "      <td>RD1</td>\n",
       "      <td>CTRL</td>\n",
       "      <td>EC0</td>\n",
       "      <td>1</td>\n",
       "      <td>468</td>\n",
       "      <td>(3, 4)</td>\n",
       "      <td>468.3.4</td>\n",
       "      <td>0.000000</td>\n",
       "    </tr>\n",
       "    <tr>\n",
       "      <th>299</th>\n",
       "      <td>0</td>\n",
       "      <td>331.759827</td>\n",
       "      <td>89.224770</td>\n",
       "      <td>1672.069526</td>\n",
       "      <td>449.692839</td>\n",
       "      <td>1.0</td>\n",
       "      <td>1.0</td>\n",
       "      <td>1.0</td>\n",
       "      <td>25356.0</td>\n",
       "      <td>400.908905</td>\n",
       "      <td>...</td>\n",
       "      <td>0.700553</td>\n",
       "      <td>0.0</td>\n",
       "      <td>RD1</td>\n",
       "      <td>CTRL</td>\n",
       "      <td>EC0</td>\n",
       "      <td>1</td>\n",
       "      <td>472</td>\n",
       "      <td>(3, 4)</td>\n",
       "      <td>472.3.4</td>\n",
       "      <td>-0.000010</td>\n",
       "    </tr>\n",
       "    <tr>\n",
       "      <th>...</th>\n",
       "      <td>...</td>\n",
       "      <td>...</td>\n",
       "      <td>...</td>\n",
       "      <td>...</td>\n",
       "      <td>...</td>\n",
       "      <td>...</td>\n",
       "      <td>...</td>\n",
       "      <td>...</td>\n",
       "      <td>...</td>\n",
       "      <td>...</td>\n",
       "      <td>...</td>\n",
       "      <td>...</td>\n",
       "      <td>...</td>\n",
       "      <td>...</td>\n",
       "      <td>...</td>\n",
       "      <td>...</td>\n",
       "      <td>...</td>\n",
       "      <td>...</td>\n",
       "      <td>...</td>\n",
       "      <td>...</td>\n",
       "      <td>...</td>\n",
       "    </tr>\n",
       "    <tr>\n",
       "      <th>296635</th>\n",
       "      <td>2</td>\n",
       "      <td>1090.928833</td>\n",
       "      <td>529.117737</td>\n",
       "      <td>5498.281318</td>\n",
       "      <td>2666.753394</td>\n",
       "      <td>0.0</td>\n",
       "      <td>0.0</td>\n",
       "      <td>0.0</td>\n",
       "      <td>13978.0</td>\n",
       "      <td>376.818298</td>\n",
       "      <td>...</td>\n",
       "      <td>0.883639</td>\n",
       "      <td>0.0</td>\n",
       "      <td>WT</td>\n",
       "      <td>BDQ</td>\n",
       "      <td>EC99</td>\n",
       "      <td>2</td>\n",
       "      <td>817</td>\n",
       "      <td>(6, 9)</td>\n",
       "      <td>817.6.9</td>\n",
       "      <td>0.356070</td>\n",
       "    </tr>\n",
       "    <tr>\n",
       "      <th>296708</th>\n",
       "      <td>2</td>\n",
       "      <td>440.705811</td>\n",
       "      <td>626.353271</td>\n",
       "      <td>2221.157285</td>\n",
       "      <td>3156.820488</td>\n",
       "      <td>1.0</td>\n",
       "      <td>1.0</td>\n",
       "      <td>1.0</td>\n",
       "      <td>61767.0</td>\n",
       "      <td>398.949249</td>\n",
       "      <td>...</td>\n",
       "      <td>0.971427</td>\n",
       "      <td>0.0</td>\n",
       "      <td>WT</td>\n",
       "      <td>BDQ</td>\n",
       "      <td>EC99</td>\n",
       "      <td>2</td>\n",
       "      <td>814</td>\n",
       "      <td>(6, 9)</td>\n",
       "      <td>814.6.9</td>\n",
       "      <td>0.000030</td>\n",
       "    </tr>\n",
       "    <tr>\n",
       "      <th>296781</th>\n",
       "      <td>2</td>\n",
       "      <td>1139.693848</td>\n",
       "      <td>723.973694</td>\n",
       "      <td>5744.056992</td>\n",
       "      <td>3648.827417</td>\n",
       "      <td>1.0</td>\n",
       "      <td>1.0</td>\n",
       "      <td>1.0</td>\n",
       "      <td>33122.0</td>\n",
       "      <td>410.231384</td>\n",
       "      <td>...</td>\n",
       "      <td>0.871169</td>\n",
       "      <td>0.0</td>\n",
       "      <td>WT</td>\n",
       "      <td>BDQ</td>\n",
       "      <td>EC99</td>\n",
       "      <td>2</td>\n",
       "      <td>740</td>\n",
       "      <td>(6, 9)</td>\n",
       "      <td>740.6.9</td>\n",
       "      <td>-0.003271</td>\n",
       "    </tr>\n",
       "    <tr>\n",
       "      <th>296854</th>\n",
       "      <td>3</td>\n",
       "      <td>10.119422</td>\n",
       "      <td>1189.885742</td>\n",
       "      <td>51.001887</td>\n",
       "      <td>5997.024141</td>\n",
       "      <td>1.0</td>\n",
       "      <td>1.0</td>\n",
       "      <td>0.0</td>\n",
       "      <td>10593.0</td>\n",
       "      <td>354.040588</td>\n",
       "      <td>...</td>\n",
       "      <td>0.745716</td>\n",
       "      <td>0.0</td>\n",
       "      <td>WT</td>\n",
       "      <td>BDQ</td>\n",
       "      <td>EC99</td>\n",
       "      <td>2</td>\n",
       "      <td>865</td>\n",
       "      <td>(6, 9)</td>\n",
       "      <td>865.6.9</td>\n",
       "      <td>-0.002747</td>\n",
       "    </tr>\n",
       "    <tr>\n",
       "      <th>296926</th>\n",
       "      <td>4</td>\n",
       "      <td>688.085144</td>\n",
       "      <td>1154.820801</td>\n",
       "      <td>3467.949126</td>\n",
       "      <td>5820.296836</td>\n",
       "      <td>0.0</td>\n",
       "      <td>0.0</td>\n",
       "      <td>1.0</td>\n",
       "      <td>10509.0</td>\n",
       "      <td>364.901428</td>\n",
       "      <td>...</td>\n",
       "      <td>0.937027</td>\n",
       "      <td>0.0</td>\n",
       "      <td>WT</td>\n",
       "      <td>BDQ</td>\n",
       "      <td>EC99</td>\n",
       "      <td>2</td>\n",
       "      <td>935</td>\n",
       "      <td>(6, 9)</td>\n",
       "      <td>935.6.9</td>\n",
       "      <td>0.000030</td>\n",
       "    </tr>\n",
       "  </tbody>\n",
       "</table>\n",
       "<p>3591 rows × 30 columns</p>\n",
       "</div>"
      ],
      "text/plain": [
       "        Time (hours)            x            y     x scaled     y scaled  \\\n",
       "0                  0   457.172943     8.791715  2304.151633    44.310242   \n",
       "74                 0   663.630920    10.924337  3344.699839    55.058660   \n",
       "149                0   725.798340    20.058319  3658.023633   101.093928   \n",
       "224                0    89.238220    86.176323   449.760630   434.328668   \n",
       "299                0   331.759827    89.224770  1672.069526   449.692839   \n",
       "...              ...          ...          ...          ...          ...   \n",
       "296635             2  1090.928833   529.117737  5498.281318  2666.753394   \n",
       "296708             2   440.705811   626.353271  2221.157285  3156.820488   \n",
       "296781             2  1139.693848   723.973694  5744.056992  3648.827417   \n",
       "296854             3    10.119422  1189.885742    51.001887  5997.024141   \n",
       "296926             4   688.085144  1154.820801  3467.949126  5820.296836   \n",
       "\n",
       "        Infection status  Initial infection status  Final infection status  \\\n",
       "0                    1.0                       1.0                     0.0   \n",
       "74                   0.0                       0.0                     0.0   \n",
       "149                  1.0                       1.0                     0.0   \n",
       "224                  0.0                       0.0                     0.0   \n",
       "299                  1.0                       1.0                     1.0   \n",
       "...                  ...                       ...                     ...   \n",
       "296635               0.0                       0.0                     0.0   \n",
       "296708               1.0                       1.0                     1.0   \n",
       "296781               1.0                       1.0                     1.0   \n",
       "296854               1.0                       1.0                     0.0   \n",
       "296926               0.0                       0.0                     1.0   \n",
       "\n",
       "           Area  Intracellular mean Mtb content  ...  Eccentricity  MSD  \\\n",
       "0       20542.0                      343.157196  ...      0.929721  0.0   \n",
       "74      20098.0                      353.067780  ...      0.805467  0.0   \n",
       "149     29683.0                      362.856537  ...      0.540146  0.0   \n",
       "224     29980.0                      368.084900  ...      0.676988  0.0   \n",
       "299     25356.0                      400.908905  ...      0.700553  0.0   \n",
       "...         ...                             ...  ...           ...  ...   \n",
       "296635  13978.0                      376.818298  ...      0.883639  0.0   \n",
       "296708  61767.0                      398.949249  ...      0.971427  0.0   \n",
       "296781  33122.0                      410.231384  ...      0.871169  0.0   \n",
       "296854  10593.0                      354.040588  ...      0.745716  0.0   \n",
       "296926  10509.0                      364.901428  ...      0.937027  0.0   \n",
       "\n",
       "        Strain  Compound  Concentration  Technical replicate  Cell ID  \\\n",
       "0          RD1      CTRL            EC0                    1      426   \n",
       "74         RD1      CTRL            EC0                    1      427   \n",
       "149        RD1      CTRL            EC0                    1      435   \n",
       "224        RD1      CTRL            EC0                    1      468   \n",
       "299        RD1      CTRL            EC0                    1      472   \n",
       "...        ...       ...            ...                  ...      ...   \n",
       "296635      WT       BDQ           EC99                    2      817   \n",
       "296708      WT       BDQ           EC99                    2      814   \n",
       "296781      WT       BDQ           EC99                    2      740   \n",
       "296854      WT       BDQ           EC99                    2      865   \n",
       "296926      WT       BDQ           EC99                    2      935   \n",
       "\n",
       "        Acquisition ID  Unique ID      dMtb  \n",
       "0               (3, 4)    426.3.4  0.000586  \n",
       "74              (3, 4)    427.3.4  0.000544  \n",
       "149             (3, 4)    435.3.4 -0.000789  \n",
       "224             (3, 4)    468.3.4  0.000000  \n",
       "299             (3, 4)    472.3.4 -0.000010  \n",
       "...                ...        ...       ...  \n",
       "296635          (6, 9)    817.6.9  0.356070  \n",
       "296708          (6, 9)    814.6.9  0.000030  \n",
       "296781          (6, 9)    740.6.9 -0.003271  \n",
       "296854          (6, 9)    865.6.9 -0.002747  \n",
       "296926          (6, 9)    935.6.9  0.000030  \n",
       "\n",
       "[3591 rows x 30 columns]"
      ]
     },
     "execution_count": 18,
     "metadata": {},
     "output_type": "execute_result"
    }
   ],
   "source": [
    "df_delta_mtb = df.drop_duplicates(subset=['delta Mtb raw', 'delta Mtb max raw','delta Mtb max smooth', 'delta Mtb max fold-change'])\n",
    "df_delta_mtb"
   ]
  },
  {
   "cell_type": "markdown",
   "id": "c6fc5c18",
   "metadata": {},
   "source": [
    "# Create outlier df using same approach as in dMtb interactive plot making notebook"
   ]
  },
  {
   "cell_type": "code",
   "execution_count": 34,
   "id": "57c7f17e-a11f-4965-b976-80a52c5ab126",
   "metadata": {},
   "outputs": [
    {
     "data": {
      "text/html": [
       "<div>\n",
       "<style scoped>\n",
       "    .dataframe tbody tr th:only-of-type {\n",
       "        vertical-align: middle;\n",
       "    }\n",
       "\n",
       "    .dataframe tbody tr th {\n",
       "        vertical-align: top;\n",
       "    }\n",
       "\n",
       "    .dataframe thead th {\n",
       "        text-align: right;\n",
       "    }\n",
       "</style>\n",
       "<table border=\"1\" class=\"dataframe\">\n",
       "  <thead>\n",
       "    <tr style=\"text-align: right;\">\n",
       "      <th></th>\n",
       "      <th>Time (hours)</th>\n",
       "      <th>x</th>\n",
       "      <th>y</th>\n",
       "      <th>x scaled</th>\n",
       "      <th>y scaled</th>\n",
       "      <th>Infection status</th>\n",
       "      <th>Initial infection status</th>\n",
       "      <th>Final infection status</th>\n",
       "      <th>Area</th>\n",
       "      <th>Intracellular mean Mtb content</th>\n",
       "      <th>...</th>\n",
       "      <th>Strain</th>\n",
       "      <th>Compound</th>\n",
       "      <th>Concentration</th>\n",
       "      <th>Technical replicate</th>\n",
       "      <th>Cell ID</th>\n",
       "      <th>Acquisition ID</th>\n",
       "      <th>Unique ID</th>\n",
       "      <th>dMtb</th>\n",
       "      <th>glimpse_url_t0</th>\n",
       "      <th>glimpse_url_tn</th>\n",
       "    </tr>\n",
       "  </thead>\n",
       "  <tbody>\n",
       "    <tr>\n",
       "      <th>0</th>\n",
       "      <td>0</td>\n",
       "      <td>358.422546</td>\n",
       "      <td>340.802887</td>\n",
       "      <td>1806.449634</td>\n",
       "      <td>1717.646550</td>\n",
       "      <td>0.0</td>\n",
       "      <td>0.0</td>\n",
       "      <td>0.0</td>\n",
       "      <td>23559.0</td>\n",
       "      <td>363.705963</td>\n",
       "      <td>...</td>\n",
       "      <td>RD1</td>\n",
       "      <td>CTRL</td>\n",
       "      <td>EC0</td>\n",
       "      <td>1</td>\n",
       "      <td>599</td>\n",
       "      <td>(3, 4)</td>\n",
       "      <td>599.3.4</td>\n",
       "      <td>0.037397</td>\n",
       "      <td>https://macrohet.s3.eu-west-2.amazonaws.com/dM...</td>\n",
       "      <td>https://macrohet.s3.eu-west-2.amazonaws.com/dM...</td>\n",
       "    </tr>\n",
       "    <tr>\n",
       "      <th>1</th>\n",
       "      <td>0</td>\n",
       "      <td>991.728455</td>\n",
       "      <td>642.783386</td>\n",
       "      <td>4998.311411</td>\n",
       "      <td>3239.628267</td>\n",
       "      <td>0.0</td>\n",
       "      <td>0.0</td>\n",
       "      <td>0.0</td>\n",
       "      <td>60327.0</td>\n",
       "      <td>373.826721</td>\n",
       "      <td>...</td>\n",
       "      <td>RD1</td>\n",
       "      <td>CTRL</td>\n",
       "      <td>EC0</td>\n",
       "      <td>1</td>\n",
       "      <td>103</td>\n",
       "      <td>(3, 4)</td>\n",
       "      <td>103.3.4</td>\n",
       "      <td>0.047074</td>\n",
       "      <td>https://macrohet.s3.eu-west-2.amazonaws.com/dM...</td>\n",
       "      <td>https://macrohet.s3.eu-west-2.amazonaws.com/dM...</td>\n",
       "    </tr>\n",
       "    <tr>\n",
       "      <th>2</th>\n",
       "      <td>0</td>\n",
       "      <td>355.510651</td>\n",
       "      <td>642.519592</td>\n",
       "      <td>1791.773679</td>\n",
       "      <td>3238.298745</td>\n",
       "      <td>0.0</td>\n",
       "      <td>0.0</td>\n",
       "      <td>0.0</td>\n",
       "      <td>20187.0</td>\n",
       "      <td>364.986389</td>\n",
       "      <td>...</td>\n",
       "      <td>RD1</td>\n",
       "      <td>CTRL</td>\n",
       "      <td>EC0</td>\n",
       "      <td>1</td>\n",
       "      <td>106</td>\n",
       "      <td>(3, 4)</td>\n",
       "      <td>106.3.4</td>\n",
       "      <td>0.018784</td>\n",
       "      <td>https://macrohet.s3.eu-west-2.amazonaws.com/dM...</td>\n",
       "      <td>https://macrohet.s3.eu-west-2.amazonaws.com/dM...</td>\n",
       "    </tr>\n",
       "    <tr>\n",
       "      <th>3</th>\n",
       "      <td>0</td>\n",
       "      <td>1015.867676</td>\n",
       "      <td>793.773682</td>\n",
       "      <td>5119.973086</td>\n",
       "      <td>4000.619355</td>\n",
       "      <td>1.0</td>\n",
       "      <td>1.0</td>\n",
       "      <td>0.0</td>\n",
       "      <td>45891.0</td>\n",
       "      <td>384.419861</td>\n",
       "      <td>...</td>\n",
       "      <td>RD1</td>\n",
       "      <td>CTRL</td>\n",
       "      <td>EC0</td>\n",
       "      <td>1</td>\n",
       "      <td>72</td>\n",
       "      <td>(3, 4)</td>\n",
       "      <td>72.3.4</td>\n",
       "      <td>0.012774</td>\n",
       "      <td>https://macrohet.s3.eu-west-2.amazonaws.com/dM...</td>\n",
       "      <td>https://macrohet.s3.eu-west-2.amazonaws.com/dM...</td>\n",
       "    </tr>\n",
       "    <tr>\n",
       "      <th>4</th>\n",
       "      <td>0</td>\n",
       "      <td>507.142792</td>\n",
       "      <td>923.500427</td>\n",
       "      <td>2555.999670</td>\n",
       "      <td>4654.442153</td>\n",
       "      <td>0.0</td>\n",
       "      <td>0.0</td>\n",
       "      <td>1.0</td>\n",
       "      <td>30221.0</td>\n",
       "      <td>374.314514</td>\n",
       "      <td>...</td>\n",
       "      <td>RD1</td>\n",
       "      <td>CTRL</td>\n",
       "      <td>EC0</td>\n",
       "      <td>1</td>\n",
       "      <td>50</td>\n",
       "      <td>(3, 4)</td>\n",
       "      <td>50.3.4</td>\n",
       "      <td>0.107640</td>\n",
       "      <td>https://macrohet.s3.eu-west-2.amazonaws.com/dM...</td>\n",
       "      <td>https://macrohet.s3.eu-west-2.amazonaws.com/dM...</td>\n",
       "    </tr>\n",
       "    <tr>\n",
       "      <th>...</th>\n",
       "      <td>...</td>\n",
       "      <td>...</td>\n",
       "      <td>...</td>\n",
       "      <td>...</td>\n",
       "      <td>...</td>\n",
       "      <td>...</td>\n",
       "      <td>...</td>\n",
       "      <td>...</td>\n",
       "      <td>...</td>\n",
       "      <td>...</td>\n",
       "      <td>...</td>\n",
       "      <td>...</td>\n",
       "      <td>...</td>\n",
       "      <td>...</td>\n",
       "      <td>...</td>\n",
       "      <td>...</td>\n",
       "      <td>...</td>\n",
       "      <td>...</td>\n",
       "      <td>...</td>\n",
       "      <td>...</td>\n",
       "      <td>...</td>\n",
       "    </tr>\n",
       "    <tr>\n",
       "      <th>118</th>\n",
       "      <td>0</td>\n",
       "      <td>586.682922</td>\n",
       "      <td>408.506195</td>\n",
       "      <td>2956.881929</td>\n",
       "      <td>2058.871223</td>\n",
       "      <td>1.0</td>\n",
       "      <td>1.0</td>\n",
       "      <td>1.0</td>\n",
       "      <td>32763.0</td>\n",
       "      <td>437.374390</td>\n",
       "      <td>...</td>\n",
       "      <td>WT</td>\n",
       "      <td>RIF</td>\n",
       "      <td>EC99</td>\n",
       "      <td>1</td>\n",
       "      <td>705</td>\n",
       "      <td>(5, 7)</td>\n",
       "      <td>705.5.7</td>\n",
       "      <td>0.070339</td>\n",
       "      <td>https://macrohet.s3.eu-west-2.amazonaws.com/dM...</td>\n",
       "      <td>https://macrohet.s3.eu-west-2.amazonaws.com/dM...</td>\n",
       "    </tr>\n",
       "    <tr>\n",
       "      <th>119</th>\n",
       "      <td>0</td>\n",
       "      <td>1101.552734</td>\n",
       "      <td>586.640625</td>\n",
       "      <td>5551.825781</td>\n",
       "      <td>2956.668750</td>\n",
       "      <td>0.0</td>\n",
       "      <td>0.0</td>\n",
       "      <td>0.0</td>\n",
       "      <td>65290.0</td>\n",
       "      <td>366.450928</td>\n",
       "      <td>...</td>\n",
       "      <td>WT</td>\n",
       "      <td>RIF</td>\n",
       "      <td>EC99</td>\n",
       "      <td>1</td>\n",
       "      <td>619</td>\n",
       "      <td>(5, 7)</td>\n",
       "      <td>619.5.7</td>\n",
       "      <td>0.028102</td>\n",
       "      <td>https://macrohet.s3.eu-west-2.amazonaws.com/dM...</td>\n",
       "      <td>https://macrohet.s3.eu-west-2.amazonaws.com/dM...</td>\n",
       "    </tr>\n",
       "    <tr>\n",
       "      <th>120</th>\n",
       "      <td>0</td>\n",
       "      <td>557.484619</td>\n",
       "      <td>649.688538</td>\n",
       "      <td>2809.722480</td>\n",
       "      <td>3274.430229</td>\n",
       "      <td>0.0</td>\n",
       "      <td>0.0</td>\n",
       "      <td>1.0</td>\n",
       "      <td>15791.0</td>\n",
       "      <td>382.747833</td>\n",
       "      <td>...</td>\n",
       "      <td>WT</td>\n",
       "      <td>RIF</td>\n",
       "      <td>EC99</td>\n",
       "      <td>1</td>\n",
       "      <td>91</td>\n",
       "      <td>(5, 7)</td>\n",
       "      <td>91.5.7</td>\n",
       "      <td>0.074654</td>\n",
       "      <td>https://macrohet.s3.eu-west-2.amazonaws.com/dM...</td>\n",
       "      <td>https://macrohet.s3.eu-west-2.amazonaws.com/dM...</td>\n",
       "    </tr>\n",
       "    <tr>\n",
       "      <th>121</th>\n",
       "      <td>1</td>\n",
       "      <td>782.005249</td>\n",
       "      <td>989.538452</td>\n",
       "      <td>3941.306455</td>\n",
       "      <td>4987.273799</td>\n",
       "      <td>1.0</td>\n",
       "      <td>1.0</td>\n",
       "      <td>1.0</td>\n",
       "      <td>36830.0</td>\n",
       "      <td>363.714508</td>\n",
       "      <td>...</td>\n",
       "      <td>WT</td>\n",
       "      <td>RIF</td>\n",
       "      <td>EC99</td>\n",
       "      <td>1</td>\n",
       "      <td>749</td>\n",
       "      <td>(5, 7)</td>\n",
       "      <td>749.5.7</td>\n",
       "      <td>0.075385</td>\n",
       "      <td>https://macrohet.s3.eu-west-2.amazonaws.com/dM...</td>\n",
       "      <td>https://macrohet.s3.eu-west-2.amazonaws.com/dM...</td>\n",
       "    </tr>\n",
       "    <tr>\n",
       "      <th>122</th>\n",
       "      <td>2</td>\n",
       "      <td>146.565994</td>\n",
       "      <td>373.498688</td>\n",
       "      <td>738.692611</td>\n",
       "      <td>1882.433386</td>\n",
       "      <td>0.0</td>\n",
       "      <td>0.0</td>\n",
       "      <td>0.0</td>\n",
       "      <td>3507.0</td>\n",
       "      <td>374.337616</td>\n",
       "      <td>...</td>\n",
       "      <td>WT</td>\n",
       "      <td>RIF</td>\n",
       "      <td>EC99</td>\n",
       "      <td>2</td>\n",
       "      <td>875</td>\n",
       "      <td>(6, 7)</td>\n",
       "      <td>875.6.7</td>\n",
       "      <td>0.040243</td>\n",
       "      <td>https://macrohet.s3.eu-west-2.amazonaws.com/dM...</td>\n",
       "      <td>https://macrohet.s3.eu-west-2.amazonaws.com/dM...</td>\n",
       "    </tr>\n",
       "  </tbody>\n",
       "</table>\n",
       "<p>123 rows × 32 columns</p>\n",
       "</div>"
      ],
      "text/plain": [
       "     Time (hours)            x           y     x scaled     y scaled  \\\n",
       "0               0   358.422546  340.802887  1806.449634  1717.646550   \n",
       "1               0   991.728455  642.783386  4998.311411  3239.628267   \n",
       "2               0   355.510651  642.519592  1791.773679  3238.298745   \n",
       "3               0  1015.867676  793.773682  5119.973086  4000.619355   \n",
       "4               0   507.142792  923.500427  2555.999670  4654.442153   \n",
       "..            ...          ...         ...          ...          ...   \n",
       "118             0   586.682922  408.506195  2956.881929  2058.871223   \n",
       "119             0  1101.552734  586.640625  5551.825781  2956.668750   \n",
       "120             0   557.484619  649.688538  2809.722480  3274.430229   \n",
       "121             1   782.005249  989.538452  3941.306455  4987.273799   \n",
       "122             2   146.565994  373.498688   738.692611  1882.433386   \n",
       "\n",
       "     Infection status  Initial infection status  Final infection status  \\\n",
       "0                 0.0                       0.0                     0.0   \n",
       "1                 0.0                       0.0                     0.0   \n",
       "2                 0.0                       0.0                     0.0   \n",
       "3                 1.0                       1.0                     0.0   \n",
       "4                 0.0                       0.0                     1.0   \n",
       "..                ...                       ...                     ...   \n",
       "118               1.0                       1.0                     1.0   \n",
       "119               0.0                       0.0                     0.0   \n",
       "120               0.0                       0.0                     1.0   \n",
       "121               1.0                       1.0                     1.0   \n",
       "122               0.0                       0.0                     0.0   \n",
       "\n",
       "        Area  Intracellular mean Mtb content  ...  Strain  Compound  \\\n",
       "0    23559.0                      363.705963  ...     RD1      CTRL   \n",
       "1    60327.0                      373.826721  ...     RD1      CTRL   \n",
       "2    20187.0                      364.986389  ...     RD1      CTRL   \n",
       "3    45891.0                      384.419861  ...     RD1      CTRL   \n",
       "4    30221.0                      374.314514  ...     RD1      CTRL   \n",
       "..       ...                             ...  ...     ...       ...   \n",
       "118  32763.0                      437.374390  ...      WT       RIF   \n",
       "119  65290.0                      366.450928  ...      WT       RIF   \n",
       "120  15791.0                      382.747833  ...      WT       RIF   \n",
       "121  36830.0                      363.714508  ...      WT       RIF   \n",
       "122   3507.0                      374.337616  ...      WT       RIF   \n",
       "\n",
       "     Concentration  Technical replicate  Cell ID  Acquisition ID  Unique ID  \\\n",
       "0              EC0                    1      599          (3, 4)    599.3.4   \n",
       "1              EC0                    1      103          (3, 4)    103.3.4   \n",
       "2              EC0                    1      106          (3, 4)    106.3.4   \n",
       "3              EC0                    1       72          (3, 4)     72.3.4   \n",
       "4              EC0                    1       50          (3, 4)     50.3.4   \n",
       "..             ...                  ...      ...             ...        ...   \n",
       "118           EC99                    1      705          (5, 7)    705.5.7   \n",
       "119           EC99                    1      619          (5, 7)    619.5.7   \n",
       "120           EC99                    1       91          (5, 7)     91.5.7   \n",
       "121           EC99                    1      749          (5, 7)    749.5.7   \n",
       "122           EC99                    2      875          (6, 7)    875.6.7   \n",
       "\n",
       "         dMtb                                     glimpse_url_t0  \\\n",
       "0    0.037397  https://macrohet.s3.eu-west-2.amazonaws.com/dM...   \n",
       "1    0.047074  https://macrohet.s3.eu-west-2.amazonaws.com/dM...   \n",
       "2    0.018784  https://macrohet.s3.eu-west-2.amazonaws.com/dM...   \n",
       "3    0.012774  https://macrohet.s3.eu-west-2.amazonaws.com/dM...   \n",
       "4    0.107640  https://macrohet.s3.eu-west-2.amazonaws.com/dM...   \n",
       "..        ...                                                ...   \n",
       "118  0.070339  https://macrohet.s3.eu-west-2.amazonaws.com/dM...   \n",
       "119  0.028102  https://macrohet.s3.eu-west-2.amazonaws.com/dM...   \n",
       "120  0.074654  https://macrohet.s3.eu-west-2.amazonaws.com/dM...   \n",
       "121  0.075385  https://macrohet.s3.eu-west-2.amazonaws.com/dM...   \n",
       "122  0.040243  https://macrohet.s3.eu-west-2.amazonaws.com/dM...   \n",
       "\n",
       "                                        glimpse_url_tn  \n",
       "0    https://macrohet.s3.eu-west-2.amazonaws.com/dM...  \n",
       "1    https://macrohet.s3.eu-west-2.amazonaws.com/dM...  \n",
       "2    https://macrohet.s3.eu-west-2.amazonaws.com/dM...  \n",
       "3    https://macrohet.s3.eu-west-2.amazonaws.com/dM...  \n",
       "4    https://macrohet.s3.eu-west-2.amazonaws.com/dM...  \n",
       "..                                                 ...  \n",
       "118  https://macrohet.s3.eu-west-2.amazonaws.com/dM...  \n",
       "119  https://macrohet.s3.eu-west-2.amazonaws.com/dM...  \n",
       "120  https://macrohet.s3.eu-west-2.amazonaws.com/dM...  \n",
       "121  https://macrohet.s3.eu-west-2.amazonaws.com/dM...  \n",
       "122  https://macrohet.s3.eu-west-2.amazonaws.com/dM...  \n",
       "\n",
       "[123 rows x 32 columns]"
      ]
     },
     "execution_count": 34,
     "metadata": {},
     "output_type": "execute_result"
    }
   ],
   "source": [
    "outliers = list()\n",
    "fns = list()\n",
    "for index, condition in df_delta_mtb.groupby(['Strain', 'Compound', 'Concentration']).size().reset_index().rename(columns={0: 'count'}).iterrows():\n",
    "\n",
    "    strain = condition['Strain']\n",
    "    compound = condition['Compound']\n",
    "    concentration = condition['Concentration']\n",
    "    label = f'{strain}, {compound}, {concentration}'\n",
    "    subset_df = df_delta_mtb[(df_delta_mtb['Strain'] == strain)\n",
    "                             & (df_delta_mtb['Compound'] == compound)\n",
    "                             & (df_delta_mtb['Concentration'] == concentration)]\n",
    "#                              & (df_delta_mtb['Technical replicate'] == 1)\n",
    "   \n",
    "    # create a separate outlier df for below plot\n",
    "    # Calculate the mean and standard deviation of dMtb\n",
    "    mean = subset_df['dMtb'].mean()\n",
    "    std = subset_df['dMtb'].std()\n",
    "\n",
    "    # Define a threshold to determine outliers (e.g., 2 standard deviations from the mean)\n",
    "    threshold = 1 * std\n",
    "\n",
    "    # Filter out the non outliers from subset_df\n",
    "    outlier_df = subset_df[abs(subset_df['dMtb'] - mean) >= threshold]\n",
    "    outliers.append(outlier_df)\n",
    "    \n",
    "    # append url to df \n",
    "    for index, row_ in outlier_df.iterrows():\n",
    "        unique_ID = row_['Unique ID']\n",
    "        cell_ID, row, column = unique_ID.split('.') \n",
    "        t0 = row_['Time (hours)']\n",
    "        outlier_df.at[index, 'glimpse_url_t0'] = f'https://macrohet.s3.eu-west-2.amazonaws.com/dMtb/dMtb_glimpses/glimpse_{cell_ID}.{row}.{column}_t{t0}.png'\n",
    "        outlier_df.at[index, 'glimpse_url_tn'] = f'https://macrohet.s3.eu-west-2.amazonaws.com/dMtb/dMtb_glimpses/glimpse_{cell_ID}.{row}.{column}_t{-1}.png'\n",
    "        \n",
    "        # glimpse fns\n",
    "        fns.append(f'glimpse_{cell_ID}.{row}.{column}_t{t0}.png')\n",
    "        fns.append(f'glimpse_{cell_ID}.{row}.{column}_t{-1}.png')\n",
    "        \n",
    "# concat dfs together\n",
    "outliers = pd.concat(outliers, ignore_index=True)\n",
    "outliers"
   ]
  },
  {
   "cell_type": "markdown",
   "id": "591cf945",
   "metadata": {},
   "source": [
    "# Adding images\n"
   ]
  },
  {
   "cell_type": "code",
   "execution_count": 35,
   "id": "96def60e",
   "metadata": {},
   "outputs": [
    {
     "data": {
      "application/vnd.jupyter.widget-view+json": {
       "model_id": "2e612b10e8634338afba1ab3afd2e5b0",
       "version_major": 2,
       "version_minor": 0
      },
      "text/plain": [
       "  0%|          | 0/315 [00:00<?, ?it/s]"
      ]
     },
     "metadata": {},
     "output_type": "display_data"
    }
   ],
   "source": [
    "for index, row_ in tqdm(outliers.iterrows(), total = len(outliers)):\n",
    "    unique_ID = row_['Unique ID']\n",
    "    cell_ID, row, column = unique_ID.split('.') \n",
    "    t0 = row_['Time (hours)']\n",
    "    time = [t0, -1]\n",
    "    for t in time:\n",
    "        output_fn = f'/mnt/DATA/macrohet/results/glimpses/interactive_plots/dMtb/glimpse_{cell_ID}.{row}.{column}_t{t}.png'\n",
    "        if os.path.exists(output_fn):\n",
    "            continue\n",
    "        glimpse = tn_glimpse_maker(unique_ID, df, time=t)\n",
    "        imsave(output_fn, glimpse)"
   ]
  },
  {
   "cell_type": "code",
   "execution_count": 39,
   "id": "c7fbaff0-d904-40d5-a869-d8453632afbf",
   "metadata": {},
   "outputs": [],
   "source": [
    "glimpse_root_dir = '/mnt/DATA/macrohet/results/glimpses/interactive_plots/dMtb/'"
   ]
  },
  {
   "cell_type": "markdown",
   "id": "e03391ec-1f5f-4ccc-a5b3-d6a091058ab0",
   "metadata": {},
   "source": [
    "## Add new images"
   ]
  },
  {
   "cell_type": "code",
   "execution_count": 85,
   "id": "c2058a61",
   "metadata": {
    "scrolled": true
   },
   "outputs": [
    {
     "data": {
      "application/vnd.jupyter.widget-view+json": {
       "model_id": "6897f679515d48ebb31927fe7ea3e219",
       "version_major": 2,
       "version_minor": 0
      },
      "text/plain": [
       "  0%|          | 0/86 [00:00<?, ?it/s]"
      ]
     },
     "metadata": {},
     "output_type": "display_data"
    },
    {
     "name": "stderr",
     "output_type": "stream",
     "text": [
      "[INFO][2023/08/25 04:29:41 PM] Opening HDF file: /mnt/DATA/macrohet/labels/macrohet_seg_model/(3, 4).h5...\n",
      "[INFO][2023/08/25 04:29:51 PM] Loading segmentation (75, 6048, 6048)\n",
      "[INFO][2023/08/25 04:29:51 PM] Closing HDF file: /mnt/DATA/macrohet/labels/macrohet_seg_model/(3, 4).h5\n"
     ]
    },
    {
     "name": "stdout",
     "output_type": "stream",
     "text": [
      "https://macrohet.s3.eu-west-2.amazonaws.com/dMtb/dMtb_glimpses/glimpse_599.3.4_t0.png: Upload Successful\n"
     ]
    },
    {
     "name": "stderr",
     "output_type": "stream",
     "text": [
      "[INFO][2023/08/25 04:30:07 PM] Opening HDF file: /mnt/DATA/macrohet/labels/macrohet_seg_model/(3, 4).h5...\n",
      "[INFO][2023/08/25 04:30:16 PM] Loading segmentation (75, 6048, 6048)\n",
      "[INFO][2023/08/25 04:30:16 PM] Closing HDF file: /mnt/DATA/macrohet/labels/macrohet_seg_model/(3, 4).h5\n"
     ]
    },
    {
     "name": "stdout",
     "output_type": "stream",
     "text": [
      "https://macrohet.s3.eu-west-2.amazonaws.com/dMtb/dMtb_glimpses/glimpse_599.3.4_t-1.png: Upload Successful\n"
     ]
    },
    {
     "name": "stderr",
     "output_type": "stream",
     "text": [
      "[INFO][2023/08/25 04:30:37 PM] Opening HDF file: /mnt/DATA/macrohet/labels/macrohet_seg_model/(3, 4).h5...\n",
      "[INFO][2023/08/25 04:30:46 PM] Loading segmentation (75, 6048, 6048)\n",
      "[INFO][2023/08/25 04:30:46 PM] Closing HDF file: /mnt/DATA/macrohet/labels/macrohet_seg_model/(3, 4).h5\n"
     ]
    },
    {
     "name": "stdout",
     "output_type": "stream",
     "text": [
      "https://macrohet.s3.eu-west-2.amazonaws.com/dMtb/dMtb_glimpses/glimpse_103.3.4_t0.png: Upload Successful\n"
     ]
    },
    {
     "name": "stderr",
     "output_type": "stream",
     "text": [
      "[INFO][2023/08/25 04:31:07 PM] Opening HDF file: /mnt/DATA/macrohet/labels/macrohet_seg_model/(3, 4).h5...\n",
      "[INFO][2023/08/25 04:31:17 PM] Loading segmentation (75, 6048, 6048)\n",
      "[INFO][2023/08/25 04:31:17 PM] Closing HDF file: /mnt/DATA/macrohet/labels/macrohet_seg_model/(3, 4).h5\n"
     ]
    },
    {
     "name": "stdout",
     "output_type": "stream",
     "text": [
      "https://macrohet.s3.eu-west-2.amazonaws.com/dMtb/dMtb_glimpses/glimpse_103.3.4_t-1.png: Upload Successful\n"
     ]
    },
    {
     "name": "stderr",
     "output_type": "stream",
     "text": [
      "[INFO][2023/08/25 04:31:38 PM] Opening HDF file: /mnt/DATA/macrohet/labels/macrohet_seg_model/(3, 4).h5...\n",
      "[INFO][2023/08/25 04:31:47 PM] Loading segmentation (75, 6048, 6048)\n",
      "[INFO][2023/08/25 04:31:47 PM] Closing HDF file: /mnt/DATA/macrohet/labels/macrohet_seg_model/(3, 4).h5\n"
     ]
    },
    {
     "name": "stdout",
     "output_type": "stream",
     "text": [
      "https://macrohet.s3.eu-west-2.amazonaws.com/dMtb/dMtb_glimpses/glimpse_106.3.4_t0.png: Upload Successful\n"
     ]
    },
    {
     "name": "stderr",
     "output_type": "stream",
     "text": [
      "[INFO][2023/08/25 04:32:08 PM] Opening HDF file: /mnt/DATA/macrohet/labels/macrohet_seg_model/(3, 4).h5...\n",
      "[INFO][2023/08/25 04:32:17 PM] Loading segmentation (75, 6048, 6048)\n",
      "[INFO][2023/08/25 04:32:17 PM] Closing HDF file: /mnt/DATA/macrohet/labels/macrohet_seg_model/(3, 4).h5\n"
     ]
    },
    {
     "name": "stdout",
     "output_type": "stream",
     "text": [
      "https://macrohet.s3.eu-west-2.amazonaws.com/dMtb/dMtb_glimpses/glimpse_106.3.4_t-1.png: Upload Successful\n"
     ]
    },
    {
     "name": "stderr",
     "output_type": "stream",
     "text": [
      "[INFO][2023/08/25 04:32:37 PM] Opening HDF file: /mnt/DATA/macrohet/labels/macrohet_seg_model/(3, 4).h5...\n",
      "[INFO][2023/08/25 04:32:45 PM] Loading segmentation (75, 6048, 6048)\n",
      "[INFO][2023/08/25 04:32:45 PM] Closing HDF file: /mnt/DATA/macrohet/labels/macrohet_seg_model/(3, 4).h5\n"
     ]
    },
    {
     "name": "stdout",
     "output_type": "stream",
     "text": [
      "https://macrohet.s3.eu-west-2.amazonaws.com/dMtb/dMtb_glimpses/glimpse_72.3.4_t0.png: Upload Successful\n"
     ]
    },
    {
     "name": "stderr",
     "output_type": "stream",
     "text": [
      "[INFO][2023/08/25 04:33:05 PM] Opening HDF file: /mnt/DATA/macrohet/labels/macrohet_seg_model/(3, 4).h5...\n",
      "[INFO][2023/08/25 04:33:14 PM] Loading segmentation (75, 6048, 6048)\n",
      "[INFO][2023/08/25 04:33:14 PM] Closing HDF file: /mnt/DATA/macrohet/labels/macrohet_seg_model/(3, 4).h5\n"
     ]
    },
    {
     "name": "stdout",
     "output_type": "stream",
     "text": [
      "https://macrohet.s3.eu-west-2.amazonaws.com/dMtb/dMtb_glimpses/glimpse_72.3.4_t-1.png: Upload Successful\n"
     ]
    },
    {
     "name": "stderr",
     "output_type": "stream",
     "text": [
      "[INFO][2023/08/25 04:33:34 PM] Opening HDF file: /mnt/DATA/macrohet/labels/macrohet_seg_model/(3, 4).h5...\n",
      "[INFO][2023/08/25 04:33:43 PM] Loading segmentation (75, 6048, 6048)\n",
      "[INFO][2023/08/25 04:33:43 PM] Closing HDF file: /mnt/DATA/macrohet/labels/macrohet_seg_model/(3, 4).h5\n"
     ]
    },
    {
     "name": "stdout",
     "output_type": "stream",
     "text": [
      "https://macrohet.s3.eu-west-2.amazonaws.com/dMtb/dMtb_glimpses/glimpse_664.3.4_t1.png: Upload Successful\n"
     ]
    },
    {
     "name": "stderr",
     "output_type": "stream",
     "text": [
      "[INFO][2023/08/25 04:34:03 PM] Opening HDF file: /mnt/DATA/macrohet/labels/macrohet_seg_model/(3, 4).h5...\n",
      "[INFO][2023/08/25 04:34:12 PM] Loading segmentation (75, 6048, 6048)\n",
      "[INFO][2023/08/25 04:34:12 PM] Closing HDF file: /mnt/DATA/macrohet/labels/macrohet_seg_model/(3, 4).h5\n"
     ]
    },
    {
     "name": "stdout",
     "output_type": "stream",
     "text": [
      "https://macrohet.s3.eu-west-2.amazonaws.com/dMtb/dMtb_glimpses/glimpse_664.3.4_t-1.png: Upload Successful\n"
     ]
    },
    {
     "name": "stderr",
     "output_type": "stream",
     "text": [
      "[INFO][2023/08/25 04:34:31 PM] Opening HDF file: /mnt/DATA/macrohet/labels/macrohet_seg_model/(3, 4).h5...\n",
      "[INFO][2023/08/25 04:34:40 PM] Loading segmentation (75, 6048, 6048)\n",
      "[INFO][2023/08/25 04:34:40 PM] Closing HDF file: /mnt/DATA/macrohet/labels/macrohet_seg_model/(3, 4).h5\n"
     ]
    },
    {
     "name": "stdout",
     "output_type": "stream",
     "text": [
      "https://macrohet.s3.eu-west-2.amazonaws.com/dMtb/dMtb_glimpses/glimpse_737.3.4_t2.png: Upload Successful\n"
     ]
    },
    {
     "name": "stderr",
     "output_type": "stream",
     "text": [
      "[INFO][2023/08/25 04:34:57 PM] Opening HDF file: /mnt/DATA/macrohet/labels/macrohet_seg_model/(3, 4).h5...\n",
      "[INFO][2023/08/25 04:35:06 PM] Loading segmentation (75, 6048, 6048)\n",
      "[INFO][2023/08/25 04:35:06 PM] Closing HDF file: /mnt/DATA/macrohet/labels/macrohet_seg_model/(3, 4).h5\n"
     ]
    },
    {
     "name": "stdout",
     "output_type": "stream",
     "text": [
      "https://macrohet.s3.eu-west-2.amazonaws.com/dMtb/dMtb_glimpses/glimpse_737.3.4_t-1.png: Upload Successful\n"
     ]
    },
    {
     "name": "stderr",
     "output_type": "stream",
     "text": [
      "[INFO][2023/08/25 04:35:22 PM] Opening HDF file: /mnt/DATA/macrohet/labels/macrohet_seg_model/(4, 4).h5...\n",
      "[INFO][2023/08/25 04:35:32 PM] Loading segmentation (75, 6048, 6048)\n",
      "[INFO][2023/08/25 04:35:32 PM] Closing HDF file: /mnt/DATA/macrohet/labels/macrohet_seg_model/(4, 4).h5\n"
     ]
    },
    {
     "name": "stdout",
     "output_type": "stream",
     "text": [
      "https://macrohet.s3.eu-west-2.amazonaws.com/dMtb/dMtb_glimpses/glimpse_280.4.4_t0.png: Upload Successful\n"
     ]
    },
    {
     "name": "stderr",
     "output_type": "stream",
     "text": [
      "[INFO][2023/08/25 04:35:48 PM] Opening HDF file: /mnt/DATA/macrohet/labels/macrohet_seg_model/(4, 4).h5...\n",
      "[INFO][2023/08/25 04:35:56 PM] Loading segmentation (75, 6048, 6048)\n",
      "[INFO][2023/08/25 04:35:56 PM] Closing HDF file: /mnt/DATA/macrohet/labels/macrohet_seg_model/(4, 4).h5\n"
     ]
    },
    {
     "name": "stdout",
     "output_type": "stream",
     "text": [
      "https://macrohet.s3.eu-west-2.amazonaws.com/dMtb/dMtb_glimpses/glimpse_280.4.4_t-1.png: Upload Successful\n"
     ]
    },
    {
     "name": "stderr",
     "output_type": "stream",
     "text": [
      "[INFO][2023/08/25 04:36:13 PM] Opening HDF file: /mnt/DATA/macrohet/labels/macrohet_seg_model/(4, 4).h5...\n",
      "[INFO][2023/08/25 04:36:22 PM] Loading segmentation (75, 6048, 6048)\n",
      "[INFO][2023/08/25 04:36:22 PM] Closing HDF file: /mnt/DATA/macrohet/labels/macrohet_seg_model/(4, 4).h5\n"
     ]
    },
    {
     "name": "stdout",
     "output_type": "stream",
     "text": [
      "https://macrohet.s3.eu-west-2.amazonaws.com/dMtb/dMtb_glimpses/glimpse_293.4.4_t0.png: Upload Successful\n"
     ]
    },
    {
     "name": "stderr",
     "output_type": "stream",
     "text": [
      "[INFO][2023/08/25 04:36:42 PM] Opening HDF file: /mnt/DATA/macrohet/labels/macrohet_seg_model/(4, 4).h5...\n",
      "[INFO][2023/08/25 04:36:51 PM] Loading segmentation (75, 6048, 6048)\n",
      "[INFO][2023/08/25 04:36:51 PM] Closing HDF file: /mnt/DATA/macrohet/labels/macrohet_seg_model/(4, 4).h5\n"
     ]
    },
    {
     "name": "stdout",
     "output_type": "stream",
     "text": [
      "https://macrohet.s3.eu-west-2.amazonaws.com/dMtb/dMtb_glimpses/glimpse_293.4.4_t-1.png: Upload Successful\n"
     ]
    },
    {
     "name": "stderr",
     "output_type": "stream",
     "text": [
      "[INFO][2023/08/25 04:37:12 PM] Opening HDF file: /mnt/DATA/macrohet/labels/macrohet_seg_model/(4, 4).h5...\n",
      "[INFO][2023/08/25 04:37:20 PM] Loading segmentation (75, 6048, 6048)\n",
      "[INFO][2023/08/25 04:37:20 PM] Closing HDF file: /mnt/DATA/macrohet/labels/macrohet_seg_model/(4, 4).h5\n"
     ]
    },
    {
     "name": "stdout",
     "output_type": "stream",
     "text": [
      "https://macrohet.s3.eu-west-2.amazonaws.com/dMtb/dMtb_glimpses/glimpse_196.4.4_t0.png: Upload Successful\n"
     ]
    },
    {
     "name": "stderr",
     "output_type": "stream",
     "text": [
      "[INFO][2023/08/25 04:37:37 PM] Opening HDF file: /mnt/DATA/macrohet/labels/macrohet_seg_model/(4, 4).h5...\n",
      "[INFO][2023/08/25 04:37:46 PM] Loading segmentation (75, 6048, 6048)\n",
      "[INFO][2023/08/25 04:37:46 PM] Closing HDF file: /mnt/DATA/macrohet/labels/macrohet_seg_model/(4, 4).h5\n"
     ]
    },
    {
     "name": "stdout",
     "output_type": "stream",
     "text": [
      "https://macrohet.s3.eu-west-2.amazonaws.com/dMtb/dMtb_glimpses/glimpse_196.4.4_t-1.png: Upload Successful\n"
     ]
    },
    {
     "name": "stderr",
     "output_type": "stream",
     "text": [
      "[INFO][2023/08/25 04:38:03 PM] Opening HDF file: /mnt/DATA/macrohet/labels/macrohet_seg_model/(4, 4).h5...\n",
      "[INFO][2023/08/25 04:38:12 PM] Loading segmentation (75, 6048, 6048)\n",
      "[INFO][2023/08/25 04:38:12 PM] Closing HDF file: /mnt/DATA/macrohet/labels/macrohet_seg_model/(4, 4).h5\n"
     ]
    },
    {
     "name": "stdout",
     "output_type": "stream",
     "text": [
      "https://macrohet.s3.eu-west-2.amazonaws.com/dMtb/dMtb_glimpses/glimpse_844.4.4_t2.png: Upload Successful\n"
     ]
    },
    {
     "name": "stderr",
     "output_type": "stream",
     "text": [
      "[INFO][2023/08/25 04:38:32 PM] Opening HDF file: /mnt/DATA/macrohet/labels/macrohet_seg_model/(4, 4).h5...\n",
      "[INFO][2023/08/25 04:38:41 PM] Loading segmentation (75, 6048, 6048)\n",
      "[INFO][2023/08/25 04:38:41 PM] Closing HDF file: /mnt/DATA/macrohet/labels/macrohet_seg_model/(4, 4).h5\n"
     ]
    },
    {
     "name": "stdout",
     "output_type": "stream",
     "text": [
      "https://macrohet.s3.eu-west-2.amazonaws.com/dMtb/dMtb_glimpses/glimpse_844.4.4_t-1.png: Upload Successful\n"
     ]
    },
    {
     "name": "stderr",
     "output_type": "stream",
     "text": [
      "[INFO][2023/08/25 04:39:01 PM] Opening HDF file: /mnt/DATA/macrohet/labels/macrohet_seg_model/(4, 4).h5...\n",
      "[INFO][2023/08/25 04:39:10 PM] Loading segmentation (75, 6048, 6048)\n",
      "[INFO][2023/08/25 04:39:10 PM] Closing HDF file: /mnt/DATA/macrohet/labels/macrohet_seg_model/(4, 4).h5\n"
     ]
    },
    {
     "name": "stdout",
     "output_type": "stream",
     "text": [
      "https://macrohet.s3.eu-west-2.amazonaws.com/dMtb/dMtb_glimpses/glimpse_886.4.4_t3.png: Upload Successful\n"
     ]
    },
    {
     "name": "stderr",
     "output_type": "stream",
     "text": [
      "[INFO][2023/08/25 04:39:26 PM] Opening HDF file: /mnt/DATA/macrohet/labels/macrohet_seg_model/(4, 4).h5...\n",
      "[INFO][2023/08/25 04:39:35 PM] Loading segmentation (75, 6048, 6048)\n",
      "[INFO][2023/08/25 04:39:35 PM] Closing HDF file: /mnt/DATA/macrohet/labels/macrohet_seg_model/(4, 4).h5\n"
     ]
    },
    {
     "name": "stdout",
     "output_type": "stream",
     "text": [
      "https://macrohet.s3.eu-west-2.amazonaws.com/dMtb/dMtb_glimpses/glimpse_886.4.4_t-1.png: Upload Successful\n"
     ]
    },
    {
     "name": "stderr",
     "output_type": "stream",
     "text": [
      "[INFO][2023/08/25 04:39:51 PM] Opening HDF file: /mnt/DATA/macrohet/labels/macrohet_seg_model/(5, 4).h5...\n",
      "[INFO][2023/08/25 04:40:00 PM] Loading segmentation (75, 6048, 6048)\n",
      "[INFO][2023/08/25 04:40:00 PM] Closing HDF file: /mnt/DATA/macrohet/labels/macrohet_seg_model/(5, 4).h5\n"
     ]
    },
    {
     "name": "stdout",
     "output_type": "stream",
     "text": [
      "https://macrohet.s3.eu-west-2.amazonaws.com/dMtb/dMtb_glimpses/glimpse_458.5.4_t0.png: Upload Successful\n"
     ]
    },
    {
     "name": "stderr",
     "output_type": "stream",
     "text": [
      "[INFO][2023/08/25 04:40:22 PM] Opening HDF file: /mnt/DATA/macrohet/labels/macrohet_seg_model/(5, 4).h5...\n",
      "[INFO][2023/08/25 04:40:31 PM] Loading segmentation (75, 6048, 6048)\n",
      "[INFO][2023/08/25 04:40:31 PM] Closing HDF file: /mnt/DATA/macrohet/labels/macrohet_seg_model/(5, 4).h5\n"
     ]
    },
    {
     "name": "stdout",
     "output_type": "stream",
     "text": [
      "https://macrohet.s3.eu-west-2.amazonaws.com/dMtb/dMtb_glimpses/glimpse_458.5.4_t-1.png: Upload Successful\n"
     ]
    },
    {
     "name": "stderr",
     "output_type": "stream",
     "text": [
      "[INFO][2023/08/25 04:40:51 PM] Opening HDF file: /mnt/DATA/macrohet/labels/macrohet_seg_model/(6, 4).h5...\n",
      "[INFO][2023/08/25 04:41:01 PM] Loading segmentation (75, 6048, 6048)\n",
      "[INFO][2023/08/25 04:41:01 PM] Closing HDF file: /mnt/DATA/macrohet/labels/macrohet_seg_model/(6, 4).h5\n"
     ]
    },
    {
     "name": "stdout",
     "output_type": "stream",
     "text": [
      "https://macrohet.s3.eu-west-2.amazonaws.com/dMtb/dMtb_glimpses/glimpse_899.6.4_t3.png: Upload Successful\n"
     ]
    },
    {
     "name": "stderr",
     "output_type": "stream",
     "text": [
      "[INFO][2023/08/25 04:41:27 PM] Opening HDF file: /mnt/DATA/macrohet/labels/macrohet_seg_model/(6, 4).h5...\n",
      "[INFO][2023/08/25 04:41:35 PM] Loading segmentation (75, 6048, 6048)\n",
      "[INFO][2023/08/25 04:41:35 PM] Closing HDF file: /mnt/DATA/macrohet/labels/macrohet_seg_model/(6, 4).h5\n"
     ]
    },
    {
     "name": "stdout",
     "output_type": "stream",
     "text": [
      "https://macrohet.s3.eu-west-2.amazonaws.com/dMtb/dMtb_glimpses/glimpse_899.6.4_t-1.png: Upload Successful\n"
     ]
    },
    {
     "name": "stderr",
     "output_type": "stream",
     "text": [
      "[INFO][2023/08/25 04:41:55 PM] Opening HDF file: /mnt/DATA/macrohet/labels/macrohet_seg_model/(3, 9).h5...\n",
      "[INFO][2023/08/25 04:42:04 PM] Loading segmentation (75, 6048, 6048)\n",
      "[INFO][2023/08/25 04:42:04 PM] Closing HDF file: /mnt/DATA/macrohet/labels/macrohet_seg_model/(3, 9).h5\n"
     ]
    },
    {
     "name": "stdout",
     "output_type": "stream",
     "text": [
      "https://macrohet.s3.eu-west-2.amazonaws.com/dMtb/dMtb_glimpses/glimpse_321.3.9_t0.png: Upload Successful\n"
     ]
    },
    {
     "name": "stderr",
     "output_type": "stream",
     "text": [
      "[INFO][2023/08/25 04:42:20 PM] Opening HDF file: /mnt/DATA/macrohet/labels/macrohet_seg_model/(3, 9).h5...\n",
      "[INFO][2023/08/25 04:42:30 PM] Loading segmentation (75, 6048, 6048)\n",
      "[INFO][2023/08/25 04:42:30 PM] Closing HDF file: /mnt/DATA/macrohet/labels/macrohet_seg_model/(3, 9).h5\n"
     ]
    },
    {
     "name": "stdout",
     "output_type": "stream",
     "text": [
      "https://macrohet.s3.eu-west-2.amazonaws.com/dMtb/dMtb_glimpses/glimpse_321.3.9_t-1.png: Upload Successful\n"
     ]
    },
    {
     "name": "stderr",
     "output_type": "stream",
     "text": [
      "[INFO][2023/08/25 04:42:46 PM] Opening HDF file: /mnt/DATA/macrohet/labels/macrohet_seg_model/(4, 9).h5...\n",
      "[INFO][2023/08/25 04:42:55 PM] Loading segmentation (75, 6048, 6048)\n",
      "[INFO][2023/08/25 04:42:55 PM] Closing HDF file: /mnt/DATA/macrohet/labels/macrohet_seg_model/(4, 9).h5\n"
     ]
    },
    {
     "name": "stdout",
     "output_type": "stream",
     "text": [
      "https://macrohet.s3.eu-west-2.amazonaws.com/dMtb/dMtb_glimpses/glimpse_522.4.9_t0.png: Upload Successful\n"
     ]
    },
    {
     "name": "stderr",
     "output_type": "stream",
     "text": [
      "[INFO][2023/08/25 04:43:16 PM] Opening HDF file: /mnt/DATA/macrohet/labels/macrohet_seg_model/(4, 9).h5...\n",
      "[INFO][2023/08/25 04:43:25 PM] Loading segmentation (75, 6048, 6048)\n",
      "[INFO][2023/08/25 04:43:25 PM] Closing HDF file: /mnt/DATA/macrohet/labels/macrohet_seg_model/(4, 9).h5\n"
     ]
    },
    {
     "name": "stdout",
     "output_type": "stream",
     "text": [
      "https://macrohet.s3.eu-west-2.amazonaws.com/dMtb/dMtb_glimpses/glimpse_522.4.9_t-1.png: Upload Successful\n"
     ]
    },
    {
     "name": "stderr",
     "output_type": "stream",
     "text": [
      "[INFO][2023/08/25 04:43:46 PM] Opening HDF file: /mnt/DATA/macrohet/labels/macrohet_seg_model/(4, 9).h5...\n",
      "[INFO][2023/08/25 04:43:54 PM] Loading segmentation (75, 6048, 6048)\n",
      "[INFO][2023/08/25 04:43:54 PM] Closing HDF file: /mnt/DATA/macrohet/labels/macrohet_seg_model/(4, 9).h5\n"
     ]
    },
    {
     "name": "stdout",
     "output_type": "stream",
     "text": [
      "https://macrohet.s3.eu-west-2.amazonaws.com/dMtb/dMtb_glimpses/glimpse_12.4.9_t0.png: Upload Successful\n"
     ]
    },
    {
     "name": "stderr",
     "output_type": "stream",
     "text": [
      "[INFO][2023/08/25 04:44:20 PM] Opening HDF file: /mnt/DATA/macrohet/labels/macrohet_seg_model/(4, 9).h5...\n",
      "[INFO][2023/08/25 04:44:29 PM] Loading segmentation (75, 6048, 6048)\n",
      "[INFO][2023/08/25 04:44:29 PM] Closing HDF file: /mnt/DATA/macrohet/labels/macrohet_seg_model/(4, 9).h5\n"
     ]
    },
    {
     "name": "stdout",
     "output_type": "stream",
     "text": [
      "https://macrohet.s3.eu-west-2.amazonaws.com/dMtb/dMtb_glimpses/glimpse_12.4.9_t-1.png: Upload Successful\n"
     ]
    },
    {
     "name": "stderr",
     "output_type": "stream",
     "text": [
      "[INFO][2023/08/25 04:44:55 PM] Opening HDF file: /mnt/DATA/macrohet/labels/macrohet_seg_model/(4, 9).h5...\n",
      "[INFO][2023/08/25 04:45:04 PM] Loading segmentation (75, 6048, 6048)\n",
      "[INFO][2023/08/25 04:45:04 PM] Closing HDF file: /mnt/DATA/macrohet/labels/macrohet_seg_model/(4, 9).h5\n"
     ]
    },
    {
     "name": "stdout",
     "output_type": "stream",
     "text": [
      "https://macrohet.s3.eu-west-2.amazonaws.com/dMtb/dMtb_glimpses/glimpse_305.4.9_t0.png: Upload Successful\n"
     ]
    },
    {
     "name": "stderr",
     "output_type": "stream",
     "text": [
      "[INFO][2023/08/25 04:45:24 PM] Opening HDF file: /mnt/DATA/macrohet/labels/macrohet_seg_model/(4, 9).h5...\n",
      "[INFO][2023/08/25 04:45:33 PM] Loading segmentation (75, 6048, 6048)\n",
      "[INFO][2023/08/25 04:45:33 PM] Closing HDF file: /mnt/DATA/macrohet/labels/macrohet_seg_model/(4, 9).h5\n"
     ]
    },
    {
     "name": "stdout",
     "output_type": "stream",
     "text": [
      "https://macrohet.s3.eu-west-2.amazonaws.com/dMtb/dMtb_glimpses/glimpse_305.4.9_t-1.png: Upload Successful\n"
     ]
    },
    {
     "name": "stderr",
     "output_type": "stream",
     "text": [
      "[INFO][2023/08/25 04:45:52 PM] Opening HDF file: /mnt/DATA/macrohet/labels/macrohet_seg_model/(4, 9).h5...\n",
      "[INFO][2023/08/25 04:46:02 PM] Loading segmentation (75, 6048, 6048)\n",
      "[INFO][2023/08/25 04:46:02 PM] Closing HDF file: /mnt/DATA/macrohet/labels/macrohet_seg_model/(4, 9).h5\n"
     ]
    },
    {
     "name": "stdout",
     "output_type": "stream",
     "text": [
      "https://macrohet.s3.eu-west-2.amazonaws.com/dMtb/dMtb_glimpses/glimpse_282.4.9_t0.png: Upload Successful\n"
     ]
    },
    {
     "name": "stderr",
     "output_type": "stream",
     "text": [
      "[INFO][2023/08/25 04:46:19 PM] Opening HDF file: /mnt/DATA/macrohet/labels/macrohet_seg_model/(4, 9).h5...\n",
      "[INFO][2023/08/25 04:46:28 PM] Loading segmentation (75, 6048, 6048)\n",
      "[INFO][2023/08/25 04:46:28 PM] Closing HDF file: /mnt/DATA/macrohet/labels/macrohet_seg_model/(4, 9).h5\n"
     ]
    },
    {
     "name": "stdout",
     "output_type": "stream",
     "text": [
      "https://macrohet.s3.eu-west-2.amazonaws.com/dMtb/dMtb_glimpses/glimpse_282.4.9_t-1.png: Upload Successful\n"
     ]
    },
    {
     "name": "stderr",
     "output_type": "stream",
     "text": [
      "[INFO][2023/08/25 04:46:44 PM] Opening HDF file: /mnt/DATA/macrohet/labels/macrohet_seg_model/(4, 9).h5...\n",
      "[INFO][2023/08/25 04:46:53 PM] Loading segmentation (75, 6048, 6048)\n",
      "[INFO][2023/08/25 04:46:53 PM] Closing HDF file: /mnt/DATA/macrohet/labels/macrohet_seg_model/(4, 9).h5\n"
     ]
    },
    {
     "name": "stdout",
     "output_type": "stream",
     "text": [
      "https://macrohet.s3.eu-west-2.amazonaws.com/dMtb/dMtb_glimpses/glimpse_719.4.9_t1.png: Upload Successful\n"
     ]
    },
    {
     "name": "stderr",
     "output_type": "stream",
     "text": [
      "[INFO][2023/08/25 04:47:19 PM] Opening HDF file: /mnt/DATA/macrohet/labels/macrohet_seg_model/(4, 9).h5...\n",
      "[INFO][2023/08/25 04:47:28 PM] Loading segmentation (75, 6048, 6048)\n",
      "[INFO][2023/08/25 04:47:28 PM] Closing HDF file: /mnt/DATA/macrohet/labels/macrohet_seg_model/(4, 9).h5\n"
     ]
    },
    {
     "name": "stdout",
     "output_type": "stream",
     "text": [
      "https://macrohet.s3.eu-west-2.amazonaws.com/dMtb/dMtb_glimpses/glimpse_719.4.9_t-1.png: Upload Successful\n"
     ]
    },
    {
     "name": "stderr",
     "output_type": "stream",
     "text": [
      "[INFO][2023/08/25 04:47:54 PM] Opening HDF file: /mnt/DATA/macrohet/labels/macrohet_seg_model/(6, 9).h5...\n",
      "[INFO][2023/08/25 04:48:03 PM] Loading segmentation (75, 6048, 6048)\n",
      "[INFO][2023/08/25 04:48:03 PM] Closing HDF file: /mnt/DATA/macrohet/labels/macrohet_seg_model/(6, 9).h5\n"
     ]
    },
    {
     "name": "stdout",
     "output_type": "stream",
     "text": [
      "https://macrohet.s3.eu-west-2.amazonaws.com/dMtb/dMtb_glimpses/glimpse_465.6.9_t0.png: Upload Successful\n"
     ]
    },
    {
     "name": "stderr",
     "output_type": "stream",
     "text": [
      "[INFO][2023/08/25 04:48:24 PM] Opening HDF file: /mnt/DATA/macrohet/labels/macrohet_seg_model/(6, 9).h5...\n",
      "[INFO][2023/08/25 04:48:33 PM] Loading segmentation (75, 6048, 6048)\n",
      "[INFO][2023/08/25 04:48:33 PM] Closing HDF file: /mnt/DATA/macrohet/labels/macrohet_seg_model/(6, 9).h5\n"
     ]
    },
    {
     "name": "stdout",
     "output_type": "stream",
     "text": [
      "https://macrohet.s3.eu-west-2.amazonaws.com/dMtb/dMtb_glimpses/glimpse_465.6.9_t-1.png: Upload Successful\n"
     ]
    },
    {
     "name": "stderr",
     "output_type": "stream",
     "text": [
      "[INFO][2023/08/25 04:48:53 PM] Opening HDF file: /mnt/DATA/macrohet/labels/macrohet_seg_model/(6, 8).h5...\n",
      "[INFO][2023/08/25 04:49:02 PM] Loading segmentation (75, 6048, 6048)\n",
      "[INFO][2023/08/25 04:49:02 PM] Closing HDF file: /mnt/DATA/macrohet/labels/macrohet_seg_model/(6, 8).h5\n"
     ]
    },
    {
     "name": "stdout",
     "output_type": "stream",
     "text": [
      "https://macrohet.s3.eu-west-2.amazonaws.com/dMtb/dMtb_glimpses/glimpse_631.6.8_t0.png: Upload Successful\n"
     ]
    },
    {
     "name": "stderr",
     "output_type": "stream",
     "text": [
      "[INFO][2023/08/25 04:49:29 PM] Opening HDF file: /mnt/DATA/macrohet/labels/macrohet_seg_model/(6, 8).h5...\n",
      "[INFO][2023/08/25 04:49:38 PM] Loading segmentation (75, 6048, 6048)\n",
      "[INFO][2023/08/25 04:49:38 PM] Closing HDF file: /mnt/DATA/macrohet/labels/macrohet_seg_model/(6, 8).h5\n"
     ]
    },
    {
     "name": "stdout",
     "output_type": "stream",
     "text": [
      "https://macrohet.s3.eu-west-2.amazonaws.com/dMtb/dMtb_glimpses/glimpse_631.6.8_t-1.png: Upload Successful\n"
     ]
    },
    {
     "name": "stderr",
     "output_type": "stream",
     "text": [
      "[INFO][2023/08/25 04:50:04 PM] Opening HDF file: /mnt/DATA/macrohet/labels/macrohet_seg_model/(6, 8).h5...\n",
      "[INFO][2023/08/25 04:50:12 PM] Loading segmentation (75, 6048, 6048)\n",
      "[INFO][2023/08/25 04:50:12 PM] Closing HDF file: /mnt/DATA/macrohet/labels/macrohet_seg_model/(6, 8).h5\n"
     ]
    },
    {
     "name": "stdout",
     "output_type": "stream",
     "text": [
      "https://macrohet.s3.eu-west-2.amazonaws.com/dMtb/dMtb_glimpses/glimpse_167.6.8_t0.png: Upload Successful\n"
     ]
    },
    {
     "name": "stderr",
     "output_type": "stream",
     "text": [
      "[INFO][2023/08/25 04:50:32 PM] Opening HDF file: /mnt/DATA/macrohet/labels/macrohet_seg_model/(6, 8).h5...\n",
      "[INFO][2023/08/25 04:50:41 PM] Loading segmentation (75, 6048, 6048)\n",
      "[INFO][2023/08/25 04:50:41 PM] Closing HDF file: /mnt/DATA/macrohet/labels/macrohet_seg_model/(6, 8).h5\n"
     ]
    },
    {
     "name": "stdout",
     "output_type": "stream",
     "text": [
      "https://macrohet.s3.eu-west-2.amazonaws.com/dMtb/dMtb_glimpses/glimpse_167.6.8_t-1.png: Upload Successful\n"
     ]
    },
    {
     "name": "stderr",
     "output_type": "stream",
     "text": [
      "[INFO][2023/08/25 04:51:01 PM] Opening HDF file: /mnt/DATA/macrohet/labels/macrohet_seg_model/(3, 6).h5...\n",
      "[INFO][2023/08/25 04:51:10 PM] Loading segmentation (75, 6048, 6048)\n",
      "[INFO][2023/08/25 04:51:10 PM] Closing HDF file: /mnt/DATA/macrohet/labels/macrohet_seg_model/(3, 6).h5\n"
     ]
    },
    {
     "name": "stdout",
     "output_type": "stream",
     "text": [
      "https://macrohet.s3.eu-west-2.amazonaws.com/dMtb/dMtb_glimpses/glimpse_94.3.6_t0.png: Upload Successful\n"
     ]
    },
    {
     "name": "stderr",
     "output_type": "stream",
     "text": [
      "[INFO][2023/08/25 04:51:36 PM] Opening HDF file: /mnt/DATA/macrohet/labels/macrohet_seg_model/(3, 6).h5...\n",
      "[INFO][2023/08/25 04:51:45 PM] Loading segmentation (75, 6048, 6048)\n",
      "[INFO][2023/08/25 04:51:45 PM] Closing HDF file: /mnt/DATA/macrohet/labels/macrohet_seg_model/(3, 6).h5\n"
     ]
    },
    {
     "name": "stdout",
     "output_type": "stream",
     "text": [
      "https://macrohet.s3.eu-west-2.amazonaws.com/dMtb/dMtb_glimpses/glimpse_94.3.6_t-1.png: Upload Successful\n"
     ]
    },
    {
     "name": "stderr",
     "output_type": "stream",
     "text": [
      "[INFO][2023/08/25 04:52:11 PM] Opening HDF file: /mnt/DATA/macrohet/labels/macrohet_seg_model/(4, 6).h5...\n",
      "[INFO][2023/08/25 04:52:19 PM] Loading segmentation (75, 6048, 6048)\n",
      "[INFO][2023/08/25 04:52:19 PM] Closing HDF file: /mnt/DATA/macrohet/labels/macrohet_seg_model/(4, 6).h5\n"
     ]
    },
    {
     "name": "stdout",
     "output_type": "stream",
     "text": [
      "https://macrohet.s3.eu-west-2.amazonaws.com/dMtb/dMtb_glimpses/glimpse_498.4.6_t0.png: Upload Successful\n"
     ]
    },
    {
     "name": "stderr",
     "output_type": "stream",
     "text": [
      "[INFO][2023/08/25 04:52:45 PM] Opening HDF file: /mnt/DATA/macrohet/labels/macrohet_seg_model/(4, 6).h5...\n",
      "[INFO][2023/08/25 04:52:53 PM] Loading segmentation (75, 6048, 6048)\n",
      "[INFO][2023/08/25 04:52:53 PM] Closing HDF file: /mnt/DATA/macrohet/labels/macrohet_seg_model/(4, 6).h5\n"
     ]
    },
    {
     "name": "stdout",
     "output_type": "stream",
     "text": [
      "https://macrohet.s3.eu-west-2.amazonaws.com/dMtb/dMtb_glimpses/glimpse_498.4.6_t-1.png: Upload Successful\n"
     ]
    },
    {
     "name": "stderr",
     "output_type": "stream",
     "text": [
      "[INFO][2023/08/25 04:53:18 PM] Opening HDF file: /mnt/DATA/macrohet/labels/macrohet_seg_model/(4, 6).h5...\n",
      "[INFO][2023/08/25 04:53:27 PM] Loading segmentation (75, 6048, 6048)\n",
      "[INFO][2023/08/25 04:53:27 PM] Closing HDF file: /mnt/DATA/macrohet/labels/macrohet_seg_model/(4, 6).h5\n"
     ]
    },
    {
     "name": "stdout",
     "output_type": "stream",
     "text": [
      "https://macrohet.s3.eu-west-2.amazonaws.com/dMtb/dMtb_glimpses/glimpse_115.4.6_t0.png: Upload Successful\n"
     ]
    },
    {
     "name": "stderr",
     "output_type": "stream",
     "text": [
      "[INFO][2023/08/25 04:53:52 PM] Opening HDF file: /mnt/DATA/macrohet/labels/macrohet_seg_model/(4, 6).h5...\n",
      "[INFO][2023/08/25 04:54:01 PM] Loading segmentation (75, 6048, 6048)\n",
      "[INFO][2023/08/25 04:54:01 PM] Closing HDF file: /mnt/DATA/macrohet/labels/macrohet_seg_model/(4, 6).h5\n"
     ]
    },
    {
     "name": "stdout",
     "output_type": "stream",
     "text": [
      "https://macrohet.s3.eu-west-2.amazonaws.com/dMtb/dMtb_glimpses/glimpse_115.4.6_t-1.png: Upload Successful\n"
     ]
    },
    {
     "name": "stderr",
     "output_type": "stream",
     "text": [
      "[INFO][2023/08/25 04:54:26 PM] Opening HDF file: /mnt/DATA/macrohet/labels/macrohet_seg_model/(4, 6).h5...\n",
      "[INFO][2023/08/25 04:54:35 PM] Loading segmentation (75, 6048, 6048)\n",
      "[INFO][2023/08/25 04:54:35 PM] Closing HDF file: /mnt/DATA/macrohet/labels/macrohet_seg_model/(4, 6).h5\n"
     ]
    },
    {
     "name": "stdout",
     "output_type": "stream",
     "text": [
      "https://macrohet.s3.eu-west-2.amazonaws.com/dMtb/dMtb_glimpses/glimpse_953.4.6_t4.png: Upload Successful\n"
     ]
    },
    {
     "name": "stderr",
     "output_type": "stream",
     "text": [
      "[INFO][2023/08/25 04:54:51 PM] Opening HDF file: /mnt/DATA/macrohet/labels/macrohet_seg_model/(4, 6).h5...\n",
      "[INFO][2023/08/25 04:55:00 PM] Loading segmentation (75, 6048, 6048)\n",
      "[INFO][2023/08/25 04:55:00 PM] Closing HDF file: /mnt/DATA/macrohet/labels/macrohet_seg_model/(4, 6).h5\n"
     ]
    },
    {
     "name": "stdout",
     "output_type": "stream",
     "text": [
      "https://macrohet.s3.eu-west-2.amazonaws.com/dMtb/dMtb_glimpses/glimpse_953.4.6_t-1.png: Upload Successful\n"
     ]
    },
    {
     "name": "stderr",
     "output_type": "stream",
     "text": [
      "[INFO][2023/08/25 04:55:16 PM] Opening HDF file: /mnt/DATA/macrohet/labels/macrohet_seg_model/(5, 6).h5...\n",
      "[INFO][2023/08/25 04:55:25 PM] Loading segmentation (75, 6048, 6048)\n",
      "[INFO][2023/08/25 04:55:25 PM] Closing HDF file: /mnt/DATA/macrohet/labels/macrohet_seg_model/(5, 6).h5\n"
     ]
    },
    {
     "name": "stdout",
     "output_type": "stream",
     "text": [
      "https://macrohet.s3.eu-west-2.amazonaws.com/dMtb/dMtb_glimpses/glimpse_481.5.6_t0.png: Upload Successful\n"
     ]
    },
    {
     "name": "stderr",
     "output_type": "stream",
     "text": [
      "[INFO][2023/08/25 04:55:46 PM] Opening HDF file: /mnt/DATA/macrohet/labels/macrohet_seg_model/(5, 6).h5...\n",
      "[INFO][2023/08/25 04:55:55 PM] Loading segmentation (75, 6048, 6048)\n",
      "[INFO][2023/08/25 04:55:55 PM] Closing HDF file: /mnt/DATA/macrohet/labels/macrohet_seg_model/(5, 6).h5\n"
     ]
    },
    {
     "name": "stdout",
     "output_type": "stream",
     "text": [
      "https://macrohet.s3.eu-west-2.amazonaws.com/dMtb/dMtb_glimpses/glimpse_481.5.6_t-1.png: Upload Successful\n"
     ]
    },
    {
     "name": "stderr",
     "output_type": "stream",
     "text": [
      "[INFO][2023/08/25 04:56:14 PM] Opening HDF file: /mnt/DATA/macrohet/labels/macrohet_seg_model/(5, 6).h5...\n",
      "[INFO][2023/08/25 04:56:23 PM] Loading segmentation (75, 6048, 6048)\n",
      "[INFO][2023/08/25 04:56:23 PM] Closing HDF file: /mnt/DATA/macrohet/labels/macrohet_seg_model/(5, 6).h5\n"
     ]
    },
    {
     "name": "stdout",
     "output_type": "stream",
     "text": [
      "https://macrohet.s3.eu-west-2.amazonaws.com/dMtb/dMtb_glimpses/glimpse_99.5.6_t0.png: Upload Successful\n"
     ]
    },
    {
     "name": "stderr",
     "output_type": "stream",
     "text": [
      "[INFO][2023/08/25 04:56:43 PM] Opening HDF file: /mnt/DATA/macrohet/labels/macrohet_seg_model/(5, 6).h5...\n",
      "[INFO][2023/08/25 04:56:52 PM] Loading segmentation (75, 6048, 6048)\n",
      "[INFO][2023/08/25 04:56:52 PM] Closing HDF file: /mnt/DATA/macrohet/labels/macrohet_seg_model/(5, 6).h5\n"
     ]
    },
    {
     "name": "stdout",
     "output_type": "stream",
     "text": [
      "https://macrohet.s3.eu-west-2.amazonaws.com/dMtb/dMtb_glimpses/glimpse_99.5.6_t-1.png: Upload Successful\n"
     ]
    },
    {
     "name": "stderr",
     "output_type": "stream",
     "text": [
      "[INFO][2023/08/25 04:57:12 PM] Opening HDF file: /mnt/DATA/macrohet/labels/macrohet_seg_model/(5, 6).h5...\n",
      "[INFO][2023/08/25 04:57:21 PM] Loading segmentation (75, 6048, 6048)\n",
      "[INFO][2023/08/25 04:57:21 PM] Closing HDF file: /mnt/DATA/macrohet/labels/macrohet_seg_model/(5, 6).h5\n"
     ]
    },
    {
     "name": "stdout",
     "output_type": "stream",
     "text": [
      "https://macrohet.s3.eu-west-2.amazonaws.com/dMtb/dMtb_glimpses/glimpse_103.5.6_t0.png: Upload Successful\n"
     ]
    },
    {
     "name": "stderr",
     "output_type": "stream",
     "text": [
      "[INFO][2023/08/25 04:57:41 PM] Opening HDF file: /mnt/DATA/macrohet/labels/macrohet_seg_model/(5, 6).h5...\n",
      "[INFO][2023/08/25 04:57:50 PM] Loading segmentation (75, 6048, 6048)\n",
      "[INFO][2023/08/25 04:57:50 PM] Closing HDF file: /mnt/DATA/macrohet/labels/macrohet_seg_model/(5, 6).h5\n"
     ]
    },
    {
     "name": "stdout",
     "output_type": "stream",
     "text": [
      "https://macrohet.s3.eu-west-2.amazonaws.com/dMtb/dMtb_glimpses/glimpse_103.5.6_t-1.png: Upload Successful\n"
     ]
    },
    {
     "name": "stderr",
     "output_type": "stream",
     "text": [
      "[INFO][2023/08/25 04:58:10 PM] Opening HDF file: /mnt/DATA/macrohet/labels/macrohet_seg_model/(5, 6).h5...\n",
      "[INFO][2023/08/25 04:58:18 PM] Loading segmentation (75, 6048, 6048)\n",
      "[INFO][2023/08/25 04:58:18 PM] Closing HDF file: /mnt/DATA/macrohet/labels/macrohet_seg_model/(5, 6).h5\n"
     ]
    },
    {
     "name": "stdout",
     "output_type": "stream",
     "text": [
      "https://macrohet.s3.eu-west-2.amazonaws.com/dMtb/dMtb_glimpses/glimpse_833.5.6_t2.png: Upload Successful\n"
     ]
    },
    {
     "name": "stderr",
     "output_type": "stream",
     "text": [
      "[INFO][2023/08/25 04:58:36 PM] Opening HDF file: /mnt/DATA/macrohet/labels/macrohet_seg_model/(5, 6).h5...\n",
      "[INFO][2023/08/25 04:58:44 PM] Loading segmentation (75, 6048, 6048)\n",
      "[INFO][2023/08/25 04:58:44 PM] Closing HDF file: /mnt/DATA/macrohet/labels/macrohet_seg_model/(5, 6).h5\n"
     ]
    },
    {
     "name": "stdout",
     "output_type": "stream",
     "text": [
      "https://macrohet.s3.eu-west-2.amazonaws.com/dMtb/dMtb_glimpses/glimpse_833.5.6_t-1.png: Upload Successful\n"
     ]
    },
    {
     "name": "stderr",
     "output_type": "stream",
     "text": [
      "[INFO][2023/08/25 04:59:00 PM] Opening HDF file: /mnt/DATA/macrohet/labels/macrohet_seg_model/(5, 6).h5...\n",
      "[INFO][2023/08/25 04:59:09 PM] Loading segmentation (75, 6048, 6048)\n",
      "[INFO][2023/08/25 04:59:09 PM] Closing HDF file: /mnt/DATA/macrohet/labels/macrohet_seg_model/(5, 6).h5\n"
     ]
    },
    {
     "name": "stdout",
     "output_type": "stream",
     "text": [
      "https://macrohet.s3.eu-west-2.amazonaws.com/dMtb/dMtb_glimpses/glimpse_778.5.6_t2.png: Upload Successful\n"
     ]
    },
    {
     "name": "stderr",
     "output_type": "stream",
     "text": [
      "[INFO][2023/08/25 04:59:34 PM] Opening HDF file: /mnt/DATA/macrohet/labels/macrohet_seg_model/(5, 6).h5...\n",
      "[INFO][2023/08/25 04:59:42 PM] Loading segmentation (75, 6048, 6048)\n",
      "[INFO][2023/08/25 04:59:42 PM] Closing HDF file: /mnt/DATA/macrohet/labels/macrohet_seg_model/(5, 6).h5\n"
     ]
    },
    {
     "name": "stdout",
     "output_type": "stream",
     "text": [
      "https://macrohet.s3.eu-west-2.amazonaws.com/dMtb/dMtb_glimpses/glimpse_778.5.6_t-1.png: Upload Successful\n"
     ]
    },
    {
     "name": "stderr",
     "output_type": "stream",
     "text": [
      "[INFO][2023/08/25 05:00:07 PM] Opening HDF file: /mnt/DATA/macrohet/labels/macrohet_seg_model/(6, 6).h5...\n",
      "[INFO][2023/08/25 05:00:15 PM] Loading segmentation (75, 6048, 6048)\n",
      "[INFO][2023/08/25 05:00:15 PM] Closing HDF file: /mnt/DATA/macrohet/labels/macrohet_seg_model/(6, 6).h5\n"
     ]
    },
    {
     "name": "stdout",
     "output_type": "stream",
     "text": [
      "https://macrohet.s3.eu-west-2.amazonaws.com/dMtb/dMtb_glimpses/glimpse_39.6.6_t0.png: Upload Successful\n"
     ]
    },
    {
     "name": "stderr",
     "output_type": "stream",
     "text": [
      "[INFO][2023/08/25 05:00:41 PM] Opening HDF file: /mnt/DATA/macrohet/labels/macrohet_seg_model/(6, 6).h5...\n",
      "[INFO][2023/08/25 05:00:50 PM] Loading segmentation (75, 6048, 6048)\n",
      "[INFO][2023/08/25 05:00:50 PM] Closing HDF file: /mnt/DATA/macrohet/labels/macrohet_seg_model/(6, 6).h5\n"
     ]
    },
    {
     "name": "stdout",
     "output_type": "stream",
     "text": [
      "https://macrohet.s3.eu-west-2.amazonaws.com/dMtb/dMtb_glimpses/glimpse_39.6.6_t-1.png: Upload Successful\n"
     ]
    },
    {
     "name": "stderr",
     "output_type": "stream",
     "text": [
      "[INFO][2023/08/25 05:01:16 PM] Opening HDF file: /mnt/DATA/macrohet/labels/macrohet_seg_model/(6, 6).h5...\n",
      "[INFO][2023/08/25 05:01:25 PM] Loading segmentation (75, 6048, 6048)\n",
      "[INFO][2023/08/25 05:01:25 PM] Closing HDF file: /mnt/DATA/macrohet/labels/macrohet_seg_model/(6, 6).h5\n"
     ]
    },
    {
     "name": "stdout",
     "output_type": "stream",
     "text": [
      "https://macrohet.s3.eu-west-2.amazonaws.com/dMtb/dMtb_glimpses/glimpse_80.6.6_t0.png: Upload Successful\n"
     ]
    },
    {
     "name": "stderr",
     "output_type": "stream",
     "text": [
      "[INFO][2023/08/25 05:01:45 PM] Opening HDF file: /mnt/DATA/macrohet/labels/macrohet_seg_model/(6, 6).h5...\n",
      "[INFO][2023/08/25 05:01:54 PM] Loading segmentation (75, 6048, 6048)\n",
      "[INFO][2023/08/25 05:01:54 PM] Closing HDF file: /mnt/DATA/macrohet/labels/macrohet_seg_model/(6, 6).h5\n"
     ]
    },
    {
     "name": "stdout",
     "output_type": "stream",
     "text": [
      "https://macrohet.s3.eu-west-2.amazonaws.com/dMtb/dMtb_glimpses/glimpse_80.6.6_t-1.png: Upload Successful\n"
     ]
    },
    {
     "name": "stderr",
     "output_type": "stream",
     "text": [
      "[INFO][2023/08/25 05:02:15 PM] Opening HDF file: /mnt/DATA/macrohet/labels/macrohet_seg_model/(6, 6).h5...\n",
      "[INFO][2023/08/25 05:02:24 PM] Loading segmentation (75, 6048, 6048)\n",
      "[INFO][2023/08/25 05:02:24 PM] Closing HDF file: /mnt/DATA/macrohet/labels/macrohet_seg_model/(6, 6).h5\n"
     ]
    },
    {
     "name": "stdout",
     "output_type": "stream",
     "text": [
      "https://macrohet.s3.eu-west-2.amazonaws.com/dMtb/dMtb_glimpses/glimpse_686.6.6_t1.png: Upload Successful\n"
     ]
    },
    {
     "name": "stderr",
     "output_type": "stream",
     "text": [
      "[INFO][2023/08/25 05:02:44 PM] Opening HDF file: /mnt/DATA/macrohet/labels/macrohet_seg_model/(6, 6).h5...\n",
      "[INFO][2023/08/25 05:02:53 PM] Loading segmentation (75, 6048, 6048)\n",
      "[INFO][2023/08/25 05:02:53 PM] Closing HDF file: /mnt/DATA/macrohet/labels/macrohet_seg_model/(6, 6).h5\n"
     ]
    },
    {
     "name": "stdout",
     "output_type": "stream",
     "text": [
      "https://macrohet.s3.eu-west-2.amazonaws.com/dMtb/dMtb_glimpses/glimpse_686.6.6_t-1.png: Upload Successful\n"
     ]
    },
    {
     "name": "stderr",
     "output_type": "stream",
     "text": [
      "[INFO][2023/08/25 05:03:13 PM] Opening HDF file: /mnt/DATA/macrohet/labels/macrohet_seg_model/(3, 7).h5...\n",
      "[INFO][2023/08/25 05:03:22 PM] Loading segmentation (75, 6048, 6048)\n",
      "[INFO][2023/08/25 05:03:22 PM] Closing HDF file: /mnt/DATA/macrohet/labels/macrohet_seg_model/(3, 7).h5\n"
     ]
    },
    {
     "name": "stdout",
     "output_type": "stream",
     "text": [
      "https://macrohet.s3.eu-west-2.amazonaws.com/dMtb/dMtb_glimpses/glimpse_412.3.7_t0.png: Upload Successful\n"
     ]
    },
    {
     "name": "stderr",
     "output_type": "stream",
     "text": [
      "[INFO][2023/08/25 05:03:38 PM] Opening HDF file: /mnt/DATA/macrohet/labels/macrohet_seg_model/(3, 7).h5...\n",
      "[INFO][2023/08/25 05:03:47 PM] Loading segmentation (75, 6048, 6048)\n",
      "[INFO][2023/08/25 05:03:47 PM] Closing HDF file: /mnt/DATA/macrohet/labels/macrohet_seg_model/(3, 7).h5\n"
     ]
    },
    {
     "name": "stdout",
     "output_type": "stream",
     "text": [
      "https://macrohet.s3.eu-west-2.amazonaws.com/dMtb/dMtb_glimpses/glimpse_412.3.7_t-1.png: Upload Successful\n"
     ]
    },
    {
     "name": "stderr",
     "output_type": "stream",
     "text": [
      "[INFO][2023/08/25 05:04:03 PM] Opening HDF file: /mnt/DATA/macrohet/labels/macrohet_seg_model/(3, 7).h5...\n",
      "[INFO][2023/08/25 05:04:12 PM] Loading segmentation (75, 6048, 6048)\n",
      "[INFO][2023/08/25 05:04:12 PM] Closing HDF file: /mnt/DATA/macrohet/labels/macrohet_seg_model/(3, 7).h5\n"
     ]
    },
    {
     "name": "stdout",
     "output_type": "stream",
     "text": [
      "https://macrohet.s3.eu-west-2.amazonaws.com/dMtb/dMtb_glimpses/glimpse_594.3.7_t0.png: Upload Successful\n"
     ]
    },
    {
     "name": "stderr",
     "output_type": "stream",
     "text": [
      "[INFO][2023/08/25 05:04:32 PM] Opening HDF file: /mnt/DATA/macrohet/labels/macrohet_seg_model/(3, 7).h5...\n",
      "[INFO][2023/08/25 05:04:41 PM] Loading segmentation (75, 6048, 6048)\n",
      "[INFO][2023/08/25 05:04:42 PM] Closing HDF file: /mnt/DATA/macrohet/labels/macrohet_seg_model/(3, 7).h5\n"
     ]
    },
    {
     "name": "stdout",
     "output_type": "stream",
     "text": [
      "https://macrohet.s3.eu-west-2.amazonaws.com/dMtb/dMtb_glimpses/glimpse_594.3.7_t-1.png: Upload Successful\n"
     ]
    },
    {
     "name": "stderr",
     "output_type": "stream",
     "text": [
      "[INFO][2023/08/25 05:05:03 PM] Opening HDF file: /mnt/DATA/macrohet/labels/macrohet_seg_model/(4, 7).h5...\n",
      "[INFO][2023/08/25 05:05:12 PM] Loading segmentation (75, 6048, 6048)\n",
      "[INFO][2023/08/25 05:05:12 PM] Closing HDF file: /mnt/DATA/macrohet/labels/macrohet_seg_model/(4, 7).h5\n"
     ]
    },
    {
     "name": "stdout",
     "output_type": "stream",
     "text": [
      "https://macrohet.s3.eu-west-2.amazonaws.com/dMtb/dMtb_glimpses/glimpse_7.4.7_t0.png: Upload Successful\n"
     ]
    },
    {
     "name": "stderr",
     "output_type": "stream",
     "text": [
      "[INFO][2023/08/25 05:05:38 PM] Opening HDF file: /mnt/DATA/macrohet/labels/macrohet_seg_model/(4, 7).h5...\n",
      "[INFO][2023/08/25 05:05:46 PM] Loading segmentation (75, 6048, 6048)\n",
      "[INFO][2023/08/25 05:05:46 PM] Closing HDF file: /mnt/DATA/macrohet/labels/macrohet_seg_model/(4, 7).h5\n"
     ]
    },
    {
     "name": "stdout",
     "output_type": "stream",
     "text": [
      "https://macrohet.s3.eu-west-2.amazonaws.com/dMtb/dMtb_glimpses/glimpse_7.4.7_t-1.png: Upload Successful\n"
     ]
    },
    {
     "name": "stderr",
     "output_type": "stream",
     "text": [
      "[INFO][2023/08/25 05:06:12 PM] Opening HDF file: /mnt/DATA/macrohet/labels/macrohet_seg_model/(4, 7).h5...\n",
      "[INFO][2023/08/25 05:06:21 PM] Loading segmentation (75, 6048, 6048)\n",
      "[INFO][2023/08/25 05:06:21 PM] Closing HDF file: /mnt/DATA/macrohet/labels/macrohet_seg_model/(4, 7).h5\n"
     ]
    },
    {
     "name": "stdout",
     "output_type": "stream",
     "text": [
      "https://macrohet.s3.eu-west-2.amazonaws.com/dMtb/dMtb_glimpses/glimpse_213.4.7_t0.png: Upload Successful\n"
     ]
    },
    {
     "name": "stderr",
     "output_type": "stream",
     "text": [
      "[INFO][2023/08/25 05:06:37 PM] Opening HDF file: /mnt/DATA/macrohet/labels/macrohet_seg_model/(4, 7).h5...\n",
      "[INFO][2023/08/25 05:06:46 PM] Loading segmentation (75, 6048, 6048)\n",
      "[INFO][2023/08/25 05:06:46 PM] Closing HDF file: /mnt/DATA/macrohet/labels/macrohet_seg_model/(4, 7).h5\n"
     ]
    },
    {
     "name": "stdout",
     "output_type": "stream",
     "text": [
      "https://macrohet.s3.eu-west-2.amazonaws.com/dMtb/dMtb_glimpses/glimpse_213.4.7_t-1.png: Upload Successful\n"
     ]
    },
    {
     "name": "stderr",
     "output_type": "stream",
     "text": [
      "[INFO][2023/08/25 05:07:02 PM] Opening HDF file: /mnt/DATA/macrohet/labels/macrohet_seg_model/(5, 7).h5...\n",
      "[INFO][2023/08/25 05:07:11 PM] Loading segmentation (75, 6048, 6048)\n",
      "[INFO][2023/08/25 05:07:11 PM] Closing HDF file: /mnt/DATA/macrohet/labels/macrohet_seg_model/(5, 7).h5\n"
     ]
    },
    {
     "name": "stdout",
     "output_type": "stream",
     "text": [
      "https://macrohet.s3.eu-west-2.amazonaws.com/dMtb/dMtb_glimpses/glimpse_505.5.7_t0.png: Upload Successful\n"
     ]
    },
    {
     "name": "stderr",
     "output_type": "stream",
     "text": [
      "[INFO][2023/08/25 05:07:28 PM] Opening HDF file: /mnt/DATA/macrohet/labels/macrohet_seg_model/(5, 7).h5...\n",
      "[INFO][2023/08/25 05:07:36 PM] Loading segmentation (75, 6048, 6048)\n",
      "[INFO][2023/08/25 05:07:36 PM] Closing HDF file: /mnt/DATA/macrohet/labels/macrohet_seg_model/(5, 7).h5\n"
     ]
    },
    {
     "name": "stdout",
     "output_type": "stream",
     "text": [
      "https://macrohet.s3.eu-west-2.amazonaws.com/dMtb/dMtb_glimpses/glimpse_505.5.7_t-1.png: Upload Successful\n"
     ]
    },
    {
     "name": "stderr",
     "output_type": "stream",
     "text": [
      "[INFO][2023/08/25 05:07:57 PM] Opening HDF file: /mnt/DATA/macrohet/labels/macrohet_seg_model/(5, 7).h5...\n",
      "[INFO][2023/08/25 05:08:06 PM] Loading segmentation (75, 6048, 6048)\n",
      "[INFO][2023/08/25 05:08:06 PM] Closing HDF file: /mnt/DATA/macrohet/labels/macrohet_seg_model/(5, 7).h5\n"
     ]
    },
    {
     "name": "stdout",
     "output_type": "stream",
     "text": [
      "https://macrohet.s3.eu-west-2.amazonaws.com/dMtb/dMtb_glimpses/glimpse_435.5.7_t0.png: Upload Successful\n"
     ]
    },
    {
     "name": "stderr",
     "output_type": "stream",
     "text": [
      "[INFO][2023/08/25 05:08:22 PM] Opening HDF file: /mnt/DATA/macrohet/labels/macrohet_seg_model/(5, 7).h5...\n",
      "[INFO][2023/08/25 05:08:31 PM] Loading segmentation (75, 6048, 6048)\n",
      "[INFO][2023/08/25 05:08:31 PM] Closing HDF file: /mnt/DATA/macrohet/labels/macrohet_seg_model/(5, 7).h5\n"
     ]
    },
    {
     "name": "stdout",
     "output_type": "stream",
     "text": [
      "https://macrohet.s3.eu-west-2.amazonaws.com/dMtb/dMtb_glimpses/glimpse_435.5.7_t-1.png: Upload Successful\n"
     ]
    },
    {
     "name": "stderr",
     "output_type": "stream",
     "text": [
      "[INFO][2023/08/25 05:08:47 PM] Opening HDF file: /mnt/DATA/macrohet/labels/macrohet_seg_model/(5, 7).h5...\n",
      "[INFO][2023/08/25 05:08:56 PM] Loading segmentation (75, 6048, 6048)\n",
      "[INFO][2023/08/25 05:08:56 PM] Closing HDF file: /mnt/DATA/macrohet/labels/macrohet_seg_model/(5, 7).h5\n"
     ]
    },
    {
     "name": "stdout",
     "output_type": "stream",
     "text": [
      "https://macrohet.s3.eu-west-2.amazonaws.com/dMtb/dMtb_glimpses/glimpse_635.5.7_t0.png: Upload Successful\n"
     ]
    },
    {
     "name": "stderr",
     "output_type": "stream",
     "text": [
      "[INFO][2023/08/25 05:09:12 PM] Opening HDF file: /mnt/DATA/macrohet/labels/macrohet_seg_model/(5, 7).h5...\n",
      "[INFO][2023/08/25 05:09:21 PM] Loading segmentation (75, 6048, 6048)\n",
      "[INFO][2023/08/25 05:09:21 PM] Closing HDF file: /mnt/DATA/macrohet/labels/macrohet_seg_model/(5, 7).h5\n"
     ]
    },
    {
     "name": "stdout",
     "output_type": "stream",
     "text": [
      "https://macrohet.s3.eu-west-2.amazonaws.com/dMtb/dMtb_glimpses/glimpse_635.5.7_t-1.png: Upload Successful\n"
     ]
    },
    {
     "name": "stderr",
     "output_type": "stream",
     "text": [
      "[INFO][2023/08/25 05:09:37 PM] Opening HDF file: /mnt/DATA/macrohet/labels/macrohet_seg_model/(5, 7).h5...\n",
      "[INFO][2023/08/25 05:09:46 PM] Loading segmentation (75, 6048, 6048)\n",
      "[INFO][2023/08/25 05:09:46 PM] Closing HDF file: /mnt/DATA/macrohet/labels/macrohet_seg_model/(5, 7).h5\n"
     ]
    },
    {
     "name": "stdout",
     "output_type": "stream",
     "text": [
      "https://macrohet.s3.eu-west-2.amazonaws.com/dMtb/dMtb_glimpses/glimpse_619.5.7_t0.png: Upload Successful\n"
     ]
    },
    {
     "name": "stderr",
     "output_type": "stream",
     "text": [
      "[INFO][2023/08/25 05:10:05 PM] Opening HDF file: /mnt/DATA/macrohet/labels/macrohet_seg_model/(5, 7).h5...\n",
      "[INFO][2023/08/25 05:10:14 PM] Loading segmentation (75, 6048, 6048)\n",
      "[INFO][2023/08/25 05:10:14 PM] Closing HDF file: /mnt/DATA/macrohet/labels/macrohet_seg_model/(5, 7).h5\n"
     ]
    },
    {
     "name": "stdout",
     "output_type": "stream",
     "text": [
      "https://macrohet.s3.eu-west-2.amazonaws.com/dMtb/dMtb_glimpses/glimpse_619.5.7_t-1.png: Upload Successful\n"
     ]
    },
    {
     "name": "stderr",
     "output_type": "stream",
     "text": [
      "[INFO][2023/08/25 05:10:35 PM] Opening HDF file: /mnt/DATA/macrohet/labels/macrohet_seg_model/(6, 7).h5...\n",
      "[INFO][2023/08/25 05:10:44 PM] Loading segmentation (75, 6048, 6048)\n",
      "[INFO][2023/08/25 05:10:44 PM] Closing HDF file: /mnt/DATA/macrohet/labels/macrohet_seg_model/(6, 7).h5\n"
     ]
    },
    {
     "name": "stdout",
     "output_type": "stream",
     "text": [
      "https://macrohet.s3.eu-west-2.amazonaws.com/dMtb/dMtb_glimpses/glimpse_875.6.7_t2.png: Upload Successful\n"
     ]
    },
    {
     "name": "stderr",
     "output_type": "stream",
     "text": [
      "[INFO][2023/08/25 05:11:00 PM] Opening HDF file: /mnt/DATA/macrohet/labels/macrohet_seg_model/(6, 7).h5...\n",
      "[INFO][2023/08/25 05:11:10 PM] Loading segmentation (75, 6048, 6048)\n",
      "[INFO][2023/08/25 05:11:10 PM] Closing HDF file: /mnt/DATA/macrohet/labels/macrohet_seg_model/(6, 7).h5\n"
     ]
    },
    {
     "name": "stdout",
     "output_type": "stream",
     "text": [
      "https://macrohet.s3.eu-west-2.amazonaws.com/dMtb/dMtb_glimpses/glimpse_875.6.7_t-1.png: Upload Successful\n"
     ]
    }
   ],
   "source": [
    "glimpse_fns_to_create = [fn for fn in fns if not os.path.exists(os.path.join(glimpse_root_dir, fn))]\n",
    "for fn in tqdm(glimpse_fns_to_create, total = len(glimpse_fns_to_create)):\n",
    "    output_fn = os.path.join(glimpse_root_dir, fn)\n",
    "    if not os.path.exists(output_fn):\n",
    "        unique_ID = fn.split('_')[1]\n",
    "        time = int(fn.split('_')[-1].split('.png')[0].replace('t', ''))\n",
    "        glimpse = visualise.tn_glimpse_maker(unique_ID, df, time, metadata)\n",
    "        imsave(output_fn, glimpse)\n",
    "        if time == -1:\n",
    "            s3_file = outliers['glimpse_url_tn'][outliers['Unique ID']== unique_ID].iloc[0]\n",
    "        else:\n",
    "            s3_file = outliers['glimpse_url_t0'][outliers['Unique ID']== unique_ID].iloc[0]\n",
    "        aws_tools.upload(output_fn, 'macrohet', s3_file)"
   ]
  },
  {
   "cell_type": "code",
   "execution_count": 87,
   "id": "23032b1d-f903-4b77-9868-3e4dfdfdc972",
   "metadata": {},
   "outputs": [
    {
     "name": "stdout",
     "output_type": "stream",
     "text": [
      "Reading metadata XML file...\n"
     ]
    },
    {
     "data": {
      "application/vnd.jupyter.widget-view+json": {
       "model_id": "feb9d94d916b4644bf0fd520f3be050e",
       "version_major": 2,
       "version_minor": 0
      },
      "text/plain": [
       "Extracting HarmonyV5 metadata:   0%|          | 0/113400 [00:00<?, ?it/s]"
      ]
     },
     "metadata": {},
     "output_type": "display_data"
    },
    {
     "name": "stdout",
     "output_type": "stream",
     "text": [
      "Extracting metadata complete!\n"
     ]
    },
    {
     "name": "stderr",
     "output_type": "stream",
     "text": [
      "[INFO][2023/08/31 08:54:26 AM] Opening HDF file: /mnt/DATA/macrohet/labels/macrohet_seg_model/(4, 5).h5...\n",
      "[INFO][2023/08/31 08:54:42 AM] Loading segmentation (75, 6048, 6048)\n",
      "[INFO][2023/08/31 08:54:42 AM] Closing HDF file: /mnt/DATA/macrohet/labels/macrohet_seg_model/(4, 5).h5\n"
     ]
    },
    {
     "ename": "ValueError",
     "evalue": "Invalid input type for 'time'. Please provide an integer, a list of integers, or a range.",
     "output_type": "error",
     "traceback": [
      "\u001b[0;31m---------------------------------------------------------------------------\u001b[0m",
      "\u001b[0;31mValueError\u001b[0m                                Traceback (most recent call last)",
      "Input \u001b[0;32mIn [87]\u001b[0m, in \u001b[0;36m<cell line: 1>\u001b[0;34m()\u001b[0m\n\u001b[0;32m----> 1\u001b[0m \u001b[43mvisualise\u001b[49m\u001b[38;5;241;43m.\u001b[39;49m\u001b[43mtn_glimpse_maker\u001b[49m\u001b[43m(\u001b[49m\u001b[38;5;124;43m'\u001b[39;49m\u001b[38;5;124;43m85.4.5\u001b[39;49m\u001b[38;5;124;43m'\u001b[39;49m\u001b[43m,\u001b[49m\u001b[43m \u001b[49m\u001b[43mdf\u001b[49m\u001b[43m,\u001b[49m\u001b[43m \u001b[49m\u001b[43mmetadata\u001b[49m\u001b[43m)\u001b[49m\n",
      "File \u001b[0;32m~/analysis/macrohet/macrohet/visualise.py:692\u001b[0m, in \u001b[0;36mtn_glimpse_maker\u001b[0;34m(unique_ID, df, time, metadata, segmentation, base_dir, crop_size, track_scale_factor, mask_outline)\u001b[0m\n\u001b[1;32m    690\u001b[0m     time_values \u001b[38;5;241m=\u001b[39m \u001b[38;5;28mlist\u001b[39m(time)\n\u001b[1;32m    691\u001b[0m \u001b[38;5;28;01melse\u001b[39;00m:\n\u001b[0;32m--> 692\u001b[0m     \u001b[38;5;28;01mraise\u001b[39;00m \u001b[38;5;167;01mValueError\u001b[39;00m(\u001b[38;5;124m\"\u001b[39m\u001b[38;5;124mInvalid input type for \u001b[39m\u001b[38;5;124m'\u001b[39m\u001b[38;5;124mtime\u001b[39m\u001b[38;5;124m'\u001b[39m\u001b[38;5;124m. Please provide an integer, a list of integers, or a range.\u001b[39m\u001b[38;5;124m\"\u001b[39m)\n\u001b[1;32m    694\u001b[0m \u001b[38;5;28;01mfor\u001b[39;00m t \u001b[38;5;129;01min\u001b[39;00m time_values:\n\u001b[1;32m    695\u001b[0m     \u001b[38;5;28;01mif\u001b[39;00m t \u001b[38;5;241m==\u001b[39m \u001b[38;5;241m-\u001b[39m\u001b[38;5;241m1\u001b[39m:\n",
      "\u001b[0;31mValueError\u001b[0m: Invalid input type for 'time'. Please provide an integer, a list of integers, or a range."
     ]
    }
   ],
   "source": [
    "visualise.tn_glimpse_maker('85.4.5', df, metadata)"
   ]
  },
  {
   "cell_type": "code",
   "execution_count": null,
   "id": "3836f2b5-9bf6-49c9-87ae-954b573ef4cc",
   "metadata": {},
   "outputs": [],
   "source": [
    "glimpse_root_dir = '/home/dayn/temp_glimpse/'"
   ]
  },
  {
   "cell_type": "code",
   "execution_count": 99,
   "id": "ec46b80e-a9a0-4f44-9985-00136f844929",
   "metadata": {},
   "outputs": [
    {
     "data": {
      "text/plain": [
       "0"
      ]
     },
     "execution_count": 99,
     "metadata": {},
     "output_type": "execute_result"
    }
   ],
   "source": [
    "t "
   ]
  },
  {
   "cell_type": "code",
   "execution_count": 100,
   "id": "1904dc1b-13f1-4eff-8eb1-d3bf82eaf71b",
   "metadata": {},
   "outputs": [
    {
     "data": {
      "application/vnd.jupyter.widget-view+json": {
       "model_id": "461e5d408df64be19d149cd4cb58ff8c",
       "version_major": 2,
       "version_minor": 0
      },
      "text/plain": [
       "  0%|          | 0/75 [00:00<?, ?it/s]"
      ]
     },
     "metadata": {},
     "output_type": "display_data"
    },
    {
     "name": "stderr",
     "output_type": "stream",
     "text": [
      "[INFO][2023/08/31 09:12:35 AM] Opening HDF file: /mnt/DATA/macrohet/labels/macrohet_seg_model/(4, 5).h5...\n",
      "[INFO][2023/08/31 09:12:53 AM] Loading segmentation (75, 6048, 6048)\n",
      "[INFO][2023/08/31 09:12:53 AM] Closing HDF file: /mnt/DATA/macrohet/labels/macrohet_seg_model/(4, 5).h5\n",
      "[INFO][2023/08/31 09:13:18 AM] Opening HDF file: /mnt/DATA/macrohet/labels/macrohet_seg_model/(4, 5).h5...\n",
      "[INFO][2023/08/31 09:13:29 AM] Loading segmentation (75, 6048, 6048)\n",
      "[INFO][2023/08/31 09:13:29 AM] Closing HDF file: /mnt/DATA/macrohet/labels/macrohet_seg_model/(4, 5).h5\n",
      "[INFO][2023/08/31 09:13:54 AM] Opening HDF file: /mnt/DATA/macrohet/labels/macrohet_seg_model/(4, 5).h5...\n",
      "[INFO][2023/08/31 09:14:02 AM] Closing HDF file: /mnt/DATA/macrohet/labels/macrohet_seg_model/(4, 5).h5\n"
     ]
    },
    {
     "ename": "KeyboardInterrupt",
     "evalue": "",
     "output_type": "error",
     "traceback": [
      "\u001b[0;31m---------------------------------------------------------------------------\u001b[0m",
      "\u001b[0;31mKeyboardInterrupt\u001b[0m                         Traceback (most recent call last)",
      "Input \u001b[0;32mIn [100]\u001b[0m, in \u001b[0;36m<cell line: 1>\u001b[0;34m()\u001b[0m\n\u001b[1;32m      3\u001b[0m fn \u001b[38;5;241m=\u001b[39m \u001b[38;5;124mf\u001b[39m\u001b[38;5;124m'\u001b[39m\u001b[38;5;132;01m{\u001b[39;00mID\u001b[38;5;132;01m}\u001b[39;00m\u001b[38;5;124m_t\u001b[39m\u001b[38;5;132;01m{\u001b[39;00mt\u001b[38;5;132;01m}\u001b[39;00m\u001b[38;5;124m.png\u001b[39m\u001b[38;5;124m'\u001b[39m\n\u001b[1;32m      4\u001b[0m output_fn \u001b[38;5;241m=\u001b[39m os\u001b[38;5;241m.\u001b[39mpath\u001b[38;5;241m.\u001b[39mjoin(glimpse_root_dir, fn)\n\u001b[0;32m----> 5\u001b[0m glimpse \u001b[38;5;241m=\u001b[39m \u001b[43mvisualise\u001b[49m\u001b[38;5;241;43m.\u001b[39;49m\u001b[43mtn_glimpse_maker\u001b[49m\u001b[43m(\u001b[49m\u001b[43mID\u001b[49m\u001b[43m,\u001b[49m\u001b[43m \u001b[49m\u001b[43mdf\u001b[49m\u001b[43m,\u001b[49m\u001b[43m \u001b[49m\u001b[38;5;28;43mint\u001b[39;49m\u001b[43m(\u001b[49m\u001b[43mt\u001b[49m\u001b[43m)\u001b[49m\u001b[43m,\u001b[49m\u001b[43m \u001b[49m\u001b[43mmetadata\u001b[49m\u001b[43m)\u001b[49m\n\u001b[1;32m      6\u001b[0m imsave(output_fn, glimpse)\n",
      "File \u001b[0;32m~/analysis/macrohet/macrohet/visualise.py:680\u001b[0m, in \u001b[0;36mtn_glimpse_maker\u001b[0;34m(unique_ID, df, time, metadata, segmentation, base_dir, crop_size, track_scale_factor, mask_outline)\u001b[0m\n\u001b[1;32m    674\u001b[0m \u001b[38;5;28;01mif\u001b[39;00m segmentation \u001b[38;5;129;01mis\u001b[39;00m \u001b[38;5;28;01mNone\u001b[39;00m:\n\u001b[1;32m    675\u001b[0m     \u001b[38;5;66;03m# load segmentation\u001b[39;00m\n\u001b[1;32m    676\u001b[0m     \u001b[38;5;28;01mwith\u001b[39;00m btrack\u001b[38;5;241m.\u001b[39mio\u001b[38;5;241m.\u001b[39mHDF5FileHandler(os\u001b[38;5;241m.\u001b[39mpath\u001b[38;5;241m.\u001b[39mjoin(base_dir,\n\u001b[1;32m    677\u001b[0m                                                 \u001b[38;5;124mf\u001b[39m\u001b[38;5;124m'\u001b[39m\u001b[38;5;124mlabels/macrohet_seg_model/\u001b[39m\u001b[38;5;132;01m{\u001b[39;00m\u001b[38;5;28mint\u001b[39m(row),\u001b[38;5;28mint\u001b[39m(column)\u001b[38;5;132;01m}\u001b[39;00m\u001b[38;5;124m.h5\u001b[39m\u001b[38;5;124m'\u001b[39m),\n\u001b[1;32m    678\u001b[0m                                    \u001b[38;5;124m'\u001b[39m\u001b[38;5;124mr\u001b[39m\u001b[38;5;124m'\u001b[39m,\n\u001b[1;32m    679\u001b[0m                                    obj_type\u001b[38;5;241m=\u001b[39m\u001b[38;5;124m'\u001b[39m\u001b[38;5;124mobj_type_1\u001b[39m\u001b[38;5;124m'\u001b[39m) \u001b[38;5;28;01mas\u001b[39;00m reader:\n\u001b[0;32m--> 680\u001b[0m         segmentation \u001b[38;5;241m=\u001b[39m \u001b[43mreader\u001b[49m\u001b[38;5;241;43m.\u001b[39;49m\u001b[43msegmentation\u001b[49m\n\u001b[1;32m    682\u001b[0m \u001b[38;5;66;03m# extract single cell df\u001b[39;00m\n\u001b[1;32m    683\u001b[0m sc_df \u001b[38;5;241m=\u001b[39m df[df[\u001b[38;5;124m'\u001b[39m\u001b[38;5;124mUnique ID\u001b[39m\u001b[38;5;124m'\u001b[39m] \u001b[38;5;241m==\u001b[39m unique_ID]\n",
      "File \u001b[0;32m~/analysis/btrack/btrack/io/hdf.py:43\u001b[0m, in \u001b[0;36mh5check_property_exists.<locals>.func.<locals>.wrapped_handler_property\u001b[0;34m(*args, **kwargs)\u001b[0m\n\u001b[1;32m     39\u001b[0m     logger\u001b[38;5;241m.\u001b[39merror(\n\u001b[1;32m     40\u001b[0m         \u001b[38;5;124mf\u001b[39m\u001b[38;5;124m\"\u001b[39m\u001b[38;5;132;01m{\u001b[39;00m\u001b[38;5;28mproperty\u001b[39m\u001b[38;5;241m.\u001b[39mcapitalize()\u001b[38;5;132;01m}\u001b[39;00m\u001b[38;5;124m not found in \u001b[39m\u001b[38;5;132;01m{\u001b[39;00m\u001b[38;5;28mself\u001b[39m\u001b[38;5;241m.\u001b[39mfilename\u001b[38;5;132;01m}\u001b[39;00m\u001b[38;5;124m\"\u001b[39m\n\u001b[1;32m     41\u001b[0m     )\n\u001b[1;32m     42\u001b[0m     \u001b[38;5;28;01mreturn\u001b[39;00m \u001b[38;5;28;01mNone\u001b[39;00m\n\u001b[0;32m---> 43\u001b[0m \u001b[38;5;28;01mreturn\u001b[39;00m \u001b[43mfn\u001b[49m\u001b[43m(\u001b[49m\u001b[38;5;241;43m*\u001b[39;49m\u001b[43margs\u001b[49m\u001b[43m,\u001b[49m\u001b[43m \u001b[49m\u001b[38;5;241;43m*\u001b[39;49m\u001b[38;5;241;43m*\u001b[39;49m\u001b[43mkwargs\u001b[49m\u001b[43m)\u001b[49m\n",
      "File \u001b[0;32m~/analysis/btrack/btrack/io/hdf.py:171\u001b[0m, in \u001b[0;36mHDF5FileHandler.segmentation\u001b[0;34m(self)\u001b[0m\n\u001b[1;32m    168\u001b[0m \u001b[38;5;129m@property\u001b[39m  \u001b[38;5;66;03m# type: ignore\u001b[39;00m\n\u001b[1;32m    169\u001b[0m \u001b[38;5;129m@h5check_property_exists\u001b[39m(\u001b[38;5;124m\"\u001b[39m\u001b[38;5;124msegmentation\u001b[39m\u001b[38;5;124m\"\u001b[39m)\n\u001b[1;32m    170\u001b[0m \u001b[38;5;28;01mdef\u001b[39;00m \u001b[38;5;21msegmentation\u001b[39m(\u001b[38;5;28mself\u001b[39m) \u001b[38;5;241m-\u001b[39m\u001b[38;5;241m>\u001b[39m np\u001b[38;5;241m.\u001b[39mndarray:\n\u001b[0;32m--> 171\u001b[0m     segmentation \u001b[38;5;241m=\u001b[39m \u001b[38;5;28;43mself\u001b[39;49m\u001b[38;5;241;43m.\u001b[39;49m\u001b[43m_hdf\u001b[49m\u001b[43m[\u001b[49m\u001b[38;5;124;43m\"\u001b[39;49m\u001b[38;5;124;43msegmentation\u001b[39;49m\u001b[38;5;124;43m\"\u001b[39;49m\u001b[43m]\u001b[49m\u001b[43m[\u001b[49m\u001b[38;5;124;43m\"\u001b[39;49m\u001b[38;5;124;43mimages\u001b[39;49m\u001b[38;5;124;43m\"\u001b[39;49m\u001b[43m]\u001b[49m\u001b[43m[\u001b[49m\u001b[43m:\u001b[49m\u001b[43m]\u001b[49m\u001b[38;5;241m.\u001b[39mastype(np\u001b[38;5;241m.\u001b[39muint16)\n\u001b[1;32m    172\u001b[0m     logger\u001b[38;5;241m.\u001b[39minfo(\u001b[38;5;124mf\u001b[39m\u001b[38;5;124m\"\u001b[39m\u001b[38;5;124mLoading segmentation \u001b[39m\u001b[38;5;132;01m{\u001b[39;00msegmentation\u001b[38;5;241m.\u001b[39mshape\u001b[38;5;132;01m}\u001b[39;00m\u001b[38;5;124m\"\u001b[39m)\n\u001b[1;32m    173\u001b[0m     \u001b[38;5;28;01mreturn\u001b[39;00m segmentation\n",
      "File \u001b[0;32mh5py/_objects.pyx:54\u001b[0m, in \u001b[0;36mh5py._objects.with_phil.wrapper\u001b[0;34m()\u001b[0m\n",
      "File \u001b[0;32mh5py/_objects.pyx:55\u001b[0m, in \u001b[0;36mh5py._objects.with_phil.wrapper\u001b[0;34m()\u001b[0m\n",
      "File \u001b[0;32m~/miniconda3/envs/aero/lib/python3.9/site-packages/h5py/_hl/dataset.py:741\u001b[0m, in \u001b[0;36mDataset.__getitem__\u001b[0;34m(self, args, new_dtype)\u001b[0m\n\u001b[1;32m    739\u001b[0m \u001b[38;5;28;01mif\u001b[39;00m \u001b[38;5;28mself\u001b[39m\u001b[38;5;241m.\u001b[39m_fast_read_ok \u001b[38;5;129;01mand\u001b[39;00m (new_dtype \u001b[38;5;129;01mis\u001b[39;00m \u001b[38;5;28;01mNone\u001b[39;00m):\n\u001b[1;32m    740\u001b[0m     \u001b[38;5;28;01mtry\u001b[39;00m:\n\u001b[0;32m--> 741\u001b[0m         \u001b[38;5;28;01mreturn\u001b[39;00m \u001b[38;5;28;43mself\u001b[39;49m\u001b[38;5;241;43m.\u001b[39;49m\u001b[43m_fast_reader\u001b[49m\u001b[38;5;241;43m.\u001b[39;49m\u001b[43mread\u001b[49m\u001b[43m(\u001b[49m\u001b[43margs\u001b[49m\u001b[43m)\u001b[49m\n\u001b[1;32m    742\u001b[0m     \u001b[38;5;28;01mexcept\u001b[39;00m \u001b[38;5;167;01mTypeError\u001b[39;00m:\n\u001b[1;32m    743\u001b[0m         \u001b[38;5;28;01mpass\u001b[39;00m  \u001b[38;5;66;03m# Fall back to Python read pathway below\u001b[39;00m\n",
      "\u001b[0;31mKeyboardInterrupt\u001b[0m: "
     ]
    }
   ],
   "source": [
    "for ID in ['85.4.5', '426.3.4']:\n",
    "    for t in tqdm(df[df['Unique ID'] == ID]['Time (hours)'].values):\n",
    "        fn = f'{ID}_t{t}.png'\n",
    "        output_fn = os.path.join(glimpse_root_dir, fn)\n",
    "        glimpse = visualise.tn_glimpse_maker(ID, df, int(t), metadata)\n",
    "        imsave(output_fn, glimpse)"
   ]
  },
  {
   "cell_type": "code",
   "execution_count": 101,
   "id": "a5365b1a-142b-4408-b0cc-32bf4af86bae",
   "metadata": {},
   "outputs": [
    {
     "data": {
      "text/plain": [
       "[0,\n",
       " 1,\n",
       " 2,\n",
       " 3,\n",
       " 4,\n",
       " 5,\n",
       " 6,\n",
       " 7,\n",
       " 8,\n",
       " 9,\n",
       " 10,\n",
       " 11,\n",
       " 12,\n",
       " 13,\n",
       " 14,\n",
       " 15,\n",
       " 16,\n",
       " 17,\n",
       " 18,\n",
       " 19,\n",
       " 20,\n",
       " 21,\n",
       " 22,\n",
       " 23,\n",
       " 24,\n",
       " 25,\n",
       " 26,\n",
       " 27,\n",
       " 28,\n",
       " 29,\n",
       " 30,\n",
       " 31,\n",
       " 32,\n",
       " 33,\n",
       " 34,\n",
       " 35,\n",
       " 36,\n",
       " 37,\n",
       " 38,\n",
       " 39,\n",
       " 40,\n",
       " 41,\n",
       " 42,\n",
       " 43,\n",
       " 44,\n",
       " 45,\n",
       " 46,\n",
       " 47,\n",
       " 48,\n",
       " 49,\n",
       " 50,\n",
       " 51,\n",
       " 52,\n",
       " 53,\n",
       " 54,\n",
       " 55,\n",
       " 56,\n",
       " 57,\n",
       " 58,\n",
       " 59,\n",
       " 60,\n",
       " 61,\n",
       " 62,\n",
       " 63,\n",
       " 64,\n",
       " 65,\n",
       " 66,\n",
       " 67,\n",
       " 68,\n",
       " 69,\n",
       " 70,\n",
       " 71,\n",
       " 72,\n",
       " 73,\n",
       " 74]"
      ]
     },
     "execution_count": 101,
     "metadata": {},
     "output_type": "execute_result"
    }
   ],
   "source": [
    "list(range(0,75))"
   ]
  },
  {
   "cell_type": "code",
   "execution_count": 102,
   "id": "37016aa3-e62e-402f-aa08-6a4b7f09e5ee",
   "metadata": {},
   "outputs": [
    {
     "name": "stderr",
     "output_type": "stream",
     "text": [
      "[INFO][2023/08/31 09:14:25 AM] Opening HDF file: /mnt/DATA/macrohet/labels/macrohet_seg_model/(4, 5).h5...\n",
      "[INFO][2023/08/31 09:14:35 AM] Loading segmentation (75, 6048, 6048)\n",
      "[INFO][2023/08/31 09:14:35 AM] Closing HDF file: /mnt/DATA/macrohet/labels/macrohet_seg_model/(4, 5).h5\n"
     ]
    }
   ],
   "source": [
    "test = visualise.tn_glimpse_maker(ID, df, list(range(0,75)), metadata)"
   ]
  },
  {
   "cell_type": "code",
   "execution_count": 104,
   "id": "07579f65-a279-466f-811a-f48808e97543",
   "metadata": {},
   "outputs": [
    {
     "data": {
      "text/plain": [
       "(216, 216, 3)"
      ]
     },
     "execution_count": 104,
     "metadata": {},
     "output_type": "execute_result"
    }
   ],
   "source": [
    "['85.4.5', '426.3.4']"
   ]
  },
  {
   "cell_type": "code",
   "execution_count": 108,
   "id": "33b058b6-7541-402b-a404-5b937c8e840e",
   "metadata": {},
   "outputs": [],
   "source": [
    "base_dir='desktop'\n",
    "crop_size=None\n",
    "track_scale_factor=5.04 \n",
    "mask_outline=True"
   ]
  },
  {
   "cell_type": "code",
   "execution_count": 111,
   "id": "5750b583-b40e-4e7f-b820-ed1a7fc6d696",
   "metadata": {},
   "outputs": [],
   "source": [
    "glimpse_root_dir = '/run/user/30046150/gvfs/smb-share:server=data2.thecrick.org,share=lab-gutierrezm/home/users/dayn/macrohet_nemo/temp_glimpse'"
   ]
  },
  {
   "cell_type": "code",
   "execution_count": 112,
   "id": "5dd3b6e8-7e77-4cfe-b3bb-dbb171265dcd",
   "metadata": {
    "scrolled": true
   },
   "outputs": [
    {
     "name": "stderr",
     "output_type": "stream",
     "text": [
      "[INFO][2023/08/31 09:27:34 AM] Opening HDF file: /mnt/DATA/macrohet/labels/macrohet_seg_model/(4, 5).h5...\n",
      "[INFO][2023/08/31 09:27:47 AM] Loading segmentation (75, 6048, 6048)\n",
      "[INFO][2023/08/31 09:27:47 AM] Closing HDF file: /mnt/DATA/macrohet/labels/macrohet_seg_model/(4, 5).h5\n"
     ]
    },
    {
     "data": {
      "application/vnd.jupyter.widget-view+json": {
       "model_id": "1fe16b410d29447e96d10258c12f61ca",
       "version_major": 2,
       "version_minor": 0
      },
      "text/plain": [
       "  0%|          | 0/75 [00:00<?, ?it/s]"
      ]
     },
     "metadata": {},
     "output_type": "display_data"
    }
   ],
   "source": [
    "# ef tn_glimpse_maker(unique_ID, df, time, metadata=None, segmentation=None,\n",
    "#                      base_dir='desktop', crop_size=None,\n",
    "#                      track_scale_factor=5.04, mask_outline=True):\n",
    "#     \"\"\"\n",
    "#     Create a cropped RGB image for a specific unique ID and time.\n",
    "\n",
    "#     Args:\n",
    "#         unique_ID (str): The unique identifier of the cell.\n",
    "#         df (pandas.DataFrame): The DataFrame containing the cell data.\n",
    "#         time (int, list, tuple, range): The time value(s) to extract the image(s) for.\n",
    "#         metadata (object, optional): The metadata object. Default is None. Best to supply beforehand otherwise\n",
    "#             it will result in a slow loading of the metadata (which is the same for all cells) for each cell.\n",
    "#         base_dir (str, optional): The base directory path or special string value ('desktop' or 'laptop')\n",
    "#             to determine the path. Default is 'desktop'.\n",
    "#         crop_size (int, optional): The desired size of the cropped image.\n",
    "#             If None, it's calculated based on the area. Default is None.\n",
    "#         track_scale_factor (float, optional): The scale factor to apply to the tracking coordinates. Default is 5.04.\n",
    "#         mask_outline (bool, optional): Whether to draw the mask outline on the image. Default is True.\n",
    "\n",
    "#     Returns:\n",
    "#         numpy.ndarray: The cropped RGB image.\n",
    "\n",
    "#     Raises:\n",
    "#         ValueError: If an invalid input type is provided for 'time'.\n",
    "    # \"\"\"\n",
    "unique_ID = '85.4.5'\n",
    "time = list(range(0,75))\n",
    "\n",
    "glimpse_stack = list()\n",
    "# extract row and column from unique_ID\n",
    "cell_ID, row, column = unique_ID.split('.')\n",
    "base_dir = '/mnt/DATA/macrohet/'\n",
    "image_dir = os.path.join(base_dir, 'macrohet_images/PS0000/Images')\n",
    "images = tile.compile_mosaic(image_dir, metadata, row, column, set_plane='sum_proj')\n",
    "\n",
    "with btrack.io.HDF5FileHandler(os.path.join(base_dir,\n",
    "                                            f'labels/macrohet_seg_model/{int(row),int(column)}.h5'),\n",
    "                               'r',\n",
    "                               obj_type='obj_type_1') as reader:\n",
    "    segmentation = reader.segmentation\n",
    "\n",
    "# extract single cell df\n",
    "sc_df = df[df['Unique ID'] == unique_ID]\n",
    "\n",
    "time_values = time\n",
    "for t in tqdm(time_values):\n",
    "    if t == -1:\n",
    "        t = sc_df['Time (hours)'].iloc[-1]\n",
    "\n",
    "    sc_df_t = sc_df[sc_df['Time (hours)'] == t]\n",
    "\n",
    "    # Extract xy coordinates and transpose for python and area from the cell information\n",
    "    y_coord, x_coord, area, t = sc_df_t.loc[:, ['x', 'y', 'Area', 'Time (hours)']].values[0]\n",
    "\n",
    "    # Scale according to tracking shrinkage\n",
    "    y_coord, x_coord = y_coord * track_scale_factor, x_coord * track_scale_factor\n",
    "\n",
    "    if not crop_size:\n",
    "        # Calculate the side length for cropping based on the square root of the area\n",
    "        side_length = int(np.sqrt(area)) * 2\n",
    "\n",
    "    # Calculate the cropping boundaries\n",
    "    x_start = int(x_coord - side_length / 2)\n",
    "    x_end = int(x_coord + side_length / 2)\n",
    "    y_start = int(y_coord - side_length / 2)\n",
    "    y_end = int(y_coord + side_length / 2)\n",
    "\n",
    "    # Pad the boundaries if they exceed the image dimensions\n",
    "    if x_start < 0:\n",
    "        x_pad = abs(x_start)\n",
    "        x_start = 0\n",
    "    else:\n",
    "        x_pad = 0\n",
    "\n",
    "    if x_end > images.shape[2]:\n",
    "        x_pad_end = x_end - images.shape[2]\n",
    "        x_end = images.shape[2]\n",
    "    else:\n",
    "        x_pad_end = 0\n",
    "\n",
    "    if y_start < 0:\n",
    "        y_pad = abs(y_start)\n",
    "        y_start = 0\n",
    "    else:\n",
    "        y_pad = 0\n",
    "\n",
    "    if y_end > images.shape[3]:\n",
    "        y_pad_end = y_end - images.shape[3]\n",
    "        y_end = images.shape[3]\n",
    "    else:\n",
    "        y_pad_end = 0\n",
    "\n",
    "    # Crop the image\n",
    "    cropped_image = images[t, :, x_start:x_end, y_start:y_end]\n",
    "\n",
    "    # Pad the cropped image if necessary\n",
    "    cropped_image = np.pad(cropped_image, ((0, 0), (x_pad, x_pad_end), (y_pad, y_pad_end)), mode='constant')\n",
    "\n",
    "    # extract the gfp and rfp channels to apply some vis techn\n",
    "    gfp = cropped_image[0, ...].compute().compute()\n",
    "    rfp = cropped_image[1, ...].compute().compute()\n",
    "\n",
    "    # clip the images so that the contrast is more apparent\n",
    "    contrast_lim_gfp = np.clip(gfp, 358, 5886)\n",
    "    contrast_lim_rfp = np.clip(rfp, 480, 1300)\n",
    "\n",
    "    norm_gfp = cv2.normalize(contrast_lim_gfp, None, 0, 65535, cv2.NORM_MINMAX, dtype=cv2.CV_16U)\n",
    "    norm_rfp = cv2.normalize(contrast_lim_rfp, None, 0, 65535, cv2.NORM_MINMAX, dtype=cv2.CV_16U)\n",
    "\n",
    "    # put the modified gfp rfp back in place\n",
    "    cropped_image[0, ...] = norm_gfp\n",
    "    cropped_image[1, ...] = norm_rfp\n",
    "\n",
    "    # Create an empty RGB image with the same shape as the input image\n",
    "    rgb_image = np.zeros((cropped_image.shape[1], cropped_image.shape[2], 3), dtype=np.uint16)\n",
    "\n",
    "    # Assign the first channel to the green channel of the RGB image\n",
    "    rgb_image[:, :, 1] = cropped_image[0]\n",
    "\n",
    "    # Assign the second channel to the red and blue channels of the RGB image to create magenta\n",
    "    rgb_image[:, :, 0] = cropped_image[1]\n",
    "    rgb_image[:, :, 2] = cropped_image[1]\n",
    "\n",
    "    # scale down to 8bit\n",
    "    rgb_image = np.uint8(rgb_image >> 8)\n",
    "\n",
    "    if mask_outline:\n",
    "        # load mask (singular)\n",
    "        cropped_masks = segmentation[int(t), x_start:x_end, y_start:y_end]\n",
    "\n",
    "        # Pad the cropped image if necessary\n",
    "        cropped_masks = np.pad(cropped_masks, ((x_pad, x_pad_end), (y_pad, y_pad_end)), mode='constant')\n",
    "\n",
    "        # extract only that segment\n",
    "        seg_ID = cropped_masks[int(cropped_masks.shape[0] / 2), int(cropped_masks.shape[1] / 2)]\n",
    "        instance_mask = (cropped_masks == seg_ID).astype(np.uint8)\n",
    "\n",
    "        # draw outline\n",
    "        contours, _ = cv2.findContours(instance_mask, cv2.RETR_EXTERNAL, cv2.CHAIN_APPROX_SIMPLE)\n",
    "        cv2.drawContours(rgb_image, contours, -1, (0, 2 ** 8, 2 ** 8), thickness=2)  # make 8bit\n",
    "\n",
    "    # downsize image to reduce storage demands\n",
    "    rgb_image = cv2.resize(rgb_image, (rgb_image.shape[1] // 2, rgb_image.shape[0] // 2))\n",
    "    fn = f'{ID}_t{t}.png'\n",
    "    output_fn = os.path.join(glimpse_root_dir, fn)\n",
    "    imsave(output_fn, rgb_image)\n",
    "    glimpse_stack.append(rgb_image)"
   ]
  },
  {
   "cell_type": "code",
   "execution_count": 114,
   "id": "afb101d1-a065-47da-9f17-0c9b8877fa32",
   "metadata": {},
   "outputs": [],
   "source": [
    "import seaborn as sns"
   ]
  },
  {
   "cell_type": "code",
   "execution_count": null,
   "id": "8aa8dda1-7019-4942-becf-794e9284874e",
   "metadata": {},
   "outputs": [],
   "source": [
    "sns.boxenplot"
   ]
  }
 ],
 "metadata": {
  "kernelspec": {
   "display_name": "aero",
   "language": "python",
   "name": "aero"
  },
  "language_info": {
   "codemirror_mode": {
    "name": "ipython",
    "version": 3
   },
   "file_extension": ".py",
   "mimetype": "text/x-python",
   "name": "python",
   "nbconvert_exporter": "python",
   "pygments_lexer": "ipython3",
   "version": "3.9.12"
  }
 },
 "nbformat": 4,
 "nbformat_minor": 5
}
