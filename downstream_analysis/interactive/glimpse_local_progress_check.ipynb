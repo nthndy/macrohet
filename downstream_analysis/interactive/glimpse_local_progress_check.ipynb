{
 "cells": [
  {
   "cell_type": "code",
   "execution_count": 1,
   "id": "9be82542",
   "metadata": {},
   "outputs": [],
   "source": [
    "import glob\n",
    "import os\n",
    "from macrohet import aws_tools, notify\n",
    "from tqdm.auto import tqdm\n",
    "import time"
   ]
  },
  {
   "cell_type": "code",
   "execution_count": 2,
   "id": "cbc61959",
   "metadata": {},
   "outputs": [],
   "source": [
    "glimpse_dir = '/mnt/DATA/macrohet/results/glimpses/interactive_plots/time_series'"
   ]
  },
  {
   "cell_type": "code",
   "execution_count": 3,
   "id": "3af85aa0",
   "metadata": {},
   "outputs": [],
   "source": [
    "glimpse_fns = glob.glob(os.path.join(glimpse_dir, '*.png'))"
   ]
  },
  {
   "cell_type": "code",
   "execution_count": 4,
   "id": "71dedab2",
   "metadata": {},
   "outputs": [
    {
     "data": {
      "text/plain": [
       "20348"
      ]
     },
     "execution_count": 4,
     "metadata": {},
     "output_type": "execute_result"
    }
   ],
   "source": [
    "len(glimpse_fns)"
   ]
  },
  {
   "cell_type": "markdown",
   "id": "e0ddf9cc",
   "metadata": {},
   "source": [
    "# Progress check"
   ]
  },
  {
   "cell_type": "code",
   "execution_count": 6,
   "id": "6376a614",
   "metadata": {},
   "outputs": [
    {
     "ename": "ZeroDivisionError",
     "evalue": "float division by zero",
     "output_type": "error",
     "traceback": [
      "\u001b[0;31m---------------------------------------------------------------------------\u001b[0m",
      "\u001b[0;31mZeroDivisionError\u001b[0m                         Traceback (most recent call last)",
      "Input \u001b[0;32mIn [6]\u001b[0m, in \u001b[0;36m<cell line: 4>\u001b[0;34m()\u001b[0m\n\u001b[1;32m      9\u001b[0m prog_per_hour \u001b[38;5;241m=\u001b[39m elapsed_prog \u001b[38;5;241m/\u001b[39m (\u001b[38;5;241m60\u001b[39m\u001b[38;5;241m/\u001b[39mT)\n\u001b[1;32m     10\u001b[0m to_go \u001b[38;5;241m=\u001b[39m \u001b[38;5;241m100\u001b[39m \u001b[38;5;241m-\u001b[39m progress\n\u001b[0;32m---> 11\u001b[0m time_to_go \u001b[38;5;241m=\u001b[39m \u001b[43mto_go\u001b[49m\u001b[38;5;241;43m/\u001b[39;49m\u001b[43mprog_per_hour\u001b[49m\n\u001b[1;32m     12\u001b[0m notify\u001b[38;5;241m.\u001b[39msend_sms(\u001b[38;5;124mf\u001b[39m\u001b[38;5;124m'\u001b[39m\u001b[38;5;124mProgress update: \u001b[39m\u001b[38;5;132;01m{\u001b[39;00mprogress\u001b[38;5;132;01m}\u001b[39;00m\u001b[38;5;124m% done \u001b[39m\u001b[38;5;130;01m\\n\u001b[39;00m\u001b[38;5;124m Estimated time to go:\u001b[39m\u001b[38;5;132;01m{\u001b[39;00mtime_to_go\u001b[38;5;132;01m}\u001b[39;00m\u001b[38;5;124m'\u001b[39m)\n\u001b[1;32m     13\u001b[0m prev_prog \u001b[38;5;241m=\u001b[39m progress\n",
      "\u001b[0;31mZeroDivisionError\u001b[0m: float division by zero"
     ]
    }
   ],
   "source": [
    "T = 3\n",
    "N = 20900\n",
    "prev_prog = len(os.listdir('/mnt/DATA/macrohet/results/glimpses/interactive_plots/time_series'))#13431/N *100\n",
    "for i in range(0,17*4):\n",
    "    n = len(os.listdir('/mnt/DATA/macrohet/results/glimpses/interactive_plots/time_series'))\n",
    "    progress = n/N * 100 \n",
    "    notify.send_sms(f'Progress update: {progress}% done')\n",
    "    elapsed_prog = progress - prev_prog\n",
    "    prog_per_hour = elapsed_prog / (60/T)\n",
    "    to_go = 100 - progress\n",
    "    time_to_go = to_go/prog_per_hour\n",
    "    notify.send_sms(f'Progress update: {progress}% done \\n Estimated time to go:{time_to_go}')\n",
    "    prev_prog = progress\n",
    "    time.sleep(60*T)"
   ]
  }
 ],
 "metadata": {
  "kernelspec": {
   "display_name": "aero",
   "language": "python",
   "name": "aero"
  },
  "language_info": {
   "codemirror_mode": {
    "name": "ipython",
    "version": 3
   },
   "file_extension": ".py",
   "mimetype": "text/x-python",
   "name": "python",
   "nbconvert_exporter": "python",
   "pygments_lexer": "ipython3",
   "version": "3.9.12"
  }
 },
 "nbformat": 4,
 "nbformat_minor": 5
}
