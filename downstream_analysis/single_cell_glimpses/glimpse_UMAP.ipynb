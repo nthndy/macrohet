{
 "cells": [
  {
   "cell_type": "markdown",
   "id": "95dcd0bb",
   "metadata": {},
   "source": [
    "# Configuring glimpses for UMAP"
   ]
  },
  {
   "cell_type": "code",
   "execution_count": 1,
   "id": "83d383f0",
   "metadata": {},
   "outputs": [
    {
     "name": "stdout",
     "output_type": "stream",
     "text": [
      "0.6.1.dev30\n"
     ]
    }
   ],
   "source": [
    "import napari\n",
    "from macrohet import dataio, tile\n",
    "import btrack\n",
    "print(btrack.__version__)\n",
    "import os\n",
    "from tqdm.auto import tqdm\n",
    "import numpy as np"
   ]
  },
  {
   "cell_type": "markdown",
   "id": "cb28dcb6",
   "metadata": {},
   "source": [
    "### Load experiment of choice\n",
    "\n",
    "The Opera Phenix is a high-throughput confocal microscope that acquires very large 5-dimensional (TCZXY) images over several fields of view in any one experiment. Therefore, a lazy-loading approach is chosen to mosaic, view and annotate these images. This approach depends upon Dask and DaskFusion. The first step is to load the main metadata file (typically called `Index.idx.xml` and located in the main `Images` directory) that contains the image filenames and associated TCXZY information used to organise the images."
   ]
  },
  {
   "cell_type": "code",
   "execution_count": 2,
   "id": "2f90d81a",
   "metadata": {},
   "outputs": [
    {
     "name": "stdout",
     "output_type": "stream",
     "text": [
      "Reading metadata XML file...\n"
     ]
    },
    {
     "data": {
      "application/vnd.jupyter.widget-view+json": {
       "model_id": "bd4a52ef5e8a4c5691030fc0cfa60cba",
       "version_major": 2,
       "version_minor": 0
      },
      "text/plain": [
       "Extracting HarmonyV5 metadata:   0%|          | 0/113400 [00:00<?, ?it/s]"
      ]
     },
     "metadata": {},
     "output_type": "display_data"
    },
    {
     "name": "stdout",
     "output_type": "stream",
     "text": [
      "Extracting metadata complete!\n",
      "Reading metadata XML file...\n",
      "Extracting metadata complete!\n"
     ]
    }
   ],
   "source": [
    "base_dir = '/mnt/DATA/macrohet/'\n",
    "# base_dir = '/Volumes/lab-gutierrezm/home/users/dayn/macrohet_nemo/'\n",
    "metadata_fn = os.path.join(base_dir, 'macrohet_images/Index.idx.xml')\n",
    "metadata = dataio.read_harmony_metadata(metadata_fn)  \n",
    "metadata_path = os.path.join(base_dir, 'macrohet_images/Assaylayout/20210602_Live_cell_IPSDMGFP_ATB.xml')\n",
    "assay_layout = dataio.read_harmony_metadata(metadata_path, assay_layout=True,)# mask_exist=True,  image_dir = image_dir, image_metadata = metadata)"
   ]
  },
  {
   "cell_type": "markdown",
   "id": "e9d4dc7f",
   "metadata": {},
   "source": [
    "### Define row and column of choice"
   ]
  },
  {
   "cell_type": "code",
   "execution_count": 3,
   "id": "661b558f",
   "metadata": {},
   "outputs": [],
   "source": [
    "row = 3\n",
    "column = 5"
   ]
  },
  {
   "cell_type": "markdown",
   "id": "bee546c2",
   "metadata": {},
   "source": [
    "### Now to lazily mosaic the images using Dask prior to viewing them.\n",
    "\n",
    "1x (75,2,3) [TCZ] image stack takes approximately 1 minute to stitch together, so only load the one field of view I want."
   ]
  },
  {
   "cell_type": "code",
   "execution_count": 90,
   "id": "b960cc48",
   "metadata": {},
   "outputs": [
    {
     "data": {
      "text/plain": [
       "<module 'macrohet.tile' from '/home/dayn/analysis/macrohet/macrohet/tile.py'>"
      ]
     },
     "execution_count": 90,
     "metadata": {},
     "output_type": "execute_result"
    }
   ],
   "source": [
    "import importlib\n",
    "importlib.reload(tile)"
   ]
  },
  {
   "cell_type": "code",
   "execution_count": 92,
   "id": "72561ec6",
   "metadata": {},
   "outputs": [],
   "source": [
    "image_dir = os.path.join(base_dir, 'macrohet_images/Images')\n",
    "images = tile.compile_mosaic(image_dir, \n",
    "                             metadata, \n",
    "                             row, column, \n",
    "                             set_plane='sum_proj',\n",
    "#                              set_channel=1,\n",
    "                             set_time = 0,\n",
    "#                             input_transforms = [input_transforms]\n",
    "                            )#.compute().compute()"
   ]
  },
  {
   "cell_type": "code",
   "execution_count": 93,
   "id": "2622e692",
   "metadata": {},
   "outputs": [
    {
     "data": {
      "text/html": [
       "<table>\n",
       "    <tr>\n",
       "        <td>\n",
       "            <table>\n",
       "                <thead>\n",
       "                    <tr>\n",
       "                        <td> </td>\n",
       "                        <th> Array </th>\n",
       "                        <th> Chunk </th>\n",
       "                    </tr>\n",
       "                </thead>\n",
       "                <tbody>\n",
       "                    \n",
       "                    <tr>\n",
       "                        <th> Bytes </th>\n",
       "                        <td> 139.54 MiB </td>\n",
       "                        <td> 7.75 MiB </td>\n",
       "                    </tr>\n",
       "                    \n",
       "                    <tr>\n",
       "                        <th> Shape </th>\n",
       "                        <td> (1, 2, 6048, 6048) </td>\n",
       "                        <td> (1, 1, 2016, 2016) </td>\n",
       "                    </tr>\n",
       "                    <tr>\n",
       "                        <th> Count </th>\n",
       "                        <td> 288 Tasks </td>\n",
       "                        <td> 18 Chunks </td>\n",
       "                    </tr>\n",
       "                    <tr>\n",
       "                    <th> Type </th>\n",
       "                    <td> uint16 </td>\n",
       "                    <td> numpy.ndarray </td>\n",
       "                    </tr>\n",
       "                </tbody>\n",
       "            </table>\n",
       "        </td>\n",
       "        <td>\n",
       "        <svg width=\"374\" height=\"184\" style=\"stroke:rgb(0,0,0);stroke-width:1\" >\n",
       "\n",
       "  <!-- Horizontal lines -->\n",
       "  <line x1=\"0\" y1=\"0\" x2=\"25\" y2=\"0\" style=\"stroke-width:2\" />\n",
       "  <line x1=\"0\" y1=\"25\" x2=\"25\" y2=\"25\" style=\"stroke-width:2\" />\n",
       "\n",
       "  <!-- Vertical lines -->\n",
       "  <line x1=\"0\" y1=\"0\" x2=\"0\" y2=\"25\" style=\"stroke-width:2\" />\n",
       "  <line x1=\"25\" y1=\"0\" x2=\"25\" y2=\"25\" style=\"stroke-width:2\" />\n",
       "\n",
       "  <!-- Colored Rectangle -->\n",
       "  <polygon points=\"0.0,0.0 25.412616514582485,0.0 25.412616514582485,25.412616514582485 0.0,25.412616514582485\" style=\"fill:#ECB172A0;stroke-width:0\"/>\n",
       "\n",
       "  <!-- Text -->\n",
       "  <text x=\"12.706308\" y=\"45.412617\" font-size=\"1.0rem\" font-weight=\"100\" text-anchor=\"middle\" >1</text>\n",
       "  <text x=\"45.412617\" y=\"12.706308\" font-size=\"1.0rem\" font-weight=\"100\" text-anchor=\"middle\" transform=\"rotate(0,45.412617,12.706308)\">1</text>\n",
       "\n",
       "\n",
       "  <!-- Horizontal lines -->\n",
       "  <line x1=\"95\" y1=\"0\" x2=\"109\" y2=\"14\" style=\"stroke-width:2\" />\n",
       "  <line x1=\"95\" y1=\"40\" x2=\"109\" y2=\"54\" />\n",
       "  <line x1=\"95\" y1=\"80\" x2=\"109\" y2=\"94\" />\n",
       "  <line x1=\"95\" y1=\"120\" x2=\"109\" y2=\"134\" style=\"stroke-width:2\" />\n",
       "\n",
       "  <!-- Vertical lines -->\n",
       "  <line x1=\"95\" y1=\"0\" x2=\"95\" y2=\"120\" style=\"stroke-width:2\" />\n",
       "  <line x1=\"102\" y1=\"7\" x2=\"102\" y2=\"127\" />\n",
       "  <line x1=\"109\" y1=\"14\" x2=\"109\" y2=\"134\" style=\"stroke-width:2\" />\n",
       "\n",
       "  <!-- Colored Rectangle -->\n",
       "  <polygon points=\"95.0,0.0 109.9485979497544,14.948597949754403 109.9485979497544,134.9485979497544 95.0,120.0\" style=\"fill:#ECB172A0;stroke-width:0\"/>\n",
       "\n",
       "  <!-- Horizontal lines -->\n",
       "  <line x1=\"95\" y1=\"0\" x2=\"215\" y2=\"0\" style=\"stroke-width:2\" />\n",
       "  <line x1=\"102\" y1=\"7\" x2=\"222\" y2=\"7\" />\n",
       "  <line x1=\"109\" y1=\"14\" x2=\"229\" y2=\"14\" style=\"stroke-width:2\" />\n",
       "\n",
       "  <!-- Vertical lines -->\n",
       "  <line x1=\"95\" y1=\"0\" x2=\"109\" y2=\"14\" style=\"stroke-width:2\" />\n",
       "  <line x1=\"135\" y1=\"0\" x2=\"149\" y2=\"14\" />\n",
       "  <line x1=\"175\" y1=\"0\" x2=\"189\" y2=\"14\" />\n",
       "  <line x1=\"215\" y1=\"0\" x2=\"229\" y2=\"14\" style=\"stroke-width:2\" />\n",
       "\n",
       "  <!-- Colored Rectangle -->\n",
       "  <polygon points=\"95.0,0.0 215.0,0.0 229.9485979497544,14.948597949754403 109.9485979497544,14.948597949754403\" style=\"fill:#ECB172A0;stroke-width:0\"/>\n",
       "\n",
       "  <!-- Horizontal lines -->\n",
       "  <line x1=\"109\" y1=\"14\" x2=\"229\" y2=\"14\" style=\"stroke-width:2\" />\n",
       "  <line x1=\"109\" y1=\"54\" x2=\"229\" y2=\"54\" />\n",
       "  <line x1=\"109\" y1=\"94\" x2=\"229\" y2=\"94\" />\n",
       "  <line x1=\"109\" y1=\"134\" x2=\"229\" y2=\"134\" style=\"stroke-width:2\" />\n",
       "\n",
       "  <!-- Vertical lines -->\n",
       "  <line x1=\"109\" y1=\"14\" x2=\"109\" y2=\"134\" style=\"stroke-width:2\" />\n",
       "  <line x1=\"149\" y1=\"14\" x2=\"149\" y2=\"134\" />\n",
       "  <line x1=\"189\" y1=\"14\" x2=\"189\" y2=\"134\" />\n",
       "  <line x1=\"229\" y1=\"14\" x2=\"229\" y2=\"134\" style=\"stroke-width:2\" />\n",
       "\n",
       "  <!-- Colored Rectangle -->\n",
       "  <polygon points=\"109.9485979497544,14.948597949754403 229.9485979497544,14.948597949754403 229.9485979497544,134.9485979497544 109.9485979497544,134.9485979497544\" style=\"fill:#ECB172A0;stroke-width:0\"/>\n",
       "\n",
       "  <!-- Text -->\n",
       "  <text x=\"169.948598\" y=\"154.948598\" font-size=\"1.0rem\" font-weight=\"100\" text-anchor=\"middle\" >6048</text>\n",
       "  <text x=\"249.948598\" y=\"74.948598\" font-size=\"1.0rem\" font-weight=\"100\" text-anchor=\"middle\" transform=\"rotate(-90,249.948598,74.948598)\">6048</text>\n",
       "  <text x=\"92.474299\" y=\"147.474299\" font-size=\"1.0rem\" font-weight=\"100\" text-anchor=\"middle\" transform=\"rotate(45,92.474299,147.474299)\">2</text>\n",
       "</svg>\n",
       "        </td>\n",
       "    </tr>\n",
       "</table>"
      ],
      "text/plain": [
       "dask.array<astype, shape=(1, 2, 6048, 6048), dtype=uint16, chunksize=(1, 1, 2016, 2016), chunktype=numpy.ndarray>"
      ]
     },
     "execution_count": 93,
     "metadata": {},
     "output_type": "execute_result"
    }
   ],
   "source": [
    "images"
   ]
  },
  {
   "cell_type": "code",
   "execution_count": 94,
   "id": "93e62f8b",
   "metadata": {},
   "outputs": [],
   "source": [
    "images = images.compute().compute()"
   ]
  },
  {
   "cell_type": "code",
   "execution_count": 96,
   "id": "9e369aa2",
   "metadata": {},
   "outputs": [
    {
     "data": {
      "text/plain": [
       "array([[[[   0,    0,    0, ...,    0,    0,    0],\n",
       "         [ 319,  316,  310, ...,  308,  317,    0],\n",
       "         [ 321,  324,  315, ...,  312,  318,    0],\n",
       "         ...,\n",
       "         [1692, 1762, 1880, ..., 1292, 1265,    0],\n",
       "         [1469, 1580, 1799, ..., 1338, 1232,    0],\n",
       "         [1350, 1475, 1667, ..., 1365, 1301,    0]],\n",
       "\n",
       "        [[   0,    0,    0, ...,    0,    0,    0],\n",
       "         [ 313,  303,  304, ...,  296,  301,    0],\n",
       "         [ 314,  316,  309, ...,  317,  311,    0],\n",
       "         ...,\n",
       "         [ 332,  337,  328, ...,  323,  315,    0],\n",
       "         [ 335,  342,  318, ...,  325,  320,    0],\n",
       "         [ 334,  333,  299, ...,  312,  322,    0]]]], dtype=uint16)"
      ]
     },
     "execution_count": 96,
     "metadata": {},
     "output_type": "execute_result"
    }
   ],
   "source": [
    "#sum proj 8bit new method\n",
    "images"
   ]
  },
  {
   "cell_type": "code",
   "execution_count": 62,
   "id": "313e621d",
   "metadata": {},
   "outputs": [
    {
     "data": {
      "text/plain": [
       "array([[[[  0,   0,   0, ...,   0,   0,   0],\n",
       "         [ 20,  20,  19, ...,  19,  20,   0],\n",
       "         [ 21,  21,  20, ...,  21,  21,   0],\n",
       "         ...,\n",
       "         [121, 125, 133, ...,  71,  70,   0],\n",
       "         [105, 112, 127, ...,  74,  68,   0],\n",
       "         [ 97, 105, 118, ...,  75,  71,   0]],\n",
       "\n",
       "        [[  0,   0,   0, ...,   0,   0,   0],\n",
       "         [ 29,  27,  27, ...,  23,  23,   0],\n",
       "         [ 29,  30,  28, ...,  25,  23,   0],\n",
       "         ...,\n",
       "         [ 23,  24,  22, ...,  19,  18,   0],\n",
       "         [ 23,  24,  22, ...,  19,  19,   0],\n",
       "         [ 24,  24,  21, ...,  18,  19,   0]]]], dtype=uint8)"
      ]
     },
     "execution_count": 62,
     "metadata": {},
     "output_type": "execute_result"
    }
   ],
   "source": [
    "#sum proj 8bit old method\n",
    "images"
   ]
  },
  {
   "cell_type": "code",
   "execution_count": 55,
   "id": "249fd91b",
   "metadata": {},
   "outputs": [
    {
     "data": {
      "text/plain": [
       "array([[[[   0,    0,    0, ...,    0,    0,    0],\n",
       "         [ 319,  316,  310, ...,  308,  317,    0],\n",
       "         [ 321,  324,  315, ...,  312,  318,    0],\n",
       "         ...,\n",
       "         [1692, 1762, 1880, ..., 1292, 1265,    0],\n",
       "         [1469, 1580, 1799, ..., 1338, 1232,    0],\n",
       "         [1350, 1475, 1667, ..., 1365, 1301,    0]],\n",
       "\n",
       "        [[   0,    0,    0, ...,    0,    0,    0],\n",
       "         [ 313,  303,  304, ...,  296,  301,    0],\n",
       "         [ 314,  316,  309, ...,  317,  311,    0],\n",
       "         ...,\n",
       "         [ 332,  337,  328, ...,  323,  315,    0],\n",
       "         [ 335,  342,  318, ...,  325,  320,    0],\n",
       "         [ 334,  333,  299, ...,  312,  322,    0]]]], dtype=uint16)"
      ]
     },
     "execution_count": 55,
     "metadata": {},
     "output_type": "execute_result"
    }
   ],
   "source": [
    "images"
   ]
  },
  {
   "cell_type": "code",
   "execution_count": 88,
   "id": "282d36b4",
   "metadata": {},
   "outputs": [
    {
     "name": "stderr",
     "output_type": "stream",
     "text": [
      "/home/dayn/miniconda3/envs/aero/lib/python3.9/site-packages/napari_tools_menu/__init__.py:194: FutureWarning: Public access to Window.qt_viewer is deprecated and will be removed in\n",
      "v0.5.0. It is considered an \"implementation detail\" of the napari\n",
      "application, not part of the napari viewer model. If your use case\n",
      "requires access to qt_viewer, please open an issue to discuss.\n",
      "  self.tools_menu = ToolsMenu(self, self.qt_viewer.viewer)\n"
     ]
    },
    {
     "data": {
      "text/plain": [
       "<Image layer 'images' at 0x7f94fd92b130>"
      ]
     },
     "execution_count": 88,
     "metadata": {},
     "output_type": "execute_result"
    }
   ],
   "source": [
    "napari.Viewer().add_image(images)"
   ]
  },
  {
   "cell_type": "code",
   "execution_count": 83,
   "id": "cd0fe25d",
   "metadata": {},
   "outputs": [
    {
     "data": {
      "text/plain": [
       "array([[  0,   0,   0, ...,   0,   0,   0],\n",
       "       [ 20,  20,  19, ...,  19,  20,   0],\n",
       "       [ 21,  21,  20, ...,  21,  21,   0],\n",
       "       ...,\n",
       "       [121, 125, 133, ...,  71,  70,   0],\n",
       "       [105, 112, 127, ...,  74,  68,   0],\n",
       "       [ 97, 105, 118, ...,  75,  71,   0]], dtype=uint8)"
      ]
     },
     "execution_count": 83,
     "metadata": {},
     "output_type": "execute_result"
    }
   ],
   "source": [
    "(images[0,0,0,...]+images[0,0,1,...]+images[0,0,2,...])"
   ]
  },
  {
   "cell_type": "code",
   "execution_count": 39,
   "id": "7462c488",
   "metadata": {
    "scrolled": true
   },
   "outputs": [
    {
     "data": {
      "text/plain": [
       "array([[[[  0,   0,   0, ...,   0,   0,   0],\n",
       "         [ 20,  20,  19, ...,  19,  20,   0],\n",
       "         [ 21,  21,  20, ...,  21,  21,   0],\n",
       "         ...,\n",
       "         [121, 125, 133, ...,  71,  70,   0],\n",
       "         [105, 112, 127, ...,  74,  68,   0],\n",
       "         [ 97, 105, 118, ...,  75,  71,   0]],\n",
       "\n",
       "        [[  0,   0,   0, ...,   0,   0,   0],\n",
       "         [ 29,  27,  27, ...,  23,  23,   0],\n",
       "         [ 29,  30,  28, ...,  25,  23,   0],\n",
       "         ...,\n",
       "         [ 23,  24,  22, ...,  19,  18,   0],\n",
       "         [ 23,  24,  22, ...,  19,  19,   0],\n",
       "         [ 24,  24,  21, ...,  18,  19,   0]]]], dtype=uint8)"
      ]
     },
     "execution_count": 39,
     "metadata": {},
     "output_type": "execute_result"
    }
   ],
   "source": [
    "np.sum(images, axis=2, dtype='uint8')"
   ]
  },
  {
   "cell_type": "code",
   "execution_count": 42,
   "id": "a06c5e3e",
   "metadata": {},
   "outputs": [
    {
     "data": {
      "text/plain": [
       "array([[[[  0,   0,   0, ...,   0,   0,   0],\n",
       "         [ 20,  20,  19, ...,  19,  20,   0],\n",
       "         [ 21,  21,  20, ...,  21,  21,   0],\n",
       "         ...,\n",
       "         [121, 125, 133, ...,  71,  70,   0],\n",
       "         [105, 112, 127, ...,  74,  68,   0],\n",
       "         [ 97, 105, 118, ...,  75,  71,   0]],\n",
       "\n",
       "        [[  0,   0,   0, ...,   0,   0,   0],\n",
       "         [ 29,  27,  27, ...,  23,  23,   0],\n",
       "         [ 29,  30,  28, ...,  25,  23,   0],\n",
       "         ...,\n",
       "         [ 23,  24,  22, ...,  19,  18,   0],\n",
       "         [ 23,  24,  22, ...,  19,  19,   0],\n",
       "         [ 24,  24,  21, ...,  18,  19,   0]]]], dtype=uint8)"
      ]
     },
     "execution_count": 42,
     "metadata": {},
     "output_type": "execute_result"
    }
   ],
   "source": [
    "np.sum(images, axis=2, dtype='u1')"
   ]
  },
  {
   "cell_type": "code",
   "execution_count": 46,
   "id": "b2e7330e",
   "metadata": {},
   "outputs": [
    {
     "data": {
      "text/plain": [
       "array([[[[  0,   0,   0, ...,   0,   0,   0],\n",
       "         [ 20,  20,  19, ...,  19,  20,   0],\n",
       "         [ 21,  21,  20, ...,  21,  21,   0],\n",
       "         ...,\n",
       "         [121, 125, 133, ...,  71,  70,   0],\n",
       "         [105, 112, 127, ...,  74,  68,   0],\n",
       "         [ 97, 105, 118, ...,  75,  71,   0]],\n",
       "\n",
       "        [[  0,   0,   0, ...,   0,   0,   0],\n",
       "         [ 29,  27,  27, ...,  23,  23,   0],\n",
       "         [ 29,  30,  28, ...,  25,  23,   0],\n",
       "         ...,\n",
       "         [ 23,  24,  22, ...,  19,  18,   0],\n",
       "         [ 23,  24,  22, ...,  19,  19,   0],\n",
       "         [ 24,  24,  21, ...,  18,  19,   0]]]], dtype=uint64)"
      ]
     },
     "execution_count": 46,
     "metadata": {},
     "output_type": "execute_result"
    }
   ],
   "source": [
    "np.sum(images, axis=2,)"
   ]
  },
  {
   "cell_type": "code",
   "execution_count": 38,
   "id": "8a506aca",
   "metadata": {},
   "outputs": [
    {
     "data": {
      "text/plain": [
       "(1, 2, 6048, 6048)"
      ]
     },
     "execution_count": 38,
     "metadata": {},
     "output_type": "execute_result"
    }
   ],
   "source": [
    " np.max(images, axis=2).shape"
   ]
  },
  {
   "cell_type": "code",
   "execution_count": 16,
   "id": "7d09ea81",
   "metadata": {},
   "outputs": [
    {
     "data": {
      "text/plain": [
       "[<Image layer 'macrophage [3]' at 0x7f4a9ceb8be0>,\n",
       " <Image layer 'mtb [3]' at 0x7f4a9d034640>]"
      ]
     },
     "execution_count": 16,
     "metadata": {},
     "output_type": "execute_result"
    }
   ],
   "source": [
    "# viewer = napari.Viewer()\n",
    "viewer.add_image(images, \n",
    "                 channel_axis=1,\n",
    "                 name=[\"macrophage\", \"mtb\"],\n",
    "                 colormap=[\"green\",  \"magenta\"],\n",
    "#                  contrast_limits=[[100, 6000], [100, 2000]],\n",
    "                 contrast_limits=[[0,450], [0,450]], \n",
    "#                  visible = False\n",
    "                 )"
   ]
  },
  {
   "cell_type": "code",
   "execution_count": 9,
   "id": "7c7351f3",
   "metadata": {},
   "outputs": [
    {
     "data": {
      "text/html": [
       "<table>\n",
       "    <tr>\n",
       "        <td>\n",
       "            <table>\n",
       "                <thead>\n",
       "                    <tr>\n",
       "                        <td> </td>\n",
       "                        <th> Array </th>\n",
       "                        <th> Chunk </th>\n",
       "                    </tr>\n",
       "                </thead>\n",
       "                <tbody>\n",
       "                    \n",
       "                    <tr>\n",
       "                        <th> Bytes </th>\n",
       "                        <td> 558.14 MiB </td>\n",
       "                        <td> 31.01 MiB </td>\n",
       "                    </tr>\n",
       "                    \n",
       "                    <tr>\n",
       "                        <th> Shape </th>\n",
       "                        <td> (1, 2, 6048, 6048) </td>\n",
       "                        <td> (1, 1, 2016, 2016) </td>\n",
       "                    </tr>\n",
       "                    <tr>\n",
       "                        <th> Count </th>\n",
       "                        <td> 252 Tasks </td>\n",
       "                        <td> 18 Chunks </td>\n",
       "                    </tr>\n",
       "                    <tr>\n",
       "                    <th> Type </th>\n",
       "                    <td> uint64 </td>\n",
       "                    <td> numpy.ndarray </td>\n",
       "                    </tr>\n",
       "                </tbody>\n",
       "            </table>\n",
       "        </td>\n",
       "        <td>\n",
       "        <svg width=\"374\" height=\"184\" style=\"stroke:rgb(0,0,0);stroke-width:1\" >\n",
       "\n",
       "  <!-- Horizontal lines -->\n",
       "  <line x1=\"0\" y1=\"0\" x2=\"25\" y2=\"0\" style=\"stroke-width:2\" />\n",
       "  <line x1=\"0\" y1=\"25\" x2=\"25\" y2=\"25\" style=\"stroke-width:2\" />\n",
       "\n",
       "  <!-- Vertical lines -->\n",
       "  <line x1=\"0\" y1=\"0\" x2=\"0\" y2=\"25\" style=\"stroke-width:2\" />\n",
       "  <line x1=\"25\" y1=\"0\" x2=\"25\" y2=\"25\" style=\"stroke-width:2\" />\n",
       "\n",
       "  <!-- Colored Rectangle -->\n",
       "  <polygon points=\"0.0,0.0 25.412616514582485,0.0 25.412616514582485,25.412616514582485 0.0,25.412616514582485\" style=\"fill:#ECB172A0;stroke-width:0\"/>\n",
       "\n",
       "  <!-- Text -->\n",
       "  <text x=\"12.706308\" y=\"45.412617\" font-size=\"1.0rem\" font-weight=\"100\" text-anchor=\"middle\" >1</text>\n",
       "  <text x=\"45.412617\" y=\"12.706308\" font-size=\"1.0rem\" font-weight=\"100\" text-anchor=\"middle\" transform=\"rotate(0,45.412617,12.706308)\">1</text>\n",
       "\n",
       "\n",
       "  <!-- Horizontal lines -->\n",
       "  <line x1=\"95\" y1=\"0\" x2=\"109\" y2=\"14\" style=\"stroke-width:2\" />\n",
       "  <line x1=\"95\" y1=\"40\" x2=\"109\" y2=\"54\" />\n",
       "  <line x1=\"95\" y1=\"80\" x2=\"109\" y2=\"94\" />\n",
       "  <line x1=\"95\" y1=\"120\" x2=\"109\" y2=\"134\" style=\"stroke-width:2\" />\n",
       "\n",
       "  <!-- Vertical lines -->\n",
       "  <line x1=\"95\" y1=\"0\" x2=\"95\" y2=\"120\" style=\"stroke-width:2\" />\n",
       "  <line x1=\"102\" y1=\"7\" x2=\"102\" y2=\"127\" />\n",
       "  <line x1=\"109\" y1=\"14\" x2=\"109\" y2=\"134\" style=\"stroke-width:2\" />\n",
       "\n",
       "  <!-- Colored Rectangle -->\n",
       "  <polygon points=\"95.0,0.0 109.9485979497544,14.948597949754403 109.9485979497544,134.9485979497544 95.0,120.0\" style=\"fill:#ECB172A0;stroke-width:0\"/>\n",
       "\n",
       "  <!-- Horizontal lines -->\n",
       "  <line x1=\"95\" y1=\"0\" x2=\"215\" y2=\"0\" style=\"stroke-width:2\" />\n",
       "  <line x1=\"102\" y1=\"7\" x2=\"222\" y2=\"7\" />\n",
       "  <line x1=\"109\" y1=\"14\" x2=\"229\" y2=\"14\" style=\"stroke-width:2\" />\n",
       "\n",
       "  <!-- Vertical lines -->\n",
       "  <line x1=\"95\" y1=\"0\" x2=\"109\" y2=\"14\" style=\"stroke-width:2\" />\n",
       "  <line x1=\"135\" y1=\"0\" x2=\"149\" y2=\"14\" />\n",
       "  <line x1=\"175\" y1=\"0\" x2=\"189\" y2=\"14\" />\n",
       "  <line x1=\"215\" y1=\"0\" x2=\"229\" y2=\"14\" style=\"stroke-width:2\" />\n",
       "\n",
       "  <!-- Colored Rectangle -->\n",
       "  <polygon points=\"95.0,0.0 215.0,0.0 229.9485979497544,14.948597949754403 109.9485979497544,14.948597949754403\" style=\"fill:#ECB172A0;stroke-width:0\"/>\n",
       "\n",
       "  <!-- Horizontal lines -->\n",
       "  <line x1=\"109\" y1=\"14\" x2=\"229\" y2=\"14\" style=\"stroke-width:2\" />\n",
       "  <line x1=\"109\" y1=\"54\" x2=\"229\" y2=\"54\" />\n",
       "  <line x1=\"109\" y1=\"94\" x2=\"229\" y2=\"94\" />\n",
       "  <line x1=\"109\" y1=\"134\" x2=\"229\" y2=\"134\" style=\"stroke-width:2\" />\n",
       "\n",
       "  <!-- Vertical lines -->\n",
       "  <line x1=\"109\" y1=\"14\" x2=\"109\" y2=\"134\" style=\"stroke-width:2\" />\n",
       "  <line x1=\"149\" y1=\"14\" x2=\"149\" y2=\"134\" />\n",
       "  <line x1=\"189\" y1=\"14\" x2=\"189\" y2=\"134\" />\n",
       "  <line x1=\"229\" y1=\"14\" x2=\"229\" y2=\"134\" style=\"stroke-width:2\" />\n",
       "\n",
       "  <!-- Colored Rectangle -->\n",
       "  <polygon points=\"109.9485979497544,14.948597949754403 229.9485979497544,14.948597949754403 229.9485979497544,134.9485979497544 109.9485979497544,134.9485979497544\" style=\"fill:#ECB172A0;stroke-width:0\"/>\n",
       "\n",
       "  <!-- Text -->\n",
       "  <text x=\"169.948598\" y=\"154.948598\" font-size=\"1.0rem\" font-weight=\"100\" text-anchor=\"middle\" >6048</text>\n",
       "  <text x=\"249.948598\" y=\"74.948598\" font-size=\"1.0rem\" font-weight=\"100\" text-anchor=\"middle\" transform=\"rotate(-90,249.948598,74.948598)\">6048</text>\n",
       "  <text x=\"92.474299\" y=\"147.474299\" font-size=\"1.0rem\" font-weight=\"100\" text-anchor=\"middle\" transform=\"rotate(45,92.474299,147.474299)\">2</text>\n",
       "</svg>\n",
       "        </td>\n",
       "    </tr>\n",
       "</table>"
      ],
      "text/plain": [
       "dask.array<sum-aggregate, shape=(1, 2, 6048, 6048), dtype=uint64, chunksize=(1, 1, 2016, 2016), chunktype=numpy.ndarray>"
      ]
     },
     "execution_count": 9,
     "metadata": {},
     "output_type": "execute_result"
    }
   ],
   "source": [
    "images"
   ]
  },
  {
   "cell_type": "code",
   "execution_count": 46,
   "id": "a8bcbbda",
   "metadata": {},
   "outputs": [
    {
     "name": "stdout",
     "output_type": "stream",
     "text": [
      "CPU times: user 2min 16s, sys: 13.2 s, total: 2min 30s\n",
      "Wall time: 7.25 s\n"
     ]
    }
   ],
   "source": [
    "%%time\n",
    "images = images.compute().compute().astype(np.u)"
   ]
  },
  {
   "cell_type": "code",
   "execution_count": 63,
   "id": "cb5d242b",
   "metadata": {},
   "outputs": [
    {
     "data": {
      "text/html": [
       "<table>\n",
       "    <tr>\n",
       "        <td>\n",
       "            <table>\n",
       "                <thead>\n",
       "                    <tr>\n",
       "                        <td> </td>\n",
       "                        <th> Array </th>\n",
       "                        <th> Chunk </th>\n",
       "                    </tr>\n",
       "                </thead>\n",
       "                <tbody>\n",
       "                    \n",
       "                    <tr>\n",
       "                        <th> Bytes </th>\n",
       "                        <td> 69.77 MiB </td>\n",
       "                        <td> 3.88 MiB </td>\n",
       "                    </tr>\n",
       "                    \n",
       "                    <tr>\n",
       "                        <th> Shape </th>\n",
       "                        <td> (1, 2, 6048, 6048) </td>\n",
       "                        <td> (1, 1, 2016, 2016) </td>\n",
       "                    </tr>\n",
       "                    <tr>\n",
       "                        <th> Count </th>\n",
       "                        <td> 270 Tasks </td>\n",
       "                        <td> 18 Chunks </td>\n",
       "                    </tr>\n",
       "                    <tr>\n",
       "                    <th> Type </th>\n",
       "                    <td> uint8 </td>\n",
       "                    <td> numpy.ndarray </td>\n",
       "                    </tr>\n",
       "                </tbody>\n",
       "            </table>\n",
       "        </td>\n",
       "        <td>\n",
       "        <svg width=\"374\" height=\"184\" style=\"stroke:rgb(0,0,0);stroke-width:1\" >\n",
       "\n",
       "  <!-- Horizontal lines -->\n",
       "  <line x1=\"0\" y1=\"0\" x2=\"25\" y2=\"0\" style=\"stroke-width:2\" />\n",
       "  <line x1=\"0\" y1=\"25\" x2=\"25\" y2=\"25\" style=\"stroke-width:2\" />\n",
       "\n",
       "  <!-- Vertical lines -->\n",
       "  <line x1=\"0\" y1=\"0\" x2=\"0\" y2=\"25\" style=\"stroke-width:2\" />\n",
       "  <line x1=\"25\" y1=\"0\" x2=\"25\" y2=\"25\" style=\"stroke-width:2\" />\n",
       "\n",
       "  <!-- Colored Rectangle -->\n",
       "  <polygon points=\"0.0,0.0 25.412616514582485,0.0 25.412616514582485,25.412616514582485 0.0,25.412616514582485\" style=\"fill:#ECB172A0;stroke-width:0\"/>\n",
       "\n",
       "  <!-- Text -->\n",
       "  <text x=\"12.706308\" y=\"45.412617\" font-size=\"1.0rem\" font-weight=\"100\" text-anchor=\"middle\" >1</text>\n",
       "  <text x=\"45.412617\" y=\"12.706308\" font-size=\"1.0rem\" font-weight=\"100\" text-anchor=\"middle\" transform=\"rotate(0,45.412617,12.706308)\">1</text>\n",
       "\n",
       "\n",
       "  <!-- Horizontal lines -->\n",
       "  <line x1=\"95\" y1=\"0\" x2=\"109\" y2=\"14\" style=\"stroke-width:2\" />\n",
       "  <line x1=\"95\" y1=\"40\" x2=\"109\" y2=\"54\" />\n",
       "  <line x1=\"95\" y1=\"80\" x2=\"109\" y2=\"94\" />\n",
       "  <line x1=\"95\" y1=\"120\" x2=\"109\" y2=\"134\" style=\"stroke-width:2\" />\n",
       "\n",
       "  <!-- Vertical lines -->\n",
       "  <line x1=\"95\" y1=\"0\" x2=\"95\" y2=\"120\" style=\"stroke-width:2\" />\n",
       "  <line x1=\"102\" y1=\"7\" x2=\"102\" y2=\"127\" />\n",
       "  <line x1=\"109\" y1=\"14\" x2=\"109\" y2=\"134\" style=\"stroke-width:2\" />\n",
       "\n",
       "  <!-- Colored Rectangle -->\n",
       "  <polygon points=\"95.0,0.0 109.9485979497544,14.948597949754403 109.9485979497544,134.9485979497544 95.0,120.0\" style=\"fill:#ECB172A0;stroke-width:0\"/>\n",
       "\n",
       "  <!-- Horizontal lines -->\n",
       "  <line x1=\"95\" y1=\"0\" x2=\"215\" y2=\"0\" style=\"stroke-width:2\" />\n",
       "  <line x1=\"102\" y1=\"7\" x2=\"222\" y2=\"7\" />\n",
       "  <line x1=\"109\" y1=\"14\" x2=\"229\" y2=\"14\" style=\"stroke-width:2\" />\n",
       "\n",
       "  <!-- Vertical lines -->\n",
       "  <line x1=\"95\" y1=\"0\" x2=\"109\" y2=\"14\" style=\"stroke-width:2\" />\n",
       "  <line x1=\"135\" y1=\"0\" x2=\"149\" y2=\"14\" />\n",
       "  <line x1=\"175\" y1=\"0\" x2=\"189\" y2=\"14\" />\n",
       "  <line x1=\"215\" y1=\"0\" x2=\"229\" y2=\"14\" style=\"stroke-width:2\" />\n",
       "\n",
       "  <!-- Colored Rectangle -->\n",
       "  <polygon points=\"95.0,0.0 215.0,0.0 229.9485979497544,14.948597949754403 109.9485979497544,14.948597949754403\" style=\"fill:#ECB172A0;stroke-width:0\"/>\n",
       "\n",
       "  <!-- Horizontal lines -->\n",
       "  <line x1=\"109\" y1=\"14\" x2=\"229\" y2=\"14\" style=\"stroke-width:2\" />\n",
       "  <line x1=\"109\" y1=\"54\" x2=\"229\" y2=\"54\" />\n",
       "  <line x1=\"109\" y1=\"94\" x2=\"229\" y2=\"94\" />\n",
       "  <line x1=\"109\" y1=\"134\" x2=\"229\" y2=\"134\" style=\"stroke-width:2\" />\n",
       "\n",
       "  <!-- Vertical lines -->\n",
       "  <line x1=\"109\" y1=\"14\" x2=\"109\" y2=\"134\" style=\"stroke-width:2\" />\n",
       "  <line x1=\"149\" y1=\"14\" x2=\"149\" y2=\"134\" />\n",
       "  <line x1=\"189\" y1=\"14\" x2=\"189\" y2=\"134\" />\n",
       "  <line x1=\"229\" y1=\"14\" x2=\"229\" y2=\"134\" style=\"stroke-width:2\" />\n",
       "\n",
       "  <!-- Colored Rectangle -->\n",
       "  <polygon points=\"109.9485979497544,14.948597949754403 229.9485979497544,14.948597949754403 229.9485979497544,134.9485979497544 109.9485979497544,134.9485979497544\" style=\"fill:#ECB172A0;stroke-width:0\"/>\n",
       "\n",
       "  <!-- Text -->\n",
       "  <text x=\"169.948598\" y=\"154.948598\" font-size=\"1.0rem\" font-weight=\"100\" text-anchor=\"middle\" >6048</text>\n",
       "  <text x=\"249.948598\" y=\"74.948598\" font-size=\"1.0rem\" font-weight=\"100\" text-anchor=\"middle\" transform=\"rotate(-90,249.948598,74.948598)\">6048</text>\n",
       "  <text x=\"92.474299\" y=\"147.474299\" font-size=\"1.0rem\" font-weight=\"100\" text-anchor=\"middle\" transform=\"rotate(45,92.474299,147.474299)\">2</text>\n",
       "</svg>\n",
       "        </td>\n",
       "    </tr>\n",
       "</table>"
      ],
      "text/plain": [
       "dask.array<astype, shape=(1, 2, 6048, 6048), dtype=uint8, chunksize=(1, 1, 2016, 2016), chunktype=numpy.ndarray>"
      ]
     },
     "execution_count": 63,
     "metadata": {},
     "output_type": "execute_result"
    }
   ],
   "source": [
    "images"
   ]
  },
  {
   "cell_type": "code",
   "execution_count": 47,
   "id": "177b6605",
   "metadata": {},
   "outputs": [
    {
     "data": {
      "text/plain": [
       "(1, 2, 6048, 6048)"
      ]
     },
     "execution_count": 47,
     "metadata": {},
     "output_type": "execute_result"
    }
   ],
   "source": [
    "images.shape"
   ]
  },
  {
   "cell_type": "code",
   "execution_count": 64,
   "id": "a4afc5f3",
   "metadata": {},
   "outputs": [],
   "source": [
    "gfp = images[:,0,...]"
   ]
  },
  {
   "cell_type": "code",
   "execution_count": 65,
   "id": "f8e567d3",
   "metadata": {},
   "outputs": [
    {
     "data": {
      "text/html": [
       "<table>\n",
       "    <tr>\n",
       "        <td>\n",
       "            <table>\n",
       "                <thead>\n",
       "                    <tr>\n",
       "                        <td> </td>\n",
       "                        <th> Array </th>\n",
       "                        <th> Chunk </th>\n",
       "                    </tr>\n",
       "                </thead>\n",
       "                <tbody>\n",
       "                    \n",
       "                    <tr>\n",
       "                        <th> Bytes </th>\n",
       "                        <td> 34.88 MiB </td>\n",
       "                        <td> 3.88 MiB </td>\n",
       "                    </tr>\n",
       "                    \n",
       "                    <tr>\n",
       "                        <th> Shape </th>\n",
       "                        <td> (1, 6048, 6048) </td>\n",
       "                        <td> (1, 2016, 2016) </td>\n",
       "                    </tr>\n",
       "                    <tr>\n",
       "                        <th> Count </th>\n",
       "                        <td> 279 Tasks </td>\n",
       "                        <td> 9 Chunks </td>\n",
       "                    </tr>\n",
       "                    <tr>\n",
       "                    <th> Type </th>\n",
       "                    <td> uint8 </td>\n",
       "                    <td> numpy.ndarray </td>\n",
       "                    </tr>\n",
       "                </tbody>\n",
       "            </table>\n",
       "        </td>\n",
       "        <td>\n",
       "        <svg width=\"194\" height=\"184\" style=\"stroke:rgb(0,0,0);stroke-width:1\" >\n",
       "\n",
       "  <!-- Horizontal lines -->\n",
       "  <line x1=\"10\" y1=\"0\" x2=\"24\" y2=\"14\" style=\"stroke-width:2\" />\n",
       "  <line x1=\"10\" y1=\"40\" x2=\"24\" y2=\"54\" />\n",
       "  <line x1=\"10\" y1=\"80\" x2=\"24\" y2=\"94\" />\n",
       "  <line x1=\"10\" y1=\"120\" x2=\"24\" y2=\"134\" style=\"stroke-width:2\" />\n",
       "\n",
       "  <!-- Vertical lines -->\n",
       "  <line x1=\"10\" y1=\"0\" x2=\"10\" y2=\"120\" style=\"stroke-width:2\" />\n",
       "  <line x1=\"24\" y1=\"14\" x2=\"24\" y2=\"134\" style=\"stroke-width:2\" />\n",
       "\n",
       "  <!-- Colored Rectangle -->\n",
       "  <polygon points=\"10.0,0.0 24.9485979497544,14.948597949754403 24.9485979497544,134.9485979497544 10.0,120.0\" style=\"fill:#ECB172A0;stroke-width:0\"/>\n",
       "\n",
       "  <!-- Horizontal lines -->\n",
       "  <line x1=\"10\" y1=\"0\" x2=\"130\" y2=\"0\" style=\"stroke-width:2\" />\n",
       "  <line x1=\"24\" y1=\"14\" x2=\"144\" y2=\"14\" style=\"stroke-width:2\" />\n",
       "\n",
       "  <!-- Vertical lines -->\n",
       "  <line x1=\"10\" y1=\"0\" x2=\"24\" y2=\"14\" style=\"stroke-width:2\" />\n",
       "  <line x1=\"50\" y1=\"0\" x2=\"64\" y2=\"14\" />\n",
       "  <line x1=\"90\" y1=\"0\" x2=\"104\" y2=\"14\" />\n",
       "  <line x1=\"130\" y1=\"0\" x2=\"144\" y2=\"14\" style=\"stroke-width:2\" />\n",
       "\n",
       "  <!-- Colored Rectangle -->\n",
       "  <polygon points=\"10.0,0.0 130.0,0.0 144.9485979497544,14.948597949754403 24.9485979497544,14.948597949754403\" style=\"fill:#ECB172A0;stroke-width:0\"/>\n",
       "\n",
       "  <!-- Horizontal lines -->\n",
       "  <line x1=\"24\" y1=\"14\" x2=\"144\" y2=\"14\" style=\"stroke-width:2\" />\n",
       "  <line x1=\"24\" y1=\"54\" x2=\"144\" y2=\"54\" />\n",
       "  <line x1=\"24\" y1=\"94\" x2=\"144\" y2=\"94\" />\n",
       "  <line x1=\"24\" y1=\"134\" x2=\"144\" y2=\"134\" style=\"stroke-width:2\" />\n",
       "\n",
       "  <!-- Vertical lines -->\n",
       "  <line x1=\"24\" y1=\"14\" x2=\"24\" y2=\"134\" style=\"stroke-width:2\" />\n",
       "  <line x1=\"64\" y1=\"14\" x2=\"64\" y2=\"134\" />\n",
       "  <line x1=\"104\" y1=\"14\" x2=\"104\" y2=\"134\" />\n",
       "  <line x1=\"144\" y1=\"14\" x2=\"144\" y2=\"134\" style=\"stroke-width:2\" />\n",
       "\n",
       "  <!-- Colored Rectangle -->\n",
       "  <polygon points=\"24.9485979497544,14.948597949754403 144.9485979497544,14.948597949754403 144.9485979497544,134.9485979497544 24.9485979497544,134.9485979497544\" style=\"fill:#ECB172A0;stroke-width:0\"/>\n",
       "\n",
       "  <!-- Text -->\n",
       "  <text x=\"84.948598\" y=\"154.948598\" font-size=\"1.0rem\" font-weight=\"100\" text-anchor=\"middle\" >6048</text>\n",
       "  <text x=\"164.948598\" y=\"74.948598\" font-size=\"1.0rem\" font-weight=\"100\" text-anchor=\"middle\" transform=\"rotate(-90,164.948598,74.948598)\">6048</text>\n",
       "  <text x=\"7.474299\" y=\"147.474299\" font-size=\"1.0rem\" font-weight=\"100\" text-anchor=\"middle\" transform=\"rotate(45,7.474299,147.474299)\">1</text>\n",
       "</svg>\n",
       "        </td>\n",
       "    </tr>\n",
       "</table>"
      ],
      "text/plain": [
       "dask.array<getitem, shape=(1, 6048, 6048), dtype=uint8, chunksize=(1, 2016, 2016), chunktype=numpy.ndarray>"
      ]
     },
     "execution_count": 65,
     "metadata": {},
     "output_type": "execute_result"
    }
   ],
   "source": [
    "gfp"
   ]
  },
  {
   "cell_type": "code",
   "execution_count": 71,
   "id": "ddd91929",
   "metadata": {},
   "outputs": [],
   "source": [
    "rfp = images[:,1,...]"
   ]
  },
  {
   "cell_type": "markdown",
   "id": "a12c9446",
   "metadata": {},
   "source": [
    "# Load tracks"
   ]
  },
  {
   "cell_type": "code",
   "execution_count": 5,
   "id": "42d4db6e",
   "metadata": {},
   "outputs": [
    {
     "name": "stderr",
     "output_type": "stream",
     "text": [
      "[INFO][2023/05/17 12:59:08 PM] Opening HDF file: /mnt/DATA/macrohet/labels/macrohet_seg_model/(3, 5).h5...\n",
      "[INFO][2023/05/17 12:59:08 PM] Loading tracks/obj_type_1\n",
      "[INFO][2023/05/17 12:59:08 PM] Loading LBEP/obj_type_1\n",
      "[INFO][2023/05/17 12:59:08 PM] Loading objects/obj_type_1 (41868, 5) (41868 filtered: None)\n",
      "[INFO][2023/05/17 12:59:22 PM] Loading segmentation (75, 6048, 6048)\n",
      "[INFO][2023/05/17 12:59:22 PM] Loading objects/obj_type_1 (41868, 5) (41868 filtered: None)\n",
      "[INFO][2023/05/17 12:59:22 PM] Closing HDF file: /mnt/DATA/macrohet/labels/macrohet_seg_model/(3, 5).h5\n"
     ]
    }
   ],
   "source": [
    "tracks_fn = os.path.join(base_dir, f'labels/macrohet_seg_model/{row, column}.h5')\n",
    "with btrack.io.HDF5FileHandler(tracks_fn, 'r') as hdf:\n",
    "    tracks = hdf.tracks\n",
    "    segmentation = hdf.segmentation\n",
    "    objects = hdf.objects\n",
    "napari_tracks, properties, graph = btrack.utils.tracks_to_napari(tracks, ndim=2)"
   ]
  },
  {
   "cell_type": "code",
   "execution_count": 6,
   "id": "f8e25cc3",
   "metadata": {},
   "outputs": [
    {
     "data": {
      "text/plain": [
       "(75, 6048, 6048)"
      ]
     },
     "execution_count": 6,
     "metadata": {},
     "output_type": "execute_result"
    }
   ],
   "source": [
    "segmentation.shape"
   ]
  },
  {
   "cell_type": "code",
   "execution_count": 7,
   "id": "db59854d",
   "metadata": {},
   "outputs": [],
   "source": [
    "masks = segmentation[0]"
   ]
  },
  {
   "cell_type": "markdown",
   "id": "7be84171",
   "metadata": {},
   "source": [
    "# Make a corpus of glimpses\n",
    "\n",
    "Need to couple an object (ie a track at t) to the segmentation... the question is, how to store that glimpse info? If I store a glimpse within an object item then it keeps the other info too..."
   ]
  },
  {
   "cell_type": "code",
   "execution_count": 8,
   "id": "9e3e293f",
   "metadata": {},
   "outputs": [],
   "source": [
    "scale_factor = 5.04"
   ]
  },
  {
   "cell_type": "code",
   "execution_count": 9,
   "id": "31b94682",
   "metadata": {},
   "outputs": [],
   "source": [
    "objects_t0 = [o for o in objects if o.t ==0]"
   ]
  },
  {
   "cell_type": "code",
   "execution_count": 11,
   "id": "9d37e609",
   "metadata": {},
   "outputs": [
    {
     "data": {
      "text/plain": [
       "640"
      ]
     },
     "execution_count": 11,
     "metadata": {},
     "output_type": "execute_result"
    }
   ],
   "source": [
    "len(objects_t0)"
   ]
  },
  {
   "cell_type": "markdown",
   "id": "0771b4f7",
   "metadata": {},
   "source": [
    "### Generating an actual corpus"
   ]
  },
  {
   "cell_type": "code",
   "execution_count": 15,
   "id": "016b57c1",
   "metadata": {},
   "outputs": [],
   "source": [
    "obj = objects_t0[0]"
   ]
  },
  {
   "cell_type": "code",
   "execution_count": 16,
   "id": "ab672923",
   "metadata": {},
   "outputs": [
    {
     "data": {
      "text/html": [
       "<table border=\"1\" class=\"dataframe\">\n",
       "  <thead>\n",
       "    <tr style=\"text-align: right;\">\n",
       "      <th></th>\n",
       "      <th>ID</th>\n",
       "      <th>x</th>\n",
       "      <th>y</th>\n",
       "      <th>z</th>\n",
       "      <th>t</th>\n",
       "      <th>dummy</th>\n",
       "      <th>states</th>\n",
       "      <th>label</th>\n",
       "      <th>minor_axis_length</th>\n",
       "      <th>mean_intensity</th>\n",
       "      <th>area</th>\n",
       "      <th>Infected</th>\n",
       "      <th>orientation</th>\n",
       "      <th>major_axis_length</th>\n",
       "    </tr>\n",
       "  </thead>\n",
       "  <tbody>\n",
       "    <tr>\n",
       "      <th>0</th>\n",
       "      <td>0</td>\n",
       "      <td>743.478333</td>\n",
       "      <td>86.112717</td>\n",
       "      <td>0.0</td>\n",
       "      <td>0</td>\n",
       "      <td>False</td>\n",
       "      <td>7</td>\n",
       "      <td>5</td>\n",
       "      <td>79.861702</td>\n",
       "      <td>(3,) array</td>\n",
       "      <td>6685.0</td>\n",
       "      <td>1.0</td>\n",
       "      <td>0.524175</td>\n",
       "      <td>107.259262</td>\n",
       "    </tr>\n",
       "  </tbody>\n",
       "</table>"
      ],
      "text/plain": [
       "{'ID': 0, 'x': 743.4783325195312, 'y': 86.11271667480469, 'z': 0.0, 't': 0, 'dummy': False, 'states': 7, 'label': 5, 'minor_axis_length': 79.8617, 'mean_intensity': array([3.4828989e+03, 4.0428018e+02, 7.0007481e-02], dtype=float32), 'area': 6685.0, 'Infected': 1.0, 'orientation': 0.5241751, 'major_axis_length': 107.25926}"
      ]
     },
     "execution_count": 16,
     "metadata": {},
     "output_type": "execute_result"
    }
   ],
   "source": [
    "obj"
   ]
  },
  {
   "cell_type": "code",
   "execution_count": 17,
   "id": "01fcc429",
   "metadata": {},
   "outputs": [],
   "source": [
    "import sys"
   ]
  },
  {
   "cell_type": "code",
   "execution_count": null,
   "id": "36ba95d8",
   "metadata": {},
   "outputs": [],
   "source": [
    "miport"
   ]
  },
  {
   "cell_type": "code",
   "execution_count": 18,
   "id": "468ac75a",
   "metadata": {},
   "outputs": [
    {
     "data": {
      "text/plain": [
       "128"
      ]
     },
     "execution_count": 18,
     "metadata": {},
     "output_type": "execute_result"
    }
   ],
   "source": [
    "sys.getsizeof(obj)"
   ]
  },
  {
   "cell_type": "code",
   "execution_count": 40,
   "id": "39829c6f",
   "metadata": {},
   "outputs": [
    {
     "data": {
      "text/plain": [
       "array([[  0,   0,   0, ...,   0,   0,   0],\n",
       "       [ 20,  20,  19, ...,  19,  20,   0],\n",
       "       [ 21,  21,  20, ...,  21,  21,   0],\n",
       "       ...,\n",
       "       [121, 125, 133, ...,  71,  70,   0],\n",
       "       [105, 112, 127, ...,  74,  68,   0],\n",
       "       [ 97, 105, 118, ...,  75,  71,   0]], dtype=uint64)"
      ]
     },
     "execution_count": 40,
     "metadata": {},
     "output_type": "execute_result"
    }
   ],
   "source": [
    "gfp"
   ]
  },
  {
   "cell_type": "code",
   "execution_count": 37,
   "id": "e75d913c",
   "metadata": {},
   "outputs": [
    {
     "data": {
      "application/vnd.jupyter.widget-view+json": {
       "model_id": "eabef0032cbe496593c0400058cdc874",
       "version_major": 2,
       "version_minor": 0
      },
      "text/plain": [
       "  0%|          | 0/640 [00:00<?, ?it/s]"
      ]
     },
     "metadata": {},
     "output_type": "display_data"
    }
   ],
   "source": [
    "t = 0\n",
    "masks = segmentation[t]\n",
    "gfp = images[t,0,...].compute().compute()\n",
    "rfp = images[t,1,...].compute().compute()\n",
    "for obj in tqdm(objects_t0):\n",
    "    coords = int(obj.y*scale_factor), int(obj.x*scale_factor)\n",
    "    t = obj.t\n",
    "#     masks = segmentation[t]\n",
    "#     gfp = images[t,0,...].compute().compute()\n",
    "#     rfp = images[t,1,...].compute().compute()\n",
    "    segment_ID = masks[coords]\n",
    "#     obj.properties['mask'] = masks == [segment_ID]\n",
    "    segment = masks == [segment_ID]\n",
    "    gfp_glimpse = segment * gfp\n",
    "    obj.properties['gfp_glimpse'] = ((masks == [segment_ID])*gfp).astype(np.uint16)\n",
    "#     obj.properties['rfp_glimpse'] = (obj.properties['mask']*rfp > 480).astype(np.uint16)\n",
    "    break"
   ]
  },
  {
   "cell_type": "code",
   "execution_count": null,
   "id": "6e6aeed1",
   "metadata": {},
   "outputs": [],
   "source": [
    "75*500"
   ]
  },
  {
   "cell_type": "code",
   "execution_count": 32,
   "id": "b2407340",
   "metadata": {},
   "outputs": [
    {
     "data": {
      "text/plain": [
       "128"
      ]
     },
     "execution_count": 32,
     "metadata": {},
     "output_type": "execute_result"
    }
   ],
   "source": [
    "sys.getsizeof(obj)"
   ]
  },
  {
   "cell_type": "code",
   "execution_count": 39,
   "id": "9e32beb1",
   "metadata": {},
   "outputs": [
    {
     "data": {
      "text/plain": [
       "69.7677001953125"
      ]
     },
     "execution_count": 39,
     "metadata": {},
     "output_type": "execute_result"
    }
   ],
   "source": [
    "sys.getsizeof(obj.properties['gfp_glimpse'])/(1024 * 1024)"
   ]
  },
  {
   "cell_type": "code",
   "execution_count": 33,
   "id": "38365dc8",
   "metadata": {},
   "outputs": [
    {
     "data": {
      "text/plain": [
       "69.7677001953125"
      ]
     },
     "execution_count": 33,
     "metadata": {},
     "output_type": "execute_result"
    }
   ],
   "source": [
    "sys.getsizeof(obj.properties['gfp_glimpse'])/(1024 * 1024)"
   ]
  },
  {
   "cell_type": "code",
   "execution_count": 29,
   "id": "7df47b06",
   "metadata": {},
   "outputs": [
    {
     "data": {
      "text/plain": [
       "34.8839111328125"
      ]
     },
     "execution_count": 29,
     "metadata": {},
     "output_type": "execute_result"
    }
   ],
   "source": [
    "sys.getsizeof(obj.properties['gfp_glimpse'])/(1024 * 1024)"
   ]
  },
  {
   "cell_type": "code",
   "execution_count": 24,
   "id": "bfcd12b1",
   "metadata": {},
   "outputs": [
    {
     "data": {
      "text/plain": [
       "279.0704345703125"
      ]
     },
     "execution_count": 24,
     "metadata": {},
     "output_type": "execute_result"
    }
   ],
   "source": [
    "sys.getsizeof(obj.properties['gfp_glimpse'])/(1024 * 1024)"
   ]
  },
  {
   "cell_type": "code",
   "execution_count": 66,
   "id": "b758ca41",
   "metadata": {},
   "outputs": [
    {
     "name": "stderr",
     "output_type": "stream",
     "text": [
      "/home/dayn/miniconda3/envs/aero/lib/python3.9/site-packages/napari_tools_menu/__init__.py:194: FutureWarning: Public access to Window.qt_viewer is deprecated and will be removed in\n",
      "v0.5.0. It is considered an \"implementation detail\" of the napari\n",
      "application, not part of the napari viewer model. If your use case\n",
      "requires access to qt_viewer, please open an issue to discuss.\n",
      "  self.tools_menu = ToolsMenu(self, self.qt_viewer.viewer)\n"
     ]
    },
    {
     "data": {
      "text/plain": [
       "<Image layer 'rfp' at 0x7f834ccf4340>"
      ]
     },
     "execution_count": 66,
     "metadata": {},
     "output_type": "execute_result"
    }
   ],
   "source": [
    "v = napari.Viewer()\n",
    "v.add_image(obj.properties['gfp_glimpse'])\n",
    "v.add_image(obj.properties['rfp_glimpse'])\n",
    "v.add_image(gfp)\n",
    "v.add_image(rfp)"
   ]
  },
  {
   "cell_type": "markdown",
   "id": "f3ac80e0",
   "metadata": {},
   "source": [
    "### Rename properties? Add mask ID as property?\n",
    "\n",
    "Issue is that once delted from placeholder it is removed from the original objects list"
   ]
  },
  {
   "cell_type": "code",
   "execution_count": 18,
   "id": "0efe2f02",
   "metadata": {},
   "outputs": [],
   "source": [
    "# define features to use for tracking \n",
    "features = [\n",
    "  \"area\",\n",
    "  \"major_axis_length\",\n",
    "  \"minor_axis_length\",\n",
    "  \"orientation\",\n",
    "  \"mean_intensity\",\n",
    "  \"intensity_image\"\n",
    "    ]\n",
    "def localise(masks, intensity_image, properties=tuple(features), use_weighted_centroid = False):\n",
    "    \n",
    "    # localise objs in images\n",
    "    objects = btrack.utils.segmentation_to_objects(segmentation=masks,\n",
    "                                                   intensity_image=intensity_image, \n",
    "                                                   properties=properties,\n",
    "                                                   scale=(scale_factor,scale_factor),\n",
    "                                                   use_weighted_centroid=use_weighted_centroid, \n",
    "                                                   )\n",
    "                                                   \n",
    "    return objects\n"
   ]
  },
  {
   "cell_type": "code",
   "execution_count": 33,
   "id": "4e77b551",
   "metadata": {},
   "outputs": [
    {
     "data": {
      "text/plain": [
       "925.25555"
      ]
     },
     "execution_count": 33,
     "metadata": {},
     "output_type": "execute_result"
    }
   ],
   "source": [
    "# create pseduo mean intensity with third channel as mask channel\n",
    "obj1.properties['mean_intensity']"
   ]
  },
  {
   "cell_type": "code",
   "execution_count": 28,
   "id": "43988586",
   "metadata": {},
   "outputs": [
    {
     "data": {
      "text/plain": [
       "{'minor_axis_length': 81.01919,\n",
       " 'area': 20624.0,\n",
       " 'mean_intensity': 925.25555,\n",
       " 'orientation': -0.10882337,\n",
       " 'major_axis_length': 334.28482}"
      ]
     },
     "execution_count": 28,
     "metadata": {},
     "output_type": "execute_result"
    }
   ],
   "source": [
    "obj1.properties"
   ]
  },
  {
   "cell_type": "code",
   "execution_count": 25,
   "id": "0c23023b",
   "metadata": {},
   "outputs": [],
   "source": [
    "obj1.properties['mask_ID'] = obj1.properties['mean_intensity'][-1]\n",
    "obj1.properties['mean_intensity'] = obj1.properties['mean_intensity'][0:2]"
   ]
  },
  {
   "cell_type": "code",
   "execution_count": 26,
   "id": "1b6c6497",
   "metadata": {},
   "outputs": [
    {
     "data": {
      "text/plain": [
       "925.25555"
      ]
     },
     "execution_count": 26,
     "metadata": {},
     "output_type": "execute_result"
    }
   ],
   "source": [
    "obj1.properties['mean_intensity']"
   ]
  },
  {
   "cell_type": "markdown",
   "id": "52971987",
   "metadata": {},
   "source": [
    "# Launch napari image viewer"
   ]
  },
  {
   "cell_type": "code",
   "execution_count": 52,
   "id": "6818a45d",
   "metadata": {
    "scrolled": false
   },
   "outputs": [
    {
     "name": "stderr",
     "output_type": "stream",
     "text": [
      "/home/dayn/analysis/btrack/btrack/dataio.py:3: UserWarning: `btrack.dataio` has been deprecated. Please use `btrack.io` subpackage instead.\n",
      "  warnings.warn(  # noqa: B028\n"
     ]
    },
    {
     "name": "stdout",
     "output_type": "stream",
     "text": [
      "Assistant skips harvesting pyclesperanto as it's not installed.\n"
     ]
    },
    {
     "name": "stderr",
     "output_type": "stream",
     "text": [
      "/home/dayn/miniconda3/envs/aero/lib/python3.9/site-packages/napari_tools_menu/__init__.py:194: FutureWarning: Public access to Window.qt_viewer is deprecated and will be removed in\n",
      "v0.5.0. It is considered an \"implementation detail\" of the napari\n",
      "application, not part of the napari viewer model. If your use case\n",
      "requires access to qt_viewer, please open an issue to discuss.\n",
      "  self.tools_menu = ToolsMenu(self, self.qt_viewer.viewer)\n"
     ]
    },
    {
     "data": {
      "text/plain": [
       "<Labels layer 'new segmentation' at 0x7fb326c0a0d0>"
      ]
     },
     "execution_count": 52,
     "metadata": {},
     "output_type": "execute_result"
    }
   ],
   "source": [
    "viewer = napari.Viewer()\n",
    "\n",
    "viewer.add_image(images, \n",
    "                 channel_axis=1,\n",
    "                 name=[\"macrophage\", \"mtb\"],\n",
    "                 colormap=[\"green\",  \"magenta\"],\n",
    "#                  contrast_limits=[[100, 6000], [100, 2000]],\n",
    "                 contrast_limits=[[0,450], [0,450]], \n",
    "                 visible = False\n",
    "                 )\n",
    "viewer.add_labels(masks, \n",
    "#                   num_colors= 1,\n",
    "                  #scale=(10, 1, 1,), \n",
    "                  #color='yellow'\n",
    "                  name = 'new segmentation'\n",
    "                 )\n",
    "# viewer.add_labels(col_segmentation, \n",
    "#                   name = 'recolored new segmentation'\n",
    "#                   #scale=(10, 1, 1,), \n",
    "#                   #color='yellow'\n",
    "#                  )\n",
    "# viewer.add_tracks(napari_tracks,\n",
    "# #                     properties=properties, \n",
    "# #                     graph=graph, \n",
    "#                     name=\"New model tracks\", \n",
    "#                     blending=\"translucent\",\n",
    "#                     visible=True,\n",
    "#                     scale = (1,5.04,5.04)\n",
    "#                  )\n",
    "# viewer.add_tracks(filtered_napari_tracks,\n",
    "# #                     properties=properties, \n",
    "# #                     graph=graph, \n",
    "#                     name=\"New model tracks\", \n",
    "#                     blending=\"translucent\",\n",
    "#                     visible=True,\n",
    "#                     scale = (1,5.04,5.04)\n",
    "#                  )\n",
    "# viewer.add_tracks(ds_napari_tracks,\n",
    "# #                     properties=properties, \n",
    "# #                     graph=graph, \n",
    "#                     name=\"downscaled tracks\", \n",
    "#                     blending=\"translucent\",\n",
    "#                     visible=True,\n",
    "# #                     scale = (1,1,1)\n",
    "#                 )\n",
    "# viewer.add_labels(ds_segmentation, \n",
    "#                  name = 'downscaled segmentation')\n",
    "\n",
    "# viewer.add_labels(ds_col_segmentation, \n",
    "#                   name = 'downscaled coloured segmentation',\n",
    "#                   scale=(1, 1, 1,), \n",
    "# #                   color={1:'yellow'}\n",
    "#                  )\n"
   ]
  }
 ],
 "metadata": {
  "kernelspec": {
   "display_name": "aero",
   "language": "python",
   "name": "aero"
  },
  "language_info": {
   "codemirror_mode": {
    "name": "ipython",
    "version": 3
   },
   "file_extension": ".py",
   "mimetype": "text/x-python",
   "name": "python",
   "nbconvert_exporter": "python",
   "pygments_lexer": "ipython3",
   "version": "3.9.12"
  }
 },
 "nbformat": 4,
 "nbformat_minor": 5
}
