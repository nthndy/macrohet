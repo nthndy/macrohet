{
 "cells": [
  {
   "cell_type": "markdown",
   "id": "d2e295e0",
   "metadata": {},
   "source": [
    "# A notebook for creating sc graph animations with glimpses"
   ]
  },
  {
   "cell_type": "code",
   "execution_count": 9,
   "id": "7975a2f4",
   "metadata": {},
   "outputs": [
    {
     "name": "stderr",
     "output_type": "stream",
     "text": [
      "/tmp/ipykernel_330135/948269833.py:20: DeprecationWarning: Please use `gaussian_filter1d` from the `scipy.ndimage` namespace, the `scipy.ndimage.filters` namespace is deprecated.\n",
      "  from scipy.ndimage.filters import gaussian_filter1d\n"
     ]
    }
   ],
   "source": [
    "import napari\n",
    "from cellpose import models\n",
    "from octopuslite import utils, tile\n",
    "import numpy as np\n",
    "import os\n",
    "\n",
    "def view(img):\n",
    "    return napari.Viewer().add_image(img)\n",
    "\n",
    "from napari_animation import Animation\n",
    "from tqdm.auto import tqdm\n",
    "\n",
    "import btrack\n",
    "import dask.array as da\n",
    "\n",
    "from pathlib import Path\n",
    "import cv2\n",
    "\n",
    "from skimage.transform import rescale, resize, downscale_local_mean\n",
    "from skimage.io import imsave, imread\n",
    "from scipy.ndimage.filters import gaussian_filter1d\n",
    "y = gaussian_filter1d(sc_df['Intracellular Mtb content'].interpolate().values, \n",
    "                      sigma = 1.5)\n",
    "\n",
    "import pandas as pd\n",
    "import seaborn as sns\n",
    "import matplotlib.pyplot as plt\n",
    "sns.set_theme(style=\"ticks\")\n",
    "sns.set_palette(\"rocket_r\")\n",
    "\n",
    "def msd_calc(x1, y1, x2, y2):\n",
    "    \"\"\"\n",
    "    Displacement calculation for cell movement between frames\n",
    "    \"\"\"\n",
    "    return np.sqrt((x1-x2)**2+(y1-y2)**2)\n",
    "\n",
    "def update_slider(event):\n",
    "    # only trigger if update comes from first axis (optional)\n",
    "        #ind_lambda = viewer.dims.indices[0]\n",
    "    time = viewer.dims.current_step[0]\n",
    "    viewer.text_overlay.text = f\"{time:1.1f} hours\"\n",
    "text_size = 24\n",
    "napari_scale = [1.4949402023919043e-07, 1.4949402023919043e-07]\n",
    "\n",
    "import glob\n",
    "from natsort import natsorted\n",
    "\n",
    "label_text_size = 15\n",
    "### glimpse size\n",
    "size = 500\n",
    "### resized images are to this scale\n",
    "scale = 6048/1200\n",
    "\n",
    "import os\n",
    "import cv2\n",
    "from natsort import natsorted\n",
    "\n",
    "import sys \n",
    "sys.path.append('../')\n",
    "\n",
    "from macrohet import tools# import compile_mp4, compile_multi_track_df\n",
    "\n"
   ]
  },
  {
   "cell_type": "code",
   "execution_count": 31,
   "id": "fd492937",
   "metadata": {},
   "outputs": [
    {
     "data": {
      "text/plain": [
       "<module 'macrohet.tools' from '/home/dayn/analysis/macrohet/track_analysis/../macrohet/tools.py'>"
      ]
     },
     "execution_count": 31,
     "metadata": {},
     "output_type": "execute_result"
    }
   ],
   "source": [
    "\n",
    "import importlib\n",
    "importlib.reload(tools)"
   ]
  },
  {
   "cell_type": "markdown",
   "id": "3751ef77",
   "metadata": {},
   "source": [
    "### Load all metadata\n",
    "\n",
    "Both the image metadata and the assay layout metadata"
   ]
  },
  {
   "cell_type": "code",
   "execution_count": 4,
   "id": "8d20db67",
   "metadata": {
    "scrolled": true
   },
   "outputs": [
    {
     "name": "stdout",
     "output_type": "stream",
     "text": [
      "Reading metadata XML file...\n"
     ]
    },
    {
     "data": {
      "application/vnd.jupyter.widget-view+json": {
       "model_id": "7bbdc77cc4d54b3c84ab4a9a89dfbc52",
       "version_major": 2,
       "version_minor": 0
      },
      "text/plain": [
       "Extracting HarmonyV5 metadata:   0%|          | 0/113400 [00:00<?, ?it/s]"
      ]
     },
     "metadata": {},
     "output_type": "display_data"
    },
    {
     "name": "stdout",
     "output_type": "stream",
     "text": [
      "Extracting metadata complete!\n",
      "Reading metadata XML file...\n",
      "Extracting metadata complete!\n"
     ]
    },
    {
     "data": {
      "text/html": [
       "<div>\n",
       "<style scoped>\n",
       "    .dataframe tbody tr th:only-of-type {\n",
       "        vertical-align: middle;\n",
       "    }\n",
       "\n",
       "    .dataframe tbody tr th {\n",
       "        vertical-align: top;\n",
       "    }\n",
       "\n",
       "    .dataframe thead th {\n",
       "        text-align: right;\n",
       "    }\n",
       "</style>\n",
       "<table border=\"1\" class=\"dataframe\">\n",
       "  <thead>\n",
       "    <tr style=\"text-align: right;\">\n",
       "      <th></th>\n",
       "      <th></th>\n",
       "      <th>Strain</th>\n",
       "      <th>Compound</th>\n",
       "      <th>Concentration</th>\n",
       "      <th>ConcentrationEC</th>\n",
       "    </tr>\n",
       "  </thead>\n",
       "  <tbody>\n",
       "    <tr>\n",
       "      <th rowspan=\"6\" valign=\"top\">3</th>\n",
       "      <th>4</th>\n",
       "      <td>RD1</td>\n",
       "      <td>CTRL</td>\n",
       "      <td>0</td>\n",
       "      <td>EC0</td>\n",
       "    </tr>\n",
       "    <tr>\n",
       "      <th>5</th>\n",
       "      <td>WT</td>\n",
       "      <td>CTRL</td>\n",
       "      <td>0</td>\n",
       "      <td>EC0</td>\n",
       "    </tr>\n",
       "    <tr>\n",
       "      <th>6</th>\n",
       "      <td>WT</td>\n",
       "      <td>PZA</td>\n",
       "      <td>60</td>\n",
       "      <td>EC50</td>\n",
       "    </tr>\n",
       "    <tr>\n",
       "      <th>7</th>\n",
       "      <td>WT</td>\n",
       "      <td>RIF</td>\n",
       "      <td>0.1</td>\n",
       "      <td>EC50</td>\n",
       "    </tr>\n",
       "    <tr>\n",
       "      <th>8</th>\n",
       "      <td>WT</td>\n",
       "      <td>INH</td>\n",
       "      <td>0.04</td>\n",
       "      <td>EC50</td>\n",
       "    </tr>\n",
       "    <tr>\n",
       "      <th>9</th>\n",
       "      <td>WT</td>\n",
       "      <td>BDQ</td>\n",
       "      <td>0.02</td>\n",
       "      <td>EC50</td>\n",
       "    </tr>\n",
       "    <tr>\n",
       "      <th rowspan=\"6\" valign=\"top\">4</th>\n",
       "      <th>4</th>\n",
       "      <td>RD1</td>\n",
       "      <td>CTRL</td>\n",
       "      <td>0</td>\n",
       "      <td>EC0</td>\n",
       "    </tr>\n",
       "    <tr>\n",
       "      <th>5</th>\n",
       "      <td>WT</td>\n",
       "      <td>CTRL</td>\n",
       "      <td>0</td>\n",
       "      <td>EC0</td>\n",
       "    </tr>\n",
       "    <tr>\n",
       "      <th>6</th>\n",
       "      <td>WT</td>\n",
       "      <td>PZA</td>\n",
       "      <td>60</td>\n",
       "      <td>EC50</td>\n",
       "    </tr>\n",
       "    <tr>\n",
       "      <th>7</th>\n",
       "      <td>WT</td>\n",
       "      <td>RIF</td>\n",
       "      <td>0.1</td>\n",
       "      <td>EC50</td>\n",
       "    </tr>\n",
       "    <tr>\n",
       "      <th>8</th>\n",
       "      <td>WT</td>\n",
       "      <td>INH</td>\n",
       "      <td>0.04</td>\n",
       "      <td>EC50</td>\n",
       "    </tr>\n",
       "    <tr>\n",
       "      <th>9</th>\n",
       "      <td>WT</td>\n",
       "      <td>BDQ</td>\n",
       "      <td>0.02</td>\n",
       "      <td>EC50</td>\n",
       "    </tr>\n",
       "    <tr>\n",
       "      <th rowspan=\"6\" valign=\"top\">5</th>\n",
       "      <th>4</th>\n",
       "      <td>RD1</td>\n",
       "      <td>CTRL</td>\n",
       "      <td>0</td>\n",
       "      <td>EC0</td>\n",
       "    </tr>\n",
       "    <tr>\n",
       "      <th>5</th>\n",
       "      <td>WT</td>\n",
       "      <td>CTRL</td>\n",
       "      <td>0</td>\n",
       "      <td>EC0</td>\n",
       "    </tr>\n",
       "    <tr>\n",
       "      <th>6</th>\n",
       "      <td>WT</td>\n",
       "      <td>PZA</td>\n",
       "      <td>400</td>\n",
       "      <td>EC99</td>\n",
       "    </tr>\n",
       "    <tr>\n",
       "      <th>7</th>\n",
       "      <td>WT</td>\n",
       "      <td>RIF</td>\n",
       "      <td>2</td>\n",
       "      <td>EC99</td>\n",
       "    </tr>\n",
       "    <tr>\n",
       "      <th>8</th>\n",
       "      <td>WT</td>\n",
       "      <td>INH</td>\n",
       "      <td>2</td>\n",
       "      <td>EC99</td>\n",
       "    </tr>\n",
       "    <tr>\n",
       "      <th>9</th>\n",
       "      <td>WT</td>\n",
       "      <td>BDQ</td>\n",
       "      <td>2.5</td>\n",
       "      <td>EC99</td>\n",
       "    </tr>\n",
       "    <tr>\n",
       "      <th rowspan=\"6\" valign=\"top\">6</th>\n",
       "      <th>4</th>\n",
       "      <td>RD1</td>\n",
       "      <td>CTRL</td>\n",
       "      <td>0</td>\n",
       "      <td>EC0</td>\n",
       "    </tr>\n",
       "    <tr>\n",
       "      <th>5</th>\n",
       "      <td>WT</td>\n",
       "      <td>CTRL</td>\n",
       "      <td>0</td>\n",
       "      <td>EC0</td>\n",
       "    </tr>\n",
       "    <tr>\n",
       "      <th>6</th>\n",
       "      <td>WT</td>\n",
       "      <td>PZA</td>\n",
       "      <td>400</td>\n",
       "      <td>EC99</td>\n",
       "    </tr>\n",
       "    <tr>\n",
       "      <th>7</th>\n",
       "      <td>WT</td>\n",
       "      <td>RIF</td>\n",
       "      <td>2</td>\n",
       "      <td>EC99</td>\n",
       "    </tr>\n",
       "    <tr>\n",
       "      <th>8</th>\n",
       "      <td>WT</td>\n",
       "      <td>INH</td>\n",
       "      <td>2</td>\n",
       "      <td>EC99</td>\n",
       "    </tr>\n",
       "    <tr>\n",
       "      <th>9</th>\n",
       "      <td>WT</td>\n",
       "      <td>BDQ</td>\n",
       "      <td>2.5</td>\n",
       "      <td>EC99</td>\n",
       "    </tr>\n",
       "  </tbody>\n",
       "</table>\n",
       "</div>"
      ],
      "text/plain": [
       "    Strain Compound Concentration ConcentrationEC\n",
       "3 4    RD1     CTRL             0             EC0\n",
       "  5     WT     CTRL             0             EC0\n",
       "  6     WT      PZA            60            EC50\n",
       "  7     WT      RIF           0.1            EC50\n",
       "  8     WT      INH          0.04            EC50\n",
       "  9     WT      BDQ          0.02            EC50\n",
       "4 4    RD1     CTRL             0             EC0\n",
       "  5     WT     CTRL             0             EC0\n",
       "  6     WT      PZA            60            EC50\n",
       "  7     WT      RIF           0.1            EC50\n",
       "  8     WT      INH          0.04            EC50\n",
       "  9     WT      BDQ          0.02            EC50\n",
       "5 4    RD1     CTRL             0             EC0\n",
       "  5     WT     CTRL             0             EC0\n",
       "  6     WT      PZA           400            EC99\n",
       "  7     WT      RIF             2            EC99\n",
       "  8     WT      INH             2            EC99\n",
       "  9     WT      BDQ           2.5            EC99\n",
       "6 4    RD1     CTRL             0             EC0\n",
       "  5     WT     CTRL             0             EC0\n",
       "  6     WT      PZA           400            EC99\n",
       "  7     WT      RIF             2            EC99\n",
       "  8     WT      INH             2            EC99\n",
       "  9     WT      BDQ           2.5            EC99"
      ]
     },
     "execution_count": 4,
     "metadata": {},
     "output_type": "execute_result"
    }
   ],
   "source": [
    "image_dir = '/mnt/DATA/sandbox/pierre_live_cell_data/outputs/Replication_IPSDM_GFP/Images/'\n",
    "image_metadata_fn = '/mnt/DATA/sandbox/pierre_live_cell_data/outputs/Replication_IPSDM_GFP/Index.idx.xml'\n",
    "metadata = utils.read_harmony_metadata(image_metadata_fn)\n",
    "assay_layout_metadata = '/mnt/DATA/sandbox/pierre_live_cell_data/outputs/Replication_IPSDM_GFP/Assaylayout/20210602_Live_cell_IPSDMGFP_ATB.xml'\n",
    "assay_layout = utils.read_harmony_metadata(assay_layout_metadata, assay_layout=True)\n",
    "assay_layout"
   ]
  },
  {
   "cell_type": "markdown",
   "id": "97ae561d",
   "metadata": {},
   "source": [
    "# Iteratively load all tracks\n",
    "\n",
    "and append to a track_dict dictionary"
   ]
  },
  {
   "cell_type": "code",
   "execution_count": 6,
   "id": "a2236a76",
   "metadata": {
    "scrolled": true
   },
   "outputs": [
    {
     "data": {
      "application/vnd.jupyter.widget-view+json": {
       "model_id": "675898668418417382f632a1e81d74a4",
       "version_major": 2,
       "version_minor": 0
      },
      "text/plain": [
       "Progress through positions:   0%|          | 0/24 [00:00<?, ?it/s]"
      ]
     },
     "metadata": {},
     "output_type": "display_data"
    },
    {
     "name": "stderr",
     "output_type": "stream",
     "text": [
      "[INFO][2023/03/10 04:16:35 PM] Opening HDF file: /mnt/DATA/macrohet/segmentation/full_localisation/(3,4).h5...\n",
      "[INFO][2023/03/10 04:16:35 PM] Loading tracks/obj_type_1\n",
      "[INFO][2023/03/10 04:16:35 PM] Loading LBEP/obj_type_1\n",
      "[INFO][2023/03/10 04:16:35 PM] Loading objects/obj_type_1 (25554, 5) (25554 filtered: None)\n",
      "[INFO][2023/03/10 04:16:36 PM] Loading segmentation (75, 1200, 1200)\n",
      "[INFO][2023/03/10 04:16:36 PM] Closing HDF file: /mnt/DATA/macrohet/segmentation/full_localisation/(3,4).h5\n",
      "[INFO][2023/03/10 04:16:36 PM] Opening HDF file: /mnt/DATA/macrohet/segmentation/full_localisation/(3,5).h5...\n",
      "[INFO][2023/03/10 04:16:36 PM] Loading tracks/obj_type_1\n",
      "[INFO][2023/03/10 04:16:36 PM] Loading LBEP/obj_type_1\n",
      "[INFO][2023/03/10 04:16:36 PM] Loading objects/obj_type_1 (26917, 5) (26917 filtered: None)\n",
      "[INFO][2023/03/10 04:16:37 PM] Loading segmentation (75, 1200, 1200)\n",
      "[INFO][2023/03/10 04:16:37 PM] Closing HDF file: /mnt/DATA/macrohet/segmentation/full_localisation/(3,5).h5\n",
      "[INFO][2023/03/10 04:16:37 PM] Opening HDF file: /mnt/DATA/macrohet/segmentation/full_localisation/(3,6).h5...\n",
      "[INFO][2023/03/10 04:16:37 PM] Loading tracks/obj_type_1\n",
      "[INFO][2023/03/10 04:16:37 PM] Loading LBEP/obj_type_1\n",
      "[INFO][2023/03/10 04:16:37 PM] Loading objects/obj_type_1 (28038, 5) (28038 filtered: None)\n",
      "[INFO][2023/03/10 04:16:38 PM] Loading segmentation (75, 1200, 1200)\n",
      "[INFO][2023/03/10 04:16:38 PM] Closing HDF file: /mnt/DATA/macrohet/segmentation/full_localisation/(3,6).h5\n",
      "[INFO][2023/03/10 04:16:38 PM] Opening HDF file: /mnt/DATA/macrohet/segmentation/full_localisation/(3,7).h5...\n",
      "[INFO][2023/03/10 04:16:38 PM] Loading tracks/obj_type_1\n",
      "[INFO][2023/03/10 04:16:38 PM] Loading LBEP/obj_type_1\n",
      "[INFO][2023/03/10 04:16:38 PM] Loading objects/obj_type_1 (26932, 5) (26932 filtered: None)\n",
      "[INFO][2023/03/10 04:16:39 PM] Loading segmentation (75, 1200, 1200)\n",
      "[INFO][2023/03/10 04:16:39 PM] Closing HDF file: /mnt/DATA/macrohet/segmentation/full_localisation/(3,7).h5\n",
      "[INFO][2023/03/10 04:16:39 PM] Opening HDF file: /mnt/DATA/macrohet/segmentation/full_localisation/(3,8).h5...\n",
      "[INFO][2023/03/10 04:16:39 PM] Loading tracks/obj_type_1\n",
      "[INFO][2023/03/10 04:16:39 PM] Loading LBEP/obj_type_1\n",
      "[INFO][2023/03/10 04:16:39 PM] Loading objects/obj_type_1 (29074, 5) (29074 filtered: None)\n",
      "[INFO][2023/03/10 04:16:40 PM] Loading segmentation (75, 1200, 1200)\n",
      "[INFO][2023/03/10 04:16:40 PM] Closing HDF file: /mnt/DATA/macrohet/segmentation/full_localisation/(3,8).h5\n",
      "[INFO][2023/03/10 04:16:40 PM] Opening HDF file: /mnt/DATA/macrohet/segmentation/full_localisation/(3,9).h5...\n",
      "[INFO][2023/03/10 04:16:40 PM] Loading tracks/obj_type_1\n",
      "[INFO][2023/03/10 04:16:40 PM] Loading LBEP/obj_type_1\n",
      "[INFO][2023/03/10 04:16:40 PM] Loading objects/obj_type_1 (29773, 5) (29773 filtered: None)\n",
      "[INFO][2023/03/10 04:16:41 PM] Loading segmentation (75, 1200, 1200)\n",
      "[INFO][2023/03/10 04:16:41 PM] Closing HDF file: /mnt/DATA/macrohet/segmentation/full_localisation/(3,9).h5\n",
      "[INFO][2023/03/10 04:16:41 PM] Opening HDF file: /mnt/DATA/macrohet/segmentation/full_localisation/(4,4).h5...\n",
      "[INFO][2023/03/10 04:16:41 PM] Loading tracks/obj_type_1\n",
      "[INFO][2023/03/10 04:16:41 PM] Loading LBEP/obj_type_1\n",
      "[INFO][2023/03/10 04:16:41 PM] Loading objects/obj_type_1 (26509, 5) (26509 filtered: None)\n",
      "[INFO][2023/03/10 04:16:42 PM] Loading segmentation (75, 1200, 1200)\n",
      "[INFO][2023/03/10 04:16:42 PM] Closing HDF file: /mnt/DATA/macrohet/segmentation/full_localisation/(4,4).h5\n",
      "[INFO][2023/03/10 04:16:42 PM] Opening HDF file: /mnt/DATA/macrohet/segmentation/full_localisation/(4,5).h5...\n",
      "[INFO][2023/03/10 04:16:42 PM] Loading tracks/obj_type_1\n",
      "[INFO][2023/03/10 04:16:42 PM] Loading LBEP/obj_type_1\n",
      "[INFO][2023/03/10 04:16:43 PM] Loading objects/obj_type_1 (30786, 5) (30786 filtered: None)\n",
      "[INFO][2023/03/10 04:16:43 PM] Loading segmentation (75, 1200, 1200)\n",
      "[INFO][2023/03/10 04:16:43 PM] Closing HDF file: /mnt/DATA/macrohet/segmentation/full_localisation/(4,5).h5\n",
      "[INFO][2023/03/10 04:16:44 PM] Opening HDF file: /mnt/DATA/macrohet/segmentation/full_localisation/(4,6).h5...\n",
      "[INFO][2023/03/10 04:16:44 PM] Loading tracks/obj_type_1\n",
      "[INFO][2023/03/10 04:16:44 PM] Loading LBEP/obj_type_1\n",
      "[INFO][2023/03/10 04:16:44 PM] Loading objects/obj_type_1 (29619, 5) (29619 filtered: None)\n",
      "[INFO][2023/03/10 04:16:45 PM] Loading segmentation (75, 1200, 1200)\n",
      "[INFO][2023/03/10 04:16:45 PM] Closing HDF file: /mnt/DATA/macrohet/segmentation/full_localisation/(4,6).h5\n",
      "[INFO][2023/03/10 04:16:45 PM] Opening HDF file: /mnt/DATA/macrohet/segmentation/full_localisation/(4,7).h5...\n",
      "[INFO][2023/03/10 04:16:45 PM] Loading tracks/obj_type_1\n",
      "[INFO][2023/03/10 04:16:45 PM] Loading LBEP/obj_type_1\n",
      "[INFO][2023/03/10 04:16:45 PM] Loading objects/obj_type_1 (26253, 5) (26253 filtered: None)\n",
      "[INFO][2023/03/10 04:16:46 PM] Loading segmentation (75, 1200, 1200)\n",
      "[INFO][2023/03/10 04:16:46 PM] Closing HDF file: /mnt/DATA/macrohet/segmentation/full_localisation/(4,7).h5\n",
      "[INFO][2023/03/10 04:16:46 PM] Opening HDF file: /mnt/DATA/macrohet/segmentation/full_localisation/(4,8).h5...\n",
      "[INFO][2023/03/10 04:16:46 PM] Loading tracks/obj_type_1\n",
      "[INFO][2023/03/10 04:16:46 PM] Loading LBEP/obj_type_1\n",
      "[INFO][2023/03/10 04:16:46 PM] Loading objects/obj_type_1 (27389, 5) (27389 filtered: None)\n",
      "[INFO][2023/03/10 04:16:47 PM] Loading segmentation (75, 1200, 1200)\n",
      "[INFO][2023/03/10 04:16:47 PM] Closing HDF file: /mnt/DATA/macrohet/segmentation/full_localisation/(4,8).h5\n",
      "[INFO][2023/03/10 04:16:47 PM] Opening HDF file: /mnt/DATA/macrohet/segmentation/full_localisation/(4,9).h5...\n",
      "[INFO][2023/03/10 04:16:47 PM] Loading tracks/obj_type_1\n",
      "[INFO][2023/03/10 04:16:47 PM] Loading LBEP/obj_type_1\n",
      "[INFO][2023/03/10 04:16:47 PM] Loading objects/obj_type_1 (30274, 5) (30274 filtered: None)\n",
      "[INFO][2023/03/10 04:16:48 PM] Loading segmentation (75, 1200, 1200)\n",
      "[INFO][2023/03/10 04:16:48 PM] Closing HDF file: /mnt/DATA/macrohet/segmentation/full_localisation/(4,9).h5\n",
      "[INFO][2023/03/10 04:16:48 PM] Opening HDF file: /mnt/DATA/macrohet/segmentation/full_localisation/(5,4).h5...\n",
      "[INFO][2023/03/10 04:16:48 PM] Loading tracks/obj_type_1\n",
      "[INFO][2023/03/10 04:16:48 PM] Loading LBEP/obj_type_1\n",
      "[INFO][2023/03/10 04:16:48 PM] Loading objects/obj_type_1 (22633, 5) (22633 filtered: None)\n",
      "[INFO][2023/03/10 04:16:49 PM] Loading segmentation (75, 1200, 1200)\n",
      "[INFO][2023/03/10 04:16:49 PM] Closing HDF file: /mnt/DATA/macrohet/segmentation/full_localisation/(5,4).h5\n",
      "[INFO][2023/03/10 04:16:49 PM] Opening HDF file: /mnt/DATA/macrohet/segmentation/full_localisation/(5,5).h5...\n",
      "[INFO][2023/03/10 04:16:49 PM] Loading tracks/obj_type_1\n",
      "[INFO][2023/03/10 04:16:49 PM] Loading LBEP/obj_type_1\n",
      "[INFO][2023/03/10 04:16:49 PM] Loading objects/obj_type_1 (27839, 5) (27839 filtered: None)\n",
      "[INFO][2023/03/10 04:16:50 PM] Loading segmentation (75, 1200, 1200)\n",
      "[INFO][2023/03/10 04:16:50 PM] Closing HDF file: /mnt/DATA/macrohet/segmentation/full_localisation/(5,5).h5\n",
      "[INFO][2023/03/10 04:16:50 PM] Opening HDF file: /mnt/DATA/macrohet/segmentation/full_localisation/(5,6).h5...\n",
      "[INFO][2023/03/10 04:16:50 PM] Loading tracks/obj_type_1\n",
      "[INFO][2023/03/10 04:16:50 PM] Loading LBEP/obj_type_1\n",
      "[INFO][2023/03/10 04:16:50 PM] Loading objects/obj_type_1 (27312, 5) (27312 filtered: None)\n",
      "[INFO][2023/03/10 04:16:55 PM] Loading segmentation (75, 1200, 1200)\n",
      "[INFO][2023/03/10 04:16:55 PM] Closing HDF file: /mnt/DATA/macrohet/segmentation/full_localisation/(5,6).h5\n",
      "[INFO][2023/03/10 04:16:55 PM] Opening HDF file: /mnt/DATA/macrohet/segmentation/full_localisation/(5,7).h5...\n",
      "[INFO][2023/03/10 04:16:55 PM] Loading tracks/obj_type_1\n",
      "[INFO][2023/03/10 04:16:55 PM] Loading LBEP/obj_type_1\n",
      "[INFO][2023/03/10 04:16:55 PM] Loading objects/obj_type_1 (27990, 5) (27990 filtered: None)\n",
      "[INFO][2023/03/10 04:16:56 PM] Loading segmentation (75, 1200, 1200)\n",
      "[INFO][2023/03/10 04:16:56 PM] Closing HDF file: /mnt/DATA/macrohet/segmentation/full_localisation/(5,7).h5\n",
      "[INFO][2023/03/10 04:16:56 PM] Opening HDF file: /mnt/DATA/macrohet/segmentation/full_localisation/(5,8).h5...\n",
      "[INFO][2023/03/10 04:16:56 PM] Loading tracks/obj_type_1\n",
      "[INFO][2023/03/10 04:16:56 PM] Loading LBEP/obj_type_1\n",
      "[INFO][2023/03/10 04:16:56 PM] Loading objects/obj_type_1 (26077, 5) (26077 filtered: None)\n",
      "[INFO][2023/03/10 04:16:57 PM] Loading segmentation (75, 1200, 1200)\n"
     ]
    },
    {
     "name": "stderr",
     "output_type": "stream",
     "text": [
      "[INFO][2023/03/10 04:16:57 PM] Closing HDF file: /mnt/DATA/macrohet/segmentation/full_localisation/(5,8).h5\n",
      "[INFO][2023/03/10 04:16:57 PM] Opening HDF file: /mnt/DATA/macrohet/segmentation/full_localisation/(5,9).h5...\n",
      "[INFO][2023/03/10 04:16:57 PM] Loading tracks/obj_type_1\n",
      "[INFO][2023/03/10 04:16:57 PM] Loading LBEP/obj_type_1\n",
      "[INFO][2023/03/10 04:16:57 PM] Loading objects/obj_type_1 (22122, 5) (22122 filtered: None)\n",
      "[INFO][2023/03/10 04:16:57 PM] Loading segmentation (75, 1200, 1200)\n",
      "[INFO][2023/03/10 04:16:57 PM] Closing HDF file: /mnt/DATA/macrohet/segmentation/full_localisation/(5,9).h5\n",
      "[INFO][2023/03/10 04:16:57 PM] Opening HDF file: /mnt/DATA/macrohet/segmentation/full_localisation/(6,4).h5...\n",
      "[INFO][2023/03/10 04:16:57 PM] Loading tracks/obj_type_1\n",
      "[INFO][2023/03/10 04:16:57 PM] Loading LBEP/obj_type_1\n",
      "[INFO][2023/03/10 04:16:57 PM] Loading objects/obj_type_1 (24744, 5) (24744 filtered: None)\n",
      "[INFO][2023/03/10 04:16:58 PM] Loading segmentation (75, 1200, 1200)\n",
      "[INFO][2023/03/10 04:16:58 PM] Closing HDF file: /mnt/DATA/macrohet/segmentation/full_localisation/(6,4).h5\n",
      "[INFO][2023/03/10 04:16:58 PM] Opening HDF file: /mnt/DATA/macrohet/segmentation/full_localisation/(6,5).h5...\n",
      "[INFO][2023/03/10 04:16:58 PM] Loading tracks/obj_type_1\n",
      "[INFO][2023/03/10 04:16:58 PM] Loading LBEP/obj_type_1\n",
      "[INFO][2023/03/10 04:16:58 PM] Loading objects/obj_type_1 (28008, 5) (28008 filtered: None)\n",
      "[INFO][2023/03/10 04:16:59 PM] Loading segmentation (75, 1200, 1200)\n",
      "[INFO][2023/03/10 04:16:59 PM] Closing HDF file: /mnt/DATA/macrohet/segmentation/full_localisation/(6,5).h5\n",
      "[INFO][2023/03/10 04:16:59 PM] Opening HDF file: /mnt/DATA/macrohet/segmentation/full_localisation/(6,6).h5...\n",
      "[INFO][2023/03/10 04:16:59 PM] Loading tracks/obj_type_1\n",
      "[INFO][2023/03/10 04:16:59 PM] Loading LBEP/obj_type_1\n",
      "[INFO][2023/03/10 04:16:59 PM] Loading objects/obj_type_1 (25123, 5) (25123 filtered: None)\n",
      "[INFO][2023/03/10 04:17:00 PM] Loading segmentation (75, 1200, 1200)\n",
      "[INFO][2023/03/10 04:17:00 PM] Closing HDF file: /mnt/DATA/macrohet/segmentation/full_localisation/(6,6).h5\n",
      "[INFO][2023/03/10 04:17:00 PM] Opening HDF file: /mnt/DATA/macrohet/segmentation/full_localisation/(6,7).h5...\n",
      "[INFO][2023/03/10 04:17:00 PM] Loading tracks/obj_type_1\n",
      "[INFO][2023/03/10 04:17:00 PM] Loading LBEP/obj_type_1\n",
      "[INFO][2023/03/10 04:17:01 PM] Loading objects/obj_type_1 (27885, 5) (27885 filtered: None)\n",
      "[INFO][2023/03/10 04:17:01 PM] Loading segmentation (75, 1200, 1200)\n",
      "[INFO][2023/03/10 04:17:01 PM] Closing HDF file: /mnt/DATA/macrohet/segmentation/full_localisation/(6,7).h5\n",
      "[INFO][2023/03/10 04:17:01 PM] Opening HDF file: /mnt/DATA/macrohet/segmentation/full_localisation/(6,8).h5...\n",
      "[INFO][2023/03/10 04:17:01 PM] Loading tracks/obj_type_1\n",
      "[INFO][2023/03/10 04:17:01 PM] Loading LBEP/obj_type_1\n",
      "[INFO][2023/03/10 04:17:01 PM] Loading objects/obj_type_1 (24359, 5) (24359 filtered: None)\n",
      "[INFO][2023/03/10 04:17:02 PM] Loading segmentation (75, 1200, 1200)\n",
      "[INFO][2023/03/10 04:17:02 PM] Closing HDF file: /mnt/DATA/macrohet/segmentation/full_localisation/(6,8).h5\n",
      "[INFO][2023/03/10 04:17:02 PM] Opening HDF file: /mnt/DATA/macrohet/segmentation/full_localisation/(6,9).h5...\n",
      "[INFO][2023/03/10 04:17:02 PM] Loading tracks/obj_type_1\n",
      "[INFO][2023/03/10 04:17:02 PM] Loading LBEP/obj_type_1\n",
      "[INFO][2023/03/10 04:17:02 PM] Loading objects/obj_type_1 (25237, 5) (25237 filtered: None)\n",
      "[INFO][2023/03/10 04:17:03 PM] Loading segmentation (75, 1200, 1200)\n",
      "[INFO][2023/03/10 04:17:03 PM] Closing HDF file: /mnt/DATA/macrohet/segmentation/full_localisation/(6,9).h5\n"
     ]
    }
   ],
   "source": [
    "tracks_dict = dict()\n",
    "segmentation_dict = dict()\n",
    "### iterate over all experimental conditions\n",
    "for (row, column), info in tqdm(assay_layout.iterrows(), \n",
    "                                desc = 'Progress through positions',\n",
    "                                total = len(assay_layout)):\n",
    "    ### load tracks\n",
    "    with btrack.dataio.HDF5FileHandler(\n",
    "            f'/mnt/DATA/macrohet/segmentation/full_localisation/({row},{column}).h5',#\n",
    "            'r', \n",
    "            obj_type = 'obj_type_1', \n",
    "            ) as hdf: \n",
    "            tracks = hdf.tracks\n",
    "            seg = hdf.segmentation\n",
    "            \n",
    "    tracks_dict[(row, column)] = tracks\n",
    "    segmentation_dict[(row, column)] = seg\n"
   ]
  },
  {
   "cell_type": "markdown",
   "id": "3c537213",
   "metadata": {},
   "source": [
    "# Compile all full length tracks into dataframe\n",
    "\n",
    "Add extra information such as the MSD of cells between frames"
   ]
  },
  {
   "cell_type": "code",
   "execution_count": 20,
   "id": "086c0ec7",
   "metadata": {},
   "outputs": [
    {
     "data": {
      "text/html": [
       "<div>\n",
       "<style scoped>\n",
       "    .dataframe tbody tr th:only-of-type {\n",
       "        vertical-align: middle;\n",
       "    }\n",
       "\n",
       "    .dataframe tbody tr th {\n",
       "        vertical-align: top;\n",
       "    }\n",
       "\n",
       "    .dataframe thead th {\n",
       "        text-align: right;\n",
       "    }\n",
       "</style>\n",
       "<table border=\"1\" class=\"dataframe\">\n",
       "  <thead>\n",
       "    <tr style=\"text-align: right;\">\n",
       "      <th></th>\n",
       "      <th>Time (hours)</th>\n",
       "      <th>x</th>\n",
       "      <th>y</th>\n",
       "      <th>Area</th>\n",
       "      <th>Intracellular Mtb content</th>\n",
       "      <th>Mean Mtb content</th>\n",
       "      <th>Macroph. GFP expression</th>\n",
       "      <th>Eccentricity</th>\n",
       "      <th>MSD</th>\n",
       "      <th>Strain</th>\n",
       "      <th>Compound</th>\n",
       "      <th>Concentration</th>\n",
       "      <th>Cell ID</th>\n",
       "      <th>Acquisition ID</th>\n",
       "    </tr>\n",
       "  </thead>\n",
       "  <tbody>\n",
       "    <tr>\n",
       "      <th>0</th>\n",
       "      <td>0</td>\n",
       "      <td>1169.847412</td>\n",
       "      <td>13.893421</td>\n",
       "      <td>760.0</td>\n",
       "      <td>0.005136</td>\n",
       "      <td>0.005272</td>\n",
       "      <td>0.014705</td>\n",
       "      <td>0.809516</td>\n",
       "      <td>0.000000</td>\n",
       "      <td>RD1</td>\n",
       "      <td>CTRL</td>\n",
       "      <td>EC0</td>\n",
       "      <td>343</td>\n",
       "      <td>(3, 4)</td>\n",
       "    </tr>\n",
       "    <tr>\n",
       "      <th>1</th>\n",
       "      <td>1</td>\n",
       "      <td>1172.826538</td>\n",
       "      <td>14.674929</td>\n",
       "      <td>1049.0</td>\n",
       "      <td>0.005121</td>\n",
       "      <td>0.005272</td>\n",
       "      <td>0.013235</td>\n",
       "      <td>0.843927</td>\n",
       "      <td>3.079926</td>\n",
       "      <td>RD1</td>\n",
       "      <td>CTRL</td>\n",
       "      <td>EC0</td>\n",
       "      <td>343</td>\n",
       "      <td>(3, 4)</td>\n",
       "    </tr>\n",
       "    <tr>\n",
       "      <th>2</th>\n",
       "      <td>2</td>\n",
       "      <td>1174.588867</td>\n",
       "      <td>14.375803</td>\n",
       "      <td>934.0</td>\n",
       "      <td>0.005116</td>\n",
       "      <td>0.005272</td>\n",
       "      <td>0.013899</td>\n",
       "      <td>0.719524</td>\n",
       "      <td>1.787535</td>\n",
       "      <td>RD1</td>\n",
       "      <td>CTRL</td>\n",
       "      <td>EC0</td>\n",
       "      <td>343</td>\n",
       "      <td>(3, 4)</td>\n",
       "    </tr>\n",
       "    <tr>\n",
       "      <th>3</th>\n",
       "      <td>3</td>\n",
       "      <td>1175.250610</td>\n",
       "      <td>12.160207</td>\n",
       "      <td>774.0</td>\n",
       "      <td>0.005094</td>\n",
       "      <td>0.005272</td>\n",
       "      <td>0.013428</td>\n",
       "      <td>0.739700</td>\n",
       "      <td>2.312308</td>\n",
       "      <td>RD1</td>\n",
       "      <td>CTRL</td>\n",
       "      <td>EC0</td>\n",
       "      <td>343</td>\n",
       "      <td>(3, 4)</td>\n",
       "    </tr>\n",
       "    <tr>\n",
       "      <th>4</th>\n",
       "      <td>4</td>\n",
       "      <td>1180.553955</td>\n",
       "      <td>9.897770</td>\n",
       "      <td>538.0</td>\n",
       "      <td>0.005071</td>\n",
       "      <td>0.005272</td>\n",
       "      <td>0.012774</td>\n",
       "      <td>0.761300</td>\n",
       "      <td>5.765768</td>\n",
       "      <td>RD1</td>\n",
       "      <td>CTRL</td>\n",
       "      <td>EC0</td>\n",
       "      <td>343</td>\n",
       "      <td>(3, 4)</td>\n",
       "    </tr>\n",
       "    <tr>\n",
       "      <th>...</th>\n",
       "      <td>...</td>\n",
       "      <td>...</td>\n",
       "      <td>...</td>\n",
       "      <td>...</td>\n",
       "      <td>...</td>\n",
       "      <td>...</td>\n",
       "      <td>...</td>\n",
       "      <td>...</td>\n",
       "      <td>...</td>\n",
       "      <td>...</td>\n",
       "      <td>...</td>\n",
       "      <td>...</td>\n",
       "      <td>...</td>\n",
       "      <td>...</td>\n",
       "    </tr>\n",
       "    <tr>\n",
       "      <th>81520</th>\n",
       "      <td>70</td>\n",
       "      <td>559.663025</td>\n",
       "      <td>1177.240234</td>\n",
       "      <td>3018.0</td>\n",
       "      <td>0.005635</td>\n",
       "      <td>0.005657</td>\n",
       "      <td>0.024949</td>\n",
       "      <td>0.698306</td>\n",
       "      <td>3.245095</td>\n",
       "      <td>WT</td>\n",
       "      <td>BDQ</td>\n",
       "      <td>EC99</td>\n",
       "      <td>155</td>\n",
       "      <td>(6, 9)</td>\n",
       "    </tr>\n",
       "    <tr>\n",
       "      <th>81521</th>\n",
       "      <td>71</td>\n",
       "      <td>556.457581</td>\n",
       "      <td>1178.115601</td>\n",
       "      <td>2863.0</td>\n",
       "      <td>0.005609</td>\n",
       "      <td>0.005657</td>\n",
       "      <td>0.024090</td>\n",
       "      <td>0.716728</td>\n",
       "      <td>3.322821</td>\n",
       "      <td>WT</td>\n",
       "      <td>BDQ</td>\n",
       "      <td>EC99</td>\n",
       "      <td>155</td>\n",
       "      <td>(6, 9)</td>\n",
       "    </tr>\n",
       "    <tr>\n",
       "      <th>81522</th>\n",
       "      <td>72</td>\n",
       "      <td>559.905823</td>\n",
       "      <td>1178.514648</td>\n",
       "      <td>3047.0</td>\n",
       "      <td>0.005600</td>\n",
       "      <td>0.005657</td>\n",
       "      <td>0.022092</td>\n",
       "      <td>0.789115</td>\n",
       "      <td>3.471255</td>\n",
       "      <td>WT</td>\n",
       "      <td>BDQ</td>\n",
       "      <td>EC99</td>\n",
       "      <td>155</td>\n",
       "      <td>(6, 9)</td>\n",
       "    </tr>\n",
       "    <tr>\n",
       "      <th>81523</th>\n",
       "      <td>73</td>\n",
       "      <td>565.014221</td>\n",
       "      <td>1180.512939</td>\n",
       "      <td>2737.0</td>\n",
       "      <td>0.005606</td>\n",
       "      <td>0.005657</td>\n",
       "      <td>0.021206</td>\n",
       "      <td>0.822009</td>\n",
       "      <td>5.485335</td>\n",
       "      <td>WT</td>\n",
       "      <td>BDQ</td>\n",
       "      <td>EC99</td>\n",
       "      <td>155</td>\n",
       "      <td>(6, 9)</td>\n",
       "    </tr>\n",
       "    <tr>\n",
       "      <th>81524</th>\n",
       "      <td>74</td>\n",
       "      <td>564.970337</td>\n",
       "      <td>1181.545288</td>\n",
       "      <td>2564.0</td>\n",
       "      <td>0.005601</td>\n",
       "      <td>0.005657</td>\n",
       "      <td>0.019352</td>\n",
       "      <td>0.850803</td>\n",
       "      <td>1.033281</td>\n",
       "      <td>WT</td>\n",
       "      <td>BDQ</td>\n",
       "      <td>EC99</td>\n",
       "      <td>155</td>\n",
       "      <td>(6, 9)</td>\n",
       "    </tr>\n",
       "  </tbody>\n",
       "</table>\n",
       "<p>81525 rows × 14 columns</p>\n",
       "</div>"
      ],
      "text/plain": [
       "       Time (hours)            x            y    Area  \\\n",
       "0                 0  1169.847412    13.893421   760.0   \n",
       "1                 1  1172.826538    14.674929  1049.0   \n",
       "2                 2  1174.588867    14.375803   934.0   \n",
       "3                 3  1175.250610    12.160207   774.0   \n",
       "4                 4  1180.553955     9.897770   538.0   \n",
       "...             ...          ...          ...     ...   \n",
       "81520            70   559.663025  1177.240234  3018.0   \n",
       "81521            71   556.457581  1178.115601  2863.0   \n",
       "81522            72   559.905823  1178.514648  3047.0   \n",
       "81523            73   565.014221  1180.512939  2737.0   \n",
       "81524            74   564.970337  1181.545288  2564.0   \n",
       "\n",
       "       Intracellular Mtb content  Mean Mtb content  Macroph. GFP expression  \\\n",
       "0                       0.005136          0.005272                 0.014705   \n",
       "1                       0.005121          0.005272                 0.013235   \n",
       "2                       0.005116          0.005272                 0.013899   \n",
       "3                       0.005094          0.005272                 0.013428   \n",
       "4                       0.005071          0.005272                 0.012774   \n",
       "...                          ...               ...                      ...   \n",
       "81520                   0.005635          0.005657                 0.024949   \n",
       "81521                   0.005609          0.005657                 0.024090   \n",
       "81522                   0.005600          0.005657                 0.022092   \n",
       "81523                   0.005606          0.005657                 0.021206   \n",
       "81524                   0.005601          0.005657                 0.019352   \n",
       "\n",
       "       Eccentricity       MSD Strain Compound Concentration  Cell ID  \\\n",
       "0          0.809516  0.000000    RD1     CTRL           EC0      343   \n",
       "1          0.843927  3.079926    RD1     CTRL           EC0      343   \n",
       "2          0.719524  1.787535    RD1     CTRL           EC0      343   \n",
       "3          0.739700  2.312308    RD1     CTRL           EC0      343   \n",
       "4          0.761300  5.765768    RD1     CTRL           EC0      343   \n",
       "...             ...       ...    ...      ...           ...      ...   \n",
       "81520      0.698306  3.245095     WT      BDQ          EC99      155   \n",
       "81521      0.716728  3.322821     WT      BDQ          EC99      155   \n",
       "81522      0.789115  3.471255     WT      BDQ          EC99      155   \n",
       "81523      0.822009  5.485335     WT      BDQ          EC99      155   \n",
       "81524      0.850803  1.033281     WT      BDQ          EC99      155   \n",
       "\n",
       "      Acquisition ID  \n",
       "0             (3, 4)  \n",
       "1             (3, 4)  \n",
       "2             (3, 4)  \n",
       "3             (3, 4)  \n",
       "4             (3, 4)  \n",
       "...              ...  \n",
       "81520         (6, 9)  \n",
       "81521         (6, 9)  \n",
       "81522         (6, 9)  \n",
       "81523         (6, 9)  \n",
       "81524         (6, 9)  \n",
       "\n",
       "[81525 rows x 14 columns]"
      ]
     },
     "execution_count": 20,
     "metadata": {},
     "output_type": "execute_result"
    }
   ],
   "source": [
    "df = tools.compile_multi_track_df(tracks_dict, assay_layout, track_len = 75)\n",
    "df"
   ]
  },
  {
   "cell_type": "markdown",
   "id": "69126882",
   "metadata": {},
   "source": [
    "### Add category to discern initial amount of Mtb growth\n",
    "\n",
    "Categorical"
   ]
  },
  {
   "cell_type": "code",
   "execution_count": 21,
   "id": "8130f8bd",
   "metadata": {},
   "outputs": [],
   "source": [
    "initial_mtb = df.loc[df['Time (hours)'] == 0, 'Intracellular Mtb content']\n",
    "initial_mtb_quartiles = pd.cut(initial_mtb, bins = [initial_mtb.quantile(.0), \n",
    "                                                    initial_mtb.quantile(.25), \n",
    "                                                    initial_mtb.quantile(0.5), \n",
    "                                                    initial_mtb.quantile(.75),\n",
    "                                                    initial_mtb.quantile(1)], \n",
    "                                                    labels = ['Lower', 'Lower-mid', 'Upper-mid', 'Upper'])\n",
    "df['Initial Mtb load (quartile)'] = initial_mtb_quartiles\n",
    "df.fillna(method='ffill', inplace=True)\n",
    "final_mtb = df.loc[df['Time (hours)'] == 74, 'Intracellular Mtb content']\n",
    "final_mtb_quartiles = pd.cut(final_mtb, bins = [final_mtb.quantile(.0), \n",
    "                                                    final_mtb.quantile(.25), \n",
    "                                                    final_mtb.quantile(0.5), \n",
    "                                                    final_mtb.quantile(.75),\n",
    "                                                    final_mtb.quantile(1)], \n",
    "                                                    labels = ['Lower', 'Lower-mid', 'Upper-mid', 'Upper'])\n",
    "df['Final Mtb load (quartile)'] = final_mtb_quartiles\n",
    "df.fillna(method='bfill', inplace=True)"
   ]
  },
  {
   "cell_type": "markdown",
   "id": "c2b3483a",
   "metadata": {},
   "source": [
    "Now continuous assessment: ie. the actual value of the Mtb content in the first frame"
   ]
  },
  {
   "cell_type": "code",
   "execution_count": 22,
   "id": "ae00b388",
   "metadata": {},
   "outputs": [],
   "source": [
    "initial_mtb = df.loc[df['Time (hours)'] == 0, 'Intracellular Mtb content']\n",
    "df['Initial Mtb load'] = initial_mtb\n",
    "df.fillna(method='ffill', inplace=True)"
   ]
  },
  {
   "cell_type": "code",
   "execution_count": 23,
   "id": "d594a765",
   "metadata": {},
   "outputs": [],
   "source": [
    "final_mtb = df.loc[df['Time (hours)'] == 74, 'Intracellular Mtb content']\n",
    "df['Final Mtb load'] = final_mtb\n",
    "df.fillna(method='bfill', inplace=True)"
   ]
  },
  {
   "cell_type": "markdown",
   "id": "96269d8b",
   "metadata": {},
   "source": [
    "## Pick a single experiment to focus on?"
   ]
  },
  {
   "cell_type": "code",
   "execution_count": 24,
   "id": "159bb62b",
   "metadata": {},
   "outputs": [],
   "source": [
    "### select from conditions\n",
    "selected_expt_df = df[(df['Compound'] == 'PZA') & (df['Concentration'] == 'EC50')]\n",
    "acq_ID = selected_expt_df['Acquisition ID'].iloc[0]"
   ]
  },
  {
   "cell_type": "code",
   "execution_count": 41,
   "id": "89377e36",
   "metadata": {},
   "outputs": [
    {
     "data": {
      "text/html": [
       "<div>\n",
       "<style scoped>\n",
       "    .dataframe tbody tr th:only-of-type {\n",
       "        vertical-align: middle;\n",
       "    }\n",
       "\n",
       "    .dataframe tbody tr th {\n",
       "        vertical-align: top;\n",
       "    }\n",
       "\n",
       "    .dataframe thead th {\n",
       "        text-align: right;\n",
       "    }\n",
       "</style>\n",
       "<table border=\"1\" class=\"dataframe\">\n",
       "  <thead>\n",
       "    <tr style=\"text-align: right;\">\n",
       "      <th></th>\n",
       "      <th>Time (hours)</th>\n",
       "      <th>x</th>\n",
       "      <th>y</th>\n",
       "      <th>Area</th>\n",
       "      <th>Intracellular Mtb content</th>\n",
       "      <th>Mean Mtb content</th>\n",
       "      <th>Macroph. GFP expression</th>\n",
       "      <th>Eccentricity</th>\n",
       "      <th>MSD</th>\n",
       "      <th>Strain</th>\n",
       "      <th>Compound</th>\n",
       "      <th>Concentration</th>\n",
       "      <th>Cell ID</th>\n",
       "      <th>Acquisition ID</th>\n",
       "      <th>Initial Mtb load (quartile)</th>\n",
       "      <th>Final Mtb load (quartile)</th>\n",
       "      <th>Initial Mtb load</th>\n",
       "      <th>Final Mtb load</th>\n",
       "    </tr>\n",
       "  </thead>\n",
       "  <tbody>\n",
       "    <tr>\n",
       "      <th>15300</th>\n",
       "      <td>0</td>\n",
       "      <td>268.956024</td>\n",
       "      <td>65.425865</td>\n",
       "      <td>2637.0</td>\n",
       "      <td>0.006256</td>\n",
       "      <td>0.007892</td>\n",
       "      <td>0.016216</td>\n",
       "      <td>0.829670</td>\n",
       "      <td>0.000000</td>\n",
       "      <td>WT</td>\n",
       "      <td>INH</td>\n",
       "      <td>EC50</td>\n",
       "      <td>300</td>\n",
       "      <td>(3, 8)</td>\n",
       "      <td>Upper</td>\n",
       "      <td>Upper</td>\n",
       "      <td>0.006256</td>\n",
       "      <td>0.010684</td>\n",
       "    </tr>\n",
       "    <tr>\n",
       "      <th>15301</th>\n",
       "      <td>1</td>\n",
       "      <td>272.280609</td>\n",
       "      <td>60.727016</td>\n",
       "      <td>3535.0</td>\n",
       "      <td>0.005994</td>\n",
       "      <td>0.007892</td>\n",
       "      <td>0.014438</td>\n",
       "      <td>0.729552</td>\n",
       "      <td>5.756044</td>\n",
       "      <td>WT</td>\n",
       "      <td>INH</td>\n",
       "      <td>EC50</td>\n",
       "      <td>300</td>\n",
       "      <td>(3, 8)</td>\n",
       "      <td>Upper</td>\n",
       "      <td>Upper</td>\n",
       "      <td>0.006256</td>\n",
       "      <td>0.010684</td>\n",
       "    </tr>\n",
       "    <tr>\n",
       "      <th>15302</th>\n",
       "      <td>2</td>\n",
       "      <td>279.796692</td>\n",
       "      <td>46.732731</td>\n",
       "      <td>3330.0</td>\n",
       "      <td>0.005973</td>\n",
       "      <td>0.007892</td>\n",
       "      <td>0.013204</td>\n",
       "      <td>0.683020</td>\n",
       "      <td>15.884947</td>\n",
       "      <td>WT</td>\n",
       "      <td>INH</td>\n",
       "      <td>EC50</td>\n",
       "      <td>300</td>\n",
       "      <td>(3, 8)</td>\n",
       "      <td>Upper</td>\n",
       "      <td>Upper</td>\n",
       "      <td>0.006256</td>\n",
       "      <td>0.010684</td>\n",
       "    </tr>\n",
       "    <tr>\n",
       "      <th>15303</th>\n",
       "      <td>3</td>\n",
       "      <td>279.816193</td>\n",
       "      <td>53.272476</td>\n",
       "      <td>3237.0</td>\n",
       "      <td>0.005982</td>\n",
       "      <td>0.007892</td>\n",
       "      <td>0.013640</td>\n",
       "      <td>0.807284</td>\n",
       "      <td>6.539774</td>\n",
       "      <td>WT</td>\n",
       "      <td>INH</td>\n",
       "      <td>EC50</td>\n",
       "      <td>300</td>\n",
       "      <td>(3, 8)</td>\n",
       "      <td>Upper</td>\n",
       "      <td>Upper</td>\n",
       "      <td>0.006256</td>\n",
       "      <td>0.010684</td>\n",
       "    </tr>\n",
       "    <tr>\n",
       "      <th>15304</th>\n",
       "      <td>4</td>\n",
       "      <td>279.036102</td>\n",
       "      <td>52.219032</td>\n",
       "      <td>3657.0</td>\n",
       "      <td>0.005994</td>\n",
       "      <td>0.007892</td>\n",
       "      <td>0.013985</td>\n",
       "      <td>0.625249</td>\n",
       "      <td>1.310834</td>\n",
       "      <td>WT</td>\n",
       "      <td>INH</td>\n",
       "      <td>EC50</td>\n",
       "      <td>300</td>\n",
       "      <td>(3, 8)</td>\n",
       "      <td>Upper</td>\n",
       "      <td>Upper</td>\n",
       "      <td>0.006256</td>\n",
       "      <td>0.010684</td>\n",
       "    </tr>\n",
       "    <tr>\n",
       "      <th>...</th>\n",
       "      <td>...</td>\n",
       "      <td>...</td>\n",
       "      <td>...</td>\n",
       "      <td>...</td>\n",
       "      <td>...</td>\n",
       "      <td>...</td>\n",
       "      <td>...</td>\n",
       "      <td>...</td>\n",
       "      <td>...</td>\n",
       "      <td>...</td>\n",
       "      <td>...</td>\n",
       "      <td>...</td>\n",
       "      <td>...</td>\n",
       "      <td>...</td>\n",
       "      <td>...</td>\n",
       "      <td>...</td>\n",
       "      <td>...</td>\n",
       "      <td>...</td>\n",
       "    </tr>\n",
       "    <tr>\n",
       "      <th>17395</th>\n",
       "      <td>70</td>\n",
       "      <td>437.507751</td>\n",
       "      <td>677.482788</td>\n",
       "      <td>1160.0</td>\n",
       "      <td>0.005289</td>\n",
       "      <td>0.005293</td>\n",
       "      <td>0.019831</td>\n",
       "      <td>0.576796</td>\n",
       "      <td>5.990601</td>\n",
       "      <td>WT</td>\n",
       "      <td>INH</td>\n",
       "      <td>EC50</td>\n",
       "      <td>81</td>\n",
       "      <td>(3, 8)</td>\n",
       "      <td>Lower</td>\n",
       "      <td>Lower</td>\n",
       "      <td>0.005292</td>\n",
       "      <td>0.005288</td>\n",
       "    </tr>\n",
       "    <tr>\n",
       "      <th>17396</th>\n",
       "      <td>71</td>\n",
       "      <td>435.135040</td>\n",
       "      <td>678.725037</td>\n",
       "      <td>1022.0</td>\n",
       "      <td>0.005291</td>\n",
       "      <td>0.005293</td>\n",
       "      <td>0.020450</td>\n",
       "      <td>0.603804</td>\n",
       "      <td>2.678234</td>\n",
       "      <td>WT</td>\n",
       "      <td>INH</td>\n",
       "      <td>EC50</td>\n",
       "      <td>81</td>\n",
       "      <td>(3, 8)</td>\n",
       "      <td>Lower</td>\n",
       "      <td>Lower</td>\n",
       "      <td>0.005292</td>\n",
       "      <td>0.005288</td>\n",
       "    </tr>\n",
       "    <tr>\n",
       "      <th>17397</th>\n",
       "      <td>72</td>\n",
       "      <td>439.116241</td>\n",
       "      <td>679.119019</td>\n",
       "      <td>1084.0</td>\n",
       "      <td>0.005295</td>\n",
       "      <td>0.005293</td>\n",
       "      <td>0.021352</td>\n",
       "      <td>0.524047</td>\n",
       "      <td>4.000648</td>\n",
       "      <td>WT</td>\n",
       "      <td>INH</td>\n",
       "      <td>EC50</td>\n",
       "      <td>81</td>\n",
       "      <td>(3, 8)</td>\n",
       "      <td>Lower</td>\n",
       "      <td>Lower</td>\n",
       "      <td>0.005292</td>\n",
       "      <td>0.005288</td>\n",
       "    </tr>\n",
       "    <tr>\n",
       "      <th>17398</th>\n",
       "      <td>73</td>\n",
       "      <td>440.520416</td>\n",
       "      <td>680.639954</td>\n",
       "      <td>1159.5</td>\n",
       "      <td>0.005292</td>\n",
       "      <td>0.005293</td>\n",
       "      <td>0.019682</td>\n",
       "      <td>0.627327</td>\n",
       "      <td>2.070012</td>\n",
       "      <td>WT</td>\n",
       "      <td>INH</td>\n",
       "      <td>EC50</td>\n",
       "      <td>81</td>\n",
       "      <td>(3, 8)</td>\n",
       "      <td>Lower</td>\n",
       "      <td>Lower</td>\n",
       "      <td>0.005292</td>\n",
       "      <td>0.005288</td>\n",
       "    </tr>\n",
       "    <tr>\n",
       "      <th>17399</th>\n",
       "      <td>74</td>\n",
       "      <td>440.109314</td>\n",
       "      <td>683.236450</td>\n",
       "      <td>1235.0</td>\n",
       "      <td>0.005288</td>\n",
       "      <td>0.005293</td>\n",
       "      <td>0.018011</td>\n",
       "      <td>0.730607</td>\n",
       "      <td>2.628840</td>\n",
       "      <td>WT</td>\n",
       "      <td>INH</td>\n",
       "      <td>EC50</td>\n",
       "      <td>81</td>\n",
       "      <td>(3, 8)</td>\n",
       "      <td>Lower</td>\n",
       "      <td>Lower</td>\n",
       "      <td>0.005292</td>\n",
       "      <td>0.005288</td>\n",
       "    </tr>\n",
       "  </tbody>\n",
       "</table>\n",
       "<p>150 rows × 18 columns</p>\n",
       "</div>"
      ],
      "text/plain": [
       "       Time (hours)           x           y    Area  \\\n",
       "15300             0  268.956024   65.425865  2637.0   \n",
       "15301             1  272.280609   60.727016  3535.0   \n",
       "15302             2  279.796692   46.732731  3330.0   \n",
       "15303             3  279.816193   53.272476  3237.0   \n",
       "15304             4  279.036102   52.219032  3657.0   \n",
       "...             ...         ...         ...     ...   \n",
       "17395            70  437.507751  677.482788  1160.0   \n",
       "17396            71  435.135040  678.725037  1022.0   \n",
       "17397            72  439.116241  679.119019  1084.0   \n",
       "17398            73  440.520416  680.639954  1159.5   \n",
       "17399            74  440.109314  683.236450  1235.0   \n",
       "\n",
       "       Intracellular Mtb content  Mean Mtb content  Macroph. GFP expression  \\\n",
       "15300                   0.006256          0.007892                 0.016216   \n",
       "15301                   0.005994          0.007892                 0.014438   \n",
       "15302                   0.005973          0.007892                 0.013204   \n",
       "15303                   0.005982          0.007892                 0.013640   \n",
       "15304                   0.005994          0.007892                 0.013985   \n",
       "...                          ...               ...                      ...   \n",
       "17395                   0.005289          0.005293                 0.019831   \n",
       "17396                   0.005291          0.005293                 0.020450   \n",
       "17397                   0.005295          0.005293                 0.021352   \n",
       "17398                   0.005292          0.005293                 0.019682   \n",
       "17399                   0.005288          0.005293                 0.018011   \n",
       "\n",
       "       Eccentricity        MSD Strain Compound Concentration  Cell ID  \\\n",
       "15300      0.829670   0.000000     WT      INH          EC50      300   \n",
       "15301      0.729552   5.756044     WT      INH          EC50      300   \n",
       "15302      0.683020  15.884947     WT      INH          EC50      300   \n",
       "15303      0.807284   6.539774     WT      INH          EC50      300   \n",
       "15304      0.625249   1.310834     WT      INH          EC50      300   \n",
       "...             ...        ...    ...      ...           ...      ...   \n",
       "17395      0.576796   5.990601     WT      INH          EC50       81   \n",
       "17396      0.603804   2.678234     WT      INH          EC50       81   \n",
       "17397      0.524047   4.000648     WT      INH          EC50       81   \n",
       "17398      0.627327   2.070012     WT      INH          EC50       81   \n",
       "17399      0.730607   2.628840     WT      INH          EC50       81   \n",
       "\n",
       "      Acquisition ID Initial Mtb load (quartile) Final Mtb load (quartile)  \\\n",
       "15300         (3, 8)                       Upper                     Upper   \n",
       "15301         (3, 8)                       Upper                     Upper   \n",
       "15302         (3, 8)                       Upper                     Upper   \n",
       "15303         (3, 8)                       Upper                     Upper   \n",
       "15304         (3, 8)                       Upper                     Upper   \n",
       "...              ...                         ...                       ...   \n",
       "17395         (3, 8)                       Lower                     Lower   \n",
       "17396         (3, 8)                       Lower                     Lower   \n",
       "17397         (3, 8)                       Lower                     Lower   \n",
       "17398         (3, 8)                       Lower                     Lower   \n",
       "17399         (3, 8)                       Lower                     Lower   \n",
       "\n",
       "       Initial Mtb load  Final Mtb load  \n",
       "15300          0.006256        0.010684  \n",
       "15301          0.006256        0.010684  \n",
       "15302          0.006256        0.010684  \n",
       "15303          0.006256        0.010684  \n",
       "15304          0.006256        0.010684  \n",
       "...                 ...             ...  \n",
       "17395          0.005292        0.005288  \n",
       "17396          0.005292        0.005288  \n",
       "17397          0.005292        0.005288  \n",
       "17398          0.005292        0.005288  \n",
       "17399          0.005292        0.005288  \n",
       "\n",
       "[150 rows x 18 columns]"
      ]
     },
     "execution_count": 41,
     "metadata": {},
     "output_type": "execute_result"
    }
   ],
   "source": [
    "### get extreme cells\n",
    "extreme_cases = pd.concat([selected_expt_df[(selected_expt_df['Mean Mtb content'] == np.max(selected_expt_df['Mean Mtb content']))],\n",
    "                           selected_expt_df[(selected_expt_df['Mean Mtb content'] == np.min(selected_expt_df['Mean Mtb content']))]])\n",
    "extreme_cases"
   ]
  },
  {
   "cell_type": "code",
   "execution_count": 26,
   "id": "0e9739a4",
   "metadata": {},
   "outputs": [],
   "source": [
    "### isolate a single cell ID from df of interesting cells\n",
    "ID = 300\n",
    "### isolate sc df\n",
    "sc_df = extreme_cases[extreme_cases['Cell ID']==ID]"
   ]
  },
  {
   "cell_type": "code",
   "execution_count": 42,
   "id": "a9caff0b",
   "metadata": {},
   "outputs": [],
   "source": [
    "### or manually select from acquisition ID and Cell ID \n",
    "acq_ID = (3, 8)\n",
    "selected_expt_df = df[(df['Acquisition ID'] == acq_ID)]\n",
    "### get cell ID\n",
    "ID = 81\n",
    "### isolate sc df\n",
    "sc_df = selected_expt_df[selected_expt_df['Cell ID']==ID]"
   ]
  },
  {
   "cell_type": "code",
   "execution_count": 43,
   "id": "e8399631",
   "metadata": {},
   "outputs": [
    {
     "data": {
      "text/html": [
       "<div>\n",
       "<style scoped>\n",
       "    .dataframe tbody tr th:only-of-type {\n",
       "        vertical-align: middle;\n",
       "    }\n",
       "\n",
       "    .dataframe tbody tr th {\n",
       "        vertical-align: top;\n",
       "    }\n",
       "\n",
       "    .dataframe thead th {\n",
       "        text-align: right;\n",
       "    }\n",
       "</style>\n",
       "<table border=\"1\" class=\"dataframe\">\n",
       "  <thead>\n",
       "    <tr style=\"text-align: right;\">\n",
       "      <th></th>\n",
       "      <th>Time (hours)</th>\n",
       "      <th>x</th>\n",
       "      <th>y</th>\n",
       "      <th>Area</th>\n",
       "      <th>Intracellular Mtb content</th>\n",
       "      <th>Mean Mtb content</th>\n",
       "      <th>Macroph. GFP expression</th>\n",
       "      <th>Eccentricity</th>\n",
       "      <th>MSD</th>\n",
       "      <th>Strain</th>\n",
       "      <th>Compound</th>\n",
       "      <th>Concentration</th>\n",
       "      <th>Cell ID</th>\n",
       "      <th>Acquisition ID</th>\n",
       "      <th>Initial Mtb load (quartile)</th>\n",
       "      <th>Final Mtb load (quartile)</th>\n",
       "      <th>Initial Mtb load</th>\n",
       "      <th>Final Mtb load</th>\n",
       "    </tr>\n",
       "  </thead>\n",
       "  <tbody>\n",
       "    <tr>\n",
       "      <th>17325</th>\n",
       "      <td>0</td>\n",
       "      <td>443.839935</td>\n",
       "      <td>660.719543</td>\n",
       "      <td>1462.0</td>\n",
       "      <td>0.005292</td>\n",
       "      <td>0.005293</td>\n",
       "      <td>0.017062</td>\n",
       "      <td>0.931162</td>\n",
       "      <td>0.000000</td>\n",
       "      <td>WT</td>\n",
       "      <td>INH</td>\n",
       "      <td>EC50</td>\n",
       "      <td>81</td>\n",
       "      <td>(3, 8)</td>\n",
       "      <td>Lower</td>\n",
       "      <td>Lower</td>\n",
       "      <td>0.005292</td>\n",
       "      <td>0.005288</td>\n",
       "    </tr>\n",
       "    <tr>\n",
       "      <th>17326</th>\n",
       "      <td>1</td>\n",
       "      <td>442.930603</td>\n",
       "      <td>667.374207</td>\n",
       "      <td>1729.0</td>\n",
       "      <td>0.005300</td>\n",
       "      <td>0.005293</td>\n",
       "      <td>0.016790</td>\n",
       "      <td>0.927155</td>\n",
       "      <td>6.716504</td>\n",
       "      <td>WT</td>\n",
       "      <td>INH</td>\n",
       "      <td>EC50</td>\n",
       "      <td>81</td>\n",
       "      <td>(3, 8)</td>\n",
       "      <td>Lower</td>\n",
       "      <td>Lower</td>\n",
       "      <td>0.005292</td>\n",
       "      <td>0.005288</td>\n",
       "    </tr>\n",
       "    <tr>\n",
       "      <th>17327</th>\n",
       "      <td>2</td>\n",
       "      <td>444.404968</td>\n",
       "      <td>664.894165</td>\n",
       "      <td>1531.0</td>\n",
       "      <td>0.005269</td>\n",
       "      <td>0.005293</td>\n",
       "      <td>0.014994</td>\n",
       "      <td>0.917178</td>\n",
       "      <td>2.885196</td>\n",
       "      <td>WT</td>\n",
       "      <td>INH</td>\n",
       "      <td>EC50</td>\n",
       "      <td>81</td>\n",
       "      <td>(3, 8)</td>\n",
       "      <td>Lower</td>\n",
       "      <td>Lower</td>\n",
       "      <td>0.005292</td>\n",
       "      <td>0.005288</td>\n",
       "    </tr>\n",
       "    <tr>\n",
       "      <th>17328</th>\n",
       "      <td>3</td>\n",
       "      <td>446.667236</td>\n",
       "      <td>652.623169</td>\n",
       "      <td>1794.0</td>\n",
       "      <td>0.005303</td>\n",
       "      <td>0.005293</td>\n",
       "      <td>0.017638</td>\n",
       "      <td>0.933294</td>\n",
       "      <td>12.477788</td>\n",
       "      <td>WT</td>\n",
       "      <td>INH</td>\n",
       "      <td>EC50</td>\n",
       "      <td>81</td>\n",
       "      <td>(3, 8)</td>\n",
       "      <td>Lower</td>\n",
       "      <td>Lower</td>\n",
       "      <td>0.005292</td>\n",
       "      <td>0.005288</td>\n",
       "    </tr>\n",
       "    <tr>\n",
       "      <th>17329</th>\n",
       "      <td>4</td>\n",
       "      <td>445.565918</td>\n",
       "      <td>651.952576</td>\n",
       "      <td>1350.0</td>\n",
       "      <td>0.005273</td>\n",
       "      <td>0.005293</td>\n",
       "      <td>0.015478</td>\n",
       "      <td>0.932637</td>\n",
       "      <td>1.289417</td>\n",
       "      <td>WT</td>\n",
       "      <td>INH</td>\n",
       "      <td>EC50</td>\n",
       "      <td>81</td>\n",
       "      <td>(3, 8)</td>\n",
       "      <td>Lower</td>\n",
       "      <td>Lower</td>\n",
       "      <td>0.005292</td>\n",
       "      <td>0.005288</td>\n",
       "    </tr>\n",
       "    <tr>\n",
       "      <th>...</th>\n",
       "      <td>...</td>\n",
       "      <td>...</td>\n",
       "      <td>...</td>\n",
       "      <td>...</td>\n",
       "      <td>...</td>\n",
       "      <td>...</td>\n",
       "      <td>...</td>\n",
       "      <td>...</td>\n",
       "      <td>...</td>\n",
       "      <td>...</td>\n",
       "      <td>...</td>\n",
       "      <td>...</td>\n",
       "      <td>...</td>\n",
       "      <td>...</td>\n",
       "      <td>...</td>\n",
       "      <td>...</td>\n",
       "      <td>...</td>\n",
       "      <td>...</td>\n",
       "    </tr>\n",
       "    <tr>\n",
       "      <th>17395</th>\n",
       "      <td>70</td>\n",
       "      <td>437.507751</td>\n",
       "      <td>677.482788</td>\n",
       "      <td>1160.0</td>\n",
       "      <td>0.005289</td>\n",
       "      <td>0.005293</td>\n",
       "      <td>0.019831</td>\n",
       "      <td>0.576796</td>\n",
       "      <td>5.990601</td>\n",
       "      <td>WT</td>\n",
       "      <td>INH</td>\n",
       "      <td>EC50</td>\n",
       "      <td>81</td>\n",
       "      <td>(3, 8)</td>\n",
       "      <td>Lower</td>\n",
       "      <td>Lower</td>\n",
       "      <td>0.005292</td>\n",
       "      <td>0.005288</td>\n",
       "    </tr>\n",
       "    <tr>\n",
       "      <th>17396</th>\n",
       "      <td>71</td>\n",
       "      <td>435.135040</td>\n",
       "      <td>678.725037</td>\n",
       "      <td>1022.0</td>\n",
       "      <td>0.005291</td>\n",
       "      <td>0.005293</td>\n",
       "      <td>0.020450</td>\n",
       "      <td>0.603804</td>\n",
       "      <td>2.678234</td>\n",
       "      <td>WT</td>\n",
       "      <td>INH</td>\n",
       "      <td>EC50</td>\n",
       "      <td>81</td>\n",
       "      <td>(3, 8)</td>\n",
       "      <td>Lower</td>\n",
       "      <td>Lower</td>\n",
       "      <td>0.005292</td>\n",
       "      <td>0.005288</td>\n",
       "    </tr>\n",
       "    <tr>\n",
       "      <th>17397</th>\n",
       "      <td>72</td>\n",
       "      <td>439.116241</td>\n",
       "      <td>679.119019</td>\n",
       "      <td>1084.0</td>\n",
       "      <td>0.005295</td>\n",
       "      <td>0.005293</td>\n",
       "      <td>0.021352</td>\n",
       "      <td>0.524047</td>\n",
       "      <td>4.000648</td>\n",
       "      <td>WT</td>\n",
       "      <td>INH</td>\n",
       "      <td>EC50</td>\n",
       "      <td>81</td>\n",
       "      <td>(3, 8)</td>\n",
       "      <td>Lower</td>\n",
       "      <td>Lower</td>\n",
       "      <td>0.005292</td>\n",
       "      <td>0.005288</td>\n",
       "    </tr>\n",
       "    <tr>\n",
       "      <th>17398</th>\n",
       "      <td>73</td>\n",
       "      <td>440.520416</td>\n",
       "      <td>680.639954</td>\n",
       "      <td>1159.5</td>\n",
       "      <td>0.005292</td>\n",
       "      <td>0.005293</td>\n",
       "      <td>0.019682</td>\n",
       "      <td>0.627327</td>\n",
       "      <td>2.070012</td>\n",
       "      <td>WT</td>\n",
       "      <td>INH</td>\n",
       "      <td>EC50</td>\n",
       "      <td>81</td>\n",
       "      <td>(3, 8)</td>\n",
       "      <td>Lower</td>\n",
       "      <td>Lower</td>\n",
       "      <td>0.005292</td>\n",
       "      <td>0.005288</td>\n",
       "    </tr>\n",
       "    <tr>\n",
       "      <th>17399</th>\n",
       "      <td>74</td>\n",
       "      <td>440.109314</td>\n",
       "      <td>683.236450</td>\n",
       "      <td>1235.0</td>\n",
       "      <td>0.005288</td>\n",
       "      <td>0.005293</td>\n",
       "      <td>0.018011</td>\n",
       "      <td>0.730607</td>\n",
       "      <td>2.628840</td>\n",
       "      <td>WT</td>\n",
       "      <td>INH</td>\n",
       "      <td>EC50</td>\n",
       "      <td>81</td>\n",
       "      <td>(3, 8)</td>\n",
       "      <td>Lower</td>\n",
       "      <td>Lower</td>\n",
       "      <td>0.005292</td>\n",
       "      <td>0.005288</td>\n",
       "    </tr>\n",
       "  </tbody>\n",
       "</table>\n",
       "<p>75 rows × 18 columns</p>\n",
       "</div>"
      ],
      "text/plain": [
       "       Time (hours)           x           y    Area  \\\n",
       "17325             0  443.839935  660.719543  1462.0   \n",
       "17326             1  442.930603  667.374207  1729.0   \n",
       "17327             2  444.404968  664.894165  1531.0   \n",
       "17328             3  446.667236  652.623169  1794.0   \n",
       "17329             4  445.565918  651.952576  1350.0   \n",
       "...             ...         ...         ...     ...   \n",
       "17395            70  437.507751  677.482788  1160.0   \n",
       "17396            71  435.135040  678.725037  1022.0   \n",
       "17397            72  439.116241  679.119019  1084.0   \n",
       "17398            73  440.520416  680.639954  1159.5   \n",
       "17399            74  440.109314  683.236450  1235.0   \n",
       "\n",
       "       Intracellular Mtb content  Mean Mtb content  Macroph. GFP expression  \\\n",
       "17325                   0.005292          0.005293                 0.017062   \n",
       "17326                   0.005300          0.005293                 0.016790   \n",
       "17327                   0.005269          0.005293                 0.014994   \n",
       "17328                   0.005303          0.005293                 0.017638   \n",
       "17329                   0.005273          0.005293                 0.015478   \n",
       "...                          ...               ...                      ...   \n",
       "17395                   0.005289          0.005293                 0.019831   \n",
       "17396                   0.005291          0.005293                 0.020450   \n",
       "17397                   0.005295          0.005293                 0.021352   \n",
       "17398                   0.005292          0.005293                 0.019682   \n",
       "17399                   0.005288          0.005293                 0.018011   \n",
       "\n",
       "       Eccentricity        MSD Strain Compound Concentration  Cell ID  \\\n",
       "17325      0.931162   0.000000     WT      INH          EC50       81   \n",
       "17326      0.927155   6.716504     WT      INH          EC50       81   \n",
       "17327      0.917178   2.885196     WT      INH          EC50       81   \n",
       "17328      0.933294  12.477788     WT      INH          EC50       81   \n",
       "17329      0.932637   1.289417     WT      INH          EC50       81   \n",
       "...             ...        ...    ...      ...           ...      ...   \n",
       "17395      0.576796   5.990601     WT      INH          EC50       81   \n",
       "17396      0.603804   2.678234     WT      INH          EC50       81   \n",
       "17397      0.524047   4.000648     WT      INH          EC50       81   \n",
       "17398      0.627327   2.070012     WT      INH          EC50       81   \n",
       "17399      0.730607   2.628840     WT      INH          EC50       81   \n",
       "\n",
       "      Acquisition ID Initial Mtb load (quartile) Final Mtb load (quartile)  \\\n",
       "17325         (3, 8)                       Lower                     Lower   \n",
       "17326         (3, 8)                       Lower                     Lower   \n",
       "17327         (3, 8)                       Lower                     Lower   \n",
       "17328         (3, 8)                       Lower                     Lower   \n",
       "17329         (3, 8)                       Lower                     Lower   \n",
       "...              ...                         ...                       ...   \n",
       "17395         (3, 8)                       Lower                     Lower   \n",
       "17396         (3, 8)                       Lower                     Lower   \n",
       "17397         (3, 8)                       Lower                     Lower   \n",
       "17398         (3, 8)                       Lower                     Lower   \n",
       "17399         (3, 8)                       Lower                     Lower   \n",
       "\n",
       "       Initial Mtb load  Final Mtb load  \n",
       "17325          0.005292        0.005288  \n",
       "17326          0.005292        0.005288  \n",
       "17327          0.005292        0.005288  \n",
       "17328          0.005292        0.005288  \n",
       "17329          0.005292        0.005288  \n",
       "...                 ...             ...  \n",
       "17395          0.005292        0.005288  \n",
       "17396          0.005292        0.005288  \n",
       "17397          0.005292        0.005288  \n",
       "17398          0.005292        0.005288  \n",
       "17399          0.005292        0.005288  \n",
       "\n",
       "[75 rows x 18 columns]"
      ]
     },
     "execution_count": 43,
     "metadata": {},
     "output_type": "execute_result"
    }
   ],
   "source": [
    "sc_df"
   ]
  },
  {
   "cell_type": "markdown",
   "id": "aa5f07a4",
   "metadata": {},
   "source": [
    "# First assess glimpse with scale bars etc"
   ]
  },
  {
   "cell_type": "code",
   "execution_count": 65,
   "id": "2fa670ea",
   "metadata": {},
   "outputs": [
    {
     "data": {
      "text/plain": [
       "<module 'macrohet.tools' from '/home/dayn/analysis/macrohet/track_analysis/../macrohet/tools.py'>"
      ]
     },
     "execution_count": 65,
     "metadata": {},
     "output_type": "execute_result"
    }
   ],
   "source": [
    "importlib.reload(tools)"
   ]
  },
  {
   "cell_type": "code",
   "execution_count": 67,
   "id": "d7020610",
   "metadata": {},
   "outputs": [
    {
     "data": {
      "application/vnd.jupyter.widget-view+json": {
       "model_id": "94cf92674f7e45da84ce01283370926b",
       "version_major": 2,
       "version_minor": 0
      },
      "text/plain": [
       "Creating glimpse ID: ((3, 8), 81):   0%|          | 0/75 [00:00<?, ?it/s]"
      ]
     },
     "metadata": {},
     "output_type": "display_data"
    },
    {
     "name": "stderr",
     "output_type": "stream",
     "text": [
      "/home/dayn/miniconda3/envs/aero/lib/python3.9/site-packages/dask/array/core.py:1744: PerformanceWarning: Increasing number of chunks by factor of 23\n",
      "  return da_func(*args, **kwargs)\n"
     ]
    },
    {
     "name": "stdout",
     "output_type": "stream",
     "text": [
      "Loading glimpse stack ((3, 8), 81) into memory (can take several minutes)\n",
      "Creating mask glimpse ID: ((3, 8), 81)\n"
     ]
    },
    {
     "data": {
      "application/vnd.jupyter.widget-view+json": {
       "model_id": "e015ba8498724e678fd96d8868b34aa2",
       "version_major": 2,
       "version_minor": 0
      },
      "text/plain": [
       "Creating mask glimpse ID: ((3, 8), 81):   0%|          | 0/75 [00:00<?, ?it/s]"
      ]
     },
     "metadata": {},
     "output_type": "display_data"
    },
    {
     "name": "stderr",
     "output_type": "stream",
     "text": [
      "/tmp/ipykernel_330135/3847468708.py:45: VisibleDeprecationWarning: Creating an ndarray from ragged nested sequences (which is a list-or-tuple of lists-or-tuples-or ndarrays with different lengths or shapes) is deprecated. If you meant to do this, you must specify 'dtype=object' when creating the ndarray.\n",
      "  mask_shapes = np.asarray(coords_stack, )#axis = 0)\n",
      "/home/dayn/miniconda3/envs/aero/lib/python3.9/site-packages/napari_tools_menu/__init__.py:194: FutureWarning: Public access to Window.qt_viewer is deprecated and will be removed in\n",
      "v0.5.0. It is considered an \"implementation detail\" of the napari\n",
      "application, not part of the napari viewer model. If your use case\n",
      "requires access to qt_viewer, please open an issue to discuss.\n",
      "  self.tools_menu = ToolsMenu(self, self.qt_viewer.viewer)\n"
     ]
    }
   ],
   "source": [
    "### use acq ID to pre load correct images\n",
    "row, column = acq_ID\n",
    "images = tile.compile_mosaic(\n",
    "                             image_dir, \n",
    "                             metadata, \n",
    "                             row, \n",
    "                             column, \n",
    "                             set_plane = 'sum_proj',\n",
    "                             ).astype(np.uint16)\n",
    "### create base dirname\n",
    "basedir = f'/mnt/DATA/macrohet/results/glimpses/labelled/{acq_ID}/{ID}/'\n",
    "Path(os.path.dirname(basedir)).mkdir(parents=True, exist_ok=True)\n",
    "# ### make glimpse stack of images\n",
    "glimpse_stack = tools.create_glimpse_from_sc_df(sc_df, acq_ID, ID, images)#np.stack(glimpse_stack, axis = 1)\n",
    "### load glimpse into memory\n",
    "print(f'Loading glimpse stack {acq_ID, ID} into memory (can take several minutes)')\n",
    "glimpse_stack = glimpse_stack.compute().compute()\n",
    "\n",
    "### make glimpse stack of masks\n",
    "print(f'Creating mask glimpse ID: {acq_ID, ID}')\n",
    "mask_glimpse_stack, mask_shapes = create_mask_glimpse_from_sc_df(sc_df, acq_ID, ID, masks,)\n",
    "### get expt info\n",
    "expt_info = sc_df['Strain'].iloc[0],sc_df['Compound'].iloc[0],sc_df['Concentration'].iloc[0], sc_df['Cell ID'].iloc[0]\n",
    "expt_info = ','.join(map(str, expt_info))\n",
    "### create a set of points to anchor labels at\n",
    "label_points = [[t, 0, 500] for t in sc_df['Time (hours)']]\n",
    "### create labels\n",
    "text_overlay = f'cell ID:{acq_ID[0], acq_ID[1], ID}'\n",
    "fixed_labels = {'macrophage':['Macrophage:green' for i in range(len(mask_shapes))],\n",
    "                'mtb':['Mtb:magenta' for i in range(len(mask_shapes))],\n",
    "                'mask':[f'Mask:cyan' for i in range(len(mask_shapes))],\n",
    "                'info':[f'ID:{expt_info}' for i in range(len(mask_shapes))]}\n",
    "### create lists of labels for tidier iteration of adding labels \n",
    "labels_list = list([fixed_labels['macrophage'], fixed_labels['mtb'], fixed_labels['mask'], fixed_labels['info']])\n",
    "offset_list = list([[20,-5], [40,-5], [60,-5], [80,-5]])\n",
    "colour_list = list(['#39FF14', 'magenta', 'cyan', 'white'])\n",
    "\n",
    "### new way of checking with overlaid labels etc\n",
    "viewer = napari.Viewer()\n",
    "viewer.add_image(mask_glimpse_stack, scale = napari_scale, colormap='cyan')\n",
    "viewer.add_image(glimpse_stack, channel_axis = 0, colormap= ['green', 'magenta'], blending = ['additive', 'additive'],\n",
    "                 scale = napari_scale)\n",
    "viewer.theme = 'light'\n",
    "viewer.scale_bar.visible = True\n",
    "viewer.scale_bar.unit = 'm'\n",
    "viewer.scale_bar.font_size = text_size\n",
    "viewer.text_overlay.visible = True\n",
    "viewer.text_overlay.color = 'black'\n",
    "viewer.text_overlay.position = 'bottom_left'\n",
    "viewer.text_overlay.font_size = text_size\n",
    "viewer.dims.events.current_step.connect(update_slider)\n",
    "\n",
    "for config in zip(labels_list, offset_list, colour_list):\n",
    "    string, offset, colour = config\n",
    "    viewer.add_points(\n",
    "    label_points, \n",
    "    scale = [1, napari_scale[0], napari_scale[1]],\n",
    "    face_color = 'transparent', \n",
    "    edge_color = 'transparent', \n",
    "    text = {'string':string,\n",
    "            'anchor': 'upper_right',\n",
    "            'translation': offset,\n",
    "            'size': text_size,\n",
    "            'color': colour}, )"
   ]
  },
  {
   "cell_type": "markdown",
   "id": "629d76bd",
   "metadata": {},
   "source": [
    "# Check view "
   ]
  },
  {
   "cell_type": "code",
   "execution_count": 70,
   "id": "5564c13c",
   "metadata": {},
   "outputs": [],
   "source": [
    "time_overlay_font_size = 26\n",
    "scale_bar_font_size = 26\n",
    "label_font_size = 30\n",
    "text_colour = 'white'"
   ]
  },
  {
   "cell_type": "code",
   "execution_count": 75,
   "id": "d721c699",
   "metadata": {},
   "outputs": [],
   "source": [
    "palette = sns.color_palette('PiYG')"
   ]
  },
  {
   "cell_type": "code",
   "execution_count": 73,
   "id": "7c75a567",
   "metadata": {},
   "outputs": [
    {
     "name": "stdout",
     "output_type": "stream",
     "text": [
      "13243339.076923076 (0.0, 3.7298758059023385e-05, 3.7298758059023385e-05)\n"
     ]
    }
   ],
   "source": [
    "zoom = viewer.camera.zoom\n",
    "cam_coords = viewer.camera.center\n",
    "print(zoom, cam_coords)\n",
    "### use this to assess camera angles before proceeding"
   ]
  },
  {
   "cell_type": "code",
   "execution_count": 253,
   "id": "93fdee6e",
   "metadata": {},
   "outputs": [],
   "source": [
    "viewer.theme = 'dark'\n",
    "viewer.scale_bar.colored = True\n",
    "viewer.scale_bar.color = text_colour"
   ]
  },
  {
   "cell_type": "code",
   "execution_count": 76,
   "id": "25fe9061",
   "metadata": {},
   "outputs": [],
   "source": [
    "### create base dirname\n",
    "basedir = f'/mnt/DATA/macrohet/results/glimpses/labelled/multi_plot/{acq_ID}/{ID}/'\n",
    "Path(os.path.dirname(basedir)).mkdir(parents=True, exist_ok=True)"
   ]
  },
  {
   "cell_type": "markdown",
   "id": "a9eb77d4",
   "metadata": {},
   "source": [
    "# Then create .mp4 of glimpse and animated graphs"
   ]
  },
  {
   "cell_type": "code",
   "execution_count": 77,
   "id": "edebbb59",
   "metadata": {},
   "outputs": [
    {
     "name": "stdout",
     "output_type": "stream",
     "text": [
      "Creating glimpse image sequence ID: ((3, 8), 81)\n"
     ]
    },
    {
     "name": "stderr",
     "output_type": "stream",
     "text": [
      "/home/dayn/miniconda3/envs/aero/lib/python3.9/site-packages/napari_tools_menu/__init__.py:194: FutureWarning: Public access to Window.qt_viewer is deprecated and will be removed in\n",
      "v0.5.0. It is considered an \"implementation detail\" of the napari\n",
      "application, not part of the napari viewer model. If your use case\n",
      "requires access to qt_viewer, please open an issue to discuss.\n",
      "  self.tools_menu = ToolsMenu(self, self.qt_viewer.viewer)\n"
     ]
    },
    {
     "data": {
      "application/vnd.jupyter.widget-view+json": {
       "model_id": "b84ec8f1e2a047ae8f0346dbd302fe89",
       "version_major": 2,
       "version_minor": 0
      },
      "text/plain": [
       "Saving glimpse image sequence ID: ((3, 8), 81):   0%|          | 0/75 [00:00<?, ?it/s]"
      ]
     },
     "metadata": {},
     "output_type": "display_data"
    },
    {
     "name": "stdout",
     "output_type": "stream",
     "text": [
      "Creating mp4 glimpse ID: ((3, 8), 81)\n",
      "Creating graph image sequence ID: ((3, 8), 81)\n"
     ]
    },
    {
     "data": {
      "application/vnd.jupyter.widget-view+json": {
       "model_id": "5ed1be86a21e4a5e8141fa89dde0efdc",
       "version_major": 2,
       "version_minor": 0
      },
      "text/plain": [
       "Saving graph image sequence ID: ((3, 8), 81):   0%|          | 0/75 [00:00<?, ?it/s]"
      ]
     },
     "metadata": {},
     "output_type": "display_data"
    },
    {
     "name": "stderr",
     "output_type": "stream",
     "text": [
      "/tmp/ipykernel_330135/277814232.py:77: RuntimeWarning: More than 20 figures have been opened. Figures created through the pyplot interface (`matplotlib.pyplot.figure`) are retained until explicitly closed and may consume too much memory. (To control this warning, see the rcParam `figure.max_open_warning`).\n",
      "  fig, (ax1, ax2) = plt.subplots(1, 2, figsize=(14,5), gridspec_kw={'width_ratios': [1, 1]})\n"
     ]
    },
    {
     "name": "stdout",
     "output_type": "stream",
     "text": [
      "Creating graph and glimpse image sequence ID: ((3, 8), 81)\n"
     ]
    }
   ],
   "source": [
    "### save glimpse as a series of images\n",
    "print(f'Creating glimpse image sequence ID: {acq_ID, ID}')\n",
    "### create output directory\n",
    "glimpse_seq_basedir = os.path.join(basedir, f'{ID}_glimpse_seq')\n",
    "Path(glimpse_seq_basedir).mkdir(parents=True, exist_ok=True)\n",
    "### create napari instances and use to save glimpse frames with scale bar and time\n",
    "viewer = napari.Viewer()\n",
    "viewer.add_image(mask_glimpse_stack, scale = napari_scale, colormap='cyan')\n",
    "viewer.add_image(glimpse_stack, channel_axis = 0, colormap= ['green', 'magenta'], blending = 'additive', scale = napari_scale)\n",
    "viewer.theme = 'dark'\n",
    "viewer.scale_bar.visible = True\n",
    "viewer.scale_bar.unit = 'm'\n",
    "viewer.scale_bar.font_size = scale_bar_font_size\n",
    "viewer.scale_bar.colored = True\n",
    "viewer.scale_bar.color = text_colour\n",
    "viewer.scale_bar.ticks = False\n",
    "viewer.text_overlay.visible = True\n",
    "viewer.text_overlay.color = text_colour\n",
    "viewer.text_overlay.position = 'bottom_left'\n",
    "viewer.text_overlay.font_size = time_overlay_font_size\n",
    "viewer.dims.events.current_step.connect(update_slider)\n",
    "for config in zip(labels_list, offset_list, colour_list):\n",
    "    string, offset, colour = config\n",
    "    viewer.add_points(\n",
    "    label_points, \n",
    "    scale = [1, napari_scale[0], napari_scale[1]],\n",
    "    face_color = 'transparent', \n",
    "    edge_color = 'transparent', \n",
    "    text = {'string':string,\n",
    "            'anchor': 'upper_right',\n",
    "            'translation': offset,\n",
    "            'size': label_font_size,\n",
    "            'color': colour}, )\n",
    "### save image sequence\n",
    "for t in tqdm(list(sc_df['Time (hours)']), desc = f'Saving glimpse image sequence ID: {acq_ID, ID}'):\n",
    "    viewer.dims.current_step = (t, cam_coords[-2], cam_coords[-1])\n",
    "    viewer.camera.zoom = zoom*0.95\n",
    "    glimpse_seq_fn = os.path.join(glimpse_seq_basedir, f'glimpse_{ID}_t_{t}.tiff')\n",
    "    imsave(glimpse_seq_fn, viewer.screenshot())\n",
    "viewer.close()\n",
    "\n",
    "print(f'Creating mp4 glimpse ID: {acq_ID, ID}')\n",
    "### now compile into mp4\n",
    "mp4_fn = os.path.join(basedir, f'glimpse_{ID}.mp4')\n",
    "### compile mp4\n",
    "compile_mp4(glimpse_seq_basedir, mp4_fn, 3, fileformat = '.tiff')\n",
    "\n",
    "\n",
    "## create sequence of graph images\n",
    "print(f'Creating graph image sequence ID: {acq_ID, ID}')\n",
    "# create graph output folder\n",
    "glimpse_graph_seq_basedir = os.path.join(basedir, f'{ID}_glimpse_graph_seq')\n",
    "Path(glimpse_graph_seq_basedir).mkdir(parents = True, exist_ok = True)\n",
    "\n",
    "### create graph by interpolating missing y values\n",
    "y = gaussian_filter1d(sc_df['Intracellular Mtb content'].interpolate().values, \n",
    "                      sigma = 1.5)\n",
    "y2 = gaussian_filter1d(sc_df['Eccentricity'].interpolate().values, \n",
    "                       sigma = 1.5)\n",
    "y3 = gaussian_filter1d(sc_df['Area'].interpolate().values/sc_df['Area'].interpolate().values.max(), \n",
    "                       sigma = 1.5)\n",
    "x = sc_df['Time (hours)'].values\n",
    "\n",
    "### iterate over time points\n",
    "for n, row in tqdm(enumerate(sc_df.iterrows()), total = len(sc_df), \n",
    "                   desc = f'Saving graph image sequence ID: {acq_ID, ID}'):\n",
    "    ### select portion of data to plot up to current time point iteration\n",
    "    plot_x = x[0:n+1]\n",
    "    plot_y = y[0:n+1]\n",
    "    plot_y2 = y2[0:n+1]\n",
    "    plot_y3 = y3[0:n+1]\n",
    "    ### get time ID for labelling purposes\n",
    "    t = row[1]['Time (hours)']     \n",
    "    ### do not display plot in ipython\n",
    "    plt.ioff()\n",
    "    ### initiate plot with two components\n",
    "    fig, (ax1, ax2) = plt.subplots(1, 2, figsize=(14,5), gridspec_kw={'width_ratios': [1, 1]})\n",
    "    ### label fn with time point\n",
    "    glimpse_seq_fn = os.path.join(glimpse_seq_basedir, f'glimpse_{ID}_t_{t}.tiff')\n",
    "    ### load glimpse image from this timepoint\n",
    "    glimpse_img = imread(glimpse_seq_fn)\n",
    "    ### add glimpse frame to first part of subplot\n",
    "    ax1.imshow(glimpse_img)\n",
    "    ### turn axis off for glimpse\n",
    "    ax1.axis('off')\n",
    "    ### plot portion of graph \n",
    "    ax2.plot(plot_x, plot_y, c = palette[0],  label= 'Mtb')\n",
    "    ax3 = ax2.twinx()\n",
    "    ax3.plot(plot_x, plot_y2, c = palette[4], label = 'Eccentricity')\n",
    "    ax3.plot(plot_x, plot_y3, c = palette[5], label = 'Area')\n",
    "    ### label graph properly \n",
    "    ax2.set(xlabel = 'Time (hours)', \n",
    "            ylabel = f'Mtb content of cell ID: {ID} \\n (raw fluorescence intensity)', \n",
    "            ylim=(y.min()*0.85,y.max()*1.15), \n",
    "            xlim = (0,74))\n",
    "    ax3.set(ylabel = f'Relative area and eccentricity change', \n",
    "            ylim=(0,1), \n",
    "           )\n",
    "    ax2.legend(loc = 'lower left', fancybox = True, \n",
    "                                    framealpha = 0.8, \n",
    "#                                     edgecolor = 'cyan'\n",
    "              )\n",
    "    ax3.legend(loc = 'lower right', fancybox = True, \n",
    "                                    framealpha = 0.8, \n",
    "#                                     edgecolor = 'cyan'\n",
    "              )\n",
    "    ### despine plot\n",
    "    sns.despine(right = False, offset=10, trim=False)\n",
    "    ### new fn for joint glimpse plot\n",
    "    new_graph_fn = os.path.join(glimpse_graph_seq_basedir, f'glimpse_graph_{ID}_t_{t}.tiff')\n",
    "    plt.savefig(new_graph_fn, bbox_inches = 'tight', dpi = 314)\n",
    "## Compile single frame graphs into stack for animation\n",
    "print(f'Creating graph and glimpse image sequence ID: {acq_ID, ID}')\n",
    "### now compile into mp4\n",
    "glimpse_graph_fn = os.path.join(basedir, f'glimpse_graph_{ID}.mp4')\n",
    "compile_mp4(glimpse_graph_seq_basedir, glimpse_graph_fn, 3,)# fileformat = '.tiff')\n"
   ]
  },
  {
   "cell_type": "markdown",
   "id": "8659d63b",
   "metadata": {},
   "source": [
    "# Iteratively generate glimpses"
   ]
  },
  {
   "cell_type": "code",
   "execution_count": 117,
   "id": "1fe0b3bd",
   "metadata": {},
   "outputs": [
    {
     "data": {
      "application/vnd.jupyter.widget-view+json": {
       "model_id": "d4c702562ec94f85b4117bd7d399381d",
       "version_major": 2,
       "version_minor": 0
      },
      "text/plain": [
       "Iterating over different assays, generating two extreme glimpses per assay:   0%|          | 0/24 [00:00<?, ?i…"
      ]
     },
     "metadata": {},
     "output_type": "display_data"
    },
    {
     "data": {
      "application/vnd.jupyter.widget-view+json": {
       "model_id": "c42378bf81564c178f9f2cb4747633fa",
       "version_major": 2,
       "version_minor": 0
      },
      "text/plain": [
       "Iterating over two extreme cells in acquisition ID:(3, 4):   0%|          | 0/2 [00:00<?, ?it/s]"
      ]
     },
     "metadata": {},
     "output_type": "display_data"
    },
    {
     "data": {
      "application/vnd.jupyter.widget-view+json": {
       "model_id": "38fab4ba1ad44040bf9cdfbce31a1794",
       "version_major": 2,
       "version_minor": 0
      },
      "text/plain": [
       "Creating glimpse ID: ((3, 4), 413):   0%|          | 0/75 [00:00<?, ?it/s]"
      ]
     },
     "metadata": {},
     "output_type": "display_data"
    },
    {
     "name": "stderr",
     "output_type": "stream",
     "text": [
      "/home/dayn/miniconda3/envs/aero/lib/python3.9/site-packages/dask/array/core.py:1744: PerformanceWarning: Increasing number of chunks by factor of 16\n",
      "  return da_func(*args, **kwargs)\n"
     ]
    },
    {
     "name": "stdout",
     "output_type": "stream",
     "text": [
      "Loading glimpse stack ((3, 4), 413) into memory (can take several minutes)\n",
      "Creating mask glimpse ID: ((3, 4), 413)\n"
     ]
    },
    {
     "data": {
      "application/vnd.jupyter.widget-view+json": {
       "model_id": "012ecd044116485c84e573631c2c1e5b",
       "version_major": 2,
       "version_minor": 0
      },
      "text/plain": [
       "Creating mask glimpse ID: ((3, 4), 413):   0%|          | 0/75 [00:00<?, ?it/s]"
      ]
     },
     "metadata": {},
     "output_type": "display_data"
    },
    {
     "name": "stderr",
     "output_type": "stream",
     "text": [
      "/tmp/ipykernel_330135/3847468708.py:45: VisibleDeprecationWarning: Creating an ndarray from ragged nested sequences (which is a list-or-tuple of lists-or-tuples-or ndarrays with different lengths or shapes) is deprecated. If you meant to do this, you must specify 'dtype=object' when creating the ndarray.\n",
      "  mask_shapes = np.asarray(coords_stack, )#axis = 0)\n",
      "/home/dayn/miniconda3/envs/aero/lib/python3.9/site-packages/napari_tools_menu/__init__.py:194: FutureWarning: Public access to Window.qt_viewer is deprecated and will be removed in\n",
      "v0.5.0. It is considered an \"implementation detail\" of the napari\n",
      "application, not part of the napari viewer model. If your use case\n",
      "requires access to qt_viewer, please open an issue to discuss.\n",
      "  self.tools_menu = ToolsMenu(self, self.qt_viewer.viewer)\n"
     ]
    },
    {
     "data": {
      "application/vnd.jupyter.widget-view+json": {
       "model_id": "27eaa654ffc44452b860588dc2ddeefa",
       "version_major": 2,
       "version_minor": 0
      },
      "text/plain": [
       "Saving glimpse image sequence ID: ((3, 4), 413):   0%|          | 0/75 [00:00<?, ?it/s]"
      ]
     },
     "metadata": {},
     "output_type": "display_data"
    },
    {
     "name": "stdout",
     "output_type": "stream",
     "text": [
      "Creating mp4 glimpse ID: ((3, 4), 413)\n",
      "Creating graph image sequence ID: ((3, 4), 413)\n"
     ]
    },
    {
     "data": {
      "application/vnd.jupyter.widget-view+json": {
       "model_id": "cba566c0c60b42ed8bb3213ab21440ac",
       "version_major": 2,
       "version_minor": 0
      },
      "text/plain": [
       "Saving graph image sequence ID: ((3, 4), 413):   0%|          | 0/75 [00:00<?, ?it/s]"
      ]
     },
     "metadata": {},
     "output_type": "display_data"
    },
    {
     "name": "stdout",
     "output_type": "stream",
     "text": [
      "Creating graph and glimpse image sequence ID: ((3, 4), 413)\n"
     ]
    },
    {
     "data": {
      "application/vnd.jupyter.widget-view+json": {
       "model_id": "6feb92a5ce5e47169493028c757f6309",
       "version_major": 2,
       "version_minor": 0
      },
      "text/plain": [
       "Creating glimpse ID: ((3, 4), 452):   0%|          | 0/75 [00:00<?, ?it/s]"
      ]
     },
     "metadata": {},
     "output_type": "display_data"
    },
    {
     "name": "stderr",
     "output_type": "stream",
     "text": [
      "/home/dayn/miniconda3/envs/aero/lib/python3.9/site-packages/dask/array/core.py:1744: PerformanceWarning: Increasing number of chunks by factor of 376\n",
      "  return da_func(*args, **kwargs)\n"
     ]
    },
    {
     "name": "stdout",
     "output_type": "stream",
     "text": [
      "Loading glimpse stack ((3, 4), 452) into memory (can take several minutes)\n",
      "Creating mask glimpse ID: ((3, 4), 452)\n"
     ]
    },
    {
     "data": {
      "application/vnd.jupyter.widget-view+json": {
       "model_id": "bd35cddcf0524c7a87be1a2aafb1f178",
       "version_major": 2,
       "version_minor": 0
      },
      "text/plain": [
       "Creating mask glimpse ID: ((3, 4), 452):   0%|          | 0/75 [00:00<?, ?it/s]"
      ]
     },
     "metadata": {},
     "output_type": "display_data"
    },
    {
     "name": "stderr",
     "output_type": "stream",
     "text": [
      "/tmp/ipykernel_330135/3847468708.py:45: VisibleDeprecationWarning: Creating an ndarray from ragged nested sequences (which is a list-or-tuple of lists-or-tuples-or ndarrays with different lengths or shapes) is deprecated. If you meant to do this, you must specify 'dtype=object' when creating the ndarray.\n",
      "  mask_shapes = np.asarray(coords_stack, )#axis = 0)\n",
      "/home/dayn/miniconda3/envs/aero/lib/python3.9/site-packages/napari_tools_menu/__init__.py:194: FutureWarning: Public access to Window.qt_viewer is deprecated and will be removed in\n",
      "v0.5.0. It is considered an \"implementation detail\" of the napari\n",
      "application, not part of the napari viewer model. If your use case\n",
      "requires access to qt_viewer, please open an issue to discuss.\n",
      "  self.tools_menu = ToolsMenu(self, self.qt_viewer.viewer)\n"
     ]
    },
    {
     "data": {
      "application/vnd.jupyter.widget-view+json": {
       "model_id": "c394c949950c4be6845f0e478ad04715",
       "version_major": 2,
       "version_minor": 0
      },
      "text/plain": [
       "Saving glimpse image sequence ID: ((3, 4), 452):   0%|          | 0/75 [00:00<?, ?it/s]"
      ]
     },
     "metadata": {},
     "output_type": "display_data"
    },
    {
     "name": "stdout",
     "output_type": "stream",
     "text": [
      "Creating mp4 glimpse ID: ((3, 4), 452)\n",
      "Creating graph image sequence ID: ((3, 4), 452)\n"
     ]
    },
    {
     "data": {
      "application/vnd.jupyter.widget-view+json": {
       "model_id": "770b35c2dbdd43d0b216cc571e3f6def",
       "version_major": 2,
       "version_minor": 0
      },
      "text/plain": [
       "Saving graph image sequence ID: ((3, 4), 452):   0%|          | 0/75 [00:00<?, ?it/s]"
      ]
     },
     "metadata": {},
     "output_type": "display_data"
    },
    {
     "name": "stdout",
     "output_type": "stream",
     "text": [
      "Creating graph and glimpse image sequence ID: ((3, 4), 452)\n"
     ]
    },
    {
     "data": {
      "application/vnd.jupyter.widget-view+json": {
       "model_id": "44ef4e2721614673bd856bb2418a8ec5",
       "version_major": 2,
       "version_minor": 0
      },
      "text/plain": [
       "Iterating over two extreme cells in acquisition ID:(3, 5):   0%|          | 0/2 [00:00<?, ?it/s]"
      ]
     },
     "metadata": {},
     "output_type": "display_data"
    },
    {
     "data": {
      "application/vnd.jupyter.widget-view+json": {
       "model_id": "2a708a37c2584608bed14c522b1c326c",
       "version_major": 2,
       "version_minor": 0
      },
      "text/plain": [
       "Creating glimpse ID: ((3, 5), 232):   0%|          | 0/75 [00:00<?, ?it/s]"
      ]
     },
     "metadata": {},
     "output_type": "display_data"
    },
    {
     "name": "stdout",
     "output_type": "stream",
     "text": [
      "Loading glimpse stack ((3, 5), 232) into memory (can take several minutes)\n",
      "Creating mask glimpse ID: ((3, 5), 232)\n"
     ]
    },
    {
     "data": {
      "application/vnd.jupyter.widget-view+json": {
       "model_id": "d5b55c485d7547ba8e7aa18c860ce09c",
       "version_major": 2,
       "version_minor": 0
      },
      "text/plain": [
       "Creating mask glimpse ID: ((3, 5), 232):   0%|          | 0/75 [00:00<?, ?it/s]"
      ]
     },
     "metadata": {},
     "output_type": "display_data"
    },
    {
     "name": "stderr",
     "output_type": "stream",
     "text": [
      "/tmp/ipykernel_330135/3847468708.py:45: VisibleDeprecationWarning: Creating an ndarray from ragged nested sequences (which is a list-or-tuple of lists-or-tuples-or ndarrays with different lengths or shapes) is deprecated. If you meant to do this, you must specify 'dtype=object' when creating the ndarray.\n",
      "  mask_shapes = np.asarray(coords_stack, )#axis = 0)\n",
      "/home/dayn/miniconda3/envs/aero/lib/python3.9/site-packages/napari_tools_menu/__init__.py:194: FutureWarning: Public access to Window.qt_viewer is deprecated and will be removed in\n",
      "v0.5.0. It is considered an \"implementation detail\" of the napari\n",
      "application, not part of the napari viewer model. If your use case\n",
      "requires access to qt_viewer, please open an issue to discuss.\n",
      "  self.tools_menu = ToolsMenu(self, self.qt_viewer.viewer)\n"
     ]
    },
    {
     "data": {
      "application/vnd.jupyter.widget-view+json": {
       "model_id": "dd2912863e534a79b8e39e0cc57a369d",
       "version_major": 2,
       "version_minor": 0
      },
      "text/plain": [
       "Saving glimpse image sequence ID: ((3, 5), 232):   0%|          | 0/75 [00:00<?, ?it/s]"
      ]
     },
     "metadata": {},
     "output_type": "display_data"
    },
    {
     "name": "stdout",
     "output_type": "stream",
     "text": [
      "Creating mp4 glimpse ID: ((3, 5), 232)\n",
      "Creating graph image sequence ID: ((3, 5), 232)\n"
     ]
    },
    {
     "data": {
      "application/vnd.jupyter.widget-view+json": {
       "model_id": "f9e0540580c04486bb9ef3a4fc38cc51",
       "version_major": 2,
       "version_minor": 0
      },
      "text/plain": [
       "Saving graph image sequence ID: ((3, 5), 232):   0%|          | 0/75 [00:00<?, ?it/s]"
      ]
     },
     "metadata": {},
     "output_type": "display_data"
    },
    {
     "name": "stdout",
     "output_type": "stream",
     "text": [
      "Creating graph and glimpse image sequence ID: ((3, 5), 232)\n"
     ]
    },
    {
     "data": {
      "application/vnd.jupyter.widget-view+json": {
       "model_id": "b9432d89a6e949648f1f8fc6f5c6b798",
       "version_major": 2,
       "version_minor": 0
      },
      "text/plain": [
       "Creating glimpse ID: ((3, 5), 304):   0%|          | 0/75 [00:00<?, ?it/s]"
      ]
     },
     "metadata": {},
     "output_type": "display_data"
    },
    {
     "name": "stderr",
     "output_type": "stream",
     "text": [
      "/home/dayn/miniconda3/envs/aero/lib/python3.9/site-packages/dask/array/core.py:1744: PerformanceWarning: Increasing number of chunks by factor of 33\n",
      "  return da_func(*args, **kwargs)\n"
     ]
    },
    {
     "name": "stdout",
     "output_type": "stream",
     "text": [
      "Loading glimpse stack ((3, 5), 304) into memory (can take several minutes)\n",
      "Creating mask glimpse ID: ((3, 5), 304)\n"
     ]
    },
    {
     "data": {
      "application/vnd.jupyter.widget-view+json": {
       "model_id": "31fc992ce8914904a03a911e5d512a83",
       "version_major": 2,
       "version_minor": 0
      },
      "text/plain": [
       "Creating mask glimpse ID: ((3, 5), 304):   0%|          | 0/75 [00:00<?, ?it/s]"
      ]
     },
     "metadata": {},
     "output_type": "display_data"
    },
    {
     "name": "stderr",
     "output_type": "stream",
     "text": [
      "/tmp/ipykernel_330135/3847468708.py:45: VisibleDeprecationWarning: Creating an ndarray from ragged nested sequences (which is a list-or-tuple of lists-or-tuples-or ndarrays with different lengths or shapes) is deprecated. If you meant to do this, you must specify 'dtype=object' when creating the ndarray.\n",
      "  mask_shapes = np.asarray(coords_stack, )#axis = 0)\n",
      "/home/dayn/miniconda3/envs/aero/lib/python3.9/site-packages/napari_tools_menu/__init__.py:194: FutureWarning: Public access to Window.qt_viewer is deprecated and will be removed in\n",
      "v0.5.0. It is considered an \"implementation detail\" of the napari\n",
      "application, not part of the napari viewer model. If your use case\n",
      "requires access to qt_viewer, please open an issue to discuss.\n",
      "  self.tools_menu = ToolsMenu(self, self.qt_viewer.viewer)\n"
     ]
    },
    {
     "data": {
      "application/vnd.jupyter.widget-view+json": {
       "model_id": "6d02abfb01c54b3ab3d26327dd6267c5",
       "version_major": 2,
       "version_minor": 0
      },
      "text/plain": [
       "Saving glimpse image sequence ID: ((3, 5), 304):   0%|          | 0/75 [00:00<?, ?it/s]"
      ]
     },
     "metadata": {},
     "output_type": "display_data"
    },
    {
     "name": "stdout",
     "output_type": "stream",
     "text": [
      "Creating mp4 glimpse ID: ((3, 5), 304)\n",
      "Creating graph image sequence ID: ((3, 5), 304)\n"
     ]
    },
    {
     "data": {
      "application/vnd.jupyter.widget-view+json": {
       "model_id": "028a453b1c964238ac5750fd009e98ba",
       "version_major": 2,
       "version_minor": 0
      },
      "text/plain": [
       "Saving graph image sequence ID: ((3, 5), 304):   0%|          | 0/75 [00:00<?, ?it/s]"
      ]
     },
     "metadata": {},
     "output_type": "display_data"
    },
    {
     "name": "stdout",
     "output_type": "stream",
     "text": [
      "Creating graph and glimpse image sequence ID: ((3, 5), 304)\n"
     ]
    },
    {
     "data": {
      "application/vnd.jupyter.widget-view+json": {
       "model_id": "7e0367e60a8b49799e652effc9b48609",
       "version_major": 2,
       "version_minor": 0
      },
      "text/plain": [
       "Iterating over two extreme cells in acquisition ID:(3, 6):   0%|          | 0/2 [00:00<?, ?it/s]"
      ]
     },
     "metadata": {},
     "output_type": "display_data"
    },
    {
     "data": {
      "application/vnd.jupyter.widget-view+json": {
       "model_id": "6b85f74ea02748e79a73c1c82a55af4d",
       "version_major": 2,
       "version_minor": 0
      },
      "text/plain": [
       "Creating glimpse ID: ((3, 6), 72):   0%|          | 0/75 [00:00<?, ?it/s]"
      ]
     },
     "metadata": {},
     "output_type": "display_data"
    },
    {
     "name": "stderr",
     "output_type": "stream",
     "text": [
      "/home/dayn/miniconda3/envs/aero/lib/python3.9/site-packages/dask/array/core.py:1744: PerformanceWarning: Increasing number of chunks by factor of 29\n",
      "  return da_func(*args, **kwargs)\n"
     ]
    },
    {
     "name": "stdout",
     "output_type": "stream",
     "text": [
      "Loading glimpse stack ((3, 6), 72) into memory (can take several minutes)\n",
      "Creating mask glimpse ID: ((3, 6), 72)\n"
     ]
    },
    {
     "data": {
      "application/vnd.jupyter.widget-view+json": {
       "model_id": "68e811190a52443a86c7d94d3f96a14f",
       "version_major": 2,
       "version_minor": 0
      },
      "text/plain": [
       "Creating mask glimpse ID: ((3, 6), 72):   0%|          | 0/75 [00:00<?, ?it/s]"
      ]
     },
     "metadata": {},
     "output_type": "display_data"
    },
    {
     "name": "stderr",
     "output_type": "stream",
     "text": [
      "/tmp/ipykernel_330135/3847468708.py:45: VisibleDeprecationWarning: Creating an ndarray from ragged nested sequences (which is a list-or-tuple of lists-or-tuples-or ndarrays with different lengths or shapes) is deprecated. If you meant to do this, you must specify 'dtype=object' when creating the ndarray.\n",
      "  mask_shapes = np.asarray(coords_stack, )#axis = 0)\n",
      "/home/dayn/miniconda3/envs/aero/lib/python3.9/site-packages/napari_tools_menu/__init__.py:194: FutureWarning: Public access to Window.qt_viewer is deprecated and will be removed in\n",
      "v0.5.0. It is considered an \"implementation detail\" of the napari\n",
      "application, not part of the napari viewer model. If your use case\n",
      "requires access to qt_viewer, please open an issue to discuss.\n",
      "  self.tools_menu = ToolsMenu(self, self.qt_viewer.viewer)\n"
     ]
    },
    {
     "data": {
      "application/vnd.jupyter.widget-view+json": {
       "model_id": "be4c37b1900b4c37b1c48593a5e2f8f8",
       "version_major": 2,
       "version_minor": 0
      },
      "text/plain": [
       "Saving glimpse image sequence ID: ((3, 6), 72):   0%|          | 0/75 [00:00<?, ?it/s]"
      ]
     },
     "metadata": {},
     "output_type": "display_data"
    },
    {
     "name": "stdout",
     "output_type": "stream",
     "text": [
      "Creating mp4 glimpse ID: ((3, 6), 72)\n",
      "Creating graph image sequence ID: ((3, 6), 72)\n"
     ]
    },
    {
     "data": {
      "application/vnd.jupyter.widget-view+json": {
       "model_id": "82a86a247c874319a8c931bd89b5f782",
       "version_major": 2,
       "version_minor": 0
      },
      "text/plain": [
       "Saving graph image sequence ID: ((3, 6), 72):   0%|          | 0/75 [00:00<?, ?it/s]"
      ]
     },
     "metadata": {},
     "output_type": "display_data"
    },
    {
     "name": "stdout",
     "output_type": "stream",
     "text": [
      "Creating graph and glimpse image sequence ID: ((3, 6), 72)\n"
     ]
    },
    {
     "data": {
      "application/vnd.jupyter.widget-view+json": {
       "model_id": "c5a7c24a34734dd5a6082afa6d3c5da6",
       "version_major": 2,
       "version_minor": 0
      },
      "text/plain": [
       "Creating glimpse ID: ((3, 6), 159):   0%|          | 0/75 [00:00<?, ?it/s]"
      ]
     },
     "metadata": {},
     "output_type": "display_data"
    },
    {
     "name": "stderr",
     "output_type": "stream",
     "text": [
      "/home/dayn/miniconda3/envs/aero/lib/python3.9/site-packages/dask/array/core.py:1744: PerformanceWarning: Increasing number of chunks by factor of 18\n",
      "  return da_func(*args, **kwargs)\n"
     ]
    },
    {
     "name": "stdout",
     "output_type": "stream",
     "text": [
      "Loading glimpse stack ((3, 6), 159) into memory (can take several minutes)\n",
      "Creating mask glimpse ID: ((3, 6), 159)\n"
     ]
    },
    {
     "data": {
      "application/vnd.jupyter.widget-view+json": {
       "model_id": "e2c40f509426434dbbafc4fed5441b31",
       "version_major": 2,
       "version_minor": 0
      },
      "text/plain": [
       "Creating mask glimpse ID: ((3, 6), 159):   0%|          | 0/75 [00:00<?, ?it/s]"
      ]
     },
     "metadata": {},
     "output_type": "display_data"
    },
    {
     "name": "stderr",
     "output_type": "stream",
     "text": [
      "/tmp/ipykernel_330135/3847468708.py:45: VisibleDeprecationWarning: Creating an ndarray from ragged nested sequences (which is a list-or-tuple of lists-or-tuples-or ndarrays with different lengths or shapes) is deprecated. If you meant to do this, you must specify 'dtype=object' when creating the ndarray.\n",
      "  mask_shapes = np.asarray(coords_stack, )#axis = 0)\n",
      "/home/dayn/miniconda3/envs/aero/lib/python3.9/site-packages/napari_tools_menu/__init__.py:194: FutureWarning: Public access to Window.qt_viewer is deprecated and will be removed in\n",
      "v0.5.0. It is considered an \"implementation detail\" of the napari\n",
      "application, not part of the napari viewer model. If your use case\n",
      "requires access to qt_viewer, please open an issue to discuss.\n",
      "  self.tools_menu = ToolsMenu(self, self.qt_viewer.viewer)\n"
     ]
    },
    {
     "data": {
      "application/vnd.jupyter.widget-view+json": {
       "model_id": "e276bad509df44cdac95bcd78c44569c",
       "version_major": 2,
       "version_minor": 0
      },
      "text/plain": [
       "Saving glimpse image sequence ID: ((3, 6), 159):   0%|          | 0/75 [00:00<?, ?it/s]"
      ]
     },
     "metadata": {},
     "output_type": "display_data"
    },
    {
     "name": "stdout",
     "output_type": "stream",
     "text": [
      "Creating mp4 glimpse ID: ((3, 6), 159)\n",
      "Creating graph image sequence ID: ((3, 6), 159)\n"
     ]
    },
    {
     "data": {
      "application/vnd.jupyter.widget-view+json": {
       "model_id": "2c3ad11568fb4ee9b5c5886ff07d81f8",
       "version_major": 2,
       "version_minor": 0
      },
      "text/plain": [
       "Saving graph image sequence ID: ((3, 6), 159):   0%|          | 0/75 [00:00<?, ?it/s]"
      ]
     },
     "metadata": {},
     "output_type": "display_data"
    },
    {
     "name": "stdout",
     "output_type": "stream",
     "text": [
      "Creating graph and glimpse image sequence ID: ((3, 6), 159)\n"
     ]
    },
    {
     "data": {
      "application/vnd.jupyter.widget-view+json": {
       "model_id": "0424f1608dbc428aac96733a560f4b24",
       "version_major": 2,
       "version_minor": 0
      },
      "text/plain": [
       "Iterating over two extreme cells in acquisition ID:(3, 7):   0%|          | 0/2 [00:00<?, ?it/s]"
      ]
     },
     "metadata": {},
     "output_type": "display_data"
    },
    {
     "data": {
      "application/vnd.jupyter.widget-view+json": {
       "model_id": "c68a21a5d8bc4616b055a24e4ce22ccb",
       "version_major": 2,
       "version_minor": 0
      },
      "text/plain": [
       "Creating glimpse ID: ((3, 7), 45):   0%|          | 0/75 [00:00<?, ?it/s]"
      ]
     },
     "metadata": {},
     "output_type": "display_data"
    },
    {
     "name": "stderr",
     "output_type": "stream",
     "text": [
      "/home/dayn/miniconda3/envs/aero/lib/python3.9/site-packages/dask/array/core.py:1744: PerformanceWarning: Increasing number of chunks by factor of 25\n",
      "  return da_func(*args, **kwargs)\n"
     ]
    },
    {
     "name": "stdout",
     "output_type": "stream",
     "text": [
      "Loading glimpse stack ((3, 7), 45) into memory (can take several minutes)\n",
      "Creating mask glimpse ID: ((3, 7), 45)\n"
     ]
    },
    {
     "data": {
      "application/vnd.jupyter.widget-view+json": {
       "model_id": "9b53765b47704ef3a49b828db3002814",
       "version_major": 2,
       "version_minor": 0
      },
      "text/plain": [
       "Creating mask glimpse ID: ((3, 7), 45):   0%|          | 0/75 [00:00<?, ?it/s]"
      ]
     },
     "metadata": {},
     "output_type": "display_data"
    },
    {
     "name": "stderr",
     "output_type": "stream",
     "text": [
      "/tmp/ipykernel_330135/3847468708.py:45: VisibleDeprecationWarning: Creating an ndarray from ragged nested sequences (which is a list-or-tuple of lists-or-tuples-or ndarrays with different lengths or shapes) is deprecated. If you meant to do this, you must specify 'dtype=object' when creating the ndarray.\n",
      "  mask_shapes = np.asarray(coords_stack, )#axis = 0)\n",
      "/home/dayn/miniconda3/envs/aero/lib/python3.9/site-packages/napari_tools_menu/__init__.py:194: FutureWarning: Public access to Window.qt_viewer is deprecated and will be removed in\n",
      "v0.5.0. It is considered an \"implementation detail\" of the napari\n",
      "application, not part of the napari viewer model. If your use case\n",
      "requires access to qt_viewer, please open an issue to discuss.\n",
      "  self.tools_menu = ToolsMenu(self, self.qt_viewer.viewer)\n"
     ]
    },
    {
     "data": {
      "application/vnd.jupyter.widget-view+json": {
       "model_id": "17205a48cd934a5c814a25b245341074",
       "version_major": 2,
       "version_minor": 0
      },
      "text/plain": [
       "Saving glimpse image sequence ID: ((3, 7), 45):   0%|          | 0/75 [00:00<?, ?it/s]"
      ]
     },
     "metadata": {},
     "output_type": "display_data"
    },
    {
     "name": "stdout",
     "output_type": "stream",
     "text": [
      "Creating mp4 glimpse ID: ((3, 7), 45)\n",
      "Creating graph image sequence ID: ((3, 7), 45)\n"
     ]
    },
    {
     "data": {
      "application/vnd.jupyter.widget-view+json": {
       "model_id": "01a2586f59ba4d43af04bc0fa0d9b5b3",
       "version_major": 2,
       "version_minor": 0
      },
      "text/plain": [
       "Saving graph image sequence ID: ((3, 7), 45):   0%|          | 0/75 [00:00<?, ?it/s]"
      ]
     },
     "metadata": {},
     "output_type": "display_data"
    },
    {
     "name": "stdout",
     "output_type": "stream",
     "text": [
      "Creating graph and glimpse image sequence ID: ((3, 7), 45)\n"
     ]
    },
    {
     "data": {
      "application/vnd.jupyter.widget-view+json": {
       "model_id": "0fd8e186230043d48778c841bc66369d",
       "version_major": 2,
       "version_minor": 0
      },
      "text/plain": [
       "Creating glimpse ID: ((3, 7), 283):   0%|          | 0/75 [00:00<?, ?it/s]"
      ]
     },
     "metadata": {},
     "output_type": "display_data"
    },
    {
     "name": "stderr",
     "output_type": "stream",
     "text": [
      "/home/dayn/miniconda3/envs/aero/lib/python3.9/site-packages/dask/array/core.py:1744: PerformanceWarning: Increasing number of chunks by factor of 22\n",
      "  return da_func(*args, **kwargs)\n"
     ]
    },
    {
     "name": "stdout",
     "output_type": "stream",
     "text": [
      "Loading glimpse stack ((3, 7), 283) into memory (can take several minutes)\n",
      "Creating mask glimpse ID: ((3, 7), 283)\n"
     ]
    },
    {
     "data": {
      "application/vnd.jupyter.widget-view+json": {
       "model_id": "9299a309a40443699e50bddf43d12452",
       "version_major": 2,
       "version_minor": 0
      },
      "text/plain": [
       "Creating mask glimpse ID: ((3, 7), 283):   0%|          | 0/75 [00:00<?, ?it/s]"
      ]
     },
     "metadata": {},
     "output_type": "display_data"
    },
    {
     "name": "stderr",
     "output_type": "stream",
     "text": [
      "/tmp/ipykernel_330135/3847468708.py:45: VisibleDeprecationWarning: Creating an ndarray from ragged nested sequences (which is a list-or-tuple of lists-or-tuples-or ndarrays with different lengths or shapes) is deprecated. If you meant to do this, you must specify 'dtype=object' when creating the ndarray.\n",
      "  mask_shapes = np.asarray(coords_stack, )#axis = 0)\n",
      "/home/dayn/miniconda3/envs/aero/lib/python3.9/site-packages/napari_tools_menu/__init__.py:194: FutureWarning: Public access to Window.qt_viewer is deprecated and will be removed in\n",
      "v0.5.0. It is considered an \"implementation detail\" of the napari\n",
      "application, not part of the napari viewer model. If your use case\n",
      "requires access to qt_viewer, please open an issue to discuss.\n",
      "  self.tools_menu = ToolsMenu(self, self.qt_viewer.viewer)\n"
     ]
    },
    {
     "data": {
      "application/vnd.jupyter.widget-view+json": {
       "model_id": "e2cac0211dd34b87bd3f704fadc3b0f2",
       "version_major": 2,
       "version_minor": 0
      },
      "text/plain": [
       "Saving glimpse image sequence ID: ((3, 7), 283):   0%|          | 0/75 [00:00<?, ?it/s]"
      ]
     },
     "metadata": {},
     "output_type": "display_data"
    },
    {
     "name": "stdout",
     "output_type": "stream",
     "text": [
      "Creating mp4 glimpse ID: ((3, 7), 283)\n",
      "Creating graph image sequence ID: ((3, 7), 283)\n"
     ]
    },
    {
     "data": {
      "application/vnd.jupyter.widget-view+json": {
       "model_id": "6e924810abf74588bb846f6222217629",
       "version_major": 2,
       "version_minor": 0
      },
      "text/plain": [
       "Saving graph image sequence ID: ((3, 7), 283):   0%|          | 0/75 [00:00<?, ?it/s]"
      ]
     },
     "metadata": {},
     "output_type": "display_data"
    },
    {
     "name": "stdout",
     "output_type": "stream",
     "text": [
      "Creating graph and glimpse image sequence ID: ((3, 7), 283)\n"
     ]
    },
    {
     "data": {
      "application/vnd.jupyter.widget-view+json": {
       "model_id": "0df2a4a767ce49bf89b1c6f4ea7839a5",
       "version_major": 2,
       "version_minor": 0
      },
      "text/plain": [
       "Iterating over two extreme cells in acquisition ID:(3, 8):   0%|          | 0/2 [00:00<?, ?it/s]"
      ]
     },
     "metadata": {},
     "output_type": "display_data"
    },
    {
     "data": {
      "application/vnd.jupyter.widget-view+json": {
       "model_id": "0ccf9d29ec4244419b6df5bcb8d66346",
       "version_major": 2,
       "version_minor": 0
      },
      "text/plain": [
       "Creating glimpse ID: ((3, 8), 300):   0%|          | 0/75 [00:00<?, ?it/s]"
      ]
     },
     "metadata": {},
     "output_type": "display_data"
    },
    {
     "name": "stdout",
     "output_type": "stream",
     "text": [
      "Loading glimpse stack ((3, 8), 300) into memory (can take several minutes)\n",
      "Creating mask glimpse ID: ((3, 8), 300)\n"
     ]
    },
    {
     "data": {
      "application/vnd.jupyter.widget-view+json": {
       "model_id": "a0b928b7b64044739f7261b0da2138a8",
       "version_major": 2,
       "version_minor": 0
      },
      "text/plain": [
       "Creating mask glimpse ID: ((3, 8), 300):   0%|          | 0/75 [00:00<?, ?it/s]"
      ]
     },
     "metadata": {},
     "output_type": "display_data"
    },
    {
     "name": "stderr",
     "output_type": "stream",
     "text": [
      "/tmp/ipykernel_330135/3847468708.py:45: VisibleDeprecationWarning: Creating an ndarray from ragged nested sequences (which is a list-or-tuple of lists-or-tuples-or ndarrays with different lengths or shapes) is deprecated. If you meant to do this, you must specify 'dtype=object' when creating the ndarray.\n",
      "  mask_shapes = np.asarray(coords_stack, )#axis = 0)\n",
      "/home/dayn/miniconda3/envs/aero/lib/python3.9/site-packages/napari_tools_menu/__init__.py:194: FutureWarning: Public access to Window.qt_viewer is deprecated and will be removed in\n",
      "v0.5.0. It is considered an \"implementation detail\" of the napari\n",
      "application, not part of the napari viewer model. If your use case\n",
      "requires access to qt_viewer, please open an issue to discuss.\n",
      "  self.tools_menu = ToolsMenu(self, self.qt_viewer.viewer)\n"
     ]
    },
    {
     "data": {
      "application/vnd.jupyter.widget-view+json": {
       "model_id": "6999584222204172ac00cea5b74f2bb9",
       "version_major": 2,
       "version_minor": 0
      },
      "text/plain": [
       "Saving glimpse image sequence ID: ((3, 8), 300):   0%|          | 0/75 [00:00<?, ?it/s]"
      ]
     },
     "metadata": {},
     "output_type": "display_data"
    },
    {
     "name": "stdout",
     "output_type": "stream",
     "text": [
      "Creating mp4 glimpse ID: ((3, 8), 300)\n",
      "Creating graph image sequence ID: ((3, 8), 300)\n"
     ]
    },
    {
     "data": {
      "application/vnd.jupyter.widget-view+json": {
       "model_id": "831c2279c4c545a787fc8ff6acd09d21",
       "version_major": 2,
       "version_minor": 0
      },
      "text/plain": [
       "Saving graph image sequence ID: ((3, 8), 300):   0%|          | 0/75 [00:00<?, ?it/s]"
      ]
     },
     "metadata": {},
     "output_type": "display_data"
    },
    {
     "name": "stdout",
     "output_type": "stream",
     "text": [
      "Creating graph and glimpse image sequence ID: ((3, 8), 300)\n"
     ]
    },
    {
     "data": {
      "application/vnd.jupyter.widget-view+json": {
       "model_id": "0f7c53e8a6774b22bd468474f5c2ff85",
       "version_major": 2,
       "version_minor": 0
      },
      "text/plain": [
       "Creating glimpse ID: ((3, 8), 81):   0%|          | 0/75 [00:00<?, ?it/s]"
      ]
     },
     "metadata": {},
     "output_type": "display_data"
    },
    {
     "name": "stderr",
     "output_type": "stream",
     "text": [
      "/home/dayn/miniconda3/envs/aero/lib/python3.9/site-packages/dask/array/core.py:1744: PerformanceWarning: Increasing number of chunks by factor of 23\n",
      "  return da_func(*args, **kwargs)\n"
     ]
    },
    {
     "name": "stdout",
     "output_type": "stream",
     "text": [
      "Loading glimpse stack ((3, 8), 81) into memory (can take several minutes)\n",
      "Creating mask glimpse ID: ((3, 8), 81)\n"
     ]
    },
    {
     "data": {
      "application/vnd.jupyter.widget-view+json": {
       "model_id": "65b9f0085148481898b9f0ca672ecca3",
       "version_major": 2,
       "version_minor": 0
      },
      "text/plain": [
       "Creating mask glimpse ID: ((3, 8), 81):   0%|          | 0/75 [00:00<?, ?it/s]"
      ]
     },
     "metadata": {},
     "output_type": "display_data"
    },
    {
     "name": "stderr",
     "output_type": "stream",
     "text": [
      "/tmp/ipykernel_330135/3847468708.py:45: VisibleDeprecationWarning: Creating an ndarray from ragged nested sequences (which is a list-or-tuple of lists-or-tuples-or ndarrays with different lengths or shapes) is deprecated. If you meant to do this, you must specify 'dtype=object' when creating the ndarray.\n",
      "  mask_shapes = np.asarray(coords_stack, )#axis = 0)\n",
      "/home/dayn/miniconda3/envs/aero/lib/python3.9/site-packages/napari_tools_menu/__init__.py:194: FutureWarning: Public access to Window.qt_viewer is deprecated and will be removed in\n",
      "v0.5.0. It is considered an \"implementation detail\" of the napari\n",
      "application, not part of the napari viewer model. If your use case\n",
      "requires access to qt_viewer, please open an issue to discuss.\n",
      "  self.tools_menu = ToolsMenu(self, self.qt_viewer.viewer)\n"
     ]
    },
    {
     "data": {
      "application/vnd.jupyter.widget-view+json": {
       "model_id": "4bd3ecaad1c94e5388ff4ef22d383fd0",
       "version_major": 2,
       "version_minor": 0
      },
      "text/plain": [
       "Saving glimpse image sequence ID: ((3, 8), 81):   0%|          | 0/75 [00:00<?, ?it/s]"
      ]
     },
     "metadata": {},
     "output_type": "display_data"
    },
    {
     "name": "stdout",
     "output_type": "stream",
     "text": [
      "Creating mp4 glimpse ID: ((3, 8), 81)\n",
      "Creating graph image sequence ID: ((3, 8), 81)\n"
     ]
    },
    {
     "data": {
      "application/vnd.jupyter.widget-view+json": {
       "model_id": "bb354e4aa6d8443585258835ecd99e77",
       "version_major": 2,
       "version_minor": 0
      },
      "text/plain": [
       "Saving graph image sequence ID: ((3, 8), 81):   0%|          | 0/75 [00:00<?, ?it/s]"
      ]
     },
     "metadata": {},
     "output_type": "display_data"
    },
    {
     "name": "stdout",
     "output_type": "stream",
     "text": [
      "Creating graph and glimpse image sequence ID: ((3, 8), 81)\n"
     ]
    },
    {
     "data": {
      "application/vnd.jupyter.widget-view+json": {
       "model_id": "8ec0451d3b8f49fb8c62ec7a8cb8c732",
       "version_major": 2,
       "version_minor": 0
      },
      "text/plain": [
       "Iterating over two extreme cells in acquisition ID:(3, 9):   0%|          | 0/2 [00:00<?, ?it/s]"
      ]
     },
     "metadata": {},
     "output_type": "display_data"
    },
    {
     "data": {
      "application/vnd.jupyter.widget-view+json": {
       "model_id": "f2b01a0dda5d4d66b4a08a2dff70fa7b",
       "version_major": 2,
       "version_minor": 0
      },
      "text/plain": [
       "Creating glimpse ID: ((3, 9), 231):   0%|          | 0/75 [00:00<?, ?it/s]"
      ]
     },
     "metadata": {},
     "output_type": "display_data"
    },
    {
     "name": "stdout",
     "output_type": "stream",
     "text": [
      "Loading glimpse stack ((3, 9), 231) into memory (can take several minutes)\n",
      "Creating mask glimpse ID: ((3, 9), 231)\n"
     ]
    },
    {
     "data": {
      "application/vnd.jupyter.widget-view+json": {
       "model_id": "9d4dad7f95b2405b919ce83927d00bf4",
       "version_major": 2,
       "version_minor": 0
      },
      "text/plain": [
       "Creating mask glimpse ID: ((3, 9), 231):   0%|          | 0/75 [00:00<?, ?it/s]"
      ]
     },
     "metadata": {},
     "output_type": "display_data"
    },
    {
     "name": "stderr",
     "output_type": "stream",
     "text": [
      "/tmp/ipykernel_330135/3847468708.py:45: VisibleDeprecationWarning: Creating an ndarray from ragged nested sequences (which is a list-or-tuple of lists-or-tuples-or ndarrays with different lengths or shapes) is deprecated. If you meant to do this, you must specify 'dtype=object' when creating the ndarray.\n",
      "  mask_shapes = np.asarray(coords_stack, )#axis = 0)\n",
      "/home/dayn/miniconda3/envs/aero/lib/python3.9/site-packages/napari_tools_menu/__init__.py:194: FutureWarning: Public access to Window.qt_viewer is deprecated and will be removed in\n",
      "v0.5.0. It is considered an \"implementation detail\" of the napari\n",
      "application, not part of the napari viewer model. If your use case\n",
      "requires access to qt_viewer, please open an issue to discuss.\n",
      "  self.tools_menu = ToolsMenu(self, self.qt_viewer.viewer)\n"
     ]
    },
    {
     "data": {
      "application/vnd.jupyter.widget-view+json": {
       "model_id": "73caaa65ffa8489c86543ab4e862c78a",
       "version_major": 2,
       "version_minor": 0
      },
      "text/plain": [
       "Saving glimpse image sequence ID: ((3, 9), 231):   0%|          | 0/75 [00:00<?, ?it/s]"
      ]
     },
     "metadata": {},
     "output_type": "display_data"
    },
    {
     "name": "stdout",
     "output_type": "stream",
     "text": [
      "Creating mp4 glimpse ID: ((3, 9), 231)\n",
      "Creating graph image sequence ID: ((3, 9), 231)\n"
     ]
    },
    {
     "data": {
      "application/vnd.jupyter.widget-view+json": {
       "model_id": "c6346fbfc6374be795acb88669cbbad4",
       "version_major": 2,
       "version_minor": 0
      },
      "text/plain": [
       "Saving graph image sequence ID: ((3, 9), 231):   0%|          | 0/75 [00:00<?, ?it/s]"
      ]
     },
     "metadata": {},
     "output_type": "display_data"
    },
    {
     "name": "stdout",
     "output_type": "stream",
     "text": [
      "Creating graph and glimpse image sequence ID: ((3, 9), 231)\n"
     ]
    },
    {
     "data": {
      "application/vnd.jupyter.widget-view+json": {
       "model_id": "0909d9b48c1044e0998cc9d3bbe13187",
       "version_major": 2,
       "version_minor": 0
      },
      "text/plain": [
       "Creating glimpse ID: ((3, 9), 414):   0%|          | 0/75 [00:00<?, ?it/s]"
      ]
     },
     "metadata": {},
     "output_type": "display_data"
    },
    {
     "name": "stderr",
     "output_type": "stream",
     "text": [
      "/home/dayn/miniconda3/envs/aero/lib/python3.9/site-packages/dask/array/core.py:1744: PerformanceWarning: Increasing number of chunks by factor of 25\n",
      "  return da_func(*args, **kwargs)\n"
     ]
    },
    {
     "name": "stdout",
     "output_type": "stream",
     "text": [
      "Loading glimpse stack ((3, 9), 414) into memory (can take several minutes)\n",
      "Creating mask glimpse ID: ((3, 9), 414)\n"
     ]
    },
    {
     "data": {
      "application/vnd.jupyter.widget-view+json": {
       "model_id": "157553934e304074a390fb83e0b598b3",
       "version_major": 2,
       "version_minor": 0
      },
      "text/plain": [
       "Creating mask glimpse ID: ((3, 9), 414):   0%|          | 0/75 [00:00<?, ?it/s]"
      ]
     },
     "metadata": {},
     "output_type": "display_data"
    },
    {
     "name": "stderr",
     "output_type": "stream",
     "text": [
      "/tmp/ipykernel_330135/3847468708.py:45: VisibleDeprecationWarning: Creating an ndarray from ragged nested sequences (which is a list-or-tuple of lists-or-tuples-or ndarrays with different lengths or shapes) is deprecated. If you meant to do this, you must specify 'dtype=object' when creating the ndarray.\n",
      "  mask_shapes = np.asarray(coords_stack, )#axis = 0)\n",
      "/home/dayn/miniconda3/envs/aero/lib/python3.9/site-packages/napari_tools_menu/__init__.py:194: FutureWarning: Public access to Window.qt_viewer is deprecated and will be removed in\n",
      "v0.5.0. It is considered an \"implementation detail\" of the napari\n",
      "application, not part of the napari viewer model. If your use case\n",
      "requires access to qt_viewer, please open an issue to discuss.\n",
      "  self.tools_menu = ToolsMenu(self, self.qt_viewer.viewer)\n"
     ]
    },
    {
     "data": {
      "application/vnd.jupyter.widget-view+json": {
       "model_id": "b3672669326f488b9bc86028a2c06cd4",
       "version_major": 2,
       "version_minor": 0
      },
      "text/plain": [
       "Saving glimpse image sequence ID: ((3, 9), 414):   0%|          | 0/75 [00:00<?, ?it/s]"
      ]
     },
     "metadata": {},
     "output_type": "display_data"
    },
    {
     "name": "stdout",
     "output_type": "stream",
     "text": [
      "Creating mp4 glimpse ID: ((3, 9), 414)\n",
      "Creating graph image sequence ID: ((3, 9), 414)\n"
     ]
    },
    {
     "data": {
      "application/vnd.jupyter.widget-view+json": {
       "model_id": "0c4b1820cb2a43bdae847d59c33c9630",
       "version_major": 2,
       "version_minor": 0
      },
      "text/plain": [
       "Saving graph image sequence ID: ((3, 9), 414):   0%|          | 0/75 [00:00<?, ?it/s]"
      ]
     },
     "metadata": {},
     "output_type": "display_data"
    },
    {
     "name": "stdout",
     "output_type": "stream",
     "text": [
      "Creating graph and glimpse image sequence ID: ((3, 9), 414)\n"
     ]
    },
    {
     "data": {
      "application/vnd.jupyter.widget-view+json": {
       "model_id": "837b8025e6614a6fb3743bfb0199d478",
       "version_major": 2,
       "version_minor": 0
      },
      "text/plain": [
       "Iterating over two extreme cells in acquisition ID:(4, 4):   0%|          | 0/2 [00:00<?, ?it/s]"
      ]
     },
     "metadata": {},
     "output_type": "display_data"
    },
    {
     "data": {
      "application/vnd.jupyter.widget-view+json": {
       "model_id": "f095471808f84e77b40bffbf49fc5b4e",
       "version_major": 2,
       "version_minor": 0
      },
      "text/plain": [
       "Creating glimpse ID: ((4, 4), 68):   0%|          | 0/75 [00:00<?, ?it/s]"
      ]
     },
     "metadata": {},
     "output_type": "display_data"
    },
    {
     "name": "stdout",
     "output_type": "stream",
     "text": [
      "Loading glimpse stack ((4, 4), 68) into memory (can take several minutes)\n",
      "Creating mask glimpse ID: ((4, 4), 68)\n"
     ]
    },
    {
     "data": {
      "application/vnd.jupyter.widget-view+json": {
       "model_id": "c24508ef35f84fa7a2e1899b25f86903",
       "version_major": 2,
       "version_minor": 0
      },
      "text/plain": [
       "Creating mask glimpse ID: ((4, 4), 68):   0%|          | 0/75 [00:00<?, ?it/s]"
      ]
     },
     "metadata": {},
     "output_type": "display_data"
    },
    {
     "name": "stderr",
     "output_type": "stream",
     "text": [
      "/tmp/ipykernel_330135/3847468708.py:45: VisibleDeprecationWarning: Creating an ndarray from ragged nested sequences (which is a list-or-tuple of lists-or-tuples-or ndarrays with different lengths or shapes) is deprecated. If you meant to do this, you must specify 'dtype=object' when creating the ndarray.\n",
      "  mask_shapes = np.asarray(coords_stack, )#axis = 0)\n",
      "/home/dayn/miniconda3/envs/aero/lib/python3.9/site-packages/napari_tools_menu/__init__.py:194: FutureWarning: Public access to Window.qt_viewer is deprecated and will be removed in\n",
      "v0.5.0. It is considered an \"implementation detail\" of the napari\n",
      "application, not part of the napari viewer model. If your use case\n",
      "requires access to qt_viewer, please open an issue to discuss.\n",
      "  self.tools_menu = ToolsMenu(self, self.qt_viewer.viewer)\n"
     ]
    },
    {
     "data": {
      "application/vnd.jupyter.widget-view+json": {
       "model_id": "2b8425b63b384494a30f18819686e46b",
       "version_major": 2,
       "version_minor": 0
      },
      "text/plain": [
       "Saving glimpse image sequence ID: ((4, 4), 68):   0%|          | 0/75 [00:00<?, ?it/s]"
      ]
     },
     "metadata": {},
     "output_type": "display_data"
    },
    {
     "name": "stdout",
     "output_type": "stream",
     "text": [
      "Creating mp4 glimpse ID: ((4, 4), 68)\n",
      "Creating graph image sequence ID: ((4, 4), 68)\n"
     ]
    },
    {
     "data": {
      "application/vnd.jupyter.widget-view+json": {
       "model_id": "0995a9b547ab40559a421cd7deec7512",
       "version_major": 2,
       "version_minor": 0
      },
      "text/plain": [
       "Saving graph image sequence ID: ((4, 4), 68):   0%|          | 0/75 [00:00<?, ?it/s]"
      ]
     },
     "metadata": {},
     "output_type": "display_data"
    },
    {
     "name": "stdout",
     "output_type": "stream",
     "text": [
      "Creating graph and glimpse image sequence ID: ((4, 4), 68)\n"
     ]
    },
    {
     "data": {
      "application/vnd.jupyter.widget-view+json": {
       "model_id": "5db5515babf04323aed8d6a4e32ef8c5",
       "version_major": 2,
       "version_minor": 0
      },
      "text/plain": [
       "Creating glimpse ID: ((4, 4), 329):   0%|          | 0/75 [00:00<?, ?it/s]"
      ]
     },
     "metadata": {},
     "output_type": "display_data"
    },
    {
     "name": "stderr",
     "output_type": "stream",
     "text": [
      "/home/dayn/miniconda3/envs/aero/lib/python3.9/site-packages/dask/array/core.py:1744: PerformanceWarning: Increasing number of chunks by factor of 483\n",
      "  return da_func(*args, **kwargs)\n"
     ]
    },
    {
     "name": "stdout",
     "output_type": "stream",
     "text": [
      "Loading glimpse stack ((4, 4), 329) into memory (can take several minutes)\n",
      "Creating mask glimpse ID: ((4, 4), 329)\n"
     ]
    },
    {
     "data": {
      "application/vnd.jupyter.widget-view+json": {
       "model_id": "c07badc110a24977a5e907463dccbba3",
       "version_major": 2,
       "version_minor": 0
      },
      "text/plain": [
       "Creating mask glimpse ID: ((4, 4), 329):   0%|          | 0/75 [00:00<?, ?it/s]"
      ]
     },
     "metadata": {},
     "output_type": "display_data"
    },
    {
     "name": "stderr",
     "output_type": "stream",
     "text": [
      "/tmp/ipykernel_330135/3847468708.py:45: VisibleDeprecationWarning: Creating an ndarray from ragged nested sequences (which is a list-or-tuple of lists-or-tuples-or ndarrays with different lengths or shapes) is deprecated. If you meant to do this, you must specify 'dtype=object' when creating the ndarray.\n",
      "  mask_shapes = np.asarray(coords_stack, )#axis = 0)\n",
      "/home/dayn/miniconda3/envs/aero/lib/python3.9/site-packages/napari_tools_menu/__init__.py:194: FutureWarning: Public access to Window.qt_viewer is deprecated and will be removed in\n",
      "v0.5.0. It is considered an \"implementation detail\" of the napari\n",
      "application, not part of the napari viewer model. If your use case\n",
      "requires access to qt_viewer, please open an issue to discuss.\n",
      "  self.tools_menu = ToolsMenu(self, self.qt_viewer.viewer)\n"
     ]
    },
    {
     "data": {
      "application/vnd.jupyter.widget-view+json": {
       "model_id": "94a957c959934b9bb09be86d14f90fd3",
       "version_major": 2,
       "version_minor": 0
      },
      "text/plain": [
       "Saving glimpse image sequence ID: ((4, 4), 329):   0%|          | 0/75 [00:00<?, ?it/s]"
      ]
     },
     "metadata": {},
     "output_type": "display_data"
    },
    {
     "name": "stdout",
     "output_type": "stream",
     "text": [
      "Creating mp4 glimpse ID: ((4, 4), 329)\n",
      "Creating graph image sequence ID: ((4, 4), 329)\n"
     ]
    },
    {
     "data": {
      "application/vnd.jupyter.widget-view+json": {
       "model_id": "aab9693f13d140cb8686593fcd03bb54",
       "version_major": 2,
       "version_minor": 0
      },
      "text/plain": [
       "Saving graph image sequence ID: ((4, 4), 329):   0%|          | 0/75 [00:00<?, ?it/s]"
      ]
     },
     "metadata": {},
     "output_type": "display_data"
    },
    {
     "name": "stdout",
     "output_type": "stream",
     "text": [
      "Creating graph and glimpse image sequence ID: ((4, 4), 329)\n"
     ]
    },
    {
     "data": {
      "application/vnd.jupyter.widget-view+json": {
       "model_id": "b24612f934194414b912e79bb6328cd7",
       "version_major": 2,
       "version_minor": 0
      },
      "text/plain": [
       "Iterating over two extreme cells in acquisition ID:(4, 5):   0%|          | 0/2 [00:00<?, ?it/s]"
      ]
     },
     "metadata": {},
     "output_type": "display_data"
    },
    {
     "data": {
      "application/vnd.jupyter.widget-view+json": {
       "model_id": "9640e55c8c6747548923bd619e28b096",
       "version_major": 2,
       "version_minor": 0
      },
      "text/plain": [
       "Creating glimpse ID: ((4, 5), 34):   0%|          | 0/75 [00:00<?, ?it/s]"
      ]
     },
     "metadata": {},
     "output_type": "display_data"
    },
    {
     "name": "stdout",
     "output_type": "stream",
     "text": [
      "Loading glimpse stack ((4, 5), 34) into memory (can take several minutes)\n",
      "Creating mask glimpse ID: ((4, 5), 34)\n"
     ]
    },
    {
     "data": {
      "application/vnd.jupyter.widget-view+json": {
       "model_id": "98789c0e57f6445e9ff6ca1e89714f23",
       "version_major": 2,
       "version_minor": 0
      },
      "text/plain": [
       "Creating mask glimpse ID: ((4, 5), 34):   0%|          | 0/75 [00:00<?, ?it/s]"
      ]
     },
     "metadata": {},
     "output_type": "display_data"
    },
    {
     "name": "stderr",
     "output_type": "stream",
     "text": [
      "/tmp/ipykernel_330135/3847468708.py:45: VisibleDeprecationWarning: Creating an ndarray from ragged nested sequences (which is a list-or-tuple of lists-or-tuples-or ndarrays with different lengths or shapes) is deprecated. If you meant to do this, you must specify 'dtype=object' when creating the ndarray.\n",
      "  mask_shapes = np.asarray(coords_stack, )#axis = 0)\n",
      "/home/dayn/miniconda3/envs/aero/lib/python3.9/site-packages/napari_tools_menu/__init__.py:194: FutureWarning: Public access to Window.qt_viewer is deprecated and will be removed in\n",
      "v0.5.0. It is considered an \"implementation detail\" of the napari\n",
      "application, not part of the napari viewer model. If your use case\n",
      "requires access to qt_viewer, please open an issue to discuss.\n",
      "  self.tools_menu = ToolsMenu(self, self.qt_viewer.viewer)\n"
     ]
    },
    {
     "data": {
      "application/vnd.jupyter.widget-view+json": {
       "model_id": "2b527c82c4024775bf555cea43a58c47",
       "version_major": 2,
       "version_minor": 0
      },
      "text/plain": [
       "Saving glimpse image sequence ID: ((4, 5), 34):   0%|          | 0/75 [00:00<?, ?it/s]"
      ]
     },
     "metadata": {},
     "output_type": "display_data"
    },
    {
     "name": "stdout",
     "output_type": "stream",
     "text": [
      "Creating mp4 glimpse ID: ((4, 5), 34)\n",
      "Creating graph image sequence ID: ((4, 5), 34)\n"
     ]
    },
    {
     "data": {
      "application/vnd.jupyter.widget-view+json": {
       "model_id": "eae599df910a4d1bae5c12a12dcf0cd0",
       "version_major": 2,
       "version_minor": 0
      },
      "text/plain": [
       "Saving graph image sequence ID: ((4, 5), 34):   0%|          | 0/75 [00:00<?, ?it/s]"
      ]
     },
     "metadata": {},
     "output_type": "display_data"
    },
    {
     "name": "stdout",
     "output_type": "stream",
     "text": [
      "Creating graph and glimpse image sequence ID: ((4, 5), 34)\n"
     ]
    },
    {
     "data": {
      "application/vnd.jupyter.widget-view+json": {
       "model_id": "2663cab65d3c4a0d90915717b6b728b6",
       "version_major": 2,
       "version_minor": 0
      },
      "text/plain": [
       "Creating glimpse ID: ((4, 5), 306):   0%|          | 0/75 [00:00<?, ?it/s]"
      ]
     },
     "metadata": {},
     "output_type": "display_data"
    },
    {
     "name": "stderr",
     "output_type": "stream",
     "text": [
      "/home/dayn/miniconda3/envs/aero/lib/python3.9/site-packages/dask/array/core.py:1744: PerformanceWarning: Increasing number of chunks by factor of 32\n",
      "  return da_func(*args, **kwargs)\n"
     ]
    },
    {
     "name": "stdout",
     "output_type": "stream",
     "text": [
      "Loading glimpse stack ((4, 5), 306) into memory (can take several minutes)\n",
      "Creating mask glimpse ID: ((4, 5), 306)\n"
     ]
    },
    {
     "data": {
      "application/vnd.jupyter.widget-view+json": {
       "model_id": "7246721e036f47cc8b2de16b2e36f92d",
       "version_major": 2,
       "version_minor": 0
      },
      "text/plain": [
       "Creating mask glimpse ID: ((4, 5), 306):   0%|          | 0/75 [00:00<?, ?it/s]"
      ]
     },
     "metadata": {},
     "output_type": "display_data"
    },
    {
     "name": "stderr",
     "output_type": "stream",
     "text": [
      "/tmp/ipykernel_330135/3847468708.py:45: VisibleDeprecationWarning: Creating an ndarray from ragged nested sequences (which is a list-or-tuple of lists-or-tuples-or ndarrays with different lengths or shapes) is deprecated. If you meant to do this, you must specify 'dtype=object' when creating the ndarray.\n",
      "  mask_shapes = np.asarray(coords_stack, )#axis = 0)\n",
      "/home/dayn/miniconda3/envs/aero/lib/python3.9/site-packages/napari_tools_menu/__init__.py:194: FutureWarning: Public access to Window.qt_viewer is deprecated and will be removed in\n",
      "v0.5.0. It is considered an \"implementation detail\" of the napari\n",
      "application, not part of the napari viewer model. If your use case\n",
      "requires access to qt_viewer, please open an issue to discuss.\n",
      "  self.tools_menu = ToolsMenu(self, self.qt_viewer.viewer)\n"
     ]
    },
    {
     "data": {
      "application/vnd.jupyter.widget-view+json": {
       "model_id": "84f053470f2443c692517000480e5e23",
       "version_major": 2,
       "version_minor": 0
      },
      "text/plain": [
       "Saving glimpse image sequence ID: ((4, 5), 306):   0%|          | 0/75 [00:00<?, ?it/s]"
      ]
     },
     "metadata": {},
     "output_type": "display_data"
    },
    {
     "name": "stdout",
     "output_type": "stream",
     "text": [
      "Creating mp4 glimpse ID: ((4, 5), 306)\n",
      "Creating graph image sequence ID: ((4, 5), 306)\n"
     ]
    },
    {
     "data": {
      "application/vnd.jupyter.widget-view+json": {
       "model_id": "4a38912757b84e119caddd818808ec4a",
       "version_major": 2,
       "version_minor": 0
      },
      "text/plain": [
       "Saving graph image sequence ID: ((4, 5), 306):   0%|          | 0/75 [00:00<?, ?it/s]"
      ]
     },
     "metadata": {},
     "output_type": "display_data"
    },
    {
     "name": "stdout",
     "output_type": "stream",
     "text": [
      "Creating graph and glimpse image sequence ID: ((4, 5), 306)\n"
     ]
    },
    {
     "data": {
      "application/vnd.jupyter.widget-view+json": {
       "model_id": "e3fc7afb6ffc4f789bf554f59a2a8b68",
       "version_major": 2,
       "version_minor": 0
      },
      "text/plain": [
       "Iterating over two extreme cells in acquisition ID:(4, 6):   0%|          | 0/2 [00:00<?, ?it/s]"
      ]
     },
     "metadata": {},
     "output_type": "display_data"
    },
    {
     "data": {
      "application/vnd.jupyter.widget-view+json": {
       "model_id": "8b38d8c6a54b40f58d7beb502cc729ae",
       "version_major": 2,
       "version_minor": 0
      },
      "text/plain": [
       "Creating glimpse ID: ((4, 6), 222):   0%|          | 0/75 [00:00<?, ?it/s]"
      ]
     },
     "metadata": {},
     "output_type": "display_data"
    },
    {
     "name": "stderr",
     "output_type": "stream",
     "text": [
      "/home/dayn/miniconda3/envs/aero/lib/python3.9/site-packages/dask/array/core.py:1744: PerformanceWarning: Increasing number of chunks by factor of 22\n",
      "  return da_func(*args, **kwargs)\n"
     ]
    },
    {
     "name": "stdout",
     "output_type": "stream",
     "text": [
      "Loading glimpse stack ((4, 6), 222) into memory (can take several minutes)\n",
      "Creating mask glimpse ID: ((4, 6), 222)\n"
     ]
    },
    {
     "data": {
      "application/vnd.jupyter.widget-view+json": {
       "model_id": "0a11e8d7db7942cf942290a557ce12e7",
       "version_major": 2,
       "version_minor": 0
      },
      "text/plain": [
       "Creating mask glimpse ID: ((4, 6), 222):   0%|          | 0/75 [00:00<?, ?it/s]"
      ]
     },
     "metadata": {},
     "output_type": "display_data"
    },
    {
     "name": "stderr",
     "output_type": "stream",
     "text": [
      "/tmp/ipykernel_330135/3847468708.py:45: VisibleDeprecationWarning: Creating an ndarray from ragged nested sequences (which is a list-or-tuple of lists-or-tuples-or ndarrays with different lengths or shapes) is deprecated. If you meant to do this, you must specify 'dtype=object' when creating the ndarray.\n",
      "  mask_shapes = np.asarray(coords_stack, )#axis = 0)\n",
      "/home/dayn/miniconda3/envs/aero/lib/python3.9/site-packages/napari_tools_menu/__init__.py:194: FutureWarning: Public access to Window.qt_viewer is deprecated and will be removed in\n",
      "v0.5.0. It is considered an \"implementation detail\" of the napari\n",
      "application, not part of the napari viewer model. If your use case\n",
      "requires access to qt_viewer, please open an issue to discuss.\n",
      "  self.tools_menu = ToolsMenu(self, self.qt_viewer.viewer)\n"
     ]
    },
    {
     "data": {
      "application/vnd.jupyter.widget-view+json": {
       "model_id": "12148ad2c0064d9f875062caedcc2b4f",
       "version_major": 2,
       "version_minor": 0
      },
      "text/plain": [
       "Saving glimpse image sequence ID: ((4, 6), 222):   0%|          | 0/75 [00:00<?, ?it/s]"
      ]
     },
     "metadata": {},
     "output_type": "display_data"
    },
    {
     "name": "stdout",
     "output_type": "stream",
     "text": [
      "Creating mp4 glimpse ID: ((4, 6), 222)\n",
      "Creating graph image sequence ID: ((4, 6), 222)\n"
     ]
    },
    {
     "data": {
      "application/vnd.jupyter.widget-view+json": {
       "model_id": "15179504c3e74901ba316aab44bdaf08",
       "version_major": 2,
       "version_minor": 0
      },
      "text/plain": [
       "Saving graph image sequence ID: ((4, 6), 222):   0%|          | 0/75 [00:00<?, ?it/s]"
      ]
     },
     "metadata": {},
     "output_type": "display_data"
    },
    {
     "name": "stdout",
     "output_type": "stream",
     "text": [
      "Creating graph and glimpse image sequence ID: ((4, 6), 222)\n"
     ]
    },
    {
     "data": {
      "application/vnd.jupyter.widget-view+json": {
       "model_id": "8d49246f88704c439bfc9f0a05ef19bb",
       "version_major": 2,
       "version_minor": 0
      },
      "text/plain": [
       "Creating glimpse ID: ((4, 6), 286):   0%|          | 0/75 [00:00<?, ?it/s]"
      ]
     },
     "metadata": {},
     "output_type": "display_data"
    },
    {
     "name": "stderr",
     "output_type": "stream",
     "text": [
      "/home/dayn/miniconda3/envs/aero/lib/python3.9/site-packages/dask/array/core.py:1744: PerformanceWarning: Increasing number of chunks by factor of 38\n",
      "  return da_func(*args, **kwargs)\n"
     ]
    },
    {
     "name": "stdout",
     "output_type": "stream",
     "text": [
      "Loading glimpse stack ((4, 6), 286) into memory (can take several minutes)\n",
      "Creating mask glimpse ID: ((4, 6), 286)\n"
     ]
    },
    {
     "data": {
      "application/vnd.jupyter.widget-view+json": {
       "model_id": "c498ab3efb4243149695db5b96cc415c",
       "version_major": 2,
       "version_minor": 0
      },
      "text/plain": [
       "Creating mask glimpse ID: ((4, 6), 286):   0%|          | 0/75 [00:00<?, ?it/s]"
      ]
     },
     "metadata": {},
     "output_type": "display_data"
    },
    {
     "name": "stderr",
     "output_type": "stream",
     "text": [
      "/tmp/ipykernel_330135/3847468708.py:45: VisibleDeprecationWarning: Creating an ndarray from ragged nested sequences (which is a list-or-tuple of lists-or-tuples-or ndarrays with different lengths or shapes) is deprecated. If you meant to do this, you must specify 'dtype=object' when creating the ndarray.\n",
      "  mask_shapes = np.asarray(coords_stack, )#axis = 0)\n",
      "/home/dayn/miniconda3/envs/aero/lib/python3.9/site-packages/napari_tools_menu/__init__.py:194: FutureWarning: Public access to Window.qt_viewer is deprecated and will be removed in\n",
      "v0.5.0. It is considered an \"implementation detail\" of the napari\n",
      "application, not part of the napari viewer model. If your use case\n",
      "requires access to qt_viewer, please open an issue to discuss.\n",
      "  self.tools_menu = ToolsMenu(self, self.qt_viewer.viewer)\n"
     ]
    },
    {
     "data": {
      "application/vnd.jupyter.widget-view+json": {
       "model_id": "95b9c11dad034df3b8bfd19be2f90b6c",
       "version_major": 2,
       "version_minor": 0
      },
      "text/plain": [
       "Saving glimpse image sequence ID: ((4, 6), 286):   0%|          | 0/75 [00:00<?, ?it/s]"
      ]
     },
     "metadata": {},
     "output_type": "display_data"
    },
    {
     "name": "stdout",
     "output_type": "stream",
     "text": [
      "Creating mp4 glimpse ID: ((4, 6), 286)\n",
      "Creating graph image sequence ID: ((4, 6), 286)\n"
     ]
    },
    {
     "data": {
      "application/vnd.jupyter.widget-view+json": {
       "model_id": "6fce926ed52e422998131e4264261f02",
       "version_major": 2,
       "version_minor": 0
      },
      "text/plain": [
       "Saving graph image sequence ID: ((4, 6), 286):   0%|          | 0/75 [00:00<?, ?it/s]"
      ]
     },
     "metadata": {},
     "output_type": "display_data"
    },
    {
     "name": "stdout",
     "output_type": "stream",
     "text": [
      "Creating graph and glimpse image sequence ID: ((4, 6), 286)\n"
     ]
    },
    {
     "data": {
      "application/vnd.jupyter.widget-view+json": {
       "model_id": "5b88574c101749d8889ae412b877b689",
       "version_major": 2,
       "version_minor": 0
      },
      "text/plain": [
       "Iterating over two extreme cells in acquisition ID:(4, 7):   0%|          | 0/2 [00:00<?, ?it/s]"
      ]
     },
     "metadata": {},
     "output_type": "display_data"
    },
    {
     "data": {
      "application/vnd.jupyter.widget-view+json": {
       "model_id": "5beedb8e37a645d49c47ee88a16b4b92",
       "version_major": 2,
       "version_minor": 0
      },
      "text/plain": [
       "Creating glimpse ID: ((4, 7), 382):   0%|          | 0/75 [00:00<?, ?it/s]"
      ]
     },
     "metadata": {},
     "output_type": "display_data"
    },
    {
     "name": "stdout",
     "output_type": "stream",
     "text": [
      "Loading glimpse stack ((4, 7), 382) into memory (can take several minutes)\n",
      "Creating mask glimpse ID: ((4, 7), 382)\n"
     ]
    },
    {
     "data": {
      "application/vnd.jupyter.widget-view+json": {
       "model_id": "7e59fdbcc863409dac86ddbae58de817",
       "version_major": 2,
       "version_minor": 0
      },
      "text/plain": [
       "Creating mask glimpse ID: ((4, 7), 382):   0%|          | 0/75 [00:00<?, ?it/s]"
      ]
     },
     "metadata": {},
     "output_type": "display_data"
    },
    {
     "name": "stderr",
     "output_type": "stream",
     "text": [
      "/tmp/ipykernel_330135/3847468708.py:45: VisibleDeprecationWarning: Creating an ndarray from ragged nested sequences (which is a list-or-tuple of lists-or-tuples-or ndarrays with different lengths or shapes) is deprecated. If you meant to do this, you must specify 'dtype=object' when creating the ndarray.\n",
      "  mask_shapes = np.asarray(coords_stack, )#axis = 0)\n",
      "/home/dayn/miniconda3/envs/aero/lib/python3.9/site-packages/napari_tools_menu/__init__.py:194: FutureWarning: Public access to Window.qt_viewer is deprecated and will be removed in\n",
      "v0.5.0. It is considered an \"implementation detail\" of the napari\n",
      "application, not part of the napari viewer model. If your use case\n",
      "requires access to qt_viewer, please open an issue to discuss.\n",
      "  self.tools_menu = ToolsMenu(self, self.qt_viewer.viewer)\n"
     ]
    },
    {
     "data": {
      "application/vnd.jupyter.widget-view+json": {
       "model_id": "ce59bde70f944c86bb6319e017bf44e5",
       "version_major": 2,
       "version_minor": 0
      },
      "text/plain": [
       "Saving glimpse image sequence ID: ((4, 7), 382):   0%|          | 0/75 [00:00<?, ?it/s]"
      ]
     },
     "metadata": {},
     "output_type": "display_data"
    },
    {
     "name": "stdout",
     "output_type": "stream",
     "text": [
      "Creating mp4 glimpse ID: ((4, 7), 382)\n",
      "Creating graph image sequence ID: ((4, 7), 382)\n"
     ]
    },
    {
     "data": {
      "application/vnd.jupyter.widget-view+json": {
       "model_id": "86e7a482a1494e69804d80a2a6b96200",
       "version_major": 2,
       "version_minor": 0
      },
      "text/plain": [
       "Saving graph image sequence ID: ((4, 7), 382):   0%|          | 0/75 [00:00<?, ?it/s]"
      ]
     },
     "metadata": {},
     "output_type": "display_data"
    },
    {
     "name": "stdout",
     "output_type": "stream",
     "text": [
      "Creating graph and glimpse image sequence ID: ((4, 7), 382)\n"
     ]
    },
    {
     "data": {
      "application/vnd.jupyter.widget-view+json": {
       "model_id": "23a6ea42ca5140c9a6f2640007f927ba",
       "version_major": 2,
       "version_minor": 0
      },
      "text/plain": [
       "Creating glimpse ID: ((4, 7), 385):   0%|          | 0/75 [00:00<?, ?it/s]"
      ]
     },
     "metadata": {},
     "output_type": "display_data"
    },
    {
     "name": "stderr",
     "output_type": "stream",
     "text": [
      "/home/dayn/miniconda3/envs/aero/lib/python3.9/site-packages/dask/array/core.py:1744: PerformanceWarning: Increasing number of chunks by factor of 20\n",
      "  return da_func(*args, **kwargs)\n"
     ]
    },
    {
     "name": "stdout",
     "output_type": "stream",
     "text": [
      "Loading glimpse stack ((4, 7), 385) into memory (can take several minutes)\n",
      "Creating mask glimpse ID: ((4, 7), 385)\n"
     ]
    },
    {
     "data": {
      "application/vnd.jupyter.widget-view+json": {
       "model_id": "252bb2d1747b4a95be48f6848035dd3f",
       "version_major": 2,
       "version_minor": 0
      },
      "text/plain": [
       "Creating mask glimpse ID: ((4, 7), 385):   0%|          | 0/75 [00:00<?, ?it/s]"
      ]
     },
     "metadata": {},
     "output_type": "display_data"
    },
    {
     "name": "stderr",
     "output_type": "stream",
     "text": [
      "/tmp/ipykernel_330135/3847468708.py:45: VisibleDeprecationWarning: Creating an ndarray from ragged nested sequences (which is a list-or-tuple of lists-or-tuples-or ndarrays with different lengths or shapes) is deprecated. If you meant to do this, you must specify 'dtype=object' when creating the ndarray.\n",
      "  mask_shapes = np.asarray(coords_stack, )#axis = 0)\n",
      "/home/dayn/miniconda3/envs/aero/lib/python3.9/site-packages/napari_tools_menu/__init__.py:194: FutureWarning: Public access to Window.qt_viewer is deprecated and will be removed in\n",
      "v0.5.0. It is considered an \"implementation detail\" of the napari\n",
      "application, not part of the napari viewer model. If your use case\n",
      "requires access to qt_viewer, please open an issue to discuss.\n",
      "  self.tools_menu = ToolsMenu(self, self.qt_viewer.viewer)\n"
     ]
    },
    {
     "data": {
      "application/vnd.jupyter.widget-view+json": {
       "model_id": "cad6f6db29284756b5e3a17ff55b4c1d",
       "version_major": 2,
       "version_minor": 0
      },
      "text/plain": [
       "Saving glimpse image sequence ID: ((4, 7), 385):   0%|          | 0/75 [00:00<?, ?it/s]"
      ]
     },
     "metadata": {},
     "output_type": "display_data"
    },
    {
     "name": "stdout",
     "output_type": "stream",
     "text": [
      "Creating mp4 glimpse ID: ((4, 7), 385)\n",
      "Creating graph image sequence ID: ((4, 7), 385)\n"
     ]
    },
    {
     "data": {
      "application/vnd.jupyter.widget-view+json": {
       "model_id": "a5c419b3454146bb8228937e390f2702",
       "version_major": 2,
       "version_minor": 0
      },
      "text/plain": [
       "Saving graph image sequence ID: ((4, 7), 385):   0%|          | 0/75 [00:00<?, ?it/s]"
      ]
     },
     "metadata": {},
     "output_type": "display_data"
    },
    {
     "name": "stdout",
     "output_type": "stream",
     "text": [
      "Creating graph and glimpse image sequence ID: ((4, 7), 385)\n"
     ]
    },
    {
     "data": {
      "application/vnd.jupyter.widget-view+json": {
       "model_id": "efb0a674714e4c03b2f3119659b00b58",
       "version_major": 2,
       "version_minor": 0
      },
      "text/plain": [
       "Iterating over two extreme cells in acquisition ID:(4, 8):   0%|          | 0/2 [00:00<?, ?it/s]"
      ]
     },
     "metadata": {},
     "output_type": "display_data"
    },
    {
     "data": {
      "application/vnd.jupyter.widget-view+json": {
       "model_id": "b9ab4413543b4061bcdb0975c8787d7a",
       "version_major": 2,
       "version_minor": 0
      },
      "text/plain": [
       "Creating glimpse ID: ((4, 8), 222):   0%|          | 0/75 [00:00<?, ?it/s]"
      ]
     },
     "metadata": {},
     "output_type": "display_data"
    },
    {
     "name": "stdout",
     "output_type": "stream",
     "text": [
      "Loading glimpse stack ((4, 8), 222) into memory (can take several minutes)\n",
      "Creating mask glimpse ID: ((4, 8), 222)\n"
     ]
    },
    {
     "data": {
      "application/vnd.jupyter.widget-view+json": {
       "model_id": "b3dcfb25aafd4060991c8693cbe0e162",
       "version_major": 2,
       "version_minor": 0
      },
      "text/plain": [
       "Creating mask glimpse ID: ((4, 8), 222):   0%|          | 0/75 [00:00<?, ?it/s]"
      ]
     },
     "metadata": {},
     "output_type": "display_data"
    },
    {
     "name": "stderr",
     "output_type": "stream",
     "text": [
      "/tmp/ipykernel_330135/3847468708.py:45: VisibleDeprecationWarning: Creating an ndarray from ragged nested sequences (which is a list-or-tuple of lists-or-tuples-or ndarrays with different lengths or shapes) is deprecated. If you meant to do this, you must specify 'dtype=object' when creating the ndarray.\n",
      "  mask_shapes = np.asarray(coords_stack, )#axis = 0)\n",
      "/home/dayn/miniconda3/envs/aero/lib/python3.9/site-packages/napari_tools_menu/__init__.py:194: FutureWarning: Public access to Window.qt_viewer is deprecated and will be removed in\n",
      "v0.5.0. It is considered an \"implementation detail\" of the napari\n",
      "application, not part of the napari viewer model. If your use case\n",
      "requires access to qt_viewer, please open an issue to discuss.\n",
      "  self.tools_menu = ToolsMenu(self, self.qt_viewer.viewer)\n"
     ]
    },
    {
     "data": {
      "application/vnd.jupyter.widget-view+json": {
       "model_id": "8cedfd8cdf34433e94b5fe47083c9dfb",
       "version_major": 2,
       "version_minor": 0
      },
      "text/plain": [
       "Saving glimpse image sequence ID: ((4, 8), 222):   0%|          | 0/75 [00:00<?, ?it/s]"
      ]
     },
     "metadata": {},
     "output_type": "display_data"
    },
    {
     "name": "stdout",
     "output_type": "stream",
     "text": [
      "Creating mp4 glimpse ID: ((4, 8), 222)\n",
      "Creating graph image sequence ID: ((4, 8), 222)\n"
     ]
    },
    {
     "data": {
      "application/vnd.jupyter.widget-view+json": {
       "model_id": "24aa6af84441459692a2699079b57ef3",
       "version_major": 2,
       "version_minor": 0
      },
      "text/plain": [
       "Saving graph image sequence ID: ((4, 8), 222):   0%|          | 0/75 [00:00<?, ?it/s]"
      ]
     },
     "metadata": {},
     "output_type": "display_data"
    },
    {
     "name": "stdout",
     "output_type": "stream",
     "text": [
      "Creating graph and glimpse image sequence ID: ((4, 8), 222)\n"
     ]
    },
    {
     "data": {
      "application/vnd.jupyter.widget-view+json": {
       "model_id": "4ced325123834b3ba3b7944eae368b44",
       "version_major": 2,
       "version_minor": 0
      },
      "text/plain": [
       "Creating glimpse ID: ((4, 8), 346):   0%|          | 0/75 [00:00<?, ?it/s]"
      ]
     },
     "metadata": {},
     "output_type": "display_data"
    },
    {
     "name": "stderr",
     "output_type": "stream",
     "text": [
      "/home/dayn/miniconda3/envs/aero/lib/python3.9/site-packages/dask/array/core.py:1744: PerformanceWarning: Increasing number of chunks by factor of 337\n",
      "  return da_func(*args, **kwargs)\n"
     ]
    },
    {
     "name": "stdout",
     "output_type": "stream",
     "text": [
      "Loading glimpse stack ((4, 8), 346) into memory (can take several minutes)\n",
      "Creating mask glimpse ID: ((4, 8), 346)\n"
     ]
    },
    {
     "data": {
      "application/vnd.jupyter.widget-view+json": {
       "model_id": "325abb1d64c24255ade6de9e8a3336a0",
       "version_major": 2,
       "version_minor": 0
      },
      "text/plain": [
       "Creating mask glimpse ID: ((4, 8), 346):   0%|          | 0/75 [00:00<?, ?it/s]"
      ]
     },
     "metadata": {},
     "output_type": "display_data"
    },
    {
     "name": "stderr",
     "output_type": "stream",
     "text": [
      "/tmp/ipykernel_330135/3847468708.py:45: VisibleDeprecationWarning: Creating an ndarray from ragged nested sequences (which is a list-or-tuple of lists-or-tuples-or ndarrays with different lengths or shapes) is deprecated. If you meant to do this, you must specify 'dtype=object' when creating the ndarray.\n",
      "  mask_shapes = np.asarray(coords_stack, )#axis = 0)\n",
      "/home/dayn/miniconda3/envs/aero/lib/python3.9/site-packages/napari_tools_menu/__init__.py:194: FutureWarning: Public access to Window.qt_viewer is deprecated and will be removed in\n",
      "v0.5.0. It is considered an \"implementation detail\" of the napari\n",
      "application, not part of the napari viewer model. If your use case\n",
      "requires access to qt_viewer, please open an issue to discuss.\n",
      "  self.tools_menu = ToolsMenu(self, self.qt_viewer.viewer)\n"
     ]
    },
    {
     "data": {
      "application/vnd.jupyter.widget-view+json": {
       "model_id": "f494e03a4c0144f69772545db4318799",
       "version_major": 2,
       "version_minor": 0
      },
      "text/plain": [
       "Saving glimpse image sequence ID: ((4, 8), 346):   0%|          | 0/75 [00:00<?, ?it/s]"
      ]
     },
     "metadata": {},
     "output_type": "display_data"
    },
    {
     "name": "stdout",
     "output_type": "stream",
     "text": [
      "Creating mp4 glimpse ID: ((4, 8), 346)\n",
      "Creating graph image sequence ID: ((4, 8), 346)\n"
     ]
    },
    {
     "data": {
      "application/vnd.jupyter.widget-view+json": {
       "model_id": "70d6eacb031c4c02adb1f267b95c47c4",
       "version_major": 2,
       "version_minor": 0
      },
      "text/plain": [
       "Saving graph image sequence ID: ((4, 8), 346):   0%|          | 0/75 [00:00<?, ?it/s]"
      ]
     },
     "metadata": {},
     "output_type": "display_data"
    },
    {
     "name": "stdout",
     "output_type": "stream",
     "text": [
      "Creating graph and glimpse image sequence ID: ((4, 8), 346)\n"
     ]
    },
    {
     "data": {
      "application/vnd.jupyter.widget-view+json": {
       "model_id": "64ad15df334f4be1a407b5e4be483619",
       "version_major": 2,
       "version_minor": 0
      },
      "text/plain": [
       "Iterating over two extreme cells in acquisition ID:(4, 9):   0%|          | 0/2 [00:00<?, ?it/s]"
      ]
     },
     "metadata": {},
     "output_type": "display_data"
    },
    {
     "data": {
      "application/vnd.jupyter.widget-view+json": {
       "model_id": "c9079e2c2a424ae3a2b7dce71444aece",
       "version_major": 2,
       "version_minor": 0
      },
      "text/plain": [
       "Creating glimpse ID: ((4, 9), 264):   0%|          | 0/75 [00:00<?, ?it/s]"
      ]
     },
     "metadata": {},
     "output_type": "display_data"
    },
    {
     "name": "stdout",
     "output_type": "stream",
     "text": [
      "Loading glimpse stack ((4, 9), 264) into memory (can take several minutes)\n",
      "Creating mask glimpse ID: ((4, 9), 264)\n"
     ]
    },
    {
     "data": {
      "application/vnd.jupyter.widget-view+json": {
       "model_id": "07669edf28eb4f42bb6e5456befd53bb",
       "version_major": 2,
       "version_minor": 0
      },
      "text/plain": [
       "Creating mask glimpse ID: ((4, 9), 264):   0%|          | 0/75 [00:00<?, ?it/s]"
      ]
     },
     "metadata": {},
     "output_type": "display_data"
    },
    {
     "name": "stderr",
     "output_type": "stream",
     "text": [
      "/tmp/ipykernel_330135/3847468708.py:45: VisibleDeprecationWarning: Creating an ndarray from ragged nested sequences (which is a list-or-tuple of lists-or-tuples-or ndarrays with different lengths or shapes) is deprecated. If you meant to do this, you must specify 'dtype=object' when creating the ndarray.\n",
      "  mask_shapes = np.asarray(coords_stack, )#axis = 0)\n",
      "/home/dayn/miniconda3/envs/aero/lib/python3.9/site-packages/napari_tools_menu/__init__.py:194: FutureWarning: Public access to Window.qt_viewer is deprecated and will be removed in\n",
      "v0.5.0. It is considered an \"implementation detail\" of the napari\n",
      "application, not part of the napari viewer model. If your use case\n",
      "requires access to qt_viewer, please open an issue to discuss.\n",
      "  self.tools_menu = ToolsMenu(self, self.qt_viewer.viewer)\n"
     ]
    },
    {
     "data": {
      "application/vnd.jupyter.widget-view+json": {
       "model_id": "97ea710e0eff49d99029853a2bd3e1d7",
       "version_major": 2,
       "version_minor": 0
      },
      "text/plain": [
       "Saving glimpse image sequence ID: ((4, 9), 264):   0%|          | 0/75 [00:00<?, ?it/s]"
      ]
     },
     "metadata": {},
     "output_type": "display_data"
    },
    {
     "name": "stdout",
     "output_type": "stream",
     "text": [
      "Creating mp4 glimpse ID: ((4, 9), 264)\n",
      "Creating graph image sequence ID: ((4, 9), 264)\n"
     ]
    },
    {
     "data": {
      "application/vnd.jupyter.widget-view+json": {
       "model_id": "89fd1c0a2441419eb7f1dac77b7a4812",
       "version_major": 2,
       "version_minor": 0
      },
      "text/plain": [
       "Saving graph image sequence ID: ((4, 9), 264):   0%|          | 0/75 [00:00<?, ?it/s]"
      ]
     },
     "metadata": {},
     "output_type": "display_data"
    },
    {
     "name": "stdout",
     "output_type": "stream",
     "text": [
      "Creating graph and glimpse image sequence ID: ((4, 9), 264)\n"
     ]
    },
    {
     "data": {
      "application/vnd.jupyter.widget-view+json": {
       "model_id": "7a3d2408b1bf497ea6797eb01e8a3481",
       "version_major": 2,
       "version_minor": 0
      },
      "text/plain": [
       "Creating glimpse ID: ((4, 9), 17):   0%|          | 0/75 [00:00<?, ?it/s]"
      ]
     },
     "metadata": {},
     "output_type": "display_data"
    },
    {
     "name": "stderr",
     "output_type": "stream",
     "text": [
      "/home/dayn/miniconda3/envs/aero/lib/python3.9/site-packages/dask/array/core.py:1744: PerformanceWarning: Increasing number of chunks by factor of 374\n",
      "  return da_func(*args, **kwargs)\n"
     ]
    },
    {
     "name": "stdout",
     "output_type": "stream",
     "text": [
      "Loading glimpse stack ((4, 9), 17) into memory (can take several minutes)\n",
      "Creating mask glimpse ID: ((4, 9), 17)\n"
     ]
    },
    {
     "data": {
      "application/vnd.jupyter.widget-view+json": {
       "model_id": "c87ba35363714a37b055b33672be978e",
       "version_major": 2,
       "version_minor": 0
      },
      "text/plain": [
       "Creating mask glimpse ID: ((4, 9), 17):   0%|          | 0/75 [00:00<?, ?it/s]"
      ]
     },
     "metadata": {},
     "output_type": "display_data"
    },
    {
     "name": "stderr",
     "output_type": "stream",
     "text": [
      "/tmp/ipykernel_330135/3847468708.py:45: VisibleDeprecationWarning: Creating an ndarray from ragged nested sequences (which is a list-or-tuple of lists-or-tuples-or ndarrays with different lengths or shapes) is deprecated. If you meant to do this, you must specify 'dtype=object' when creating the ndarray.\n",
      "  mask_shapes = np.asarray(coords_stack, )#axis = 0)\n",
      "/home/dayn/miniconda3/envs/aero/lib/python3.9/site-packages/napari_tools_menu/__init__.py:194: FutureWarning: Public access to Window.qt_viewer is deprecated and will be removed in\n",
      "v0.5.0. It is considered an \"implementation detail\" of the napari\n",
      "application, not part of the napari viewer model. If your use case\n",
      "requires access to qt_viewer, please open an issue to discuss.\n",
      "  self.tools_menu = ToolsMenu(self, self.qt_viewer.viewer)\n"
     ]
    },
    {
     "data": {
      "application/vnd.jupyter.widget-view+json": {
       "model_id": "d05369d6a08d4d25964b0ab09d20f9ad",
       "version_major": 2,
       "version_minor": 0
      },
      "text/plain": [
       "Saving glimpse image sequence ID: ((4, 9), 17):   0%|          | 0/75 [00:00<?, ?it/s]"
      ]
     },
     "metadata": {},
     "output_type": "display_data"
    },
    {
     "name": "stdout",
     "output_type": "stream",
     "text": [
      "Creating mp4 glimpse ID: ((4, 9), 17)\n",
      "Creating graph image sequence ID: ((4, 9), 17)\n"
     ]
    },
    {
     "data": {
      "application/vnd.jupyter.widget-view+json": {
       "model_id": "f4c348a91a2d4eb9a14a30a21ac5d887",
       "version_major": 2,
       "version_minor": 0
      },
      "text/plain": [
       "Saving graph image sequence ID: ((4, 9), 17):   0%|          | 0/75 [00:00<?, ?it/s]"
      ]
     },
     "metadata": {},
     "output_type": "display_data"
    },
    {
     "name": "stdout",
     "output_type": "stream",
     "text": [
      "Creating graph and glimpse image sequence ID: ((4, 9), 17)\n"
     ]
    },
    {
     "data": {
      "application/vnd.jupyter.widget-view+json": {
       "model_id": "35ee8fe600b842b1b5a6e003c80e4790",
       "version_major": 2,
       "version_minor": 0
      },
      "text/plain": [
       "Iterating over two extreme cells in acquisition ID:(5, 4):   0%|          | 0/2 [00:00<?, ?it/s]"
      ]
     },
     "metadata": {},
     "output_type": "display_data"
    },
    {
     "data": {
      "application/vnd.jupyter.widget-view+json": {
       "model_id": "a778fabf200845959804549887eb9f38",
       "version_major": 2,
       "version_minor": 0
      },
      "text/plain": [
       "Creating glimpse ID: ((5, 4), 373):   0%|          | 0/75 [00:00<?, ?it/s]"
      ]
     },
     "metadata": {},
     "output_type": "display_data"
    },
    {
     "name": "stderr",
     "output_type": "stream",
     "text": [
      "/home/dayn/miniconda3/envs/aero/lib/python3.9/site-packages/dask/array/core.py:1744: PerformanceWarning: Increasing number of chunks by factor of 29\n",
      "  return da_func(*args, **kwargs)\n"
     ]
    },
    {
     "name": "stdout",
     "output_type": "stream",
     "text": [
      "Loading glimpse stack ((5, 4), 373) into memory (can take several minutes)\n",
      "Creating mask glimpse ID: ((5, 4), 373)\n"
     ]
    },
    {
     "data": {
      "application/vnd.jupyter.widget-view+json": {
       "model_id": "42c38885e68441c694b97323c592b014",
       "version_major": 2,
       "version_minor": 0
      },
      "text/plain": [
       "Creating mask glimpse ID: ((5, 4), 373):   0%|          | 0/75 [00:00<?, ?it/s]"
      ]
     },
     "metadata": {},
     "output_type": "display_data"
    },
    {
     "name": "stderr",
     "output_type": "stream",
     "text": [
      "/tmp/ipykernel_330135/3847468708.py:45: VisibleDeprecationWarning: Creating an ndarray from ragged nested sequences (which is a list-or-tuple of lists-or-tuples-or ndarrays with different lengths or shapes) is deprecated. If you meant to do this, you must specify 'dtype=object' when creating the ndarray.\n",
      "  mask_shapes = np.asarray(coords_stack, )#axis = 0)\n",
      "/home/dayn/miniconda3/envs/aero/lib/python3.9/site-packages/napari_tools_menu/__init__.py:194: FutureWarning: Public access to Window.qt_viewer is deprecated and will be removed in\n",
      "v0.5.0. It is considered an \"implementation detail\" of the napari\n",
      "application, not part of the napari viewer model. If your use case\n",
      "requires access to qt_viewer, please open an issue to discuss.\n",
      "  self.tools_menu = ToolsMenu(self, self.qt_viewer.viewer)\n"
     ]
    },
    {
     "data": {
      "application/vnd.jupyter.widget-view+json": {
       "model_id": "3207590a2be0449c9d8af117d667712b",
       "version_major": 2,
       "version_minor": 0
      },
      "text/plain": [
       "Saving glimpse image sequence ID: ((5, 4), 373):   0%|          | 0/75 [00:00<?, ?it/s]"
      ]
     },
     "metadata": {},
     "output_type": "display_data"
    },
    {
     "name": "stdout",
     "output_type": "stream",
     "text": [
      "Creating mp4 glimpse ID: ((5, 4), 373)\n",
      "Creating graph image sequence ID: ((5, 4), 373)\n"
     ]
    },
    {
     "data": {
      "application/vnd.jupyter.widget-view+json": {
       "model_id": "8d6cf31dc8f14dfdb31bd674f83d50e4",
       "version_major": 2,
       "version_minor": 0
      },
      "text/plain": [
       "Saving graph image sequence ID: ((5, 4), 373):   0%|          | 0/75 [00:00<?, ?it/s]"
      ]
     },
     "metadata": {},
     "output_type": "display_data"
    },
    {
     "name": "stdout",
     "output_type": "stream",
     "text": [
      "Creating graph and glimpse image sequence ID: ((5, 4), 373)\n"
     ]
    },
    {
     "data": {
      "application/vnd.jupyter.widget-view+json": {
       "model_id": "07b90b18e7bd489d8f7ff02120ac378c",
       "version_major": 2,
       "version_minor": 0
      },
      "text/plain": [
       "Creating glimpse ID: ((5, 4), 309):   0%|          | 0/75 [00:00<?, ?it/s]"
      ]
     },
     "metadata": {},
     "output_type": "display_data"
    },
    {
     "name": "stderr",
     "output_type": "stream",
     "text": [
      "/home/dayn/miniconda3/envs/aero/lib/python3.9/site-packages/dask/array/core.py:1744: PerformanceWarning: Increasing number of chunks by factor of 21\n",
      "  return da_func(*args, **kwargs)\n"
     ]
    },
    {
     "name": "stdout",
     "output_type": "stream",
     "text": [
      "Loading glimpse stack ((5, 4), 309) into memory (can take several minutes)\n",
      "Creating mask glimpse ID: ((5, 4), 309)\n"
     ]
    },
    {
     "data": {
      "application/vnd.jupyter.widget-view+json": {
       "model_id": "61783aea0cad4b39bba04b3c79a361ad",
       "version_major": 2,
       "version_minor": 0
      },
      "text/plain": [
       "Creating mask glimpse ID: ((5, 4), 309):   0%|          | 0/75 [00:00<?, ?it/s]"
      ]
     },
     "metadata": {},
     "output_type": "display_data"
    },
    {
     "name": "stderr",
     "output_type": "stream",
     "text": [
      "/tmp/ipykernel_330135/3847468708.py:45: VisibleDeprecationWarning: Creating an ndarray from ragged nested sequences (which is a list-or-tuple of lists-or-tuples-or ndarrays with different lengths or shapes) is deprecated. If you meant to do this, you must specify 'dtype=object' when creating the ndarray.\n",
      "  mask_shapes = np.asarray(coords_stack, )#axis = 0)\n",
      "/home/dayn/miniconda3/envs/aero/lib/python3.9/site-packages/napari_tools_menu/__init__.py:194: FutureWarning: Public access to Window.qt_viewer is deprecated and will be removed in\n",
      "v0.5.0. It is considered an \"implementation detail\" of the napari\n",
      "application, not part of the napari viewer model. If your use case\n",
      "requires access to qt_viewer, please open an issue to discuss.\n",
      "  self.tools_menu = ToolsMenu(self, self.qt_viewer.viewer)\n"
     ]
    },
    {
     "data": {
      "application/vnd.jupyter.widget-view+json": {
       "model_id": "e478801ddbd74d2eaedb1268461e621c",
       "version_major": 2,
       "version_minor": 0
      },
      "text/plain": [
       "Saving glimpse image sequence ID: ((5, 4), 309):   0%|          | 0/75 [00:00<?, ?it/s]"
      ]
     },
     "metadata": {},
     "output_type": "display_data"
    },
    {
     "name": "stdout",
     "output_type": "stream",
     "text": [
      "Creating mp4 glimpse ID: ((5, 4), 309)\n",
      "Creating graph image sequence ID: ((5, 4), 309)\n"
     ]
    },
    {
     "data": {
      "application/vnd.jupyter.widget-view+json": {
       "model_id": "5ee73c18fd5d4ef882be6ea9d870fcf8",
       "version_major": 2,
       "version_minor": 0
      },
      "text/plain": [
       "Saving graph image sequence ID: ((5, 4), 309):   0%|          | 0/75 [00:00<?, ?it/s]"
      ]
     },
     "metadata": {},
     "output_type": "display_data"
    },
    {
     "name": "stdout",
     "output_type": "stream",
     "text": [
      "Creating graph and glimpse image sequence ID: ((5, 4), 309)\n"
     ]
    },
    {
     "data": {
      "application/vnd.jupyter.widget-view+json": {
       "model_id": "3e241d852bd44c0bade24455036ad430",
       "version_major": 2,
       "version_minor": 0
      },
      "text/plain": [
       "Iterating over two extreme cells in acquisition ID:(5, 5):   0%|          | 0/2 [00:00<?, ?it/s]"
      ]
     },
     "metadata": {},
     "output_type": "display_data"
    },
    {
     "data": {
      "application/vnd.jupyter.widget-view+json": {
       "model_id": "b191a2ee576c4644aaeede454aec5ee4",
       "version_major": 2,
       "version_minor": 0
      },
      "text/plain": [
       "Creating glimpse ID: ((5, 5), 269):   0%|          | 0/75 [00:00<?, ?it/s]"
      ]
     },
     "metadata": {},
     "output_type": "display_data"
    },
    {
     "name": "stdout",
     "output_type": "stream",
     "text": [
      "Loading glimpse stack ((5, 5), 269) into memory (can take several minutes)\n",
      "Creating mask glimpse ID: ((5, 5), 269)\n"
     ]
    },
    {
     "data": {
      "application/vnd.jupyter.widget-view+json": {
       "model_id": "396750186caa4c42aa24c026ecd59eb7",
       "version_major": 2,
       "version_minor": 0
      },
      "text/plain": [
       "Creating mask glimpse ID: ((5, 5), 269):   0%|          | 0/75 [00:00<?, ?it/s]"
      ]
     },
     "metadata": {},
     "output_type": "display_data"
    },
    {
     "name": "stderr",
     "output_type": "stream",
     "text": [
      "/tmp/ipykernel_330135/3847468708.py:45: VisibleDeprecationWarning: Creating an ndarray from ragged nested sequences (which is a list-or-tuple of lists-or-tuples-or ndarrays with different lengths or shapes) is deprecated. If you meant to do this, you must specify 'dtype=object' when creating the ndarray.\n",
      "  mask_shapes = np.asarray(coords_stack, )#axis = 0)\n",
      "/home/dayn/miniconda3/envs/aero/lib/python3.9/site-packages/napari_tools_menu/__init__.py:194: FutureWarning: Public access to Window.qt_viewer is deprecated and will be removed in\n",
      "v0.5.0. It is considered an \"implementation detail\" of the napari\n",
      "application, not part of the napari viewer model. If your use case\n",
      "requires access to qt_viewer, please open an issue to discuss.\n",
      "  self.tools_menu = ToolsMenu(self, self.qt_viewer.viewer)\n"
     ]
    },
    {
     "data": {
      "application/vnd.jupyter.widget-view+json": {
       "model_id": "a11d3409b62644f39d2190eed56c5d67",
       "version_major": 2,
       "version_minor": 0
      },
      "text/plain": [
       "Saving glimpse image sequence ID: ((5, 5), 269):   0%|          | 0/75 [00:00<?, ?it/s]"
      ]
     },
     "metadata": {},
     "output_type": "display_data"
    },
    {
     "name": "stdout",
     "output_type": "stream",
     "text": [
      "Creating mp4 glimpse ID: ((5, 5), 269)\n",
      "Creating graph image sequence ID: ((5, 5), 269)\n"
     ]
    },
    {
     "data": {
      "application/vnd.jupyter.widget-view+json": {
       "model_id": "947862db3d324e92adbae79250865f38",
       "version_major": 2,
       "version_minor": 0
      },
      "text/plain": [
       "Saving graph image sequence ID: ((5, 5), 269):   0%|          | 0/75 [00:00<?, ?it/s]"
      ]
     },
     "metadata": {},
     "output_type": "display_data"
    },
    {
     "name": "stdout",
     "output_type": "stream",
     "text": [
      "Creating graph and glimpse image sequence ID: ((5, 5), 269)\n"
     ]
    },
    {
     "data": {
      "application/vnd.jupyter.widget-view+json": {
       "model_id": "1f76c6cf15254263a5fa9c9f84d4f058",
       "version_major": 2,
       "version_minor": 0
      },
      "text/plain": [
       "Creating glimpse ID: ((5, 5), 152):   0%|          | 0/75 [00:00<?, ?it/s]"
      ]
     },
     "metadata": {},
     "output_type": "display_data"
    },
    {
     "name": "stderr",
     "output_type": "stream",
     "text": [
      "/home/dayn/miniconda3/envs/aero/lib/python3.9/site-packages/dask/array/core.py:1744: PerformanceWarning: Increasing number of chunks by factor of 535\n",
      "  return da_func(*args, **kwargs)\n"
     ]
    },
    {
     "name": "stdout",
     "output_type": "stream",
     "text": [
      "Loading glimpse stack ((5, 5), 152) into memory (can take several minutes)\n",
      "Creating mask glimpse ID: ((5, 5), 152)\n"
     ]
    },
    {
     "data": {
      "application/vnd.jupyter.widget-view+json": {
       "model_id": "701988ed735246fb95334020340d2322",
       "version_major": 2,
       "version_minor": 0
      },
      "text/plain": [
       "Creating mask glimpse ID: ((5, 5), 152):   0%|          | 0/75 [00:00<?, ?it/s]"
      ]
     },
     "metadata": {},
     "output_type": "display_data"
    },
    {
     "name": "stderr",
     "output_type": "stream",
     "text": [
      "/tmp/ipykernel_330135/3847468708.py:45: VisibleDeprecationWarning: Creating an ndarray from ragged nested sequences (which is a list-or-tuple of lists-or-tuples-or ndarrays with different lengths or shapes) is deprecated. If you meant to do this, you must specify 'dtype=object' when creating the ndarray.\n",
      "  mask_shapes = np.asarray(coords_stack, )#axis = 0)\n",
      "/home/dayn/miniconda3/envs/aero/lib/python3.9/site-packages/napari_tools_menu/__init__.py:194: FutureWarning: Public access to Window.qt_viewer is deprecated and will be removed in\n",
      "v0.5.0. It is considered an \"implementation detail\" of the napari\n",
      "application, not part of the napari viewer model. If your use case\n",
      "requires access to qt_viewer, please open an issue to discuss.\n",
      "  self.tools_menu = ToolsMenu(self, self.qt_viewer.viewer)\n"
     ]
    },
    {
     "data": {
      "application/vnd.jupyter.widget-view+json": {
       "model_id": "69f1af4a0732423db341df96cc5c9f24",
       "version_major": 2,
       "version_minor": 0
      },
      "text/plain": [
       "Saving glimpse image sequence ID: ((5, 5), 152):   0%|          | 0/75 [00:00<?, ?it/s]"
      ]
     },
     "metadata": {},
     "output_type": "display_data"
    },
    {
     "name": "stdout",
     "output_type": "stream",
     "text": [
      "Creating mp4 glimpse ID: ((5, 5), 152)\n",
      "Creating graph image sequence ID: ((5, 5), 152)\n"
     ]
    },
    {
     "data": {
      "application/vnd.jupyter.widget-view+json": {
       "model_id": "7c9a5c5e6cfb471d98cf97caf6c7c1f2",
       "version_major": 2,
       "version_minor": 0
      },
      "text/plain": [
       "Saving graph image sequence ID: ((5, 5), 152):   0%|          | 0/75 [00:00<?, ?it/s]"
      ]
     },
     "metadata": {},
     "output_type": "display_data"
    },
    {
     "name": "stdout",
     "output_type": "stream",
     "text": [
      "Creating graph and glimpse image sequence ID: ((5, 5), 152)\n"
     ]
    },
    {
     "data": {
      "application/vnd.jupyter.widget-view+json": {
       "model_id": "c8ee5f66ba194345a66c25f53200d121",
       "version_major": 2,
       "version_minor": 0
      },
      "text/plain": [
       "Iterating over two extreme cells in acquisition ID:(5, 6):   0%|          | 0/2 [00:00<?, ?it/s]"
      ]
     },
     "metadata": {},
     "output_type": "display_data"
    },
    {
     "data": {
      "application/vnd.jupyter.widget-view+json": {
       "model_id": "8777be76653242338ae3826195ee1731",
       "version_major": 2,
       "version_minor": 0
      },
      "text/plain": [
       "Creating glimpse ID: ((5, 6), 431):   0%|          | 0/75 [00:00<?, ?it/s]"
      ]
     },
     "metadata": {},
     "output_type": "display_data"
    },
    {
     "name": "stderr",
     "output_type": "stream",
     "text": [
      "/home/dayn/miniconda3/envs/aero/lib/python3.9/site-packages/dask/array/core.py:1744: PerformanceWarning: Increasing number of chunks by factor of 28\n",
      "  return da_func(*args, **kwargs)\n"
     ]
    },
    {
     "name": "stdout",
     "output_type": "stream",
     "text": [
      "Loading glimpse stack ((5, 6), 431) into memory (can take several minutes)\n",
      "Creating mask glimpse ID: ((5, 6), 431)\n"
     ]
    },
    {
     "data": {
      "application/vnd.jupyter.widget-view+json": {
       "model_id": "fef3233c1f2844c9976c30e4c624d777",
       "version_major": 2,
       "version_minor": 0
      },
      "text/plain": [
       "Creating mask glimpse ID: ((5, 6), 431):   0%|          | 0/75 [00:00<?, ?it/s]"
      ]
     },
     "metadata": {},
     "output_type": "display_data"
    },
    {
     "name": "stderr",
     "output_type": "stream",
     "text": [
      "/tmp/ipykernel_330135/3847468708.py:45: VisibleDeprecationWarning: Creating an ndarray from ragged nested sequences (which is a list-or-tuple of lists-or-tuples-or ndarrays with different lengths or shapes) is deprecated. If you meant to do this, you must specify 'dtype=object' when creating the ndarray.\n",
      "  mask_shapes = np.asarray(coords_stack, )#axis = 0)\n",
      "/home/dayn/miniconda3/envs/aero/lib/python3.9/site-packages/napari_tools_menu/__init__.py:194: FutureWarning: Public access to Window.qt_viewer is deprecated and will be removed in\n",
      "v0.5.0. It is considered an \"implementation detail\" of the napari\n",
      "application, not part of the napari viewer model. If your use case\n",
      "requires access to qt_viewer, please open an issue to discuss.\n",
      "  self.tools_menu = ToolsMenu(self, self.qt_viewer.viewer)\n"
     ]
    },
    {
     "data": {
      "application/vnd.jupyter.widget-view+json": {
       "model_id": "bc3117d579a14eaaaf7bc9d4a1834b8c",
       "version_major": 2,
       "version_minor": 0
      },
      "text/plain": [
       "Saving glimpse image sequence ID: ((5, 6), 431):   0%|          | 0/75 [00:00<?, ?it/s]"
      ]
     },
     "metadata": {},
     "output_type": "display_data"
    },
    {
     "name": "stdout",
     "output_type": "stream",
     "text": [
      "Creating mp4 glimpse ID: ((5, 6), 431)\n",
      "Creating graph image sequence ID: ((5, 6), 431)\n"
     ]
    },
    {
     "data": {
      "application/vnd.jupyter.widget-view+json": {
       "model_id": "90785f9d871d4b8b9532ffdd14effb67",
       "version_major": 2,
       "version_minor": 0
      },
      "text/plain": [
       "Saving graph image sequence ID: ((5, 6), 431):   0%|          | 0/75 [00:00<?, ?it/s]"
      ]
     },
     "metadata": {},
     "output_type": "display_data"
    },
    {
     "name": "stdout",
     "output_type": "stream",
     "text": [
      "Creating graph and glimpse image sequence ID: ((5, 6), 431)\n"
     ]
    },
    {
     "data": {
      "application/vnd.jupyter.widget-view+json": {
       "model_id": "537aa88f66084238bd5e73f2bc3a3d36",
       "version_major": 2,
       "version_minor": 0
      },
      "text/plain": [
       "Creating glimpse ID: ((5, 6), 193):   0%|          | 0/75 [00:00<?, ?it/s]"
      ]
     },
     "metadata": {},
     "output_type": "display_data"
    },
    {
     "name": "stderr",
     "output_type": "stream",
     "text": [
      "/home/dayn/miniconda3/envs/aero/lib/python3.9/site-packages/dask/array/core.py:1744: PerformanceWarning: Increasing number of chunks by factor of 27\n",
      "  return da_func(*args, **kwargs)\n"
     ]
    },
    {
     "name": "stdout",
     "output_type": "stream",
     "text": [
      "Loading glimpse stack ((5, 6), 193) into memory (can take several minutes)\n",
      "Creating mask glimpse ID: ((5, 6), 193)\n"
     ]
    },
    {
     "data": {
      "application/vnd.jupyter.widget-view+json": {
       "model_id": "616534f4ae0e47cd9be1d83dab26e9e4",
       "version_major": 2,
       "version_minor": 0
      },
      "text/plain": [
       "Creating mask glimpse ID: ((5, 6), 193):   0%|          | 0/75 [00:00<?, ?it/s]"
      ]
     },
     "metadata": {},
     "output_type": "display_data"
    },
    {
     "name": "stderr",
     "output_type": "stream",
     "text": [
      "/tmp/ipykernel_330135/3847468708.py:45: VisibleDeprecationWarning: Creating an ndarray from ragged nested sequences (which is a list-or-tuple of lists-or-tuples-or ndarrays with different lengths or shapes) is deprecated. If you meant to do this, you must specify 'dtype=object' when creating the ndarray.\n",
      "  mask_shapes = np.asarray(coords_stack, )#axis = 0)\n",
      "/home/dayn/miniconda3/envs/aero/lib/python3.9/site-packages/napari_tools_menu/__init__.py:194: FutureWarning: Public access to Window.qt_viewer is deprecated and will be removed in\n",
      "v0.5.0. It is considered an \"implementation detail\" of the napari\n",
      "application, not part of the napari viewer model. If your use case\n",
      "requires access to qt_viewer, please open an issue to discuss.\n",
      "  self.tools_menu = ToolsMenu(self, self.qt_viewer.viewer)\n"
     ]
    },
    {
     "data": {
      "application/vnd.jupyter.widget-view+json": {
       "model_id": "58621f67da294f95a8e3195bfdf44d11",
       "version_major": 2,
       "version_minor": 0
      },
      "text/plain": [
       "Saving glimpse image sequence ID: ((5, 6), 193):   0%|          | 0/75 [00:00<?, ?it/s]"
      ]
     },
     "metadata": {},
     "output_type": "display_data"
    },
    {
     "name": "stdout",
     "output_type": "stream",
     "text": [
      "Creating mp4 glimpse ID: ((5, 6), 193)\n",
      "Creating graph image sequence ID: ((5, 6), 193)\n"
     ]
    },
    {
     "data": {
      "application/vnd.jupyter.widget-view+json": {
       "model_id": "216de5e5f68b4427a77937126e9a1a1b",
       "version_major": 2,
       "version_minor": 0
      },
      "text/plain": [
       "Saving graph image sequence ID: ((5, 6), 193):   0%|          | 0/75 [00:00<?, ?it/s]"
      ]
     },
     "metadata": {},
     "output_type": "display_data"
    },
    {
     "name": "stdout",
     "output_type": "stream",
     "text": [
      "Creating graph and glimpse image sequence ID: ((5, 6), 193)\n"
     ]
    },
    {
     "data": {
      "application/vnd.jupyter.widget-view+json": {
       "model_id": "8c3c9ef02417435081d92779dff60a2b",
       "version_major": 2,
       "version_minor": 0
      },
      "text/plain": [
       "Iterating over two extreme cells in acquisition ID:(5, 7):   0%|          | 0/2 [00:00<?, ?it/s]"
      ]
     },
     "metadata": {},
     "output_type": "display_data"
    },
    {
     "data": {
      "application/vnd.jupyter.widget-view+json": {
       "model_id": "0f675bead8924323b405904d0e33e49f",
       "version_major": 2,
       "version_minor": 0
      },
      "text/plain": [
       "Creating glimpse ID: ((5, 7), 460):   0%|          | 0/75 [00:00<?, ?it/s]"
      ]
     },
     "metadata": {},
     "output_type": "display_data"
    },
    {
     "name": "stdout",
     "output_type": "stream",
     "text": [
      "Loading glimpse stack ((5, 7), 460) into memory (can take several minutes)\n",
      "Creating mask glimpse ID: ((5, 7), 460)\n"
     ]
    },
    {
     "data": {
      "application/vnd.jupyter.widget-view+json": {
       "model_id": "8c0699ff4f5e43e0a7900d01e30a9e67",
       "version_major": 2,
       "version_minor": 0
      },
      "text/plain": [
       "Creating mask glimpse ID: ((5, 7), 460):   0%|          | 0/75 [00:00<?, ?it/s]"
      ]
     },
     "metadata": {},
     "output_type": "display_data"
    },
    {
     "name": "stderr",
     "output_type": "stream",
     "text": [
      "/tmp/ipykernel_330135/3847468708.py:45: VisibleDeprecationWarning: Creating an ndarray from ragged nested sequences (which is a list-or-tuple of lists-or-tuples-or ndarrays with different lengths or shapes) is deprecated. If you meant to do this, you must specify 'dtype=object' when creating the ndarray.\n",
      "  mask_shapes = np.asarray(coords_stack, )#axis = 0)\n",
      "/home/dayn/miniconda3/envs/aero/lib/python3.9/site-packages/napari_tools_menu/__init__.py:194: FutureWarning: Public access to Window.qt_viewer is deprecated and will be removed in\n",
      "v0.5.0. It is considered an \"implementation detail\" of the napari\n",
      "application, not part of the napari viewer model. If your use case\n",
      "requires access to qt_viewer, please open an issue to discuss.\n",
      "  self.tools_menu = ToolsMenu(self, self.qt_viewer.viewer)\n"
     ]
    },
    {
     "data": {
      "application/vnd.jupyter.widget-view+json": {
       "model_id": "aebfc39cea4b4cc7b7b3036ef75e5649",
       "version_major": 2,
       "version_minor": 0
      },
      "text/plain": [
       "Saving glimpse image sequence ID: ((5, 7), 460):   0%|          | 0/75 [00:00<?, ?it/s]"
      ]
     },
     "metadata": {},
     "output_type": "display_data"
    },
    {
     "name": "stdout",
     "output_type": "stream",
     "text": [
      "Creating mp4 glimpse ID: ((5, 7), 460)\n",
      "Creating graph image sequence ID: ((5, 7), 460)\n"
     ]
    },
    {
     "data": {
      "application/vnd.jupyter.widget-view+json": {
       "model_id": "382ba50009124ea299e5f1a498febf1a",
       "version_major": 2,
       "version_minor": 0
      },
      "text/plain": [
       "Saving graph image sequence ID: ((5, 7), 460):   0%|          | 0/75 [00:00<?, ?it/s]"
      ]
     },
     "metadata": {},
     "output_type": "display_data"
    },
    {
     "name": "stdout",
     "output_type": "stream",
     "text": [
      "Creating graph and glimpse image sequence ID: ((5, 7), 460)\n"
     ]
    },
    {
     "data": {
      "application/vnd.jupyter.widget-view+json": {
       "model_id": "8a22f3c309d948fb8d7de7b3fa9e8bf1",
       "version_major": 2,
       "version_minor": 0
      },
      "text/plain": [
       "Creating glimpse ID: ((5, 7), 143):   0%|          | 0/75 [00:00<?, ?it/s]"
      ]
     },
     "metadata": {},
     "output_type": "display_data"
    },
    {
     "name": "stderr",
     "output_type": "stream",
     "text": [
      "/home/dayn/miniconda3/envs/aero/lib/python3.9/site-packages/dask/array/core.py:1744: PerformanceWarning: Increasing number of chunks by factor of 211\n",
      "  return da_func(*args, **kwargs)\n"
     ]
    },
    {
     "name": "stdout",
     "output_type": "stream",
     "text": [
      "Loading glimpse stack ((5, 7), 143) into memory (can take several minutes)\n",
      "Creating mask glimpse ID: ((5, 7), 143)\n"
     ]
    },
    {
     "data": {
      "application/vnd.jupyter.widget-view+json": {
       "model_id": "feddb3e5338b4fed99131cc7e70c79da",
       "version_major": 2,
       "version_minor": 0
      },
      "text/plain": [
       "Creating mask glimpse ID: ((5, 7), 143):   0%|          | 0/75 [00:00<?, ?it/s]"
      ]
     },
     "metadata": {},
     "output_type": "display_data"
    },
    {
     "name": "stderr",
     "output_type": "stream",
     "text": [
      "/tmp/ipykernel_330135/3847468708.py:45: VisibleDeprecationWarning: Creating an ndarray from ragged nested sequences (which is a list-or-tuple of lists-or-tuples-or ndarrays with different lengths or shapes) is deprecated. If you meant to do this, you must specify 'dtype=object' when creating the ndarray.\n",
      "  mask_shapes = np.asarray(coords_stack, )#axis = 0)\n",
      "/home/dayn/miniconda3/envs/aero/lib/python3.9/site-packages/napari_tools_menu/__init__.py:194: FutureWarning: Public access to Window.qt_viewer is deprecated and will be removed in\n",
      "v0.5.0. It is considered an \"implementation detail\" of the napari\n",
      "application, not part of the napari viewer model. If your use case\n",
      "requires access to qt_viewer, please open an issue to discuss.\n",
      "  self.tools_menu = ToolsMenu(self, self.qt_viewer.viewer)\n"
     ]
    },
    {
     "data": {
      "application/vnd.jupyter.widget-view+json": {
       "model_id": "02e782b853e143bd8f1a65f3d2082be5",
       "version_major": 2,
       "version_minor": 0
      },
      "text/plain": [
       "Saving glimpse image sequence ID: ((5, 7), 143):   0%|          | 0/75 [00:00<?, ?it/s]"
      ]
     },
     "metadata": {},
     "output_type": "display_data"
    },
    {
     "name": "stdout",
     "output_type": "stream",
     "text": [
      "Creating mp4 glimpse ID: ((5, 7), 143)\n",
      "Creating graph image sequence ID: ((5, 7), 143)\n"
     ]
    },
    {
     "data": {
      "application/vnd.jupyter.widget-view+json": {
       "model_id": "eaeeea14f1f644fcacf2da31c02db2ff",
       "version_major": 2,
       "version_minor": 0
      },
      "text/plain": [
       "Saving graph image sequence ID: ((5, 7), 143):   0%|          | 0/75 [00:00<?, ?it/s]"
      ]
     },
     "metadata": {},
     "output_type": "display_data"
    },
    {
     "name": "stdout",
     "output_type": "stream",
     "text": [
      "Creating graph and glimpse image sequence ID: ((5, 7), 143)\n"
     ]
    },
    {
     "data": {
      "application/vnd.jupyter.widget-view+json": {
       "model_id": "e6928a106bc64614a6fd5fbad45688f5",
       "version_major": 2,
       "version_minor": 0
      },
      "text/plain": [
       "Iterating over two extreme cells in acquisition ID:(5, 8):   0%|          | 0/2 [00:00<?, ?it/s]"
      ]
     },
     "metadata": {},
     "output_type": "display_data"
    },
    {
     "data": {
      "application/vnd.jupyter.widget-view+json": {
       "model_id": "e4c3052769b2459eaaa868d2b4106d7a",
       "version_major": 2,
       "version_minor": 0
      },
      "text/plain": [
       "Creating glimpse ID: ((5, 8), 230):   0%|          | 0/75 [00:00<?, ?it/s]"
      ]
     },
     "metadata": {},
     "output_type": "display_data"
    },
    {
     "name": "stdout",
     "output_type": "stream",
     "text": [
      "Loading glimpse stack ((5, 8), 230) into memory (can take several minutes)\n",
      "Creating mask glimpse ID: ((5, 8), 230)\n"
     ]
    },
    {
     "data": {
      "application/vnd.jupyter.widget-view+json": {
       "model_id": "191a2f1ceccb4f35bbc54cb3c8871b23",
       "version_major": 2,
       "version_minor": 0
      },
      "text/plain": [
       "Creating mask glimpse ID: ((5, 8), 230):   0%|          | 0/75 [00:00<?, ?it/s]"
      ]
     },
     "metadata": {},
     "output_type": "display_data"
    },
    {
     "name": "stderr",
     "output_type": "stream",
     "text": [
      "/tmp/ipykernel_330135/3847468708.py:45: VisibleDeprecationWarning: Creating an ndarray from ragged nested sequences (which is a list-or-tuple of lists-or-tuples-or ndarrays with different lengths or shapes) is deprecated. If you meant to do this, you must specify 'dtype=object' when creating the ndarray.\n",
      "  mask_shapes = np.asarray(coords_stack, )#axis = 0)\n",
      "/home/dayn/miniconda3/envs/aero/lib/python3.9/site-packages/napari_tools_menu/__init__.py:194: FutureWarning: Public access to Window.qt_viewer is deprecated and will be removed in\n",
      "v0.5.0. It is considered an \"implementation detail\" of the napari\n",
      "application, not part of the napari viewer model. If your use case\n",
      "requires access to qt_viewer, please open an issue to discuss.\n",
      "  self.tools_menu = ToolsMenu(self, self.qt_viewer.viewer)\n"
     ]
    },
    {
     "data": {
      "application/vnd.jupyter.widget-view+json": {
       "model_id": "4122011a67f4479f8155a03834425467",
       "version_major": 2,
       "version_minor": 0
      },
      "text/plain": [
       "Saving glimpse image sequence ID: ((5, 8), 230):   0%|          | 0/75 [00:00<?, ?it/s]"
      ]
     },
     "metadata": {},
     "output_type": "display_data"
    },
    {
     "name": "stdout",
     "output_type": "stream",
     "text": [
      "Creating mp4 glimpse ID: ((5, 8), 230)\n",
      "Creating graph image sequence ID: ((5, 8), 230)\n"
     ]
    },
    {
     "data": {
      "application/vnd.jupyter.widget-view+json": {
       "model_id": "b2be2de9f6d64418988a5ad4822c5c71",
       "version_major": 2,
       "version_minor": 0
      },
      "text/plain": [
       "Saving graph image sequence ID: ((5, 8), 230):   0%|          | 0/75 [00:00<?, ?it/s]"
      ]
     },
     "metadata": {},
     "output_type": "display_data"
    },
    {
     "name": "stdout",
     "output_type": "stream",
     "text": [
      "Creating graph and glimpse image sequence ID: ((5, 8), 230)\n"
     ]
    },
    {
     "data": {
      "application/vnd.jupyter.widget-view+json": {
       "model_id": "0640501fd33d43b1a1d04a500f9f1224",
       "version_major": 2,
       "version_minor": 0
      },
      "text/plain": [
       "Creating glimpse ID: ((5, 8), 285):   0%|          | 0/75 [00:00<?, ?it/s]"
      ]
     },
     "metadata": {},
     "output_type": "display_data"
    },
    {
     "name": "stderr",
     "output_type": "stream",
     "text": [
      "/home/dayn/miniconda3/envs/aero/lib/python3.9/site-packages/dask/array/core.py:1744: PerformanceWarning: Increasing number of chunks by factor of 23\n",
      "  return da_func(*args, **kwargs)\n"
     ]
    },
    {
     "name": "stdout",
     "output_type": "stream",
     "text": [
      "Loading glimpse stack ((5, 8), 285) into memory (can take several minutes)\n",
      "Creating mask glimpse ID: ((5, 8), 285)\n"
     ]
    },
    {
     "data": {
      "application/vnd.jupyter.widget-view+json": {
       "model_id": "d9d1794312d94f42b05cea4f6a831990",
       "version_major": 2,
       "version_minor": 0
      },
      "text/plain": [
       "Creating mask glimpse ID: ((5, 8), 285):   0%|          | 0/75 [00:00<?, ?it/s]"
      ]
     },
     "metadata": {},
     "output_type": "display_data"
    },
    {
     "name": "stderr",
     "output_type": "stream",
     "text": [
      "/tmp/ipykernel_330135/3847468708.py:45: VisibleDeprecationWarning: Creating an ndarray from ragged nested sequences (which is a list-or-tuple of lists-or-tuples-or ndarrays with different lengths or shapes) is deprecated. If you meant to do this, you must specify 'dtype=object' when creating the ndarray.\n",
      "  mask_shapes = np.asarray(coords_stack, )#axis = 0)\n",
      "/home/dayn/miniconda3/envs/aero/lib/python3.9/site-packages/napari_tools_menu/__init__.py:194: FutureWarning: Public access to Window.qt_viewer is deprecated and will be removed in\n",
      "v0.5.0. It is considered an \"implementation detail\" of the napari\n",
      "application, not part of the napari viewer model. If your use case\n",
      "requires access to qt_viewer, please open an issue to discuss.\n",
      "  self.tools_menu = ToolsMenu(self, self.qt_viewer.viewer)\n"
     ]
    },
    {
     "data": {
      "application/vnd.jupyter.widget-view+json": {
       "model_id": "34d49d675570485c927f2bd79779adb3",
       "version_major": 2,
       "version_minor": 0
      },
      "text/plain": [
       "Saving glimpse image sequence ID: ((5, 8), 285):   0%|          | 0/75 [00:00<?, ?it/s]"
      ]
     },
     "metadata": {},
     "output_type": "display_data"
    },
    {
     "name": "stdout",
     "output_type": "stream",
     "text": [
      "Creating mp4 glimpse ID: ((5, 8), 285)\n",
      "Creating graph image sequence ID: ((5, 8), 285)\n"
     ]
    },
    {
     "data": {
      "application/vnd.jupyter.widget-view+json": {
       "model_id": "0b8f61caac5a4cafbf822f2b16446817",
       "version_major": 2,
       "version_minor": 0
      },
      "text/plain": [
       "Saving graph image sequence ID: ((5, 8), 285):   0%|          | 0/75 [00:00<?, ?it/s]"
      ]
     },
     "metadata": {},
     "output_type": "display_data"
    },
    {
     "name": "stdout",
     "output_type": "stream",
     "text": [
      "Creating graph and glimpse image sequence ID: ((5, 8), 285)\n"
     ]
    },
    {
     "data": {
      "application/vnd.jupyter.widget-view+json": {
       "model_id": "d131f946da394edcab089936aae58d3a",
       "version_major": 2,
       "version_minor": 0
      },
      "text/plain": [
       "Iterating over two extreme cells in acquisition ID:(5, 9):   0%|          | 0/2 [00:00<?, ?it/s]"
      ]
     },
     "metadata": {},
     "output_type": "display_data"
    },
    {
     "data": {
      "application/vnd.jupyter.widget-view+json": {
       "model_id": "013ad903625043fab07dd9ca07477807",
       "version_major": 2,
       "version_minor": 0
      },
      "text/plain": [
       "Creating glimpse ID: ((5, 9), 101):   0%|          | 0/75 [00:00<?, ?it/s]"
      ]
     },
     "metadata": {},
     "output_type": "display_data"
    },
    {
     "name": "stderr",
     "output_type": "stream",
     "text": [
      "/home/dayn/miniconda3/envs/aero/lib/python3.9/site-packages/dask/array/core.py:1744: PerformanceWarning: Increasing number of chunks by factor of 22\n",
      "  return da_func(*args, **kwargs)\n"
     ]
    },
    {
     "name": "stdout",
     "output_type": "stream",
     "text": [
      "Loading glimpse stack ((5, 9), 101) into memory (can take several minutes)\n",
      "Creating mask glimpse ID: ((5, 9), 101)\n"
     ]
    },
    {
     "data": {
      "application/vnd.jupyter.widget-view+json": {
       "model_id": "b7d3c941b99c40fc9928b26185365064",
       "version_major": 2,
       "version_minor": 0
      },
      "text/plain": [
       "Creating mask glimpse ID: ((5, 9), 101):   0%|          | 0/75 [00:00<?, ?it/s]"
      ]
     },
     "metadata": {},
     "output_type": "display_data"
    },
    {
     "name": "stderr",
     "output_type": "stream",
     "text": [
      "/tmp/ipykernel_330135/3847468708.py:45: VisibleDeprecationWarning: Creating an ndarray from ragged nested sequences (which is a list-or-tuple of lists-or-tuples-or ndarrays with different lengths or shapes) is deprecated. If you meant to do this, you must specify 'dtype=object' when creating the ndarray.\n",
      "  mask_shapes = np.asarray(coords_stack, )#axis = 0)\n",
      "/home/dayn/miniconda3/envs/aero/lib/python3.9/site-packages/napari_tools_menu/__init__.py:194: FutureWarning: Public access to Window.qt_viewer is deprecated and will be removed in\n",
      "v0.5.0. It is considered an \"implementation detail\" of the napari\n",
      "application, not part of the napari viewer model. If your use case\n",
      "requires access to qt_viewer, please open an issue to discuss.\n",
      "  self.tools_menu = ToolsMenu(self, self.qt_viewer.viewer)\n"
     ]
    },
    {
     "data": {
      "application/vnd.jupyter.widget-view+json": {
       "model_id": "89d80bfc44214d96b84ef5ad90decf8b",
       "version_major": 2,
       "version_minor": 0
      },
      "text/plain": [
       "Saving glimpse image sequence ID: ((5, 9), 101):   0%|          | 0/75 [00:00<?, ?it/s]"
      ]
     },
     "metadata": {},
     "output_type": "display_data"
    },
    {
     "name": "stdout",
     "output_type": "stream",
     "text": [
      "Creating mp4 glimpse ID: ((5, 9), 101)\n",
      "Creating graph image sequence ID: ((5, 9), 101)\n"
     ]
    },
    {
     "data": {
      "application/vnd.jupyter.widget-view+json": {
       "model_id": "5b8912278ab24b6ea80af1b65c8c528a",
       "version_major": 2,
       "version_minor": 0
      },
      "text/plain": [
       "Saving graph image sequence ID: ((5, 9), 101):   0%|          | 0/75 [00:00<?, ?it/s]"
      ]
     },
     "metadata": {},
     "output_type": "display_data"
    },
    {
     "name": "stdout",
     "output_type": "stream",
     "text": [
      "Creating graph and glimpse image sequence ID: ((5, 9), 101)\n"
     ]
    },
    {
     "data": {
      "application/vnd.jupyter.widget-view+json": {
       "model_id": "fdc0794ed8224087bf55a8034b42e5f1",
       "version_major": 2,
       "version_minor": 0
      },
      "text/plain": [
       "Creating glimpse ID: ((5, 9), 46):   0%|          | 0/75 [00:00<?, ?it/s]"
      ]
     },
     "metadata": {},
     "output_type": "display_data"
    },
    {
     "name": "stderr",
     "output_type": "stream",
     "text": [
      "/home/dayn/miniconda3/envs/aero/lib/python3.9/site-packages/dask/array/core.py:1744: PerformanceWarning: Increasing number of chunks by factor of 395\n",
      "  return da_func(*args, **kwargs)\n"
     ]
    },
    {
     "name": "stdout",
     "output_type": "stream",
     "text": [
      "Loading glimpse stack ((5, 9), 46) into memory (can take several minutes)\n",
      "Creating mask glimpse ID: ((5, 9), 46)\n"
     ]
    },
    {
     "data": {
      "application/vnd.jupyter.widget-view+json": {
       "model_id": "a0ba968ba0e64cb9a617cff56eb98aa3",
       "version_major": 2,
       "version_minor": 0
      },
      "text/plain": [
       "Creating mask glimpse ID: ((5, 9), 46):   0%|          | 0/75 [00:00<?, ?it/s]"
      ]
     },
     "metadata": {},
     "output_type": "display_data"
    },
    {
     "name": "stderr",
     "output_type": "stream",
     "text": [
      "/tmp/ipykernel_330135/3847468708.py:45: VisibleDeprecationWarning: Creating an ndarray from ragged nested sequences (which is a list-or-tuple of lists-or-tuples-or ndarrays with different lengths or shapes) is deprecated. If you meant to do this, you must specify 'dtype=object' when creating the ndarray.\n",
      "  mask_shapes = np.asarray(coords_stack, )#axis = 0)\n",
      "/home/dayn/miniconda3/envs/aero/lib/python3.9/site-packages/napari_tools_menu/__init__.py:194: FutureWarning: Public access to Window.qt_viewer is deprecated and will be removed in\n",
      "v0.5.0. It is considered an \"implementation detail\" of the napari\n",
      "application, not part of the napari viewer model. If your use case\n",
      "requires access to qt_viewer, please open an issue to discuss.\n",
      "  self.tools_menu = ToolsMenu(self, self.qt_viewer.viewer)\n"
     ]
    },
    {
     "data": {
      "application/vnd.jupyter.widget-view+json": {
       "model_id": "6b1c6a3b5a9949a98acb9c57492783bb",
       "version_major": 2,
       "version_minor": 0
      },
      "text/plain": [
       "Saving glimpse image sequence ID: ((5, 9), 46):   0%|          | 0/75 [00:00<?, ?it/s]"
      ]
     },
     "metadata": {},
     "output_type": "display_data"
    },
    {
     "name": "stdout",
     "output_type": "stream",
     "text": [
      "Creating mp4 glimpse ID: ((5, 9), 46)\n",
      "Creating graph image sequence ID: ((5, 9), 46)\n"
     ]
    },
    {
     "data": {
      "application/vnd.jupyter.widget-view+json": {
       "model_id": "17214ecc92ef41b09278723a702747fe",
       "version_major": 2,
       "version_minor": 0
      },
      "text/plain": [
       "Saving graph image sequence ID: ((5, 9), 46):   0%|          | 0/75 [00:00<?, ?it/s]"
      ]
     },
     "metadata": {},
     "output_type": "display_data"
    },
    {
     "name": "stdout",
     "output_type": "stream",
     "text": [
      "Creating graph and glimpse image sequence ID: ((5, 9), 46)\n"
     ]
    },
    {
     "data": {
      "application/vnd.jupyter.widget-view+json": {
       "model_id": "2bc02048d8824ce98a3c8b610bae1745",
       "version_major": 2,
       "version_minor": 0
      },
      "text/plain": [
       "Iterating over two extreme cells in acquisition ID:(6, 4):   0%|          | 0/2 [00:00<?, ?it/s]"
      ]
     },
     "metadata": {},
     "output_type": "display_data"
    },
    {
     "data": {
      "application/vnd.jupyter.widget-view+json": {
       "model_id": "35767d00fed94b1e823612abc3944448",
       "version_major": 2,
       "version_minor": 0
      },
      "text/plain": [
       "Creating glimpse ID: ((6, 4), 407):   0%|          | 0/75 [00:00<?, ?it/s]"
      ]
     },
     "metadata": {},
     "output_type": "display_data"
    },
    {
     "name": "stdout",
     "output_type": "stream",
     "text": [
      "Loading glimpse stack ((6, 4), 407) into memory (can take several minutes)\n",
      "Creating mask glimpse ID: ((6, 4), 407)\n"
     ]
    },
    {
     "data": {
      "application/vnd.jupyter.widget-view+json": {
       "model_id": "f151130dc38644bc8dac1f2b57b41c77",
       "version_major": 2,
       "version_minor": 0
      },
      "text/plain": [
       "Creating mask glimpse ID: ((6, 4), 407):   0%|          | 0/75 [00:00<?, ?it/s]"
      ]
     },
     "metadata": {},
     "output_type": "display_data"
    },
    {
     "name": "stderr",
     "output_type": "stream",
     "text": [
      "/tmp/ipykernel_330135/3847468708.py:45: VisibleDeprecationWarning: Creating an ndarray from ragged nested sequences (which is a list-or-tuple of lists-or-tuples-or ndarrays with different lengths or shapes) is deprecated. If you meant to do this, you must specify 'dtype=object' when creating the ndarray.\n",
      "  mask_shapes = np.asarray(coords_stack, )#axis = 0)\n",
      "/home/dayn/miniconda3/envs/aero/lib/python3.9/site-packages/napari_tools_menu/__init__.py:194: FutureWarning: Public access to Window.qt_viewer is deprecated and will be removed in\n",
      "v0.5.0. It is considered an \"implementation detail\" of the napari\n",
      "application, not part of the napari viewer model. If your use case\n",
      "requires access to qt_viewer, please open an issue to discuss.\n",
      "  self.tools_menu = ToolsMenu(self, self.qt_viewer.viewer)\n"
     ]
    },
    {
     "data": {
      "application/vnd.jupyter.widget-view+json": {
       "model_id": "cb616866328344b1bec44de1d7274f57",
       "version_major": 2,
       "version_minor": 0
      },
      "text/plain": [
       "Saving glimpse image sequence ID: ((6, 4), 407):   0%|          | 0/75 [00:00<?, ?it/s]"
      ]
     },
     "metadata": {},
     "output_type": "display_data"
    },
    {
     "name": "stdout",
     "output_type": "stream",
     "text": [
      "Creating mp4 glimpse ID: ((6, 4), 407)\n",
      "Creating graph image sequence ID: ((6, 4), 407)\n"
     ]
    },
    {
     "data": {
      "application/vnd.jupyter.widget-view+json": {
       "model_id": "ef3647a350364300af17d978fc86d9cd",
       "version_major": 2,
       "version_minor": 0
      },
      "text/plain": [
       "Saving graph image sequence ID: ((6, 4), 407):   0%|          | 0/75 [00:00<?, ?it/s]"
      ]
     },
     "metadata": {},
     "output_type": "display_data"
    },
    {
     "name": "stdout",
     "output_type": "stream",
     "text": [
      "Creating graph and glimpse image sequence ID: ((6, 4), 407)\n"
     ]
    },
    {
     "data": {
      "application/vnd.jupyter.widget-view+json": {
       "model_id": "dd95a5589f104fc1a3b2841c28162565",
       "version_major": 2,
       "version_minor": 0
      },
      "text/plain": [
       "Creating glimpse ID: ((6, 4), 109):   0%|          | 0/75 [00:00<?, ?it/s]"
      ]
     },
     "metadata": {},
     "output_type": "display_data"
    },
    {
     "name": "stderr",
     "output_type": "stream",
     "text": [
      "/home/dayn/miniconda3/envs/aero/lib/python3.9/site-packages/dask/array/core.py:1744: PerformanceWarning: Increasing number of chunks by factor of 171\n",
      "  return da_func(*args, **kwargs)\n"
     ]
    },
    {
     "name": "stdout",
     "output_type": "stream",
     "text": [
      "Loading glimpse stack ((6, 4), 109) into memory (can take several minutes)\n",
      "Creating mask glimpse ID: ((6, 4), 109)\n"
     ]
    },
    {
     "data": {
      "application/vnd.jupyter.widget-view+json": {
       "model_id": "bc30844c1b0e4729b7889d38bd34515b",
       "version_major": 2,
       "version_minor": 0
      },
      "text/plain": [
       "Creating mask glimpse ID: ((6, 4), 109):   0%|          | 0/75 [00:00<?, ?it/s]"
      ]
     },
     "metadata": {},
     "output_type": "display_data"
    },
    {
     "name": "stderr",
     "output_type": "stream",
     "text": [
      "/tmp/ipykernel_330135/3847468708.py:45: VisibleDeprecationWarning: Creating an ndarray from ragged nested sequences (which is a list-or-tuple of lists-or-tuples-or ndarrays with different lengths or shapes) is deprecated. If you meant to do this, you must specify 'dtype=object' when creating the ndarray.\n",
      "  mask_shapes = np.asarray(coords_stack, )#axis = 0)\n",
      "/home/dayn/miniconda3/envs/aero/lib/python3.9/site-packages/napari_tools_menu/__init__.py:194: FutureWarning: Public access to Window.qt_viewer is deprecated and will be removed in\n",
      "v0.5.0. It is considered an \"implementation detail\" of the napari\n",
      "application, not part of the napari viewer model. If your use case\n",
      "requires access to qt_viewer, please open an issue to discuss.\n",
      "  self.tools_menu = ToolsMenu(self, self.qt_viewer.viewer)\n"
     ]
    },
    {
     "data": {
      "application/vnd.jupyter.widget-view+json": {
       "model_id": "2dc298d1a6474fccb97e36b8140bfb12",
       "version_major": 2,
       "version_minor": 0
      },
      "text/plain": [
       "Saving glimpse image sequence ID: ((6, 4), 109):   0%|          | 0/75 [00:00<?, ?it/s]"
      ]
     },
     "metadata": {},
     "output_type": "display_data"
    },
    {
     "name": "stdout",
     "output_type": "stream",
     "text": [
      "Creating mp4 glimpse ID: ((6, 4), 109)\n",
      "Creating graph image sequence ID: ((6, 4), 109)\n"
     ]
    },
    {
     "data": {
      "application/vnd.jupyter.widget-view+json": {
       "model_id": "c29f00d532224e6698776d04fbdc7449",
       "version_major": 2,
       "version_minor": 0
      },
      "text/plain": [
       "Saving graph image sequence ID: ((6, 4), 109):   0%|          | 0/75 [00:00<?, ?it/s]"
      ]
     },
     "metadata": {},
     "output_type": "display_data"
    },
    {
     "name": "stdout",
     "output_type": "stream",
     "text": [
      "Creating graph and glimpse image sequence ID: ((6, 4), 109)\n"
     ]
    },
    {
     "data": {
      "application/vnd.jupyter.widget-view+json": {
       "model_id": "5d13ad8c3f1d4db98d3592c1a3179594",
       "version_major": 2,
       "version_minor": 0
      },
      "text/plain": [
       "Iterating over two extreme cells in acquisition ID:(6, 5):   0%|          | 0/2 [00:00<?, ?it/s]"
      ]
     },
     "metadata": {},
     "output_type": "display_data"
    },
    {
     "data": {
      "application/vnd.jupyter.widget-view+json": {
       "model_id": "4d7be58b3473499490332f86ee7d921c",
       "version_major": 2,
       "version_minor": 0
      },
      "text/plain": [
       "Creating glimpse ID: ((6, 5), 160):   0%|          | 0/75 [00:00<?, ?it/s]"
      ]
     },
     "metadata": {},
     "output_type": "display_data"
    },
    {
     "name": "stderr",
     "output_type": "stream",
     "text": [
      "/home/dayn/miniconda3/envs/aero/lib/python3.9/site-packages/dask/array/core.py:1744: PerformanceWarning: Increasing number of chunks by factor of 16\n",
      "  return da_func(*args, **kwargs)\n"
     ]
    },
    {
     "name": "stdout",
     "output_type": "stream",
     "text": [
      "Loading glimpse stack ((6, 5), 160) into memory (can take several minutes)\n",
      "Creating mask glimpse ID: ((6, 5), 160)\n"
     ]
    },
    {
     "data": {
      "application/vnd.jupyter.widget-view+json": {
       "model_id": "976064ae6fda4933b8389f94ad0369bf",
       "version_major": 2,
       "version_minor": 0
      },
      "text/plain": [
       "Creating mask glimpse ID: ((6, 5), 160):   0%|          | 0/75 [00:00<?, ?it/s]"
      ]
     },
     "metadata": {},
     "output_type": "display_data"
    },
    {
     "name": "stderr",
     "output_type": "stream",
     "text": [
      "/tmp/ipykernel_330135/3847468708.py:45: VisibleDeprecationWarning: Creating an ndarray from ragged nested sequences (which is a list-or-tuple of lists-or-tuples-or ndarrays with different lengths or shapes) is deprecated. If you meant to do this, you must specify 'dtype=object' when creating the ndarray.\n",
      "  mask_shapes = np.asarray(coords_stack, )#axis = 0)\n",
      "/home/dayn/miniconda3/envs/aero/lib/python3.9/site-packages/napari_tools_menu/__init__.py:194: FutureWarning: Public access to Window.qt_viewer is deprecated and will be removed in\n",
      "v0.5.0. It is considered an \"implementation detail\" of the napari\n",
      "application, not part of the napari viewer model. If your use case\n",
      "requires access to qt_viewer, please open an issue to discuss.\n",
      "  self.tools_menu = ToolsMenu(self, self.qt_viewer.viewer)\n"
     ]
    },
    {
     "data": {
      "application/vnd.jupyter.widget-view+json": {
       "model_id": "ebdcabd1fa354bfd82ab6b29332224d7",
       "version_major": 2,
       "version_minor": 0
      },
      "text/plain": [
       "Saving glimpse image sequence ID: ((6, 5), 160):   0%|          | 0/75 [00:00<?, ?it/s]"
      ]
     },
     "metadata": {},
     "output_type": "display_data"
    },
    {
     "name": "stdout",
     "output_type": "stream",
     "text": [
      "Creating mp4 glimpse ID: ((6, 5), 160)\n",
      "Creating graph image sequence ID: ((6, 5), 160)\n"
     ]
    },
    {
     "data": {
      "application/vnd.jupyter.widget-view+json": {
       "model_id": "7e4220acb8ca40f0bf94dccc2df2517d",
       "version_major": 2,
       "version_minor": 0
      },
      "text/plain": [
       "Saving graph image sequence ID: ((6, 5), 160):   0%|          | 0/75 [00:00<?, ?it/s]"
      ]
     },
     "metadata": {},
     "output_type": "display_data"
    },
    {
     "name": "stdout",
     "output_type": "stream",
     "text": [
      "Creating graph and glimpse image sequence ID: ((6, 5), 160)\n"
     ]
    },
    {
     "data": {
      "application/vnd.jupyter.widget-view+json": {
       "model_id": "6de376305dfb4614893fe46abb87a5a2",
       "version_major": 2,
       "version_minor": 0
      },
      "text/plain": [
       "Creating glimpse ID: ((6, 5), 352):   0%|          | 0/75 [00:00<?, ?it/s]"
      ]
     },
     "metadata": {},
     "output_type": "display_data"
    },
    {
     "name": "stderr",
     "output_type": "stream",
     "text": [
      "/home/dayn/miniconda3/envs/aero/lib/python3.9/site-packages/dask/array/core.py:1744: PerformanceWarning: Increasing number of chunks by factor of 472\n",
      "  return da_func(*args, **kwargs)\n"
     ]
    },
    {
     "name": "stdout",
     "output_type": "stream",
     "text": [
      "Loading glimpse stack ((6, 5), 352) into memory (can take several minutes)\n",
      "Creating mask glimpse ID: ((6, 5), 352)\n"
     ]
    },
    {
     "data": {
      "application/vnd.jupyter.widget-view+json": {
       "model_id": "9714ae350efd4d38aed9ccfb210926cc",
       "version_major": 2,
       "version_minor": 0
      },
      "text/plain": [
       "Creating mask glimpse ID: ((6, 5), 352):   0%|          | 0/75 [00:00<?, ?it/s]"
      ]
     },
     "metadata": {},
     "output_type": "display_data"
    },
    {
     "name": "stderr",
     "output_type": "stream",
     "text": [
      "/tmp/ipykernel_330135/3847468708.py:45: VisibleDeprecationWarning: Creating an ndarray from ragged nested sequences (which is a list-or-tuple of lists-or-tuples-or ndarrays with different lengths or shapes) is deprecated. If you meant to do this, you must specify 'dtype=object' when creating the ndarray.\n",
      "  mask_shapes = np.asarray(coords_stack, )#axis = 0)\n",
      "/home/dayn/miniconda3/envs/aero/lib/python3.9/site-packages/napari_tools_menu/__init__.py:194: FutureWarning: Public access to Window.qt_viewer is deprecated and will be removed in\n",
      "v0.5.0. It is considered an \"implementation detail\" of the napari\n",
      "application, not part of the napari viewer model. If your use case\n",
      "requires access to qt_viewer, please open an issue to discuss.\n",
      "  self.tools_menu = ToolsMenu(self, self.qt_viewer.viewer)\n"
     ]
    },
    {
     "data": {
      "application/vnd.jupyter.widget-view+json": {
       "model_id": "2ec09bcf10e746cb99e5240d33674445",
       "version_major": 2,
       "version_minor": 0
      },
      "text/plain": [
       "Saving glimpse image sequence ID: ((6, 5), 352):   0%|          | 0/75 [00:00<?, ?it/s]"
      ]
     },
     "metadata": {},
     "output_type": "display_data"
    },
    {
     "name": "stdout",
     "output_type": "stream",
     "text": [
      "Creating mp4 glimpse ID: ((6, 5), 352)\n",
      "Creating graph image sequence ID: ((6, 5), 352)\n"
     ]
    },
    {
     "data": {
      "application/vnd.jupyter.widget-view+json": {
       "model_id": "8b8105c8d5224eddb408691fce81e97b",
       "version_major": 2,
       "version_minor": 0
      },
      "text/plain": [
       "Saving graph image sequence ID: ((6, 5), 352):   0%|          | 0/75 [00:00<?, ?it/s]"
      ]
     },
     "metadata": {},
     "output_type": "display_data"
    },
    {
     "name": "stdout",
     "output_type": "stream",
     "text": [
      "Creating graph and glimpse image sequence ID: ((6, 5), 352)\n"
     ]
    },
    {
     "data": {
      "application/vnd.jupyter.widget-view+json": {
       "model_id": "9d7ed61dea2345ec9e2931c6fe2c6d3f",
       "version_major": 2,
       "version_minor": 0
      },
      "text/plain": [
       "Iterating over two extreme cells in acquisition ID:(6, 6):   0%|          | 0/2 [00:00<?, ?it/s]"
      ]
     },
     "metadata": {},
     "output_type": "display_data"
    },
    {
     "data": {
      "application/vnd.jupyter.widget-view+json": {
       "model_id": "747cff3920ec4ac8a626aad4e1a91b0f",
       "version_major": 2,
       "version_minor": 0
      },
      "text/plain": [
       "Creating glimpse ID: ((6, 6), 189):   0%|          | 0/75 [00:00<?, ?it/s]"
      ]
     },
     "metadata": {},
     "output_type": "display_data"
    },
    {
     "name": "stdout",
     "output_type": "stream",
     "text": [
      "Loading glimpse stack ((6, 6), 189) into memory (can take several minutes)\n",
      "Creating mask glimpse ID: ((6, 6), 189)\n"
     ]
    },
    {
     "data": {
      "application/vnd.jupyter.widget-view+json": {
       "model_id": "fff80f88321d4cfbaa351a07706141c3",
       "version_major": 2,
       "version_minor": 0
      },
      "text/plain": [
       "Creating mask glimpse ID: ((6, 6), 189):   0%|          | 0/75 [00:00<?, ?it/s]"
      ]
     },
     "metadata": {},
     "output_type": "display_data"
    },
    {
     "name": "stderr",
     "output_type": "stream",
     "text": [
      "/tmp/ipykernel_330135/3847468708.py:45: VisibleDeprecationWarning: Creating an ndarray from ragged nested sequences (which is a list-or-tuple of lists-or-tuples-or ndarrays with different lengths or shapes) is deprecated. If you meant to do this, you must specify 'dtype=object' when creating the ndarray.\n",
      "  mask_shapes = np.asarray(coords_stack, )#axis = 0)\n",
      "/home/dayn/miniconda3/envs/aero/lib/python3.9/site-packages/napari_tools_menu/__init__.py:194: FutureWarning: Public access to Window.qt_viewer is deprecated and will be removed in\n",
      "v0.5.0. It is considered an \"implementation detail\" of the napari\n",
      "application, not part of the napari viewer model. If your use case\n",
      "requires access to qt_viewer, please open an issue to discuss.\n",
      "  self.tools_menu = ToolsMenu(self, self.qt_viewer.viewer)\n"
     ]
    },
    {
     "data": {
      "application/vnd.jupyter.widget-view+json": {
       "model_id": "1cc86eb8941b4c7eb4b24f0313976b16",
       "version_major": 2,
       "version_minor": 0
      },
      "text/plain": [
       "Saving glimpse image sequence ID: ((6, 6), 189):   0%|          | 0/75 [00:00<?, ?it/s]"
      ]
     },
     "metadata": {},
     "output_type": "display_data"
    },
    {
     "name": "stdout",
     "output_type": "stream",
     "text": [
      "Creating mp4 glimpse ID: ((6, 6), 189)\n",
      "Creating graph image sequence ID: ((6, 6), 189)\n"
     ]
    },
    {
     "data": {
      "application/vnd.jupyter.widget-view+json": {
       "model_id": "62c8ed1c76da4200ad77c85a10ed5d71",
       "version_major": 2,
       "version_minor": 0
      },
      "text/plain": [
       "Saving graph image sequence ID: ((6, 6), 189):   0%|          | 0/75 [00:00<?, ?it/s]"
      ]
     },
     "metadata": {},
     "output_type": "display_data"
    },
    {
     "name": "stdout",
     "output_type": "stream",
     "text": [
      "Creating graph and glimpse image sequence ID: ((6, 6), 189)\n"
     ]
    },
    {
     "data": {
      "application/vnd.jupyter.widget-view+json": {
       "model_id": "cd4ff95784cf4209a644aa5abb80917e",
       "version_major": 2,
       "version_minor": 0
      },
      "text/plain": [
       "Creating glimpse ID: ((6, 6), 46):   0%|          | 0/75 [00:00<?, ?it/s]"
      ]
     },
     "metadata": {},
     "output_type": "display_data"
    },
    {
     "name": "stderr",
     "output_type": "stream",
     "text": [
      "/home/dayn/miniconda3/envs/aero/lib/python3.9/site-packages/dask/array/core.py:1744: PerformanceWarning: Increasing number of chunks by factor of 24\n",
      "  return da_func(*args, **kwargs)\n"
     ]
    },
    {
     "name": "stdout",
     "output_type": "stream",
     "text": [
      "Loading glimpse stack ((6, 6), 46) into memory (can take several minutes)\n",
      "Creating mask glimpse ID: ((6, 6), 46)\n"
     ]
    },
    {
     "data": {
      "application/vnd.jupyter.widget-view+json": {
       "model_id": "b4344da3f68644a49a23278de4702fdd",
       "version_major": 2,
       "version_minor": 0
      },
      "text/plain": [
       "Creating mask glimpse ID: ((6, 6), 46):   0%|          | 0/75 [00:00<?, ?it/s]"
      ]
     },
     "metadata": {},
     "output_type": "display_data"
    },
    {
     "name": "stderr",
     "output_type": "stream",
     "text": [
      "/tmp/ipykernel_330135/3847468708.py:45: VisibleDeprecationWarning: Creating an ndarray from ragged nested sequences (which is a list-or-tuple of lists-or-tuples-or ndarrays with different lengths or shapes) is deprecated. If you meant to do this, you must specify 'dtype=object' when creating the ndarray.\n",
      "  mask_shapes = np.asarray(coords_stack, )#axis = 0)\n",
      "/home/dayn/miniconda3/envs/aero/lib/python3.9/site-packages/napari_tools_menu/__init__.py:194: FutureWarning: Public access to Window.qt_viewer is deprecated and will be removed in\n",
      "v0.5.0. It is considered an \"implementation detail\" of the napari\n",
      "application, not part of the napari viewer model. If your use case\n",
      "requires access to qt_viewer, please open an issue to discuss.\n",
      "  self.tools_menu = ToolsMenu(self, self.qt_viewer.viewer)\n"
     ]
    },
    {
     "data": {
      "application/vnd.jupyter.widget-view+json": {
       "model_id": "d505aa19eca849a889f485d00be20328",
       "version_major": 2,
       "version_minor": 0
      },
      "text/plain": [
       "Saving glimpse image sequence ID: ((6, 6), 46):   0%|          | 0/75 [00:00<?, ?it/s]"
      ]
     },
     "metadata": {},
     "output_type": "display_data"
    },
    {
     "name": "stdout",
     "output_type": "stream",
     "text": [
      "Creating mp4 glimpse ID: ((6, 6), 46)\n",
      "Creating graph image sequence ID: ((6, 6), 46)\n"
     ]
    },
    {
     "data": {
      "application/vnd.jupyter.widget-view+json": {
       "model_id": "4f4a1c726cc2471a8771937cc4a0d1dc",
       "version_major": 2,
       "version_minor": 0
      },
      "text/plain": [
       "Saving graph image sequence ID: ((6, 6), 46):   0%|          | 0/75 [00:00<?, ?it/s]"
      ]
     },
     "metadata": {},
     "output_type": "display_data"
    },
    {
     "name": "stdout",
     "output_type": "stream",
     "text": [
      "Creating graph and glimpse image sequence ID: ((6, 6), 46)\n"
     ]
    },
    {
     "data": {
      "application/vnd.jupyter.widget-view+json": {
       "model_id": "143e537b940a4791b03385a7a21f4fc2",
       "version_major": 2,
       "version_minor": 0
      },
      "text/plain": [
       "Iterating over two extreme cells in acquisition ID:(6, 7):   0%|          | 0/2 [00:00<?, ?it/s]"
      ]
     },
     "metadata": {},
     "output_type": "display_data"
    },
    {
     "data": {
      "application/vnd.jupyter.widget-view+json": {
       "model_id": "6bfe6dce856f4cddae65b20b6f60f6a8",
       "version_major": 2,
       "version_minor": 0
      },
      "text/plain": [
       "Creating glimpse ID: ((6, 7), 268):   0%|          | 0/75 [00:00<?, ?it/s]"
      ]
     },
     "metadata": {},
     "output_type": "display_data"
    },
    {
     "name": "stdout",
     "output_type": "stream",
     "text": [
      "Loading glimpse stack ((6, 7), 268) into memory (can take several minutes)\n",
      "Creating mask glimpse ID: ((6, 7), 268)\n"
     ]
    },
    {
     "data": {
      "application/vnd.jupyter.widget-view+json": {
       "model_id": "42f62e88275b425e91740ab6d51db6ff",
       "version_major": 2,
       "version_minor": 0
      },
      "text/plain": [
       "Creating mask glimpse ID: ((6, 7), 268):   0%|          | 0/75 [00:00<?, ?it/s]"
      ]
     },
     "metadata": {},
     "output_type": "display_data"
    },
    {
     "name": "stderr",
     "output_type": "stream",
     "text": [
      "/tmp/ipykernel_330135/3847468708.py:45: VisibleDeprecationWarning: Creating an ndarray from ragged nested sequences (which is a list-or-tuple of lists-or-tuples-or ndarrays with different lengths or shapes) is deprecated. If you meant to do this, you must specify 'dtype=object' when creating the ndarray.\n",
      "  mask_shapes = np.asarray(coords_stack, )#axis = 0)\n",
      "/home/dayn/miniconda3/envs/aero/lib/python3.9/site-packages/napari_tools_menu/__init__.py:194: FutureWarning: Public access to Window.qt_viewer is deprecated and will be removed in\n",
      "v0.5.0. It is considered an \"implementation detail\" of the napari\n",
      "application, not part of the napari viewer model. If your use case\n",
      "requires access to qt_viewer, please open an issue to discuss.\n",
      "  self.tools_menu = ToolsMenu(self, self.qt_viewer.viewer)\n"
     ]
    },
    {
     "data": {
      "application/vnd.jupyter.widget-view+json": {
       "model_id": "4685a05fbbea49bfb9c595f3dfad1c17",
       "version_major": 2,
       "version_minor": 0
      },
      "text/plain": [
       "Saving glimpse image sequence ID: ((6, 7), 268):   0%|          | 0/75 [00:00<?, ?it/s]"
      ]
     },
     "metadata": {},
     "output_type": "display_data"
    },
    {
     "name": "stdout",
     "output_type": "stream",
     "text": [
      "Creating mp4 glimpse ID: ((6, 7), 268)\n",
      "Creating graph image sequence ID: ((6, 7), 268)\n"
     ]
    },
    {
     "data": {
      "application/vnd.jupyter.widget-view+json": {
       "model_id": "f69ebcb957fe499183fdc32ccafa1876",
       "version_major": 2,
       "version_minor": 0
      },
      "text/plain": [
       "Saving graph image sequence ID: ((6, 7), 268):   0%|          | 0/75 [00:00<?, ?it/s]"
      ]
     },
     "metadata": {},
     "output_type": "display_data"
    },
    {
     "name": "stdout",
     "output_type": "stream",
     "text": [
      "Creating graph and glimpse image sequence ID: ((6, 7), 268)\n"
     ]
    },
    {
     "data": {
      "application/vnd.jupyter.widget-view+json": {
       "model_id": "60c0bf0acb274b8e8446cde3dccd4e1e",
       "version_major": 2,
       "version_minor": 0
      },
      "text/plain": [
       "Creating glimpse ID: ((6, 7), 259):   0%|          | 0/75 [00:00<?, ?it/s]"
      ]
     },
     "metadata": {},
     "output_type": "display_data"
    },
    {
     "name": "stderr",
     "output_type": "stream",
     "text": [
      "/home/dayn/miniconda3/envs/aero/lib/python3.9/site-packages/dask/array/core.py:1744: PerformanceWarning: Increasing number of chunks by factor of 26\n",
      "  return da_func(*args, **kwargs)\n"
     ]
    },
    {
     "name": "stdout",
     "output_type": "stream",
     "text": [
      "Loading glimpse stack ((6, 7), 259) into memory (can take several minutes)\n",
      "Creating mask glimpse ID: ((6, 7), 259)\n"
     ]
    },
    {
     "data": {
      "application/vnd.jupyter.widget-view+json": {
       "model_id": "dc36fc38b12145b1ad558f47da632d57",
       "version_major": 2,
       "version_minor": 0
      },
      "text/plain": [
       "Creating mask glimpse ID: ((6, 7), 259):   0%|          | 0/75 [00:00<?, ?it/s]"
      ]
     },
     "metadata": {},
     "output_type": "display_data"
    },
    {
     "name": "stderr",
     "output_type": "stream",
     "text": [
      "/tmp/ipykernel_330135/3847468708.py:45: VisibleDeprecationWarning: Creating an ndarray from ragged nested sequences (which is a list-or-tuple of lists-or-tuples-or ndarrays with different lengths or shapes) is deprecated. If you meant to do this, you must specify 'dtype=object' when creating the ndarray.\n",
      "  mask_shapes = np.asarray(coords_stack, )#axis = 0)\n",
      "/home/dayn/miniconda3/envs/aero/lib/python3.9/site-packages/napari_tools_menu/__init__.py:194: FutureWarning: Public access to Window.qt_viewer is deprecated and will be removed in\n",
      "v0.5.0. It is considered an \"implementation detail\" of the napari\n",
      "application, not part of the napari viewer model. If your use case\n",
      "requires access to qt_viewer, please open an issue to discuss.\n",
      "  self.tools_menu = ToolsMenu(self, self.qt_viewer.viewer)\n"
     ]
    },
    {
     "data": {
      "application/vnd.jupyter.widget-view+json": {
       "model_id": "40dec7226dfe45e6943163eda3ca163e",
       "version_major": 2,
       "version_minor": 0
      },
      "text/plain": [
       "Saving glimpse image sequence ID: ((6, 7), 259):   0%|          | 0/75 [00:00<?, ?it/s]"
      ]
     },
     "metadata": {},
     "output_type": "display_data"
    },
    {
     "name": "stdout",
     "output_type": "stream",
     "text": [
      "Creating mp4 glimpse ID: ((6, 7), 259)\n",
      "Creating graph image sequence ID: ((6, 7), 259)\n"
     ]
    },
    {
     "data": {
      "application/vnd.jupyter.widget-view+json": {
       "model_id": "95ab445ee8e74a6c942981b35cb618b5",
       "version_major": 2,
       "version_minor": 0
      },
      "text/plain": [
       "Saving graph image sequence ID: ((6, 7), 259):   0%|          | 0/75 [00:00<?, ?it/s]"
      ]
     },
     "metadata": {},
     "output_type": "display_data"
    },
    {
     "name": "stdout",
     "output_type": "stream",
     "text": [
      "Creating graph and glimpse image sequence ID: ((6, 7), 259)\n"
     ]
    },
    {
     "data": {
      "application/vnd.jupyter.widget-view+json": {
       "model_id": "312a5637287647c4b6a84c71c1236e00",
       "version_major": 2,
       "version_minor": 0
      },
      "text/plain": [
       "Iterating over two extreme cells in acquisition ID:(6, 8):   0%|          | 0/2 [00:00<?, ?it/s]"
      ]
     },
     "metadata": {},
     "output_type": "display_data"
    },
    {
     "data": {
      "application/vnd.jupyter.widget-view+json": {
       "model_id": "09ee7837fd6a47d594f2deb13b8e248b",
       "version_major": 2,
       "version_minor": 0
      },
      "text/plain": [
       "Creating glimpse ID: ((6, 8), 112):   0%|          | 0/75 [00:00<?, ?it/s]"
      ]
     },
     "metadata": {},
     "output_type": "display_data"
    },
    {
     "name": "stdout",
     "output_type": "stream",
     "text": [
      "Loading glimpse stack ((6, 8), 112) into memory (can take several minutes)\n",
      "Creating mask glimpse ID: ((6, 8), 112)\n"
     ]
    },
    {
     "data": {
      "application/vnd.jupyter.widget-view+json": {
       "model_id": "8f2ca13fb3a84a2cb655335d68f3db2f",
       "version_major": 2,
       "version_minor": 0
      },
      "text/plain": [
       "Creating mask glimpse ID: ((6, 8), 112):   0%|          | 0/75 [00:00<?, ?it/s]"
      ]
     },
     "metadata": {},
     "output_type": "display_data"
    },
    {
     "name": "stderr",
     "output_type": "stream",
     "text": [
      "/tmp/ipykernel_330135/3847468708.py:45: VisibleDeprecationWarning: Creating an ndarray from ragged nested sequences (which is a list-or-tuple of lists-or-tuples-or ndarrays with different lengths or shapes) is deprecated. If you meant to do this, you must specify 'dtype=object' when creating the ndarray.\n",
      "  mask_shapes = np.asarray(coords_stack, )#axis = 0)\n",
      "/home/dayn/miniconda3/envs/aero/lib/python3.9/site-packages/napari_tools_menu/__init__.py:194: FutureWarning: Public access to Window.qt_viewer is deprecated and will be removed in\n",
      "v0.5.0. It is considered an \"implementation detail\" of the napari\n",
      "application, not part of the napari viewer model. If your use case\n",
      "requires access to qt_viewer, please open an issue to discuss.\n",
      "  self.tools_menu = ToolsMenu(self, self.qt_viewer.viewer)\n"
     ]
    },
    {
     "data": {
      "application/vnd.jupyter.widget-view+json": {
       "model_id": "15774f50b884457287cb149a2b3bcc57",
       "version_major": 2,
       "version_minor": 0
      },
      "text/plain": [
       "Saving glimpse image sequence ID: ((6, 8), 112):   0%|          | 0/75 [00:00<?, ?it/s]"
      ]
     },
     "metadata": {},
     "output_type": "display_data"
    },
    {
     "name": "stdout",
     "output_type": "stream",
     "text": [
      "Creating mp4 glimpse ID: ((6, 8), 112)\n",
      "Creating graph image sequence ID: ((6, 8), 112)\n"
     ]
    },
    {
     "data": {
      "application/vnd.jupyter.widget-view+json": {
       "model_id": "5281e706a24142febcd1eac7d5fd2928",
       "version_major": 2,
       "version_minor": 0
      },
      "text/plain": [
       "Saving graph image sequence ID: ((6, 8), 112):   0%|          | 0/75 [00:00<?, ?it/s]"
      ]
     },
     "metadata": {},
     "output_type": "display_data"
    },
    {
     "name": "stdout",
     "output_type": "stream",
     "text": [
      "Creating graph and glimpse image sequence ID: ((6, 8), 112)\n"
     ]
    },
    {
     "data": {
      "application/vnd.jupyter.widget-view+json": {
       "model_id": "28c551249e304609a6ec5a6ced0a8ac1",
       "version_major": 2,
       "version_minor": 0
      },
      "text/plain": [
       "Creating glimpse ID: ((6, 8), 195):   0%|          | 0/75 [00:00<?, ?it/s]"
      ]
     },
     "metadata": {},
     "output_type": "display_data"
    },
    {
     "name": "stderr",
     "output_type": "stream",
     "text": [
      "/home/dayn/miniconda3/envs/aero/lib/python3.9/site-packages/dask/array/core.py:1744: PerformanceWarning: Increasing number of chunks by factor of 25\n",
      "  return da_func(*args, **kwargs)\n"
     ]
    },
    {
     "name": "stdout",
     "output_type": "stream",
     "text": [
      "Loading glimpse stack ((6, 8), 195) into memory (can take several minutes)\n",
      "Creating mask glimpse ID: ((6, 8), 195)\n"
     ]
    },
    {
     "data": {
      "application/vnd.jupyter.widget-view+json": {
       "model_id": "014a933751c04a8bad23dc37728998aa",
       "version_major": 2,
       "version_minor": 0
      },
      "text/plain": [
       "Creating mask glimpse ID: ((6, 8), 195):   0%|          | 0/75 [00:00<?, ?it/s]"
      ]
     },
     "metadata": {},
     "output_type": "display_data"
    },
    {
     "name": "stderr",
     "output_type": "stream",
     "text": [
      "/tmp/ipykernel_330135/3847468708.py:45: VisibleDeprecationWarning: Creating an ndarray from ragged nested sequences (which is a list-or-tuple of lists-or-tuples-or ndarrays with different lengths or shapes) is deprecated. If you meant to do this, you must specify 'dtype=object' when creating the ndarray.\n",
      "  mask_shapes = np.asarray(coords_stack, )#axis = 0)\n",
      "/home/dayn/miniconda3/envs/aero/lib/python3.9/site-packages/napari_tools_menu/__init__.py:194: FutureWarning: Public access to Window.qt_viewer is deprecated and will be removed in\n",
      "v0.5.0. It is considered an \"implementation detail\" of the napari\n",
      "application, not part of the napari viewer model. If your use case\n",
      "requires access to qt_viewer, please open an issue to discuss.\n",
      "  self.tools_menu = ToolsMenu(self, self.qt_viewer.viewer)\n"
     ]
    },
    {
     "data": {
      "application/vnd.jupyter.widget-view+json": {
       "model_id": "c5a6d9e383e545e3ba71961e3807d431",
       "version_major": 2,
       "version_minor": 0
      },
      "text/plain": [
       "Saving glimpse image sequence ID: ((6, 8), 195):   0%|          | 0/75 [00:00<?, ?it/s]"
      ]
     },
     "metadata": {},
     "output_type": "display_data"
    },
    {
     "name": "stdout",
     "output_type": "stream",
     "text": [
      "Creating mp4 glimpse ID: ((6, 8), 195)\n",
      "Creating graph image sequence ID: ((6, 8), 195)\n"
     ]
    },
    {
     "data": {
      "application/vnd.jupyter.widget-view+json": {
       "model_id": "922806345735492ab4248598c4b451a6",
       "version_major": 2,
       "version_minor": 0
      },
      "text/plain": [
       "Saving graph image sequence ID: ((6, 8), 195):   0%|          | 0/75 [00:00<?, ?it/s]"
      ]
     },
     "metadata": {},
     "output_type": "display_data"
    },
    {
     "name": "stdout",
     "output_type": "stream",
     "text": [
      "Creating graph and glimpse image sequence ID: ((6, 8), 195)\n"
     ]
    },
    {
     "data": {
      "application/vnd.jupyter.widget-view+json": {
       "model_id": "35d48b85f987426d907c49a275a18628",
       "version_major": 2,
       "version_minor": 0
      },
      "text/plain": [
       "Iterating over two extreme cells in acquisition ID:(6, 9):   0%|          | 0/2 [00:00<?, ?it/s]"
      ]
     },
     "metadata": {},
     "output_type": "display_data"
    },
    {
     "data": {
      "application/vnd.jupyter.widget-view+json": {
       "model_id": "f9d2edc0a8eb498bb43fc08762d5dce1",
       "version_major": 2,
       "version_minor": 0
      },
      "text/plain": [
       "Creating glimpse ID: ((6, 9), 41):   0%|          | 0/75 [00:00<?, ?it/s]"
      ]
     },
     "metadata": {},
     "output_type": "display_data"
    },
    {
     "name": "stdout",
     "output_type": "stream",
     "text": [
      "Loading glimpse stack ((6, 9), 41) into memory (can take several minutes)\n",
      "Creating mask glimpse ID: ((6, 9), 41)\n"
     ]
    },
    {
     "data": {
      "application/vnd.jupyter.widget-view+json": {
       "model_id": "356799416cee4499b642996d62fc5c4a",
       "version_major": 2,
       "version_minor": 0
      },
      "text/plain": [
       "Creating mask glimpse ID: ((6, 9), 41):   0%|          | 0/75 [00:00<?, ?it/s]"
      ]
     },
     "metadata": {},
     "output_type": "display_data"
    },
    {
     "name": "stderr",
     "output_type": "stream",
     "text": [
      "/tmp/ipykernel_330135/3847468708.py:45: VisibleDeprecationWarning: Creating an ndarray from ragged nested sequences (which is a list-or-tuple of lists-or-tuples-or ndarrays with different lengths or shapes) is deprecated. If you meant to do this, you must specify 'dtype=object' when creating the ndarray.\n",
      "  mask_shapes = np.asarray(coords_stack, )#axis = 0)\n",
      "/home/dayn/miniconda3/envs/aero/lib/python3.9/site-packages/napari_tools_menu/__init__.py:194: FutureWarning: Public access to Window.qt_viewer is deprecated and will be removed in\n",
      "v0.5.0. It is considered an \"implementation detail\" of the napari\n",
      "application, not part of the napari viewer model. If your use case\n",
      "requires access to qt_viewer, please open an issue to discuss.\n",
      "  self.tools_menu = ToolsMenu(self, self.qt_viewer.viewer)\n"
     ]
    },
    {
     "data": {
      "application/vnd.jupyter.widget-view+json": {
       "model_id": "280b103f59ad450e857978af1472cdcb",
       "version_major": 2,
       "version_minor": 0
      },
      "text/plain": [
       "Saving glimpse image sequence ID: ((6, 9), 41):   0%|          | 0/75 [00:00<?, ?it/s]"
      ]
     },
     "metadata": {},
     "output_type": "display_data"
    },
    {
     "name": "stdout",
     "output_type": "stream",
     "text": [
      "Creating mp4 glimpse ID: ((6, 9), 41)\n",
      "Creating graph image sequence ID: ((6, 9), 41)\n"
     ]
    },
    {
     "data": {
      "application/vnd.jupyter.widget-view+json": {
       "model_id": "0fd933c85a44461cab0133bdb5fb85bc",
       "version_major": 2,
       "version_minor": 0
      },
      "text/plain": [
       "Saving graph image sequence ID: ((6, 9), 41):   0%|          | 0/75 [00:00<?, ?it/s]"
      ]
     },
     "metadata": {},
     "output_type": "display_data"
    },
    {
     "name": "stdout",
     "output_type": "stream",
     "text": [
      "Creating graph and glimpse image sequence ID: ((6, 9), 41)\n"
     ]
    },
    {
     "data": {
      "application/vnd.jupyter.widget-view+json": {
       "model_id": "37e017f4face4506a27a7769002638be",
       "version_major": 2,
       "version_minor": 0
      },
      "text/plain": [
       "Creating glimpse ID: ((6, 9), 351):   0%|          | 0/75 [00:00<?, ?it/s]"
      ]
     },
     "metadata": {},
     "output_type": "display_data"
    },
    {
     "name": "stderr",
     "output_type": "stream",
     "text": [
      "/home/dayn/miniconda3/envs/aero/lib/python3.9/site-packages/dask/array/core.py:1744: PerformanceWarning: Increasing number of chunks by factor of 11\n",
      "  return da_func(*args, **kwargs)\n"
     ]
    },
    {
     "name": "stdout",
     "output_type": "stream",
     "text": [
      "Loading glimpse stack ((6, 9), 351) into memory (can take several minutes)\n",
      "Creating mask glimpse ID: ((6, 9), 351)\n"
     ]
    },
    {
     "data": {
      "application/vnd.jupyter.widget-view+json": {
       "model_id": "b8681452017f4cac83eea0af6b590e5a",
       "version_major": 2,
       "version_minor": 0
      },
      "text/plain": [
       "Creating mask glimpse ID: ((6, 9), 351):   0%|          | 0/75 [00:00<?, ?it/s]"
      ]
     },
     "metadata": {},
     "output_type": "display_data"
    },
    {
     "name": "stderr",
     "output_type": "stream",
     "text": [
      "/tmp/ipykernel_330135/3847468708.py:45: VisibleDeprecationWarning: Creating an ndarray from ragged nested sequences (which is a list-or-tuple of lists-or-tuples-or ndarrays with different lengths or shapes) is deprecated. If you meant to do this, you must specify 'dtype=object' when creating the ndarray.\n",
      "  mask_shapes = np.asarray(coords_stack, )#axis = 0)\n",
      "/home/dayn/miniconda3/envs/aero/lib/python3.9/site-packages/napari_tools_menu/__init__.py:194: FutureWarning: Public access to Window.qt_viewer is deprecated and will be removed in\n",
      "v0.5.0. It is considered an \"implementation detail\" of the napari\n",
      "application, not part of the napari viewer model. If your use case\n",
      "requires access to qt_viewer, please open an issue to discuss.\n",
      "  self.tools_menu = ToolsMenu(self, self.qt_viewer.viewer)\n"
     ]
    },
    {
     "data": {
      "application/vnd.jupyter.widget-view+json": {
       "model_id": "0e4785bb541141109651519d0e933afd",
       "version_major": 2,
       "version_minor": 0
      },
      "text/plain": [
       "Saving glimpse image sequence ID: ((6, 9), 351):   0%|          | 0/75 [00:00<?, ?it/s]"
      ]
     },
     "metadata": {},
     "output_type": "display_data"
    },
    {
     "name": "stdout",
     "output_type": "stream",
     "text": [
      "Creating mp4 glimpse ID: ((6, 9), 351)\n",
      "Creating graph image sequence ID: ((6, 9), 351)\n"
     ]
    },
    {
     "data": {
      "application/vnd.jupyter.widget-view+json": {
       "model_id": "fbb328f4a89445ca8152a8a8470d8fbe",
       "version_major": 2,
       "version_minor": 0
      },
      "text/plain": [
       "Saving graph image sequence ID: ((6, 9), 351):   0%|          | 0/75 [00:00<?, ?it/s]"
      ]
     },
     "metadata": {},
     "output_type": "display_data"
    },
    {
     "name": "stdout",
     "output_type": "stream",
     "text": [
      "Creating graph and glimpse image sequence ID: ((6, 9), 351)\n"
     ]
    }
   ],
   "source": [
    "for assay_info in tqdm(assay_layout.iterrows(), \n",
    "                       total = len(assay_layout), \n",
    "                       desc = 'Iterating over different assays, generating two extreme glimpses per assay'):\n",
    "    ### pull acq ID from assay info\n",
    "    acq_ID = assay_info[0]\n",
    "\n",
    "    ### iterate over different experiments\n",
    "    selected_expt_df = df[(df['Acquisition ID'] == acq_ID)]\n",
    "\n",
    "    ### get extreme cells\n",
    "    extreme_cases = pd.concat([selected_expt_df[(selected_expt_df['Mean Mtb content'] == np.max(selected_expt_df['Mean Mtb content']))],\n",
    "                               selected_expt_df[(selected_expt_df['Mean Mtb content'] == np.min(selected_expt_df['Mean Mtb content']))]])\n",
    "    \n",
    "    ### iterate over two extreme cases in either\n",
    "    for ID in tqdm(extreme_cases['Cell ID'].unique(), \n",
    "                   desc = f'Iterating over two extreme cells in acquisition ID:{acq_ID}'):\n",
    "        \n",
    "        ### isolate a single cell ID from df of interesting cells\n",
    "        sc_df = extreme_cases[extreme_cases['Cell ID']==ID]\n",
    "        \n",
    "        ### use acq ID to pre load correct images\n",
    "        row, column = acq_ID\n",
    "        images = tile.compile_mosaic(\n",
    "                                     image_dir, \n",
    "                                     metadata, \n",
    "                                     row, \n",
    "                                     column, \n",
    "                                     set_plane = 'sum_proj',\n",
    "                                     ).astype(np.uint16)\n",
    "        \n",
    "        ### create base dirname\n",
    "        basedir = f'/mnt/DATA/macrohet/results/glimpses/labelled/multi-plot/{acq_ID}/{ID}/'\n",
    "        Path(os.path.dirname(basedir)).mkdir(parents=True, exist_ok=True)\n",
    "        \n",
    "        # ### make glimpse stack of images\n",
    "        glimpse_stack = tools.create_glimpse_from_sc_df(sc_df, acq_ID, ID, images)\n",
    "        \n",
    "        ### load glimpse into memory\n",
    "        print(f'Loading glimpse stack {acq_ID, ID} into memory (can take several minutes)')\n",
    "        glimpse_stack = glimpse_stack.compute().compute()\n",
    "\n",
    "        ### make glimpse stack of masks\n",
    "        print(f'Creating mask glimpse ID: {acq_ID, ID}')\n",
    "        \n",
    "        ### load masks \n",
    "        masks = segmentation_dict[(row, column)]\n",
    "        \n",
    "        ### generate mask glimpse\n",
    "        mask_glimpse_stack, mask_shapes = create_mask_glimpse_from_sc_df(sc_df, acq_ID, ID, masks,)\n",
    "        \n",
    "        ### get expt info\n",
    "        expt_info = sc_df['Strain'].iloc[0],sc_df['Compound'].iloc[0],sc_df['Concentration'].iloc[0], sc_df['Cell ID'].iloc[0]\n",
    "        expt_info = ','.join(map(str, expt_info))\n",
    "        \n",
    "        ### create a set of points to anchor labels at\n",
    "        label_points = [[t, 0, 500] for t in sc_df['Time (hours)']]\n",
    "        \n",
    "        ### create labels\n",
    "        text_overlay = f'cell ID:{acq_ID[0], acq_ID[1], ID}'\n",
    "        fixed_labels = {'macrophage':['Macrophage:green' for i in range(len(mask_shapes))],\n",
    "                        'mtb':['Mtb:magenta' for i in range(len(mask_shapes))],\n",
    "                        'mask':[f'Mask:cyan' for i in range(len(mask_shapes))],\n",
    "                        'info':[f'ID:{expt_info}' for i in range(len(mask_shapes))]}\n",
    "        \n",
    "        ### create lists of labels for tidier iteration of adding labels \n",
    "        labels_list = list([fixed_labels['macrophage'], fixed_labels['mtb'], fixed_labels['mask'], fixed_labels['info']])\n",
    "        offset_list = list([[20,-5], [40,-5], [60,-5], [80,-5]])\n",
    "        colour_list = list(['#39FF14', 'magenta', 'cyan', 'white'])\n",
    "\n",
    "        ### create output directory\n",
    "        glimpse_seq_basedir = os.path.join(basedir, f'{ID}_glimpse_seq')\n",
    "        Path(glimpse_seq_basedir).mkdir(parents=True, exist_ok=True)\n",
    "        \n",
    "        ### load glimpse into napari\n",
    "        viewer = napari.Viewer()\n",
    "        viewer.add_image(mask_glimpse_stack, scale = napari_scale, colormap='cyan')\n",
    "        viewer.add_image(glimpse_stack, channel_axis = 0, colormap= ['green', 'magenta'], blending = ['additive', 'additive'],\n",
    "                         scale = napari_scale)\n",
    "        \n",
    "        ### add scale bar and time bar\n",
    "        viewer.theme = 'light'\n",
    "        viewer.scale_bar.visible = True\n",
    "        viewer.scale_bar.unit = 'm'\n",
    "        viewer.scale_bar.font_size = text_size\n",
    "        viewer.text_overlay.visible = True\n",
    "        viewer.text_overlay.color = 'black'\n",
    "        viewer.text_overlay.position = 'bottom_left'\n",
    "        viewer.text_overlay.font_size = text_size\n",
    "        viewer.dims.events.current_step.connect(update_slider)\n",
    "        \n",
    "        ### add three sets of labels\n",
    "        for config in zip(labels_list, offset_list, colour_list):\n",
    "            string, offset, colour = config\n",
    "            viewer.add_points(\n",
    "            label_points, \n",
    "            scale = [1, napari_scale[0], napari_scale[1]],\n",
    "            face_color = 'transparent', \n",
    "            edge_color = 'transparent', \n",
    "            text = {'string':string,\n",
    "                    'anchor': 'upper_right',\n",
    "                    'translation': offset,\n",
    "                    'size': text_size,\n",
    "                    'color': colour}, )\n",
    "        \n",
    "        ### save image sequence\n",
    "        for t in tqdm(list(sc_df['Time (hours)']), desc = f'Saving glimpse image sequence ID: {acq_ID, ID}'):\n",
    "            viewer.dims.current_step = (t, cam_coords[-2], cam_coords[-1])\n",
    "            viewer.camera.zoom = zoom*0.95\n",
    "            glimpse_seq_fn = os.path.join(glimpse_seq_basedir, f'glimpse_{ID}_t_{t}.tiff')\n",
    "            imsave(glimpse_seq_fn, viewer.screenshot())\n",
    "        viewer.close()\n",
    "\n",
    "        ### now compile into mp4\n",
    "        print(f'Creating mp4 glimpse ID: {acq_ID, ID}')\n",
    "        mp4_fn = os.path.join(basedir, f'glimpse_{ID}.mp4')\n",
    "        \n",
    "        ### compile mp4\n",
    "        compile_mp4(glimpse_seq_basedir, mp4_fn, 3, fileformat = '.tiff')\n",
    "\n",
    "        ## create sequence of graph images\n",
    "        print(f'Creating graph image sequence ID: {acq_ID, ID}')\n",
    "        \n",
    "        # create graph output folder\n",
    "        glimpse_graph_seq_basedir = os.path.join(basedir, f'{ID}_glimpse_graph_seq')\n",
    "        Path(glimpse_graph_seq_basedir).mkdir(parents = True, exist_ok = True)\n",
    "\n",
    "        ### create graph by interpolating missing y values\n",
    "        y = gaussian_filter1d(sc_df['Intracellular Mtb content'].interpolate().values, \n",
    "                              sigma = 1.5)\n",
    "        y2 = gaussian_filter1d(sc_df['Eccentricity'].interpolate().values, \n",
    "                               sigma = 1.5)\n",
    "        y3 = gaussian_filter1d(sc_df['Area'].interpolate().values/sc_df['Area'].interpolate().values.max(), \n",
    "                               sigma = 1.5)\n",
    "        x = sc_df['Time (hours)'].values\n",
    "\n",
    "        ### iterate over time points\n",
    "        for n, row in tqdm(enumerate(sc_df.iterrows()), total = len(sc_df), \n",
    "                           desc = f'Saving graph image sequence ID: {acq_ID, ID}'):\n",
    "            \n",
    "            ### select portion of data to plot up to current time point iteration\n",
    "            plot_x = x[0:n+1]\n",
    "            plot_y = y[0:n+1]\n",
    "            plot_y2 = y2[0:n+1]\n",
    "            plot_y3 = y3[0:n+1]\n",
    "            \n",
    "            ### get time ID for labelling purposes\n",
    "            t = row[1]['Time (hours)']     \n",
    "            \n",
    "            ### do not display plot in ipython\n",
    "            plt.ioff()\n",
    "            \n",
    "            ### initiate plot with two components\n",
    "            fig, (ax1, ax2) = plt.subplots(1, 2, figsize=(14,5), gridspec_kw={'width_ratios': [1, 1]})\n",
    "            \n",
    "            ### label fn with time point\n",
    "            glimpse_seq_fn = os.path.join(glimpse_seq_basedir, f'glimpse_{ID}_t_{t}.tiff')\n",
    "            \n",
    "            ### load glimpse image from this timepoint\n",
    "            glimpse_img = imread(glimpse_seq_fn)\n",
    "            \n",
    "            ### add glimpse frame to first part of subplot\n",
    "            ax1.imshow(glimpse_img)\n",
    "            \n",
    "            ### turn axis off for glimpse\n",
    "            ax1.axis('off')\n",
    "            \n",
    "            ### plot portion of graph \n",
    "            ax2.plot(plot_x, plot_y, c = palette[0],  label= 'Mtb')\n",
    "            ax3 = ax2.twinx()\n",
    "            ax3.plot(plot_x, plot_y2, c = palette[4], label = 'Eccentricity')\n",
    "            ax3.plot(plot_x, plot_y3, c = palette[5], label = 'Area')\n",
    "            \n",
    "            ### label graph properly \n",
    "            ax2.set(xlabel = 'Time (hours)', \n",
    "                    ylabel = f'Mtb content of cell ID: {ID} \\n (raw fluorescence intensity)', \n",
    "                    ylim=(y.min()*0.85,y.max()*1.15), \n",
    "                    xlim = (0,74))\n",
    "            ax3.set(ylabel = f'Relative area and eccentricity change', \n",
    "                    ylim=(0,1), \n",
    "                   )\n",
    "            ax2.legend(loc = 'lower left', fancybox = True, \n",
    "                                            framealpha = 0.8, \n",
    "                      )\n",
    "            ax3.legend(loc = 'lower right', fancybox = True, \n",
    "                                            framealpha = 0.8, \n",
    "                      )\n",
    "            \n",
    "            ### despine plot\n",
    "            sns.despine(right = False, offset=10, trim=False)\n",
    "            \n",
    "            ### new fn for joint glimpse plot\n",
    "            new_graph_fn = os.path.join(glimpse_graph_seq_basedir, f'glimpse_graph_{ID}_t_{t}.tiff')\n",
    "            plt.savefig(new_graph_fn, bbox_inches = 'tight', dpi = 314)\n",
    "        \n",
    "        ## Compile single frame graphs into stack for animation\n",
    "        print(f'Creating graph and glimpse image sequence ID: {acq_ID, ID}')\n",
    "        \n",
    "        ### now compile into mp4\n",
    "        glimpse_graph_fn = os.path.join(basedir, f'glimpse_graph_{ID}.mp4')\n",
    "        compile_mp4(glimpse_graph_seq_basedir, glimpse_graph_fn, 3,)# fileformat = '.tiff')\n"
   ]
  }
 ],
 "metadata": {
  "kernelspec": {
   "display_name": "aero",
   "language": "python",
   "name": "aero"
  },
  "language_info": {
   "codemirror_mode": {
    "name": "ipython",
    "version": 3
   },
   "file_extension": ".py",
   "mimetype": "text/x-python",
   "name": "python",
   "nbconvert_exporter": "python",
   "pygments_lexer": "ipython3",
   "version": "3.9.12"
  }
 },
 "nbformat": 4,
 "nbformat_minor": 5
}
