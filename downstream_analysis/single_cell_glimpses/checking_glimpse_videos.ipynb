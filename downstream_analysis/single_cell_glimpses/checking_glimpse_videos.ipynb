{
 "cells": [
  {
   "cell_type": "markdown",
   "id": "6c01076a-f282-48dd-b80f-701c2d3f04a3",
   "metadata": {},
   "source": [
    "# Checking glimpse videos"
   ]
  },
  {
   "cell_type": "code",
   "execution_count": 1,
   "id": "1d43d718-436c-407a-8199-9b8695bf6bd9",
   "metadata": {},
   "outputs": [],
   "source": [
    "import imageio\n",
    "import numpy as np\n",
    "import napari\n",
    "import glob\n",
    "from tqdm.auto import tqdm\n",
    "import json"
   ]
  },
  {
   "cell_type": "code",
   "execution_count": 6,
   "id": "49f9e381-e47e-4cb5-b666-8c761c5c3069",
   "metadata": {},
   "outputs": [],
   "source": [
    "from bia_bob import doc"
   ]
  },
  {
   "cell_type": "code",
   "execution_count": 7,
   "id": "6d64db92-de4e-4324-918c-20e660648295",
   "metadata": {},
   "outputs": [],
   "source": [
    "# Set the base directory where the mp4 files are located\n",
    "base_directory = \"/mnt/DATA/macrohet/results/glimpses/fast_grower_area_smoothed_graph/\"\n",
    "\n",
    "# Get a list of all mp4 file paths in the base directory using glob\n",
    "mp4_fns = glob.glob(f'{base_directory}/*/*/*.mp4')\n",
    "\n",
    "# Dictionary to store the classifications\n",
    "classifications = {}\n",
    "\n",
    "# Loop through each mp4 file\n",
    "for fn in tqdm(mp4_fns, total=len(mp4_fns)):\n",
    "    # Get an imageio reader for the current mp4 file\n",
    "    reader = imageio.get_reader(fn)\n",
    "    \n",
    "    # Print a message to indicate loading images\n",
    "    print('Loading images')\n",
    "    \n",
    "    # Read all frames from the reader and stack them into a numpy array\n",
    "    images = np.stack([frame for frame in reader], axis=0)\n",
    "    \n",
    "    # Create a napari viewer with the title as the base filename of the current mp4 file\n",
    "    viewer = napari.Viewer(title=os.path.basename(fn))\n",
    "    \n",
    "    # Add the image array to the viewer, with channel axis as -1 and colormap ['red', 'green', 'blue']\n",
    "    viewer.add_image(images, channel_axis=-1, colormap=['red', 'green', 'blue'])\n",
    "    \n",
    "    # Set the current step of the viewer to (0, 0)\n",
    "    viewer.dims.current_step = (0, 0)\n",
    "    \n",
    "    # Define a keyboard binding for the 't' key that classifies the current mp4 file as True\n",
    "    @viewer.bind_key('t', overwrite=True)\n",
    "    def classify_true(viewer):\n",
    "        classifications[os.path.basename(fn.split('_')[-7])] = True\n",
    "        print(f\"{os.path.basename(fn)} classified as True\")\n",
    "    \n",
    "    # Define a keyboard binding for the 'f' key that classifies the current mp4 file as False\n",
    "    @viewer.bind_key('f', overwrite=True)\n",
    "    def classify_false(viewer):\n",
    "        classifications[os.path.basename(fn.split('_')[-7])] = False\n",
    "        print(f\"{os.path.basename(fn)} classified as False\")\n",
    "    \n",
    "    # Define a keyboard binding for the 'u' key that classifies the current mp4 file as Unknown\n",
    "    @viewer.bind_key('u', overwrite=True)\n",
    "    def classify_unknown(viewer):\n",
    "        classifications[os.path.basename(fn.split('_')[-7])] = 'Unknown'\n",
    "        print(f\"{os.path.basename(fn)} classified as Unknown\")\n",
    "\n",
    "    # Show the napari viewer and block the execution until the viewer is closed\n",
    "    viewer.show(block=True)\n",
    "    \n",
    "    # Save the classifications dictionary as a JSON file\n",
    "    with open(json_file_path, 'w') as file:\n",
    "        json.dump(classifications, file)"
   ]
  },
  {
   "cell_type": "code",
   "execution_count": 66,
   "id": "78aa759c-5cfc-42ba-9bbe-7eb3465a0b11",
   "metadata": {},
   "outputs": [
    {
     "data": {
      "text/plain": [
       "{'587.5.7': False, '537.4.6': True}"
      ]
     },
     "execution_count": 66,
     "metadata": {},
     "output_type": "execute_result"
    }
   ],
   "source": [
    "classifications"
   ]
  }
 ],
 "metadata": {
  "kernelspec": {
   "display_name": "brassica",
   "language": "python",
   "name": "brassica"
  },
  "language_info": {
   "codemirror_mode": {
    "name": "ipython",
    "version": 3
   },
   "file_extension": ".py",
   "mimetype": "text/x-python",
   "name": "python",
   "nbconvert_exporter": "python",
   "pygments_lexer": "ipython3",
   "version": "3.9.17"
  }
 },
 "nbformat": 4,
 "nbformat_minor": 5
}
