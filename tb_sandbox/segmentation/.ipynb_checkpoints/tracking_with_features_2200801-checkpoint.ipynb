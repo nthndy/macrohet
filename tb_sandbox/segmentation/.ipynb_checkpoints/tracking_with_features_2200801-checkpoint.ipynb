{
 "cells": [
  {
   "cell_type": "code",
   "execution_count": 3,
   "id": "18b20799",
   "metadata": {},
   "outputs": [],
   "source": [
    "import dask.array as da\n",
    "import napari\n",
    "from tqdm.auto import tqdm\n",
    "from skimage.io import imshow,  imsave\n",
    "import matplotlib.pyplot as plt\n",
    "plt.rcParams[\"figure.figsize\"] = (15,7)"
   ]
  },
  {
   "cell_type": "markdown",
   "id": "410eeae1",
   "metadata": {},
   "source": [
    "### Load images from zarr and compress into max projections"
   ]
  },
  {
   "cell_type": "code",
   "execution_count": 4,
   "id": "61ffbb7e",
   "metadata": {},
   "outputs": [],
   "source": [
    "gfp = da.from_zarr('/mnt/DATA/sandbox/pierre_live_cell_data/outputs/Replication_IPSDM_GFP/zarr/tzxy_stack_ch1.zarr/')\n",
    "rfp = da.from_zarr('/mnt/DATA/sandbox/pierre_live_cell_data/outputs/Replication_IPSDM_GFP/zarr/tzxy_stack_ch2.zarr/')\n",
    "gfp = da.sum(gfp, axis = 1, dtype='u2')\n",
    "rfp = da.sum(rfp, axis = 1, dtype='u2')\n",
    "masks = da.from_zarr(f'/mnt/DATA/sandbox/pierre_live_cell_data/outputs/Replication_IPSDM_GFP/zarr/tzxy_stack_ch99.zarr/',)# chunks = gfp.chunks)"
   ]
  },
  {
   "cell_type": "code",
   "execution_count": 5,
   "id": "99f7dd48",
   "metadata": {
    "scrolled": true
   },
   "outputs": [
    {
     "data": {
      "text/html": [
       "<table>\n",
       "    <tr>\n",
       "        <td>\n",
       "            <table>\n",
       "                <thead>\n",
       "                    <tr>\n",
       "                        <td> </td>\n",
       "                        <th> Array </th>\n",
       "                        <th> Chunk </th>\n",
       "                    </tr>\n",
       "                </thead>\n",
       "                <tbody>\n",
       "                    \n",
       "                    <tr>\n",
       "                        <th> Bytes </th>\n",
       "                        <td> 5.11 GiB </td>\n",
       "                        <td> 8.90 MiB </td>\n",
       "                    </tr>\n",
       "                    \n",
       "                    <tr>\n",
       "                        <th> Shape </th>\n",
       "                        <td> (75, 6048, 6048) </td>\n",
       "                        <td> (1, 2160, 2160) </td>\n",
       "                    </tr>\n",
       "                    <tr>\n",
       "                        <th> Count </th>\n",
       "                        <td> 676 Tasks </td>\n",
       "                        <td> 675 Chunks </td>\n",
       "                    </tr>\n",
       "                    <tr>\n",
       "                    <th> Type </th>\n",
       "                    <td> uint16 </td>\n",
       "                    <td> numpy.ndarray </td>\n",
       "                    </tr>\n",
       "                </tbody>\n",
       "            </table>\n",
       "        </td>\n",
       "        <td>\n",
       "        <svg width=\"195\" height=\"185\" style=\"stroke:rgb(0,0,0);stroke-width:1\" >\n",
       "\n",
       "  <!-- Horizontal lines -->\n",
       "  <line x1=\"10\" y1=\"0\" x2=\"25\" y2=\"15\" style=\"stroke-width:2\" />\n",
       "  <line x1=\"10\" y1=\"42\" x2=\"25\" y2=\"58\" />\n",
       "  <line x1=\"10\" y1=\"85\" x2=\"25\" y2=\"101\" />\n",
       "  <line x1=\"10\" y1=\"120\" x2=\"25\" y2=\"135\" style=\"stroke-width:2\" />\n",
       "\n",
       "  <!-- Vertical lines -->\n",
       "  <line x1=\"10\" y1=\"0\" x2=\"10\" y2=\"120\" style=\"stroke-width:2\" />\n",
       "  <line x1=\"10\" y1=\"0\" x2=\"10\" y2=\"120\" />\n",
       "  <line x1=\"11\" y1=\"1\" x2=\"11\" y2=\"121\" />\n",
       "  <line x1=\"12\" y1=\"2\" x2=\"12\" y2=\"122\" />\n",
       "  <line x1=\"13\" y1=\"3\" x2=\"13\" y2=\"123\" />\n",
       "  <line x1=\"13\" y1=\"3\" x2=\"13\" y2=\"123\" />\n",
       "  <line x1=\"14\" y1=\"4\" x2=\"14\" y2=\"124\" />\n",
       "  <line x1=\"15\" y1=\"5\" x2=\"15\" y2=\"125\" />\n",
       "  <line x1=\"16\" y1=\"6\" x2=\"16\" y2=\"126\" />\n",
       "  <line x1=\"17\" y1=\"7\" x2=\"17\" y2=\"127\" />\n",
       "  <line x1=\"18\" y1=\"8\" x2=\"18\" y2=\"128\" />\n",
       "  <line x1=\"18\" y1=\"8\" x2=\"18\" y2=\"128\" />\n",
       "  <line x1=\"19\" y1=\"9\" x2=\"19\" y2=\"129\" />\n",
       "  <line x1=\"20\" y1=\"10\" x2=\"20\" y2=\"130\" />\n",
       "  <line x1=\"21\" y1=\"11\" x2=\"21\" y2=\"131\" />\n",
       "  <line x1=\"22\" y1=\"12\" x2=\"22\" y2=\"132\" />\n",
       "  <line x1=\"23\" y1=\"13\" x2=\"23\" y2=\"133\" />\n",
       "  <line x1=\"23\" y1=\"13\" x2=\"23\" y2=\"133\" />\n",
       "  <line x1=\"24\" y1=\"14\" x2=\"24\" y2=\"134\" />\n",
       "  <line x1=\"25\" y1=\"15\" x2=\"25\" y2=\"135\" style=\"stroke-width:2\" />\n",
       "\n",
       "  <!-- Colored Rectangle -->\n",
       "  <polygon points=\"10.0,0.0 25.57197789387105,15.57197789387105 25.57197789387105,135.57197789387106 10.0,120.0\" style=\"fill:#8B4903A0;stroke-width:0\"/>\n",
       "\n",
       "  <!-- Horizontal lines -->\n",
       "  <line x1=\"10\" y1=\"0\" x2=\"130\" y2=\"0\" style=\"stroke-width:2\" />\n",
       "  <line x1=\"10\" y1=\"0\" x2=\"130\" y2=\"0\" />\n",
       "  <line x1=\"11\" y1=\"1\" x2=\"131\" y2=\"1\" />\n",
       "  <line x1=\"12\" y1=\"2\" x2=\"132\" y2=\"2\" />\n",
       "  <line x1=\"13\" y1=\"3\" x2=\"133\" y2=\"3\" />\n",
       "  <line x1=\"13\" y1=\"3\" x2=\"133\" y2=\"3\" />\n",
       "  <line x1=\"14\" y1=\"4\" x2=\"134\" y2=\"4\" />\n",
       "  <line x1=\"15\" y1=\"5\" x2=\"135\" y2=\"5\" />\n",
       "  <line x1=\"16\" y1=\"6\" x2=\"136\" y2=\"6\" />\n",
       "  <line x1=\"17\" y1=\"7\" x2=\"137\" y2=\"7\" />\n",
       "  <line x1=\"18\" y1=\"8\" x2=\"138\" y2=\"8\" />\n",
       "  <line x1=\"18\" y1=\"8\" x2=\"138\" y2=\"8\" />\n",
       "  <line x1=\"19\" y1=\"9\" x2=\"139\" y2=\"9\" />\n",
       "  <line x1=\"20\" y1=\"10\" x2=\"140\" y2=\"10\" />\n",
       "  <line x1=\"21\" y1=\"11\" x2=\"141\" y2=\"11\" />\n",
       "  <line x1=\"22\" y1=\"12\" x2=\"142\" y2=\"12\" />\n",
       "  <line x1=\"23\" y1=\"13\" x2=\"143\" y2=\"13\" />\n",
       "  <line x1=\"23\" y1=\"13\" x2=\"143\" y2=\"13\" />\n",
       "  <line x1=\"24\" y1=\"14\" x2=\"144\" y2=\"14\" />\n",
       "  <line x1=\"25\" y1=\"15\" x2=\"145\" y2=\"15\" style=\"stroke-width:2\" />\n",
       "\n",
       "  <!-- Vertical lines -->\n",
       "  <line x1=\"10\" y1=\"0\" x2=\"25\" y2=\"15\" style=\"stroke-width:2\" />\n",
       "  <line x1=\"52\" y1=\"0\" x2=\"68\" y2=\"15\" />\n",
       "  <line x1=\"95\" y1=\"0\" x2=\"111\" y2=\"15\" />\n",
       "  <line x1=\"130\" y1=\"0\" x2=\"145\" y2=\"15\" style=\"stroke-width:2\" />\n",
       "\n",
       "  <!-- Colored Rectangle -->\n",
       "  <polygon points=\"10.0,0.0 130.0,0.0 145.57197789387106,15.57197789387105 25.57197789387105,15.57197789387105\" style=\"fill:#8B4903A0;stroke-width:0\"/>\n",
       "\n",
       "  <!-- Horizontal lines -->\n",
       "  <line x1=\"25\" y1=\"15\" x2=\"145\" y2=\"15\" style=\"stroke-width:2\" />\n",
       "  <line x1=\"25\" y1=\"58\" x2=\"145\" y2=\"58\" />\n",
       "  <line x1=\"25\" y1=\"101\" x2=\"145\" y2=\"101\" />\n",
       "  <line x1=\"25\" y1=\"135\" x2=\"145\" y2=\"135\" style=\"stroke-width:2\" />\n",
       "\n",
       "  <!-- Vertical lines -->\n",
       "  <line x1=\"25\" y1=\"15\" x2=\"25\" y2=\"135\" style=\"stroke-width:2\" />\n",
       "  <line x1=\"68\" y1=\"15\" x2=\"68\" y2=\"135\" />\n",
       "  <line x1=\"111\" y1=\"15\" x2=\"111\" y2=\"135\" />\n",
       "  <line x1=\"145\" y1=\"15\" x2=\"145\" y2=\"135\" style=\"stroke-width:2\" />\n",
       "\n",
       "  <!-- Colored Rectangle -->\n",
       "  <polygon points=\"25.57197789387105,15.57197789387105 145.57197789387106,15.57197789387105 145.57197789387106,135.57197789387106 25.57197789387105,135.57197789387106\" style=\"fill:#ECB172A0;stroke-width:0\"/>\n",
       "\n",
       "  <!-- Text -->\n",
       "  <text x=\"85.571978\" y=\"155.571978\" font-size=\"1.0rem\" font-weight=\"100\" text-anchor=\"middle\" >6048</text>\n",
       "  <text x=\"165.571978\" y=\"75.571978\" font-size=\"1.0rem\" font-weight=\"100\" text-anchor=\"middle\" transform=\"rotate(-90,165.571978,75.571978)\">6048</text>\n",
       "  <text x=\"7.785989\" y=\"147.785989\" font-size=\"1.0rem\" font-weight=\"100\" text-anchor=\"middle\" transform=\"rotate(45,7.785989,147.785989)\">75</text>\n",
       "</svg>\n",
       "        </td>\n",
       "    </tr>\n",
       "</table>"
      ],
      "text/plain": [
       "dask.array<from-zarr, shape=(75, 6048, 6048), dtype=uint16, chunksize=(1, 2160, 2160), chunktype=numpy.ndarray>"
      ]
     },
     "execution_count": 5,
     "metadata": {},
     "output_type": "execute_result"
    }
   ],
   "source": [
    "masks"
   ]
  },
  {
   "cell_type": "code",
   "execution_count": 23,
   "id": "e868bbf1",
   "metadata": {},
   "outputs": [],
   "source": [
    "FEATURES = [\n",
    "  \"area\",\n",
    "  \"major_axis_length\",\n",
    "  \"minor_axis_length\",\n",
    "  \"orientation\",\n",
    "  \"solidity\",\n",
    "  \"mean_intensity\",\n",
    "]"
   ]
  },
  {
   "cell_type": "code",
   "execution_count": 24,
   "id": "29c3a6d6",
   "metadata": {},
   "outputs": [
    {
     "data": {
      "text/plain": [
       "('area',\n",
       " 'major_axis_length',\n",
       " 'minor_axis_length',\n",
       " 'orientation',\n",
       " 'solidity',\n",
       " 'area',\n",
       " 'mean_intensity')"
      ]
     },
     "execution_count": 24,
     "metadata": {},
     "output_type": "execute_result"
    }
   ],
   "source": [
    "tuple(FEATURES)"
   ]
  },
  {
   "cell_type": "code",
   "execution_count": 26,
   "id": "6fa0748b",
   "metadata": {},
   "outputs": [
    {
     "name": "stderr",
     "output_type": "stream",
     "text": [
      "[INFO][2022/08/01 10:53:47 AM] Localizing objects from segmentation...\n",
      "[INFO][2022/08/01 10:53:47 AM] Found intensity_image data\n",
      "[INFO][2022/08/01 10:53:47 AM] Calculating weighted centroids using intensity_image\n",
      "[INFO][2022/08/01 11:00:16 AM] Objects are of type: <class 'dict'>\n",
      "[INFO][2022/08/01 11:00:17 AM] ...Found 34804 objects in 75 frames.\n"
     ]
    },
    {
     "name": "stdout",
     "output_type": "stream",
     "text": [
      "CPU times: user 19min 5s, sys: 37.5 s, total: 19min 43s\n",
      "Wall time: 6min 29s\n"
     ]
    }
   ],
   "source": [
    "%%time\n",
    "\n",
    "objects = btrack.utils.segmentation_to_objects(\n",
    "    masks, \n",
    "    gfp,\n",
    "    properties = tuple(FEATURES), \n",
    ")"
   ]
  },
  {
   "cell_type": "markdown",
   "id": "0b17ff16",
   "metadata": {},
   "source": [
    "Checking for no objects larger than the size exclusion criteria"
   ]
  },
  {
   "cell_type": "code",
   "execution_count": 31,
   "id": "4227aa01",
   "metadata": {},
   "outputs": [
    {
     "data": {
      "text/plain": [
       "(2479, 2592)"
      ]
     },
     "execution_count": 31,
     "metadata": {},
     "output_type": "execute_result"
    }
   ],
   "source": [
    "len([o for o in objects if 2000>o.properties['area']<10.]), len([o for o in objects if 2000>o.properties['area']])"
   ]
  },
  {
   "cell_type": "markdown",
   "id": "8d026517",
   "metadata": {},
   "source": [
    "For some unknown reason there are a lot of objects that are very very small that were not removed by the remove_small_objects function, can just remove from the objects"
   ]
  },
  {
   "cell_type": "code",
   "execution_count": 33,
   "id": "cde64d06",
   "metadata": {},
   "outputs": [],
   "source": [
    "objects = [o for o in objects if o.properties['area']>100.]"
   ]
  },
  {
   "cell_type": "markdown",
   "id": "4fd0f48d",
   "metadata": {},
   "source": [
    "# Run btrack"
   ]
  },
  {
   "cell_type": "markdown",
   "id": "96930525",
   "metadata": {},
   "source": [
    "trying different sets of visual-features to use"
   ]
  },
  {
   "cell_type": "code",
   "execution_count": 44,
   "id": "5fe95fba",
   "metadata": {},
   "outputs": [
    {
     "data": {
      "text/html": [
       "<table border=\"1\" class=\"dataframe\">\n",
       "  <thead>\n",
       "    <tr style=\"text-align: right;\">\n",
       "      <th></th>\n",
       "      <th>ID</th>\n",
       "      <th>x</th>\n",
       "      <th>y</th>\n",
       "      <th>z</th>\n",
       "      <th>t</th>\n",
       "      <th>dummy</th>\n",
       "      <th>states</th>\n",
       "      <th>label</th>\n",
       "      <th>area</th>\n",
       "      <th>major_axis_length</th>\n",
       "      <th>minor_axis_length</th>\n",
       "      <th>orientation</th>\n",
       "      <th>solidity</th>\n",
       "      <th>mean_intensity</th>\n",
       "    </tr>\n",
       "  </thead>\n",
       "  <tbody>\n",
       "    <tr>\n",
       "      <th>0</th>\n",
       "      <td>0</td>\n",
       "      <td>228.895096</td>\n",
       "      <td>52.454606</td>\n",
       "      <td>0.0</td>\n",
       "      <td>0</td>\n",
       "      <td>False</td>\n",
       "      <td>7</td>\n",
       "      <td>5</td>\n",
       "      <td>8280</td>\n",
       "      <td>142.168184</td>\n",
       "      <td>74.981389</td>\n",
       "      <td>0.768532</td>\n",
       "      <td>0.975725</td>\n",
       "      <td>1223.138406</td>\n",
       "    </tr>\n",
       "  </tbody>\n",
       "</table>"
      ],
      "text/plain": [
       "{'ID': 0, 'x': 228.89509612655968, 'y': 52.45460626056397, 'z': 0.0, 't': 0, 'dummy': False, 'states': 7, 'label': 5, 'area': 8280, 'major_axis_length': 142.1681837092044, 'minor_axis_length': 74.98138905075203, 'orientation': 0.7685315327700352, 'solidity': 0.9757247230732972, 'mean_intensity': 1223.1384057971015}"
      ]
     },
     "execution_count": 44,
     "metadata": {},
     "output_type": "execute_result"
    }
   ],
   "source": [
    "objects[0]"
   ]
  },
  {
   "cell_type": "code",
   "execution_count": 45,
   "id": "c125a567",
   "metadata": {},
   "outputs": [],
   "source": [
    "FEATURES = [\n",
    "  \"area\",\n",
    "  #\"major_axis_length\",\n",
    "  #\"minor_axis_length\",\n",
    "  #\"orientation\",\n",
    "  #\"solidity\",\n",
    "  #\"mean_intensity\",\n",
    "]"
   ]
  },
  {
   "cell_type": "code",
   "execution_count": 46,
   "id": "bb87de08",
   "metadata": {
    "scrolled": false
   },
   "outputs": [
    {
     "name": "stderr",
     "output_type": "stream",
     "text": [
      "[INFO][2022/08/01 11:09:43 am] Loaded btrack: /home/dayn/analysis/BayesianTracker/btrack/libs/libtracker.so\n",
      "[INFO][2022/08/01 11:09:43 am] btrack (v0.5.0) library imported\n",
      "[INFO][2022/08/01 11:09:43 am] Starting BayesianTracker session\n",
      "[INFO][2022/08/01 11:09:43 am] Loading configuration file: /home/dayn/analysis/BayesianTracker/models/cell_config.json\n",
      "[INFO][2022/08/01 11:09:43 am] Objects are of type: <class 'list'>\n",
      "[WARNING][2022/08/01 11:09:43 am] `track_interactive` will be deprecated. Use `track` instead.\n",
      "[INFO][2022/08/01 11:09:43 am] Starting tracking... \n",
      "[INFO][2022/08/01 11:09:43 am] Update using: ['MOTION']\n",
      "[INFO][2022/08/01 11:09:44 am] Tracking objects in frames 0 to 24 (of 75)...\n",
      "[INFO][2022/08/01 11:10:16 am]  - Timing (Bayesian updates: 438.93ms, Linking: 21.73ms)\n",
      "[INFO][2022/08/01 11:10:16 am]  - Probabilities (Link: 0.00000, Lost: 0.00000)\n",
      "[INFO][2022/08/01 11:10:16 am]  - Stats (Active: 3471, Lost: 0, Conflicts resolved: 26)\n",
      "[INFO][2022/08/01 11:10:16 am] Tracking objects in frames 25 to 49 (of 75)...\n",
      "[INFO][2022/08/01 11:10:40 am]  - Timing (Bayesian updates: 150.32ms, Linking: 12.63ms)\n",
      "[INFO][2022/08/01 11:10:40 am]  - Probabilities (Link: 0.00000, Lost: 0.00000)\n",
      "[INFO][2022/08/01 11:10:40 am]  - Stats (Active: 2322, Lost: 0, Conflicts resolved: 51)\n",
      "[INFO][2022/08/01 11:10:40 am] Tracking objects in frames 50 to 74 (of 75)...\n",
      "[INFO][2022/08/01 11:10:44 am]  - Timing (Bayesian updates: 10.25ms, Linking: 3.48ms)\n",
      "[INFO][2022/08/01 11:10:44 am]  - Probabilities (Link: 0.00000, Lost: 0.00000)\n",
      "[INFO][2022/08/01 11:10:44 am] SUCCESS.\n",
      "[INFO][2022/08/01 11:10:44 am]  - Found 32148 tracks in 75 frames (in 0.0s)\n",
      "[INFO][2022/08/01 11:10:44 am]  - Inserted 0 dummy objects to fill tracking gaps\n",
      "[INFO][2022/08/01 11:10:44 am] Loading hypothesis model: cell_hypothesis\n",
      "[INFO][2022/08/01 11:10:44 am] Calculating hypotheses (relax: True)...\n",
      "[INFO][2022/08/01 11:10:45 am] Setting up constraints matrix for global optimisation...\n",
      "[INFO][2022/08/01 11:10:45 am] Using GLPK options: {'tm_lim': 60000}...\n",
      "[INFO][2022/08/01 11:10:53 am] Optimizing...\n",
      "[WARNING][2022/08/01 11:11:53 am] Optimizer returned status: undefined\n",
      "[WARNING][2022/08/01 11:11:53 am] Optimization failed.\n",
      "[INFO][2022/08/01 11:11:53 am] Opening HDF file: /mnt/DATA/sandbox/pierre_live_cell_data/outputs/Replication_IPSDM_GFP/zarr/tracks.h5...\n"
     ]
    },
    {
     "name": "stdout",
     "output_type": "stream",
     "text": [
      "GLPK Integer Optimizer 5.0\n",
      "128592 rows, 139161 columns, 225158 non-zeros\n",
      "139161 integer variables, all of which are binary\n",
      "Preprocessing...\n",
      "64296 rows, 139161 columns, 225158 non-zeros\n",
      "139161 integer variables, all of which are binary\n",
      "Scaling...\n",
      " A: min|aij| =  1.000e+00  max|aij| =  1.000e+00  ratio =  1.000e+00\n",
      "Problem data seem to be well scaled\n",
      "Constructing initial basis...\n",
      "Size of triangular part is 64296\n",
      "Solving LP relaxation...\n",
      "GLPK Simplex Optimizer 5.0\n",
      "64296 rows, 139161 columns, 225158 non-zeros\n",
      "*     0: obj =   4.098820834e+05 inf =   0.000e+00 (74865)\n",
      "Perturbing LP to avoid stalling [659]...\n",
      "*  1973: obj =   3.852837334e+05 inf =   0.000e+00 (70671)\n",
      "*  3817: obj =   3.639771334e+05 inf =   0.000e+00 (66499)\n",
      "*  5691: obj =   3.409348834e+05 inf =   0.000e+00 (62467)\n",
      "*  7548: obj =   3.178527334e+05 inf =   0.000e+00 (58508)\n",
      "*  9286: obj =   2.976433834e+05 inf =   0.000e+00 (54599)\n",
      "* 10876: obj =   2.835477549e+05 inf =   0.000e+00 (51213)\n",
      "* 12066: obj =   2.805577812e+05 inf =   0.000e+00 (50444) 4\n",
      "* 13257: obj =   2.771093498e+05 inf =   0.000e+00 (49713) 3\n",
      "* 14484: obj =   2.733330044e+05 inf =   0.000e+00 (48841) 5\n",
      "* 15756: obj =   2.689646932e+05 inf =   0.000e+00 (47821) 3\n",
      "* 17041: obj =   2.641761651e+05 inf =   0.000e+00 (46626) 3\n",
      "Removing LP perturbation [18354]...\n",
      "* 18354: obj =   2.585422921e+05 inf =   0.000e+00 (45188) 2\n",
      "TIME LIMIT EXCEEDED; SEARCH TERMINATED\n"
     ]
    },
    {
     "name": "stderr",
     "output_type": "stream",
     "text": [
      "[INFO][2022/08/01 11:11:56 am] Writing tracks/obj_type_1\n",
      "[WARNING][2022/08/01 11:11:57 am] Removing tracks/obj_type_1.\n",
      "[INFO][2022/08/01 11:11:57 am] Writing LBEP/obj_type_1\n",
      "[INFO][2022/08/01 11:11:57 am] Writing fates/obj_type_1\n",
      "[INFO][2022/08/01 11:11:57 am] Closing HDF file: /mnt/DATA/sandbox/pierre_live_cell_data/outputs/Replication_IPSDM_GFP/zarr/tracks.h5\n",
      "[INFO][2022/08/01 11:12:00 am] Ending BayesianTracker session\n"
     ]
    }
   ],
   "source": [
    "# initialise a tracker session using a context manager\n",
    "with btrack.BayesianTracker() as tracker:\n",
    "\n",
    "    # configure the tracker using a config file\n",
    "    tracker.configure_from_file(\n",
    "        '/home/dayn/analysis/BayesianTracker/models/cell_config.json'\n",
    "    )\n",
    "    tracker.max_search_radius = 100\n",
    "    \n",
    "    # use visual features to track\n",
    "    tracker.features = FEATURES\n",
    "    \n",
    "    # append the objects to be tracked\n",
    "    tracker.append(objects)\n",
    "\n",
    "    # set the volume\n",
    "    tracker.volume=((0, 6048), (0, 6048), (-1e5, 1e5))\n",
    "\n",
    "    # track them (in interactive mode)\n",
    "    tracker.track_interactive(step_size=25)\n",
    "\n",
    "    # generate hypotheses and run the global optimizer\n",
    "    tracker.optimize()\n",
    "\n",
    "    tracker.export(f'/mnt/DATA/sandbox/pierre_live_cell_data/outputs/Replication_IPSDM_GFP/zarr/tracks.h5', obj_type='obj_type_1')\n",
    "\n",
    "    # get the tracks in a format for napari visualization (optional)\n",
    "    visaulise_tracks, properties, graph = tracker.to_napari(ndim=2)\n",
    "    \n",
    "    tracks = tracker.tracks"
   ]
  },
  {
   "cell_type": "markdown",
   "id": "032a30b8",
   "metadata": {},
   "source": [
    "# Check out the tracks"
   ]
  },
  {
   "cell_type": "code",
   "execution_count": 47,
   "id": "c35d76f2",
   "metadata": {},
   "outputs": [
    {
     "name": "stdout",
     "output_type": "stream",
     "text": [
      "average track length: 1.0\n"
     ]
    }
   ],
   "source": [
    "print('average track length:', np.mean([len(track) for track in tracks]))"
   ]
  },
  {
   "cell_type": "code",
   "execution_count": 48,
   "id": "5ef90a27",
   "metadata": {},
   "outputs": [
    {
     "data": {
      "text/plain": [
       "(array([    0.,     0.,     0.,     0.,     0., 32148.,     0.,     0.,\n",
       "            0.,     0.]),\n",
       " array([0.5, 0.6, 0.7, 0.8, 0.9, 1. , 1.1, 1.2, 1.3, 1.4, 1.5]),\n",
       " <BarContainer object of 10 artists>)"
      ]
     },
     "execution_count": 48,
     "metadata": {},
     "output_type": "execute_result"
    },
    {
     "data": {
      "image/png": "[encoded data removed]",
      "text/plain": [
       "<Figure size 1080x504 with 1 Axes>"
      ]
     },
     "metadata": {
      "needs_background": "light"
     },
     "output_type": "display_data"
    }
   ],
   "source": [
    "plt.hist([len(track) for track in tracks])"
   ]
  },
  {
   "cell_type": "code",
   "execution_count": 62,
   "id": "61c8ebb8",
   "metadata": {},
   "outputs": [],
   "source": [
    "tracks_filt = [track for track in tracks if len(track) > 15]"
   ]
  },
  {
   "cell_type": "code",
   "execution_count": null,
   "id": "da30c97a",
   "metadata": {},
   "outputs": [],
   "source": [
    "visaulise_tracks, properties, graph = btrack.utils.tracks_to_napari(tracks_filt, ndim = 2)"
   ]
  },
  {
   "cell_type": "code",
   "execution_count": 52,
   "id": "baf54046",
   "metadata": {},
   "outputs": [
    {
     "ename": "RecursionError",
     "evalue": "maximum recursion depth exceeded",
     "output_type": "error",
     "traceback": [
      "\u001b[0;31m---------------------------------------------------------------------------\u001b[0m",
      "\u001b[0;31mRecursionError\u001b[0m                            Traceback (most recent call last)",
      "Input \u001b[0;32mIn [52]\u001b[0m, in \u001b[0;36m<cell line: 1>\u001b[0;34m()\u001b[0m\n\u001b[0;32m----> 1\u001b[0m viewer \u001b[38;5;241m=\u001b[39m \u001b[43mnapari\u001b[49m\u001b[38;5;241;43m.\u001b[39;49m\u001b[43mViewer\u001b[49m\u001b[43m(\u001b[49m\u001b[43m)\u001b[49m\n\u001b[1;32m      2\u001b[0m \u001b[38;5;66;03m# viewer.add_image(gfp, name=\"gfp\", \u001b[39;00m\n\u001b[1;32m      3\u001b[0m \u001b[38;5;66;03m#                  #contrast_limits=[0,255],\u001b[39;00m\n\u001b[1;32m      4\u001b[0m \u001b[38;5;66;03m#                  blending = 'additive', colormap = 'green')\u001b[39;00m\n\u001b[1;32m      5\u001b[0m \u001b[38;5;66;03m# viewer.add_image(rfp, name=\"rfp\", \u001b[39;00m\n\u001b[1;32m      6\u001b[0m \u001b[38;5;66;03m#                 # contrast_limits=[0,55], \u001b[39;00m\n\u001b[1;32m      7\u001b[0m \u001b[38;5;66;03m#                  blending = 'additive', colormap = 'magenta')\u001b[39;00m\n\u001b[1;32m      8\u001b[0m viewer\u001b[38;5;241m.\u001b[39madd_labels(masks, name \u001b[38;5;241m=\u001b[39m \u001b[38;5;124m'\u001b[39m\u001b[38;5;124mmasks\u001b[39m\u001b[38;5;124m'\u001b[39m, visible\u001b[38;5;241m=\u001b[39m\u001b[38;5;28;01mFalse\u001b[39;00m)\n",
      "File \u001b[0;32m~/miniconda3/envs/aero/lib/python3.9/site-packages/napari/viewer.py:57\u001b[0m, in \u001b[0;36mViewer.__init__\u001b[0;34m(self, title, ndisplay, order, axis_labels, show)\u001b[0m\n\u001b[1;32m     53\u001b[0m \u001b[38;5;66;03m# having this import here makes all of Qt imported lazily, upon\u001b[39;00m\n\u001b[1;32m     54\u001b[0m \u001b[38;5;66;03m# instantiating the first Viewer.\u001b[39;00m\n\u001b[1;32m     55\u001b[0m \u001b[38;5;28;01mfrom\u001b[39;00m \u001b[38;5;21;01m.\u001b[39;00m\u001b[38;5;21;01mwindow\u001b[39;00m \u001b[38;5;28;01mimport\u001b[39;00m Window\n\u001b[0;32m---> 57\u001b[0m \u001b[38;5;28mself\u001b[39m\u001b[38;5;241m.\u001b[39m_window \u001b[38;5;241m=\u001b[39m \u001b[43mWindow\u001b[49m\u001b[43m(\u001b[49m\u001b[38;5;28;43mself\u001b[39;49m\u001b[43m,\u001b[49m\u001b[43m \u001b[49m\u001b[43mshow\u001b[49m\u001b[38;5;241;43m=\u001b[39;49m\u001b[43mshow\u001b[49m\u001b[43m)\u001b[49m\n\u001b[1;32m     58\u001b[0m \u001b[38;5;28mself\u001b[39m\u001b[38;5;241m.\u001b[39m_instances\u001b[38;5;241m.\u001b[39madd(\u001b[38;5;28mself\u001b[39m)\n",
      "File \u001b[0;32m~/miniconda3/envs/aero/lib/python3.9/site-packages/napari/_qt/qt_main_window.py:430\u001b[0m, in \u001b[0;36mWindow.__init__\u001b[0;34m(self, viewer, show)\u001b[0m\n\u001b[1;32m    427\u001b[0m plugin_manager\u001b[38;5;241m.\u001b[39mdiscover_themes()\n\u001b[1;32m    428\u001b[0m \u001b[38;5;28mself\u001b[39m\u001b[38;5;241m.\u001b[39m_setup_existing_themes()\n\u001b[0;32m--> 430\u001b[0m \u001b[38;5;28;43mself\u001b[39;49m\u001b[38;5;241;43m.\u001b[39;49m\u001b[43m_add_menus\u001b[49m\u001b[43m(\u001b[49m\u001b[43m)\u001b[49m\n\u001b[1;32m    431\u001b[0m \u001b[38;5;28mself\u001b[39m\u001b[38;5;241m.\u001b[39m_update_theme()\n\u001b[1;32m    432\u001b[0m get_settings()\u001b[38;5;241m.\u001b[39mappearance\u001b[38;5;241m.\u001b[39mevents\u001b[38;5;241m.\u001b[39mtheme\u001b[38;5;241m.\u001b[39mconnect(\u001b[38;5;28mself\u001b[39m\u001b[38;5;241m.\u001b[39m_update_theme)\n",
      "File \u001b[0;32m~/miniconda3/envs/aero/lib/python3.9/site-packages/napari_tools_menu/__init__.py:178\u001b[0m, in \u001b[0;36m_add_menus\u001b[0;34m(self)\u001b[0m\n\u001b[1;32m    177\u001b[0m \u001b[38;5;28;01mdef\u001b[39;00m \u001b[38;5;21m_add_menus\u001b[39m(\u001b[38;5;28mself\u001b[39m):\n\u001b[0;32m--> 178\u001b[0m     \u001b[38;5;28;43mself\u001b[39;49m\u001b[38;5;241;43m.\u001b[39;49m\u001b[43m_add_menus_bkp\u001b[49m\u001b[43m(\u001b[49m\u001b[43m)\u001b[49m\n\u001b[1;32m    179\u001b[0m     \u001b[38;5;28mself\u001b[39m\u001b[38;5;241m.\u001b[39mtools_menu \u001b[38;5;241m=\u001b[39m ToolsMenu(\u001b[38;5;28mself\u001b[39m, \u001b[38;5;28mself\u001b[39m\u001b[38;5;241m.\u001b[39mqt_viewer\u001b[38;5;241m.\u001b[39mviewer)\n\u001b[1;32m    180\u001b[0m     \u001b[38;5;28mself\u001b[39m\u001b[38;5;241m.\u001b[39mmain_menu\u001b[38;5;241m.\u001b[39minsertMenu(\u001b[38;5;28mself\u001b[39m\u001b[38;5;241m.\u001b[39mhelp_menu\u001b[38;5;241m.\u001b[39mmenuAction(), \u001b[38;5;28mself\u001b[39m\u001b[38;5;241m.\u001b[39mtools_menu)\n",
      "File \u001b[0;32m~/miniconda3/envs/aero/lib/python3.9/site-packages/napari_tools_menu/__init__.py:178\u001b[0m, in \u001b[0;36m_add_menus\u001b[0;34m(self)\u001b[0m\n\u001b[1;32m    177\u001b[0m \u001b[38;5;28;01mdef\u001b[39;00m \u001b[38;5;21m_add_menus\u001b[39m(\u001b[38;5;28mself\u001b[39m):\n\u001b[0;32m--> 178\u001b[0m     \u001b[38;5;28;43mself\u001b[39;49m\u001b[38;5;241;43m.\u001b[39;49m\u001b[43m_add_menus_bkp\u001b[49m\u001b[43m(\u001b[49m\u001b[43m)\u001b[49m\n\u001b[1;32m    179\u001b[0m     \u001b[38;5;28mself\u001b[39m\u001b[38;5;241m.\u001b[39mtools_menu \u001b[38;5;241m=\u001b[39m ToolsMenu(\u001b[38;5;28mself\u001b[39m, \u001b[38;5;28mself\u001b[39m\u001b[38;5;241m.\u001b[39mqt_viewer\u001b[38;5;241m.\u001b[39mviewer)\n\u001b[1;32m    180\u001b[0m     \u001b[38;5;28mself\u001b[39m\u001b[38;5;241m.\u001b[39mmain_menu\u001b[38;5;241m.\u001b[39minsertMenu(\u001b[38;5;28mself\u001b[39m\u001b[38;5;241m.\u001b[39mhelp_menu\u001b[38;5;241m.\u001b[39mmenuAction(), \u001b[38;5;28mself\u001b[39m\u001b[38;5;241m.\u001b[39mtools_menu)\n",
      "    \u001b[0;31m[... skipping similar frames: _add_menus at line 178 (2966 times)]\u001b[0m\n",
      "File \u001b[0;32m~/miniconda3/envs/aero/lib/python3.9/site-packages/napari_tools_menu/__init__.py:178\u001b[0m, in \u001b[0;36m_add_menus\u001b[0;34m(self)\u001b[0m\n\u001b[1;32m    177\u001b[0m \u001b[38;5;28;01mdef\u001b[39;00m \u001b[38;5;21m_add_menus\u001b[39m(\u001b[38;5;28mself\u001b[39m):\n\u001b[0;32m--> 178\u001b[0m     \u001b[38;5;28;43mself\u001b[39;49m\u001b[38;5;241;43m.\u001b[39;49m\u001b[43m_add_menus_bkp\u001b[49m\u001b[43m(\u001b[49m\u001b[43m)\u001b[49m\n\u001b[1;32m    179\u001b[0m     \u001b[38;5;28mself\u001b[39m\u001b[38;5;241m.\u001b[39mtools_menu \u001b[38;5;241m=\u001b[39m ToolsMenu(\u001b[38;5;28mself\u001b[39m, \u001b[38;5;28mself\u001b[39m\u001b[38;5;241m.\u001b[39mqt_viewer\u001b[38;5;241m.\u001b[39mviewer)\n\u001b[1;32m    180\u001b[0m     \u001b[38;5;28mself\u001b[39m\u001b[38;5;241m.\u001b[39mmain_menu\u001b[38;5;241m.\u001b[39minsertMenu(\u001b[38;5;28mself\u001b[39m\u001b[38;5;241m.\u001b[39mhelp_menu\u001b[38;5;241m.\u001b[39mmenuAction(), \u001b[38;5;28mself\u001b[39m\u001b[38;5;241m.\u001b[39mtools_menu)\n",
      "\u001b[0;31mRecursionError\u001b[0m: maximum recursion depth exceeded"
     ]
    }
   ],
   "source": [
    "viewer = napari.Viewer()\n",
    "# viewer.add_image(gfp, name=\"gfp\", \n",
    "#                  #contrast_limits=[0,255],\n",
    "#                  blending = 'additive', colormap = 'green')\n",
    "# viewer.add_image(rfp, name=\"rfp\", \n",
    "#                 # contrast_limits=[0,55], \n",
    "#                  blending = 'additive', colormap = 'magenta')\n",
    "viewer.add_labels(masks, name = 'masks', visible=False)\n",
    "#viewer.add_tracks(visaulise_tracks, name = 'tracks IDE')"
   ]
  },
  {
   "cell_type": "markdown",
   "id": "00a93c90",
   "metadata": {},
   "source": [
    "# Conclusion from first round\n",
    "\n",
    "These tracks perform very poorly... what if the image features are used to improve the performance?\n",
    "\n",
    "# Trying vis feat"
   ]
  },
  {
   "cell_type": "code",
   "execution_count": 11,
   "id": "985c1c0a",
   "metadata": {},
   "outputs": [],
   "source": [
    "FEATURES = [\n",
    "  \"area\",\n",
    "  \"major_axis_length\",\n",
    "  \"minor_axis_length\",\n",
    "  \"orientation\",\n",
    "  \"solidity\",\n",
    "]"
   ]
  },
  {
   "cell_type": "code",
   "execution_count": 12,
   "id": "60c3e2d1",
   "metadata": {},
   "outputs": [],
   "source": [
    "TRACKING_UPDATES = [\n",
    "  \"motion\",\n",
    "  \"visual\",\n",
    "]"
   ]
  },
  {
   "cell_type": "code",
   "execution_count": 13,
   "id": "495fed73",
   "metadata": {
    "scrolled": false
   },
   "outputs": [
    {
     "name": "stderr",
     "output_type": "stream",
     "text": [
      "[INFO][2022/08/01 10:28:36 AM] Loaded btrack: /home/dayn/analysis/BayesianTracker/btrack/libs/libtracker.so\n",
      "[INFO][2022/08/01 10:28:36 AM] btrack (v0.5.0) library imported\n",
      "[INFO][2022/08/01 10:28:36 AM] Starting BayesianTracker session\n",
      "[INFO][2022/08/01 10:28:36 AM] Loading configuration file: /home/dayn/analysis/BayesianTracker/models/cell_config.json\n",
      "[INFO][2022/08/01 10:28:36 AM] Ending BayesianTracker session\n"
     ]
    },
    {
     "ename": "NameError",
     "evalue": "name 'objects' is not defined",
     "output_type": "error",
     "traceback": [
      "\u001b[0;31m---------------------------------------------------------------------------\u001b[0m",
      "\u001b[0;31mNameError\u001b[0m                                 Traceback (most recent call last)",
      "Input \u001b[0;32mIn [13]\u001b[0m, in \u001b[0;36m<cell line: 2>\u001b[0;34m()\u001b[0m\n\u001b[1;32m     10\u001b[0m tracker\u001b[38;5;241m.\u001b[39mfeatures \u001b[38;5;241m=\u001b[39m FEATURES\n\u001b[1;32m     12\u001b[0m \u001b[38;5;66;03m# append the objects to be tracked\u001b[39;00m\n\u001b[0;32m---> 13\u001b[0m tracker\u001b[38;5;241m.\u001b[39mappend(\u001b[43mobjects\u001b[49m)\n\u001b[1;32m     15\u001b[0m \u001b[38;5;66;03m# set the volume\u001b[39;00m\n\u001b[1;32m     16\u001b[0m tracker\u001b[38;5;241m.\u001b[39mvolume\u001b[38;5;241m=\u001b[39m((\u001b[38;5;241m0\u001b[39m, \u001b[38;5;241m6048\u001b[39m), (\u001b[38;5;241m0\u001b[39m, \u001b[38;5;241m6048\u001b[39m), (\u001b[38;5;241m-\u001b[39m\u001b[38;5;241m1e5\u001b[39m, \u001b[38;5;241m1e5\u001b[39m))\n",
      "\u001b[0;31mNameError\u001b[0m: name 'objects' is not defined"
     ]
    }
   ],
   "source": [
    "# initialise a tracker session using a context manager\n",
    "with btrack.BayesianTracker() as tracker:\n",
    "\n",
    "    # configure the tracker using a config file\n",
    "    tracker.configure_from_file(\n",
    "        '/home/dayn/analysis/BayesianTracker/models/cell_config.json'\n",
    "    )\n",
    "    tracker.max_search_radius = 120\n",
    "    \n",
    "    tracker.features = FEATURES\n",
    "\n",
    "    # append the objects to be tracked\n",
    "    tracker.append(objects)\n",
    "\n",
    "    # set the volume\n",
    "    tracker.volume=((0, 6048), (0, 6048), (-1e5, 1e5))\n",
    "\n",
    "    # track them (in interactive mode)\n",
    "    tracker.track_interactive(step_size=25)\n",
    "\n",
    "    # generate hypotheses and run the global optimizer\n",
    "    tracker.optimize()\n",
    "\n",
    "    tracker.export(f'/mnt/DATA/sandbox/pierre_live_cell_data/outputs/Replication_IPSDM_GFP/zarr/tracks.h5', obj_type='obj_type_1')\n",
    "\n",
    "    # get the tracks in a format for napari visualization (optional)\n",
    "    visaulise_tracks, properties, graph = tracker.to_napari(ndim=2)\n",
    "    \n",
    "    tracks = tracker.tracks"
   ]
  },
  {
   "cell_type": "code",
   "execution_count": 57,
   "id": "60bfd399",
   "metadata": {},
   "outputs": [],
   "source": [
    "tracks_path = f'/mnt/DATA/sandbox/pierre_live_cell_data/outputs/Replication_IPSDM_GFP/zarr/tracks.h5'"
   ]
  },
  {
   "cell_type": "code",
   "execution_count": 58,
   "id": "40c0cacf",
   "metadata": {
    "scrolled": true
   },
   "outputs": [
    {
     "name": "stderr",
     "output_type": "stream",
     "text": [
      "[INFO][2022/07/27 03:53:46 PM] Opening HDF file: /mnt/DATA/sandbox/pierre_live_cell_data/outputs/Replication_IPSDM_GFP/zarr/tracks.h5...\n",
      "[INFO][2022/07/27 03:53:46 PM] Loading tracks/obj_type_1\n",
      "[INFO][2022/07/27 03:53:46 PM] Loading objects/obj_type_1 (32222, 5) (32222 filtered: None)\n",
      "[INFO][2022/07/27 03:53:47 PM] Closing HDF file: /mnt/DATA/sandbox/pierre_live_cell_data/outputs/Replication_IPSDM_GFP/zarr/tracks.h5\n"
     ]
    }
   ],
   "source": [
    "with btrack.dataio.HDF5FileHandler(tracks_path, \n",
    "                                   'r', obj_type='obj_type_1'\n",
    "                                  ) as h:\n",
    "    tracks = h.tracks"
   ]
  },
  {
   "cell_type": "markdown",
   "id": "cbb08e22",
   "metadata": {},
   "source": [
    "# Check out the tracks"
   ]
  },
  {
   "cell_type": "code",
   "execution_count": 61,
   "id": "ef843550",
   "metadata": {},
   "outputs": [
    {
     "data": {
      "text/plain": [
       "(array([1.352e+04, 2.137e+03, 3.900e+02, 8.000e+01, 3.700e+01, 1.100e+01,\n",
       "        2.000e+00, 3.000e+00, 1.000e+00, 2.000e+00]),\n",
       " array([ 1. ,  4.7,  8.4, 12.1, 15.8, 19.5, 23.2, 26.9, 30.6, 34.3, 38. ]),\n",
       " <BarContainer object of 10 artists>)"
      ]
     },
     "execution_count": 61,
     "metadata": {},
     "output_type": "execute_result"
    },
    {
     "data": {
      "image/png": "[encoded data removed]",
      "text/plain": [
       "<Figure size 1080x504 with 1 Axes>"
      ]
     },
     "metadata": {
      "needs_background": "light"
     },
     "output_type": "display_data"
    }
   ],
   "source": [
    "plt.hist([len(track) for track in tracks])"
   ]
  },
  {
   "cell_type": "code",
   "execution_count": 62,
   "id": "4836b344",
   "metadata": {},
   "outputs": [],
   "source": [
    "tracks_filt = [track for track in tracks if len(track) > 15]"
   ]
  },
  {
   "cell_type": "code",
   "execution_count": 63,
   "id": "9894a6de",
   "metadata": {},
   "outputs": [],
   "source": [
    "view_tracks, properties, graph = btrack.utils.tracks_to_napari(tracks_filt, ndim = 2)"
   ]
  },
  {
   "cell_type": "code",
   "execution_count": 64,
   "id": "10d5d022",
   "metadata": {},
   "outputs": [
    {
     "name": "stderr",
     "output_type": "stream",
     "text": [
      "/home/dayn/miniconda3/envs/aero/lib/python3.9/site-packages/napari_tools_menu/__init__.py:179: FutureWarning: Public access to Window.qt_viewer is deprecated and will be removed in\n",
      "v0.5.0. It is considered an \"implementation detail\" of the napari\n",
      "application, not part of the napari viewer model. If your use case\n",
      "requires access to qt_viewer, please open an issue to discuss.\n",
      "  self.tools_menu = ToolsMenu(self, self.qt_viewer.viewer)\n"
     ]
    },
    {
     "data": {
      "text/plain": [
       "<Tracks layer 'tracks_filtered' at 0x7f4e13e38c10>"
      ]
     },
     "execution_count": 64,
     "metadata": {},
     "output_type": "execute_result"
    }
   ],
   "source": [
    "viewer = napari.Viewer()\n",
    "viewer.add_image(gfp, name=\"gfp\", \n",
    "                 #contrast_limits=[0,255],\n",
    "                 blending = 'additive', colormap = 'green')\n",
    "viewer.add_image(rfp, name=\"rfp\", \n",
    "                # contrast_limits=[0,55], \n",
    "                 blending = 'additive', colormap = 'magenta')\n",
    "viewer.add_labels(masks, name = 'masks')\n",
    "viewer.add_tracks(view_tracks, name = 'tracks_filtered')"
   ]
  },
  {
   "cell_type": "code",
   "execution_count": null,
   "id": "66947da4",
   "metadata": {},
   "outputs": [],
   "source": [
    "mask"
   ]
  }
 ],
 "metadata": {
  "kernelspec": {
   "display_name": "aero",
   "language": "python",
   "name": "aero"
  },
  "language_info": {
   "codemirror_mode": {
    "name": "ipython",
    "version": 3
   },
   "file_extension": ".py",
   "mimetype": "text/x-python",
   "name": "python",
   "nbconvert_exporter": "python",
   "pygments_lexer": "ipython3",
   "version": "3.9.12"
  }
 },
 "nbformat": 4,
 "nbformat_minor": 5
}
