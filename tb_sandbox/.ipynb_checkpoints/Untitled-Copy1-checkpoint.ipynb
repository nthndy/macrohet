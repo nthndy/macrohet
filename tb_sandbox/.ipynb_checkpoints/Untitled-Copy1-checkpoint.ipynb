{
 "cells": [
  {
   "cell_type": "code",
   "execution_count": 1,
   "id": "350a317a",
   "metadata": {},
   "outputs": [],
   "source": [
    "import napari"
   ]
  },
  {
   "cell_type": "code",
   "execution_count": 4,
   "id": "ac5f1264",
   "metadata": {},
   "outputs": [],
   "source": [
    "image_fn = '/mnt/DATA/sandbox/day 14_side-by-side .tif'"
   ]
  },
  {
   "cell_type": "code",
   "execution_count": 2,
   "id": "9f708c7c",
   "metadata": {},
   "outputs": [],
   "source": [
    "from skimage.io import imread"
   ]
  },
  {
   "cell_type": "code",
   "execution_count": 7,
   "id": "fea3c678",
   "metadata": {},
   "outputs": [],
   "source": [
    "image = imread(image_fn)"
   ]
  },
  {
   "cell_type": "code",
   "execution_count": 9,
   "id": "cceba986",
   "metadata": {},
   "outputs": [
    {
     "name": "stderr",
     "output_type": "stream",
     "text": [
      "/home/dayn/miniconda3/envs/aero/lib/python3.9/site-packages/napari_tools_menu/__init__.py:194: FutureWarning: Public access to Window.qt_viewer is deprecated and will be removed in\n",
      "v0.5.0. It is considered an \"implementation detail\" of the napari\n",
      "application, not part of the napari viewer model. If your use case\n",
      "requires access to qt_viewer, please open an issue to discuss.\n",
      "  self.tools_menu = ToolsMenu(self, self.qt_viewer.viewer)\n"
     ]
    },
    {
     "data": {
      "text/plain": [
       "<Image layer 'image' at 0x7f76bf58e910>"
      ]
     },
     "execution_count": 9,
     "metadata": {},
     "output_type": "execute_result"
    },
    {
     "name": "stdout",
     "output_type": "stream",
     "text": [
      "Rendering frames...\n"
     ]
    },
    {
     "name": "stderr",
     "output_type": "stream",
     "text": [
      "  0%|                                                                                   | 0/501 [00:00<?, ?it/s]14-Dec-22 13:31:09 - imageio_ffmpeg - WARNING  - IMAGEIO FFMPEG_WRITER WARNING: input image is not divisible by macro_block_size=16, resizing from (1368, 1110) to (1376, 1120) to ensure video compatibility with most codecs and players. To prevent resizing, make your input image divisible by the macro_block_size or set the macro_block_size to 1 (risking incompatibility).\n",
      "100%|█████████████████████████████████████████████████████████████████████████| 501/501 [00:21<00:00, 23.40it/s]\n"
     ]
    },
    {
     "name": "stdout",
     "output_type": "stream",
     "text": [
      "Rendering frames...\n"
     ]
    },
    {
     "name": "stderr",
     "output_type": "stream",
     "text": [
      "  0%|                                                                                   | 0/751 [00:00<?, ?it/s]14-Dec-22 13:33:04 - imageio_ffmpeg - WARNING  - IMAGEIO FFMPEG_WRITER WARNING: input image is not divisible by macro_block_size=16, resizing from (1368, 1110) to (1376, 1120) to ensure video compatibility with most codecs and players. To prevent resizing, make your input image divisible by the macro_block_size or set the macro_block_size to 1 (risking incompatibility).\n",
      "100%|█████████████████████████████████████████████████████████████████████████| 751/751 [00:32<00:00, 22.97it/s]\n"
     ]
    },
    {
     "name": "stdout",
     "output_type": "stream",
     "text": [
      "Rendering frames...\n"
     ]
    },
    {
     "name": "stderr",
     "output_type": "stream",
     "text": [
      "  0%|                                                                                   | 0/901 [00:00<?, ?it/s]14-Dec-22 13:34:23 - imageio_ffmpeg - WARNING  - IMAGEIO FFMPEG_WRITER WARNING: input image is not divisible by macro_block_size=16, resizing from (1368, 1110) to (1376, 1120) to ensure video compatibility with most codecs and players. To prevent resizing, make your input image divisible by the macro_block_size or set the macro_block_size to 1 (risking incompatibility).\n",
      "100%|█████████████████████████████████████████████████████████████████████████| 901/901 [00:38<00:00, 23.55it/s]\n"
     ]
    },
    {
     "name": "stdout",
     "output_type": "stream",
     "text": [
      "Rendering frames...\n"
     ]
    },
    {
     "name": "stderr",
     "output_type": "stream",
     "text": [
      "  0%|                                                                                   | 0/901 [00:00<?, ?it/s]14-Dec-22 13:35:51 - imageio_ffmpeg - WARNING  - IMAGEIO FFMPEG_WRITER WARNING: input image is not divisible by macro_block_size=16, resizing from (1368, 1110) to (1376, 1120) to ensure video compatibility with most codecs and players. To prevent resizing, make your input image divisible by the macro_block_size or set the macro_block_size to 1 (risking incompatibility).\n",
      "100%|█████████████████████████████████████████████████████████████████████████| 901/901 [00:37<00:00, 23.82it/s]\n",
      "Traceback (most recent call last):\n",
      "  File \"/home/dayn/miniconda3/envs/aero/lib/python3.9/site-packages/napari_animation/_qt/frame_widget.py\", line 66, in _update_animation_ease\n",
      "    active_keyframe.ease = self.get_easing_func()\n",
      "AttributeError: 'NoneType' object has no attribute 'ease'\n",
      "Traceback (most recent call last):\n",
      "  File \"/home/dayn/miniconda3/envs/aero/lib/python3.9/site-packages/napari/layers/labels/labels.py\", line 816, in _lookup_with_index\n",
      "    image = self._all_vals[im]\n",
      "IndexError: index -3 is out of bounds for axis 0 with size 2\n",
      "\n",
      "During handling of the above exception, another exception occurred:\n",
      "\n",
      "Traceback (most recent call last):\n",
      "  File \"/home/dayn/miniconda3/envs/aero/lib/python3.9/site-packages/napari/_qt/layer_controls/qt_labels_controls.py\", line 336, in changeSelection\n",
      "    self.layer.selected_label = value\n",
      "  File \"/home/dayn/miniconda3/envs/aero/lib/python3.9/site-packages/napari/layers/labels/labels.py\", line 608, in selected_label\n",
      "    self._selected_color = self.get_color(selected_label)\n",
      "  File \"/home/dayn/miniconda3/envs/aero/lib/python3.9/site-packages/napari/layers/labels/labels.py\", line 970, in get_color\n",
      "    val = self._raw_to_displayed(np.array([label]))\n",
      "  File \"/home/dayn/miniconda3/envs/aero/lib/python3.9/site-packages/napari/layers/labels/labels.py\", line 933, in _raw_to_displayed\n",
      "    image = self._color_lookup_func(raw_modified)\n",
      "  File \"/home/dayn/miniconda3/envs/aero/lib/python3.9/site-packages/napari/layers/labels/labels.py\", line 829, in _lookup_with_index\n",
      "    image = self._all_vals[im]\n",
      "IndexError: index -3 is out of bounds for axis 0 with size 2\n",
      "Traceback (most recent call last):\n",
      "  File \"/home/dayn/miniconda3/envs/aero/lib/python3.9/site-packages/napari/layers/labels/labels.py\", line 816, in _lookup_with_index\n",
      "    image = self._all_vals[im]\n",
      "IndexError: index -4 is out of bounds for axis 0 with size 2\n",
      "\n",
      "During handling of the above exception, another exception occurred:\n",
      "\n",
      "Traceback (most recent call last):\n",
      "  File \"/home/dayn/miniconda3/envs/aero/lib/python3.9/site-packages/napari/_qt/layer_controls/qt_labels_controls.py\", line 336, in changeSelection\n",
      "    self.layer.selected_label = value\n",
      "  File \"/home/dayn/miniconda3/envs/aero/lib/python3.9/site-packages/napari/layers/labels/labels.py\", line 608, in selected_label\n",
      "    self._selected_color = self.get_color(selected_label)\n",
      "  File \"/home/dayn/miniconda3/envs/aero/lib/python3.9/site-packages/napari/layers/labels/labels.py\", line 970, in get_color\n",
      "    val = self._raw_to_displayed(np.array([label]))\n",
      "  File \"/home/dayn/miniconda3/envs/aero/lib/python3.9/site-packages/napari/layers/labels/labels.py\", line 933, in _raw_to_displayed\n",
      "    image = self._color_lookup_func(raw_modified)\n",
      "  File \"/home/dayn/miniconda3/envs/aero/lib/python3.9/site-packages/napari/layers/labels/labels.py\", line 829, in _lookup_with_index\n",
      "    image = self._all_vals[im]\n",
      "IndexError: index -4 is out of bounds for axis 0 with size 2\n",
      "Traceback (most recent call last):\n",
      "  File \"/home/dayn/miniconda3/envs/aero/lib/python3.9/site-packages/napari/layers/labels/labels.py\", line 816, in _lookup_with_index\n",
      "    image = self._all_vals[im]\n",
      "IndexError: index -5 is out of bounds for axis 0 with size 2\n",
      "\n",
      "During handling of the above exception, another exception occurred:\n",
      "\n",
      "Traceback (most recent call last):\n",
      "  File \"/home/dayn/miniconda3/envs/aero/lib/python3.9/site-packages/napari/_qt/layer_controls/qt_labels_controls.py\", line 336, in changeSelection\n",
      "    self.layer.selected_label = value\n",
      "  File \"/home/dayn/miniconda3/envs/aero/lib/python3.9/site-packages/napari/layers/labels/labels.py\", line 608, in selected_label\n",
      "    self._selected_color = self.get_color(selected_label)\n",
      "  File \"/home/dayn/miniconda3/envs/aero/lib/python3.9/site-packages/napari/layers/labels/labels.py\", line 970, in get_color\n",
      "    val = self._raw_to_displayed(np.array([label]))\n",
      "  File \"/home/dayn/miniconda3/envs/aero/lib/python3.9/site-packages/napari/layers/labels/labels.py\", line 933, in _raw_to_displayed\n",
      "    image = self._color_lookup_func(raw_modified)\n",
      "  File \"/home/dayn/miniconda3/envs/aero/lib/python3.9/site-packages/napari/layers/labels/labels.py\", line 829, in _lookup_with_index\n",
      "    image = self._all_vals[im]\n",
      "IndexError: index -5 is out of bounds for axis 0 with size 2\n",
      "Traceback (most recent call last):\n",
      "  File \"/home/dayn/miniconda3/envs/aero/lib/python3.9/site-packages/napari/layers/labels/labels.py\", line 816, in _lookup_with_index\n",
      "    image = self._all_vals[im]\n",
      "IndexError: index -4 is out of bounds for axis 0 with size 2\n",
      "\n",
      "During handling of the above exception, another exception occurred:\n",
      "\n",
      "Traceback (most recent call last):\n",
      "  File \"/home/dayn/miniconda3/envs/aero/lib/python3.9/site-packages/napari/_qt/layer_controls/qt_labels_controls.py\", line 336, in changeSelection\n",
      "    self.layer.selected_label = value\n",
      "  File \"/home/dayn/miniconda3/envs/aero/lib/python3.9/site-packages/napari/layers/labels/labels.py\", line 608, in selected_label\n",
      "    self._selected_color = self.get_color(selected_label)\n",
      "  File \"/home/dayn/miniconda3/envs/aero/lib/python3.9/site-packages/napari/layers/labels/labels.py\", line 970, in get_color\n",
      "    val = self._raw_to_displayed(np.array([label]))\n",
      "  File \"/home/dayn/miniconda3/envs/aero/lib/python3.9/site-packages/napari/layers/labels/labels.py\", line 933, in _raw_to_displayed\n",
      "    image = self._color_lookup_func(raw_modified)\n",
      "  File \"/home/dayn/miniconda3/envs/aero/lib/python3.9/site-packages/napari/layers/labels/labels.py\", line 829, in _lookup_with_index\n",
      "    image = self._all_vals[im]\n",
      "IndexError: index -4 is out of bounds for axis 0 with size 2\n",
      "Traceback (most recent call last):\n",
      "  File \"/home/dayn/miniconda3/envs/aero/lib/python3.9/site-packages/napari/layers/labels/labels.py\", line 816, in _lookup_with_index\n",
      "    image = self._all_vals[im]\n",
      "IndexError: index -3 is out of bounds for axis 0 with size 2\n",
      "\n",
      "During handling of the above exception, another exception occurred:\n",
      "\n",
      "Traceback (most recent call last):\n",
      "  File \"/home/dayn/miniconda3/envs/aero/lib/python3.9/site-packages/napari/_qt/layer_controls/qt_labels_controls.py\", line 336, in changeSelection\n",
      "    self.layer.selected_label = value\n",
      "  File \"/home/dayn/miniconda3/envs/aero/lib/python3.9/site-packages/napari/layers/labels/labels.py\", line 608, in selected_label\n",
      "    self._selected_color = self.get_color(selected_label)\n",
      "  File \"/home/dayn/miniconda3/envs/aero/lib/python3.9/site-packages/napari/layers/labels/labels.py\", line 970, in get_color\n",
      "    val = self._raw_to_displayed(np.array([label]))\n",
      "  File \"/home/dayn/miniconda3/envs/aero/lib/python3.9/site-packages/napari/layers/labels/labels.py\", line 933, in _raw_to_displayed\n",
      "    image = self._color_lookup_func(raw_modified)\n",
      "  File \"/home/dayn/miniconda3/envs/aero/lib/python3.9/site-packages/napari/layers/labels/labels.py\", line 829, in _lookup_with_index\n",
      "    image = self._all_vals[im]\n",
      "IndexError: index -3 is out of bounds for axis 0 with size 2\n"
     ]
    },
    {
     "name": "stdout",
     "output_type": "stream",
     "text": [
      "Rendering frames...\n"
     ]
    },
    {
     "name": "stderr",
     "output_type": "stream",
     "text": [
      "  0%|                                                                                   | 0/501 [00:00<?, ?it/s]14-Dec-22 13:40:42 - imageio_ffmpeg - WARNING  - IMAGEIO FFMPEG_WRITER WARNING: input image is not divisible by macro_block_size=16, resizing from (1368, 1110) to (1376, 1120) to ensure video compatibility with most codecs and players. To prevent resizing, make your input image divisible by the macro_block_size or set the macro_block_size to 1 (risking incompatibility).\n",
      " 73%|█████████████████████████████████████████████████████                    | 364/501 [01:13<02:18,  1.01s/it]"
     ]
    }
   ],
   "source": [
    "v = napari.Viewer()\n",
    "\n",
    "v.add_image(image)"
   ]
  },
  {
   "cell_type": "code",
   "execution_count": 8,
   "id": "1b0d05ae",
   "metadata": {},
   "outputs": [
    {
     "data": {
      "text/plain": [
       "(3500, 28639)"
      ]
     },
     "execution_count": 8,
     "metadata": {},
     "output_type": "execute_result"
    }
   ],
   "source": [
    "image.shape"
   ]
  }
 ],
 "metadata": {
  "kernelspec": {
   "display_name": "aero",
   "language": "python",
   "name": "aero"
  },
  "language_info": {
   "codemirror_mode": {
    "name": "ipython",
    "version": 3
   },
   "file_extension": ".py",
   "mimetype": "text/x-python",
   "name": "python",
   "nbconvert_exporter": "python",
   "pygments_lexer": "ipython3",
   "version": "3.9.12"
  }
 },
 "nbformat": 4,
 "nbformat_minor": 5
}
