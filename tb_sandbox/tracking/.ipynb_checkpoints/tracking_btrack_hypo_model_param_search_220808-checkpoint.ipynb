{
 "cells": [
  {
   "cell_type": "code",
   "execution_count": 76,
   "id": "18b20799",
   "metadata": {},
   "outputs": [],
   "source": [
    "import dask.array as da\n",
    "import napari\n",
    "import btrack\n",
    "from tqdm.auto import tqdm\n",
    "from skimage.io import imshow,  imsave\n",
    "import matplotlib.pyplot as plt\n",
    "import numpy as np\n",
    "import itertools\n",
    "import json\n",
    "plt.rcParams[\"figure.figsize\"] = (15,7)"
   ]
  },
  {
   "cell_type": "markdown",
   "id": "410eeae1",
   "metadata": {},
   "source": [
    "### Load images from zarr and compress into max projections"
   ]
  },
  {
   "cell_type": "code",
   "execution_count": 2,
   "id": "61ffbb7e",
   "metadata": {},
   "outputs": [],
   "source": [
    "gfp = da.from_zarr('/mnt/DATA/sandbox/pierre_live_cell_data/outputs/Replication_IPSDM_GFP/zarr/tzxy_stack_ch1.zarr/')\n",
    "rfp = da.from_zarr('/mnt/DATA/sandbox/pierre_live_cell_data/outputs/Replication_IPSDM_GFP/zarr/tzxy_stack_ch2.zarr/')\n",
    "gfp = da.sum(gfp, axis = 1, dtype='u2')\n",
    "rfp = da.sum(rfp, axis = 1, dtype='u2')\n",
    "masks = da.from_zarr(f'/mnt/DATA/sandbox/pierre_live_cell_data/outputs/Replication_IPSDM_GFP/zarr/tzxy_stack_ch99.zarr/',)# chunks = gfp.chunks)"
   ]
  },
  {
   "cell_type": "code",
   "execution_count": 3,
   "id": "0d8ae137",
   "metadata": {},
   "outputs": [
    {
     "data": {
      "text/html": [
       "<table>\n",
       "    <tr>\n",
       "        <td>\n",
       "            <table>\n",
       "                <thead>\n",
       "                    <tr>\n",
       "                        <td> </td>\n",
       "                        <th> Array </th>\n",
       "                        <th> Chunk </th>\n",
       "                    </tr>\n",
       "                </thead>\n",
       "                <tbody>\n",
       "                    \n",
       "                    <tr>\n",
       "                        <th> Bytes </th>\n",
       "                        <td> 5.11 GiB </td>\n",
       "                        <td> 8.90 MiB </td>\n",
       "                    </tr>\n",
       "                    \n",
       "                    <tr>\n",
       "                        <th> Shape </th>\n",
       "                        <td> (75, 6048, 6048) </td>\n",
       "                        <td> (1, 2160, 2160) </td>\n",
       "                    </tr>\n",
       "                    <tr>\n",
       "                        <th> Count </th>\n",
       "                        <td> 676 Tasks </td>\n",
       "                        <td> 675 Chunks </td>\n",
       "                    </tr>\n",
       "                    <tr>\n",
       "                    <th> Type </th>\n",
       "                    <td> uint16 </td>\n",
       "                    <td> numpy.ndarray </td>\n",
       "                    </tr>\n",
       "                </tbody>\n",
       "            </table>\n",
       "        </td>\n",
       "        <td>\n",
       "        <svg width=\"195\" height=\"185\" style=\"stroke:rgb(0,0,0);stroke-width:1\" >\n",
       "\n",
       "  <!-- Horizontal lines -->\n",
       "  <line x1=\"10\" y1=\"0\" x2=\"25\" y2=\"15\" style=\"stroke-width:2\" />\n",
       "  <line x1=\"10\" y1=\"42\" x2=\"25\" y2=\"58\" />\n",
       "  <line x1=\"10\" y1=\"85\" x2=\"25\" y2=\"101\" />\n",
       "  <line x1=\"10\" y1=\"120\" x2=\"25\" y2=\"135\" style=\"stroke-width:2\" />\n",
       "\n",
       "  <!-- Vertical lines -->\n",
       "  <line x1=\"10\" y1=\"0\" x2=\"10\" y2=\"120\" style=\"stroke-width:2\" />\n",
       "  <line x1=\"10\" y1=\"0\" x2=\"10\" y2=\"120\" />\n",
       "  <line x1=\"11\" y1=\"1\" x2=\"11\" y2=\"121\" />\n",
       "  <line x1=\"12\" y1=\"2\" x2=\"12\" y2=\"122\" />\n",
       "  <line x1=\"13\" y1=\"3\" x2=\"13\" y2=\"123\" />\n",
       "  <line x1=\"13\" y1=\"3\" x2=\"13\" y2=\"123\" />\n",
       "  <line x1=\"14\" y1=\"4\" x2=\"14\" y2=\"124\" />\n",
       "  <line x1=\"15\" y1=\"5\" x2=\"15\" y2=\"125\" />\n",
       "  <line x1=\"16\" y1=\"6\" x2=\"16\" y2=\"126\" />\n",
       "  <line x1=\"17\" y1=\"7\" x2=\"17\" y2=\"127\" />\n",
       "  <line x1=\"18\" y1=\"8\" x2=\"18\" y2=\"128\" />\n",
       "  <line x1=\"18\" y1=\"8\" x2=\"18\" y2=\"128\" />\n",
       "  <line x1=\"19\" y1=\"9\" x2=\"19\" y2=\"129\" />\n",
       "  <line x1=\"20\" y1=\"10\" x2=\"20\" y2=\"130\" />\n",
       "  <line x1=\"21\" y1=\"11\" x2=\"21\" y2=\"131\" />\n",
       "  <line x1=\"22\" y1=\"12\" x2=\"22\" y2=\"132\" />\n",
       "  <line x1=\"23\" y1=\"13\" x2=\"23\" y2=\"133\" />\n",
       "  <line x1=\"23\" y1=\"13\" x2=\"23\" y2=\"133\" />\n",
       "  <line x1=\"24\" y1=\"14\" x2=\"24\" y2=\"134\" />\n",
       "  <line x1=\"25\" y1=\"15\" x2=\"25\" y2=\"135\" style=\"stroke-width:2\" />\n",
       "\n",
       "  <!-- Colored Rectangle -->\n",
       "  <polygon points=\"10.0,0.0 25.57197789387105,15.57197789387105 25.57197789387105,135.57197789387106 10.0,120.0\" style=\"fill:#8B4903A0;stroke-width:0\"/>\n",
       "\n",
       "  <!-- Horizontal lines -->\n",
       "  <line x1=\"10\" y1=\"0\" x2=\"130\" y2=\"0\" style=\"stroke-width:2\" />\n",
       "  <line x1=\"10\" y1=\"0\" x2=\"130\" y2=\"0\" />\n",
       "  <line x1=\"11\" y1=\"1\" x2=\"131\" y2=\"1\" />\n",
       "  <line x1=\"12\" y1=\"2\" x2=\"132\" y2=\"2\" />\n",
       "  <line x1=\"13\" y1=\"3\" x2=\"133\" y2=\"3\" />\n",
       "  <line x1=\"13\" y1=\"3\" x2=\"133\" y2=\"3\" />\n",
       "  <line x1=\"14\" y1=\"4\" x2=\"134\" y2=\"4\" />\n",
       "  <line x1=\"15\" y1=\"5\" x2=\"135\" y2=\"5\" />\n",
       "  <line x1=\"16\" y1=\"6\" x2=\"136\" y2=\"6\" />\n",
       "  <line x1=\"17\" y1=\"7\" x2=\"137\" y2=\"7\" />\n",
       "  <line x1=\"18\" y1=\"8\" x2=\"138\" y2=\"8\" />\n",
       "  <line x1=\"18\" y1=\"8\" x2=\"138\" y2=\"8\" />\n",
       "  <line x1=\"19\" y1=\"9\" x2=\"139\" y2=\"9\" />\n",
       "  <line x1=\"20\" y1=\"10\" x2=\"140\" y2=\"10\" />\n",
       "  <line x1=\"21\" y1=\"11\" x2=\"141\" y2=\"11\" />\n",
       "  <line x1=\"22\" y1=\"12\" x2=\"142\" y2=\"12\" />\n",
       "  <line x1=\"23\" y1=\"13\" x2=\"143\" y2=\"13\" />\n",
       "  <line x1=\"23\" y1=\"13\" x2=\"143\" y2=\"13\" />\n",
       "  <line x1=\"24\" y1=\"14\" x2=\"144\" y2=\"14\" />\n",
       "  <line x1=\"25\" y1=\"15\" x2=\"145\" y2=\"15\" style=\"stroke-width:2\" />\n",
       "\n",
       "  <!-- Vertical lines -->\n",
       "  <line x1=\"10\" y1=\"0\" x2=\"25\" y2=\"15\" style=\"stroke-width:2\" />\n",
       "  <line x1=\"52\" y1=\"0\" x2=\"68\" y2=\"15\" />\n",
       "  <line x1=\"95\" y1=\"0\" x2=\"111\" y2=\"15\" />\n",
       "  <line x1=\"130\" y1=\"0\" x2=\"145\" y2=\"15\" style=\"stroke-width:2\" />\n",
       "\n",
       "  <!-- Colored Rectangle -->\n",
       "  <polygon points=\"10.0,0.0 130.0,0.0 145.57197789387106,15.57197789387105 25.57197789387105,15.57197789387105\" style=\"fill:#8B4903A0;stroke-width:0\"/>\n",
       "\n",
       "  <!-- Horizontal lines -->\n",
       "  <line x1=\"25\" y1=\"15\" x2=\"145\" y2=\"15\" style=\"stroke-width:2\" />\n",
       "  <line x1=\"25\" y1=\"58\" x2=\"145\" y2=\"58\" />\n",
       "  <line x1=\"25\" y1=\"101\" x2=\"145\" y2=\"101\" />\n",
       "  <line x1=\"25\" y1=\"135\" x2=\"145\" y2=\"135\" style=\"stroke-width:2\" />\n",
       "\n",
       "  <!-- Vertical lines -->\n",
       "  <line x1=\"25\" y1=\"15\" x2=\"25\" y2=\"135\" style=\"stroke-width:2\" />\n",
       "  <line x1=\"68\" y1=\"15\" x2=\"68\" y2=\"135\" />\n",
       "  <line x1=\"111\" y1=\"15\" x2=\"111\" y2=\"135\" />\n",
       "  <line x1=\"145\" y1=\"15\" x2=\"145\" y2=\"135\" style=\"stroke-width:2\" />\n",
       "\n",
       "  <!-- Colored Rectangle -->\n",
       "  <polygon points=\"25.57197789387105,15.57197789387105 145.57197789387106,15.57197789387105 145.57197789387106,135.57197789387106 25.57197789387105,135.57197789387106\" style=\"fill:#ECB172A0;stroke-width:0\"/>\n",
       "\n",
       "  <!-- Text -->\n",
       "  <text x=\"85.571978\" y=\"155.571978\" font-size=\"1.0rem\" font-weight=\"100\" text-anchor=\"middle\" >6048</text>\n",
       "  <text x=\"165.571978\" y=\"75.571978\" font-size=\"1.0rem\" font-weight=\"100\" text-anchor=\"middle\" transform=\"rotate(-90,165.571978,75.571978)\">6048</text>\n",
       "  <text x=\"7.785989\" y=\"147.785989\" font-size=\"1.0rem\" font-weight=\"100\" text-anchor=\"middle\" transform=\"rotate(45,7.785989,147.785989)\">75</text>\n",
       "</svg>\n",
       "        </td>\n",
       "    </tr>\n",
       "</table>"
      ],
      "text/plain": [
       "dask.array<from-zarr, shape=(75, 6048, 6048), dtype=uint16, chunksize=(1, 2160, 2160), chunktype=numpy.ndarray>"
      ]
     },
     "execution_count": 3,
     "metadata": {},
     "output_type": "execute_result"
    }
   ],
   "source": [
    "masks"
   ]
  },
  {
   "cell_type": "markdown",
   "id": "f73cd835",
   "metadata": {},
   "source": [
    "## Define features"
   ]
  },
  {
   "cell_type": "code",
   "execution_count": 4,
   "id": "38b8622b",
   "metadata": {},
   "outputs": [],
   "source": [
    "FEATURES = [\n",
    "  \"area\",\n",
    "  \"major_axis_length\",\n",
    "  \"minor_axis_length\",\n",
    "  \"orientation\",\n",
    "  \"solidity\",\n",
    "  \"mean_intensity\",\n",
    "]"
   ]
  },
  {
   "cell_type": "code",
   "execution_count": 5,
   "id": "ed47d0bc",
   "metadata": {},
   "outputs": [
    {
     "name": "stderr",
     "output_type": "stream",
     "text": [
      "[INFO][2022/08/08 02:40:50 PM] Localizing objects from segmentation...\n",
      "[INFO][2022/08/08 02:40:50 PM] Found intensity_image data\n",
      "[INFO][2022/08/08 02:40:50 PM] Calculating weighted centroids using intensity_image\n",
      "[INFO][2022/08/08 02:47:27 PM] Objects are of type: <class 'dict'>\n",
      "[INFO][2022/08/08 02:47:27 PM] ...Found 34804 objects in 75 frames.\n"
     ]
    },
    {
     "name": "stdout",
     "output_type": "stream",
     "text": [
      "CPU times: user 19min 11s, sys: 38.1 s, total: 19min 49s\n",
      "Wall time: 6min 37s\n"
     ]
    }
   ],
   "source": [
    "%%time\n",
    "\n",
    "objects = btrack.utils.segmentation_to_objects(\n",
    "    masks, \n",
    "    gfp,\n",
    "    properties = tuple(FEATURES), \n",
    ")"
   ]
  },
  {
   "cell_type": "markdown",
   "id": "9f7597bd",
   "metadata": {},
   "source": [
    "# Parameters to search over\n",
    "\n",
    "The documents online (https://btrack.readthedocs.io/en/latest/user_guide/configuration.html#tips-and-warnings) also suggest to start with the motion model parameters without using the optimisation step"
   ]
  },
  {
   "cell_type": "code",
   "execution_count": 114,
   "id": "5bb7e508",
   "metadata": {},
   "outputs": [],
   "source": [
    "### these sigma values scale the error associated with each matrix??\n",
    "P_sigma = [75, 150, 300, 600]\n",
    "G_sigma = [5, 15, 30, 60]\n",
    "R_sigma = [1, 5, 15, 30]"
   ]
  },
  {
   "cell_type": "markdown",
   "id": "3bd166a2",
   "metadata": {},
   "source": [
    "Keep note of which variable is which with dict"
   ]
  },
  {
   "cell_type": "code",
   "execution_count": 115,
   "id": "daf5e23d",
   "metadata": {},
   "outputs": [],
   "source": [
    "param_dict_motion_model = {'P_sigma':P_sigma, \n",
    "                           'G_sigma':G_sigma,\n",
    "                           'R_sigma':R_sigma,}"
   ]
  },
  {
   "cell_type": "markdown",
   "id": "e9e3ed9b",
   "metadata": {},
   "source": [
    "Check that I can iterate over"
   ]
  },
  {
   "cell_type": "code",
   "execution_count": 116,
   "id": "76831b3d",
   "metadata": {},
   "outputs": [
    {
     "name": "stdout",
     "output_type": "stream",
     "text": [
      "[(75, 5, 1), (75, 5, 5), (75, 5, 15), (75, 5, 30), (75, 15, 1), (75, 15, 5), (75, 15, 15), (75, 15, 30), (75, 30, 1), (75, 30, 5), (75, 30, 15), (75, 30, 30), (75, 60, 1), (75, 60, 5), (75, 60, 15), (75, 60, 30), (150, 5, 1), (150, 5, 5), (150, 5, 15), (150, 5, 30), (150, 15, 1), (150, 15, 5), (150, 15, 15), (150, 15, 30), (150, 30, 1), (150, 30, 5), (150, 30, 15), (150, 30, 30), (150, 60, 1), (150, 60, 5), (150, 60, 15), (150, 60, 30), (300, 5, 1), (300, 5, 5), (300, 5, 15), (300, 5, 30), (300, 15, 1), (300, 15, 5), (300, 15, 15), (300, 15, 30), (300, 30, 1), (300, 30, 5), (300, 30, 15), (300, 30, 30), (300, 60, 1), (300, 60, 5), (300, 60, 15), (300, 60, 30), (600, 5, 1), (600, 5, 5), (600, 5, 15), (600, 5, 30), (600, 15, 1), (600, 15, 5), (600, 15, 15), (600, 15, 30), (600, 30, 1), (600, 30, 5), (600, 30, 15), (600, 30, 30), (600, 60, 1), (600, 60, 5), (600, 60, 15), (600, 60, 30)]\n",
      "Number of iterations to cover all params: 64\n"
     ]
    }
   ],
   "source": [
    "print(list(itertools.product(*param_dict_motion_model.values())))\n",
    "print('Number of iterations to cover all params:',len(list(itertools.product(*param_dict_motion_model.values()))))"
   ]
  },
  {
   "cell_type": "code",
   "execution_count": null,
   "id": "59f4c2bc",
   "metadata": {
    "scrolled": true
   },
   "outputs": [
    {
     "data": {
      "application/vnd.jupyter.widget-view+json": {
       "model_id": "4c08bf34be2d4237bd1ae6f961551233",
       "version_major": 2,
       "version_minor": 0
      },
      "text/plain": [
       "  0%|          | 0/64 [00:00<?, ?it/s]"
      ]
     },
     "metadata": {},
     "output_type": "display_data"
    },
    {
     "name": "stderr",
     "output_type": "stream",
     "text": [
      "[INFO][2022/08/08 04:52:18 PM] Loaded btrack: /home/dayn/miniconda3/envs/aero/lib/python3.9/site-packages/btrack/libs/libtracker.so\n",
      "[INFO][2022/08/08 04:52:18 PM] btrack (v0.4.5) library imported\n",
      "[INFO][2022/08/08 04:52:18 PM] Starting BayesianTracker session\n",
      "[INFO][2022/08/08 04:52:18 PM] Loading configuration file: /home/dayn/analysis/BayesianTracker/models/param_test_config.json\n",
      "[INFO][2022/08/08 04:52:18 PM] Setting max_search_radius -> 500\n",
      "[INFO][2022/08/08 04:52:18 PM] Setting features -> ['area', 'major_axis_length', 'minor_axis_length', 'orientation', 'solidity', 'mean_intensity']\n",
      "[INFO][2022/08/08 04:52:18 PM] Objects are of type: <class 'list'>\n",
      "[INFO][2022/08/08 04:52:18 PM] Setting volume -> ((0, 6048), (0, 6048), (-100000.0, 100000.0))\n",
      "[INFO][2022/08/08 04:52:18 PM] Starting tracking... \n",
      "[INFO][2022/08/08 04:52:19 PM] Tracking objects in frames 0 to 24 (of 75)...\n",
      "[INFO][2022/08/08 04:52:36 PM]  - Timing (Bayesian updates: 649.70ms, Linking: 12.84ms)\n",
      "[INFO][2022/08/08 04:52:36 PM]  - Probabilities (Link: 0.52116, Lost: 0.99874)\n",
      "[INFO][2022/08/08 04:52:36 PM]  - Stats (Active: 2887, Lost: 64078, Conflicts resolved: 597)\n",
      "[INFO][2022/08/08 04:52:36 PM] Tracking objects in frames 25 to 49 (of 75)...\n",
      "[INFO][2022/08/08 04:52:49 PM]  - Timing (Bayesian updates: 221.03ms, Linking: 7.23ms)\n",
      "[INFO][2022/08/08 04:52:49 PM]  - Probabilities (Link: 1.00000, Lost: 1.00000)\n",
      "[INFO][2022/08/08 04:52:49 PM]  - Stats (Active: 1909, Lost: 128062, Conflicts resolved: 1038)\n",
      "[INFO][2022/08/08 04:52:49 PM] Tracking objects in frames 50 to 74 (of 75)...\n",
      "[INFO][2022/08/08 04:52:51 PM]  - Timing (Bayesian updates: 18.61ms, Linking: 1.49ms)\n",
      "[INFO][2022/08/08 04:52:51 PM]  - Probabilities (Link: 0.99999, Lost: 1.00000)\n",
      "[INFO][2022/08/08 04:52:51 PM] SUCCESS.\n",
      "[INFO][2022/08/08 04:52:51 PM]  - Found 23508 tracks in 75 frames (in 0.0s)\n",
      "[INFO][2022/08/08 04:52:51 PM]  - Inserted 10626 dummy objects to fill tracking gaps\n",
      "[INFO][2022/08/08 04:52:52 PM] Ending BayesianTracker session\n",
      "[INFO][2022/08/08 04:52:52 PM] Loaded btrack: /home/dayn/miniconda3/envs/aero/lib/python3.9/site-packages/btrack/libs/libtracker.so\n",
      "[INFO][2022/08/08 04:52:52 PM] btrack (v0.4.5) library imported\n",
      "[INFO][2022/08/08 04:52:52 PM] Starting BayesianTracker session\n",
      "[INFO][2022/08/08 04:52:52 PM] Loading configuration file: /home/dayn/analysis/BayesianTracker/models/param_test_config.json\n",
      "[INFO][2022/08/08 04:52:52 PM] Setting max_search_radius -> 500\n",
      "[INFO][2022/08/08 04:52:52 PM] Setting features -> ['area', 'major_axis_length', 'minor_axis_length', 'orientation', 'solidity', 'mean_intensity']\n",
      "[INFO][2022/08/08 04:52:52 PM] Objects are of type: <class 'list'>\n"
     ]
    },
    {
     "name": "stdout",
     "output_type": "stream",
     "text": [
      "(75, 5, 1) 1.9325336055810787\n"
     ]
    },
    {
     "name": "stderr",
     "output_type": "stream",
     "text": [
      "[INFO][2022/08/08 04:52:52 PM] Setting volume -> ((0, 6048), (0, 6048), (-100000.0, 100000.0))\n",
      "[INFO][2022/08/08 04:52:52 PM] Starting tracking... \n",
      "[INFO][2022/08/08 04:52:52 PM] Tracking objects in frames 0 to 24 (of 75)...\n",
      "[INFO][2022/08/08 04:53:08 PM]  - Timing (Bayesian updates: 557.85ms, Linking: 12.95ms)\n",
      "[INFO][2022/08/08 04:53:08 PM]  - Probabilities (Link: 0.99726, Lost: 0.99874)\n",
      "[INFO][2022/08/08 04:53:08 PM]  - Stats (Active: 2757, Lost: 59809, Conflicts resolved: 1041)\n",
      "[INFO][2022/08/08 04:53:08 PM] Tracking objects in frames 25 to 49 (of 75)...\n",
      "[INFO][2022/08/08 04:53:20 PM]  - Timing (Bayesian updates: 193.39ms, Linking: 6.93ms)\n",
      "[INFO][2022/08/08 04:53:20 PM]  - Probabilities (Link: 0.99998, Lost: 1.00000)\n",
      "[INFO][2022/08/08 04:53:20 PM]  - Stats (Active: 1822, Lost: 120110, Conflicts resolved: 1848)\n",
      "[INFO][2022/08/08 04:53:20 PM] Tracking objects in frames 50 to 74 (of 75)...\n",
      "[INFO][2022/08/08 04:53:21 PM]  - Timing (Bayesian updates: 12.83ms, Linking: 1.11ms)\n",
      "[INFO][2022/08/08 04:53:21 PM]  - Probabilities (Link: 0.99351, Lost: 1.00000)\n",
      "[INFO][2022/08/08 04:53:21 PM] SUCCESS.\n",
      "[INFO][2022/08/08 04:53:21 PM]  - Found 21314 tracks in 75 frames (in 0.0s)\n",
      "[INFO][2022/08/08 04:53:21 PM]  - Inserted 15012 dummy objects to fill tracking gaps\n",
      "[INFO][2022/08/08 04:53:22 PM] Ending BayesianTracker session\n",
      "[INFO][2022/08/08 04:53:22 PM] Loaded btrack: /home/dayn/miniconda3/envs/aero/lib/python3.9/site-packages/btrack/libs/libtracker.so\n",
      "[INFO][2022/08/08 04:53:22 PM] btrack (v0.4.5) library imported\n",
      "[INFO][2022/08/08 04:53:22 PM] Starting BayesianTracker session\n",
      "[INFO][2022/08/08 04:53:22 PM] Loading configuration file: /home/dayn/analysis/BayesianTracker/models/param_test_config.json\n",
      "[INFO][2022/08/08 04:53:22 PM] Setting max_search_radius -> 500\n",
      "[INFO][2022/08/08 04:53:22 PM] Setting features -> ['area', 'major_axis_length', 'minor_axis_length', 'orientation', 'solidity', 'mean_intensity']\n",
      "[INFO][2022/08/08 04:53:22 PM] Objects are of type: <class 'list'>\n"
     ]
    },
    {
     "name": "stdout",
     "output_type": "stream",
     "text": [
      "(75, 5, 5) 2.3372431265834663\n"
     ]
    },
    {
     "name": "stderr",
     "output_type": "stream",
     "text": [
      "[INFO][2022/08/08 04:53:22 PM] Setting volume -> ((0, 6048), (0, 6048), (-100000.0, 100000.0))\n",
      "[INFO][2022/08/08 04:53:22 PM] Starting tracking... \n",
      "[INFO][2022/08/08 04:53:23 PM] Tracking objects in frames 0 to 24 (of 75)...\n",
      "[INFO][2022/08/08 04:53:36 PM]  - Timing (Bayesian updates: 514.07ms, Linking: 11.31ms)\n",
      "[INFO][2022/08/08 04:53:36 PM]  - Probabilities (Link: 0.97405, Lost: 1.00000)\n",
      "[INFO][2022/08/08 04:53:36 PM]  - Stats (Active: 2529, Lost: 50701, Conflicts resolved: 2291)\n",
      "[INFO][2022/08/08 04:53:36 PM] Tracking objects in frames 25 to 49 (of 75)...\n",
      "[INFO][2022/08/08 04:53:47 PM]  - Timing (Bayesian updates: 178.23ms, Linking: 6.71ms)\n",
      "[INFO][2022/08/08 04:53:47 PM]  - Probabilities (Link: 0.99604, Lost: 1.00000)\n",
      "[INFO][2022/08/08 04:53:47 PM]  - Stats (Active: 1680, Lost: 103418, Conflicts resolved: 4027)\n",
      "[INFO][2022/08/08 04:53:47 PM] Tracking objects in frames 50 to 74 (of 75)...\n",
      "[INFO][2022/08/08 04:53:49 PM]  - Timing (Bayesian updates: 14.24ms, Linking: 1.32ms)\n",
      "[INFO][2022/08/08 04:53:49 PM]  - Probabilities (Link: 0.99953, Lost: 1.00000)\n",
      "[INFO][2022/08/08 04:53:49 PM] SUCCESS.\n",
      "[INFO][2022/08/08 04:53:49 PM]  - Found 17284 tracks in 75 frames (in 0.0s)\n",
      "[INFO][2022/08/08 04:53:49 PM]  - Inserted 22659 dummy objects to fill tracking gaps\n",
      "[INFO][2022/08/08 04:53:49 PM] Ending BayesianTracker session\n",
      "[INFO][2022/08/08 04:53:50 PM] Loaded btrack: /home/dayn/miniconda3/envs/aero/lib/python3.9/site-packages/btrack/libs/libtracker.so\n",
      "[INFO][2022/08/08 04:53:50 PM] btrack (v0.4.5) library imported\n",
      "[INFO][2022/08/08 04:53:50 PM] Starting BayesianTracker session\n",
      "[INFO][2022/08/08 04:53:50 PM] Loading configuration file: /home/dayn/analysis/BayesianTracker/models/param_test_config.json\n",
      "[INFO][2022/08/08 04:53:50 PM] Setting max_search_radius -> 500\n",
      "[INFO][2022/08/08 04:53:50 PM] Setting features -> ['area', 'major_axis_length', 'minor_axis_length', 'orientation', 'solidity', 'mean_intensity']\n",
      "[INFO][2022/08/08 04:53:50 PM] Objects are of type: <class 'list'>\n"
     ]
    },
    {
     "name": "stdout",
     "output_type": "stream",
     "text": [
      "(75, 5, 15) 3.3246355010414255\n"
     ]
    },
    {
     "name": "stderr",
     "output_type": "stream",
     "text": [
      "[INFO][2022/08/08 04:53:50 PM] Setting volume -> ((0, 6048), (0, 6048), (-100000.0, 100000.0))\n",
      "[INFO][2022/08/08 04:53:50 PM] Starting tracking... \n",
      "[INFO][2022/08/08 04:53:50 PM] Tracking objects in frames 0 to 24 (of 75)...\n",
      "[INFO][2022/08/08 04:54:02 PM]  - Timing (Bayesian updates: 452.23ms, Linking: 10.47ms)\n",
      "[INFO][2022/08/08 04:54:02 PM]  - Probabilities (Link: 0.95807, Lost: 1.00000)\n",
      "[INFO][2022/08/08 04:54:02 PM]  - Stats (Active: 2265, Lost: 42878, Conflicts resolved: 3087)\n",
      "[INFO][2022/08/08 04:54:02 PM] Tracking objects in frames 25 to 49 (of 75)...\n"
     ]
    }
   ],
   "source": [
    "param_configs = list(itertools.product(*param_dict_motion_model.values()))\n",
    "stat_dict = {}\n",
    "for config in tqdm(param_configs):\n",
    "    ### assign values from config\n",
    "    P_sigma_i = config[0]\n",
    "    G_sigma_i = config[1]\n",
    "    R_sigma_i = config[2]\n",
    "    ### load config file\n",
    "    config_fn = '/home/dayn/analysis/BayesianTracker/models/param_test_config.json'\n",
    "    with open(config_fn,'r+') as jsonfile:\n",
    "        config_json = json.load(jsonfile)\n",
    "        ### edit params\n",
    "        config_json['TrackerConfig']['MotionModel']['P']['sigma'] = P_sigma_i\n",
    "        config_json['TrackerConfig']['MotionModel']['G']['sigma'] = R_sigma_i\n",
    "        config_json['TrackerConfig']['MotionModel']['R']['sigma'] = R_sigma_i\n",
    "        ### dno what this does lol\n",
    "        jsonfile.seek(0)\n",
    "        ### save out as temporary config\n",
    "        json.dump(config_json, jsonfile, indent = 4)\n",
    "        jsonfile.truncate()  \n",
    "    \n",
    "    ### now try tracking with that configuration\n",
    "    # initialise a tracker session using a context manager\n",
    "    with btrack.BayesianTracker() as tracker:\n",
    "        # configure the tracker using a config file\n",
    "        tracker.configure_from_file(config_fn)\n",
    "        tracker.verbose = True\n",
    "        tracker.max_search_radius = 500\n",
    "        # use visual features to track\n",
    "        tracker.features = FEATURES\n",
    "        # append the objects to be tracked\n",
    "        tracker.append(objects)\n",
    "        # set the volume\n",
    "        tracker.volume=((0, 6048), (0, 6048), (-1e5, 1e5))\n",
    "        # track them (in interactive mode)\n",
    "        tracker.track_interactive(step_size=25)\n",
    "        # generate hypotheses and run the global optimizer\n",
    "        #tracker.optimize()\n",
    "        tracks = tracker.tracks\n",
    "        # store the configuration\n",
    "        cfg = tracker.configuration\n",
    "        ## get lazy assessment of tracking performance\n",
    "        average_track_len = np.mean([len(track) for track in tracks])\n",
    "        ### store stats in dictionary\n",
    "        stat_dict[average_track_len] = cfg\n",
    "        print(config, average_track_len)"
   ]
  },
  {
   "cell_type": "markdown",
   "id": "0005627e",
   "metadata": {},
   "source": [
    "# Now look at changes hypothesis model parameters"
   ]
  },
  {
   "cell_type": "code",
   "execution_count": 32,
   "id": "62a17a30",
   "metadata": {},
   "outputs": [],
   "source": [
    "search_radii = [100, 300, 600] ## how far to look for nearest linkable tracklet\n",
    "seg_miss_rate = [0.1, 0.05, 0.01] ## proportion of cells that are missed by segmentation\n",
    "lambda_time = [1, 5, 10] ## the larger this is, the longer the time period that can elapse before the probability of starting/ending a track is diminished\n",
    "lamdda_dist = [1, 3, 10] ## the larger this is, the longer the distance that can elapse before the probability of starting/ending a track is diminished\n",
    "lambda_link = [50, 100, 300] ## larger this is, more likely two tracklets are linked together (think needs to be upped for this)\n",
    "#lambda_branch = [50] ## similar to before, but tracks that branch through a mitosis (n/a)\n",
    "### probability for init to be calculated if dt,d within theta, \n",
    "### set relax to on to ignore, meaning that tracks can start anywhere (do not want to test this,)\n",
    "theta_dist = [5, 20, 100] ###\n",
    "theta_time = [1, 5, 25] ### \n",
    "### bin size for considering hypotheses\n",
    "dist_thresh = [40, 80, 160] ## isotropic spatial \n",
    "time_thresh = [2, 4, 8] ## same for time\n",
    "#apop_thresh = [100] ## n/a"
   ]
  },
  {
   "cell_type": "code",
   "execution_count": 33,
   "id": "9f973370",
   "metadata": {},
   "outputs": [],
   "source": [
    "param_dict_hypo_model = {'search_radii':search_radii, \n",
    "              'seg_miss_rate':seg_miss_rate,\n",
    "              'lambda_time':lambda_time, \n",
    "              'lamdda_dist':lamdda_dist, \n",
    "              'lambda_link':lambda_link, \n",
    "              'theta_dist':theta_dist, \n",
    "              'theta_time':theta_time, \n",
    "              'dist_thresh':dist_thresh, \n",
    "              'time_thresh':time_thresh}"
   ]
  },
  {
   "cell_type": "code",
   "execution_count": null,
   "id": "6c27f6ba",
   "metadata": {},
   "outputs": [],
   "source": [
    "print(list(itertools.product(*param_dict_hypo_model.values())))\n",
    "print('Number of iterations to cover all params:',len(list(itertools.product(*param_dict_hypo_model.values()))))"
   ]
  },
  {
   "cell_type": "code",
   "execution_count": null,
   "id": "19974422",
   "metadata": {},
   "outputs": [],
   "source": [
    "param_configs = list(itertools.product(*param_dict_hypo_model.values()))\n",
    "stat_dict = {}\n",
    "for config in tqdm(param_configs):\n",
    "    ### assign values from config\n",
    "    P_sigma_i = config[0]\n",
    "    G_sigma_i = config[1]\n",
    "    R_sigma_i = config[2]\n",
    "    ### load config file\n",
    "    config_fn = '/home/dayn/analysis/BayesianTracker/models/param_test_config.json'\n",
    "    with open(config_fn,'r+') as jsonfile:\n",
    "        config_json = json.load(jsonfile)\n",
    "        ### edit params\n",
    "        config_json['TrackerConfig']['MotionModel']['P']['sigma'] = P_sigma_i\n",
    "        config_json['TrackerConfig']['MotionModel']['G']['sigma'] = R_sigma_i\n",
    "        config_json['TrackerConfig']['MotionModel']['R']['sigma'] = R_sigma_i\n",
    "        ### dno what this does lol\n",
    "        jsonfile.seek(0)\n",
    "        ### save out as temporary config\n",
    "        json.dump(config_json, jsonfile, indent = 4)\n",
    "        jsonfile.truncate()  \n",
    "    \n",
    "    ### now try tracking with that configuration\n",
    "    # initialise a tracker session using a context manager\n",
    "    with btrack.BayesianTracker() as tracker:\n",
    "        # configure the tracker using a config file\n",
    "        tracker.configure_from_file(config_fn)\n",
    "        tracker.verbose = True\n",
    "        tracker.max_search_radius = 500\n",
    "        # use visual features to track\n",
    "        tracker.features = FEATURES\n",
    "        # append the objects to be tracked\n",
    "        tracker.append(objects)\n",
    "        # set the volume\n",
    "        tracker.volume=((0, 6048), (0, 6048), (-1e5, 1e5))\n",
    "        # track them (in interactive mode)\n",
    "        tracker.track_interactive(step_size=25)\n",
    "        # generate hypotheses and run the global optimizer\n",
    "        #tracker.optimize()\n",
    "        tracks = tracker.tracks\n",
    "        # store the configuration\n",
    "        cfg = tracker.configuration\n",
    "        ## get lazy assessment of tracking performance\n",
    "        average_track_len = np.mean([len(track) for track in tracks])\n",
    "        ### store stats in dictionary\n",
    "        stat_dict[average_track_len] = cfg\n",
    "        print(config, average_track_len)"
   ]
  },
  {
   "cell_type": "markdown",
   "id": "d1ee130d",
   "metadata": {},
   "source": [
    "This is obviously far too many params to test, so restricting the number of variables to test."
   ]
  },
  {
   "cell_type": "code",
   "execution_count": 32,
   "id": "2d114d99",
   "metadata": {},
   "outputs": [],
   "source": [
    "search_radii = [100, 300, 600] ## how far to look for nearest linkable tracklet\n",
    "#seg_miss_rate = [0.1, 0.05, 0.01] ## proportion of cells that are missed by segmentation\n",
    "lambda_time = [1, 5, 10] ## the larger this is, the longer the time period that can elapse before the probability of starting/ending a track is diminished\n",
    "lamdda_dist = [1, 3, 10] ## the larger this is, the longer the distance that can elapse before the probability of starting/ending a track is diminished\n",
    "lambda_link = [50, 100, 300] ## larger this is, more likely two tracklets are linked together (think needs to be upped for this)\n",
    "#lambda_branch = [50] ## similar to before, but tracks that branch through a mitosis (n/a)\n",
    "### probability for init to be calculated if dt,d within theta, \n",
    "### set relax to on to ignore, meaning that tracks can start anywhere (do not want to test this,)\n",
    "#theta_dist = [5, 20, 100] ###\n",
    "#theta_time = [1, 5, 25] ### \n",
    "### bin size for considering hypotheses\n",
    "#dist_thresh = [40, 80, 160] ## isotropic spatial \n",
    "#time_thresh = [2, 4, 8] ## same for time\n",
    "#apop_thresh = [100] ## n/a"
   ]
  },
  {
   "cell_type": "code",
   "execution_count": 33,
   "id": "7b0c296a",
   "metadata": {},
   "outputs": [],
   "source": [
    "param_dict = {'search_radii':search_radii, \n",
    "              'seg_miss_rate':seg_miss_rate,\n",
    "              'lambda_time':lambda_time, \n",
    "              'lamdda_dist':lamdda_dist, \n",
    "              'lambda_link':lambda_link, \n",
    "              'theta_dist':theta_dist, \n",
    "              'theta_time':theta_time, \n",
    "              'dist_thresh':dist_thresh, \n",
    "              'time_thresh':time_thresh}"
   ]
  },
  {
   "cell_type": "code",
   "execution_count": 39,
   "id": "241f51c5",
   "metadata": {},
   "outputs": [],
   "source": [
    "import itertools"
   ]
  },
  {
   "cell_type": "code",
   "execution_count": 47,
   "id": "fabbc698",
   "metadata": {},
   "outputs": [],
   "source": [
    "param_values = [param_dict[i] for i in param_dict]"
   ]
  },
  {
   "cell_type": "code",
   "execution_count": 51,
   "id": "2b39c7d2",
   "metadata": {},
   "outputs": [
    {
     "data": {
      "text/plain": [
       "19683"
      ]
     },
     "execution_count": 51,
     "metadata": {},
     "output_type": "execute_result"
    }
   ],
   "source": [
    "len(list(itertools.product(*param_values)))"
   ]
  },
  {
   "cell_type": "code",
   "execution_count": 29,
   "id": "41645da9",
   "metadata": {},
   "outputs": [
    {
     "name": "stderr",
     "output_type": "stream",
     "text": [
      "[INFO][2022/08/08 03:11:25 PM] Loaded btrack: /home/dayn/miniconda3/envs/aero/lib/python3.9/site-packages/btrack/libs/libtracker.so\n",
      "[INFO][2022/08/08 03:11:25 PM] btrack (v0.4.5) library imported\n",
      "[INFO][2022/08/08 03:11:25 PM] Starting BayesianTracker session\n",
      "[INFO][2022/08/08 03:11:25 PM] Loading configuration file: /home/dayn/analysis/BayesianTracker/models/particle_config.json\n",
      "[INFO][2022/08/08 03:11:25 PM] Setting max_search_radius -> 500\n",
      "[INFO][2022/08/08 03:11:25 PM] Setting features -> ['area', 'major_axis_length', 'minor_axis_length', 'orientation', 'solidity', 'mean_intensity']\n",
      "[INFO][2022/08/08 03:11:25 PM] Objects are of type: <class 'list'>\n",
      "[INFO][2022/08/08 03:11:25 PM] Setting volume -> ((0, 6048), (0, 6048), (-100000.0, 100000.0))\n",
      "[INFO][2022/08/08 03:11:25 PM] Starting tracking... \n",
      "[INFO][2022/08/08 03:11:26 PM] Tracking objects in frames 0 to 24 (of 75)...\n",
      "[INFO][2022/08/08 03:11:39 PM]  - Timing (Bayesian updates: 495.71ms, Linking: 9.35ms)\n",
      "[INFO][2022/08/08 03:11:39 PM]  - Probabilities (Link: 0.97446, Lost: 1.00000)\n",
      "[INFO][2022/08/08 03:11:39 PM]  - Stats (Active: 2550, Lost: 51737, Conflicts resolved: 1956)\n",
      "[INFO][2022/08/08 03:11:39 PM] Tracking objects in frames 25 to 49 (of 75)...\n",
      "[INFO][2022/08/08 03:11:50 PM]  - Timing (Bayesian updates: 171.32ms, Linking: 4.72ms)\n",
      "[INFO][2022/08/08 03:11:50 PM]  - Probabilities (Link: 0.94544, Lost: 1.00000)\n",
      "[INFO][2022/08/08 03:11:50 PM]  - Stats (Active: 1721, Lost: 105261, Conflicts resolved: 3564)\n",
      "[INFO][2022/08/08 03:11:50 PM] Tracking objects in frames 50 to 74 (of 75)...\n",
      "[INFO][2022/08/08 03:11:51 PM]  - Timing (Bayesian updates: 11.59ms, Linking: 0.98ms)\n",
      "[INFO][2022/08/08 03:11:51 PM]  - Probabilities (Link: 0.92668, Lost: 1.00000)\n",
      "[INFO][2022/08/08 03:11:51 PM] SUCCESS.\n",
      "[INFO][2022/08/08 03:11:51 PM]  - Found 17653 tracks in 75 frames (in 0.0s)\n",
      "[INFO][2022/08/08 03:11:51 PM]  - Inserted 23139 dummy objects to fill tracking gaps\n",
      "[INFO][2022/08/08 03:11:51 PM] Loading hypothesis model: particle_hypothesis\n",
      "[INFO][2022/08/08 03:11:51 PM] Calculating hypotheses (relax: True)...\n",
      "[INFO][2022/08/08 03:11:51 PM] Setting up constraints matrix for global optimisation...\n",
      "[INFO][2022/08/08 03:11:51 PM] Using GLPK options: {'tm_lim': 60000}...\n",
      "[INFO][2022/08/08 03:11:53 PM] Optimizing...\n",
      "[INFO][2022/08/08 03:12:15 PM] Optimization complete. (Solution: optimal)\n",
      "[INFO][2022/08/08 03:12:15 PM]  - Fates.FALSE_POSITIVE: 11143 (of 17653)\n",
      "[INFO][2022/08/08 03:12:15 PM]  - Fates.LINK: 2784 (of 5624)\n",
      "[INFO][2022/08/08 03:12:15 PM]  - Fates.INITIALIZE_BORDER: 11 (of 51)\n",
      "[INFO][2022/08/08 03:12:15 PM]  - Fates.INITIALIZE_FRONT: 965 (of 2381)\n",
      "[INFO][2022/08/08 03:12:15 PM]  - Fates.INITIALIZE_LAZY: 2750 (of 15221)\n",
      "[INFO][2022/08/08 03:12:15 PM]  - Fates.TERMINATE_BORDER: 11 (of 54)\n",
      "[INFO][2022/08/08 03:12:15 PM]  - Fates.TERMINATE_BACK: 214 (of 421)\n",
      "[INFO][2022/08/08 03:12:15 PM]  - Fates.TERMINATE_LAZY: 3501 (of 17178)\n",
      "[INFO][2022/08/08 03:12:15 PM]  - TOTAL: 58583 hypotheses\n",
      "[INFO][2022/08/08 03:12:15 PM] Completed optimization with 14869 tracks\n"
     ]
    },
    {
     "name": "stdout",
     "output_type": "stream",
     "text": [
      "GLPK Integer Optimizer 5.0\n",
      "70612 rows, 58583 columns, 81860 non-zeros\n",
      "58583 integer variables, all of which are binary\n",
      "Preprocessing...\n",
      "35306 rows, 58583 columns, 81860 non-zeros\n",
      "58583 integer variables, all of which are binary\n",
      "Scaling...\n",
      " A: min|aij| =  1.000e+00  max|aij| =  1.000e+00  ratio =  1.000e+00\n",
      "Problem data seem to be well scaled\n",
      "Constructing initial basis...\n",
      "Size of triangular part is 35306\n",
      "Solving LP relaxation...\n",
      "GLPK Simplex Optimizer 5.0\n",
      "35306 rows, 58583 columns, 81860 non-zeros\n",
      "*     0: obj =   2.189034591e+05 inf =   0.000e+00 (19137)\n",
      "Perturbing LP to avoid stalling [2520]...\n",
      "*  5671: obj =   1.589501161e+05 inf =   0.000e+00 (13356)\n",
      "* 10536: obj =   1.155117325e+05 inf =   0.000e+00 (8354)\n",
      "* 13806: obj =   1.040426540e+05 inf =   0.000e+00 (5144) 1\n",
      "* 17811: obj =   9.043605594e+04 inf =   0.000e+00 (1465) 1\n",
      "Removing LP perturbation [19407]...\n",
      "* 19407: obj =   8.888445842e+04 inf =   0.000e+00 (0) 1\n",
      "OPTIMAL LP SOLUTION FOUND\n",
      "Integer optimization begins...\n",
      "Long-step dual simplex will be used\n",
      "+ 19407: mip =     not found yet >=              -inf        (1; 0)\n",
      "+ 19407: >>>>>   8.888445842e+04 >=   8.888445842e+04   0.0% (1; 0)\n",
      "+ 19407: mip =   8.888445842e+04 >=     tree is empty   0.0% (0; 1)\n",
      "INTEGER OPTIMAL SOLUTION FOUND\n"
     ]
    },
    {
     "name": "stderr",
     "output_type": "stream",
     "text": [
      "[INFO][2022/08/08 03:12:17 PM] Ending BayesianTracker session\n"
     ]
    }
   ],
   "source": [
    "# initialise a tracker session using a context manager\n",
    "with btrack.BayesianTracker() as tracker:\n",
    "\n",
    "    # configure the tracker using a config file\n",
    "    tracker.configure_from_file(\n",
    "        '/home/dayn/analysis/BayesianTracker/models/particle_config.json'\n",
    "    )\n",
    "    tracker.verbose = True\n",
    "\n",
    "    tracker.max_search_radius = 500\n",
    "    \n",
    "    # use visual features to track\n",
    "    tracker.features = FEATURES\n",
    "    \n",
    "    # append the objects to be tracked\n",
    "    tracker.append(objects)\n",
    "\n",
    "    # set the volume\n",
    "    tracker.volume=((0, 6048), (0, 6048), (-1e5, 1e5))\n",
    "\n",
    "    # track them (in interactive mode)\n",
    "    tracker.track_interactive(step_size=25)\n",
    "\n",
    "    # generate hypotheses and run the global optimizer\n",
    "    tracker.optimize()\n",
    "\n",
    "    #tracker.export(f'/mnt/DATA/sandbox/pierre_live_cell_data/outputs/Replication_IPSDM_GFP/zarr/tracks.h5', obj_type='obj_type_1')\n",
    "\n",
    "    # get the tracks in a format for napari visualization (optional)\n",
    "    visualise_tracks, properties, graph = tracker.to_napari(ndim=2)\n",
    "    \n",
    "    tracks = tracker.tracks"
   ]
  },
  {
   "cell_type": "code",
   "execution_count": 30,
   "id": "add0d709",
   "metadata": {},
   "outputs": [
    {
     "data": {
      "text/plain": [
       "3.8968995897504874"
      ]
     },
     "execution_count": 30,
     "metadata": {},
     "output_type": "execute_result"
    }
   ],
   "source": [
    "np.mean([len(track) for track in tracks])"
   ]
  },
  {
   "cell_type": "code",
   "execution_count": 25,
   "id": "79c7a666",
   "metadata": {},
   "outputs": [
    {
     "data": {
      "text/plain": [
       "3.2823316150229425"
      ]
     },
     "execution_count": 25,
     "metadata": {},
     "output_type": "execute_result"
    }
   ],
   "source": [
    "np.mean([len(track) for track in tracks])"
   ]
  },
  {
   "cell_type": "code",
   "execution_count": 27,
   "id": "77e6b7f4",
   "metadata": {},
   "outputs": [
    {
     "data": {
      "text/plain": [
       "38.5"
      ]
     },
     "execution_count": 27,
     "metadata": {},
     "output_type": "execute_result"
    }
   ],
   "source": [
    "np.mean([len(track) for track in tracks if len(track)>30])"
   ]
  },
  {
   "cell_type": "code",
   "execution_count": 23,
   "id": "f3538d25",
   "metadata": {
    "scrolled": false
   },
   "outputs": [
    {
     "data": {
      "text/plain": [
       "37.827586206896555"
      ]
     },
     "execution_count": 23,
     "metadata": {},
     "output_type": "execute_result"
    }
   ],
   "source": [
    "np.mean([len(track) for track in tracks if len(track)>30])"
   ]
  },
  {
   "cell_type": "code",
   "execution_count": 36,
   "id": "3fa9686d",
   "metadata": {},
   "outputs": [
    {
     "data": {
      "text/plain": [
       "(array([239.,  34.,  18.,   2.,   3.,   0.,   5.,   0.,   0.,   1.]),\n",
       " array([ 1. ,  5.4,  9.8, 14.2, 18.6, 23. , 27.4, 31.8, 36.2, 40.6, 45. ]),\n",
       " <BarContainer object of 10 artists>)"
      ]
     },
     "execution_count": 36,
     "metadata": {},
     "output_type": "execute_result"
    },
    {
     "data": {
      "image/png": "[encoded data removed]",
      "text/plain": [
       "<Figure size 1080x504 with 1 Axes>"
      ]
     },
     "metadata": {
      "needs_background": "light"
     },
     "output_type": "display_data"
    }
   ],
   "source": [
    "plt.hist([len(track) for track in tracks])"
   ]
  },
  {
   "cell_type": "markdown",
   "id": "2eff90f5",
   "metadata": {},
   "source": [
    "### Filter tracks"
   ]
  },
  {
   "cell_type": "code",
   "execution_count": 41,
   "id": "ad57081c",
   "metadata": {},
   "outputs": [],
   "source": [
    "tracks_filt = [track for track in tracks if len(track) > 20]\n",
    "visualise_tracks, properties, graph = btrack.utils.tracks_to_napari(tracks_filt, ndim = 2)"
   ]
  },
  {
   "cell_type": "code",
   "execution_count": 42,
   "id": "10d5d022",
   "metadata": {},
   "outputs": [
    {
     "name": "stderr",
     "output_type": "stream",
     "text": [
      "/home/dayn/miniconda3/envs/aero/lib/python3.9/site-packages/napari_tools_menu/__init__.py:179: FutureWarning: Public access to Window.qt_viewer is deprecated and will be removed in\n",
      "v0.5.0. It is considered an \"implementation detail\" of the napari\n",
      "application, not part of the napari viewer model. If your use case\n",
      "requires access to qt_viewer, please open an issue to discuss.\n",
      "  self.tools_menu = ToolsMenu(self, self.qt_viewer.viewer)\n"
     ]
    },
    {
     "data": {
      "text/plain": [
       "<Tracks layer 'tracks_filtered' at 0x7f0cbd5ca670>"
      ]
     },
     "execution_count": 42,
     "metadata": {},
     "output_type": "execute_result"
    }
   ],
   "source": [
    "viewer = napari.Viewer()\n",
    "viewer.add_image(gfp, name=\"gfp\", \n",
    "                 #contrast_limits=[0,255],\n",
    "                 blending = 'additive', colormap = 'green')\n",
    "# viewer.add_image(rfp, name=\"rfp\", \n",
    "#                 # contrast_limits=[0,55], \n",
    "#                  blending = 'additive', colormap = 'magenta')\n",
    "viewer.add_labels(masks, name = 'masks')\n",
    "viewer.add_tracks(visualise_tracks, name = 'tracks_filtered')"
   ]
  }
 ],
 "metadata": {
  "kernelspec": {
   "display_name": "aero",
   "language": "python",
   "name": "aero"
  },
  "language_info": {
   "codemirror_mode": {
    "name": "ipython",
    "version": 3
   },
   "file_extension": ".py",
   "mimetype": "text/x-python",
   "name": "python",
   "nbconvert_exporter": "python",
   "pygments_lexer": "ipython3",
   "version": "3.9.12"
  }
 },
 "nbformat": 4,
 "nbformat_minor": 5
}
