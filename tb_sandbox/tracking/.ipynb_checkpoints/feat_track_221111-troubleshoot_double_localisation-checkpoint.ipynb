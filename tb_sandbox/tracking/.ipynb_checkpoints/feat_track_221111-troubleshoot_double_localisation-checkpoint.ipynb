{
 "cells": [
  {
   "cell_type": "markdown",
   "id": "907c9cee",
   "metadata": {},
   "source": [
    "# Tracking using image features\n",
    "\n",
    "Testing the Elliptical Fourier Descriptors (EFD) similarity between instances of cells"
   ]
  },
  {
   "cell_type": "code",
   "execution_count": 167,
   "id": "18b20799",
   "metadata": {},
   "outputs": [],
   "source": [
    "import dask.array as da\n",
    "import napari\n",
    "import btrack\n",
    "from tqdm.auto import tqdm\n",
    "import skimage\n",
    "from skimage.io import imshow,  imsave\n",
    "import matplotlib.pyplot as plt\n",
    "import numpy as np\n",
    "from pyefd import elliptic_fourier_descriptors\n",
    "plt.rcParams[\"figure.figsize\"] = (15,15)"
   ]
  },
  {
   "cell_type": "markdown",
   "id": "410eeae1",
   "metadata": {},
   "source": [
    "### Load images from zarr and compress into max projections"
   ]
  },
  {
   "cell_type": "code",
   "execution_count": 2,
   "id": "61ffbb7e",
   "metadata": {},
   "outputs": [],
   "source": [
    "gfp = da.from_zarr('/mnt/DATA/sandbox/pierre_live_cell_data/outputs/Replication_IPSDM_GFP/zarr/tzxy_stack_ch1.zarr/')\n",
    "rfp = da.from_zarr('/mnt/DATA/sandbox/pierre_live_cell_data/outputs/Replication_IPSDM_GFP/zarr/tzxy_stack_ch2.zarr/')\n",
    "gfp = da.sum(gfp, axis = 1, dtype='u2')\n",
    "rfp = da.sum(rfp, axis = 1, dtype='u2')\n",
    "masks = da.from_zarr(f'/mnt/DATA/sandbox/pierre_live_cell_data/outputs/Replication_IPSDM_GFP/zarr/tzxy_stack_ch99.zarr/',)# chunks = gfp.chunks)"
   ]
  },
  {
   "cell_type": "markdown",
   "id": "8d40d6d5",
   "metadata": {},
   "source": [
    "#### Compress into multichannel image for btrack"
   ]
  },
  {
   "cell_type": "code",
   "execution_count": 3,
   "id": "43654482",
   "metadata": {},
   "outputs": [
    {
     "data": {
      "text/html": [
       "<table>\n",
       "    <tr>\n",
       "        <td>\n",
       "            <table>\n",
       "                <thead>\n",
       "                    <tr>\n",
       "                        <td> </td>\n",
       "                        <th> Array </th>\n",
       "                        <th> Chunk </th>\n",
       "                    </tr>\n",
       "                </thead>\n",
       "                <tbody>\n",
       "                    \n",
       "                    <tr>\n",
       "                        <th> Bytes </th>\n",
       "                        <td> 10.22 GiB </td>\n",
       "                        <td> 8.90 MiB </td>\n",
       "                    </tr>\n",
       "                    \n",
       "                    <tr>\n",
       "                        <th> Shape </th>\n",
       "                        <td> (75, 6048, 6048, 2) </td>\n",
       "                        <td> (1, 2160, 2160, 1) </td>\n",
       "                    </tr>\n",
       "                    <tr>\n",
       "                        <th> Count </th>\n",
       "                        <td> 10802 Tasks </td>\n",
       "                        <td> 1350 Chunks </td>\n",
       "                    </tr>\n",
       "                    <tr>\n",
       "                    <th> Type </th>\n",
       "                    <td> uint16 </td>\n",
       "                    <td> numpy.ndarray </td>\n",
       "                    </tr>\n",
       "                </tbody>\n",
       "            </table>\n",
       "        </td>\n",
       "        <td>\n",
       "        <svg width=\"338\" height=\"240\" style=\"stroke:rgb(0,0,0);stroke-width:1\" >\n",
       "\n",
       "  <!-- Horizontal lines -->\n",
       "  <line x1=\"0\" y1=\"0\" x2=\"26\" y2=\"0\" style=\"stroke-width:2\" />\n",
       "  <line x1=\"0\" y1=\"25\" x2=\"26\" y2=\"25\" style=\"stroke-width:2\" />\n",
       "\n",
       "  <!-- Vertical lines -->\n",
       "  <line x1=\"0\" y1=\"0\" x2=\"0\" y2=\"25\" style=\"stroke-width:2\" />\n",
       "  <line x1=\"0\" y1=\"0\" x2=\"0\" y2=\"25\" />\n",
       "  <line x1=\"1\" y1=\"0\" x2=\"1\" y2=\"25\" />\n",
       "  <line x1=\"2\" y1=\"0\" x2=\"2\" y2=\"25\" />\n",
       "  <line x1=\"3\" y1=\"0\" x2=\"3\" y2=\"25\" />\n",
       "  <line x1=\"3\" y1=\"0\" x2=\"3\" y2=\"25\" />\n",
       "  <line x1=\"4\" y1=\"0\" x2=\"4\" y2=\"25\" />\n",
       "  <line x1=\"5\" y1=\"0\" x2=\"5\" y2=\"25\" />\n",
       "  <line x1=\"6\" y1=\"0\" x2=\"6\" y2=\"25\" />\n",
       "  <line x1=\"7\" y1=\"0\" x2=\"7\" y2=\"25\" />\n",
       "  <line x1=\"8\" y1=\"0\" x2=\"8\" y2=\"25\" />\n",
       "  <line x1=\"8\" y1=\"0\" x2=\"8\" y2=\"25\" />\n",
       "  <line x1=\"9\" y1=\"0\" x2=\"9\" y2=\"25\" />\n",
       "  <line x1=\"10\" y1=\"0\" x2=\"10\" y2=\"25\" />\n",
       "  <line x1=\"11\" y1=\"0\" x2=\"11\" y2=\"25\" />\n",
       "  <line x1=\"12\" y1=\"0\" x2=\"12\" y2=\"25\" />\n",
       "  <line x1=\"13\" y1=\"0\" x2=\"13\" y2=\"25\" />\n",
       "  <line x1=\"13\" y1=\"0\" x2=\"13\" y2=\"25\" />\n",
       "  <line x1=\"14\" y1=\"0\" x2=\"14\" y2=\"25\" />\n",
       "  <line x1=\"15\" y1=\"0\" x2=\"15\" y2=\"25\" />\n",
       "  <line x1=\"16\" y1=\"0\" x2=\"16\" y2=\"25\" />\n",
       "  <line x1=\"17\" y1=\"0\" x2=\"17\" y2=\"25\" />\n",
       "  <line x1=\"18\" y1=\"0\" x2=\"18\" y2=\"25\" />\n",
       "  <line x1=\"18\" y1=\"0\" x2=\"18\" y2=\"25\" />\n",
       "  <line x1=\"19\" y1=\"0\" x2=\"19\" y2=\"25\" />\n",
       "  <line x1=\"20\" y1=\"0\" x2=\"20\" y2=\"25\" />\n",
       "  <line x1=\"21\" y1=\"0\" x2=\"21\" y2=\"25\" />\n",
       "  <line x1=\"22\" y1=\"0\" x2=\"22\" y2=\"25\" />\n",
       "  <line x1=\"22\" y1=\"0\" x2=\"22\" y2=\"25\" />\n",
       "  <line x1=\"23\" y1=\"0\" x2=\"23\" y2=\"25\" />\n",
       "  <line x1=\"24\" y1=\"0\" x2=\"24\" y2=\"25\" />\n",
       "  <line x1=\"25\" y1=\"0\" x2=\"25\" y2=\"25\" />\n",
       "  <line x1=\"26\" y1=\"0\" x2=\"26\" y2=\"25\" style=\"stroke-width:2\" />\n",
       "\n",
       "  <!-- Colored Rectangle -->\n",
       "  <polygon points=\"0.0,0.0 26.472362419580787,0.0 26.472362419580787,25.412616514582485 0.0,25.412616514582485\" style=\"fill:#8B4903A0;stroke-width:0\"/>\n",
       "\n",
       "  <!-- Text -->\n",
       "  <text x=\"13.236181\" y=\"45.412617\" font-size=\"1.0rem\" font-weight=\"100\" text-anchor=\"middle\" >75</text>\n",
       "  <text x=\"46.472362\" y=\"12.706308\" font-size=\"1.0rem\" font-weight=\"100\" text-anchor=\"middle\" transform=\"rotate(0,46.472362,12.706308)\">1</text>\n",
       "\n",
       "\n",
       "  <!-- Horizontal lines -->\n",
       "  <line x1=\"96\" y1=\"0\" x2=\"166\" y2=\"70\" style=\"stroke-width:2\" />\n",
       "  <line x1=\"96\" y1=\"42\" x2=\"166\" y2=\"113\" />\n",
       "  <line x1=\"96\" y1=\"85\" x2=\"166\" y2=\"156\" />\n",
       "  <line x1=\"96\" y1=\"120\" x2=\"166\" y2=\"190\" style=\"stroke-width:2\" />\n",
       "\n",
       "  <!-- Vertical lines -->\n",
       "  <line x1=\"96\" y1=\"0\" x2=\"96\" y2=\"120\" style=\"stroke-width:2\" />\n",
       "  <line x1=\"121\" y1=\"25\" x2=\"121\" y2=\"145\" />\n",
       "  <line x1=\"146\" y1=\"50\" x2=\"146\" y2=\"170\" />\n",
       "  <line x1=\"166\" y1=\"70\" x2=\"166\" y2=\"190\" style=\"stroke-width:2\" />\n",
       "\n",
       "  <!-- Colored Rectangle -->\n",
       "  <polygon points=\"96.0,0.0 166.58823529411765,70.58823529411765 166.58823529411765,190.58823529411765 96.0,120.0\" style=\"fill:#ECB172A0;stroke-width:0\"/>\n",
       "\n",
       "  <!-- Horizontal lines -->\n",
       "  <line x1=\"96\" y1=\"0\" x2=\"121\" y2=\"0\" style=\"stroke-width:2\" />\n",
       "  <line x1=\"121\" y1=\"25\" x2=\"146\" y2=\"25\" />\n",
       "  <line x1=\"146\" y1=\"50\" x2=\"171\" y2=\"50\" />\n",
       "  <line x1=\"166\" y1=\"70\" x2=\"192\" y2=\"70\" style=\"stroke-width:2\" />\n",
       "\n",
       "  <!-- Vertical lines -->\n",
       "  <line x1=\"96\" y1=\"0\" x2=\"166\" y2=\"70\" style=\"stroke-width:2\" />\n",
       "  <line x1=\"108\" y1=\"0\" x2=\"179\" y2=\"70\" />\n",
       "  <line x1=\"121\" y1=\"0\" x2=\"192\" y2=\"70\" style=\"stroke-width:2\" />\n",
       "\n",
       "  <!-- Colored Rectangle -->\n",
       "  <polygon points=\"96.0,0.0 121.41261651458248,0.0 192.00085180870013,70.58823529411765 166.58823529411765,70.58823529411765\" style=\"fill:#ECB172A0;stroke-width:0\"/>\n",
       "\n",
       "  <!-- Horizontal lines -->\n",
       "  <line x1=\"166\" y1=\"70\" x2=\"192\" y2=\"70\" style=\"stroke-width:2\" />\n",
       "  <line x1=\"166\" y1=\"113\" x2=\"192\" y2=\"113\" />\n",
       "  <line x1=\"166\" y1=\"156\" x2=\"192\" y2=\"156\" />\n",
       "  <line x1=\"166\" y1=\"190\" x2=\"192\" y2=\"190\" style=\"stroke-width:2\" />\n",
       "\n",
       "  <!-- Vertical lines -->\n",
       "  <line x1=\"166\" y1=\"70\" x2=\"166\" y2=\"190\" style=\"stroke-width:2\" />\n",
       "  <line x1=\"179\" y1=\"70\" x2=\"179\" y2=\"190\" />\n",
       "  <line x1=\"192\" y1=\"70\" x2=\"192\" y2=\"190\" style=\"stroke-width:2\" />\n",
       "\n",
       "  <!-- Colored Rectangle -->\n",
       "  <polygon points=\"166.58823529411765,70.58823529411765 192.00085180870013,70.58823529411765 192.00085180870013,190.58823529411765 166.58823529411765,190.58823529411765\" style=\"fill:#ECB172A0;stroke-width:0\"/>\n",
       "\n",
       "  <!-- Text -->\n",
       "  <text x=\"179.294544\" y=\"210.588235\" font-size=\"1.0rem\" font-weight=\"100\" text-anchor=\"middle\" >2</text>\n",
       "  <text x=\"212.000852\" y=\"130.588235\" font-size=\"1.0rem\" font-weight=\"100\" text-anchor=\"middle\" transform=\"rotate(-90,212.000852,130.588235)\">6048</text>\n",
       "  <text x=\"121.294118\" y=\"175.294118\" font-size=\"1.0rem\" font-weight=\"100\" text-anchor=\"middle\" transform=\"rotate(45,121.294118,175.294118)\">6048</text>\n",
       "</svg>\n",
       "        </td>\n",
       "    </tr>\n",
       "</table>"
      ],
      "text/plain": [
       "dask.array<stack, shape=(75, 6048, 6048, 2), dtype=uint16, chunksize=(1, 2160, 2160, 1), chunktype=numpy.ndarray>"
      ]
     },
     "execution_count": 3,
     "metadata": {},
     "output_type": "execute_result"
    }
   ],
   "source": [
    "image = da.stack([gfp, rfp], axis = -1)\n",
    "image"
   ]
  },
  {
   "cell_type": "markdown",
   "id": "8e0cdcb2",
   "metadata": {},
   "source": [
    "## Define features"
   ]
  },
  {
   "cell_type": "code",
   "execution_count": 4,
   "id": "38b8622b",
   "metadata": {},
   "outputs": [],
   "source": [
    "FEATURES = [\n",
    "  \"area\",\n",
    "  \"major_axis_length\",\n",
    "  \"minor_axis_length\",\n",
    "  \"orientation\",\n",
    "  \"solidity\",\n",
    "  \"mean_intensity\",\n",
    "    \"intensity_image\"\n",
    "]"
   ]
  },
  {
   "cell_type": "code",
   "execution_count": 5,
   "id": "916215f5",
   "metadata": {},
   "outputs": [
    {
     "name": "stderr",
     "output_type": "stream",
     "text": [
      "[INFO][2022/11/10 03:43:52 PM] Localizing objects from segmentation...\n",
      "[INFO][2022/11/10 03:43:52 PM] Found intensity_image data\n"
     ]
    },
    {
     "data": {
      "application/vnd.jupyter.widget-view+json": {
       "model_id": "26f4ef7bb5564cd1a419a5f54360448b",
       "version_major": 2,
       "version_minor": 0
      },
      "text/plain": [
       "  0%|          | 0/75 [00:00<?, ?it/s]"
      ]
     },
     "metadata": {},
     "output_type": "display_data"
    },
    {
     "name": "stderr",
     "output_type": "stream",
     "text": [
      "[INFO][2022/11/10 03:59:39 PM] Objects are of type: <class 'dict'>\n",
      "[INFO][2022/11/10 03:59:40 PM] ...Found 69608 objects in 75 frames.\n"
     ]
    }
   ],
   "source": [
    "objects = btrack.utils.segmentation_to_objects(\n",
    "    masks, \n",
    "    image,\n",
    "    properties = tuple(FEATURES),\n",
    "    use_weighted_centroid = False, \n",
    "    track_progress=True\n",
    ")"
   ]
  },
  {
   "cell_type": "markdown",
   "id": "443a2783",
   "metadata": {},
   "source": [
    "#### Checking featuers were measured"
   ]
  },
  {
   "cell_type": "code",
   "execution_count": 6,
   "id": "4e995e6c",
   "metadata": {},
   "outputs": [
    {
     "data": {
      "text/html": [
       "<table border=\"1\" class=\"dataframe\">\n",
       "  <thead>\n",
       "    <tr style=\"text-align: right;\">\n",
       "      <th></th>\n",
       "      <th>ID</th>\n",
       "      <th>x</th>\n",
       "      <th>y</th>\n",
       "      <th>z</th>\n",
       "      <th>t</th>\n",
       "      <th>dummy</th>\n",
       "      <th>states</th>\n",
       "      <th>label</th>\n",
       "      <th>area</th>\n",
       "      <th>major_axis_length</th>\n",
       "      <th>minor_axis_length</th>\n",
       "      <th>orientation</th>\n",
       "      <th>solidity</th>\n",
       "      <th>mean_intensity-0</th>\n",
       "      <th>mean_intensity-1</th>\n",
       "      <th>intensity_image</th>\n",
       "    </tr>\n",
       "  </thead>\n",
       "  <tbody>\n",
       "    <tr>\n",
       "      <th>0</th>\n",
       "      <td>0</td>\n",
       "      <td>228.891787</td>\n",
       "      <td>53.545894</td>\n",
       "      <td>0.0</td>\n",
       "      <td>0</td>\n",
       "      <td>False</td>\n",
       "      <td>7</td>\n",
       "      <td>5</td>\n",
       "      <td>8280</td>\n",
       "      <td>142.168184</td>\n",
       "      <td>74.981389</td>\n",
       "      <td>0.768532</td>\n",
       "      <td>0.975725</td>\n",
       "      <td>1223.138406</td>\n",
       "      <td>337.888647</td>\n",
       "      <td>(114, 116, 2) array</td>\n",
       "    </tr>\n",
       "  </tbody>\n",
       "</table>"
      ],
      "text/plain": [
       "{'ID': 0, 'x': 228.89178743961352, 'y': 53.54589371980676, 'z': 0.0, 't': 0, 'dummy': False, 'states': 7, 'label': 5, 'area': 8280, 'major_axis_length': 142.1681837092044, 'minor_axis_length': 74.98138905075203, 'orientation': 0.7685315327700352, 'solidity': 0.9757247230732972, 'mean_intensity-0': 1223.1384057971015, 'mean_intensity-1': 337.88864734299517, 'intensity_image': array([[[0, 0],\n",
       "        [0, 0],\n",
       "        [0, 0],\n",
       "        ...,\n",
       "        [0, 0],\n",
       "        [0, 0],\n",
       "        [0, 0]],\n",
       "\n",
       "       [[0, 0],\n",
       "        [0, 0],\n",
       "        [0, 0],\n",
       "        ...,\n",
       "        [0, 0],\n",
       "        [0, 0],\n",
       "        [0, 0]],\n",
       "\n",
       "       [[0, 0],\n",
       "        [0, 0],\n",
       "        [0, 0],\n",
       "        ...,\n",
       "        [0, 0],\n",
       "        [0, 0],\n",
       "        [0, 0]],\n",
       "\n",
       "       ...,\n",
       "\n",
       "       [[0, 0],\n",
       "        [0, 0],\n",
       "        [0, 0],\n",
       "        ...,\n",
       "        [0, 0],\n",
       "        [0, 0],\n",
       "        [0, 0]],\n",
       "\n",
       "       [[0, 0],\n",
       "        [0, 0],\n",
       "        [0, 0],\n",
       "        ...,\n",
       "        [0, 0],\n",
       "        [0, 0],\n",
       "        [0, 0]],\n",
       "\n",
       "       [[0, 0],\n",
       "        [0, 0],\n",
       "        [0, 0],\n",
       "        ...,\n",
       "        [0, 0],\n",
       "        [0, 0],\n",
       "        [0, 0]]], dtype=uint16)}"
      ]
     },
     "execution_count": 6,
     "metadata": {},
     "output_type": "execute_result"
    }
   ],
   "source": [
    "objects[0]"
   ]
  },
  {
   "cell_type": "code",
   "execution_count": 7,
   "id": "ed81e72b",
   "metadata": {},
   "outputs": [
    {
     "data": {
      "application/vnd.jupyter.widget-view+json": {
       "model_id": "87c6bd571fc74d49a6766878d15345a3",
       "version_major": 2,
       "version_minor": 0
      },
      "text/plain": [
       "  0%|          | 0/69608 [00:00<?, ?it/s]"
      ]
     },
     "metadata": {},
     "output_type": "display_data"
    }
   ],
   "source": [
    "### finding the EFD\n",
    "for obj in tqdm(objects):\n",
    "    ### extract the intensity image (1ch only)\n",
    "    glimpse = obj.properties['intensity_image'][...,0]\n",
    "    ### pad the glimpse to ensure only one object is identifiable\n",
    "    glimpse = np.pad(glimpse, pad_width = 1)\n",
    "    ### find the contours (zero because only one object)\n",
    "    contours = skimage.measure.find_contours(glimpse, fully_connected='high', level = 0.5)[0]\n",
    "    ### get the efd\n",
    "    efd = elliptic_fourier_descriptors(contours, order=100, normalize=True)\n",
    "#     obj.properties = {'efd': efd}\n",
    "    flatten_efd = efd.flatten()\n",
    "    obj.properties = {'efd flat': flatten_efd}"
   ]
  },
  {
   "cell_type": "markdown",
   "id": "97cf2caf",
   "metadata": {},
   "source": [
    "## Remove intensity image from objects \n",
    "\n",
    "btrack does not handle 2d arrays in objects"
   ]
  },
  {
   "cell_type": "code",
   "execution_count": 8,
   "id": "c2931051",
   "metadata": {},
   "outputs": [
    {
     "data": {
      "application/vnd.jupyter.widget-view+json": {
       "model_id": "6db86d4fec9746058780e6234cb9cd1c",
       "version_major": 2,
       "version_minor": 0
      },
      "text/plain": [
       "  0%|          | 0/69608 [00:00<?, ?it/s]"
      ]
     },
     "metadata": {},
     "output_type": "display_data"
    }
   ],
   "source": [
    "for obj in tqdm(objects):\n",
    "    obj.properties.pop('intensity_image')"
   ]
  },
  {
   "cell_type": "code",
   "execution_count": 9,
   "id": "a65aa51d",
   "metadata": {},
   "outputs": [
    {
     "data": {
      "text/html": [
       "<table border=\"1\" class=\"dataframe\">\n",
       "  <thead>\n",
       "    <tr style=\"text-align: right;\">\n",
       "      <th></th>\n",
       "      <th>ID</th>\n",
       "      <th>x</th>\n",
       "      <th>y</th>\n",
       "      <th>z</th>\n",
       "      <th>t</th>\n",
       "      <th>dummy</th>\n",
       "      <th>states</th>\n",
       "      <th>label</th>\n",
       "      <th>area</th>\n",
       "      <th>major_axis_length</th>\n",
       "      <th>minor_axis_length</th>\n",
       "      <th>orientation</th>\n",
       "      <th>solidity</th>\n",
       "      <th>mean_intensity-0</th>\n",
       "      <th>mean_intensity-1</th>\n",
       "      <th>efd flat</th>\n",
       "    </tr>\n",
       "  </thead>\n",
       "  <tbody>\n",
       "    <tr>\n",
       "      <th>0</th>\n",
       "      <td>0</td>\n",
       "      <td>228.891787</td>\n",
       "      <td>53.545894</td>\n",
       "      <td>0.0</td>\n",
       "      <td>0</td>\n",
       "      <td>False</td>\n",
       "      <td>7</td>\n",
       "      <td>5</td>\n",
       "      <td>8280</td>\n",
       "      <td>142.168184</td>\n",
       "      <td>74.981389</td>\n",
       "      <td>0.768532</td>\n",
       "      <td>0.975725</td>\n",
       "      <td>1223.138406</td>\n",
       "      <td>337.888647</td>\n",
       "      <td>(400,) array</td>\n",
       "    </tr>\n",
       "  </tbody>\n",
       "</table>"
      ],
      "text/plain": [
       "{'ID': 0, 'x': 228.89178743961352, 'y': 53.54589371980676, 'z': 0.0, 't': 0, 'dummy': False, 'states': 7, 'label': 5, 'area': 8280, 'major_axis_length': 142.1681837092044, 'minor_axis_length': 74.98138905075203, 'orientation': 0.7685315327700352, 'solidity': 0.9757247230732972, 'mean_intensity-0': 1223.1384057971015, 'mean_intensity-1': 337.88864734299517, 'efd flat': array([ 1.00000000e+00,  5.04301835e-17,  1.14701462e-16, -6.09709389e-01,\n",
       "        2.01976227e-02,  8.87153725e-03, -4.89990443e-02, -2.30932987e-02,\n",
       "        4.96015509e-02,  2.22684140e-03,  1.97777233e-02, -6.52375860e-02,\n",
       "       -1.61762974e-03,  4.21390024e-03,  6.80647690e-04, -3.76505429e-03,\n",
       "        1.05512406e-02, -4.07975839e-04,  5.86517107e-04, -9.60494084e-03,\n",
       "       -6.98005603e-03,  5.03815140e-03, -9.67077973e-04,  7.75433259e-03,\n",
       "        3.51114072e-03, -6.58337802e-03, -1.87062801e-03,  3.27958217e-03,\n",
       "        3.22977869e-04,  8.28085673e-03,  6.93344800e-03, -2.27455131e-03,\n",
       "       -1.19519206e-03, -7.04011333e-03, -4.47416433e-03,  3.10420744e-04,\n",
       "        2.68803249e-03,  5.93816998e-03,  2.13798631e-03,  1.03867541e-03,\n",
       "       -2.72036474e-03, -3.42627101e-03,  1.01166469e-03, -1.39096609e-03,\n",
       "        1.86584384e-03,  2.29004954e-03, -2.83302613e-03, -2.34922322e-04,\n",
       "       -4.72931407e-04, -1.01812765e-03,  2.81674483e-03, -7.07489089e-04,\n",
       "       -1.66482600e-03,  2.02827423e-03, -1.54457356e-04, -1.29588986e-03,\n",
       "        2.57490199e-03, -1.27656143e-03, -1.81186695e-03,  2.07572955e-03,\n",
       "       -1.41233818e-03,  1.42119967e-03,  2.51444308e-03, -1.29947872e-04,\n",
       "        1.59962205e-03, -1.33302262e-03, -9.23309588e-04,  5.43618873e-05,\n",
       "        2.62620014e-04,  1.01734811e-03, -1.03857862e-03,  1.52913514e-03,\n",
       "        2.00747585e-04, -1.04091945e-04,  9.12398983e-04, -1.58627506e-03,\n",
       "        8.68560221e-04, -6.04671434e-04, -1.77728274e-05, -2.21296486e-04,\n",
       "       -1.15549792e-04,  1.03128782e-03,  1.79668554e-04,  6.31632075e-04,\n",
       "        8.51758725e-04, -1.72974649e-03,  3.90995491e-04, -7.14500934e-04,\n",
       "        1.16578563e-04,  1.05820726e-03, -6.81204958e-04,  1.28597457e-03,\n",
       "        7.14805518e-04, -1.04273041e-03,  1.01359713e-03, -8.47485901e-04,\n",
       "       -2.51396246e-04,  7.68356581e-04,  1.64672708e-04, -1.10066311e-03,\n",
       "        8.92798183e-04, -3.29990031e-04, -8.54309126e-04,  1.10377098e-03,\n",
       "       -1.01218781e-03,  4.28701126e-04,  2.83842823e-04, -3.14728090e-04,\n",
       "        1.01534709e-03, -1.09306163e-04, -6.17853094e-04, -6.09944737e-04,\n",
       "       -5.06543474e-04,  1.79488309e-04,  1.10643996e-03,  7.61548988e-04,\n",
       "        4.21945913e-04,  5.31384440e-04,  7.53410906e-04,  2.03385206e-04,\n",
       "       -5.08070414e-04, -2.86505392e-04, -2.20785493e-03,  1.94249606e-04,\n",
       "        3.41898620e-04,  7.15824486e-04,  3.38721489e-05, -2.49267270e-04,\n",
       "       -2.64607459e-04, -2.79842118e-04,  8.67219527e-04, -4.40285781e-04,\n",
       "        5.34562152e-04,  1.63838452e-04,  7.29208121e-05,  2.47532970e-04,\n",
       "        5.95851673e-05, -1.30993651e-04,  1.09116154e-03,  1.81898748e-04,\n",
       "       -5.89545242e-04, -4.73526996e-04, -5.71898285e-04, -6.34270107e-04,\n",
       "        8.99264166e-04, -5.06610494e-05, -1.67433931e-04, -1.99754939e-04,\n",
       "       -6.11627418e-04, -2.14649652e-04,  5.60688844e-04,  4.48659166e-04,\n",
       "        8.48051633e-04, -7.52024107e-04, -3.13138790e-04,  5.43722767e-05,\n",
       "        1.21816208e-04,  7.53054683e-05,  3.18770775e-04,  7.02679137e-04,\n",
       "        2.66734339e-04,  3.98417069e-05, -7.84266023e-05,  1.75608196e-04,\n",
       "        6.44278393e-04, -5.46194395e-04, -8.14276429e-04, -4.19748909e-04,\n",
       "        1.01580143e-04,  6.95019509e-04,  6.63031624e-04,  2.85621415e-04,\n",
       "        1.87573001e-04, -6.32407813e-04, -1.13149742e-03, -3.78375538e-04,\n",
       "        2.62121041e-04,  8.45593956e-04, -1.95384741e-05, -6.14103573e-04,\n",
       "       -7.96252846e-05, -5.94504741e-05,  5.02920925e-04,  8.19084506e-04,\n",
       "       -6.12751645e-05,  1.25976584e-04, -3.80003191e-04, -1.20860318e-03,\n",
       "        1.44873222e-04,  6.53646454e-04,  8.17380757e-04, -2.40791973e-04,\n",
       "       -8.20519315e-04, -1.57663625e-04, -6.09409846e-04,  5.84426585e-04,\n",
       "        5.24215043e-04, -7.72365114e-05,  4.70097426e-05, -7.04550673e-04,\n",
       "       -6.84142729e-04,  1.88819336e-04,  9.59261026e-04,  9.07862676e-04,\n",
       "        5.06662909e-04, -1.69407696e-04, -4.07382660e-04, -3.27194757e-05,\n",
       "       -4.45760011e-06,  1.60292814e-04, -2.03582419e-04,  1.86585119e-04,\n",
       "       -1.59549779e-04, -6.33564273e-05, -1.25102440e-04,  4.18500405e-04,\n",
       "        7.71116735e-04, -7.12180104e-05, -2.10142602e-04, -5.82263177e-04,\n",
       "       -1.64519189e-04,  5.82596026e-04, -2.08039330e-07,  2.34081830e-04,\n",
       "        3.31929079e-04, -5.48193118e-04,  4.22922304e-04, -4.34873065e-04,\n",
       "       -9.11465555e-06,  3.59626425e-04,  4.66136222e-04, -4.23719459e-04,\n",
       "       -1.16345140e-04, -7.69782783e-05, -5.98858258e-04,  3.76083632e-04,\n",
       "        1.91258587e-04,  2.69881309e-05, -4.33261371e-04, -4.32281819e-05,\n",
       "        1.20807790e-04,  4.49241962e-04,  2.53591230e-04, -9.71923015e-05,\n",
       "       -3.08059995e-04, -2.32296928e-04,  1.34404063e-04,  2.35106886e-04,\n",
       "        3.64888821e-04,  3.03309901e-04,  1.24915714e-04, -5.58103739e-04,\n",
       "       -4.53595923e-04, -5.62497787e-05,  2.52722719e-04,  1.32977746e-04,\n",
       "        1.34207355e-04,  9.55116123e-05,  5.37886164e-05,  1.47075639e-04,\n",
       "       -1.21448215e-04, -6.65681228e-05, -4.15592466e-05, -3.50549107e-04,\n",
       "       -2.11705076e-04, -3.99982145e-05, -5.09387187e-05,  3.51074124e-04,\n",
       "        2.80211847e-04, -1.43370173e-05, -1.35055710e-05,  2.82754687e-04,\n",
       "       -1.76123879e-04,  2.30920547e-04,  7.12863302e-05, -3.25890029e-04,\n",
       "        1.47225483e-04, -2.57327720e-04,  1.94078440e-04, -3.07563104e-04,\n",
       "       -5.80610452e-05,  1.94517917e-04, -1.34239965e-04,  8.10286093e-05,\n",
       "       -1.24214076e-04, -1.25138713e-05, -3.96922312e-04,  2.98696242e-05,\n",
       "        7.66162191e-05,  1.08904933e-04,  6.09995735e-05,  2.71032025e-04,\n",
       "        2.58066745e-05,  1.84429364e-04,  1.37675171e-04, -1.02565973e-04,\n",
       "       -1.46321526e-04, -1.16642026e-04,  2.88300415e-04, -3.22154952e-04,\n",
       "        6.44374405e-05,  2.33394574e-04,  8.55225000e-05,  5.05295663e-05,\n",
       "       -1.78280073e-04, -2.54272274e-04,  2.82619573e-04, -2.48657260e-04,\n",
       "       -7.48781687e-05, -9.73727817e-05,  3.35143649e-04,  4.35211417e-04,\n",
       "       -2.04191454e-04, -6.12078298e-05, -5.63210241e-04, -2.05525642e-04,\n",
       "       -1.23373313e-04, -2.86957548e-04,  8.45331571e-05, -1.49235793e-04,\n",
       "       -6.04765326e-05, -5.89641494e-06,  7.37368745e-05,  2.21037278e-04,\n",
       "       -2.69866561e-05, -3.51762443e-05, -3.17375743e-05, -1.04731210e-04,\n",
       "       -7.52065456e-05,  4.87299575e-05, -1.52187009e-04,  4.24774335e-04,\n",
       "        6.13003458e-06, -1.78671153e-04, -2.06399660e-04,  2.56602921e-04,\n",
       "        1.26351150e-04,  1.81555134e-04,  3.89550929e-04, -3.02648427e-04,\n",
       "        1.56574079e-05, -2.15769435e-04, -6.23751267e-05,  3.83293145e-05,\n",
       "        6.27151087e-05,  2.09900333e-04, -1.27766360e-04, -2.73664286e-04,\n",
       "        1.47859734e-04,  2.75851355e-05,  1.31981020e-04, -6.23414552e-05,\n",
       "       -1.47707783e-04,  2.71366064e-04,  6.16367587e-05,  1.88140377e-04,\n",
       "       -4.87774506e-05, -2.27820551e-04,  8.93829794e-05, -3.38958477e-04,\n",
       "       -1.41983198e-04,  3.83863261e-05,  1.16748704e-04,  3.86573154e-05,\n",
       "        1.45947581e-04, -6.10689968e-05, -3.63908372e-04,  4.80095195e-04,\n",
       "       -4.68355834e-05,  2.19115444e-04,  3.17975546e-04,  1.68736269e-04,\n",
       "        2.09327754e-04, -1.19604984e-04,  5.70757841e-05,  1.00761736e-04,\n",
       "        2.31534769e-05, -1.44417363e-04, -1.01793116e-06, -2.18457115e-04,\n",
       "        5.79789589e-05, -2.73132193e-04,  2.96024939e-04, -4.72474801e-05,\n",
       "       -9.33707681e-05, -2.14615319e-04, -7.68643900e-05, -2.09559403e-04,\n",
       "        1.85847732e-04, -1.06099600e-05, -6.07420354e-05, -6.50180879e-05,\n",
       "       -1.99433590e-04, -2.81088671e-04, -1.71637107e-04,  2.89005292e-04,\n",
       "        1.83674661e-04, -1.48278002e-04, -1.26744967e-04, -2.02171342e-04])}"
      ]
     },
     "execution_count": 9,
     "metadata": {},
     "output_type": "execute_result"
    }
   ],
   "source": [
    "objects[0]"
   ]
  },
  {
   "cell_type": "markdown",
   "id": "dc7d69ca",
   "metadata": {},
   "source": [
    "## Track"
   ]
  },
  {
   "cell_type": "markdown",
   "id": "afcd9d83",
   "metadata": {},
   "source": [
    "Redefine features to include `efd flat` and the two different `mean_intensity` channels"
   ]
  },
  {
   "cell_type": "code",
   "execution_count": 12,
   "id": "32eeb38a",
   "metadata": {},
   "outputs": [],
   "source": [
    "FEATURES = ['efd flat',\n",
    "                     \"area\",\n",
    "  \"major_axis_length\",\n",
    "  \"minor_axis_length\",\n",
    "  \"orientation\",\n",
    "  \"solidity\",\n",
    "  \"mean_intensity-0\",\n",
    "  \"mean_intensity-1\",\n",
    "]"
   ]
  },
  {
   "cell_type": "code",
   "execution_count": 13,
   "id": "f552907d",
   "metadata": {
    "scrolled": false
   },
   "outputs": [
    {
     "name": "stderr",
     "output_type": "stream",
     "text": [
      "[INFO][2022/11/11 10:35:03 AM] Loaded btrack: /home/dayn/analysis/BayesianTracker/btrack/libs/libtracker.so\n",
      "[INFO][2022/11/11 10:35:03 AM] btrack (v0.5.0) library imported\n",
      "[INFO][2022/11/11 10:35:03 AM] Starting BayesianTracker session\n",
      "[INFO][2022/11/11 10:35:03 AM] Loading configuration file: /home/dayn/analysis/BayesianTracker/models/particle_config.json\n",
      "[INFO][2022/11/11 10:35:03 AM] Setting max_search_radius -> 400\n",
      "[INFO][2022/11/11 10:35:03 AM] Setting features -> ['efd flat', 'area', 'major_axis_length', 'minor_axis_length', 'orientation', 'solidity', 'mean_intensity-0', 'mean_intensity-1']\n",
      "[INFO][2022/11/11 10:35:03 AM] Objects are of type: <class 'list'>\n",
      "[INFO][2022/11/11 10:35:05 AM] Setting volume -> ((0, 6048), (0, 6048), (-100000.0, 100000.0))\n",
      "[WARNING][2022/11/11 10:35:05 AM] `track_interactive` will be deprecated. Use `track` instead.\n",
      "[INFO][2022/11/11 10:35:05 AM] Starting tracking... \n",
      "[INFO][2022/11/11 10:35:05 AM] Update using: ['MOTION']\n",
      "[INFO][2022/11/11 10:35:07 AM] Tracking objects in frames 0 to 24 (of 75)...\n",
      "[INFO][2022/11/11 10:36:59 AM]  - Timing (Bayesian updates: 4386.72ms, Linking: 41.56ms)\n",
      "[INFO][2022/11/11 10:36:59 AM]  - Probabilities (Link: 0.49997, Lost: 1.00000)\n",
      "[INFO][2022/11/11 10:36:59 AM]  - Stats (Active: 5510, Lost: 107323, Conflicts resolved: 8424)\n",
      "[INFO][2022/11/11 10:36:59 AM] Tracking objects in frames 25 to 49 (of 75)...\n",
      "[INFO][2022/11/11 10:38:31 AM]  - Timing (Bayesian updates: 1496.31ms, Linking: 25.16ms)\n",
      "[INFO][2022/11/11 10:38:31 AM]  - Probabilities (Link: 0.50014, Lost: 0.98433)\n",
      "[INFO][2022/11/11 10:38:31 AM]  - Stats (Active: 3744, Lost: 218912, Conflicts resolved: 14892)\n",
      "[INFO][2022/11/11 10:38:31 AM] Tracking objects in frames 50 to 74 (of 75)...\n",
      "[INFO][2022/11/11 10:38:41 AM]  - Timing (Bayesian updates: 101.43ms, Linking: 5.47ms)\n",
      "[INFO][2022/11/11 10:38:41 AM]  - Probabilities (Link: 0.49937, Lost: 0.94848)\n",
      "[INFO][2022/11/11 10:38:41 AM] SUCCESS.\n",
      "[INFO][2022/11/11 10:38:41 AM]  - Found 41701 tracks in 75 frames (in 0.0s)\n",
      "[INFO][2022/11/11 10:38:41 AM]  - Inserted 40890 dummy objects to fill tracking gaps\n",
      "[INFO][2022/11/11 10:38:41 AM] Loading hypothesis model: particle_hypothesis\n",
      "[INFO][2022/11/11 10:38:41 AM] Calculating hypotheses (relax: True)...\n",
      "[INFO][2022/11/11 10:38:42 AM] Setting up constraints matrix for global optimisation...\n",
      "[INFO][2022/11/11 10:38:42 AM] Using GLPK options: {'tm_lim': 60000}...\n",
      "[INFO][2022/11/11 10:38:52 AM] Optimizing...\n",
      "[WARNING][2022/11/11 10:39:52 AM] Optimizer returned status: undefined\n",
      "[WARNING][2022/11/11 10:39:52 AM] Optimization failed.\n",
      "[INFO][2022/11/11 10:39:52 AM] Opening HDF file: /mnt/DATA/sandbox/pierre_live_cell_data/outputs/Replication_IPSDM_GFP/zarr/tracks.h5...\n"
     ]
    },
    {
     "name": "stdout",
     "output_type": "stream",
     "text": [
      "GLPK Integer Optimizer 5.0\n",
      "166804 rows, 153696 columns, 223990 non-zeros\n",
      "153696 integer variables, all of which are binary\n",
      "Preprocessing...\n",
      "83402 rows, 153696 columns, 223990 non-zeros\n",
      "153696 integer variables, all of which are binary\n",
      "Scaling...\n",
      " A: min|aij| =  1.000e+00  max|aij| =  1.000e+00  ratio =  1.000e+00\n",
      "Problem data seem to be well scaled\n",
      "Constructing initial basis...\n",
      "Size of triangular part is 83402\n",
      "Solving LP relaxation...\n",
      "GLPK Simplex Optimizer 5.0\n",
      "83402 rows, 153696 columns, 223990 non-zeros\n",
      "*     0: obj =   5.202398577e+05 inf =   0.000e+00 (63402)\n",
      "Perturbing LP to avoid stalling [1499]...\n",
      "*  1568: obj =   5.029140210e+05 inf =   0.000e+00 (61596)\n",
      "*  3342: obj =   4.861981039e+05 inf =   0.000e+00 (59517)\n",
      "*  4982: obj =   4.722673094e+05 inf =   0.000e+00 (57537)\n",
      "*  6554: obj =   4.605659746e+05 inf =   0.000e+00 (55539)\n",
      "*  8007: obj =   4.511163624e+05 inf =   0.000e+00 (53571) 1\n",
      "*  9508: obj =   4.406949009e+05 inf =   0.000e+00 (51668)\n",
      "* 11195: obj =   4.261507655e+05 inf =   0.000e+00 (49969) 1\n",
      "* 13033: obj =   4.086225303e+05 inf =   0.000e+00 (48115)\n",
      "* 14834: obj =   3.920520005e+05 inf =   0.000e+00 (46296)\n",
      "* 16606: obj =   3.753365793e+05 inf =   0.000e+00 (44590)\n",
      "* 18463: obj =   3.574408525e+05 inf =   0.000e+00 (42717) 1\n",
      "Removing LP perturbation [20345]...\n",
      "* 20345: obj =   3.389326397e+05 inf =   0.000e+00 (40830)\n",
      "TIME LIMIT EXCEEDED; SEARCH TERMINATED\n"
     ]
    },
    {
     "name": "stderr",
     "output_type": "stream",
     "text": [
      "[INFO][2022/11/11 10:39:56 AM] Writing tracks/obj_type_1\n",
      "[WARNING][2022/11/11 10:39:56 AM] Removing tracks/obj_type_1.\n",
      "[INFO][2022/11/11 10:39:56 AM] Writing dummies/obj_type_1\n",
      "[INFO][2022/11/11 10:39:56 AM] Writing LBEP/obj_type_1\n",
      "[INFO][2022/11/11 10:39:56 AM] Writing fates/obj_type_1\n",
      "[INFO][2022/11/11 10:39:56 AM] Closing HDF file: /mnt/DATA/sandbox/pierre_live_cell_data/outputs/Replication_IPSDM_GFP/zarr/tracks.h5\n",
      "[INFO][2022/11/11 10:39:57 AM] Ending BayesianTracker session\n"
     ]
    }
   ],
   "source": [
    "# initialise a tracker session using a context manager\n",
    "with btrack.BayesianTracker() as tracker:\n",
    "\n",
    "    # configure the tracker using a config file\n",
    "    tracker.configure_from_file(\n",
    "        '/home/dayn/analysis/BayesianTracker/models/particle_config.json'\n",
    "    )\n",
    "    tracker.verbose = True\n",
    "\n",
    "    tracker.max_search_radius = 400\n",
    "    \n",
    "    # use visual features to track\n",
    "    tracker.features = FEATURES\n",
    "    \n",
    "    # append the objects to be tracked\n",
    "    tracker.append(objects)\n",
    "\n",
    "    # set the volume\n",
    "    tracker.volume=((0, 6048), (0, 6048), (-1e5, 1e5))\n",
    "\n",
    "    # track them (in interactive mode)\n",
    "    tracker.track_interactive(step_size=25)\n",
    "\n",
    "    # generate hypotheses and run the global optimizer\n",
    "    tracker.optimize()\n",
    "\n",
    "    tracker.export(f'/mnt/DATA/sandbox/pierre_live_cell_data/outputs/Replication_IPSDM_GFP/zarr/tracks.h5', obj_type='obj_type_1')\n",
    "\n",
    "#     # get the tracks in a format for napari visualization (optional)\n",
    "    visualise_tracks, properties, graph = tracker.to_napari(ndim=2)\n",
    "    \n",
    "    tracks = tracker.tracks"
   ]
  },
  {
   "cell_type": "code",
   "execution_count": 14,
   "id": "d23e6f3f",
   "metadata": {
    "scrolled": true
   },
   "outputs": [
    {
     "data": {
      "text/html": [
       "<table border=\"1\" class=\"dataframe\">\n",
       "  <thead>\n",
       "    <tr style=\"text-align: right;\">\n",
       "      <th></th>\n",
       "      <th>ID</th>\n",
       "      <th>t</th>\n",
       "      <th>x</th>\n",
       "      <th>y</th>\n",
       "      <th>z</th>\n",
       "      <th>parent</th>\n",
       "      <th>root</th>\n",
       "      <th>state</th>\n",
       "      <th>generation</th>\n",
       "      <th>dummy</th>\n",
       "      <th>efd flat</th>\n",
       "      <th>orientation</th>\n",
       "      <th>mean_intensity-1</th>\n",
       "      <th>solidity</th>\n",
       "      <th>major_axis_length</th>\n",
       "      <th>mean_intensity-0</th>\n",
       "      <th>minor_axis_length</th>\n",
       "      <th>area</th>\n",
       "    </tr>\n",
       "  </thead>\n",
       "  <tbody>\n",
       "    <tr>\n",
       "      <th>0</th>\n",
       "      <td>101</td>\n",
       "      <td>0</td>\n",
       "      <td>1845.50892</td>\n",
       "      <td>3749.178702</td>\n",
       "      <td>0.0</td>\n",
       "      <td>101</td>\n",
       "      <td>101</td>\n",
       "      <td>5</td>\n",
       "      <td>0</td>\n",
       "      <td>False</td>\n",
       "      <td>(1, 400) array</td>\n",
       "      <td>(1,) array</td>\n",
       "      <td>(1,) array</td>\n",
       "      <td>(1,) array</td>\n",
       "      <td>(1,) array</td>\n",
       "      <td>(1,) array</td>\n",
       "      <td>(1,) array</td>\n",
       "      <td>(1,) array</td>\n",
       "    </tr>\n",
       "  </tbody>\n",
       "</table>"
      ],
      "text/plain": [
       "OrderedDict([('ID', 101), ('t', [0]), ('x', [1845.5089204323478]), ('y', [3749.178701653861]), ('z', [0.0]), ('parent', 101), ('root', 101), ('state', [5]), ('generation', 0), ('dummy', [False]), ('efd flat', array([[ 1.00000000e+00,  1.36002054e-17,  1.05605983e-16,\n",
       "        -3.27970568e-01,  2.09234884e-02, -2.11867673e-02,\n",
       "         9.02775015e-02,  6.98875804e-02,  9.14994307e-02,\n",
       "        -1.30673183e-03, -2.59827565e-02, -6.79764773e-02,\n",
       "         1.09652205e-02, -3.08272749e-03, -1.14999440e-02,\n",
       "         1.86402968e-02,  2.49959721e-02,  4.33567467e-03,\n",
       "         3.43090829e-03, -2.34741334e-02,  1.10972753e-02,\n",
       "        -5.09640986e-03, -1.09186052e-02,  3.78299505e-03,\n",
       "         1.17286583e-02,  4.85575827e-03,  1.96876345e-04,\n",
       "        -2.22262281e-03,  1.00088318e-02, -2.22809917e-03,\n",
       "        -5.86115804e-03, -6.22492714e-03,  2.56607383e-03,\n",
       "         1.83075931e-03, -3.32491289e-03, -3.00279783e-03,\n",
       "         7.18273768e-03, -1.23015191e-03,  1.43290888e-03,\n",
       "        -1.02954856e-03,  6.41128864e-04,  3.44736314e-04,\n",
       "        -8.42862758e-04, -1.46897494e-03,  3.55490853e-03,\n",
       "        -8.53168158e-04, -1.37668904e-03, -2.14560409e-03,\n",
       "         1.09525344e-03,  1.25602095e-03,  9.91869002e-05,\n",
       "        -8.92610969e-04,  1.78816965e-03,  1.89723857e-04,\n",
       "        -1.10509624e-03, -3.24252079e-03,  1.36365063e-03,\n",
       "         9.06352611e-04,  6.24168952e-04, -6.06596348e-04,\n",
       "         1.02960817e-03,  2.47350862e-04, -1.63738037e-03,\n",
       "        -9.94470280e-04,  1.07733127e-03,  2.73339797e-04,\n",
       "        -6.30378100e-04, -3.43497573e-04,  1.03878424e-03,\n",
       "         1.14127562e-04,  3.94953030e-04,  3.65448484e-04,\n",
       "         6.80879529e-04,  8.89111597e-05, -6.92316082e-04,\n",
       "         2.05726033e-04,  5.22924475e-04,  6.95411869e-05,\n",
       "         4.61891267e-04,  6.08740315e-04,  5.64908544e-04,\n",
       "         2.05045493e-04,  7.48138577e-04,  3.82630118e-04,\n",
       "         1.96521816e-04,  1.08290982e-04,  6.64970865e-04,\n",
       "        -6.58249002e-04,  5.10945623e-04,  3.50231606e-04,\n",
       "         6.90676573e-04, -4.07396780e-04,  2.15897206e-04,\n",
       "         5.85085198e-04, -4.32815323e-04, -7.53408382e-04,\n",
       "         5.99118286e-04,  1.82351456e-04, -1.87519618e-04,\n",
       "        -1.24564040e-03,  4.90800282e-04,  5.66253944e-04,\n",
       "        -6.53590986e-04,  1.24221116e-04,  4.11592008e-04,\n",
       "         4.30439866e-05, -1.01688108e-03, -4.15079056e-05,\n",
       "         6.73296557e-04,  9.80480066e-05, -4.47989943e-04,\n",
       "         2.87977278e-05,  3.99425921e-04,  4.96706240e-04,\n",
       "        -1.58510493e-04,  3.33760241e-04, -9.94454423e-05,\n",
       "         1.70175333e-05,  2.63202760e-04, -1.62533977e-04,\n",
       "         1.89213216e-04, -6.43766712e-05,  7.10044512e-04,\n",
       "         3.69744450e-04,  1.26217125e-04, -7.64987608e-06,\n",
       "         3.15212509e-05, -9.67433016e-05,  1.39147374e-04,\n",
       "         2.87114236e-04,  3.96066854e-04, -4.91495771e-04,\n",
       "        -7.48928764e-05,  2.94000202e-04, -9.13907945e-05,\n",
       "        -4.99351484e-04,  1.01296557e-04,  7.18931742e-05,\n",
       "        -2.27878705e-04, -8.99831700e-04,  2.94671647e-04,\n",
       "         4.45775961e-04, -4.31721738e-04, -5.04189243e-05,\n",
       "         5.02089080e-05,  3.93594782e-04, -5.19198167e-04,\n",
       "         3.14523858e-04,  1.99325416e-04,  1.25189695e-04,\n",
       "         1.11770360e-04, -4.16395859e-05,  3.94530374e-04,\n",
       "         8.42740064e-05,  4.15087626e-04,  3.08889353e-04,\n",
       "         1.52671458e-04,  2.39716651e-04,  2.24131262e-04,\n",
       "        -2.12002597e-04,  9.52143490e-05, -4.85753216e-05,\n",
       "         7.48687164e-05, -2.45273818e-04, -1.92679053e-05,\n",
       "         1.73983112e-04,  4.78673592e-05, -6.17672234e-05,\n",
       "         1.17513984e-04, -1.46430850e-05,  3.35578873e-04,\n",
       "         4.90087995e-05,  9.00670776e-05,  8.67587588e-05,\n",
       "         1.83502946e-04,  1.25091142e-04,  1.53770985e-04,\n",
       "         6.65787359e-05, -3.28713715e-04, -1.96816035e-04,\n",
       "         8.56095485e-05,  4.06368180e-05, -9.08124137e-05,\n",
       "        -1.59233282e-04,  2.20244873e-04,  1.46874492e-04,\n",
       "        -2.04056125e-04,  2.32940350e-04,  4.87562290e-05,\n",
       "        -3.82383003e-05, -1.52547616e-04, -1.08751495e-05,\n",
       "         1.44184811e-04,  1.25536137e-04, -5.53399759e-05,\n",
       "         8.56165327e-05, -1.08021111e-04,  1.02920476e-04,\n",
       "        -7.41292460e-05,  1.68962118e-04,  4.23876692e-05,\n",
       "         6.60306304e-05,  2.39810514e-04, -1.38402091e-04,\n",
       "         1.82997335e-05,  7.94491674e-05,  1.81721790e-04,\n",
       "         1.42189461e-04,  3.08833598e-05,  1.10565716e-04,\n",
       "         5.79257261e-05, -8.95699969e-07,  1.19722450e-05,\n",
       "        -2.27709284e-05, -2.55981250e-04, -2.31427256e-04,\n",
       "         1.07834124e-04,  2.13179253e-04, -2.41146727e-05,\n",
       "        -2.18253099e-04, -2.32074958e-05,  1.10691860e-04,\n",
       "         1.83185780e-04, -3.24391145e-05,  7.16935755e-05,\n",
       "        -1.73142931e-05, -2.73030126e-04,  2.09284647e-04,\n",
       "         1.80327148e-04,  6.95524255e-06, -3.42415033e-04,\n",
       "        -1.01529279e-04,  7.17965663e-05,  1.11313413e-04,\n",
       "         2.38336910e-04, -1.13343187e-04, -7.91748276e-05,\n",
       "        -8.37343427e-05,  3.26557021e-04,  2.17712042e-04,\n",
       "        -3.44168642e-06, -1.45573825e-04, -1.21544156e-04,\n",
       "         2.26274135e-04,  1.18816094e-04, -5.13396717e-05,\n",
       "        -1.13193920e-04, -2.97110883e-04, -8.96478033e-05,\n",
       "         1.40013374e-04,  2.28939099e-04, -2.15584621e-04,\n",
       "        -1.77068260e-04, -9.40212357e-05,  4.07373224e-05,\n",
       "         1.43871603e-04,  5.22405235e-05,  1.87980857e-05,\n",
       "        -3.24777659e-04,  5.24784169e-05, -2.29485514e-05,\n",
       "         2.63266036e-04, -1.37693608e-04, -2.57268519e-04,\n",
       "        -1.15638460e-04,  1.38234868e-04,  3.03505339e-04,\n",
       "        -1.35898502e-04,  3.98643273e-06,  2.58635692e-05,\n",
       "        -5.82606142e-05,  3.51173541e-04,  1.34531603e-04,\n",
       "         9.05039078e-05, -3.40483204e-04,  5.20585610e-05,\n",
       "         7.45736532e-06,  1.26155264e-04,  6.01652966e-05,\n",
       "        -2.46420523e-04, -8.38017925e-05,  4.15704023e-05,\n",
       "         2.38679078e-04,  1.64227849e-04, -3.55062435e-05,\n",
       "        -5.83640122e-05, -1.86281751e-05,  3.41793623e-04,\n",
       "         8.06225216e-05,  3.10945013e-05, -2.15857945e-04,\n",
       "         4.31575782e-05, -5.33197474e-05,  8.44631424e-05,\n",
       "         3.53203700e-05, -1.32022858e-04, -4.88155139e-05,\n",
       "         1.26377115e-05,  2.29371401e-04,  1.14648510e-04,\n",
       "        -2.36008421e-05,  4.16622683e-05, -1.82156080e-04,\n",
       "         2.38141606e-04, -1.52857636e-05,  9.34654048e-05,\n",
       "        -1.96988177e-04, -1.34687858e-04,  7.25857753e-05,\n",
       "         8.49042968e-05,  1.67066856e-04, -1.56455458e-04,\n",
       "        -5.24098333e-05,  1.44105699e-04, -3.49035612e-05,\n",
       "         1.58828025e-04, -2.47439472e-05, -2.45037240e-05,\n",
       "        -1.97860749e-04,  6.77320433e-05,  8.68367094e-05,\n",
       "         5.75276177e-05,  1.53871965e-04, -3.00263089e-05,\n",
       "        -3.17914205e-05,  9.60065436e-05,  4.16640919e-05,\n",
       "        -1.20240642e-05, -6.99605236e-05,  7.52124968e-05,\n",
       "         6.32065004e-05,  4.72209077e-05,  5.87439925e-05,\n",
       "         3.38587365e-05,  1.28456291e-04, -4.69736789e-05,\n",
       "         4.10470301e-05,  9.43431949e-05, -4.35530667e-06,\n",
       "        -1.34856226e-04,  5.24664328e-05,  1.04262303e-04,\n",
       "         7.08589040e-05, -1.35037513e-04,  1.11176171e-05,\n",
       "         9.46283809e-05, -6.09799643e-06, -1.61666024e-04,\n",
       "         5.19363543e-05,  1.98277885e-05, -2.40091172e-05,\n",
       "        -1.92933765e-04,  8.22194008e-05,  6.59498324e-05,\n",
       "        -1.26084429e-04, -9.94838972e-06,  5.49180991e-05,\n",
       "         7.00705845e-05, -1.19049591e-04,  5.27228938e-06,\n",
       "         2.51337090e-05, -5.55401815e-06,  6.68603726e-05,\n",
       "        -1.42938430e-04, -5.38585624e-05,  2.90422326e-05,\n",
       "         8.80698394e-05, -4.69974856e-05, -9.38685836e-05,\n",
       "        -2.43147832e-05,  3.88704437e-05,  9.44457473e-05,\n",
       "         1.00822568e-06,  6.57401898e-05, -1.40240764e-04,\n",
       "        -7.01731551e-05, -4.21183652e-05,  1.50110082e-04,\n",
       "         1.04245849e-04, -2.08120711e-04, -1.34464523e-04,\n",
       "         1.05070111e-04,  1.29194141e-04, -9.20648153e-05,\n",
       "        -6.05694930e-05,  4.86256920e-06, -1.05220200e-04,\n",
       "         1.31780205e-04,  5.17145764e-05,  9.61616013e-05,\n",
       "        -1.19812650e-04,  5.44535510e-05,  9.08144456e-05,\n",
       "         9.95847670e-05, -3.99157053e-06, -6.11311628e-05,\n",
       "        -2.37130634e-05,  7.65970526e-05,  2.90492377e-05,\n",
       "         4.38738363e-05]])), ('orientation', array([-0.92273125])), ('mean_intensity-1', array([353.97835005])), ('solidity', array([0.8578211])), ('major_axis_length', array([396.4306979])), ('mean_intensity-0', array([1437.74811173])), ('minor_axis_length', array([114.69149269])), ('area', array([30716]))])"
      ]
     },
     "execution_count": 14,
     "metadata": {},
     "output_type": "execute_result"
    }
   ],
   "source": [
    "tracks[100]"
   ]
  },
  {
   "cell_type": "code",
   "execution_count": 15,
   "id": "c7519f77",
   "metadata": {},
   "outputs": [
    {
     "name": "stdout",
     "output_type": "stream",
     "text": [
      "[21286.    nan 25428.]\n"
     ]
    }
   ],
   "source": [
    "print(tracks[0].properties['area'])"
   ]
  },
  {
   "cell_type": "code",
   "execution_count": 16,
   "id": "292ced3f",
   "metadata": {},
   "outputs": [
    {
     "data": {
      "text/plain": [
       "(array([3.5618e+04, 4.8470e+03, 1.0600e+03, 1.0500e+02, 5.0000e+01,\n",
       "        1.3000e+01, 3.0000e+00, 3.0000e+00, 1.0000e+00, 1.0000e+00]),\n",
       " array([ 1. ,  5.5, 10. , 14.5, 19. , 23.5, 28. , 32.5, 37. , 41.5, 46. ]),\n",
       " <BarContainer object of 10 artists>)"
      ]
     },
     "execution_count": 16,
     "metadata": {},
     "output_type": "execute_result"
    },
    {
     "data": {
      "image/png": "[encoded data removed]",
      "text/plain": [
       "<Figure size 1080x504 with 1 Axes>"
      ]
     },
     "metadata": {
      "needs_background": "light"
     },
     "output_type": "display_data"
    }
   ],
   "source": [
    "plt.hist([len(track) for track in tracks])"
   ]
  },
  {
   "cell_type": "code",
   "execution_count": null,
   "id": "b659635b",
   "metadata": {},
   "outputs": [],
   "source": [
    "len([len(track) for track in tracks if len(track) > 15])"
   ]
  },
  {
   "cell_type": "code",
   "execution_count": null,
   "id": "79a23279",
   "metadata": {},
   "outputs": [],
   "source": [
    "plt.hist([len(track) for track in tracks if len(track) > 7])"
   ]
  },
  {
   "cell_type": "markdown",
   "id": "a844a4f6",
   "metadata": {},
   "source": [
    "### Filter tracks"
   ]
  },
  {
   "cell_type": "code",
   "execution_count": 20,
   "id": "5affa8a5",
   "metadata": {},
   "outputs": [],
   "source": [
    "tracks_filt = [track for track in tracks if len(track) > 15]\n",
    "visualise_tracks, properties, graph = btrack.utils.tracks_to_napari(tracks_filt, ndim = 2)"
   ]
  },
  {
   "cell_type": "code",
   "execution_count": 18,
   "id": "cd1aa5de",
   "metadata": {},
   "outputs": [],
   "source": [
    "visualise_raw_tracks, properties, graph = btrack.utils.tracks_to_napari(tracks, ndim = 2)"
   ]
  },
  {
   "cell_type": "code",
   "execution_count": 22,
   "id": "10d5d022",
   "metadata": {},
   "outputs": [
    {
     "name": "stderr",
     "output_type": "stream",
     "text": [
      "/home/dayn/miniconda3/envs/aero/lib/python3.9/site-packages/napari_tools_menu/__init__.py:194: FutureWarning: Public access to Window.qt_viewer is deprecated and will be removed in\n",
      "v0.5.0. It is considered an \"implementation detail\" of the napari\n",
      "application, not part of the napari viewer model. If your use case\n",
      "requires access to qt_viewer, please open an issue to discuss.\n",
      "  self.tools_menu = ToolsMenu(self, self.qt_viewer.viewer)\n"
     ]
    },
    {
     "data": {
      "text/plain": [
       "<Tracks layer 'tracks' at 0x7f52a0747100>"
      ]
     },
     "execution_count": 22,
     "metadata": {},
     "output_type": "execute_result"
    }
   ],
   "source": [
    "viewer = napari.Viewer()\n",
    "viewer.add_image(gfp, name=\"gfp\", \n",
    "                 #contrast_limits=[0,255],\n",
    "                 blending = 'additive', colormap = 'green')\n",
    "viewer.add_image(rfp, name=\"rfp\", \n",
    "                # contrast_limits=[0,55], \n",
    "                 blending = 'additive', colormap = 'magenta')\n",
    "viewer.add_labels(masks, name = 'masks')\n",
    "viewer.add_tracks(visualise_tracks, name = 'tracks_filtered')\n",
    "viewer.add_tracks(visualise_raw_tracks, name = 'tracks')\n"
   ]
  },
  {
   "attachments": {
    "image.png": {
     "image/png": "[encoded data removed]"
    }
   },
   "cell_type": "markdown",
   "id": "192ba251",
   "metadata": {},
   "source": [
    "# Troubleshooting duplicate cell localisation ![image.png](attachment:image.png)\n",
    "\n",
    "Is it because of small objects appearing in the segmentation?"
   ]
  },
  {
   "cell_type": "code",
   "execution_count": 123,
   "id": "1af47287",
   "metadata": {},
   "outputs": [],
   "source": [
    "mask = masks[0].compute()"
   ]
  },
  {
   "cell_type": "code",
   "execution_count": 124,
   "id": "2d8a184e",
   "metadata": {},
   "outputs": [
    {
     "name": "stderr",
     "output_type": "stream",
     "text": [
      "/home/dayn/miniconda3/envs/aero/lib/python3.9/site-packages/skimage/io/_plugins/matplotlib_plugin.py:150: UserWarning: Low image data range; displaying image with stretched contrast.\n",
      "  lo, hi, cmap = _get_display_range(image)\n"
     ]
    },
    {
     "data": {
      "text/plain": [
       "<matplotlib.image.AxesImage at 0x7f52b0fc9cd0>"
      ]
     },
     "execution_count": 124,
     "metadata": {},
     "output_type": "execute_result"
    },
    {
     "data": {
      "image/png": "[encoded data removed]",
      "text/plain": [
       "<Figure size 1080x504 with 2 Axes>"
      ]
     },
     "metadata": {
      "needs_background": "light"
     },
     "output_type": "display_data"
    }
   ],
   "source": [
    "imshow(mask)"
   ]
  },
  {
   "cell_type": "code",
   "execution_count": 126,
   "id": "bc46ffc5",
   "metadata": {},
   "outputs": [
    {
     "data": {
      "text/plain": [
       "(622, 0)"
      ]
     },
     "execution_count": 126,
     "metadata": {},
     "output_type": "execute_result"
    }
   ],
   "source": [
    "np.max(mask), np.min(mask)"
   ]
  },
  {
   "cell_type": "markdown",
   "id": "53b35c23",
   "metadata": {},
   "source": [
    "pixel identity values tell me that there are 621 individual masks in this image, however regions props tells me a lesser count"
   ]
  },
  {
   "cell_type": "code",
   "execution_count": 131,
   "id": "ecfb02df",
   "metadata": {},
   "outputs": [
    {
     "data": {
      "text/plain": [
       "585"
      ]
     },
     "execution_count": 131,
     "metadata": {},
     "output_type": "execute_result"
    }
   ],
   "source": [
    "len(skimage.measure.regionprops(mask))"
   ]
  },
  {
   "cell_type": "code",
   "execution_count": 129,
   "id": "37d23713",
   "metadata": {},
   "outputs": [
    {
     "data": {
      "text/plain": [
       "585"
      ]
     },
     "execution_count": 129,
     "metadata": {},
     "output_type": "execute_result"
    }
   ],
   "source": [
    "len(skimage.measure.regionprops(masks[0]))"
   ]
  },
  {
   "cell_type": "code",
   "execution_count": 130,
   "id": "880b3746",
   "metadata": {},
   "outputs": [
    {
     "data": {
      "text/plain": [
       "585"
      ]
     },
     "execution_count": 130,
     "metadata": {},
     "output_type": "execute_result"
    }
   ],
   "source": [
    "len(skimage.measure.regionprops(masks[0].compute()))"
   ]
  },
  {
   "cell_type": "code",
   "execution_count": 149,
   "id": "4f36cc93",
   "metadata": {},
   "outputs": [],
   "source": [
    "import btrack"
   ]
  },
  {
   "cell_type": "code",
   "execution_count": 153,
   "id": "44d41f8b",
   "metadata": {},
   "outputs": [
    {
     "data": {
      "text/plain": [
       "<module 'btrack.utils' from '/home/dayn/analysis/BayesianTracker/btrack/utils.py'>"
      ]
     },
     "execution_count": 153,
     "metadata": {},
     "output_type": "execute_result"
    }
   ],
   "source": [
    "reload(btrack.utils)"
   ]
  },
  {
   "cell_type": "code",
   "execution_count": 154,
   "id": "2dbc7f93",
   "metadata": {},
   "outputs": [
    {
     "name": "stderr",
     "output_type": "stream",
     "text": [
      "[INFO][2022/11/11 11:53:09 am] Localizing objects from segmentation...\n",
      "[INFO][2022/11/11 11:53:18 am] Objects are of type: <class 'dict'>\n",
      "[INFO][2022/11/11 11:53:18 am] ...Found 2508 objects in 2 frames.\n"
     ]
    }
   ],
   "source": [
    "objects = btrack.utils.segmentation_to_objects(\n",
    "    masks[0:2], \n",
    "#     image[9:11],\n",
    "#     properties = tuple(FEATURES),\n",
    "#     use_weighted_centroid = False, \n",
    "#     track_progress=True\n",
    ")"
   ]
  },
  {
   "cell_type": "code",
   "execution_count": 155,
   "id": "b2a9c472",
   "metadata": {},
   "outputs": [
    {
     "data": {
      "text/html": [
       "<table border=\"1\" class=\"dataframe\">\n",
       "  <thead>\n",
       "    <tr style=\"text-align: right;\">\n",
       "      <th></th>\n",
       "      <th>ID</th>\n",
       "      <th>x</th>\n",
       "      <th>y</th>\n",
       "      <th>z</th>\n",
       "      <th>t</th>\n",
       "      <th>dummy</th>\n",
       "      <th>states</th>\n",
       "      <th>label</th>\n",
       "    </tr>\n",
       "  </thead>\n",
       "  <tbody>\n",
       "    <tr>\n",
       "      <th>0</th>\n",
       "      <td>0</td>\n",
       "      <td>228.891787</td>\n",
       "      <td>53.545894</td>\n",
       "      <td>0.0</td>\n",
       "      <td>0</td>\n",
       "      <td>False</td>\n",
       "      <td>7</td>\n",
       "      <td>5</td>\n",
       "    </tr>\n",
       "  </tbody>\n",
       "</table>"
      ],
      "text/plain": [
       "{'ID': 0, 'x': 228.89178743961352, 'y': 53.54589371980676, 'z': 0.0, 't': 0, 'dummy': False, 'states': 7, 'label': 5}"
      ]
     },
     "execution_count": 155,
     "metadata": {},
     "output_type": "execute_result"
    }
   ],
   "source": [
    "objects[0]"
   ]
  },
  {
   "cell_type": "code",
   "execution_count": 158,
   "id": "61109e9d",
   "metadata": {},
   "outputs": [
    {
     "data": {
      "text/plain": [
       "1278"
      ]
     },
     "execution_count": 158,
     "metadata": {},
     "output_type": "execute_result"
    }
   ],
   "source": [
    "len([obj for obj in objects if obj.t ==0])"
   ]
  },
  {
   "cell_type": "code",
   "execution_count": 161,
   "id": "0d174b22",
   "metadata": {},
   "outputs": [],
   "source": [
    "xyt0 = [(int(obj.x),int(obj.y)) for obj in objects if obj.t ==0]"
   ]
  },
  {
   "cell_type": "code",
   "execution_count": 162,
   "id": "14202210",
   "metadata": {},
   "outputs": [],
   "source": [
    "x = [xy[0] for xy in xyt0]\n",
    "y = [xy[1] for xy in xyt0]"
   ]
  },
  {
   "cell_type": "code",
   "execution_count": 170,
   "id": "be630b94",
   "metadata": {},
   "outputs": [
    {
     "data": {
      "text/plain": [
       "1278"
      ]
     },
     "execution_count": 170,
     "metadata": {},
     "output_type": "execute_result"
    }
   ],
   "source": [
    "len(xyt0)"
   ]
  },
  {
   "cell_type": "code",
   "execution_count": 169,
   "id": "d31e1ce6",
   "metadata": {},
   "outputs": [
    {
     "data": {
      "text/plain": [
       "<matplotlib.collections.PathCollection at 0x7f52b8a79c40>"
      ]
     },
     "execution_count": 169,
     "metadata": {},
     "output_type": "execute_result"
    },
    {
     "data": {
      "image/png": "[encoded data removed]",
      "text/plain": [
       "<Figure size 1080x1080 with 1 Axes>"
      ]
     },
     "metadata": {
      "needs_background": "light"
     },
     "output_type": "display_data"
    }
   ],
   "source": [
    "plt.scatter(y,x, s = 100, marker='1')"
   ]
  },
  {
   "cell_type": "markdown",
   "id": "1ad4c7ec",
   "metadata": {},
   "source": [
    "Test the number of objects in the mask versus the number of objects found in the localisation"
   ]
  },
  {
   "cell_type": "code",
   "execution_count": 55,
   "id": "463ae9c2",
   "metadata": {},
   "outputs": [
    {
     "data": {
      "text/html": [
       "<table>\n",
       "    <tr>\n",
       "        <td>\n",
       "            <table>\n",
       "                <thead>\n",
       "                    <tr>\n",
       "                        <td> </td>\n",
       "                        <th> Array </th>\n",
       "                        <th> Chunk </th>\n",
       "                    </tr>\n",
       "                </thead>\n",
       "                <tbody>\n",
       "                    \n",
       "                    <tr>\n",
       "                        <th> Bytes </th>\n",
       "                        <td> 139.54 MiB </td>\n",
       "                        <td> 8.90 MiB </td>\n",
       "                    </tr>\n",
       "                    \n",
       "                    <tr>\n",
       "                        <th> Shape </th>\n",
       "                        <td> (2, 6048, 6048) </td>\n",
       "                        <td> (1, 2160, 2160) </td>\n",
       "                    </tr>\n",
       "                    <tr>\n",
       "                        <th> Count </th>\n",
       "                        <td> 694 Tasks </td>\n",
       "                        <td> 18 Chunks </td>\n",
       "                    </tr>\n",
       "                    <tr>\n",
       "                    <th> Type </th>\n",
       "                    <td> uint16 </td>\n",
       "                    <td> numpy.ndarray </td>\n",
       "                    </tr>\n",
       "                </tbody>\n",
       "            </table>\n",
       "        </td>\n",
       "        <td>\n",
       "        <svg width=\"194\" height=\"184\" style=\"stroke:rgb(0,0,0);stroke-width:1\" >\n",
       "\n",
       "  <!-- Horizontal lines -->\n",
       "  <line x1=\"10\" y1=\"0\" x2=\"24\" y2=\"14\" style=\"stroke-width:2\" />\n",
       "  <line x1=\"10\" y1=\"42\" x2=\"24\" y2=\"57\" />\n",
       "  <line x1=\"10\" y1=\"85\" x2=\"24\" y2=\"100\" />\n",
       "  <line x1=\"10\" y1=\"120\" x2=\"24\" y2=\"134\" style=\"stroke-width:2\" />\n",
       "\n",
       "  <!-- Vertical lines -->\n",
       "  <line x1=\"10\" y1=\"0\" x2=\"10\" y2=\"120\" style=\"stroke-width:2\" />\n",
       "  <line x1=\"17\" y1=\"7\" x2=\"17\" y2=\"127\" />\n",
       "  <line x1=\"24\" y1=\"14\" x2=\"24\" y2=\"134\" style=\"stroke-width:2\" />\n",
       "\n",
       "  <!-- Colored Rectangle -->\n",
       "  <polygon points=\"10.0,0.0 24.9485979497544,14.948597949754403 24.9485979497544,134.9485979497544 10.0,120.0\" style=\"fill:#ECB172A0;stroke-width:0\"/>\n",
       "\n",
       "  <!-- Horizontal lines -->\n",
       "  <line x1=\"10\" y1=\"0\" x2=\"130\" y2=\"0\" style=\"stroke-width:2\" />\n",
       "  <line x1=\"17\" y1=\"7\" x2=\"137\" y2=\"7\" />\n",
       "  <line x1=\"24\" y1=\"14\" x2=\"144\" y2=\"14\" style=\"stroke-width:2\" />\n",
       "\n",
       "  <!-- Vertical lines -->\n",
       "  <line x1=\"10\" y1=\"0\" x2=\"24\" y2=\"14\" style=\"stroke-width:2\" />\n",
       "  <line x1=\"52\" y1=\"0\" x2=\"67\" y2=\"14\" />\n",
       "  <line x1=\"95\" y1=\"0\" x2=\"110\" y2=\"14\" />\n",
       "  <line x1=\"130\" y1=\"0\" x2=\"144\" y2=\"14\" style=\"stroke-width:2\" />\n",
       "\n",
       "  <!-- Colored Rectangle -->\n",
       "  <polygon points=\"10.0,0.0 130.0,0.0 144.9485979497544,14.948597949754403 24.9485979497544,14.948597949754403\" style=\"fill:#ECB172A0;stroke-width:0\"/>\n",
       "\n",
       "  <!-- Horizontal lines -->\n",
       "  <line x1=\"24\" y1=\"14\" x2=\"144\" y2=\"14\" style=\"stroke-width:2\" />\n",
       "  <line x1=\"24\" y1=\"57\" x2=\"144\" y2=\"57\" />\n",
       "  <line x1=\"24\" y1=\"100\" x2=\"144\" y2=\"100\" />\n",
       "  <line x1=\"24\" y1=\"134\" x2=\"144\" y2=\"134\" style=\"stroke-width:2\" />\n",
       "\n",
       "  <!-- Vertical lines -->\n",
       "  <line x1=\"24\" y1=\"14\" x2=\"24\" y2=\"134\" style=\"stroke-width:2\" />\n",
       "  <line x1=\"67\" y1=\"14\" x2=\"67\" y2=\"134\" />\n",
       "  <line x1=\"110\" y1=\"14\" x2=\"110\" y2=\"134\" />\n",
       "  <line x1=\"144\" y1=\"14\" x2=\"144\" y2=\"134\" style=\"stroke-width:2\" />\n",
       "\n",
       "  <!-- Colored Rectangle -->\n",
       "  <polygon points=\"24.9485979497544,14.948597949754403 144.9485979497544,14.948597949754403 144.9485979497544,134.9485979497544 24.9485979497544,134.9485979497544\" style=\"fill:#ECB172A0;stroke-width:0\"/>\n",
       "\n",
       "  <!-- Text -->\n",
       "  <text x=\"84.948598\" y=\"154.948598\" font-size=\"1.0rem\" font-weight=\"100\" text-anchor=\"middle\" >6048</text>\n",
       "  <text x=\"164.948598\" y=\"74.948598\" font-size=\"1.0rem\" font-weight=\"100\" text-anchor=\"middle\" transform=\"rotate(-90,164.948598,74.948598)\">6048</text>\n",
       "  <text x=\"7.474299\" y=\"147.474299\" font-size=\"1.0rem\" font-weight=\"100\" text-anchor=\"middle\" transform=\"rotate(45,7.474299,147.474299)\">2</text>\n",
       "</svg>\n",
       "        </td>\n",
       "    </tr>\n",
       "</table>"
      ],
      "text/plain": [
       "dask.array<getitem, shape=(2, 6048, 6048), dtype=uint16, chunksize=(1, 2160, 2160), chunktype=numpy.ndarray>"
      ]
     },
     "execution_count": 55,
     "metadata": {},
     "output_type": "execute_result"
    }
   ],
   "source": [
    "masks[9:11]"
   ]
  },
  {
   "cell_type": "code",
   "execution_count": 65,
   "id": "34ae65ca",
   "metadata": {},
   "outputs": [],
   "source": [
    "n_props = 0\n",
    "for mask in masks[9:11]:\n",
    "    props2 = skimage.measure.regionprops(masks[11])\n",
    "    n_props+=(len(props2))"
   ]
  },
  {
   "cell_type": "code",
   "execution_count": 66,
   "id": "030ca6a1",
   "metadata": {},
   "outputs": [
    {
     "data": {
      "text/plain": [
       "1148"
      ]
     },
     "execution_count": 66,
     "metadata": {},
     "output_type": "execute_result"
    }
   ],
   "source": [
    "n_props"
   ]
  },
  {
   "cell_type": "code",
   "execution_count": 69,
   "id": "a6d1dd1a",
   "metadata": {},
   "outputs": [],
   "source": [
    "FEATURES = [\n",
    "  \"area\",\n",
    "  \"major_axis_length\",\n",
    "  \"minor_axis_length\",\n",
    "  \"orientation\",\n",
    "  \"solidity\",\n",
    "  \"mean_intensity\",\n",
    "    \"intensity_image\"\n",
    "]"
   ]
  },
  {
   "cell_type": "code",
   "execution_count": 70,
   "id": "7dcc7374",
   "metadata": {},
   "outputs": [
    {
     "name": "stderr",
     "output_type": "stream",
     "text": [
      "[INFO][2022/11/11 11:04:45 am] Localizing objects from segmentation...\n",
      "[INFO][2022/11/11 11:04:45 am] Found intensity_image data\n"
     ]
    },
    {
     "data": {
      "application/vnd.jupyter.widget-view+json": {
       "model_id": "6ec6d1bd1acc44328da6bee92d3d90a1",
       "version_major": 2,
       "version_minor": 0
      },
      "text/plain": [
       "  0%|          | 0/2 [00:00<?, ?it/s]"
      ]
     },
     "metadata": {},
     "output_type": "display_data"
    },
    {
     "name": "stderr",
     "output_type": "stream",
     "text": [
      "[INFO][2022/11/11 11:05:28 am] Objects are of type: <class 'dict'>\n",
      "[INFO][2022/11/11 11:05:28 am] ...Found 2580 objects in 2 frames.\n"
     ]
    }
   ],
   "source": [
    "objects = btrack.utils.segmentation_to_objects(\n",
    "    masks[9:11], \n",
    "    image[9:11],\n",
    "    properties = tuple(FEATURES),\n",
    "    use_weighted_centroid = False, \n",
    "    track_progress=True\n",
    ")"
   ]
  },
  {
   "cell_type": "markdown",
   "id": "ed112a05",
   "metadata": {},
   "source": [
    "Looks like it is finding double the objects expected..."
   ]
  },
  {
   "cell_type": "code",
   "execution_count": 71,
   "id": "4403e2f7",
   "metadata": {},
   "outputs": [
    {
     "name": "stderr",
     "output_type": "stream",
     "text": [
      "[INFO][2022/11/11 11:05:51 am] Localizing objects from segmentation...\n",
      "[INFO][2022/11/11 11:05:51 am] Found intensity_image data\n"
     ]
    },
    {
     "data": {
      "application/vnd.jupyter.widget-view+json": {
       "model_id": "73d3dafba2bc4ab5974352fd08512ca8",
       "version_major": 2,
       "version_minor": 0
      },
      "text/plain": [
       "  0%|          | 0/2 [00:00<?, ?it/s]"
      ]
     },
     "metadata": {},
     "output_type": "display_data"
    },
    {
     "name": "stderr",
     "output_type": "stream",
     "text": [
      "[INFO][2022/11/11 11:06:09 am] Objects are of type: <class 'dict'>\n",
      "[INFO][2022/11/11 11:06:09 am] ...Found 2580 objects in 2 frames.\n"
     ]
    }
   ],
   "source": [
    "objects = btrack.utils.segmentation_to_objects(\n",
    "    masks[9:11], \n",
    "    image[9:11],\n",
    "#     properties = tuple(FEATURES),\n",
    "    use_weighted_centroid = False, \n",
    "    track_progress=True\n",
    ")"
   ]
  },
  {
   "cell_type": "code",
   "execution_count": 73,
   "id": "a3862902",
   "metadata": {},
   "outputs": [
    {
     "name": "stderr",
     "output_type": "stream",
     "text": [
      "[INFO][2022/11/11 11:06:30 am] Localizing objects from segmentation...\n"
     ]
    },
    {
     "data": {
      "application/vnd.jupyter.widget-view+json": {
       "model_id": "819e56ef6a964d65ba23f4d588eded78",
       "version_major": 2,
       "version_minor": 0
      },
      "text/plain": [
       "  0%|          | 0/2 [00:00<?, ?it/s]"
      ]
     },
     "metadata": {},
     "output_type": "display_data"
    },
    {
     "name": "stderr",
     "output_type": "stream",
     "text": [
      "[INFO][2022/11/11 11:06:39 am] Objects are of type: <class 'dict'>\n",
      "[INFO][2022/11/11 11:06:39 am] ...Found 2580 objects in 2 frames.\n"
     ]
    }
   ],
   "source": [
    "objects = btrack.utils.segmentation_to_objects(\n",
    "    masks[9:11], \n",
    "#     image[9:11],\n",
    "#     properties = tuple(FEATURES),\n",
    "#     use_weighted_centroid = False, \n",
    "    track_progress=True\n",
    ")"
   ]
  },
  {
   "cell_type": "code",
   "execution_count": 110,
   "id": "9ff162a8",
   "metadata": {},
   "outputs": [
    {
     "data": {
      "text/html": [
       "<table border=\"1\" class=\"dataframe\">\n",
       "  <thead>\n",
       "    <tr style=\"text-align: right;\">\n",
       "      <th></th>\n",
       "      <th>ID</th>\n",
       "      <th>x</th>\n",
       "      <th>y</th>\n",
       "      <th>z</th>\n",
       "      <th>t</th>\n",
       "      <th>dummy</th>\n",
       "      <th>states</th>\n",
       "      <th>label</th>\n",
       "    </tr>\n",
       "  </thead>\n",
       "  <tbody>\n",
       "    <tr>\n",
       "      <th>0</th>\n",
       "      <td>0</td>\n",
       "      <td>26.941608</td>\n",
       "      <td>89.122571</td>\n",
       "      <td>0.0</td>\n",
       "      <td>0</td>\n",
       "      <td>False</td>\n",
       "      <td>7</td>\n",
       "      <td>5</td>\n",
       "    </tr>\n",
       "  </tbody>\n",
       "</table>"
      ],
      "text/plain": [
       "{'ID': 0, 'x': 26.941608102521702, 'y': 89.12257131045887, 'z': 0.0, 't': 0, 'dummy': False, 'states': 7, 'label': 5}"
      ]
     },
     "execution_count": 110,
     "metadata": {},
     "output_type": "execute_result"
    }
   ],
   "source": [
    "objects[0]"
   ]
  },
  {
   "cell_type": "code",
   "execution_count": 112,
   "id": "1d7fbc51",
   "metadata": {},
   "outputs": [],
   "source": [
    "x, y = [], []\n",
    "for obj in objects:\n",
    "    if obj.t == 0:\n",
    "        x.append(obj.x)\n",
    "        y.append(obj.y)"
   ]
  },
  {
   "cell_type": "code",
   "execution_count": 114,
   "id": "cc475007",
   "metadata": {},
   "outputs": [
    {
     "data": {
      "text/plain": [
       "<matplotlib.collections.PathCollection at 0x7f52b1117400>"
      ]
     },
     "execution_count": 114,
     "metadata": {},
     "output_type": "execute_result"
    },
    {
     "data": {
      "image/png": "[encoded data removed]",
      "text/plain": [
       "<Figure size 1080x504 with 1 Axes>"
      ]
     },
     "metadata": {
      "needs_background": "light"
     },
     "output_type": "display_data"
    }
   ],
   "source": [
    "plt.scatter(x, y, marker='1', s = 1000)\n",
    "# plt.xlim(0,5000)\n",
    "# plt.ylim(0,1000)"
   ]
  },
  {
   "cell_type": "markdown",
   "id": "5fd57a1b",
   "metadata": {},
   "source": [
    "##### Digging into the localisation code"
   ]
  },
  {
   "cell_type": "code",
   "execution_count": 145,
   "id": "24ed1e62",
   "metadata": {},
   "outputs": [
    {
     "data": {
      "text/plain": [
       "<module 'btrack' from '/home/dayn/analysis/BayesianTracker/btrack/__init__.py'>"
      ]
     },
     "execution_count": 145,
     "metadata": {},
     "output_type": "execute_result"
    }
   ],
   "source": [
    "from importlib import reload  # Python 3.4+\n",
    "reload(btrack)"
   ]
  },
  {
   "cell_type": "code",
   "execution_count": 93,
   "id": "aacca101",
   "metadata": {},
   "outputs": [],
   "source": [
    "from btrack import _localization as loc"
   ]
  },
  {
   "cell_type": "code",
   "execution_count": 94,
   "id": "4af1cd58",
   "metadata": {},
   "outputs": [
    {
     "name": "stderr",
     "output_type": "stream",
     "text": [
      "[INFO][2022/11/11 11:13:34 am] Localizing objects from segmentation...\n"
     ]
    },
    {
     "data": {
      "application/vnd.jupyter.widget-view+json": {
       "model_id": "25bcfab893da4543b834d5d092054dd2",
       "version_major": 2,
       "version_minor": 0
      },
      "text/plain": [
       "  0%|          | 0/2 [00:00<?, ?it/s]"
      ]
     },
     "metadata": {},
     "output_type": "display_data"
    },
    {
     "name": "stderr",
     "output_type": "stream",
     "text": [
      "[INFO][2022/11/11 11:13:44 am] Objects are of type: <class 'dict'>\n",
      "[INFO][2022/11/11 11:13:44 am] ...Found 2580 objects in 2 frames.\n"
     ]
    },
    {
     "data": {
      "text/plain": [
       "[{'ID': 0, 'x': 26.941608102521702, 'y': 89.12257131045887, 'z': 0.0, 't': 0, 'dummy': False, 'states': 7, 'label': 5},\n",
       " {'ID': 1, 'x': 269.2715318869165, 'y': 50.92888450580758, 'z': 0.0, 't': 0, 'dummy': False, 'states': 7, 'label': 5},\n",
       " {'ID': 2, 'x': 1166.5019578209797, 'y': 52.28474273545373, 'z': 0.0, 't': 0, 'dummy': False, 'states': 7, 'label': 5},\n",
       " {'ID': 3, 'x': 1740.7406577624588, 'y': 94.03587534108861, 'z': 0.0, 't': 0, 'dummy': False, 'states': 7, 'label': 5},\n",
       " {'ID': 4, 'x': 3619.2556727022693, 'y': 42.697685079074034, 'z': 0.0, 't': 0, 'dummy': False, 'states': 7, 'label': 5},\n",
       " {'ID': 5, 'x': 3866.0861122453607, 'y': 71.81929132072048, 'z': 0.0, 't': 0, 'dummy': False, 'states': 7, 'label': 5},\n",
       " {'ID': 6, 'x': 5066.075011633317, 'y': 89.29490460679386, 'z': 0.0, 't': 0, 'dummy': False, 'states': 7, 'label': 5},\n",
       " {'ID': 7, 'x': 429.09956532155934, 'y': 183.31125714481294, 'z': 0.0, 't': 0, 'dummy': False, 'states': 7, 'label': 5},\n",
       " {'ID': 8, 'x': 2266.2964939392477, 'y': 167.84036799150047, 'z': 0.0, 't': 0, 'dummy': False, 'states': 7, 'label': 5},\n",
       " {'ID': 9, 'x': 2648.9361399111312, 'y': 207.8803121795602, 'z': 0.0, 't': 0, 'dummy': False, 'states': 7, 'label': 5},\n",
       " {'ID': 10, 'x': 1424.2935550935551, 'y': 211.9861861861862, 'z': 0.0, 't': 0, 'dummy': False, 'states': 7, 'label': 5},\n",
       " {'ID': 11, 'x': 505.32297687861274, 'y': 337.7205563583815, 'z': 0.0, 't': 0, 'dummy': False, 'states': 7, 'label': 5},\n",
       " {'ID': 12, 'x': 4249.628791573198, 'y': 231.54966026203712, 'z': 0.0, 't': 0, 'dummy': False, 'states': 7, 'label': 5},\n",
       " {'ID': 13, 'x': 262.8007689139091, 'y': 248.38743191908097, 'z': 0.0, 't': 0, 'dummy': False, 'states': 7, 'label': 5},\n",
       " {'ID': 14, 'x': 2997.2337402885682, 'y': 228.31431742508323, 'z': 0.0, 't': 0, 'dummy': False, 'states': 7, 'label': 5},\n",
       " {'ID': 15, 'x': 838.8836811231849, 'y': 312.1353976343879, 'z': 0.0, 't': 0, 'dummy': False, 'states': 7, 'label': 5},\n",
       " {'ID': 16, 'x': 4619.425186948794, 'y': 352.2042017370309, 'z': 0.0, 't': 0, 'dummy': False, 'states': 7, 'label': 5},\n",
       " {'ID': 17, 'x': 2513.2850460666195, 'y': 244.55209071580438, 'z': 0.0, 't': 0, 'dummy': False, 'states': 7, 'label': 5},\n",
       " {'ID': 18, 'x': 5371.692050668263, 'y': 275.765360063834, 'z': 0.0, 't': 0, 'dummy': False, 'states': 7, 'label': 5},\n",
       " {'ID': 19, 'x': 619.4669764628245, 'y': 437.8773372195337, 'z': 0.0, 't': 0, 'dummy': False, 'states': 7, 'label': 5},\n",
       " {'ID': 20, 'x': 5689.392053155268, 'y': 307.21212521900105, 'z': 0.0, 't': 0, 'dummy': False, 'states': 7, 'label': 5},\n",
       " {'ID': 21, 'x': 5640.438827393261, 'y': 416.8896241333171, 'z': 0.0, 't': 0, 'dummy': False, 'states': 7, 'label': 5},\n",
       " {'ID': 22, 'x': 4447.891183760179, 'y': 325.98080176246117, 'z': 0.0, 't': 0, 'dummy': False, 'states': 7, 'label': 5},\n",
       " {'ID': 23, 'x': 5170.429268865157, 'y': 357.3464382114775, 'z': 0.0, 't': 0, 'dummy': False, 'states': 7, 'label': 5},\n",
       " {'ID': 24, 'x': 1898.6402203856749, 'y': 346.58446280991734, 'z': 0.0, 't': 0, 'dummy': False, 'states': 7, 'label': 5},\n",
       " {'ID': 25, 'x': 4176.540502861615, 'y': 389.34914151543313, 'z': 0.0, 't': 0, 'dummy': False, 'states': 7, 'label': 5},\n",
       " {'ID': 26, 'x': 2161.048615238322, 'y': 428.96869923531045, 'z': 0.0, 't': 0, 'dummy': False, 'states': 7, 'label': 5},\n",
       " {'ID': 27, 'x': 1361.2649366100309, 'y': 423.59653492954607, 'z': 0.0, 't': 0, 'dummy': False, 'states': 7, 'label': 5},\n",
       " {'ID': 28, 'x': 128.29896936812793, 'y': 416.9894640140097, 'z': 0.0, 't': 0, 'dummy': False, 'states': 7, 'label': 5},\n",
       " {'ID': 29, 'x': 2524.6198867713897, 'y': 476.4256438880472, 'z': 0.0, 't': 0, 'dummy': False, 'states': 7, 'label': 5},\n",
       " {'ID': 30, 'x': 1571.5750396873855, 'y': 447.63280009769204, 'z': 0.0, 't': 0, 'dummy': False, 'states': 7, 'label': 5},\n",
       " {'ID': 31, 'x': 2736.9155606071718, 'y': 436.2559213903351, 'z': 0.0, 't': 0, 'dummy': False, 'states': 7, 'label': 5},\n",
       " {'ID': 32, 'x': 3411.9511481108775, 'y': 419.8579269966151, 'z': 0.0, 't': 0, 'dummy': False, 'states': 7, 'label': 5},\n",
       " {'ID': 33, 'x': 4809.811429461227, 'y': 523.9750077857366, 'z': 0.0, 't': 0, 'dummy': False, 'states': 7, 'label': 5},\n",
       " {'ID': 34, 'x': 5089.872584187408, 'y': 569.6158491947291, 'z': 0.0, 't': 0, 'dummy': False, 'states': 7, 'label': 5},\n",
       " {'ID': 35, 'x': 2896.6491839740315, 'y': 524.1801568933906, 'z': 0.0, 't': 0, 'dummy': False, 'states': 7, 'label': 5},\n",
       " {'ID': 36, 'x': 1916.7482337491792, 'y': 566.9224950755089, 'z': 0.0, 't': 0, 'dummy': False, 'states': 7, 'label': 5},\n",
       " {'ID': 37, 'x': 702.5342502265579, 'y': 842.2625939549016, 'z': 0.0, 't': 0, 'dummy': False, 'states': 7, 'label': 5},\n",
       " {'ID': 38, 'x': 1447.6832445233865, 'y': 596.8512926781133, 'z': 0.0, 't': 0, 'dummy': False, 'states': 7, 'label': 5},\n",
       " {'ID': 39, 'x': 830.7787234978447, 'y': 652.6600466261987, 'z': 0.0, 't': 0, 'dummy': False, 'states': 7, 'label': 5},\n",
       " {'ID': 40, 'x': 3372.632458975634, 'y': 589.3835156638488, 'z': 0.0, 't': 0, 'dummy': False, 'states': 7, 'label': 5},\n",
       " {'ID': 41, 'x': 2328.55620514283, 'y': 610.3668900613147, 'z': 0.0, 't': 0, 'dummy': False, 'states': 7, 'label': 5},\n",
       " {'ID': 42, 'x': 3610.8485714285716, 'y': 648.4975824175824, 'z': 0.0, 't': 0, 'dummy': False, 'states': 7, 'label': 5},\n",
       " {'ID': 43, 'x': 5605.581558101976, 'y': 694.4662385603323, 'z': 0.0, 't': 0, 'dummy': False, 'states': 7, 'label': 5},\n",
       " {'ID': 44, 'x': 5904.092493876963, 'y': 641.7051577582481, 'z': 0.0, 't': 0, 'dummy': False, 'states': 7, 'label': 5},\n",
       " {'ID': 45, 'x': 4164.492732763909, 'y': 659.4019159076967, 'z': 0.0, 't': 0, 'dummy': False, 'states': 7, 'label': 5},\n",
       " {'ID': 46, 'x': 4982.916952856697, 'y': 726.1582607214827, 'z': 0.0, 't': 0, 'dummy': False, 'states': 7, 'label': 5},\n",
       " {'ID': 47, 'x': 166.73459560030645, 'y': 789.2727737039875, 'z': 0.0, 't': 0, 'dummy': False, 'states': 7, 'label': 5},\n",
       " {'ID': 48, 'x': 6012.8030284964825, 'y': 686.0790509121259, 'z': 0.0, 't': 0, 'dummy': False, 'states': 7, 'label': 5},\n",
       " {'ID': 49, 'x': 5296.1156058403385, 'y': 785.3522533341761, 'z': 0.0, 't': 0, 'dummy': False, 'states': 7, 'label': 5},\n",
       " {'ID': 50, 'x': 5390.630489696433, 'y': 791.8895191668513, 'z': 0.0, 't': 0, 'dummy': False, 'states': 7, 'label': 5},\n",
       " {'ID': 51, 'x': 5747.304587809365, 'y': 786.4903851860645, 'z': 0.0, 't': 0, 'dummy': False, 'states': 7, 'label': 5},\n",
       " {'ID': 52, 'x': 2470.8206862881852, 'y': 803.2615776258892, 'z': 0.0, 't': 0, 'dummy': False, 'states': 7, 'label': 5},\n",
       " {'ID': 53, 'x': 3252.8467053200657, 'y': 829.935203322103, 'z': 0.0, 't': 0, 'dummy': False, 'states': 7, 'label': 5},\n",
       " {'ID': 54, 'x': 4402.761429085673, 'y': 846.9328653707703, 'z': 0.0, 't': 0, 'dummy': False, 'states': 7, 'label': 5},\n",
       " {'ID': 55, 'x': 2158.8129320519306, 'y': 790.6368234699039, 'z': 0.0, 't': 0, 'dummy': False, 'states': 7, 'label': 5},\n",
       " {'ID': 56, 'x': 3609.934769909781, 'y': 874.5330044784838, 'z': 0.0, 't': 0, 'dummy': False, 'states': 7, 'label': 5},\n",
       " {'ID': 57, 'x': 5168.846000455788, 'y': 871.1150865998177, 'z': 0.0, 't': 0, 'dummy': False, 'states': 7, 'label': 5},\n",
       " {'ID': 58, 'x': 335.8174871602155, 'y': 911.0777485489999, 'z': 0.0, 't': 0, 'dummy': False, 'states': 7, 'label': 5},\n",
       " {'ID': 59, 'x': 5970.073642455898, 'y': 994.1622154331329, 'z': 0.0, 't': 0, 'dummy': False, 'states': 7, 'label': 5},\n",
       " {'ID': 60, 'x': 4824.676932247169, 'y': 914.1740015895092, 'z': 0.0, 't': 0, 'dummy': False, 'states': 7, 'label': 5},\n",
       " {'ID': 61, 'x': 3759.84376798093, 'y': 1014.1870838699072, 'z': 0.0, 't': 0, 'dummy': False, 'states': 7, 'label': 5},\n",
       " {'ID': 62, 'x': 4562.918950762743, 'y': 987.7527905246186, 'z': 0.0, 't': 0, 'dummy': False, 'states': 7, 'label': 5},\n",
       " {'ID': 63, 'x': 4937.912708079578, 'y': 1075.1816686967113, 'z': 0.0, 't': 0, 'dummy': False, 'states': 7, 'label': 5},\n",
       " {'ID': 64, 'x': 1376.4558962582737, 'y': 1026.3678463685892, 'z': 0.0, 't': 0, 'dummy': False, 'states': 7, 'label': 5},\n",
       " {'ID': 65, 'x': 2780.9178640981104, 'y': 1069.0064740249486, 'z': 0.0, 't': 0, 'dummy': False, 'states': 7, 'label': 5},\n",
       " {'ID': 66, 'x': 5256.598589775875, 'y': 988.1596575169982, 'z': 0.0, 't': 0, 'dummy': False, 'states': 7, 'label': 5},\n",
       " {'ID': 67, 'x': 59.95593400310381, 'y': 1046.9812137547988, 'z': 0.0, 't': 0, 'dummy': False, 'states': 7, 'label': 5},\n",
       " {'ID': 68, 'x': 2092.2994626282366, 'y': 986.3361016121153, 'z': 0.0, 't': 0, 'dummy': False, 'states': 7, 'label': 5},\n",
       " {'ID': 69, 'x': 4728.317645425517, 'y': 1078.5676801332777, 'z': 0.0, 't': 0, 'dummy': False, 'states': 7, 'label': 5},\n",
       " {'ID': 70, 'x': 5663.520491260106, 'y': 1121.8443459437171, 'z': 0.0, 't': 0, 'dummy': False, 'states': 7, 'label': 5},\n",
       " {'ID': 71, 'x': 2163.2602124450855, 'y': 1067.5838961379582, 'z': 0.0, 't': 0, 'dummy': False, 'states': 7, 'label': 5},\n",
       " {'ID': 72, 'x': 3404.2576918150376, 'y': 1051.4531318047905, 'z': 0.0, 't': 0, 'dummy': False, 'states': 7, 'label': 5},\n",
       " {'ID': 73, 'x': 870.1809337554072, 'y': 1236.7588710078394, 'z': 0.0, 't': 0, 'dummy': False, 'states': 7, 'label': 5},\n",
       " {'ID': 74, 'x': 1652.6288811017846, 'y': 1081.8463042946785, 'z': 0.0, 't': 0, 'dummy': False, 'states': 7, 'label': 5},\n",
       " {'ID': 75, 'x': 5180.793908123479, 'y': 1139.6223505614025, 'z': 0.0, 't': 0, 'dummy': False, 'states': 7, 'label': 5},\n",
       " {'ID': 76, 'x': 3097.0146337475476, 'y': 1111.6523463047743, 'z': 0.0, 't': 0, 'dummy': False, 'states': 7, 'label': 5},\n",
       " {'ID': 77, 'x': 2498.8786865308603, 'y': 1103.7380011293055, 'z': 0.0, 't': 0, 'dummy': False, 'states': 7, 'label': 5},\n",
       " {'ID': 78, 'x': 988.997044256271, 'y': 1248.5631091228631, 'z': 0.0, 't': 0, 'dummy': False, 'states': 7, 'label': 5},\n",
       " {'ID': 79, 'x': 185.652424508207, 'y': 1120.0346238984255, 'z': 0.0, 't': 0, 'dummy': False, 'states': 7, 'label': 5},\n",
       " {'ID': 80, 'x': 5352.318925281059, 'y': 1205.9122123462803, 'z': 0.0, 't': 0, 'dummy': False, 'states': 7, 'label': 5},\n",
       " {'ID': 81, 'x': 3836.9973431876915, 'y': 1219.8936792019902, 'z': 0.0, 't': 0, 'dummy': False, 'states': 7, 'label': 5},\n",
       " {'ID': 82, 'x': 1911.3115206511063, 'y': 1195.5838439590252, 'z': 0.0, 't': 0, 'dummy': False, 'states': 7, 'label': 5},\n",
       " {'ID': 83, 'x': 2259.5378844711176, 'y': 1224.54119412206, 'z': 0.0, 't': 0, 'dummy': False, 'states': 7, 'label': 5},\n",
       " {'ID': 84, 'x': 1578.0059250178772, 'y': 1215.435693124936, 'z': 0.0, 't': 0, 'dummy': False, 'states': 7, 'label': 5},\n",
       " {'ID': 85, 'x': 1312.9660001483899, 'y': 1279.0875129841222, 'z': 0.0, 't': 0, 'dummy': False, 'states': 7, 'label': 5},\n",
       " {'ID': 86, 'x': 2798.1512407636783, 'y': 1295.1644812710888, 'z': 0.0, 't': 0, 'dummy': False, 'states': 7, 'label': 5},\n",
       " {'ID': 87, 'x': 1461.6805771556938, 'y': 1301.3973993433558, 'z': 0.0, 't': 0, 'dummy': False, 'states': 7, 'label': 5},\n",
       " {'ID': 88, 'x': 5020.837683284458, 'y': 1255.065835777126, 'z': 0.0, 't': 0, 'dummy': False, 'states': 7, 'label': 5},\n",
       " {'ID': 89, 'x': 5534.079263094422, 'y': 1385.4523319401992, 'z': 0.0, 't': 0, 'dummy': False, 'states': 7, 'label': 5},\n",
       " {'ID': 90, 'x': 2109.208990894547, 'y': 1438.9246281775268, 'z': 0.0, 't': 0, 'dummy': False, 'states': 7, 'label': 5},\n",
       " {'ID': 91, 'x': 4749.540190723082, 'y': 1396.246273493195, 'z': 0.0, 't': 0, 'dummy': False, 'states': 7, 'label': 5},\n",
       " {'ID': 92, 'x': 2485.5176545818504, 'y': 1356.1736821619218, 'z': 0.0, 't': 0, 'dummy': False, 'states': 7, 'label': 5},\n",
       " {'ID': 93, 'x': 3935.8115547407865, 'y': 1338.8535842342221, 'z': 0.0, 't': 0, 'dummy': False, 'states': 7, 'label': 5},\n",
       " {'ID': 94, 'x': 2849.208540950873, 'y': 1494.806947167707, 'z': 0.0, 't': 0, 'dummy': False, 'states': 7, 'label': 5},\n",
       " {'ID': 95, 'x': 5195.839738385205, 'y': 1369.8323410013531, 'z': 0.0, 't': 0, 'dummy': False, 'states': 7, 'label': 5},\n",
       " {'ID': 96, 'x': 2175.0, 'y': 1263.0, 'z': 0.0, 't': 0, 'dummy': False, 'states': 7, 'label': 5},\n",
       " {'ID': 97, 'x': 2244.7158299088796, 'y': 1351.5123280328748, 'z': 0.0, 't': 0, 'dummy': False, 'states': 7, 'label': 5},\n",
       " {'ID': 98, 'x': 3610.5226055474104, 'y': 1465.041022111846, 'z': 0.0, 't': 0, 'dummy': False, 'states': 7, 'label': 5},\n",
       " {'ID': 99, 'x': 4567.955660377358, 'y': 1465.8196226415093, 'z': 0.0, 't': 0, 'dummy': False, 'states': 7, 'label': 5},\n",
       " {'ID': 100, 'x': 1631.3567516387473, 'y': 1521.9072396212673, 'z': 0.0, 't': 0, 'dummy': False, 'states': 7, 'label': 5},\n",
       " {'ID': 101, 'x': 51.19342086686432, 'y': 1356.882112099393, 'z': 0.0, 't': 0, 'dummy': False, 'states': 7, 'label': 5},\n",
       " {'ID': 102, 'x': 4050.949757265412, 'y': 1428.0016293143578, 'z': 0.0, 't': 0, 'dummy': False, 'states': 7, 'label': 5},\n",
       " {'ID': 103, 'x': 4264.278091347939, 'y': 1476.8340883772744, 'z': 0.0, 't': 0, 'dummy': False, 'states': 7, 'label': 5},\n",
       " {'ID': 104, 'x': 3669.54536900121, 'y': 1607.9555197084435, 'z': 0.0, 't': 0, 'dummy': False, 'states': 7, 'label': 5},\n",
       " {'ID': 105, 'x': 2345.60716762277, 'y': 1516.8366008951648, 'z': 0.0, 't': 0, 'dummy': False, 'states': 7, 'label': 5},\n",
       " {'ID': 106, 'x': 5430.164804309208, 'y': 1537.8765686780127, 'z': 0.0, 't': 0, 'dummy': False, 'states': 7, 'label': 5},\n",
       " {'ID': 107, 'x': 1052.8189777731543, 'y': 1560.9587364333022, 'z': 0.0, 't': 0, 'dummy': False, 'states': 7, 'label': 5},\n",
       " {'ID': 108, 'x': 3438.8161994890434, 'y': 1538.3852686121406, 'z': 0.0, 't': 0, 'dummy': False, 'states': 7, 'label': 5},\n",
       " {'ID': 109, 'x': 725.8966197521953, 'y': 1582.8777577288583, 'z': 0.0, 't': 0, 'dummy': False, 'states': 7, 'label': 5},\n",
       " {'ID': 110, 'x': 6013.083570600021, 'y': 1635.2073710850996, 'z': 0.0, 't': 0, 'dummy': False, 'states': 7, 'label': 5},\n",
       " {'ID': 111, 'x': 2463.8770572207086, 'y': 1641.601162579473, 'z': 0.0, 't': 0, 'dummy': False, 'states': 7, 'label': 5},\n",
       " {'ID': 112, 'x': 5266.7064111559375, 'y': 1585.1661989124716, 'z': 0.0, 't': 0, 'dummy': False, 'states': 7, 'label': 5},\n",
       " {'ID': 113, 'x': 3960.0403424372134, 'y': 1575.5335429372324, 'z': 0.0, 't': 0, 'dummy': False, 'states': 7, 'label': 5},\n",
       " {'ID': 114, 'x': 2871.856769451487, 'y': 1680.2587308138277, 'z': 0.0, 't': 0, 'dummy': False, 'states': 7, 'label': 5},\n",
       " {'ID': 115, 'x': 3678.050402254676, 'y': 1840.8224032795285, 'z': 0.0, 't': 0, 'dummy': False, 'states': 7, 'label': 5},\n",
       " {'ID': 116, 'x': 1526.3864602173305, 'y': 1797.9915596923845, 'z': 0.0, 't': 0, 'dummy': False, 'states': 7, 'label': 5},\n",
       " {'ID': 117, 'x': 3285.6099169863405, 'y': 1879.8491749375876, 'z': 0.0, 't': 0, 'dummy': False, 'states': 7, 'label': 5},\n",
       " {'ID': 118, 'x': 1066.291490961394, 'y': 1705.4534667058938, 'z': 0.0, 't': 0, 'dummy': False, 'states': 7, 'label': 5},\n",
       " {'ID': 119, 'x': 4053.312113757725, 'y': 1736.2828943421132, 'z': 0.0, 't': 0, 'dummy': False, 'states': 7, 'label': 5},\n",
       " {'ID': 120, 'x': 5317.3548463134075, 'y': 1698.0926833867622, 'z': 0.0, 't': 0, 'dummy': False, 'states': 7, 'label': 5},\n",
       " {'ID': 121, 'x': 812.1572374039283, 'y': 1726.968830059778, 'z': 0.0, 't': 0, 'dummy': False, 'states': 7, 'label': 5},\n",
       " {'ID': 122, 'x': 120.16261986867589, 'y': 1809.1149085927536, 'z': 0.0, 't': 0, 'dummy': False, 'states': 7, 'label': 5},\n",
       " {'ID': 123, 'x': 4301.370442422341, 'y': 1790.660872293693, 'z': 0.0, 't': 0, 'dummy': False, 'states': 7, 'label': 5},\n",
       " {'ID': 124, 'x': 380.43200699606473, 'y': 1754.8793178836904, 'z': 0.0, 't': 0, 'dummy': False, 'states': 7, 'label': 5},\n",
       " {'ID': 125, 'x': 5614.15594622544, 'y': 1759.4565667011375, 'z': 0.0, 't': 0, 'dummy': False, 'states': 7, 'label': 5},\n",
       " {'ID': 126, 'x': 5432.384895494109, 'y': 1978.5387974421221, 'z': 0.0, 't': 0, 'dummy': False, 'states': 7, 'label': 5},\n",
       " {'ID': 127, 'x': 5891.520412556054, 'y': 1839.7607533632288, 'z': 0.0, 't': 0, 'dummy': False, 'states': 7, 'label': 5},\n",
       " {'ID': 128, 'x': 4926.93601056486, 'y': 1797.549612821898, 'z': 0.0, 't': 0, 'dummy': False, 'states': 7, 'label': 5},\n",
       " {'ID': 129, 'x': 2865.765718788773, 'y': 1855.3767479293115, 'z': 0.0, 't': 0, 'dummy': False, 'states': 7, 'label': 5},\n",
       " {'ID': 130, 'x': 4250.036104864299, 'y': 1919.2470657096208, 'z': 0.0, 't': 0, 'dummy': False, 'states': 7, 'label': 5},\n",
       " {'ID': 131, 'x': 4684.823277729636, 'y': 1914.2878032928943, 'z': 0.0, 't': 0, 'dummy': False, 'states': 7, 'label': 5},\n",
       " {'ID': 132, 'x': 5688.505991285403, 'y': 1886.2291542879777, 'z': 0.0, 't': 0, 'dummy': False, 'states': 7, 'label': 5},\n",
       " {'ID': 133, 'x': 2147.937146515847, 'y': 2012.9652118237113, 'z': 0.0, 't': 0, 'dummy': False, 'states': 7, 'label': 5},\n",
       " {'ID': 134, 'x': 3415.7825900946245, 'y': 1992.4640628145762, 'z': 0.0, 't': 0, 'dummy': False, 'states': 7, 'label': 5},\n",
       " {'ID': 135, 'x': 873.6933155584283, 'y': 1978.9398077078451, 'z': 0.0, 't': 0, 'dummy': False, 'states': 7, 'label': 5},\n",
       " {'ID': 136, 'x': 3751.6461416257243, 'y': 1944.0712247359595, 'z': 0.0, 't': 0, 'dummy': False, 'states': 7, 'label': 5},\n",
       " {'ID': 137, 'x': 5082.127861901878, 'y': 1918.8028770442156, 'z': 0.0, 't': 0, 'dummy': False, 'states': 7, 'label': 5},\n",
       " {'ID': 138, 'x': 1134.4681593708085, 'y': 1991.9901536398, 'z': 0.0, 't': 0, 'dummy': False, 'states': 7, 'label': 5},\n",
       " {'ID': 139, 'x': 1857.2864289558129, 'y': 1956.5484224582942, 'z': 0.0, 't': 0, 'dummy': False, 'states': 7, 'label': 5},\n",
       " {'ID': 140, 'x': 336.6152796725784, 'y': 1921.5207561878776, 'z': 0.0, 't': 0, 'dummy': False, 'states': 7, 'label': 5},\n",
       " {'ID': 141, 'x': 4134.255591162085, 'y': 1997.8276606510374, 'z': 0.0, 't': 0, 'dummy': False, 'states': 7, 'label': 5},\n",
       " {'ID': 142, 'x': 4026.5744540910287, 'y': 2048.67742041568, 'z': 0.0, 't': 0, 'dummy': False, 'states': 7, 'label': 5},\n",
       " {'ID': 143, 'x': 2504.337209985316, 'y': 1970.5561233480175, 'z': 0.0, 't': 0, 'dummy': False, 'states': 7, 'label': 5},\n",
       " {'ID': 144, 'x': 3122.2463537523204, 'y': 1951.38919826748, 'z': 0.0, 't': 0, 'dummy': False, 'states': 7, 'label': 5},\n",
       " {'ID': 145, 'x': 5652.088163328917, 'y': 2048.0834878828023, 'z': 0.0, 't': 0, 'dummy': False, 'states': 7, 'label': 5},\n",
       " {'ID': 146, 'x': 3776.1744148244475, 'y': 2046.8341460771564, 'z': 0.0, 't': 0, 'dummy': False, 'states': 7, 'label': 5},\n",
       " {'ID': 147, 'x': 1358.0432657724368, 'y': 2048.879744425168, 'z': 0.0, 't': 0, 'dummy': False, 'states': 7, 'label': 5},\n",
       " {'ID': 148, 'x': 2006.0140287460194, 'y': 2056.1343919442293, 'z': 0.0, 't': 0, 'dummy': False, 'states': 7, 'label': 5},\n",
       " {'ID': 149, 'x': 2884.0046008349664, 'y': 2059.486041293914, 'z': 0.0, 't': 0, 'dummy': False, 'states': 7, 'label': 5},\n",
       " {'ID': 150, 'x': 232.97763361529817, 'y': 2074.3724268057413, 'z': 0.0, 't': 0, 'dummy': False, 'states': 7, 'label': 5},\n",
       " {'ID': 151, 'x': 2682.9652207203226, 'y': 2137.3038843242925, 'z': 0.0, 't': 0, 'dummy': False, 'states': 7, 'label': 5},\n",
       " {'ID': 152, 'x': 5097.367828284404, 'y': 2073.4078245406045, 'z': 0.0, 't': 0, 'dummy': False, 'states': 7, 'label': 5},\n",
       " {'ID': 153, 'x': 774.5230422441142, 'y': 2082.4934045750542, 'z': 0.0, 't': 0, 'dummy': False, 'states': 7, 'label': 5},\n",
       " {'ID': 154, 'x': 1685.328514985063, 'y': 2222.3849089332175, 'z': 0.0, 't': 0, 'dummy': False, 'states': 7, 'label': 5},\n",
       " {'ID': 155, 'x': 3230.1407477594853, 'y': 2088.3844210193847, 'z': 0.0, 't': 0, 'dummy': False, 'states': 7, 'label': 5},\n",
       " {'ID': 156, 'x': 2590.08470876371, 'y': 2174.7697263337236, 'z': 0.0, 't': 0, 'dummy': False, 'states': 7, 'label': 5},\n",
       " {'ID': 157, 'x': 5185.831109685696, 'y': 2198.4555805003206, 'z': 0.0, 't': 0, 'dummy': False, 'states': 7, 'label': 5},\n",
       " {'ID': 158, 'x': 3015.6949075339344, 'y': 2115.3838024961283, 'z': 0.0, 't': 0, 'dummy': False, 'states': 7, 'label': 5},\n",
       " {'ID': 159, 'x': 2368.239038097105, 'y': 2282.031235705417, 'z': 0.0, 't': 0, 'dummy': False, 'states': 7, 'label': 5},\n",
       " {'ID': 160, 'x': 3546.9642233856894, 'y': 2231.0053883071555, 'z': 0.0, 't': 0, 'dummy': False, 'states': 7, 'label': 5},\n",
       " {'ID': 161, 'x': 1822.4272924187726, 'y': 2191.6112635379063, 'z': 0.0, 't': 0, 'dummy': False, 'states': 7, 'label': 5},\n",
       " {'ID': 162, 'x': 1561.8474601255932, 'y': 2297.662873315841, 'z': 0.0, 't': 0, 'dummy': False, 'states': 7, 'label': 5},\n",
       " {'ID': 163, 'x': 4083.3667960182215, 'y': 2249.6343428378605, 'z': 0.0, 't': 0, 'dummy': False, 'states': 7, 'label': 5},\n",
       " {'ID': 164, 'x': 1258.7955447415666, 'y': 2327.4738495700653, 'z': 0.0, 't': 0, 'dummy': False, 'states': 7, 'label': 5},\n",
       " {'ID': 165, 'x': 4573.317405743309, 'y': 2261.530337956632, 'z': 0.0, 't': 0, 'dummy': False, 'states': 7, 'label': 5},\n",
       " {'ID': 166, 'x': 3318.6970830216906, 'y': 2264.401849459441, 'z': 0.0, 't': 0, 'dummy': False, 'states': 7, 'label': 5},\n",
       " {'ID': 167, 'x': 3006.97432862995, 'y': 2312.844242148384, 'z': 0.0, 't': 0, 'dummy': False, 'states': 7, 'label': 5},\n",
       " {'ID': 168, 'x': 49.25872850442939, 'y': 2292.211360083377, 'z': 0.0, 't': 0, 'dummy': False, 'states': 7, 'label': 5},\n",
       " {'ID': 169, 'x': 3850.537721940901, 'y': 2317.590571117236, 'z': 0.0, 't': 0, 'dummy': False, 'states': 7, 'label': 5},\n",
       " {'ID': 170, 'x': 1937.522110162917, 'y': 2269.6935608999224, 'z': 0.0, 't': 0, 'dummy': False, 'states': 7, 'label': 5},\n",
       " {'ID': 171, 'x': 5642.288928918625, 'y': 2324.5133241836793, 'z': 0.0, 't': 0, 'dummy': False, 'states': 7, 'label': 5},\n",
       " {'ID': 172, 'x': 5892.018467394845, 'y': 2329.4594043107736, 'z': 0.0, 't': 0, 'dummy': False, 'states': 7, 'label': 5},\n",
       " {'ID': 173, 'x': 4232.764656849125, 'y': 2288.997916087802, 'z': 0.0, 't': 0, 'dummy': False, 'states': 7, 'label': 5},\n",
       " {'ID': 174, 'x': 4366.050869769629, 'y': 2301.6725905030557, 'z': 0.0, 't': 0, 'dummy': False, 'states': 7, 'label': 5},\n",
       " {'ID': 175, 'x': 2035.3696885968188, 'y': 2413.6768725263237, 'z': 0.0, 't': 0, 'dummy': False, 'states': 7, 'label': 5},\n",
       " {'ID': 176, 'x': 3701.6158864785516, 'y': 2418.329799380199, 'z': 0.0, 't': 0, 'dummy': False, 'states': 7, 'label': 5},\n",
       " {'ID': 177, 'x': 303.7695921759141, 'y': 2427.2875223727947, 'z': 0.0, 't': 0, 'dummy': False, 'states': 7, 'label': 5},\n",
       " {'ID': 178, 'x': 2159.468581963435, 'y': 2407.8476980590976, 'z': 0.0, 't': 0, 'dummy': False, 'states': 7, 'label': 5},\n",
       " {'ID': 179, 'x': 4460.23824336688, 'y': 2352.6505641964013, 'z': 0.0, 't': 0, 'dummy': False, 'states': 7, 'label': 5},\n",
       " {'ID': 180, 'x': 5551.133464437889, 'y': 2436.0727848792744, 'z': 0.0, 't': 0, 'dummy': False, 'states': 7, 'label': 5},\n",
       " {'ID': 181, 'x': 4663.068822865739, 'y': 2413.113576532531, 'z': 0.0, 't': 0, 'dummy': False, 'states': 7, 'label': 5},\n",
       " {'ID': 182, 'x': 1910.7378656823316, 'y': 2453.991240152058, 'z': 0.0, 't': 0, 'dummy': False, 'states': 7, 'label': 5},\n",
       " {'ID': 183, 'x': 3234.810928460966, 'y': 2422.858067472364, 'z': 0.0, 't': 0, 'dummy': False, 'states': 7, 'label': 5},\n",
       " {'ID': 184, 'x': 5258.997335263349, 'y': 2534.443514162582, 'z': 0.0, 't': 0, 'dummy': False, 'states': 7, 'label': 5},\n",
       " {'ID': 185, 'x': 456.89239634222724, 'y': 2525.651592968391, 'z': 0.0, 't': 0, 'dummy': False, 'states': 7, 'label': 5},\n",
       " {'ID': 186, 'x': 1511.6201136505558, 'y': 2573.730798051705, 'z': 0.0, 't': 0, 'dummy': False, 'states': 7, 'label': 5},\n",
       " {'ID': 187, 'x': 5696.546793309238, 'y': 2714.0670925443387, 'z': 0.0, 't': 0, 'dummy': False, 'states': 7, 'label': 5},\n",
       " {'ID': 188, 'x': 5972.53926936094, 'y': 2544.5137368106707, 'z': 0.0, 't': 0, 'dummy': False, 'states': 7, 'label': 5},\n",
       " {'ID': 189, 'x': 3172.6488172458526, 'y': 2538.9167793756383, 'z': 0.0, 't': 0, 'dummy': False, 'states': 7, 'label': 5},\n",
       " {'ID': 190, 'x': 2728.4284694332887, 'y': 2551.352967425257, 'z': 0.0, 't': 0, 'dummy': False, 'states': 7, 'label': 5},\n",
       " {'ID': 191, 'x': 1395.9351342474752, 'y': 2545.426800229904, 'z': 0.0, 't': 0, 'dummy': False, 'states': 7, 'label': 5},\n",
       " {'ID': 192, 'x': 3608.5669441553937, 'y': 2600.3827417427833, 'z': 0.0, 't': 0, 'dummy': False, 'states': 7, 'label': 5},\n",
       " {'ID': 193, 'x': 4331.070075699057, 'y': 2645.7082959987642, 'z': 0.0, 't': 0, 'dummy': False, 'states': 7, 'label': 5},\n",
       " {'ID': 194, 'x': 3945.635346986381, 'y': 2652.2586875235843, 'z': 0.0, 't': 0, 'dummy': False, 'states': 7, 'label': 5},\n",
       " {'ID': 195, 'x': 2866.867967660998, 'y': 2644.3276275439084, 'z': 0.0, 't': 0, 'dummy': False, 'states': 7, 'label': 5},\n",
       " {'ID': 196, 'x': 5061.080020824401, 'y': 2753.6623843939487, 'z': 0.0, 't': 0, 'dummy': False, 'states': 7, 'label': 5},\n",
       " {'ID': 197, 'x': 5892.283300984832, 'y': 2636.9955430953923, 'z': 0.0, 't': 0, 'dummy': False, 'states': 7, 'label': 5},\n",
       " {'ID': 198, 'x': 5289.611229213098, 'y': 2862.7541059489113, 'z': 0.0, 't': 0, 'dummy': False, 'states': 7, 'label': 5},\n",
       " {'ID': 199, 'x': 1311.2406785582577, 'y': 2733.281613322723, 'z': 0.0, 't': 0, 'dummy': False, 'states': 7, 'label': 5},\n",
       " {'ID': 200, 'x': 4844.690411568409, 'y': 2740.165784204672, 'z': 0.0, 't': 0, 'dummy': False, 'states': 7, 'label': 5},\n",
       " {'ID': 201, 'x': 3226.12521082644, 'y': 2758.6133643884027, 'z': 0.0, 't': 0, 'dummy': False, 'states': 7, 'label': 5},\n",
       " {'ID': 202, 'x': 3049.5927454541165, 'y': 2796.299922171647, 'z': 0.0, 't': 0, 'dummy': False, 'states': 7, 'label': 5},\n",
       " {'ID': 203, 'x': 2875.1633533383347, 'y': 2779.110465116279, 'z': 0.0, 't': 0, 'dummy': False, 'states': 7, 'label': 5},\n",
       " {'ID': 204, 'x': 5929.172057136206, 'y': 2875.23479721303, 'z': 0.0, 't': 0, 'dummy': False, 'states': 7, 'label': 5},\n",
       " {'ID': 205, 'x': 3506.026225042243, 'y': 2856.7408531328665, 'z': 0.0, 't': 0, 'dummy': False, 'states': 7, 'label': 5},\n",
       " {'ID': 206, 'x': 3964.381672323357, 'y': 2825.2164455414995, 'z': 0.0, 't': 0, 'dummy': False, 'states': 7, 'label': 5},\n",
       " {'ID': 207, 'x': 2227.4268224684233, 'y': 2798.7374966665857, 'z': 0.0, 't': 0, 'dummy': False, 'states': 7, 'label': 5},\n",
       " {'ID': 208, 'x': 4309.8132556445735, 'y': 2843.1635833940277, 'z': 0.0, 't': 0, 'dummy': False, 'states': 7, 'label': 5},\n",
       " {'ID': 209, 'x': 4687.0526969237135, 'y': 2851.4599255069666, 'z': 0.0, 't': 0, 'dummy': False, 'states': 7, 'label': 5},\n",
       " {'ID': 210, 'x': 988.1291197329996, 'y': 2823.267973856209, 'z': 0.0, 't': 0, 'dummy': False, 'states': 7, 'label': 5},\n",
       " {'ID': 211, 'x': 840.7558607692528, 'y': 2911.193683789726, 'z': 0.0, 't': 0, 'dummy': False, 'states': 7, 'label': 5},\n",
       " {'ID': 212, 'x': 2412.8438223044886, 'y': 2903.298215846573, 'z': 0.0, 't': 0, 'dummy': False, 'states': 7, 'label': 5},\n",
       " {'ID': 213, 'x': 3677.1449765747006, 'y': 2919.0301405517957, 'z': 0.0, 't': 0, 'dummy': False, 'states': 7, 'label': 5},\n",
       " {'ID': 214, 'x': 281.29438410894153, 'y': 3012.754150019695, 'z': 0.0, 't': 0, 'dummy': False, 'states': 7, 'label': 5},\n",
       " {'ID': 215, 'x': 453.85055838777674, 'y': 3048.7544289793536, 'z': 0.0, 't': 0, 'dummy': False, 'states': 7, 'label': 5},\n",
       " {'ID': 216, 'x': 1324.5410027118492, 'y': 2986.587574799973, 'z': 0.0, 't': 0, 'dummy': False, 'states': 7, 'label': 5},\n",
       " {'ID': 217, 'x': 2668.4442781548987, 'y': 2965.104789138917, 'z': 0.0, 't': 0, 'dummy': False, 'states': 7, 'label': 5},\n",
       " {'ID': 218, 'x': 92.53145340736582, 'y': 3067.858194522428, 'z': 0.0, 't': 0, 'dummy': False, 'states': 7, 'label': 5},\n",
       " {'ID': 219, 'x': 2046.214845907434, 'y': 2968.31301778416, 'z': 0.0, 't': 0, 'dummy': False, 'states': 7, 'label': 5},\n",
       " {'ID': 220, 'x': 653.8176848020046, 'y': 3026.6798663578725, 'z': 0.0, 't': 0, 'dummy': False, 'states': 7, 'label': 5},\n",
       " {'ID': 221, 'x': 3468.5726460447727, 'y': 3058.3537852668383, 'z': 0.0, 't': 0, 'dummy': False, 'states': 7, 'label': 5},\n",
       " {'ID': 222, 'x': 4849.418306909961, 'y': 2976.410708944062, 'z': 0.0, 't': 0, 'dummy': False, 'states': 7, 'label': 5},\n",
       " {'ID': 223, 'x': 4037.3027794935147, 'y': 3014.488779081738, 'z': 0.0, 't': 0, 'dummy': False, 'states': 7, 'label': 5},\n",
       " {'ID': 224, 'x': 1011.5952628607091, 'y': 3185.09498053434, 'z': 0.0, 't': 0, 'dummy': False, 'states': 7, 'label': 5},\n",
       " {'ID': 225, 'x': 5289.439679749121, 'y': 3096.0910386771834, 'z': 0.0, 't': 0, 'dummy': False, 'states': 7, 'label': 5},\n",
       " {'ID': 226, 'x': 1672.4476932405628, 'y': 3293.323573241796, 'z': 0.0, 't': 0, 'dummy': False, 'states': 7, 'label': 5},\n",
       " {'ID': 227, 'x': 2362.072111803093, 'y': 3095.3595458744303, 'z': 0.0, 't': 0, 'dummy': False, 'states': 7, 'label': 5},\n",
       " {'ID': 228, 'x': 3265.514089347079, 'y': 3102.2037536346816, 'z': 0.0, 't': 0, 'dummy': False, 'states': 7, 'label': 5},\n",
       " {'ID': 229, 'x': 3582.175793600607, 'y': 3068.634627545213, 'z': 0.0, 't': 0, 'dummy': False, 'states': 7, 'label': 5},\n",
       " {'ID': 230, 'x': 2062.6433980902207, 'y': 3111.6481176599714, 'z': 0.0, 't': 0, 'dummy': False, 'states': 7, 'label': 5},\n",
       " {'ID': 231, 'x': 4487.194568595866, 'y': 3109.2917167683827, 'z': 0.0, 't': 0, 'dummy': False, 'states': 7, 'label': 5},\n",
       " {'ID': 232, 'x': 5470.034130485256, 'y': 3205.113303923845, 'z': 0.0, 't': 0, 'dummy': False, 'states': 7, 'label': 5},\n",
       " {'ID': 233, 'x': 3138.3538051602, 'y': 3175.159225320075, 'z': 0.0, 't': 0, 'dummy': False, 'states': 7, 'label': 5},\n",
       " {'ID': 234, 'x': 3388.458394160584, 'y': 3110.284462982273, 'z': 0.0, 't': 0, 'dummy': False, 'states': 7, 'label': 5},\n",
       " {'ID': 235, 'x': 598.0, 'y': 3052.0, 'z': 0.0, 't': 0, 'dummy': False, 'states': 7, 'label': 5},\n",
       " {'ID': 236, 'x': 599.0, 'y': 3054.0, 'z': 0.0, 't': 0, 'dummy': False, 'states': 7, 'label': 5},\n",
       " {'ID': 237, 'x': 628.520533937652, 'y': 3244.6730875525095, 'z': 0.0, 't': 0, 'dummy': False, 'states': 7, 'label': 5},\n",
       " {'ID': 238, 'x': 5865.648967551622, 'y': 3078.369714847591, 'z': 0.0, 't': 0, 'dummy': False, 'states': 7, 'label': 5},\n",
       " {'ID': 239, 'x': 3045.782187254494, 'y': 3453.6839502749667, 'z': 0.0, 't': 0, 'dummy': False, 'states': 7, 'label': 5},\n",
       " {'ID': 240, 'x': 6017.519551113449, 'y': 3151.9216201998947, 'z': 0.0, 't': 0, 'dummy': False, 'states': 7, 'label': 5},\n",
       " {'ID': 241, 'x': 3982.2234238782207, 'y': 3191.245073102538, 'z': 0.0, 't': 0, 'dummy': False, 'states': 7, 'label': 5},\n",
       " {'ID': 242, 'x': 5722.173452866395, 'y': 3189.62799832094, 'z': 0.0, 't': 0, 'dummy': False, 'states': 7, 'label': 5},\n",
       " {'ID': 243, 'x': 1200.7634111818825, 'y': 3232.7690021231424, 'z': 0.0, 't': 0, 'dummy': False, 'states': 7, 'label': 5},\n",
       " {'ID': 244, 'x': 5021.707684270516, 'y': 3272.8991736322187, 'z': 0.0, 't': 0, 'dummy': False, 'states': 7, 'label': 5},\n",
       " {'ID': 245, 'x': 767.883001795667, 'y': 3324.044635153098, 'z': 0.0, 't': 0, 'dummy': False, 'states': 7, 'label': 5},\n",
       " {'ID': 246, 'x': 5214.249717514124, 'y': 3324.0275204017576, 'z': 0.0, 't': 0, 'dummy': False, 'states': 7, 'label': 5},\n",
       " {'ID': 247, 'x': 270.7659338921398, 'y': 3234.0908851283675, 'z': 0.0, 't': 0, 'dummy': False, 'states': 7, 'label': 5},\n",
       " {'ID': 248, 'x': 4697.690721209275, 'y': 3260.5382808830436, 'z': 0.0, 't': 0, 'dummy': False, 'states': 7, 'label': 5},\n",
       " {'ID': 249, 'x': 2787.2224113475177, 'y': 3308.5756028368796, 'z': 0.0, 't': 0, 'dummy': False, 'states': 7, 'label': 5},\n",
       " {'ID': 250, 'x': 4342.731811797753, 'y': 3243.2355688202247, 'z': 0.0, 't': 0, 'dummy': False, 'states': 7, 'label': 5},\n",
       " {'ID': 251, 'x': 53.40199979593919, 'y': 3254.015712682379, 'z': 0.0, 't': 0, 'dummy': False, 'states': 7, 'label': 5},\n",
       " {'ID': 252, 'x': 512.8418511736307, 'y': 3257.149492259031, 'z': 0.0, 't': 0, 'dummy': False, 'states': 7, 'label': 5},\n",
       " {'ID': 253, 'x': 3997.288769328149, 'y': 3285.5039334478706, 'z': 0.0, 't': 0, 'dummy': False, 'states': 7, 'label': 5},\n",
       " {'ID': 254, 'x': 5906.040074020767, 'y': 3321.7615503238408, 'z': 0.0, 't': 0, 'dummy': False, 'states': 7, 'label': 5},\n",
       " {'ID': 255, 'x': 1264.3795679205618, 'y': 3345.8047591358413, 'z': 0.0, 't': 0, 'dummy': False, 'states': 7, 'label': 5},\n",
       " {'ID': 256, 'x': 4167.101804270869, 'y': 3341.737752655019, 'z': 0.0, 't': 0, 'dummy': False, 'states': 7, 'label': 5},\n",
       " {'ID': 257, 'x': 936.4481094658911, 'y': 3328.4005156002117, 'z': 0.0, 't': 0, 'dummy': False, 'states': 7, 'label': 5},\n",
       " {'ID': 258, 'x': 3751.315308898994, 'y': 3387.4836830475356, 'z': 0.0, 't': 0, 'dummy': False, 'states': 7, 'label': 5},\n",
       " {'ID': 259, 'x': 2635.031803352178, 'y': 3436.132592832416, 'z': 0.0, 't': 0, 'dummy': False, 'states': 7, 'label': 5},\n",
       " {'ID': 260, 'x': 1528.7582695691717, 'y': 3450.6742590505564, 'z': 0.0, 't': 0, 'dummy': False, 'states': 7, 'label': 5},\n",
       " {'ID': 261, 'x': 5325.616539155012, 'y': 3374.9574094829686, 'z': 0.0, 't': 0, 'dummy': False, 'states': 7, 'label': 5},\n",
       " {'ID': 262, 'x': 4750.7566471662485, 'y': 3466.9274770173647, 'z': 0.0, 't': 0, 'dummy': False, 'states': 7, 'label': 5},\n",
       " {'ID': 263, 'x': 4060.507045862157, 'y': 3355.0684089162182, 'z': 0.0, 't': 0, 'dummy': False, 'states': 7, 'label': 5},\n",
       " {'ID': 264, 'x': 4310.919592468661, 'y': 3453.384957299106, 'z': 0.0, 't': 0, 'dummy': False, 'states': 7, 'label': 5},\n",
       " {'ID': 265, 'x': 490.29183055975795, 'y': 3411.693343419062, 'z': 0.0, 't': 0, 'dummy': False, 'states': 7, 'label': 5},\n",
       " {'ID': 266, 'x': 3465.2565717164316, 'y': 3427.690785858216, 'z': 0.0, 't': 0, 'dummy': False, 'states': 7, 'label': 5},\n",
       " {'ID': 267, 'x': 869.2907458900435, 'y': 3435.790965412947, 'z': 0.0, 't': 0, 'dummy': False, 'states': 7, 'label': 5},\n",
       " {'ID': 268, 'x': 3936.0194459043473, 'y': 3399.7722051205046, 'z': 0.0, 't': 0, 'dummy': False, 'states': 7, 'label': 5},\n",
       " {'ID': 269, 'x': 60.462243328205474, 'y': 3411.2987760016053, 'z': 0.0, 't': 0, 'dummy': False, 'states': 7, 'label': 5},\n",
       " {'ID': 270, 'x': 1209.2734660900148, 'y': 3549.3288341808848, 'z': 0.0, 't': 0, 'dummy': False, 'states': 7, 'label': 5},\n",
       " {'ID': 271, 'x': 592.0, 'y': 3377.0, 'z': 0.0, 't': 0, 'dummy': False, 'states': 7, 'label': 5},\n",
       " {'ID': 272, 'x': 675.7093971631206, 'y': 3481.9985372340425, 'z': 0.0, 't': 0, 'dummy': False, 'states': 7, 'label': 5},\n",
       " {'ID': 273, 'x': 944.0847189231987, 'y': 3490.216053048298, 'z': 0.0, 't': 0, 'dummy': False, 'states': 7, 'label': 5},\n",
       " {'ID': 274, 'x': 1974.7368385055997, 'y': 3506.459485338121, 'z': 0.0, 't': 0, 'dummy': False, 'states': 7, 'label': 5},\n",
       " {'ID': 275, 'x': 5853.736882075555, 'y': 3498.463626569647, 'z': 0.0, 't': 0, 'dummy': False, 'states': 7, 'label': 5},\n",
       " {'ID': 276, 'x': 4097.767815143387, 'y': 3484.176108933361, 'z': 0.0, 't': 0, 'dummy': False, 'states': 7, 'label': 5},\n",
       " {'ID': 277, 'x': 3661.5097794423637, 'y': 3494.107157719517, 'z': 0.0, 't': 0, 'dummy': False, 'states': 7, 'label': 5},\n",
       " {'ID': 278, 'x': 3969.2015597582376, 'y': 3550.0009748488983, 'z': 0.0, 't': 0, 'dummy': False, 'states': 7, 'label': 5},\n",
       " {'ID': 279, 'x': 573.941034501673, 'y': 3556.984696396248, 'z': 0.0, 't': 0, 'dummy': False, 'states': 7, 'label': 5},\n",
       " {'ID': 280, 'x': 554.0, 'y': 3455.0, 'z': 0.0, 't': 0, 'dummy': False, 'states': 7, 'label': 5},\n",
       " {'ID': 281, 'x': 4879.352183025483, 'y': 3584.5907586233916, 'z': 0.0, 't': 0, 'dummy': False, 'states': 7, 'label': 5},\n",
       " {'ID': 282, 'x': 551.0, 'y': 3460.0, 'z': 0.0, 't': 0, 'dummy': False, 'states': 7, 'label': 5},\n",
       " {'ID': 283, 'x': 3868.9362825866156, 'y': 3631.6683444306514, 'z': 0.0, 't': 0, 'dummy': False, 'states': 7, 'label': 5},\n",
       " {'ID': 284, 'x': 2555.634685144558, 'y': 3651.4937984664507, 'z': 0.0, 't': 0, 'dummy': False, 'states': 7, 'label': 5},\n",
       " {'ID': 285, 'x': 3404.327660413313, 'y': 3576.6374806978347, 'z': 0.0, 't': 0, 'dummy': False, 'states': 7, 'label': 5},\n",
       " {'ID': 286, 'x': 353.19950943892076, 'y': 3580.4445271779596, 'z': 0.0, 't': 0, 'dummy': False, 'states': 7, 'label': 5},\n",
       " {'ID': 287, 'x': 866.2135528330781, 'y': 3590.0052833078103, 'z': 0.0, 't': 0, 'dummy': False, 'states': 7, 'label': 5},\n",
       " {'ID': 288, 'x': 67.42967049653288, 'y': 3586.8970491471377, 'z': 0.0, 't': 0, 'dummy': False, 'states': 7, 'label': 5},\n",
       " {'ID': 289, 'x': 4526.349279460051, 'y': 3610.0564574972636, 'z': 0.0, 't': 0, 'dummy': False, 'states': 7, 'label': 5},\n",
       " {'ID': 290, 'x': 2375.3397954295697, 'y': 3749.2738876835074, 'z': 0.0, 't': 0, 'dummy': False, 'states': 7, 'label': 5},\n",
       " {'ID': 291, 'x': 667.7301078028747, 'y': 3616.817248459959, 'z': 0.0, 't': 0, 'dummy': False, 'states': 7, 'label': 5},\n",
       " {'ID': 292, 'x': 5971.607349801769, 'y': 3607.025998780116, 'z': 0.0, 't': 0, 'dummy': False, 'states': 7, 'label': 5},\n",
       " {'ID': 293, 'x': 3631.1114909705184, 'y': 3638.901862204883, 'z': 0.0, 't': 0, 'dummy': False, 'states': 7, 'label': 5},\n",
       " {'ID': 294, 'x': 5368.659961592292, 'y': 3683.003124694854, 'z': 0.0, 't': 0, 'dummy': False, 'states': 7, 'label': 5},\n",
       " {'ID': 295, 'x': 803.2653384407969, 'y': 3722.7272143636715, 'z': 0.0, 't': 0, 'dummy': False, 'states': 7, 'label': 5},\n",
       " {'ID': 296, 'x': 4294.702886986798, 'y': 3613.8821509744184, 'z': 0.0, 't': 0, 'dummy': False, 'states': 7, 'label': 5},\n",
       " {'ID': 297, 'x': 443.5338701560141, 'y': 3705.3282838449923, 'z': 0.0, 't': 0, 'dummy': False, 'states': 7, 'label': 5},\n",
       " {'ID': 298, 'x': 4245.1192509855455, 'y': 3698.496517739816, 'z': 0.0, 't': 0, 'dummy': False, 'states': 7, 'label': 5},\n",
       " {'ID': 299, 'x': 5822.244793850454, 'y': 3667.6573375262055, 'z': 0.0, 't': 0, 'dummy': False, 'states': 7, 'label': 5},\n",
       " {'ID': 300, 'x': 2766.157007822686, 'y': 3693.641786179922, 'z': 0.0, 't': 0, 'dummy': False, 'states': 7, 'label': 5},\n",
       " {'ID': 301, 'x': 4694.668085245687, 'y': 3731.189936818673, 'z': 0.0, 't': 0, 'dummy': False, 'states': 7, 'label': 5},\n",
       " {'ID': 302, 'x': 5660.980717330935, 'y': 3707.1265694058748, 'z': 0.0, 't': 0, 'dummy': False, 'states': 7, 'label': 5},\n",
       " {'ID': 303, 'x': 2203.4946996466433, 'y': 3713.7570535471596, 'z': 0.0, 't': 0, 'dummy': False, 'states': 7, 'label': 5},\n",
       " {'ID': 304, 'x': 5107.3046504465665, 'y': 3771.238805050816, 'z': 0.0, 't': 0, 'dummy': False, 'states': 7, 'label': 5},\n",
       " {'ID': 305, 'x': 1516.6992351056115, 'y': 3740.4423288344133, 'z': 0.0, 't': 0, 'dummy': False, 'states': 7, 'label': 5},\n",
       " {'ID': 306, 'x': 5977.337259923175, 'y': 3740.9912078531797, 'z': 0.0, 't': 0, 'dummy': False, 'states': 7, 'label': 5},\n",
       " {'ID': 307, 'x': 50.99143458704182, 'y': 3783.449708106039, 'z': 0.0, 't': 0, 'dummy': False, 'states': 7, 'label': 5},\n",
       " {'ID': 308, 'x': 620.7782491040737, 'y': 3845.159474877496, 'z': 0.0, 't': 0, 'dummy': False, 'states': 7, 'label': 5},\n",
       " {'ID': 309, 'x': 4023.0, 'y': 3675.0, 'z': 0.0, 't': 0, 'dummy': False, 'states': 7, 'label': 5},\n",
       " {'ID': 310, 'x': 4818.647119711971, 'y': 3829.7014626462646, 'z': 0.0, 't': 0, 'dummy': False, 'states': 7, 'label': 5},\n",
       " {'ID': 311, 'x': 3311.5906372489594, 'y': 3785.890229118681, 'z': 0.0, 't': 0, 'dummy': False, 'states': 7, 'label': 5},\n",
       " {'ID': 312, 'x': 4540.877564382366, 'y': 3748.7736796158883, 'z': 0.0, 't': 0, 'dummy': False, 'states': 7, 'label': 5},\n",
       " {'ID': 313, 'x': 3722.6482804930693, 'y': 3765.665547508274, 'z': 0.0, 't': 0, 'dummy': False, 'states': 7, 'label': 5},\n",
       " {'ID': 314, 'x': 5748.0, 'y': 3712.0, 'z': 0.0, 't': 0, 'dummy': False, 'states': 7, 'label': 5},\n",
       " {'ID': 315, 'x': 5811.864371524388, 'y': 3813.465381839793, 'z': 0.0, 't': 0, 'dummy': False, 'states': 7, 'label': 5},\n",
       " {'ID': 316, 'x': 5243.049197211852, 'y': 3931.228661284093, 'z': 0.0, 't': 0, 'dummy': False, 'states': 7, 'label': 5},\n",
       " {'ID': 317, 'x': 4152.680189360167, 'y': 3858.6396849658217, 'z': 0.0, 't': 0, 'dummy': False, 'states': 7, 'label': 5},\n",
       " {'ID': 318, 'x': 3723.645795684065, 'y': 3865.1103965132347, 'z': 0.0, 't': 0, 'dummy': False, 'states': 7, 'label': 5},\n",
       " {'ID': 319, 'x': 943.2753841734884, 'y': 3896.158265115611, 'z': 0.0, 't': 0, 'dummy': False, 'states': 7, 'label': 5},\n",
       " {'ID': 320, 'x': 2790.2293016558674, 'y': 3802.7037437005038, 'z': 0.0, 't': 0, 'dummy': False, 'states': 7, 'label': 5},\n",
       " {'ID': 321, 'x': 5889.0, 'y': 3778.0, 'z': 0.0, 't': 0, 'dummy': False, 'states': 7, 'label': 5},\n",
       " {'ID': 322, 'x': 5447.554944117396, 'y': 3905.9965020049485, 'z': 0.0, 't': 0, 'dummy': False, 'states': 7, 'label': 5},\n",
       " {'ID': 323, 'x': 4500.065560061881, 'y': 3866.934147259272, 'z': 0.0, 't': 0, 'dummy': False, 'states': 7, 'label': 5},\n",
       " {'ID': 324, 'x': 1261.8981841763944, 'y': 3880.255327033537, 'z': 0.0, 't': 0, 'dummy': False, 'states': 7, 'label': 5},\n",
       " {'ID': 325, 'x': 5551.797310593637, 'y': 3868.6110200065596, 'z': 0.0, 't': 0, 'dummy': False, 'states': 7, 'label': 5},\n",
       " {'ID': 326, 'x': 3045.5196865604967, 'y': 3943.144971807348, 'z': 0.0, 't': 0, 'dummy': False, 'states': 7, 'label': 5},\n",
       " {'ID': 327, 'x': 2481.699991785098, 'y': 3852.046003450259, 'z': 0.0, 't': 0, 'dummy': False, 'states': 7, 'label': 5},\n",
       " {'ID': 328, 'x': 5632.77339658069, 'y': 3874.4785057812037, 'z': 0.0, 't': 0, 'dummy': False, 'states': 7, 'label': 5},\n",
       " {'ID': 329, 'x': 770.0317584927205, 'y': 3873.060662289466, 'z': 0.0, 't': 0, 'dummy': False, 'states': 7, 'label': 5},\n",
       " {'ID': 330, 'x': 461.8384569207924, 'y': 3962.121133613472, 'z': 0.0, 't': 0, 'dummy': False, 'states': 7, 'label': 5},\n",
       " {'ID': 331, 'x': 5960.571090980701, 'y': 3877.0935801496653, 'z': 0.0, 't': 0, 'dummy': False, 'states': 7, 'label': 5},\n",
       " {'ID': 332, 'x': 5354.329193229281, 'y': 3892.3187513739285, 'z': 0.0, 't': 0, 'dummy': False, 'states': 7, 'label': 5},\n",
       " {'ID': 333, 'x': 146.2701931518876, 'y': 3935.249972563652, 'z': 0.0, 't': 0, 'dummy': False, 'states': 7, 'label': 5},\n",
       " {'ID': 334, 'x': 2552.7849764203906, 'y': 3907.5380642263644, 'z': 0.0, 't': 0, 'dummy': False, 'states': 7, 'label': 5},\n",
       " {'ID': 335, 'x': 1487.2621834153013, 'y': 3954.5503248034083, 'z': 0.0, 't': 0, 'dummy': False, 'states': 7, 'label': 5},\n",
       " {'ID': 336, 'x': 2678.833290709145, 'y': 3953.881809214132, 'z': 0.0, 't': 0, 'dummy': False, 'states': 7, 'label': 5},\n",
       " {'ID': 337, 'x': 5063.903472615797, 'y': 4018.8065072904324, 'z': 0.0, 't': 0, 'dummy': False, 'states': 7, 'label': 5},\n",
       " {'ID': 338, 'x': 5689.0083746556475, 'y': 3988.447134986226, 'z': 0.0, 't': 0, 'dummy': False, 'states': 7, 'label': 5},\n",
       " {'ID': 339, 'x': 3437.604556354916, 'y': 4027.287023714362, 'z': 0.0, 't': 0, 'dummy': False, 'states': 7, 'label': 5},\n",
       " {'ID': 340, 'x': 1139.889356009937, 'y': 3952.592585515001, 'z': 0.0, 't': 0, 'dummy': False, 'states': 7, 'label': 5},\n",
       " {'ID': 341, 'x': 239.5117589327905, 'y': 4020.7631492857404, 'z': 0.0, 't': 0, 'dummy': False, 'states': 7, 'label': 5},\n",
       " {'ID': 342, 'x': 906.2745292816182, 'y': 4084.254526572448, 'z': 0.0, 't': 0, 'dummy': False, 'states': 7, 'label': 5},\n",
       " {'ID': 343, 'x': 4021.437069098779, 'y': 4010.0538568557736, 'z': 0.0, 't': 0, 'dummy': False, 'states': 7, 'label': 5},\n",
       " {'ID': 344, 'x': 2447.5, 'y': 3907.0, 'z': 0.0, 't': 0, 'dummy': False, 'states': 7, 'label': 5},\n",
       " {'ID': 345, 'x': 2562.6841475798265, 'y': 4069.7625183346495, 'z': 0.0, 't': 0, 'dummy': False, 'states': 7, 'label': 5},\n",
       " {'ID': 346, 'x': 2442.5, 'y': 3908.0, 'z': 0.0, 't': 0, 'dummy': False, 'states': 7, 'label': 5},\n",
       " {'ID': 347, 'x': 2438.5, 'y': 3909.0, 'z': 0.0, 't': 0, 'dummy': False, 'states': 7, 'label': 5},\n",
       " {'ID': 348, 'x': 2435.0, 'y': 3910.0, 'z': 0.0, 't': 0, 'dummy': False, 'states': 7, 'label': 5},\n",
       " {'ID': 349, 'x': 2431.0, 'y': 3911.0, 'z': 0.0, 't': 0, 'dummy': False, 'states': 7, 'label': 5},\n",
       " {'ID': 350, 'x': 2427.0, 'y': 3912.0, 'z': 0.0, 't': 0, 'dummy': False, 'states': 7, 'label': 5},\n",
       " {'ID': 351, 'x': 2423.0, 'y': 3913.0, 'z': 0.0, 't': 0, 'dummy': False, 'states': 7, 'label': 5},\n",
       " {'ID': 352, 'x': 2419.0, 'y': 3914.0, 'z': 0.0, 't': 0, 'dummy': False, 'states': 7, 'label': 5},\n",
       " {'ID': 353, 'x': 2415.0, 'y': 3915.0, 'z': 0.0, 't': 0, 'dummy': False, 'states': 7, 'label': 5},\n",
       " {'ID': 354, 'x': 1060.3938847256916, 'y': 4019.788000740124, 'z': 0.0, 't': 0, 'dummy': False, 'states': 7, 'label': 5},\n",
       " {'ID': 355, 'x': 4343.33897115587, 'y': 4016.550401197745, 'z': 0.0, 't': 0, 'dummy': False, 'states': 7, 'label': 5},\n",
       " {'ID': 356, 'x': 5829.635551801122, 'y': 4033.472183672238, 'z': 0.0, 't': 0, 'dummy': False, 'states': 7, 'label': 5},\n",
       " {'ID': 357, 'x': 3757.3611814454457, 'y': 4084.3914887600736, 'z': 0.0, 't': 0, 'dummy': False, 'states': 7, 'label': 5},\n",
       " {'ID': 358, 'x': 4864.323002575455, 'y': 4042.606592007408, 'z': 0.0, 't': 0, 'dummy': False, 'states': 7, 'label': 5},\n",
       " {'ID': 359, 'x': 5526.198245614035, 'y': 4045.308122157245, 'z': 0.0, 't': 0, 'dummy': False, 'states': 7, 'label': 5},\n",
       " {'ID': 360, 'x': 1711.403888577304, 'y': 4107.796597494859, 'z': 0.0, 't': 0, 'dummy': False, 'states': 7, 'label': 5},\n",
       " {'ID': 361, 'x': 2929.7070824227476, 'y': 4229.438985678879, 'z': 0.0, 't': 0, 'dummy': False, 'states': 7, 'label': 5},\n",
       " {'ID': 362, 'x': 1563.0103430962342, 'y': 4102.915715481172, 'z': 0.0, 't': 0, 'dummy': False, 'states': 7, 'label': 5},\n",
       " {'ID': 363, 'x': 1871.9577063249471, 'y': 4099.045320949917, 'z': 0.0, 't': 0, 'dummy': False, 'states': 7, 'label': 5},\n",
       " {'ID': 364, 'x': 4617.336497270055, 'y': 4065.8065518689627, 'z': 0.0, 't': 0, 'dummy': False, 'states': 7, 'label': 5},\n",
       " {'ID': 365, 'x': 4185.949716775599, 'y': 4105.316165577342, 'z': 0.0, 't': 0, 'dummy': False, 'states': 7, 'label': 5},\n",
       " {'ID': 366, 'x': 3898.0, 'y': 4020.0, 'z': 0.0, 't': 0, 'dummy': False, 'states': 7, 'label': 5},\n",
       " {'ID': 367, 'x': 5894.563713145558, 'y': 4135.968424315214, 'z': 0.0, 't': 0, 'dummy': False, 'states': 7, 'label': 5},\n",
       " {'ID': 368, 'x': 1404.7620385069401, 'y': 4198.614116497741, 'z': 0.0, 't': 0, 'dummy': False, 'states': 7, 'label': 5},\n",
       " {'ID': 369, 'x': 655.3216226708074, 'y': 4222.18575310559, 'z': 0.0, 't': 0, 'dummy': False, 'states': 7, 'label': 5},\n",
       " {'ID': 370, 'x': 2405.09045623468, 'y': 4214.692733454574, 'z': 0.0, 't': 0, 'dummy': False, 'states': 7, 'label': 5},\n",
       " {'ID': 371, 'x': 4569.310971398633, 'y': 4225.867614488819, 'z': 0.0, 't': 0, 'dummy': False, 'states': 7, 'label': 5},\n",
       " {'ID': 372, 'x': 5584.3009200793795, 'y': 4197.016850081183, 'z': 0.0, 't': 0, 'dummy': False, 'states': 7, 'label': 5},\n",
       " {'ID': 373, 'x': 143.00251371115175, 'y': 4196.692584552103, 'z': 0.0, 't': 0, 'dummy': False, 'states': 7, 'label': 5},\n",
       " {'ID': 374, 'x': 4924.788245102126, 'y': 4191.499270529387, 'z': 0.0, 't': 0, 'dummy': False, 'states': 7, 'label': 5},\n",
       " {'ID': 375, 'x': 1973.4462630915173, 'y': 4234.273427647091, 'z': 0.0, 't': 0, 'dummy': False, 'states': 7, 'label': 5},\n",
       " {'ID': 376, 'x': 1114.9959750335413, 'y': 4278.2765851951235, 'z': 0.0, 't': 0, 'dummy': False, 'states': 7, 'label': 5},\n",
       " {'ID': 377, 'x': 5661.0, 'y': 4137.0, 'z': 0.0, 't': 0, 'dummy': False, 'states': 7, 'label': 5},\n",
       " {'ID': 378, 'x': 3183.526469560006, 'y': 4269.177271138191, 'z': 0.0, 't': 0, 'dummy': False, 'states': 7, 'label': 5},\n",
       " {'ID': 379, 'x': 4770.8716666103355, 'y': 4357.932639334843, 'z': 0.0, 't': 0, 'dummy': False, 'states': 7, 'label': 5},\n",
       " {'ID': 380, 'x': 1567.687764955252, 'y': 4318.8257477626, 'z': 0.0, 't': 0, 'dummy': False, 'states': 7, 'label': 5},\n",
       " {'ID': 381, 'x': 5995.292244835029, 'y': 4352.766419981499, 'z': 0.0, 't': 0, 'dummy': False, 'states': 7, 'label': 5},\n",
       " {'ID': 382, 'x': 1654.0, 'y': 4194.0, 'z': 0.0, 't': 0, 'dummy': False, 'states': 7, 'label': 5},\n",
       " {'ID': 383, 'x': 3958.7128861580472, 'y': 4293.0782044717525, 'z': 0.0, 't': 0, 'dummy': False, 'states': 7, 'label': 5},\n",
       " {'ID': 384, 'x': 5084.6516563147, 'y': 4259.801035196688, 'z': 0.0, 't': 0, 'dummy': False, 'states': 7, 'label': 5},\n",
       " {'ID': 385, 'x': 5822.524567894098, 'y': 4301.652060812764, 'z': 0.0, 't': 0, 'dummy': False, 'states': 7, 'label': 5},\n",
       " {'ID': 386, 'x': 2708.6858954411077, 'y': 4375.435817644313, 'z': 0.0, 't': 0, 'dummy': False, 'states': 7, 'label': 5},\n",
       " {'ID': 387, 'x': 173.17736639492753, 'y': 4330.990036231884, 'z': 0.0, 't': 0, 'dummy': False, 'states': 7, 'label': 5},\n",
       " {'ID': 388, 'x': 1838.7018035816711, 'y': 4318.249251163087, 'z': 0.0, 't': 0, 'dummy': False, 'states': 7, 'label': 5},\n",
       " {'ID': 389, 'x': 3439.9079668002937, 'y': 4360.047258765739, 'z': 0.0, 't': 0, 'dummy': False, 'states': 7, 'label': 5},\n",
       " {'ID': 390, 'x': 5463.929469401312, 'y': 4376.359877107033, 'z': 0.0, 't': 0, 'dummy': False, 'states': 7, 'label': 5},\n",
       " {'ID': 391, 'x': 893.1203194321207, 'y': 4389.113859804792, 'z': 0.0, 't': 0, 'dummy': False, 'states': 7, 'label': 5},\n",
       " {'ID': 392, 'x': 3733.6484424522323, 'y': 4383.683826858643, 'z': 0.0, 't': 0, 'dummy': False, 'states': 7, 'label': 5},\n",
       " {'ID': 393, 'x': 3317.9981234361967, 'y': 4337.6853628023355, 'z': 0.0, 't': 0, 'dummy': False, 'states': 7, 'label': 5},\n",
       " {'ID': 394, 'x': 2046.4854924507013, 'y': 4392.341061737682, 'z': 0.0, 't': 0, 'dummy': False, 'states': 7, 'label': 5},\n",
       " {'ID': 395, 'x': 5173.815105145414, 'y': 4423.418111856823, 'z': 0.0, 't': 0, 'dummy': False, 'states': 7, 'label': 5},\n",
       " {'ID': 396, 'x': 546.1461032813049, 'y': 4463.785403197447, 'z': 0.0, 't': 0, 'dummy': False, 'states': 7, 'label': 5},\n",
       " {'ID': 397, 'x': 4389.529396771452, 'y': 4406.771707731521, 'z': 0.0, 't': 0, 'dummy': False, 'states': 7, 'label': 5},\n",
       " {'ID': 398, 'x': 2844.8207835784074, 'y': 4416.123260633573, 'z': 0.0, 't': 0, 'dummy': False, 'states': 7, 'label': 5},\n",
       " {'ID': 399, 'x': 4241.7262439839305, 'y': 4529.380891770415, 'z': 0.0, 't': 0, 'dummy': False, 'states': 7, 'label': 5},\n",
       " {'ID': 400, 'x': 3937.5307989844428, 'y': 4517.28059024997, 'z': 0.0, 't': 0, 'dummy': False, 'states': 7, 'label': 5},\n",
       " {'ID': 401, 'x': 3286.8898137697515, 'y': 4488.626834085779, 'z': 0.0, 't': 0, 'dummy': False, 'states': 7, 'label': 5},\n",
       " {'ID': 402, 'x': 365.12712577502214, 'y': 4567.844729849424, 'z': 0.0, 't': 0, 'dummy': False, 'states': 7, 'label': 5},\n",
       " {'ID': 403, 'x': 5748.663892056816, 'y': 4558.899580846305, 'z': 0.0, 't': 0, 'dummy': False, 'states': 7, 'label': 5},\n",
       " {'ID': 404, 'x': 192.4790071984626, 'y': 4494.939871665418, 'z': 0.0, 't': 0, 'dummy': False, 'states': 7, 'label': 5},\n",
       " {'ID': 405, 'x': 3516.3525904727835, 'y': 4488.173791212067, 'z': 0.0, 't': 0, 'dummy': False, 'states': 7, 'label': 5},\n",
       " {'ID': 406, 'x': 1744.3561747858098, 'y': 4579.609455734025, 'z': 0.0, 't': 0, 'dummy': False, 'states': 7, 'label': 5},\n",
       " {'ID': 407, 'x': 2248.883216359685, 'y': 4549.809469521536, 'z': 0.0, 't': 0, 'dummy': False, 'states': 7, 'label': 5},\n",
       " {'ID': 408, 'x': 4876.336238236431, 'y': 4556.567332731726, 'z': 0.0, 't': 0, 'dummy': False, 'states': 7, 'label': 5},\n",
       " {'ID': 409, 'x': 2496.7406335149863, 'y': 4543.711171662126, 'z': 0.0, 't': 0, 'dummy': False, 'states': 7, 'label': 5},\n",
       " {'ID': 410, 'x': 2834.257773696732, 'y': 4681.629742476731, 'z': 0.0, 't': 0, 'dummy': False, 'states': 7, 'label': 5},\n",
       " {'ID': 411, 'x': 892.5312180143296, 'y': 4526.196677426974, 'z': 0.0, 't': 0, 'dummy': False, 'states': 7, 'label': 5},\n",
       " {'ID': 412, 'x': 1135.8741036123583, 'y': 4558.521613832853, 'z': 0.0, 't': 0, 'dummy': False, 'states': 7, 'label': 5},\n",
       " {'ID': 413, 'x': 5321.091447758246, 'y': 4564.674205016789, 'z': 0.0, 't': 0, 'dummy': False, 'states': 7, 'label': 5},\n",
       " {'ID': 414, 'x': 4455.710489181562, 'y': 4588.377410630292, 'z': 0.0, 't': 0, 'dummy': False, 'states': 7, 'label': 5},\n",
       " {'ID': 415, 'x': 3559.7715659047212, 'y': 4623.411386455886, 'z': 0.0, 't': 0, 'dummy': False, 'states': 7, 'label': 5},\n",
       " {'ID': 416, 'x': 4998.0, 'y': 4522.0, 'z': 0.0, 't': 0, 'dummy': False, 'states': 7, 'label': 5},\n",
       " {'ID': 417, 'x': 5079.127611992452, 'y': 4627.403941575232, 'z': 0.0, 't': 0, 'dummy': False, 'states': 7, 'label': 5},\n",
       " {'ID': 418, 'x': 3119.063864890809, 'y': 4664.870080393569, 'z': 0.0, 't': 0, 'dummy': False, 'states': 7, 'label': 5},\n",
       " {'ID': 419, 'x': 4997.0, 'y': 4524.0, 'z': 0.0, 't': 0, 'dummy': False, 'states': 7, 'label': 5},\n",
       " {'ID': 420, 'x': 1980.1509411196912, 'y': 4670.136841560949, 'z': 0.0, 't': 0, 'dummy': False, 'states': 7, 'label': 5},\n",
       " {'ID': 421, 'x': 5493.434979405241, 'y': 4600.233014982121, 'z': 0.0, 't': 0, 'dummy': False, 'states': 7, 'label': 5},\n",
       " {'ID': 422, 'x': 5983.424988042727, 'y': 4631.085029494606, 'z': 0.0, 't': 0, 'dummy': False, 'states': 7, 'label': 5},\n",
       " {'ID': 423, 'x': 4624.568291486055, 'y': 4699.465424879365, 'z': 0.0, 't': 0, 'dummy': False, 'states': 7, 'label': 5},\n",
       " {'ID': 424, 'x': 793.1501189754117, 'y': 4637.847011617599, 'z': 0.0, 't': 0, 'dummy': False, 'states': 7, 'label': 5},\n",
       " {'ID': 425, 'x': 5312.45162708883, 'y': 4681.241729247006, 'z': 0.0, 't': 0, 'dummy': False, 'states': 7, 'label': 5},\n",
       " {'ID': 426, 'x': 4054.6135961524083, 'y': 4815.296468887836, 'z': 0.0, 't': 0, 'dummy': False, 'states': 7, 'label': 5},\n",
       " {'ID': 427, 'x': 161.17757980697846, 'y': 4654.858797327394, 'z': 0.0, 't': 0, 'dummy': False, 'states': 7, 'label': 5},\n",
       " {'ID': 428, 'x': 3376.18007873799, 'y': 4751.44357569584, 'z': 0.0, 't': 0, 'dummy': False, 'states': 7, 'label': 5},\n",
       " {'ID': 429, 'x': 2363.514784106452, 'y': 4931.9737753086, 'z': 0.0, 't': 0, 'dummy': False, 'states': 7, 'label': 5},\n",
       " {'ID': 430, 'x': 4848.075377481869, 'y': 4698.652003328974, 'z': 0.0, 't': 0, 'dummy': False, 'states': 7, 'label': 5},\n",
       " {'ID': 431, 'x': 5511.06924991641, 'y': 4741.465765129844, 'z': 0.0, 't': 0, 'dummy': False, 'states': 7, 'label': 5},\n",
       " {'ID': 432, 'x': 2681.9209505334625, 'y': 4803.681147582827, 'z': 0.0, 't': 0, 'dummy': False, 'states': 7, 'label': 5},\n",
       " {'ID': 433, 'x': 3773.7729453957672, 'y': 4806.764812850432, 'z': 0.0, 't': 0, 'dummy': False, 'states': 7, 'label': 5},\n",
       " {'ID': 434, 'x': 5600.0, 'y': 4675.0, 'z': 0.0, 't': 0, 'dummy': False, 'states': 7, 'label': 5},\n",
       " {'ID': 435, 'x': 5908.996849196002, 'y': 4739.490221642764, 'z': 0.0, 't': 0, 'dummy': False, 'states': 7, 'label': 5},\n",
       " {'ID': 436, 'x': 5855.644819060463, 'y': 4801.8493594066085, 'z': 0.0, 't': 0, 'dummy': False, 'states': 7, 'label': 5},\n",
       " {'ID': 437, 'x': 6018.039989143219, 'y': 4807.5565909707775, 'z': 0.0, 't': 0, 'dummy': False, 'states': 7, 'label': 5},\n",
       " {'ID': 438, 'x': 5178.118274788795, 'y': 4749.330517266933, 'z': 0.0, 't': 0, 'dummy': False, 'states': 7, 'label': 5},\n",
       " {'ID': 439, 'x': 3555.7599042397096, 'y': 4782.5873812649625, 'z': 0.0, 't': 0, 'dummy': False, 'states': 7, 'label': 5},\n",
       " {'ID': 440, 'x': 4996.30050414116, 'y': 4827.193074060737, 'z': 0.0, 't': 0, 'dummy': False, 'states': 7, 'label': 5},\n",
       " {'ID': 441, 'x': 3265.0944321656725, 'y': 4838.680614005873, 'z': 0.0, 't': 0, 'dummy': False, 'states': 7, 'label': 5},\n",
       " {'ID': 442, 'x': 4190.426630478167, 'y': 4938.601005827412, 'z': 0.0, 't': 0, 'dummy': False, 'states': 7, 'label': 5},\n",
       " {'ID': 443, 'x': 176.2951253306462, 'y': 4846.786329092665, 'z': 0.0, 't': 0, 'dummy': False, 'states': 7, 'label': 5},\n",
       " {'ID': 444, 'x': 3087.3727298063077, 'y': 4953.72477820614, 'z': 0.0, 't': 0, 'dummy': False, 'states': 7, 'label': 5},\n",
       " {'ID': 445, 'x': 4841.13985492509, 'y': 4798.96196868009, 'z': 0.0, 't': 0, 'dummy': False, 'states': 7, 'label': 5},\n",
       " {'ID': 446, 'x': 2264.258060004196, 'y': 4812.866983705154, 'z': 0.0, 't': 0, 'dummy': False, 'states': 7, 'label': 5},\n",
       " {'ID': 447, 'x': 2161.6880934989044, 'y': 4842.248660822986, 'z': 0.0, 't': 0, 'dummy': False, 'states': 7, 'label': 5},\n",
       " {'ID': 448, 'x': 5506.984965199868, 'y': 4927.856640608252, 'z': 0.0, 't': 0, 'dummy': False, 'states': 7, 'label': 5},\n",
       " {'ID': 449, 'x': 1257.8282757899872, 'y': 4875.097864334739, 'z': 0.0, 't': 0, 'dummy': False, 'states': 7, 'label': 5},\n",
       " {'ID': 450, 'x': 5181.644064386318, 'y': 4878.426358148893, 'z': 0.0, 't': 0, 'dummy': False, 'states': 7, 'label': 5},\n",
       " {'ID': 451, 'x': 2869.5877912917367, 'y': 4934.487755034774, 'z': 0.0, 't': 0, 'dummy': False, 'states': 7, 'label': 5},\n",
       " {'ID': 452, 'x': 31.73263586166812, 'y': 4860.230892182505, 'z': 0.0, 't': 0, 'dummy': False, 'states': 7, 'label': 5},\n",
       " {'ID': 453, 'x': 498.4470996778689, 'y': 4921.3680747526905, 'z': 0.0, 't': 0, 'dummy': False, 'states': 7, 'label': 5},\n",
       " {'ID': 454, 'x': 4485.766440677966, 'y': 4865.452711864406, 'z': 0.0, 't': 0, 'dummy': False, 'states': 7, 'label': 5},\n",
       " {'ID': 455, 'x': 5516.0, 'y': 4822.0, 'z': 0.0, 't': 0, 'dummy': False, 'states': 7, 'label': 5},\n",
       " {'ID': 456, 'x': 5781.803424505226, 'y': 5048.207981791783, 'z': 0.0, 't': 0, 'dummy': False, 'states': 7, 'label': 5},\n",
       " {'ID': 457, 'x': 2091.157907386637, 'y': 4899.656144848582, 'z': 0.0, 't': 0, 'dummy': False, 'states': 7, 'label': 5},\n",
       " {'ID': 458, 'x': 3946.490154109589, 'y': 4946.206710188356, 'z': 0.0, 't': 0, 'dummy': False, 'states': 7, 'label': 5},\n",
       " {'ID': 459, 'x': 4881.0, 'y': 4843.0, 'z': 0.0, 't': 0, 'dummy': False, 'states': 7, 'label': 5},\n",
       " {'ID': 460, 'x': 4341.494330654744, 'y': 5073.68042212958, 'z': 0.0, 't': 0, 'dummy': False, 'states': 7, 'label': 5},\n",
       " {'ID': 461, 'x': 4839.20776983375, 'y': 4916.621069859591, 'z': 0.0, 't': 0, 'dummy': False, 'states': 7, 'label': 5},\n",
       " {'ID': 462, 'x': 2609.9095027466647, 'y': 4970.599700363844, 'z': 0.0, 't': 0, 'dummy': False, 'states': 7, 'label': 5},\n",
       " {'ID': 463, 'x': 1124.0843581664803, 'y': 4921.495883728021, 'z': 0.0, 't': 0, 'dummy': False, 'states': 7, 'label': 5},\n",
       " {'ID': 464, 'x': 4607.840595979182, 'y': 4919.64261659353, 'z': 0.0, 't': 0, 'dummy': False, 'states': 7, 'label': 5},\n",
       " {'ID': 465, 'x': 1563.800290882647, 'y': 5024.884252946702, 'z': 0.0, 't': 0, 'dummy': False, 'states': 7, 'label': 5},\n",
       " {'ID': 466, 'x': 1808.644522085076, 'y': 5015.927241660716, 'z': 0.0, 't': 0, 'dummy': False, 'states': 7, 'label': 5},\n",
       " {'ID': 467, 'x': 3921.1040916849547, 'y': 5237.607978541819, 'z': 0.0, 't': 0, 'dummy': False, 'states': 7, 'label': 5},\n",
       " {'ID': 468, 'x': 3211.0, 'y': 4896.0, 'z': 0.0, 't': 0, 'dummy': False, 'states': 7, 'label': 5},\n",
       " {'ID': 469, 'x': 873.5036717644681, 'y': 5021.299467762582, 'z': 0.0, 't': 0, 'dummy': False, 'states': 7, 'label': 5},\n",
       " {'ID': 470, 'x': 716.913101604278, 'y': 5040.401444788442, 'z': 0.0, 't': 0, 'dummy': False, 'states': 7, 'label': 5},\n",
       " {'ID': 471, 'x': 293.737125444388, 'y': 4963.781005586592, 'z': 0.0, 't': 0, 'dummy': False, 'states': 7, 'label': 5},\n",
       " {'ID': 472, 'x': 55.85474758520139, 'y': 4946.847275378166, 'z': 0.0, 't': 0, 'dummy': False, 'states': 7, 'label': 5},\n",
       " {'ID': 473, 'x': 3417.2214306590677, 'y': 5066.100102294316, 'z': 0.0, 't': 0, 'dummy': False, 'states': 7, 'label': 5},\n",
       " {'ID': 474, 'x': 6001.347996637714, 'y': 4957.4135612216305, 'z': 0.0, 't': 0, 'dummy': False, 'states': 7, 'label': 5},\n",
       " {'ID': 475, 'x': 2223.7063256527395, 'y': 5090.58638167328, 'z': 0.0, 't': 0, 'dummy': False, 'states': 7, 'label': 5},\n",
       " {'ID': 476, 'x': 2902.9510111079467, 'y': 5095.217578087914, 'z': 0.0, 't': 0, 'dummy': False, 'states': 7, 'label': 5},\n",
       " {'ID': 477, 'x': 1255.6039930107988, 'y': 5020.833261722666, 'z': 0.0, 't': 0, 'dummy': False, 'states': 7, 'label': 5},\n",
       " {'ID': 478, 'x': 3302.9967852119753, 'y': 4996.664724398902, 'z': 0.0, 't': 0, 'dummy': False, 'states': 7, 'label': 5},\n",
       " {'ID': 479, 'x': 4821.2584001364485, 'y': 5022.557564386832, 'z': 0.0, 't': 0, 'dummy': False, 'states': 7, 'label': 5},\n",
       " {'ID': 480, 'x': 3875.0, 'y': 4965.0, 'z': 0.0, 't': 0, 'dummy': False, 'states': 7, 'label': 5},\n",
       " {'ID': 481, 'x': 5181.118139848168, 'y': 5227.516467170902, 'z': 0.0, 't': 0, 'dummy': False, 'states': 7, 'label': 5},\n",
       " {'ID': 482, 'x': 4663.388957296306, 'y': 5192.97179722295, 'z': 0.0, 't': 0, 'dummy': False, 'states': 7, 'label': 5},\n",
       " {'ID': 483, 'x': 2461.0383595242847, 'y': 5109.160682200611, 'z': 0.0, 't': 0, 'dummy': False, 'states': 7, 'label': 5},\n",
       " {'ID': 484, 'x': 4465.081602470693, 'y': 5153.806215881164, 'z': 0.0, 't': 0, 'dummy': False, 'states': 7, 'label': 5},\n",
       " {'ID': 485, 'x': 5560.284375508685, 'y': 5120.7345301490595, 'z': 0.0, 't': 0, 'dummy': False, 'states': 7, 'label': 5},\n",
       " {'ID': 486, 'x': 5842.485579598651, 'y': 5240.480390873081, 'z': 0.0, 't': 0, 'dummy': False, 'states': 7, 'label': 5},\n",
       " {'ID': 487, 'x': 192.91654672198234, 'y': 5077.601924759405, 'z': 0.0, 't': 0, 'dummy': False, 'states': 7, 'label': 5},\n",
       " {'ID': 488, 'x': 5002.0779681207105, 'y': 5124.892393215724, 'z': 0.0, 't': 0, 'dummy': False, 'states': 7, 'label': 5},\n",
       " {'ID': 489, 'x': 2115.725649992398, 'y': 5304.606720389235, 'z': 0.0, 't': 0, 'dummy': False, 'states': 7, 'label': 5},\n",
       " {'ID': 490, 'x': 2639.8765704818447, 'y': 5194.284343504073, 'z': 0.0, 't': 0, 'dummy': False, 'states': 7, 'label': 5},\n",
       " {'ID': 491, 'x': 3632.4392433309667, 'y': 5135.998351759813, 'z': 0.0, 't': 0, 'dummy': False, 'states': 7, 'label': 5},\n",
       " {'ID': 492, 'x': 4872.577041779907, 'y': 5221.816619835092, 'z': 0.0, 't': 0, 'dummy': False, 'states': 7, 'label': 5},\n",
       " {'ID': 493, 'x': 3782.5925314937012, 'y': 5164.85550389922, 'z': 0.0, 't': 0, 'dummy': False, 'states': 7, 'label': 5},\n",
       " {'ID': 494, 'x': 1399.0982161094846, 'y': 5189.468713828556, 'z': 0.0, 't': 0, 'dummy': False, 'states': 7, 'label': 5},\n",
       " {'ID': 495, 'x': 2382.0, 'y': 5098.0, 'z': 0.0, 't': 0, 'dummy': False, 'states': 7, 'label': 5},\n",
       " {'ID': 496, 'x': 1906.0467702232409, 'y': 5227.0344198285375, 'z': 0.0, 't': 0, 'dummy': False, 'states': 7, 'label': 5},\n",
       " {'ID': 497, 'x': 1170.7951079622133, 'y': 5197.573886639676, 'z': 0.0, 't': 0, 'dummy': False, 'states': 7, 'label': 5},\n",
       " {'ID': 498, 'x': 5371.1218604064115, 'y': 5191.735264420043, 'z': 0.0, 't': 0, 'dummy': False, 'states': 7, 'label': 5},\n",
       " {'ID': 499, 'x': 3494.0089930117997, 'y': 5208.425936533395, 'z': 0.0, 't': 0, 'dummy': False, 'states': 7, 'label': 5},\n",
       " {'ID': 500, 'x': 3209.6270852396706, 'y': 5182.342647990427, 'z': 0.0, 't': 0, 'dummy': False, 'states': 7, 'label': 5},\n",
       " {'ID': 501, 'x': 511.2104267684583, 'y': 5244.536194504625, 'z': 0.0, 't': 0, 'dummy': False, 'states': 7, 'label': 5},\n",
       " {'ID': 502, 'x': 295.0231435318814, 'y': 5204.864969824193, 'z': 0.0, 't': 0, 'dummy': False, 'states': 7, 'label': 5},\n",
       " {'ID': 503, 'x': 2532.4597462795805, 'y': 5194.82373749695, 'z': 0.0, 't': 0, 'dummy': False, 'states': 7, 'label': 5},\n",
       " {'ID': 504, 'x': 732.7498693444826, 'y': 5286.783055845901, 'z': 0.0, 't': 0, 'dummy': False, 'states': 7, 'label': 5},\n",
       " {'ID': 505, 'x': 2859.3259337955715, 'y': 5244.871449340192, 'z': 0.0, 't': 0, 'dummy': False, 'states': 7, 'label': 5},\n",
       " {'ID': 506, 'x': 3071.0, 'y': 5174.0, 'z': 0.0, 't': 0, 'dummy': False, 'states': 7, 'label': 5},\n",
       " {'ID': 507, 'x': 3098.406642728905, 'y': 5215.184619988031, 'z': 0.0, 't': 0, 'dummy': False, 'states': 7, 'label': 5},\n",
       " {'ID': 508, 'x': 3082.0, 'y': 5174.0, 'z': 0.0, 't': 0, 'dummy': False, 'states': 7, 'label': 5},\n",
       " {'ID': 509, 'x': 927.0795710392226, 'y': 5262.304716198601, 'z': 0.0, 't': 0, 'dummy': False, 'states': 7, 'label': 5},\n",
       " {'ID': 510, 'x': 2393.9314221472737, 'y': 5359.878379068936, 'z': 0.0, 't': 0, 'dummy': False, 'states': 7, 'label': 5},\n",
       " {'ID': 511, 'x': 2802.8564696040157, 'y': 5330.88720022309, 'z': 0.0, 't': 0, 'dummy': False, 'states': 7, 'label': 5},\n",
       " {'ID': 512, 'x': 3463.5966614377303, 'y': 5321.075757059064, 'z': 0.0, 't': 0, 'dummy': False, 'states': 7, 'label': 5},\n",
       " {'ID': 513, 'x': 3125.7007825228907, 'y': 5356.354453037153, 'z': 0.0, 't': 0, 'dummy': False, 'states': 7, 'label': 5},\n",
       " {'ID': 514, 'x': 3358.0, 'y': 5200.0, 'z': 0.0, 't': 0, 'dummy': False, 'states': 7, 'label': 5},\n",
       " {'ID': 515, 'x': 3394.0, 'y': 5201.0, 'z': 0.0, 't': 0, 'dummy': False, 'states': 7, 'label': 5},\n",
       " {'ID': 516, 'x': 4250.037747610472, 'y': 5358.093226208616, 'z': 0.0, 't': 0, 'dummy': False, 'states': 7, 'label': 5},\n",
       " {'ID': 517, 'x': 31.34701559419251, 'y': 5266.625560136225, 'z': 0.0, 't': 0, 'dummy': False, 'states': 7, 'label': 5},\n",
       " {'ID': 518, 'x': 5405.2277795821155, 'y': 5300.82700010826, 'z': 0.0, 't': 0, 'dummy': False, 'states': 7, 'label': 5},\n",
       " {'ID': 519, 'x': 5995.239430206842, 'y': 5313.616755561337, 'z': 0.0, 't': 0, 'dummy': False, 'states': 7, 'label': 5},\n",
       " {'ID': 520, 'x': 3417.31464170029, 'y': 5451.66509916463, 'z': 0.0, 't': 0, 'dummy': False, 'states': 7, 'label': 5},\n",
       " {'ID': 521, 'x': 189.03643643643645, 'y': 5307.974724724725, 'z': 0.0, 't': 0, 'dummy': False, 'states': 7, 'label': 5},\n",
       " {'ID': 522, 'x': 3725.9926276048636, 'y': 5386.737923243854, 'z': 0.0, 't': 0, 'dummy': False, 'states': 7, 'label': 5},\n",
       " {'ID': 523, 'x': 1124.5860593289026, 'y': 5361.209401847949, 'z': 0.0, 't': 0, 'dummy': False, 'states': 7, 'label': 5},\n",
       " {'ID': 524, 'x': 1517.159413552655, 'y': 5362.165099231182, 'z': 0.0, 't': 0, 'dummy': False, 'states': 7, 'label': 5},\n",
       " {'ID': 525, 'x': 1862.7793431214461, 'y': 5358.432614784011, 'z': 0.0, 't': 0, 'dummy': False, 'states': 7, 'label': 5},\n",
       " {'ID': 526, 'x': 1306.407046198495, 'y': 5375.440117436641, 'z': 0.0, 't': 0, 'dummy': False, 'states': 7, 'label': 5},\n",
       " {'ID': 527, 'x': 5660.862086849922, 'y': 5424.58456315715, 'z': 0.0, 't': 0, 'dummy': False, 'states': 7, 'label': 5},\n",
       " {'ID': 528, 'x': 4448.379735682819, 'y': 5352.632473253619, 'z': 0.0, 't': 0, 'dummy': False, 'states': 7, 'label': 5},\n",
       " {'ID': 529, 'x': 342.91784085149516, 'y': 5440.361708058794, 'z': 0.0, 't': 0, 'dummy': False, 'states': 7, 'label': 5},\n",
       " {'ID': 530, 'x': 3980.3919776246676, 'y': 5491.971894399345, 'z': 0.0, 't': 0, 'dummy': False, 'states': 7, 'label': 5},\n",
       " {'ID': 531, 'x': 4584.435662601832, 'y': 5459.1718868592825, 'z': 0.0, 't': 0, 'dummy': False, 'states': 7, 'label': 5},\n",
       " {'ID': 532, 'x': 881.4447375859795, 'y': 5490.35688934954, 'z': 0.0, 't': 0, 'dummy': False, 'states': 7, 'label': 5},\n",
       " {'ID': 533, 'x': 5253.594573310424, 'y': 5393.4455899198165, 'z': 0.0, 't': 0, 'dummy': False, 'states': 7, 'label': 5},\n",
       " {'ID': 534, 'x': 3061.5420082376936, 'y': 5492.336565761587, 'z': 0.0, 't': 0, 'dummy': False, 'states': 7, 'label': 5},\n",
       " {'ID': 535, 'x': 5024.504825362199, 'y': 5454.3417589452965, 'z': 0.0, 't': 0, 'dummy': False, 'states': 7, 'label': 5},\n",
       " {'ID': 536, 'x': 517.8225786752432, 'y': 5438.532101127713, 'z': 0.0, 't': 0, 'dummy': False, 'states': 7, 'label': 5},\n",
       " {'ID': 537, 'x': 5415.667402445832, 'y': 5512.634190896636, 'z': 0.0, 't': 0, 'dummy': False, 'states': 7, 'label': 5},\n",
       " {'ID': 538, 'x': 2723.954521003472, 'y': 5457.170155019805, 'z': 0.0, 't': 0, 'dummy': False, 'states': 7, 'label': 5},\n",
       " {'ID': 539, 'x': 129.61633788568537, 'y': 5490.649974709156, 'z': 0.0, 't': 0, 'dummy': False, 'states': 7, 'label': 5},\n",
       " {'ID': 540, 'x': 1871.2975404647798, 'y': 5513.688383518703, 'z': 0.0, 't': 0, 'dummy': False, 'states': 7, 'label': 5},\n",
       " {'ID': 541, 'x': 5524.796226958525, 'y': 5466.563076036867, 'z': 0.0, 't': 0, 'dummy': False, 'states': 7, 'label': 5},\n",
       " {'ID': 542, 'x': 1034.2947262175119, 'y': 5530.450290184204, 'z': 0.0, 't': 0, 'dummy': False, 'states': 7, 'label': 5},\n",
       " {'ID': 543, 'x': 4128.539104504586, 'y': 5516.078502688293, 'z': 0.0, 't': 0, 'dummy': False, 'states': 7, 'label': 5},\n",
       " {'ID': 544, 'x': 5832.095624892556, 'y': 5484.908157125667, 'z': 0.0, 't': 0, 'dummy': False, 'states': 7, 'label': 5},\n",
       " {'ID': 545, 'x': 695.1765594321099, 'y': 5461.4088506267935, 'z': 0.0, 't': 0, 'dummy': False, 'states': 7, 'label': 5},\n",
       " {'ID': 546, 'x': 5594.0, 'y': 5401.0, 'z': 0.0, 't': 0, 'dummy': False, 'states': 7, 'label': 5},\n",
       " {'ID': 547, 'x': 5596.0, 'y': 5406.0, 'z': 0.0, 't': 0, 'dummy': False, 'states': 7, 'label': 5},\n",
       " {'ID': 548, 'x': 5597.0, 'y': 5409.0, 'z': 0.0, 't': 0, 'dummy': False, 'states': 7, 'label': 5},\n",
       " {'ID': 549, 'x': 5598.0, 'y': 5411.5, 'z': 0.0, 't': 0, 'dummy': False, 'states': 7, 'label': 5},\n",
       " {'ID': 550, 'x': 1668.9901778869123, 'y': 5695.70041443984, 'z': 0.0, 't': 0, 'dummy': False, 'states': 7, 'label': 5},\n",
       " {'ID': 551, 'x': 5608.579598985385, 'y': 5596.93892176994, 'z': 0.0, 't': 0, 'dummy': False, 'states': 7, 'label': 5},\n",
       " {'ID': 552, 'x': 548.7980303979051, 'y': 5606.300592019127, 'z': 0.0, 't': 0, 'dummy': False, 'states': 7, 'label': 5},\n",
       " {'ID': 553, 'x': 5286.2548306148055, 'y': 5578.755984943538, 'z': 0.0, 't': 0, 'dummy': False, 'states': 7, 'label': 5},\n",
       " {'ID': 554, 'x': 4387.530919833759, 'y': 5517.946973111011, 'z': 0.0, 't': 0, 'dummy': False, 'states': 7, 'label': 5},\n",
       " {'ID': 555, 'x': 958.0, 'y': 5426.0, 'z': 0.0, 't': 0, 'dummy': False, 'states': 7, 'label': 5},\n",
       " {'ID': 556, 'x': 4782.854319540499, 'y': 5651.867987340288, 'z': 0.0, 't': 0, 'dummy': False, 'states': 7, 'label': 5},\n",
       " {'ID': 557, 'x': 5988.76718741781, 'y': 5519.55210141497, 'z': 0.0, 't': 0, 'dummy': False, 'states': 7, 'label': 5},\n",
       " {'ID': 558, 'x': 952.0, 'y': 5439.0, 'z': 0.0, 't': 0, 'dummy': False, 'states': 7, 'label': 5},\n",
       " {'ID': 559, 'x': 1176.380574151821, 'y': 5489.586519913763, 'z': 0.0, 't': 0, 'dummy': False, 'states': 7, 'label': 5},\n",
       " {'ID': 560, 'x': 951.0, 'y': 5441.0, 'z': 0.0, 't': 0, 'dummy': False, 'states': 7, 'label': 5},\n",
       " {'ID': 561, 'x': 1292.5569379507092, 'y': 5495.682621443854, 'z': 0.0, 't': 0, 'dummy': False, 'states': 7, 'label': 5},\n",
       " {'ID': 562, 'x': 944.5612198192013, 'y': 5606.216157455086, 'z': 0.0, 't': 0, 'dummy': False, 'states': 7, 'label': 5},\n",
       " {'ID': 563, 'x': 2437.935990139688, 'y': 5600.911175020542, 'z': 0.0, 't': 0, 'dummy': False, 'states': 7, 'label': 5},\n",
       " {'ID': 564, 'x': 2303.483188667988, 'y': 5623.18914913682, 'z': 0.0, 't': 0, 'dummy': False, 'states': 7, 'label': 5},\n",
       " {'ID': 565, 'x': 4377.080811196361, 'y': 5806.1516880646695, 'z': 0.0, 't': 0, 'dummy': False, 'states': 7, 'label': 5},\n",
       " {'ID': 566, 'x': 27.82807570977918, 'y': 5528.388012618297, 'z': 0.0, 't': 0, 'dummy': False, 'states': 7, 'label': 5},\n",
       " {'ID': 567, 'x': 4664.543388429752, 'y': 5670.724616292798, 'z': 0.0, 't': 0, 'dummy': False, 'states': 7, 'label': 5},\n",
       " {'ID': 568, 'x': 2703.89281286529, 'y': 5540.085898480394, 'z': 0.0, 't': 0, 'dummy': False, 'states': 7, 'label': 5},\n",
       " {'ID': 569, 'x': 716.9909299010927, 'y': 5581.131948343627, 'z': 0.0, 't': 0, 'dummy': False, 'states': 7, 'label': 5},\n",
       " {'ID': 570, 'x': 4270.7109375, 'y': 5551.047991071428, 'z': 0.0, 't': 0, 'dummy': False, 'states': 7, 'label': 5},\n",
       " {'ID': 571, 'x': 5003.218245583143, 'y': 5729.270998415214, 'z': 0.0, 't': 0, 'dummy': False, 'states': 7, 'label': 5},\n",
       " {'ID': 572, 'x': 3800.856109809173, 'y': 5641.884566454637, 'z': 0.0, 't': 0, 'dummy': False, 'states': 7, 'label': 5},\n",
       " {'ID': 573, 'x': 1224.3506515484853, 'y': 5592.854797766119, 'z': 0.0, 't': 0, 'dummy': False, 'states': 7, 'label': 5},\n",
       " {'ID': 574, 'x': 2003.192467499764, 'y': 5787.70589253675, 'z': 0.0, 't': 0, 'dummy': False, 'states': 7, 'label': 5},\n",
       " {'ID': 575, 'x': 5881.41545460812, 'y': 5618.355242296822, 'z': 0.0, 't': 0, 'dummy': False, 'states': 7, 'label': 5},\n",
       " {'ID': 576, 'x': 3247.766535164621, 'y': 5645.186172803429, 'z': 0.0, 't': 0, 'dummy': False, 'states': 7, 'label': 5},\n",
       " {'ID': 577, 'x': 3893.646665179567, 'y': 5621.574057550747, 'z': 0.0, 't': 0, 'dummy': False, 'states': 7, 'label': 5},\n",
       " {'ID': 578, 'x': 1506.234540686405, 'y': 5781.841017065106, 'z': 0.0, 't': 0, 'dummy': False, 'states': 7, 'label': 5},\n",
       " {'ID': 579, 'x': 249.09386784718805, 'y': 5623.209788489917, 'z': 0.0, 't': 0, 'dummy': False, 'states': 7, 'label': 5},\n",
       " {'ID': 580, 'x': 3640.1047613360406, 'y': 5701.355746645965, 'z': 0.0, 't': 0, 'dummy': False, 'states': 7, 'label': 5},\n",
       " {'ID': 581, 'x': 348.4388608013008, 'y': 5766.259165163487, 'z': 0.0, 't': 0, 'dummy': False, 'states': 7, 'label': 5},\n",
       " {'ID': 582, 'x': 3447.2980687477225, 'y': 5645.481659176485, 'z': 0.0, 't': 0, 'dummy': False, 'states': 7, 'label': 5},\n",
       " {'ID': 583, 'x': 2668.8027989115344, 'y': 5706.437700153644, 'z': 0.0, 't': 0, 'dummy': False, 'states': 7, 'label': 5},\n",
       " {'ID': 584, 'x': 1244.44053361217, 'y': 5740.07103585523, 'z': 0.0, 't': 0, 'dummy': False, 'states': 7, 'label': 5},\n",
       " {'ID': 585, 'x': 2863.085817243527, 'y': 5858.125233561705, 'z': 0.0, 't': 0, 'dummy': False, 'states': 7, 'label': 5},\n",
       " {'ID': 586, 'x': 3988.0320803629293, 'y': 5668.752538345215, 'z': 0.0, 't': 0, 'dummy': False, 'states': 7, 'label': 5},\n",
       " {'ID': 587, 'x': 3039.284289276808, 'y': 5669.85187032419, 'z': 0.0, 't': 0, 'dummy': False, 'states': 7, 'label': 5},\n",
       " {'ID': 588, 'x': 812.2844690434042, 'y': 5831.929392520223, 'z': 0.0, 't': 0, 'dummy': False, 'states': 7, 'label': 5},\n",
       " {'ID': 589, 'x': 5580.083753619888, 'y': 5815.651286890314, 'z': 0.0, 't': 0, 'dummy': False, 'states': 7, 'label': 5},\n",
       " {'ID': 590, 'x': 4171.9608828210385, 'y': 5775.324960211693, 'z': 0.0, 't': 0, 'dummy': False, 'states': 7, 'label': 5},\n",
       " {'ID': 591, 'x': 5463.62538320049, 'y': 5754.669484102654, 'z': 0.0, 't': 0, 'dummy': False, 'states': 7, 'label': 5},\n",
       " {'ID': 592, 'x': 463.3322092222987, 'y': 5846.154163799037, 'z': 0.0, 't': 0, 'dummy': False, 'states': 7, 'label': 5},\n",
       " {'ID': 593, 'x': 165.26531948562177, 'y': 5890.954437148729, 'z': 0.0, 't': 0, 'dummy': False, 'states': 7, 'label': 5},\n",
       " {'ID': 594, 'x': 200.01628664495115, 'y': 5738.129506907784, 'z': 0.0, 't': 0, 'dummy': False, 'states': 7, 'label': 5},\n",
       " {'ID': 595, 'x': 5723.770584396024, 'y': 5820.362435987549, 'z': 0.0, 't': 0, 'dummy': False, 'states': 7, 'label': 5},\n",
       " {'ID': 596, 'x': 5959.842390758413, 'y': 5762.862631843295, 'z': 0.0, 't': 0, 'dummy': False, 'states': 7, 'label': 5},\n",
       " {'ID': 597, 'x': 3337.0, 'y': 5694.0, 'z': 0.0, 't': 0, 'dummy': False, 'states': 7, 'label': 5},\n",
       " {'ID': 598, 'x': 2276.574543002697, 'y': 5818.5206023374285, 'z': 0.0, 't': 0, 'dummy': False, 'states': 7, 'label': 5},\n",
       " {'ID': 599, 'x': 3462.0, 'y': 5700.0, 'z': 0.0, 't': 0, 'dummy': False, 'states': 7, 'label': 5},\n",
       " {'ID': 600, 'x': 3440.1725262776367, 'y': 5776.579920260964, 'z': 0.0, 't': 0, 'dummy': False, 'states': 7, 'label': 5},\n",
       " {'ID': 601, 'x': 4866.624803682643, 'y': 5809.9890603845115, 'z': 0.0, 't': 0, 'dummy': False, 'states': 7, 'label': 5},\n",
       " {'ID': 602, 'x': 31.29803328290469, 'y': 5864.7835235868515, 'z': 0.0, 't': 0, 'dummy': False, 'states': 7, 'label': 5},\n",
       " {'ID': 603, 'x': 4564.118515713745, 'y': 5786.075539568345, 'z': 0.0, 't': 0, 'dummy': False, 'states': 7, 'label': 5},\n",
       " {'ID': 604, 'x': 5140.294594594595, 'y': 5800.376085176085, 'z': 0.0, 't': 0, 'dummy': False, 'states': 7, 'label': 5},\n",
       " {'ID': 605, 'x': 3986.18088279153, 'y': 5798.269534745004, 'z': 0.0, 't': 0, 'dummy': False, 'states': 7, 'label': 5},\n",
       " {'ID': 606, 'x': 5298.10787262149, 'y': 5905.417999381658, 'z': 0.0, 't': 0, 'dummy': False, 'states': 7, 'label': 5},\n",
       " {'ID': 607, 'x': 3120.743975253579, 'y': 5791.560463276023, 'z': 0.0, 't': 0, 'dummy': False, 'states': 7, 'label': 5},\n",
       " {'ID': 608, 'x': 5577.0, 'y': 5736.0, 'z': 0.0, 't': 0, 'dummy': False, 'states': 7, 'label': 5},\n",
       " {'ID': 609, 'x': 2566.621388925309, 'y': 5849.203706131725, 'z': 0.0, 't': 0, 'dummy': False, 'states': 7, 'label': 5},\n",
       " {'ID': 610, 'x': 3393.0, 'y': 5749.0, 'z': 0.0, 't': 0, 'dummy': False, 'states': 7, 'label': 5},\n",
       " {'ID': 611, 'x': 3189.68724370011, 'y': 5941.214556268586, 'z': 0.0, 't': 0, 'dummy': False, 'states': 7, 'label': 5},\n",
       " {'ID': 612, 'x': 3691.3561114305794, 'y': 5871.830074755607, 'z': 0.0, 't': 0, 'dummy': False, 'states': 7, 'label': 5},\n",
       " {'ID': 613, 'x': 1402.071518577802, 'y': 5884.367809828696, 'z': 0.0, 't': 0, 'dummy': False, 'states': 7, 'label': 5},\n",
       " {'ID': 614, 'x': 5121.06059088633, 'y': 5885.647771657486, 'z': 0.0, 't': 0, 'dummy': False, 'states': 7, 'label': 5},\n",
       " {'ID': 615, 'x': 5926.3097399014405, 'y': 5934.80499267462, 'z': 0.0, 't': 0, 'dummy': False, 'states': 7, 'label': 5},\n",
       " {'ID': 616, 'x': 3833.965476646772, 'y': 5936.604008103816, 'z': 0.0, 't': 0, 'dummy': False, 'states': 7, 'label': 5},\n",
       " {'ID': 617, 'x': 2490.5875174549205, 'y': 5902.978629105701, 'z': 0.0, 't': 0, 'dummy': False, 'states': 7, 'label': 5},\n",
       " {'ID': 618, 'x': 2707.3926916221035, 'y': 5903.096791443851, 'z': 0.0, 't': 0, 'dummy': False, 'states': 7, 'label': 5},\n",
       " {'ID': 619, 'x': 3387.0934816243243, 'y': 5939.449850886831, 'z': 0.0, 't': 0, 'dummy': False, 'states': 7, 'label': 5},\n",
       " {'ID': 620, 'x': 4040.0223219053723, 'y': 5937.268539285841, 'z': 0.0, 't': 0, 'dummy': False, 'states': 7, 'label': 5},\n",
       " {'ID': 621, 'x': 5421.210953011251, 'y': 5906.507776307081, 'z': 0.0, 't': 0, 'dummy': False, 'states': 7, 'label': 5},\n",
       " {'ID': 622, 'x': 1236.923324070858, 'y': 5932.199114275791, 'z': 0.0, 't': 0, 'dummy': False, 'states': 7, 'label': 5},\n",
       " {'ID': 623, 'x': 5113.146524539196, 'y': 5975.469908949589, 'z': 0.0, 't': 0, 'dummy': False, 'states': 7, 'label': 5},\n",
       " {'ID': 624, 'x': 5000.0, 'y': 5853.0, 'z': 0.0, 't': 0, 'dummy': False, 'states': 7, 'label': 5},\n",
       " {'ID': 625, 'x': 592.7892720306513, 'y': 5968.381975678827, 'z': 0.0, 't': 0, 'dummy': False, 'states': 7, 'label': 5},\n",
       " {'ID': 626, 'x': 4471.62553808948, 'y': 5983.329334945586, 'z': 0.0, 't': 0, 'dummy': False, 'states': 7, 'label': 5},\n",
       " {'ID': 627, 'x': 5533.848963070765, 'y': 5996.832044751683, 'z': 0.0, 't': 0, 'dummy': False, 'states': 7, 'label': 5},\n",
       " {'ID': 628, 'x': 772.6453031879671, 'y': 5979.727603821777, 'z': 0.0, 't': 0, 'dummy': False, 'states': 7, 'label': 5},\n",
       " {'ID': 629, 'x': 2974.701713090101, 'y': 5994.95174578266, 'z': 0.0, 't': 0, 'dummy': False, 'states': 7, 'label': 5},\n",
       " {'ID': 630, 'x': 2392.629901294938, 'y': 5994.099384225301, 'z': 0.0, 't': 0, 'dummy': False, 'states': 7, 'label': 5},\n",
       " {'ID': 631, 'x': 3555.6724622858605, 'y': 5995.128782067673, 'z': 0.0, 't': 0, 'dummy': False, 'states': 7, 'label': 5},\n",
       " {'ID': 632, 'x': 5011.263151953037, 'y': 6006.458681417927, 'z': 0.0, 't': 0, 'dummy': False, 'states': 7, 'label': 5},\n",
       " {'ID': 633, 'x': 4851.130795326046, 'y': 6003.361100640784, 'z': 0.0, 't': 0, 'dummy': False, 'states': 7, 'label': 5},\n",
       " {'ID': 634, 'x': 473.9133894515323, 'y': 6004.10068394055, 'z': 0.0, 't': 0, 'dummy': False, 'states': 7, 'label': 5},\n",
       " {'ID': 635, 'x': 315.0, 'y': 5953.0, 'z': 0.0, 't': 0, 'dummy': False, 'states': 7, 'label': 5},\n",
       " {'ID': 636, 'x': 2583.2125534950073, 'y': 6011.828459343795, 'z': 0.0, 't': 0, 'dummy': False, 'states': 7, 'label': 5},\n",
       " {'ID': 637, 'x': 1986.7669512195123, 'y': 6017.118231707317, 'z': 0.0, 't': 0, 'dummy': False, 'states': 7, 'label': 5},\n",
       " {'ID': 638, 'x': 41.47155105222136, 'y': 6010.389711613406, 'z': 0.0, 't': 0, 'dummy': False, 'states': 7, 'label': 5},\n",
       " {'ID': 639, 'x': 4190.724909222949, 'y': 6016.661437908497, 'z': 0.0, 't': 0, 'dummy': False, 'states': 7, 'label': 5},\n",
       " {'ID': 640, 'x': 80.0, 'y': 5979.0, 'z': 0.0, 't': 0, 'dummy': False, 'states': 7, 'label': 5},\n",
       " {'ID': 641, 'x': 1364.3793907793633, 'y': 6020.4086169045, 'z': 0.0, 't': 0, 'dummy': False, 'states': 7, 'label': 5},\n",
       " {'ID': 642, 'x': 1701.4456572224803, 'y': 6016.919879238272, 'z': 0.0, 't': 0, 'dummy': False, 'states': 7, 'label': 5},\n",
       " {'ID': 643, 'x': 1138.8972564905173, 'y': 6019.626956361628, 'z': 0.0, 't': 0, 'dummy': False, 'states': 7, 'label': 5},\n",
       " {'ID': 644, 'x': 4945.0, 'y': 6043.0, 'z': 0.0, 't': 0, 'dummy': False, 'states': 7, 'label': 5},\n",
       " {'ID': 645, 'x': 578.2797406378193, 'y': 206.56384808786555, 'z': 0.0, 't': 1, 'dummy': False, 'states': 7, 'label': 5},\n",
       " {'ID': 646, 'x': 1166.7338926174496, 'y': 54.74624161073825, 'z': 0.0, 't': 1, 'dummy': False, 'states': 7, 'label': 5},\n",
       " {'ID': 647, 'x': 1821.3493882091213, 'y': 31.692992213570633, 'z': 0.0, 't': 1, 'dummy': False, 'states': 7, 'label': 5},\n",
       " {'ID': 648, 'x': 3657.0943112618515, 'y': 43.24100053958221, 'z': 0.0, 't': 1, 'dummy': False, 'states': 7, 'label': 5},\n",
       " {'ID': 649, 'x': 5016.71405394016, 'y': 118.28771597134428, 'z': 0.0, 't': 1, 'dummy': False, 'states': 7, 'label': 5},\n",
       " {'ID': 650, 'x': 5892.138549026366, 'y': 43.24642426331208, 'z': 0.0, 't': 1, 'dummy': False, 'states': 7, 'label': 5},\n",
       " {'ID': 651, 'x': 3817.963500081473, 'y': 106.43593503883548, 'z': 0.0, 't': 1, 'dummy': False, 'states': 7, 'label': 5},\n",
       " {'ID': 652, 'x': 2234.101884404444, 'y': 150.20658135283364, 'z': 0.0, 't': 1, 'dummy': False, 'states': 7, 'label': 5},\n",
       " {'ID': 653, 'x': 2768.0434979354036, 'y': 131.1385824990101, 'z': 0.0, 't': 1, 'dummy': False, 'states': 7, 'label': 5},\n",
       " {'ID': 654, 'x': 28.445706241201314, 'y': 159.26785546691693, 'z': 0.0, 't': 1, 'dummy': False, 'states': 7, 'label': 5},\n",
       " {'ID': 655, 'x': 4559.502750415761, 'y': 110.10899321990533, 'z': 0.0, 't': 1, 'dummy': False, 'states': 7, 'label': 5},\n",
       " {'ID': 656, 'x': 1420.1363406621178, 'y': 177.0656642237385, 'z': 0.0, 't': 1, 'dummy': False, 'states': 7, 'label': 5},\n",
       " {'ID': 657, 'x': 232.7584069293478, 'y': 189.3150050951087, 'z': 0.0, 't': 1, 'dummy': False, 'states': 7, 'label': 5},\n",
       " {'ID': 658, 'x': 1680.2712, 'y': 127.3488, 'z': 0.0, 't': 1, 'dummy': False, 'states': 7, 'label': 5},\n",
       " {'ID': 659, 'x': 4263.576832981963, 'y': 209.46104474115717, 'z': 0.0, 't': 1, 'dummy': False, 'states': 7, 'label': 5},\n",
       " {'ID': 660, 'x': 415.2564553031541, 'y': 266.78701585226344, 'z': 0.0, 't': 1, 'dummy': False, 'states': 7, 'label': 5},\n",
       " {'ID': 661, 'x': 4605.910067075863, 'y': 372.32881413862344, 'z': 0.0, 't': 1, 'dummy': False, 'states': 7, 'label': 5},\n",
       " {'ID': 662, 'x': 834.2627508487174, 'y': 315.8719591812137, 'z': 0.0, 't': 1, 'dummy': False, 'states': 7, 'label': 5},\n",
       " {'ID': 663, 'x': 2585.1964457766835, 'y': 203.30607001391715, 'z': 0.0, 't': 1, 'dummy': False, 'states': 7, 'label': 5},\n",
       " {'ID': 664, 'x': 4516.743060989644, 'y': 258.61330264672034, 'z': 0.0, 't': 1, 'dummy': False, 'states': 7, 'label': 5},\n",
       " {'ID': 665, 'x': 5393.419209511867, 'y': 256.96377316427476, 'z': 0.0, 't': 1, 'dummy': False, 'states': 7, 'label': 5},\n",
       " {'ID': 666, 'x': 5180.619381692458, 'y': 350.71602161726696, 'z': 0.0, 't': 1, 'dummy': False, 'states': 7, 'label': 5},\n",
       " {'ID': 667, 'x': 620.4820000531364, 'y': 439.45176545604295, 'z': 0.0, 't': 1, 'dummy': False, 'states': 7, 'label': 5},\n",
       " {'ID': 668, 'x': 5690.635036934718, 'y': 315.754339078734, 'z': 0.0, 't': 1, 'dummy': False, 'states': 7, 'label': 5},\n",
       " {'ID': 669, 'x': 1833.482167542162, 'y': 264.98507050041474, 'z': 0.0, 't': 1, 'dummy': False, 'states': 7, 'label': 5},\n",
       " {'ID': 670, 'x': 5651.497540857626, 'y': 432.6406065884523, 'z': 0.0, 't': 1, 'dummy': False, 'states': 7, 'label': 5},\n",
       " {'ID': 671, 'x': 4909.117607840522, 'y': 428.0042169477965, 'z': 0.0, 't': 1, 'dummy': False, 'states': 7, 'label': 5},\n",
       " {'ID': 672, 'x': 4194.050032071841, 'y': 392.2940434849926, 'z': 0.0, 't': 1, 'dummy': False, 'states': 7, 'label': 5},\n",
       " {'ID': 673, 'x': 2718.574218381479, 'y': 461.2637974301402, 'z': 0.0, 't': 1, 'dummy': False, 'states': 7, 'label': 5},\n",
       " {'ID': 674, 'x': 2514.243654575513, 'y': 471.31102304774873, 'z': 0.0, 't': 1, 'dummy': False, 'states': 7, 'label': 5},\n",
       " {'ID': 675, 'x': 3322.9203290981045, 'y': 387.0855030202041, 'z': 0.0, 't': 1, 'dummy': False, 'states': 7, 'label': 5},\n",
       " {'ID': 676, 'x': 5434.66979175309, 'y': 373.4645316518709, 'z': 0.0, 't': 1, 'dummy': False, 'states': 7, 'label': 5},\n",
       " {'ID': 677, 'x': 116.85303638870572, 'y': 411.72672501648583, 'z': 0.0, 't': 1, 'dummy': False, 'states': 7, 'label': 5},\n",
       " {'ID': 678, 'x': 1324.6916870828757, 'y': 434.74710653037084, 'z': 0.0, 't': 1, 'dummy': False, 'states': 7, 'label': 5},\n",
       " {'ID': 679, 'x': 1566.960362226237, 'y': 442.70684792667345, 'z': 0.0, 't': 1, 'dummy': False, 'states': 7, 'label': 5},\n",
       " {'ID': 680, 'x': 2202.9852262810123, 'y': 469.3341229273158, 'z': 0.0, 't': 1, 'dummy': False, 'states': 7, 'label': 5},\n",
       " {'ID': 681, 'x': 2903.1212278202306, 'y': 533.6034624185123, 'z': 0.0, 't': 1, 'dummy': False, 'states': 7, 'label': 5},\n",
       " {'ID': 682, 'x': 5085.514696071891, 'y': 565.5963191147039, 'z': 0.0, 't': 1, 'dummy': False, 'states': 7, 'label': 5},\n",
       " {'ID': 683, 'x': 855.2151817988517, 'y': 593.1438346896565, 'z': 0.0, 't': 1, 'dummy': False, 'states': 7, 'label': 5},\n",
       " {'ID': 684, 'x': 3375.044294176233, 'y': 597.3881899669759, 'z': 0.0, 't': 1, 'dummy': False, 'states': 7, 'label': 5},\n",
       " {'ID': 685, 'x': 705.3022528418877, 'y': 835.0493833964864, 'z': 0.0, 't': 1, 'dummy': False, 'states': 7, 'label': 5},\n",
       " {'ID': 686, 'x': 5306.173129996193, 'y': 597.4386181956604, 'z': 0.0, 't': 1, 'dummy': False, 'states': 7, 'label': 5},\n",
       " {'ID': 687, 'x': 1900.520726933347, 'y': 556.8492728074042, 'z': 0.0, 't': 1, 'dummy': False, 'states': 7, 'label': 5},\n",
       " {'ID': 688, 'x': 1461.7353848919786, 'y': 604.7084469481317, 'z': 0.0, 't': 1, 'dummy': False, 'states': 7, 'label': 5},\n",
       " {'ID': 689, 'x': 3596.477946124884, 'y': 664.6474108295895, 'z': 0.0, 't': 1, 'dummy': False, 'states': 7, 'label': 5},\n",
       " {'ID': 690, 'x': 5910.085298339143, 'y': 632.0216663249265, 'z': 0.0, 't': 1, 'dummy': False, 'states': 7, 'label': 5},\n",
       " {'ID': 691, 'x': 2257.1062453150275, 'y': 679.7366552254705, 'z': 0.0, 't': 1, 'dummy': False, 'states': 7, 'label': 5},\n",
       " {'ID': 692, 'x': 4982.640296940612, 'y': 723.0376674665067, 'z': 0.0, 't': 1, 'dummy': False, 'states': 7, 'label': 5},\n",
       " {'ID': 693, 'x': 5597.366922936116, 'y': 802.9525596436634, 'z': 0.0, 't': 1, 'dummy': False, 'states': 7, 'label': 5},\n",
       " {'ID': 694, 'x': 3979.9540405105167, 'y': 707.2016444221008, 'z': 0.0, 't': 1, 'dummy': False, 'states': 7, 'label': 5},\n",
       " {'ID': 695, 'x': 5762.042748808804, 'y': 741.810281189182, 'z': 0.0, 't': 1, 'dummy': False, 'states': 7, 'label': 5},\n",
       " {'ID': 696, 'x': 6015.601887746503, 'y': 677.1493342322602, 'z': 0.0, 't': 1, 'dummy': False, 'states': 7, 'label': 5},\n",
       " {'ID': 697, 'x': 146.5319320124711, 'y': 787.6559723758759, 'z': 0.0, 't': 1, 'dummy': False, 'states': 7, 'label': 5},\n",
       " {'ID': 698, 'x': 2462.9818722626883, 'y': 809.7941541560297, 'z': 0.0, 't': 1, 'dummy': False, 'states': 7, 'label': 5},\n",
       " {'ID': 699, 'x': 5384.719022687609, 'y': 794.5000484777971, 'z': 0.0, 't': 1, 'dummy': False, 'states': 7, 'label': 5},\n",
       " {'ID': 700, 'x': 3263.3898160709214, 'y': 814.4624727892229, 'z': 0.0, 't': 1, 'dummy': False, 'states': 7, 'label': 5},\n",
       " {'ID': 701, 'x': 5971.0983107024485, 'y': 877.334491606971, 'z': 0.0, 't': 1, 'dummy': False, 'states': 7, 'label': 5},\n",
       " {'ID': 702, 'x': 5167.5573013402945, 'y': 800.0799156668842, 'z': 0.0, 't': 1, 'dummy': False, 'states': 7, 'label': 5},\n",
       " {'ID': 703, 'x': 2955.279584006462, 'y': 763.527766558966, 'z': 0.0, 't': 1, 'dummy': False, 'states': 7, 'label': 5},\n",
       " {'ID': 704, 'x': 3607.101205542119, 'y': 933.0461218291242, 'z': 0.0, 't': 1, 'dummy': False, 'states': 7, 'label': 5},\n",
       " {'ID': 705, 'x': 2089.644118308592, 'y': 832.4508547008547, 'z': 0.0, 't': 1, 'dummy': False, 'states': 7, 'label': 5},\n",
       " {'ID': 706, 'x': 3768.711200433189, 'y': 1000.5004998333889, 'z': 0.0, 't': 1, 'dummy': False, 'states': 7, 'label': 5},\n",
       " {'ID': 707, 'x': 296.4816748459852, 'y': 893.620584038147, 'z': 0.0, 't': 1, 'dummy': False, 'states': 7, 'label': 5},\n",
       " {'ID': 708, 'x': 4822.068300426991, 'y': 913.8921024780118, 'z': 0.0, 't': 1, 'dummy': False, 'states': 7, 'label': 5},\n",
       " {'ID': 709, 'x': 4285.537412587412, 'y': 934.6721833721833, 'z': 0.0, 't': 1, 'dummy': False, 'states': 7, 'label': 5},\n",
       " {'ID': 710, 'x': 2753.8373239674447, 'y': 1053.1969369491067, 'z': 0.0, 't': 1, 'dummy': False, 'states': 7, 'label': 5},\n",
       " {'ID': 711, 'x': 1377.883565824874, 'y': 1008.5026338993014, 'z': 0.0, 't': 1, 'dummy': False, 'states': 7, 'label': 5},\n",
       " {'ID': 712, 'x': 4578.520578025012, 'y': 1023.7065958425698, 'z': 0.0, 't': 1, 'dummy': False, 'states': 7, 'label': 5},\n",
       " {'ID': 713, 'x': 4930.802307137707, 'y': 1121.5675558759913, 'z': 0.0, 't': 1, 'dummy': False, 'states': 7, 'label': 5},\n",
       " {'ID': 714, 'x': 84.8514890705463, 'y': 1020.9852353343657, 'z': 0.0, 't': 1, 'dummy': False, 'states': 7, 'label': 5},\n",
       " {'ID': 715, 'x': 5637.620030552554, 'y': 1125.7193387731784, 'z': 0.0, 't': 1, 'dummy': False, 'states': 7, 'label': 5},\n",
       " {'ID': 716, 'x': 1633.508421247455, 'y': 1068.1604355604911, 'z': 0.0, 't': 1, 'dummy': False, 'states': 7, 'label': 5},\n",
       " {'ID': 717, 'x': 5175.969903597461, 'y': 1026.5317814875773, 'z': 0.0, 't': 1, 'dummy': False, 'states': 7, 'label': 5},\n",
       " {'ID': 718, 'x': 2093.4246348349084, 'y': 1075.9306493187676, 'z': 0.0, 't': 1, 'dummy': False, 'states': 7, 'label': 5},\n",
       " {'ID': 719, 'x': 4748.652831820147, 'y': 1063.0, 'z': 0.0, 't': 1, 'dummy': False, 'states': 7, 'label': 5},\n",
       " {'ID': 720, 'x': 871.7566986730811, 'y': 1228.1767187838877, 'z': 0.0, 't': 1, 'dummy': False, 'states': 7, 'label': 5},\n",
       " {'ID': 721, 'x': 5369.212092404221, 'y': 1104.1706435973, 'z': 0.0, 't': 1, 'dummy': False, 'states': 7, 'label': 5},\n",
       " {'ID': 722, 'x': 3404.818846014946, 'y': 1063.765952718282, 'z': 0.0, 't': 1, 'dummy': False, 'states': 7, 'label': 5},\n",
       " {'ID': 723, 'x': 3086.2637387514856, 'y': 1115.1179466862868, 'z': 0.0, 't': 1, 'dummy': False, 'states': 7, 'label': 5},\n",
       " {'ID': 724, 'x': 2498.083728125302, 'y': 1106.5884656289277, 'z': 0.0, 't': 1, 'dummy': False, 'states': 7, 'label': 5},\n",
       " {'ID': 725, 'x': 6021.240019011407, 'y': 1143.5279230038022, 'z': 0.0, 't': 1, 'dummy': False, 'states': 7, 'label': 5},\n",
       " {'ID': 726, 'x': 172.19092134831462, 'y': 1130.584224719101, 'z': 0.0, 't': 1, 'dummy': False, 'states': 7, 'label': 5},\n",
       " {'ID': 727, 'x': 984.0320715610342, 'y': 1191.421457401549, 'z': 0.0, 't': 1, 'dummy': False, 'states': 7, 'label': 5},\n",
       " {'ID': 728, 'x': 5185.441786981673, 'y': 1145.3968693792233, 'z': 0.0, 't': 1, 'dummy': False, 'states': 7, 'label': 5},\n",
       " {'ID': 729, 'x': 1854.7304934464148, 'y': 1165.5264070932922, 'z': 0.0, 't': 1, 'dummy': False, 'states': 7, 'label': 5},\n",
       " {'ID': 730, 'x': 2246.7027027027025, 'y': 1186.205029674224, 'z': 0.0, 't': 1, 'dummy': False, 'states': 7, 'label': 5},\n",
       " {'ID': 731, 'x': 3815.708214801523, 'y': 1225.6248194669352, 'z': 0.0, 't': 1, 'dummy': False, 'states': 7, 'label': 5},\n",
       " {'ID': 732, 'x': 1331.5464211315723, 'y': 1234.109540871594, 'z': 0.0, 't': 1, 'dummy': False, 'states': 7, 'label': 5},\n",
       " {'ID': 733, 'x': 2783.7037696546163, 'y': 1273.711665098777, 'z': 0.0, 't': 1, 'dummy': False, 'states': 7, 'label': 5},\n",
       " {'ID': 734, 'x': 3607.116498959056, 'y': 1307.9575526254916, 'z': 0.0, 't': 1, 'dummy': False, 'states': 7, 'label': 5},\n",
       " {'ID': 735, 'x': 1580.5085113835376, 'y': 1209.5874605954466, 'z': 0.0, 't': 1, 'dummy': False, 'states': 7, 'label': 5},\n",
       " {'ID': 736, 'x': 2522.256402187168, 'y': 1353.6651587270367, 'z': 0.0, 't': 1, 'dummy': False, 'states': 7, 'label': 5},\n",
       " {'ID': 737, 'x': 5203.977609384365, 'y': 1356.0959842452264, 'z': 0.0, 't': 1, 'dummy': False, 'states': 7, 'label': 5},\n",
       " {'ID': 738, 'x': 4741.772121966397, 'y': 1389.818139390168, 'z': 0.0, 't': 1, 'dummy': False, 'states': 7, 'label': 5},\n",
       " {'ID': 739, 'x': 1472.7265611101227, 'y': 1337.8603451343176, 'z': 0.0, 't': 1, 'dummy': False, 'states': 7, 'label': 5},\n",
       " {'ID': 740, 'x': 4457.813075620535, 'y': 1369.8715566018254, 'z': 0.0, 't': 1, 'dummy': False, 'states': 7, 'label': 5},\n",
       " {'ID': 741, 'x': 2103.3334497765745, 'y': 1438.120562420855, 'z': 0.0, 't': 1, 'dummy': False, 'states': 7, 'label': 5},\n",
       " {'ID': 742, 'x': 5522.971330099005, 'y': 1378.5622242223344, 'z': 0.0, 't': 1, 'dummy': False, 'states': 7, 'label': 5},\n",
       " {'ID': 743, 'x': 2908.0965667860573, 'y': 1460.6603476893508, 'z': 0.0, 't': 1, 'dummy': False, 'states': 7, 'label': 5},\n",
       " {'ID': 744, 'x': 5051.445889456572, 'y': 1273.505573618207, 'z': 0.0, 't': 1, 'dummy': False, 'states': 7, 'label': 5},\n",
       " {'ID': 745, 'x': 3860.5179894320386, 'y': 1351.723639839622, 'z': 0.0, 't': 1, 'dummy': False, 'states': 7, 'label': 5},\n",
       " {'ID': 746, 'x': 2248.4981589010054, 'y': 1328.981943067554, 'z': 0.0, 't': 1, 'dummy': False, 'states': 7, 'label': 5},\n",
       " {'ID': 747, 'x': 1632.3124982621994, 'y': 1512.2397469762268, 'z': 0.0, 't': 1, 'dummy': False, 'states': 7, 'label': 5},\n",
       " {'ID': 748, 'x': 4064.959465329992, 'y': 1415.900918964077, 'z': 0.0, 't': 1, 'dummy': False, 'states': 7, 'label': 5},\n",
       " {'ID': 749, 'x': 1081.663643013899, 'y': 1410.4889539136796, 'z': 0.0, 't': 1, 'dummy': False, 'states': 7, 'label': 5},\n",
       " {'ID': 750, 'x': 4266.299414172217, 'y': 1459.0342267875772, 'z': 0.0, 't': 1, 'dummy': False, 'states': 7, 'label': 5},\n",
       " {'ID': 751, 'x': 3725.4120753985558, 'y': 1574.3410056371242, 'z': 0.0, 't': 1, 'dummy': False, 'states': 7, 'label': 5},\n",
       " {'ID': 752, 'x': 2361.0001221926245, 'y': 1514.3274273564848, 'z': 0.0, 't': 1, 'dummy': False, 'states': 7, 'label': 5},\n",
       " {'ID': 753, 'x': 26.007578889348217, 'y': 1493.8850764778833, 'z': 0.0, 't': 1, 'dummy': False, 'states': 7, 'label': 5},\n",
       " {'ID': 754, 'x': 5424.688152011922, 'y': 1525.0387481371088, 'z': 0.0, 't': 1, 'dummy': False, 'states': 7, 'label': 5},\n",
       " {'ID': 755, 'x': 2497.162499083376, 'y': 1612.6446676932853, 'z': 0.0, 't': 1, 'dummy': False, 'states': 7, 'label': 5},\n",
       " {'ID': 756, 'x': 3478.1704626334517, 'y': 1512.1989323843416, 'z': 0.0, 't': 1, 'dummy': False, 'states': 7, 'label': 5},\n",
       " {'ID': 757, 'x': 746.2815926139642, 'y': 1569.3812579342182, 'z': 0.0, 't': 1, 'dummy': False, 'states': 7, 'label': 5},\n",
       " {'ID': 758, 'x': 1036.34295582954, 'y': 1562.8683120982685, 'z': 0.0, 't': 1, 'dummy': False, 'states': 7, 'label': 5},\n",
       " {'ID': 759, 'x': 5217.5223169398905, 'y': 1622.263825136612, 'z': 0.0, 't': 1, 'dummy': False, 'states': 7, 'label': 5},\n",
       " {'ID': 760, 'x': 3958.7330468711416, 'y': 1603.804168518793, 'z': 0.0, 't': 1, 'dummy': False, 'states': 7, 'label': 5},\n",
       " {'ID': 761, 'x': 6007.573970165595, 'y': 1671.013959217189, 'z': 0.0, 't': 1, 'dummy': False, 'states': 7, 'label': 5},\n",
       " {'ID': 762, 'x': 4130.339455307262, 'y': 1624.4436452513967, 'z': 0.0, 't': 1, 'dummy': False, 'states': 7, 'label': 5},\n",
       " {'ID': 763, 'x': 436.9683453945749, 'y': 1673.0789149805544, 'z': 0.0, 't': 1, 'dummy': False, 'states': 7, 'label': 5},\n",
       " {'ID': 764, 'x': 3293.58540239726, 'y': 1869.201819349315, 'z': 0.0, 't': 1, 'dummy': False, 'states': 7, 'label': 5},\n",
       " {'ID': 765, 'x': 2874.076875037773, 'y': 1682.823626583936, 'z': 0.0, 't': 1, 'dummy': False, 'states': 7, 'label': 5},\n",
       " {'ID': 766, 'x': 141.84447656151815, 'y': 1764.0806836747518, 'z': 0.0, 't': 1, 'dummy': False, 'states': 7, 'label': 5},\n",
       " {'ID': 767, 'x': 1050.3837823482545, 'y': 1697.4049986721354, 'z': 0.0, 't': 1, 'dummy': False, 'states': 7, 'label': 5},\n",
       " {'ID': 768, 'x': 1537.6278207971948, 'y': 1796.0872637437076, 'z': 0.0, 't': 1, 'dummy': False, 'states': 7, 'label': 5},\n",
       " {'ID': 769, 'x': 5312.744562879403, 'y': 1696.9802590698341, 'z': 0.0, 't': 1, 'dummy': False, 'states': 7, 'label': 5},\n",
       " {'ID': 770, 'x': 736.4127279816315, 'y': 1757.7086817138154, 'z': 0.0, 't': 1, 'dummy': False, 'states': 7, 'label': 5},\n",
       " {'ID': 771, 'x': 3640.2104888708204, 'y': 1870.2099044618355, 'z': 0.0, 't': 1, 'dummy': False, 'states': 7, 'label': 5},\n",
       " {'ID': 772, 'x': 5452.565272019098, 'y': 1939.6900207312476, 'z': 0.0, 't': 1, 'dummy': False, 'states': 7, 'label': 5},\n",
       " {'ID': 773, 'x': 4100.25198961213, 'y': 1774.19158917651, 'z': 0.0, 't': 1, 'dummy': False, 'states': 7, 'label': 5},\n",
       " {'ID': 774, 'x': 2176.2241701647326, 'y': 1973.5471268827825, 'z': 0.0, 't': 1, 'dummy': False, 'states': 7, 'label': 5},\n",
       " {'ID': 775, 'x': 5619.908733722496, 'y': 1772.5788055680287, 'z': 0.0, 't': 1, 'dummy': False, 'states': 7, 'label': 5},\n",
       " {'ID': 776, 'x': 4318.4091509664795, 'y': 1812.8716907266944, 'z': 0.0, 't': 1, 'dummy': False, 'states': 7, 'label': 5},\n",
       " {'ID': 777, 'x': 3432.72340510129, 'y': 1937.0841533965527, 'z': 0.0, 't': 1, 'dummy': False, 'states': 7, 'label': 5},\n",
       " {'ID': 778, 'x': 5891.392267306422, 'y': 1841.380098049442, 'z': 0.0, 't': 1, 'dummy': False, 'states': 7, 'label': 5},\n",
       " {'ID': 779, 'x': 4938.613142940405, 'y': 1800.8756010491038, 'z': 0.0, 't': 1, 'dummy': False, 'states': 7, 'label': 5},\n",
       " {'ID': 780, 'x': 4683.020123970451, 'y': 1897.4368684724463, 'z': 0.0, 't': 1, 'dummy': False, 'states': 7, 'label': 5},\n",
       " {'ID': 781, 'x': 2892.9951238493622, 'y': 1853.1208944878827, 'z': 0.0, 't': 1, 'dummy': False, 'states': 7, 'label': 5},\n",
       " {'ID': 782, 'x': 4270.467722582193, 'y': 1941.2792576593872, 'z': 0.0, 't': 1, 'dummy': False, 'states': 7, 'label': 5},\n",
       " {'ID': 783, 'x': 1852.1545376377705, 'y': 1940.0168646916281, 'z': 0.0, 't': 1, 'dummy': False, 'states': 7, 'label': 5},\n",
       " {'ID': 784, 'x': 5711.391145410235, 'y': 1894.5365556458164, 'z': 0.0, 't': 1, 'dummy': False, 'states': 7, 'label': 5},\n",
       " {'ID': 785, 'x': 869.3371242619431, 'y': 1982.7642075952765, 'z': 0.0, 't': 1, 'dummy': False, 'states': 7, 'label': 5},\n",
       " {'ID': 786, 'x': 3753.519705629646, 'y': 1931.6445888901342, 'z': 0.0, 't': 1, 'dummy': False, 'states': 7, 'label': 5},\n",
       " {'ID': 787, 'x': 1134.348423975658, 'y': 1992.0423178044962, 'z': 0.0, 't': 1, 'dummy': False, 'states': 7, 'label': 5},\n",
       " {'ID': 788, 'x': 5076.482018682664, 'y': 1917.4363565822066, 'z': 0.0, 't': 1, 'dummy': False, 'states': 7, 'label': 5},\n",
       " {'ID': 789, 'x': 4049.8949306722334, 'y': 2121.9935678767206, 'z': 0.0, 't': 1, 'dummy': False, 'states': 7, 'label': 5},\n",
       " {'ID': 790, 'x': 4155.523763020833, 'y': 2002.9102918836807, 'z': 0.0, 't': 1, 'dummy': False, 'states': 7, 'label': 5},\n",
       " {'ID': 791, 'x': 2475.601414361206, 'y': 1932.3352502331365, 'z': 0.0, 't': 1, 'dummy': False, 'states': 7, 'label': 5},\n",
       " {'ID': 792, 'x': 2667.8865272456624, 'y': 2023.4037921862418, 'z': 0.0, 't': 1, 'dummy': False, 'states': 7, 'label': 5},\n",
       " {'ID': 793, 'x': 354.0457444869692, 'y': 1946.4247311827958, 'z': 0.0, 't': 1, 'dummy': False, 'states': 7, 'label': 5},\n",
       " {'ID': 794, 'x': 5654.709517122178, 'y': 2048.154878933317, 'z': 0.0, 't': 1, 'dummy': False, 'states': 7, 'label': 5},\n",
       " {'ID': 795, 'x': 1371.5350765828487, 'y': 2049.019002375297, 'z': 0.0, 't': 1, 'dummy': False, 'states': 7, 'label': 5},\n",
       " {'ID': 796, 'x': 3105.4858716785484, 'y': 1986.3254698639014, 'z': 0.0, 't': 1, 'dummy': False, 'states': 7, 'label': 5},\n",
       " {'ID': 797, 'x': 619.7510880482089, 'y': 2041.4433377971209, 'z': 0.0, 't': 1, 'dummy': False, 'states': 7, 'label': 5},\n",
       " {'ID': 798, 'x': 5110.995771149845, 'y': 2055.536034725796, 'z': 0.0, 't': 1, 'dummy': False, 'states': 7, 'label': 5},\n",
       " {'ID': 799, 'x': 3742.7046865339435, 'y': 2059.7454185730185, 'z': 0.0, 't': 1, 'dummy': False, 'states': 7, 'label': 5},\n",
       " {'ID': 800, 'x': 2877.0145097590294, 'y': 2074.244004350066, 'z': 0.0, 't': 1, 'dummy': False, 'states': 7, 'label': 5},\n",
       " {'ID': 801, 'x': 678.0, 'y': 1976.0, 'z': 0.0, 't': 1, 'dummy': False, 'states': 7, 'label': 5},\n",
       " {'ID': 802, 'x': 1998.800058950678, 'y': 2070.6531735114954, 'z': 0.0, 't': 1, 'dummy': False, 'states': 7, 'label': 5},\n",
       " {'ID': 803, 'x': 758.4305678793256, 'y': 2062.477539929015, 'z': 0.0, 't': 1, 'dummy': False, 'states': 7, 'label': 5},\n",
       " {'ID': 804, 'x': 217.33957953425977, 'y': 2084.380054077847, 'z': 0.0, 't': 1, 'dummy': False, 'states': 7, 'label': 5},\n",
       " {'ID': 805, 'x': 1652.2527615833078, 'y': 2087.4737266032525, 'z': 0.0, 't': 1, 'dummy': False, 'states': 7, 'label': 5},\n",
       " {'ID': 806, 'x': 3235.6957082811, 'y': 2094.675503281469, 'z': 0.0, 't': 1, 'dummy': False, 'states': 7, 'label': 5},\n",
       " {'ID': 807, 'x': 5196.545081967213, 'y': 2187.7554859945785, 'z': 0.0, 't': 1, 'dummy': False, 'states': 7, 'label': 5},\n",
       " {'ID': 808, 'x': 2557.721057924923, 'y': 2239.452173203947, 'z': 0.0, 't': 1, 'dummy': False, 'states': 7, 'label': 5},\n",
       " {'ID': 809, 'x': 3588.0, 'y': 2058.0, 'z': 0.0, 't': 1, 'dummy': False, 'states': 7, 'label': 5},\n",
       " {'ID': 810, 'x': 3587.0, 'y': 2062.0, 'z': 0.0, 't': 1, 'dummy': False, 'states': 7, 'label': 5},\n",
       " {'ID': 811, 'x': 3585.0, 'y': 2071.0, 'z': 0.0, 't': 1, 'dummy': False, 'states': 7, 'label': 5},\n",
       " {'ID': 812, 'x': 474.8588768645803, 'y': 2173.7339865457734, 'z': 0.0, 't': 1, 'dummy': False, 'states': 7, 'label': 5},\n",
       " {'ID': 813, 'x': 4240.2144234173975, 'y': 2187.1522602982254, 'z': 0.0, 't': 1, 'dummy': False, 'states': 7, 'label': 5},\n",
       " {'ID': 814, 'x': 3582.985435066516, 'y': 2219.8561214777433, 'z': 0.0, 't': 1, 'dummy': False, 'states': 7, 'label': 5},\n",
       " {'ID': 815, 'x': 3016.2623723487823, 'y': 2137.026708562451, 'z': 0.0, 't': 1, 'dummy': False, 'states': 7, 'label': 5},\n",
       " {'ID': 816, 'x': 29.78373168851195, 'y': 2217.7816756617835, 'z': 0.0, 't': 1, 'dummy': False, 'states': 7, 'label': 5},\n",
       " {'ID': 817, 'x': 1823.032226191381, 'y': 2189.9614653796457, 'z': 0.0, 't': 1, 'dummy': False, 'states': 7, 'label': 5},\n",
       " {'ID': 818, 'x': 5896.186504128769, 'y': 2312.6125984890464, 'z': 0.0, 't': 1, 'dummy': False, 'states': 7, 'label': 5},\n",
       " {'ID': 819, 'x': 3033.293491795785, 'y': 2306.3939126459973, 'z': 0.0, 't': 1, 'dummy': False, 'states': 7, 'label': 5},\n",
       " {'ID': 820, 'x': 1735.2007340318476, 'y': 2319.18256082401, 'z': 0.0, 't': 1, 'dummy': False, 'states': 7, 'label': 5},\n",
       " {'ID': 821, 'x': 5368.076473501734, 'y': 2218.849727587915, 'z': 0.0, 't': 1, 'dummy': False, 'states': 7, 'label': 5},\n",
       " {'ID': 822, 'x': 5616.807672369103, 'y': 2268.285458786936, 'z': 0.0, 't': 1, 'dummy': False, 'states': 7, 'label': 5},\n",
       " {'ID': 823, 'x': 4362.463309621864, 'y': 2272.946836390865, 'z': 0.0, 't': 1, 'dummy': False, 'states': 7, 'label': 5},\n",
       " {'ID': 824, 'x': 2277.935814250634, 'y': 2430.7445347281837, 'z': 0.0, 't': 1, 'dummy': False, 'states': 7, 'label': 5},\n",
       " {'ID': 825, 'x': 3863.1378651619348, 'y': 2322.7334097454886, 'z': 0.0, 't': 1, 'dummy': False, 'states': 7, 'label': 5},\n",
       " {'ID': 826, 'x': 3311.2516390125456, 'y': 2283.9885066774586, 'z': 0.0, 't': 1, 'dummy': False, 'states': 7, 'label': 5},\n",
       " {'ID': 827, 'x': 304.0180474673113, 'y': 2383.6764915943304, 'z': 0.0, 't': 1, 'dummy': False, 'states': 7, 'label': 5},\n",
       " {'ID': 828, 'x': 1540.4817291066283, 'y': 2330.443880883766, 'z': 0.0, 't': 1, 'dummy': False, 'states': 7, 'label': 5},\n",
       " {'ID': 829, 'x': 4535.493929140127, 'y': 2289.799213773885, 'z': 0.0, 't': 1, 'dummy': False, 'states': 7, 'label': 5},\n",
       " {'ID': 830, 'x': 1253.4400832325532, 'y': 2324.874866614498, 'z': 0.0, 't': 1, 'dummy': False, 'states': 7, 'label': 5},\n",
       " {'ID': 831, 'x': 2157.616588084012, 'y': 2396.695289803305, 'z': 0.0, 't': 1, 'dummy': False, 'states': 7, 'label': 5},\n",
       " {'ID': 832, 'x': 1924.8879559456955, 'y': 2298.9505479526742, 'z': 0.0, 't': 1, 'dummy': False, 'states': 7, 'label': 5},\n",
       " {'ID': 833, 'x': 2052.6887125570324, 'y': 2366.412497520333, 'z': 0.0, 't': 1, 'dummy': False, 'states': 7, 'label': 5},\n",
       " {'ID': 834, 'x': 3715.0, 'y': 2236.0, 'z': 0.0, 't': 1, 'dummy': False, 'states': 7, 'label': 5},\n",
       " {'ID': 835, 'x': 3694.2810625535562, 'y': 2421.2246234731965, 'z': 0.0, 't': 1, 'dummy': False, 'states': 7, 'label': 5},\n",
       " {'ID': 836, 'x': 4665.811714841275, 'y': 2403.888619431518, 'z': 0.0, 't': 1, 'dummy': False, 'states': 7, 'label': 5},\n",
       " {'ID': 837, 'x': 5572.440176235716, 'y': 2452.5586075542706, 'z': 0.0, 't': 1, 'dummy': False, 'states': 7, 'label': 5},\n",
       " {'ID': 838, 'x': 456.5683313222529, 'y': 2505.4894320968433, 'z': 0.0, 't': 1, 'dummy': False, 'states': 7, 'label': 5},\n",
       " {'ID': 839, 'x': 1908.2880040166847, 'y': 2484.2137725938514, 'z': 0.0, 't': 1, 'dummy': False, 'states': 7, 'label': 5},\n",
       " {'ID': 840, 'x': 5239.878711205621, 'y': 2517.5163656429168, 'z': 0.0, 't': 1, 'dummy': False, 'states': 7, 'label': 5},\n",
       " {'ID': 841, 'x': 1516.8631598582353, 'y': 2597.125461667599, 'z': 0.0, 't': 1, 'dummy': False, 'states': 7, 'label': 5},\n",
       " {'ID': 842, 'x': 5661.0, 'y': 2437.0, 'z': 0.0, 't': 1, 'dummy': False, 'states': 7, 'label': 5},\n",
       " {'ID': 843, 'x': 3626.161944180872, 'y': 2609.536841933056, 'z': 0.0, 't': 1, 'dummy': False, 'states': 7, 'label': 5},\n",
       " {'ID': 844, 'x': 5681.669776419495, 'y': 2738.465725698354, 'z': 0.0, 't': 1, 'dummy': False, 'states': 7, 'label': 5},\n",
       " {'ID': 845, 'x': 2705.3077738750085, 'y': 2515.149579163629, 'z': 0.0, 't': 1, 'dummy': False, 'states': 7, 'label': 5},\n",
       " {'ID': 846, 'x': 3147.0303499136176, 'y': 2525.1954823238184, 'z': 0.0, 't': 1, 'dummy': False, 'states': 7, 'label': 5},\n",
       " {'ID': 847, 'x': 1414.1077800923829, 'y': 2531.2950819672133, 'z': 0.0, 't': 1, 'dummy': False, 'states': 7, 'label': 5},\n",
       " {'ID': 848, 'x': 179.61749001875992, 'y': 2634.6395209004763, 'z': 0.0, 't': 1, 'dummy': False, 'states': 7, 'label': 5},\n",
       " {'ID': 849, 'x': 5074.8588793874915, 'y': 2748.775952073183, 'z': 0.0, 't': 1, 'dummy': False, 'states': 7, 'label': 5},\n",
       " {'ID': 850, 'x': 4314.997637297728, 'y': 2641.977004862771, 'z': 0.0, 't': 1, 'dummy': False, 'states': 7, 'label': 5},\n",
       " {'ID': 851, 'x': 5304.911612678046, 'y': 2847.709109644822, 'z': 0.0, 't': 1, 'dummy': False, 'states': 7, 'label': 5},\n",
       " {'ID': 852, 'x': 956.1920824549074, 'y': 2611.1526118528927, 'z': 0.0, 't': 1, 'dummy': False, 'states': 7, 'label': 5},\n",
       " {'ID': 853, 'x': 2889.4754431443985, 'y': 2662.804981433476, 'z': 0.0, 't': 1, 'dummy': False, 'states': 7, 'label': 5},\n",
       " {'ID': 854, 'x': 3884.9174615661977, 'y': 2684.3657521224636, 'z': 0.0, 't': 1, 'dummy': False, 'states': 7, 'label': 5},\n",
       " {'ID': 855, 'x': 5922.3658878504675, 'y': 2627.686604361371, 'z': 0.0, 't': 1, 'dummy': False, 'states': 7, 'label': 5},\n",
       " {'ID': 856, 'x': 3233.7673707324725, 'y': 2755.2036649762117, 'z': 0.0, 't': 1, 'dummy': False, 'states': 7, 'label': 5},\n",
       " {'ID': 857, 'x': 4851.429649809865, 'y': 2736.7614317876537, 'z': 0.0, 't': 1, 'dummy': False, 'states': 7, 'label': 5},\n",
       " {'ID': 858, 'x': 1271.27690175013, 'y': 2747.3640039276843, 'z': 0.0, 't': 1, 'dummy': False, 'states': 7, 'label': 5},\n",
       " {'ID': 859, 'x': 3079.906524800501, 'y': 2781.8507588796747, 'z': 0.0, 't': 1, 'dummy': False, 'states': 7, 'label': 5},\n",
       " {'ID': 860, 'x': 1008.025520906167, 'y': 2767.90420920151, 'z': 0.0, 't': 1, 'dummy': False, 'states': 7, 'label': 5},\n",
       " {'ID': 861, 'x': 4660.812306869503, 'y': 2837.1754516282385, 'z': 0.0, 't': 1, 'dummy': False, 'states': 7, 'label': 5},\n",
       " {'ID': 862, 'x': 5919.428381597498, 'y': 2874.841627639404, 'z': 0.0, 't': 1, 'dummy': False, 'states': 7, 'label': 5},\n",
       " {'ID': 863, 'x': 2201.4525418348376, 'y': 2791.1434175320846, 'z': 0.0, 't': 1, 'dummy': False, 'states': 7, 'label': 5},\n",
       " {'ID': 864, 'x': 2426.7802322591706, 'y': 2890.520011998629, 'z': 0.0, 't': 1, 'dummy': False, 'states': 7, 'label': 5},\n",
       " {'ID': 865, 'x': 3496.7679991806917, 'y': 2855.265916771925, 'z': 0.0, 't': 1, 'dummy': False, 'states': 7, 'label': 5},\n",
       " {'ID': 866, 'x': 3938.0333262876065, 'y': 2836.3078982597053, 'z': 0.0, 't': 1, 'dummy': False, 'states': 7, 'label': 5},\n",
       " {'ID': 867, 'x': 860.2501882766411, 'y': 2909.908089619681, 'z': 0.0, 't': 1, 'dummy': False, 'states': 7, 'label': 5},\n",
       " {'ID': 868, 'x': 2688.453000731598, 'y': 2939.0137587614754, 'z': 0.0, 't': 1, 'dummy': False, 'states': 7, 'label': 5},\n",
       " {'ID': 869, 'x': 4467.297620075398, 'y': 2884.249129471352, 'z': 0.0, 't': 1, 'dummy': False, 'states': 7, 'label': 5},\n",
       " {'ID': 870, 'x': 304.72941687951743, 'y': 3047.6848812564535, 'z': 0.0, 't': 1, 'dummy': False, 'states': 7, 'label': 5},\n",
       " {'ID': 871, 'x': 3672.9889505360165, 'y': 2925.546313710739, 'z': 0.0, 't': 1, 'dummy': False, 'states': 7, 'label': 5},\n",
       " {'ID': 872, 'x': 343.8067959810215, 'y': 2942.749092938878, 'z': 0.0, 't': 1, 'dummy': False, 'states': 7, 'label': 5},\n",
       " {'ID': 873, 'x': 598.0780685190181, 'y': 3061.0284506788958, 'z': 0.0, 't': 1, 'dummy': False, 'states': 7, 'label': 5},\n",
       " {'ID': 874, 'x': 1316.4174332956386, 'y': 2974.6895687521014, 'z': 0.0, 't': 1, 'dummy': False, 'states': 7, 'label': 5},\n",
       " {'ID': 875, 'x': 114.60562223626026, 'y': 3083.3355022109918, 'z': 0.0, 't': 1, 'dummy': False, 'states': 7, 'label': 5},\n",
       " {'ID': 876, 'x': 3463.2833555998086, 'y': 3055.5724584709233, 'z': 0.0, 't': 1, 'dummy': False, 'states': 7, 'label': 5},\n",
       " {'ID': 877, 'x': 2019.4615916955017, 'y': 2971.342920415225, 'z': 0.0, 't': 1, 'dummy': False, 'states': 7, 'label': 5},\n",
       " {'ID': 878, 'x': 4854.894205747991, 'y': 2974.8398774070433, 'z': 0.0, 't': 1, 'dummy': False, 'states': 7, 'label': 5},\n",
       " {'ID': 879, 'x': 5321.723071640646, 'y': 3064.842964189776, 'z': 0.0, 't': 1, 'dummy': False, 'states': 7, 'label': 5},\n",
       " {'ID': 880, 'x': 3926.6707943083575, 'y': 2995.000945605187, 'z': 0.0, 't': 1, 'dummy': False, 'states': 7, 'label': 5},\n",
       " {'ID': 881, 'x': 5796.421762589928, 'y': 3003.470568999346, 'z': 0.0, 't': 1, 'dummy': False, 'states': 7, 'label': 5},\n",
       " {'ID': 882, 'x': 6018.16297731046, 'y': 3025.4762036524626, 'z': 0.0, 't': 1, 'dummy': False, 'states': 7, 'label': 5},\n",
       " {'ID': 883, 'x': 1100.096421838254, 'y': 3313.649899904764, 'z': 0.0, 't': 1, 'dummy': False, 'states': 7, 'label': 5},\n",
       " {'ID': 884, 'x': 2141.6567971744194, 'y': 3079.533591342902, 'z': 0.0, 't': 1, 'dummy': False, 'states': 7, 'label': 5},\n",
       " {'ID': 885, 'x': 3601.737552155772, 'y': 3071.9482614742697, 'z': 0.0, 't': 1, 'dummy': False, 'states': 7, 'label': 5},\n",
       " {'ID': 886, 'x': 747.0401735068401, 'y': 3082.4814814814813, 'z': 0.0, 't': 1, 'dummy': False, 'states': 7, 'label': 5},\n",
       " {'ID': 887, 'x': 3246.032839317086, 'y': 3110.215009685121, 'z': 0.0, 't': 1, 'dummy': False, 'states': 7, 'label': 5},\n",
       " {'ID': 888, 'x': 481.0, 'y': 3022.0, 'z': 0.0, 't': 1, 'dummy': False, 'states': 7, 'label': 5},\n",
       " {'ID': 889, 'x': 489.32469998480934, 'y': 3114.2315433692847, 'z': 0.0, 't': 1, 'dummy': False, 'states': 7, 'label': 5},\n",
       " {'ID': 890, 'x': 3114.8449155448857, 'y': 3167.4405598902513, 'z': 0.0, 't': 1, 'dummy': False, 'states': 7, 'label': 5},\n",
       " {'ID': 891, 'x': 4529.195010443258, 'y': 3114.631120909724, 'z': 0.0, 't': 1, 'dummy': False, 'states': 7, 'label': 5},\n",
       " {'ID': 892, 'x': 1694.6628120770918, 'y': 3410.6763824723507, 'z': 0.0, 't': 1, 'dummy': False, 'states': 7, 'label': 5},\n",
       " {'ID': 893, 'x': 3414.6721062618594, 'y': 3119.7134724857683, 'z': 0.0, 't': 1, 'dummy': False, 'states': 7, 'label': 5},\n",
       " {'ID': 894, 'x': 5684.179702315959, 'y': 3191.9567266249064, 'z': 0.0, 't': 1, 'dummy': False, 'states': 7, 'label': 5},\n",
       " {'ID': 895, 'x': 1215.600308035129, 'y': 3221.313147201468, 'z': 0.0, 't': 1, 'dummy': False, 'states': 7, 'label': 5},\n",
       " {'ID': 896, 'x': 2179.197663971249, 'y': 3210.79856743536, 'z': 0.0, 't': 1, 'dummy': False, 'states': 7, 'label': 5},\n",
       " {'ID': 897, 'x': 4009.8026689335493, 'y': 3190.40532824354, 'z': 0.0, 't': 1, 'dummy': False, 'states': 7, 'label': 5},\n",
       " {'ID': 898, 'x': 5030.947332964415, 'y': 3261.1987585111756, 'z': 0.0, 't': 1, 'dummy': False, 'states': 7, 'label': 5},\n",
       " {'ID': 899, 'x': 3026.664485699594, 'y': 3519.6087794268014, 'z': 0.0, 't': 1, 'dummy': False, 'states': 7, 'label': 5},\n",
       " {'ID': 900, 'x': 5490.974479894427, 'y': 3308.5643727682036, 'z': 0.0, 't': 1, 'dummy': False, 'states': 7, 'label': 5},\n",
       " {'ID': 901, 'x': 5231.286337170659, 'y': 3296.356153457581, 'z': 0.0, 't': 1, 'dummy': False, 'states': 7, 'label': 5},\n",
       " {'ID': 902, 'x': 2788.9813146711012, 'y': 3323.264320029564, 'z': 0.0, 't': 1, 'dummy': False, 'states': 7, 'label': 5},\n",
       " {'ID': 903, 'x': 784.2589684581021, 'y': 3197.478543387031, 'z': 0.0, 't': 1, 'dummy': False, 'states': 7, 'label': 5},\n",
       " {'ID': 904, 'x': 4702.413657957245, 'y': 3263.751425178147, 'z': 0.0, 't': 1, 'dummy': False, 'states': 7, 'label': 5},\n",
       " {'ID': 905, 'x': 502.0600234074569, 'y': 3233.460290921251, 'z': 0.0, 't': 1, 'dummy': False, 'states': 7, 'label': 5},\n",
       " {'ID': 906, 'x': 5927.671635861839, 'y': 3313.1641925232084, 'z': 0.0, 't': 1, 'dummy': False, 'states': 7, 'label': 5},\n",
       " {'ID': 907, 'x': 95.10207268597388, 'y': 3277.9492239257997, 'z': 0.0, 't': 1, 'dummy': False, 'states': 7, 'label': 5},\n",
       " {'ID': 908, 'x': 4016.3529626586324, 'y': 3280.588788459783, 'z': 0.0, 't': 1, 'dummy': False, 'states': 7, 'label': 5},\n",
       " {'ID': 909, 'x': 4457.212558976604, 'y': 3269.6610243688897, 'z': 0.0, 't': 1, 'dummy': False, 'states': 7, 'label': 5},\n",
       " {'ID': 910, 'x': 355.9157565166739, 'y': 3274.8843017329255, 'z': 0.0, 't': 1, 'dummy': False, 'states': 7, 'label': 5},\n",
       " {'ID': 911, 'x': 4179.0410494308435, 'y': 3316.831202245439, 'z': 0.0, 't': 1, 'dummy': False, 'states': 7, 'label': 5},\n",
       " {'ID': 912, 'x': 748.8697710410123, 'y': 3314.235604715736, 'z': 0.0, 't': 1, 'dummy': False, 'states': 7, 'label': 5},\n",
       " {'ID': 913, 'x': 3765.173006458825, 'y': 3381.2384020618556, 'z': 0.0, 't': 1, 'dummy': False, 'states': 7, 'label': 5},\n",
       " {'ID': 914, 'x': 1332.5287456445992, 'y': 3337.275152439024, 'z': 0.0, 't': 1, 'dummy': False, 'states': 7, 'label': 5},\n",
       " {'ID': 915, 'x': 2627.8585027113486, 'y': 3427.599715210861, 'z': 0.0, 't': 1, 'dummy': False, 'states': 7, 'label': 5},\n",
       " {'ID': 916, 'x': 602.8211486723593, 'y': 3322.948999883027, 'z': 0.0, 't': 1, 'dummy': False, 'states': 7, 'label': 5},\n",
       " {'ID': 917, 'x': 1529.917454411733, 'y': 3436.2716260356055, 'z': 0.0, 't': 1, 'dummy': False, 'states': 7, 'label': 5},\n",
       " {'ID': 918, 'x': 5350.507289580325, 'y': 3353.8841585541945, 'z': 0.0, 't': 1, 'dummy': False, 'states': 7, 'label': 5},\n",
       " {'ID': 919, 'x': 5169.0, 'y': 3267.0, 'z': 0.0, 't': 1, 'dummy': False, 'states': 7, 'label': 5},\n",
       " {'ID': 920, 'x': 4746.936961740334, 'y': 3448.487542891243, 'z': 0.0, 't': 1, 'dummy': False, 'states': 7, 'label': 5},\n",
       " {'ID': 921, 'x': 5166.0, 'y': 3271.0, 'z': 0.0, 't': 1, 'dummy': False, 'states': 7, 'label': 5},\n",
       " {'ID': 922, 'x': 3473.5167869282604, 'y': 3413.2908143995865, 'z': 0.0, 't': 1, 'dummy': False, 'states': 7, 'label': 5},\n",
       " {'ID': 923, 'x': 913.8827463218903, 'y': 3323.1892554614356, 'z': 0.0, 't': 1, 'dummy': False, 'states': 7, 'label': 5},\n",
       " {'ID': 924, 'x': 4050.687477744807, 'y': 3364.6953115727, 'z': 0.0, 't': 1, 'dummy': False, 'states': 7, 'label': 5},\n",
       " {'ID': 925, 'x': 4316.285011628218, 'y': 3440.0928653532574, 'z': 0.0, 't': 1, 'dummy': False, 'states': 7, 'label': 5},\n",
       " {'ID': 926, 'x': 499.02931519699814, 'y': 3422.935975609756, 'z': 0.0, 't': 1, 'dummy': False, 'states': 7, 'label': 5},\n",
       " {'ID': 927, 'x': 70.61772251825538, 'y': 3383.1949871718966, 'z': 0.0, 't': 1, 'dummy': False, 'states': 7, 'label': 5},\n",
       " {'ID': 928, 'x': 866.4979918735468, 'y': 3457.3668177654604, 'z': 0.0, 't': 1, 'dummy': False, 'states': 7, 'label': 5},\n",
       " {'ID': 929, 'x': 696.4961848608341, 'y': 3478.4520506373015, 'z': 0.0, 't': 1, 'dummy': False, 'states': 7, 'label': 5},\n",
       " {'ID': 930, 'x': 5846.951841543142, 'y': 3509.5676095540166, 'z': 0.0, 't': 1, 'dummy': False, 'states': 7, 'label': 5},\n",
       " {'ID': 931, 'x': 4123.0, 'y': 3401.0, 'z': 0.0, 't': 1, 'dummy': False, 'states': 7, 'label': 5},\n",
       " {'ID': 932, 'x': 4124.043270216693, 'y': 3484.635074167749, 'z': 0.0, 't': 1, 'dummy': False, 'states': 7, 'label': 5},\n",
       " {'ID': 933, 'x': 1998.4935101863312, 'y': 3517.1954972736094, 'z': 0.0, 't': 1, 'dummy': False, 'states': 7, 'label': 5},\n",
       " {'ID': 934, 'x': 3985.334450509113, 'y': 3563.2995627054806, 'z': 0.0, 't': 1, 'dummy': False, 'states': 7, 'label': 5},\n",
       " {'ID': 935, 'x': 3876.4172429176892, 'y': 3632.8122016506804, 'z': 0.0, 't': 1, 'dummy': False, 'states': 7, 'label': 5},\n",
       " {'ID': 936, 'x': 4499.121321081369, 'y': 3558.7618857371153, 'z': 0.0, 't': 1, 'dummy': False, 'states': 7, 'label': 5},\n",
       " {'ID': 937, 'x': 2381.1476932766495, 'y': 3743.0331916233663, 'z': 0.0, 't': 1, 'dummy': False, 'states': 7, 'label': 5},\n",
       " {'ID': 938, 'x': 624.2259696458684, 'y': 3566.609893198426, 'z': 0.0, 't': 1, 'dummy': False, 'states': 7, 'label': 5},\n",
       " {'ID': 939, 'x': 399.3326631611506, 'y': 3570.3490050520672, 'z': 0.0, 't': 1, 'dummy': False, 'states': 7, 'label': 5},\n",
       " {'ID': 940, 'x': 3444.5732164004735, 'y': 3596.4781230995745, 'z': 0.0, 't': 1, 'dummy': False, 'states': 7, 'label': 5},\n",
       " {'ID': 941, 'x': 60.259797338542306, 'y': 3573.5806372848247, 'z': 0.0, 't': 1, 'dummy': False, 'states': 7, 'label': 5},\n",
       " {'ID': 942, 'x': 519.0, 'y': 3505.0, 'z': 0.0, 't': 1, 'dummy': False, 'states': 7, 'label': 5},\n",
       " {'ID': 943, 'x': 456.6526016330785, 'y': 3695.705568102849, 'z': 0.0, 't': 1, 'dummy': False, 'states': 7, 'label': 5},\n",
       " {'ID': 944, 'x': 4951.167341353555, 'y': 3648.7310755079156, 'z': 0.0, 't': 1, 'dummy': False, 'states': 7, 'label': 5},\n",
       " {'ID': 945, 'x': 938.0948275862069, 'y': 3589.906427854034, 'z': 0.0, 't': 1, 'dummy': False, 'states': 7, 'label': 5},\n",
       " {'ID': 946, 'x': 5374.846196126613, 'y': 3667.480034918685, 'z': 0.0, 't': 1, 'dummy': False, 'states': 7, 'label': 5},\n",
       " {'ID': 947, 'x': 2281.6592403386785, 'y': 3639.947637292465, 'z': 0.0, 't': 1, 'dummy': False, 'states': 7, 'label': 5},\n",
       " {'ID': 948, 'x': 2541.7104306314773, 'y': 3706.1318855277154, 'z': 0.0, 't': 1, 'dummy': False, 'states': 7, 'label': 5},\n",
       " {'ID': 949, 'x': 4223.150960008127, 'y': 3612.5786461684334, 'z': 0.0, 't': 1, 'dummy': False, 'states': 7, 'label': 5},\n",
       " {'ID': 950, 'x': 3649.305287239451, 'y': 3643.6521098118965, 'z': 0.0, 't': 1, 'dummy': False, 'states': 7, 'label': 5},\n",
       " {'ID': 951, 'x': 5944.199224481241, 'y': 3613.1948228882834, 'z': 0.0, 't': 1, 'dummy': False, 'states': 7, 'label': 5},\n",
       " {'ID': 952, 'x': 5864.980631578947, 'y': 3642.9358947368423, 'z': 0.0, 't': 1, 'dummy': False, 'states': 7, 'label': 5},\n",
       " {'ID': 953, 'x': 794.2904940089965, 'y': 3700.8643963218024, 'z': 0.0, 't': 1, 'dummy': False, 'states': 7, 'label': 5},\n",
       " {'ID': 954, 'x': 5764.132252517809, 'y': 3654.3069516089413, 'z': 0.0, 't': 1, 'dummy': False, 'states': 7, 'label': 5},\n",
       " {'ID': 955, 'x': 767.0, 'y': 3586.0, 'z': 0.0, 't': 1, 'dummy': False, 'states': 7, 'label': 5},\n",
       " {'ID': 956, 'x': 1527.863644838033, 'y': 3735.5601724539733, 'z': 0.0, 't': 1, 'dummy': False, 'states': 7, 'label': 5},\n",
       " {'ID': 957, 'x': 2764.7006676342526, 'y': 3678.8535849056602, 'z': 0.0, 't': 1, 'dummy': False, 'states': 7, 'label': 5},\n",
       " {'ID': 958, 'x': 4694.067980631005, 'y': 3738.2695013997127, 'z': 0.0, 't': 1, 'dummy': False, 'states': 7, 'label': 5},\n",
       " {'ID': 959, 'x': 624.3893425748009, 'y': 3803.22800576448, 'z': 0.0, 't': 1, 'dummy': False, 'states': 7, 'label': 5},\n",
       " {'ID': 960, 'x': 2690.2749525788095, 'y': 3759.916538704724, 'z': 0.0, 't': 1, 'dummy': False, 'states': 7, 'label': 5},\n",
       " {'ID': 961, 'x': 5090.8541550474065, 'y': 3789.4446303526056, 'z': 0.0, 't': 1, 'dummy': False, 'states': 7, 'label': 5},\n",
       " {'ID': 962, 'x': 4249.809234470421, 'y': 3709.959132687681, 'z': 0.0, 't': 1, 'dummy': False, 'states': 7, 'label': 5},\n",
       " {'ID': 963, 'x': 5976.4503370786515, 'y': 3739.9859775280897, 'z': 0.0, 't': 1, 'dummy': False, 'states': 7, 'label': 5},\n",
       " {'ID': 964, 'x': 24.485643290999448, 'y': 3779.007454445058, 'z': 0.0, 't': 1, 'dummy': False, 'states': 7, 'label': 5},\n",
       " {'ID': 965, 'x': 5820.827460042365, 'y': 3798.1930376361342, 'z': 0.0, 't': 1, 'dummy': False, 'states': 7, 'label': 5},\n",
       " {'ID': 966, 'x': 1019.1814840339996, 'y': 3722.879393521709, 'z': 0.0, 't': 1, 'dummy': False, 'states': 7, 'label': 5},\n",
       " {'ID': 967, 'x': 3316.5742784005647, 'y': 3786.8006222967606, 'z': 0.0, 't': 1, 'dummy': False, 'states': 7, 'label': 5},\n",
       " {'ID': 968, 'x': 3746.37814658053, 'y': 3760.733849409668, 'z': 0.0, 't': 1, 'dummy': False, 'states': 7, 'label': 5},\n",
       " {'ID': 969, 'x': 4804.8089761707515, 'y': 3835.3083914039275, 'z': 0.0, 't': 1, 'dummy': False, 'states': 7, 'label': 5},\n",
       " {'ID': 970, 'x': 5253.096701405799, 'y': 3937.2784487516637, 'z': 0.0, 't': 1, 'dummy': False, 'states': 7, 'label': 5},\n",
       " {'ID': 971, 'x': 4539.70737913486, 'y': 3855.5034253278527, 'z': 0.0, 't': 1, 'dummy': False, 'states': 7, 'label': 5},\n",
       " {'ID': 972, 'x': 3684.077326926499, 'y': 3844.3094500800853, 'z': 0.0, 't': 1, 'dummy': False, 'states': 7, 'label': 5},\n",
       " {'ID': 973, 'x': 5881.0, 'y': 3737.0, 'z': 0.0, 't': 1, 'dummy': False, 'states': 7, 'label': 5},\n",
       " {'ID': 974, 'x': 1845.0593824228029, 'y': 3813.807940278249, 'z': 0.0, 't': 1, 'dummy': False, 'states': 7, 'label': 5},\n",
       " {'ID': 975, 'x': 1148.643052174485, 'y': 4035.1794854924665, 'z': 0.0, 't': 1, 'dummy': False, 'states': 7, 'label': 5},\n",
       " {'ID': 976, 'x': 947.6548967067163, 'y': 3883.528524505143, 'z': 0.0, 't': 1, 'dummy': False, 'states': 7, 'label': 5},\n",
       " {'ID': 977, 'x': 5566.288671827006, 'y': 3854.924007863374, 'z': 0.0, 't': 1, 'dummy': False, 'states': 7, 'label': 5},\n",
       " {'ID': 978, 'x': 4158.780092482242, 'y': 3864.9471802450303, 'z': 0.0, 't': 1, 'dummy': False, 'states': 7, 'label': 5},\n",
       " {'ID': 979, 'x': 3054.7331404329884, 'y': 3936.216574827658, 'z': 0.0, 't': 1, 'dummy': False, 'states': 7, 'label': 5},\n",
       " {'ID': 980, 'x': 1042.8958675028139, 'y': 3945.6752854156616, 'z': 0.0, 't': 1, 'dummy': False, 'states': 7, 'label': 5},\n",
       " {'ID': 981, 'x': 1012.0, 'y': 3784.0, 'z': 0.0, 't': 1, 'dummy': False, 'states': 7, 'label': 5},\n",
       " {'ID': 982, 'x': 136.52647530234591, 'y': 3911.046772548448, 'z': 0.0, 't': 1, 'dummy': False, 'states': 7, 'label': 5},\n",
       " {'ID': 983, 'x': 5444.585260349289, 'y': 3899.3802150711513, 'z': 0.0, 't': 1, 'dummy': False, 'states': 7, 'label': 5},\n",
       " {'ID': 984, 'x': 783.7257980115123, 'y': 3871.5508708978095, 'z': 0.0, 't': 1, 'dummy': False, 'states': 7, 'label': 5},\n",
       " {'ID': 985, 'x': 2683.047898250045, 'y': 3851.184557099044, 'z': 0.0, 't': 1, 'dummy': False, 'states': 7, 'label': 5},\n",
       " {'ID': 986, 'x': 473.06807584706246, 'y': 3947.770477152627, 'z': 0.0, 't': 1, 'dummy': False, 'states': 7, 'label': 5},\n",
       " {'ID': 987, 'x': 5348.2978874237915, 'y': 3912.930100666383, 'z': 0.0, 't': 1, 'dummy': False, 'states': 7, 'label': 5},\n",
       " {'ID': 988, 'x': 5686.819976838448, 'y': 3957.253271569195, 'z': 0.0, 't': 1, 'dummy': False, 'states': 7, 'label': 5},\n",
       " {'ID': 989, 'x': 2673.993221338049, 'y': 3952.76358890152, 'z': 0.0, 't': 1, 'dummy': False, 'states': 7, 'label': 5},\n",
       " {'ID': 990, 'x': 3450.185283402315, 'y': 4008.226027906516, 'z': 0.0, 't': 1, 'dummy': False, 'states': 7, 'label': 5},\n",
       " {'ID': 991, 'x': 5088.033645675439, 'y': 4016.289972899729, 'z': 0.0, 't': 1, 'dummy': False, 'states': 7, 'label': 5},\n",
       " {'ID': 992, 'x': 2552.3762181688267, 'y': 4052.0725244626165, 'z': 0.0, 't': 1, 'dummy': False, 'states': 7, 'label': 5},\n",
       " {'ID': 993, 'x': 1451.8489082008691, 'y': 3972.874346845608, 'z': 0.0, 't': 1, 'dummy': False, 'states': 7, 'label': 5},\n",
       " {'ID': 994, 'x': 4641.589971782071, 'y': 3944.841907242602, 'z': 0.0, 't': 1, 'dummy': False, 'states': 7, 'label': 5},\n",
       " {'ID': 995, 'x': 4659.5, 'y': 3882.0, 'z': 0.0, 't': 1, 'dummy': False, 'states': 7, 'label': 5},\n",
       " {'ID': 996, 'x': 4647.0, 'y': 3889.0, 'z': 0.0, 't': 1, 'dummy': False, 'states': 7, 'label': 5},\n",
       " {'ID': 997, 'x': 3994.0077175482347, 'y': 3985.877227982675, 'z': 0.0, 't': 1, 'dummy': False, 'states': 7, 'label': 5},\n",
       " {'ID': 998, 'x': 5839.523830566252, 'y': 4014.2994129158515, 'z': 0.0, 't': 1, 'dummy': False, 'states': 7, 'label': 5},\n",
       " {'ID': 999, 'x': 2804.553602811951, 'y': 3991.1739894551847, 'z': 0.0, 't': 1, 'dummy': False, 'states': 7, 'label': 5},\n",
       " ...]"
      ]
     },
     "execution_count": 94,
     "metadata": {},
     "output_type": "execute_result"
    }
   ],
   "source": [
    "loc.segmentation_to_objects(masks[9:11])"
   ]
  },
  {
   "cell_type": "markdown",
   "id": "1a5619c9",
   "metadata": {},
   "source": [
    "#### Checking featuers were measured"
   ]
  },
  {
   "cell_type": "code",
   "execution_count": 6,
   "id": "eef6bf47",
   "metadata": {},
   "outputs": [
    {
     "data": {
      "text/html": [
       "<table border=\"1\" class=\"dataframe\">\n",
       "  <thead>\n",
       "    <tr style=\"text-align: right;\">\n",
       "      <th></th>\n",
       "      <th>ID</th>\n",
       "      <th>x</th>\n",
       "      <th>y</th>\n",
       "      <th>z</th>\n",
       "      <th>t</th>\n",
       "      <th>dummy</th>\n",
       "      <th>states</th>\n",
       "      <th>label</th>\n",
       "      <th>area</th>\n",
       "      <th>major_axis_length</th>\n",
       "      <th>minor_axis_length</th>\n",
       "      <th>orientation</th>\n",
       "      <th>solidity</th>\n",
       "      <th>mean_intensity-0</th>\n",
       "      <th>mean_intensity-1</th>\n",
       "      <th>intensity_image</th>\n",
       "    </tr>\n",
       "  </thead>\n",
       "  <tbody>\n",
       "    <tr>\n",
       "      <th>0</th>\n",
       "      <td>0</td>\n",
       "      <td>228.891787</td>\n",
       "      <td>53.545894</td>\n",
       "      <td>0.0</td>\n",
       "      <td>0</td>\n",
       "      <td>False</td>\n",
       "      <td>7</td>\n",
       "      <td>5</td>\n",
       "      <td>8280</td>\n",
       "      <td>142.168184</td>\n",
       "      <td>74.981389</td>\n",
       "      <td>0.768532</td>\n",
       "      <td>0.975725</td>\n",
       "      <td>1223.138406</td>\n",
       "      <td>337.888647</td>\n",
       "      <td>(114, 116, 2) array</td>\n",
       "    </tr>\n",
       "  </tbody>\n",
       "</table>"
      ],
      "text/plain": [
       "{'ID': 0, 'x': 228.89178743961352, 'y': 53.54589371980676, 'z': 0.0, 't': 0, 'dummy': False, 'states': 7, 'label': 5, 'area': 8280, 'major_axis_length': 142.1681837092044, 'minor_axis_length': 74.98138905075203, 'orientation': 0.7685315327700352, 'solidity': 0.9757247230732972, 'mean_intensity-0': 1223.1384057971015, 'mean_intensity-1': 337.88864734299517, 'intensity_image': array([[[0, 0],\n",
       "        [0, 0],\n",
       "        [0, 0],\n",
       "        ...,\n",
       "        [0, 0],\n",
       "        [0, 0],\n",
       "        [0, 0]],\n",
       "\n",
       "       [[0, 0],\n",
       "        [0, 0],\n",
       "        [0, 0],\n",
       "        ...,\n",
       "        [0, 0],\n",
       "        [0, 0],\n",
       "        [0, 0]],\n",
       "\n",
       "       [[0, 0],\n",
       "        [0, 0],\n",
       "        [0, 0],\n",
       "        ...,\n",
       "        [0, 0],\n",
       "        [0, 0],\n",
       "        [0, 0]],\n",
       "\n",
       "       ...,\n",
       "\n",
       "       [[0, 0],\n",
       "        [0, 0],\n",
       "        [0, 0],\n",
       "        ...,\n",
       "        [0, 0],\n",
       "        [0, 0],\n",
       "        [0, 0]],\n",
       "\n",
       "       [[0, 0],\n",
       "        [0, 0],\n",
       "        [0, 0],\n",
       "        ...,\n",
       "        [0, 0],\n",
       "        [0, 0],\n",
       "        [0, 0]],\n",
       "\n",
       "       [[0, 0],\n",
       "        [0, 0],\n",
       "        [0, 0],\n",
       "        ...,\n",
       "        [0, 0],\n",
       "        [0, 0],\n",
       "        [0, 0]]], dtype=uint16)}"
      ]
     },
     "execution_count": 6,
     "metadata": {},
     "output_type": "execute_result"
    }
   ],
   "source": [
    "objects[0]"
   ]
  },
  {
   "cell_type": "code",
   "execution_count": 7,
   "id": "1ccf8eb1",
   "metadata": {},
   "outputs": [
    {
     "data": {
      "application/vnd.jupyter.widget-view+json": {
       "model_id": "87c6bd571fc74d49a6766878d15345a3",
       "version_major": 2,
       "version_minor": 0
      },
      "text/plain": [
       "  0%|          | 0/69608 [00:00<?, ?it/s]"
      ]
     },
     "metadata": {},
     "output_type": "display_data"
    }
   ],
   "source": [
    "### finding the EFD\n",
    "for obj in tqdm(objects):\n",
    "    ### extract the intensity image (1ch only)\n",
    "    glimpse = obj.properties['intensity_image'][...,0]\n",
    "    ### pad the glimpse to ensure only one object is identifiable\n",
    "    glimpse = np.pad(glimpse, pad_width = 1)\n",
    "    ### find the contours (zero because only one object)\n",
    "    contours = skimage.measure.find_contours(glimpse, fully_connected='high', level = 0.5)[0]\n",
    "    ### get the efd\n",
    "    efd = elliptic_fourier_descriptors(contours, order=100, normalize=True)\n",
    "#     obj.properties = {'efd': efd}\n",
    "    flatten_efd = efd.flatten()\n",
    "    obj.properties = {'efd flat': flatten_efd}"
   ]
  },
  {
   "cell_type": "markdown",
   "id": "f9c4992f",
   "metadata": {},
   "source": [
    "## Remove intensity image from objects \n",
    "\n",
    "btrack does not handle 2d arrays in objects"
   ]
  },
  {
   "cell_type": "code",
   "execution_count": 8,
   "id": "563e2b89",
   "metadata": {},
   "outputs": [
    {
     "data": {
      "application/vnd.jupyter.widget-view+json": {
       "model_id": "6db86d4fec9746058780e6234cb9cd1c",
       "version_major": 2,
       "version_minor": 0
      },
      "text/plain": [
       "  0%|          | 0/69608 [00:00<?, ?it/s]"
      ]
     },
     "metadata": {},
     "output_type": "display_data"
    }
   ],
   "source": [
    "for obj in tqdm(objects):\n",
    "    obj.properties.pop('intensity_image')"
   ]
  },
  {
   "cell_type": "code",
   "execution_count": 9,
   "id": "ec3ca335",
   "metadata": {},
   "outputs": [
    {
     "data": {
      "text/html": [
       "<table border=\"1\" class=\"dataframe\">\n",
       "  <thead>\n",
       "    <tr style=\"text-align: right;\">\n",
       "      <th></th>\n",
       "      <th>ID</th>\n",
       "      <th>x</th>\n",
       "      <th>y</th>\n",
       "      <th>z</th>\n",
       "      <th>t</th>\n",
       "      <th>dummy</th>\n",
       "      <th>states</th>\n",
       "      <th>label</th>\n",
       "      <th>area</th>\n",
       "      <th>major_axis_length</th>\n",
       "      <th>minor_axis_length</th>\n",
       "      <th>orientation</th>\n",
       "      <th>solidity</th>\n",
       "      <th>mean_intensity-0</th>\n",
       "      <th>mean_intensity-1</th>\n",
       "      <th>efd flat</th>\n",
       "    </tr>\n",
       "  </thead>\n",
       "  <tbody>\n",
       "    <tr>\n",
       "      <th>0</th>\n",
       "      <td>0</td>\n",
       "      <td>228.891787</td>\n",
       "      <td>53.545894</td>\n",
       "      <td>0.0</td>\n",
       "      <td>0</td>\n",
       "      <td>False</td>\n",
       "      <td>7</td>\n",
       "      <td>5</td>\n",
       "      <td>8280</td>\n",
       "      <td>142.168184</td>\n",
       "      <td>74.981389</td>\n",
       "      <td>0.768532</td>\n",
       "      <td>0.975725</td>\n",
       "      <td>1223.138406</td>\n",
       "      <td>337.888647</td>\n",
       "      <td>(400,) array</td>\n",
       "    </tr>\n",
       "  </tbody>\n",
       "</table>"
      ],
      "text/plain": [
       "{'ID': 0, 'x': 228.89178743961352, 'y': 53.54589371980676, 'z': 0.0, 't': 0, 'dummy': False, 'states': 7, 'label': 5, 'area': 8280, 'major_axis_length': 142.1681837092044, 'minor_axis_length': 74.98138905075203, 'orientation': 0.7685315327700352, 'solidity': 0.9757247230732972, 'mean_intensity-0': 1223.1384057971015, 'mean_intensity-1': 337.88864734299517, 'efd flat': array([ 1.00000000e+00,  5.04301835e-17,  1.14701462e-16, -6.09709389e-01,\n",
       "        2.01976227e-02,  8.87153725e-03, -4.89990443e-02, -2.30932987e-02,\n",
       "        4.96015509e-02,  2.22684140e-03,  1.97777233e-02, -6.52375860e-02,\n",
       "       -1.61762974e-03,  4.21390024e-03,  6.80647690e-04, -3.76505429e-03,\n",
       "        1.05512406e-02, -4.07975839e-04,  5.86517107e-04, -9.60494084e-03,\n",
       "       -6.98005603e-03,  5.03815140e-03, -9.67077973e-04,  7.75433259e-03,\n",
       "        3.51114072e-03, -6.58337802e-03, -1.87062801e-03,  3.27958217e-03,\n",
       "        3.22977869e-04,  8.28085673e-03,  6.93344800e-03, -2.27455131e-03,\n",
       "       -1.19519206e-03, -7.04011333e-03, -4.47416433e-03,  3.10420744e-04,\n",
       "        2.68803249e-03,  5.93816998e-03,  2.13798631e-03,  1.03867541e-03,\n",
       "       -2.72036474e-03, -3.42627101e-03,  1.01166469e-03, -1.39096609e-03,\n",
       "        1.86584384e-03,  2.29004954e-03, -2.83302613e-03, -2.34922322e-04,\n",
       "       -4.72931407e-04, -1.01812765e-03,  2.81674483e-03, -7.07489089e-04,\n",
       "       -1.66482600e-03,  2.02827423e-03, -1.54457356e-04, -1.29588986e-03,\n",
       "        2.57490199e-03, -1.27656143e-03, -1.81186695e-03,  2.07572955e-03,\n",
       "       -1.41233818e-03,  1.42119967e-03,  2.51444308e-03, -1.29947872e-04,\n",
       "        1.59962205e-03, -1.33302262e-03, -9.23309588e-04,  5.43618873e-05,\n",
       "        2.62620014e-04,  1.01734811e-03, -1.03857862e-03,  1.52913514e-03,\n",
       "        2.00747585e-04, -1.04091945e-04,  9.12398983e-04, -1.58627506e-03,\n",
       "        8.68560221e-04, -6.04671434e-04, -1.77728274e-05, -2.21296486e-04,\n",
       "       -1.15549792e-04,  1.03128782e-03,  1.79668554e-04,  6.31632075e-04,\n",
       "        8.51758725e-04, -1.72974649e-03,  3.90995491e-04, -7.14500934e-04,\n",
       "        1.16578563e-04,  1.05820726e-03, -6.81204958e-04,  1.28597457e-03,\n",
       "        7.14805518e-04, -1.04273041e-03,  1.01359713e-03, -8.47485901e-04,\n",
       "       -2.51396246e-04,  7.68356581e-04,  1.64672708e-04, -1.10066311e-03,\n",
       "        8.92798183e-04, -3.29990031e-04, -8.54309126e-04,  1.10377098e-03,\n",
       "       -1.01218781e-03,  4.28701126e-04,  2.83842823e-04, -3.14728090e-04,\n",
       "        1.01534709e-03, -1.09306163e-04, -6.17853094e-04, -6.09944737e-04,\n",
       "       -5.06543474e-04,  1.79488309e-04,  1.10643996e-03,  7.61548988e-04,\n",
       "        4.21945913e-04,  5.31384440e-04,  7.53410906e-04,  2.03385206e-04,\n",
       "       -5.08070414e-04, -2.86505392e-04, -2.20785493e-03,  1.94249606e-04,\n",
       "        3.41898620e-04,  7.15824486e-04,  3.38721489e-05, -2.49267270e-04,\n",
       "       -2.64607459e-04, -2.79842118e-04,  8.67219527e-04, -4.40285781e-04,\n",
       "        5.34562152e-04,  1.63838452e-04,  7.29208121e-05,  2.47532970e-04,\n",
       "        5.95851673e-05, -1.30993651e-04,  1.09116154e-03,  1.81898748e-04,\n",
       "       -5.89545242e-04, -4.73526996e-04, -5.71898285e-04, -6.34270107e-04,\n",
       "        8.99264166e-04, -5.06610494e-05, -1.67433931e-04, -1.99754939e-04,\n",
       "       -6.11627418e-04, -2.14649652e-04,  5.60688844e-04,  4.48659166e-04,\n",
       "        8.48051633e-04, -7.52024107e-04, -3.13138790e-04,  5.43722767e-05,\n",
       "        1.21816208e-04,  7.53054683e-05,  3.18770775e-04,  7.02679137e-04,\n",
       "        2.66734339e-04,  3.98417069e-05, -7.84266023e-05,  1.75608196e-04,\n",
       "        6.44278393e-04, -5.46194395e-04, -8.14276429e-04, -4.19748909e-04,\n",
       "        1.01580143e-04,  6.95019509e-04,  6.63031624e-04,  2.85621415e-04,\n",
       "        1.87573001e-04, -6.32407813e-04, -1.13149742e-03, -3.78375538e-04,\n",
       "        2.62121041e-04,  8.45593956e-04, -1.95384741e-05, -6.14103573e-04,\n",
       "       -7.96252846e-05, -5.94504741e-05,  5.02920925e-04,  8.19084506e-04,\n",
       "       -6.12751645e-05,  1.25976584e-04, -3.80003191e-04, -1.20860318e-03,\n",
       "        1.44873222e-04,  6.53646454e-04,  8.17380757e-04, -2.40791973e-04,\n",
       "       -8.20519315e-04, -1.57663625e-04, -6.09409846e-04,  5.84426585e-04,\n",
       "        5.24215043e-04, -7.72365114e-05,  4.70097426e-05, -7.04550673e-04,\n",
       "       -6.84142729e-04,  1.88819336e-04,  9.59261026e-04,  9.07862676e-04,\n",
       "        5.06662909e-04, -1.69407696e-04, -4.07382660e-04, -3.27194757e-05,\n",
       "       -4.45760011e-06,  1.60292814e-04, -2.03582419e-04,  1.86585119e-04,\n",
       "       -1.59549779e-04, -6.33564273e-05, -1.25102440e-04,  4.18500405e-04,\n",
       "        7.71116735e-04, -7.12180104e-05, -2.10142602e-04, -5.82263177e-04,\n",
       "       -1.64519189e-04,  5.82596026e-04, -2.08039330e-07,  2.34081830e-04,\n",
       "        3.31929079e-04, -5.48193118e-04,  4.22922304e-04, -4.34873065e-04,\n",
       "       -9.11465555e-06,  3.59626425e-04,  4.66136222e-04, -4.23719459e-04,\n",
       "       -1.16345140e-04, -7.69782783e-05, -5.98858258e-04,  3.76083632e-04,\n",
       "        1.91258587e-04,  2.69881309e-05, -4.33261371e-04, -4.32281819e-05,\n",
       "        1.20807790e-04,  4.49241962e-04,  2.53591230e-04, -9.71923015e-05,\n",
       "       -3.08059995e-04, -2.32296928e-04,  1.34404063e-04,  2.35106886e-04,\n",
       "        3.64888821e-04,  3.03309901e-04,  1.24915714e-04, -5.58103739e-04,\n",
       "       -4.53595923e-04, -5.62497787e-05,  2.52722719e-04,  1.32977746e-04,\n",
       "        1.34207355e-04,  9.55116123e-05,  5.37886164e-05,  1.47075639e-04,\n",
       "       -1.21448215e-04, -6.65681228e-05, -4.15592466e-05, -3.50549107e-04,\n",
       "       -2.11705076e-04, -3.99982145e-05, -5.09387187e-05,  3.51074124e-04,\n",
       "        2.80211847e-04, -1.43370173e-05, -1.35055710e-05,  2.82754687e-04,\n",
       "       -1.76123879e-04,  2.30920547e-04,  7.12863302e-05, -3.25890029e-04,\n",
       "        1.47225483e-04, -2.57327720e-04,  1.94078440e-04, -3.07563104e-04,\n",
       "       -5.80610452e-05,  1.94517917e-04, -1.34239965e-04,  8.10286093e-05,\n",
       "       -1.24214076e-04, -1.25138713e-05, -3.96922312e-04,  2.98696242e-05,\n",
       "        7.66162191e-05,  1.08904933e-04,  6.09995735e-05,  2.71032025e-04,\n",
       "        2.58066745e-05,  1.84429364e-04,  1.37675171e-04, -1.02565973e-04,\n",
       "       -1.46321526e-04, -1.16642026e-04,  2.88300415e-04, -3.22154952e-04,\n",
       "        6.44374405e-05,  2.33394574e-04,  8.55225000e-05,  5.05295663e-05,\n",
       "       -1.78280073e-04, -2.54272274e-04,  2.82619573e-04, -2.48657260e-04,\n",
       "       -7.48781687e-05, -9.73727817e-05,  3.35143649e-04,  4.35211417e-04,\n",
       "       -2.04191454e-04, -6.12078298e-05, -5.63210241e-04, -2.05525642e-04,\n",
       "       -1.23373313e-04, -2.86957548e-04,  8.45331571e-05, -1.49235793e-04,\n",
       "       -6.04765326e-05, -5.89641494e-06,  7.37368745e-05,  2.21037278e-04,\n",
       "       -2.69866561e-05, -3.51762443e-05, -3.17375743e-05, -1.04731210e-04,\n",
       "       -7.52065456e-05,  4.87299575e-05, -1.52187009e-04,  4.24774335e-04,\n",
       "        6.13003458e-06, -1.78671153e-04, -2.06399660e-04,  2.56602921e-04,\n",
       "        1.26351150e-04,  1.81555134e-04,  3.89550929e-04, -3.02648427e-04,\n",
       "        1.56574079e-05, -2.15769435e-04, -6.23751267e-05,  3.83293145e-05,\n",
       "        6.27151087e-05,  2.09900333e-04, -1.27766360e-04, -2.73664286e-04,\n",
       "        1.47859734e-04,  2.75851355e-05,  1.31981020e-04, -6.23414552e-05,\n",
       "       -1.47707783e-04,  2.71366064e-04,  6.16367587e-05,  1.88140377e-04,\n",
       "       -4.87774506e-05, -2.27820551e-04,  8.93829794e-05, -3.38958477e-04,\n",
       "       -1.41983198e-04,  3.83863261e-05,  1.16748704e-04,  3.86573154e-05,\n",
       "        1.45947581e-04, -6.10689968e-05, -3.63908372e-04,  4.80095195e-04,\n",
       "       -4.68355834e-05,  2.19115444e-04,  3.17975546e-04,  1.68736269e-04,\n",
       "        2.09327754e-04, -1.19604984e-04,  5.70757841e-05,  1.00761736e-04,\n",
       "        2.31534769e-05, -1.44417363e-04, -1.01793116e-06, -2.18457115e-04,\n",
       "        5.79789589e-05, -2.73132193e-04,  2.96024939e-04, -4.72474801e-05,\n",
       "       -9.33707681e-05, -2.14615319e-04, -7.68643900e-05, -2.09559403e-04,\n",
       "        1.85847732e-04, -1.06099600e-05, -6.07420354e-05, -6.50180879e-05,\n",
       "       -1.99433590e-04, -2.81088671e-04, -1.71637107e-04,  2.89005292e-04,\n",
       "        1.83674661e-04, -1.48278002e-04, -1.26744967e-04, -2.02171342e-04])}"
      ]
     },
     "execution_count": 9,
     "metadata": {},
     "output_type": "execute_result"
    }
   ],
   "source": [
    "objects[0]"
   ]
  },
  {
   "cell_type": "markdown",
   "id": "17bdf019",
   "metadata": {},
   "source": [
    "## Track"
   ]
  },
  {
   "cell_type": "markdown",
   "id": "3d25cb83",
   "metadata": {},
   "source": [
    "Redefine features to include `efd flat` and the two different `mean_intensity` channels"
   ]
  },
  {
   "cell_type": "code",
   "execution_count": 12,
   "id": "ccdc79ce",
   "metadata": {},
   "outputs": [],
   "source": [
    "FEATURES = ['efd flat',\n",
    "                     \"area\",\n",
    "  \"major_axis_length\",\n",
    "  \"minor_axis_length\",\n",
    "  \"orientation\",\n",
    "  \"solidity\",\n",
    "  \"mean_intensity-0\",\n",
    "  \"mean_intensity-1\",\n",
    "]"
   ]
  }
 ],
 "metadata": {
  "kernelspec": {
   "display_name": "aero",
   "language": "python",
   "name": "aero"
  },
  "language_info": {
   "codemirror_mode": {
    "name": "ipython",
    "version": 3
   },
   "file_extension": ".py",
   "mimetype": "text/x-python",
   "name": "python",
   "nbconvert_exporter": "python",
   "pygments_lexer": "ipython3",
   "version": "3.9.12"
  }
 },
 "nbformat": 4,
 "nbformat_minor": 5
}
