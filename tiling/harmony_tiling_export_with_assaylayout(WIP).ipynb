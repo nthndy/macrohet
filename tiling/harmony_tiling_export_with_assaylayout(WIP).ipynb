{
 "cells": [
  {
   "cell_type": "markdown",
   "id": "d75a8321",
   "metadata": {},
   "source": [
    "# Exporting image volumes from Harmony\n",
    "\n",
    "This notebook is designed to take the raw export from the Harmony software and tile the individual images together into a mosaic, both across time and the z-axis, and export that as a multichannel .TIFF image for movie creation in FIJI or _Napari_. \n",
    "\n"
   ]
  },
  {
   "cell_type": "code",
   "execution_count": 1,
   "id": "f9a3f20d",
   "metadata": {},
   "outputs": [],
   "source": [
    "import napari\n",
    "import matplotlib.pyplot as plt\n",
    "import glob\n",
    "import os\n",
    "import octopusheavy as octo\n",
    "import pandas as pd\n",
    "from tqdm.auto import tqdm\n",
    "from functools import partial\n",
    "from octopusheavy import tile\n",
    "from skimage.io import imread, imsave\n",
    "import dask.array as da"
   ]
  },
  {
   "cell_type": "code",
   "execution_count": 1,
   "id": "d91d65ef",
   "metadata": {},
   "outputs": [],
   "source": [
    "import os, glob\n",
    "import octopuslite as octo"
   ]
  },
  {
   "cell_type": "markdown",
   "id": "c6f5ee5d",
   "metadata": {},
   "source": [
    "### Find images\n",
    "\n",
    "The images will be in the folder labelled `Images`. Please input the path to these images below."
   ]
  },
  {
   "cell_type": "code",
   "execution_count": 2,
   "id": "60602fde",
   "metadata": {},
   "outputs": [
    {
     "name": "stdout",
     "output_type": "stream",
     "text": [
      "138402 image files found\n"
     ]
    }
   ],
   "source": [
    "image_dir = '/mnt/DATA/sandbox/pierre_live_cell_data/outputs/Replication_IPSDM_GFP/Images/'\n",
    "fns = glob.glob(os.path.join(image_dir, '*.tiff'))\n",
    "print(len(fns), 'image files found')"
   ]
  },
  {
   "cell_type": "markdown",
   "id": "66bfc27c",
   "metadata": {},
   "source": [
    "### Loading metadata\n",
    "\n",
    "The metadata file should match the filepattern `Index.idx.xml`. Please input the path to this metadata file below."
   ]
  },
  {
   "cell_type": "code",
   "execution_count": 3,
   "id": "b40b11ec",
   "metadata": {},
   "outputs": [
    {
     "name": "stdout",
     "output_type": "stream",
     "text": [
      "Reading metadata XML file...\n"
     ]
    },
    {
     "data": {
      "application/vnd.jupyter.widget-view+json": {
       "model_id": "9a1677bd5d604aa0b56988c59e583cd3",
       "version_major": 2,
       "version_minor": 0
      },
      "text/plain": [
       "Extracting HarmonyV5 metadata:   0%|          | 0/113400 [00:00<?, ?it/s]"
      ]
     },
     "metadata": {},
     "output_type": "display_data"
    },
    {
     "name": "stdout",
     "output_type": "stream",
     "text": [
      "Done!\n"
     ]
    }
   ],
   "source": [
    "metadata_fn = '/mnt/DATA/sandbox/pierre_live_cell_data/outputs/Replication_IPSDM_GFP/Index.idx.xml'\n",
    "df = octo.utils.read_harmony_metadata(metadata_fn)"
   ]
  },
  {
   "cell_type": "markdown",
   "id": "fbfd56a4",
   "metadata": {},
   "source": [
    "### Assay layout metadata (optional)\n",
    "\n",
    "If you want to know which plate wells correspond to which experiment conditions, input the path to the Assay Layout metadata here. It will be an xml file in a folder named `AssayLayout`."
   ]
  },
  {
   "cell_type": "code",
   "execution_count": 6,
   "id": "c21e3249",
   "metadata": {},
   "outputs": [
    {
     "name": "stdout",
     "output_type": "stream",
     "text": [
      "Reading metadata XML file...\n",
      "Done!\n"
     ]
    },
    {
     "data": {
      "text/html": [
       "<div>\n",
       "<style scoped>\n",
       "    .dataframe tbody tr th:only-of-type {\n",
       "        vertical-align: middle;\n",
       "    }\n",
       "\n",
       "    .dataframe tbody tr th {\n",
       "        vertical-align: top;\n",
       "    }\n",
       "\n",
       "    .dataframe thead th {\n",
       "        text-align: right;\n",
       "    }\n",
       "</style>\n",
       "<table border=\"1\" class=\"dataframe\">\n",
       "  <thead>\n",
       "    <tr style=\"text-align: right;\">\n",
       "      <th></th>\n",
       "      <th></th>\n",
       "      <th>Strain</th>\n",
       "      <th>Compound</th>\n",
       "      <th>Concentration</th>\n",
       "      <th>ConcentrationEC</th>\n",
       "    </tr>\n",
       "  </thead>\n",
       "  <tbody>\n",
       "    <tr>\n",
       "      <th rowspan=\"6\" valign=\"top\">3</th>\n",
       "      <th>4</th>\n",
       "      <td>RD1</td>\n",
       "      <td>CTRL</td>\n",
       "      <td>0</td>\n",
       "      <td>EC0</td>\n",
       "    </tr>\n",
       "    <tr>\n",
       "      <th>5</th>\n",
       "      <td>WT</td>\n",
       "      <td>CTRL</td>\n",
       "      <td>0</td>\n",
       "      <td>EC0</td>\n",
       "    </tr>\n",
       "    <tr>\n",
       "      <th>6</th>\n",
       "      <td>WT</td>\n",
       "      <td>PZA</td>\n",
       "      <td>60</td>\n",
       "      <td>EC50</td>\n",
       "    </tr>\n",
       "    <tr>\n",
       "      <th>7</th>\n",
       "      <td>WT</td>\n",
       "      <td>RIF</td>\n",
       "      <td>0.1</td>\n",
       "      <td>EC50</td>\n",
       "    </tr>\n",
       "    <tr>\n",
       "      <th>8</th>\n",
       "      <td>WT</td>\n",
       "      <td>INH</td>\n",
       "      <td>0.04</td>\n",
       "      <td>EC50</td>\n",
       "    </tr>\n",
       "    <tr>\n",
       "      <th>9</th>\n",
       "      <td>WT</td>\n",
       "      <td>BDQ</td>\n",
       "      <td>0.02</td>\n",
       "      <td>EC50</td>\n",
       "    </tr>\n",
       "    <tr>\n",
       "      <th rowspan=\"6\" valign=\"top\">4</th>\n",
       "      <th>4</th>\n",
       "      <td>RD1</td>\n",
       "      <td>CTRL</td>\n",
       "      <td>0</td>\n",
       "      <td>EC0</td>\n",
       "    </tr>\n",
       "    <tr>\n",
       "      <th>5</th>\n",
       "      <td>WT</td>\n",
       "      <td>CTRL</td>\n",
       "      <td>0</td>\n",
       "      <td>EC0</td>\n",
       "    </tr>\n",
       "    <tr>\n",
       "      <th>6</th>\n",
       "      <td>WT</td>\n",
       "      <td>PZA</td>\n",
       "      <td>60</td>\n",
       "      <td>EC50</td>\n",
       "    </tr>\n",
       "    <tr>\n",
       "      <th>7</th>\n",
       "      <td>WT</td>\n",
       "      <td>RIF</td>\n",
       "      <td>0.1</td>\n",
       "      <td>EC50</td>\n",
       "    </tr>\n",
       "    <tr>\n",
       "      <th>8</th>\n",
       "      <td>WT</td>\n",
       "      <td>INH</td>\n",
       "      <td>0.04</td>\n",
       "      <td>EC50</td>\n",
       "    </tr>\n",
       "    <tr>\n",
       "      <th>9</th>\n",
       "      <td>WT</td>\n",
       "      <td>BDQ</td>\n",
       "      <td>0.02</td>\n",
       "      <td>EC50</td>\n",
       "    </tr>\n",
       "    <tr>\n",
       "      <th rowspan=\"6\" valign=\"top\">5</th>\n",
       "      <th>4</th>\n",
       "      <td>RD1</td>\n",
       "      <td>CTRL</td>\n",
       "      <td>0</td>\n",
       "      <td>EC0</td>\n",
       "    </tr>\n",
       "    <tr>\n",
       "      <th>5</th>\n",
       "      <td>WT</td>\n",
       "      <td>CTRL</td>\n",
       "      <td>0</td>\n",
       "      <td>EC0</td>\n",
       "    </tr>\n",
       "    <tr>\n",
       "      <th>6</th>\n",
       "      <td>WT</td>\n",
       "      <td>PZA</td>\n",
       "      <td>400</td>\n",
       "      <td>EC99</td>\n",
       "    </tr>\n",
       "    <tr>\n",
       "      <th>7</th>\n",
       "      <td>WT</td>\n",
       "      <td>RIF</td>\n",
       "      <td>2</td>\n",
       "      <td>EC99</td>\n",
       "    </tr>\n",
       "    <tr>\n",
       "      <th>8</th>\n",
       "      <td>WT</td>\n",
       "      <td>INH</td>\n",
       "      <td>2</td>\n",
       "      <td>EC99</td>\n",
       "    </tr>\n",
       "    <tr>\n",
       "      <th>9</th>\n",
       "      <td>WT</td>\n",
       "      <td>BDQ</td>\n",
       "      <td>2.5</td>\n",
       "      <td>EC99</td>\n",
       "    </tr>\n",
       "    <tr>\n",
       "      <th rowspan=\"6\" valign=\"top\">6</th>\n",
       "      <th>4</th>\n",
       "      <td>RD1</td>\n",
       "      <td>CTRL</td>\n",
       "      <td>0</td>\n",
       "      <td>EC0</td>\n",
       "    </tr>\n",
       "    <tr>\n",
       "      <th>5</th>\n",
       "      <td>WT</td>\n",
       "      <td>CTRL</td>\n",
       "      <td>0</td>\n",
       "      <td>EC0</td>\n",
       "    </tr>\n",
       "    <tr>\n",
       "      <th>6</th>\n",
       "      <td>WT</td>\n",
       "      <td>PZA</td>\n",
       "      <td>400</td>\n",
       "      <td>EC99</td>\n",
       "    </tr>\n",
       "    <tr>\n",
       "      <th>7</th>\n",
       "      <td>WT</td>\n",
       "      <td>RIF</td>\n",
       "      <td>2</td>\n",
       "      <td>EC99</td>\n",
       "    </tr>\n",
       "    <tr>\n",
       "      <th>8</th>\n",
       "      <td>WT</td>\n",
       "      <td>INH</td>\n",
       "      <td>2</td>\n",
       "      <td>EC99</td>\n",
       "    </tr>\n",
       "    <tr>\n",
       "      <th>9</th>\n",
       "      <td>WT</td>\n",
       "      <td>BDQ</td>\n",
       "      <td>2.5</td>\n",
       "      <td>EC99</td>\n",
       "    </tr>\n",
       "  </tbody>\n",
       "</table>\n",
       "</div>"
      ],
      "text/plain": [
       "    Strain Compound Concentration ConcentrationEC\n",
       "3 4    RD1     CTRL             0             EC0\n",
       "  5     WT     CTRL             0             EC0\n",
       "  6     WT      PZA            60            EC50\n",
       "  7     WT      RIF           0.1            EC50\n",
       "  8     WT      INH          0.04            EC50\n",
       "  9     WT      BDQ          0.02            EC50\n",
       "4 4    RD1     CTRL             0             EC0\n",
       "  5     WT     CTRL             0             EC0\n",
       "  6     WT      PZA            60            EC50\n",
       "  7     WT      RIF           0.1            EC50\n",
       "  8     WT      INH          0.04            EC50\n",
       "  9     WT      BDQ          0.02            EC50\n",
       "5 4    RD1     CTRL             0             EC0\n",
       "  5     WT     CTRL             0             EC0\n",
       "  6     WT      PZA           400            EC99\n",
       "  7     WT      RIF             2            EC99\n",
       "  8     WT      INH             2            EC99\n",
       "  9     WT      BDQ           2.5            EC99\n",
       "6 4    RD1     CTRL             0             EC0\n",
       "  5     WT     CTRL             0             EC0\n",
       "  6     WT      PZA           400            EC99\n",
       "  7     WT      RIF             2            EC99\n",
       "  8     WT      INH             2            EC99\n",
       "  9     WT      BDQ           2.5            EC99"
      ]
     },
     "execution_count": 6,
     "metadata": {},
     "output_type": "execute_result"
    }
   ],
   "source": [
    "assay_metadata_fn = '/mnt/DATA/sandbox/pierre_live_cell_data/outputs/Replication_IPSDM_GFP/Assaylayout/20210602_Live_cell_IPSDMGFP_ATB.xml'\n",
    "assay_layout = octo.utils.read_harmony_metadata(assay_metadata_fn, assay_layout=True)\n",
    "assay_layout"
   ]
  },
  {
   "cell_type": "code",
   "execution_count": 9,
   "id": "97856a48",
   "metadata": {},
   "outputs": [
    {
     "data": {
      "text/plain": [
       "24"
      ]
     },
     "execution_count": 9,
     "metadata": {},
     "output_type": "execute_result"
    }
   ],
   "source": [
    "len(assay_layout)"
   ]
  },
  {
   "cell_type": "code",
   "execution_count": 8,
   "id": "c759b207",
   "metadata": {},
   "outputs": [
    {
     "name": "stdout",
     "output_type": "stream",
     "text": [
      "Position index and (row,column): 0 (3, 4)\n",
      "Position index and (row,column): 1 (4, 3)\n",
      "Position index and (row,column): 2 (4, 9)\n",
      "Position index and (row,column): 3 (3, 7)\n",
      "Position index and (row,column): 4 (5, 4)\n",
      "Position index and (row,column): 5 (4, 6)\n",
      "Position index and (row,column): 6 (3, 10)\n",
      "Position index and (row,column): 7 (5, 7)\n",
      "Position index and (row,column): 8 (6, 5)\n",
      "Position index and (row,column): 9 (6, 8)\n",
      "Position index and (row,column): 10 (4, 5)\n",
      "Position index and (row,column): 11 (3, 3)\n",
      "Position index and (row,column): 12 (3, 9)\n",
      "Position index and (row,column): 13 (5, 6)\n",
      "Position index and (row,column): 14 (4, 8)\n",
      "Position index and (row,column): 15 (3, 6)\n",
      "Position index and (row,column): 16 (5, 9)\n",
      "Position index and (row,column): 17 (6, 4)\n",
      "Position index and (row,column): 18 (6, 7)\n",
      "Position index and (row,column): 19 (4, 7)\n",
      "Position index and (row,column): 20 (3, 5)\n",
      "Position index and (row,column): 21 (4, 4)\n",
      "Position index and (row,column): 22 (4, 10)\n",
      "Position index and (row,column): 23 (3, 8)\n",
      "Position index and (row,column): 24 (5, 5)\n",
      "Position index and (row,column): 25 (5, 8)\n",
      "Position index and (row,column): 26 (6, 6)\n",
      "Position index and (row,column): 27 (6, 9)\n"
     ]
    }
   ],
   "source": [
    "row_col_list = list()\n",
    "for index, row in (df.iterrows()):\n",
    "    row_col_list.append(tuple((int(row['Row']), int(row['Col']))))\n",
    "row_col_list = list(set(row_col_list))\n",
    "for n, i in enumerate(row_col_list):\n",
    "    print('Position index and (row,column):', n, i)"
   ]
  },
  {
   "cell_type": "markdown",
   "id": "0cb986e8",
   "metadata": {},
   "source": [
    "## Get dimensionality of image volume"
   ]
  },
  {
   "cell_type": "code",
   "execution_count": null,
   "id": "ff0f0243",
   "metadata": {},
   "outputs": [],
   "source": [
    "channel_IDs = df['ChannelID'].unique()\n",
    "plane_IDs = df['PlaneID'].unique()\n",
    "timepoint_IDs = df['TimepointID'].unique()"
   ]
  },
  {
   "cell_type": "markdown",
   "id": "94e5f28c",
   "metadata": {},
   "source": [
    "## Set mosaic parameters\n",
    "\n",
    "The `chunk_fraction` is how many sections you want one slice cut up into (has to be a square) and the `_load_image` partial function can include any image transformations you wish (border crop or background removal etc)."
   ]
  },
  {
   "cell_type": "code",
   "execution_count": null,
   "id": "decc841c",
   "metadata": {},
   "outputs": [],
   "source": [
    "chunk_fraction = 49\n",
    "load_transform_image = partial(tile.load_image, transforms=[])#input_transforms)"
   ]
  },
  {
   "cell_type": "markdown",
   "id": "d9594b2b",
   "metadata": {},
   "source": [
    "## Set segmentation parameters"
   ]
  },
  {
   "cell_type": "code",
   "execution_count": null,
   "id": "b0201af6",
   "metadata": {},
   "outputs": [],
   "source": [
    "!nvcc --version\n",
    "!nvidia-smi\n",
    "\n",
    "from cellpose import core, utils, io, models, metrics\n",
    "\n",
    "use_GPU = core.use_gpu()\n",
    "yn = ['NO', 'YES']\n",
    "print(f'>>> GPU activated? {yn[use_GPU]}')\n",
    "\n",
    "model = models.Cellpose(gpu=True, model_type='cyto')"
   ]
  },
  {
   "cell_type": "code",
   "execution_count": null,
   "id": "865cbb1b",
   "metadata": {},
   "outputs": [],
   "source": [
    "def segment(img):\n",
    "    masks, flows, styles, diams = model.eval(img, diameter=200, channels=[0,0],\n",
    "                                             flow_threshold=None, cellprob_threshold=0)\n",
    "    return masks"
   ]
  },
  {
   "cell_type": "markdown",
   "id": "d1751d09",
   "metadata": {},
   "source": [
    "# Compile and segment at the same time...? "
   ]
  },
  {
   "cell_type": "code",
   "execution_count": null,
   "id": "3bf0eaed",
   "metadata": {},
   "outputs": [],
   "source": [
    "import warnings\n",
    "warnings.filterwarnings('ignore')"
   ]
  },
  {
   "cell_type": "code",
   "execution_count": null,
   "id": "0b059fad",
   "metadata": {},
   "outputs": [],
   "source": [
    "lazy_hack = {1:(slice(4032, 6048), slice(2016, 4032)),\n",
    "            2:(slice(0, 2016), slice(0, 2016)),\n",
    "            3:(slice(0, 2016), slice(2016, 4032)),\n",
    "            4:(slice(0, 2016), slice(4032, 6048)),\n",
    "            5:(slice(2016, 4032), slice(4032, 6048)),\n",
    "            6:(slice(2016, 4032), slice(2016, 4032)),\n",
    "            7:(slice(2016, 4032), slice(0, 2016)),\n",
    "            8:(slice(4032, 6048), slice(0, 2016)),\n",
    "            9:(slice(4032, 6048), slice(4032, 6048)),\n",
    "            }\n",
    "import re\n",
    "regex = re.compile('f([0-9]*)')\n",
    "from skimage.io import imsave"
   ]
  },
  {
   "cell_type": "code",
   "execution_count": null,
   "id": "39942f37",
   "metadata": {},
   "outputs": [],
   "source": [
    "for row, col in tqdm(reversed(row_col_list), desc = 'Position progress'):\n",
    "    print(row, col)"
   ]
  },
  {
   "cell_type": "code",
   "execution_count": null,
   "id": "b7ec150a",
   "metadata": {},
   "outputs": [],
   "source": [
    "for row, col in tqdm(reversed(row_col_list), desc = 'Position progress'):\n",
    "    print(row, col)"
   ]
  },
  {
   "cell_type": "markdown",
   "id": "6d653962",
   "metadata": {},
   "source": [
    "# running in reverse"
   ]
  },
  {
   "cell_type": "code",
   "execution_count": null,
   "id": "2bc70e11",
   "metadata": {},
   "outputs": [],
   "source": [
    "col"
   ]
  },
  {
   "cell_type": "code",
   "execution_count": null,
   "id": "90278c97",
   "metadata": {
    "scrolled": true
   },
   "outputs": [],
   "source": [
    "z_mask_stack = []\n",
    "t_mask_stack = []\n",
    "# images = dict()\n",
    "# masks = dict()\n",
    "# for row, col in tqdm(row_col_list, desc = 'Position progress'):\n",
    "# for row, col in tqdm(reversed(row_col_list), desc = 'Position progress'):\n",
    "    ### define row and col\n",
    "#     row, col = str(row), str(col)\n",
    "row, col = '3', '8'\n",
    "### clear empty arrays for organsing into dask arrays\n",
    "t_stack = []\n",
    "t_mask_stack = []\n",
    "### iterate over each individual image slice, tiling together\n",
    "for time in tqdm(timepoint_IDs, leave = False, desc = 'Timepoint progress'):\n",
    "    c_stack = []\n",
    "    for channel in tqdm(channel_IDs, leave = False, desc = 'Channel progress'):\n",
    "        z_stack = []\n",
    "        if channel == '1':\n",
    "            z_mask_stack = []\n",
    "        for plane in tqdm(plane_IDs, leave = False, desc = 'Z-slice progress'):\n",
    "            frame, chunk_info = tile.stitch(load_transform_image,\n",
    "                                df, \n",
    "                                image_dir, \n",
    "                                time, \n",
    "                                plane, \n",
    "                                channel, \n",
    "                                row, \n",
    "                                col, \n",
    "                                chunk_fraction)\n",
    "            ### if we're iterating over the GFP channel then segment that\n",
    "            if channel == '1':\n",
    "\n",
    "\n",
    "\n",
    "                masks_frame = segment(frame)\n",
    "                ### convert to chunked dask array\n",
    "                masks_frame = da.from_array(masks_frame, chunks=frame.chunksize)\n",
    "                ### append to z stack\n",
    "                z_mask_stack.append(masks_frame)\n",
    "                ### use chunk information to iterative save out individual tiles\n",
    "                for chunk in chunk_info:\n",
    "                    fn = chunk.fuse_info['file']\n",
    "#                         x, y = chunk.fuse_info['transform'][0:2,2].astype(int)\n",
    "#                         crops = tuple((slice(x, x+2016), slice(y, y+2016)))\n",
    "                    ID = int((regex.findall(fn))[0])\n",
    "                    crops = lazy_hack[ID]\n",
    "                    save_out_mask = masks_frame[crops]\n",
    "                    new_fn = fn.replace('ch1', 'ch99')\n",
    "                    if new_fn == fn:\n",
    "                        raise Exception(f\"Tried overwriting file {fn}\") \n",
    "                    else:\n",
    "                        imsave(new_fn, save_out_mask, check_contrast=False)\n",
    "            ### collect stitched frames together into time stack\n",
    "            z_stack.append(frame)\n",
    "        ### stack channel series together (images)\n",
    "        c_stack.append(z_stack)\n",
    "    ### stack together timewise\n",
    "    t_stack.append(c_stack)\n",
    "    t_mask_stack.append(z_mask_stack)\n",
    "### stack stitched dask arrays together into multidim image volumes\n",
    "images[(int(row), int(col))] = da.stack([da.stack(c_stack, axis = 0) for c_stack in t_stack])\n",
    "masks[(int(row), int(col))] = da.stack(t_mask_stack)"
   ]
  },
  {
   "cell_type": "code",
   "execution_count": null,
   "id": "8fca1ecc",
   "metadata": {},
   "outputs": [],
   "source": [
    "new_fn"
   ]
  },
  {
   "cell_type": "code",
   "execution_count": null,
   "id": "2f2c1f4a",
   "metadata": {},
   "outputs": [],
   "source": [
    "frame, chunk_info = tile.stitch(load_transform_image,\n",
    "                                    df, \n",
    "                                    image_dir, \n",
    "                                    time, \n",
    "                                    plane, \n",
    "                                    channel, \n",
    "                                    row, \n",
    "                                    col, \n",
    "                                    chunk_fraction)"
   ]
  },
  {
   "cell_type": "code",
   "execution_count": null,
   "id": "afc45e38",
   "metadata": {},
   "outputs": [],
   "source": [
    "from skimage.io import imshow"
   ]
  },
  {
   "cell_type": "code",
   "execution_count": null,
   "id": "377e5607",
   "metadata": {},
   "outputs": [],
   "source": [
    "imshow(frame)"
   ]
  },
  {
   "cell_type": "code",
   "execution_count": null,
   "id": "ea4dbdb4",
   "metadata": {},
   "outputs": [],
   "source": []
  },
  {
   "cell_type": "code",
   "execution_count": null,
   "id": "aa65bfe9",
   "metadata": {},
   "outputs": [],
   "source": [
    "row, col, time, channel, plane"
   ]
  },
  {
   "cell_type": "code",
   "execution_count": null,
   "id": "5a349873",
   "metadata": {},
   "outputs": [],
   "source": [
    "filtered_df = df[(df['TimepointID'] == time)\n",
    "                   &(df['PlaneID'] == plane)\n",
    "                   &(df['ChannelID'] == channel)\n",
    "                   &(df['Row'] == row)\n",
    "                   &(df['Col'] == col)\n",
    "                    ]"
   ]
  },
  {
   "cell_type": "markdown",
   "id": "e067f01c",
   "metadata": {},
   "source": [
    "# Check segment"
   ]
  },
  {
   "cell_type": "code",
   "execution_count": null,
   "id": "d3dfb477",
   "metadata": {},
   "outputs": [],
   "source": [
    "v = napari.Viewer()\n",
    "v.add_image(images[(3, 4)],\n",
    "            channel_axis=1,\n",
    "            name=[\"macrophage\", \"mtb\"],\n",
    "            colormap=[\"green\", \"magenta\"],\n",
    "            )  \n",
    "# v.add_image(images[(3, 4)])\n",
    "v.add_labels(masks[(3, 4)])"
   ]
  },
  {
   "cell_type": "code",
   "execution_count": null,
   "id": "8db68814",
   "metadata": {},
   "outputs": [],
   "source": []
  },
  {
   "cell_type": "code",
   "execution_count": null,
   "id": "9c7d6850",
   "metadata": {},
   "outputs": [],
   "source": []
  }
 ],
 "metadata": {
  "kernelspec": {
   "display_name": "aero",
   "language": "python",
   "name": "aero"
  },
  "language_info": {
   "codemirror_mode": {
    "name": "ipython",
    "version": 3
   },
   "file_extension": ".py",
   "mimetype": "text/x-python",
   "name": "python",
   "nbconvert_exporter": "python",
   "pygments_lexer": "ipython3",
   "version": "3.9.12"
  }
 },
 "nbformat": 4,
 "nbformat_minor": 5
}
