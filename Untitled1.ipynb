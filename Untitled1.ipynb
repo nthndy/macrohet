{
 "cells": [
  {
   "cell_type": "code",
   "execution_count": 1,
   "id": "2f0af5b5-2a6a-4b64-867c-abb5f31996ee",
   "metadata": {},
   "outputs": [],
   "source": [
    "import os"
   ]
  },
  {
   "cell_type": "code",
   "execution_count": 2,
   "id": "d78e13d3-86b2-4fdd-aa61-4fa8ebf404db",
   "metadata": {},
   "outputs": [],
   "source": [
    "target_directory = \"/run/user/30046150/gvfs/smb-share:server=data2.thecrick.org,share=lab-gutierrezm/data/STPs/electron_microscopy/inputs/gutierrezm\"\n"
   ]
  },
  {
   "cell_type": "code",
   "execution_count": 3,
   "id": "e4b2aa36-067a-49cb-9337-726f7d603586",
   "metadata": {},
   "outputs": [
    {
     "data": {
      "text/plain": [
       "True"
      ]
     },
     "execution_count": 3,
     "metadata": {},
     "output_type": "execute_result"
    }
   ],
   "source": [
    "os.path.exists(target_directory)"
   ]
  },
  {
   "cell_type": "code",
   "execution_count": null,
   "id": "d34d3ff0-a6bc-4a98-b347-9d09d516795b",
   "metadata": {},
   "outputs": [],
   "source": [
    "os.path.exists()"
   ]
  },
  {
   "cell_type": "code",
   "execution_count": 7,
   "id": "ff1e3421-d981-407e-88d8-2cf312ce7575",
   "metadata": {},
   "outputs": [
    {
     "name": "stdout",
     "output_type": "stream",
     "text": [
      "['tony images', 'P0395', 'P0423', 'TbAd samples', '.smbdeleteAAA9847f4d', '20230207_tomo', 'Report-2018-11-22-2.doc', 'Enrica', 'Staining', 'gutierrezm', 'MicroCT Data', 'mito 20201019', 'akriti', 'HPF', '.DS_Store', 'array tomography', '2. Advanced Training', 'TEM', 'P0351', 'SEM', '1. Basic Training', 'Elliott Bernard']\n",
      "['tony images', 'P0395', 'P0423', 'TbAd samples', '.smbdeleteAAA9847f4d', '20230207_tomo', 'Report-2018-11-22-2.doc', 'Enrica', 'Staining', 'gutierrezm', 'MicroCT Data', 'mito 20201019', 'akriti', 'HPF', '.DS_Store', 'array tomography', '2. Advanced Training', 'TEM', 'P0351', 'SEM', '1. Basic Training', 'Elliott Bernard']\n",
      "['tony images', 'P0395', 'P0423', 'TbAd samples', '.smbdeleteAAA9847f4d', '20230207_tomo', 'Report-2018-11-22-2.doc', 'Enrica', 'Staining', 'gutierrezm', 'MicroCT Data', 'mito 20201019', 'akriti', 'HPF', '.DS_Store', 'array tomography', '2. Advanced Training', 'TEM', 'P0351', 'SEM', '1. Basic Training', 'Elliott Bernard']\n",
      "['tony images', 'P0395', 'P0423', 'TbAd samples', '.smbdeleteAAA9847f4d', '20230207_tomo', 'Report-2018-11-22-2.doc', 'Enrica', 'Staining', 'gutierrezm', 'MicroCT Data', 'mito 20201019', 'akriti', 'HPF', '.DS_Store', 'array tomography', '2. Advanced Training', 'TEM', 'P0351', 'SEM', '1. Basic Training', 'Elliott Bernard']\n",
      "['tony images', 'P0395', 'P0423', 'TbAd samples', '.smbdeleteAAA9847f4d', '20230207_tomo', 'Report-2018-11-22-2.doc', 'Enrica', 'Staining', 'gutierrezm', 'MicroCT Data', 'mito 20201019', 'akriti', 'HPF', '.DS_Store', 'array tomography', '2. Advanced Training', 'TEM', 'P0351', 'SEM', '1. Basic Training', 'Elliott Bernard']\n",
      "['tony images', 'P0395', 'P0423', 'TbAd samples', '.smbdeleteAAA9847f4d', '20230207_tomo', 'Report-2018-11-22-2.doc', 'Enrica', 'Staining', 'gutierrezm', 'MicroCT Data', 'mito 20201019', 'akriti', 'HPF', '.DS_Store', 'array tomography', '2. Advanced Training', 'TEM', 'P0351', 'SEM', '1. Basic Training', 'Elliott Bernard']\n",
      "['tony images', 'P0395', 'P0423', 'TbAd samples', '.smbdeleteAAA9847f4d', '20230207_tomo', 'Report-2018-11-22-2.doc', 'Enrica', 'Staining', 'gutierrezm', 'MicroCT Data', 'mito 20201019', 'akriti', 'HPF', '.DS_Store', 'array tomography', '2. Advanced Training', 'TEM', 'P0351', 'SEM', '1. Basic Training', 'Elliott Bernard']\n",
      "['tony images', 'P0395', 'P0423', 'TbAd samples', '.smbdeleteAAA9847f4d', '20230207_tomo', 'Report-2018-11-22-2.doc', 'Enrica', 'Staining', 'gutierrezm', 'MicroCT Data', 'mito 20201019', 'akriti', 'HPF', '.DS_Store', 'array tomography', '2. Advanced Training', 'TEM', 'P0351', 'SEM', '1. Basic Training', 'Elliott Bernard']\n",
      "['tony images', 'P0395', 'P0423', 'TbAd samples', '.smbdeleteAAA9847f4d', '20230207_tomo', 'Report-2018-11-22-2.doc', 'Enrica', 'Staining', 'gutierrezm', 'MicroCT Data', 'mito 20201019', 'akriti', 'HPF', '.DS_Store', 'array tomography', '2. Advanced Training', 'TEM', 'P0351', 'SEM', '1. Basic Training', 'Elliott Bernard']\n",
      "['tony images', 'P0395', 'P0423', 'TbAd samples', '.smbdeleteAAA9847f4d', '20230207_tomo', 'Report-2018-11-22-2.doc', 'Enrica', 'Staining', 'gutierrezm', 'MicroCT Data', 'mito 20201019', 'akriti', 'HPF', '.DS_Store', 'array tomography', '2. Advanced Training', 'TEM', 'P0351', 'SEM', '1. Basic Training', 'Elliott Bernard']\n",
      "['tony images', 'P0395', 'P0423', 'TbAd samples', '.smbdeleteAAA9847f4d', '20230207_tomo', 'Report-2018-11-22-2.doc', 'Enrica', 'Staining', 'gutierrezm', 'MicroCT Data', 'mito 20201019', 'akriti', 'HPF', '.DS_Store', 'array tomography', '2. Advanced Training', 'TEM', 'P0351', 'SEM', '1. Basic Training', 'Elliott Bernard']\n",
      "['tony images', 'P0395', 'P0423', 'TbAd samples', '.smbdeleteAAA9847f4d', '20230207_tomo', 'Report-2018-11-22-2.doc', 'Enrica', 'Staining', 'gutierrezm', 'MicroCT Data', 'mito 20201019', 'akriti', 'HPF', '.DS_Store', 'array tomography', '2. Advanced Training', 'TEM', 'P0351', 'SEM', '1. Basic Training', 'Elliott Bernard']\n",
      "['tony images', 'P0395', 'P0423', 'TbAd samples', '.smbdeleteAAA9847f4d', '20230207_tomo', 'Report-2018-11-22-2.doc', 'Enrica', 'Staining', 'gutierrezm', 'MicroCT Data', 'mito 20201019', 'akriti', 'HPF', '.DS_Store', 'array tomography', '2. Advanced Training', 'TEM', 'P0351', 'SEM', '1. Basic Training', 'Elliott Bernard']\n",
      "['tony images', 'P0395', 'P0423', 'TbAd samples', '.smbdeleteAAA9847f4d', '20230207_tomo', 'Report-2018-11-22-2.doc', 'Enrica', 'Staining', 'gutierrezm', 'MicroCT Data', 'mito 20201019', 'akriti', 'HPF', '.DS_Store', 'array tomography', '2. Advanced Training', 'TEM', 'P0351', 'SEM', '1. Basic Training', 'Elliott Bernard']\n",
      "['tony images', 'P0395', 'P0423', 'TbAd samples', '.smbdeleteAAA9847f4d', '20230207_tomo', 'Report-2018-11-22-2.doc', 'Enrica', 'Staining', 'gutierrezm', 'MicroCT Data', 'mito 20201019', 'akriti', 'HPF', '.DS_Store', 'array tomography', '2. Advanced Training', 'TEM', 'P0351', 'SEM', '1. Basic Training', 'Elliott Bernard']\n",
      "['tony images', 'P0395', 'P0423', 'TbAd samples', '.smbdeleteAAA9847f4d', '20230207_tomo', 'Report-2018-11-22-2.doc', 'Enrica', 'Staining', 'gutierrezm', 'MicroCT Data', 'mito 20201019', 'akriti', 'HPF', '.DS_Store', 'array tomography', '2. Advanced Training', 'TEM', 'P0351', 'SEM', '1. Basic Training', 'Elliott Bernard']\n",
      "['tony images', 'P0395', 'P0423', 'TbAd samples', '.smbdeleteAAA9847f4d', '20230207_tomo', 'Report-2018-11-22-2.doc', 'Enrica', 'Staining', 'gutierrezm', 'MicroCT Data', 'mito 20201019', 'akriti', 'HPF', '.DS_Store', 'array tomography', '2. Advanced Training', 'TEM', 'P0351', 'SEM', '1. Basic Training', 'Elliott Bernard']\n",
      "['tony images', 'P0395', 'P0423', 'TbAd samples', '.smbdeleteAAA9847f4d', '20230207_tomo', 'Report-2018-11-22-2.doc', 'Enrica', 'Staining', 'MicroCT Data', 'mito 20201019', 'akriti', 'HPF', '.DS_Store', 'array tomography', '2. Advanced Training', 'TEM', 'P0351', 'SEM', '1. Basic Training', 'Elliott Bernard']\n"
     ]
    },
    {
     "ename": "OSError",
     "evalue": "[Errno 5] Input/output error: '/run/user/30046150/gvfs/smb-share:server=data2.thecrick.org,share=lab-gutierrezm/data/STPs/electron_microscopy/inputs/gutierrezm/gutierrezm/gutierrezm/gutierrezm/gutierrezm/gutierrezm/gutierrezm/gutierrezm/gutierrezm/gutierrezm/gutierrezm/gutierrezm/gutierrezm/gutierrezm/gutierrezm/gutierrezm/gutierrezm/gutierrezm/gutierrezm/gutierrezm'",
     "output_type": "error",
     "traceback": [
      "\u001b[0;31m---------------------------------------------------------------------------\u001b[0m",
      "\u001b[0;31mOSError\u001b[0m                                   Traceback (most recent call last)",
      "Cell \u001b[0;32mIn[7], line 3\u001b[0m\n\u001b[1;32m      1\u001b[0m \u001b[38;5;28;01mfor\u001b[39;00m i \u001b[38;5;129;01min\u001b[39;00m \u001b[38;5;28mrange\u001b[39m(\u001b[38;5;241m0\u001b[39m,\u001b[38;5;241m100\u001b[39m):\n\u001b[1;32m      2\u001b[0m     \u001b[38;5;28;01mif\u001b[39;00m os\u001b[38;5;241m.\u001b[39mpath\u001b[38;5;241m.\u001b[39mexists(target_directory):\n\u001b[0;32m----> 3\u001b[0m         \u001b[38;5;28mprint\u001b[39m(\u001b[43mos\u001b[49m\u001b[38;5;241;43m.\u001b[39;49m\u001b[43mlistdir\u001b[49m\u001b[43m(\u001b[49m\u001b[43mtarget_directory\u001b[49m\u001b[38;5;241;43m+\u001b[39;49m\u001b[38;5;124;43m'\u001b[39;49m\u001b[38;5;124;43m/gutierrezm\u001b[39;49m\u001b[38;5;124;43m'\u001b[39;49m\u001b[43m)\u001b[49m)\n\u001b[1;32m      4\u001b[0m         target_directory \u001b[38;5;241m=\u001b[39m target_directory\u001b[38;5;241m+\u001b[39m\u001b[38;5;124m'\u001b[39m\u001b[38;5;124m/gutierrezm\u001b[39m\u001b[38;5;124m'\u001b[39m\n\u001b[1;32m      5\u001b[0m     \u001b[38;5;28;01melse\u001b[39;00m:\n",
      "\u001b[0;31mOSError\u001b[0m: [Errno 5] Input/output error: '/run/user/30046150/gvfs/smb-share:server=data2.thecrick.org,share=lab-gutierrezm/data/STPs/electron_microscopy/inputs/gutierrezm/gutierrezm/gutierrezm/gutierrezm/gutierrezm/gutierrezm/gutierrezm/gutierrezm/gutierrezm/gutierrezm/gutierrezm/gutierrezm/gutierrezm/gutierrezm/gutierrezm/gutierrezm/gutierrezm/gutierrezm/gutierrezm/gutierrezm'"
     ]
    }
   ],
   "source": [
    "for i in range(0,100):\n",
    "    if os.path.exists(target_directory):\n",
    "        print(os.listdir(target_directory+'/gutierrezm'))\n",
    "        target_directory = target_directory+'/gutierrezm'\n",
    "    else:\n",
    "        print(i)"
   ]
  }
 ],
 "metadata": {
  "kernelspec": {
   "display_name": "egg",
   "language": "python",
   "name": "egg"
  },
  "language_info": {
   "codemirror_mode": {
    "name": "ipython",
    "version": 3
   },
   "file_extension": ".py",
   "mimetype": "text/x-python",
   "name": "python",
   "nbconvert_exporter": "python",
   "pygments_lexer": "ipython3",
   "version": "3.9.17"
  }
 },
 "nbformat": 4,
 "nbformat_minor": 5
}
